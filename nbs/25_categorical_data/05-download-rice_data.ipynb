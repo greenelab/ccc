{
 "cells": [
  {
   "cell_type": "markdown",
   "id": "3fef26b2-7f66-4bad-8441-9c3862e63447",
   "metadata": {},
   "source": [
    "# Description"
   ]
  },
  {
   "cell_type": "markdown",
   "id": "8027fb20-5354-4984-a493-1d8521f7471a",
   "metadata": {},
   "source": [
    "This notebook downloads the expression dataset described in:\n",
    "* https://pubmed.ncbi.nlm.nih.gov/27655842/\n",
    "* https://doi.org/10.1093/bib/bbab495"
   ]
  },
  {
   "cell_type": "markdown",
   "id": "cc550f01-7630-4da0-8d12-6a2810fd553a",
   "metadata": {},
   "source": [
    "# Define magic"
   ]
  },
  {
   "cell_type": "code",
   "execution_count": 1,
   "id": "2a4c5390-731a-4247-8aa1-2ee97d10d955",
   "metadata": {},
   "outputs": [],
   "source": [
    "from IPython import get_ipython\n",
    "from IPython.core.magic import register_cell_magic\n",
    "\n",
    "ipython = get_ipython()\n",
    "\n",
    "\n",
    "@register_cell_magic\n",
    "def pybash(line, cell):\n",
    "    ipython.run_cell_magic('bash', '', cell.format(**globals()))"
   ]
  },
  {
   "cell_type": "markdown",
   "id": "5812b7c3-a989-4c76-881c-2e88f5c82b29",
   "metadata": {},
   "source": [
    "# Modules"
   ]
  },
  {
   "cell_type": "code",
   "execution_count": 2,
   "id": "79451a3b-f849-4d4f-a103-83da03655157",
   "metadata": {},
   "outputs": [],
   "source": [
    "from ccc import conf"
   ]
  },
  {
   "cell_type": "markdown",
   "id": "d7506c18-ecd1-44d6-b9bc-8ceb2c941ede",
   "metadata": {},
   "source": [
    "# Install pysradb"
   ]
  },
  {
   "cell_type": "code",
   "execution_count": 3,
   "id": "1b991d7b-de5c-43e2-ba5e-7a64e2b7883f",
   "metadata": {},
   "outputs": [
    {
     "data": {
      "text/plain": [
       "PosixPath('/opt/data/software/conda_envs/pysradb')"
      ]
     },
     "metadata": {},
     "output_type": "display_data"
    }
   ],
   "source": [
    "conda_env = conf.CONDA_ENVS_DIR / \"pysradb\"\n",
    "conda_env.parent.mkdir(parents=True, exist_ok=True)\n",
    "display(conda_env)"
   ]
  },
  {
   "cell_type": "code",
   "execution_count": 4,
   "id": "8ee331f5-834e-495e-8aef-149cbde61f75",
   "metadata": {},
   "outputs": [
    {
     "name": "stdout",
     "output_type": "stream",
     "text": [
      "Collecting package metadata (current_repodata.json): ...working... done\n",
      "Solving environment: ...working... done\n",
      "\n",
      "## Package Plan ##\n",
      "\n",
      "  environment location: /opt/data/software/conda_envs/pysradb\n",
      "\n",
      "  added / updated specs:\n",
      "    - pysradb=2.0\n",
      "    - python=3.10\n",
      "\n",
      "\n",
      "The following NEW packages will be INSTALLED:\n",
      "\n",
      "  _libgcc_mutex      pkgs/main/linux-64::_libgcc_mutex-0.1-main\n",
      "  _openmp_mutex      pkgs/main/linux-64::_openmp_mutex-5.1-1_gnu\n",
      "  blas               pkgs/main/linux-64::blas-1.0-mkl\n",
      "  bottleneck         pkgs/main/linux-64::bottleneck-1.3.5-py310ha9d4c09_0\n",
      "  brotlipy           pkgs/main/linux-64::brotlipy-0.7.0-py310h7f8727e_1002\n",
      "  bzip2              pkgs/main/linux-64::bzip2-1.0.8-h7b6447c_0\n",
      "  ca-certificates    pkgs/main/linux-64::ca-certificates-2023.01.10-h06a4308_0\n",
      "  certifi            pkgs/main/linux-64::certifi-2023.5.7-py310h06a4308_0\n",
      "  cffi               pkgs/main/linux-64::cffi-1.15.1-py310h5eee18b_3\n",
      "  charset-normalizer pkgs/main/noarch::charset-normalizer-2.0.4-pyhd3eb1b0_0\n",
      "  cryptography       pkgs/main/linux-64::cryptography-39.0.1-py310h9ce1e76_0\n",
      "  icu                pkgs/main/linux-64::icu-58.2-he6710b0_3\n",
      "  idna               pkgs/main/linux-64::idna-3.4-py310h06a4308_0\n",
      "  intel-openmp       pkgs/main/linux-64::intel-openmp-2023.1.0-hdb19cb5_46305\n",
      "  ld_impl_linux-64   pkgs/main/linux-64::ld_impl_linux-64-2.38-h1181459_1\n",
      "  libffi             pkgs/main/linux-64::libffi-3.4.4-h6a678d5_0\n",
      "  libgcc-ng          pkgs/main/linux-64::libgcc-ng-11.2.0-h1234567_1\n",
      "  libgomp            pkgs/main/linux-64::libgomp-11.2.0-h1234567_1\n",
      "  libstdcxx-ng       pkgs/main/linux-64::libstdcxx-ng-11.2.0-h1234567_1\n",
      "  libuuid            pkgs/main/linux-64::libuuid-1.41.5-h5eee18b_0\n",
      "  libxml2            pkgs/main/linux-64::libxml2-2.10.3-hcbfbd50_0\n",
      "  libxslt            pkgs/main/linux-64::libxslt-1.1.37-h2085143_0\n",
      "  lxml               pkgs/main/linux-64::lxml-4.9.2-py310h5eee18b_0\n",
      "  mkl                pkgs/main/linux-64::mkl-2023.1.0-h6d00ec8_46342\n",
      "  mkl-service        pkgs/main/linux-64::mkl-service-2.4.0-py310h5eee18b_1\n",
      "  mkl_fft            pkgs/main/linux-64::mkl_fft-1.3.6-py310h1128e8f_1\n",
      "  mkl_random         pkgs/main/linux-64::mkl_random-1.2.2-py310h1128e8f_1\n",
      "  ncurses            pkgs/main/linux-64::ncurses-6.4-h6a678d5_0\n",
      "  numexpr            pkgs/main/linux-64::numexpr-2.8.4-py310h85018f9_1\n",
      "  numpy              pkgs/main/linux-64::numpy-1.24.3-py310h5f9d8c6_1\n",
      "  numpy-base         pkgs/main/linux-64::numpy-base-1.24.3-py310hb5e798b_1\n",
      "  openssl            pkgs/main/linux-64::openssl-1.1.1t-h7f8727e_0\n",
      "  pandas             pkgs/main/linux-64::pandas-1.5.3-py310h1128e8f_0\n",
      "  pip                pkgs/main/linux-64::pip-23.0.1-py310h06a4308_0\n",
      "  pycparser          pkgs/main/noarch::pycparser-2.21-pyhd3eb1b0_0\n",
      "  pyopenssl          pkgs/main/linux-64::pyopenssl-23.0.0-py310h06a4308_0\n",
      "  pysocks            pkgs/main/linux-64::pysocks-1.7.1-py310h06a4308_0\n",
      "  pysradb            bioconda/noarch::pysradb-2.0.2-pyhdfd78af_0\n",
      "  python             pkgs/main/linux-64::python-3.10.11-h7a1cb2a_2\n",
      "  python-dateutil    pkgs/main/noarch::python-dateutil-2.8.2-pyhd3eb1b0_0\n",
      "  pytz               pkgs/main/linux-64::pytz-2022.7-py310h06a4308_0\n",
      "  readline           pkgs/main/linux-64::readline-8.2-h5eee18b_0\n",
      "  requests           pkgs/main/linux-64::requests-2.29.0-py310h06a4308_0\n",
      "  requests-ftp       pkgs/main/linux-64::requests-ftp-0.3.1-py310h06a4308_1\n",
      "  setuptools         pkgs/main/linux-64::setuptools-66.0.0-py310h06a4308_0\n",
      "  six                pkgs/main/noarch::six-1.16.0-pyhd3eb1b0_1\n",
      "  sqlite             pkgs/main/linux-64::sqlite-3.41.2-h5eee18b_0\n",
      "  tbb                pkgs/main/linux-64::tbb-2021.8.0-hdb19cb5_0\n",
      "  tk                 pkgs/main/linux-64::tk-8.6.12-h1ccaba5_0\n",
      "  tqdm               pkgs/main/linux-64::tqdm-4.65.0-py310h2f386ee_0\n",
      "  tzdata             pkgs/main/noarch::tzdata-2023c-h04d1e81_0\n",
      "  urllib3            pkgs/main/linux-64::urllib3-1.26.15-py310h06a4308_0\n",
      "  wheel              pkgs/main/linux-64::wheel-0.38.4-py310h06a4308_0\n",
      "  xmltodict          pkgs/main/noarch::xmltodict-0.12.0-pyhd3eb1b0_0\n",
      "  xz                 pkgs/main/linux-64::xz-5.4.2-h5eee18b_0\n",
      "  zlib               pkgs/main/linux-64::zlib-1.2.13-h5eee18b_0\n",
      "\n",
      "\n",
      "Preparing transaction: ...working... done\n",
      "Verifying transaction: ...working... done\n",
      "Executing transaction: ...working... done\n",
      "#\n",
      "# To activate this environment, use\n",
      "#\n",
      "#     $ conda activate /opt/data/software/conda_envs/pysradb\n",
      "#\n",
      "# To deactivate an active environment, use\n",
      "#\n",
      "#     $ conda deactivate\n",
      "\n"
     ]
    },
    {
     "name": "stderr",
     "output_type": "stream",
     "text": [
      "\n",
      "\n",
      "==> WARNING: A newer version of conda exists. <==\n",
      "  current version: 4.11.0\n",
      "  latest version: 23.3.1\n",
      "\n",
      "Please update conda by running\n",
      "\n",
      "    $ conda update -n base -c defaults conda\n",
      "\n",
      "\n"
     ]
    }
   ],
   "source": [
    "%%pybash\n",
    ". ~/.bashrc\n",
    "conda create -y -p {conda_env} -c bioconda python=3.10.* pysradb=2.0.*"
   ]
  },
  {
   "cell_type": "code",
   "execution_count": 5,
   "id": "abf2a5d2-e91a-41d7-8bcf-8ed56c71dd1d",
   "metadata": {},
   "outputs": [
    {
     "name": "stdout",
     "output_type": "stream",
     "text": [
      "Python 3.10.11\n"
     ]
    }
   ],
   "source": [
    "%%pybash\n",
    ". ~/.bashrc\n",
    "conda activate {conda_env}\n",
    "python --version"
   ]
  },
  {
   "cell_type": "code",
   "execution_count": 6,
   "id": "dc7f1ccd-335a-49cc-806d-33b4c2ff1642",
   "metadata": {},
   "outputs": [
    {
     "name": "stdout",
     "output_type": "stream",
     "text": [
      "pysradb 2.0.2\n"
     ]
    }
   ],
   "source": [
    "%%pybash\n",
    ". ~/.bashrc\n",
    "conda activate {conda_env}\n",
    "\n",
    "pysradb --version"
   ]
  },
  {
   "cell_type": "markdown",
   "id": "3c574f4a-bfed-4384-8d29-f147b9daba3c",
   "metadata": {},
   "source": [
    "# Download processed gene expression data"
   ]
  },
  {
   "cell_type": "code",
   "execution_count": 7,
   "id": "9aaafecc-60dc-4c76-965c-b117c483352d",
   "metadata": {},
   "outputs": [
    {
     "data": {
      "text/plain": [
       "PosixPath('/opt/data/data/rice')"
      ]
     },
     "metadata": {},
     "output_type": "display_data"
    }
   ],
   "source": [
    "download_dir = conf.DATA_DIR / \"rice\"\n",
    "download_dir.mkdir(parents=True, exist_ok=True)\n",
    "display(download_dir)"
   ]
  },
  {
   "cell_type": "code",
   "execution_count": 8,
   "id": "82941b7f-5d7c-49b1-a14b-ef67ea99aa6d",
   "metadata": {},
   "outputs": [
    {
     "name": "stdout",
     "output_type": "stream",
     "text": [
      "\n",
      "The following files will be downloaded: \n",
      "\n",
      "GSE74793_processed-data.txt.gz\n",
      "\n",
      "\n"
     ]
    },
    {
     "name": "stderr",
     "output_type": "stream",
     "text": [
      "Downloading GSE74793_processed-data.txt.gz: 95.4MB [00:00, 1.14GB/s]                   \n"
     ]
    }
   ],
   "source": [
    "%%pybash\n",
    ". ~/.bashrc\n",
    "conda activate {conda_env}\n",
    "\n",
    "# download\n",
    "pysradb download -g GSE74793 --out-dir {download_dir}\n",
    "\n",
    "# rename file\n",
    "mv {download_dir}/GSE74793/GSE74793_processed-data.txt.gz {download_dir}/gene_expr_processed-data.txt.gz\n",
    "rm -rf {download_dir}/GSE74793/"
   ]
  },
  {
   "cell_type": "markdown",
   "id": "08849874-4b5b-4579-b595-323f40058fc9",
   "metadata": {},
   "source": [
    "# Download metadata"
   ]
  },
  {
   "cell_type": "code",
   "execution_count": 9,
   "id": "ca80a0f5-6c2e-4d26-ad06-45335cf3352a",
   "metadata": {},
   "outputs": [],
   "source": [
    "%%pybash\n",
    "{conda_env}/bin/pysradb metadata PRJNA301554 --detailed --saveto {download_dir}/metadata.tsv"
   ]
  },
  {
   "cell_type": "code",
   "execution_count": null,
   "id": "bd7721da-724b-4714-b7dd-a855c761e342",
   "metadata": {},
   "outputs": [],
   "source": []
  }
 ],
 "metadata": {
  "jupytext": {
   "cell_metadata_filter": "all,-execution,-papermill,-trusted",
   "text_representation": {
    "extension": ".py",
    "format_name": "percent",
    "format_version": "1.3",
    "jupytext_version": "1.11.5"
   }
  },
  "kernelspec": {
   "display_name": "Python 3 (ipykernel)",
   "language": "python",
   "name": "python3"
  },
  "language_info": {
   "codemirror_mode": {
    "name": "ipython",
    "version": 3
   },
   "file_extension": ".py",
   "mimetype": "text/x-python",
   "name": "python",
   "nbconvert_exporter": "python",
   "pygments_lexer": "ipython3",
   "version": "3.9.12"
  }
 },
 "nbformat": 4,
 "nbformat_minor": 5
}
