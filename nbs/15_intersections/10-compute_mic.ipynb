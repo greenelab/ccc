{
 "cells": [
  {
   "cell_type": "markdown",
   "id": "87e0ce1b-7ce6-4499-9342-5ded05307598",
   "metadata": {
    "papermill": {
     "duration": 0.020456,
     "end_time": "2022-01-25T21:52:19.091656",
     "exception": false,
     "start_time": "2022-01-25T21:52:19.071200",
     "status": "completed"
    },
    "tags": []
   },
   "source": [
    "# Description"
   ]
  },
  {
   "cell_type": "markdown",
   "id": "4bfc7115-350a-441b-9a19-7626a948a694",
   "metadata": {
    "papermill": {
     "duration": 0.019366,
     "end_time": "2022-01-25T21:52:19.130607",
     "exception": false,
     "start_time": "2022-01-25T21:52:19.111241",
     "status": "completed"
    },
    "tags": []
   },
   "source": [
    "TODO"
   ]
  },
  {
   "cell_type": "markdown",
   "id": "e020c781-238b-43c2-8cad-2722b8a240e2",
   "metadata": {
    "papermill": {
     "duration": 0.019471,
     "end_time": "2022-01-25T21:52:19.169934",
     "exception": false,
     "start_time": "2022-01-25T21:52:19.150463",
     "status": "completed"
    },
    "tags": []
   },
   "source": [
    "# Modules"
   ]
  },
  {
   "cell_type": "code",
   "execution_count": 1,
   "id": "a819bfbc-5009-4c68-ba8d-37d0979d368f",
   "metadata": {
    "execution": {
     "iopub.execute_input": "2022-01-25T21:52:19.217475Z",
     "iopub.status.busy": "2022-01-25T21:52:19.217025Z",
     "iopub.status.idle": "2022-01-25T21:52:19.461323Z",
     "shell.execute_reply": "2022-01-25T21:52:19.460866Z"
    },
    "papermill": {
     "duration": 0.27202,
     "end_time": "2022-01-25T21:52:19.461441",
     "exception": false,
     "start_time": "2022-01-25T21:52:19.189421",
     "status": "completed"
    },
    "tags": []
   },
   "outputs": [],
   "source": [
    "import pandas as pd\n",
    "import numpy as np\n",
    "\n",
    "from clustermatch import conf"
   ]
  },
  {
   "cell_type": "markdown",
   "id": "b4834387-58ff-468c-b326-85c408bc5feb",
   "metadata": {
    "papermill": {
     "duration": 0.020445,
     "end_time": "2022-01-25T21:52:19.502467",
     "exception": false,
     "start_time": "2022-01-25T21:52:19.482022",
     "status": "completed"
    },
    "tags": []
   },
   "source": [
    "# Settings"
   ]
  },
  {
   "cell_type": "code",
   "execution_count": 2,
   "id": "765e820a-4518-4bbc-a00f-14c9cea03821",
   "metadata": {
    "execution": {
     "iopub.execute_input": "2022-01-25T21:52:19.548594Z",
     "iopub.status.busy": "2022-01-25T21:52:19.548097Z",
     "iopub.status.idle": "2022-01-25T21:52:19.550271Z",
     "shell.execute_reply": "2022-01-25T21:52:19.549795Z"
    },
    "papermill": {
     "duration": 0.02669,
     "end_time": "2022-01-25T21:52:19.550364",
     "exception": false,
     "start_time": "2022-01-25T21:52:19.523674",
     "status": "completed"
    },
    "tags": []
   },
   "outputs": [],
   "source": [
    "DATASET_CONFIG = conf.GTEX\n",
    "GTEX_TISSUE = \"whole_blood\"\n",
    "GENE_SEL_STRATEGY = \"var_pc_log2\""
   ]
  },
  {
   "cell_type": "code",
   "execution_count": 3,
   "id": "ca79812d-c519-408c-bea8-9fc177e71d72",
   "metadata": {
    "execution": {
     "iopub.execute_input": "2022-01-25T21:52:19.594194Z",
     "iopub.status.busy": "2022-01-25T21:52:19.593751Z",
     "iopub.status.idle": "2022-01-25T21:52:19.595270Z",
     "shell.execute_reply": "2022-01-25T21:52:19.595603Z"
    },
    "papermill": {
     "duration": 0.025052,
     "end_time": "2022-01-25T21:52:19.595715",
     "exception": false,
     "start_time": "2022-01-25T21:52:19.570663",
     "status": "completed"
    },
    "tags": [
     "parameters"
    ]
   },
   "outputs": [],
   "source": [
    "# this cell has the \"parameters\" tag\n",
    "\n",
    "# size of gene pair groups to process in parallel\n",
    "CHUNK_SIZE = 50"
   ]
  },
  {
   "cell_type": "markdown",
   "id": "a1159982-5dd1-4494-97d4-0674eeead1c3",
   "metadata": {
    "papermill": {
     "duration": 0.019682,
     "end_time": "2022-01-25T21:52:19.635616",
     "exception": false,
     "start_time": "2022-01-25T21:52:19.615934",
     "status": "completed"
    },
    "tags": []
   },
   "source": [
    "# Paths"
   ]
  },
  {
   "cell_type": "code",
   "execution_count": 4,
   "id": "c6f73068-fa38-44be-bd0c-708f6ff450ea",
   "metadata": {
    "execution": {
     "iopub.execute_input": "2022-01-25T21:52:19.684305Z",
     "iopub.status.busy": "2022-01-25T21:52:19.682668Z",
     "iopub.status.idle": "2022-01-25T21:52:19.687586Z",
     "shell.execute_reply": "2022-01-25T21:52:19.687155Z"
    },
    "papermill": {
     "duration": 0.032056,
     "end_time": "2022-01-25T21:52:19.687683",
     "exception": false,
     "start_time": "2022-01-25T21:52:19.655627",
     "status": "completed"
    },
    "tags": []
   },
   "outputs": [
    {
     "data": {
      "text/plain": [
       "PosixPath('/opt/data/results/gtex_v8/gene_selection/gtex_v8_data_whole_blood-var_pc_log2.pkl')"
      ]
     },
     "metadata": {},
     "output_type": "display_data"
    }
   ],
   "source": [
    "INPUT_GENE_EXPR_FILE = (\n",
    "    DATASET_CONFIG[\"GENE_SELECTION_DIR\"]\n",
    "    / f\"gtex_v8_data_{GTEX_TISSUE}-{GENE_SEL_STRATEGY}.pkl\"\n",
    ")\n",
    "display(INPUT_GENE_EXPR_FILE)\n",
    "\n",
    "assert INPUT_GENE_EXPR_FILE.exists()"
   ]
  },
  {
   "cell_type": "code",
   "execution_count": 5,
   "id": "30cce6f5-ca1b-438c-859d-31903a42d4c6",
   "metadata": {
    "execution": {
     "iopub.execute_input": "2022-01-25T21:52:19.733752Z",
     "iopub.status.busy": "2022-01-25T21:52:19.733204Z",
     "iopub.status.idle": "2022-01-25T21:52:19.736171Z",
     "shell.execute_reply": "2022-01-25T21:52:19.736537Z"
    },
    "papermill": {
     "duration": 0.027436,
     "end_time": "2022-01-25T21:52:19.736675",
     "exception": false,
     "start_time": "2022-01-25T21:52:19.709239",
     "status": "completed"
    },
    "tags": []
   },
   "outputs": [
    {
     "data": {
      "text/plain": [
       "PosixPath('/opt/data/results/gtex_v8/gene_pair_intersections/gene_pair_intersections-gtex_v8-whole_blood-var_pc_log2-sample.pkl')"
      ]
     },
     "metadata": {},
     "output_type": "display_data"
    }
   ],
   "source": [
    "INPUT_GENE_PAIRS_INTERSECTIONS_FILE = (\n",
    "    DATASET_CONFIG[\"GENE_PAIR_INTERSECTIONS\"]\n",
    "    / f\"gene_pair_intersections-gtex_v8-{GTEX_TISSUE}-{GENE_SEL_STRATEGY}-sample.pkl\"\n",
    ")\n",
    "display(INPUT_GENE_PAIRS_INTERSECTIONS_FILE)\n",
    "\n",
    "assert INPUT_GENE_PAIRS_INTERSECTIONS_FILE.exists()"
   ]
  },
  {
   "cell_type": "code",
   "execution_count": 6,
   "id": "f4468c0e-c0ad-4bf5-b120-3f63e7afc33f",
   "metadata": {
    "execution": {
     "iopub.execute_input": "2022-01-25T21:52:19.786475Z",
     "iopub.status.busy": "2022-01-25T21:52:19.785886Z",
     "iopub.status.idle": "2022-01-25T21:52:19.788391Z",
     "shell.execute_reply": "2022-01-25T21:52:19.788767Z"
    },
    "papermill": {
     "duration": 0.029504,
     "end_time": "2022-01-25T21:52:19.788909",
     "exception": false,
     "start_time": "2022-01-25T21:52:19.759405",
     "status": "completed"
    },
    "tags": []
   },
   "outputs": [
    {
     "data": {
      "text/plain": [
       "PosixPath('/opt/data/results/gtex_v8/gene_pair_intersections/gene_pair_intersections-gtex_v8-whole_blood-var_pc_log2-sample-mic.pkl')"
      ]
     },
     "metadata": {},
     "output_type": "display_data"
    }
   ],
   "source": [
    "OUTPUT_FILE = (\n",
    "    INPUT_GENE_PAIRS_INTERSECTIONS_FILE.parent\n",
    "    / f\"{INPUT_GENE_PAIRS_INTERSECTIONS_FILE.stem}-mic.pkl\"\n",
    ")\n",
    "\n",
    "display(OUTPUT_FILE)"
   ]
  },
  {
   "cell_type": "markdown",
   "id": "f6d3322b-c8bb-4fc2-97b6-5bb1793b1577",
   "metadata": {
    "papermill": {
     "duration": 0.022064,
     "end_time": "2022-01-25T21:52:19.833425",
     "exception": false,
     "start_time": "2022-01-25T21:52:19.811361",
     "status": "completed"
    },
    "tags": []
   },
   "source": [
    "# Data"
   ]
  },
  {
   "cell_type": "markdown",
   "id": "0aa486d7-b624-4d20-a730-a9eb224bef6a",
   "metadata": {
    "papermill": {
     "duration": 0.022855,
     "end_time": "2022-01-25T21:52:19.879255",
     "exception": false,
     "start_time": "2022-01-25T21:52:19.856400",
     "status": "completed"
    },
    "tags": []
   },
   "source": [
    "## Gene expression"
   ]
  },
  {
   "cell_type": "code",
   "execution_count": 7,
   "id": "f73ca2b7-f7ff-47bc-90b0-32e0cfdb5ea6",
   "metadata": {
    "execution": {
     "iopub.execute_input": "2022-01-25T21:52:19.929433Z",
     "iopub.status.busy": "2022-01-25T21:52:19.928951Z",
     "iopub.status.idle": "2022-01-25T21:52:20.099091Z",
     "shell.execute_reply": "2022-01-25T21:52:20.098473Z"
    },
    "papermill": {
     "duration": 0.196807,
     "end_time": "2022-01-25T21:52:20.099217",
     "exception": false,
     "start_time": "2022-01-25T21:52:19.902410",
     "status": "completed"
    },
    "tags": []
   },
   "outputs": [],
   "source": [
    "gene_expr_dict = pd.read_pickle(INPUT_GENE_EXPR_FILE).T.to_dict(orient=\"series\")"
   ]
  },
  {
   "cell_type": "code",
   "execution_count": 8,
   "id": "3cba499a-e737-4da2-9841-f9a03719b3aa",
   "metadata": {
    "execution": {
     "iopub.execute_input": "2022-01-25T21:52:20.155001Z",
     "iopub.status.busy": "2022-01-25T21:52:20.154534Z",
     "iopub.status.idle": "2022-01-25T21:52:20.157067Z",
     "shell.execute_reply": "2022-01-25T21:52:20.156682Z"
    },
    "papermill": {
     "duration": 0.02998,
     "end_time": "2022-01-25T21:52:20.157164",
     "exception": false,
     "start_time": "2022-01-25T21:52:20.127184",
     "status": "completed"
    },
    "tags": []
   },
   "outputs": [
    {
     "data": {
      "text/plain": [
       "5000"
      ]
     },
     "execution_count": 8,
     "metadata": {},
     "output_type": "execute_result"
    }
   ],
   "source": [
    "len(gene_expr_dict)"
   ]
  },
  {
   "cell_type": "code",
   "execution_count": 9,
   "id": "df66fe70-9fe9-4351-9d30-f8dcc97725de",
   "metadata": {
    "execution": {
     "iopub.execute_input": "2022-01-25T21:52:20.208903Z",
     "iopub.status.busy": "2022-01-25T21:52:20.208420Z",
     "iopub.status.idle": "2022-01-25T21:52:20.210480Z",
     "shell.execute_reply": "2022-01-25T21:52:20.210827Z"
    },
    "papermill": {
     "duration": 0.031643,
     "end_time": "2022-01-25T21:52:20.210945",
     "exception": false,
     "start_time": "2022-01-25T21:52:20.179302",
     "status": "completed"
    },
    "tags": []
   },
   "outputs": [
    {
     "data": {
      "text/plain": [
       "GTEX-111YS-0006-SM-5NQBE       0.5623\n",
       "GTEX-1122O-0005-SM-5O99J       0.8067\n",
       "GTEX-1128S-0005-SM-5P9HI     116.9000\n",
       "GTEX-113IC-0006-SM-5NQ9C       4.0470\n",
       "GTEX-113JC-0006-SM-5O997     211.0000\n",
       "                              ...    \n",
       "GTEX-ZVTK-0006-SM-57WBK     1626.0000\n",
       "GTEX-ZVZP-0006-SM-51MSW        0.5633\n",
       "GTEX-ZVZQ-0006-SM-51MR8      515.7000\n",
       "GTEX-ZXES-0005-SM-57WCB        1.1940\n",
       "GTEX-ZXG5-0005-SM-57WCN     1163.0000\n",
       "Name: ENSG00000169429.10, Length: 755, dtype: float64"
      ]
     },
     "execution_count": 9,
     "metadata": {},
     "output_type": "execute_result"
    }
   ],
   "source": [
    "gene_expr_dict[list(gene_expr_dict.keys())[0]]"
   ]
  },
  {
   "cell_type": "markdown",
   "id": "b030f506-2fe9-4895-a8a1-51374e88c496",
   "metadata": {
    "papermill": {
     "duration": 0.022192,
     "end_time": "2022-01-25T21:52:20.256131",
     "exception": false,
     "start_time": "2022-01-25T21:52:20.233939",
     "status": "completed"
    },
    "tags": []
   },
   "source": [
    "## Gene pairs intersection"
   ]
  },
  {
   "cell_type": "code",
   "execution_count": 10,
   "id": "da1d768a-fbfb-40e8-8fbb-790d1a94aa83",
   "metadata": {
    "execution": {
     "iopub.execute_input": "2022-01-25T21:52:20.303574Z",
     "iopub.status.busy": "2022-01-25T21:52:20.303082Z",
     "iopub.status.idle": "2022-01-25T21:52:20.309441Z",
     "shell.execute_reply": "2022-01-25T21:52:20.309042Z"
    },
    "papermill": {
     "duration": 0.031341,
     "end_time": "2022-01-25T21:52:20.309542",
     "exception": false,
     "start_time": "2022-01-25T21:52:20.278201",
     "status": "completed"
    },
    "tags": []
   },
   "outputs": [],
   "source": [
    "intersections = pd.read_pickle(INPUT_GENE_PAIRS_INTERSECTIONS_FILE)"
   ]
  },
  {
   "cell_type": "code",
   "execution_count": 11,
   "id": "6123d474-0c0d-4771-9678-248ce89424ce",
   "metadata": {
    "execution": {
     "iopub.execute_input": "2022-01-25T21:52:20.359133Z",
     "iopub.status.busy": "2022-01-25T21:52:20.358645Z",
     "iopub.status.idle": "2022-01-25T21:52:20.362338Z",
     "shell.execute_reply": "2022-01-25T21:52:20.361839Z"
    },
    "papermill": {
     "duration": 0.029805,
     "end_time": "2022-01-25T21:52:20.362456",
     "exception": false,
     "start_time": "2022-01-25T21:52:20.332651",
     "status": "completed"
    },
    "tags": []
   },
   "outputs": [
    {
     "data": {
      "text/plain": [
       "16"
      ]
     },
     "execution_count": 11,
     "metadata": {},
     "output_type": "execute_result"
    }
   ],
   "source": [
    "len(intersections)"
   ]
  },
  {
   "cell_type": "code",
   "execution_count": 12,
   "id": "1b817194-a9c3-4f53-8d0f-1ee8faa36bfe",
   "metadata": {
    "execution": {
     "iopub.execute_input": "2022-01-25T21:52:20.420346Z",
     "iopub.status.busy": "2022-01-25T21:52:20.419872Z",
     "iopub.status.idle": "2022-01-25T21:52:20.427024Z",
     "shell.execute_reply": "2022-01-25T21:52:20.426560Z"
    },
    "papermill": {
     "duration": 0.035761,
     "end_time": "2022-01-25T21:52:20.427124",
     "exception": false,
     "start_time": "2022-01-25T21:52:20.391363",
     "status": "completed"
    },
    "tags": []
   },
   "outputs": [
    {
     "data": {
      "text/html": [
       "<div>\n",
       "<style scoped>\n",
       "    .dataframe tbody tr th:only-of-type {\n",
       "        vertical-align: middle;\n",
       "    }\n",
       "\n",
       "    .dataframe tbody tr th {\n",
       "        vertical-align: top;\n",
       "    }\n",
       "\n",
       "    .dataframe thead th {\n",
       "        text-align: right;\n",
       "    }\n",
       "</style>\n",
       "<table border=\"1\" class=\"dataframe\">\n",
       "  <thead>\n",
       "    <tr style=\"text-align: right;\">\n",
       "      <th></th>\n",
       "      <th>gene0</th>\n",
       "      <th>gene1</th>\n",
       "    </tr>\n",
       "  </thead>\n",
       "  <tbody>\n",
       "    <tr>\n",
       "      <th>0</th>\n",
       "      <td>ENSG00000125726.10</td>\n",
       "      <td>ENSG00000076604.14</td>\n",
       "    </tr>\n",
       "    <tr>\n",
       "      <th>1</th>\n",
       "      <td>ENSG00000182541.17</td>\n",
       "      <td>ENSG00000233214.1</td>\n",
       "    </tr>\n",
       "    <tr>\n",
       "      <th>2</th>\n",
       "      <td>ENSG00000250966.2</td>\n",
       "      <td>ENSG00000185963.13</td>\n",
       "    </tr>\n",
       "    <tr>\n",
       "      <th>3</th>\n",
       "      <td>ENSG00000135930.13</td>\n",
       "      <td>ENSG00000111897.6</td>\n",
       "    </tr>\n",
       "    <tr>\n",
       "      <th>4</th>\n",
       "      <td>ENSG00000169891.17</td>\n",
       "      <td>ENSG00000225889.7</td>\n",
       "    </tr>\n",
       "    <tr>\n",
       "      <th>...</th>\n",
       "      <td>...</td>\n",
       "      <td>...</td>\n",
       "    </tr>\n",
       "    <tr>\n",
       "      <th>995</th>\n",
       "      <td>ENSG00000112658.7</td>\n",
       "      <td>ENSG00000274536.6</td>\n",
       "    </tr>\n",
       "    <tr>\n",
       "      <th>996</th>\n",
       "      <td>ENSG00000120306.9</td>\n",
       "      <td>ENSG00000151948.11</td>\n",
       "    </tr>\n",
       "    <tr>\n",
       "      <th>997</th>\n",
       "      <td>ENSG00000256006.1</td>\n",
       "      <td>ENSG00000162711.16</td>\n",
       "    </tr>\n",
       "    <tr>\n",
       "      <th>998</th>\n",
       "      <td>ENSG00000121931.15</td>\n",
       "      <td>ENSG00000138434.16</td>\n",
       "    </tr>\n",
       "    <tr>\n",
       "      <th>999</th>\n",
       "      <td>ENSG00000139132.14</td>\n",
       "      <td>ENSG00000155926.13</td>\n",
       "    </tr>\n",
       "  </tbody>\n",
       "</table>\n",
       "<p>1000 rows × 2 columns</p>\n",
       "</div>"
      ],
      "text/plain": [
       "                  gene0               gene1\n",
       "0    ENSG00000125726.10  ENSG00000076604.14\n",
       "1    ENSG00000182541.17   ENSG00000233214.1\n",
       "2     ENSG00000250966.2  ENSG00000185963.13\n",
       "3    ENSG00000135930.13   ENSG00000111897.6\n",
       "4    ENSG00000169891.17   ENSG00000225889.7\n",
       "..                  ...                 ...\n",
       "995   ENSG00000112658.7   ENSG00000274536.6\n",
       "996   ENSG00000120306.9  ENSG00000151948.11\n",
       "997   ENSG00000256006.1  ENSG00000162711.16\n",
       "998  ENSG00000121931.15  ENSG00000138434.16\n",
       "999  ENSG00000139132.14  ENSG00000155926.13\n",
       "\n",
       "[1000 rows x 2 columns]"
      ]
     },
     "execution_count": 12,
     "metadata": {},
     "output_type": "execute_result"
    }
   ],
   "source": [
    "intersections[\"Clustermatch (high), Pearson (high), Spearman (high)\"]"
   ]
  },
  {
   "cell_type": "markdown",
   "id": "9e1b78f3-8f43-411a-acb7-4646b4979034",
   "metadata": {
    "papermill": {
     "duration": 0.022901,
     "end_time": "2022-01-25T21:52:20.474665",
     "exception": false,
     "start_time": "2022-01-25T21:52:20.451764",
     "status": "completed"
    },
    "tags": []
   },
   "source": [
    "# Compute Maximal Information Coefficient (MIC)"
   ]
  },
  {
   "cell_type": "markdown",
   "id": "f31225f0-ce8b-48aa-97a6-d69afcb8732a",
   "metadata": {
    "papermill": {
     "duration": 0.022801,
     "end_time": "2022-01-25T21:52:20.520446",
     "exception": false,
     "start_time": "2022-01-25T21:52:20.497645",
     "status": "completed"
    },
    "tags": []
   },
   "source": [
    "## Functions"
   ]
  },
  {
   "cell_type": "code",
   "execution_count": 13,
   "id": "1851477c-1c94-456d-949b-012b8984a434",
   "metadata": {
    "execution": {
     "iopub.execute_input": "2022-01-25T21:52:20.569721Z",
     "iopub.status.busy": "2022-01-25T21:52:20.569256Z",
     "iopub.status.idle": "2022-01-25T21:52:20.799118Z",
     "shell.execute_reply": "2022-01-25T21:52:20.798698Z"
    },
    "papermill": {
     "duration": 0.255864,
     "end_time": "2022-01-25T21:52:20.799215",
     "exception": false,
     "start_time": "2022-01-25T21:52:20.543351",
     "status": "completed"
    },
    "tags": []
   },
   "outputs": [],
   "source": [
    "import warnings\n",
    "from sklearn.metrics import pairwise_distances\n",
    "from minepy.mine import MINE"
   ]
  },
  {
   "cell_type": "code",
   "execution_count": 14,
   "id": "0adf1172-acc5-4c35-a3ab-aed6de9770c4",
   "metadata": {
    "execution": {
     "iopub.execute_input": "2022-01-25T21:52:20.848992Z",
     "iopub.status.busy": "2022-01-25T21:52:20.848552Z",
     "iopub.status.idle": "2022-01-25T21:52:20.850974Z",
     "shell.execute_reply": "2022-01-25T21:52:20.851334Z"
    },
    "papermill": {
     "duration": 0.029232,
     "end_time": "2022-01-25T21:52:20.851450",
     "exception": false,
     "start_time": "2022-01-25T21:52:20.822218",
     "status": "completed"
    },
    "tags": []
   },
   "outputs": [],
   "source": [
    "def _mic(x, y):\n",
    "    \"\"\"\n",
    "    FIXME: move to library\n",
    "    \"\"\"\n",
    "    with warnings.catch_warnings():\n",
    "        warnings.filterwarnings(\"ignore\", category=DeprecationWarning)\n",
    "\n",
    "        mine = MINE(alpha=0.6, c=15, est=\"mic_approx\")\n",
    "        mine.compute_score(x, y)\n",
    "        return mine.mic()"
   ]
  },
  {
   "cell_type": "code",
   "execution_count": 15,
   "id": "cd837842-665d-4214-affe-af9c951bd154",
   "metadata": {
    "execution": {
     "iopub.execute_input": "2022-01-25T21:52:20.901534Z",
     "iopub.status.busy": "2022-01-25T21:52:20.900886Z",
     "iopub.status.idle": "2022-01-25T21:52:20.903773Z",
     "shell.execute_reply": "2022-01-25T21:52:20.903317Z"
    },
    "papermill": {
     "duration": 0.029406,
     "end_time": "2022-01-25T21:52:20.903893",
     "exception": false,
     "start_time": "2022-01-25T21:52:20.874487",
     "status": "completed"
    },
    "tags": []
   },
   "outputs": [
    {
     "data": {
      "text/plain": [
       "0.3958156020033588"
      ]
     },
     "execution_count": 15,
     "metadata": {},
     "output_type": "execute_result"
    }
   ],
   "source": [
    "_mic(np.random.rand(10), np.random.rand(10))"
   ]
  },
  {
   "cell_type": "markdown",
   "id": "b9a14ad1-ffd2-4b16-98b2-658634dccd21",
   "metadata": {
    "papermill": {
     "duration": 0.023126,
     "end_time": "2022-01-25T21:52:20.950422",
     "exception": false,
     "start_time": "2022-01-25T21:52:20.927296",
     "status": "completed"
    },
    "tags": []
   },
   "source": [
    "## Run"
   ]
  },
  {
   "cell_type": "code",
   "execution_count": 16,
   "id": "0f516a3e-0f64-42d3-b32d-9de6563b2df4",
   "metadata": {
    "execution": {
     "iopub.execute_input": "2022-01-25T21:52:21.000428Z",
     "iopub.status.busy": "2022-01-25T21:52:20.999960Z",
     "iopub.status.idle": "2022-01-25T21:52:21.025351Z",
     "shell.execute_reply": "2022-01-25T21:52:21.024887Z"
    },
    "papermill": {
     "duration": 0.052058,
     "end_time": "2022-01-25T21:52:21.025447",
     "exception": false,
     "start_time": "2022-01-25T21:52:20.973389",
     "status": "completed"
    },
    "tags": []
   },
   "outputs": [],
   "source": [
    "from concurrent.futures import ProcessPoolExecutor, as_completed\n",
    "from collections import defaultdict\n",
    "\n",
    "from tqdm import tqdm\n",
    "\n",
    "from clustermatch.utils import chunker"
   ]
  },
  {
   "cell_type": "code",
   "execution_count": 17,
   "id": "f2d70e9a-42df-483a-86d2-7fb59f425166",
   "metadata": {
    "execution": {
     "iopub.execute_input": "2022-01-25T21:52:21.076371Z",
     "iopub.status.busy": "2022-01-25T21:52:21.075873Z",
     "iopub.status.idle": "2022-01-25T21:52:21.077354Z",
     "shell.execute_reply": "2022-01-25T21:52:21.077700Z"
    },
    "papermill": {
     "duration": 0.02867,
     "end_time": "2022-01-25T21:52:21.077809",
     "exception": false,
     "start_time": "2022-01-25T21:52:21.049139",
     "status": "completed"
    },
    "tags": []
   },
   "outputs": [],
   "source": [
    "def _compute_mic(gene_sets):\n",
    "    res = {\n",
    "        (gs[0], gs[1]): _mic(\n",
    "            gene_expr_dict[gs[0]].to_numpy(), gene_expr_dict[gs[1]].to_numpy()\n",
    "        )\n",
    "        for gs in gene_sets\n",
    "    }\n",
    "\n",
    "    return pd.Series(res, index=gene_sets)"
   ]
  },
  {
   "cell_type": "code",
   "execution_count": 18,
   "id": "3a16f0f9-9af0-49a4-a293-f51f58f46de3",
   "metadata": {
    "execution": {
     "iopub.execute_input": "2022-01-25T21:52:21.129264Z",
     "iopub.status.busy": "2022-01-25T21:52:21.128796Z",
     "iopub.status.idle": "2022-01-25T21:52:21.902993Z",
     "shell.execute_reply": "2022-01-25T21:52:21.903427Z"
    },
    "papermill": {
     "duration": 0.802486,
     "end_time": "2022-01-25T21:52:21.903553",
     "exception": false,
     "start_time": "2022-01-25T21:52:21.101067",
     "status": "completed"
    },
    "tags": []
   },
   "outputs": [],
   "source": [
    "# testing\n",
    "gene_set_key = \"Clustermatch (high), Pearson (high), Spearman (high)\"\n",
    "gene_set = intersections[gene_set_key].sample(n=10)\n",
    "\n",
    "_res = _compute_mic(list(gene_set.itertuples(index=False)))\n",
    "assert _res.index.to_list() == list(gene_set.itertuples(index=False, name=None))"
   ]
  },
  {
   "cell_type": "code",
   "execution_count": 19,
   "id": "df927e8f-203d-41df-a5f1-25d6c9a43d53",
   "metadata": {
    "execution": {
     "iopub.execute_input": "2022-01-25T21:52:21.967085Z",
     "iopub.status.busy": "2022-01-25T21:52:21.966625Z",
     "iopub.status.idle": "2022-01-25T21:52:21.968525Z",
     "shell.execute_reply": "2022-01-25T21:52:21.968080Z"
    },
    "papermill": {
     "duration": 0.039424,
     "end_time": "2022-01-25T21:52:21.968622",
     "exception": false,
     "start_time": "2022-01-25T21:52:21.929198",
     "status": "completed"
    },
    "tags": []
   },
   "outputs": [],
   "source": [
    "all_chunks = []\n",
    "\n",
    "for (\n",
    "    gene_set_key\n",
    ") in intersections.keys():  # [\"Clustermatch (high), Pearson (low), Spearman (low)\"]\n",
    "    gene_set = list(intersections[gene_set_key].itertuples(index=False, name=None))\n",
    "\n",
    "    for chunk in list(chunker(list(gene_set), CHUNK_SIZE)):\n",
    "        all_chunks.append((gene_set_key, chunk))\n",
    "\n",
    "# all_chunks = [\n",
    "#     (gene_set_key, chunk)\n",
    "#     for chunk in list(chunker(list(intersections[gene_set_key].itertuples(index=False, name=None)), 2))\n",
    "#     for gene_set_key in [\"Clustermatch (high), Pearson (low), Spearman (low)\"] # intersections.keys()\n",
    "# ]"
   ]
  },
  {
   "cell_type": "code",
   "execution_count": 20,
   "id": "3ba05517-1b61-40ee-8333-17e1a2088de9",
   "metadata": {
    "execution": {
     "iopub.execute_input": "2022-01-25T21:52:22.020160Z",
     "iopub.status.busy": "2022-01-25T21:52:22.019554Z",
     "iopub.status.idle": "2022-01-25T21:52:22.022553Z",
     "shell.execute_reply": "2022-01-25T21:52:22.022105Z"
    },
    "papermill": {
     "duration": 0.029726,
     "end_time": "2022-01-25T21:52:22.022650",
     "exception": false,
     "start_time": "2022-01-25T21:52:21.992924",
     "status": "completed"
    },
    "tags": []
   },
   "outputs": [
    {
     "data": {
      "text/plain": [
       "246"
      ]
     },
     "execution_count": 20,
     "metadata": {},
     "output_type": "execute_result"
    }
   ],
   "source": [
    "len(all_chunks)"
   ]
  },
  {
   "cell_type": "code",
   "execution_count": 21,
   "id": "5b2aec09-987c-4506-87c2-5d9e8107d9ca",
   "metadata": {
    "execution": {
     "iopub.execute_input": "2022-01-25T21:52:22.077714Z",
     "iopub.status.busy": "2022-01-25T21:52:22.077150Z",
     "iopub.status.idle": "2022-01-25T21:52:22.079201Z",
     "shell.execute_reply": "2022-01-25T21:52:22.079591Z"
    },
    "papermill": {
     "duration": 0.032464,
     "end_time": "2022-01-25T21:52:22.079710",
     "exception": false,
     "start_time": "2022-01-25T21:52:22.047246",
     "status": "completed"
    },
    "tags": []
   },
   "outputs": [
    {
     "data": {
      "text/plain": [
       "[('Clustermatch (high), Pearson (high), Spearman (high)',\n",
       "  [('ENSG00000125726.10', 'ENSG00000076604.14'),\n",
       "   ('ENSG00000182541.17', 'ENSG00000233214.1'),\n",
       "   ('ENSG00000250966.2', 'ENSG00000185963.13'),\n",
       "   ('ENSG00000135930.13', 'ENSG00000111897.6'),\n",
       "   ('ENSG00000169891.17', 'ENSG00000225889.7'),\n",
       "   ('ENSG00000204681.10', 'ENSG00000275857.1'),\n",
       "   ('ENSG00000167895.14', 'ENSG00000168229.3'),\n",
       "   ('ENSG00000177406.4', 'ENSG00000133985.2'),\n",
       "   ('ENSG00000082898.16', 'ENSG00000136816.15'),\n",
       "   ('ENSG00000082258.12', 'ENSG00000186908.14'),\n",
       "   ('ENSG00000118900.14', 'ENSG00000136040.8'),\n",
       "   ('ENSG00000197956.9', 'ENSG00000111261.13'),\n",
       "   ('ENSG00000173020.10', 'ENSG00000261512.2'),\n",
       "   ('ENSG00000274717.1', 'ENSG00000166501.12'),\n",
       "   ('ENSG00000154978.12', 'ENSG00000260822.1'),\n",
       "   ('ENSG00000068912.13', 'ENSG00000145416.13'),\n",
       "   ('ENSG00000087152.15', 'ENSG00000165801.9'),\n",
       "   ('ENSG00000127586.16', 'ENSG00000277734.7'),\n",
       "   ('ENSG00000058799.14', 'ENSG00000267670.1'),\n",
       "   ('ENSG00000157150.4', 'ENSG00000115446.11'),\n",
       "   ('ENSG00000260804.3', 'ENSG00000135407.10'),\n",
       "   ('ENSG00000136280.15', 'ENSG00000102699.5'),\n",
       "   ('ENSG00000211965.4', 'ENSG00000239951.1'),\n",
       "   ('ENSG00000258082.1', 'ENSG00000196547.14'),\n",
       "   ('ENSG00000170852.10', 'ENSG00000117115.12'),\n",
       "   ('ENSG00000108055.9', 'ENSG00000197629.5'),\n",
       "   ('ENSG00000177733.6', 'ENSG00000196371.3'),\n",
       "   ('ENSG00000070882.12', 'ENSG00000188011.5'),\n",
       "   ('ENSG00000164609.9', 'ENSG00000102580.14'),\n",
       "   ('ENSG00000121316.10', 'ENSG00000163803.12'),\n",
       "   ('ENSG00000109861.15', 'ENSG00000135424.15'),\n",
       "   ('ENSG00000024048.10', 'ENSG00000013563.13'),\n",
       "   ('ENSG00000255443.1', 'ENSG00000106952.7'),\n",
       "   ('ENSG00000147439.12', 'ENSG00000174695.9'),\n",
       "   ('ENSG00000198898.13', 'ENSG00000091106.18'),\n",
       "   ('ENSG00000160310.17', 'ENSG00000268262.1'),\n",
       "   ('ENSG00000113119.12', 'ENSG00000129292.20'),\n",
       "   ('ENSG00000166145.14', 'ENSG00000279117.1'),\n",
       "   ('ENSG00000035664.11', 'ENSG00000100461.17'),\n",
       "   ('ENSG00000072518.20', 'ENSG00000267940.1'),\n",
       "   ('ENSG00000141526.16', 'ENSG00000234436.1'),\n",
       "   ('ENSG00000149532.15', 'ENSG00000155097.11'),\n",
       "   ('ENSG00000103111.14', 'ENSG00000139436.20'),\n",
       "   ('ENSG00000167447.12', 'ENSG00000267670.1'),\n",
       "   ('ENSG00000106785.14', 'ENSG00000101290.13'),\n",
       "   ('ENSG00000159128.14', 'ENSG00000116489.12'),\n",
       "   ('ENSG00000168438.14', 'ENSG00000163932.13'),\n",
       "   ('ENSG00000141293.15', 'ENSG00000243772.7'),\n",
       "   ('ENSG00000044446.11', 'ENSG00000232450.1'),\n",
       "   ('ENSG00000267078.1', 'ENSG00000111348.8')])]"
      ]
     },
     "execution_count": 21,
     "metadata": {},
     "output_type": "execute_result"
    }
   ],
   "source": [
    "all_chunks[:1]"
   ]
  },
  {
   "cell_type": "code",
   "execution_count": 22,
   "id": "2a961167-6660-47bd-8beb-4e08de26bf05",
   "metadata": {
    "execution": {
     "iopub.execute_input": "2022-01-25T21:52:22.136690Z",
     "iopub.status.busy": "2022-01-25T21:52:22.136230Z",
     "iopub.status.idle": "2022-01-25T21:58:34.565949Z",
     "shell.execute_reply": "2022-01-25T21:58:34.565390Z"
    },
    "papermill": {
     "duration": 372.4602,
     "end_time": "2022-01-25T21:58:34.566068",
     "exception": false,
     "start_time": "2022-01-25T21:52:22.105868",
     "status": "completed"
    },
    "tags": []
   },
   "outputs": [
    {
     "name": "stderr",
     "output_type": "stream",
     "text": [
      "100%|█████████████████████████████████████████████████████████████| 246/246 [06:12<00:00,  1.51s/it]\n"
     ]
    }
   ],
   "source": [
    "all_results = defaultdict(list)\n",
    "\n",
    "with ProcessPoolExecutor(max_workers=conf.GENERAL[\"N_JOBS\"]) as executor:\n",
    "    tasks = {\n",
    "        executor.submit(_compute_mic, chunk): gene_set_key\n",
    "        for gene_set_key, chunk in all_chunks\n",
    "    }\n",
    "\n",
    "    pbar = tqdm(as_completed(tasks), total=len(all_chunks), ncols=100)\n",
    "\n",
    "    for future in pbar:\n",
    "        gene_set_key = tasks[future]\n",
    "        gene_set_mic = future.result()\n",
    "\n",
    "        all_results[gene_set_key].append(gene_set_mic)\n",
    "\n",
    "_tmp = {}\n",
    "\n",
    "for k in all_results.keys():\n",
    "    _tmp[k] = pd.concat(all_results[k])\n",
    "\n",
    "all_results = _tmp"
   ]
  },
  {
   "cell_type": "code",
   "execution_count": 23,
   "id": "790df89a-8d50-4b55-9089-6da47fe575a2",
   "metadata": {
    "execution": {
     "iopub.execute_input": "2022-01-25T21:58:34.741085Z",
     "iopub.status.busy": "2022-01-25T21:58:34.740631Z",
     "iopub.status.idle": "2022-01-25T21:58:34.742168Z",
     "shell.execute_reply": "2022-01-25T21:58:34.742525Z"
    },
    "papermill": {
     "duration": 0.087107,
     "end_time": "2022-01-25T21:58:34.742638",
     "exception": false,
     "start_time": "2022-01-25T21:58:34.655531",
     "status": "completed"
    },
    "tags": []
   },
   "outputs": [],
   "source": [
    "assert len(all_results) == len(intersections.keys())"
   ]
  },
  {
   "cell_type": "markdown",
   "id": "2c2b08ba-92a4-4480-b59c-067f88cad19a",
   "metadata": {
    "papermill": {
     "duration": 0.088827,
     "end_time": "2022-01-25T21:58:34.914590",
     "exception": false,
     "start_time": "2022-01-25T21:58:34.825763",
     "status": "completed"
    },
    "tags": []
   },
   "source": [
    "# Save"
   ]
  },
  {
   "cell_type": "code",
   "execution_count": 24,
   "id": "7dfdb1f7-0b69-4f7a-a5e7-d657c19c248b",
   "metadata": {
    "execution": {
     "iopub.execute_input": "2022-01-25T21:58:35.111451Z",
     "iopub.status.busy": "2022-01-25T21:58:35.110899Z",
     "iopub.status.idle": "2022-01-25T21:58:35.112665Z",
     "shell.execute_reply": "2022-01-25T21:58:35.113090Z"
    },
    "papermill": {
     "duration": 0.114328,
     "end_time": "2022-01-25T21:58:35.113232",
     "exception": false,
     "start_time": "2022-01-25T21:58:34.998904",
     "status": "completed"
    },
    "tags": []
   },
   "outputs": [],
   "source": [
    "import pickle"
   ]
  },
  {
   "cell_type": "code",
   "execution_count": 25,
   "id": "5118abeb-d2a8-486e-93f1-7cc204928d21",
   "metadata": {
    "execution": {
     "iopub.execute_input": "2022-01-25T21:58:35.289198Z",
     "iopub.status.busy": "2022-01-25T21:58:35.288350Z",
     "iopub.status.idle": "2022-01-25T21:58:35.294743Z",
     "shell.execute_reply": "2022-01-25T21:58:35.294355Z"
    },
    "papermill": {
     "duration": 0.093012,
     "end_time": "2022-01-25T21:58:35.294841",
     "exception": false,
     "start_time": "2022-01-25T21:58:35.201829",
     "status": "completed"
    },
    "tags": []
   },
   "outputs": [],
   "source": [
    "with open(OUTPUT_FILE, \"wb\") as handle:\n",
    "    pickle.dump(all_results, handle)"
   ]
  },
  {
   "cell_type": "code",
   "execution_count": null,
   "id": "86d4a81e-927e-4c3e-93d1-47df1931ad5a",
   "metadata": {
    "papermill": {
     "duration": 0.083448,
     "end_time": "2022-01-25T21:58:35.462144",
     "exception": false,
     "start_time": "2022-01-25T21:58:35.378696",
     "status": "completed"
    },
    "tags": []
   },
   "outputs": [],
   "source": []
  }
 ],
 "metadata": {
  "jupytext": {
   "cell_metadata_filter": "all,-execution,-papermill,-trusted"
  },
  "kernelspec": {
   "display_name": "Python 3 (ipykernel)",
   "language": "python",
   "name": "python3"
  },
  "language_info": {
   "codemirror_mode": {
    "name": "ipython",
    "version": 3
   },
   "file_extension": ".py",
   "mimetype": "text/x-python",
   "name": "python",
   "nbconvert_exporter": "python",
   "pygments_lexer": "ipython3",
   "version": "3.9.9"
  },
  "papermill": {
   "default_parameters": {},
   "duration": 378.018164,
   "end_time": "2022-01-25T21:58:35.867142",
   "environment_variables": {},
   "exception": null,
   "input_path": "nbs/15_intersections/10-compute_mic.ipynb",
   "output_path": "nbs/15_intersections/10-compute_mic.run.ipynb",
   "parameters": {},
   "start_time": "2022-01-25T21:52:17.848978",
   "version": "2.3.4"
  },
  "toc-autonumbering": true
 },
 "nbformat": 4,
 "nbformat_minor": 5
}
