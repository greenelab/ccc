{
 "cells": [
  {
   "cell_type": "markdown",
   "id": "87e0ce1b-7ce6-4499-9342-5ded05307598",
   "metadata": {
    "papermill": {
     "duration": 0.063205,
     "end_time": "2021-11-19T21:18:45.499332",
     "exception": false,
     "start_time": "2021-11-19T21:18:45.436127",
     "status": "completed"
    },
    "tags": []
   },
   "source": [
    "# Description"
   ]
  },
  {
   "cell_type": "markdown",
   "id": "4bfc7115-350a-441b-9a19-7626a948a694",
   "metadata": {
    "papermill": {
     "duration": 0.06281,
     "end_time": "2021-11-19T21:18:45.625288",
     "exception": false,
     "start_time": "2021-11-19T21:18:45.562478",
     "status": "completed"
    },
    "tags": []
   },
   "source": [
    "TODO"
   ]
  },
  {
   "cell_type": "markdown",
   "id": "e020c781-238b-43c2-8cad-2722b8a240e2",
   "metadata": {
    "papermill": {
     "duration": 0.069529,
     "end_time": "2021-11-19T21:18:45.762225",
     "exception": false,
     "start_time": "2021-11-19T21:18:45.692696",
     "status": "completed"
    },
    "tags": []
   },
   "source": [
    "# Modules"
   ]
  },
  {
   "cell_type": "code",
   "execution_count": null,
   "id": "a819bfbc-5009-4c68-ba8d-37d0979d368f",
   "metadata": {
    "papermill": {
     "duration": 1.222566,
     "end_time": "2021-11-19T21:18:47.051114",
     "exception": false,
     "start_time": "2021-11-19T21:18:45.828548",
     "status": "completed"
    },
    "tags": []
   },
   "outputs": [],
   "source": [
    "import pandas as pd\n",
    "import numpy as np\n",
    "\n",
    "from clustermatch import conf"
   ]
  },
  {
   "cell_type": "markdown",
   "id": "b4834387-58ff-468c-b326-85c408bc5feb",
   "metadata": {
    "papermill": {
     "duration": 0.062667,
     "end_time": "2021-11-19T21:18:47.176897",
     "exception": false,
     "start_time": "2021-11-19T21:18:47.114230",
     "status": "completed"
    },
    "tags": []
   },
   "source": [
    "# Settings"
   ]
  },
  {
   "cell_type": "code",
   "execution_count": null,
   "id": "765e820a-4518-4bbc-a00f-14c9cea03821",
   "metadata": {},
   "outputs": [],
   "source": [
    "DATASET_CONFIG = conf.GTEX\n",
    "GTEX_TISSUE = \"whole_blood\"\n",
    "GENE_SEL_STRATEGY = \"var_pc_log2\""
   ]
  },
  {
   "cell_type": "code",
   "execution_count": null,
   "id": "ca79812d-c519-408c-bea8-9fc177e71d72",
   "metadata": {
    "tags": [
     "parameters"
    ]
   },
   "outputs": [],
   "source": [
    "# this cell has the \"parameters\" tag\n",
    "\n",
    "# size of gene pair groups to process in parallel\n",
    "CHUNK_SIZE = 50"
   ]
  },
  {
   "cell_type": "markdown",
   "id": "a1159982-5dd1-4494-97d4-0674eeead1c3",
   "metadata": {
    "papermill": {
     "duration": 0.062778,
     "end_time": "2021-11-19T21:18:47.303614",
     "exception": false,
     "start_time": "2021-11-19T21:18:47.240836",
     "status": "completed"
    },
    "tags": []
   },
   "source": [
    "# Paths"
   ]
  },
  {
   "cell_type": "code",
   "execution_count": null,
   "id": "c6f73068-fa38-44be-bd0c-708f6ff450ea",
   "metadata": {
    "papermill": {
     "duration": 0.025306,
     "end_time": "2021-09-21T01:08:28.234279",
     "exception": false,
     "start_time": "2021-09-21T01:08:28.208973",
     "status": "completed"
    },
    "tags": []
   },
   "outputs": [],
   "source": [
    "INPUT_GENE_EXPR_FILE = (\n",
    "    DATASET_CONFIG[\"GENE_SELECTION_DIR\"]\n",
    "    / f\"gtex_v8_data_{GTEX_TISSUE}-{GENE_SEL_STRATEGY}.pkl\"\n",
    ")\n",
    "display(INPUT_GENE_EXPR_FILE)\n",
    "\n",
    "assert INPUT_GENE_EXPR_FILE.exists()"
   ]
  },
  {
   "cell_type": "code",
   "execution_count": null,
   "id": "30cce6f5-ca1b-438c-859d-31903a42d4c6",
   "metadata": {
    "tags": []
   },
   "outputs": [],
   "source": [
    "INPUT_GENE_PAIRS_INTERSECTIONS_FILE = (\n",
    "    DATASET_CONFIG[\"GENE_PAIR_INTERSECTIONS\"]\n",
    "    / f\"gene_pair_intersections-gtex_v8-{GTEX_TISSUE}-{GENE_SEL_STRATEGY}-sample.pkl\"\n",
    ")\n",
    "display(INPUT_GENE_PAIRS_INTERSECTIONS_FILE)\n",
    "\n",
    "assert INPUT_GENE_PAIRS_INTERSECTIONS_FILE.exists()"
   ]
  },
  {
   "cell_type": "code",
   "execution_count": null,
   "id": "f4468c0e-c0ad-4bf5-b120-3f63e7afc33f",
   "metadata": {},
   "outputs": [],
   "source": [
    "OUTPUT_FILE = (\n",
    "    INPUT_GENE_PAIRS_INTERSECTIONS_FILE.parent\n",
    "    / f\"{INPUT_GENE_PAIRS_INTERSECTIONS_FILE.stem}-mic.pkl\"\n",
    ")\n",
    "\n",
    "display(OUTPUT_FILE)"
   ]
  },
  {
   "cell_type": "markdown",
   "id": "f6d3322b-c8bb-4fc2-97b6-5bb1793b1577",
   "metadata": {
    "papermill": {
     "duration": 0.062778,
     "end_time": "2021-11-19T21:18:47.303614",
     "exception": false,
     "start_time": "2021-11-19T21:18:47.240836",
     "status": "completed"
    },
    "tags": []
   },
   "source": [
    "# Data"
   ]
  },
  {
   "cell_type": "markdown",
   "id": "0aa486d7-b624-4d20-a730-a9eb224bef6a",
   "metadata": {
    "papermill": {
     "duration": 0.019217,
     "end_time": "2021-09-21T01:08:28.355017",
     "exception": false,
     "start_time": "2021-09-21T01:08:28.335800",
     "status": "completed"
    },
    "tags": []
   },
   "source": [
    "## Gene expression"
   ]
  },
  {
   "cell_type": "code",
   "execution_count": null,
   "id": "f73ca2b7-f7ff-47bc-90b0-32e0cfdb5ea6",
   "metadata": {},
   "outputs": [],
   "source": [
    "gene_expr_dict = pd.read_pickle(INPUT_GENE_EXPR_FILE).T.to_dict(orient=\"series\")"
   ]
  },
  {
   "cell_type": "code",
   "execution_count": null,
   "id": "3cba499a-e737-4da2-9841-f9a03719b3aa",
   "metadata": {},
   "outputs": [],
   "source": [
    "len(gene_expr_dict)"
   ]
  },
  {
   "cell_type": "code",
   "execution_count": null,
   "id": "df66fe70-9fe9-4351-9d30-f8dcc97725de",
   "metadata": {},
   "outputs": [],
   "source": [
    "gene_expr_dict[list(gene_expr_dict.keys())[0]]"
   ]
  },
  {
   "cell_type": "markdown",
   "id": "b030f506-2fe9-4895-a8a1-51374e88c496",
   "metadata": {
    "papermill": {
     "duration": 0.019217,
     "end_time": "2021-09-21T01:08:28.355017",
     "exception": false,
     "start_time": "2021-09-21T01:08:28.335800",
     "status": "completed"
    },
    "tags": []
   },
   "source": [
    "## Gene pairs intersection"
   ]
  },
  {
   "cell_type": "code",
   "execution_count": null,
   "id": "da1d768a-fbfb-40e8-8fbb-790d1a94aa83",
   "metadata": {},
   "outputs": [],
   "source": [
    "intersections = pd.read_pickle(INPUT_GENE_PAIRS_INTERSECTIONS_FILE)"
   ]
  },
  {
   "cell_type": "code",
   "execution_count": null,
   "id": "6123d474-0c0d-4771-9678-248ce89424ce",
   "metadata": {},
   "outputs": [],
   "source": [
    "len(intersections)"
   ]
  },
  {
   "cell_type": "code",
   "execution_count": null,
   "id": "1b817194-a9c3-4f53-8d0f-1ee8faa36bfe",
   "metadata": {},
   "outputs": [],
   "source": [
    "intersections[\"Clustermatch (high), Pearson (high), Spearman (high)\"]"
   ]
  },
  {
   "cell_type": "markdown",
   "id": "9e1b78f3-8f43-411a-acb7-4646b4979034",
   "metadata": {},
   "source": [
    "# Compute Maximal Information Coefficient (MIC)"
   ]
  },
  {
   "cell_type": "markdown",
   "id": "f31225f0-ce8b-48aa-97a6-d69afcb8732a",
   "metadata": {},
   "source": [
    "## Functions"
   ]
  },
  {
   "cell_type": "code",
   "execution_count": null,
   "id": "1851477c-1c94-456d-949b-012b8984a434",
   "metadata": {},
   "outputs": [],
   "source": [
    "import warnings\n",
    "from sklearn.metrics import pairwise_distances\n",
    "from minepy.mine import MINE"
   ]
  },
  {
   "cell_type": "code",
   "execution_count": null,
   "id": "0adf1172-acc5-4c35-a3ab-aed6de9770c4",
   "metadata": {},
   "outputs": [],
   "source": [
    "def _mic(x, y):\n",
    "    \"\"\"\n",
    "    FIXME: move to library\n",
    "    \"\"\"\n",
    "    with warnings.catch_warnings():\n",
    "        warnings.filterwarnings(\"ignore\", category=DeprecationWarning)\n",
    "\n",
    "        mine = MINE(alpha=0.6, c=15, est=\"mic_approx\")\n",
    "        mine.compute_score(x, y)\n",
    "        return mine.mic()"
   ]
  },
  {
   "cell_type": "code",
   "execution_count": null,
   "id": "cd837842-665d-4214-affe-af9c951bd154",
   "metadata": {},
   "outputs": [],
   "source": [
    "_mic(np.random.rand(10), np.random.rand(10))"
   ]
  },
  {
   "cell_type": "markdown",
   "id": "b9a14ad1-ffd2-4b16-98b2-658634dccd21",
   "metadata": {},
   "source": [
    "## Run"
   ]
  },
  {
   "cell_type": "code",
   "execution_count": null,
   "id": "0f516a3e-0f64-42d3-b32d-9de6563b2df4",
   "metadata": {},
   "outputs": [],
   "source": [
    "from concurrent.futures import ProcessPoolExecutor, as_completed\n",
    "from collections import defaultdict\n",
    "\n",
    "from tqdm import tqdm\n",
    "\n",
    "from clustermatch.utils import chunker"
   ]
  },
  {
   "cell_type": "code",
   "execution_count": null,
   "id": "f2d70e9a-42df-483a-86d2-7fb59f425166",
   "metadata": {},
   "outputs": [],
   "source": [
    "def _compute_mic(gene_sets):\n",
    "    res = {\n",
    "        (gs[0], gs[1]): _mic(\n",
    "            gene_expr_dict[gs[0]].to_numpy(), gene_expr_dict[gs[1]].to_numpy()\n",
    "        )\n",
    "        for gs in gene_sets\n",
    "    }\n",
    "\n",
    "    return pd.Series(res, index=gene_sets)"
   ]
  },
  {
   "cell_type": "code",
   "execution_count": null,
   "id": "3a16f0f9-9af0-49a4-a293-f51f58f46de3",
   "metadata": {},
   "outputs": [],
   "source": [
    "# testing\n",
    "gene_set_key = \"Clustermatch (high), Pearson (high), Spearman (high)\"\n",
    "gene_set = intersections[gene_set_key].sample(n=10)\n",
    "\n",
    "_res = _compute_mic(list(gene_set.itertuples(index=False)))\n",
    "assert _res.index.to_list() == list(gene_set.itertuples(index=False, name=None))"
   ]
  },
  {
   "cell_type": "code",
   "execution_count": null,
   "id": "df927e8f-203d-41df-a5f1-25d6c9a43d53",
   "metadata": {},
   "outputs": [],
   "source": [
    "all_chunks = []\n",
    "\n",
    "for (\n",
    "    gene_set_key\n",
    ") in intersections.keys():  # [\"Clustermatch (high), Pearson (low), Spearman (low)\"]\n",
    "    gene_set = list(intersections[gene_set_key].itertuples(index=False, name=None))\n",
    "\n",
    "    for chunk in list(chunker(list(gene_set), CHUNK_SIZE)):\n",
    "        all_chunks.append((gene_set_key, chunk))\n",
    "\n",
    "# all_chunks = [\n",
    "#     (gene_set_key, chunk)\n",
    "#     for chunk in list(chunker(list(intersections[gene_set_key].itertuples(index=False, name=None)), 2))\n",
    "#     for gene_set_key in [\"Clustermatch (high), Pearson (low), Spearman (low)\"] # intersections.keys()\n",
    "# ]"
   ]
  },
  {
   "cell_type": "code",
   "execution_count": null,
   "id": "3ba05517-1b61-40ee-8333-17e1a2088de9",
   "metadata": {},
   "outputs": [],
   "source": [
    "len(all_chunks)"
   ]
  },
  {
   "cell_type": "code",
   "execution_count": null,
   "id": "5b2aec09-987c-4506-87c2-5d9e8107d9ca",
   "metadata": {},
   "outputs": [],
   "source": [
    "all_chunks[:1]"
   ]
  },
  {
   "cell_type": "code",
   "execution_count": null,
   "id": "2a961167-6660-47bd-8beb-4e08de26bf05",
   "metadata": {},
   "outputs": [],
   "source": [
    "all_results = defaultdict(list)\n",
    "\n",
    "with ProcessPoolExecutor(max_workers=conf.GENERAL[\"N_JOBS\"]) as executor:\n",
    "    tasks = {\n",
    "        executor.submit(_compute_mic, chunk): gene_set_key\n",
    "        for gene_set_key, chunk in all_chunks\n",
    "    }\n",
    "\n",
    "    pbar = tqdm(as_completed(tasks), total=len(all_chunks), ncols=100)\n",
    "\n",
    "    for future in pbar:\n",
    "        gene_set_key = tasks[future]\n",
    "        gene_set_mic = future.result()\n",
    "\n",
    "        all_results[gene_set_key].append(gene_set_mic)\n",
    "\n",
    "_tmp = {}\n",
    "\n",
    "for k in all_results.keys():\n",
    "    _tmp[k] = pd.concat(all_results[k])\n",
    "\n",
    "all_results = _tmp"
   ]
  },
  {
   "cell_type": "code",
   "execution_count": null,
   "id": "790df89a-8d50-4b55-9089-6da47fe575a2",
   "metadata": {},
   "outputs": [],
   "source": [
    "assert len(all_results) == len(intersections.keys())"
   ]
  },
  {
   "cell_type": "markdown",
   "id": "2c2b08ba-92a4-4480-b59c-067f88cad19a",
   "metadata": {
    "tags": []
   },
   "source": [
    "# Save"
   ]
  },
  {
   "cell_type": "code",
   "execution_count": null,
   "id": "7dfdb1f7-0b69-4f7a-a5e7-d657c19c248b",
   "metadata": {},
   "outputs": [],
   "source": [
    "import pickle"
   ]
  },
  {
   "cell_type": "code",
   "execution_count": null,
   "id": "5118abeb-d2a8-486e-93f1-7cc204928d21",
   "metadata": {},
   "outputs": [],
   "source": [
    "with open(OUTPUT_FILE, \"wb\") as handle:\n",
    "    pickle.dump(all_results, handle)"
   ]
  },
  {
   "cell_type": "code",
   "execution_count": null,
   "id": "86d4a81e-927e-4c3e-93d1-47df1931ad5a",
   "metadata": {},
   "outputs": [],
   "source": []
  }
 ],
 "metadata": {
  "jupytext": {
   "cell_metadata_filter": "all,-execution,-papermill,-trusted"
  },
  "kernelspec": {
   "display_name": "Python 3 (ipykernel)",
   "language": "python",
   "name": "python3"
  },
  "language_info": {
   "codemirror_mode": {
    "name": "ipython",
    "version": 3
   },
   "file_extension": ".py",
   "mimetype": "text/x-python",
   "name": "python",
   "nbconvert_exporter": "python",
   "pygments_lexer": "ipython3",
   "version": "3.9.9"
  },
  "toc-autonumbering": true
 },
 "nbformat": 4,
 "nbformat_minor": 5
}
