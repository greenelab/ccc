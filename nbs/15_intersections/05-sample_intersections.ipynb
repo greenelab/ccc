{
 "cells": [
  {
   "cell_type": "markdown",
   "id": "87e0ce1b-7ce6-4499-9342-5ded05307598",
   "metadata": {
    "papermill": {
     "duration": 0.057534,
     "end_time": "2022-01-25T21:51:45.385528",
     "exception": false,
     "start_time": "2022-01-25T21:51:45.327994",
     "status": "completed"
    },
    "tags": []
   },
   "source": [
    "# Description"
   ]
  },
  {
   "cell_type": "markdown",
   "id": "4bfc7115-350a-441b-9a19-7626a948a694",
   "metadata": {
    "papermill": {
     "duration": 0.020766,
     "end_time": "2022-01-25T21:51:45.427318",
     "exception": false,
     "start_time": "2022-01-25T21:51:45.406552",
     "status": "completed"
    },
    "tags": []
   },
   "source": [
    "TODO"
   ]
  },
  {
   "cell_type": "markdown",
   "id": "e020c781-238b-43c2-8cad-2722b8a240e2",
   "metadata": {
    "papermill": {
     "duration": 0.019942,
     "end_time": "2022-01-25T21:51:45.467414",
     "exception": false,
     "start_time": "2022-01-25T21:51:45.447472",
     "status": "completed"
    },
    "tags": []
   },
   "source": [
    "# Modules"
   ]
  },
  {
   "cell_type": "code",
   "execution_count": 1,
   "id": "a819bfbc-5009-4c68-ba8d-37d0979d368f",
   "metadata": {
    "execution": {
     "iopub.execute_input": "2022-01-25T21:51:45.516306Z",
     "iopub.status.busy": "2022-01-25T21:51:45.515823Z",
     "iopub.status.idle": "2022-01-25T21:51:45.748204Z",
     "shell.execute_reply": "2022-01-25T21:51:45.747692Z"
    },
    "papermill": {
     "duration": 0.259205,
     "end_time": "2022-01-25T21:51:45.748310",
     "exception": false,
     "start_time": "2022-01-25T21:51:45.489105",
     "status": "completed"
    },
    "tags": []
   },
   "outputs": [],
   "source": [
    "import pandas as pd\n",
    "import numpy as np\n",
    "\n",
    "from clustermatch import conf"
   ]
  },
  {
   "cell_type": "markdown",
   "id": "b4834387-58ff-468c-b326-85c408bc5feb",
   "metadata": {
    "papermill": {
     "duration": 0.020033,
     "end_time": "2022-01-25T21:51:45.789808",
     "exception": false,
     "start_time": "2022-01-25T21:51:45.769775",
     "status": "completed"
    },
    "tags": []
   },
   "source": [
    "# Settings"
   ]
  },
  {
   "cell_type": "code",
   "execution_count": 2,
   "id": "765e820a-4518-4bbc-a00f-14c9cea03821",
   "metadata": {
    "execution": {
     "iopub.execute_input": "2022-01-25T21:51:45.833636Z",
     "iopub.status.busy": "2022-01-25T21:51:45.833168Z",
     "iopub.status.idle": "2022-01-25T21:51:45.834683Z",
     "shell.execute_reply": "2022-01-25T21:51:45.835026Z"
    },
    "papermill": {
     "duration": 0.025254,
     "end_time": "2022-01-25T21:51:45.835138",
     "exception": false,
     "start_time": "2022-01-25T21:51:45.809884",
     "status": "completed"
    },
    "tags": []
   },
   "outputs": [],
   "source": [
    "DATASET_CONFIG = conf.GTEX\n",
    "GTEX_TISSUE = \"whole_blood\"\n",
    "GENE_SEL_STRATEGY = \"var_pc_log2\""
   ]
  },
  {
   "cell_type": "code",
   "execution_count": 3,
   "id": "85ee3634-e24a-45d1-8209-5e1b7e81d5d0",
   "metadata": {
    "execution": {
     "iopub.execute_input": "2022-01-25T21:51:45.880601Z",
     "iopub.status.busy": "2022-01-25T21:51:45.880142Z",
     "iopub.status.idle": "2022-01-25T21:51:45.881823Z",
     "shell.execute_reply": "2022-01-25T21:51:45.882167Z"
    },
    "papermill": {
     "duration": 0.025907,
     "end_time": "2022-01-25T21:51:45.882279",
     "exception": false,
     "start_time": "2022-01-25T21:51:45.856372",
     "status": "completed"
    },
    "tags": []
   },
   "outputs": [],
   "source": [
    "# maximum amount of gene pairs to sample\n",
    "MAX_SAMPLE_SIZE = 1000"
   ]
  },
  {
   "cell_type": "markdown",
   "id": "a1159982-5dd1-4494-97d4-0674eeead1c3",
   "metadata": {
    "papermill": {
     "duration": 0.020787,
     "end_time": "2022-01-25T21:51:45.924423",
     "exception": false,
     "start_time": "2022-01-25T21:51:45.903636",
     "status": "completed"
    },
    "tags": []
   },
   "source": [
    "# Paths"
   ]
  },
  {
   "cell_type": "code",
   "execution_count": 4,
   "id": "30cce6f5-ca1b-438c-859d-31903a42d4c6",
   "metadata": {
    "execution": {
     "iopub.execute_input": "2022-01-25T21:51:45.973813Z",
     "iopub.status.busy": "2022-01-25T21:51:45.973279Z",
     "iopub.status.idle": "2022-01-25T21:51:45.977584Z",
     "shell.execute_reply": "2022-01-25T21:51:45.977142Z"
    },
    "papermill": {
     "duration": 0.032313,
     "end_time": "2022-01-25T21:51:45.977677",
     "exception": false,
     "start_time": "2022-01-25T21:51:45.945364",
     "status": "completed"
    },
    "tags": []
   },
   "outputs": [
    {
     "data": {
      "text/plain": [
       "PosixPath('/opt/data/results/gtex_v8/gene_pair_intersections/gene_pair_intersections-gtex_v8-whole_blood-var_pc_log2.pkl')"
      ]
     },
     "metadata": {},
     "output_type": "display_data"
    }
   ],
   "source": [
    "INPUT_GENE_PAIRS_INTERSECTIONS_FILE = (\n",
    "    DATASET_CONFIG[\"GENE_PAIR_INTERSECTIONS\"]\n",
    "    / f\"gene_pair_intersections-gtex_v8-{GTEX_TISSUE}-{GENE_SEL_STRATEGY}.pkl\"\n",
    ")\n",
    "display(INPUT_GENE_PAIRS_INTERSECTIONS_FILE)\n",
    "\n",
    "assert INPUT_GENE_PAIRS_INTERSECTIONS_FILE.exists()"
   ]
  },
  {
   "cell_type": "code",
   "execution_count": 5,
   "id": "f4468c0e-c0ad-4bf5-b120-3f63e7afc33f",
   "metadata": {
    "execution": {
     "iopub.execute_input": "2022-01-25T21:51:46.024633Z",
     "iopub.status.busy": "2022-01-25T21:51:46.023960Z",
     "iopub.status.idle": "2022-01-25T21:51:46.026238Z",
     "shell.execute_reply": "2022-01-25T21:51:46.026612Z"
    },
    "papermill": {
     "duration": 0.027327,
     "end_time": "2022-01-25T21:51:46.026725",
     "exception": false,
     "start_time": "2022-01-25T21:51:45.999398",
     "status": "completed"
    },
    "tags": []
   },
   "outputs": [
    {
     "data": {
      "text/plain": [
       "PosixPath('/opt/data/results/gtex_v8/gene_pair_intersections/gene_pair_intersections-gtex_v8-whole_blood-var_pc_log2-sample.pkl')"
      ]
     },
     "metadata": {},
     "output_type": "display_data"
    }
   ],
   "source": [
    "OUTPUT_FILE = (\n",
    "    INPUT_GENE_PAIRS_INTERSECTIONS_FILE.parent\n",
    "    / f\"{INPUT_GENE_PAIRS_INTERSECTIONS_FILE.stem}-sample.pkl\"\n",
    ")\n",
    "\n",
    "display(OUTPUT_FILE)"
   ]
  },
  {
   "cell_type": "markdown",
   "id": "f6d3322b-c8bb-4fc2-97b6-5bb1793b1577",
   "metadata": {
    "papermill": {
     "duration": 0.021543,
     "end_time": "2022-01-25T21:51:46.070255",
     "exception": false,
     "start_time": "2022-01-25T21:51:46.048712",
     "status": "completed"
    },
    "tags": []
   },
   "source": [
    "# Data"
   ]
  },
  {
   "cell_type": "markdown",
   "id": "b030f506-2fe9-4895-a8a1-51374e88c496",
   "metadata": {
    "papermill": {
     "duration": 0.021278,
     "end_time": "2022-01-25T21:51:46.112756",
     "exception": false,
     "start_time": "2022-01-25T21:51:46.091478",
     "status": "completed"
    },
    "tags": []
   },
   "source": [
    "## Gene pairs intersection"
   ]
  },
  {
   "cell_type": "code",
   "execution_count": 6,
   "id": "da1d768a-fbfb-40e8-8fbb-790d1a94aa83",
   "metadata": {
    "execution": {
     "iopub.execute_input": "2022-01-25T21:51:46.160464Z",
     "iopub.status.busy": "2022-01-25T21:51:46.160002Z",
     "iopub.status.idle": "2022-01-25T21:51:46.391437Z",
     "shell.execute_reply": "2022-01-25T21:51:46.391042Z"
    },
    "papermill": {
     "duration": 0.257069,
     "end_time": "2022-01-25T21:51:46.391539",
     "exception": false,
     "start_time": "2022-01-25T21:51:46.134470",
     "status": "completed"
    },
    "tags": []
   },
   "outputs": [],
   "source": [
    "df_plot = pd.read_pickle(INPUT_GENE_PAIRS_INTERSECTIONS_FILE)"
   ]
  },
  {
   "cell_type": "code",
   "execution_count": 7,
   "id": "6123d474-0c0d-4771-9678-248ce89424ce",
   "metadata": {
    "execution": {
     "iopub.execute_input": "2022-01-25T21:51:46.439456Z",
     "iopub.status.busy": "2022-01-25T21:51:46.438856Z",
     "iopub.status.idle": "2022-01-25T21:51:46.441772Z",
     "shell.execute_reply": "2022-01-25T21:51:46.441334Z"
    },
    "papermill": {
     "duration": 0.027972,
     "end_time": "2022-01-25T21:51:46.441863",
     "exception": false,
     "start_time": "2022-01-25T21:51:46.413891",
     "status": "completed"
    },
    "tags": []
   },
   "outputs": [
    {
     "data": {
      "text/plain": [
       "(12497500, 9)"
      ]
     },
     "execution_count": 7,
     "metadata": {},
     "output_type": "execute_result"
    }
   ],
   "source": [
    "df_plot.shape"
   ]
  },
  {
   "cell_type": "code",
   "execution_count": 8,
   "id": "b028abd8-c5b1-48c2-aa5e-cb1b49c943a4",
   "metadata": {
    "execution": {
     "iopub.execute_input": "2022-01-25T21:51:46.490291Z",
     "iopub.status.busy": "2022-01-25T21:51:46.489817Z",
     "iopub.status.idle": "2022-01-25T21:51:46.500624Z",
     "shell.execute_reply": "2022-01-25T21:51:46.500236Z"
    },
    "papermill": {
     "duration": 0.036211,
     "end_time": "2022-01-25T21:51:46.500718",
     "exception": false,
     "start_time": "2022-01-25T21:51:46.464507",
     "status": "completed"
    },
    "tags": []
   },
   "outputs": [
    {
     "data": {
      "text/html": [
       "<div>\n",
       "<style scoped>\n",
       "    .dataframe tbody tr th:only-of-type {\n",
       "        vertical-align: middle;\n",
       "    }\n",
       "\n",
       "    .dataframe tbody tr th {\n",
       "        vertical-align: top;\n",
       "    }\n",
       "\n",
       "    .dataframe thead th {\n",
       "        text-align: right;\n",
       "    }\n",
       "</style>\n",
       "<table border=\"1\" class=\"dataframe\">\n",
       "  <thead>\n",
       "    <tr style=\"text-align: right;\">\n",
       "      <th></th>\n",
       "      <th></th>\n",
       "      <th>Pearson (high)</th>\n",
       "      <th>Pearson (low)</th>\n",
       "      <th>Spearman (high)</th>\n",
       "      <th>Spearman (low)</th>\n",
       "      <th>Clustermatch (high)</th>\n",
       "      <th>Clustermatch (low)</th>\n",
       "      <th>clustermatch</th>\n",
       "      <th>pearson</th>\n",
       "      <th>spearman</th>\n",
       "    </tr>\n",
       "  </thead>\n",
       "  <tbody>\n",
       "    <tr>\n",
       "      <th rowspan=\"5\" valign=\"top\">ENSG00000000419.12</th>\n",
       "      <th>ENSG00000002834.17</th>\n",
       "      <td>True</td>\n",
       "      <td>False</td>\n",
       "      <td>True</td>\n",
       "      <td>False</td>\n",
       "      <td>True</td>\n",
       "      <td>False</td>\n",
       "      <td>0.418721</td>\n",
       "      <td>0.681847</td>\n",
       "      <td>0.786595</td>\n",
       "    </tr>\n",
       "    <tr>\n",
       "      <th>ENSG00000002919.14</th>\n",
       "      <td>True</td>\n",
       "      <td>False</td>\n",
       "      <td>True</td>\n",
       "      <td>False</td>\n",
       "      <td>True</td>\n",
       "      <td>False</td>\n",
       "      <td>0.405090</td>\n",
       "      <td>0.734699</td>\n",
       "      <td>0.816991</td>\n",
       "    </tr>\n",
       "    <tr>\n",
       "      <th>ENSG00000002933.7</th>\n",
       "      <td>False</td>\n",
       "      <td>True</td>\n",
       "      <td>False</td>\n",
       "      <td>True</td>\n",
       "      <td>False</td>\n",
       "      <td>True</td>\n",
       "      <td>0.007466</td>\n",
       "      <td>0.013825</td>\n",
       "      <td>0.004128</td>\n",
       "    </tr>\n",
       "    <tr>\n",
       "      <th>ENSG00000003402.19</th>\n",
       "      <td>True</td>\n",
       "      <td>False</td>\n",
       "      <td>True</td>\n",
       "      <td>False</td>\n",
       "      <td>True</td>\n",
       "      <td>False</td>\n",
       "      <td>0.391683</td>\n",
       "      <td>0.727347</td>\n",
       "      <td>0.803653</td>\n",
       "    </tr>\n",
       "    <tr>\n",
       "      <th>ENSG00000004478.7</th>\n",
       "      <td>False</td>\n",
       "      <td>True</td>\n",
       "      <td>False</td>\n",
       "      <td>False</td>\n",
       "      <td>False</td>\n",
       "      <td>False</td>\n",
       "      <td>0.099013</td>\n",
       "      <td>0.094147</td>\n",
       "      <td>0.231269</td>\n",
       "    </tr>\n",
       "  </tbody>\n",
       "</table>\n",
       "</div>"
      ],
      "text/plain": [
       "                                       Pearson (high)  Pearson (low)  \\\n",
       "ENSG00000000419.12 ENSG00000002834.17            True          False   \n",
       "                   ENSG00000002919.14            True          False   \n",
       "                   ENSG00000002933.7            False           True   \n",
       "                   ENSG00000003402.19            True          False   \n",
       "                   ENSG00000004478.7            False           True   \n",
       "\n",
       "                                       Spearman (high)  Spearman (low)  \\\n",
       "ENSG00000000419.12 ENSG00000002834.17             True           False   \n",
       "                   ENSG00000002919.14             True           False   \n",
       "                   ENSG00000002933.7             False            True   \n",
       "                   ENSG00000003402.19             True           False   \n",
       "                   ENSG00000004478.7             False           False   \n",
       "\n",
       "                                       Clustermatch (high)  \\\n",
       "ENSG00000000419.12 ENSG00000002834.17                 True   \n",
       "                   ENSG00000002919.14                 True   \n",
       "                   ENSG00000002933.7                 False   \n",
       "                   ENSG00000003402.19                 True   \n",
       "                   ENSG00000004478.7                 False   \n",
       "\n",
       "                                       Clustermatch (low)  clustermatch  \\\n",
       "ENSG00000000419.12 ENSG00000002834.17               False      0.418721   \n",
       "                   ENSG00000002919.14               False      0.405090   \n",
       "                   ENSG00000002933.7                 True      0.007466   \n",
       "                   ENSG00000003402.19               False      0.391683   \n",
       "                   ENSG00000004478.7                False      0.099013   \n",
       "\n",
       "                                        pearson  spearman  \n",
       "ENSG00000000419.12 ENSG00000002834.17  0.681847  0.786595  \n",
       "                   ENSG00000002919.14  0.734699  0.816991  \n",
       "                   ENSG00000002933.7   0.013825  0.004128  \n",
       "                   ENSG00000003402.19  0.727347  0.803653  \n",
       "                   ENSG00000004478.7   0.094147  0.231269  "
      ]
     },
     "execution_count": 8,
     "metadata": {},
     "output_type": "execute_result"
    }
   ],
   "source": [
    "df_plot.head()"
   ]
  },
  {
   "cell_type": "markdown",
   "id": "cfc35dbc-1ad5-48c0-b4d3-8a4dbb9b68ad",
   "metadata": {
    "papermill": {
     "duration": 0.021961,
     "end_time": "2022-01-25T21:51:46.545905",
     "exception": false,
     "start_time": "2022-01-25T21:51:46.523944",
     "status": "completed"
    },
    "tags": []
   },
   "source": [
    "# CHANGE - Look at specific gene pair cases"
   ]
  },
  {
   "cell_type": "code",
   "execution_count": 9,
   "id": "81036a3c-7340-4de4-b495-ca68d75eeb71",
   "metadata": {
    "execution": {
     "iopub.execute_input": "2022-01-25T21:51:46.593862Z",
     "iopub.status.busy": "2022-01-25T21:51:46.593395Z",
     "iopub.status.idle": "2022-01-25T21:51:46.594991Z",
     "shell.execute_reply": "2022-01-25T21:51:46.595330Z"
    },
    "papermill": {
     "duration": 0.027161,
     "end_time": "2022-01-25T21:51:46.595443",
     "exception": false,
     "start_time": "2022-01-25T21:51:46.568282",
     "status": "completed"
    },
    "tags": []
   },
   "outputs": [],
   "source": [
    "df_r_data = df_plot"
   ]
  },
  {
   "cell_type": "code",
   "execution_count": 10,
   "id": "03a9f7bc-7e85-4fa9-bcad-61044720576c",
   "metadata": {
    "execution": {
     "iopub.execute_input": "2022-01-25T21:51:46.651366Z",
     "iopub.status.busy": "2022-01-25T21:51:46.650744Z",
     "iopub.status.idle": "2022-01-25T21:51:46.653159Z",
     "shell.execute_reply": "2022-01-25T21:51:46.653523Z"
    },
    "papermill": {
     "duration": 0.035624,
     "end_time": "2022-01-25T21:51:46.653638",
     "exception": false,
     "start_time": "2022-01-25T21:51:46.618014",
     "status": "completed"
    },
    "tags": []
   },
   "outputs": [
    {
     "data": {
      "text/html": [
       "<div>\n",
       "<style scoped>\n",
       "    .dataframe tbody tr th:only-of-type {\n",
       "        vertical-align: middle;\n",
       "    }\n",
       "\n",
       "    .dataframe tbody tr th {\n",
       "        vertical-align: top;\n",
       "    }\n",
       "\n",
       "    .dataframe thead th {\n",
       "        text-align: right;\n",
       "    }\n",
       "</style>\n",
       "<table border=\"1\" class=\"dataframe\">\n",
       "  <thead>\n",
       "    <tr style=\"text-align: right;\">\n",
       "      <th></th>\n",
       "      <th></th>\n",
       "      <th>Pearson (high)</th>\n",
       "      <th>Pearson (low)</th>\n",
       "      <th>Spearman (high)</th>\n",
       "      <th>Spearman (low)</th>\n",
       "      <th>Clustermatch (high)</th>\n",
       "      <th>Clustermatch (low)</th>\n",
       "      <th>clustermatch</th>\n",
       "      <th>pearson</th>\n",
       "      <th>spearman</th>\n",
       "    </tr>\n",
       "  </thead>\n",
       "  <tbody>\n",
       "    <tr>\n",
       "      <th rowspan=\"5\" valign=\"top\">ENSG00000000419.12</th>\n",
       "      <th>ENSG00000002834.17</th>\n",
       "      <td>True</td>\n",
       "      <td>False</td>\n",
       "      <td>True</td>\n",
       "      <td>False</td>\n",
       "      <td>True</td>\n",
       "      <td>False</td>\n",
       "      <td>0.418721</td>\n",
       "      <td>0.681847</td>\n",
       "      <td>0.786595</td>\n",
       "    </tr>\n",
       "    <tr>\n",
       "      <th>ENSG00000002919.14</th>\n",
       "      <td>True</td>\n",
       "      <td>False</td>\n",
       "      <td>True</td>\n",
       "      <td>False</td>\n",
       "      <td>True</td>\n",
       "      <td>False</td>\n",
       "      <td>0.405090</td>\n",
       "      <td>0.734699</td>\n",
       "      <td>0.816991</td>\n",
       "    </tr>\n",
       "    <tr>\n",
       "      <th>ENSG00000002933.7</th>\n",
       "      <td>False</td>\n",
       "      <td>True</td>\n",
       "      <td>False</td>\n",
       "      <td>True</td>\n",
       "      <td>False</td>\n",
       "      <td>True</td>\n",
       "      <td>0.007466</td>\n",
       "      <td>0.013825</td>\n",
       "      <td>0.004128</td>\n",
       "    </tr>\n",
       "    <tr>\n",
       "      <th>ENSG00000003402.19</th>\n",
       "      <td>True</td>\n",
       "      <td>False</td>\n",
       "      <td>True</td>\n",
       "      <td>False</td>\n",
       "      <td>True</td>\n",
       "      <td>False</td>\n",
       "      <td>0.391683</td>\n",
       "      <td>0.727347</td>\n",
       "      <td>0.803653</td>\n",
       "    </tr>\n",
       "    <tr>\n",
       "      <th>ENSG00000004478.7</th>\n",
       "      <td>False</td>\n",
       "      <td>True</td>\n",
       "      <td>False</td>\n",
       "      <td>False</td>\n",
       "      <td>False</td>\n",
       "      <td>False</td>\n",
       "      <td>0.099013</td>\n",
       "      <td>0.094147</td>\n",
       "      <td>0.231269</td>\n",
       "    </tr>\n",
       "  </tbody>\n",
       "</table>\n",
       "</div>"
      ],
      "text/plain": [
       "                                       Pearson (high)  Pearson (low)  \\\n",
       "ENSG00000000419.12 ENSG00000002834.17            True          False   \n",
       "                   ENSG00000002919.14            True          False   \n",
       "                   ENSG00000002933.7            False           True   \n",
       "                   ENSG00000003402.19            True          False   \n",
       "                   ENSG00000004478.7            False           True   \n",
       "\n",
       "                                       Spearman (high)  Spearman (low)  \\\n",
       "ENSG00000000419.12 ENSG00000002834.17             True           False   \n",
       "                   ENSG00000002919.14             True           False   \n",
       "                   ENSG00000002933.7             False            True   \n",
       "                   ENSG00000003402.19             True           False   \n",
       "                   ENSG00000004478.7             False           False   \n",
       "\n",
       "                                       Clustermatch (high)  \\\n",
       "ENSG00000000419.12 ENSG00000002834.17                 True   \n",
       "                   ENSG00000002919.14                 True   \n",
       "                   ENSG00000002933.7                 False   \n",
       "                   ENSG00000003402.19                 True   \n",
       "                   ENSG00000004478.7                 False   \n",
       "\n",
       "                                       Clustermatch (low)  clustermatch  \\\n",
       "ENSG00000000419.12 ENSG00000002834.17               False      0.418721   \n",
       "                   ENSG00000002919.14               False      0.405090   \n",
       "                   ENSG00000002933.7                 True      0.007466   \n",
       "                   ENSG00000003402.19               False      0.391683   \n",
       "                   ENSG00000004478.7                False      0.099013   \n",
       "\n",
       "                                        pearson  spearman  \n",
       "ENSG00000000419.12 ENSG00000002834.17  0.681847  0.786595  \n",
       "                   ENSG00000002919.14  0.734699  0.816991  \n",
       "                   ENSG00000002933.7   0.013825  0.004128  \n",
       "                   ENSG00000003402.19  0.727347  0.803653  \n",
       "                   ENSG00000004478.7   0.094147  0.231269  "
      ]
     },
     "execution_count": 10,
     "metadata": {},
     "output_type": "execute_result"
    }
   ],
   "source": [
    "df_r_data.head()"
   ]
  },
  {
   "cell_type": "code",
   "execution_count": 11,
   "id": "438e9c56-040f-4344-8397-e853dde645cf",
   "metadata": {
    "execution": {
     "iopub.execute_input": "2022-01-25T21:51:46.703614Z",
     "iopub.status.busy": "2022-01-25T21:51:46.703162Z",
     "iopub.status.idle": "2022-01-25T21:51:46.704724Z",
     "shell.execute_reply": "2022-01-25T21:51:46.705065Z"
    },
    "papermill": {
     "duration": 0.02809,
     "end_time": "2022-01-25T21:51:46.705178",
     "exception": false,
     "start_time": "2022-01-25T21:51:46.677088",
     "status": "completed"
    },
    "tags": []
   },
   "outputs": [],
   "source": [
    "df_r_data_boolean_cols = set(\n",
    "    [x for x in df_r_data.columns if \" (high)\" in x or \" (low)\" in x]\n",
    ")"
   ]
  },
  {
   "cell_type": "code",
   "execution_count": 12,
   "id": "915834dd-2532-4139-a25b-6cd089655d74",
   "metadata": {
    "execution": {
     "iopub.execute_input": "2022-01-25T21:51:46.756165Z",
     "iopub.status.busy": "2022-01-25T21:51:46.755583Z",
     "iopub.status.idle": "2022-01-25T21:51:46.757742Z",
     "shell.execute_reply": "2022-01-25T21:51:46.758109Z"
    },
    "papermill": {
     "duration": 0.02935,
     "end_time": "2022-01-25T21:51:46.758221",
     "exception": false,
     "start_time": "2022-01-25T21:51:46.728871",
     "status": "completed"
    },
    "tags": []
   },
   "outputs": [
    {
     "data": {
      "text/plain": [
       "{'Clustermatch (high)',\n",
       " 'Clustermatch (low)',\n",
       " 'Pearson (high)',\n",
       " 'Pearson (low)',\n",
       " 'Spearman (high)',\n",
       " 'Spearman (low)'}"
      ]
     },
     "execution_count": 12,
     "metadata": {},
     "output_type": "execute_result"
    }
   ],
   "source": [
    "df_r_data_boolean_cols"
   ]
  },
  {
   "cell_type": "markdown",
   "id": "b0c529c2-658c-4886-bbd4-0457a649ee36",
   "metadata": {
    "papermill": {
     "duration": 0.02326,
     "end_time": "2022-01-25T21:51:46.805133",
     "exception": false,
     "start_time": "2022-01-25T21:51:46.781873",
     "status": "completed"
    },
    "tags": []
   },
   "source": [
    "## Functions"
   ]
  },
  {
   "cell_type": "code",
   "execution_count": 13,
   "id": "ae599640-083e-420b-9ad6-b0436fa74864",
   "metadata": {
    "execution": {
     "iopub.execute_input": "2022-01-25T21:51:46.858877Z",
     "iopub.status.busy": "2022-01-25T21:51:46.858413Z",
     "iopub.status.idle": "2022-01-25T21:51:46.859972Z",
     "shell.execute_reply": "2022-01-25T21:51:46.860317Z"
    },
    "papermill": {
     "duration": 0.032016,
     "end_time": "2022-01-25T21:51:46.860431",
     "exception": false,
     "start_time": "2022-01-25T21:51:46.828415",
     "status": "completed"
    },
    "tags": []
   },
   "outputs": [],
   "source": [
    "def get_gene_pairs(first_coef, query_set):\n",
    "    \"\"\"\n",
    "    FIXME: move this function to the library\n",
    "\n",
    "    It queries a dataframe with the intersections of different groups (i.e.,\n",
    "    clustermatch high, pearson low, etc) given a query set. It returns a slice of\n",
    "    the dataframe according to the query set provided.\n",
    "\n",
    "    The function needs to access a variable named \"df_r_data\" that has the\n",
    "    intersections between coefficients.\n",
    "\n",
    "    Args:\n",
    "        first_coef: the main coefficient (\"clustermatch\", \"pearson\" or \"spearman\")\n",
    "            of interest. The final dataframe will be sorted according to this\n",
    "            coefficient.\n",
    "        query_set: a tuple with strings that specifies a query. For example\n",
    "            (\"Clustermatch (high)\", \"Pearson (low\") would select all gene pairs\n",
    "            for which clustermatch is high and pearson is low.\n",
    "\n",
    "    Returns:\n",
    "        A slice of variable \"data_r_data\" where the conditions specified in query_set\n",
    "        apply.\n",
    "    \"\"\"\n",
    "    assert all([x in df_r_data_boolean_cols for x in query_set])\n",
    "\n",
    "    query = np.concatenate(\n",
    "        [\n",
    "            # columns that have to be true\n",
    "            np.concatenate(\n",
    "                [df_r_data[c].to_numpy().reshape(-1, 1) for c in query_set], axis=1\n",
    "            )\n",
    "            .all(axis=1)\n",
    "            .reshape(-1, 1),\n",
    "            # rest of the columns, that have to be false\n",
    "            np.concatenate(\n",
    "                [\n",
    "                    ~df_r_data[c].to_numpy().reshape(-1, 1)\n",
    "                    for c in df_r_data_boolean_cols\n",
    "                    if c not in query_set\n",
    "                ],\n",
    "                axis=1,\n",
    "            )\n",
    "            .all(axis=1)\n",
    "            .reshape(-1, 1),\n",
    "        ],\n",
    "        axis=1,\n",
    "    ).all(axis=1)\n",
    "\n",
    "    _tmp_df = df_r_data[query]\n",
    "\n",
    "    # sort by firt_coef value\n",
    "    _tmp_df = _tmp_df.sort_values(first_coef, ascending=False)\n",
    "\n",
    "    _tmp_df = _tmp_df[\n",
    "        [x for x in _tmp_df.columns if \"(high)\" not in x and \"(low)\" not in x]\n",
    "    ]\n",
    "\n",
    "    return _tmp_df"
   ]
  },
  {
   "cell_type": "markdown",
   "id": "fad30c56-b3fb-48a8-b532-6399c86af347",
   "metadata": {
    "papermill": {
     "duration": 0.023728,
     "end_time": "2022-01-25T21:51:46.908300",
     "exception": false,
     "start_time": "2022-01-25T21:51:46.884572",
     "status": "completed"
    },
    "tags": []
   },
   "source": [
    "# Get intersections dataframe"
   ]
  },
  {
   "cell_type": "code",
   "execution_count": 14,
   "id": "0014def5-abc9-4503-a4dd-4801ddc6b657",
   "metadata": {
    "execution": {
     "iopub.execute_input": "2022-01-25T21:51:46.959917Z",
     "iopub.status.busy": "2022-01-25T21:51:46.959440Z",
     "iopub.status.idle": "2022-01-25T21:51:46.961505Z",
     "shell.execute_reply": "2022-01-25T21:51:46.961137Z"
    },
    "papermill": {
     "duration": 0.028863,
     "end_time": "2022-01-25T21:51:46.961595",
     "exception": false,
     "start_time": "2022-01-25T21:51:46.932732",
     "status": "completed"
    },
    "tags": []
   },
   "outputs": [],
   "source": [
    "intersections = {}"
   ]
  },
  {
   "cell_type": "markdown",
   "id": "a0f774c2-2bd4-4d61-92f7-b0f04264e5b7",
   "metadata": {
    "papermill": {
     "duration": 0.023479,
     "end_time": "2022-01-25T21:51:47.009078",
     "exception": false,
     "start_time": "2022-01-25T21:51:46.985599",
     "status": "completed"
    },
    "tags": []
   },
   "source": [
    "## Agreements"
   ]
  },
  {
   "cell_type": "code",
   "execution_count": 15,
   "id": "d21ca403-339f-43ec-a66e-8f3ba10ecfb3",
   "metadata": {
    "execution": {
     "iopub.execute_input": "2022-01-25T21:51:47.063394Z",
     "iopub.status.busy": "2022-01-25T21:51:47.062877Z",
     "iopub.status.idle": "2022-01-25T21:51:54.694199Z",
     "shell.execute_reply": "2022-01-25T21:51:54.693615Z"
    },
    "papermill": {
     "duration": 7.661475,
     "end_time": "2022-01-25T21:51:54.694318",
     "exception": false,
     "start_time": "2022-01-25T21:51:47.032843",
     "status": "completed"
    },
    "tags": []
   },
   "outputs": [],
   "source": [
    "_queries = [\n",
    "    [\n",
    "        \"Clustermatch (high)\",\n",
    "        \"Pearson (high)\",\n",
    "        \"Spearman (high)\",\n",
    "        # \"Clustermatch (low)\",\n",
    "        # \"Pearson (low)\",\n",
    "        # \"Spearman (low)\",\n",
    "    ],\n",
    "    [\n",
    "        \"Clustermatch (high)\",\n",
    "        \"Pearson (high)\",\n",
    "        # \"Spearman (high)\",\n",
    "        # \"Clustermatch (low)\",\n",
    "        # \"Pearson (low)\",\n",
    "        # \"Spearman (low)\",\n",
    "    ],\n",
    "    [\n",
    "        \"Clustermatch (high)\",\n",
    "        # \"Pearson (high)\",\n",
    "        \"Spearman (high)\",\n",
    "        # \"Clustermatch (low)\",\n",
    "        # \"Pearson (low)\",\n",
    "        # \"Spearman (low)\",\n",
    "    ],\n",
    "    [\n",
    "        # \"Clustermatch (high)\",\n",
    "        \"Pearson (high)\",\n",
    "        \"Spearman (high)\",\n",
    "        # \"Clustermatch (low)\",\n",
    "        # \"Pearson (low)\",\n",
    "        # \"Spearman (low)\",\n",
    "    ],\n",
    "    [\n",
    "        # \"Clustermatch (high)\",\n",
    "        # \"Pearson (high)\",\n",
    "        # \"Spearman (high)\",\n",
    "        \"Clustermatch (low)\",\n",
    "        \"Pearson (low)\",\n",
    "        # \"Spearman (low)\",\n",
    "    ],\n",
    "    [\n",
    "        # \"Clustermatch (high)\",\n",
    "        # \"Pearson (high)\",\n",
    "        # \"Spearman (high)\",\n",
    "        \"Clustermatch (low)\",\n",
    "        # \"Pearson (low)\",\n",
    "        \"Spearman (low)\",\n",
    "    ],\n",
    "    [\n",
    "        # \"Clustermatch (high)\",\n",
    "        # \"Pearson (high)\",\n",
    "        # \"Spearman (high)\",\n",
    "        # \"Clustermatch (low)\",\n",
    "        \"Pearson (low)\",\n",
    "        \"Spearman (low)\",\n",
    "    ],\n",
    "    [\n",
    "        # \"Clustermatch (high)\",\n",
    "        # \"Pearson (high)\",\n",
    "        # \"Spearman (high)\",\n",
    "        \"Clustermatch (low)\",\n",
    "        \"Pearson (low)\",\n",
    "        \"Spearman (low)\",\n",
    "    ],\n",
    "]\n",
    "\n",
    "for idx, _query in enumerate(_queries):\n",
    "    _query_str = str(\", \".join(_query))\n",
    "    assert _query_str not in intersections\n",
    "\n",
    "    _tmp_df = get_gene_pairs(\n",
    "        \"clustermatch\",\n",
    "        set(_query),\n",
    "    )\n",
    "\n",
    "    intersections[_query_str] = _tmp_df.sample(\n",
    "        n=min(_tmp_df.shape[0], MAX_SAMPLE_SIZE), random_state=idx\n",
    "    ).index.to_frame(index=False, name=[\"gene0\", \"gene1\"])"
   ]
  },
  {
   "cell_type": "code",
   "execution_count": 16,
   "id": "8e689437-adab-4b13-819c-a24f8a4c316f",
   "metadata": {
    "execution": {
     "iopub.execute_input": "2022-01-25T21:51:54.753051Z",
     "iopub.status.busy": "2022-01-25T21:51:54.752555Z",
     "iopub.status.idle": "2022-01-25T21:51:54.754065Z",
     "shell.execute_reply": "2022-01-25T21:51:54.754433Z"
    },
    "papermill": {
     "duration": 0.031121,
     "end_time": "2022-01-25T21:51:54.754547",
     "exception": false,
     "start_time": "2022-01-25T21:51:54.723426",
     "status": "completed"
    },
    "tags": []
   },
   "outputs": [],
   "source": [
    "assert len(intersections) == 8"
   ]
  },
  {
   "cell_type": "code",
   "execution_count": 17,
   "id": "e9e96ea5-6d8b-4fd7-ae63-cd17f9e854b7",
   "metadata": {
    "execution": {
     "iopub.execute_input": "2022-01-25T21:51:54.808260Z",
     "iopub.status.busy": "2022-01-25T21:51:54.807722Z",
     "iopub.status.idle": "2022-01-25T21:51:54.809334Z",
     "shell.execute_reply": "2022-01-25T21:51:54.809680Z"
    },
    "papermill": {
     "duration": 0.029757,
     "end_time": "2022-01-25T21:51:54.809795",
     "exception": false,
     "start_time": "2022-01-25T21:51:54.780038",
     "status": "completed"
    },
    "tags": []
   },
   "outputs": [],
   "source": [
    "_sizes = set()\n",
    "for _query_str in intersections.keys():\n",
    "    _sizes.add(intersections[_query_str].shape[0])"
   ]
  },
  {
   "cell_type": "code",
   "execution_count": 18,
   "id": "a646b1bf-0545-4cf5-a323-03a8deb2a44f",
   "metadata": {
    "execution": {
     "iopub.execute_input": "2022-01-25T21:51:54.866150Z",
     "iopub.status.busy": "2022-01-25T21:51:54.865703Z",
     "iopub.status.idle": "2022-01-25T21:51:54.867460Z",
     "shell.execute_reply": "2022-01-25T21:51:54.867804Z"
    },
    "papermill": {
     "duration": 0.031306,
     "end_time": "2022-01-25T21:51:54.868010",
     "exception": false,
     "start_time": "2022-01-25T21:51:54.836704",
     "status": "completed"
    },
    "tags": []
   },
   "outputs": [],
   "source": [
    "assert _sizes == {MAX_SAMPLE_SIZE}"
   ]
  },
  {
   "cell_type": "code",
   "execution_count": 19,
   "id": "dc872b58-5f4c-4e42-8e3f-31c540982b2e",
   "metadata": {
    "execution": {
     "iopub.execute_input": "2022-01-25T21:51:54.928176Z",
     "iopub.status.busy": "2022-01-25T21:51:54.927598Z",
     "iopub.status.idle": "2022-01-25T21:51:54.929945Z",
     "shell.execute_reply": "2022-01-25T21:51:54.930371Z"
    },
    "papermill": {
     "duration": 0.036577,
     "end_time": "2022-01-25T21:51:54.930484",
     "exception": false,
     "start_time": "2022-01-25T21:51:54.893907",
     "status": "completed"
    },
    "tags": []
   },
   "outputs": [
    {
     "data": {
      "text/html": [
       "<div>\n",
       "<style scoped>\n",
       "    .dataframe tbody tr th:only-of-type {\n",
       "        vertical-align: middle;\n",
       "    }\n",
       "\n",
       "    .dataframe tbody tr th {\n",
       "        vertical-align: top;\n",
       "    }\n",
       "\n",
       "    .dataframe thead th {\n",
       "        text-align: right;\n",
       "    }\n",
       "</style>\n",
       "<table border=\"1\" class=\"dataframe\">\n",
       "  <thead>\n",
       "    <tr style=\"text-align: right;\">\n",
       "      <th></th>\n",
       "      <th>gene0</th>\n",
       "      <th>gene1</th>\n",
       "    </tr>\n",
       "  </thead>\n",
       "  <tbody>\n",
       "    <tr>\n",
       "      <th>0</th>\n",
       "      <td>ENSG00000073849.14</td>\n",
       "      <td>ENSG00000165131.6</td>\n",
       "    </tr>\n",
       "    <tr>\n",
       "      <th>1</th>\n",
       "      <td>ENSG00000112137.17</td>\n",
       "      <td>ENSG00000119686.9</td>\n",
       "    </tr>\n",
       "    <tr>\n",
       "      <th>2</th>\n",
       "      <td>ENSG00000157150.4</td>\n",
       "      <td>ENSG00000232656.7</td>\n",
       "    </tr>\n",
       "    <tr>\n",
       "      <th>3</th>\n",
       "      <td>ENSG00000138835.22</td>\n",
       "      <td>ENSG00000229391.7</td>\n",
       "    </tr>\n",
       "    <tr>\n",
       "      <th>4</th>\n",
       "      <td>ENSG00000161055.3</td>\n",
       "      <td>ENSG00000169926.10</td>\n",
       "    </tr>\n",
       "  </tbody>\n",
       "</table>\n",
       "</div>"
      ],
      "text/plain": [
       "                gene0               gene1\n",
       "0  ENSG00000073849.14   ENSG00000165131.6\n",
       "1  ENSG00000112137.17   ENSG00000119686.9\n",
       "2   ENSG00000157150.4   ENSG00000232656.7\n",
       "3  ENSG00000138835.22   ENSG00000229391.7\n",
       "4   ENSG00000161055.3  ENSG00000169926.10"
      ]
     },
     "execution_count": 19,
     "metadata": {},
     "output_type": "execute_result"
    }
   ],
   "source": [
    "intersections[_query_str].head()"
   ]
  },
  {
   "cell_type": "markdown",
   "id": "f85cb623-f68e-4d93-ad9a-d68de649751e",
   "metadata": {
    "papermill": {
     "duration": 0.027659,
     "end_time": "2022-01-25T21:51:54.984731",
     "exception": false,
     "start_time": "2022-01-25T21:51:54.957072",
     "status": "completed"
    },
    "tags": []
   },
   "source": [
    "## Disagreements"
   ]
  },
  {
   "cell_type": "code",
   "execution_count": 20,
   "id": "8a4b3645-4623-4bb2-b699-586eeecaac30",
   "metadata": {
    "execution": {
     "iopub.execute_input": "2022-01-25T21:51:55.046073Z",
     "iopub.status.busy": "2022-01-25T21:51:55.045522Z",
     "iopub.status.idle": "2022-01-25T21:52:00.657389Z",
     "shell.execute_reply": "2022-01-25T21:52:00.656994Z"
    },
    "papermill": {
     "duration": 5.645996,
     "end_time": "2022-01-25T21:52:00.657486",
     "exception": false,
     "start_time": "2022-01-25T21:51:55.011490",
     "status": "completed"
    },
    "tags": []
   },
   "outputs": [],
   "source": [
    "_queries = [\n",
    "    [\n",
    "        \"Clustermatch (high)\",\n",
    "        # \"Pearson (high)\",\n",
    "        \"Spearman (high)\",\n",
    "        # \"Clustermatch (low)\",\n",
    "        \"Pearson (low)\",\n",
    "        # \"Spearman (low)\",\n",
    "    ],\n",
    "    [\n",
    "        \"Clustermatch (high)\",\n",
    "        # \"Pearson (high)\",\n",
    "        # \"Spearman (high)\",\n",
    "        # \"Clustermatch (low)\",\n",
    "        \"Pearson (low)\",\n",
    "        # \"Spearman (low)\",\n",
    "    ],\n",
    "    [\n",
    "        \"Clustermatch (high)\",\n",
    "        # \"Pearson (high)\",\n",
    "        # \"Spearman (high)\",\n",
    "        # \"Clustermatch (low)\",\n",
    "        # \"Pearson (low)\",\n",
    "        \"Spearman (low)\",\n",
    "    ],\n",
    "    [\n",
    "        \"Clustermatch (high)\",\n",
    "        # \"Pearson (high)\",\n",
    "        # \"Spearman (high)\",\n",
    "        # \"Clustermatch (low)\",\n",
    "        \"Pearson (low)\",\n",
    "        \"Spearman (low)\",\n",
    "    ],\n",
    "    [\n",
    "        # \"Clustermatch (high)\",\n",
    "        \"Pearson (high)\",\n",
    "        # \"Spearman (high)\",\n",
    "        \"Clustermatch (low)\",\n",
    "        # \"Pearson (low)\",\n",
    "        # \"Spearman (low)\",\n",
    "    ],\n",
    "    [\n",
    "        # \"Clustermatch (high)\",\n",
    "        \"Pearson (high)\",\n",
    "        # \"Spearman (high)\",\n",
    "        # \"Clustermatch (low)\",\n",
    "        # \"Pearson (low)\",\n",
    "        \"Spearman (low)\",\n",
    "    ],\n",
    "    [\n",
    "        # \"Clustermatch (high)\",\n",
    "        \"Pearson (high)\",\n",
    "        # \"Spearman (high)\",\n",
    "        \"Clustermatch (low)\",\n",
    "        # \"Pearson (low)\",\n",
    "        \"Spearman (low)\",\n",
    "    ],\n",
    "    [\n",
    "        # \"Clustermatch (high)\",\n",
    "        # \"Pearson (high)\",\n",
    "        \"Spearman (high)\",\n",
    "        # \"Clustermatch (low)\",\n",
    "        \"Pearson (low)\",\n",
    "        # \"Spearman (low)\",\n",
    "    ],\n",
    "]\n",
    "\n",
    "for idx, _query in enumerate(_queries):\n",
    "    _query_str = str(\", \".join(_query))\n",
    "    assert _query_str not in intersections\n",
    "\n",
    "    _tmp_df = get_gene_pairs(\n",
    "        \"clustermatch\",\n",
    "        set(_query),\n",
    "    )\n",
    "\n",
    "    intersections[_query_str] = _tmp_df.sample(\n",
    "        n=min(_tmp_df.shape[0], MAX_SAMPLE_SIZE), random_state=idx\n",
    "    ).index.to_frame(index=False, name=[\"gene0\", \"gene1\"])"
   ]
  },
  {
   "cell_type": "code",
   "execution_count": 21,
   "id": "a54315f8-1aec-40c7-b3c7-0cbb44c3d4c5",
   "metadata": {
    "execution": {
     "iopub.execute_input": "2022-01-25T21:52:00.711906Z",
     "iopub.status.busy": "2022-01-25T21:52:00.711406Z",
     "iopub.status.idle": "2022-01-25T21:52:00.713775Z",
     "shell.execute_reply": "2022-01-25T21:52:00.713316Z"
    },
    "papermill": {
     "duration": 0.030532,
     "end_time": "2022-01-25T21:52:00.713868",
     "exception": false,
     "start_time": "2022-01-25T21:52:00.683336",
     "status": "completed"
    },
    "tags": []
   },
   "outputs": [],
   "source": [
    "assert len(intersections) == 16"
   ]
  },
  {
   "cell_type": "code",
   "execution_count": 22,
   "id": "dd0820ec-a5ba-45fa-8cdd-709cb9531d02",
   "metadata": {
    "execution": {
     "iopub.execute_input": "2022-01-25T21:52:00.769269Z",
     "iopub.status.busy": "2022-01-25T21:52:00.768782Z",
     "iopub.status.idle": "2022-01-25T21:52:00.770241Z",
     "shell.execute_reply": "2022-01-25T21:52:00.770591Z"
    },
    "papermill": {
     "duration": 0.030962,
     "end_time": "2022-01-25T21:52:00.770706",
     "exception": false,
     "start_time": "2022-01-25T21:52:00.739744",
     "status": "completed"
    },
    "tags": []
   },
   "outputs": [],
   "source": [
    "_sizes = set()\n",
    "for _query_str in intersections.keys():\n",
    "    _sizes.add(intersections[_query_str].shape[0])"
   ]
  },
  {
   "cell_type": "code",
   "execution_count": 23,
   "id": "832c5dee-8fe1-4a9a-a052-c882ef542800",
   "metadata": {
    "execution": {
     "iopub.execute_input": "2022-01-25T21:52:00.826343Z",
     "iopub.status.busy": "2022-01-25T21:52:00.825783Z",
     "iopub.status.idle": "2022-01-25T21:52:00.828779Z",
     "shell.execute_reply": "2022-01-25T21:52:00.828311Z"
    },
    "papermill": {
     "duration": 0.032082,
     "end_time": "2022-01-25T21:52:00.828909",
     "exception": false,
     "start_time": "2022-01-25T21:52:00.796827",
     "status": "completed"
    },
    "tags": []
   },
   "outputs": [
    {
     "data": {
      "text/plain": [
       "{8, 28, 87, 527, 531, 1000}"
      ]
     },
     "execution_count": 23,
     "metadata": {},
     "output_type": "execute_result"
    }
   ],
   "source": [
    "_sizes"
   ]
  },
  {
   "cell_type": "code",
   "execution_count": 24,
   "id": "73a2ddfc-429e-4291-9588-1cd3a7577cc9",
   "metadata": {
    "execution": {
     "iopub.execute_input": "2022-01-25T21:52:00.888564Z",
     "iopub.status.busy": "2022-01-25T21:52:00.887953Z",
     "iopub.status.idle": "2022-01-25T21:52:00.889502Z",
     "shell.execute_reply": "2022-01-25T21:52:00.889933Z"
    },
    "papermill": {
     "duration": 0.03274,
     "end_time": "2022-01-25T21:52:00.890071",
     "exception": false,
     "start_time": "2022-01-25T21:52:00.857331",
     "status": "completed"
    },
    "tags": []
   },
   "outputs": [],
   "source": [
    "assert _sizes == {MAX_SAMPLE_SIZE, 28, 8, 87, 531, 527}"
   ]
  },
  {
   "cell_type": "code",
   "execution_count": 25,
   "id": "cae3d0a4-d144-400f-bc08-6849872f446e",
   "metadata": {
    "execution": {
     "iopub.execute_input": "2022-01-25T21:52:00.949767Z",
     "iopub.status.busy": "2022-01-25T21:52:00.949327Z",
     "iopub.status.idle": "2022-01-25T21:52:00.952583Z",
     "shell.execute_reply": "2022-01-25T21:52:00.952948Z"
    },
    "papermill": {
     "duration": 0.036081,
     "end_time": "2022-01-25T21:52:00.953061",
     "exception": false,
     "start_time": "2022-01-25T21:52:00.916980",
     "status": "completed"
    },
    "tags": []
   },
   "outputs": [
    {
     "data": {
      "text/html": [
       "<div>\n",
       "<style scoped>\n",
       "    .dataframe tbody tr th:only-of-type {\n",
       "        vertical-align: middle;\n",
       "    }\n",
       "\n",
       "    .dataframe tbody tr th {\n",
       "        vertical-align: top;\n",
       "    }\n",
       "\n",
       "    .dataframe thead th {\n",
       "        text-align: right;\n",
       "    }\n",
       "</style>\n",
       "<table border=\"1\" class=\"dataframe\">\n",
       "  <thead>\n",
       "    <tr style=\"text-align: right;\">\n",
       "      <th></th>\n",
       "      <th>gene0</th>\n",
       "      <th>gene1</th>\n",
       "    </tr>\n",
       "  </thead>\n",
       "  <tbody>\n",
       "    <tr>\n",
       "      <th>0</th>\n",
       "      <td>ENSG00000115866.10</td>\n",
       "      <td>ENSG00000139194.7</td>\n",
       "    </tr>\n",
       "    <tr>\n",
       "      <th>1</th>\n",
       "      <td>ENSG00000133657.14</td>\n",
       "      <td>ENSG00000163739.4</td>\n",
       "    </tr>\n",
       "    <tr>\n",
       "      <th>2</th>\n",
       "      <td>ENSG00000166579.15</td>\n",
       "      <td>ENSG00000163739.4</td>\n",
       "    </tr>\n",
       "    <tr>\n",
       "      <th>3</th>\n",
       "      <td>ENSG00000108515.17</td>\n",
       "      <td>ENSG00000283063.1</td>\n",
       "    </tr>\n",
       "    <tr>\n",
       "      <th>4</th>\n",
       "      <td>ENSG00000177463.15</td>\n",
       "      <td>ENSG00000163739.4</td>\n",
       "    </tr>\n",
       "  </tbody>\n",
       "</table>\n",
       "</div>"
      ],
      "text/plain": [
       "                gene0              gene1\n",
       "0  ENSG00000115866.10  ENSG00000139194.7\n",
       "1  ENSG00000133657.14  ENSG00000163739.4\n",
       "2  ENSG00000166579.15  ENSG00000163739.4\n",
       "3  ENSG00000108515.17  ENSG00000283063.1\n",
       "4  ENSG00000177463.15  ENSG00000163739.4"
      ]
     },
     "execution_count": 25,
     "metadata": {},
     "output_type": "execute_result"
    }
   ],
   "source": [
    "intersections[_query_str].head()"
   ]
  },
  {
   "cell_type": "markdown",
   "id": "9e1b78f3-8f43-411a-acb7-4646b4979034",
   "metadata": {
    "papermill": {
     "duration": 0.026458,
     "end_time": "2022-01-25T21:52:01.006275",
     "exception": false,
     "start_time": "2022-01-25T21:52:00.979817",
     "status": "completed"
    },
    "tags": []
   },
   "source": [
    "# Save"
   ]
  },
  {
   "cell_type": "code",
   "execution_count": 26,
   "id": "a4509dd8-89bf-4bb6-bc81-92838057e89b",
   "metadata": {
    "execution": {
     "iopub.execute_input": "2022-01-25T21:52:01.062452Z",
     "iopub.status.busy": "2022-01-25T21:52:01.062004Z",
     "iopub.status.idle": "2022-01-25T21:52:01.063477Z",
     "shell.execute_reply": "2022-01-25T21:52:01.063832Z"
    },
    "papermill": {
     "duration": 0.03121,
     "end_time": "2022-01-25T21:52:01.063981",
     "exception": false,
     "start_time": "2022-01-25T21:52:01.032771",
     "status": "completed"
    },
    "tags": []
   },
   "outputs": [],
   "source": [
    "import pickle"
   ]
  },
  {
   "cell_type": "code",
   "execution_count": 27,
   "id": "e110c247-d1d9-4975-93c2-570a4698a395",
   "metadata": {
    "execution": {
     "iopub.execute_input": "2022-01-25T21:52:01.124688Z",
     "iopub.status.busy": "2022-01-25T21:52:01.122149Z",
     "iopub.status.idle": "2022-01-25T21:52:01.126898Z",
     "shell.execute_reply": "2022-01-25T21:52:01.126421Z"
    },
    "papermill": {
     "duration": 0.036162,
     "end_time": "2022-01-25T21:52:01.126991",
     "exception": false,
     "start_time": "2022-01-25T21:52:01.090829",
     "status": "completed"
    },
    "tags": []
   },
   "outputs": [],
   "source": [
    "with open(OUTPUT_FILE, \"wb\") as handle:\n",
    "    pickle.dump(intersections, handle)"
   ]
  },
  {
   "cell_type": "code",
   "execution_count": null,
   "id": "36d9dfa4-8ce3-4453-a916-45fcd2a86577",
   "metadata": {
    "papermill": {
     "duration": 0.028947,
     "end_time": "2022-01-25T21:52:01.185433",
     "exception": false,
     "start_time": "2022-01-25T21:52:01.156486",
     "status": "completed"
    },
    "tags": []
   },
   "outputs": [],
   "source": []
  }
 ],
 "metadata": {
  "jupytext": {
   "cell_metadata_filter": "all,-execution,-papermill,-trusted"
  },
  "kernelspec": {
   "display_name": "Python 3 (ipykernel)",
   "language": "python",
   "name": "python3"
  },
  "language_info": {
   "codemirror_mode": {
    "name": "ipython",
    "version": 3
   },
   "file_extension": ".py",
   "mimetype": "text/x-python",
   "name": "python",
   "nbconvert_exporter": "python",
   "pygments_lexer": "ipython3",
   "version": "3.9.9"
  },
  "papermill": {
   "default_parameters": {},
   "duration": 17.334676,
   "end_time": "2022-01-25T21:52:01.433325",
   "environment_variables": {},
   "exception": null,
   "input_path": "nbs/15_intersections/05-sample_intersections.ipynb",
   "output_path": "nbs/15_intersections/05-sample_intersections.run.ipynb",
   "parameters": {},
   "start_time": "2022-01-25T21:51:44.098649",
   "version": "2.3.4"
  },
  "toc-autonumbering": true
 },
 "nbformat": 4,
 "nbformat_minor": 5
}
