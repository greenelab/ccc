{
 "cells": [
  {
   "cell_type": "markdown",
   "id": "87e0ce1b-7ce6-4499-9342-5ded05307598",
   "metadata": {
    "papermill": {
     "duration": 0.069511,
     "end_time": "2022-01-27T14:45:56.155754",
     "exception": false,
     "start_time": "2022-01-27T14:45:56.086243",
     "status": "completed"
    },
    "tags": []
   },
   "source": [
    "# Description"
   ]
  },
  {
   "cell_type": "markdown",
   "id": "4bfc7115-350a-441b-9a19-7626a948a694",
   "metadata": {
    "papermill": {
     "duration": 0.03106,
     "end_time": "2022-01-27T14:45:56.218183",
     "exception": false,
     "start_time": "2022-01-27T14:45:56.187123",
     "status": "completed"
    },
    "tags": []
   },
   "source": [
    "It analyzes how correlation coefficients intersect on different gene pairs. Basically, I take the top gene pairs with the maximum correlation coefficient according to Pearson, Spearman and Clustermatch, and also the equivalent set with the minimum coefficient values, and then compare how these sets intersect each other.\n",
    "\n",
    "After identifying different intersection sets, I plot some gene pairs to see what's being captured or not by each coefficient."
   ]
  },
  {
   "cell_type": "markdown",
   "id": "e020c781-238b-43c2-8cad-2722b8a240e2",
   "metadata": {
    "papermill": {
     "duration": 0.031047,
     "end_time": "2022-01-27T14:45:56.280344",
     "exception": false,
     "start_time": "2022-01-27T14:45:56.249297",
     "status": "completed"
    },
    "tags": []
   },
   "source": [
    "# Modules"
   ]
  },
  {
   "cell_type": "code",
   "execution_count": 1,
   "id": "a819bfbc-5009-4c68-ba8d-37d0979d368f",
   "metadata": {
    "papermill": {
     "duration": 1.029641,
     "end_time": "2022-01-27T14:45:57.340806",
     "exception": false,
     "start_time": "2022-01-27T14:45:56.311165",
     "status": "completed"
    },
    "tags": []
   },
   "outputs": [],
   "source": [
    "import pandas as pd\n",
    "import numpy as np\n",
    "\n",
    "import matplotlib.pyplot as plt\n",
    "from upsetplot import plot, from_indicators\n",
    "\n",
    "from clustermatch.plots import MyUpSet\n",
    "from clustermatch import conf"
   ]
  },
  {
   "cell_type": "markdown",
   "id": "b4834387-58ff-468c-b326-85c408bc5feb",
   "metadata": {
    "papermill": {
     "duration": 0.031243,
     "end_time": "2022-01-27T14:45:57.403766",
     "exception": false,
     "start_time": "2022-01-27T14:45:57.372523",
     "status": "completed"
    },
    "tags": []
   },
   "source": [
    "# Settings"
   ]
  },
  {
   "cell_type": "code",
   "execution_count": 2,
   "id": "765e820a-4518-4bbc-a00f-14c9cea03821",
   "metadata": {
    "papermill": {
     "duration": 0.036384,
     "end_time": "2022-01-27T14:45:57.470949",
     "exception": false,
     "start_time": "2022-01-27T14:45:57.434565",
     "status": "completed"
    },
    "tags": []
   },
   "outputs": [],
   "source": [
    "DATASET_CONFIG = conf.GTEX\n",
    "GTEX_TISSUE = \"whole_blood\"\n",
    "GENE_SEL_STRATEGY = \"var_pc_log2\""
   ]
  },
  {
   "cell_type": "code",
   "execution_count": 3,
   "id": "ffcd0ae1-829d-4eda-befe-ace40371babf",
   "metadata": {
    "papermill": {
     "duration": 0.036038,
     "end_time": "2022-01-27T14:45:57.539310",
     "exception": false,
     "start_time": "2022-01-27T14:45:57.503272",
     "status": "completed"
    },
    "tags": []
   },
   "outputs": [],
   "source": [
    "# this specificies the threshold to compare coefficients (see below).\n",
    "# it basically takes the top Q_DIFF coefficient values for gene pairs\n",
    "# and compare with the bottom Q_DIFF of the other coefficients\n",
    "Q_DIFF = 0.30"
   ]
  },
  {
   "cell_type": "markdown",
   "id": "a1159982-5dd1-4494-97d4-0674eeead1c3",
   "metadata": {
    "papermill": {
     "duration": 0.031328,
     "end_time": "2022-01-27T14:45:57.602494",
     "exception": false,
     "start_time": "2022-01-27T14:45:57.571166",
     "status": "completed"
    },
    "tags": []
   },
   "source": [
    "# Paths"
   ]
  },
  {
   "cell_type": "code",
   "execution_count": 4,
   "id": "d50e29a6-0e18-4c3d-b933-f21a17abf831",
   "metadata": {
    "papermill": {
     "duration": 0.037283,
     "end_time": "2022-01-27T14:45:57.671263",
     "exception": false,
     "start_time": "2022-01-27T14:45:57.633980",
     "status": "completed"
    },
    "tags": []
   },
   "outputs": [],
   "source": [
    "assert (\n",
    "    conf.MANUSCRIPT[\"BASE_DIR\"] is not None and conf.MANUSCRIPT[\"BASE_DIR\"].exists()\n",
    "), \"Manuscript dir not set\""
   ]
  },
  {
   "cell_type": "code",
   "execution_count": 5,
   "id": "523c6a4e-87ec-44bf-bad3-e912b8aa0482",
   "metadata": {
    "papermill": {
     "duration": 0.040171,
     "end_time": "2022-01-27T14:45:57.750164",
     "exception": false,
     "start_time": "2022-01-27T14:45:57.709993",
     "status": "completed"
    },
    "tags": []
   },
   "outputs": [
    {
     "data": {
      "text/plain": [
       "PosixPath('/opt/manuscript/content/images/coefs_comp/gtex_whole_blood')"
      ]
     },
     "metadata": {},
     "output_type": "display_data"
    }
   ],
   "source": [
    "OUTPUT_FIGURE_DIR = (\n",
    "    conf.MANUSCRIPT[\"FIGURES_DIR\"] / \"coefs_comp\" / f\"gtex_{GTEX_TISSUE}\"\n",
    ")\n",
    "OUTPUT_FIGURE_DIR.mkdir(parents=True, exist_ok=True)\n",
    "display(OUTPUT_FIGURE_DIR)"
   ]
  },
  {
   "cell_type": "code",
   "execution_count": 6,
   "id": "edf17c92-2894-45b5-82ee-cd0170dda995",
   "metadata": {
    "papermill": {
     "duration": 0.038067,
     "end_time": "2022-01-27T14:45:57.821121",
     "exception": false,
     "start_time": "2022-01-27T14:45:57.783054",
     "status": "completed"
    },
    "tags": []
   },
   "outputs": [
    {
     "data": {
      "text/plain": [
       "PosixPath('/opt/data/results/gtex_v8/similarity_matrices/gtex_v8_data_{tissue}-{gene_sel_strategy}-{corr_method}.pkl')"
      ]
     },
     "metadata": {},
     "output_type": "display_data"
    }
   ],
   "source": [
    "INPUT_CORR_FILE_TEMPLATE = (\n",
    "    DATASET_CONFIG[\"SIMILARITY_MATRICES_DIR\"]\n",
    "    / DATASET_CONFIG[\"SIMILARITY_MATRIX_FILENAME_TEMPLATE\"]\n",
    ")\n",
    "display(INPUT_CORR_FILE_TEMPLATE)"
   ]
  },
  {
   "cell_type": "code",
   "execution_count": 7,
   "id": "30cce6f5-ca1b-438c-859d-31903a42d4c6",
   "metadata": {
    "papermill": {
     "duration": 0.039519,
     "end_time": "2022-01-27T14:45:57.893192",
     "exception": false,
     "start_time": "2022-01-27T14:45:57.853673",
     "status": "completed"
    },
    "tags": []
   },
   "outputs": [
    {
     "data": {
      "text/plain": [
       "PosixPath('/opt/data/results/gtex_v8/similarity_matrices/gtex_v8_data_whole_blood-var_pc_log2-all.pkl')"
      ]
     },
     "metadata": {},
     "output_type": "display_data"
    }
   ],
   "source": [
    "INPUT_CORR_FILE = DATASET_CONFIG[\"SIMILARITY_MATRICES_DIR\"] / str(\n",
    "    INPUT_CORR_FILE_TEMPLATE\n",
    ").format(\n",
    "    tissue=GTEX_TISSUE,\n",
    "    gene_sel_strategy=GENE_SEL_STRATEGY,\n",
    "    corr_method=\"all\",\n",
    ")\n",
    "display(INPUT_CORR_FILE)\n",
    "\n",
    "assert INPUT_CORR_FILE.exists()"
   ]
  },
  {
   "cell_type": "markdown",
   "id": "f6d3322b-c8bb-4fc2-97b6-5bb1793b1577",
   "metadata": {
    "papermill": {
     "duration": 0.032548,
     "end_time": "2022-01-27T14:45:57.959713",
     "exception": false,
     "start_time": "2022-01-27T14:45:57.927165",
     "status": "completed"
    },
    "tags": []
   },
   "source": [
    "# Data"
   ]
  },
  {
   "cell_type": "markdown",
   "id": "b030f506-2fe9-4895-a8a1-51374e88c496",
   "metadata": {
    "papermill": {
     "duration": 0.03268,
     "end_time": "2022-01-27T14:45:58.025232",
     "exception": false,
     "start_time": "2022-01-27T14:45:57.992552",
     "status": "completed"
    },
    "tags": []
   },
   "source": [
    "## Correlation"
   ]
  },
  {
   "cell_type": "code",
   "execution_count": 8,
   "id": "da1d768a-fbfb-40e8-8fbb-790d1a94aa83",
   "metadata": {
    "papermill": {
     "duration": 0.576138,
     "end_time": "2022-01-27T14:45:58.633658",
     "exception": false,
     "start_time": "2022-01-27T14:45:58.057520",
     "status": "completed"
    },
    "tags": []
   },
   "outputs": [],
   "source": [
    "df = pd.read_pickle(INPUT_CORR_FILE)"
   ]
  },
  {
   "cell_type": "code",
   "execution_count": 9,
   "id": "6123d474-0c0d-4771-9678-248ce89424ce",
   "metadata": {
    "papermill": {
     "duration": 0.047965,
     "end_time": "2022-01-27T14:45:58.715188",
     "exception": false,
     "start_time": "2022-01-27T14:45:58.667223",
     "status": "completed"
    },
    "tags": []
   },
   "outputs": [
    {
     "data": {
      "text/plain": [
       "(12497500, 3)"
      ]
     },
     "execution_count": 9,
     "metadata": {},
     "output_type": "execute_result"
    }
   ],
   "source": [
    "df.shape"
   ]
  },
  {
   "cell_type": "code",
   "execution_count": 10,
   "id": "b028abd8-c5b1-48c2-aa5e-cb1b49c943a4",
   "metadata": {
    "papermill": {
     "duration": 0.04543,
     "end_time": "2022-01-27T14:45:58.797894",
     "exception": false,
     "start_time": "2022-01-27T14:45:58.752464",
     "status": "completed"
    },
    "tags": []
   },
   "outputs": [
    {
     "data": {
      "text/html": [
       "<div>\n",
       "<style scoped>\n",
       "    .dataframe tbody tr th:only-of-type {\n",
       "        vertical-align: middle;\n",
       "    }\n",
       "\n",
       "    .dataframe tbody tr th {\n",
       "        vertical-align: top;\n",
       "    }\n",
       "\n",
       "    .dataframe thead th {\n",
       "        text-align: right;\n",
       "    }\n",
       "</style>\n",
       "<table border=\"1\" class=\"dataframe\">\n",
       "  <thead>\n",
       "    <tr style=\"text-align: right;\">\n",
       "      <th></th>\n",
       "      <th></th>\n",
       "      <th>clustermatch</th>\n",
       "      <th>pearson</th>\n",
       "      <th>spearman</th>\n",
       "    </tr>\n",
       "  </thead>\n",
       "  <tbody>\n",
       "    <tr>\n",
       "      <th rowspan=\"5\" valign=\"top\">ENSG00000000419.12</th>\n",
       "      <th>ENSG00000002834.17</th>\n",
       "      <td>0.418721</td>\n",
       "      <td>0.681847</td>\n",
       "      <td>0.786595</td>\n",
       "    </tr>\n",
       "    <tr>\n",
       "      <th>ENSG00000002919.14</th>\n",
       "      <td>0.405090</td>\n",
       "      <td>0.734699</td>\n",
       "      <td>0.816991</td>\n",
       "    </tr>\n",
       "    <tr>\n",
       "      <th>ENSG00000002933.7</th>\n",
       "      <td>0.007466</td>\n",
       "      <td>0.013825</td>\n",
       "      <td>0.004128</td>\n",
       "    </tr>\n",
       "    <tr>\n",
       "      <th>ENSG00000003402.19</th>\n",
       "      <td>0.391683</td>\n",
       "      <td>0.727347</td>\n",
       "      <td>0.803653</td>\n",
       "    </tr>\n",
       "    <tr>\n",
       "      <th>ENSG00000004478.7</th>\n",
       "      <td>0.099013</td>\n",
       "      <td>0.094147</td>\n",
       "      <td>0.231269</td>\n",
       "    </tr>\n",
       "  </tbody>\n",
       "</table>\n",
       "</div>"
      ],
      "text/plain": [
       "                                       clustermatch   pearson  spearman\n",
       "ENSG00000000419.12 ENSG00000002834.17      0.418721  0.681847  0.786595\n",
       "                   ENSG00000002919.14      0.405090  0.734699  0.816991\n",
       "                   ENSG00000002933.7       0.007466  0.013825  0.004128\n",
       "                   ENSG00000003402.19      0.391683  0.727347  0.803653\n",
       "                   ENSG00000004478.7       0.099013  0.094147  0.231269"
      ]
     },
     "execution_count": 10,
     "metadata": {},
     "output_type": "execute_result"
    }
   ],
   "source": [
    "df.head()"
   ]
  },
  {
   "cell_type": "code",
   "execution_count": 11,
   "id": "48dcf37f-1bd6-41e1-aeb3-caeb8af94dab",
   "metadata": {
    "papermill": {
     "duration": 0.09768,
     "end_time": "2022-01-27T14:45:58.929894",
     "exception": false,
     "start_time": "2022-01-27T14:45:58.832214",
     "status": "completed"
    },
    "tags": []
   },
   "outputs": [],
   "source": [
    "# FIXME: this will not be necessary in new runs of clustermatch on GTEx\n",
    "df.loc[df[\"clustermatch\"] < 0, \"clustermatch\"] = 0.0"
   ]
  },
  {
   "cell_type": "code",
   "execution_count": 12,
   "id": "97c670d5-f23c-4891-8427-9efdbcc0bf4b",
   "metadata": {
    "papermill": {
     "duration": 1.464595,
     "end_time": "2022-01-27T14:46:00.435461",
     "exception": false,
     "start_time": "2022-01-27T14:45:58.970866",
     "status": "completed"
    },
    "tags": []
   },
   "outputs": [
    {
     "data": {
      "text/html": [
       "<div>\n",
       "<style scoped>\n",
       "    .dataframe tbody tr th:only-of-type {\n",
       "        vertical-align: middle;\n",
       "    }\n",
       "\n",
       "    .dataframe tbody tr th {\n",
       "        vertical-align: top;\n",
       "    }\n",
       "\n",
       "    .dataframe thead th {\n",
       "        text-align: right;\n",
       "    }\n",
       "</style>\n",
       "<table border=\"1\" class=\"dataframe\">\n",
       "  <thead>\n",
       "    <tr style=\"text-align: right;\">\n",
       "      <th></th>\n",
       "      <th>clustermatch</th>\n",
       "      <th>pearson</th>\n",
       "      <th>spearman</th>\n",
       "    </tr>\n",
       "  </thead>\n",
       "  <tbody>\n",
       "    <tr>\n",
       "      <th>count</th>\n",
       "      <td>1.249750e+07</td>\n",
       "      <td>1.249750e+07</td>\n",
       "      <td>1.249750e+07</td>\n",
       "    </tr>\n",
       "    <tr>\n",
       "      <th>mean</th>\n",
       "      <td>1.407816e-01</td>\n",
       "      <td>3.055270e-01</td>\n",
       "      <td>3.944421e-01</td>\n",
       "    </tr>\n",
       "    <tr>\n",
       "      <th>std</th>\n",
       "      <td>1.448215e-01</td>\n",
       "      <td>2.432962e-01</td>\n",
       "      <td>2.595311e-01</td>\n",
       "    </tr>\n",
       "    <tr>\n",
       "      <th>min</th>\n",
       "      <td>0.000000e+00</td>\n",
       "      <td>1.507747e-08</td>\n",
       "      <td>1.394156e-08</td>\n",
       "    </tr>\n",
       "    <tr>\n",
       "      <th>25%</th>\n",
       "      <td>2.840490e-02</td>\n",
       "      <td>9.442322e-02</td>\n",
       "      <td>1.629740e-01</td>\n",
       "    </tr>\n",
       "    <tr>\n",
       "      <th>50%</th>\n",
       "      <td>8.111060e-02</td>\n",
       "      <td>2.388613e-01</td>\n",
       "      <td>3.675595e-01</td>\n",
       "    </tr>\n",
       "    <tr>\n",
       "      <th>75%</th>\n",
       "      <td>2.167198e-01</td>\n",
       "      <td>4.953854e-01</td>\n",
       "      <td>6.148954e-01</td>\n",
       "    </tr>\n",
       "    <tr>\n",
       "      <th>max</th>\n",
       "      <td>9.169180e-01</td>\n",
       "      <td>9.948780e-01</td>\n",
       "      <td>9.867424e-01</td>\n",
       "    </tr>\n",
       "  </tbody>\n",
       "</table>\n",
       "</div>"
      ],
      "text/plain": [
       "       clustermatch       pearson      spearman\n",
       "count  1.249750e+07  1.249750e+07  1.249750e+07\n",
       "mean   1.407816e-01  3.055270e-01  3.944421e-01\n",
       "std    1.448215e-01  2.432962e-01  2.595311e-01\n",
       "min    0.000000e+00  1.507747e-08  1.394156e-08\n",
       "25%    2.840490e-02  9.442322e-02  1.629740e-01\n",
       "50%    8.111060e-02  2.388613e-01  3.675595e-01\n",
       "75%    2.167198e-01  4.953854e-01  6.148954e-01\n",
       "max    9.169180e-01  9.948780e-01  9.867424e-01"
      ]
     },
     "execution_count": 12,
     "metadata": {},
     "output_type": "execute_result"
    }
   ],
   "source": [
    "df.describe()"
   ]
  },
  {
   "cell_type": "code",
   "execution_count": 13,
   "id": "d46d8fa8-9316-4ef9-ba36-52e6294c546a",
   "metadata": {
    "papermill": {
     "duration": 1.239959,
     "end_time": "2022-01-27T14:46:01.710054",
     "exception": false,
     "start_time": "2022-01-27T14:46:00.470095",
     "status": "completed"
    },
    "tags": []
   },
   "outputs": [
    {
     "data": {
      "text/html": [
       "<div>\n",
       "<style scoped>\n",
       "    .dataframe tbody tr th:only-of-type {\n",
       "        vertical-align: middle;\n",
       "    }\n",
       "\n",
       "    .dataframe tbody tr th {\n",
       "        vertical-align: top;\n",
       "    }\n",
       "\n",
       "    .dataframe thead th {\n",
       "        text-align: right;\n",
       "    }\n",
       "</style>\n",
       "<table border=\"1\" class=\"dataframe\">\n",
       "  <thead>\n",
       "    <tr style=\"text-align: right;\">\n",
       "      <th></th>\n",
       "      <th>clustermatch</th>\n",
       "      <th>pearson</th>\n",
       "      <th>spearman</th>\n",
       "    </tr>\n",
       "  </thead>\n",
       "  <tbody>\n",
       "    <tr>\n",
       "      <th>0.200000</th>\n",
       "      <td>0.022719</td>\n",
       "      <td>0.072940</td>\n",
       "      <td>0.128198</td>\n",
       "    </tr>\n",
       "    <tr>\n",
       "      <th>0.242105</th>\n",
       "      <td>0.027466</td>\n",
       "      <td>0.090891</td>\n",
       "      <td>0.157408</td>\n",
       "    </tr>\n",
       "    <tr>\n",
       "      <th>0.284211</th>\n",
       "      <td>0.032678</td>\n",
       "      <td>0.110196</td>\n",
       "      <td>0.187676</td>\n",
       "    </tr>\n",
       "    <tr>\n",
       "      <th>0.326316</th>\n",
       "      <td>0.038882</td>\n",
       "      <td>0.131066</td>\n",
       "      <td>0.219424</td>\n",
       "    </tr>\n",
       "    <tr>\n",
       "      <th>0.368421</th>\n",
       "      <td>0.046496</td>\n",
       "      <td>0.153705</td>\n",
       "      <td>0.253012</td>\n",
       "    </tr>\n",
       "    <tr>\n",
       "      <th>0.410526</th>\n",
       "      <td>0.054956</td>\n",
       "      <td>0.178290</td>\n",
       "      <td>0.288341</td>\n",
       "    </tr>\n",
       "    <tr>\n",
       "      <th>0.452632</th>\n",
       "      <td>0.065748</td>\n",
       "      <td>0.205194</td>\n",
       "      <td>0.324886</td>\n",
       "    </tr>\n",
       "    <tr>\n",
       "      <th>0.494737</th>\n",
       "      <td>0.079110</td>\n",
       "      <td>0.234929</td>\n",
       "      <td>0.362750</td>\n",
       "    </tr>\n",
       "    <tr>\n",
       "      <th>0.536842</th>\n",
       "      <td>0.094529</td>\n",
       "      <td>0.267921</td>\n",
       "      <td>0.401768</td>\n",
       "    </tr>\n",
       "    <tr>\n",
       "      <th>0.578947</th>\n",
       "      <td>0.112897</td>\n",
       "      <td>0.304762</td>\n",
       "      <td>0.441738</td>\n",
       "    </tr>\n",
       "    <tr>\n",
       "      <th>0.621053</th>\n",
       "      <td>0.133457</td>\n",
       "      <td>0.346025</td>\n",
       "      <td>0.482750</td>\n",
       "    </tr>\n",
       "    <tr>\n",
       "      <th>0.663158</th>\n",
       "      <td>0.157664</td>\n",
       "      <td>0.391687</td>\n",
       "      <td>0.525009</td>\n",
       "    </tr>\n",
       "    <tr>\n",
       "      <th>0.705263</th>\n",
       "      <td>0.184217</td>\n",
       "      <td>0.440990</td>\n",
       "      <td>0.568168</td>\n",
       "    </tr>\n",
       "    <tr>\n",
       "      <th>0.747368</th>\n",
       "      <td>0.215092</td>\n",
       "      <td>0.492158</td>\n",
       "      <td>0.612125</td>\n",
       "    </tr>\n",
       "    <tr>\n",
       "      <th>0.789474</th>\n",
       "      <td>0.250997</td>\n",
       "      <td>0.543889</td>\n",
       "      <td>0.656312</td>\n",
       "    </tr>\n",
       "    <tr>\n",
       "      <th>0.831579</th>\n",
       "      <td>0.289657</td>\n",
       "      <td>0.595898</td>\n",
       "      <td>0.699928</td>\n",
       "    </tr>\n",
       "    <tr>\n",
       "      <th>0.873684</th>\n",
       "      <td>0.337213</td>\n",
       "      <td>0.649491</td>\n",
       "      <td>0.743186</td>\n",
       "    </tr>\n",
       "    <tr>\n",
       "      <th>0.915789</th>\n",
       "      <td>0.388366</td>\n",
       "      <td>0.706765</td>\n",
       "      <td>0.787647</td>\n",
       "    </tr>\n",
       "    <tr>\n",
       "      <th>0.957895</th>\n",
       "      <td>0.464577</td>\n",
       "      <td>0.774472</td>\n",
       "      <td>0.838374</td>\n",
       "    </tr>\n",
       "    <tr>\n",
       "      <th>1.000000</th>\n",
       "      <td>0.916918</td>\n",
       "      <td>0.994878</td>\n",
       "      <td>0.986742</td>\n",
       "    </tr>\n",
       "  </tbody>\n",
       "</table>\n",
       "</div>"
      ],
      "text/plain": [
       "          clustermatch   pearson  spearman\n",
       "0.200000      0.022719  0.072940  0.128198\n",
       "0.242105      0.027466  0.090891  0.157408\n",
       "0.284211      0.032678  0.110196  0.187676\n",
       "0.326316      0.038882  0.131066  0.219424\n",
       "0.368421      0.046496  0.153705  0.253012\n",
       "0.410526      0.054956  0.178290  0.288341\n",
       "0.452632      0.065748  0.205194  0.324886\n",
       "0.494737      0.079110  0.234929  0.362750\n",
       "0.536842      0.094529  0.267921  0.401768\n",
       "0.578947      0.112897  0.304762  0.441738\n",
       "0.621053      0.133457  0.346025  0.482750\n",
       "0.663158      0.157664  0.391687  0.525009\n",
       "0.705263      0.184217  0.440990  0.568168\n",
       "0.747368      0.215092  0.492158  0.612125\n",
       "0.789474      0.250997  0.543889  0.656312\n",
       "0.831579      0.289657  0.595898  0.699928\n",
       "0.873684      0.337213  0.649491  0.743186\n",
       "0.915789      0.388366  0.706765  0.787647\n",
       "0.957895      0.464577  0.774472  0.838374\n",
       "1.000000      0.916918  0.994878  0.986742"
      ]
     },
     "execution_count": 13,
     "metadata": {},
     "output_type": "execute_result"
    }
   ],
   "source": [
    "# show quantiles\n",
    "df.apply(lambda x: x.quantile(np.linspace(0.20, 1.0, 20)))"
   ]
  },
  {
   "cell_type": "markdown",
   "id": "2b3613bb-0ee8-4b93-b045-6c2fbbeb61e0",
   "metadata": {
    "papermill": {
     "duration": 0.034329,
     "end_time": "2022-01-27T14:46:01.784783",
     "exception": false,
     "start_time": "2022-01-27T14:46:01.750454",
     "status": "completed"
    },
    "tags": []
   },
   "source": [
    "# Prepare data for plotting"
   ]
  },
  {
   "cell_type": "code",
   "execution_count": 14,
   "id": "056ac421-1bea-45f6-b3cb-933927cc88cd",
   "metadata": {
    "papermill": {
     "duration": 0.039971,
     "end_time": "2022-01-27T14:46:01.858909",
     "exception": false,
     "start_time": "2022-01-27T14:46:01.818938",
     "status": "completed"
    },
    "tags": []
   },
   "outputs": [],
   "source": [
    "def get_lower_upper_quantile(method_name, q):\n",
    "    return df[method_name].quantile([q, 1 - q])"
   ]
  },
  {
   "cell_type": "code",
   "execution_count": 15,
   "id": "1f4a64ab-e15e-42fd-9d59-fc5dff6c571b",
   "metadata": {
    "papermill": {
     "duration": 0.239044,
     "end_time": "2022-01-27T14:46:02.133202",
     "exception": false,
     "start_time": "2022-01-27T14:46:01.894158",
     "status": "completed"
    },
    "tags": []
   },
   "outputs": [
    {
     "data": {
      "text/plain": [
       "0.2    0.022719\n",
       "0.8    0.259050\n",
       "Name: clustermatch, dtype: float64"
      ]
     },
     "metadata": {},
     "output_type": "display_data"
    },
    {
     "data": {
      "text/plain": [
       "(0.02271880444305697, 0.259049765543866)"
      ]
     },
     "metadata": {},
     "output_type": "display_data"
    }
   ],
   "source": [
    "# test\n",
    "_tmp = get_lower_upper_quantile(\"clustermatch\", 0.20)\n",
    "display(_tmp)\n",
    "\n",
    "_tmp0, _tmp1 = _tmp\n",
    "display((_tmp0, _tmp1))\n",
    "\n",
    "assert _tmp0 == _tmp.iloc[0]\n",
    "assert _tmp1 == _tmp.iloc[1]"
   ]
  },
  {
   "cell_type": "code",
   "execution_count": 16,
   "id": "5bc002ff-a591-4017-8229-b9cc07f7fae1",
   "metadata": {
    "papermill": {
     "duration": 0.714176,
     "end_time": "2022-01-27T14:46:02.883374",
     "exception": false,
     "start_time": "2022-01-27T14:46:02.169198",
     "status": "completed"
    },
    "tags": []
   },
   "outputs": [
    {
     "data": {
      "text/plain": [
       "(0.034958339010692396, 0.18194034996376532)"
      ]
     },
     "metadata": {},
     "output_type": "display_data"
    },
    {
     "data": {
      "text/plain": [
       "(0.11783518340101658, 0.43471104354487755)"
      ]
     },
     "metadata": {},
     "output_type": "display_data"
    },
    {
     "data": {
      "text/plain": [
       "(0.1993565001342337, 0.5627397462227566)"
      ]
     },
     "metadata": {},
     "output_type": "display_data"
    }
   ],
   "source": [
    "clustermatch_lq, clustermatch_hq = get_lower_upper_quantile(\"clustermatch\", Q_DIFF)\n",
    "display((clustermatch_lq, clustermatch_hq))\n",
    "\n",
    "pearson_lq, pearson_hq = get_lower_upper_quantile(\"pearson\", Q_DIFF)\n",
    "display((pearson_lq, pearson_hq))\n",
    "\n",
    "spearman_lq, spearman_hq = get_lower_upper_quantile(\"spearman\", Q_DIFF)\n",
    "display((spearman_lq, spearman_hq))"
   ]
  },
  {
   "cell_type": "code",
   "execution_count": 17,
   "id": "b7151e86-845d-4c89-8298-c8636f70566b",
   "metadata": {
    "papermill": {
     "duration": 0.098091,
     "end_time": "2022-01-27T14:46:03.042538",
     "exception": false,
     "start_time": "2022-01-27T14:46:02.944447",
     "status": "completed"
    },
    "tags": []
   },
   "outputs": [
    {
     "data": {
      "text/plain": [
       "3749250"
      ]
     },
     "metadata": {},
     "output_type": "display_data"
    },
    {
     "data": {
      "text/plain": [
       "3749250"
      ]
     },
     "metadata": {},
     "output_type": "display_data"
    }
   ],
   "source": [
    "pearson_higher = df[\"pearson\"] >= pearson_hq\n",
    "display(pearson_higher.sum())\n",
    "\n",
    "pearson_lower = df[\"pearson\"] <= pearson_lq\n",
    "display(pearson_lower.sum())"
   ]
  },
  {
   "cell_type": "code",
   "execution_count": 18,
   "id": "bde230a6-b84a-4dfe-a122-05b5d5cbd98b",
   "metadata": {
    "papermill": {
     "duration": 0.091072,
     "end_time": "2022-01-27T14:46:03.171794",
     "exception": false,
     "start_time": "2022-01-27T14:46:03.080722",
     "status": "completed"
    },
    "tags": []
   },
   "outputs": [
    {
     "data": {
      "text/plain": [
       "3749250"
      ]
     },
     "metadata": {},
     "output_type": "display_data"
    },
    {
     "data": {
      "text/plain": [
       "3749250"
      ]
     },
     "metadata": {},
     "output_type": "display_data"
    }
   ],
   "source": [
    "spearman_higher = df[\"spearman\"] >= spearman_hq\n",
    "display(spearman_higher.sum())\n",
    "\n",
    "spearman_lower = df[\"spearman\"] <= spearman_lq\n",
    "display(spearman_lower.sum())"
   ]
  },
  {
   "cell_type": "code",
   "execution_count": 19,
   "id": "69a647b9-53bd-4f40-aab3-8274bdcfa90c",
   "metadata": {
    "papermill": {
     "duration": 0.092532,
     "end_time": "2022-01-27T14:46:03.304185",
     "exception": false,
     "start_time": "2022-01-27T14:46:03.211653",
     "status": "completed"
    },
    "tags": []
   },
   "outputs": [
    {
     "data": {
      "text/plain": [
       "3754664"
      ]
     },
     "metadata": {},
     "output_type": "display_data"
    },
    {
     "data": {
      "text/plain": [
       "3749265"
      ]
     },
     "metadata": {},
     "output_type": "display_data"
    }
   ],
   "source": [
    "clustermatch_higher = df[\"clustermatch\"] >= clustermatch_hq\n",
    "display(clustermatch_higher.sum())\n",
    "\n",
    "clustermatch_lower = df[\"clustermatch\"] <= clustermatch_lq\n",
    "display(clustermatch_lower.sum())"
   ]
  },
  {
   "cell_type": "markdown",
   "id": "7f3682d5-c043-4c16-9871-7babc5a307a2",
   "metadata": {
    "papermill": {
     "duration": 0.038854,
     "end_time": "2022-01-27T14:46:03.383687",
     "exception": false,
     "start_time": "2022-01-27T14:46:03.344833",
     "status": "completed"
    },
    "tags": []
   },
   "source": [
    "# UpSet plot"
   ]
  },
  {
   "cell_type": "code",
   "execution_count": 20,
   "id": "ed0bd3b6-f858-469f-bbeb-c187f720cd01",
   "metadata": {
    "papermill": {
     "duration": 0.058908,
     "end_time": "2022-01-27T14:46:03.481945",
     "exception": false,
     "start_time": "2022-01-27T14:46:03.423037",
     "status": "completed"
    },
    "tags": []
   },
   "outputs": [],
   "source": [
    "df_plot = pd.DataFrame(\n",
    "    {\n",
    "        \"pearson_higher\": pearson_higher,\n",
    "        \"pearson_lower\": pearson_lower,\n",
    "        \"spearman_higher\": spearman_higher,\n",
    "        \"spearman_lower\": spearman_lower,\n",
    "        \"clustermatch_higher\": clustermatch_higher,\n",
    "        \"clustermatch_lower\": clustermatch_lower,\n",
    "    }\n",
    ")"
   ]
  },
  {
   "cell_type": "code",
   "execution_count": 21,
   "id": "d29af679-bd5e-4e5a-b6f8-55ae09fea9ca",
   "metadata": {
    "papermill": {
     "duration": 5.113915,
     "end_time": "2022-01-27T14:46:08.636867",
     "exception": false,
     "start_time": "2022-01-27T14:46:03.522952",
     "status": "completed"
    },
    "tags": []
   },
   "outputs": [],
   "source": [
    "df_plot = pd.concat([df_plot, df], axis=1)"
   ]
  },
  {
   "cell_type": "code",
   "execution_count": 22,
   "id": "af2b7c35-e338-44a0-b54b-22464ae41a16",
   "metadata": {
    "papermill": {
     "duration": 0.061849,
     "end_time": "2022-01-27T14:46:08.739878",
     "exception": false,
     "start_time": "2022-01-27T14:46:08.678029",
     "status": "completed"
    },
    "tags": []
   },
   "outputs": [
    {
     "data": {
      "text/html": [
       "<div>\n",
       "<style scoped>\n",
       "    .dataframe tbody tr th:only-of-type {\n",
       "        vertical-align: middle;\n",
       "    }\n",
       "\n",
       "    .dataframe tbody tr th {\n",
       "        vertical-align: top;\n",
       "    }\n",
       "\n",
       "    .dataframe thead th {\n",
       "        text-align: right;\n",
       "    }\n",
       "</style>\n",
       "<table border=\"1\" class=\"dataframe\">\n",
       "  <thead>\n",
       "    <tr style=\"text-align: right;\">\n",
       "      <th></th>\n",
       "      <th></th>\n",
       "      <th>pearson_higher</th>\n",
       "      <th>pearson_lower</th>\n",
       "      <th>spearman_higher</th>\n",
       "      <th>spearman_lower</th>\n",
       "      <th>clustermatch_higher</th>\n",
       "      <th>clustermatch_lower</th>\n",
       "      <th>clustermatch</th>\n",
       "      <th>pearson</th>\n",
       "      <th>spearman</th>\n",
       "    </tr>\n",
       "  </thead>\n",
       "  <tbody>\n",
       "    <tr>\n",
       "      <th rowspan=\"5\" valign=\"top\">ENSG00000000419.12</th>\n",
       "      <th>ENSG00000002834.17</th>\n",
       "      <td>True</td>\n",
       "      <td>False</td>\n",
       "      <td>True</td>\n",
       "      <td>False</td>\n",
       "      <td>True</td>\n",
       "      <td>False</td>\n",
       "      <td>0.418721</td>\n",
       "      <td>0.681847</td>\n",
       "      <td>0.786595</td>\n",
       "    </tr>\n",
       "    <tr>\n",
       "      <th>ENSG00000002919.14</th>\n",
       "      <td>True</td>\n",
       "      <td>False</td>\n",
       "      <td>True</td>\n",
       "      <td>False</td>\n",
       "      <td>True</td>\n",
       "      <td>False</td>\n",
       "      <td>0.405090</td>\n",
       "      <td>0.734699</td>\n",
       "      <td>0.816991</td>\n",
       "    </tr>\n",
       "    <tr>\n",
       "      <th>ENSG00000002933.7</th>\n",
       "      <td>False</td>\n",
       "      <td>True</td>\n",
       "      <td>False</td>\n",
       "      <td>True</td>\n",
       "      <td>False</td>\n",
       "      <td>True</td>\n",
       "      <td>0.007466</td>\n",
       "      <td>0.013825</td>\n",
       "      <td>0.004128</td>\n",
       "    </tr>\n",
       "    <tr>\n",
       "      <th>ENSG00000003402.19</th>\n",
       "      <td>True</td>\n",
       "      <td>False</td>\n",
       "      <td>True</td>\n",
       "      <td>False</td>\n",
       "      <td>True</td>\n",
       "      <td>False</td>\n",
       "      <td>0.391683</td>\n",
       "      <td>0.727347</td>\n",
       "      <td>0.803653</td>\n",
       "    </tr>\n",
       "    <tr>\n",
       "      <th>ENSG00000004478.7</th>\n",
       "      <td>False</td>\n",
       "      <td>True</td>\n",
       "      <td>False</td>\n",
       "      <td>False</td>\n",
       "      <td>False</td>\n",
       "      <td>False</td>\n",
       "      <td>0.099013</td>\n",
       "      <td>0.094147</td>\n",
       "      <td>0.231269</td>\n",
       "    </tr>\n",
       "    <tr>\n",
       "      <th>...</th>\n",
       "      <th>...</th>\n",
       "      <td>...</td>\n",
       "      <td>...</td>\n",
       "      <td>...</td>\n",
       "      <td>...</td>\n",
       "      <td>...</td>\n",
       "      <td>...</td>\n",
       "      <td>...</td>\n",
       "      <td>...</td>\n",
       "      <td>...</td>\n",
       "    </tr>\n",
       "    <tr>\n",
       "      <th rowspan=\"5\" valign=\"top\">ENSG00000284574.1</th>\n",
       "      <th>ENSG00000282651.2</th>\n",
       "      <td>False</td>\n",
       "      <td>True</td>\n",
       "      <td>False</td>\n",
       "      <td>True</td>\n",
       "      <td>False</td>\n",
       "      <td>True</td>\n",
       "      <td>0.011968</td>\n",
       "      <td>0.051215</td>\n",
       "      <td>0.089428</td>\n",
       "    </tr>\n",
       "    <tr>\n",
       "      <th>ENSG00000282780.1</th>\n",
       "      <td>False</td>\n",
       "      <td>True</td>\n",
       "      <td>False</td>\n",
       "      <td>True</td>\n",
       "      <td>False</td>\n",
       "      <td>True</td>\n",
       "      <td>0.004975</td>\n",
       "      <td>0.031741</td>\n",
       "      <td>0.018411</td>\n",
       "    </tr>\n",
       "    <tr>\n",
       "      <th>ENSG00000282939.1</th>\n",
       "      <td>False</td>\n",
       "      <td>True</td>\n",
       "      <td>False</td>\n",
       "      <td>True</td>\n",
       "      <td>False</td>\n",
       "      <td>True</td>\n",
       "      <td>0.011968</td>\n",
       "      <td>0.029699</td>\n",
       "      <td>0.104518</td>\n",
       "    </tr>\n",
       "    <tr>\n",
       "      <th>ENSG00000283063.1</th>\n",
       "      <td>False</td>\n",
       "      <td>True</td>\n",
       "      <td>False</td>\n",
       "      <td>True</td>\n",
       "      <td>False</td>\n",
       "      <td>True</td>\n",
       "      <td>0.006638</td>\n",
       "      <td>0.033764</td>\n",
       "      <td>0.096159</td>\n",
       "    </tr>\n",
       "    <tr>\n",
       "      <th>ENSG00000283602.1</th>\n",
       "      <td>False</td>\n",
       "      <td>True</td>\n",
       "      <td>False</td>\n",
       "      <td>True</td>\n",
       "      <td>False</td>\n",
       "      <td>True</td>\n",
       "      <td>0.013967</td>\n",
       "      <td>0.010452</td>\n",
       "      <td>0.053928</td>\n",
       "    </tr>\n",
       "  </tbody>\n",
       "</table>\n",
       "<p>12497500 rows × 9 columns</p>\n",
       "</div>"
      ],
      "text/plain": [
       "                                       pearson_higher  pearson_lower  \\\n",
       "ENSG00000000419.12 ENSG00000002834.17            True          False   \n",
       "                   ENSG00000002919.14            True          False   \n",
       "                   ENSG00000002933.7            False           True   \n",
       "                   ENSG00000003402.19            True          False   \n",
       "                   ENSG00000004478.7            False           True   \n",
       "...                                               ...            ...   \n",
       "ENSG00000284574.1  ENSG00000282651.2            False           True   \n",
       "                   ENSG00000282780.1            False           True   \n",
       "                   ENSG00000282939.1            False           True   \n",
       "                   ENSG00000283063.1            False           True   \n",
       "                   ENSG00000283602.1            False           True   \n",
       "\n",
       "                                       spearman_higher  spearman_lower  \\\n",
       "ENSG00000000419.12 ENSG00000002834.17             True           False   \n",
       "                   ENSG00000002919.14             True           False   \n",
       "                   ENSG00000002933.7             False            True   \n",
       "                   ENSG00000003402.19             True           False   \n",
       "                   ENSG00000004478.7             False           False   \n",
       "...                                                ...             ...   \n",
       "ENSG00000284574.1  ENSG00000282651.2             False            True   \n",
       "                   ENSG00000282780.1             False            True   \n",
       "                   ENSG00000282939.1             False            True   \n",
       "                   ENSG00000283063.1             False            True   \n",
       "                   ENSG00000283602.1             False            True   \n",
       "\n",
       "                                       clustermatch_higher  \\\n",
       "ENSG00000000419.12 ENSG00000002834.17                 True   \n",
       "                   ENSG00000002919.14                 True   \n",
       "                   ENSG00000002933.7                 False   \n",
       "                   ENSG00000003402.19                 True   \n",
       "                   ENSG00000004478.7                 False   \n",
       "...                                                    ...   \n",
       "ENSG00000284574.1  ENSG00000282651.2                 False   \n",
       "                   ENSG00000282780.1                 False   \n",
       "                   ENSG00000282939.1                 False   \n",
       "                   ENSG00000283063.1                 False   \n",
       "                   ENSG00000283602.1                 False   \n",
       "\n",
       "                                       clustermatch_lower  clustermatch  \\\n",
       "ENSG00000000419.12 ENSG00000002834.17               False      0.418721   \n",
       "                   ENSG00000002919.14               False      0.405090   \n",
       "                   ENSG00000002933.7                 True      0.007466   \n",
       "                   ENSG00000003402.19               False      0.391683   \n",
       "                   ENSG00000004478.7                False      0.099013   \n",
       "...                                                   ...           ...   \n",
       "ENSG00000284574.1  ENSG00000282651.2                 True      0.011968   \n",
       "                   ENSG00000282780.1                 True      0.004975   \n",
       "                   ENSG00000282939.1                 True      0.011968   \n",
       "                   ENSG00000283063.1                 True      0.006638   \n",
       "                   ENSG00000283602.1                 True      0.013967   \n",
       "\n",
       "                                        pearson  spearman  \n",
       "ENSG00000000419.12 ENSG00000002834.17  0.681847  0.786595  \n",
       "                   ENSG00000002919.14  0.734699  0.816991  \n",
       "                   ENSG00000002933.7   0.013825  0.004128  \n",
       "                   ENSG00000003402.19  0.727347  0.803653  \n",
       "                   ENSG00000004478.7   0.094147  0.231269  \n",
       "...                                         ...       ...  \n",
       "ENSG00000284574.1  ENSG00000282651.2   0.051215  0.089428  \n",
       "                   ENSG00000282780.1   0.031741  0.018411  \n",
       "                   ENSG00000282939.1   0.029699  0.104518  \n",
       "                   ENSG00000283063.1   0.033764  0.096159  \n",
       "                   ENSG00000283602.1   0.010452  0.053928  \n",
       "\n",
       "[12497500 rows x 9 columns]"
      ]
     },
     "execution_count": 22,
     "metadata": {},
     "output_type": "execute_result"
    }
   ],
   "source": [
    "df_plot"
   ]
  },
  {
   "cell_type": "code",
   "execution_count": 23,
   "id": "97ee6d16-09e4-4d3b-80e1-41cccfb7ba5b",
   "metadata": {
    "papermill": {
     "duration": 0.083447,
     "end_time": "2022-01-27T14:46:08.866734",
     "exception": false,
     "start_time": "2022-01-27T14:46:08.783287",
     "status": "completed"
    },
    "tags": []
   },
   "outputs": [],
   "source": [
    "assert not df_plot.isna().any().any()"
   ]
  },
  {
   "cell_type": "code",
   "execution_count": 24,
   "id": "0f2182f1-7b78-443e-9b72-5bb83f23a89b",
   "metadata": {
    "papermill": {
     "duration": 0.110619,
     "end_time": "2022-01-27T14:46:09.025600",
     "exception": false,
     "start_time": "2022-01-27T14:46:08.914981",
     "status": "completed"
    },
    "tags": []
   },
   "outputs": [],
   "source": [
    "df_plot = df_plot.rename(\n",
    "    columns={\n",
    "        \"pearson_higher\": \"Pearson (high)\",\n",
    "        \"pearson_lower\": \"Pearson (low)\",\n",
    "        \"spearman_higher\": \"Spearman (high)\",\n",
    "        \"spearman_lower\": \"Spearman (low)\",\n",
    "        \"clustermatch_higher\": \"Clustermatch (high)\",\n",
    "        \"clustermatch_lower\": \"Clustermatch (low)\",\n",
    "    }\n",
    ")"
   ]
  },
  {
   "cell_type": "code",
   "execution_count": 25,
   "id": "49db6735-8369-4c12-8a1a-c22c91cafcb2",
   "metadata": {
    "papermill": {
     "duration": 0.045279,
     "end_time": "2022-01-27T14:46:09.111238",
     "exception": false,
     "start_time": "2022-01-27T14:46:09.065959",
     "status": "completed"
    },
    "tags": []
   },
   "outputs": [],
   "source": [
    "categories = sorted(\n",
    "    [x for x in df_plot.columns if \" (\" in x],\n",
    "    reverse=True,\n",
    "    key=lambda x: x.split(\" (\")[1] + \" (\" + x.split(\" (\")[0],\n",
    ")"
   ]
  },
  {
   "cell_type": "code",
   "execution_count": 26,
   "id": "b842b23d-11ea-444c-88c1-ec3cc3e1a58a",
   "metadata": {
    "papermill": {
     "duration": 0.046212,
     "end_time": "2022-01-27T14:46:09.197441",
     "exception": false,
     "start_time": "2022-01-27T14:46:09.151229",
     "status": "completed"
    },
    "tags": []
   },
   "outputs": [
    {
     "data": {
      "text/plain": [
       "['Spearman (low)',\n",
       " 'Pearson (low)',\n",
       " 'Clustermatch (low)',\n",
       " 'Spearman (high)',\n",
       " 'Pearson (high)',\n",
       " 'Clustermatch (high)']"
      ]
     },
     "execution_count": 26,
     "metadata": {},
     "output_type": "execute_result"
    }
   ],
   "source": [
    "categories"
   ]
  },
  {
   "cell_type": "markdown",
   "id": "e0d69585-80a1-48cc-b7b9-3c63bb120b87",
   "metadata": {
    "papermill": {
     "duration": 0.039936,
     "end_time": "2022-01-27T14:46:09.279706",
     "exception": false,
     "start_time": "2022-01-27T14:46:09.239770",
     "status": "completed"
    },
    "tags": []
   },
   "source": [
    "## All subsets (original full plot)"
   ]
  },
  {
   "cell_type": "code",
   "execution_count": 27,
   "id": "0ad38eb1-66cf-404a-880e-095718d6f26e",
   "metadata": {
    "papermill": {
     "duration": 0.046133,
     "end_time": "2022-01-27T14:46:09.366150",
     "exception": false,
     "start_time": "2022-01-27T14:46:09.320017",
     "status": "completed"
    },
    "tags": []
   },
   "outputs": [],
   "source": [
    "df_r_data = df_plot"
   ]
  },
  {
   "cell_type": "code",
   "execution_count": 28,
   "id": "3c5147ec-e0e0-42c5-a6ad-f634ade88ed4",
   "metadata": {
    "papermill": {
     "duration": 0.046712,
     "end_time": "2022-01-27T14:46:09.454127",
     "exception": false,
     "start_time": "2022-01-27T14:46:09.407415",
     "status": "completed"
    },
    "tags": []
   },
   "outputs": [
    {
     "data": {
      "text/plain": [
       "(12497500, 9)"
      ]
     },
     "execution_count": 28,
     "metadata": {},
     "output_type": "execute_result"
    }
   ],
   "source": [
    "df_r_data.shape"
   ]
  },
  {
   "cell_type": "code",
   "execution_count": 29,
   "id": "d1a63eb4-beeb-4747-922e-d852eeadf50f",
   "metadata": {
    "papermill": {
     "duration": 22.128026,
     "end_time": "2022-01-27T14:46:31.623736",
     "exception": false,
     "start_time": "2022-01-27T14:46:09.495710",
     "status": "completed"
    },
    "tags": []
   },
   "outputs": [],
   "source": [
    "gene_pairs_by_cats = from_indicators(categories, data=df_r_data)"
   ]
  },
  {
   "cell_type": "code",
   "execution_count": 30,
   "id": "b60440f2-65d0-4e97-8db5-7f5f99a9beb0",
   "metadata": {
    "papermill": {
     "duration": 0.064504,
     "end_time": "2022-01-27T14:46:31.739930",
     "exception": false,
     "start_time": "2022-01-27T14:46:31.675426",
     "status": "completed"
    },
    "tags": []
   },
   "outputs": [
    {
     "data": {
      "text/html": [
       "<div>\n",
       "<style scoped>\n",
       "    .dataframe tbody tr th:only-of-type {\n",
       "        vertical-align: middle;\n",
       "    }\n",
       "\n",
       "    .dataframe tbody tr th {\n",
       "        vertical-align: top;\n",
       "    }\n",
       "\n",
       "    .dataframe thead th {\n",
       "        text-align: right;\n",
       "    }\n",
       "</style>\n",
       "<table border=\"1\" class=\"dataframe\">\n",
       "  <thead>\n",
       "    <tr style=\"text-align: right;\">\n",
       "      <th></th>\n",
       "      <th></th>\n",
       "      <th></th>\n",
       "      <th></th>\n",
       "      <th></th>\n",
       "      <th></th>\n",
       "      <th>Pearson (high)</th>\n",
       "      <th>Pearson (low)</th>\n",
       "      <th>Spearman (high)</th>\n",
       "      <th>Spearman (low)</th>\n",
       "      <th>Clustermatch (high)</th>\n",
       "      <th>Clustermatch (low)</th>\n",
       "      <th>clustermatch</th>\n",
       "      <th>pearson</th>\n",
       "      <th>spearman</th>\n",
       "    </tr>\n",
       "    <tr>\n",
       "      <th>Spearman (low)</th>\n",
       "      <th>Pearson (low)</th>\n",
       "      <th>Clustermatch (low)</th>\n",
       "      <th>Spearman (high)</th>\n",
       "      <th>Pearson (high)</th>\n",
       "      <th>Clustermatch (high)</th>\n",
       "      <th></th>\n",
       "      <th></th>\n",
       "      <th></th>\n",
       "      <th></th>\n",
       "      <th></th>\n",
       "      <th></th>\n",
       "      <th></th>\n",
       "      <th></th>\n",
       "      <th></th>\n",
       "    </tr>\n",
       "  </thead>\n",
       "  <tbody>\n",
       "    <tr>\n",
       "      <th rowspan=\"2\" valign=\"top\">False</th>\n",
       "      <th rowspan=\"2\" valign=\"top\">False</th>\n",
       "      <th rowspan=\"2\" valign=\"top\">False</th>\n",
       "      <th rowspan=\"2\" valign=\"top\">True</th>\n",
       "      <th rowspan=\"2\" valign=\"top\">True</th>\n",
       "      <th>True</th>\n",
       "      <td>True</td>\n",
       "      <td>False</td>\n",
       "      <td>True</td>\n",
       "      <td>False</td>\n",
       "      <td>True</td>\n",
       "      <td>False</td>\n",
       "      <td>0.418721</td>\n",
       "      <td>0.681847</td>\n",
       "      <td>0.786595</td>\n",
       "    </tr>\n",
       "    <tr>\n",
       "      <th>True</th>\n",
       "      <td>True</td>\n",
       "      <td>False</td>\n",
       "      <td>True</td>\n",
       "      <td>False</td>\n",
       "      <td>True</td>\n",
       "      <td>False</td>\n",
       "      <td>0.405090</td>\n",
       "      <td>0.734699</td>\n",
       "      <td>0.816991</td>\n",
       "    </tr>\n",
       "    <tr>\n",
       "      <th>True</th>\n",
       "      <th>True</th>\n",
       "      <th>True</th>\n",
       "      <th>False</th>\n",
       "      <th>False</th>\n",
       "      <th>False</th>\n",
       "      <td>False</td>\n",
       "      <td>True</td>\n",
       "      <td>False</td>\n",
       "      <td>True</td>\n",
       "      <td>False</td>\n",
       "      <td>True</td>\n",
       "      <td>0.007466</td>\n",
       "      <td>0.013825</td>\n",
       "      <td>0.004128</td>\n",
       "    </tr>\n",
       "    <tr>\n",
       "      <th rowspan=\"2\" valign=\"top\">False</th>\n",
       "      <th>False</th>\n",
       "      <th>False</th>\n",
       "      <th>True</th>\n",
       "      <th>True</th>\n",
       "      <th>True</th>\n",
       "      <td>True</td>\n",
       "      <td>False</td>\n",
       "      <td>True</td>\n",
       "      <td>False</td>\n",
       "      <td>True</td>\n",
       "      <td>False</td>\n",
       "      <td>0.391683</td>\n",
       "      <td>0.727347</td>\n",
       "      <td>0.803653</td>\n",
       "    </tr>\n",
       "    <tr>\n",
       "      <th>True</th>\n",
       "      <th>False</th>\n",
       "      <th>False</th>\n",
       "      <th>False</th>\n",
       "      <th>False</th>\n",
       "      <td>False</td>\n",
       "      <td>True</td>\n",
       "      <td>False</td>\n",
       "      <td>False</td>\n",
       "      <td>False</td>\n",
       "      <td>False</td>\n",
       "      <td>0.099013</td>\n",
       "      <td>0.094147</td>\n",
       "      <td>0.231269</td>\n",
       "    </tr>\n",
       "    <tr>\n",
       "      <th>...</th>\n",
       "      <th>...</th>\n",
       "      <th>...</th>\n",
       "      <th>...</th>\n",
       "      <th>...</th>\n",
       "      <th>...</th>\n",
       "      <td>...</td>\n",
       "      <td>...</td>\n",
       "      <td>...</td>\n",
       "      <td>...</td>\n",
       "      <td>...</td>\n",
       "      <td>...</td>\n",
       "      <td>...</td>\n",
       "      <td>...</td>\n",
       "      <td>...</td>\n",
       "    </tr>\n",
       "    <tr>\n",
       "      <th rowspan=\"5\" valign=\"top\">True</th>\n",
       "      <th rowspan=\"5\" valign=\"top\">True</th>\n",
       "      <th rowspan=\"5\" valign=\"top\">True</th>\n",
       "      <th rowspan=\"5\" valign=\"top\">False</th>\n",
       "      <th rowspan=\"5\" valign=\"top\">False</th>\n",
       "      <th>False</th>\n",
       "      <td>False</td>\n",
       "      <td>True</td>\n",
       "      <td>False</td>\n",
       "      <td>True</td>\n",
       "      <td>False</td>\n",
       "      <td>True</td>\n",
       "      <td>0.011968</td>\n",
       "      <td>0.051215</td>\n",
       "      <td>0.089428</td>\n",
       "    </tr>\n",
       "    <tr>\n",
       "      <th>False</th>\n",
       "      <td>False</td>\n",
       "      <td>True</td>\n",
       "      <td>False</td>\n",
       "      <td>True</td>\n",
       "      <td>False</td>\n",
       "      <td>True</td>\n",
       "      <td>0.004975</td>\n",
       "      <td>0.031741</td>\n",
       "      <td>0.018411</td>\n",
       "    </tr>\n",
       "    <tr>\n",
       "      <th>False</th>\n",
       "      <td>False</td>\n",
       "      <td>True</td>\n",
       "      <td>False</td>\n",
       "      <td>True</td>\n",
       "      <td>False</td>\n",
       "      <td>True</td>\n",
       "      <td>0.011968</td>\n",
       "      <td>0.029699</td>\n",
       "      <td>0.104518</td>\n",
       "    </tr>\n",
       "    <tr>\n",
       "      <th>False</th>\n",
       "      <td>False</td>\n",
       "      <td>True</td>\n",
       "      <td>False</td>\n",
       "      <td>True</td>\n",
       "      <td>False</td>\n",
       "      <td>True</td>\n",
       "      <td>0.006638</td>\n",
       "      <td>0.033764</td>\n",
       "      <td>0.096159</td>\n",
       "    </tr>\n",
       "    <tr>\n",
       "      <th>False</th>\n",
       "      <td>False</td>\n",
       "      <td>True</td>\n",
       "      <td>False</td>\n",
       "      <td>True</td>\n",
       "      <td>False</td>\n",
       "      <td>True</td>\n",
       "      <td>0.013967</td>\n",
       "      <td>0.010452</td>\n",
       "      <td>0.053928</td>\n",
       "    </tr>\n",
       "  </tbody>\n",
       "</table>\n",
       "<p>12497500 rows × 9 columns</p>\n",
       "</div>"
      ],
      "text/plain": [
       "                                                                                                    Pearson (high)  \\\n",
       "Spearman (low) Pearson (low) Clustermatch (low) Spearman (high) Pearson (high) Clustermatch (high)                   \n",
       "False          False         False              True            True           True                           True   \n",
       "                                                                               True                           True   \n",
       "True           True          True               False           False          False                         False   \n",
       "False          False         False              True            True           True                           True   \n",
       "               True          False              False           False          False                         False   \n",
       "...                                                                                                            ...   \n",
       "True           True          True               False           False          False                         False   \n",
       "                                                                               False                         False   \n",
       "                                                                               False                         False   \n",
       "                                                                               False                         False   \n",
       "                                                                               False                         False   \n",
       "\n",
       "                                                                                                    Pearson (low)  \\\n",
       "Spearman (low) Pearson (low) Clustermatch (low) Spearman (high) Pearson (high) Clustermatch (high)                  \n",
       "False          False         False              True            True           True                         False   \n",
       "                                                                               True                         False   \n",
       "True           True          True               False           False          False                         True   \n",
       "False          False         False              True            True           True                         False   \n",
       "               True          False              False           False          False                         True   \n",
       "...                                                                                                           ...   \n",
       "True           True          True               False           False          False                         True   \n",
       "                                                                               False                         True   \n",
       "                                                                               False                         True   \n",
       "                                                                               False                         True   \n",
       "                                                                               False                         True   \n",
       "\n",
       "                                                                                                    Spearman (high)  \\\n",
       "Spearman (low) Pearson (low) Clustermatch (low) Spearman (high) Pearson (high) Clustermatch (high)                    \n",
       "False          False         False              True            True           True                            True   \n",
       "                                                                               True                            True   \n",
       "True           True          True               False           False          False                          False   \n",
       "False          False         False              True            True           True                            True   \n",
       "               True          False              False           False          False                          False   \n",
       "...                                                                                                             ...   \n",
       "True           True          True               False           False          False                          False   \n",
       "                                                                               False                          False   \n",
       "                                                                               False                          False   \n",
       "                                                                               False                          False   \n",
       "                                                                               False                          False   \n",
       "\n",
       "                                                                                                    Spearman (low)  \\\n",
       "Spearman (low) Pearson (low) Clustermatch (low) Spearman (high) Pearson (high) Clustermatch (high)                   \n",
       "False          False         False              True            True           True                          False   \n",
       "                                                                               True                          False   \n",
       "True           True          True               False           False          False                          True   \n",
       "False          False         False              True            True           True                          False   \n",
       "               True          False              False           False          False                         False   \n",
       "...                                                                                                            ...   \n",
       "True           True          True               False           False          False                          True   \n",
       "                                                                               False                          True   \n",
       "                                                                               False                          True   \n",
       "                                                                               False                          True   \n",
       "                                                                               False                          True   \n",
       "\n",
       "                                                                                                    Clustermatch (high)  \\\n",
       "Spearman (low) Pearson (low) Clustermatch (low) Spearman (high) Pearson (high) Clustermatch (high)                        \n",
       "False          False         False              True            True           True                                True   \n",
       "                                                                               True                                True   \n",
       "True           True          True               False           False          False                              False   \n",
       "False          False         False              True            True           True                                True   \n",
       "               True          False              False           False          False                              False   \n",
       "...                                                                                                                 ...   \n",
       "True           True          True               False           False          False                              False   \n",
       "                                                                               False                              False   \n",
       "                                                                               False                              False   \n",
       "                                                                               False                              False   \n",
       "                                                                               False                              False   \n",
       "\n",
       "                                                                                                    Clustermatch (low)  \\\n",
       "Spearman (low) Pearson (low) Clustermatch (low) Spearman (high) Pearson (high) Clustermatch (high)                       \n",
       "False          False         False              True            True           True                              False   \n",
       "                                                                               True                              False   \n",
       "True           True          True               False           False          False                              True   \n",
       "False          False         False              True            True           True                              False   \n",
       "               True          False              False           False          False                             False   \n",
       "...                                                                                                                ...   \n",
       "True           True          True               False           False          False                              True   \n",
       "                                                                               False                              True   \n",
       "                                                                               False                              True   \n",
       "                                                                               False                              True   \n",
       "                                                                               False                              True   \n",
       "\n",
       "                                                                                                    clustermatch  \\\n",
       "Spearman (low) Pearson (low) Clustermatch (low) Spearman (high) Pearson (high) Clustermatch (high)                 \n",
       "False          False         False              True            True           True                     0.418721   \n",
       "                                                                               True                     0.405090   \n",
       "True           True          True               False           False          False                    0.007466   \n",
       "False          False         False              True            True           True                     0.391683   \n",
       "               True          False              False           False          False                    0.099013   \n",
       "...                                                                                                          ...   \n",
       "True           True          True               False           False          False                    0.011968   \n",
       "                                                                               False                    0.004975   \n",
       "                                                                               False                    0.011968   \n",
       "                                                                               False                    0.006638   \n",
       "                                                                               False                    0.013967   \n",
       "\n",
       "                                                                                                     pearson  \\\n",
       "Spearman (low) Pearson (low) Clustermatch (low) Spearman (high) Pearson (high) Clustermatch (high)             \n",
       "False          False         False              True            True           True                 0.681847   \n",
       "                                                                               True                 0.734699   \n",
       "True           True          True               False           False          False                0.013825   \n",
       "False          False         False              True            True           True                 0.727347   \n",
       "               True          False              False           False          False                0.094147   \n",
       "...                                                                                                      ...   \n",
       "True           True          True               False           False          False                0.051215   \n",
       "                                                                               False                0.031741   \n",
       "                                                                               False                0.029699   \n",
       "                                                                               False                0.033764   \n",
       "                                                                               False                0.010452   \n",
       "\n",
       "                                                                                                    spearman  \n",
       "Spearman (low) Pearson (low) Clustermatch (low) Spearman (high) Pearson (high) Clustermatch (high)            \n",
       "False          False         False              True            True           True                 0.786595  \n",
       "                                                                               True                 0.816991  \n",
       "True           True          True               False           False          False                0.004128  \n",
       "False          False         False              True            True           True                 0.803653  \n",
       "               True          False              False           False          False                0.231269  \n",
       "...                                                                                                      ...  \n",
       "True           True          True               False           False          False                0.089428  \n",
       "                                                                               False                0.018411  \n",
       "                                                                               False                0.104518  \n",
       "                                                                               False                0.096159  \n",
       "                                                                               False                0.053928  \n",
       "\n",
       "[12497500 rows x 9 columns]"
      ]
     },
     "execution_count": 30,
     "metadata": {},
     "output_type": "execute_result"
    }
   ],
   "source": [
    "gene_pairs_by_cats"
   ]
  },
  {
   "cell_type": "code",
   "execution_count": 31,
   "id": "953e9835-d94f-4e97-855d-2af93f41fd1f",
   "metadata": {
    "papermill": {
     "duration": 9.032673,
     "end_time": "2022-01-27T14:46:40.815265",
     "exception": false,
     "start_time": "2022-01-27T14:46:31.782592",
     "status": "completed"
    },
    "tags": []
   },
   "outputs": [
    {
     "data": {
      "image/png": "[encoded data removed]",
      "text/plain": [
       "<Figure size 1296x360 with 4 Axes>"
      ]
     },
     "metadata": {
      "needs_background": "light"
     },
     "output_type": "display_data"
    }
   ],
   "source": [
    "fig = plt.figure(figsize=(18, 5))\n",
    "\n",
    "g = plot(\n",
    "    gene_pairs_by_cats,\n",
    "    show_counts=True,\n",
    "    sort_categories_by=None,\n",
    "    element_size=None,\n",
    "    fig=fig,\n",
    ")"
   ]
  },
  {
   "cell_type": "markdown",
   "id": "bcba1e8c-eb11-43be-9e8d-3b3e511bc5c0",
   "metadata": {
    "papermill": {
     "duration": 0.045843,
     "end_time": "2022-01-27T14:46:40.914960",
     "exception": false,
     "start_time": "2022-01-27T14:46:40.869117",
     "status": "completed"
    },
    "tags": []
   },
   "source": [
    "## Sort by categories of subsets"
   ]
  },
  {
   "cell_type": "code",
   "execution_count": 32,
   "id": "6b7a5b4c-fcee-4a2f-ab87-d3ae46ba3ea6",
   "metadata": {
    "papermill": {
     "duration": 0.048663,
     "end_time": "2022-01-27T14:46:41.006882",
     "exception": false,
     "start_time": "2022-01-27T14:46:40.958219",
     "status": "completed"
    },
    "tags": []
   },
   "outputs": [],
   "source": [
    "df_r_data = df_plot"
   ]
  },
  {
   "cell_type": "code",
   "execution_count": 33,
   "id": "242ff72e-3ec8-41ec-a11a-7b2e80217399",
   "metadata": {
    "papermill": {
     "duration": 0.050368,
     "end_time": "2022-01-27T14:46:41.100836",
     "exception": false,
     "start_time": "2022-01-27T14:46:41.050468",
     "status": "completed"
    },
    "tags": []
   },
   "outputs": [
    {
     "data": {
      "text/plain": [
       "(12497500, 9)"
      ]
     },
     "execution_count": 33,
     "metadata": {},
     "output_type": "execute_result"
    }
   ],
   "source": [
    "df_r_data.shape"
   ]
  },
  {
   "cell_type": "code",
   "execution_count": 34,
   "id": "95fa3efe-10d6-401d-8038-92b5c7c4a503",
   "metadata": {
    "papermill": {
     "duration": 16.174849,
     "end_time": "2022-01-27T14:46:57.320957",
     "exception": false,
     "start_time": "2022-01-27T14:46:41.146108",
     "status": "completed"
    },
    "tags": []
   },
   "outputs": [],
   "source": [
    "gene_pairs_by_cats = from_indicators(categories, data=df_r_data)"
   ]
  },
  {
   "cell_type": "code",
   "execution_count": 35,
   "id": "526dbc50-67d5-4721-aa5c-dd2c62f74c8d",
   "metadata": {
    "papermill": {
     "duration": 0.068583,
     "end_time": "2022-01-27T14:46:57.445186",
     "exception": false,
     "start_time": "2022-01-27T14:46:57.376603",
     "status": "completed"
    },
    "tags": []
   },
   "outputs": [
    {
     "data": {
      "text/html": [
       "<div>\n",
       "<style scoped>\n",
       "    .dataframe tbody tr th:only-of-type {\n",
       "        vertical-align: middle;\n",
       "    }\n",
       "\n",
       "    .dataframe tbody tr th {\n",
       "        vertical-align: top;\n",
       "    }\n",
       "\n",
       "    .dataframe thead th {\n",
       "        text-align: right;\n",
       "    }\n",
       "</style>\n",
       "<table border=\"1\" class=\"dataframe\">\n",
       "  <thead>\n",
       "    <tr style=\"text-align: right;\">\n",
       "      <th></th>\n",
       "      <th></th>\n",
       "      <th></th>\n",
       "      <th></th>\n",
       "      <th></th>\n",
       "      <th></th>\n",
       "      <th>Pearson (high)</th>\n",
       "      <th>Pearson (low)</th>\n",
       "      <th>Spearman (high)</th>\n",
       "      <th>Spearman (low)</th>\n",
       "      <th>Clustermatch (high)</th>\n",
       "      <th>Clustermatch (low)</th>\n",
       "      <th>clustermatch</th>\n",
       "      <th>pearson</th>\n",
       "      <th>spearman</th>\n",
       "    </tr>\n",
       "    <tr>\n",
       "      <th>Spearman (low)</th>\n",
       "      <th>Pearson (low)</th>\n",
       "      <th>Clustermatch (low)</th>\n",
       "      <th>Spearman (high)</th>\n",
       "      <th>Pearson (high)</th>\n",
       "      <th>Clustermatch (high)</th>\n",
       "      <th></th>\n",
       "      <th></th>\n",
       "      <th></th>\n",
       "      <th></th>\n",
       "      <th></th>\n",
       "      <th></th>\n",
       "      <th></th>\n",
       "      <th></th>\n",
       "      <th></th>\n",
       "    </tr>\n",
       "  </thead>\n",
       "  <tbody>\n",
       "    <tr>\n",
       "      <th rowspan=\"2\" valign=\"top\">False</th>\n",
       "      <th rowspan=\"2\" valign=\"top\">False</th>\n",
       "      <th rowspan=\"2\" valign=\"top\">False</th>\n",
       "      <th rowspan=\"2\" valign=\"top\">True</th>\n",
       "      <th rowspan=\"2\" valign=\"top\">True</th>\n",
       "      <th>True</th>\n",
       "      <td>True</td>\n",
       "      <td>False</td>\n",
       "      <td>True</td>\n",
       "      <td>False</td>\n",
       "      <td>True</td>\n",
       "      <td>False</td>\n",
       "      <td>0.418721</td>\n",
       "      <td>0.681847</td>\n",
       "      <td>0.786595</td>\n",
       "    </tr>\n",
       "    <tr>\n",
       "      <th>True</th>\n",
       "      <td>True</td>\n",
       "      <td>False</td>\n",
       "      <td>True</td>\n",
       "      <td>False</td>\n",
       "      <td>True</td>\n",
       "      <td>False</td>\n",
       "      <td>0.405090</td>\n",
       "      <td>0.734699</td>\n",
       "      <td>0.816991</td>\n",
       "    </tr>\n",
       "    <tr>\n",
       "      <th>True</th>\n",
       "      <th>True</th>\n",
       "      <th>True</th>\n",
       "      <th>False</th>\n",
       "      <th>False</th>\n",
       "      <th>False</th>\n",
       "      <td>False</td>\n",
       "      <td>True</td>\n",
       "      <td>False</td>\n",
       "      <td>True</td>\n",
       "      <td>False</td>\n",
       "      <td>True</td>\n",
       "      <td>0.007466</td>\n",
       "      <td>0.013825</td>\n",
       "      <td>0.004128</td>\n",
       "    </tr>\n",
       "    <tr>\n",
       "      <th rowspan=\"2\" valign=\"top\">False</th>\n",
       "      <th>False</th>\n",
       "      <th>False</th>\n",
       "      <th>True</th>\n",
       "      <th>True</th>\n",
       "      <th>True</th>\n",
       "      <td>True</td>\n",
       "      <td>False</td>\n",
       "      <td>True</td>\n",
       "      <td>False</td>\n",
       "      <td>True</td>\n",
       "      <td>False</td>\n",
       "      <td>0.391683</td>\n",
       "      <td>0.727347</td>\n",
       "      <td>0.803653</td>\n",
       "    </tr>\n",
       "    <tr>\n",
       "      <th>True</th>\n",
       "      <th>False</th>\n",
       "      <th>False</th>\n",
       "      <th>False</th>\n",
       "      <th>False</th>\n",
       "      <td>False</td>\n",
       "      <td>True</td>\n",
       "      <td>False</td>\n",
       "      <td>False</td>\n",
       "      <td>False</td>\n",
       "      <td>False</td>\n",
       "      <td>0.099013</td>\n",
       "      <td>0.094147</td>\n",
       "      <td>0.231269</td>\n",
       "    </tr>\n",
       "    <tr>\n",
       "      <th>...</th>\n",
       "      <th>...</th>\n",
       "      <th>...</th>\n",
       "      <th>...</th>\n",
       "      <th>...</th>\n",
       "      <th>...</th>\n",
       "      <td>...</td>\n",
       "      <td>...</td>\n",
       "      <td>...</td>\n",
       "      <td>...</td>\n",
       "      <td>...</td>\n",
       "      <td>...</td>\n",
       "      <td>...</td>\n",
       "      <td>...</td>\n",
       "      <td>...</td>\n",
       "    </tr>\n",
       "    <tr>\n",
       "      <th rowspan=\"5\" valign=\"top\">True</th>\n",
       "      <th rowspan=\"5\" valign=\"top\">True</th>\n",
       "      <th rowspan=\"5\" valign=\"top\">True</th>\n",
       "      <th rowspan=\"5\" valign=\"top\">False</th>\n",
       "      <th rowspan=\"5\" valign=\"top\">False</th>\n",
       "      <th>False</th>\n",
       "      <td>False</td>\n",
       "      <td>True</td>\n",
       "      <td>False</td>\n",
       "      <td>True</td>\n",
       "      <td>False</td>\n",
       "      <td>True</td>\n",
       "      <td>0.011968</td>\n",
       "      <td>0.051215</td>\n",
       "      <td>0.089428</td>\n",
       "    </tr>\n",
       "    <tr>\n",
       "      <th>False</th>\n",
       "      <td>False</td>\n",
       "      <td>True</td>\n",
       "      <td>False</td>\n",
       "      <td>True</td>\n",
       "      <td>False</td>\n",
       "      <td>True</td>\n",
       "      <td>0.004975</td>\n",
       "      <td>0.031741</td>\n",
       "      <td>0.018411</td>\n",
       "    </tr>\n",
       "    <tr>\n",
       "      <th>False</th>\n",
       "      <td>False</td>\n",
       "      <td>True</td>\n",
       "      <td>False</td>\n",
       "      <td>True</td>\n",
       "      <td>False</td>\n",
       "      <td>True</td>\n",
       "      <td>0.011968</td>\n",
       "      <td>0.029699</td>\n",
       "      <td>0.104518</td>\n",
       "    </tr>\n",
       "    <tr>\n",
       "      <th>False</th>\n",
       "      <td>False</td>\n",
       "      <td>True</td>\n",
       "      <td>False</td>\n",
       "      <td>True</td>\n",
       "      <td>False</td>\n",
       "      <td>True</td>\n",
       "      <td>0.006638</td>\n",
       "      <td>0.033764</td>\n",
       "      <td>0.096159</td>\n",
       "    </tr>\n",
       "    <tr>\n",
       "      <th>False</th>\n",
       "      <td>False</td>\n",
       "      <td>True</td>\n",
       "      <td>False</td>\n",
       "      <td>True</td>\n",
       "      <td>False</td>\n",
       "      <td>True</td>\n",
       "      <td>0.013967</td>\n",
       "      <td>0.010452</td>\n",
       "      <td>0.053928</td>\n",
       "    </tr>\n",
       "  </tbody>\n",
       "</table>\n",
       "<p>12497500 rows × 9 columns</p>\n",
       "</div>"
      ],
      "text/plain": [
       "                                                                                                    Pearson (high)  \\\n",
       "Spearman (low) Pearson (low) Clustermatch (low) Spearman (high) Pearson (high) Clustermatch (high)                   \n",
       "False          False         False              True            True           True                           True   \n",
       "                                                                               True                           True   \n",
       "True           True          True               False           False          False                         False   \n",
       "False          False         False              True            True           True                           True   \n",
       "               True          False              False           False          False                         False   \n",
       "...                                                                                                            ...   \n",
       "True           True          True               False           False          False                         False   \n",
       "                                                                               False                         False   \n",
       "                                                                               False                         False   \n",
       "                                                                               False                         False   \n",
       "                                                                               False                         False   \n",
       "\n",
       "                                                                                                    Pearson (low)  \\\n",
       "Spearman (low) Pearson (low) Clustermatch (low) Spearman (high) Pearson (high) Clustermatch (high)                  \n",
       "False          False         False              True            True           True                         False   \n",
       "                                                                               True                         False   \n",
       "True           True          True               False           False          False                         True   \n",
       "False          False         False              True            True           True                         False   \n",
       "               True          False              False           False          False                         True   \n",
       "...                                                                                                           ...   \n",
       "True           True          True               False           False          False                         True   \n",
       "                                                                               False                         True   \n",
       "                                                                               False                         True   \n",
       "                                                                               False                         True   \n",
       "                                                                               False                         True   \n",
       "\n",
       "                                                                                                    Spearman (high)  \\\n",
       "Spearman (low) Pearson (low) Clustermatch (low) Spearman (high) Pearson (high) Clustermatch (high)                    \n",
       "False          False         False              True            True           True                            True   \n",
       "                                                                               True                            True   \n",
       "True           True          True               False           False          False                          False   \n",
       "False          False         False              True            True           True                            True   \n",
       "               True          False              False           False          False                          False   \n",
       "...                                                                                                             ...   \n",
       "True           True          True               False           False          False                          False   \n",
       "                                                                               False                          False   \n",
       "                                                                               False                          False   \n",
       "                                                                               False                          False   \n",
       "                                                                               False                          False   \n",
       "\n",
       "                                                                                                    Spearman (low)  \\\n",
       "Spearman (low) Pearson (low) Clustermatch (low) Spearman (high) Pearson (high) Clustermatch (high)                   \n",
       "False          False         False              True            True           True                          False   \n",
       "                                                                               True                          False   \n",
       "True           True          True               False           False          False                          True   \n",
       "False          False         False              True            True           True                          False   \n",
       "               True          False              False           False          False                         False   \n",
       "...                                                                                                            ...   \n",
       "True           True          True               False           False          False                          True   \n",
       "                                                                               False                          True   \n",
       "                                                                               False                          True   \n",
       "                                                                               False                          True   \n",
       "                                                                               False                          True   \n",
       "\n",
       "                                                                                                    Clustermatch (high)  \\\n",
       "Spearman (low) Pearson (low) Clustermatch (low) Spearman (high) Pearson (high) Clustermatch (high)                        \n",
       "False          False         False              True            True           True                                True   \n",
       "                                                                               True                                True   \n",
       "True           True          True               False           False          False                              False   \n",
       "False          False         False              True            True           True                                True   \n",
       "               True          False              False           False          False                              False   \n",
       "...                                                                                                                 ...   \n",
       "True           True          True               False           False          False                              False   \n",
       "                                                                               False                              False   \n",
       "                                                                               False                              False   \n",
       "                                                                               False                              False   \n",
       "                                                                               False                              False   \n",
       "\n",
       "                                                                                                    Clustermatch (low)  \\\n",
       "Spearman (low) Pearson (low) Clustermatch (low) Spearman (high) Pearson (high) Clustermatch (high)                       \n",
       "False          False         False              True            True           True                              False   \n",
       "                                                                               True                              False   \n",
       "True           True          True               False           False          False                              True   \n",
       "False          False         False              True            True           True                              False   \n",
       "               True          False              False           False          False                             False   \n",
       "...                                                                                                                ...   \n",
       "True           True          True               False           False          False                              True   \n",
       "                                                                               False                              True   \n",
       "                                                                               False                              True   \n",
       "                                                                               False                              True   \n",
       "                                                                               False                              True   \n",
       "\n",
       "                                                                                                    clustermatch  \\\n",
       "Spearman (low) Pearson (low) Clustermatch (low) Spearman (high) Pearson (high) Clustermatch (high)                 \n",
       "False          False         False              True            True           True                     0.418721   \n",
       "                                                                               True                     0.405090   \n",
       "True           True          True               False           False          False                    0.007466   \n",
       "False          False         False              True            True           True                     0.391683   \n",
       "               True          False              False           False          False                    0.099013   \n",
       "...                                                                                                          ...   \n",
       "True           True          True               False           False          False                    0.011968   \n",
       "                                                                               False                    0.004975   \n",
       "                                                                               False                    0.011968   \n",
       "                                                                               False                    0.006638   \n",
       "                                                                               False                    0.013967   \n",
       "\n",
       "                                                                                                     pearson  \\\n",
       "Spearman (low) Pearson (low) Clustermatch (low) Spearman (high) Pearson (high) Clustermatch (high)             \n",
       "False          False         False              True            True           True                 0.681847   \n",
       "                                                                               True                 0.734699   \n",
       "True           True          True               False           False          False                0.013825   \n",
       "False          False         False              True            True           True                 0.727347   \n",
       "               True          False              False           False          False                0.094147   \n",
       "...                                                                                                      ...   \n",
       "True           True          True               False           False          False                0.051215   \n",
       "                                                                               False                0.031741   \n",
       "                                                                               False                0.029699   \n",
       "                                                                               False                0.033764   \n",
       "                                                                               False                0.010452   \n",
       "\n",
       "                                                                                                    spearman  \n",
       "Spearman (low) Pearson (low) Clustermatch (low) Spearman (high) Pearson (high) Clustermatch (high)            \n",
       "False          False         False              True            True           True                 0.786595  \n",
       "                                                                               True                 0.816991  \n",
       "True           True          True               False           False          False                0.004128  \n",
       "False          False         False              True            True           True                 0.803653  \n",
       "               True          False              False           False          False                0.231269  \n",
       "...                                                                                                      ...  \n",
       "True           True          True               False           False          False                0.089428  \n",
       "                                                                               False                0.018411  \n",
       "                                                                               False                0.104518  \n",
       "                                                                               False                0.096159  \n",
       "                                                                               False                0.053928  \n",
       "\n",
       "[12497500 rows x 9 columns]"
      ]
     },
     "execution_count": 35,
     "metadata": {},
     "output_type": "execute_result"
    }
   ],
   "source": [
    "gene_pairs_by_cats"
   ]
  },
  {
   "cell_type": "code",
   "execution_count": 36,
   "id": "340b9a40-ec90-4388-ab1c-0a8bcc2bb0b1",
   "metadata": {
    "papermill": {
     "duration": 2.400849,
     "end_time": "2022-01-27T14:46:59.891281",
     "exception": false,
     "start_time": "2022-01-27T14:46:57.490432",
     "status": "completed"
    },
    "tags": []
   },
   "outputs": [],
   "source": [
    "gene_pairs_by_cats = gene_pairs_by_cats.sort_index()"
   ]
  },
  {
   "cell_type": "code",
   "execution_count": 37,
   "id": "6c583d89-4140-4cb6-aee8-18a1bd0427d1",
   "metadata": {
    "papermill": {
     "duration": 9.589754,
     "end_time": "2022-01-27T14:47:09.532812",
     "exception": false,
     "start_time": "2022-01-27T14:46:59.943058",
     "status": "completed"
    },
    "tags": []
   },
   "outputs": [
    {
     "data": {
      "text/html": [
       "<div>\n",
       "<style scoped>\n",
       "    .dataframe tbody tr th:only-of-type {\n",
       "        vertical-align: middle;\n",
       "    }\n",
       "\n",
       "    .dataframe tbody tr th {\n",
       "        vertical-align: top;\n",
       "    }\n",
       "\n",
       "    .dataframe thead th {\n",
       "        text-align: right;\n",
       "    }\n",
       "</style>\n",
       "<table border=\"1\" class=\"dataframe\">\n",
       "  <thead>\n",
       "    <tr style=\"text-align: right;\">\n",
       "      <th></th>\n",
       "      <th>Spearman (low)</th>\n",
       "      <th>Pearson (low)</th>\n",
       "      <th>Clustermatch (low)</th>\n",
       "      <th>Spearman (high)</th>\n",
       "      <th>Pearson (high)</th>\n",
       "      <th>Clustermatch (high)</th>\n",
       "    </tr>\n",
       "  </thead>\n",
       "  <tbody>\n",
       "    <tr>\n",
       "      <th>0</th>\n",
       "      <td>False</td>\n",
       "      <td>False</td>\n",
       "      <td>False</td>\n",
       "      <td>False</td>\n",
       "      <td>False</td>\n",
       "      <td>False</td>\n",
       "    </tr>\n",
       "    <tr>\n",
       "      <th>1</th>\n",
       "      <td>False</td>\n",
       "      <td>False</td>\n",
       "      <td>False</td>\n",
       "      <td>False</td>\n",
       "      <td>False</td>\n",
       "      <td>True</td>\n",
       "    </tr>\n",
       "    <tr>\n",
       "      <th>2</th>\n",
       "      <td>False</td>\n",
       "      <td>False</td>\n",
       "      <td>False</td>\n",
       "      <td>False</td>\n",
       "      <td>True</td>\n",
       "      <td>False</td>\n",
       "    </tr>\n",
       "    <tr>\n",
       "      <th>3</th>\n",
       "      <td>False</td>\n",
       "      <td>False</td>\n",
       "      <td>False</td>\n",
       "      <td>False</td>\n",
       "      <td>True</td>\n",
       "      <td>True</td>\n",
       "    </tr>\n",
       "    <tr>\n",
       "      <th>4</th>\n",
       "      <td>False</td>\n",
       "      <td>False</td>\n",
       "      <td>False</td>\n",
       "      <td>True</td>\n",
       "      <td>False</td>\n",
       "      <td>False</td>\n",
       "    </tr>\n",
       "    <tr>\n",
       "      <th>5</th>\n",
       "      <td>False</td>\n",
       "      <td>False</td>\n",
       "      <td>False</td>\n",
       "      <td>True</td>\n",
       "      <td>False</td>\n",
       "      <td>True</td>\n",
       "    </tr>\n",
       "    <tr>\n",
       "      <th>6</th>\n",
       "      <td>False</td>\n",
       "      <td>False</td>\n",
       "      <td>False</td>\n",
       "      <td>True</td>\n",
       "      <td>True</td>\n",
       "      <td>False</td>\n",
       "    </tr>\n",
       "    <tr>\n",
       "      <th>7</th>\n",
       "      <td>False</td>\n",
       "      <td>False</td>\n",
       "      <td>False</td>\n",
       "      <td>True</td>\n",
       "      <td>True</td>\n",
       "      <td>True</td>\n",
       "    </tr>\n",
       "    <tr>\n",
       "      <th>8</th>\n",
       "      <td>False</td>\n",
       "      <td>False</td>\n",
       "      <td>True</td>\n",
       "      <td>False</td>\n",
       "      <td>False</td>\n",
       "      <td>False</td>\n",
       "    </tr>\n",
       "    <tr>\n",
       "      <th>9</th>\n",
       "      <td>False</td>\n",
       "      <td>False</td>\n",
       "      <td>True</td>\n",
       "      <td>False</td>\n",
       "      <td>True</td>\n",
       "      <td>False</td>\n",
       "    </tr>\n",
       "    <tr>\n",
       "      <th>10</th>\n",
       "      <td>False</td>\n",
       "      <td>True</td>\n",
       "      <td>False</td>\n",
       "      <td>False</td>\n",
       "      <td>False</td>\n",
       "      <td>False</td>\n",
       "    </tr>\n",
       "    <tr>\n",
       "      <th>11</th>\n",
       "      <td>False</td>\n",
       "      <td>True</td>\n",
       "      <td>False</td>\n",
       "      <td>False</td>\n",
       "      <td>False</td>\n",
       "      <td>True</td>\n",
       "    </tr>\n",
       "    <tr>\n",
       "      <th>12</th>\n",
       "      <td>False</td>\n",
       "      <td>True</td>\n",
       "      <td>False</td>\n",
       "      <td>True</td>\n",
       "      <td>False</td>\n",
       "      <td>False</td>\n",
       "    </tr>\n",
       "    <tr>\n",
       "      <th>13</th>\n",
       "      <td>False</td>\n",
       "      <td>True</td>\n",
       "      <td>False</td>\n",
       "      <td>True</td>\n",
       "      <td>False</td>\n",
       "      <td>True</td>\n",
       "    </tr>\n",
       "    <tr>\n",
       "      <th>14</th>\n",
       "      <td>False</td>\n",
       "      <td>True</td>\n",
       "      <td>True</td>\n",
       "      <td>False</td>\n",
       "      <td>False</td>\n",
       "      <td>False</td>\n",
       "    </tr>\n",
       "    <tr>\n",
       "      <th>15</th>\n",
       "      <td>True</td>\n",
       "      <td>False</td>\n",
       "      <td>False</td>\n",
       "      <td>False</td>\n",
       "      <td>False</td>\n",
       "      <td>False</td>\n",
       "    </tr>\n",
       "    <tr>\n",
       "      <th>16</th>\n",
       "      <td>True</td>\n",
       "      <td>False</td>\n",
       "      <td>False</td>\n",
       "      <td>False</td>\n",
       "      <td>False</td>\n",
       "      <td>True</td>\n",
       "    </tr>\n",
       "    <tr>\n",
       "      <th>17</th>\n",
       "      <td>True</td>\n",
       "      <td>False</td>\n",
       "      <td>False</td>\n",
       "      <td>False</td>\n",
       "      <td>True</td>\n",
       "      <td>False</td>\n",
       "    </tr>\n",
       "    <tr>\n",
       "      <th>18</th>\n",
       "      <td>True</td>\n",
       "      <td>False</td>\n",
       "      <td>True</td>\n",
       "      <td>False</td>\n",
       "      <td>False</td>\n",
       "      <td>False</td>\n",
       "    </tr>\n",
       "    <tr>\n",
       "      <th>19</th>\n",
       "      <td>True</td>\n",
       "      <td>False</td>\n",
       "      <td>True</td>\n",
       "      <td>False</td>\n",
       "      <td>True</td>\n",
       "      <td>False</td>\n",
       "    </tr>\n",
       "    <tr>\n",
       "      <th>20</th>\n",
       "      <td>True</td>\n",
       "      <td>True</td>\n",
       "      <td>False</td>\n",
       "      <td>False</td>\n",
       "      <td>False</td>\n",
       "      <td>False</td>\n",
       "    </tr>\n",
       "    <tr>\n",
       "      <th>21</th>\n",
       "      <td>True</td>\n",
       "      <td>True</td>\n",
       "      <td>False</td>\n",
       "      <td>False</td>\n",
       "      <td>False</td>\n",
       "      <td>True</td>\n",
       "    </tr>\n",
       "    <tr>\n",
       "      <th>22</th>\n",
       "      <td>True</td>\n",
       "      <td>True</td>\n",
       "      <td>True</td>\n",
       "      <td>False</td>\n",
       "      <td>False</td>\n",
       "      <td>False</td>\n",
       "    </tr>\n",
       "  </tbody>\n",
       "</table>\n",
       "</div>"
      ],
      "text/plain": [
       "   Spearman (low) Pearson (low) Clustermatch (low) Spearman (high)  \\\n",
       "0           False         False              False           False   \n",
       "1           False         False              False           False   \n",
       "2           False         False              False           False   \n",
       "3           False         False              False           False   \n",
       "4           False         False              False            True   \n",
       "5           False         False              False            True   \n",
       "6           False         False              False            True   \n",
       "7           False         False              False            True   \n",
       "8           False         False               True           False   \n",
       "9           False         False               True           False   \n",
       "10          False          True              False           False   \n",
       "11          False          True              False           False   \n",
       "12          False          True              False            True   \n",
       "13          False          True              False            True   \n",
       "14          False          True               True           False   \n",
       "15           True         False              False           False   \n",
       "16           True         False              False           False   \n",
       "17           True         False              False           False   \n",
       "18           True         False               True           False   \n",
       "19           True         False               True           False   \n",
       "20           True          True              False           False   \n",
       "21           True          True              False           False   \n",
       "22           True          True               True           False   \n",
       "\n",
       "   Pearson (high) Clustermatch (high)  \n",
       "0           False               False  \n",
       "1           False                True  \n",
       "2            True               False  \n",
       "3            True                True  \n",
       "4           False               False  \n",
       "5           False                True  \n",
       "6            True               False  \n",
       "7            True                True  \n",
       "8           False               False  \n",
       "9            True               False  \n",
       "10          False               False  \n",
       "11          False                True  \n",
       "12          False               False  \n",
       "13          False                True  \n",
       "14          False               False  \n",
       "15          False               False  \n",
       "16          False                True  \n",
       "17           True               False  \n",
       "18          False               False  \n",
       "19           True               False  \n",
       "20          False               False  \n",
       "21          False                True  \n",
       "22          False               False  "
      ]
     },
     "metadata": {},
     "output_type": "display_data"
    }
   ],
   "source": [
    "_tmp_index = gene_pairs_by_cats.index.unique().to_frame(False)\n",
    "display(_tmp_index)"
   ]
  },
  {
   "cell_type": "code",
   "execution_count": 38,
   "id": "137afe3a-2936-4270-a14c-00d9ac542b50",
   "metadata": {
    "papermill": {
     "duration": 0.059055,
     "end_time": "2022-01-27T14:47:09.637717",
     "exception": false,
     "start_time": "2022-01-27T14:47:09.578662",
     "status": "completed"
    },
    "tags": []
   },
   "outputs": [
    {
     "data": {
      "text/html": [
       "<div>\n",
       "<style scoped>\n",
       "    .dataframe tbody tr th:only-of-type {\n",
       "        vertical-align: middle;\n",
       "    }\n",
       "\n",
       "    .dataframe tbody tr th {\n",
       "        vertical-align: top;\n",
       "    }\n",
       "\n",
       "    .dataframe thead th {\n",
       "        text-align: right;\n",
       "    }\n",
       "</style>\n",
       "<table border=\"1\" class=\"dataframe\">\n",
       "  <thead>\n",
       "    <tr style=\"text-align: right;\">\n",
       "      <th></th>\n",
       "      <th>Spearman (low)</th>\n",
       "      <th>Pearson (low)</th>\n",
       "      <th>Clustermatch (low)</th>\n",
       "      <th>Spearman (high)</th>\n",
       "      <th>Pearson (high)</th>\n",
       "      <th>Clustermatch (high)</th>\n",
       "    </tr>\n",
       "  </thead>\n",
       "  <tbody>\n",
       "    <tr>\n",
       "      <th>7</th>\n",
       "      <td>False</td>\n",
       "      <td>False</td>\n",
       "      <td>False</td>\n",
       "      <td>True</td>\n",
       "      <td>True</td>\n",
       "      <td>True</td>\n",
       "    </tr>\n",
       "    <tr>\n",
       "      <th>13</th>\n",
       "      <td>False</td>\n",
       "      <td>True</td>\n",
       "      <td>False</td>\n",
       "      <td>True</td>\n",
       "      <td>False</td>\n",
       "      <td>True</td>\n",
       "    </tr>\n",
       "    <tr>\n",
       "      <th>19</th>\n",
       "      <td>True</td>\n",
       "      <td>False</td>\n",
       "      <td>True</td>\n",
       "      <td>False</td>\n",
       "      <td>True</td>\n",
       "      <td>False</td>\n",
       "    </tr>\n",
       "    <tr>\n",
       "      <th>21</th>\n",
       "      <td>True</td>\n",
       "      <td>True</td>\n",
       "      <td>False</td>\n",
       "      <td>False</td>\n",
       "      <td>False</td>\n",
       "      <td>True</td>\n",
       "    </tr>\n",
       "    <tr>\n",
       "      <th>22</th>\n",
       "      <td>True</td>\n",
       "      <td>True</td>\n",
       "      <td>True</td>\n",
       "      <td>False</td>\n",
       "      <td>False</td>\n",
       "      <td>False</td>\n",
       "    </tr>\n",
       "  </tbody>\n",
       "</table>\n",
       "</div>"
      ],
      "text/plain": [
       "   Spearman (low) Pearson (low) Clustermatch (low) Spearman (high)  \\\n",
       "7           False         False              False            True   \n",
       "13          False          True              False            True   \n",
       "19           True         False               True           False   \n",
       "21           True          True              False           False   \n",
       "22           True          True               True           False   \n",
       "\n",
       "   Pearson (high) Clustermatch (high)  \n",
       "7            True                True  \n",
       "13          False                True  \n",
       "19           True               False  \n",
       "21          False                True  \n",
       "22          False               False  "
      ]
     },
     "execution_count": 38,
     "metadata": {},
     "output_type": "execute_result"
    }
   ],
   "source": [
    "_tmp_index[_tmp_index.sum(axis=1) == 3]"
   ]
  },
  {
   "cell_type": "code",
   "execution_count": 39,
   "id": "ab2a49ff-700b-48c1-b8c1-428b1061ce5a",
   "metadata": {
    "papermill": {
     "duration": 0.057579,
     "end_time": "2022-01-27T14:47:09.742547",
     "exception": false,
     "start_time": "2022-01-27T14:47:09.684968",
     "status": "completed"
    },
    "tags": []
   },
   "outputs": [
    {
     "data": {
      "text/plain": [
       "0      True\n",
       "1      True\n",
       "2      True\n",
       "3      True\n",
       "4      True\n",
       "5      True\n",
       "6      True\n",
       "7      True\n",
       "8     False\n",
       "9     False\n",
       "10    False\n",
       "11    False\n",
       "12    False\n",
       "13    False\n",
       "14    False\n",
       "15    False\n",
       "16    False\n",
       "17    False\n",
       "18    False\n",
       "19    False\n",
       "20    False\n",
       "21    False\n",
       "22    False\n",
       "dtype: bool"
      ]
     },
     "execution_count": 39,
     "metadata": {},
     "output_type": "execute_result"
    }
   ],
   "source": [
    "_tmp_index.apply(lambda x: x[0:3].sum() == 0, axis=1)"
   ]
  },
  {
   "cell_type": "code",
   "execution_count": 40,
   "id": "3008a6b3-8803-40f3-a09c-45ca94131327",
   "metadata": {
    "papermill": {
     "duration": 0.064944,
     "end_time": "2022-01-27T14:47:09.854265",
     "exception": false,
     "start_time": "2022-01-27T14:47:09.789321",
     "status": "completed"
    },
    "tags": []
   },
   "outputs": [
    {
     "data": {
      "text/plain": [
       "array([(False, False, False, False, True, True),\n",
       "       (False, False, False, True, False, True),\n",
       "       (False, False, False, True, True, False)], dtype=object)"
      ]
     },
     "execution_count": 40,
     "metadata": {},
     "output_type": "execute_result"
    }
   ],
   "source": [
    "# agreements on top\n",
    "_tmp_index.loc[\n",
    "    _tmp_index[\n",
    "        _tmp_index.apply(lambda x: x.sum() > 1, axis=1)\n",
    "        & _tmp_index.apply(lambda x: x[0:3].sum() == 0, axis=1)\n",
    "        & _tmp_index.apply(lambda x: 3 > x[3:].sum() > 1, axis=1)\n",
    "    ].index\n",
    "].apply(tuple, axis=1).to_numpy()"
   ]
  },
  {
   "cell_type": "code",
   "execution_count": 41,
   "id": "556b8016-3a64-4e95-adb6-705a3e8854c7",
   "metadata": {
    "papermill": {
     "duration": 0.066071,
     "end_time": "2022-01-27T14:47:09.967517",
     "exception": false,
     "start_time": "2022-01-27T14:47:09.901446",
     "status": "completed"
    },
    "tags": []
   },
   "outputs": [
    {
     "data": {
      "text/plain": [
       "array([(False, True, True, False, False, False),\n",
       "       (True, False, True, False, False, False),\n",
       "       (True, True, False, False, False, False)], dtype=object)"
      ]
     },
     "execution_count": 41,
     "metadata": {},
     "output_type": "execute_result"
    }
   ],
   "source": [
    "# agreements on bottom\n",
    "_tmp_index.loc[\n",
    "    _tmp_index[\n",
    "        _tmp_index.apply(lambda x: x.sum() > 1, axis=1)\n",
    "        & _tmp_index.apply(lambda x: 3 > x[0:3].sum() > 1, axis=1)\n",
    "        & _tmp_index.apply(lambda x: x[3:].sum() == 0, axis=1)\n",
    "    ].index\n",
    "].apply(tuple, axis=1).to_numpy()"
   ]
  },
  {
   "cell_type": "code",
   "execution_count": 42,
   "id": "4cd4c428-510a-497a-9c9c-4af16e9c254b",
   "metadata": {
    "papermill": {
     "duration": 0.067266,
     "end_time": "2022-01-27T14:47:10.089062",
     "exception": false,
     "start_time": "2022-01-27T14:47:10.021796",
     "status": "completed"
    },
    "tags": []
   },
   "outputs": [
    {
     "data": {
      "text/plain": [
       "array([(False, False, True, False, True, False),\n",
       "       (False, True, False, False, False, True),\n",
       "       (False, True, False, True, False, False),\n",
       "       (False, True, False, True, False, True),\n",
       "       (True, False, False, False, False, True),\n",
       "       (True, False, False, False, True, False),\n",
       "       (True, False, True, False, True, False),\n",
       "       (True, True, False, False, False, True)], dtype=object)"
      ]
     },
     "execution_count": 42,
     "metadata": {},
     "output_type": "execute_result"
    }
   ],
   "source": [
    "# diagreements\n",
    "_tmp_index.loc[\n",
    "    _tmp_index[\n",
    "        _tmp_index.apply(lambda x: x.sum() > 1, axis=1)\n",
    "        & _tmp_index.apply(lambda x: x[0:3].sum() > 0, axis=1)\n",
    "        & _tmp_index.apply(lambda x: x[3:].sum() > 0, axis=1)\n",
    "    ].index\n",
    "].apply(tuple, axis=1).to_numpy()"
   ]
  },
  {
   "cell_type": "code",
   "execution_count": 43,
   "id": "14911f01-eace-4982-8d82-3f45bcf65e76",
   "metadata": {
    "papermill": {
     "duration": 18.45442,
     "end_time": "2022-01-27T14:47:28.592145",
     "exception": false,
     "start_time": "2022-01-27T14:47:10.137725",
     "status": "completed"
    },
    "tags": []
   },
   "outputs": [],
   "source": [
    "# order subsets\n",
    "gene_pairs_by_cats = gene_pairs_by_cats.loc[\n",
    "    [\n",
    "        # pairs not included in categories:\n",
    "        # (False, False, False, False, False, False),\n",
    "        # full agreements on high:\n",
    "        (False, False, False, True, True, True),\n",
    "        # agreements on top\n",
    "        (False, False, False, False, True, True),\n",
    "        (False, False, False, True, False, True),\n",
    "        (False, False, False, True, True, False),\n",
    "        # agreements on bottom\n",
    "        (False, True, True, False, False, False),\n",
    "        (True, False, True, False, False, False),\n",
    "        (True, True, False, False, False, False),\n",
    "        # full agreements on low:\n",
    "        (True, True, True, False, False, False),\n",
    "        # diagreements\n",
    "        #   clustermatch\n",
    "        (False, True, False, True, False, True),\n",
    "        (False, True, False, False, False, True),\n",
    "        (True, False, False, False, False, True),\n",
    "        (True, True, False, False, False, True),\n",
    "        #   pearson\n",
    "        (False, False, True, False, True, False),\n",
    "        (True, False, False, False, True, False),\n",
    "        (True, False, True, False, True, False),\n",
    "        #   spearman\n",
    "        (False, True, False, True, False, False),\n",
    "    ]\n",
    "]"
   ]
  },
  {
   "cell_type": "code",
   "execution_count": 44,
   "id": "12f6ad57-8cdf-4d7b-8f60-32773afc8809",
   "metadata": {},
   "outputs": [
    {
     "data": {
      "text/html": [
       "<div>\n",
       "<style scoped>\n",
       "    .dataframe tbody tr th:only-of-type {\n",
       "        vertical-align: middle;\n",
       "    }\n",
       "\n",
       "    .dataframe tbody tr th {\n",
       "        vertical-align: top;\n",
       "    }\n",
       "\n",
       "    .dataframe thead th {\n",
       "        text-align: right;\n",
       "    }\n",
       "</style>\n",
       "<table border=\"1\" class=\"dataframe\">\n",
       "  <thead>\n",
       "    <tr style=\"text-align: right;\">\n",
       "      <th></th>\n",
       "      <th></th>\n",
       "      <th></th>\n",
       "      <th></th>\n",
       "      <th></th>\n",
       "      <th></th>\n",
       "      <th>Pearson (high)</th>\n",
       "      <th>Pearson (low)</th>\n",
       "      <th>Spearman (high)</th>\n",
       "      <th>Spearman (low)</th>\n",
       "      <th>Clustermatch (high)</th>\n",
       "      <th>Clustermatch (low)</th>\n",
       "      <th>clustermatch</th>\n",
       "      <th>pearson</th>\n",
       "      <th>spearman</th>\n",
       "    </tr>\n",
       "    <tr>\n",
       "      <th>Spearman (low)</th>\n",
       "      <th>Pearson (low)</th>\n",
       "      <th>Clustermatch (low)</th>\n",
       "      <th>Spearman (high)</th>\n",
       "      <th>Pearson (high)</th>\n",
       "      <th>Clustermatch (high)</th>\n",
       "      <th></th>\n",
       "      <th></th>\n",
       "      <th></th>\n",
       "      <th></th>\n",
       "      <th></th>\n",
       "      <th></th>\n",
       "      <th></th>\n",
       "      <th></th>\n",
       "      <th></th>\n",
       "    </tr>\n",
       "  </thead>\n",
       "  <tbody>\n",
       "    <tr>\n",
       "      <th rowspan=\"5\" valign=\"top\">False</th>\n",
       "      <th rowspan=\"5\" valign=\"top\">False</th>\n",
       "      <th rowspan=\"5\" valign=\"top\">False</th>\n",
       "      <th rowspan=\"5\" valign=\"top\">True</th>\n",
       "      <th rowspan=\"5\" valign=\"top\">True</th>\n",
       "      <th>True</th>\n",
       "      <td>True</td>\n",
       "      <td>False</td>\n",
       "      <td>True</td>\n",
       "      <td>False</td>\n",
       "      <td>True</td>\n",
       "      <td>False</td>\n",
       "      <td>0.418721</td>\n",
       "      <td>0.681847</td>\n",
       "      <td>0.786595</td>\n",
       "    </tr>\n",
       "    <tr>\n",
       "      <th>True</th>\n",
       "      <td>True</td>\n",
       "      <td>False</td>\n",
       "      <td>True</td>\n",
       "      <td>False</td>\n",
       "      <td>True</td>\n",
       "      <td>False</td>\n",
       "      <td>0.405090</td>\n",
       "      <td>0.734699</td>\n",
       "      <td>0.816991</td>\n",
       "    </tr>\n",
       "    <tr>\n",
       "      <th>True</th>\n",
       "      <td>True</td>\n",
       "      <td>False</td>\n",
       "      <td>True</td>\n",
       "      <td>False</td>\n",
       "      <td>True</td>\n",
       "      <td>False</td>\n",
       "      <td>0.391683</td>\n",
       "      <td>0.727347</td>\n",
       "      <td>0.803653</td>\n",
       "    </tr>\n",
       "    <tr>\n",
       "      <th>True</th>\n",
       "      <td>True</td>\n",
       "      <td>False</td>\n",
       "      <td>True</td>\n",
       "      <td>False</td>\n",
       "      <td>True</td>\n",
       "      <td>False</td>\n",
       "      <td>0.352812</td>\n",
       "      <td>0.648629</td>\n",
       "      <td>0.744163</td>\n",
       "    </tr>\n",
       "    <tr>\n",
       "      <th>True</th>\n",
       "      <td>True</td>\n",
       "      <td>False</td>\n",
       "      <td>True</td>\n",
       "      <td>False</td>\n",
       "      <td>True</td>\n",
       "      <td>False</td>\n",
       "      <td>0.418721</td>\n",
       "      <td>0.748871</td>\n",
       "      <td>0.825526</td>\n",
       "    </tr>\n",
       "  </tbody>\n",
       "</table>\n",
       "</div>"
      ],
      "text/plain": [
       "                                                                                                    Pearson (high)  \\\n",
       "Spearman (low) Pearson (low) Clustermatch (low) Spearman (high) Pearson (high) Clustermatch (high)                   \n",
       "False          False         False              True            True           True                           True   \n",
       "                                                                               True                           True   \n",
       "                                                                               True                           True   \n",
       "                                                                               True                           True   \n",
       "                                                                               True                           True   \n",
       "\n",
       "                                                                                                    Pearson (low)  \\\n",
       "Spearman (low) Pearson (low) Clustermatch (low) Spearman (high) Pearson (high) Clustermatch (high)                  \n",
       "False          False         False              True            True           True                         False   \n",
       "                                                                               True                         False   \n",
       "                                                                               True                         False   \n",
       "                                                                               True                         False   \n",
       "                                                                               True                         False   \n",
       "\n",
       "                                                                                                    Spearman (high)  \\\n",
       "Spearman (low) Pearson (low) Clustermatch (low) Spearman (high) Pearson (high) Clustermatch (high)                    \n",
       "False          False         False              True            True           True                            True   \n",
       "                                                                               True                            True   \n",
       "                                                                               True                            True   \n",
       "                                                                               True                            True   \n",
       "                                                                               True                            True   \n",
       "\n",
       "                                                                                                    Spearman (low)  \\\n",
       "Spearman (low) Pearson (low) Clustermatch (low) Spearman (high) Pearson (high) Clustermatch (high)                   \n",
       "False          False         False              True            True           True                          False   \n",
       "                                                                               True                          False   \n",
       "                                                                               True                          False   \n",
       "                                                                               True                          False   \n",
       "                                                                               True                          False   \n",
       "\n",
       "                                                                                                    Clustermatch (high)  \\\n",
       "Spearman (low) Pearson (low) Clustermatch (low) Spearman (high) Pearson (high) Clustermatch (high)                        \n",
       "False          False         False              True            True           True                                True   \n",
       "                                                                               True                                True   \n",
       "                                                                               True                                True   \n",
       "                                                                               True                                True   \n",
       "                                                                               True                                True   \n",
       "\n",
       "                                                                                                    Clustermatch (low)  \\\n",
       "Spearman (low) Pearson (low) Clustermatch (low) Spearman (high) Pearson (high) Clustermatch (high)                       \n",
       "False          False         False              True            True           True                              False   \n",
       "                                                                               True                              False   \n",
       "                                                                               True                              False   \n",
       "                                                                               True                              False   \n",
       "                                                                               True                              False   \n",
       "\n",
       "                                                                                                    clustermatch  \\\n",
       "Spearman (low) Pearson (low) Clustermatch (low) Spearman (high) Pearson (high) Clustermatch (high)                 \n",
       "False          False         False              True            True           True                     0.418721   \n",
       "                                                                               True                     0.405090   \n",
       "                                                                               True                     0.391683   \n",
       "                                                                               True                     0.352812   \n",
       "                                                                               True                     0.418721   \n",
       "\n",
       "                                                                                                     pearson  \\\n",
       "Spearman (low) Pearson (low) Clustermatch (low) Spearman (high) Pearson (high) Clustermatch (high)             \n",
       "False          False         False              True            True           True                 0.681847   \n",
       "                                                                               True                 0.734699   \n",
       "                                                                               True                 0.727347   \n",
       "                                                                               True                 0.648629   \n",
       "                                                                               True                 0.748871   \n",
       "\n",
       "                                                                                                    spearman  \n",
       "Spearman (low) Pearson (low) Clustermatch (low) Spearman (high) Pearson (high) Clustermatch (high)            \n",
       "False          False         False              True            True           True                 0.786595  \n",
       "                                                                               True                 0.816991  \n",
       "                                                                               True                 0.803653  \n",
       "                                                                               True                 0.744163  \n",
       "                                                                               True                 0.825526  "
      ]
     },
     "execution_count": 44,
     "metadata": {},
     "output_type": "execute_result"
    }
   ],
   "source": [
    "gene_pairs_by_cats.head()"
   ]
  },
  {
   "cell_type": "code",
   "execution_count": 45,
   "id": "26914b58-217f-4ee2-889c-dba4c7927125",
   "metadata": {},
   "outputs": [],
   "source": [
    "gene_pairs_by_cats = gene_pairs_by_cats.rename(\n",
    "    columns={\n",
    "        \"Clustermatch (high)\": \"CCC (high)\",\n",
    "        \"Clustermatch (low)\": \"CCC (low)\",\n",
    "    }\n",
    ")\n",
    "\n",
    "gene_pairs_by_cats.index.set_names(\n",
    "    {\n",
    "        \"Clustermatch (high)\": \"CCC (high)\",\n",
    "        \"Clustermatch (low)\": \"CCC (low)\",\n",
    "    },\n",
    "    inplace=True,\n",
    ")"
   ]
  },
  {
   "cell_type": "code",
   "execution_count": 46,
   "id": "a7934759-1223-42c6-88c1-179714e12c08",
   "metadata": {
    "papermill": {
     "duration": 5.226311,
     "end_time": "2022-01-27T14:47:33.866753",
     "exception": false,
     "start_time": "2022-01-27T14:47:28.640442",
     "status": "completed"
    },
    "tags": []
   },
   "outputs": [
    {
     "data": {
      "image/png": "[encoded data removed]",
      "text/plain": [
       "<Figure size 1008x360 with 3 Axes>"
      ]
     },
     "metadata": {
      "needs_background": "light"
     },
     "output_type": "display_data"
    }
   ],
   "source": [
    "fig = plt.figure(figsize=(14, 5))\n",
    "\n",
    "# g = plot(\n",
    "g = MyUpSet(\n",
    "    gene_pairs_by_cats,\n",
    "    show_counts=True,\n",
    "    sort_categories_by=None,\n",
    "    sort_by=None,\n",
    "    show_percentages=True,\n",
    "    # min_subset_size=2,\n",
    "    element_size=None,\n",
    "    # fig=fig,\n",
    ").plot(fig)\n",
    "\n",
    "g[\"totals\"].remove()  # set_visible(False)\n",
    "\n",
    "# display(fig.get_size_inches())\n",
    "# fig.set_size_inches(12, 5)\n",
    "\n",
    "plt.savefig(\n",
    "    OUTPUT_FIGURE_DIR / \"upsetplot.svg\",\n",
    "    bbox_inches=\"tight\",\n",
    "    facecolor=\"white\",\n",
    ")\n",
    "\n",
    "# plt.margins(x=-0.4)"
   ]
  },
  {
   "cell_type": "markdown",
   "id": "363880b2-67e5-447d-9f0b-c0a3f0fda026",
   "metadata": {
    "papermill": {
     "duration": 0.048517,
     "end_time": "2022-01-27T14:47:33.965127",
     "exception": false,
     "start_time": "2022-01-27T14:47:33.916610",
     "status": "completed"
    },
    "tags": []
   },
   "source": [
    "This plot has the sets that represent agreements on the left, and disagreements on the right."
   ]
  },
  {
   "cell_type": "markdown",
   "id": "ed3f6261-f79b-4696-84a3-ed5166edd0cd",
   "metadata": {},
   "source": [
    "The plot shown here is **not the final one for the manuscript**:\n",
    "\n",
    "1. Open the main output svg file (`upsetplot-main.svg`)\n",
    "1. Include the file generated here (`upsetplot.svg`)\n",
    "1. Rearrange the `1e6` at the top, which is overlapping other numbers.\n",
    "1. Add the triangles (red and green). For this I need to move the category names at the left to make space.\n",
    "1. Add a rectangle and clip it to remove the extra space on the left\n",
    "1. Add the \"Agreements\" and \"Disagreements\" labels below.\n",
    "1. Automatically resize page to drawing.\n",
    "1. Add a rectangle that covers the entire drawing with white background. And send it to the background."
   ]
  },
  {
   "cell_type": "markdown",
   "id": "29c6ba73-93a9-4d97-be9e-89e7812bc651",
   "metadata": {
    "papermill": {
     "duration": 0.051653,
     "end_time": "2022-01-27T14:47:34.065520",
     "exception": false,
     "start_time": "2022-01-27T14:47:34.013867",
     "status": "completed"
    },
    "tags": []
   },
   "source": [
    "# Save groups of gene pairs in each subset"
   ]
  },
  {
   "cell_type": "code",
   "execution_count": 47,
   "id": "b337ab8e-096d-43e2-af84-dede6193bc9e",
   "metadata": {
    "papermill": {
     "duration": 0.063142,
     "end_time": "2022-01-27T14:47:34.182416",
     "exception": false,
     "start_time": "2022-01-27T14:47:34.119274",
     "status": "completed"
    },
    "tags": []
   },
   "outputs": [
    {
     "data": {
      "text/plain": [
       "(12497500, 9)"
      ]
     },
     "metadata": {},
     "output_type": "display_data"
    },
    {
     "data": {
      "text/html": [
       "<div>\n",
       "<style scoped>\n",
       "    .dataframe tbody tr th:only-of-type {\n",
       "        vertical-align: middle;\n",
       "    }\n",
       "\n",
       "    .dataframe tbody tr th {\n",
       "        vertical-align: top;\n",
       "    }\n",
       "\n",
       "    .dataframe thead th {\n",
       "        text-align: right;\n",
       "    }\n",
       "</style>\n",
       "<table border=\"1\" class=\"dataframe\">\n",
       "  <thead>\n",
       "    <tr style=\"text-align: right;\">\n",
       "      <th></th>\n",
       "      <th></th>\n",
       "      <th>Pearson (high)</th>\n",
       "      <th>Pearson (low)</th>\n",
       "      <th>Spearman (high)</th>\n",
       "      <th>Spearman (low)</th>\n",
       "      <th>Clustermatch (high)</th>\n",
       "      <th>Clustermatch (low)</th>\n",
       "      <th>clustermatch</th>\n",
       "      <th>pearson</th>\n",
       "      <th>spearman</th>\n",
       "    </tr>\n",
       "  </thead>\n",
       "  <tbody>\n",
       "    <tr>\n",
       "      <th rowspan=\"5\" valign=\"top\">ENSG00000000419.12</th>\n",
       "      <th>ENSG00000002834.17</th>\n",
       "      <td>True</td>\n",
       "      <td>False</td>\n",
       "      <td>True</td>\n",
       "      <td>False</td>\n",
       "      <td>True</td>\n",
       "      <td>False</td>\n",
       "      <td>0.418721</td>\n",
       "      <td>0.681847</td>\n",
       "      <td>0.786595</td>\n",
       "    </tr>\n",
       "    <tr>\n",
       "      <th>ENSG00000002919.14</th>\n",
       "      <td>True</td>\n",
       "      <td>False</td>\n",
       "      <td>True</td>\n",
       "      <td>False</td>\n",
       "      <td>True</td>\n",
       "      <td>False</td>\n",
       "      <td>0.405090</td>\n",
       "      <td>0.734699</td>\n",
       "      <td>0.816991</td>\n",
       "    </tr>\n",
       "    <tr>\n",
       "      <th>ENSG00000002933.7</th>\n",
       "      <td>False</td>\n",
       "      <td>True</td>\n",
       "      <td>False</td>\n",
       "      <td>True</td>\n",
       "      <td>False</td>\n",
       "      <td>True</td>\n",
       "      <td>0.007466</td>\n",
       "      <td>0.013825</td>\n",
       "      <td>0.004128</td>\n",
       "    </tr>\n",
       "    <tr>\n",
       "      <th>ENSG00000003402.19</th>\n",
       "      <td>True</td>\n",
       "      <td>False</td>\n",
       "      <td>True</td>\n",
       "      <td>False</td>\n",
       "      <td>True</td>\n",
       "      <td>False</td>\n",
       "      <td>0.391683</td>\n",
       "      <td>0.727347</td>\n",
       "      <td>0.803653</td>\n",
       "    </tr>\n",
       "    <tr>\n",
       "      <th>ENSG00000004478.7</th>\n",
       "      <td>False</td>\n",
       "      <td>True</td>\n",
       "      <td>False</td>\n",
       "      <td>False</td>\n",
       "      <td>False</td>\n",
       "      <td>False</td>\n",
       "      <td>0.099013</td>\n",
       "      <td>0.094147</td>\n",
       "      <td>0.231269</td>\n",
       "    </tr>\n",
       "  </tbody>\n",
       "</table>\n",
       "</div>"
      ],
      "text/plain": [
       "                                       Pearson (high)  Pearson (low)  \\\n",
       "ENSG00000000419.12 ENSG00000002834.17            True          False   \n",
       "                   ENSG00000002919.14            True          False   \n",
       "                   ENSG00000002933.7            False           True   \n",
       "                   ENSG00000003402.19            True          False   \n",
       "                   ENSG00000004478.7            False           True   \n",
       "\n",
       "                                       Spearman (high)  Spearman (low)  \\\n",
       "ENSG00000000419.12 ENSG00000002834.17             True           False   \n",
       "                   ENSG00000002919.14             True           False   \n",
       "                   ENSG00000002933.7             False            True   \n",
       "                   ENSG00000003402.19             True           False   \n",
       "                   ENSG00000004478.7             False           False   \n",
       "\n",
       "                                       Clustermatch (high)  \\\n",
       "ENSG00000000419.12 ENSG00000002834.17                 True   \n",
       "                   ENSG00000002919.14                 True   \n",
       "                   ENSG00000002933.7                 False   \n",
       "                   ENSG00000003402.19                 True   \n",
       "                   ENSG00000004478.7                 False   \n",
       "\n",
       "                                       Clustermatch (low)  clustermatch  \\\n",
       "ENSG00000000419.12 ENSG00000002834.17               False      0.418721   \n",
       "                   ENSG00000002919.14               False      0.405090   \n",
       "                   ENSG00000002933.7                 True      0.007466   \n",
       "                   ENSG00000003402.19               False      0.391683   \n",
       "                   ENSG00000004478.7                False      0.099013   \n",
       "\n",
       "                                        pearson  spearman  \n",
       "ENSG00000000419.12 ENSG00000002834.17  0.681847  0.786595  \n",
       "                   ENSG00000002919.14  0.734699  0.816991  \n",
       "                   ENSG00000002933.7   0.013825  0.004128  \n",
       "                   ENSG00000003402.19  0.727347  0.803653  \n",
       "                   ENSG00000004478.7   0.094147  0.231269  "
      ]
     },
     "metadata": {},
     "output_type": "display_data"
    }
   ],
   "source": [
    "display(df_plot.shape)\n",
    "display(df_plot.head())"
   ]
  },
  {
   "cell_type": "code",
   "execution_count": 48,
   "id": "f129742c-7a42-42e2-9c6b-02cfcfccb0be",
   "metadata": {
    "papermill": {
     "duration": 0.056448,
     "end_time": "2022-01-27T14:47:34.291194",
     "exception": false,
     "start_time": "2022-01-27T14:47:34.234746",
     "status": "completed"
    },
    "tags": []
   },
   "outputs": [],
   "source": [
    "conf.GTEX[\"GENE_PAIR_INTERSECTIONS\"].mkdir(parents=True, exist_ok=True)"
   ]
  },
  {
   "cell_type": "code",
   "execution_count": 49,
   "id": "6feab590-da47-4184-a592-68a8de53d950",
   "metadata": {
    "papermill": {
     "duration": 0.057159,
     "end_time": "2022-01-27T14:47:34.399821",
     "exception": false,
     "start_time": "2022-01-27T14:47:34.342662",
     "status": "completed"
    },
    "tags": []
   },
   "outputs": [
    {
     "data": {
      "text/plain": [
       "PosixPath('/opt/data/results/gtex_v8/gene_pair_intersections/gene_pair_intersections-gtex_v8-whole_blood-var_pc_log2.pkl')"
      ]
     },
     "metadata": {},
     "output_type": "display_data"
    }
   ],
   "source": [
    "output_file = (\n",
    "    conf.GTEX[\"GENE_PAIR_INTERSECTIONS\"]\n",
    "    / f\"gene_pair_intersections-gtex_v8-{GTEX_TISSUE}-{GENE_SEL_STRATEGY}.pkl\"\n",
    ")\n",
    "display(output_file)"
   ]
  },
  {
   "cell_type": "code",
   "execution_count": 50,
   "id": "93f74fdd-78ff-4de1-a591-a61417ad28ed",
   "metadata": {
    "papermill": {
     "duration": 0.271395,
     "end_time": "2022-01-27T14:47:34.721912",
     "exception": false,
     "start_time": "2022-01-27T14:47:34.450517",
     "status": "completed"
    },
    "tags": []
   },
   "outputs": [],
   "source": [
    "df_plot.to_pickle(output_file)"
   ]
  },
  {
   "cell_type": "code",
   "execution_count": null,
   "id": "d4b94505-61e2-4a16-a292-a528f0e2a20d",
   "metadata": {
    "papermill": {
     "duration": 0.050859,
     "end_time": "2022-01-27T14:47:34.825217",
     "exception": false,
     "start_time": "2022-01-27T14:47:34.774358",
     "status": "completed"
    },
    "tags": []
   },
   "outputs": [],
   "source": []
  }
 ],
 "metadata": {
  "jupytext": {
   "cell_metadata_filter": "all,-execution,-papermill,-trusted"
  },
  "kernelspec": {
   "display_name": "Python 3 (ipykernel)",
   "language": "python",
   "name": "python3"
  },
  "language_info": {
   "codemirror_mode": {
    "name": "ipython",
    "version": 3
   },
   "file_extension": ".py",
   "mimetype": "text/x-python",
   "name": "python",
   "nbconvert_exporter": "python",
   "pygments_lexer": "ipython3",
   "version": "3.9.12"
  },
  "papermill": {
   "default_parameters": {},
   "duration": 100.816208,
   "end_time": "2022-01-27T14:47:35.603376",
   "environment_variables": {},
   "exception": null,
   "input_path": "nbs/15_intersections/03-gtex_whole_blood-intersections.ipynb",
   "output_path": "nbs/15_intersections/03-gtex_whole_blood-intersections.run.ipynb",
   "parameters": {},
   "start_time": "2022-01-27T14:45:54.787168",
   "version": "2.3.4"
  },
  "toc-autonumbering": true
 },
 "nbformat": 4,
 "nbformat_minor": 5
}
