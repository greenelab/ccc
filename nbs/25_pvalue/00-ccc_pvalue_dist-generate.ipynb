{
 "cells": [
  {
   "cell_type": "markdown",
   "id": "ec52faa3-656f-483e-9617-d7ec0f7d818c",
   "metadata": {
    "papermill": {
     "duration": 0.003068,
     "end_time": "2023-09-05T07:37:27.955837",
     "exception": false,
     "start_time": "2023-09-05T07:37:27.952769",
     "status": "completed"
    },
    "tags": []
   },
   "source": [
    "# Description"
   ]
  },
  {
   "cell_type": "markdown",
   "id": "51102f42-fcd9-4a58-9c8d-dfcd3d2d464e",
   "metadata": {
    "papermill": {
     "duration": 0.002343,
     "end_time": "2023-09-05T07:37:27.968715",
     "exception": false,
     "start_time": "2023-09-05T07:37:27.966372",
     "status": "completed"
    },
    "tags": []
   },
   "source": [
    "Generates a distribution of pvalues under the null hypothesis of no association."
   ]
  },
  {
   "cell_type": "markdown",
   "id": "7006ceeb-2651-407d-bfa1-1039727649ef",
   "metadata": {
    "papermill": {
     "duration": 0.002323,
     "end_time": "2023-09-05T07:37:27.973524",
     "exception": false,
     "start_time": "2023-09-05T07:37:27.971201",
     "status": "completed"
    },
    "tags": []
   },
   "source": [
    "# Modules loading"
   ]
  },
  {
   "cell_type": "code",
   "execution_count": 1,
   "id": "1ffa1a96-7545-40b9-ac8b-8627e13de8d4",
   "metadata": {
    "papermill": {
     "duration": 0.753618,
     "end_time": "2023-09-05T07:37:28.729601",
     "exception": false,
     "start_time": "2023-09-05T07:37:27.975983",
     "status": "completed"
    },
    "tags": []
   },
   "outputs": [],
   "source": [
    "import numpy as np\n",
    "\n",
    "from ccc.coef import ccc\n",
    "from ccc import conf"
   ]
  },
  {
   "cell_type": "markdown",
   "id": "0d3cc810-4b17-4213-8f03-6fe7e97a0fe3",
   "metadata": {
    "papermill": {
     "duration": 0.010291,
     "end_time": "2023-09-05T07:37:28.742736",
     "exception": false,
     "start_time": "2023-09-05T07:37:28.732445",
     "status": "completed"
    },
    "tags": []
   },
   "source": [
    "# Settings"
   ]
  },
  {
   "cell_type": "code",
   "execution_count": 2,
   "id": "a8dfa548-6ce1-4edd-bef2-a919fc6ad850",
   "metadata": {},
   "outputs": [],
   "source": [
    "rs = np.random.RandomState(0)"
   ]
  },
  {
   "cell_type": "code",
   "execution_count": 3,
   "id": "fd167aff-e768-416f-a078-f926f6023a1e",
   "metadata": {},
   "outputs": [],
   "source": [
    "DATA_N_OBJS, DATA_N_FEATURES = 100, 1000\n",
    "PVALUE_N_PERMS = 10000"
   ]
  },
  {
   "cell_type": "markdown",
   "id": "26bab485-b08e-4f59-b547-1da68fd36d54",
   "metadata": {},
   "source": [
    "# Paths"
   ]
  },
  {
   "cell_type": "code",
   "execution_count": 4,
   "id": "170ee0f3-a6dd-4c8b-9a99-ec6d02df8e2e",
   "metadata": {},
   "outputs": [],
   "source": [
    "OUTPUT_DIR = conf.RESULTS_DIR / \"ccc_null-pvalues\"\n",
    "OUTPUT_DIR.mkdir(parents=True, exist_ok=True)"
   ]
  },
  {
   "cell_type": "code",
   "execution_count": 5,
   "id": "d083d95e-247e-45cc-bc28-36cf8144383c",
   "metadata": {},
   "outputs": [
    {
     "data": {
      "text/plain": [
       "PosixPath('/opt/data/results/ccc_null-pvalues')"
      ]
     },
     "execution_count": 5,
     "metadata": {},
     "output_type": "execute_result"
    }
   ],
   "source": [
    "OUTPUT_DIR"
   ]
  },
  {
   "cell_type": "markdown",
   "id": "6b593ccb-bce7-4a6b-818f-79d5378d4610",
   "metadata": {
    "papermill": {
     "duration": 0.010291,
     "end_time": "2023-09-05T07:37:28.742736",
     "exception": false,
     "start_time": "2023-09-05T07:37:28.732445",
     "status": "completed"
    },
    "tags": []
   },
   "source": [
    "# Generate random data"
   ]
  },
  {
   "cell_type": "code",
   "execution_count": 6,
   "id": "472ff1df-b4f6-417f-b396-58a55ce0e39a",
   "metadata": {
    "papermill": {
     "duration": 0.006782,
     "end_time": "2023-09-05T07:37:28.752055",
     "exception": false,
     "start_time": "2023-09-05T07:37:28.745273",
     "status": "completed"
    },
    "tags": []
   },
   "outputs": [],
   "source": [
    "data = rs.rand(DATA_N_OBJS, DATA_N_FEATURES)"
   ]
  },
  {
   "cell_type": "code",
   "execution_count": 7,
   "id": "acd7a9c0-d8a8-46f5-ab60-2478347adf36",
   "metadata": {
    "papermill": {
     "duration": 0.009477,
     "end_time": "2023-09-05T07:37:28.764102",
     "exception": false,
     "start_time": "2023-09-05T07:37:28.754625",
     "status": "completed"
    },
    "tags": []
   },
   "outputs": [
    {
     "data": {
      "text/plain": [
       "(10, 1000)"
      ]
     },
     "execution_count": 7,
     "metadata": {},
     "output_type": "execute_result"
    }
   ],
   "source": [
    "data.shape"
   ]
  },
  {
   "cell_type": "markdown",
   "id": "7c24b674-edde-4b83-817d-c7f10729cdc8",
   "metadata": {
    "papermill": {
     "duration": 0.002588,
     "end_time": "2023-09-05T07:37:28.769908",
     "exception": false,
     "start_time": "2023-09-05T07:37:28.767320",
     "status": "completed"
    },
    "tags": []
   },
   "source": [
    "# Run CCC"
   ]
  },
  {
   "cell_type": "code",
   "execution_count": 8,
   "id": "5513799a-a239-4c66-ba6f-88290caf4484",
   "metadata": {
    "papermill": {
     "duration": 7825.040968,
     "end_time": "2023-09-05T09:47:53.813585",
     "exception": false,
     "start_time": "2023-09-05T07:37:28.772617",
     "status": "completed"
    },
    "tags": []
   },
   "outputs": [],
   "source": [
    "res = ccc(data, n_jobs=conf.GENERAL[\"N_JOBS\"], pvalue_n_perms=PVALUE_N_PERMS, use_ari_numba=True)"
   ]
  },
  {
   "cell_type": "code",
   "execution_count": 9,
   "id": "5525b4ef-2e2e-4338-b52a-37d8308e237d",
   "metadata": {},
   "outputs": [],
   "source": [
    "cm_values, cm_pvalues = res"
   ]
  },
  {
   "cell_type": "code",
   "execution_count": 10,
   "id": "e08382ef-423a-4114-9a8f-f1b5abc48055",
   "metadata": {},
   "outputs": [
    {
     "data": {
      "text/plain": [
       "(45,)"
      ]
     },
     "execution_count": 10,
     "metadata": {},
     "output_type": "execute_result"
    }
   ],
   "source": [
    "cm_values.shape"
   ]
  },
  {
   "cell_type": "code",
   "execution_count": 11,
   "id": "46e8560e-4c1b-4e2b-b373-f42ca0a59819",
   "metadata": {},
   "outputs": [
    {
     "data": {
      "text/plain": [
       "(45,)"
      ]
     },
     "execution_count": 11,
     "metadata": {},
     "output_type": "execute_result"
    }
   ],
   "source": [
    "cm_pvalues.shape"
   ]
  },
  {
   "cell_type": "markdown",
   "id": "d25a59fa-a22b-41e0-84a3-74414ddaad23",
   "metadata": {
    "papermill": {
     "duration": 0.010299,
     "end_time": "2023-09-05T09:47:53.827026",
     "exception": false,
     "start_time": "2023-09-05T09:47:53.816727",
     "status": "completed"
    },
    "tags": []
   },
   "source": [
    "# Save"
   ]
  },
  {
   "cell_type": "code",
   "execution_count": 12,
   "id": "b11f71f7-bab8-4d83-bf49-fd9419648a3d",
   "metadata": {},
   "outputs": [
    {
     "data": {
      "text/plain": [
       "PosixPath('/opt/data/results/ccc_null-pvalues/cm_values.npy')"
      ]
     },
     "metadata": {},
     "output_type": "display_data"
    }
   ],
   "source": [
    "output_file = OUTPUT_DIR / \"cm_values.npy\"\n",
    "display(output_file)\n",
    "\n",
    "np.save(output_file, cm_values)"
   ]
  },
  {
   "cell_type": "code",
   "execution_count": 13,
   "id": "12968ead-2e56-4214-956c-08f4f02952e9",
   "metadata": {},
   "outputs": [],
   "source": [
    "output_file = OUTPUT_DIR / \"cm_pvalues.npy\"\n",
    "np.save(output_file, cm_pvalues)"
   ]
  },
  {
   "cell_type": "code",
   "execution_count": null,
   "id": "5f57efbc-893b-44a7-bc7a-77ca6b72a60a",
   "metadata": {},
   "outputs": [],
   "source": []
  }
 ],
 "metadata": {
  "jupytext": {
   "cell_metadata_filter": "all,-execution,-papermill,-trusted",
   "text_representation": {
    "extension": ".py",
    "format_name": "percent",
    "format_version": "1.3",
    "jupytext_version": "1.11.5"
   }
  },
  "kernelspec": {
   "display_name": "Python 3 (ipykernel)",
   "language": "python",
   "name": "python3"
  },
  "language_info": {
   "codemirror_mode": {
    "name": "ipython",
    "version": 3
   },
   "file_extension": ".py",
   "mimetype": "text/x-python",
   "name": "python",
   "nbconvert_exporter": "python",
   "pygments_lexer": "ipython3",
   "version": "3.9.12"
  },
  "papermill": {
   "default_parameters": {},
   "duration": 7827.528961,
   "end_time": "2023-09-05T09:47:54.507084",
   "environment_variables": {},
   "exception": null,
   "input_path": "nbs/25_pvalue/00-ccc_pvalue_dist.ipynb",
   "output_path": "nbs/25_pvalue/00-ccc_pvalue_dist.run.ipynb",
   "parameters": {},
   "start_time": "2023-09-05T07:37:26.978123",
   "version": "2.3.4"
  }
 },
 "nbformat": 4,
 "nbformat_minor": 5
}
