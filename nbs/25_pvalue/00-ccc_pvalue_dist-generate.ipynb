{
 "cells": [
  {
   "cell_type": "markdown",
   "id": "ec52faa3-656f-483e-9617-d7ec0f7d818c",
   "metadata": {
    "papermill": {
     "duration": 0.003093,
     "end_time": "2023-09-06T17:55:26.691143",
     "exception": false,
     "start_time": "2023-09-06T17:55:26.688050",
     "status": "completed"
    },
    "tags": []
   },
   "source": [
    "# Description"
   ]
  },
  {
   "cell_type": "markdown",
   "id": "51102f42-fcd9-4a58-9c8d-dfcd3d2d464e",
   "metadata": {
    "papermill": {
     "duration": 0.004704,
     "end_time": "2023-09-06T17:55:26.705384",
     "exception": false,
     "start_time": "2023-09-06T17:55:26.700680",
     "status": "completed"
    },
    "tags": []
   },
   "source": [
    "Generates a distribution of pvalues under the null hypothesis of no association."
   ]
  },
  {
   "cell_type": "markdown",
   "id": "7006ceeb-2651-407d-bfa1-1039727649ef",
   "metadata": {
    "papermill": {
     "duration": 0.002814,
     "end_time": "2023-09-06T17:55:26.710790",
     "exception": false,
     "start_time": "2023-09-06T17:55:26.707976",
     "status": "completed"
    },
    "tags": []
   },
   "source": [
    "# Modules loading"
   ]
  },
  {
   "cell_type": "code",
   "execution_count": 1,
   "id": "1ffa1a96-7545-40b9-ac8b-8627e13de8d4",
   "metadata": {
    "execution": {
     "iopub.execute_input": "2023-09-06T17:55:26.716983Z",
     "iopub.status.busy": "2023-09-06T17:55:26.716841Z",
     "iopub.status.idle": "2023-09-06T17:55:28.652492Z",
     "shell.execute_reply": "2023-09-06T17:55:28.652237Z"
    },
    "papermill": {
     "duration": 1.939954,
     "end_time": "2023-09-06T17:55:28.653439",
     "exception": false,
     "start_time": "2023-09-06T17:55:26.713485",
     "status": "completed"
    },
    "tags": []
   },
   "outputs": [],
   "source": [
    "import numpy as np\n",
    "\n",
    "from ccc.coef import ccc\n",
    "from ccc import conf"
   ]
  },
  {
   "cell_type": "markdown",
   "id": "0d3cc810-4b17-4213-8f03-6fe7e97a0fe3",
   "metadata": {
    "papermill": {
     "duration": 0.001036,
     "end_time": "2023-09-06T17:55:28.655692",
     "exception": false,
     "start_time": "2023-09-06T17:55:28.654656",
     "status": "completed"
    },
    "tags": []
   },
   "source": [
    "# Settings"
   ]
  },
  {
   "cell_type": "code",
   "execution_count": 2,
   "id": "a8dfa548-6ce1-4edd-bef2-a919fc6ad850",
   "metadata": {
    "execution": {
     "iopub.execute_input": "2023-09-06T17:55:28.661037Z",
     "iopub.status.busy": "2023-09-06T17:55:28.660951Z",
     "iopub.status.idle": "2023-09-06T17:55:28.662483Z",
     "shell.execute_reply": "2023-09-06T17:55:28.662341Z"
    },
    "papermill": {
     "duration": 0.005077,
     "end_time": "2023-09-06T17:55:28.662990",
     "exception": false,
     "start_time": "2023-09-06T17:55:28.657913",
     "status": "completed"
    },
    "tags": []
   },
   "outputs": [],
   "source": [
    "rs = np.random.RandomState(0)"
   ]
  },
  {
   "cell_type": "code",
   "execution_count": 3,
   "id": "fd167aff-e768-416f-a078-f926f6023a1e",
   "metadata": {
    "execution": {
     "iopub.execute_input": "2023-09-06T17:55:28.666515Z",
     "iopub.status.busy": "2023-09-06T17:55:28.666437Z",
     "iopub.status.idle": "2023-09-06T17:55:28.667726Z",
     "shell.execute_reply": "2023-09-06T17:55:28.667588Z"
    },
    "papermill": {
     "duration": 0.004073,
     "end_time": "2023-09-06T17:55:28.668116",
     "exception": false,
     "start_time": "2023-09-06T17:55:28.664043",
     "status": "completed"
    },
    "tags": []
   },
   "outputs": [],
   "source": [
    "DATA_N_OBJS, DATA_N_FEATURES = 100, 1000\n",
    "PVALUE_N_PERMS = 1000"
   ]
  },
  {
   "cell_type": "markdown",
   "id": "26bab485-b08e-4f59-b547-1da68fd36d54",
   "metadata": {
    "papermill": {
     "duration": 0.001018,
     "end_time": "2023-09-06T17:55:28.670228",
     "exception": false,
     "start_time": "2023-09-06T17:55:28.669210",
     "status": "completed"
    },
    "tags": []
   },
   "source": [
    "# Paths"
   ]
  },
  {
   "cell_type": "code",
   "execution_count": 4,
   "id": "170ee0f3-a6dd-4c8b-9a99-ec6d02df8e2e",
   "metadata": {
    "execution": {
     "iopub.execute_input": "2023-09-06T17:55:28.672925Z",
     "iopub.status.busy": "2023-09-06T17:55:28.672793Z",
     "iopub.status.idle": "2023-09-06T17:55:28.674176Z",
     "shell.execute_reply": "2023-09-06T17:55:28.674039Z"
    },
    "papermill": {
     "duration": 0.003311,
     "end_time": "2023-09-06T17:55:28.674559",
     "exception": false,
     "start_time": "2023-09-06T17:55:28.671248",
     "status": "completed"
    },
    "tags": []
   },
   "outputs": [],
   "source": [
    "OUTPUT_DIR = conf.RESULTS_DIR / \"ccc_null-pvalues\"\n",
    "OUTPUT_DIR.mkdir(parents=True, exist_ok=True)"
   ]
  },
  {
   "cell_type": "code",
   "execution_count": 5,
   "id": "d083d95e-247e-45cc-bc28-36cf8144383c",
   "metadata": {
    "execution": {
     "iopub.execute_input": "2023-09-06T17:55:28.676871Z",
     "iopub.status.busy": "2023-09-06T17:55:28.676757Z",
     "iopub.status.idle": "2023-09-06T17:55:28.679831Z",
     "shell.execute_reply": "2023-09-06T17:55:28.679708Z"
    },
    "papermill": {
     "duration": 0.004671,
     "end_time": "2023-09-06T17:55:28.680257",
     "exception": false,
     "start_time": "2023-09-06T17:55:28.675586",
     "status": "completed"
    },
    "tags": []
   },
   "outputs": [
    {
     "data": {
      "text/plain": [
       "PosixPath('/opt/data/results/ccc_null-pvalues')"
      ]
     },
     "execution_count": 5,
     "metadata": {},
     "output_type": "execute_result"
    }
   ],
   "source": [
    "OUTPUT_DIR"
   ]
  },
  {
   "cell_type": "markdown",
   "id": "6b593ccb-bce7-4a6b-818f-79d5378d4610",
   "metadata": {
    "papermill": {
     "duration": 0.001047,
     "end_time": "2023-09-06T17:55:28.682448",
     "exception": false,
     "start_time": "2023-09-06T17:55:28.681401",
     "status": "completed"
    },
    "tags": []
   },
   "source": [
    "# Generate random data"
   ]
  },
  {
   "cell_type": "code",
   "execution_count": 6,
   "id": "472ff1df-b4f6-417f-b396-58a55ce0e39a",
   "metadata": {
    "execution": {
     "iopub.execute_input": "2023-09-06T17:55:28.685047Z",
     "iopub.status.busy": "2023-09-06T17:55:28.684960Z",
     "iopub.status.idle": "2023-09-06T17:55:28.686632Z",
     "shell.execute_reply": "2023-09-06T17:55:28.686497Z"
    },
    "papermill": {
     "duration": 0.003501,
     "end_time": "2023-09-06T17:55:28.687033",
     "exception": false,
     "start_time": "2023-09-06T17:55:28.683532",
     "status": "completed"
    },
    "tags": []
   },
   "outputs": [],
   "source": [
    "data = rs.rand(DATA_N_OBJS, DATA_N_FEATURES)"
   ]
  },
  {
   "cell_type": "code",
   "execution_count": 7,
   "id": "acd7a9c0-d8a8-46f5-ab60-2478347adf36",
   "metadata": {
    "execution": {
     "iopub.execute_input": "2023-09-06T17:55:28.689455Z",
     "iopub.status.busy": "2023-09-06T17:55:28.689383Z",
     "iopub.status.idle": "2023-09-06T17:55:28.690915Z",
     "shell.execute_reply": "2023-09-06T17:55:28.690792Z"
    },
    "papermill": {
     "duration": 0.003179,
     "end_time": "2023-09-06T17:55:28.691323",
     "exception": false,
     "start_time": "2023-09-06T17:55:28.688144",
     "status": "completed"
    },
    "tags": []
   },
   "outputs": [
    {
     "data": {
      "text/plain": [
       "(100, 1000)"
      ]
     },
     "execution_count": 7,
     "metadata": {},
     "output_type": "execute_result"
    }
   ],
   "source": [
    "data.shape"
   ]
  },
  {
   "cell_type": "markdown",
   "id": "7c24b674-edde-4b83-817d-c7f10729cdc8",
   "metadata": {
    "papermill": {
     "duration": 0.001073,
     "end_time": "2023-09-06T17:55:28.693551",
     "exception": false,
     "start_time": "2023-09-06T17:55:28.692478",
     "status": "completed"
    },
    "tags": []
   },
   "source": [
    "# Run CCC"
   ]
  },
  {
   "cell_type": "code",
   "execution_count": 8,
   "id": "5513799a-a239-4c66-ba6f-88290caf4484",
   "metadata": {
    "execution": {
     "iopub.execute_input": "2023-09-06T17:55:28.696176Z",
     "iopub.status.busy": "2023-09-06T17:55:28.696057Z",
     "iopub.status.idle": "2023-09-06T19:36:00.746066Z",
     "shell.execute_reply": "2023-09-06T19:36:00.745693Z"
    },
    "papermill": {
     "duration": 6032.052715,
     "end_time": "2023-09-06T19:36:00.747376",
     "exception": false,
     "start_time": "2023-09-06T17:55:28.694661",
     "status": "completed"
    },
    "tags": []
   },
   "outputs": [],
   "source": [
    "res = ccc(\n",
    "    data,\n",
    "    n_jobs=conf.GENERAL[\"N_JOBS\"],\n",
    "    pvalue_n_perms=PVALUE_N_PERMS,\n",
    "    use_ari_numba=True,\n",
    ")"
   ]
  },
  {
   "cell_type": "code",
   "execution_count": 9,
   "id": "5525b4ef-2e2e-4338-b52a-37d8308e237d",
   "metadata": {
    "execution": {
     "iopub.execute_input": "2023-09-06T19:36:00.760058Z",
     "iopub.status.busy": "2023-09-06T19:36:00.759988Z",
     "iopub.status.idle": "2023-09-06T19:36:00.761499Z",
     "shell.execute_reply": "2023-09-06T19:36:00.761360Z"
    },
    "papermill": {
     "duration": 0.012058,
     "end_time": "2023-09-06T19:36:00.762002",
     "exception": false,
     "start_time": "2023-09-06T19:36:00.749944",
     "status": "completed"
    },
    "tags": []
   },
   "outputs": [],
   "source": [
    "cm_values, cm_pvalues = res"
   ]
  },
  {
   "cell_type": "code",
   "execution_count": 10,
   "id": "e08382ef-423a-4114-9a8f-f1b5abc48055",
   "metadata": {
    "execution": {
     "iopub.execute_input": "2023-09-06T19:36:00.767346Z",
     "iopub.status.busy": "2023-09-06T19:36:00.767228Z",
     "iopub.status.idle": "2023-09-06T19:36:00.768827Z",
     "shell.execute_reply": "2023-09-06T19:36:00.768680Z"
    },
    "papermill": {
     "duration": 0.005248,
     "end_time": "2023-09-06T19:36:00.769387",
     "exception": false,
     "start_time": "2023-09-06T19:36:00.764139",
     "status": "completed"
    },
    "tags": []
   },
   "outputs": [
    {
     "data": {
      "text/plain": [
       "(4950,)"
      ]
     },
     "execution_count": 10,
     "metadata": {},
     "output_type": "execute_result"
    }
   ],
   "source": [
    "cm_values.shape"
   ]
  },
  {
   "cell_type": "code",
   "execution_count": 11,
   "id": "46e8560e-4c1b-4e2b-b373-f42ca0a59819",
   "metadata": {
    "execution": {
     "iopub.execute_input": "2023-09-06T19:36:00.772604Z",
     "iopub.status.busy": "2023-09-06T19:36:00.772477Z",
     "iopub.status.idle": "2023-09-06T19:36:00.774176Z",
     "shell.execute_reply": "2023-09-06T19:36:00.774022Z"
    },
    "papermill": {
     "duration": 0.003931,
     "end_time": "2023-09-06T19:36:00.774747",
     "exception": false,
     "start_time": "2023-09-06T19:36:00.770816",
     "status": "completed"
    },
    "tags": []
   },
   "outputs": [
    {
     "data": {
      "text/plain": [
       "(4950,)"
      ]
     },
     "execution_count": 11,
     "metadata": {},
     "output_type": "execute_result"
    }
   ],
   "source": [
    "cm_pvalues.shape"
   ]
  },
  {
   "cell_type": "markdown",
   "id": "d25a59fa-a22b-41e0-84a3-74414ddaad23",
   "metadata": {
    "papermill": {
     "duration": 0.001184,
     "end_time": "2023-09-06T19:36:00.777478",
     "exception": false,
     "start_time": "2023-09-06T19:36:00.776294",
     "status": "completed"
    },
    "tags": []
   },
   "source": [
    "# Save"
   ]
  },
  {
   "cell_type": "code",
   "execution_count": 12,
   "id": "b11f71f7-bab8-4d83-bf49-fd9419648a3d",
   "metadata": {
    "execution": {
     "iopub.execute_input": "2023-09-06T19:36:00.780420Z",
     "iopub.status.busy": "2023-09-06T19:36:00.780298Z",
     "iopub.status.idle": "2023-09-06T19:36:00.782198Z",
     "shell.execute_reply": "2023-09-06T19:36:00.782057Z"
    },
    "papermill": {
     "duration": 0.003911,
     "end_time": "2023-09-06T19:36:00.782652",
     "exception": false,
     "start_time": "2023-09-06T19:36:00.778741",
     "status": "completed"
    },
    "tags": []
   },
   "outputs": [
    {
     "data": {
      "text/plain": [
       "PosixPath('/opt/data/results/ccc_null-pvalues/cm_values.npy')"
      ]
     },
     "metadata": {},
     "output_type": "display_data"
    }
   ],
   "source": [
    "output_file = OUTPUT_DIR / \"cm_values.npy\"\n",
    "display(output_file)\n",
    "\n",
    "np.save(output_file, cm_values)"
   ]
  },
  {
   "cell_type": "code",
   "execution_count": 13,
   "id": "12968ead-2e56-4214-956c-08f4f02952e9",
   "metadata": {
    "execution": {
     "iopub.execute_input": "2023-09-06T19:36:00.785520Z",
     "iopub.status.busy": "2023-09-06T19:36:00.785437Z",
     "iopub.status.idle": "2023-09-06T19:36:00.786861Z",
     "shell.execute_reply": "2023-09-06T19:36:00.786728Z"
    },
    "papermill": {
     "duration": 0.003367,
     "end_time": "2023-09-06T19:36:00.787278",
     "exception": false,
     "start_time": "2023-09-06T19:36:00.783911",
     "status": "completed"
    },
    "tags": []
   },
   "outputs": [],
   "source": [
    "output_file = OUTPUT_DIR / \"cm_pvalues.npy\"\n",
    "np.save(output_file, cm_pvalues)"
   ]
  },
  {
   "cell_type": "code",
   "execution_count": null,
   "id": "5f57efbc-893b-44a7-bc7a-77ca6b72a60a",
   "metadata": {
    "papermill": {
     "duration": 0.001175,
     "end_time": "2023-09-06T19:36:00.789703",
     "exception": false,
     "start_time": "2023-09-06T19:36:00.788528",
     "status": "completed"
    },
    "tags": []
   },
   "outputs": [],
   "source": []
  }
 ],
 "metadata": {
  "jupytext": {
   "cell_metadata_filter": "all,-execution,-papermill,-trusted"
  },
  "kernelspec": {
   "display_name": "Python 3 (ipykernel)",
   "language": "python",
   "name": "python3"
  },
  "language_info": {
   "codemirror_mode": {
    "name": "ipython",
    "version": 3
   },
   "file_extension": ".py",
   "mimetype": "text/x-python",
   "name": "python",
   "nbconvert_exporter": "python",
   "pygments_lexer": "ipython3",
   "version": "3.9.12"
  },
  "papermill": {
   "default_parameters": {},
   "duration": 6034.996428,
   "end_time": "2023-09-06T19:36:01.020079",
   "environment_variables": {},
   "exception": null,
   "input_path": "nbs/25_pvalue/00-ccc_pvalue_dist-generate.ipynb",
   "output_path": "nbs/25_pvalue/00-ccc_pvalue_dist-generate.run.ipynb",
   "parameters": {},
   "start_time": "2023-09-06T17:55:26.023651",
   "version": "2.3.4"
  }
 },
 "nbformat": 4,
 "nbformat_minor": 5
}
