{
 "cells": [
  {
   "cell_type": "markdown",
   "id": "ec52faa3-656f-483e-9617-d7ec0f7d818c",
   "metadata": {
    "papermill": {
     "duration": 0.00813,
     "end_time": "2023-09-13T05:52:44.106851",
     "exception": false,
     "start_time": "2023-09-13T05:52:44.098721",
     "status": "completed"
    },
    "tags": []
   },
   "source": [
    "# Description"
   ]
  },
  {
   "cell_type": "markdown",
   "id": "51102f42-fcd9-4a58-9c8d-dfcd3d2d464e",
   "metadata": {
    "papermill": {
     "duration": 0.007898,
     "end_time": "2023-09-13T05:52:44.124305",
     "exception": false,
     "start_time": "2023-09-13T05:52:44.116407",
     "status": "completed"
    },
    "tags": []
   },
   "source": [
    "Reads the gene pair samples across different categories and computes their p-values."
   ]
  },
  {
   "cell_type": "markdown",
   "id": "7006ceeb-2651-407d-bfa1-1039727649ef",
   "metadata": {
    "papermill": {
     "duration": 0.002567,
     "end_time": "2023-09-13T05:52:44.130645",
     "exception": false,
     "start_time": "2023-09-13T05:52:44.128078",
     "status": "completed"
    },
    "tags": []
   },
   "source": [
    "# Modules loading"
   ]
  },
  {
   "cell_type": "code",
   "execution_count": 1,
   "id": "1ffa1a96-7545-40b9-ac8b-8627e13de8d4",
   "metadata": {
    "execution": {
     "iopub.execute_input": "2023-09-13T05:52:44.134792Z",
     "iopub.status.busy": "2023-09-13T05:52:44.134647Z",
     "iopub.status.idle": "2023-09-13T05:52:44.558242Z",
     "shell.execute_reply": "2023-09-13T05:52:44.557983Z"
    },
    "papermill": {
     "duration": 0.426542,
     "end_time": "2023-09-13T05:52:44.559193",
     "exception": false,
     "start_time": "2023-09-13T05:52:44.132651",
     "status": "completed"
    },
    "tags": []
   },
   "outputs": [],
   "source": [
    "import numpy as np\n",
    "import matplotlib.pyplot as plt\n",
    "import seaborn as sns\n",
    "from scipy import stats\n",
    "import numpy as np\n",
    "import pandas as pd\n",
    "from concurrent.futures import as_completed, ProcessPoolExecutor\n",
    "from tqdm import tqdm\n",
    "\n",
    "from ccc.coef import ccc\n",
    "from ccc import conf"
   ]
  },
  {
   "cell_type": "markdown",
   "id": "0d3cc810-4b17-4213-8f03-6fe7e97a0fe3",
   "metadata": {
    "papermill": {
     "duration": 0.009655,
     "end_time": "2023-09-13T05:52:44.570506",
     "exception": false,
     "start_time": "2023-09-13T05:52:44.560851",
     "status": "completed"
    },
    "tags": []
   },
   "source": [
    "# Settings"
   ]
  },
  {
   "cell_type": "code",
   "execution_count": 2,
   "id": "9a154623-c787-4a31-871a-cad173f0eb9f",
   "metadata": {
    "execution": {
     "iopub.execute_input": "2023-09-13T05:52:44.575038Z",
     "iopub.status.busy": "2023-09-13T05:52:44.574974Z",
     "iopub.status.idle": "2023-09-13T05:52:44.577018Z",
     "shell.execute_reply": "2023-09-13T05:52:44.576635Z"
    },
    "papermill": {
     "duration": 0.004302,
     "end_time": "2023-09-13T05:52:44.577580",
     "exception": false,
     "start_time": "2023-09-13T05:52:44.573278",
     "status": "completed"
    },
    "tags": []
   },
   "outputs": [],
   "source": [
    "DATASET_CONFIG = conf.GTEX\n",
    "GTEX_TISSUE = \"whole_blood\"\n",
    "GENE_SEL_STRATEGY = \"var_pc_log2\"\n",
    "\n",
    "PVALUE_N_PERMS = 10000000\n",
    "\n",
    "RANDOM_STATE = np.random.RandomState(0)"
   ]
  },
  {
   "cell_type": "markdown",
   "id": "5b09ff83-5377-49a9-b24b-65c6c90277d6",
   "metadata": {
    "papermill": {
     "duration": 0.001858,
     "end_time": "2023-09-13T05:52:44.581139",
     "exception": false,
     "start_time": "2023-09-13T05:52:44.579281",
     "status": "completed"
    },
    "tags": []
   },
   "source": [
    "# Paths"
   ]
  },
  {
   "cell_type": "code",
   "execution_count": 3,
   "id": "c6f73068-fa38-44be-bd0c-708f6ff450ea",
   "metadata": {
    "execution": {
     "iopub.execute_input": "2023-09-13T05:52:44.586111Z",
     "iopub.status.busy": "2023-09-13T05:52:44.586025Z",
     "iopub.status.idle": "2023-09-13T05:52:44.589394Z",
     "shell.execute_reply": "2023-09-13T05:52:44.589198Z"
    },
    "papermill": {
     "duration": 0.006693,
     "end_time": "2023-09-13T05:52:44.590107",
     "exception": false,
     "start_time": "2023-09-13T05:52:44.583414",
     "status": "completed"
    },
    "tags": []
   },
   "outputs": [
    {
     "data": {
      "text/plain": [
       "PosixPath('/opt/data/results/gtex_v8/gene_selection/gtex_v8_data_whole_blood-var_pc_log2.pkl')"
      ]
     },
     "metadata": {},
     "output_type": "display_data"
    }
   ],
   "source": [
    "INPUT_GENE_EXPR_FILE = (\n",
    "    DATASET_CONFIG[\"GENE_SELECTION_DIR\"]\n",
    "    / f\"gtex_v8_data_{GTEX_TISSUE}-{GENE_SEL_STRATEGY}.pkl\"\n",
    ")\n",
    "display(INPUT_GENE_EXPR_FILE)\n",
    "\n",
    "assert INPUT_GENE_EXPR_FILE.exists()"
   ]
  },
  {
   "cell_type": "code",
   "execution_count": 4,
   "id": "30cce6f5-ca1b-438c-859d-31903a42d4c6",
   "metadata": {
    "execution": {
     "iopub.execute_input": "2023-09-13T05:52:44.594156Z",
     "iopub.status.busy": "2023-09-13T05:52:44.594103Z",
     "iopub.status.idle": "2023-09-13T05:52:44.595915Z",
     "shell.execute_reply": "2023-09-13T05:52:44.595789Z"
    },
    "papermill": {
     "duration": 0.0043,
     "end_time": "2023-09-13T05:52:44.596461",
     "exception": false,
     "start_time": "2023-09-13T05:52:44.592161",
     "status": "completed"
    },
    "tags": []
   },
   "outputs": [
    {
     "data": {
      "text/plain": [
       "PosixPath('/opt/data/results/gtex_v8/gene_pair_intersections/gene_pair_intersections-gtex_v8-whole_blood-var_pc_log2.pkl')"
      ]
     },
     "metadata": {},
     "output_type": "display_data"
    }
   ],
   "source": [
    "INPUT_GENE_PAIRS_INTERSECTIONS_FILE = (\n",
    "    DATASET_CONFIG[\"GENE_PAIR_INTERSECTIONS\"]\n",
    "    / f\"gene_pair_intersections-gtex_v8-{GTEX_TISSUE}-{GENE_SEL_STRATEGY}.pkl\"\n",
    ")\n",
    "display(INPUT_GENE_PAIRS_INTERSECTIONS_FILE)\n",
    "\n",
    "assert INPUT_GENE_PAIRS_INTERSECTIONS_FILE.exists()"
   ]
  },
  {
   "cell_type": "code",
   "execution_count": 5,
   "id": "0122253c-99c0-41e2-8807-60df86bf0619",
   "metadata": {
    "execution": {
     "iopub.execute_input": "2023-09-13T05:52:44.599627Z",
     "iopub.status.busy": "2023-09-13T05:52:44.599560Z",
     "iopub.status.idle": "2023-09-13T05:52:44.600934Z",
     "shell.execute_reply": "2023-09-13T05:52:44.600803Z"
    },
    "papermill": {
     "duration": 0.003441,
     "end_time": "2023-09-13T05:52:44.601371",
     "exception": false,
     "start_time": "2023-09-13T05:52:44.597930",
     "status": "completed"
    },
    "tags": []
   },
   "outputs": [],
   "source": [
    "OUTPUT_DIR = DATASET_CONFIG[\"GENE_PAIR_INTERSECTIONS\"] / \"pvalues\"\n",
    "OUTPUT_DIR.mkdir(parents=True, exist_ok=True)"
   ]
  },
  {
   "cell_type": "code",
   "execution_count": 6,
   "id": "3003ed2c-5da0-43b9-969d-9cf037d05730",
   "metadata": {
    "execution": {
     "iopub.execute_input": "2023-09-13T05:52:44.604575Z",
     "iopub.status.busy": "2023-09-13T05:52:44.604503Z",
     "iopub.status.idle": "2023-09-13T05:52:44.606111Z",
     "shell.execute_reply": "2023-09-13T05:52:44.605988Z"
    },
    "papermill": {
     "duration": 0.00377,
     "end_time": "2023-09-13T05:52:44.606602",
     "exception": false,
     "start_time": "2023-09-13T05:52:44.602832",
     "status": "completed"
    },
    "tags": []
   },
   "outputs": [
    {
     "data": {
      "text/plain": [
       "PosixPath('/opt/data/results/gtex_v8/gene_pair_intersections/pvalues')"
      ]
     },
     "execution_count": 6,
     "metadata": {},
     "output_type": "execute_result"
    }
   ],
   "source": [
    "OUTPUT_DIR"
   ]
  },
  {
   "cell_type": "markdown",
   "id": "3d014f0c-d442-48ab-add8-ac338ad15b27",
   "metadata": {
    "papermill": {
     "duration": 0.001398,
     "end_time": "2023-09-13T05:52:44.609519",
     "exception": false,
     "start_time": "2023-09-13T05:52:44.608121",
     "status": "completed"
    },
    "tags": []
   },
   "source": [
    "# Load gene expression data"
   ]
  },
  {
   "cell_type": "code",
   "execution_count": 7,
   "id": "6e8ef201-6f98-4fb6-a306-180ed4b467db",
   "metadata": {
    "execution": {
     "iopub.execute_input": "2023-09-13T05:52:44.612666Z",
     "iopub.status.busy": "2023-09-13T05:52:44.612595Z",
     "iopub.status.idle": "2023-09-13T05:52:44.631012Z",
     "shell.execute_reply": "2023-09-13T05:52:44.630817Z"
    },
    "papermill": {
     "duration": 0.020766,
     "end_time": "2023-09-13T05:52:44.631737",
     "exception": false,
     "start_time": "2023-09-13T05:52:44.610971",
     "status": "completed"
    },
    "tags": []
   },
   "outputs": [],
   "source": [
    "data = pd.read_pickle(INPUT_GENE_EXPR_FILE).sort_index()"
   ]
  },
  {
   "cell_type": "code",
   "execution_count": 8,
   "id": "4d18e93e-b394-46bd-8d16-d9261a85ba06",
   "metadata": {
    "execution": {
     "iopub.execute_input": "2023-09-13T05:52:44.635397Z",
     "iopub.status.busy": "2023-09-13T05:52:44.635333Z",
     "iopub.status.idle": "2023-09-13T05:52:44.637119Z",
     "shell.execute_reply": "2023-09-13T05:52:44.636991Z"
    },
    "papermill": {
     "duration": 0.004018,
     "end_time": "2023-09-13T05:52:44.637499",
     "exception": false,
     "start_time": "2023-09-13T05:52:44.633481",
     "status": "completed"
    },
    "tags": []
   },
   "outputs": [
    {
     "data": {
      "text/plain": [
       "(5000, 755)"
      ]
     },
     "execution_count": 8,
     "metadata": {},
     "output_type": "execute_result"
    }
   ],
   "source": [
    "data.shape"
   ]
  },
  {
   "cell_type": "code",
   "execution_count": 9,
   "id": "ea8947b9-9064-43ec-bf10-6e6ae361c451",
   "metadata": {
    "execution": {
     "iopub.execute_input": "2023-09-13T05:52:44.640806Z",
     "iopub.status.busy": "2023-09-13T05:52:44.640749Z",
     "iopub.status.idle": "2023-09-13T05:52:44.648624Z",
     "shell.execute_reply": "2023-09-13T05:52:44.648491Z"
    },
    "papermill": {
     "duration": 0.010013,
     "end_time": "2023-09-13T05:52:44.649047",
     "exception": false,
     "start_time": "2023-09-13T05:52:44.639034",
     "status": "completed"
    },
    "tags": []
   },
   "outputs": [
    {
     "data": {
      "text/html": [
       "<div>\n",
       "<style scoped>\n",
       "    .dataframe tbody tr th:only-of-type {\n",
       "        vertical-align: middle;\n",
       "    }\n",
       "\n",
       "    .dataframe tbody tr th {\n",
       "        vertical-align: top;\n",
       "    }\n",
       "\n",
       "    .dataframe thead th {\n",
       "        text-align: right;\n",
       "    }\n",
       "</style>\n",
       "<table border=\"1\" class=\"dataframe\">\n",
       "  <thead>\n",
       "    <tr style=\"text-align: right;\">\n",
       "      <th></th>\n",
       "      <th>GTEX-111YS-0006-SM-5NQBE</th>\n",
       "      <th>GTEX-1122O-0005-SM-5O99J</th>\n",
       "      <th>GTEX-1128S-0005-SM-5P9HI</th>\n",
       "      <th>GTEX-113IC-0006-SM-5NQ9C</th>\n",
       "      <th>GTEX-113JC-0006-SM-5O997</th>\n",
       "      <th>GTEX-117XS-0005-SM-5PNU6</th>\n",
       "      <th>GTEX-117YW-0005-SM-5NQ8Z</th>\n",
       "      <th>GTEX-1192W-0005-SM-5NQBQ</th>\n",
       "      <th>GTEX-1192X-0005-SM-5NQC3</th>\n",
       "      <th>GTEX-11DXW-0006-SM-5NQ7Y</th>\n",
       "      <th>...</th>\n",
       "      <th>GTEX-ZVE2-0006-SM-51MRW</th>\n",
       "      <th>GTEX-ZVP2-0005-SM-51MRK</th>\n",
       "      <th>GTEX-ZVT2-0005-SM-57WBW</th>\n",
       "      <th>GTEX-ZVT3-0006-SM-51MT9</th>\n",
       "      <th>GTEX-ZVT4-0006-SM-57WB8</th>\n",
       "      <th>GTEX-ZVTK-0006-SM-57WBK</th>\n",
       "      <th>GTEX-ZVZP-0006-SM-51MSW</th>\n",
       "      <th>GTEX-ZVZQ-0006-SM-51MR8</th>\n",
       "      <th>GTEX-ZXES-0005-SM-57WCB</th>\n",
       "      <th>GTEX-ZXG5-0005-SM-57WCN</th>\n",
       "    </tr>\n",
       "    <tr>\n",
       "      <th>gene_ens_id</th>\n",
       "      <th></th>\n",
       "      <th></th>\n",
       "      <th></th>\n",
       "      <th></th>\n",
       "      <th></th>\n",
       "      <th></th>\n",
       "      <th></th>\n",
       "      <th></th>\n",
       "      <th></th>\n",
       "      <th></th>\n",
       "      <th></th>\n",
       "      <th></th>\n",
       "      <th></th>\n",
       "      <th></th>\n",
       "      <th></th>\n",
       "      <th></th>\n",
       "      <th></th>\n",
       "      <th></th>\n",
       "      <th></th>\n",
       "      <th></th>\n",
       "      <th></th>\n",
       "    </tr>\n",
       "  </thead>\n",
       "  <tbody>\n",
       "    <tr>\n",
       "      <th>ENSG00000000419.12</th>\n",
       "      <td>20.6500</td>\n",
       "      <td>25.050</td>\n",
       "      <td>7.155</td>\n",
       "      <td>49.130</td>\n",
       "      <td>6.147</td>\n",
       "      <td>4.1430</td>\n",
       "      <td>5.390</td>\n",
       "      <td>4.389</td>\n",
       "      <td>1.1580</td>\n",
       "      <td>6.8240</td>\n",
       "      <td>...</td>\n",
       "      <td>4.4070</td>\n",
       "      <td>32.340</td>\n",
       "      <td>18.6800</td>\n",
       "      <td>9.251</td>\n",
       "      <td>7.828</td>\n",
       "      <td>7.460</td>\n",
       "      <td>33.2400</td>\n",
       "      <td>5.8480</td>\n",
       "      <td>25.760</td>\n",
       "      <td>17.080</td>\n",
       "    </tr>\n",
       "    <tr>\n",
       "      <th>ENSG00000000938.12</th>\n",
       "      <td>906.0000</td>\n",
       "      <td>1344.000</td>\n",
       "      <td>633.500</td>\n",
       "      <td>719.200</td>\n",
       "      <td>392.600</td>\n",
       "      <td>166.5000</td>\n",
       "      <td>338.200</td>\n",
       "      <td>413.200</td>\n",
       "      <td>51.5400</td>\n",
       "      <td>423.6000</td>\n",
       "      <td>...</td>\n",
       "      <td>354.8000</td>\n",
       "      <td>1102.000</td>\n",
       "      <td>774.9000</td>\n",
       "      <td>206.000</td>\n",
       "      <td>620.400</td>\n",
       "      <td>346.300</td>\n",
       "      <td>1304.0000</td>\n",
       "      <td>232.9000</td>\n",
       "      <td>631.600</td>\n",
       "      <td>884.500</td>\n",
       "    </tr>\n",
       "    <tr>\n",
       "      <th>ENSG00000001167.14</th>\n",
       "      <td>8.1900</td>\n",
       "      <td>20.010</td>\n",
       "      <td>20.470</td>\n",
       "      <td>21.220</td>\n",
       "      <td>16.460</td>\n",
       "      <td>8.6190</td>\n",
       "      <td>18.220</td>\n",
       "      <td>16.580</td>\n",
       "      <td>1.6020</td>\n",
       "      <td>35.6800</td>\n",
       "      <td>...</td>\n",
       "      <td>11.3400</td>\n",
       "      <td>11.250</td>\n",
       "      <td>11.1800</td>\n",
       "      <td>9.523</td>\n",
       "      <td>41.860</td>\n",
       "      <td>24.580</td>\n",
       "      <td>8.8920</td>\n",
       "      <td>13.3900</td>\n",
       "      <td>13.470</td>\n",
       "      <td>42.640</td>\n",
       "    </tr>\n",
       "    <tr>\n",
       "      <th>ENSG00000001561.6</th>\n",
       "      <td>0.7104</td>\n",
       "      <td>1.771</td>\n",
       "      <td>2.234</td>\n",
       "      <td>6.014</td>\n",
       "      <td>3.206</td>\n",
       "      <td>0.3962</td>\n",
       "      <td>2.445</td>\n",
       "      <td>1.418</td>\n",
       "      <td>0.5531</td>\n",
       "      <td>0.7447</td>\n",
       "      <td>...</td>\n",
       "      <td>0.9269</td>\n",
       "      <td>2.555</td>\n",
       "      <td>0.5976</td>\n",
       "      <td>3.417</td>\n",
       "      <td>2.645</td>\n",
       "      <td>1.883</td>\n",
       "      <td>0.5391</td>\n",
       "      <td>0.9816</td>\n",
       "      <td>1.036</td>\n",
       "      <td>6.729</td>\n",
       "    </tr>\n",
       "    <tr>\n",
       "      <th>ENSG00000002549.12</th>\n",
       "      <td>22.5000</td>\n",
       "      <td>21.330</td>\n",
       "      <td>19.290</td>\n",
       "      <td>157.100</td>\n",
       "      <td>29.330</td>\n",
       "      <td>9.5770</td>\n",
       "      <td>14.170</td>\n",
       "      <td>23.330</td>\n",
       "      <td>1.4070</td>\n",
       "      <td>28.3000</td>\n",
       "      <td>...</td>\n",
       "      <td>4.4930</td>\n",
       "      <td>50.470</td>\n",
       "      <td>16.2100</td>\n",
       "      <td>32.740</td>\n",
       "      <td>18.150</td>\n",
       "      <td>11.920</td>\n",
       "      <td>20.1000</td>\n",
       "      <td>15.5500</td>\n",
       "      <td>11.980</td>\n",
       "      <td>35.370</td>\n",
       "    </tr>\n",
       "  </tbody>\n",
       "</table>\n",
       "<p>5 rows × 755 columns</p>\n",
       "</div>"
      ],
      "text/plain": [
       "                    GTEX-111YS-0006-SM-5NQBE  GTEX-1122O-0005-SM-5O99J  \\\n",
       "gene_ens_id                                                              \n",
       "ENSG00000000419.12                   20.6500                    25.050   \n",
       "ENSG00000000938.12                  906.0000                  1344.000   \n",
       "ENSG00000001167.14                    8.1900                    20.010   \n",
       "ENSG00000001561.6                     0.7104                     1.771   \n",
       "ENSG00000002549.12                   22.5000                    21.330   \n",
       "\n",
       "                    GTEX-1128S-0005-SM-5P9HI  GTEX-113IC-0006-SM-5NQ9C  \\\n",
       "gene_ens_id                                                              \n",
       "ENSG00000000419.12                     7.155                    49.130   \n",
       "ENSG00000000938.12                   633.500                   719.200   \n",
       "ENSG00000001167.14                    20.470                    21.220   \n",
       "ENSG00000001561.6                      2.234                     6.014   \n",
       "ENSG00000002549.12                    19.290                   157.100   \n",
       "\n",
       "                    GTEX-113JC-0006-SM-5O997  GTEX-117XS-0005-SM-5PNU6  \\\n",
       "gene_ens_id                                                              \n",
       "ENSG00000000419.12                     6.147                    4.1430   \n",
       "ENSG00000000938.12                   392.600                  166.5000   \n",
       "ENSG00000001167.14                    16.460                    8.6190   \n",
       "ENSG00000001561.6                      3.206                    0.3962   \n",
       "ENSG00000002549.12                    29.330                    9.5770   \n",
       "\n",
       "                    GTEX-117YW-0005-SM-5NQ8Z  GTEX-1192W-0005-SM-5NQBQ  \\\n",
       "gene_ens_id                                                              \n",
       "ENSG00000000419.12                     5.390                     4.389   \n",
       "ENSG00000000938.12                   338.200                   413.200   \n",
       "ENSG00000001167.14                    18.220                    16.580   \n",
       "ENSG00000001561.6                      2.445                     1.418   \n",
       "ENSG00000002549.12                    14.170                    23.330   \n",
       "\n",
       "                    GTEX-1192X-0005-SM-5NQC3  GTEX-11DXW-0006-SM-5NQ7Y  ...  \\\n",
       "gene_ens_id                                                             ...   \n",
       "ENSG00000000419.12                    1.1580                    6.8240  ...   \n",
       "ENSG00000000938.12                   51.5400                  423.6000  ...   \n",
       "ENSG00000001167.14                    1.6020                   35.6800  ...   \n",
       "ENSG00000001561.6                     0.5531                    0.7447  ...   \n",
       "ENSG00000002549.12                    1.4070                   28.3000  ...   \n",
       "\n",
       "                    GTEX-ZVE2-0006-SM-51MRW  GTEX-ZVP2-0005-SM-51MRK  \\\n",
       "gene_ens_id                                                            \n",
       "ENSG00000000419.12                   4.4070                   32.340   \n",
       "ENSG00000000938.12                 354.8000                 1102.000   \n",
       "ENSG00000001167.14                  11.3400                   11.250   \n",
       "ENSG00000001561.6                    0.9269                    2.555   \n",
       "ENSG00000002549.12                   4.4930                   50.470   \n",
       "\n",
       "                    GTEX-ZVT2-0005-SM-57WBW  GTEX-ZVT3-0006-SM-51MT9  \\\n",
       "gene_ens_id                                                            \n",
       "ENSG00000000419.12                  18.6800                    9.251   \n",
       "ENSG00000000938.12                 774.9000                  206.000   \n",
       "ENSG00000001167.14                  11.1800                    9.523   \n",
       "ENSG00000001561.6                    0.5976                    3.417   \n",
       "ENSG00000002549.12                  16.2100                   32.740   \n",
       "\n",
       "                    GTEX-ZVT4-0006-SM-57WB8  GTEX-ZVTK-0006-SM-57WBK  \\\n",
       "gene_ens_id                                                            \n",
       "ENSG00000000419.12                    7.828                    7.460   \n",
       "ENSG00000000938.12                  620.400                  346.300   \n",
       "ENSG00000001167.14                   41.860                   24.580   \n",
       "ENSG00000001561.6                     2.645                    1.883   \n",
       "ENSG00000002549.12                   18.150                   11.920   \n",
       "\n",
       "                    GTEX-ZVZP-0006-SM-51MSW  GTEX-ZVZQ-0006-SM-51MR8  \\\n",
       "gene_ens_id                                                            \n",
       "ENSG00000000419.12                  33.2400                   5.8480   \n",
       "ENSG00000000938.12                1304.0000                 232.9000   \n",
       "ENSG00000001167.14                   8.8920                  13.3900   \n",
       "ENSG00000001561.6                    0.5391                   0.9816   \n",
       "ENSG00000002549.12                  20.1000                  15.5500   \n",
       "\n",
       "                    GTEX-ZXES-0005-SM-57WCB  GTEX-ZXG5-0005-SM-57WCN  \n",
       "gene_ens_id                                                           \n",
       "ENSG00000000419.12                   25.760                   17.080  \n",
       "ENSG00000000938.12                  631.600                  884.500  \n",
       "ENSG00000001167.14                   13.470                   42.640  \n",
       "ENSG00000001561.6                     1.036                    6.729  \n",
       "ENSG00000002549.12                   11.980                   35.370  \n",
       "\n",
       "[5 rows x 755 columns]"
      ]
     },
     "execution_count": 9,
     "metadata": {},
     "output_type": "execute_result"
    }
   ],
   "source": [
    "data.head()"
   ]
  },
  {
   "cell_type": "markdown",
   "id": "5414e2d4-b4c5-48d9-9dd4-d9ff1585f341",
   "metadata": {
    "papermill": {
     "duration": 0.001761,
     "end_time": "2023-09-13T05:52:44.652545",
     "exception": false,
     "start_time": "2023-09-13T05:52:44.650784",
     "status": "completed"
    },
    "tags": []
   },
   "source": [
    "# Load gene pairs samples"
   ]
  },
  {
   "cell_type": "code",
   "execution_count": 10,
   "id": "178a09a8-1a2e-425a-8a52-773f41c72633",
   "metadata": {
    "execution": {
     "iopub.execute_input": "2023-09-13T05:52:44.656285Z",
     "iopub.status.busy": "2023-09-13T05:52:44.656186Z",
     "iopub.status.idle": "2023-09-13T05:52:44.657627Z",
     "shell.execute_reply": "2023-09-13T05:52:44.657486Z"
    },
    "papermill": {
     "duration": 0.003796,
     "end_time": "2023-09-13T05:52:44.658043",
     "exception": false,
     "start_time": "2023-09-13T05:52:44.654247",
     "status": "completed"
    },
    "tags": []
   },
   "outputs": [],
   "source": [
    "output_file = OUTPUT_DIR / \"gene_pair-samples.pkl\""
   ]
  },
  {
   "cell_type": "code",
   "execution_count": 11,
   "id": "c42a9f4c-3672-4ab0-b9ff-c214eb40cd2f",
   "metadata": {
    "execution": {
     "iopub.execute_input": "2023-09-13T05:52:44.661665Z",
     "iopub.status.busy": "2023-09-13T05:52:44.661551Z",
     "iopub.status.idle": "2023-09-13T05:52:44.674768Z",
     "shell.execute_reply": "2023-09-13T05:52:44.674622Z"
    },
    "papermill": {
     "duration": 0.015613,
     "end_time": "2023-09-13T05:52:44.675297",
     "exception": false,
     "start_time": "2023-09-13T05:52:44.659684",
     "status": "completed"
    },
    "tags": []
   },
   "outputs": [],
   "source": [
    "gene_pair_samples = pd.read_pickle(output_file)"
   ]
  },
  {
   "cell_type": "code",
   "execution_count": 12,
   "id": "1724d63c-19eb-49a8-83fc-6c8b07585e98",
   "metadata": {
    "execution": {
     "iopub.execute_input": "2023-09-13T05:52:44.678957Z",
     "iopub.status.busy": "2023-09-13T05:52:44.678849Z",
     "iopub.status.idle": "2023-09-13T05:52:44.680360Z",
     "shell.execute_reply": "2023-09-13T05:52:44.680225Z"
    },
    "papermill": {
     "duration": 0.003825,
     "end_time": "2023-09-13T05:52:44.680867",
     "exception": false,
     "start_time": "2023-09-13T05:52:44.677042",
     "status": "completed"
    },
    "tags": []
   },
   "outputs": [
    {
     "data": {
      "text/plain": [
       "25"
      ]
     },
     "execution_count": 12,
     "metadata": {},
     "output_type": "execute_result"
    }
   ],
   "source": [
    "len(gene_pair_samples)"
   ]
  },
  {
   "cell_type": "code",
   "execution_count": 13,
   "id": "99f5098f-aa01-471b-a6a2-5aabc332176b",
   "metadata": {
    "execution": {
     "iopub.execute_input": "2023-09-13T05:52:44.684591Z",
     "iopub.status.busy": "2023-09-13T05:52:44.684504Z",
     "iopub.status.idle": "2023-09-13T05:52:44.686089Z",
     "shell.execute_reply": "2023-09-13T05:52:44.685966Z"
    },
    "papermill": {
     "duration": 0.003921,
     "end_time": "2023-09-13T05:52:44.686599",
     "exception": false,
     "start_time": "2023-09-13T05:52:44.682678",
     "status": "completed"
    },
    "tags": []
   },
   "outputs": [
    {
     "data": {
      "text/plain": [
       "['all_high-top_ccc',\n",
       " 'all_high-top_pearson',\n",
       " 'all_high-top_spearman',\n",
       " 'all_low-top_ccc',\n",
       " 'all_low-top_pearson',\n",
       " 'all_low-top_spearman',\n",
       " 'ccc_high_and_pearson_low-top_ccc',\n",
       " 'ccc_high_and_pearson_low-top_pearson',\n",
       " 'ccc_high_and_pearson_low-top_spearman',\n",
       " 'ccc_high_and_spearman_low-top_ccc',\n",
       " 'ccc_high_and_spearman_low-top_pearson',\n",
       " 'ccc_high_and_spearman_low-top_spearman',\n",
       " 'ccc_high_and_spearman_pearson_low-top_ccc',\n",
       " 'ccc_high_and_spearman_pearson_low-top_pearson',\n",
       " 'ccc_high_and_spearman_pearson_low-top_spearman',\n",
       " 'ccc_spearman_high_and_pearson_low-top_ccc',\n",
       " 'ccc_spearman_high_and_pearson_low-top_pearson',\n",
       " 'ccc_spearman_high_and_pearson_low-top_spearman',\n",
       " 'pearson_high_and_ccc_low-top_ccc',\n",
       " 'pearson_high_and_ccc_low-top_pearson',\n",
       " 'pearson_high_and_ccc_low-top_spearman',\n",
       " 'pearson_high_and_ccc_spearman_low-top_ccc',\n",
       " 'pearson_high_and_ccc_spearman_low-top_pearson',\n",
       " 'pearson_high_and_ccc_spearman_low-top_spearman',\n",
       " 'selected_in_manuscript']"
      ]
     },
     "execution_count": 13,
     "metadata": {},
     "output_type": "execute_result"
    }
   ],
   "source": [
    "sorted(gene_pair_samples.keys())"
   ]
  },
  {
   "cell_type": "code",
   "execution_count": 14,
   "id": "c60378f6-3f87-49d4-8b86-cf3ec30fc545",
   "metadata": {
    "execution": {
     "iopub.execute_input": "2023-09-13T05:52:44.690336Z",
     "iopub.status.busy": "2023-09-13T05:52:44.690246Z",
     "iopub.status.idle": "2023-09-13T05:52:44.694242Z",
     "shell.execute_reply": "2023-09-13T05:52:44.694114Z"
    },
    "papermill": {
     "duration": 0.00639,
     "end_time": "2023-09-13T05:52:44.694731",
     "exception": false,
     "start_time": "2023-09-13T05:52:44.688341",
     "status": "completed"
    },
    "tags": []
   },
   "outputs": [
    {
     "data": {
      "text/html": [
       "<div>\n",
       "<style scoped>\n",
       "    .dataframe tbody tr th:only-of-type {\n",
       "        vertical-align: middle;\n",
       "    }\n",
       "\n",
       "    .dataframe tbody tr th {\n",
       "        vertical-align: top;\n",
       "    }\n",
       "\n",
       "    .dataframe thead th {\n",
       "        text-align: right;\n",
       "    }\n",
       "</style>\n",
       "<table border=\"1\" class=\"dataframe\">\n",
       "  <thead>\n",
       "    <tr style=\"text-align: right;\">\n",
       "      <th></th>\n",
       "      <th></th>\n",
       "      <th>Pearson (high)</th>\n",
       "      <th>Pearson (low)</th>\n",
       "      <th>Spearman (high)</th>\n",
       "      <th>Spearman (low)</th>\n",
       "      <th>Clustermatch (high)</th>\n",
       "      <th>Clustermatch (low)</th>\n",
       "      <th>ccc</th>\n",
       "      <th>pearson</th>\n",
       "      <th>spearman</th>\n",
       "    </tr>\n",
       "  </thead>\n",
       "  <tbody>\n",
       "    <tr>\n",
       "      <th>ENSG00000277089.4</th>\n",
       "      <th>ENSG00000277632.1</th>\n",
       "      <td>True</td>\n",
       "      <td>False</td>\n",
       "      <td>True</td>\n",
       "      <td>False</td>\n",
       "      <td>True</td>\n",
       "      <td>False</td>\n",
       "      <td>0.916918</td>\n",
       "      <td>0.916024</td>\n",
       "      <td>0.955427</td>\n",
       "    </tr>\n",
       "    <tr>\n",
       "      <th>ENSG00000171148.13</th>\n",
       "      <th>ENSG00000247596.8</th>\n",
       "      <td>True</td>\n",
       "      <td>False</td>\n",
       "      <td>True</td>\n",
       "      <td>False</td>\n",
       "      <td>True</td>\n",
       "      <td>False</td>\n",
       "      <td>0.896710</td>\n",
       "      <td>0.965141</td>\n",
       "      <td>0.973215</td>\n",
       "    </tr>\n",
       "    <tr>\n",
       "      <th>ENSG00000168298.6</th>\n",
       "      <th>ENSG00000124575.6</th>\n",
       "      <td>True</td>\n",
       "      <td>False</td>\n",
       "      <td>True</td>\n",
       "      <td>False</td>\n",
       "      <td>True</td>\n",
       "      <td>False</td>\n",
       "      <td>0.896710</td>\n",
       "      <td>0.869247</td>\n",
       "      <td>0.914341</td>\n",
       "    </tr>\n",
       "    <tr>\n",
       "      <th>ENSG00000125910.5</th>\n",
       "      <th>ENSG00000165879.8</th>\n",
       "      <td>True</td>\n",
       "      <td>False</td>\n",
       "      <td>True</td>\n",
       "      <td>False</td>\n",
       "      <td>True</td>\n",
       "      <td>False</td>\n",
       "      <td>0.886690</td>\n",
       "      <td>0.896396</td>\n",
       "      <td>0.940058</td>\n",
       "    </tr>\n",
       "    <tr>\n",
       "      <th>ENSG00000130772.13</th>\n",
       "      <th>ENSG00000163154.5</th>\n",
       "      <td>True</td>\n",
       "      <td>False</td>\n",
       "      <td>True</td>\n",
       "      <td>False</td>\n",
       "      <td>True</td>\n",
       "      <td>False</td>\n",
       "      <td>0.876726</td>\n",
       "      <td>0.945764</td>\n",
       "      <td>0.949664</td>\n",
       "    </tr>\n",
       "  </tbody>\n",
       "</table>\n",
       "</div>"
      ],
      "text/plain": [
       "                                      Pearson (high)  Pearson (low)  \\\n",
       "ENSG00000277089.4  ENSG00000277632.1            True          False   \n",
       "ENSG00000171148.13 ENSG00000247596.8            True          False   \n",
       "ENSG00000168298.6  ENSG00000124575.6            True          False   \n",
       "ENSG00000125910.5  ENSG00000165879.8            True          False   \n",
       "ENSG00000130772.13 ENSG00000163154.5            True          False   \n",
       "\n",
       "                                      Spearman (high)  Spearman (low)  \\\n",
       "ENSG00000277089.4  ENSG00000277632.1             True           False   \n",
       "ENSG00000171148.13 ENSG00000247596.8             True           False   \n",
       "ENSG00000168298.6  ENSG00000124575.6             True           False   \n",
       "ENSG00000125910.5  ENSG00000165879.8             True           False   \n",
       "ENSG00000130772.13 ENSG00000163154.5             True           False   \n",
       "\n",
       "                                      Clustermatch (high)  Clustermatch (low)  \\\n",
       "ENSG00000277089.4  ENSG00000277632.1                 True               False   \n",
       "ENSG00000171148.13 ENSG00000247596.8                 True               False   \n",
       "ENSG00000168298.6  ENSG00000124575.6                 True               False   \n",
       "ENSG00000125910.5  ENSG00000165879.8                 True               False   \n",
       "ENSG00000130772.13 ENSG00000163154.5                 True               False   \n",
       "\n",
       "                                           ccc   pearson  spearman  \n",
       "ENSG00000277089.4  ENSG00000277632.1  0.916918  0.916024  0.955427  \n",
       "ENSG00000171148.13 ENSG00000247596.8  0.896710  0.965141  0.973215  \n",
       "ENSG00000168298.6  ENSG00000124575.6  0.896710  0.869247  0.914341  \n",
       "ENSG00000125910.5  ENSG00000165879.8  0.886690  0.896396  0.940058  \n",
       "ENSG00000130772.13 ENSG00000163154.5  0.876726  0.945764  0.949664  "
      ]
     },
     "execution_count": 14,
     "metadata": {},
     "output_type": "execute_result"
    }
   ],
   "source": [
    "_k = list(gene_pair_samples.keys())[0]\n",
    "gene_pair_samples[_k].head()"
   ]
  },
  {
   "cell_type": "code",
   "execution_count": 15,
   "id": "6ccae66e-e276-43c3-809c-512aa0fe795b",
   "metadata": {
    "execution": {
     "iopub.execute_input": "2023-09-13T05:52:44.698714Z",
     "iopub.status.busy": "2023-09-13T05:52:44.698582Z",
     "iopub.status.idle": "2023-09-13T05:52:44.700416Z",
     "shell.execute_reply": "2023-09-13T05:52:44.700292Z"
    },
    "papermill": {
     "duration": 0.004238,
     "end_time": "2023-09-13T05:52:44.700801",
     "exception": false,
     "start_time": "2023-09-13T05:52:44.696563",
     "status": "completed"
    },
    "tags": []
   },
   "outputs": [
    {
     "data": {
      "text/plain": [
       "[('ENSG00000277089.4', 'ENSG00000277632.1'),\n",
       " ('ENSG00000171148.13', 'ENSG00000247596.8'),\n",
       " ('ENSG00000168298.6', 'ENSG00000124575.6'),\n",
       " ('ENSG00000125910.5', 'ENSG00000165879.8'),\n",
       " ('ENSG00000130772.13', 'ENSG00000163154.5')]"
      ]
     },
     "execution_count": 15,
     "metadata": {},
     "output_type": "execute_result"
    }
   ],
   "source": [
    "[i for i in gene_pair_samples[_k].head(10).index]"
   ]
  },
  {
   "cell_type": "markdown",
   "id": "6402879c-e9a0-414b-b60b-9e4ed1e9e99e",
   "metadata": {
    "papermill": {
     "duration": 0.001766,
     "end_time": "2023-09-13T05:52:44.704499",
     "exception": false,
     "start_time": "2023-09-13T05:52:44.702733",
     "status": "completed"
    },
    "tags": []
   },
   "source": [
    "# Compute pvalues on sampled gene pairs"
   ]
  },
  {
   "cell_type": "code",
   "execution_count": 16,
   "id": "62d8632e-13e0-4a78-ad30-26770172d21e",
   "metadata": {
    "execution": {
     "iopub.execute_input": "2023-09-13T05:52:44.708422Z",
     "iopub.status.busy": "2023-09-13T05:52:44.708326Z",
     "iopub.status.idle": "2023-09-13T05:52:44.709539Z",
     "shell.execute_reply": "2023-09-13T05:52:44.709410Z"
    },
    "papermill": {
     "duration": 0.003576,
     "end_time": "2023-09-13T05:52:44.709913",
     "exception": false,
     "start_time": "2023-09-13T05:52:44.706337",
     "status": "completed"
    },
    "tags": []
   },
   "outputs": [],
   "source": [
    "output_file = OUTPUT_DIR / \"gene_pair-samples-pvalues.pkl\""
   ]
  },
  {
   "cell_type": "code",
   "execution_count": 17,
   "id": "c8a85ce0-4c5a-4ed9-8ad6-24b21fb10b1e",
   "metadata": {
    "execution": {
     "iopub.execute_input": "2023-09-13T05:52:44.713864Z",
     "iopub.status.busy": "2023-09-13T05:52:44.713778Z",
     "iopub.status.idle": "2023-09-13T05:52:44.715307Z",
     "shell.execute_reply": "2023-09-13T05:52:44.715167Z"
    },
    "papermill": {
     "duration": 0.004024,
     "end_time": "2023-09-13T05:52:44.715798",
     "exception": false,
     "start_time": "2023-09-13T05:52:44.711774",
     "status": "completed"
    },
    "tags": []
   },
   "outputs": [],
   "source": [
    "def corr_single(x, y):\n",
    "    ccc_val, ccc_pval = ccc(\n",
    "        x, y, pvalue_n_perms=PVALUE_N_PERMS, n_jobs=conf.GENERAL[\"N_JOBS\"]\n",
    "    )\n",
    "    p_val, p_pval = stats.pearsonr(x, y)\n",
    "    s_val, s_pval = stats.spearmanr(x, y)\n",
    "\n",
    "    return ccc_val, ccc_pval, p_val, p_pval, s_val, s_pval"
   ]
  },
  {
   "cell_type": "code",
   "execution_count": 18,
   "id": "d9838801-1f01-4316-8e29-ffedbdc2a67a",
   "metadata": {
    "execution": {
     "iopub.execute_input": "2023-09-13T05:52:44.719855Z",
     "iopub.status.busy": "2023-09-13T05:52:44.719771Z",
     "iopub.status.idle": "2023-09-13T16:40:56.859411Z",
     "shell.execute_reply": "2023-09-13T16:40:56.858953Z"
    },
    "papermill": {
     "duration": 38892.142539,
     "end_time": "2023-09-13T16:40:56.860296",
     "exception": false,
     "start_time": "2023-09-13T05:52:44.717757",
     "status": "completed"
    },
    "tags": []
   },
   "outputs": [
    {
     "name": "stderr",
     "output_type": "stream",
     "text": [
      "100%|█████████████████████████████████████████████████████████| 128/128 [10:48:12<00:00, 303.84s/it]\n"
     ]
    }
   ],
   "source": [
    "results = []\n",
    "\n",
    "# I leave the ProcessPoolExecutor here in case I want to easily swith between\n",
    "# parallelize across gene pairs (max_workers=conf.GENERAL[\"N_JOBS\"] and n_jobs=1 inside function corr_single)\n",
    "# or across permutations for one gene pair (max_workers=1 and n_jobs=conf.GENERAL[\"N_JOBS\"])\n",
    "with ProcessPoolExecutor(max_workers=1) as executor:\n",
    "    tasks = {\n",
    "        executor.submit(corr_single, data.loc[gene0], data.loc[gene1]): (\n",
    "            gene0,\n",
    "            gene1,\n",
    "            k,\n",
    "        )\n",
    "        for k, v in gene_pair_samples.items()\n",
    "        for gene0, gene1 in gene_pair_samples[k].index\n",
    "    }\n",
    "\n",
    "    for t_idx, t in tqdm(enumerate(as_completed(tasks)), total=len(tasks), ncols=100):\n",
    "        gene0, gene1, k = tasks[t]\n",
    "        ccc_val, ccc_pval, p_val, p_pval, s_val, s_pval = t.result()\n",
    "\n",
    "        results.append(\n",
    "            {\n",
    "                \"gene0\": gene0,\n",
    "                \"gene1\": gene1,\n",
    "                \"group\": k,\n",
    "                \"ccc\": ccc_val,\n",
    "                \"ccc_pvalue\": ccc_pval,\n",
    "                \"pearson\": p_val,\n",
    "                \"pearson_pvalue\": p_pval,\n",
    "                \"spearman\": s_val,\n",
    "                \"spearman_pvalue\": s_pval,\n",
    "            }\n",
    "        )\n",
    "\n",
    "        # save\n",
    "        _df = pd.DataFrame(results)\n",
    "        _df[\"group\"] = _df[\"group\"].astype(\"category\")\n",
    "        _df.to_pickle(output_file)"
   ]
  },
  {
   "cell_type": "code",
   "execution_count": 19,
   "id": "6f32ad1a-3b2f-4e08-8a53-35cfb68e3970",
   "metadata": {
    "execution": {
     "iopub.execute_input": "2023-09-13T16:40:56.872870Z",
     "iopub.status.busy": "2023-09-13T16:40:56.872761Z",
     "iopub.status.idle": "2023-09-13T16:40:56.877506Z",
     "shell.execute_reply": "2023-09-13T16:40:56.877318Z"
    },
    "papermill": {
     "duration": 0.012142,
     "end_time": "2023-09-13T16:40:56.877926",
     "exception": false,
     "start_time": "2023-09-13T16:40:56.865784",
     "status": "completed"
    },
    "tags": []
   },
   "outputs": [
    {
     "data": {
      "text/plain": [
       "128"
      ]
     },
     "execution_count": 19,
     "metadata": {},
     "output_type": "execute_result"
    }
   ],
   "source": [
    "len(results)"
   ]
  },
  {
   "cell_type": "code",
   "execution_count": 20,
   "id": "e68a65a5-8bba-4a79-a740-26d722dc670e",
   "metadata": {
    "execution": {
     "iopub.execute_input": "2023-09-13T16:40:56.887230Z",
     "iopub.status.busy": "2023-09-13T16:40:56.887140Z",
     "iopub.status.idle": "2023-09-13T16:40:56.890672Z",
     "shell.execute_reply": "2023-09-13T16:40:56.890366Z"
    },
    "papermill": {
     "duration": 0.009952,
     "end_time": "2023-09-13T16:40:56.891595",
     "exception": false,
     "start_time": "2023-09-13T16:40:56.881643",
     "status": "completed"
    },
    "tags": []
   },
   "outputs": [],
   "source": [
    "results_df = pd.DataFrame(results)\n",
    "results_df[\"group\"] = results_df[\"group\"].astype(\"category\")"
   ]
  },
  {
   "cell_type": "code",
   "execution_count": 21,
   "id": "9514ebb1-f1c1-46d9-96b6-a2264e3a6b4b",
   "metadata": {
    "execution": {
     "iopub.execute_input": "2023-09-13T16:40:56.901457Z",
     "iopub.status.busy": "2023-09-13T16:40:56.901405Z",
     "iopub.status.idle": "2023-09-13T16:40:56.903256Z",
     "shell.execute_reply": "2023-09-13T16:40:56.903077Z"
    },
    "papermill": {
     "duration": 0.006564,
     "end_time": "2023-09-13T16:40:56.903818",
     "exception": false,
     "start_time": "2023-09-13T16:40:56.897254",
     "status": "completed"
    },
    "tags": []
   },
   "outputs": [
    {
     "data": {
      "text/plain": [
       "(128, 9)"
      ]
     },
     "execution_count": 21,
     "metadata": {},
     "output_type": "execute_result"
    }
   ],
   "source": [
    "results_df.shape"
   ]
  },
  {
   "cell_type": "code",
   "execution_count": 22,
   "id": "6110dd19-95e0-4400-847a-424a498fa63d",
   "metadata": {
    "execution": {
     "iopub.execute_input": "2023-09-13T16:40:56.911665Z",
     "iopub.status.busy": "2023-09-13T16:40:56.911593Z",
     "iopub.status.idle": "2023-09-13T16:40:56.916397Z",
     "shell.execute_reply": "2023-09-13T16:40:56.916216Z"
    },
    "papermill": {
     "duration": 0.009373,
     "end_time": "2023-09-13T16:40:56.916981",
     "exception": false,
     "start_time": "2023-09-13T16:40:56.907608",
     "status": "completed"
    },
    "tags": []
   },
   "outputs": [
    {
     "data": {
      "text/html": [
       "<div>\n",
       "<style scoped>\n",
       "    .dataframe tbody tr th:only-of-type {\n",
       "        vertical-align: middle;\n",
       "    }\n",
       "\n",
       "    .dataframe tbody tr th {\n",
       "        vertical-align: top;\n",
       "    }\n",
       "\n",
       "    .dataframe thead th {\n",
       "        text-align: right;\n",
       "    }\n",
       "</style>\n",
       "<table border=\"1\" class=\"dataframe\">\n",
       "  <thead>\n",
       "    <tr style=\"text-align: right;\">\n",
       "      <th></th>\n",
       "      <th>gene0</th>\n",
       "      <th>gene1</th>\n",
       "      <th>group</th>\n",
       "      <th>ccc</th>\n",
       "      <th>ccc_pvalue</th>\n",
       "      <th>pearson</th>\n",
       "      <th>pearson_pvalue</th>\n",
       "      <th>spearman</th>\n",
       "      <th>spearman_pvalue</th>\n",
       "    </tr>\n",
       "  </thead>\n",
       "  <tbody>\n",
       "    <tr>\n",
       "      <th>0</th>\n",
       "      <td>ENSG00000277089.4</td>\n",
       "      <td>ENSG00000277632.1</td>\n",
       "      <td>all_high-top_ccc</td>\n",
       "      <td>0.916918</td>\n",
       "      <td>9.999999e-08</td>\n",
       "      <td>0.916024</td>\n",
       "      <td>5.888683e-301</td>\n",
       "      <td>0.955427</td>\n",
       "      <td>0.000000e+00</td>\n",
       "    </tr>\n",
       "    <tr>\n",
       "      <th>1</th>\n",
       "      <td>ENSG00000171148.13</td>\n",
       "      <td>ENSG00000247596.8</td>\n",
       "      <td>all_high-top_ccc</td>\n",
       "      <td>0.896710</td>\n",
       "      <td>9.999999e-08</td>\n",
       "      <td>0.965141</td>\n",
       "      <td>0.000000e+00</td>\n",
       "      <td>0.973215</td>\n",
       "      <td>0.000000e+00</td>\n",
       "    </tr>\n",
       "    <tr>\n",
       "      <th>2</th>\n",
       "      <td>ENSG00000168298.6</td>\n",
       "      <td>ENSG00000124575.6</td>\n",
       "      <td>all_high-top_ccc</td>\n",
       "      <td>0.896710</td>\n",
       "      <td>9.999999e-08</td>\n",
       "      <td>0.869247</td>\n",
       "      <td>1.416256e-232</td>\n",
       "      <td>0.914341</td>\n",
       "      <td>7.434755e-298</td>\n",
       "    </tr>\n",
       "    <tr>\n",
       "      <th>3</th>\n",
       "      <td>ENSG00000125910.5</td>\n",
       "      <td>ENSG00000165879.8</td>\n",
       "      <td>all_high-top_ccc</td>\n",
       "      <td>0.886690</td>\n",
       "      <td>9.999999e-08</td>\n",
       "      <td>0.896396</td>\n",
       "      <td>2.758126e-268</td>\n",
       "      <td>0.940058</td>\n",
       "      <td>0.000000e+00</td>\n",
       "    </tr>\n",
       "    <tr>\n",
       "      <th>4</th>\n",
       "      <td>ENSG00000130772.13</td>\n",
       "      <td>ENSG00000163154.5</td>\n",
       "      <td>all_high-top_ccc</td>\n",
       "      <td>0.876726</td>\n",
       "      <td>9.999999e-08</td>\n",
       "      <td>0.945764</td>\n",
       "      <td>0.000000e+00</td>\n",
       "      <td>0.949664</td>\n",
       "      <td>0.000000e+00</td>\n",
       "    </tr>\n",
       "  </tbody>\n",
       "</table>\n",
       "</div>"
      ],
      "text/plain": [
       "                gene0              gene1             group       ccc  \\\n",
       "0   ENSG00000277089.4  ENSG00000277632.1  all_high-top_ccc  0.916918   \n",
       "1  ENSG00000171148.13  ENSG00000247596.8  all_high-top_ccc  0.896710   \n",
       "2   ENSG00000168298.6  ENSG00000124575.6  all_high-top_ccc  0.896710   \n",
       "3   ENSG00000125910.5  ENSG00000165879.8  all_high-top_ccc  0.886690   \n",
       "4  ENSG00000130772.13  ENSG00000163154.5  all_high-top_ccc  0.876726   \n",
       "\n",
       "     ccc_pvalue   pearson  pearson_pvalue  spearman  spearman_pvalue  \n",
       "0  9.999999e-08  0.916024   5.888683e-301  0.955427     0.000000e+00  \n",
       "1  9.999999e-08  0.965141    0.000000e+00  0.973215     0.000000e+00  \n",
       "2  9.999999e-08  0.869247   1.416256e-232  0.914341    7.434755e-298  \n",
       "3  9.999999e-08  0.896396   2.758126e-268  0.940058     0.000000e+00  \n",
       "4  9.999999e-08  0.945764    0.000000e+00  0.949664     0.000000e+00  "
      ]
     },
     "execution_count": 22,
     "metadata": {},
     "output_type": "execute_result"
    }
   ],
   "source": [
    "results_df.head()"
   ]
  },
  {
   "cell_type": "markdown",
   "id": "c15b6534-bd10-4091-a33d-e924a883cd93",
   "metadata": {
    "papermill": {
     "duration": 0.003846,
     "end_time": "2023-09-13T16:40:56.924664",
     "exception": false,
     "start_time": "2023-09-13T16:40:56.920818",
     "status": "completed"
    },
    "tags": []
   },
   "source": [
    "# Save"
   ]
  },
  {
   "cell_type": "code",
   "execution_count": 23,
   "id": "bb8e28d4-3adf-4d6a-a94e-81b6763ebd61",
   "metadata": {
    "execution": {
     "iopub.execute_input": "2023-09-13T16:40:56.932559Z",
     "iopub.status.busy": "2023-09-13T16:40:56.932510Z",
     "iopub.status.idle": "2023-09-13T16:40:56.934158Z",
     "shell.execute_reply": "2023-09-13T16:40:56.933964Z"
    },
    "papermill": {
     "duration": 0.006228,
     "end_time": "2023-09-13T16:40:56.934723",
     "exception": false,
     "start_time": "2023-09-13T16:40:56.928495",
     "status": "completed"
    },
    "tags": []
   },
   "outputs": [],
   "source": [
    "results_df.to_pickle(output_file)"
   ]
  },
  {
   "cell_type": "code",
   "execution_count": null,
   "id": "46cff789-6c90-42c5-9328-21ee7bd70851",
   "metadata": {
    "papermill": {
     "duration": 0.003734,
     "end_time": "2023-09-13T16:40:56.942315",
     "exception": false,
     "start_time": "2023-09-13T16:40:56.938581",
     "status": "completed"
    },
    "tags": []
   },
   "outputs": [],
   "source": []
  }
 ],
 "metadata": {
  "jupytext": {
   "cell_metadata_filter": "all,-execution,-papermill,-trusted",
   "notebook_metadata_filter": "-jupytext.text_representation.jupytext_version"
  },
  "kernelspec": {
   "display_name": "Python 3 (ipykernel)",
   "language": "python",
   "name": "python3"
  },
  "language_info": {
   "codemirror_mode": {
    "name": "ipython",
    "version": 3
   },
   "file_extension": ".py",
   "mimetype": "text/x-python",
   "name": "python",
   "nbconvert_exporter": "python",
   "pygments_lexer": "ipython3",
   "version": "3.9.12"
  },
  "papermill": {
   "default_parameters": {},
   "duration": 38893.762064,
   "end_time": "2023-09-13T16:40:57.194672",
   "environment_variables": {},
   "exception": null,
   "input_path": "nbs/25_pvalue/15-compute_pvalues_from_samples.ipynb",
   "output_path": "nbs/25_pvalue/15-compute_pvalues_from_samples.run.ipynb",
   "parameters": {},
   "start_time": "2023-09-13T05:52:43.432608",
   "version": "2.3.4"
  }
 },
 "nbformat": 4,
 "nbformat_minor": 5
}
