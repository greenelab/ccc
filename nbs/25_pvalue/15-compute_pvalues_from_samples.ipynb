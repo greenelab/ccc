{
 "cells": [
  {
   "cell_type": "markdown",
   "id": "ec52faa3-656f-483e-9617-d7ec0f7d818c",
   "metadata": {
    "papermill": {
     "duration": 0.004582,
     "end_time": "2023-09-12T22:59:49.382071",
     "exception": false,
     "start_time": "2023-09-12T22:59:49.377489",
     "status": "completed"
    },
    "tags": []
   },
   "source": [
    "# Description"
   ]
  },
  {
   "cell_type": "markdown",
   "id": "51102f42-fcd9-4a58-9c8d-dfcd3d2d464e",
   "metadata": {
    "papermill": {
     "duration": 0.007188,
     "end_time": "2023-09-12T22:59:49.399261",
     "exception": false,
     "start_time": "2023-09-12T22:59:49.392073",
     "status": "completed"
    },
    "tags": []
   },
   "source": [
    "Reads the gene pair samples across different categories and computes their p-values."
   ]
  },
  {
   "cell_type": "markdown",
   "id": "7006ceeb-2651-407d-bfa1-1039727649ef",
   "metadata": {
    "papermill": {
     "duration": 0.002945,
     "end_time": "2023-09-12T22:59:49.407037",
     "exception": false,
     "start_time": "2023-09-12T22:59:49.404092",
     "status": "completed"
    },
    "tags": []
   },
   "source": [
    "# Modules loading"
   ]
  },
  {
   "cell_type": "code",
   "execution_count": null,
   "id": "1ffa1a96-7545-40b9-ac8b-8627e13de8d4",
   "metadata": {
    "papermill": {
     "duration": 0.429643,
     "end_time": "2023-09-12T22:59:49.838894",
     "exception": false,
     "start_time": "2023-09-12T22:59:49.409251",
     "status": "completed"
    },
    "tags": []
   },
   "outputs": [],
   "source": [
    "import numpy as np\n",
    "import matplotlib.pyplot as plt\n",
    "import seaborn as sns\n",
    "from scipy import stats\n",
    "import numpy as np\n",
    "import pandas as pd\n",
    "from concurrent.futures import as_completed, ProcessPoolExecutor\n",
    "from tqdm import tqdm\n",
    "\n",
    "from ccc.coef import ccc\n",
    "from ccc import conf"
   ]
  },
  {
   "cell_type": "markdown",
   "id": "0d3cc810-4b17-4213-8f03-6fe7e97a0fe3",
   "metadata": {
    "papermill": {
     "duration": 0.009653,
     "end_time": "2023-09-12T22:59:49.850398",
     "exception": false,
     "start_time": "2023-09-12T22:59:49.840745",
     "status": "completed"
    },
    "tags": []
   },
   "source": [
    "# Settings"
   ]
  },
  {
   "cell_type": "code",
   "execution_count": null,
   "id": "9a154623-c787-4a31-871a-cad173f0eb9f",
   "metadata": {
    "papermill": {
     "duration": 0.004783,
     "end_time": "2023-09-12T22:59:49.857681",
     "exception": false,
     "start_time": "2023-09-12T22:59:49.852898",
     "status": "completed"
    },
    "tags": []
   },
   "outputs": [],
   "source": [
    "DATASET_CONFIG = conf.GTEX\n",
    "GTEX_TISSUE = \"whole_blood\"\n",
    "GENE_SEL_STRATEGY = \"var_pc_log2\"\n",
    "\n",
    "PVALUE_N_PERMS = 10000000\n",
    "\n",
    "RANDOM_STATE = np.random.RandomState(0)"
   ]
  },
  {
   "cell_type": "markdown",
   "id": "5b09ff83-5377-49a9-b24b-65c6c90277d6",
   "metadata": {
    "papermill": {
     "duration": 0.001859,
     "end_time": "2023-09-12T22:59:49.861436",
     "exception": false,
     "start_time": "2023-09-12T22:59:49.859577",
     "status": "completed"
    },
    "tags": []
   },
   "source": [
    "# Paths"
   ]
  },
  {
   "cell_type": "code",
   "execution_count": null,
   "id": "c6f73068-fa38-44be-bd0c-708f6ff450ea",
   "metadata": {
    "papermill": {
     "duration": 0.00506,
     "end_time": "2023-09-12T22:59:49.868624",
     "exception": false,
     "start_time": "2023-09-12T22:59:49.863564",
     "status": "completed"
    },
    "tags": []
   },
   "outputs": [],
   "source": [
    "INPUT_GENE_EXPR_FILE = (\n",
    "    DATASET_CONFIG[\"GENE_SELECTION_DIR\"]\n",
    "    / f\"gtex_v8_data_{GTEX_TISSUE}-{GENE_SEL_STRATEGY}.pkl\"\n",
    ")\n",
    "display(INPUT_GENE_EXPR_FILE)\n",
    "\n",
    "assert INPUT_GENE_EXPR_FILE.exists()"
   ]
  },
  {
   "cell_type": "code",
   "execution_count": null,
   "id": "30cce6f5-ca1b-438c-859d-31903a42d4c6",
   "metadata": {
    "papermill": {
     "duration": 0.004102,
     "end_time": "2023-09-12T22:59:49.874422",
     "exception": false,
     "start_time": "2023-09-12T22:59:49.870320",
     "status": "completed"
    },
    "tags": []
   },
   "outputs": [],
   "source": [
    "INPUT_GENE_PAIRS_INTERSECTIONS_FILE = (\n",
    "    DATASET_CONFIG[\"GENE_PAIR_INTERSECTIONS\"]\n",
    "    / f\"gene_pair_intersections-gtex_v8-{GTEX_TISSUE}-{GENE_SEL_STRATEGY}.pkl\"\n",
    ")\n",
    "display(INPUT_GENE_PAIRS_INTERSECTIONS_FILE)\n",
    "\n",
    "assert INPUT_GENE_PAIRS_INTERSECTIONS_FILE.exists()"
   ]
  },
  {
   "cell_type": "code",
   "execution_count": null,
   "id": "0122253c-99c0-41e2-8807-60df86bf0619",
   "metadata": {
    "papermill": {
     "duration": 0.00365,
     "end_time": "2023-09-12T22:59:49.879712",
     "exception": false,
     "start_time": "2023-09-12T22:59:49.876062",
     "status": "completed"
    },
    "tags": []
   },
   "outputs": [],
   "source": [
    "OUTPUT_DIR = DATASET_CONFIG[\"GENE_PAIR_INTERSECTIONS\"] / \"pvalues\"\n",
    "OUTPUT_DIR.mkdir(parents=True, exist_ok=True)"
   ]
  },
  {
   "cell_type": "code",
   "execution_count": null,
   "id": "3003ed2c-5da0-43b9-969d-9cf037d05730",
   "metadata": {
    "papermill": {
     "duration": 0.003938,
     "end_time": "2023-09-12T22:59:49.885310",
     "exception": false,
     "start_time": "2023-09-12T22:59:49.881372",
     "status": "completed"
    },
    "tags": []
   },
   "outputs": [],
   "source": [
    "OUTPUT_DIR"
   ]
  },
  {
   "cell_type": "markdown",
   "id": "3d014f0c-d442-48ab-add8-ac338ad15b27",
   "metadata": {
    "papermill": {
     "duration": 0.001594,
     "end_time": "2023-09-12T22:59:49.888592",
     "exception": false,
     "start_time": "2023-09-12T22:59:49.886998",
     "status": "completed"
    },
    "tags": []
   },
   "source": [
    "# Load gene expression data"
   ]
  },
  {
   "cell_type": "code",
   "execution_count": null,
   "id": "6e8ef201-6f98-4fb6-a306-180ed4b467db",
   "metadata": {
    "papermill": {
     "duration": 0.022686,
     "end_time": "2023-09-12T22:59:49.912927",
     "exception": false,
     "start_time": "2023-09-12T22:59:49.890241",
     "status": "completed"
    },
    "tags": []
   },
   "outputs": [],
   "source": [
    "data = pd.read_pickle(INPUT_GENE_EXPR_FILE).sort_index()"
   ]
  },
  {
   "cell_type": "code",
   "execution_count": null,
   "id": "4d18e93e-b394-46bd-8d16-d9261a85ba06",
   "metadata": {
    "papermill": {
     "duration": 0.004607,
     "end_time": "2023-09-12T22:59:49.919511",
     "exception": false,
     "start_time": "2023-09-12T22:59:49.914904",
     "status": "completed"
    },
    "tags": []
   },
   "outputs": [],
   "source": [
    "data.shape"
   ]
  },
  {
   "cell_type": "code",
   "execution_count": null,
   "id": "ea8947b9-9064-43ec-bf10-6e6ae361c451",
   "metadata": {
    "papermill": {
     "duration": 0.01065,
     "end_time": "2023-09-12T22:59:49.931837",
     "exception": false,
     "start_time": "2023-09-12T22:59:49.921187",
     "status": "completed"
    },
    "tags": []
   },
   "outputs": [],
   "source": [
    "data.head()"
   ]
  },
  {
   "cell_type": "markdown",
   "id": "5414e2d4-b4c5-48d9-9dd4-d9ff1585f341",
   "metadata": {
    "papermill": {
     "duration": 0.001714,
     "end_time": "2023-09-12T22:59:49.935441",
     "exception": false,
     "start_time": "2023-09-12T22:59:49.933727",
     "status": "completed"
    },
    "tags": []
   },
   "source": [
    "# Load gene pairs samples"
   ]
  },
  {
   "cell_type": "code",
   "execution_count": null,
   "id": "178a09a8-1a2e-425a-8a52-773f41c72633",
   "metadata": {
    "papermill": {
     "duration": 0.003701,
     "end_time": "2023-09-12T22:59:49.941066",
     "exception": false,
     "start_time": "2023-09-12T22:59:49.937365",
     "status": "completed"
    },
    "tags": []
   },
   "outputs": [],
   "source": [
    "output_file = OUTPUT_DIR / \"gene_pair-samples.pkl\""
   ]
  },
  {
   "cell_type": "code",
   "execution_count": null,
   "id": "c42a9f4c-3672-4ab0-b9ff-c214eb40cd2f",
   "metadata": {
    "papermill": {
     "duration": 0.008321,
     "end_time": "2023-09-12T22:59:49.951197",
     "exception": false,
     "start_time": "2023-09-12T22:59:49.942876",
     "status": "completed"
    },
    "tags": []
   },
   "outputs": [],
   "source": [
    "gene_pair_samples = pd.read_pickle(output_file)"
   ]
  },
  {
   "cell_type": "code",
   "execution_count": null,
   "id": "1724d63c-19eb-49a8-83fc-6c8b07585e98",
   "metadata": {
    "papermill": {
     "duration": 0.003797,
     "end_time": "2023-09-12T22:59:49.956831",
     "exception": false,
     "start_time": "2023-09-12T22:59:49.953034",
     "status": "completed"
    },
    "tags": []
   },
   "outputs": [],
   "source": [
    "len(gene_pair_samples)"
   ]
  },
  {
   "cell_type": "code",
   "execution_count": null,
   "id": "99f5098f-aa01-471b-a6a2-5aabc332176b",
   "metadata": {
    "papermill": {
     "duration": 0.003951,
     "end_time": "2023-09-12T22:59:49.962566",
     "exception": false,
     "start_time": "2023-09-12T22:59:49.958615",
     "status": "completed"
    },
    "tags": []
   },
   "outputs": [],
   "source": [
    "sorted(gene_pair_samples.keys())"
   ]
  },
  {
   "cell_type": "code",
   "execution_count": null,
   "id": "c60378f6-3f87-49d4-8b86-cf3ec30fc545",
   "metadata": {
    "papermill": {
     "duration": 0.006176,
     "end_time": "2023-09-12T22:59:49.970553",
     "exception": false,
     "start_time": "2023-09-12T22:59:49.964377",
     "status": "completed"
    },
    "tags": []
   },
   "outputs": [],
   "source": [
    "_k = list(gene_pair_samples.keys())[0]\n",
    "gene_pair_samples[_k].head()"
   ]
  },
  {
   "cell_type": "code",
   "execution_count": null,
   "id": "6ccae66e-e276-43c3-809c-512aa0fe795b",
   "metadata": {
    "papermill": {
     "duration": 0.00426,
     "end_time": "2023-09-12T22:59:49.976769",
     "exception": false,
     "start_time": "2023-09-12T22:59:49.972509",
     "status": "completed"
    },
    "tags": []
   },
   "outputs": [],
   "source": [
    "[i for i in gene_pair_samples[_k].head(10).index]"
   ]
  },
  {
   "cell_type": "markdown",
   "id": "6402879c-e9a0-414b-b60b-9e4ed1e9e99e",
   "metadata": {
    "papermill": {
     "duration": 0.00192,
     "end_time": "2023-09-12T22:59:49.980599",
     "exception": false,
     "start_time": "2023-09-12T22:59:49.978679",
     "status": "completed"
    },
    "tags": []
   },
   "source": [
    "# Compute pvalues on sampled gene pairs"
   ]
  },
  {
   "cell_type": "code",
   "execution_count": null,
   "id": "62d8632e-13e0-4a78-ad30-26770172d21e",
   "metadata": {
    "papermill": {
     "duration": 0.003625,
     "end_time": "2023-09-12T22:59:49.986138",
     "exception": false,
     "start_time": "2023-09-12T22:59:49.982513",
     "status": "completed"
    },
    "tags": []
   },
   "outputs": [],
   "source": [
    "output_file = OUTPUT_DIR / \"gene_pair-samples-pvalues.pkl\""
   ]
  },
  {
   "cell_type": "code",
   "execution_count": null,
   "id": "c8a85ce0-4c5a-4ed9-8ad6-24b21fb10b1e",
   "metadata": {
    "papermill": {
     "duration": 0.00395,
     "end_time": "2023-09-12T22:59:49.992041",
     "exception": false,
     "start_time": "2023-09-12T22:59:49.988091",
     "status": "completed"
    },
    "tags": []
   },
   "outputs": [],
   "source": [
    "def corr_single(x, y):\n",
    "    ccc_val, ccc_pval = ccc(x, y, pvalue_n_perms=PVALUE_N_PERMS, n_jobs=conf.GENERAL[\"N_JOBS\"])\n",
    "    p_val, p_pval = stats.pearsonr(x, y)\n",
    "    s_val, s_pval = stats.spearmanr(x, y)\n",
    "\n",
    "    return ccc_val, ccc_pval, p_val, p_pval, s_val, s_pval"
   ]
  },
  {
   "cell_type": "code",
   "execution_count": null,
   "id": "d9838801-1f01-4316-8e29-ffedbdc2a67a",
   "metadata": {
    "papermill": {
     "duration": 16726.17747,
     "end_time": "2023-09-13T03:38:36.171453",
     "exception": false,
     "start_time": "2023-09-12T22:59:49.993983",
     "status": "completed"
    },
    "tags": []
   },
   "outputs": [],
   "source": [
    "results = []\n",
    "\n",
    "# I leave the ProcessPoolExecutor here in case I want to easily swith between\n",
    "# parallelize across gene pairs (max_workers=conf.GENERAL[\"N_JOBS\"] and n_jobs=1 inside function corr_single)\n",
    "# or across permutations for one gene pair (max_workers=1 and n_jobs=conf.GENERAL[\"N_JOBS\"])\n",
    "with ProcessPoolExecutor(max_workers=1) as executor:\n",
    "    tasks = {\n",
    "        executor.submit(corr_single, data.loc[gene0], data.loc[gene1]): (\n",
    "            gene0,\n",
    "            gene1,\n",
    "            k,\n",
    "        )\n",
    "        for k, v in gene_pair_samples.items()\n",
    "        for gene0, gene1 in gene_pair_samples[k].index\n",
    "    }\n",
    "\n",
    "    for t_idx, t in tqdm(enumerate(as_completed(tasks)), total=len(tasks), ncols=100):\n",
    "        gene0, gene1, k = tasks[t]\n",
    "        ccc_val, ccc_pval, p_val, p_pval, s_val, s_pval = t.result()\n",
    "\n",
    "        results.append(\n",
    "            {\n",
    "                \"gene0\": gene0,\n",
    "                \"gene1\": gene1,\n",
    "                \"group\": k,\n",
    "                \"ccc\": ccc_val,\n",
    "                \"ccc_pvalue\": ccc_pval,\n",
    "                \"pearson\": p_val,\n",
    "                \"pearson_pvalue\": p_pval,\n",
    "                \"spearman\": s_val,\n",
    "                \"spearman_pvalue\": s_pval,\n",
    "            }\n",
    "        )\n",
    "\n",
    "        # save\n",
    "        _df = pd.DataFrame(results)\n",
    "        _df[\"group\"] = _df[\"group\"].astype(\"category\")\n",
    "        _df.to_pickle(output_file)"
   ]
  },
  {
   "cell_type": "code",
   "execution_count": null,
   "id": "6f32ad1a-3b2f-4e08-8a53-35cfb68e3970",
   "metadata": {
    "papermill": {
     "duration": 0.005138,
     "end_time": "2023-09-13T03:38:36.179138",
     "exception": false,
     "start_time": "2023-09-13T03:38:36.174000",
     "status": "completed"
    },
    "tags": []
   },
   "outputs": [],
   "source": [
    "len(results)"
   ]
  },
  {
   "cell_type": "code",
   "execution_count": null,
   "id": "e68a65a5-8bba-4a79-a740-26d722dc670e",
   "metadata": {
    "papermill": {
     "duration": 0.005853,
     "end_time": "2023-09-13T03:38:36.187014",
     "exception": false,
     "start_time": "2023-09-13T03:38:36.181161",
     "status": "completed"
    },
    "tags": []
   },
   "outputs": [],
   "source": [
    "results_df = pd.DataFrame(results)\n",
    "results_df[\"group\"] = results_df[\"group\"].astype(\"category\")"
   ]
  },
  {
   "cell_type": "code",
   "execution_count": null,
   "id": "9514ebb1-f1c1-46d9-96b6-a2264e3a6b4b",
   "metadata": {
    "papermill": {
     "duration": 0.004782,
     "end_time": "2023-09-13T03:38:36.194305",
     "exception": false,
     "start_time": "2023-09-13T03:38:36.189523",
     "status": "completed"
    },
    "tags": []
   },
   "outputs": [],
   "source": [
    "results_df.shape"
   ]
  },
  {
   "cell_type": "code",
   "execution_count": null,
   "id": "6110dd19-95e0-4400-847a-424a498fa63d",
   "metadata": {
    "papermill": {
     "duration": 0.007371,
     "end_time": "2023-09-13T03:38:36.203668",
     "exception": false,
     "start_time": "2023-09-13T03:38:36.196297",
     "status": "completed"
    },
    "tags": []
   },
   "outputs": [],
   "source": [
    "results_df.head()"
   ]
  },
  {
   "cell_type": "markdown",
   "id": "c15b6534-bd10-4091-a33d-e924a883cd93",
   "metadata": {
    "papermill": {
     "duration": 0.00205,
     "end_time": "2023-09-13T03:38:36.207787",
     "exception": false,
     "start_time": "2023-09-13T03:38:36.205737",
     "status": "completed"
    },
    "tags": []
   },
   "source": [
    "# Save"
   ]
  },
  {
   "cell_type": "code",
   "execution_count": null,
   "id": "bb8e28d4-3adf-4d6a-a94e-81b6763ebd61",
   "metadata": {
    "papermill": {
     "duration": 0.004663,
     "end_time": "2023-09-13T03:38:36.214516",
     "exception": false,
     "start_time": "2023-09-13T03:38:36.209853",
     "status": "completed"
    },
    "tags": []
   },
   "outputs": [],
   "source": [
    "results_df.to_pickle(output_file)"
   ]
  },
  {
   "cell_type": "code",
   "execution_count": null,
   "id": "46cff789-6c90-42c5-9328-21ee7bd70851",
   "metadata": {
    "papermill": {
     "duration": 0.001986,
     "end_time": "2023-09-13T03:38:36.218608",
     "exception": false,
     "start_time": "2023-09-13T03:38:36.216622",
     "status": "completed"
    },
    "tags": []
   },
   "outputs": [],
   "source": []
  }
 ],
 "metadata": {
  "jupytext": {
   "cell_metadata_filter": "all,-execution,-papermill,-trusted",
   "notebook_metadata_filter": "-jupytext.text_representation.jupytext_version",
   "text_representation": {
    "extension": ".py",
    "format_name": "percent",
    "format_version": "1.3"
   }
  },
  "kernelspec": {
   "display_name": "Python 3 (ipykernel)",
   "language": "python",
   "name": "python3"
  },
  "language_info": {
   "codemirror_mode": {
    "name": "ipython",
    "version": 3
   },
   "file_extension": ".py",
   "mimetype": "text/x-python",
   "name": "python",
   "nbconvert_exporter": "python",
   "pygments_lexer": "ipython3",
   "version": "3.9.12"
  },
  "papermill": {
   "default_parameters": {},
   "duration": 16727.73576,
   "end_time": "2023-09-13T03:38:36.448016",
   "environment_variables": {},
   "exception": null,
   "input_path": "nbs/25_pvalue/15-compute_pvalues_from_samples.ipynb",
   "output_path": "nbs/25_pvalue/15-compute_pvalues_from_samples.run.ipynb",
   "parameters": {},
   "start_time": "2023-09-12T22:59:48.712256",
   "version": "2.3.4"
  }
 },
 "nbformat": 4,
 "nbformat_minor": 5
}
