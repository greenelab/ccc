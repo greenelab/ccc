{
 "cells": [
  {
   "cell_type": "markdown",
   "id": "ec52faa3-656f-483e-9617-d7ec0f7d818c",
   "metadata": {
    "papermill": {
     "duration": 0.008923,
     "end_time": "2023-09-14T17:35:50.188411",
     "exception": false,
     "start_time": "2023-09-14T17:35:50.179488",
     "status": "completed"
    },
    "tags": []
   },
   "source": [
    "# Description"
   ]
  },
  {
   "cell_type": "markdown",
   "id": "51102f42-fcd9-4a58-9c8d-dfcd3d2d464e",
   "metadata": {
    "papermill": {
     "duration": 0.005161,
     "end_time": "2023-09-14T17:35:50.203422",
     "exception": false,
     "start_time": "2023-09-14T17:35:50.198261",
     "status": "completed"
    },
    "tags": []
   },
   "source": [
    "Reads the gene pair samples across different categories and computes their p-values."
   ]
  },
  {
   "cell_type": "markdown",
   "id": "7006ceeb-2651-407d-bfa1-1039727649ef",
   "metadata": {
    "papermill": {
     "duration": 0.002463,
     "end_time": "2023-09-14T17:35:50.209711",
     "exception": false,
     "start_time": "2023-09-14T17:35:50.207248",
     "status": "completed"
    },
    "tags": []
   },
   "source": [
    "# Modules loading"
   ]
  },
  {
   "cell_type": "code",
   "execution_count": 1,
   "id": "1ffa1a96-7545-40b9-ac8b-8627e13de8d4",
   "metadata": {
    "execution": {
     "iopub.execute_input": "2023-09-14T17:35:50.214042Z",
     "iopub.status.busy": "2023-09-14T17:35:50.213900Z",
     "iopub.status.idle": "2023-09-14T17:35:50.639223Z",
     "shell.execute_reply": "2023-09-14T17:35:50.638932Z"
    },
    "papermill": {
     "duration": 0.428527,
     "end_time": "2023-09-14T17:35:50.640231",
     "exception": false,
     "start_time": "2023-09-14T17:35:50.211704",
     "status": "completed"
    },
    "tags": []
   },
   "outputs": [],
   "source": [
    "import numpy as np\n",
    "import matplotlib.pyplot as plt\n",
    "import seaborn as sns\n",
    "from scipy import stats\n",
    "import numpy as np\n",
    "import pandas as pd\n",
    "from concurrent.futures import as_completed, ProcessPoolExecutor\n",
    "from tqdm import tqdm\n",
    "\n",
    "from ccc.coef import ccc\n",
    "from ccc import conf"
   ]
  },
  {
   "cell_type": "markdown",
   "id": "0d3cc810-4b17-4213-8f03-6fe7e97a0fe3",
   "metadata": {
    "papermill": {
     "duration": 0.009617,
     "end_time": "2023-09-14T17:35:50.651854",
     "exception": false,
     "start_time": "2023-09-14T17:35:50.642237",
     "status": "completed"
    },
    "tags": []
   },
   "source": [
    "# Settings"
   ]
  },
  {
   "cell_type": "code",
   "execution_count": 2,
   "id": "9a154623-c787-4a31-871a-cad173f0eb9f",
   "metadata": {
    "execution": {
     "iopub.execute_input": "2023-09-14T17:35:50.656560Z",
     "iopub.status.busy": "2023-09-14T17:35:50.656486Z",
     "iopub.status.idle": "2023-09-14T17:35:50.658428Z",
     "shell.execute_reply": "2023-09-14T17:35:50.658232Z"
    },
    "papermill": {
     "duration": 0.004668,
     "end_time": "2023-09-14T17:35:50.659004",
     "exception": false,
     "start_time": "2023-09-14T17:35:50.654336",
     "status": "completed"
    },
    "tags": []
   },
   "outputs": [],
   "source": [
    "DATASET_CONFIG = conf.GTEX\n",
    "GTEX_TISSUE = \"whole_blood\"\n",
    "GENE_SEL_STRATEGY = \"var_pc_log2\"\n",
    "\n",
    "PVALUE_N_PERMS = 1000000\n",
    "\n",
    "RANDOM_STATE = np.random.RandomState(0)"
   ]
  },
  {
   "cell_type": "markdown",
   "id": "5b09ff83-5377-49a9-b24b-65c6c90277d6",
   "metadata": {
    "papermill": {
     "duration": 0.002553,
     "end_time": "2023-09-14T17:35:50.663790",
     "exception": false,
     "start_time": "2023-09-14T17:35:50.661237",
     "status": "completed"
    },
    "tags": []
   },
   "source": [
    "# Paths"
   ]
  },
  {
   "cell_type": "code",
   "execution_count": 3,
   "id": "c6f73068-fa38-44be-bd0c-708f6ff450ea",
   "metadata": {
    "execution": {
     "iopub.execute_input": "2023-09-14T17:35:50.668248Z",
     "iopub.status.busy": "2023-09-14T17:35:50.668175Z",
     "iopub.status.idle": "2023-09-14T17:35:50.670489Z",
     "shell.execute_reply": "2023-09-14T17:35:50.670358Z"
    },
    "papermill": {
     "duration": 0.005019,
     "end_time": "2023-09-14T17:35:50.671008",
     "exception": false,
     "start_time": "2023-09-14T17:35:50.665989",
     "status": "completed"
    },
    "tags": []
   },
   "outputs": [
    {
     "data": {
      "text/plain": [
       "PosixPath('/opt/data/results/gtex_v8/gene_selection/gtex_v8_data_whole_blood-var_pc_log2.pkl')"
      ]
     },
     "metadata": {},
     "output_type": "display_data"
    }
   ],
   "source": [
    "INPUT_GENE_EXPR_FILE = (\n",
    "    DATASET_CONFIG[\"GENE_SELECTION_DIR\"]\n",
    "    / f\"gtex_v8_data_{GTEX_TISSUE}-{GENE_SEL_STRATEGY}.pkl\"\n",
    ")\n",
    "display(INPUT_GENE_EXPR_FILE)\n",
    "\n",
    "assert INPUT_GENE_EXPR_FILE.exists()"
   ]
  },
  {
   "cell_type": "code",
   "execution_count": 4,
   "id": "30cce6f5-ca1b-438c-859d-31903a42d4c6",
   "metadata": {
    "execution": {
     "iopub.execute_input": "2023-09-14T17:35:50.674955Z",
     "iopub.status.busy": "2023-09-14T17:35:50.674834Z",
     "iopub.status.idle": "2023-09-14T17:35:50.676510Z",
     "shell.execute_reply": "2023-09-14T17:35:50.676385Z"
    },
    "papermill": {
     "duration": 0.004205,
     "end_time": "2023-09-14T17:35:50.676975",
     "exception": false,
     "start_time": "2023-09-14T17:35:50.672770",
     "status": "completed"
    },
    "tags": []
   },
   "outputs": [
    {
     "data": {
      "text/plain": [
       "PosixPath('/opt/data/results/gtex_v8/gene_pair_intersections/gene_pair_intersections-gtex_v8-whole_blood-var_pc_log2.pkl')"
      ]
     },
     "metadata": {},
     "output_type": "display_data"
    }
   ],
   "source": [
    "INPUT_GENE_PAIRS_INTERSECTIONS_FILE = (\n",
    "    DATASET_CONFIG[\"GENE_PAIR_INTERSECTIONS\"]\n",
    "    / f\"gene_pair_intersections-gtex_v8-{GTEX_TISSUE}-{GENE_SEL_STRATEGY}.pkl\"\n",
    ")\n",
    "display(INPUT_GENE_PAIRS_INTERSECTIONS_FILE)\n",
    "\n",
    "assert INPUT_GENE_PAIRS_INTERSECTIONS_FILE.exists()"
   ]
  },
  {
   "cell_type": "code",
   "execution_count": 5,
   "id": "0122253c-99c0-41e2-8807-60df86bf0619",
   "metadata": {
    "execution": {
     "iopub.execute_input": "2023-09-14T17:35:50.680866Z",
     "iopub.status.busy": "2023-09-14T17:35:50.680777Z",
     "iopub.status.idle": "2023-09-14T17:35:50.682096Z",
     "shell.execute_reply": "2023-09-14T17:35:50.681937Z"
    },
    "papermill": {
     "duration": 0.003825,
     "end_time": "2023-09-14T17:35:50.682586",
     "exception": false,
     "start_time": "2023-09-14T17:35:50.678761",
     "status": "completed"
    },
    "tags": []
   },
   "outputs": [],
   "source": [
    "OUTPUT_DIR = DATASET_CONFIG[\"GENE_PAIR_INTERSECTIONS\"] / \"pvalues\"\n",
    "OUTPUT_DIR.mkdir(parents=True, exist_ok=True)"
   ]
  },
  {
   "cell_type": "code",
   "execution_count": 6,
   "id": "3003ed2c-5da0-43b9-969d-9cf037d05730",
   "metadata": {
    "execution": {
     "iopub.execute_input": "2023-09-14T17:35:50.687089Z",
     "iopub.status.busy": "2023-09-14T17:35:50.686993Z",
     "iopub.status.idle": "2023-09-14T17:35:50.688529Z",
     "shell.execute_reply": "2023-09-14T17:35:50.688405Z"
    },
    "papermill": {
     "duration": 0.003988,
     "end_time": "2023-09-14T17:35:50.688966",
     "exception": false,
     "start_time": "2023-09-14T17:35:50.684978",
     "status": "completed"
    },
    "tags": []
   },
   "outputs": [
    {
     "data": {
      "text/plain": [
       "PosixPath('/opt/data/results/gtex_v8/gene_pair_intersections/pvalues')"
      ]
     },
     "execution_count": 6,
     "metadata": {},
     "output_type": "execute_result"
    }
   ],
   "source": [
    "OUTPUT_DIR"
   ]
  },
  {
   "cell_type": "markdown",
   "id": "3d014f0c-d442-48ab-add8-ac338ad15b27",
   "metadata": {
    "papermill": {
     "duration": 0.001789,
     "end_time": "2023-09-14T17:35:50.692614",
     "exception": false,
     "start_time": "2023-09-14T17:35:50.690825",
     "status": "completed"
    },
    "tags": []
   },
   "source": [
    "# Load gene expression data"
   ]
  },
  {
   "cell_type": "code",
   "execution_count": 7,
   "id": "6e8ef201-6f98-4fb6-a306-180ed4b467db",
   "metadata": {
    "execution": {
     "iopub.execute_input": "2023-09-14T17:35:50.696704Z",
     "iopub.status.busy": "2023-09-14T17:35:50.696580Z",
     "iopub.status.idle": "2023-09-14T17:35:50.717354Z",
     "shell.execute_reply": "2023-09-14T17:35:50.717146Z"
    },
    "papermill": {
     "duration": 0.023677,
     "end_time": "2023-09-14T17:35:50.718170",
     "exception": false,
     "start_time": "2023-09-14T17:35:50.694493",
     "status": "completed"
    },
    "tags": []
   },
   "outputs": [],
   "source": [
    "data = pd.read_pickle(INPUT_GENE_EXPR_FILE).sort_index()"
   ]
  },
  {
   "cell_type": "code",
   "execution_count": 8,
   "id": "4d18e93e-b394-46bd-8d16-d9261a85ba06",
   "metadata": {
    "execution": {
     "iopub.execute_input": "2023-09-14T17:35:50.722531Z",
     "iopub.status.busy": "2023-09-14T17:35:50.722442Z",
     "iopub.status.idle": "2023-09-14T17:35:50.724229Z",
     "shell.execute_reply": "2023-09-14T17:35:50.724089Z"
    },
    "papermill": {
     "duration": 0.004518,
     "end_time": "2023-09-14T17:35:50.724776",
     "exception": false,
     "start_time": "2023-09-14T17:35:50.720258",
     "status": "completed"
    },
    "tags": []
   },
   "outputs": [
    {
     "data": {
      "text/plain": [
       "(5000, 755)"
      ]
     },
     "execution_count": 8,
     "metadata": {},
     "output_type": "execute_result"
    }
   ],
   "source": [
    "data.shape"
   ]
  },
  {
   "cell_type": "code",
   "execution_count": 9,
   "id": "ea8947b9-9064-43ec-bf10-6e6ae361c451",
   "metadata": {
    "execution": {
     "iopub.execute_input": "2023-09-14T17:35:50.728957Z",
     "iopub.status.busy": "2023-09-14T17:35:50.728870Z",
     "iopub.status.idle": "2023-09-14T17:35:50.736657Z",
     "shell.execute_reply": "2023-09-14T17:35:50.736525Z"
    },
    "papermill": {
     "duration": 0.010381,
     "end_time": "2023-09-14T17:35:50.737116",
     "exception": false,
     "start_time": "2023-09-14T17:35:50.726735",
     "status": "completed"
    },
    "tags": []
   },
   "outputs": [
    {
     "data": {
      "text/html": [
       "<div>\n",
       "<style scoped>\n",
       "    .dataframe tbody tr th:only-of-type {\n",
       "        vertical-align: middle;\n",
       "    }\n",
       "\n",
       "    .dataframe tbody tr th {\n",
       "        vertical-align: top;\n",
       "    }\n",
       "\n",
       "    .dataframe thead th {\n",
       "        text-align: right;\n",
       "    }\n",
       "</style>\n",
       "<table border=\"1\" class=\"dataframe\">\n",
       "  <thead>\n",
       "    <tr style=\"text-align: right;\">\n",
       "      <th></th>\n",
       "      <th>GTEX-111YS-0006-SM-5NQBE</th>\n",
       "      <th>GTEX-1122O-0005-SM-5O99J</th>\n",
       "      <th>GTEX-1128S-0005-SM-5P9HI</th>\n",
       "      <th>GTEX-113IC-0006-SM-5NQ9C</th>\n",
       "      <th>GTEX-113JC-0006-SM-5O997</th>\n",
       "      <th>GTEX-117XS-0005-SM-5PNU6</th>\n",
       "      <th>GTEX-117YW-0005-SM-5NQ8Z</th>\n",
       "      <th>GTEX-1192W-0005-SM-5NQBQ</th>\n",
       "      <th>GTEX-1192X-0005-SM-5NQC3</th>\n",
       "      <th>GTEX-11DXW-0006-SM-5NQ7Y</th>\n",
       "      <th>...</th>\n",
       "      <th>GTEX-ZVE2-0006-SM-51MRW</th>\n",
       "      <th>GTEX-ZVP2-0005-SM-51MRK</th>\n",
       "      <th>GTEX-ZVT2-0005-SM-57WBW</th>\n",
       "      <th>GTEX-ZVT3-0006-SM-51MT9</th>\n",
       "      <th>GTEX-ZVT4-0006-SM-57WB8</th>\n",
       "      <th>GTEX-ZVTK-0006-SM-57WBK</th>\n",
       "      <th>GTEX-ZVZP-0006-SM-51MSW</th>\n",
       "      <th>GTEX-ZVZQ-0006-SM-51MR8</th>\n",
       "      <th>GTEX-ZXES-0005-SM-57WCB</th>\n",
       "      <th>GTEX-ZXG5-0005-SM-57WCN</th>\n",
       "    </tr>\n",
       "    <tr>\n",
       "      <th>gene_ens_id</th>\n",
       "      <th></th>\n",
       "      <th></th>\n",
       "      <th></th>\n",
       "      <th></th>\n",
       "      <th></th>\n",
       "      <th></th>\n",
       "      <th></th>\n",
       "      <th></th>\n",
       "      <th></th>\n",
       "      <th></th>\n",
       "      <th></th>\n",
       "      <th></th>\n",
       "      <th></th>\n",
       "      <th></th>\n",
       "      <th></th>\n",
       "      <th></th>\n",
       "      <th></th>\n",
       "      <th></th>\n",
       "      <th></th>\n",
       "      <th></th>\n",
       "      <th></th>\n",
       "    </tr>\n",
       "  </thead>\n",
       "  <tbody>\n",
       "    <tr>\n",
       "      <th>ENSG00000000419.12</th>\n",
       "      <td>20.6500</td>\n",
       "      <td>25.050</td>\n",
       "      <td>7.155</td>\n",
       "      <td>49.130</td>\n",
       "      <td>6.147</td>\n",
       "      <td>4.1430</td>\n",
       "      <td>5.390</td>\n",
       "      <td>4.389</td>\n",
       "      <td>1.1580</td>\n",
       "      <td>6.8240</td>\n",
       "      <td>...</td>\n",
       "      <td>4.4070</td>\n",
       "      <td>32.340</td>\n",
       "      <td>18.6800</td>\n",
       "      <td>9.251</td>\n",
       "      <td>7.828</td>\n",
       "      <td>7.460</td>\n",
       "      <td>33.2400</td>\n",
       "      <td>5.8480</td>\n",
       "      <td>25.760</td>\n",
       "      <td>17.080</td>\n",
       "    </tr>\n",
       "    <tr>\n",
       "      <th>ENSG00000000938.12</th>\n",
       "      <td>906.0000</td>\n",
       "      <td>1344.000</td>\n",
       "      <td>633.500</td>\n",
       "      <td>719.200</td>\n",
       "      <td>392.600</td>\n",
       "      <td>166.5000</td>\n",
       "      <td>338.200</td>\n",
       "      <td>413.200</td>\n",
       "      <td>51.5400</td>\n",
       "      <td>423.6000</td>\n",
       "      <td>...</td>\n",
       "      <td>354.8000</td>\n",
       "      <td>1102.000</td>\n",
       "      <td>774.9000</td>\n",
       "      <td>206.000</td>\n",
       "      <td>620.400</td>\n",
       "      <td>346.300</td>\n",
       "      <td>1304.0000</td>\n",
       "      <td>232.9000</td>\n",
       "      <td>631.600</td>\n",
       "      <td>884.500</td>\n",
       "    </tr>\n",
       "    <tr>\n",
       "      <th>ENSG00000001167.14</th>\n",
       "      <td>8.1900</td>\n",
       "      <td>20.010</td>\n",
       "      <td>20.470</td>\n",
       "      <td>21.220</td>\n",
       "      <td>16.460</td>\n",
       "      <td>8.6190</td>\n",
       "      <td>18.220</td>\n",
       "      <td>16.580</td>\n",
       "      <td>1.6020</td>\n",
       "      <td>35.6800</td>\n",
       "      <td>...</td>\n",
       "      <td>11.3400</td>\n",
       "      <td>11.250</td>\n",
       "      <td>11.1800</td>\n",
       "      <td>9.523</td>\n",
       "      <td>41.860</td>\n",
       "      <td>24.580</td>\n",
       "      <td>8.8920</td>\n",
       "      <td>13.3900</td>\n",
       "      <td>13.470</td>\n",
       "      <td>42.640</td>\n",
       "    </tr>\n",
       "    <tr>\n",
       "      <th>ENSG00000001561.6</th>\n",
       "      <td>0.7104</td>\n",
       "      <td>1.771</td>\n",
       "      <td>2.234</td>\n",
       "      <td>6.014</td>\n",
       "      <td>3.206</td>\n",
       "      <td>0.3962</td>\n",
       "      <td>2.445</td>\n",
       "      <td>1.418</td>\n",
       "      <td>0.5531</td>\n",
       "      <td>0.7447</td>\n",
       "      <td>...</td>\n",
       "      <td>0.9269</td>\n",
       "      <td>2.555</td>\n",
       "      <td>0.5976</td>\n",
       "      <td>3.417</td>\n",
       "      <td>2.645</td>\n",
       "      <td>1.883</td>\n",
       "      <td>0.5391</td>\n",
       "      <td>0.9816</td>\n",
       "      <td>1.036</td>\n",
       "      <td>6.729</td>\n",
       "    </tr>\n",
       "    <tr>\n",
       "      <th>ENSG00000002549.12</th>\n",
       "      <td>22.5000</td>\n",
       "      <td>21.330</td>\n",
       "      <td>19.290</td>\n",
       "      <td>157.100</td>\n",
       "      <td>29.330</td>\n",
       "      <td>9.5770</td>\n",
       "      <td>14.170</td>\n",
       "      <td>23.330</td>\n",
       "      <td>1.4070</td>\n",
       "      <td>28.3000</td>\n",
       "      <td>...</td>\n",
       "      <td>4.4930</td>\n",
       "      <td>50.470</td>\n",
       "      <td>16.2100</td>\n",
       "      <td>32.740</td>\n",
       "      <td>18.150</td>\n",
       "      <td>11.920</td>\n",
       "      <td>20.1000</td>\n",
       "      <td>15.5500</td>\n",
       "      <td>11.980</td>\n",
       "      <td>35.370</td>\n",
       "    </tr>\n",
       "  </tbody>\n",
       "</table>\n",
       "<p>5 rows × 755 columns</p>\n",
       "</div>"
      ],
      "text/plain": [
       "                    GTEX-111YS-0006-SM-5NQBE  GTEX-1122O-0005-SM-5O99J  \\\n",
       "gene_ens_id                                                              \n",
       "ENSG00000000419.12                   20.6500                    25.050   \n",
       "ENSG00000000938.12                  906.0000                  1344.000   \n",
       "ENSG00000001167.14                    8.1900                    20.010   \n",
       "ENSG00000001561.6                     0.7104                     1.771   \n",
       "ENSG00000002549.12                   22.5000                    21.330   \n",
       "\n",
       "                    GTEX-1128S-0005-SM-5P9HI  GTEX-113IC-0006-SM-5NQ9C  \\\n",
       "gene_ens_id                                                              \n",
       "ENSG00000000419.12                     7.155                    49.130   \n",
       "ENSG00000000938.12                   633.500                   719.200   \n",
       "ENSG00000001167.14                    20.470                    21.220   \n",
       "ENSG00000001561.6                      2.234                     6.014   \n",
       "ENSG00000002549.12                    19.290                   157.100   \n",
       "\n",
       "                    GTEX-113JC-0006-SM-5O997  GTEX-117XS-0005-SM-5PNU6  \\\n",
       "gene_ens_id                                                              \n",
       "ENSG00000000419.12                     6.147                    4.1430   \n",
       "ENSG00000000938.12                   392.600                  166.5000   \n",
       "ENSG00000001167.14                    16.460                    8.6190   \n",
       "ENSG00000001561.6                      3.206                    0.3962   \n",
       "ENSG00000002549.12                    29.330                    9.5770   \n",
       "\n",
       "                    GTEX-117YW-0005-SM-5NQ8Z  GTEX-1192W-0005-SM-5NQBQ  \\\n",
       "gene_ens_id                                                              \n",
       "ENSG00000000419.12                     5.390                     4.389   \n",
       "ENSG00000000938.12                   338.200                   413.200   \n",
       "ENSG00000001167.14                    18.220                    16.580   \n",
       "ENSG00000001561.6                      2.445                     1.418   \n",
       "ENSG00000002549.12                    14.170                    23.330   \n",
       "\n",
       "                    GTEX-1192X-0005-SM-5NQC3  GTEX-11DXW-0006-SM-5NQ7Y  ...  \\\n",
       "gene_ens_id                                                             ...   \n",
       "ENSG00000000419.12                    1.1580                    6.8240  ...   \n",
       "ENSG00000000938.12                   51.5400                  423.6000  ...   \n",
       "ENSG00000001167.14                    1.6020                   35.6800  ...   \n",
       "ENSG00000001561.6                     0.5531                    0.7447  ...   \n",
       "ENSG00000002549.12                    1.4070                   28.3000  ...   \n",
       "\n",
       "                    GTEX-ZVE2-0006-SM-51MRW  GTEX-ZVP2-0005-SM-51MRK  \\\n",
       "gene_ens_id                                                            \n",
       "ENSG00000000419.12                   4.4070                   32.340   \n",
       "ENSG00000000938.12                 354.8000                 1102.000   \n",
       "ENSG00000001167.14                  11.3400                   11.250   \n",
       "ENSG00000001561.6                    0.9269                    2.555   \n",
       "ENSG00000002549.12                   4.4930                   50.470   \n",
       "\n",
       "                    GTEX-ZVT2-0005-SM-57WBW  GTEX-ZVT3-0006-SM-51MT9  \\\n",
       "gene_ens_id                                                            \n",
       "ENSG00000000419.12                  18.6800                    9.251   \n",
       "ENSG00000000938.12                 774.9000                  206.000   \n",
       "ENSG00000001167.14                  11.1800                    9.523   \n",
       "ENSG00000001561.6                    0.5976                    3.417   \n",
       "ENSG00000002549.12                  16.2100                   32.740   \n",
       "\n",
       "                    GTEX-ZVT4-0006-SM-57WB8  GTEX-ZVTK-0006-SM-57WBK  \\\n",
       "gene_ens_id                                                            \n",
       "ENSG00000000419.12                    7.828                    7.460   \n",
       "ENSG00000000938.12                  620.400                  346.300   \n",
       "ENSG00000001167.14                   41.860                   24.580   \n",
       "ENSG00000001561.6                     2.645                    1.883   \n",
       "ENSG00000002549.12                   18.150                   11.920   \n",
       "\n",
       "                    GTEX-ZVZP-0006-SM-51MSW  GTEX-ZVZQ-0006-SM-51MR8  \\\n",
       "gene_ens_id                                                            \n",
       "ENSG00000000419.12                  33.2400                   5.8480   \n",
       "ENSG00000000938.12                1304.0000                 232.9000   \n",
       "ENSG00000001167.14                   8.8920                  13.3900   \n",
       "ENSG00000001561.6                    0.5391                   0.9816   \n",
       "ENSG00000002549.12                  20.1000                  15.5500   \n",
       "\n",
       "                    GTEX-ZXES-0005-SM-57WCB  GTEX-ZXG5-0005-SM-57WCN  \n",
       "gene_ens_id                                                           \n",
       "ENSG00000000419.12                   25.760                   17.080  \n",
       "ENSG00000000938.12                  631.600                  884.500  \n",
       "ENSG00000001167.14                   13.470                   42.640  \n",
       "ENSG00000001561.6                     1.036                    6.729  \n",
       "ENSG00000002549.12                   11.980                   35.370  \n",
       "\n",
       "[5 rows x 755 columns]"
      ]
     },
     "execution_count": 9,
     "metadata": {},
     "output_type": "execute_result"
    }
   ],
   "source": [
    "data.head()"
   ]
  },
  {
   "cell_type": "markdown",
   "id": "5414e2d4-b4c5-48d9-9dd4-d9ff1585f341",
   "metadata": {
    "papermill": {
     "duration": 0.001857,
     "end_time": "2023-09-14T17:35:50.740925",
     "exception": false,
     "start_time": "2023-09-14T17:35:50.739068",
     "status": "completed"
    },
    "tags": []
   },
   "source": [
    "# Load gene pairs samples"
   ]
  },
  {
   "cell_type": "code",
   "execution_count": 10,
   "id": "178a09a8-1a2e-425a-8a52-773f41c72633",
   "metadata": {
    "execution": {
     "iopub.execute_input": "2023-09-14T17:35:50.745105Z",
     "iopub.status.busy": "2023-09-14T17:35:50.745021Z",
     "iopub.status.idle": "2023-09-14T17:35:50.746232Z",
     "shell.execute_reply": "2023-09-14T17:35:50.746093Z"
    },
    "papermill": {
     "duration": 0.003886,
     "end_time": "2023-09-14T17:35:50.746808",
     "exception": false,
     "start_time": "2023-09-14T17:35:50.742922",
     "status": "completed"
    },
    "tags": []
   },
   "outputs": [],
   "source": [
    "output_file = OUTPUT_DIR / \"gene_pair-samples.pkl\""
   ]
  },
  {
   "cell_type": "code",
   "execution_count": 11,
   "id": "c42a9f4c-3672-4ab0-b9ff-c214eb40cd2f",
   "metadata": {
    "execution": {
     "iopub.execute_input": "2023-09-14T17:35:50.751129Z",
     "iopub.status.busy": "2023-09-14T17:35:50.751059Z",
     "iopub.status.idle": "2023-09-14T17:35:50.767014Z",
     "shell.execute_reply": "2023-09-14T17:35:50.766851Z"
    },
    "papermill": {
     "duration": 0.018666,
     "end_time": "2023-09-14T17:35:50.767485",
     "exception": false,
     "start_time": "2023-09-14T17:35:50.748819",
     "status": "completed"
    },
    "tags": []
   },
   "outputs": [],
   "source": [
    "gene_pair_samples = pd.read_pickle(output_file)"
   ]
  },
  {
   "cell_type": "code",
   "execution_count": 12,
   "id": "1724d63c-19eb-49a8-83fc-6c8b07585e98",
   "metadata": {
    "execution": {
     "iopub.execute_input": "2023-09-14T17:35:50.771931Z",
     "iopub.status.busy": "2023-09-14T17:35:50.771806Z",
     "iopub.status.idle": "2023-09-14T17:35:50.773455Z",
     "shell.execute_reply": "2023-09-14T17:35:50.773324Z"
    },
    "papermill": {
     "duration": 0.004293,
     "end_time": "2023-09-14T17:35:50.773859",
     "exception": false,
     "start_time": "2023-09-14T17:35:50.769566",
     "status": "completed"
    },
    "tags": []
   },
   "outputs": [
    {
     "data": {
      "text/plain": [
       "30"
      ]
     },
     "execution_count": 12,
     "metadata": {},
     "output_type": "execute_result"
    }
   ],
   "source": [
    "len(gene_pair_samples)"
   ]
  },
  {
   "cell_type": "code",
   "execution_count": 13,
   "id": "99f5098f-aa01-471b-a6a2-5aabc332176b",
   "metadata": {
    "execution": {
     "iopub.execute_input": "2023-09-14T17:35:50.778258Z",
     "iopub.status.busy": "2023-09-14T17:35:50.778140Z",
     "iopub.status.idle": "2023-09-14T17:35:50.779833Z",
     "shell.execute_reply": "2023-09-14T17:35:50.779696Z"
    },
    "papermill": {
     "duration": 0.004448,
     "end_time": "2023-09-14T17:35:50.780291",
     "exception": false,
     "start_time": "2023-09-14T17:35:50.775843",
     "status": "completed"
    },
    "tags": []
   },
   "outputs": [
    {
     "data": {
      "text/plain": [
       "['all_high-random',\n",
       " 'all_high-top_ccc',\n",
       " 'all_high-top_pearson',\n",
       " 'all_high-top_spearman',\n",
       " 'all_low-random',\n",
       " 'all_low-top_ccc',\n",
       " 'all_low-top_pearson',\n",
       " 'all_low-top_spearman',\n",
       " 'ccc_high_and_pearson_low-random',\n",
       " 'ccc_high_and_pearson_low-top_ccc',\n",
       " 'ccc_high_and_pearson_low-top_pearson',\n",
       " 'ccc_high_and_pearson_low-top_spearman',\n",
       " 'ccc_high_and_spearman_low-top_ccc',\n",
       " 'ccc_high_and_spearman_low-top_pearson',\n",
       " 'ccc_high_and_spearman_low-top_spearman',\n",
       " 'ccc_high_and_spearman_pearson_low-top_ccc',\n",
       " 'ccc_high_and_spearman_pearson_low-top_pearson',\n",
       " 'ccc_high_and_spearman_pearson_low-top_spearman',\n",
       " 'ccc_spearman_high_and_pearson_low-random',\n",
       " 'ccc_spearman_high_and_pearson_low-top_ccc',\n",
       " 'ccc_spearman_high_and_pearson_low-top_pearson',\n",
       " 'ccc_spearman_high_and_pearson_low-top_spearman',\n",
       " 'entire_dataset-random',\n",
       " 'pearson_high_and_ccc_low-top_ccc',\n",
       " 'pearson_high_and_ccc_low-top_pearson',\n",
       " 'pearson_high_and_ccc_low-top_spearman',\n",
       " 'pearson_high_and_ccc_spearman_low-top_ccc',\n",
       " 'pearson_high_and_ccc_spearman_low-top_pearson',\n",
       " 'pearson_high_and_ccc_spearman_low-top_spearman',\n",
       " 'selected_in_manuscript']"
      ]
     },
     "execution_count": 13,
     "metadata": {},
     "output_type": "execute_result"
    }
   ],
   "source": [
    "sorted(gene_pair_samples.keys())"
   ]
  },
  {
   "cell_type": "code",
   "execution_count": 14,
   "id": "c60378f6-3f87-49d4-8b86-cf3ec30fc545",
   "metadata": {
    "execution": {
     "iopub.execute_input": "2023-09-14T17:35:50.784646Z",
     "iopub.status.busy": "2023-09-14T17:35:50.784543Z",
     "iopub.status.idle": "2023-09-14T17:35:50.788569Z",
     "shell.execute_reply": "2023-09-14T17:35:50.788442Z"
    },
    "papermill": {
     "duration": 0.006718,
     "end_time": "2023-09-14T17:35:50.789045",
     "exception": false,
     "start_time": "2023-09-14T17:35:50.782327",
     "status": "completed"
    },
    "tags": []
   },
   "outputs": [
    {
     "data": {
      "text/html": [
       "<div>\n",
       "<style scoped>\n",
       "    .dataframe tbody tr th:only-of-type {\n",
       "        vertical-align: middle;\n",
       "    }\n",
       "\n",
       "    .dataframe tbody tr th {\n",
       "        vertical-align: top;\n",
       "    }\n",
       "\n",
       "    .dataframe thead th {\n",
       "        text-align: right;\n",
       "    }\n",
       "</style>\n",
       "<table border=\"1\" class=\"dataframe\">\n",
       "  <thead>\n",
       "    <tr style=\"text-align: right;\">\n",
       "      <th></th>\n",
       "      <th></th>\n",
       "      <th>Pearson (high)</th>\n",
       "      <th>Pearson (low)</th>\n",
       "      <th>Spearman (high)</th>\n",
       "      <th>Spearman (low)</th>\n",
       "      <th>Clustermatch (high)</th>\n",
       "      <th>Clustermatch (low)</th>\n",
       "      <th>ccc</th>\n",
       "      <th>pearson</th>\n",
       "      <th>spearman</th>\n",
       "    </tr>\n",
       "  </thead>\n",
       "  <tbody>\n",
       "    <tr>\n",
       "      <th>ENSG00000277089.4</th>\n",
       "      <th>ENSG00000277632.1</th>\n",
       "      <td>True</td>\n",
       "      <td>False</td>\n",
       "      <td>True</td>\n",
       "      <td>False</td>\n",
       "      <td>True</td>\n",
       "      <td>False</td>\n",
       "      <td>0.916918</td>\n",
       "      <td>0.916024</td>\n",
       "      <td>0.955427</td>\n",
       "    </tr>\n",
       "    <tr>\n",
       "      <th>ENSG00000171148.13</th>\n",
       "      <th>ENSG00000247596.8</th>\n",
       "      <td>True</td>\n",
       "      <td>False</td>\n",
       "      <td>True</td>\n",
       "      <td>False</td>\n",
       "      <td>True</td>\n",
       "      <td>False</td>\n",
       "      <td>0.896710</td>\n",
       "      <td>0.965141</td>\n",
       "      <td>0.973215</td>\n",
       "    </tr>\n",
       "    <tr>\n",
       "      <th>ENSG00000168298.6</th>\n",
       "      <th>ENSG00000124575.6</th>\n",
       "      <td>True</td>\n",
       "      <td>False</td>\n",
       "      <td>True</td>\n",
       "      <td>False</td>\n",
       "      <td>True</td>\n",
       "      <td>False</td>\n",
       "      <td>0.896710</td>\n",
       "      <td>0.869247</td>\n",
       "      <td>0.914341</td>\n",
       "    </tr>\n",
       "    <tr>\n",
       "      <th>ENSG00000125910.5</th>\n",
       "      <th>ENSG00000165879.8</th>\n",
       "      <td>True</td>\n",
       "      <td>False</td>\n",
       "      <td>True</td>\n",
       "      <td>False</td>\n",
       "      <td>True</td>\n",
       "      <td>False</td>\n",
       "      <td>0.886690</td>\n",
       "      <td>0.896396</td>\n",
       "      <td>0.940058</td>\n",
       "    </tr>\n",
       "    <tr>\n",
       "      <th>ENSG00000130772.13</th>\n",
       "      <th>ENSG00000163154.5</th>\n",
       "      <td>True</td>\n",
       "      <td>False</td>\n",
       "      <td>True</td>\n",
       "      <td>False</td>\n",
       "      <td>True</td>\n",
       "      <td>False</td>\n",
       "      <td>0.876726</td>\n",
       "      <td>0.945764</td>\n",
       "      <td>0.949664</td>\n",
       "    </tr>\n",
       "  </tbody>\n",
       "</table>\n",
       "</div>"
      ],
      "text/plain": [
       "                                      Pearson (high)  Pearson (low)  \\\n",
       "ENSG00000277089.4  ENSG00000277632.1            True          False   \n",
       "ENSG00000171148.13 ENSG00000247596.8            True          False   \n",
       "ENSG00000168298.6  ENSG00000124575.6            True          False   \n",
       "ENSG00000125910.5  ENSG00000165879.8            True          False   \n",
       "ENSG00000130772.13 ENSG00000163154.5            True          False   \n",
       "\n",
       "                                      Spearman (high)  Spearman (low)  \\\n",
       "ENSG00000277089.4  ENSG00000277632.1             True           False   \n",
       "ENSG00000171148.13 ENSG00000247596.8             True           False   \n",
       "ENSG00000168298.6  ENSG00000124575.6             True           False   \n",
       "ENSG00000125910.5  ENSG00000165879.8             True           False   \n",
       "ENSG00000130772.13 ENSG00000163154.5             True           False   \n",
       "\n",
       "                                      Clustermatch (high)  Clustermatch (low)  \\\n",
       "ENSG00000277089.4  ENSG00000277632.1                 True               False   \n",
       "ENSG00000171148.13 ENSG00000247596.8                 True               False   \n",
       "ENSG00000168298.6  ENSG00000124575.6                 True               False   \n",
       "ENSG00000125910.5  ENSG00000165879.8                 True               False   \n",
       "ENSG00000130772.13 ENSG00000163154.5                 True               False   \n",
       "\n",
       "                                           ccc   pearson  spearman  \n",
       "ENSG00000277089.4  ENSG00000277632.1  0.916918  0.916024  0.955427  \n",
       "ENSG00000171148.13 ENSG00000247596.8  0.896710  0.965141  0.973215  \n",
       "ENSG00000168298.6  ENSG00000124575.6  0.896710  0.869247  0.914341  \n",
       "ENSG00000125910.5  ENSG00000165879.8  0.886690  0.896396  0.940058  \n",
       "ENSG00000130772.13 ENSG00000163154.5  0.876726  0.945764  0.949664  "
      ]
     },
     "execution_count": 14,
     "metadata": {},
     "output_type": "execute_result"
    }
   ],
   "source": [
    "_k = list(gene_pair_samples.keys())[0]\n",
    "gene_pair_samples[_k].head()"
   ]
  },
  {
   "cell_type": "code",
   "execution_count": 15,
   "id": "6ccae66e-e276-43c3-809c-512aa0fe795b",
   "metadata": {
    "execution": {
     "iopub.execute_input": "2023-09-14T17:35:50.793615Z",
     "iopub.status.busy": "2023-09-14T17:35:50.793503Z",
     "iopub.status.idle": "2023-09-14T17:35:50.795360Z",
     "shell.execute_reply": "2023-09-14T17:35:50.795226Z"
    },
    "papermill": {
     "duration": 0.004626,
     "end_time": "2023-09-14T17:35:50.795825",
     "exception": false,
     "start_time": "2023-09-14T17:35:50.791199",
     "status": "completed"
    },
    "tags": []
   },
   "outputs": [
    {
     "data": {
      "text/plain": [
       "[('ENSG00000277089.4', 'ENSG00000277632.1'),\n",
       " ('ENSG00000171148.13', 'ENSG00000247596.8'),\n",
       " ('ENSG00000168298.6', 'ENSG00000124575.6'),\n",
       " ('ENSG00000125910.5', 'ENSG00000165879.8'),\n",
       " ('ENSG00000130772.13', 'ENSG00000163154.5'),\n",
       " ('ENSG00000147872.9', 'ENSG00000135245.9'),\n",
       " ('ENSG00000197561.6', 'ENSG00000172232.9'),\n",
       " ('ENSG00000235568.6', 'ENSG00000181631.6'),\n",
       " ('ENSG00000124216.3', 'ENSG00000113070.7'),\n",
       " ('ENSG00000146094.13', 'ENSG00000248996.1')]"
      ]
     },
     "execution_count": 15,
     "metadata": {},
     "output_type": "execute_result"
    }
   ],
   "source": [
    "[i for i in gene_pair_samples[_k].head(10).index]"
   ]
  },
  {
   "cell_type": "markdown",
   "id": "6402879c-e9a0-414b-b60b-9e4ed1e9e99e",
   "metadata": {
    "papermill": {
     "duration": 0.002073,
     "end_time": "2023-09-14T17:35:50.800018",
     "exception": false,
     "start_time": "2023-09-14T17:35:50.797945",
     "status": "completed"
    },
    "tags": []
   },
   "source": [
    "# Compute pvalues on sampled gene pairs"
   ]
  },
  {
   "cell_type": "code",
   "execution_count": 16,
   "id": "62d8632e-13e0-4a78-ad30-26770172d21e",
   "metadata": {
    "execution": {
     "iopub.execute_input": "2023-09-14T17:35:50.804538Z",
     "iopub.status.busy": "2023-09-14T17:35:50.804447Z",
     "iopub.status.idle": "2023-09-14T17:35:50.805677Z",
     "shell.execute_reply": "2023-09-14T17:35:50.805549Z"
    },
    "papermill": {
     "duration": 0.003979,
     "end_time": "2023-09-14T17:35:50.806125",
     "exception": false,
     "start_time": "2023-09-14T17:35:50.802146",
     "status": "completed"
    },
    "tags": []
   },
   "outputs": [],
   "source": [
    "output_file = OUTPUT_DIR / \"gene_pair-samples-pvalues.pkl\""
   ]
  },
  {
   "cell_type": "code",
   "execution_count": 17,
   "id": "c8a85ce0-4c5a-4ed9-8ad6-24b21fb10b1e",
   "metadata": {
    "execution": {
     "iopub.execute_input": "2023-09-14T17:35:50.810628Z",
     "iopub.status.busy": "2023-09-14T17:35:50.810512Z",
     "iopub.status.idle": "2023-09-14T17:35:50.812093Z",
     "shell.execute_reply": "2023-09-14T17:35:50.811955Z"
    },
    "papermill": {
     "duration": 0.004287,
     "end_time": "2023-09-14T17:35:50.812511",
     "exception": false,
     "start_time": "2023-09-14T17:35:50.808224",
     "status": "completed"
    },
    "tags": []
   },
   "outputs": [],
   "source": [
    "def corr_single(x, y):\n",
    "    ccc_val, ccc_pval = ccc(x, y, pvalue_n_perms=PVALUE_N_PERMS, n_jobs=1)\n",
    "    p_val, p_pval = stats.pearsonr(x, y)\n",
    "    s_val, s_pval = stats.spearmanr(x, y)\n",
    "\n",
    "    return ccc_val, ccc_pval, p_val, p_pval, s_val, s_pval"
   ]
  },
  {
   "cell_type": "code",
   "execution_count": 18,
   "id": "d9838801-1f01-4316-8e29-ffedbdc2a67a",
   "metadata": {
    "execution": {
     "iopub.execute_input": "2023-09-14T17:35:50.817148Z",
     "iopub.status.busy": "2023-09-14T17:35:50.817034Z",
     "iopub.status.idle": "2023-09-18T08:36:06.644816Z",
     "shell.execute_reply": "2023-09-18T08:36:06.644398Z"
    },
    "papermill": {
     "duration": 313215.984945,
     "end_time": "2023-09-18T08:36:06.799609",
     "exception": false,
     "start_time": "2023-09-14T17:35:50.814664",
     "status": "completed"
    },
    "tags": []
   },
   "outputs": [
    {
     "name": "stderr",
     "output_type": "stream",
     "text": [
      "100%|██████████████████████████████████████████████████████| 12116/12116 [87:00:13<00:00, 25.85s/it]\n"
     ]
    }
   ],
   "source": [
    "results = []\n",
    "\n",
    "# I leave the ProcessPoolExecutor here in case I want to easily swith between\n",
    "# parallelize across gene pairs (max_workers=conf.GENERAL[\"N_JOBS\"] and n_jobs=1 inside function corr_single)\n",
    "# or across permutations for one gene pair (max_workers=1 and n_jobs=conf.GENERAL[\"N_JOBS\"])\n",
    "with ProcessPoolExecutor(max_workers=conf.GENERAL[\"N_JOBS\"]) as executor:\n",
    "    tasks = {\n",
    "        executor.submit(corr_single, data.loc[gene0], data.loc[gene1]): (\n",
    "            gene0,\n",
    "            gene1,\n",
    "            k,\n",
    "        )\n",
    "        for k, v in gene_pair_samples.items()\n",
    "        for gene0, gene1 in gene_pair_samples[k].index\n",
    "    }\n",
    "\n",
    "    for t_idx, t in tqdm(enumerate(as_completed(tasks)), total=len(tasks), ncols=100):\n",
    "        gene0, gene1, k = tasks[t]\n",
    "        ccc_val, ccc_pval, p_val, p_pval, s_val, s_pval = t.result()\n",
    "\n",
    "        results.append(\n",
    "            {\n",
    "                \"gene0\": gene0,\n",
    "                \"gene1\": gene1,\n",
    "                \"group\": k,\n",
    "                \"ccc\": ccc_val,\n",
    "                \"ccc_pvalue\": ccc_pval,\n",
    "                \"pearson\": p_val,\n",
    "                \"pearson_pvalue\": p_pval,\n",
    "                \"spearman\": s_val,\n",
    "                \"spearman_pvalue\": s_pval,\n",
    "            }\n",
    "        )\n",
    "\n",
    "        # save\n",
    "        _df = pd.DataFrame(results)\n",
    "        _df[\"group\"] = _df[\"group\"].astype(\"category\")\n",
    "        _df.to_pickle(output_file)"
   ]
  },
  {
   "cell_type": "code",
   "execution_count": 19,
   "id": "6f32ad1a-3b2f-4e08-8a53-35cfb68e3970",
   "metadata": {
    "execution": {
     "iopub.execute_input": "2023-09-18T08:36:07.355647Z",
     "iopub.status.busy": "2023-09-18T08:36:07.355547Z",
     "iopub.status.idle": "2023-09-18T08:36:07.358439Z",
     "shell.execute_reply": "2023-09-18T08:36:07.358135Z"
    },
    "papermill": {
     "duration": 0.380657,
     "end_time": "2023-09-18T08:36:07.359037",
     "exception": false,
     "start_time": "2023-09-18T08:36:06.978380",
     "status": "completed"
    },
    "tags": []
   },
   "outputs": [
    {
     "data": {
      "text/plain": [
       "12116"
      ]
     },
     "execution_count": 19,
     "metadata": {},
     "output_type": "execute_result"
    }
   ],
   "source": [
    "len(results)"
   ]
  },
  {
   "cell_type": "code",
   "execution_count": 20,
   "id": "e68a65a5-8bba-4a79-a740-26d722dc670e",
   "metadata": {
    "execution": {
     "iopub.execute_input": "2023-09-18T08:36:07.720487Z",
     "iopub.status.busy": "2023-09-18T08:36:07.720082Z",
     "iopub.status.idle": "2023-09-18T08:36:07.731208Z",
     "shell.execute_reply": "2023-09-18T08:36:07.730970Z"
    },
    "papermill": {
     "duration": 0.19086,
     "end_time": "2023-09-18T08:36:07.731891",
     "exception": false,
     "start_time": "2023-09-18T08:36:07.541031",
     "status": "completed"
    },
    "tags": []
   },
   "outputs": [],
   "source": [
    "results_df = pd.DataFrame(results)\n",
    "results_df[\"group\"] = results_df[\"group\"].astype(\"category\")"
   ]
  },
  {
   "cell_type": "code",
   "execution_count": 21,
   "id": "9514ebb1-f1c1-46d9-96b6-a2264e3a6b4b",
   "metadata": {
    "execution": {
     "iopub.execute_input": "2023-09-18T08:36:08.093139Z",
     "iopub.status.busy": "2023-09-18T08:36:08.092909Z",
     "iopub.status.idle": "2023-09-18T08:36:08.095426Z",
     "shell.execute_reply": "2023-09-18T08:36:08.095237Z"
    },
    "papermill": {
     "duration": 0.18473,
     "end_time": "2023-09-18T08:36:08.096082",
     "exception": false,
     "start_time": "2023-09-18T08:36:07.911352",
     "status": "completed"
    },
    "tags": []
   },
   "outputs": [
    {
     "data": {
      "text/plain": [
       "(12116, 9)"
      ]
     },
     "execution_count": 21,
     "metadata": {},
     "output_type": "execute_result"
    }
   ],
   "source": [
    "results_df.shape"
   ]
  },
  {
   "cell_type": "code",
   "execution_count": 22,
   "id": "6110dd19-95e0-4400-847a-424a498fa63d",
   "metadata": {
    "execution": {
     "iopub.execute_input": "2023-09-18T08:36:08.457348Z",
     "iopub.status.busy": "2023-09-18T08:36:08.457207Z",
     "iopub.status.idle": "2023-09-18T08:36:08.462483Z",
     "shell.execute_reply": "2023-09-18T08:36:08.462283Z"
    },
    "papermill": {
     "duration": 0.186118,
     "end_time": "2023-09-18T08:36:08.463167",
     "exception": false,
     "start_time": "2023-09-18T08:36:08.277049",
     "status": "completed"
    },
    "tags": []
   },
   "outputs": [
    {
     "data": {
      "text/html": [
       "<div>\n",
       "<style scoped>\n",
       "    .dataframe tbody tr th:only-of-type {\n",
       "        vertical-align: middle;\n",
       "    }\n",
       "\n",
       "    .dataframe tbody tr th {\n",
       "        vertical-align: top;\n",
       "    }\n",
       "\n",
       "    .dataframe thead th {\n",
       "        text-align: right;\n",
       "    }\n",
       "</style>\n",
       "<table border=\"1\" class=\"dataframe\">\n",
       "  <thead>\n",
       "    <tr style=\"text-align: right;\">\n",
       "      <th></th>\n",
       "      <th>gene0</th>\n",
       "      <th>gene1</th>\n",
       "      <th>group</th>\n",
       "      <th>ccc</th>\n",
       "      <th>ccc_pvalue</th>\n",
       "      <th>pearson</th>\n",
       "      <th>pearson_pvalue</th>\n",
       "      <th>spearman</th>\n",
       "      <th>spearman_pvalue</th>\n",
       "    </tr>\n",
       "  </thead>\n",
       "  <tbody>\n",
       "    <tr>\n",
       "      <th>0</th>\n",
       "      <td>ENSG00000197324.8</td>\n",
       "      <td>ENSG00000171302.16</td>\n",
       "      <td>all_high-top_ccc</td>\n",
       "      <td>0.866819</td>\n",
       "      <td>9.999990e-07</td>\n",
       "      <td>0.958808</td>\n",
       "      <td>0.000000e+00</td>\n",
       "      <td>0.972106</td>\n",
       "      <td>0.000000e+00</td>\n",
       "    </tr>\n",
       "    <tr>\n",
       "      <th>1</th>\n",
       "      <td>ENSG00000197561.6</td>\n",
       "      <td>ENSG00000172232.9</td>\n",
       "      <td>all_high-top_ccc</td>\n",
       "      <td>0.876726</td>\n",
       "      <td>9.999990e-07</td>\n",
       "      <td>0.953421</td>\n",
       "      <td>0.000000e+00</td>\n",
       "      <td>0.978590</td>\n",
       "      <td>0.000000e+00</td>\n",
       "    </tr>\n",
       "    <tr>\n",
       "      <th>2</th>\n",
       "      <td>ENSG00000147872.9</td>\n",
       "      <td>ENSG00000135245.9</td>\n",
       "      <td>all_high-top_ccc</td>\n",
       "      <td>0.876726</td>\n",
       "      <td>9.999990e-07</td>\n",
       "      <td>0.849159</td>\n",
       "      <td>5.792244e-211</td>\n",
       "      <td>0.911077</td>\n",
       "      <td>5.115786e-292</td>\n",
       "    </tr>\n",
       "    <tr>\n",
       "      <th>3</th>\n",
       "      <td>ENSG00000235568.6</td>\n",
       "      <td>ENSG00000169403.11</td>\n",
       "      <td>all_high-top_ccc</td>\n",
       "      <td>0.866819</td>\n",
       "      <td>9.999990e-07</td>\n",
       "      <td>0.934582</td>\n",
       "      <td>0.000000e+00</td>\n",
       "      <td>0.951794</td>\n",
       "      <td>0.000000e+00</td>\n",
       "    </tr>\n",
       "    <tr>\n",
       "      <th>4</th>\n",
       "      <td>ENSG00000125910.5</td>\n",
       "      <td>ENSG00000165879.8</td>\n",
       "      <td>all_high-top_ccc</td>\n",
       "      <td>0.886690</td>\n",
       "      <td>9.999990e-07</td>\n",
       "      <td>0.896396</td>\n",
       "      <td>2.758126e-268</td>\n",
       "      <td>0.940058</td>\n",
       "      <td>0.000000e+00</td>\n",
       "    </tr>\n",
       "  </tbody>\n",
       "</table>\n",
       "</div>"
      ],
      "text/plain": [
       "               gene0               gene1             group       ccc  \\\n",
       "0  ENSG00000197324.8  ENSG00000171302.16  all_high-top_ccc  0.866819   \n",
       "1  ENSG00000197561.6   ENSG00000172232.9  all_high-top_ccc  0.876726   \n",
       "2  ENSG00000147872.9   ENSG00000135245.9  all_high-top_ccc  0.876726   \n",
       "3  ENSG00000235568.6  ENSG00000169403.11  all_high-top_ccc  0.866819   \n",
       "4  ENSG00000125910.5   ENSG00000165879.8  all_high-top_ccc  0.886690   \n",
       "\n",
       "     ccc_pvalue   pearson  pearson_pvalue  spearman  spearman_pvalue  \n",
       "0  9.999990e-07  0.958808    0.000000e+00  0.972106     0.000000e+00  \n",
       "1  9.999990e-07  0.953421    0.000000e+00  0.978590     0.000000e+00  \n",
       "2  9.999990e-07  0.849159   5.792244e-211  0.911077    5.115786e-292  \n",
       "3  9.999990e-07  0.934582    0.000000e+00  0.951794     0.000000e+00  \n",
       "4  9.999990e-07  0.896396   2.758126e-268  0.940058     0.000000e+00  "
      ]
     },
     "execution_count": 22,
     "metadata": {},
     "output_type": "execute_result"
    }
   ],
   "source": [
    "results_df.head()"
   ]
  },
  {
   "cell_type": "markdown",
   "id": "c15b6534-bd10-4091-a33d-e924a883cd93",
   "metadata": {
    "papermill": {
     "duration": 0.178319,
     "end_time": "2023-09-18T08:36:08.823966",
     "exception": false,
     "start_time": "2023-09-18T08:36:08.645647",
     "status": "completed"
    },
    "tags": []
   },
   "source": [
    "# Remove duplicated gene pairs"
   ]
  },
  {
   "cell_type": "markdown",
   "id": "ce70fca7-1f97-4362-a165-04b228576624",
   "metadata": {
    "papermill": {
     "duration": 0.178492,
     "end_time": "2023-09-18T08:36:09.183651",
     "exception": false,
     "start_time": "2023-09-18T08:36:09.005159",
     "status": "completed"
    },
    "tags": []
   },
   "source": [
    "This could happen when gene pairs overlap and are the top of different coefficients."
   ]
  },
  {
   "cell_type": "code",
   "execution_count": 23,
   "id": "bc3b8e5a-2685-4c9c-a1ca-3602cb0fba10",
   "metadata": {
    "execution": {
     "iopub.execute_input": "2023-09-18T08:36:09.543006Z",
     "iopub.status.busy": "2023-09-18T08:36:09.542913Z",
     "iopub.status.idle": "2023-09-18T08:36:09.544831Z",
     "shell.execute_reply": "2023-09-18T08:36:09.544546Z"
    },
    "papermill": {
     "duration": 0.181427,
     "end_time": "2023-09-18T08:36:09.545354",
     "exception": false,
     "start_time": "2023-09-18T08:36:09.363927",
     "status": "completed"
    },
    "tags": []
   },
   "outputs": [],
   "source": [
    "# results_df = results_df.drop_duplicates(subset=[\"gene0\", \"gene1\"])"
   ]
  },
  {
   "cell_type": "code",
   "execution_count": 24,
   "id": "6c64c47e-4d99-4a42-8ea7-9ec3c412d12e",
   "metadata": {
    "execution": {
     "iopub.execute_input": "2023-09-18T08:36:09.900299Z",
     "iopub.status.busy": "2023-09-18T08:36:09.900170Z",
     "iopub.status.idle": "2023-09-18T08:36:09.902231Z",
     "shell.execute_reply": "2023-09-18T08:36:09.901790Z"
    },
    "papermill": {
     "duration": 0.179064,
     "end_time": "2023-09-18T08:36:09.902921",
     "exception": false,
     "start_time": "2023-09-18T08:36:09.723857",
     "status": "completed"
    },
    "tags": []
   },
   "outputs": [],
   "source": [
    "# results.shape"
   ]
  },
  {
   "cell_type": "markdown",
   "id": "b5a5bb97-00c2-4228-9f3d-77920fe679db",
   "metadata": {
    "papermill": {
     "duration": 0.177579,
     "end_time": "2023-09-18T08:36:10.261213",
     "exception": false,
     "start_time": "2023-09-18T08:36:10.083634",
     "status": "completed"
    },
    "tags": []
   },
   "source": [
    "# Save"
   ]
  },
  {
   "cell_type": "code",
   "execution_count": 25,
   "id": "bb8e28d4-3adf-4d6a-a94e-81b6763ebd61",
   "metadata": {
    "execution": {
     "iopub.execute_input": "2023-09-18T08:36:10.623004Z",
     "iopub.status.busy": "2023-09-18T08:36:10.622853Z",
     "iopub.status.idle": "2023-09-18T08:36:10.626219Z",
     "shell.execute_reply": "2023-09-18T08:36:10.625945Z"
    },
    "papermill": {
     "duration": 0.185236,
     "end_time": "2023-09-18T08:36:10.626895",
     "exception": false,
     "start_time": "2023-09-18T08:36:10.441659",
     "status": "completed"
    },
    "tags": []
   },
   "outputs": [],
   "source": [
    "results_df.to_pickle(output_file)"
   ]
  },
  {
   "cell_type": "code",
   "execution_count": null,
   "id": "46cff789-6c90-42c5-9328-21ee7bd70851",
   "metadata": {
    "papermill": {
     "duration": 0.178413,
     "end_time": "2023-09-18T08:36:10.984241",
     "exception": false,
     "start_time": "2023-09-18T08:36:10.805828",
     "status": "completed"
    },
    "tags": []
   },
   "outputs": [],
   "source": []
  }
 ],
 "metadata": {
  "jupytext": {
   "cell_metadata_filter": "all,-execution,-papermill,-trusted",
   "notebook_metadata_filter": "-jupytext.text_representation.jupytext_version"
  },
  "kernelspec": {
   "display_name": "Python 3 (ipykernel)",
   "language": "python",
   "name": "python3"
  },
  "language_info": {
   "codemirror_mode": {
    "name": "ipython",
    "version": 3
   },
   "file_extension": ".py",
   "mimetype": "text/x-python",
   "name": "python",
   "nbconvert_exporter": "python",
   "pygments_lexer": "ipython3",
   "version": "3.9.12"
  },
  "papermill": {
   "default_parameters": {},
   "duration": 313222.097949,
   "end_time": "2023-09-18T08:36:11.610268",
   "environment_variables": {},
   "exception": null,
   "input_path": "nbs/25_pvalue/15-compute_pvalues_from_samples.ipynb",
   "output_path": "nbs/25_pvalue/15-compute_pvalues_from_samples.run.ipynb",
   "parameters": {},
   "start_time": "2023-09-14T17:35:49.512319",
   "version": "2.3.4"
  }
 },
 "nbformat": 4,
 "nbformat_minor": 5
}
