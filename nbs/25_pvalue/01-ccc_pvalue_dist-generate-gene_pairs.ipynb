{
 "cells": [
  {
   "cell_type": "markdown",
   "id": "ec52faa3-656f-483e-9617-d7ec0f7d818c",
   "metadata": {
    "papermill": {
     "duration": 0.0061,
     "end_time": "2023-09-11T11:15:08.181413",
     "exception": false,
     "start_time": "2023-09-11T11:15:08.175313",
     "status": "completed"
    },
    "tags": []
   },
   "source": [
    "# Description"
   ]
  },
  {
   "cell_type": "markdown",
   "id": "51102f42-fcd9-4a58-9c8d-dfcd3d2d464e",
   "metadata": {
    "papermill": {
     "duration": 0.0062,
     "end_time": "2023-09-11T11:15:08.197806",
     "exception": false,
     "start_time": "2023-09-11T11:15:08.191606",
     "status": "completed"
    },
    "tags": []
   },
   "source": [
    "Generates a distribution of pvalues under the null hypothesis of no association.\n",
    "\n",
    "This notebook uses individual gene pairs as input for CCC and parallelizes permutations."
   ]
  },
  {
   "cell_type": "markdown",
   "id": "7006ceeb-2651-407d-bfa1-1039727649ef",
   "metadata": {
    "papermill": {
     "duration": 0.005505,
     "end_time": "2023-09-11T11:15:08.208521",
     "exception": false,
     "start_time": "2023-09-11T11:15:08.203016",
     "status": "completed"
    },
    "tags": []
   },
   "source": [
    "# Modules loading"
   ]
  },
  {
   "cell_type": "code",
   "execution_count": 1,
   "id": "1ffa1a96-7545-40b9-ac8b-8627e13de8d4",
   "metadata": {
    "execution": {
     "iopub.execute_input": "2023-09-11T11:15:08.220170Z",
     "iopub.status.busy": "2023-09-11T11:15:08.219691Z",
     "iopub.status.idle": "2023-09-11T11:15:08.524394Z",
     "shell.execute_reply": "2023-09-11T11:15:08.523983Z"
    },
    "papermill": {
     "duration": 0.312154,
     "end_time": "2023-09-11T11:15:08.525859",
     "exception": false,
     "start_time": "2023-09-11T11:15:08.213705",
     "status": "completed"
    },
    "tags": []
   },
   "outputs": [],
   "source": [
    "import numpy as np\n",
    "from joblib import Parallel, delayed\n",
    "\n",
    "from ccc.coef import ccc\n",
    "from ccc import conf"
   ]
  },
  {
   "cell_type": "markdown",
   "id": "0d3cc810-4b17-4213-8f03-6fe7e97a0fe3",
   "metadata": {
    "papermill": {
     "duration": 0.005145,
     "end_time": "2023-09-11T11:15:08.536372",
     "exception": false,
     "start_time": "2023-09-11T11:15:08.531227",
     "status": "completed"
    },
    "tags": []
   },
   "source": [
    "# Settings"
   ]
  },
  {
   "cell_type": "code",
   "execution_count": 2,
   "id": "a8dfa548-6ce1-4edd-bef2-a919fc6ad850",
   "metadata": {
    "execution": {
     "iopub.execute_input": "2023-09-11T11:15:08.548015Z",
     "iopub.status.busy": "2023-09-11T11:15:08.547909Z",
     "iopub.status.idle": "2023-09-11T11:15:08.550496Z",
     "shell.execute_reply": "2023-09-11T11:15:08.550117Z"
    },
    "papermill": {
     "duration": 0.009645,
     "end_time": "2023-09-11T11:15:08.551632",
     "exception": false,
     "start_time": "2023-09-11T11:15:08.541987",
     "status": "completed"
    },
    "tags": []
   },
   "outputs": [],
   "source": [
    "rs = np.random.RandomState(0)"
   ]
  },
  {
   "cell_type": "code",
   "execution_count": 3,
   "id": "74f8f565-ed30-488f-966a-d153550931ed",
   "metadata": {
    "execution": {
     "iopub.execute_input": "2023-09-11T11:15:08.562844Z",
     "iopub.status.busy": "2023-09-11T11:15:08.562763Z",
     "iopub.status.idle": "2023-09-11T11:15:08.569342Z",
     "shell.execute_reply": "2023-09-11T11:15:08.569002Z"
    },
    "papermill": {
     "duration": 0.014702,
     "end_time": "2023-09-11T11:15:08.571718",
     "exception": false,
     "start_time": "2023-09-11T11:15:08.557016",
     "status": "completed"
    },
    "tags": []
   },
   "outputs": [
    {
     "data": {
      "text/plain": [
       "10"
      ]
     },
     "metadata": {},
     "output_type": "display_data"
    },
    {
     "data": {
      "text/plain": [
       "2"
      ]
     },
     "metadata": {},
     "output_type": "display_data"
    }
   ],
   "source": [
    "N_JOBS = conf.GENERAL[\"N_JOBS\"] // 2\n",
    "display(N_JOBS)\n",
    "\n",
    "PVALUE_N_JOBS = 2\n",
    "display(PVALUE_N_JOBS)"
   ]
  },
  {
   "cell_type": "code",
   "execution_count": 4,
   "id": "fd167aff-e768-416f-a078-f926f6023a1e",
   "metadata": {
    "execution": {
     "iopub.execute_input": "2023-09-11T11:15:08.583135Z",
     "iopub.status.busy": "2023-09-11T11:15:08.583053Z",
     "iopub.status.idle": "2023-09-11T11:15:08.585075Z",
     "shell.execute_reply": "2023-09-11T11:15:08.584738Z"
    },
    "papermill": {
     "duration": 0.009011,
     "end_time": "2023-09-11T11:15:08.586219",
     "exception": false,
     "start_time": "2023-09-11T11:15:08.577208",
     "status": "completed"
    },
    "tags": []
   },
   "outputs": [],
   "source": [
    "DATA_N_OBJS, DATA_N_FEATURES = 100, 1000\n",
    "PVALUE_N_PERMS = 1000"
   ]
  },
  {
   "cell_type": "markdown",
   "id": "26bab485-b08e-4f59-b547-1da68fd36d54",
   "metadata": {
    "papermill": {
     "duration": 0.005313,
     "end_time": "2023-09-11T11:15:08.597022",
     "exception": false,
     "start_time": "2023-09-11T11:15:08.591709",
     "status": "completed"
    },
    "tags": []
   },
   "source": [
    "# Paths"
   ]
  },
  {
   "cell_type": "code",
   "execution_count": 5,
   "id": "170ee0f3-a6dd-4c8b-9a99-ec6d02df8e2e",
   "metadata": {
    "execution": {
     "iopub.execute_input": "2023-09-11T11:15:08.608729Z",
     "iopub.status.busy": "2023-09-11T11:15:08.608396Z",
     "iopub.status.idle": "2023-09-11T11:15:08.611392Z",
     "shell.execute_reply": "2023-09-11T11:15:08.610944Z"
    },
    "papermill": {
     "duration": 0.010175,
     "end_time": "2023-09-11T11:15:08.612691",
     "exception": false,
     "start_time": "2023-09-11T11:15:08.602516",
     "status": "completed"
    },
    "tags": []
   },
   "outputs": [],
   "source": [
    "OUTPUT_DIR = conf.RESULTS_DIR / \"ccc_null-pvalues\"\n",
    "OUTPUT_DIR.mkdir(parents=True, exist_ok=True)"
   ]
  },
  {
   "cell_type": "code",
   "execution_count": 6,
   "id": "d083d95e-247e-45cc-bc28-36cf8144383c",
   "metadata": {
    "execution": {
     "iopub.execute_input": "2023-09-11T11:15:08.624484Z",
     "iopub.status.busy": "2023-09-11T11:15:08.624333Z",
     "iopub.status.idle": "2023-09-11T11:15:08.627972Z",
     "shell.execute_reply": "2023-09-11T11:15:08.627500Z"
    },
    "papermill": {
     "duration": 0.010816,
     "end_time": "2023-09-11T11:15:08.629175",
     "exception": false,
     "start_time": "2023-09-11T11:15:08.618359",
     "status": "completed"
    },
    "tags": []
   },
   "outputs": [
    {
     "data": {
      "text/plain": [
       "PosixPath('/opt/data/results/ccc_null-pvalues')"
      ]
     },
     "execution_count": 6,
     "metadata": {},
     "output_type": "execute_result"
    }
   ],
   "source": [
    "OUTPUT_DIR"
   ]
  },
  {
   "cell_type": "markdown",
   "id": "6b593ccb-bce7-4a6b-818f-79d5378d4610",
   "metadata": {
    "papermill": {
     "duration": 0.005339,
     "end_time": "2023-09-11T11:15:08.640569",
     "exception": false,
     "start_time": "2023-09-11T11:15:08.635230",
     "status": "completed"
    },
    "tags": []
   },
   "source": [
    "# Generate random data"
   ]
  },
  {
   "cell_type": "code",
   "execution_count": 7,
   "id": "472ff1df-b4f6-417f-b396-58a55ce0e39a",
   "metadata": {
    "execution": {
     "iopub.execute_input": "2023-09-11T11:15:08.648339Z",
     "iopub.status.busy": "2023-09-11T11:15:08.648189Z",
     "iopub.status.idle": "2023-09-11T11:15:08.651801Z",
     "shell.execute_reply": "2023-09-11T11:15:08.651341Z"
    },
    "papermill": {
     "duration": 0.007797,
     "end_time": "2023-09-11T11:15:08.652597",
     "exception": false,
     "start_time": "2023-09-11T11:15:08.644800",
     "status": "completed"
    },
    "tags": []
   },
   "outputs": [],
   "source": [
    "data = rs.rand(DATA_N_OBJS, DATA_N_FEATURES)"
   ]
  },
  {
   "cell_type": "code",
   "execution_count": 8,
   "id": "acd7a9c0-d8a8-46f5-ab60-2478347adf36",
   "metadata": {
    "execution": {
     "iopub.execute_input": "2023-09-11T11:15:08.659202Z",
     "iopub.status.busy": "2023-09-11T11:15:08.658839Z",
     "iopub.status.idle": "2023-09-11T11:15:08.662320Z",
     "shell.execute_reply": "2023-09-11T11:15:08.661883Z"
    },
    "papermill": {
     "duration": 0.007604,
     "end_time": "2023-09-11T11:15:08.663093",
     "exception": false,
     "start_time": "2023-09-11T11:15:08.655489",
     "status": "completed"
    },
    "tags": []
   },
   "outputs": [
    {
     "data": {
      "text/plain": [
       "(100, 1000)"
      ]
     },
     "execution_count": 8,
     "metadata": {},
     "output_type": "execute_result"
    }
   ],
   "source": [
    "data.shape"
   ]
  },
  {
   "cell_type": "markdown",
   "id": "7c24b674-edde-4b83-817d-c7f10729cdc8",
   "metadata": {
    "papermill": {
     "duration": 0.002895,
     "end_time": "2023-09-11T11:15:08.668981",
     "exception": false,
     "start_time": "2023-09-11T11:15:08.666086",
     "status": "completed"
    },
    "tags": []
   },
   "source": [
    "# Run CCC"
   ]
  },
  {
   "cell_type": "code",
   "execution_count": 9,
   "id": "c8a85ce0-4c5a-4ed9-8ad6-24b21fb10b1e",
   "metadata": {
    "execution": {
     "iopub.execute_input": "2023-09-11T11:15:08.675886Z",
     "iopub.status.busy": "2023-09-11T11:15:08.675551Z",
     "iopub.status.idle": "2023-09-11T11:15:08.678495Z",
     "shell.execute_reply": "2023-09-11T11:15:08.678048Z"
    },
    "papermill": {
     "duration": 0.007204,
     "end_time": "2023-09-11T11:15:08.679263",
     "exception": false,
     "start_time": "2023-09-11T11:15:08.672059",
     "status": "completed"
    },
    "tags": []
   },
   "outputs": [],
   "source": [
    "def ccc_single(x, y):\n",
    "    return ccc(x, y, pvalue_n_perms=PVALUE_N_PERMS, n_jobs=PVALUE_N_JOBS)"
   ]
  },
  {
   "cell_type": "code",
   "execution_count": 10,
   "id": "6f32ad1a-3b2f-4e08-8a53-35cfb68e3970",
   "metadata": {
    "execution": {
     "iopub.execute_input": "2023-09-11T11:15:08.685980Z",
     "iopub.status.busy": "2023-09-11T11:15:08.685605Z",
     "iopub.status.idle": "2023-09-11T11:22:54.420710Z",
     "shell.execute_reply": "2023-09-11T11:22:54.420156Z"
    },
    "papermill": {
     "duration": 465.740263,
     "end_time": "2023-09-11T11:22:54.422465",
     "exception": false,
     "start_time": "2023-09-11T11:15:08.682202",
     "status": "completed"
    },
    "tags": []
   },
   "outputs": [],
   "source": [
    "results = Parallel(n_jobs=N_JOBS)(\n",
    "    delayed(ccc_single)(data[i], data[j])\n",
    "    for i in range(data.shape[0] - 1)\n",
    "    for j in range(i + 1, data.shape[0])\n",
    ")"
   ]
  },
  {
   "cell_type": "code",
   "execution_count": 11,
   "id": "e68a65a5-8bba-4a79-a740-26d722dc670e",
   "metadata": {
    "execution": {
     "iopub.execute_input": "2023-09-11T11:22:54.440785Z",
     "iopub.status.busy": "2023-09-11T11:22:54.440681Z",
     "iopub.status.idle": "2023-09-11T11:22:54.443400Z",
     "shell.execute_reply": "2023-09-11T11:22:54.442997Z"
    },
    "papermill": {
     "duration": 0.015749,
     "end_time": "2023-09-11T11:22:54.444654",
     "exception": false,
     "start_time": "2023-09-11T11:22:54.428905",
     "status": "completed"
    },
    "tags": []
   },
   "outputs": [],
   "source": [
    "assert len(results) == (DATA_N_OBJS * (DATA_N_OBJS - 1)) / 2"
   ]
  },
  {
   "cell_type": "code",
   "execution_count": 12,
   "id": "907fa03e-616a-4463-83e7-4175d714167f",
   "metadata": {
    "execution": {
     "iopub.execute_input": "2023-09-11T11:22:54.457434Z",
     "iopub.status.busy": "2023-09-11T11:22:54.457140Z",
     "iopub.status.idle": "2023-09-11T11:22:54.460618Z",
     "shell.execute_reply": "2023-09-11T11:22:54.460309Z"
    },
    "papermill": {
     "duration": 0.011488,
     "end_time": "2023-09-11T11:22:54.462109",
     "exception": false,
     "start_time": "2023-09-11T11:22:54.450621",
     "status": "completed"
    },
    "tags": []
   },
   "outputs": [
    {
     "data": {
      "text/plain": [
       "(0.0025468387096774193, 0.5224775224775224)"
      ]
     },
     "execution_count": 12,
     "metadata": {},
     "output_type": "execute_result"
    }
   ],
   "source": [
    "results[0]"
   ]
  },
  {
   "cell_type": "code",
   "execution_count": 13,
   "id": "5ed53d3b-e78d-4f4b-a262-c6abe7f8840d",
   "metadata": {
    "execution": {
     "iopub.execute_input": "2023-09-11T11:22:54.475102Z",
     "iopub.status.busy": "2023-09-11T11:22:54.474752Z",
     "iopub.status.idle": "2023-09-11T11:22:54.477764Z",
     "shell.execute_reply": "2023-09-11T11:22:54.477456Z"
    },
    "papermill": {
     "duration": 0.010736,
     "end_time": "2023-09-11T11:22:54.478993",
     "exception": false,
     "start_time": "2023-09-11T11:22:54.468257",
     "status": "completed"
    },
    "tags": []
   },
   "outputs": [],
   "source": [
    "cm_values = [x[0] for x in results]"
   ]
  },
  {
   "cell_type": "code",
   "execution_count": 14,
   "id": "2972d472-725d-4fe0-83d8-57e2f68f8ecb",
   "metadata": {
    "execution": {
     "iopub.execute_input": "2023-09-11T11:22:54.491900Z",
     "iopub.status.busy": "2023-09-11T11:22:54.491543Z",
     "iopub.status.idle": "2023-09-11T11:22:54.494206Z",
     "shell.execute_reply": "2023-09-11T11:22:54.493905Z"
    },
    "papermill": {
     "duration": 0.010273,
     "end_time": "2023-09-11T11:22:54.495388",
     "exception": false,
     "start_time": "2023-09-11T11:22:54.485115",
     "status": "completed"
    },
    "tags": []
   },
   "outputs": [],
   "source": [
    "cm_pvalues = [x[1] for x in results]"
   ]
  },
  {
   "cell_type": "code",
   "execution_count": 15,
   "id": "003f5e04-5e2e-477f-b66a-ea28ac1a8abc",
   "metadata": {
    "execution": {
     "iopub.execute_input": "2023-09-11T11:22:54.508486Z",
     "iopub.status.busy": "2023-09-11T11:22:54.508169Z",
     "iopub.status.idle": "2023-09-11T11:22:54.510802Z",
     "shell.execute_reply": "2023-09-11T11:22:54.510500Z"
    },
    "papermill": {
     "duration": 0.010332,
     "end_time": "2023-09-11T11:22:54.512000",
     "exception": false,
     "start_time": "2023-09-11T11:22:54.501668",
     "status": "completed"
    },
    "tags": []
   },
   "outputs": [],
   "source": [
    "assert len(cm_values) == len(cm_pvalues)\n",
    "assert len(cm_values) == (DATA_N_OBJS * (DATA_N_OBJS - 1)) / 2"
   ]
  },
  {
   "cell_type": "code",
   "execution_count": 16,
   "id": "5525b4ef-2e2e-4338-b52a-37d8308e237d",
   "metadata": {
    "execution": {
     "iopub.execute_input": "2023-09-11T11:22:54.524766Z",
     "iopub.status.busy": "2023-09-11T11:22:54.524503Z",
     "iopub.status.idle": "2023-09-11T11:22:54.527884Z",
     "shell.execute_reply": "2023-09-11T11:22:54.527479Z"
    },
    "papermill": {
     "duration": 0.011062,
     "end_time": "2023-09-11T11:22:54.529095",
     "exception": false,
     "start_time": "2023-09-11T11:22:54.518033",
     "status": "completed"
    },
    "tags": []
   },
   "outputs": [],
   "source": [
    "cm_values = np.array(cm_values)\n",
    "cm_pvalues = np.array(cm_pvalues)"
   ]
  },
  {
   "cell_type": "code",
   "execution_count": 17,
   "id": "e08382ef-423a-4114-9a8f-f1b5abc48055",
   "metadata": {
    "execution": {
     "iopub.execute_input": "2023-09-11T11:22:54.542013Z",
     "iopub.status.busy": "2023-09-11T11:22:54.541641Z",
     "iopub.status.idle": "2023-09-11T11:22:54.544993Z",
     "shell.execute_reply": "2023-09-11T11:22:54.544606Z"
    },
    "papermill": {
     "duration": 0.011052,
     "end_time": "2023-09-11T11:22:54.546238",
     "exception": false,
     "start_time": "2023-09-11T11:22:54.535186",
     "status": "completed"
    },
    "tags": []
   },
   "outputs": [
    {
     "data": {
      "text/plain": [
       "(4950,)"
      ]
     },
     "execution_count": 17,
     "metadata": {},
     "output_type": "execute_result"
    }
   ],
   "source": [
    "cm_values.shape"
   ]
  },
  {
   "cell_type": "code",
   "execution_count": 18,
   "id": "93c4f9d7-6727-4db1-8bcc-1b618ecf41fe",
   "metadata": {
    "execution": {
     "iopub.execute_input": "2023-09-11T11:22:54.558337Z",
     "iopub.status.busy": "2023-09-11T11:22:54.558065Z",
     "iopub.status.idle": "2023-09-11T11:22:54.561726Z",
     "shell.execute_reply": "2023-09-11T11:22:54.561362Z"
    },
    "papermill": {
     "duration": 0.010049,
     "end_time": "2023-09-11T11:22:54.562455",
     "exception": false,
     "start_time": "2023-09-11T11:22:54.552406",
     "status": "completed"
    },
    "tags": []
   },
   "outputs": [
    {
     "data": {
      "text/plain": [
       "array([0.00254684, 0.00104179, 0.00320558, ..., 0.00426304, 0.00043899,\n",
       "       0.00321309])"
      ]
     },
     "execution_count": 18,
     "metadata": {},
     "output_type": "execute_result"
    }
   ],
   "source": [
    "cm_values"
   ]
  },
  {
   "cell_type": "code",
   "execution_count": 19,
   "id": "46e8560e-4c1b-4e2b-b373-f42ca0a59819",
   "metadata": {
    "execution": {
     "iopub.execute_input": "2023-09-11T11:22:54.569451Z",
     "iopub.status.busy": "2023-09-11T11:22:54.569108Z",
     "iopub.status.idle": "2023-09-11T11:22:54.572398Z",
     "shell.execute_reply": "2023-09-11T11:22:54.572016Z"
    },
    "papermill": {
     "duration": 0.007598,
     "end_time": "2023-09-11T11:22:54.573145",
     "exception": false,
     "start_time": "2023-09-11T11:22:54.565547",
     "status": "completed"
    },
    "tags": []
   },
   "outputs": [
    {
     "data": {
      "text/plain": [
       "(4950,)"
      ]
     },
     "execution_count": 19,
     "metadata": {},
     "output_type": "execute_result"
    }
   ],
   "source": [
    "cm_pvalues.shape"
   ]
  },
  {
   "cell_type": "code",
   "execution_count": 20,
   "id": "31ce94b0-ce31-4de6-9848-c1644268bd2b",
   "metadata": {
    "execution": {
     "iopub.execute_input": "2023-09-11T11:22:54.580346Z",
     "iopub.status.busy": "2023-09-11T11:22:54.580025Z",
     "iopub.status.idle": "2023-09-11T11:22:54.583626Z",
     "shell.execute_reply": "2023-09-11T11:22:54.583248Z"
    },
    "papermill": {
     "duration": 0.007994,
     "end_time": "2023-09-11T11:22:54.584360",
     "exception": false,
     "start_time": "2023-09-11T11:22:54.576366",
     "status": "completed"
    },
    "tags": []
   },
   "outputs": [
    {
     "data": {
      "text/plain": [
       "array([0.52247752, 0.92607393, 0.35164835, ..., 0.14085914, 0.98201798,\n",
       "       0.37062937])"
      ]
     },
     "execution_count": 20,
     "metadata": {},
     "output_type": "execute_result"
    }
   ],
   "source": [
    "cm_pvalues"
   ]
  },
  {
   "cell_type": "markdown",
   "id": "d25a59fa-a22b-41e0-84a3-74414ddaad23",
   "metadata": {
    "papermill": {
     "duration": 0.003184,
     "end_time": "2023-09-11T11:22:54.590759",
     "exception": false,
     "start_time": "2023-09-11T11:22:54.587575",
     "status": "completed"
    },
    "tags": []
   },
   "source": [
    "# Save"
   ]
  },
  {
   "cell_type": "code",
   "execution_count": 21,
   "id": "b11f71f7-bab8-4d83-bf49-fd9419648a3d",
   "metadata": {
    "execution": {
     "iopub.execute_input": "2023-09-11T11:22:54.598170Z",
     "iopub.status.busy": "2023-09-11T11:22:54.597750Z",
     "iopub.status.idle": "2023-09-11T11:22:54.601880Z",
     "shell.execute_reply": "2023-09-11T11:22:54.601511Z"
    },
    "papermill": {
     "duration": 0.008549,
     "end_time": "2023-09-11T11:22:54.602620",
     "exception": false,
     "start_time": "2023-09-11T11:22:54.594071",
     "status": "completed"
    },
    "tags": []
   },
   "outputs": [
    {
     "data": {
      "text/plain": [
       "PosixPath('/opt/data/results/ccc_null-pvalues/gene_pairs-cm_values.npy')"
      ]
     },
     "metadata": {},
     "output_type": "display_data"
    }
   ],
   "source": [
    "output_file = OUTPUT_DIR / \"gene_pairs-cm_values.npy\"\n",
    "display(output_file)\n",
    "\n",
    "np.save(output_file, cm_values)"
   ]
  },
  {
   "cell_type": "code",
   "execution_count": 22,
   "id": "12968ead-2e56-4214-956c-08f4f02952e9",
   "metadata": {
    "execution": {
     "iopub.execute_input": "2023-09-11T11:22:54.610123Z",
     "iopub.status.busy": "2023-09-11T11:22:54.609773Z",
     "iopub.status.idle": "2023-09-11T11:22:54.613645Z",
     "shell.execute_reply": "2023-09-11T11:22:54.613278Z"
    },
    "papermill": {
     "duration": 0.008369,
     "end_time": "2023-09-11T11:22:54.614389",
     "exception": false,
     "start_time": "2023-09-11T11:22:54.606020",
     "status": "completed"
    },
    "tags": []
   },
   "outputs": [
    {
     "data": {
      "text/plain": [
       "PosixPath('/opt/data/results/ccc_null-pvalues/gene_pairs-cm_pvalues.npy')"
      ]
     },
     "metadata": {},
     "output_type": "display_data"
    }
   ],
   "source": [
    "output_file = OUTPUT_DIR / \"gene_pairs-cm_pvalues.npy\"\n",
    "display(output_file)\n",
    "\n",
    "np.save(output_file, cm_pvalues)"
   ]
  },
  {
   "cell_type": "code",
   "execution_count": null,
   "id": "5f57efbc-893b-44a7-bc7a-77ca6b72a60a",
   "metadata": {
    "papermill": {
     "duration": 0.022175,
     "end_time": "2023-09-11T11:22:54.639886",
     "exception": false,
     "start_time": "2023-09-11T11:22:54.617711",
     "status": "completed"
    },
    "tags": []
   },
   "outputs": [],
   "source": []
  }
 ],
 "metadata": {
  "jupytext": {
   "cell_metadata_filter": "all,-execution,-papermill,-trusted"
  },
  "kernelspec": {
   "display_name": "Python 3 (ipykernel)",
   "language": "python",
   "name": "python3"
  },
  "language_info": {
   "codemirror_mode": {
    "name": "ipython",
    "version": 3
   },
   "file_extension": ".py",
   "mimetype": "text/x-python",
   "name": "python",
   "nbconvert_exporter": "python",
   "pygments_lexer": "ipython3",
   "version": "3.9.12"
  },
  "papermill": {
   "default_parameters": {},
   "duration": 469.950082,
   "end_time": "2023-09-11T11:22:57.258822",
   "environment_variables": {},
   "exception": null,
   "input_path": "nbs/25_pvalue/01-ccc_pvalue_dist-generate-gene_pairs.ipynb",
   "output_path": "nbs/25_pvalue/01-ccc_pvalue_dist-generate-gene_pairs.run.ipynb",
   "parameters": {},
   "start_time": "2023-09-11T11:15:07.308740",
   "version": "2.3.4"
  }
 },
 "nbformat": 4,
 "nbformat_minor": 5
}
