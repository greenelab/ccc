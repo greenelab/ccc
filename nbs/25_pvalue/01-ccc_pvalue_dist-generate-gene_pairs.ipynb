{
 "cells": [
  {
   "cell_type": "markdown",
   "id": "ec52faa3-656f-483e-9617-d7ec0f7d818c",
   "metadata": {
    "papermill": {
     "duration": 0.007838,
     "end_time": "2023-09-11T17:55:28.390521",
     "exception": false,
     "start_time": "2023-09-11T17:55:28.382683",
     "status": "completed"
    },
    "tags": []
   },
   "source": [
    "# Description"
   ]
  },
  {
   "cell_type": "markdown",
   "id": "51102f42-fcd9-4a58-9c8d-dfcd3d2d464e",
   "metadata": {
    "papermill": {
     "duration": 0.003929,
     "end_time": "2023-09-11T17:55:28.404193",
     "exception": false,
     "start_time": "2023-09-11T17:55:28.400264",
     "status": "completed"
    },
    "tags": []
   },
   "source": [
    "Generates a distribution of pvalues under the null hypothesis of no association.\n",
    "\n",
    "This notebook uses individual gene pairs as input for CCC and parallelizes permutations."
   ]
  },
  {
   "cell_type": "markdown",
   "id": "7006ceeb-2651-407d-bfa1-1039727649ef",
   "metadata": {
    "papermill": {
     "duration": 0.003132,
     "end_time": "2023-09-11T17:55:28.410978",
     "exception": false,
     "start_time": "2023-09-11T17:55:28.407846",
     "status": "completed"
    },
    "tags": []
   },
   "source": [
    "# Modules loading"
   ]
  },
  {
   "cell_type": "code",
   "execution_count": 1,
   "id": "1ffa1a96-7545-40b9-ac8b-8627e13de8d4",
   "metadata": {
    "execution": {
     "iopub.execute_input": "2023-09-11T17:55:28.415604Z",
     "iopub.status.busy": "2023-09-11T17:55:28.415497Z",
     "iopub.status.idle": "2023-09-11T17:55:28.584136Z",
     "shell.execute_reply": "2023-09-11T17:55:28.583934Z"
    },
    "papermill": {
     "duration": 0.171824,
     "end_time": "2023-09-11T17:55:28.585010",
     "exception": false,
     "start_time": "2023-09-11T17:55:28.413186",
     "status": "completed"
    },
    "tags": []
   },
   "outputs": [],
   "source": [
    "import numpy as np\n",
    "from joblib import Parallel, delayed\n",
    "\n",
    "from ccc.coef import ccc\n",
    "from ccc import conf"
   ]
  },
  {
   "cell_type": "markdown",
   "id": "0d3cc810-4b17-4213-8f03-6fe7e97a0fe3",
   "metadata": {
    "papermill": {
     "duration": 0.009785,
     "end_time": "2023-09-11T17:55:28.596569",
     "exception": false,
     "start_time": "2023-09-11T17:55:28.586784",
     "status": "completed"
    },
    "tags": []
   },
   "source": [
    "# Settings"
   ]
  },
  {
   "cell_type": "code",
   "execution_count": 2,
   "id": "a8dfa548-6ce1-4edd-bef2-a919fc6ad850",
   "metadata": {
    "execution": {
     "iopub.execute_input": "2023-09-11T17:55:28.600263Z",
     "iopub.status.busy": "2023-09-11T17:55:28.600187Z",
     "iopub.status.idle": "2023-09-11T17:55:28.601882Z",
     "shell.execute_reply": "2023-09-11T17:55:28.601717Z"
    },
    "papermill": {
     "duration": 0.004361,
     "end_time": "2023-09-11T17:55:28.602532",
     "exception": false,
     "start_time": "2023-09-11T17:55:28.598171",
     "status": "completed"
    },
    "tags": []
   },
   "outputs": [],
   "source": [
    "rs = np.random.RandomState(0)"
   ]
  },
  {
   "cell_type": "code",
   "execution_count": 3,
   "id": "74f8f565-ed30-488f-966a-d153550931ed",
   "metadata": {
    "execution": {
     "iopub.execute_input": "2023-09-11T17:55:28.606046Z",
     "iopub.status.busy": "2023-09-11T17:55:28.605917Z",
     "iopub.status.idle": "2023-09-11T17:55:28.609664Z",
     "shell.execute_reply": "2023-09-11T17:55:28.609521Z"
    },
    "papermill": {
     "duration": 0.005927,
     "end_time": "2023-09-11T17:55:28.610053",
     "exception": false,
     "start_time": "2023-09-11T17:55:28.604126",
     "status": "completed"
    },
    "tags": []
   },
   "outputs": [
    {
     "data": {
      "text/plain": [
       "10"
      ]
     },
     "metadata": {},
     "output_type": "display_data"
    },
    {
     "data": {
      "text/plain": [
       "2"
      ]
     },
     "metadata": {},
     "output_type": "display_data"
    }
   ],
   "source": [
    "N_JOBS = conf.GENERAL[\"N_JOBS\"] // 2\n",
    "display(N_JOBS)\n",
    "\n",
    "PVALUE_N_JOBS = 2\n",
    "display(PVALUE_N_JOBS)"
   ]
  },
  {
   "cell_type": "code",
   "execution_count": 4,
   "id": "fd167aff-e768-416f-a078-f926f6023a1e",
   "metadata": {
    "execution": {
     "iopub.execute_input": "2023-09-11T17:55:28.613479Z",
     "iopub.status.busy": "2023-09-11T17:55:28.613358Z",
     "iopub.status.idle": "2023-09-11T17:55:28.614682Z",
     "shell.execute_reply": "2023-09-11T17:55:28.614537Z"
    },
    "papermill": {
     "duration": 0.003587,
     "end_time": "2023-09-11T17:55:28.615194",
     "exception": false,
     "start_time": "2023-09-11T17:55:28.611607",
     "status": "completed"
    },
    "tags": []
   },
   "outputs": [],
   "source": [
    "DATA_N_OBJS, DATA_N_FEATURES = 100, 1000\n",
    "PVALUE_N_PERMS = 1000"
   ]
  },
  {
   "cell_type": "markdown",
   "id": "26bab485-b08e-4f59-b547-1da68fd36d54",
   "metadata": {
    "papermill": {
     "duration": 0.001583,
     "end_time": "2023-09-11T17:55:28.618351",
     "exception": false,
     "start_time": "2023-09-11T17:55:28.616768",
     "status": "completed"
    },
    "tags": []
   },
   "source": [
    "# Paths"
   ]
  },
  {
   "cell_type": "code",
   "execution_count": 5,
   "id": "170ee0f3-a6dd-4c8b-9a99-ec6d02df8e2e",
   "metadata": {
    "execution": {
     "iopub.execute_input": "2023-09-11T17:55:28.621826Z",
     "iopub.status.busy": "2023-09-11T17:55:28.621725Z",
     "iopub.status.idle": "2023-09-11T17:55:28.623124Z",
     "shell.execute_reply": "2023-09-11T17:55:28.622973Z"
    },
    "papermill": {
     "duration": 0.003586,
     "end_time": "2023-09-11T17:55:28.623614",
     "exception": false,
     "start_time": "2023-09-11T17:55:28.620028",
     "status": "completed"
    },
    "tags": []
   },
   "outputs": [],
   "source": [
    "OUTPUT_DIR = conf.RESULTS_DIR / \"ccc_null-pvalues\"\n",
    "OUTPUT_DIR.mkdir(parents=True, exist_ok=True)"
   ]
  },
  {
   "cell_type": "code",
   "execution_count": 6,
   "id": "d083d95e-247e-45cc-bc28-36cf8144383c",
   "metadata": {
    "execution": {
     "iopub.execute_input": "2023-09-11T17:55:28.626887Z",
     "iopub.status.busy": "2023-09-11T17:55:28.626785Z",
     "iopub.status.idle": "2023-09-11T17:55:28.628397Z",
     "shell.execute_reply": "2023-09-11T17:55:28.628262Z"
    },
    "papermill": {
     "duration": 0.003661,
     "end_time": "2023-09-11T17:55:28.628797",
     "exception": false,
     "start_time": "2023-09-11T17:55:28.625136",
     "status": "completed"
    },
    "tags": []
   },
   "outputs": [
    {
     "data": {
      "text/plain": [
       "PosixPath('/opt/data/results/ccc_null-pvalues')"
      ]
     },
     "execution_count": 6,
     "metadata": {},
     "output_type": "execute_result"
    }
   ],
   "source": [
    "OUTPUT_DIR"
   ]
  },
  {
   "cell_type": "markdown",
   "id": "6b593ccb-bce7-4a6b-818f-79d5378d4610",
   "metadata": {
    "papermill": {
     "duration": 0.001505,
     "end_time": "2023-09-11T17:55:28.631911",
     "exception": false,
     "start_time": "2023-09-11T17:55:28.630406",
     "status": "completed"
    },
    "tags": []
   },
   "source": [
    "# Generate random data"
   ]
  },
  {
   "cell_type": "code",
   "execution_count": 7,
   "id": "472ff1df-b4f6-417f-b396-58a55ce0e39a",
   "metadata": {
    "execution": {
     "iopub.execute_input": "2023-09-11T17:55:28.635236Z",
     "iopub.status.busy": "2023-09-11T17:55:28.635154Z",
     "iopub.status.idle": "2023-09-11T17:55:28.636833Z",
     "shell.execute_reply": "2023-09-11T17:55:28.636680Z"
    },
    "papermill": {
     "duration": 0.003763,
     "end_time": "2023-09-11T17:55:28.637203",
     "exception": false,
     "start_time": "2023-09-11T17:55:28.633440",
     "status": "completed"
    },
    "tags": []
   },
   "outputs": [],
   "source": [
    "data = rs.rand(DATA_N_OBJS, DATA_N_FEATURES)"
   ]
  },
  {
   "cell_type": "code",
   "execution_count": 8,
   "id": "acd7a9c0-d8a8-46f5-ab60-2478347adf36",
   "metadata": {
    "execution": {
     "iopub.execute_input": "2023-09-11T17:55:28.640519Z",
     "iopub.status.busy": "2023-09-11T17:55:28.640433Z",
     "iopub.status.idle": "2023-09-11T17:55:28.641970Z",
     "shell.execute_reply": "2023-09-11T17:55:28.641822Z"
    },
    "papermill": {
     "duration": 0.003742,
     "end_time": "2023-09-11T17:55:28.642496",
     "exception": false,
     "start_time": "2023-09-11T17:55:28.638754",
     "status": "completed"
    },
    "tags": []
   },
   "outputs": [
    {
     "data": {
      "text/plain": [
       "(100, 1000)"
      ]
     },
     "execution_count": 8,
     "metadata": {},
     "output_type": "execute_result"
    }
   ],
   "source": [
    "data.shape"
   ]
  },
  {
   "cell_type": "markdown",
   "id": "7c24b674-edde-4b83-817d-c7f10729cdc8",
   "metadata": {
    "papermill": {
     "duration": 0.001483,
     "end_time": "2023-09-11T17:55:28.645583",
     "exception": false,
     "start_time": "2023-09-11T17:55:28.644100",
     "status": "completed"
    },
    "tags": []
   },
   "source": [
    "# Run CCC"
   ]
  },
  {
   "cell_type": "code",
   "execution_count": 9,
   "id": "c8a85ce0-4c5a-4ed9-8ad6-24b21fb10b1e",
   "metadata": {
    "execution": {
     "iopub.execute_input": "2023-09-11T17:55:28.649063Z",
     "iopub.status.busy": "2023-09-11T17:55:28.648974Z",
     "iopub.status.idle": "2023-09-11T17:55:28.650327Z",
     "shell.execute_reply": "2023-09-11T17:55:28.650173Z"
    },
    "papermill": {
     "duration": 0.003646,
     "end_time": "2023-09-11T17:55:28.650841",
     "exception": false,
     "start_time": "2023-09-11T17:55:28.647195",
     "status": "completed"
    },
    "tags": []
   },
   "outputs": [],
   "source": [
    "def ccc_single(x, y):\n",
    "    return ccc(x, y, pvalue_n_perms=PVALUE_N_PERMS, n_jobs=PVALUE_N_JOBS)"
   ]
  },
  {
   "cell_type": "code",
   "execution_count": 10,
   "id": "6f32ad1a-3b2f-4e08-8a53-35cfb68e3970",
   "metadata": {
    "execution": {
     "iopub.execute_input": "2023-09-11T17:55:28.654214Z",
     "iopub.status.busy": "2023-09-11T17:55:28.654126Z",
     "iopub.status.idle": "2023-09-11T18:02:40.671961Z",
     "shell.execute_reply": "2023-09-11T18:02:40.671637Z"
    },
    "papermill": {
     "duration": 432.020716,
     "end_time": "2023-09-11T18:02:40.673133",
     "exception": false,
     "start_time": "2023-09-11T17:55:28.652417",
     "status": "completed"
    },
    "tags": []
   },
   "outputs": [],
   "source": [
    "results = Parallel(n_jobs=N_JOBS)(\n",
    "    delayed(ccc_single)(data[i], data[j])\n",
    "    for i in range(data.shape[0] - 1)\n",
    "    for j in range(i + 1, data.shape[0])\n",
    ")"
   ]
  },
  {
   "cell_type": "code",
   "execution_count": 11,
   "id": "e68a65a5-8bba-4a79-a740-26d722dc670e",
   "metadata": {
    "execution": {
     "iopub.execute_input": "2023-09-11T18:02:40.685918Z",
     "iopub.status.busy": "2023-09-11T18:02:40.685808Z",
     "iopub.status.idle": "2023-09-11T18:02:40.687811Z",
     "shell.execute_reply": "2023-09-11T18:02:40.687667Z"
    },
    "papermill": {
     "duration": 0.012915,
     "end_time": "2023-09-11T18:02:40.688462",
     "exception": false,
     "start_time": "2023-09-11T18:02:40.675547",
     "status": "completed"
    },
    "tags": []
   },
   "outputs": [],
   "source": [
    "assert len(results) == (DATA_N_OBJS * (DATA_N_OBJS - 1)) / 2"
   ]
  },
  {
   "cell_type": "code",
   "execution_count": 12,
   "id": "907fa03e-616a-4463-83e7-4175d714167f",
   "metadata": {
    "execution": {
     "iopub.execute_input": "2023-09-11T18:02:40.692120Z",
     "iopub.status.busy": "2023-09-11T18:02:40.691999Z",
     "iopub.status.idle": "2023-09-11T18:02:40.693614Z",
     "shell.execute_reply": "2023-09-11T18:02:40.693491Z"
    },
    "papermill": {
     "duration": 0.003953,
     "end_time": "2023-09-11T18:02:40.694050",
     "exception": false,
     "start_time": "2023-09-11T18:02:40.690097",
     "status": "completed"
    },
    "tags": []
   },
   "outputs": [
    {
     "data": {
      "text/plain": [
       "(0.0025468387096774193, 0.5504495504495505)"
      ]
     },
     "execution_count": 12,
     "metadata": {},
     "output_type": "execute_result"
    }
   ],
   "source": [
    "results[0]"
   ]
  },
  {
   "cell_type": "code",
   "execution_count": 13,
   "id": "5ed53d3b-e78d-4f4b-a262-c6abe7f8840d",
   "metadata": {
    "execution": {
     "iopub.execute_input": "2023-09-11T18:02:40.697935Z",
     "iopub.status.busy": "2023-09-11T18:02:40.697840Z",
     "iopub.status.idle": "2023-09-11T18:02:40.699248Z",
     "shell.execute_reply": "2023-09-11T18:02:40.699098Z"
    },
    "papermill": {
     "duration": 0.00402,
     "end_time": "2023-09-11T18:02:40.699865",
     "exception": false,
     "start_time": "2023-09-11T18:02:40.695845",
     "status": "completed"
    },
    "tags": []
   },
   "outputs": [],
   "source": [
    "cm_values = [x[0] for x in results]"
   ]
  },
  {
   "cell_type": "code",
   "execution_count": 14,
   "id": "2972d472-725d-4fe0-83d8-57e2f68f8ecb",
   "metadata": {
    "execution": {
     "iopub.execute_input": "2023-09-11T18:02:40.703535Z",
     "iopub.status.busy": "2023-09-11T18:02:40.703446Z",
     "iopub.status.idle": "2023-09-11T18:02:40.704825Z",
     "shell.execute_reply": "2023-09-11T18:02:40.704686Z"
    },
    "papermill": {
     "duration": 0.003799,
     "end_time": "2023-09-11T18:02:40.705312",
     "exception": false,
     "start_time": "2023-09-11T18:02:40.701513",
     "status": "completed"
    },
    "tags": []
   },
   "outputs": [],
   "source": [
    "cm_pvalues = [x[1] for x in results]"
   ]
  },
  {
   "cell_type": "code",
   "execution_count": 15,
   "id": "003f5e04-5e2e-477f-b66a-ea28ac1a8abc",
   "metadata": {
    "execution": {
     "iopub.execute_input": "2023-09-11T18:02:40.708910Z",
     "iopub.status.busy": "2023-09-11T18:02:40.708827Z",
     "iopub.status.idle": "2023-09-11T18:02:40.710091Z",
     "shell.execute_reply": "2023-09-11T18:02:40.709958Z"
    },
    "papermill": {
     "duration": 0.003776,
     "end_time": "2023-09-11T18:02:40.710694",
     "exception": false,
     "start_time": "2023-09-11T18:02:40.706918",
     "status": "completed"
    },
    "tags": []
   },
   "outputs": [],
   "source": [
    "assert len(cm_values) == len(cm_pvalues)\n",
    "assert len(cm_values) == (DATA_N_OBJS * (DATA_N_OBJS - 1)) / 2"
   ]
  },
  {
   "cell_type": "code",
   "execution_count": 16,
   "id": "5525b4ef-2e2e-4338-b52a-37d8308e237d",
   "metadata": {
    "execution": {
     "iopub.execute_input": "2023-09-11T18:02:40.714243Z",
     "iopub.status.busy": "2023-09-11T18:02:40.714157Z",
     "iopub.status.idle": "2023-09-11T18:02:40.715540Z",
     "shell.execute_reply": "2023-09-11T18:02:40.715414Z"
    },
    "papermill": {
     "duration": 0.003834,
     "end_time": "2023-09-11T18:02:40.716113",
     "exception": false,
     "start_time": "2023-09-11T18:02:40.712279",
     "status": "completed"
    },
    "tags": []
   },
   "outputs": [],
   "source": [
    "cm_values = np.array(cm_values)\n",
    "cm_pvalues = np.array(cm_pvalues)"
   ]
  },
  {
   "cell_type": "code",
   "execution_count": 17,
   "id": "e08382ef-423a-4114-9a8f-f1b5abc48055",
   "metadata": {
    "execution": {
     "iopub.execute_input": "2023-09-11T18:02:40.719749Z",
     "iopub.status.busy": "2023-09-11T18:02:40.719665Z",
     "iopub.status.idle": "2023-09-11T18:02:40.721083Z",
     "shell.execute_reply": "2023-09-11T18:02:40.720966Z"
    },
    "papermill": {
     "duration": 0.003928,
     "end_time": "2023-09-11T18:02:40.721664",
     "exception": false,
     "start_time": "2023-09-11T18:02:40.717736",
     "status": "completed"
    },
    "tags": []
   },
   "outputs": [
    {
     "data": {
      "text/plain": [
       "(4950,)"
      ]
     },
     "execution_count": 17,
     "metadata": {},
     "output_type": "execute_result"
    }
   ],
   "source": [
    "cm_values.shape"
   ]
  },
  {
   "cell_type": "code",
   "execution_count": 18,
   "id": "93c4f9d7-6727-4db1-8bcc-1b618ecf41fe",
   "metadata": {
    "execution": {
     "iopub.execute_input": "2023-09-11T18:02:40.725347Z",
     "iopub.status.busy": "2023-09-11T18:02:40.725267Z",
     "iopub.status.idle": "2023-09-11T18:02:40.726870Z",
     "shell.execute_reply": "2023-09-11T18:02:40.726748Z"
    },
    "papermill": {
     "duration": 0.003966,
     "end_time": "2023-09-11T18:02:40.727332",
     "exception": false,
     "start_time": "2023-09-11T18:02:40.723366",
     "status": "completed"
    },
    "tags": []
   },
   "outputs": [
    {
     "data": {
      "text/plain": [
       "array([0.00254684, 0.00104179, 0.00320558, ..., 0.00426304, 0.00043899,\n",
       "       0.00321309])"
      ]
     },
     "execution_count": 18,
     "metadata": {},
     "output_type": "execute_result"
    }
   ],
   "source": [
    "cm_values"
   ]
  },
  {
   "cell_type": "code",
   "execution_count": 19,
   "id": "46e8560e-4c1b-4e2b-b373-f42ca0a59819",
   "metadata": {
    "execution": {
     "iopub.execute_input": "2023-09-11T18:02:40.730975Z",
     "iopub.status.busy": "2023-09-11T18:02:40.730870Z",
     "iopub.status.idle": "2023-09-11T18:02:40.732316Z",
     "shell.execute_reply": "2023-09-11T18:02:40.732198Z"
    },
    "papermill": {
     "duration": 0.003801,
     "end_time": "2023-09-11T18:02:40.732783",
     "exception": false,
     "start_time": "2023-09-11T18:02:40.728982",
     "status": "completed"
    },
    "tags": []
   },
   "outputs": [
    {
     "data": {
      "text/plain": [
       "(4950,)"
      ]
     },
     "execution_count": 19,
     "metadata": {},
     "output_type": "execute_result"
    }
   ],
   "source": [
    "cm_pvalues.shape"
   ]
  },
  {
   "cell_type": "code",
   "execution_count": 20,
   "id": "31ce94b0-ce31-4de6-9848-c1644268bd2b",
   "metadata": {
    "execution": {
     "iopub.execute_input": "2023-09-11T18:02:40.736501Z",
     "iopub.status.busy": "2023-09-11T18:02:40.736418Z",
     "iopub.status.idle": "2023-09-11T18:02:40.737894Z",
     "shell.execute_reply": "2023-09-11T18:02:40.737772Z"
    },
    "papermill": {
     "duration": 0.003931,
     "end_time": "2023-09-11T18:02:40.738423",
     "exception": false,
     "start_time": "2023-09-11T18:02:40.734492",
     "status": "completed"
    },
    "tags": []
   },
   "outputs": [
    {
     "data": {
      "text/plain": [
       "array([0.55044955, 0.94705295, 0.34465534, ..., 0.15684316, 0.98501499,\n",
       "       0.32867133])"
      ]
     },
     "execution_count": 20,
     "metadata": {},
     "output_type": "execute_result"
    }
   ],
   "source": [
    "cm_pvalues"
   ]
  },
  {
   "cell_type": "markdown",
   "id": "d25a59fa-a22b-41e0-84a3-74414ddaad23",
   "metadata": {
    "papermill": {
     "duration": 0.001675,
     "end_time": "2023-09-11T18:02:40.741862",
     "exception": false,
     "start_time": "2023-09-11T18:02:40.740187",
     "status": "completed"
    },
    "tags": []
   },
   "source": [
    "# Save"
   ]
  },
  {
   "cell_type": "code",
   "execution_count": 21,
   "id": "b11f71f7-bab8-4d83-bf49-fd9419648a3d",
   "metadata": {
    "execution": {
     "iopub.execute_input": "2023-09-11T18:02:40.745568Z",
     "iopub.status.busy": "2023-09-11T18:02:40.745478Z",
     "iopub.status.idle": "2023-09-11T18:02:40.747238Z",
     "shell.execute_reply": "2023-09-11T18:02:40.747113Z"
    },
    "papermill": {
     "duration": 0.004118,
     "end_time": "2023-09-11T18:02:40.747695",
     "exception": false,
     "start_time": "2023-09-11T18:02:40.743577",
     "status": "completed"
    },
    "tags": []
   },
   "outputs": [
    {
     "data": {
      "text/plain": [
       "PosixPath('/opt/data/results/ccc_null-pvalues/gene_pairs-cm_values.npy')"
      ]
     },
     "metadata": {},
     "output_type": "display_data"
    }
   ],
   "source": [
    "output_file = OUTPUT_DIR / \"gene_pairs-cm_values.npy\"\n",
    "display(output_file)\n",
    "\n",
    "np.save(output_file, cm_values)"
   ]
  },
  {
   "cell_type": "code",
   "execution_count": 22,
   "id": "12968ead-2e56-4214-956c-08f4f02952e9",
   "metadata": {
    "execution": {
     "iopub.execute_input": "2023-09-11T18:02:40.751655Z",
     "iopub.status.busy": "2023-09-11T18:02:40.751566Z",
     "iopub.status.idle": "2023-09-11T18:02:40.753216Z",
     "shell.execute_reply": "2023-09-11T18:02:40.753090Z"
    },
    "papermill": {
     "duration": 0.004099,
     "end_time": "2023-09-11T18:02:40.753636",
     "exception": false,
     "start_time": "2023-09-11T18:02:40.749537",
     "status": "completed"
    },
    "tags": []
   },
   "outputs": [
    {
     "data": {
      "text/plain": [
       "PosixPath('/opt/data/results/ccc_null-pvalues/gene_pairs-cm_pvalues.npy')"
      ]
     },
     "metadata": {},
     "output_type": "display_data"
    }
   ],
   "source": [
    "output_file = OUTPUT_DIR / \"gene_pairs-cm_pvalues.npy\"\n",
    "display(output_file)\n",
    "\n",
    "np.save(output_file, cm_pvalues)"
   ]
  },
  {
   "cell_type": "code",
   "execution_count": null,
   "id": "5f57efbc-893b-44a7-bc7a-77ca6b72a60a",
   "metadata": {
    "papermill": {
     "duration": 0.013597,
     "end_time": "2023-09-11T18:02:40.768986",
     "exception": false,
     "start_time": "2023-09-11T18:02:40.755389",
     "status": "completed"
    },
    "tags": []
   },
   "outputs": [],
   "source": []
  }
 ],
 "metadata": {
  "jupytext": {
   "cell_metadata_filter": "all,-execution,-papermill,-trusted",
   "notebook_metadata_filter": "-jupytext.text_representation.jupytext_version"
  },
  "kernelspec": {
   "display_name": "Python 3 (ipykernel)",
   "language": "python",
   "name": "python3"
  },
  "language_info": {
   "codemirror_mode": {
    "name": "ipython",
    "version": 3
   },
   "file_extension": ".py",
   "mimetype": "text/x-python",
   "name": "python",
   "nbconvert_exporter": "python",
   "pygments_lexer": "ipython3",
   "version": "3.9.12"
  },
  "papermill": {
   "default_parameters": {},
   "duration": 435.670489,
   "end_time": "2023-09-11T18:02:43.389062",
   "environment_variables": {},
   "exception": null,
   "input_path": "nbs/25_pvalue/01-ccc_pvalue_dist-generate-gene_pairs.ipynb",
   "output_path": "nbs/25_pvalue/01-ccc_pvalue_dist-generate-gene_pairs.run.ipynb",
   "parameters": {},
   "start_time": "2023-09-11T17:55:27.718573",
   "version": "2.3.4"
  }
 },
 "nbformat": 4,
 "nbformat_minor": 5
}
