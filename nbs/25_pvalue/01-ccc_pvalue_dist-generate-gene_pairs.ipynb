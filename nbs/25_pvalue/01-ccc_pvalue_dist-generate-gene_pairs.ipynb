{
 "cells": [
  {
   "cell_type": "markdown",
   "id": "ec52faa3-656f-483e-9617-d7ec0f7d818c",
   "metadata": {
    "papermill": {
     "duration": 0.008895,
     "end_time": "2023-09-13T05:34:32.901655",
     "exception": false,
     "start_time": "2023-09-13T05:34:32.892760",
     "status": "completed"
    },
    "tags": []
   },
   "source": [
    "# Description"
   ]
  },
  {
   "cell_type": "markdown",
   "id": "51102f42-fcd9-4a58-9c8d-dfcd3d2d464e",
   "metadata": {
    "papermill": {
     "duration": 0.007599,
     "end_time": "2023-09-13T05:34:32.918930",
     "exception": false,
     "start_time": "2023-09-13T05:34:32.911331",
     "status": "completed"
    },
    "tags": []
   },
   "source": [
    "Generates a distribution of pvalues under the null hypothesis of no association.\n",
    "\n",
    "This notebook uses individual gene pairs as input for CCC and parallelizes permutations."
   ]
  },
  {
   "cell_type": "markdown",
   "id": "7006ceeb-2651-407d-bfa1-1039727649ef",
   "metadata": {
    "papermill": {
     "duration": 0.002713,
     "end_time": "2023-09-13T05:34:32.925497",
     "exception": false,
     "start_time": "2023-09-13T05:34:32.922784",
     "status": "completed"
    },
    "tags": []
   },
   "source": [
    "# Modules loading"
   ]
  },
  {
   "cell_type": "code",
   "execution_count": 1,
   "id": "1ffa1a96-7545-40b9-ac8b-8627e13de8d4",
   "metadata": {
    "execution": {
     "iopub.execute_input": "2023-09-13T05:34:32.929711Z",
     "iopub.status.busy": "2023-09-13T05:34:32.929570Z",
     "iopub.status.idle": "2023-09-13T05:34:33.098598Z",
     "shell.execute_reply": "2023-09-13T05:34:33.098405Z"
    },
    "papermill": {
     "duration": 0.171923,
     "end_time": "2023-09-13T05:34:33.099464",
     "exception": false,
     "start_time": "2023-09-13T05:34:32.927541",
     "status": "completed"
    },
    "tags": []
   },
   "outputs": [],
   "source": [
    "import numpy as np\n",
    "from joblib import Parallel, delayed\n",
    "\n",
    "from ccc.coef import ccc\n",
    "from ccc import conf"
   ]
  },
  {
   "cell_type": "markdown",
   "id": "0d3cc810-4b17-4213-8f03-6fe7e97a0fe3",
   "metadata": {
    "papermill": {
     "duration": 0.001488,
     "end_time": "2023-09-13T05:34:33.102643",
     "exception": false,
     "start_time": "2023-09-13T05:34:33.101155",
     "status": "completed"
    },
    "tags": []
   },
   "source": [
    "# Settings"
   ]
  },
  {
   "cell_type": "code",
   "execution_count": 2,
   "id": "a8dfa548-6ce1-4edd-bef2-a919fc6ad850",
   "metadata": {
    "execution": {
     "iopub.execute_input": "2023-09-13T05:34:33.106077Z",
     "iopub.status.busy": "2023-09-13T05:34:33.106023Z",
     "iopub.status.idle": "2023-09-13T05:34:33.107959Z",
     "shell.execute_reply": "2023-09-13T05:34:33.107726Z"
    },
    "papermill": {
     "duration": 0.004196,
     "end_time": "2023-09-13T05:34:33.108381",
     "exception": false,
     "start_time": "2023-09-13T05:34:33.104185",
     "status": "completed"
    },
    "tags": []
   },
   "outputs": [],
   "source": [
    "rs = np.random.RandomState(0)"
   ]
  },
  {
   "cell_type": "code",
   "execution_count": 3,
   "id": "74f8f565-ed30-488f-966a-d153550931ed",
   "metadata": {
    "execution": {
     "iopub.execute_input": "2023-09-13T05:34:33.111758Z",
     "iopub.status.busy": "2023-09-13T05:34:33.111670Z",
     "iopub.status.idle": "2023-09-13T05:34:33.115756Z",
     "shell.execute_reply": "2023-09-13T05:34:33.115623Z"
    },
    "papermill": {
     "duration": 0.006278,
     "end_time": "2023-09-13T05:34:33.116208",
     "exception": false,
     "start_time": "2023-09-13T05:34:33.109930",
     "status": "completed"
    },
    "tags": []
   },
   "outputs": [
    {
     "data": {
      "text/plain": [
       "1"
      ]
     },
     "metadata": {},
     "output_type": "display_data"
    },
    {
     "data": {
      "text/plain": [
       "20"
      ]
     },
     "metadata": {},
     "output_type": "display_data"
    }
   ],
   "source": [
    "N_JOBS = 1\n",
    "display(N_JOBS)\n",
    "\n",
    "PVALUE_N_JOBS = conf.GENERAL[\"N_JOBS\"]\n",
    "display(PVALUE_N_JOBS)"
   ]
  },
  {
   "cell_type": "code",
   "execution_count": 4,
   "id": "fd167aff-e768-416f-a078-f926f6023a1e",
   "metadata": {
    "execution": {
     "iopub.execute_input": "2023-09-13T05:34:33.119629Z",
     "iopub.status.busy": "2023-09-13T05:34:33.119524Z",
     "iopub.status.idle": "2023-09-13T05:34:33.120732Z",
     "shell.execute_reply": "2023-09-13T05:34:33.120599Z"
    },
    "papermill": {
     "duration": 0.003397,
     "end_time": "2023-09-13T05:34:33.121159",
     "exception": false,
     "start_time": "2023-09-13T05:34:33.117762",
     "status": "completed"
    },
    "tags": []
   },
   "outputs": [],
   "source": [
    "DATA_N_OBJS, DATA_N_FEATURES = 100, 1000\n",
    "PVALUE_N_PERMS = 1000"
   ]
  },
  {
   "cell_type": "markdown",
   "id": "26bab485-b08e-4f59-b547-1da68fd36d54",
   "metadata": {
    "papermill": {
     "duration": 0.001466,
     "end_time": "2023-09-13T05:34:33.124170",
     "exception": false,
     "start_time": "2023-09-13T05:34:33.122704",
     "status": "completed"
    },
    "tags": []
   },
   "source": [
    "# Paths"
   ]
  },
  {
   "cell_type": "code",
   "execution_count": 5,
   "id": "170ee0f3-a6dd-4c8b-9a99-ec6d02df8e2e",
   "metadata": {
    "execution": {
     "iopub.execute_input": "2023-09-13T05:34:33.127546Z",
     "iopub.status.busy": "2023-09-13T05:34:33.127429Z",
     "iopub.status.idle": "2023-09-13T05:34:33.128759Z",
     "shell.execute_reply": "2023-09-13T05:34:33.128625Z"
    },
    "papermill": {
     "duration": 0.003492,
     "end_time": "2023-09-13T05:34:33.129187",
     "exception": false,
     "start_time": "2023-09-13T05:34:33.125695",
     "status": "completed"
    },
    "tags": []
   },
   "outputs": [],
   "source": [
    "OUTPUT_DIR = conf.RESULTS_DIR / \"ccc_null-pvalues\"\n",
    "OUTPUT_DIR.mkdir(parents=True, exist_ok=True)"
   ]
  },
  {
   "cell_type": "code",
   "execution_count": 6,
   "id": "d083d95e-247e-45cc-bc28-36cf8144383c",
   "metadata": {
    "execution": {
     "iopub.execute_input": "2023-09-13T05:34:33.132594Z",
     "iopub.status.busy": "2023-09-13T05:34:33.132486Z",
     "iopub.status.idle": "2023-09-13T05:34:33.133981Z",
     "shell.execute_reply": "2023-09-13T05:34:33.133853Z"
    },
    "papermill": {
     "duration": 0.003696,
     "end_time": "2023-09-13T05:34:33.134445",
     "exception": false,
     "start_time": "2023-09-13T05:34:33.130749",
     "status": "completed"
    },
    "tags": []
   },
   "outputs": [
    {
     "data": {
      "text/plain": [
       "PosixPath('/opt/data/results/ccc_null-pvalues')"
      ]
     },
     "execution_count": 6,
     "metadata": {},
     "output_type": "execute_result"
    }
   ],
   "source": [
    "OUTPUT_DIR"
   ]
  },
  {
   "cell_type": "markdown",
   "id": "6b593ccb-bce7-4a6b-818f-79d5378d4610",
   "metadata": {
    "papermill": {
     "duration": 0.001474,
     "end_time": "2023-09-13T05:34:33.137507",
     "exception": false,
     "start_time": "2023-09-13T05:34:33.136033",
     "status": "completed"
    },
    "tags": []
   },
   "source": [
    "# Generate random data"
   ]
  },
  {
   "cell_type": "code",
   "execution_count": 7,
   "id": "472ff1df-b4f6-417f-b396-58a55ce0e39a",
   "metadata": {
    "execution": {
     "iopub.execute_input": "2023-09-13T05:34:33.140923Z",
     "iopub.status.busy": "2023-09-13T05:34:33.140817Z",
     "iopub.status.idle": "2023-09-13T05:34:33.142444Z",
     "shell.execute_reply": "2023-09-13T05:34:33.142316Z"
    },
    "papermill": {
     "duration": 0.003821,
     "end_time": "2023-09-13T05:34:33.142869",
     "exception": false,
     "start_time": "2023-09-13T05:34:33.139048",
     "status": "completed"
    },
    "tags": []
   },
   "outputs": [],
   "source": [
    "data = rs.rand(DATA_N_OBJS, DATA_N_FEATURES)"
   ]
  },
  {
   "cell_type": "code",
   "execution_count": 8,
   "id": "acd7a9c0-d8a8-46f5-ab60-2478347adf36",
   "metadata": {
    "execution": {
     "iopub.execute_input": "2023-09-13T05:34:33.146242Z",
     "iopub.status.busy": "2023-09-13T05:34:33.146155Z",
     "iopub.status.idle": "2023-09-13T05:34:33.147592Z",
     "shell.execute_reply": "2023-09-13T05:34:33.147471Z"
    },
    "papermill": {
     "duration": 0.003673,
     "end_time": "2023-09-13T05:34:33.148089",
     "exception": false,
     "start_time": "2023-09-13T05:34:33.144416",
     "status": "completed"
    },
    "tags": []
   },
   "outputs": [
    {
     "data": {
      "text/plain": [
       "(100, 1000)"
      ]
     },
     "execution_count": 8,
     "metadata": {},
     "output_type": "execute_result"
    }
   ],
   "source": [
    "data.shape"
   ]
  },
  {
   "cell_type": "markdown",
   "id": "7c24b674-edde-4b83-817d-c7f10729cdc8",
   "metadata": {
    "papermill": {
     "duration": 0.001527,
     "end_time": "2023-09-13T05:34:33.151238",
     "exception": false,
     "start_time": "2023-09-13T05:34:33.149711",
     "status": "completed"
    },
    "tags": []
   },
   "source": [
    "# Run CCC"
   ]
  },
  {
   "cell_type": "code",
   "execution_count": 9,
   "id": "c8a85ce0-4c5a-4ed9-8ad6-24b21fb10b1e",
   "metadata": {
    "execution": {
     "iopub.execute_input": "2023-09-13T05:34:33.154753Z",
     "iopub.status.busy": "2023-09-13T05:34:33.154670Z",
     "iopub.status.idle": "2023-09-13T05:34:33.155973Z",
     "shell.execute_reply": "2023-09-13T05:34:33.155833Z"
    },
    "papermill": {
     "duration": 0.00364,
     "end_time": "2023-09-13T05:34:33.156443",
     "exception": false,
     "start_time": "2023-09-13T05:34:33.152803",
     "status": "completed"
    },
    "tags": []
   },
   "outputs": [],
   "source": [
    "def ccc_single(x, y):\n",
    "    return ccc(x, y, pvalue_n_perms=PVALUE_N_PERMS, n_jobs=PVALUE_N_JOBS)"
   ]
  },
  {
   "cell_type": "code",
   "execution_count": 10,
   "id": "6f32ad1a-3b2f-4e08-8a53-35cfb68e3970",
   "metadata": {
    "execution": {
     "iopub.execute_input": "2023-09-13T05:34:33.159968Z",
     "iopub.status.busy": "2023-09-13T05:34:33.159888Z",
     "iopub.status.idle": "2023-09-13T05:41:17.739806Z",
     "shell.execute_reply": "2023-09-13T05:41:17.739462Z"
    },
    "papermill": {
     "duration": 404.582713,
     "end_time": "2023-09-13T05:41:17.740760",
     "exception": false,
     "start_time": "2023-09-13T05:34:33.158047",
     "status": "completed"
    },
    "tags": []
   },
   "outputs": [],
   "source": [
    "results = Parallel(n_jobs=N_JOBS)(\n",
    "    delayed(ccc_single)(data[i], data[j])\n",
    "    for i in range(data.shape[0] - 1)\n",
    "    for j in range(i + 1, data.shape[0])\n",
    ")"
   ]
  },
  {
   "cell_type": "code",
   "execution_count": 11,
   "id": "e68a65a5-8bba-4a79-a740-26d722dc670e",
   "metadata": {
    "execution": {
     "iopub.execute_input": "2023-09-13T05:41:17.753527Z",
     "iopub.status.busy": "2023-09-13T05:41:17.753362Z",
     "iopub.status.idle": "2023-09-13T05:41:17.756455Z",
     "shell.execute_reply": "2023-09-13T05:41:17.755937Z"
    },
    "papermill": {
     "duration": 0.014714,
     "end_time": "2023-09-13T05:41:17.757434",
     "exception": false,
     "start_time": "2023-09-13T05:41:17.742720",
     "status": "completed"
    },
    "tags": []
   },
   "outputs": [],
   "source": [
    "assert len(results) == (DATA_N_OBJS * (DATA_N_OBJS - 1)) / 2"
   ]
  },
  {
   "cell_type": "code",
   "execution_count": 12,
   "id": "907fa03e-616a-4463-83e7-4175d714167f",
   "metadata": {
    "execution": {
     "iopub.execute_input": "2023-09-13T05:41:17.763767Z",
     "iopub.status.busy": "2023-09-13T05:41:17.763668Z",
     "iopub.status.idle": "2023-09-13T05:41:17.765760Z",
     "shell.execute_reply": "2023-09-13T05:41:17.765578Z"
    },
    "papermill": {
     "duration": 0.005599,
     "end_time": "2023-09-13T05:41:17.766365",
     "exception": false,
     "start_time": "2023-09-13T05:41:17.760766",
     "status": "completed"
    },
    "tags": []
   },
   "outputs": [
    {
     "data": {
      "text/plain": [
       "(0.0025468387096774193, 0.5364635364635365)"
      ]
     },
     "execution_count": 12,
     "metadata": {},
     "output_type": "execute_result"
    }
   ],
   "source": [
    "results[0]"
   ]
  },
  {
   "cell_type": "code",
   "execution_count": 13,
   "id": "5ed53d3b-e78d-4f4b-a262-c6abe7f8840d",
   "metadata": {
    "execution": {
     "iopub.execute_input": "2023-09-13T05:41:17.770264Z",
     "iopub.status.busy": "2023-09-13T05:41:17.770191Z",
     "iopub.status.idle": "2023-09-13T05:41:17.771761Z",
     "shell.execute_reply": "2023-09-13T05:41:17.771583Z"
    },
    "papermill": {
     "duration": 0.003999,
     "end_time": "2023-09-13T05:41:17.772232",
     "exception": false,
     "start_time": "2023-09-13T05:41:17.768233",
     "status": "completed"
    },
    "tags": []
   },
   "outputs": [],
   "source": [
    "cm_values = [x[0] for x in results]"
   ]
  },
  {
   "cell_type": "code",
   "execution_count": 14,
   "id": "2972d472-725d-4fe0-83d8-57e2f68f8ecb",
   "metadata": {
    "execution": {
     "iopub.execute_input": "2023-09-13T05:41:17.775959Z",
     "iopub.status.busy": "2023-09-13T05:41:17.775887Z",
     "iopub.status.idle": "2023-09-13T05:41:17.777391Z",
     "shell.execute_reply": "2023-09-13T05:41:17.777216Z"
    },
    "papermill": {
     "duration": 0.003992,
     "end_time": "2023-09-13T05:41:17.777848",
     "exception": false,
     "start_time": "2023-09-13T05:41:17.773856",
     "status": "completed"
    },
    "tags": []
   },
   "outputs": [],
   "source": [
    "cm_pvalues = [x[1] for x in results]"
   ]
  },
  {
   "cell_type": "code",
   "execution_count": 15,
   "id": "003f5e04-5e2e-477f-b66a-ea28ac1a8abc",
   "metadata": {
    "execution": {
     "iopub.execute_input": "2023-09-13T05:41:17.781252Z",
     "iopub.status.busy": "2023-09-13T05:41:17.781186Z",
     "iopub.status.idle": "2023-09-13T05:41:17.782949Z",
     "shell.execute_reply": "2023-09-13T05:41:17.782653Z"
    },
    "papermill": {
     "duration": 0.003941,
     "end_time": "2023-09-13T05:41:17.783383",
     "exception": false,
     "start_time": "2023-09-13T05:41:17.779442",
     "status": "completed"
    },
    "tags": []
   },
   "outputs": [],
   "source": [
    "assert len(cm_values) == len(cm_pvalues)\n",
    "assert len(cm_values) == (DATA_N_OBJS * (DATA_N_OBJS - 1)) / 2"
   ]
  },
  {
   "cell_type": "code",
   "execution_count": 16,
   "id": "5525b4ef-2e2e-4338-b52a-37d8308e237d",
   "metadata": {
    "execution": {
     "iopub.execute_input": "2023-09-13T05:41:17.787010Z",
     "iopub.status.busy": "2023-09-13T05:41:17.786869Z",
     "iopub.status.idle": "2023-09-13T05:41:17.788339Z",
     "shell.execute_reply": "2023-09-13T05:41:17.788212Z"
    },
    "papermill": {
     "duration": 0.003743,
     "end_time": "2023-09-13T05:41:17.788723",
     "exception": false,
     "start_time": "2023-09-13T05:41:17.784980",
     "status": "completed"
    },
    "tags": []
   },
   "outputs": [],
   "source": [
    "cm_values = np.array(cm_values)\n",
    "cm_pvalues = np.array(cm_pvalues)"
   ]
  },
  {
   "cell_type": "code",
   "execution_count": 17,
   "id": "e08382ef-423a-4114-9a8f-f1b5abc48055",
   "metadata": {
    "execution": {
     "iopub.execute_input": "2023-09-13T05:41:17.792153Z",
     "iopub.status.busy": "2023-09-13T05:41:17.792103Z",
     "iopub.status.idle": "2023-09-13T05:41:17.793890Z",
     "shell.execute_reply": "2023-09-13T05:41:17.793772Z"
    },
    "papermill": {
     "duration": 0.003946,
     "end_time": "2023-09-13T05:41:17.794299",
     "exception": false,
     "start_time": "2023-09-13T05:41:17.790353",
     "status": "completed"
    },
    "tags": []
   },
   "outputs": [
    {
     "data": {
      "text/plain": [
       "(4950,)"
      ]
     },
     "execution_count": 17,
     "metadata": {},
     "output_type": "execute_result"
    }
   ],
   "source": [
    "cm_values.shape"
   ]
  },
  {
   "cell_type": "code",
   "execution_count": 18,
   "id": "93c4f9d7-6727-4db1-8bcc-1b618ecf41fe",
   "metadata": {
    "execution": {
     "iopub.execute_input": "2023-09-13T05:41:17.797756Z",
     "iopub.status.busy": "2023-09-13T05:41:17.797647Z",
     "iopub.status.idle": "2023-09-13T05:41:17.799254Z",
     "shell.execute_reply": "2023-09-13T05:41:17.799131Z"
    },
    "papermill": {
     "duration": 0.003744,
     "end_time": "2023-09-13T05:41:17.799653",
     "exception": false,
     "start_time": "2023-09-13T05:41:17.795909",
     "status": "completed"
    },
    "tags": []
   },
   "outputs": [
    {
     "data": {
      "text/plain": [
       "array([0.00254684, 0.00104179, 0.00320558, ..., 0.00426304, 0.00043899,\n",
       "       0.00321309])"
      ]
     },
     "execution_count": 18,
     "metadata": {},
     "output_type": "execute_result"
    }
   ],
   "source": [
    "cm_values"
   ]
  },
  {
   "cell_type": "code",
   "execution_count": 19,
   "id": "46e8560e-4c1b-4e2b-b373-f42ca0a59819",
   "metadata": {
    "execution": {
     "iopub.execute_input": "2023-09-13T05:41:17.803165Z",
     "iopub.status.busy": "2023-09-13T05:41:17.803081Z",
     "iopub.status.idle": "2023-09-13T05:41:17.804508Z",
     "shell.execute_reply": "2023-09-13T05:41:17.804386Z"
    },
    "papermill": {
     "duration": 0.003598,
     "end_time": "2023-09-13T05:41:17.804913",
     "exception": false,
     "start_time": "2023-09-13T05:41:17.801315",
     "status": "completed"
    },
    "tags": []
   },
   "outputs": [
    {
     "data": {
      "text/plain": [
       "(4950,)"
      ]
     },
     "execution_count": 19,
     "metadata": {},
     "output_type": "execute_result"
    }
   ],
   "source": [
    "cm_pvalues.shape"
   ]
  },
  {
   "cell_type": "code",
   "execution_count": 20,
   "id": "31ce94b0-ce31-4de6-9848-c1644268bd2b",
   "metadata": {
    "execution": {
     "iopub.execute_input": "2023-09-13T05:41:17.808516Z",
     "iopub.status.busy": "2023-09-13T05:41:17.808472Z",
     "iopub.status.idle": "2023-09-13T05:41:17.809988Z",
     "shell.execute_reply": "2023-09-13T05:41:17.809863Z"
    },
    "papermill": {
     "duration": 0.003761,
     "end_time": "2023-09-13T05:41:17.810389",
     "exception": false,
     "start_time": "2023-09-13T05:41:17.806628",
     "status": "completed"
    },
    "tags": []
   },
   "outputs": [
    {
     "data": {
      "text/plain": [
       "array([0.53646354, 0.92707293, 0.35364635, ..., 0.13186813, 0.98901099,\n",
       "       0.33266733])"
      ]
     },
     "execution_count": 20,
     "metadata": {},
     "output_type": "execute_result"
    }
   ],
   "source": [
    "cm_pvalues"
   ]
  },
  {
   "cell_type": "markdown",
   "id": "d25a59fa-a22b-41e0-84a3-74414ddaad23",
   "metadata": {
    "papermill": {
     "duration": 0.001612,
     "end_time": "2023-09-13T05:41:17.813695",
     "exception": false,
     "start_time": "2023-09-13T05:41:17.812083",
     "status": "completed"
    },
    "tags": []
   },
   "source": [
    "# Save"
   ]
  },
  {
   "cell_type": "code",
   "execution_count": 21,
   "id": "b11f71f7-bab8-4d83-bf49-fd9419648a3d",
   "metadata": {
    "execution": {
     "iopub.execute_input": "2023-09-13T05:41:17.817242Z",
     "iopub.status.busy": "2023-09-13T05:41:17.817158Z",
     "iopub.status.idle": "2023-09-13T05:41:17.818884Z",
     "shell.execute_reply": "2023-09-13T05:41:17.818750Z"
    },
    "papermill": {
     "duration": 0.003918,
     "end_time": "2023-09-13T05:41:17.819298",
     "exception": false,
     "start_time": "2023-09-13T05:41:17.815380",
     "status": "completed"
    },
    "tags": []
   },
   "outputs": [
    {
     "data": {
      "text/plain": [
       "PosixPath('/opt/data/results/ccc_null-pvalues/gene_pairs-cm_values.npy')"
      ]
     },
     "metadata": {},
     "output_type": "display_data"
    }
   ],
   "source": [
    "output_file = OUTPUT_DIR / \"gene_pairs-cm_values.npy\"\n",
    "display(output_file)\n",
    "\n",
    "np.save(output_file, cm_values)"
   ]
  },
  {
   "cell_type": "code",
   "execution_count": 22,
   "id": "12968ead-2e56-4214-956c-08f4f02952e9",
   "metadata": {
    "execution": {
     "iopub.execute_input": "2023-09-13T05:41:17.823009Z",
     "iopub.status.busy": "2023-09-13T05:41:17.822927Z",
     "iopub.status.idle": "2023-09-13T05:41:17.824607Z",
     "shell.execute_reply": "2023-09-13T05:41:17.824479Z"
    },
    "papermill": {
     "duration": 0.004333,
     "end_time": "2023-09-13T05:41:17.825309",
     "exception": false,
     "start_time": "2023-09-13T05:41:17.820976",
     "status": "completed"
    },
    "tags": []
   },
   "outputs": [
    {
     "data": {
      "text/plain": [
       "PosixPath('/opt/data/results/ccc_null-pvalues/gene_pairs-cm_pvalues.npy')"
      ]
     },
     "metadata": {},
     "output_type": "display_data"
    }
   ],
   "source": [
    "output_file = OUTPUT_DIR / \"gene_pairs-cm_pvalues.npy\"\n",
    "display(output_file)\n",
    "\n",
    "np.save(output_file, cm_pvalues)"
   ]
  },
  {
   "cell_type": "code",
   "execution_count": null,
   "id": "5f57efbc-893b-44a7-bc7a-77ca6b72a60a",
   "metadata": {
    "papermill": {
     "duration": 0.001661,
     "end_time": "2023-09-13T05:41:17.828982",
     "exception": false,
     "start_time": "2023-09-13T05:41:17.827321",
     "status": "completed"
    },
    "tags": []
   },
   "outputs": [],
   "source": []
  }
 ],
 "metadata": {
  "jupytext": {
   "cell_metadata_filter": "all,-execution,-papermill,-trusted",
   "notebook_metadata_filter": "-jupytext.text_representation.jupytext_version"
  },
  "kernelspec": {
   "display_name": "Python 3 (ipykernel)",
   "language": "python",
   "name": "python3"
  },
  "language_info": {
   "codemirror_mode": {
    "name": "ipython",
    "version": 3
   },
   "file_extension": ".py",
   "mimetype": "text/x-python",
   "name": "python",
   "nbconvert_exporter": "python",
   "pygments_lexer": "ipython3",
   "version": "3.9.12"
  },
  "papermill": {
   "default_parameters": {},
   "duration": 405.832014,
   "end_time": "2023-09-13T05:41:18.059724",
   "environment_variables": {},
   "exception": null,
   "input_path": "nbs/25_pvalue/01-ccc_pvalue_dist-generate-gene_pairs.ipynb",
   "output_path": "nbs/25_pvalue/01-ccc_pvalue_dist-generate-gene_pairs.run.ipynb",
   "parameters": {},
   "start_time": "2023-09-13T05:34:32.227710",
   "version": "2.3.4"
  }
 },
 "nbformat": 4,
 "nbformat_minor": 5
}
