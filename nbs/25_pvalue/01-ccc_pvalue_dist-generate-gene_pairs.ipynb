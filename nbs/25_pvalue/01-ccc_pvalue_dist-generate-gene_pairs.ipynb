{
 "cells": [
  {
   "cell_type": "markdown",
   "id": "ec52faa3-656f-483e-9617-d7ec0f7d818c",
   "metadata": {
    "papermill": {
     "duration": 0.008739,
     "end_time": "2023-09-11T11:37:14.222325",
     "exception": false,
     "start_time": "2023-09-11T11:37:14.213586",
     "status": "completed"
    },
    "tags": []
   },
   "source": [
    "# Description"
   ]
  },
  {
   "cell_type": "markdown",
   "id": "51102f42-fcd9-4a58-9c8d-dfcd3d2d464e",
   "metadata": {
    "papermill": {
     "duration": 0.006218,
     "end_time": "2023-09-11T11:37:14.238403",
     "exception": false,
     "start_time": "2023-09-11T11:37:14.232185",
     "status": "completed"
    },
    "tags": []
   },
   "source": [
    "Generates a distribution of pvalues under the null hypothesis of no association.\n",
    "\n",
    "This notebook uses individual gene pairs as input for CCC and parallelizes permutations."
   ]
  },
  {
   "cell_type": "markdown",
   "id": "7006ceeb-2651-407d-bfa1-1039727649ef",
   "metadata": {
    "papermill": {
     "duration": 0.00199,
     "end_time": "2023-09-11T11:37:14.243370",
     "exception": false,
     "start_time": "2023-09-11T11:37:14.241380",
     "status": "completed"
    },
    "tags": []
   },
   "source": [
    "# Modules loading"
   ]
  },
  {
   "cell_type": "code",
   "execution_count": 1,
   "id": "1ffa1a96-7545-40b9-ac8b-8627e13de8d4",
   "metadata": {
    "execution": {
     "iopub.execute_input": "2023-09-11T11:37:14.247439Z",
     "iopub.status.busy": "2023-09-11T11:37:14.247218Z",
     "iopub.status.idle": "2023-09-11T11:37:14.417183Z",
     "shell.execute_reply": "2023-09-11T11:37:14.416921Z"
    },
    "papermill": {
     "duration": 0.173158,
     "end_time": "2023-09-11T11:37:14.418115",
     "exception": false,
     "start_time": "2023-09-11T11:37:14.244957",
     "status": "completed"
    },
    "tags": []
   },
   "outputs": [],
   "source": [
    "import numpy as np\n",
    "from joblib import Parallel, delayed\n",
    "\n",
    "from ccc.coef import ccc\n",
    "from ccc import conf"
   ]
  },
  {
   "cell_type": "markdown",
   "id": "0d3cc810-4b17-4213-8f03-6fe7e97a0fe3",
   "metadata": {
    "papermill": {
     "duration": 0.009668,
     "end_time": "2023-09-11T11:37:14.429734",
     "exception": false,
     "start_time": "2023-09-11T11:37:14.420066",
     "status": "completed"
    },
    "tags": []
   },
   "source": [
    "# Settings"
   ]
  },
  {
   "cell_type": "code",
   "execution_count": 2,
   "id": "a8dfa548-6ce1-4edd-bef2-a919fc6ad850",
   "metadata": {
    "execution": {
     "iopub.execute_input": "2023-09-11T11:37:14.433917Z",
     "iopub.status.busy": "2023-09-11T11:37:14.433856Z",
     "iopub.status.idle": "2023-09-11T11:37:14.435472Z",
     "shell.execute_reply": "2023-09-11T11:37:14.435299Z"
    },
    "papermill": {
     "duration": 0.004075,
     "end_time": "2023-09-11T11:37:14.436032",
     "exception": false,
     "start_time": "2023-09-11T11:37:14.431957",
     "status": "completed"
    },
    "tags": []
   },
   "outputs": [],
   "source": [
    "rs = np.random.RandomState(0)"
   ]
  },
  {
   "cell_type": "code",
   "execution_count": 3,
   "id": "74f8f565-ed30-488f-966a-d153550931ed",
   "metadata": {
    "execution": {
     "iopub.execute_input": "2023-09-11T11:37:14.440025Z",
     "iopub.status.busy": "2023-09-11T11:37:14.439958Z",
     "iopub.status.idle": "2023-09-11T11:37:14.444731Z",
     "shell.execute_reply": "2023-09-11T11:37:14.444596Z"
    },
    "papermill": {
     "duration": 0.007658,
     "end_time": "2023-09-11T11:37:14.445394",
     "exception": false,
     "start_time": "2023-09-11T11:37:14.437736",
     "status": "completed"
    },
    "tags": []
   },
   "outputs": [
    {
     "data": {
      "text/plain": [
       "10"
      ]
     },
     "metadata": {},
     "output_type": "display_data"
    },
    {
     "data": {
      "text/plain": [
       "2"
      ]
     },
     "metadata": {},
     "output_type": "display_data"
    }
   ],
   "source": [
    "N_JOBS = conf.GENERAL[\"N_JOBS\"] // 2\n",
    "display(N_JOBS)\n",
    "\n",
    "PVALUE_N_JOBS = 2\n",
    "display(PVALUE_N_JOBS)"
   ]
  },
  {
   "cell_type": "code",
   "execution_count": 4,
   "id": "fd167aff-e768-416f-a078-f926f6023a1e",
   "metadata": {
    "execution": {
     "iopub.execute_input": "2023-09-11T11:37:14.449051Z",
     "iopub.status.busy": "2023-09-11T11:37:14.448927Z",
     "iopub.status.idle": "2023-09-11T11:37:14.450254Z",
     "shell.execute_reply": "2023-09-11T11:37:14.450090Z"
    },
    "papermill": {
     "duration": 0.003838,
     "end_time": "2023-09-11T11:37:14.450859",
     "exception": false,
     "start_time": "2023-09-11T11:37:14.447021",
     "status": "completed"
    },
    "tags": []
   },
   "outputs": [],
   "source": [
    "DATA_N_OBJS, DATA_N_FEATURES = 100, 1000\n",
    "PVALUE_N_PERMS = 1000"
   ]
  },
  {
   "cell_type": "markdown",
   "id": "26bab485-b08e-4f59-b547-1da68fd36d54",
   "metadata": {
    "papermill": {
     "duration": 0.001532,
     "end_time": "2023-09-11T11:37:14.454220",
     "exception": false,
     "start_time": "2023-09-11T11:37:14.452688",
     "status": "completed"
    },
    "tags": []
   },
   "source": [
    "# Paths"
   ]
  },
  {
   "cell_type": "code",
   "execution_count": 5,
   "id": "170ee0f3-a6dd-4c8b-9a99-ec6d02df8e2e",
   "metadata": {
    "execution": {
     "iopub.execute_input": "2023-09-11T11:37:14.457709Z",
     "iopub.status.busy": "2023-09-11T11:37:14.457613Z",
     "iopub.status.idle": "2023-09-11T11:37:14.458987Z",
     "shell.execute_reply": "2023-09-11T11:37:14.458838Z"
    },
    "papermill": {
     "duration": 0.003707,
     "end_time": "2023-09-11T11:37:14.459509",
     "exception": false,
     "start_time": "2023-09-11T11:37:14.455802",
     "status": "completed"
    },
    "tags": []
   },
   "outputs": [],
   "source": [
    "OUTPUT_DIR = conf.RESULTS_DIR / \"ccc_null-pvalues\"\n",
    "OUTPUT_DIR.mkdir(parents=True, exist_ok=True)"
   ]
  },
  {
   "cell_type": "code",
   "execution_count": 6,
   "id": "d083d95e-247e-45cc-bc28-36cf8144383c",
   "metadata": {
    "execution": {
     "iopub.execute_input": "2023-09-11T11:37:14.463004Z",
     "iopub.status.busy": "2023-09-11T11:37:14.462912Z",
     "iopub.status.idle": "2023-09-11T11:37:14.464450Z",
     "shell.execute_reply": "2023-09-11T11:37:14.464328Z"
    },
    "papermill": {
     "duration": 0.003874,
     "end_time": "2023-09-11T11:37:14.464962",
     "exception": false,
     "start_time": "2023-09-11T11:37:14.461088",
     "status": "completed"
    },
    "tags": []
   },
   "outputs": [
    {
     "data": {
      "text/plain": [
       "PosixPath('/opt/data/results/ccc_null-pvalues')"
      ]
     },
     "execution_count": 6,
     "metadata": {},
     "output_type": "execute_result"
    }
   ],
   "source": [
    "OUTPUT_DIR"
   ]
  },
  {
   "cell_type": "markdown",
   "id": "6b593ccb-bce7-4a6b-818f-79d5378d4610",
   "metadata": {
    "papermill": {
     "duration": 0.001522,
     "end_time": "2023-09-11T11:37:14.468143",
     "exception": false,
     "start_time": "2023-09-11T11:37:14.466621",
     "status": "completed"
    },
    "tags": []
   },
   "source": [
    "# Generate random data"
   ]
  },
  {
   "cell_type": "code",
   "execution_count": 7,
   "id": "472ff1df-b4f6-417f-b396-58a55ce0e39a",
   "metadata": {
    "execution": {
     "iopub.execute_input": "2023-09-11T11:37:14.471667Z",
     "iopub.status.busy": "2023-09-11T11:37:14.471577Z",
     "iopub.status.idle": "2023-09-11T11:37:14.473185Z",
     "shell.execute_reply": "2023-09-11T11:37:14.473050Z"
    },
    "papermill": {
     "duration": 0.003933,
     "end_time": "2023-09-11T11:37:14.473661",
     "exception": false,
     "start_time": "2023-09-11T11:37:14.469728",
     "status": "completed"
    },
    "tags": []
   },
   "outputs": [],
   "source": [
    "data = rs.rand(DATA_N_OBJS, DATA_N_FEATURES)"
   ]
  },
  {
   "cell_type": "code",
   "execution_count": 8,
   "id": "acd7a9c0-d8a8-46f5-ab60-2478347adf36",
   "metadata": {
    "execution": {
     "iopub.execute_input": "2023-09-11T11:37:14.477154Z",
     "iopub.status.busy": "2023-09-11T11:37:14.477053Z",
     "iopub.status.idle": "2023-09-11T11:37:14.478488Z",
     "shell.execute_reply": "2023-09-11T11:37:14.478362Z"
    },
    "papermill": {
     "duration": 0.003703,
     "end_time": "2023-09-11T11:37:14.478960",
     "exception": false,
     "start_time": "2023-09-11T11:37:14.475257",
     "status": "completed"
    },
    "tags": []
   },
   "outputs": [
    {
     "data": {
      "text/plain": [
       "(100, 1000)"
      ]
     },
     "execution_count": 8,
     "metadata": {},
     "output_type": "execute_result"
    }
   ],
   "source": [
    "data.shape"
   ]
  },
  {
   "cell_type": "markdown",
   "id": "7c24b674-edde-4b83-817d-c7f10729cdc8",
   "metadata": {
    "papermill": {
     "duration": 0.001588,
     "end_time": "2023-09-11T11:37:14.482195",
     "exception": false,
     "start_time": "2023-09-11T11:37:14.480607",
     "status": "completed"
    },
    "tags": []
   },
   "source": [
    "# Run CCC"
   ]
  },
  {
   "cell_type": "code",
   "execution_count": 9,
   "id": "c8a85ce0-4c5a-4ed9-8ad6-24b21fb10b1e",
   "metadata": {
    "execution": {
     "iopub.execute_input": "2023-09-11T11:37:14.485716Z",
     "iopub.status.busy": "2023-09-11T11:37:14.485627Z",
     "iopub.status.idle": "2023-09-11T11:37:14.487024Z",
     "shell.execute_reply": "2023-09-11T11:37:14.486862Z"
    },
    "papermill": {
     "duration": 0.003671,
     "end_time": "2023-09-11T11:37:14.487472",
     "exception": false,
     "start_time": "2023-09-11T11:37:14.483801",
     "status": "completed"
    },
    "tags": []
   },
   "outputs": [],
   "source": [
    "def ccc_single(x, y):\n",
    "    return ccc(x, y, pvalue_n_perms=PVALUE_N_PERMS, n_jobs=PVALUE_N_JOBS)"
   ]
  },
  {
   "cell_type": "code",
   "execution_count": 10,
   "id": "6f32ad1a-3b2f-4e08-8a53-35cfb68e3970",
   "metadata": {
    "execution": {
     "iopub.execute_input": "2023-09-11T11:37:14.491042Z",
     "iopub.status.busy": "2023-09-11T11:37:14.490953Z",
     "iopub.status.idle": "2023-09-11T11:44:26.880665Z",
     "shell.execute_reply": "2023-09-11T11:44:26.880304Z"
    },
    "papermill": {
     "duration": 432.39233,
     "end_time": "2023-09-11T11:44:26.881486",
     "exception": false,
     "start_time": "2023-09-11T11:37:14.489156",
     "status": "completed"
    },
    "tags": []
   },
   "outputs": [],
   "source": [
    "results = Parallel(n_jobs=N_JOBS)(\n",
    "    delayed(ccc_single)(data[i], data[j])\n",
    "    for i in range(data.shape[0] - 1)\n",
    "    for j in range(i + 1, data.shape[0])\n",
    ")"
   ]
  },
  {
   "cell_type": "code",
   "execution_count": 11,
   "id": "e68a65a5-8bba-4a79-a740-26d722dc670e",
   "metadata": {
    "execution": {
     "iopub.execute_input": "2023-09-11T11:44:26.893906Z",
     "iopub.status.busy": "2023-09-11T11:44:26.893760Z",
     "iopub.status.idle": "2023-09-11T11:44:26.895947Z",
     "shell.execute_reply": "2023-09-11T11:44:26.895758Z"
    },
    "papermill": {
     "duration": 0.012961,
     "end_time": "2023-09-11T11:44:26.896452",
     "exception": false,
     "start_time": "2023-09-11T11:44:26.883491",
     "status": "completed"
    },
    "tags": []
   },
   "outputs": [],
   "source": [
    "assert len(results) == (DATA_N_OBJS * (DATA_N_OBJS - 1)) / 2"
   ]
  },
  {
   "cell_type": "code",
   "execution_count": 12,
   "id": "907fa03e-616a-4463-83e7-4175d714167f",
   "metadata": {
    "execution": {
     "iopub.execute_input": "2023-09-11T11:44:26.901161Z",
     "iopub.status.busy": "2023-09-11T11:44:26.901012Z",
     "iopub.status.idle": "2023-09-11T11:44:26.903104Z",
     "shell.execute_reply": "2023-09-11T11:44:26.902917Z"
    },
    "papermill": {
     "duration": 0.005113,
     "end_time": "2023-09-11T11:44:26.903669",
     "exception": false,
     "start_time": "2023-09-11T11:44:26.898556",
     "status": "completed"
    },
    "tags": []
   },
   "outputs": [
    {
     "data": {
      "text/plain": [
       "(0.0025468387096774193, 0.5474525474525475)"
      ]
     },
     "execution_count": 12,
     "metadata": {},
     "output_type": "execute_result"
    }
   ],
   "source": [
    "results[0]"
   ]
  },
  {
   "cell_type": "code",
   "execution_count": 13,
   "id": "5ed53d3b-e78d-4f4b-a262-c6abe7f8840d",
   "metadata": {
    "execution": {
     "iopub.execute_input": "2023-09-11T11:44:26.907919Z",
     "iopub.status.busy": "2023-09-11T11:44:26.907592Z",
     "iopub.status.idle": "2023-09-11T11:44:26.909981Z",
     "shell.execute_reply": "2023-09-11T11:44:26.909787Z"
    },
    "papermill": {
     "duration": 0.004942,
     "end_time": "2023-09-11T11:44:26.910471",
     "exception": false,
     "start_time": "2023-09-11T11:44:26.905529",
     "status": "completed"
    },
    "tags": []
   },
   "outputs": [],
   "source": [
    "cm_values = [x[0] for x in results]"
   ]
  },
  {
   "cell_type": "code",
   "execution_count": 14,
   "id": "2972d472-725d-4fe0-83d8-57e2f68f8ecb",
   "metadata": {
    "execution": {
     "iopub.execute_input": "2023-09-11T11:44:26.914135Z",
     "iopub.status.busy": "2023-09-11T11:44:26.914017Z",
     "iopub.status.idle": "2023-09-11T11:44:26.915685Z",
     "shell.execute_reply": "2023-09-11T11:44:26.915507Z"
    },
    "papermill": {
     "duration": 0.003978,
     "end_time": "2023-09-11T11:44:26.916118",
     "exception": false,
     "start_time": "2023-09-11T11:44:26.912140",
     "status": "completed"
    },
    "tags": []
   },
   "outputs": [],
   "source": [
    "cm_pvalues = [x[1] for x in results]"
   ]
  },
  {
   "cell_type": "code",
   "execution_count": 15,
   "id": "003f5e04-5e2e-477f-b66a-ea28ac1a8abc",
   "metadata": {
    "execution": {
     "iopub.execute_input": "2023-09-11T11:44:26.920099Z",
     "iopub.status.busy": "2023-09-11T11:44:26.919959Z",
     "iopub.status.idle": "2023-09-11T11:44:26.921616Z",
     "shell.execute_reply": "2023-09-11T11:44:26.921439Z"
    },
    "papermill": {
     "duration": 0.004084,
     "end_time": "2023-09-11T11:44:26.922084",
     "exception": false,
     "start_time": "2023-09-11T11:44:26.918000",
     "status": "completed"
    },
    "tags": []
   },
   "outputs": [],
   "source": [
    "assert len(cm_values) == len(cm_pvalues)\n",
    "assert len(cm_values) == (DATA_N_OBJS * (DATA_N_OBJS - 1)) / 2"
   ]
  },
  {
   "cell_type": "code",
   "execution_count": 16,
   "id": "5525b4ef-2e2e-4338-b52a-37d8308e237d",
   "metadata": {
    "execution": {
     "iopub.execute_input": "2023-09-11T11:44:26.925739Z",
     "iopub.status.busy": "2023-09-11T11:44:26.925627Z",
     "iopub.status.idle": "2023-09-11T11:44:26.927811Z",
     "shell.execute_reply": "2023-09-11T11:44:26.927416Z"
    },
    "papermill": {
     "duration": 0.004473,
     "end_time": "2023-09-11T11:44:26.928216",
     "exception": false,
     "start_time": "2023-09-11T11:44:26.923743",
     "status": "completed"
    },
    "tags": []
   },
   "outputs": [],
   "source": [
    "cm_values = np.array(cm_values)\n",
    "cm_pvalues = np.array(cm_pvalues)"
   ]
  },
  {
   "cell_type": "code",
   "execution_count": 17,
   "id": "e08382ef-423a-4114-9a8f-f1b5abc48055",
   "metadata": {
    "execution": {
     "iopub.execute_input": "2023-09-11T11:44:26.931759Z",
     "iopub.status.busy": "2023-09-11T11:44:26.931688Z",
     "iopub.status.idle": "2023-09-11T11:44:26.933471Z",
     "shell.execute_reply": "2023-09-11T11:44:26.933300Z"
    },
    "papermill": {
     "duration": 0.003985,
     "end_time": "2023-09-11T11:44:26.933904",
     "exception": false,
     "start_time": "2023-09-11T11:44:26.929919",
     "status": "completed"
    },
    "tags": []
   },
   "outputs": [
    {
     "data": {
      "text/plain": [
       "(4950,)"
      ]
     },
     "execution_count": 17,
     "metadata": {},
     "output_type": "execute_result"
    }
   ],
   "source": [
    "cm_values.shape"
   ]
  },
  {
   "cell_type": "code",
   "execution_count": 18,
   "id": "93c4f9d7-6727-4db1-8bcc-1b618ecf41fe",
   "metadata": {
    "execution": {
     "iopub.execute_input": "2023-09-11T11:44:26.937508Z",
     "iopub.status.busy": "2023-09-11T11:44:26.937412Z",
     "iopub.status.idle": "2023-09-11T11:44:26.939223Z",
     "shell.execute_reply": "2023-09-11T11:44:26.939055Z"
    },
    "papermill": {
     "duration": 0.004006,
     "end_time": "2023-09-11T11:44:26.939600",
     "exception": false,
     "start_time": "2023-09-11T11:44:26.935594",
     "status": "completed"
    },
    "tags": []
   },
   "outputs": [
    {
     "data": {
      "text/plain": [
       "array([0.00254684, 0.00104179, 0.00320558, ..., 0.00426304, 0.00043899,\n",
       "       0.00321309])"
      ]
     },
     "execution_count": 18,
     "metadata": {},
     "output_type": "execute_result"
    }
   ],
   "source": [
    "cm_values"
   ]
  },
  {
   "cell_type": "code",
   "execution_count": 19,
   "id": "46e8560e-4c1b-4e2b-b373-f42ca0a59819",
   "metadata": {
    "execution": {
     "iopub.execute_input": "2023-09-11T11:44:26.943195Z",
     "iopub.status.busy": "2023-09-11T11:44:26.943113Z",
     "iopub.status.idle": "2023-09-11T11:44:26.944717Z",
     "shell.execute_reply": "2023-09-11T11:44:26.944553Z"
    },
    "papermill": {
     "duration": 0.003799,
     "end_time": "2023-09-11T11:44:26.945100",
     "exception": false,
     "start_time": "2023-09-11T11:44:26.941301",
     "status": "completed"
    },
    "tags": []
   },
   "outputs": [
    {
     "data": {
      "text/plain": [
       "(4950,)"
      ]
     },
     "execution_count": 19,
     "metadata": {},
     "output_type": "execute_result"
    }
   ],
   "source": [
    "cm_pvalues.shape"
   ]
  },
  {
   "cell_type": "code",
   "execution_count": 20,
   "id": "31ce94b0-ce31-4de6-9848-c1644268bd2b",
   "metadata": {
    "execution": {
     "iopub.execute_input": "2023-09-11T11:44:26.948894Z",
     "iopub.status.busy": "2023-09-11T11:44:26.948785Z",
     "iopub.status.idle": "2023-09-11T11:44:26.950449Z",
     "shell.execute_reply": "2023-09-11T11:44:26.950284Z"
    },
    "papermill": {
     "duration": 0.00393,
     "end_time": "2023-09-11T11:44:26.950862",
     "exception": false,
     "start_time": "2023-09-11T11:44:26.946932",
     "status": "completed"
    },
    "tags": []
   },
   "outputs": [
    {
     "data": {
      "text/plain": [
       "array([0.54745255, 0.92607393, 0.35264735, ..., 0.14485514, 0.98101898,\n",
       "       0.35064935])"
      ]
     },
     "execution_count": 20,
     "metadata": {},
     "output_type": "execute_result"
    }
   ],
   "source": [
    "cm_pvalues"
   ]
  },
  {
   "cell_type": "markdown",
   "id": "d25a59fa-a22b-41e0-84a3-74414ddaad23",
   "metadata": {
    "papermill": {
     "duration": 0.001683,
     "end_time": "2023-09-11T11:44:26.954265",
     "exception": false,
     "start_time": "2023-09-11T11:44:26.952582",
     "status": "completed"
    },
    "tags": []
   },
   "source": [
    "# Save"
   ]
  },
  {
   "cell_type": "code",
   "execution_count": 21,
   "id": "b11f71f7-bab8-4d83-bf49-fd9419648a3d",
   "metadata": {
    "execution": {
     "iopub.execute_input": "2023-09-11T11:44:26.957932Z",
     "iopub.status.busy": "2023-09-11T11:44:26.957841Z",
     "iopub.status.idle": "2023-09-11T11:44:26.959757Z",
     "shell.execute_reply": "2023-09-11T11:44:26.959585Z"
    },
    "papermill": {
     "duration": 0.004183,
     "end_time": "2023-09-11T11:44:26.960173",
     "exception": false,
     "start_time": "2023-09-11T11:44:26.955990",
     "status": "completed"
    },
    "tags": []
   },
   "outputs": [
    {
     "data": {
      "text/plain": [
       "PosixPath('/opt/data/results/ccc_null-pvalues/gene_pairs-cm_values.npy')"
      ]
     },
     "metadata": {},
     "output_type": "display_data"
    }
   ],
   "source": [
    "output_file = OUTPUT_DIR / \"gene_pairs-cm_values.npy\"\n",
    "display(output_file)\n",
    "\n",
    "np.save(output_file, cm_values)"
   ]
  },
  {
   "cell_type": "code",
   "execution_count": 22,
   "id": "12968ead-2e56-4214-956c-08f4f02952e9",
   "metadata": {
    "execution": {
     "iopub.execute_input": "2023-09-11T11:44:26.964022Z",
     "iopub.status.busy": "2023-09-11T11:44:26.963926Z",
     "iopub.status.idle": "2023-09-11T11:44:26.965725Z",
     "shell.execute_reply": "2023-09-11T11:44:26.965556Z"
    },
    "papermill": {
     "duration": 0.004094,
     "end_time": "2023-09-11T11:44:26.966135",
     "exception": false,
     "start_time": "2023-09-11T11:44:26.962041",
     "status": "completed"
    },
    "tags": []
   },
   "outputs": [
    {
     "data": {
      "text/plain": [
       "PosixPath('/opt/data/results/ccc_null-pvalues/gene_pairs-cm_pvalues.npy')"
      ]
     },
     "metadata": {},
     "output_type": "display_data"
    }
   ],
   "source": [
    "output_file = OUTPUT_DIR / \"gene_pairs-cm_pvalues.npy\"\n",
    "display(output_file)\n",
    "\n",
    "np.save(output_file, cm_pvalues)"
   ]
  },
  {
   "cell_type": "code",
   "execution_count": null,
   "id": "5f57efbc-893b-44a7-bc7a-77ca6b72a60a",
   "metadata": {
    "papermill": {
     "duration": 0.013696,
     "end_time": "2023-09-11T11:44:26.981674",
     "exception": false,
     "start_time": "2023-09-11T11:44:26.967978",
     "status": "completed"
    },
    "tags": []
   },
   "outputs": [],
   "source": []
  }
 ],
 "metadata": {
  "jupytext": {
   "cell_metadata_filter": "all,-execution,-papermill,-trusted",
   "notebook_metadata_filter": "-jupytext.text_representation.jupytext_version"
  },
  "kernelspec": {
   "display_name": "Python 3 (ipykernel)",
   "language": "python",
   "name": "python3"
  },
  "language_info": {
   "codemirror_mode": {
    "name": "ipython",
    "version": 3
   },
   "file_extension": ".py",
   "mimetype": "text/x-python",
   "name": "python",
   "nbconvert_exporter": "python",
   "pygments_lexer": "ipython3",
   "version": "3.9.12"
  },
  "papermill": {
   "default_parameters": {},
   "duration": 436.198058,
   "end_time": "2023-09-11T11:44:29.600541",
   "environment_variables": {},
   "exception": null,
   "input_path": "nbs/25_pvalue/01-ccc_pvalue_dist-generate-gene_pairs.ipynb",
   "output_path": "nbs/25_pvalue/01-ccc_pvalue_dist-generate-gene_pairs.run.ipynb",
   "parameters": {},
   "start_time": "2023-09-11T11:37:13.402483",
   "version": "2.3.4"
  }
 },
 "nbformat": 4,
 "nbformat_minor": 5
}
