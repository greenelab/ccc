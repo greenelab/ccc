{
 "cells": [
  {
   "cell_type": "markdown",
   "id": "ec52faa3-656f-483e-9617-d7ec0f7d818c",
   "metadata": {
    "papermill": {
     "duration": 0.005929,
     "end_time": "2023-09-11T17:52:49.933952",
     "exception": false,
     "start_time": "2023-09-11T17:52:49.928023",
     "status": "completed"
    },
    "tags": []
   },
   "source": [
    "# Description"
   ]
  },
  {
   "cell_type": "markdown",
   "id": "51102f42-fcd9-4a58-9c8d-dfcd3d2d464e",
   "metadata": {
    "papermill": {
     "duration": 0.001486,
     "end_time": "2023-09-11T17:52:49.936655",
     "exception": false,
     "start_time": "2023-09-11T17:52:49.935169",
     "status": "completed"
    },
    "tags": []
   },
   "source": [
    "Generates a distribution of pvalues under the null hypothesis of no association.\n",
    "\n",
    "This notebook uses a data matrix as input for CCC and parallelizes computation across gene pairs."
   ]
  },
  {
   "cell_type": "markdown",
   "id": "7006ceeb-2651-407d-bfa1-1039727649ef",
   "metadata": {
    "papermill": {
     "duration": 0.00139,
     "end_time": "2023-09-11T17:52:49.939854",
     "exception": false,
     "start_time": "2023-09-11T17:52:49.938464",
     "status": "completed"
    },
    "tags": []
   },
   "source": [
    "# Modules loading"
   ]
  },
  {
   "cell_type": "code",
   "execution_count": 1,
   "id": "1ffa1a96-7545-40b9-ac8b-8627e13de8d4",
   "metadata": {
    "execution": {
     "iopub.execute_input": "2023-09-11T17:52:49.946832Z",
     "iopub.status.busy": "2023-09-11T17:52:49.946729Z",
     "iopub.status.idle": "2023-09-11T17:52:50.124145Z",
     "shell.execute_reply": "2023-09-11T17:52:50.123759Z"
    },
    "papermill": {
     "duration": 0.182226,
     "end_time": "2023-09-11T17:52:50.125021",
     "exception": false,
     "start_time": "2023-09-11T17:52:49.942795",
     "status": "completed"
    },
    "tags": []
   },
   "outputs": [],
   "source": [
    "import numpy as np\n",
    "\n",
    "from ccc.coef import ccc\n",
    "from ccc import conf"
   ]
  },
  {
   "cell_type": "markdown",
   "id": "0d3cc810-4b17-4213-8f03-6fe7e97a0fe3",
   "metadata": {
    "papermill": {
     "duration": 0.001101,
     "end_time": "2023-09-11T17:52:50.127575",
     "exception": false,
     "start_time": "2023-09-11T17:52:50.126474",
     "status": "completed"
    },
    "tags": []
   },
   "source": [
    "# Settings"
   ]
  },
  {
   "cell_type": "code",
   "execution_count": 2,
   "id": "a8dfa548-6ce1-4edd-bef2-a919fc6ad850",
   "metadata": {
    "execution": {
     "iopub.execute_input": "2023-09-11T17:52:50.130500Z",
     "iopub.status.busy": "2023-09-11T17:52:50.130436Z",
     "iopub.status.idle": "2023-09-11T17:52:50.132504Z",
     "shell.execute_reply": "2023-09-11T17:52:50.132222Z"
    },
    "papermill": {
     "duration": 0.004063,
     "end_time": "2023-09-11T17:52:50.132962",
     "exception": false,
     "start_time": "2023-09-11T17:52:50.128899",
     "status": "completed"
    },
    "tags": []
   },
   "outputs": [],
   "source": [
    "rs = np.random.RandomState(0)"
   ]
  },
  {
   "cell_type": "code",
   "execution_count": 3,
   "id": "fd167aff-e768-416f-a078-f926f6023a1e",
   "metadata": {
    "execution": {
     "iopub.execute_input": "2023-09-11T17:52:50.135570Z",
     "iopub.status.busy": "2023-09-11T17:52:50.135499Z",
     "iopub.status.idle": "2023-09-11T17:52:50.136983Z",
     "shell.execute_reply": "2023-09-11T17:52:50.136846Z"
    },
    "papermill": {
     "duration": 0.003303,
     "end_time": "2023-09-11T17:52:50.137414",
     "exception": false,
     "start_time": "2023-09-11T17:52:50.134111",
     "status": "completed"
    },
    "tags": []
   },
   "outputs": [],
   "source": [
    "DATA_N_OBJS, DATA_N_FEATURES = 100, 1000\n",
    "PVALUE_N_PERMS = 1000"
   ]
  },
  {
   "cell_type": "markdown",
   "id": "26bab485-b08e-4f59-b547-1da68fd36d54",
   "metadata": {
    "papermill": {
     "duration": 0.001077,
     "end_time": "2023-09-11T17:52:50.139620",
     "exception": false,
     "start_time": "2023-09-11T17:52:50.138543",
     "status": "completed"
    },
    "tags": []
   },
   "source": [
    "# Paths"
   ]
  },
  {
   "cell_type": "code",
   "execution_count": 4,
   "id": "170ee0f3-a6dd-4c8b-9a99-ec6d02df8e2e",
   "metadata": {
    "execution": {
     "iopub.execute_input": "2023-09-11T17:52:50.142128Z",
     "iopub.status.busy": "2023-09-11T17:52:50.142018Z",
     "iopub.status.idle": "2023-09-11T17:52:50.143331Z",
     "shell.execute_reply": "2023-09-11T17:52:50.143198Z"
    },
    "papermill": {
     "duration": 0.002994,
     "end_time": "2023-09-11T17:52:50.143717",
     "exception": false,
     "start_time": "2023-09-11T17:52:50.140723",
     "status": "completed"
    },
    "tags": []
   },
   "outputs": [],
   "source": [
    "OUTPUT_DIR = conf.RESULTS_DIR / \"ccc_null-pvalues\"\n",
    "OUTPUT_DIR.mkdir(parents=True, exist_ok=True)"
   ]
  },
  {
   "cell_type": "code",
   "execution_count": 5,
   "id": "d083d95e-247e-45cc-bc28-36cf8144383c",
   "metadata": {
    "execution": {
     "iopub.execute_input": "2023-09-11T17:52:50.146294Z",
     "iopub.status.busy": "2023-09-11T17:52:50.146187Z",
     "iopub.status.idle": "2023-09-11T17:52:50.149223Z",
     "shell.execute_reply": "2023-09-11T17:52:50.149098Z"
    },
    "papermill": {
     "duration": 0.004831,
     "end_time": "2023-09-11T17:52:50.149701",
     "exception": false,
     "start_time": "2023-09-11T17:52:50.144870",
     "status": "completed"
    },
    "tags": []
   },
   "outputs": [
    {
     "data": {
      "text/plain": [
       "PosixPath('/opt/data/results/ccc_null-pvalues')"
      ]
     },
     "execution_count": 5,
     "metadata": {},
     "output_type": "execute_result"
    }
   ],
   "source": [
    "OUTPUT_DIR"
   ]
  },
  {
   "cell_type": "markdown",
   "id": "6b593ccb-bce7-4a6b-818f-79d5378d4610",
   "metadata": {
    "papermill": {
     "duration": 0.001088,
     "end_time": "2023-09-11T17:52:50.151987",
     "exception": false,
     "start_time": "2023-09-11T17:52:50.150899",
     "status": "completed"
    },
    "tags": []
   },
   "source": [
    "# Generate random data"
   ]
  },
  {
   "cell_type": "code",
   "execution_count": 6,
   "id": "472ff1df-b4f6-417f-b396-58a55ce0e39a",
   "metadata": {
    "execution": {
     "iopub.execute_input": "2023-09-11T17:52:50.154716Z",
     "iopub.status.busy": "2023-09-11T17:52:50.154668Z",
     "iopub.status.idle": "2023-09-11T17:52:50.156207Z",
     "shell.execute_reply": "2023-09-11T17:52:50.156075Z"
    },
    "papermill": {
     "duration": 0.003278,
     "end_time": "2023-09-11T17:52:50.156582",
     "exception": false,
     "start_time": "2023-09-11T17:52:50.153304",
     "status": "completed"
    },
    "tags": []
   },
   "outputs": [],
   "source": [
    "data = rs.rand(DATA_N_OBJS, DATA_N_FEATURES)"
   ]
  },
  {
   "cell_type": "code",
   "execution_count": 7,
   "id": "acd7a9c0-d8a8-46f5-ab60-2478347adf36",
   "metadata": {
    "execution": {
     "iopub.execute_input": "2023-09-11T17:52:50.159202Z",
     "iopub.status.busy": "2023-09-11T17:52:50.159096Z",
     "iopub.status.idle": "2023-09-11T17:52:50.160577Z",
     "shell.execute_reply": "2023-09-11T17:52:50.160457Z"
    },
    "papermill": {
     "duration": 0.003187,
     "end_time": "2023-09-11T17:52:50.160957",
     "exception": false,
     "start_time": "2023-09-11T17:52:50.157770",
     "status": "completed"
    },
    "tags": []
   },
   "outputs": [
    {
     "data": {
      "text/plain": [
       "(100, 1000)"
      ]
     },
     "execution_count": 7,
     "metadata": {},
     "output_type": "execute_result"
    }
   ],
   "source": [
    "data.shape"
   ]
  },
  {
   "cell_type": "markdown",
   "id": "7c24b674-edde-4b83-817d-c7f10729cdc8",
   "metadata": {
    "papermill": {
     "duration": 0.001151,
     "end_time": "2023-09-11T17:52:50.163292",
     "exception": false,
     "start_time": "2023-09-11T17:52:50.162141",
     "status": "completed"
    },
    "tags": []
   },
   "source": [
    "# Run CCC"
   ]
  },
  {
   "cell_type": "code",
   "execution_count": 8,
   "id": "5513799a-a239-4c66-ba6f-88290caf4484",
   "metadata": {
    "execution": {
     "iopub.execute_input": "2023-09-11T17:52:50.166084Z",
     "iopub.status.busy": "2023-09-11T17:52:50.165812Z",
     "iopub.status.idle": "2023-09-11T17:55:26.750248Z",
     "shell.execute_reply": "2023-09-11T17:55:26.749725Z"
    },
    "papermill": {
     "duration": 156.586941,
     "end_time": "2023-09-11T17:55:26.751402",
     "exception": false,
     "start_time": "2023-09-11T17:52:50.164461",
     "status": "completed"
    },
    "tags": []
   },
   "outputs": [],
   "source": [
    "res = ccc(\n",
    "    data,\n",
    "    n_jobs=conf.GENERAL[\"N_JOBS\"],\n",
    "    pvalue_n_perms=PVALUE_N_PERMS,\n",
    ")"
   ]
  },
  {
   "cell_type": "code",
   "execution_count": 9,
   "id": "5525b4ef-2e2e-4338-b52a-37d8308e237d",
   "metadata": {
    "execution": {
     "iopub.execute_input": "2023-09-11T17:55:26.764522Z",
     "iopub.status.busy": "2023-09-11T17:55:26.764416Z",
     "iopub.status.idle": "2023-09-11T17:55:26.767097Z",
     "shell.execute_reply": "2023-09-11T17:55:26.766661Z"
    },
    "papermill": {
     "duration": 0.013682,
     "end_time": "2023-09-11T17:55:26.767910",
     "exception": false,
     "start_time": "2023-09-11T17:55:26.754228",
     "status": "completed"
    },
    "tags": []
   },
   "outputs": [],
   "source": [
    "cm_values, cm_pvalues = res"
   ]
  },
  {
   "cell_type": "code",
   "execution_count": 10,
   "id": "e08382ef-423a-4114-9a8f-f1b5abc48055",
   "metadata": {
    "execution": {
     "iopub.execute_input": "2023-09-11T17:55:26.773682Z",
     "iopub.status.busy": "2023-09-11T17:55:26.773396Z",
     "iopub.status.idle": "2023-09-11T17:55:26.777091Z",
     "shell.execute_reply": "2023-09-11T17:55:26.776689Z"
    },
    "papermill": {
     "duration": 0.008129,
     "end_time": "2023-09-11T17:55:26.778333",
     "exception": false,
     "start_time": "2023-09-11T17:55:26.770204",
     "status": "completed"
    },
    "tags": []
   },
   "outputs": [
    {
     "data": {
      "text/plain": [
       "(4950,)"
      ]
     },
     "execution_count": 10,
     "metadata": {},
     "output_type": "execute_result"
    }
   ],
   "source": [
    "cm_values.shape"
   ]
  },
  {
   "cell_type": "code",
   "execution_count": 11,
   "id": "46e8560e-4c1b-4e2b-b373-f42ca0a59819",
   "metadata": {
    "execution": {
     "iopub.execute_input": "2023-09-11T17:55:26.784277Z",
     "iopub.status.busy": "2023-09-11T17:55:26.784108Z",
     "iopub.status.idle": "2023-09-11T17:55:26.786141Z",
     "shell.execute_reply": "2023-09-11T17:55:26.785947Z"
    },
    "papermill": {
     "duration": 0.005663,
     "end_time": "2023-09-11T17:55:26.786999",
     "exception": false,
     "start_time": "2023-09-11T17:55:26.781336",
     "status": "completed"
    },
    "tags": []
   },
   "outputs": [
    {
     "data": {
      "text/plain": [
       "(4950,)"
      ]
     },
     "execution_count": 11,
     "metadata": {},
     "output_type": "execute_result"
    }
   ],
   "source": [
    "cm_pvalues.shape"
   ]
  },
  {
   "cell_type": "markdown",
   "id": "d25a59fa-a22b-41e0-84a3-74414ddaad23",
   "metadata": {
    "papermill": {
     "duration": 0.001574,
     "end_time": "2023-09-11T17:55:26.790573",
     "exception": false,
     "start_time": "2023-09-11T17:55:26.788999",
     "status": "completed"
    },
    "tags": []
   },
   "source": [
    "# Save"
   ]
  },
  {
   "cell_type": "code",
   "execution_count": 12,
   "id": "b11f71f7-bab8-4d83-bf49-fd9419648a3d",
   "metadata": {
    "execution": {
     "iopub.execute_input": "2023-09-11T17:55:26.793539Z",
     "iopub.status.busy": "2023-09-11T17:55:26.793456Z",
     "iopub.status.idle": "2023-09-11T17:55:26.795236Z",
     "shell.execute_reply": "2023-09-11T17:55:26.795109Z"
    },
    "papermill": {
     "duration": 0.003834,
     "end_time": "2023-09-11T17:55:26.795797",
     "exception": false,
     "start_time": "2023-09-11T17:55:26.791963",
     "status": "completed"
    },
    "tags": []
   },
   "outputs": [
    {
     "data": {
      "text/plain": [
       "PosixPath('/opt/data/results/ccc_null-pvalues/data_matrix-cm_values.npy')"
      ]
     },
     "metadata": {},
     "output_type": "display_data"
    }
   ],
   "source": [
    "output_file = OUTPUT_DIR / \"data_matrix-cm_values.npy\"\n",
    "display(output_file)\n",
    "\n",
    "np.save(output_file, cm_values)"
   ]
  },
  {
   "cell_type": "code",
   "execution_count": 13,
   "id": "12968ead-2e56-4214-956c-08f4f02952e9",
   "metadata": {
    "execution": {
     "iopub.execute_input": "2023-09-11T17:55:26.798598Z",
     "iopub.status.busy": "2023-09-11T17:55:26.798514Z",
     "iopub.status.idle": "2023-09-11T17:55:26.800120Z",
     "shell.execute_reply": "2023-09-11T17:55:26.799993Z"
    },
    "papermill": {
     "duration": 0.003489,
     "end_time": "2023-09-11T17:55:26.800559",
     "exception": false,
     "start_time": "2023-09-11T17:55:26.797070",
     "status": "completed"
    },
    "tags": []
   },
   "outputs": [
    {
     "data": {
      "text/plain": [
       "PosixPath('/opt/data/results/ccc_null-pvalues/data_matrix-cm_pvalues.npy')"
      ]
     },
     "metadata": {},
     "output_type": "display_data"
    }
   ],
   "source": [
    "output_file = OUTPUT_DIR / \"data_matrix-cm_pvalues.npy\"\n",
    "display(output_file)\n",
    "\n",
    "np.save(output_file, cm_pvalues)"
   ]
  },
  {
   "cell_type": "code",
   "execution_count": null,
   "id": "5f57efbc-893b-44a7-bc7a-77ca6b72a60a",
   "metadata": {
    "papermill": {
     "duration": 0.001193,
     "end_time": "2023-09-11T17:55:26.803009",
     "exception": false,
     "start_time": "2023-09-11T17:55:26.801816",
     "status": "completed"
    },
    "tags": []
   },
   "outputs": [],
   "source": []
  }
 ],
 "metadata": {
  "jupytext": {
   "cell_metadata_filter": "all,-execution,-papermill,-trusted",
   "notebook_metadata_filter": "-jupytext.text_representation.jupytext_version"
  },
  "kernelspec": {
   "display_name": "Python 3 (ipykernel)",
   "language": "python",
   "name": "python3"
  },
  "language_info": {
   "codemirror_mode": {
    "name": "ipython",
    "version": 3
   },
   "file_extension": ".py",
   "mimetype": "text/x-python",
   "name": "python",
   "nbconvert_exporter": "python",
   "pygments_lexer": "ipython3",
   "version": "3.9.12"
  },
  "papermill": {
   "default_parameters": {},
   "duration": 157.654193,
   "end_time": "2023-09-11T17:55:26.918651",
   "environment_variables": {},
   "exception": null,
   "input_path": "nbs/25_pvalue/00-ccc_pvalue_dist-generate-data_matrix.ipynb",
   "output_path": "nbs/25_pvalue/00-ccc_pvalue_dist-generate-data_matrix.run.ipynb",
   "parameters": {},
   "start_time": "2023-09-11T17:52:49.264458",
   "version": "2.3.4"
  }
 },
 "nbformat": 4,
 "nbformat_minor": 5
}
