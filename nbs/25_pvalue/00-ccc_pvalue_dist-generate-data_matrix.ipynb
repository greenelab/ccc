{
 "cells": [
  {
   "cell_type": "markdown",
   "id": "ec52faa3-656f-483e-9617-d7ec0f7d818c",
   "metadata": {
    "papermill": {
     "duration": 0.00686,
     "end_time": "2023-09-11T11:34:31.179513",
     "exception": false,
     "start_time": "2023-09-11T11:34:31.172653",
     "status": "completed"
    },
    "tags": []
   },
   "source": [
    "# Description"
   ]
  },
  {
   "cell_type": "markdown",
   "id": "51102f42-fcd9-4a58-9c8d-dfcd3d2d464e",
   "metadata": {
    "papermill": {
     "duration": 0.001049,
     "end_time": "2023-09-11T11:34:31.181948",
     "exception": false,
     "start_time": "2023-09-11T11:34:31.180899",
     "status": "completed"
    },
    "tags": []
   },
   "source": [
    "Generates a distribution of pvalues under the null hypothesis of no association.\n",
    "\n",
    "This notebook uses a data matrix as input for CCC and parallelizes computation across gene pairs."
   ]
  },
  {
   "cell_type": "markdown",
   "id": "7006ceeb-2651-407d-bfa1-1039727649ef",
   "metadata": {
    "papermill": {
     "duration": 0.001029,
     "end_time": "2023-09-11T11:34:31.184691",
     "exception": false,
     "start_time": "2023-09-11T11:34:31.183662",
     "status": "completed"
    },
    "tags": []
   },
   "source": [
    "# Modules loading"
   ]
  },
  {
   "cell_type": "code",
   "execution_count": 1,
   "id": "1ffa1a96-7545-40b9-ac8b-8627e13de8d4",
   "metadata": {
    "execution": {
     "iopub.execute_input": "2023-09-11T11:34:31.187764Z",
     "iopub.status.busy": "2023-09-11T11:34:31.187662Z",
     "iopub.status.idle": "2023-09-11T11:34:33.937239Z",
     "shell.execute_reply": "2023-09-11T11:34:33.936990Z"
    },
    "papermill": {
     "duration": 2.752244,
     "end_time": "2023-09-11T11:34:33.938197",
     "exception": false,
     "start_time": "2023-09-11T11:34:31.185953",
     "status": "completed"
    },
    "tags": []
   },
   "outputs": [],
   "source": [
    "import numpy as np\n",
    "\n",
    "from ccc.coef import ccc\n",
    "from ccc import conf"
   ]
  },
  {
   "cell_type": "markdown",
   "id": "0d3cc810-4b17-4213-8f03-6fe7e97a0fe3",
   "metadata": {
    "papermill": {
     "duration": 0.009782,
     "end_time": "2023-09-11T11:34:33.949358",
     "exception": false,
     "start_time": "2023-09-11T11:34:33.939576",
     "status": "completed"
    },
    "tags": []
   },
   "source": [
    "# Settings"
   ]
  },
  {
   "cell_type": "code",
   "execution_count": 2,
   "id": "a8dfa548-6ce1-4edd-bef2-a919fc6ad850",
   "metadata": {
    "execution": {
     "iopub.execute_input": "2023-09-11T11:34:33.954900Z",
     "iopub.status.busy": "2023-09-11T11:34:33.954825Z",
     "iopub.status.idle": "2023-09-11T11:34:33.956701Z",
     "shell.execute_reply": "2023-09-11T11:34:33.956529Z"
    },
    "papermill": {
     "duration": 0.004388,
     "end_time": "2023-09-11T11:34:33.957389",
     "exception": false,
     "start_time": "2023-09-11T11:34:33.953001",
     "status": "completed"
    },
    "tags": []
   },
   "outputs": [],
   "source": [
    "rs = np.random.RandomState(0)"
   ]
  },
  {
   "cell_type": "code",
   "execution_count": 3,
   "id": "fd167aff-e768-416f-a078-f926f6023a1e",
   "metadata": {
    "execution": {
     "iopub.execute_input": "2023-09-11T11:34:33.960500Z",
     "iopub.status.busy": "2023-09-11T11:34:33.960356Z",
     "iopub.status.idle": "2023-09-11T11:34:33.961801Z",
     "shell.execute_reply": "2023-09-11T11:34:33.961592Z"
    },
    "papermill": {
     "duration": 0.003848,
     "end_time": "2023-09-11T11:34:33.962593",
     "exception": false,
     "start_time": "2023-09-11T11:34:33.958745",
     "status": "completed"
    },
    "tags": []
   },
   "outputs": [],
   "source": [
    "DATA_N_OBJS, DATA_N_FEATURES = 100, 1000\n",
    "PVALUE_N_PERMS = 1000"
   ]
  },
  {
   "cell_type": "markdown",
   "id": "26bab485-b08e-4f59-b547-1da68fd36d54",
   "metadata": {
    "papermill": {
     "duration": 0.001424,
     "end_time": "2023-09-11T11:34:33.965491",
     "exception": false,
     "start_time": "2023-09-11T11:34:33.964067",
     "status": "completed"
    },
    "tags": []
   },
   "source": [
    "# Paths"
   ]
  },
  {
   "cell_type": "code",
   "execution_count": 4,
   "id": "170ee0f3-a6dd-4c8b-9a99-ec6d02df8e2e",
   "metadata": {
    "execution": {
     "iopub.execute_input": "2023-09-11T11:34:33.969043Z",
     "iopub.status.busy": "2023-09-11T11:34:33.968902Z",
     "iopub.status.idle": "2023-09-11T11:34:33.970390Z",
     "shell.execute_reply": "2023-09-11T11:34:33.970229Z"
    },
    "papermill": {
     "duration": 0.003934,
     "end_time": "2023-09-11T11:34:33.971049",
     "exception": false,
     "start_time": "2023-09-11T11:34:33.967115",
     "status": "completed"
    },
    "tags": []
   },
   "outputs": [],
   "source": [
    "OUTPUT_DIR = conf.RESULTS_DIR / \"ccc_null-pvalues\"\n",
    "OUTPUT_DIR.mkdir(parents=True, exist_ok=True)"
   ]
  },
  {
   "cell_type": "code",
   "execution_count": 5,
   "id": "d083d95e-247e-45cc-bc28-36cf8144383c",
   "metadata": {
    "execution": {
     "iopub.execute_input": "2023-09-11T11:34:33.973838Z",
     "iopub.status.busy": "2023-09-11T11:34:33.973742Z",
     "iopub.status.idle": "2023-09-11T11:34:33.976815Z",
     "shell.execute_reply": "2023-09-11T11:34:33.976692Z"
    },
    "papermill": {
     "duration": 0.004993,
     "end_time": "2023-09-11T11:34:33.977302",
     "exception": false,
     "start_time": "2023-09-11T11:34:33.972309",
     "status": "completed"
    },
    "tags": []
   },
   "outputs": [
    {
     "data": {
      "text/plain": [
       "PosixPath('/opt/data/results/ccc_null-pvalues')"
      ]
     },
     "execution_count": 5,
     "metadata": {},
     "output_type": "execute_result"
    }
   ],
   "source": [
    "OUTPUT_DIR"
   ]
  },
  {
   "cell_type": "markdown",
   "id": "6b593ccb-bce7-4a6b-818f-79d5378d4610",
   "metadata": {
    "papermill": {
     "duration": 0.001123,
     "end_time": "2023-09-11T11:34:33.979611",
     "exception": false,
     "start_time": "2023-09-11T11:34:33.978488",
     "status": "completed"
    },
    "tags": []
   },
   "source": [
    "# Generate random data"
   ]
  },
  {
   "cell_type": "code",
   "execution_count": 6,
   "id": "472ff1df-b4f6-417f-b396-58a55ce0e39a",
   "metadata": {
    "execution": {
     "iopub.execute_input": "2023-09-11T11:34:33.982225Z",
     "iopub.status.busy": "2023-09-11T11:34:33.982117Z",
     "iopub.status.idle": "2023-09-11T11:34:33.983592Z",
     "shell.execute_reply": "2023-09-11T11:34:33.983457Z"
    },
    "papermill": {
     "duration": 0.003487,
     "end_time": "2023-09-11T11:34:33.984223",
     "exception": false,
     "start_time": "2023-09-11T11:34:33.980736",
     "status": "completed"
    },
    "tags": []
   },
   "outputs": [],
   "source": [
    "data = rs.rand(DATA_N_OBJS, DATA_N_FEATURES)"
   ]
  },
  {
   "cell_type": "code",
   "execution_count": 7,
   "id": "acd7a9c0-d8a8-46f5-ab60-2478347adf36",
   "metadata": {
    "execution": {
     "iopub.execute_input": "2023-09-11T11:34:33.986866Z",
     "iopub.status.busy": "2023-09-11T11:34:33.986777Z",
     "iopub.status.idle": "2023-09-11T11:34:33.988538Z",
     "shell.execute_reply": "2023-09-11T11:34:33.988265Z"
    },
    "papermill": {
     "duration": 0.003654,
     "end_time": "2023-09-11T11:34:33.989062",
     "exception": false,
     "start_time": "2023-09-11T11:34:33.985408",
     "status": "completed"
    },
    "tags": []
   },
   "outputs": [
    {
     "data": {
      "text/plain": [
       "(100, 1000)"
      ]
     },
     "execution_count": 7,
     "metadata": {},
     "output_type": "execute_result"
    }
   ],
   "source": [
    "data.shape"
   ]
  },
  {
   "cell_type": "markdown",
   "id": "7c24b674-edde-4b83-817d-c7f10729cdc8",
   "metadata": {
    "papermill": {
     "duration": 0.001275,
     "end_time": "2023-09-11T11:34:33.991569",
     "exception": false,
     "start_time": "2023-09-11T11:34:33.990294",
     "status": "completed"
    },
    "tags": []
   },
   "source": [
    "# Run CCC"
   ]
  },
  {
   "cell_type": "code",
   "execution_count": 8,
   "id": "5513799a-a239-4c66-ba6f-88290caf4484",
   "metadata": {
    "execution": {
     "iopub.execute_input": "2023-09-11T11:34:33.995209Z",
     "iopub.status.busy": "2023-09-11T11:34:33.995017Z",
     "iopub.status.idle": "2023-09-11T11:37:12.319993Z",
     "shell.execute_reply": "2023-09-11T11:37:12.319608Z"
    },
    "papermill": {
     "duration": 158.328194,
     "end_time": "2023-09-11T11:37:12.321220",
     "exception": false,
     "start_time": "2023-09-11T11:34:33.993026",
     "status": "completed"
    },
    "tags": []
   },
   "outputs": [],
   "source": [
    "res = ccc(\n",
    "    data,\n",
    "    n_jobs=conf.GENERAL[\"N_JOBS\"],\n",
    "    pvalue_n_perms=PVALUE_N_PERMS,\n",
    ")"
   ]
  },
  {
   "cell_type": "code",
   "execution_count": 9,
   "id": "5525b4ef-2e2e-4338-b52a-37d8308e237d",
   "metadata": {
    "execution": {
     "iopub.execute_input": "2023-09-11T11:37:12.334141Z",
     "iopub.status.busy": "2023-09-11T11:37:12.334046Z",
     "iopub.status.idle": "2023-09-11T11:37:12.336352Z",
     "shell.execute_reply": "2023-09-11T11:37:12.336127Z"
    },
    "papermill": {
     "duration": 0.013803,
     "end_time": "2023-09-11T11:37:12.337550",
     "exception": false,
     "start_time": "2023-09-11T11:37:12.323747",
     "status": "completed"
    },
    "tags": []
   },
   "outputs": [],
   "source": [
    "cm_values, cm_pvalues = res"
   ]
  },
  {
   "cell_type": "code",
   "execution_count": 10,
   "id": "e08382ef-423a-4114-9a8f-f1b5abc48055",
   "metadata": {
    "execution": {
     "iopub.execute_input": "2023-09-11T11:37:12.344648Z",
     "iopub.status.busy": "2023-09-11T11:37:12.344453Z",
     "iopub.status.idle": "2023-09-11T11:37:12.346870Z",
     "shell.execute_reply": "2023-09-11T11:37:12.346675Z"
    },
    "papermill": {
     "duration": 0.006885,
     "end_time": "2023-09-11T11:37:12.347661",
     "exception": false,
     "start_time": "2023-09-11T11:37:12.340776",
     "status": "completed"
    },
    "tags": []
   },
   "outputs": [
    {
     "data": {
      "text/plain": [
       "(4950,)"
      ]
     },
     "execution_count": 10,
     "metadata": {},
     "output_type": "execute_result"
    }
   ],
   "source": [
    "cm_values.shape"
   ]
  },
  {
   "cell_type": "code",
   "execution_count": 11,
   "id": "46e8560e-4c1b-4e2b-b373-f42ca0a59819",
   "metadata": {
    "execution": {
     "iopub.execute_input": "2023-09-11T11:37:12.352507Z",
     "iopub.status.busy": "2023-09-11T11:37:12.352237Z",
     "iopub.status.idle": "2023-09-11T11:37:12.354770Z",
     "shell.execute_reply": "2023-09-11T11:37:12.354489Z"
    },
    "papermill": {
     "duration": 0.005713,
     "end_time": "2023-09-11T11:37:12.355652",
     "exception": false,
     "start_time": "2023-09-11T11:37:12.349939",
     "status": "completed"
    },
    "tags": []
   },
   "outputs": [
    {
     "data": {
      "text/plain": [
       "(4950,)"
      ]
     },
     "execution_count": 11,
     "metadata": {},
     "output_type": "execute_result"
    }
   ],
   "source": [
    "cm_pvalues.shape"
   ]
  },
  {
   "cell_type": "markdown",
   "id": "d25a59fa-a22b-41e0-84a3-74414ddaad23",
   "metadata": {
    "papermill": {
     "duration": 0.003208,
     "end_time": "2023-09-11T11:37:12.361847",
     "exception": false,
     "start_time": "2023-09-11T11:37:12.358639",
     "status": "completed"
    },
    "tags": []
   },
   "source": [
    "# Save"
   ]
  },
  {
   "cell_type": "code",
   "execution_count": 12,
   "id": "b11f71f7-bab8-4d83-bf49-fd9419648a3d",
   "metadata": {
    "execution": {
     "iopub.execute_input": "2023-09-11T11:37:12.368176Z",
     "iopub.status.busy": "2023-09-11T11:37:12.367927Z",
     "iopub.status.idle": "2023-09-11T11:37:12.370997Z",
     "shell.execute_reply": "2023-09-11T11:37:12.370773Z"
    },
    "papermill": {
     "duration": 0.006901,
     "end_time": "2023-09-11T11:37:12.371917",
     "exception": false,
     "start_time": "2023-09-11T11:37:12.365016",
     "status": "completed"
    },
    "tags": []
   },
   "outputs": [
    {
     "data": {
      "text/plain": [
       "PosixPath('/opt/data/results/ccc_null-pvalues/data_matrix-cm_values.npy')"
      ]
     },
     "metadata": {},
     "output_type": "display_data"
    }
   ],
   "source": [
    "output_file = OUTPUT_DIR / \"data_matrix-cm_values.npy\"\n",
    "display(output_file)\n",
    "\n",
    "np.save(output_file, cm_values)"
   ]
  },
  {
   "cell_type": "code",
   "execution_count": 13,
   "id": "12968ead-2e56-4214-956c-08f4f02952e9",
   "metadata": {
    "execution": {
     "iopub.execute_input": "2023-09-11T11:37:12.376274Z",
     "iopub.status.busy": "2023-09-11T11:37:12.376156Z",
     "iopub.status.idle": "2023-09-11T11:37:12.378013Z",
     "shell.execute_reply": "2023-09-11T11:37:12.377871Z"
    },
    "papermill": {
     "duration": 0.00466,
     "end_time": "2023-09-11T11:37:12.378618",
     "exception": false,
     "start_time": "2023-09-11T11:37:12.373958",
     "status": "completed"
    },
    "tags": []
   },
   "outputs": [
    {
     "data": {
      "text/plain": [
       "PosixPath('/opt/data/results/ccc_null-pvalues/data_matrix-cm_pvalues.npy')"
      ]
     },
     "metadata": {},
     "output_type": "display_data"
    }
   ],
   "source": [
    "output_file = OUTPUT_DIR / \"data_matrix-cm_pvalues.npy\"\n",
    "display(output_file)\n",
    "\n",
    "np.save(output_file, cm_pvalues)"
   ]
  },
  {
   "cell_type": "code",
   "execution_count": null,
   "id": "5f57efbc-893b-44a7-bc7a-77ca6b72a60a",
   "metadata": {
    "papermill": {
     "duration": 0.001222,
     "end_time": "2023-09-11T11:37:12.381274",
     "exception": false,
     "start_time": "2023-09-11T11:37:12.380052",
     "status": "completed"
    },
    "tags": []
   },
   "outputs": [],
   "source": []
  }
 ],
 "metadata": {
  "jupytext": {
   "cell_metadata_filter": "all,-execution,-papermill,-trusted",
   "notebook_metadata_filter": "-jupytext.text_representation.jupytext_version"
  },
  "kernelspec": {
   "display_name": "Python 3 (ipykernel)",
   "language": "python",
   "name": "python3"
  },
  "language_info": {
   "codemirror_mode": {
    "name": "ipython",
    "version": 3
   },
   "file_extension": ".py",
   "mimetype": "text/x-python",
   "name": "python",
   "nbconvert_exporter": "python",
   "pygments_lexer": "ipython3",
   "version": "3.9.12"
  },
  "papermill": {
   "default_parameters": {},
   "duration": 162.087276,
   "end_time": "2023-09-11T11:37:12.597400",
   "environment_variables": {},
   "exception": null,
   "input_path": "nbs/25_pvalue/00-ccc_pvalue_dist-generate-data_matrix.ipynb",
   "output_path": "nbs/25_pvalue/00-ccc_pvalue_dist-generate-data_matrix.run.ipynb",
   "parameters": {},
   "start_time": "2023-09-11T11:34:30.510124",
   "version": "2.3.4"
  }
 },
 "nbformat": 4,
 "nbformat_minor": 5
}
