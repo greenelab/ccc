{
 "cells": [
  {
   "cell_type": "markdown",
   "id": "ec52faa3-656f-483e-9617-d7ec0f7d818c",
   "metadata": {
    "papermill": {
     "duration": 0.006806,
     "end_time": "2023-09-14T17:33:15.645231",
     "exception": false,
     "start_time": "2023-09-14T17:33:15.638425",
     "status": "completed"
    },
    "tags": []
   },
   "source": [
    "# Description"
   ]
  },
  {
   "cell_type": "markdown",
   "id": "51102f42-fcd9-4a58-9c8d-dfcd3d2d464e",
   "metadata": {
    "papermill": {
     "duration": 0.004653,
     "end_time": "2023-09-14T17:33:15.659532",
     "exception": false,
     "start_time": "2023-09-14T17:33:15.654879",
     "status": "completed"
    },
    "tags": []
   },
   "source": [
    "It sample gene pairs from the categories in Figure 3b."
   ]
  },
  {
   "cell_type": "markdown",
   "id": "7006ceeb-2651-407d-bfa1-1039727649ef",
   "metadata": {
    "papermill": {
     "duration": 0.002339,
     "end_time": "2023-09-14T17:33:15.665021",
     "exception": false,
     "start_time": "2023-09-14T17:33:15.662682",
     "status": "completed"
    },
    "tags": []
   },
   "source": [
    "# Modules loading"
   ]
  },
  {
   "cell_type": "code",
   "execution_count": 1,
   "id": "1ffa1a96-7545-40b9-ac8b-8627e13de8d4",
   "metadata": {
    "execution": {
     "iopub.execute_input": "2023-09-14T17:33:15.671365Z",
     "iopub.status.busy": "2023-09-14T17:33:15.671213Z",
     "iopub.status.idle": "2023-09-14T17:33:15.964588Z",
     "shell.execute_reply": "2023-09-14T17:33:15.964401Z"
    },
    "papermill": {
     "duration": 0.297687,
     "end_time": "2023-09-14T17:33:15.965326",
     "exception": false,
     "start_time": "2023-09-14T17:33:15.667639",
     "status": "completed"
    },
    "tags": []
   },
   "outputs": [],
   "source": [
    "import numpy as np\n",
    "import matplotlib.pyplot as plt\n",
    "import seaborn as sns\n",
    "from scipy import stats\n",
    "import numpy as np\n",
    "import pandas as pd\n",
    "\n",
    "from ccc import conf"
   ]
  },
  {
   "cell_type": "markdown",
   "id": "0d3cc810-4b17-4213-8f03-6fe7e97a0fe3",
   "metadata": {
    "papermill": {
     "duration": 0.009494,
     "end_time": "2023-09-14T17:33:15.977623",
     "exception": false,
     "start_time": "2023-09-14T17:33:15.968129",
     "status": "completed"
    },
    "tags": []
   },
   "source": [
    "# Settings"
   ]
  },
  {
   "cell_type": "code",
   "execution_count": 2,
   "id": "9a154623-c787-4a31-871a-cad173f0eb9f",
   "metadata": {
    "execution": {
     "iopub.execute_input": "2023-09-14T17:33:15.983775Z",
     "iopub.status.busy": "2023-09-14T17:33:15.983653Z",
     "iopub.status.idle": "2023-09-14T17:33:15.985687Z",
     "shell.execute_reply": "2023-09-14T17:33:15.985528Z"
    },
    "papermill": {
     "duration": 0.005541,
     "end_time": "2023-09-14T17:33:15.986138",
     "exception": false,
     "start_time": "2023-09-14T17:33:15.980597",
     "status": "completed"
    },
    "tags": []
   },
   "outputs": [],
   "source": [
    "DATASET_CONFIG = conf.GTEX\n",
    "GTEX_TISSUE = \"whole_blood\"\n",
    "GENE_SEL_STRATEGY = \"var_pc_log2\"\n",
    "N_MAX_SAMPLES_PER_CATEGORY = 500\n",
    "\n",
    "RANDOM_STATE = np.random.RandomState(0)"
   ]
  },
  {
   "cell_type": "markdown",
   "id": "5b09ff83-5377-49a9-b24b-65c6c90277d6",
   "metadata": {
    "papermill": {
     "duration": 0.002614,
     "end_time": "2023-09-14T17:33:15.991369",
     "exception": false,
     "start_time": "2023-09-14T17:33:15.988755",
     "status": "completed"
    },
    "tags": []
   },
   "source": [
    "# Paths"
   ]
  },
  {
   "cell_type": "code",
   "execution_count": 3,
   "id": "c6f73068-fa38-44be-bd0c-708f6ff450ea",
   "metadata": {
    "execution": {
     "iopub.execute_input": "2023-09-14T17:33:15.996521Z",
     "iopub.status.busy": "2023-09-14T17:33:15.996435Z",
     "iopub.status.idle": "2023-09-14T17:33:15.999074Z",
     "shell.execute_reply": "2023-09-14T17:33:15.998934Z"
    },
    "papermill": {
     "duration": 0.005746,
     "end_time": "2023-09-14T17:33:15.999484",
     "exception": false,
     "start_time": "2023-09-14T17:33:15.993738",
     "status": "completed"
    },
    "tags": []
   },
   "outputs": [
    {
     "data": {
      "text/plain": [
       "PosixPath('/opt/data/results/gtex_v8/gene_selection/gtex_v8_data_whole_blood-var_pc_log2.pkl')"
      ]
     },
     "metadata": {},
     "output_type": "display_data"
    }
   ],
   "source": [
    "INPUT_GENE_EXPR_FILE = (\n",
    "    DATASET_CONFIG[\"GENE_SELECTION_DIR\"]\n",
    "    / f\"gtex_v8_data_{GTEX_TISSUE}-{GENE_SEL_STRATEGY}.pkl\"\n",
    ")\n",
    "display(INPUT_GENE_EXPR_FILE)\n",
    "\n",
    "assert INPUT_GENE_EXPR_FILE.exists()"
   ]
  },
  {
   "cell_type": "code",
   "execution_count": 4,
   "id": "30cce6f5-ca1b-438c-859d-31903a42d4c6",
   "metadata": {
    "execution": {
     "iopub.execute_input": "2023-09-14T17:33:16.004617Z",
     "iopub.status.busy": "2023-09-14T17:33:16.004498Z",
     "iopub.status.idle": "2023-09-14T17:33:16.006326Z",
     "shell.execute_reply": "2023-09-14T17:33:16.006188Z"
    },
    "papermill": {
     "duration": 0.00486,
     "end_time": "2023-09-14T17:33:16.006811",
     "exception": false,
     "start_time": "2023-09-14T17:33:16.001951",
     "status": "completed"
    },
    "tags": []
   },
   "outputs": [
    {
     "data": {
      "text/plain": [
       "PosixPath('/opt/data/results/gtex_v8/gene_pair_intersections/gene_pair_intersections-gtex_v8-whole_blood-var_pc_log2.pkl')"
      ]
     },
     "metadata": {},
     "output_type": "display_data"
    }
   ],
   "source": [
    "INPUT_GENE_PAIRS_INTERSECTIONS_FILE = (\n",
    "    DATASET_CONFIG[\"GENE_PAIR_INTERSECTIONS\"]\n",
    "    / f\"gene_pair_intersections-gtex_v8-{GTEX_TISSUE}-{GENE_SEL_STRATEGY}.pkl\"\n",
    ")\n",
    "display(INPUT_GENE_PAIRS_INTERSECTIONS_FILE)\n",
    "\n",
    "assert INPUT_GENE_PAIRS_INTERSECTIONS_FILE.exists()"
   ]
  },
  {
   "cell_type": "code",
   "execution_count": 5,
   "id": "0122253c-99c0-41e2-8807-60df86bf0619",
   "metadata": {
    "execution": {
     "iopub.execute_input": "2023-09-14T17:33:16.014503Z",
     "iopub.status.busy": "2023-09-14T17:33:16.014240Z",
     "iopub.status.idle": "2023-09-14T17:33:16.015958Z",
     "shell.execute_reply": "2023-09-14T17:33:16.015809Z"
    },
    "papermill": {
     "duration": 0.006054,
     "end_time": "2023-09-14T17:33:16.016383",
     "exception": false,
     "start_time": "2023-09-14T17:33:16.010329",
     "status": "completed"
    },
    "tags": []
   },
   "outputs": [],
   "source": [
    "OUTPUT_DIR = DATASET_CONFIG[\"GENE_PAIR_INTERSECTIONS\"] / \"pvalues\"\n",
    "OUTPUT_DIR.mkdir(parents=True, exist_ok=True)"
   ]
  },
  {
   "cell_type": "code",
   "execution_count": 6,
   "id": "3003ed2c-5da0-43b9-969d-9cf037d05730",
   "metadata": {
    "execution": {
     "iopub.execute_input": "2023-09-14T17:33:16.021922Z",
     "iopub.status.busy": "2023-09-14T17:33:16.021847Z",
     "iopub.status.idle": "2023-09-14T17:33:16.023562Z",
     "shell.execute_reply": "2023-09-14T17:33:16.023416Z"
    },
    "papermill": {
     "duration": 0.005215,
     "end_time": "2023-09-14T17:33:16.024051",
     "exception": false,
     "start_time": "2023-09-14T17:33:16.018836",
     "status": "completed"
    },
    "tags": []
   },
   "outputs": [
    {
     "data": {
      "text/plain": [
       "PosixPath('/opt/data/results/gtex_v8/gene_pair_intersections/pvalues')"
      ]
     },
     "execution_count": 6,
     "metadata": {},
     "output_type": "execute_result"
    }
   ],
   "source": [
    "OUTPUT_DIR"
   ]
  },
  {
   "cell_type": "markdown",
   "id": "3d014f0c-d442-48ab-add8-ac338ad15b27",
   "metadata": {
    "papermill": {
     "duration": 0.002412,
     "end_time": "2023-09-14T17:33:16.041805",
     "exception": false,
     "start_time": "2023-09-14T17:33:16.039393",
     "status": "completed"
    },
    "tags": []
   },
   "source": [
    "# Load gene pairs intersection"
   ]
  },
  {
   "cell_type": "code",
   "execution_count": 7,
   "id": "da1d768a-fbfb-40e8-8fbb-790d1a94aa83",
   "metadata": {
    "execution": {
     "iopub.execute_input": "2023-09-14T17:33:16.047268Z",
     "iopub.status.busy": "2023-09-14T17:33:16.047153Z",
     "iopub.status.idle": "2023-09-14T17:33:16.212681Z",
     "shell.execute_reply": "2023-09-14T17:33:16.212403Z"
    },
    "papermill": {
     "duration": 0.169325,
     "end_time": "2023-09-14T17:33:16.213564",
     "exception": false,
     "start_time": "2023-09-14T17:33:16.044239",
     "status": "completed"
    },
    "tags": []
   },
   "outputs": [],
   "source": [
    "df_plot = pd.read_pickle(INPUT_GENE_PAIRS_INTERSECTIONS_FILE)"
   ]
  },
  {
   "cell_type": "code",
   "execution_count": 8,
   "id": "6123d474-0c0d-4771-9678-248ce89424ce",
   "metadata": {
    "execution": {
     "iopub.execute_input": "2023-09-14T17:33:16.226586Z",
     "iopub.status.busy": "2023-09-14T17:33:16.226525Z",
     "iopub.status.idle": "2023-09-14T17:33:16.228442Z",
     "shell.execute_reply": "2023-09-14T17:33:16.228319Z"
    },
    "papermill": {
     "duration": 0.01265,
     "end_time": "2023-09-14T17:33:16.228979",
     "exception": false,
     "start_time": "2023-09-14T17:33:16.216329",
     "status": "completed"
    },
    "tags": []
   },
   "outputs": [
    {
     "data": {
      "text/plain": [
       "(12497500, 9)"
      ]
     },
     "execution_count": 8,
     "metadata": {},
     "output_type": "execute_result"
    }
   ],
   "source": [
    "df_plot.shape"
   ]
  },
  {
   "cell_type": "code",
   "execution_count": 9,
   "id": "b028abd8-c5b1-48c2-aa5e-cb1b49c943a4",
   "metadata": {
    "execution": {
     "iopub.execute_input": "2023-09-14T17:33:16.234308Z",
     "iopub.status.busy": "2023-09-14T17:33:16.234256Z",
     "iopub.status.idle": "2023-09-14T17:33:16.239461Z",
     "shell.execute_reply": "2023-09-14T17:33:16.239332Z"
    },
    "papermill": {
     "duration": 0.008553,
     "end_time": "2023-09-14T17:33:16.239986",
     "exception": false,
     "start_time": "2023-09-14T17:33:16.231433",
     "status": "completed"
    },
    "tags": []
   },
   "outputs": [
    {
     "data": {
      "text/html": [
       "<div>\n",
       "<style scoped>\n",
       "    .dataframe tbody tr th:only-of-type {\n",
       "        vertical-align: middle;\n",
       "    }\n",
       "\n",
       "    .dataframe tbody tr th {\n",
       "        vertical-align: top;\n",
       "    }\n",
       "\n",
       "    .dataframe thead th {\n",
       "        text-align: right;\n",
       "    }\n",
       "</style>\n",
       "<table border=\"1\" class=\"dataframe\">\n",
       "  <thead>\n",
       "    <tr style=\"text-align: right;\">\n",
       "      <th></th>\n",
       "      <th></th>\n",
       "      <th>Pearson (high)</th>\n",
       "      <th>Pearson (low)</th>\n",
       "      <th>Spearman (high)</th>\n",
       "      <th>Spearman (low)</th>\n",
       "      <th>Clustermatch (high)</th>\n",
       "      <th>Clustermatch (low)</th>\n",
       "      <th>ccc</th>\n",
       "      <th>pearson</th>\n",
       "      <th>spearman</th>\n",
       "    </tr>\n",
       "  </thead>\n",
       "  <tbody>\n",
       "    <tr>\n",
       "      <th rowspan=\"5\" valign=\"top\">ENSG00000000419.12</th>\n",
       "      <th>ENSG00000002834.17</th>\n",
       "      <td>True</td>\n",
       "      <td>False</td>\n",
       "      <td>True</td>\n",
       "      <td>False</td>\n",
       "      <td>True</td>\n",
       "      <td>False</td>\n",
       "      <td>0.418721</td>\n",
       "      <td>0.681847</td>\n",
       "      <td>0.786595</td>\n",
       "    </tr>\n",
       "    <tr>\n",
       "      <th>ENSG00000002919.14</th>\n",
       "      <td>True</td>\n",
       "      <td>False</td>\n",
       "      <td>True</td>\n",
       "      <td>False</td>\n",
       "      <td>True</td>\n",
       "      <td>False</td>\n",
       "      <td>0.405090</td>\n",
       "      <td>0.734699</td>\n",
       "      <td>0.816991</td>\n",
       "    </tr>\n",
       "    <tr>\n",
       "      <th>ENSG00000002933.7</th>\n",
       "      <td>False</td>\n",
       "      <td>True</td>\n",
       "      <td>False</td>\n",
       "      <td>True</td>\n",
       "      <td>False</td>\n",
       "      <td>True</td>\n",
       "      <td>0.007466</td>\n",
       "      <td>0.013825</td>\n",
       "      <td>0.004128</td>\n",
       "    </tr>\n",
       "    <tr>\n",
       "      <th>ENSG00000003402.19</th>\n",
       "      <td>True</td>\n",
       "      <td>False</td>\n",
       "      <td>True</td>\n",
       "      <td>False</td>\n",
       "      <td>True</td>\n",
       "      <td>False</td>\n",
       "      <td>0.391683</td>\n",
       "      <td>0.727347</td>\n",
       "      <td>0.803653</td>\n",
       "    </tr>\n",
       "    <tr>\n",
       "      <th>ENSG00000004478.7</th>\n",
       "      <td>False</td>\n",
       "      <td>True</td>\n",
       "      <td>False</td>\n",
       "      <td>False</td>\n",
       "      <td>False</td>\n",
       "      <td>False</td>\n",
       "      <td>0.099013</td>\n",
       "      <td>0.094147</td>\n",
       "      <td>0.231269</td>\n",
       "    </tr>\n",
       "  </tbody>\n",
       "</table>\n",
       "</div>"
      ],
      "text/plain": [
       "                                       Pearson (high)  Pearson (low)  \\\n",
       "ENSG00000000419.12 ENSG00000002834.17            True          False   \n",
       "                   ENSG00000002919.14            True          False   \n",
       "                   ENSG00000002933.7            False           True   \n",
       "                   ENSG00000003402.19            True          False   \n",
       "                   ENSG00000004478.7            False           True   \n",
       "\n",
       "                                       Spearman (high)  Spearman (low)  \\\n",
       "ENSG00000000419.12 ENSG00000002834.17             True           False   \n",
       "                   ENSG00000002919.14             True           False   \n",
       "                   ENSG00000002933.7             False            True   \n",
       "                   ENSG00000003402.19             True           False   \n",
       "                   ENSG00000004478.7             False           False   \n",
       "\n",
       "                                       Clustermatch (high)  \\\n",
       "ENSG00000000419.12 ENSG00000002834.17                 True   \n",
       "                   ENSG00000002919.14                 True   \n",
       "                   ENSG00000002933.7                 False   \n",
       "                   ENSG00000003402.19                 True   \n",
       "                   ENSG00000004478.7                 False   \n",
       "\n",
       "                                       Clustermatch (low)       ccc   pearson  \\\n",
       "ENSG00000000419.12 ENSG00000002834.17               False  0.418721  0.681847   \n",
       "                   ENSG00000002919.14               False  0.405090  0.734699   \n",
       "                   ENSG00000002933.7                 True  0.007466  0.013825   \n",
       "                   ENSG00000003402.19               False  0.391683  0.727347   \n",
       "                   ENSG00000004478.7                False  0.099013  0.094147   \n",
       "\n",
       "                                       spearman  \n",
       "ENSG00000000419.12 ENSG00000002834.17  0.786595  \n",
       "                   ENSG00000002919.14  0.816991  \n",
       "                   ENSG00000002933.7   0.004128  \n",
       "                   ENSG00000003402.19  0.803653  \n",
       "                   ENSG00000004478.7   0.231269  "
      ]
     },
     "execution_count": 9,
     "metadata": {},
     "output_type": "execute_result"
    }
   ],
   "source": [
    "df_plot.head()"
   ]
  },
  {
   "cell_type": "code",
   "execution_count": 10,
   "id": "3aced73f-7ece-4451-a0e7-f74b106fe3d7",
   "metadata": {
    "execution": {
     "iopub.execute_input": "2023-09-14T17:33:16.245590Z",
     "iopub.status.busy": "2023-09-14T17:33:16.245520Z",
     "iopub.status.idle": "2023-09-14T17:33:16.273063Z",
     "shell.execute_reply": "2023-09-14T17:33:16.272914Z"
    },
    "papermill": {
     "duration": 0.031258,
     "end_time": "2023-09-14T17:33:16.273790",
     "exception": false,
     "start_time": "2023-09-14T17:33:16.242532",
     "status": "completed"
    },
    "tags": []
   },
   "outputs": [
    {
     "data": {
      "text/html": [
       "<div>\n",
       "<style scoped>\n",
       "    .dataframe tbody tr th:only-of-type {\n",
       "        vertical-align: middle;\n",
       "    }\n",
       "\n",
       "    .dataframe tbody tr th {\n",
       "        vertical-align: top;\n",
       "    }\n",
       "\n",
       "    .dataframe thead th {\n",
       "        text-align: right;\n",
       "    }\n",
       "</style>\n",
       "<table border=\"1\" class=\"dataframe\">\n",
       "  <thead>\n",
       "    <tr style=\"text-align: right;\">\n",
       "      <th></th>\n",
       "      <th></th>\n",
       "      <th>Pearson (high)</th>\n",
       "      <th>Pearson (low)</th>\n",
       "      <th>Spearman (high)</th>\n",
       "      <th>Spearman (low)</th>\n",
       "      <th>Clustermatch (high)</th>\n",
       "      <th>Clustermatch (low)</th>\n",
       "      <th>ccc</th>\n",
       "      <th>pearson</th>\n",
       "      <th>spearman</th>\n",
       "    </tr>\n",
       "  </thead>\n",
       "  <tbody>\n",
       "    <tr>\n",
       "      <th>ENSG00000003402.19</th>\n",
       "      <th>ENSG00000133800.8</th>\n",
       "      <td>False</td>\n",
       "      <td>True</td>\n",
       "      <td>True</td>\n",
       "      <td>False</td>\n",
       "      <td>False</td>\n",
       "      <td>False</td>\n",
       "      <td>0.157825</td>\n",
       "      <td>0.048650</td>\n",
       "      <td>0.570855</td>\n",
       "    </tr>\n",
       "    <tr>\n",
       "      <th>ENSG00000003756.16</th>\n",
       "      <th>ENSG00000163739.4</th>\n",
       "      <td>False</td>\n",
       "      <td>True</td>\n",
       "      <td>True</td>\n",
       "      <td>False</td>\n",
       "      <td>False</td>\n",
       "      <td>False</td>\n",
       "      <td>0.164233</td>\n",
       "      <td>0.040470</td>\n",
       "      <td>0.565410</td>\n",
       "    </tr>\n",
       "    <tr>\n",
       "      <th>ENSG00000004776.12</th>\n",
       "      <th>ENSG00000196616.13</th>\n",
       "      <td>False</td>\n",
       "      <td>True</td>\n",
       "      <td>True</td>\n",
       "      <td>False</td>\n",
       "      <td>False</td>\n",
       "      <td>False</td>\n",
       "      <td>0.159947</td>\n",
       "      <td>0.097615</td>\n",
       "      <td>0.568500</td>\n",
       "    </tr>\n",
       "    <tr>\n",
       "      <th>ENSG00000008083.13</th>\n",
       "      <th>ENSG00000163739.4</th>\n",
       "      <td>False</td>\n",
       "      <td>True</td>\n",
       "      <td>True</td>\n",
       "      <td>False</td>\n",
       "      <td>False</td>\n",
       "      <td>False</td>\n",
       "      <td>0.159947</td>\n",
       "      <td>0.069861</td>\n",
       "      <td>0.571621</td>\n",
       "    </tr>\n",
       "    <tr>\n",
       "      <th>ENSG00000008988.9</th>\n",
       "      <th>ENSG00000229769.2</th>\n",
       "      <td>False</td>\n",
       "      <td>True</td>\n",
       "      <td>True</td>\n",
       "      <td>False</td>\n",
       "      <td>False</td>\n",
       "      <td>False</td>\n",
       "      <td>0.151281</td>\n",
       "      <td>0.091727</td>\n",
       "      <td>0.568723</td>\n",
       "    </tr>\n",
       "    <tr>\n",
       "      <th>...</th>\n",
       "      <th>...</th>\n",
       "      <td>...</td>\n",
       "      <td>...</td>\n",
       "      <td>...</td>\n",
       "      <td>...</td>\n",
       "      <td>...</td>\n",
       "      <td>...</td>\n",
       "      <td>...</td>\n",
       "      <td>...</td>\n",
       "      <td>...</td>\n",
       "    </tr>\n",
       "    <tr>\n",
       "      <th>ENSG00000278274.1</th>\n",
       "      <th>ENSG00000169136.10</th>\n",
       "      <td>False</td>\n",
       "      <td>True</td>\n",
       "      <td>True</td>\n",
       "      <td>False</td>\n",
       "      <td>False</td>\n",
       "      <td>False</td>\n",
       "      <td>0.172974</td>\n",
       "      <td>0.076674</td>\n",
       "      <td>0.569907</td>\n",
       "    </tr>\n",
       "    <tr>\n",
       "      <th>ENSG00000279520.1</th>\n",
       "      <th>ENSG00000163739.4</th>\n",
       "      <td>False</td>\n",
       "      <td>True</td>\n",
       "      <td>True</td>\n",
       "      <td>False</td>\n",
       "      <td>False</td>\n",
       "      <td>False</td>\n",
       "      <td>0.168576</td>\n",
       "      <td>0.061147</td>\n",
       "      <td>0.584956</td>\n",
       "    </tr>\n",
       "    <tr>\n",
       "      <th>ENSG00000281358.1</th>\n",
       "      <th>ENSG00000139194.7</th>\n",
       "      <td>False</td>\n",
       "      <td>True</td>\n",
       "      <td>True</td>\n",
       "      <td>False</td>\n",
       "      <td>False</td>\n",
       "      <td>False</td>\n",
       "      <td>0.177429</td>\n",
       "      <td>0.100793</td>\n",
       "      <td>0.615723</td>\n",
       "    </tr>\n",
       "    <tr>\n",
       "      <th>ENSG00000281649.1</th>\n",
       "      <th>ENSG00000163739.4</th>\n",
       "      <td>False</td>\n",
       "      <td>True</td>\n",
       "      <td>True</td>\n",
       "      <td>False</td>\n",
       "      <td>False</td>\n",
       "      <td>False</td>\n",
       "      <td>0.177429</td>\n",
       "      <td>0.080855</td>\n",
       "      <td>0.574391</td>\n",
       "    </tr>\n",
       "    <tr>\n",
       "      <th>ENSG00000282639.1</th>\n",
       "      <th>ENSG00000211663.2</th>\n",
       "      <td>False</td>\n",
       "      <td>True</td>\n",
       "      <td>True</td>\n",
       "      <td>False</td>\n",
       "      <td>False</td>\n",
       "      <td>False</td>\n",
       "      <td>0.133457</td>\n",
       "      <td>0.116801</td>\n",
       "      <td>0.574407</td>\n",
       "    </tr>\n",
       "  </tbody>\n",
       "</table>\n",
       "<p>527 rows × 9 columns</p>\n",
       "</div>"
      ],
      "text/plain": [
       "                                       Pearson (high)  Pearson (low)  \\\n",
       "ENSG00000003402.19 ENSG00000133800.8            False           True   \n",
       "ENSG00000003756.16 ENSG00000163739.4            False           True   \n",
       "ENSG00000004776.12 ENSG00000196616.13           False           True   \n",
       "ENSG00000008083.13 ENSG00000163739.4            False           True   \n",
       "ENSG00000008988.9  ENSG00000229769.2            False           True   \n",
       "...                                               ...            ...   \n",
       "ENSG00000278274.1  ENSG00000169136.10           False           True   \n",
       "ENSG00000279520.1  ENSG00000163739.4            False           True   \n",
       "ENSG00000281358.1  ENSG00000139194.7            False           True   \n",
       "ENSG00000281649.1  ENSG00000163739.4            False           True   \n",
       "ENSG00000282639.1  ENSG00000211663.2            False           True   \n",
       "\n",
       "                                       Spearman (high)  Spearman (low)  \\\n",
       "ENSG00000003402.19 ENSG00000133800.8              True           False   \n",
       "ENSG00000003756.16 ENSG00000163739.4              True           False   \n",
       "ENSG00000004776.12 ENSG00000196616.13             True           False   \n",
       "ENSG00000008083.13 ENSG00000163739.4              True           False   \n",
       "ENSG00000008988.9  ENSG00000229769.2              True           False   \n",
       "...                                                ...             ...   \n",
       "ENSG00000278274.1  ENSG00000169136.10             True           False   \n",
       "ENSG00000279520.1  ENSG00000163739.4              True           False   \n",
       "ENSG00000281358.1  ENSG00000139194.7              True           False   \n",
       "ENSG00000281649.1  ENSG00000163739.4              True           False   \n",
       "ENSG00000282639.1  ENSG00000211663.2              True           False   \n",
       "\n",
       "                                       Clustermatch (high)  \\\n",
       "ENSG00000003402.19 ENSG00000133800.8                 False   \n",
       "ENSG00000003756.16 ENSG00000163739.4                 False   \n",
       "ENSG00000004776.12 ENSG00000196616.13                False   \n",
       "ENSG00000008083.13 ENSG00000163739.4                 False   \n",
       "ENSG00000008988.9  ENSG00000229769.2                 False   \n",
       "...                                                    ...   \n",
       "ENSG00000278274.1  ENSG00000169136.10                False   \n",
       "ENSG00000279520.1  ENSG00000163739.4                 False   \n",
       "ENSG00000281358.1  ENSG00000139194.7                 False   \n",
       "ENSG00000281649.1  ENSG00000163739.4                 False   \n",
       "ENSG00000282639.1  ENSG00000211663.2                 False   \n",
       "\n",
       "                                       Clustermatch (low)       ccc   pearson  \\\n",
       "ENSG00000003402.19 ENSG00000133800.8                False  0.157825  0.048650   \n",
       "ENSG00000003756.16 ENSG00000163739.4                False  0.164233  0.040470   \n",
       "ENSG00000004776.12 ENSG00000196616.13               False  0.159947  0.097615   \n",
       "ENSG00000008083.13 ENSG00000163739.4                False  0.159947  0.069861   \n",
       "ENSG00000008988.9  ENSG00000229769.2                False  0.151281  0.091727   \n",
       "...                                                   ...       ...       ...   \n",
       "ENSG00000278274.1  ENSG00000169136.10               False  0.172974  0.076674   \n",
       "ENSG00000279520.1  ENSG00000163739.4                False  0.168576  0.061147   \n",
       "ENSG00000281358.1  ENSG00000139194.7                False  0.177429  0.100793   \n",
       "ENSG00000281649.1  ENSG00000163739.4                False  0.177429  0.080855   \n",
       "ENSG00000282639.1  ENSG00000211663.2                False  0.133457  0.116801   \n",
       "\n",
       "                                       spearman  \n",
       "ENSG00000003402.19 ENSG00000133800.8   0.570855  \n",
       "ENSG00000003756.16 ENSG00000163739.4   0.565410  \n",
       "ENSG00000004776.12 ENSG00000196616.13  0.568500  \n",
       "ENSG00000008083.13 ENSG00000163739.4   0.571621  \n",
       "ENSG00000008988.9  ENSG00000229769.2   0.568723  \n",
       "...                                         ...  \n",
       "ENSG00000278274.1  ENSG00000169136.10  0.569907  \n",
       "ENSG00000279520.1  ENSG00000163739.4   0.584956  \n",
       "ENSG00000281358.1  ENSG00000139194.7   0.615723  \n",
       "ENSG00000281649.1  ENSG00000163739.4   0.574391  \n",
       "ENSG00000282639.1  ENSG00000211663.2   0.574407  \n",
       "\n",
       "[527 rows x 9 columns]"
      ]
     },
     "execution_count": 10,
     "metadata": {},
     "output_type": "execute_result"
    }
   ],
   "source": [
    "df_plot[\n",
    "    df_plot[\"Spearman (high)\"]\n",
    "    & df_plot[\"Pearson (low)\"]\n",
    "    & (~df_plot[\"Clustermatch (high)\"])\n",
    "    & (~df_plot[\"Clustermatch (low)\"])\n",
    "]"
   ]
  },
  {
   "cell_type": "markdown",
   "id": "6ee33b44-ef8c-405e-9ab4-be1679b75619",
   "metadata": {
    "papermill": {
     "duration": 0.002616,
     "end_time": "2023-09-14T17:33:16.279263",
     "exception": false,
     "start_time": "2023-09-14T17:33:16.276647",
     "status": "completed"
    },
    "tags": []
   },
   "source": [
    "# Select gene pairs from each category in Figure 3b"
   ]
  },
  {
   "cell_type": "code",
   "execution_count": 11,
   "id": "6bac2e17-743d-49b5-9ae5-b168879b2dbc",
   "metadata": {
    "execution": {
     "iopub.execute_input": "2023-09-14T17:33:16.285021Z",
     "iopub.status.busy": "2023-09-14T17:33:16.284915Z",
     "iopub.status.idle": "2023-09-14T17:33:16.286369Z",
     "shell.execute_reply": "2023-09-14T17:33:16.286206Z"
    },
    "papermill": {
     "duration": 0.004897,
     "end_time": "2023-09-14T17:33:16.286869",
     "exception": false,
     "start_time": "2023-09-14T17:33:16.281972",
     "status": "completed"
    },
    "tags": []
   },
   "outputs": [],
   "source": [
    "gene_pair_cats = {}"
   ]
  },
  {
   "cell_type": "code",
   "execution_count": 12,
   "id": "bba6b621-09fa-4abc-90ba-789a2a9491dc",
   "metadata": {
    "execution": {
     "iopub.execute_input": "2023-09-14T17:33:16.292410Z",
     "iopub.status.busy": "2023-09-14T17:33:16.292288Z",
     "iopub.status.idle": "2023-09-14T17:33:16.374908Z",
     "shell.execute_reply": "2023-09-14T17:33:16.374677Z"
    },
    "papermill": {
     "duration": 0.086132,
     "end_time": "2023-09-14T17:33:16.375607",
     "exception": false,
     "start_time": "2023-09-14T17:33:16.289475",
     "status": "completed"
    },
    "tags": []
   },
   "outputs": [
    {
     "data": {
      "text/plain": [
       "(3120576, 9)"
      ]
     },
     "metadata": {},
     "output_type": "display_data"
    }
   ],
   "source": [
    "gene_pair_cats[\"all_high\"] = df_plot[\n",
    "    df_plot[\"Clustermatch (high)\"]\n",
    "    & df_plot[\"Spearman (high)\"]\n",
    "    & df_plot[\"Pearson (high)\"]\n",
    "]\n",
    "display(gene_pair_cats[\"all_high\"].shape)"
   ]
  },
  {
   "cell_type": "code",
   "execution_count": 13,
   "id": "22290518-845b-4cb5-8294-6275e58941d4",
   "metadata": {
    "execution": {
     "iopub.execute_input": "2023-09-14T17:33:16.381991Z",
     "iopub.status.busy": "2023-09-14T17:33:16.381907Z",
     "iopub.status.idle": "2023-09-14T17:33:16.455698Z",
     "shell.execute_reply": "2023-09-14T17:33:16.455550Z"
    },
    "papermill": {
     "duration": 0.077686,
     "end_time": "2023-09-14T17:33:16.456215",
     "exception": false,
     "start_time": "2023-09-14T17:33:16.378529",
     "status": "completed"
    },
    "tags": []
   },
   "outputs": [
    {
     "data": {
      "text/plain": [
       "(2545332, 9)"
      ]
     },
     "metadata": {},
     "output_type": "display_data"
    }
   ],
   "source": [
    "gene_pair_cats[\"all_low\"] = df_plot[\n",
    "    df_plot[\"Clustermatch (low)\"] & df_plot[\"Spearman (low)\"] & df_plot[\"Pearson (low)\"]\n",
    "]\n",
    "display(gene_pair_cats[\"all_low\"].shape)"
   ]
  },
  {
   "cell_type": "code",
   "execution_count": 14,
   "id": "edf88fd5-11ea-493a-9c94-fe40df8bb475",
   "metadata": {
    "execution": {
     "iopub.execute_input": "2023-09-14T17:33:16.462317Z",
     "iopub.status.busy": "2023-09-14T17:33:16.462228Z",
     "iopub.status.idle": "2023-09-14T17:33:16.476706Z",
     "shell.execute_reply": "2023-09-14T17:33:16.476554Z"
    },
    "papermill": {
     "duration": 0.01825,
     "end_time": "2023-09-14T17:33:16.477401",
     "exception": false,
     "start_time": "2023-09-14T17:33:16.459151",
     "status": "completed"
    },
    "tags": []
   },
   "outputs": [
    {
     "data": {
      "text/plain": [
       "(9748, 9)"
      ]
     },
     "metadata": {},
     "output_type": "display_data"
    }
   ],
   "source": [
    "gene_pair_cats[\"ccc_spearman_high_and_pearson_low\"] = df_plot[\n",
    "    df_plot[\"Clustermatch (high)\"]\n",
    "    & df_plot[\"Spearman (high)\"]\n",
    "    & df_plot[\"Pearson (low)\"]\n",
    "]\n",
    "display(gene_pair_cats[\"ccc_spearman_high_and_pearson_low\"].shape)"
   ]
  },
  {
   "cell_type": "code",
   "execution_count": 15,
   "id": "42b391d0-2ba4-408c-b944-2ca0fdb67ca9",
   "metadata": {
    "execution": {
     "iopub.execute_input": "2023-09-14T17:33:16.488235Z",
     "iopub.status.busy": "2023-09-14T17:33:16.488145Z",
     "iopub.status.idle": "2023-09-14T17:33:16.509059Z",
     "shell.execute_reply": "2023-09-14T17:33:16.508911Z"
    },
    "papermill": {
     "duration": 0.027085,
     "end_time": "2023-09-14T17:33:16.509838",
     "exception": false,
     "start_time": "2023-09-14T17:33:16.482753",
     "status": "completed"
    },
    "tags": []
   },
   "outputs": [
    {
     "data": {
      "text/plain": [
       "(20951, 9)"
      ]
     },
     "metadata": {},
     "output_type": "display_data"
    }
   ],
   "source": [
    "gene_pair_cats[\"ccc_high_and_pearson_low\"] = df_plot[\n",
    "    df_plot[\"Clustermatch (high)\"]\n",
    "    & (~df_plot[\"Spearman (high)\"])\n",
    "    & (~df_plot[\"Spearman (low)\"])\n",
    "    & df_plot[\"Pearson (low)\"]\n",
    "]\n",
    "display(gene_pair_cats[\"ccc_high_and_pearson_low\"].shape)"
   ]
  },
  {
   "cell_type": "code",
   "execution_count": 16,
   "id": "433d5ab5-8f07-4c94-8ba4-87e196e29446",
   "metadata": {
    "execution": {
     "iopub.execute_input": "2023-09-14T17:33:16.519861Z",
     "iopub.status.busy": "2023-09-14T17:33:16.519770Z",
     "iopub.status.idle": "2023-09-14T17:33:16.536025Z",
     "shell.execute_reply": "2023-09-14T17:33:16.535877Z"
    },
    "papermill": {
     "duration": 0.021488,
     "end_time": "2023-09-14T17:33:16.536630",
     "exception": false,
     "start_time": "2023-09-14T17:33:16.515142",
     "status": "completed"
    },
    "tags": []
   },
   "outputs": [
    {
     "data": {
      "text/plain": [
       "(28, 9)"
      ]
     },
     "metadata": {},
     "output_type": "display_data"
    }
   ],
   "source": [
    "gene_pair_cats[\"ccc_high_and_spearman_low\"] = df_plot[\n",
    "    df_plot[\"Clustermatch (high)\"]\n",
    "    & df_plot[\"Spearman (low)\"]\n",
    "    & (~df_plot[\"Pearson (low)\"])\n",
    "    & (~df_plot[\"Pearson (high)\"])\n",
    "]\n",
    "display(gene_pair_cats[\"ccc_high_and_spearman_low\"].shape)"
   ]
  },
  {
   "cell_type": "code",
   "execution_count": 17,
   "id": "dd31ba44-c026-48ef-b7fe-ece7299e5e50",
   "metadata": {
    "execution": {
     "iopub.execute_input": "2023-09-14T17:33:16.543145Z",
     "iopub.status.busy": "2023-09-14T17:33:16.542979Z",
     "iopub.status.idle": "2023-09-14T17:33:16.555909Z",
     "shell.execute_reply": "2023-09-14T17:33:16.555768Z"
    },
    "papermill": {
     "duration": 0.016742,
     "end_time": "2023-09-14T17:33:16.556437",
     "exception": false,
     "start_time": "2023-09-14T17:33:16.539695",
     "status": "completed"
    },
    "tags": []
   },
   "outputs": [
    {
     "data": {
      "text/plain": [
       "(8, 9)"
      ]
     },
     "metadata": {},
     "output_type": "display_data"
    }
   ],
   "source": [
    "gene_pair_cats[\"ccc_high_and_spearman_pearson_low\"] = df_plot[\n",
    "    df_plot[\"Clustermatch (high)\"]\n",
    "    & df_plot[\"Spearman (low)\"]\n",
    "    & df_plot[\"Pearson (low)\"]\n",
    "]\n",
    "display(gene_pair_cats[\"ccc_high_and_spearman_pearson_low\"].shape)"
   ]
  },
  {
   "cell_type": "code",
   "execution_count": 18,
   "id": "45166ee1-98a2-44db-bfa4-1a414a081300",
   "metadata": {
    "execution": {
     "iopub.execute_input": "2023-09-14T17:33:16.562704Z",
     "iopub.status.busy": "2023-09-14T17:33:16.562608Z",
     "iopub.status.idle": "2023-09-14T17:33:16.581473Z",
     "shell.execute_reply": "2023-09-14T17:33:16.581303Z"
    },
    "papermill": {
     "duration": 0.022639,
     "end_time": "2023-09-14T17:33:16.582041",
     "exception": false,
     "start_time": "2023-09-14T17:33:16.559402",
     "status": "completed"
    },
    "tags": []
   },
   "outputs": [
    {
     "data": {
      "text/plain": [
       "(1075, 9)"
      ]
     },
     "metadata": {},
     "output_type": "display_data"
    }
   ],
   "source": [
    "gene_pair_cats[\"pearson_high_and_ccc_low\"] = df_plot[\n",
    "    df_plot[\"Clustermatch (low)\"]\n",
    "    & (~df_plot[\"Spearman (low)\"])\n",
    "    & (~df_plot[\"Spearman (high)\"])\n",
    "    & df_plot[\"Pearson (high)\"]\n",
    "]\n",
    "display(gene_pair_cats[\"pearson_high_and_ccc_low\"].shape)"
   ]
  },
  {
   "cell_type": "code",
   "execution_count": 19,
   "id": "d21c075a-d8c8-4e9f-aa2b-c6d2cf22e0ad",
   "metadata": {
    "execution": {
     "iopub.execute_input": "2023-09-14T17:33:16.588912Z",
     "iopub.status.busy": "2023-09-14T17:33:16.588554Z",
     "iopub.status.idle": "2023-09-14T17:33:16.603046Z",
     "shell.execute_reply": "2023-09-14T17:33:16.602893Z"
    },
    "papermill": {
     "duration": 0.018357,
     "end_time": "2023-09-14T17:33:16.603535",
     "exception": false,
     "start_time": "2023-09-14T17:33:16.585178",
     "status": "completed"
    },
    "tags": []
   },
   "outputs": [
    {
     "data": {
      "text/plain": [
       "(531, 9)"
      ]
     },
     "metadata": {},
     "output_type": "display_data"
    }
   ],
   "source": [
    "gene_pair_cats[\"pearson_high_and_ccc_spearman_low\"] = df_plot[\n",
    "    df_plot[\"Clustermatch (low)\"]\n",
    "    & df_plot[\"Spearman (low)\"]\n",
    "    & df_plot[\"Pearson (high)\"]\n",
    "]\n",
    "display(gene_pair_cats[\"pearson_high_and_ccc_spearman_low\"].shape)"
   ]
  },
  {
   "cell_type": "code",
   "execution_count": 20,
   "id": "a001c630-1ba1-4001-8abb-643556e07502",
   "metadata": {
    "execution": {
     "iopub.execute_input": "2023-09-14T17:33:16.609799Z",
     "iopub.status.busy": "2023-09-14T17:33:16.609715Z",
     "iopub.status.idle": "2023-09-14T17:33:16.611140Z",
     "shell.execute_reply": "2023-09-14T17:33:16.610998Z"
    },
    "papermill": {
     "duration": 0.005088,
     "end_time": "2023-09-14T17:33:16.611590",
     "exception": false,
     "start_time": "2023-09-14T17:33:16.606502",
     "status": "completed"
    },
    "tags": []
   },
   "outputs": [],
   "source": [
    "assert len(gene_pair_cats) == 8"
   ]
  },
  {
   "cell_type": "markdown",
   "id": "fcde3368-e994-4cae-b905-9b6ebccb58a4",
   "metadata": {
    "papermill": {
     "duration": 0.002769,
     "end_time": "2023-09-14T17:33:16.617399",
     "exception": false,
     "start_time": "2023-09-14T17:33:16.614630",
     "status": "completed"
    },
    "tags": []
   },
   "source": [
    "# Sample gene pairs"
   ]
  },
  {
   "cell_type": "markdown",
   "id": "83884d11-7729-4ade-baf3-f98f956244af",
   "metadata": {
    "papermill": {
     "duration": 0.002777,
     "end_time": "2023-09-14T17:33:16.623026",
     "exception": false,
     "start_time": "2023-09-14T17:33:16.620249",
     "status": "completed"
    },
    "tags": []
   },
   "source": [
    "Here I take all the categories defined above (keys in dictionaries) and I create three subcategories for each, where I take the top genes prioritized by the three coefficients."
   ]
  },
  {
   "cell_type": "code",
   "execution_count": 21,
   "id": "30528d10-262c-485a-8923-aef0a0d44c67",
   "metadata": {
    "execution": {
     "iopub.execute_input": "2023-09-14T17:33:16.629176Z",
     "iopub.status.busy": "2023-09-14T17:33:16.629088Z",
     "iopub.status.idle": "2023-09-14T17:33:18.014406Z",
     "shell.execute_reply": "2023-09-14T17:33:18.014178Z"
    },
    "papermill": {
     "duration": 1.389307,
     "end_time": "2023-09-14T17:33:18.015202",
     "exception": false,
     "start_time": "2023-09-14T17:33:16.625895",
     "status": "completed"
    },
    "tags": []
   },
   "outputs": [],
   "source": [
    "# prepare weights for sampling, where I will put zeros on already sampled gene pairs\n",
    "gene_pairs_weights = (\n",
    "    df_plot.drop(columns=df_plot.columns[:-1])\n",
    "    .rename(columns={df_plot.columns[-1]: \"weight\"})\n",
    "    .assign(weight=1.0)\n",
    "    .squeeze()\n",
    "    .sort_index()\n",
    ")"
   ]
  },
  {
   "cell_type": "code",
   "execution_count": 22,
   "id": "8d9149d2-5bea-46cc-8042-d3b57c7be784",
   "metadata": {
    "execution": {
     "iopub.execute_input": "2023-09-14T17:33:18.022122Z",
     "iopub.status.busy": "2023-09-14T17:33:18.022012Z",
     "iopub.status.idle": "2023-09-14T17:33:18.025121Z",
     "shell.execute_reply": "2023-09-14T17:33:18.024985Z"
    },
    "papermill": {
     "duration": 0.007278,
     "end_time": "2023-09-14T17:33:18.025587",
     "exception": false,
     "start_time": "2023-09-14T17:33:18.018309",
     "status": "completed"
    },
    "tags": []
   },
   "outputs": [
    {
     "data": {
      "text/plain": [
       "ENSG00000000419.12  ENSG00000002834.17    1.0\n",
       "                    ENSG00000002919.14    1.0\n",
       "                    ENSG00000002933.7     1.0\n",
       "                    ENSG00000003402.19    1.0\n",
       "                    ENSG00000004478.7     1.0\n",
       "                                         ... \n",
       "ENSG00000284574.1   ENSG00000282651.2     1.0\n",
       "                    ENSG00000282780.1     1.0\n",
       "                    ENSG00000282939.1     1.0\n",
       "                    ENSG00000283063.1     1.0\n",
       "                    ENSG00000283602.1     1.0\n",
       "Name: weight, Length: 12497500, dtype: float64"
      ]
     },
     "execution_count": 22,
     "metadata": {},
     "output_type": "execute_result"
    }
   ],
   "source": [
    "gene_pairs_weights"
   ]
  },
  {
   "cell_type": "code",
   "execution_count": 23,
   "id": "8c9e264f-230e-4e94-8bb2-40b3f2af5871",
   "metadata": {
    "execution": {
     "iopub.execute_input": "2023-09-14T17:33:18.031992Z",
     "iopub.status.busy": "2023-09-14T17:33:18.031865Z",
     "iopub.status.idle": "2023-09-14T17:33:19.169156Z",
     "shell.execute_reply": "2023-09-14T17:33:19.169008Z"
    },
    "papermill": {
     "duration": 1.141457,
     "end_time": "2023-09-14T17:33:19.169931",
     "exception": false,
     "start_time": "2023-09-14T17:33:18.028474",
     "status": "completed"
    },
    "tags": []
   },
   "outputs": [
    {
     "data": {
      "text/html": [
       "<div>\n",
       "<style scoped>\n",
       "    .dataframe tbody tr th:only-of-type {\n",
       "        vertical-align: middle;\n",
       "    }\n",
       "\n",
       "    .dataframe tbody tr th {\n",
       "        vertical-align: top;\n",
       "    }\n",
       "\n",
       "    .dataframe thead th {\n",
       "        text-align: right;\n",
       "    }\n",
       "</style>\n",
       "<table border=\"1\" class=\"dataframe\">\n",
       "  <thead>\n",
       "    <tr style=\"text-align: right;\">\n",
       "      <th></th>\n",
       "      <th></th>\n",
       "      <th>Pearson (high)</th>\n",
       "      <th>Pearson (low)</th>\n",
       "      <th>Spearman (high)</th>\n",
       "      <th>Spearman (low)</th>\n",
       "      <th>Clustermatch (high)</th>\n",
       "      <th>Clustermatch (low)</th>\n",
       "      <th>ccc</th>\n",
       "      <th>pearson</th>\n",
       "      <th>spearman</th>\n",
       "    </tr>\n",
       "  </thead>\n",
       "  <tbody>\n",
       "    <tr>\n",
       "      <th>ENSG00000136816.15</th>\n",
       "      <th>ENSG00000217078.1</th>\n",
       "      <td>False</td>\n",
       "      <td>False</td>\n",
       "      <td>True</td>\n",
       "      <td>False</td>\n",
       "      <td>False</td>\n",
       "      <td>False</td>\n",
       "      <td>0.175195</td>\n",
       "      <td>0.396198</td>\n",
       "      <td>0.562852</td>\n",
       "    </tr>\n",
       "    <tr>\n",
       "      <th>ENSG00000230724.9</th>\n",
       "      <th>ENSG00000274008.1</th>\n",
       "      <td>False</td>\n",
       "      <td>False</td>\n",
       "      <td>False</td>\n",
       "      <td>False</td>\n",
       "      <td>False</td>\n",
       "      <td>True</td>\n",
       "      <td>0.031538</td>\n",
       "      <td>0.218108</td>\n",
       "      <td>0.303423</td>\n",
       "    </tr>\n",
       "    <tr>\n",
       "      <th>ENSG00000112308.12</th>\n",
       "      <th>ENSG00000119013.8</th>\n",
       "      <td>True</td>\n",
       "      <td>False</td>\n",
       "      <td>True</td>\n",
       "      <td>False</td>\n",
       "      <td>True</td>\n",
       "      <td>False</td>\n",
       "      <td>0.283966</td>\n",
       "      <td>0.569886</td>\n",
       "      <td>0.666895</td>\n",
       "    </tr>\n",
       "    <tr>\n",
       "      <th>ENSG00000008056.13</th>\n",
       "      <th>ENSG00000239998.5</th>\n",
       "      <td>False</td>\n",
       "      <td>False</td>\n",
       "      <td>False</td>\n",
       "      <td>False</td>\n",
       "      <td>False</td>\n",
       "      <td>False</td>\n",
       "      <td>0.162083</td>\n",
       "      <td>0.248055</td>\n",
       "      <td>0.379373</td>\n",
       "    </tr>\n",
       "    <tr>\n",
       "      <th>ENSG00000253570.1</th>\n",
       "      <th>ENSG00000211651.3</th>\n",
       "      <td>False</td>\n",
       "      <td>True</td>\n",
       "      <td>False</td>\n",
       "      <td>True</td>\n",
       "      <td>False</td>\n",
       "      <td>True</td>\n",
       "      <td>0.011362</td>\n",
       "      <td>0.073365</td>\n",
       "      <td>0.144784</td>\n",
       "    </tr>\n",
       "    <tr>\n",
       "      <th>ENSG00000069493.14</th>\n",
       "      <th>ENSG00000164031.16</th>\n",
       "      <td>True</td>\n",
       "      <td>False</td>\n",
       "      <td>True</td>\n",
       "      <td>False</td>\n",
       "      <td>True</td>\n",
       "      <td>False</td>\n",
       "      <td>0.188812</td>\n",
       "      <td>0.543473</td>\n",
       "      <td>0.635263</td>\n",
       "    </tr>\n",
       "    <tr>\n",
       "      <th>ENSG00000155368.16</th>\n",
       "      <th>ENSG00000010539.11</th>\n",
       "      <td>False</td>\n",
       "      <td>False</td>\n",
       "      <td>False</td>\n",
       "      <td>False</td>\n",
       "      <td>False</td>\n",
       "      <td>False</td>\n",
       "      <td>0.116509</td>\n",
       "      <td>0.256672</td>\n",
       "      <td>0.463205</td>\n",
       "    </tr>\n",
       "    <tr>\n",
       "      <th>ENSG00000162722.8</th>\n",
       "      <th>ENSG00000100721.10</th>\n",
       "      <td>False</td>\n",
       "      <td>True</td>\n",
       "      <td>False</td>\n",
       "      <td>True</td>\n",
       "      <td>False</td>\n",
       "      <td>True</td>\n",
       "      <td>0.011009</td>\n",
       "      <td>0.083776</td>\n",
       "      <td>0.158292</td>\n",
       "    </tr>\n",
       "    <tr>\n",
       "      <th>ENSG00000116906.11</th>\n",
       "      <th>ENSG00000196139.13</th>\n",
       "      <td>False</td>\n",
       "      <td>False</td>\n",
       "      <td>False</td>\n",
       "      <td>True</td>\n",
       "      <td>False</td>\n",
       "      <td>True</td>\n",
       "      <td>0.016165</td>\n",
       "      <td>0.129005</td>\n",
       "      <td>0.170611</td>\n",
       "    </tr>\n",
       "    <tr>\n",
       "      <th>ENSG00000179583.18</th>\n",
       "      <th>ENSG00000106780.8</th>\n",
       "      <td>False</td>\n",
       "      <td>True</td>\n",
       "      <td>False</td>\n",
       "      <td>True</td>\n",
       "      <td>False</td>\n",
       "      <td>True</td>\n",
       "      <td>0.014560</td>\n",
       "      <td>0.001684</td>\n",
       "      <td>0.115115</td>\n",
       "    </tr>\n",
       "  </tbody>\n",
       "</table>\n",
       "</div>"
      ],
      "text/plain": [
       "                                       Pearson (high)  Pearson (low)  \\\n",
       "ENSG00000136816.15 ENSG00000217078.1            False          False   \n",
       "ENSG00000230724.9  ENSG00000274008.1            False          False   \n",
       "ENSG00000112308.12 ENSG00000119013.8             True          False   \n",
       "ENSG00000008056.13 ENSG00000239998.5            False          False   \n",
       "ENSG00000253570.1  ENSG00000211651.3            False           True   \n",
       "ENSG00000069493.14 ENSG00000164031.16            True          False   \n",
       "ENSG00000155368.16 ENSG00000010539.11           False          False   \n",
       "ENSG00000162722.8  ENSG00000100721.10           False           True   \n",
       "ENSG00000116906.11 ENSG00000196139.13           False          False   \n",
       "ENSG00000179583.18 ENSG00000106780.8            False           True   \n",
       "\n",
       "                                       Spearman (high)  Spearman (low)  \\\n",
       "ENSG00000136816.15 ENSG00000217078.1              True           False   \n",
       "ENSG00000230724.9  ENSG00000274008.1             False           False   \n",
       "ENSG00000112308.12 ENSG00000119013.8              True           False   \n",
       "ENSG00000008056.13 ENSG00000239998.5             False           False   \n",
       "ENSG00000253570.1  ENSG00000211651.3             False            True   \n",
       "ENSG00000069493.14 ENSG00000164031.16             True           False   \n",
       "ENSG00000155368.16 ENSG00000010539.11            False           False   \n",
       "ENSG00000162722.8  ENSG00000100721.10            False            True   \n",
       "ENSG00000116906.11 ENSG00000196139.13            False            True   \n",
       "ENSG00000179583.18 ENSG00000106780.8             False            True   \n",
       "\n",
       "                                       Clustermatch (high)  \\\n",
       "ENSG00000136816.15 ENSG00000217078.1                 False   \n",
       "ENSG00000230724.9  ENSG00000274008.1                 False   \n",
       "ENSG00000112308.12 ENSG00000119013.8                  True   \n",
       "ENSG00000008056.13 ENSG00000239998.5                 False   \n",
       "ENSG00000253570.1  ENSG00000211651.3                 False   \n",
       "ENSG00000069493.14 ENSG00000164031.16                 True   \n",
       "ENSG00000155368.16 ENSG00000010539.11                False   \n",
       "ENSG00000162722.8  ENSG00000100721.10                False   \n",
       "ENSG00000116906.11 ENSG00000196139.13                False   \n",
       "ENSG00000179583.18 ENSG00000106780.8                 False   \n",
       "\n",
       "                                       Clustermatch (low)       ccc   pearson  \\\n",
       "ENSG00000136816.15 ENSG00000217078.1                False  0.175195  0.396198   \n",
       "ENSG00000230724.9  ENSG00000274008.1                 True  0.031538  0.218108   \n",
       "ENSG00000112308.12 ENSG00000119013.8                False  0.283966  0.569886   \n",
       "ENSG00000008056.13 ENSG00000239998.5                False  0.162083  0.248055   \n",
       "ENSG00000253570.1  ENSG00000211651.3                 True  0.011362  0.073365   \n",
       "ENSG00000069493.14 ENSG00000164031.16               False  0.188812  0.543473   \n",
       "ENSG00000155368.16 ENSG00000010539.11               False  0.116509  0.256672   \n",
       "ENSG00000162722.8  ENSG00000100721.10                True  0.011009  0.083776   \n",
       "ENSG00000116906.11 ENSG00000196139.13                True  0.016165  0.129005   \n",
       "ENSG00000179583.18 ENSG00000106780.8                 True  0.014560  0.001684   \n",
       "\n",
       "                                       spearman  \n",
       "ENSG00000136816.15 ENSG00000217078.1   0.562852  \n",
       "ENSG00000230724.9  ENSG00000274008.1   0.303423  \n",
       "ENSG00000112308.12 ENSG00000119013.8   0.666895  \n",
       "ENSG00000008056.13 ENSG00000239998.5   0.379373  \n",
       "ENSG00000253570.1  ENSG00000211651.3   0.144784  \n",
       "ENSG00000069493.14 ENSG00000164031.16  0.635263  \n",
       "ENSG00000155368.16 ENSG00000010539.11  0.463205  \n",
       "ENSG00000162722.8  ENSG00000100721.10  0.158292  \n",
       "ENSG00000116906.11 ENSG00000196139.13  0.170611  \n",
       "ENSG00000179583.18 ENSG00000106780.8   0.115115  "
      ]
     },
     "metadata": {},
     "output_type": "display_data"
    }
   ],
   "source": [
    "_tmp = df_plot.sample(n=10, replace=False, weights=gene_pairs_weights)\n",
    "assert _tmp.shape[0] == 10\n",
    "\n",
    "display(_tmp)"
   ]
  },
  {
   "cell_type": "code",
   "execution_count": 24,
   "id": "4bba8586-0ffb-48ee-9261-ff96551d43f0",
   "metadata": {
    "execution": {
     "iopub.execute_input": "2023-09-14T17:33:19.183704Z",
     "iopub.status.busy": "2023-09-14T17:33:19.183615Z",
     "iopub.status.idle": "2023-09-14T17:33:30.190000Z",
     "shell.execute_reply": "2023-09-14T17:33:30.189848Z"
    },
    "papermill": {
     "duration": 11.017066,
     "end_time": "2023-09-14T17:33:30.190413",
     "exception": false,
     "start_time": "2023-09-14T17:33:19.173347",
     "status": "completed"
    },
    "tags": []
   },
   "outputs": [
    {
     "data": {
      "text/plain": [
       "'all_high-top_ccc: (500, 9)'"
      ]
     },
     "metadata": {},
     "output_type": "display_data"
    },
    {
     "data": {
      "text/plain": [
       "'all_high-top_pearson: (500, 9)'"
      ]
     },
     "metadata": {},
     "output_type": "display_data"
    },
    {
     "data": {
      "text/plain": [
       "'all_high-top_spearman: (500, 9)'"
      ]
     },
     "metadata": {},
     "output_type": "display_data"
    },
    {
     "data": {
      "text/plain": [
       "'all_high-random: (500, 9)'"
      ]
     },
     "metadata": {},
     "output_type": "display_data"
    },
    {
     "data": {
      "text/plain": [
       "'all_low-top_ccc: (500, 9)'"
      ]
     },
     "metadata": {},
     "output_type": "display_data"
    },
    {
     "data": {
      "text/plain": [
       "'all_low-top_pearson: (500, 9)'"
      ]
     },
     "metadata": {},
     "output_type": "display_data"
    },
    {
     "data": {
      "text/plain": [
       "'all_low-top_spearman: (500, 9)'"
      ]
     },
     "metadata": {},
     "output_type": "display_data"
    },
    {
     "data": {
      "text/plain": [
       "'all_low-random: (500, 9)'"
      ]
     },
     "metadata": {},
     "output_type": "display_data"
    },
    {
     "data": {
      "text/plain": [
       "'ccc_spearman_high_and_pearson_low-top_ccc: (500, 9)'"
      ]
     },
     "metadata": {},
     "output_type": "display_data"
    },
    {
     "data": {
      "text/plain": [
       "'ccc_spearman_high_and_pearson_low-top_pearson: (500, 9)'"
      ]
     },
     "metadata": {},
     "output_type": "display_data"
    },
    {
     "data": {
      "text/plain": [
       "'ccc_spearman_high_and_pearson_low-top_spearman: (500, 9)'"
      ]
     },
     "metadata": {},
     "output_type": "display_data"
    },
    {
     "data": {
      "text/plain": [
       "'ccc_spearman_high_and_pearson_low-random: (500, 9)'"
      ]
     },
     "metadata": {},
     "output_type": "display_data"
    },
    {
     "data": {
      "text/plain": [
       "'ccc_high_and_pearson_low-top_ccc: (500, 9)'"
      ]
     },
     "metadata": {},
     "output_type": "display_data"
    },
    {
     "data": {
      "text/plain": [
       "'ccc_high_and_pearson_low-top_pearson: (500, 9)'"
      ]
     },
     "metadata": {},
     "output_type": "display_data"
    },
    {
     "data": {
      "text/plain": [
       "'ccc_high_and_pearson_low-top_spearman: (500, 9)'"
      ]
     },
     "metadata": {},
     "output_type": "display_data"
    },
    {
     "data": {
      "text/plain": [
       "'ccc_high_and_pearson_low-random: (500, 9)'"
      ]
     },
     "metadata": {},
     "output_type": "display_data"
    },
    {
     "data": {
      "text/plain": [
       "'ccc_high_and_spearman_low-top_ccc: (28, 9)'"
      ]
     },
     "metadata": {},
     "output_type": "display_data"
    },
    {
     "data": {
      "text/plain": [
       "'ccc_high_and_spearman_low-top_pearson: (28, 9)'"
      ]
     },
     "metadata": {},
     "output_type": "display_data"
    },
    {
     "data": {
      "text/plain": [
       "'ccc_high_and_spearman_low-top_spearman: (28, 9)'"
      ]
     },
     "metadata": {},
     "output_type": "display_data"
    },
    {
     "data": {
      "text/plain": [
       "'  WARNING: ccc_high_and_spearman_low-random: none selected'"
      ]
     },
     "metadata": {},
     "output_type": "display_data"
    },
    {
     "data": {
      "text/plain": [
       "'ccc_high_and_spearman_pearson_low-top_ccc: (8, 9)'"
      ]
     },
     "metadata": {},
     "output_type": "display_data"
    },
    {
     "data": {
      "text/plain": [
       "'ccc_high_and_spearman_pearson_low-top_pearson: (8, 9)'"
      ]
     },
     "metadata": {},
     "output_type": "display_data"
    },
    {
     "data": {
      "text/plain": [
       "'ccc_high_and_spearman_pearson_low-top_spearman: (8, 9)'"
      ]
     },
     "metadata": {},
     "output_type": "display_data"
    },
    {
     "data": {
      "text/plain": [
       "'  WARNING: ccc_high_and_spearman_pearson_low-random: none selected'"
      ]
     },
     "metadata": {},
     "output_type": "display_data"
    },
    {
     "data": {
      "text/plain": [
       "'pearson_high_and_ccc_low-top_ccc: (500, 9)'"
      ]
     },
     "metadata": {},
     "output_type": "display_data"
    },
    {
     "data": {
      "text/plain": [
       "'pearson_high_and_ccc_low-top_pearson: (500, 9)'"
      ]
     },
     "metadata": {},
     "output_type": "display_data"
    },
    {
     "data": {
      "text/plain": [
       "'pearson_high_and_ccc_low-top_spearman: (500, 9)'"
      ]
     },
     "metadata": {},
     "output_type": "display_data"
    },
    {
     "data": {
      "text/plain": [
       "'  WARNING: pearson_high_and_ccc_low-random: none selected'"
      ]
     },
     "metadata": {},
     "output_type": "display_data"
    },
    {
     "data": {
      "text/plain": [
       "'pearson_high_and_ccc_spearman_low-top_ccc: (500, 9)'"
      ]
     },
     "metadata": {},
     "output_type": "display_data"
    },
    {
     "data": {
      "text/plain": [
       "'pearson_high_and_ccc_spearman_low-top_pearson: (500, 9)'"
      ]
     },
     "metadata": {},
     "output_type": "display_data"
    },
    {
     "data": {
      "text/plain": [
       "'pearson_high_and_ccc_spearman_low-top_spearman: (500, 9)'"
      ]
     },
     "metadata": {},
     "output_type": "display_data"
    },
    {
     "data": {
      "text/plain": [
       "'  WARNING: pearson_high_and_ccc_spearman_low-random: none selected'"
      ]
     },
     "metadata": {},
     "output_type": "display_data"
    }
   ],
   "source": [
    "gene_pair_samples = {}\n",
    "\n",
    "for k, v in gene_pair_cats.items():\n",
    "    # sample at most 100 gene pairs\n",
    "    df = gene_pair_cats[k]\n",
    "\n",
    "    n = min(N_MAX_SAMPLES_PER_CATEGORY, df.shape[0])\n",
    "\n",
    "    for coef in (\"ccc\", \"pearson\", \"spearman\", \"random\"):\n",
    "        if coef == \"random\":\n",
    "            new_k = f\"{k}-{coef}\"\n",
    "\n",
    "            # do not sample if all gene pairs were already sampled\n",
    "            df_weights = gene_pairs_weights.loc[df.index]\n",
    "            if (df_weights > 0).sum() < n:\n",
    "                display(f\"  WARNING: {new_k}: none selected\")\n",
    "                continue\n",
    "\n",
    "            sample_n = df.sample(\n",
    "                n=n,\n",
    "                replace=False,\n",
    "                random_state=RANDOM_STATE,\n",
    "                weights=gene_pairs_weights,\n",
    "            )\n",
    "\n",
    "            # do not sample these gene pairs again\n",
    "            gene_pairs_weights.loc[sample_n.index] = 0.0\n",
    "\n",
    "            gene_pair_samples[new_k] = sample_n\n",
    "\n",
    "            display(f\"{new_k}: {gene_pair_samples[new_k].shape}\")\n",
    "\n",
    "            continue\n",
    "\n",
    "        df_coef = df.sort_values(coef, ascending=False)\n",
    "        sample_n = df_coef.head(n)\n",
    "\n",
    "        # when taking the top gene pairs by a coefficient, I do not remove repeated ones\n",
    "\n",
    "        # do not sample these gene pairs again\n",
    "        gene_pairs_weights.loc[sample_n.index] = 0.0\n",
    "\n",
    "        new_k = f\"{k}-top_{coef}\"\n",
    "        gene_pair_samples[new_k] = sample_n\n",
    "\n",
    "        display(f\"{new_k}: {gene_pair_samples[new_k].shape}\")"
   ]
  },
  {
   "cell_type": "markdown",
   "id": "93bc3462-2328-432c-a25a-e17cfa36a3cc",
   "metadata": {
    "papermill": {
     "duration": 0.009884,
     "end_time": "2023-09-14T17:33:30.204183",
     "exception": false,
     "start_time": "2023-09-14T17:33:30.194299",
     "status": "completed"
    },
    "tags": []
   },
   "source": [
    "# Include gene pairs mentioned in the paper"
   ]
  },
  {
   "cell_type": "code",
   "execution_count": 25,
   "id": "c4410546-9a92-42d0-81f0-d601ef8fa745",
   "metadata": {
    "execution": {
     "iopub.execute_input": "2023-09-14T17:33:30.212083Z",
     "iopub.status.busy": "2023-09-14T17:33:30.211986Z",
     "iopub.status.idle": "2023-09-14T17:33:30.213697Z",
     "shell.execute_reply": "2023-09-14T17:33:30.213553Z"
    },
    "papermill": {
     "duration": 0.006448,
     "end_time": "2023-09-14T17:33:30.214286",
     "exception": false,
     "start_time": "2023-09-14T17:33:30.207838",
     "status": "completed"
    },
    "tags": []
   },
   "outputs": [],
   "source": [
    "selected_gene_pairs = [\n",
    "    # ('SDS', 'IFNG')\n",
    "    (\"ENSG00000135094.10\", \"ENSG00000111537.4\"),\n",
    "    # ('APOC1', 'JUN')\n",
    "    (\"ENSG00000130208.9\", \"ENSG00000177606.6\"),\n",
    "    # ('CCL18', 'ZDHHC12')\n",
    "    (\"ENSG00000275385.1\", \"ENSG00000160446.18\"),\n",
    "    # ('KDM6A', 'UTY')\n",
    "    (\"ENSG00000147050.14\", \"ENSG00000183878.15\"),\n",
    "    # ('CYTIP', 'RASSF2')\n",
    "    (\"ENSG00000115165.9\", \"ENSG00000101265.15\"),\n",
    "    # ('KLHL21', 'AC068580.6')\n",
    "    (\"ENSG00000162413.16\", \"ENSG00000235027.1\"),\n",
    "    # ('TNNI2', 'MYOZ1')\n",
    "    (\"ENSG00000130598.15\", \"ENSG00000177791.11\"),\n",
    "    # ('TPM2', 'PYGM')\n",
    "    (\"ENSG00000198467.13\", \"ENSG00000068976.13\"),\n",
    "]"
   ]
  },
  {
   "cell_type": "code",
   "execution_count": 26,
   "id": "ae6c1652-38ca-4cf6-938f-76533e075512",
   "metadata": {
    "execution": {
     "iopub.execute_input": "2023-09-14T17:33:30.221835Z",
     "iopub.status.busy": "2023-09-14T17:33:30.221758Z",
     "iopub.status.idle": "2023-09-14T17:33:31.103707Z",
     "shell.execute_reply": "2023-09-14T17:33:31.103347Z"
    },
    "papermill": {
     "duration": 0.886593,
     "end_time": "2023-09-14T17:33:31.104462",
     "exception": false,
     "start_time": "2023-09-14T17:33:30.217869",
     "status": "completed"
    },
    "tags": []
   },
   "outputs": [
    {
     "data": {
      "text/plain": [
       "(8, 9)"
      ]
     },
     "metadata": {},
     "output_type": "display_data"
    }
   ],
   "source": [
    "gene_pair_samples[\"selected_in_manuscript\"] = df_plot.loc[selected_gene_pairs]\n",
    "display(gene_pair_samples[\"selected_in_manuscript\"].shape)"
   ]
  },
  {
   "cell_type": "code",
   "execution_count": 27,
   "id": "da6d6dd2-59e6-417e-a42c-d7fbba3ba2dc",
   "metadata": {
    "execution": {
     "iopub.execute_input": "2023-09-14T17:33:31.119348Z",
     "iopub.status.busy": "2023-09-14T17:33:31.119280Z",
     "iopub.status.idle": "2023-09-14T17:33:31.124054Z",
     "shell.execute_reply": "2023-09-14T17:33:31.123927Z"
    },
    "papermill": {
     "duration": 0.016172,
     "end_time": "2023-09-14T17:33:31.125045",
     "exception": false,
     "start_time": "2023-09-14T17:33:31.108873",
     "status": "completed"
    },
    "tags": []
   },
   "outputs": [
    {
     "data": {
      "text/html": [
       "<div>\n",
       "<style scoped>\n",
       "    .dataframe tbody tr th:only-of-type {\n",
       "        vertical-align: middle;\n",
       "    }\n",
       "\n",
       "    .dataframe tbody tr th {\n",
       "        vertical-align: top;\n",
       "    }\n",
       "\n",
       "    .dataframe thead th {\n",
       "        text-align: right;\n",
       "    }\n",
       "</style>\n",
       "<table border=\"1\" class=\"dataframe\">\n",
       "  <thead>\n",
       "    <tr style=\"text-align: right;\">\n",
       "      <th></th>\n",
       "      <th></th>\n",
       "      <th>Pearson (high)</th>\n",
       "      <th>Pearson (low)</th>\n",
       "      <th>Spearman (high)</th>\n",
       "      <th>Spearman (low)</th>\n",
       "      <th>Clustermatch (high)</th>\n",
       "      <th>Clustermatch (low)</th>\n",
       "      <th>ccc</th>\n",
       "      <th>pearson</th>\n",
       "      <th>spearman</th>\n",
       "    </tr>\n",
       "  </thead>\n",
       "  <tbody>\n",
       "    <tr>\n",
       "      <th>ENSG00000135094.10</th>\n",
       "      <th>ENSG00000111537.4</th>\n",
       "      <td>False</td>\n",
       "      <td>True</td>\n",
       "      <td>True</td>\n",
       "      <td>False</td>\n",
       "      <td>True</td>\n",
       "      <td>False</td>\n",
       "      <td>0.706993</td>\n",
       "      <td>0.090451</td>\n",
       "      <td>0.765177</td>\n",
       "    </tr>\n",
       "    <tr>\n",
       "      <th>ENSG00000130208.9</th>\n",
       "      <th>ENSG00000177606.6</th>\n",
       "      <td>False</td>\n",
       "      <td>True</td>\n",
       "      <td>True</td>\n",
       "      <td>False</td>\n",
       "      <td>True</td>\n",
       "      <td>False</td>\n",
       "      <td>0.612233</td>\n",
       "      <td>0.084623</td>\n",
       "      <td>0.748265</td>\n",
       "    </tr>\n",
       "    <tr>\n",
       "      <th>ENSG00000275385.1</th>\n",
       "      <th>ENSG00000160446.18</th>\n",
       "      <td>False</td>\n",
       "      <td>True</td>\n",
       "      <td>False</td>\n",
       "      <td>False</td>\n",
       "      <td>True</td>\n",
       "      <td>False</td>\n",
       "      <td>0.446659</td>\n",
       "      <td>0.099853</td>\n",
       "      <td>0.560171</td>\n",
       "    </tr>\n",
       "    <tr>\n",
       "      <th>ENSG00000147050.14</th>\n",
       "      <th>ENSG00000183878.15</th>\n",
       "      <td>False</td>\n",
       "      <td>False</td>\n",
       "      <td>False</td>\n",
       "      <td>True</td>\n",
       "      <td>True</td>\n",
       "      <td>False</td>\n",
       "      <td>0.294391</td>\n",
       "      <td>0.239870</td>\n",
       "      <td>0.100621</td>\n",
       "    </tr>\n",
       "    <tr>\n",
       "      <th>ENSG00000115165.9</th>\n",
       "      <th>ENSG00000101265.15</th>\n",
       "      <td>False</td>\n",
       "      <td>False</td>\n",
       "      <td>False</td>\n",
       "      <td>True</td>\n",
       "      <td>True</td>\n",
       "      <td>False</td>\n",
       "      <td>0.201962</td>\n",
       "      <td>0.156060</td>\n",
       "      <td>0.107882</td>\n",
       "    </tr>\n",
       "    <tr>\n",
       "      <th>ENSG00000162413.16</th>\n",
       "      <th>ENSG00000235027.1</th>\n",
       "      <td>False</td>\n",
       "      <td>True</td>\n",
       "      <td>False</td>\n",
       "      <td>True</td>\n",
       "      <td>True</td>\n",
       "      <td>False</td>\n",
       "      <td>0.184217</td>\n",
       "      <td>0.062875</td>\n",
       "      <td>0.186421</td>\n",
       "    </tr>\n",
       "    <tr>\n",
       "      <th>ENSG00000130598.15</th>\n",
       "      <th>ENSG00000177791.11</th>\n",
       "      <td>True</td>\n",
       "      <td>False</td>\n",
       "      <td>False</td>\n",
       "      <td>False</td>\n",
       "      <td>False</td>\n",
       "      <td>True</td>\n",
       "      <td>0.034593</td>\n",
       "      <td>0.967834</td>\n",
       "      <td>0.284206</td>\n",
       "    </tr>\n",
       "    <tr>\n",
       "      <th>ENSG00000198467.13</th>\n",
       "      <th>ENSG00000068976.13</th>\n",
       "      <td>True</td>\n",
       "      <td>False</td>\n",
       "      <td>False</td>\n",
       "      <td>True</td>\n",
       "      <td>False</td>\n",
       "      <td>True</td>\n",
       "      <td>0.034912</td>\n",
       "      <td>0.944430</td>\n",
       "      <td>0.029852</td>\n",
       "    </tr>\n",
       "  </tbody>\n",
       "</table>\n",
       "</div>"
      ],
      "text/plain": [
       "                                       Pearson (high)  Pearson (low)  \\\n",
       "ENSG00000135094.10 ENSG00000111537.4            False           True   \n",
       "ENSG00000130208.9  ENSG00000177606.6            False           True   \n",
       "ENSG00000275385.1  ENSG00000160446.18           False           True   \n",
       "ENSG00000147050.14 ENSG00000183878.15           False          False   \n",
       "ENSG00000115165.9  ENSG00000101265.15           False          False   \n",
       "ENSG00000162413.16 ENSG00000235027.1            False           True   \n",
       "ENSG00000130598.15 ENSG00000177791.11            True          False   \n",
       "ENSG00000198467.13 ENSG00000068976.13            True          False   \n",
       "\n",
       "                                       Spearman (high)  Spearman (low)  \\\n",
       "ENSG00000135094.10 ENSG00000111537.4              True           False   \n",
       "ENSG00000130208.9  ENSG00000177606.6              True           False   \n",
       "ENSG00000275385.1  ENSG00000160446.18            False           False   \n",
       "ENSG00000147050.14 ENSG00000183878.15            False            True   \n",
       "ENSG00000115165.9  ENSG00000101265.15            False            True   \n",
       "ENSG00000162413.16 ENSG00000235027.1             False            True   \n",
       "ENSG00000130598.15 ENSG00000177791.11            False           False   \n",
       "ENSG00000198467.13 ENSG00000068976.13            False            True   \n",
       "\n",
       "                                       Clustermatch (high)  \\\n",
       "ENSG00000135094.10 ENSG00000111537.4                  True   \n",
       "ENSG00000130208.9  ENSG00000177606.6                  True   \n",
       "ENSG00000275385.1  ENSG00000160446.18                 True   \n",
       "ENSG00000147050.14 ENSG00000183878.15                 True   \n",
       "ENSG00000115165.9  ENSG00000101265.15                 True   \n",
       "ENSG00000162413.16 ENSG00000235027.1                  True   \n",
       "ENSG00000130598.15 ENSG00000177791.11                False   \n",
       "ENSG00000198467.13 ENSG00000068976.13                False   \n",
       "\n",
       "                                       Clustermatch (low)       ccc   pearson  \\\n",
       "ENSG00000135094.10 ENSG00000111537.4                False  0.706993  0.090451   \n",
       "ENSG00000130208.9  ENSG00000177606.6                False  0.612233  0.084623   \n",
       "ENSG00000275385.1  ENSG00000160446.18               False  0.446659  0.099853   \n",
       "ENSG00000147050.14 ENSG00000183878.15               False  0.294391  0.239870   \n",
       "ENSG00000115165.9  ENSG00000101265.15               False  0.201962  0.156060   \n",
       "ENSG00000162413.16 ENSG00000235027.1                False  0.184217  0.062875   \n",
       "ENSG00000130598.15 ENSG00000177791.11                True  0.034593  0.967834   \n",
       "ENSG00000198467.13 ENSG00000068976.13                True  0.034912  0.944430   \n",
       "\n",
       "                                       spearman  \n",
       "ENSG00000135094.10 ENSG00000111537.4   0.765177  \n",
       "ENSG00000130208.9  ENSG00000177606.6   0.748265  \n",
       "ENSG00000275385.1  ENSG00000160446.18  0.560171  \n",
       "ENSG00000147050.14 ENSG00000183878.15  0.100621  \n",
       "ENSG00000115165.9  ENSG00000101265.15  0.107882  \n",
       "ENSG00000162413.16 ENSG00000235027.1   0.186421  \n",
       "ENSG00000130598.15 ENSG00000177791.11  0.284206  \n",
       "ENSG00000198467.13 ENSG00000068976.13  0.029852  "
      ]
     },
     "execution_count": 27,
     "metadata": {},
     "output_type": "execute_result"
    }
   ],
   "source": [
    "gene_pair_samples[\"selected_in_manuscript\"]"
   ]
  },
  {
   "cell_type": "markdown",
   "id": "4861a98c-3337-46af-9d77-bf4a7e0b49f6",
   "metadata": {
    "papermill": {
     "duration": 0.006424,
     "end_time": "2023-09-14T17:33:31.138651",
     "exception": false,
     "start_time": "2023-09-14T17:33:31.132227",
     "status": "completed"
    },
    "tags": []
   },
   "source": [
    "# Include a random sample across the entire dataset"
   ]
  },
  {
   "cell_type": "markdown",
   "id": "9cd04572-168d-4499-a8c2-e1fb044f02cf",
   "metadata": {
    "papermill": {
     "duration": 0.003681,
     "end_time": "2023-09-14T17:33:31.146216",
     "exception": false,
     "start_time": "2023-09-14T17:33:31.142535",
     "status": "completed"
    },
    "tags": []
   },
   "source": [
    "This includes all possible gene pairs from the top 5k genes initially selected, not the filtered list derived from the intersections."
   ]
  },
  {
   "cell_type": "markdown",
   "id": "b6c2b591-ade4-48b4-8cda-0b135c35f033",
   "metadata": {
    "papermill": {
     "duration": 0.003714,
     "end_time": "2023-09-14T17:33:31.153652",
     "exception": false,
     "start_time": "2023-09-14T17:33:31.149938",
     "status": "completed"
    },
    "tags": []
   },
   "source": [
    "## Load all correlations"
   ]
  },
  {
   "cell_type": "code",
   "execution_count": 28,
   "id": "f7ba1893-fdcd-47bc-8cca-9cc29fe9d28a",
   "metadata": {
    "execution": {
     "iopub.execute_input": "2023-09-14T17:33:31.161686Z",
     "iopub.status.busy": "2023-09-14T17:33:31.161571Z",
     "iopub.status.idle": "2023-09-14T17:33:31.163743Z",
     "shell.execute_reply": "2023-09-14T17:33:31.163539Z"
    },
    "papermill": {
     "duration": 0.006903,
     "end_time": "2023-09-14T17:33:31.164380",
     "exception": false,
     "start_time": "2023-09-14T17:33:31.157477",
     "status": "completed"
    },
    "tags": []
   },
   "outputs": [
    {
     "data": {
      "text/plain": [
       "PosixPath('/opt/data/results/gtex_v8/similarity_matrices/gtex_v8_data_{tissue}-{gene_sel_strategy}-{corr_method}.pkl')"
      ]
     },
     "metadata": {},
     "output_type": "display_data"
    }
   ],
   "source": [
    "INPUT_CORR_FILE_TEMPLATE = (\n",
    "    DATASET_CONFIG[\"SIMILARITY_MATRICES_DIR\"]\n",
    "    / DATASET_CONFIG[\"SIMILARITY_MATRIX_FILENAME_TEMPLATE\"]\n",
    ")\n",
    "display(INPUT_CORR_FILE_TEMPLATE)"
   ]
  },
  {
   "cell_type": "code",
   "execution_count": 29,
   "id": "7a0ca509-8fc2-4cc7-822f-992d4e0810d5",
   "metadata": {
    "execution": {
     "iopub.execute_input": "2023-09-14T17:33:31.172524Z",
     "iopub.status.busy": "2023-09-14T17:33:31.172420Z",
     "iopub.status.idle": "2023-09-14T17:33:31.174107Z",
     "shell.execute_reply": "2023-09-14T17:33:31.173985Z"
    },
    "papermill": {
     "duration": 0.006601,
     "end_time": "2023-09-14T17:33:31.174737",
     "exception": false,
     "start_time": "2023-09-14T17:33:31.168136",
     "status": "completed"
    },
    "tags": []
   },
   "outputs": [
    {
     "data": {
      "text/plain": [
       "PosixPath('/opt/data/results/gtex_v8/similarity_matrices/gtex_v8_data_whole_blood-var_pc_log2-all.pkl')"
      ]
     },
     "metadata": {},
     "output_type": "display_data"
    }
   ],
   "source": [
    "INPUT_CORR_FILE = DATASET_CONFIG[\"SIMILARITY_MATRICES_DIR\"] / str(\n",
    "    INPUT_CORR_FILE_TEMPLATE\n",
    ").format(\n",
    "    tissue=GTEX_TISSUE,\n",
    "    gene_sel_strategy=GENE_SEL_STRATEGY,\n",
    "    corr_method=\"all\",\n",
    ")\n",
    "display(INPUT_CORR_FILE)"
   ]
  },
  {
   "cell_type": "code",
   "execution_count": 30,
   "id": "3e4b11c9-5ad7-465d-ba5b-e00f28905ba5",
   "metadata": {
    "execution": {
     "iopub.execute_input": "2023-09-14T17:33:31.182595Z",
     "iopub.status.busy": "2023-09-14T17:33:31.182474Z",
     "iopub.status.idle": "2023-09-14T17:33:31.304429Z",
     "shell.execute_reply": "2023-09-14T17:33:31.304165Z"
    },
    "papermill": {
     "duration": 0.126858,
     "end_time": "2023-09-14T17:33:31.305304",
     "exception": false,
     "start_time": "2023-09-14T17:33:31.178446",
     "status": "completed"
    },
    "tags": []
   },
   "outputs": [],
   "source": [
    "df = pd.read_pickle(INPUT_CORR_FILE)"
   ]
  },
  {
   "cell_type": "code",
   "execution_count": 31,
   "id": "a915005a-a4ab-4197-8f2d-84fec95b6548",
   "metadata": {
    "execution": {
     "iopub.execute_input": "2023-09-14T17:33:31.319898Z",
     "iopub.status.busy": "2023-09-14T17:33:31.319801Z",
     "iopub.status.idle": "2023-09-14T17:33:31.322138Z",
     "shell.execute_reply": "2023-09-14T17:33:31.321778Z"
    },
    "papermill": {
     "duration": 0.013079,
     "end_time": "2023-09-14T17:33:31.322640",
     "exception": false,
     "start_time": "2023-09-14T17:33:31.309561",
     "status": "completed"
    },
    "tags": []
   },
   "outputs": [
    {
     "data": {
      "text/plain": [
       "(12497500, 3)"
      ]
     },
     "execution_count": 31,
     "metadata": {},
     "output_type": "execute_result"
    }
   ],
   "source": [
    "df.shape"
   ]
  },
  {
   "cell_type": "code",
   "execution_count": 32,
   "id": "a1e98073-86ad-4eb2-9043-b148e33ac4a1",
   "metadata": {
    "execution": {
     "iopub.execute_input": "2023-09-14T17:33:31.330957Z",
     "iopub.status.busy": "2023-09-14T17:33:31.330859Z",
     "iopub.status.idle": "2023-09-14T17:33:31.334241Z",
     "shell.execute_reply": "2023-09-14T17:33:31.334070Z"
    },
    "papermill": {
     "duration": 0.008068,
     "end_time": "2023-09-14T17:33:31.334685",
     "exception": false,
     "start_time": "2023-09-14T17:33:31.326617",
     "status": "completed"
    },
    "tags": []
   },
   "outputs": [
    {
     "data": {
      "text/html": [
       "<div>\n",
       "<style scoped>\n",
       "    .dataframe tbody tr th:only-of-type {\n",
       "        vertical-align: middle;\n",
       "    }\n",
       "\n",
       "    .dataframe tbody tr th {\n",
       "        vertical-align: top;\n",
       "    }\n",
       "\n",
       "    .dataframe thead th {\n",
       "        text-align: right;\n",
       "    }\n",
       "</style>\n",
       "<table border=\"1\" class=\"dataframe\">\n",
       "  <thead>\n",
       "    <tr style=\"text-align: right;\">\n",
       "      <th></th>\n",
       "      <th></th>\n",
       "      <th>ccc</th>\n",
       "      <th>pearson</th>\n",
       "      <th>spearman</th>\n",
       "    </tr>\n",
       "  </thead>\n",
       "  <tbody>\n",
       "    <tr>\n",
       "      <th rowspan=\"5\" valign=\"top\">ENSG00000000419.12</th>\n",
       "      <th>ENSG00000002834.17</th>\n",
       "      <td>0.418721</td>\n",
       "      <td>0.681847</td>\n",
       "      <td>0.786595</td>\n",
       "    </tr>\n",
       "    <tr>\n",
       "      <th>ENSG00000002919.14</th>\n",
       "      <td>0.405090</td>\n",
       "      <td>0.734699</td>\n",
       "      <td>0.816991</td>\n",
       "    </tr>\n",
       "    <tr>\n",
       "      <th>ENSG00000002933.7</th>\n",
       "      <td>0.007466</td>\n",
       "      <td>0.013825</td>\n",
       "      <td>0.004128</td>\n",
       "    </tr>\n",
       "    <tr>\n",
       "      <th>ENSG00000003402.19</th>\n",
       "      <td>0.391683</td>\n",
       "      <td>0.727347</td>\n",
       "      <td>0.803653</td>\n",
       "    </tr>\n",
       "    <tr>\n",
       "      <th>ENSG00000004478.7</th>\n",
       "      <td>0.099013</td>\n",
       "      <td>0.094147</td>\n",
       "      <td>0.231269</td>\n",
       "    </tr>\n",
       "  </tbody>\n",
       "</table>\n",
       "</div>"
      ],
      "text/plain": [
       "                                            ccc   pearson  spearman\n",
       "ENSG00000000419.12 ENSG00000002834.17  0.418721  0.681847  0.786595\n",
       "                   ENSG00000002919.14  0.405090  0.734699  0.816991\n",
       "                   ENSG00000002933.7   0.007466  0.013825  0.004128\n",
       "                   ENSG00000003402.19  0.391683  0.727347  0.803653\n",
       "                   ENSG00000004478.7   0.099013  0.094147  0.231269"
      ]
     },
     "execution_count": 32,
     "metadata": {},
     "output_type": "execute_result"
    }
   ],
   "source": [
    "df.head()"
   ]
  },
  {
   "cell_type": "markdown",
   "id": "2f1f3a16-d43b-4d1f-805c-6b884d9edf45",
   "metadata": {
    "papermill": {
     "duration": 0.003877,
     "end_time": "2023-09-14T17:33:31.342388",
     "exception": false,
     "start_time": "2023-09-14T17:33:31.338511",
     "status": "completed"
    },
    "tags": []
   },
   "source": [
    "## Select 2n here (double)"
   ]
  },
  {
   "cell_type": "code",
   "execution_count": 33,
   "id": "d25034ed-6b39-468a-8e81-aaa5afc609f7",
   "metadata": {
    "execution": {
     "iopub.execute_input": "2023-09-14T17:33:31.350493Z",
     "iopub.status.busy": "2023-09-14T17:33:31.350382Z",
     "iopub.status.idle": "2023-09-14T17:33:31.598963Z",
     "shell.execute_reply": "2023-09-14T17:33:31.598688Z"
    },
    "papermill": {
     "duration": 0.253579,
     "end_time": "2023-09-14T17:33:31.599787",
     "exception": false,
     "start_time": "2023-09-14T17:33:31.346208",
     "status": "completed"
    },
    "tags": []
   },
   "outputs": [],
   "source": [
    "sample_n = df.sample(n=int(n * 2), replace=False, random_state=RANDOM_STATE)\n",
    "\n",
    "new_k = f\"entire_dataset-random\"\n",
    "gene_pair_samples[new_k] = sample_n"
   ]
  },
  {
   "cell_type": "code",
   "execution_count": 34,
   "id": "1a525ccb-d51a-4923-93dc-1336ecc86790",
   "metadata": {
    "execution": {
     "iopub.execute_input": "2023-09-14T17:33:31.608601Z",
     "iopub.status.busy": "2023-09-14T17:33:31.608522Z",
     "iopub.status.idle": "2023-09-14T17:33:31.610807Z",
     "shell.execute_reply": "2023-09-14T17:33:31.610574Z"
    },
    "papermill": {
     "duration": 0.00732,
     "end_time": "2023-09-14T17:33:31.611379",
     "exception": false,
     "start_time": "2023-09-14T17:33:31.604059",
     "status": "completed"
    },
    "tags": []
   },
   "outputs": [
    {
     "data": {
      "text/plain": [
       "(1000, 3)"
      ]
     },
     "execution_count": 34,
     "metadata": {},
     "output_type": "execute_result"
    }
   ],
   "source": [
    "gene_pair_samples[new_k].shape"
   ]
  },
  {
   "cell_type": "code",
   "execution_count": 35,
   "id": "6535d825-46dc-4cf4-9bfa-226db6fd2591",
   "metadata": {
    "execution": {
     "iopub.execute_input": "2023-09-14T17:33:31.619664Z",
     "iopub.status.busy": "2023-09-14T17:33:31.619591Z",
     "iopub.status.idle": "2023-09-14T17:33:31.624399Z",
     "shell.execute_reply": "2023-09-14T17:33:31.624201Z"
    },
    "papermill": {
     "duration": 0.009631,
     "end_time": "2023-09-14T17:33:31.624918",
     "exception": false,
     "start_time": "2023-09-14T17:33:31.615287",
     "status": "completed"
    },
    "tags": []
   },
   "outputs": [
    {
     "data": {
      "text/html": [
       "<div>\n",
       "<style scoped>\n",
       "    .dataframe tbody tr th:only-of-type {\n",
       "        vertical-align: middle;\n",
       "    }\n",
       "\n",
       "    .dataframe tbody tr th {\n",
       "        vertical-align: top;\n",
       "    }\n",
       "\n",
       "    .dataframe thead th {\n",
       "        text-align: right;\n",
       "    }\n",
       "</style>\n",
       "<table border=\"1\" class=\"dataframe\">\n",
       "  <thead>\n",
       "    <tr style=\"text-align: right;\">\n",
       "      <th></th>\n",
       "      <th></th>\n",
       "      <th>ccc</th>\n",
       "      <th>pearson</th>\n",
       "      <th>spearman</th>\n",
       "    </tr>\n",
       "  </thead>\n",
       "  <tbody>\n",
       "    <tr>\n",
       "      <th>ENSG00000150527.16</th>\n",
       "      <th>ENSG00000188895.11</th>\n",
       "      <td>0.579461</td>\n",
       "      <td>0.862097</td>\n",
       "      <td>0.912108</td>\n",
       "    </tr>\n",
       "    <tr>\n",
       "      <th>ENSG00000175895.3</th>\n",
       "      <th>ENSG00000222037.5</th>\n",
       "      <td>0.007740</td>\n",
       "      <td>0.034657</td>\n",
       "      <td>0.032004</td>\n",
       "    </tr>\n",
       "    <tr>\n",
       "      <th>ENSG00000213866.3</th>\n",
       "      <th>ENSG00000242887.1</th>\n",
       "      <td>0.034012</td>\n",
       "      <td>0.156495</td>\n",
       "      <td>0.270456</td>\n",
       "    </tr>\n",
       "    <tr>\n",
       "      <th>ENSG00000170542.5</th>\n",
       "      <th>ENSG00000230202.1</th>\n",
       "      <td>0.089190</td>\n",
       "      <td>0.110683</td>\n",
       "      <td>0.413265</td>\n",
       "    </tr>\n",
       "    <tr>\n",
       "      <th>ENSG00000211779.3</th>\n",
       "      <th>ENSG00000253616.5</th>\n",
       "      <td>0.024536</td>\n",
       "      <td>0.075756</td>\n",
       "      <td>0.073756</td>\n",
       "    </tr>\n",
       "    <tr>\n",
       "      <th>...</th>\n",
       "      <th>...</th>\n",
       "      <td>...</td>\n",
       "      <td>...</td>\n",
       "      <td>...</td>\n",
       "    </tr>\n",
       "    <tr>\n",
       "      <th>ENSG00000129347.19</th>\n",
       "      <th>ENSG00000132694.18</th>\n",
       "      <td>0.021054</td>\n",
       "      <td>0.031069</td>\n",
       "      <td>0.000816</td>\n",
       "    </tr>\n",
       "    <tr>\n",
       "      <th>ENSG00000059728.10</th>\n",
       "      <th>ENSG00000205364.3</th>\n",
       "      <td>0.017633</td>\n",
       "      <td>0.121704</td>\n",
       "      <td>0.182822</td>\n",
       "    </tr>\n",
       "    <tr>\n",
       "      <th>ENSG00000152520.13</th>\n",
       "      <th>ENSG00000148965.9</th>\n",
       "      <td>0.009905</td>\n",
       "      <td>0.057705</td>\n",
       "      <td>0.099234</td>\n",
       "    </tr>\n",
       "    <tr>\n",
       "      <th>ENSG00000164751.14</th>\n",
       "      <th>ENSG00000173575.20</th>\n",
       "      <td>0.045276</td>\n",
       "      <td>0.217614</td>\n",
       "      <td>0.307587</td>\n",
       "    </tr>\n",
       "    <tr>\n",
       "      <th>ENSG00000270055.1</th>\n",
       "      <th>ENSG00000147394.18</th>\n",
       "      <td>0.066925</td>\n",
       "      <td>0.330674</td>\n",
       "      <td>0.382055</td>\n",
       "    </tr>\n",
       "  </tbody>\n",
       "</table>\n",
       "<p>1000 rows × 3 columns</p>\n",
       "</div>"
      ],
      "text/plain": [
       "                                            ccc   pearson  spearman\n",
       "ENSG00000150527.16 ENSG00000188895.11  0.579461  0.862097  0.912108\n",
       "ENSG00000175895.3  ENSG00000222037.5   0.007740  0.034657  0.032004\n",
       "ENSG00000213866.3  ENSG00000242887.1   0.034012  0.156495  0.270456\n",
       "ENSG00000170542.5  ENSG00000230202.1   0.089190  0.110683  0.413265\n",
       "ENSG00000211779.3  ENSG00000253616.5   0.024536  0.075756  0.073756\n",
       "...                                         ...       ...       ...\n",
       "ENSG00000129347.19 ENSG00000132694.18  0.021054  0.031069  0.000816\n",
       "ENSG00000059728.10 ENSG00000205364.3   0.017633  0.121704  0.182822\n",
       "ENSG00000152520.13 ENSG00000148965.9   0.009905  0.057705  0.099234\n",
       "ENSG00000164751.14 ENSG00000173575.20  0.045276  0.217614  0.307587\n",
       "ENSG00000270055.1  ENSG00000147394.18  0.066925  0.330674  0.382055\n",
       "\n",
       "[1000 rows x 3 columns]"
      ]
     },
     "execution_count": 35,
     "metadata": {},
     "output_type": "execute_result"
    }
   ],
   "source": [
    "gene_pair_samples[new_k]"
   ]
  },
  {
   "cell_type": "markdown",
   "id": "c15b6534-bd10-4091-a33d-e924a883cd93",
   "metadata": {
    "papermill": {
     "duration": 0.00383,
     "end_time": "2023-09-14T17:33:31.632761",
     "exception": false,
     "start_time": "2023-09-14T17:33:31.628931",
     "status": "completed"
    },
    "tags": []
   },
   "source": [
    "# Save"
   ]
  },
  {
   "cell_type": "code",
   "execution_count": 36,
   "id": "62d8632e-13e0-4a78-ad30-26770172d21e",
   "metadata": {
    "execution": {
     "iopub.execute_input": "2023-09-14T17:33:31.640993Z",
     "iopub.status.busy": "2023-09-14T17:33:31.640887Z",
     "iopub.status.idle": "2023-09-14T17:33:31.642237Z",
     "shell.execute_reply": "2023-09-14T17:33:31.642105Z"
    },
    "papermill": {
     "duration": 0.006038,
     "end_time": "2023-09-14T17:33:31.642741",
     "exception": false,
     "start_time": "2023-09-14T17:33:31.636703",
     "status": "completed"
    },
    "tags": []
   },
   "outputs": [],
   "source": [
    "output_file = OUTPUT_DIR / \"gene_pair-samples.pkl\""
   ]
  },
  {
   "cell_type": "code",
   "execution_count": 37,
   "id": "bb8e28d4-3adf-4d6a-a94e-81b6763ebd61",
   "metadata": {
    "execution": {
     "iopub.execute_input": "2023-09-14T17:33:31.650958Z",
     "iopub.status.busy": "2023-09-14T17:33:31.650853Z",
     "iopub.status.idle": "2023-09-14T17:33:31.654098Z",
     "shell.execute_reply": "2023-09-14T17:33:31.653741Z"
    },
    "papermill": {
     "duration": 0.008042,
     "end_time": "2023-09-14T17:33:31.654665",
     "exception": false,
     "start_time": "2023-09-14T17:33:31.646623",
     "status": "completed"
    },
    "tags": []
   },
   "outputs": [],
   "source": [
    "pd.to_pickle(gene_pair_samples, output_file)"
   ]
  },
  {
   "cell_type": "code",
   "execution_count": null,
   "id": "46cff789-6c90-42c5-9328-21ee7bd70851",
   "metadata": {
    "papermill": {
     "duration": 0.003794,
     "end_time": "2023-09-14T17:33:31.662319",
     "exception": false,
     "start_time": "2023-09-14T17:33:31.658525",
     "status": "completed"
    },
    "tags": []
   },
   "outputs": [],
   "source": []
  }
 ],
 "metadata": {
  "jupytext": {
   "cell_metadata_filter": "all,-execution,-papermill,-trusted",
   "notebook_metadata_filter": "-jupytext.text_representation.jupytext_version"
  },
  "kernelspec": {
   "display_name": "Python 3 (ipykernel)",
   "language": "python",
   "name": "python3"
  },
  "language_info": {
   "codemirror_mode": {
    "name": "ipython",
    "version": 3
   },
   "file_extension": ".py",
   "mimetype": "text/x-python",
   "name": "python",
   "nbconvert_exporter": "python",
   "pygments_lexer": "ipython3",
   "version": "3.9.12"
  },
  "papermill": {
   "default_parameters": {},
   "duration": 17.008798,
   "end_time": "2023-09-14T17:33:31.980924",
   "environment_variables": {},
   "exception": null,
   "input_path": "nbs/25_pvalue/10-sample_gene_pair_categories.ipynb",
   "output_path": "nbs/25_pvalue/10-sample_gene_pair_categories.run.ipynb",
   "parameters": {},
   "start_time": "2023-09-14T17:33:14.972126",
   "version": "2.3.4"
  }
 },
 "nbformat": 4,
 "nbformat_minor": 5
}
