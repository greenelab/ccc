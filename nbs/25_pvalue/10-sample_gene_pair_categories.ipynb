{
 "cells": [
  {
   "cell_type": "markdown",
   "id": "ec52faa3-656f-483e-9617-d7ec0f7d818c",
   "metadata": {
    "papermill": {
     "duration": 0.006701,
     "end_time": "2023-09-13T04:11:57.158347",
     "exception": false,
     "start_time": "2023-09-13T04:11:57.151646",
     "status": "completed"
    },
    "tags": []
   },
   "source": [
    "# Description"
   ]
  },
  {
   "cell_type": "markdown",
   "id": "51102f42-fcd9-4a58-9c8d-dfcd3d2d464e",
   "metadata": {
    "papermill": {
     "duration": 0.001871,
     "end_time": "2023-09-13T04:11:57.162712",
     "exception": false,
     "start_time": "2023-09-13T04:11:57.160841",
     "status": "completed"
    },
    "tags": []
   },
   "source": [
    "It sample gene pairs from the categories in Figure 3b."
   ]
  },
  {
   "cell_type": "markdown",
   "id": "7006ceeb-2651-407d-bfa1-1039727649ef",
   "metadata": {
    "papermill": {
     "duration": 0.001725,
     "end_time": "2023-09-13T04:11:57.166242",
     "exception": false,
     "start_time": "2023-09-13T04:11:57.164517",
     "status": "completed"
    },
    "tags": []
   },
   "source": [
    "# Modules loading"
   ]
  },
  {
   "cell_type": "code",
   "execution_count": 1,
   "id": "1ffa1a96-7545-40b9-ac8b-8627e13de8d4",
   "metadata": {
    "execution": {
     "iopub.execute_input": "2023-09-13T04:11:57.170484Z",
     "iopub.status.busy": "2023-09-13T04:11:57.170349Z",
     "iopub.status.idle": "2023-09-13T04:11:57.460842Z",
     "shell.execute_reply": "2023-09-13T04:11:57.460596Z"
    },
    "papermill": {
     "duration": 0.293749,
     "end_time": "2023-09-13T04:11:57.461760",
     "exception": false,
     "start_time": "2023-09-13T04:11:57.168011",
     "status": "completed"
    },
    "tags": []
   },
   "outputs": [],
   "source": [
    "import numpy as np\n",
    "import matplotlib.pyplot as plt\n",
    "import seaborn as sns\n",
    "from scipy import stats\n",
    "import numpy as np\n",
    "import pandas as pd\n",
    "\n",
    "from ccc import conf"
   ]
  },
  {
   "cell_type": "markdown",
   "id": "0d3cc810-4b17-4213-8f03-6fe7e97a0fe3",
   "metadata": {
    "papermill": {
     "duration": 0.001816,
     "end_time": "2023-09-13T04:11:57.465621",
     "exception": false,
     "start_time": "2023-09-13T04:11:57.463805",
     "status": "completed"
    },
    "tags": []
   },
   "source": [
    "# Settings"
   ]
  },
  {
   "cell_type": "code",
   "execution_count": 2,
   "id": "9a154623-c787-4a31-871a-cad173f0eb9f",
   "metadata": {
    "execution": {
     "iopub.execute_input": "2023-09-13T04:11:57.470172Z",
     "iopub.status.busy": "2023-09-13T04:11:57.469714Z",
     "iopub.status.idle": "2023-09-13T04:11:57.472080Z",
     "shell.execute_reply": "2023-09-13T04:11:57.471840Z"
    },
    "papermill": {
     "duration": 0.004987,
     "end_time": "2023-09-13T04:11:57.472515",
     "exception": false,
     "start_time": "2023-09-13T04:11:57.467528",
     "status": "completed"
    },
    "tags": []
   },
   "outputs": [],
   "source": [
    "DATASET_CONFIG = conf.GTEX\n",
    "GTEX_TISSUE = \"whole_blood\"\n",
    "GENE_SEL_STRATEGY = \"var_pc_log2\"\n",
    "N_MAX_SAMPLES_PER_CATEGORY = 10\n",
    "\n",
    "RANDOM_STATE = np.random.RandomState(0)"
   ]
  },
  {
   "cell_type": "markdown",
   "id": "5b09ff83-5377-49a9-b24b-65c6c90277d6",
   "metadata": {
    "papermill": {
     "duration": 0.001732,
     "end_time": "2023-09-13T04:11:57.476132",
     "exception": false,
     "start_time": "2023-09-13T04:11:57.474400",
     "status": "completed"
    },
    "tags": []
   },
   "source": [
    "# Paths"
   ]
  },
  {
   "cell_type": "code",
   "execution_count": 3,
   "id": "c6f73068-fa38-44be-bd0c-708f6ff450ea",
   "metadata": {
    "execution": {
     "iopub.execute_input": "2023-09-13T04:11:57.479972Z",
     "iopub.status.busy": "2023-09-13T04:11:57.479923Z",
     "iopub.status.idle": "2023-09-13T04:11:57.482255Z",
     "shell.execute_reply": "2023-09-13T04:11:57.482122Z"
    },
    "papermill": {
     "duration": 0.004731,
     "end_time": "2023-09-13T04:11:57.482658",
     "exception": false,
     "start_time": "2023-09-13T04:11:57.477927",
     "status": "completed"
    },
    "tags": []
   },
   "outputs": [
    {
     "data": {
      "text/plain": [
       "PosixPath('/opt/data/results/gtex_v8/gene_selection/gtex_v8_data_whole_blood-var_pc_log2.pkl')"
      ]
     },
     "metadata": {},
     "output_type": "display_data"
    }
   ],
   "source": [
    "INPUT_GENE_EXPR_FILE = (\n",
    "    DATASET_CONFIG[\"GENE_SELECTION_DIR\"]\n",
    "    / f\"gtex_v8_data_{GTEX_TISSUE}-{GENE_SEL_STRATEGY}.pkl\"\n",
    ")\n",
    "display(INPUT_GENE_EXPR_FILE)\n",
    "\n",
    "assert INPUT_GENE_EXPR_FILE.exists()"
   ]
  },
  {
   "cell_type": "code",
   "execution_count": 4,
   "id": "30cce6f5-ca1b-438c-859d-31903a42d4c6",
   "metadata": {
    "execution": {
     "iopub.execute_input": "2023-09-13T04:11:57.486694Z",
     "iopub.status.busy": "2023-09-13T04:11:57.486588Z",
     "iopub.status.idle": "2023-09-13T04:11:57.488214Z",
     "shell.execute_reply": "2023-09-13T04:11:57.488092Z"
    },
    "papermill": {
     "duration": 0.004105,
     "end_time": "2023-09-13T04:11:57.488646",
     "exception": false,
     "start_time": "2023-09-13T04:11:57.484541",
     "status": "completed"
    },
    "tags": []
   },
   "outputs": [
    {
     "data": {
      "text/plain": [
       "PosixPath('/opt/data/results/gtex_v8/gene_pair_intersections/gene_pair_intersections-gtex_v8-whole_blood-var_pc_log2.pkl')"
      ]
     },
     "metadata": {},
     "output_type": "display_data"
    }
   ],
   "source": [
    "INPUT_GENE_PAIRS_INTERSECTIONS_FILE = (\n",
    "    DATASET_CONFIG[\"GENE_PAIR_INTERSECTIONS\"]\n",
    "    / f\"gene_pair_intersections-gtex_v8-{GTEX_TISSUE}-{GENE_SEL_STRATEGY}.pkl\"\n",
    ")\n",
    "display(INPUT_GENE_PAIRS_INTERSECTIONS_FILE)\n",
    "\n",
    "assert INPUT_GENE_PAIRS_INTERSECTIONS_FILE.exists()"
   ]
  },
  {
   "cell_type": "code",
   "execution_count": 5,
   "id": "0122253c-99c0-41e2-8807-60df86bf0619",
   "metadata": {
    "execution": {
     "iopub.execute_input": "2023-09-13T04:11:57.492633Z",
     "iopub.status.busy": "2023-09-13T04:11:57.492528Z",
     "iopub.status.idle": "2023-09-13T04:11:57.493846Z",
     "shell.execute_reply": "2023-09-13T04:11:57.493676Z"
    },
    "papermill": {
     "duration": 0.003855,
     "end_time": "2023-09-13T04:11:57.494375",
     "exception": false,
     "start_time": "2023-09-13T04:11:57.490520",
     "status": "completed"
    },
    "tags": []
   },
   "outputs": [],
   "source": [
    "OUTPUT_DIR = DATASET_CONFIG[\"GENE_PAIR_INTERSECTIONS\"] / \"pvalues\"\n",
    "OUTPUT_DIR.mkdir(parents=True, exist_ok=True)"
   ]
  },
  {
   "cell_type": "code",
   "execution_count": 6,
   "id": "3003ed2c-5da0-43b9-969d-9cf037d05730",
   "metadata": {
    "execution": {
     "iopub.execute_input": "2023-09-13T04:11:57.498335Z",
     "iopub.status.busy": "2023-09-13T04:11:57.498233Z",
     "iopub.status.idle": "2023-09-13T04:11:57.499732Z",
     "shell.execute_reply": "2023-09-13T04:11:57.499613Z"
    },
    "papermill": {
     "duration": 0.003913,
     "end_time": "2023-09-13T04:11:57.500142",
     "exception": false,
     "start_time": "2023-09-13T04:11:57.496229",
     "status": "completed"
    },
    "tags": []
   },
   "outputs": [
    {
     "data": {
      "text/plain": [
       "PosixPath('/opt/data/results/gtex_v8/gene_pair_intersections/pvalues')"
      ]
     },
     "execution_count": 6,
     "metadata": {},
     "output_type": "execute_result"
    }
   ],
   "source": [
    "OUTPUT_DIR"
   ]
  },
  {
   "cell_type": "markdown",
   "id": "3d014f0c-d442-48ab-add8-ac338ad15b27",
   "metadata": {
    "papermill": {
     "duration": 0.001829,
     "end_time": "2023-09-13T04:11:57.503897",
     "exception": false,
     "start_time": "2023-09-13T04:11:57.502068",
     "status": "completed"
    },
    "tags": []
   },
   "source": [
    "# Load gene pairs intersection"
   ]
  },
  {
   "cell_type": "code",
   "execution_count": 7,
   "id": "da1d768a-fbfb-40e8-8fbb-790d1a94aa83",
   "metadata": {
    "execution": {
     "iopub.execute_input": "2023-09-13T04:11:57.507890Z",
     "iopub.status.busy": "2023-09-13T04:11:57.507794Z",
     "iopub.status.idle": "2023-09-13T04:11:57.660094Z",
     "shell.execute_reply": "2023-09-13T04:11:57.659817Z"
    },
    "papermill": {
     "duration": 0.155085,
     "end_time": "2023-09-13T04:11:57.660832",
     "exception": false,
     "start_time": "2023-09-13T04:11:57.505747",
     "status": "completed"
    },
    "tags": []
   },
   "outputs": [],
   "source": [
    "df_plot = pd.read_pickle(INPUT_GENE_PAIRS_INTERSECTIONS_FILE)"
   ]
  },
  {
   "cell_type": "code",
   "execution_count": 8,
   "id": "6123d474-0c0d-4771-9678-248ce89424ce",
   "metadata": {
    "execution": {
     "iopub.execute_input": "2023-09-13T04:11:57.665537Z",
     "iopub.status.busy": "2023-09-13T04:11:57.665420Z",
     "iopub.status.idle": "2023-09-13T04:11:57.667336Z",
     "shell.execute_reply": "2023-09-13T04:11:57.667204Z"
    },
    "papermill": {
     "duration": 0.00471,
     "end_time": "2023-09-13T04:11:57.667803",
     "exception": false,
     "start_time": "2023-09-13T04:11:57.663093",
     "status": "completed"
    },
    "tags": []
   },
   "outputs": [
    {
     "data": {
      "text/plain": [
       "(12497500, 9)"
      ]
     },
     "execution_count": 8,
     "metadata": {},
     "output_type": "execute_result"
    }
   ],
   "source": [
    "df_plot.shape"
   ]
  },
  {
   "cell_type": "code",
   "execution_count": 9,
   "id": "b028abd8-c5b1-48c2-aa5e-cb1b49c943a4",
   "metadata": {
    "execution": {
     "iopub.execute_input": "2023-09-13T04:11:57.671844Z",
     "iopub.status.busy": "2023-09-13T04:11:57.671741Z",
     "iopub.status.idle": "2023-09-13T04:11:57.676389Z",
     "shell.execute_reply": "2023-09-13T04:11:57.676265Z"
    },
    "papermill": {
     "duration": 0.007135,
     "end_time": "2023-09-13T04:11:57.676826",
     "exception": false,
     "start_time": "2023-09-13T04:11:57.669691",
     "status": "completed"
    },
    "tags": []
   },
   "outputs": [
    {
     "data": {
      "text/html": [
       "<div>\n",
       "<style scoped>\n",
       "    .dataframe tbody tr th:only-of-type {\n",
       "        vertical-align: middle;\n",
       "    }\n",
       "\n",
       "    .dataframe tbody tr th {\n",
       "        vertical-align: top;\n",
       "    }\n",
       "\n",
       "    .dataframe thead th {\n",
       "        text-align: right;\n",
       "    }\n",
       "</style>\n",
       "<table border=\"1\" class=\"dataframe\">\n",
       "  <thead>\n",
       "    <tr style=\"text-align: right;\">\n",
       "      <th></th>\n",
       "      <th></th>\n",
       "      <th>Pearson (high)</th>\n",
       "      <th>Pearson (low)</th>\n",
       "      <th>Spearman (high)</th>\n",
       "      <th>Spearman (low)</th>\n",
       "      <th>Clustermatch (high)</th>\n",
       "      <th>Clustermatch (low)</th>\n",
       "      <th>ccc</th>\n",
       "      <th>pearson</th>\n",
       "      <th>spearman</th>\n",
       "    </tr>\n",
       "  </thead>\n",
       "  <tbody>\n",
       "    <tr>\n",
       "      <th rowspan=\"5\" valign=\"top\">ENSG00000000419.12</th>\n",
       "      <th>ENSG00000002834.17</th>\n",
       "      <td>True</td>\n",
       "      <td>False</td>\n",
       "      <td>True</td>\n",
       "      <td>False</td>\n",
       "      <td>True</td>\n",
       "      <td>False</td>\n",
       "      <td>0.418721</td>\n",
       "      <td>0.681847</td>\n",
       "      <td>0.786595</td>\n",
       "    </tr>\n",
       "    <tr>\n",
       "      <th>ENSG00000002919.14</th>\n",
       "      <td>True</td>\n",
       "      <td>False</td>\n",
       "      <td>True</td>\n",
       "      <td>False</td>\n",
       "      <td>True</td>\n",
       "      <td>False</td>\n",
       "      <td>0.405090</td>\n",
       "      <td>0.734699</td>\n",
       "      <td>0.816991</td>\n",
       "    </tr>\n",
       "    <tr>\n",
       "      <th>ENSG00000002933.7</th>\n",
       "      <td>False</td>\n",
       "      <td>True</td>\n",
       "      <td>False</td>\n",
       "      <td>True</td>\n",
       "      <td>False</td>\n",
       "      <td>True</td>\n",
       "      <td>0.007466</td>\n",
       "      <td>0.013825</td>\n",
       "      <td>0.004128</td>\n",
       "    </tr>\n",
       "    <tr>\n",
       "      <th>ENSG00000003402.19</th>\n",
       "      <td>True</td>\n",
       "      <td>False</td>\n",
       "      <td>True</td>\n",
       "      <td>False</td>\n",
       "      <td>True</td>\n",
       "      <td>False</td>\n",
       "      <td>0.391683</td>\n",
       "      <td>0.727347</td>\n",
       "      <td>0.803653</td>\n",
       "    </tr>\n",
       "    <tr>\n",
       "      <th>ENSG00000004478.7</th>\n",
       "      <td>False</td>\n",
       "      <td>True</td>\n",
       "      <td>False</td>\n",
       "      <td>False</td>\n",
       "      <td>False</td>\n",
       "      <td>False</td>\n",
       "      <td>0.099013</td>\n",
       "      <td>0.094147</td>\n",
       "      <td>0.231269</td>\n",
       "    </tr>\n",
       "  </tbody>\n",
       "</table>\n",
       "</div>"
      ],
      "text/plain": [
       "                                       Pearson (high)  Pearson (low)  \\\n",
       "ENSG00000000419.12 ENSG00000002834.17            True          False   \n",
       "                   ENSG00000002919.14            True          False   \n",
       "                   ENSG00000002933.7            False           True   \n",
       "                   ENSG00000003402.19            True          False   \n",
       "                   ENSG00000004478.7            False           True   \n",
       "\n",
       "                                       Spearman (high)  Spearman (low)  \\\n",
       "ENSG00000000419.12 ENSG00000002834.17             True           False   \n",
       "                   ENSG00000002919.14             True           False   \n",
       "                   ENSG00000002933.7             False            True   \n",
       "                   ENSG00000003402.19             True           False   \n",
       "                   ENSG00000004478.7             False           False   \n",
       "\n",
       "                                       Clustermatch (high)  \\\n",
       "ENSG00000000419.12 ENSG00000002834.17                 True   \n",
       "                   ENSG00000002919.14                 True   \n",
       "                   ENSG00000002933.7                 False   \n",
       "                   ENSG00000003402.19                 True   \n",
       "                   ENSG00000004478.7                 False   \n",
       "\n",
       "                                       Clustermatch (low)       ccc   pearson  \\\n",
       "ENSG00000000419.12 ENSG00000002834.17               False  0.418721  0.681847   \n",
       "                   ENSG00000002919.14               False  0.405090  0.734699   \n",
       "                   ENSG00000002933.7                 True  0.007466  0.013825   \n",
       "                   ENSG00000003402.19               False  0.391683  0.727347   \n",
       "                   ENSG00000004478.7                False  0.099013  0.094147   \n",
       "\n",
       "                                       spearman  \n",
       "ENSG00000000419.12 ENSG00000002834.17  0.786595  \n",
       "                   ENSG00000002919.14  0.816991  \n",
       "                   ENSG00000002933.7   0.004128  \n",
       "                   ENSG00000003402.19  0.803653  \n",
       "                   ENSG00000004478.7   0.231269  "
      ]
     },
     "execution_count": 9,
     "metadata": {},
     "output_type": "execute_result"
    }
   ],
   "source": [
    "df_plot.head()"
   ]
  },
  {
   "cell_type": "code",
   "execution_count": 10,
   "id": "3aced73f-7ece-4451-a0e7-f74b106fe3d7",
   "metadata": {
    "execution": {
     "iopub.execute_input": "2023-09-13T04:11:57.681165Z",
     "iopub.status.busy": "2023-09-13T04:11:57.681049Z",
     "iopub.status.idle": "2023-09-13T04:11:57.708430Z",
     "shell.execute_reply": "2023-09-13T04:11:57.708277Z"
    },
    "papermill": {
     "duration": 0.030134,
     "end_time": "2023-09-13T04:11:57.708943",
     "exception": false,
     "start_time": "2023-09-13T04:11:57.678809",
     "status": "completed"
    },
    "tags": []
   },
   "outputs": [
    {
     "data": {
      "text/html": [
       "<div>\n",
       "<style scoped>\n",
       "    .dataframe tbody tr th:only-of-type {\n",
       "        vertical-align: middle;\n",
       "    }\n",
       "\n",
       "    .dataframe tbody tr th {\n",
       "        vertical-align: top;\n",
       "    }\n",
       "\n",
       "    .dataframe thead th {\n",
       "        text-align: right;\n",
       "    }\n",
       "</style>\n",
       "<table border=\"1\" class=\"dataframe\">\n",
       "  <thead>\n",
       "    <tr style=\"text-align: right;\">\n",
       "      <th></th>\n",
       "      <th></th>\n",
       "      <th>Pearson (high)</th>\n",
       "      <th>Pearson (low)</th>\n",
       "      <th>Spearman (high)</th>\n",
       "      <th>Spearman (low)</th>\n",
       "      <th>Clustermatch (high)</th>\n",
       "      <th>Clustermatch (low)</th>\n",
       "      <th>ccc</th>\n",
       "      <th>pearson</th>\n",
       "      <th>spearman</th>\n",
       "    </tr>\n",
       "  </thead>\n",
       "  <tbody>\n",
       "    <tr>\n",
       "      <th>ENSG00000003402.19</th>\n",
       "      <th>ENSG00000133800.8</th>\n",
       "      <td>False</td>\n",
       "      <td>True</td>\n",
       "      <td>True</td>\n",
       "      <td>False</td>\n",
       "      <td>False</td>\n",
       "      <td>False</td>\n",
       "      <td>0.157825</td>\n",
       "      <td>0.048650</td>\n",
       "      <td>0.570855</td>\n",
       "    </tr>\n",
       "    <tr>\n",
       "      <th>ENSG00000003756.16</th>\n",
       "      <th>ENSG00000163739.4</th>\n",
       "      <td>False</td>\n",
       "      <td>True</td>\n",
       "      <td>True</td>\n",
       "      <td>False</td>\n",
       "      <td>False</td>\n",
       "      <td>False</td>\n",
       "      <td>0.164233</td>\n",
       "      <td>0.040470</td>\n",
       "      <td>0.565410</td>\n",
       "    </tr>\n",
       "    <tr>\n",
       "      <th>ENSG00000004776.12</th>\n",
       "      <th>ENSG00000196616.13</th>\n",
       "      <td>False</td>\n",
       "      <td>True</td>\n",
       "      <td>True</td>\n",
       "      <td>False</td>\n",
       "      <td>False</td>\n",
       "      <td>False</td>\n",
       "      <td>0.159947</td>\n",
       "      <td>0.097615</td>\n",
       "      <td>0.568500</td>\n",
       "    </tr>\n",
       "    <tr>\n",
       "      <th>ENSG00000008083.13</th>\n",
       "      <th>ENSG00000163739.4</th>\n",
       "      <td>False</td>\n",
       "      <td>True</td>\n",
       "      <td>True</td>\n",
       "      <td>False</td>\n",
       "      <td>False</td>\n",
       "      <td>False</td>\n",
       "      <td>0.159947</td>\n",
       "      <td>0.069861</td>\n",
       "      <td>0.571621</td>\n",
       "    </tr>\n",
       "    <tr>\n",
       "      <th>ENSG00000008988.9</th>\n",
       "      <th>ENSG00000229769.2</th>\n",
       "      <td>False</td>\n",
       "      <td>True</td>\n",
       "      <td>True</td>\n",
       "      <td>False</td>\n",
       "      <td>False</td>\n",
       "      <td>False</td>\n",
       "      <td>0.151281</td>\n",
       "      <td>0.091727</td>\n",
       "      <td>0.568723</td>\n",
       "    </tr>\n",
       "    <tr>\n",
       "      <th>...</th>\n",
       "      <th>...</th>\n",
       "      <td>...</td>\n",
       "      <td>...</td>\n",
       "      <td>...</td>\n",
       "      <td>...</td>\n",
       "      <td>...</td>\n",
       "      <td>...</td>\n",
       "      <td>...</td>\n",
       "      <td>...</td>\n",
       "      <td>...</td>\n",
       "    </tr>\n",
       "    <tr>\n",
       "      <th>ENSG00000278274.1</th>\n",
       "      <th>ENSG00000169136.10</th>\n",
       "      <td>False</td>\n",
       "      <td>True</td>\n",
       "      <td>True</td>\n",
       "      <td>False</td>\n",
       "      <td>False</td>\n",
       "      <td>False</td>\n",
       "      <td>0.172974</td>\n",
       "      <td>0.076674</td>\n",
       "      <td>0.569907</td>\n",
       "    </tr>\n",
       "    <tr>\n",
       "      <th>ENSG00000279520.1</th>\n",
       "      <th>ENSG00000163739.4</th>\n",
       "      <td>False</td>\n",
       "      <td>True</td>\n",
       "      <td>True</td>\n",
       "      <td>False</td>\n",
       "      <td>False</td>\n",
       "      <td>False</td>\n",
       "      <td>0.168576</td>\n",
       "      <td>0.061147</td>\n",
       "      <td>0.584956</td>\n",
       "    </tr>\n",
       "    <tr>\n",
       "      <th>ENSG00000281358.1</th>\n",
       "      <th>ENSG00000139194.7</th>\n",
       "      <td>False</td>\n",
       "      <td>True</td>\n",
       "      <td>True</td>\n",
       "      <td>False</td>\n",
       "      <td>False</td>\n",
       "      <td>False</td>\n",
       "      <td>0.177429</td>\n",
       "      <td>0.100793</td>\n",
       "      <td>0.615723</td>\n",
       "    </tr>\n",
       "    <tr>\n",
       "      <th>ENSG00000281649.1</th>\n",
       "      <th>ENSG00000163739.4</th>\n",
       "      <td>False</td>\n",
       "      <td>True</td>\n",
       "      <td>True</td>\n",
       "      <td>False</td>\n",
       "      <td>False</td>\n",
       "      <td>False</td>\n",
       "      <td>0.177429</td>\n",
       "      <td>0.080855</td>\n",
       "      <td>0.574391</td>\n",
       "    </tr>\n",
       "    <tr>\n",
       "      <th>ENSG00000282639.1</th>\n",
       "      <th>ENSG00000211663.2</th>\n",
       "      <td>False</td>\n",
       "      <td>True</td>\n",
       "      <td>True</td>\n",
       "      <td>False</td>\n",
       "      <td>False</td>\n",
       "      <td>False</td>\n",
       "      <td>0.133457</td>\n",
       "      <td>0.116801</td>\n",
       "      <td>0.574407</td>\n",
       "    </tr>\n",
       "  </tbody>\n",
       "</table>\n",
       "<p>527 rows × 9 columns</p>\n",
       "</div>"
      ],
      "text/plain": [
       "                                       Pearson (high)  Pearson (low)  \\\n",
       "ENSG00000003402.19 ENSG00000133800.8            False           True   \n",
       "ENSG00000003756.16 ENSG00000163739.4            False           True   \n",
       "ENSG00000004776.12 ENSG00000196616.13           False           True   \n",
       "ENSG00000008083.13 ENSG00000163739.4            False           True   \n",
       "ENSG00000008988.9  ENSG00000229769.2            False           True   \n",
       "...                                               ...            ...   \n",
       "ENSG00000278274.1  ENSG00000169136.10           False           True   \n",
       "ENSG00000279520.1  ENSG00000163739.4            False           True   \n",
       "ENSG00000281358.1  ENSG00000139194.7            False           True   \n",
       "ENSG00000281649.1  ENSG00000163739.4            False           True   \n",
       "ENSG00000282639.1  ENSG00000211663.2            False           True   \n",
       "\n",
       "                                       Spearman (high)  Spearman (low)  \\\n",
       "ENSG00000003402.19 ENSG00000133800.8              True           False   \n",
       "ENSG00000003756.16 ENSG00000163739.4              True           False   \n",
       "ENSG00000004776.12 ENSG00000196616.13             True           False   \n",
       "ENSG00000008083.13 ENSG00000163739.4              True           False   \n",
       "ENSG00000008988.9  ENSG00000229769.2              True           False   \n",
       "...                                                ...             ...   \n",
       "ENSG00000278274.1  ENSG00000169136.10             True           False   \n",
       "ENSG00000279520.1  ENSG00000163739.4              True           False   \n",
       "ENSG00000281358.1  ENSG00000139194.7              True           False   \n",
       "ENSG00000281649.1  ENSG00000163739.4              True           False   \n",
       "ENSG00000282639.1  ENSG00000211663.2              True           False   \n",
       "\n",
       "                                       Clustermatch (high)  \\\n",
       "ENSG00000003402.19 ENSG00000133800.8                 False   \n",
       "ENSG00000003756.16 ENSG00000163739.4                 False   \n",
       "ENSG00000004776.12 ENSG00000196616.13                False   \n",
       "ENSG00000008083.13 ENSG00000163739.4                 False   \n",
       "ENSG00000008988.9  ENSG00000229769.2                 False   \n",
       "...                                                    ...   \n",
       "ENSG00000278274.1  ENSG00000169136.10                False   \n",
       "ENSG00000279520.1  ENSG00000163739.4                 False   \n",
       "ENSG00000281358.1  ENSG00000139194.7                 False   \n",
       "ENSG00000281649.1  ENSG00000163739.4                 False   \n",
       "ENSG00000282639.1  ENSG00000211663.2                 False   \n",
       "\n",
       "                                       Clustermatch (low)       ccc   pearson  \\\n",
       "ENSG00000003402.19 ENSG00000133800.8                False  0.157825  0.048650   \n",
       "ENSG00000003756.16 ENSG00000163739.4                False  0.164233  0.040470   \n",
       "ENSG00000004776.12 ENSG00000196616.13               False  0.159947  0.097615   \n",
       "ENSG00000008083.13 ENSG00000163739.4                False  0.159947  0.069861   \n",
       "ENSG00000008988.9  ENSG00000229769.2                False  0.151281  0.091727   \n",
       "...                                                   ...       ...       ...   \n",
       "ENSG00000278274.1  ENSG00000169136.10               False  0.172974  0.076674   \n",
       "ENSG00000279520.1  ENSG00000163739.4                False  0.168576  0.061147   \n",
       "ENSG00000281358.1  ENSG00000139194.7                False  0.177429  0.100793   \n",
       "ENSG00000281649.1  ENSG00000163739.4                False  0.177429  0.080855   \n",
       "ENSG00000282639.1  ENSG00000211663.2                False  0.133457  0.116801   \n",
       "\n",
       "                                       spearman  \n",
       "ENSG00000003402.19 ENSG00000133800.8   0.570855  \n",
       "ENSG00000003756.16 ENSG00000163739.4   0.565410  \n",
       "ENSG00000004776.12 ENSG00000196616.13  0.568500  \n",
       "ENSG00000008083.13 ENSG00000163739.4   0.571621  \n",
       "ENSG00000008988.9  ENSG00000229769.2   0.568723  \n",
       "...                                         ...  \n",
       "ENSG00000278274.1  ENSG00000169136.10  0.569907  \n",
       "ENSG00000279520.1  ENSG00000163739.4   0.584956  \n",
       "ENSG00000281358.1  ENSG00000139194.7   0.615723  \n",
       "ENSG00000281649.1  ENSG00000163739.4   0.574391  \n",
       "ENSG00000282639.1  ENSG00000211663.2   0.574407  \n",
       "\n",
       "[527 rows x 9 columns]"
      ]
     },
     "execution_count": 10,
     "metadata": {},
     "output_type": "execute_result"
    }
   ],
   "source": [
    "df_plot[\n",
    "    df_plot[\"Spearman (high)\"]\n",
    "    & df_plot[\"Pearson (low)\"]\n",
    "    & (~df_plot[\"Clustermatch (high)\"])\n",
    "    & (~df_plot[\"Clustermatch (low)\"])\n",
    "]"
   ]
  },
  {
   "cell_type": "markdown",
   "id": "6ee33b44-ef8c-405e-9ab4-be1679b75619",
   "metadata": {
    "papermill": {
     "duration": 0.003639,
     "end_time": "2023-09-13T04:11:57.716005",
     "exception": false,
     "start_time": "2023-09-13T04:11:57.712366",
     "status": "completed"
    },
    "tags": []
   },
   "source": [
    "# Select gene pairs from each category in Figure 3b"
   ]
  },
  {
   "cell_type": "code",
   "execution_count": 11,
   "id": "6bac2e17-743d-49b5-9ae5-b168879b2dbc",
   "metadata": {
    "execution": {
     "iopub.execute_input": "2023-09-13T04:11:57.721514Z",
     "iopub.status.busy": "2023-09-13T04:11:57.721417Z",
     "iopub.status.idle": "2023-09-13T04:11:57.723074Z",
     "shell.execute_reply": "2023-09-13T04:11:57.722906Z"
    },
    "papermill": {
     "duration": 0.004562,
     "end_time": "2023-09-13T04:11:57.723568",
     "exception": false,
     "start_time": "2023-09-13T04:11:57.719006",
     "status": "completed"
    },
    "tags": []
   },
   "outputs": [],
   "source": [
    "gene_pair_cats = {}"
   ]
  },
  {
   "cell_type": "code",
   "execution_count": 12,
   "id": "bba6b621-09fa-4abc-90ba-789a2a9491dc",
   "metadata": {
    "execution": {
     "iopub.execute_input": "2023-09-13T04:11:57.729338Z",
     "iopub.status.busy": "2023-09-13T04:11:57.729156Z",
     "iopub.status.idle": "2023-09-13T04:11:57.819392Z",
     "shell.execute_reply": "2023-09-13T04:11:57.819131Z"
    },
    "papermill": {
     "duration": 0.093985,
     "end_time": "2023-09-13T04:11:57.819965",
     "exception": false,
     "start_time": "2023-09-13T04:11:57.725980",
     "status": "completed"
    },
    "tags": []
   },
   "outputs": [
    {
     "data": {
      "text/plain": [
       "(3120576, 9)"
      ]
     },
     "metadata": {},
     "output_type": "display_data"
    }
   ],
   "source": [
    "gene_pair_cats[\"all_high\"] = df_plot[\n",
    "    df_plot[\"Clustermatch (high)\"]\n",
    "    & df_plot[\"Spearman (high)\"]\n",
    "    & df_plot[\"Pearson (high)\"]\n",
    "]\n",
    "display(gene_pair_cats[\"all_high\"].shape)"
   ]
  },
  {
   "cell_type": "code",
   "execution_count": 13,
   "id": "22290518-845b-4cb5-8294-6275e58941d4",
   "metadata": {
    "execution": {
     "iopub.execute_input": "2023-09-13T04:11:57.825052Z",
     "iopub.status.busy": "2023-09-13T04:11:57.824959Z",
     "iopub.status.idle": "2023-09-13T04:11:57.896897Z",
     "shell.execute_reply": "2023-09-13T04:11:57.896637Z"
    },
    "papermill": {
     "duration": 0.075191,
     "end_time": "2023-09-13T04:11:57.897429",
     "exception": false,
     "start_time": "2023-09-13T04:11:57.822238",
     "status": "completed"
    },
    "tags": []
   },
   "outputs": [
    {
     "data": {
      "text/plain": [
       "(2545332, 9)"
      ]
     },
     "metadata": {},
     "output_type": "display_data"
    }
   ],
   "source": [
    "gene_pair_cats[\"all_low\"] = df_plot[\n",
    "    df_plot[\"Clustermatch (low)\"] & df_plot[\"Spearman (low)\"] & df_plot[\"Pearson (low)\"]\n",
    "]\n",
    "display(gene_pair_cats[\"all_low\"].shape)"
   ]
  },
  {
   "cell_type": "code",
   "execution_count": 14,
   "id": "edf88fd5-11ea-493a-9c94-fe40df8bb475",
   "metadata": {
    "execution": {
     "iopub.execute_input": "2023-09-13T04:11:57.902346Z",
     "iopub.status.busy": "2023-09-13T04:11:57.902291Z",
     "iopub.status.idle": "2023-09-13T04:11:57.916609Z",
     "shell.execute_reply": "2023-09-13T04:11:57.916347Z"
    },
    "papermill": {
     "duration": 0.017315,
     "end_time": "2023-09-13T04:11:57.917118",
     "exception": false,
     "start_time": "2023-09-13T04:11:57.899803",
     "status": "completed"
    },
    "tags": []
   },
   "outputs": [
    {
     "data": {
      "text/plain": [
       "(9748, 9)"
      ]
     },
     "metadata": {},
     "output_type": "display_data"
    }
   ],
   "source": [
    "gene_pair_cats[\"ccc_spearman_high_and_pearson_low\"] = df_plot[\n",
    "    df_plot[\"Clustermatch (high)\"]\n",
    "    & df_plot[\"Spearman (high)\"]\n",
    "    & df_plot[\"Pearson (low)\"]\n",
    "]\n",
    "display(gene_pair_cats[\"ccc_spearman_high_and_pearson_low\"].shape)"
   ]
  },
  {
   "cell_type": "code",
   "execution_count": 15,
   "id": "42b391d0-2ba4-408c-b944-2ca0fdb67ca9",
   "metadata": {
    "execution": {
     "iopub.execute_input": "2023-09-13T04:11:57.922275Z",
     "iopub.status.busy": "2023-09-13T04:11:57.922216Z",
     "iopub.status.idle": "2023-09-13T04:11:57.942410Z",
     "shell.execute_reply": "2023-09-13T04:11:57.942223Z"
    },
    "papermill": {
     "duration": 0.023308,
     "end_time": "2023-09-13T04:11:57.942928",
     "exception": false,
     "start_time": "2023-09-13T04:11:57.919620",
     "status": "completed"
    },
    "tags": []
   },
   "outputs": [
    {
     "data": {
      "text/plain": [
       "(20951, 9)"
      ]
     },
     "metadata": {},
     "output_type": "display_data"
    }
   ],
   "source": [
    "gene_pair_cats[\"ccc_high_and_pearson_low\"] = df_plot[\n",
    "    df_plot[\"Clustermatch (high)\"]\n",
    "    & (~df_plot[\"Spearman (high)\"])\n",
    "    & (~df_plot[\"Spearman (low)\"])\n",
    "    & df_plot[\"Pearson (low)\"]\n",
    "]\n",
    "display(gene_pair_cats[\"ccc_high_and_pearson_low\"].shape)"
   ]
  },
  {
   "cell_type": "code",
   "execution_count": 16,
   "id": "433d5ab5-8f07-4c94-8ba4-87e196e29446",
   "metadata": {
    "execution": {
     "iopub.execute_input": "2023-09-13T04:11:57.948015Z",
     "iopub.status.busy": "2023-09-13T04:11:57.947956Z",
     "iopub.status.idle": "2023-09-13T04:11:57.964341Z",
     "shell.execute_reply": "2023-09-13T04:11:57.964182Z"
    },
    "papermill": {
     "duration": 0.019484,
     "end_time": "2023-09-13T04:11:57.964863",
     "exception": false,
     "start_time": "2023-09-13T04:11:57.945379",
     "status": "completed"
    },
    "tags": []
   },
   "outputs": [
    {
     "data": {
      "text/plain": [
       "(28, 9)"
      ]
     },
     "metadata": {},
     "output_type": "display_data"
    }
   ],
   "source": [
    "gene_pair_cats[\"ccc_high_and_spearman_low\"] = df_plot[\n",
    "    df_plot[\"Clustermatch (high)\"]\n",
    "    & df_plot[\"Spearman (low)\"]\n",
    "    & (~df_plot[\"Pearson (low)\"])\n",
    "    & (~df_plot[\"Pearson (high)\"])\n",
    "]\n",
    "display(gene_pair_cats[\"ccc_high_and_spearman_low\"].shape)"
   ]
  },
  {
   "cell_type": "code",
   "execution_count": 17,
   "id": "dd31ba44-c026-48ef-b7fe-ece7299e5e50",
   "metadata": {
    "execution": {
     "iopub.execute_input": "2023-09-13T04:11:57.969990Z",
     "iopub.status.busy": "2023-09-13T04:11:57.969903Z",
     "iopub.status.idle": "2023-09-13T04:11:57.982772Z",
     "shell.execute_reply": "2023-09-13T04:11:57.982628Z"
    },
    "papermill": {
     "duration": 0.015959,
     "end_time": "2023-09-13T04:11:57.983283",
     "exception": false,
     "start_time": "2023-09-13T04:11:57.967324",
     "status": "completed"
    },
    "tags": []
   },
   "outputs": [
    {
     "data": {
      "text/plain": [
       "(8, 9)"
      ]
     },
     "metadata": {},
     "output_type": "display_data"
    }
   ],
   "source": [
    "gene_pair_cats[\"ccc_high_and_spearman_pearson_low\"] = df_plot[\n",
    "    df_plot[\"Clustermatch (high)\"]\n",
    "    & df_plot[\"Spearman (low)\"]\n",
    "    & df_plot[\"Pearson (low)\"]\n",
    "]\n",
    "display(gene_pair_cats[\"ccc_high_and_spearman_pearson_low\"].shape)"
   ]
  },
  {
   "cell_type": "code",
   "execution_count": 18,
   "id": "45166ee1-98a2-44db-bfa4-1a414a081300",
   "metadata": {
    "execution": {
     "iopub.execute_input": "2023-09-13T04:11:57.988547Z",
     "iopub.status.busy": "2023-09-13T04:11:57.988400Z",
     "iopub.status.idle": "2023-09-13T04:11:58.007039Z",
     "shell.execute_reply": "2023-09-13T04:11:58.006891Z"
    },
    "papermill": {
     "duration": 0.021688,
     "end_time": "2023-09-13T04:11:58.007512",
     "exception": false,
     "start_time": "2023-09-13T04:11:57.985824",
     "status": "completed"
    },
    "tags": []
   },
   "outputs": [
    {
     "data": {
      "text/plain": [
       "(1075, 9)"
      ]
     },
     "metadata": {},
     "output_type": "display_data"
    }
   ],
   "source": [
    "gene_pair_cats[\"pearson_high_and_ccc_low\"] = df_plot[\n",
    "    df_plot[\"Clustermatch (low)\"]\n",
    "    & (~df_plot[\"Spearman (low)\"])\n",
    "    & (~df_plot[\"Spearman (high)\"])\n",
    "    & df_plot[\"Pearson (high)\"]\n",
    "]\n",
    "display(gene_pair_cats[\"pearson_high_and_ccc_low\"].shape)"
   ]
  },
  {
   "cell_type": "code",
   "execution_count": 19,
   "id": "d21c075a-d8c8-4e9f-aa2b-c6d2cf22e0ad",
   "metadata": {
    "execution": {
     "iopub.execute_input": "2023-09-13T04:11:58.012710Z",
     "iopub.status.busy": "2023-09-13T04:11:58.012626Z",
     "iopub.status.idle": "2023-09-13T04:11:58.025395Z",
     "shell.execute_reply": "2023-09-13T04:11:58.025251Z"
    },
    "papermill": {
     "duration": 0.015917,
     "end_time": "2023-09-13T04:11:58.025928",
     "exception": false,
     "start_time": "2023-09-13T04:11:58.010011",
     "status": "completed"
    },
    "tags": []
   },
   "outputs": [
    {
     "data": {
      "text/plain": [
       "(531, 9)"
      ]
     },
     "metadata": {},
     "output_type": "display_data"
    }
   ],
   "source": [
    "gene_pair_cats[\"pearson_high_and_ccc_spearman_low\"] = df_plot[\n",
    "    df_plot[\"Clustermatch (low)\"]\n",
    "    & df_plot[\"Spearman (low)\"]\n",
    "    & df_plot[\"Pearson (high)\"]\n",
    "]\n",
    "display(gene_pair_cats[\"pearson_high_and_ccc_spearman_low\"].shape)"
   ]
  },
  {
   "cell_type": "code",
   "execution_count": 20,
   "id": "a001c630-1ba1-4001-8abb-643556e07502",
   "metadata": {
    "execution": {
     "iopub.execute_input": "2023-09-13T04:11:58.044317Z",
     "iopub.status.busy": "2023-09-13T04:11:58.044181Z",
     "iopub.status.idle": "2023-09-13T04:11:58.045754Z",
     "shell.execute_reply": "2023-09-13T04:11:58.045612Z"
    },
    "papermill": {
     "duration": 0.004766,
     "end_time": "2023-09-13T04:11:58.046182",
     "exception": false,
     "start_time": "2023-09-13T04:11:58.041416",
     "status": "completed"
    },
    "tags": []
   },
   "outputs": [],
   "source": [
    "assert len(gene_pair_cats) == 8"
   ]
  },
  {
   "cell_type": "markdown",
   "id": "fcde3368-e994-4cae-b905-9b6ebccb58a4",
   "metadata": {
    "papermill": {
     "duration": 0.002219,
     "end_time": "2023-09-13T04:11:58.050778",
     "exception": false,
     "start_time": "2023-09-13T04:11:58.048559",
     "status": "completed"
    },
    "tags": []
   },
   "source": [
    "# Sample gene pairs"
   ]
  },
  {
   "cell_type": "markdown",
   "id": "83884d11-7729-4ade-baf3-f98f956244af",
   "metadata": {
    "papermill": {
     "duration": 0.002157,
     "end_time": "2023-09-13T04:11:58.055168",
     "exception": false,
     "start_time": "2023-09-13T04:11:58.053011",
     "status": "completed"
    },
    "tags": []
   },
   "source": [
    "Here I take all the categories defined above (keys in dictionaries) and I create three subcategories for each, where I take the top genes prioritized by the three coefficients."
   ]
  },
  {
   "cell_type": "code",
   "execution_count": 21,
   "id": "4bba8586-0ffb-48ee-9261-ff96551d43f0",
   "metadata": {
    "execution": {
     "iopub.execute_input": "2023-09-13T04:11:58.059939Z",
     "iopub.status.busy": "2023-09-13T04:11:58.059870Z",
     "iopub.status.idle": "2023-09-13T04:11:59.677594Z",
     "shell.execute_reply": "2023-09-13T04:11:59.677451Z"
    },
    "papermill": {
     "duration": 1.620629,
     "end_time": "2023-09-13T04:11:59.678013",
     "exception": false,
     "start_time": "2023-09-13T04:11:58.057384",
     "status": "completed"
    },
    "tags": []
   },
   "outputs": [
    {
     "data": {
      "text/plain": [
       "'all_high-top_ccc: (10, 9)'"
      ]
     },
     "metadata": {},
     "output_type": "display_data"
    },
    {
     "data": {
      "text/plain": [
       "'all_high-top_pearson: (10, 9)'"
      ]
     },
     "metadata": {},
     "output_type": "display_data"
    },
    {
     "data": {
      "text/plain": [
       "'all_high-top_spearman: (10, 9)'"
      ]
     },
     "metadata": {},
     "output_type": "display_data"
    },
    {
     "data": {
      "text/plain": [
       "'all_low-top_ccc: (10, 9)'"
      ]
     },
     "metadata": {},
     "output_type": "display_data"
    },
    {
     "data": {
      "text/plain": [
       "'all_low-top_pearson: (10, 9)'"
      ]
     },
     "metadata": {},
     "output_type": "display_data"
    },
    {
     "data": {
      "text/plain": [
       "'all_low-top_spearman: (10, 9)'"
      ]
     },
     "metadata": {},
     "output_type": "display_data"
    },
    {
     "data": {
      "text/plain": [
       "'ccc_spearman_high_and_pearson_low-top_ccc: (10, 9)'"
      ]
     },
     "metadata": {},
     "output_type": "display_data"
    },
    {
     "data": {
      "text/plain": [
       "'ccc_spearman_high_and_pearson_low-top_pearson: (10, 9)'"
      ]
     },
     "metadata": {},
     "output_type": "display_data"
    },
    {
     "data": {
      "text/plain": [
       "'ccc_spearman_high_and_pearson_low-top_spearman: (10, 9)'"
      ]
     },
     "metadata": {},
     "output_type": "display_data"
    },
    {
     "data": {
      "text/plain": [
       "'ccc_high_and_pearson_low-top_ccc: (10, 9)'"
      ]
     },
     "metadata": {},
     "output_type": "display_data"
    },
    {
     "data": {
      "text/plain": [
       "'ccc_high_and_pearson_low-top_pearson: (10, 9)'"
      ]
     },
     "metadata": {},
     "output_type": "display_data"
    },
    {
     "data": {
      "text/plain": [
       "'ccc_high_and_pearson_low-top_spearman: (10, 9)'"
      ]
     },
     "metadata": {},
     "output_type": "display_data"
    },
    {
     "data": {
      "text/plain": [
       "'ccc_high_and_spearman_low-top_ccc: (10, 9)'"
      ]
     },
     "metadata": {},
     "output_type": "display_data"
    },
    {
     "data": {
      "text/plain": [
       "'ccc_high_and_spearman_low-top_pearson: (10, 9)'"
      ]
     },
     "metadata": {},
     "output_type": "display_data"
    },
    {
     "data": {
      "text/plain": [
       "'ccc_high_and_spearman_low-top_spearman: (10, 9)'"
      ]
     },
     "metadata": {},
     "output_type": "display_data"
    },
    {
     "data": {
      "text/plain": [
       "'ccc_high_and_spearman_pearson_low-top_ccc: (8, 9)'"
      ]
     },
     "metadata": {},
     "output_type": "display_data"
    },
    {
     "data": {
      "text/plain": [
       "'ccc_high_and_spearman_pearson_low-top_pearson: (8, 9)'"
      ]
     },
     "metadata": {},
     "output_type": "display_data"
    },
    {
     "data": {
      "text/plain": [
       "'ccc_high_and_spearman_pearson_low-top_spearman: (8, 9)'"
      ]
     },
     "metadata": {},
     "output_type": "display_data"
    },
    {
     "data": {
      "text/plain": [
       "'pearson_high_and_ccc_low-top_ccc: (10, 9)'"
      ]
     },
     "metadata": {},
     "output_type": "display_data"
    },
    {
     "data": {
      "text/plain": [
       "'pearson_high_and_ccc_low-top_pearson: (10, 9)'"
      ]
     },
     "metadata": {},
     "output_type": "display_data"
    },
    {
     "data": {
      "text/plain": [
       "'pearson_high_and_ccc_low-top_spearman: (10, 9)'"
      ]
     },
     "metadata": {},
     "output_type": "display_data"
    },
    {
     "data": {
      "text/plain": [
       "'pearson_high_and_ccc_spearman_low-top_ccc: (10, 9)'"
      ]
     },
     "metadata": {},
     "output_type": "display_data"
    },
    {
     "data": {
      "text/plain": [
       "'pearson_high_and_ccc_spearman_low-top_pearson: (10, 9)'"
      ]
     },
     "metadata": {},
     "output_type": "display_data"
    },
    {
     "data": {
      "text/plain": [
       "'pearson_high_and_ccc_spearman_low-top_spearman: (10, 9)'"
      ]
     },
     "metadata": {},
     "output_type": "display_data"
    }
   ],
   "source": [
    "gene_pair_samples = {}\n",
    "\n",
    "for k, v in gene_pair_cats.items():\n",
    "    # sample at most 100 gene pairs\n",
    "    df = gene_pair_cats[k]\n",
    "\n",
    "    n = min(N_MAX_SAMPLES_PER_CATEGORY, df.shape[0])\n",
    "\n",
    "    for coef in (\"ccc\", \"pearson\", \"spearman\"):\n",
    "        df_coef = df.sort_values(coef, ascending=False)\n",
    "        sample_n = df_coef.head(n)\n",
    "\n",
    "        new_k = f\"{k}-top_{coef}\"\n",
    "        gene_pair_samples[new_k] = sample_n\n",
    "\n",
    "        display(f\"{new_k}: {gene_pair_samples[new_k].shape}\")"
   ]
  },
  {
   "cell_type": "markdown",
   "id": "93bc3462-2328-432c-a25a-e17cfa36a3cc",
   "metadata": {
    "papermill": {
     "duration": 0.002832,
     "end_time": "2023-09-13T04:11:59.683820",
     "exception": false,
     "start_time": "2023-09-13T04:11:59.680988",
     "status": "completed"
    },
    "tags": []
   },
   "source": [
    "# Include gene pairs mentioned in the paper"
   ]
  },
  {
   "cell_type": "code",
   "execution_count": 22,
   "id": "c4410546-9a92-42d0-81f0-d601ef8fa745",
   "metadata": {
    "execution": {
     "iopub.execute_input": "2023-09-13T04:11:59.689722Z",
     "iopub.status.busy": "2023-09-13T04:11:59.689639Z",
     "iopub.status.idle": "2023-09-13T04:11:59.691284Z",
     "shell.execute_reply": "2023-09-13T04:11:59.691140Z"
    },
    "papermill": {
     "duration": 0.005025,
     "end_time": "2023-09-13T04:11:59.691664",
     "exception": false,
     "start_time": "2023-09-13T04:11:59.686639",
     "status": "completed"
    },
    "tags": []
   },
   "outputs": [],
   "source": [
    "selected_gene_pairs = [\n",
    "    # ('SDS', 'IFNG')\n",
    "    (\"ENSG00000135094.10\", \"ENSG00000111537.4\"),\n",
    "    # ('APOC1', 'JUN')\n",
    "    (\"ENSG00000130208.9\", \"ENSG00000177606.6\"),\n",
    "    # ('CCL18', 'ZDHHC12')\n",
    "    (\"ENSG00000275385.1\", \"ENSG00000160446.18\"),\n",
    "    # ('KDM6A', 'UTY')\n",
    "    (\"ENSG00000147050.14\", \"ENSG00000183878.15\"),\n",
    "    # ('CYTIP', 'RASSF2')\n",
    "    (\"ENSG00000115165.9\", \"ENSG00000101265.15\"),\n",
    "    # ('KLHL21', 'AC068580.6')\n",
    "    (\"ENSG00000162413.16\", \"ENSG00000235027.1\"),\n",
    "    # ('TNNI2', 'MYOZ1')\n",
    "    (\"ENSG00000130598.15\", \"ENSG00000177791.11\"),\n",
    "    # ('TPM2', 'PYGM')\n",
    "    (\"ENSG00000198467.13\", \"ENSG00000068976.13\"),\n",
    "]"
   ]
  },
  {
   "cell_type": "code",
   "execution_count": 23,
   "id": "ae6c1652-38ca-4cf6-938f-76533e075512",
   "metadata": {
    "execution": {
     "iopub.execute_input": "2023-09-13T04:11:59.697809Z",
     "iopub.status.busy": "2023-09-13T04:11:59.697750Z",
     "iopub.status.idle": "2023-09-13T04:12:00.574275Z",
     "shell.execute_reply": "2023-09-13T04:12:00.574033Z"
    },
    "papermill": {
     "duration": 0.880254,
     "end_time": "2023-09-13T04:12:00.574949",
     "exception": false,
     "start_time": "2023-09-13T04:11:59.694695",
     "status": "completed"
    },
    "tags": []
   },
   "outputs": [
    {
     "data": {
      "text/plain": [
       "(8, 9)"
      ]
     },
     "metadata": {},
     "output_type": "display_data"
    }
   ],
   "source": [
    "gene_pair_samples[\"selected_in_manuscript\"] = df_plot.loc[selected_gene_pairs]\n",
    "display(gene_pair_samples[\"selected_in_manuscript\"].shape)"
   ]
  },
  {
   "cell_type": "code",
   "execution_count": 24,
   "id": "da6d6dd2-59e6-417e-a42c-d7fbba3ba2dc",
   "metadata": {
    "execution": {
     "iopub.execute_input": "2023-09-13T04:12:00.581407Z",
     "iopub.status.busy": "2023-09-13T04:12:00.581308Z",
     "iopub.status.idle": "2023-09-13T04:12:00.586167Z",
     "shell.execute_reply": "2023-09-13T04:12:00.586019Z"
    },
    "papermill": {
     "duration": 0.008677,
     "end_time": "2023-09-13T04:12:00.586648",
     "exception": false,
     "start_time": "2023-09-13T04:12:00.577971",
     "status": "completed"
    },
    "tags": []
   },
   "outputs": [
    {
     "data": {
      "text/html": [
       "<div>\n",
       "<style scoped>\n",
       "    .dataframe tbody tr th:only-of-type {\n",
       "        vertical-align: middle;\n",
       "    }\n",
       "\n",
       "    .dataframe tbody tr th {\n",
       "        vertical-align: top;\n",
       "    }\n",
       "\n",
       "    .dataframe thead th {\n",
       "        text-align: right;\n",
       "    }\n",
       "</style>\n",
       "<table border=\"1\" class=\"dataframe\">\n",
       "  <thead>\n",
       "    <tr style=\"text-align: right;\">\n",
       "      <th></th>\n",
       "      <th></th>\n",
       "      <th>Pearson (high)</th>\n",
       "      <th>Pearson (low)</th>\n",
       "      <th>Spearman (high)</th>\n",
       "      <th>Spearman (low)</th>\n",
       "      <th>Clustermatch (high)</th>\n",
       "      <th>Clustermatch (low)</th>\n",
       "      <th>ccc</th>\n",
       "      <th>pearson</th>\n",
       "      <th>spearman</th>\n",
       "    </tr>\n",
       "  </thead>\n",
       "  <tbody>\n",
       "    <tr>\n",
       "      <th>ENSG00000135094.10</th>\n",
       "      <th>ENSG00000111537.4</th>\n",
       "      <td>False</td>\n",
       "      <td>True</td>\n",
       "      <td>True</td>\n",
       "      <td>False</td>\n",
       "      <td>True</td>\n",
       "      <td>False</td>\n",
       "      <td>0.706993</td>\n",
       "      <td>0.090451</td>\n",
       "      <td>0.765177</td>\n",
       "    </tr>\n",
       "    <tr>\n",
       "      <th>ENSG00000130208.9</th>\n",
       "      <th>ENSG00000177606.6</th>\n",
       "      <td>False</td>\n",
       "      <td>True</td>\n",
       "      <td>True</td>\n",
       "      <td>False</td>\n",
       "      <td>True</td>\n",
       "      <td>False</td>\n",
       "      <td>0.612233</td>\n",
       "      <td>0.084623</td>\n",
       "      <td>0.748265</td>\n",
       "    </tr>\n",
       "    <tr>\n",
       "      <th>ENSG00000275385.1</th>\n",
       "      <th>ENSG00000160446.18</th>\n",
       "      <td>False</td>\n",
       "      <td>True</td>\n",
       "      <td>False</td>\n",
       "      <td>False</td>\n",
       "      <td>True</td>\n",
       "      <td>False</td>\n",
       "      <td>0.446659</td>\n",
       "      <td>0.099853</td>\n",
       "      <td>0.560171</td>\n",
       "    </tr>\n",
       "    <tr>\n",
       "      <th>ENSG00000147050.14</th>\n",
       "      <th>ENSG00000183878.15</th>\n",
       "      <td>False</td>\n",
       "      <td>False</td>\n",
       "      <td>False</td>\n",
       "      <td>True</td>\n",
       "      <td>True</td>\n",
       "      <td>False</td>\n",
       "      <td>0.294391</td>\n",
       "      <td>0.239870</td>\n",
       "      <td>0.100621</td>\n",
       "    </tr>\n",
       "    <tr>\n",
       "      <th>ENSG00000115165.9</th>\n",
       "      <th>ENSG00000101265.15</th>\n",
       "      <td>False</td>\n",
       "      <td>False</td>\n",
       "      <td>False</td>\n",
       "      <td>True</td>\n",
       "      <td>True</td>\n",
       "      <td>False</td>\n",
       "      <td>0.201962</td>\n",
       "      <td>0.156060</td>\n",
       "      <td>0.107882</td>\n",
       "    </tr>\n",
       "    <tr>\n",
       "      <th>ENSG00000162413.16</th>\n",
       "      <th>ENSG00000235027.1</th>\n",
       "      <td>False</td>\n",
       "      <td>True</td>\n",
       "      <td>False</td>\n",
       "      <td>True</td>\n",
       "      <td>True</td>\n",
       "      <td>False</td>\n",
       "      <td>0.184217</td>\n",
       "      <td>0.062875</td>\n",
       "      <td>0.186421</td>\n",
       "    </tr>\n",
       "    <tr>\n",
       "      <th>ENSG00000130598.15</th>\n",
       "      <th>ENSG00000177791.11</th>\n",
       "      <td>True</td>\n",
       "      <td>False</td>\n",
       "      <td>False</td>\n",
       "      <td>False</td>\n",
       "      <td>False</td>\n",
       "      <td>True</td>\n",
       "      <td>0.034593</td>\n",
       "      <td>0.967834</td>\n",
       "      <td>0.284206</td>\n",
       "    </tr>\n",
       "    <tr>\n",
       "      <th>ENSG00000198467.13</th>\n",
       "      <th>ENSG00000068976.13</th>\n",
       "      <td>True</td>\n",
       "      <td>False</td>\n",
       "      <td>False</td>\n",
       "      <td>True</td>\n",
       "      <td>False</td>\n",
       "      <td>True</td>\n",
       "      <td>0.034912</td>\n",
       "      <td>0.944430</td>\n",
       "      <td>0.029852</td>\n",
       "    </tr>\n",
       "  </tbody>\n",
       "</table>\n",
       "</div>"
      ],
      "text/plain": [
       "                                       Pearson (high)  Pearson (low)  \\\n",
       "ENSG00000135094.10 ENSG00000111537.4            False           True   \n",
       "ENSG00000130208.9  ENSG00000177606.6            False           True   \n",
       "ENSG00000275385.1  ENSG00000160446.18           False           True   \n",
       "ENSG00000147050.14 ENSG00000183878.15           False          False   \n",
       "ENSG00000115165.9  ENSG00000101265.15           False          False   \n",
       "ENSG00000162413.16 ENSG00000235027.1            False           True   \n",
       "ENSG00000130598.15 ENSG00000177791.11            True          False   \n",
       "ENSG00000198467.13 ENSG00000068976.13            True          False   \n",
       "\n",
       "                                       Spearman (high)  Spearman (low)  \\\n",
       "ENSG00000135094.10 ENSG00000111537.4              True           False   \n",
       "ENSG00000130208.9  ENSG00000177606.6              True           False   \n",
       "ENSG00000275385.1  ENSG00000160446.18            False           False   \n",
       "ENSG00000147050.14 ENSG00000183878.15            False            True   \n",
       "ENSG00000115165.9  ENSG00000101265.15            False            True   \n",
       "ENSG00000162413.16 ENSG00000235027.1             False            True   \n",
       "ENSG00000130598.15 ENSG00000177791.11            False           False   \n",
       "ENSG00000198467.13 ENSG00000068976.13            False            True   \n",
       "\n",
       "                                       Clustermatch (high)  \\\n",
       "ENSG00000135094.10 ENSG00000111537.4                  True   \n",
       "ENSG00000130208.9  ENSG00000177606.6                  True   \n",
       "ENSG00000275385.1  ENSG00000160446.18                 True   \n",
       "ENSG00000147050.14 ENSG00000183878.15                 True   \n",
       "ENSG00000115165.9  ENSG00000101265.15                 True   \n",
       "ENSG00000162413.16 ENSG00000235027.1                  True   \n",
       "ENSG00000130598.15 ENSG00000177791.11                False   \n",
       "ENSG00000198467.13 ENSG00000068976.13                False   \n",
       "\n",
       "                                       Clustermatch (low)       ccc   pearson  \\\n",
       "ENSG00000135094.10 ENSG00000111537.4                False  0.706993  0.090451   \n",
       "ENSG00000130208.9  ENSG00000177606.6                False  0.612233  0.084623   \n",
       "ENSG00000275385.1  ENSG00000160446.18               False  0.446659  0.099853   \n",
       "ENSG00000147050.14 ENSG00000183878.15               False  0.294391  0.239870   \n",
       "ENSG00000115165.9  ENSG00000101265.15               False  0.201962  0.156060   \n",
       "ENSG00000162413.16 ENSG00000235027.1                False  0.184217  0.062875   \n",
       "ENSG00000130598.15 ENSG00000177791.11                True  0.034593  0.967834   \n",
       "ENSG00000198467.13 ENSG00000068976.13                True  0.034912  0.944430   \n",
       "\n",
       "                                       spearman  \n",
       "ENSG00000135094.10 ENSG00000111537.4   0.765177  \n",
       "ENSG00000130208.9  ENSG00000177606.6   0.748265  \n",
       "ENSG00000275385.1  ENSG00000160446.18  0.560171  \n",
       "ENSG00000147050.14 ENSG00000183878.15  0.100621  \n",
       "ENSG00000115165.9  ENSG00000101265.15  0.107882  \n",
       "ENSG00000162413.16 ENSG00000235027.1   0.186421  \n",
       "ENSG00000130598.15 ENSG00000177791.11  0.284206  \n",
       "ENSG00000198467.13 ENSG00000068976.13  0.029852  "
      ]
     },
     "execution_count": 24,
     "metadata": {},
     "output_type": "execute_result"
    }
   ],
   "source": [
    "gene_pair_samples[\"selected_in_manuscript\"]"
   ]
  },
  {
   "cell_type": "markdown",
   "id": "c15b6534-bd10-4091-a33d-e924a883cd93",
   "metadata": {
    "papermill": {
     "duration": 0.002864,
     "end_time": "2023-09-13T04:12:00.592497",
     "exception": false,
     "start_time": "2023-09-13T04:12:00.589633",
     "status": "completed"
    },
    "tags": []
   },
   "source": [
    "# Save"
   ]
  },
  {
   "cell_type": "code",
   "execution_count": 25,
   "id": "62d8632e-13e0-4a78-ad30-26770172d21e",
   "metadata": {
    "execution": {
     "iopub.execute_input": "2023-09-13T04:12:00.598761Z",
     "iopub.status.busy": "2023-09-13T04:12:00.598699Z",
     "iopub.status.idle": "2023-09-13T04:12:00.600386Z",
     "shell.execute_reply": "2023-09-13T04:12:00.600230Z"
    },
    "papermill": {
     "duration": 0.005446,
     "end_time": "2023-09-13T04:12:00.600902",
     "exception": false,
     "start_time": "2023-09-13T04:12:00.595456",
     "status": "completed"
    },
    "tags": []
   },
   "outputs": [],
   "source": [
    "output_file = OUTPUT_DIR / \"gene_pair-samples.pkl\""
   ]
  },
  {
   "cell_type": "code",
   "execution_count": 26,
   "id": "bb8e28d4-3adf-4d6a-a94e-81b6763ebd61",
   "metadata": {
    "execution": {
     "iopub.execute_input": "2023-09-13T04:12:00.607077Z",
     "iopub.status.busy": "2023-09-13T04:12:00.607026Z",
     "iopub.status.idle": "2023-09-13T04:12:00.609923Z",
     "shell.execute_reply": "2023-09-13T04:12:00.609777Z"
    },
    "papermill": {
     "duration": 0.006536,
     "end_time": "2023-09-13T04:12:00.610433",
     "exception": false,
     "start_time": "2023-09-13T04:12:00.603897",
     "status": "completed"
    },
    "tags": []
   },
   "outputs": [],
   "source": [
    "pd.to_pickle(gene_pair_samples, output_file)"
   ]
  },
  {
   "cell_type": "code",
   "execution_count": null,
   "id": "46cff789-6c90-42c5-9328-21ee7bd70851",
   "metadata": {
    "papermill": {
     "duration": 0.002899,
     "end_time": "2023-09-13T04:12:00.616205",
     "exception": false,
     "start_time": "2023-09-13T04:12:00.613306",
     "status": "completed"
    },
    "tags": []
   },
   "outputs": [],
   "source": []
  }
 ],
 "metadata": {
  "jupytext": {
   "cell_metadata_filter": "all,-execution,-papermill,-trusted",
   "notebook_metadata_filter": "-jupytext.text_representation.jupytext_version"
  },
  "kernelspec": {
   "display_name": "Python 3 (ipykernel)",
   "language": "python",
   "name": "python3"
  },
  "language_info": {
   "codemirror_mode": {
    "name": "ipython",
    "version": 3
   },
   "file_extension": ".py",
   "mimetype": "text/x-python",
   "name": "python",
   "nbconvert_exporter": "python",
   "pygments_lexer": "ipython3",
   "version": "3.9.12"
  },
  "papermill": {
   "default_parameters": {},
   "duration": 4.346104,
   "end_time": "2023-09-13T04:12:00.833412",
   "environment_variables": {},
   "exception": null,
   "input_path": "nbs/25_pvalue/10-sample_gene_pair_categories.ipynb",
   "output_path": "nbs/25_pvalue/10-sample_gene_pair_categories.run.ipynb",
   "parameters": {},
   "start_time": "2023-09-13T04:11:56.487308",
   "version": "2.3.4"
  }
 },
 "nbformat": 4,
 "nbformat_minor": 5
}
