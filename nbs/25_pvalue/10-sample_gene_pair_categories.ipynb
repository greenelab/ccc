{
 "cells": [
  {
   "cell_type": "markdown",
   "id": "ec52faa3-656f-483e-9617-d7ec0f7d818c",
   "metadata": {
    "papermill": {
     "duration": 0.007094,
     "end_time": "2023-09-12T03:46:21.597051",
     "exception": false,
     "start_time": "2023-09-12T03:46:21.589957",
     "status": "completed"
    },
    "tags": []
   },
   "source": [
    "# Description"
   ]
  },
  {
   "cell_type": "markdown",
   "id": "51102f42-fcd9-4a58-9c8d-dfcd3d2d464e",
   "metadata": {
    "papermill": {
     "duration": 0.006299,
     "end_time": "2023-09-12T03:46:21.613704",
     "exception": false,
     "start_time": "2023-09-12T03:46:21.607405",
     "status": "completed"
    },
    "tags": []
   },
   "source": [
    "It sample gene pairs from the categories in Figure 3b."
   ]
  },
  {
   "cell_type": "markdown",
   "id": "7006ceeb-2651-407d-bfa1-1039727649ef",
   "metadata": {
    "papermill": {
     "duration": 0.006402,
     "end_time": "2023-09-12T03:46:21.626395",
     "exception": false,
     "start_time": "2023-09-12T03:46:21.619993",
     "status": "completed"
    },
    "tags": []
   },
   "source": [
    "# Modules loading"
   ]
  },
  {
   "cell_type": "code",
   "execution_count": 1,
   "id": "1ffa1a96-7545-40b9-ac8b-8627e13de8d4",
   "metadata": {
    "execution": {
     "iopub.execute_input": "2023-09-12T03:46:21.639685Z",
     "iopub.status.busy": "2023-09-12T03:46:21.639388Z",
     "iopub.status.idle": "2023-09-12T03:46:22.135220Z",
     "shell.execute_reply": "2023-09-12T03:46:22.134792Z"
    },
    "papermill": {
     "duration": 0.504406,
     "end_time": "2023-09-12T03:46:22.136919",
     "exception": false,
     "start_time": "2023-09-12T03:46:21.632513",
     "status": "completed"
    },
    "tags": []
   },
   "outputs": [],
   "source": [
    "import numpy as np\n",
    "import matplotlib.pyplot as plt\n",
    "import seaborn as sns\n",
    "from scipy import stats\n",
    "import numpy as np\n",
    "import pandas as pd\n",
    "\n",
    "from ccc import conf"
   ]
  },
  {
   "cell_type": "markdown",
   "id": "0d3cc810-4b17-4213-8f03-6fe7e97a0fe3",
   "metadata": {
    "papermill": {
     "duration": 0.01031,
     "end_time": "2023-09-12T03:46:22.153548",
     "exception": false,
     "start_time": "2023-09-12T03:46:22.143238",
     "status": "completed"
    },
    "tags": []
   },
   "source": [
    "# Settings"
   ]
  },
  {
   "cell_type": "code",
   "execution_count": 2,
   "id": "9a154623-c787-4a31-871a-cad173f0eb9f",
   "metadata": {
    "execution": {
     "iopub.execute_input": "2023-09-12T03:46:22.166500Z",
     "iopub.status.busy": "2023-09-12T03:46:22.166414Z",
     "iopub.status.idle": "2023-09-12T03:46:22.169132Z",
     "shell.execute_reply": "2023-09-12T03:46:22.168785Z"
    },
    "papermill": {
     "duration": 0.010649,
     "end_time": "2023-09-12T03:46:22.170336",
     "exception": false,
     "start_time": "2023-09-12T03:46:22.159687",
     "status": "completed"
    },
    "tags": []
   },
   "outputs": [],
   "source": [
    "DATASET_CONFIG = conf.GTEX\n",
    "GTEX_TISSUE = \"whole_blood\"\n",
    "GENE_SEL_STRATEGY = \"var_pc_log2\"\n",
    "\n",
    "RANDOM_STATE = np.random.RandomState(0)"
   ]
  },
  {
   "cell_type": "markdown",
   "id": "5b09ff83-5377-49a9-b24b-65c6c90277d6",
   "metadata": {
    "papermill": {
     "duration": 0.006068,
     "end_time": "2023-09-12T03:46:22.182534",
     "exception": false,
     "start_time": "2023-09-12T03:46:22.176466",
     "status": "completed"
    },
    "tags": []
   },
   "source": [
    "# Paths"
   ]
  },
  {
   "cell_type": "code",
   "execution_count": 3,
   "id": "c6f73068-fa38-44be-bd0c-708f6ff450ea",
   "metadata": {
    "execution": {
     "iopub.execute_input": "2023-09-12T03:46:22.195354Z",
     "iopub.status.busy": "2023-09-12T03:46:22.195271Z",
     "iopub.status.idle": "2023-09-12T03:46:22.199618Z",
     "shell.execute_reply": "2023-09-12T03:46:22.199125Z"
    },
    "papermill": {
     "duration": 0.012415,
     "end_time": "2023-09-12T03:46:22.201067",
     "exception": false,
     "start_time": "2023-09-12T03:46:22.188652",
     "status": "completed"
    },
    "tags": []
   },
   "outputs": [
    {
     "data": {
      "text/plain": [
       "PosixPath('/opt/data/results/gtex_v8/gene_selection/gtex_v8_data_whole_blood-var_pc_log2.pkl')"
      ]
     },
     "metadata": {},
     "output_type": "display_data"
    }
   ],
   "source": [
    "INPUT_GENE_EXPR_FILE = (\n",
    "    DATASET_CONFIG[\"GENE_SELECTION_DIR\"]\n",
    "    / f\"gtex_v8_data_{GTEX_TISSUE}-{GENE_SEL_STRATEGY}.pkl\"\n",
    ")\n",
    "display(INPUT_GENE_EXPR_FILE)\n",
    "\n",
    "assert INPUT_GENE_EXPR_FILE.exists()"
   ]
  },
  {
   "cell_type": "code",
   "execution_count": 4,
   "id": "30cce6f5-ca1b-438c-859d-31903a42d4c6",
   "metadata": {
    "execution": {
     "iopub.execute_input": "2023-09-12T03:46:22.215140Z",
     "iopub.status.busy": "2023-09-12T03:46:22.214898Z",
     "iopub.status.idle": "2023-09-12T03:46:22.218968Z",
     "shell.execute_reply": "2023-09-12T03:46:22.218520Z"
    },
    "papermill": {
     "duration": 0.012617,
     "end_time": "2023-09-12T03:46:22.220246",
     "exception": false,
     "start_time": "2023-09-12T03:46:22.207629",
     "status": "completed"
    },
    "tags": []
   },
   "outputs": [
    {
     "data": {
      "text/plain": [
       "PosixPath('/opt/data/results/gtex_v8/gene_pair_intersections/gene_pair_intersections-gtex_v8-whole_blood-var_pc_log2.pkl')"
      ]
     },
     "metadata": {},
     "output_type": "display_data"
    }
   ],
   "source": [
    "INPUT_GENE_PAIRS_INTERSECTIONS_FILE = (\n",
    "    DATASET_CONFIG[\"GENE_PAIR_INTERSECTIONS\"]\n",
    "    / f\"gene_pair_intersections-gtex_v8-{GTEX_TISSUE}-{GENE_SEL_STRATEGY}.pkl\"\n",
    ")\n",
    "display(INPUT_GENE_PAIRS_INTERSECTIONS_FILE)\n",
    "\n",
    "assert INPUT_GENE_PAIRS_INTERSECTIONS_FILE.exists()"
   ]
  },
  {
   "cell_type": "code",
   "execution_count": 5,
   "id": "0122253c-99c0-41e2-8807-60df86bf0619",
   "metadata": {
    "execution": {
     "iopub.execute_input": "2023-09-12T03:46:22.233811Z",
     "iopub.status.busy": "2023-09-12T03:46:22.233439Z",
     "iopub.status.idle": "2023-09-12T03:46:22.236433Z",
     "shell.execute_reply": "2023-09-12T03:46:22.235982Z"
    },
    "papermill": {
     "duration": 0.011159,
     "end_time": "2023-09-12T03:46:22.237687",
     "exception": false,
     "start_time": "2023-09-12T03:46:22.226528",
     "status": "completed"
    },
    "tags": []
   },
   "outputs": [],
   "source": [
    "OUTPUT_DIR = DATASET_CONFIG[\"GENE_PAIR_INTERSECTIONS\"] / \"pvalues\"\n",
    "OUTPUT_DIR.mkdir(parents=True, exist_ok=True)"
   ]
  },
  {
   "cell_type": "code",
   "execution_count": 6,
   "id": "3003ed2c-5da0-43b9-969d-9cf037d05730",
   "metadata": {
    "execution": {
     "iopub.execute_input": "2023-09-12T03:46:22.250981Z",
     "iopub.status.busy": "2023-09-12T03:46:22.250698Z",
     "iopub.status.idle": "2023-09-12T03:46:22.254353Z",
     "shell.execute_reply": "2023-09-12T03:46:22.253910Z"
    },
    "papermill": {
     "duration": 0.011343,
     "end_time": "2023-09-12T03:46:22.255340",
     "exception": false,
     "start_time": "2023-09-12T03:46:22.243997",
     "status": "completed"
    },
    "tags": []
   },
   "outputs": [
    {
     "data": {
      "text/plain": [
       "PosixPath('/opt/data/results/gtex_v8/gene_pair_intersections/pvalues')"
      ]
     },
     "execution_count": 6,
     "metadata": {},
     "output_type": "execute_result"
    }
   ],
   "source": [
    "OUTPUT_DIR"
   ]
  },
  {
   "cell_type": "markdown",
   "id": "3d014f0c-d442-48ab-add8-ac338ad15b27",
   "metadata": {
    "papermill": {
     "duration": 0.004779,
     "end_time": "2023-09-12T03:46:22.265236",
     "exception": false,
     "start_time": "2023-09-12T03:46:22.260457",
     "status": "completed"
    },
    "tags": []
   },
   "source": [
    "# Load gene pairs intersection"
   ]
  },
  {
   "cell_type": "code",
   "execution_count": 7,
   "id": "da1d768a-fbfb-40e8-8fbb-790d1a94aa83",
   "metadata": {
    "execution": {
     "iopub.execute_input": "2023-09-12T03:46:22.272902Z",
     "iopub.status.busy": "2023-09-12T03:46:22.272634Z",
     "iopub.status.idle": "2023-09-12T03:46:22.454410Z",
     "shell.execute_reply": "2023-09-12T03:46:22.453969Z"
    },
    "papermill": {
     "duration": 0.187359,
     "end_time": "2023-09-12T03:46:22.455977",
     "exception": false,
     "start_time": "2023-09-12T03:46:22.268618",
     "status": "completed"
    },
    "tags": []
   },
   "outputs": [],
   "source": [
    "df_plot = pd.read_pickle(INPUT_GENE_PAIRS_INTERSECTIONS_FILE)"
   ]
  },
  {
   "cell_type": "code",
   "execution_count": 8,
   "id": "6123d474-0c0d-4771-9678-248ce89424ce",
   "metadata": {
    "execution": {
     "iopub.execute_input": "2023-09-12T03:46:22.470719Z",
     "iopub.status.busy": "2023-09-12T03:46:22.470621Z",
     "iopub.status.idle": "2023-09-12T03:46:22.473442Z",
     "shell.execute_reply": "2023-09-12T03:46:22.473110Z"
    },
    "papermill": {
     "duration": 0.015382,
     "end_time": "2023-09-12T03:46:22.475210",
     "exception": false,
     "start_time": "2023-09-12T03:46:22.459828",
     "status": "completed"
    },
    "tags": []
   },
   "outputs": [
    {
     "data": {
      "text/plain": [
       "(12497500, 9)"
      ]
     },
     "execution_count": 8,
     "metadata": {},
     "output_type": "execute_result"
    }
   ],
   "source": [
    "df_plot.shape"
   ]
  },
  {
   "cell_type": "code",
   "execution_count": 9,
   "id": "b028abd8-c5b1-48c2-aa5e-cb1b49c943a4",
   "metadata": {
    "execution": {
     "iopub.execute_input": "2023-09-12T03:46:22.489671Z",
     "iopub.status.busy": "2023-09-12T03:46:22.489479Z",
     "iopub.status.idle": "2023-09-12T03:46:22.496801Z",
     "shell.execute_reply": "2023-09-12T03:46:22.496462Z"
    },
    "papermill": {
     "duration": 0.015759,
     "end_time": "2023-09-12T03:46:22.498004",
     "exception": false,
     "start_time": "2023-09-12T03:46:22.482245",
     "status": "completed"
    },
    "tags": []
   },
   "outputs": [
    {
     "data": {
      "text/html": [
       "<div>\n",
       "<style scoped>\n",
       "    .dataframe tbody tr th:only-of-type {\n",
       "        vertical-align: middle;\n",
       "    }\n",
       "\n",
       "    .dataframe tbody tr th {\n",
       "        vertical-align: top;\n",
       "    }\n",
       "\n",
       "    .dataframe thead th {\n",
       "        text-align: right;\n",
       "    }\n",
       "</style>\n",
       "<table border=\"1\" class=\"dataframe\">\n",
       "  <thead>\n",
       "    <tr style=\"text-align: right;\">\n",
       "      <th></th>\n",
       "      <th></th>\n",
       "      <th>Pearson (high)</th>\n",
       "      <th>Pearson (low)</th>\n",
       "      <th>Spearman (high)</th>\n",
       "      <th>Spearman (low)</th>\n",
       "      <th>Clustermatch (high)</th>\n",
       "      <th>Clustermatch (low)</th>\n",
       "      <th>ccc</th>\n",
       "      <th>pearson</th>\n",
       "      <th>spearman</th>\n",
       "    </tr>\n",
       "  </thead>\n",
       "  <tbody>\n",
       "    <tr>\n",
       "      <th rowspan=\"5\" valign=\"top\">ENSG00000000419.12</th>\n",
       "      <th>ENSG00000002834.17</th>\n",
       "      <td>True</td>\n",
       "      <td>False</td>\n",
       "      <td>True</td>\n",
       "      <td>False</td>\n",
       "      <td>True</td>\n",
       "      <td>False</td>\n",
       "      <td>0.418721</td>\n",
       "      <td>0.681847</td>\n",
       "      <td>0.786595</td>\n",
       "    </tr>\n",
       "    <tr>\n",
       "      <th>ENSG00000002919.14</th>\n",
       "      <td>True</td>\n",
       "      <td>False</td>\n",
       "      <td>True</td>\n",
       "      <td>False</td>\n",
       "      <td>True</td>\n",
       "      <td>False</td>\n",
       "      <td>0.405090</td>\n",
       "      <td>0.734699</td>\n",
       "      <td>0.816991</td>\n",
       "    </tr>\n",
       "    <tr>\n",
       "      <th>ENSG00000002933.7</th>\n",
       "      <td>False</td>\n",
       "      <td>True</td>\n",
       "      <td>False</td>\n",
       "      <td>True</td>\n",
       "      <td>False</td>\n",
       "      <td>True</td>\n",
       "      <td>0.007466</td>\n",
       "      <td>0.013825</td>\n",
       "      <td>0.004128</td>\n",
       "    </tr>\n",
       "    <tr>\n",
       "      <th>ENSG00000003402.19</th>\n",
       "      <td>True</td>\n",
       "      <td>False</td>\n",
       "      <td>True</td>\n",
       "      <td>False</td>\n",
       "      <td>True</td>\n",
       "      <td>False</td>\n",
       "      <td>0.391683</td>\n",
       "      <td>0.727347</td>\n",
       "      <td>0.803653</td>\n",
       "    </tr>\n",
       "    <tr>\n",
       "      <th>ENSG00000004478.7</th>\n",
       "      <td>False</td>\n",
       "      <td>True</td>\n",
       "      <td>False</td>\n",
       "      <td>False</td>\n",
       "      <td>False</td>\n",
       "      <td>False</td>\n",
       "      <td>0.099013</td>\n",
       "      <td>0.094147</td>\n",
       "      <td>0.231269</td>\n",
       "    </tr>\n",
       "  </tbody>\n",
       "</table>\n",
       "</div>"
      ],
      "text/plain": [
       "                                       Pearson (high)  Pearson (low)  \\\n",
       "ENSG00000000419.12 ENSG00000002834.17            True          False   \n",
       "                   ENSG00000002919.14            True          False   \n",
       "                   ENSG00000002933.7            False           True   \n",
       "                   ENSG00000003402.19            True          False   \n",
       "                   ENSG00000004478.7            False           True   \n",
       "\n",
       "                                       Spearman (high)  Spearman (low)  \\\n",
       "ENSG00000000419.12 ENSG00000002834.17             True           False   \n",
       "                   ENSG00000002919.14             True           False   \n",
       "                   ENSG00000002933.7             False            True   \n",
       "                   ENSG00000003402.19             True           False   \n",
       "                   ENSG00000004478.7             False           False   \n",
       "\n",
       "                                       Clustermatch (high)  \\\n",
       "ENSG00000000419.12 ENSG00000002834.17                 True   \n",
       "                   ENSG00000002919.14                 True   \n",
       "                   ENSG00000002933.7                 False   \n",
       "                   ENSG00000003402.19                 True   \n",
       "                   ENSG00000004478.7                 False   \n",
       "\n",
       "                                       Clustermatch (low)       ccc   pearson  \\\n",
       "ENSG00000000419.12 ENSG00000002834.17               False  0.418721  0.681847   \n",
       "                   ENSG00000002919.14               False  0.405090  0.734699   \n",
       "                   ENSG00000002933.7                 True  0.007466  0.013825   \n",
       "                   ENSG00000003402.19               False  0.391683  0.727347   \n",
       "                   ENSG00000004478.7                False  0.099013  0.094147   \n",
       "\n",
       "                                       spearman  \n",
       "ENSG00000000419.12 ENSG00000002834.17  0.786595  \n",
       "                   ENSG00000002919.14  0.816991  \n",
       "                   ENSG00000002933.7   0.004128  \n",
       "                   ENSG00000003402.19  0.803653  \n",
       "                   ENSG00000004478.7   0.231269  "
      ]
     },
     "execution_count": 9,
     "metadata": {},
     "output_type": "execute_result"
    }
   ],
   "source": [
    "df_plot.head()"
   ]
  },
  {
   "cell_type": "code",
   "execution_count": 10,
   "id": "3aced73f-7ece-4451-a0e7-f74b106fe3d7",
   "metadata": {
    "execution": {
     "iopub.execute_input": "2023-09-12T03:46:22.511991Z",
     "iopub.status.busy": "2023-09-12T03:46:22.511893Z",
     "iopub.status.idle": "2023-09-12T03:46:22.542395Z",
     "shell.execute_reply": "2023-09-12T03:46:22.542015Z"
    },
    "papermill": {
     "duration": 0.038739,
     "end_time": "2023-09-12T03:46:22.543612",
     "exception": false,
     "start_time": "2023-09-12T03:46:22.504873",
     "status": "completed"
    },
    "tags": []
   },
   "outputs": [
    {
     "data": {
      "text/html": [
       "<div>\n",
       "<style scoped>\n",
       "    .dataframe tbody tr th:only-of-type {\n",
       "        vertical-align: middle;\n",
       "    }\n",
       "\n",
       "    .dataframe tbody tr th {\n",
       "        vertical-align: top;\n",
       "    }\n",
       "\n",
       "    .dataframe thead th {\n",
       "        text-align: right;\n",
       "    }\n",
       "</style>\n",
       "<table border=\"1\" class=\"dataframe\">\n",
       "  <thead>\n",
       "    <tr style=\"text-align: right;\">\n",
       "      <th></th>\n",
       "      <th></th>\n",
       "      <th>Pearson (high)</th>\n",
       "      <th>Pearson (low)</th>\n",
       "      <th>Spearman (high)</th>\n",
       "      <th>Spearman (low)</th>\n",
       "      <th>Clustermatch (high)</th>\n",
       "      <th>Clustermatch (low)</th>\n",
       "      <th>ccc</th>\n",
       "      <th>pearson</th>\n",
       "      <th>spearman</th>\n",
       "    </tr>\n",
       "  </thead>\n",
       "  <tbody>\n",
       "    <tr>\n",
       "      <th>ENSG00000003402.19</th>\n",
       "      <th>ENSG00000133800.8</th>\n",
       "      <td>False</td>\n",
       "      <td>True</td>\n",
       "      <td>True</td>\n",
       "      <td>False</td>\n",
       "      <td>False</td>\n",
       "      <td>False</td>\n",
       "      <td>0.157825</td>\n",
       "      <td>0.048650</td>\n",
       "      <td>0.570855</td>\n",
       "    </tr>\n",
       "    <tr>\n",
       "      <th>ENSG00000003756.16</th>\n",
       "      <th>ENSG00000163739.4</th>\n",
       "      <td>False</td>\n",
       "      <td>True</td>\n",
       "      <td>True</td>\n",
       "      <td>False</td>\n",
       "      <td>False</td>\n",
       "      <td>False</td>\n",
       "      <td>0.164233</td>\n",
       "      <td>0.040470</td>\n",
       "      <td>0.565410</td>\n",
       "    </tr>\n",
       "    <tr>\n",
       "      <th>ENSG00000004776.12</th>\n",
       "      <th>ENSG00000196616.13</th>\n",
       "      <td>False</td>\n",
       "      <td>True</td>\n",
       "      <td>True</td>\n",
       "      <td>False</td>\n",
       "      <td>False</td>\n",
       "      <td>False</td>\n",
       "      <td>0.159947</td>\n",
       "      <td>0.097615</td>\n",
       "      <td>0.568500</td>\n",
       "    </tr>\n",
       "    <tr>\n",
       "      <th>ENSG00000008083.13</th>\n",
       "      <th>ENSG00000163739.4</th>\n",
       "      <td>False</td>\n",
       "      <td>True</td>\n",
       "      <td>True</td>\n",
       "      <td>False</td>\n",
       "      <td>False</td>\n",
       "      <td>False</td>\n",
       "      <td>0.159947</td>\n",
       "      <td>0.069861</td>\n",
       "      <td>0.571621</td>\n",
       "    </tr>\n",
       "    <tr>\n",
       "      <th>ENSG00000008988.9</th>\n",
       "      <th>ENSG00000229769.2</th>\n",
       "      <td>False</td>\n",
       "      <td>True</td>\n",
       "      <td>True</td>\n",
       "      <td>False</td>\n",
       "      <td>False</td>\n",
       "      <td>False</td>\n",
       "      <td>0.151281</td>\n",
       "      <td>0.091727</td>\n",
       "      <td>0.568723</td>\n",
       "    </tr>\n",
       "    <tr>\n",
       "      <th>...</th>\n",
       "      <th>...</th>\n",
       "      <td>...</td>\n",
       "      <td>...</td>\n",
       "      <td>...</td>\n",
       "      <td>...</td>\n",
       "      <td>...</td>\n",
       "      <td>...</td>\n",
       "      <td>...</td>\n",
       "      <td>...</td>\n",
       "      <td>...</td>\n",
       "    </tr>\n",
       "    <tr>\n",
       "      <th>ENSG00000278274.1</th>\n",
       "      <th>ENSG00000169136.10</th>\n",
       "      <td>False</td>\n",
       "      <td>True</td>\n",
       "      <td>True</td>\n",
       "      <td>False</td>\n",
       "      <td>False</td>\n",
       "      <td>False</td>\n",
       "      <td>0.172974</td>\n",
       "      <td>0.076674</td>\n",
       "      <td>0.569907</td>\n",
       "    </tr>\n",
       "    <tr>\n",
       "      <th>ENSG00000279520.1</th>\n",
       "      <th>ENSG00000163739.4</th>\n",
       "      <td>False</td>\n",
       "      <td>True</td>\n",
       "      <td>True</td>\n",
       "      <td>False</td>\n",
       "      <td>False</td>\n",
       "      <td>False</td>\n",
       "      <td>0.168576</td>\n",
       "      <td>0.061147</td>\n",
       "      <td>0.584956</td>\n",
       "    </tr>\n",
       "    <tr>\n",
       "      <th>ENSG00000281358.1</th>\n",
       "      <th>ENSG00000139194.7</th>\n",
       "      <td>False</td>\n",
       "      <td>True</td>\n",
       "      <td>True</td>\n",
       "      <td>False</td>\n",
       "      <td>False</td>\n",
       "      <td>False</td>\n",
       "      <td>0.177429</td>\n",
       "      <td>0.100793</td>\n",
       "      <td>0.615723</td>\n",
       "    </tr>\n",
       "    <tr>\n",
       "      <th>ENSG00000281649.1</th>\n",
       "      <th>ENSG00000163739.4</th>\n",
       "      <td>False</td>\n",
       "      <td>True</td>\n",
       "      <td>True</td>\n",
       "      <td>False</td>\n",
       "      <td>False</td>\n",
       "      <td>False</td>\n",
       "      <td>0.177429</td>\n",
       "      <td>0.080855</td>\n",
       "      <td>0.574391</td>\n",
       "    </tr>\n",
       "    <tr>\n",
       "      <th>ENSG00000282639.1</th>\n",
       "      <th>ENSG00000211663.2</th>\n",
       "      <td>False</td>\n",
       "      <td>True</td>\n",
       "      <td>True</td>\n",
       "      <td>False</td>\n",
       "      <td>False</td>\n",
       "      <td>False</td>\n",
       "      <td>0.133457</td>\n",
       "      <td>0.116801</td>\n",
       "      <td>0.574407</td>\n",
       "    </tr>\n",
       "  </tbody>\n",
       "</table>\n",
       "<p>527 rows × 9 columns</p>\n",
       "</div>"
      ],
      "text/plain": [
       "                                       Pearson (high)  Pearson (low)  \\\n",
       "ENSG00000003402.19 ENSG00000133800.8            False           True   \n",
       "ENSG00000003756.16 ENSG00000163739.4            False           True   \n",
       "ENSG00000004776.12 ENSG00000196616.13           False           True   \n",
       "ENSG00000008083.13 ENSG00000163739.4            False           True   \n",
       "ENSG00000008988.9  ENSG00000229769.2            False           True   \n",
       "...                                               ...            ...   \n",
       "ENSG00000278274.1  ENSG00000169136.10           False           True   \n",
       "ENSG00000279520.1  ENSG00000163739.4            False           True   \n",
       "ENSG00000281358.1  ENSG00000139194.7            False           True   \n",
       "ENSG00000281649.1  ENSG00000163739.4            False           True   \n",
       "ENSG00000282639.1  ENSG00000211663.2            False           True   \n",
       "\n",
       "                                       Spearman (high)  Spearman (low)  \\\n",
       "ENSG00000003402.19 ENSG00000133800.8              True           False   \n",
       "ENSG00000003756.16 ENSG00000163739.4              True           False   \n",
       "ENSG00000004776.12 ENSG00000196616.13             True           False   \n",
       "ENSG00000008083.13 ENSG00000163739.4              True           False   \n",
       "ENSG00000008988.9  ENSG00000229769.2              True           False   \n",
       "...                                                ...             ...   \n",
       "ENSG00000278274.1  ENSG00000169136.10             True           False   \n",
       "ENSG00000279520.1  ENSG00000163739.4              True           False   \n",
       "ENSG00000281358.1  ENSG00000139194.7              True           False   \n",
       "ENSG00000281649.1  ENSG00000163739.4              True           False   \n",
       "ENSG00000282639.1  ENSG00000211663.2              True           False   \n",
       "\n",
       "                                       Clustermatch (high)  \\\n",
       "ENSG00000003402.19 ENSG00000133800.8                 False   \n",
       "ENSG00000003756.16 ENSG00000163739.4                 False   \n",
       "ENSG00000004776.12 ENSG00000196616.13                False   \n",
       "ENSG00000008083.13 ENSG00000163739.4                 False   \n",
       "ENSG00000008988.9  ENSG00000229769.2                 False   \n",
       "...                                                    ...   \n",
       "ENSG00000278274.1  ENSG00000169136.10                False   \n",
       "ENSG00000279520.1  ENSG00000163739.4                 False   \n",
       "ENSG00000281358.1  ENSG00000139194.7                 False   \n",
       "ENSG00000281649.1  ENSG00000163739.4                 False   \n",
       "ENSG00000282639.1  ENSG00000211663.2                 False   \n",
       "\n",
       "                                       Clustermatch (low)       ccc   pearson  \\\n",
       "ENSG00000003402.19 ENSG00000133800.8                False  0.157825  0.048650   \n",
       "ENSG00000003756.16 ENSG00000163739.4                False  0.164233  0.040470   \n",
       "ENSG00000004776.12 ENSG00000196616.13               False  0.159947  0.097615   \n",
       "ENSG00000008083.13 ENSG00000163739.4                False  0.159947  0.069861   \n",
       "ENSG00000008988.9  ENSG00000229769.2                False  0.151281  0.091727   \n",
       "...                                                   ...       ...       ...   \n",
       "ENSG00000278274.1  ENSG00000169136.10               False  0.172974  0.076674   \n",
       "ENSG00000279520.1  ENSG00000163739.4                False  0.168576  0.061147   \n",
       "ENSG00000281358.1  ENSG00000139194.7                False  0.177429  0.100793   \n",
       "ENSG00000281649.1  ENSG00000163739.4                False  0.177429  0.080855   \n",
       "ENSG00000282639.1  ENSG00000211663.2                False  0.133457  0.116801   \n",
       "\n",
       "                                       spearman  \n",
       "ENSG00000003402.19 ENSG00000133800.8   0.570855  \n",
       "ENSG00000003756.16 ENSG00000163739.4   0.565410  \n",
       "ENSG00000004776.12 ENSG00000196616.13  0.568500  \n",
       "ENSG00000008083.13 ENSG00000163739.4   0.571621  \n",
       "ENSG00000008988.9  ENSG00000229769.2   0.568723  \n",
       "...                                         ...  \n",
       "ENSG00000278274.1  ENSG00000169136.10  0.569907  \n",
       "ENSG00000279520.1  ENSG00000163739.4   0.584956  \n",
       "ENSG00000281358.1  ENSG00000139194.7   0.615723  \n",
       "ENSG00000281649.1  ENSG00000163739.4   0.574391  \n",
       "ENSG00000282639.1  ENSG00000211663.2   0.574407  \n",
       "\n",
       "[527 rows x 9 columns]"
      ]
     },
     "execution_count": 10,
     "metadata": {},
     "output_type": "execute_result"
    }
   ],
   "source": [
    "df_plot[\n",
    "    df_plot[\"Spearman (high)\"]\n",
    "    & df_plot[\"Pearson (low)\"]\n",
    "    & (~df_plot[\"Clustermatch (high)\"])\n",
    "    & (~df_plot[\"Clustermatch (low)\"])\n",
    "]"
   ]
  },
  {
   "cell_type": "markdown",
   "id": "6ee33b44-ef8c-405e-9ab4-be1679b75619",
   "metadata": {
    "papermill": {
     "duration": 0.007332,
     "end_time": "2023-09-12T03:46:22.558246",
     "exception": false,
     "start_time": "2023-09-12T03:46:22.550914",
     "status": "completed"
    },
    "tags": []
   },
   "source": [
    "# Select gene pairs from each category in Figure 3b"
   ]
  },
  {
   "cell_type": "code",
   "execution_count": 11,
   "id": "6bac2e17-743d-49b5-9ae5-b168879b2dbc",
   "metadata": {
    "execution": {
     "iopub.execute_input": "2023-09-12T03:46:22.574279Z",
     "iopub.status.busy": "2023-09-12T03:46:22.574016Z",
     "iopub.status.idle": "2023-09-12T03:46:22.576371Z",
     "shell.execute_reply": "2023-09-12T03:46:22.576046Z"
    },
    "papermill": {
     "duration": 0.01211,
     "end_time": "2023-09-12T03:46:22.577586",
     "exception": false,
     "start_time": "2023-09-12T03:46:22.565476",
     "status": "completed"
    },
    "tags": []
   },
   "outputs": [],
   "source": [
    "gene_pair_cats = {}"
   ]
  },
  {
   "cell_type": "code",
   "execution_count": 12,
   "id": "bba6b621-09fa-4abc-90ba-789a2a9491dc",
   "metadata": {
    "execution": {
     "iopub.execute_input": "2023-09-12T03:46:22.593053Z",
     "iopub.status.busy": "2023-09-12T03:46:22.592730Z",
     "iopub.status.idle": "2023-09-12T03:46:22.710106Z",
     "shell.execute_reply": "2023-09-12T03:46:22.709812Z"
    },
    "papermill": {
     "duration": 0.126532,
     "end_time": "2023-09-12T03:46:22.711322",
     "exception": false,
     "start_time": "2023-09-12T03:46:22.584790",
     "status": "completed"
    },
    "tags": []
   },
   "outputs": [
    {
     "data": {
      "text/plain": [
       "(3120576, 9)"
      ]
     },
     "metadata": {},
     "output_type": "display_data"
    }
   ],
   "source": [
    "gene_pair_cats[\"all_high\"] = df_plot[\n",
    "    df_plot[\"Clustermatch (high)\"]\n",
    "    & df_plot[\"Spearman (high)\"]\n",
    "    & df_plot[\"Pearson (high)\"]\n",
    "]\n",
    "display(gene_pair_cats[\"all_high\"].shape)"
   ]
  },
  {
   "cell_type": "code",
   "execution_count": 13,
   "id": "22290518-845b-4cb5-8294-6275e58941d4",
   "metadata": {
    "execution": {
     "iopub.execute_input": "2023-09-12T03:46:22.726348Z",
     "iopub.status.busy": "2023-09-12T03:46:22.726255Z",
     "iopub.status.idle": "2023-09-12T03:46:22.802201Z",
     "shell.execute_reply": "2023-09-12T03:46:22.801914Z"
    },
    "papermill": {
     "duration": 0.085089,
     "end_time": "2023-09-12T03:46:22.803752",
     "exception": false,
     "start_time": "2023-09-12T03:46:22.718663",
     "status": "completed"
    },
    "tags": []
   },
   "outputs": [
    {
     "data": {
      "text/plain": [
       "(2545332, 9)"
      ]
     },
     "metadata": {},
     "output_type": "display_data"
    }
   ],
   "source": [
    "gene_pair_cats[\"all_low\"] = df_plot[\n",
    "    df_plot[\"Clustermatch (low)\"] & df_plot[\"Spearman (low)\"] & df_plot[\"Pearson (low)\"]\n",
    "]\n",
    "display(gene_pair_cats[\"all_low\"].shape)"
   ]
  },
  {
   "cell_type": "code",
   "execution_count": 14,
   "id": "edf88fd5-11ea-493a-9c94-fe40df8bb475",
   "metadata": {
    "execution": {
     "iopub.execute_input": "2023-09-12T03:46:22.821854Z",
     "iopub.status.busy": "2023-09-12T03:46:22.821777Z",
     "iopub.status.idle": "2023-09-12T03:46:22.836584Z",
     "shell.execute_reply": "2023-09-12T03:46:22.836293Z"
    },
    "papermill": {
     "duration": 0.02535,
     "end_time": "2023-09-12T03:46:22.837895",
     "exception": false,
     "start_time": "2023-09-12T03:46:22.812545",
     "status": "completed"
    },
    "tags": []
   },
   "outputs": [
    {
     "data": {
      "text/plain": [
       "(9748, 9)"
      ]
     },
     "metadata": {},
     "output_type": "display_data"
    }
   ],
   "source": [
    "gene_pair_cats[\"ccc_spearman_high_and_pearson_low\"] = df_plot[\n",
    "    df_plot[\"Clustermatch (high)\"]\n",
    "    & df_plot[\"Spearman (high)\"]\n",
    "    & df_plot[\"Pearson (low)\"]\n",
    "]\n",
    "display(gene_pair_cats[\"ccc_spearman_high_and_pearson_low\"].shape)"
   ]
  },
  {
   "cell_type": "code",
   "execution_count": 15,
   "id": "42b391d0-2ba4-408c-b944-2ca0fdb67ca9",
   "metadata": {
    "execution": {
     "iopub.execute_input": "2023-09-12T03:46:22.855705Z",
     "iopub.status.busy": "2023-09-12T03:46:22.855626Z",
     "iopub.status.idle": "2023-09-12T03:46:22.877730Z",
     "shell.execute_reply": "2023-09-12T03:46:22.877378Z"
    },
    "papermill": {
     "duration": 0.032403,
     "end_time": "2023-09-12T03:46:22.879067",
     "exception": false,
     "start_time": "2023-09-12T03:46:22.846664",
     "status": "completed"
    },
    "tags": []
   },
   "outputs": [
    {
     "data": {
      "text/plain": [
       "(20951, 9)"
      ]
     },
     "metadata": {},
     "output_type": "display_data"
    }
   ],
   "source": [
    "gene_pair_cats[\"ccc_high_and_pearson_low\"] = df_plot[\n",
    "    df_plot[\"Clustermatch (high)\"]\n",
    "    & (~df_plot[\"Spearman (high)\"])\n",
    "    & (~df_plot[\"Spearman (low)\"])\n",
    "    & df_plot[\"Pearson (low)\"]\n",
    "]\n",
    "display(gene_pair_cats[\"ccc_high_and_pearson_low\"].shape)"
   ]
  },
  {
   "cell_type": "code",
   "execution_count": 16,
   "id": "433d5ab5-8f07-4c94-8ba4-87e196e29446",
   "metadata": {
    "execution": {
     "iopub.execute_input": "2023-09-12T03:46:22.897506Z",
     "iopub.status.busy": "2023-09-12T03:46:22.897426Z",
     "iopub.status.idle": "2023-09-12T03:46:22.916495Z",
     "shell.execute_reply": "2023-09-12T03:46:22.916198Z"
    },
    "papermill": {
     "duration": 0.029777,
     "end_time": "2023-09-12T03:46:22.917704",
     "exception": false,
     "start_time": "2023-09-12T03:46:22.887927",
     "status": "completed"
    },
    "tags": []
   },
   "outputs": [
    {
     "data": {
      "text/plain": [
       "(28, 9)"
      ]
     },
     "metadata": {},
     "output_type": "display_data"
    }
   ],
   "source": [
    "gene_pair_cats[\"ccc_high_and_spearman_low\"] = df_plot[\n",
    "    df_plot[\"Clustermatch (high)\"]\n",
    "    & df_plot[\"Spearman (low)\"]\n",
    "    & (~df_plot[\"Pearson (low)\"])\n",
    "    & (~df_plot[\"Pearson (high)\"])\n",
    "]\n",
    "display(gene_pair_cats[\"ccc_high_and_spearman_low\"].shape)"
   ]
  },
  {
   "cell_type": "code",
   "execution_count": 17,
   "id": "dd31ba44-c026-48ef-b7fe-ece7299e5e50",
   "metadata": {
    "execution": {
     "iopub.execute_input": "2023-09-12T03:46:22.933368Z",
     "iopub.status.busy": "2023-09-12T03:46:22.933287Z",
     "iopub.status.idle": "2023-09-12T03:46:22.946778Z",
     "shell.execute_reply": "2023-09-12T03:46:22.946481Z"
    },
    "papermill": {
     "duration": 0.022655,
     "end_time": "2023-09-12T03:46:22.948086",
     "exception": false,
     "start_time": "2023-09-12T03:46:22.925431",
     "status": "completed"
    },
    "tags": []
   },
   "outputs": [
    {
     "data": {
      "text/plain": [
       "(8, 9)"
      ]
     },
     "metadata": {},
     "output_type": "display_data"
    }
   ],
   "source": [
    "gene_pair_cats[\"ccc_high_and_spearman_pearson_low\"] = df_plot[\n",
    "    df_plot[\"Clustermatch (high)\"]\n",
    "    & df_plot[\"Spearman (low)\"]\n",
    "    & df_plot[\"Pearson (low)\"]\n",
    "]\n",
    "display(gene_pair_cats[\"ccc_high_and_spearman_pearson_low\"].shape)"
   ]
  },
  {
   "cell_type": "code",
   "execution_count": 18,
   "id": "45166ee1-98a2-44db-bfa4-1a414a081300",
   "metadata": {
    "execution": {
     "iopub.execute_input": "2023-09-12T03:46:22.964688Z",
     "iopub.status.busy": "2023-09-12T03:46:22.964610Z",
     "iopub.status.idle": "2023-09-12T03:46:22.984628Z",
     "shell.execute_reply": "2023-09-12T03:46:22.984307Z"
    },
    "papermill": {
     "duration": 0.029973,
     "end_time": "2023-09-12T03:46:22.985869",
     "exception": false,
     "start_time": "2023-09-12T03:46:22.955896",
     "status": "completed"
    },
    "tags": []
   },
   "outputs": [
    {
     "data": {
      "text/plain": [
       "(1075, 9)"
      ]
     },
     "metadata": {},
     "output_type": "display_data"
    }
   ],
   "source": [
    "gene_pair_cats[\"pearson_high_and_ccc_low\"] = df_plot[\n",
    "    df_plot[\"Clustermatch (low)\"]\n",
    "    & (~df_plot[\"Spearman (low)\"])\n",
    "    & (~df_plot[\"Spearman (high)\"])\n",
    "    & df_plot[\"Pearson (high)\"]\n",
    "]\n",
    "display(gene_pair_cats[\"pearson_high_and_ccc_low\"].shape)"
   ]
  },
  {
   "cell_type": "code",
   "execution_count": 19,
   "id": "d21c075a-d8c8-4e9f-aa2b-c6d2cf22e0ad",
   "metadata": {
    "execution": {
     "iopub.execute_input": "2023-09-12T03:46:23.001896Z",
     "iopub.status.busy": "2023-09-12T03:46:23.001813Z",
     "iopub.status.idle": "2023-09-12T03:46:23.015589Z",
     "shell.execute_reply": "2023-09-12T03:46:23.015297Z"
    },
    "papermill": {
     "duration": 0.0231,
     "end_time": "2023-09-12T03:46:23.016833",
     "exception": false,
     "start_time": "2023-09-12T03:46:22.993733",
     "status": "completed"
    },
    "tags": []
   },
   "outputs": [
    {
     "data": {
      "text/plain": [
       "(531, 9)"
      ]
     },
     "metadata": {},
     "output_type": "display_data"
    }
   ],
   "source": [
    "gene_pair_cats[\"pearson_high_and_ccc_spearman_low\"] = df_plot[\n",
    "    df_plot[\"Clustermatch (low)\"]\n",
    "    & df_plot[\"Spearman (low)\"]\n",
    "    & df_plot[\"Pearson (high)\"]\n",
    "]\n",
    "display(gene_pair_cats[\"pearson_high_and_ccc_spearman_low\"].shape)"
   ]
  },
  {
   "cell_type": "code",
   "execution_count": 20,
   "id": "a001c630-1ba1-4001-8abb-643556e07502",
   "metadata": {
    "execution": {
     "iopub.execute_input": "2023-09-12T03:46:23.033262Z",
     "iopub.status.busy": "2023-09-12T03:46:23.033184Z",
     "iopub.status.idle": "2023-09-12T03:46:23.035094Z",
     "shell.execute_reply": "2023-09-12T03:46:23.034835Z"
    },
    "papermill": {
     "duration": 0.011512,
     "end_time": "2023-09-12T03:46:23.036284",
     "exception": false,
     "start_time": "2023-09-12T03:46:23.024772",
     "status": "completed"
    },
    "tags": []
   },
   "outputs": [],
   "source": [
    "assert len(gene_pair_cats) == 8"
   ]
  },
  {
   "cell_type": "markdown",
   "id": "fcde3368-e994-4cae-b905-9b6ebccb58a4",
   "metadata": {
    "papermill": {
     "duration": 0.004205,
     "end_time": "2023-09-12T03:46:23.073005",
     "exception": false,
     "start_time": "2023-09-12T03:46:23.068800",
     "status": "completed"
    },
    "tags": []
   },
   "source": [
    "# Sample gene pairs"
   ]
  },
  {
   "cell_type": "code",
   "execution_count": 21,
   "id": "4bba8586-0ffb-48ee-9261-ff96551d43f0",
   "metadata": {
    "execution": {
     "iopub.execute_input": "2023-09-12T03:46:23.081973Z",
     "iopub.status.busy": "2023-09-12T03:46:23.081897Z",
     "iopub.status.idle": "2023-09-12T03:46:23.218854Z",
     "shell.execute_reply": "2023-09-12T03:46:23.218567Z"
    },
    "papermill": {
     "duration": 0.143261,
     "end_time": "2023-09-12T03:46:23.220691",
     "exception": false,
     "start_time": "2023-09-12T03:46:23.077430",
     "status": "completed"
    },
    "tags": []
   },
   "outputs": [
    {
     "data": {
      "text/plain": [
       "'all_high: (100, 9)'"
      ]
     },
     "metadata": {},
     "output_type": "display_data"
    },
    {
     "data": {
      "text/plain": [
       "'all_low: (100, 9)'"
      ]
     },
     "metadata": {},
     "output_type": "display_data"
    },
    {
     "data": {
      "text/plain": [
       "'ccc_spearman_high_and_pearson_low: (100, 9)'"
      ]
     },
     "metadata": {},
     "output_type": "display_data"
    },
    {
     "data": {
      "text/plain": [
       "'ccc_high_and_pearson_low: (100, 9)'"
      ]
     },
     "metadata": {},
     "output_type": "display_data"
    },
    {
     "data": {
      "text/plain": [
       "'ccc_high_and_spearman_low: (28, 9)'"
      ]
     },
     "metadata": {},
     "output_type": "display_data"
    },
    {
     "data": {
      "text/plain": [
       "'ccc_high_and_spearman_pearson_low: (8, 9)'"
      ]
     },
     "metadata": {},
     "output_type": "display_data"
    },
    {
     "data": {
      "text/plain": [
       "'pearson_high_and_ccc_low: (100, 9)'"
      ]
     },
     "metadata": {},
     "output_type": "display_data"
    },
    {
     "data": {
      "text/plain": [
       "'pearson_high_and_ccc_spearman_low: (100, 9)'"
      ]
     },
     "metadata": {},
     "output_type": "display_data"
    }
   ],
   "source": [
    "gene_pair_samples = {}\n",
    "\n",
    "for k, v in gene_pair_cats.items():\n",
    "    # sample at most 100 gene pairs\n",
    "    df = gene_pair_cats[k]\n",
    "    n = min(100, df.shape[0])\n",
    "    sample_n = df.sample(n=n, replace=False, random_state=RANDOM_STATE)\n",
    "    # sample_fraq = gene_pair_cats[k].sample(fraq=replace=False)\n",
    "\n",
    "    gene_pair_samples[k] = sample_n\n",
    "\n",
    "    display(f\"{k}: {gene_pair_samples[k].shape}\")"
   ]
  },
  {
   "cell_type": "markdown",
   "id": "93bc3462-2328-432c-a25a-e17cfa36a3cc",
   "metadata": {
    "papermill": {
     "duration": 0.010341,
     "end_time": "2023-09-12T03:46:23.239612",
     "exception": false,
     "start_time": "2023-09-12T03:46:23.229271",
     "status": "completed"
    },
    "tags": []
   },
   "source": [
    "# Include gene pairs mentioned in the paper"
   ]
  },
  {
   "cell_type": "code",
   "execution_count": 22,
   "id": "c4410546-9a92-42d0-81f0-d601ef8fa745",
   "metadata": {
    "execution": {
     "iopub.execute_input": "2023-09-12T03:46:23.257644Z",
     "iopub.status.busy": "2023-09-12T03:46:23.257552Z",
     "iopub.status.idle": "2023-09-12T03:46:23.260105Z",
     "shell.execute_reply": "2023-09-12T03:46:23.259853Z"
    },
    "papermill": {
     "duration": 0.012721,
     "end_time": "2023-09-12T03:46:23.261298",
     "exception": false,
     "start_time": "2023-09-12T03:46:23.248577",
     "status": "completed"
    },
    "tags": []
   },
   "outputs": [],
   "source": [
    "selected_gene_pairs = [\n",
    "    # ('SDS', 'IFNG')\n",
    "    (\"ENSG00000135094.10\", \"ENSG00000111537.4\"),\n",
    "    # ('APOC1', 'JUN')\n",
    "    (\"ENSG00000130208.9\", \"ENSG00000177606.6\"),\n",
    "    # ('CCL18', 'ZDHHC12')\n",
    "    (\"ENSG00000275385.1\", \"ENSG00000160446.18\"),\n",
    "    # ('KDM6A', 'UTY')\n",
    "    (\"ENSG00000147050.14\", \"ENSG00000183878.15\"),\n",
    "    # ('CYTIP', 'RASSF2')\n",
    "    (\"ENSG00000115165.9\", \"ENSG00000101265.15\"),\n",
    "    # ('KLHL21', 'AC068580.6')\n",
    "    (\"ENSG00000162413.16\", \"ENSG00000235027.1\"),\n",
    "    # ('TNNI2', 'MYOZ1')\n",
    "    (\"ENSG00000130598.15\", \"ENSG00000177791.11\"),\n",
    "    # ('TPM2', 'PYGM')\n",
    "    (\"ENSG00000198467.13\", \"ENSG00000068976.13\"),\n",
    "]"
   ]
  },
  {
   "cell_type": "code",
   "execution_count": 23,
   "id": "ae6c1652-38ca-4cf6-938f-76533e075512",
   "metadata": {
    "execution": {
     "iopub.execute_input": "2023-09-12T03:46:23.278960Z",
     "iopub.status.busy": "2023-09-12T03:46:23.278873Z",
     "iopub.status.idle": "2023-09-12T03:46:24.577379Z",
     "shell.execute_reply": "2023-09-12T03:46:24.577025Z"
    },
    "papermill": {
     "duration": 1.308779,
     "end_time": "2023-09-12T03:46:24.578668",
     "exception": false,
     "start_time": "2023-09-12T03:46:23.269889",
     "status": "completed"
    },
    "tags": []
   },
   "outputs": [
    {
     "data": {
      "text/plain": [
       "(8, 9)"
      ]
     },
     "metadata": {},
     "output_type": "display_data"
    }
   ],
   "source": [
    "gene_pair_samples[\"selected_in_manuscript\"] = df_plot.loc[selected_gene_pairs]\n",
    "display(gene_pair_samples[\"selected_in_manuscript\"].shape)"
   ]
  },
  {
   "cell_type": "code",
   "execution_count": 24,
   "id": "da6d6dd2-59e6-417e-a42c-d7fbba3ba2dc",
   "metadata": {
    "execution": {
     "iopub.execute_input": "2023-09-12T03:46:24.598680Z",
     "iopub.status.busy": "2023-09-12T03:46:24.598587Z",
     "iopub.status.idle": "2023-09-12T03:46:24.605363Z",
     "shell.execute_reply": "2023-09-12T03:46:24.605112Z"
    },
    "papermill": {
     "duration": 0.019393,
     "end_time": "2023-09-12T03:46:24.606974",
     "exception": false,
     "start_time": "2023-09-12T03:46:24.587581",
     "status": "completed"
    },
    "tags": []
   },
   "outputs": [
    {
     "data": {
      "text/html": [
       "<div>\n",
       "<style scoped>\n",
       "    .dataframe tbody tr th:only-of-type {\n",
       "        vertical-align: middle;\n",
       "    }\n",
       "\n",
       "    .dataframe tbody tr th {\n",
       "        vertical-align: top;\n",
       "    }\n",
       "\n",
       "    .dataframe thead th {\n",
       "        text-align: right;\n",
       "    }\n",
       "</style>\n",
       "<table border=\"1\" class=\"dataframe\">\n",
       "  <thead>\n",
       "    <tr style=\"text-align: right;\">\n",
       "      <th></th>\n",
       "      <th></th>\n",
       "      <th>Pearson (high)</th>\n",
       "      <th>Pearson (low)</th>\n",
       "      <th>Spearman (high)</th>\n",
       "      <th>Spearman (low)</th>\n",
       "      <th>Clustermatch (high)</th>\n",
       "      <th>Clustermatch (low)</th>\n",
       "      <th>ccc</th>\n",
       "      <th>pearson</th>\n",
       "      <th>spearman</th>\n",
       "    </tr>\n",
       "  </thead>\n",
       "  <tbody>\n",
       "    <tr>\n",
       "      <th>ENSG00000135094.10</th>\n",
       "      <th>ENSG00000111537.4</th>\n",
       "      <td>False</td>\n",
       "      <td>True</td>\n",
       "      <td>True</td>\n",
       "      <td>False</td>\n",
       "      <td>True</td>\n",
       "      <td>False</td>\n",
       "      <td>0.706993</td>\n",
       "      <td>0.090451</td>\n",
       "      <td>0.765177</td>\n",
       "    </tr>\n",
       "    <tr>\n",
       "      <th>ENSG00000130208.9</th>\n",
       "      <th>ENSG00000177606.6</th>\n",
       "      <td>False</td>\n",
       "      <td>True</td>\n",
       "      <td>True</td>\n",
       "      <td>False</td>\n",
       "      <td>True</td>\n",
       "      <td>False</td>\n",
       "      <td>0.612233</td>\n",
       "      <td>0.084623</td>\n",
       "      <td>0.748265</td>\n",
       "    </tr>\n",
       "    <tr>\n",
       "      <th>ENSG00000275385.1</th>\n",
       "      <th>ENSG00000160446.18</th>\n",
       "      <td>False</td>\n",
       "      <td>True</td>\n",
       "      <td>False</td>\n",
       "      <td>False</td>\n",
       "      <td>True</td>\n",
       "      <td>False</td>\n",
       "      <td>0.446659</td>\n",
       "      <td>0.099853</td>\n",
       "      <td>0.560171</td>\n",
       "    </tr>\n",
       "    <tr>\n",
       "      <th>ENSG00000147050.14</th>\n",
       "      <th>ENSG00000183878.15</th>\n",
       "      <td>False</td>\n",
       "      <td>False</td>\n",
       "      <td>False</td>\n",
       "      <td>True</td>\n",
       "      <td>True</td>\n",
       "      <td>False</td>\n",
       "      <td>0.294391</td>\n",
       "      <td>0.239870</td>\n",
       "      <td>0.100621</td>\n",
       "    </tr>\n",
       "    <tr>\n",
       "      <th>ENSG00000115165.9</th>\n",
       "      <th>ENSG00000101265.15</th>\n",
       "      <td>False</td>\n",
       "      <td>False</td>\n",
       "      <td>False</td>\n",
       "      <td>True</td>\n",
       "      <td>True</td>\n",
       "      <td>False</td>\n",
       "      <td>0.201962</td>\n",
       "      <td>0.156060</td>\n",
       "      <td>0.107882</td>\n",
       "    </tr>\n",
       "    <tr>\n",
       "      <th>ENSG00000162413.16</th>\n",
       "      <th>ENSG00000235027.1</th>\n",
       "      <td>False</td>\n",
       "      <td>True</td>\n",
       "      <td>False</td>\n",
       "      <td>True</td>\n",
       "      <td>True</td>\n",
       "      <td>False</td>\n",
       "      <td>0.184217</td>\n",
       "      <td>0.062875</td>\n",
       "      <td>0.186421</td>\n",
       "    </tr>\n",
       "    <tr>\n",
       "      <th>ENSG00000130598.15</th>\n",
       "      <th>ENSG00000177791.11</th>\n",
       "      <td>True</td>\n",
       "      <td>False</td>\n",
       "      <td>False</td>\n",
       "      <td>False</td>\n",
       "      <td>False</td>\n",
       "      <td>True</td>\n",
       "      <td>0.034593</td>\n",
       "      <td>0.967834</td>\n",
       "      <td>0.284206</td>\n",
       "    </tr>\n",
       "    <tr>\n",
       "      <th>ENSG00000198467.13</th>\n",
       "      <th>ENSG00000068976.13</th>\n",
       "      <td>True</td>\n",
       "      <td>False</td>\n",
       "      <td>False</td>\n",
       "      <td>True</td>\n",
       "      <td>False</td>\n",
       "      <td>True</td>\n",
       "      <td>0.034912</td>\n",
       "      <td>0.944430</td>\n",
       "      <td>0.029852</td>\n",
       "    </tr>\n",
       "  </tbody>\n",
       "</table>\n",
       "</div>"
      ],
      "text/plain": [
       "                                       Pearson (high)  Pearson (low)  \\\n",
       "ENSG00000135094.10 ENSG00000111537.4            False           True   \n",
       "ENSG00000130208.9  ENSG00000177606.6            False           True   \n",
       "ENSG00000275385.1  ENSG00000160446.18           False           True   \n",
       "ENSG00000147050.14 ENSG00000183878.15           False          False   \n",
       "ENSG00000115165.9  ENSG00000101265.15           False          False   \n",
       "ENSG00000162413.16 ENSG00000235027.1            False           True   \n",
       "ENSG00000130598.15 ENSG00000177791.11            True          False   \n",
       "ENSG00000198467.13 ENSG00000068976.13            True          False   \n",
       "\n",
       "                                       Spearman (high)  Spearman (low)  \\\n",
       "ENSG00000135094.10 ENSG00000111537.4              True           False   \n",
       "ENSG00000130208.9  ENSG00000177606.6              True           False   \n",
       "ENSG00000275385.1  ENSG00000160446.18            False           False   \n",
       "ENSG00000147050.14 ENSG00000183878.15            False            True   \n",
       "ENSG00000115165.9  ENSG00000101265.15            False            True   \n",
       "ENSG00000162413.16 ENSG00000235027.1             False            True   \n",
       "ENSG00000130598.15 ENSG00000177791.11            False           False   \n",
       "ENSG00000198467.13 ENSG00000068976.13            False            True   \n",
       "\n",
       "                                       Clustermatch (high)  \\\n",
       "ENSG00000135094.10 ENSG00000111537.4                  True   \n",
       "ENSG00000130208.9  ENSG00000177606.6                  True   \n",
       "ENSG00000275385.1  ENSG00000160446.18                 True   \n",
       "ENSG00000147050.14 ENSG00000183878.15                 True   \n",
       "ENSG00000115165.9  ENSG00000101265.15                 True   \n",
       "ENSG00000162413.16 ENSG00000235027.1                  True   \n",
       "ENSG00000130598.15 ENSG00000177791.11                False   \n",
       "ENSG00000198467.13 ENSG00000068976.13                False   \n",
       "\n",
       "                                       Clustermatch (low)       ccc   pearson  \\\n",
       "ENSG00000135094.10 ENSG00000111537.4                False  0.706993  0.090451   \n",
       "ENSG00000130208.9  ENSG00000177606.6                False  0.612233  0.084623   \n",
       "ENSG00000275385.1  ENSG00000160446.18               False  0.446659  0.099853   \n",
       "ENSG00000147050.14 ENSG00000183878.15               False  0.294391  0.239870   \n",
       "ENSG00000115165.9  ENSG00000101265.15               False  0.201962  0.156060   \n",
       "ENSG00000162413.16 ENSG00000235027.1                False  0.184217  0.062875   \n",
       "ENSG00000130598.15 ENSG00000177791.11                True  0.034593  0.967834   \n",
       "ENSG00000198467.13 ENSG00000068976.13                True  0.034912  0.944430   \n",
       "\n",
       "                                       spearman  \n",
       "ENSG00000135094.10 ENSG00000111537.4   0.765177  \n",
       "ENSG00000130208.9  ENSG00000177606.6   0.748265  \n",
       "ENSG00000275385.1  ENSG00000160446.18  0.560171  \n",
       "ENSG00000147050.14 ENSG00000183878.15  0.100621  \n",
       "ENSG00000115165.9  ENSG00000101265.15  0.107882  \n",
       "ENSG00000162413.16 ENSG00000235027.1   0.186421  \n",
       "ENSG00000130598.15 ENSG00000177791.11  0.284206  \n",
       "ENSG00000198467.13 ENSG00000068976.13  0.029852  "
      ]
     },
     "execution_count": 24,
     "metadata": {},
     "output_type": "execute_result"
    }
   ],
   "source": [
    "gene_pair_samples[\"selected_in_manuscript\"]"
   ]
  },
  {
   "cell_type": "markdown",
   "id": "c15b6534-bd10-4091-a33d-e924a883cd93",
   "metadata": {
    "papermill": {
     "duration": 0.009228,
     "end_time": "2023-09-12T03:46:24.625227",
     "exception": false,
     "start_time": "2023-09-12T03:46:24.615999",
     "status": "completed"
    },
    "tags": []
   },
   "source": [
    "# Save"
   ]
  },
  {
   "cell_type": "code",
   "execution_count": 25,
   "id": "62d8632e-13e0-4a78-ad30-26770172d21e",
   "metadata": {
    "execution": {
     "iopub.execute_input": "2023-09-12T03:46:24.643500Z",
     "iopub.status.busy": "2023-09-12T03:46:24.643373Z",
     "iopub.status.idle": "2023-09-12T03:46:24.645353Z",
     "shell.execute_reply": "2023-09-12T03:46:24.645101Z"
    },
    "papermill": {
     "duration": 0.012434,
     "end_time": "2023-09-12T03:46:24.646574",
     "exception": false,
     "start_time": "2023-09-12T03:46:24.634140",
     "status": "completed"
    },
    "tags": []
   },
   "outputs": [],
   "source": [
    "output_file = OUTPUT_DIR / \"gene_pair-samples.pkl\""
   ]
  },
  {
   "cell_type": "code",
   "execution_count": 26,
   "id": "bb8e28d4-3adf-4d6a-a94e-81b6763ebd61",
   "metadata": {
    "execution": {
     "iopub.execute_input": "2023-09-12T03:46:24.665126Z",
     "iopub.status.busy": "2023-09-12T03:46:24.664957Z",
     "iopub.status.idle": "2023-09-12T03:46:24.669079Z",
     "shell.execute_reply": "2023-09-12T03:46:24.668730Z"
    },
    "papermill": {
     "duration": 0.014628,
     "end_time": "2023-09-12T03:46:24.670345",
     "exception": false,
     "start_time": "2023-09-12T03:46:24.655717",
     "status": "completed"
    },
    "tags": []
   },
   "outputs": [],
   "source": [
    "pd.to_pickle(gene_pair_samples, output_file)"
   ]
  },
  {
   "cell_type": "code",
   "execution_count": null,
   "id": "46cff789-6c90-42c5-9328-21ee7bd70851",
   "metadata": {
    "papermill": {
     "duration": 0.008088,
     "end_time": "2023-09-12T03:46:24.687331",
     "exception": false,
     "start_time": "2023-09-12T03:46:24.679243",
     "status": "completed"
    },
    "tags": []
   },
   "outputs": [],
   "source": []
  }
 ],
 "metadata": {
  "jupytext": {
   "cell_metadata_filter": "all,-execution,-papermill,-trusted",
   "notebook_metadata_filter": "-jupytext.text_representation.jupytext_version"
  },
  "kernelspec": {
   "display_name": "Python 3 (ipykernel)",
   "language": "python",
   "name": "python3"
  },
  "language_info": {
   "codemirror_mode": {
    "name": "ipython",
    "version": 3
   },
   "file_extension": ".py",
   "mimetype": "text/x-python",
   "name": "python",
   "nbconvert_exporter": "python",
   "pygments_lexer": "ipython3",
   "version": "3.9.12"
  },
  "papermill": {
   "default_parameters": {},
   "duration": 4.287289,
   "end_time": "2023-09-12T03:46:25.006417",
   "environment_variables": {},
   "exception": null,
   "input_path": "nbs/25_pvalue/10-sample_gene_pair_categories.ipynb",
   "output_path": "nbs/25_pvalue/10-sample_gene_pair_categories.run.ipynb",
   "parameters": {},
   "start_time": "2023-09-12T03:46:20.719128",
   "version": "2.3.4"
  }
 },
 "nbformat": 4,
 "nbformat_minor": 5
}
