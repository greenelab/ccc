{
 "cells": [
  {
   "cell_type": "markdown",
   "id": "ec52faa3-656f-483e-9617-d7ec0f7d818c",
   "metadata": {
    "papermill": {
     "duration": 0.006527,
     "end_time": "2023-09-13T17:57:22.763376",
     "exception": false,
     "start_time": "2023-09-13T17:57:22.756849",
     "status": "completed"
    },
    "tags": []
   },
   "source": [
    "# Description"
   ]
  },
  {
   "cell_type": "markdown",
   "id": "51102f42-fcd9-4a58-9c8d-dfcd3d2d464e",
   "metadata": {
    "papermill": {
     "duration": 0.001529,
     "end_time": "2023-09-13T17:57:22.766681",
     "exception": false,
     "start_time": "2023-09-13T17:57:22.765152",
     "status": "completed"
    },
    "tags": []
   },
   "source": [
    "Generates plots of the CCC pvalues from the null distribution."
   ]
  },
  {
   "cell_type": "markdown",
   "id": "7006ceeb-2651-407d-bfa1-1039727649ef",
   "metadata": {
    "papermill": {
     "duration": 0.001584,
     "end_time": "2023-09-13T17:57:22.770002",
     "exception": false,
     "start_time": "2023-09-13T17:57:22.768418",
     "status": "completed"
    },
    "tags": []
   },
   "source": [
    "# Modules loading"
   ]
  },
  {
   "cell_type": "code",
   "execution_count": 1,
   "id": "1ffa1a96-7545-40b9-ac8b-8627e13de8d4",
   "metadata": {
    "execution": {
     "iopub.execute_input": "2023-09-13T17:57:22.773811Z",
     "iopub.status.busy": "2023-09-13T17:57:22.773674Z",
     "iopub.status.idle": "2023-09-13T17:57:23.060739Z",
     "shell.execute_reply": "2023-09-13T17:57:23.060474Z"
    },
    "papermill": {
     "duration": 0.290018,
     "end_time": "2023-09-13T17:57:23.061611",
     "exception": false,
     "start_time": "2023-09-13T17:57:22.771593",
     "status": "completed"
    },
    "tags": []
   },
   "outputs": [],
   "source": [
    "import numpy as np\n",
    "import matplotlib.pyplot as plt\n",
    "import seaborn as sns\n",
    "from scipy import stats\n",
    "\n",
    "from ccc import conf"
   ]
  },
  {
   "cell_type": "markdown",
   "id": "0d3cc810-4b17-4213-8f03-6fe7e97a0fe3",
   "metadata": {
    "papermill": {
     "duration": 0.009514,
     "end_time": "2023-09-13T17:57:23.073009",
     "exception": false,
     "start_time": "2023-09-13T17:57:23.063495",
     "status": "completed"
    },
    "tags": []
   },
   "source": [
    "# Settings"
   ]
  },
  {
   "cell_type": "code",
   "execution_count": null,
   "id": "9a154623-c787-4a31-871a-cad173f0eb9f",
   "metadata": {
    "papermill": {
     "duration": 0.001595,
     "end_time": "2023-09-13T17:57:23.077211",
     "exception": false,
     "start_time": "2023-09-13T17:57:23.075616",
     "status": "completed"
    },
    "tags": []
   },
   "outputs": [],
   "source": []
  },
  {
   "cell_type": "markdown",
   "id": "5b09ff83-5377-49a9-b24b-65c6c90277d6",
   "metadata": {
    "papermill": {
     "duration": 0.001536,
     "end_time": "2023-09-13T17:57:23.080455",
     "exception": false,
     "start_time": "2023-09-13T17:57:23.078919",
     "status": "completed"
    },
    "tags": []
   },
   "source": [
    "# Paths"
   ]
  },
  {
   "cell_type": "code",
   "execution_count": 2,
   "id": "0122253c-99c0-41e2-8807-60df86bf0619",
   "metadata": {
    "execution": {
     "iopub.execute_input": "2023-09-13T17:57:23.084780Z",
     "iopub.status.busy": "2023-09-13T17:57:23.084678Z",
     "iopub.status.idle": "2023-09-13T17:57:23.086474Z",
     "shell.execute_reply": "2023-09-13T17:57:23.086315Z"
    },
    "papermill": {
     "duration": 0.004999,
     "end_time": "2023-09-13T17:57:23.087153",
     "exception": false,
     "start_time": "2023-09-13T17:57:23.082154",
     "status": "completed"
    },
    "tags": []
   },
   "outputs": [],
   "source": [
    "OUTPUT_DIR = conf.RESULTS_DIR / \"ccc_null-pvalues\"\n",
    "OUTPUT_DIR.mkdir(parents=True, exist_ok=True)"
   ]
  },
  {
   "cell_type": "code",
   "execution_count": 3,
   "id": "3003ed2c-5da0-43b9-969d-9cf037d05730",
   "metadata": {
    "execution": {
     "iopub.execute_input": "2023-09-13T17:57:23.091031Z",
     "iopub.status.busy": "2023-09-13T17:57:23.090912Z",
     "iopub.status.idle": "2023-09-13T17:57:23.093041Z",
     "shell.execute_reply": "2023-09-13T17:57:23.092914Z"
    },
    "papermill": {
     "duration": 0.004646,
     "end_time": "2023-09-13T17:57:23.093557",
     "exception": false,
     "start_time": "2023-09-13T17:57:23.088911",
     "status": "completed"
    },
    "tags": []
   },
   "outputs": [
    {
     "data": {
      "text/plain": [
       "PosixPath('/opt/data/results/ccc_null-pvalues')"
      ]
     },
     "execution_count": 3,
     "metadata": {},
     "output_type": "execute_result"
    }
   ],
   "source": [
    "OUTPUT_DIR"
   ]
  },
  {
   "cell_type": "markdown",
   "id": "6b593ccb-bce7-4a6b-818f-79d5378d4610",
   "metadata": {
    "papermill": {
     "duration": 0.001621,
     "end_time": "2023-09-13T17:57:23.097009",
     "exception": false,
     "start_time": "2023-09-13T17:57:23.095388",
     "status": "completed"
    },
    "tags": []
   },
   "source": [
    "# From data matrix"
   ]
  },
  {
   "cell_type": "markdown",
   "id": "28a9cae2-a67c-4d72-ba40-75732b6867f4",
   "metadata": {
    "papermill": {
     "duration": 0.00177,
     "end_time": "2023-09-13T17:57:23.100501",
     "exception": false,
     "start_time": "2023-09-13T17:57:23.098731",
     "status": "completed"
    },
    "tags": []
   },
   "source": [
    "## Load CCC values and pvalues"
   ]
  },
  {
   "cell_type": "code",
   "execution_count": 4,
   "id": "472ff1df-b4f6-417f-b396-58a55ce0e39a",
   "metadata": {
    "execution": {
     "iopub.execute_input": "2023-09-13T17:57:23.104285Z",
     "iopub.status.busy": "2023-09-13T17:57:23.104187Z",
     "iopub.status.idle": "2023-09-13T17:57:23.106068Z",
     "shell.execute_reply": "2023-09-13T17:57:23.105945Z"
    },
    "papermill": {
     "duration": 0.004513,
     "end_time": "2023-09-13T17:57:23.106701",
     "exception": false,
     "start_time": "2023-09-13T17:57:23.102188",
     "status": "completed"
    },
    "tags": []
   },
   "outputs": [
    {
     "data": {
      "text/plain": [
       "(4950,)"
      ]
     },
     "metadata": {},
     "output_type": "display_data"
    }
   ],
   "source": [
    "output_file = OUTPUT_DIR / \"data_matrix-cm_values.npy\"\n",
    "cm_values = np.load(output_file)\n",
    "display(cm_values.shape)"
   ]
  },
  {
   "cell_type": "code",
   "execution_count": 5,
   "id": "3412010d-d281-4dfc-99de-61fc55f603cf",
   "metadata": {
    "execution": {
     "iopub.execute_input": "2023-09-13T17:57:23.110469Z",
     "iopub.status.busy": "2023-09-13T17:57:23.110362Z",
     "iopub.status.idle": "2023-09-13T17:57:23.112162Z",
     "shell.execute_reply": "2023-09-13T17:57:23.112037Z"
    },
    "papermill": {
     "duration": 0.00435,
     "end_time": "2023-09-13T17:57:23.112767",
     "exception": false,
     "start_time": "2023-09-13T17:57:23.108417",
     "status": "completed"
    },
    "tags": []
   },
   "outputs": [
    {
     "data": {
      "text/plain": [
       "(4950,)"
      ]
     },
     "metadata": {},
     "output_type": "display_data"
    }
   ],
   "source": [
    "output_file = OUTPUT_DIR / \"data_matrix-cm_pvalues.npy\"\n",
    "cm_pvalues = np.load(output_file)\n",
    "display(cm_pvalues.shape)"
   ]
  },
  {
   "cell_type": "code",
   "execution_count": 6,
   "id": "8448d17b",
   "metadata": {
    "execution": {
     "iopub.execute_input": "2023-09-13T17:57:23.116508Z",
     "iopub.status.busy": "2023-09-13T17:57:23.116396Z",
     "iopub.status.idle": "2023-09-13T17:57:23.117996Z",
     "shell.execute_reply": "2023-09-13T17:57:23.117862Z"
    },
    "papermill": {
     "duration": 0.00412,
     "end_time": "2023-09-13T17:57:23.118572",
     "exception": false,
     "start_time": "2023-09-13T17:57:23.114452",
     "status": "completed"
    },
    "tags": []
   },
   "outputs": [
    {
     "data": {
      "text/plain": [
       "0.00020197939810139365"
      ]
     },
     "metadata": {},
     "output_type": "display_data"
    }
   ],
   "source": [
    "n_perms = cm_pvalues.shape[0]\n",
    "min_pvalue_resolution = (0 + 1) / (n_perms + 1)\n",
    "display(min_pvalue_resolution)"
   ]
  },
  {
   "cell_type": "markdown",
   "id": "d25a59fa-a22b-41e0-84a3-74414ddaad23",
   "metadata": {
    "papermill": {
     "duration": 0.001658,
     "end_time": "2023-09-13T17:57:23.121983",
     "exception": false,
     "start_time": "2023-09-13T17:57:23.120325",
     "status": "completed"
    },
    "tags": []
   },
   "source": [
    "## Plots"
   ]
  },
  {
   "cell_type": "markdown",
   "id": "10af7dd1-d6d8-476b-9071-809fb3a1ba91",
   "metadata": {
    "papermill": {
     "duration": 0.001609,
     "end_time": "2023-09-13T17:57:23.125316",
     "exception": false,
     "start_time": "2023-09-13T17:57:23.123707",
     "status": "completed"
    },
    "tags": []
   },
   "source": [
    "### CCC values"
   ]
  },
  {
   "cell_type": "code",
   "execution_count": 7,
   "id": "615d9e99-d2d7-4cce-8517-32907a236b27",
   "metadata": {
    "execution": {
     "iopub.execute_input": "2023-09-13T17:57:23.129313Z",
     "iopub.status.busy": "2023-09-13T17:57:23.129158Z",
     "iopub.status.idle": "2023-09-13T17:57:23.175625Z",
     "shell.execute_reply": "2023-09-13T17:57:23.175335Z"
    },
    "papermill": {
     "duration": 0.049055,
     "end_time": "2023-09-13T17:57:23.176164",
     "exception": false,
     "start_time": "2023-09-13T17:57:23.127109",
     "status": "completed"
    },
    "tags": []
   },
   "outputs": [
    {
     "data": {
      "text/plain": [
       "Text(0, 0.5, 'Frequency')"
      ]
     },
     "execution_count": 7,
     "metadata": {},
     "output_type": "execute_result"
    },
    {
     "data": {
      "image/png": "[encoded data removed]",
      "text/plain": [
       "<Figure size 432x288 with 1 Axes>"
      ]
     },
     "metadata": {
      "needs_background": "light"
     },
     "output_type": "display_data"
    }
   ],
   "source": [
    "plt.hist(cm_values, bins=10, edgecolor=\"k\")  # Adjust the number of bins as needed\n",
    "plt.title(\"Distribution of Values\")\n",
    "plt.xlabel(\"Value\")\n",
    "plt.ylabel(\"Frequency\")"
   ]
  },
  {
   "cell_type": "code",
   "execution_count": 8,
   "id": "37a85073-a287-48e6-adc6-f86808f15111",
   "metadata": {
    "execution": {
     "iopub.execute_input": "2023-09-13T17:57:23.180684Z",
     "iopub.status.busy": "2023-09-13T17:57:23.180389Z",
     "iopub.status.idle": "2023-09-13T17:57:23.256540Z",
     "shell.execute_reply": "2023-09-13T17:57:23.256083Z"
    },
    "papermill": {
     "duration": 0.079066,
     "end_time": "2023-09-13T17:57:23.257150",
     "exception": false,
     "start_time": "2023-09-13T17:57:23.178084",
     "status": "completed"
    },
    "tags": []
   },
   "outputs": [
    {
     "data": {
      "text/plain": [
       "Text(0, 0.5, 'Density')"
      ]
     },
     "execution_count": 8,
     "metadata": {},
     "output_type": "execute_result"
    },
    {
     "data": {
      "image/png": "[encoded data removed]",
      "text/plain": [
       "<Figure size 432x288 with 1 Axes>"
      ]
     },
     "metadata": {
      "needs_background": "light"
     },
     "output_type": "display_data"
    }
   ],
   "source": [
    "sns.histplot(cm_values, kde=True, color=\"blue\")\n",
    "plt.title(\"Distribution of Values\")\n",
    "plt.xlabel(\"Value\")\n",
    "plt.ylabel(\"Density\")"
   ]
  },
  {
   "cell_type": "markdown",
   "id": "39d3353a-8ce9-41e0-8292-e78838eb827b",
   "metadata": {
    "papermill": {
     "duration": 0.001999,
     "end_time": "2023-09-13T17:57:23.261248",
     "exception": false,
     "start_time": "2023-09-13T17:57:23.259249",
     "status": "completed"
    },
    "tags": []
   },
   "source": [
    "### CCC p-values"
   ]
  },
  {
   "cell_type": "code",
   "execution_count": 9,
   "id": "7b1c54d4-d867-4fca-9681-c8ec4ebc0fd5",
   "metadata": {
    "execution": {
     "iopub.execute_input": "2023-09-13T17:57:23.265565Z",
     "iopub.status.busy": "2023-09-13T17:57:23.265477Z",
     "iopub.status.idle": "2023-09-13T17:57:23.326499Z",
     "shell.execute_reply": "2023-09-13T17:57:23.326099Z"
    },
    "papermill": {
     "duration": 0.064061,
     "end_time": "2023-09-13T17:57:23.327231",
     "exception": false,
     "start_time": "2023-09-13T17:57:23.263170",
     "status": "completed"
    },
    "tags": []
   },
   "outputs": [
    {
     "data": {
      "text/plain": [
       "Text(0, 0.5, 'Frequency')"
      ]
     },
     "execution_count": 9,
     "metadata": {},
     "output_type": "execute_result"
    },
    {
     "data": {
      "image/png": "[encoded data removed]",
      "text/plain": [
       "<Figure size 432x288 with 1 Axes>"
      ]
     },
     "metadata": {
      "needs_background": "light"
     },
     "output_type": "display_data"
    }
   ],
   "source": [
    "plt.hist(cm_pvalues, bins=10, edgecolor=\"k\")  # Adjust the number of bins as needed\n",
    "plt.title(\"Distribution of Values\")\n",
    "plt.xlabel(\"Value\")\n",
    "plt.ylabel(\"Frequency\")"
   ]
  },
  {
   "cell_type": "code",
   "execution_count": 10,
   "id": "69ed2dd4-1f3c-439d-9828-7143f7f3d9b3",
   "metadata": {
    "execution": {
     "iopub.execute_input": "2023-09-13T17:57:23.331954Z",
     "iopub.status.busy": "2023-09-13T17:57:23.331858Z",
     "iopub.status.idle": "2023-09-13T17:57:23.384503Z",
     "shell.execute_reply": "2023-09-13T17:57:23.384234Z"
    },
    "papermill": {
     "duration": 0.056056,
     "end_time": "2023-09-13T17:57:23.385392",
     "exception": false,
     "start_time": "2023-09-13T17:57:23.329336",
     "status": "completed"
    },
    "tags": []
   },
   "outputs": [
    {
     "data": {
      "text/plain": [
       "Text(0, 0.5, 'Density')"
      ]
     },
     "execution_count": 10,
     "metadata": {},
     "output_type": "execute_result"
    },
    {
     "data": {
      "image/png": "[encoded data removed]",
      "text/plain": [
       "<Figure size 432x288 with 1 Axes>"
      ]
     },
     "metadata": {
      "needs_background": "light"
     },
     "output_type": "display_data"
    }
   ],
   "source": [
    "sns.histplot(cm_pvalues, kde=True, color=\"blue\")\n",
    "plt.title(\"Distribution of Values\")\n",
    "plt.xlabel(\"Value\")\n",
    "plt.ylabel(\"Density\")"
   ]
  },
  {
   "cell_type": "code",
   "execution_count": 11,
   "id": "abf1ab0c-3528-4942-b6b0-f96c944f629c",
   "metadata": {
    "execution": {
     "iopub.execute_input": "2023-09-13T17:57:23.390985Z",
     "iopub.status.busy": "2023-09-13T17:57:23.390872Z",
     "iopub.status.idle": "2023-09-13T17:57:23.393680Z",
     "shell.execute_reply": "2023-09-13T17:57:23.393494Z"
    },
    "papermill": {
     "duration": 0.005932,
     "end_time": "2023-09-13T17:57:23.394097",
     "exception": false,
     "start_time": "2023-09-13T17:57:23.388165",
     "status": "completed"
    },
    "tags": []
   },
   "outputs": [
    {
     "data": {
      "text/plain": [
       "KstestResult(statistic=0.014209023299932344, pvalue=0.26779906934729125)"
      ]
     },
     "execution_count": 11,
     "metadata": {},
     "output_type": "execute_result"
    }
   ],
   "source": [
    "stats.kstest(\n",
    "    cm_pvalues,\n",
    "    stats.uniform.cdf,\n",
    "    args=(min_pvalue_resolution, 1 - min_pvalue_resolution),\n",
    ")"
   ]
  },
  {
   "cell_type": "markdown",
   "id": "63503038-ad7b-44cb-9fff-00e817d0bf2e",
   "metadata": {
    "papermill": {
     "duration": 0.002221,
     "end_time": "2023-09-13T17:57:23.398448",
     "exception": false,
     "start_time": "2023-09-13T17:57:23.396227",
     "status": "completed"
    },
    "tags": []
   },
   "source": [
    "# From gene pairs"
   ]
  },
  {
   "cell_type": "markdown",
   "id": "c3cf8026-6db9-49a3-a97f-8930f4cf9431",
   "metadata": {
    "papermill": {
     "duration": 0.002063,
     "end_time": "2023-09-13T17:57:23.402620",
     "exception": false,
     "start_time": "2023-09-13T17:57:23.400557",
     "status": "completed"
    },
    "tags": []
   },
   "source": [
    "## Load CCC values and pvalues"
   ]
  },
  {
   "cell_type": "code",
   "execution_count": 12,
   "id": "c7ca9155-ebd5-4c27-9065-ab47ebf2ba25",
   "metadata": {
    "execution": {
     "iopub.execute_input": "2023-09-13T17:57:23.407182Z",
     "iopub.status.busy": "2023-09-13T17:57:23.407109Z",
     "iopub.status.idle": "2023-09-13T17:57:23.409128Z",
     "shell.execute_reply": "2023-09-13T17:57:23.408954Z"
    },
    "papermill": {
     "duration": 0.00482,
     "end_time": "2023-09-13T17:57:23.409532",
     "exception": false,
     "start_time": "2023-09-13T17:57:23.404712",
     "status": "completed"
    },
    "tags": []
   },
   "outputs": [
    {
     "data": {
      "text/plain": [
       "(4950,)"
      ]
     },
     "metadata": {},
     "output_type": "display_data"
    }
   ],
   "source": [
    "output_file = OUTPUT_DIR / \"gene_pairs-cm_values.npy\"\n",
    "cm_values = np.load(output_file)\n",
    "display(cm_values.shape)"
   ]
  },
  {
   "cell_type": "code",
   "execution_count": 13,
   "id": "8df20fa8-49e2-40d7-8d0a-2f91ce4c7c13",
   "metadata": {
    "execution": {
     "iopub.execute_input": "2023-09-13T17:57:23.414105Z",
     "iopub.status.busy": "2023-09-13T17:57:23.414039Z",
     "iopub.status.idle": "2023-09-13T17:57:23.416005Z",
     "shell.execute_reply": "2023-09-13T17:57:23.415807Z"
    },
    "papermill": {
     "duration": 0.004848,
     "end_time": "2023-09-13T17:57:23.416529",
     "exception": false,
     "start_time": "2023-09-13T17:57:23.411681",
     "status": "completed"
    },
    "tags": []
   },
   "outputs": [
    {
     "data": {
      "text/plain": [
       "(4950,)"
      ]
     },
     "metadata": {},
     "output_type": "display_data"
    }
   ],
   "source": [
    "output_file = OUTPUT_DIR / \"gene_pairs-cm_pvalues.npy\"\n",
    "cm_pvalues = np.load(output_file)\n",
    "display(cm_pvalues.shape)"
   ]
  },
  {
   "cell_type": "code",
   "execution_count": 14,
   "id": "0c49eace-cd28-431f-bf47-89c1389690ea",
   "metadata": {
    "execution": {
     "iopub.execute_input": "2023-09-13T17:57:23.421122Z",
     "iopub.status.busy": "2023-09-13T17:57:23.421048Z",
     "iopub.status.idle": "2023-09-13T17:57:23.422868Z",
     "shell.execute_reply": "2023-09-13T17:57:23.422665Z"
    },
    "papermill": {
     "duration": 0.004685,
     "end_time": "2023-09-13T17:57:23.423364",
     "exception": false,
     "start_time": "2023-09-13T17:57:23.418679",
     "status": "completed"
    },
    "tags": []
   },
   "outputs": [
    {
     "data": {
      "text/plain": [
       "0.00020197939810139365"
      ]
     },
     "metadata": {},
     "output_type": "display_data"
    }
   ],
   "source": [
    "n_perms = cm_pvalues.shape[0]\n",
    "min_pvalue_resolution = (0 + 1) / (n_perms + 1)\n",
    "display(min_pvalue_resolution)"
   ]
  },
  {
   "cell_type": "markdown",
   "id": "6af832fb-d9ca-4e76-80d1-df7830b0b5c8",
   "metadata": {
    "papermill": {
     "duration": 0.002146,
     "end_time": "2023-09-13T17:57:23.427748",
     "exception": false,
     "start_time": "2023-09-13T17:57:23.425602",
     "status": "completed"
    },
    "tags": []
   },
   "source": [
    "## Plots"
   ]
  },
  {
   "cell_type": "markdown",
   "id": "ebdb93c1-4114-455c-8559-b9315074ed69",
   "metadata": {
    "papermill": {
     "duration": 0.014709,
     "end_time": "2023-09-13T17:57:23.444623",
     "exception": false,
     "start_time": "2023-09-13T17:57:23.429914",
     "status": "completed"
    },
    "tags": []
   },
   "source": [
    "### CCC values"
   ]
  },
  {
   "cell_type": "code",
   "execution_count": 15,
   "id": "600c5eac-4a5d-4503-84f5-1cafa9e32526",
   "metadata": {
    "execution": {
     "iopub.execute_input": "2023-09-13T17:57:23.449700Z",
     "iopub.status.busy": "2023-09-13T17:57:23.449585Z",
     "iopub.status.idle": "2023-09-13T17:57:23.493566Z",
     "shell.execute_reply": "2023-09-13T17:57:23.493342Z"
    },
    "papermill": {
     "duration": 0.047238,
     "end_time": "2023-09-13T17:57:23.494156",
     "exception": false,
     "start_time": "2023-09-13T17:57:23.446918",
     "status": "completed"
    },
    "tags": []
   },
   "outputs": [
    {
     "data": {
      "text/plain": [
       "Text(0, 0.5, 'Frequency')"
      ]
     },
     "execution_count": 15,
     "metadata": {},
     "output_type": "execute_result"
    },
    {
     "data": {
      "image/png": "[encoded data removed]",
      "text/plain": [
       "<Figure size 432x288 with 1 Axes>"
      ]
     },
     "metadata": {
      "needs_background": "light"
     },
     "output_type": "display_data"
    }
   ],
   "source": [
    "plt.hist(cm_values, bins=10, edgecolor=\"k\")  # Adjust the number of bins as needed\n",
    "plt.title(\"Distribution of Values\")\n",
    "plt.xlabel(\"Value\")\n",
    "plt.ylabel(\"Frequency\")"
   ]
  },
  {
   "cell_type": "code",
   "execution_count": 16,
   "id": "2c0cf669-f433-467b-9ce4-8d0f206013e8",
   "metadata": {
    "execution": {
     "iopub.execute_input": "2023-09-13T17:57:23.499753Z",
     "iopub.status.busy": "2023-09-13T17:57:23.499320Z",
     "iopub.status.idle": "2023-09-13T17:57:23.574190Z",
     "shell.execute_reply": "2023-09-13T17:57:23.573927Z"
    },
    "papermill": {
     "duration": 0.078197,
     "end_time": "2023-09-13T17:57:23.574816",
     "exception": false,
     "start_time": "2023-09-13T17:57:23.496619",
     "status": "completed"
    },
    "tags": []
   },
   "outputs": [
    {
     "data": {
      "text/plain": [
       "Text(0, 0.5, 'Density')"
      ]
     },
     "execution_count": 16,
     "metadata": {},
     "output_type": "execute_result"
    },
    {
     "data": {
      "image/png": "[encoded data removed]",
      "text/plain": [
       "<Figure size 432x288 with 1 Axes>"
      ]
     },
     "metadata": {
      "needs_background": "light"
     },
     "output_type": "display_data"
    }
   ],
   "source": [
    "sns.histplot(cm_values, kde=True, color=\"blue\")\n",
    "plt.title(\"Distribution of Values\")\n",
    "plt.xlabel(\"Value\")\n",
    "plt.ylabel(\"Density\")"
   ]
  },
  {
   "cell_type": "markdown",
   "id": "c7234b90-393b-426b-9d5b-85f66d928fd2",
   "metadata": {
    "papermill": {
     "duration": 0.002543,
     "end_time": "2023-09-13T17:57:23.579965",
     "exception": false,
     "start_time": "2023-09-13T17:57:23.577422",
     "status": "completed"
    },
    "tags": []
   },
   "source": [
    "### CCC p-values"
   ]
  },
  {
   "cell_type": "code",
   "execution_count": 17,
   "id": "cfdb23a4-34ce-44ca-b2c1-e728c482150b",
   "metadata": {
    "execution": {
     "iopub.execute_input": "2023-09-13T17:57:23.585299Z",
     "iopub.status.busy": "2023-09-13T17:57:23.585220Z",
     "iopub.status.idle": "2023-09-13T17:57:23.621352Z",
     "shell.execute_reply": "2023-09-13T17:57:23.621195Z"
    },
    "papermill": {
     "duration": 0.039515,
     "end_time": "2023-09-13T17:57:23.621927",
     "exception": false,
     "start_time": "2023-09-13T17:57:23.582412",
     "status": "completed"
    },
    "tags": []
   },
   "outputs": [
    {
     "data": {
      "text/plain": [
       "Text(0, 0.5, 'Frequency')"
      ]
     },
     "execution_count": 17,
     "metadata": {},
     "output_type": "execute_result"
    },
    {
     "data": {
      "image/png": "[encoded data removed]",
      "text/plain": [
       "<Figure size 432x288 with 1 Axes>"
      ]
     },
     "metadata": {
      "needs_background": "light"
     },
     "output_type": "display_data"
    }
   ],
   "source": [
    "plt.hist(cm_pvalues, bins=10, edgecolor=\"k\")  # Adjust the number of bins as needed\n",
    "plt.title(\"Distribution of Values\")\n",
    "plt.xlabel(\"Value\")\n",
    "plt.ylabel(\"Frequency\")"
   ]
  },
  {
   "cell_type": "code",
   "execution_count": 18,
   "id": "8c990e05-0837-4733-8656-7f89e6b11c76",
   "metadata": {
    "execution": {
     "iopub.execute_input": "2023-09-13T17:57:23.627502Z",
     "iopub.status.busy": "2023-09-13T17:57:23.627429Z",
     "iopub.status.idle": "2023-09-13T17:57:23.677945Z",
     "shell.execute_reply": "2023-09-13T17:57:23.677775Z"
    },
    "papermill": {
     "duration": 0.054052,
     "end_time": "2023-09-13T17:57:23.678527",
     "exception": false,
     "start_time": "2023-09-13T17:57:23.624475",
     "status": "completed"
    },
    "tags": []
   },
   "outputs": [
    {
     "data": {
      "text/plain": [
       "Text(0, 0.5, 'Density')"
      ]
     },
     "execution_count": 18,
     "metadata": {},
     "output_type": "execute_result"
    },
    {
     "data": {
      "image/png": "[encoded data removed]",
      "text/plain": [
       "<Figure size 432x288 with 1 Axes>"
      ]
     },
     "metadata": {
      "needs_background": "light"
     },
     "output_type": "display_data"
    }
   ],
   "source": [
    "sns.histplot(cm_pvalues, kde=True, color=\"blue\")\n",
    "plt.title(\"Distribution of Values\")\n",
    "plt.xlabel(\"Value\")\n",
    "plt.ylabel(\"Density\")"
   ]
  },
  {
   "cell_type": "code",
   "execution_count": 19,
   "id": "a4ed6062-0a60-4edf-b5eb-c7351c488442",
   "metadata": {
    "execution": {
     "iopub.execute_input": "2023-09-13T17:57:23.684535Z",
     "iopub.status.busy": "2023-09-13T17:57:23.684446Z",
     "iopub.status.idle": "2023-09-13T17:57:23.686924Z",
     "shell.execute_reply": "2023-09-13T17:57:23.686790Z"
    },
    "papermill": {
     "duration": 0.00621,
     "end_time": "2023-09-13T17:57:23.687468",
     "exception": false,
     "start_time": "2023-09-13T17:57:23.681258",
     "status": "completed"
    },
    "tags": []
   },
   "outputs": [
    {
     "data": {
      "text/plain": [
       "KstestResult(statistic=0.012914762005671099, pvalue=0.3777295267369595)"
      ]
     },
     "execution_count": 19,
     "metadata": {},
     "output_type": "execute_result"
    }
   ],
   "source": [
    "stats.kstest(\n",
    "    cm_pvalues,\n",
    "    stats.uniform.cdf,\n",
    "    args=(min_pvalue_resolution, 1 - min_pvalue_resolution),\n",
    ")"
   ]
  },
  {
   "cell_type": "code",
   "execution_count": null,
   "id": "acaf1613-b186-4ff1-8d22-e996662c5bec",
   "metadata": {
    "papermill": {
     "duration": 0.002616,
     "end_time": "2023-09-13T17:57:23.692745",
     "exception": false,
     "start_time": "2023-09-13T17:57:23.690129",
     "status": "completed"
    },
    "tags": []
   },
   "outputs": [],
   "source": []
  }
 ],
 "metadata": {
  "jupytext": {
   "cell_metadata_filter": "all,-execution,-papermill,-trusted",
   "notebook_metadata_filter": "-jupytext.text_representation.jupytext_version"
  },
  "kernelspec": {
   "display_name": "Python 3 (ipykernel)",
   "language": "python",
   "name": "python3"
  },
  "language_info": {
   "codemirror_mode": {
    "name": "ipython",
    "version": 3
   },
   "file_extension": ".py",
   "mimetype": "text/x-python",
   "name": "python",
   "nbconvert_exporter": "python",
   "pygments_lexer": "ipython3",
   "version": "3.9.12"
  },
  "papermill": {
   "default_parameters": {},
   "duration": 1.970148,
   "end_time": "2023-09-13T17:57:23.911807",
   "environment_variables": {},
   "exception": null,
   "input_path": "nbs/25_pvalue/05-ccc_pvalue_dist-plot.ipynb",
   "output_path": "nbs/25_pvalue/05-ccc_pvalue_dist-plot.run.ipynb",
   "parameters": {},
   "start_time": "2023-09-13T17:57:21.941659",
   "version": "2.3.4"
  }
 },
 "nbformat": 4,
 "nbformat_minor": 5
}
