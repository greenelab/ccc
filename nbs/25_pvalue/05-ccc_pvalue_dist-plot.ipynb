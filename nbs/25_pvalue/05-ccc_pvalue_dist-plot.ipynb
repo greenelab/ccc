{
 "cells": [
  {
   "cell_type": "markdown",
   "id": "ec52faa3-656f-483e-9617-d7ec0f7d818c",
   "metadata": {
    "papermill": {
     "duration": 0.007409,
     "end_time": "2023-09-13T05:49:39.239301",
     "exception": false,
     "start_time": "2023-09-13T05:49:39.231892",
     "status": "completed"
    },
    "tags": []
   },
   "source": [
    "# Description"
   ]
  },
  {
   "cell_type": "markdown",
   "id": "51102f42-fcd9-4a58-9c8d-dfcd3d2d464e",
   "metadata": {
    "papermill": {
     "duration": 0.005247,
     "end_time": "2023-09-13T05:49:39.254555",
     "exception": false,
     "start_time": "2023-09-13T05:49:39.249308",
     "status": "completed"
    },
    "tags": []
   },
   "source": [
    "Generates plots of the CCC pvalues from the null distribution."
   ]
  },
  {
   "cell_type": "markdown",
   "id": "7006ceeb-2651-407d-bfa1-1039727649ef",
   "metadata": {
    "papermill": {
     "duration": 0.001646,
     "end_time": "2023-09-13T05:49:39.257893",
     "exception": false,
     "start_time": "2023-09-13T05:49:39.256247",
     "status": "completed"
    },
    "tags": []
   },
   "source": [
    "# Modules loading"
   ]
  },
  {
   "cell_type": "code",
   "execution_count": 1,
   "id": "1ffa1a96-7545-40b9-ac8b-8627e13de8d4",
   "metadata": {
    "execution": {
     "iopub.execute_input": "2023-09-13T05:49:39.263181Z",
     "iopub.status.busy": "2023-09-13T05:49:39.263019Z",
     "iopub.status.idle": "2023-09-13T05:49:39.552800Z",
     "shell.execute_reply": "2023-09-13T05:49:39.552609Z"
    },
    "papermill": {
     "duration": 0.293817,
     "end_time": "2023-09-13T05:49:39.553777",
     "exception": false,
     "start_time": "2023-09-13T05:49:39.259960",
     "status": "completed"
    },
    "tags": []
   },
   "outputs": [],
   "source": [
    "import numpy as np\n",
    "import matplotlib.pyplot as plt\n",
    "import seaborn as sns\n",
    "from scipy import stats\n",
    "\n",
    "from ccc import conf"
   ]
  },
  {
   "cell_type": "markdown",
   "id": "0d3cc810-4b17-4213-8f03-6fe7e97a0fe3",
   "metadata": {
    "papermill": {
     "duration": 0.009564,
     "end_time": "2023-09-13T05:49:39.565253",
     "exception": false,
     "start_time": "2023-09-13T05:49:39.555689",
     "status": "completed"
    },
    "tags": []
   },
   "source": [
    "# Settings"
   ]
  },
  {
   "cell_type": "code",
   "execution_count": null,
   "id": "9a154623-c787-4a31-871a-cad173f0eb9f",
   "metadata": {
    "papermill": {
     "duration": 0.001544,
     "end_time": "2023-09-13T05:49:39.568505",
     "exception": false,
     "start_time": "2023-09-13T05:49:39.566961",
     "status": "completed"
    },
    "tags": []
   },
   "outputs": [],
   "source": []
  },
  {
   "cell_type": "markdown",
   "id": "5b09ff83-5377-49a9-b24b-65c6c90277d6",
   "metadata": {
    "papermill": {
     "duration": 0.001818,
     "end_time": "2023-09-13T05:49:39.571986",
     "exception": false,
     "start_time": "2023-09-13T05:49:39.570168",
     "status": "completed"
    },
    "tags": []
   },
   "source": [
    "# Paths"
   ]
  },
  {
   "cell_type": "code",
   "execution_count": 2,
   "id": "0122253c-99c0-41e2-8807-60df86bf0619",
   "metadata": {
    "execution": {
     "iopub.execute_input": "2023-09-13T05:49:39.576738Z",
     "iopub.status.busy": "2023-09-13T05:49:39.576604Z",
     "iopub.status.idle": "2023-09-13T05:49:39.578361Z",
     "shell.execute_reply": "2023-09-13T05:49:39.578176Z"
    },
    "papermill": {
     "duration": 0.004817,
     "end_time": "2023-09-13T05:49:39.578933",
     "exception": false,
     "start_time": "2023-09-13T05:49:39.574116",
     "status": "completed"
    },
    "tags": []
   },
   "outputs": [],
   "source": [
    "OUTPUT_DIR = conf.RESULTS_DIR / \"ccc_null-pvalues\"\n",
    "OUTPUT_DIR.mkdir(parents=True, exist_ok=True)"
   ]
  },
  {
   "cell_type": "code",
   "execution_count": 3,
   "id": "3003ed2c-5da0-43b9-969d-9cf037d05730",
   "metadata": {
    "execution": {
     "iopub.execute_input": "2023-09-13T05:49:39.582519Z",
     "iopub.status.busy": "2023-09-13T05:49:39.582464Z",
     "iopub.status.idle": "2023-09-13T05:49:39.584755Z",
     "shell.execute_reply": "2023-09-13T05:49:39.584629Z"
    },
    "papermill": {
     "duration": 0.004621,
     "end_time": "2023-09-13T05:49:39.585225",
     "exception": false,
     "start_time": "2023-09-13T05:49:39.580604",
     "status": "completed"
    },
    "tags": []
   },
   "outputs": [
    {
     "data": {
      "text/plain": [
       "PosixPath('/opt/data/results/ccc_null-pvalues')"
      ]
     },
     "execution_count": 3,
     "metadata": {},
     "output_type": "execute_result"
    }
   ],
   "source": [
    "OUTPUT_DIR"
   ]
  },
  {
   "cell_type": "markdown",
   "id": "6b593ccb-bce7-4a6b-818f-79d5378d4610",
   "metadata": {
    "papermill": {
     "duration": 0.001571,
     "end_time": "2023-09-13T05:49:39.588505",
     "exception": false,
     "start_time": "2023-09-13T05:49:39.586934",
     "status": "completed"
    },
    "tags": []
   },
   "source": [
    "# From data matrix"
   ]
  },
  {
   "cell_type": "markdown",
   "id": "28a9cae2-a67c-4d72-ba40-75732b6867f4",
   "metadata": {
    "papermill": {
     "duration": 0.001579,
     "end_time": "2023-09-13T05:49:39.591698",
     "exception": false,
     "start_time": "2023-09-13T05:49:39.590119",
     "status": "completed"
    },
    "tags": []
   },
   "source": [
    "## Load CCC values and pvalues"
   ]
  },
  {
   "cell_type": "code",
   "execution_count": 4,
   "id": "472ff1df-b4f6-417f-b396-58a55ce0e39a",
   "metadata": {
    "execution": {
     "iopub.execute_input": "2023-09-13T05:49:39.595306Z",
     "iopub.status.busy": "2023-09-13T05:49:39.595225Z",
     "iopub.status.idle": "2023-09-13T05:49:39.597167Z",
     "shell.execute_reply": "2023-09-13T05:49:39.597038Z"
    },
    "papermill": {
     "duration": 0.004253,
     "end_time": "2023-09-13T05:49:39.597563",
     "exception": false,
     "start_time": "2023-09-13T05:49:39.593310",
     "status": "completed"
    },
    "tags": []
   },
   "outputs": [
    {
     "data": {
      "text/plain": [
       "(4950,)"
      ]
     },
     "metadata": {},
     "output_type": "display_data"
    }
   ],
   "source": [
    "output_file = OUTPUT_DIR / \"data_matrix-cm_values.npy\"\n",
    "cm_values = np.load(output_file)\n",
    "display(cm_values.shape)"
   ]
  },
  {
   "cell_type": "code",
   "execution_count": 5,
   "id": "3412010d-d281-4dfc-99de-61fc55f603cf",
   "metadata": {
    "execution": {
     "iopub.execute_input": "2023-09-13T05:49:39.601377Z",
     "iopub.status.busy": "2023-09-13T05:49:39.601270Z",
     "iopub.status.idle": "2023-09-13T05:49:39.603084Z",
     "shell.execute_reply": "2023-09-13T05:49:39.602963Z"
    },
    "papermill": {
     "duration": 0.004119,
     "end_time": "2023-09-13T05:49:39.603522",
     "exception": false,
     "start_time": "2023-09-13T05:49:39.599403",
     "status": "completed"
    },
    "tags": []
   },
   "outputs": [
    {
     "data": {
      "text/plain": [
       "(4950,)"
      ]
     },
     "metadata": {},
     "output_type": "display_data"
    }
   ],
   "source": [
    "output_file = OUTPUT_DIR / \"data_matrix-cm_pvalues.npy\"\n",
    "cm_pvalues = np.load(output_file)\n",
    "display(cm_pvalues.shape)"
   ]
  },
  {
   "cell_type": "code",
   "execution_count": 6,
   "id": "8448d17b",
   "metadata": {
    "execution": {
     "iopub.execute_input": "2023-09-13T05:49:39.607304Z",
     "iopub.status.busy": "2023-09-13T05:49:39.607195Z",
     "iopub.status.idle": "2023-09-13T05:49:39.608754Z",
     "shell.execute_reply": "2023-09-13T05:49:39.608632Z"
    },
    "papermill": {
     "duration": 0.003951,
     "end_time": "2023-09-13T05:49:39.609170",
     "exception": false,
     "start_time": "2023-09-13T05:49:39.605219",
     "status": "completed"
    },
    "tags": []
   },
   "outputs": [
    {
     "data": {
      "text/plain": [
       "0.00020197939810139365"
      ]
     },
     "metadata": {},
     "output_type": "display_data"
    }
   ],
   "source": [
    "n_perms = cm_pvalues.shape[0]\n",
    "min_pvalue_resolution = (0 + 1) / (n_perms + 1)\n",
    "display(min_pvalue_resolution)"
   ]
  },
  {
   "cell_type": "markdown",
   "id": "d25a59fa-a22b-41e0-84a3-74414ddaad23",
   "metadata": {
    "papermill": {
     "duration": 0.001668,
     "end_time": "2023-09-13T05:49:39.612570",
     "exception": false,
     "start_time": "2023-09-13T05:49:39.610902",
     "status": "completed"
    },
    "tags": []
   },
   "source": [
    "## Plots"
   ]
  },
  {
   "cell_type": "markdown",
   "id": "10af7dd1-d6d8-476b-9071-809fb3a1ba91",
   "metadata": {
    "papermill": {
     "duration": 0.001646,
     "end_time": "2023-09-13T05:49:39.615969",
     "exception": false,
     "start_time": "2023-09-13T05:49:39.614323",
     "status": "completed"
    },
    "tags": []
   },
   "source": [
    "### CCC values"
   ]
  },
  {
   "cell_type": "code",
   "execution_count": 7,
   "id": "615d9e99-d2d7-4cce-8517-32907a236b27",
   "metadata": {
    "execution": {
     "iopub.execute_input": "2023-09-13T05:49:39.619766Z",
     "iopub.status.busy": "2023-09-13T05:49:39.619637Z",
     "iopub.status.idle": "2023-09-13T05:49:39.664843Z",
     "shell.execute_reply": "2023-09-13T05:49:39.664673Z"
    },
    "papermill": {
     "duration": 0.047777,
     "end_time": "2023-09-13T05:49:39.665438",
     "exception": false,
     "start_time": "2023-09-13T05:49:39.617661",
     "status": "completed"
    },
    "tags": []
   },
   "outputs": [
    {
     "data": {
      "text/plain": [
       "Text(0, 0.5, 'Frequency')"
      ]
     },
     "execution_count": 7,
     "metadata": {},
     "output_type": "execute_result"
    },
    {
     "data": {
      "image/png": "[encoded data removed]",
      "text/plain": [
       "<Figure size 432x288 with 1 Axes>"
      ]
     },
     "metadata": {
      "needs_background": "light"
     },
     "output_type": "display_data"
    }
   ],
   "source": [
    "plt.hist(cm_values, bins=10, edgecolor=\"k\")  # Adjust the number of bins as needed\n",
    "plt.title(\"Distribution of Values\")\n",
    "plt.xlabel(\"Value\")\n",
    "plt.ylabel(\"Frequency\")"
   ]
  },
  {
   "cell_type": "code",
   "execution_count": 8,
   "id": "37a85073-a287-48e6-adc6-f86808f15111",
   "metadata": {
    "execution": {
     "iopub.execute_input": "2023-09-13T05:49:39.669810Z",
     "iopub.status.busy": "2023-09-13T05:49:39.669722Z",
     "iopub.status.idle": "2023-09-13T05:49:39.745029Z",
     "shell.execute_reply": "2023-09-13T05:49:39.744880Z"
    },
    "papermill": {
     "duration": 0.078284,
     "end_time": "2023-09-13T05:49:39.745669",
     "exception": false,
     "start_time": "2023-09-13T05:49:39.667385",
     "status": "completed"
    },
    "tags": []
   },
   "outputs": [
    {
     "data": {
      "text/plain": [
       "Text(0, 0.5, 'Density')"
      ]
     },
     "execution_count": 8,
     "metadata": {},
     "output_type": "execute_result"
    },
    {
     "data": {
      "image/png": "[encoded data removed]",
      "text/plain": [
       "<Figure size 432x288 with 1 Axes>"
      ]
     },
     "metadata": {
      "needs_background": "light"
     },
     "output_type": "display_data"
    }
   ],
   "source": [
    "sns.histplot(cm_values, kde=True, color=\"blue\")\n",
    "plt.title(\"Distribution of Values\")\n",
    "plt.xlabel(\"Value\")\n",
    "plt.ylabel(\"Density\")"
   ]
  },
  {
   "cell_type": "markdown",
   "id": "39d3353a-8ce9-41e0-8292-e78838eb827b",
   "metadata": {
    "papermill": {
     "duration": 0.001895,
     "end_time": "2023-09-13T05:49:39.749684",
     "exception": false,
     "start_time": "2023-09-13T05:49:39.747789",
     "status": "completed"
    },
    "tags": []
   },
   "source": [
    "### CCC p-values"
   ]
  },
  {
   "cell_type": "code",
   "execution_count": 9,
   "id": "7b1c54d4-d867-4fca-9681-c8ec4ebc0fd5",
   "metadata": {
    "execution": {
     "iopub.execute_input": "2023-09-13T05:49:39.754185Z",
     "iopub.status.busy": "2023-09-13T05:49:39.753989Z",
     "iopub.status.idle": "2023-09-13T05:49:39.815185Z",
     "shell.execute_reply": "2023-09-13T05:49:39.814946Z"
    },
    "papermill": {
     "duration": 0.06423,
     "end_time": "2023-09-13T05:49:39.815855",
     "exception": false,
     "start_time": "2023-09-13T05:49:39.751625",
     "status": "completed"
    },
    "tags": []
   },
   "outputs": [
    {
     "data": {
      "text/plain": [
       "Text(0, 0.5, 'Frequency')"
      ]
     },
     "execution_count": 9,
     "metadata": {},
     "output_type": "execute_result"
    },
    {
     "data": {
      "image/png": "[encoded data removed]",
      "text/plain": [
       "<Figure size 432x288 with 1 Axes>"
      ]
     },
     "metadata": {
      "needs_background": "light"
     },
     "output_type": "display_data"
    }
   ],
   "source": [
    "plt.hist(cm_pvalues, bins=10, edgecolor=\"k\")  # Adjust the number of bins as needed\n",
    "plt.title(\"Distribution of Values\")\n",
    "plt.xlabel(\"Value\")\n",
    "plt.ylabel(\"Frequency\")"
   ]
  },
  {
   "cell_type": "code",
   "execution_count": 10,
   "id": "69ed2dd4-1f3c-439d-9828-7143f7f3d9b3",
   "metadata": {
    "execution": {
     "iopub.execute_input": "2023-09-13T05:49:39.820609Z",
     "iopub.status.busy": "2023-09-13T05:49:39.820531Z",
     "iopub.status.idle": "2023-09-13T05:49:39.871528Z",
     "shell.execute_reply": "2023-09-13T05:49:39.871384Z"
    },
    "papermill": {
     "duration": 0.054076,
     "end_time": "2023-09-13T05:49:39.872110",
     "exception": false,
     "start_time": "2023-09-13T05:49:39.818034",
     "status": "completed"
    },
    "tags": []
   },
   "outputs": [
    {
     "data": {
      "text/plain": [
       "Text(0, 0.5, 'Density')"
      ]
     },
     "execution_count": 10,
     "metadata": {},
     "output_type": "execute_result"
    },
    {
     "data": {
      "image/png": "[encoded data removed]",
      "text/plain": [
       "<Figure size 432x288 with 1 Axes>"
      ]
     },
     "metadata": {
      "needs_background": "light"
     },
     "output_type": "display_data"
    }
   ],
   "source": [
    "sns.histplot(cm_pvalues, kde=True, color=\"blue\")\n",
    "plt.title(\"Distribution of Values\")\n",
    "plt.xlabel(\"Value\")\n",
    "plt.ylabel(\"Density\")"
   ]
  },
  {
   "cell_type": "code",
   "execution_count": 11,
   "id": "abf1ab0c-3528-4942-b6b0-f96c944f629c",
   "metadata": {
    "execution": {
     "iopub.execute_input": "2023-09-13T05:49:39.877015Z",
     "iopub.status.busy": "2023-09-13T05:49:39.876960Z",
     "iopub.status.idle": "2023-09-13T05:49:39.879157Z",
     "shell.execute_reply": "2023-09-13T05:49:39.879034Z"
    },
    "papermill": {
     "duration": 0.005304,
     "end_time": "2023-09-13T05:49:39.879739",
     "exception": false,
     "start_time": "2023-09-13T05:49:39.874435",
     "status": "completed"
    },
    "tags": []
   },
   "outputs": [
    {
     "data": {
      "text/plain": [
       "KstestResult(statistic=0.014126883217792319, pvalue=0.2740090999616912)"
      ]
     },
     "execution_count": 11,
     "metadata": {},
     "output_type": "execute_result"
    }
   ],
   "source": [
    "stats.kstest(\n",
    "    cm_pvalues,\n",
    "    stats.uniform.cdf,\n",
    "    args=(min_pvalue_resolution, 1 - min_pvalue_resolution),\n",
    ")"
   ]
  },
  {
   "cell_type": "markdown",
   "id": "63503038-ad7b-44cb-9fff-00e817d0bf2e",
   "metadata": {
    "papermill": {
     "duration": 0.002159,
     "end_time": "2023-09-13T05:49:39.884052",
     "exception": false,
     "start_time": "2023-09-13T05:49:39.881893",
     "status": "completed"
    },
    "tags": []
   },
   "source": [
    "# From gene pairs"
   ]
  },
  {
   "cell_type": "markdown",
   "id": "c3cf8026-6db9-49a3-a97f-8930f4cf9431",
   "metadata": {
    "papermill": {
     "duration": 0.002096,
     "end_time": "2023-09-13T05:49:39.888296",
     "exception": false,
     "start_time": "2023-09-13T05:49:39.886200",
     "status": "completed"
    },
    "tags": []
   },
   "source": [
    "## Load CCC values and pvalues"
   ]
  },
  {
   "cell_type": "code",
   "execution_count": 12,
   "id": "c7ca9155-ebd5-4c27-9065-ab47ebf2ba25",
   "metadata": {
    "execution": {
     "iopub.execute_input": "2023-09-13T05:49:39.892960Z",
     "iopub.status.busy": "2023-09-13T05:49:39.892911Z",
     "iopub.status.idle": "2023-09-13T05:49:39.894846Z",
     "shell.execute_reply": "2023-09-13T05:49:39.894726Z"
    },
    "papermill": {
     "duration": 0.005034,
     "end_time": "2023-09-13T05:49:39.895460",
     "exception": false,
     "start_time": "2023-09-13T05:49:39.890426",
     "status": "completed"
    },
    "tags": []
   },
   "outputs": [
    {
     "data": {
      "text/plain": [
       "(4950,)"
      ]
     },
     "metadata": {},
     "output_type": "display_data"
    }
   ],
   "source": [
    "output_file = OUTPUT_DIR / \"gene_pairs-cm_values.npy\"\n",
    "cm_values = np.load(output_file)\n",
    "display(cm_values.shape)"
   ]
  },
  {
   "cell_type": "code",
   "execution_count": 13,
   "id": "8df20fa8-49e2-40d7-8d0a-2f91ce4c7c13",
   "metadata": {
    "execution": {
     "iopub.execute_input": "2023-09-13T05:49:39.900146Z",
     "iopub.status.busy": "2023-09-13T05:49:39.900035Z",
     "iopub.status.idle": "2023-09-13T05:49:39.901723Z",
     "shell.execute_reply": "2023-09-13T05:49:39.901604Z"
    },
    "papermill": {
     "duration": 0.004677,
     "end_time": "2023-09-13T05:49:39.902290",
     "exception": false,
     "start_time": "2023-09-13T05:49:39.897613",
     "status": "completed"
    },
    "tags": []
   },
   "outputs": [
    {
     "data": {
      "text/plain": [
       "(4950,)"
      ]
     },
     "metadata": {},
     "output_type": "display_data"
    }
   ],
   "source": [
    "output_file = OUTPUT_DIR / \"gene_pairs-cm_pvalues.npy\"\n",
    "cm_pvalues = np.load(output_file)\n",
    "display(cm_pvalues.shape)"
   ]
  },
  {
   "cell_type": "code",
   "execution_count": 14,
   "id": "0c49eace-cd28-431f-bf47-89c1389690ea",
   "metadata": {
    "execution": {
     "iopub.execute_input": "2023-09-13T05:49:39.907202Z",
     "iopub.status.busy": "2023-09-13T05:49:39.907108Z",
     "iopub.status.idle": "2023-09-13T05:49:39.908961Z",
     "shell.execute_reply": "2023-09-13T05:49:39.908769Z"
    },
    "papermill": {
     "duration": 0.004899,
     "end_time": "2023-09-13T05:49:39.909415",
     "exception": false,
     "start_time": "2023-09-13T05:49:39.904516",
     "status": "completed"
    },
    "tags": []
   },
   "outputs": [
    {
     "data": {
      "text/plain": [
       "0.00020197939810139365"
      ]
     },
     "metadata": {},
     "output_type": "display_data"
    }
   ],
   "source": [
    "n_perms = cm_pvalues.shape[0]\n",
    "min_pvalue_resolution = (0 + 1) / (n_perms + 1)\n",
    "display(min_pvalue_resolution)"
   ]
  },
  {
   "cell_type": "markdown",
   "id": "6af832fb-d9ca-4e76-80d1-df7830b0b5c8",
   "metadata": {
    "papermill": {
     "duration": 0.002159,
     "end_time": "2023-09-13T05:49:39.913751",
     "exception": false,
     "start_time": "2023-09-13T05:49:39.911592",
     "status": "completed"
    },
    "tags": []
   },
   "source": [
    "## Plots"
   ]
  },
  {
   "cell_type": "markdown",
   "id": "ebdb93c1-4114-455c-8559-b9315074ed69",
   "metadata": {
    "papermill": {
     "duration": 0.014545,
     "end_time": "2023-09-13T05:49:39.930518",
     "exception": false,
     "start_time": "2023-09-13T05:49:39.915973",
     "status": "completed"
    },
    "tags": []
   },
   "source": [
    "### CCC values"
   ]
  },
  {
   "cell_type": "code",
   "execution_count": 15,
   "id": "600c5eac-4a5d-4503-84f5-1cafa9e32526",
   "metadata": {
    "execution": {
     "iopub.execute_input": "2023-09-13T05:49:39.935827Z",
     "iopub.status.busy": "2023-09-13T05:49:39.935708Z",
     "iopub.status.idle": "2023-09-13T05:49:39.977443Z",
     "shell.execute_reply": "2023-09-13T05:49:39.977289Z"
    },
    "papermill": {
     "duration": 0.045117,
     "end_time": "2023-09-13T05:49:39.977934",
     "exception": false,
     "start_time": "2023-09-13T05:49:39.932817",
     "status": "completed"
    },
    "tags": []
   },
   "outputs": [
    {
     "data": {
      "text/plain": [
       "Text(0, 0.5, 'Frequency')"
      ]
     },
     "execution_count": 15,
     "metadata": {},
     "output_type": "execute_result"
    },
    {
     "data": {
      "image/png": "[encoded data removed]",
      "text/plain": [
       "<Figure size 432x288 with 1 Axes>"
      ]
     },
     "metadata": {
      "needs_background": "light"
     },
     "output_type": "display_data"
    }
   ],
   "source": [
    "plt.hist(cm_values, bins=10, edgecolor=\"k\")  # Adjust the number of bins as needed\n",
    "plt.title(\"Distribution of Values\")\n",
    "plt.xlabel(\"Value\")\n",
    "plt.ylabel(\"Frequency\")"
   ]
  },
  {
   "cell_type": "code",
   "execution_count": 16,
   "id": "2c0cf669-f433-467b-9ce4-8d0f206013e8",
   "metadata": {
    "execution": {
     "iopub.execute_input": "2023-09-13T05:49:39.983316Z",
     "iopub.status.busy": "2023-09-13T05:49:39.983050Z",
     "iopub.status.idle": "2023-09-13T05:49:40.056677Z",
     "shell.execute_reply": "2023-09-13T05:49:40.056532Z"
    },
    "papermill": {
     "duration": 0.07678,
     "end_time": "2023-09-13T05:49:40.057193",
     "exception": false,
     "start_time": "2023-09-13T05:49:39.980413",
     "status": "completed"
    },
    "tags": []
   },
   "outputs": [
    {
     "data": {
      "text/plain": [
       "Text(0, 0.5, 'Density')"
      ]
     },
     "execution_count": 16,
     "metadata": {},
     "output_type": "execute_result"
    },
    {
     "data": {
      "image/png": "[encoded data removed]",
      "text/plain": [
       "<Figure size 432x288 with 1 Axes>"
      ]
     },
     "metadata": {
      "needs_background": "light"
     },
     "output_type": "display_data"
    }
   ],
   "source": [
    "sns.histplot(cm_values, kde=True, color=\"blue\")\n",
    "plt.title(\"Distribution of Values\")\n",
    "plt.xlabel(\"Value\")\n",
    "plt.ylabel(\"Density\")"
   ]
  },
  {
   "cell_type": "markdown",
   "id": "c7234b90-393b-426b-9d5b-85f66d928fd2",
   "metadata": {
    "papermill": {
     "duration": 0.002435,
     "end_time": "2023-09-13T05:49:40.062301",
     "exception": false,
     "start_time": "2023-09-13T05:49:40.059866",
     "status": "completed"
    },
    "tags": []
   },
   "source": [
    "### CCC p-values"
   ]
  },
  {
   "cell_type": "code",
   "execution_count": 17,
   "id": "cfdb23a4-34ce-44ca-b2c1-e728c482150b",
   "metadata": {
    "execution": {
     "iopub.execute_input": "2023-09-13T05:49:40.067593Z",
     "iopub.status.busy": "2023-09-13T05:49:40.067533Z",
     "iopub.status.idle": "2023-09-13T05:49:40.103567Z",
     "shell.execute_reply": "2023-09-13T05:49:40.103431Z"
    },
    "papermill": {
     "duration": 0.039442,
     "end_time": "2023-09-13T05:49:40.104171",
     "exception": false,
     "start_time": "2023-09-13T05:49:40.064729",
     "status": "completed"
    },
    "tags": []
   },
   "outputs": [
    {
     "data": {
      "text/plain": [
       "Text(0, 0.5, 'Frequency')"
      ]
     },
     "execution_count": 17,
     "metadata": {},
     "output_type": "execute_result"
    },
    {
     "data": {
      "image/png": "[encoded data removed]",
      "text/plain": [
       "<Figure size 432x288 with 1 Axes>"
      ]
     },
     "metadata": {
      "needs_background": "light"
     },
     "output_type": "display_data"
    }
   ],
   "source": [
    "plt.hist(cm_pvalues, bins=10, edgecolor=\"k\")  # Adjust the number of bins as needed\n",
    "plt.title(\"Distribution of Values\")\n",
    "plt.xlabel(\"Value\")\n",
    "plt.ylabel(\"Frequency\")"
   ]
  },
  {
   "cell_type": "code",
   "execution_count": 18,
   "id": "8c990e05-0837-4733-8656-7f89e6b11c76",
   "metadata": {
    "execution": {
     "iopub.execute_input": "2023-09-13T05:49:40.109652Z",
     "iopub.status.busy": "2023-09-13T05:49:40.109575Z",
     "iopub.status.idle": "2023-09-13T05:49:40.160384Z",
     "shell.execute_reply": "2023-09-13T05:49:40.160243Z"
    },
    "papermill": {
     "duration": 0.054212,
     "end_time": "2023-09-13T05:49:40.160938",
     "exception": false,
     "start_time": "2023-09-13T05:49:40.106726",
     "status": "completed"
    },
    "tags": []
   },
   "outputs": [
    {
     "data": {
      "text/plain": [
       "Text(0, 0.5, 'Density')"
      ]
     },
     "execution_count": 18,
     "metadata": {},
     "output_type": "execute_result"
    },
    {
     "data": {
      "image/png": "[encoded data removed]",
      "text/plain": [
       "<Figure size 432x288 with 1 Axes>"
      ]
     },
     "metadata": {
      "needs_background": "light"
     },
     "output_type": "display_data"
    }
   ],
   "source": [
    "sns.histplot(cm_pvalues, kde=True, color=\"blue\")\n",
    "plt.title(\"Distribution of Values\")\n",
    "plt.xlabel(\"Value\")\n",
    "plt.ylabel(\"Density\")"
   ]
  },
  {
   "cell_type": "code",
   "execution_count": 19,
   "id": "a4ed6062-0a60-4edf-b5eb-c7351c488442",
   "metadata": {
    "execution": {
     "iopub.execute_input": "2023-09-13T05:49:40.166702Z",
     "iopub.status.busy": "2023-09-13T05:49:40.166619Z",
     "iopub.status.idle": "2023-09-13T05:49:40.168830Z",
     "shell.execute_reply": "2023-09-13T05:49:40.168701Z"
    },
    "papermill": {
     "duration": 0.005803,
     "end_time": "2023-09-13T05:49:40.169435",
     "exception": false,
     "start_time": "2023-09-13T05:49:40.163632",
     "status": "completed"
    },
    "tags": []
   },
   "outputs": [
    {
     "data": {
      "text/plain": [
       "KstestResult(statistic=0.012914762005671099, pvalue=0.3777295267369595)"
      ]
     },
     "execution_count": 19,
     "metadata": {},
     "output_type": "execute_result"
    }
   ],
   "source": [
    "stats.kstest(\n",
    "    cm_pvalues,\n",
    "    stats.uniform.cdf,\n",
    "    args=(min_pvalue_resolution, 1 - min_pvalue_resolution),\n",
    ")"
   ]
  },
  {
   "cell_type": "code",
   "execution_count": null,
   "id": "acaf1613-b186-4ff1-8d22-e996662c5bec",
   "metadata": {
    "papermill": {
     "duration": 0.002615,
     "end_time": "2023-09-13T05:49:40.174733",
     "exception": false,
     "start_time": "2023-09-13T05:49:40.172118",
     "status": "completed"
    },
    "tags": []
   },
   "outputs": [],
   "source": []
  }
 ],
 "metadata": {
  "jupytext": {
   "cell_metadata_filter": "all,-execution,-papermill,-trusted",
   "notebook_metadata_filter": "-jupytext.text_representation.jupytext_version"
  },
  "kernelspec": {
   "display_name": "Python 3 (ipykernel)",
   "language": "python",
   "name": "python3"
  },
  "language_info": {
   "codemirror_mode": {
    "name": "ipython",
    "version": 3
   },
   "file_extension": ".py",
   "mimetype": "text/x-python",
   "name": "python",
   "nbconvert_exporter": "python",
   "pygments_lexer": "ipython3",
   "version": "3.9.12"
  },
  "papermill": {
   "default_parameters": {},
   "duration": 1.828192,
   "end_time": "2023-09-13T05:49:40.393187",
   "environment_variables": {},
   "exception": null,
   "input_path": "nbs/25_pvalue/05-ccc_pvalue_dist-plot.ipynb",
   "output_path": "nbs/25_pvalue/05-ccc_pvalue_dist-plot.run.ipynb",
   "parameters": {},
   "start_time": "2023-09-13T05:49:38.564995",
   "version": "2.3.4"
  }
 },
 "nbformat": 4,
 "nbformat_minor": 5
}
