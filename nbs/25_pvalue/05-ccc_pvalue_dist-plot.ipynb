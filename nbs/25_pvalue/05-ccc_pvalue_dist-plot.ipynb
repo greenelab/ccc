{
 "cells": [
  {
   "cell_type": "markdown",
   "id": "ec52faa3-656f-483e-9617-d7ec0f7d818c",
   "metadata": {
    "papermill": {
     "duration": 0.007435,
     "end_time": "2023-09-11T18:02:44.874280",
     "exception": false,
     "start_time": "2023-09-11T18:02:44.866845",
     "status": "completed"
    },
    "tags": []
   },
   "source": [
    "# Description"
   ]
  },
  {
   "cell_type": "markdown",
   "id": "51102f42-fcd9-4a58-9c8d-dfcd3d2d464e",
   "metadata": {
    "papermill": {
     "duration": 0.001583,
     "end_time": "2023-09-11T18:02:44.877611",
     "exception": false,
     "start_time": "2023-09-11T18:02:44.876028",
     "status": "completed"
    },
    "tags": []
   },
   "source": [
    "Generates plots of the CCC pvalues from the null distribution."
   ]
  },
  {
   "cell_type": "markdown",
   "id": "7006ceeb-2651-407d-bfa1-1039727649ef",
   "metadata": {
    "papermill": {
     "duration": 0.001539,
     "end_time": "2023-09-11T18:02:44.880760",
     "exception": false,
     "start_time": "2023-09-11T18:02:44.879221",
     "status": "completed"
    },
    "tags": []
   },
   "source": [
    "# Modules loading"
   ]
  },
  {
   "cell_type": "code",
   "execution_count": 1,
   "id": "1ffa1a96-7545-40b9-ac8b-8627e13de8d4",
   "metadata": {
    "execution": {
     "iopub.execute_input": "2023-09-11T18:02:44.884852Z",
     "iopub.status.busy": "2023-09-11T18:02:44.884623Z",
     "iopub.status.idle": "2023-09-11T18:02:45.171403Z",
     "shell.execute_reply": "2023-09-11T18:02:45.171136Z"
    },
    "papermill": {
     "duration": 0.289893,
     "end_time": "2023-09-11T18:02:45.172282",
     "exception": false,
     "start_time": "2023-09-11T18:02:44.882389",
     "status": "completed"
    },
    "tags": []
   },
   "outputs": [],
   "source": [
    "import numpy as np\n",
    "import matplotlib.pyplot as plt\n",
    "import seaborn as sns\n",
    "from scipy import stats\n",
    "\n",
    "from ccc import conf"
   ]
  },
  {
   "cell_type": "markdown",
   "id": "0d3cc810-4b17-4213-8f03-6fe7e97a0fe3",
   "metadata": {
    "papermill": {
     "duration": 0.00983,
     "end_time": "2023-09-11T18:02:45.184109",
     "exception": false,
     "start_time": "2023-09-11T18:02:45.174279",
     "status": "completed"
    },
    "tags": []
   },
   "source": [
    "# Settings"
   ]
  },
  {
   "cell_type": "code",
   "execution_count": null,
   "id": "9a154623-c787-4a31-871a-cad173f0eb9f",
   "metadata": {
    "papermill": {
     "duration": 0.001657,
     "end_time": "2023-09-11T18:02:45.188590",
     "exception": false,
     "start_time": "2023-09-11T18:02:45.186933",
     "status": "completed"
    },
    "tags": []
   },
   "outputs": [],
   "source": []
  },
  {
   "cell_type": "markdown",
   "id": "5b09ff83-5377-49a9-b24b-65c6c90277d6",
   "metadata": {
    "papermill": {
     "duration": 0.001584,
     "end_time": "2023-09-11T18:02:45.191826",
     "exception": false,
     "start_time": "2023-09-11T18:02:45.190242",
     "status": "completed"
    },
    "tags": []
   },
   "source": [
    "# Paths"
   ]
  },
  {
   "cell_type": "code",
   "execution_count": 2,
   "id": "0122253c-99c0-41e2-8807-60df86bf0619",
   "metadata": {
    "execution": {
     "iopub.execute_input": "2023-09-11T18:02:45.195673Z",
     "iopub.status.busy": "2023-09-11T18:02:45.195482Z",
     "iopub.status.idle": "2023-09-11T18:02:45.197626Z",
     "shell.execute_reply": "2023-09-11T18:02:45.197396Z"
    },
    "papermill": {
     "duration": 0.004682,
     "end_time": "2023-09-11T18:02:45.198137",
     "exception": false,
     "start_time": "2023-09-11T18:02:45.193455",
     "status": "completed"
    },
    "tags": []
   },
   "outputs": [],
   "source": [
    "OUTPUT_DIR = conf.RESULTS_DIR / \"ccc_null-pvalues\"\n",
    "OUTPUT_DIR.mkdir(parents=True, exist_ok=True)"
   ]
  },
  {
   "cell_type": "code",
   "execution_count": 3,
   "id": "3003ed2c-5da0-43b9-969d-9cf037d05730",
   "metadata": {
    "execution": {
     "iopub.execute_input": "2023-09-11T18:02:45.201707Z",
     "iopub.status.busy": "2023-09-11T18:02:45.201591Z",
     "iopub.status.idle": "2023-09-11T18:02:45.203716Z",
     "shell.execute_reply": "2023-09-11T18:02:45.203589Z"
    },
    "papermill": {
     "duration": 0.004448,
     "end_time": "2023-09-11T18:02:45.204214",
     "exception": false,
     "start_time": "2023-09-11T18:02:45.199766",
     "status": "completed"
    },
    "tags": []
   },
   "outputs": [
    {
     "data": {
      "text/plain": [
       "PosixPath('/opt/data/results/ccc_null-pvalues')"
      ]
     },
     "execution_count": 3,
     "metadata": {},
     "output_type": "execute_result"
    }
   ],
   "source": [
    "OUTPUT_DIR"
   ]
  },
  {
   "cell_type": "markdown",
   "id": "6b593ccb-bce7-4a6b-818f-79d5378d4610",
   "metadata": {
    "papermill": {
     "duration": 0.001614,
     "end_time": "2023-09-11T18:02:45.207567",
     "exception": false,
     "start_time": "2023-09-11T18:02:45.205953",
     "status": "completed"
    },
    "tags": []
   },
   "source": [
    "# From data matrix"
   ]
  },
  {
   "cell_type": "markdown",
   "id": "28a9cae2-a67c-4d72-ba40-75732b6867f4",
   "metadata": {
    "papermill": {
     "duration": 0.00162,
     "end_time": "2023-09-11T18:02:45.210912",
     "exception": false,
     "start_time": "2023-09-11T18:02:45.209292",
     "status": "completed"
    },
    "tags": []
   },
   "source": [
    "## Load CCC values and pvalues"
   ]
  },
  {
   "cell_type": "code",
   "execution_count": 4,
   "id": "472ff1df-b4f6-417f-b396-58a55ce0e39a",
   "metadata": {
    "execution": {
     "iopub.execute_input": "2023-09-11T18:02:45.214552Z",
     "iopub.status.busy": "2023-09-11T18:02:45.214465Z",
     "iopub.status.idle": "2023-09-11T18:02:45.216312Z",
     "shell.execute_reply": "2023-09-11T18:02:45.216189Z"
    },
    "papermill": {
     "duration": 0.004247,
     "end_time": "2023-09-11T18:02:45.216806",
     "exception": false,
     "start_time": "2023-09-11T18:02:45.212559",
     "status": "completed"
    },
    "tags": []
   },
   "outputs": [
    {
     "data": {
      "text/plain": [
       "(4950,)"
      ]
     },
     "metadata": {},
     "output_type": "display_data"
    }
   ],
   "source": [
    "output_file = OUTPUT_DIR / \"data_matrix-cm_values.npy\"\n",
    "cm_values = np.load(output_file)\n",
    "display(cm_values.shape)"
   ]
  },
  {
   "cell_type": "code",
   "execution_count": 5,
   "id": "3412010d-d281-4dfc-99de-61fc55f603cf",
   "metadata": {
    "execution": {
     "iopub.execute_input": "2023-09-11T18:02:45.220646Z",
     "iopub.status.busy": "2023-09-11T18:02:45.220524Z",
     "iopub.status.idle": "2023-09-11T18:02:45.222235Z",
     "shell.execute_reply": "2023-09-11T18:02:45.222111Z"
    },
    "papermill": {
     "duration": 0.004211,
     "end_time": "2023-09-11T18:02:45.222742",
     "exception": false,
     "start_time": "2023-09-11T18:02:45.218531",
     "status": "completed"
    },
    "tags": []
   },
   "outputs": [
    {
     "data": {
      "text/plain": [
       "(4950,)"
      ]
     },
     "metadata": {},
     "output_type": "display_data"
    }
   ],
   "source": [
    "output_file = OUTPUT_DIR / \"data_matrix-cm_pvalues.npy\"\n",
    "cm_pvalues = np.load(output_file)\n",
    "display(cm_pvalues.shape)"
   ]
  },
  {
   "cell_type": "code",
   "execution_count": 6,
   "id": "8448d17b",
   "metadata": {
    "execution": {
     "iopub.execute_input": "2023-09-11T18:02:45.226540Z",
     "iopub.status.busy": "2023-09-11T18:02:45.226458Z",
     "iopub.status.idle": "2023-09-11T18:02:45.227991Z",
     "shell.execute_reply": "2023-09-11T18:02:45.227867Z"
    },
    "papermill": {
     "duration": 0.003963,
     "end_time": "2023-09-11T18:02:45.228426",
     "exception": false,
     "start_time": "2023-09-11T18:02:45.224463",
     "status": "completed"
    },
    "tags": []
   },
   "outputs": [
    {
     "data": {
      "text/plain": [
       "0.00020197939810139365"
      ]
     },
     "metadata": {},
     "output_type": "display_data"
    }
   ],
   "source": [
    "n_perms = cm_pvalues.shape[0]\n",
    "min_pvalue_resolution = (0 + 1) / (n_perms + 1)\n",
    "display(min_pvalue_resolution)"
   ]
  },
  {
   "cell_type": "markdown",
   "id": "d25a59fa-a22b-41e0-84a3-74414ddaad23",
   "metadata": {
    "papermill": {
     "duration": 0.00164,
     "end_time": "2023-09-11T18:02:45.231792",
     "exception": false,
     "start_time": "2023-09-11T18:02:45.230152",
     "status": "completed"
    },
    "tags": []
   },
   "source": [
    "## Plots"
   ]
  },
  {
   "cell_type": "markdown",
   "id": "10af7dd1-d6d8-476b-9071-809fb3a1ba91",
   "metadata": {
    "papermill": {
     "duration": 0.001713,
     "end_time": "2023-09-11T18:02:45.235249",
     "exception": false,
     "start_time": "2023-09-11T18:02:45.233536",
     "status": "completed"
    },
    "tags": []
   },
   "source": [
    "### CCC values"
   ]
  },
  {
   "cell_type": "code",
   "execution_count": 7,
   "id": "615d9e99-d2d7-4cce-8517-32907a236b27",
   "metadata": {
    "execution": {
     "iopub.execute_input": "2023-09-11T18:02:45.239074Z",
     "iopub.status.busy": "2023-09-11T18:02:45.238979Z",
     "iopub.status.idle": "2023-09-11T18:02:45.283607Z",
     "shell.execute_reply": "2023-09-11T18:02:45.283200Z"
    },
    "papermill": {
     "duration": 0.047226,
     "end_time": "2023-09-11T18:02:45.284210",
     "exception": false,
     "start_time": "2023-09-11T18:02:45.236984",
     "status": "completed"
    },
    "tags": []
   },
   "outputs": [
    {
     "data": {
      "text/plain": [
       "Text(0, 0.5, 'Frequency')"
      ]
     },
     "execution_count": 7,
     "metadata": {},
     "output_type": "execute_result"
    },
    {
     "data": {
      "image/png": "[encoded data removed]",
      "text/plain": [
       "<Figure size 432x288 with 1 Axes>"
      ]
     },
     "metadata": {
      "needs_background": "light"
     },
     "output_type": "display_data"
    }
   ],
   "source": [
    "plt.hist(cm_values, bins=10, edgecolor=\"k\")  # Adjust the number of bins as needed\n",
    "plt.title(\"Distribution of Values\")\n",
    "plt.xlabel(\"Value\")\n",
    "plt.ylabel(\"Frequency\")"
   ]
  },
  {
   "cell_type": "code",
   "execution_count": 8,
   "id": "37a85073-a287-48e6-adc6-f86808f15111",
   "metadata": {
    "execution": {
     "iopub.execute_input": "2023-09-11T18:02:45.288476Z",
     "iopub.status.busy": "2023-09-11T18:02:45.288317Z",
     "iopub.status.idle": "2023-09-11T18:02:45.364484Z",
     "shell.execute_reply": "2023-09-11T18:02:45.364161Z"
    },
    "papermill": {
     "duration": 0.078893,
     "end_time": "2023-09-11T18:02:45.365018",
     "exception": false,
     "start_time": "2023-09-11T18:02:45.286125",
     "status": "completed"
    },
    "tags": []
   },
   "outputs": [
    {
     "data": {
      "text/plain": [
       "Text(0, 0.5, 'Density')"
      ]
     },
     "execution_count": 8,
     "metadata": {},
     "output_type": "execute_result"
    },
    {
     "data": {
      "image/png": "[encoded data removed]",
      "text/plain": [
       "<Figure size 432x288 with 1 Axes>"
      ]
     },
     "metadata": {
      "needs_background": "light"
     },
     "output_type": "display_data"
    }
   ],
   "source": [
    "sns.histplot(cm_values, kde=True, color=\"blue\")\n",
    "plt.title(\"Distribution of Values\")\n",
    "plt.xlabel(\"Value\")\n",
    "plt.ylabel(\"Density\")"
   ]
  },
  {
   "cell_type": "markdown",
   "id": "39d3353a-8ce9-41e0-8292-e78838eb827b",
   "metadata": {
    "papermill": {
     "duration": 0.002086,
     "end_time": "2023-09-11T18:02:45.369317",
     "exception": false,
     "start_time": "2023-09-11T18:02:45.367231",
     "status": "completed"
    },
    "tags": []
   },
   "source": [
    "### CCC p-values"
   ]
  },
  {
   "cell_type": "code",
   "execution_count": 9,
   "id": "7b1c54d4-d867-4fca-9681-c8ec4ebc0fd5",
   "metadata": {
    "execution": {
     "iopub.execute_input": "2023-09-11T18:02:45.373898Z",
     "iopub.status.busy": "2023-09-11T18:02:45.373822Z",
     "iopub.status.idle": "2023-09-11T18:02:45.435259Z",
     "shell.execute_reply": "2023-09-11T18:02:45.434940Z"
    },
    "papermill": {
     "duration": 0.064564,
     "end_time": "2023-09-11T18:02:45.435895",
     "exception": false,
     "start_time": "2023-09-11T18:02:45.371331",
     "status": "completed"
    },
    "tags": []
   },
   "outputs": [
    {
     "data": {
      "text/plain": [
       "Text(0, 0.5, 'Frequency')"
      ]
     },
     "execution_count": 9,
     "metadata": {},
     "output_type": "execute_result"
    },
    {
     "data": {
      "image/png": "[encoded data removed]",
      "text/plain": [
       "<Figure size 432x288 with 1 Axes>"
      ]
     },
     "metadata": {
      "needs_background": "light"
     },
     "output_type": "display_data"
    }
   ],
   "source": [
    "plt.hist(cm_pvalues, bins=10, edgecolor=\"k\")  # Adjust the number of bins as needed\n",
    "plt.title(\"Distribution of Values\")\n",
    "plt.xlabel(\"Value\")\n",
    "plt.ylabel(\"Frequency\")"
   ]
  },
  {
   "cell_type": "code",
   "execution_count": 10,
   "id": "69ed2dd4-1f3c-439d-9828-7143f7f3d9b3",
   "metadata": {
    "execution": {
     "iopub.execute_input": "2023-09-11T18:02:45.440676Z",
     "iopub.status.busy": "2023-09-11T18:02:45.440516Z",
     "iopub.status.idle": "2023-09-11T18:02:45.492151Z",
     "shell.execute_reply": "2023-09-11T18:02:45.491842Z"
    },
    "papermill": {
     "duration": 0.054542,
     "end_time": "2023-09-11T18:02:45.492637",
     "exception": false,
     "start_time": "2023-09-11T18:02:45.438095",
     "status": "completed"
    },
    "tags": []
   },
   "outputs": [
    {
     "data": {
      "text/plain": [
       "Text(0, 0.5, 'Density')"
      ]
     },
     "execution_count": 10,
     "metadata": {},
     "output_type": "execute_result"
    },
    {
     "data": {
      "image/png": "[encoded data removed]",
      "text/plain": [
       "<Figure size 432x288 with 1 Axes>"
      ]
     },
     "metadata": {
      "needs_background": "light"
     },
     "output_type": "display_data"
    }
   ],
   "source": [
    "sns.histplot(cm_pvalues, kde=True, color=\"blue\")\n",
    "plt.title(\"Distribution of Values\")\n",
    "plt.xlabel(\"Value\")\n",
    "plt.ylabel(\"Density\")"
   ]
  },
  {
   "cell_type": "code",
   "execution_count": 11,
   "id": "abf1ab0c-3528-4942-b6b0-f96c944f629c",
   "metadata": {
    "execution": {
     "iopub.execute_input": "2023-09-11T18:02:45.497823Z",
     "iopub.status.busy": "2023-09-11T18:02:45.497630Z",
     "iopub.status.idle": "2023-09-11T18:02:45.500142Z",
     "shell.execute_reply": "2023-09-11T18:02:45.499959Z"
    },
    "papermill": {
     "duration": 0.005822,
     "end_time": "2023-09-11T18:02:45.500747",
     "exception": false,
     "start_time": "2023-09-11T18:02:45.494925",
     "status": "completed"
    },
    "tags": []
   },
   "outputs": [
    {
     "data": {
      "text/plain": [
       "KstestResult(statistic=0.014126883217792319, pvalue=0.2740090999616912)"
      ]
     },
     "execution_count": 11,
     "metadata": {},
     "output_type": "execute_result"
    }
   ],
   "source": [
    "stats.kstest(\n",
    "    cm_pvalues,\n",
    "    stats.uniform.cdf,\n",
    "    args=(min_pvalue_resolution, 1 - min_pvalue_resolution),\n",
    ")"
   ]
  },
  {
   "cell_type": "markdown",
   "id": "63503038-ad7b-44cb-9fff-00e817d0bf2e",
   "metadata": {
    "papermill": {
     "duration": 0.002108,
     "end_time": "2023-09-11T18:02:45.505064",
     "exception": false,
     "start_time": "2023-09-11T18:02:45.502956",
     "status": "completed"
    },
    "tags": []
   },
   "source": [
    "# From gene pairs"
   ]
  },
  {
   "cell_type": "markdown",
   "id": "c3cf8026-6db9-49a3-a97f-8930f4cf9431",
   "metadata": {
    "papermill": {
     "duration": 0.002086,
     "end_time": "2023-09-11T18:02:45.509296",
     "exception": false,
     "start_time": "2023-09-11T18:02:45.507210",
     "status": "completed"
    },
    "tags": []
   },
   "source": [
    "## Load CCC values and pvalues"
   ]
  },
  {
   "cell_type": "code",
   "execution_count": 12,
   "id": "c7ca9155-ebd5-4c27-9065-ab47ebf2ba25",
   "metadata": {
    "execution": {
     "iopub.execute_input": "2023-09-11T18:02:45.514040Z",
     "iopub.status.busy": "2023-09-11T18:02:45.513988Z",
     "iopub.status.idle": "2023-09-11T18:02:45.516173Z",
     "shell.execute_reply": "2023-09-11T18:02:45.516002Z"
    },
    "papermill": {
     "duration": 0.005233,
     "end_time": "2023-09-11T18:02:45.516680",
     "exception": false,
     "start_time": "2023-09-11T18:02:45.511447",
     "status": "completed"
    },
    "tags": []
   },
   "outputs": [
    {
     "data": {
      "text/plain": [
       "(4950,)"
      ]
     },
     "metadata": {},
     "output_type": "display_data"
    }
   ],
   "source": [
    "output_file = OUTPUT_DIR / \"gene_pairs-cm_values.npy\"\n",
    "cm_values = np.load(output_file)\n",
    "display(cm_values.shape)"
   ]
  },
  {
   "cell_type": "code",
   "execution_count": 13,
   "id": "8df20fa8-49e2-40d7-8d0a-2f91ce4c7c13",
   "metadata": {
    "execution": {
     "iopub.execute_input": "2023-09-11T18:02:45.521303Z",
     "iopub.status.busy": "2023-09-11T18:02:45.521232Z",
     "iopub.status.idle": "2023-09-11T18:02:45.523155Z",
     "shell.execute_reply": "2023-09-11T18:02:45.522985Z"
    },
    "papermill": {
     "duration": 0.004811,
     "end_time": "2023-09-11T18:02:45.523642",
     "exception": false,
     "start_time": "2023-09-11T18:02:45.518831",
     "status": "completed"
    },
    "tags": []
   },
   "outputs": [
    {
     "data": {
      "text/plain": [
       "(4950,)"
      ]
     },
     "metadata": {},
     "output_type": "display_data"
    }
   ],
   "source": [
    "output_file = OUTPUT_DIR / \"gene_pairs-cm_pvalues.npy\"\n",
    "cm_pvalues = np.load(output_file)\n",
    "display(cm_pvalues.shape)"
   ]
  },
  {
   "cell_type": "code",
   "execution_count": 14,
   "id": "0c49eace-cd28-431f-bf47-89c1389690ea",
   "metadata": {
    "execution": {
     "iopub.execute_input": "2023-09-11T18:02:45.528358Z",
     "iopub.status.busy": "2023-09-11T18:02:45.528254Z",
     "iopub.status.idle": "2023-09-11T18:02:45.530054Z",
     "shell.execute_reply": "2023-09-11T18:02:45.529871Z"
    },
    "papermill": {
     "duration": 0.004608,
     "end_time": "2023-09-11T18:02:45.530442",
     "exception": false,
     "start_time": "2023-09-11T18:02:45.525834",
     "status": "completed"
    },
    "tags": []
   },
   "outputs": [
    {
     "data": {
      "text/plain": [
       "0.00020197939810139365"
      ]
     },
     "metadata": {},
     "output_type": "display_data"
    }
   ],
   "source": [
    "n_perms = cm_pvalues.shape[0]\n",
    "min_pvalue_resolution = (0 + 1) / (n_perms + 1)\n",
    "display(min_pvalue_resolution)"
   ]
  },
  {
   "cell_type": "markdown",
   "id": "6af832fb-d9ca-4e76-80d1-df7830b0b5c8",
   "metadata": {
    "papermill": {
     "duration": 0.002232,
     "end_time": "2023-09-11T18:02:45.534905",
     "exception": false,
     "start_time": "2023-09-11T18:02:45.532673",
     "status": "completed"
    },
    "tags": []
   },
   "source": [
    "## Plots"
   ]
  },
  {
   "cell_type": "markdown",
   "id": "ebdb93c1-4114-455c-8559-b9315074ed69",
   "metadata": {
    "papermill": {
     "duration": 0.013913,
     "end_time": "2023-09-11T18:02:45.551046",
     "exception": false,
     "start_time": "2023-09-11T18:02:45.537133",
     "status": "completed"
    },
    "tags": []
   },
   "source": [
    "### CCC values"
   ]
  },
  {
   "cell_type": "code",
   "execution_count": 15,
   "id": "600c5eac-4a5d-4503-84f5-1cafa9e32526",
   "metadata": {
    "execution": {
     "iopub.execute_input": "2023-09-11T18:02:45.556184Z",
     "iopub.status.busy": "2023-09-11T18:02:45.556072Z",
     "iopub.status.idle": "2023-09-11T18:02:45.597857Z",
     "shell.execute_reply": "2023-09-11T18:02:45.597554Z"
    },
    "papermill": {
     "duration": 0.044951,
     "end_time": "2023-09-11T18:02:45.598329",
     "exception": false,
     "start_time": "2023-09-11T18:02:45.553378",
     "status": "completed"
    },
    "tags": []
   },
   "outputs": [
    {
     "data": {
      "text/plain": [
       "Text(0, 0.5, 'Frequency')"
      ]
     },
     "execution_count": 15,
     "metadata": {},
     "output_type": "execute_result"
    },
    {
     "data": {
      "image/png": "[encoded data removed]",
      "text/plain": [
       "<Figure size 432x288 with 1 Axes>"
      ]
     },
     "metadata": {
      "needs_background": "light"
     },
     "output_type": "display_data"
    }
   ],
   "source": [
    "plt.hist(cm_values, bins=10, edgecolor=\"k\")  # Adjust the number of bins as needed\n",
    "plt.title(\"Distribution of Values\")\n",
    "plt.xlabel(\"Value\")\n",
    "plt.ylabel(\"Frequency\")"
   ]
  },
  {
   "cell_type": "code",
   "execution_count": 16,
   "id": "2c0cf669-f433-467b-9ce4-8d0f206013e8",
   "metadata": {
    "execution": {
     "iopub.execute_input": "2023-09-11T18:02:45.603388Z",
     "iopub.status.busy": "2023-09-11T18:02:45.603335Z",
     "iopub.status.idle": "2023-09-11T18:02:45.677944Z",
     "shell.execute_reply": "2023-09-11T18:02:45.677566Z"
    },
    "papermill": {
     "duration": 0.077877,
     "end_time": "2023-09-11T18:02:45.678590",
     "exception": false,
     "start_time": "2023-09-11T18:02:45.600713",
     "status": "completed"
    },
    "tags": []
   },
   "outputs": [
    {
     "data": {
      "text/plain": [
       "Text(0, 0.5, 'Density')"
      ]
     },
     "execution_count": 16,
     "metadata": {},
     "output_type": "execute_result"
    },
    {
     "data": {
      "image/png": "[encoded data removed]",
      "text/plain": [
       "<Figure size 432x288 with 1 Axes>"
      ]
     },
     "metadata": {
      "needs_background": "light"
     },
     "output_type": "display_data"
    }
   ],
   "source": [
    "sns.histplot(cm_values, kde=True, color=\"blue\")\n",
    "plt.title(\"Distribution of Values\")\n",
    "plt.xlabel(\"Value\")\n",
    "plt.ylabel(\"Density\")"
   ]
  },
  {
   "cell_type": "markdown",
   "id": "c7234b90-393b-426b-9d5b-85f66d928fd2",
   "metadata": {
    "papermill": {
     "duration": 0.002484,
     "end_time": "2023-09-11T18:02:45.683727",
     "exception": false,
     "start_time": "2023-09-11T18:02:45.681243",
     "status": "completed"
    },
    "tags": []
   },
   "source": [
    "### CCC p-values"
   ]
  },
  {
   "cell_type": "code",
   "execution_count": 17,
   "id": "cfdb23a4-34ce-44ca-b2c1-e728c482150b",
   "metadata": {
    "execution": {
     "iopub.execute_input": "2023-09-11T18:02:45.689308Z",
     "iopub.status.busy": "2023-09-11T18:02:45.689225Z",
     "iopub.status.idle": "2023-09-11T18:02:45.726704Z",
     "shell.execute_reply": "2023-09-11T18:02:45.726366Z"
    },
    "papermill": {
     "duration": 0.041027,
     "end_time": "2023-09-11T18:02:45.727261",
     "exception": false,
     "start_time": "2023-09-11T18:02:45.686234",
     "status": "completed"
    },
    "tags": []
   },
   "outputs": [
    {
     "data": {
      "text/plain": [
       "Text(0, 0.5, 'Frequency')"
      ]
     },
     "execution_count": 17,
     "metadata": {},
     "output_type": "execute_result"
    },
    {
     "data": {
      "image/png": "[encoded data removed]",
      "text/plain": [
       "<Figure size 432x288 with 1 Axes>"
      ]
     },
     "metadata": {
      "needs_background": "light"
     },
     "output_type": "display_data"
    }
   ],
   "source": [
    "plt.hist(cm_pvalues, bins=10, edgecolor=\"k\")  # Adjust the number of bins as needed\n",
    "plt.title(\"Distribution of Values\")\n",
    "plt.xlabel(\"Value\")\n",
    "plt.ylabel(\"Frequency\")"
   ]
  },
  {
   "cell_type": "code",
   "execution_count": 18,
   "id": "8c990e05-0837-4733-8656-7f89e6b11c76",
   "metadata": {
    "execution": {
     "iopub.execute_input": "2023-09-11T18:02:45.732793Z",
     "iopub.status.busy": "2023-09-11T18:02:45.732740Z",
     "iopub.status.idle": "2023-09-11T18:02:45.784073Z",
     "shell.execute_reply": "2023-09-11T18:02:45.783830Z"
    },
    "papermill": {
     "duration": 0.055162,
     "end_time": "2023-09-11T18:02:45.784955",
     "exception": false,
     "start_time": "2023-09-11T18:02:45.729793",
     "status": "completed"
    },
    "tags": []
   },
   "outputs": [
    {
     "data": {
      "text/plain": [
       "Text(0, 0.5, 'Density')"
      ]
     },
     "execution_count": 18,
     "metadata": {},
     "output_type": "execute_result"
    },
    {
     "data": {
      "image/png": "[encoded data removed]",
      "text/plain": [
       "<Figure size 432x288 with 1 Axes>"
      ]
     },
     "metadata": {
      "needs_background": "light"
     },
     "output_type": "display_data"
    }
   ],
   "source": [
    "sns.histplot(cm_pvalues, kde=True, color=\"blue\")\n",
    "plt.title(\"Distribution of Values\")\n",
    "plt.xlabel(\"Value\")\n",
    "plt.ylabel(\"Density\")"
   ]
  },
  {
   "cell_type": "code",
   "execution_count": 19,
   "id": "a4ed6062-0a60-4edf-b5eb-c7351c488442",
   "metadata": {
    "execution": {
     "iopub.execute_input": "2023-09-11T18:02:45.791358Z",
     "iopub.status.busy": "2023-09-11T18:02:45.791250Z",
     "iopub.status.idle": "2023-09-11T18:02:45.793637Z",
     "shell.execute_reply": "2023-09-11T18:02:45.793461Z"
    },
    "papermill": {
     "duration": 0.006282,
     "end_time": "2023-09-11T18:02:45.794440",
     "exception": false,
     "start_time": "2023-09-11T18:02:45.788158",
     "status": "completed"
    },
    "tags": []
   },
   "outputs": [
    {
     "data": {
      "text/plain": [
       "KstestResult(statistic=0.014110939565485037, pvalue=0.27522645284421277)"
      ]
     },
     "execution_count": 19,
     "metadata": {},
     "output_type": "execute_result"
    }
   ],
   "source": [
    "stats.kstest(\n",
    "    cm_pvalues,\n",
    "    stats.uniform.cdf,\n",
    "    args=(min_pvalue_resolution, 1 - min_pvalue_resolution),\n",
    ")"
   ]
  },
  {
   "cell_type": "code",
   "execution_count": null,
   "id": "acaf1613-b186-4ff1-8d22-e996662c5bec",
   "metadata": {
    "papermill": {
     "duration": 0.003983,
     "end_time": "2023-09-11T18:02:45.803294",
     "exception": false,
     "start_time": "2023-09-11T18:02:45.799311",
     "status": "completed"
    },
    "tags": []
   },
   "outputs": [],
   "source": []
  }
 ],
 "metadata": {
  "jupytext": {
   "cell_metadata_filter": "all,-execution,-papermill,-trusted",
   "notebook_metadata_filter": "-jupytext.text_representation.jupytext_version"
  },
  "kernelspec": {
   "display_name": "Python 3 (ipykernel)",
   "language": "python",
   "name": "python3"
  },
  "language_info": {
   "codemirror_mode": {
    "name": "ipython",
    "version": 3
   },
   "file_extension": ".py",
   "mimetype": "text/x-python",
   "name": "python",
   "nbconvert_exporter": "python",
   "pygments_lexer": "ipython3",
   "version": "3.9.12"
  },
  "papermill": {
   "default_parameters": {},
   "duration": 1.819634,
   "end_time": "2023-09-11T18:02:46.022847",
   "environment_variables": {},
   "exception": null,
   "input_path": "nbs/25_pvalue/05-ccc_pvalue_dist-plot.ipynb",
   "output_path": "nbs/25_pvalue/05-ccc_pvalue_dist-plot.run.ipynb",
   "parameters": {},
   "start_time": "2023-09-11T18:02:44.203213",
   "version": "2.3.4"
  }
 },
 "nbformat": 4,
 "nbformat_minor": 5
}
