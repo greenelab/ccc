{
 "cells": [
  {
   "cell_type": "markdown",
   "id": "744d19b4-b770-43f0-90bc-7c54450f8676",
   "metadata": {
    "papermill": {
     "duration": 0.027286,
     "end_time": "2021-09-10T18:21:15.459339",
     "exception": false,
     "start_time": "2021-09-10T18:21:15.432053",
     "status": "completed"
    },
    "tags": []
   },
   "source": [
    "# Description"
   ]
  },
  {
   "cell_type": "markdown",
   "id": "771c7338-cfa3-488d-9f08-385c2f8ccd20",
   "metadata": {
    "papermill": {
     "duration": 0.008941,
     "end_time": "2021-09-10T18:21:15.484851",
     "exception": false,
     "start_time": "2021-09-10T18:21:15.475910",
     "status": "completed"
    },
    "tags": []
   },
   "source": [
    "This file actually does not compare different ARI implementations. The name is kept to ease comparison with the previous runs from `05_cm_optimized`"
   ]
  },
  {
   "cell_type": "markdown",
   "id": "ab9c1905-6d5e-435b-a1b2-701c754d770d",
   "metadata": {
    "papermill": {
     "duration": 0.006202,
     "end_time": "2021-09-10T18:21:15.498016",
     "exception": false,
     "start_time": "2021-09-10T18:21:15.491814",
     "status": "completed"
    },
    "tags": []
   },
   "source": [
    "# Modules"
   ]
  },
  {
   "cell_type": "code",
   "execution_count": 1,
   "id": "0bd1d6fe-1df8-41e2-87bc-1a4bef0e0c83",
   "metadata": {
    "execution": {
     "iopub.execute_input": "2021-09-10T18:21:15.517036Z",
     "iopub.status.busy": "2021-09-10T18:21:15.516440Z",
     "iopub.status.idle": "2021-09-10T18:21:15.829032Z",
     "shell.execute_reply": "2021-09-10T18:21:15.828583Z"
    },
    "papermill": {
     "duration": 0.325364,
     "end_time": "2021-09-10T18:21:15.829143",
     "exception": false,
     "start_time": "2021-09-10T18:21:15.503779",
     "status": "completed"
    },
    "tags": []
   },
   "outputs": [],
   "source": [
    "import numpy as np\n",
    "\n",
    "from clustermatch import coef"
   ]
  },
  {
   "cell_type": "markdown",
   "id": "5db863ce-d030-425b-afda-2e04ea3cc55a",
   "metadata": {
    "papermill": {
     "duration": 0.005783,
     "end_time": "2021-09-10T18:21:15.841385",
     "exception": false,
     "start_time": "2021-09-10T18:21:15.835602",
     "status": "completed"
    },
    "tags": []
   },
   "source": [
    "# Data"
   ]
  },
  {
   "cell_type": "code",
   "execution_count": 2,
   "id": "2316ffcd-a6e4-453f-bb52-779685c5c5bf",
   "metadata": {
    "execution": {
     "iopub.execute_input": "2021-09-10T18:21:15.857748Z",
     "iopub.status.busy": "2021-09-10T18:21:15.857270Z",
     "iopub.status.idle": "2021-09-10T18:21:15.858983Z",
     "shell.execute_reply": "2021-09-10T18:21:15.859362Z"
    },
    "papermill": {
     "duration": 0.011342,
     "end_time": "2021-09-10T18:21:15.859483",
     "exception": false,
     "start_time": "2021-09-10T18:21:15.848141",
     "status": "completed"
    },
    "tags": []
   },
   "outputs": [],
   "source": [
    "n_genes, n_samples = 100, 1000"
   ]
  },
  {
   "cell_type": "code",
   "execution_count": 3,
   "id": "b2f92fb1-113d-479b-8bbf-2be229e26e8f",
   "metadata": {
    "execution": {
     "iopub.execute_input": "2021-09-10T18:21:15.875192Z",
     "iopub.status.busy": "2021-09-10T18:21:15.874725Z",
     "iopub.status.idle": "2021-09-10T18:21:15.876986Z",
     "shell.execute_reply": "2021-09-10T18:21:15.876516Z"
    },
    "papermill": {
     "duration": 0.011091,
     "end_time": "2021-09-10T18:21:15.877084",
     "exception": false,
     "start_time": "2021-09-10T18:21:15.865993",
     "status": "completed"
    },
    "tags": []
   },
   "outputs": [],
   "source": [
    "np.random.seed(0)"
   ]
  },
  {
   "cell_type": "code",
   "execution_count": 4,
   "id": "63638c0b-b436-48a9-93e0-db2adb939a61",
   "metadata": {
    "execution": {
     "iopub.execute_input": "2021-09-10T18:21:15.892701Z",
     "iopub.status.busy": "2021-09-10T18:21:15.892231Z",
     "iopub.status.idle": "2021-09-10T18:21:15.894981Z",
     "shell.execute_reply": "2021-09-10T18:21:15.895334Z"
    },
    "papermill": {
     "duration": 0.01182,
     "end_time": "2021-09-10T18:21:15.895456",
     "exception": false,
     "start_time": "2021-09-10T18:21:15.883636",
     "status": "completed"
    },
    "tags": []
   },
   "outputs": [],
   "source": [
    "data = np.random.rand(n_genes, n_samples)"
   ]
  },
  {
   "cell_type": "code",
   "execution_count": 5,
   "id": "808017ed-9a8a-4bf7-a3dd-42317a39ce8f",
   "metadata": {
    "execution": {
     "iopub.execute_input": "2021-09-10T18:21:15.915682Z",
     "iopub.status.busy": "2021-09-10T18:21:15.915213Z",
     "iopub.status.idle": "2021-09-10T18:21:15.918738Z",
     "shell.execute_reply": "2021-09-10T18:21:15.918340Z"
    },
    "papermill": {
     "duration": 0.016785,
     "end_time": "2021-09-10T18:21:15.918836",
     "exception": false,
     "start_time": "2021-09-10T18:21:15.902051",
     "status": "completed"
    },
    "tags": []
   },
   "outputs": [
    {
     "data": {
      "text/plain": [
       "(100, 1000)"
      ]
     },
     "execution_count": 5,
     "metadata": {},
     "output_type": "execute_result"
    }
   ],
   "source": [
    "data.shape"
   ]
  },
  {
   "cell_type": "markdown",
   "id": "d3714f75-f5af-46bb-a10f-234a88ddbeb3",
   "metadata": {
    "papermill": {
     "duration": 0.006629,
     "end_time": "2021-09-10T18:21:15.932582",
     "exception": false,
     "start_time": "2021-09-10T18:21:15.925953",
     "status": "completed"
    },
    "tags": []
   },
   "source": [
    "# Improved implementation (ARI implemented in numba)"
   ]
  },
  {
   "cell_type": "code",
   "execution_count": 6,
   "id": "ace87b57-029a-4738-ab3c-6cdf18d92743",
   "metadata": {
    "execution": {
     "iopub.execute_input": "2021-09-10T18:21:15.949384Z",
     "iopub.status.busy": "2021-09-10T18:21:15.948920Z",
     "iopub.status.idle": "2021-09-10T18:21:15.951001Z",
     "shell.execute_reply": "2021-09-10T18:21:15.950597Z"
    },
    "papermill": {
     "duration": 0.011737,
     "end_time": "2021-09-10T18:21:15.951098",
     "exception": false,
     "start_time": "2021-09-10T18:21:15.939361",
     "status": "completed"
    },
    "tags": []
   },
   "outputs": [],
   "source": [
    "def func():\n",
    "    n_clust = list(range(2, 10 + 1))\n",
    "    return coef.cm(data, internal_n_clusters=n_clust)"
   ]
  },
  {
   "cell_type": "code",
   "execution_count": 7,
   "id": "dcebf353-801a-4598-94e0-5c5e11002650",
   "metadata": {
    "execution": {
     "iopub.execute_input": "2021-09-10T18:21:15.968709Z",
     "iopub.status.busy": "2021-09-10T18:21:15.968239Z",
     "iopub.status.idle": "2021-09-10T18:32:24.930227Z",
     "shell.execute_reply": "2021-09-10T18:32:24.930572Z"
    },
    "papermill": {
     "duration": 668.972657,
     "end_time": "2021-09-10T18:32:24.930685",
     "exception": false,
     "start_time": "2021-09-10T18:21:15.958028",
     "status": "completed"
    },
    "tags": []
   },
   "outputs": [
    {
     "name": "stdout",
     "output_type": "stream",
     "text": [
      "40.9 s ± 43.5 ms per loop (mean ± std. dev. of 7 runs, 1 loop each)\n"
     ]
    }
   ],
   "source": [
    "%%timeit func()\n",
    "func()"
   ]
  },
  {
   "cell_type": "code",
   "execution_count": 8,
   "id": "31544659-dc3d-4d71-ad1c-ac86eaa5471c",
   "metadata": {
    "execution": {
     "iopub.execute_input": "2021-09-10T18:33:07.359937Z",
     "iopub.status.busy": "2021-09-10T18:33:07.352176Z",
     "iopub.status.idle": "2021-09-10T18:33:07.361391Z",
     "shell.execute_reply": "2021-09-10T18:33:07.360394Z"
    },
    "papermill": {
     "duration": 41.52095,
     "end_time": "2021-09-10T18:33:07.361485",
     "exception": false,
     "start_time": "2021-09-10T18:32:25.840535",
     "status": "completed"
    },
    "tags": []
   },
   "outputs": [
    {
     "name": "stdout",
     "output_type": "stream",
     "text": [
      " \n",
      "*** Profile printout saved to text file '04-cm_ari_numba.txt'. \n"
     ]
    }
   ],
   "source": [
    "%%prun -s cumulative -l 50 -T 04-cm_ari_numba.txt\n",
    "func()"
   ]
  },
  {
   "cell_type": "code",
   "execution_count": null,
   "id": "46815c91-f269-4c02-b90b-d31d1dffde41",
   "metadata": {
    "papermill": {
     "duration": 0.006796,
     "end_time": "2021-09-10T18:33:07.375263",
     "exception": false,
     "start_time": "2021-09-10T18:33:07.368467",
     "status": "completed"
    },
    "tags": []
   },
   "outputs": [],
   "source": []
  }
 ],
 "metadata": {
  "jupytext": {
   "cell_metadata_filter": "all,-execution,-papermill,-trusted",
   "text_representation": {
    "extension": ".py",
    "format_name": "percent",
    "format_version": "1.3",
    "jupytext_version": "1.11.5"
   }
  },
  "kernelspec": {
   "display_name": "Python 3 (ipykernel)",
   "language": "python",
   "name": "python3"
  },
  "language_info": {
   "codemirror_mode": {
    "name": "ipython",
    "version": 3
   },
   "file_extension": ".py",
   "mimetype": "text/x-python",
   "name": "python",
   "nbconvert_exporter": "python",
   "pygments_lexer": "ipython3",
   "version": "3.9.7"
  },
  "papermill": {
   "default_parameters": {},
   "duration": 713.521755,
   "end_time": "2021-09-10T18:33:07.894595",
   "environment_variables": {},
   "exception": null,
   "input_path": "nbs/99_clustermatch_profiling/06_cm_optimized1/04-compare_numba_ari.ipynb",
   "output_path": "nbs/99_clustermatch_profiling/06_cm_optimized1/04-compare_numba_ari.run.ipynb",
   "parameters": {},
   "start_time": "2021-09-10T18:21:14.372840",
   "version": "2.3.3"
  }
 },
 "nbformat": 4,
 "nbformat_minor": 5
}
