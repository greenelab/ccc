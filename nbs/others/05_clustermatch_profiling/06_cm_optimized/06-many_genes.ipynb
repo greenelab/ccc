{
 "cells": [
  {
   "cell_type": "markdown",
   "id": "507e9319-381b-4934-987c-2958e7f6ace7",
   "metadata": {
    "papermill": {
     "duration": 0.028812,
     "end_time": "2021-09-10T18:33:10.742365",
     "exception": false,
     "start_time": "2021-09-10T18:33:10.713553",
     "status": "completed"
    },
    "tags": []
   },
   "source": [
    "# Description"
   ]
  },
  {
   "cell_type": "markdown",
   "id": "4493413e-b708-4076-8b50-66c5f9bbb42d",
   "metadata": {},
   "source": [
    "Clustermatch run using a larger number of genes."
   ]
  },
  {
   "cell_type": "markdown",
   "id": "145563a2-3e46-4f62-8191-7444a0b315bb",
   "metadata": {
    "papermill": {
     "duration": 0.006102,
     "end_time": "2021-09-10T18:33:10.781484",
     "exception": false,
     "start_time": "2021-09-10T18:33:10.775382",
     "status": "completed"
    },
    "tags": []
   },
   "source": [
    "# Modules"
   ]
  },
  {
   "cell_type": "code",
   "execution_count": 1,
   "id": "bea3d48e-8823-403f-90f5-aea8a17b357c",
   "metadata": {
    "execution": {
     "iopub.execute_input": "2021-09-10T18:33:10.801059Z",
     "iopub.status.busy": "2021-09-10T18:33:10.800598Z",
     "iopub.status.idle": "2021-09-10T18:33:11.091713Z",
     "shell.execute_reply": "2021-09-10T18:33:11.091254Z"
    },
    "papermill": {
     "duration": 0.304184,
     "end_time": "2021-09-10T18:33:11.091836",
     "exception": false,
     "start_time": "2021-09-10T18:33:10.787652",
     "status": "completed"
    },
    "tags": []
   },
   "outputs": [],
   "source": [
    "import numpy as np\n",
    "\n",
    "from clustermatch.coef import ccc"
   ]
  },
  {
   "cell_type": "markdown",
   "id": "f8399ca8-265e-4e96-b582-54045cb2f9eb",
   "metadata": {
    "papermill": {
     "duration": 0.007091,
     "end_time": "2021-09-10T18:33:11.105826",
     "exception": false,
     "start_time": "2021-09-10T18:33:11.098735",
     "status": "completed"
    },
    "tags": []
   },
   "source": [
    "# Data"
   ]
  },
  {
   "cell_type": "code",
   "execution_count": 3,
   "id": "2316ffcd-a6e4-453f-bb52-779685c5c5bf",
   "metadata": {
    "execution": {
     "iopub.execute_input": "2021-09-10T18:33:11.139972Z",
     "iopub.status.busy": "2021-09-10T18:33:11.139498Z",
     "iopub.status.idle": "2021-09-10T18:33:11.141555Z",
     "shell.execute_reply": "2021-09-10T18:33:11.141111Z"
    },
    "papermill": {
     "duration": 0.011411,
     "end_time": "2021-09-10T18:33:11.141650",
     "exception": false,
     "start_time": "2021-09-10T18:33:11.130239",
     "status": "completed"
    },
    "tags": []
   },
   "outputs": [],
   "source": [
    "n_genes, n_samples = 500, 1000"
   ]
  },
  {
   "cell_type": "code",
   "execution_count": 4,
   "id": "b2f92fb1-113d-479b-8bbf-2be229e26e8f",
   "metadata": {
    "execution": {
     "iopub.execute_input": "2021-09-10T18:33:11.159272Z",
     "iopub.status.busy": "2021-09-10T18:33:11.158781Z",
     "iopub.status.idle": "2021-09-10T18:33:11.160325Z",
     "shell.execute_reply": "2021-09-10T18:33:11.160725Z"
    },
    "papermill": {
     "duration": 0.0122,
     "end_time": "2021-09-10T18:33:11.160850",
     "exception": false,
     "start_time": "2021-09-10T18:33:11.148650",
     "status": "completed"
    },
    "tags": []
   },
   "outputs": [],
   "source": [
    "np.random.seed(0)"
   ]
  },
  {
   "cell_type": "code",
   "execution_count": 5,
   "id": "63638c0b-b436-48a9-93e0-db2adb939a61",
   "metadata": {
    "execution": {
     "iopub.execute_input": "2021-09-10T18:33:11.178655Z",
     "iopub.status.busy": "2021-09-10T18:33:11.178173Z",
     "iopub.status.idle": "2021-09-10T18:33:11.185133Z",
     "shell.execute_reply": "2021-09-10T18:33:11.184706Z"
    },
    "papermill": {
     "duration": 0.016895,
     "end_time": "2021-09-10T18:33:11.185239",
     "exception": false,
     "start_time": "2021-09-10T18:33:11.168344",
     "status": "completed"
    },
    "tags": []
   },
   "outputs": [],
   "source": [
    "data = np.random.rand(n_genes, n_samples)"
   ]
  },
  {
   "cell_type": "code",
   "execution_count": 6,
   "id": "808017ed-9a8a-4bf7-a3dd-42317a39ce8f",
   "metadata": {
    "execution": {
     "iopub.execute_input": "2021-09-10T18:33:11.208158Z",
     "iopub.status.busy": "2021-09-10T18:33:11.207574Z",
     "iopub.status.idle": "2021-09-10T18:33:11.209899Z",
     "shell.execute_reply": "2021-09-10T18:33:11.210252Z"
    },
    "papermill": {
     "duration": 0.017567,
     "end_time": "2021-09-10T18:33:11.210372",
     "exception": false,
     "start_time": "2021-09-10T18:33:11.192805",
     "status": "completed"
    },
    "tags": []
   },
   "outputs": [
    {
     "data": {
      "text/plain": [
       "(500, 1000)"
      ]
     },
     "execution_count": 6,
     "metadata": {},
     "output_type": "execute_result"
    }
   ],
   "source": [
    "data.shape"
   ]
  },
  {
   "cell_type": "markdown",
   "id": "716e4219-cad5-453b-8331-47d310689e03",
   "metadata": {
    "papermill": {
     "duration": 0.00719,
     "end_time": "2021-09-10T18:33:11.225212",
     "exception": false,
     "start_time": "2021-09-10T18:33:11.218022",
     "status": "completed"
    },
    "tags": []
   },
   "source": [
    "# Profile"
   ]
  },
  {
   "cell_type": "code",
   "execution_count": 7,
   "id": "67807856-f337-4c6e-ae31-cd306577a314",
   "metadata": {
    "execution": {
     "iopub.execute_input": "2021-09-10T18:33:11.242613Z",
     "iopub.status.busy": "2021-09-10T18:33:11.242163Z",
     "iopub.status.idle": "2021-09-10T18:33:11.244061Z",
     "shell.execute_reply": "2021-09-10T18:33:11.243658Z"
    },
    "papermill": {
     "duration": 0.011917,
     "end_time": "2021-09-10T18:33:11.244159",
     "exception": false,
     "start_time": "2021-09-10T18:33:11.232242",
     "status": "completed"
    },
    "tags": []
   },
   "outputs": [],
   "source": [
    "def func():\n",
    "    n_clust = list(range(2, 10 + 1))\n",
    "    return ccc(data, internal_n_clusters=n_clust)"
   ]
  },
  {
   "cell_type": "code",
   "execution_count": 8,
   "id": "2965a695-5c0c-4e9e-8435-dcbfa610eb81",
   "metadata": {
    "execution": {
     "iopub.execute_input": "2021-09-10T18:33:11.262768Z",
     "iopub.status.busy": "2021-09-10T18:33:11.262310Z",
     "iopub.status.idle": "2021-09-10T22:41:57.576086Z",
     "shell.execute_reply": "2021-09-10T22:41:57.576445Z"
    },
    "papermill": {
     "duration": 14926.325112,
     "end_time": "2021-09-10T22:41:57.576561",
     "exception": false,
     "start_time": "2021-09-10T18:33:11.251449",
     "status": "completed"
    },
    "tags": []
   },
   "outputs": [
    {
     "name": "stdout",
     "output_type": "stream",
     "text": [
      "15min 31s ± 2.9 s per loop (mean ± std. dev. of 7 runs, 1 loop each)\n"
     ]
    }
   ],
   "source": [
    "%%timeit func()\n",
    "func()"
   ]
  },
  {
   "cell_type": "code",
   "execution_count": 9,
   "id": "51c7a416-064a-4669-a09f-16f837d32475",
   "metadata": {
    "execution": {
     "iopub.execute_input": "2021-09-10T22:57:33.345636Z",
     "iopub.status.busy": "2021-09-10T22:57:33.337364Z",
     "iopub.status.idle": "2021-09-10T22:57:33.347080Z",
     "shell.execute_reply": "2021-09-10T22:57:33.346072Z"
    },
    "papermill": {
     "duration": 934.860525,
     "end_time": "2021-09-10T22:57:33.347174",
     "exception": false,
     "start_time": "2021-09-10T22:41:58.486649",
     "status": "completed"
    },
    "tags": []
   },
   "outputs": [
    {
     "name": "stdout",
     "output_type": "stream",
     "text": [
      " \n",
      "*** Profile printout saved to text file '06-cm_many_genes.txt'. \n"
     ]
    }
   ],
   "source": [
    "%%prun -s cumulative -l 50 -T 06-cm_many_genes.txt\n",
    "func()"
   ]
  },
  {
   "cell_type": "code",
   "execution_count": null,
   "id": "e2556204-1c10-4e01-8c6c-ea63ddb37530",
   "metadata": {
    "papermill": {
     "duration": 0.00729,
     "end_time": "2021-09-10T22:57:33.362226",
     "exception": false,
     "start_time": "2021-09-10T22:57:33.354936",
     "status": "completed"
    },
    "tags": []
   },
   "outputs": [],
   "source": []
  }
 ],
 "metadata": {
  "jupytext": {
   "cell_metadata_filter": "all,-execution,-papermill,-trusted"
  },
  "kernelspec": {
   "display_name": "Python 3 (ipykernel)",
   "language": "python",
   "name": "python3"
  },
  "language_info": {
   "codemirror_mode": {
    "name": "ipython",
    "version": 3
   },
   "file_extension": ".py",
   "mimetype": "text/x-python",
   "name": "python",
   "nbconvert_exporter": "python",
   "pygments_lexer": "ipython3",
   "version": "3.9.7"
  },
  "papermill": {
   "default_parameters": {},
   "duration": 15864.03458,
   "end_time": "2021-09-10T22:57:33.706905",
   "environment_variables": {},
   "exception": null,
   "input_path": "nbs/99_clustermatch_profiling/06_cm_optimized1/06-many_genes.ipynb",
   "output_path": "nbs/99_clustermatch_profiling/06_cm_optimized1/06-many_genes.run.ipynb",
   "parameters": {},
   "start_time": "2021-09-10T18:33:09.672325",
   "version": "2.3.3"
  }
 },
 "nbformat": 4,
 "nbformat_minor": 5
}
