{
 "cells": [
  {
   "cell_type": "markdown",
   "id": "36c65ddb-8246-4b0c-a231-68a373acc2cf",
   "metadata": {
    "tags": []
   },
   "source": [
    "# Description"
   ]
  },
  {
   "cell_type": "markdown",
   "id": "337633a8-d03e-4509-b89d-f8daee598958",
   "metadata": {},
   "source": [
    "UPDATE:\n",
    "\n",
    "list changes here"
   ]
  },
  {
   "attachments": {
    "3ca43189-f499-4016-a6b7-e0b476fcac1b.png": {
     "image/png": "[encoded data removed]"
    }
   },
   "cell_type": "markdown",
   "id": "15c1b53d-b3f6-4603-b23e-f59ca6cad0d1",
   "metadata": {},
   "source": [
    "![image.png](attachment:3ca43189-f499-4016-a6b7-e0b476fcac1b.png)"
   ]
  },
  {
   "cell_type": "markdown",
   "id": "63c2b099-cc44-4fe2-93d1-40336e0a8466",
   "metadata": {
    "tags": []
   },
   "source": [
    "# Remove pycache dir"
   ]
  },
  {
   "cell_type": "code",
   "execution_count": 1,
   "id": "960c4ff0-2a73-4eaa-97d6-3269102233eb",
   "metadata": {},
   "outputs": [
    {
     "name": "stdout",
     "output_type": "stream",
     "text": [
      "/opt/code\n"
     ]
    }
   ],
   "source": [
    "!echo ${CODE_DIR}"
   ]
  },
  {
   "cell_type": "code",
   "execution_count": 2,
   "id": "e18db58a-316a-445b-a376-8b2ec18e08d8",
   "metadata": {},
   "outputs": [
    {
     "name": "stdout",
     "output_type": "stream",
     "text": [
      "/opt/code/libs/clustermatch/__pycache__\n"
     ]
    }
   ],
   "source": [
    "!find ${CODE_DIR} -regex '^.*\\(__pycache__\\)$' -print"
   ]
  },
  {
   "cell_type": "code",
   "execution_count": 3,
   "id": "b54099b0-a990-4bbd-bcbd-e206eb0f0f0e",
   "metadata": {},
   "outputs": [
    {
     "name": "stdout",
     "output_type": "stream",
     "text": [
      "find: ‘/opt/code/libs/clustermatch/__pycache__’: No such file or directory\n"
     ]
    }
   ],
   "source": [
    "!find ${CODE_DIR} -regex '^.*\\(__pycache__\\)$' -exec rm -rf {} \\;"
   ]
  },
  {
   "cell_type": "code",
   "execution_count": 4,
   "id": "7a9a8098-8160-46bf-8d83-bc398cbe2382",
   "metadata": {},
   "outputs": [],
   "source": [
    "!find ${CODE_DIR} -regex '^.*\\(__pycache__\\)$' -print"
   ]
  },
  {
   "cell_type": "markdown",
   "id": "c2251313-41ac-46fd-a845-0f209689ecf6",
   "metadata": {
    "tags": []
   },
   "source": [
    "# Modules"
   ]
  },
  {
   "cell_type": "code",
   "execution_count": 5,
   "id": "987ef5f1-be49-4a6c-a4f4-b24a0a2094cb",
   "metadata": {
    "papermill": {
     "duration": 0.523444,
     "end_time": "2021-09-09T04:18:29.064564",
     "exception": false,
     "start_time": "2021-09-09T04:18:28.541120",
     "status": "completed"
    },
    "tags": []
   },
   "outputs": [],
   "source": [
    "import numpy as np\n",
    "\n",
    "from clustermatch.coef import _cm"
   ]
  },
  {
   "cell_type": "markdown",
   "id": "24399ccb-d33d-4bad-9baf-638c9c56feb2",
   "metadata": {
    "tags": []
   },
   "source": [
    "# Settings"
   ]
  },
  {
   "cell_type": "code",
   "execution_count": 6,
   "id": "d90a443b-892c-4b7f-a205-3b31b2ef1163",
   "metadata": {},
   "outputs": [],
   "source": [
    "N_REPS = 10"
   ]
  },
  {
   "cell_type": "code",
   "execution_count": 7,
   "id": "c0341a42-b8de-419f-ab37-1e4fee9dde75",
   "metadata": {
    "papermill": {
     "duration": 0.012104,
     "end_time": "2021-09-09T04:18:29.104165",
     "exception": false,
     "start_time": "2021-09-09T04:18:29.092061",
     "status": "completed"
    },
    "tags": []
   },
   "outputs": [],
   "source": [
    "np.random.seed(0)"
   ]
  },
  {
   "cell_type": "markdown",
   "id": "6fd3067b-a4f7-475e-9575-20246934537d",
   "metadata": {
    "tags": []
   },
   "source": [
    "# Setup"
   ]
  },
  {
   "cell_type": "code",
   "execution_count": 8,
   "id": "02e0507c-43ff-4693-8a3b-8ccd8f23168c",
   "metadata": {},
   "outputs": [
    {
     "data": {
      "text/plain": [
       "(array([0.15625]),\n",
       " array([[0, 1]], dtype=uint64),\n",
       " [array([[0, 1, 1, 0, 0, 1, 0, 1, 1, 0],\n",
       "         [1, 2, 1, 1, 0, 2, 0, 2, 2, 0]], dtype=int8),\n",
       "  array([[1, 0, 0, 1, 0, 0, 0, 1, 1, 1],\n",
       "         [2, 1, 1, 2, 0, 0, 0, 2, 1, 2]], dtype=int8)])"
      ]
     },
     "execution_count": 8,
     "metadata": {},
     "output_type": "execute_result"
    }
   ],
   "source": [
    "# let numba compile all the code before profiling\n",
    "_cm.py_func(np.random.rand(10), np.random.rand(10))"
   ]
  },
  {
   "cell_type": "markdown",
   "id": "8549179d-1517-4a40-9a51-b95dc02d0fcc",
   "metadata": {
    "papermill": {
     "duration": 0.007595,
     "end_time": "2021-09-09T04:18:29.167266",
     "exception": false,
     "start_time": "2021-09-09T04:18:29.159671",
     "status": "completed"
    },
    "tags": []
   },
   "source": [
    "# Run with `n_samples` small"
   ]
  },
  {
   "cell_type": "code",
   "execution_count": 9,
   "id": "ddb768d7-9b74-424c-bdb9-9e52b9e5b181",
   "metadata": {},
   "outputs": [],
   "source": [
    "N_SAMPLES = 100"
   ]
  },
  {
   "cell_type": "code",
   "execution_count": 10,
   "id": "6f2ff213-d6b7-458f-acbf-8c73dd497a2a",
   "metadata": {},
   "outputs": [],
   "source": [
    "x = np.random.rand(N_SAMPLES)\n",
    "y = np.random.rand(N_SAMPLES)"
   ]
  },
  {
   "cell_type": "code",
   "execution_count": 11,
   "id": "d63012be-4fc7-4fba-bccd-ad155905d1d6",
   "metadata": {
    "papermill": {
     "duration": 0.01293,
     "end_time": "2021-09-09T04:18:29.187675",
     "exception": false,
     "start_time": "2021-09-09T04:18:29.174745",
     "status": "completed"
    },
    "tags": []
   },
   "outputs": [],
   "source": [
    "def func():\n",
    "    for i in range(N_REPS):\n",
    "        # py_func accesses the original python function, not the numba-optimized one\n",
    "        # this is needed to be able to profile the function\n",
    "        _cm.py_func(x, y)"
   ]
  },
  {
   "cell_type": "code",
   "execution_count": 12,
   "id": "c0abc65a-2f3c-4476-9c2a-f8d7753b75e6",
   "metadata": {
    "papermill": {
     "duration": 846.646373,
     "end_time": "2021-09-09T04:32:35.842044",
     "exception": false,
     "start_time": "2021-09-09T04:18:29.195671",
     "status": "completed"
    },
    "tags": []
   },
   "outputs": [
    {
     "name": "stdout",
     "output_type": "stream",
     "text": [
      "27.5 ms ± 0 ns per loop (mean ± std. dev. of 1 run, 1 loop each)\n"
     ]
    }
   ],
   "source": [
    "%%timeit -n1 -r1 func()\n",
    "func()"
   ]
  },
  {
   "cell_type": "code",
   "execution_count": 13,
   "id": "e80a7b02-310f-4bd9-90d5-2a41186db39e",
   "metadata": {
    "papermill": {
     "duration": 53.073946,
     "end_time": "2021-09-09T04:33:29.821312",
     "exception": false,
     "start_time": "2021-09-09T04:32:36.747366",
     "status": "completed"
    },
    "tags": []
   },
   "outputs": [
    {
     "name": "stdout",
     "output_type": "stream",
     "text": [
      " \n",
      "*** Profile printout saved to text file '01-n_samples_small.txt'. \n"
     ]
    },
    {
     "data": {
      "text/plain": [
       "         154 function calls in 0.032 seconds\n",
       "\n",
       "   Ordered by: cumulative time\n",
       "\n",
       "   ncalls  tottime  percall  cumtime  percall filename:lineno(function)\n",
       "        1    0.000    0.000    0.032    0.032 {built-in method builtins.exec}\n",
       "        1    0.000    0.000    0.032    0.032 <string>:1(<module>)\n",
       "        1    0.000    0.000    0.032    0.032 1556911885.py:1(func)\n",
       "       10    0.001    0.000    0.032    0.003 coef.py:265(_cm)\n",
       "       10    0.021    0.002    0.021    0.002 coef.py:198(cdist_parts)\n",
       "       20    0.010    0.000    0.010    0.000 coef.py:169(_get_parts)\n",
       "       20    0.000    0.000    0.000    0.000 coef.py:119(_get_range_n_clusters)\n",
       "       10    0.000    0.000    0.000    0.000 {method 'argmax' of 'numpy.ndarray' objects}\n",
       "       20    0.000    0.000    0.000    0.000 {built-in method numpy.zeros}\n",
       "       10    0.000    0.000    0.000    0.000 {built-in method numpy.empty}\n",
       "       10    0.000    0.000    0.000    0.000 coef.py:248(unravel_index_2d)\n",
       "       10    0.000    0.000    0.000    0.000 special.py:18(__new__)\n",
       "       20    0.000    0.000    0.000    0.000 {method 'append' of 'list' objects}\n",
       "       10    0.000    0.000    0.000    0.000 coef.py:224(get_coords_from_index)\n",
       "        1    0.000    0.000    0.000    0.000 {method 'disable' of '_lsprof.Profiler' objects}"
      ]
     },
     "metadata": {},
     "output_type": "display_data"
    }
   ],
   "source": [
    "%%prun -s cumulative -l 20 -T 01-n_samples_small.txt\n",
    "func()"
   ]
  },
  {
   "cell_type": "markdown",
   "id": "f45c25ca-ee8f-4011-b524-71ece5de0cc3",
   "metadata": {
    "papermill": {
     "duration": 0.012311,
     "end_time": "2021-09-09T06:02:23.877354",
     "exception": false,
     "start_time": "2021-09-09T06:02:23.865043",
     "status": "completed"
    },
    "tags": []
   },
   "source": [
    "**No improvement** for this case."
   ]
  },
  {
   "cell_type": "markdown",
   "id": "f6b9adcf-1da4-4496-b05f-47952fd80d7f",
   "metadata": {
    "papermill": {
     "duration": 0.007595,
     "end_time": "2021-09-09T04:18:29.167266",
     "exception": false,
     "start_time": "2021-09-09T04:18:29.159671",
     "status": "completed"
    },
    "tags": []
   },
   "source": [
    "# Run with `n_samples` large"
   ]
  },
  {
   "cell_type": "code",
   "execution_count": 14,
   "id": "7fb2ab2e-a6de-412b-9540-d00f8641290e",
   "metadata": {},
   "outputs": [],
   "source": [
    "N_SAMPLES = 100000"
   ]
  },
  {
   "cell_type": "code",
   "execution_count": 15,
   "id": "161cf922-41f7-4ced-af1f-e3d25b36b200",
   "metadata": {},
   "outputs": [],
   "source": [
    "x = np.random.rand(N_SAMPLES)\n",
    "y = np.random.rand(N_SAMPLES)"
   ]
  },
  {
   "cell_type": "code",
   "execution_count": 16,
   "id": "ede7a328-bad3-40a2-a179-1148a3229620",
   "metadata": {
    "papermill": {
     "duration": 0.01293,
     "end_time": "2021-09-09T04:18:29.187675",
     "exception": false,
     "start_time": "2021-09-09T04:18:29.174745",
     "status": "completed"
    },
    "tags": []
   },
   "outputs": [],
   "source": [
    "def func():\n",
    "    for i in range(N_REPS):\n",
    "        # py_func accesses the original python function, not the numba-optimized one\n",
    "        # this is needed to be able to profile the function\n",
    "        _cm.py_func(x, y)"
   ]
  },
  {
   "cell_type": "code",
   "execution_count": 17,
   "id": "0a7f2b1f-4b87-4dde-a46b-2acec5ac93ba",
   "metadata": {
    "papermill": {
     "duration": 846.646373,
     "end_time": "2021-09-09T04:32:35.842044",
     "exception": false,
     "start_time": "2021-09-09T04:18:29.195671",
     "status": "completed"
    },
    "tags": []
   },
   "outputs": [
    {
     "name": "stdout",
     "output_type": "stream",
     "text": [
      "14.8 s ± 0 ns per loop (mean ± std. dev. of 1 run, 1 loop each)\n"
     ]
    }
   ],
   "source": [
    "%%timeit -n1 -r1 func()\n",
    "func()"
   ]
  },
  {
   "cell_type": "code",
   "execution_count": 18,
   "id": "74acbe27-9807-4f26-8b7e-b74d0f745b63",
   "metadata": {
    "papermill": {
     "duration": 53.073946,
     "end_time": "2021-09-09T04:33:29.821312",
     "exception": false,
     "start_time": "2021-09-09T04:32:36.747366",
     "status": "completed"
    },
    "tags": []
   },
   "outputs": [
    {
     "name": "stdout",
     "output_type": "stream",
     "text": [
      " \n",
      "*** Profile printout saved to text file '01-n_samples_large.txt'. \n"
     ]
    },
    {
     "data": {
      "text/plain": [
       "         154 function calls in 14.819 seconds\n",
       "\n",
       "   Ordered by: cumulative time\n",
       "\n",
       "   ncalls  tottime  percall  cumtime  percall filename:lineno(function)\n",
       "        1    0.000    0.000   14.819   14.819 {built-in method builtins.exec}\n",
       "        1    0.000    0.000   14.819   14.819 <string>:1(<module>)\n",
       "        1    0.005    0.005   14.819   14.819 1556911885.py:1(func)\n",
       "       10    0.009    0.001   14.815    1.481 coef.py:265(_cm)\n",
       "       20   11.105    0.555   11.105    0.555 coef.py:169(_get_parts)\n",
       "       10    3.700    0.370    3.700    0.370 coef.py:198(cdist_parts)\n",
       "       20    0.000    0.000    0.000    0.000 {built-in method numpy.zeros}\n",
       "       20    0.000    0.000    0.000    0.000 coef.py:119(_get_range_n_clusters)\n",
       "       10    0.000    0.000    0.000    0.000 {method 'argmax' of 'numpy.ndarray' objects}\n",
       "       10    0.000    0.000    0.000    0.000 {built-in method numpy.empty}\n",
       "       10    0.000    0.000    0.000    0.000 coef.py:248(unravel_index_2d)\n",
       "       10    0.000    0.000    0.000    0.000 special.py:18(__new__)\n",
       "       20    0.000    0.000    0.000    0.000 {method 'append' of 'list' objects}\n",
       "       10    0.000    0.000    0.000    0.000 coef.py:224(get_coords_from_index)\n",
       "        1    0.000    0.000    0.000    0.000 {method 'disable' of '_lsprof.Profiler' objects}"
      ]
     },
     "metadata": {},
     "output_type": "display_data"
    }
   ],
   "source": [
    "%%prun -s cumulative -l 20 -T 01-n_samples_large.txt\n",
    "func()"
   ]
  },
  {
   "cell_type": "markdown",
   "id": "0b227801-6737-47ee-b862-506c11529966",
   "metadata": {
    "papermill": {
     "duration": 0.012311,
     "end_time": "2021-09-09T06:02:23.877354",
     "exception": false,
     "start_time": "2021-09-09T06:02:23.865043",
     "status": "completed"
    },
    "tags": []
   },
   "source": [
    "**Important improvement** for this case. `cdist_parts` takes now 0.370 percall instead of 0.824 (from reference)."
   ]
  },
  {
   "cell_type": "code",
   "execution_count": null,
   "id": "2aa76596-f126-4ba8-8bba-4d31225e0e5d",
   "metadata": {},
   "outputs": [],
   "source": []
  }
 ],
 "metadata": {
  "jupytext": {
   "cell_metadata_filter": "all,-execution,-papermill,-trusted"
  },
  "kernelspec": {
   "display_name": "Python 3 (ipykernel)",
   "language": "python",
   "name": "python3"
  },
  "language_info": {
   "codemirror_mode": {
    "name": "ipython",
    "version": 3
   },
   "file_extension": ".py",
   "mimetype": "text/x-python",
   "name": "python",
   "nbconvert_exporter": "python",
   "pygments_lexer": "ipython3",
   "version": "3.9.7"
  },
  "papermill": {
   "default_parameters": {},
   "duration": 6236.82934,
   "end_time": "2021-09-09T06:02:24.316630",
   "environment_variables": {},
   "exception": null,
   "input_path": "nbs/04_clustermatch_profiling/04-compare_numba_ari.ipynb",
   "output_path": "nbs/04_clustermatch_profiling/04-compare_numba_ari.run.ipynb",
   "parameters": {},
   "start_time": "2021-09-09T04:18:27.487290",
   "version": "2.3.3"
  }
 },
 "nbformat": 4,
 "nbformat_minor": 5
}
