{
 "cells": [
  {
   "cell_type": "markdown",
   "id": "36c65ddb-8246-4b0c-a231-68a373acc2cf",
   "metadata": {
    "tags": []
   },
   "source": [
    "# Description"
   ]
  },
  {
   "cell_type": "markdown",
   "id": "337633a8-d03e-4509-b89d-f8daee598958",
   "metadata": {},
   "source": [
    "Now `_get_parts` has been optimized with previous profiling tests.\n",
    "\n",
    "Here we profile function `cdist_parts` again.\n",
    "\n",
    "This version is the final test with the completely optimized ccc's functions.\n",
    "\n",
    "This notebook was run on my laptop."
   ]
  },
  {
   "cell_type": "markdown",
   "id": "63c2b099-cc44-4fe2-93d1-40336e0a8466",
   "metadata": {
    "tags": []
   },
   "source": [
    "# Remove pycache dir"
   ]
  },
  {
   "cell_type": "code",
   "execution_count": 1,
   "id": "960c4ff0-2a73-4eaa-97d6-3269102233eb",
   "metadata": {},
   "outputs": [
    {
     "name": "stdout",
     "output_type": "stream",
     "text": [
      "/opt/code\n"
     ]
    }
   ],
   "source": [
    "!echo ${CODE_DIR}"
   ]
  },
  {
   "cell_type": "code",
   "execution_count": 2,
   "id": "e18db58a-316a-445b-a376-8b2ec18e08d8",
   "metadata": {},
   "outputs": [
    {
     "name": "stdout",
     "output_type": "stream",
     "text": [
      "/opt/code/libs/clustermatch/scipy/__pycache__\n",
      "/opt/code/libs/clustermatch/sklearn/__pycache__\n",
      "/opt/code/libs/clustermatch/__pycache__\n",
      "/opt/code/libs/clustermatch/pytorch/__pycache__\n"
     ]
    }
   ],
   "source": [
    "!find ${CODE_DIR} -regex '^.*\\(__pycache__\\)$' -print"
   ]
  },
  {
   "cell_type": "code",
   "execution_count": 3,
   "id": "b54099b0-a990-4bbd-bcbd-e206eb0f0f0e",
   "metadata": {},
   "outputs": [
    {
     "name": "stdout",
     "output_type": "stream",
     "text": [
      "find: ‘/opt/code/libs/clustermatch/scipy/__pycache__’: No such file or directory\n",
      "find: ‘/opt/code/libs/clustermatch/sklearn/__pycache__’: No such file or directory\n",
      "find: ‘/opt/code/libs/clustermatch/__pycache__’: No such file or directory\n",
      "find: ‘/opt/code/libs/clustermatch/pytorch/__pycache__’: No such file or directory\n"
     ]
    }
   ],
   "source": [
    "!find ${CODE_DIR} -regex '^.*\\(__pycache__\\)$' -exec rm -rf {} \\;"
   ]
  },
  {
   "cell_type": "code",
   "execution_count": 4,
   "id": "7a9a8098-8160-46bf-8d83-bc398cbe2382",
   "metadata": {},
   "outputs": [],
   "source": [
    "!find ${CODE_DIR} -regex '^.*\\(__pycache__\\)$' -print"
   ]
  },
  {
   "cell_type": "markdown",
   "id": "c2251313-41ac-46fd-a845-0f209689ecf6",
   "metadata": {
    "tags": []
   },
   "source": [
    "# Modules"
   ]
  },
  {
   "cell_type": "code",
   "execution_count": 5,
   "id": "987ef5f1-be49-4a6c-a4f4-b24a0a2094cb",
   "metadata": {
    "papermill": {
     "duration": 0.523444,
     "end_time": "2021-09-09T04:18:29.064564",
     "exception": false,
     "start_time": "2021-09-09T04:18:28.541120",
     "status": "completed"
    },
    "tags": []
   },
   "outputs": [],
   "source": [
    "import numpy as np\n",
    "\n",
    "from ccc.coef import ccc"
   ]
  },
  {
   "cell_type": "markdown",
   "id": "24399ccb-d33d-4bad-9baf-638c9c56feb2",
   "metadata": {
    "tags": []
   },
   "source": [
    "# Settings"
   ]
  },
  {
   "cell_type": "code",
   "execution_count": 6,
   "id": "c609cefa-f513-4cf8-9573-367744e31c5f",
   "metadata": {},
   "outputs": [],
   "source": [
    "N_REPS = 10"
   ]
  },
  {
   "cell_type": "code",
   "execution_count": 7,
   "id": "c0341a42-b8de-419f-ab37-1e4fee9dde75",
   "metadata": {
    "papermill": {
     "duration": 0.012104,
     "end_time": "2021-09-09T04:18:29.104165",
     "exception": false,
     "start_time": "2021-09-09T04:18:29.092061",
     "status": "completed"
    },
    "tags": []
   },
   "outputs": [],
   "source": [
    "np.random.seed(0)"
   ]
  },
  {
   "cell_type": "markdown",
   "id": "6fd3067b-a4f7-475e-9575-20246934537d",
   "metadata": {
    "tags": []
   },
   "source": [
    "# Setup"
   ]
  },
  {
   "cell_type": "code",
   "execution_count": 8,
   "id": "02e0507c-43ff-4693-8a3b-8ccd8f23168c",
   "metadata": {},
   "outputs": [
    {
     "data": {
      "text/plain": [
       "0.15625"
      ]
     },
     "execution_count": 8,
     "metadata": {},
     "output_type": "execute_result"
    }
   ],
   "source": [
    "# let numba compile all the code before profiling\n",
    "ccc(np.random.rand(10), np.random.rand(10))"
   ]
  },
  {
   "cell_type": "markdown",
   "id": "8549179d-1517-4a40-9a51-b95dc02d0fcc",
   "metadata": {
    "papermill": {
     "duration": 0.007595,
     "end_time": "2021-09-09T04:18:29.167266",
     "exception": false,
     "start_time": "2021-09-09T04:18:29.159671",
     "status": "completed"
    },
    "tags": []
   },
   "source": [
    "# Run with `n_samples` small"
   ]
  },
  {
   "cell_type": "markdown",
   "id": "2d3dd54f-d427-4b84-baa9-1dca830480a2",
   "metadata": {
    "papermill": {
     "duration": 0.007595,
     "end_time": "2021-09-09T04:18:29.167266",
     "exception": false,
     "start_time": "2021-09-09T04:18:29.159671",
     "status": "completed"
    },
    "tags": []
   },
   "source": [
    "## `n_samples=50`"
   ]
  },
  {
   "cell_type": "code",
   "execution_count": 9,
   "id": "e55782a3-67e4-40fc-baaa-1cecc7a7aac3",
   "metadata": {},
   "outputs": [],
   "source": [
    "N_SAMPLES = 50"
   ]
  },
  {
   "cell_type": "code",
   "execution_count": 10,
   "id": "73ee1598-1120-4a4a-90db-ec34827bb790",
   "metadata": {},
   "outputs": [],
   "source": [
    "x = np.random.rand(N_SAMPLES)\n",
    "y = np.random.rand(N_SAMPLES)"
   ]
  },
  {
   "cell_type": "code",
   "execution_count": 11,
   "id": "37d66cf4-3e44-41bb-8091-c3abf08e412c",
   "metadata": {
    "papermill": {
     "duration": 0.01293,
     "end_time": "2021-09-09T04:18:29.187675",
     "exception": false,
     "start_time": "2021-09-09T04:18:29.174745",
     "status": "completed"
    },
    "tags": []
   },
   "outputs": [],
   "source": [
    "def func():\n",
    "    for i in range(N_REPS):\n",
    "        ccc(x, y)"
   ]
  },
  {
   "cell_type": "code",
   "execution_count": 12,
   "id": "9c874e9b-2c7c-42e9-917f-26970ad4ba5e",
   "metadata": {
    "papermill": {
     "duration": 846.646373,
     "end_time": "2021-09-09T04:32:35.842044",
     "exception": false,
     "start_time": "2021-09-09T04:18:29.195671",
     "status": "completed"
    },
    "tags": []
   },
   "outputs": [
    {
     "name": "stdout",
     "output_type": "stream",
     "text": [
      "17.3 ms ± 647 µs per loop (mean ± std. dev. of 7 runs, 100 loops each)\n"
     ]
    }
   ],
   "source": [
    "%%timeit func()\n",
    "func()"
   ]
  },
  {
   "cell_type": "code",
   "execution_count": 13,
   "id": "4c0d76e6-43da-484d-89f2-bf5bc8bc43f7",
   "metadata": {
    "papermill": {
     "duration": 53.073946,
     "end_time": "2021-09-09T04:33:29.821312",
     "exception": false,
     "start_time": "2021-09-09T04:32:36.747366",
     "status": "completed"
    },
    "tags": []
   },
   "outputs": [
    {
     "name": "stdout",
     "output_type": "stream",
     "text": [
      " \n",
      "*** Profile printout saved to text file '08-n_samples_small_50.txt'. \n"
     ]
    },
    {
     "data": {
      "text/plain": [
       "         6815 function calls in 0.028 seconds\n",
       "\n",
       "   Ordered by: cumulative time\n",
       "   List reduced from 120 to 20 due to restriction <20>\n",
       "\n",
       "   ncalls  tottime  percall  cumtime  percall filename:lineno(function)\n",
       "        1    0.000    0.000    0.028    0.028 {built-in method builtins.exec}\n",
       "        1    0.000    0.000    0.028    0.028 <string>:1(<module>)\n",
       "        1    0.000    0.000    0.028    0.028 1517976664.py:1(func)\n",
       "       10    0.001    0.000    0.028    0.003 coef.py:275(cm)\n",
       "       10    0.001    0.000    0.020    0.002 coef.py:414(compute_coef)\n",
       "       10    0.000    0.000    0.019    0.002 coef.py:407(cdist_func)\n",
       "       10    0.002    0.000    0.019    0.002 coef.py:168(cdist_parts_parallel)\n",
       "      132    0.001    0.000    0.015    0.000 threading.py:280(wait)\n",
       "      540    0.015    0.000    0.015    0.000 {method 'acquire' of '_thread.lock' objects}\n",
       "       65    0.000    0.000    0.014    0.000 threading.py:556(wait)\n",
       "       70    0.000    0.000    0.012    0.000 _base.py:201(as_completed)\n",
       "       80    0.000    0.000    0.007    0.000 thread.py:155(submit)\n",
       "       80    0.000    0.000    0.006    0.000 thread.py:174(_adjust_thread_count)\n",
       "       30    0.000    0.000    0.004    0.000 threading.py:873(start)\n",
       "       10    0.000    0.000    0.004    0.000 coef.py:186(<dictcomp>)\n",
       "       10    0.000    0.000    0.004    0.000 _base.py:572(map)\n",
       "       10    0.000    0.000    0.004    0.000 _base.py:597(<listcomp>)\n",
       "       80    0.000    0.000    0.001    0.000 _base.py:417(result)\n",
       "       10    0.000    0.000    0.001    0.000 _base.py:635(__exit__)\n",
       "       10    0.000    0.000    0.001    0.000 thread.py:210(shutdown)"
      ]
     },
     "metadata": {},
     "output_type": "display_data"
    }
   ],
   "source": [
    "%%prun -s cumulative -l 20 -T 08-n_samples_small_50.txt\n",
    "func()"
   ]
  },
  {
   "cell_type": "markdown",
   "id": "7ed83a2c-6681-4b63-9f29-bd567f4b6ee0",
   "metadata": {
    "papermill": {
     "duration": 0.007595,
     "end_time": "2021-09-09T04:18:29.167266",
     "exception": false,
     "start_time": "2021-09-09T04:18:29.159671",
     "status": "completed"
    },
    "tags": []
   },
   "source": [
    "## `n_samples=100`"
   ]
  },
  {
   "cell_type": "code",
   "execution_count": 14,
   "id": "ddb768d7-9b74-424c-bdb9-9e52b9e5b181",
   "metadata": {},
   "outputs": [],
   "source": [
    "N_SAMPLES = 100"
   ]
  },
  {
   "cell_type": "code",
   "execution_count": 15,
   "id": "6f2ff213-d6b7-458f-acbf-8c73dd497a2a",
   "metadata": {},
   "outputs": [],
   "source": [
    "x = np.random.rand(N_SAMPLES)\n",
    "y = np.random.rand(N_SAMPLES)"
   ]
  },
  {
   "cell_type": "code",
   "execution_count": 16,
   "id": "d63012be-4fc7-4fba-bccd-ad155905d1d6",
   "metadata": {
    "papermill": {
     "duration": 0.01293,
     "end_time": "2021-09-09T04:18:29.187675",
     "exception": false,
     "start_time": "2021-09-09T04:18:29.174745",
     "status": "completed"
    },
    "tags": []
   },
   "outputs": [],
   "source": [
    "def func():\n",
    "    for i in range(N_REPS):\n",
    "        ccc(x, y)"
   ]
  },
  {
   "cell_type": "code",
   "execution_count": 17,
   "id": "c0abc65a-2f3c-4476-9c2a-f8d7753b75e6",
   "metadata": {
    "papermill": {
     "duration": 846.646373,
     "end_time": "2021-09-09T04:32:35.842044",
     "exception": false,
     "start_time": "2021-09-09T04:18:29.195671",
     "status": "completed"
    },
    "tags": []
   },
   "outputs": [
    {
     "name": "stdout",
     "output_type": "stream",
     "text": [
      "34 ms ± 878 µs per loop (mean ± std. dev. of 7 runs, 10 loops each)\n"
     ]
    }
   ],
   "source": [
    "%%timeit func()\n",
    "func()"
   ]
  },
  {
   "cell_type": "code",
   "execution_count": 18,
   "id": "e80a7b02-310f-4bd9-90d5-2a41186db39e",
   "metadata": {
    "papermill": {
     "duration": 53.073946,
     "end_time": "2021-09-09T04:33:29.821312",
     "exception": false,
     "start_time": "2021-09-09T04:32:36.747366",
     "status": "completed"
    },
    "tags": []
   },
   "outputs": [
    {
     "name": "stdout",
     "output_type": "stream",
     "text": [
      " \n",
      "*** Profile printout saved to text file '08-n_samples_small_100.txt'. \n"
     ]
    },
    {
     "data": {
      "text/plain": [
       "         9175 function calls in 0.046 seconds\n",
       "\n",
       "   Ordered by: cumulative time\n",
       "   List reduced from 120 to 20 due to restriction <20>\n",
       "\n",
       "   ncalls  tottime  percall  cumtime  percall filename:lineno(function)\n",
       "        1    0.000    0.000    0.046    0.046 {built-in method builtins.exec}\n",
       "        1    0.000    0.000    0.046    0.046 <string>:1(<module>)\n",
       "        1    0.000    0.000    0.046    0.046 1517976664.py:1(func)\n",
       "       10    0.001    0.000    0.045    0.005 coef.py:275(cm)\n",
       "       10    0.001    0.000    0.037    0.004 coef.py:414(compute_coef)\n",
       "       10    0.000    0.000    0.036    0.004 coef.py:407(cdist_func)\n",
       "       10    0.002    0.000    0.036    0.004 coef.py:168(cdist_parts_parallel)\n",
       "      203    0.001    0.000    0.030    0.000 threading.py:280(wait)\n",
       "      810    0.029    0.000    0.029    0.000 {method 'acquire' of '_thread.lock' objects}\n",
       "      100    0.000    0.000    0.028    0.000 threading.py:556(wait)\n",
       "      100    0.001    0.000    0.027    0.000 _base.py:201(as_completed)\n",
       "      110    0.001    0.000    0.009    0.000 thread.py:155(submit)\n",
       "      110    0.000    0.000    0.007    0.000 thread.py:174(_adjust_thread_count)\n",
       "       10    0.001    0.000    0.006    0.001 coef.py:186(<dictcomp>)\n",
       "       30    0.000    0.000    0.005    0.000 threading.py:873(start)\n",
       "       10    0.000    0.000    0.004    0.000 _base.py:572(map)\n",
       "       10    0.000    0.000    0.004    0.000 _base.py:597(<listcomp>)\n",
       "      110    0.000    0.000    0.002    0.000 _base.py:417(result)\n",
       "      110    0.000    0.000    0.002    0.000 threading.py:404(acquire)\n",
       "       30    0.000    0.000    0.001    0.000 _base.py:601(result_iterator)"
      ]
     },
     "metadata": {},
     "output_type": "display_data"
    }
   ],
   "source": [
    "%%prun -s cumulative -l 20 -T 08-n_samples_small_100.txt\n",
    "func()"
   ]
  },
  {
   "cell_type": "markdown",
   "id": "d33188dc-309c-4786-961f-5333b10c5436",
   "metadata": {
    "papermill": {
     "duration": 0.007595,
     "end_time": "2021-09-09T04:18:29.167266",
     "exception": false,
     "start_time": "2021-09-09T04:18:29.159671",
     "status": "completed"
    },
    "tags": []
   },
   "source": [
    "## `n_samples=500`"
   ]
  },
  {
   "cell_type": "code",
   "execution_count": 19,
   "id": "bf697073-d5ce-4cbf-93df-7449b46a92e6",
   "metadata": {},
   "outputs": [],
   "source": [
    "N_SAMPLES = 500"
   ]
  },
  {
   "cell_type": "code",
   "execution_count": 20,
   "id": "c49e08e7-0547-48e1-8288-823c76a33c97",
   "metadata": {},
   "outputs": [],
   "source": [
    "x = np.random.rand(N_SAMPLES)\n",
    "y = np.random.rand(N_SAMPLES)"
   ]
  },
  {
   "cell_type": "code",
   "execution_count": 21,
   "id": "68a7bb2c-8d00-49b3-a33c-b28e81604b6b",
   "metadata": {
    "papermill": {
     "duration": 0.01293,
     "end_time": "2021-09-09T04:18:29.187675",
     "exception": false,
     "start_time": "2021-09-09T04:18:29.174745",
     "status": "completed"
    },
    "tags": []
   },
   "outputs": [],
   "source": [
    "def func():\n",
    "    for i in range(N_REPS):\n",
    "        ccc(x, y)"
   ]
  },
  {
   "cell_type": "code",
   "execution_count": 22,
   "id": "4cb1d77f-8c4a-4e0b-93b2-4e514761d860",
   "metadata": {
    "papermill": {
     "duration": 846.646373,
     "end_time": "2021-09-09T04:32:35.842044",
     "exception": false,
     "start_time": "2021-09-09T04:18:29.195671",
     "status": "completed"
    },
    "tags": []
   },
   "outputs": [
    {
     "name": "stdout",
     "output_type": "stream",
     "text": [
      "49.8 ms ± 422 µs per loop (mean ± std. dev. of 7 runs, 10 loops each)\n"
     ]
    }
   ],
   "source": [
    "%%timeit func()\n",
    "func()"
   ]
  },
  {
   "cell_type": "code",
   "execution_count": 23,
   "id": "6db17b1a-056a-4b08-8c65-132981bd5fb0",
   "metadata": {
    "papermill": {
     "duration": 53.073946,
     "end_time": "2021-09-09T04:33:29.821312",
     "exception": false,
     "start_time": "2021-09-09T04:32:36.747366",
     "status": "completed"
    },
    "tags": []
   },
   "outputs": [
    {
     "name": "stdout",
     "output_type": "stream",
     "text": [
      " \n",
      "*** Profile printout saved to text file '08-n_samples_small_500.txt'. \n"
     ]
    },
    {
     "data": {
      "text/plain": [
       "         9391 function calls in 0.062 seconds\n",
       "\n",
       "   Ordered by: cumulative time\n",
       "   List reduced from 120 to 20 due to restriction <20>\n",
       "\n",
       "   ncalls  tottime  percall  cumtime  percall filename:lineno(function)\n",
       "        1    0.000    0.000    0.062    0.062 {built-in method builtins.exec}\n",
       "        1    0.000    0.000    0.062    0.062 <string>:1(<module>)\n",
       "        1    0.000    0.000    0.062    0.062 1517976664.py:1(func)\n",
       "       10    0.001    0.000    0.062    0.006 coef.py:275(cm)\n",
       "       10    0.001    0.000    0.048    0.005 coef.py:414(compute_coef)\n",
       "       10    0.000    0.000    0.047    0.005 coef.py:407(cdist_func)\n",
       "       10    0.002    0.000    0.047    0.005 coef.py:168(cdist_parts_parallel)\n",
       "      215    0.001    0.000    0.045    0.000 threading.py:280(wait)\n",
       "      850    0.045    0.000    0.045    0.000 {method 'acquire' of '_thread.lock' objects}\n",
       "      108    0.000    0.000    0.040    0.000 threading.py:556(wait)\n",
       "      100    0.001    0.000    0.039    0.000 _base.py:201(as_completed)\n",
       "      110    0.001    0.000    0.008    0.000 thread.py:155(submit)\n",
       "      110    0.000    0.000    0.007    0.000 thread.py:174(_adjust_thread_count)\n",
       "      110    0.000    0.000    0.006    0.000 _base.py:417(result)\n",
       "       30    0.000    0.000    0.006    0.000 _base.py:601(result_iterator)\n",
       "       10    0.001    0.000    0.006    0.001 coef.py:186(<dictcomp>)\n",
       "       30    0.000    0.000    0.004    0.000 threading.py:873(start)\n",
       "       10    0.000    0.000    0.004    0.000 _base.py:572(map)\n",
       "       10    0.000    0.000    0.004    0.000 _base.py:597(<listcomp>)\n",
       "      110    0.000    0.000    0.001    0.000 threading.py:404(acquire)"
      ]
     },
     "metadata": {},
     "output_type": "display_data"
    }
   ],
   "source": [
    "%%prun -s cumulative -l 20 -T 08-n_samples_small_500.txt\n",
    "func()"
   ]
  },
  {
   "cell_type": "markdown",
   "id": "33109630-9e94-4332-b3b9-c2c3ef32be5d",
   "metadata": {
    "papermill": {
     "duration": 0.007595,
     "end_time": "2021-09-09T04:18:29.167266",
     "exception": false,
     "start_time": "2021-09-09T04:18:29.159671",
     "status": "completed"
    },
    "tags": []
   },
   "source": [
    "## `n_samples=1000`"
   ]
  },
  {
   "cell_type": "code",
   "execution_count": 24,
   "id": "040b7a30-9289-4287-9456-0481a095b2d8",
   "metadata": {},
   "outputs": [],
   "source": [
    "N_SAMPLES = 1000"
   ]
  },
  {
   "cell_type": "code",
   "execution_count": 25,
   "id": "d90fae20-9bd8-4444-98c5-0a1c0a00cd1f",
   "metadata": {},
   "outputs": [],
   "source": [
    "x = np.random.rand(N_SAMPLES)\n",
    "y = np.random.rand(N_SAMPLES)"
   ]
  },
  {
   "cell_type": "code",
   "execution_count": 26,
   "id": "cc45d8c8-01bc-44ac-af16-f6c5cf02f91b",
   "metadata": {
    "papermill": {
     "duration": 0.01293,
     "end_time": "2021-09-09T04:18:29.187675",
     "exception": false,
     "start_time": "2021-09-09T04:18:29.174745",
     "status": "completed"
    },
    "tags": []
   },
   "outputs": [],
   "source": [
    "def func():\n",
    "    for i in range(N_REPS):\n",
    "        ccc(x, y)"
   ]
  },
  {
   "cell_type": "code",
   "execution_count": 27,
   "id": "2648c397-ed89-41f1-8d13-31b5bf5bdfa9",
   "metadata": {
    "papermill": {
     "duration": 846.646373,
     "end_time": "2021-09-09T04:32:35.842044",
     "exception": false,
     "start_time": "2021-09-09T04:18:29.195671",
     "status": "completed"
    },
    "tags": []
   },
   "outputs": [
    {
     "name": "stdout",
     "output_type": "stream",
     "text": [
      "69.3 ms ± 2.03 ms per loop (mean ± std. dev. of 7 runs, 10 loops each)\n"
     ]
    }
   ],
   "source": [
    "%%timeit func()\n",
    "func()"
   ]
  },
  {
   "cell_type": "code",
   "execution_count": 28,
   "id": "5a2921fb-0b24-4d94-b0e3-4c1fde14f325",
   "metadata": {
    "papermill": {
     "duration": 53.073946,
     "end_time": "2021-09-09T04:33:29.821312",
     "exception": false,
     "start_time": "2021-09-09T04:32:36.747366",
     "status": "completed"
    },
    "tags": []
   },
   "outputs": [
    {
     "name": "stdout",
     "output_type": "stream",
     "text": [
      " \n",
      "*** Profile printout saved to text file '08-n_samples_small_1000.txt'. \n"
     ]
    },
    {
     "data": {
      "text/plain": [
       "         9577 function calls in 0.083 seconds\n",
       "\n",
       "   Ordered by: cumulative time\n",
       "   List reduced from 120 to 20 due to restriction <20>\n",
       "\n",
       "   ncalls  tottime  percall  cumtime  percall filename:lineno(function)\n",
       "        1    0.000    0.000    0.083    0.083 {built-in method builtins.exec}\n",
       "        1    0.000    0.000    0.083    0.083 <string>:1(<module>)\n",
       "        1    0.000    0.000    0.083    0.083 1517976664.py:1(func)\n",
       "       10    0.001    0.000    0.083    0.008 coef.py:275(cm)\n",
       "      223    0.001    0.000    0.066    0.000 threading.py:280(wait)\n",
       "      882    0.065    0.000    0.065    0.000 {method 'acquire' of '_thread.lock' objects}\n",
       "       10    0.001    0.000    0.064    0.006 coef.py:414(compute_coef)\n",
       "       10    0.000    0.000    0.063    0.006 coef.py:407(cdist_func)\n",
       "       10    0.002    0.000    0.062    0.006 coef.py:168(cdist_parts_parallel)\n",
       "      115    0.000    0.000    0.055    0.000 threading.py:556(wait)\n",
       "      100    0.001    0.000    0.054    0.001 _base.py:201(as_completed)\n",
       "      110    0.000    0.000    0.012    0.000 _base.py:417(result)\n",
       "       30    0.000    0.000    0.011    0.000 _base.py:601(result_iterator)\n",
       "      110    0.001    0.000    0.008    0.000 thread.py:155(submit)\n",
       "      110    0.000    0.000    0.007    0.000 thread.py:174(_adjust_thread_count)\n",
       "       10    0.002    0.000    0.006    0.001 coef.py:186(<dictcomp>)\n",
       "       30    0.000    0.000    0.005    0.000 threading.py:873(start)\n",
       "       10    0.000    0.000    0.004    0.000 _base.py:572(map)\n",
       "       10    0.000    0.000    0.004    0.000 _base.py:597(<listcomp>)\n",
       "      185    0.001    0.000    0.002    0.000 _base.py:179(_yield_finished_futures)"
      ]
     },
     "metadata": {},
     "output_type": "display_data"
    }
   ],
   "source": [
    "%%prun -s cumulative -l 20 -T 08-n_samples_small_1000.txt\n",
    "func()"
   ]
  },
  {
   "cell_type": "markdown",
   "id": "f6b9adcf-1da4-4496-b05f-47952fd80d7f",
   "metadata": {
    "papermill": {
     "duration": 0.007595,
     "end_time": "2021-09-09T04:18:29.167266",
     "exception": false,
     "start_time": "2021-09-09T04:18:29.159671",
     "status": "completed"
    },
    "tags": []
   },
   "source": [
    "# Run with `n_samples` large"
   ]
  },
  {
   "cell_type": "markdown",
   "id": "d37e024b-d0c8-4537-9d93-90c089d6fcf5",
   "metadata": {
    "papermill": {
     "duration": 0.007595,
     "end_time": "2021-09-09T04:18:29.167266",
     "exception": false,
     "start_time": "2021-09-09T04:18:29.159671",
     "status": "completed"
    },
    "tags": []
   },
   "source": [
    "## `n_samples=50000`"
   ]
  },
  {
   "cell_type": "code",
   "execution_count": 29,
   "id": "0b772b26-0fcd-45f2-ba09-367634200bdc",
   "metadata": {},
   "outputs": [],
   "source": [
    "N_SAMPLES = 50000"
   ]
  },
  {
   "cell_type": "code",
   "execution_count": 30,
   "id": "d0f49107-e2b0-43b8-86e2-71f7c137a76d",
   "metadata": {},
   "outputs": [],
   "source": [
    "x = np.random.rand(N_SAMPLES)\n",
    "y = np.random.rand(N_SAMPLES)"
   ]
  },
  {
   "cell_type": "code",
   "execution_count": 31,
   "id": "2bbc2498-4713-4550-81c2-e847f9237580",
   "metadata": {
    "papermill": {
     "duration": 0.01293,
     "end_time": "2021-09-09T04:18:29.187675",
     "exception": false,
     "start_time": "2021-09-09T04:18:29.174745",
     "status": "completed"
    },
    "tags": []
   },
   "outputs": [],
   "source": [
    "def func():\n",
    "    for i in range(N_REPS):\n",
    "        ccc(x, y)"
   ]
  },
  {
   "cell_type": "code",
   "execution_count": 32,
   "id": "575bf5b2-cc3a-4db1-a93a-1a84e20251bf",
   "metadata": {
    "papermill": {
     "duration": 846.646373,
     "end_time": "2021-09-09T04:32:35.842044",
     "exception": false,
     "start_time": "2021-09-09T04:18:29.195671",
     "status": "completed"
    },
    "tags": []
   },
   "outputs": [
    {
     "name": "stdout",
     "output_type": "stream",
     "text": [
      "2.47 s ± 110 ms per loop (mean ± std. dev. of 7 runs, 1 loop each)\n"
     ]
    }
   ],
   "source": [
    "%%timeit func()\n",
    "func()"
   ]
  },
  {
   "cell_type": "code",
   "execution_count": 33,
   "id": "7a003fc9-3ec7-40b3-91ff-7da8de970a98",
   "metadata": {
    "papermill": {
     "duration": 53.073946,
     "end_time": "2021-09-09T04:33:29.821312",
     "exception": false,
     "start_time": "2021-09-09T04:32:36.747366",
     "status": "completed"
    },
    "tags": []
   },
   "outputs": [
    {
     "name": "stdout",
     "output_type": "stream",
     "text": [
      " \n",
      "*** Profile printout saved to text file '08-n_samples_large_50000.txt'. \n"
     ]
    },
    {
     "data": {
      "text/plain": [
       "         9633 function calls in 2.469 seconds\n",
       "\n",
       "   Ordered by: cumulative time\n",
       "   List reduced from 120 to 20 due to restriction <20>\n",
       "\n",
       "   ncalls  tottime  percall  cumtime  percall filename:lineno(function)\n",
       "        1    0.000    0.000    2.469    2.469 {built-in method builtins.exec}\n",
       "        1    0.000    0.000    2.469    2.469 <string>:1(<module>)\n",
       "        1    0.000    0.000    2.469    2.469 1517976664.py:1(func)\n",
       "       10    0.003    0.000    2.469    0.247 coef.py:275(cm)\n",
       "      220    0.001    0.000    2.448    0.011 threading.py:280(wait)\n",
       "      890    2.448    0.003    2.448    0.003 {method 'acquire' of '_thread.lock' objects}\n",
       "       10    0.001    0.000    1.676    0.168 coef.py:414(compute_coef)\n",
       "       10    0.000    0.000    1.675    0.168 coef.py:407(cdist_func)\n",
       "       10    0.001    0.000    1.675    0.167 coef.py:168(cdist_parts_parallel)\n",
       "      120    0.000    0.000    1.668    0.014 threading.py:556(wait)\n",
       "      100    0.001    0.000    1.667    0.017 _base.py:201(as_completed)\n",
       "      110    0.000    0.000    0.781    0.007 _base.py:417(result)\n",
       "       30    0.000    0.000    0.780    0.026 _base.py:601(result_iterator)\n",
       "      110    0.001    0.000    0.008    0.000 thread.py:155(submit)\n",
       "      110    0.000    0.000    0.007    0.000 thread.py:174(_adjust_thread_count)\n",
       "       10    0.002    0.000    0.006    0.001 coef.py:186(<dictcomp>)\n",
       "       30    0.000    0.000    0.004    0.000 threading.py:873(start)\n",
       "       10    0.000    0.000    0.004    0.000 _base.py:572(map)\n",
       "       10    0.000    0.000    0.004    0.000 _base.py:597(<listcomp>)\n",
       "       10    0.000    0.000    0.002    0.000 _base.py:635(__exit__)"
      ]
     },
     "metadata": {},
     "output_type": "display_data"
    }
   ],
   "source": [
    "%%prun -s cumulative -l 20 -T 08-n_samples_large_50000.txt\n",
    "func()"
   ]
  },
  {
   "cell_type": "markdown",
   "id": "6cc22cbb-bcd3-4e9d-b58e-ec1a69add576",
   "metadata": {
    "papermill": {
     "duration": 0.007595,
     "end_time": "2021-09-09T04:18:29.167266",
     "exception": false,
     "start_time": "2021-09-09T04:18:29.159671",
     "status": "completed"
    },
    "tags": []
   },
   "source": [
    "## `n_samples=100000`"
   ]
  },
  {
   "cell_type": "code",
   "execution_count": 34,
   "id": "7fb2ab2e-a6de-412b-9540-d00f8641290e",
   "metadata": {},
   "outputs": [],
   "source": [
    "N_SAMPLES = 100000"
   ]
  },
  {
   "cell_type": "code",
   "execution_count": 35,
   "id": "161cf922-41f7-4ced-af1f-e3d25b36b200",
   "metadata": {},
   "outputs": [],
   "source": [
    "x = np.random.rand(N_SAMPLES)\n",
    "y = np.random.rand(N_SAMPLES)"
   ]
  },
  {
   "cell_type": "code",
   "execution_count": 36,
   "id": "ede7a328-bad3-40a2-a179-1148a3229620",
   "metadata": {
    "papermill": {
     "duration": 0.01293,
     "end_time": "2021-09-09T04:18:29.187675",
     "exception": false,
     "start_time": "2021-09-09T04:18:29.174745",
     "status": "completed"
    },
    "tags": []
   },
   "outputs": [],
   "source": [
    "def func():\n",
    "    for i in range(N_REPS):\n",
    "        ccc(x, y)"
   ]
  },
  {
   "cell_type": "code",
   "execution_count": 37,
   "id": "0a7f2b1f-4b87-4dde-a46b-2acec5ac93ba",
   "metadata": {
    "papermill": {
     "duration": 846.646373,
     "end_time": "2021-09-09T04:32:35.842044",
     "exception": false,
     "start_time": "2021-09-09T04:18:29.195671",
     "status": "completed"
    },
    "tags": []
   },
   "outputs": [
    {
     "name": "stdout",
     "output_type": "stream",
     "text": [
      "5.13 s ± 115 ms per loop (mean ± std. dev. of 7 runs, 1 loop each)\n"
     ]
    }
   ],
   "source": [
    "%%timeit func()\n",
    "func()"
   ]
  },
  {
   "cell_type": "code",
   "execution_count": 38,
   "id": "74acbe27-9807-4f26-8b7e-b74d0f745b63",
   "metadata": {
    "papermill": {
     "duration": 53.073946,
     "end_time": "2021-09-09T04:33:29.821312",
     "exception": false,
     "start_time": "2021-09-09T04:32:36.747366",
     "status": "completed"
    },
    "tags": []
   },
   "outputs": [
    {
     "name": "stdout",
     "output_type": "stream",
     "text": [
      " \n",
      "*** Profile printout saved to text file '08-n_samples_large_100000.txt'. \n"
     ]
    },
    {
     "data": {
      "text/plain": [
       "         9647 function calls in 5.917 seconds\n",
       "\n",
       "   Ordered by: cumulative time\n",
       "   List reduced from 120 to 20 due to restriction <20>\n",
       "\n",
       "   ncalls  tottime  percall  cumtime  percall filename:lineno(function)\n",
       "        1    0.000    0.000    5.917    5.917 {built-in method builtins.exec}\n",
       "        1    0.000    0.000    5.917    5.917 <string>:1(<module>)\n",
       "        1    0.000    0.000    5.917    5.917 1517976664.py:1(func)\n",
       "       10    0.005    0.001    5.917    0.592 coef.py:275(cm)\n",
       "      222    0.001    0.000    5.890    0.027 threading.py:280(wait)\n",
       "      894    5.889    0.007    5.889    0.007 {method 'acquire' of '_thread.lock' objects}\n",
       "       10    0.001    0.000    4.013    0.401 coef.py:414(compute_coef)\n",
       "       10    0.000    0.000    4.011    0.401 coef.py:407(cdist_func)\n",
       "       10    0.002    0.000    4.011    0.401 coef.py:168(cdist_parts_parallel)\n",
       "      120    0.000    0.000    4.002    0.033 threading.py:556(wait)\n",
       "      100    0.001    0.000    4.001    0.040 _base.py:201(as_completed)\n",
       "      110    0.000    0.000    1.888    0.017 _base.py:417(result)\n",
       "       30    0.000    0.000    1.888    0.063 _base.py:601(result_iterator)\n",
       "      110    0.001    0.000    0.010    0.000 thread.py:155(submit)\n",
       "      110    0.001    0.000    0.008    0.000 thread.py:174(_adjust_thread_count)\n",
       "       10    0.003    0.000    0.008    0.001 coef.py:186(<dictcomp>)\n",
       "       30    0.000    0.000    0.005    0.000 threading.py:873(start)\n",
       "       10    0.000    0.000    0.005    0.000 _base.py:572(map)\n",
       "       10    0.000    0.000    0.005    0.000 _base.py:597(<listcomp>)\n",
       "       50    0.002    0.000    0.002    0.000 {built-in method numpy.zeros}"
      ]
     },
     "metadata": {},
     "output_type": "display_data"
    }
   ],
   "source": [
    "%%prun -s cumulative -l 20 -T 08-n_samples_large_100000.txt\n",
    "func()"
   ]
  },
  {
   "cell_type": "code",
   "execution_count": null,
   "id": "2aa76596-f126-4ba8-8bba-4d31225e0e5d",
   "metadata": {},
   "outputs": [],
   "source": []
  }
 ],
 "metadata": {
  "jupytext": {
   "cell_metadata_filter": "all,-execution,-papermill,-trusted"
  },
  "kernelspec": {
   "display_name": "Python 3 (ipykernel)",
   "language": "python",
   "name": "python3"
  },
  "language_info": {
   "codemirror_mode": {
    "name": "ipython",
    "version": 3
   },
   "file_extension": ".py",
   "mimetype": "text/x-python",
   "name": "python",
   "nbconvert_exporter": "python",
   "pygments_lexer": "ipython3",
   "version": "3.9.7"
  },
  "papermill": {
   "default_parameters": {},
   "duration": 6236.82934,
   "end_time": "2021-09-09T06:02:24.316630",
   "environment_variables": {},
   "exception": null,
   "input_path": "nbs/04_clustermatch_profiling/04-compare_numba_ari.ipynb",
   "output_path": "nbs/04_clustermatch_profiling/04-compare_numba_ari.run.ipynb",
   "parameters": {},
   "start_time": "2021-09-09T04:18:27.487290",
   "version": "2.3.3"
  }
 },
 "nbformat": 4,
 "nbformat_minor": 5
}
