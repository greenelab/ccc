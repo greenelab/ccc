{
 "cells": [
  {
   "cell_type": "markdown",
   "id": "744d19b4-b770-43f0-90bc-7c54450f8676",
   "metadata": {
    "tags": []
   },
   "source": [
    "# Description"
   ]
  },
  {
   "cell_type": "markdown",
   "id": "771c7338-cfa3-488d-9f08-385c2f8ccd20",
   "metadata": {},
   "source": [
    "Creates a point of comparison with non-optimized version of clustermatch."
   ]
  },
  {
   "cell_type": "markdown",
   "id": "84ba2172-a2d4-45c0-b794-d1799b4e4a78",
   "metadata": {
    "tags": []
   },
   "source": [
    "# Remove pycache dir"
   ]
  },
  {
   "cell_type": "code",
   "execution_count": 1,
   "id": "50f2a167-f39f-4e71-9fb3-1912505f9e21",
   "metadata": {},
   "outputs": [
    {
     "name": "stdout",
     "output_type": "stream",
     "text": [
      "/opt/code\n"
     ]
    }
   ],
   "source": [
    "!echo ${CODE_DIR}"
   ]
  },
  {
   "cell_type": "code",
   "execution_count": 2,
   "id": "5c0b1527-69a0-4fad-856c-83f96fafc2a9",
   "metadata": {},
   "outputs": [
    {
     "name": "stdout",
     "output_type": "stream",
     "text": [
      "/opt/code/libs/clustermatch/__pycache__\n"
     ]
    }
   ],
   "source": [
    "!find ${CODE_DIR} -regex '^.*\\(__pycache__\\)$' -print"
   ]
  },
  {
   "cell_type": "code",
   "execution_count": 3,
   "id": "b4ae32c5-7fa2-45d4-99f4-934a7f4462e6",
   "metadata": {},
   "outputs": [
    {
     "name": "stdout",
     "output_type": "stream",
     "text": [
      "find: ‘/opt/code/libs/clustermatch/__pycache__’: No such file or directory\n"
     ]
    }
   ],
   "source": [
    "!find ${CODE_DIR} -regex '^.*\\(__pycache__\\)$' -exec rm -rf {} \\;"
   ]
  },
  {
   "cell_type": "code",
   "execution_count": 4,
   "id": "27d383dc-4d7c-483f-999c-23752d3f09f7",
   "metadata": {},
   "outputs": [],
   "source": [
    "!find ${CODE_DIR} -regex '^.*\\(__pycache__\\)$' -print"
   ]
  },
  {
   "cell_type": "markdown",
   "id": "ab9c1905-6d5e-435b-a1b2-701c754d770d",
   "metadata": {
    "tags": []
   },
   "source": [
    "# Modules"
   ]
  },
  {
   "cell_type": "code",
   "execution_count": 5,
   "id": "0bd1d6fe-1df8-41e2-87bc-1a4bef0e0c83",
   "metadata": {
    "papermill": {
     "duration": 0.523444,
     "end_time": "2021-09-09T04:18:29.064564",
     "exception": false,
     "start_time": "2021-09-09T04:18:28.541120",
     "status": "completed"
    },
    "tags": []
   },
   "outputs": [],
   "source": [
    "import numpy as np\n",
    "\n",
    "from clustermatch.coef import _cm"
   ]
  },
  {
   "cell_type": "markdown",
   "id": "5db863ce-d030-425b-afda-2e04ea3cc55a",
   "metadata": {
    "tags": []
   },
   "source": [
    "# Data"
   ]
  },
  {
   "cell_type": "code",
   "execution_count": 6,
   "id": "19f7405d-338c-444d-8476-01a35310edca",
   "metadata": {},
   "outputs": [],
   "source": [
    "N_REPS = 100\n",
    "N_SAMPLES = 10000"
   ]
  },
  {
   "cell_type": "code",
   "execution_count": 7,
   "id": "ebf0fd2b-0081-41b0-8675-27e2c7c18f5a",
   "metadata": {
    "papermill": {
     "duration": 0.012104,
     "end_time": "2021-09-09T04:18:29.104165",
     "exception": false,
     "start_time": "2021-09-09T04:18:29.092061",
     "status": "completed"
    },
    "tags": []
   },
   "outputs": [],
   "source": [
    "np.random.seed(0)"
   ]
  },
  {
   "cell_type": "code",
   "execution_count": 8,
   "id": "f2259917-119a-42f7-9885-b939130e15e5",
   "metadata": {},
   "outputs": [],
   "source": [
    "x = np.random.rand(N_SAMPLES)\n",
    "y = np.random.rand(N_SAMPLES)"
   ]
  },
  {
   "cell_type": "markdown",
   "id": "d3714f75-f5af-46bb-a10f-234a88ddbeb3",
   "metadata": {
    "papermill": {
     "duration": 0.007595,
     "end_time": "2021-09-09T04:18:29.167266",
     "exception": false,
     "start_time": "2021-09-09T04:18:29.159671",
     "status": "completed"
    },
    "tags": []
   },
   "source": [
    "# Run"
   ]
  },
  {
   "cell_type": "code",
   "execution_count": 9,
   "id": "ace87b57-029a-4738-ab3c-6cdf18d92743",
   "metadata": {
    "papermill": {
     "duration": 0.01293,
     "end_time": "2021-09-09T04:18:29.187675",
     "exception": false,
     "start_time": "2021-09-09T04:18:29.174745",
     "status": "completed"
    },
    "tags": []
   },
   "outputs": [],
   "source": [
    "def func():\n",
    "    for i in range(N_REPS):\n",
    "        # py_func accesses the original python function, not the numba-optimized one\n",
    "        # this is needed to be able to profile the function\n",
    "        _cm.py_func(x, y)"
   ]
  },
  {
   "cell_type": "code",
   "execution_count": 10,
   "id": "dcebf353-801a-4598-94e0-5c5e11002650",
   "metadata": {
    "papermill": {
     "duration": 846.646373,
     "end_time": "2021-09-09T04:32:35.842044",
     "exception": false,
     "start_time": "2021-09-09T04:18:29.195671",
     "status": "completed"
    },
    "tags": []
   },
   "outputs": [
    {
     "name": "stdout",
     "output_type": "stream",
     "text": [
      "18.3 s ± 722 ms per loop (mean ± std. dev. of 7 runs, 1 loop each)\n"
     ]
    }
   ],
   "source": [
    "%%timeit func()\n",
    "func()"
   ]
  },
  {
   "cell_type": "code",
   "execution_count": 11,
   "id": "31544659-dc3d-4d71-ad1c-ac86eaa5471c",
   "metadata": {
    "papermill": {
     "duration": 53.073946,
     "end_time": "2021-09-09T04:33:29.821312",
     "exception": false,
     "start_time": "2021-09-09T04:32:36.747366",
     "status": "completed"
    },
    "tags": []
   },
   "outputs": [
    {
     "name": "stdout",
     "output_type": "stream",
     "text": [
      " \n",
      "*** Profile printout saved to text file '00-previous_version.txt'. \n"
     ]
    },
    {
     "data": {
      "text/plain": [
       "         1504 function calls in 17.720 seconds\n",
       "\n",
       "   Ordered by: cumulative time\n",
       "\n",
       "   ncalls  tottime  percall  cumtime  percall filename:lineno(function)\n",
       "        1    0.000    0.000   17.720   17.720 {built-in method builtins.exec}\n",
       "        1    0.000    0.000   17.720   17.720 <string>:1(<module>)\n",
       "        1    0.001    0.001   17.720   17.720 1556911885.py:1(func)\n",
       "      100    0.015    0.000   17.719    0.177 coef.py:266(_cm)\n",
       "      200    9.687    0.048    9.687    0.048 coef.py:160(_get_parts)\n",
       "      100    8.013    0.080    8.013    0.080 coef.py:199(cdist_parts)\n",
       "      200    0.001    0.000    0.001    0.000 coef.py:118(_get_range_n_clusters)\n",
       "      200    0.001    0.000    0.001    0.000 {built-in method numpy.zeros}\n",
       "      100    0.001    0.000    0.001    0.000 {method 'argmax' of 'numpy.ndarray' objects}\n",
       "      100    0.000    0.000    0.000    0.000 {built-in method numpy.empty}\n",
       "      100    0.000    0.000    0.000    0.000 coef.py:249(unravel_index_2d)\n",
       "      100    0.000    0.000    0.000    0.000 special.py:18(__new__)\n",
       "      200    0.000    0.000    0.000    0.000 {method 'append' of 'list' objects}\n",
       "      100    0.000    0.000    0.000    0.000 coef.py:225(get_coords_from_index)\n",
       "        1    0.000    0.000    0.000    0.000 {method 'disable' of '_lsprof.Profiler' objects}"
      ]
     },
     "metadata": {},
     "output_type": "display_data"
    }
   ],
   "source": [
    "%%prun -s cumulative -l 20 -T 00-previous_version.txt\n",
    "func()"
   ]
  },
  {
   "cell_type": "markdown",
   "id": "d43603ed-d80e-40ea-81a6-4a009ec6c113",
   "metadata": {
    "papermill": {
     "duration": 0.012311,
     "end_time": "2021-09-09T06:02:23.877354",
     "exception": false,
     "start_time": "2021-09-09T06:02:23.865043",
     "status": "completed"
    },
    "tags": []
   },
   "source": [
    "The bottleneck functions are, in order of importance:\n",
    "1. `_get_parts`\n",
    "1. `cdist_parts`"
   ]
  },
  {
   "cell_type": "code",
   "execution_count": null,
   "id": "cd78b9b5-0aaf-4aaa-a4d3-e45d73a5ee38",
   "metadata": {},
   "outputs": [],
   "source": []
  }
 ],
 "metadata": {
  "jupytext": {
   "cell_metadata_filter": "all,-execution,-papermill,-trusted",
   "text_representation": {
    "extension": ".py",
    "format_name": "percent",
    "format_version": "1.3",
    "jupytext_version": "1.11.5"
   }
  },
  "kernelspec": {
   "display_name": "Python 3 (ipykernel)",
   "language": "python",
   "name": "python3"
  },
  "language_info": {
   "codemirror_mode": {
    "name": "ipython",
    "version": 3
   },
   "file_extension": ".py",
   "mimetype": "text/x-python",
   "name": "python",
   "nbconvert_exporter": "python",
   "pygments_lexer": "ipython3",
   "version": "3.9.7"
  },
  "papermill": {
   "default_parameters": {},
   "duration": 6236.82934,
   "end_time": "2021-09-09T06:02:24.316630",
   "environment_variables": {},
   "exception": null,
   "input_path": "nbs/04_clustermatch_profiling/04-compare_numba_ari.ipynb",
   "output_path": "nbs/04_clustermatch_profiling/04-compare_numba_ari.run.ipynb",
   "parameters": {},
   "start_time": "2021-09-09T04:18:27.487290",
   "version": "2.3.3"
  }
 },
 "nbformat": 4,
 "nbformat_minor": 5
}
