{
 "cells": [
  {
   "cell_type": "markdown",
   "id": "36c65ddb-8246-4b0c-a231-68a373acc2cf",
   "metadata": {
    "papermill": {
     "duration": 0.133129,
     "end_time": "2021-11-28T04:48:45.096271",
     "exception": false,
     "start_time": "2021-11-28T04:48:44.963142",
     "status": "completed"
    },
    "tags": []
   },
   "source": [
    "# Description"
   ]
  },
  {
   "cell_type": "markdown",
   "id": "337633a8-d03e-4509-b89d-f8daee598958",
   "metadata": {
    "papermill": {
     "duration": 0.092148,
     "end_time": "2021-11-28T04:48:45.289085",
     "exception": false,
     "start_time": "2021-11-28T04:48:45.196937",
     "status": "completed"
    },
    "tags": []
   },
   "source": [
    "Exactly the same code as in `09`, but here I disable numba."
   ]
  },
  {
   "cell_type": "markdown",
   "id": "63c2b099-cc44-4fe2-93d1-40336e0a8466",
   "metadata": {
    "papermill": {
     "duration": 0.092684,
     "end_time": "2021-11-28T04:48:45.474543",
     "exception": false,
     "start_time": "2021-11-28T04:48:45.381859",
     "status": "completed"
    },
    "tags": []
   },
   "source": [
    "# Disable numba"
   ]
  },
  {
   "cell_type": "code",
   "execution_count": 1,
   "id": "20cbd5fd-aeb9-448f-91d9-9ff2d12c9c22",
   "metadata": {
    "execution": {
     "iopub.execute_input": "2021-11-28T04:48:45.668020Z",
     "iopub.status.busy": "2021-11-28T04:48:45.667465Z",
     "iopub.status.idle": "2021-11-28T04:48:45.670845Z",
     "shell.execute_reply": "2021-11-28T04:48:45.670351Z"
    },
    "papermill": {
     "duration": 0.104026,
     "end_time": "2021-11-28T04:48:45.670947",
     "exception": false,
     "start_time": "2021-11-28T04:48:45.566921",
     "status": "completed"
    },
    "tags": []
   },
   "outputs": [
    {
     "name": "stdout",
     "output_type": "stream",
     "text": [
      "env: NUMBA_DISABLE_JIT=1\n"
     ]
    }
   ],
   "source": [
    "%env NUMBA_DISABLE_JIT=1"
   ]
  },
  {
   "cell_type": "markdown",
   "id": "94028e4a-a49a-47b1-94c1-9eddd4e4a488",
   "metadata": {
    "papermill": {
     "duration": 0.093343,
     "end_time": "2021-11-28T04:48:45.859095",
     "exception": false,
     "start_time": "2021-11-28T04:48:45.765752",
     "status": "completed"
    },
    "tags": []
   },
   "source": [
    "# Remove pycache dir"
   ]
  },
  {
   "cell_type": "code",
   "execution_count": 2,
   "id": "960c4ff0-2a73-4eaa-97d6-3269102233eb",
   "metadata": {
    "execution": {
     "iopub.execute_input": "2021-11-28T04:48:46.049174Z",
     "iopub.status.busy": "2021-11-28T04:48:46.048700Z",
     "iopub.status.idle": "2021-11-28T04:48:46.645361Z",
     "shell.execute_reply": "2021-11-28T04:48:46.643791Z"
    },
    "papermill": {
     "duration": 0.693144,
     "end_time": "2021-11-28T04:48:46.645753",
     "exception": false,
     "start_time": "2021-11-28T04:48:45.952609",
     "status": "completed"
    },
    "tags": []
   },
   "outputs": [
    {
     "name": "stdout",
     "output_type": "stream",
     "text": [
      "/opt/code\n"
     ]
    }
   ],
   "source": [
    "!echo ${CODE_DIR}"
   ]
  },
  {
   "cell_type": "code",
   "execution_count": 3,
   "id": "e18db58a-316a-445b-a376-8b2ec18e08d8",
   "metadata": {
    "execution": {
     "iopub.execute_input": "2021-11-28T04:48:46.871045Z",
     "iopub.status.busy": "2021-11-28T04:48:46.870569Z",
     "iopub.status.idle": "2021-11-28T04:48:47.472477Z",
     "shell.execute_reply": "2021-11-28T04:48:47.473925Z"
    },
    "papermill": {
     "duration": 0.701644,
     "end_time": "2021-11-28T04:48:47.474380",
     "exception": false,
     "start_time": "2021-11-28T04:48:46.772736",
     "status": "completed"
    },
    "tags": []
   },
   "outputs": [
    {
     "name": "stdout",
     "output_type": "stream",
     "text": [
      "/opt/code/libs/clustermatch/__pycache__\n",
      "/opt/code/libs/clustermatch/sklearn/__pycache__\n",
      "/opt/code/libs/clustermatch/scipy/__pycache__\n",
      "/opt/code/libs/clustermatch/pytorch/__pycache__\n"
     ]
    }
   ],
   "source": [
    "!find ${CODE_DIR} -regex '^.*\\(__pycache__\\)$' -print"
   ]
  },
  {
   "cell_type": "code",
   "execution_count": 4,
   "id": "b54099b0-a990-4bbd-bcbd-e206eb0f0f0e",
   "metadata": {
    "execution": {
     "iopub.execute_input": "2021-11-28T04:48:47.700853Z",
     "iopub.status.busy": "2021-11-28T04:48:47.700396Z",
     "iopub.status.idle": "2021-11-28T04:48:48.311097Z",
     "shell.execute_reply": "2021-11-28T04:48:48.309201Z"
    },
    "papermill": {
     "duration": 0.708391,
     "end_time": "2021-11-28T04:48:48.311474",
     "exception": false,
     "start_time": "2021-11-28T04:48:47.603083",
     "status": "completed"
    },
    "tags": []
   },
   "outputs": [],
   "source": [
    "!find ${CODE_DIR} -regex '^.*\\(__pycache__\\)$' -prune -exec rm -rf {} \\;"
   ]
  },
  {
   "cell_type": "code",
   "execution_count": 5,
   "id": "7a9a8098-8160-46bf-8d83-bc398cbe2382",
   "metadata": {
    "execution": {
     "iopub.execute_input": "2021-11-28T04:48:48.540298Z",
     "iopub.status.busy": "2021-11-28T04:48:48.539788Z",
     "iopub.status.idle": "2021-11-28T04:48:49.129644Z",
     "shell.execute_reply": "2021-11-28T04:48:49.128776Z"
    },
    "papermill": {
     "duration": 0.690977,
     "end_time": "2021-11-28T04:48:49.129782",
     "exception": false,
     "start_time": "2021-11-28T04:48:48.438805",
     "status": "completed"
    },
    "tags": []
   },
   "outputs": [],
   "source": [
    "!find ${CODE_DIR} -regex '^.*\\(__pycache__\\)$' -print"
   ]
  },
  {
   "cell_type": "markdown",
   "id": "c2251313-41ac-46fd-a845-0f209689ecf6",
   "metadata": {
    "papermill": {
     "duration": 0.094662,
     "end_time": "2021-11-28T04:48:49.330888",
     "exception": false,
     "start_time": "2021-11-28T04:48:49.236226",
     "status": "completed"
    },
    "tags": []
   },
   "source": [
    "# Modules"
   ]
  },
  {
   "cell_type": "code",
   "execution_count": 6,
   "id": "987ef5f1-be49-4a6c-a4f4-b24a0a2094cb",
   "metadata": {
    "execution": {
     "iopub.execute_input": "2021-11-28T04:48:49.524467Z",
     "iopub.status.busy": "2021-11-28T04:48:49.524012Z",
     "iopub.status.idle": "2021-11-28T04:48:49.828009Z",
     "shell.execute_reply": "2021-11-28T04:48:49.827612Z"
    },
    "papermill": {
     "duration": 0.402641,
     "end_time": "2021-11-28T04:48:49.828113",
     "exception": false,
     "start_time": "2021-11-28T04:48:49.425472",
     "status": "completed"
    },
    "tags": []
   },
   "outputs": [],
   "source": [
    "import numpy as np\n",
    "\n",
    "from clustermatch.coef import cm"
   ]
  },
  {
   "cell_type": "markdown",
   "id": "24399ccb-d33d-4bad-9baf-638c9c56feb2",
   "metadata": {
    "papermill": {
     "duration": 0.094914,
     "end_time": "2021-11-28T04:48:50.018295",
     "exception": false,
     "start_time": "2021-11-28T04:48:49.923381",
     "status": "completed"
    },
    "tags": []
   },
   "source": [
    "# Settings"
   ]
  },
  {
   "cell_type": "code",
   "execution_count": 7,
   "id": "c609cefa-f513-4cf8-9573-367744e31c5f",
   "metadata": {
    "execution": {
     "iopub.execute_input": "2021-11-28T04:48:50.219648Z",
     "iopub.status.busy": "2021-11-28T04:48:50.219190Z",
     "iopub.status.idle": "2021-11-28T04:48:50.220738Z",
     "shell.execute_reply": "2021-11-28T04:48:50.221089Z"
    },
    "papermill": {
     "duration": 0.108488,
     "end_time": "2021-11-28T04:48:50.221207",
     "exception": false,
     "start_time": "2021-11-28T04:48:50.112719",
     "status": "completed"
    },
    "tags": []
   },
   "outputs": [],
   "source": [
    "N_REPS = 10"
   ]
  },
  {
   "cell_type": "code",
   "execution_count": 8,
   "id": "c0341a42-b8de-419f-ab37-1e4fee9dde75",
   "metadata": {
    "execution": {
     "iopub.execute_input": "2021-11-28T04:48:50.413949Z",
     "iopub.status.busy": "2021-11-28T04:48:50.413492Z",
     "iopub.status.idle": "2021-11-28T04:48:50.414955Z",
     "shell.execute_reply": "2021-11-28T04:48:50.415293Z"
    },
    "papermill": {
     "duration": 0.099843,
     "end_time": "2021-11-28T04:48:50.415409",
     "exception": false,
     "start_time": "2021-11-28T04:48:50.315566",
     "status": "completed"
    },
    "tags": []
   },
   "outputs": [],
   "source": [
    "np.random.seed(0)"
   ]
  },
  {
   "cell_type": "markdown",
   "id": "6fd3067b-a4f7-475e-9575-20246934537d",
   "metadata": {
    "papermill": {
     "duration": 0.094997,
     "end_time": "2021-11-28T04:48:50.606212",
     "exception": false,
     "start_time": "2021-11-28T04:48:50.511215",
     "status": "completed"
    },
    "tags": []
   },
   "source": [
    "# Setup"
   ]
  },
  {
   "cell_type": "code",
   "execution_count": 9,
   "id": "02e0507c-43ff-4693-8a3b-8ccd8f23168c",
   "metadata": {
    "execution": {
     "iopub.execute_input": "2021-11-28T04:48:50.799636Z",
     "iopub.status.busy": "2021-11-28T04:48:50.799007Z",
     "iopub.status.idle": "2021-11-28T04:48:50.812023Z",
     "shell.execute_reply": "2021-11-28T04:48:50.811531Z"
    },
    "papermill": {
     "duration": 0.111135,
     "end_time": "2021-11-28T04:48:50.812117",
     "exception": false,
     "start_time": "2021-11-28T04:48:50.700982",
     "status": "completed"
    },
    "tags": []
   },
   "outputs": [
    {
     "data": {
      "text/plain": [
       "0.15625"
      ]
     },
     "execution_count": 9,
     "metadata": {},
     "output_type": "execute_result"
    }
   ],
   "source": [
    "# let numba compile all the code before profiling\n",
    "cm(np.random.rand(10), np.random.rand(10))"
   ]
  },
  {
   "cell_type": "markdown",
   "id": "8549179d-1517-4a40-9a51-b95dc02d0fcc",
   "metadata": {
    "papermill": {
     "duration": 0.096814,
     "end_time": "2021-11-28T04:48:51.005348",
     "exception": false,
     "start_time": "2021-11-28T04:48:50.908534",
     "status": "completed"
    },
    "tags": []
   },
   "source": [
    "# Run with `n_samples` small"
   ]
  },
  {
   "cell_type": "markdown",
   "id": "13ba811b",
   "metadata": {
    "papermill": {
     "duration": 0.103714,
     "end_time": "2021-11-28T04:48:51.204460",
     "exception": false,
     "start_time": "2021-11-28T04:48:51.100746",
     "status": "completed"
    },
    "tags": []
   },
   "source": [
    "## `n_samples=50`"
   ]
  },
  {
   "cell_type": "code",
   "execution_count": 10,
   "id": "68064f0b",
   "metadata": {
    "execution": {
     "iopub.execute_input": "2021-11-28T04:48:51.400556Z",
     "iopub.status.busy": "2021-11-28T04:48:51.400105Z",
     "iopub.status.idle": "2021-11-28T04:48:51.401625Z",
     "shell.execute_reply": "2021-11-28T04:48:51.401964Z"
    },
    "papermill": {
     "duration": 0.101338,
     "end_time": "2021-11-28T04:48:51.402082",
     "exception": false,
     "start_time": "2021-11-28T04:48:51.300744",
     "status": "completed"
    },
    "tags": []
   },
   "outputs": [],
   "source": [
    "N_SAMPLES = 50"
   ]
  },
  {
   "cell_type": "code",
   "execution_count": 11,
   "id": "6f2ff213-d6b7-458f-acbf-8c73dd497a2a",
   "metadata": {
    "execution": {
     "iopub.execute_input": "2021-11-28T04:48:51.598317Z",
     "iopub.status.busy": "2021-11-28T04:48:51.597872Z",
     "iopub.status.idle": "2021-11-28T04:48:51.599825Z",
     "shell.execute_reply": "2021-11-28T04:48:51.599381Z"
    },
    "papermill": {
     "duration": 0.101757,
     "end_time": "2021-11-28T04:48:51.599954",
     "exception": false,
     "start_time": "2021-11-28T04:48:51.498197",
     "status": "completed"
    },
    "tags": []
   },
   "outputs": [],
   "source": [
    "x = np.random.rand(N_SAMPLES)\n",
    "y = np.random.rand(N_SAMPLES)"
   ]
  },
  {
   "cell_type": "code",
   "execution_count": 12,
   "id": "d63012be-4fc7-4fba-bccd-ad155905d1d6",
   "metadata": {
    "execution": {
     "iopub.execute_input": "2021-11-28T04:48:51.793433Z",
     "iopub.status.busy": "2021-11-28T04:48:51.792974Z",
     "iopub.status.idle": "2021-11-28T04:48:51.794539Z",
     "shell.execute_reply": "2021-11-28T04:48:51.794891Z"
    },
    "papermill": {
     "duration": 0.0999,
     "end_time": "2021-11-28T04:48:51.795005",
     "exception": false,
     "start_time": "2021-11-28T04:48:51.695105",
     "status": "completed"
    },
    "tags": []
   },
   "outputs": [],
   "source": [
    "def func():\n",
    "    for i in range(N_REPS):\n",
    "        cm(x, y)"
   ]
  },
  {
   "cell_type": "code",
   "execution_count": 13,
   "id": "c0abc65a-2f3c-4476-9c2a-f8d7753b75e6",
   "metadata": {
    "execution": {
     "iopub.execute_input": "2021-11-28T04:48:51.990951Z",
     "iopub.status.busy": "2021-11-28T04:48:51.990485Z",
     "iopub.status.idle": "2021-11-28T04:49:04.447222Z",
     "shell.execute_reply": "2021-11-28T04:49:04.446678Z"
    },
    "papermill": {
     "duration": 12.557308,
     "end_time": "2021-11-28T04:49:04.447336",
     "exception": false,
     "start_time": "2021-11-28T04:48:51.890028",
     "status": "completed"
    },
    "tags": []
   },
   "outputs": [
    {
     "name": "stdout",
     "output_type": "stream",
     "text": [
      "137 ms ± 9.91 ms per loop (mean ± std. dev. of 7 runs, 10 loops each)\n"
     ]
    }
   ],
   "source": [
    "%%timeit func()\n",
    "func()"
   ]
  },
  {
   "cell_type": "code",
   "execution_count": 14,
   "id": "e80a7b02-310f-4bd9-90d5-2a41186db39e",
   "metadata": {
    "execution": {
     "iopub.execute_input": "2021-11-28T04:49:04.648889Z",
     "iopub.status.busy": "2021-11-28T04:49:04.648390Z",
     "iopub.status.idle": "2021-11-28T04:49:04.773812Z",
     "shell.execute_reply": "2021-11-28T04:49:04.774199Z"
    },
    "papermill": {
     "duration": 0.224868,
     "end_time": "2021-11-28T04:49:04.774318",
     "exception": false,
     "start_time": "2021-11-28T04:49:04.549450",
     "status": "completed"
    },
    "tags": []
   },
   "outputs": [
    {
     "name": "stdout",
     "output_type": "stream",
     "text": [
      " \n",
      "*** Profile printout saved to text file '10-n_samples_small_50.txt'. \n"
     ]
    }
   ],
   "source": [
    "%%prun -s cumulative -l 20 -T 10-n_samples_small_50.txt\n",
    "func()"
   ]
  },
  {
   "cell_type": "markdown",
   "id": "2548440c",
   "metadata": {
    "papermill": {
     "duration": 0.095864,
     "end_time": "2021-11-28T04:49:04.968300",
     "exception": false,
     "start_time": "2021-11-28T04:49:04.872436",
     "status": "completed"
    },
    "tags": []
   },
   "source": [
    "## `n_samples=100`"
   ]
  },
  {
   "cell_type": "code",
   "execution_count": 15,
   "id": "ddb768d7-9b74-424c-bdb9-9e52b9e5b181",
   "metadata": {
    "execution": {
     "iopub.execute_input": "2021-11-28T04:49:05.164338Z",
     "iopub.status.busy": "2021-11-28T04:49:05.163819Z",
     "iopub.status.idle": "2021-11-28T04:49:05.166146Z",
     "shell.execute_reply": "2021-11-28T04:49:05.165758Z"
    },
    "papermill": {
     "duration": 0.101829,
     "end_time": "2021-11-28T04:49:05.166254",
     "exception": false,
     "start_time": "2021-11-28T04:49:05.064425",
     "status": "completed"
    },
    "tags": []
   },
   "outputs": [],
   "source": [
    "N_SAMPLES = 100"
   ]
  },
  {
   "cell_type": "code",
   "execution_count": 16,
   "id": "161cf922-41f7-4ced-af1f-e3d25b36b200",
   "metadata": {
    "execution": {
     "iopub.execute_input": "2021-11-28T04:49:05.371147Z",
     "iopub.status.busy": "2021-11-28T04:49:05.370643Z",
     "iopub.status.idle": "2021-11-28T04:49:05.372195Z",
     "shell.execute_reply": "2021-11-28T04:49:05.372562Z"
    },
    "papermill": {
     "duration": 0.100953,
     "end_time": "2021-11-28T04:49:05.372679",
     "exception": false,
     "start_time": "2021-11-28T04:49:05.271726",
     "status": "completed"
    },
    "tags": []
   },
   "outputs": [],
   "source": [
    "x = np.random.rand(N_SAMPLES)\n",
    "y = np.random.rand(N_SAMPLES)"
   ]
  },
  {
   "cell_type": "code",
   "execution_count": 17,
   "id": "ede7a328-bad3-40a2-a179-1148a3229620",
   "metadata": {
    "execution": {
     "iopub.execute_input": "2021-11-28T04:49:05.569277Z",
     "iopub.status.busy": "2021-11-28T04:49:05.568842Z",
     "iopub.status.idle": "2021-11-28T04:49:05.570948Z",
     "shell.execute_reply": "2021-11-28T04:49:05.570508Z"
    },
    "papermill": {
     "duration": 0.101721,
     "end_time": "2021-11-28T04:49:05.571041",
     "exception": false,
     "start_time": "2021-11-28T04:49:05.469320",
     "status": "completed"
    },
    "tags": []
   },
   "outputs": [],
   "source": [
    "def func():\n",
    "    for i in range(N_REPS):\n",
    "        cm(x, y)"
   ]
  },
  {
   "cell_type": "code",
   "execution_count": 18,
   "id": "0a7f2b1f-4b87-4dde-a46b-2acec5ac93ba",
   "metadata": {
    "execution": {
     "iopub.execute_input": "2021-11-28T04:49:05.769409Z",
     "iopub.status.busy": "2021-11-28T04:49:05.768885Z",
     "iopub.status.idle": "2021-11-28T04:49:12.603673Z",
     "shell.execute_reply": "2021-11-28T04:49:12.603169Z"
    },
    "papermill": {
     "duration": 6.935569,
     "end_time": "2021-11-28T04:49:12.603781",
     "exception": false,
     "start_time": "2021-11-28T04:49:05.668212",
     "status": "completed"
    },
    "tags": []
   },
   "outputs": [
    {
     "name": "stdout",
     "output_type": "stream",
     "text": [
      "431 ms ± 49 ms per loop (mean ± std. dev. of 7 runs, 1 loop each)\n"
     ]
    }
   ],
   "source": [
    "%%timeit func()\n",
    "func()"
   ]
  },
  {
   "cell_type": "code",
   "execution_count": 19,
   "id": "74acbe27-9807-4f26-8b7e-b74d0f745b63",
   "metadata": {
    "execution": {
     "iopub.execute_input": "2021-11-28T04:49:12.805511Z",
     "iopub.status.busy": "2021-11-28T04:49:12.805009Z",
     "iopub.status.idle": "2021-11-28T04:49:13.162728Z",
     "shell.execute_reply": "2021-11-28T04:49:13.162328Z"
    },
    "papermill": {
     "duration": 0.458857,
     "end_time": "2021-11-28T04:49:13.162829",
     "exception": false,
     "start_time": "2021-11-28T04:49:12.703972",
     "status": "completed"
    },
    "tags": []
   },
   "outputs": [
    {
     "name": "stdout",
     "output_type": "stream",
     "text": [
      " \n",
      "*** Profile printout saved to text file '10-n_samples_small_100.txt'. \n"
     ]
    }
   ],
   "source": [
    "%%prun -s cumulative -l 20 -T 10-n_samples_small_100.txt\n",
    "func()"
   ]
  },
  {
   "cell_type": "markdown",
   "id": "611ff8e1",
   "metadata": {
    "papermill": {
     "duration": 0.124382,
     "end_time": "2021-11-28T04:49:13.395162",
     "exception": false,
     "start_time": "2021-11-28T04:49:13.270780",
     "status": "completed"
    },
    "tags": []
   },
   "source": [
    "## `n_samples=500`"
   ]
  },
  {
   "cell_type": "code",
   "execution_count": 20,
   "id": "4bcf4b42",
   "metadata": {
    "execution": {
     "iopub.execute_input": "2021-11-28T04:49:13.610801Z",
     "iopub.status.busy": "2021-11-28T04:49:13.610330Z",
     "iopub.status.idle": "2021-11-28T04:49:13.611782Z",
     "shell.execute_reply": "2021-11-28T04:49:13.612157Z"
    },
    "papermill": {
     "duration": 0.105945,
     "end_time": "2021-11-28T04:49:13.612274",
     "exception": false,
     "start_time": "2021-11-28T04:49:13.506329",
     "status": "completed"
    },
    "tags": []
   },
   "outputs": [],
   "source": [
    "N_SAMPLES = 500"
   ]
  },
  {
   "cell_type": "code",
   "execution_count": 21,
   "id": "0bf2f21e",
   "metadata": {
    "execution": {
     "iopub.execute_input": "2021-11-28T04:49:13.817094Z",
     "iopub.status.busy": "2021-11-28T04:49:13.816585Z",
     "iopub.status.idle": "2021-11-28T04:49:13.818055Z",
     "shell.execute_reply": "2021-11-28T04:49:13.818434Z"
    },
    "papermill": {
     "duration": 0.10433,
     "end_time": "2021-11-28T04:49:13.818563",
     "exception": false,
     "start_time": "2021-11-28T04:49:13.714233",
     "status": "completed"
    },
    "tags": []
   },
   "outputs": [],
   "source": [
    "x = np.random.rand(N_SAMPLES)\n",
    "y = np.random.rand(N_SAMPLES)"
   ]
  },
  {
   "cell_type": "code",
   "execution_count": 22,
   "id": "24c352bd",
   "metadata": {
    "execution": {
     "iopub.execute_input": "2021-11-28T04:49:14.025391Z",
     "iopub.status.busy": "2021-11-28T04:49:14.024938Z",
     "iopub.status.idle": "2021-11-28T04:49:14.026429Z",
     "shell.execute_reply": "2021-11-28T04:49:14.026826Z"
    },
    "papermill": {
     "duration": 0.107701,
     "end_time": "2021-11-28T04:49:14.026940",
     "exception": false,
     "start_time": "2021-11-28T04:49:13.919239",
     "status": "completed"
    },
    "tags": []
   },
   "outputs": [],
   "source": [
    "def func():\n",
    "    for i in range(N_REPS):\n",
    "        cm(x, y)"
   ]
  },
  {
   "cell_type": "code",
   "execution_count": 23,
   "id": "cbde4ce6",
   "metadata": {
    "execution": {
     "iopub.execute_input": "2021-11-28T04:49:14.235476Z",
     "iopub.status.busy": "2021-11-28T04:49:14.234960Z",
     "iopub.status.idle": "2021-11-28T04:49:20.958755Z",
     "shell.execute_reply": "2021-11-28T04:49:20.958292Z"
    },
    "papermill": {
     "duration": 6.831906,
     "end_time": "2021-11-28T04:49:20.958854",
     "exception": false,
     "start_time": "2021-11-28T04:49:14.126948",
     "status": "completed"
    },
    "tags": []
   },
   "outputs": [
    {
     "name": "stdout",
     "output_type": "stream",
     "text": [
      "424 ms ± 24.7 ms per loop (mean ± std. dev. of 7 runs, 1 loop each)\n"
     ]
    }
   ],
   "source": [
    "%%timeit func()\n",
    "func()"
   ]
  },
  {
   "cell_type": "code",
   "execution_count": 24,
   "id": "1250547e",
   "metadata": {
    "execution": {
     "iopub.execute_input": "2021-11-28T04:49:21.164472Z",
     "iopub.status.busy": "2021-11-28T04:49:21.163931Z",
     "iopub.status.idle": "2021-11-28T04:49:21.644595Z",
     "shell.execute_reply": "2021-11-28T04:49:21.645043Z"
    },
    "papermill": {
     "duration": 0.584886,
     "end_time": "2021-11-28T04:49:21.645192",
     "exception": false,
     "start_time": "2021-11-28T04:49:21.060306",
     "status": "completed"
    },
    "tags": []
   },
   "outputs": [
    {
     "name": "stdout",
     "output_type": "stream",
     "text": [
      " \n",
      "*** Profile printout saved to text file '10-n_samples_small_500.txt'. \n"
     ]
    }
   ],
   "source": [
    "%%prun -s cumulative -l 20 -T 10-n_samples_small_500.txt\n",
    "func()"
   ]
  },
  {
   "cell_type": "markdown",
   "id": "6853c300",
   "metadata": {
    "papermill": {
     "duration": 0.100719,
     "end_time": "2021-11-28T04:49:21.850787",
     "exception": false,
     "start_time": "2021-11-28T04:49:21.750068",
     "status": "completed"
    },
    "tags": []
   },
   "source": [
    "## `n_samples=1000`"
   ]
  },
  {
   "cell_type": "code",
   "execution_count": 25,
   "id": "f77e8490",
   "metadata": {
    "execution": {
     "iopub.execute_input": "2021-11-28T04:49:22.054184Z",
     "iopub.status.busy": "2021-11-28T04:49:22.053715Z",
     "iopub.status.idle": "2021-11-28T04:49:22.055340Z",
     "shell.execute_reply": "2021-11-28T04:49:22.055674Z"
    },
    "papermill": {
     "duration": 0.105693,
     "end_time": "2021-11-28T04:49:22.055792",
     "exception": false,
     "start_time": "2021-11-28T04:49:21.950099",
     "status": "completed"
    },
    "tags": []
   },
   "outputs": [],
   "source": [
    "N_SAMPLES = 1000"
   ]
  },
  {
   "cell_type": "code",
   "execution_count": 26,
   "id": "c99f544a",
   "metadata": {
    "execution": {
     "iopub.execute_input": "2021-11-28T04:49:22.264227Z",
     "iopub.status.busy": "2021-11-28T04:49:22.263686Z",
     "iopub.status.idle": "2021-11-28T04:49:22.265788Z",
     "shell.execute_reply": "2021-11-28T04:49:22.265253Z"
    },
    "papermill": {
     "duration": 0.109726,
     "end_time": "2021-11-28T04:49:22.265899",
     "exception": false,
     "start_time": "2021-11-28T04:49:22.156173",
     "status": "completed"
    },
    "tags": []
   },
   "outputs": [],
   "source": [
    "x = np.random.rand(N_SAMPLES)\n",
    "y = np.random.rand(N_SAMPLES)"
   ]
  },
  {
   "cell_type": "code",
   "execution_count": 27,
   "id": "d907f1d7",
   "metadata": {
    "execution": {
     "iopub.execute_input": "2021-11-28T04:49:22.471274Z",
     "iopub.status.busy": "2021-11-28T04:49:22.470812Z",
     "iopub.status.idle": "2021-11-28T04:49:22.472792Z",
     "shell.execute_reply": "2021-11-28T04:49:22.472410Z"
    },
    "papermill": {
     "duration": 0.10543,
     "end_time": "2021-11-28T04:49:22.472889",
     "exception": false,
     "start_time": "2021-11-28T04:49:22.367459",
     "status": "completed"
    },
    "tags": []
   },
   "outputs": [],
   "source": [
    "def func():\n",
    "    for i in range(N_REPS):\n",
    "        cm(x, y)"
   ]
  },
  {
   "cell_type": "code",
   "execution_count": 28,
   "id": "9721b048",
   "metadata": {
    "execution": {
     "iopub.execute_input": "2021-11-28T04:49:22.679772Z",
     "iopub.status.busy": "2021-11-28T04:49:22.678494Z",
     "iopub.status.idle": "2021-11-28T04:49:36.263285Z",
     "shell.execute_reply": "2021-11-28T04:49:36.262823Z"
    },
    "papermill": {
     "duration": 13.689829,
     "end_time": "2021-11-28T04:49:36.263384",
     "exception": false,
     "start_time": "2021-11-28T04:49:22.573555",
     "status": "completed"
    },
    "tags": []
   },
   "outputs": [
    {
     "name": "stdout",
     "output_type": "stream",
     "text": [
      "850 ms ± 4.74 ms per loop (mean ± std. dev. of 7 runs, 1 loop each)\n"
     ]
    }
   ],
   "source": [
    "%%timeit func()\n",
    "func()"
   ]
  },
  {
   "cell_type": "code",
   "execution_count": 29,
   "id": "fd0f4dd6",
   "metadata": {
    "execution": {
     "iopub.execute_input": "2021-11-28T04:49:36.478508Z",
     "iopub.status.busy": "2021-11-28T04:49:36.478030Z",
     "iopub.status.idle": "2021-11-28T04:49:37.340061Z",
     "shell.execute_reply": "2021-11-28T04:49:37.339559Z"
    },
    "papermill": {
     "duration": 0.967267,
     "end_time": "2021-11-28T04:49:37.340174",
     "exception": false,
     "start_time": "2021-11-28T04:49:36.372907",
     "status": "completed"
    },
    "tags": []
   },
   "outputs": [
    {
     "name": "stdout",
     "output_type": "stream",
     "text": [
      " \n",
      "*** Profile printout saved to text file '10-n_samples_small_1000.txt'. \n"
     ]
    }
   ],
   "source": [
    "%%prun -s cumulative -l 20 -T 10-n_samples_small_1000.txt\n",
    "func()"
   ]
  },
  {
   "cell_type": "markdown",
   "id": "fb1a50ab-a34a-4705-bb3d-e9d6278a30c5",
   "metadata": {},
   "source": [
    "**CONCLUSION:** as expected, with relatively small samples, the numba-compiled version (`09-cdist_parts_v04`) performs much better than the non-compiled one."
   ]
  },
  {
   "cell_type": "markdown",
   "id": "f6b9adcf-1da4-4496-b05f-47952fd80d7f",
   "metadata": {
    "papermill": {
     "duration": 0.102365,
     "end_time": "2021-11-28T04:49:37.547220",
     "exception": false,
     "start_time": "2021-11-28T04:49:37.444855",
     "status": "completed"
    },
    "tags": []
   },
   "source": [
    "# Run with `n_samples` large"
   ]
  },
  {
   "cell_type": "markdown",
   "id": "8f2e407c",
   "metadata": {
    "papermill": {
     "duration": 0.100776,
     "end_time": "2021-11-28T04:49:37.749892",
     "exception": false,
     "start_time": "2021-11-28T04:49:37.649116",
     "status": "completed"
    },
    "tags": []
   },
   "source": [
    "## `n_samples=50000`"
   ]
  },
  {
   "cell_type": "code",
   "execution_count": 30,
   "id": "c522396e",
   "metadata": {
    "execution": {
     "iopub.execute_input": "2021-11-28T04:49:37.955661Z",
     "iopub.status.busy": "2021-11-28T04:49:37.955221Z",
     "iopub.status.idle": "2021-11-28T04:49:37.957586Z",
     "shell.execute_reply": "2021-11-28T04:49:37.957142Z"
    },
    "papermill": {
     "duration": 0.106316,
     "end_time": "2021-11-28T04:49:37.957681",
     "exception": false,
     "start_time": "2021-11-28T04:49:37.851365",
     "status": "completed"
    },
    "tags": []
   },
   "outputs": [],
   "source": [
    "N_SAMPLES = 50000"
   ]
  },
  {
   "cell_type": "code",
   "execution_count": 31,
   "id": "a5e536cc",
   "metadata": {
    "execution": {
     "iopub.execute_input": "2021-11-28T04:49:38.166095Z",
     "iopub.status.busy": "2021-11-28T04:49:38.165555Z",
     "iopub.status.idle": "2021-11-28T04:49:38.168338Z",
     "shell.execute_reply": "2021-11-28T04:49:38.168688Z"
    },
    "papermill": {
     "duration": 0.108098,
     "end_time": "2021-11-28T04:49:38.168801",
     "exception": false,
     "start_time": "2021-11-28T04:49:38.060703",
     "status": "completed"
    },
    "tags": []
   },
   "outputs": [],
   "source": [
    "x = np.random.rand(N_SAMPLES)\n",
    "y = np.random.rand(N_SAMPLES)"
   ]
  },
  {
   "cell_type": "code",
   "execution_count": 32,
   "id": "15cb532e",
   "metadata": {
    "execution": {
     "iopub.execute_input": "2021-11-28T04:49:38.382879Z",
     "iopub.status.busy": "2021-11-28T04:49:38.382410Z",
     "iopub.status.idle": "2021-11-28T04:49:38.384635Z",
     "shell.execute_reply": "2021-11-28T04:49:38.384201Z"
    },
    "papermill": {
     "duration": 0.114217,
     "end_time": "2021-11-28T04:49:38.384727",
     "exception": false,
     "start_time": "2021-11-28T04:49:38.270510",
     "status": "completed"
    },
    "tags": []
   },
   "outputs": [],
   "source": [
    "def func():\n",
    "    for i in range(N_REPS):\n",
    "        cm(x, y)"
   ]
  },
  {
   "cell_type": "code",
   "execution_count": 33,
   "id": "91470f64",
   "metadata": {
    "execution": {
     "iopub.execute_input": "2021-11-28T04:49:38.592626Z",
     "iopub.status.busy": "2021-11-28T04:49:38.591969Z",
     "iopub.status.idle": "2021-11-28T04:50:11.652605Z",
     "shell.execute_reply": "2021-11-28T04:50:11.652954Z"
    },
    "papermill": {
     "duration": 33.166052,
     "end_time": "2021-11-28T04:50:11.653058",
     "exception": false,
     "start_time": "2021-11-28T04:49:38.487006",
     "status": "completed"
    },
    "tags": []
   },
   "outputs": [
    {
     "name": "stdout",
     "output_type": "stream",
     "text": [
      "2.06 s ± 8.35 ms per loop (mean ± std. dev. of 7 runs, 1 loop each)\n"
     ]
    }
   ],
   "source": [
    "%%timeit func()\n",
    "func()"
   ]
  },
  {
   "cell_type": "code",
   "execution_count": 34,
   "id": "4de4e0b0",
   "metadata": {
    "execution": {
     "iopub.execute_input": "2021-11-28T04:50:11.860427Z",
     "iopub.status.busy": "2021-11-28T04:50:11.859816Z",
     "iopub.status.idle": "2021-11-28T04:50:13.918712Z",
     "shell.execute_reply": "2021-11-28T04:50:13.918316Z"
    },
    "papermill": {
     "duration": 2.164387,
     "end_time": "2021-11-28T04:50:13.918809",
     "exception": false,
     "start_time": "2021-11-28T04:50:11.754422",
     "status": "completed"
    },
    "tags": []
   },
   "outputs": [
    {
     "name": "stdout",
     "output_type": "stream",
     "text": [
      " \n",
      "*** Profile printout saved to text file '10-n_samples_large_50000.txt'. \n"
     ]
    }
   ],
   "source": [
    "%%prun -s cumulative -l 20 -T 10-n_samples_large_50000.txt\n",
    "func()"
   ]
  },
  {
   "cell_type": "markdown",
   "id": "b0c07894",
   "metadata": {
    "papermill": {
     "duration": 0.102788,
     "end_time": "2021-11-28T04:50:14.124878",
     "exception": false,
     "start_time": "2021-11-28T04:50:14.022090",
     "status": "completed"
    },
    "tags": []
   },
   "source": [
    "## `n_samples=100000`"
   ]
  },
  {
   "cell_type": "code",
   "execution_count": 35,
   "id": "7fb2ab2e-a6de-412b-9540-d00f8641290e",
   "metadata": {
    "execution": {
     "iopub.execute_input": "2021-11-28T04:50:14.333111Z",
     "iopub.status.busy": "2021-11-28T04:50:14.332626Z",
     "iopub.status.idle": "2021-11-28T04:50:14.334866Z",
     "shell.execute_reply": "2021-11-28T04:50:14.334409Z"
    },
    "papermill": {
     "duration": 0.107832,
     "end_time": "2021-11-28T04:50:14.334964",
     "exception": false,
     "start_time": "2021-11-28T04:50:14.227132",
     "status": "completed"
    },
    "tags": []
   },
   "outputs": [],
   "source": [
    "N_SAMPLES = 100000"
   ]
  },
  {
   "cell_type": "code",
   "execution_count": 36,
   "id": "81765e91",
   "metadata": {
    "execution": {
     "iopub.execute_input": "2021-11-28T04:50:14.550873Z",
     "iopub.status.busy": "2021-11-28T04:50:14.550431Z",
     "iopub.status.idle": "2021-11-28T04:50:14.554032Z",
     "shell.execute_reply": "2021-11-28T04:50:14.553590Z"
    },
    "papermill": {
     "duration": 0.115762,
     "end_time": "2021-11-28T04:50:14.554128",
     "exception": false,
     "start_time": "2021-11-28T04:50:14.438366",
     "status": "completed"
    },
    "tags": []
   },
   "outputs": [],
   "source": [
    "x = np.random.rand(N_SAMPLES)\n",
    "y = np.random.rand(N_SAMPLES)"
   ]
  },
  {
   "cell_type": "code",
   "execution_count": 37,
   "id": "d408b318",
   "metadata": {
    "execution": {
     "iopub.execute_input": "2021-11-28T04:50:14.763263Z",
     "iopub.status.busy": "2021-11-28T04:50:14.762806Z",
     "iopub.status.idle": "2021-11-28T04:50:14.764472Z",
     "shell.execute_reply": "2021-11-28T04:50:14.764874Z"
    },
    "papermill": {
     "duration": 0.108356,
     "end_time": "2021-11-28T04:50:14.764985",
     "exception": false,
     "start_time": "2021-11-28T04:50:14.656629",
     "status": "completed"
    },
    "tags": []
   },
   "outputs": [],
   "source": [
    "def func():\n",
    "    for i in range(N_REPS):\n",
    "        cm(x, y)"
   ]
  },
  {
   "cell_type": "code",
   "execution_count": 38,
   "id": "aca57100",
   "metadata": {
    "execution": {
     "iopub.execute_input": "2021-11-28T04:50:14.976209Z",
     "iopub.status.busy": "2021-11-28T04:50:14.974078Z",
     "iopub.status.idle": "2021-11-28T04:51:17.270623Z",
     "shell.execute_reply": "2021-11-28T04:51:17.270973Z"
    },
    "papermill": {
     "duration": 62.402236,
     "end_time": "2021-11-28T04:51:17.271086",
     "exception": false,
     "start_time": "2021-11-28T04:50:14.868850",
     "status": "completed"
    },
    "tags": []
   },
   "outputs": [
    {
     "name": "stdout",
     "output_type": "stream",
     "text": [
      "3.88 s ± 5.12 ms per loop (mean ± std. dev. of 7 runs, 1 loop each)\n"
     ]
    }
   ],
   "source": [
    "%%timeit func()\n",
    "func()"
   ]
  },
  {
   "cell_type": "code",
   "execution_count": 39,
   "id": "b9c25f30",
   "metadata": {
    "execution": {
     "iopub.execute_input": "2021-11-28T04:51:17.482313Z",
     "iopub.status.busy": "2021-11-28T04:51:17.481577Z",
     "iopub.status.idle": "2021-11-28T04:51:21.382437Z",
     "shell.execute_reply": "2021-11-28T04:51:21.381997Z"
    },
    "papermill": {
     "duration": 4.007818,
     "end_time": "2021-11-28T04:51:21.382530",
     "exception": false,
     "start_time": "2021-11-28T04:51:17.374712",
     "status": "completed"
    },
    "tags": []
   },
   "outputs": [
    {
     "name": "stdout",
     "output_type": "stream",
     "text": [
      " \n",
      "*** Profile printout saved to text file '10-n_samples_large_100000.txt'. \n"
     ]
    }
   ],
   "source": [
    "%%prun -s cumulative -l 20 -T 10-n_samples_large_100000.txt\n",
    "func()"
   ]
  },
  {
   "cell_type": "markdown",
   "id": "3719e9b9-c895-4492-924b-b10388d52ce4",
   "metadata": {},
   "source": [
    "**CONCLUSION:** this is unexpected. With very large samples, the python version performs better! Something to look at in the future. The profiling file for 100,000 samples () shows that the `cdist_parts_parallel` is taking more time in the numba-compiled version than in the python version. Maybe the compiled ARI implementation could be improved in these cases with large samples."
   ]
  },
  {
   "cell_type": "code",
   "execution_count": null,
   "id": "2aa76596-f126-4ba8-8bba-4d31225e0e5d",
   "metadata": {
    "papermill": {
     "duration": 0.10415,
     "end_time": "2021-11-28T04:51:21.590374",
     "exception": false,
     "start_time": "2021-11-28T04:51:21.486224",
     "status": "completed"
    },
    "tags": []
   },
   "outputs": [],
   "source": []
  }
 ],
 "metadata": {
  "jupytext": {
   "cell_metadata_filter": "all,-execution,-papermill,-trusted",
   "text_representation": {
    "extension": ".py",
    "format_name": "percent",
    "format_version": "1.3",
    "jupytext_version": "1.11.5"
   }
  },
  "kernelspec": {
   "display_name": "Python 3 (ipykernel)",
   "language": "python",
   "name": "python3"
  },
  "language_info": {
   "codemirror_mode": {
    "name": "ipython",
    "version": 3
   },
   "file_extension": ".py",
   "mimetype": "text/x-python",
   "name": "python",
   "nbconvert_exporter": "python",
   "pygments_lexer": "ipython3",
   "version": "3.9.7"
  },
  "papermill": {
   "default_parameters": {},
   "duration": 158.149177,
   "end_time": "2021-11-28T04:51:21.901548",
   "environment_variables": {},
   "exception": null,
   "input_path": "nbs/others/05_clustermatch_profiling/10_cm_optimized/10-cdist_parts_v04.ipynb",
   "output_path": "nbs/others/05_clustermatch_profiling/10_cm_optimized/10-cdist_parts_v04.run.ipynb",
   "parameters": {},
   "start_time": "2021-11-28T04:48:43.752371",
   "version": "2.3.3"
  }
 },
 "nbformat": 4,
 "nbformat_minor": 5
}
