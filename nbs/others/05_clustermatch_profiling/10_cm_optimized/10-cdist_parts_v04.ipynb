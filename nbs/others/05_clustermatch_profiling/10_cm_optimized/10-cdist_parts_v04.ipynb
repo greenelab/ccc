{
 "cells": [
  {
   "cell_type": "markdown",
   "id": "36c65ddb-8246-4b0c-a231-68a373acc2cf",
   "metadata": {
    "papermill": {
     "duration": 0.12797,
     "end_time": "2021-11-24T18:47:48.825661",
     "exception": false,
     "start_time": "2021-11-24T18:47:48.697691",
     "status": "completed"
    },
    "tags": []
   },
   "source": [
    "# Description"
   ]
  },
  {
   "cell_type": "markdown",
   "id": "337633a8-d03e-4509-b89d-f8daee598958",
   "metadata": {
    "papermill": {
     "duration": 0.088446,
     "end_time": "2021-11-24T18:47:49.004678",
     "exception": false,
     "start_time": "2021-11-24T18:47:48.916232",
     "status": "completed"
    },
    "tags": []
   },
   "source": [
    "Exactly the same code as in `09`, but here I disable numba."
   ]
  },
  {
   "cell_type": "markdown",
   "id": "63c2b099-cc44-4fe2-93d1-40336e0a8466",
   "metadata": {
    "papermill": {
     "duration": 0.088305,
     "end_time": "2021-11-24T18:47:49.181869",
     "exception": false,
     "start_time": "2021-11-24T18:47:49.093564",
     "status": "completed"
    },
    "tags": []
   },
   "source": [
    "# Disable numba"
   ]
  },
  {
   "cell_type": "code",
   "execution_count": 1,
   "id": "20cbd5fd-aeb9-448f-91d9-9ff2d12c9c22",
   "metadata": {
    "execution": {
     "iopub.execute_input": "2021-11-24T18:47:49.372247Z",
     "iopub.status.busy": "2021-11-24T18:47:49.371633Z",
     "iopub.status.idle": "2021-11-24T18:47:49.375015Z",
     "shell.execute_reply": "2021-11-24T18:47:49.374473Z"
    },
    "papermill": {
     "duration": 0.104468,
     "end_time": "2021-11-24T18:47:49.375126",
     "exception": false,
     "start_time": "2021-11-24T18:47:49.270658",
     "status": "completed"
    },
    "tags": []
   },
   "outputs": [
    {
     "name": "stdout",
     "output_type": "stream",
     "text": [
      "env: NUMBA_DISABLE_JIT=1\n"
     ]
    }
   ],
   "source": [
    "%env NUMBA_DISABLE_JIT=1"
   ]
  },
  {
   "cell_type": "markdown",
   "id": "94028e4a-a49a-47b1-94c1-9eddd4e4a488",
   "metadata": {
    "papermill": {
     "duration": 0.08947,
     "end_time": "2021-11-24T18:47:49.557076",
     "exception": false,
     "start_time": "2021-11-24T18:47:49.467606",
     "status": "completed"
    },
    "tags": []
   },
   "source": [
    "# Remove pycache dir"
   ]
  },
  {
   "cell_type": "code",
   "execution_count": 2,
   "id": "960c4ff0-2a73-4eaa-97d6-3269102233eb",
   "metadata": {
    "execution": {
     "iopub.execute_input": "2021-11-24T18:47:49.741348Z",
     "iopub.status.busy": "2021-11-24T18:47:49.740880Z",
     "iopub.status.idle": "2021-11-24T18:47:50.328202Z",
     "shell.execute_reply": "2021-11-24T18:47:50.329654Z"
    },
    "papermill": {
     "duration": 0.682173,
     "end_time": "2021-11-24T18:47:50.330108",
     "exception": false,
     "start_time": "2021-11-24T18:47:49.647935",
     "status": "completed"
    },
    "tags": []
   },
   "outputs": [
    {
     "name": "stdout",
     "output_type": "stream",
     "text": [
      "/opt/code\n"
     ]
    }
   ],
   "source": [
    "!echo ${CODE_DIR}"
   ]
  },
  {
   "cell_type": "code",
   "execution_count": 3,
   "id": "e18db58a-316a-445b-a376-8b2ec18e08d8",
   "metadata": {
    "execution": {
     "iopub.execute_input": "2021-11-24T18:47:50.534559Z",
     "iopub.status.busy": "2021-11-24T18:47:50.534038Z",
     "iopub.status.idle": "2021-11-24T18:47:51.132900Z",
     "shell.execute_reply": "2021-11-24T18:47:51.131005Z"
    },
    "papermill": {
     "duration": 0.693823,
     "end_time": "2021-11-24T18:47:51.133266",
     "exception": false,
     "start_time": "2021-11-24T18:47:50.439443",
     "status": "completed"
    },
    "tags": []
   },
   "outputs": [
    {
     "name": "stdout",
     "output_type": "stream",
     "text": [
      "/opt/code/libs/clustermatch/__pycache__\n",
      "/opt/code/libs/clustermatch/sklearn/__pycache__\n",
      "/opt/code/libs/clustermatch/scipy/__pycache__\n",
      "/opt/code/libs/clustermatch/pytorch/__pycache__\n"
     ]
    }
   ],
   "source": [
    "!find ${CODE_DIR} -regex '^.*\\(__pycache__\\)$' -print"
   ]
  },
  {
   "cell_type": "code",
   "execution_count": 4,
   "id": "b54099b0-a990-4bbd-bcbd-e206eb0f0f0e",
   "metadata": {
    "execution": {
     "iopub.execute_input": "2021-11-24T18:47:51.321070Z",
     "iopub.status.busy": "2021-11-24T18:47:51.320605Z",
     "iopub.status.idle": "2021-11-24T18:47:51.933245Z",
     "shell.execute_reply": "2021-11-24T18:47:51.931384Z"
    },
    "papermill": {
     "duration": 0.707599,
     "end_time": "2021-11-24T18:47:51.933613",
     "exception": false,
     "start_time": "2021-11-24T18:47:51.226014",
     "status": "completed"
    },
    "tags": []
   },
   "outputs": [
    {
     "name": "stdout",
     "output_type": "stream",
     "text": [
      "find: ‘/opt/code/libs/clustermatch/__pycache__’: No such file or directory\n",
      "find: ‘/opt/code/libs/clustermatch/sklearn/__pycache__’: No such file or directory\n",
      "find: ‘/opt/code/libs/clustermatch/scipy/__pycache__’: No such file or directory\n",
      "find: ‘/opt/code/libs/clustermatch/pytorch/__pycache__’: No such file or directory\n"
     ]
    }
   ],
   "source": [
    "!find ${CODE_DIR} -regex '^.*\\(__pycache__\\)$' -prune -exec rm -rf {} \\;"
   ]
  },
  {
   "cell_type": "code",
   "execution_count": 5,
   "id": "7a9a8098-8160-46bf-8d83-bc398cbe2382",
   "metadata": {
    "execution": {
     "iopub.execute_input": "2021-11-24T18:47:52.159886Z",
     "iopub.status.busy": "2021-11-24T18:47:52.157421Z",
     "iopub.status.idle": "2021-11-24T18:47:52.762591Z",
     "shell.execute_reply": "2021-11-24T18:47:52.762058Z"
    },
    "papermill": {
     "duration": 0.701239,
     "end_time": "2021-11-24T18:47:52.762702",
     "exception": false,
     "start_time": "2021-11-24T18:47:52.061463",
     "status": "completed"
    },
    "tags": []
   },
   "outputs": [],
   "source": [
    "!find ${CODE_DIR} -regex '^.*\\(__pycache__\\)$' -print"
   ]
  },
  {
   "cell_type": "markdown",
   "id": "c2251313-41ac-46fd-a845-0f209689ecf6",
   "metadata": {
    "papermill": {
     "duration": 0.092014,
     "end_time": "2021-11-24T18:47:52.949238",
     "exception": false,
     "start_time": "2021-11-24T18:47:52.857224",
     "status": "completed"
    },
    "tags": []
   },
   "source": [
    "# Modules"
   ]
  },
  {
   "cell_type": "code",
   "execution_count": 6,
   "id": "987ef5f1-be49-4a6c-a4f4-b24a0a2094cb",
   "metadata": {
    "execution": {
     "iopub.execute_input": "2021-11-24T18:47:53.135967Z",
     "iopub.status.busy": "2021-11-24T18:47:53.135474Z",
     "iopub.status.idle": "2021-11-24T18:47:53.431614Z",
     "shell.execute_reply": "2021-11-24T18:47:53.431099Z"
    },
    "papermill": {
     "duration": 0.390354,
     "end_time": "2021-11-24T18:47:53.431724",
     "exception": false,
     "start_time": "2021-11-24T18:47:53.041370",
     "status": "completed"
    },
    "tags": []
   },
   "outputs": [],
   "source": [
    "import numpy as np\n",
    "\n",
    "from clustermatch.coef import cm"
   ]
  },
  {
   "cell_type": "markdown",
   "id": "24399ccb-d33d-4bad-9baf-638c9c56feb2",
   "metadata": {
    "papermill": {
     "duration": 0.09163,
     "end_time": "2021-11-24T18:47:53.618241",
     "exception": false,
     "start_time": "2021-11-24T18:47:53.526611",
     "status": "completed"
    },
    "tags": []
   },
   "source": [
    "# Settings"
   ]
  },
  {
   "cell_type": "code",
   "execution_count": 7,
   "id": "c609cefa-f513-4cf8-9573-367744e31c5f",
   "metadata": {
    "execution": {
     "iopub.execute_input": "2021-11-24T18:47:53.805001Z",
     "iopub.status.busy": "2021-11-24T18:47:53.804564Z",
     "iopub.status.idle": "2021-11-24T18:47:53.806522Z",
     "shell.execute_reply": "2021-11-24T18:47:53.806150Z"
    },
    "papermill": {
     "duration": 0.096211,
     "end_time": "2021-11-24T18:47:53.806615",
     "exception": false,
     "start_time": "2021-11-24T18:47:53.710404",
     "status": "completed"
    },
    "tags": []
   },
   "outputs": [],
   "source": [
    "N_REPS = 10"
   ]
  },
  {
   "cell_type": "code",
   "execution_count": 8,
   "id": "c0341a42-b8de-419f-ab37-1e4fee9dde75",
   "metadata": {
    "execution": {
     "iopub.execute_input": "2021-11-24T18:47:53.995773Z",
     "iopub.status.busy": "2021-11-24T18:47:53.995324Z",
     "iopub.status.idle": "2021-11-24T18:47:53.997661Z",
     "shell.execute_reply": "2021-11-24T18:47:53.997219Z"
    },
    "papermill": {
     "duration": 0.097453,
     "end_time": "2021-11-24T18:47:53.997753",
     "exception": false,
     "start_time": "2021-11-24T18:47:53.900300",
     "status": "completed"
    },
    "tags": []
   },
   "outputs": [],
   "source": [
    "np.random.seed(0)"
   ]
  },
  {
   "cell_type": "markdown",
   "id": "6fd3067b-a4f7-475e-9575-20246934537d",
   "metadata": {
    "papermill": {
     "duration": 0.091888,
     "end_time": "2021-11-24T18:47:54.182193",
     "exception": false,
     "start_time": "2021-11-24T18:47:54.090305",
     "status": "completed"
    },
    "tags": []
   },
   "source": [
    "# Setup"
   ]
  },
  {
   "cell_type": "code",
   "execution_count": 9,
   "id": "02e0507c-43ff-4693-8a3b-8ccd8f23168c",
   "metadata": {
    "execution": {
     "iopub.execute_input": "2021-11-24T18:47:54.374993Z",
     "iopub.status.busy": "2021-11-24T18:47:54.372605Z",
     "iopub.status.idle": "2021-11-24T18:47:54.388340Z",
     "shell.execute_reply": "2021-11-24T18:47:54.388787Z"
    },
    "papermill": {
     "duration": 0.114612,
     "end_time": "2021-11-24T18:47:54.388921",
     "exception": false,
     "start_time": "2021-11-24T18:47:54.274309",
     "status": "completed"
    },
    "tags": []
   },
   "outputs": [
    {
     "data": {
      "text/plain": [
       "0.15625"
      ]
     },
     "execution_count": 9,
     "metadata": {},
     "output_type": "execute_result"
    }
   ],
   "source": [
    "# let numba compile all the code before profiling\n",
    "cm(np.random.rand(10), np.random.rand(10))"
   ]
  },
  {
   "cell_type": "markdown",
   "id": "8549179d-1517-4a40-9a51-b95dc02d0fcc",
   "metadata": {
    "papermill": {
     "duration": 0.092429,
     "end_time": "2021-11-24T18:47:54.578072",
     "exception": false,
     "start_time": "2021-11-24T18:47:54.485643",
     "status": "completed"
    },
    "tags": []
   },
   "source": [
    "# Run with `n_samples` small"
   ]
  },
  {
   "cell_type": "markdown",
   "id": "13ba811b",
   "metadata": {
    "papermill": {
     "duration": 0.092726,
     "end_time": "2021-11-24T18:47:54.763588",
     "exception": false,
     "start_time": "2021-11-24T18:47:54.670862",
     "status": "completed"
    },
    "tags": []
   },
   "source": [
    "## `n_samples=50`"
   ]
  },
  {
   "cell_type": "code",
   "execution_count": 10,
   "id": "68064f0b",
   "metadata": {
    "execution": {
     "iopub.execute_input": "2021-11-24T18:47:54.953778Z",
     "iopub.status.busy": "2021-11-24T18:47:54.953324Z",
     "iopub.status.idle": "2021-11-24T18:47:54.955261Z",
     "shell.execute_reply": "2021-11-24T18:47:54.954898Z"
    },
    "papermill": {
     "duration": 0.098564,
     "end_time": "2021-11-24T18:47:54.955356",
     "exception": false,
     "start_time": "2021-11-24T18:47:54.856792",
     "status": "completed"
    },
    "tags": []
   },
   "outputs": [],
   "source": [
    "N_SAMPLES = 50"
   ]
  },
  {
   "cell_type": "code",
   "execution_count": 11,
   "id": "6f2ff213-d6b7-458f-acbf-8c73dd497a2a",
   "metadata": {
    "execution": {
     "iopub.execute_input": "2021-11-24T18:47:55.145381Z",
     "iopub.status.busy": "2021-11-24T18:47:55.144927Z",
     "iopub.status.idle": "2021-11-24T18:47:55.146559Z",
     "shell.execute_reply": "2021-11-24T18:47:55.146895Z"
    },
    "papermill": {
     "duration": 0.098439,
     "end_time": "2021-11-24T18:47:55.147010",
     "exception": false,
     "start_time": "2021-11-24T18:47:55.048571",
     "status": "completed"
    },
    "tags": []
   },
   "outputs": [],
   "source": [
    "x = np.random.rand(N_SAMPLES)\n",
    "y = np.random.rand(N_SAMPLES)"
   ]
  },
  {
   "cell_type": "code",
   "execution_count": 12,
   "id": "d63012be-4fc7-4fba-bccd-ad155905d1d6",
   "metadata": {
    "execution": {
     "iopub.execute_input": "2021-11-24T18:47:55.337914Z",
     "iopub.status.busy": "2021-11-24T18:47:55.337466Z",
     "iopub.status.idle": "2021-11-24T18:47:55.339083Z",
     "shell.execute_reply": "2021-11-24T18:47:55.339441Z"
    },
    "papermill": {
     "duration": 0.098098,
     "end_time": "2021-11-24T18:47:55.339552",
     "exception": false,
     "start_time": "2021-11-24T18:47:55.241454",
     "status": "completed"
    },
    "tags": []
   },
   "outputs": [],
   "source": [
    "def func():\n",
    "    for i in range(N_REPS):\n",
    "        cm(x, y)"
   ]
  },
  {
   "cell_type": "code",
   "execution_count": 13,
   "id": "c0abc65a-2f3c-4476-9c2a-f8d7753b75e6",
   "metadata": {
    "execution": {
     "iopub.execute_input": "2021-11-24T18:47:55.543363Z",
     "iopub.status.busy": "2021-11-24T18:47:55.542216Z",
     "iopub.status.idle": "2021-11-24T18:48:07.510752Z",
     "shell.execute_reply": "2021-11-24T18:48:07.511183Z"
    },
    "papermill": {
     "duration": 12.068766,
     "end_time": "2021-11-24T18:48:07.511331",
     "exception": false,
     "start_time": "2021-11-24T18:47:55.442565",
     "status": "completed"
    },
    "tags": []
   },
   "outputs": [
    {
     "name": "stdout",
     "output_type": "stream",
     "text": [
      "134 ms ± 7.87 ms per loop (mean ± std. dev. of 7 runs, 10 loops each)\n"
     ]
    }
   ],
   "source": [
    "%%timeit func()\n",
    "func()"
   ]
  },
  {
   "cell_type": "code",
   "execution_count": 14,
   "id": "e80a7b02-310f-4bd9-90d5-2a41186db39e",
   "metadata": {
    "execution": {
     "iopub.execute_input": "2021-11-24T18:48:07.713529Z",
     "iopub.status.busy": "2021-11-24T18:48:07.712465Z",
     "iopub.status.idle": "2021-11-24T18:48:07.839254Z",
     "shell.execute_reply": "2021-11-24T18:48:07.838795Z"
    },
    "papermill": {
     "duration": 0.22621,
     "end_time": "2021-11-24T18:48:07.839351",
     "exception": false,
     "start_time": "2021-11-24T18:48:07.613141",
     "status": "completed"
    },
    "tags": []
   },
   "outputs": [
    {
     "name": "stdout",
     "output_type": "stream",
     "text": [
      " \n",
      "*** Profile printout saved to text file '10-n_samples_small_50.txt'. \n"
     ]
    }
   ],
   "source": [
    "%%prun -s cumulative -l 20 -T 10-n_samples_small_50.txt\n",
    "func()"
   ]
  },
  {
   "cell_type": "markdown",
   "id": "2548440c",
   "metadata": {
    "papermill": {
     "duration": 0.094523,
     "end_time": "2021-11-24T18:48:08.031046",
     "exception": false,
     "start_time": "2021-11-24T18:48:07.936523",
     "status": "completed"
    },
    "tags": []
   },
   "source": [
    "## `n_samples=100`"
   ]
  },
  {
   "cell_type": "code",
   "execution_count": 15,
   "id": "ddb768d7-9b74-424c-bdb9-9e52b9e5b181",
   "metadata": {
    "execution": {
     "iopub.execute_input": "2021-11-24T18:48:08.224227Z",
     "iopub.status.busy": "2021-11-24T18:48:08.223708Z",
     "iopub.status.idle": "2021-11-24T18:48:08.225800Z",
     "shell.execute_reply": "2021-11-24T18:48:08.225423Z"
    },
    "papermill": {
     "duration": 0.099624,
     "end_time": "2021-11-24T18:48:08.225892",
     "exception": false,
     "start_time": "2021-11-24T18:48:08.126268",
     "status": "completed"
    },
    "tags": []
   },
   "outputs": [],
   "source": [
    "N_SAMPLES = 100"
   ]
  },
  {
   "cell_type": "code",
   "execution_count": 16,
   "id": "161cf922-41f7-4ced-af1f-e3d25b36b200",
   "metadata": {
    "execution": {
     "iopub.execute_input": "2021-11-24T18:48:08.421312Z",
     "iopub.status.busy": "2021-11-24T18:48:08.420727Z",
     "iopub.status.idle": "2021-11-24T18:48:08.424016Z",
     "shell.execute_reply": "2021-11-24T18:48:08.423470Z"
    },
    "papermill": {
     "duration": 0.103107,
     "end_time": "2021-11-24T18:48:08.424147",
     "exception": false,
     "start_time": "2021-11-24T18:48:08.321040",
     "status": "completed"
    },
    "tags": []
   },
   "outputs": [],
   "source": [
    "x = np.random.rand(N_SAMPLES)\n",
    "y = np.random.rand(N_SAMPLES)"
   ]
  },
  {
   "cell_type": "code",
   "execution_count": 17,
   "id": "ede7a328-bad3-40a2-a179-1148a3229620",
   "metadata": {
    "execution": {
     "iopub.execute_input": "2021-11-24T18:48:08.624987Z",
     "iopub.status.busy": "2021-11-24T18:48:08.624532Z",
     "iopub.status.idle": "2021-11-24T18:48:08.626061Z",
     "shell.execute_reply": "2021-11-24T18:48:08.626397Z"
    },
    "papermill": {
     "duration": 0.100987,
     "end_time": "2021-11-24T18:48:08.626513",
     "exception": false,
     "start_time": "2021-11-24T18:48:08.525526",
     "status": "completed"
    },
    "tags": []
   },
   "outputs": [],
   "source": [
    "def func():\n",
    "    for i in range(N_REPS):\n",
    "        cm(x, y)"
   ]
  },
  {
   "cell_type": "code",
   "execution_count": 18,
   "id": "0a7f2b1f-4b87-4dde-a46b-2acec5ac93ba",
   "metadata": {
    "execution": {
     "iopub.execute_input": "2021-11-24T18:48:08.824635Z",
     "iopub.status.busy": "2021-11-24T18:48:08.824092Z",
     "iopub.status.idle": "2021-11-24T18:48:15.201358Z",
     "shell.execute_reply": "2021-11-24T18:48:15.201769Z"
    },
    "papermill": {
     "duration": 6.479673,
     "end_time": "2021-11-24T18:48:15.201899",
     "exception": false,
     "start_time": "2021-11-24T18:48:08.722226",
     "status": "completed"
    },
    "tags": []
   },
   "outputs": [
    {
     "name": "stdout",
     "output_type": "stream",
     "text": [
      "396 ms ± 26.7 ms per loop (mean ± std. dev. of 7 runs, 1 loop each)\n"
     ]
    }
   ],
   "source": [
    "%%timeit func()\n",
    "func()"
   ]
  },
  {
   "cell_type": "code",
   "execution_count": 19,
   "id": "74acbe27-9807-4f26-8b7e-b74d0f745b63",
   "metadata": {
    "execution": {
     "iopub.execute_input": "2021-11-24T18:48:15.404448Z",
     "iopub.status.busy": "2021-11-24T18:48:15.403759Z",
     "iopub.status.idle": "2021-11-24T18:48:15.861468Z",
     "shell.execute_reply": "2021-11-24T18:48:15.860913Z"
    },
    "papermill": {
     "duration": 0.558734,
     "end_time": "2021-11-24T18:48:15.861584",
     "exception": false,
     "start_time": "2021-11-24T18:48:15.302850",
     "status": "completed"
    },
    "tags": []
   },
   "outputs": [
    {
     "name": "stdout",
     "output_type": "stream",
     "text": [
      " \n",
      "*** Profile printout saved to text file '10-n_samples_small_100.txt'. \n"
     ]
    }
   ],
   "source": [
    "%%prun -s cumulative -l 20 -T 10-n_samples_small_100.txt\n",
    "func()"
   ]
  },
  {
   "cell_type": "markdown",
   "id": "611ff8e1",
   "metadata": {
    "papermill": {
     "duration": 0.098244,
     "end_time": "2021-11-24T18:48:16.063520",
     "exception": false,
     "start_time": "2021-11-24T18:48:15.965276",
     "status": "completed"
    },
    "tags": []
   },
   "source": [
    "## `n_samples=500`"
   ]
  },
  {
   "cell_type": "code",
   "execution_count": 20,
   "id": "4bcf4b42",
   "metadata": {
    "execution": {
     "iopub.execute_input": "2021-11-24T18:48:16.261957Z",
     "iopub.status.busy": "2021-11-24T18:48:16.261516Z",
     "iopub.status.idle": "2021-11-24T18:48:16.263832Z",
     "shell.execute_reply": "2021-11-24T18:48:16.263393Z"
    },
    "papermill": {
     "duration": 0.102859,
     "end_time": "2021-11-24T18:48:16.263973",
     "exception": false,
     "start_time": "2021-11-24T18:48:16.161114",
     "status": "completed"
    },
    "tags": []
   },
   "outputs": [],
   "source": [
    "N_SAMPLES = 500"
   ]
  },
  {
   "cell_type": "code",
   "execution_count": 21,
   "id": "0bf2f21e",
   "metadata": {
    "execution": {
     "iopub.execute_input": "2021-11-24T18:48:16.466428Z",
     "iopub.status.busy": "2021-11-24T18:48:16.465903Z",
     "iopub.status.idle": "2021-11-24T18:48:16.467385Z",
     "shell.execute_reply": "2021-11-24T18:48:16.467804Z"
    },
    "papermill": {
     "duration": 0.106152,
     "end_time": "2021-11-24T18:48:16.467944",
     "exception": false,
     "start_time": "2021-11-24T18:48:16.361792",
     "status": "completed"
    },
    "tags": []
   },
   "outputs": [],
   "source": [
    "x = np.random.rand(N_SAMPLES)\n",
    "y = np.random.rand(N_SAMPLES)"
   ]
  },
  {
   "cell_type": "code",
   "execution_count": 22,
   "id": "24c352bd",
   "metadata": {
    "execution": {
     "iopub.execute_input": "2021-11-24T18:48:16.668828Z",
     "iopub.status.busy": "2021-11-24T18:48:16.668378Z",
     "iopub.status.idle": "2021-11-24T18:48:16.670223Z",
     "shell.execute_reply": "2021-11-24T18:48:16.669848Z"
    },
    "papermill": {
     "duration": 0.101698,
     "end_time": "2021-11-24T18:48:16.670317",
     "exception": false,
     "start_time": "2021-11-24T18:48:16.568619",
     "status": "completed"
    },
    "tags": []
   },
   "outputs": [],
   "source": [
    "def func():\n",
    "    for i in range(N_REPS):\n",
    "        cm(x, y)"
   ]
  },
  {
   "cell_type": "code",
   "execution_count": 23,
   "id": "cbde4ce6",
   "metadata": {
    "execution": {
     "iopub.execute_input": "2021-11-24T18:48:16.874023Z",
     "iopub.status.busy": "2021-11-24T18:48:16.871523Z",
     "iopub.status.idle": "2021-11-24T18:48:23.757462Z",
     "shell.execute_reply": "2021-11-24T18:48:23.757062Z"
    },
    "papermill": {
     "duration": 6.987892,
     "end_time": "2021-11-24T18:48:23.757565",
     "exception": false,
     "start_time": "2021-11-24T18:48:16.769673",
     "status": "completed"
    },
    "tags": []
   },
   "outputs": [
    {
     "name": "stdout",
     "output_type": "stream",
     "text": [
      "438 ms ± 34.5 ms per loop (mean ± std. dev. of 7 runs, 1 loop each)\n"
     ]
    }
   ],
   "source": [
    "%%timeit func()\n",
    "func()"
   ]
  },
  {
   "cell_type": "code",
   "execution_count": 24,
   "id": "1250547e",
   "metadata": {
    "execution": {
     "iopub.execute_input": "2021-11-24T18:48:23.961308Z",
     "iopub.status.busy": "2021-11-24T18:48:23.958863Z",
     "iopub.status.idle": "2021-11-24T18:48:24.360973Z",
     "shell.execute_reply": "2021-11-24T18:48:24.360571Z"
    },
    "papermill": {
     "duration": 0.5032,
     "end_time": "2021-11-24T18:48:24.361072",
     "exception": false,
     "start_time": "2021-11-24T18:48:23.857872",
     "status": "completed"
    },
    "tags": []
   },
   "outputs": [
    {
     "name": "stdout",
     "output_type": "stream",
     "text": [
      " \n",
      "*** Profile printout saved to text file '10-n_samples_small_500.txt'. \n"
     ]
    }
   ],
   "source": [
    "%%prun -s cumulative -l 20 -T 10-n_samples_small_500.txt\n",
    "func()"
   ]
  },
  {
   "cell_type": "markdown",
   "id": "6853c300",
   "metadata": {
    "papermill": {
     "duration": 0.105821,
     "end_time": "2021-11-24T18:48:24.568956",
     "exception": false,
     "start_time": "2021-11-24T18:48:24.463135",
     "status": "completed"
    },
    "tags": []
   },
   "source": [
    "## `n_samples=1000`"
   ]
  },
  {
   "cell_type": "code",
   "execution_count": 25,
   "id": "f77e8490",
   "metadata": {
    "execution": {
     "iopub.execute_input": "2021-11-24T18:48:24.774566Z",
     "iopub.status.busy": "2021-11-24T18:48:24.774124Z",
     "iopub.status.idle": "2021-11-24T18:48:24.776195Z",
     "shell.execute_reply": "2021-11-24T18:48:24.775718Z"
    },
    "papermill": {
     "duration": 0.105398,
     "end_time": "2021-11-24T18:48:24.776286",
     "exception": false,
     "start_time": "2021-11-24T18:48:24.670888",
     "status": "completed"
    },
    "tags": []
   },
   "outputs": [],
   "source": [
    "N_SAMPLES = 1000"
   ]
  },
  {
   "cell_type": "code",
   "execution_count": 26,
   "id": "c99f544a",
   "metadata": {
    "execution": {
     "iopub.execute_input": "2021-11-24T18:48:24.982272Z",
     "iopub.status.busy": "2021-11-24T18:48:24.981842Z",
     "iopub.status.idle": "2021-11-24T18:48:24.983512Z",
     "shell.execute_reply": "2021-11-24T18:48:24.983847Z"
    },
    "papermill": {
     "duration": 0.106091,
     "end_time": "2021-11-24T18:48:24.983974",
     "exception": false,
     "start_time": "2021-11-24T18:48:24.877883",
     "status": "completed"
    },
    "tags": []
   },
   "outputs": [],
   "source": [
    "x = np.random.rand(N_SAMPLES)\n",
    "y = np.random.rand(N_SAMPLES)"
   ]
  },
  {
   "cell_type": "code",
   "execution_count": 27,
   "id": "d907f1d7",
   "metadata": {
    "execution": {
     "iopub.execute_input": "2021-11-24T18:48:25.192604Z",
     "iopub.status.busy": "2021-11-24T18:48:25.192160Z",
     "iopub.status.idle": "2021-11-24T18:48:25.193601Z",
     "shell.execute_reply": "2021-11-24T18:48:25.193977Z"
    },
    "papermill": {
     "duration": 0.108941,
     "end_time": "2021-11-24T18:48:25.194101",
     "exception": false,
     "start_time": "2021-11-24T18:48:25.085160",
     "status": "completed"
    },
    "tags": []
   },
   "outputs": [],
   "source": [
    "def func():\n",
    "    for i in range(N_REPS):\n",
    "        cm(x, y)"
   ]
  },
  {
   "cell_type": "code",
   "execution_count": 28,
   "id": "9721b048",
   "metadata": {
    "execution": {
     "iopub.execute_input": "2021-11-24T18:48:25.401244Z",
     "iopub.status.busy": "2021-11-24T18:48:25.400781Z",
     "iopub.status.idle": "2021-11-24T18:48:39.174783Z",
     "shell.execute_reply": "2021-11-24T18:48:39.174393Z"
    },
    "papermill": {
     "duration": 13.878212,
     "end_time": "2021-11-24T18:48:39.174879",
     "exception": false,
     "start_time": "2021-11-24T18:48:25.296667",
     "status": "completed"
    },
    "tags": []
   },
   "outputs": [
    {
     "name": "stdout",
     "output_type": "stream",
     "text": [
      "861 ms ± 13.6 ms per loop (mean ± std. dev. of 7 runs, 1 loop each)\n"
     ]
    }
   ],
   "source": [
    "%%timeit func()\n",
    "func()"
   ]
  },
  {
   "cell_type": "code",
   "execution_count": 29,
   "id": "fd0f4dd6",
   "metadata": {
    "execution": {
     "iopub.execute_input": "2021-11-24T18:48:39.381371Z",
     "iopub.status.busy": "2021-11-24T18:48:39.380902Z",
     "iopub.status.idle": "2021-11-24T18:48:40.256246Z",
     "shell.execute_reply": "2021-11-24T18:48:40.256612Z"
    },
    "papermill": {
     "duration": 0.980015,
     "end_time": "2021-11-24T18:48:40.256725",
     "exception": false,
     "start_time": "2021-11-24T18:48:39.276710",
     "status": "completed"
    },
    "tags": []
   },
   "outputs": [
    {
     "name": "stdout",
     "output_type": "stream",
     "text": [
      " \n",
      "*** Profile printout saved to text file '10-n_samples_small_1000.txt'. \n"
     ]
    }
   ],
   "source": [
    "%%prun -s cumulative -l 20 -T 10-n_samples_small_1000.txt\n",
    "func()"
   ]
  },
  {
   "cell_type": "markdown",
   "id": "f6b9adcf-1da4-4496-b05f-47952fd80d7f",
   "metadata": {
    "papermill": {
     "duration": 0.10095,
     "end_time": "2021-11-24T18:48:40.460378",
     "exception": false,
     "start_time": "2021-11-24T18:48:40.359428",
     "status": "completed"
    },
    "tags": []
   },
   "source": [
    "# Run with `n_samples` large"
   ]
  },
  {
   "cell_type": "markdown",
   "id": "8f2e407c",
   "metadata": {
    "papermill": {
     "duration": 0.102384,
     "end_time": "2021-11-24T18:48:40.668512",
     "exception": false,
     "start_time": "2021-11-24T18:48:40.566128",
     "status": "completed"
    },
    "tags": []
   },
   "source": [
    "## `n_samples=50000`"
   ]
  },
  {
   "cell_type": "code",
   "execution_count": 30,
   "id": "c522396e",
   "metadata": {
    "execution": {
     "iopub.execute_input": "2021-11-24T18:48:40.875020Z",
     "iopub.status.busy": "2021-11-24T18:48:40.874577Z",
     "iopub.status.idle": "2021-11-24T18:48:40.876211Z",
     "shell.execute_reply": "2021-11-24T18:48:40.876557Z"
    },
    "papermill": {
     "duration": 0.107323,
     "end_time": "2021-11-24T18:48:40.876666",
     "exception": false,
     "start_time": "2021-11-24T18:48:40.769343",
     "status": "completed"
    },
    "tags": []
   },
   "outputs": [],
   "source": [
    "N_SAMPLES = 50000"
   ]
  },
  {
   "cell_type": "code",
   "execution_count": 31,
   "id": "a5e536cc",
   "metadata": {
    "execution": {
     "iopub.execute_input": "2021-11-24T18:48:41.083010Z",
     "iopub.status.busy": "2021-11-24T18:48:41.082557Z",
     "iopub.status.idle": "2021-11-24T18:48:41.085953Z",
     "shell.execute_reply": "2021-11-24T18:48:41.085511Z"
    },
    "papermill": {
     "duration": 0.107454,
     "end_time": "2021-11-24T18:48:41.086045",
     "exception": false,
     "start_time": "2021-11-24T18:48:40.978591",
     "status": "completed"
    },
    "tags": []
   },
   "outputs": [],
   "source": [
    "x = np.random.rand(N_SAMPLES)\n",
    "y = np.random.rand(N_SAMPLES)"
   ]
  },
  {
   "cell_type": "code",
   "execution_count": 32,
   "id": "15cb532e",
   "metadata": {
    "execution": {
     "iopub.execute_input": "2021-11-24T18:48:41.292690Z",
     "iopub.status.busy": "2021-11-24T18:48:41.292235Z",
     "iopub.status.idle": "2021-11-24T18:48:41.293777Z",
     "shell.execute_reply": "2021-11-24T18:48:41.294136Z"
    },
    "papermill": {
     "duration": 0.106227,
     "end_time": "2021-11-24T18:48:41.294248",
     "exception": false,
     "start_time": "2021-11-24T18:48:41.188021",
     "status": "completed"
    },
    "tags": []
   },
   "outputs": [],
   "source": [
    "def func():\n",
    "    for i in range(N_REPS):\n",
    "        cm(x, y)"
   ]
  },
  {
   "cell_type": "code",
   "execution_count": 33,
   "id": "91470f64",
   "metadata": {
    "execution": {
     "iopub.execute_input": "2021-11-24T18:48:41.536605Z",
     "iopub.status.busy": "2021-11-24T18:48:41.536081Z",
     "iopub.status.idle": "2021-11-24T18:49:14.597931Z",
     "shell.execute_reply": "2021-11-24T18:49:14.598279Z"
    },
    "papermill": {
     "duration": 33.176405,
     "end_time": "2021-11-24T18:49:14.598386",
     "exception": false,
     "start_time": "2021-11-24T18:48:41.421981",
     "status": "completed"
    },
    "tags": []
   },
   "outputs": [
    {
     "name": "stdout",
     "output_type": "stream",
     "text": [
      "2.06 s ± 5.69 ms per loop (mean ± std. dev. of 7 runs, 1 loop each)\n"
     ]
    }
   ],
   "source": [
    "%%timeit func()\n",
    "func()"
   ]
  },
  {
   "cell_type": "code",
   "execution_count": 34,
   "id": "4de4e0b0",
   "metadata": {
    "execution": {
     "iopub.execute_input": "2021-11-24T18:49:14.818330Z",
     "iopub.status.busy": "2021-11-24T18:49:14.817670Z",
     "iopub.status.idle": "2021-11-24T18:49:16.884705Z",
     "shell.execute_reply": "2021-11-24T18:49:16.885085Z"
    },
    "papermill": {
     "duration": 2.176103,
     "end_time": "2021-11-24T18:49:16.885204",
     "exception": false,
     "start_time": "2021-11-24T18:49:14.709101",
     "status": "completed"
    },
    "tags": []
   },
   "outputs": [
    {
     "name": "stdout",
     "output_type": "stream",
     "text": [
      " \n",
      "*** Profile printout saved to text file '10-n_samples_large_50000.txt'. \n"
     ]
    }
   ],
   "source": [
    "%%prun -s cumulative -l 20 -T 10-n_samples_large_50000.txt\n",
    "func()"
   ]
  },
  {
   "cell_type": "markdown",
   "id": "b0c07894",
   "metadata": {
    "papermill": {
     "duration": 0.104278,
     "end_time": "2021-11-24T18:49:17.095732",
     "exception": false,
     "start_time": "2021-11-24T18:49:16.991454",
     "status": "completed"
    },
    "tags": []
   },
   "source": [
    "## `n_samples=100000`"
   ]
  },
  {
   "cell_type": "code",
   "execution_count": 35,
   "id": "7fb2ab2e-a6de-412b-9540-d00f8641290e",
   "metadata": {
    "execution": {
     "iopub.execute_input": "2021-11-24T18:49:17.309169Z",
     "iopub.status.busy": "2021-11-24T18:49:17.307813Z",
     "iopub.status.idle": "2021-11-24T18:49:17.311462Z",
     "shell.execute_reply": "2021-11-24T18:49:17.311006Z"
    },
    "papermill": {
     "duration": 0.110341,
     "end_time": "2021-11-24T18:49:17.311558",
     "exception": false,
     "start_time": "2021-11-24T18:49:17.201217",
     "status": "completed"
    },
    "tags": []
   },
   "outputs": [],
   "source": [
    "N_SAMPLES = 100000"
   ]
  },
  {
   "cell_type": "code",
   "execution_count": 36,
   "id": "81765e91",
   "metadata": {
    "execution": {
     "iopub.execute_input": "2021-11-24T18:49:17.526079Z",
     "iopub.status.busy": "2021-11-24T18:49:17.525643Z",
     "iopub.status.idle": "2021-11-24T18:49:17.529024Z",
     "shell.execute_reply": "2021-11-24T18:49:17.528646Z"
    },
    "papermill": {
     "duration": 0.111209,
     "end_time": "2021-11-24T18:49:17.529118",
     "exception": false,
     "start_time": "2021-11-24T18:49:17.417909",
     "status": "completed"
    },
    "tags": []
   },
   "outputs": [],
   "source": [
    "x = np.random.rand(N_SAMPLES)\n",
    "y = np.random.rand(N_SAMPLES)"
   ]
  },
  {
   "cell_type": "code",
   "execution_count": 37,
   "id": "d408b318",
   "metadata": {
    "execution": {
     "iopub.execute_input": "2021-11-24T18:49:17.750862Z",
     "iopub.status.busy": "2021-11-24T18:49:17.750418Z",
     "iopub.status.idle": "2021-11-24T18:49:17.752166Z",
     "shell.execute_reply": "2021-11-24T18:49:17.752508Z"
    },
    "papermill": {
     "duration": 0.118449,
     "end_time": "2021-11-24T18:49:17.752622",
     "exception": false,
     "start_time": "2021-11-24T18:49:17.634173",
     "status": "completed"
    },
    "tags": []
   },
   "outputs": [],
   "source": [
    "def func():\n",
    "    for i in range(N_REPS):\n",
    "        cm(x, y)"
   ]
  },
  {
   "cell_type": "code",
   "execution_count": 38,
   "id": "aca57100",
   "metadata": {
    "execution": {
     "iopub.execute_input": "2021-11-24T18:49:17.966954Z",
     "iopub.status.busy": "2021-11-24T18:49:17.966428Z",
     "iopub.status.idle": "2021-11-24T18:50:20.138440Z",
     "shell.execute_reply": "2021-11-24T18:50:20.138785Z"
    },
    "papermill": {
     "duration": 62.280997,
     "end_time": "2021-11-24T18:50:20.138897",
     "exception": false,
     "start_time": "2021-11-24T18:49:17.857900",
     "status": "completed"
    },
    "tags": []
   },
   "outputs": [
    {
     "name": "stdout",
     "output_type": "stream",
     "text": [
      "3.88 s ± 9.74 ms per loop (mean ± std. dev. of 7 runs, 1 loop each)\n"
     ]
    }
   ],
   "source": [
    "%%timeit func()\n",
    "func()"
   ]
  },
  {
   "cell_type": "code",
   "execution_count": 39,
   "id": "b9c25f30",
   "metadata": {
    "execution": {
     "iopub.execute_input": "2021-11-24T18:50:20.351884Z",
     "iopub.status.busy": "2021-11-24T18:50:20.351208Z",
     "iopub.status.idle": "2021-11-24T18:50:24.254647Z",
     "shell.execute_reply": "2021-11-24T18:50:24.255017Z"
    },
    "papermill": {
     "duration": 4.011572,
     "end_time": "2021-11-24T18:50:24.255130",
     "exception": false,
     "start_time": "2021-11-24T18:50:20.243558",
     "status": "completed"
    },
    "tags": []
   },
   "outputs": [
    {
     "name": "stdout",
     "output_type": "stream",
     "text": [
      " \n",
      "*** Profile printout saved to text file '10-n_samples_large_100000.txt'. \n"
     ]
    }
   ],
   "source": [
    "%%prun -s cumulative -l 20 -T 10-n_samples_large_100000.txt\n",
    "func()"
   ]
  },
  {
   "cell_type": "code",
   "execution_count": null,
   "id": "2aa76596-f126-4ba8-8bba-4d31225e0e5d",
   "metadata": {
    "papermill": {
     "duration": 0.106701,
     "end_time": "2021-11-24T18:50:24.469510",
     "exception": false,
     "start_time": "2021-11-24T18:50:24.362809",
     "status": "completed"
    },
    "tags": []
   },
   "outputs": [],
   "source": []
  }
 ],
 "metadata": {
  "jupytext": {
   "cell_metadata_filter": "all,-execution,-papermill,-trusted",
   "text_representation": {
    "extension": ".py",
    "format_name": "percent",
    "format_version": "1.3",
    "jupytext_version": "1.11.5"
   }
  },
  "kernelspec": {
   "display_name": "Python 3 (ipykernel)",
   "language": "python",
   "name": "python3"
  },
  "language_info": {
   "codemirror_mode": {
    "name": "ipython",
    "version": 3
   },
   "file_extension": ".py",
   "mimetype": "text/x-python",
   "name": "python",
   "nbconvert_exporter": "python",
   "pygments_lexer": "ipython3",
   "version": "3.9.7"
  },
  "papermill": {
   "default_parameters": {},
   "duration": 157.357311,
   "end_time": "2021-11-24T18:50:24.788770",
   "environment_variables": {},
   "exception": null,
   "input_path": "nbs/others/05_clustermatch_profiling/10_cm_optimized/10-cdist_parts_v04.ipynb",
   "output_path": "nbs/others/05_clustermatch_profiling/10_cm_optimized/10-cdist_parts_v04.run.ipynb",
   "parameters": {},
   "start_time": "2021-11-24T18:47:47.431459",
   "version": "2.3.3"
  }
 },
 "nbformat": 4,
 "nbformat_minor": 5
}
