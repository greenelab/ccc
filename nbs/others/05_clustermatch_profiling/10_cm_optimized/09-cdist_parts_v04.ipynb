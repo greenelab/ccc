{
 "cells": [
  {
   "cell_type": "markdown",
   "id": "36c65ddb-8246-4b0c-a231-68a373acc2cf",
   "metadata": {
    "papermill": {
     "duration": 0.047154,
     "end_time": "2021-11-23T20:39:23.056884",
     "exception": false,
     "start_time": "2021-11-23T20:39:23.009730",
     "status": "completed"
    },
    "tags": []
   },
   "source": [
    "# Description"
   ]
  },
  {
   "cell_type": "markdown",
   "id": "337633a8-d03e-4509-b89d-f8daee598958",
   "metadata": {
    "papermill": {
     "duration": 0.046418,
     "end_time": "2021-11-23T20:39:23.150096",
     "exception": false,
     "start_time": "2021-11-23T20:39:23.103678",
     "status": "completed"
    },
    "tags": []
   },
   "source": [
    "Exactly the same code as in `08`, but here I run the notebook in a different machine (desktop)."
   ]
  },
  {
   "cell_type": "markdown",
   "id": "63c2b099-cc44-4fe2-93d1-40336e0a8466",
   "metadata": {
    "papermill": {
     "duration": 0.046679,
     "end_time": "2021-11-23T20:39:23.244748",
     "exception": false,
     "start_time": "2021-11-23T20:39:23.198069",
     "status": "completed"
    },
    "tags": []
   },
   "source": [
    "# Remove pycache dir"
   ]
  },
  {
   "cell_type": "code",
   "execution_count": 1,
   "id": "960c4ff0-2a73-4eaa-97d6-3269102233eb",
   "metadata": {
    "execution": {
     "iopub.execute_input": "2021-11-23T20:39:23.346791Z",
     "iopub.status.busy": "2021-11-23T20:39:23.346328Z",
     "iopub.status.idle": "2021-11-23T20:39:23.971935Z",
     "shell.execute_reply": "2021-11-23T20:39:23.971363Z"
    },
    "papermill": {
     "duration": 0.679727,
     "end_time": "2021-11-23T20:39:23.972043",
     "exception": false,
     "start_time": "2021-11-23T20:39:23.292316",
     "status": "completed"
    },
    "tags": []
   },
   "outputs": [
    {
     "name": "stdout",
     "output_type": "stream",
     "text": [
      "/opt/code\r\n"
     ]
    }
   ],
   "source": [
    "!echo ${CODE_DIR}"
   ]
  },
  {
   "cell_type": "code",
   "execution_count": 2,
   "id": "e18db58a-316a-445b-a376-8b2ec18e08d8",
   "metadata": {
    "execution": {
     "iopub.execute_input": "2021-11-23T20:39:24.071555Z",
     "iopub.status.busy": "2021-11-23T20:39:24.071061Z",
     "iopub.status.idle": "2021-11-23T20:39:24.692307Z",
     "shell.execute_reply": "2021-11-23T20:39:24.690391Z"
    },
    "papermill": {
     "duration": 0.672891,
     "end_time": "2021-11-23T20:39:24.692680",
     "exception": false,
     "start_time": "2021-11-23T20:39:24.019789",
     "status": "completed"
    },
    "tags": []
   },
   "outputs": [
    {
     "name": "stdout",
     "output_type": "stream",
     "text": [
      "/opt/code/libs/clustermatch/__pycache__\r\n",
      "/opt/code/libs/clustermatch/sklearn/__pycache__\r\n",
      "/opt/code/libs/clustermatch/scipy/__pycache__\r\n",
      "/opt/code/libs/clustermatch/pytorch/__pycache__\r\n"
     ]
    }
   ],
   "source": [
    "!find ${CODE_DIR} -regex '^.*\\(__pycache__\\)$' -print"
   ]
  },
  {
   "cell_type": "code",
   "execution_count": 3,
   "id": "b54099b0-a990-4bbd-bcbd-e206eb0f0f0e",
   "metadata": {
    "execution": {
     "iopub.execute_input": "2021-11-23T20:39:24.803492Z",
     "iopub.status.busy": "2021-11-23T20:39:24.803018Z",
     "iopub.status.idle": "2021-11-23T20:39:25.426591Z",
     "shell.execute_reply": "2021-11-23T20:39:25.426117Z"
    },
    "papermill": {
     "duration": 0.680225,
     "end_time": "2021-11-23T20:39:25.426690",
     "exception": false,
     "start_time": "2021-11-23T20:39:24.746465",
     "status": "completed"
    },
    "tags": []
   },
   "outputs": [
    {
     "name": "stdout",
     "output_type": "stream",
     "text": [
      "find: ‘/opt/code/libs/clustermatch/__pycache__’: No such file or directory\r\n",
      "find: ‘/opt/code/libs/clustermatch/sklearn/__pycache__’: No such file or directory\r\n",
      "find: ‘/opt/code/libs/clustermatch/scipy/__pycache__’: No such file or directory\r\n",
      "find: ‘/opt/code/libs/clustermatch/pytorch/__pycache__’: No such file or directory\r\n"
     ]
    }
   ],
   "source": [
    "!find ${CODE_DIR} -regex '^.*\\(__pycache__\\)$' -exec rm -rf {} \\;"
   ]
  },
  {
   "cell_type": "code",
   "execution_count": 4,
   "id": "7a9a8098-8160-46bf-8d83-bc398cbe2382",
   "metadata": {
    "execution": {
     "iopub.execute_input": "2021-11-23T20:39:25.532054Z",
     "iopub.status.busy": "2021-11-23T20:39:25.531516Z",
     "iopub.status.idle": "2021-11-23T20:39:26.148122Z",
     "shell.execute_reply": "2021-11-23T20:39:26.147673Z"
    },
    "papermill": {
     "duration": 0.671689,
     "end_time": "2021-11-23T20:39:26.148223",
     "exception": false,
     "start_time": "2021-11-23T20:39:25.476534",
     "status": "completed"
    },
    "tags": []
   },
   "outputs": [],
   "source": [
    "!find ${CODE_DIR} -regex '^.*\\(__pycache__\\)$' -print"
   ]
  },
  {
   "cell_type": "markdown",
   "id": "c2251313-41ac-46fd-a845-0f209689ecf6",
   "metadata": {
    "papermill": {
     "duration": 0.049802,
     "end_time": "2021-11-23T20:39:26.247612",
     "exception": false,
     "start_time": "2021-11-23T20:39:26.197810",
     "status": "completed"
    },
    "tags": []
   },
   "source": [
    "# Modules"
   ]
  },
  {
   "cell_type": "code",
   "execution_count": 5,
   "id": "987ef5f1-be49-4a6c-a4f4-b24a0a2094cb",
   "metadata": {
    "execution": {
     "iopub.execute_input": "2021-11-23T20:39:26.351515Z",
     "iopub.status.busy": "2021-11-23T20:39:26.351044Z",
     "iopub.status.idle": "2021-11-23T20:39:26.683894Z",
     "shell.execute_reply": "2021-11-23T20:39:26.683417Z"
    },
    "papermill": {
     "duration": 0.385996,
     "end_time": "2021-11-23T20:39:26.684000",
     "exception": false,
     "start_time": "2021-11-23T20:39:26.298004",
     "status": "completed"
    },
    "tags": []
   },
   "outputs": [],
   "source": [
    "import numpy as np\n",
    "\n",
    "from clustermatch.coef import cm"
   ]
  },
  {
   "cell_type": "markdown",
   "id": "24399ccb-d33d-4bad-9baf-638c9c56feb2",
   "metadata": {
    "papermill": {
     "duration": 0.049794,
     "end_time": "2021-11-23T20:39:26.784698",
     "exception": false,
     "start_time": "2021-11-23T20:39:26.734904",
     "status": "completed"
    },
    "tags": []
   },
   "source": [
    "# Settings"
   ]
  },
  {
   "cell_type": "code",
   "execution_count": 6,
   "id": "c609cefa-f513-4cf8-9573-367744e31c5f",
   "metadata": {
    "execution": {
     "iopub.execute_input": "2021-11-23T20:39:26.886850Z",
     "iopub.status.busy": "2021-11-23T20:39:26.885819Z",
     "iopub.status.idle": "2021-11-23T20:39:26.888348Z",
     "shell.execute_reply": "2021-11-23T20:39:26.888704Z"
    },
    "papermill": {
     "duration": 0.054489,
     "end_time": "2021-11-23T20:39:26.888816",
     "exception": false,
     "start_time": "2021-11-23T20:39:26.834327",
     "status": "completed"
    },
    "tags": []
   },
   "outputs": [],
   "source": [
    "N_REPS = 10"
   ]
  },
  {
   "cell_type": "code",
   "execution_count": 7,
   "id": "c0341a42-b8de-419f-ab37-1e4fee9dde75",
   "metadata": {
    "execution": {
     "iopub.execute_input": "2021-11-23T20:39:26.991803Z",
     "iopub.status.busy": "2021-11-23T20:39:26.991354Z",
     "iopub.status.idle": "2021-11-23T20:39:26.992731Z",
     "shell.execute_reply": "2021-11-23T20:39:26.993069Z"
    },
    "papermill": {
     "duration": 0.054388,
     "end_time": "2021-11-23T20:39:26.993199",
     "exception": false,
     "start_time": "2021-11-23T20:39:26.938811",
     "status": "completed"
    },
    "tags": []
   },
   "outputs": [],
   "source": [
    "np.random.seed(0)"
   ]
  },
  {
   "cell_type": "markdown",
   "id": "6fd3067b-a4f7-475e-9575-20246934537d",
   "metadata": {
    "papermill": {
     "duration": 0.049288,
     "end_time": "2021-11-23T20:39:27.092248",
     "exception": false,
     "start_time": "2021-11-23T20:39:27.042960",
     "status": "completed"
    },
    "tags": []
   },
   "source": [
    "# Setup"
   ]
  },
  {
   "cell_type": "code",
   "execution_count": 8,
   "id": "02e0507c-43ff-4693-8a3b-8ccd8f23168c",
   "metadata": {
    "execution": {
     "iopub.execute_input": "2021-11-23T20:39:27.194664Z",
     "iopub.status.busy": "2021-11-23T20:39:27.194175Z",
     "iopub.status.idle": "2021-11-23T20:39:36.013277Z",
     "shell.execute_reply": "2021-11-23T20:39:36.012838Z"
    },
    "papermill": {
     "duration": 8.87164,
     "end_time": "2021-11-23T20:39:36.013370",
     "exception": false,
     "start_time": "2021-11-23T20:39:27.141730",
     "status": "completed"
    },
    "tags": []
   },
   "outputs": [
    {
     "data": {
      "text/plain": [
       "0.15625"
      ]
     },
     "execution_count": 8,
     "metadata": {},
     "output_type": "execute_result"
    }
   ],
   "source": [
    "# let numba compile all the code before profiling\n",
    "cm(np.random.rand(10), np.random.rand(10))"
   ]
  },
  {
   "cell_type": "markdown",
   "id": "8549179d-1517-4a40-9a51-b95dc02d0fcc",
   "metadata": {
    "papermill": {
     "duration": 0.049039,
     "end_time": "2021-11-23T20:39:36.111799",
     "exception": false,
     "start_time": "2021-11-23T20:39:36.062760",
     "status": "completed"
    },
    "tags": []
   },
   "source": [
    "# Run with `n_samples` small"
   ]
  },
  {
   "cell_type": "code",
   "execution_count": 9,
   "id": "ddb768d7-9b74-424c-bdb9-9e52b9e5b181",
   "metadata": {
    "execution": {
     "iopub.execute_input": "2021-11-23T20:39:36.212954Z",
     "iopub.status.busy": "2021-11-23T20:39:36.212506Z",
     "iopub.status.idle": "2021-11-23T20:39:36.214448Z",
     "shell.execute_reply": "2021-11-23T20:39:36.214065Z"
    },
    "papermill": {
     "duration": 0.05339,
     "end_time": "2021-11-23T20:39:36.214539",
     "exception": false,
     "start_time": "2021-11-23T20:39:36.161149",
     "status": "completed"
    },
    "tags": []
   },
   "outputs": [],
   "source": [
    "N_SAMPLES = 100"
   ]
  },
  {
   "cell_type": "code",
   "execution_count": 10,
   "id": "6f2ff213-d6b7-458f-acbf-8c73dd497a2a",
   "metadata": {
    "execution": {
     "iopub.execute_input": "2021-11-23T20:39:36.315700Z",
     "iopub.status.busy": "2021-11-23T20:39:36.315236Z",
     "iopub.status.idle": "2021-11-23T20:39:36.316883Z",
     "shell.execute_reply": "2021-11-23T20:39:36.317233Z"
    },
    "papermill": {
     "duration": 0.054223,
     "end_time": "2021-11-23T20:39:36.317341",
     "exception": false,
     "start_time": "2021-11-23T20:39:36.263118",
     "status": "completed"
    },
    "tags": []
   },
   "outputs": [],
   "source": [
    "x = np.random.rand(N_SAMPLES)\n",
    "y = np.random.rand(N_SAMPLES)"
   ]
  },
  {
   "cell_type": "code",
   "execution_count": 11,
   "id": "d63012be-4fc7-4fba-bccd-ad155905d1d6",
   "metadata": {
    "execution": {
     "iopub.execute_input": "2021-11-23T20:39:36.418630Z",
     "iopub.status.busy": "2021-11-23T20:39:36.418151Z",
     "iopub.status.idle": "2021-11-23T20:39:36.419690Z",
     "shell.execute_reply": "2021-11-23T20:39:36.420096Z"
    },
    "papermill": {
     "duration": 0.054097,
     "end_time": "2021-11-23T20:39:36.420208",
     "exception": false,
     "start_time": "2021-11-23T20:39:36.366111",
     "status": "completed"
    },
    "tags": []
   },
   "outputs": [],
   "source": [
    "def func():\n",
    "    for i in range(N_REPS):\n",
    "        cm(x, y)"
   ]
  },
  {
   "cell_type": "code",
   "execution_count": 12,
   "id": "c0abc65a-2f3c-4476-9c2a-f8d7753b75e6",
   "metadata": {
    "execution": {
     "iopub.execute_input": "2021-11-23T20:39:36.520728Z",
     "iopub.status.busy": "2021-11-23T20:39:36.520066Z",
     "iopub.status.idle": "2021-11-23T20:39:39.344797Z",
     "shell.execute_reply": "2021-11-23T20:39:39.345258Z"
    },
    "papermill": {
     "duration": 2.876953,
     "end_time": "2021-11-23T20:39:39.345401",
     "exception": false,
     "start_time": "2021-11-23T20:39:36.468448",
     "status": "completed"
    },
    "tags": []
   },
   "outputs": [
    {
     "name": "stdout",
     "output_type": "stream",
     "text": [
      "31.8 ms ± 2.96 ms per loop (mean ± std. dev. of 7 runs, 10 loops each)\n"
     ]
    }
   ],
   "source": [
    "%%timeit func()\n",
    "func()"
   ]
  },
  {
   "cell_type": "code",
   "execution_count": 13,
   "id": "e80a7b02-310f-4bd9-90d5-2a41186db39e",
   "metadata": {
    "execution": {
     "iopub.execute_input": "2021-11-23T20:39:39.450896Z",
     "iopub.status.busy": "2021-11-23T20:39:39.450225Z",
     "iopub.status.idle": "2021-11-23T20:39:39.488220Z",
     "shell.execute_reply": "2021-11-23T20:39:39.488612Z"
    },
    "papermill": {
     "duration": 0.091048,
     "end_time": "2021-11-23T20:39:39.488731",
     "exception": false,
     "start_time": "2021-11-23T20:39:39.397683",
     "status": "completed"
    },
    "tags": []
   },
   "outputs": [
    {
     "name": "stdout",
     "output_type": "stream",
     "text": [
      " \n",
      "*** Profile printout saved to text file '09-n_samples_small.txt'. \n"
     ]
    }
   ],
   "source": [
    "%%prun -s cumulative -l 20 -T 09-n_samples_small.txt\n",
    "func()"
   ]
  },
  {
   "cell_type": "markdown",
   "id": "f6b9adcf-1da4-4496-b05f-47952fd80d7f",
   "metadata": {
    "papermill": {
     "duration": 0.049367,
     "end_time": "2021-11-23T20:39:39.589337",
     "exception": false,
     "start_time": "2021-11-23T20:39:39.539970",
     "status": "completed"
    },
    "tags": []
   },
   "source": [
    "# Run with `n_samples` large"
   ]
  },
  {
   "cell_type": "code",
   "execution_count": 14,
   "id": "7fb2ab2e-a6de-412b-9540-d00f8641290e",
   "metadata": {
    "execution": {
     "iopub.execute_input": "2021-11-23T20:39:39.697918Z",
     "iopub.status.busy": "2021-11-23T20:39:39.697444Z",
     "iopub.status.idle": "2021-11-23T20:39:39.698995Z",
     "shell.execute_reply": "2021-11-23T20:39:39.699355Z"
    },
    "papermill": {
     "duration": 0.060024,
     "end_time": "2021-11-23T20:39:39.699474",
     "exception": false,
     "start_time": "2021-11-23T20:39:39.639450",
     "status": "completed"
    },
    "tags": []
   },
   "outputs": [],
   "source": [
    "N_SAMPLES = 100000"
   ]
  },
  {
   "cell_type": "code",
   "execution_count": 15,
   "id": "161cf922-41f7-4ced-af1f-e3d25b36b200",
   "metadata": {
    "execution": {
     "iopub.execute_input": "2021-11-23T20:39:39.803037Z",
     "iopub.status.busy": "2021-11-23T20:39:39.802080Z",
     "iopub.status.idle": "2021-11-23T20:39:39.807381Z",
     "shell.execute_reply": "2021-11-23T20:39:39.806930Z"
    },
    "papermill": {
     "duration": 0.057313,
     "end_time": "2021-11-23T20:39:39.807474",
     "exception": false,
     "start_time": "2021-11-23T20:39:39.750161",
     "status": "completed"
    },
    "tags": []
   },
   "outputs": [],
   "source": [
    "x = np.random.rand(N_SAMPLES)\n",
    "y = np.random.rand(N_SAMPLES)"
   ]
  },
  {
   "cell_type": "code",
   "execution_count": 16,
   "id": "ede7a328-bad3-40a2-a179-1148a3229620",
   "metadata": {
    "execution": {
     "iopub.execute_input": "2021-11-23T20:39:39.910609Z",
     "iopub.status.busy": "2021-11-23T20:39:39.910157Z",
     "iopub.status.idle": "2021-11-23T20:39:39.911668Z",
     "shell.execute_reply": "2021-11-23T20:39:39.912068Z"
    },
    "papermill": {
     "duration": 0.054694,
     "end_time": "2021-11-23T20:39:39.912181",
     "exception": false,
     "start_time": "2021-11-23T20:39:39.857487",
     "status": "completed"
    },
    "tags": []
   },
   "outputs": [],
   "source": [
    "def func():\n",
    "    for i in range(N_REPS):\n",
    "        cm(x, y)"
   ]
  },
  {
   "cell_type": "code",
   "execution_count": 17,
   "id": "0a7f2b1f-4b87-4dde-a46b-2acec5ac93ba",
   "metadata": {
    "execution": {
     "iopub.execute_input": "2021-11-23T20:39:40.015963Z",
     "iopub.status.busy": "2021-11-23T20:39:40.015337Z",
     "iopub.status.idle": "2021-11-23T20:40:53.979636Z",
     "shell.execute_reply": "2021-11-23T20:40:53.980074Z"
    },
    "papermill": {
     "duration": 74.017795,
     "end_time": "2021-11-23T20:40:53.980209",
     "exception": false,
     "start_time": "2021-11-23T20:39:39.962414",
     "status": "completed"
    },
    "tags": []
   },
   "outputs": [
    {
     "name": "stdout",
     "output_type": "stream",
     "text": [
      "4.61 s ± 8.66 ms per loop (mean ± std. dev. of 7 runs, 1 loop each)\n"
     ]
    }
   ],
   "source": [
    "%%timeit func()\n",
    "func()"
   ]
  },
  {
   "cell_type": "code",
   "execution_count": 18,
   "id": "74acbe27-9807-4f26-8b7e-b74d0f745b63",
   "metadata": {
    "execution": {
     "iopub.execute_input": "2021-11-23T20:40:54.089296Z",
     "iopub.status.busy": "2021-11-23T20:40:54.088719Z",
     "iopub.status.idle": "2021-11-23T20:40:58.720559Z",
     "shell.execute_reply": "2021-11-23T20:40:58.720928Z"
    },
    "papermill": {
     "duration": 4.687078,
     "end_time": "2021-11-23T20:40:58.721043",
     "exception": false,
     "start_time": "2021-11-23T20:40:54.033965",
     "status": "completed"
    },
    "tags": []
   },
   "outputs": [
    {
     "name": "stdout",
     "output_type": "stream",
     "text": [
      " \n",
      "*** Profile printout saved to text file '09-n_samples_large.txt'. \n"
     ]
    }
   ],
   "source": [
    "%%prun -s cumulative -l 20 -T 09-n_samples_large.txt\n",
    "func()"
   ]
  },
  {
   "cell_type": "code",
   "execution_count": null,
   "id": "2aa76596-f126-4ba8-8bba-4d31225e0e5d",
   "metadata": {
    "papermill": {
     "duration": 0.05111,
     "end_time": "2021-11-23T20:40:58.824004",
     "exception": false,
     "start_time": "2021-11-23T20:40:58.772894",
     "status": "completed"
    },
    "tags": []
   },
   "outputs": [],
   "source": []
  }
 ],
 "metadata": {
  "jupytext": {
   "cell_metadata_filter": "all,-execution,-papermill,-trusted"
  },
  "kernelspec": {
   "display_name": "Python 3 (ipykernel)",
   "language": "python",
   "name": "python3"
  },
  "language_info": {
   "codemirror_mode": {
    "name": "ipython",
    "version": 3
   },
   "file_extension": ".py",
   "mimetype": "text/x-python",
   "name": "python",
   "nbconvert_exporter": "python",
   "pygments_lexer": "ipython3",
   "version": "3.9.7"
  },
  "papermill": {
   "default_parameters": {},
   "duration": 97.433755,
   "end_time": "2021-11-23T20:40:59.283075",
   "environment_variables": {},
   "exception": null,
   "input_path": "nbs/others/05_clustermatch_profiling/10_cm_optimized/09-cdist_parts_v04.ipynb",
   "output_path": "nbs/others/05_clustermatch_profiling/10_cm_optimized/09-cdist_parts_v04.run.ipynb",
   "parameters": {},
   "start_time": "2021-11-23T20:39:21.849320",
   "version": "2.3.3"
  }
 },
 "nbformat": 4,
 "nbformat_minor": 5
}
