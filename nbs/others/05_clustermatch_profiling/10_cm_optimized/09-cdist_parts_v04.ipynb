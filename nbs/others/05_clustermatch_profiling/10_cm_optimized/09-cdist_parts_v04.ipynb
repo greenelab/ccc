{
 "cells": [
  {
   "cell_type": "markdown",
   "id": "36c65ddb-8246-4b0c-a231-68a373acc2cf",
   "metadata": {
    "papermill": {
     "duration": 0.086006,
     "end_time": "2021-11-22T21:30:18.526912",
     "exception": false,
     "start_time": "2021-11-22T21:30:18.440906",
     "status": "completed"
    },
    "tags": []
   },
   "source": [
    "# Description"
   ]
  },
  {
   "cell_type": "markdown",
   "id": "337633a8-d03e-4509-b89d-f8daee598958",
   "metadata": {
    "papermill": {
     "duration": 0.048246,
     "end_time": "2021-11-22T21:30:18.621881",
     "exception": false,
     "start_time": "2021-11-22T21:30:18.573635",
     "status": "completed"
    },
    "tags": []
   },
   "source": [
    "Exactly the same code as in `08`, but here I run the notebook in a different machine (desktop)."
   ]
  },
  {
   "cell_type": "markdown",
   "id": "63c2b099-cc44-4fe2-93d1-40336e0a8466",
   "metadata": {
    "papermill": {
     "duration": 0.046909,
     "end_time": "2021-11-22T21:30:18.717363",
     "exception": false,
     "start_time": "2021-11-22T21:30:18.670454",
     "status": "completed"
    },
    "tags": []
   },
   "source": [
    "# Remove pycache dir"
   ]
  },
  {
   "cell_type": "code",
   "execution_count": 1,
   "id": "960c4ff0-2a73-4eaa-97d6-3269102233eb",
   "metadata": {
    "execution": {
     "iopub.execute_input": "2021-11-22T21:30:18.816710Z",
     "iopub.status.busy": "2021-11-22T21:30:18.816113Z",
     "iopub.status.idle": "2021-11-22T21:30:19.414445Z",
     "shell.execute_reply": "2021-11-22T21:30:19.416276Z"
    },
    "papermill": {
     "duration": 0.65238,
     "end_time": "2021-11-22T21:30:19.416949",
     "exception": false,
     "start_time": "2021-11-22T21:30:18.764569",
     "status": "completed"
    },
    "tags": []
   },
   "outputs": [
    {
     "name": "stdout",
     "output_type": "stream",
     "text": [
      "/opt/code\n"
     ]
    }
   ],
   "source": [
    "!echo ${CODE_DIR}"
   ]
  },
  {
   "cell_type": "code",
   "execution_count": 2,
   "id": "e18db58a-316a-445b-a376-8b2ec18e08d8",
   "metadata": {
    "execution": {
     "iopub.execute_input": "2021-11-22T21:30:19.518296Z",
     "iopub.status.busy": "2021-11-22T21:30:19.517820Z",
     "iopub.status.idle": "2021-11-22T21:30:20.124944Z",
     "shell.execute_reply": "2021-11-22T21:30:20.123278Z"
    },
    "papermill": {
     "duration": 0.659059,
     "end_time": "2021-11-22T21:30:20.125320",
     "exception": false,
     "start_time": "2021-11-22T21:30:19.466261",
     "status": "completed"
    },
    "tags": []
   },
   "outputs": [
    {
     "name": "stdout",
     "output_type": "stream",
     "text": [
      "/opt/code/libs/clustermatch/__pycache__\n",
      "/opt/code/libs/clustermatch/sklearn/__pycache__\n",
      "/opt/code/libs/clustermatch/scipy/__pycache__\n",
      "/opt/code/libs/clustermatch/pytorch/__pycache__\n"
     ]
    }
   ],
   "source": [
    "!find ${CODE_DIR} -regex '^.*\\(__pycache__\\)$' -print"
   ]
  },
  {
   "cell_type": "code",
   "execution_count": 3,
   "id": "b54099b0-a990-4bbd-bcbd-e206eb0f0f0e",
   "metadata": {
    "execution": {
     "iopub.execute_input": "2021-11-22T21:30:20.262260Z",
     "iopub.status.busy": "2021-11-22T21:30:20.261797Z",
     "iopub.status.idle": "2021-11-22T21:30:20.858499Z",
     "shell.execute_reply": "2021-11-22T21:30:20.857764Z"
    },
    "papermill": {
     "duration": 0.650248,
     "end_time": "2021-11-22T21:30:20.858651",
     "exception": false,
     "start_time": "2021-11-22T21:30:20.208403",
     "status": "completed"
    },
    "tags": []
   },
   "outputs": [
    {
     "name": "stdout",
     "output_type": "stream",
     "text": [
      "find: ‘/opt/code/libs/clustermatch/__pycache__’: No such file or directory\n",
      "find: ‘/opt/code/libs/clustermatch/sklearn/__pycache__’: No such file or directory\n",
      "find: ‘/opt/code/libs/clustermatch/scipy/__pycache__’: No such file or directory\n",
      "find: ‘/opt/code/libs/clustermatch/pytorch/__pycache__’: No such file or directory\n"
     ]
    }
   ],
   "source": [
    "!find ${CODE_DIR} -regex '^.*\\(__pycache__\\)$' -exec rm -rf {} \\;"
   ]
  },
  {
   "cell_type": "code",
   "execution_count": 4,
   "id": "7a9a8098-8160-46bf-8d83-bc398cbe2382",
   "metadata": {
    "execution": {
     "iopub.execute_input": "2021-11-22T21:30:20.979672Z",
     "iopub.status.busy": "2021-11-22T21:30:20.979217Z",
     "iopub.status.idle": "2021-11-22T21:30:21.594020Z",
     "shell.execute_reply": "2021-11-22T21:30:21.592389Z"
    },
    "papermill": {
     "duration": 0.6687,
     "end_time": "2021-11-22T21:30:21.594393",
     "exception": false,
     "start_time": "2021-11-22T21:30:20.925693",
     "status": "completed"
    },
    "tags": []
   },
   "outputs": [],
   "source": [
    "!find ${CODE_DIR} -regex '^.*\\(__pycache__\\)$' -print"
   ]
  },
  {
   "cell_type": "markdown",
   "id": "c2251313-41ac-46fd-a845-0f209689ecf6",
   "metadata": {
    "papermill": {
     "duration": 0.049389,
     "end_time": "2021-11-22T21:30:21.695038",
     "exception": false,
     "start_time": "2021-11-22T21:30:21.645649",
     "status": "completed"
    },
    "tags": []
   },
   "source": [
    "# Modules"
   ]
  },
  {
   "cell_type": "code",
   "execution_count": 5,
   "id": "987ef5f1-be49-4a6c-a4f4-b24a0a2094cb",
   "metadata": {
    "execution": {
     "iopub.execute_input": "2021-11-22T21:30:21.798520Z",
     "iopub.status.busy": "2021-11-22T21:30:21.798065Z",
     "iopub.status.idle": "2021-11-22T21:30:22.132284Z",
     "shell.execute_reply": "2021-11-22T21:30:22.131856Z"
    },
    "papermill": {
     "duration": 0.387416,
     "end_time": "2021-11-22T21:30:22.132385",
     "exception": false,
     "start_time": "2021-11-22T21:30:21.744969",
     "status": "completed"
    },
    "tags": []
   },
   "outputs": [],
   "source": [
    "import numpy as np\n",
    "\n",
    "from clustermatch.coef import _cm"
   ]
  },
  {
   "cell_type": "markdown",
   "id": "24399ccb-d33d-4bad-9baf-638c9c56feb2",
   "metadata": {
    "papermill": {
     "duration": 0.049213,
     "end_time": "2021-11-22T21:30:22.231430",
     "exception": false,
     "start_time": "2021-11-22T21:30:22.182217",
     "status": "completed"
    },
    "tags": []
   },
   "source": [
    "# Settings"
   ]
  },
  {
   "cell_type": "code",
   "execution_count": 6,
   "id": "c609cefa-f513-4cf8-9573-367744e31c5f",
   "metadata": {
    "execution": {
     "iopub.execute_input": "2021-11-22T21:30:22.334407Z",
     "iopub.status.busy": "2021-11-22T21:30:22.333942Z",
     "iopub.status.idle": "2021-11-22T21:30:22.336073Z",
     "shell.execute_reply": "2021-11-22T21:30:22.335597Z"
    },
    "papermill": {
     "duration": 0.054895,
     "end_time": "2021-11-22T21:30:22.336160",
     "exception": false,
     "start_time": "2021-11-22T21:30:22.281265",
     "status": "completed"
    },
    "tags": []
   },
   "outputs": [],
   "source": [
    "N_REPS = 10"
   ]
  },
  {
   "cell_type": "code",
   "execution_count": 7,
   "id": "c0341a42-b8de-419f-ab37-1e4fee9dde75",
   "metadata": {
    "execution": {
     "iopub.execute_input": "2021-11-22T21:30:22.439927Z",
     "iopub.status.busy": "2021-11-22T21:30:22.439393Z",
     "iopub.status.idle": "2021-11-22T21:30:22.440977Z",
     "shell.execute_reply": "2021-11-22T21:30:22.441316Z"
    },
    "papermill": {
     "duration": 0.054859,
     "end_time": "2021-11-22T21:30:22.441434",
     "exception": false,
     "start_time": "2021-11-22T21:30:22.386575",
     "status": "completed"
    },
    "tags": []
   },
   "outputs": [],
   "source": [
    "np.random.seed(0)"
   ]
  },
  {
   "cell_type": "markdown",
   "id": "6fd3067b-a4f7-475e-9575-20246934537d",
   "metadata": {
    "papermill": {
     "duration": 0.049317,
     "end_time": "2021-11-22T21:30:22.541013",
     "exception": false,
     "start_time": "2021-11-22T21:30:22.491696",
     "status": "completed"
    },
    "tags": []
   },
   "source": [
    "# Setup"
   ]
  },
  {
   "cell_type": "code",
   "execution_count": 8,
   "id": "02e0507c-43ff-4693-8a3b-8ccd8f23168c",
   "metadata": {
    "execution": {
     "iopub.execute_input": "2021-11-22T21:30:22.644470Z",
     "iopub.status.busy": "2021-11-22T21:30:22.643991Z",
     "iopub.status.idle": "2021-11-22T21:30:31.270230Z",
     "shell.execute_reply": "2021-11-22T21:30:31.269790Z"
    },
    "papermill": {
     "duration": 8.680018,
     "end_time": "2021-11-22T21:30:31.270324",
     "exception": false,
     "start_time": "2021-11-22T21:30:22.590306",
     "status": "completed"
    },
    "tags": []
   },
   "outputs": [
    {
     "data": {
      "text/plain": [
       "(array([0.15625]),\n",
       " array([[0, 1]], dtype=uint64),\n",
       " array([[[0, 1, 1, 0, 0, 1, 0, 1, 1, 0],\n",
       "         [1, 2, 1, 1, 0, 2, 0, 2, 2, 0]],\n",
       " \n",
       "        [[1, 0, 0, 1, 0, 0, 0, 1, 1, 1],\n",
       "         [2, 1, 1, 2, 0, 0, 0, 2, 1, 2]]], dtype=int16))"
      ]
     },
     "execution_count": 8,
     "metadata": {},
     "output_type": "execute_result"
    }
   ],
   "source": [
    "# let numba compile all the code before profiling\n",
    "_cm(np.random.rand(10), np.random.rand(10))"
   ]
  },
  {
   "cell_type": "markdown",
   "id": "8549179d-1517-4a40-9a51-b95dc02d0fcc",
   "metadata": {
    "papermill": {
     "duration": 0.049789,
     "end_time": "2021-11-22T21:30:31.371055",
     "exception": false,
     "start_time": "2021-11-22T21:30:31.321266",
     "status": "completed"
    },
    "tags": []
   },
   "source": [
    "# Run with `n_samples` small"
   ]
  },
  {
   "cell_type": "code",
   "execution_count": 9,
   "id": "ddb768d7-9b74-424c-bdb9-9e52b9e5b181",
   "metadata": {
    "execution": {
     "iopub.execute_input": "2021-11-22T21:30:31.474634Z",
     "iopub.status.busy": "2021-11-22T21:30:31.474162Z",
     "iopub.status.idle": "2021-11-22T21:30:31.475855Z",
     "shell.execute_reply": "2021-11-22T21:30:31.476238Z"
    },
    "papermill": {
     "duration": 0.055138,
     "end_time": "2021-11-22T21:30:31.476352",
     "exception": false,
     "start_time": "2021-11-22T21:30:31.421214",
     "status": "completed"
    },
    "tags": []
   },
   "outputs": [],
   "source": [
    "N_SAMPLES = 100"
   ]
  },
  {
   "cell_type": "code",
   "execution_count": 10,
   "id": "6f2ff213-d6b7-458f-acbf-8c73dd497a2a",
   "metadata": {
    "execution": {
     "iopub.execute_input": "2021-11-22T21:30:31.580928Z",
     "iopub.status.busy": "2021-11-22T21:30:31.580463Z",
     "iopub.status.idle": "2021-11-22T21:30:31.582792Z",
     "shell.execute_reply": "2021-11-22T21:30:31.582346Z"
    },
    "papermill": {
     "duration": 0.05601,
     "end_time": "2021-11-22T21:30:31.582888",
     "exception": false,
     "start_time": "2021-11-22T21:30:31.526878",
     "status": "completed"
    },
    "tags": []
   },
   "outputs": [],
   "source": [
    "x = np.random.rand(N_SAMPLES)\n",
    "y = np.random.rand(N_SAMPLES)"
   ]
  },
  {
   "cell_type": "code",
   "execution_count": 11,
   "id": "d63012be-4fc7-4fba-bccd-ad155905d1d6",
   "metadata": {
    "execution": {
     "iopub.execute_input": "2021-11-22T21:30:31.688376Z",
     "iopub.status.busy": "2021-11-22T21:30:31.687871Z",
     "iopub.status.idle": "2021-11-22T21:30:31.689899Z",
     "shell.execute_reply": "2021-11-22T21:30:31.689454Z"
    },
    "papermill": {
     "duration": 0.055732,
     "end_time": "2021-11-22T21:30:31.689994",
     "exception": false,
     "start_time": "2021-11-22T21:30:31.634262",
     "status": "completed"
    },
    "tags": []
   },
   "outputs": [],
   "source": [
    "def func():\n",
    "    for i in range(N_REPS):\n",
    "        _cm(x, y)"
   ]
  },
  {
   "cell_type": "code",
   "execution_count": 12,
   "id": "c0abc65a-2f3c-4476-9c2a-f8d7753b75e6",
   "metadata": {
    "execution": {
     "iopub.execute_input": "2021-11-22T21:30:31.796977Z",
     "iopub.status.busy": "2021-11-22T21:30:31.796457Z",
     "iopub.status.idle": "2021-11-22T21:30:32.228313Z",
     "shell.execute_reply": "2021-11-22T21:30:32.228692Z"
    },
    "papermill": {
     "duration": 0.486961,
     "end_time": "2021-11-22T21:30:32.228815",
     "exception": false,
     "start_time": "2021-11-22T21:30:31.741854",
     "status": "completed"
    },
    "tags": []
   },
   "outputs": [
    {
     "name": "stdout",
     "output_type": "stream",
     "text": [
      "31.3 ms ± 5.89 ms per loop (mean ± std. dev. of 7 runs, 1 loop each)\n"
     ]
    }
   ],
   "source": [
    "%%timeit func()\n",
    "func()"
   ]
  },
  {
   "cell_type": "code",
   "execution_count": 13,
   "id": "e80a7b02-310f-4bd9-90d5-2a41186db39e",
   "metadata": {
    "execution": {
     "iopub.execute_input": "2021-11-22T21:30:32.335855Z",
     "iopub.status.busy": "2021-11-22T21:30:32.335385Z",
     "iopub.status.idle": "2021-11-22T21:30:32.372091Z",
     "shell.execute_reply": "2021-11-22T21:30:32.372479Z"
    },
    "papermill": {
     "duration": 0.091744,
     "end_time": "2021-11-22T21:30:32.372600",
     "exception": false,
     "start_time": "2021-11-22T21:30:32.280856",
     "status": "completed"
    },
    "tags": []
   },
   "outputs": [
    {
     "name": "stdout",
     "output_type": "stream",
     "text": [
      " \n",
      "*** Profile printout saved to text file '09-n_samples_small.txt'. \n"
     ]
    }
   ],
   "source": [
    "%%prun -s cumulative -l 20 -T 09-n_samples_small.txt\n",
    "func()"
   ]
  },
  {
   "cell_type": "markdown",
   "id": "f6b9adcf-1da4-4496-b05f-47952fd80d7f",
   "metadata": {
    "papermill": {
     "duration": 0.05124,
     "end_time": "2021-11-22T21:30:32.579394",
     "exception": false,
     "start_time": "2021-11-22T21:30:32.528154",
     "status": "completed"
    },
    "tags": []
   },
   "source": [
    "# Run with `n_samples` large"
   ]
  },
  {
   "cell_type": "code",
   "execution_count": 14,
   "id": "7fb2ab2e-a6de-412b-9540-d00f8641290e",
   "metadata": {
    "execution": {
     "iopub.execute_input": "2021-11-22T21:30:32.686798Z",
     "iopub.status.busy": "2021-11-22T21:30:32.686355Z",
     "iopub.status.idle": "2021-11-22T21:30:32.688029Z",
     "shell.execute_reply": "2021-11-22T21:30:32.688384Z"
    },
    "papermill": {
     "duration": 0.05746,
     "end_time": "2021-11-22T21:30:32.688494",
     "exception": false,
     "start_time": "2021-11-22T21:30:32.631034",
     "status": "completed"
    },
    "tags": []
   },
   "outputs": [],
   "source": [
    "N_SAMPLES = 100000"
   ]
  },
  {
   "cell_type": "code",
   "execution_count": 15,
   "id": "161cf922-41f7-4ced-af1f-e3d25b36b200",
   "metadata": {
    "execution": {
     "iopub.execute_input": "2021-11-22T21:30:32.796040Z",
     "iopub.status.busy": "2021-11-22T21:30:32.795554Z",
     "iopub.status.idle": "2021-11-22T21:30:32.799241Z",
     "shell.execute_reply": "2021-11-22T21:30:32.799627Z"
    },
    "papermill": {
     "duration": 0.058408,
     "end_time": "2021-11-22T21:30:32.799745",
     "exception": false,
     "start_time": "2021-11-22T21:30:32.741337",
     "status": "completed"
    },
    "tags": []
   },
   "outputs": [],
   "source": [
    "x = np.random.rand(N_SAMPLES)\n",
    "y = np.random.rand(N_SAMPLES)"
   ]
  },
  {
   "cell_type": "code",
   "execution_count": 16,
   "id": "ede7a328-bad3-40a2-a179-1148a3229620",
   "metadata": {
    "execution": {
     "iopub.execute_input": "2021-11-22T21:30:32.913944Z",
     "iopub.status.busy": "2021-11-22T21:30:32.913501Z",
     "iopub.status.idle": "2021-11-22T21:30:32.915222Z",
     "shell.execute_reply": "2021-11-22T21:30:32.915560Z"
    },
    "papermill": {
     "duration": 0.063431,
     "end_time": "2021-11-22T21:30:32.915676",
     "exception": false,
     "start_time": "2021-11-22T21:30:32.852245",
     "status": "completed"
    },
    "tags": []
   },
   "outputs": [],
   "source": [
    "def func():\n",
    "    for i in range(N_REPS):\n",
    "        _cm(x, y)"
   ]
  },
  {
   "cell_type": "code",
   "execution_count": 17,
   "id": "0a7f2b1f-4b87-4dde-a46b-2acec5ac93ba",
   "metadata": {
    "execution": {
     "iopub.execute_input": "2021-11-22T21:30:33.024748Z",
     "iopub.status.busy": "2021-11-22T21:30:33.024192Z",
     "iopub.status.idle": "2021-11-22T21:31:37.908220Z",
     "shell.execute_reply": "2021-11-22T21:31:37.908569Z"
    },
    "papermill": {
     "duration": 64.940676,
     "end_time": "2021-11-22T21:31:37.908681",
     "exception": false,
     "start_time": "2021-11-22T21:30:32.968005",
     "status": "completed"
    },
    "tags": []
   },
   "outputs": [
    {
     "name": "stdout",
     "output_type": "stream",
     "text": [
      "4.63 s ± 9.76 ms per loop (mean ± std. dev. of 7 runs, 1 loop each)\n"
     ]
    }
   ],
   "source": [
    "%%timeit func()\n",
    "func()"
   ]
  },
  {
   "cell_type": "code",
   "execution_count": 18,
   "id": "74acbe27-9807-4f26-8b7e-b74d0f745b63",
   "metadata": {
    "execution": {
     "iopub.execute_input": "2021-11-22T21:31:38.017980Z",
     "iopub.status.busy": "2021-11-22T21:31:38.017299Z",
     "iopub.status.idle": "2021-11-22T21:31:42.650704Z",
     "shell.execute_reply": "2021-11-22T21:31:42.651078Z"
    },
    "papermill": {
     "duration": 4.689577,
     "end_time": "2021-11-22T21:31:42.651195",
     "exception": false,
     "start_time": "2021-11-22T21:31:37.961618",
     "status": "completed"
    },
    "tags": []
   },
   "outputs": [
    {
     "name": "stdout",
     "output_type": "stream",
     "text": [
      " \n",
      "*** Profile printout saved to text file '09-n_samples_large.txt'. \n"
     ]
    }
   ],
   "source": [
    "%%prun -s cumulative -l 20 -T 09-n_samples_large.txt\n",
    "func()"
   ]
  },
  {
   "cell_type": "code",
   "execution_count": null,
   "id": "2aa76596-f126-4ba8-8bba-4d31225e0e5d",
   "metadata": {
    "papermill": {
     "duration": 0.053382,
     "end_time": "2021-11-22T21:31:42.867021",
     "exception": false,
     "start_time": "2021-11-22T21:31:42.813639",
     "status": "completed"
    },
    "tags": []
   },
   "outputs": [],
   "source": []
  }
 ],
 "metadata": {
  "jupytext": {
   "cell_metadata_filter": "all,-execution,-papermill,-trusted"
  },
  "kernelspec": {
   "display_name": "Python 3 (ipykernel)",
   "language": "python",
   "name": "python3"
  },
  "language_info": {
   "codemirror_mode": {
    "name": "ipython",
    "version": 3
   },
   "file_extension": ".py",
   "mimetype": "text/x-python",
   "name": "python",
   "nbconvert_exporter": "python",
   "pygments_lexer": "ipython3",
   "version": "3.9.7"
  },
  "papermill": {
   "default_parameters": {},
   "duration": 86.119716,
   "end_time": "2021-11-22T21:31:43.329278",
   "environment_variables": {},
   "exception": null,
   "input_path": "nbs/others/05_clustermatch_profiling/10_cm_optimized/09-cdist_parts_v04.ipynb",
   "output_path": "nbs/others/05_clustermatch_profiling/10_cm_optimized/09-cdist_parts_v04.run.ipynb",
   "parameters": {},
   "start_time": "2021-11-22T21:30:17.209562",
   "version": "2.3.3"
  }
 },
 "nbformat": 4,
 "nbformat_minor": 5
}
