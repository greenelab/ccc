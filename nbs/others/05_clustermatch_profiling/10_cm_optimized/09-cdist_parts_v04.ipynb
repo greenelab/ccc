{
 "cells": [
  {
   "cell_type": "markdown",
   "id": "36c65ddb-8246-4b0c-a231-68a373acc2cf",
   "metadata": {
    "papermill": {
     "duration": 0.127359,
     "end_time": "2021-11-28T04:45:55.760556",
     "exception": false,
     "start_time": "2021-11-28T04:45:55.633197",
     "status": "completed"
    },
    "tags": []
   },
   "source": [
    "# Description"
   ]
  },
  {
   "cell_type": "markdown",
   "id": "337633a8-d03e-4509-b89d-f8daee598958",
   "metadata": {
    "papermill": {
     "duration": 0.088971,
     "end_time": "2021-11-28T04:45:55.939325",
     "exception": false,
     "start_time": "2021-11-28T04:45:55.850354",
     "status": "completed"
    },
    "tags": []
   },
   "source": [
    "Exactly the same code as in `08`, but here I run the notebook in a different machine (desktop)."
   ]
  },
  {
   "cell_type": "markdown",
   "id": "63c2b099-cc44-4fe2-93d1-40336e0a8466",
   "metadata": {
    "papermill": {
     "duration": 0.08896,
     "end_time": "2021-11-28T04:45:56.118470",
     "exception": false,
     "start_time": "2021-11-28T04:45:56.029510",
     "status": "completed"
    },
    "tags": []
   },
   "source": [
    "# Remove pycache dir"
   ]
  },
  {
   "cell_type": "code",
   "execution_count": 1,
   "id": "960c4ff0-2a73-4eaa-97d6-3269102233eb",
   "metadata": {
    "execution": {
     "iopub.execute_input": "2021-11-28T04:45:56.305754Z",
     "iopub.status.busy": "2021-11-28T04:45:56.305296Z",
     "iopub.status.idle": "2021-11-28T04:45:56.898723Z",
     "shell.execute_reply": "2021-11-28T04:45:56.896618Z"
    },
    "papermill": {
     "duration": 0.691063,
     "end_time": "2021-11-28T04:45:56.899139",
     "exception": false,
     "start_time": "2021-11-28T04:45:56.208076",
     "status": "completed"
    },
    "tags": []
   },
   "outputs": [
    {
     "name": "stdout",
     "output_type": "stream",
     "text": [
      "/opt/code\r\n"
     ]
    }
   ],
   "source": [
    "!echo ${CODE_DIR}"
   ]
  },
  {
   "cell_type": "code",
   "execution_count": 2,
   "id": "e18db58a-316a-445b-a376-8b2ec18e08d8",
   "metadata": {
    "execution": {
     "iopub.execute_input": "2021-11-28T04:45:57.118442Z",
     "iopub.status.busy": "2021-11-28T04:45:57.116591Z",
     "iopub.status.idle": "2021-11-28T04:45:57.718804Z",
     "shell.execute_reply": "2021-11-28T04:45:57.720361Z"
    },
    "papermill": {
     "duration": 0.698912,
     "end_time": "2021-11-28T04:45:57.720801",
     "exception": false,
     "start_time": "2021-11-28T04:45:57.021889",
     "status": "completed"
    },
    "tags": []
   },
   "outputs": [
    {
     "name": "stdout",
     "output_type": "stream",
     "text": [
      "/opt/code/libs/clustermatch/__pycache__\r\n",
      "/opt/code/libs/clustermatch/sklearn/__pycache__\r\n",
      "/opt/code/libs/clustermatch/scipy/__pycache__\r\n",
      "/opt/code/libs/clustermatch/pytorch/__pycache__\r\n"
     ]
    }
   ],
   "source": [
    "!find ${CODE_DIR} -regex '^.*\\(__pycache__\\)$' -print"
   ]
  },
  {
   "cell_type": "code",
   "execution_count": 3,
   "id": "b54099b0-a990-4bbd-bcbd-e206eb0f0f0e",
   "metadata": {
    "execution": {
     "iopub.execute_input": "2021-11-28T04:45:57.940935Z",
     "iopub.status.busy": "2021-11-28T04:45:57.940450Z",
     "iopub.status.idle": "2021-11-28T04:45:58.565755Z",
     "shell.execute_reply": "2021-11-28T04:45:58.564034Z"
    },
    "papermill": {
     "duration": 0.72049,
     "end_time": "2021-11-28T04:45:58.566132",
     "exception": false,
     "start_time": "2021-11-28T04:45:57.845642",
     "status": "completed"
    },
    "tags": []
   },
   "outputs": [],
   "source": [
    "!find ${CODE_DIR} -regex '^.*\\(__pycache__\\)$' -prune -exec rm -rf {} \\;"
   ]
  },
  {
   "cell_type": "code",
   "execution_count": 4,
   "id": "7a9a8098-8160-46bf-8d83-bc398cbe2382",
   "metadata": {
    "execution": {
     "iopub.execute_input": "2021-11-28T04:45:58.786684Z",
     "iopub.status.busy": "2021-11-28T04:45:58.786219Z",
     "iopub.status.idle": "2021-11-28T04:45:59.382340Z",
     "shell.execute_reply": "2021-11-28T04:45:59.383785Z"
    },
    "papermill": {
     "duration": 0.692761,
     "end_time": "2021-11-28T04:45:59.384293",
     "exception": false,
     "start_time": "2021-11-28T04:45:58.691532",
     "status": "completed"
    },
    "tags": []
   },
   "outputs": [],
   "source": [
    "!find ${CODE_DIR} -regex '^.*\\(__pycache__\\)$' -print"
   ]
  },
  {
   "cell_type": "markdown",
   "id": "c2251313-41ac-46fd-a845-0f209689ecf6",
   "metadata": {
    "papermill": {
     "duration": 0.091457,
     "end_time": "2021-11-28T04:45:59.574956",
     "exception": false,
     "start_time": "2021-11-28T04:45:59.483499",
     "status": "completed"
    },
    "tags": []
   },
   "source": [
    "# Modules"
   ]
  },
  {
   "cell_type": "code",
   "execution_count": 5,
   "id": "987ef5f1-be49-4a6c-a4f4-b24a0a2094cb",
   "metadata": {
    "execution": {
     "iopub.execute_input": "2021-11-28T04:45:59.762621Z",
     "iopub.status.busy": "2021-11-28T04:45:59.762143Z",
     "iopub.status.idle": "2021-11-28T04:46:00.082557Z",
     "shell.execute_reply": "2021-11-28T04:46:00.082092Z"
    },
    "papermill": {
     "duration": 0.416214,
     "end_time": "2021-11-28T04:46:00.082651",
     "exception": false,
     "start_time": "2021-11-28T04:45:59.666437",
     "status": "completed"
    },
    "tags": []
   },
   "outputs": [],
   "source": [
    "import numpy as np\n",
    "\n",
    "from clustermatch.coef import cm"
   ]
  },
  {
   "cell_type": "markdown",
   "id": "24399ccb-d33d-4bad-9baf-638c9c56feb2",
   "metadata": {
    "papermill": {
     "duration": 0.090488,
     "end_time": "2021-11-28T04:46:00.264513",
     "exception": false,
     "start_time": "2021-11-28T04:46:00.174025",
     "status": "completed"
    },
    "tags": []
   },
   "source": [
    "# Settings"
   ]
  },
  {
   "cell_type": "code",
   "execution_count": 6,
   "id": "c609cefa-f513-4cf8-9573-367744e31c5f",
   "metadata": {
    "execution": {
     "iopub.execute_input": "2021-11-28T04:46:00.456861Z",
     "iopub.status.busy": "2021-11-28T04:46:00.456308Z",
     "iopub.status.idle": "2021-11-28T04:46:00.457886Z",
     "shell.execute_reply": "2021-11-28T04:46:00.458287Z"
    },
    "papermill": {
     "duration": 0.101877,
     "end_time": "2021-11-28T04:46:00.458422",
     "exception": false,
     "start_time": "2021-11-28T04:46:00.356545",
     "status": "completed"
    },
    "tags": []
   },
   "outputs": [],
   "source": [
    "N_REPS = 10"
   ]
  },
  {
   "cell_type": "code",
   "execution_count": 7,
   "id": "c0341a42-b8de-419f-ab37-1e4fee9dde75",
   "metadata": {
    "execution": {
     "iopub.execute_input": "2021-11-28T04:46:00.648174Z",
     "iopub.status.busy": "2021-11-28T04:46:00.647655Z",
     "iopub.status.idle": "2021-11-28T04:46:00.649840Z",
     "shell.execute_reply": "2021-11-28T04:46:00.649407Z"
    },
    "papermill": {
     "duration": 0.096541,
     "end_time": "2021-11-28T04:46:00.649931",
     "exception": false,
     "start_time": "2021-11-28T04:46:00.553390",
     "status": "completed"
    },
    "tags": []
   },
   "outputs": [],
   "source": [
    "np.random.seed(0)"
   ]
  },
  {
   "cell_type": "markdown",
   "id": "6fd3067b-a4f7-475e-9575-20246934537d",
   "metadata": {
    "papermill": {
     "duration": 0.091596,
     "end_time": "2021-11-28T04:46:00.833202",
     "exception": false,
     "start_time": "2021-11-28T04:46:00.741606",
     "status": "completed"
    },
    "tags": []
   },
   "source": [
    "# Setup"
   ]
  },
  {
   "cell_type": "code",
   "execution_count": 8,
   "id": "02e0507c-43ff-4693-8a3b-8ccd8f23168c",
   "metadata": {
    "execution": {
     "iopub.execute_input": "2021-11-28T04:46:01.018605Z",
     "iopub.status.busy": "2021-11-28T04:46:01.018137Z",
     "iopub.status.idle": "2021-11-28T04:46:09.634233Z",
     "shell.execute_reply": "2021-11-28T04:46:09.633794Z"
    },
    "papermill": {
     "duration": 8.710078,
     "end_time": "2021-11-28T04:46:09.634329",
     "exception": false,
     "start_time": "2021-11-28T04:46:00.924251",
     "status": "completed"
    },
    "tags": []
   },
   "outputs": [
    {
     "data": {
      "text/plain": [
       "0.15625"
      ]
     },
     "execution_count": 8,
     "metadata": {},
     "output_type": "execute_result"
    }
   ],
   "source": [
    "# let numba compile all the code before profiling\n",
    "cm(np.random.rand(10), np.random.rand(10))"
   ]
  },
  {
   "cell_type": "markdown",
   "id": "8549179d-1517-4a40-9a51-b95dc02d0fcc",
   "metadata": {
    "papermill": {
     "duration": 0.092525,
     "end_time": "2021-11-28T04:46:09.820157",
     "exception": false,
     "start_time": "2021-11-28T04:46:09.727632",
     "status": "completed"
    },
    "tags": []
   },
   "source": [
    "# Run with `n_samples` small"
   ]
  },
  {
   "cell_type": "markdown",
   "id": "13ba811b",
   "metadata": {
    "papermill": {
     "duration": 0.092051,
     "end_time": "2021-11-28T04:46:10.004453",
     "exception": false,
     "start_time": "2021-11-28T04:46:09.912402",
     "status": "completed"
    },
    "tags": []
   },
   "source": [
    "## `n_samples=50`"
   ]
  },
  {
   "cell_type": "code",
   "execution_count": 9,
   "id": "68064f0b",
   "metadata": {
    "execution": {
     "iopub.execute_input": "2021-11-28T04:46:10.193236Z",
     "iopub.status.busy": "2021-11-28T04:46:10.192775Z",
     "iopub.status.idle": "2021-11-28T04:46:10.194188Z",
     "shell.execute_reply": "2021-11-28T04:46:10.194541Z"
    },
    "papermill": {
     "duration": 0.097626,
     "end_time": "2021-11-28T04:46:10.194658",
     "exception": false,
     "start_time": "2021-11-28T04:46:10.097032",
     "status": "completed"
    },
    "tags": []
   },
   "outputs": [],
   "source": [
    "N_SAMPLES = 50"
   ]
  },
  {
   "cell_type": "code",
   "execution_count": 10,
   "id": "6f2ff213-d6b7-458f-acbf-8c73dd497a2a",
   "metadata": {
    "execution": {
     "iopub.execute_input": "2021-11-28T04:46:10.383715Z",
     "iopub.status.busy": "2021-11-28T04:46:10.383269Z",
     "iopub.status.idle": "2021-11-28T04:46:10.385603Z",
     "shell.execute_reply": "2021-11-28T04:46:10.385161Z"
    },
    "papermill": {
     "duration": 0.097741,
     "end_time": "2021-11-28T04:46:10.385698",
     "exception": false,
     "start_time": "2021-11-28T04:46:10.287957",
     "status": "completed"
    },
    "tags": []
   },
   "outputs": [],
   "source": [
    "x = np.random.rand(N_SAMPLES)\n",
    "y = np.random.rand(N_SAMPLES)"
   ]
  },
  {
   "cell_type": "code",
   "execution_count": 11,
   "id": "d63012be-4fc7-4fba-bccd-ad155905d1d6",
   "metadata": {
    "execution": {
     "iopub.execute_input": "2021-11-28T04:46:10.582395Z",
     "iopub.status.busy": "2021-11-28T04:46:10.581923Z",
     "iopub.status.idle": "2021-11-28T04:46:10.583382Z",
     "shell.execute_reply": "2021-11-28T04:46:10.583733Z"
    },
    "papermill": {
     "duration": 0.103718,
     "end_time": "2021-11-28T04:46:10.583922",
     "exception": false,
     "start_time": "2021-11-28T04:46:10.480204",
     "status": "completed"
    },
    "tags": []
   },
   "outputs": [],
   "source": [
    "def func():\n",
    "    for i in range(N_REPS):\n",
    "        cm(x, y)"
   ]
  },
  {
   "cell_type": "code",
   "execution_count": 12,
   "id": "c0abc65a-2f3c-4476-9c2a-f8d7753b75e6",
   "metadata": {
    "execution": {
     "iopub.execute_input": "2021-11-28T04:46:10.772272Z",
     "iopub.status.busy": "2021-11-28T04:46:10.769767Z",
     "iopub.status.idle": "2021-11-28T04:46:23.704555Z",
     "shell.execute_reply": "2021-11-28T04:46:23.704958Z"
    },
    "papermill": {
     "duration": 13.028688,
     "end_time": "2021-11-28T04:46:23.705083",
     "exception": false,
     "start_time": "2021-11-28T04:46:10.676395",
     "status": "completed"
    },
    "tags": []
   },
   "outputs": [
    {
     "name": "stdout",
     "output_type": "stream",
     "text": [
      "15.7 ms ± 411 µs per loop (mean ± std. dev. of 7 runs, 100 loops each)\n"
     ]
    }
   ],
   "source": [
    "%%timeit func()\n",
    "func()"
   ]
  },
  {
   "cell_type": "code",
   "execution_count": 13,
   "id": "e80a7b02-310f-4bd9-90d5-2a41186db39e",
   "metadata": {
    "execution": {
     "iopub.execute_input": "2021-11-28T04:46:23.897759Z",
     "iopub.status.busy": "2021-11-28T04:46:23.895192Z",
     "iopub.status.idle": "2021-11-28T04:46:23.920734Z",
     "shell.execute_reply": "2021-11-28T04:46:23.921126Z"
    },
    "papermill": {
     "duration": 0.120849,
     "end_time": "2021-11-28T04:46:23.921249",
     "exception": false,
     "start_time": "2021-11-28T04:46:23.800400",
     "status": "completed"
    },
    "tags": []
   },
   "outputs": [
    {
     "name": "stdout",
     "output_type": "stream",
     "text": [
      " \n",
      "*** Profile printout saved to text file '09-n_samples_small_50.txt'. \n"
     ]
    }
   ],
   "source": [
    "%%prun -s cumulative -l 20 -T 09-n_samples_small_50.txt\n",
    "func()"
   ]
  },
  {
   "cell_type": "markdown",
   "id": "2548440c",
   "metadata": {
    "papermill": {
     "duration": 0.092771,
     "end_time": "2021-11-28T04:46:24.109881",
     "exception": false,
     "start_time": "2021-11-28T04:46:24.017110",
     "status": "completed"
    },
    "tags": []
   },
   "source": [
    "## `n_samples=100`"
   ]
  },
  {
   "cell_type": "code",
   "execution_count": 14,
   "id": "ddb768d7-9b74-424c-bdb9-9e52b9e5b181",
   "metadata": {
    "execution": {
     "iopub.execute_input": "2021-11-28T04:46:24.300032Z",
     "iopub.status.busy": "2021-11-28T04:46:24.299522Z",
     "iopub.status.idle": "2021-11-28T04:46:24.301101Z",
     "shell.execute_reply": "2021-11-28T04:46:24.301439Z"
    },
    "papermill": {
     "duration": 0.098495,
     "end_time": "2021-11-28T04:46:24.301553",
     "exception": false,
     "start_time": "2021-11-28T04:46:24.203058",
     "status": "completed"
    },
    "tags": []
   },
   "outputs": [],
   "source": [
    "N_SAMPLES = 100"
   ]
  },
  {
   "cell_type": "code",
   "execution_count": 15,
   "id": "161cf922-41f7-4ced-af1f-e3d25b36b200",
   "metadata": {
    "execution": {
     "iopub.execute_input": "2021-11-28T04:46:24.491958Z",
     "iopub.status.busy": "2021-11-28T04:46:24.491459Z",
     "iopub.status.idle": "2021-11-28T04:46:24.493117Z",
     "shell.execute_reply": "2021-11-28T04:46:24.493478Z"
    },
    "papermill": {
     "duration": 0.098071,
     "end_time": "2021-11-28T04:46:24.493590",
     "exception": false,
     "start_time": "2021-11-28T04:46:24.395519",
     "status": "completed"
    },
    "tags": []
   },
   "outputs": [],
   "source": [
    "x = np.random.rand(N_SAMPLES)\n",
    "y = np.random.rand(N_SAMPLES)"
   ]
  },
  {
   "cell_type": "code",
   "execution_count": 16,
   "id": "ede7a328-bad3-40a2-a179-1148a3229620",
   "metadata": {
    "execution": {
     "iopub.execute_input": "2021-11-28T04:46:24.691045Z",
     "iopub.status.busy": "2021-11-28T04:46:24.690590Z",
     "iopub.status.idle": "2021-11-28T04:46:24.692049Z",
     "shell.execute_reply": "2021-11-28T04:46:24.692389Z"
    },
    "papermill": {
     "duration": 0.098815,
     "end_time": "2021-11-28T04:46:24.692505",
     "exception": false,
     "start_time": "2021-11-28T04:46:24.593690",
     "status": "completed"
    },
    "tags": []
   },
   "outputs": [],
   "source": [
    "def func():\n",
    "    for i in range(N_REPS):\n",
    "        cm(x, y)"
   ]
  },
  {
   "cell_type": "code",
   "execution_count": 17,
   "id": "0a7f2b1f-4b87-4dde-a46b-2acec5ac93ba",
   "metadata": {
    "execution": {
     "iopub.execute_input": "2021-11-28T04:46:24.884953Z",
     "iopub.status.busy": "2021-11-28T04:46:24.884266Z",
     "iopub.status.idle": "2021-11-28T04:46:27.857232Z",
     "shell.execute_reply": "2021-11-28T04:46:27.856743Z"
    },
    "papermill": {
     "duration": 3.07086,
     "end_time": "2021-11-28T04:46:27.857349",
     "exception": false,
     "start_time": "2021-11-28T04:46:24.786489",
     "status": "completed"
    },
    "tags": []
   },
   "outputs": [
    {
     "name": "stdout",
     "output_type": "stream",
     "text": [
      "34 ms ± 1.84 ms per loop (mean ± std. dev. of 7 runs, 10 loops each)\n"
     ]
    }
   ],
   "source": [
    "%%timeit func()\n",
    "func()"
   ]
  },
  {
   "cell_type": "code",
   "execution_count": 18,
   "id": "74acbe27-9807-4f26-8b7e-b74d0f745b63",
   "metadata": {
    "execution": {
     "iopub.execute_input": "2021-11-28T04:46:28.056758Z",
     "iopub.status.busy": "2021-11-28T04:46:28.055945Z",
     "iopub.status.idle": "2021-11-28T04:46:28.092549Z",
     "shell.execute_reply": "2021-11-28T04:46:28.092917Z"
    },
    "papermill": {
     "duration": 0.136369,
     "end_time": "2021-11-28T04:46:28.093042",
     "exception": false,
     "start_time": "2021-11-28T04:46:27.956673",
     "status": "completed"
    },
    "tags": []
   },
   "outputs": [
    {
     "name": "stdout",
     "output_type": "stream",
     "text": [
      " \n",
      "*** Profile printout saved to text file '09-n_samples_small_100.txt'. \n"
     ]
    }
   ],
   "source": [
    "%%prun -s cumulative -l 20 -T 09-n_samples_small_100.txt\n",
    "func()"
   ]
  },
  {
   "cell_type": "markdown",
   "id": "611ff8e1",
   "metadata": {
    "papermill": {
     "duration": 0.09522,
     "end_time": "2021-11-28T04:46:28.284135",
     "exception": false,
     "start_time": "2021-11-28T04:46:28.188915",
     "status": "completed"
    },
    "tags": []
   },
   "source": [
    "## `n_samples=500`"
   ]
  },
  {
   "cell_type": "code",
   "execution_count": 19,
   "id": "4bcf4b42",
   "metadata": {
    "execution": {
     "iopub.execute_input": "2021-11-28T04:46:28.476660Z",
     "iopub.status.busy": "2021-11-28T04:46:28.476196Z",
     "iopub.status.idle": "2021-11-28T04:46:28.477727Z",
     "shell.execute_reply": "2021-11-28T04:46:28.478086Z"
    },
    "papermill": {
     "duration": 0.099102,
     "end_time": "2021-11-28T04:46:28.478199",
     "exception": false,
     "start_time": "2021-11-28T04:46:28.379097",
     "status": "completed"
    },
    "tags": []
   },
   "outputs": [],
   "source": [
    "N_SAMPLES = 500"
   ]
  },
  {
   "cell_type": "code",
   "execution_count": 20,
   "id": "0bf2f21e",
   "metadata": {
    "execution": {
     "iopub.execute_input": "2021-11-28T04:46:28.678244Z",
     "iopub.status.busy": "2021-11-28T04:46:28.677795Z",
     "iopub.status.idle": "2021-11-28T04:46:28.679405Z",
     "shell.execute_reply": "2021-11-28T04:46:28.679744Z"
    },
    "papermill": {
     "duration": 0.100673,
     "end_time": "2021-11-28T04:46:28.679860",
     "exception": false,
     "start_time": "2021-11-28T04:46:28.579187",
     "status": "completed"
    },
    "tags": []
   },
   "outputs": [],
   "source": [
    "x = np.random.rand(N_SAMPLES)\n",
    "y = np.random.rand(N_SAMPLES)"
   ]
  },
  {
   "cell_type": "code",
   "execution_count": 21,
   "id": "24c352bd",
   "metadata": {
    "execution": {
     "iopub.execute_input": "2021-11-28T04:46:28.874625Z",
     "iopub.status.busy": "2021-11-28T04:46:28.874139Z",
     "iopub.status.idle": "2021-11-28T04:46:28.876361Z",
     "shell.execute_reply": "2021-11-28T04:46:28.875926Z"
    },
    "papermill": {
     "duration": 0.100659,
     "end_time": "2021-11-28T04:46:28.876498",
     "exception": false,
     "start_time": "2021-11-28T04:46:28.775839",
     "status": "completed"
    },
    "tags": []
   },
   "outputs": [],
   "source": [
    "def func():\n",
    "    for i in range(N_REPS):\n",
    "        cm(x, y)"
   ]
  },
  {
   "cell_type": "code",
   "execution_count": 22,
   "id": "cbde4ce6",
   "metadata": {
    "execution": {
     "iopub.execute_input": "2021-11-28T04:46:29.070683Z",
     "iopub.status.busy": "2021-11-28T04:46:29.070200Z",
     "iopub.status.idle": "2021-11-28T04:46:33.134294Z",
     "shell.execute_reply": "2021-11-28T04:46:33.133834Z"
    },
    "papermill": {
     "duration": 4.163583,
     "end_time": "2021-11-28T04:46:33.134414",
     "exception": false,
     "start_time": "2021-11-28T04:46:28.970831",
     "status": "completed"
    },
    "tags": []
   },
   "outputs": [
    {
     "name": "stdout",
     "output_type": "stream",
     "text": [
      "46.1 ms ± 619 µs per loop (mean ± std. dev. of 7 runs, 10 loops each)\n"
     ]
    }
   ],
   "source": [
    "%%timeit func()\n",
    "func()"
   ]
  },
  {
   "cell_type": "code",
   "execution_count": 23,
   "id": "1250547e",
   "metadata": {
    "execution": {
     "iopub.execute_input": "2021-11-28T04:46:33.335390Z",
     "iopub.status.busy": "2021-11-28T04:46:33.334886Z",
     "iopub.status.idle": "2021-11-28T04:46:33.383444Z",
     "shell.execute_reply": "2021-11-28T04:46:33.383047Z"
    },
    "papermill": {
     "duration": 0.148948,
     "end_time": "2021-11-28T04:46:33.383542",
     "exception": false,
     "start_time": "2021-11-28T04:46:33.234594",
     "status": "completed"
    },
    "tags": []
   },
   "outputs": [
    {
     "name": "stdout",
     "output_type": "stream",
     "text": [
      " \n",
      "*** Profile printout saved to text file '09-n_samples_small_500.txt'. \n"
     ]
    }
   ],
   "source": [
    "%%prun -s cumulative -l 20 -T 09-n_samples_small_500.txt\n",
    "func()"
   ]
  },
  {
   "cell_type": "markdown",
   "id": "6853c300",
   "metadata": {
    "papermill": {
     "duration": 0.099121,
     "end_time": "2021-11-28T04:46:33.580451",
     "exception": false,
     "start_time": "2021-11-28T04:46:33.481330",
     "status": "completed"
    },
    "tags": []
   },
   "source": [
    "## `n_samples=1000`"
   ]
  },
  {
   "cell_type": "code",
   "execution_count": 24,
   "id": "f77e8490",
   "metadata": {
    "execution": {
     "iopub.execute_input": "2021-11-28T04:46:33.814006Z",
     "iopub.status.busy": "2021-11-28T04:46:33.813554Z",
     "iopub.status.idle": "2021-11-28T04:46:33.815010Z",
     "shell.execute_reply": "2021-11-28T04:46:33.815371Z"
    },
    "papermill": {
     "duration": 0.108775,
     "end_time": "2021-11-28T04:46:33.815486",
     "exception": false,
     "start_time": "2021-11-28T04:46:33.706711",
     "status": "completed"
    },
    "tags": []
   },
   "outputs": [],
   "source": [
    "N_SAMPLES = 1000"
   ]
  },
  {
   "cell_type": "code",
   "execution_count": 25,
   "id": "c99f544a",
   "metadata": {
    "execution": {
     "iopub.execute_input": "2021-11-28T04:46:34.013901Z",
     "iopub.status.busy": "2021-11-28T04:46:34.013450Z",
     "iopub.status.idle": "2021-11-28T04:46:34.015667Z",
     "shell.execute_reply": "2021-11-28T04:46:34.015231Z"
    },
    "papermill": {
     "duration": 0.101722,
     "end_time": "2021-11-28T04:46:34.015761",
     "exception": false,
     "start_time": "2021-11-28T04:46:33.914039",
     "status": "completed"
    },
    "tags": []
   },
   "outputs": [],
   "source": [
    "x = np.random.rand(N_SAMPLES)\n",
    "y = np.random.rand(N_SAMPLES)"
   ]
  },
  {
   "cell_type": "code",
   "execution_count": 26,
   "id": "d907f1d7",
   "metadata": {
    "execution": {
     "iopub.execute_input": "2021-11-28T04:46:34.212681Z",
     "iopub.status.busy": "2021-11-28T04:46:34.212178Z",
     "iopub.status.idle": "2021-11-28T04:46:34.213777Z",
     "shell.execute_reply": "2021-11-28T04:46:34.214139Z"
    },
    "papermill": {
     "duration": 0.101827,
     "end_time": "2021-11-28T04:46:34.214253",
     "exception": false,
     "start_time": "2021-11-28T04:46:34.112426",
     "status": "completed"
    },
    "tags": []
   },
   "outputs": [],
   "source": [
    "def func():\n",
    "    for i in range(N_REPS):\n",
    "        cm(x, y)"
   ]
  },
  {
   "cell_type": "code",
   "execution_count": 27,
   "id": "9721b048",
   "metadata": {
    "execution": {
     "iopub.execute_input": "2021-11-28T04:46:34.415600Z",
     "iopub.status.busy": "2021-11-28T04:46:34.415125Z",
     "iopub.status.idle": "2021-11-28T04:46:40.594002Z",
     "shell.execute_reply": "2021-11-28T04:46:40.593320Z"
    },
    "papermill": {
     "duration": 6.28115,
     "end_time": "2021-11-28T04:46:40.594131",
     "exception": false,
     "start_time": "2021-11-28T04:46:34.312981",
     "status": "completed"
    },
    "tags": []
   },
   "outputs": [
    {
     "name": "stdout",
     "output_type": "stream",
     "text": [
      "70.3 ms ± 2.35 ms per loop (mean ± std. dev. of 7 runs, 10 loops each)\n"
     ]
    }
   ],
   "source": [
    "%%timeit func()\n",
    "func()"
   ]
  },
  {
   "cell_type": "code",
   "execution_count": 28,
   "id": "fd0f4dd6",
   "metadata": {
    "execution": {
     "iopub.execute_input": "2021-11-28T04:46:40.808350Z",
     "iopub.status.busy": "2021-11-28T04:46:40.807860Z",
     "iopub.status.idle": "2021-11-28T04:46:40.879913Z",
     "shell.execute_reply": "2021-11-28T04:46:40.879499Z"
    },
    "papermill": {
     "duration": 0.175847,
     "end_time": "2021-11-28T04:46:40.880015",
     "exception": false,
     "start_time": "2021-11-28T04:46:40.704168",
     "status": "completed"
    },
    "tags": []
   },
   "outputs": [
    {
     "name": "stdout",
     "output_type": "stream",
     "text": [
      " \n",
      "*** Profile printout saved to text file '09-n_samples_small_1000.txt'. \n"
     ]
    }
   ],
   "source": [
    "%%prun -s cumulative -l 20 -T 09-n_samples_small_1000.txt\n",
    "func()"
   ]
  },
  {
   "cell_type": "markdown",
   "id": "f6b9adcf-1da4-4496-b05f-47952fd80d7f",
   "metadata": {
    "papermill": {
     "duration": 0.098717,
     "end_time": "2021-11-28T04:46:41.077266",
     "exception": false,
     "start_time": "2021-11-28T04:46:40.978549",
     "status": "completed"
    },
    "tags": []
   },
   "source": [
    "# Run with `n_samples` large"
   ]
  },
  {
   "cell_type": "markdown",
   "id": "8f2e407c",
   "metadata": {
    "papermill": {
     "duration": 0.098604,
     "end_time": "2021-11-28T04:46:41.274893",
     "exception": false,
     "start_time": "2021-11-28T04:46:41.176289",
     "status": "completed"
    },
    "tags": []
   },
   "source": [
    "## `n_samples=50000`"
   ]
  },
  {
   "cell_type": "code",
   "execution_count": 29,
   "id": "c522396e",
   "metadata": {
    "execution": {
     "iopub.execute_input": "2021-11-28T04:46:41.475226Z",
     "iopub.status.busy": "2021-11-28T04:46:41.474760Z",
     "iopub.status.idle": "2021-11-28T04:46:41.476404Z",
     "shell.execute_reply": "2021-11-28T04:46:41.476747Z"
    },
    "papermill": {
     "duration": 0.103194,
     "end_time": "2021-11-28T04:46:41.476863",
     "exception": false,
     "start_time": "2021-11-28T04:46:41.373669",
     "status": "completed"
    },
    "tags": []
   },
   "outputs": [],
   "source": [
    "N_SAMPLES = 50000"
   ]
  },
  {
   "cell_type": "code",
   "execution_count": 30,
   "id": "a5e536cc",
   "metadata": {
    "execution": {
     "iopub.execute_input": "2021-11-28T04:46:41.682386Z",
     "iopub.status.busy": "2021-11-28T04:46:41.681856Z",
     "iopub.status.idle": "2021-11-28T04:46:41.685232Z",
     "shell.execute_reply": "2021-11-28T04:46:41.684774Z"
    },
    "papermill": {
     "duration": 0.11061,
     "end_time": "2021-11-28T04:46:41.685326",
     "exception": false,
     "start_time": "2021-11-28T04:46:41.574716",
     "status": "completed"
    },
    "tags": []
   },
   "outputs": [],
   "source": [
    "x = np.random.rand(N_SAMPLES)\n",
    "y = np.random.rand(N_SAMPLES)"
   ]
  },
  {
   "cell_type": "code",
   "execution_count": 31,
   "id": "15cb532e",
   "metadata": {
    "execution": {
     "iopub.execute_input": "2021-11-28T04:46:41.885998Z",
     "iopub.status.busy": "2021-11-28T04:46:41.884776Z",
     "iopub.status.idle": "2021-11-28T04:46:41.888217Z",
     "shell.execute_reply": "2021-11-28T04:46:41.887723Z"
    },
    "papermill": {
     "duration": 0.104745,
     "end_time": "2021-11-28T04:46:41.888309",
     "exception": false,
     "start_time": "2021-11-28T04:46:41.783564",
     "status": "completed"
    },
    "tags": []
   },
   "outputs": [],
   "source": [
    "def func():\n",
    "    for i in range(N_REPS):\n",
    "        cm(x, y)"
   ]
  },
  {
   "cell_type": "code",
   "execution_count": 32,
   "id": "91470f64",
   "metadata": {
    "execution": {
     "iopub.execute_input": "2021-11-28T04:46:42.088928Z",
     "iopub.status.busy": "2021-11-28T04:46:42.088313Z",
     "iopub.status.idle": "2021-11-28T04:47:17.565897Z",
     "shell.execute_reply": "2021-11-28T04:47:17.566246Z"
    },
    "papermill": {
     "duration": 35.579865,
     "end_time": "2021-11-28T04:47:17.566356",
     "exception": false,
     "start_time": "2021-11-28T04:46:41.986491",
     "status": "completed"
    },
    "tags": []
   },
   "outputs": [
    {
     "name": "stdout",
     "output_type": "stream",
     "text": [
      "2.21 s ± 6.46 ms per loop (mean ± std. dev. of 7 runs, 1 loop each)\n"
     ]
    }
   ],
   "source": [
    "%%timeit func()\n",
    "func()"
   ]
  },
  {
   "cell_type": "code",
   "execution_count": 33,
   "id": "4de4e0b0",
   "metadata": {
    "execution": {
     "iopub.execute_input": "2021-11-28T04:47:17.771734Z",
     "iopub.status.busy": "2021-11-28T04:47:17.771164Z",
     "iopub.status.idle": "2021-11-28T04:47:19.992492Z",
     "shell.execute_reply": "2021-11-28T04:47:19.992879Z"
    },
    "papermill": {
     "duration": 2.328959,
     "end_time": "2021-11-28T04:47:19.992998",
     "exception": false,
     "start_time": "2021-11-28T04:47:17.664039",
     "status": "completed"
    },
    "tags": []
   },
   "outputs": [
    {
     "name": "stdout",
     "output_type": "stream",
     "text": [
      " \n",
      "*** Profile printout saved to text file '09-n_samples_large_50000.txt'. \n"
     ]
    }
   ],
   "source": [
    "%%prun -s cumulative -l 20 -T 09-n_samples_large_50000.txt\n",
    "func()"
   ]
  },
  {
   "cell_type": "markdown",
   "id": "b0c07894",
   "metadata": {
    "papermill": {
     "duration": 0.099916,
     "end_time": "2021-11-28T04:47:20.196769",
     "exception": false,
     "start_time": "2021-11-28T04:47:20.096853",
     "status": "completed"
    },
    "tags": []
   },
   "source": [
    "## `n_samples=100000`"
   ]
  },
  {
   "cell_type": "code",
   "execution_count": 34,
   "id": "7fb2ab2e-a6de-412b-9540-d00f8641290e",
   "metadata": {
    "execution": {
     "iopub.execute_input": "2021-11-28T04:47:20.399312Z",
     "iopub.status.busy": "2021-11-28T04:47:20.398862Z",
     "iopub.status.idle": "2021-11-28T04:47:20.400352Z",
     "shell.execute_reply": "2021-11-28T04:47:20.400713Z"
    },
    "papermill": {
     "duration": 0.105136,
     "end_time": "2021-11-28T04:47:20.400828",
     "exception": false,
     "start_time": "2021-11-28T04:47:20.295692",
     "status": "completed"
    },
    "tags": []
   },
   "outputs": [],
   "source": [
    "N_SAMPLES = 100000"
   ]
  },
  {
   "cell_type": "code",
   "execution_count": 35,
   "id": "81765e91",
   "metadata": {
    "execution": {
     "iopub.execute_input": "2021-11-28T04:47:20.603728Z",
     "iopub.status.busy": "2021-11-28T04:47:20.603244Z",
     "iopub.status.idle": "2021-11-28T04:47:20.606349Z",
     "shell.execute_reply": "2021-11-28T04:47:20.606703Z"
    },
    "papermill": {
     "duration": 0.105674,
     "end_time": "2021-11-28T04:47:20.606816",
     "exception": false,
     "start_time": "2021-11-28T04:47:20.501142",
     "status": "completed"
    },
    "tags": []
   },
   "outputs": [],
   "source": [
    "x = np.random.rand(N_SAMPLES)\n",
    "y = np.random.rand(N_SAMPLES)"
   ]
  },
  {
   "cell_type": "code",
   "execution_count": 36,
   "id": "d408b318",
   "metadata": {
    "execution": {
     "iopub.execute_input": "2021-11-28T04:47:20.815436Z",
     "iopub.status.busy": "2021-11-28T04:47:20.813869Z",
     "iopub.status.idle": "2021-11-28T04:47:20.817810Z",
     "shell.execute_reply": "2021-11-28T04:47:20.817367Z"
    },
    "papermill": {
     "duration": 0.111317,
     "end_time": "2021-11-28T04:47:20.817905",
     "exception": false,
     "start_time": "2021-11-28T04:47:20.706588",
     "status": "completed"
    },
    "tags": []
   },
   "outputs": [],
   "source": [
    "def func():\n",
    "    for i in range(N_REPS):\n",
    "        cm(x, y)"
   ]
  },
  {
   "cell_type": "code",
   "execution_count": 37,
   "id": "aca57100",
   "metadata": {
    "execution": {
     "iopub.execute_input": "2021-11-28T04:47:21.020323Z",
     "iopub.status.busy": "2021-11-28T04:47:21.019673Z",
     "iopub.status.idle": "2021-11-28T04:48:34.665604Z",
     "shell.execute_reply": "2021-11-28T04:48:34.665957Z"
    },
    "papermill": {
     "duration": 73.74829,
     "end_time": "2021-11-28T04:48:34.666067",
     "exception": false,
     "start_time": "2021-11-28T04:47:20.917777",
     "status": "completed"
    },
    "tags": []
   },
   "outputs": [
    {
     "name": "stdout",
     "output_type": "stream",
     "text": [
      "4.6 s ± 3.87 ms per loop (mean ± std. dev. of 7 runs, 1 loop each)\n"
     ]
    }
   ],
   "source": [
    "%%timeit func()\n",
    "func()"
   ]
  },
  {
   "cell_type": "code",
   "execution_count": 38,
   "id": "b9c25f30",
   "metadata": {
    "execution": {
     "iopub.execute_input": "2021-11-28T04:48:34.868305Z",
     "iopub.status.busy": "2021-11-28T04:48:34.867610Z",
     "iopub.status.idle": "2021-11-28T04:48:39.475938Z",
     "shell.execute_reply": "2021-11-28T04:48:39.475453Z"
    },
    "papermill": {
     "duration": 4.711131,
     "end_time": "2021-11-28T04:48:39.476033",
     "exception": false,
     "start_time": "2021-11-28T04:48:34.764902",
     "status": "completed"
    },
    "tags": []
   },
   "outputs": [
    {
     "name": "stdout",
     "output_type": "stream",
     "text": [
      " \n",
      "*** Profile printout saved to text file '09-n_samples_large_100000.txt'. \n"
     ]
    }
   ],
   "source": [
    "%%prun -s cumulative -l 20 -T 09-n_samples_large_100000.txt\n",
    "func()"
   ]
  },
  {
   "cell_type": "code",
   "execution_count": null,
   "id": "2aa76596-f126-4ba8-8bba-4d31225e0e5d",
   "metadata": {
    "papermill": {
     "duration": 0.100404,
     "end_time": "2021-11-28T04:48:39.677864",
     "exception": false,
     "start_time": "2021-11-28T04:48:39.577460",
     "status": "completed"
    },
    "tags": []
   },
   "outputs": [],
   "source": []
  }
 ],
 "metadata": {
  "jupytext": {
   "cell_metadata_filter": "all,-execution,-papermill,-trusted"
  },
  "kernelspec": {
   "display_name": "Python 3 (ipykernel)",
   "language": "python",
   "name": "python3"
  },
  "language_info": {
   "codemirror_mode": {
    "name": "ipython",
    "version": 3
   },
   "file_extension": ".py",
   "mimetype": "text/x-python",
   "name": "python",
   "nbconvert_exporter": "python",
   "pygments_lexer": "ipython3",
   "version": "3.9.7"
  },
  "papermill": {
   "default_parameters": {},
   "duration": 165.910218,
   "end_time": "2021-11-28T04:48:40.187191",
   "environment_variables": {},
   "exception": null,
   "input_path": "nbs/others/05_clustermatch_profiling/10_cm_optimized/09-cdist_parts_v04.ipynb",
   "output_path": "nbs/others/05_clustermatch_profiling/10_cm_optimized/09-cdist_parts_v04.run.ipynb",
   "parameters": {},
   "start_time": "2021-11-28T04:45:54.276973",
   "version": "2.3.3"
  }
 },
 "nbformat": 4,
 "nbformat_minor": 5
}
