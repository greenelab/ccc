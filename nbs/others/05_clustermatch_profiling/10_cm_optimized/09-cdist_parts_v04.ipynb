{
 "cells": [
  {
   "cell_type": "markdown",
   "id": "36c65ddb-8246-4b0c-a231-68a373acc2cf",
   "metadata": {
    "papermill": {
     "duration": 0.13228,
     "end_time": "2021-11-24T18:44:59.738778",
     "exception": false,
     "start_time": "2021-11-24T18:44:59.606498",
     "status": "completed"
    },
    "tags": []
   },
   "source": [
    "# Description"
   ]
  },
  {
   "cell_type": "markdown",
   "id": "337633a8-d03e-4509-b89d-f8daee598958",
   "metadata": {
    "papermill": {
     "duration": 0.088344,
     "end_time": "2021-11-24T18:44:59.917021",
     "exception": false,
     "start_time": "2021-11-24T18:44:59.828677",
     "status": "completed"
    },
    "tags": []
   },
   "source": [
    "Exactly the same code as in `08`, but here I run the notebook in a different machine (desktop)."
   ]
  },
  {
   "cell_type": "markdown",
   "id": "63c2b099-cc44-4fe2-93d1-40336e0a8466",
   "metadata": {
    "papermill": {
     "duration": 0.089665,
     "end_time": "2021-11-24T18:45:00.095962",
     "exception": false,
     "start_time": "2021-11-24T18:45:00.006297",
     "status": "completed"
    },
    "tags": []
   },
   "source": [
    "# Remove pycache dir"
   ]
  },
  {
   "cell_type": "code",
   "execution_count": 1,
   "id": "960c4ff0-2a73-4eaa-97d6-3269102233eb",
   "metadata": {
    "execution": {
     "iopub.execute_input": "2021-11-24T18:45:00.282707Z",
     "iopub.status.busy": "2021-11-24T18:45:00.282258Z",
     "iopub.status.idle": "2021-11-24T18:45:00.877054Z",
     "shell.execute_reply": "2021-11-24T18:45:00.878682Z"
    },
    "papermill": {
     "duration": 0.694267,
     "end_time": "2021-11-24T18:45:00.879328",
     "exception": false,
     "start_time": "2021-11-24T18:45:00.185061",
     "status": "completed"
    },
    "tags": []
   },
   "outputs": [
    {
     "name": "stdout",
     "output_type": "stream",
     "text": [
      "/opt/code\r\n"
     ]
    }
   ],
   "source": [
    "!echo ${CODE_DIR}"
   ]
  },
  {
   "cell_type": "code",
   "execution_count": 2,
   "id": "e18db58a-316a-445b-a376-8b2ec18e08d8",
   "metadata": {
    "execution": {
     "iopub.execute_input": "2021-11-24T18:45:01.064208Z",
     "iopub.status.busy": "2021-11-24T18:45:01.063722Z",
     "iopub.status.idle": "2021-11-24T18:45:01.660063Z",
     "shell.execute_reply": "2021-11-24T18:45:01.659498Z"
    },
    "papermill": {
     "duration": 0.690502,
     "end_time": "2021-11-24T18:45:01.660183",
     "exception": false,
     "start_time": "2021-11-24T18:45:00.969681",
     "status": "completed"
    },
    "tags": []
   },
   "outputs": [
    {
     "name": "stdout",
     "output_type": "stream",
     "text": [
      "/opt/code/libs/clustermatch/__pycache__\r\n",
      "/opt/code/libs/clustermatch/sklearn/__pycache__\r\n",
      "/opt/code/libs/clustermatch/scipy/__pycache__\r\n",
      "/opt/code/libs/clustermatch/pytorch/__pycache__\r\n"
     ]
    }
   ],
   "source": [
    "!find ${CODE_DIR} -regex '^.*\\(__pycache__\\)$' -print"
   ]
  },
  {
   "cell_type": "code",
   "execution_count": 3,
   "id": "b54099b0-a990-4bbd-bcbd-e206eb0f0f0e",
   "metadata": {
    "execution": {
     "iopub.execute_input": "2021-11-24T18:45:01.858035Z",
     "iopub.status.busy": "2021-11-24T18:45:01.857552Z",
     "iopub.status.idle": "2021-11-24T18:45:02.473542Z",
     "shell.execute_reply": "2021-11-24T18:45:02.471576Z"
    },
    "papermill": {
     "duration": 0.711063,
     "end_time": "2021-11-24T18:45:02.473924",
     "exception": false,
     "start_time": "2021-11-24T18:45:01.762861",
     "status": "completed"
    },
    "tags": []
   },
   "outputs": [
    {
     "name": "stdout",
     "output_type": "stream",
     "text": [
      "find: ‘/opt/code/libs/clustermatch/__pycache__’: No such file or directory\r\n",
      "find: ‘/opt/code/libs/clustermatch/sklearn/__pycache__’: No such file or directory\r\n",
      "find: ‘/opt/code/libs/clustermatch/scipy/__pycache__’: No such file or directory\r\n",
      "find: ‘/opt/code/libs/clustermatch/pytorch/__pycache__’: No such file or directory\r\n"
     ]
    }
   ],
   "source": [
    "!find ${CODE_DIR} -regex '^.*\\(__pycache__\\)$' -exec rm -rf {} \\;"
   ]
  },
  {
   "cell_type": "code",
   "execution_count": 4,
   "id": "7a9a8098-8160-46bf-8d83-bc398cbe2382",
   "metadata": {
    "execution": {
     "iopub.execute_input": "2021-11-24T18:45:02.662552Z",
     "iopub.status.busy": "2021-11-24T18:45:02.662019Z",
     "iopub.status.idle": "2021-11-24T18:45:03.272988Z",
     "shell.execute_reply": "2021-11-24T18:45:03.271047Z"
    },
    "papermill": {
     "duration": 0.707042,
     "end_time": "2021-11-24T18:45:03.273370",
     "exception": false,
     "start_time": "2021-11-24T18:45:02.566328",
     "status": "completed"
    },
    "tags": []
   },
   "outputs": [],
   "source": [
    "!find ${CODE_DIR} -regex '^.*\\(__pycache__\\)$' -print"
   ]
  },
  {
   "cell_type": "markdown",
   "id": "c2251313-41ac-46fd-a845-0f209689ecf6",
   "metadata": {
    "papermill": {
     "duration": 0.09186,
     "end_time": "2021-11-24T18:45:03.493286",
     "exception": false,
     "start_time": "2021-11-24T18:45:03.401426",
     "status": "completed"
    },
    "tags": []
   },
   "source": [
    "# Modules"
   ]
  },
  {
   "cell_type": "code",
   "execution_count": 5,
   "id": "987ef5f1-be49-4a6c-a4f4-b24a0a2094cb",
   "metadata": {
    "execution": {
     "iopub.execute_input": "2021-11-24T18:45:03.682856Z",
     "iopub.status.busy": "2021-11-24T18:45:03.682259Z",
     "iopub.status.idle": "2021-11-24T18:45:04.005833Z",
     "shell.execute_reply": "2021-11-24T18:45:04.006169Z"
    },
    "papermill": {
     "duration": 0.421612,
     "end_time": "2021-11-24T18:45:04.006289",
     "exception": false,
     "start_time": "2021-11-24T18:45:03.584677",
     "status": "completed"
    },
    "tags": []
   },
   "outputs": [],
   "source": [
    "import numpy as np\n",
    "\n",
    "from clustermatch.coef import cm"
   ]
  },
  {
   "cell_type": "markdown",
   "id": "24399ccb-d33d-4bad-9baf-638c9c56feb2",
   "metadata": {
    "papermill": {
     "duration": 0.092082,
     "end_time": "2021-11-24T18:45:04.189946",
     "exception": false,
     "start_time": "2021-11-24T18:45:04.097864",
     "status": "completed"
    },
    "tags": []
   },
   "source": [
    "# Settings"
   ]
  },
  {
   "cell_type": "code",
   "execution_count": 6,
   "id": "c609cefa-f513-4cf8-9573-367744e31c5f",
   "metadata": {
    "execution": {
     "iopub.execute_input": "2021-11-24T18:45:04.377412Z",
     "iopub.status.busy": "2021-11-24T18:45:04.376927Z",
     "iopub.status.idle": "2021-11-24T18:45:04.378441Z",
     "shell.execute_reply": "2021-11-24T18:45:04.378792Z"
    },
    "papermill": {
     "duration": 0.096247,
     "end_time": "2021-11-24T18:45:04.378904",
     "exception": false,
     "start_time": "2021-11-24T18:45:04.282657",
     "status": "completed"
    },
    "tags": []
   },
   "outputs": [],
   "source": [
    "N_REPS = 10"
   ]
  },
  {
   "cell_type": "code",
   "execution_count": 7,
   "id": "c0341a42-b8de-419f-ab37-1e4fee9dde75",
   "metadata": {
    "execution": {
     "iopub.execute_input": "2021-11-24T18:45:04.566740Z",
     "iopub.status.busy": "2021-11-24T18:45:04.566292Z",
     "iopub.status.idle": "2021-11-24T18:45:04.567684Z",
     "shell.execute_reply": "2021-11-24T18:45:04.568068Z"
    },
    "papermill": {
     "duration": 0.096946,
     "end_time": "2021-11-24T18:45:04.568181",
     "exception": false,
     "start_time": "2021-11-24T18:45:04.471235",
     "status": "completed"
    },
    "tags": []
   },
   "outputs": [],
   "source": [
    "np.random.seed(0)"
   ]
  },
  {
   "cell_type": "markdown",
   "id": "6fd3067b-a4f7-475e-9575-20246934537d",
   "metadata": {
    "papermill": {
     "duration": 0.099793,
     "end_time": "2021-11-24T18:45:04.759280",
     "exception": false,
     "start_time": "2021-11-24T18:45:04.659487",
     "status": "completed"
    },
    "tags": []
   },
   "source": [
    "# Setup"
   ]
  },
  {
   "cell_type": "code",
   "execution_count": 8,
   "id": "02e0507c-43ff-4693-8a3b-8ccd8f23168c",
   "metadata": {
    "execution": {
     "iopub.execute_input": "2021-11-24T18:45:04.946435Z",
     "iopub.status.busy": "2021-11-24T18:45:04.945973Z",
     "iopub.status.idle": "2021-11-24T18:45:13.584700Z",
     "shell.execute_reply": "2021-11-24T18:45:13.584289Z"
    },
    "papermill": {
     "duration": 8.73363,
     "end_time": "2021-11-24T18:45:13.584795",
     "exception": false,
     "start_time": "2021-11-24T18:45:04.851165",
     "status": "completed"
    },
    "tags": []
   },
   "outputs": [
    {
     "data": {
      "text/plain": [
       "0.15625"
      ]
     },
     "execution_count": 8,
     "metadata": {},
     "output_type": "execute_result"
    }
   ],
   "source": [
    "# let numba compile all the code before profiling\n",
    "cm(np.random.rand(10), np.random.rand(10))"
   ]
  },
  {
   "cell_type": "markdown",
   "id": "8549179d-1517-4a40-9a51-b95dc02d0fcc",
   "metadata": {
    "papermill": {
     "duration": 0.098427,
     "end_time": "2021-11-24T18:45:13.775677",
     "exception": false,
     "start_time": "2021-11-24T18:45:13.677250",
     "status": "completed"
    },
    "tags": []
   },
   "source": [
    "# Run with `n_samples` small"
   ]
  },
  {
   "cell_type": "markdown",
   "id": "13ba811b",
   "metadata": {
    "papermill": {
     "duration": 0.092616,
     "end_time": "2021-11-24T18:45:13.961554",
     "exception": false,
     "start_time": "2021-11-24T18:45:13.868938",
     "status": "completed"
    },
    "tags": []
   },
   "source": [
    "## `n_samples=50`"
   ]
  },
  {
   "cell_type": "code",
   "execution_count": 9,
   "id": "68064f0b",
   "metadata": {
    "execution": {
     "iopub.execute_input": "2021-11-24T18:45:14.151380Z",
     "iopub.status.busy": "2021-11-24T18:45:14.150918Z",
     "iopub.status.idle": "2021-11-24T18:45:14.152826Z",
     "shell.execute_reply": "2021-11-24T18:45:14.152441Z"
    },
    "papermill": {
     "duration": 0.098178,
     "end_time": "2021-11-24T18:45:14.152922",
     "exception": false,
     "start_time": "2021-11-24T18:45:14.054744",
     "status": "completed"
    },
    "tags": []
   },
   "outputs": [],
   "source": [
    "N_SAMPLES = 50"
   ]
  },
  {
   "cell_type": "code",
   "execution_count": 10,
   "id": "6f2ff213-d6b7-458f-acbf-8c73dd497a2a",
   "metadata": {
    "execution": {
     "iopub.execute_input": "2021-11-24T18:45:14.342307Z",
     "iopub.status.busy": "2021-11-24T18:45:14.341857Z",
     "iopub.status.idle": "2021-11-24T18:45:14.343525Z",
     "shell.execute_reply": "2021-11-24T18:45:14.343925Z"
    },
    "papermill": {
     "duration": 0.098269,
     "end_time": "2021-11-24T18:45:14.344050",
     "exception": false,
     "start_time": "2021-11-24T18:45:14.245781",
     "status": "completed"
    },
    "tags": []
   },
   "outputs": [],
   "source": [
    "x = np.random.rand(N_SAMPLES)\n",
    "y = np.random.rand(N_SAMPLES)"
   ]
  },
  {
   "cell_type": "code",
   "execution_count": 11,
   "id": "d63012be-4fc7-4fba-bccd-ad155905d1d6",
   "metadata": {
    "execution": {
     "iopub.execute_input": "2021-11-24T18:45:14.532356Z",
     "iopub.status.busy": "2021-11-24T18:45:14.531811Z",
     "iopub.status.idle": "2021-11-24T18:45:14.533599Z",
     "shell.execute_reply": "2021-11-24T18:45:14.533938Z"
    },
    "papermill": {
     "duration": 0.097563,
     "end_time": "2021-11-24T18:45:14.534055",
     "exception": false,
     "start_time": "2021-11-24T18:45:14.436492",
     "status": "completed"
    },
    "tags": []
   },
   "outputs": [],
   "source": [
    "def func():\n",
    "    for i in range(N_REPS):\n",
    "        cm(x, y)"
   ]
  },
  {
   "cell_type": "code",
   "execution_count": 12,
   "id": "c0abc65a-2f3c-4476-9c2a-f8d7753b75e6",
   "metadata": {
    "execution": {
     "iopub.execute_input": "2021-11-24T18:45:14.725275Z",
     "iopub.status.busy": "2021-11-24T18:45:14.724648Z",
     "iopub.status.idle": "2021-11-24T18:45:27.537083Z",
     "shell.execute_reply": "2021-11-24T18:45:27.537508Z"
    },
    "papermill": {
     "duration": 12.910979,
     "end_time": "2021-11-24T18:45:27.537643",
     "exception": false,
     "start_time": "2021-11-24T18:45:14.626664",
     "status": "completed"
    },
    "tags": []
   },
   "outputs": [
    {
     "name": "stdout",
     "output_type": "stream",
     "text": [
      "15.7 ms ± 311 µs per loop (mean ± std. dev. of 7 runs, 100 loops each)\n"
     ]
    }
   ],
   "source": [
    "%%timeit func()\n",
    "func()"
   ]
  },
  {
   "cell_type": "code",
   "execution_count": 13,
   "id": "e80a7b02-310f-4bd9-90d5-2a41186db39e",
   "metadata": {
    "execution": {
     "iopub.execute_input": "2021-11-24T18:45:27.732903Z",
     "iopub.status.busy": "2021-11-24T18:45:27.732379Z",
     "iopub.status.idle": "2021-11-24T18:45:27.755360Z",
     "shell.execute_reply": "2021-11-24T18:45:27.755743Z"
    },
    "papermill": {
     "duration": 0.120828,
     "end_time": "2021-11-24T18:45:27.755869",
     "exception": false,
     "start_time": "2021-11-24T18:45:27.635041",
     "status": "completed"
    },
    "tags": []
   },
   "outputs": [
    {
     "name": "stdout",
     "output_type": "stream",
     "text": [
      " \n",
      "*** Profile printout saved to text file '09-n_samples_small_50.txt'. \n"
     ]
    }
   ],
   "source": [
    "%%prun -s cumulative -l 20 -T 09-n_samples_small_50.txt\n",
    "func()"
   ]
  },
  {
   "cell_type": "markdown",
   "id": "2548440c",
   "metadata": {
    "papermill": {
     "duration": 0.093585,
     "end_time": "2021-11-24T18:45:27.951571",
     "exception": false,
     "start_time": "2021-11-24T18:45:27.857986",
     "status": "completed"
    },
    "tags": []
   },
   "source": [
    "## `n_samples=100`"
   ]
  },
  {
   "cell_type": "code",
   "execution_count": 14,
   "id": "ddb768d7-9b74-424c-bdb9-9e52b9e5b181",
   "metadata": {
    "execution": {
     "iopub.execute_input": "2021-11-24T18:45:28.141534Z",
     "iopub.status.busy": "2021-11-24T18:45:28.141077Z",
     "iopub.status.idle": "2021-11-24T18:45:28.142540Z",
     "shell.execute_reply": "2021-11-24T18:45:28.142880Z"
    },
    "papermill": {
     "duration": 0.097864,
     "end_time": "2021-11-24T18:45:28.142998",
     "exception": false,
     "start_time": "2021-11-24T18:45:28.045134",
     "status": "completed"
    },
    "tags": []
   },
   "outputs": [],
   "source": [
    "N_SAMPLES = 100"
   ]
  },
  {
   "cell_type": "code",
   "execution_count": 15,
   "id": "161cf922-41f7-4ced-af1f-e3d25b36b200",
   "metadata": {
    "execution": {
     "iopub.execute_input": "2021-11-24T18:45:28.334693Z",
     "iopub.status.busy": "2021-11-24T18:45:28.334228Z",
     "iopub.status.idle": "2021-11-24T18:45:28.335892Z",
     "shell.execute_reply": "2021-11-24T18:45:28.336250Z"
    },
    "papermill": {
     "duration": 0.09908,
     "end_time": "2021-11-24T18:45:28.336366",
     "exception": false,
     "start_time": "2021-11-24T18:45:28.237286",
     "status": "completed"
    },
    "tags": []
   },
   "outputs": [],
   "source": [
    "x = np.random.rand(N_SAMPLES)\n",
    "y = np.random.rand(N_SAMPLES)"
   ]
  },
  {
   "cell_type": "code",
   "execution_count": 16,
   "id": "ede7a328-bad3-40a2-a179-1148a3229620",
   "metadata": {
    "execution": {
     "iopub.execute_input": "2021-11-24T18:45:28.528068Z",
     "iopub.status.busy": "2021-11-24T18:45:28.527554Z",
     "iopub.status.idle": "2021-11-24T18:45:28.529124Z",
     "shell.execute_reply": "2021-11-24T18:45:28.529461Z"
    },
    "papermill": {
     "duration": 0.098841,
     "end_time": "2021-11-24T18:45:28.529578",
     "exception": false,
     "start_time": "2021-11-24T18:45:28.430737",
     "status": "completed"
    },
    "tags": []
   },
   "outputs": [],
   "source": [
    "def func():\n",
    "    for i in range(N_REPS):\n",
    "        cm(x, y)"
   ]
  },
  {
   "cell_type": "code",
   "execution_count": 17,
   "id": "0a7f2b1f-4b87-4dde-a46b-2acec5ac93ba",
   "metadata": {
    "execution": {
     "iopub.execute_input": "2021-11-24T18:45:28.723700Z",
     "iopub.status.busy": "2021-11-24T18:45:28.723204Z",
     "iopub.status.idle": "2021-11-24T18:45:31.572710Z",
     "shell.execute_reply": "2021-11-24T18:45:31.573174Z"
    },
    "papermill": {
     "duration": 2.947839,
     "end_time": "2021-11-24T18:45:31.573319",
     "exception": false,
     "start_time": "2021-11-24T18:45:28.625480",
     "status": "completed"
    },
    "tags": []
   },
   "outputs": [
    {
     "name": "stdout",
     "output_type": "stream",
     "text": [
      "32.2 ms ± 3.21 ms per loop (mean ± std. dev. of 7 runs, 10 loops each)\n"
     ]
    }
   ],
   "source": [
    "%%timeit func()\n",
    "func()"
   ]
  },
  {
   "cell_type": "code",
   "execution_count": 18,
   "id": "74acbe27-9807-4f26-8b7e-b74d0f745b63",
   "metadata": {
    "execution": {
     "iopub.execute_input": "2021-11-24T18:45:31.771113Z",
     "iopub.status.busy": "2021-11-24T18:45:31.769534Z",
     "iopub.status.idle": "2021-11-24T18:45:31.830268Z",
     "shell.execute_reply": "2021-11-24T18:45:31.829785Z"
    },
    "papermill": {
     "duration": 0.158493,
     "end_time": "2021-11-24T18:45:31.830371",
     "exception": false,
     "start_time": "2021-11-24T18:45:31.671878",
     "status": "completed"
    },
    "tags": []
   },
   "outputs": [
    {
     "name": "stdout",
     "output_type": "stream",
     "text": [
      " \n",
      "*** Profile printout saved to text file '09-n_samples_small_100.txt'. \n"
     ]
    }
   ],
   "source": [
    "%%prun -s cumulative -l 20 -T 09-n_samples_small_100.txt\n",
    "func()"
   ]
  },
  {
   "cell_type": "markdown",
   "id": "611ff8e1",
   "metadata": {
    "papermill": {
     "duration": 0.094844,
     "end_time": "2021-11-24T18:45:32.021751",
     "exception": false,
     "start_time": "2021-11-24T18:45:31.926907",
     "status": "completed"
    },
    "tags": []
   },
   "source": [
    "## `n_samples=500`"
   ]
  },
  {
   "cell_type": "code",
   "execution_count": 19,
   "id": "4bcf4b42",
   "metadata": {
    "execution": {
     "iopub.execute_input": "2021-11-24T18:45:32.215367Z",
     "iopub.status.busy": "2021-11-24T18:45:32.214933Z",
     "iopub.status.idle": "2021-11-24T18:45:32.216685Z",
     "shell.execute_reply": "2021-11-24T18:45:32.217073Z"
    },
    "papermill": {
     "duration": 0.100209,
     "end_time": "2021-11-24T18:45:32.217187",
     "exception": false,
     "start_time": "2021-11-24T18:45:32.116978",
     "status": "completed"
    },
    "tags": []
   },
   "outputs": [],
   "source": [
    "N_SAMPLES = 500"
   ]
  },
  {
   "cell_type": "code",
   "execution_count": 20,
   "id": "0bf2f21e",
   "metadata": {
    "execution": {
     "iopub.execute_input": "2021-11-24T18:45:32.411213Z",
     "iopub.status.busy": "2021-11-24T18:45:32.410759Z",
     "iopub.status.idle": "2021-11-24T18:45:32.412326Z",
     "shell.execute_reply": "2021-11-24T18:45:32.412664Z"
    },
    "papermill": {
     "duration": 0.099944,
     "end_time": "2021-11-24T18:45:32.412779",
     "exception": false,
     "start_time": "2021-11-24T18:45:32.312835",
     "status": "completed"
    },
    "tags": []
   },
   "outputs": [],
   "source": [
    "x = np.random.rand(N_SAMPLES)\n",
    "y = np.random.rand(N_SAMPLES)"
   ]
  },
  {
   "cell_type": "code",
   "execution_count": 21,
   "id": "24c352bd",
   "metadata": {
    "execution": {
     "iopub.execute_input": "2021-11-24T18:45:32.607519Z",
     "iopub.status.busy": "2021-11-24T18:45:32.607069Z",
     "iopub.status.idle": "2021-11-24T18:45:32.608610Z",
     "shell.execute_reply": "2021-11-24T18:45:32.608948Z"
    },
    "papermill": {
     "duration": 0.10023,
     "end_time": "2021-11-24T18:45:32.609065",
     "exception": false,
     "start_time": "2021-11-24T18:45:32.508835",
     "status": "completed"
    },
    "tags": []
   },
   "outputs": [],
   "source": [
    "def func():\n",
    "    for i in range(N_REPS):\n",
    "        cm(x, y)"
   ]
  },
  {
   "cell_type": "code",
   "execution_count": 22,
   "id": "cbde4ce6",
   "metadata": {
    "execution": {
     "iopub.execute_input": "2021-11-24T18:45:32.810473Z",
     "iopub.status.busy": "2021-11-24T18:45:32.809942Z",
     "iopub.status.idle": "2021-11-24T18:45:36.728123Z",
     "shell.execute_reply": "2021-11-24T18:45:36.728580Z"
    },
    "papermill": {
     "duration": 4.02339,
     "end_time": "2021-11-24T18:45:36.728726",
     "exception": false,
     "start_time": "2021-11-24T18:45:32.705336",
     "status": "completed"
    },
    "tags": []
   },
   "outputs": [
    {
     "name": "stdout",
     "output_type": "stream",
     "text": [
      "44.7 ms ± 3.32 ms per loop (mean ± std. dev. of 7 runs, 10 loops each)\n"
     ]
    }
   ],
   "source": [
    "%%timeit func()\n",
    "func()"
   ]
  },
  {
   "cell_type": "code",
   "execution_count": 23,
   "id": "1250547e",
   "metadata": {
    "execution": {
     "iopub.execute_input": "2021-11-24T18:45:36.939301Z",
     "iopub.status.busy": "2021-11-24T18:45:36.938760Z",
     "iopub.status.idle": "2021-11-24T18:45:36.988362Z",
     "shell.execute_reply": "2021-11-24T18:45:36.987932Z"
    },
    "papermill": {
     "duration": 0.151094,
     "end_time": "2021-11-24T18:45:36.988460",
     "exception": false,
     "start_time": "2021-11-24T18:45:36.837366",
     "status": "completed"
    },
    "tags": []
   },
   "outputs": [
    {
     "name": "stdout",
     "output_type": "stream",
     "text": [
      " \n",
      "*** Profile printout saved to text file '09-n_samples_small_500.txt'. \n"
     ]
    }
   ],
   "source": [
    "%%prun -s cumulative -l 20 -T 09-n_samples_small_500.txt\n",
    "func()"
   ]
  },
  {
   "cell_type": "markdown",
   "id": "6853c300",
   "metadata": {
    "papermill": {
     "duration": 0.097245,
     "end_time": "2021-11-24T18:45:37.184181",
     "exception": false,
     "start_time": "2021-11-24T18:45:37.086936",
     "status": "completed"
    },
    "tags": []
   },
   "source": [
    "## `n_samples=1000`"
   ]
  },
  {
   "cell_type": "code",
   "execution_count": 24,
   "id": "f77e8490",
   "metadata": {
    "execution": {
     "iopub.execute_input": "2021-11-24T18:45:37.383151Z",
     "iopub.status.busy": "2021-11-24T18:45:37.382686Z",
     "iopub.status.idle": "2021-11-24T18:45:37.384283Z",
     "shell.execute_reply": "2021-11-24T18:45:37.384637Z"
    },
    "papermill": {
     "duration": 0.102003,
     "end_time": "2021-11-24T18:45:37.384753",
     "exception": false,
     "start_time": "2021-11-24T18:45:37.282750",
     "status": "completed"
    },
    "tags": []
   },
   "outputs": [],
   "source": [
    "N_SAMPLES = 1000"
   ]
  },
  {
   "cell_type": "code",
   "execution_count": 25,
   "id": "c99f544a",
   "metadata": {
    "execution": {
     "iopub.execute_input": "2021-11-24T18:45:37.582355Z",
     "iopub.status.busy": "2021-11-24T18:45:37.581906Z",
     "iopub.status.idle": "2021-11-24T18:45:37.583370Z",
     "shell.execute_reply": "2021-11-24T18:45:37.583706Z"
    },
    "papermill": {
     "duration": 0.101514,
     "end_time": "2021-11-24T18:45:37.583823",
     "exception": false,
     "start_time": "2021-11-24T18:45:37.482309",
     "status": "completed"
    },
    "tags": []
   },
   "outputs": [],
   "source": [
    "x = np.random.rand(N_SAMPLES)\n",
    "y = np.random.rand(N_SAMPLES)"
   ]
  },
  {
   "cell_type": "code",
   "execution_count": 26,
   "id": "d907f1d7",
   "metadata": {
    "execution": {
     "iopub.execute_input": "2021-11-24T18:45:37.783395Z",
     "iopub.status.busy": "2021-11-24T18:45:37.782936Z",
     "iopub.status.idle": "2021-11-24T18:45:37.784865Z",
     "shell.execute_reply": "2021-11-24T18:45:37.784432Z"
    },
    "papermill": {
     "duration": 0.103117,
     "end_time": "2021-11-24T18:45:37.784960",
     "exception": false,
     "start_time": "2021-11-24T18:45:37.681843",
     "status": "completed"
    },
    "tags": []
   },
   "outputs": [],
   "source": [
    "def func():\n",
    "    for i in range(N_REPS):\n",
    "        cm(x, y)"
   ]
  },
  {
   "cell_type": "code",
   "execution_count": 27,
   "id": "9721b048",
   "metadata": {
    "execution": {
     "iopub.execute_input": "2021-11-24T18:45:37.992216Z",
     "iopub.status.busy": "2021-11-24T18:45:37.991713Z",
     "iopub.status.idle": "2021-11-24T18:45:44.170106Z",
     "shell.execute_reply": "2021-11-24T18:45:44.169545Z"
    },
    "papermill": {
     "duration": 6.279956,
     "end_time": "2021-11-24T18:45:44.170223",
     "exception": false,
     "start_time": "2021-11-24T18:45:37.890267",
     "status": "completed"
    },
    "tags": []
   },
   "outputs": [
    {
     "name": "stdout",
     "output_type": "stream",
     "text": [
      "70.6 ms ± 1.32 ms per loop (mean ± std. dev. of 7 runs, 10 loops each)\n"
     ]
    }
   ],
   "source": [
    "%%timeit func()\n",
    "func()"
   ]
  },
  {
   "cell_type": "code",
   "execution_count": 28,
   "id": "fd0f4dd6",
   "metadata": {
    "execution": {
     "iopub.execute_input": "2021-11-24T18:45:44.377016Z",
     "iopub.status.busy": "2021-11-24T18:45:44.376402Z",
     "iopub.status.idle": "2021-11-24T18:45:44.444873Z",
     "shell.execute_reply": "2021-11-24T18:45:44.445241Z"
    },
    "papermill": {
     "duration": 0.171213,
     "end_time": "2021-11-24T18:45:44.445367",
     "exception": false,
     "start_time": "2021-11-24T18:45:44.274154",
     "status": "completed"
    },
    "tags": []
   },
   "outputs": [
    {
     "name": "stdout",
     "output_type": "stream",
     "text": [
      " \n",
      "*** Profile printout saved to text file '09-n_samples_small_1000.txt'. \n"
     ]
    }
   ],
   "source": [
    "%%prun -s cumulative -l 20 -T 09-n_samples_small_1000.txt\n",
    "func()"
   ]
  },
  {
   "cell_type": "markdown",
   "id": "f6b9adcf-1da4-4496-b05f-47952fd80d7f",
   "metadata": {
    "papermill": {
     "duration": 0.099347,
     "end_time": "2021-11-24T18:45:44.649241",
     "exception": false,
     "start_time": "2021-11-24T18:45:44.549894",
     "status": "completed"
    },
    "tags": []
   },
   "source": [
    "# Run with `n_samples` large"
   ]
  },
  {
   "cell_type": "markdown",
   "id": "8f2e407c",
   "metadata": {
    "papermill": {
     "duration": 0.104566,
     "end_time": "2021-11-24T18:45:44.853526",
     "exception": false,
     "start_time": "2021-11-24T18:45:44.748960",
     "status": "completed"
    },
    "tags": []
   },
   "source": [
    "## `n_samples=50000`"
   ]
  },
  {
   "cell_type": "code",
   "execution_count": 29,
   "id": "c522396e",
   "metadata": {
    "execution": {
     "iopub.execute_input": "2021-11-24T18:45:45.090158Z",
     "iopub.status.busy": "2021-11-24T18:45:45.089678Z",
     "iopub.status.idle": "2021-11-24T18:45:45.091178Z",
     "shell.execute_reply": "2021-11-24T18:45:45.091532Z"
    },
    "papermill": {
     "duration": 0.111886,
     "end_time": "2021-11-24T18:45:45.091645",
     "exception": false,
     "start_time": "2021-11-24T18:45:44.979759",
     "status": "completed"
    },
    "tags": []
   },
   "outputs": [],
   "source": [
    "N_SAMPLES = 50000"
   ]
  },
  {
   "cell_type": "code",
   "execution_count": 30,
   "id": "a5e536cc",
   "metadata": {
    "execution": {
     "iopub.execute_input": "2021-11-24T18:45:45.295627Z",
     "iopub.status.busy": "2021-11-24T18:45:45.295036Z",
     "iopub.status.idle": "2021-11-24T18:45:45.297785Z",
     "shell.execute_reply": "2021-11-24T18:45:45.298199Z"
    },
    "papermill": {
     "duration": 0.10636,
     "end_time": "2021-11-24T18:45:45.298311",
     "exception": false,
     "start_time": "2021-11-24T18:45:45.191951",
     "status": "completed"
    },
    "tags": []
   },
   "outputs": [],
   "source": [
    "x = np.random.rand(N_SAMPLES)\n",
    "y = np.random.rand(N_SAMPLES)"
   ]
  },
  {
   "cell_type": "code",
   "execution_count": 31,
   "id": "15cb532e",
   "metadata": {
    "execution": {
     "iopub.execute_input": "2021-11-24T18:45:45.500424Z",
     "iopub.status.busy": "2021-11-24T18:45:45.499944Z",
     "iopub.status.idle": "2021-11-24T18:45:45.502162Z",
     "shell.execute_reply": "2021-11-24T18:45:45.501714Z"
    },
    "papermill": {
     "duration": 0.10443,
     "end_time": "2021-11-24T18:45:45.502257",
     "exception": false,
     "start_time": "2021-11-24T18:45:45.397827",
     "status": "completed"
    },
    "tags": []
   },
   "outputs": [],
   "source": [
    "def func():\n",
    "    for i in range(N_REPS):\n",
    "        cm(x, y)"
   ]
  },
  {
   "cell_type": "code",
   "execution_count": 32,
   "id": "91470f64",
   "metadata": {
    "execution": {
     "iopub.execute_input": "2021-11-24T18:45:45.706625Z",
     "iopub.status.busy": "2021-11-24T18:45:45.706125Z",
     "iopub.status.idle": "2021-11-24T18:46:21.223601Z",
     "shell.execute_reply": "2021-11-24T18:46:21.223975Z"
    },
    "papermill": {
     "duration": 35.622052,
     "end_time": "2021-11-24T18:46:21.224088",
     "exception": false,
     "start_time": "2021-11-24T18:45:45.602036",
     "status": "completed"
    },
    "tags": []
   },
   "outputs": [
    {
     "name": "stdout",
     "output_type": "stream",
     "text": [
      "2.21 s ± 3.81 ms per loop (mean ± std. dev. of 7 runs, 1 loop each)\n"
     ]
    }
   ],
   "source": [
    "%%timeit func()\n",
    "func()"
   ]
  },
  {
   "cell_type": "code",
   "execution_count": 33,
   "id": "4de4e0b0",
   "metadata": {
    "execution": {
     "iopub.execute_input": "2021-11-24T18:46:21.428792Z",
     "iopub.status.busy": "2021-11-24T18:46:21.428263Z",
     "iopub.status.idle": "2021-11-24T18:46:23.655094Z",
     "shell.execute_reply": "2021-11-24T18:46:23.654730Z"
    },
    "papermill": {
     "duration": 2.330934,
     "end_time": "2021-11-24T18:46:23.655194",
     "exception": false,
     "start_time": "2021-11-24T18:46:21.324260",
     "status": "completed"
    },
    "tags": []
   },
   "outputs": [
    {
     "name": "stdout",
     "output_type": "stream",
     "text": [
      " \n",
      "*** Profile printout saved to text file '09-n_samples_large_50000.txt'. \n"
     ]
    }
   ],
   "source": [
    "%%prun -s cumulative -l 20 -T 09-n_samples_large_50000.txt\n",
    "func()"
   ]
  },
  {
   "cell_type": "markdown",
   "id": "b0c07894",
   "metadata": {
    "papermill": {
     "duration": 0.102138,
     "end_time": "2021-11-24T18:46:23.860414",
     "exception": false,
     "start_time": "2021-11-24T18:46:23.758276",
     "status": "completed"
    },
    "tags": []
   },
   "source": [
    "## `n_samples=100000`"
   ]
  },
  {
   "cell_type": "code",
   "execution_count": 34,
   "id": "7fb2ab2e-a6de-412b-9540-d00f8641290e",
   "metadata": {
    "execution": {
     "iopub.execute_input": "2021-11-24T18:46:24.066539Z",
     "iopub.status.busy": "2021-11-24T18:46:24.066056Z",
     "iopub.status.idle": "2021-11-24T18:46:24.067855Z",
     "shell.execute_reply": "2021-11-24T18:46:24.067479Z"
    },
    "papermill": {
     "duration": 0.106059,
     "end_time": "2021-11-24T18:46:24.068000",
     "exception": false,
     "start_time": "2021-11-24T18:46:23.961941",
     "status": "completed"
    },
    "tags": []
   },
   "outputs": [],
   "source": [
    "N_SAMPLES = 100000"
   ]
  },
  {
   "cell_type": "code",
   "execution_count": 35,
   "id": "81765e91",
   "metadata": {
    "execution": {
     "iopub.execute_input": "2021-11-24T18:46:24.274221Z",
     "iopub.status.busy": "2021-11-24T18:46:24.273783Z",
     "iopub.status.idle": "2021-11-24T18:46:24.277303Z",
     "shell.execute_reply": "2021-11-24T18:46:24.276852Z"
    },
    "papermill": {
     "duration": 0.106861,
     "end_time": "2021-11-24T18:46:24.277400",
     "exception": false,
     "start_time": "2021-11-24T18:46:24.170539",
     "status": "completed"
    },
    "tags": []
   },
   "outputs": [],
   "source": [
    "x = np.random.rand(N_SAMPLES)\n",
    "y = np.random.rand(N_SAMPLES)"
   ]
  },
  {
   "cell_type": "code",
   "execution_count": 36,
   "id": "d408b318",
   "metadata": {
    "execution": {
     "iopub.execute_input": "2021-11-24T18:46:24.484763Z",
     "iopub.status.busy": "2021-11-24T18:46:24.484315Z",
     "iopub.status.idle": "2021-11-24T18:46:24.485822Z",
     "shell.execute_reply": "2021-11-24T18:46:24.486161Z"
    },
    "papermill": {
     "duration": 0.106499,
     "end_time": "2021-11-24T18:46:24.486280",
     "exception": false,
     "start_time": "2021-11-24T18:46:24.379781",
     "status": "completed"
    },
    "tags": []
   },
   "outputs": [],
   "source": [
    "def func():\n",
    "    for i in range(N_REPS):\n",
    "        cm(x, y)"
   ]
  },
  {
   "cell_type": "code",
   "execution_count": 37,
   "id": "aca57100",
   "metadata": {
    "execution": {
     "iopub.execute_input": "2021-11-24T18:46:24.693581Z",
     "iopub.status.busy": "2021-11-24T18:46:24.693048Z",
     "iopub.status.idle": "2021-11-24T18:47:38.362181Z",
     "shell.execute_reply": "2021-11-24T18:47:38.362530Z"
    },
    "papermill": {
     "duration": 73.77492,
     "end_time": "2021-11-24T18:47:38.362642",
     "exception": false,
     "start_time": "2021-11-24T18:46:24.587722",
     "status": "completed"
    },
    "tags": []
   },
   "outputs": [
    {
     "name": "stdout",
     "output_type": "stream",
     "text": [
      "4.6 s ± 12 ms per loop (mean ± std. dev. of 7 runs, 1 loop each)\n"
     ]
    }
   ],
   "source": [
    "%%timeit func()\n",
    "func()"
   ]
  },
  {
   "cell_type": "code",
   "execution_count": 38,
   "id": "b9c25f30",
   "metadata": {
    "execution": {
     "iopub.execute_input": "2021-11-24T18:47:38.571823Z",
     "iopub.status.busy": "2021-11-24T18:47:38.571193Z",
     "iopub.status.idle": "2021-11-24T18:47:43.175414Z",
     "shell.execute_reply": "2021-11-24T18:47:43.174971Z"
    },
    "papermill": {
     "duration": 4.71034,
     "end_time": "2021-11-24T18:47:43.175509",
     "exception": false,
     "start_time": "2021-11-24T18:47:38.465169",
     "status": "completed"
    },
    "tags": []
   },
   "outputs": [
    {
     "name": "stdout",
     "output_type": "stream",
     "text": [
      " \n",
      "*** Profile printout saved to text file '09-n_samples_large_100000.txt'. \n"
     ]
    }
   ],
   "source": [
    "%%prun -s cumulative -l 20 -T 09-n_samples_large_100000.txt\n",
    "func()"
   ]
  },
  {
   "cell_type": "code",
   "execution_count": null,
   "id": "2aa76596-f126-4ba8-8bba-4d31225e0e5d",
   "metadata": {
    "papermill": {
     "duration": 0.111443,
     "end_time": "2021-11-24T18:47:43.391122",
     "exception": false,
     "start_time": "2021-11-24T18:47:43.279679",
     "status": "completed"
    },
    "tags": []
   },
   "outputs": [],
   "source": []
  }
 ],
 "metadata": {
  "jupytext": {
   "cell_metadata_filter": "all,-execution,-papermill,-trusted"
  },
  "kernelspec": {
   "display_name": "Python 3 (ipykernel)",
   "language": "python",
   "name": "python3"
  },
  "language_info": {
   "codemirror_mode": {
    "name": "ipython",
    "version": 3
   },
   "file_extension": ".py",
   "mimetype": "text/x-python",
   "name": "python",
   "nbconvert_exporter": "python",
   "pygments_lexer": "ipython3",
   "version": "3.9.7"
  },
  "papermill": {
   "default_parameters": {},
   "duration": 165.651926,
   "end_time": "2021-11-24T18:47:43.903586",
   "environment_variables": {},
   "exception": null,
   "input_path": "nbs/others/05_clustermatch_profiling/10_cm_optimized/09-cdist_parts_v04.ipynb",
   "output_path": "nbs/others/05_clustermatch_profiling/10_cm_optimized/09-cdist_parts_v04.run.ipynb",
   "parameters": {},
   "start_time": "2021-11-24T18:44:58.251660",
   "version": "2.3.3"
  }
 },
 "nbformat": 4,
 "nbformat_minor": 5
}
