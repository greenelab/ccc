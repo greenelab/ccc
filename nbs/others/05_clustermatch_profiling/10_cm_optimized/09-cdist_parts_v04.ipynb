{
 "cells": [
  {
   "cell_type": "markdown",
   "id": "36c65ddb-8246-4b0c-a231-68a373acc2cf",
   "metadata": {
    "papermill": {
     "duration": 0.081731,
     "end_time": "2021-11-24T03:43:42.298013",
     "exception": false,
     "start_time": "2021-11-24T03:43:42.216282",
     "status": "completed"
    },
    "tags": []
   },
   "source": [
    "# Description"
   ]
  },
  {
   "cell_type": "markdown",
   "id": "337633a8-d03e-4509-b89d-f8daee598958",
   "metadata": {
    "papermill": {
     "duration": 0.045651,
     "end_time": "2021-11-24T03:43:42.389797",
     "exception": false,
     "start_time": "2021-11-24T03:43:42.344146",
     "status": "completed"
    },
    "tags": []
   },
   "source": [
    "Exactly the same code as in `08`, but here I run the notebook in a different machine (desktop)."
   ]
  },
  {
   "cell_type": "markdown",
   "id": "63c2b099-cc44-4fe2-93d1-40336e0a8466",
   "metadata": {
    "papermill": {
     "duration": 0.046488,
     "end_time": "2021-11-24T03:43:42.483117",
     "exception": false,
     "start_time": "2021-11-24T03:43:42.436629",
     "status": "completed"
    },
    "tags": []
   },
   "source": [
    "# Remove pycache dir"
   ]
  },
  {
   "cell_type": "code",
   "execution_count": 1,
   "id": "960c4ff0-2a73-4eaa-97d6-3269102233eb",
   "metadata": {
    "execution": {
     "iopub.execute_input": "2021-11-24T03:43:42.589008Z",
     "iopub.status.busy": "2021-11-24T03:43:42.588350Z",
     "iopub.status.idle": "2021-11-24T03:43:43.180623Z",
     "shell.execute_reply": "2021-11-24T03:43:43.178821Z"
    },
    "papermill": {
     "duration": 0.648584,
     "end_time": "2021-11-24T03:43:43.181042",
     "exception": false,
     "start_time": "2021-11-24T03:43:42.532458",
     "status": "completed"
    },
    "tags": []
   },
   "outputs": [
    {
     "name": "stdout",
     "output_type": "stream",
     "text": [
      "/opt/code\r\n"
     ]
    }
   ],
   "source": [
    "!echo ${CODE_DIR}"
   ]
  },
  {
   "cell_type": "code",
   "execution_count": 2,
   "id": "e18db58a-316a-445b-a376-8b2ec18e08d8",
   "metadata": {
    "execution": {
     "iopub.execute_input": "2021-11-24T03:43:43.312948Z",
     "iopub.status.busy": "2021-11-24T03:43:43.312201Z",
     "iopub.status.idle": "2021-11-24T03:43:43.915037Z",
     "shell.execute_reply": "2021-11-24T03:43:43.916894Z"
    },
    "papermill": {
     "duration": 0.65822,
     "end_time": "2021-11-24T03:43:43.917322",
     "exception": false,
     "start_time": "2021-11-24T03:43:43.259102",
     "status": "completed"
    },
    "tags": []
   },
   "outputs": [
    {
     "name": "stdout",
     "output_type": "stream",
     "text": [
      "/opt/code/libs/clustermatch/__pycache__\r\n",
      "/opt/code/libs/clustermatch/sklearn/__pycache__\r\n",
      "/opt/code/libs/clustermatch/scipy/__pycache__\r\n",
      "/opt/code/libs/clustermatch/pytorch/__pycache__\r\n"
     ]
    }
   ],
   "source": [
    "!find ${CODE_DIR} -regex '^.*\\(__pycache__\\)$' -print"
   ]
  },
  {
   "cell_type": "code",
   "execution_count": 3,
   "id": "b54099b0-a990-4bbd-bcbd-e206eb0f0f0e",
   "metadata": {
    "execution": {
     "iopub.execute_input": "2021-11-24T03:43:44.050642Z",
     "iopub.status.busy": "2021-11-24T03:43:44.050177Z",
     "iopub.status.idle": "2021-11-24T03:43:44.660421Z",
     "shell.execute_reply": "2021-11-24T03:43:44.658513Z"
    },
    "papermill": {
     "duration": 0.661186,
     "end_time": "2021-11-24T03:43:44.660791",
     "exception": false,
     "start_time": "2021-11-24T03:43:43.999605",
     "status": "completed"
    },
    "tags": []
   },
   "outputs": [
    {
     "name": "stdout",
     "output_type": "stream",
     "text": [
      "find: ‘/opt/code/libs/clustermatch/__pycache__’: No such file or directory\r\n",
      "find: ‘/opt/code/libs/clustermatch/sklearn/__pycache__’: No such file or directory\r\n",
      "find: ‘/opt/code/libs/clustermatch/scipy/__pycache__’: No such file or directory\r\n",
      "find: ‘/opt/code/libs/clustermatch/pytorch/__pycache__’: No such file or directory\r\n"
     ]
    }
   ],
   "source": [
    "!find ${CODE_DIR} -regex '^.*\\(__pycache__\\)$' -exec rm -rf {} \\;"
   ]
  },
  {
   "cell_type": "code",
   "execution_count": 4,
   "id": "7a9a8098-8160-46bf-8d83-bc398cbe2382",
   "metadata": {
    "execution": {
     "iopub.execute_input": "2021-11-24T03:43:44.798413Z",
     "iopub.status.busy": "2021-11-24T03:43:44.797952Z",
     "iopub.status.idle": "2021-11-24T03:43:45.411657Z",
     "shell.execute_reply": "2021-11-24T03:43:45.410017Z"
    },
    "papermill": {
     "duration": 0.667746,
     "end_time": "2021-11-24T03:43:45.412049",
     "exception": false,
     "start_time": "2021-11-24T03:43:44.744303",
     "status": "completed"
    },
    "tags": []
   },
   "outputs": [],
   "source": [
    "!find ${CODE_DIR} -regex '^.*\\(__pycache__\\)$' -print"
   ]
  },
  {
   "cell_type": "markdown",
   "id": "c2251313-41ac-46fd-a845-0f209689ecf6",
   "metadata": {
    "papermill": {
     "duration": 0.047921,
     "end_time": "2021-11-24T03:43:45.509705",
     "exception": false,
     "start_time": "2021-11-24T03:43:45.461784",
     "status": "completed"
    },
    "tags": []
   },
   "source": [
    "# Modules"
   ]
  },
  {
   "cell_type": "code",
   "execution_count": 5,
   "id": "987ef5f1-be49-4a6c-a4f4-b24a0a2094cb",
   "metadata": {
    "execution": {
     "iopub.execute_input": "2021-11-24T03:43:45.618291Z",
     "iopub.status.busy": "2021-11-24T03:43:45.617833Z",
     "iopub.status.idle": "2021-11-24T03:43:45.934774Z",
     "shell.execute_reply": "2021-11-24T03:43:45.935158Z"
    },
    "papermill": {
     "duration": 0.37014,
     "end_time": "2021-11-24T03:43:45.935279",
     "exception": false,
     "start_time": "2021-11-24T03:43:45.565139",
     "status": "completed"
    },
    "tags": []
   },
   "outputs": [],
   "source": [
    "import numpy as np\n",
    "\n",
    "from clustermatch.coef import cm"
   ]
  },
  {
   "cell_type": "markdown",
   "id": "24399ccb-d33d-4bad-9baf-638c9c56feb2",
   "metadata": {
    "papermill": {
     "duration": 0.047477,
     "end_time": "2021-11-24T03:43:46.031945",
     "exception": false,
     "start_time": "2021-11-24T03:43:45.984468",
     "status": "completed"
    },
    "tags": []
   },
   "source": [
    "# Settings"
   ]
  },
  {
   "cell_type": "code",
   "execution_count": 6,
   "id": "c609cefa-f513-4cf8-9573-367744e31c5f",
   "metadata": {
    "execution": {
     "iopub.execute_input": "2021-11-24T03:43:46.131516Z",
     "iopub.status.busy": "2021-11-24T03:43:46.131063Z",
     "iopub.status.idle": "2021-11-24T03:43:46.132625Z",
     "shell.execute_reply": "2021-11-24T03:43:46.132964Z"
    },
    "papermill": {
     "duration": 0.053064,
     "end_time": "2021-11-24T03:43:46.133081",
     "exception": false,
     "start_time": "2021-11-24T03:43:46.080017",
     "status": "completed"
    },
    "tags": []
   },
   "outputs": [],
   "source": [
    "N_REPS = 10"
   ]
  },
  {
   "cell_type": "code",
   "execution_count": 7,
   "id": "c0341a42-b8de-419f-ab37-1e4fee9dde75",
   "metadata": {
    "execution": {
     "iopub.execute_input": "2021-11-24T03:43:46.233734Z",
     "iopub.status.busy": "2021-11-24T03:43:46.233282Z",
     "iopub.status.idle": "2021-11-24T03:43:46.235188Z",
     "shell.execute_reply": "2021-11-24T03:43:46.234819Z"
    },
    "papermill": {
     "duration": 0.053738,
     "end_time": "2021-11-24T03:43:46.235285",
     "exception": false,
     "start_time": "2021-11-24T03:43:46.181547",
     "status": "completed"
    },
    "tags": []
   },
   "outputs": [],
   "source": [
    "np.random.seed(0)"
   ]
  },
  {
   "cell_type": "markdown",
   "id": "6fd3067b-a4f7-475e-9575-20246934537d",
   "metadata": {
    "papermill": {
     "duration": 0.047292,
     "end_time": "2021-11-24T03:43:46.330410",
     "exception": false,
     "start_time": "2021-11-24T03:43:46.283118",
     "status": "completed"
    },
    "tags": []
   },
   "source": [
    "# Setup"
   ]
  },
  {
   "cell_type": "code",
   "execution_count": 8,
   "id": "02e0507c-43ff-4693-8a3b-8ccd8f23168c",
   "metadata": {
    "execution": {
     "iopub.execute_input": "2021-11-24T03:43:46.428972Z",
     "iopub.status.busy": "2021-11-24T03:43:46.428497Z",
     "iopub.status.idle": "2021-11-24T03:43:55.107001Z",
     "shell.execute_reply": "2021-11-24T03:43:55.106547Z"
    },
    "papermill": {
     "duration": 8.729223,
     "end_time": "2021-11-24T03:43:55.107095",
     "exception": false,
     "start_time": "2021-11-24T03:43:46.377872",
     "status": "completed"
    },
    "tags": []
   },
   "outputs": [
    {
     "data": {
      "text/plain": [
       "0.15625"
      ]
     },
     "execution_count": 8,
     "metadata": {},
     "output_type": "execute_result"
    }
   ],
   "source": [
    "# let numba compile all the code before profiling\n",
    "cm(np.random.rand(10), np.random.rand(10))"
   ]
  },
  {
   "cell_type": "markdown",
   "id": "8549179d-1517-4a40-9a51-b95dc02d0fcc",
   "metadata": {
    "papermill": {
     "duration": 0.04838,
     "end_time": "2021-11-24T03:43:55.204359",
     "exception": false,
     "start_time": "2021-11-24T03:43:55.155979",
     "status": "completed"
    },
    "tags": []
   },
   "source": [
    "# Run with `n_samples` small"
   ]
  },
  {
   "cell_type": "code",
   "execution_count": 9,
   "id": "ddb768d7-9b74-424c-bdb9-9e52b9e5b181",
   "metadata": {
    "execution": {
     "iopub.execute_input": "2021-11-24T03:43:55.304589Z",
     "iopub.status.busy": "2021-11-24T03:43:55.304141Z",
     "iopub.status.idle": "2021-11-24T03:43:55.306314Z",
     "shell.execute_reply": "2021-11-24T03:43:55.305881Z"
    },
    "papermill": {
     "duration": 0.054093,
     "end_time": "2021-11-24T03:43:55.306404",
     "exception": false,
     "start_time": "2021-11-24T03:43:55.252311",
     "status": "completed"
    },
    "tags": []
   },
   "outputs": [],
   "source": [
    "N_SAMPLES = 100"
   ]
  },
  {
   "cell_type": "code",
   "execution_count": 10,
   "id": "6f2ff213-d6b7-458f-acbf-8c73dd497a2a",
   "metadata": {
    "execution": {
     "iopub.execute_input": "2021-11-24T03:43:55.407488Z",
     "iopub.status.busy": "2021-11-24T03:43:55.407037Z",
     "iopub.status.idle": "2021-11-24T03:43:55.409033Z",
     "shell.execute_reply": "2021-11-24T03:43:55.408666Z"
    },
    "papermill": {
     "duration": 0.053162,
     "end_time": "2021-11-24T03:43:55.409129",
     "exception": false,
     "start_time": "2021-11-24T03:43:55.355967",
     "status": "completed"
    },
    "tags": []
   },
   "outputs": [],
   "source": [
    "x = np.random.rand(N_SAMPLES)\n",
    "y = np.random.rand(N_SAMPLES)"
   ]
  },
  {
   "cell_type": "code",
   "execution_count": 11,
   "id": "d63012be-4fc7-4fba-bccd-ad155905d1d6",
   "metadata": {
    "execution": {
     "iopub.execute_input": "2021-11-24T03:43:55.511521Z",
     "iopub.status.busy": "2021-11-24T03:43:55.511075Z",
     "iopub.status.idle": "2021-11-24T03:43:55.514134Z",
     "shell.execute_reply": "2021-11-24T03:43:55.513754Z"
    },
    "papermill": {
     "duration": 0.055049,
     "end_time": "2021-11-24T03:43:55.514226",
     "exception": false,
     "start_time": "2021-11-24T03:43:55.459177",
     "status": "completed"
    },
    "tags": []
   },
   "outputs": [],
   "source": [
    "def func():\n",
    "    for i in range(N_REPS):\n",
    "        cm(x, y)"
   ]
  },
  {
   "cell_type": "code",
   "execution_count": 12,
   "id": "c0abc65a-2f3c-4476-9c2a-f8d7753b75e6",
   "metadata": {
    "execution": {
     "iopub.execute_input": "2021-11-24T03:43:55.622674Z",
     "iopub.status.busy": "2021-11-24T03:43:55.622139Z",
     "iopub.status.idle": "2021-11-24T03:43:58.434305Z",
     "shell.execute_reply": "2021-11-24T03:43:58.434764Z"
    },
    "papermill": {
     "duration": 2.871625,
     "end_time": "2021-11-24T03:43:58.434906",
     "exception": false,
     "start_time": "2021-11-24T03:43:55.563281",
     "status": "completed"
    },
    "tags": []
   },
   "outputs": [
    {
     "name": "stdout",
     "output_type": "stream",
     "text": [
      "31.8 ms ± 2.6 ms per loop (mean ± std. dev. of 7 runs, 10 loops each)\n"
     ]
    }
   ],
   "source": [
    "%%timeit func()\n",
    "func()"
   ]
  },
  {
   "cell_type": "code",
   "execution_count": 13,
   "id": "e80a7b02-310f-4bd9-90d5-2a41186db39e",
   "metadata": {
    "execution": {
     "iopub.execute_input": "2021-11-24T03:43:58.543038Z",
     "iopub.status.busy": "2021-11-24T03:43:58.542464Z",
     "iopub.status.idle": "2021-11-24T03:43:58.586830Z",
     "shell.execute_reply": "2021-11-24T03:43:58.587304Z"
    },
    "papermill": {
     "duration": 0.098545,
     "end_time": "2021-11-24T03:43:58.587465",
     "exception": false,
     "start_time": "2021-11-24T03:43:58.488920",
     "status": "completed"
    },
    "tags": []
   },
   "outputs": [
    {
     "name": "stdout",
     "output_type": "stream",
     "text": [
      " \n",
      "*** Profile printout saved to text file '09-n_samples_small.txt'. \n"
     ]
    }
   ],
   "source": [
    "%%prun -s cumulative -l 20 -T 09-n_samples_small.txt\n",
    "func()"
   ]
  },
  {
   "cell_type": "markdown",
   "id": "f6b9adcf-1da4-4496-b05f-47952fd80d7f",
   "metadata": {
    "papermill": {
     "duration": 0.049529,
     "end_time": "2021-11-24T03:43:58.694219",
     "exception": false,
     "start_time": "2021-11-24T03:43:58.644690",
     "status": "completed"
    },
    "tags": []
   },
   "source": [
    "# Run with `n_samples` large"
   ]
  },
  {
   "cell_type": "code",
   "execution_count": 14,
   "id": "7fb2ab2e-a6de-412b-9540-d00f8641290e",
   "metadata": {
    "execution": {
     "iopub.execute_input": "2021-11-24T03:43:58.797180Z",
     "iopub.status.busy": "2021-11-24T03:43:58.796720Z",
     "iopub.status.idle": "2021-11-24T03:43:58.798220Z",
     "shell.execute_reply": "2021-11-24T03:43:58.798560Z"
    },
    "papermill": {
     "duration": 0.054866,
     "end_time": "2021-11-24T03:43:58.798673",
     "exception": false,
     "start_time": "2021-11-24T03:43:58.743807",
     "status": "completed"
    },
    "tags": []
   },
   "outputs": [],
   "source": [
    "N_SAMPLES = 100000"
   ]
  },
  {
   "cell_type": "code",
   "execution_count": 15,
   "id": "161cf922-41f7-4ced-af1f-e3d25b36b200",
   "metadata": {
    "execution": {
     "iopub.execute_input": "2021-11-24T03:43:58.902404Z",
     "iopub.status.busy": "2021-11-24T03:43:58.901960Z",
     "iopub.status.idle": "2021-11-24T03:43:58.905994Z",
     "shell.execute_reply": "2021-11-24T03:43:58.905541Z"
    },
    "papermill": {
     "duration": 0.056792,
     "end_time": "2021-11-24T03:43:58.906089",
     "exception": false,
     "start_time": "2021-11-24T03:43:58.849297",
     "status": "completed"
    },
    "tags": []
   },
   "outputs": [],
   "source": [
    "x = np.random.rand(N_SAMPLES)\n",
    "y = np.random.rand(N_SAMPLES)"
   ]
  },
  {
   "cell_type": "code",
   "execution_count": 16,
   "id": "ede7a328-bad3-40a2-a179-1148a3229620",
   "metadata": {
    "execution": {
     "iopub.execute_input": "2021-11-24T03:43:59.009754Z",
     "iopub.status.busy": "2021-11-24T03:43:59.009303Z",
     "iopub.status.idle": "2021-11-24T03:43:59.010761Z",
     "shell.execute_reply": "2021-11-24T03:43:59.011123Z"
    },
    "papermill": {
     "duration": 0.05486,
     "end_time": "2021-11-24T03:43:59.011234",
     "exception": false,
     "start_time": "2021-11-24T03:43:58.956374",
     "status": "completed"
    },
    "tags": []
   },
   "outputs": [],
   "source": [
    "def func():\n",
    "    for i in range(N_REPS):\n",
    "        cm(x, y)"
   ]
  },
  {
   "cell_type": "code",
   "execution_count": 17,
   "id": "0a7f2b1f-4b87-4dde-a46b-2acec5ac93ba",
   "metadata": {
    "execution": {
     "iopub.execute_input": "2021-11-24T03:43:59.116011Z",
     "iopub.status.busy": "2021-11-24T03:43:59.115429Z",
     "iopub.status.idle": "2021-11-24T03:45:12.961741Z",
     "shell.execute_reply": "2021-11-24T03:45:12.962088Z"
    },
    "papermill": {
     "duration": 73.899386,
     "end_time": "2021-11-24T03:45:12.962198",
     "exception": false,
     "start_time": "2021-11-24T03:43:59.062812",
     "status": "completed"
    },
    "tags": []
   },
   "outputs": [
    {
     "name": "stdout",
     "output_type": "stream",
     "text": [
      "4.61 s ± 3.77 ms per loop (mean ± std. dev. of 7 runs, 1 loop each)\n"
     ]
    }
   ],
   "source": [
    "%%timeit func()\n",
    "func()"
   ]
  },
  {
   "cell_type": "code",
   "execution_count": 18,
   "id": "74acbe27-9807-4f26-8b7e-b74d0f745b63",
   "metadata": {
    "execution": {
     "iopub.execute_input": "2021-11-24T03:45:13.068136Z",
     "iopub.status.busy": "2021-11-24T03:45:13.067492Z",
     "iopub.status.idle": "2021-11-24T03:45:17.682212Z",
     "shell.execute_reply": "2021-11-24T03:45:17.681729Z"
    },
    "papermill": {
     "duration": 4.66925,
     "end_time": "2021-11-24T03:45:17.682305",
     "exception": false,
     "start_time": "2021-11-24T03:45:13.013055",
     "status": "completed"
    },
    "tags": []
   },
   "outputs": [
    {
     "name": "stdout",
     "output_type": "stream",
     "text": [
      " \n",
      "*** Profile printout saved to text file '09-n_samples_large.txt'. \n"
     ]
    }
   ],
   "source": [
    "%%prun -s cumulative -l 20 -T 09-n_samples_large.txt\n",
    "func()"
   ]
  },
  {
   "cell_type": "code",
   "execution_count": null,
   "id": "2aa76596-f126-4ba8-8bba-4d31225e0e5d",
   "metadata": {
    "papermill": {
     "duration": 0.051276,
     "end_time": "2021-11-24T03:45:17.786201",
     "exception": false,
     "start_time": "2021-11-24T03:45:17.734925",
     "status": "completed"
    },
    "tags": []
   },
   "outputs": [],
   "source": []
  }
 ],
 "metadata": {
  "jupytext": {
   "cell_metadata_filter": "all,-execution,-papermill,-trusted"
  },
  "kernelspec": {
   "display_name": "Python 3 (ipykernel)",
   "language": "python",
   "name": "python3"
  },
  "language_info": {
   "codemirror_mode": {
    "name": "ipython",
    "version": 3
   },
   "file_extension": ".py",
   "mimetype": "text/x-python",
   "name": "python",
   "nbconvert_exporter": "python",
   "pygments_lexer": "ipython3",
   "version": "3.9.7"
  },
  "papermill": {
   "default_parameters": {},
   "duration": 97.192076,
   "end_time": "2021-11-24T03:45:18.246810",
   "environment_variables": {},
   "exception": null,
   "input_path": "nbs/others/05_clustermatch_profiling/10_cm_optimized/09-cdist_parts_v04.ipynb",
   "output_path": "nbs/others/05_clustermatch_profiling/10_cm_optimized/09-cdist_parts_v04.run.ipynb",
   "parameters": {},
   "start_time": "2021-11-24T03:43:41.054734",
   "version": "2.3.3"
  }
 },
 "nbformat": 4,
 "nbformat_minor": 5
}
