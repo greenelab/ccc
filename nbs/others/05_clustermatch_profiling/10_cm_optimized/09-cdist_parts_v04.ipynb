{
 "cells": [
  {
   "cell_type": "markdown",
   "id": "36c65ddb-8246-4b0c-a231-68a373acc2cf",
   "metadata": {
    "papermill": {
     "duration": 0.094295,
     "end_time": "2021-11-22T17:19:44.037942",
     "exception": false,
     "start_time": "2021-11-22T17:19:43.943647",
     "status": "completed"
    },
    "tags": []
   },
   "source": [
    "# Description"
   ]
  },
  {
   "cell_type": "markdown",
   "id": "337633a8-d03e-4509-b89d-f8daee598958",
   "metadata": {
    "papermill": {
     "duration": 0.050444,
     "end_time": "2021-11-22T17:19:44.146680",
     "exception": false,
     "start_time": "2021-11-22T17:19:44.096236",
     "status": "completed"
    },
    "tags": []
   },
   "source": [
    "Exactly the same code as in `08`, but here I run the notebook in a different machine (desktop)."
   ]
  },
  {
   "cell_type": "markdown",
   "id": "63c2b099-cc44-4fe2-93d1-40336e0a8466",
   "metadata": {
    "papermill": {
     "duration": 0.048375,
     "end_time": "2021-11-22T17:19:44.245290",
     "exception": false,
     "start_time": "2021-11-22T17:19:44.196915",
     "status": "completed"
    },
    "tags": []
   },
   "source": [
    "# Remove pycache dir"
   ]
  },
  {
   "cell_type": "code",
   "execution_count": 1,
   "id": "960c4ff0-2a73-4eaa-97d6-3269102233eb",
   "metadata": {
    "execution": {
     "iopub.execute_input": "2021-11-22T17:19:44.349375Z",
     "iopub.status.busy": "2021-11-22T17:19:44.348907Z",
     "iopub.status.idle": "2021-11-22T17:19:44.936064Z",
     "shell.execute_reply": "2021-11-22T17:19:44.933924Z"
    },
    "papermill": {
     "duration": 0.642584,
     "end_time": "2021-11-22T17:19:44.936468",
     "exception": false,
     "start_time": "2021-11-22T17:19:44.293884",
     "status": "completed"
    },
    "tags": []
   },
   "outputs": [
    {
     "name": "stdout",
     "output_type": "stream",
     "text": [
      "/opt/code\r\n"
     ]
    }
   ],
   "source": [
    "!echo ${CODE_DIR}"
   ]
  },
  {
   "cell_type": "code",
   "execution_count": 2,
   "id": "e18db58a-316a-445b-a376-8b2ec18e08d8",
   "metadata": {
    "execution": {
     "iopub.execute_input": "2021-11-22T17:19:45.044623Z",
     "iopub.status.busy": "2021-11-22T17:19:45.044140Z",
     "iopub.status.idle": "2021-11-22T17:19:45.716131Z",
     "shell.execute_reply": "2021-11-22T17:19:45.717602Z"
    },
    "papermill": {
     "duration": 0.729654,
     "end_time": "2021-11-22T17:19:45.718061",
     "exception": false,
     "start_time": "2021-11-22T17:19:44.988407",
     "status": "completed"
    },
    "tags": []
   },
   "outputs": [
    {
     "name": "stdout",
     "output_type": "stream",
     "text": [
      "/opt/code/libs/clustermatch/__pycache__\r\n"
     ]
    }
   ],
   "source": [
    "!find ${CODE_DIR} -regex '^.*\\(__pycache__\\)$' -print"
   ]
  },
  {
   "cell_type": "code",
   "execution_count": 3,
   "id": "b54099b0-a990-4bbd-bcbd-e206eb0f0f0e",
   "metadata": {
    "execution": {
     "iopub.execute_input": "2021-11-22T17:19:45.826267Z",
     "iopub.status.busy": "2021-11-22T17:19:45.825771Z",
     "iopub.status.idle": "2021-11-22T17:19:46.438406Z",
     "shell.execute_reply": "2021-11-22T17:19:46.436517Z"
    },
    "papermill": {
     "duration": 0.670387,
     "end_time": "2021-11-22T17:19:46.438784",
     "exception": false,
     "start_time": "2021-11-22T17:19:45.768397",
     "status": "completed"
    },
    "tags": []
   },
   "outputs": [
    {
     "name": "stdout",
     "output_type": "stream",
     "text": [
      "find: ‘/opt/code/libs/clustermatch/__pycache__’: No such file or directory\r\n"
     ]
    }
   ],
   "source": [
    "!find ${CODE_DIR} -regex '^.*\\(__pycache__\\)$' -exec rm -rf {} \\;"
   ]
  },
  {
   "cell_type": "code",
   "execution_count": 4,
   "id": "7a9a8098-8160-46bf-8d83-bc398cbe2382",
   "metadata": {
    "execution": {
     "iopub.execute_input": "2021-11-22T17:19:46.580926Z",
     "iopub.status.busy": "2021-11-22T17:19:46.578140Z",
     "iopub.status.idle": "2021-11-22T17:19:47.195695Z",
     "shell.execute_reply": "2021-11-22T17:19:47.197172Z"
    },
    "papermill": {
     "duration": 0.674506,
     "end_time": "2021-11-22T17:19:47.197623",
     "exception": false,
     "start_time": "2021-11-22T17:19:46.523117",
     "status": "completed"
    },
    "tags": []
   },
   "outputs": [],
   "source": [
    "!find ${CODE_DIR} -regex '^.*\\(__pycache__\\)$' -print"
   ]
  },
  {
   "cell_type": "markdown",
   "id": "c2251313-41ac-46fd-a845-0f209689ecf6",
   "metadata": {
    "papermill": {
     "duration": 0.051156,
     "end_time": "2021-11-22T17:19:47.325999",
     "exception": false,
     "start_time": "2021-11-22T17:19:47.274843",
     "status": "completed"
    },
    "tags": []
   },
   "source": [
    "# Modules"
   ]
  },
  {
   "cell_type": "code",
   "execution_count": 5,
   "id": "987ef5f1-be49-4a6c-a4f4-b24a0a2094cb",
   "metadata": {
    "execution": {
     "iopub.execute_input": "2021-11-22T17:19:47.432874Z",
     "iopub.status.busy": "2021-11-22T17:19:47.432403Z",
     "iopub.status.idle": "2021-11-22T17:19:47.744639Z",
     "shell.execute_reply": "2021-11-22T17:19:47.744161Z"
    },
    "papermill": {
     "duration": 0.366735,
     "end_time": "2021-11-22T17:19:47.744736",
     "exception": false,
     "start_time": "2021-11-22T17:19:47.378001",
     "status": "completed"
    },
    "tags": []
   },
   "outputs": [],
   "source": [
    "import numpy as np\n",
    "\n",
    "from clustermatch.coef import _cm"
   ]
  },
  {
   "cell_type": "markdown",
   "id": "24399ccb-d33d-4bad-9baf-638c9c56feb2",
   "metadata": {
    "papermill": {
     "duration": 0.054388,
     "end_time": "2021-11-22T17:19:47.851704",
     "exception": false,
     "start_time": "2021-11-22T17:19:47.797316",
     "status": "completed"
    },
    "tags": []
   },
   "source": [
    "# Settings"
   ]
  },
  {
   "cell_type": "code",
   "execution_count": 6,
   "id": "c609cefa-f513-4cf8-9573-367744e31c5f",
   "metadata": {
    "execution": {
     "iopub.execute_input": "2021-11-22T17:19:47.962206Z",
     "iopub.status.busy": "2021-11-22T17:19:47.961710Z",
     "iopub.status.idle": "2021-11-22T17:19:47.963212Z",
     "shell.execute_reply": "2021-11-22T17:19:47.963553Z"
    },
    "papermill": {
     "duration": 0.058414,
     "end_time": "2021-11-22T17:19:47.963669",
     "exception": false,
     "start_time": "2021-11-22T17:19:47.905255",
     "status": "completed"
    },
    "tags": []
   },
   "outputs": [],
   "source": [
    "N_REPS = 10"
   ]
  },
  {
   "cell_type": "code",
   "execution_count": 7,
   "id": "c0341a42-b8de-419f-ab37-1e4fee9dde75",
   "metadata": {
    "execution": {
     "iopub.execute_input": "2021-11-22T17:19:48.079579Z",
     "iopub.status.busy": "2021-11-22T17:19:48.079125Z",
     "iopub.status.idle": "2021-11-22T17:19:48.081281Z",
     "shell.execute_reply": "2021-11-22T17:19:48.080915Z"
    },
    "papermill": {
     "duration": 0.064994,
     "end_time": "2021-11-22T17:19:48.081380",
     "exception": false,
     "start_time": "2021-11-22T17:19:48.016386",
     "status": "completed"
    },
    "tags": []
   },
   "outputs": [],
   "source": [
    "np.random.seed(0)"
   ]
  },
  {
   "cell_type": "markdown",
   "id": "6fd3067b-a4f7-475e-9575-20246934537d",
   "metadata": {
    "papermill": {
     "duration": 0.050853,
     "end_time": "2021-11-22T17:19:48.184135",
     "exception": false,
     "start_time": "2021-11-22T17:19:48.133282",
     "status": "completed"
    },
    "tags": []
   },
   "source": [
    "# Setup"
   ]
  },
  {
   "cell_type": "code",
   "execution_count": 8,
   "id": "02e0507c-43ff-4693-8a3b-8ccd8f23168c",
   "metadata": {
    "execution": {
     "iopub.execute_input": "2021-11-22T17:19:48.289984Z",
     "iopub.status.busy": "2021-11-22T17:19:48.289535Z",
     "iopub.status.idle": "2021-11-22T17:19:56.944189Z",
     "shell.execute_reply": "2021-11-22T17:19:56.943739Z"
    },
    "papermill": {
     "duration": 8.709197,
     "end_time": "2021-11-22T17:19:56.944285",
     "exception": false,
     "start_time": "2021-11-22T17:19:48.235088",
     "status": "completed"
    },
    "tags": []
   },
   "outputs": [
    {
     "data": {
      "text/plain": [
       "(array([0.15625]),\n",
       " array([[0, 1]], dtype=uint64),\n",
       " array([[[0, 1, 1, 0, 0, 1, 0, 1, 1, 0],\n",
       "         [1, 2, 1, 1, 0, 2, 0, 2, 2, 0]],\n",
       " \n",
       "        [[1, 0, 0, 1, 0, 0, 0, 1, 1, 1],\n",
       "         [2, 1, 1, 2, 0, 0, 0, 2, 1, 2]]], dtype=int16))"
      ]
     },
     "execution_count": 8,
     "metadata": {},
     "output_type": "execute_result"
    }
   ],
   "source": [
    "# let numba compile all the code before profiling\n",
    "_cm(np.random.rand(10), np.random.rand(10))"
   ]
  },
  {
   "cell_type": "markdown",
   "id": "8549179d-1517-4a40-9a51-b95dc02d0fcc",
   "metadata": {
    "papermill": {
     "duration": 0.051842,
     "end_time": "2021-11-22T17:19:57.048139",
     "exception": false,
     "start_time": "2021-11-22T17:19:56.996297",
     "status": "completed"
    },
    "tags": []
   },
   "source": [
    "# Run with `n_samples` small"
   ]
  },
  {
   "cell_type": "code",
   "execution_count": 9,
   "id": "ddb768d7-9b74-424c-bdb9-9e52b9e5b181",
   "metadata": {
    "execution": {
     "iopub.execute_input": "2021-11-22T17:19:57.162416Z",
     "iopub.status.busy": "2021-11-22T17:19:57.161971Z",
     "iopub.status.idle": "2021-11-22T17:19:57.164031Z",
     "shell.execute_reply": "2021-11-22T17:19:57.163634Z"
    },
    "papermill": {
     "duration": 0.058195,
     "end_time": "2021-11-22T17:19:57.164128",
     "exception": false,
     "start_time": "2021-11-22T17:19:57.105933",
     "status": "completed"
    },
    "tags": []
   },
   "outputs": [],
   "source": [
    "N_SAMPLES = 100"
   ]
  },
  {
   "cell_type": "code",
   "execution_count": 10,
   "id": "6f2ff213-d6b7-458f-acbf-8c73dd497a2a",
   "metadata": {
    "execution": {
     "iopub.execute_input": "2021-11-22T17:19:57.272605Z",
     "iopub.status.busy": "2021-11-22T17:19:57.272117Z",
     "iopub.status.idle": "2021-11-22T17:19:57.274576Z",
     "shell.execute_reply": "2021-11-22T17:19:57.274147Z"
    },
    "papermill": {
     "duration": 0.057721,
     "end_time": "2021-11-22T17:19:57.274669",
     "exception": false,
     "start_time": "2021-11-22T17:19:57.216948",
     "status": "completed"
    },
    "tags": []
   },
   "outputs": [],
   "source": [
    "x = np.random.rand(N_SAMPLES)\n",
    "y = np.random.rand(N_SAMPLES)"
   ]
  },
  {
   "cell_type": "code",
   "execution_count": 11,
   "id": "d63012be-4fc7-4fba-bccd-ad155905d1d6",
   "metadata": {
    "execution": {
     "iopub.execute_input": "2021-11-22T17:19:57.384060Z",
     "iopub.status.busy": "2021-11-22T17:19:57.383548Z",
     "iopub.status.idle": "2021-11-22T17:19:57.385809Z",
     "shell.execute_reply": "2021-11-22T17:19:57.385366Z"
    },
    "papermill": {
     "duration": 0.058137,
     "end_time": "2021-11-22T17:19:57.385905",
     "exception": false,
     "start_time": "2021-11-22T17:19:57.327768",
     "status": "completed"
    },
    "tags": []
   },
   "outputs": [],
   "source": [
    "def func():\n",
    "    for i in range(N_REPS):\n",
    "        # py_func accesses the original python function, not the numba-optimized one\n",
    "        # this is needed to be able to profile the function\n",
    "        _cm(x, y)"
   ]
  },
  {
   "cell_type": "code",
   "execution_count": 12,
   "id": "c0abc65a-2f3c-4476-9c2a-f8d7753b75e6",
   "metadata": {
    "execution": {
     "iopub.execute_input": "2021-11-22T17:19:57.496236Z",
     "iopub.status.busy": "2021-11-22T17:19:57.495568Z",
     "iopub.status.idle": "2021-11-22T17:19:57.906694Z",
     "shell.execute_reply": "2021-11-22T17:19:57.906228Z"
    },
    "papermill": {
     "duration": 0.468019,
     "end_time": "2021-11-22T17:19:57.906793",
     "exception": false,
     "start_time": "2021-11-22T17:19:57.438774",
     "status": "completed"
    },
    "tags": []
   },
   "outputs": [
    {
     "name": "stdout",
     "output_type": "stream",
     "text": [
      "28.9 ms ± 255 µs per loop (mean ± std. dev. of 7 runs, 1 loop each)\n"
     ]
    }
   ],
   "source": [
    "%%timeit -n1 -r7 func()\n",
    "func()"
   ]
  },
  {
   "cell_type": "code",
   "execution_count": 13,
   "id": "e80a7b02-310f-4bd9-90d5-2a41186db39e",
   "metadata": {
    "execution": {
     "iopub.execute_input": "2021-11-22T17:19:58.017288Z",
     "iopub.status.busy": "2021-11-22T17:19:58.016647Z",
     "iopub.status.idle": "2021-11-22T17:19:58.053322Z",
     "shell.execute_reply": "2021-11-22T17:19:58.052862Z"
    },
    "papermill": {
     "duration": 0.093183,
     "end_time": "2021-11-22T17:19:58.053420",
     "exception": false,
     "start_time": "2021-11-22T17:19:57.960237",
     "status": "completed"
    },
    "tags": []
   },
   "outputs": [
    {
     "name": "stdout",
     "output_type": "stream",
     "text": [
      " \n",
      "*** Profile printout saved to text file '09-n_samples_small.txt'. \n"
     ]
    }
   ],
   "source": [
    "%%prun -s cumulative -l 20 -T 09-n_samples_small.txt\n",
    "func()"
   ]
  },
  {
   "cell_type": "markdown",
   "id": "731e0a22-ff95-4537-b824-3d11e7487ae5",
   "metadata": {
    "papermill": {
     "duration": 0.054134,
     "end_time": "2021-11-22T17:19:58.169377",
     "exception": false,
     "start_time": "2021-11-22T17:19:58.115243",
     "status": "completed"
    },
    "tags": []
   },
   "source": [
    "**UPDATE**"
   ]
  },
  {
   "cell_type": "markdown",
   "id": "f6b9adcf-1da4-4496-b05f-47952fd80d7f",
   "metadata": {
    "papermill": {
     "duration": 0.05301,
     "end_time": "2021-11-22T17:19:58.275953",
     "exception": false,
     "start_time": "2021-11-22T17:19:58.222943",
     "status": "completed"
    },
    "tags": []
   },
   "source": [
    "# Run with `n_samples` large"
   ]
  },
  {
   "cell_type": "code",
   "execution_count": 14,
   "id": "7fb2ab2e-a6de-412b-9540-d00f8641290e",
   "metadata": {
    "execution": {
     "iopub.execute_input": "2021-11-22T17:19:58.386980Z",
     "iopub.status.busy": "2021-11-22T17:19:58.386529Z",
     "iopub.status.idle": "2021-11-22T17:19:58.388850Z",
     "shell.execute_reply": "2021-11-22T17:19:58.388399Z"
    },
    "papermill": {
     "duration": 0.059733,
     "end_time": "2021-11-22T17:19:58.388946",
     "exception": false,
     "start_time": "2021-11-22T17:19:58.329213",
     "status": "completed"
    },
    "tags": []
   },
   "outputs": [],
   "source": [
    "N_SAMPLES = 100000"
   ]
  },
  {
   "cell_type": "code",
   "execution_count": 15,
   "id": "161cf922-41f7-4ced-af1f-e3d25b36b200",
   "metadata": {
    "execution": {
     "iopub.execute_input": "2021-11-22T17:19:58.499348Z",
     "iopub.status.busy": "2021-11-22T17:19:58.498907Z",
     "iopub.status.idle": "2021-11-22T17:19:58.503176Z",
     "shell.execute_reply": "2021-11-22T17:19:58.502735Z"
    },
    "papermill": {
     "duration": 0.060881,
     "end_time": "2021-11-22T17:19:58.503270",
     "exception": false,
     "start_time": "2021-11-22T17:19:58.442389",
     "status": "completed"
    },
    "tags": []
   },
   "outputs": [],
   "source": [
    "x = np.random.rand(N_SAMPLES)\n",
    "y = np.random.rand(N_SAMPLES)"
   ]
  },
  {
   "cell_type": "code",
   "execution_count": 16,
   "id": "ede7a328-bad3-40a2-a179-1148a3229620",
   "metadata": {
    "execution": {
     "iopub.execute_input": "2021-11-22T17:19:58.613755Z",
     "iopub.status.busy": "2021-11-22T17:19:58.612396Z",
     "iopub.status.idle": "2021-11-22T17:19:58.616067Z",
     "shell.execute_reply": "2021-11-22T17:19:58.615576Z"
    },
    "papermill": {
     "duration": 0.059679,
     "end_time": "2021-11-22T17:19:58.616163",
     "exception": false,
     "start_time": "2021-11-22T17:19:58.556484",
     "status": "completed"
    },
    "tags": []
   },
   "outputs": [],
   "source": [
    "def func():\n",
    "    for i in range(N_REPS):\n",
    "        # py_func accesses the original python function, not the numba-optimized one\n",
    "        # this is needed to be able to profile the function\n",
    "        _cm(x, y)"
   ]
  },
  {
   "cell_type": "code",
   "execution_count": 17,
   "id": "0a7f2b1f-4b87-4dde-a46b-2acec5ac93ba",
   "metadata": {
    "execution": {
     "iopub.execute_input": "2021-11-22T17:19:58.728557Z",
     "iopub.status.busy": "2021-11-22T17:19:58.727973Z",
     "iopub.status.idle": "2021-11-22T17:21:03.586237Z",
     "shell.execute_reply": "2021-11-22T17:21:03.586587Z"
    },
    "papermill": {
     "duration": 64.916018,
     "end_time": "2021-11-22T17:21:03.586698",
     "exception": false,
     "start_time": "2021-11-22T17:19:58.670680",
     "status": "completed"
    },
    "tags": []
   },
   "outputs": [
    {
     "name": "stdout",
     "output_type": "stream",
     "text": [
      "4.62 s ± 9.1 ms per loop (mean ± std. dev. of 7 runs, 1 loop each)\n"
     ]
    }
   ],
   "source": [
    "%%timeit -n1 -r7 func()\n",
    "func()"
   ]
  },
  {
   "cell_type": "code",
   "execution_count": 18,
   "id": "74acbe27-9807-4f26-8b7e-b74d0f745b63",
   "metadata": {
    "execution": {
     "iopub.execute_input": "2021-11-22T17:21:03.698825Z",
     "iopub.status.busy": "2021-11-22T17:21:03.698266Z",
     "iopub.status.idle": "2021-11-22T17:21:08.333174Z",
     "shell.execute_reply": "2021-11-22T17:21:08.332792Z"
    },
    "papermill": {
     "duration": 4.692432,
     "end_time": "2021-11-22T17:21:08.333270",
     "exception": false,
     "start_time": "2021-11-22T17:21:03.640838",
     "status": "completed"
    },
    "tags": []
   },
   "outputs": [
    {
     "name": "stdout",
     "output_type": "stream",
     "text": [
      " \n",
      "*** Profile printout saved to text file '09-n_samples_large.txt'. \n"
     ]
    }
   ],
   "source": [
    "%%prun -s cumulative -l 20 -T 09-n_samples_large.txt\n",
    "func()"
   ]
  },
  {
   "cell_type": "markdown",
   "id": "219f3bd5-7d70-45c5-9e35-bec8bbce6ed8",
   "metadata": {
    "papermill": {
     "duration": 0.055734,
     "end_time": "2021-11-22T17:21:08.464262",
     "exception": false,
     "start_time": "2021-11-22T17:21:08.408528",
     "status": "completed"
    },
    "tags": []
   },
   "source": [
    "**UPDATE**"
   ]
  },
  {
   "cell_type": "code",
   "execution_count": null,
   "id": "2aa76596-f126-4ba8-8bba-4d31225e0e5d",
   "metadata": {
    "papermill": {
     "duration": 0.055116,
     "end_time": "2021-11-22T17:21:08.574186",
     "exception": false,
     "start_time": "2021-11-22T17:21:08.519070",
     "status": "completed"
    },
    "tags": []
   },
   "outputs": [],
   "source": []
  }
 ],
 "metadata": {
  "jupytext": {
   "cell_metadata_filter": "all,-execution,-papermill,-trusted"
  },
  "kernelspec": {
   "display_name": "Python 3 (ipykernel)",
   "language": "python",
   "name": "python3"
  },
  "language_info": {
   "codemirror_mode": {
    "name": "ipython",
    "version": 3
   },
   "file_extension": ".py",
   "mimetype": "text/x-python",
   "name": "python",
   "nbconvert_exporter": "python",
   "pygments_lexer": "ipython3",
   "version": "3.9.7"
  },
  "papermill": {
   "default_parameters": {},
   "duration": 86.334352,
   "end_time": "2021-11-22T17:21:09.040191",
   "environment_variables": {},
   "exception": null,
   "input_path": "nbs/others/05_clustermatch_profiling/10_cm_optimized/09-cdist_parts_v04.ipynb",
   "output_path": "nbs/others/05_clustermatch_profiling/10_cm_optimized/09-cdist_parts_v04.run.ipynb",
   "parameters": {},
   "start_time": "2021-11-22T17:19:42.705839",
   "version": "2.3.3"
  }
 },
 "nbformat": 4,
 "nbformat_minor": 5
}
