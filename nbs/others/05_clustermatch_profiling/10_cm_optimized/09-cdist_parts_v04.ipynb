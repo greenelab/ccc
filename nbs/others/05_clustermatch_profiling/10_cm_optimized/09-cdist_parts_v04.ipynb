{
 "cells": [
  {
   "cell_type": "markdown",
   "id": "36c65ddb-8246-4b0c-a231-68a373acc2cf",
   "metadata": {
    "papermill": {
     "duration": 0.084829,
     "end_time": "2021-11-19T18:26:47.461874",
     "exception": false,
     "start_time": "2021-11-19T18:26:47.377045",
     "status": "completed"
    },
    "tags": []
   },
   "source": [
    "# Description"
   ]
  },
  {
   "cell_type": "markdown",
   "id": "337633a8-d03e-4509-b89d-f8daee598958",
   "metadata": {
    "papermill": {
     "duration": 0.04648,
     "end_time": "2021-11-19T18:26:47.554338",
     "exception": false,
     "start_time": "2021-11-19T18:26:47.507858",
     "status": "completed"
    },
    "tags": []
   },
   "source": [
    "Exactly the same code as in `08`, but here I run the notebook in a different machine (desktop)."
   ]
  },
  {
   "cell_type": "markdown",
   "id": "63c2b099-cc44-4fe2-93d1-40336e0a8466",
   "metadata": {
    "papermill": {
     "duration": 0.045241,
     "end_time": "2021-11-19T18:26:47.646809",
     "exception": false,
     "start_time": "2021-11-19T18:26:47.601568",
     "status": "completed"
    },
    "tags": []
   },
   "source": [
    "# Remove pycache dir"
   ]
  },
  {
   "cell_type": "code",
   "execution_count": 1,
   "id": "960c4ff0-2a73-4eaa-97d6-3269102233eb",
   "metadata": {
    "execution": {
     "iopub.execute_input": "2021-11-19T18:26:47.752745Z",
     "iopub.status.busy": "2021-11-19T18:26:47.752281Z",
     "iopub.status.idle": "2021-11-19T18:26:48.339569Z",
     "shell.execute_reply": "2021-11-19T18:26:48.337479Z"
    },
    "papermill": {
     "duration": 0.646665,
     "end_time": "2021-11-19T18:26:48.339993",
     "exception": false,
     "start_time": "2021-11-19T18:26:47.693328",
     "status": "completed"
    },
    "tags": []
   },
   "outputs": [
    {
     "name": "stdout",
     "output_type": "stream",
     "text": [
      "/opt/code\n"
     ]
    }
   ],
   "source": [
    "!echo ${CODE_DIR}"
   ]
  },
  {
   "cell_type": "code",
   "execution_count": 2,
   "id": "e18db58a-316a-445b-a376-8b2ec18e08d8",
   "metadata": {
    "execution": {
     "iopub.execute_input": "2021-11-19T18:26:48.442089Z",
     "iopub.status.busy": "2021-11-19T18:26:48.440260Z",
     "iopub.status.idle": "2021-11-19T18:26:49.050157Z",
     "shell.execute_reply": "2021-11-19T18:26:49.048623Z"
    },
    "papermill": {
     "duration": 0.660775,
     "end_time": "2021-11-19T18:26:49.050546",
     "exception": false,
     "start_time": "2021-11-19T18:26:48.389771",
     "status": "completed"
    },
    "tags": []
   },
   "outputs": [
    {
     "name": "stdout",
     "output_type": "stream",
     "text": [
      "/opt/code/libs/clustermatch/__pycache__\n"
     ]
    }
   ],
   "source": [
    "!find ${CODE_DIR} -regex '^.*\\(__pycache__\\)$' -print"
   ]
  },
  {
   "cell_type": "code",
   "execution_count": 3,
   "id": "b54099b0-a990-4bbd-bcbd-e206eb0f0f0e",
   "metadata": {
    "execution": {
     "iopub.execute_input": "2021-11-19T18:26:49.184637Z",
     "iopub.status.busy": "2021-11-19T18:26:49.184163Z",
     "iopub.status.idle": "2021-11-19T18:26:49.789080Z",
     "shell.execute_reply": "2021-11-19T18:26:49.787119Z"
    },
    "papermill": {
     "duration": 0.656435,
     "end_time": "2021-11-19T18:26:49.789462",
     "exception": false,
     "start_time": "2021-11-19T18:26:49.133027",
     "status": "completed"
    },
    "tags": []
   },
   "outputs": [
    {
     "name": "stdout",
     "output_type": "stream",
     "text": [
      "find: ‘/opt/code/libs/clustermatch/__pycache__’: No such file or directory\n"
     ]
    }
   ],
   "source": [
    "!find ${CODE_DIR} -regex '^.*\\(__pycache__\\)$' -exec rm -rf {} \\;"
   ]
  },
  {
   "cell_type": "code",
   "execution_count": 4,
   "id": "7a9a8098-8160-46bf-8d83-bc398cbe2382",
   "metadata": {
    "execution": {
     "iopub.execute_input": "2021-11-19T18:26:49.923353Z",
     "iopub.status.busy": "2021-11-19T18:26:49.922890Z",
     "iopub.status.idle": "2021-11-19T18:26:50.534314Z",
     "shell.execute_reply": "2021-11-19T18:26:50.532412Z"
    },
    "papermill": {
     "duration": 0.663796,
     "end_time": "2021-11-19T18:26:50.534688",
     "exception": false,
     "start_time": "2021-11-19T18:26:49.870892",
     "status": "completed"
    },
    "tags": []
   },
   "outputs": [],
   "source": [
    "!find ${CODE_DIR} -regex '^.*\\(__pycache__\\)$' -print"
   ]
  },
  {
   "cell_type": "markdown",
   "id": "c2251313-41ac-46fd-a845-0f209689ecf6",
   "metadata": {
    "papermill": {
     "duration": 0.04826,
     "end_time": "2021-11-19T18:26:50.664027",
     "exception": false,
     "start_time": "2021-11-19T18:26:50.615767",
     "status": "completed"
    },
    "tags": []
   },
   "source": [
    "# Modules"
   ]
  },
  {
   "cell_type": "code",
   "execution_count": 5,
   "id": "987ef5f1-be49-4a6c-a4f4-b24a0a2094cb",
   "metadata": {
    "execution": {
     "iopub.execute_input": "2021-11-19T18:26:50.773922Z",
     "iopub.status.busy": "2021-11-19T18:26:50.773459Z",
     "iopub.status.idle": "2021-11-19T18:26:51.096974Z",
     "shell.execute_reply": "2021-11-19T18:26:51.096569Z"
    },
    "papermill": {
     "duration": 0.382042,
     "end_time": "2021-11-19T18:26:51.097074",
     "exception": false,
     "start_time": "2021-11-19T18:26:50.715032",
     "status": "completed"
    },
    "tags": []
   },
   "outputs": [],
   "source": [
    "import numpy as np\n",
    "\n",
    "from clustermatch.coef import _cm"
   ]
  },
  {
   "cell_type": "markdown",
   "id": "24399ccb-d33d-4bad-9baf-638c9c56feb2",
   "metadata": {
    "papermill": {
     "duration": 0.048666,
     "end_time": "2021-11-19T18:26:51.196079",
     "exception": false,
     "start_time": "2021-11-19T18:26:51.147413",
     "status": "completed"
    },
    "tags": []
   },
   "source": [
    "# Settings"
   ]
  },
  {
   "cell_type": "code",
   "execution_count": 6,
   "id": "c609cefa-f513-4cf8-9573-367744e31c5f",
   "metadata": {
    "execution": {
     "iopub.execute_input": "2021-11-19T18:26:51.296855Z",
     "iopub.status.busy": "2021-11-19T18:26:51.295650Z",
     "iopub.status.idle": "2021-11-19T18:26:51.298298Z",
     "shell.execute_reply": "2021-11-19T18:26:51.298655Z"
    },
    "papermill": {
     "duration": 0.054046,
     "end_time": "2021-11-19T18:26:51.298769",
     "exception": false,
     "start_time": "2021-11-19T18:26:51.244723",
     "status": "completed"
    },
    "tags": []
   },
   "outputs": [],
   "source": [
    "N_REPS = 10"
   ]
  },
  {
   "cell_type": "code",
   "execution_count": 7,
   "id": "c0341a42-b8de-419f-ab37-1e4fee9dde75",
   "metadata": {
    "execution": {
     "iopub.execute_input": "2021-11-19T18:26:51.400609Z",
     "iopub.status.busy": "2021-11-19T18:26:51.400106Z",
     "iopub.status.idle": "2021-11-19T18:26:51.402065Z",
     "shell.execute_reply": "2021-11-19T18:26:51.401613Z"
    },
    "papermill": {
     "duration": 0.053992,
     "end_time": "2021-11-19T18:26:51.402161",
     "exception": false,
     "start_time": "2021-11-19T18:26:51.348169",
     "status": "completed"
    },
    "tags": []
   },
   "outputs": [],
   "source": [
    "np.random.seed(0)"
   ]
  },
  {
   "cell_type": "markdown",
   "id": "6fd3067b-a4f7-475e-9575-20246934537d",
   "metadata": {
    "papermill": {
     "duration": 0.049354,
     "end_time": "2021-11-19T18:26:51.501085",
     "exception": false,
     "start_time": "2021-11-19T18:26:51.451731",
     "status": "completed"
    },
    "tags": []
   },
   "source": [
    "# Setup"
   ]
  },
  {
   "cell_type": "code",
   "execution_count": 8,
   "id": "02e0507c-43ff-4693-8a3b-8ccd8f23168c",
   "metadata": {
    "execution": {
     "iopub.execute_input": "2021-11-19T18:26:51.603650Z",
     "iopub.status.busy": "2021-11-19T18:26:51.603193Z",
     "iopub.status.idle": "2021-11-19T18:27:13.153899Z",
     "shell.execute_reply": "2021-11-19T18:27:13.154244Z"
    },
    "papermill": {
     "duration": 21.604641,
     "end_time": "2021-11-19T18:27:13.154366",
     "exception": false,
     "start_time": "2021-11-19T18:26:51.549725",
     "status": "completed"
    },
    "tags": []
   },
   "outputs": [
    {
     "data": {
      "text/plain": [
       "(array([0.15625]),\n",
       " array([[0, 1]], dtype=uint64),\n",
       " array([[[0, 1, 1, 0, 0, 1, 0, 1, 1, 0],\n",
       "         [1, 2, 1, 1, 0, 2, 0, 2, 2, 0]],\n",
       " \n",
       "        [[1, 0, 0, 1, 0, 0, 0, 1, 1, 1],\n",
       "         [2, 1, 1, 2, 0, 0, 0, 2, 1, 2]]], dtype=int16))"
      ]
     },
     "execution_count": 8,
     "metadata": {},
     "output_type": "execute_result"
    }
   ],
   "source": [
    "# let numba compile all the code before profiling\n",
    "_cm(np.random.rand(10), np.random.rand(10))"
   ]
  },
  {
   "cell_type": "markdown",
   "id": "8549179d-1517-4a40-9a51-b95dc02d0fcc",
   "metadata": {
    "papermill": {
     "duration": 0.049189,
     "end_time": "2021-11-19T18:27:13.253818",
     "exception": false,
     "start_time": "2021-11-19T18:27:13.204629",
     "status": "completed"
    },
    "tags": []
   },
   "source": [
    "# Run with `n_samples` small"
   ]
  },
  {
   "cell_type": "code",
   "execution_count": 9,
   "id": "ddb768d7-9b74-424c-bdb9-9e52b9e5b181",
   "metadata": {
    "execution": {
     "iopub.execute_input": "2021-11-19T18:27:13.356438Z",
     "iopub.status.busy": "2021-11-19T18:27:13.355977Z",
     "iopub.status.idle": "2021-11-19T18:27:13.358064Z",
     "shell.execute_reply": "2021-11-19T18:27:13.357700Z"
    },
    "papermill": {
     "duration": 0.054687,
     "end_time": "2021-11-19T18:27:13.358161",
     "exception": false,
     "start_time": "2021-11-19T18:27:13.303474",
     "status": "completed"
    },
    "tags": []
   },
   "outputs": [],
   "source": [
    "N_SAMPLES = 100"
   ]
  },
  {
   "cell_type": "code",
   "execution_count": 10,
   "id": "6f2ff213-d6b7-458f-acbf-8c73dd497a2a",
   "metadata": {
    "execution": {
     "iopub.execute_input": "2021-11-19T18:27:13.462190Z",
     "iopub.status.busy": "2021-11-19T18:27:13.461730Z",
     "iopub.status.idle": "2021-11-19T18:27:13.463261Z",
     "shell.execute_reply": "2021-11-19T18:27:13.463603Z"
    },
    "papermill": {
     "duration": 0.055122,
     "end_time": "2021-11-19T18:27:13.463720",
     "exception": false,
     "start_time": "2021-11-19T18:27:13.408598",
     "status": "completed"
    },
    "tags": []
   },
   "outputs": [],
   "source": [
    "x = np.random.rand(N_SAMPLES)\n",
    "y = np.random.rand(N_SAMPLES)"
   ]
  },
  {
   "cell_type": "code",
   "execution_count": 11,
   "id": "d63012be-4fc7-4fba-bccd-ad155905d1d6",
   "metadata": {
    "execution": {
     "iopub.execute_input": "2021-11-19T18:27:13.568268Z",
     "iopub.status.busy": "2021-11-19T18:27:13.567770Z",
     "iopub.status.idle": "2021-11-19T18:27:13.569697Z",
     "shell.execute_reply": "2021-11-19T18:27:13.569291Z"
    },
    "papermill": {
     "duration": 0.055819,
     "end_time": "2021-11-19T18:27:13.569792",
     "exception": false,
     "start_time": "2021-11-19T18:27:13.513973",
     "status": "completed"
    },
    "tags": []
   },
   "outputs": [],
   "source": [
    "def func():\n",
    "    for i in range(N_REPS):\n",
    "        # py_func accesses the original python function, not the numba-optimized one\n",
    "        # this is needed to be able to profile the function\n",
    "        _cm(x, y)"
   ]
  },
  {
   "cell_type": "code",
   "execution_count": 12,
   "id": "c0abc65a-2f3c-4476-9c2a-f8d7753b75e6",
   "metadata": {
    "execution": {
     "iopub.execute_input": "2021-11-19T18:27:13.676871Z",
     "iopub.status.busy": "2021-11-19T18:27:13.676417Z",
     "iopub.status.idle": "2021-11-19T18:27:14.122194Z",
     "shell.execute_reply": "2021-11-19T18:27:14.121809Z"
    },
    "papermill": {
     "duration": 0.501512,
     "end_time": "2021-11-19T18:27:14.122296",
     "exception": false,
     "start_time": "2021-11-19T18:27:13.620784",
     "status": "completed"
    },
    "tags": []
   },
   "outputs": [
    {
     "name": "stdout",
     "output_type": "stream",
     "text": [
      "54 ms ± 10.5 ms per loop (mean ± std. dev. of 4 runs, 1 loop each)\n"
     ]
    }
   ],
   "source": [
    "%%timeit -n1 -r7 func()\n",
    "func()"
   ]
  },
  {
   "cell_type": "code",
   "execution_count": 13,
   "id": "e80a7b02-310f-4bd9-90d5-2a41186db39e",
   "metadata": {
    "execution": {
     "iopub.execute_input": "2021-11-19T18:27:14.229241Z",
     "iopub.status.busy": "2021-11-19T18:27:14.228729Z",
     "iopub.status.idle": "2021-11-19T18:27:14.284175Z",
     "shell.execute_reply": "2021-11-19T18:27:14.283583Z"
    },
    "papermill": {
     "duration": 0.109666,
     "end_time": "2021-11-19T18:27:14.284277",
     "exception": false,
     "start_time": "2021-11-19T18:27:14.174611",
     "status": "completed"
    },
    "tags": []
   },
   "outputs": [
    {
     "name": "stdout",
     "output_type": "stream",
     "text": [
      " \n",
      "*** Profile printout saved to text file '09-n_samples_small.txt'. \n"
     ]
    }
   ],
   "source": [
    "%%prun -s cumulative -l 20 -T 09-n_samples_small.txt\n",
    "func()"
   ]
  },
  {
   "cell_type": "markdown",
   "id": "731e0a22-ff95-4537-b824-3d11e7487ae5",
   "metadata": {
    "papermill": {
     "duration": 0.051724,
     "end_time": "2021-11-19T18:27:14.390361",
     "exception": false,
     "start_time": "2021-11-19T18:27:14.338637",
     "status": "completed"
    },
    "tags": []
   },
   "source": [
    "**UPDATE**"
   ]
  },
  {
   "cell_type": "markdown",
   "id": "f6b9adcf-1da4-4496-b05f-47952fd80d7f",
   "metadata": {
    "papermill": {
     "duration": 0.052277,
     "end_time": "2021-11-19T18:27:14.494112",
     "exception": false,
     "start_time": "2021-11-19T18:27:14.441835",
     "status": "completed"
    },
    "tags": []
   },
   "source": [
    "# Run with `n_samples` large"
   ]
  },
  {
   "cell_type": "code",
   "execution_count": 14,
   "id": "7fb2ab2e-a6de-412b-9540-d00f8641290e",
   "metadata": {
    "execution": {
     "iopub.execute_input": "2021-11-19T18:27:14.603191Z",
     "iopub.status.busy": "2021-11-19T18:27:14.602718Z",
     "iopub.status.idle": "2021-11-19T18:27:14.604892Z",
     "shell.execute_reply": "2021-11-19T18:27:14.604486Z"
    },
    "papermill": {
     "duration": 0.058581,
     "end_time": "2021-11-19T18:27:14.604985",
     "exception": false,
     "start_time": "2021-11-19T18:27:14.546404",
     "status": "completed"
    },
    "tags": []
   },
   "outputs": [],
   "source": [
    "N_SAMPLES = 100000"
   ]
  },
  {
   "cell_type": "code",
   "execution_count": 15,
   "id": "161cf922-41f7-4ced-af1f-e3d25b36b200",
   "metadata": {
    "execution": {
     "iopub.execute_input": "2021-11-19T18:27:14.714012Z",
     "iopub.status.busy": "2021-11-19T18:27:14.713560Z",
     "iopub.status.idle": "2021-11-19T18:27:14.718061Z",
     "shell.execute_reply": "2021-11-19T18:27:14.717662Z"
    },
    "papermill": {
     "duration": 0.059643,
     "end_time": "2021-11-19T18:27:14.718156",
     "exception": false,
     "start_time": "2021-11-19T18:27:14.658513",
     "status": "completed"
    },
    "tags": []
   },
   "outputs": [],
   "source": [
    "x = np.random.rand(N_SAMPLES)\n",
    "y = np.random.rand(N_SAMPLES)"
   ]
  },
  {
   "cell_type": "code",
   "execution_count": 16,
   "id": "ede7a328-bad3-40a2-a179-1148a3229620",
   "metadata": {
    "execution": {
     "iopub.execute_input": "2021-11-19T18:27:14.832119Z",
     "iopub.status.busy": "2021-11-19T18:27:14.831613Z",
     "iopub.status.idle": "2021-11-19T18:27:14.833528Z",
     "shell.execute_reply": "2021-11-19T18:27:14.833907Z"
    },
    "papermill": {
     "duration": 0.062616,
     "end_time": "2021-11-19T18:27:14.834031",
     "exception": false,
     "start_time": "2021-11-19T18:27:14.771415",
     "status": "completed"
    },
    "tags": []
   },
   "outputs": [],
   "source": [
    "def func():\n",
    "    for i in range(N_REPS):\n",
    "        # py_func accesses the original python function, not the numba-optimized one\n",
    "        # this is needed to be able to profile the function\n",
    "        _cm(x, y)"
   ]
  },
  {
   "cell_type": "code",
   "execution_count": 17,
   "id": "0a7f2b1f-4b87-4dde-a46b-2acec5ac93ba",
   "metadata": {
    "execution": {
     "iopub.execute_input": "2021-11-19T18:27:14.949037Z",
     "iopub.status.busy": "2021-11-19T18:27:14.948556Z",
     "iopub.status.idle": "2021-11-19T18:27:55.742390Z",
     "shell.execute_reply": "2021-11-19T18:27:55.742736Z"
    },
    "papermill": {
     "duration": 40.854838,
     "end_time": "2021-11-19T18:27:55.742847",
     "exception": false,
     "start_time": "2021-11-19T18:27:14.888009",
     "status": "completed"
    },
    "tags": []
   },
   "outputs": [
    {
     "name": "stdout",
     "output_type": "stream",
     "text": [
      "5.08 s ± 21 ms per loop (mean ± std. dev. of 4 runs, 1 loop each)\n"
     ]
    }
   ],
   "source": [
    "%%timeit -n1 -r7 func()\n",
    "func()"
   ]
  },
  {
   "cell_type": "code",
   "execution_count": 18,
   "id": "74acbe27-9807-4f26-8b7e-b74d0f745b63",
   "metadata": {
    "execution": {
     "iopub.execute_input": "2021-11-19T18:27:55.853064Z",
     "iopub.status.busy": "2021-11-19T18:27:55.852508Z",
     "iopub.status.idle": "2021-11-19T18:28:00.983283Z",
     "shell.execute_reply": "2021-11-19T18:28:00.983836Z"
    },
    "papermill": {
     "duration": 5.188047,
     "end_time": "2021-11-19T18:28:00.983979",
     "exception": false,
     "start_time": "2021-11-19T18:27:55.795932",
     "status": "completed"
    },
    "tags": []
   },
   "outputs": [
    {
     "name": "stdout",
     "output_type": "stream",
     "text": [
      " \n",
      "*** Profile printout saved to text file '09-n_samples_large.txt'. \n"
     ]
    }
   ],
   "source": [
    "%%prun -s cumulative -l 20 -T 09-n_samples_large.txt\n",
    "func()"
   ]
  },
  {
   "cell_type": "markdown",
   "id": "219f3bd5-7d70-45c5-9e35-bec8bbce6ed8",
   "metadata": {
    "papermill": {
     "duration": 0.053981,
     "end_time": "2021-11-19T18:28:01.092132",
     "exception": false,
     "start_time": "2021-11-19T18:28:01.038151",
     "status": "completed"
    },
    "tags": []
   },
   "source": [
    "**UPDATE**"
   ]
  },
  {
   "cell_type": "code",
   "execution_count": null,
   "id": "2aa76596-f126-4ba8-8bba-4d31225e0e5d",
   "metadata": {
    "papermill": {
     "duration": 0.053861,
     "end_time": "2021-11-19T18:28:01.199304",
     "exception": false,
     "start_time": "2021-11-19T18:28:01.145443",
     "status": "completed"
    },
    "tags": []
   },
   "outputs": [],
   "source": []
  }
 ],
 "metadata": {
  "jupytext": {
   "cell_metadata_filter": "all,-execution,-papermill,-trusted",
   "text_representation": {
    "extension": ".py",
    "format_name": "percent",
    "format_version": "1.3",
    "jupytext_version": "1.11.5"
   }
  },
  "kernelspec": {
   "display_name": "Python 3 (ipykernel)",
   "language": "python",
   "name": "python3"
  },
  "language_info": {
   "codemirror_mode": {
    "name": "ipython",
    "version": 3
   },
   "file_extension": ".py",
   "mimetype": "text/x-python",
   "name": "python",
   "nbconvert_exporter": "python",
   "pygments_lexer": "ipython3",
   "version": "3.9.7"
  },
  "papermill": {
   "default_parameters": {},
   "duration": 75.618296,
   "end_time": "2021-11-19T18:28:01.762491",
   "environment_variables": {},
   "exception": null,
   "input_path": "nbs/others/05_clustermatch_profiling/10_cm_optimized/09-cdist_parts_v04.ipynb",
   "output_path": "nbs/others/05_clustermatch_profiling/10_cm_optimized/09-cdist_parts_v04.run.ipynb",
   "parameters": {},
   "start_time": "2021-11-19T18:26:46.144195",
   "version": "2.3.3"
  }
 },
 "nbformat": 4,
 "nbformat_minor": 5
}
