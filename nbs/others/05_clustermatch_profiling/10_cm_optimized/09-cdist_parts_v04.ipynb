{
 "cells": [
  {
   "cell_type": "markdown",
   "id": "36c65ddb-8246-4b0c-a231-68a373acc2cf",
   "metadata": {
    "papermill": {
     "duration": 0.080426,
     "end_time": "2021-11-24T06:28:13.325322",
     "exception": false,
     "start_time": "2021-11-24T06:28:13.244896",
     "status": "completed"
    },
    "tags": []
   },
   "source": [
    "# Description"
   ]
  },
  {
   "cell_type": "markdown",
   "id": "337633a8-d03e-4509-b89d-f8daee598958",
   "metadata": {
    "papermill": {
     "duration": 0.04599,
     "end_time": "2021-11-24T06:28:13.416538",
     "exception": false,
     "start_time": "2021-11-24T06:28:13.370548",
     "status": "completed"
    },
    "tags": []
   },
   "source": [
    "Exactly the same code as in `08`, but here I run the notebook in a different machine (desktop)."
   ]
  },
  {
   "cell_type": "markdown",
   "id": "63c2b099-cc44-4fe2-93d1-40336e0a8466",
   "metadata": {
    "papermill": {
     "duration": 0.045818,
     "end_time": "2021-11-24T06:28:13.509744",
     "exception": false,
     "start_time": "2021-11-24T06:28:13.463926",
     "status": "completed"
    },
    "tags": []
   },
   "source": [
    "# Remove pycache dir"
   ]
  },
  {
   "cell_type": "code",
   "execution_count": 1,
   "id": "960c4ff0-2a73-4eaa-97d6-3269102233eb",
   "metadata": {
    "execution": {
     "iopub.execute_input": "2021-11-24T06:28:13.607828Z",
     "iopub.status.busy": "2021-11-24T06:28:13.607295Z",
     "iopub.status.idle": "2021-11-24T06:28:14.195648Z",
     "shell.execute_reply": "2021-11-24T06:28:14.193902Z"
    },
    "papermill": {
     "duration": 0.641105,
     "end_time": "2021-11-24T06:28:14.196091",
     "exception": false,
     "start_time": "2021-11-24T06:28:13.554986",
     "status": "completed"
    },
    "tags": []
   },
   "outputs": [
    {
     "name": "stdout",
     "output_type": "stream",
     "text": [
      "/opt/code\r\n"
     ]
    }
   ],
   "source": [
    "!echo ${CODE_DIR}"
   ]
  },
  {
   "cell_type": "code",
   "execution_count": 2,
   "id": "e18db58a-316a-445b-a376-8b2ec18e08d8",
   "metadata": {
    "execution": {
     "iopub.execute_input": "2021-11-24T06:28:14.322968Z",
     "iopub.status.busy": "2021-11-24T06:28:14.322504Z",
     "iopub.status.idle": "2021-11-24T06:28:14.921991Z",
     "shell.execute_reply": "2021-11-24T06:28:14.923522Z"
    },
    "papermill": {
     "duration": 0.651775,
     "end_time": "2021-11-24T06:28:14.923989",
     "exception": false,
     "start_time": "2021-11-24T06:28:14.272214",
     "status": "completed"
    },
    "tags": []
   },
   "outputs": [
    {
     "name": "stdout",
     "output_type": "stream",
     "text": [
      "/opt/code/libs/clustermatch/__pycache__\r\n",
      "/opt/code/libs/clustermatch/sklearn/__pycache__\r\n",
      "/opt/code/libs/clustermatch/scipy/__pycache__\r\n",
      "/opt/code/libs/clustermatch/pytorch/__pycache__\r\n"
     ]
    }
   ],
   "source": [
    "!find ${CODE_DIR} -regex '^.*\\(__pycache__\\)$' -print"
   ]
  },
  {
   "cell_type": "code",
   "execution_count": 3,
   "id": "b54099b0-a990-4bbd-bcbd-e206eb0f0f0e",
   "metadata": {
    "execution": {
     "iopub.execute_input": "2021-11-24T06:28:15.058329Z",
     "iopub.status.busy": "2021-11-24T06:28:15.057871Z",
     "iopub.status.idle": "2021-11-24T06:28:15.671045Z",
     "shell.execute_reply": "2021-11-24T06:28:15.669175Z"
    },
    "papermill": {
     "duration": 0.664981,
     "end_time": "2021-11-24T06:28:15.671414",
     "exception": false,
     "start_time": "2021-11-24T06:28:15.006433",
     "status": "completed"
    },
    "tags": []
   },
   "outputs": [
    {
     "name": "stdout",
     "output_type": "stream",
     "text": [
      "find: ‘/opt/code/libs/clustermatch/__pycache__’: No such file or directory\r\n",
      "find: ‘/opt/code/libs/clustermatch/sklearn/__pycache__’: No such file or directory\r\n",
      "find: ‘/opt/code/libs/clustermatch/scipy/__pycache__’: No such file or directory\r\n",
      "find: ‘/opt/code/libs/clustermatch/pytorch/__pycache__’: No such file or directory\r\n"
     ]
    }
   ],
   "source": [
    "!find ${CODE_DIR} -regex '^.*\\(__pycache__\\)$' -exec rm -rf {} \\;"
   ]
  },
  {
   "cell_type": "code",
   "execution_count": 4,
   "id": "7a9a8098-8160-46bf-8d83-bc398cbe2382",
   "metadata": {
    "execution": {
     "iopub.execute_input": "2021-11-24T06:28:15.771382Z",
     "iopub.status.busy": "2021-11-24T06:28:15.770932Z",
     "iopub.status.idle": "2021-11-24T06:28:16.395024Z",
     "shell.execute_reply": "2021-11-24T06:28:16.393493Z"
    },
    "papermill": {
     "duration": 0.675634,
     "end_time": "2021-11-24T06:28:16.395406",
     "exception": false,
     "start_time": "2021-11-24T06:28:15.719772",
     "status": "completed"
    },
    "tags": []
   },
   "outputs": [],
   "source": [
    "!find ${CODE_DIR} -regex '^.*\\(__pycache__\\)$' -print"
   ]
  },
  {
   "cell_type": "markdown",
   "id": "c2251313-41ac-46fd-a845-0f209689ecf6",
   "metadata": {
    "papermill": {
     "duration": 0.048036,
     "end_time": "2021-11-24T06:28:16.525697",
     "exception": false,
     "start_time": "2021-11-24T06:28:16.477661",
     "status": "completed"
    },
    "tags": []
   },
   "source": [
    "# Modules"
   ]
  },
  {
   "cell_type": "code",
   "execution_count": 5,
   "id": "987ef5f1-be49-4a6c-a4f4-b24a0a2094cb",
   "metadata": {
    "execution": {
     "iopub.execute_input": "2021-11-24T06:28:16.625066Z",
     "iopub.status.busy": "2021-11-24T06:28:16.624611Z",
     "iopub.status.idle": "2021-11-24T06:28:16.943394Z",
     "shell.execute_reply": "2021-11-24T06:28:16.942997Z"
    },
    "papermill": {
     "duration": 0.370295,
     "end_time": "2021-11-24T06:28:16.943491",
     "exception": false,
     "start_time": "2021-11-24T06:28:16.573196",
     "status": "completed"
    },
    "tags": []
   },
   "outputs": [],
   "source": [
    "import numpy as np\n",
    "\n",
    "from clustermatch.coef import cm"
   ]
  },
  {
   "cell_type": "markdown",
   "id": "24399ccb-d33d-4bad-9baf-638c9c56feb2",
   "metadata": {
    "papermill": {
     "duration": 0.04729,
     "end_time": "2021-11-24T06:28:17.039306",
     "exception": false,
     "start_time": "2021-11-24T06:28:16.992016",
     "status": "completed"
    },
    "tags": []
   },
   "source": [
    "# Settings"
   ]
  },
  {
   "cell_type": "code",
   "execution_count": 6,
   "id": "c609cefa-f513-4cf8-9573-367744e31c5f",
   "metadata": {
    "execution": {
     "iopub.execute_input": "2021-11-24T06:28:17.140734Z",
     "iopub.status.busy": "2021-11-24T06:28:17.140119Z",
     "iopub.status.idle": "2021-11-24T06:28:17.144131Z",
     "shell.execute_reply": "2021-11-24T06:28:17.143612Z"
    },
    "papermill": {
     "duration": 0.057495,
     "end_time": "2021-11-24T06:28:17.144252",
     "exception": false,
     "start_time": "2021-11-24T06:28:17.086757",
     "status": "completed"
    },
    "tags": []
   },
   "outputs": [],
   "source": [
    "N_REPS = 10"
   ]
  },
  {
   "cell_type": "code",
   "execution_count": 7,
   "id": "c0341a42-b8de-419f-ab37-1e4fee9dde75",
   "metadata": {
    "execution": {
     "iopub.execute_input": "2021-11-24T06:28:17.250079Z",
     "iopub.status.busy": "2021-11-24T06:28:17.249620Z",
     "iopub.status.idle": "2021-11-24T06:28:17.251789Z",
     "shell.execute_reply": "2021-11-24T06:28:17.251338Z"
    },
    "papermill": {
     "duration": 0.054252,
     "end_time": "2021-11-24T06:28:17.251906",
     "exception": false,
     "start_time": "2021-11-24T06:28:17.197654",
     "status": "completed"
    },
    "tags": []
   },
   "outputs": [],
   "source": [
    "np.random.seed(0)"
   ]
  },
  {
   "cell_type": "markdown",
   "id": "6fd3067b-a4f7-475e-9575-20246934537d",
   "metadata": {
    "papermill": {
     "duration": 0.047479,
     "end_time": "2021-11-24T06:28:17.348485",
     "exception": false,
     "start_time": "2021-11-24T06:28:17.301006",
     "status": "completed"
    },
    "tags": []
   },
   "source": [
    "# Setup"
   ]
  },
  {
   "cell_type": "code",
   "execution_count": 8,
   "id": "02e0507c-43ff-4693-8a3b-8ccd8f23168c",
   "metadata": {
    "execution": {
     "iopub.execute_input": "2021-11-24T06:28:17.448108Z",
     "iopub.status.busy": "2021-11-24T06:28:17.447588Z",
     "iopub.status.idle": "2021-11-24T06:28:26.083382Z",
     "shell.execute_reply": "2021-11-24T06:28:26.082998Z"
    },
    "papermill": {
     "duration": 8.687468,
     "end_time": "2021-11-24T06:28:26.083479",
     "exception": false,
     "start_time": "2021-11-24T06:28:17.396011",
     "status": "completed"
    },
    "tags": []
   },
   "outputs": [
    {
     "data": {
      "text/plain": [
       "0.15625"
      ]
     },
     "execution_count": 8,
     "metadata": {},
     "output_type": "execute_result"
    }
   ],
   "source": [
    "# let numba compile all the code before profiling\n",
    "cm(np.random.rand(10), np.random.rand(10))"
   ]
  },
  {
   "cell_type": "markdown",
   "id": "8549179d-1517-4a40-9a51-b95dc02d0fcc",
   "metadata": {
    "papermill": {
     "duration": 0.052322,
     "end_time": "2021-11-24T06:28:26.184531",
     "exception": false,
     "start_time": "2021-11-24T06:28:26.132209",
     "status": "completed"
    },
    "tags": []
   },
   "source": [
    "# Run with `n_samples` small"
   ]
  },
  {
   "cell_type": "code",
   "execution_count": 9,
   "id": "ddb768d7-9b74-424c-bdb9-9e52b9e5b181",
   "metadata": {
    "execution": {
     "iopub.execute_input": "2021-11-24T06:28:26.288307Z",
     "iopub.status.busy": "2021-11-24T06:28:26.287840Z",
     "iopub.status.idle": "2021-11-24T06:28:26.289806Z",
     "shell.execute_reply": "2021-11-24T06:28:26.289362Z"
    },
    "papermill": {
     "duration": 0.053787,
     "end_time": "2021-11-24T06:28:26.289898",
     "exception": false,
     "start_time": "2021-11-24T06:28:26.236111",
     "status": "completed"
    },
    "tags": []
   },
   "outputs": [],
   "source": [
    "N_SAMPLES = 100"
   ]
  },
  {
   "cell_type": "code",
   "execution_count": 10,
   "id": "6f2ff213-d6b7-458f-acbf-8c73dd497a2a",
   "metadata": {
    "execution": {
     "iopub.execute_input": "2021-11-24T06:28:26.390976Z",
     "iopub.status.busy": "2021-11-24T06:28:26.390524Z",
     "iopub.status.idle": "2021-11-24T06:28:26.392416Z",
     "shell.execute_reply": "2021-11-24T06:28:26.392054Z"
    },
    "papermill": {
     "duration": 0.053902,
     "end_time": "2021-11-24T06:28:26.392512",
     "exception": false,
     "start_time": "2021-11-24T06:28:26.338610",
     "status": "completed"
    },
    "tags": []
   },
   "outputs": [],
   "source": [
    "x = np.random.rand(N_SAMPLES)\n",
    "y = np.random.rand(N_SAMPLES)"
   ]
  },
  {
   "cell_type": "code",
   "execution_count": 11,
   "id": "d63012be-4fc7-4fba-bccd-ad155905d1d6",
   "metadata": {
    "execution": {
     "iopub.execute_input": "2021-11-24T06:28:26.495007Z",
     "iopub.status.busy": "2021-11-24T06:28:26.494563Z",
     "iopub.status.idle": "2021-11-24T06:28:26.496775Z",
     "shell.execute_reply": "2021-11-24T06:28:26.496332Z"
    },
    "papermill": {
     "duration": 0.054322,
     "end_time": "2021-11-24T06:28:26.496868",
     "exception": false,
     "start_time": "2021-11-24T06:28:26.442546",
     "status": "completed"
    },
    "tags": []
   },
   "outputs": [],
   "source": [
    "def func():\n",
    "    for i in range(N_REPS):\n",
    "        cm(x, y)"
   ]
  },
  {
   "cell_type": "code",
   "execution_count": 12,
   "id": "c0abc65a-2f3c-4476-9c2a-f8d7753b75e6",
   "metadata": {
    "execution": {
     "iopub.execute_input": "2021-11-24T06:28:26.600436Z",
     "iopub.status.busy": "2021-11-24T06:28:26.599747Z",
     "iopub.status.idle": "2021-11-24T06:28:29.486405Z",
     "shell.execute_reply": "2021-11-24T06:28:29.487136Z"
    },
    "papermill": {
     "duration": 2.941571,
     "end_time": "2021-11-24T06:28:29.487283",
     "exception": false,
     "start_time": "2021-11-24T06:28:26.545712",
     "status": "completed"
    },
    "tags": []
   },
   "outputs": [
    {
     "name": "stdout",
     "output_type": "stream",
     "text": [
      "32.8 ms ± 1.77 ms per loop (mean ± std. dev. of 7 runs, 10 loops each)\n"
     ]
    }
   ],
   "source": [
    "%%timeit func()\n",
    "func()"
   ]
  },
  {
   "cell_type": "code",
   "execution_count": 13,
   "id": "e80a7b02-310f-4bd9-90d5-2a41186db39e",
   "metadata": {
    "execution": {
     "iopub.execute_input": "2021-11-24T06:28:29.595557Z",
     "iopub.status.busy": "2021-11-24T06:28:29.594997Z",
     "iopub.status.idle": "2021-11-24T06:28:29.633795Z",
     "shell.execute_reply": "2021-11-24T06:28:29.633280Z"
    },
    "papermill": {
     "duration": 0.092002,
     "end_time": "2021-11-24T06:28:29.633908",
     "exception": false,
     "start_time": "2021-11-24T06:28:29.541906",
     "status": "completed"
    },
    "tags": []
   },
   "outputs": [
    {
     "name": "stdout",
     "output_type": "stream",
     "text": [
      " \n",
      "*** Profile printout saved to text file '09-n_samples_small.txt'. \n"
     ]
    }
   ],
   "source": [
    "%%prun -s cumulative -l 20 -T 09-n_samples_small.txt\n",
    "func()"
   ]
  },
  {
   "cell_type": "markdown",
   "id": "f6b9adcf-1da4-4496-b05f-47952fd80d7f",
   "metadata": {
    "papermill": {
     "duration": 0.050255,
     "end_time": "2021-11-24T06:28:29.734675",
     "exception": false,
     "start_time": "2021-11-24T06:28:29.684420",
     "status": "completed"
    },
    "tags": []
   },
   "source": [
    "# Run with `n_samples` large"
   ]
  },
  {
   "cell_type": "code",
   "execution_count": 14,
   "id": "7fb2ab2e-a6de-412b-9540-d00f8641290e",
   "metadata": {
    "execution": {
     "iopub.execute_input": "2021-11-24T06:28:29.837906Z",
     "iopub.status.busy": "2021-11-24T06:28:29.836749Z",
     "iopub.status.idle": "2021-11-24T06:28:29.840228Z",
     "shell.execute_reply": "2021-11-24T06:28:29.839828Z"
    },
    "papermill": {
     "duration": 0.055631,
     "end_time": "2021-11-24T06:28:29.840321",
     "exception": false,
     "start_time": "2021-11-24T06:28:29.784690",
     "status": "completed"
    },
    "tags": []
   },
   "outputs": [],
   "source": [
    "N_SAMPLES = 100000"
   ]
  },
  {
   "cell_type": "code",
   "execution_count": 15,
   "id": "161cf922-41f7-4ced-af1f-e3d25b36b200",
   "metadata": {
    "execution": {
     "iopub.execute_input": "2021-11-24T06:28:29.945097Z",
     "iopub.status.busy": "2021-11-24T06:28:29.944659Z",
     "iopub.status.idle": "2021-11-24T06:28:29.948623Z",
     "shell.execute_reply": "2021-11-24T06:28:29.948223Z"
    },
    "papermill": {
     "duration": 0.056894,
     "end_time": "2021-11-24T06:28:29.948720",
     "exception": false,
     "start_time": "2021-11-24T06:28:29.891826",
     "status": "completed"
    },
    "tags": []
   },
   "outputs": [],
   "source": [
    "x = np.random.rand(N_SAMPLES)\n",
    "y = np.random.rand(N_SAMPLES)"
   ]
  },
  {
   "cell_type": "code",
   "execution_count": 16,
   "id": "ede7a328-bad3-40a2-a179-1148a3229620",
   "metadata": {
    "execution": {
     "iopub.execute_input": "2021-11-24T06:28:30.052663Z",
     "iopub.status.busy": "2021-11-24T06:28:30.052197Z",
     "iopub.status.idle": "2021-11-24T06:28:30.053702Z",
     "shell.execute_reply": "2021-11-24T06:28:30.054043Z"
    },
    "papermill": {
     "duration": 0.055366,
     "end_time": "2021-11-24T06:28:30.054157",
     "exception": false,
     "start_time": "2021-11-24T06:28:29.998791",
     "status": "completed"
    },
    "tags": []
   },
   "outputs": [],
   "source": [
    "def func():\n",
    "    for i in range(N_REPS):\n",
    "        cm(x, y)"
   ]
  },
  {
   "cell_type": "code",
   "execution_count": 17,
   "id": "0a7f2b1f-4b87-4dde-a46b-2acec5ac93ba",
   "metadata": {
    "execution": {
     "iopub.execute_input": "2021-11-24T06:28:30.158535Z",
     "iopub.status.busy": "2021-11-24T06:28:30.157960Z",
     "iopub.status.idle": "2021-11-24T06:29:43.929681Z",
     "shell.execute_reply": "2021-11-24T06:29:43.930027Z"
    },
    "papermill": {
     "duration": 73.825222,
     "end_time": "2021-11-24T06:29:43.930137",
     "exception": false,
     "start_time": "2021-11-24T06:28:30.104915",
     "status": "completed"
    },
    "tags": []
   },
   "outputs": [
    {
     "name": "stdout",
     "output_type": "stream",
     "text": [
      "4.61 s ± 5.12 ms per loop (mean ± std. dev. of 7 runs, 1 loop each)\n"
     ]
    }
   ],
   "source": [
    "%%timeit func()\n",
    "func()"
   ]
  },
  {
   "cell_type": "code",
   "execution_count": 18,
   "id": "74acbe27-9807-4f26-8b7e-b74d0f745b63",
   "metadata": {
    "execution": {
     "iopub.execute_input": "2021-11-24T06:29:44.035842Z",
     "iopub.status.busy": "2021-11-24T06:29:44.035297Z",
     "iopub.status.idle": "2021-11-24T06:29:48.663662Z",
     "shell.execute_reply": "2021-11-24T06:29:48.663222Z"
    },
    "papermill": {
     "duration": 4.682803,
     "end_time": "2021-11-24T06:29:48.663753",
     "exception": false,
     "start_time": "2021-11-24T06:29:43.980950",
     "status": "completed"
    },
    "tags": []
   },
   "outputs": [
    {
     "name": "stdout",
     "output_type": "stream",
     "text": [
      " \n",
      "*** Profile printout saved to text file '09-n_samples_large.txt'. \n"
     ]
    }
   ],
   "source": [
    "%%prun -s cumulative -l 20 -T 09-n_samples_large.txt\n",
    "func()"
   ]
  },
  {
   "cell_type": "code",
   "execution_count": null,
   "id": "2aa76596-f126-4ba8-8bba-4d31225e0e5d",
   "metadata": {
    "papermill": {
     "duration": 0.051422,
     "end_time": "2021-11-24T06:29:48.766794",
     "exception": false,
     "start_time": "2021-11-24T06:29:48.715372",
     "status": "completed"
    },
    "tags": []
   },
   "outputs": [],
   "source": []
  }
 ],
 "metadata": {
  "jupytext": {
   "cell_metadata_filter": "all,-execution,-papermill,-trusted"
  },
  "kernelspec": {
   "display_name": "Python 3 (ipykernel)",
   "language": "python",
   "name": "python3"
  },
  "language_info": {
   "codemirror_mode": {
    "name": "ipython",
    "version": 3
   },
   "file_extension": ".py",
   "mimetype": "text/x-python",
   "name": "python",
   "nbconvert_exporter": "python",
   "pygments_lexer": "ipython3",
   "version": "3.9.7"
  },
  "papermill": {
   "default_parameters": {},
   "duration": 97.221334,
   "end_time": "2021-11-24T06:29:49.226965",
   "environment_variables": {},
   "exception": null,
   "input_path": "nbs/others/05_clustermatch_profiling/10_cm_optimized/09-cdist_parts_v04.ipynb",
   "output_path": "nbs/others/05_clustermatch_profiling/10_cm_optimized/09-cdist_parts_v04.run.ipynb",
   "parameters": {},
   "start_time": "2021-11-24T06:28:12.005631",
   "version": "2.3.3"
  }
 },
 "nbformat": 4,
 "nbformat_minor": 5
}
