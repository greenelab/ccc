{
 "cells": [
  {
   "cell_type": "markdown",
   "id": "744d19b4-b770-43f0-90bc-7c54450f8676",
   "metadata": {
    "papermill": {
     "duration": 0.007995,
     "end_time": "2021-09-11T00:48:26.139815",
     "exception": false,
     "start_time": "2021-09-11T00:48:26.131820",
     "status": "completed"
    },
    "tags": []
   },
   "source": [
    "# Description"
   ]
  },
  {
   "cell_type": "markdown",
   "id": "771c7338-cfa3-488d-9f08-385c2f8ccd20",
   "metadata": {
    "papermill": {
     "duration": 0.007216,
     "end_time": "2021-09-11T00:48:26.154532",
     "exception": false,
     "start_time": "2021-09-11T00:48:26.147316",
     "status": "completed"
    },
    "tags": []
   },
   "source": [
    "This file actually does not compare different ari implementations. The name is kept to ease comparison with the previous runs from `05_cm_optimized` and `06_cm_optimized`."
   ]
  },
  {
   "cell_type": "markdown",
   "id": "ab9c1905-6d5e-435b-a1b2-701c754d770d",
   "metadata": {
    "papermill": {
     "duration": 0.005742,
     "end_time": "2021-09-11T00:48:26.167117",
     "exception": false,
     "start_time": "2021-09-11T00:48:26.161375",
     "status": "completed"
    },
    "tags": []
   },
   "source": [
    "# Modules"
   ]
  },
  {
   "cell_type": "code",
   "execution_count": 1,
   "id": "0bd1d6fe-1df8-41e2-87bc-1a4bef0e0c83",
   "metadata": {
    "execution": {
     "iopub.execute_input": "2021-09-11T00:48:26.185551Z",
     "iopub.status.busy": "2021-09-11T00:48:26.185075Z",
     "iopub.status.idle": "2021-09-11T00:48:26.482412Z",
     "shell.execute_reply": "2021-09-11T00:48:26.481969Z"
    },
    "papermill": {
     "duration": 0.309654,
     "end_time": "2021-09-11T00:48:26.482522",
     "exception": false,
     "start_time": "2021-09-11T00:48:26.172868",
     "status": "completed"
    },
    "tags": []
   },
   "outputs": [],
   "source": [
    "import numpy as np\n",
    "\n",
    "from clustermatch import coef"
   ]
  },
  {
   "cell_type": "markdown",
   "id": "5db863ce-d030-425b-afda-2e04ea3cc55a",
   "metadata": {
    "papermill": {
     "duration": 0.005686,
     "end_time": "2021-09-11T00:48:26.494649",
     "exception": false,
     "start_time": "2021-09-11T00:48:26.488963",
     "status": "completed"
    },
    "tags": []
   },
   "source": [
    "# Data"
   ]
  },
  {
   "cell_type": "code",
   "execution_count": 2,
   "id": "2316ffcd-a6e4-453f-bb52-779685c5c5bf",
   "metadata": {
    "execution": {
     "iopub.execute_input": "2021-09-11T00:48:26.510496Z",
     "iopub.status.busy": "2021-09-11T00:48:26.510045Z",
     "iopub.status.idle": "2021-09-11T00:48:26.512182Z",
     "shell.execute_reply": "2021-09-11T00:48:26.511758Z"
    },
    "papermill": {
     "duration": 0.010814,
     "end_time": "2021-09-11T00:48:26.512277",
     "exception": false,
     "start_time": "2021-09-11T00:48:26.501463",
     "status": "completed"
    },
    "tags": []
   },
   "outputs": [],
   "source": [
    "n_genes, n_samples = 100, 1000"
   ]
  },
  {
   "cell_type": "code",
   "execution_count": 3,
   "id": "b2f92fb1-113d-479b-8bbf-2be229e26e8f",
   "metadata": {
    "execution": {
     "iopub.execute_input": "2021-09-11T00:48:26.528132Z",
     "iopub.status.busy": "2021-09-11T00:48:26.527635Z",
     "iopub.status.idle": "2021-09-11T00:48:26.529626Z",
     "shell.execute_reply": "2021-09-11T00:48:26.529243Z"
    },
    "papermill": {
     "duration": 0.011107,
     "end_time": "2021-09-11T00:48:26.529720",
     "exception": false,
     "start_time": "2021-09-11T00:48:26.518613",
     "status": "completed"
    },
    "tags": []
   },
   "outputs": [],
   "source": [
    "np.random.seed(0)"
   ]
  },
  {
   "cell_type": "code",
   "execution_count": 4,
   "id": "63638c0b-b436-48a9-93e0-db2adb939a61",
   "metadata": {
    "execution": {
     "iopub.execute_input": "2021-09-11T00:48:26.545268Z",
     "iopub.status.busy": "2021-09-11T00:48:26.544820Z",
     "iopub.status.idle": "2021-09-11T00:48:26.548091Z",
     "shell.execute_reply": "2021-09-11T00:48:26.547640Z"
    },
    "papermill": {
     "duration": 0.012081,
     "end_time": "2021-09-11T00:48:26.548246",
     "exception": false,
     "start_time": "2021-09-11T00:48:26.536165",
     "status": "completed"
    },
    "tags": []
   },
   "outputs": [],
   "source": [
    "data = np.random.rand(n_genes, n_samples)"
   ]
  },
  {
   "cell_type": "code",
   "execution_count": 5,
   "id": "808017ed-9a8a-4bf7-a3dd-42317a39ce8f",
   "metadata": {
    "execution": {
     "iopub.execute_input": "2021-09-11T00:48:26.568602Z",
     "iopub.status.busy": "2021-09-11T00:48:26.568061Z",
     "iopub.status.idle": "2021-09-11T00:48:26.571757Z",
     "shell.execute_reply": "2021-09-11T00:48:26.571367Z"
    },
    "papermill": {
     "duration": 0.017068,
     "end_time": "2021-09-11T00:48:26.571854",
     "exception": false,
     "start_time": "2021-09-11T00:48:26.554786",
     "status": "completed"
    },
    "tags": []
   },
   "outputs": [
    {
     "data": {
      "text/plain": [
       "(100, 1000)"
      ]
     },
     "execution_count": 5,
     "metadata": {},
     "output_type": "execute_result"
    }
   ],
   "source": [
    "data.shape"
   ]
  },
  {
   "cell_type": "markdown",
   "id": "d3714f75-f5af-46bb-a10f-234a88ddbeb3",
   "metadata": {
    "papermill": {
     "duration": 0.006501,
     "end_time": "2021-09-11T00:48:26.585442",
     "exception": false,
     "start_time": "2021-09-11T00:48:26.578941",
     "status": "completed"
    },
    "tags": []
   },
   "source": [
    "# Improved implementation (ARI implemented in numba)"
   ]
  },
  {
   "cell_type": "code",
   "execution_count": 6,
   "id": "ace87b57-029a-4738-ab3c-6cdf18d92743",
   "metadata": {
    "execution": {
     "iopub.execute_input": "2021-09-11T00:48:26.602494Z",
     "iopub.status.busy": "2021-09-11T00:48:26.602043Z",
     "iopub.status.idle": "2021-09-11T00:48:26.603966Z",
     "shell.execute_reply": "2021-09-11T00:48:26.603540Z"
    },
    "papermill": {
     "duration": 0.01196,
     "end_time": "2021-09-11T00:48:26.604067",
     "exception": false,
     "start_time": "2021-09-11T00:48:26.592107",
     "status": "completed"
    },
    "tags": []
   },
   "outputs": [],
   "source": [
    "def func():\n",
    "    n_clust = list(range(2, 10 + 1))\n",
    "    return coef.ccc(data, internal_n_clusters=n_clust)"
   ]
  },
  {
   "cell_type": "code",
   "execution_count": 7,
   "id": "dcebf353-801a-4598-94e0-5c5e11002650",
   "metadata": {
    "execution": {
     "iopub.execute_input": "2021-09-11T00:48:26.621191Z",
     "iopub.status.busy": "2021-09-11T00:48:26.620709Z",
     "iopub.status.idle": "2021-09-11T00:53:01.120007Z",
     "shell.execute_reply": "2021-09-11T00:53:01.120371Z"
    },
    "papermill": {
     "duration": 274.509834,
     "end_time": "2021-09-11T00:53:01.120489",
     "exception": false,
     "start_time": "2021-09-11T00:48:26.610655",
     "status": "completed"
    },
    "tags": []
   },
   "outputs": [
    {
     "name": "stdout",
     "output_type": "stream",
     "text": [
      "16.2 s ± 28.1 ms per loop (mean ± std. dev. of 7 runs, 1 loop each)\n"
     ]
    }
   ],
   "source": [
    "%%timeit func()\n",
    "func()"
   ]
  },
  {
   "cell_type": "code",
   "execution_count": 8,
   "id": "31544659-dc3d-4d71-ad1c-ac86eaa5471c",
   "metadata": {
    "execution": {
     "iopub.execute_input": "2021-09-11T00:53:02.469344Z",
     "iopub.status.busy": "2021-09-11T00:53:02.468870Z",
     "iopub.status.idle": "2021-09-11T00:53:18.308794Z",
     "shell.execute_reply": "2021-09-11T00:53:18.308412Z"
    },
    "papermill": {
     "duration": 16.270101,
     "end_time": "2021-09-11T00:53:18.308896",
     "exception": false,
     "start_time": "2021-09-11T00:53:02.038795",
     "status": "completed"
    },
    "tags": []
   },
   "outputs": [
    {
     "name": "stdout",
     "output_type": "stream",
     "text": [
      " \n",
      "*** Profile printout saved to text file '04-cm_ari_numba.txt'. \n"
     ]
    }
   ],
   "source": [
    "%%prun -s cumulative -l 50 -T 04-cm_ari_numba.txt\n",
    "func()"
   ]
  },
  {
   "cell_type": "code",
   "execution_count": null,
   "id": "46815c91-f269-4c02-b90b-d31d1dffde41",
   "metadata": {
    "papermill": {
     "duration": 0.007001,
     "end_time": "2021-09-11T00:53:18.323603",
     "exception": false,
     "start_time": "2021-09-11T00:53:18.316602",
     "status": "completed"
    },
    "tags": []
   },
   "outputs": [],
   "source": []
  }
 ],
 "metadata": {
  "jupytext": {
   "cell_metadata_filter": "all,-execution,-papermill,-trusted"
  },
  "kernelspec": {
   "display_name": "Python 3 (ipykernel)",
   "language": "python",
   "name": "python3"
  },
  "language_info": {
   "codemirror_mode": {
    "name": "ipython",
    "version": 3
   },
   "file_extension": ".py",
   "mimetype": "text/x-python",
   "name": "python",
   "nbconvert_exporter": "python",
   "pygments_lexer": "ipython3",
   "version": "3.9.7"
  },
  "papermill": {
   "default_parameters": {},
   "duration": 293.775411,
   "end_time": "2021-09-11T00:53:18.841506",
   "environment_variables": {},
   "exception": null,
   "input_path": "nbs/99_clustermatch_profiling/07_cm_optimized2/04-compare_numba_ari.ipynb",
   "output_path": "nbs/99_clustermatch_profiling/07_cm_optimized2/04-compare_numba_ari.run.ipynb",
   "parameters": {},
   "start_time": "2021-09-11T00:48:25.066095",
   "version": "2.3.3"
  }
 },
 "nbformat": 4,
 "nbformat_minor": 5
}
