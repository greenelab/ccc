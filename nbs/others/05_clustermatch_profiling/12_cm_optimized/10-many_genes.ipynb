{
 "cells": [
  {
   "cell_type": "markdown",
   "id": "507e9319-381b-4934-987c-2958e7f6ace7",
   "metadata": {
    "papermill": {
     "duration": 0.004228,
     "end_time": "2023-09-09T18:12:00.620641",
     "exception": false,
     "start_time": "2023-09-09T18:12:00.616413",
     "status": "completed"
    },
    "tags": []
   },
   "source": [
    "# Description"
   ]
  },
  {
   "cell_type": "markdown",
   "id": "f7781939-7b51-4ce1-9954-2010ef02a72b",
   "metadata": {
    "papermill": {
     "duration": 0.003397,
     "end_time": "2023-09-09T18:12:00.634201",
     "exception": false,
     "start_time": "2023-09-09T18:12:00.630804",
     "status": "completed"
    },
    "tags": []
   },
   "source": [
    "Similar as `06` but it computes across gene pairs instead of data matrix."
   ]
  },
  {
   "cell_type": "markdown",
   "id": "72de9f6f-dc00-435e-9dba-871db859a78a",
   "metadata": {
    "papermill": {
     "duration": 0.003366,
     "end_time": "2023-09-09T18:12:00.642201",
     "exception": false,
     "start_time": "2023-09-09T18:12:00.638835",
     "status": "completed"
    },
    "tags": []
   },
   "source": [
    "# Remove pycache dir"
   ]
  },
  {
   "cell_type": "code",
   "execution_count": 1,
   "id": "88d32361-f1b5-4cf0-9a2c-7ab927d14b42",
   "metadata": {
    "execution": {
     "iopub.execute_input": "2023-09-09T18:12:00.650420Z",
     "iopub.status.busy": "2023-09-09T18:12:00.650187Z",
     "iopub.status.idle": "2023-09-09T18:12:00.903243Z",
     "shell.execute_reply": "2023-09-09T18:12:00.902647Z"
    },
    "papermill": {
     "duration": 0.258953,
     "end_time": "2023-09-09T18:12:00.904697",
     "exception": false,
     "start_time": "2023-09-09T18:12:00.645744",
     "status": "completed"
    },
    "tags": []
   },
   "outputs": [
    {
     "name": "stdout",
     "output_type": "stream",
     "text": [
      "/opt/code\r\n"
     ]
    }
   ],
   "source": [
    "!echo ${CODE_DIR}"
   ]
  },
  {
   "cell_type": "code",
   "execution_count": 2,
   "id": "8a27da6e-cf59-4276-888b-57e98fd23ccf",
   "metadata": {
    "execution": {
     "iopub.execute_input": "2023-09-09T18:12:00.920606Z",
     "iopub.status.busy": "2023-09-09T18:12:00.920136Z",
     "iopub.status.idle": "2023-09-09T18:12:01.170639Z",
     "shell.execute_reply": "2023-09-09T18:12:01.170024Z"
    },
    "papermill": {
     "duration": 0.262978,
     "end_time": "2023-09-09T18:12:01.172002",
     "exception": false,
     "start_time": "2023-09-09T18:12:00.909024",
     "status": "completed"
    },
    "tags": []
   },
   "outputs": [
    {
     "name": "stdout",
     "output_type": "stream",
     "text": [
      "/opt/code/libs/ccc/pytorch/__pycache__\r\n",
      "/opt/code/libs/ccc/utils/__pycache__\r\n",
      "/opt/code/libs/ccc/scipy/__pycache__\r\n",
      "/opt/code/libs/ccc/sklearn/__pycache__\r\n",
      "/opt/code/libs/ccc/__pycache__\r\n",
      "/opt/code/libs/ccc/coef/__pycache__\r\n"
     ]
    }
   ],
   "source": [
    "!find ${CODE_DIR}/libs -regex '^.*\\(__pycache__\\)$' -print"
   ]
  },
  {
   "cell_type": "code",
   "execution_count": 3,
   "id": "561480f7-c610-4f60-b40f-8100974ab4d1",
   "metadata": {
    "execution": {
     "iopub.execute_input": "2023-09-09T18:12:01.180551Z",
     "iopub.status.busy": "2023-09-09T18:12:01.180303Z",
     "iopub.status.idle": "2023-09-09T18:12:01.440791Z",
     "shell.execute_reply": "2023-09-09T18:12:01.440233Z"
    },
    "papermill": {
     "duration": 0.26639,
     "end_time": "2023-09-09T18:12:01.442190",
     "exception": false,
     "start_time": "2023-09-09T18:12:01.175800",
     "status": "completed"
    },
    "tags": []
   },
   "outputs": [
    {
     "name": "stdout",
     "output_type": "stream",
     "text": [
      "find: ‘/opt/code/libs/ccc/pytorch/__pycache__’: No such file or directory\r\n",
      "find: ‘/opt/code/libs/ccc/utils/__pycache__’: No such file or directory\r\n",
      "find: ‘/opt/code/libs/ccc/scipy/__pycache__’: No such file or directory\r\n",
      "find: ‘/opt/code/libs/ccc/sklearn/__pycache__’: No such file or directory\r\n",
      "find: ‘/opt/code/libs/ccc/__pycache__’: No such file or directory\r\n",
      "find: ‘/opt/code/libs/ccc/coef/__pycache__’: No such file or directory\r\n"
     ]
    }
   ],
   "source": [
    "!find ${CODE_DIR}/libs -regex '^.*\\(__pycache__\\)$' -exec rm -rf {} \\;"
   ]
  },
  {
   "cell_type": "code",
   "execution_count": 4,
   "id": "a5c90a17-c0ac-49f0-968d-ea9ea8710b00",
   "metadata": {
    "execution": {
     "iopub.execute_input": "2023-09-09T18:12:01.457688Z",
     "iopub.status.busy": "2023-09-09T18:12:01.457267Z",
     "iopub.status.idle": "2023-09-09T18:12:01.708954Z",
     "shell.execute_reply": "2023-09-09T18:12:01.708306Z"
    },
    "papermill": {
     "duration": 0.264267,
     "end_time": "2023-09-09T18:12:01.710323",
     "exception": false,
     "start_time": "2023-09-09T18:12:01.446056",
     "status": "completed"
    },
    "tags": []
   },
   "outputs": [],
   "source": [
    "!find ${CODE_DIR}/libs -regex '^.*\\(__pycache__\\)$' -print"
   ]
  },
  {
   "cell_type": "markdown",
   "id": "145563a2-3e46-4f62-8191-7444a0b315bb",
   "metadata": {
    "papermill": {
     "duration": 0.010275,
     "end_time": "2023-09-09T18:12:01.724473",
     "exception": false,
     "start_time": "2023-09-09T18:12:01.714198",
     "status": "completed"
    },
    "tags": []
   },
   "source": [
    "# Modules"
   ]
  },
  {
   "cell_type": "code",
   "execution_count": 5,
   "id": "bea3d48e-8823-403f-90f5-aea8a17b357c",
   "metadata": {
    "execution": {
     "iopub.execute_input": "2023-09-09T18:12:01.733156Z",
     "iopub.status.busy": "2023-09-09T18:12:01.732884Z",
     "iopub.status.idle": "2023-09-09T18:12:06.964372Z",
     "shell.execute_reply": "2023-09-09T18:12:06.963959Z"
    },
    "papermill": {
     "duration": 5.23782,
     "end_time": "2023-09-09T18:12:06.966062",
     "exception": false,
     "start_time": "2023-09-09T18:12:01.728242",
     "status": "completed"
    },
    "tags": []
   },
   "outputs": [],
   "source": [
    "import numpy as np\n",
    "\n",
    "from ccc.coef import ccc"
   ]
  },
  {
   "cell_type": "code",
   "execution_count": 6,
   "id": "df6b3793-930b-4c54-9f29-ecc47fc586fb",
   "metadata": {
    "execution": {
     "iopub.execute_input": "2023-09-09T18:12:06.974844Z",
     "iopub.status.busy": "2023-09-09T18:12:06.974751Z",
     "iopub.status.idle": "2023-09-09T18:12:06.981455Z",
     "shell.execute_reply": "2023-09-09T18:12:06.981101Z"
    },
    "papermill": {
     "duration": 0.012521,
     "end_time": "2023-09-09T18:12:06.982659",
     "exception": false,
     "start_time": "2023-09-09T18:12:06.970138",
     "status": "completed"
    },
    "tags": []
   },
   "outputs": [
    {
     "data": {
      "text/plain": [
       "0.0"
      ]
     },
     "execution_count": 6,
     "metadata": {},
     "output_type": "execute_result"
    }
   ],
   "source": [
    "# let numba compile all the code before profiling\n",
    "ccc(np.random.rand(10), np.random.rand(10))"
   ]
  },
  {
   "cell_type": "markdown",
   "id": "f8399ca8-265e-4e96-b582-54045cb2f9eb",
   "metadata": {
    "papermill": {
     "duration": 0.003743,
     "end_time": "2023-09-09T18:12:06.990362",
     "exception": false,
     "start_time": "2023-09-09T18:12:06.986619",
     "status": "completed"
    },
    "tags": []
   },
   "source": [
    "# Data"
   ]
  },
  {
   "cell_type": "code",
   "execution_count": 7,
   "id": "2316ffcd-a6e4-453f-bb52-779685c5c5bf",
   "metadata": {
    "execution": {
     "iopub.execute_input": "2023-09-09T18:12:06.998732Z",
     "iopub.status.busy": "2023-09-09T18:12:06.998478Z",
     "iopub.status.idle": "2023-09-09T18:12:07.000571Z",
     "shell.execute_reply": "2023-09-09T18:12:07.000224Z"
    },
    "papermill": {
     "duration": 0.007481,
     "end_time": "2023-09-09T18:12:07.001735",
     "exception": false,
     "start_time": "2023-09-09T18:12:06.994254",
     "status": "completed"
    },
    "tags": []
   },
   "outputs": [],
   "source": [
    "n_genes, n_samples = 500, 1000"
   ]
  },
  {
   "cell_type": "code",
   "execution_count": 8,
   "id": "b2f92fb1-113d-479b-8bbf-2be229e26e8f",
   "metadata": {
    "execution": {
     "iopub.execute_input": "2023-09-09T18:12:07.010063Z",
     "iopub.status.busy": "2023-09-09T18:12:07.009853Z",
     "iopub.status.idle": "2023-09-09T18:12:07.011869Z",
     "shell.execute_reply": "2023-09-09T18:12:07.011524Z"
    },
    "papermill": {
     "duration": 0.007392,
     "end_time": "2023-09-09T18:12:07.013047",
     "exception": false,
     "start_time": "2023-09-09T18:12:07.005655",
     "status": "completed"
    },
    "tags": []
   },
   "outputs": [],
   "source": [
    "np.random.seed(0)"
   ]
  },
  {
   "cell_type": "code",
   "execution_count": 9,
   "id": "63638c0b-b436-48a9-93e0-db2adb939a61",
   "metadata": {
    "execution": {
     "iopub.execute_input": "2023-09-09T18:12:07.021517Z",
     "iopub.status.busy": "2023-09-09T18:12:07.021271Z",
     "iopub.status.idle": "2023-09-09T18:12:07.028420Z",
     "shell.execute_reply": "2023-09-09T18:12:07.028016Z"
    },
    "papermill": {
     "duration": 0.012686,
     "end_time": "2023-09-09T18:12:07.029629",
     "exception": false,
     "start_time": "2023-09-09T18:12:07.016943",
     "status": "completed"
    },
    "tags": []
   },
   "outputs": [],
   "source": [
    "data = np.random.rand(n_genes, n_samples)"
   ]
  },
  {
   "cell_type": "code",
   "execution_count": 10,
   "id": "808017ed-9a8a-4bf7-a3dd-42317a39ce8f",
   "metadata": {
    "execution": {
     "iopub.execute_input": "2023-09-09T18:12:07.038411Z",
     "iopub.status.busy": "2023-09-09T18:12:07.038090Z",
     "iopub.status.idle": "2023-09-09T18:12:07.041239Z",
     "shell.execute_reply": "2023-09-09T18:12:07.040833Z"
    },
    "papermill": {
     "duration": 0.008913,
     "end_time": "2023-09-09T18:12:07.042474",
     "exception": false,
     "start_time": "2023-09-09T18:12:07.033561",
     "status": "completed"
    },
    "tags": []
   },
   "outputs": [
    {
     "data": {
      "text/plain": [
       "(500, 1000)"
      ]
     },
     "execution_count": 10,
     "metadata": {},
     "output_type": "execute_result"
    }
   ],
   "source": [
    "data.shape"
   ]
  },
  {
   "cell_type": "markdown",
   "id": "716e4219-cad5-453b-8331-47d310689e03",
   "metadata": {
    "papermill": {
     "duration": 0.003809,
     "end_time": "2023-09-09T18:12:07.050277",
     "exception": false,
     "start_time": "2023-09-09T18:12:07.046468",
     "status": "completed"
    },
    "tags": []
   },
   "source": [
    "# Profile"
   ]
  },
  {
   "cell_type": "code",
   "execution_count": 11,
   "id": "67807856-f337-4c6e-ae31-cd306577a314",
   "metadata": {
    "execution": {
     "iopub.execute_input": "2023-09-09T18:12:07.058865Z",
     "iopub.status.busy": "2023-09-09T18:12:07.058621Z",
     "iopub.status.idle": "2023-09-09T18:12:07.062381Z",
     "shell.execute_reply": "2023-09-09T18:12:07.061980Z"
    },
    "papermill": {
     "duration": 0.009298,
     "end_time": "2023-09-09T18:12:07.063565",
     "exception": false,
     "start_time": "2023-09-09T18:12:07.054267",
     "status": "completed"
    },
    "tags": []
   },
   "outputs": [],
   "source": [
    "def func():\n",
    "    res = np.full(int((data.shape[0] * (data.shape[0] - 1)) / 2), np.nan)\n",
    "\n",
    "    n_clust = list(range(2, 10 + 1))\n",
    "    idx = 0\n",
    "    for i in range(data.shape[0] - 1):\n",
    "        for j in range(i + 1, data.shape[0]):\n",
    "            res[idx] = ccc(data[i], data[j], internal_n_clusters=n_clust)\n",
    "            idx += 1"
   ]
  },
  {
   "cell_type": "code",
   "execution_count": 12,
   "id": "2965a695-5c0c-4e9e-8435-dcbfa610eb81",
   "metadata": {
    "execution": {
     "iopub.execute_input": "2023-09-09T18:12:07.072495Z",
     "iopub.status.busy": "2023-09-09T18:12:07.072142Z",
     "iopub.status.idle": "2023-09-09T19:18:22.968532Z",
     "shell.execute_reply": "2023-09-09T19:18:22.968023Z"
    },
    "papermill": {
     "duration": 3975.90621,
     "end_time": "2023-09-09T19:18:22.973787",
     "exception": false,
     "start_time": "2023-09-09T18:12:07.067577",
     "status": "completed"
    },
    "tags": []
   },
   "outputs": [
    {
     "name": "stdout",
     "output_type": "stream",
     "text": [
      "4min 7s ± 1.33 s per loop (mean ± std. dev. of 7 runs, 1 loop each)\n"
     ]
    }
   ],
   "source": [
    "%%timeit func()\n",
    "func()"
   ]
  },
  {
   "cell_type": "code",
   "execution_count": 13,
   "id": "51c7a416-064a-4669-a09f-16f837d32475",
   "metadata": {
    "execution": {
     "iopub.execute_input": "2023-09-09T19:18:22.987781Z",
     "iopub.status.busy": "2023-09-09T19:18:22.987528Z",
     "iopub.status.idle": "2023-09-09T19:23:00.166144Z",
     "shell.execute_reply": "2023-09-09T19:23:00.165685Z"
    },
    "papermill": {
     "duration": 277.188917,
     "end_time": "2023-09-09T19:23:00.171930",
     "exception": false,
     "start_time": "2023-09-09T19:18:22.983013",
     "status": "completed"
    },
    "tags": []
   },
   "outputs": [
    {
     "name": "stdout",
     "output_type": "stream",
     "text": [
      " \n",
      "*** Profile printout saved to text file '10-cm_many_genes.txt'. \n"
     ]
    }
   ],
   "source": [
    "%%prun -s cumulative -l 50 -T 10-cm_many_genes.txt\n",
    "func()"
   ]
  },
  {
   "cell_type": "code",
   "execution_count": null,
   "id": "e2556204-1c10-4e01-8c6c-ea63ddb37530",
   "metadata": {
    "papermill": {
     "duration": 0.003995,
     "end_time": "2023-09-09T19:23:00.184927",
     "exception": false,
     "start_time": "2023-09-09T19:23:00.180932",
     "status": "completed"
    },
    "tags": []
   },
   "outputs": [],
   "source": []
  }
 ],
 "metadata": {
  "jupytext": {
   "cell_metadata_filter": "all,-execution,-papermill,-trusted"
  },
  "kernelspec": {
   "display_name": "Python 3 (ipykernel)",
   "language": "python",
   "name": "python3"
  },
  "language_info": {
   "codemirror_mode": {
    "name": "ipython",
    "version": 3
   },
   "file_extension": ".py",
   "mimetype": "text/x-python",
   "name": "python",
   "nbconvert_exporter": "python",
   "pygments_lexer": "ipython3",
   "version": "3.9.12"
  },
  "papermill": {
   "default_parameters": {},
   "duration": 4260.956524,
   "end_time": "2023-09-09T19:23:00.612824",
   "environment_variables": {},
   "exception": null,
   "input_path": "nbs/others/05_clustermatch_profiling/12_cm_optimized/10-many_genes.ipynb",
   "output_path": "nbs/others/05_clustermatch_profiling/12_cm_optimized/10-many_genes.run.ipynb",
   "parameters": {},
   "start_time": "2023-09-09T18:11:59.656300",
   "version": "2.3.3"
  }
 },
 "nbformat": 4,
 "nbformat_minor": 5
}
