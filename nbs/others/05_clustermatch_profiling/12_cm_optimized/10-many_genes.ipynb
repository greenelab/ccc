{
 "cells": [
  {
   "cell_type": "markdown",
   "id": "507e9319-381b-4934-987c-2958e7f6ace7",
   "metadata": {
    "papermill": {
     "duration": 0.003888,
     "end_time": "2023-09-11T17:06:20.931263",
     "exception": false,
     "start_time": "2023-09-11T17:06:20.927375",
     "status": "completed"
    },
    "tags": []
   },
   "source": [
    "# Description"
   ]
  },
  {
   "cell_type": "markdown",
   "id": "f7781939-7b51-4ce1-9954-2010ef02a72b",
   "metadata": {
    "papermill": {
     "duration": 0.003119,
     "end_time": "2023-09-11T17:06:20.944572",
     "exception": false,
     "start_time": "2023-09-11T17:06:20.941453",
     "status": "completed"
    },
    "tags": []
   },
   "source": [
    "Similar as `06` but it computes across gene pairs instead of data matrix."
   ]
  },
  {
   "cell_type": "markdown",
   "id": "72de9f6f-dc00-435e-9dba-871db859a78a",
   "metadata": {
    "papermill": {
     "duration": 0.003121,
     "end_time": "2023-09-11T17:06:20.951932",
     "exception": false,
     "start_time": "2023-09-11T17:06:20.948811",
     "status": "completed"
    },
    "tags": []
   },
   "source": [
    "# Remove pycache dir"
   ]
  },
  {
   "cell_type": "code",
   "execution_count": 1,
   "id": "88d32361-f1b5-4cf0-9a2c-7ab927d14b42",
   "metadata": {
    "execution": {
     "iopub.execute_input": "2023-09-11T17:06:20.960077Z",
     "iopub.status.busy": "2023-09-11T17:06:20.959621Z",
     "iopub.status.idle": "2023-09-11T17:06:21.211185Z",
     "shell.execute_reply": "2023-09-11T17:06:21.210558Z"
    },
    "papermill": {
     "duration": 0.257737,
     "end_time": "2023-09-11T17:06:21.212922",
     "exception": false,
     "start_time": "2023-09-11T17:06:20.955185",
     "status": "completed"
    },
    "tags": []
   },
   "outputs": [
    {
     "name": "stdout",
     "output_type": "stream",
     "text": [
      "/opt/code\r\n"
     ]
    }
   ],
   "source": [
    "!echo ${CODE_DIR}"
   ]
  },
  {
   "cell_type": "code",
   "execution_count": 2,
   "id": "8a27da6e-cf59-4276-888b-57e98fd23ccf",
   "metadata": {
    "execution": {
     "iopub.execute_input": "2023-09-11T17:06:21.228430Z",
     "iopub.status.busy": "2023-09-11T17:06:21.228260Z",
     "iopub.status.idle": "2023-09-11T17:06:21.462595Z",
     "shell.execute_reply": "2023-09-11T17:06:21.461990Z"
    },
    "papermill": {
     "duration": 0.247091,
     "end_time": "2023-09-11T17:06:21.464126",
     "exception": false,
     "start_time": "2023-09-11T17:06:21.217035",
     "status": "completed"
    },
    "tags": []
   },
   "outputs": [
    {
     "name": "stdout",
     "output_type": "stream",
     "text": [
      "/opt/code/libs/ccc/pytorch/__pycache__\r\n",
      "/opt/code/libs/ccc/utils/__pycache__\r\n",
      "/opt/code/libs/ccc/scipy/__pycache__\r\n",
      "/opt/code/libs/ccc/sklearn/__pycache__\r\n",
      "/opt/code/libs/ccc/__pycache__\r\n",
      "/opt/code/libs/ccc/coef/__pycache__\r\n"
     ]
    }
   ],
   "source": [
    "!find ${CODE_DIR}/libs -regex '^.*\\(__pycache__\\)$' -print"
   ]
  },
  {
   "cell_type": "code",
   "execution_count": 3,
   "id": "561480f7-c610-4f60-b40f-8100974ab4d1",
   "metadata": {
    "execution": {
     "iopub.execute_input": "2023-09-11T17:06:21.479256Z",
     "iopub.status.busy": "2023-09-11T17:06:21.479090Z",
     "iopub.status.idle": "2023-09-11T17:06:21.738898Z",
     "shell.execute_reply": "2023-09-11T17:06:21.738281Z"
    },
    "papermill": {
     "duration": 0.272518,
     "end_time": "2023-09-11T17:06:21.740422",
     "exception": false,
     "start_time": "2023-09-11T17:06:21.467904",
     "status": "completed"
    },
    "tags": []
   },
   "outputs": [
    {
     "name": "stdout",
     "output_type": "stream",
     "text": [
      "find: ‘/opt/code/libs/ccc/pytorch/__pycache__’: No such file or directory\r\n",
      "find: ‘/opt/code/libs/ccc/utils/__pycache__’: No such file or directory\r\n",
      "find: ‘/opt/code/libs/ccc/scipy/__pycache__’: No such file or directory\r\n",
      "find: ‘/opt/code/libs/ccc/sklearn/__pycache__’: No such file or directory\r\n",
      "find: ‘/opt/code/libs/ccc/__pycache__’: No such file or directory\r\n",
      "find: ‘/opt/code/libs/ccc/coef/__pycache__’: No such file or directory\r\n"
     ]
    }
   ],
   "source": [
    "!find ${CODE_DIR}/libs -regex '^.*\\(__pycache__\\)$' -exec rm -rf {} \\;"
   ]
  },
  {
   "cell_type": "code",
   "execution_count": 4,
   "id": "a5c90a17-c0ac-49f0-968d-ea9ea8710b00",
   "metadata": {
    "execution": {
     "iopub.execute_input": "2023-09-11T17:06:21.756024Z",
     "iopub.status.busy": "2023-09-11T17:06:21.755585Z",
     "iopub.status.idle": "2023-09-11T17:06:21.999718Z",
     "shell.execute_reply": "2023-09-11T17:06:21.999057Z"
    },
    "papermill": {
     "duration": 0.256963,
     "end_time": "2023-09-11T17:06:22.001295",
     "exception": false,
     "start_time": "2023-09-11T17:06:21.744332",
     "status": "completed"
    },
    "tags": []
   },
   "outputs": [],
   "source": [
    "!find ${CODE_DIR}/libs -regex '^.*\\(__pycache__\\)$' -print"
   ]
  },
  {
   "cell_type": "markdown",
   "id": "145563a2-3e46-4f62-8191-7444a0b315bb",
   "metadata": {
    "papermill": {
     "duration": 0.010337,
     "end_time": "2023-09-11T17:06:22.015535",
     "exception": false,
     "start_time": "2023-09-11T17:06:22.005198",
     "status": "completed"
    },
    "tags": []
   },
   "source": [
    "# Modules"
   ]
  },
  {
   "cell_type": "code",
   "execution_count": 5,
   "id": "bea3d48e-8823-403f-90f5-aea8a17b357c",
   "metadata": {
    "execution": {
     "iopub.execute_input": "2023-09-11T17:06:22.024255Z",
     "iopub.status.busy": "2023-09-11T17:06:22.023891Z",
     "iopub.status.idle": "2023-09-11T17:06:27.160410Z",
     "shell.execute_reply": "2023-09-11T17:06:27.159942Z"
    },
    "papermill": {
     "duration": 5.142182,
     "end_time": "2023-09-11T17:06:27.161510",
     "exception": false,
     "start_time": "2023-09-11T17:06:22.019328",
     "status": "completed"
    },
    "tags": []
   },
   "outputs": [],
   "source": [
    "import numpy as np\n",
    "\n",
    "from ccc.coef import ccc"
   ]
  },
  {
   "cell_type": "code",
   "execution_count": 6,
   "id": "df6b3793-930b-4c54-9f29-ecc47fc586fb",
   "metadata": {
    "execution": {
     "iopub.execute_input": "2023-09-11T17:06:27.166786Z",
     "iopub.status.busy": "2023-09-11T17:06:27.166688Z",
     "iopub.status.idle": "2023-09-11T17:06:27.174202Z",
     "shell.execute_reply": "2023-09-11T17:06:27.173831Z"
    },
    "papermill": {
     "duration": 0.010923,
     "end_time": "2023-09-11T17:06:27.175033",
     "exception": false,
     "start_time": "2023-09-11T17:06:27.164110",
     "status": "completed"
    },
    "tags": []
   },
   "outputs": [
    {
     "data": {
      "text/plain": [
       "0.0"
      ]
     },
     "execution_count": 6,
     "metadata": {},
     "output_type": "execute_result"
    }
   ],
   "source": [
    "# let numba compile all the code before profiling\n",
    "ccc(np.random.rand(10), np.random.rand(10))"
   ]
  },
  {
   "cell_type": "markdown",
   "id": "f8399ca8-265e-4e96-b582-54045cb2f9eb",
   "metadata": {
    "papermill": {
     "duration": 0.00202,
     "end_time": "2023-09-11T17:06:27.179213",
     "exception": false,
     "start_time": "2023-09-11T17:06:27.177193",
     "status": "completed"
    },
    "tags": []
   },
   "source": [
    "# Data"
   ]
  },
  {
   "cell_type": "code",
   "execution_count": 7,
   "id": "2316ffcd-a6e4-453f-bb52-779685c5c5bf",
   "metadata": {
    "execution": {
     "iopub.execute_input": "2023-09-11T17:06:27.184053Z",
     "iopub.status.busy": "2023-09-11T17:06:27.183794Z",
     "iopub.status.idle": "2023-09-11T17:06:27.185994Z",
     "shell.execute_reply": "2023-09-11T17:06:27.185634Z"
    },
    "papermill": {
     "duration": 0.005484,
     "end_time": "2023-09-11T17:06:27.186798",
     "exception": false,
     "start_time": "2023-09-11T17:06:27.181314",
     "status": "completed"
    },
    "tags": []
   },
   "outputs": [],
   "source": [
    "n_genes, n_samples = 500, 1000"
   ]
  },
  {
   "cell_type": "code",
   "execution_count": 8,
   "id": "b2f92fb1-113d-479b-8bbf-2be229e26e8f",
   "metadata": {
    "execution": {
     "iopub.execute_input": "2023-09-11T17:06:27.191645Z",
     "iopub.status.busy": "2023-09-11T17:06:27.191317Z",
     "iopub.status.idle": "2023-09-11T17:06:27.193694Z",
     "shell.execute_reply": "2023-09-11T17:06:27.193316Z"
    },
    "papermill": {
     "duration": 0.005541,
     "end_time": "2023-09-11T17:06:27.194456",
     "exception": false,
     "start_time": "2023-09-11T17:06:27.188915",
     "status": "completed"
    },
    "tags": []
   },
   "outputs": [],
   "source": [
    "np.random.seed(0)"
   ]
  },
  {
   "cell_type": "code",
   "execution_count": 9,
   "id": "63638c0b-b436-48a9-93e0-db2adb939a61",
   "metadata": {
    "execution": {
     "iopub.execute_input": "2023-09-11T17:06:27.199393Z",
     "iopub.status.busy": "2023-09-11T17:06:27.199164Z",
     "iopub.status.idle": "2023-09-11T17:06:27.204806Z",
     "shell.execute_reply": "2023-09-11T17:06:27.204430Z"
    },
    "papermill": {
     "duration": 0.009055,
     "end_time": "2023-09-11T17:06:27.205626",
     "exception": false,
     "start_time": "2023-09-11T17:06:27.196571",
     "status": "completed"
    },
    "tags": []
   },
   "outputs": [],
   "source": [
    "data = np.random.rand(n_genes, n_samples)"
   ]
  },
  {
   "cell_type": "code",
   "execution_count": 10,
   "id": "808017ed-9a8a-4bf7-a3dd-42317a39ce8f",
   "metadata": {
    "execution": {
     "iopub.execute_input": "2023-09-11T17:06:27.210636Z",
     "iopub.status.busy": "2023-09-11T17:06:27.210545Z",
     "iopub.status.idle": "2023-09-11T17:06:27.213498Z",
     "shell.execute_reply": "2023-09-11T17:06:27.213147Z"
    },
    "papermill": {
     "duration": 0.006255,
     "end_time": "2023-09-11T17:06:27.214287",
     "exception": false,
     "start_time": "2023-09-11T17:06:27.208032",
     "status": "completed"
    },
    "tags": []
   },
   "outputs": [
    {
     "data": {
      "text/plain": [
       "(500, 1000)"
      ]
     },
     "execution_count": 10,
     "metadata": {},
     "output_type": "execute_result"
    }
   ],
   "source": [
    "data.shape"
   ]
  },
  {
   "cell_type": "markdown",
   "id": "716e4219-cad5-453b-8331-47d310689e03",
   "metadata": {
    "papermill": {
     "duration": 0.002034,
     "end_time": "2023-09-11T17:06:27.218469",
     "exception": false,
     "start_time": "2023-09-11T17:06:27.216435",
     "status": "completed"
    },
    "tags": []
   },
   "source": [
    "# Profile"
   ]
  },
  {
   "cell_type": "code",
   "execution_count": 11,
   "id": "67807856-f337-4c6e-ae31-cd306577a314",
   "metadata": {
    "execution": {
     "iopub.execute_input": "2023-09-11T17:06:27.223282Z",
     "iopub.status.busy": "2023-09-11T17:06:27.223051Z",
     "iopub.status.idle": "2023-09-11T17:06:27.226148Z",
     "shell.execute_reply": "2023-09-11T17:06:27.225781Z"
    },
    "papermill": {
     "duration": 0.006357,
     "end_time": "2023-09-11T17:06:27.226948",
     "exception": false,
     "start_time": "2023-09-11T17:06:27.220591",
     "status": "completed"
    },
    "tags": []
   },
   "outputs": [],
   "source": [
    "def func():\n",
    "    res = np.full(int((data.shape[0] * (data.shape[0] - 1)) / 2), np.nan)\n",
    "\n",
    "    n_clust = list(range(2, 10 + 1))\n",
    "    idx = 0\n",
    "    for i in range(data.shape[0] - 1):\n",
    "        for j in range(i + 1, data.shape[0]):\n",
    "            res[idx] = ccc(data[i], data[j], internal_n_clusters=n_clust)\n",
    "            idx += 1"
   ]
  },
  {
   "cell_type": "code",
   "execution_count": 12,
   "id": "2965a695-5c0c-4e9e-8435-dcbfa610eb81",
   "metadata": {
    "execution": {
     "iopub.execute_input": "2023-09-11T17:06:27.231884Z",
     "iopub.status.busy": "2023-09-11T17:06:27.231610Z",
     "iopub.status.idle": "2023-09-11T18:27:50.973986Z",
     "shell.execute_reply": "2023-09-11T18:27:50.973392Z"
    },
    "papermill": {
     "duration": 4883.750077,
     "end_time": "2023-09-11T18:27:50.979176",
     "exception": false,
     "start_time": "2023-09-11T17:06:27.229099",
     "status": "completed"
    },
    "tags": []
   },
   "outputs": [
    {
     "name": "stdout",
     "output_type": "stream",
     "text": [
      "5min 5s ± 666 ms per loop (mean ± std. dev. of 7 runs, 1 loop each)\n"
     ]
    }
   ],
   "source": [
    "%%timeit func()\n",
    "func()"
   ]
  },
  {
   "cell_type": "code",
   "execution_count": 13,
   "id": "51c7a416-064a-4669-a09f-16f837d32475",
   "metadata": {
    "execution": {
     "iopub.execute_input": "2023-09-11T18:27:50.993714Z",
     "iopub.status.busy": "2023-09-11T18:27:50.993606Z",
     "iopub.status.idle": "2023-09-11T18:33:43.054710Z",
     "shell.execute_reply": "2023-09-11T18:33:43.054393Z"
    },
    "papermill": {
     "duration": 352.07215,
     "end_time": "2023-09-11T18:33:43.060470",
     "exception": false,
     "start_time": "2023-09-11T18:27:50.988320",
     "status": "completed"
    },
    "tags": []
   },
   "outputs": [
    {
     "name": "stdout",
     "output_type": "stream",
     "text": [
      " \n",
      "*** Profile printout saved to text file '10-cm_many_genes.txt'. \n"
     ]
    }
   ],
   "source": [
    "%%prun -s cumulative -l 50 -T 10-cm_many_genes.txt\n",
    "func()"
   ]
  },
  {
   "cell_type": "code",
   "execution_count": null,
   "id": "e2556204-1c10-4e01-8c6c-ea63ddb37530",
   "metadata": {
    "papermill": {
     "duration": 0.004182,
     "end_time": "2023-09-11T18:33:43.073708",
     "exception": false,
     "start_time": "2023-09-11T18:33:43.069526",
     "status": "completed"
    },
    "tags": []
   },
   "outputs": [],
   "source": []
  }
 ],
 "metadata": {
  "jupytext": {
   "cell_metadata_filter": "all,-execution,-papermill,-trusted"
  },
  "kernelspec": {
   "display_name": "Python 3 (ipykernel)",
   "language": "python",
   "name": "python3"
  },
  "language_info": {
   "codemirror_mode": {
    "name": "ipython",
    "version": 3
   },
   "file_extension": ".py",
   "mimetype": "text/x-python",
   "name": "python",
   "nbconvert_exporter": "python",
   "pygments_lexer": "ipython3",
   "version": "3.9.12"
  },
  "papermill": {
   "default_parameters": {},
   "duration": 5243.536906,
   "end_time": "2023-09-11T18:33:43.500406",
   "environment_variables": {},
   "exception": null,
   "input_path": "nbs/others/05_clustermatch_profiling/12_cm_optimized/10-many_genes.ipynb",
   "output_path": "nbs/others/05_clustermatch_profiling/12_cm_optimized/10-many_genes.run.ipynb",
   "parameters": {},
   "start_time": "2023-09-11T17:06:19.963500",
   "version": "2.3.3"
  }
 },
 "nbformat": 4,
 "nbformat_minor": 5
}
