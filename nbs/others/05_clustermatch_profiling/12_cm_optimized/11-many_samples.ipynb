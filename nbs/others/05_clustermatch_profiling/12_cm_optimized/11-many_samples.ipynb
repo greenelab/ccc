{
 "cells": [
  {
   "cell_type": "markdown",
   "id": "fd52facb-2470-4824-83d4-7c9fd042ecfb",
   "metadata": {
    "papermill": {
     "duration": 0.004942,
     "end_time": "2023-09-11T18:33:45.784605",
     "exception": false,
     "start_time": "2023-09-11T18:33:45.779663",
     "status": "completed"
    },
    "tags": []
   },
   "source": [
    "# Description"
   ]
  },
  {
   "cell_type": "markdown",
   "id": "dfb8c7f9-1d0a-4aaa-8d47-380b30e0a985",
   "metadata": {
    "papermill": {
     "duration": 0.004121,
     "end_time": "2023-09-11T18:33:45.798951",
     "exception": false,
     "start_time": "2023-09-11T18:33:45.794830",
     "status": "completed"
    },
    "tags": []
   },
   "source": [
    "Similar as `06` but it computes across gene pairs instead of data matrix."
   ]
  },
  {
   "cell_type": "markdown",
   "id": "325cb06a-df7f-43e8-be3e-f704aaf015b0",
   "metadata": {
    "papermill": {
     "duration": 0.004063,
     "end_time": "2023-09-11T18:33:45.808402",
     "exception": false,
     "start_time": "2023-09-11T18:33:45.804339",
     "status": "completed"
    },
    "tags": []
   },
   "source": [
    "# Remove pycache dir"
   ]
  },
  {
   "cell_type": "code",
   "execution_count": 1,
   "id": "73f954a6-1776-4b92-bd0e-fc3caf5df081",
   "metadata": {
    "execution": {
     "iopub.execute_input": "2023-09-11T18:33:45.818440Z",
     "iopub.status.busy": "2023-09-11T18:33:45.818097Z",
     "iopub.status.idle": "2023-09-11T18:33:46.069267Z",
     "shell.execute_reply": "2023-09-11T18:33:46.068663Z"
    },
    "papermill": {
     "duration": 0.258037,
     "end_time": "2023-09-11T18:33:46.070735",
     "exception": false,
     "start_time": "2023-09-11T18:33:45.812698",
     "status": "completed"
    },
    "tags": []
   },
   "outputs": [
    {
     "name": "stdout",
     "output_type": "stream",
     "text": [
      "/opt/code\r\n"
     ]
    }
   ],
   "source": [
    "!echo ${CODE_DIR}"
   ]
  },
  {
   "cell_type": "code",
   "execution_count": 2,
   "id": "d17492bb-34fe-4c34-a693-419180ba068e",
   "metadata": {
    "execution": {
     "iopub.execute_input": "2023-09-11T18:33:46.080282Z",
     "iopub.status.busy": "2023-09-11T18:33:46.080115Z",
     "iopub.status.idle": "2023-09-11T18:33:46.328647Z",
     "shell.execute_reply": "2023-09-11T18:33:46.328053Z"
    },
    "papermill": {
     "duration": 0.254878,
     "end_time": "2023-09-11T18:33:46.330012",
     "exception": false,
     "start_time": "2023-09-11T18:33:46.075134",
     "status": "completed"
    },
    "tags": []
   },
   "outputs": [
    {
     "name": "stdout",
     "output_type": "stream",
     "text": [
      "/opt/code/libs/ccc/pytorch/__pycache__\r\n",
      "/opt/code/libs/ccc/utils/__pycache__\r\n",
      "/opt/code/libs/ccc/scipy/__pycache__\r\n",
      "/opt/code/libs/ccc/sklearn/__pycache__\r\n",
      "/opt/code/libs/ccc/__pycache__\r\n",
      "/opt/code/libs/ccc/coef/__pycache__\r\n"
     ]
    }
   ],
   "source": [
    "!find ${CODE_DIR}/libs -regex '^.*\\(__pycache__\\)$' -print"
   ]
  },
  {
   "cell_type": "code",
   "execution_count": 3,
   "id": "5683e330-1782-43b3-bb78-255198f03620",
   "metadata": {
    "execution": {
     "iopub.execute_input": "2023-09-11T18:33:46.339871Z",
     "iopub.status.busy": "2023-09-11T18:33:46.339667Z",
     "iopub.status.idle": "2023-09-11T18:33:46.600263Z",
     "shell.execute_reply": "2023-09-11T18:33:46.599553Z"
    },
    "papermill": {
     "duration": 0.267326,
     "end_time": "2023-09-11T18:33:46.601853",
     "exception": false,
     "start_time": "2023-09-11T18:33:46.334527",
     "status": "completed"
    },
    "tags": []
   },
   "outputs": [],
   "source": [
    "!find ${CODE_DIR}/libs -regex '^.*\\(__pycache__\\)$' -prune -exec rm -rf {} \\;"
   ]
  },
  {
   "cell_type": "code",
   "execution_count": 4,
   "id": "5cf4ce29-d611-4fc8-8880-293c09e5ab9a",
   "metadata": {
    "execution": {
     "iopub.execute_input": "2023-09-11T18:33:46.617904Z",
     "iopub.status.busy": "2023-09-11T18:33:46.617573Z",
     "iopub.status.idle": "2023-09-11T18:33:46.867351Z",
     "shell.execute_reply": "2023-09-11T18:33:46.866790Z"
    },
    "papermill": {
     "duration": 0.262633,
     "end_time": "2023-09-11T18:33:46.869010",
     "exception": false,
     "start_time": "2023-09-11T18:33:46.606377",
     "status": "completed"
    },
    "tags": []
   },
   "outputs": [],
   "source": [
    "!find ${CODE_DIR}/libs -regex '^.*\\(__pycache__\\)$' -print"
   ]
  },
  {
   "cell_type": "markdown",
   "id": "35a04385-a901-4726-82a6-a01f16281efe",
   "metadata": {
    "papermill": {
     "duration": 0.00445,
     "end_time": "2023-09-11T18:33:46.878281",
     "exception": false,
     "start_time": "2023-09-11T18:33:46.873831",
     "status": "completed"
    },
    "tags": []
   },
   "source": [
    "# Modules"
   ]
  },
  {
   "cell_type": "code",
   "execution_count": 5,
   "id": "a75c4496-d379-4668-905d-0e9136981f0c",
   "metadata": {
    "execution": {
     "iopub.execute_input": "2023-09-11T18:33:46.888816Z",
     "iopub.status.busy": "2023-09-11T18:33:46.888487Z",
     "iopub.status.idle": "2023-09-11T18:33:52.156029Z",
     "shell.execute_reply": "2023-09-11T18:33:52.155675Z"
    },
    "papermill": {
     "duration": 5.274673,
     "end_time": "2023-09-11T18:33:52.157523",
     "exception": false,
     "start_time": "2023-09-11T18:33:46.882850",
     "status": "completed"
    },
    "tags": []
   },
   "outputs": [],
   "source": [
    "import numpy as np\n",
    "\n",
    "from ccc.coef import ccc"
   ]
  },
  {
   "cell_type": "code",
   "execution_count": 6,
   "id": "1a58ccf8-1bf5-4177-9b06-944a0d57655a",
   "metadata": {
    "execution": {
     "iopub.execute_input": "2023-09-11T18:33:52.173064Z",
     "iopub.status.busy": "2023-09-11T18:33:52.172977Z",
     "iopub.status.idle": "2023-09-11T18:33:52.179326Z",
     "shell.execute_reply": "2023-09-11T18:33:52.179064Z"
    },
    "papermill": {
     "duration": 0.018405,
     "end_time": "2023-09-11T18:33:52.180517",
     "exception": false,
     "start_time": "2023-09-11T18:33:52.162112",
     "status": "completed"
    },
    "tags": []
   },
   "outputs": [
    {
     "data": {
      "text/plain": [
       "0.28"
      ]
     },
     "execution_count": 6,
     "metadata": {},
     "output_type": "execute_result"
    }
   ],
   "source": [
    "# let numba compile all the code before profiling\n",
    "ccc(np.random.rand(10), np.random.rand(10))"
   ]
  },
  {
   "cell_type": "markdown",
   "id": "2c92a1ad-2fc9-4a16-a5f8-fce685246996",
   "metadata": {
    "papermill": {
     "duration": 0.00426,
     "end_time": "2023-09-11T18:33:52.189246",
     "exception": false,
     "start_time": "2023-09-11T18:33:52.184986",
     "status": "completed"
    },
    "tags": []
   },
   "source": [
    "# Data"
   ]
  },
  {
   "cell_type": "code",
   "execution_count": 7,
   "id": "2316ffcd-a6e4-453f-bb52-779685c5c5bf",
   "metadata": {
    "execution": {
     "iopub.execute_input": "2023-09-11T18:33:52.198501Z",
     "iopub.status.busy": "2023-09-11T18:33:52.198421Z",
     "iopub.status.idle": "2023-09-11T18:33:52.200344Z",
     "shell.execute_reply": "2023-09-11T18:33:52.200047Z"
    },
    "papermill": {
     "duration": 0.007803,
     "end_time": "2023-09-11T18:33:52.201453",
     "exception": false,
     "start_time": "2023-09-11T18:33:52.193650",
     "status": "completed"
    },
    "tags": []
   },
   "outputs": [],
   "source": [
    "n_genes, n_samples = 10, 30000"
   ]
  },
  {
   "cell_type": "code",
   "execution_count": 8,
   "id": "b2f92fb1-113d-479b-8bbf-2be229e26e8f",
   "metadata": {
    "execution": {
     "iopub.execute_input": "2023-09-11T18:33:52.210746Z",
     "iopub.status.busy": "2023-09-11T18:33:52.210659Z",
     "iopub.status.idle": "2023-09-11T18:33:52.212602Z",
     "shell.execute_reply": "2023-09-11T18:33:52.212307Z"
    },
    "papermill": {
     "duration": 0.007822,
     "end_time": "2023-09-11T18:33:52.213738",
     "exception": false,
     "start_time": "2023-09-11T18:33:52.205916",
     "status": "completed"
    },
    "tags": []
   },
   "outputs": [],
   "source": [
    "np.random.seed(0)"
   ]
  },
  {
   "cell_type": "code",
   "execution_count": 9,
   "id": "63638c0b-b436-48a9-93e0-db2adb939a61",
   "metadata": {
    "execution": {
     "iopub.execute_input": "2023-09-11T18:33:52.223176Z",
     "iopub.status.busy": "2023-09-11T18:33:52.223088Z",
     "iopub.status.idle": "2023-09-11T18:33:52.226770Z",
     "shell.execute_reply": "2023-09-11T18:33:52.226521Z"
    },
    "papermill": {
     "duration": 0.009752,
     "end_time": "2023-09-11T18:33:52.227907",
     "exception": false,
     "start_time": "2023-09-11T18:33:52.218155",
     "status": "completed"
    },
    "tags": []
   },
   "outputs": [],
   "source": [
    "data = np.random.rand(n_genes, n_samples)"
   ]
  },
  {
   "cell_type": "code",
   "execution_count": 10,
   "id": "808017ed-9a8a-4bf7-a3dd-42317a39ce8f",
   "metadata": {
    "execution": {
     "iopub.execute_input": "2023-09-11T18:33:52.237173Z",
     "iopub.status.busy": "2023-09-11T18:33:52.237098Z",
     "iopub.status.idle": "2023-09-11T18:33:52.239722Z",
     "shell.execute_reply": "2023-09-11T18:33:52.239461Z"
    },
    "papermill": {
     "duration": 0.008482,
     "end_time": "2023-09-11T18:33:52.240905",
     "exception": false,
     "start_time": "2023-09-11T18:33:52.232423",
     "status": "completed"
    },
    "tags": []
   },
   "outputs": [
    {
     "data": {
      "text/plain": [
       "(10, 30000)"
      ]
     },
     "execution_count": 10,
     "metadata": {},
     "output_type": "execute_result"
    }
   ],
   "source": [
    "data.shape"
   ]
  },
  {
   "cell_type": "markdown",
   "id": "716e4219-cad5-453b-8331-47d310689e03",
   "metadata": {
    "papermill": {
     "duration": 0.004346,
     "end_time": "2023-09-11T18:33:52.249742",
     "exception": false,
     "start_time": "2023-09-11T18:33:52.245396",
     "status": "completed"
    },
    "tags": []
   },
   "source": [
    "# With default `internal_n_clusters`"
   ]
  },
  {
   "cell_type": "code",
   "execution_count": 11,
   "id": "67807856-f337-4c6e-ae31-cd306577a314",
   "metadata": {
    "execution": {
     "iopub.execute_input": "2023-09-11T18:33:52.259265Z",
     "iopub.status.busy": "2023-09-11T18:33:52.259175Z",
     "iopub.status.idle": "2023-09-11T18:33:52.262133Z",
     "shell.execute_reply": "2023-09-11T18:33:52.261877Z"
    },
    "papermill": {
     "duration": 0.009003,
     "end_time": "2023-09-11T18:33:52.263263",
     "exception": false,
     "start_time": "2023-09-11T18:33:52.254260",
     "status": "completed"
    },
    "tags": []
   },
   "outputs": [],
   "source": [
    "def func():\n",
    "    res = np.full(int((data.shape[0] * (data.shape[0] - 1)) / 2), np.nan)\n",
    "\n",
    "    n_clust = list(range(2, 10 + 1))\n",
    "    idx = 0\n",
    "    for i in range(data.shape[0] - 1):\n",
    "        for j in range(i + 1, data.shape[0]):\n",
    "            res[idx] = ccc(data[i], data[j], internal_n_clusters=n_clust)\n",
    "            idx += 1"
   ]
  },
  {
   "cell_type": "code",
   "execution_count": 12,
   "id": "2965a695-5c0c-4e9e-8435-dcbfa610eb81",
   "metadata": {
    "execution": {
     "iopub.execute_input": "2023-09-11T18:33:52.272669Z",
     "iopub.status.busy": "2023-09-11T18:33:52.272592Z",
     "iopub.status.idle": "2023-09-11T18:34:41.747607Z",
     "shell.execute_reply": "2023-09-11T18:34:41.747315Z"
    },
    "papermill": {
     "duration": 49.485946,
     "end_time": "2023-09-11T18:34:41.753757",
     "exception": false,
     "start_time": "2023-09-11T18:33:52.267811",
     "status": "completed"
    },
    "tags": []
   },
   "outputs": [
    {
     "name": "stdout",
     "output_type": "stream",
     "text": [
      "3.06 s ± 10.6 ms per loop (mean ± std. dev. of 7 runs, 1 loop each)\n"
     ]
    }
   ],
   "source": [
    "%%timeit func()\n",
    "func()"
   ]
  },
  {
   "cell_type": "code",
   "execution_count": 13,
   "id": "51c7a416-064a-4669-a09f-16f837d32475",
   "metadata": {
    "execution": {
     "iopub.execute_input": "2023-09-11T18:34:41.763849Z",
     "iopub.status.busy": "2023-09-11T18:34:41.763740Z",
     "iopub.status.idle": "2023-09-11T18:34:44.840646Z",
     "shell.execute_reply": "2023-09-11T18:34:44.840334Z"
    },
    "papermill": {
     "duration": 3.083217,
     "end_time": "2023-09-11T18:34:44.841927",
     "exception": false,
     "start_time": "2023-09-11T18:34:41.758710",
     "status": "completed"
    },
    "tags": []
   },
   "outputs": [
    {
     "name": "stdout",
     "output_type": "stream",
     "text": [
      " \n",
      "*** Profile printout saved to text file '11-cm_many_samples-default_internal_n_clusters.txt'. \n"
     ]
    }
   ],
   "source": [
    "%%prun -s cumulative -l 50 -T 11-cm_many_samples-default_internal_n_clusters.txt\n",
    "func()"
   ]
  },
  {
   "cell_type": "markdown",
   "id": "025974ff-06d4-4d82-9b05-03f7a84d7211",
   "metadata": {
    "papermill": {
     "duration": 0.010464,
     "end_time": "2023-09-11T18:34:44.857269",
     "exception": false,
     "start_time": "2023-09-11T18:34:44.846805",
     "status": "completed"
    },
    "tags": []
   },
   "source": [
    "# With reduced `internal_n_clusters`"
   ]
  },
  {
   "cell_type": "code",
   "execution_count": 14,
   "id": "08f3f5ab-c68b-4603-994b-e6085fc42293",
   "metadata": {
    "execution": {
     "iopub.execute_input": "2023-09-11T18:34:44.867137Z",
     "iopub.status.busy": "2023-09-11T18:34:44.867032Z",
     "iopub.status.idle": "2023-09-11T18:34:44.869922Z",
     "shell.execute_reply": "2023-09-11T18:34:44.869660Z"
    },
    "papermill": {
     "duration": 0.009061,
     "end_time": "2023-09-11T18:34:44.871059",
     "exception": false,
     "start_time": "2023-09-11T18:34:44.861998",
     "status": "completed"
    },
    "tags": []
   },
   "outputs": [],
   "source": [
    "def func():\n",
    "    res = np.full(int((data.shape[0] * (data.shape[0] - 1)) / 2), np.nan)\n",
    "\n",
    "    n_clust = list(range(2, 5 + 1))\n",
    "    idx = 0\n",
    "    for i in range(data.shape[0] - 1):\n",
    "        for j in range(i + 1, data.shape[0]):\n",
    "            res[idx] = ccc(data[i], data[j], internal_n_clusters=n_clust)\n",
    "            idx += 1"
   ]
  },
  {
   "cell_type": "code",
   "execution_count": 15,
   "id": "11259d8c-3bf3-4299-b47b-211556c3bc08",
   "metadata": {
    "execution": {
     "iopub.execute_input": "2023-09-11T18:34:44.880796Z",
     "iopub.status.busy": "2023-09-11T18:34:44.880715Z",
     "iopub.status.idle": "2023-09-11T18:35:05.550196Z",
     "shell.execute_reply": "2023-09-11T18:35:05.549688Z"
    },
    "papermill": {
     "duration": 20.675722,
     "end_time": "2023-09-11T18:35:05.551478",
     "exception": false,
     "start_time": "2023-09-11T18:34:44.875756",
     "status": "completed"
    },
    "tags": []
   },
   "outputs": [
    {
     "name": "stdout",
     "output_type": "stream",
     "text": [
      "1.29 s ± 4.15 ms per loop (mean ± std. dev. of 7 runs, 1 loop each)\n"
     ]
    }
   ],
   "source": [
    "%%timeit func()\n",
    "func()"
   ]
  },
  {
   "cell_type": "code",
   "execution_count": 16,
   "id": "42d9e6e0-3c01-46e1-a409-52ff26cb78f4",
   "metadata": {
    "execution": {
     "iopub.execute_input": "2023-09-11T18:35:05.562504Z",
     "iopub.status.busy": "2023-09-11T18:35:05.562395Z",
     "iopub.status.idle": "2023-09-11T18:35:06.875288Z",
     "shell.execute_reply": "2023-09-11T18:35:06.874761Z"
    },
    "papermill": {
     "duration": 1.319542,
     "end_time": "2023-09-11T18:35:06.876788",
     "exception": false,
     "start_time": "2023-09-11T18:35:05.557246",
     "status": "completed"
    },
    "tags": []
   },
   "outputs": [
    {
     "name": "stdout",
     "output_type": "stream",
     "text": [
      " \n",
      "*** Profile printout saved to text file '11-cm_many_samples-less_internal_n_clusters.txt'. \n"
     ]
    }
   ],
   "source": [
    "%%prun -s cumulative -l 50 -T 11-cm_many_samples-less_internal_n_clusters.txt\n",
    "func()"
   ]
  },
  {
   "cell_type": "code",
   "execution_count": null,
   "id": "e2556204-1c10-4e01-8c6c-ea63ddb37530",
   "metadata": {
    "papermill": {
     "duration": 0.010369,
     "end_time": "2023-09-11T18:35:06.892269",
     "exception": false,
     "start_time": "2023-09-11T18:35:06.881900",
     "status": "completed"
    },
    "tags": []
   },
   "outputs": [],
   "source": []
  }
 ],
 "metadata": {
  "jupytext": {
   "cell_metadata_filter": "all,-execution,-papermill,-trusted"
  },
  "kernelspec": {
   "display_name": "Python 3 (ipykernel)",
   "language": "python",
   "name": "python3"
  },
  "language_info": {
   "codemirror_mode": {
    "name": "ipython",
    "version": 3
   },
   "file_extension": ".py",
   "mimetype": "text/x-python",
   "name": "python",
   "nbconvert_exporter": "python",
   "pygments_lexer": "ipython3",
   "version": "3.9.12"
  },
  "papermill": {
   "default_parameters": {},
   "duration": 82.301789,
   "end_time": "2023-09-11T18:35:07.212398",
   "environment_variables": {},
   "exception": null,
   "input_path": "nbs/others/05_clustermatch_profiling/12_cm_optimized/11-many_samples.ipynb",
   "output_path": "nbs/others/05_clustermatch_profiling/12_cm_optimized/11-many_samples.run.ipynb",
   "parameters": {},
   "start_time": "2023-09-11T18:33:44.910609",
   "version": "2.3.3"
  }
 },
 "nbformat": 4,
 "nbformat_minor": 5
}
