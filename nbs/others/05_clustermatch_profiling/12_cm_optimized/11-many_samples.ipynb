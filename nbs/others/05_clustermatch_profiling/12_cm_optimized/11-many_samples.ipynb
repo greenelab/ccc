{
 "cells": [
  {
   "cell_type": "markdown",
   "id": "fd52facb-2470-4824-83d4-7c9fd042ecfb",
   "metadata": {
    "papermill": {
     "duration": 0.00521,
     "end_time": "2023-09-09T18:26:28.810840",
     "exception": false,
     "start_time": "2023-09-09T18:26:28.805630",
     "status": "completed"
    },
    "tags": []
   },
   "source": [
    "# Description"
   ]
  },
  {
   "cell_type": "markdown",
   "id": "dfb8c7f9-1d0a-4aaa-8d47-380b30e0a985",
   "metadata": {
    "papermill": {
     "duration": 0.004576,
     "end_time": "2023-09-09T18:26:28.825676",
     "exception": false,
     "start_time": "2023-09-09T18:26:28.821100",
     "status": "completed"
    },
    "tags": []
   },
   "source": [
    "Similar as `06` but it computes across gene pairs instead of data matrix."
   ]
  },
  {
   "cell_type": "markdown",
   "id": "325cb06a-df7f-43e8-be3e-f704aaf015b0",
   "metadata": {
    "papermill": {
     "duration": 0.004298,
     "end_time": "2023-09-09T18:26:28.835543",
     "exception": false,
     "start_time": "2023-09-09T18:26:28.831245",
     "status": "completed"
    },
    "tags": []
   },
   "source": [
    "# Remove pycache dir"
   ]
  },
  {
   "cell_type": "code",
   "execution_count": 1,
   "id": "73f954a6-1776-4b92-bd0e-fc3caf5df081",
   "metadata": {
    "execution": {
     "iopub.execute_input": "2023-09-09T18:26:28.845926Z",
     "iopub.status.busy": "2023-09-09T18:26:28.845488Z",
     "iopub.status.idle": "2023-09-09T18:26:29.078009Z",
     "shell.execute_reply": "2023-09-09T18:26:29.077471Z"
    },
    "papermill": {
     "duration": 0.239671,
     "end_time": "2023-09-09T18:26:29.079687",
     "exception": false,
     "start_time": "2023-09-09T18:26:28.840016",
     "status": "completed"
    },
    "tags": []
   },
   "outputs": [
    {
     "name": "stdout",
     "output_type": "stream",
     "text": [
      "/opt/code\r\n"
     ]
    }
   ],
   "source": [
    "!echo ${CODE_DIR}"
   ]
  },
  {
   "cell_type": "code",
   "execution_count": 2,
   "id": "d17492bb-34fe-4c34-a693-419180ba068e",
   "metadata": {
    "execution": {
     "iopub.execute_input": "2023-09-09T18:26:29.090232Z",
     "iopub.status.busy": "2023-09-09T18:26:29.089868Z",
     "iopub.status.idle": "2023-09-09T18:26:29.342427Z",
     "shell.execute_reply": "2023-09-09T18:26:29.341848Z"
    },
    "papermill": {
     "duration": 0.259326,
     "end_time": "2023-09-09T18:26:29.343807",
     "exception": false,
     "start_time": "2023-09-09T18:26:29.084481",
     "status": "completed"
    },
    "tags": []
   },
   "outputs": [
    {
     "name": "stdout",
     "output_type": "stream",
     "text": [
      "/opt/code/libs/ccc/pytorch/__pycache__\r\n",
      "/opt/code/libs/ccc/utils/__pycache__\r\n",
      "/opt/code/libs/ccc/scipy/__pycache__\r\n",
      "/opt/code/libs/ccc/sklearn/__pycache__\r\n",
      "/opt/code/libs/ccc/__pycache__\r\n",
      "/opt/code/libs/ccc/coef/__pycache__\r\n"
     ]
    }
   ],
   "source": [
    "!find ${CODE_DIR}/libs -regex '^.*\\(__pycache__\\)$' -print"
   ]
  },
  {
   "cell_type": "code",
   "execution_count": 3,
   "id": "5683e330-1782-43b3-bb78-255198f03620",
   "metadata": {
    "execution": {
     "iopub.execute_input": "2023-09-09T18:26:29.359636Z",
     "iopub.status.busy": "2023-09-09T18:26:29.359472Z",
     "iopub.status.idle": "2023-09-09T18:26:29.620145Z",
     "shell.execute_reply": "2023-09-09T18:26:29.619514Z"
    },
    "papermill": {
     "duration": 0.273587,
     "end_time": "2023-09-09T18:26:29.621870",
     "exception": false,
     "start_time": "2023-09-09T18:26:29.348283",
     "status": "completed"
    },
    "tags": []
   },
   "outputs": [],
   "source": [
    "!find ${CODE_DIR}/libs -regex '^.*\\(__pycache__\\)$' -prune -exec rm -rf {} \\;"
   ]
  },
  {
   "cell_type": "code",
   "execution_count": 4,
   "id": "5cf4ce29-d611-4fc8-8880-293c09e5ab9a",
   "metadata": {
    "execution": {
     "iopub.execute_input": "2023-09-09T18:26:29.637991Z",
     "iopub.status.busy": "2023-09-09T18:26:29.637826Z",
     "iopub.status.idle": "2023-09-09T18:26:29.889600Z",
     "shell.execute_reply": "2023-09-09T18:26:29.888986Z"
    },
    "papermill": {
     "duration": 0.264542,
     "end_time": "2023-09-09T18:26:29.890997",
     "exception": false,
     "start_time": "2023-09-09T18:26:29.626455",
     "status": "completed"
    },
    "tags": []
   },
   "outputs": [],
   "source": [
    "!find ${CODE_DIR}/libs -regex '^.*\\(__pycache__\\)$' -print"
   ]
  },
  {
   "cell_type": "markdown",
   "id": "35a04385-a901-4726-82a6-a01f16281efe",
   "metadata": {
    "papermill": {
     "duration": 0.004153,
     "end_time": "2023-09-09T18:26:29.899491",
     "exception": false,
     "start_time": "2023-09-09T18:26:29.895338",
     "status": "completed"
    },
    "tags": []
   },
   "source": [
    "# Modules"
   ]
  },
  {
   "cell_type": "code",
   "execution_count": 5,
   "id": "a75c4496-d379-4668-905d-0e9136981f0c",
   "metadata": {
    "execution": {
     "iopub.execute_input": "2023-09-09T18:26:29.909007Z",
     "iopub.status.busy": "2023-09-09T18:26:29.908848Z",
     "iopub.status.idle": "2023-09-09T18:26:35.110692Z",
     "shell.execute_reply": "2023-09-09T18:26:35.110280Z"
    },
    "papermill": {
     "duration": 5.208397,
     "end_time": "2023-09-09T18:26:35.112272",
     "exception": false,
     "start_time": "2023-09-09T18:26:29.903875",
     "status": "completed"
    },
    "tags": []
   },
   "outputs": [],
   "source": [
    "import numpy as np\n",
    "\n",
    "from ccc.coef import ccc"
   ]
  },
  {
   "cell_type": "code",
   "execution_count": 6,
   "id": "1a58ccf8-1bf5-4177-9b06-944a0d57655a",
   "metadata": {
    "execution": {
     "iopub.execute_input": "2023-09-09T18:26:35.128272Z",
     "iopub.status.busy": "2023-09-09T18:26:35.128179Z",
     "iopub.status.idle": "2023-09-09T18:26:35.134848Z",
     "shell.execute_reply": "2023-09-09T18:26:35.134495Z"
    },
    "papermill": {
     "duration": 0.018652,
     "end_time": "2023-09-09T18:26:35.135893",
     "exception": false,
     "start_time": "2023-09-09T18:26:35.117241",
     "status": "completed"
    },
    "tags": []
   },
   "outputs": [
    {
     "data": {
      "text/plain": [
       "0.09090909090909091"
      ]
     },
     "execution_count": 6,
     "metadata": {},
     "output_type": "execute_result"
    }
   ],
   "source": [
    "# let numba compile all the code before profiling\n",
    "ccc(np.random.rand(10), np.random.rand(10))"
   ]
  },
  {
   "cell_type": "markdown",
   "id": "2c92a1ad-2fc9-4a16-a5f8-fce685246996",
   "metadata": {
    "papermill": {
     "duration": 0.00338,
     "end_time": "2023-09-09T18:26:35.142879",
     "exception": false,
     "start_time": "2023-09-09T18:26:35.139499",
     "status": "completed"
    },
    "tags": []
   },
   "source": [
    "# Data"
   ]
  },
  {
   "cell_type": "code",
   "execution_count": 7,
   "id": "2316ffcd-a6e4-453f-bb52-779685c5c5bf",
   "metadata": {
    "execution": {
     "iopub.execute_input": "2023-09-09T18:26:35.150628Z",
     "iopub.status.busy": "2023-09-09T18:26:35.150538Z",
     "iopub.status.idle": "2023-09-09T18:26:35.152704Z",
     "shell.execute_reply": "2023-09-09T18:26:35.152357Z"
    },
    "papermill": {
     "duration": 0.007538,
     "end_time": "2023-09-09T18:26:35.153923",
     "exception": false,
     "start_time": "2023-09-09T18:26:35.146385",
     "status": "completed"
    },
    "tags": []
   },
   "outputs": [],
   "source": [
    "n_genes, n_samples = 10, 30000"
   ]
  },
  {
   "cell_type": "code",
   "execution_count": 8,
   "id": "b2f92fb1-113d-479b-8bbf-2be229e26e8f",
   "metadata": {
    "execution": {
     "iopub.execute_input": "2023-09-09T18:26:35.163258Z",
     "iopub.status.busy": "2023-09-09T18:26:35.163169Z",
     "iopub.status.idle": "2023-09-09T18:26:35.165305Z",
     "shell.execute_reply": "2023-09-09T18:26:35.164940Z"
    },
    "papermill": {
     "duration": 0.008107,
     "end_time": "2023-09-09T18:26:35.166501",
     "exception": false,
     "start_time": "2023-09-09T18:26:35.158394",
     "status": "completed"
    },
    "tags": []
   },
   "outputs": [],
   "source": [
    "np.random.seed(0)"
   ]
  },
  {
   "cell_type": "code",
   "execution_count": 9,
   "id": "63638c0b-b436-48a9-93e0-db2adb939a61",
   "metadata": {
    "execution": {
     "iopub.execute_input": "2023-09-09T18:26:35.176079Z",
     "iopub.status.busy": "2023-09-09T18:26:35.175928Z",
     "iopub.status.idle": "2023-09-09T18:26:35.182065Z",
     "shell.execute_reply": "2023-09-09T18:26:35.181616Z"
    },
    "papermill": {
     "duration": 0.012375,
     "end_time": "2023-09-09T18:26:35.183361",
     "exception": false,
     "start_time": "2023-09-09T18:26:35.170986",
     "status": "completed"
    },
    "tags": []
   },
   "outputs": [],
   "source": [
    "data = np.random.rand(n_genes, n_samples)"
   ]
  },
  {
   "cell_type": "code",
   "execution_count": 10,
   "id": "808017ed-9a8a-4bf7-a3dd-42317a39ce8f",
   "metadata": {
    "execution": {
     "iopub.execute_input": "2023-09-09T18:26:35.193508Z",
     "iopub.status.busy": "2023-09-09T18:26:35.193062Z",
     "iopub.status.idle": "2023-09-09T18:26:35.196708Z",
     "shell.execute_reply": "2023-09-09T18:26:35.196274Z"
    },
    "papermill": {
     "duration": 0.009826,
     "end_time": "2023-09-09T18:26:35.197983",
     "exception": false,
     "start_time": "2023-09-09T18:26:35.188157",
     "status": "completed"
    },
    "tags": []
   },
   "outputs": [
    {
     "data": {
      "text/plain": [
       "(10, 30000)"
      ]
     },
     "execution_count": 10,
     "metadata": {},
     "output_type": "execute_result"
    }
   ],
   "source": [
    "data.shape"
   ]
  },
  {
   "cell_type": "markdown",
   "id": "716e4219-cad5-453b-8331-47d310689e03",
   "metadata": {
    "papermill": {
     "duration": 0.004344,
     "end_time": "2023-09-09T18:26:35.206882",
     "exception": false,
     "start_time": "2023-09-09T18:26:35.202538",
     "status": "completed"
    },
    "tags": []
   },
   "source": [
    "# With default `internal_n_clusters`"
   ]
  },
  {
   "cell_type": "code",
   "execution_count": 11,
   "id": "67807856-f337-4c6e-ae31-cd306577a314",
   "metadata": {
    "execution": {
     "iopub.execute_input": "2023-09-09T18:26:35.216685Z",
     "iopub.status.busy": "2023-09-09T18:26:35.216535Z",
     "iopub.status.idle": "2023-09-09T18:26:35.221025Z",
     "shell.execute_reply": "2023-09-09T18:26:35.220574Z"
    },
    "papermill": {
     "duration": 0.010925,
     "end_time": "2023-09-09T18:26:35.222322",
     "exception": false,
     "start_time": "2023-09-09T18:26:35.211397",
     "status": "completed"
    },
    "tags": []
   },
   "outputs": [],
   "source": [
    "def func():\n",
    "    res = np.full(int((data.shape[0] * (data.shape[0] - 1)) / 2), np.nan)\n",
    "\n",
    "    n_clust = list(range(2, 10 + 1))\n",
    "    idx = 0\n",
    "    for i in range(data.shape[0] - 1):\n",
    "        for j in range(i + 1, data.shape[0]):\n",
    "            res[idx] = ccc(data[i], data[j], internal_n_clusters=n_clust)\n",
    "            idx += 1"
   ]
  },
  {
   "cell_type": "code",
   "execution_count": 12,
   "id": "2965a695-5c0c-4e9e-8435-dcbfa610eb81",
   "metadata": {
    "execution": {
     "iopub.execute_input": "2023-09-09T18:26:35.232009Z",
     "iopub.status.busy": "2023-09-09T18:26:35.231859Z",
     "iopub.status.idle": "2023-09-09T18:27:25.563270Z",
     "shell.execute_reply": "2023-09-09T18:27:25.562705Z"
    },
    "papermill": {
     "duration": 50.342751,
     "end_time": "2023-09-09T18:27:25.569627",
     "exception": false,
     "start_time": "2023-09-09T18:26:35.226876",
     "status": "completed"
    },
    "tags": []
   },
   "outputs": [
    {
     "name": "stdout",
     "output_type": "stream",
     "text": [
      "3.11 s ± 4.66 ms per loop (mean ± std. dev. of 7 runs, 1 loop each)\n"
     ]
    }
   ],
   "source": [
    "%%timeit func()\n",
    "func()"
   ]
  },
  {
   "cell_type": "code",
   "execution_count": 13,
   "id": "51c7a416-064a-4669-a09f-16f837d32475",
   "metadata": {
    "execution": {
     "iopub.execute_input": "2023-09-09T18:27:25.579672Z",
     "iopub.status.busy": "2023-09-09T18:27:25.579567Z",
     "iopub.status.idle": "2023-09-09T18:27:28.710889Z",
     "shell.execute_reply": "2023-09-09T18:27:28.710403Z"
    },
    "papermill": {
     "duration": 3.137826,
     "end_time": "2023-09-09T18:27:28.712189",
     "exception": false,
     "start_time": "2023-09-09T18:27:25.574363",
     "status": "completed"
    },
    "tags": []
   },
   "outputs": [
    {
     "name": "stdout",
     "output_type": "stream",
     "text": [
      " \n",
      "*** Profile printout saved to text file '11-cm_many_samples-default_internal_n_clusters.txt'. \n"
     ]
    }
   ],
   "source": [
    "%%prun -s cumulative -l 50 -T 11-cm_many_samples-default_internal_n_clusters.txt\n",
    "func()"
   ]
  },
  {
   "cell_type": "markdown",
   "id": "025974ff-06d4-4d82-9b05-03f7a84d7211",
   "metadata": {
    "papermill": {
     "duration": 0.004507,
     "end_time": "2023-09-09T18:27:28.721603",
     "exception": false,
     "start_time": "2023-09-09T18:27:28.717096",
     "status": "completed"
    },
    "tags": []
   },
   "source": [
    "# With reduced `internal_n_clusters`"
   ]
  },
  {
   "cell_type": "code",
   "execution_count": 14,
   "id": "08f3f5ab-c68b-4603-994b-e6085fc42293",
   "metadata": {
    "execution": {
     "iopub.execute_input": "2023-09-09T18:27:28.731477Z",
     "iopub.status.busy": "2023-09-09T18:27:28.731370Z",
     "iopub.status.idle": "2023-09-09T18:27:28.734663Z",
     "shell.execute_reply": "2023-09-09T18:27:28.734287Z"
    },
    "papermill": {
     "duration": 0.009526,
     "end_time": "2023-09-09T18:27:28.735860",
     "exception": false,
     "start_time": "2023-09-09T18:27:28.726334",
     "status": "completed"
    },
    "tags": []
   },
   "outputs": [],
   "source": [
    "def func():\n",
    "    res = np.full(int((data.shape[0] * (data.shape[0] - 1)) / 2), np.nan)\n",
    "\n",
    "    n_clust = list(range(2, 5 + 1))\n",
    "    idx = 0\n",
    "    for i in range(data.shape[0] - 1):\n",
    "        for j in range(i + 1, data.shape[0]):\n",
    "            res[idx] = ccc(data[i], data[j], internal_n_clusters=n_clust)\n",
    "            idx += 1"
   ]
  },
  {
   "cell_type": "code",
   "execution_count": 15,
   "id": "11259d8c-3bf3-4299-b47b-211556c3bc08",
   "metadata": {
    "execution": {
     "iopub.execute_input": "2023-09-09T18:27:28.746096Z",
     "iopub.status.busy": "2023-09-09T18:27:28.745799Z",
     "iopub.status.idle": "2023-09-09T18:27:49.502104Z",
     "shell.execute_reply": "2023-09-09T18:27:49.501656Z"
    },
    "papermill": {
     "duration": 20.762882,
     "end_time": "2023-09-09T18:27:49.503386",
     "exception": false,
     "start_time": "2023-09-09T18:27:28.740504",
     "status": "completed"
    },
    "tags": []
   },
   "outputs": [
    {
     "name": "stdout",
     "output_type": "stream",
     "text": [
      "1.3 s ± 3.65 ms per loop (mean ± std. dev. of 7 runs, 1 loop each)\n"
     ]
    }
   ],
   "source": [
    "%%timeit func()\n",
    "func()"
   ]
  },
  {
   "cell_type": "code",
   "execution_count": 16,
   "id": "42d9e6e0-3c01-46e1-a409-52ff26cb78f4",
   "metadata": {
    "execution": {
     "iopub.execute_input": "2023-09-09T18:27:49.519748Z",
     "iopub.status.busy": "2023-09-09T18:27:49.519655Z",
     "iopub.status.idle": "2023-09-09T18:27:50.829717Z",
     "shell.execute_reply": "2023-09-09T18:27:50.829236Z"
    },
    "papermill": {
     "duration": 1.32229,
     "end_time": "2023-09-09T18:27:50.831030",
     "exception": false,
     "start_time": "2023-09-09T18:27:49.508740",
     "status": "completed"
    },
    "tags": []
   },
   "outputs": [
    {
     "name": "stdout",
     "output_type": "stream",
     "text": [
      " \n",
      "*** Profile printout saved to text file '11-cm_many_samples-less_internal_n_clusters.txt'. \n"
     ]
    }
   ],
   "source": [
    "%%prun -s cumulative -l 50 -T 11-cm_many_samples-less_internal_n_clusters.txt\n",
    "func()"
   ]
  },
  {
   "cell_type": "code",
   "execution_count": null,
   "id": "e2556204-1c10-4e01-8c6c-ea63ddb37530",
   "metadata": {
    "papermill": {
     "duration": 0.010299,
     "end_time": "2023-09-09T18:27:50.846272",
     "exception": false,
     "start_time": "2023-09-09T18:27:50.835973",
     "status": "completed"
    },
    "tags": []
   },
   "outputs": [],
   "source": []
  }
 ],
 "metadata": {
  "jupytext": {
   "cell_metadata_filter": "all,-execution,-papermill,-trusted"
  },
  "kernelspec": {
   "display_name": "Python 3 (ipykernel)",
   "language": "python",
   "name": "python3"
  },
  "language_info": {
   "codemirror_mode": {
    "name": "ipython",
    "version": 3
   },
   "file_extension": ".py",
   "mimetype": "text/x-python",
   "name": "python",
   "nbconvert_exporter": "python",
   "pygments_lexer": "ipython3",
   "version": "3.9.12"
  },
  "papermill": {
   "default_parameters": {},
   "duration": 83.311396,
   "end_time": "2023-09-09T18:27:51.166886",
   "environment_variables": {},
   "exception": null,
   "input_path": "nbs/others/05_clustermatch_profiling/12_cm_optimized/11-many_samples.ipynb",
   "output_path": "nbs/others/05_clustermatch_profiling/12_cm_optimized/11-many_samples.run.ipynb",
   "parameters": {},
   "start_time": "2023-09-09T18:26:27.855490",
   "version": "2.3.3"
  }
 },
 "nbformat": 4,
 "nbformat_minor": 5
}
