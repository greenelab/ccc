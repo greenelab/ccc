{
 "cells": [
  {
   "cell_type": "markdown",
   "id": "507e9319-381b-4934-987c-2958e7f6ace7",
   "metadata": {
    "papermill": {
     "duration": 0.0043,
     "end_time": "2023-09-09T18:11:26.957147",
     "exception": false,
     "start_time": "2023-09-09T18:11:26.952847",
     "status": "completed"
    },
    "tags": []
   },
   "source": [
    "# Description"
   ]
  },
  {
   "cell_type": "markdown",
   "id": "9a88f2a7-3773-459c-8fdc-c69c1b0bb338",
   "metadata": {
    "papermill": {
     "duration": 0.003479,
     "end_time": "2023-09-09T18:11:26.964420",
     "exception": false,
     "start_time": "2023-09-09T18:11:26.960941",
     "status": "completed"
    },
    "tags": []
   },
   "source": [
    "Clustermatch run using a larger number of genes."
   ]
  },
  {
   "cell_type": "markdown",
   "id": "72de9f6f-dc00-435e-9dba-871db859a78a",
   "metadata": {
    "papermill": {
     "duration": 0.003437,
     "end_time": "2023-09-09T18:11:26.971460",
     "exception": false,
     "start_time": "2023-09-09T18:11:26.968023",
     "status": "completed"
    },
    "tags": []
   },
   "source": [
    "# Remove pycache dir"
   ]
  },
  {
   "cell_type": "code",
   "execution_count": 1,
   "id": "88d32361-f1b5-4cf0-9a2c-7ab927d14b42",
   "metadata": {
    "execution": {
     "iopub.execute_input": "2023-09-09T18:11:26.980713Z",
     "iopub.status.busy": "2023-09-09T18:11:26.980402Z",
     "iopub.status.idle": "2023-09-09T18:11:27.230706Z",
     "shell.execute_reply": "2023-09-09T18:11:27.230125Z"
    },
    "papermill": {
     "duration": 0.25636,
     "end_time": "2023-09-09T18:11:27.232509",
     "exception": false,
     "start_time": "2023-09-09T18:11:26.976149",
     "status": "completed"
    },
    "tags": []
   },
   "outputs": [
    {
     "name": "stdout",
     "output_type": "stream",
     "text": [
      "/opt/code\r\n"
     ]
    }
   ],
   "source": [
    "!echo ${CODE_DIR}"
   ]
  },
  {
   "cell_type": "code",
   "execution_count": 2,
   "id": "8a27da6e-cf59-4276-888b-57e98fd23ccf",
   "metadata": {
    "execution": {
     "iopub.execute_input": "2023-09-09T18:11:27.249331Z",
     "iopub.status.busy": "2023-09-09T18:11:27.248764Z",
     "iopub.status.idle": "2023-09-09T18:11:27.501210Z",
     "shell.execute_reply": "2023-09-09T18:11:27.500563Z"
    },
    "papermill": {
     "duration": 0.264933,
     "end_time": "2023-09-09T18:11:27.502265",
     "exception": false,
     "start_time": "2023-09-09T18:11:27.237332",
     "status": "completed"
    },
    "tags": []
   },
   "outputs": [
    {
     "name": "stdout",
     "output_type": "stream",
     "text": [
      "/opt/code/libs/ccc/pytorch/__pycache__\r\n",
      "/opt/code/libs/ccc/utils/__pycache__\r\n",
      "/opt/code/libs/ccc/scipy/__pycache__\r\n",
      "/opt/code/libs/ccc/sklearn/__pycache__\r\n",
      "/opt/code/libs/ccc/__pycache__\r\n",
      "/opt/code/libs/ccc/coef/__pycache__\r\n"
     ]
    }
   ],
   "source": [
    "!find ${CODE_DIR}/libs -regex '^.*\\(__pycache__\\)$' -print"
   ]
  },
  {
   "cell_type": "code",
   "execution_count": 3,
   "id": "561480f7-c610-4f60-b40f-8100974ab4d1",
   "metadata": {
    "execution": {
     "iopub.execute_input": "2023-09-09T18:11:27.512995Z",
     "iopub.status.busy": "2023-09-09T18:11:27.512736Z",
     "iopub.status.idle": "2023-09-09T18:11:27.773873Z",
     "shell.execute_reply": "2023-09-09T18:11:27.773282Z"
    },
    "papermill": {
     "duration": 0.2709,
     "end_time": "2023-09-09T18:11:27.775265",
     "exception": false,
     "start_time": "2023-09-09T18:11:27.504365",
     "status": "completed"
    },
    "tags": []
   },
   "outputs": [
    {
     "name": "stdout",
     "output_type": "stream",
     "text": [
      "find: ‘/opt/code/libs/ccc/pytorch/__pycache__’: No such file or directory\r\n",
      "find: ‘/opt/code/libs/ccc/utils/__pycache__’: No such file or directory\r\n",
      "find: ‘/opt/code/libs/ccc/scipy/__pycache__’: No such file or directory\r\n",
      "find: ‘/opt/code/libs/ccc/sklearn/__pycache__’: No such file or directory\r\n",
      "find: ‘/opt/code/libs/ccc/__pycache__’: No such file or directory\r\n",
      "find: ‘/opt/code/libs/ccc/coef/__pycache__’: No such file or directory\r\n"
     ]
    }
   ],
   "source": [
    "!find ${CODE_DIR}/libs -regex '^.*\\(__pycache__\\)$' -exec rm -rf {} \\;"
   ]
  },
  {
   "cell_type": "code",
   "execution_count": 4,
   "id": "a5c90a17-c0ac-49f0-968d-ea9ea8710b00",
   "metadata": {
    "execution": {
     "iopub.execute_input": "2023-09-09T18:11:27.790660Z",
     "iopub.status.busy": "2023-09-09T18:11:27.790489Z",
     "iopub.status.idle": "2023-09-09T18:11:28.038626Z",
     "shell.execute_reply": "2023-09-09T18:11:28.037989Z"
    },
    "papermill": {
     "duration": 0.260893,
     "end_time": "2023-09-09T18:11:28.040201",
     "exception": false,
     "start_time": "2023-09-09T18:11:27.779308",
     "status": "completed"
    },
    "tags": []
   },
   "outputs": [],
   "source": [
    "!find ${CODE_DIR}/libs -regex '^.*\\(__pycache__\\)$' -print"
   ]
  },
  {
   "cell_type": "markdown",
   "id": "145563a2-3e46-4f62-8191-7444a0b315bb",
   "metadata": {
    "papermill": {
     "duration": 0.005733,
     "end_time": "2023-09-09T18:11:28.049961",
     "exception": false,
     "start_time": "2023-09-09T18:11:28.044228",
     "status": "completed"
    },
    "tags": []
   },
   "source": [
    "# Modules"
   ]
  },
  {
   "cell_type": "code",
   "execution_count": 5,
   "id": "bea3d48e-8823-403f-90f5-aea8a17b357c",
   "metadata": {
    "execution": {
     "iopub.execute_input": "2023-09-09T18:11:28.058624Z",
     "iopub.status.busy": "2023-09-09T18:11:28.058457Z",
     "iopub.status.idle": "2023-09-09T18:11:33.308380Z",
     "shell.execute_reply": "2023-09-09T18:11:33.307960Z"
    },
    "papermill": {
     "duration": 5.256194,
     "end_time": "2023-09-09T18:11:33.310004",
     "exception": false,
     "start_time": "2023-09-09T18:11:28.053810",
     "status": "completed"
    },
    "tags": []
   },
   "outputs": [],
   "source": [
    "import numpy as np\n",
    "\n",
    "from ccc.coef import ccc"
   ]
  },
  {
   "cell_type": "code",
   "execution_count": 6,
   "id": "df6b3793-930b-4c54-9f29-ecc47fc586fb",
   "metadata": {
    "execution": {
     "iopub.execute_input": "2023-09-09T18:11:33.318880Z",
     "iopub.status.busy": "2023-09-09T18:11:33.318790Z",
     "iopub.status.idle": "2023-09-09T18:11:33.325754Z",
     "shell.execute_reply": "2023-09-09T18:11:33.325325Z"
    },
    "papermill": {
     "duration": 0.012692,
     "end_time": "2023-09-09T18:11:33.326960",
     "exception": false,
     "start_time": "2023-09-09T18:11:33.314268",
     "status": "completed"
    },
    "tags": []
   },
   "outputs": [
    {
     "data": {
      "text/plain": [
       "0.0"
      ]
     },
     "execution_count": 6,
     "metadata": {},
     "output_type": "execute_result"
    }
   ],
   "source": [
    "# let numba compile all the code before profiling\n",
    "ccc(np.random.rand(10), np.random.rand(10))"
   ]
  },
  {
   "cell_type": "markdown",
   "id": "f8399ca8-265e-4e96-b582-54045cb2f9eb",
   "metadata": {
    "papermill": {
     "duration": 0.004067,
     "end_time": "2023-09-09T18:11:33.335454",
     "exception": false,
     "start_time": "2023-09-09T18:11:33.331387",
     "status": "completed"
    },
    "tags": []
   },
   "source": [
    "# Data"
   ]
  },
  {
   "cell_type": "code",
   "execution_count": 7,
   "id": "2316ffcd-a6e4-453f-bb52-779685c5c5bf",
   "metadata": {
    "execution": {
     "iopub.execute_input": "2023-09-09T18:11:33.344292Z",
     "iopub.status.busy": "2023-09-09T18:11:33.344207Z",
     "iopub.status.idle": "2023-09-09T18:11:33.346340Z",
     "shell.execute_reply": "2023-09-09T18:11:33.346009Z"
    },
    "papermill": {
     "duration": 0.007887,
     "end_time": "2023-09-09T18:11:33.347556",
     "exception": false,
     "start_time": "2023-09-09T18:11:33.339669",
     "status": "completed"
    },
    "tags": []
   },
   "outputs": [],
   "source": [
    "n_genes, n_samples = 500, 1000"
   ]
  },
  {
   "cell_type": "code",
   "execution_count": 8,
   "id": "b2f92fb1-113d-479b-8bbf-2be229e26e8f",
   "metadata": {
    "execution": {
     "iopub.execute_input": "2023-09-09T18:11:33.356745Z",
     "iopub.status.busy": "2023-09-09T18:11:33.356601Z",
     "iopub.status.idle": "2023-09-09T18:11:33.358699Z",
     "shell.execute_reply": "2023-09-09T18:11:33.358367Z"
    },
    "papermill": {
     "duration": 0.00785,
     "end_time": "2023-09-09T18:11:33.359930",
     "exception": false,
     "start_time": "2023-09-09T18:11:33.352080",
     "status": "completed"
    },
    "tags": []
   },
   "outputs": [],
   "source": [
    "np.random.seed(0)"
   ]
  },
  {
   "cell_type": "code",
   "execution_count": 9,
   "id": "63638c0b-b436-48a9-93e0-db2adb939a61",
   "metadata": {
    "execution": {
     "iopub.execute_input": "2023-09-09T18:11:33.369050Z",
     "iopub.status.busy": "2023-09-09T18:11:33.368750Z",
     "iopub.status.idle": "2023-09-09T18:11:33.375794Z",
     "shell.execute_reply": "2023-09-09T18:11:33.375411Z"
    },
    "papermill": {
     "duration": 0.012907,
     "end_time": "2023-09-09T18:11:33.377042",
     "exception": false,
     "start_time": "2023-09-09T18:11:33.364135",
     "status": "completed"
    },
    "tags": []
   },
   "outputs": [],
   "source": [
    "data = np.random.rand(n_genes, n_samples)"
   ]
  },
  {
   "cell_type": "code",
   "execution_count": 10,
   "id": "808017ed-9a8a-4bf7-a3dd-42317a39ce8f",
   "metadata": {
    "execution": {
     "iopub.execute_input": "2023-09-09T18:11:33.385888Z",
     "iopub.status.busy": "2023-09-09T18:11:33.385806Z",
     "iopub.status.idle": "2023-09-09T18:11:33.388471Z",
     "shell.execute_reply": "2023-09-09T18:11:33.388151Z"
    },
    "papermill": {
     "duration": 0.008461,
     "end_time": "2023-09-09T18:11:33.389722",
     "exception": false,
     "start_time": "2023-09-09T18:11:33.381261",
     "status": "completed"
    },
    "tags": []
   },
   "outputs": [
    {
     "data": {
      "text/plain": [
       "(500, 1000)"
      ]
     },
     "execution_count": 10,
     "metadata": {},
     "output_type": "execute_result"
    }
   ],
   "source": [
    "data.shape"
   ]
  },
  {
   "cell_type": "markdown",
   "id": "716e4219-cad5-453b-8331-47d310689e03",
   "metadata": {
    "papermill": {
     "duration": 0.00407,
     "end_time": "2023-09-09T18:11:33.398187",
     "exception": false,
     "start_time": "2023-09-09T18:11:33.394117",
     "status": "completed"
    },
    "tags": []
   },
   "source": [
    "# Profile"
   ]
  },
  {
   "cell_type": "code",
   "execution_count": 11,
   "id": "67807856-f337-4c6e-ae31-cd306577a314",
   "metadata": {
    "execution": {
     "iopub.execute_input": "2023-09-09T18:11:33.407075Z",
     "iopub.status.busy": "2023-09-09T18:11:33.406993Z",
     "iopub.status.idle": "2023-09-09T18:11:33.409243Z",
     "shell.execute_reply": "2023-09-09T18:11:33.408899Z"
    },
    "papermill": {
     "duration": 0.00803,
     "end_time": "2023-09-09T18:11:33.410449",
     "exception": false,
     "start_time": "2023-09-09T18:11:33.402419",
     "status": "completed"
    },
    "tags": []
   },
   "outputs": [],
   "source": [
    "def func():\n",
    "    n_clust = list(range(2, 10 + 1))\n",
    "    return ccc(data, internal_n_clusters=n_clust)"
   ]
  },
  {
   "cell_type": "code",
   "execution_count": 12,
   "id": "2965a695-5c0c-4e9e-8435-dcbfa610eb81",
   "metadata": {
    "execution": {
     "iopub.execute_input": "2023-09-09T18:11:33.419744Z",
     "iopub.status.busy": "2023-09-09T18:11:33.419655Z",
     "iopub.status.idle": "2023-09-09T18:33:00.021974Z",
     "shell.execute_reply": "2023-09-09T18:33:00.021444Z"
    },
    "papermill": {
     "duration": 1286.612566,
     "end_time": "2023-09-09T18:33:00.027331",
     "exception": false,
     "start_time": "2023-09-09T18:11:33.414765",
     "status": "completed"
    },
    "tags": []
   },
   "outputs": [
    {
     "name": "stdout",
     "output_type": "stream",
     "text": [
      "1min 20s ± 615 ms per loop (mean ± std. dev. of 7 runs, 1 loop each)\n"
     ]
    }
   ],
   "source": [
    "%%timeit func()\n",
    "func()"
   ]
  },
  {
   "cell_type": "code",
   "execution_count": 13,
   "id": "51c7a416-064a-4669-a09f-16f837d32475",
   "metadata": {
    "execution": {
     "iopub.execute_input": "2023-09-09T18:33:00.041618Z",
     "iopub.status.busy": "2023-09-09T18:33:00.041525Z",
     "iopub.status.idle": "2023-09-09T18:34:42.532017Z",
     "shell.execute_reply": "2023-09-09T18:34:42.531561Z"
    },
    "papermill": {
     "duration": 102.50106,
     "end_time": "2023-09-09T18:34:42.537551",
     "exception": false,
     "start_time": "2023-09-09T18:33:00.036491",
     "status": "completed"
    },
    "tags": []
   },
   "outputs": [
    {
     "name": "stdout",
     "output_type": "stream",
     "text": [
      " \n",
      "*** Profile printout saved to text file '06-cm_many_genes.txt'. \n"
     ]
    }
   ],
   "source": [
    "%%prun -s cumulative -l 50 -T 06-cm_many_genes.txt\n",
    "func()"
   ]
  },
  {
   "cell_type": "code",
   "execution_count": null,
   "id": "e2556204-1c10-4e01-8c6c-ea63ddb37530",
   "metadata": {
    "papermill": {
     "duration": 0.00432,
     "end_time": "2023-09-09T18:34:42.546282",
     "exception": false,
     "start_time": "2023-09-09T18:34:42.541962",
     "status": "completed"
    },
    "tags": []
   },
   "outputs": [],
   "source": []
  }
 ],
 "metadata": {
  "jupytext": {
   "cell_metadata_filter": "all,-execution,-papermill,-trusted"
  },
  "kernelspec": {
   "display_name": "Python 3 (ipykernel)",
   "language": "python",
   "name": "python3"
  },
  "language_info": {
   "codemirror_mode": {
    "name": "ipython",
    "version": 3
   },
   "file_extension": ".py",
   "mimetype": "text/x-python",
   "name": "python",
   "nbconvert_exporter": "python",
   "pygments_lexer": "ipython3",
   "version": "3.9.12"
  },
  "papermill": {
   "default_parameters": {},
   "duration": 1396.866305,
   "end_time": "2023-09-09T18:34:42.868465",
   "environment_variables": {},
   "exception": null,
   "input_path": "nbs/others/05_clustermatch_profiling/12_cm_optimized/06-many_genes.ipynb",
   "output_path": "nbs/others/05_clustermatch_profiling/12_cm_optimized/06-many_genes.run.ipynb",
   "parameters": {},
   "start_time": "2023-09-09T18:11:26.002160",
   "version": "2.3.3"
  }
 },
 "nbformat": 4,
 "nbformat_minor": 5
}
