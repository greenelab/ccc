{
 "cells": [
  {
   "cell_type": "markdown",
   "id": "507e9319-381b-4934-987c-2958e7f6ace7",
   "metadata": {
    "papermill": {
     "duration": 0.004312,
     "end_time": "2023-09-11T16:10:20.837194",
     "exception": false,
     "start_time": "2023-09-11T16:10:20.832882",
     "status": "completed"
    },
    "tags": []
   },
   "source": [
    "# Description"
   ]
  },
  {
   "cell_type": "markdown",
   "id": "9a88f2a7-3773-459c-8fdc-c69c1b0bb338",
   "metadata": {
    "papermill": {
     "duration": 0.003972,
     "end_time": "2023-09-11T16:10:20.851357",
     "exception": false,
     "start_time": "2023-09-11T16:10:20.847385",
     "status": "completed"
    },
    "tags": []
   },
   "source": [
    "Clustermatch run using a larger number of genes."
   ]
  },
  {
   "cell_type": "markdown",
   "id": "72de9f6f-dc00-435e-9dba-871db859a78a",
   "metadata": {
    "papermill": {
     "duration": 0.003412,
     "end_time": "2023-09-11T16:10:20.859437",
     "exception": false,
     "start_time": "2023-09-11T16:10:20.856025",
     "status": "completed"
    },
    "tags": []
   },
   "source": [
    "# Remove pycache dir"
   ]
  },
  {
   "cell_type": "code",
   "execution_count": 1,
   "id": "88d32361-f1b5-4cf0-9a2c-7ab927d14b42",
   "metadata": {
    "execution": {
     "iopub.execute_input": "2023-09-11T16:10:20.867990Z",
     "iopub.status.busy": "2023-09-11T16:10:20.867463Z",
     "iopub.status.idle": "2023-09-11T16:10:21.122791Z",
     "shell.execute_reply": "2023-09-11T16:10:21.122227Z"
    },
    "papermill": {
     "duration": 0.261342,
     "end_time": "2023-09-11T16:10:21.124359",
     "exception": false,
     "start_time": "2023-09-11T16:10:20.863017",
     "status": "completed"
    },
    "tags": []
   },
   "outputs": [
    {
     "name": "stdout",
     "output_type": "stream",
     "text": [
      "/opt/code\r\n"
     ]
    }
   ],
   "source": [
    "!echo ${CODE_DIR}"
   ]
  },
  {
   "cell_type": "code",
   "execution_count": 2,
   "id": "8a27da6e-cf59-4276-888b-57e98fd23ccf",
   "metadata": {
    "execution": {
     "iopub.execute_input": "2023-09-11T16:10:21.139557Z",
     "iopub.status.busy": "2023-09-11T16:10:21.139395Z",
     "iopub.status.idle": "2023-09-11T16:10:21.390536Z",
     "shell.execute_reply": "2023-09-11T16:10:21.389992Z"
    },
    "papermill": {
     "duration": 0.263663,
     "end_time": "2023-09-11T16:10:21.391935",
     "exception": false,
     "start_time": "2023-09-11T16:10:21.128272",
     "status": "completed"
    },
    "tags": []
   },
   "outputs": [
    {
     "name": "stdout",
     "output_type": "stream",
     "text": [
      "/opt/code/libs/ccc/pytorch/__pycache__\r\n",
      "/opt/code/libs/ccc/utils/__pycache__\r\n",
      "/opt/code/libs/ccc/scipy/__pycache__\r\n",
      "/opt/code/libs/ccc/sklearn/__pycache__\r\n",
      "/opt/code/libs/ccc/__pycache__\r\n",
      "/opt/code/libs/ccc/coef/__pycache__\r\n"
     ]
    }
   ],
   "source": [
    "!find ${CODE_DIR}/libs -regex '^.*\\(__pycache__\\)$' -print"
   ]
  },
  {
   "cell_type": "code",
   "execution_count": 3,
   "id": "561480f7-c610-4f60-b40f-8100974ab4d1",
   "metadata": {
    "execution": {
     "iopub.execute_input": "2023-09-11T16:10:21.406974Z",
     "iopub.status.busy": "2023-09-11T16:10:21.406811Z",
     "iopub.status.idle": "2023-09-11T16:10:21.663499Z",
     "shell.execute_reply": "2023-09-11T16:10:21.662884Z"
    },
    "papermill": {
     "duration": 0.269571,
     "end_time": "2023-09-11T16:10:21.665269",
     "exception": false,
     "start_time": "2023-09-11T16:10:21.395698",
     "status": "completed"
    },
    "tags": []
   },
   "outputs": [
    {
     "name": "stdout",
     "output_type": "stream",
     "text": [
      "find: ‘/opt/code/libs/ccc/pytorch/__pycache__’: No such file or directory\r\n",
      "find: ‘/opt/code/libs/ccc/utils/__pycache__’: No such file or directory\r\n",
      "find: ‘/opt/code/libs/ccc/scipy/__pycache__’: No such file or directory\r\n",
      "find: ‘/opt/code/libs/ccc/sklearn/__pycache__’: No such file or directory\r\n",
      "find: ‘/opt/code/libs/ccc/__pycache__’: No such file or directory\r\n",
      "find: ‘/opt/code/libs/ccc/coef/__pycache__’: No such file or directory\r\n"
     ]
    }
   ],
   "source": [
    "!find ${CODE_DIR}/libs -regex '^.*\\(__pycache__\\)$' -exec rm -rf {} \\;"
   ]
  },
  {
   "cell_type": "code",
   "execution_count": 4,
   "id": "a5c90a17-c0ac-49f0-968d-ea9ea8710b00",
   "metadata": {
    "execution": {
     "iopub.execute_input": "2023-09-11T16:10:21.681568Z",
     "iopub.status.busy": "2023-09-11T16:10:21.681055Z",
     "iopub.status.idle": "2023-09-11T16:10:21.929543Z",
     "shell.execute_reply": "2023-09-11T16:10:21.928889Z"
    },
    "papermill": {
     "duration": 0.261708,
     "end_time": "2023-09-11T16:10:21.931169",
     "exception": false,
     "start_time": "2023-09-11T16:10:21.669461",
     "status": "completed"
    },
    "tags": []
   },
   "outputs": [],
   "source": [
    "!find ${CODE_DIR}/libs -regex '^.*\\(__pycache__\\)$' -print"
   ]
  },
  {
   "cell_type": "markdown",
   "id": "145563a2-3e46-4f62-8191-7444a0b315bb",
   "metadata": {
    "papermill": {
     "duration": 0.01027,
     "end_time": "2023-09-11T16:10:21.945528",
     "exception": false,
     "start_time": "2023-09-11T16:10:21.935258",
     "status": "completed"
    },
    "tags": []
   },
   "source": [
    "# Modules"
   ]
  },
  {
   "cell_type": "code",
   "execution_count": 5,
   "id": "bea3d48e-8823-403f-90f5-aea8a17b357c",
   "metadata": {
    "execution": {
     "iopub.execute_input": "2023-09-11T16:10:21.954283Z",
     "iopub.status.busy": "2023-09-11T16:10:21.953912Z",
     "iopub.status.idle": "2023-09-11T16:10:27.106311Z",
     "shell.execute_reply": "2023-09-11T16:10:27.105911Z"
    },
    "papermill": {
     "duration": 5.158628,
     "end_time": "2023-09-11T16:10:27.107947",
     "exception": false,
     "start_time": "2023-09-11T16:10:21.949319",
     "status": "completed"
    },
    "tags": []
   },
   "outputs": [],
   "source": [
    "import numpy as np\n",
    "\n",
    "from ccc.coef import ccc"
   ]
  },
  {
   "cell_type": "code",
   "execution_count": 6,
   "id": "df6b3793-930b-4c54-9f29-ecc47fc586fb",
   "metadata": {
    "execution": {
     "iopub.execute_input": "2023-09-11T16:10:27.123159Z",
     "iopub.status.busy": "2023-09-11T16:10:27.123067Z",
     "iopub.status.idle": "2023-09-11T16:10:27.130058Z",
     "shell.execute_reply": "2023-09-11T16:10:27.129712Z"
    },
    "papermill": {
     "duration": 0.019171,
     "end_time": "2023-09-11T16:10:27.131348",
     "exception": false,
     "start_time": "2023-09-11T16:10:27.112177",
     "status": "completed"
    },
    "tags": []
   },
   "outputs": [
    {
     "data": {
      "text/plain": [
       "0.15625"
      ]
     },
     "execution_count": 6,
     "metadata": {},
     "output_type": "execute_result"
    }
   ],
   "source": [
    "# let numba compile all the code before profiling\n",
    "ccc(np.random.rand(10), np.random.rand(10))"
   ]
  },
  {
   "cell_type": "markdown",
   "id": "f8399ca8-265e-4e96-b582-54045cb2f9eb",
   "metadata": {
    "papermill": {
     "duration": 0.004069,
     "end_time": "2023-09-11T16:10:27.139664",
     "exception": false,
     "start_time": "2023-09-11T16:10:27.135595",
     "status": "completed"
    },
    "tags": []
   },
   "source": [
    "# Data"
   ]
  },
  {
   "cell_type": "code",
   "execution_count": 7,
   "id": "2316ffcd-a6e4-453f-bb52-779685c5c5bf",
   "metadata": {
    "execution": {
     "iopub.execute_input": "2023-09-11T16:10:27.148399Z",
     "iopub.status.busy": "2023-09-11T16:10:27.148308Z",
     "iopub.status.idle": "2023-09-11T16:10:27.150453Z",
     "shell.execute_reply": "2023-09-11T16:10:27.150115Z"
    },
    "papermill": {
     "duration": 0.007877,
     "end_time": "2023-09-11T16:10:27.151700",
     "exception": false,
     "start_time": "2023-09-11T16:10:27.143823",
     "status": "completed"
    },
    "tags": []
   },
   "outputs": [],
   "source": [
    "n_genes, n_samples = 500, 1000"
   ]
  },
  {
   "cell_type": "code",
   "execution_count": 8,
   "id": "b2f92fb1-113d-479b-8bbf-2be229e26e8f",
   "metadata": {
    "execution": {
     "iopub.execute_input": "2023-09-11T16:10:27.160379Z",
     "iopub.status.busy": "2023-09-11T16:10:27.160284Z",
     "iopub.status.idle": "2023-09-11T16:10:27.162521Z",
     "shell.execute_reply": "2023-09-11T16:10:27.162072Z"
    },
    "papermill": {
     "duration": 0.007954,
     "end_time": "2023-09-11T16:10:27.163823",
     "exception": false,
     "start_time": "2023-09-11T16:10:27.155869",
     "status": "completed"
    },
    "tags": []
   },
   "outputs": [],
   "source": [
    "np.random.seed(0)"
   ]
  },
  {
   "cell_type": "code",
   "execution_count": 9,
   "id": "63638c0b-b436-48a9-93e0-db2adb939a61",
   "metadata": {
    "execution": {
     "iopub.execute_input": "2023-09-11T16:10:27.172487Z",
     "iopub.status.busy": "2023-09-11T16:10:27.172336Z",
     "iopub.status.idle": "2023-09-11T16:10:27.180887Z",
     "shell.execute_reply": "2023-09-11T16:10:27.180433Z"
    },
    "papermill": {
     "duration": 0.014359,
     "end_time": "2023-09-11T16:10:27.182197",
     "exception": false,
     "start_time": "2023-09-11T16:10:27.167838",
     "status": "completed"
    },
    "tags": []
   },
   "outputs": [],
   "source": [
    "data = np.random.rand(n_genes, n_samples)"
   ]
  },
  {
   "cell_type": "code",
   "execution_count": 10,
   "id": "808017ed-9a8a-4bf7-a3dd-42317a39ce8f",
   "metadata": {
    "execution": {
     "iopub.execute_input": "2023-09-11T16:10:27.190857Z",
     "iopub.status.busy": "2023-09-11T16:10:27.190686Z",
     "iopub.status.idle": "2023-09-11T16:10:27.194425Z",
     "shell.execute_reply": "2023-09-11T16:10:27.193986Z"
    },
    "papermill": {
     "duration": 0.009567,
     "end_time": "2023-09-11T16:10:27.195804",
     "exception": false,
     "start_time": "2023-09-11T16:10:27.186237",
     "status": "completed"
    },
    "tags": []
   },
   "outputs": [
    {
     "data": {
      "text/plain": [
       "(500, 1000)"
      ]
     },
     "execution_count": 10,
     "metadata": {},
     "output_type": "execute_result"
    }
   ],
   "source": [
    "data.shape"
   ]
  },
  {
   "cell_type": "markdown",
   "id": "716e4219-cad5-453b-8331-47d310689e03",
   "metadata": {
    "papermill": {
     "duration": 0.004196,
     "end_time": "2023-09-11T16:10:27.204091",
     "exception": false,
     "start_time": "2023-09-11T16:10:27.199895",
     "status": "completed"
    },
    "tags": []
   },
   "source": [
    "# Profile"
   ]
  },
  {
   "cell_type": "code",
   "execution_count": 11,
   "id": "67807856-f337-4c6e-ae31-cd306577a314",
   "metadata": {
    "execution": {
     "iopub.execute_input": "2023-09-11T16:10:27.212921Z",
     "iopub.status.busy": "2023-09-11T16:10:27.212770Z",
     "iopub.status.idle": "2023-09-11T16:10:27.215848Z",
     "shell.execute_reply": "2023-09-11T16:10:27.215380Z"
    },
    "papermill": {
     "duration": 0.009053,
     "end_time": "2023-09-11T16:10:27.217181",
     "exception": false,
     "start_time": "2023-09-11T16:10:27.208128",
     "status": "completed"
    },
    "tags": []
   },
   "outputs": [],
   "source": [
    "def func():\n",
    "    n_clust = list(range(2, 10 + 1))\n",
    "    return ccc(data, internal_n_clusters=n_clust)"
   ]
  },
  {
   "cell_type": "code",
   "execution_count": 12,
   "id": "2965a695-5c0c-4e9e-8435-dcbfa610eb81",
   "metadata": {
    "execution": {
     "iopub.execute_input": "2023-09-11T16:10:27.226144Z",
     "iopub.status.busy": "2023-09-11T16:10:27.225804Z",
     "iopub.status.idle": "2023-09-11T16:31:13.769868Z",
     "shell.execute_reply": "2023-09-11T16:31:13.769338Z"
    },
    "papermill": {
     "duration": 1246.553879,
     "end_time": "2023-09-11T16:31:13.775151",
     "exception": false,
     "start_time": "2023-09-11T16:10:27.221272",
     "status": "completed"
    },
    "tags": []
   },
   "outputs": [
    {
     "name": "stdout",
     "output_type": "stream",
     "text": [
      "1min 17s ± 624 ms per loop (mean ± std. dev. of 7 runs, 1 loop each)\n"
     ]
    }
   ],
   "source": [
    "%%timeit func()\n",
    "func()"
   ]
  },
  {
   "cell_type": "code",
   "execution_count": 13,
   "id": "51c7a416-064a-4669-a09f-16f837d32475",
   "metadata": {
    "execution": {
     "iopub.execute_input": "2023-09-11T16:31:13.788925Z",
     "iopub.status.busy": "2023-09-11T16:31:13.788840Z",
     "iopub.status.idle": "2023-09-11T16:32:52.894017Z",
     "shell.execute_reply": "2023-09-11T16:32:52.893541Z"
    },
    "papermill": {
     "duration": 99.115518,
     "end_time": "2023-09-11T16:32:52.899799",
     "exception": false,
     "start_time": "2023-09-11T16:31:13.784281",
     "status": "completed"
    },
    "tags": []
   },
   "outputs": [
    {
     "name": "stdout",
     "output_type": "stream",
     "text": [
      " \n",
      "*** Profile printout saved to text file '06-cm_many_genes.txt'. \n"
     ]
    }
   ],
   "source": [
    "%%prun -s cumulative -l 50 -T 06-cm_many_genes.txt\n",
    "func()"
   ]
  },
  {
   "cell_type": "code",
   "execution_count": null,
   "id": "e2556204-1c10-4e01-8c6c-ea63ddb37530",
   "metadata": {
    "papermill": {
     "duration": 0.004007,
     "end_time": "2023-09-11T16:32:52.912855",
     "exception": false,
     "start_time": "2023-09-11T16:32:52.908848",
     "status": "completed"
    },
    "tags": []
   },
   "outputs": [],
   "source": []
  }
 ],
 "metadata": {
  "jupytext": {
   "cell_metadata_filter": "all,-execution,-papermill,-trusted"
  },
  "kernelspec": {
   "display_name": "Python 3 (ipykernel)",
   "language": "python",
   "name": "python3"
  },
  "language_info": {
   "codemirror_mode": {
    "name": "ipython",
    "version": 3
   },
   "file_extension": ".py",
   "mimetype": "text/x-python",
   "name": "python",
   "nbconvert_exporter": "python",
   "pygments_lexer": "ipython3",
   "version": "3.9.12"
  },
  "papermill": {
   "default_parameters": {},
   "duration": 1353.356231,
   "end_time": "2023-09-11T16:32:53.233662",
   "environment_variables": {},
   "exception": null,
   "input_path": "nbs/others/05_clustermatch_profiling/12_cm_optimized/06-many_genes.ipynb",
   "output_path": "nbs/others/05_clustermatch_profiling/12_cm_optimized/06-many_genes.run.ipynb",
   "parameters": {},
   "start_time": "2023-09-11T16:10:19.877431",
   "version": "2.3.3"
  }
 },
 "nbformat": 4,
 "nbformat_minor": 5
}
