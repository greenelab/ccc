{
 "cells": [
  {
   "cell_type": "markdown",
   "id": "507e9319-381b-4934-987c-2958e7f6ace7",
   "metadata": {
    "papermill": {
     "duration": 0.004792,
     "end_time": "2023-09-09T18:11:26.950635",
     "exception": false,
     "start_time": "2023-09-09T18:11:26.945843",
     "status": "completed"
    },
    "tags": []
   },
   "source": [
    "# Description"
   ]
  },
  {
   "cell_type": "markdown",
   "id": "9a88f2a7-3773-459c-8fdc-c69c1b0bb338",
   "metadata": {
    "papermill": {
     "duration": 0.003866,
     "end_time": "2023-09-09T18:11:26.958656",
     "exception": false,
     "start_time": "2023-09-09T18:11:26.954790",
     "status": "completed"
    },
    "tags": []
   },
   "source": [
    "Similar as `06` but with numba disabled to compare with a pure Python implementation.\n",
    "\n",
    "Here I had to reduce the number of `n_genes`, since it takes too much otherwise."
   ]
  },
  {
   "cell_type": "markdown",
   "id": "61443ae0-70fe-42c4-adf2-76b8a7b22217",
   "metadata": {
    "papermill": {
     "duration": 0.003869,
     "end_time": "2023-09-09T18:11:26.967614",
     "exception": false,
     "start_time": "2023-09-09T18:11:26.963745",
     "status": "completed"
    },
    "tags": []
   },
   "source": [
    "# Disable numba"
   ]
  },
  {
   "cell_type": "code",
   "execution_count": 1,
   "id": "9495a29b-3ba6-4a51-99b0-780fa5c1d9c7",
   "metadata": {
    "execution": {
     "iopub.execute_input": "2023-09-09T18:11:26.976785Z",
     "iopub.status.busy": "2023-09-09T18:11:26.976460Z",
     "iopub.status.idle": "2023-09-09T18:11:26.984803Z",
     "shell.execute_reply": "2023-09-09T18:11:26.984323Z"
    },
    "papermill": {
     "duration": 0.014496,
     "end_time": "2023-09-09T18:11:26.986217",
     "exception": false,
     "start_time": "2023-09-09T18:11:26.971721",
     "status": "completed"
    },
    "tags": []
   },
   "outputs": [
    {
     "name": "stdout",
     "output_type": "stream",
     "text": [
      "env: NUMBA_DISABLE_JIT=1\n"
     ]
    }
   ],
   "source": [
    "%env NUMBA_DISABLE_JIT=1"
   ]
  },
  {
   "cell_type": "markdown",
   "id": "72de9f6f-dc00-435e-9dba-871db859a78a",
   "metadata": {
    "papermill": {
     "duration": 0.004508,
     "end_time": "2023-09-09T18:11:26.994864",
     "exception": false,
     "start_time": "2023-09-09T18:11:26.990356",
     "status": "completed"
    },
    "tags": []
   },
   "source": [
    "# Remove pycache dir"
   ]
  },
  {
   "cell_type": "code",
   "execution_count": 2,
   "id": "88d32361-f1b5-4cf0-9a2c-7ab927d14b42",
   "metadata": {
    "execution": {
     "iopub.execute_input": "2023-09-09T18:11:27.005754Z",
     "iopub.status.busy": "2023-09-09T18:11:27.005213Z",
     "iopub.status.idle": "2023-09-09T18:11:27.249432Z",
     "shell.execute_reply": "2023-09-09T18:11:27.248843Z"
    },
    "papermill": {
     "duration": 0.250792,
     "end_time": "2023-09-09T18:11:27.250995",
     "exception": false,
     "start_time": "2023-09-09T18:11:27.000203",
     "status": "completed"
    },
    "tags": []
   },
   "outputs": [
    {
     "name": "stdout",
     "output_type": "stream",
     "text": [
      "/opt/code\r\n"
     ]
    }
   ],
   "source": [
    "!echo ${CODE_DIR}"
   ]
  },
  {
   "cell_type": "code",
   "execution_count": 3,
   "id": "8a27da6e-cf59-4276-888b-57e98fd23ccf",
   "metadata": {
    "execution": {
     "iopub.execute_input": "2023-09-09T18:11:27.260598Z",
     "iopub.status.busy": "2023-09-09T18:11:27.260407Z",
     "iopub.status.idle": "2023-09-09T18:11:27.508366Z",
     "shell.execute_reply": "2023-09-09T18:11:27.507896Z"
    },
    "papermill": {
     "duration": 0.254393,
     "end_time": "2023-09-09T18:11:27.509752",
     "exception": false,
     "start_time": "2023-09-09T18:11:27.255359",
     "status": "completed"
    },
    "tags": []
   },
   "outputs": [
    {
     "name": "stdout",
     "output_type": "stream",
     "text": [
      "/opt/code/libs/ccc/pytorch/__pycache__\r\n",
      "/opt/code/libs/ccc/utils/__pycache__\r\n",
      "/opt/code/libs/ccc/scipy/__pycache__\r\n",
      "/opt/code/libs/ccc/sklearn/__pycache__\r\n",
      "/opt/code/libs/ccc/__pycache__\r\n",
      "/opt/code/libs/ccc/coef/__pycache__\r\n"
     ]
    }
   ],
   "source": [
    "!find ${CODE_DIR}/libs -regex '^.*\\(__pycache__\\)$' -print"
   ]
  },
  {
   "cell_type": "code",
   "execution_count": 4,
   "id": "561480f7-c610-4f60-b40f-8100974ab4d1",
   "metadata": {
    "execution": {
     "iopub.execute_input": "2023-09-09T18:11:27.519139Z",
     "iopub.status.busy": "2023-09-09T18:11:27.518978Z",
     "iopub.status.idle": "2023-09-09T18:11:27.773867Z",
     "shell.execute_reply": "2023-09-09T18:11:27.773298Z"
    },
    "papermill": {
     "duration": 0.261397,
     "end_time": "2023-09-09T18:11:27.775452",
     "exception": false,
     "start_time": "2023-09-09T18:11:27.514055",
     "status": "completed"
    },
    "tags": []
   },
   "outputs": [],
   "source": [
    "!find ${CODE_DIR}/libs -regex '^.*\\(__pycache__\\)$' -prune -exec rm -rf {} \\;"
   ]
  },
  {
   "cell_type": "code",
   "execution_count": 5,
   "id": "a5c90a17-c0ac-49f0-968d-ea9ea8710b00",
   "metadata": {
    "execution": {
     "iopub.execute_input": "2023-09-09T18:11:27.791029Z",
     "iopub.status.busy": "2023-09-09T18:11:27.790869Z",
     "iopub.status.idle": "2023-09-09T18:11:28.040912Z",
     "shell.execute_reply": "2023-09-09T18:11:28.040524Z"
    },
    "papermill": {
     "duration": 0.262463,
     "end_time": "2023-09-09T18:11:28.042325",
     "exception": false,
     "start_time": "2023-09-09T18:11:27.779862",
     "status": "completed"
    },
    "tags": []
   },
   "outputs": [],
   "source": [
    "!find ${CODE_DIR}/libs -regex '^.*\\(__pycache__\\)$' -print"
   ]
  },
  {
   "cell_type": "markdown",
   "id": "145563a2-3e46-4f62-8191-7444a0b315bb",
   "metadata": {
    "papermill": {
     "duration": 0.004036,
     "end_time": "2023-09-09T18:11:28.050707",
     "exception": false,
     "start_time": "2023-09-09T18:11:28.046671",
     "status": "completed"
    },
    "tags": []
   },
   "source": [
    "# Modules"
   ]
  },
  {
   "cell_type": "code",
   "execution_count": 6,
   "id": "bea3d48e-8823-403f-90f5-aea8a17b357c",
   "metadata": {
    "execution": {
     "iopub.execute_input": "2023-09-09T18:11:28.059507Z",
     "iopub.status.busy": "2023-09-09T18:11:28.059398Z",
     "iopub.status.idle": "2023-09-09T18:11:28.275936Z",
     "shell.execute_reply": "2023-09-09T18:11:28.275673Z"
    },
    "papermill": {
     "duration": 0.222677,
     "end_time": "2023-09-09T18:11:28.277485",
     "exception": false,
     "start_time": "2023-09-09T18:11:28.054808",
     "status": "completed"
    },
    "tags": []
   },
   "outputs": [],
   "source": [
    "import numpy as np\n",
    "\n",
    "from ccc.coef import ccc"
   ]
  },
  {
   "cell_type": "code",
   "execution_count": 7,
   "id": "df6b3793-930b-4c54-9f29-ecc47fc586fb",
   "metadata": {
    "execution": {
     "iopub.execute_input": "2023-09-09T18:11:28.287339Z",
     "iopub.status.busy": "2023-09-09T18:11:28.287104Z",
     "iopub.status.idle": "2023-09-09T18:11:28.293162Z",
     "shell.execute_reply": "2023-09-09T18:11:28.292948Z"
    },
    "papermill": {
     "duration": 0.012716,
     "end_time": "2023-09-09T18:11:28.294921",
     "exception": false,
     "start_time": "2023-09-09T18:11:28.282205",
     "status": "completed"
    },
    "tags": []
   },
   "outputs": [
    {
     "data": {
      "text/plain": [
       "0.15625"
      ]
     },
     "execution_count": 7,
     "metadata": {},
     "output_type": "execute_result"
    }
   ],
   "source": [
    "# let numba compile all the code before profiling\n",
    "ccc(np.random.rand(10), np.random.rand(10))"
   ]
  },
  {
   "cell_type": "markdown",
   "id": "f8399ca8-265e-4e96-b582-54045cb2f9eb",
   "metadata": {
    "papermill": {
     "duration": 0.004433,
     "end_time": "2023-09-09T18:11:28.304325",
     "exception": false,
     "start_time": "2023-09-09T18:11:28.299892",
     "status": "completed"
    },
    "tags": []
   },
   "source": [
    "# Data"
   ]
  },
  {
   "cell_type": "code",
   "execution_count": 8,
   "id": "2316ffcd-a6e4-453f-bb52-779685c5c5bf",
   "metadata": {
    "execution": {
     "iopub.execute_input": "2023-09-09T18:11:28.314374Z",
     "iopub.status.busy": "2023-09-09T18:11:28.314294Z",
     "iopub.status.idle": "2023-09-09T18:11:28.315939Z",
     "shell.execute_reply": "2023-09-09T18:11:28.315737Z"
    },
    "papermill": {
     "duration": 0.008157,
     "end_time": "2023-09-09T18:11:28.317104",
     "exception": false,
     "start_time": "2023-09-09T18:11:28.308947",
     "status": "completed"
    },
    "tags": []
   },
   "outputs": [],
   "source": [
    "n_genes, n_samples = 50, 1000"
   ]
  },
  {
   "cell_type": "code",
   "execution_count": 9,
   "id": "b2f92fb1-113d-479b-8bbf-2be229e26e8f",
   "metadata": {
    "execution": {
     "iopub.execute_input": "2023-09-09T18:11:28.326785Z",
     "iopub.status.busy": "2023-09-09T18:11:28.326670Z",
     "iopub.status.idle": "2023-09-09T18:11:28.328310Z",
     "shell.execute_reply": "2023-09-09T18:11:28.328108Z"
    },
    "papermill": {
     "duration": 0.007828,
     "end_time": "2023-09-09T18:11:28.329623",
     "exception": false,
     "start_time": "2023-09-09T18:11:28.321795",
     "status": "completed"
    },
    "tags": []
   },
   "outputs": [],
   "source": [
    "np.random.seed(0)"
   ]
  },
  {
   "cell_type": "code",
   "execution_count": 10,
   "id": "63638c0b-b436-48a9-93e0-db2adb939a61",
   "metadata": {
    "execution": {
     "iopub.execute_input": "2023-09-09T18:11:28.339328Z",
     "iopub.status.busy": "2023-09-09T18:11:28.339207Z",
     "iopub.status.idle": "2023-09-09T18:11:28.341141Z",
     "shell.execute_reply": "2023-09-09T18:11:28.340914Z"
    },
    "papermill": {
     "duration": 0.008106,
     "end_time": "2023-09-09T18:11:28.342397",
     "exception": false,
     "start_time": "2023-09-09T18:11:28.334291",
     "status": "completed"
    },
    "tags": []
   },
   "outputs": [],
   "source": [
    "data = np.random.rand(n_genes, n_samples)"
   ]
  },
  {
   "cell_type": "code",
   "execution_count": 11,
   "id": "808017ed-9a8a-4bf7-a3dd-42317a39ce8f",
   "metadata": {
    "execution": {
     "iopub.execute_input": "2023-09-09T18:11:28.352471Z",
     "iopub.status.busy": "2023-09-09T18:11:28.352207Z",
     "iopub.status.idle": "2023-09-09T18:11:28.355329Z",
     "shell.execute_reply": "2023-09-09T18:11:28.355023Z"
    },
    "papermill": {
     "duration": 0.009775,
     "end_time": "2023-09-09T18:11:28.356905",
     "exception": false,
     "start_time": "2023-09-09T18:11:28.347130",
     "status": "completed"
    },
    "tags": []
   },
   "outputs": [
    {
     "data": {
      "text/plain": [
       "(50, 1000)"
      ]
     },
     "execution_count": 11,
     "metadata": {},
     "output_type": "execute_result"
    }
   ],
   "source": [
    "data.shape"
   ]
  },
  {
   "cell_type": "markdown",
   "id": "716e4219-cad5-453b-8331-47d310689e03",
   "metadata": {
    "papermill": {
     "duration": 0.004472,
     "end_time": "2023-09-09T18:11:28.366135",
     "exception": false,
     "start_time": "2023-09-09T18:11:28.361663",
     "status": "completed"
    },
    "tags": []
   },
   "source": [
    "# Profile"
   ]
  },
  {
   "cell_type": "code",
   "execution_count": 12,
   "id": "67807856-f337-4c6e-ae31-cd306577a314",
   "metadata": {
    "execution": {
     "iopub.execute_input": "2023-09-09T18:11:28.373031Z",
     "iopub.status.busy": "2023-09-09T18:11:28.372687Z",
     "iopub.status.idle": "2023-09-09T18:11:28.375649Z",
     "shell.execute_reply": "2023-09-09T18:11:28.375259Z"
    },
    "papermill": {
     "duration": 0.006796,
     "end_time": "2023-09-09T18:11:28.376436",
     "exception": false,
     "start_time": "2023-09-09T18:11:28.369640",
     "status": "completed"
    },
    "tags": []
   },
   "outputs": [],
   "source": [
    "def func():\n",
    "    n_clust = list(range(2, 10 + 1))\n",
    "    return ccc(data, internal_n_clusters=n_clust)"
   ]
  },
  {
   "cell_type": "code",
   "execution_count": 13,
   "id": "2965a695-5c0c-4e9e-8435-dcbfa610eb81",
   "metadata": {
    "execution": {
     "iopub.execute_input": "2023-09-09T18:11:28.382234Z",
     "iopub.status.busy": "2023-09-09T18:11:28.381823Z",
     "iopub.status.idle": "2023-09-09T18:25:32.213654Z",
     "shell.execute_reply": "2023-09-09T18:25:32.213173Z"
    },
    "papermill": {
     "duration": 843.840604,
     "end_time": "2023-09-09T18:25:32.219483",
     "exception": false,
     "start_time": "2023-09-09T18:11:28.378879",
     "status": "completed"
    },
    "tags": []
   },
   "outputs": [
    {
     "name": "stdout",
     "output_type": "stream",
     "text": [
      "52.7 s ± 120 ms per loop (mean ± std. dev. of 7 runs, 1 loop each)\n"
     ]
    }
   ],
   "source": [
    "%%timeit func()\n",
    "func()"
   ]
  },
  {
   "cell_type": "code",
   "execution_count": 14,
   "id": "51c7a416-064a-4669-a09f-16f837d32475",
   "metadata": {
    "execution": {
     "iopub.execute_input": "2023-09-09T18:25:32.229397Z",
     "iopub.status.busy": "2023-09-09T18:25:32.229308Z",
     "iopub.status.idle": "2023-09-09T18:26:26.215198Z",
     "shell.execute_reply": "2023-09-09T18:26:26.214686Z"
    },
    "papermill": {
     "duration": 53.996671,
     "end_time": "2023-09-09T18:26:26.220868",
     "exception": false,
     "start_time": "2023-09-09T18:25:32.224197",
     "status": "completed"
    },
    "tags": []
   },
   "outputs": [
    {
     "name": "stdout",
     "output_type": "stream",
     "text": [
      " \n",
      "*** Profile printout saved to text file '08-cm_many_genes.txt'. \n"
     ]
    }
   ],
   "source": [
    "%%prun -s cumulative -l 50 -T 08-cm_many_genes.txt\n",
    "func()"
   ]
  },
  {
   "cell_type": "markdown",
   "id": "664b37eb-ead5-4b74-af40-41f1e257a5f3",
   "metadata": {
    "papermill": {
     "duration": 0.004407,
     "end_time": "2023-09-09T18:26:26.234329",
     "exception": false,
     "start_time": "2023-09-09T18:26:26.229922",
     "status": "completed"
    },
    "tags": []
   },
   "source": [
    "**CONCLUSIONS:** compared with notebook `06` (which has 500 rows (`n_genes`) instead of 50 here), this one would have taken 2.80 hours for 500 rows based on this results. Whereas the numba-compiled version took ~7 minutes."
   ]
  },
  {
   "cell_type": "code",
   "execution_count": null,
   "id": "c171afa1-7734-4ba5-b140-060d232c8f9c",
   "metadata": {
    "papermill": {
     "duration": 0.004881,
     "end_time": "2023-09-09T18:26:26.244320",
     "exception": false,
     "start_time": "2023-09-09T18:26:26.239439",
     "status": "completed"
    },
    "tags": []
   },
   "outputs": [],
   "source": []
  }
 ],
 "metadata": {
  "jupytext": {
   "cell_metadata_filter": "all,-execution,-papermill,-trusted"
  },
  "kernelspec": {
   "display_name": "Python 3 (ipykernel)",
   "language": "python",
   "name": "python3"
  },
  "language_info": {
   "codemirror_mode": {
    "name": "ipython",
    "version": 3
   },
   "file_extension": ".py",
   "mimetype": "text/x-python",
   "name": "python",
   "nbconvert_exporter": "python",
   "pygments_lexer": "ipython3",
   "version": "3.9.12"
  },
  "papermill": {
   "default_parameters": {},
   "duration": 900.476928,
   "end_time": "2023-09-09T18:26:26.466104",
   "environment_variables": {},
   "exception": null,
   "input_path": "nbs/others/05_clustermatch_profiling/12_cm_optimized/08-many_genes.ipynb",
   "output_path": "nbs/others/05_clustermatch_profiling/12_cm_optimized/08-many_genes.run.ipynb",
   "parameters": {},
   "start_time": "2023-09-09T18:11:25.989176",
   "version": "2.3.3"
  }
 },
 "nbformat": 4,
 "nbformat_minor": 5
}
