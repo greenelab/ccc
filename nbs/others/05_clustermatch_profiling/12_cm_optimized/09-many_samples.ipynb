{
 "cells": [
  {
   "cell_type": "markdown",
   "id": "fd52facb-2470-4824-83d4-7c9fd042ecfb",
   "metadata": {
    "papermill": {
     "duration": 0.005324,
     "end_time": "2023-09-09T18:11:26.968978",
     "exception": false,
     "start_time": "2023-09-09T18:11:26.963654",
     "status": "completed"
    },
    "tags": []
   },
   "source": [
    "# Description"
   ]
  },
  {
   "cell_type": "markdown",
   "id": "7e0a6af6-c10e-45a5-9d8a-8849bf5ce82d",
   "metadata": {
    "papermill": {
     "duration": 0.00561,
     "end_time": "2023-09-09T18:11:26.979366",
     "exception": false,
     "start_time": "2023-09-09T18:11:26.973756",
     "status": "completed"
    },
    "tags": []
   },
   "source": [
    "Similar as `07` but with numba disabled to compare with a pure Python implementation."
   ]
  },
  {
   "cell_type": "markdown",
   "id": "874ffd00-afe1-4b51-bb22-350cbd9479f1",
   "metadata": {
    "papermill": {
     "duration": 0.004574,
     "end_time": "2023-09-09T18:11:26.988575",
     "exception": false,
     "start_time": "2023-09-09T18:11:26.984001",
     "status": "completed"
    },
    "tags": []
   },
   "source": [
    "# Disable numba"
   ]
  },
  {
   "cell_type": "code",
   "execution_count": 1,
   "id": "502fe9ff-d27d-43bd-aa37-73edf7ba4f24",
   "metadata": {
    "execution": {
     "iopub.execute_input": "2023-09-09T18:11:26.999033Z",
     "iopub.status.busy": "2023-09-09T18:11:26.998799Z",
     "iopub.status.idle": "2023-09-09T18:11:27.007946Z",
     "shell.execute_reply": "2023-09-09T18:11:27.007430Z"
    },
    "papermill": {
     "duration": 0.016071,
     "end_time": "2023-09-09T18:11:27.009362",
     "exception": false,
     "start_time": "2023-09-09T18:11:26.993291",
     "status": "completed"
    },
    "tags": []
   },
   "outputs": [
    {
     "name": "stdout",
     "output_type": "stream",
     "text": [
      "env: NUMBA_DISABLE_JIT=1\n"
     ]
    }
   ],
   "source": [
    "%env NUMBA_DISABLE_JIT=1"
   ]
  },
  {
   "cell_type": "markdown",
   "id": "325cb06a-df7f-43e8-be3e-f704aaf015b0",
   "metadata": {
    "papermill": {
     "duration": 0.004575,
     "end_time": "2023-09-09T18:11:27.018748",
     "exception": false,
     "start_time": "2023-09-09T18:11:27.014173",
     "status": "completed"
    },
    "tags": []
   },
   "source": [
    "# Remove pycache dir"
   ]
  },
  {
   "cell_type": "code",
   "execution_count": 2,
   "id": "73f954a6-1776-4b92-bd0e-fc3caf5df081",
   "metadata": {
    "execution": {
     "iopub.execute_input": "2023-09-09T18:11:27.029722Z",
     "iopub.status.busy": "2023-09-09T18:11:27.029327Z",
     "iopub.status.idle": "2023-09-09T18:11:27.275531Z",
     "shell.execute_reply": "2023-09-09T18:11:27.275092Z"
    },
    "papermill": {
     "duration": 0.253497,
     "end_time": "2023-09-09T18:11:27.276932",
     "exception": false,
     "start_time": "2023-09-09T18:11:27.023435",
     "status": "completed"
    },
    "tags": []
   },
   "outputs": [
    {
     "name": "stdout",
     "output_type": "stream",
     "text": [
      "/opt/code\r\n"
     ]
    }
   ],
   "source": [
    "!echo ${CODE_DIR}"
   ]
  },
  {
   "cell_type": "code",
   "execution_count": 3,
   "id": "d17492bb-34fe-4c34-a693-419180ba068e",
   "metadata": {
    "execution": {
     "iopub.execute_input": "2023-09-09T18:11:27.287299Z",
     "iopub.status.busy": "2023-09-09T18:11:27.287179Z",
     "iopub.status.idle": "2023-09-09T18:11:27.534275Z",
     "shell.execute_reply": "2023-09-09T18:11:27.533814Z"
    },
    "papermill": {
     "duration": 0.253586,
     "end_time": "2023-09-09T18:11:27.535572",
     "exception": false,
     "start_time": "2023-09-09T18:11:27.281986",
     "status": "completed"
    },
    "tags": []
   },
   "outputs": [
    {
     "name": "stdout",
     "output_type": "stream",
     "text": [
      "/opt/code/libs/ccc/pytorch/__pycache__\r\n",
      "/opt/code/libs/ccc/utils/__pycache__\r\n",
      "/opt/code/libs/ccc/scipy/__pycache__\r\n",
      "/opt/code/libs/ccc/sklearn/__pycache__\r\n",
      "/opt/code/libs/ccc/__pycache__\r\n",
      "/opt/code/libs/ccc/coef/__pycache__\r\n"
     ]
    }
   ],
   "source": [
    "!find ${CODE_DIR}/libs -regex '^.*\\(__pycache__\\)$' -print"
   ]
  },
  {
   "cell_type": "code",
   "execution_count": 4,
   "id": "5683e330-1782-43b3-bb78-255198f03620",
   "metadata": {
    "execution": {
     "iopub.execute_input": "2023-09-09T18:11:27.546505Z",
     "iopub.status.busy": "2023-09-09T18:11:27.546342Z",
     "iopub.status.idle": "2023-09-09T18:11:27.791690Z",
     "shell.execute_reply": "2023-09-09T18:11:27.791082Z"
    },
    "papermill": {
     "duration": 0.252538,
     "end_time": "2023-09-09T18:11:27.793374",
     "exception": false,
     "start_time": "2023-09-09T18:11:27.540836",
     "status": "completed"
    },
    "tags": []
   },
   "outputs": [],
   "source": [
    "!find ${CODE_DIR}/libs -regex '^.*\\(__pycache__\\)$' -prune -exec rm -rf {} \\;"
   ]
  },
  {
   "cell_type": "code",
   "execution_count": 5,
   "id": "5cf4ce29-d611-4fc8-8880-293c09e5ab9a",
   "metadata": {
    "execution": {
     "iopub.execute_input": "2023-09-09T18:11:27.804460Z",
     "iopub.status.busy": "2023-09-09T18:11:27.804089Z",
     "iopub.status.idle": "2023-09-09T18:11:28.055785Z",
     "shell.execute_reply": "2023-09-09T18:11:28.055119Z"
    },
    "papermill": {
     "duration": 0.259051,
     "end_time": "2023-09-09T18:11:28.057374",
     "exception": false,
     "start_time": "2023-09-09T18:11:27.798323",
     "status": "completed"
    },
    "tags": []
   },
   "outputs": [],
   "source": [
    "!find ${CODE_DIR}/libs -regex '^.*\\(__pycache__\\)$' -print"
   ]
  },
  {
   "cell_type": "markdown",
   "id": "35a04385-a901-4726-82a6-a01f16281efe",
   "metadata": {
    "papermill": {
     "duration": 0.005153,
     "end_time": "2023-09-09T18:11:28.067469",
     "exception": false,
     "start_time": "2023-09-09T18:11:28.062316",
     "status": "completed"
    },
    "tags": []
   },
   "source": [
    "# Modules"
   ]
  },
  {
   "cell_type": "code",
   "execution_count": 6,
   "id": "a75c4496-d379-4668-905d-0e9136981f0c",
   "metadata": {
    "execution": {
     "iopub.execute_input": "2023-09-09T18:11:28.083557Z",
     "iopub.status.busy": "2023-09-09T18:11:28.083289Z",
     "iopub.status.idle": "2023-09-09T18:11:28.307156Z",
     "shell.execute_reply": "2023-09-09T18:11:28.306828Z"
    },
    "papermill": {
     "duration": 0.2338,
     "end_time": "2023-09-09T18:11:28.308196",
     "exception": false,
     "start_time": "2023-09-09T18:11:28.074396",
     "status": "completed"
    },
    "tags": []
   },
   "outputs": [],
   "source": [
    "import numpy as np\n",
    "\n",
    "from ccc.coef import ccc"
   ]
  },
  {
   "cell_type": "code",
   "execution_count": 7,
   "id": "1a58ccf8-1bf5-4177-9b06-944a0d57655a",
   "metadata": {
    "execution": {
     "iopub.execute_input": "2023-09-09T18:11:28.314140Z",
     "iopub.status.busy": "2023-09-09T18:11:28.314052Z",
     "iopub.status.idle": "2023-09-09T18:11:28.320356Z",
     "shell.execute_reply": "2023-09-09T18:11:28.320125Z"
    },
    "papermill": {
     "duration": 0.010174,
     "end_time": "2023-09-09T18:11:28.321221",
     "exception": false,
     "start_time": "2023-09-09T18:11:28.311047",
     "status": "completed"
    },
    "tags": []
   },
   "outputs": [
    {
     "data": {
      "text/plain": [
       "0.0"
      ]
     },
     "execution_count": 7,
     "metadata": {},
     "output_type": "execute_result"
    }
   ],
   "source": [
    "# let numba compile all the code before profiling\n",
    "ccc(np.random.rand(10), np.random.rand(10))"
   ]
  },
  {
   "cell_type": "markdown",
   "id": "2c92a1ad-2fc9-4a16-a5f8-fce685246996",
   "metadata": {
    "papermill": {
     "duration": 0.002883,
     "end_time": "2023-09-09T18:11:28.327148",
     "exception": false,
     "start_time": "2023-09-09T18:11:28.324265",
     "status": "completed"
    },
    "tags": []
   },
   "source": [
    "# Data"
   ]
  },
  {
   "cell_type": "code",
   "execution_count": 8,
   "id": "2316ffcd-a6e4-453f-bb52-779685c5c5bf",
   "metadata": {
    "execution": {
     "iopub.execute_input": "2023-09-09T18:11:28.333169Z",
     "iopub.status.busy": "2023-09-09T18:11:28.333050Z",
     "iopub.status.idle": "2023-09-09T18:11:28.334937Z",
     "shell.execute_reply": "2023-09-09T18:11:28.334722Z"
    },
    "papermill": {
     "duration": 0.006182,
     "end_time": "2023-09-09T18:11:28.336101",
     "exception": false,
     "start_time": "2023-09-09T18:11:28.329919",
     "status": "completed"
    },
    "tags": []
   },
   "outputs": [],
   "source": [
    "n_genes, n_samples = 10, 30000"
   ]
  },
  {
   "cell_type": "code",
   "execution_count": 9,
   "id": "b2f92fb1-113d-479b-8bbf-2be229e26e8f",
   "metadata": {
    "execution": {
     "iopub.execute_input": "2023-09-09T18:11:28.347251Z",
     "iopub.status.busy": "2023-09-09T18:11:28.347051Z",
     "iopub.status.idle": "2023-09-09T18:11:28.348730Z",
     "shell.execute_reply": "2023-09-09T18:11:28.348524Z"
    },
    "papermill": {
     "duration": 0.008403,
     "end_time": "2023-09-09T18:11:28.349845",
     "exception": false,
     "start_time": "2023-09-09T18:11:28.341442",
     "status": "completed"
    },
    "tags": []
   },
   "outputs": [],
   "source": [
    "np.random.seed(0)"
   ]
  },
  {
   "cell_type": "code",
   "execution_count": 10,
   "id": "63638c0b-b436-48a9-93e0-db2adb939a61",
   "metadata": {
    "execution": {
     "iopub.execute_input": "2023-09-09T18:11:28.361377Z",
     "iopub.status.busy": "2023-09-09T18:11:28.361134Z",
     "iopub.status.idle": "2023-09-09T18:11:28.365081Z",
     "shell.execute_reply": "2023-09-09T18:11:28.364801Z"
    },
    "papermill": {
     "duration": 0.01076,
     "end_time": "2023-09-09T18:11:28.366316",
     "exception": false,
     "start_time": "2023-09-09T18:11:28.355556",
     "status": "completed"
    },
    "tags": []
   },
   "outputs": [],
   "source": [
    "data = np.random.rand(n_genes, n_samples)"
   ]
  },
  {
   "cell_type": "code",
   "execution_count": 11,
   "id": "808017ed-9a8a-4bf7-a3dd-42317a39ce8f",
   "metadata": {
    "execution": {
     "iopub.execute_input": "2023-09-09T18:11:28.377605Z",
     "iopub.status.busy": "2023-09-09T18:11:28.377518Z",
     "iopub.status.idle": "2023-09-09T18:11:28.379910Z",
     "shell.execute_reply": "2023-09-09T18:11:28.379653Z"
    },
    "papermill": {
     "duration": 0.009864,
     "end_time": "2023-09-09T18:11:28.381608",
     "exception": false,
     "start_time": "2023-09-09T18:11:28.371744",
     "status": "completed"
    },
    "tags": []
   },
   "outputs": [
    {
     "data": {
      "text/plain": [
       "(10, 30000)"
      ]
     },
     "execution_count": 11,
     "metadata": {},
     "output_type": "execute_result"
    }
   ],
   "source": [
    "data.shape"
   ]
  },
  {
   "cell_type": "markdown",
   "id": "716e4219-cad5-453b-8331-47d310689e03",
   "metadata": {
    "papermill": {
     "duration": 0.005235,
     "end_time": "2023-09-09T18:11:28.392280",
     "exception": false,
     "start_time": "2023-09-09T18:11:28.387045",
     "status": "completed"
    },
    "tags": []
   },
   "source": [
    "# With default `internal_n_clusters`"
   ]
  },
  {
   "cell_type": "code",
   "execution_count": 12,
   "id": "67807856-f337-4c6e-ae31-cd306577a314",
   "metadata": {
    "execution": {
     "iopub.execute_input": "2023-09-09T18:11:28.403302Z",
     "iopub.status.busy": "2023-09-09T18:11:28.403148Z",
     "iopub.status.idle": "2023-09-09T18:11:28.406099Z",
     "shell.execute_reply": "2023-09-09T18:11:28.405708Z"
    },
    "papermill": {
     "duration": 0.009759,
     "end_time": "2023-09-09T18:11:28.407326",
     "exception": false,
     "start_time": "2023-09-09T18:11:28.397567",
     "status": "completed"
    },
    "tags": []
   },
   "outputs": [],
   "source": [
    "def func():\n",
    "    n_clust = list(range(2, 10 + 1))\n",
    "    return ccc(data, internal_n_clusters=n_clust)"
   ]
  },
  {
   "cell_type": "code",
   "execution_count": 13,
   "id": "2965a695-5c0c-4e9e-8435-dcbfa610eb81",
   "metadata": {
    "execution": {
     "iopub.execute_input": "2023-09-09T18:11:28.418279Z",
     "iopub.status.busy": "2023-09-09T18:11:28.417916Z",
     "iopub.status.idle": "2023-09-09T18:25:46.162381Z",
     "shell.execute_reply": "2023-09-09T18:25:46.161866Z"
    },
    "papermill": {
     "duration": 857.753251,
     "end_time": "2023-09-09T18:25:46.165637",
     "exception": false,
     "start_time": "2023-09-09T18:11:28.412386",
     "status": "completed"
    },
    "tags": []
   },
   "outputs": [
    {
     "name": "stdout",
     "output_type": "stream",
     "text": [
      "53.6 s ± 146 ms per loop (mean ± std. dev. of 7 runs, 1 loop each)\n"
     ]
    }
   ],
   "source": [
    "%%timeit func()\n",
    "func()"
   ]
  },
  {
   "cell_type": "code",
   "execution_count": 14,
   "id": "51c7a416-064a-4669-a09f-16f837d32475",
   "metadata": {
    "execution": {
     "iopub.execute_input": "2023-09-09T18:25:46.181455Z",
     "iopub.status.busy": "2023-09-09T18:25:46.181366Z",
     "iopub.status.idle": "2023-09-09T18:26:39.443999Z",
     "shell.execute_reply": "2023-09-09T18:26:39.443529Z"
    },
    "papermill": {
     "duration": 53.275802,
     "end_time": "2023-09-09T18:26:39.451043",
     "exception": false,
     "start_time": "2023-09-09T18:25:46.175241",
     "status": "completed"
    },
    "tags": []
   },
   "outputs": [
    {
     "name": "stdout",
     "output_type": "stream",
     "text": [
      " \n",
      "*** Profile printout saved to text file '09-cm_many_samples-default_internal_n_clusters.txt'. \n"
     ]
    }
   ],
   "source": [
    "%%prun -s cumulative -l 50 -T 09-cm_many_samples-default_internal_n_clusters.txt\n",
    "func()"
   ]
  },
  {
   "cell_type": "markdown",
   "id": "cd74d8b8-517c-42cf-9dbf-27474b2c3822",
   "metadata": {
    "papermill": {
     "duration": 0.005326,
     "end_time": "2023-09-09T18:26:39.465459",
     "exception": false,
     "start_time": "2023-09-09T18:26:39.460133",
     "status": "completed"
    },
    "tags": []
   },
   "source": [
    "These results are just slightly worse than the numba-compiled version (notebook `07`)."
   ]
  },
  {
   "cell_type": "markdown",
   "id": "025974ff-06d4-4d82-9b05-03f7a84d7211",
   "metadata": {
    "papermill": {
     "duration": 0.005245,
     "end_time": "2023-09-09T18:26:39.476106",
     "exception": false,
     "start_time": "2023-09-09T18:26:39.470861",
     "status": "completed"
    },
    "tags": []
   },
   "source": [
    "# With reduced `internal_n_clusters`"
   ]
  },
  {
   "cell_type": "code",
   "execution_count": 15,
   "id": "c20c4ecf-8060-495e-92b0-eb8e0d0dfbf3",
   "metadata": {
    "execution": {
     "iopub.execute_input": "2023-09-09T18:26:39.487510Z",
     "iopub.status.busy": "2023-09-09T18:26:39.487341Z",
     "iopub.status.idle": "2023-09-09T18:26:39.489780Z",
     "shell.execute_reply": "2023-09-09T18:26:39.489424Z"
    },
    "papermill": {
     "duration": 0.009519,
     "end_time": "2023-09-09T18:26:39.491006",
     "exception": false,
     "start_time": "2023-09-09T18:26:39.481487",
     "status": "completed"
    },
    "tags": []
   },
   "outputs": [],
   "source": [
    "def func():\n",
    "    n_clust = list(range(2, 5 + 1))\n",
    "    return ccc(data, internal_n_clusters=n_clust)"
   ]
  },
  {
   "cell_type": "code",
   "execution_count": 16,
   "id": "11259d8c-3bf3-4299-b47b-211556c3bc08",
   "metadata": {
    "execution": {
     "iopub.execute_input": "2023-09-09T18:26:39.502452Z",
     "iopub.status.busy": "2023-09-09T18:26:39.502360Z",
     "iopub.status.idle": "2023-09-09T18:29:31.181542Z",
     "shell.execute_reply": "2023-09-09T18:29:31.181103Z"
    },
    "papermill": {
     "duration": 171.717392,
     "end_time": "2023-09-09T18:29:31.213771",
     "exception": false,
     "start_time": "2023-09-09T18:26:39.496379",
     "status": "completed"
    },
    "tags": []
   },
   "outputs": [
    {
     "name": "stdout",
     "output_type": "stream",
     "text": [
      "10.7 s ± 72.5 ms per loop (mean ± std. dev. of 7 runs, 1 loop each)\n"
     ]
    }
   ],
   "source": [
    "%%timeit func()\n",
    "func()"
   ]
  },
  {
   "cell_type": "code",
   "execution_count": 17,
   "id": "42d9e6e0-3c01-46e1-a409-52ff26cb78f4",
   "metadata": {
    "execution": {
     "iopub.execute_input": "2023-09-09T18:29:31.228594Z",
     "iopub.status.busy": "2023-09-09T18:29:31.228495Z",
     "iopub.status.idle": "2023-09-09T18:29:41.902788Z",
     "shell.execute_reply": "2023-09-09T18:29:41.902332Z"
    },
    "papermill": {
     "duration": 10.681284,
     "end_time": "2023-09-09T18:29:41.904046",
     "exception": false,
     "start_time": "2023-09-09T18:29:31.222762",
     "status": "completed"
    },
    "tags": []
   },
   "outputs": [
    {
     "name": "stdout",
     "output_type": "stream",
     "text": [
      " \n",
      "*** Profile printout saved to text file '09-cm_many_samples-less_internal_n_clusters.txt'. \n"
     ]
    }
   ],
   "source": [
    "%%prun -s cumulative -l 50 -T 09-cm_many_samples-less_internal_n_clusters.txt\n",
    "func()"
   ]
  },
  {
   "cell_type": "markdown",
   "id": "ba154ea5-5301-4fd4-8fc7-71534435a2a5",
   "metadata": {
    "papermill": {
     "duration": 0.010356,
     "end_time": "2023-09-09T18:29:41.919883",
     "exception": false,
     "start_time": "2023-09-09T18:29:41.909527",
     "status": "completed"
    },
    "tags": []
   },
   "source": [
    "These results are slightly better than the numba-compiled version (notebook `07`), which is surprising. In the future, it would be interesting to disable threading here to get accurate profiling results to debug this issue."
   ]
  },
  {
   "cell_type": "code",
   "execution_count": null,
   "id": "e2556204-1c10-4e01-8c6c-ea63ddb37530",
   "metadata": {
    "papermill": {
     "duration": 0.005143,
     "end_time": "2023-09-09T18:29:41.930281",
     "exception": false,
     "start_time": "2023-09-09T18:29:41.925138",
     "status": "completed"
    },
    "tags": []
   },
   "outputs": [],
   "source": []
  }
 ],
 "metadata": {
  "jupytext": {
   "cell_metadata_filter": "all,-execution,-papermill,-trusted"
  },
  "kernelspec": {
   "display_name": "Python 3 (ipykernel)",
   "language": "python",
   "name": "python3"
  },
  "language_info": {
   "codemirror_mode": {
    "name": "ipython",
    "version": 3
   },
   "file_extension": ".py",
   "mimetype": "text/x-python",
   "name": "python",
   "nbconvert_exporter": "python",
   "pygments_lexer": "ipython3",
   "version": "3.9.12"
  },
  "papermill": {
   "default_parameters": {},
   "duration": 1096.149944,
   "end_time": "2023-09-09T18:29:42.154197",
   "environment_variables": {},
   "exception": null,
   "input_path": "nbs/others/05_clustermatch_profiling/12_cm_optimized/09-many_samples.ipynb",
   "output_path": "nbs/others/05_clustermatch_profiling/12_cm_optimized/09-many_samples.run.ipynb",
   "parameters": {},
   "start_time": "2023-09-09T18:11:26.004253",
   "version": "2.3.3"
  }
 },
 "nbformat": 4,
 "nbformat_minor": 5
}
