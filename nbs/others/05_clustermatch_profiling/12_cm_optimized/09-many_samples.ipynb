{
 "cells": [
  {
   "cell_type": "markdown",
   "id": "fd52facb-2470-4824-83d4-7c9fd042ecfb",
   "metadata": {
    "papermill": {
     "duration": 0.005423,
     "end_time": "2023-09-11T16:48:25.302285",
     "exception": false,
     "start_time": "2023-09-11T16:48:25.296862",
     "status": "completed"
    },
    "tags": []
   },
   "source": [
    "# Description"
   ]
  },
  {
   "cell_type": "markdown",
   "id": "7e0a6af6-c10e-45a5-9d8a-8849bf5ce82d",
   "metadata": {
    "papermill": {
     "duration": 0.005571,
     "end_time": "2023-09-11T16:48:25.318071",
     "exception": false,
     "start_time": "2023-09-11T16:48:25.312500",
     "status": "completed"
    },
    "tags": []
   },
   "source": [
    "Similar as `07` but with numba disabled to compare with a pure Python implementation."
   ]
  },
  {
   "cell_type": "markdown",
   "id": "874ffd00-afe1-4b51-bb22-350cbd9479f1",
   "metadata": {
    "papermill": {
     "duration": 0.005007,
     "end_time": "2023-09-11T16:48:25.327713",
     "exception": false,
     "start_time": "2023-09-11T16:48:25.322706",
     "status": "completed"
    },
    "tags": []
   },
   "source": [
    "# Disable numba"
   ]
  },
  {
   "cell_type": "code",
   "execution_count": 1,
   "id": "502fe9ff-d27d-43bd-aa37-73edf7ba4f24",
   "metadata": {
    "execution": {
     "iopub.execute_input": "2023-09-11T16:48:25.338233Z",
     "iopub.status.busy": "2023-09-11T16:48:25.337847Z",
     "iopub.status.idle": "2023-09-11T16:48:25.346386Z",
     "shell.execute_reply": "2023-09-11T16:48:25.345918Z"
    },
    "papermill": {
     "duration": 0.015416,
     "end_time": "2023-09-11T16:48:25.347830",
     "exception": false,
     "start_time": "2023-09-11T16:48:25.332414",
     "status": "completed"
    },
    "tags": []
   },
   "outputs": [
    {
     "name": "stdout",
     "output_type": "stream",
     "text": [
      "env: NUMBA_DISABLE_JIT=1\n"
     ]
    }
   ],
   "source": [
    "%env NUMBA_DISABLE_JIT=1"
   ]
  },
  {
   "cell_type": "markdown",
   "id": "325cb06a-df7f-43e8-be3e-f704aaf015b0",
   "metadata": {
    "papermill": {
     "duration": 0.004569,
     "end_time": "2023-09-11T16:48:25.357282",
     "exception": false,
     "start_time": "2023-09-11T16:48:25.352713",
     "status": "completed"
    },
    "tags": []
   },
   "source": [
    "# Remove pycache dir"
   ]
  },
  {
   "cell_type": "code",
   "execution_count": 2,
   "id": "73f954a6-1776-4b92-bd0e-fc3caf5df081",
   "metadata": {
    "execution": {
     "iopub.execute_input": "2023-09-11T16:48:25.367590Z",
     "iopub.status.busy": "2023-09-11T16:48:25.367299Z",
     "iopub.status.idle": "2023-09-11T16:48:25.613365Z",
     "shell.execute_reply": "2023-09-11T16:48:25.612814Z"
    },
    "papermill": {
     "duration": 0.252719,
     "end_time": "2023-09-11T16:48:25.614709",
     "exception": false,
     "start_time": "2023-09-11T16:48:25.361990",
     "status": "completed"
    },
    "tags": []
   },
   "outputs": [
    {
     "name": "stdout",
     "output_type": "stream",
     "text": [
      "/opt/code\r\n"
     ]
    }
   ],
   "source": [
    "!echo ${CODE_DIR}"
   ]
  },
  {
   "cell_type": "code",
   "execution_count": 3,
   "id": "d17492bb-34fe-4c34-a693-419180ba068e",
   "metadata": {
    "execution": {
     "iopub.execute_input": "2023-09-11T16:48:25.625258Z",
     "iopub.status.busy": "2023-09-11T16:48:25.624990Z",
     "iopub.status.idle": "2023-09-11T16:48:25.875354Z",
     "shell.execute_reply": "2023-09-11T16:48:25.874802Z"
    },
    "papermill": {
     "duration": 0.257171,
     "end_time": "2023-09-11T16:48:25.876709",
     "exception": false,
     "start_time": "2023-09-11T16:48:25.619538",
     "status": "completed"
    },
    "tags": []
   },
   "outputs": [
    {
     "name": "stdout",
     "output_type": "stream",
     "text": [
      "/opt/code/libs/ccc/pytorch/__pycache__\r\n",
      "/opt/code/libs/ccc/utils/__pycache__\r\n",
      "/opt/code/libs/ccc/scipy/__pycache__\r\n",
      "/opt/code/libs/ccc/sklearn/__pycache__\r\n",
      "/opt/code/libs/ccc/__pycache__\r\n",
      "/opt/code/libs/ccc/coef/__pycache__\r\n"
     ]
    }
   ],
   "source": [
    "!find ${CODE_DIR}/libs -regex '^.*\\(__pycache__\\)$' -print"
   ]
  },
  {
   "cell_type": "code",
   "execution_count": 4,
   "id": "5683e330-1782-43b3-bb78-255198f03620",
   "metadata": {
    "execution": {
     "iopub.execute_input": "2023-09-11T16:48:25.893476Z",
     "iopub.status.busy": "2023-09-11T16:48:25.893217Z",
     "iopub.status.idle": "2023-09-11T16:48:26.151789Z",
     "shell.execute_reply": "2023-09-11T16:48:26.151167Z"
    },
    "papermill": {
     "duration": 0.271577,
     "end_time": "2023-09-11T16:48:26.153220",
     "exception": false,
     "start_time": "2023-09-11T16:48:25.881643",
     "status": "completed"
    },
    "tags": []
   },
   "outputs": [],
   "source": [
    "!find ${CODE_DIR}/libs -regex '^.*\\(__pycache__\\)$' -prune -exec rm -rf {} \\;"
   ]
  },
  {
   "cell_type": "code",
   "execution_count": 5,
   "id": "5cf4ce29-d611-4fc8-8880-293c09e5ab9a",
   "metadata": {
    "execution": {
     "iopub.execute_input": "2023-09-11T16:48:26.169569Z",
     "iopub.status.busy": "2023-09-11T16:48:26.169299Z",
     "iopub.status.idle": "2023-09-11T16:48:26.417054Z",
     "shell.execute_reply": "2023-09-11T16:48:26.416466Z"
    },
    "papermill": {
     "duration": 0.260279,
     "end_time": "2023-09-11T16:48:26.418386",
     "exception": false,
     "start_time": "2023-09-11T16:48:26.158107",
     "status": "completed"
    },
    "tags": []
   },
   "outputs": [],
   "source": [
    "!find ${CODE_DIR}/libs -regex '^.*\\(__pycache__\\)$' -print"
   ]
  },
  {
   "cell_type": "markdown",
   "id": "35a04385-a901-4726-82a6-a01f16281efe",
   "metadata": {
    "papermill": {
     "duration": 0.00465,
     "end_time": "2023-09-11T16:48:26.427900",
     "exception": false,
     "start_time": "2023-09-11T16:48:26.423250",
     "status": "completed"
    },
    "tags": []
   },
   "source": [
    "# Modules"
   ]
  },
  {
   "cell_type": "code",
   "execution_count": 6,
   "id": "a75c4496-d379-4668-905d-0e9136981f0c",
   "metadata": {
    "execution": {
     "iopub.execute_input": "2023-09-11T16:48:26.438754Z",
     "iopub.status.busy": "2023-09-11T16:48:26.438289Z",
     "iopub.status.idle": "2023-09-11T16:48:26.650416Z",
     "shell.execute_reply": "2023-09-11T16:48:26.650097Z"
    },
    "papermill": {
     "duration": 0.219042,
     "end_time": "2023-09-11T16:48:26.651720",
     "exception": false,
     "start_time": "2023-09-11T16:48:26.432678",
     "status": "completed"
    },
    "tags": []
   },
   "outputs": [],
   "source": [
    "import numpy as np\n",
    "\n",
    "from ccc.coef import ccc"
   ]
  },
  {
   "cell_type": "code",
   "execution_count": 7,
   "id": "1a58ccf8-1bf5-4177-9b06-944a0d57655a",
   "metadata": {
    "execution": {
     "iopub.execute_input": "2023-09-11T16:48:26.662713Z",
     "iopub.status.busy": "2023-09-11T16:48:26.662629Z",
     "iopub.status.idle": "2023-09-11T16:48:26.669340Z",
     "shell.execute_reply": "2023-09-11T16:48:26.669082Z"
    },
    "papermill": {
     "duration": 0.013082,
     "end_time": "2023-09-11T16:48:26.670468",
     "exception": false,
     "start_time": "2023-09-11T16:48:26.657386",
     "status": "completed"
    },
    "tags": []
   },
   "outputs": [
    {
     "data": {
      "text/plain": [
       "0.0"
      ]
     },
     "execution_count": 7,
     "metadata": {},
     "output_type": "execute_result"
    }
   ],
   "source": [
    "# let numba compile all the code before profiling\n",
    "ccc(np.random.rand(10), np.random.rand(10))"
   ]
  },
  {
   "cell_type": "markdown",
   "id": "2c92a1ad-2fc9-4a16-a5f8-fce685246996",
   "metadata": {
    "papermill": {
     "duration": 0.004908,
     "end_time": "2023-09-11T16:48:26.680377",
     "exception": false,
     "start_time": "2023-09-11T16:48:26.675469",
     "status": "completed"
    },
    "tags": []
   },
   "source": [
    "# Data"
   ]
  },
  {
   "cell_type": "code",
   "execution_count": 8,
   "id": "2316ffcd-a6e4-453f-bb52-779685c5c5bf",
   "metadata": {
    "execution": {
     "iopub.execute_input": "2023-09-11T16:48:26.690784Z",
     "iopub.status.busy": "2023-09-11T16:48:26.690582Z",
     "iopub.status.idle": "2023-09-11T16:48:26.692769Z",
     "shell.execute_reply": "2023-09-11T16:48:26.692501Z"
    },
    "papermill": {
     "duration": 0.008615,
     "end_time": "2023-09-11T16:48:26.693902",
     "exception": false,
     "start_time": "2023-09-11T16:48:26.685287",
     "status": "completed"
    },
    "tags": []
   },
   "outputs": [],
   "source": [
    "n_genes, n_samples = 10, 30000"
   ]
  },
  {
   "cell_type": "code",
   "execution_count": 9,
   "id": "b2f92fb1-113d-479b-8bbf-2be229e26e8f",
   "metadata": {
    "execution": {
     "iopub.execute_input": "2023-09-11T16:48:26.704268Z",
     "iopub.status.busy": "2023-09-11T16:48:26.704177Z",
     "iopub.status.idle": "2023-09-11T16:48:26.706107Z",
     "shell.execute_reply": "2023-09-11T16:48:26.705853Z"
    },
    "papermill": {
     "duration": 0.008383,
     "end_time": "2023-09-11T16:48:26.707220",
     "exception": false,
     "start_time": "2023-09-11T16:48:26.698837",
     "status": "completed"
    },
    "tags": []
   },
   "outputs": [],
   "source": [
    "np.random.seed(0)"
   ]
  },
  {
   "cell_type": "code",
   "execution_count": 10,
   "id": "63638c0b-b436-48a9-93e0-db2adb939a61",
   "metadata": {
    "execution": {
     "iopub.execute_input": "2023-09-11T16:48:26.720285Z",
     "iopub.status.busy": "2023-09-11T16:48:26.720195Z",
     "iopub.status.idle": "2023-09-11T16:48:26.723756Z",
     "shell.execute_reply": "2023-09-11T16:48:26.723502Z"
    },
    "papermill": {
     "duration": 0.010636,
     "end_time": "2023-09-11T16:48:26.724920",
     "exception": false,
     "start_time": "2023-09-11T16:48:26.714284",
     "status": "completed"
    },
    "tags": []
   },
   "outputs": [],
   "source": [
    "data = np.random.rand(n_genes, n_samples)"
   ]
  },
  {
   "cell_type": "code",
   "execution_count": 11,
   "id": "808017ed-9a8a-4bf7-a3dd-42317a39ce8f",
   "metadata": {
    "execution": {
     "iopub.execute_input": "2023-09-11T16:48:26.735371Z",
     "iopub.status.busy": "2023-09-11T16:48:26.735281Z",
     "iopub.status.idle": "2023-09-11T16:48:26.737820Z",
     "shell.execute_reply": "2023-09-11T16:48:26.737572Z"
    },
    "papermill": {
     "duration": 0.00926,
     "end_time": "2023-09-11T16:48:26.739187",
     "exception": false,
     "start_time": "2023-09-11T16:48:26.729927",
     "status": "completed"
    },
    "tags": []
   },
   "outputs": [
    {
     "data": {
      "text/plain": [
       "(10, 30000)"
      ]
     },
     "execution_count": 11,
     "metadata": {},
     "output_type": "execute_result"
    }
   ],
   "source": [
    "data.shape"
   ]
  },
  {
   "cell_type": "markdown",
   "id": "716e4219-cad5-453b-8331-47d310689e03",
   "metadata": {
    "papermill": {
     "duration": 0.004872,
     "end_time": "2023-09-11T16:48:26.749148",
     "exception": false,
     "start_time": "2023-09-11T16:48:26.744276",
     "status": "completed"
    },
    "tags": []
   },
   "source": [
    "# With default `internal_n_clusters`"
   ]
  },
  {
   "cell_type": "code",
   "execution_count": 12,
   "id": "67807856-f337-4c6e-ae31-cd306577a314",
   "metadata": {
    "execution": {
     "iopub.execute_input": "2023-09-11T16:48:26.759162Z",
     "iopub.status.busy": "2023-09-11T16:48:26.758940Z",
     "iopub.status.idle": "2023-09-11T16:48:26.761104Z",
     "shell.execute_reply": "2023-09-11T16:48:26.760807Z"
    },
    "papermill": {
     "duration": 0.00761,
     "end_time": "2023-09-11T16:48:26.761771",
     "exception": false,
     "start_time": "2023-09-11T16:48:26.754161",
     "status": "completed"
    },
    "tags": []
   },
   "outputs": [],
   "source": [
    "def func():\n",
    "    n_clust = list(range(2, 10 + 1))\n",
    "    return ccc(data, internal_n_clusters=n_clust)"
   ]
  },
  {
   "cell_type": "code",
   "execution_count": 13,
   "id": "2965a695-5c0c-4e9e-8435-dcbfa610eb81",
   "metadata": {
    "execution": {
     "iopub.execute_input": "2023-09-11T16:48:26.767967Z",
     "iopub.status.busy": "2023-09-11T16:48:26.767669Z",
     "iopub.status.idle": "2023-09-11T17:02:25.643780Z",
     "shell.execute_reply": "2023-09-11T17:02:25.643321Z"
    },
    "papermill": {
     "duration": 838.885794,
     "end_time": "2023-09-11T17:02:25.650148",
     "exception": false,
     "start_time": "2023-09-11T16:48:26.764354",
     "status": "completed"
    },
    "tags": []
   },
   "outputs": [
    {
     "name": "stdout",
     "output_type": "stream",
     "text": [
      "52.4 s ± 329 ms per loop (mean ± std. dev. of 7 runs, 1 loop each)\n"
     ]
    }
   ],
   "source": [
    "%%timeit func()\n",
    "func()"
   ]
  },
  {
   "cell_type": "code",
   "execution_count": 14,
   "id": "51c7a416-064a-4669-a09f-16f837d32475",
   "metadata": {
    "execution": {
     "iopub.execute_input": "2023-09-11T17:02:25.661070Z",
     "iopub.status.busy": "2023-09-11T17:02:25.660982Z",
     "iopub.status.idle": "2023-09-11T17:03:18.750763Z",
     "shell.execute_reply": "2023-09-11T17:03:18.750309Z"
    },
    "papermill": {
     "duration": 53.101866,
     "end_time": "2023-09-11T17:03:18.757140",
     "exception": false,
     "start_time": "2023-09-11T17:02:25.655274",
     "status": "completed"
    },
    "tags": []
   },
   "outputs": [
    {
     "name": "stdout",
     "output_type": "stream",
     "text": [
      " \n",
      "*** Profile printout saved to text file '09-cm_many_samples-default_internal_n_clusters.txt'. \n"
     ]
    }
   ],
   "source": [
    "%%prun -s cumulative -l 50 -T 09-cm_many_samples-default_internal_n_clusters.txt\n",
    "func()"
   ]
  },
  {
   "cell_type": "markdown",
   "id": "cd74d8b8-517c-42cf-9dbf-27474b2c3822",
   "metadata": {
    "papermill": {
     "duration": 0.005042,
     "end_time": "2023-09-11T17:03:18.771351",
     "exception": false,
     "start_time": "2023-09-11T17:03:18.766309",
     "status": "completed"
    },
    "tags": []
   },
   "source": [
    "These results are just slightly worse than the numba-compiled version (notebook `07`)."
   ]
  },
  {
   "cell_type": "markdown",
   "id": "025974ff-06d4-4d82-9b05-03f7a84d7211",
   "metadata": {
    "papermill": {
     "duration": 0.005011,
     "end_time": "2023-09-11T17:03:18.781508",
     "exception": false,
     "start_time": "2023-09-11T17:03:18.776497",
     "status": "completed"
    },
    "tags": []
   },
   "source": [
    "# With reduced `internal_n_clusters`"
   ]
  },
  {
   "cell_type": "code",
   "execution_count": 15,
   "id": "c20c4ecf-8060-495e-92b0-eb8e0d0dfbf3",
   "metadata": {
    "execution": {
     "iopub.execute_input": "2023-09-11T17:03:18.792531Z",
     "iopub.status.busy": "2023-09-11T17:03:18.792446Z",
     "iopub.status.idle": "2023-09-11T17:03:18.794909Z",
     "shell.execute_reply": "2023-09-11T17:03:18.794578Z"
    },
    "papermill": {
     "duration": 0.009301,
     "end_time": "2023-09-11T17:03:18.796118",
     "exception": false,
     "start_time": "2023-09-11T17:03:18.786817",
     "status": "completed"
    },
    "tags": []
   },
   "outputs": [],
   "source": [
    "def func():\n",
    "    n_clust = list(range(2, 5 + 1))\n",
    "    return ccc(data, internal_n_clusters=n_clust)"
   ]
  },
  {
   "cell_type": "code",
   "execution_count": 16,
   "id": "11259d8c-3bf3-4299-b47b-211556c3bc08",
   "metadata": {
    "execution": {
     "iopub.execute_input": "2023-09-11T17:03:18.806931Z",
     "iopub.status.busy": "2023-09-11T17:03:18.806838Z",
     "iopub.status.idle": "2023-09-11T17:06:07.645545Z",
     "shell.execute_reply": "2023-09-11T17:06:07.645239Z"
    },
    "papermill": {
     "duration": 168.876975,
     "end_time": "2023-09-11T17:06:07.678287",
     "exception": false,
     "start_time": "2023-09-11T17:03:18.801312",
     "status": "completed"
    },
    "tags": []
   },
   "outputs": [
    {
     "name": "stdout",
     "output_type": "stream",
     "text": [
      "10.6 s ± 50.9 ms per loop (mean ± std. dev. of 7 runs, 1 loop each)\n"
     ]
    }
   ],
   "source": [
    "%%timeit func()\n",
    "func()"
   ]
  },
  {
   "cell_type": "code",
   "execution_count": 17,
   "id": "42d9e6e0-3c01-46e1-a409-52ff26cb78f4",
   "metadata": {
    "execution": {
     "iopub.execute_input": "2023-09-11T17:06:07.693391Z",
     "iopub.status.busy": "2023-09-11T17:06:07.693256Z",
     "iopub.status.idle": "2023-09-11T17:06:18.298491Z",
     "shell.execute_reply": "2023-09-11T17:06:18.298104Z"
    },
    "papermill": {
     "duration": 10.612566,
     "end_time": "2023-09-11T17:06:18.299849",
     "exception": false,
     "start_time": "2023-09-11T17:06:07.687283",
     "status": "completed"
    },
    "tags": []
   },
   "outputs": [
    {
     "name": "stdout",
     "output_type": "stream",
     "text": [
      " \n",
      "*** Profile printout saved to text file '09-cm_many_samples-less_internal_n_clusters.txt'. \n"
     ]
    }
   ],
   "source": [
    "%%prun -s cumulative -l 50 -T 09-cm_many_samples-less_internal_n_clusters.txt\n",
    "func()"
   ]
  },
  {
   "cell_type": "markdown",
   "id": "ba154ea5-5301-4fd4-8fc7-71534435a2a5",
   "metadata": {
    "papermill": {
     "duration": 0.010442,
     "end_time": "2023-09-11T17:06:18.315779",
     "exception": false,
     "start_time": "2023-09-11T17:06:18.305337",
     "status": "completed"
    },
    "tags": []
   },
   "source": [
    "These results are slightly better than the numba-compiled version (notebook `07`), which is surprising. In the future, it would be interesting to disable threading here to get accurate profiling results to debug this issue."
   ]
  },
  {
   "cell_type": "code",
   "execution_count": null,
   "id": "e2556204-1c10-4e01-8c6c-ea63ddb37530",
   "metadata": {
    "papermill": {
     "duration": 0.005165,
     "end_time": "2023-09-11T17:06:18.326206",
     "exception": false,
     "start_time": "2023-09-11T17:06:18.321041",
     "status": "completed"
    },
    "tags": []
   },
   "outputs": [],
   "source": []
  }
 ],
 "metadata": {
  "jupytext": {
   "cell_metadata_filter": "all,-execution,-papermill,-trusted"
  },
  "kernelspec": {
   "display_name": "Python 3 (ipykernel)",
   "language": "python",
   "name": "python3"
  },
  "language_info": {
   "codemirror_mode": {
    "name": "ipython",
    "version": 3
   },
   "file_extension": ".py",
   "mimetype": "text/x-python",
   "name": "python",
   "nbconvert_exporter": "python",
   "pygments_lexer": "ipython3",
   "version": "3.9.12"
  },
  "papermill": {
   "default_parameters": {},
   "duration": 1074.223986,
   "end_time": "2023-09-11T17:06:18.549259",
   "environment_variables": {},
   "exception": null,
   "input_path": "nbs/others/05_clustermatch_profiling/12_cm_optimized/09-many_samples.ipynb",
   "output_path": "nbs/others/05_clustermatch_profiling/12_cm_optimized/09-many_samples.run.ipynb",
   "parameters": {},
   "start_time": "2023-09-11T16:48:24.325273",
   "version": "2.3.3"
  }
 },
 "nbformat": 4,
 "nbformat_minor": 5
}
