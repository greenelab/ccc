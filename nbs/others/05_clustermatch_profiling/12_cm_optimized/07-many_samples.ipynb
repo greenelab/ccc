{
 "cells": [
  {
   "cell_type": "markdown",
   "id": "fd52facb-2470-4824-83d4-7c9fd042ecfb",
   "metadata": {
    "papermill": {
     "duration": 0.004862,
     "end_time": "2023-09-11T16:32:55.603119",
     "exception": false,
     "start_time": "2023-09-11T16:32:55.598257",
     "status": "completed"
    },
    "tags": []
   },
   "source": [
    "# Description"
   ]
  },
  {
   "cell_type": "markdown",
   "id": "b95a9893-d5af-400c-9872-dcf70ec874fb",
   "metadata": {
    "papermill": {
     "duration": 0.003177,
     "end_time": "2023-09-11T16:32:55.610130",
     "exception": false,
     "start_time": "2023-09-11T16:32:55.606953",
     "status": "completed"
    },
    "tags": []
   },
   "source": [
    "Clustermatch run using a larger number of samples."
   ]
  },
  {
   "cell_type": "markdown",
   "id": "325cb06a-df7f-43e8-be3e-f704aaf015b0",
   "metadata": {
    "papermill": {
     "duration": 0.003193,
     "end_time": "2023-09-11T16:32:55.617528",
     "exception": false,
     "start_time": "2023-09-11T16:32:55.614335",
     "status": "completed"
    },
    "tags": []
   },
   "source": [
    "# Remove pycache dir"
   ]
  },
  {
   "cell_type": "code",
   "execution_count": 1,
   "id": "73f954a6-1776-4b92-bd0e-fc3caf5df081",
   "metadata": {
    "execution": {
     "iopub.execute_input": "2023-09-11T16:32:55.623311Z",
     "iopub.status.busy": "2023-09-11T16:32:55.622871Z",
     "iopub.status.idle": "2023-09-11T16:32:55.873165Z",
     "shell.execute_reply": "2023-09-11T16:32:55.872570Z"
    },
    "papermill": {
     "duration": 0.254108,
     "end_time": "2023-09-11T16:32:55.874156",
     "exception": false,
     "start_time": "2023-09-11T16:32:55.620048",
     "status": "completed"
    },
    "tags": []
   },
   "outputs": [
    {
     "name": "stdout",
     "output_type": "stream",
     "text": [
      "/opt/code\r\n"
     ]
    }
   ],
   "source": [
    "!echo ${CODE_DIR}"
   ]
  },
  {
   "cell_type": "code",
   "execution_count": 2,
   "id": "d17492bb-34fe-4c34-a693-419180ba068e",
   "metadata": {
    "execution": {
     "iopub.execute_input": "2023-09-11T16:32:55.889629Z",
     "iopub.status.busy": "2023-09-11T16:32:55.889246Z",
     "iopub.status.idle": "2023-09-11T16:32:56.139169Z",
     "shell.execute_reply": "2023-09-11T16:32:56.138561Z"
    },
    "papermill": {
     "duration": 0.262105,
     "end_time": "2023-09-11T16:32:56.140205",
     "exception": false,
     "start_time": "2023-09-11T16:32:55.878100",
     "status": "completed"
    },
    "tags": []
   },
   "outputs": [
    {
     "name": "stdout",
     "output_type": "stream",
     "text": [
      "/opt/code/libs/ccc/pytorch/__pycache__\r\n",
      "/opt/code/libs/ccc/utils/__pycache__\r\n",
      "/opt/code/libs/ccc/scipy/__pycache__\r\n",
      "/opt/code/libs/ccc/sklearn/__pycache__\r\n",
      "/opt/code/libs/ccc/__pycache__\r\n",
      "/opt/code/libs/ccc/coef/__pycache__\r\n"
     ]
    }
   ],
   "source": [
    "!find ${CODE_DIR}/libs -regex '^.*\\(__pycache__\\)$' -print"
   ]
  },
  {
   "cell_type": "code",
   "execution_count": 3,
   "id": "5683e330-1782-43b3-bb78-255198f03620",
   "metadata": {
    "execution": {
     "iopub.execute_input": "2023-09-11T16:32:56.156151Z",
     "iopub.status.busy": "2023-09-11T16:32:56.155754Z",
     "iopub.status.idle": "2023-09-11T16:32:56.416248Z",
     "shell.execute_reply": "2023-09-11T16:32:56.415560Z"
    },
    "papermill": {
     "duration": 0.272546,
     "end_time": "2023-09-11T16:32:56.417222",
     "exception": false,
     "start_time": "2023-09-11T16:32:56.144676",
     "status": "completed"
    },
    "tags": []
   },
   "outputs": [],
   "source": [
    "!find ${CODE_DIR}/libs -regex '^.*\\(__pycache__\\)$' -prune -exec rm -rf {} \\;"
   ]
  },
  {
   "cell_type": "code",
   "execution_count": 4,
   "id": "5cf4ce29-d611-4fc8-8880-293c09e5ab9a",
   "metadata": {
    "execution": {
     "iopub.execute_input": "2023-09-11T16:32:56.432852Z",
     "iopub.status.busy": "2023-09-11T16:32:56.432481Z",
     "iopub.status.idle": "2023-09-11T16:32:56.682075Z",
     "shell.execute_reply": "2023-09-11T16:32:56.681415Z"
    },
    "papermill": {
     "duration": 0.262903,
     "end_time": "2023-09-11T16:32:56.683731",
     "exception": false,
     "start_time": "2023-09-11T16:32:56.420828",
     "status": "completed"
    },
    "tags": []
   },
   "outputs": [],
   "source": [
    "!find ${CODE_DIR}/libs -regex '^.*\\(__pycache__\\)$' -print"
   ]
  },
  {
   "cell_type": "markdown",
   "id": "35a04385-a901-4726-82a6-a01f16281efe",
   "metadata": {
    "papermill": {
     "duration": 0.010287,
     "end_time": "2023-09-11T16:32:56.698123",
     "exception": false,
     "start_time": "2023-09-11T16:32:56.687836",
     "status": "completed"
    },
    "tags": []
   },
   "source": [
    "# Modules"
   ]
  },
  {
   "cell_type": "code",
   "execution_count": 5,
   "id": "a75c4496-d379-4668-905d-0e9136981f0c",
   "metadata": {
    "execution": {
     "iopub.execute_input": "2023-09-11T16:32:56.705162Z",
     "iopub.status.busy": "2023-09-11T16:32:56.704924Z",
     "iopub.status.idle": "2023-09-11T16:33:01.912476Z",
     "shell.execute_reply": "2023-09-11T16:33:01.912016Z"
    },
    "papermill": {
     "duration": 5.212368,
     "end_time": "2023-09-11T16:33:01.914089",
     "exception": false,
     "start_time": "2023-09-11T16:32:56.701721",
     "status": "completed"
    },
    "tags": []
   },
   "outputs": [],
   "source": [
    "import numpy as np\n",
    "\n",
    "from ccc.coef import ccc"
   ]
  },
  {
   "cell_type": "code",
   "execution_count": 6,
   "id": "1a58ccf8-1bf5-4177-9b06-944a0d57655a",
   "metadata": {
    "execution": {
     "iopub.execute_input": "2023-09-11T16:33:01.929806Z",
     "iopub.status.busy": "2023-09-11T16:33:01.929715Z",
     "iopub.status.idle": "2023-09-11T16:33:01.936501Z",
     "shell.execute_reply": "2023-09-11T16:33:01.936177Z"
    },
    "papermill": {
     "duration": 0.018516,
     "end_time": "2023-09-11T16:33:01.937309",
     "exception": false,
     "start_time": "2023-09-11T16:33:01.918793",
     "status": "completed"
    },
    "tags": []
   },
   "outputs": [
    {
     "data": {
      "text/plain": [
       "1.0"
      ]
     },
     "execution_count": 6,
     "metadata": {},
     "output_type": "execute_result"
    }
   ],
   "source": [
    "# let numba compile all the code before profiling\n",
    "ccc(np.random.rand(10), np.random.rand(10))"
   ]
  },
  {
   "cell_type": "markdown",
   "id": "2c92a1ad-2fc9-4a16-a5f8-fce685246996",
   "metadata": {
    "papermill": {
     "duration": 0.002283,
     "end_time": "2023-09-11T16:33:01.942042",
     "exception": false,
     "start_time": "2023-09-11T16:33:01.939759",
     "status": "completed"
    },
    "tags": []
   },
   "source": [
    "# Data"
   ]
  },
  {
   "cell_type": "code",
   "execution_count": 7,
   "id": "2316ffcd-a6e4-453f-bb52-779685c5c5bf",
   "metadata": {
    "execution": {
     "iopub.execute_input": "2023-09-11T16:33:01.947226Z",
     "iopub.status.busy": "2023-09-11T16:33:01.947132Z",
     "iopub.status.idle": "2023-09-11T16:33:01.949106Z",
     "shell.execute_reply": "2023-09-11T16:33:01.948818Z"
    },
    "papermill": {
     "duration": 0.005524,
     "end_time": "2023-09-11T16:33:01.949897",
     "exception": false,
     "start_time": "2023-09-11T16:33:01.944373",
     "status": "completed"
    },
    "tags": []
   },
   "outputs": [],
   "source": [
    "n_genes, n_samples = 10, 30000"
   ]
  },
  {
   "cell_type": "code",
   "execution_count": 8,
   "id": "b2f92fb1-113d-479b-8bbf-2be229e26e8f",
   "metadata": {
    "execution": {
     "iopub.execute_input": "2023-09-11T16:33:01.955170Z",
     "iopub.status.busy": "2023-09-11T16:33:01.954881Z",
     "iopub.status.idle": "2023-09-11T16:33:01.956944Z",
     "shell.execute_reply": "2023-09-11T16:33:01.956661Z"
    },
    "papermill": {
     "duration": 0.005481,
     "end_time": "2023-09-11T16:33:01.957709",
     "exception": false,
     "start_time": "2023-09-11T16:33:01.952228",
     "status": "completed"
    },
    "tags": []
   },
   "outputs": [],
   "source": [
    "np.random.seed(0)"
   ]
  },
  {
   "cell_type": "code",
   "execution_count": 9,
   "id": "63638c0b-b436-48a9-93e0-db2adb939a61",
   "metadata": {
    "execution": {
     "iopub.execute_input": "2023-09-11T16:33:01.963137Z",
     "iopub.status.busy": "2023-09-11T16:33:01.963046Z",
     "iopub.status.idle": "2023-09-11T16:33:01.967043Z",
     "shell.execute_reply": "2023-09-11T16:33:01.966757Z"
    },
    "papermill": {
     "duration": 0.007457,
     "end_time": "2023-09-11T16:33:01.967823",
     "exception": false,
     "start_time": "2023-09-11T16:33:01.960366",
     "status": "completed"
    },
    "tags": []
   },
   "outputs": [],
   "source": [
    "data = np.random.rand(n_genes, n_samples)"
   ]
  },
  {
   "cell_type": "code",
   "execution_count": 10,
   "id": "808017ed-9a8a-4bf7-a3dd-42317a39ce8f",
   "metadata": {
    "execution": {
     "iopub.execute_input": "2023-09-11T16:33:01.973171Z",
     "iopub.status.busy": "2023-09-11T16:33:01.972959Z",
     "iopub.status.idle": "2023-09-11T16:33:01.975506Z",
     "shell.execute_reply": "2023-09-11T16:33:01.975212Z"
    },
    "papermill": {
     "duration": 0.006025,
     "end_time": "2023-09-11T16:33:01.976267",
     "exception": false,
     "start_time": "2023-09-11T16:33:01.970242",
     "status": "completed"
    },
    "tags": []
   },
   "outputs": [
    {
     "data": {
      "text/plain": [
       "(10, 30000)"
      ]
     },
     "execution_count": 10,
     "metadata": {},
     "output_type": "execute_result"
    }
   ],
   "source": [
    "data.shape"
   ]
  },
  {
   "cell_type": "markdown",
   "id": "716e4219-cad5-453b-8331-47d310689e03",
   "metadata": {
    "papermill": {
     "duration": 0.002313,
     "end_time": "2023-09-11T16:33:01.980965",
     "exception": false,
     "start_time": "2023-09-11T16:33:01.978652",
     "status": "completed"
    },
    "tags": []
   },
   "source": [
    "# With default `internal_n_clusters`"
   ]
  },
  {
   "cell_type": "code",
   "execution_count": 11,
   "id": "67807856-f337-4c6e-ae31-cd306577a314",
   "metadata": {
    "execution": {
     "iopub.execute_input": "2023-09-11T16:33:01.986311Z",
     "iopub.status.busy": "2023-09-11T16:33:01.986079Z",
     "iopub.status.idle": "2023-09-11T16:33:01.988206Z",
     "shell.execute_reply": "2023-09-11T16:33:01.987919Z"
    },
    "papermill": {
     "duration": 0.005631,
     "end_time": "2023-09-11T16:33:01.988971",
     "exception": false,
     "start_time": "2023-09-11T16:33:01.983340",
     "status": "completed"
    },
    "tags": []
   },
   "outputs": [],
   "source": [
    "def func():\n",
    "    n_clust = list(range(2, 10 + 1))\n",
    "    return ccc(data, internal_n_clusters=n_clust)"
   ]
  },
  {
   "cell_type": "code",
   "execution_count": 12,
   "id": "2965a695-5c0c-4e9e-8435-dcbfa610eb81",
   "metadata": {
    "execution": {
     "iopub.execute_input": "2023-09-11T16:33:01.994290Z",
     "iopub.status.busy": "2023-09-11T16:33:01.994048Z",
     "iopub.status.idle": "2023-09-11T16:33:09.816766Z",
     "shell.execute_reply": "2023-09-11T16:33:09.816288Z"
    },
    "papermill": {
     "duration": 7.826312,
     "end_time": "2023-09-11T16:33:09.817653",
     "exception": false,
     "start_time": "2023-09-11T16:33:01.991341",
     "status": "completed"
    },
    "tags": []
   },
   "outputs": [
    {
     "name": "stdout",
     "output_type": "stream",
     "text": [
      "460 ms ± 1.3 ms per loop (mean ± std. dev. of 7 runs, 1 loop each)\n"
     ]
    }
   ],
   "source": [
    "%%timeit func()\n",
    "func()"
   ]
  },
  {
   "cell_type": "code",
   "execution_count": 13,
   "id": "51c7a416-064a-4669-a09f-16f837d32475",
   "metadata": {
    "execution": {
     "iopub.execute_input": "2023-09-11T16:33:09.823699Z",
     "iopub.status.busy": "2023-09-11T16:33:09.823542Z",
     "iopub.status.idle": "2023-09-11T16:33:10.298802Z",
     "shell.execute_reply": "2023-09-11T16:33:10.298296Z"
    },
    "papermill": {
     "duration": 0.479103,
     "end_time": "2023-09-11T16:33:10.299700",
     "exception": false,
     "start_time": "2023-09-11T16:33:09.820597",
     "status": "completed"
    },
    "tags": []
   },
   "outputs": [
    {
     "name": "stdout",
     "output_type": "stream",
     "text": [
      " \n",
      "*** Profile printout saved to text file '07-cm_many_samples-default_internal_n_clusters.txt'. \n"
     ]
    }
   ],
   "source": [
    "%%prun -s cumulative -l 50 -T 07-cm_many_samples-default_internal_n_clusters.txt\n",
    "func()"
   ]
  },
  {
   "cell_type": "markdown",
   "id": "025974ff-06d4-4d82-9b05-03f7a84d7211",
   "metadata": {
    "papermill": {
     "duration": 0.010288,
     "end_time": "2023-09-11T16:33:10.312617",
     "exception": false,
     "start_time": "2023-09-11T16:33:10.302329",
     "status": "completed"
    },
    "tags": []
   },
   "source": [
    "# With reduced `internal_n_clusters`"
   ]
  },
  {
   "cell_type": "code",
   "execution_count": 14,
   "id": "c20c4ecf-8060-495e-92b0-eb8e0d0dfbf3",
   "metadata": {
    "execution": {
     "iopub.execute_input": "2023-09-11T16:33:10.318027Z",
     "iopub.status.busy": "2023-09-11T16:33:10.317860Z",
     "iopub.status.idle": "2023-09-11T16:33:10.320284Z",
     "shell.execute_reply": "2023-09-11T16:33:10.319942Z"
    },
    "papermill": {
     "duration": 0.006089,
     "end_time": "2023-09-11T16:33:10.321090",
     "exception": false,
     "start_time": "2023-09-11T16:33:10.315001",
     "status": "completed"
    },
    "tags": []
   },
   "outputs": [],
   "source": [
    "def func():\n",
    "    n_clust = list(range(2, 5 + 1))\n",
    "    return ccc(data, internal_n_clusters=n_clust)"
   ]
  },
  {
   "cell_type": "code",
   "execution_count": 15,
   "id": "11259d8c-3bf3-4299-b47b-211556c3bc08",
   "metadata": {
    "execution": {
     "iopub.execute_input": "2023-09-11T16:33:10.326630Z",
     "iopub.status.busy": "2023-09-11T16:33:10.326368Z",
     "iopub.status.idle": "2023-09-11T16:33:25.559458Z",
     "shell.execute_reply": "2023-09-11T16:33:25.559004Z"
    },
    "papermill": {
     "duration": 15.237224,
     "end_time": "2023-09-11T16:33:25.560816",
     "exception": false,
     "start_time": "2023-09-11T16:33:10.323592",
     "status": "completed"
    },
    "tags": []
   },
   "outputs": [
    {
     "name": "stdout",
     "output_type": "stream",
     "text": [
      "170 ms ± 1.2 ms per loop (mean ± std. dev. of 7 runs, 10 loops each)\n"
     ]
    }
   ],
   "source": [
    "%%timeit func()\n",
    "func()"
   ]
  },
  {
   "cell_type": "code",
   "execution_count": 16,
   "id": "42d9e6e0-3c01-46e1-a409-52ff26cb78f4",
   "metadata": {
    "execution": {
     "iopub.execute_input": "2023-09-11T16:33:25.576677Z",
     "iopub.status.busy": "2023-09-11T16:33:25.576575Z",
     "iopub.status.idle": "2023-09-11T16:33:25.751572Z",
     "shell.execute_reply": "2023-09-11T16:33:25.751115Z"
    },
    "papermill": {
     "duration": 0.187281,
     "end_time": "2023-09-11T16:33:25.752918",
     "exception": false,
     "start_time": "2023-09-11T16:33:25.565637",
     "status": "completed"
    },
    "tags": []
   },
   "outputs": [
    {
     "name": "stdout",
     "output_type": "stream",
     "text": [
      " \n",
      "*** Profile printout saved to text file '07-cm_many_samples-less_internal_n_clusters.txt'. \n"
     ]
    }
   ],
   "source": [
    "%%prun -s cumulative -l 50 -T 07-cm_many_samples-less_internal_n_clusters.txt\n",
    "func()"
   ]
  },
  {
   "cell_type": "code",
   "execution_count": null,
   "id": "e2556204-1c10-4e01-8c6c-ea63ddb37530",
   "metadata": {
    "papermill": {
     "duration": 0.010346,
     "end_time": "2023-09-11T16:33:25.768137",
     "exception": false,
     "start_time": "2023-09-11T16:33:25.757791",
     "status": "completed"
    },
    "tags": []
   },
   "outputs": [],
   "source": []
  }
 ],
 "metadata": {
  "jupytext": {
   "cell_metadata_filter": "all,-execution,-papermill,-trusted"
  },
  "kernelspec": {
   "display_name": "Python 3 (ipykernel)",
   "language": "python",
   "name": "python3"
  },
  "language_info": {
   "codemirror_mode": {
    "name": "ipython",
    "version": 3
   },
   "file_extension": ".py",
   "mimetype": "text/x-python",
   "name": "python",
   "nbconvert_exporter": "python",
   "pygments_lexer": "ipython3",
   "version": "3.9.12"
  },
  "papermill": {
   "default_parameters": {},
   "duration": 31.460592,
   "end_time": "2023-09-11T16:33:26.088092",
   "environment_variables": {},
   "exception": null,
   "input_path": "nbs/others/05_clustermatch_profiling/12_cm_optimized/07-many_samples.ipynb",
   "output_path": "nbs/others/05_clustermatch_profiling/12_cm_optimized/07-many_samples.run.ipynb",
   "parameters": {},
   "start_time": "2023-09-11T16:32:54.627500",
   "version": "2.3.3"
  }
 },
 "nbformat": 4,
 "nbformat_minor": 5
}
