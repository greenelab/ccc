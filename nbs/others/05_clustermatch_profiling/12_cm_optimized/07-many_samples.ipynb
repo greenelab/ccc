{
 "cells": [
  {
   "cell_type": "markdown",
   "id": "fd52facb-2470-4824-83d4-7c9fd042ecfb",
   "metadata": {
    "papermill": {
     "duration": 0.004899,
     "end_time": "2023-09-09T18:11:26.958167",
     "exception": false,
     "start_time": "2023-09-09T18:11:26.953268",
     "status": "completed"
    },
    "tags": []
   },
   "source": [
    "# Description"
   ]
  },
  {
   "cell_type": "markdown",
   "id": "b95a9893-d5af-400c-9872-dcf70ec874fb",
   "metadata": {
    "papermill": {
     "duration": 0.004402,
     "end_time": "2023-09-09T18:11:26.966882",
     "exception": false,
     "start_time": "2023-09-09T18:11:26.962480",
     "status": "completed"
    },
    "tags": []
   },
   "source": [
    "Clustermatch run using a larger number of samples."
   ]
  },
  {
   "cell_type": "markdown",
   "id": "325cb06a-df7f-43e8-be3e-f704aaf015b0",
   "metadata": {
    "papermill": {
     "duration": 0.004081,
     "end_time": "2023-09-09T18:11:26.976337",
     "exception": false,
     "start_time": "2023-09-09T18:11:26.972256",
     "status": "completed"
    },
    "tags": []
   },
   "source": [
    "# Remove pycache dir"
   ]
  },
  {
   "cell_type": "code",
   "execution_count": 1,
   "id": "73f954a6-1776-4b92-bd0e-fc3caf5df081",
   "metadata": {
    "execution": {
     "iopub.execute_input": "2023-09-09T18:11:26.985947Z",
     "iopub.status.busy": "2023-09-09T18:11:26.985711Z",
     "iopub.status.idle": "2023-09-09T18:11:27.238380Z",
     "shell.execute_reply": "2023-09-09T18:11:27.238047Z"
    },
    "papermill": {
     "duration": 0.259269,
     "end_time": "2023-09-09T18:11:27.239819",
     "exception": false,
     "start_time": "2023-09-09T18:11:26.980550",
     "status": "completed"
    },
    "tags": []
   },
   "outputs": [
    {
     "name": "stdout",
     "output_type": "stream",
     "text": [
      "/opt/code\r\n"
     ]
    }
   ],
   "source": [
    "!echo ${CODE_DIR}"
   ]
  },
  {
   "cell_type": "code",
   "execution_count": 2,
   "id": "d17492bb-34fe-4c34-a693-419180ba068e",
   "metadata": {
    "execution": {
     "iopub.execute_input": "2023-09-09T18:11:27.249188Z",
     "iopub.status.busy": "2023-09-09T18:11:27.249087Z",
     "iopub.status.idle": "2023-09-09T18:11:27.498459Z",
     "shell.execute_reply": "2023-09-09T18:11:27.497988Z"
    },
    "papermill": {
     "duration": 0.255054,
     "end_time": "2023-09-09T18:11:27.499308",
     "exception": false,
     "start_time": "2023-09-09T18:11:27.244254",
     "status": "completed"
    },
    "tags": []
   },
   "outputs": [
    {
     "name": "stdout",
     "output_type": "stream",
     "text": [
      "/opt/code/libs/ccc/pytorch/__pycache__\r\n",
      "/opt/code/libs/ccc/utils/__pycache__\r\n",
      "/opt/code/libs/ccc/scipy/__pycache__\r\n",
      "/opt/code/libs/ccc/sklearn/__pycache__\r\n",
      "/opt/code/libs/ccc/__pycache__\r\n",
      "/opt/code/libs/ccc/coef/__pycache__\r\n"
     ]
    }
   ],
   "source": [
    "!find ${CODE_DIR}/libs -regex '^.*\\(__pycache__\\)$' -print"
   ]
  },
  {
   "cell_type": "code",
   "execution_count": 3,
   "id": "5683e330-1782-43b3-bb78-255198f03620",
   "metadata": {
    "execution": {
     "iopub.execute_input": "2023-09-09T18:11:27.512912Z",
     "iopub.status.busy": "2023-09-09T18:11:27.512730Z",
     "iopub.status.idle": "2023-09-09T18:11:27.773814Z",
     "shell.execute_reply": "2023-09-09T18:11:27.773268Z"
    },
    "papermill": {
     "duration": 0.273783,
     "end_time": "2023-09-09T18:11:27.775461",
     "exception": false,
     "start_time": "2023-09-09T18:11:27.501678",
     "status": "completed"
    },
    "tags": []
   },
   "outputs": [],
   "source": [
    "!find ${CODE_DIR}/libs -regex '^.*\\(__pycache__\\)$' -prune -exec rm -rf {} \\;"
   ]
  },
  {
   "cell_type": "code",
   "execution_count": 4,
   "id": "5cf4ce29-d611-4fc8-8880-293c09e5ab9a",
   "metadata": {
    "execution": {
     "iopub.execute_input": "2023-09-09T18:11:27.790618Z",
     "iopub.status.busy": "2023-09-09T18:11:27.790452Z",
     "iopub.status.idle": "2023-09-09T18:11:28.033680Z",
     "shell.execute_reply": "2023-09-09T18:11:28.033141Z"
    },
    "papermill": {
     "duration": 0.255191,
     "end_time": "2023-09-09T18:11:28.035163",
     "exception": false,
     "start_time": "2023-09-09T18:11:27.779972",
     "status": "completed"
    },
    "tags": []
   },
   "outputs": [],
   "source": [
    "!find ${CODE_DIR}/libs -regex '^.*\\(__pycache__\\)$' -print"
   ]
  },
  {
   "cell_type": "markdown",
   "id": "35a04385-a901-4726-82a6-a01f16281efe",
   "metadata": {
    "papermill": {
     "duration": 0.010266,
     "end_time": "2023-09-09T18:11:28.049940",
     "exception": false,
     "start_time": "2023-09-09T18:11:28.039674",
     "status": "completed"
    },
    "tags": []
   },
   "source": [
    "# Modules"
   ]
  },
  {
   "cell_type": "code",
   "execution_count": 5,
   "id": "a75c4496-d379-4668-905d-0e9136981f0c",
   "metadata": {
    "execution": {
     "iopub.execute_input": "2023-09-09T18:11:28.059437Z",
     "iopub.status.busy": "2023-09-09T18:11:28.059272Z",
     "iopub.status.idle": "2023-09-09T18:11:33.306736Z",
     "shell.execute_reply": "2023-09-09T18:11:33.306414Z"
    },
    "papermill": {
     "duration": 5.253997,
     "end_time": "2023-09-09T18:11:33.308262",
     "exception": false,
     "start_time": "2023-09-09T18:11:28.054265",
     "status": "completed"
    },
    "tags": []
   },
   "outputs": [],
   "source": [
    "import numpy as np\n",
    "\n",
    "from ccc.coef import ccc"
   ]
  },
  {
   "cell_type": "code",
   "execution_count": 6,
   "id": "1a58ccf8-1bf5-4177-9b06-944a0d57655a",
   "metadata": {
    "execution": {
     "iopub.execute_input": "2023-09-09T18:11:33.317852Z",
     "iopub.status.busy": "2023-09-09T18:11:33.317762Z",
     "iopub.status.idle": "2023-09-09T18:11:33.323888Z",
     "shell.execute_reply": "2023-09-09T18:11:33.323626Z"
    },
    "papermill": {
     "duration": 0.01214,
     "end_time": "2023-09-09T18:11:33.325072",
     "exception": false,
     "start_time": "2023-09-09T18:11:33.312932",
     "status": "completed"
    },
    "tags": []
   },
   "outputs": [
    {
     "data": {
      "text/plain": [
       "0.28"
      ]
     },
     "execution_count": 6,
     "metadata": {},
     "output_type": "execute_result"
    }
   ],
   "source": [
    "# let numba compile all the code before profiling\n",
    "ccc(np.random.rand(10), np.random.rand(10))"
   ]
  },
  {
   "cell_type": "markdown",
   "id": "2c92a1ad-2fc9-4a16-a5f8-fce685246996",
   "metadata": {
    "papermill": {
     "duration": 0.004267,
     "end_time": "2023-09-09T18:11:33.333770",
     "exception": false,
     "start_time": "2023-09-09T18:11:33.329503",
     "status": "completed"
    },
    "tags": []
   },
   "source": [
    "# Data"
   ]
  },
  {
   "cell_type": "code",
   "execution_count": 7,
   "id": "2316ffcd-a6e4-453f-bb52-779685c5c5bf",
   "metadata": {
    "execution": {
     "iopub.execute_input": "2023-09-09T18:11:33.343005Z",
     "iopub.status.busy": "2023-09-09T18:11:33.342907Z",
     "iopub.status.idle": "2023-09-09T18:11:33.344880Z",
     "shell.execute_reply": "2023-09-09T18:11:33.344615Z"
    },
    "papermill": {
     "duration": 0.007891,
     "end_time": "2023-09-09T18:11:33.346062",
     "exception": false,
     "start_time": "2023-09-09T18:11:33.338171",
     "status": "completed"
    },
    "tags": []
   },
   "outputs": [],
   "source": [
    "n_genes, n_samples = 10, 30000"
   ]
  },
  {
   "cell_type": "code",
   "execution_count": 8,
   "id": "b2f92fb1-113d-479b-8bbf-2be229e26e8f",
   "metadata": {
    "execution": {
     "iopub.execute_input": "2023-09-09T18:11:33.355183Z",
     "iopub.status.busy": "2023-09-09T18:11:33.355085Z",
     "iopub.status.idle": "2023-09-09T18:11:33.357020Z",
     "shell.execute_reply": "2023-09-09T18:11:33.356752Z"
    },
    "papermill": {
     "duration": 0.007746,
     "end_time": "2023-09-09T18:11:33.358162",
     "exception": false,
     "start_time": "2023-09-09T18:11:33.350416",
     "status": "completed"
    },
    "tags": []
   },
   "outputs": [],
   "source": [
    "np.random.seed(0)"
   ]
  },
  {
   "cell_type": "code",
   "execution_count": 9,
   "id": "63638c0b-b436-48a9-93e0-db2adb939a61",
   "metadata": {
    "execution": {
     "iopub.execute_input": "2023-09-09T18:11:33.367364Z",
     "iopub.status.busy": "2023-09-09T18:11:33.367269Z",
     "iopub.status.idle": "2023-09-09T18:11:33.370992Z",
     "shell.execute_reply": "2023-09-09T18:11:33.370728Z"
    },
    "papermill": {
     "duration": 0.009562,
     "end_time": "2023-09-09T18:11:33.372127",
     "exception": false,
     "start_time": "2023-09-09T18:11:33.362565",
     "status": "completed"
    },
    "tags": []
   },
   "outputs": [],
   "source": [
    "data = np.random.rand(n_genes, n_samples)"
   ]
  },
  {
   "cell_type": "code",
   "execution_count": 10,
   "id": "808017ed-9a8a-4bf7-a3dd-42317a39ce8f",
   "metadata": {
    "execution": {
     "iopub.execute_input": "2023-09-09T18:11:33.381988Z",
     "iopub.status.busy": "2023-09-09T18:11:33.381733Z",
     "iopub.status.idle": "2023-09-09T18:11:33.384868Z",
     "shell.execute_reply": "2023-09-09T18:11:33.384533Z"
    },
    "papermill": {
     "duration": 0.009367,
     "end_time": "2023-09-09T18:11:33.386115",
     "exception": false,
     "start_time": "2023-09-09T18:11:33.376748",
     "status": "completed"
    },
    "tags": []
   },
   "outputs": [
    {
     "data": {
      "text/plain": [
       "(10, 30000)"
      ]
     },
     "execution_count": 10,
     "metadata": {},
     "output_type": "execute_result"
    }
   ],
   "source": [
    "data.shape"
   ]
  },
  {
   "cell_type": "markdown",
   "id": "716e4219-cad5-453b-8331-47d310689e03",
   "metadata": {
    "papermill": {
     "duration": 0.004338,
     "end_time": "2023-09-09T18:11:33.394941",
     "exception": false,
     "start_time": "2023-09-09T18:11:33.390603",
     "status": "completed"
    },
    "tags": []
   },
   "source": [
    "# With default `internal_n_clusters`"
   ]
  },
  {
   "cell_type": "code",
   "execution_count": 11,
   "id": "67807856-f337-4c6e-ae31-cd306577a314",
   "metadata": {
    "execution": {
     "iopub.execute_input": "2023-09-09T18:11:33.404539Z",
     "iopub.status.busy": "2023-09-09T18:11:33.404390Z",
     "iopub.status.idle": "2023-09-09T18:11:33.406867Z",
     "shell.execute_reply": "2023-09-09T18:11:33.406544Z"
    },
    "papermill": {
     "duration": 0.008605,
     "end_time": "2023-09-09T18:11:33.408026",
     "exception": false,
     "start_time": "2023-09-09T18:11:33.399421",
     "status": "completed"
    },
    "tags": []
   },
   "outputs": [],
   "source": [
    "def func():\n",
    "    n_clust = list(range(2, 10 + 1))\n",
    "    return ccc(data, internal_n_clusters=n_clust)"
   ]
  },
  {
   "cell_type": "code",
   "execution_count": 12,
   "id": "2965a695-5c0c-4e9e-8435-dcbfa610eb81",
   "metadata": {
    "execution": {
     "iopub.execute_input": "2023-09-09T18:11:33.417679Z",
     "iopub.status.busy": "2023-09-09T18:11:33.417452Z",
     "iopub.status.idle": "2023-09-09T18:11:41.600655Z",
     "shell.execute_reply": "2023-09-09T18:11:41.600154Z"
    },
    "papermill": {
     "duration": 8.189496,
     "end_time": "2023-09-09T18:11:41.602051",
     "exception": false,
     "start_time": "2023-09-09T18:11:33.412555",
     "status": "completed"
    },
    "tags": []
   },
   "outputs": [
    {
     "name": "stdout",
     "output_type": "stream",
     "text": [
      "481 ms ± 1.6 ms per loop (mean ± std. dev. of 7 runs, 1 loop each)\n"
     ]
    }
   ],
   "source": [
    "%%timeit func()\n",
    "func()"
   ]
  },
  {
   "cell_type": "code",
   "execution_count": 13,
   "id": "51c7a416-064a-4669-a09f-16f837d32475",
   "metadata": {
    "execution": {
     "iopub.execute_input": "2023-09-09T18:11:41.617923Z",
     "iopub.status.busy": "2023-09-09T18:11:41.617832Z",
     "iopub.status.idle": "2023-09-09T18:11:42.108724Z",
     "shell.execute_reply": "2023-09-09T18:11:42.108206Z"
    },
    "papermill": {
     "duration": 0.503252,
     "end_time": "2023-09-09T18:11:42.110083",
     "exception": false,
     "start_time": "2023-09-09T18:11:41.606831",
     "status": "completed"
    },
    "tags": []
   },
   "outputs": [
    {
     "name": "stdout",
     "output_type": "stream",
     "text": [
      " \n",
      "*** Profile printout saved to text file '07-cm_many_samples-default_internal_n_clusters.txt'. \n"
     ]
    }
   ],
   "source": [
    "%%prun -s cumulative -l 50 -T 07-cm_many_samples-default_internal_n_clusters.txt\n",
    "func()"
   ]
  },
  {
   "cell_type": "markdown",
   "id": "025974ff-06d4-4d82-9b05-03f7a84d7211",
   "metadata": {
    "papermill": {
     "duration": 0.010281,
     "end_time": "2023-09-09T18:11:42.125628",
     "exception": false,
     "start_time": "2023-09-09T18:11:42.115347",
     "status": "completed"
    },
    "tags": []
   },
   "source": [
    "# With reduced `internal_n_clusters`"
   ]
  },
  {
   "cell_type": "code",
   "execution_count": 14,
   "id": "c20c4ecf-8060-495e-92b0-eb8e0d0dfbf3",
   "metadata": {
    "execution": {
     "iopub.execute_input": "2023-09-09T18:11:42.135479Z",
     "iopub.status.busy": "2023-09-09T18:11:42.135335Z",
     "iopub.status.idle": "2023-09-09T18:11:42.137782Z",
     "shell.execute_reply": "2023-09-09T18:11:42.137440Z"
    },
    "papermill": {
     "duration": 0.008705,
     "end_time": "2023-09-09T18:11:42.138937",
     "exception": false,
     "start_time": "2023-09-09T18:11:42.130232",
     "status": "completed"
    },
    "tags": []
   },
   "outputs": [],
   "source": [
    "def func():\n",
    "    n_clust = list(range(2, 5 + 1))\n",
    "    return ccc(data, internal_n_clusters=n_clust)"
   ]
  },
  {
   "cell_type": "code",
   "execution_count": 15,
   "id": "11259d8c-3bf3-4299-b47b-211556c3bc08",
   "metadata": {
    "execution": {
     "iopub.execute_input": "2023-09-09T18:11:42.148699Z",
     "iopub.status.busy": "2023-09-09T18:11:42.148561Z",
     "iopub.status.idle": "2023-09-09T18:11:57.706017Z",
     "shell.execute_reply": "2023-09-09T18:11:57.705528Z"
    },
    "papermill": {
     "duration": 15.563719,
     "end_time": "2023-09-09T18:11:57.707332",
     "exception": false,
     "start_time": "2023-09-09T18:11:42.143613",
     "status": "completed"
    },
    "tags": []
   },
   "outputs": [
    {
     "name": "stdout",
     "output_type": "stream",
     "text": [
      "173 ms ± 336 µs per loop (mean ± std. dev. of 7 runs, 10 loops each)\n"
     ]
    }
   ],
   "source": [
    "%%timeit func()\n",
    "func()"
   ]
  },
  {
   "cell_type": "code",
   "execution_count": 16,
   "id": "42d9e6e0-3c01-46e1-a409-52ff26cb78f4",
   "metadata": {
    "execution": {
     "iopub.execute_input": "2023-09-09T18:11:57.723261Z",
     "iopub.status.busy": "2023-09-09T18:11:57.723170Z",
     "iopub.status.idle": "2023-09-09T18:11:57.901877Z",
     "shell.execute_reply": "2023-09-09T18:11:57.901376Z"
    },
    "papermill": {
     "duration": 0.190986,
     "end_time": "2023-09-09T18:11:57.903134",
     "exception": false,
     "start_time": "2023-09-09T18:11:57.712148",
     "status": "completed"
    },
    "tags": []
   },
   "outputs": [
    {
     "name": "stdout",
     "output_type": "stream",
     "text": [
      " \n",
      "*** Profile printout saved to text file '07-cm_many_samples-less_internal_n_clusters.txt'. \n"
     ]
    }
   ],
   "source": [
    "%%prun -s cumulative -l 50 -T 07-cm_many_samples-less_internal_n_clusters.txt\n",
    "func()"
   ]
  },
  {
   "cell_type": "code",
   "execution_count": null,
   "id": "e2556204-1c10-4e01-8c6c-ea63ddb37530",
   "metadata": {
    "papermill": {
     "duration": 0.010557,
     "end_time": "2023-09-09T18:11:57.918574",
     "exception": false,
     "start_time": "2023-09-09T18:11:57.908017",
     "status": "completed"
    },
    "tags": []
   },
   "outputs": [],
   "source": []
  }
 ],
 "metadata": {
  "jupytext": {
   "cell_metadata_filter": "all,-execution,-papermill,-trusted"
  },
  "kernelspec": {
   "display_name": "Python 3 (ipykernel)",
   "language": "python",
   "name": "python3"
  },
  "language_info": {
   "codemirror_mode": {
    "name": "ipython",
    "version": 3
   },
   "file_extension": ".py",
   "mimetype": "text/x-python",
   "name": "python",
   "nbconvert_exporter": "python",
   "pygments_lexer": "ipython3",
   "version": "3.9.12"
  },
  "papermill": {
   "default_parameters": {},
   "duration": 32.253249,
   "end_time": "2023-09-09T18:11:58.239170",
   "environment_variables": {},
   "exception": null,
   "input_path": "nbs/others/05_clustermatch_profiling/12_cm_optimized/07-many_samples.ipynb",
   "output_path": "nbs/others/05_clustermatch_profiling/12_cm_optimized/07-many_samples.run.ipynb",
   "parameters": {},
   "start_time": "2023-09-09T18:11:25.985921",
   "version": "2.3.3"
  }
 },
 "nbformat": 4,
 "nbformat_minor": 5
}
