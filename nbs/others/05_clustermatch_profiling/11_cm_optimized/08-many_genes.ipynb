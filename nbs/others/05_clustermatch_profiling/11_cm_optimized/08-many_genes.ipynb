{
 "cells": [
  {
   "cell_type": "markdown",
   "id": "507e9319-381b-4934-987c-2958e7f6ace7",
   "metadata": {
    "papermill": {
     "duration": 0.075202,
     "end_time": "2021-11-28T06:57:04.217519",
     "exception": false,
     "start_time": "2021-11-28T06:57:04.142317",
     "status": "completed"
    },
    "tags": []
   },
   "source": [
    "# Description"
   ]
  },
  {
   "cell_type": "markdown",
   "id": "9a88f2a7-3773-459c-8fdc-c69c1b0bb338",
   "metadata": {
    "papermill": {
     "duration": 0.0355,
     "end_time": "2021-11-28T06:57:04.289317",
     "exception": false,
     "start_time": "2021-11-28T06:57:04.253817",
     "status": "completed"
    },
    "tags": []
   },
   "source": [
    "Similar as `06` but with numba disabled to compare with a pure Python implementation.\n",
    "\n",
    "Here I had to reduce the number of `n_genes`, since it takes too much otherwise."
   ]
  },
  {
   "cell_type": "markdown",
   "id": "61443ae0-70fe-42c4-adf2-76b8a7b22217",
   "metadata": {
    "papermill": {
     "duration": 0.035064,
     "end_time": "2021-11-28T06:57:04.360308",
     "exception": false,
     "start_time": "2021-11-28T06:57:04.325244",
     "status": "completed"
    },
    "tags": []
   },
   "source": [
    "# Disable numba"
   ]
  },
  {
   "cell_type": "code",
   "execution_count": 1,
   "id": "9495a29b-3ba6-4a51-99b0-780fa5c1d9c7",
   "metadata": {
    "execution": {
     "iopub.execute_input": "2021-11-28T06:57:04.439208Z",
     "iopub.status.busy": "2021-11-28T06:57:04.438717Z",
     "iopub.status.idle": "2021-11-28T06:57:04.442259Z",
     "shell.execute_reply": "2021-11-28T06:57:04.441752Z"
    },
    "papermill": {
     "duration": 0.045896,
     "end_time": "2021-11-28T06:57:04.442362",
     "exception": false,
     "start_time": "2021-11-28T06:57:04.396466",
     "status": "completed"
    },
    "tags": []
   },
   "outputs": [
    {
     "name": "stdout",
     "output_type": "stream",
     "text": [
      "env: NUMBA_DISABLE_JIT=1\n"
     ]
    }
   ],
   "source": [
    "%env NUMBA_DISABLE_JIT=1"
   ]
  },
  {
   "cell_type": "markdown",
   "id": "72de9f6f-dc00-435e-9dba-871db859a78a",
   "metadata": {
    "papermill": {
     "duration": 0.036553,
     "end_time": "2021-11-28T06:57:04.517070",
     "exception": false,
     "start_time": "2021-11-28T06:57:04.480517",
     "status": "completed"
    },
    "tags": []
   },
   "source": [
    "# Remove pycache dir"
   ]
  },
  {
   "cell_type": "code",
   "execution_count": 2,
   "id": "88d32361-f1b5-4cf0-9a2c-7ab927d14b42",
   "metadata": {
    "execution": {
     "iopub.execute_input": "2021-11-28T06:57:04.593485Z",
     "iopub.status.busy": "2021-11-28T06:57:04.593013Z",
     "iopub.status.idle": "2021-11-28T06:57:05.178107Z",
     "shell.execute_reply": "2021-11-28T06:57:05.176212Z"
    },
    "papermill": {
     "duration": 0.625052,
     "end_time": "2021-11-28T06:57:05.178471",
     "exception": false,
     "start_time": "2021-11-28T06:57:04.553419",
     "status": "completed"
    },
    "tags": []
   },
   "outputs": [
    {
     "name": "stdout",
     "output_type": "stream",
     "text": [
      "/opt/code\n"
     ]
    }
   ],
   "source": [
    "!echo ${CODE_DIR}"
   ]
  },
  {
   "cell_type": "code",
   "execution_count": 3,
   "id": "8a27da6e-cf59-4276-888b-57e98fd23ccf",
   "metadata": {
    "execution": {
     "iopub.execute_input": "2021-11-28T06:57:05.257159Z",
     "iopub.status.busy": "2021-11-28T06:57:05.256698Z",
     "iopub.status.idle": "2021-11-28T06:57:05.852763Z",
     "shell.execute_reply": "2021-11-28T06:57:05.851166Z"
    },
    "papermill": {
     "duration": 0.63701,
     "end_time": "2021-11-28T06:57:05.853144",
     "exception": false,
     "start_time": "2021-11-28T06:57:05.216134",
     "status": "completed"
    },
    "tags": []
   },
   "outputs": [
    {
     "name": "stdout",
     "output_type": "stream",
     "text": [
      "/opt/code/libs/clustermatch/__pycache__\n",
      "/opt/code/libs/clustermatch/sklearn/__pycache__\n",
      "/opt/code/libs/clustermatch/scipy/__pycache__\n",
      "/opt/code/libs/clustermatch/pytorch/__pycache__\n"
     ]
    }
   ],
   "source": [
    "!find ${CODE_DIR} -regex '^.*\\(__pycache__\\)$' -print"
   ]
  },
  {
   "cell_type": "code",
   "execution_count": 4,
   "id": "561480f7-c610-4f60-b40f-8100974ab4d1",
   "metadata": {
    "execution": {
     "iopub.execute_input": "2021-11-28T06:57:05.935434Z",
     "iopub.status.busy": "2021-11-28T06:57:05.934983Z",
     "iopub.status.idle": "2021-11-28T06:57:06.539024Z",
     "shell.execute_reply": "2021-11-28T06:57:06.540667Z"
    },
    "papermill": {
     "duration": 0.648648,
     "end_time": "2021-11-28T06:57:06.541122",
     "exception": false,
     "start_time": "2021-11-28T06:57:05.892474",
     "status": "completed"
    },
    "tags": []
   },
   "outputs": [],
   "source": [
    "!find ${CODE_DIR} -regex '^.*\\(__pycache__\\)$' -prune -exec rm -rf {} \\;"
   ]
  },
  {
   "cell_type": "code",
   "execution_count": 5,
   "id": "a5c90a17-c0ac-49f0-968d-ea9ea8710b00",
   "metadata": {
    "execution": {
     "iopub.execute_input": "2021-11-28T06:57:06.656861Z",
     "iopub.status.busy": "2021-11-28T06:57:06.656386Z",
     "iopub.status.idle": "2021-11-28T06:57:07.257927Z",
     "shell.execute_reply": "2021-11-28T06:57:07.255976Z"
    },
    "papermill": {
     "duration": 0.643913,
     "end_time": "2021-11-28T06:57:07.258303",
     "exception": false,
     "start_time": "2021-11-28T06:57:06.614390",
     "status": "completed"
    },
    "tags": []
   },
   "outputs": [],
   "source": [
    "!find ${CODE_DIR} -regex '^.*\\(__pycache__\\)$' -print"
   ]
  },
  {
   "cell_type": "markdown",
   "id": "145563a2-3e46-4f62-8191-7444a0b315bb",
   "metadata": {
    "papermill": {
     "duration": 0.039381,
     "end_time": "2021-11-28T06:57:07.336571",
     "exception": false,
     "start_time": "2021-11-28T06:57:07.297190",
     "status": "completed"
    },
    "tags": []
   },
   "source": [
    "# Modules"
   ]
  },
  {
   "cell_type": "code",
   "execution_count": 6,
   "id": "bea3d48e-8823-403f-90f5-aea8a17b357c",
   "metadata": {
    "execution": {
     "iopub.execute_input": "2021-11-28T06:57:07.417034Z",
     "iopub.status.busy": "2021-11-28T06:57:07.416562Z",
     "iopub.status.idle": "2021-11-28T06:57:07.704197Z",
     "shell.execute_reply": "2021-11-28T06:57:07.703787Z"
    },
    "papermill": {
     "duration": 0.329536,
     "end_time": "2021-11-28T06:57:07.704301",
     "exception": false,
     "start_time": "2021-11-28T06:57:07.374765",
     "status": "completed"
    },
    "tags": []
   },
   "outputs": [],
   "source": [
    "import numpy as np\n",
    "\n",
    "from clustermatch.coef import cm"
   ]
  },
  {
   "cell_type": "code",
   "execution_count": 7,
   "id": "df6b3793-930b-4c54-9f29-ecc47fc586fb",
   "metadata": {
    "execution": {
     "iopub.execute_input": "2021-11-28T06:57:07.786239Z",
     "iopub.status.busy": "2021-11-28T06:57:07.785773Z",
     "iopub.status.idle": "2021-11-28T06:57:07.798482Z",
     "shell.execute_reply": "2021-11-28T06:57:07.798852Z"
    },
    "papermill": {
     "duration": 0.054732,
     "end_time": "2021-11-28T06:57:07.798969",
     "exception": false,
     "start_time": "2021-11-28T06:57:07.744237",
     "status": "completed"
    },
    "tags": []
   },
   "outputs": [
    {
     "data": {
      "text/plain": [
       "0.25"
      ]
     },
     "execution_count": 7,
     "metadata": {},
     "output_type": "execute_result"
    }
   ],
   "source": [
    "# let numba compile all the code before profiling\n",
    "cm(np.random.rand(10), np.random.rand(10))"
   ]
  },
  {
   "cell_type": "markdown",
   "id": "f8399ca8-265e-4e96-b582-54045cb2f9eb",
   "metadata": {
    "papermill": {
     "duration": 0.039398,
     "end_time": "2021-11-28T06:57:07.878786",
     "exception": false,
     "start_time": "2021-11-28T06:57:07.839388",
     "status": "completed"
    },
    "tags": []
   },
   "source": [
    "# Data"
   ]
  },
  {
   "cell_type": "code",
   "execution_count": 8,
   "id": "2316ffcd-a6e4-453f-bb52-779685c5c5bf",
   "metadata": {
    "execution": {
     "iopub.execute_input": "2021-11-28T06:57:07.961673Z",
     "iopub.status.busy": "2021-11-28T06:57:07.961226Z",
     "iopub.status.idle": "2021-11-28T06:57:07.963353Z",
     "shell.execute_reply": "2021-11-28T06:57:07.962934Z"
    },
    "papermill": {
     "duration": 0.044236,
     "end_time": "2021-11-28T06:57:07.963442",
     "exception": false,
     "start_time": "2021-11-28T06:57:07.919206",
     "status": "completed"
    },
    "tags": []
   },
   "outputs": [],
   "source": [
    "n_genes, n_samples = 50, 1000"
   ]
  },
  {
   "cell_type": "code",
   "execution_count": 9,
   "id": "b2f92fb1-113d-479b-8bbf-2be229e26e8f",
   "metadata": {
    "execution": {
     "iopub.execute_input": "2021-11-28T06:57:08.045420Z",
     "iopub.status.busy": "2021-11-28T06:57:08.044982Z",
     "iopub.status.idle": "2021-11-28T06:57:08.047115Z",
     "shell.execute_reply": "2021-11-28T06:57:08.046671Z"
    },
    "papermill": {
     "duration": 0.044381,
     "end_time": "2021-11-28T06:57:08.047236",
     "exception": false,
     "start_time": "2021-11-28T06:57:08.002855",
     "status": "completed"
    },
    "tags": []
   },
   "outputs": [],
   "source": [
    "np.random.seed(0)"
   ]
  },
  {
   "cell_type": "code",
   "execution_count": 10,
   "id": "63638c0b-b436-48a9-93e0-db2adb939a61",
   "metadata": {
    "execution": {
     "iopub.execute_input": "2021-11-28T06:57:08.129422Z",
     "iopub.status.busy": "2021-11-28T06:57:08.128867Z",
     "iopub.status.idle": "2021-11-28T06:57:08.131590Z",
     "shell.execute_reply": "2021-11-28T06:57:08.131138Z"
    },
    "papermill": {
     "duration": 0.045077,
     "end_time": "2021-11-28T06:57:08.131685",
     "exception": false,
     "start_time": "2021-11-28T06:57:08.086608",
     "status": "completed"
    },
    "tags": []
   },
   "outputs": [],
   "source": [
    "data = np.random.rand(n_genes, n_samples)"
   ]
  },
  {
   "cell_type": "code",
   "execution_count": 11,
   "id": "808017ed-9a8a-4bf7-a3dd-42317a39ce8f",
   "metadata": {
    "execution": {
     "iopub.execute_input": "2021-11-28T06:57:08.214486Z",
     "iopub.status.busy": "2021-11-28T06:57:08.213923Z",
     "iopub.status.idle": "2021-11-28T06:57:08.216201Z",
     "shell.execute_reply": "2021-11-28T06:57:08.216552Z"
    },
    "papermill": {
     "duration": 0.045405,
     "end_time": "2021-11-28T06:57:08.216661",
     "exception": false,
     "start_time": "2021-11-28T06:57:08.171256",
     "status": "completed"
    },
    "tags": []
   },
   "outputs": [
    {
     "data": {
      "text/plain": [
       "(50, 1000)"
      ]
     },
     "execution_count": 11,
     "metadata": {},
     "output_type": "execute_result"
    }
   ],
   "source": [
    "data.shape"
   ]
  },
  {
   "cell_type": "markdown",
   "id": "716e4219-cad5-453b-8331-47d310689e03",
   "metadata": {
    "papermill": {
     "duration": 0.040458,
     "end_time": "2021-11-28T06:57:08.297984",
     "exception": false,
     "start_time": "2021-11-28T06:57:08.257526",
     "status": "completed"
    },
    "tags": []
   },
   "source": [
    "# Profile"
   ]
  },
  {
   "cell_type": "code",
   "execution_count": 12,
   "id": "67807856-f337-4c6e-ae31-cd306577a314",
   "metadata": {
    "execution": {
     "iopub.execute_input": "2021-11-28T06:57:08.383428Z",
     "iopub.status.busy": "2021-11-28T06:57:08.382958Z",
     "iopub.status.idle": "2021-11-28T06:57:08.385116Z",
     "shell.execute_reply": "2021-11-28T06:57:08.384664Z"
    },
    "papermill": {
     "duration": 0.046013,
     "end_time": "2021-11-28T06:57:08.385209",
     "exception": false,
     "start_time": "2021-11-28T06:57:08.339196",
     "status": "completed"
    },
    "tags": []
   },
   "outputs": [],
   "source": [
    "def func():\n",
    "    n_clust = list(range(2, 10 + 1))\n",
    "    return cm(data, internal_n_clusters=n_clust)"
   ]
  },
  {
   "cell_type": "code",
   "execution_count": 13,
   "id": "2965a695-5c0c-4e9e-8435-dcbfa610eb81",
   "metadata": {
    "execution": {
     "iopub.execute_input": "2021-11-28T06:57:08.472572Z",
     "iopub.status.busy": "2021-11-28T06:57:08.471963Z",
     "iopub.status.idle": "2021-11-28T07:23:45.973292Z",
     "shell.execute_reply": "2021-11-28T07:23:45.973642Z"
    },
    "papermill": {
     "duration": 1597.546919,
     "end_time": "2021-11-28T07:23:45.973752",
     "exception": false,
     "start_time": "2021-11-28T06:57:08.426833",
     "status": "completed"
    },
    "tags": []
   },
   "outputs": [
    {
     "name": "stdout",
     "output_type": "stream",
     "text": [
      "1min 39s ± 643 ms per loop (mean ± std. dev. of 7 runs, 1 loop each)\n"
     ]
    }
   ],
   "source": [
    "%%timeit func()\n",
    "func()"
   ]
  },
  {
   "cell_type": "code",
   "execution_count": 14,
   "id": "51c7a416-064a-4669-a09f-16f837d32475",
   "metadata": {
    "execution": {
     "iopub.execute_input": "2021-11-28T07:23:46.062917Z",
     "iopub.status.busy": "2021-11-28T07:23:46.062010Z",
     "iopub.status.idle": "2021-11-28T07:25:26.383087Z",
     "shell.execute_reply": "2021-11-28T07:25:26.383461Z"
    },
    "papermill": {
     "duration": 100.368685,
     "end_time": "2021-11-28T07:25:26.383573",
     "exception": false,
     "start_time": "2021-11-28T07:23:46.014888",
     "status": "completed"
    },
    "tags": []
   },
   "outputs": [
    {
     "name": "stdout",
     "output_type": "stream",
     "text": [
      " \n",
      "*** Profile printout saved to text file '08-cm_many_genes.txt'. \n"
     ]
    }
   ],
   "source": [
    "%%prun -s cumulative -l 50 -T 08-cm_many_genes.txt\n",
    "func()"
   ]
  },
  {
   "cell_type": "markdown",
   "id": "664b37eb-ead5-4b74-af40-41f1e257a5f3",
   "metadata": {
    "papermill": {
     "duration": 0.042086,
     "end_time": "2021-11-28T07:25:26.468138",
     "exception": false,
     "start_time": "2021-11-28T07:25:26.426052",
     "status": "completed"
    },
    "tags": []
   },
   "source": [
    "**CONCLUSIONS:** compared with notebook `06` (which has 500 rows (`n_genes`) instead of 50 here), this one would have taken 2.80 hours for 500 rows based on this results. Whereas the numba-compiled version took ~7 minutes."
   ]
  },
  {
   "cell_type": "code",
   "execution_count": null,
   "id": "c171afa1-7734-4ba5-b140-060d232c8f9c",
   "metadata": {},
   "outputs": [],
   "source": []
  }
 ],
 "metadata": {
  "jupytext": {
   "cell_metadata_filter": "all,-execution,-papermill,-trusted",
   "text_representation": {
    "extension": ".py",
    "format_name": "percent",
    "format_version": "1.3",
    "jupytext_version": "1.11.5"
   }
  },
  "kernelspec": {
   "display_name": "Python 3 (ipykernel)",
   "language": "python",
   "name": "python3"
  },
  "language_info": {
   "codemirror_mode": {
    "name": "ipython",
    "version": 3
   },
   "file_extension": ".py",
   "mimetype": "text/x-python",
   "name": "python",
   "nbconvert_exporter": "python",
   "pygments_lexer": "ipython3",
   "version": "3.9.7"
  },
  "papermill": {
   "default_parameters": {},
   "duration": 1703.796432,
   "end_time": "2021-11-28T07:25:26.724149",
   "environment_variables": {},
   "exception": null,
   "input_path": "nbs/others/05_clustermatch_profiling/11_cm_optimized/08-many_genes.ipynb",
   "output_path": "nbs/others/05_clustermatch_profiling/11_cm_optimized/08-many_genes.run.ipynb",
   "parameters": {},
   "start_time": "2021-11-28T06:57:02.927717",
   "version": "2.3.3"
  }
 },
 "nbformat": 4,
 "nbformat_minor": 5
}
