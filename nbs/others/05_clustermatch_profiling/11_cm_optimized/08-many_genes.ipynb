{
 "cells": [
  {
   "cell_type": "markdown",
   "id": "507e9319-381b-4934-987c-2958e7f6ace7",
   "metadata": {
    "papermill": {
     "duration": 0.072037,
     "end_time": "2021-11-24T18:50:29.643850",
     "exception": false,
     "start_time": "2021-11-24T18:50:29.571813",
     "status": "completed"
    },
    "tags": []
   },
   "source": [
    "# Description"
   ]
  },
  {
   "cell_type": "markdown",
   "id": "9a88f2a7-3773-459c-8fdc-c69c1b0bb338",
   "metadata": {
    "papermill": {
     "duration": 0.033573,
     "end_time": "2021-11-24T18:50:29.710978",
     "exception": false,
     "start_time": "2021-11-24T18:50:29.677405",
     "status": "completed"
    },
    "tags": []
   },
   "source": [
    "Same as `06` but with numba disabled."
   ]
  },
  {
   "cell_type": "markdown",
   "id": "61443ae0-70fe-42c4-adf2-76b8a7b22217",
   "metadata": {
    "papermill": {
     "duration": 0.088305,
     "end_time": "2021-11-24T18:47:49.181869",
     "exception": false,
     "start_time": "2021-11-24T18:47:49.093564",
     "status": "completed"
    },
    "tags": []
   },
   "source": [
    "# Disable numba"
   ]
  },
  {
   "cell_type": "code",
   "execution_count": null,
   "id": "9495a29b-3ba6-4a51-99b0-780fa5c1d9c7",
   "metadata": {
    "papermill": {
     "duration": 0.104468,
     "end_time": "2021-11-24T18:47:49.375126",
     "exception": false,
     "start_time": "2021-11-24T18:47:49.270658",
     "status": "completed"
    },
    "tags": []
   },
   "outputs": [],
   "source": [
    "%env NUMBA_DISABLE_JIT=1"
   ]
  },
  {
   "cell_type": "markdown",
   "id": "72de9f6f-dc00-435e-9dba-871db859a78a",
   "metadata": {
    "papermill": {
     "duration": 0.033878,
     "end_time": "2021-11-24T18:50:29.779525",
     "exception": false,
     "start_time": "2021-11-24T18:50:29.745647",
     "status": "completed"
    },
    "tags": []
   },
   "source": [
    "# Remove pycache dir"
   ]
  },
  {
   "cell_type": "code",
   "execution_count": null,
   "id": "88d32361-f1b5-4cf0-9a2c-7ab927d14b42",
   "metadata": {
    "papermill": {
     "duration": 0.644401,
     "end_time": "2021-11-24T18:50:30.457778",
     "exception": false,
     "start_time": "2021-11-24T18:50:29.813377",
     "status": "completed"
    },
    "tags": []
   },
   "outputs": [],
   "source": [
    "!echo ${CODE_DIR}"
   ]
  },
  {
   "cell_type": "code",
   "execution_count": null,
   "id": "8a27da6e-cf59-4276-888b-57e98fd23ccf",
   "metadata": {
    "papermill": {
     "duration": 0.638111,
     "end_time": "2021-11-24T18:50:31.132192",
     "exception": false,
     "start_time": "2021-11-24T18:50:30.494081",
     "status": "completed"
    },
    "tags": []
   },
   "outputs": [],
   "source": [
    "!find ${CODE_DIR} -regex '^.*\\(__pycache__\\)$' -print"
   ]
  },
  {
   "cell_type": "code",
   "execution_count": null,
   "id": "561480f7-c610-4f60-b40f-8100974ab4d1",
   "metadata": {
    "papermill": {
     "duration": 0.642274,
     "end_time": "2021-11-24T18:50:31.811469",
     "exception": false,
     "start_time": "2021-11-24T18:50:31.169195",
     "status": "completed"
    },
    "tags": []
   },
   "outputs": [],
   "source": [
    "!find ${CODE_DIR} -regex '^.*\\(__pycache__\\)$' -exec rm -rf {} \\;"
   ]
  },
  {
   "cell_type": "code",
   "execution_count": null,
   "id": "a5c90a17-c0ac-49f0-968d-ea9ea8710b00",
   "metadata": {
    "papermill": {
     "duration": 0.65886,
     "end_time": "2021-11-24T18:50:32.539205",
     "exception": false,
     "start_time": "2021-11-24T18:50:31.880345",
     "status": "completed"
    },
    "tags": []
   },
   "outputs": [],
   "source": [
    "!find ${CODE_DIR} -regex '^.*\\(__pycache__\\)$' -print"
   ]
  },
  {
   "cell_type": "markdown",
   "id": "145563a2-3e46-4f62-8191-7444a0b315bb",
   "metadata": {
    "papermill": {
     "duration": 0.03553,
     "end_time": "2021-11-24T18:50:32.645149",
     "exception": false,
     "start_time": "2021-11-24T18:50:32.609619",
     "status": "completed"
    },
    "tags": []
   },
   "source": [
    "# Modules"
   ]
  },
  {
   "cell_type": "code",
   "execution_count": null,
   "id": "bea3d48e-8823-403f-90f5-aea8a17b357c",
   "metadata": {
    "papermill": {
     "duration": 0.361329,
     "end_time": "2021-11-24T18:50:33.042445",
     "exception": false,
     "start_time": "2021-11-24T18:50:32.681116",
     "status": "completed"
    },
    "tags": []
   },
   "outputs": [],
   "source": [
    "import numpy as np\n",
    "\n",
    "from clustermatch.coef import cm"
   ]
  },
  {
   "cell_type": "code",
   "execution_count": null,
   "id": "df6b3793-930b-4c54-9f29-ecc47fc586fb",
   "metadata": {
    "papermill": {
     "duration": 8.728602,
     "end_time": "2021-11-24T18:50:41.808528",
     "exception": false,
     "start_time": "2021-11-24T18:50:33.079926",
     "status": "completed"
    },
    "tags": []
   },
   "outputs": [],
   "source": [
    "# let numba compile all the code before profiling\n",
    "cm(np.random.rand(10), np.random.rand(10))"
   ]
  },
  {
   "cell_type": "markdown",
   "id": "f8399ca8-265e-4e96-b582-54045cb2f9eb",
   "metadata": {
    "papermill": {
     "duration": 0.037888,
     "end_time": "2021-11-24T18:50:41.884643",
     "exception": false,
     "start_time": "2021-11-24T18:50:41.846755",
     "status": "completed"
    },
    "tags": []
   },
   "source": [
    "# Data"
   ]
  },
  {
   "cell_type": "code",
   "execution_count": null,
   "id": "2316ffcd-a6e4-453f-bb52-779685c5c5bf",
   "metadata": {
    "papermill": {
     "duration": 0.043168,
     "end_time": "2021-11-24T18:50:41.965534",
     "exception": false,
     "start_time": "2021-11-24T18:50:41.922366",
     "status": "completed"
    },
    "tags": []
   },
   "outputs": [],
   "source": [
    "n_genes, n_samples = 500, 1000"
   ]
  },
  {
   "cell_type": "code",
   "execution_count": null,
   "id": "b2f92fb1-113d-479b-8bbf-2be229e26e8f",
   "metadata": {
    "papermill": {
     "duration": 0.046581,
     "end_time": "2021-11-24T18:50:42.050014",
     "exception": false,
     "start_time": "2021-11-24T18:50:42.003433",
     "status": "completed"
    },
    "tags": []
   },
   "outputs": [],
   "source": [
    "np.random.seed(0)"
   ]
  },
  {
   "cell_type": "code",
   "execution_count": null,
   "id": "63638c0b-b436-48a9-93e0-db2adb939a61",
   "metadata": {
    "papermill": {
     "duration": 0.046629,
     "end_time": "2021-11-24T18:50:42.137407",
     "exception": false,
     "start_time": "2021-11-24T18:50:42.090778",
     "status": "completed"
    },
    "tags": []
   },
   "outputs": [],
   "source": [
    "data = np.random.rand(n_genes, n_samples)"
   ]
  },
  {
   "cell_type": "code",
   "execution_count": null,
   "id": "808017ed-9a8a-4bf7-a3dd-42317a39ce8f",
   "metadata": {
    "papermill": {
     "duration": 0.042904,
     "end_time": "2021-11-24T18:50:42.217995",
     "exception": false,
     "start_time": "2021-11-24T18:50:42.175091",
     "status": "completed"
    },
    "tags": []
   },
   "outputs": [],
   "source": [
    "data.shape"
   ]
  },
  {
   "cell_type": "markdown",
   "id": "716e4219-cad5-453b-8331-47d310689e03",
   "metadata": {
    "papermill": {
     "duration": 0.037692,
     "end_time": "2021-11-24T18:50:42.294684",
     "exception": false,
     "start_time": "2021-11-24T18:50:42.256992",
     "status": "completed"
    },
    "tags": []
   },
   "source": [
    "# Profile"
   ]
  },
  {
   "cell_type": "code",
   "execution_count": null,
   "id": "67807856-f337-4c6e-ae31-cd306577a314",
   "metadata": {
    "papermill": {
     "duration": 0.043769,
     "end_time": "2021-11-24T18:50:42.376071",
     "exception": false,
     "start_time": "2021-11-24T18:50:42.332302",
     "status": "completed"
    },
    "tags": []
   },
   "outputs": [],
   "source": [
    "def func():\n",
    "    n_clust = list(range(2, 10 + 1))\n",
    "    return cm(data, internal_n_clusters=n_clust)"
   ]
  },
  {
   "cell_type": "code",
   "execution_count": null,
   "id": "2965a695-5c0c-4e9e-8435-dcbfa610eb81",
   "metadata": {
    "papermill": {
     "duration": 6994.795373,
     "end_time": "2021-11-24T20:47:17.210457",
     "exception": false,
     "start_time": "2021-11-24T18:50:42.415084",
     "status": "completed"
    },
    "tags": []
   },
   "outputs": [],
   "source": [
    "%%timeit func()\n",
    "func()"
   ]
  },
  {
   "cell_type": "code",
   "execution_count": null,
   "id": "51c7a416-064a-4669-a09f-16f837d32475",
   "metadata": {
    "papermill": {
     "duration": 439.174175,
     "end_time": "2021-11-24T20:54:36.423299",
     "exception": false,
     "start_time": "2021-11-24T20:47:17.249124",
     "status": "completed"
    },
    "tags": []
   },
   "outputs": [],
   "source": [
    "%%prun -s cumulative -l 50 -T 08-cm_many_genes.txt\n",
    "func()"
   ]
  },
  {
   "cell_type": "code",
   "execution_count": null,
   "id": "e2556204-1c10-4e01-8c6c-ea63ddb37530",
   "metadata": {
    "papermill": {
     "duration": 0.042533,
     "end_time": "2021-11-24T20:54:37.377234",
     "exception": false,
     "start_time": "2021-11-24T20:54:37.334701",
     "status": "completed"
    },
    "tags": []
   },
   "outputs": [],
   "source": []
  }
 ],
 "metadata": {
  "jupytext": {
   "cell_metadata_filter": "all,-execution,-papermill,-trusted",
   "text_representation": {
    "extension": ".py",
    "format_name": "percent",
    "format_version": "1.3",
    "jupytext_version": "1.11.5"
   }
  },
  "kernelspec": {
   "display_name": "Python 3 (ipykernel)",
   "language": "python",
   "name": "python3"
  },
  "language_info": {
   "codemirror_mode": {
    "name": "ipython",
    "version": 3
   },
   "file_extension": ".py",
   "mimetype": "text/x-python",
   "name": "python",
   "nbconvert_exporter": "python",
   "pygments_lexer": "ipython3",
   "version": "3.9.7"
  },
  "papermill": {
   "default_parameters": {},
   "duration": 7449.471985,
   "end_time": "2021-11-24T20:54:37.835012",
   "environment_variables": {},
   "exception": null,
   "input_path": "nbs/others/05_clustermatch_profiling/11_cm_optimized/06-many_genes.ipynb",
   "output_path": "nbs/others/05_clustermatch_profiling/11_cm_optimized/06-many_genes.run.ipynb",
   "parameters": {},
   "start_time": "2021-11-24T18:50:28.363027",
   "version": "2.3.3"
  }
 },
 "nbformat": 4,
 "nbformat_minor": 5
}
