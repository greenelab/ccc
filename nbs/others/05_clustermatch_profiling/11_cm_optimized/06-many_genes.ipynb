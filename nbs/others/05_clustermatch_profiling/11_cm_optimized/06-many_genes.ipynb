{
 "cells": [
  {
   "cell_type": "markdown",
   "id": "507e9319-381b-4934-987c-2958e7f6ace7",
   "metadata": {
    "papermill": {
     "duration": 0.059358,
     "end_time": "2021-11-19T06:52:57.325795",
     "exception": false,
     "start_time": "2021-11-19T06:52:57.266437",
     "status": "completed"
    },
    "tags": []
   },
   "source": [
    "# Description"
   ]
  },
  {
   "cell_type": "markdown",
   "id": "9a88f2a7-3773-459c-8fdc-c69c1b0bb338",
   "metadata": {
    "papermill": {
     "duration": 0.023836,
     "end_time": "2021-11-19T06:52:57.374251",
     "exception": false,
     "start_time": "2021-11-19T06:52:57.350415",
     "status": "completed"
    },
    "tags": []
   },
   "source": [
    "Clustermatch run using a larger number of genes."
   ]
  },
  {
   "cell_type": "markdown",
   "id": "145563a2-3e46-4f62-8191-7444a0b315bb",
   "metadata": {
    "papermill": {
     "duration": 0.022854,
     "end_time": "2021-11-19T06:52:57.420029",
     "exception": false,
     "start_time": "2021-11-19T06:52:57.397175",
     "status": "completed"
    },
    "tags": []
   },
   "source": [
    "# Modules"
   ]
  },
  {
   "cell_type": "code",
   "execution_count": 1,
   "id": "bea3d48e-8823-403f-90f5-aea8a17b357c",
   "metadata": {
    "execution": {
     "iopub.execute_input": "2021-11-19T06:52:57.473572Z",
     "iopub.status.busy": "2021-11-19T06:52:57.473096Z",
     "iopub.status.idle": "2021-11-19T06:52:57.792342Z",
     "shell.execute_reply": "2021-11-19T06:52:57.791750Z"
    },
    "papermill": {
     "duration": 0.34869,
     "end_time": "2021-11-19T06:52:57.792445",
     "exception": false,
     "start_time": "2021-11-19T06:52:57.443755",
     "status": "completed"
    },
    "tags": []
   },
   "outputs": [],
   "source": [
    "import numpy as np\n",
    "\n",
    "from clustermatch.coef import cm"
   ]
  },
  {
   "cell_type": "markdown",
   "id": "f8399ca8-265e-4e96-b582-54045cb2f9eb",
   "metadata": {
    "papermill": {
     "duration": 0.022843,
     "end_time": "2021-11-19T06:52:57.838967",
     "exception": false,
     "start_time": "2021-11-19T06:52:57.816124",
     "status": "completed"
    },
    "tags": []
   },
   "source": [
    "# Data"
   ]
  },
  {
   "cell_type": "code",
   "execution_count": 2,
   "id": "2316ffcd-a6e4-453f-bb52-779685c5c5bf",
   "metadata": {
    "execution": {
     "iopub.execute_input": "2021-11-19T06:52:57.889231Z",
     "iopub.status.busy": "2021-11-19T06:52:57.888720Z",
     "iopub.status.idle": "2021-11-19T06:52:57.890689Z",
     "shell.execute_reply": "2021-11-19T06:52:57.890244Z"
    },
    "papermill": {
     "duration": 0.028791,
     "end_time": "2021-11-19T06:52:57.890783",
     "exception": false,
     "start_time": "2021-11-19T06:52:57.861992",
     "status": "completed"
    },
    "tags": []
   },
   "outputs": [],
   "source": [
    "n_genes, n_samples = 500, 1000"
   ]
  },
  {
   "cell_type": "code",
   "execution_count": 3,
   "id": "b2f92fb1-113d-479b-8bbf-2be229e26e8f",
   "metadata": {
    "execution": {
     "iopub.execute_input": "2021-11-19T06:52:57.940804Z",
     "iopub.status.busy": "2021-11-19T06:52:57.940333Z",
     "iopub.status.idle": "2021-11-19T06:52:57.941838Z",
     "shell.execute_reply": "2021-11-19T06:52:57.942184Z"
    },
    "papermill": {
     "duration": 0.027978,
     "end_time": "2021-11-19T06:52:57.942299",
     "exception": false,
     "start_time": "2021-11-19T06:52:57.914321",
     "status": "completed"
    },
    "tags": []
   },
   "outputs": [],
   "source": [
    "np.random.seed(0)"
   ]
  },
  {
   "cell_type": "code",
   "execution_count": 4,
   "id": "63638c0b-b436-48a9-93e0-db2adb939a61",
   "metadata": {
    "execution": {
     "iopub.execute_input": "2021-11-19T06:52:57.992054Z",
     "iopub.status.busy": "2021-11-19T06:52:57.991570Z",
     "iopub.status.idle": "2021-11-19T06:52:57.998472Z",
     "shell.execute_reply": "2021-11-19T06:52:57.998037Z"
    },
    "papermill": {
     "duration": 0.032477,
     "end_time": "2021-11-19T06:52:57.998563",
     "exception": false,
     "start_time": "2021-11-19T06:52:57.966086",
     "status": "completed"
    },
    "tags": []
   },
   "outputs": [],
   "source": [
    "data = np.random.rand(n_genes, n_samples)"
   ]
  },
  {
   "cell_type": "code",
   "execution_count": 5,
   "id": "808017ed-9a8a-4bf7-a3dd-42317a39ce8f",
   "metadata": {
    "execution": {
     "iopub.execute_input": "2021-11-19T06:52:58.052889Z",
     "iopub.status.busy": "2021-11-19T06:52:58.052260Z",
     "iopub.status.idle": "2021-11-19T06:52:58.056499Z",
     "shell.execute_reply": "2021-11-19T06:52:58.056866Z"
    },
    "papermill": {
     "duration": 0.034909,
     "end_time": "2021-11-19T06:52:58.056981",
     "exception": false,
     "start_time": "2021-11-19T06:52:58.022072",
     "status": "completed"
    },
    "tags": []
   },
   "outputs": [
    {
     "data": {
      "text/plain": [
       "(500, 1000)"
      ]
     },
     "execution_count": 5,
     "metadata": {},
     "output_type": "execute_result"
    }
   ],
   "source": [
    "data.shape"
   ]
  },
  {
   "cell_type": "markdown",
   "id": "716e4219-cad5-453b-8331-47d310689e03",
   "metadata": {
    "papermill": {
     "duration": 0.029666,
     "end_time": "2021-11-19T06:52:58.116390",
     "exception": false,
     "start_time": "2021-11-19T06:52:58.086724",
     "status": "completed"
    },
    "tags": []
   },
   "source": [
    "# Profile"
   ]
  },
  {
   "cell_type": "code",
   "execution_count": 6,
   "id": "67807856-f337-4c6e-ae31-cd306577a314",
   "metadata": {
    "execution": {
     "iopub.execute_input": "2021-11-19T06:52:58.171128Z",
     "iopub.status.busy": "2021-11-19T06:52:58.170670Z",
     "iopub.status.idle": "2021-11-19T06:52:58.172260Z",
     "shell.execute_reply": "2021-11-19T06:52:58.172603Z"
    },
    "papermill": {
     "duration": 0.030506,
     "end_time": "2021-11-19T06:52:58.172720",
     "exception": false,
     "start_time": "2021-11-19T06:52:58.142214",
     "status": "completed"
    },
    "tags": []
   },
   "outputs": [],
   "source": [
    "def func():\n",
    "    n_clust = list(range(2, 10 + 1))\n",
    "    return cm(data, internal_n_clusters=n_clust)"
   ]
  },
  {
   "cell_type": "code",
   "execution_count": 7,
   "id": "2965a695-5c0c-4e9e-8435-dcbfa610eb81",
   "metadata": {
    "execution": {
     "iopub.execute_input": "2021-11-19T06:52:58.227391Z",
     "iopub.status.busy": "2021-11-19T06:52:58.226919Z",
     "iopub.status.idle": "2021-11-19T08:32:51.039354Z",
     "shell.execute_reply": "2021-11-19T08:32:51.039819Z"
    },
    "papermill": {
     "duration": 5992.841998,
     "end_time": "2021-11-19T08:32:51.039969",
     "exception": false,
     "start_time": "2021-11-19T06:52:58.197971",
     "status": "completed"
    },
    "tags": []
   },
   "outputs": [
    {
     "name": "stdout",
     "output_type": "stream",
     "text": [
      "6min 13s ± 155 ms per loop (mean ± std. dev. of 7 runs, 1 loop each)\n"
     ]
    }
   ],
   "source": [
    "%%timeit func()\n",
    "func()"
   ]
  },
  {
   "cell_type": "code",
   "execution_count": 8,
   "id": "51c7a416-064a-4669-a09f-16f837d32475",
   "metadata": {
    "execution": {
     "iopub.execute_input": "2021-11-19T08:32:51.984396Z",
     "iopub.status.busy": "2021-11-19T08:32:51.983803Z",
     "iopub.status.idle": "2021-11-19T08:39:05.346168Z",
     "shell.execute_reply": "2021-11-19T08:39:05.345759Z"
    },
    "papermill": {
     "duration": 373.401431,
     "end_time": "2021-11-19T08:39:05.346259",
     "exception": false,
     "start_time": "2021-11-19T08:32:51.944828",
     "status": "completed"
    },
    "tags": []
   },
   "outputs": [
    {
     "name": "stdout",
     "output_type": "stream",
     "text": [
      " \n",
      "*** Profile printout saved to text file '06-cm_many_genes.txt'. \n"
     ]
    }
   ],
   "source": [
    "%%prun -s cumulative -l 50 -T 06-cm_many_genes.txt\n",
    "func()"
   ]
  },
  {
   "cell_type": "code",
   "execution_count": null,
   "id": "e2556204-1c10-4e01-8c6c-ea63ddb37530",
   "metadata": {
    "papermill": {
     "duration": 0.026382,
     "end_time": "2021-11-19T08:39:05.399631",
     "exception": false,
     "start_time": "2021-11-19T08:39:05.373249",
     "status": "completed"
    },
    "tags": []
   },
   "outputs": [],
   "source": []
  }
 ],
 "metadata": {
  "jupytext": {
   "cell_metadata_filter": "all,-execution,-papermill,-trusted"
  },
  "kernelspec": {
   "display_name": "Python 3 (ipykernel)",
   "language": "python",
   "name": "python3"
  },
  "language_info": {
   "codemirror_mode": {
    "name": "ipython",
    "version": 3
   },
   "file_extension": ".py",
   "mimetype": "text/x-python",
   "name": "python",
   "nbconvert_exporter": "python",
   "pygments_lexer": "ipython3",
   "version": "3.9.7"
  },
  "papermill": {
   "default_parameters": {},
   "duration": 6369.919939,
   "end_time": "2021-11-19T08:39:05.966353",
   "environment_variables": {},
   "exception": null,
   "input_path": "nbs/others/05_clustermatch_profiling/11_cm_optimized/06-many_genes.ipynb",
   "output_path": "nbs/others/05_clustermatch_profiling/11_cm_optimized/06-many_genes.run.ipynb",
   "parameters": {},
   "start_time": "2021-11-19T06:52:56.046414",
   "version": "2.3.3"
  }
 },
 "nbformat": 4,
 "nbformat_minor": 5
}
