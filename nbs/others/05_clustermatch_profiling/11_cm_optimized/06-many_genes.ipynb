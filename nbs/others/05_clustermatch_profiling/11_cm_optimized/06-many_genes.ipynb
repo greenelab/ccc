{
 "cells": [
  {
   "cell_type": "markdown",
   "id": "507e9319-381b-4934-987c-2958e7f6ace7",
   "metadata": {
    "papermill": {
     "duration": 0.072506,
     "end_time": "2021-11-24T03:45:22.114443",
     "exception": false,
     "start_time": "2021-11-24T03:45:22.041937",
     "status": "completed"
    },
    "tags": []
   },
   "source": [
    "# Description"
   ]
  },
  {
   "cell_type": "markdown",
   "id": "9a88f2a7-3773-459c-8fdc-c69c1b0bb338",
   "metadata": {
    "papermill": {
     "duration": 0.033337,
     "end_time": "2021-11-24T03:45:22.181062",
     "exception": false,
     "start_time": "2021-11-24T03:45:22.147725",
     "status": "completed"
    },
    "tags": []
   },
   "source": [
    "Clustermatch run using a larger number of genes."
   ]
  },
  {
   "cell_type": "markdown",
   "id": "72de9f6f-dc00-435e-9dba-871db859a78a",
   "metadata": {
    "papermill": {
     "duration": 0.033399,
     "end_time": "2021-11-24T03:45:22.248221",
     "exception": false,
     "start_time": "2021-11-24T03:45:22.214822",
     "status": "completed"
    },
    "tags": []
   },
   "source": [
    "# Remove pycache dir"
   ]
  },
  {
   "cell_type": "code",
   "execution_count": 1,
   "id": "88d32361-f1b5-4cf0-9a2c-7ab927d14b42",
   "metadata": {
    "execution": {
     "iopub.execute_input": "2021-11-24T03:45:22.323307Z",
     "iopub.status.busy": "2021-11-24T03:45:22.322812Z",
     "iopub.status.idle": "2021-11-24T03:45:22.914618Z",
     "shell.execute_reply": "2021-11-24T03:45:22.914053Z"
    },
    "papermill": {
     "duration": 0.632487,
     "end_time": "2021-11-24T03:45:22.914734",
     "exception": false,
     "start_time": "2021-11-24T03:45:22.282247",
     "status": "completed"
    },
    "tags": []
   },
   "outputs": [
    {
     "name": "stdout",
     "output_type": "stream",
     "text": [
      "/opt/code\r\n"
     ]
    }
   ],
   "source": [
    "!echo ${CODE_DIR}"
   ]
  },
  {
   "cell_type": "code",
   "execution_count": 2,
   "id": "8a27da6e-cf59-4276-888b-57e98fd23ccf",
   "metadata": {
    "execution": {
     "iopub.execute_input": "2021-11-24T03:45:22.998969Z",
     "iopub.status.busy": "2021-11-24T03:45:22.998519Z",
     "iopub.status.idle": "2021-11-24T03:45:23.602358Z",
     "shell.execute_reply": "2021-11-24T03:45:23.600479Z"
    },
    "papermill": {
     "duration": 0.644085,
     "end_time": "2021-11-24T03:45:23.602737",
     "exception": false,
     "start_time": "2021-11-24T03:45:22.958652",
     "status": "completed"
    },
    "tags": []
   },
   "outputs": [
    {
     "name": "stdout",
     "output_type": "stream",
     "text": [
      "/opt/code/libs/clustermatch/__pycache__\r\n",
      "/opt/code/libs/clustermatch/sklearn/__pycache__\r\n",
      "/opt/code/libs/clustermatch/scipy/__pycache__\r\n",
      "/opt/code/libs/clustermatch/pytorch/__pycache__\r\n"
     ]
    }
   ],
   "source": [
    "!find ${CODE_DIR} -regex '^.*\\(__pycache__\\)$' -print"
   ]
  },
  {
   "cell_type": "code",
   "execution_count": 3,
   "id": "561480f7-c610-4f60-b40f-8100974ab4d1",
   "metadata": {
    "execution": {
     "iopub.execute_input": "2021-11-24T03:45:23.711547Z",
     "iopub.status.busy": "2021-11-24T03:45:23.711083Z",
     "iopub.status.idle": "2021-11-24T03:45:24.324991Z",
     "shell.execute_reply": "2021-11-24T03:45:24.323093Z"
    },
    "papermill": {
     "duration": 0.653383,
     "end_time": "2021-11-24T03:45:24.325368",
     "exception": false,
     "start_time": "2021-11-24T03:45:23.671985",
     "status": "completed"
    },
    "tags": []
   },
   "outputs": [
    {
     "name": "stdout",
     "output_type": "stream",
     "text": [
      "find: ‘/opt/code/libs/clustermatch/__pycache__’: No such file or directory\r\n",
      "find: ‘/opt/code/libs/clustermatch/sklearn/__pycache__’: No such file or directory\r\n",
      "find: ‘/opt/code/libs/clustermatch/scipy/__pycache__’: No such file or directory\r\n",
      "find: ‘/opt/code/libs/clustermatch/pytorch/__pycache__’: No such file or directory\r\n"
     ]
    }
   ],
   "source": [
    "!find ${CODE_DIR} -regex '^.*\\(__pycache__\\)$' -exec rm -rf {} \\;"
   ]
  },
  {
   "cell_type": "code",
   "execution_count": 4,
   "id": "a5c90a17-c0ac-49f0-968d-ea9ea8710b00",
   "metadata": {
    "execution": {
     "iopub.execute_input": "2021-11-24T03:45:24.435184Z",
     "iopub.status.busy": "2021-11-24T03:45:24.434718Z",
     "iopub.status.idle": "2021-11-24T03:45:25.039891Z",
     "shell.execute_reply": "2021-11-24T03:45:25.038313Z"
    },
    "papermill": {
     "duration": 0.645164,
     "end_time": "2021-11-24T03:45:25.040281",
     "exception": false,
     "start_time": "2021-11-24T03:45:24.395117",
     "status": "completed"
    },
    "tags": []
   },
   "outputs": [],
   "source": [
    "!find ${CODE_DIR} -regex '^.*\\(__pycache__\\)$' -print"
   ]
  },
  {
   "cell_type": "markdown",
   "id": "145563a2-3e46-4f62-8191-7444a0b315bb",
   "metadata": {
    "papermill": {
     "duration": 0.035282,
     "end_time": "2021-11-24T03:45:25.141836",
     "exception": false,
     "start_time": "2021-11-24T03:45:25.106554",
     "status": "completed"
    },
    "tags": []
   },
   "source": [
    "# Modules"
   ]
  },
  {
   "cell_type": "code",
   "execution_count": 5,
   "id": "bea3d48e-8823-403f-90f5-aea8a17b357c",
   "metadata": {
    "execution": {
     "iopub.execute_input": "2021-11-24T03:45:25.217493Z",
     "iopub.status.busy": "2021-11-24T03:45:25.217044Z",
     "iopub.status.idle": "2021-11-24T03:45:25.548642Z",
     "shell.execute_reply": "2021-11-24T03:45:25.548186Z"
    },
    "papermill": {
     "duration": 0.370984,
     "end_time": "2021-11-24T03:45:25.548741",
     "exception": false,
     "start_time": "2021-11-24T03:45:25.177757",
     "status": "completed"
    },
    "tags": []
   },
   "outputs": [],
   "source": [
    "import numpy as np\n",
    "\n",
    "from clustermatch.coef import cm"
   ]
  },
  {
   "cell_type": "code",
   "execution_count": 6,
   "id": "df6b3793-930b-4c54-9f29-ecc47fc586fb",
   "metadata": {
    "execution": {
     "iopub.execute_input": "2021-11-24T03:45:25.625482Z",
     "iopub.status.busy": "2021-11-24T03:45:25.625002Z",
     "iopub.status.idle": "2021-11-24T03:45:34.305720Z",
     "shell.execute_reply": "2021-11-24T03:45:34.305331Z"
    },
    "papermill": {
     "duration": 8.720126,
     "end_time": "2021-11-24T03:45:34.305815",
     "exception": false,
     "start_time": "2021-11-24T03:45:25.585689",
     "status": "completed"
    },
    "tags": []
   },
   "outputs": [
    {
     "data": {
      "text/plain": [
       "0.3181818181818182"
      ]
     },
     "execution_count": 6,
     "metadata": {},
     "output_type": "execute_result"
    }
   ],
   "source": [
    "# let numba compile all the code before profiling\n",
    "cm(np.random.rand(10), np.random.rand(10))"
   ]
  },
  {
   "cell_type": "markdown",
   "id": "f8399ca8-265e-4e96-b582-54045cb2f9eb",
   "metadata": {
    "papermill": {
     "duration": 0.036562,
     "end_time": "2021-11-24T03:45:34.379772",
     "exception": false,
     "start_time": "2021-11-24T03:45:34.343210",
     "status": "completed"
    },
    "tags": []
   },
   "source": [
    "# Data"
   ]
  },
  {
   "cell_type": "code",
   "execution_count": 7,
   "id": "2316ffcd-a6e4-453f-bb52-779685c5c5bf",
   "metadata": {
    "execution": {
     "iopub.execute_input": "2021-11-24T03:45:34.456239Z",
     "iopub.status.busy": "2021-11-24T03:45:34.455683Z",
     "iopub.status.idle": "2021-11-24T03:45:34.457972Z",
     "shell.execute_reply": "2021-11-24T03:45:34.457505Z"
    },
    "papermill": {
     "duration": 0.041388,
     "end_time": "2021-11-24T03:45:34.458072",
     "exception": false,
     "start_time": "2021-11-24T03:45:34.416684",
     "status": "completed"
    },
    "tags": []
   },
   "outputs": [],
   "source": [
    "n_genes, n_samples = 500, 1000"
   ]
  },
  {
   "cell_type": "code",
   "execution_count": 8,
   "id": "b2f92fb1-113d-479b-8bbf-2be229e26e8f",
   "metadata": {
    "execution": {
     "iopub.execute_input": "2021-11-24T03:45:34.535163Z",
     "iopub.status.busy": "2021-11-24T03:45:34.534717Z",
     "iopub.status.idle": "2021-11-24T03:45:34.536685Z",
     "shell.execute_reply": "2021-11-24T03:45:34.537020Z"
    },
    "papermill": {
     "duration": 0.041638,
     "end_time": "2021-11-24T03:45:34.537137",
     "exception": false,
     "start_time": "2021-11-24T03:45:34.495499",
     "status": "completed"
    },
    "tags": []
   },
   "outputs": [],
   "source": [
    "np.random.seed(0)"
   ]
  },
  {
   "cell_type": "code",
   "execution_count": 9,
   "id": "63638c0b-b436-48a9-93e0-db2adb939a61",
   "metadata": {
    "execution": {
     "iopub.execute_input": "2021-11-24T03:45:34.613564Z",
     "iopub.status.busy": "2021-11-24T03:45:34.613127Z",
     "iopub.status.idle": "2021-11-24T03:45:34.619988Z",
     "shell.execute_reply": "2021-11-24T03:45:34.619469Z"
    },
    "papermill": {
     "duration": 0.046203,
     "end_time": "2021-11-24T03:45:34.620086",
     "exception": false,
     "start_time": "2021-11-24T03:45:34.573883",
     "status": "completed"
    },
    "tags": []
   },
   "outputs": [],
   "source": [
    "data = np.random.rand(n_genes, n_samples)"
   ]
  },
  {
   "cell_type": "code",
   "execution_count": 10,
   "id": "808017ed-9a8a-4bf7-a3dd-42317a39ce8f",
   "metadata": {
    "execution": {
     "iopub.execute_input": "2021-11-24T03:45:34.698885Z",
     "iopub.status.busy": "2021-11-24T03:45:34.698290Z",
     "iopub.status.idle": "2021-11-24T03:45:34.700570Z",
     "shell.execute_reply": "2021-11-24T03:45:34.700941Z"
    },
    "papermill": {
     "duration": 0.04323,
     "end_time": "2021-11-24T03:45:34.701058",
     "exception": false,
     "start_time": "2021-11-24T03:45:34.657828",
     "status": "completed"
    },
    "tags": []
   },
   "outputs": [
    {
     "data": {
      "text/plain": [
       "(500, 1000)"
      ]
     },
     "execution_count": 10,
     "metadata": {},
     "output_type": "execute_result"
    }
   ],
   "source": [
    "data.shape"
   ]
  },
  {
   "cell_type": "markdown",
   "id": "716e4219-cad5-453b-8331-47d310689e03",
   "metadata": {
    "papermill": {
     "duration": 0.036918,
     "end_time": "2021-11-24T03:45:34.775675",
     "exception": false,
     "start_time": "2021-11-24T03:45:34.738757",
     "status": "completed"
    },
    "tags": []
   },
   "source": [
    "# Profile"
   ]
  },
  {
   "cell_type": "code",
   "execution_count": 11,
   "id": "67807856-f337-4c6e-ae31-cd306577a314",
   "metadata": {
    "execution": {
     "iopub.execute_input": "2021-11-24T03:45:34.854360Z",
     "iopub.status.busy": "2021-11-24T03:45:34.853895Z",
     "iopub.status.idle": "2021-11-24T03:45:34.855409Z",
     "shell.execute_reply": "2021-11-24T03:45:34.855752Z"
    },
    "papermill": {
     "duration": 0.042506,
     "end_time": "2021-11-24T03:45:34.855892",
     "exception": false,
     "start_time": "2021-11-24T03:45:34.813386",
     "status": "completed"
    },
    "tags": []
   },
   "outputs": [],
   "source": [
    "def func():\n",
    "    n_clust = list(range(2, 10 + 1))\n",
    "    return cm(data, internal_n_clusters=n_clust)"
   ]
  },
  {
   "cell_type": "code",
   "execution_count": 12,
   "id": "2965a695-5c0c-4e9e-8435-dcbfa610eb81",
   "metadata": {
    "execution": {
     "iopub.execute_input": "2021-11-24T03:45:34.937871Z",
     "iopub.status.busy": "2021-11-24T03:45:34.937393Z",
     "iopub.status.idle": "2021-11-24T05:42:51.572344Z",
     "shell.execute_reply": "2021-11-24T05:42:51.572690Z"
    },
    "papermill": {
     "duration": 7036.679319,
     "end_time": "2021-11-24T05:42:51.572803",
     "exception": false,
     "start_time": "2021-11-24T03:45:34.893484",
     "status": "completed"
    },
    "tags": []
   },
   "outputs": [
    {
     "name": "stdout",
     "output_type": "stream",
     "text": [
      "7min 19s ± 2.86 s per loop (mean ± std. dev. of 7 runs, 1 loop each)\n"
     ]
    }
   ],
   "source": [
    "%%timeit func()\n",
    "func()"
   ]
  },
  {
   "cell_type": "code",
   "execution_count": 13,
   "id": "51c7a416-064a-4669-a09f-16f837d32475",
   "metadata": {
    "execution": {
     "iopub.execute_input": "2021-11-24T05:42:52.525696Z",
     "iopub.status.busy": "2021-11-24T05:42:52.525161Z",
     "iopub.status.idle": "2021-11-24T05:50:10.963028Z",
     "shell.execute_reply": "2021-11-24T05:50:10.963474Z"
    },
    "papermill": {
     "duration": 438.48434,
     "end_time": "2021-11-24T05:50:10.963588",
     "exception": false,
     "start_time": "2021-11-24T05:42:52.479248",
     "status": "completed"
    },
    "tags": []
   },
   "outputs": [
    {
     "name": "stdout",
     "output_type": "stream",
     "text": [
      " \n",
      "*** Profile printout saved to text file '06-cm_many_genes.txt'. \n"
     ]
    }
   ],
   "source": [
    "%%prun -s cumulative -l 50 -T 06-cm_many_genes.txt\n",
    "func()"
   ]
  },
  {
   "cell_type": "code",
   "execution_count": null,
   "id": "e2556204-1c10-4e01-8c6c-ea63ddb37530",
   "metadata": {
    "papermill": {
     "duration": 0.04285,
     "end_time": "2021-11-24T05:50:11.914364",
     "exception": false,
     "start_time": "2021-11-24T05:50:11.871514",
     "status": "completed"
    },
    "tags": []
   },
   "outputs": [],
   "source": []
  }
 ],
 "metadata": {
  "jupytext": {
   "cell_metadata_filter": "all,-execution,-papermill,-trusted"
  },
  "kernelspec": {
   "display_name": "Python 3 (ipykernel)",
   "language": "python",
   "name": "python3"
  },
  "language_info": {
   "codemirror_mode": {
    "name": "ipython",
    "version": 3
   },
   "file_extension": ".py",
   "mimetype": "text/x-python",
   "name": "python",
   "nbconvert_exporter": "python",
   "pygments_lexer": "ipython3",
   "version": "3.9.7"
  },
  "papermill": {
   "default_parameters": {},
   "duration": 7491.475797,
   "end_time": "2021-11-24T05:50:12.373102",
   "environment_variables": {},
   "exception": null,
   "input_path": "nbs/others/05_clustermatch_profiling/11_cm_optimized/06-many_genes.ipynb",
   "output_path": "nbs/others/05_clustermatch_profiling/11_cm_optimized/06-many_genes.run.ipynb",
   "parameters": {},
   "start_time": "2021-11-24T03:45:20.897305",
   "version": "2.3.3"
  }
 },
 "nbformat": 4,
 "nbformat_minor": 5
}
