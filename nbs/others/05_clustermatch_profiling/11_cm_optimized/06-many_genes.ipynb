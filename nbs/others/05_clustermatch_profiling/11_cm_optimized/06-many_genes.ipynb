{
 "cells": [
  {
   "cell_type": "markdown",
   "id": "507e9319-381b-4934-987c-2958e7f6ace7",
   "metadata": {
    "papermill": {
     "duration": 0.072115,
     "end_time": "2021-11-22T17:23:57.981853",
     "exception": false,
     "start_time": "2021-11-22T17:23:57.909738",
     "status": "completed"
    },
    "tags": []
   },
   "source": [
    "# Description"
   ]
  },
  {
   "cell_type": "markdown",
   "id": "9a88f2a7-3773-459c-8fdc-c69c1b0bb338",
   "metadata": {
    "papermill": {
     "duration": 0.036212,
     "end_time": "2021-11-22T17:23:58.051931",
     "exception": false,
     "start_time": "2021-11-22T17:23:58.015719",
     "status": "completed"
    },
    "tags": []
   },
   "source": [
    "Clustermatch run using a larger number of genes."
   ]
  },
  {
   "cell_type": "markdown",
   "id": "72de9f6f-dc00-435e-9dba-871db859a78a",
   "metadata": {
    "papermill": {
     "duration": 0.034669,
     "end_time": "2021-11-22T17:23:58.126391",
     "exception": false,
     "start_time": "2021-11-22T17:23:58.091722",
     "status": "completed"
    },
    "tags": []
   },
   "source": [
    "# Remove pycache dir"
   ]
  },
  {
   "cell_type": "code",
   "execution_count": 1,
   "id": "88d32361-f1b5-4cf0-9a2c-7ab927d14b42",
   "metadata": {
    "execution": {
     "iopub.execute_input": "2021-11-22T17:23:58.201197Z",
     "iopub.status.busy": "2021-11-22T17:23:58.200740Z",
     "iopub.status.idle": "2021-11-22T17:23:58.791140Z",
     "shell.execute_reply": "2021-11-22T17:23:58.792733Z"
    },
    "papermill": {
     "duration": 0.63312,
     "end_time": "2021-11-22T17:23:58.793391",
     "exception": false,
     "start_time": "2021-11-22T17:23:58.160271",
     "status": "completed"
    },
    "tags": []
   },
   "outputs": [
    {
     "name": "stdout",
     "output_type": "stream",
     "text": [
      "/opt/code\r\n"
     ]
    }
   ],
   "source": [
    "!echo ${CODE_DIR}"
   ]
  },
  {
   "cell_type": "code",
   "execution_count": 2,
   "id": "8a27da6e-cf59-4276-888b-57e98fd23ccf",
   "metadata": {
    "execution": {
     "iopub.execute_input": "2021-11-22T17:23:58.868459Z",
     "iopub.status.busy": "2021-11-22T17:23:58.868000Z",
     "iopub.status.idle": "2021-11-22T17:23:59.481949Z",
     "shell.execute_reply": "2021-11-22T17:23:59.480084Z"
    },
    "papermill": {
     "duration": 0.653559,
     "end_time": "2021-11-22T17:23:59.482321",
     "exception": false,
     "start_time": "2021-11-22T17:23:58.828762",
     "status": "completed"
    },
    "tags": []
   },
   "outputs": [
    {
     "name": "stdout",
     "output_type": "stream",
     "text": [
      "/opt/code/libs/clustermatch/__pycache__\r\n",
      "/opt/code/libs/clustermatch/sklearn/__pycache__\r\n",
      "/opt/code/libs/clustermatch/scipy/__pycache__\r\n",
      "/opt/code/libs/clustermatch/pytorch/__pycache__\r\n"
     ]
    }
   ],
   "source": [
    "!find ${CODE_DIR} -regex '^.*\\(__pycache__\\)$' -print"
   ]
  },
  {
   "cell_type": "code",
   "execution_count": 3,
   "id": "561480f7-c610-4f60-b40f-8100974ab4d1",
   "metadata": {
    "execution": {
     "iopub.execute_input": "2021-11-22T17:23:59.593870Z",
     "iopub.status.busy": "2021-11-22T17:23:59.593404Z",
     "iopub.status.idle": "2021-11-22T17:24:00.209145Z",
     "shell.execute_reply": "2021-11-22T17:24:00.207242Z"
    },
    "papermill": {
     "duration": 0.657851,
     "end_time": "2021-11-22T17:24:00.209517",
     "exception": false,
     "start_time": "2021-11-22T17:23:59.551666",
     "status": "completed"
    },
    "tags": []
   },
   "outputs": [
    {
     "name": "stdout",
     "output_type": "stream",
     "text": [
      "find: ‘/opt/code/libs/clustermatch/__pycache__’: No such file or directory\r\n",
      "find: ‘/opt/code/libs/clustermatch/sklearn/__pycache__’: No such file or directory\r\n",
      "find: ‘/opt/code/libs/clustermatch/scipy/__pycache__’: No such file or directory\r\n",
      "find: ‘/opt/code/libs/clustermatch/pytorch/__pycache__’: No such file or directory\r\n"
     ]
    }
   ],
   "source": [
    "!find ${CODE_DIR} -regex '^.*\\(__pycache__\\)$' -exec rm -rf {} \\;"
   ]
  },
  {
   "cell_type": "code",
   "execution_count": 4,
   "id": "a5c90a17-c0ac-49f0-968d-ea9ea8710b00",
   "metadata": {
    "execution": {
     "iopub.execute_input": "2021-11-22T17:24:00.319476Z",
     "iopub.status.busy": "2021-11-22T17:24:00.319015Z",
     "iopub.status.idle": "2021-11-22T17:24:00.936004Z",
     "shell.execute_reply": "2021-11-22T17:24:00.934331Z"
    },
    "papermill": {
     "duration": 0.658186,
     "end_time": "2021-11-22T17:24:00.936379",
     "exception": false,
     "start_time": "2021-11-22T17:24:00.278193",
     "status": "completed"
    },
    "tags": []
   },
   "outputs": [],
   "source": [
    "!find ${CODE_DIR} -regex '^.*\\(__pycache__\\)$' -print"
   ]
  },
  {
   "cell_type": "markdown",
   "id": "145563a2-3e46-4f62-8191-7444a0b315bb",
   "metadata": {
    "papermill": {
     "duration": 0.035918,
     "end_time": "2021-11-22T17:24:01.039652",
     "exception": false,
     "start_time": "2021-11-22T17:24:01.003734",
     "status": "completed"
    },
    "tags": []
   },
   "source": [
    "# Modules"
   ]
  },
  {
   "cell_type": "code",
   "execution_count": 5,
   "id": "bea3d48e-8823-403f-90f5-aea8a17b357c",
   "metadata": {
    "execution": {
     "iopub.execute_input": "2021-11-22T17:24:01.124723Z",
     "iopub.status.busy": "2021-11-22T17:24:01.124274Z",
     "iopub.status.idle": "2021-11-22T17:24:01.444521Z",
     "shell.execute_reply": "2021-11-22T17:24:01.444083Z"
    },
    "papermill": {
     "duration": 0.362407,
     "end_time": "2021-11-22T17:24:01.444620",
     "exception": false,
     "start_time": "2021-11-22T17:24:01.082213",
     "status": "completed"
    },
    "tags": []
   },
   "outputs": [],
   "source": [
    "import numpy as np\n",
    "\n",
    "from clustermatch.coef import cm"
   ]
  },
  {
   "cell_type": "code",
   "execution_count": 6,
   "id": "df6b3793-930b-4c54-9f29-ecc47fc586fb",
   "metadata": {
    "execution": {
     "iopub.execute_input": "2021-11-22T17:24:01.521790Z",
     "iopub.status.busy": "2021-11-22T17:24:01.521311Z",
     "iopub.status.idle": "2021-11-22T17:24:10.159952Z",
     "shell.execute_reply": "2021-11-22T17:24:10.159526Z"
    },
    "papermill": {
     "duration": 8.678369,
     "end_time": "2021-11-22T17:24:10.160049",
     "exception": false,
     "start_time": "2021-11-22T17:24:01.481680",
     "status": "completed"
    },
    "tags": []
   },
   "outputs": [
    {
     "data": {
      "text/plain": [
       "0.25"
      ]
     },
     "execution_count": 6,
     "metadata": {},
     "output_type": "execute_result"
    }
   ],
   "source": [
    "# let numba compile all the code before profiling\n",
    "cm(np.random.rand(10), np.random.rand(10))"
   ]
  },
  {
   "cell_type": "markdown",
   "id": "f8399ca8-265e-4e96-b582-54045cb2f9eb",
   "metadata": {
    "papermill": {
     "duration": 0.037364,
     "end_time": "2021-11-22T17:24:10.235237",
     "exception": false,
     "start_time": "2021-11-22T17:24:10.197873",
     "status": "completed"
    },
    "tags": []
   },
   "source": [
    "# Data"
   ]
  },
  {
   "cell_type": "code",
   "execution_count": 7,
   "id": "2316ffcd-a6e4-453f-bb52-779685c5c5bf",
   "metadata": {
    "execution": {
     "iopub.execute_input": "2021-11-22T17:24:10.313720Z",
     "iopub.status.busy": "2021-11-22T17:24:10.313290Z",
     "iopub.status.idle": "2021-11-22T17:24:10.315126Z",
     "shell.execute_reply": "2021-11-22T17:24:10.315467Z"
    },
    "papermill": {
     "duration": 0.042711,
     "end_time": "2021-11-22T17:24:10.315619",
     "exception": false,
     "start_time": "2021-11-22T17:24:10.272908",
     "status": "completed"
    },
    "tags": []
   },
   "outputs": [],
   "source": [
    "n_genes, n_samples = 500, 1000"
   ]
  },
  {
   "cell_type": "code",
   "execution_count": 8,
   "id": "b2f92fb1-113d-479b-8bbf-2be229e26e8f",
   "metadata": {
    "execution": {
     "iopub.execute_input": "2021-11-22T17:24:10.394247Z",
     "iopub.status.busy": "2021-11-22T17:24:10.393806Z",
     "iopub.status.idle": "2021-11-22T17:24:10.395551Z",
     "shell.execute_reply": "2021-11-22T17:24:10.395959Z"
    },
    "papermill": {
     "duration": 0.042562,
     "end_time": "2021-11-22T17:24:10.396069",
     "exception": false,
     "start_time": "2021-11-22T17:24:10.353507",
     "status": "completed"
    },
    "tags": []
   },
   "outputs": [],
   "source": [
    "np.random.seed(0)"
   ]
  },
  {
   "cell_type": "code",
   "execution_count": 9,
   "id": "63638c0b-b436-48a9-93e0-db2adb939a61",
   "metadata": {
    "execution": {
     "iopub.execute_input": "2021-11-22T17:24:10.474422Z",
     "iopub.status.busy": "2021-11-22T17:24:10.473983Z",
     "iopub.status.idle": "2021-11-22T17:24:10.480414Z",
     "shell.execute_reply": "2021-11-22T17:24:10.480771Z"
    },
    "papermill": {
     "duration": 0.047104,
     "end_time": "2021-11-22T17:24:10.480888",
     "exception": false,
     "start_time": "2021-11-22T17:24:10.433784",
     "status": "completed"
    },
    "tags": []
   },
   "outputs": [],
   "source": [
    "data = np.random.rand(n_genes, n_samples)"
   ]
  },
  {
   "cell_type": "code",
   "execution_count": 10,
   "id": "808017ed-9a8a-4bf7-a3dd-42317a39ce8f",
   "metadata": {
    "execution": {
     "iopub.execute_input": "2021-11-22T17:24:10.559236Z",
     "iopub.status.busy": "2021-11-22T17:24:10.558696Z",
     "iopub.status.idle": "2021-11-22T17:24:10.560897Z",
     "shell.execute_reply": "2021-11-22T17:24:10.561264Z"
    },
    "papermill": {
     "duration": 0.042769,
     "end_time": "2021-11-22T17:24:10.561379",
     "exception": false,
     "start_time": "2021-11-22T17:24:10.518610",
     "status": "completed"
    },
    "tags": []
   },
   "outputs": [
    {
     "data": {
      "text/plain": [
       "(500, 1000)"
      ]
     },
     "execution_count": 10,
     "metadata": {},
     "output_type": "execute_result"
    }
   ],
   "source": [
    "data.shape"
   ]
  },
  {
   "cell_type": "markdown",
   "id": "716e4219-cad5-453b-8331-47d310689e03",
   "metadata": {
    "papermill": {
     "duration": 0.037294,
     "end_time": "2021-11-22T17:24:10.637148",
     "exception": false,
     "start_time": "2021-11-22T17:24:10.599854",
     "status": "completed"
    },
    "tags": []
   },
   "source": [
    "# Profile"
   ]
  },
  {
   "cell_type": "code",
   "execution_count": 11,
   "id": "67807856-f337-4c6e-ae31-cd306577a314",
   "metadata": {
    "execution": {
     "iopub.execute_input": "2021-11-22T17:24:10.716306Z",
     "iopub.status.busy": "2021-11-22T17:24:10.715764Z",
     "iopub.status.idle": "2021-11-22T17:24:10.717863Z",
     "shell.execute_reply": "2021-11-22T17:24:10.717490Z"
    },
    "papermill": {
     "duration": 0.043169,
     "end_time": "2021-11-22T17:24:10.717956",
     "exception": false,
     "start_time": "2021-11-22T17:24:10.674787",
     "status": "completed"
    },
    "tags": []
   },
   "outputs": [],
   "source": [
    "def func():\n",
    "    n_clust = list(range(2, 10 + 1))\n",
    "    return cm(data, internal_n_clusters=n_clust)"
   ]
  },
  {
   "cell_type": "code",
   "execution_count": 12,
   "id": "2965a695-5c0c-4e9e-8435-dcbfa610eb81",
   "metadata": {
    "execution": {
     "iopub.execute_input": "2021-11-22T17:24:10.801120Z",
     "iopub.status.busy": "2021-11-22T17:24:10.800636Z",
     "iopub.status.idle": "2021-11-22T19:38:58.587678Z",
     "shell.execute_reply": "2021-11-22T19:38:58.588047Z"
    },
    "papermill": {
     "duration": 8087.831728,
     "end_time": "2021-11-22T19:38:58.588161",
     "exception": false,
     "start_time": "2021-11-22T17:24:10.756433",
     "status": "completed"
    },
    "tags": []
   },
   "outputs": [
    {
     "name": "stdout",
     "output_type": "stream",
     "text": [
      "8min 25s ± 816 ms per loop (mean ± std. dev. of 7 runs, 1 loop each)\n"
     ]
    }
   ],
   "source": [
    "%%timeit func()\n",
    "func()"
   ]
  },
  {
   "cell_type": "code",
   "execution_count": 13,
   "id": "51c7a416-064a-4669-a09f-16f837d32475",
   "metadata": {
    "execution": {
     "iopub.execute_input": "2021-11-22T19:38:58.685517Z",
     "iopub.status.busy": "2021-11-22T19:38:58.675497Z",
     "iopub.status.idle": "2021-11-22T19:47:28.619080Z",
     "shell.execute_reply": "2021-11-22T19:47:28.619483Z"
    },
    "papermill": {
     "duration": 509.987423,
     "end_time": "2021-11-22T19:47:28.619602",
     "exception": false,
     "start_time": "2021-11-22T19:38:58.632179",
     "status": "completed"
    },
    "tags": []
   },
   "outputs": [
    {
     "name": "stdout",
     "output_type": "stream",
     "text": [
      " \n",
      "*** Profile printout saved to text file '06-cm_many_genes.txt'. \n"
     ]
    }
   ],
   "source": [
    "%%prun -s cumulative -l 50 -T 06-cm_many_genes.txt\n",
    "func()"
   ]
  },
  {
   "cell_type": "code",
   "execution_count": null,
   "id": "e2556204-1c10-4e01-8c6c-ea63ddb37530",
   "metadata": {
    "papermill": {
     "duration": 0.039396,
     "end_time": "2021-11-22T19:47:28.698671",
     "exception": false,
     "start_time": "2021-11-22T19:47:28.659275",
     "status": "completed"
    },
    "tags": []
   },
   "outputs": [],
   "source": []
  }
 ],
 "metadata": {
  "jupytext": {
   "cell_metadata_filter": "all,-execution,-papermill,-trusted"
  },
  "kernelspec": {
   "display_name": "Python 3 (ipykernel)",
   "language": "python",
   "name": "python3"
  },
  "language_info": {
   "codemirror_mode": {
    "name": "ipython",
    "version": 3
   },
   "file_extension": ".py",
   "mimetype": "text/x-python",
   "name": "python",
   "nbconvert_exporter": "python",
   "pygments_lexer": "ipython3",
   "version": "3.9.7"
  },
  "papermill": {
   "default_parameters": {},
   "duration": 8612.489083,
   "end_time": "2021-11-22T19:47:29.161579",
   "environment_variables": {},
   "exception": null,
   "input_path": "nbs/others/05_clustermatch_profiling/11_cm_optimized/06-many_genes.ipynb",
   "output_path": "nbs/others/05_clustermatch_profiling/11_cm_optimized/06-many_genes.run.ipynb",
   "parameters": {},
   "start_time": "2021-11-22T17:23:56.672496",
   "version": "2.3.3"
  }
 },
 "nbformat": 4,
 "nbformat_minor": 5
}
