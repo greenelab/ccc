{
 "cells": [
  {
   "cell_type": "markdown",
   "id": "507e9319-381b-4934-987c-2958e7f6ace7",
   "metadata": {
    "papermill": {
     "duration": 0.072169,
     "end_time": "2021-11-28T04:51:26.725158",
     "exception": false,
     "start_time": "2021-11-28T04:51:26.652989",
     "status": "completed"
    },
    "tags": []
   },
   "source": [
    "# Description"
   ]
  },
  {
   "cell_type": "markdown",
   "id": "9a88f2a7-3773-459c-8fdc-c69c1b0bb338",
   "metadata": {
    "papermill": {
     "duration": 0.03548,
     "end_time": "2021-11-28T04:51:26.800572",
     "exception": false,
     "start_time": "2021-11-28T04:51:26.765092",
     "status": "completed"
    },
    "tags": []
   },
   "source": [
    "Clustermatch run using a larger number of genes."
   ]
  },
  {
   "cell_type": "markdown",
   "id": "72de9f6f-dc00-435e-9dba-871db859a78a",
   "metadata": {
    "papermill": {
     "duration": 0.034371,
     "end_time": "2021-11-28T04:51:26.869321",
     "exception": false,
     "start_time": "2021-11-28T04:51:26.834950",
     "status": "completed"
    },
    "tags": []
   },
   "source": [
    "# Remove pycache dir"
   ]
  },
  {
   "cell_type": "code",
   "execution_count": 1,
   "id": "88d32361-f1b5-4cf0-9a2c-7ab927d14b42",
   "metadata": {
    "execution": {
     "iopub.execute_input": "2021-11-28T04:51:26.943646Z",
     "iopub.status.busy": "2021-11-28T04:51:26.943199Z",
     "iopub.status.idle": "2021-11-28T04:51:27.530471Z",
     "shell.execute_reply": "2021-11-28T04:51:27.528615Z"
    },
    "papermill": {
     "duration": 0.627876,
     "end_time": "2021-11-28T04:51:27.530872",
     "exception": false,
     "start_time": "2021-11-28T04:51:26.902996",
     "status": "completed"
    },
    "tags": []
   },
   "outputs": [
    {
     "name": "stdout",
     "output_type": "stream",
     "text": [
      "/opt/code\r\n"
     ]
    }
   ],
   "source": [
    "!echo ${CODE_DIR}"
   ]
  },
  {
   "cell_type": "code",
   "execution_count": 2,
   "id": "8a27da6e-cf59-4276-888b-57e98fd23ccf",
   "metadata": {
    "execution": {
     "iopub.execute_input": "2021-11-28T04:51:27.608286Z",
     "iopub.status.busy": "2021-11-28T04:51:27.606347Z",
     "iopub.status.idle": "2021-11-28T04:51:28.216451Z",
     "shell.execute_reply": "2021-11-28T04:51:28.214501Z"
    },
    "papermill": {
     "duration": 0.650499,
     "end_time": "2021-11-28T04:51:28.216817",
     "exception": false,
     "start_time": "2021-11-28T04:51:27.566318",
     "status": "completed"
    },
    "tags": []
   },
   "outputs": [
    {
     "name": "stdout",
     "output_type": "stream",
     "text": [
      "/opt/code/libs/clustermatch/__pycache__\r\n",
      "/opt/code/libs/clustermatch/sklearn/__pycache__\r\n",
      "/opt/code/libs/clustermatch/scipy/__pycache__\r\n",
      "/opt/code/libs/clustermatch/pytorch/__pycache__\r\n"
     ]
    }
   ],
   "source": [
    "!find ${CODE_DIR} -regex '^.*\\(__pycache__\\)$' -print"
   ]
  },
  {
   "cell_type": "code",
   "execution_count": 3,
   "id": "561480f7-c610-4f60-b40f-8100974ab4d1",
   "metadata": {
    "execution": {
     "iopub.execute_input": "2021-11-28T04:51:28.324963Z",
     "iopub.status.busy": "2021-11-28T04:51:28.324481Z",
     "iopub.status.idle": "2021-11-28T04:51:28.936497Z",
     "shell.execute_reply": "2021-11-28T04:51:28.934597Z"
    },
    "papermill": {
     "duration": 0.651989,
     "end_time": "2021-11-28T04:51:28.936865",
     "exception": false,
     "start_time": "2021-11-28T04:51:28.284876",
     "status": "completed"
    },
    "tags": []
   },
   "outputs": [
    {
     "name": "stdout",
     "output_type": "stream",
     "text": [
      "find: ‘/opt/code/libs/clustermatch/__pycache__’: No such file or directory\r\n",
      "find: ‘/opt/code/libs/clustermatch/sklearn/__pycache__’: No such file or directory\r\n",
      "find: ‘/opt/code/libs/clustermatch/scipy/__pycache__’: No such file or directory\r\n",
      "find: ‘/opt/code/libs/clustermatch/pytorch/__pycache__’: No such file or directory\r\n"
     ]
    }
   ],
   "source": [
    "!find ${CODE_DIR} -regex '^.*\\(__pycache__\\)$' -exec rm -rf {} \\;"
   ]
  },
  {
   "cell_type": "code",
   "execution_count": 4,
   "id": "a5c90a17-c0ac-49f0-968d-ea9ea8710b00",
   "metadata": {
    "execution": {
     "iopub.execute_input": "2021-11-28T04:51:29.047877Z",
     "iopub.status.busy": "2021-11-28T04:51:29.044962Z",
     "iopub.status.idle": "2021-11-28T04:51:29.645316Z",
     "shell.execute_reply": "2021-11-28T04:51:29.646846Z"
    },
    "papermill": {
     "duration": 0.64137,
     "end_time": "2021-11-28T04:51:29.647281",
     "exception": false,
     "start_time": "2021-11-28T04:51:29.005911",
     "status": "completed"
    },
    "tags": []
   },
   "outputs": [],
   "source": [
    "!find ${CODE_DIR} -regex '^.*\\(__pycache__\\)$' -print"
   ]
  },
  {
   "cell_type": "markdown",
   "id": "145563a2-3e46-4f62-8191-7444a0b315bb",
   "metadata": {
    "papermill": {
     "duration": 0.034994,
     "end_time": "2021-11-28T04:51:29.723376",
     "exception": false,
     "start_time": "2021-11-28T04:51:29.688382",
     "status": "completed"
    },
    "tags": []
   },
   "source": [
    "# Modules"
   ]
  },
  {
   "cell_type": "code",
   "execution_count": 5,
   "id": "bea3d48e-8823-403f-90f5-aea8a17b357c",
   "metadata": {
    "execution": {
     "iopub.execute_input": "2021-11-28T04:51:29.808584Z",
     "iopub.status.busy": "2021-11-28T04:51:29.808125Z",
     "iopub.status.idle": "2021-11-28T04:51:30.129956Z",
     "shell.execute_reply": "2021-11-28T04:51:30.130326Z"
    },
    "papermill": {
     "duration": 0.366234,
     "end_time": "2021-11-28T04:51:30.130444",
     "exception": false,
     "start_time": "2021-11-28T04:51:29.764210",
     "status": "completed"
    },
    "tags": []
   },
   "outputs": [],
   "source": [
    "import numpy as np\n",
    "\n",
    "from clustermatch.coef import cm"
   ]
  },
  {
   "cell_type": "code",
   "execution_count": 6,
   "id": "df6b3793-930b-4c54-9f29-ecc47fc586fb",
   "metadata": {
    "execution": {
     "iopub.execute_input": "2021-11-28T04:51:30.207387Z",
     "iopub.status.busy": "2021-11-28T04:51:30.206931Z",
     "iopub.status.idle": "2021-11-28T04:51:38.882809Z",
     "shell.execute_reply": "2021-11-28T04:51:38.882339Z"
    },
    "papermill": {
     "duration": 8.716013,
     "end_time": "2021-11-28T04:51:38.882905",
     "exception": false,
     "start_time": "2021-11-28T04:51:30.166892",
     "status": "completed"
    },
    "tags": []
   },
   "outputs": [
    {
     "data": {
      "text/plain": [
       "0.15625"
      ]
     },
     "execution_count": 6,
     "metadata": {},
     "output_type": "execute_result"
    }
   ],
   "source": [
    "# let numba compile all the code before profiling\n",
    "cm(np.random.rand(10), np.random.rand(10))"
   ]
  },
  {
   "cell_type": "markdown",
   "id": "f8399ca8-265e-4e96-b582-54045cb2f9eb",
   "metadata": {
    "papermill": {
     "duration": 0.036539,
     "end_time": "2021-11-28T04:51:38.956934",
     "exception": false,
     "start_time": "2021-11-28T04:51:38.920395",
     "status": "completed"
    },
    "tags": []
   },
   "source": [
    "# Data"
   ]
  },
  {
   "cell_type": "code",
   "execution_count": 7,
   "id": "2316ffcd-a6e4-453f-bb52-779685c5c5bf",
   "metadata": {
    "execution": {
     "iopub.execute_input": "2021-11-28T04:51:39.033822Z",
     "iopub.status.busy": "2021-11-28T04:51:39.033364Z",
     "iopub.status.idle": "2021-11-28T04:51:39.035244Z",
     "shell.execute_reply": "2021-11-28T04:51:39.034856Z"
    },
    "papermill": {
     "duration": 0.041579,
     "end_time": "2021-11-28T04:51:39.035336",
     "exception": false,
     "start_time": "2021-11-28T04:51:38.993757",
     "status": "completed"
    },
    "tags": []
   },
   "outputs": [],
   "source": [
    "n_genes, n_samples = 500, 1000"
   ]
  },
  {
   "cell_type": "code",
   "execution_count": 8,
   "id": "b2f92fb1-113d-479b-8bbf-2be229e26e8f",
   "metadata": {
    "execution": {
     "iopub.execute_input": "2021-11-28T04:51:39.112308Z",
     "iopub.status.busy": "2021-11-28T04:51:39.111751Z",
     "iopub.status.idle": "2021-11-28T04:51:39.114210Z",
     "shell.execute_reply": "2021-11-28T04:51:39.113743Z"
    },
    "papermill": {
     "duration": 0.042368,
     "end_time": "2021-11-28T04:51:39.114304",
     "exception": false,
     "start_time": "2021-11-28T04:51:39.071936",
     "status": "completed"
    },
    "tags": []
   },
   "outputs": [],
   "source": [
    "np.random.seed(0)"
   ]
  },
  {
   "cell_type": "code",
   "execution_count": 9,
   "id": "63638c0b-b436-48a9-93e0-db2adb939a61",
   "metadata": {
    "execution": {
     "iopub.execute_input": "2021-11-28T04:51:39.192151Z",
     "iopub.status.busy": "2021-11-28T04:51:39.191642Z",
     "iopub.status.idle": "2021-11-28T04:51:39.198362Z",
     "shell.execute_reply": "2021-11-28T04:51:39.197916Z"
    },
    "papermill": {
     "duration": 0.046167,
     "end_time": "2021-11-28T04:51:39.198454",
     "exception": false,
     "start_time": "2021-11-28T04:51:39.152287",
     "status": "completed"
    },
    "tags": []
   },
   "outputs": [],
   "source": [
    "data = np.random.rand(n_genes, n_samples)"
   ]
  },
  {
   "cell_type": "code",
   "execution_count": 10,
   "id": "808017ed-9a8a-4bf7-a3dd-42317a39ce8f",
   "metadata": {
    "execution": {
     "iopub.execute_input": "2021-11-28T04:51:39.283951Z",
     "iopub.status.busy": "2021-11-28T04:51:39.283427Z",
     "iopub.status.idle": "2021-11-28T04:51:39.286203Z",
     "shell.execute_reply": "2021-11-28T04:51:39.285810Z"
    },
    "papermill": {
     "duration": 0.048389,
     "end_time": "2021-11-28T04:51:39.286297",
     "exception": false,
     "start_time": "2021-11-28T04:51:39.237908",
     "status": "completed"
    },
    "tags": []
   },
   "outputs": [
    {
     "data": {
      "text/plain": [
       "(500, 1000)"
      ]
     },
     "execution_count": 10,
     "metadata": {},
     "output_type": "execute_result"
    }
   ],
   "source": [
    "data.shape"
   ]
  },
  {
   "cell_type": "markdown",
   "id": "716e4219-cad5-453b-8331-47d310689e03",
   "metadata": {
    "papermill": {
     "duration": 0.037235,
     "end_time": "2021-11-28T04:51:39.362096",
     "exception": false,
     "start_time": "2021-11-28T04:51:39.324861",
     "status": "completed"
    },
    "tags": []
   },
   "source": [
    "# Profile"
   ]
  },
  {
   "cell_type": "code",
   "execution_count": 11,
   "id": "67807856-f337-4c6e-ae31-cd306577a314",
   "metadata": {
    "execution": {
     "iopub.execute_input": "2021-11-28T04:51:39.440469Z",
     "iopub.status.busy": "2021-11-28T04:51:39.440019Z",
     "iopub.status.idle": "2021-11-28T04:51:39.441866Z",
     "shell.execute_reply": "2021-11-28T04:51:39.441420Z"
    },
    "papermill": {
     "duration": 0.042541,
     "end_time": "2021-11-28T04:51:39.441959",
     "exception": false,
     "start_time": "2021-11-28T04:51:39.399418",
     "status": "completed"
    },
    "tags": []
   },
   "outputs": [],
   "source": [
    "def func():\n",
    "    n_clust = list(range(2, 10 + 1))\n",
    "    return cm(data, internal_n_clusters=n_clust)"
   ]
  },
  {
   "cell_type": "code",
   "execution_count": 12,
   "id": "2965a695-5c0c-4e9e-8435-dcbfa610eb81",
   "metadata": {
    "execution": {
     "iopub.execute_input": "2021-11-28T04:51:39.530377Z",
     "iopub.status.busy": "2021-11-28T04:51:39.524492Z",
     "iopub.status.idle": "2021-11-28T06:48:12.100577Z",
     "shell.execute_reply": "2021-11-28T06:48:12.101038Z"
    },
    "papermill": {
     "duration": 6992.620944,
     "end_time": "2021-11-28T06:48:12.101212",
     "exception": false,
     "start_time": "2021-11-28T04:51:39.480268",
     "status": "completed"
    },
    "tags": []
   },
   "outputs": [
    {
     "name": "stdout",
     "output_type": "stream",
     "text": [
      "7min 17s ± 3.39 s per loop (mean ± std. dev. of 7 runs, 1 loop each)\n"
     ]
    }
   ],
   "source": [
    "%%timeit func()\n",
    "func()"
   ]
  },
  {
   "cell_type": "code",
   "execution_count": 13,
   "id": "51c7a416-064a-4669-a09f-16f837d32475",
   "metadata": {
    "execution": {
     "iopub.execute_input": "2021-11-28T06:48:12.183223Z",
     "iopub.status.busy": "2021-11-28T06:48:12.182738Z",
     "iopub.status.idle": "2021-11-28T06:55:24.970743Z",
     "shell.execute_reply": "2021-11-28T06:55:24.971116Z"
    },
    "papermill": {
     "duration": 432.830901,
     "end_time": "2021-11-28T06:55:24.971228",
     "exception": false,
     "start_time": "2021-11-28T06:48:12.140327",
     "status": "completed"
    },
    "tags": []
   },
   "outputs": [
    {
     "name": "stdout",
     "output_type": "stream",
     "text": [
      " \n",
      "*** Profile printout saved to text file '06-cm_many_genes.txt'. \n"
     ]
    }
   ],
   "source": [
    "%%prun -s cumulative -l 50 -T 06-cm_many_genes.txt\n",
    "func()"
   ]
  },
  {
   "cell_type": "code",
   "execution_count": null,
   "id": "e2556204-1c10-4e01-8c6c-ea63ddb37530",
   "metadata": {
    "papermill": {
     "duration": 0.039069,
     "end_time": "2021-11-28T06:55:25.049276",
     "exception": false,
     "start_time": "2021-11-28T06:55:25.010207",
     "status": "completed"
    },
    "tags": []
   },
   "outputs": [],
   "source": []
  }
 ],
 "metadata": {
  "jupytext": {
   "cell_metadata_filter": "all,-execution,-papermill,-trusted"
  },
  "kernelspec": {
   "display_name": "Python 3 (ipykernel)",
   "language": "python",
   "name": "python3"
  },
  "language_info": {
   "codemirror_mode": {
    "name": "ipython",
    "version": 3
   },
   "file_extension": ".py",
   "mimetype": "text/x-python",
   "name": "python",
   "nbconvert_exporter": "python",
   "pygments_lexer": "ipython3",
   "version": "3.9.7"
  },
  "papermill": {
   "default_parameters": {},
   "duration": 7440.076655,
   "end_time": "2021-11-28T06:55:25.509202",
   "environment_variables": {},
   "exception": null,
   "input_path": "nbs/others/05_clustermatch_profiling/11_cm_optimized/06-many_genes.ipynb",
   "output_path": "nbs/others/05_clustermatch_profiling/11_cm_optimized/06-many_genes.run.ipynb",
   "parameters": {},
   "start_time": "2021-11-28T04:51:25.432547",
   "version": "2.3.3"
  }
 },
 "nbformat": 4,
 "nbformat_minor": 5
}
