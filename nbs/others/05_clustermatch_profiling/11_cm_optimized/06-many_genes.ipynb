{
 "cells": [
  {
   "cell_type": "markdown",
   "id": "507e9319-381b-4934-987c-2958e7f6ace7",
   "metadata": {
    "papermill": {
     "duration": 0.073454,
     "end_time": "2021-11-23T20:41:03.277815",
     "exception": false,
     "start_time": "2021-11-23T20:41:03.204361",
     "status": "completed"
    },
    "tags": []
   },
   "source": [
    "# Description"
   ]
  },
  {
   "cell_type": "markdown",
   "id": "9a88f2a7-3773-459c-8fdc-c69c1b0bb338",
   "metadata": {
    "papermill": {
     "duration": 0.033109,
     "end_time": "2021-11-23T20:41:03.344012",
     "exception": false,
     "start_time": "2021-11-23T20:41:03.310903",
     "status": "completed"
    },
    "tags": []
   },
   "source": [
    "Clustermatch run using a larger number of genes."
   ]
  },
  {
   "cell_type": "markdown",
   "id": "72de9f6f-dc00-435e-9dba-871db859a78a",
   "metadata": {
    "papermill": {
     "duration": 0.03361,
     "end_time": "2021-11-23T20:41:03.411481",
     "exception": false,
     "start_time": "2021-11-23T20:41:03.377871",
     "status": "completed"
    },
    "tags": []
   },
   "source": [
    "# Remove pycache dir"
   ]
  },
  {
   "cell_type": "code",
   "execution_count": 1,
   "id": "88d32361-f1b5-4cf0-9a2c-7ab927d14b42",
   "metadata": {
    "execution": {
     "iopub.execute_input": "2021-11-23T20:41:03.485174Z",
     "iopub.status.busy": "2021-11-23T20:41:03.484722Z",
     "iopub.status.idle": "2021-11-23T20:41:04.067981Z",
     "shell.execute_reply": "2021-11-23T20:41:04.067382Z"
    },
    "papermill": {
     "duration": 0.623327,
     "end_time": "2021-11-23T20:41:04.068126",
     "exception": false,
     "start_time": "2021-11-23T20:41:03.444799",
     "status": "completed"
    },
    "tags": []
   },
   "outputs": [
    {
     "name": "stdout",
     "output_type": "stream",
     "text": [
      "/opt/code\r\n"
     ]
    }
   ],
   "source": [
    "!echo ${CODE_DIR}"
   ]
  },
  {
   "cell_type": "code",
   "execution_count": 2,
   "id": "8a27da6e-cf59-4276-888b-57e98fd23ccf",
   "metadata": {
    "execution": {
     "iopub.execute_input": "2021-11-23T20:41:04.152515Z",
     "iopub.status.busy": "2021-11-23T20:41:04.152046Z",
     "iopub.status.idle": "2021-11-23T20:41:04.753026Z",
     "shell.execute_reply": "2021-11-23T20:41:04.751269Z"
    },
    "papermill": {
     "duration": 0.641783,
     "end_time": "2021-11-23T20:41:04.753398",
     "exception": false,
     "start_time": "2021-11-23T20:41:04.111615",
     "status": "completed"
    },
    "tags": []
   },
   "outputs": [
    {
     "name": "stdout",
     "output_type": "stream",
     "text": [
      "/opt/code/libs/clustermatch/__pycache__\r\n",
      "/opt/code/libs/clustermatch/sklearn/__pycache__\r\n",
      "/opt/code/libs/clustermatch/scipy/__pycache__\r\n",
      "/opt/code/libs/clustermatch/pytorch/__pycache__\r\n"
     ]
    }
   ],
   "source": [
    "!find ${CODE_DIR} -regex '^.*\\(__pycache__\\)$' -print"
   ]
  },
  {
   "cell_type": "code",
   "execution_count": 3,
   "id": "561480f7-c610-4f60-b40f-8100974ab4d1",
   "metadata": {
    "execution": {
     "iopub.execute_input": "2021-11-23T20:41:04.828491Z",
     "iopub.status.busy": "2021-11-23T20:41:04.828005Z",
     "iopub.status.idle": "2021-11-23T20:41:05.432237Z",
     "shell.execute_reply": "2021-11-23T20:41:05.433881Z"
    },
    "papermill": {
     "duration": 0.645079,
     "end_time": "2021-11-23T20:41:05.434328",
     "exception": false,
     "start_time": "2021-11-23T20:41:04.789249",
     "status": "completed"
    },
    "tags": []
   },
   "outputs": [
    {
     "name": "stdout",
     "output_type": "stream",
     "text": [
      "find: ‘/opt/code/libs/clustermatch/__pycache__’: No such file or directory\r\n",
      "find: ‘/opt/code/libs/clustermatch/sklearn/__pycache__’: No such file or directory\r\n",
      "find: ‘/opt/code/libs/clustermatch/scipy/__pycache__’: No such file or directory\r\n",
      "find: ‘/opt/code/libs/clustermatch/pytorch/__pycache__’: No such file or directory\r\n"
     ]
    }
   ],
   "source": [
    "!find ${CODE_DIR} -regex '^.*\\(__pycache__\\)$' -exec rm -rf {} \\;"
   ]
  },
  {
   "cell_type": "code",
   "execution_count": 4,
   "id": "a5c90a17-c0ac-49f0-968d-ea9ea8710b00",
   "metadata": {
    "execution": {
     "iopub.execute_input": "2021-11-23T20:41:05.510611Z",
     "iopub.status.busy": "2021-11-23T20:41:05.510135Z",
     "iopub.status.idle": "2021-11-23T20:41:06.117771Z",
     "shell.execute_reply": "2021-11-23T20:41:06.119006Z"
    },
    "papermill": {
     "duration": 0.648664,
     "end_time": "2021-11-23T20:41:06.119410",
     "exception": false,
     "start_time": "2021-11-23T20:41:05.470746",
     "status": "completed"
    },
    "tags": []
   },
   "outputs": [],
   "source": [
    "!find ${CODE_DIR} -regex '^.*\\(__pycache__\\)$' -print"
   ]
  },
  {
   "cell_type": "markdown",
   "id": "145563a2-3e46-4f62-8191-7444a0b315bb",
   "metadata": {
    "papermill": {
     "duration": 0.035291,
     "end_time": "2021-11-23T20:41:06.224339",
     "exception": false,
     "start_time": "2021-11-23T20:41:06.189048",
     "status": "completed"
    },
    "tags": []
   },
   "source": [
    "# Modules"
   ]
  },
  {
   "cell_type": "code",
   "execution_count": 5,
   "id": "bea3d48e-8823-403f-90f5-aea8a17b357c",
   "metadata": {
    "execution": {
     "iopub.execute_input": "2021-11-23T20:41:06.300141Z",
     "iopub.status.busy": "2021-11-23T20:41:06.299636Z",
     "iopub.status.idle": "2021-11-23T20:41:06.618321Z",
     "shell.execute_reply": "2021-11-23T20:41:06.618670Z"
    },
    "papermill": {
     "duration": 0.358378,
     "end_time": "2021-11-23T20:41:06.618792",
     "exception": false,
     "start_time": "2021-11-23T20:41:06.260414",
     "status": "completed"
    },
    "tags": []
   },
   "outputs": [],
   "source": [
    "import numpy as np\n",
    "\n",
    "from clustermatch.coef import cm"
   ]
  },
  {
   "cell_type": "code",
   "execution_count": 6,
   "id": "df6b3793-930b-4c54-9f29-ecc47fc586fb",
   "metadata": {
    "execution": {
     "iopub.execute_input": "2021-11-23T20:41:06.695475Z",
     "iopub.status.busy": "2021-11-23T20:41:06.694935Z",
     "iopub.status.idle": "2021-11-23T20:41:15.368346Z",
     "shell.execute_reply": "2021-11-23T20:41:15.367858Z"
    },
    "papermill": {
     "duration": 8.712583,
     "end_time": "2021-11-23T20:41:15.368440",
     "exception": false,
     "start_time": "2021-11-23T20:41:06.655857",
     "status": "completed"
    },
    "tags": []
   },
   "outputs": [
    {
     "data": {
      "text/plain": [
       "0.0"
      ]
     },
     "execution_count": 6,
     "metadata": {},
     "output_type": "execute_result"
    }
   ],
   "source": [
    "# let numba compile all the code before profiling\n",
    "cm(np.random.rand(10), np.random.rand(10))"
   ]
  },
  {
   "cell_type": "markdown",
   "id": "f8399ca8-265e-4e96-b582-54045cb2f9eb",
   "metadata": {
    "papermill": {
     "duration": 0.037044,
     "end_time": "2021-11-23T20:41:15.442046",
     "exception": false,
     "start_time": "2021-11-23T20:41:15.405002",
     "status": "completed"
    },
    "tags": []
   },
   "source": [
    "# Data"
   ]
  },
  {
   "cell_type": "code",
   "execution_count": 7,
   "id": "2316ffcd-a6e4-453f-bb52-779685c5c5bf",
   "metadata": {
    "execution": {
     "iopub.execute_input": "2021-11-23T20:41:15.518930Z",
     "iopub.status.busy": "2021-11-23T20:41:15.518480Z",
     "iopub.status.idle": "2021-11-23T20:41:15.520053Z",
     "shell.execute_reply": "2021-11-23T20:41:15.520397Z"
    },
    "papermill": {
     "duration": 0.042038,
     "end_time": "2021-11-23T20:41:15.520512",
     "exception": false,
     "start_time": "2021-11-23T20:41:15.478474",
     "status": "completed"
    },
    "tags": []
   },
   "outputs": [],
   "source": [
    "n_genes, n_samples = 500, 1000"
   ]
  },
  {
   "cell_type": "code",
   "execution_count": 8,
   "id": "b2f92fb1-113d-479b-8bbf-2be229e26e8f",
   "metadata": {
    "execution": {
     "iopub.execute_input": "2021-11-23T20:41:15.596982Z",
     "iopub.status.busy": "2021-11-23T20:41:15.596527Z",
     "iopub.status.idle": "2021-11-23T20:41:15.598054Z",
     "shell.execute_reply": "2021-11-23T20:41:15.598393Z"
    },
    "papermill": {
     "duration": 0.040953,
     "end_time": "2021-11-23T20:41:15.598507",
     "exception": false,
     "start_time": "2021-11-23T20:41:15.557554",
     "status": "completed"
    },
    "tags": []
   },
   "outputs": [],
   "source": [
    "np.random.seed(0)"
   ]
  },
  {
   "cell_type": "code",
   "execution_count": 9,
   "id": "63638c0b-b436-48a9-93e0-db2adb939a61",
   "metadata": {
    "execution": {
     "iopub.execute_input": "2021-11-23T20:41:15.675502Z",
     "iopub.status.busy": "2021-11-23T20:41:15.675057Z",
     "iopub.status.idle": "2021-11-23T20:41:15.682104Z",
     "shell.execute_reply": "2021-11-23T20:41:15.681642Z"
    },
    "papermill": {
     "duration": 0.046527,
     "end_time": "2021-11-23T20:41:15.682201",
     "exception": false,
     "start_time": "2021-11-23T20:41:15.635674",
     "status": "completed"
    },
    "tags": []
   },
   "outputs": [],
   "source": [
    "data = np.random.rand(n_genes, n_samples)"
   ]
  },
  {
   "cell_type": "code",
   "execution_count": 10,
   "id": "808017ed-9a8a-4bf7-a3dd-42317a39ce8f",
   "metadata": {
    "execution": {
     "iopub.execute_input": "2021-11-23T20:41:15.759291Z",
     "iopub.status.busy": "2021-11-23T20:41:15.758678Z",
     "iopub.status.idle": "2021-11-23T20:41:15.761007Z",
     "shell.execute_reply": "2021-11-23T20:41:15.761364Z"
    },
    "papermill": {
     "duration": 0.042603,
     "end_time": "2021-11-23T20:41:15.761478",
     "exception": false,
     "start_time": "2021-11-23T20:41:15.718875",
     "status": "completed"
    },
    "tags": []
   },
   "outputs": [
    {
     "data": {
      "text/plain": [
       "(500, 1000)"
      ]
     },
     "execution_count": 10,
     "metadata": {},
     "output_type": "execute_result"
    }
   ],
   "source": [
    "data.shape"
   ]
  },
  {
   "cell_type": "markdown",
   "id": "716e4219-cad5-453b-8331-47d310689e03",
   "metadata": {
    "papermill": {
     "duration": 0.03744,
     "end_time": "2021-11-23T20:41:15.837562",
     "exception": false,
     "start_time": "2021-11-23T20:41:15.800122",
     "status": "completed"
    },
    "tags": []
   },
   "source": [
    "# Profile"
   ]
  },
  {
   "cell_type": "code",
   "execution_count": 11,
   "id": "67807856-f337-4c6e-ae31-cd306577a314",
   "metadata": {
    "execution": {
     "iopub.execute_input": "2021-11-23T20:41:15.915654Z",
     "iopub.status.busy": "2021-11-23T20:41:15.915215Z",
     "iopub.status.idle": "2021-11-23T20:41:15.916961Z",
     "shell.execute_reply": "2021-11-23T20:41:15.917292Z"
    },
    "papermill": {
     "duration": 0.042601,
     "end_time": "2021-11-23T20:41:15.917404",
     "exception": false,
     "start_time": "2021-11-23T20:41:15.874803",
     "status": "completed"
    },
    "tags": []
   },
   "outputs": [],
   "source": [
    "def func():\n",
    "    n_clust = list(range(2, 10 + 1))\n",
    "    return cm(data, internal_n_clusters=n_clust)"
   ]
  },
  {
   "cell_type": "code",
   "execution_count": 12,
   "id": "2965a695-5c0c-4e9e-8435-dcbfa610eb81",
   "metadata": {
    "execution": {
     "iopub.execute_input": "2021-11-23T20:41:16.000200Z",
     "iopub.status.busy": "2021-11-23T20:41:15.999728Z",
     "iopub.status.idle": "2021-11-23T22:44:26.091410Z",
     "shell.execute_reply": "2021-11-23T22:44:26.091783Z"
    },
    "papermill": {
     "duration": 7390.136412,
     "end_time": "2021-11-23T22:44:26.091957",
     "exception": false,
     "start_time": "2021-11-23T20:41:15.955545",
     "status": "completed"
    },
    "tags": []
   },
   "outputs": [
    {
     "name": "stdout",
     "output_type": "stream",
     "text": [
      "7min 42s ± 476 ms per loop (mean ± std. dev. of 7 runs, 1 loop each)\n"
     ]
    }
   ],
   "source": [
    "%%timeit func()\n",
    "func()"
   ]
  },
  {
   "cell_type": "code",
   "execution_count": 13,
   "id": "51c7a416-064a-4669-a09f-16f837d32475",
   "metadata": {
    "execution": {
     "iopub.execute_input": "2021-11-23T22:44:27.044568Z",
     "iopub.status.busy": "2021-11-23T22:44:27.044000Z",
     "iopub.status.idle": "2021-11-23T22:52:09.124290Z",
     "shell.execute_reply": "2021-11-23T22:52:09.124681Z"
    },
    "papermill": {
     "duration": 462.126733,
     "end_time": "2021-11-23T22:52:09.124797",
     "exception": false,
     "start_time": "2021-11-23T22:44:26.998064",
     "status": "completed"
    },
    "tags": []
   },
   "outputs": [
    {
     "name": "stdout",
     "output_type": "stream",
     "text": [
      " \n",
      "*** Profile printout saved to text file '06-cm_many_genes.txt'. \n"
     ]
    }
   ],
   "source": [
    "%%prun -s cumulative -l 50 -T 06-cm_many_genes.txt\n",
    "func()"
   ]
  },
  {
   "cell_type": "code",
   "execution_count": null,
   "id": "e2556204-1c10-4e01-8c6c-ea63ddb37530",
   "metadata": {
    "papermill": {
     "duration": 0.042778,
     "end_time": "2021-11-23T22:52:10.074154",
     "exception": false,
     "start_time": "2021-11-23T22:52:10.031376",
     "status": "completed"
    },
    "tags": []
   },
   "outputs": [],
   "source": []
  }
 ],
 "metadata": {
  "jupytext": {
   "cell_metadata_filter": "all,-execution,-papermill,-trusted"
  },
  "kernelspec": {
   "display_name": "Python 3 (ipykernel)",
   "language": "python",
   "name": "python3"
  },
  "language_info": {
   "codemirror_mode": {
    "name": "ipython",
    "version": 3
   },
   "file_extension": ".py",
   "mimetype": "text/x-python",
   "name": "python",
   "nbconvert_exporter": "python",
   "pygments_lexer": "ipython3",
   "version": "3.9.7"
  },
  "papermill": {
   "default_parameters": {},
   "duration": 7868.564893,
   "end_time": "2021-11-23T22:52:10.532633",
   "environment_variables": {},
   "exception": null,
   "input_path": "nbs/others/05_clustermatch_profiling/11_cm_optimized/06-many_genes.ipynb",
   "output_path": "nbs/others/05_clustermatch_profiling/11_cm_optimized/06-many_genes.run.ipynb",
   "parameters": {},
   "start_time": "2021-11-23T20:41:01.967740",
   "version": "2.3.3"
  }
 },
 "nbformat": 4,
 "nbformat_minor": 5
}
