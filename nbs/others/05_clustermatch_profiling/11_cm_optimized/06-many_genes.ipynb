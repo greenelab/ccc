{
 "cells": [
  {
   "cell_type": "markdown",
   "id": "507e9319-381b-4934-987c-2958e7f6ace7",
   "metadata": {
    "papermill": {
     "duration": 0.037575,
     "end_time": "2021-11-19T18:29:57.989220",
     "exception": false,
     "start_time": "2021-11-19T18:29:57.951645",
     "status": "completed"
    },
    "tags": []
   },
   "source": [
    "# Description"
   ]
  },
  {
   "cell_type": "markdown",
   "id": "9a88f2a7-3773-459c-8fdc-c69c1b0bb338",
   "metadata": {
    "papermill": {
     "duration": 0.032147,
     "end_time": "2021-11-19T18:29:58.054659",
     "exception": false,
     "start_time": "2021-11-19T18:29:58.022512",
     "status": "completed"
    },
    "tags": []
   },
   "source": [
    "Clustermatch run using a larger number of genes."
   ]
  },
  {
   "cell_type": "markdown",
   "id": "72de9f6f-dc00-435e-9dba-871db859a78a",
   "metadata": {
    "papermill": {
     "duration": 0.032947,
     "end_time": "2021-11-19T18:29:58.119976",
     "exception": false,
     "start_time": "2021-11-19T18:29:58.087029",
     "status": "completed"
    },
    "tags": []
   },
   "source": [
    "# Remove pycache dir"
   ]
  },
  {
   "cell_type": "code",
   "execution_count": 1,
   "id": "88d32361-f1b5-4cf0-9a2c-7ab927d14b42",
   "metadata": {
    "execution": {
     "iopub.execute_input": "2021-11-19T18:29:58.192124Z",
     "iopub.status.busy": "2021-11-19T18:29:58.191631Z",
     "iopub.status.idle": "2021-11-19T18:29:58.785905Z",
     "shell.execute_reply": "2021-11-19T18:29:58.783769Z"
    },
    "papermill": {
     "duration": 0.634104,
     "end_time": "2021-11-19T18:29:58.786314",
     "exception": false,
     "start_time": "2021-11-19T18:29:58.152210",
     "status": "completed"
    },
    "tags": []
   },
   "outputs": [
    {
     "name": "stdout",
     "output_type": "stream",
     "text": [
      "/opt/code\r\n"
     ]
    }
   ],
   "source": [
    "!echo ${CODE_DIR}"
   ]
  },
  {
   "cell_type": "code",
   "execution_count": 2,
   "id": "8a27da6e-cf59-4276-888b-57e98fd23ccf",
   "metadata": {
    "execution": {
     "iopub.execute_input": "2021-11-19T18:29:58.892106Z",
     "iopub.status.busy": "2021-11-19T18:29:58.891553Z",
     "iopub.status.idle": "2021-11-19T18:29:59.483484Z",
     "shell.execute_reply": "2021-11-19T18:29:59.483006Z"
    },
    "papermill": {
     "duration": 0.631281,
     "end_time": "2021-11-19T18:29:59.483609",
     "exception": false,
     "start_time": "2021-11-19T18:29:58.852328",
     "status": "completed"
    },
    "tags": []
   },
   "outputs": [
    {
     "name": "stdout",
     "output_type": "stream",
     "text": [
      "/opt/code/libs/clustermatch/__pycache__\r\n"
     ]
    }
   ],
   "source": [
    "!find ${CODE_DIR} -regex '^.*\\(__pycache__\\)$' -print"
   ]
  },
  {
   "cell_type": "code",
   "execution_count": 3,
   "id": "561480f7-c610-4f60-b40f-8100974ab4d1",
   "metadata": {
    "execution": {
     "iopub.execute_input": "2021-11-19T18:29:59.563743Z",
     "iopub.status.busy": "2021-11-19T18:29:59.562710Z",
     "iopub.status.idle": "2021-11-19T18:30:00.170290Z",
     "shell.execute_reply": "2021-11-19T18:30:00.168560Z"
    },
    "papermill": {
     "duration": 0.646196,
     "end_time": "2021-11-19T18:30:00.170667",
     "exception": false,
     "start_time": "2021-11-19T18:29:59.524471",
     "status": "completed"
    },
    "tags": []
   },
   "outputs": [
    {
     "name": "stdout",
     "output_type": "stream",
     "text": [
      "find: ‘/opt/code/libs/clustermatch/__pycache__’: No such file or directory\r\n"
     ]
    }
   ],
   "source": [
    "!find ${CODE_DIR} -regex '^.*\\(__pycache__\\)$' -exec rm -rf {} \\;"
   ]
  },
  {
   "cell_type": "code",
   "execution_count": 4,
   "id": "a5c90a17-c0ac-49f0-968d-ea9ea8710b00",
   "metadata": {
    "execution": {
     "iopub.execute_input": "2021-11-19T18:30:00.249721Z",
     "iopub.status.busy": "2021-11-19T18:30:00.246653Z",
     "iopub.status.idle": "2021-11-19T18:30:00.857909Z",
     "shell.execute_reply": "2021-11-19T18:30:00.859542Z"
    },
    "papermill": {
     "duration": 0.651691,
     "end_time": "2021-11-19T18:30:00.860012",
     "exception": false,
     "start_time": "2021-11-19T18:30:00.208321",
     "status": "completed"
    },
    "tags": []
   },
   "outputs": [],
   "source": [
    "!find ${CODE_DIR} -regex '^.*\\(__pycache__\\)$' -print"
   ]
  },
  {
   "cell_type": "markdown",
   "id": "145563a2-3e46-4f62-8191-7444a0b315bb",
   "metadata": {
    "papermill": {
     "duration": 0.035583,
     "end_time": "2021-11-19T18:30:00.967135",
     "exception": false,
     "start_time": "2021-11-19T18:30:00.931552",
     "status": "completed"
    },
    "tags": []
   },
   "source": [
    "# Modules"
   ]
  },
  {
   "cell_type": "code",
   "execution_count": 5,
   "id": "bea3d48e-8823-403f-90f5-aea8a17b357c",
   "metadata": {
    "execution": {
     "iopub.execute_input": "2021-11-19T18:30:01.040854Z",
     "iopub.status.busy": "2021-11-19T18:30:01.040402Z",
     "iopub.status.idle": "2021-11-19T18:30:01.364399Z",
     "shell.execute_reply": "2021-11-19T18:30:01.363930Z"
    },
    "papermill": {
     "duration": 0.362388,
     "end_time": "2021-11-19T18:30:01.364499",
     "exception": false,
     "start_time": "2021-11-19T18:30:01.002111",
     "status": "completed"
    },
    "tags": []
   },
   "outputs": [],
   "source": [
    "import numpy as np\n",
    "\n",
    "from clustermatch.coef import cm"
   ]
  },
  {
   "cell_type": "code",
   "execution_count": 6,
   "id": "df6b3793-930b-4c54-9f29-ecc47fc586fb",
   "metadata": {
    "execution": {
     "iopub.execute_input": "2021-11-19T18:30:01.440731Z",
     "iopub.status.busy": "2021-11-19T18:30:01.440274Z",
     "iopub.status.idle": "2021-11-19T18:30:23.137991Z",
     "shell.execute_reply": "2021-11-19T18:30:23.138345Z"
    },
    "papermill": {
     "duration": 21.737258,
     "end_time": "2021-11-19T18:30:23.138472",
     "exception": false,
     "start_time": "2021-11-19T18:30:01.401214",
     "status": "completed"
    },
    "tags": []
   },
   "outputs": [
    {
     "data": {
      "text/plain": [
       "0.0"
      ]
     },
     "execution_count": 6,
     "metadata": {},
     "output_type": "execute_result"
    }
   ],
   "source": [
    "# let numba compile all the code before profiling\n",
    "cm(np.random.rand(10), np.random.rand(10))"
   ]
  },
  {
   "cell_type": "markdown",
   "id": "f8399ca8-265e-4e96-b582-54045cb2f9eb",
   "metadata": {
    "papermill": {
     "duration": 0.035954,
     "end_time": "2021-11-19T18:30:23.212601",
     "exception": false,
     "start_time": "2021-11-19T18:30:23.176647",
     "status": "completed"
    },
    "tags": []
   },
   "source": [
    "# Data"
   ]
  },
  {
   "cell_type": "code",
   "execution_count": 7,
   "id": "2316ffcd-a6e4-453f-bb52-779685c5c5bf",
   "metadata": {
    "execution": {
     "iopub.execute_input": "2021-11-19T18:30:23.289012Z",
     "iopub.status.busy": "2021-11-19T18:30:23.288569Z",
     "iopub.status.idle": "2021-11-19T18:30:23.290731Z",
     "shell.execute_reply": "2021-11-19T18:30:23.290298Z"
    },
    "papermill": {
     "duration": 0.041679,
     "end_time": "2021-11-19T18:30:23.290822",
     "exception": false,
     "start_time": "2021-11-19T18:30:23.249143",
     "status": "completed"
    },
    "tags": []
   },
   "outputs": [],
   "source": [
    "n_genes, n_samples = 500, 1000"
   ]
  },
  {
   "cell_type": "code",
   "execution_count": 8,
   "id": "b2f92fb1-113d-479b-8bbf-2be229e26e8f",
   "metadata": {
    "execution": {
     "iopub.execute_input": "2021-11-19T18:30:23.367951Z",
     "iopub.status.busy": "2021-11-19T18:30:23.366759Z",
     "iopub.status.idle": "2021-11-19T18:30:23.370141Z",
     "shell.execute_reply": "2021-11-19T18:30:23.369711Z"
    },
    "papermill": {
     "duration": 0.042004,
     "end_time": "2021-11-19T18:30:23.370233",
     "exception": false,
     "start_time": "2021-11-19T18:30:23.328229",
     "status": "completed"
    },
    "tags": []
   },
   "outputs": [],
   "source": [
    "np.random.seed(0)"
   ]
  },
  {
   "cell_type": "code",
   "execution_count": 9,
   "id": "63638c0b-b436-48a9-93e0-db2adb939a61",
   "metadata": {
    "execution": {
     "iopub.execute_input": "2021-11-19T18:30:23.446769Z",
     "iopub.status.busy": "2021-11-19T18:30:23.446331Z",
     "iopub.status.idle": "2021-11-19T18:30:23.453277Z",
     "shell.execute_reply": "2021-11-19T18:30:23.452833Z"
    },
    "papermill": {
     "duration": 0.045969,
     "end_time": "2021-11-19T18:30:23.453371",
     "exception": false,
     "start_time": "2021-11-19T18:30:23.407402",
     "status": "completed"
    },
    "tags": []
   },
   "outputs": [],
   "source": [
    "data = np.random.rand(n_genes, n_samples)"
   ]
  },
  {
   "cell_type": "code",
   "execution_count": 10,
   "id": "808017ed-9a8a-4bf7-a3dd-42317a39ce8f",
   "metadata": {
    "execution": {
     "iopub.execute_input": "2021-11-19T18:30:23.530708Z",
     "iopub.status.busy": "2021-11-19T18:30:23.530158Z",
     "iopub.status.idle": "2021-11-19T18:30:23.532376Z",
     "shell.execute_reply": "2021-11-19T18:30:23.532746Z"
    },
    "papermill": {
     "duration": 0.042068,
     "end_time": "2021-11-19T18:30:23.532864",
     "exception": false,
     "start_time": "2021-11-19T18:30:23.490796",
     "status": "completed"
    },
    "tags": []
   },
   "outputs": [
    {
     "data": {
      "text/plain": [
       "(500, 1000)"
      ]
     },
     "execution_count": 10,
     "metadata": {},
     "output_type": "execute_result"
    }
   ],
   "source": [
    "data.shape"
   ]
  },
  {
   "cell_type": "markdown",
   "id": "716e4219-cad5-453b-8331-47d310689e03",
   "metadata": {
    "papermill": {
     "duration": 0.039644,
     "end_time": "2021-11-19T18:30:23.614801",
     "exception": false,
     "start_time": "2021-11-19T18:30:23.575157",
     "status": "completed"
    },
    "tags": []
   },
   "source": [
    "# Profile"
   ]
  },
  {
   "cell_type": "code",
   "execution_count": 11,
   "id": "67807856-f337-4c6e-ae31-cd306577a314",
   "metadata": {
    "execution": {
     "iopub.execute_input": "2021-11-19T18:30:23.693498Z",
     "iopub.status.busy": "2021-11-19T18:30:23.692979Z",
     "iopub.status.idle": "2021-11-19T18:30:23.694851Z",
     "shell.execute_reply": "2021-11-19T18:30:23.694485Z"
    },
    "papermill": {
     "duration": 0.042494,
     "end_time": "2021-11-19T18:30:23.694950",
     "exception": false,
     "start_time": "2021-11-19T18:30:23.652456",
     "status": "completed"
    },
    "tags": []
   },
   "outputs": [],
   "source": [
    "def func():\n",
    "    n_clust = list(range(2, 10 + 1))\n",
    "    return cm(data, internal_n_clusters=n_clust)"
   ]
  },
  {
   "cell_type": "code",
   "execution_count": 12,
   "id": "2965a695-5c0c-4e9e-8435-dcbfa610eb81",
   "metadata": {
    "execution": {
     "iopub.execute_input": "2021-11-19T18:30:23.777715Z",
     "iopub.status.busy": "2021-11-19T18:30:23.777252Z",
     "iopub.status.idle": "2021-11-19T20:18:27.283706Z",
     "shell.execute_reply": "2021-11-19T20:18:27.284073Z"
    },
    "papermill": {
     "duration": 6483.551013,
     "end_time": "2021-11-19T20:18:27.284181",
     "exception": false,
     "start_time": "2021-11-19T18:30:23.733168",
     "status": "completed"
    },
    "tags": []
   },
   "outputs": [
    {
     "name": "stdout",
     "output_type": "stream",
     "text": [
      "6min 44s ± 435 ms per loop (mean ± std. dev. of 7 runs, 1 loop each)\n"
     ]
    }
   ],
   "source": [
    "%%timeit func()\n",
    "func()"
   ]
  },
  {
   "cell_type": "code",
   "execution_count": 13,
   "id": "51c7a416-064a-4669-a09f-16f837d32475",
   "metadata": {
    "execution": {
     "iopub.execute_input": "2021-11-19T20:18:27.365759Z",
     "iopub.status.busy": "2021-11-19T20:18:27.365285Z",
     "iopub.status.idle": "2021-11-19T20:25:11.763764Z",
     "shell.execute_reply": "2021-11-19T20:25:11.764194Z"
    },
    "papermill": {
     "duration": 404.441316,
     "end_time": "2021-11-19T20:25:11.764307",
     "exception": false,
     "start_time": "2021-11-19T20:18:27.322991",
     "status": "completed"
    },
    "tags": []
   },
   "outputs": [
    {
     "name": "stdout",
     "output_type": "stream",
     "text": [
      " \n",
      "*** Profile printout saved to text file '06-cm_many_genes.txt'. \n"
     ]
    }
   ],
   "source": [
    "%%prun -s cumulative -l 50 -T 06-cm_many_genes.txt\n",
    "func()"
   ]
  },
  {
   "cell_type": "code",
   "execution_count": null,
   "id": "e2556204-1c10-4e01-8c6c-ea63ddb37530",
   "metadata": {
    "papermill": {
     "duration": 0.043138,
     "end_time": "2021-11-19T20:25:12.712883",
     "exception": false,
     "start_time": "2021-11-19T20:25:12.669745",
     "status": "completed"
    },
    "tags": []
   },
   "outputs": [],
   "source": []
  }
 ],
 "metadata": {
  "jupytext": {
   "cell_metadata_filter": "all,-execution,-papermill,-trusted"
  },
  "kernelspec": {
   "display_name": "Python 3 (ipykernel)",
   "language": "python",
   "name": "python3"
  },
  "language_info": {
   "codemirror_mode": {
    "name": "ipython",
    "version": 3
   },
   "file_extension": ".py",
   "mimetype": "text/x-python",
   "name": "python",
   "nbconvert_exporter": "python",
   "pygments_lexer": "ipython3",
   "version": "3.9.7"
  },
  "papermill": {
   "default_parameters": {},
   "duration": 6916.539534,
   "end_time": "2021-11-19T20:25:13.270605",
   "environment_variables": {},
   "exception": null,
   "input_path": "nbs/others/05_clustermatch_profiling/11_cm_optimized/06-many_genes.ipynb",
   "output_path": "nbs/others/05_clustermatch_profiling/11_cm_optimized/06-many_genes.run.ipynb",
   "parameters": {},
   "start_time": "2021-11-19T18:29:56.731071",
   "version": "2.3.3"
  }
 },
 "nbformat": 4,
 "nbformat_minor": 5
}
