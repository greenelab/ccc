{
 "cells": [
  {
   "cell_type": "markdown",
   "id": "fd52facb-2470-4824-83d4-7c9fd042ecfb",
   "metadata": {
    "papermill": {
     "duration": 0.07918,
     "end_time": "2021-11-28T06:55:29.146570",
     "exception": false,
     "start_time": "2021-11-28T06:55:29.067390",
     "status": "completed"
    },
    "tags": []
   },
   "source": [
    "# Description"
   ]
  },
  {
   "cell_type": "markdown",
   "id": "b95a9893-d5af-400c-9872-dcf70ec874fb",
   "metadata": {
    "papermill": {
     "duration": 0.040995,
     "end_time": "2021-11-28T06:55:29.228088",
     "exception": false,
     "start_time": "2021-11-28T06:55:29.187093",
     "status": "completed"
    },
    "tags": []
   },
   "source": [
    "Clustermatch run using a larger number of samples."
   ]
  },
  {
   "cell_type": "markdown",
   "id": "325cb06a-df7f-43e8-be3e-f704aaf015b0",
   "metadata": {
    "papermill": {
     "duration": 0.043057,
     "end_time": "2021-11-28T06:55:29.312389",
     "exception": false,
     "start_time": "2021-11-28T06:55:29.269332",
     "status": "completed"
    },
    "tags": []
   },
   "source": [
    "# Remove pycache dir"
   ]
  },
  {
   "cell_type": "code",
   "execution_count": 1,
   "id": "73f954a6-1776-4b92-bd0e-fc3caf5df081",
   "metadata": {
    "execution": {
     "iopub.execute_input": "2021-11-28T06:55:29.400992Z",
     "iopub.status.busy": "2021-11-28T06:55:29.400529Z",
     "iopub.status.idle": "2021-11-28T06:55:29.991807Z",
     "shell.execute_reply": "2021-11-28T06:55:29.989699Z"
    },
    "papermill": {
     "duration": 0.638667,
     "end_time": "2021-11-28T06:55:29.992243",
     "exception": false,
     "start_time": "2021-11-28T06:55:29.353576",
     "status": "completed"
    },
    "tags": []
   },
   "outputs": [
    {
     "name": "stdout",
     "output_type": "stream",
     "text": [
      "/opt/code\r\n"
     ]
    }
   ],
   "source": [
    "!echo ${CODE_DIR}"
   ]
  },
  {
   "cell_type": "code",
   "execution_count": 2,
   "id": "d17492bb-34fe-4c34-a693-419180ba068e",
   "metadata": {
    "execution": {
     "iopub.execute_input": "2021-11-28T06:55:30.113807Z",
     "iopub.status.busy": "2021-11-28T06:55:30.113290Z",
     "iopub.status.idle": "2021-11-28T06:55:30.716862Z",
     "shell.execute_reply": "2021-11-28T06:55:30.718397Z"
    },
    "papermill": {
     "duration": 0.650842,
     "end_time": "2021-11-28T06:55:30.718850",
     "exception": false,
     "start_time": "2021-11-28T06:55:30.068008",
     "status": "completed"
    },
    "tags": []
   },
   "outputs": [
    {
     "name": "stdout",
     "output_type": "stream",
     "text": [
      "/opt/code/libs/clustermatch/__pycache__\r\n",
      "/opt/code/libs/clustermatch/sklearn/__pycache__\r\n",
      "/opt/code/libs/clustermatch/scipy/__pycache__\r\n",
      "/opt/code/libs/clustermatch/pytorch/__pycache__\r\n"
     ]
    }
   ],
   "source": [
    "!find ${CODE_DIR} -regex '^.*\\(__pycache__\\)$' -print"
   ]
  },
  {
   "cell_type": "code",
   "execution_count": 3,
   "id": "5683e330-1782-43b3-bb78-255198f03620",
   "metadata": {
    "execution": {
     "iopub.execute_input": "2021-11-28T06:55:30.840026Z",
     "iopub.status.busy": "2021-11-28T06:55:30.839528Z",
     "iopub.status.idle": "2021-11-28T06:55:31.443450Z",
     "shell.execute_reply": "2021-11-28T06:55:31.441827Z"
    },
    "papermill": {
     "duration": 0.650548,
     "end_time": "2021-11-28T06:55:31.443834",
     "exception": false,
     "start_time": "2021-11-28T06:55:30.793286",
     "status": "completed"
    },
    "tags": []
   },
   "outputs": [],
   "source": [
    "!find ${CODE_DIR} -regex '^.*\\(__pycache__\\)$' -prune -exec rm -rf {} \\;"
   ]
  },
  {
   "cell_type": "code",
   "execution_count": 4,
   "id": "5cf4ce29-d611-4fc8-8880-293c09e5ab9a",
   "metadata": {
    "execution": {
     "iopub.execute_input": "2021-11-28T06:55:31.534296Z",
     "iopub.status.busy": "2021-11-28T06:55:31.533818Z",
     "iopub.status.idle": "2021-11-28T06:55:32.132126Z",
     "shell.execute_reply": "2021-11-28T06:55:32.130214Z"
    },
    "papermill": {
     "duration": 0.644928,
     "end_time": "2021-11-28T06:55:32.132511",
     "exception": false,
     "start_time": "2021-11-28T06:55:31.487583",
     "status": "completed"
    },
    "tags": []
   },
   "outputs": [],
   "source": [
    "!find ${CODE_DIR} -regex '^.*\\(__pycache__\\)$' -print"
   ]
  },
  {
   "cell_type": "markdown",
   "id": "35a04385-a901-4726-82a6-a01f16281efe",
   "metadata": {
    "papermill": {
     "duration": 0.042275,
     "end_time": "2021-11-28T06:55:32.250590",
     "exception": false,
     "start_time": "2021-11-28T06:55:32.208315",
     "status": "completed"
    },
    "tags": []
   },
   "source": [
    "# Modules"
   ]
  },
  {
   "cell_type": "code",
   "execution_count": 5,
   "id": "a75c4496-d379-4668-905d-0e9136981f0c",
   "metadata": {
    "execution": {
     "iopub.execute_input": "2021-11-28T06:55:32.340281Z",
     "iopub.status.busy": "2021-11-28T06:55:32.339798Z",
     "iopub.status.idle": "2021-11-28T06:55:32.658521Z",
     "shell.execute_reply": "2021-11-28T06:55:32.658870Z"
    },
    "papermill": {
     "duration": 0.365816,
     "end_time": "2021-11-28T06:55:32.658994",
     "exception": false,
     "start_time": "2021-11-28T06:55:32.293178",
     "status": "completed"
    },
    "tags": []
   },
   "outputs": [],
   "source": [
    "import numpy as np\n",
    "\n",
    "from clustermatch.coef import cm"
   ]
  },
  {
   "cell_type": "code",
   "execution_count": 6,
   "id": "1a58ccf8-1bf5-4177-9b06-944a0d57655a",
   "metadata": {
    "execution": {
     "iopub.execute_input": "2021-11-28T06:55:32.748675Z",
     "iopub.status.busy": "2021-11-28T06:55:32.748213Z",
     "iopub.status.idle": "2021-11-28T06:55:41.268610Z",
     "shell.execute_reply": "2021-11-28T06:55:41.268159Z"
    },
    "papermill": {
     "duration": 8.566395,
     "end_time": "2021-11-28T06:55:41.268707",
     "exception": false,
     "start_time": "2021-11-28T06:55:32.702312",
     "status": "completed"
    },
    "tags": []
   },
   "outputs": [
    {
     "data": {
      "text/plain": [
       "0.4375"
      ]
     },
     "execution_count": 6,
     "metadata": {},
     "output_type": "execute_result"
    }
   ],
   "source": [
    "# let numba compile all the code before profiling\n",
    "cm(np.random.rand(10), np.random.rand(10))"
   ]
  },
  {
   "cell_type": "markdown",
   "id": "2c92a1ad-2fc9-4a16-a5f8-fce685246996",
   "metadata": {
    "papermill": {
     "duration": 0.045313,
     "end_time": "2021-11-28T06:55:41.359660",
     "exception": false,
     "start_time": "2021-11-28T06:55:41.314347",
     "status": "completed"
    },
    "tags": []
   },
   "source": [
    "# Data"
   ]
  },
  {
   "cell_type": "code",
   "execution_count": 7,
   "id": "2316ffcd-a6e4-453f-bb52-779685c5c5bf",
   "metadata": {
    "execution": {
     "iopub.execute_input": "2021-11-28T06:55:41.452166Z",
     "iopub.status.busy": "2021-11-28T06:55:41.451663Z",
     "iopub.status.idle": "2021-11-28T06:55:41.453559Z",
     "shell.execute_reply": "2021-11-28T06:55:41.453107Z"
    },
    "papermill": {
     "duration": 0.048601,
     "end_time": "2021-11-28T06:55:41.453655",
     "exception": false,
     "start_time": "2021-11-28T06:55:41.405054",
     "status": "completed"
    },
    "tags": []
   },
   "outputs": [],
   "source": [
    "n_genes, n_samples = 10, 30000"
   ]
  },
  {
   "cell_type": "code",
   "execution_count": 8,
   "id": "b2f92fb1-113d-479b-8bbf-2be229e26e8f",
   "metadata": {
    "execution": {
     "iopub.execute_input": "2021-11-28T06:55:41.544599Z",
     "iopub.status.busy": "2021-11-28T06:55:41.544097Z",
     "iopub.status.idle": "2021-11-28T06:55:41.546142Z",
     "shell.execute_reply": "2021-11-28T06:55:41.545681Z"
    },
    "papermill": {
     "duration": 0.048469,
     "end_time": "2021-11-28T06:55:41.546239",
     "exception": false,
     "start_time": "2021-11-28T06:55:41.497770",
     "status": "completed"
    },
    "tags": []
   },
   "outputs": [],
   "source": [
    "np.random.seed(0)"
   ]
  },
  {
   "cell_type": "code",
   "execution_count": 9,
   "id": "63638c0b-b436-48a9-93e0-db2adb939a61",
   "metadata": {
    "execution": {
     "iopub.execute_input": "2021-11-28T06:55:41.636454Z",
     "iopub.status.busy": "2021-11-28T06:55:41.636010Z",
     "iopub.status.idle": "2021-11-28T06:55:41.641145Z",
     "shell.execute_reply": "2021-11-28T06:55:41.640689Z"
    },
    "papermill": {
     "duration": 0.051177,
     "end_time": "2021-11-28T06:55:41.641242",
     "exception": false,
     "start_time": "2021-11-28T06:55:41.590065",
     "status": "completed"
    },
    "tags": []
   },
   "outputs": [],
   "source": [
    "data = np.random.rand(n_genes, n_samples)"
   ]
  },
  {
   "cell_type": "code",
   "execution_count": 10,
   "id": "808017ed-9a8a-4bf7-a3dd-42317a39ce8f",
   "metadata": {
    "execution": {
     "iopub.execute_input": "2021-11-28T06:55:41.732521Z",
     "iopub.status.busy": "2021-11-28T06:55:41.731995Z",
     "iopub.status.idle": "2021-11-28T06:55:41.734138Z",
     "shell.execute_reply": "2021-11-28T06:55:41.734507Z"
    },
    "papermill": {
     "duration": 0.049079,
     "end_time": "2021-11-28T06:55:41.734625",
     "exception": false,
     "start_time": "2021-11-28T06:55:41.685546",
     "status": "completed"
    },
    "tags": []
   },
   "outputs": [
    {
     "data": {
      "text/plain": [
       "(10, 30000)"
      ]
     },
     "execution_count": 10,
     "metadata": {},
     "output_type": "execute_result"
    }
   ],
   "source": [
    "data.shape"
   ]
  },
  {
   "cell_type": "markdown",
   "id": "716e4219-cad5-453b-8331-47d310689e03",
   "metadata": {
    "papermill": {
     "duration": 0.044551,
     "end_time": "2021-11-28T06:55:41.823750",
     "exception": false,
     "start_time": "2021-11-28T06:55:41.779199",
     "status": "completed"
    },
    "tags": []
   },
   "source": [
    "# With default `internal_n_clusters`"
   ]
  },
  {
   "cell_type": "code",
   "execution_count": 11,
   "id": "67807856-f337-4c6e-ae31-cd306577a314",
   "metadata": {
    "execution": {
     "iopub.execute_input": "2021-11-28T06:55:41.915952Z",
     "iopub.status.busy": "2021-11-28T06:55:41.915455Z",
     "iopub.status.idle": "2021-11-28T06:55:41.917089Z",
     "shell.execute_reply": "2021-11-28T06:55:41.917444Z"
    },
    "papermill": {
     "duration": 0.049859,
     "end_time": "2021-11-28T06:55:41.917559",
     "exception": false,
     "start_time": "2021-11-28T06:55:41.867700",
     "status": "completed"
    },
    "tags": []
   },
   "outputs": [],
   "source": [
    "def func():\n",
    "    n_clust = list(range(2, 10 + 1))\n",
    "    return cm(data, internal_n_clusters=n_clust)"
   ]
  },
  {
   "cell_type": "code",
   "execution_count": 12,
   "id": "2965a695-5c0c-4e9e-8435-dcbfa610eb81",
   "metadata": {
    "execution": {
     "iopub.execute_input": "2021-11-28T06:55:42.014050Z",
     "iopub.status.busy": "2021-11-28T06:55:42.013593Z",
     "iopub.status.idle": "2021-11-28T06:56:45.746657Z",
     "shell.execute_reply": "2021-11-28T06:56:45.747042Z"
    },
    "papermill": {
     "duration": 63.784362,
     "end_time": "2021-11-28T06:56:45.747166",
     "exception": false,
     "start_time": "2021-11-28T06:55:41.962804",
     "status": "completed"
    },
    "tags": []
   },
   "outputs": [
    {
     "name": "stdout",
     "output_type": "stream",
     "text": [
      "3.93 s ± 6.39 ms per loop (mean ± std. dev. of 7 runs, 1 loop each)\n"
     ]
    }
   ],
   "source": [
    "%%timeit func()\n",
    "func()"
   ]
  },
  {
   "cell_type": "code",
   "execution_count": 13,
   "id": "51c7a416-064a-4669-a09f-16f837d32475",
   "metadata": {
    "execution": {
     "iopub.execute_input": "2021-11-28T06:56:45.842959Z",
     "iopub.status.busy": "2021-11-28T06:56:45.842462Z",
     "iopub.status.idle": "2021-11-28T06:56:49.777790Z",
     "shell.execute_reply": "2021-11-28T06:56:49.777337Z"
    },
    "papermill": {
     "duration": 3.983657,
     "end_time": "2021-11-28T06:56:49.777887",
     "exception": false,
     "start_time": "2021-11-28T06:56:45.794230",
     "status": "completed"
    },
    "tags": []
   },
   "outputs": [
    {
     "name": "stdout",
     "output_type": "stream",
     "text": [
      " \n",
      "*** Profile printout saved to text file '07-cm_many_samples-default_internal_n_clusters.txt'. \n"
     ]
    }
   ],
   "source": [
    "%%prun -s cumulative -l 50 -T 07-cm_many_samples-default_internal_n_clusters.txt\n",
    "func()"
   ]
  },
  {
   "cell_type": "markdown",
   "id": "025974ff-06d4-4d82-9b05-03f7a84d7211",
   "metadata": {
    "papermill": {
     "duration": 0.045048,
     "end_time": "2021-11-28T06:56:49.868779",
     "exception": false,
     "start_time": "2021-11-28T06:56:49.823731",
     "status": "completed"
    },
    "tags": []
   },
   "source": [
    "# With reduced `internal_n_clusters`"
   ]
  },
  {
   "cell_type": "code",
   "execution_count": 14,
   "id": "c20c4ecf-8060-495e-92b0-eb8e0d0dfbf3",
   "metadata": {
    "execution": {
     "iopub.execute_input": "2021-11-28T06:56:49.963425Z",
     "iopub.status.busy": "2021-11-28T06:56:49.962950Z",
     "iopub.status.idle": "2021-11-28T06:56:49.964592Z",
     "shell.execute_reply": "2021-11-28T06:56:49.964954Z"
    },
    "papermill": {
     "duration": 0.0506,
     "end_time": "2021-11-28T06:56:49.965070",
     "exception": false,
     "start_time": "2021-11-28T06:56:49.914470",
     "status": "completed"
    },
    "tags": []
   },
   "outputs": [],
   "source": [
    "def func():\n",
    "    n_clust = list(range(2, 5 + 1))\n",
    "    return cm(data, internal_n_clusters=n_clust)"
   ]
  },
  {
   "cell_type": "code",
   "execution_count": 15,
   "id": "11259d8c-3bf3-4299-b47b-211556c3bc08",
   "metadata": {
    "execution": {
     "iopub.execute_input": "2021-11-28T06:56:50.061079Z",
     "iopub.status.busy": "2021-11-28T06:56:50.060606Z",
     "iopub.status.idle": "2021-11-28T06:56:59.182356Z",
     "shell.execute_reply": "2021-11-28T06:56:59.181912Z"
    },
    "papermill": {
     "duration": 9.171568,
     "end_time": "2021-11-28T06:56:59.182452",
     "exception": false,
     "start_time": "2021-11-28T06:56:50.010884",
     "status": "completed"
    },
    "tags": []
   },
   "outputs": [
    {
     "name": "stdout",
     "output_type": "stream",
     "text": [
      "570 ms ± 1.1 ms per loop (mean ± std. dev. of 7 runs, 1 loop each)\n"
     ]
    }
   ],
   "source": [
    "%%timeit func()\n",
    "func()"
   ]
  },
  {
   "cell_type": "code",
   "execution_count": 16,
   "id": "42d9e6e0-3c01-46e1-a409-52ff26cb78f4",
   "metadata": {
    "execution": {
     "iopub.execute_input": "2021-11-28T06:56:59.279490Z",
     "iopub.status.busy": "2021-11-28T06:56:59.278950Z",
     "iopub.status.idle": "2021-11-28T06:56:59.854707Z",
     "shell.execute_reply": "2021-11-28T06:56:59.854266Z"
    },
    "papermill": {
     "duration": 0.625396,
     "end_time": "2021-11-28T06:56:59.854801",
     "exception": false,
     "start_time": "2021-11-28T06:56:59.229405",
     "status": "completed"
    },
    "tags": []
   },
   "outputs": [
    {
     "name": "stdout",
     "output_type": "stream",
     "text": [
      " \n",
      "*** Profile printout saved to text file '07-cm_many_samples-less_internal_n_clusters.txt'. \n"
     ]
    }
   ],
   "source": [
    "%%prun -s cumulative -l 50 -T 07-cm_many_samples-less_internal_n_clusters.txt\n",
    "func()"
   ]
  },
  {
   "cell_type": "code",
   "execution_count": null,
   "id": "e2556204-1c10-4e01-8c6c-ea63ddb37530",
   "metadata": {
    "papermill": {
     "duration": 0.046004,
     "end_time": "2021-11-28T06:56:59.948170",
     "exception": false,
     "start_time": "2021-11-28T06:56:59.902166",
     "status": "completed"
    },
    "tags": []
   },
   "outputs": [],
   "source": []
  }
 ],
 "metadata": {
  "jupytext": {
   "cell_metadata_filter": "all,-execution,-papermill,-trusted"
  },
  "kernelspec": {
   "display_name": "Python 3 (ipykernel)",
   "language": "python",
   "name": "python3"
  },
  "language_info": {
   "codemirror_mode": {
    "name": "ipython",
    "version": 3
   },
   "file_extension": ".py",
   "mimetype": "text/x-python",
   "name": "python",
   "nbconvert_exporter": "python",
   "pygments_lexer": "ipython3",
   "version": "3.9.7"
  },
  "papermill": {
   "default_parameters": {},
   "duration": 92.477182,
   "end_time": "2021-11-28T06:57:00.401606",
   "environment_variables": {},
   "exception": null,
   "input_path": "nbs/others/05_clustermatch_profiling/11_cm_optimized/07-many_samples.ipynb",
   "output_path": "nbs/others/05_clustermatch_profiling/11_cm_optimized/07-many_samples.run.ipynb",
   "parameters": {},
   "start_time": "2021-11-28T06:55:27.924424",
   "version": "2.3.3"
  }
 },
 "nbformat": 4,
 "nbformat_minor": 5
}
