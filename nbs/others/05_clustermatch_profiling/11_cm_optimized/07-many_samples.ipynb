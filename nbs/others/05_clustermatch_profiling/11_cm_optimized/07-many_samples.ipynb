{
 "cells": [
  {
   "cell_type": "markdown",
   "id": "fd52facb-2470-4824-83d4-7c9fd042ecfb",
   "metadata": {
    "papermill": {
     "duration": 0.079638,
     "end_time": "2021-11-24T20:54:41.467124",
     "exception": false,
     "start_time": "2021-11-24T20:54:41.387486",
     "status": "completed"
    },
    "tags": []
   },
   "source": [
    "# Description"
   ]
  },
  {
   "cell_type": "markdown",
   "id": "b95a9893-d5af-400c-9872-dcf70ec874fb",
   "metadata": {
    "papermill": {
     "duration": 0.039847,
     "end_time": "2021-11-24T20:54:41.547240",
     "exception": false,
     "start_time": "2021-11-24T20:54:41.507393",
     "status": "completed"
    },
    "tags": []
   },
   "source": [
    "Clustermatch run using a larger number of samples."
   ]
  },
  {
   "cell_type": "markdown",
   "id": "325cb06a-df7f-43e8-be3e-f704aaf015b0",
   "metadata": {
    "papermill": {
     "duration": 0.041913,
     "end_time": "2021-11-24T20:54:41.629067",
     "exception": false,
     "start_time": "2021-11-24T20:54:41.587154",
     "status": "completed"
    },
    "tags": []
   },
   "source": [
    "# Remove pycache dir"
   ]
  },
  {
   "cell_type": "code",
   "execution_count": 1,
   "id": "73f954a6-1776-4b92-bd0e-fc3caf5df081",
   "metadata": {
    "execution": {
     "iopub.execute_input": "2021-11-24T20:54:41.716370Z",
     "iopub.status.busy": "2021-11-24T20:54:41.715857Z",
     "iopub.status.idle": "2021-11-24T20:54:42.301984Z",
     "shell.execute_reply": "2021-11-24T20:54:42.300133Z"
    },
    "papermill": {
     "duration": 0.633117,
     "end_time": "2021-11-24T20:54:42.302393",
     "exception": false,
     "start_time": "2021-11-24T20:54:41.669276",
     "status": "completed"
    },
    "tags": []
   },
   "outputs": [
    {
     "name": "stdout",
     "output_type": "stream",
     "text": [
      "/opt/code\r\n"
     ]
    }
   ],
   "source": [
    "!echo ${CODE_DIR}"
   ]
  },
  {
   "cell_type": "code",
   "execution_count": 2,
   "id": "d17492bb-34fe-4c34-a693-419180ba068e",
   "metadata": {
    "execution": {
     "iopub.execute_input": "2021-11-24T20:54:42.389143Z",
     "iopub.status.busy": "2021-11-24T20:54:42.388661Z",
     "iopub.status.idle": "2021-11-24T20:54:42.989787Z",
     "shell.execute_reply": "2021-11-24T20:54:42.987955Z"
    },
    "papermill": {
     "duration": 0.645757,
     "end_time": "2021-11-24T20:54:42.990155",
     "exception": false,
     "start_time": "2021-11-24T20:54:42.344398",
     "status": "completed"
    },
    "tags": []
   },
   "outputs": [
    {
     "name": "stdout",
     "output_type": "stream",
     "text": [
      "/opt/code/libs/clustermatch/__pycache__\r\n",
      "/opt/code/libs/clustermatch/sklearn/__pycache__\r\n",
      "/opt/code/libs/clustermatch/scipy/__pycache__\r\n",
      "/opt/code/libs/clustermatch/pytorch/__pycache__\r\n"
     ]
    }
   ],
   "source": [
    "!find ${CODE_DIR} -regex '^.*\\(__pycache__\\)$' -print"
   ]
  },
  {
   "cell_type": "code",
   "execution_count": 3,
   "id": "5683e330-1782-43b3-bb78-255198f03620",
   "metadata": {
    "execution": {
     "iopub.execute_input": "2021-11-24T20:54:43.113602Z",
     "iopub.status.busy": "2021-11-24T20:54:43.113119Z",
     "iopub.status.idle": "2021-11-24T20:54:43.717363Z",
     "shell.execute_reply": "2021-11-24T20:54:43.715782Z"
    },
    "papermill": {
     "duration": 0.650687,
     "end_time": "2021-11-24T20:54:43.717744",
     "exception": false,
     "start_time": "2021-11-24T20:54:43.067057",
     "status": "completed"
    },
    "tags": []
   },
   "outputs": [
    {
     "name": "stdout",
     "output_type": "stream",
     "text": [
      "find: ‘/opt/code/libs/clustermatch/__pycache__’: No such file or directory\r\n",
      "find: ‘/opt/code/libs/clustermatch/sklearn/__pycache__’: No such file or directory\r\n",
      "find: ‘/opt/code/libs/clustermatch/scipy/__pycache__’: No such file or directory\r\n",
      "find: ‘/opt/code/libs/clustermatch/pytorch/__pycache__’: No such file or directory\r\n"
     ]
    }
   ],
   "source": [
    "!find ${CODE_DIR} -regex '^.*\\(__pycache__\\)$' -exec rm -rf {} \\;"
   ]
  },
  {
   "cell_type": "code",
   "execution_count": 4,
   "id": "5cf4ce29-d611-4fc8-8880-293c09e5ab9a",
   "metadata": {
    "execution": {
     "iopub.execute_input": "2021-11-24T20:54:43.842059Z",
     "iopub.status.busy": "2021-11-24T20:54:43.841596Z",
     "iopub.status.idle": "2021-11-24T20:54:44.440550Z",
     "shell.execute_reply": "2021-11-24T20:54:44.438634Z"
    },
    "papermill": {
     "duration": 0.647282,
     "end_time": "2021-11-24T20:54:44.440914",
     "exception": false,
     "start_time": "2021-11-24T20:54:43.793632",
     "status": "completed"
    },
    "tags": []
   },
   "outputs": [],
   "source": [
    "!find ${CODE_DIR} -regex '^.*\\(__pycache__\\)$' -print"
   ]
  },
  {
   "cell_type": "markdown",
   "id": "35a04385-a901-4726-82a6-a01f16281efe",
   "metadata": {
    "papermill": {
     "duration": 0.042487,
     "end_time": "2021-11-24T20:54:44.560357",
     "exception": false,
     "start_time": "2021-11-24T20:54:44.517870",
     "status": "completed"
    },
    "tags": []
   },
   "source": [
    "# Modules"
   ]
  },
  {
   "cell_type": "code",
   "execution_count": 5,
   "id": "a75c4496-d379-4668-905d-0e9136981f0c",
   "metadata": {
    "execution": {
     "iopub.execute_input": "2021-11-24T20:54:44.649772Z",
     "iopub.status.busy": "2021-11-24T20:54:44.649314Z",
     "iopub.status.idle": "2021-11-24T20:54:44.976533Z",
     "shell.execute_reply": "2021-11-24T20:54:44.976127Z"
    },
    "papermill": {
     "duration": 0.373939,
     "end_time": "2021-11-24T20:54:44.976630",
     "exception": false,
     "start_time": "2021-11-24T20:54:44.602691",
     "status": "completed"
    },
    "tags": []
   },
   "outputs": [],
   "source": [
    "import numpy as np\n",
    "\n",
    "from clustermatch.coef import cm"
   ]
  },
  {
   "cell_type": "code",
   "execution_count": 6,
   "id": "1a58ccf8-1bf5-4177-9b06-944a0d57655a",
   "metadata": {
    "execution": {
     "iopub.execute_input": "2021-11-24T20:54:45.065601Z",
     "iopub.status.busy": "2021-11-24T20:54:45.065128Z",
     "iopub.status.idle": "2021-11-24T20:54:53.614729Z",
     "shell.execute_reply": "2021-11-24T20:54:53.614273Z"
    },
    "papermill": {
     "duration": 8.595415,
     "end_time": "2021-11-24T20:54:53.614826",
     "exception": false,
     "start_time": "2021-11-24T20:54:45.019411",
     "status": "completed"
    },
    "tags": []
   },
   "outputs": [
    {
     "data": {
      "text/plain": [
       "0.0"
      ]
     },
     "execution_count": 6,
     "metadata": {},
     "output_type": "execute_result"
    }
   ],
   "source": [
    "# let numba compile all the code before profiling\n",
    "cm(np.random.rand(10), np.random.rand(10))"
   ]
  },
  {
   "cell_type": "markdown",
   "id": "2c92a1ad-2fc9-4a16-a5f8-fce685246996",
   "metadata": {
    "papermill": {
     "duration": 0.042864,
     "end_time": "2021-11-24T20:54:53.701782",
     "exception": false,
     "start_time": "2021-11-24T20:54:53.658918",
     "status": "completed"
    },
    "tags": []
   },
   "source": [
    "# Data"
   ]
  },
  {
   "cell_type": "code",
   "execution_count": 7,
   "id": "2316ffcd-a6e4-453f-bb52-779685c5c5bf",
   "metadata": {
    "execution": {
     "iopub.execute_input": "2021-11-24T20:54:53.790460Z",
     "iopub.status.busy": "2021-11-24T20:54:53.790005Z",
     "iopub.status.idle": "2021-11-24T20:54:53.791811Z",
     "shell.execute_reply": "2021-11-24T20:54:53.792195Z"
    },
    "papermill": {
     "duration": 0.047817,
     "end_time": "2021-11-24T20:54:53.792306",
     "exception": false,
     "start_time": "2021-11-24T20:54:53.744489",
     "status": "completed"
    },
    "tags": []
   },
   "outputs": [],
   "source": [
    "n_genes, n_samples = 10, 30000"
   ]
  },
  {
   "cell_type": "code",
   "execution_count": 8,
   "id": "b2f92fb1-113d-479b-8bbf-2be229e26e8f",
   "metadata": {
    "execution": {
     "iopub.execute_input": "2021-11-24T20:54:53.882281Z",
     "iopub.status.busy": "2021-11-24T20:54:53.881830Z",
     "iopub.status.idle": "2021-11-24T20:54:53.883275Z",
     "shell.execute_reply": "2021-11-24T20:54:53.883637Z"
    },
    "papermill": {
     "duration": 0.048022,
     "end_time": "2021-11-24T20:54:53.883748",
     "exception": false,
     "start_time": "2021-11-24T20:54:53.835726",
     "status": "completed"
    },
    "tags": []
   },
   "outputs": [],
   "source": [
    "np.random.seed(0)"
   ]
  },
  {
   "cell_type": "code",
   "execution_count": 9,
   "id": "63638c0b-b436-48a9-93e0-db2adb939a61",
   "metadata": {
    "execution": {
     "iopub.execute_input": "2021-11-24T20:54:53.972766Z",
     "iopub.status.busy": "2021-11-24T20:54:53.972322Z",
     "iopub.status.idle": "2021-11-24T20:54:53.977499Z",
     "shell.execute_reply": "2021-11-24T20:54:53.977045Z"
    },
    "papermill": {
     "duration": 0.050399,
     "end_time": "2021-11-24T20:54:53.977594",
     "exception": false,
     "start_time": "2021-11-24T20:54:53.927195",
     "status": "completed"
    },
    "tags": []
   },
   "outputs": [],
   "source": [
    "data = np.random.rand(n_genes, n_samples)"
   ]
  },
  {
   "cell_type": "code",
   "execution_count": 10,
   "id": "808017ed-9a8a-4bf7-a3dd-42317a39ce8f",
   "metadata": {
    "execution": {
     "iopub.execute_input": "2021-11-24T20:54:54.067279Z",
     "iopub.status.busy": "2021-11-24T20:54:54.066740Z",
     "iopub.status.idle": "2021-11-24T20:54:54.068934Z",
     "shell.execute_reply": "2021-11-24T20:54:54.069295Z"
    },
    "papermill": {
     "duration": 0.048677,
     "end_time": "2021-11-24T20:54:54.069408",
     "exception": false,
     "start_time": "2021-11-24T20:54:54.020731",
     "status": "completed"
    },
    "tags": []
   },
   "outputs": [
    {
     "data": {
      "text/plain": [
       "(10, 30000)"
      ]
     },
     "execution_count": 10,
     "metadata": {},
     "output_type": "execute_result"
    }
   ],
   "source": [
    "data.shape"
   ]
  },
  {
   "cell_type": "markdown",
   "id": "716e4219-cad5-453b-8331-47d310689e03",
   "metadata": {
    "papermill": {
     "duration": 0.044351,
     "end_time": "2021-11-24T20:54:54.159183",
     "exception": false,
     "start_time": "2021-11-24T20:54:54.114832",
     "status": "completed"
    },
    "tags": []
   },
   "source": [
    "# With default `internal_n_clusters`"
   ]
  },
  {
   "cell_type": "code",
   "execution_count": 11,
   "id": "67807856-f337-4c6e-ae31-cd306577a314",
   "metadata": {
    "execution": {
     "iopub.execute_input": "2021-11-24T20:54:54.250756Z",
     "iopub.status.busy": "2021-11-24T20:54:54.250281Z",
     "iopub.status.idle": "2021-11-24T20:54:54.251786Z",
     "shell.execute_reply": "2021-11-24T20:54:54.252161Z"
    },
    "papermill": {
     "duration": 0.04936,
     "end_time": "2021-11-24T20:54:54.252271",
     "exception": false,
     "start_time": "2021-11-24T20:54:54.202911",
     "status": "completed"
    },
    "tags": []
   },
   "outputs": [],
   "source": [
    "def func():\n",
    "    n_clust = list(range(2, 10 + 1))\n",
    "    return cm(data, internal_n_clusters=n_clust)"
   ]
  },
  {
   "cell_type": "code",
   "execution_count": 12,
   "id": "2965a695-5c0c-4e9e-8435-dcbfa610eb81",
   "metadata": {
    "execution": {
     "iopub.execute_input": "2021-11-24T20:54:54.347007Z",
     "iopub.status.busy": "2021-11-24T20:54:54.346546Z",
     "iopub.status.idle": "2021-11-24T20:55:57.922275Z",
     "shell.execute_reply": "2021-11-24T20:55:57.922651Z"
    },
    "papermill": {
     "duration": 63.626578,
     "end_time": "2021-11-24T20:55:57.922814",
     "exception": false,
     "start_time": "2021-11-24T20:54:54.296236",
     "status": "completed"
    },
    "tags": []
   },
   "outputs": [
    {
     "name": "stdout",
     "output_type": "stream",
     "text": [
      "3.93 s ± 9.52 ms per loop (mean ± std. dev. of 7 runs, 1 loop each)\n"
     ]
    }
   ],
   "source": [
    "%%timeit func()\n",
    "func()"
   ]
  },
  {
   "cell_type": "code",
   "execution_count": 13,
   "id": "51c7a416-064a-4669-a09f-16f837d32475",
   "metadata": {
    "execution": {
     "iopub.execute_input": "2021-11-24T20:55:58.017771Z",
     "iopub.status.busy": "2021-11-24T20:55:58.017265Z",
     "iopub.status.idle": "2021-11-24T20:56:01.946072Z",
     "shell.execute_reply": "2021-11-24T20:56:01.945650Z"
    },
    "papermill": {
     "duration": 3.977707,
     "end_time": "2021-11-24T20:56:01.946166",
     "exception": false,
     "start_time": "2021-11-24T20:55:57.968459",
     "status": "completed"
    },
    "tags": []
   },
   "outputs": [
    {
     "name": "stdout",
     "output_type": "stream",
     "text": [
      " \n",
      "*** Profile printout saved to text file '07-cm_many_samples-default_internal_n_clusters.txt'. \n"
     ]
    }
   ],
   "source": [
    "%%prun -s cumulative -l 50 -T 07-cm_many_samples-default_internal_n_clusters.txt\n",
    "func()"
   ]
  },
  {
   "cell_type": "markdown",
   "id": "025974ff-06d4-4d82-9b05-03f7a84d7211",
   "metadata": {
    "papermill": {
     "duration": 0.045229,
     "end_time": "2021-11-24T20:56:02.037520",
     "exception": false,
     "start_time": "2021-11-24T20:56:01.992291",
     "status": "completed"
    },
    "tags": []
   },
   "source": [
    "# With reduced `internal_n_clusters`"
   ]
  },
  {
   "cell_type": "code",
   "execution_count": 14,
   "id": "c20c4ecf-8060-495e-92b0-eb8e0d0dfbf3",
   "metadata": {
    "execution": {
     "iopub.execute_input": "2021-11-24T20:56:02.132042Z",
     "iopub.status.busy": "2021-11-24T20:56:02.131513Z",
     "iopub.status.idle": "2021-11-24T20:56:02.133194Z",
     "shell.execute_reply": "2021-11-24T20:56:02.133552Z"
    },
    "papermill": {
     "duration": 0.050787,
     "end_time": "2021-11-24T20:56:02.133667",
     "exception": false,
     "start_time": "2021-11-24T20:56:02.082880",
     "status": "completed"
    },
    "tags": []
   },
   "outputs": [],
   "source": [
    "def func():\n",
    "    n_clust = list(range(2, 5 + 1))\n",
    "    return cm(data, internal_n_clusters=n_clust)"
   ]
  },
  {
   "cell_type": "code",
   "execution_count": 15,
   "id": "11259d8c-3bf3-4299-b47b-211556c3bc08",
   "metadata": {
    "execution": {
     "iopub.execute_input": "2021-11-24T20:56:02.231130Z",
     "iopub.status.busy": "2021-11-24T20:56:02.230648Z",
     "iopub.status.idle": "2021-11-24T20:56:11.354123Z",
     "shell.execute_reply": "2021-11-24T20:56:11.353734Z"
    },
    "papermill": {
     "duration": 9.173923,
     "end_time": "2021-11-24T20:56:11.354218",
     "exception": false,
     "start_time": "2021-11-24T20:56:02.180295",
     "status": "completed"
    },
    "tags": []
   },
   "outputs": [
    {
     "name": "stdout",
     "output_type": "stream",
     "text": [
      "570 ms ± 1.44 ms per loop (mean ± std. dev. of 7 runs, 1 loop each)\n"
     ]
    }
   ],
   "source": [
    "%%timeit func()\n",
    "func()"
   ]
  },
  {
   "cell_type": "code",
   "execution_count": 16,
   "id": "42d9e6e0-3c01-46e1-a409-52ff26cb78f4",
   "metadata": {
    "execution": {
     "iopub.execute_input": "2021-11-24T20:56:11.451303Z",
     "iopub.status.busy": "2021-11-24T20:56:11.450815Z",
     "iopub.status.idle": "2021-11-24T20:56:12.024217Z",
     "shell.execute_reply": "2021-11-24T20:56:12.024604Z"
    },
    "papermill": {
     "duration": 0.624377,
     "end_time": "2021-11-24T20:56:12.024721",
     "exception": false,
     "start_time": "2021-11-24T20:56:11.400344",
     "status": "completed"
    },
    "tags": []
   },
   "outputs": [
    {
     "name": "stdout",
     "output_type": "stream",
     "text": [
      " \n",
      "*** Profile printout saved to text file '07-cm_many_samples-less_internal_n_clusters.txt'. \n"
     ]
    }
   ],
   "source": [
    "%%prun -s cumulative -l 50 -T 07-cm_many_samples-less_internal_n_clusters.txt\n",
    "func()"
   ]
  },
  {
   "cell_type": "code",
   "execution_count": null,
   "id": "e2556204-1c10-4e01-8c6c-ea63ddb37530",
   "metadata": {
    "papermill": {
     "duration": 0.046033,
     "end_time": "2021-11-24T20:56:12.122385",
     "exception": false,
     "start_time": "2021-11-24T20:56:12.076352",
     "status": "completed"
    },
    "tags": []
   },
   "outputs": [],
   "source": []
  }
 ],
 "metadata": {
  "jupytext": {
   "cell_metadata_filter": "all,-execution,-papermill,-trusted"
  },
  "kernelspec": {
   "display_name": "Python 3 (ipykernel)",
   "language": "python",
   "name": "python3"
  },
  "language_info": {
   "codemirror_mode": {
    "name": "ipython",
    "version": 3
   },
   "file_extension": ".py",
   "mimetype": "text/x-python",
   "name": "python",
   "nbconvert_exporter": "python",
   "pygments_lexer": "ipython3",
   "version": "3.9.7"
  },
  "papermill": {
   "default_parameters": {},
   "duration": 92.334476,
   "end_time": "2021-11-24T20:56:12.576005",
   "environment_variables": {},
   "exception": null,
   "input_path": "nbs/others/05_clustermatch_profiling/11_cm_optimized/07-many_samples.ipynb",
   "output_path": "nbs/others/05_clustermatch_profiling/11_cm_optimized/07-many_samples.run.ipynb",
   "parameters": {},
   "start_time": "2021-11-24T20:54:40.241529",
   "version": "2.3.3"
  }
 },
 "nbformat": 4,
 "nbformat_minor": 5
}
