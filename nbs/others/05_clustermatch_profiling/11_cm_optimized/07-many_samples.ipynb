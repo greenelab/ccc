{
 "cells": [
  {
   "cell_type": "markdown",
   "id": "fd52facb-2470-4824-83d4-7c9fd042ecfb",
   "metadata": {
    "papermill": {
     "duration": 0.071074,
     "end_time": "2021-11-19T08:39:09.474922",
     "exception": false,
     "start_time": "2021-11-19T08:39:09.403848",
     "status": "completed"
    },
    "tags": []
   },
   "source": [
    "# Description"
   ]
  },
  {
   "cell_type": "markdown",
   "id": "b95a9893-d5af-400c-9872-dcf70ec874fb",
   "metadata": {
    "papermill": {
     "duration": 0.029289,
     "end_time": "2021-11-19T08:39:09.539322",
     "exception": false,
     "start_time": "2021-11-19T08:39:09.510033",
     "status": "completed"
    },
    "tags": []
   },
   "source": [
    "Clustermatch run using a larger number of samples."
   ]
  },
  {
   "cell_type": "markdown",
   "id": "325cb06a-df7f-43e8-be3e-f704aaf015b0",
   "metadata": {
    "tags": []
   },
   "source": [
    "# Remove pycache dir"
   ]
  },
  {
   "cell_type": "code",
   "execution_count": null,
   "id": "73f954a6-1776-4b92-bd0e-fc3caf5df081",
   "metadata": {},
   "outputs": [],
   "source": [
    "!echo ${CODE_DIR}"
   ]
  },
  {
   "cell_type": "code",
   "execution_count": null,
   "id": "d17492bb-34fe-4c34-a693-419180ba068e",
   "metadata": {},
   "outputs": [],
   "source": [
    "!find ${CODE_DIR} -regex '^.*\\(__pycache__\\)$' -print"
   ]
  },
  {
   "cell_type": "code",
   "execution_count": null,
   "id": "5683e330-1782-43b3-bb78-255198f03620",
   "metadata": {},
   "outputs": [],
   "source": [
    "!find ${CODE_DIR} -regex '^.*\\(__pycache__\\)$' -exec rm -rf {} \\;"
   ]
  },
  {
   "cell_type": "code",
   "execution_count": null,
   "id": "5cf4ce29-d611-4fc8-8880-293c09e5ab9a",
   "metadata": {},
   "outputs": [],
   "source": [
    "!find ${CODE_DIR} -regex '^.*\\(__pycache__\\)$' -print"
   ]
  },
  {
   "cell_type": "markdown",
   "id": "35a04385-a901-4726-82a6-a01f16281efe",
   "metadata": {
    "papermill": {
     "duration": 0.028917,
     "end_time": "2021-11-19T08:39:09.598059",
     "exception": false,
     "start_time": "2021-11-19T08:39:09.569142",
     "status": "completed"
    },
    "tags": []
   },
   "source": [
    "# Modules"
   ]
  },
  {
   "cell_type": "code",
   "execution_count": null,
   "id": "a75c4496-d379-4668-905d-0e9136981f0c",
   "metadata": {
    "papermill": {
     "duration": 0.348578,
     "end_time": "2021-11-19T08:39:09.975664",
     "exception": false,
     "start_time": "2021-11-19T08:39:09.627086",
     "status": "completed"
    },
    "tags": []
   },
   "outputs": [],
   "source": [
    "import numpy as np\n",
    "\n",
    "from clustermatch.coef import cm"
   ]
  },
  {
   "cell_type": "code",
   "execution_count": null,
   "id": "1a58ccf8-1bf5-4177-9b06-944a0d57655a",
   "metadata": {},
   "outputs": [],
   "source": [
    "# let numba compile all the code before profiling\n",
    "cm(np.random.rand(10), np.random.rand(10))"
   ]
  },
  {
   "cell_type": "markdown",
   "id": "2c92a1ad-2fc9-4a16-a5f8-fce685246996",
   "metadata": {
    "papermill": {
     "duration": 0.028974,
     "end_time": "2021-11-19T08:39:10.034815",
     "exception": false,
     "start_time": "2021-11-19T08:39:10.005841",
     "status": "completed"
    },
    "tags": []
   },
   "source": [
    "# Data"
   ]
  },
  {
   "cell_type": "code",
   "execution_count": null,
   "id": "2316ffcd-a6e4-453f-bb52-779685c5c5bf",
   "metadata": {
    "papermill": {
     "duration": 0.034992,
     "end_time": "2021-11-19T08:39:10.099253",
     "exception": false,
     "start_time": "2021-11-19T08:39:10.064261",
     "status": "completed"
    },
    "tags": []
   },
   "outputs": [],
   "source": [
    "n_genes, n_samples = 10, 30000"
   ]
  },
  {
   "cell_type": "code",
   "execution_count": null,
   "id": "b2f92fb1-113d-479b-8bbf-2be229e26e8f",
   "metadata": {
    "papermill": {
     "duration": 0.034568,
     "end_time": "2021-11-19T08:39:10.163697",
     "exception": false,
     "start_time": "2021-11-19T08:39:10.129129",
     "status": "completed"
    },
    "tags": []
   },
   "outputs": [],
   "source": [
    "np.random.seed(0)"
   ]
  },
  {
   "cell_type": "code",
   "execution_count": null,
   "id": "63638c0b-b436-48a9-93e0-db2adb939a61",
   "metadata": {
    "papermill": {
     "duration": 0.037841,
     "end_time": "2021-11-19T08:39:10.231264",
     "exception": false,
     "start_time": "2021-11-19T08:39:10.193423",
     "status": "completed"
    },
    "tags": []
   },
   "outputs": [],
   "source": [
    "data = np.random.rand(n_genes, n_samples)"
   ]
  },
  {
   "cell_type": "code",
   "execution_count": null,
   "id": "808017ed-9a8a-4bf7-a3dd-42317a39ce8f",
   "metadata": {
    "papermill": {
     "duration": 0.041766,
     "end_time": "2021-11-19T08:39:10.304094",
     "exception": false,
     "start_time": "2021-11-19T08:39:10.262328",
     "status": "completed"
    },
    "tags": []
   },
   "outputs": [],
   "source": [
    "data.shape"
   ]
  },
  {
   "cell_type": "markdown",
   "id": "716e4219-cad5-453b-8331-47d310689e03",
   "metadata": {
    "papermill": {
     "duration": 0.031542,
     "end_time": "2021-11-19T08:39:10.369497",
     "exception": false,
     "start_time": "2021-11-19T08:39:10.337955",
     "status": "completed"
    },
    "tags": []
   },
   "source": [
    "# With default `internal_n_clusters`"
   ]
  },
  {
   "cell_type": "code",
   "execution_count": null,
   "id": "67807856-f337-4c6e-ae31-cd306577a314",
   "metadata": {
    "papermill": {
     "duration": 0.036965,
     "end_time": "2021-11-19T08:39:10.437336",
     "exception": false,
     "start_time": "2021-11-19T08:39:10.400371",
     "status": "completed"
    },
    "tags": []
   },
   "outputs": [],
   "source": [
    "def func():\n",
    "    n_clust = list(range(2, 10 + 1))\n",
    "    return cm(data, internal_n_clusters=n_clust)"
   ]
  },
  {
   "cell_type": "code",
   "execution_count": null,
   "id": "2965a695-5c0c-4e9e-8435-dcbfa610eb81",
   "metadata": {
    "papermill": {
     "duration": 44.075625,
     "end_time": "2021-11-19T08:39:54.547538",
     "exception": false,
     "start_time": "2021-11-19T08:39:10.471913",
     "status": "completed"
    },
    "tags": []
   },
   "outputs": [],
   "source": [
    "%%timeit func()\n",
    "func()"
   ]
  },
  {
   "cell_type": "code",
   "execution_count": null,
   "id": "51c7a416-064a-4669-a09f-16f837d32475",
   "metadata": {
    "papermill": {
     "duration": 2.769131,
     "end_time": "2021-11-19T08:39:57.348146",
     "exception": false,
     "start_time": "2021-11-19T08:39:54.579015",
     "status": "completed"
    },
    "tags": []
   },
   "outputs": [],
   "source": [
    "%%prun -s cumulative -l 50 -T 07-cm_many_samples-default_internal_n_clusters.txt\n",
    "func()"
   ]
  },
  {
   "cell_type": "markdown",
   "id": "025974ff-06d4-4d82-9b05-03f7a84d7211",
   "metadata": {
    "papermill": {
     "duration": 0.032253,
     "end_time": "2021-11-19T08:39:57.413458",
     "exception": false,
     "start_time": "2021-11-19T08:39:57.381205",
     "status": "completed"
    },
    "tags": []
   },
   "source": [
    "# With reduced `internal_n_clusters`"
   ]
  },
  {
   "cell_type": "code",
   "execution_count": null,
   "id": "c20c4ecf-8060-495e-92b0-eb8e0d0dfbf3",
   "metadata": {
    "papermill": {
     "duration": 0.037865,
     "end_time": "2021-11-19T08:39:57.484567",
     "exception": false,
     "start_time": "2021-11-19T08:39:57.446702",
     "status": "completed"
    },
    "tags": []
   },
   "outputs": [],
   "source": [
    "def func():\n",
    "    n_clust = list(range(2, 5 + 1))\n",
    "    return cm(data, internal_n_clusters=n_clust)"
   ]
  },
  {
   "cell_type": "code",
   "execution_count": null,
   "id": "11259d8c-3bf3-4299-b47b-211556c3bc08",
   "metadata": {
    "papermill": {
     "duration": 7.095536,
     "end_time": "2021-11-19T08:40:04.612995",
     "exception": false,
     "start_time": "2021-11-19T08:39:57.517459",
     "status": "completed"
    },
    "tags": []
   },
   "outputs": [],
   "source": [
    "%%timeit func()\n",
    "func()"
   ]
  },
  {
   "cell_type": "code",
   "execution_count": null,
   "id": "42d9e6e0-3c01-46e1-a409-52ff26cb78f4",
   "metadata": {
    "papermill": {
     "duration": 0.502424,
     "end_time": "2021-11-19T08:40:05.149983",
     "exception": false,
     "start_time": "2021-11-19T08:40:04.647559",
     "status": "completed"
    },
    "tags": []
   },
   "outputs": [],
   "source": [
    "%%prun -s cumulative -l 50 -T 07-cm_many_samples-less_internal_n_clusters.txt\n",
    "func()"
   ]
  },
  {
   "cell_type": "code",
   "execution_count": null,
   "id": "e2556204-1c10-4e01-8c6c-ea63ddb37530",
   "metadata": {
    "papermill": {
     "duration": 0.03445,
     "end_time": "2021-11-19T08:40:05.219368",
     "exception": false,
     "start_time": "2021-11-19T08:40:05.184918",
     "status": "completed"
    },
    "tags": []
   },
   "outputs": [],
   "source": []
  }
 ],
 "metadata": {
  "jupytext": {
   "cell_metadata_filter": "all,-execution,-papermill,-trusted",
   "text_representation": {
    "extension": ".py",
    "format_name": "percent",
    "format_version": "1.3",
    "jupytext_version": "1.11.5"
   }
  },
  "kernelspec": {
   "display_name": "Python 3 (ipykernel)",
   "language": "python",
   "name": "python3"
  },
  "language_info": {
   "codemirror_mode": {
    "name": "ipython",
    "version": 3
   },
   "file_extension": ".py",
   "mimetype": "text/x-python",
   "name": "python",
   "nbconvert_exporter": "python",
   "pygments_lexer": "ipython3",
   "version": "3.9.7"
  },
  "papermill": {
   "default_parameters": {},
   "duration": 57.374673,
   "end_time": "2021-11-19T08:40:05.563287",
   "environment_variables": {},
   "exception": null,
   "input_path": "nbs/others/05_clustermatch_profiling/11_cm_optimized/07-many_samples.ipynb",
   "output_path": "nbs/others/05_clustermatch_profiling/11_cm_optimized/07-many_samples.run.ipynb",
   "parameters": {},
   "start_time": "2021-11-19T08:39:08.188614",
   "version": "2.3.3"
  }
 },
 "nbformat": 4,
 "nbformat_minor": 5
}
