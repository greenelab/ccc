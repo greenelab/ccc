{
 "cells": [
  {
   "cell_type": "markdown",
   "id": "fd52facb-2470-4824-83d4-7c9fd042ecfb",
   "metadata": {
    "papermill": {
     "duration": 0.080621,
     "end_time": "2021-11-22T19:47:32.829434",
     "exception": false,
     "start_time": "2021-11-22T19:47:32.748813",
     "status": "completed"
    },
    "tags": []
   },
   "source": [
    "# Description"
   ]
  },
  {
   "cell_type": "markdown",
   "id": "b95a9893-d5af-400c-9872-dcf70ec874fb",
   "metadata": {
    "papermill": {
     "duration": 0.040032,
     "end_time": "2021-11-22T19:47:32.909725",
     "exception": false,
     "start_time": "2021-11-22T19:47:32.869693",
     "status": "completed"
    },
    "tags": []
   },
   "source": [
    "Clustermatch run using a larger number of samples."
   ]
  },
  {
   "cell_type": "markdown",
   "id": "325cb06a-df7f-43e8-be3e-f704aaf015b0",
   "metadata": {
    "papermill": {
     "duration": 0.041254,
     "end_time": "2021-11-22T19:47:32.990995",
     "exception": false,
     "start_time": "2021-11-22T19:47:32.949741",
     "status": "completed"
    },
    "tags": []
   },
   "source": [
    "# Remove pycache dir"
   ]
  },
  {
   "cell_type": "code",
   "execution_count": 1,
   "id": "73f954a6-1776-4b92-bd0e-fc3caf5df081",
   "metadata": {
    "execution": {
     "iopub.execute_input": "2021-11-22T19:47:33.077521Z",
     "iopub.status.busy": "2021-11-22T19:47:33.077045Z",
     "iopub.status.idle": "2021-11-22T19:47:33.671838Z",
     "shell.execute_reply": "2021-11-22T19:47:33.673419Z"
    },
    "papermill": {
     "duration": 0.643134,
     "end_time": "2021-11-22T19:47:33.674074",
     "exception": false,
     "start_time": "2021-11-22T19:47:33.030940",
     "status": "completed"
    },
    "tags": []
   },
   "outputs": [
    {
     "name": "stdout",
     "output_type": "stream",
     "text": [
      "/opt/code\r\n"
     ]
    }
   ],
   "source": [
    "!echo ${CODE_DIR}"
   ]
  },
  {
   "cell_type": "code",
   "execution_count": 2,
   "id": "d17492bb-34fe-4c34-a693-419180ba068e",
   "metadata": {
    "execution": {
     "iopub.execute_input": "2021-11-22T19:47:33.795394Z",
     "iopub.status.busy": "2021-11-22T19:47:33.794921Z",
     "iopub.status.idle": "2021-11-22T19:47:34.391310Z",
     "shell.execute_reply": "2021-11-22T19:47:34.392876Z"
    },
    "papermill": {
     "duration": 0.642709,
     "end_time": "2021-11-22T19:47:34.393324",
     "exception": false,
     "start_time": "2021-11-22T19:47:33.750615",
     "status": "completed"
    },
    "tags": []
   },
   "outputs": [
    {
     "name": "stdout",
     "output_type": "stream",
     "text": [
      "/opt/code/libs/clustermatch/__pycache__\r\n",
      "/opt/code/libs/clustermatch/sklearn/__pycache__\r\n",
      "/opt/code/libs/clustermatch/scipy/__pycache__\r\n",
      "/opt/code/libs/clustermatch/pytorch/__pycache__\r\n"
     ]
    }
   ],
   "source": [
    "!find ${CODE_DIR} -regex '^.*\\(__pycache__\\)$' -print"
   ]
  },
  {
   "cell_type": "code",
   "execution_count": 3,
   "id": "5683e330-1782-43b3-bb78-255198f03620",
   "metadata": {
    "execution": {
     "iopub.execute_input": "2021-11-22T19:47:34.514337Z",
     "iopub.status.busy": "2021-11-22T19:47:34.513857Z",
     "iopub.status.idle": "2021-11-22T19:47:35.114430Z",
     "shell.execute_reply": "2021-11-22T19:47:35.112567Z"
    },
    "papermill": {
     "duration": 0.648363,
     "end_time": "2021-11-22T19:47:35.114800",
     "exception": false,
     "start_time": "2021-11-22T19:47:34.466437",
     "status": "completed"
    },
    "tags": []
   },
   "outputs": [
    {
     "name": "stdout",
     "output_type": "stream",
     "text": [
      "find: ‘/opt/code/libs/clustermatch/__pycache__’: No such file or directory\r\n",
      "find: ‘/opt/code/libs/clustermatch/sklearn/__pycache__’: No such file or directory\r\n",
      "find: ‘/opt/code/libs/clustermatch/scipy/__pycache__’: No such file or directory\r\n",
      "find: ‘/opt/code/libs/clustermatch/pytorch/__pycache__’: No such file or directory\r\n"
     ]
    }
   ],
   "source": [
    "!find ${CODE_DIR} -regex '^.*\\(__pycache__\\)$' -exec rm -rf {} \\;"
   ]
  },
  {
   "cell_type": "code",
   "execution_count": 4,
   "id": "5cf4ce29-d611-4fc8-8880-293c09e5ab9a",
   "metadata": {
    "execution": {
     "iopub.execute_input": "2021-11-22T19:47:35.206759Z",
     "iopub.status.busy": "2021-11-22T19:47:35.204642Z",
     "iopub.status.idle": "2021-11-22T19:47:35.808876Z",
     "shell.execute_reply": "2021-11-22T19:47:35.810420Z"
    },
    "papermill": {
     "duration": 0.652606,
     "end_time": "2021-11-22T19:47:35.810866",
     "exception": false,
     "start_time": "2021-11-22T19:47:35.158260",
     "status": "completed"
    },
    "tags": []
   },
   "outputs": [],
   "source": [
    "!find ${CODE_DIR} -regex '^.*\\(__pycache__\\)$' -print"
   ]
  },
  {
   "cell_type": "markdown",
   "id": "35a04385-a901-4726-82a6-a01f16281efe",
   "metadata": {
    "papermill": {
     "duration": 0.042227,
     "end_time": "2021-11-22T19:47:35.896186",
     "exception": false,
     "start_time": "2021-11-22T19:47:35.853959",
     "status": "completed"
    },
    "tags": []
   },
   "source": [
    "# Modules"
   ]
  },
  {
   "cell_type": "code",
   "execution_count": 5,
   "id": "a75c4496-d379-4668-905d-0e9136981f0c",
   "metadata": {
    "execution": {
     "iopub.execute_input": "2021-11-22T19:47:35.984885Z",
     "iopub.status.busy": "2021-11-22T19:47:35.984426Z",
     "iopub.status.idle": "2021-11-22T19:47:36.297977Z",
     "shell.execute_reply": "2021-11-22T19:47:36.297504Z"
    },
    "papermill": {
     "duration": 0.359602,
     "end_time": "2021-11-22T19:47:36.298077",
     "exception": false,
     "start_time": "2021-11-22T19:47:35.938475",
     "status": "completed"
    },
    "tags": []
   },
   "outputs": [],
   "source": [
    "import numpy as np\n",
    "\n",
    "from clustermatch.coef import cm"
   ]
  },
  {
   "cell_type": "code",
   "execution_count": 6,
   "id": "1a58ccf8-1bf5-4177-9b06-944a0d57655a",
   "metadata": {
    "execution": {
     "iopub.execute_input": "2021-11-22T19:47:36.399094Z",
     "iopub.status.busy": "2021-11-22T19:47:36.398623Z",
     "iopub.status.idle": "2021-11-22T19:47:45.091051Z",
     "shell.execute_reply": "2021-11-22T19:47:45.090648Z"
    },
    "papermill": {
     "duration": 8.741329,
     "end_time": "2021-11-22T19:47:45.091150",
     "exception": false,
     "start_time": "2021-11-22T19:47:36.349821",
     "status": "completed"
    },
    "tags": []
   },
   "outputs": [
    {
     "data": {
      "text/plain": [
       "0.0"
      ]
     },
     "execution_count": 6,
     "metadata": {},
     "output_type": "execute_result"
    }
   ],
   "source": [
    "# let numba compile all the code before profiling\n",
    "cm(np.random.rand(10), np.random.rand(10))"
   ]
  },
  {
   "cell_type": "markdown",
   "id": "2c92a1ad-2fc9-4a16-a5f8-fce685246996",
   "metadata": {
    "papermill": {
     "duration": 0.0431,
     "end_time": "2021-11-22T19:47:45.178285",
     "exception": false,
     "start_time": "2021-11-22T19:47:45.135185",
     "status": "completed"
    },
    "tags": []
   },
   "source": [
    "# Data"
   ]
  },
  {
   "cell_type": "code",
   "execution_count": 7,
   "id": "2316ffcd-a6e4-453f-bb52-779685c5c5bf",
   "metadata": {
    "execution": {
     "iopub.execute_input": "2021-11-22T19:47:45.268155Z",
     "iopub.status.busy": "2021-11-22T19:47:45.267623Z",
     "iopub.status.idle": "2021-11-22T19:47:45.269700Z",
     "shell.execute_reply": "2021-11-22T19:47:45.269254Z"
    },
    "papermill": {
     "duration": 0.048472,
     "end_time": "2021-11-22T19:47:45.269793",
     "exception": false,
     "start_time": "2021-11-22T19:47:45.221321",
     "status": "completed"
    },
    "tags": []
   },
   "outputs": [],
   "source": [
    "n_genes, n_samples = 10, 30000"
   ]
  },
  {
   "cell_type": "code",
   "execution_count": 8,
   "id": "b2f92fb1-113d-479b-8bbf-2be229e26e8f",
   "metadata": {
    "execution": {
     "iopub.execute_input": "2021-11-22T19:47:45.361534Z",
     "iopub.status.busy": "2021-11-22T19:47:45.360926Z",
     "iopub.status.idle": "2021-11-22T19:47:45.364371Z",
     "shell.execute_reply": "2021-11-22T19:47:45.364820Z"
    },
    "papermill": {
     "duration": 0.05132,
     "end_time": "2021-11-22T19:47:45.364978",
     "exception": false,
     "start_time": "2021-11-22T19:47:45.313658",
     "status": "completed"
    },
    "tags": []
   },
   "outputs": [],
   "source": [
    "np.random.seed(0)"
   ]
  },
  {
   "cell_type": "code",
   "execution_count": 9,
   "id": "63638c0b-b436-48a9-93e0-db2adb939a61",
   "metadata": {
    "execution": {
     "iopub.execute_input": "2021-11-22T19:47:45.460867Z",
     "iopub.status.busy": "2021-11-22T19:47:45.459798Z",
     "iopub.status.idle": "2021-11-22T19:47:45.465883Z",
     "shell.execute_reply": "2021-11-22T19:47:45.465426Z"
    },
    "papermill": {
     "duration": 0.05238,
     "end_time": "2021-11-22T19:47:45.465979",
     "exception": false,
     "start_time": "2021-11-22T19:47:45.413599",
     "status": "completed"
    },
    "tags": []
   },
   "outputs": [],
   "source": [
    "data = np.random.rand(n_genes, n_samples)"
   ]
  },
  {
   "cell_type": "code",
   "execution_count": 10,
   "id": "808017ed-9a8a-4bf7-a3dd-42317a39ce8f",
   "metadata": {
    "execution": {
     "iopub.execute_input": "2021-11-22T19:47:45.558167Z",
     "iopub.status.busy": "2021-11-22T19:47:45.557562Z",
     "iopub.status.idle": "2021-11-22T19:47:45.559937Z",
     "shell.execute_reply": "2021-11-22T19:47:45.560310Z"
    },
    "papermill": {
     "duration": 0.05007,
     "end_time": "2021-11-22T19:47:45.560428",
     "exception": false,
     "start_time": "2021-11-22T19:47:45.510358",
     "status": "completed"
    },
    "tags": []
   },
   "outputs": [
    {
     "data": {
      "text/plain": [
       "(10, 30000)"
      ]
     },
     "execution_count": 10,
     "metadata": {},
     "output_type": "execute_result"
    }
   ],
   "source": [
    "data.shape"
   ]
  },
  {
   "cell_type": "markdown",
   "id": "716e4219-cad5-453b-8331-47d310689e03",
   "metadata": {
    "papermill": {
     "duration": 0.044201,
     "end_time": "2021-11-22T19:47:45.649150",
     "exception": false,
     "start_time": "2021-11-22T19:47:45.604949",
     "status": "completed"
    },
    "tags": []
   },
   "source": [
    "# With default `internal_n_clusters`"
   ]
  },
  {
   "cell_type": "code",
   "execution_count": 11,
   "id": "67807856-f337-4c6e-ae31-cd306577a314",
   "metadata": {
    "execution": {
     "iopub.execute_input": "2021-11-22T19:47:45.740429Z",
     "iopub.status.busy": "2021-11-22T19:47:45.739976Z",
     "iopub.status.idle": "2021-11-22T19:47:45.741322Z",
     "shell.execute_reply": "2021-11-22T19:47:45.741657Z"
    },
    "papermill": {
     "duration": 0.048771,
     "end_time": "2021-11-22T19:47:45.741774",
     "exception": false,
     "start_time": "2021-11-22T19:47:45.693003",
     "status": "completed"
    },
    "tags": []
   },
   "outputs": [],
   "source": [
    "def func():\n",
    "    n_clust = list(range(2, 10 + 1))\n",
    "    return cm(data, internal_n_clusters=n_clust)"
   ]
  },
  {
   "cell_type": "code",
   "execution_count": 12,
   "id": "2965a695-5c0c-4e9e-8435-dcbfa610eb81",
   "metadata": {
    "execution": {
     "iopub.execute_input": "2021-11-22T19:47:45.837713Z",
     "iopub.status.busy": "2021-11-22T19:47:45.837238Z",
     "iopub.status.idle": "2021-11-22T19:48:50.386542Z",
     "shell.execute_reply": "2021-11-22T19:48:50.386888Z"
    },
    "papermill": {
     "duration": 64.599853,
     "end_time": "2021-11-22T19:48:50.386999",
     "exception": false,
     "start_time": "2021-11-22T19:47:45.787146",
     "status": "completed"
    },
    "tags": []
   },
   "outputs": [
    {
     "name": "stdout",
     "output_type": "stream",
     "text": [
      "3.99 s ± 10.7 ms per loop (mean ± std. dev. of 7 runs, 1 loop each)\n"
     ]
    }
   ],
   "source": [
    "%%timeit func()\n",
    "func()"
   ]
  },
  {
   "cell_type": "code",
   "execution_count": 13,
   "id": "51c7a416-064a-4669-a09f-16f837d32475",
   "metadata": {
    "execution": {
     "iopub.execute_input": "2021-11-22T19:48:50.481192Z",
     "iopub.status.busy": "2021-11-22T19:48:50.480687Z",
     "iopub.status.idle": "2021-11-22T19:48:54.478614Z",
     "shell.execute_reply": "2021-11-22T19:48:54.478169Z"
    },
    "papermill": {
     "duration": 4.046769,
     "end_time": "2021-11-22T19:48:54.478706",
     "exception": false,
     "start_time": "2021-11-22T19:48:50.431937",
     "status": "completed"
    },
    "tags": []
   },
   "outputs": [
    {
     "name": "stdout",
     "output_type": "stream",
     "text": [
      " \n",
      "*** Profile printout saved to text file '07-cm_many_samples-default_internal_n_clusters.txt'. \n"
     ]
    }
   ],
   "source": [
    "%%prun -s cumulative -l 50 -T 07-cm_many_samples-default_internal_n_clusters.txt\n",
    "func()"
   ]
  },
  {
   "cell_type": "markdown",
   "id": "025974ff-06d4-4d82-9b05-03f7a84d7211",
   "metadata": {
    "papermill": {
     "duration": 0.045624,
     "end_time": "2021-11-22T19:48:54.570247",
     "exception": false,
     "start_time": "2021-11-22T19:48:54.524623",
     "status": "completed"
    },
    "tags": []
   },
   "source": [
    "# With reduced `internal_n_clusters`"
   ]
  },
  {
   "cell_type": "code",
   "execution_count": 14,
   "id": "c20c4ecf-8060-495e-92b0-eb8e0d0dfbf3",
   "metadata": {
    "execution": {
     "iopub.execute_input": "2021-11-22T19:48:54.671334Z",
     "iopub.status.busy": "2021-11-22T19:48:54.670849Z",
     "iopub.status.idle": "2021-11-22T19:48:54.672611Z",
     "shell.execute_reply": "2021-11-22T19:48:54.672982Z"
    },
    "papermill": {
     "duration": 0.057259,
     "end_time": "2021-11-22T19:48:54.673099",
     "exception": false,
     "start_time": "2021-11-22T19:48:54.615840",
     "status": "completed"
    },
    "tags": []
   },
   "outputs": [],
   "source": [
    "def func():\n",
    "    n_clust = list(range(2, 5 + 1))\n",
    "    return cm(data, internal_n_clusters=n_clust)"
   ]
  },
  {
   "cell_type": "code",
   "execution_count": 15,
   "id": "11259d8c-3bf3-4299-b47b-211556c3bc08",
   "metadata": {
    "execution": {
     "iopub.execute_input": "2021-11-22T19:48:54.769482Z",
     "iopub.status.busy": "2021-11-22T19:48:54.769004Z",
     "iopub.status.idle": "2021-11-22T19:49:04.309350Z",
     "shell.execute_reply": "2021-11-22T19:49:04.309706Z"
    },
    "papermill": {
     "duration": 9.589876,
     "end_time": "2021-11-22T19:49:04.309821",
     "exception": false,
     "start_time": "2021-11-22T19:48:54.719945",
     "status": "completed"
    },
    "tags": []
   },
   "outputs": [
    {
     "name": "stdout",
     "output_type": "stream",
     "text": [
      "596 ms ± 8.55 ms per loop (mean ± std. dev. of 7 runs, 1 loop each)\n"
     ]
    }
   ],
   "source": [
    "%%timeit func()\n",
    "func()"
   ]
  },
  {
   "cell_type": "code",
   "execution_count": 16,
   "id": "42d9e6e0-3c01-46e1-a409-52ff26cb78f4",
   "metadata": {
    "execution": {
     "iopub.execute_input": "2021-11-22T19:49:04.407534Z",
     "iopub.status.busy": "2021-11-22T19:49:04.407041Z",
     "iopub.status.idle": "2021-11-22T19:49:05.008441Z",
     "shell.execute_reply": "2021-11-22T19:49:05.008824Z"
    },
    "papermill": {
     "duration": 0.651946,
     "end_time": "2021-11-22T19:49:05.008940",
     "exception": false,
     "start_time": "2021-11-22T19:49:04.356994",
     "status": "completed"
    },
    "tags": []
   },
   "outputs": [
    {
     "name": "stdout",
     "output_type": "stream",
     "text": [
      " \n",
      "*** Profile printout saved to text file '07-cm_many_samples-less_internal_n_clusters.txt'. \n"
     ]
    }
   ],
   "source": [
    "%%prun -s cumulative -l 50 -T 07-cm_many_samples-less_internal_n_clusters.txt\n",
    "func()"
   ]
  },
  {
   "cell_type": "code",
   "execution_count": null,
   "id": "e2556204-1c10-4e01-8c6c-ea63ddb37530",
   "metadata": {
    "papermill": {
     "duration": 0.046649,
     "end_time": "2021-11-22T19:49:05.102922",
     "exception": false,
     "start_time": "2021-11-22T19:49:05.056273",
     "status": "completed"
    },
    "tags": []
   },
   "outputs": [],
   "source": []
  }
 ],
 "metadata": {
  "jupytext": {
   "cell_metadata_filter": "all,-execution,-papermill,-trusted"
  },
  "kernelspec": {
   "display_name": "Python 3 (ipykernel)",
   "language": "python",
   "name": "python3"
  },
  "language_info": {
   "codemirror_mode": {
    "name": "ipython",
    "version": 3
   },
   "file_extension": ".py",
   "mimetype": "text/x-python",
   "name": "python",
   "nbconvert_exporter": "python",
   "pygments_lexer": "ipython3",
   "version": "3.9.7"
  },
  "papermill": {
   "default_parameters": {},
   "duration": 93.953951,
   "end_time": "2021-11-22T19:49:05.559265",
   "environment_variables": {},
   "exception": null,
   "input_path": "nbs/others/05_clustermatch_profiling/11_cm_optimized/07-many_samples.ipynb",
   "output_path": "nbs/others/05_clustermatch_profiling/11_cm_optimized/07-many_samples.run.ipynb",
   "parameters": {},
   "start_time": "2021-11-22T19:47:31.605314",
   "version": "2.3.3"
  }
 },
 "nbformat": 4,
 "nbformat_minor": 5
}
