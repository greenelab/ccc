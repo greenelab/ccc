{
 "cells": [
  {
   "cell_type": "markdown",
   "id": "fd52facb-2470-4824-83d4-7c9fd042ecfb",
   "metadata": {
    "papermill": {
     "duration": 0.077944,
     "end_time": "2021-11-23T22:52:14.290672",
     "exception": false,
     "start_time": "2021-11-23T22:52:14.212728",
     "status": "completed"
    },
    "tags": []
   },
   "source": [
    "# Description"
   ]
  },
  {
   "cell_type": "markdown",
   "id": "b95a9893-d5af-400c-9872-dcf70ec874fb",
   "metadata": {
    "papermill": {
     "duration": 0.041683,
     "end_time": "2021-11-23T22:52:14.378858",
     "exception": false,
     "start_time": "2021-11-23T22:52:14.337175",
     "status": "completed"
    },
    "tags": []
   },
   "source": [
    "Clustermatch run using a larger number of samples."
   ]
  },
  {
   "cell_type": "markdown",
   "id": "325cb06a-df7f-43e8-be3e-f704aaf015b0",
   "metadata": {
    "papermill": {
     "duration": 0.041026,
     "end_time": "2021-11-23T22:52:14.459818",
     "exception": false,
     "start_time": "2021-11-23T22:52:14.418792",
     "status": "completed"
    },
    "tags": []
   },
   "source": [
    "# Remove pycache dir"
   ]
  },
  {
   "cell_type": "code",
   "execution_count": 1,
   "id": "73f954a6-1776-4b92-bd0e-fc3caf5df081",
   "metadata": {
    "execution": {
     "iopub.execute_input": "2021-11-23T22:52:14.546652Z",
     "iopub.status.busy": "2021-11-23T22:52:14.546180Z",
     "iopub.status.idle": "2021-11-23T22:52:15.135145Z",
     "shell.execute_reply": "2021-11-23T22:52:15.136708Z"
    },
    "papermill": {
     "duration": 0.637761,
     "end_time": "2021-11-23T22:52:15.137403",
     "exception": false,
     "start_time": "2021-11-23T22:52:14.499642",
     "status": "completed"
    },
    "tags": []
   },
   "outputs": [
    {
     "name": "stdout",
     "output_type": "stream",
     "text": [
      "/opt/code\r\n"
     ]
    }
   ],
   "source": [
    "!echo ${CODE_DIR}"
   ]
  },
  {
   "cell_type": "code",
   "execution_count": 2,
   "id": "d17492bb-34fe-4c34-a693-419180ba068e",
   "metadata": {
    "execution": {
     "iopub.execute_input": "2021-11-23T22:52:15.224796Z",
     "iopub.status.busy": "2021-11-23T22:52:15.224334Z",
     "iopub.status.idle": "2021-11-23T22:52:15.835751Z",
     "shell.execute_reply": "2021-11-23T22:52:15.833325Z"
    },
    "papermill": {
     "duration": 0.656105,
     "end_time": "2021-11-23T22:52:15.836170",
     "exception": false,
     "start_time": "2021-11-23T22:52:15.180065",
     "status": "completed"
    },
    "tags": []
   },
   "outputs": [
    {
     "name": "stdout",
     "output_type": "stream",
     "text": [
      "/opt/code/libs/clustermatch/__pycache__\r\n",
      "/opt/code/libs/clustermatch/sklearn/__pycache__\r\n",
      "/opt/code/libs/clustermatch/scipy/__pycache__\r\n",
      "/opt/code/libs/clustermatch/pytorch/__pycache__\r\n"
     ]
    }
   ],
   "source": [
    "!find ${CODE_DIR} -regex '^.*\\(__pycache__\\)$' -print"
   ]
  },
  {
   "cell_type": "code",
   "execution_count": 3,
   "id": "5683e330-1782-43b3-bb78-255198f03620",
   "metadata": {
    "execution": {
     "iopub.execute_input": "2021-11-23T22:52:15.956542Z",
     "iopub.status.busy": "2021-11-23T22:52:15.956063Z",
     "iopub.status.idle": "2021-11-23T22:52:16.569237Z",
     "shell.execute_reply": "2021-11-23T22:52:16.570765Z"
    },
    "papermill": {
     "duration": 0.660361,
     "end_time": "2021-11-23T22:52:16.571210",
     "exception": false,
     "start_time": "2021-11-23T22:52:15.910849",
     "status": "completed"
    },
    "tags": []
   },
   "outputs": [
    {
     "name": "stdout",
     "output_type": "stream",
     "text": [
      "find: ‘/opt/code/libs/clustermatch/__pycache__’: No such file or directory\r\n",
      "find: ‘/opt/code/libs/clustermatch/sklearn/__pycache__’: No such file or directory\r\n",
      "find: ‘/opt/code/libs/clustermatch/scipy/__pycache__’: No such file or directory\r\n",
      "find: ‘/opt/code/libs/clustermatch/pytorch/__pycache__’: No such file or directory\r\n"
     ]
    }
   ],
   "source": [
    "!find ${CODE_DIR} -regex '^.*\\(__pycache__\\)$' -exec rm -rf {} \\;"
   ]
  },
  {
   "cell_type": "code",
   "execution_count": 4,
   "id": "5cf4ce29-d611-4fc8-8880-293c09e5ab9a",
   "metadata": {
    "execution": {
     "iopub.execute_input": "2021-11-23T22:52:16.690328Z",
     "iopub.status.busy": "2021-11-23T22:52:16.689874Z",
     "iopub.status.idle": "2021-11-23T22:52:17.295147Z",
     "shell.execute_reply": "2021-11-23T22:52:17.293531Z"
    },
    "papermill": {
     "duration": 0.652302,
     "end_time": "2021-11-23T22:52:17.295532",
     "exception": false,
     "start_time": "2021-11-23T22:52:16.643230",
     "status": "completed"
    },
    "tags": []
   },
   "outputs": [],
   "source": [
    "!find ${CODE_DIR} -regex '^.*\\(__pycache__\\)$' -print"
   ]
  },
  {
   "cell_type": "markdown",
   "id": "35a04385-a901-4726-82a6-a01f16281efe",
   "metadata": {
    "papermill": {
     "duration": 0.044883,
     "end_time": "2021-11-23T22:52:17.403812",
     "exception": false,
     "start_time": "2021-11-23T22:52:17.358929",
     "status": "completed"
    },
    "tags": []
   },
   "source": [
    "# Modules"
   ]
  },
  {
   "cell_type": "code",
   "execution_count": 5,
   "id": "a75c4496-d379-4668-905d-0e9136981f0c",
   "metadata": {
    "execution": {
     "iopub.execute_input": "2021-11-23T22:52:17.492997Z",
     "iopub.status.busy": "2021-11-23T22:52:17.492527Z",
     "iopub.status.idle": "2021-11-23T22:52:17.813195Z",
     "shell.execute_reply": "2021-11-23T22:52:17.812791Z"
    },
    "papermill": {
     "duration": 0.366868,
     "end_time": "2021-11-23T22:52:17.813296",
     "exception": false,
     "start_time": "2021-11-23T22:52:17.446428",
     "status": "completed"
    },
    "tags": []
   },
   "outputs": [],
   "source": [
    "import numpy as np\n",
    "\n",
    "from clustermatch.coef import cm"
   ]
  },
  {
   "cell_type": "code",
   "execution_count": 6,
   "id": "1a58ccf8-1bf5-4177-9b06-944a0d57655a",
   "metadata": {
    "execution": {
     "iopub.execute_input": "2021-11-23T22:52:17.901539Z",
     "iopub.status.busy": "2021-11-23T22:52:17.901085Z",
     "iopub.status.idle": "2021-11-23T22:52:26.554216Z",
     "shell.execute_reply": "2021-11-23T22:52:26.553760Z"
    },
    "papermill": {
     "duration": 8.698096,
     "end_time": "2021-11-23T22:52:26.554315",
     "exception": false,
     "start_time": "2021-11-23T22:52:17.856219",
     "status": "completed"
    },
    "tags": []
   },
   "outputs": [
    {
     "data": {
      "text/plain": [
       "0.20454545454545456"
      ]
     },
     "execution_count": 6,
     "metadata": {},
     "output_type": "execute_result"
    }
   ],
   "source": [
    "# let numba compile all the code before profiling\n",
    "cm(np.random.rand(10), np.random.rand(10))"
   ]
  },
  {
   "cell_type": "markdown",
   "id": "2c92a1ad-2fc9-4a16-a5f8-fce685246996",
   "metadata": {
    "papermill": {
     "duration": 0.042646,
     "end_time": "2021-11-23T22:52:26.640440",
     "exception": false,
     "start_time": "2021-11-23T22:52:26.597794",
     "status": "completed"
    },
    "tags": []
   },
   "source": [
    "# Data"
   ]
  },
  {
   "cell_type": "code",
   "execution_count": 7,
   "id": "2316ffcd-a6e4-453f-bb52-779685c5c5bf",
   "metadata": {
    "execution": {
     "iopub.execute_input": "2021-11-23T22:52:26.730422Z",
     "iopub.status.busy": "2021-11-23T22:52:26.729972Z",
     "iopub.status.idle": "2021-11-23T22:52:26.732239Z",
     "shell.execute_reply": "2021-11-23T22:52:26.731746Z"
    },
    "papermill": {
     "duration": 0.048685,
     "end_time": "2021-11-23T22:52:26.732332",
     "exception": false,
     "start_time": "2021-11-23T22:52:26.683647",
     "status": "completed"
    },
    "tags": []
   },
   "outputs": [],
   "source": [
    "n_genes, n_samples = 10, 30000"
   ]
  },
  {
   "cell_type": "code",
   "execution_count": 8,
   "id": "b2f92fb1-113d-479b-8bbf-2be229e26e8f",
   "metadata": {
    "execution": {
     "iopub.execute_input": "2021-11-23T22:52:26.821686Z",
     "iopub.status.busy": "2021-11-23T22:52:26.821223Z",
     "iopub.status.idle": "2021-11-23T22:52:26.822721Z",
     "shell.execute_reply": "2021-11-23T22:52:26.823065Z"
    },
    "papermill": {
     "duration": 0.047549,
     "end_time": "2021-11-23T22:52:26.823183",
     "exception": false,
     "start_time": "2021-11-23T22:52:26.775634",
     "status": "completed"
    },
    "tags": []
   },
   "outputs": [],
   "source": [
    "np.random.seed(0)"
   ]
  },
  {
   "cell_type": "code",
   "execution_count": 9,
   "id": "63638c0b-b436-48a9-93e0-db2adb939a61",
   "metadata": {
    "execution": {
     "iopub.execute_input": "2021-11-23T22:52:26.912975Z",
     "iopub.status.busy": "2021-11-23T22:52:26.912516Z",
     "iopub.status.idle": "2021-11-23T22:52:26.917260Z",
     "shell.execute_reply": "2021-11-23T22:52:26.916807Z"
    },
    "papermill": {
     "duration": 0.050574,
     "end_time": "2021-11-23T22:52:26.917359",
     "exception": false,
     "start_time": "2021-11-23T22:52:26.866785",
     "status": "completed"
    },
    "tags": []
   },
   "outputs": [],
   "source": [
    "data = np.random.rand(n_genes, n_samples)"
   ]
  },
  {
   "cell_type": "code",
   "execution_count": 10,
   "id": "808017ed-9a8a-4bf7-a3dd-42317a39ce8f",
   "metadata": {
    "execution": {
     "iopub.execute_input": "2021-11-23T22:52:27.008039Z",
     "iopub.status.busy": "2021-11-23T22:52:27.007484Z",
     "iopub.status.idle": "2021-11-23T22:52:27.010181Z",
     "shell.execute_reply": "2021-11-23T22:52:27.009787Z"
    },
    "papermill": {
     "duration": 0.049324,
     "end_time": "2021-11-23T22:52:27.010275",
     "exception": false,
     "start_time": "2021-11-23T22:52:26.960951",
     "status": "completed"
    },
    "tags": []
   },
   "outputs": [
    {
     "data": {
      "text/plain": [
       "(10, 30000)"
      ]
     },
     "execution_count": 10,
     "metadata": {},
     "output_type": "execute_result"
    }
   ],
   "source": [
    "data.shape"
   ]
  },
  {
   "cell_type": "markdown",
   "id": "716e4219-cad5-453b-8331-47d310689e03",
   "metadata": {
    "papermill": {
     "duration": 0.043418,
     "end_time": "2021-11-23T22:52:27.097327",
     "exception": false,
     "start_time": "2021-11-23T22:52:27.053909",
     "status": "completed"
    },
    "tags": []
   },
   "source": [
    "# With default `internal_n_clusters`"
   ]
  },
  {
   "cell_type": "code",
   "execution_count": 11,
   "id": "67807856-f337-4c6e-ae31-cd306577a314",
   "metadata": {
    "execution": {
     "iopub.execute_input": "2021-11-23T22:52:27.188825Z",
     "iopub.status.busy": "2021-11-23T22:52:27.188391Z",
     "iopub.status.idle": "2021-11-23T22:52:27.190095Z",
     "shell.execute_reply": "2021-11-23T22:52:27.190434Z"
    },
    "papermill": {
     "duration": 0.049576,
     "end_time": "2021-11-23T22:52:27.190551",
     "exception": false,
     "start_time": "2021-11-23T22:52:27.140975",
     "status": "completed"
    },
    "tags": []
   },
   "outputs": [],
   "source": [
    "def func():\n",
    "    n_clust = list(range(2, 10 + 1))\n",
    "    return cm(data, internal_n_clusters=n_clust)"
   ]
  },
  {
   "cell_type": "code",
   "execution_count": 12,
   "id": "2965a695-5c0c-4e9e-8435-dcbfa610eb81",
   "metadata": {
    "execution": {
     "iopub.execute_input": "2021-11-23T22:52:27.286633Z",
     "iopub.status.busy": "2021-11-23T22:52:27.286175Z",
     "iopub.status.idle": "2021-11-23T22:53:31.271368Z",
     "shell.execute_reply": "2021-11-23T22:53:31.271724Z"
    },
    "papermill": {
     "duration": 64.036545,
     "end_time": "2021-11-23T22:53:31.271837",
     "exception": false,
     "start_time": "2021-11-23T22:52:27.235292",
     "status": "completed"
    },
    "tags": []
   },
   "outputs": [
    {
     "name": "stdout",
     "output_type": "stream",
     "text": [
      "3.95 s ± 8.59 ms per loop (mean ± std. dev. of 7 runs, 1 loop each)\n"
     ]
    }
   ],
   "source": [
    "%%timeit func()\n",
    "func()"
   ]
  },
  {
   "cell_type": "code",
   "execution_count": 13,
   "id": "51c7a416-064a-4669-a09f-16f837d32475",
   "metadata": {
    "execution": {
     "iopub.execute_input": "2021-11-23T22:53:31.366980Z",
     "iopub.status.busy": "2021-11-23T22:53:31.366500Z",
     "iopub.status.idle": "2021-11-23T22:53:35.354421Z",
     "shell.execute_reply": "2021-11-23T22:53:35.354815Z"
    },
    "papermill": {
     "duration": 4.038167,
     "end_time": "2021-11-23T22:53:35.354933",
     "exception": false,
     "start_time": "2021-11-23T22:53:31.316766",
     "status": "completed"
    },
    "tags": []
   },
   "outputs": [
    {
     "name": "stdout",
     "output_type": "stream",
     "text": [
      " \n",
      "*** Profile printout saved to text file '07-cm_many_samples-default_internal_n_clusters.txt'. \n"
     ]
    }
   ],
   "source": [
    "%%prun -s cumulative -l 50 -T 07-cm_many_samples-default_internal_n_clusters.txt\n",
    "func()"
   ]
  },
  {
   "cell_type": "markdown",
   "id": "025974ff-06d4-4d82-9b05-03f7a84d7211",
   "metadata": {
    "papermill": {
     "duration": 0.045826,
     "end_time": "2021-11-23T22:53:35.447628",
     "exception": false,
     "start_time": "2021-11-23T22:53:35.401802",
     "status": "completed"
    },
    "tags": []
   },
   "source": [
    "# With reduced `internal_n_clusters`"
   ]
  },
  {
   "cell_type": "code",
   "execution_count": 14,
   "id": "c20c4ecf-8060-495e-92b0-eb8e0d0dfbf3",
   "metadata": {
    "execution": {
     "iopub.execute_input": "2021-11-23T22:53:35.542523Z",
     "iopub.status.busy": "2021-11-23T22:53:35.541940Z",
     "iopub.status.idle": "2021-11-23T22:53:35.544512Z",
     "shell.execute_reply": "2021-11-23T22:53:35.544076Z"
    },
    "papermill": {
     "duration": 0.051437,
     "end_time": "2021-11-23T22:53:35.544605",
     "exception": false,
     "start_time": "2021-11-23T22:53:35.493168",
     "status": "completed"
    },
    "tags": []
   },
   "outputs": [],
   "source": [
    "def func():\n",
    "    n_clust = list(range(2, 5 + 1))\n",
    "    return cm(data, internal_n_clusters=n_clust)"
   ]
  },
  {
   "cell_type": "code",
   "execution_count": 15,
   "id": "11259d8c-3bf3-4299-b47b-211556c3bc08",
   "metadata": {
    "execution": {
     "iopub.execute_input": "2021-11-23T22:53:35.641975Z",
     "iopub.status.busy": "2021-11-23T22:53:35.639744Z",
     "iopub.status.idle": "2021-11-23T22:53:44.858678Z",
     "shell.execute_reply": "2021-11-23T22:53:44.859042Z"
    },
    "papermill": {
     "duration": 9.268852,
     "end_time": "2021-11-23T22:53:44.859163",
     "exception": false,
     "start_time": "2021-11-23T22:53:35.590311",
     "status": "completed"
    },
    "tags": []
   },
   "outputs": [
    {
     "name": "stdout",
     "output_type": "stream",
     "text": [
      "575 ms ± 1.56 ms per loop (mean ± std. dev. of 7 runs, 1 loop each)\n"
     ]
    }
   ],
   "source": [
    "%%timeit func()\n",
    "func()"
   ]
  },
  {
   "cell_type": "code",
   "execution_count": 16,
   "id": "42d9e6e0-3c01-46e1-a409-52ff26cb78f4",
   "metadata": {
    "execution": {
     "iopub.execute_input": "2021-11-23T22:53:44.957578Z",
     "iopub.status.busy": "2021-11-23T22:53:44.957084Z",
     "iopub.status.idle": "2021-11-23T22:53:45.534794Z",
     "shell.execute_reply": "2021-11-23T22:53:45.535189Z"
    },
    "papermill": {
     "duration": 0.628819,
     "end_time": "2021-11-23T22:53:45.535308",
     "exception": false,
     "start_time": "2021-11-23T22:53:44.906489",
     "status": "completed"
    },
    "tags": []
   },
   "outputs": [
    {
     "name": "stdout",
     "output_type": "stream",
     "text": [
      " \n",
      "*** Profile printout saved to text file '07-cm_many_samples-less_internal_n_clusters.txt'. \n"
     ]
    }
   ],
   "source": [
    "%%prun -s cumulative -l 50 -T 07-cm_many_samples-less_internal_n_clusters.txt\n",
    "func()"
   ]
  },
  {
   "cell_type": "code",
   "execution_count": null,
   "id": "e2556204-1c10-4e01-8c6c-ea63ddb37530",
   "metadata": {
    "papermill": {
     "duration": 0.046613,
     "end_time": "2021-11-23T22:53:45.629739",
     "exception": false,
     "start_time": "2021-11-23T22:53:45.583126",
     "status": "completed"
    },
    "tags": []
   },
   "outputs": [],
   "source": []
  }
 ],
 "metadata": {
  "jupytext": {
   "cell_metadata_filter": "all,-execution,-papermill,-trusted"
  },
  "kernelspec": {
   "display_name": "Python 3 (ipykernel)",
   "language": "python",
   "name": "python3"
  },
  "language_info": {
   "codemirror_mode": {
    "name": "ipython",
    "version": 3
   },
   "file_extension": ".py",
   "mimetype": "text/x-python",
   "name": "python",
   "nbconvert_exporter": "python",
   "pygments_lexer": "ipython3",
   "version": "3.9.7"
  },
  "papermill": {
   "default_parameters": {},
   "duration": 93.105041,
   "end_time": "2021-11-23T22:53:46.087152",
   "environment_variables": {},
   "exception": null,
   "input_path": "nbs/others/05_clustermatch_profiling/11_cm_optimized/07-many_samples.ipynb",
   "output_path": "nbs/others/05_clustermatch_profiling/11_cm_optimized/07-many_samples.run.ipynb",
   "parameters": {},
   "start_time": "2021-11-23T22:52:12.982111",
   "version": "2.3.3"
  }
 },
 "nbformat": 4,
 "nbformat_minor": 5
}
