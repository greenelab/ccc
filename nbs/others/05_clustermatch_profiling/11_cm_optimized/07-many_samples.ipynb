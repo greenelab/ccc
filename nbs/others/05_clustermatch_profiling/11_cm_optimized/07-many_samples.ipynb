{
 "cells": [
  {
   "cell_type": "markdown",
   "id": "fd52facb-2470-4824-83d4-7c9fd042ecfb",
   "metadata": {
    "papermill": {
     "duration": 0.080439,
     "end_time": "2021-11-24T05:50:16.090674",
     "exception": false,
     "start_time": "2021-11-24T05:50:16.010235",
     "status": "completed"
    },
    "tags": []
   },
   "source": [
    "# Description"
   ]
  },
  {
   "cell_type": "markdown",
   "id": "b95a9893-d5af-400c-9872-dcf70ec874fb",
   "metadata": {
    "papermill": {
     "duration": 0.041007,
     "end_time": "2021-11-24T05:50:16.172447",
     "exception": false,
     "start_time": "2021-11-24T05:50:16.131440",
     "status": "completed"
    },
    "tags": []
   },
   "source": [
    "Clustermatch run using a larger number of samples."
   ]
  },
  {
   "cell_type": "markdown",
   "id": "325cb06a-df7f-43e8-be3e-f704aaf015b0",
   "metadata": {
    "papermill": {
     "duration": 0.041392,
     "end_time": "2021-11-24T05:50:16.255197",
     "exception": false,
     "start_time": "2021-11-24T05:50:16.213805",
     "status": "completed"
    },
    "tags": []
   },
   "source": [
    "# Remove pycache dir"
   ]
  },
  {
   "cell_type": "code",
   "execution_count": 1,
   "id": "73f954a6-1776-4b92-bd0e-fc3caf5df081",
   "metadata": {
    "execution": {
     "iopub.execute_input": "2021-11-24T05:50:16.343200Z",
     "iopub.status.busy": "2021-11-24T05:50:16.342733Z",
     "iopub.status.idle": "2021-11-24T05:50:16.936873Z",
     "shell.execute_reply": "2021-11-24T05:50:16.938446Z"
    },
    "papermill": {
     "duration": 0.643826,
     "end_time": "2021-11-24T05:50:16.939123",
     "exception": false,
     "start_time": "2021-11-24T05:50:16.295297",
     "status": "completed"
    },
    "tags": []
   },
   "outputs": [
    {
     "name": "stdout",
     "output_type": "stream",
     "text": [
      "/opt/code\r\n"
     ]
    }
   ],
   "source": [
    "!echo ${CODE_DIR}"
   ]
  },
  {
   "cell_type": "code",
   "execution_count": 2,
   "id": "d17492bb-34fe-4c34-a693-419180ba068e",
   "metadata": {
    "execution": {
     "iopub.execute_input": "2021-11-24T05:50:17.063574Z",
     "iopub.status.busy": "2021-11-24T05:50:17.063125Z",
     "iopub.status.idle": "2021-11-24T05:50:17.657764Z",
     "shell.execute_reply": "2021-11-24T05:50:17.655857Z"
    },
    "papermill": {
     "duration": 0.642715,
     "end_time": "2021-11-24T05:50:17.658142",
     "exception": false,
     "start_time": "2021-11-24T05:50:17.015427",
     "status": "completed"
    },
    "tags": []
   },
   "outputs": [
    {
     "name": "stdout",
     "output_type": "stream",
     "text": [
      "/opt/code/libs/clustermatch/__pycache__\r\n",
      "/opt/code/libs/clustermatch/sklearn/__pycache__\r\n",
      "/opt/code/libs/clustermatch/scipy/__pycache__\r\n",
      "/opt/code/libs/clustermatch/pytorch/__pycache__\r\n"
     ]
    }
   ],
   "source": [
    "!find ${CODE_DIR} -regex '^.*\\(__pycache__\\)$' -print"
   ]
  },
  {
   "cell_type": "code",
   "execution_count": 3,
   "id": "5683e330-1782-43b3-bb78-255198f03620",
   "metadata": {
    "execution": {
     "iopub.execute_input": "2021-11-24T05:50:17.747821Z",
     "iopub.status.busy": "2021-11-24T05:50:17.747359Z",
     "iopub.status.idle": "2021-11-24T05:50:18.363037Z",
     "shell.execute_reply": "2021-11-24T05:50:18.364613Z"
    },
    "papermill": {
     "duration": 0.663447,
     "end_time": "2021-11-24T05:50:18.365056",
     "exception": false,
     "start_time": "2021-11-24T05:50:17.701609",
     "status": "completed"
    },
    "tags": []
   },
   "outputs": [
    {
     "name": "stdout",
     "output_type": "stream",
     "text": [
      "find: ‘/opt/code/libs/clustermatch/__pycache__’: No such file or directory\r\n",
      "find: ‘/opt/code/libs/clustermatch/sklearn/__pycache__’: No such file or directory\r\n",
      "find: ‘/opt/code/libs/clustermatch/scipy/__pycache__’: No such file or directory\r\n",
      "find: ‘/opt/code/libs/clustermatch/pytorch/__pycache__’: No such file or directory\r\n"
     ]
    }
   ],
   "source": [
    "!find ${CODE_DIR} -regex '^.*\\(__pycache__\\)$' -exec rm -rf {} \\;"
   ]
  },
  {
   "cell_type": "code",
   "execution_count": 4,
   "id": "5cf4ce29-d611-4fc8-8880-293c09e5ab9a",
   "metadata": {
    "execution": {
     "iopub.execute_input": "2021-11-24T05:50:18.456018Z",
     "iopub.status.busy": "2021-11-24T05:50:18.455516Z",
     "iopub.status.idle": "2021-11-24T05:50:19.065507Z",
     "shell.execute_reply": "2021-11-24T05:50:19.063974Z"
    },
    "papermill": {
     "duration": 0.656976,
     "end_time": "2021-11-24T05:50:19.065896",
     "exception": false,
     "start_time": "2021-11-24T05:50:18.408920",
     "status": "completed"
    },
    "tags": []
   },
   "outputs": [],
   "source": [
    "!find ${CODE_DIR} -regex '^.*\\(__pycache__\\)$' -print"
   ]
  },
  {
   "cell_type": "markdown",
   "id": "35a04385-a901-4726-82a6-a01f16281efe",
   "metadata": {
    "papermill": {
     "duration": 0.043404,
     "end_time": "2021-11-24T05:50:19.185957",
     "exception": false,
     "start_time": "2021-11-24T05:50:19.142553",
     "status": "completed"
    },
    "tags": []
   },
   "source": [
    "# Modules"
   ]
  },
  {
   "cell_type": "code",
   "execution_count": 5,
   "id": "a75c4496-d379-4668-905d-0e9136981f0c",
   "metadata": {
    "execution": {
     "iopub.execute_input": "2021-11-24T05:50:19.276896Z",
     "iopub.status.busy": "2021-11-24T05:50:19.276440Z",
     "iopub.status.idle": "2021-11-24T05:50:19.609515Z",
     "shell.execute_reply": "2021-11-24T05:50:19.609869Z"
    },
    "papermill": {
     "duration": 0.380055,
     "end_time": "2021-11-24T05:50:19.609994",
     "exception": false,
     "start_time": "2021-11-24T05:50:19.229939",
     "status": "completed"
    },
    "tags": []
   },
   "outputs": [],
   "source": [
    "import numpy as np\n",
    "\n",
    "from clustermatch.coef import cm"
   ]
  },
  {
   "cell_type": "code",
   "execution_count": 6,
   "id": "1a58ccf8-1bf5-4177-9b06-944a0d57655a",
   "metadata": {
    "execution": {
     "iopub.execute_input": "2021-11-24T05:50:19.700342Z",
     "iopub.status.busy": "2021-11-24T05:50:19.699805Z",
     "iopub.status.idle": "2021-11-24T05:50:28.375186Z",
     "shell.execute_reply": "2021-11-24T05:50:28.374731Z"
    },
    "papermill": {
     "duration": 8.721829,
     "end_time": "2021-11-24T05:50:28.375284",
     "exception": false,
     "start_time": "2021-11-24T05:50:19.653455",
     "status": "completed"
    },
    "tags": []
   },
   "outputs": [
    {
     "data": {
      "text/plain": [
       "0.0"
      ]
     },
     "execution_count": 6,
     "metadata": {},
     "output_type": "execute_result"
    }
   ],
   "source": [
    "# let numba compile all the code before profiling\n",
    "cm(np.random.rand(10), np.random.rand(10))"
   ]
  },
  {
   "cell_type": "markdown",
   "id": "2c92a1ad-2fc9-4a16-a5f8-fce685246996",
   "metadata": {
    "papermill": {
     "duration": 0.043661,
     "end_time": "2021-11-24T05:50:28.462846",
     "exception": false,
     "start_time": "2021-11-24T05:50:28.419185",
     "status": "completed"
    },
    "tags": []
   },
   "source": [
    "# Data"
   ]
  },
  {
   "cell_type": "code",
   "execution_count": 7,
   "id": "2316ffcd-a6e4-453f-bb52-779685c5c5bf",
   "metadata": {
    "execution": {
     "iopub.execute_input": "2021-11-24T05:50:28.554394Z",
     "iopub.status.busy": "2021-11-24T05:50:28.553945Z",
     "iopub.status.idle": "2021-11-24T05:50:28.556298Z",
     "shell.execute_reply": "2021-11-24T05:50:28.555826Z"
    },
    "papermill": {
     "duration": 0.049425,
     "end_time": "2021-11-24T05:50:28.556395",
     "exception": false,
     "start_time": "2021-11-24T05:50:28.506970",
     "status": "completed"
    },
    "tags": []
   },
   "outputs": [],
   "source": [
    "n_genes, n_samples = 10, 30000"
   ]
  },
  {
   "cell_type": "code",
   "execution_count": 8,
   "id": "b2f92fb1-113d-479b-8bbf-2be229e26e8f",
   "metadata": {
    "execution": {
     "iopub.execute_input": "2021-11-24T05:50:28.648298Z",
     "iopub.status.busy": "2021-11-24T05:50:28.647806Z",
     "iopub.status.idle": "2021-11-24T05:50:28.649802Z",
     "shell.execute_reply": "2021-11-24T05:50:28.649434Z"
    },
    "papermill": {
     "duration": 0.048843,
     "end_time": "2021-11-24T05:50:28.649901",
     "exception": false,
     "start_time": "2021-11-24T05:50:28.601058",
     "status": "completed"
    },
    "tags": []
   },
   "outputs": [],
   "source": [
    "np.random.seed(0)"
   ]
  },
  {
   "cell_type": "code",
   "execution_count": 9,
   "id": "63638c0b-b436-48a9-93e0-db2adb939a61",
   "metadata": {
    "execution": {
     "iopub.execute_input": "2021-11-24T05:50:28.741081Z",
     "iopub.status.busy": "2021-11-24T05:50:28.740642Z",
     "iopub.status.idle": "2021-11-24T05:50:28.745749Z",
     "shell.execute_reply": "2021-11-24T05:50:28.745286Z"
    },
    "papermill": {
     "duration": 0.051988,
     "end_time": "2021-11-24T05:50:28.745849",
     "exception": false,
     "start_time": "2021-11-24T05:50:28.693861",
     "status": "completed"
    },
    "tags": []
   },
   "outputs": [],
   "source": [
    "data = np.random.rand(n_genes, n_samples)"
   ]
  },
  {
   "cell_type": "code",
   "execution_count": 10,
   "id": "808017ed-9a8a-4bf7-a3dd-42317a39ce8f",
   "metadata": {
    "execution": {
     "iopub.execute_input": "2021-11-24T05:50:28.842578Z",
     "iopub.status.busy": "2021-11-24T05:50:28.842011Z",
     "iopub.status.idle": "2021-11-24T05:50:28.844558Z",
     "shell.execute_reply": "2021-11-24T05:50:28.845005Z"
    },
    "papermill": {
     "duration": 0.053637,
     "end_time": "2021-11-24T05:50:28.845149",
     "exception": false,
     "start_time": "2021-11-24T05:50:28.791512",
     "status": "completed"
    },
    "tags": []
   },
   "outputs": [
    {
     "data": {
      "text/plain": [
       "(10, 30000)"
      ]
     },
     "execution_count": 10,
     "metadata": {},
     "output_type": "execute_result"
    }
   ],
   "source": [
    "data.shape"
   ]
  },
  {
   "cell_type": "markdown",
   "id": "716e4219-cad5-453b-8331-47d310689e03",
   "metadata": {
    "papermill": {
     "duration": 0.04493,
     "end_time": "2021-11-24T05:50:28.938375",
     "exception": false,
     "start_time": "2021-11-24T05:50:28.893445",
     "status": "completed"
    },
    "tags": []
   },
   "source": [
    "# With default `internal_n_clusters`"
   ]
  },
  {
   "cell_type": "code",
   "execution_count": 11,
   "id": "67807856-f337-4c6e-ae31-cd306577a314",
   "metadata": {
    "execution": {
     "iopub.execute_input": "2021-11-24T05:50:29.031804Z",
     "iopub.status.busy": "2021-11-24T05:50:29.031362Z",
     "iopub.status.idle": "2021-11-24T05:50:29.033644Z",
     "shell.execute_reply": "2021-11-24T05:50:29.033212Z"
    },
    "papermill": {
     "duration": 0.050314,
     "end_time": "2021-11-24T05:50:29.033737",
     "exception": false,
     "start_time": "2021-11-24T05:50:28.983423",
     "status": "completed"
    },
    "tags": []
   },
   "outputs": [],
   "source": [
    "def func():\n",
    "    n_clust = list(range(2, 10 + 1))\n",
    "    return cm(data, internal_n_clusters=n_clust)"
   ]
  },
  {
   "cell_type": "code",
   "execution_count": 12,
   "id": "2965a695-5c0c-4e9e-8435-dcbfa610eb81",
   "metadata": {
    "execution": {
     "iopub.execute_input": "2021-11-24T05:50:29.136288Z",
     "iopub.status.busy": "2021-11-24T05:50:29.130402Z",
     "iopub.status.idle": "2021-11-24T05:51:36.694860Z",
     "shell.execute_reply": "2021-11-24T05:51:36.695206Z"
    },
    "papermill": {
     "duration": 67.616117,
     "end_time": "2021-11-24T05:51:36.695315",
     "exception": false,
     "start_time": "2021-11-24T05:50:29.079198",
     "status": "completed"
    },
    "tags": []
   },
   "outputs": [
    {
     "name": "stdout",
     "output_type": "stream",
     "text": [
      "4.18 s ± 13.3 ms per loop (mean ± std. dev. of 7 runs, 1 loop each)\n"
     ]
    }
   ],
   "source": [
    "%%timeit func()\n",
    "func()"
   ]
  },
  {
   "cell_type": "code",
   "execution_count": 13,
   "id": "51c7a416-064a-4669-a09f-16f837d32475",
   "metadata": {
    "execution": {
     "iopub.execute_input": "2021-11-24T05:51:36.791451Z",
     "iopub.status.busy": "2021-11-24T05:51:36.790973Z",
     "iopub.status.idle": "2021-11-24T05:51:40.956364Z",
     "shell.execute_reply": "2021-11-24T05:51:40.956734Z"
    },
    "papermill": {
     "duration": 4.216608,
     "end_time": "2021-11-24T05:51:40.956854",
     "exception": false,
     "start_time": "2021-11-24T05:51:36.740246",
     "status": "completed"
    },
    "tags": []
   },
   "outputs": [
    {
     "name": "stdout",
     "output_type": "stream",
     "text": [
      " \n",
      "*** Profile printout saved to text file '07-cm_many_samples-default_internal_n_clusters.txt'. \n"
     ]
    }
   ],
   "source": [
    "%%prun -s cumulative -l 50 -T 07-cm_many_samples-default_internal_n_clusters.txt\n",
    "func()"
   ]
  },
  {
   "cell_type": "markdown",
   "id": "025974ff-06d4-4d82-9b05-03f7a84d7211",
   "metadata": {
    "papermill": {
     "duration": 0.046069,
     "end_time": "2021-11-24T05:51:41.049946",
     "exception": false,
     "start_time": "2021-11-24T05:51:41.003877",
     "status": "completed"
    },
    "tags": []
   },
   "source": [
    "# With reduced `internal_n_clusters`"
   ]
  },
  {
   "cell_type": "code",
   "execution_count": 14,
   "id": "c20c4ecf-8060-495e-92b0-eb8e0d0dfbf3",
   "metadata": {
    "execution": {
     "iopub.execute_input": "2021-11-24T05:51:41.152862Z",
     "iopub.status.busy": "2021-11-24T05:51:41.152369Z",
     "iopub.status.idle": "2021-11-24T05:51:41.153871Z",
     "shell.execute_reply": "2021-11-24T05:51:41.154236Z"
    },
    "papermill": {
     "duration": 0.058,
     "end_time": "2021-11-24T05:51:41.154373",
     "exception": false,
     "start_time": "2021-11-24T05:51:41.096373",
     "status": "completed"
    },
    "tags": []
   },
   "outputs": [],
   "source": [
    "def func():\n",
    "    n_clust = list(range(2, 5 + 1))\n",
    "    return cm(data, internal_n_clusters=n_clust)"
   ]
  },
  {
   "cell_type": "code",
   "execution_count": 15,
   "id": "11259d8c-3bf3-4299-b47b-211556c3bc08",
   "metadata": {
    "execution": {
     "iopub.execute_input": "2021-11-24T05:51:41.254965Z",
     "iopub.status.busy": "2021-11-24T05:51:41.254480Z",
     "iopub.status.idle": "2021-11-24T05:51:50.928357Z",
     "shell.execute_reply": "2021-11-24T05:51:50.927848Z"
    },
    "papermill": {
     "duration": 9.726169,
     "end_time": "2021-11-24T05:51:50.928465",
     "exception": false,
     "start_time": "2021-11-24T05:51:41.202296",
     "status": "completed"
    },
    "tags": []
   },
   "outputs": [
    {
     "name": "stdout",
     "output_type": "stream",
     "text": [
      "605 ms ± 1.61 ms per loop (mean ± std. dev. of 7 runs, 1 loop each)\n"
     ]
    }
   ],
   "source": [
    "%%timeit func()\n",
    "func()"
   ]
  },
  {
   "cell_type": "code",
   "execution_count": 16,
   "id": "42d9e6e0-3c01-46e1-a409-52ff26cb78f4",
   "metadata": {
    "execution": {
     "iopub.execute_input": "2021-11-24T05:51:51.027549Z",
     "iopub.status.busy": "2021-11-24T05:51:51.027077Z",
     "iopub.status.idle": "2021-11-24T05:51:51.634338Z",
     "shell.execute_reply": "2021-11-24T05:51:51.633882Z"
    },
    "papermill": {
     "duration": 0.658734,
     "end_time": "2021-11-24T05:51:51.634433",
     "exception": false,
     "start_time": "2021-11-24T05:51:50.975699",
     "status": "completed"
    },
    "tags": []
   },
   "outputs": [
    {
     "name": "stdout",
     "output_type": "stream",
     "text": [
      " \n",
      "*** Profile printout saved to text file '07-cm_many_samples-less_internal_n_clusters.txt'. \n"
     ]
    }
   ],
   "source": [
    "%%prun -s cumulative -l 50 -T 07-cm_many_samples-less_internal_n_clusters.txt\n",
    "func()"
   ]
  },
  {
   "cell_type": "code",
   "execution_count": null,
   "id": "e2556204-1c10-4e01-8c6c-ea63ddb37530",
   "metadata": {
    "papermill": {
     "duration": 0.047569,
     "end_time": "2021-11-24T05:51:51.729977",
     "exception": false,
     "start_time": "2021-11-24T05:51:51.682408",
     "status": "completed"
    },
    "tags": []
   },
   "outputs": [],
   "source": []
  }
 ],
 "metadata": {
  "jupytext": {
   "cell_metadata_filter": "all,-execution,-papermill,-trusted"
  },
  "kernelspec": {
   "display_name": "Python 3 (ipykernel)",
   "language": "python",
   "name": "python3"
  },
  "language_info": {
   "codemirror_mode": {
    "name": "ipython",
    "version": 3
   },
   "file_extension": ".py",
   "mimetype": "text/x-python",
   "name": "python",
   "nbconvert_exporter": "python",
   "pygments_lexer": "ipython3",
   "version": "3.9.7"
  },
  "papermill": {
   "default_parameters": {},
   "duration": 97.37954,
   "end_time": "2021-11-24T05:51:52.184353",
   "environment_variables": {},
   "exception": null,
   "input_path": "nbs/others/05_clustermatch_profiling/11_cm_optimized/07-many_samples.ipynb",
   "output_path": "nbs/others/05_clustermatch_profiling/11_cm_optimized/07-many_samples.run.ipynb",
   "parameters": {},
   "start_time": "2021-11-24T05:50:14.804813",
   "version": "2.3.3"
  }
 },
 "nbformat": 4,
 "nbformat_minor": 5
}
