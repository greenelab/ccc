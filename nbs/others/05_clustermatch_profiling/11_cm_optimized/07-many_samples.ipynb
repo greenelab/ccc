{
 "cells": [
  {
   "cell_type": "markdown",
   "id": "fd52facb-2470-4824-83d4-7c9fd042ecfb",
   "metadata": {
    "papermill": {
     "duration": 0.078609,
     "end_time": "2021-12-02T06:59:16.664384",
     "exception": false,
     "start_time": "2021-12-02T06:59:16.585775",
     "status": "completed"
    },
    "tags": []
   },
   "source": [
    "# Description"
   ]
  },
  {
   "cell_type": "markdown",
   "id": "b95a9893-d5af-400c-9872-dcf70ec874fb",
   "metadata": {
    "papermill": {
     "duration": 0.047112,
     "end_time": "2021-12-02T06:59:16.751582",
     "exception": false,
     "start_time": "2021-12-02T06:59:16.704470",
     "status": "completed"
    },
    "tags": []
   },
   "source": [
    "Clustermatch run using a larger number of samples."
   ]
  },
  {
   "cell_type": "markdown",
   "id": "325cb06a-df7f-43e8-be3e-f704aaf015b0",
   "metadata": {
    "papermill": {
     "duration": 0.041181,
     "end_time": "2021-12-02T06:59:16.834168",
     "exception": false,
     "start_time": "2021-12-02T06:59:16.792987",
     "status": "completed"
    },
    "tags": []
   },
   "source": [
    "# Remove pycache dir"
   ]
  },
  {
   "cell_type": "code",
   "execution_count": 1,
   "id": "73f954a6-1776-4b92-bd0e-fc3caf5df081",
   "metadata": {
    "execution": {
     "iopub.execute_input": "2021-12-02T06:59:16.921167Z",
     "iopub.status.busy": "2021-12-02T06:59:16.920693Z",
     "iopub.status.idle": "2021-12-02T06:59:17.506838Z",
     "shell.execute_reply": "2021-12-02T06:59:17.505077Z"
    },
    "papermill": {
     "duration": 0.633124,
     "end_time": "2021-12-02T06:59:17.507269",
     "exception": false,
     "start_time": "2021-12-02T06:59:16.874145",
     "status": "completed"
    },
    "tags": []
   },
   "outputs": [
    {
     "name": "stdout",
     "output_type": "stream",
     "text": [
      "/opt/code\r\n"
     ]
    }
   ],
   "source": [
    "!echo ${CODE_DIR}"
   ]
  },
  {
   "cell_type": "code",
   "execution_count": 2,
   "id": "d17492bb-34fe-4c34-a693-419180ba068e",
   "metadata": {
    "execution": {
     "iopub.execute_input": "2021-12-02T06:59:17.595660Z",
     "iopub.status.busy": "2021-12-02T06:59:17.593712Z",
     "iopub.status.idle": "2021-12-02T06:59:18.209352Z",
     "shell.execute_reply": "2021-12-02T06:59:18.207035Z"
    },
    "papermill": {
     "duration": 0.660213,
     "end_time": "2021-12-02T06:59:18.209740",
     "exception": false,
     "start_time": "2021-12-02T06:59:17.549527",
     "status": "completed"
    },
    "tags": []
   },
   "outputs": [
    {
     "name": "stdout",
     "output_type": "stream",
     "text": [
      "/opt/code/libs/clustermatch/__pycache__\r\n",
      "/opt/code/libs/clustermatch/sklearn/__pycache__\r\n",
      "/opt/code/libs/clustermatch/scipy/__pycache__\r\n",
      "/opt/code/libs/clustermatch/pytorch/__pycache__\r\n"
     ]
    }
   ],
   "source": [
    "!find ${CODE_DIR} -regex '^.*\\(__pycache__\\)$' -print"
   ]
  },
  {
   "cell_type": "code",
   "execution_count": 3,
   "id": "5683e330-1782-43b3-bb78-255198f03620",
   "metadata": {
    "execution": {
     "iopub.execute_input": "2021-12-02T06:59:18.330716Z",
     "iopub.status.busy": "2021-12-02T06:59:18.330235Z",
     "iopub.status.idle": "2021-12-02T06:59:18.939717Z",
     "shell.execute_reply": "2021-12-02T06:59:18.941520Z"
    },
    "papermill": {
     "duration": 0.657681,
     "end_time": "2021-12-02T06:59:18.941967",
     "exception": false,
     "start_time": "2021-12-02T06:59:18.284286",
     "status": "completed"
    },
    "tags": []
   },
   "outputs": [],
   "source": [
    "!find ${CODE_DIR} -regex '^.*\\(__pycache__\\)$' -prune -exec rm -rf {} \\;"
   ]
  },
  {
   "cell_type": "code",
   "execution_count": 4,
   "id": "5cf4ce29-d611-4fc8-8880-293c09e5ab9a",
   "metadata": {
    "execution": {
     "iopub.execute_input": "2021-12-02T06:59:19.062516Z",
     "iopub.status.busy": "2021-12-02T06:59:19.060402Z",
     "iopub.status.idle": "2021-12-02T06:59:19.664542Z",
     "shell.execute_reply": "2021-12-02T06:59:19.662876Z"
    },
    "papermill": {
     "duration": 0.650322,
     "end_time": "2021-12-02T06:59:19.664925",
     "exception": false,
     "start_time": "2021-12-02T06:59:19.014603",
     "status": "completed"
    },
    "tags": []
   },
   "outputs": [],
   "source": [
    "!find ${CODE_DIR} -regex '^.*\\(__pycache__\\)$' -print"
   ]
  },
  {
   "cell_type": "markdown",
   "id": "35a04385-a901-4726-82a6-a01f16281efe",
   "metadata": {
    "papermill": {
     "duration": 0.048275,
     "end_time": "2021-12-02T06:59:19.790991",
     "exception": false,
     "start_time": "2021-12-02T06:59:19.742716",
     "status": "completed"
    },
    "tags": []
   },
   "source": [
    "# Modules"
   ]
  },
  {
   "cell_type": "code",
   "execution_count": 5,
   "id": "a75c4496-d379-4668-905d-0e9136981f0c",
   "metadata": {
    "execution": {
     "iopub.execute_input": "2021-12-02T06:59:19.878688Z",
     "iopub.status.busy": "2021-12-02T06:59:19.878228Z",
     "iopub.status.idle": "2021-12-02T06:59:20.199076Z",
     "shell.execute_reply": "2021-12-02T06:59:20.198611Z"
    },
    "papermill": {
     "duration": 0.366396,
     "end_time": "2021-12-02T06:59:20.199189",
     "exception": false,
     "start_time": "2021-12-02T06:59:19.832793",
     "status": "completed"
    },
    "tags": []
   },
   "outputs": [],
   "source": [
    "import numpy as np\n",
    "\n",
    "from clustermatch.coef import cm"
   ]
  },
  {
   "cell_type": "code",
   "execution_count": 6,
   "id": "1a58ccf8-1bf5-4177-9b06-944a0d57655a",
   "metadata": {
    "execution": {
     "iopub.execute_input": "2021-12-02T06:59:20.287189Z",
     "iopub.status.busy": "2021-12-02T06:59:20.286732Z",
     "iopub.status.idle": "2021-12-02T06:59:28.997990Z",
     "shell.execute_reply": "2021-12-02T06:59:28.997628Z"
    },
    "papermill": {
     "duration": 8.756092,
     "end_time": "2021-12-02T06:59:28.998089",
     "exception": false,
     "start_time": "2021-12-02T06:59:20.241997",
     "status": "completed"
    },
    "tags": []
   },
   "outputs": [
    {
     "data": {
      "text/plain": [
       "0.0"
      ]
     },
     "execution_count": 6,
     "metadata": {},
     "output_type": "execute_result"
    }
   ],
   "source": [
    "# let numba compile all the code before profiling\n",
    "cm(np.random.rand(10), np.random.rand(10))"
   ]
  },
  {
   "cell_type": "markdown",
   "id": "2c92a1ad-2fc9-4a16-a5f8-fce685246996",
   "metadata": {
    "papermill": {
     "duration": 0.041925,
     "end_time": "2021-12-02T06:59:29.083174",
     "exception": false,
     "start_time": "2021-12-02T06:59:29.041249",
     "status": "completed"
    },
    "tags": []
   },
   "source": [
    "# Data"
   ]
  },
  {
   "cell_type": "code",
   "execution_count": 7,
   "id": "2316ffcd-a6e4-453f-bb52-779685c5c5bf",
   "metadata": {
    "execution": {
     "iopub.execute_input": "2021-12-02T06:59:29.170685Z",
     "iopub.status.busy": "2021-12-02T06:59:29.170220Z",
     "iopub.status.idle": "2021-12-02T06:59:29.171675Z",
     "shell.execute_reply": "2021-12-02T06:59:29.172043Z"
    },
    "papermill": {
     "duration": 0.046862,
     "end_time": "2021-12-02T06:59:29.172158",
     "exception": false,
     "start_time": "2021-12-02T06:59:29.125296",
     "status": "completed"
    },
    "tags": []
   },
   "outputs": [],
   "source": [
    "n_genes, n_samples = 10, 30000"
   ]
  },
  {
   "cell_type": "code",
   "execution_count": 8,
   "id": "b2f92fb1-113d-479b-8bbf-2be229e26e8f",
   "metadata": {
    "execution": {
     "iopub.execute_input": "2021-12-02T06:59:29.260657Z",
     "iopub.status.busy": "2021-12-02T06:59:29.260199Z",
     "iopub.status.idle": "2021-12-02T06:59:29.261710Z",
     "shell.execute_reply": "2021-12-02T06:59:29.262074Z"
    },
    "papermill": {
     "duration": 0.047328,
     "end_time": "2021-12-02T06:59:29.262188",
     "exception": false,
     "start_time": "2021-12-02T06:59:29.214860",
     "status": "completed"
    },
    "tags": []
   },
   "outputs": [],
   "source": [
    "np.random.seed(0)"
   ]
  },
  {
   "cell_type": "code",
   "execution_count": 9,
   "id": "63638c0b-b436-48a9-93e0-db2adb939a61",
   "metadata": {
    "execution": {
     "iopub.execute_input": "2021-12-02T06:59:29.350274Z",
     "iopub.status.busy": "2021-12-02T06:59:29.349833Z",
     "iopub.status.idle": "2021-12-02T06:59:29.355055Z",
     "shell.execute_reply": "2021-12-02T06:59:29.354611Z"
    },
    "papermill": {
     "duration": 0.050418,
     "end_time": "2021-12-02T06:59:29.355151",
     "exception": false,
     "start_time": "2021-12-02T06:59:29.304733",
     "status": "completed"
    },
    "tags": []
   },
   "outputs": [],
   "source": [
    "data = np.random.rand(n_genes, n_samples)"
   ]
  },
  {
   "cell_type": "code",
   "execution_count": 10,
   "id": "808017ed-9a8a-4bf7-a3dd-42317a39ce8f",
   "metadata": {
    "execution": {
     "iopub.execute_input": "2021-12-02T06:59:29.444349Z",
     "iopub.status.busy": "2021-12-02T06:59:29.443759Z",
     "iopub.status.idle": "2021-12-02T06:59:29.446135Z",
     "shell.execute_reply": "2021-12-02T06:59:29.446508Z"
    },
    "papermill": {
     "duration": 0.048957,
     "end_time": "2021-12-02T06:59:29.446627",
     "exception": false,
     "start_time": "2021-12-02T06:59:29.397670",
     "status": "completed"
    },
    "tags": []
   },
   "outputs": [
    {
     "data": {
      "text/plain": [
       "(10, 30000)"
      ]
     },
     "execution_count": 10,
     "metadata": {},
     "output_type": "execute_result"
    }
   ],
   "source": [
    "data.shape"
   ]
  },
  {
   "cell_type": "markdown",
   "id": "716e4219-cad5-453b-8331-47d310689e03",
   "metadata": {
    "papermill": {
     "duration": 0.042774,
     "end_time": "2021-12-02T06:59:29.532908",
     "exception": false,
     "start_time": "2021-12-02T06:59:29.490134",
     "status": "completed"
    },
    "tags": []
   },
   "source": [
    "# With default `internal_n_clusters`"
   ]
  },
  {
   "cell_type": "code",
   "execution_count": 11,
   "id": "67807856-f337-4c6e-ae31-cd306577a314",
   "metadata": {
    "execution": {
     "iopub.execute_input": "2021-12-02T06:59:29.622372Z",
     "iopub.status.busy": "2021-12-02T06:59:29.621919Z",
     "iopub.status.idle": "2021-12-02T06:59:29.624063Z",
     "shell.execute_reply": "2021-12-02T06:59:29.623588Z"
    },
    "papermill": {
     "duration": 0.048336,
     "end_time": "2021-12-02T06:59:29.624160",
     "exception": false,
     "start_time": "2021-12-02T06:59:29.575824",
     "status": "completed"
    },
    "tags": []
   },
   "outputs": [],
   "source": [
    "def func():\n",
    "    n_clust = list(range(2, 10 + 1))\n",
    "    return cm(data, internal_n_clusters=n_clust)"
   ]
  },
  {
   "cell_type": "code",
   "execution_count": 12,
   "id": "2965a695-5c0c-4e9e-8435-dcbfa610eb81",
   "metadata": {
    "execution": {
     "iopub.execute_input": "2021-12-02T06:59:29.724187Z",
     "iopub.status.busy": "2021-12-02T06:59:29.718062Z",
     "iopub.status.idle": "2021-12-02T07:00:33.612706Z",
     "shell.execute_reply": "2021-12-02T07:00:33.613056Z"
    },
    "papermill": {
     "duration": 63.9455,
     "end_time": "2021-12-02T07:00:33.613170",
     "exception": false,
     "start_time": "2021-12-02T06:59:29.667670",
     "status": "completed"
    },
    "tags": []
   },
   "outputs": [
    {
     "name": "stdout",
     "output_type": "stream",
     "text": [
      "3.95 s ± 6.19 ms per loop (mean ± std. dev. of 7 runs, 1 loop each)\n"
     ]
    }
   ],
   "source": [
    "%%timeit func()\n",
    "func()"
   ]
  },
  {
   "cell_type": "code",
   "execution_count": 13,
   "id": "51c7a416-064a-4669-a09f-16f837d32475",
   "metadata": {
    "execution": {
     "iopub.execute_input": "2021-12-02T07:00:33.706095Z",
     "iopub.status.busy": "2021-12-02T07:00:33.705592Z",
     "iopub.status.idle": "2021-12-02T07:00:37.652175Z",
     "shell.execute_reply": "2021-12-02T07:00:37.652548Z"
    },
    "papermill": {
     "duration": 3.995521,
     "end_time": "2021-12-02T07:00:37.652669",
     "exception": false,
     "start_time": "2021-12-02T07:00:33.657148",
     "status": "completed"
    },
    "tags": []
   },
   "outputs": [
    {
     "name": "stdout",
     "output_type": "stream",
     "text": [
      " \n",
      "*** Profile printout saved to text file '07-cm_many_samples-default_internal_n_clusters.txt'. \n"
     ]
    }
   ],
   "source": [
    "%%prun -s cumulative -l 50 -T 07-cm_many_samples-default_internal_n_clusters.txt\n",
    "func()"
   ]
  },
  {
   "cell_type": "markdown",
   "id": "025974ff-06d4-4d82-9b05-03f7a84d7211",
   "metadata": {
    "papermill": {
     "duration": 0.044552,
     "end_time": "2021-12-02T07:00:37.742342",
     "exception": false,
     "start_time": "2021-12-02T07:00:37.697790",
     "status": "completed"
    },
    "tags": []
   },
   "source": [
    "# With reduced `internal_n_clusters`"
   ]
  },
  {
   "cell_type": "code",
   "execution_count": 14,
   "id": "c20c4ecf-8060-495e-92b0-eb8e0d0dfbf3",
   "metadata": {
    "execution": {
     "iopub.execute_input": "2021-12-02T07:00:37.836708Z",
     "iopub.status.busy": "2021-12-02T07:00:37.836258Z",
     "iopub.status.idle": "2021-12-02T07:00:37.838132Z",
     "shell.execute_reply": "2021-12-02T07:00:37.837760Z"
    },
    "papermill": {
     "duration": 0.050727,
     "end_time": "2021-12-02T07:00:37.838231",
     "exception": false,
     "start_time": "2021-12-02T07:00:37.787504",
     "status": "completed"
    },
    "tags": []
   },
   "outputs": [],
   "source": [
    "def func():\n",
    "    n_clust = list(range(2, 5 + 1))\n",
    "    return cm(data, internal_n_clusters=n_clust)"
   ]
  },
  {
   "cell_type": "code",
   "execution_count": 15,
   "id": "11259d8c-3bf3-4299-b47b-211556c3bc08",
   "metadata": {
    "execution": {
     "iopub.execute_input": "2021-12-02T07:00:37.934199Z",
     "iopub.status.busy": "2021-12-02T07:00:37.933707Z",
     "iopub.status.idle": "2021-12-02T07:00:47.152758Z",
     "shell.execute_reply": "2021-12-02T07:00:47.153141Z"
    },
    "papermill": {
     "duration": 9.268437,
     "end_time": "2021-12-02T07:00:47.153255",
     "exception": false,
     "start_time": "2021-12-02T07:00:37.884818",
     "status": "completed"
    },
    "tags": []
   },
   "outputs": [
    {
     "name": "stdout",
     "output_type": "stream",
     "text": [
      "576 ms ± 2.06 ms per loop (mean ± std. dev. of 7 runs, 1 loop each)\n"
     ]
    }
   ],
   "source": [
    "%%timeit func()\n",
    "func()"
   ]
  },
  {
   "cell_type": "code",
   "execution_count": 16,
   "id": "42d9e6e0-3c01-46e1-a409-52ff26cb78f4",
   "metadata": {
    "execution": {
     "iopub.execute_input": "2021-12-02T07:00:47.250738Z",
     "iopub.status.busy": "2021-12-02T07:00:47.250251Z",
     "iopub.status.idle": "2021-12-02T07:00:47.827424Z",
     "shell.execute_reply": "2021-12-02T07:00:47.827003Z"
    },
    "papermill": {
     "duration": 0.627703,
     "end_time": "2021-12-02T07:00:47.827521",
     "exception": false,
     "start_time": "2021-12-02T07:00:47.199818",
     "status": "completed"
    },
    "tags": []
   },
   "outputs": [
    {
     "name": "stdout",
     "output_type": "stream",
     "text": [
      " \n",
      "*** Profile printout saved to text file '07-cm_many_samples-less_internal_n_clusters.txt'. \n"
     ]
    }
   ],
   "source": [
    "%%prun -s cumulative -l 50 -T 07-cm_many_samples-less_internal_n_clusters.txt\n",
    "func()"
   ]
  },
  {
   "cell_type": "code",
   "execution_count": null,
   "id": "e2556204-1c10-4e01-8c6c-ea63ddb37530",
   "metadata": {
    "papermill": {
     "duration": 0.046049,
     "end_time": "2021-12-02T07:00:47.921401",
     "exception": false,
     "start_time": "2021-12-02T07:00:47.875352",
     "status": "completed"
    },
    "tags": []
   },
   "outputs": [],
   "source": []
  }
 ],
 "metadata": {
  "jupytext": {
   "cell_metadata_filter": "all,-execution,-papermill,-trusted"
  },
  "kernelspec": {
   "display_name": "Python 3 (ipykernel)",
   "language": "python",
   "name": "python3"
  },
  "language_info": {
   "codemirror_mode": {
    "name": "ipython",
    "version": 3
   },
   "file_extension": ".py",
   "mimetype": "text/x-python",
   "name": "python",
   "nbconvert_exporter": "python",
   "pygments_lexer": "ipython3",
   "version": "3.9.7"
  },
  "papermill": {
   "default_parameters": {},
   "duration": 93.013986,
   "end_time": "2021-12-02T07:00:48.374765",
   "environment_variables": {},
   "exception": null,
   "input_path": "nbs/others/05_clustermatch_profiling/11_cm_optimized/07-many_samples.ipynb",
   "output_path": "nbs/others/05_clustermatch_profiling/11_cm_optimized/07-many_samples.run.ipynb",
   "parameters": {},
   "start_time": "2021-12-02T06:59:15.360779",
   "version": "2.3.3"
  }
 },
 "nbformat": 4,
 "nbformat_minor": 5
}
