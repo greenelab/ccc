{
 "cells": [
  {
   "cell_type": "markdown",
   "id": "fd52facb-2470-4824-83d4-7c9fd042ecfb",
   "metadata": {
    "papermill": {
     "duration": 0.079534,
     "end_time": "2021-11-19T20:25:17.046123",
     "exception": false,
     "start_time": "2021-11-19T20:25:16.966589",
     "status": "completed"
    },
    "tags": []
   },
   "source": [
    "# Description"
   ]
  },
  {
   "cell_type": "markdown",
   "id": "b95a9893-d5af-400c-9872-dcf70ec874fb",
   "metadata": {
    "papermill": {
     "duration": 0.039051,
     "end_time": "2021-11-19T20:25:17.123685",
     "exception": false,
     "start_time": "2021-11-19T20:25:17.084634",
     "status": "completed"
    },
    "tags": []
   },
   "source": [
    "Clustermatch run using a larger number of samples."
   ]
  },
  {
   "cell_type": "markdown",
   "id": "325cb06a-df7f-43e8-be3e-f704aaf015b0",
   "metadata": {
    "papermill": {
     "duration": 0.038402,
     "end_time": "2021-11-19T20:25:17.200736",
     "exception": false,
     "start_time": "2021-11-19T20:25:17.162334",
     "status": "completed"
    },
    "tags": []
   },
   "source": [
    "# Remove pycache dir"
   ]
  },
  {
   "cell_type": "code",
   "execution_count": 1,
   "id": "73f954a6-1776-4b92-bd0e-fc3caf5df081",
   "metadata": {
    "execution": {
     "iopub.execute_input": "2021-11-19T20:25:17.285013Z",
     "iopub.status.busy": "2021-11-19T20:25:17.284535Z",
     "iopub.status.idle": "2021-11-19T20:25:17.875428Z",
     "shell.execute_reply": "2021-11-19T20:25:17.877132Z"
    },
    "papermill": {
     "duration": 0.638416,
     "end_time": "2021-11-19T20:25:17.877799",
     "exception": false,
     "start_time": "2021-11-19T20:25:17.239383",
     "status": "completed"
    },
    "tags": []
   },
   "outputs": [
    {
     "name": "stdout",
     "output_type": "stream",
     "text": [
      "/opt/code\r\n"
     ]
    }
   ],
   "source": [
    "!echo ${CODE_DIR}"
   ]
  },
  {
   "cell_type": "code",
   "execution_count": 2,
   "id": "d17492bb-34fe-4c34-a693-419180ba068e",
   "metadata": {
    "execution": {
     "iopub.execute_input": "2021-11-19T20:25:17.963448Z",
     "iopub.status.busy": "2021-11-19T20:25:17.962998Z",
     "iopub.status.idle": "2021-11-19T20:25:18.579963Z",
     "shell.execute_reply": "2021-11-19T20:25:18.581426Z"
    },
    "papermill": {
     "duration": 0.662736,
     "end_time": "2021-11-19T20:25:18.581883",
     "exception": false,
     "start_time": "2021-11-19T20:25:17.919147",
     "status": "completed"
    },
    "tags": []
   },
   "outputs": [
    {
     "name": "stdout",
     "output_type": "stream",
     "text": [
      "/opt/code/libs/clustermatch/__pycache__\r\n"
     ]
    }
   ],
   "source": [
    "!find ${CODE_DIR} -regex '^.*\\(__pycache__\\)$' -print"
   ]
  },
  {
   "cell_type": "code",
   "execution_count": 3,
   "id": "5683e330-1782-43b3-bb78-255198f03620",
   "metadata": {
    "execution": {
     "iopub.execute_input": "2021-11-19T20:25:18.670369Z",
     "iopub.status.busy": "2021-11-19T20:25:18.669907Z",
     "iopub.status.idle": "2021-11-19T20:25:19.280701Z",
     "shell.execute_reply": "2021-11-19T20:25:19.282228Z"
    },
    "papermill": {
     "duration": 0.657024,
     "end_time": "2021-11-19T20:25:19.282677",
     "exception": false,
     "start_time": "2021-11-19T20:25:18.625653",
     "status": "completed"
    },
    "tags": []
   },
   "outputs": [
    {
     "name": "stdout",
     "output_type": "stream",
     "text": [
      "find: ‘/opt/code/libs/clustermatch/__pycache__’: No such file or directory\r\n"
     ]
    }
   ],
   "source": [
    "!find ${CODE_DIR} -regex '^.*\\(__pycache__\\)$' -exec rm -rf {} \\;"
   ]
  },
  {
   "cell_type": "code",
   "execution_count": 4,
   "id": "5cf4ce29-d611-4fc8-8880-293c09e5ab9a",
   "metadata": {
    "execution": {
     "iopub.execute_input": "2021-11-19T20:25:19.371680Z",
     "iopub.status.busy": "2021-11-19T20:25:19.371207Z",
     "iopub.status.idle": "2021-11-19T20:25:19.975917Z",
     "shell.execute_reply": "2021-11-19T20:25:19.974169Z"
    },
    "papermill": {
     "duration": 0.650008,
     "end_time": "2021-11-19T20:25:19.976301",
     "exception": false,
     "start_time": "2021-11-19T20:25:19.326293",
     "status": "completed"
    },
    "tags": []
   },
   "outputs": [],
   "source": [
    "!find ${CODE_DIR} -regex '^.*\\(__pycache__\\)$' -print"
   ]
  },
  {
   "cell_type": "markdown",
   "id": "35a04385-a901-4726-82a6-a01f16281efe",
   "metadata": {
    "papermill": {
     "duration": 0.052258,
     "end_time": "2021-11-19T20:25:20.081995",
     "exception": false,
     "start_time": "2021-11-19T20:25:20.029737",
     "status": "completed"
    },
    "tags": []
   },
   "source": [
    "# Modules"
   ]
  },
  {
   "cell_type": "code",
   "execution_count": 5,
   "id": "a75c4496-d379-4668-905d-0e9136981f0c",
   "metadata": {
    "execution": {
     "iopub.execute_input": "2021-11-19T20:25:20.173058Z",
     "iopub.status.busy": "2021-11-19T20:25:20.172587Z",
     "iopub.status.idle": "2021-11-19T20:25:20.487501Z",
     "shell.execute_reply": "2021-11-19T20:25:20.487031Z"
    },
    "papermill": {
     "duration": 0.360699,
     "end_time": "2021-11-19T20:25:20.487600",
     "exception": false,
     "start_time": "2021-11-19T20:25:20.126901",
     "status": "completed"
    },
    "tags": []
   },
   "outputs": [],
   "source": [
    "import numpy as np\n",
    "\n",
    "from clustermatch.coef import cm"
   ]
  },
  {
   "cell_type": "code",
   "execution_count": 6,
   "id": "1a58ccf8-1bf5-4177-9b06-944a0d57655a",
   "metadata": {
    "execution": {
     "iopub.execute_input": "2021-11-19T20:25:20.576417Z",
     "iopub.status.busy": "2021-11-19T20:25:20.575950Z",
     "iopub.status.idle": "2021-11-19T20:25:42.225309Z",
     "shell.execute_reply": "2021-11-19T20:25:42.224865Z"
    },
    "papermill": {
     "duration": 21.695557,
     "end_time": "2021-11-19T20:25:42.225405",
     "exception": false,
     "start_time": "2021-11-19T20:25:20.529848",
     "status": "completed"
    },
    "tags": []
   },
   "outputs": [
    {
     "data": {
      "text/plain": [
       "0.15625"
      ]
     },
     "execution_count": 6,
     "metadata": {},
     "output_type": "execute_result"
    }
   ],
   "source": [
    "# let numba compile all the code before profiling\n",
    "cm(np.random.rand(10), np.random.rand(10))"
   ]
  },
  {
   "cell_type": "markdown",
   "id": "2c92a1ad-2fc9-4a16-a5f8-fce685246996",
   "metadata": {
    "papermill": {
     "duration": 0.042854,
     "end_time": "2021-11-19T20:25:42.311476",
     "exception": false,
     "start_time": "2021-11-19T20:25:42.268622",
     "status": "completed"
    },
    "tags": []
   },
   "source": [
    "# Data"
   ]
  },
  {
   "cell_type": "code",
   "execution_count": 7,
   "id": "2316ffcd-a6e4-453f-bb52-779685c5c5bf",
   "metadata": {
    "execution": {
     "iopub.execute_input": "2021-11-19T20:25:42.401647Z",
     "iopub.status.busy": "2021-11-19T20:25:42.401199Z",
     "iopub.status.idle": "2021-11-19T20:25:42.403285Z",
     "shell.execute_reply": "2021-11-19T20:25:42.402840Z"
    },
    "papermill": {
     "duration": 0.049124,
     "end_time": "2021-11-19T20:25:42.403378",
     "exception": false,
     "start_time": "2021-11-19T20:25:42.354254",
     "status": "completed"
    },
    "tags": []
   },
   "outputs": [],
   "source": [
    "n_genes, n_samples = 10, 30000"
   ]
  },
  {
   "cell_type": "code",
   "execution_count": 8,
   "id": "b2f92fb1-113d-479b-8bbf-2be229e26e8f",
   "metadata": {
    "execution": {
     "iopub.execute_input": "2021-11-19T20:25:42.492846Z",
     "iopub.status.busy": "2021-11-19T20:25:42.492397Z",
     "iopub.status.idle": "2021-11-19T20:25:42.493804Z",
     "shell.execute_reply": "2021-11-19T20:25:42.494168Z"
    },
    "papermill": {
     "duration": 0.047732,
     "end_time": "2021-11-19T20:25:42.494281",
     "exception": false,
     "start_time": "2021-11-19T20:25:42.446549",
     "status": "completed"
    },
    "tags": []
   },
   "outputs": [],
   "source": [
    "np.random.seed(0)"
   ]
  },
  {
   "cell_type": "code",
   "execution_count": 9,
   "id": "63638c0b-b436-48a9-93e0-db2adb939a61",
   "metadata": {
    "execution": {
     "iopub.execute_input": "2021-11-19T20:25:42.584059Z",
     "iopub.status.busy": "2021-11-19T20:25:42.583582Z",
     "iopub.status.idle": "2021-11-19T20:25:42.587631Z",
     "shell.execute_reply": "2021-11-19T20:25:42.587245Z"
    },
    "papermill": {
     "duration": 0.049663,
     "end_time": "2021-11-19T20:25:42.587726",
     "exception": false,
     "start_time": "2021-11-19T20:25:42.538063",
     "status": "completed"
    },
    "tags": []
   },
   "outputs": [],
   "source": [
    "data = np.random.rand(n_genes, n_samples)"
   ]
  },
  {
   "cell_type": "code",
   "execution_count": 10,
   "id": "808017ed-9a8a-4bf7-a3dd-42317a39ce8f",
   "metadata": {
    "execution": {
     "iopub.execute_input": "2021-11-19T20:25:42.677229Z",
     "iopub.status.busy": "2021-11-19T20:25:42.676648Z",
     "iopub.status.idle": "2021-11-19T20:25:42.679301Z",
     "shell.execute_reply": "2021-11-19T20:25:42.678916Z"
    },
    "papermill": {
     "duration": 0.04841,
     "end_time": "2021-11-19T20:25:42.679395",
     "exception": false,
     "start_time": "2021-11-19T20:25:42.630985",
     "status": "completed"
    },
    "tags": []
   },
   "outputs": [
    {
     "data": {
      "text/plain": [
       "(10, 30000)"
      ]
     },
     "execution_count": 10,
     "metadata": {},
     "output_type": "execute_result"
    }
   ],
   "source": [
    "data.shape"
   ]
  },
  {
   "cell_type": "markdown",
   "id": "716e4219-cad5-453b-8331-47d310689e03",
   "metadata": {
    "papermill": {
     "duration": 0.044321,
     "end_time": "2021-11-19T20:25:42.768019",
     "exception": false,
     "start_time": "2021-11-19T20:25:42.723698",
     "status": "completed"
    },
    "tags": []
   },
   "source": [
    "# With default `internal_n_clusters`"
   ]
  },
  {
   "cell_type": "code",
   "execution_count": 11,
   "id": "67807856-f337-4c6e-ae31-cd306577a314",
   "metadata": {
    "execution": {
     "iopub.execute_input": "2021-11-19T20:25:42.860412Z",
     "iopub.status.busy": "2021-11-19T20:25:42.859960Z",
     "iopub.status.idle": "2021-11-19T20:25:42.861892Z",
     "shell.execute_reply": "2021-11-19T20:25:42.861447Z"
    },
    "papermill": {
     "duration": 0.049349,
     "end_time": "2021-11-19T20:25:42.861986",
     "exception": false,
     "start_time": "2021-11-19T20:25:42.812637",
     "status": "completed"
    },
    "tags": []
   },
   "outputs": [],
   "source": [
    "def func():\n",
    "    n_clust = list(range(2, 10 + 1))\n",
    "    return cm(data, internal_n_clusters=n_clust)"
   ]
  },
  {
   "cell_type": "code",
   "execution_count": 12,
   "id": "2965a695-5c0c-4e9e-8435-dcbfa610eb81",
   "metadata": {
    "execution": {
     "iopub.execute_input": "2021-11-19T20:25:42.957890Z",
     "iopub.status.busy": "2021-11-19T20:25:42.957433Z",
     "iopub.status.idle": "2021-11-19T20:26:54.134630Z",
     "shell.execute_reply": "2021-11-19T20:26:54.134978Z"
    },
    "papermill": {
     "duration": 71.228559,
     "end_time": "2021-11-19T20:26:54.135087",
     "exception": false,
     "start_time": "2021-11-19T20:25:42.906528",
     "status": "completed"
    },
    "tags": []
   },
   "outputs": [
    {
     "name": "stdout",
     "output_type": "stream",
     "text": [
      "3.94 s ± 1.47 ms per loop (mean ± std. dev. of 7 runs, 1 loop each)\n"
     ]
    }
   ],
   "source": [
    "%%timeit func()\n",
    "func()"
   ]
  },
  {
   "cell_type": "code",
   "execution_count": 13,
   "id": "51c7a416-064a-4669-a09f-16f837d32475",
   "metadata": {
    "execution": {
     "iopub.execute_input": "2021-11-19T20:26:54.233236Z",
     "iopub.status.busy": "2021-11-19T20:26:54.232757Z",
     "iopub.status.idle": "2021-11-19T20:26:58.196509Z",
     "shell.execute_reply": "2021-11-19T20:26:58.196100Z"
    },
    "papermill": {
     "duration": 4.014635,
     "end_time": "2021-11-19T20:26:58.196608",
     "exception": false,
     "start_time": "2021-11-19T20:26:54.181973",
     "status": "completed"
    },
    "tags": []
   },
   "outputs": [
    {
     "name": "stdout",
     "output_type": "stream",
     "text": [
      " \n",
      "*** Profile printout saved to text file '07-cm_many_samples-default_internal_n_clusters.txt'. \n"
     ]
    }
   ],
   "source": [
    "%%prun -s cumulative -l 50 -T 07-cm_many_samples-default_internal_n_clusters.txt\n",
    "func()"
   ]
  },
  {
   "cell_type": "markdown",
   "id": "025974ff-06d4-4d82-9b05-03f7a84d7211",
   "metadata": {
    "papermill": {
     "duration": 0.046268,
     "end_time": "2021-11-19T20:26:58.289813",
     "exception": false,
     "start_time": "2021-11-19T20:26:58.243545",
     "status": "completed"
    },
    "tags": []
   },
   "source": [
    "# With reduced `internal_n_clusters`"
   ]
  },
  {
   "cell_type": "code",
   "execution_count": 14,
   "id": "c20c4ecf-8060-495e-92b0-eb8e0d0dfbf3",
   "metadata": {
    "execution": {
     "iopub.execute_input": "2021-11-19T20:26:58.386204Z",
     "iopub.status.busy": "2021-11-19T20:26:58.385699Z",
     "iopub.status.idle": "2021-11-19T20:26:58.387641Z",
     "shell.execute_reply": "2021-11-19T20:26:58.387211Z"
    },
    "papermill": {
     "duration": 0.052081,
     "end_time": "2021-11-19T20:26:58.387779",
     "exception": false,
     "start_time": "2021-11-19T20:26:58.335698",
     "status": "completed"
    },
    "tags": []
   },
   "outputs": [],
   "source": [
    "def func():\n",
    "    n_clust = list(range(2, 5 + 1))\n",
    "    return cm(data, internal_n_clusters=n_clust)"
   ]
  },
  {
   "cell_type": "code",
   "execution_count": 15,
   "id": "11259d8c-3bf3-4299-b47b-211556c3bc08",
   "metadata": {
    "execution": {
     "iopub.execute_input": "2021-11-19T20:26:58.490427Z",
     "iopub.status.busy": "2021-11-19T20:26:58.489941Z",
     "iopub.status.idle": "2021-11-19T20:27:07.633734Z",
     "shell.execute_reply": "2021-11-19T20:27:07.633150Z"
    },
    "papermill": {
     "duration": 9.193281,
     "end_time": "2021-11-19T20:27:07.633833",
     "exception": false,
     "start_time": "2021-11-19T20:26:58.440552",
     "status": "completed"
    },
    "tags": []
   },
   "outputs": [
    {
     "name": "stdout",
     "output_type": "stream",
     "text": [
      "571 ms ± 4.58 ms per loop (mean ± std. dev. of 7 runs, 1 loop each)\n"
     ]
    }
   ],
   "source": [
    "%%timeit func()\n",
    "func()"
   ]
  },
  {
   "cell_type": "code",
   "execution_count": 16,
   "id": "42d9e6e0-3c01-46e1-a409-52ff26cb78f4",
   "metadata": {
    "execution": {
     "iopub.execute_input": "2021-11-19T20:27:07.732159Z",
     "iopub.status.busy": "2021-11-19T20:27:07.731675Z",
     "iopub.status.idle": "2021-11-19T20:27:08.302114Z",
     "shell.execute_reply": "2021-11-19T20:27:08.302484Z"
    },
    "papermill": {
     "duration": 0.621374,
     "end_time": "2021-11-19T20:27:08.302607",
     "exception": false,
     "start_time": "2021-11-19T20:27:07.681233",
     "status": "completed"
    },
    "tags": []
   },
   "outputs": [
    {
     "name": "stdout",
     "output_type": "stream",
     "text": [
      " \n",
      "*** Profile printout saved to text file '07-cm_many_samples-less_internal_n_clusters.txt'. \n"
     ]
    }
   ],
   "source": [
    "%%prun -s cumulative -l 50 -T 07-cm_many_samples-less_internal_n_clusters.txt\n",
    "func()"
   ]
  },
  {
   "cell_type": "code",
   "execution_count": null,
   "id": "e2556204-1c10-4e01-8c6c-ea63ddb37530",
   "metadata": {
    "papermill": {
     "duration": 0.047341,
     "end_time": "2021-11-19T20:27:08.397952",
     "exception": false,
     "start_time": "2021-11-19T20:27:08.350611",
     "status": "completed"
    },
    "tags": []
   },
   "outputs": [],
   "source": []
  }
 ],
 "metadata": {
  "jupytext": {
   "cell_metadata_filter": "all,-execution,-papermill,-trusted"
  },
  "kernelspec": {
   "display_name": "Python 3 (ipykernel)",
   "language": "python",
   "name": "python3"
  },
  "language_info": {
   "codemirror_mode": {
    "name": "ipython",
    "version": 3
   },
   "file_extension": ".py",
   "mimetype": "text/x-python",
   "name": "python",
   "nbconvert_exporter": "python",
   "pygments_lexer": "ipython3",
   "version": "3.9.7"
  },
  "papermill": {
   "default_parameters": {},
   "duration": 113.229283,
   "end_time": "2021-11-19T20:27:08.957793",
   "environment_variables": {},
   "exception": null,
   "input_path": "nbs/others/05_clustermatch_profiling/11_cm_optimized/07-many_samples.ipynb",
   "output_path": "nbs/others/05_clustermatch_profiling/11_cm_optimized/07-many_samples.run.ipynb",
   "parameters": {},
   "start_time": "2021-11-19T20:25:15.728510",
   "version": "2.3.3"
  }
 },
 "nbformat": 4,
 "nbformat_minor": 5
}
