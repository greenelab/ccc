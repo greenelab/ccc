{
 "cells": [
  {
   "cell_type": "markdown",
   "id": "fd52facb-2470-4824-83d4-7c9fd042ecfb",
   "metadata": {
    "papermill": {
     "duration": 0.011096,
     "end_time": "2021-09-11T02:39:05.335188",
     "exception": false,
     "start_time": "2021-09-11T02:39:05.324092",
     "status": "completed"
    },
    "tags": []
   },
   "source": [
    "# Description"
   ]
  },
  {
   "cell_type": "markdown",
   "id": "b95a9893-d5af-400c-9872-dcf70ec874fb",
   "metadata": {},
   "source": [
    "Clustermatch run using a larger number of samples."
   ]
  },
  {
   "cell_type": "markdown",
   "id": "35a04385-a901-4726-82a6-a01f16281efe",
   "metadata": {
    "papermill": {
     "duration": 0.006996,
     "end_time": "2021-09-11T02:39:05.363844",
     "exception": false,
     "start_time": "2021-09-11T02:39:05.356848",
     "status": "completed"
    },
    "tags": []
   },
   "source": [
    "# Modules"
   ]
  },
  {
   "cell_type": "code",
   "execution_count": null,
   "id": "a75c4496-d379-4668-905d-0e9136981f0c",
   "metadata": {
    "papermill": {
     "duration": 0.310368,
     "end_time": "2021-09-11T02:39:05.681320",
     "exception": false,
     "start_time": "2021-09-11T02:39:05.370952",
     "status": "completed"
    },
    "tags": []
   },
   "outputs": [],
   "source": [
    "import numpy as np\n",
    "\n",
    "from clustermatch.coef import cm"
   ]
  },
  {
   "cell_type": "markdown",
   "id": "2c92a1ad-2fc9-4a16-a5f8-fce685246996",
   "metadata": {
    "papermill": {
     "duration": 0.008073,
     "end_time": "2021-09-11T02:39:05.697327",
     "exception": false,
     "start_time": "2021-09-11T02:39:05.689254",
     "status": "completed"
    },
    "tags": []
   },
   "source": [
    "# Data"
   ]
  },
  {
   "cell_type": "code",
   "execution_count": null,
   "id": "2316ffcd-a6e4-453f-bb52-779685c5c5bf",
   "metadata": {
    "papermill": {
     "duration": 0.013112,
     "end_time": "2021-09-11T02:39:05.717698",
     "exception": false,
     "start_time": "2021-09-11T02:39:05.704586",
     "status": "completed"
    },
    "tags": []
   },
   "outputs": [],
   "source": [
    "n_genes, n_samples = 10, 30000"
   ]
  },
  {
   "cell_type": "code",
   "execution_count": null,
   "id": "b2f92fb1-113d-479b-8bbf-2be229e26e8f",
   "metadata": {
    "papermill": {
     "duration": 0.012463,
     "end_time": "2021-09-11T02:39:05.738045",
     "exception": false,
     "start_time": "2021-09-11T02:39:05.725582",
     "status": "completed"
    },
    "tags": []
   },
   "outputs": [],
   "source": [
    "np.random.seed(0)"
   ]
  },
  {
   "cell_type": "code",
   "execution_count": null,
   "id": "63638c0b-b436-48a9-93e0-db2adb939a61",
   "metadata": {
    "papermill": {
     "duration": 0.015266,
     "end_time": "2021-09-11T02:39:05.761177",
     "exception": false,
     "start_time": "2021-09-11T02:39:05.745911",
     "status": "completed"
    },
    "tags": []
   },
   "outputs": [],
   "source": [
    "data = np.random.rand(n_genes, n_samples)"
   ]
  },
  {
   "cell_type": "code",
   "execution_count": null,
   "id": "808017ed-9a8a-4bf7-a3dd-42317a39ce8f",
   "metadata": {
    "papermill": {
     "duration": 0.018658,
     "end_time": "2021-09-11T02:39:05.787860",
     "exception": false,
     "start_time": "2021-09-11T02:39:05.769202",
     "status": "completed"
    },
    "tags": []
   },
   "outputs": [],
   "source": [
    "data.shape"
   ]
  },
  {
   "cell_type": "markdown",
   "id": "716e4219-cad5-453b-8331-47d310689e03",
   "metadata": {
    "papermill": {
     "duration": 0.007683,
     "end_time": "2021-09-11T02:39:05.804282",
     "exception": false,
     "start_time": "2021-09-11T02:39:05.796599",
     "status": "completed"
    },
    "tags": []
   },
   "source": [
    "# With default `internal_n_clusters`"
   ]
  },
  {
   "cell_type": "code",
   "execution_count": null,
   "id": "67807856-f337-4c6e-ae31-cd306577a314",
   "metadata": {
    "papermill": {
     "duration": 0.012906,
     "end_time": "2021-09-11T02:39:05.824951",
     "exception": false,
     "start_time": "2021-09-11T02:39:05.812045",
     "status": "completed"
    },
    "tags": []
   },
   "outputs": [],
   "source": [
    "def func():\n",
    "    n_clust = list(range(2, 10 + 1))\n",
    "    return cm(data, internal_n_clusters=n_clust)"
   ]
  },
  {
   "cell_type": "code",
   "execution_count": null,
   "id": "2965a695-5c0c-4e9e-8435-dcbfa610eb81",
   "metadata": {
    "papermill": {
     "duration": 73.495846,
     "end_time": "2021-09-11T02:40:19.329078",
     "exception": false,
     "start_time": "2021-09-11T02:39:05.833232",
     "status": "completed"
    },
    "tags": []
   },
   "outputs": [],
   "source": [
    "%%timeit func()\n",
    "func()"
   ]
  },
  {
   "cell_type": "code",
   "execution_count": null,
   "id": "51c7a416-064a-4669-a09f-16f837d32475",
   "metadata": {
    "papermill": {
     "duration": 4.60124,
     "end_time": "2021-09-11T02:40:23.938535",
     "exception": false,
     "start_time": "2021-09-11T02:40:19.337295",
     "status": "completed"
    },
    "tags": []
   },
   "outputs": [],
   "source": [
    "%%prun -s cumulative -l 50 -T 07-cm_many_samples-default_internal_n_clusters.txt\n",
    "func()"
   ]
  },
  {
   "cell_type": "markdown",
   "id": "025974ff-06d4-4d82-9b05-03f7a84d7211",
   "metadata": {
    "papermill": {
     "duration": 0.008702,
     "end_time": "2021-09-11T02:40:23.956374",
     "exception": false,
     "start_time": "2021-09-11T02:40:23.947672",
     "status": "completed"
    },
    "tags": []
   },
   "source": [
    "# With reduced `internal_n_clusters`"
   ]
  },
  {
   "cell_type": "code",
   "execution_count": null,
   "id": "c20c4ecf-8060-495e-92b0-eb8e0d0dfbf3",
   "metadata": {
    "papermill": {
     "duration": 0.014229,
     "end_time": "2021-09-11T02:40:23.979513",
     "exception": false,
     "start_time": "2021-09-11T02:40:23.965284",
     "status": "completed"
    },
    "tags": []
   },
   "outputs": [],
   "source": [
    "def func():\n",
    "    n_clust = list(range(2, 5 + 1))\n",
    "    return cm(data, internal_n_clusters=n_clust)"
   ]
  },
  {
   "cell_type": "code",
   "execution_count": null,
   "id": "11259d8c-3bf3-4299-b47b-211556c3bc08",
   "metadata": {
    "papermill": {
     "duration": 16.434735,
     "end_time": "2021-09-11T02:40:40.423471",
     "exception": false,
     "start_time": "2021-09-11T02:40:23.988736",
     "status": "completed"
    },
    "tags": []
   },
   "outputs": [],
   "source": [
    "%%timeit func()\n",
    "func()"
   ]
  },
  {
   "cell_type": "code",
   "execution_count": null,
   "id": "42d9e6e0-3c01-46e1-a409-52ff26cb78f4",
   "metadata": {
    "papermill": {
     "duration": 1.092785,
     "end_time": "2021-09-11T02:40:41.526240",
     "exception": false,
     "start_time": "2021-09-11T02:40:40.433455",
     "status": "completed"
    },
    "tags": []
   },
   "outputs": [],
   "source": [
    "%%prun -s cumulative -l 50 -T 07-cm_many_samples-less_internal_n_clusters.txt\n",
    "func()"
   ]
  },
  {
   "cell_type": "code",
   "execution_count": null,
   "id": "e2556204-1c10-4e01-8c6c-ea63ddb37530",
   "metadata": {
    "papermill": {
     "duration": 0.009293,
     "end_time": "2021-09-11T02:40:41.545646",
     "exception": false,
     "start_time": "2021-09-11T02:40:41.536353",
     "status": "completed"
    },
    "tags": []
   },
   "outputs": [],
   "source": []
  }
 ],
 "metadata": {
  "jupytext": {
   "cell_metadata_filter": "all,-execution,-papermill,-trusted",
   "text_representation": {
    "extension": ".py",
    "format_name": "percent",
    "format_version": "1.3",
    "jupytext_version": "1.11.5"
   }
  },
  "kernelspec": {
   "display_name": "Python 3 (ipykernel)",
   "language": "python",
   "name": "python3"
  },
  "language_info": {
   "codemirror_mode": {
    "name": "ipython",
    "version": 3
   },
   "file_extension": ".py",
   "mimetype": "text/x-python",
   "name": "python",
   "nbconvert_exporter": "python",
   "pygments_lexer": "ipython3",
   "version": "3.9.7"
  },
  "papermill": {
   "default_parameters": {},
   "duration": 97.59248,
   "end_time": "2021-09-11T02:40:41.864075",
   "environment_variables": {},
   "exception": null,
   "input_path": "nbs/99_clustermatch_profiling/07_cm_optimized2/07-many_samples.ipynb",
   "output_path": "nbs/99_clustermatch_profiling/07_cm_optimized2/07-many_samples.run.ipynb",
   "parameters": {},
   "start_time": "2021-09-11T02:39:04.271595",
   "version": "2.3.3"
  }
 },
 "nbformat": 4,
 "nbformat_minor": 5
}
