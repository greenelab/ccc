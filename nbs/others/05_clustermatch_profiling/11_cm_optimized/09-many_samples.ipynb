{
 "cells": [
  {
   "cell_type": "markdown",
   "id": "fd52facb-2470-4824-83d4-7c9fd042ecfb",
   "metadata": {
    "papermill": {
     "duration": 0.084727,
     "end_time": "2021-12-02T07:30:16.601946",
     "exception": false,
     "start_time": "2021-12-02T07:30:16.517219",
     "status": "completed"
    },
    "tags": []
   },
   "source": [
    "# Description"
   ]
  },
  {
   "cell_type": "markdown",
   "id": "7e0a6af6-c10e-45a5-9d8a-8849bf5ce82d",
   "metadata": {
    "papermill": {
     "duration": 0.047223,
     "end_time": "2021-12-02T07:30:16.695524",
     "exception": false,
     "start_time": "2021-12-02T07:30:16.648301",
     "status": "completed"
    },
    "tags": []
   },
   "source": [
    "Similar as `07` but with numba disabled to compare with a pure Python implementation."
   ]
  },
  {
   "cell_type": "markdown",
   "id": "874ffd00-afe1-4b51-bb22-350cbd9479f1",
   "metadata": {
    "papermill": {
     "duration": 0.046189,
     "end_time": "2021-12-02T07:30:16.789311",
     "exception": false,
     "start_time": "2021-12-02T07:30:16.743122",
     "status": "completed"
    },
    "tags": []
   },
   "source": [
    "# Disable numba"
   ]
  },
  {
   "cell_type": "code",
   "execution_count": 1,
   "id": "502fe9ff-d27d-43bd-aa37-73edf7ba4f24",
   "metadata": {
    "execution": {
     "iopub.execute_input": "2021-12-02T07:30:16.889633Z",
     "iopub.status.busy": "2021-12-02T07:30:16.889169Z",
     "iopub.status.idle": "2021-12-02T07:30:16.891738Z",
     "shell.execute_reply": "2021-12-02T07:30:16.891249Z"
    },
    "papermill": {
     "duration": 0.056388,
     "end_time": "2021-12-02T07:30:16.891841",
     "exception": false,
     "start_time": "2021-12-02T07:30:16.835453",
     "status": "completed"
    },
    "tags": []
   },
   "outputs": [
    {
     "name": "stdout",
     "output_type": "stream",
     "text": [
      "env: NUMBA_DISABLE_JIT=1\n"
     ]
    }
   ],
   "source": [
    "%env NUMBA_DISABLE_JIT=1"
   ]
  },
  {
   "cell_type": "markdown",
   "id": "325cb06a-df7f-43e8-be3e-f704aaf015b0",
   "metadata": {
    "papermill": {
     "duration": 0.046795,
     "end_time": "2021-12-02T07:30:16.985901",
     "exception": false,
     "start_time": "2021-12-02T07:30:16.939106",
     "status": "completed"
    },
    "tags": []
   },
   "source": [
    "# Remove pycache dir"
   ]
  },
  {
   "cell_type": "code",
   "execution_count": 2,
   "id": "73f954a6-1776-4b92-bd0e-fc3caf5df081",
   "metadata": {
    "execution": {
     "iopub.execute_input": "2021-12-02T07:30:17.083829Z",
     "iopub.status.busy": "2021-12-02T07:30:17.083369Z",
     "iopub.status.idle": "2021-12-02T07:30:17.680562Z",
     "shell.execute_reply": "2021-12-02T07:30:17.678983Z"
    },
    "papermill": {
     "duration": 0.64785,
     "end_time": "2021-12-02T07:30:17.680989",
     "exception": false,
     "start_time": "2021-12-02T07:30:17.033139",
     "status": "completed"
    },
    "tags": []
   },
   "outputs": [
    {
     "name": "stdout",
     "output_type": "stream",
     "text": [
      "/opt/code\r\n"
     ]
    }
   ],
   "source": [
    "!echo ${CODE_DIR}"
   ]
  },
  {
   "cell_type": "code",
   "execution_count": 3,
   "id": "d17492bb-34fe-4c34-a693-419180ba068e",
   "metadata": {
    "execution": {
     "iopub.execute_input": "2021-12-02T07:30:17.818271Z",
     "iopub.status.busy": "2021-12-02T07:30:17.817810Z",
     "iopub.status.idle": "2021-12-02T07:30:18.423257Z",
     "shell.execute_reply": "2021-12-02T07:30:18.421415Z"
    },
    "papermill": {
     "duration": 0.658742,
     "end_time": "2021-12-02T07:30:18.423634",
     "exception": false,
     "start_time": "2021-12-02T07:30:17.764892",
     "status": "completed"
    },
    "tags": []
   },
   "outputs": [
    {
     "name": "stdout",
     "output_type": "stream",
     "text": [
      "/opt/code/libs/clustermatch/__pycache__\r\n",
      "/opt/code/libs/clustermatch/sklearn/__pycache__\r\n",
      "/opt/code/libs/clustermatch/scipy/__pycache__\r\n",
      "/opt/code/libs/clustermatch/pytorch/__pycache__\r\n"
     ]
    }
   ],
   "source": [
    "!find ${CODE_DIR} -regex '^.*\\(__pycache__\\)$' -print"
   ]
  },
  {
   "cell_type": "code",
   "execution_count": 4,
   "id": "5683e330-1782-43b3-bb78-255198f03620",
   "metadata": {
    "execution": {
     "iopub.execute_input": "2021-12-02T07:30:18.560159Z",
     "iopub.status.busy": "2021-12-02T07:30:18.558236Z",
     "iopub.status.idle": "2021-12-02T07:30:19.154403Z",
     "shell.execute_reply": "2021-12-02T07:30:19.153648Z"
    },
    "papermill": {
     "duration": 0.648936,
     "end_time": "2021-12-02T07:30:19.154527",
     "exception": false,
     "start_time": "2021-12-02T07:30:18.505591",
     "status": "completed"
    },
    "tags": []
   },
   "outputs": [],
   "source": [
    "!find ${CODE_DIR} -regex '^.*\\(__pycache__\\)$' -prune -exec rm -rf {} \\;"
   ]
  },
  {
   "cell_type": "code",
   "execution_count": 5,
   "id": "5cf4ce29-d611-4fc8-8880-293c09e5ab9a",
   "metadata": {
    "execution": {
     "iopub.execute_input": "2021-12-02T07:30:19.266540Z",
     "iopub.status.busy": "2021-12-02T07:30:19.264349Z",
     "iopub.status.idle": "2021-12-02T07:30:19.866750Z",
     "shell.execute_reply": "2021-12-02T07:30:19.864873Z"
    },
    "papermill": {
     "duration": 0.655452,
     "end_time": "2021-12-02T07:30:19.867125",
     "exception": false,
     "start_time": "2021-12-02T07:30:19.211673",
     "status": "completed"
    },
    "tags": []
   },
   "outputs": [],
   "source": [
    "!find ${CODE_DIR} -regex '^.*\\(__pycache__\\)$' -print"
   ]
  },
  {
   "cell_type": "markdown",
   "id": "35a04385-a901-4726-82a6-a01f16281efe",
   "metadata": {
    "papermill": {
     "duration": 0.048405,
     "end_time": "2021-12-02T07:30:19.965347",
     "exception": false,
     "start_time": "2021-12-02T07:30:19.916942",
     "status": "completed"
    },
    "tags": []
   },
   "source": [
    "# Modules"
   ]
  },
  {
   "cell_type": "code",
   "execution_count": 6,
   "id": "a75c4496-d379-4668-905d-0e9136981f0c",
   "metadata": {
    "execution": {
     "iopub.execute_input": "2021-12-02T07:30:20.065281Z",
     "iopub.status.busy": "2021-12-02T07:30:20.064813Z",
     "iopub.status.idle": "2021-12-02T07:30:20.362955Z",
     "shell.execute_reply": "2021-12-02T07:30:20.362555Z"
    },
    "papermill": {
     "duration": 0.349656,
     "end_time": "2021-12-02T07:30:20.363071",
     "exception": false,
     "start_time": "2021-12-02T07:30:20.013415",
     "status": "completed"
    },
    "tags": []
   },
   "outputs": [],
   "source": [
    "import numpy as np\n",
    "\n",
    "from clustermatch.coef import ccc"
   ]
  },
  {
   "cell_type": "code",
   "execution_count": 7,
   "id": "1a58ccf8-1bf5-4177-9b06-944a0d57655a",
   "metadata": {
    "execution": {
     "iopub.execute_input": "2021-12-02T07:30:20.465814Z",
     "iopub.status.busy": "2021-12-02T07:30:20.465341Z",
     "iopub.status.idle": "2021-12-02T07:30:20.477563Z",
     "shell.execute_reply": "2021-12-02T07:30:20.477109Z"
    },
    "papermill": {
     "duration": 0.064264,
     "end_time": "2021-12-02T07:30:20.477659",
     "exception": false,
     "start_time": "2021-12-02T07:30:20.413395",
     "status": "completed"
    },
    "tags": []
   },
   "outputs": [
    {
     "data": {
      "text/plain": [
       "0.28"
      ]
     },
     "execution_count": 7,
     "metadata": {},
     "output_type": "execute_result"
    }
   ],
   "source": [
    "# let numba compile all the code before profiling\n",
    "ccc(np.random.rand(10), np.random.rand(10))"
   ]
  },
  {
   "cell_type": "markdown",
   "id": "2c92a1ad-2fc9-4a16-a5f8-fce685246996",
   "metadata": {
    "papermill": {
     "duration": 0.049251,
     "end_time": "2021-12-02T07:30:20.576876",
     "exception": false,
     "start_time": "2021-12-02T07:30:20.527625",
     "status": "completed"
    },
    "tags": []
   },
   "source": [
    "# Data"
   ]
  },
  {
   "cell_type": "code",
   "execution_count": 8,
   "id": "2316ffcd-a6e4-453f-bb52-779685c5c5bf",
   "metadata": {
    "execution": {
     "iopub.execute_input": "2021-12-02T07:30:20.679049Z",
     "iopub.status.busy": "2021-12-02T07:30:20.678606Z",
     "iopub.status.idle": "2021-12-02T07:30:20.680198Z",
     "shell.execute_reply": "2021-12-02T07:30:20.680560Z"
    },
    "papermill": {
     "duration": 0.054426,
     "end_time": "2021-12-02T07:30:20.680674",
     "exception": false,
     "start_time": "2021-12-02T07:30:20.626248",
     "status": "completed"
    },
    "tags": []
   },
   "outputs": [],
   "source": [
    "n_genes, n_samples = 10, 30000"
   ]
  },
  {
   "cell_type": "code",
   "execution_count": 9,
   "id": "b2f92fb1-113d-479b-8bbf-2be229e26e8f",
   "metadata": {
    "execution": {
     "iopub.execute_input": "2021-12-02T07:30:20.784325Z",
     "iopub.status.busy": "2021-12-02T07:30:20.783711Z",
     "iopub.status.idle": "2021-12-02T07:30:20.786877Z",
     "shell.execute_reply": "2021-12-02T07:30:20.786443Z"
    },
    "papermill": {
     "duration": 0.055871,
     "end_time": "2021-12-02T07:30:20.786970",
     "exception": false,
     "start_time": "2021-12-02T07:30:20.731099",
     "status": "completed"
    },
    "tags": []
   },
   "outputs": [],
   "source": [
    "np.random.seed(0)"
   ]
  },
  {
   "cell_type": "code",
   "execution_count": 10,
   "id": "63638c0b-b436-48a9-93e0-db2adb939a61",
   "metadata": {
    "execution": {
     "iopub.execute_input": "2021-12-02T07:30:20.889583Z",
     "iopub.status.busy": "2021-12-02T07:30:20.889148Z",
     "iopub.status.idle": "2021-12-02T07:30:20.894209Z",
     "shell.execute_reply": "2021-12-02T07:30:20.893773Z"
    },
    "papermill": {
     "duration": 0.057292,
     "end_time": "2021-12-02T07:30:20.894304",
     "exception": false,
     "start_time": "2021-12-02T07:30:20.837012",
     "status": "completed"
    },
    "tags": []
   },
   "outputs": [],
   "source": [
    "data = np.random.rand(n_genes, n_samples)"
   ]
  },
  {
   "cell_type": "code",
   "execution_count": 11,
   "id": "808017ed-9a8a-4bf7-a3dd-42317a39ce8f",
   "metadata": {
    "execution": {
     "iopub.execute_input": "2021-12-02T07:30:20.997120Z",
     "iopub.status.busy": "2021-12-02T07:30:20.996590Z",
     "iopub.status.idle": "2021-12-02T07:30:20.999375Z",
     "shell.execute_reply": "2021-12-02T07:30:20.998933Z"
    },
    "papermill": {
     "duration": 0.055432,
     "end_time": "2021-12-02T07:30:20.999471",
     "exception": false,
     "start_time": "2021-12-02T07:30:20.944039",
     "status": "completed"
    },
    "tags": []
   },
   "outputs": [
    {
     "data": {
      "text/plain": [
       "(10, 30000)"
      ]
     },
     "execution_count": 11,
     "metadata": {},
     "output_type": "execute_result"
    }
   ],
   "source": [
    "data.shape"
   ]
  },
  {
   "cell_type": "markdown",
   "id": "716e4219-cad5-453b-8331-47d310689e03",
   "metadata": {
    "papermill": {
     "duration": 0.049859,
     "end_time": "2021-12-02T07:30:21.100960",
     "exception": false,
     "start_time": "2021-12-02T07:30:21.051101",
     "status": "completed"
    },
    "tags": []
   },
   "source": [
    "# With default `internal_n_clusters`"
   ]
  },
  {
   "cell_type": "code",
   "execution_count": 12,
   "id": "67807856-f337-4c6e-ae31-cd306577a314",
   "metadata": {
    "execution": {
     "iopub.execute_input": "2021-12-02T07:30:21.214530Z",
     "iopub.status.busy": "2021-12-02T07:30:21.214082Z",
     "iopub.status.idle": "2021-12-02T07:30:21.215531Z",
     "shell.execute_reply": "2021-12-02T07:30:21.215894Z"
    },
    "papermill": {
     "duration": 0.059587,
     "end_time": "2021-12-02T07:30:21.216025",
     "exception": false,
     "start_time": "2021-12-02T07:30:21.156438",
     "status": "completed"
    },
    "tags": []
   },
   "outputs": [],
   "source": [
    "def func():\n",
    "    n_clust = list(range(2, 10 + 1))\n",
    "    return ccc(data, internal_n_clusters=n_clust)"
   ]
  },
  {
   "cell_type": "code",
   "execution_count": 13,
   "id": "2965a695-5c0c-4e9e-8435-dcbfa610eb81",
   "metadata": {
    "execution": {
     "iopub.execute_input": "2021-12-02T07:30:21.323159Z",
     "iopub.status.busy": "2021-12-02T07:30:21.322335Z",
     "iopub.status.idle": "2021-12-02T07:31:41.858121Z",
     "shell.execute_reply": "2021-12-02T07:31:41.858466Z"
    },
    "papermill": {
     "duration": 80.591387,
     "end_time": "2021-12-02T07:31:41.858578",
     "exception": false,
     "start_time": "2021-12-02T07:30:21.267191",
     "status": "completed"
    },
    "tags": []
   },
   "outputs": [
    {
     "name": "stdout",
     "output_type": "stream",
     "text": [
      "5.04 s ± 33.1 ms per loop (mean ± std. dev. of 7 runs, 1 loop each)\n"
     ]
    }
   ],
   "source": [
    "%%timeit func()\n",
    "func()"
   ]
  },
  {
   "cell_type": "code",
   "execution_count": 14,
   "id": "51c7a416-064a-4669-a09f-16f837d32475",
   "metadata": {
    "execution": {
     "iopub.execute_input": "2021-12-02T07:31:41.966227Z",
     "iopub.status.busy": "2021-12-02T07:31:41.965665Z",
     "iopub.status.idle": "2021-12-02T07:31:46.955692Z",
     "shell.execute_reply": "2021-12-02T07:31:46.956135Z"
    },
    "papermill": {
     "duration": 5.04616,
     "end_time": "2021-12-02T07:31:46.956254",
     "exception": false,
     "start_time": "2021-12-02T07:31:41.910094",
     "status": "completed"
    },
    "tags": []
   },
   "outputs": [
    {
     "name": "stdout",
     "output_type": "stream",
     "text": [
      " \n",
      "*** Profile printout saved to text file '09-cm_many_samples-default_internal_n_clusters.txt'. \n"
     ]
    }
   ],
   "source": [
    "%%prun -s cumulative -l 50 -T 09-cm_many_samples-default_internal_n_clusters.txt\n",
    "func()"
   ]
  },
  {
   "cell_type": "markdown",
   "id": "cd74d8b8-517c-42cf-9dbf-27474b2c3822",
   "metadata": {
    "papermill": {
     "duration": 0.052197,
     "end_time": "2021-12-02T07:31:47.061650",
     "exception": false,
     "start_time": "2021-12-02T07:31:47.009453",
     "status": "completed"
    },
    "tags": []
   },
   "source": [
    "These results are just slightly worse than the numba-compiled version (notebook `07`)."
   ]
  },
  {
   "cell_type": "markdown",
   "id": "025974ff-06d4-4d82-9b05-03f7a84d7211",
   "metadata": {
    "papermill": {
     "duration": 0.052169,
     "end_time": "2021-12-02T07:31:47.165707",
     "exception": false,
     "start_time": "2021-12-02T07:31:47.113538",
     "status": "completed"
    },
    "tags": []
   },
   "source": [
    "# With reduced `internal_n_clusters`"
   ]
  },
  {
   "cell_type": "code",
   "execution_count": 15,
   "id": "c20c4ecf-8060-495e-92b0-eb8e0d0dfbf3",
   "metadata": {
    "execution": {
     "iopub.execute_input": "2021-12-02T07:31:47.273226Z",
     "iopub.status.busy": "2021-12-02T07:31:47.272787Z",
     "iopub.status.idle": "2021-12-02T07:31:47.274928Z",
     "shell.execute_reply": "2021-12-02T07:31:47.274490Z"
    },
    "papermill": {
     "duration": 0.057719,
     "end_time": "2021-12-02T07:31:47.275023",
     "exception": false,
     "start_time": "2021-12-02T07:31:47.217304",
     "status": "completed"
    },
    "tags": []
   },
   "outputs": [],
   "source": [
    "def func():\n",
    "    n_clust = list(range(2, 5 + 1))\n",
    "    return ccc(data, internal_n_clusters=n_clust)"
   ]
  },
  {
   "cell_type": "code",
   "execution_count": 16,
   "id": "11259d8c-3bf3-4299-b47b-211556c3bc08",
   "metadata": {
    "execution": {
     "iopub.execute_input": "2021-12-02T07:31:47.384181Z",
     "iopub.status.busy": "2021-12-02T07:31:47.383683Z",
     "iopub.status.idle": "2021-12-02T07:31:55.526921Z",
     "shell.execute_reply": "2021-12-02T07:31:55.527582Z"
    },
    "papermill": {
     "duration": 8.200213,
     "end_time": "2021-12-02T07:31:55.527738",
     "exception": false,
     "start_time": "2021-12-02T07:31:47.327525",
     "status": "completed"
    },
    "tags": []
   },
   "outputs": [
    {
     "name": "stdout",
     "output_type": "stream",
     "text": [
      "500 ms ± 3.9 ms per loop (mean ± std. dev. of 7 runs, 1 loop each)\n"
     ]
    }
   ],
   "source": [
    "%%timeit func()\n",
    "func()"
   ]
  },
  {
   "cell_type": "code",
   "execution_count": 17,
   "id": "42d9e6e0-3c01-46e1-a409-52ff26cb78f4",
   "metadata": {
    "execution": {
     "iopub.execute_input": "2021-12-02T07:31:55.643612Z",
     "iopub.status.busy": "2021-12-02T07:31:55.643116Z",
     "iopub.status.idle": "2021-12-02T07:31:56.153828Z",
     "shell.execute_reply": "2021-12-02T07:31:56.154221Z"
    },
    "papermill": {
     "duration": 0.567955,
     "end_time": "2021-12-02T07:31:56.154340",
     "exception": false,
     "start_time": "2021-12-02T07:31:55.586385",
     "status": "completed"
    },
    "tags": []
   },
   "outputs": [
    {
     "name": "stdout",
     "output_type": "stream",
     "text": [
      " \n",
      "*** Profile printout saved to text file '09-cm_many_samples-less_internal_n_clusters.txt'. \n"
     ]
    }
   ],
   "source": [
    "%%prun -s cumulative -l 50 -T 09-cm_many_samples-less_internal_n_clusters.txt\n",
    "func()"
   ]
  },
  {
   "cell_type": "markdown",
   "id": "ba154ea5-5301-4fd4-8fc7-71534435a2a5",
   "metadata": {
    "papermill": {
     "duration": 0.052863,
     "end_time": "2021-12-02T07:31:56.261630",
     "exception": false,
     "start_time": "2021-12-02T07:31:56.208767",
     "status": "completed"
    },
    "tags": []
   },
   "source": [
    "These results are slightly better than the numba-compiled version (notebook `07`), which is surprising. In the future, it would be interesting to disable threading here to get accurate profiling results to debug this issue."
   ]
  },
  {
   "cell_type": "code",
   "execution_count": null,
   "id": "e2556204-1c10-4e01-8c6c-ea63ddb37530",
   "metadata": {
    "papermill": {
     "duration": 0.05275,
     "end_time": "2021-12-02T07:31:56.367603",
     "exception": false,
     "start_time": "2021-12-02T07:31:56.314853",
     "status": "completed"
    },
    "tags": []
   },
   "outputs": [],
   "source": []
  }
 ],
 "metadata": {
  "jupytext": {
   "cell_metadata_filter": "all,-execution,-papermill,-trusted"
  },
  "kernelspec": {
   "display_name": "Python 3 (ipykernel)",
   "language": "python",
   "name": "python3"
  },
  "language_info": {
   "codemirror_mode": {
    "name": "ipython",
    "version": 3
   },
   "file_extension": ".py",
   "mimetype": "text/x-python",
   "name": "python",
   "nbconvert_exporter": "python",
   "pygments_lexer": "ipython3",
   "version": "3.9.7"
  },
  "papermill": {
   "default_parameters": {},
   "duration": 101.331077,
   "end_time": "2021-12-02T07:31:56.627731",
   "environment_variables": {},
   "exception": null,
   "input_path": "nbs/others/05_clustermatch_profiling/11_cm_optimized/09-many_samples.ipynb",
   "output_path": "nbs/others/05_clustermatch_profiling/11_cm_optimized/09-many_samples.run.ipynb",
   "parameters": {},
   "start_time": "2021-12-02T07:30:15.296654",
   "version": "2.3.3"
  }
 },
 "nbformat": 4,
 "nbformat_minor": 5
}
