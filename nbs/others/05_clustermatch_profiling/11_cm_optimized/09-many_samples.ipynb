{
 "cells": [
  {
   "cell_type": "markdown",
   "id": "fd52facb-2470-4824-83d4-7c9fd042ecfb",
   "metadata": {
    "papermill": {
     "duration": 0.080515,
     "end_time": "2021-11-28T07:25:30.388913",
     "exception": false,
     "start_time": "2021-11-28T07:25:30.308398",
     "status": "completed"
    },
    "tags": []
   },
   "source": [
    "# Description"
   ]
  },
  {
   "cell_type": "markdown",
   "id": "7e0a6af6-c10e-45a5-9d8a-8849bf5ce82d",
   "metadata": {
    "papermill": {
     "duration": 0.041338,
     "end_time": "2021-11-28T07:25:30.471818",
     "exception": false,
     "start_time": "2021-11-28T07:25:30.430480",
     "status": "completed"
    },
    "tags": []
   },
   "source": [
    "Similar as `07` but with numba disabled to compare with a pure Python implementation."
   ]
  },
  {
   "cell_type": "markdown",
   "id": "874ffd00-afe1-4b51-bb22-350cbd9479f1",
   "metadata": {
    "papermill": {
     "duration": 0.042468,
     "end_time": "2021-11-28T07:25:30.556021",
     "exception": false,
     "start_time": "2021-11-28T07:25:30.513553",
     "status": "completed"
    },
    "tags": []
   },
   "source": [
    "# Disable numba"
   ]
  },
  {
   "cell_type": "code",
   "execution_count": 1,
   "id": "502fe9ff-d27d-43bd-aa37-73edf7ba4f24",
   "metadata": {
    "execution": {
     "iopub.execute_input": "2021-11-28T07:25:30.647374Z",
     "iopub.status.busy": "2021-11-28T07:25:30.646903Z",
     "iopub.status.idle": "2021-11-28T07:25:30.650267Z",
     "shell.execute_reply": "2021-11-28T07:25:30.649760Z"
    },
    "papermill": {
     "duration": 0.052682,
     "end_time": "2021-11-28T07:25:30.650369",
     "exception": false,
     "start_time": "2021-11-28T07:25:30.597687",
     "status": "completed"
    },
    "tags": []
   },
   "outputs": [
    {
     "name": "stdout",
     "output_type": "stream",
     "text": [
      "env: NUMBA_DISABLE_JIT=1\n"
     ]
    }
   ],
   "source": [
    "%env NUMBA_DISABLE_JIT=1"
   ]
  },
  {
   "cell_type": "markdown",
   "id": "325cb06a-df7f-43e8-be3e-f704aaf015b0",
   "metadata": {
    "papermill": {
     "duration": 0.043162,
     "end_time": "2021-11-28T07:25:30.737999",
     "exception": false,
     "start_time": "2021-11-28T07:25:30.694837",
     "status": "completed"
    },
    "tags": []
   },
   "source": [
    "# Remove pycache dir"
   ]
  },
  {
   "cell_type": "code",
   "execution_count": 2,
   "id": "73f954a6-1776-4b92-bd0e-fc3caf5df081",
   "metadata": {
    "execution": {
     "iopub.execute_input": "2021-11-28T07:25:30.825937Z",
     "iopub.status.busy": "2021-11-28T07:25:30.825484Z",
     "iopub.status.idle": "2021-11-28T07:25:31.412516Z",
     "shell.execute_reply": "2021-11-28T07:25:31.410612Z"
    },
    "papermill": {
     "duration": 0.632672,
     "end_time": "2021-11-28T07:25:31.412892",
     "exception": false,
     "start_time": "2021-11-28T07:25:30.780220",
     "status": "completed"
    },
    "tags": []
   },
   "outputs": [
    {
     "name": "stdout",
     "output_type": "stream",
     "text": [
      "/opt/code\n"
     ]
    }
   ],
   "source": [
    "!echo ${CODE_DIR}"
   ]
  },
  {
   "cell_type": "code",
   "execution_count": 3,
   "id": "d17492bb-34fe-4c34-a693-419180ba068e",
   "metadata": {
    "execution": {
     "iopub.execute_input": "2021-11-28T07:25:31.506385Z",
     "iopub.status.busy": "2021-11-28T07:25:31.505918Z",
     "iopub.status.idle": "2021-11-28T07:25:32.105572Z",
     "shell.execute_reply": "2021-11-28T07:25:32.103688Z"
    },
    "papermill": {
     "duration": 0.647502,
     "end_time": "2021-11-28T07:25:32.105943",
     "exception": false,
     "start_time": "2021-11-28T07:25:31.458441",
     "status": "completed"
    },
    "tags": []
   },
   "outputs": [
    {
     "name": "stdout",
     "output_type": "stream",
     "text": [
      "/opt/code/libs/clustermatch/__pycache__\n",
      "/opt/code/libs/clustermatch/sklearn/__pycache__\n",
      "/opt/code/libs/clustermatch/scipy/__pycache__\n",
      "/opt/code/libs/clustermatch/pytorch/__pycache__\n"
     ]
    }
   ],
   "source": [
    "!find ${CODE_DIR} -regex '^.*\\(__pycache__\\)$' -print"
   ]
  },
  {
   "cell_type": "code",
   "execution_count": 4,
   "id": "5683e330-1782-43b3-bb78-255198f03620",
   "metadata": {
    "execution": {
     "iopub.execute_input": "2021-11-28T07:25:32.204814Z",
     "iopub.status.busy": "2021-11-28T07:25:32.202700Z",
     "iopub.status.idle": "2021-11-28T07:25:32.802661Z",
     "shell.execute_reply": "2021-11-28T07:25:32.801048Z"
    },
    "papermill": {
     "duration": 0.648339,
     "end_time": "2021-11-28T07:25:32.803038",
     "exception": false,
     "start_time": "2021-11-28T07:25:32.154699",
     "status": "completed"
    },
    "tags": []
   },
   "outputs": [],
   "source": [
    "!find ${CODE_DIR} -regex '^.*\\(__pycache__\\)$' -prune -exec rm -rf {} \\;"
   ]
  },
  {
   "cell_type": "code",
   "execution_count": 5,
   "id": "5cf4ce29-d611-4fc8-8880-293c09e5ab9a",
   "metadata": {
    "execution": {
     "iopub.execute_input": "2021-11-28T07:25:32.897473Z",
     "iopub.status.busy": "2021-11-28T07:25:32.897007Z",
     "iopub.status.idle": "2021-11-28T07:25:33.498772Z",
     "shell.execute_reply": "2021-11-28T07:25:33.497069Z"
    },
    "papermill": {
     "duration": 0.650009,
     "end_time": "2021-11-28T07:25:33.499150",
     "exception": false,
     "start_time": "2021-11-28T07:25:32.849141",
     "status": "completed"
    },
    "tags": []
   },
   "outputs": [],
   "source": [
    "!find ${CODE_DIR} -regex '^.*\\(__pycache__\\)$' -print"
   ]
  },
  {
   "cell_type": "markdown",
   "id": "35a04385-a901-4726-82a6-a01f16281efe",
   "metadata": {
    "papermill": {
     "duration": 0.044987,
     "end_time": "2021-11-28T07:25:33.590008",
     "exception": false,
     "start_time": "2021-11-28T07:25:33.545021",
     "status": "completed"
    },
    "tags": []
   },
   "source": [
    "# Modules"
   ]
  },
  {
   "cell_type": "code",
   "execution_count": 6,
   "id": "a75c4496-d379-4668-905d-0e9136981f0c",
   "metadata": {
    "execution": {
     "iopub.execute_input": "2021-11-28T07:25:33.683281Z",
     "iopub.status.busy": "2021-11-28T07:25:33.682835Z",
     "iopub.status.idle": "2021-11-28T07:25:33.971741Z",
     "shell.execute_reply": "2021-11-28T07:25:33.972117Z"
    },
    "papermill": {
     "duration": 0.337701,
     "end_time": "2021-11-28T07:25:33.972247",
     "exception": false,
     "start_time": "2021-11-28T07:25:33.634546",
     "status": "completed"
    },
    "tags": []
   },
   "outputs": [],
   "source": [
    "import numpy as np\n",
    "\n",
    "from clustermatch.coef import cm"
   ]
  },
  {
   "cell_type": "code",
   "execution_count": 7,
   "id": "1a58ccf8-1bf5-4177-9b06-944a0d57655a",
   "metadata": {
    "execution": {
     "iopub.execute_input": "2021-11-28T07:25:34.067109Z",
     "iopub.status.busy": "2021-11-28T07:25:34.066647Z",
     "iopub.status.idle": "2021-11-28T07:25:34.078948Z",
     "shell.execute_reply": "2021-11-28T07:25:34.079319Z"
    },
    "papermill": {
     "duration": 0.061435,
     "end_time": "2021-11-28T07:25:34.079440",
     "exception": false,
     "start_time": "2021-11-28T07:25:34.018005",
     "status": "completed"
    },
    "tags": []
   },
   "outputs": [
    {
     "data": {
      "text/plain": [
       "0.0"
      ]
     },
     "execution_count": 7,
     "metadata": {},
     "output_type": "execute_result"
    }
   ],
   "source": [
    "# let numba compile all the code before profiling\n",
    "cm(np.random.rand(10), np.random.rand(10))"
   ]
  },
  {
   "cell_type": "markdown",
   "id": "2c92a1ad-2fc9-4a16-a5f8-fce685246996",
   "metadata": {
    "papermill": {
     "duration": 0.045019,
     "end_time": "2021-11-28T07:25:34.172385",
     "exception": false,
     "start_time": "2021-11-28T07:25:34.127366",
     "status": "completed"
    },
    "tags": []
   },
   "source": [
    "# Data"
   ]
  },
  {
   "cell_type": "code",
   "execution_count": 8,
   "id": "2316ffcd-a6e4-453f-bb52-779685c5c5bf",
   "metadata": {
    "execution": {
     "iopub.execute_input": "2021-11-28T07:25:34.265897Z",
     "iopub.status.busy": "2021-11-28T07:25:34.265436Z",
     "iopub.status.idle": "2021-11-28T07:25:34.267573Z",
     "shell.execute_reply": "2021-11-28T07:25:34.267132Z"
    },
    "papermill": {
     "duration": 0.05052,
     "end_time": "2021-11-28T07:25:34.267666",
     "exception": false,
     "start_time": "2021-11-28T07:25:34.217146",
     "status": "completed"
    },
    "tags": []
   },
   "outputs": [],
   "source": [
    "n_genes, n_samples = 10, 30000"
   ]
  },
  {
   "cell_type": "code",
   "execution_count": 9,
   "id": "b2f92fb1-113d-479b-8bbf-2be229e26e8f",
   "metadata": {
    "execution": {
     "iopub.execute_input": "2021-11-28T07:25:34.362573Z",
     "iopub.status.busy": "2021-11-28T07:25:34.362128Z",
     "iopub.status.idle": "2021-11-28T07:25:34.363627Z",
     "shell.execute_reply": "2021-11-28T07:25:34.363999Z"
    },
    "papermill": {
     "duration": 0.050936,
     "end_time": "2021-11-28T07:25:34.364117",
     "exception": false,
     "start_time": "2021-11-28T07:25:34.313181",
     "status": "completed"
    },
    "tags": []
   },
   "outputs": [],
   "source": [
    "np.random.seed(0)"
   ]
  },
  {
   "cell_type": "code",
   "execution_count": 10,
   "id": "63638c0b-b436-48a9-93e0-db2adb939a61",
   "metadata": {
    "execution": {
     "iopub.execute_input": "2021-11-28T07:25:34.458891Z",
     "iopub.status.busy": "2021-11-28T07:25:34.458459Z",
     "iopub.status.idle": "2021-11-28T07:25:34.466243Z",
     "shell.execute_reply": "2021-11-28T07:25:34.465009Z"
    },
    "papermill": {
     "duration": 0.056345,
     "end_time": "2021-11-28T07:25:34.466466",
     "exception": false,
     "start_time": "2021-11-28T07:25:34.410121",
     "status": "completed"
    },
    "tags": []
   },
   "outputs": [],
   "source": [
    "data = np.random.rand(n_genes, n_samples)"
   ]
  },
  {
   "cell_type": "code",
   "execution_count": 11,
   "id": "808017ed-9a8a-4bf7-a3dd-42317a39ce8f",
   "metadata": {
    "execution": {
     "iopub.execute_input": "2021-11-28T07:25:34.584447Z",
     "iopub.status.busy": "2021-11-28T07:25:34.583930Z",
     "iopub.status.idle": "2021-11-28T07:25:34.586058Z",
     "shell.execute_reply": "2021-11-28T07:25:34.586413Z"
    },
    "papermill": {
     "duration": 0.052389,
     "end_time": "2021-11-28T07:25:34.586529",
     "exception": false,
     "start_time": "2021-11-28T07:25:34.534140",
     "status": "completed"
    },
    "tags": []
   },
   "outputs": [
    {
     "data": {
      "text/plain": [
       "(10, 30000)"
      ]
     },
     "execution_count": 11,
     "metadata": {},
     "output_type": "execute_result"
    }
   ],
   "source": [
    "data.shape"
   ]
  },
  {
   "cell_type": "markdown",
   "id": "716e4219-cad5-453b-8331-47d310689e03",
   "metadata": {
    "papermill": {
     "duration": 0.0466,
     "end_time": "2021-11-28T07:25:34.680364",
     "exception": false,
     "start_time": "2021-11-28T07:25:34.633764",
     "status": "completed"
    },
    "tags": []
   },
   "source": [
    "# With default `internal_n_clusters`"
   ]
  },
  {
   "cell_type": "code",
   "execution_count": 12,
   "id": "67807856-f337-4c6e-ae31-cd306577a314",
   "metadata": {
    "execution": {
     "iopub.execute_input": "2021-11-28T07:25:34.777519Z",
     "iopub.status.busy": "2021-11-28T07:25:34.777073Z",
     "iopub.status.idle": "2021-11-28T07:25:34.779173Z",
     "shell.execute_reply": "2021-11-28T07:25:34.778725Z"
    },
    "papermill": {
     "duration": 0.052049,
     "end_time": "2021-11-28T07:25:34.779266",
     "exception": false,
     "start_time": "2021-11-28T07:25:34.727217",
     "status": "completed"
    },
    "tags": []
   },
   "outputs": [],
   "source": [
    "def func():\n",
    "    n_clust = list(range(2, 10 + 1))\n",
    "    return cm(data, internal_n_clusters=n_clust)"
   ]
  },
  {
   "cell_type": "code",
   "execution_count": 13,
   "id": "2965a695-5c0c-4e9e-8435-dcbfa610eb81",
   "metadata": {
    "execution": {
     "iopub.execute_input": "2021-11-28T07:25:34.879351Z",
     "iopub.status.busy": "2021-11-28T07:25:34.878881Z",
     "iopub.status.idle": "2021-11-28T07:26:54.769462Z",
     "shell.execute_reply": "2021-11-28T07:26:54.769806Z"
    },
    "papermill": {
     "duration": 79.94265,
     "end_time": "2021-11-28T07:26:54.769919",
     "exception": false,
     "start_time": "2021-11-28T07:25:34.827269",
     "status": "completed"
    },
    "tags": []
   },
   "outputs": [
    {
     "name": "stdout",
     "output_type": "stream",
     "text": [
      "5 s ± 37.4 ms per loop (mean ± std. dev. of 7 runs, 1 loop each)\n"
     ]
    }
   ],
   "source": [
    "%%timeit func()\n",
    "func()"
   ]
  },
  {
   "cell_type": "code",
   "execution_count": 14,
   "id": "51c7a416-064a-4669-a09f-16f837d32475",
   "metadata": {
    "execution": {
     "iopub.execute_input": "2021-11-28T07:26:54.869309Z",
     "iopub.status.busy": "2021-11-28T07:26:54.868827Z",
     "iopub.status.idle": "2021-11-28T07:26:59.882880Z",
     "shell.execute_reply": "2021-11-28T07:26:59.882426Z"
    },
    "papermill": {
     "duration": 5.065953,
     "end_time": "2021-11-28T07:26:59.882978",
     "exception": false,
     "start_time": "2021-11-28T07:26:54.817025",
     "status": "completed"
    },
    "tags": []
   },
   "outputs": [
    {
     "name": "stdout",
     "output_type": "stream",
     "text": [
      " \n",
      "*** Profile printout saved to text file '09-cm_many_samples-default_internal_n_clusters.txt'. \n"
     ]
    }
   ],
   "source": [
    "%%prun -s cumulative -l 50 -T 09-cm_many_samples-default_internal_n_clusters.txt\n",
    "func()"
   ]
  },
  {
   "cell_type": "markdown",
   "id": "cd74d8b8-517c-42cf-9dbf-27474b2c3822",
   "metadata": {},
   "source": [
    "These results are just slightly worse than the numba-compiled version (notebook `07`)."
   ]
  },
  {
   "cell_type": "markdown",
   "id": "025974ff-06d4-4d82-9b05-03f7a84d7211",
   "metadata": {
    "papermill": {
     "duration": 0.048089,
     "end_time": "2021-11-28T07:26:59.980623",
     "exception": false,
     "start_time": "2021-11-28T07:26:59.932534",
     "status": "completed"
    },
    "tags": []
   },
   "source": [
    "# With reduced `internal_n_clusters`"
   ]
  },
  {
   "cell_type": "code",
   "execution_count": 15,
   "id": "c20c4ecf-8060-495e-92b0-eb8e0d0dfbf3",
   "metadata": {
    "execution": {
     "iopub.execute_input": "2021-11-28T07:27:00.083119Z",
     "iopub.status.busy": "2021-11-28T07:27:00.082620Z",
     "iopub.status.idle": "2021-11-28T07:27:00.084165Z",
     "shell.execute_reply": "2021-11-28T07:27:00.084520Z"
    },
    "papermill": {
     "duration": 0.054556,
     "end_time": "2021-11-28T07:27:00.084634",
     "exception": false,
     "start_time": "2021-11-28T07:27:00.030078",
     "status": "completed"
    },
    "tags": []
   },
   "outputs": [],
   "source": [
    "def func():\n",
    "    n_clust = list(range(2, 5 + 1))\n",
    "    return cm(data, internal_n_clusters=n_clust)"
   ]
  },
  {
   "cell_type": "code",
   "execution_count": 16,
   "id": "11259d8c-3bf3-4299-b47b-211556c3bc08",
   "metadata": {
    "execution": {
     "iopub.execute_input": "2021-11-28T07:27:00.187093Z",
     "iopub.status.busy": "2021-11-28T07:27:00.186612Z",
     "iopub.status.idle": "2021-11-28T07:27:08.215528Z",
     "shell.execute_reply": "2021-11-28T07:27:08.215081Z"
    },
    "papermill": {
     "duration": 8.081509,
     "end_time": "2021-11-28T07:27:08.215623",
     "exception": false,
     "start_time": "2021-11-28T07:27:00.134114",
     "status": "completed"
    },
    "tags": []
   },
   "outputs": [
    {
     "name": "stdout",
     "output_type": "stream",
     "text": [
      "504 ms ± 4.11 ms per loop (mean ± std. dev. of 7 runs, 1 loop each)\n"
     ]
    }
   ],
   "source": [
    "%%timeit func()\n",
    "func()"
   ]
  },
  {
   "cell_type": "code",
   "execution_count": 17,
   "id": "42d9e6e0-3c01-46e1-a409-52ff26cb78f4",
   "metadata": {
    "execution": {
     "iopub.execute_input": "2021-11-28T07:27:08.321699Z",
     "iopub.status.busy": "2021-11-28T07:27:08.321223Z",
     "iopub.status.idle": "2021-11-28T07:27:08.821422Z",
     "shell.execute_reply": "2021-11-28T07:27:08.821797Z"
    },
    "papermill": {
     "duration": 0.554356,
     "end_time": "2021-11-28T07:27:08.821916",
     "exception": false,
     "start_time": "2021-11-28T07:27:08.267560",
     "status": "completed"
    },
    "tags": []
   },
   "outputs": [
    {
     "name": "stdout",
     "output_type": "stream",
     "text": [
      " \n",
      "*** Profile printout saved to text file '09-cm_many_samples-less_internal_n_clusters.txt'. \n"
     ]
    }
   ],
   "source": [
    "%%prun -s cumulative -l 50 -T 09-cm_many_samples-less_internal_n_clusters.txt\n",
    "func()"
   ]
  },
  {
   "cell_type": "markdown",
   "id": "ba154ea5-5301-4fd4-8fc7-71534435a2a5",
   "metadata": {},
   "source": [
    "These results are slightly better than the numba-compiled version (notebook `07`), which is surprising. In the future, it would be interesting to disable threading here to get accurate profiling results to debug this issue."
   ]
  },
  {
   "cell_type": "code",
   "execution_count": null,
   "id": "e2556204-1c10-4e01-8c6c-ea63ddb37530",
   "metadata": {
    "papermill": {
     "duration": 0.049886,
     "end_time": "2021-11-28T07:27:08.922064",
     "exception": false,
     "start_time": "2021-11-28T07:27:08.872178",
     "status": "completed"
    },
    "tags": []
   },
   "outputs": [],
   "source": []
  }
 ],
 "metadata": {
  "jupytext": {
   "cell_metadata_filter": "all,-execution,-papermill,-trusted",
   "text_representation": {
    "extension": ".py",
    "format_name": "percent",
    "format_version": "1.3",
    "jupytext_version": "1.11.5"
   }
  },
  "kernelspec": {
   "display_name": "Python 3 (ipykernel)",
   "language": "python",
   "name": "python3"
  },
  "language_info": {
   "codemirror_mode": {
    "name": "ipython",
    "version": 3
   },
   "file_extension": ".py",
   "mimetype": "text/x-python",
   "name": "python",
   "nbconvert_exporter": "python",
   "pygments_lexer": "ipython3",
   "version": "3.9.7"
  },
  "papermill": {
   "default_parameters": {},
   "duration": 100.015769,
   "end_time": "2021-11-28T07:27:09.181798",
   "environment_variables": {},
   "exception": null,
   "input_path": "nbs/others/05_clustermatch_profiling/11_cm_optimized/09-many_samples.ipynb",
   "output_path": "nbs/others/05_clustermatch_profiling/11_cm_optimized/09-many_samples.run.ipynb",
   "parameters": {},
   "start_time": "2021-11-28T07:25:29.166029",
   "version": "2.3.3"
  }
 },
 "nbformat": 4,
 "nbformat_minor": 5
}
