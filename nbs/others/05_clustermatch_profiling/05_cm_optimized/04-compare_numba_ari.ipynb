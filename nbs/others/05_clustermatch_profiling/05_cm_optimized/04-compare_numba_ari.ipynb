{
 "cells": [
  {
   "cell_type": "markdown",
   "id": "744d19b4-b770-43f0-90bc-7c54450f8676",
   "metadata": {
    "tags": []
   },
   "source": [
    "# Description"
   ]
  },
  {
   "cell_type": "markdown",
   "id": "771c7338-cfa3-488d-9f08-385c2f8ccd20",
   "metadata": {},
   "source": [
    "Compares two different ccc implementations: one using the new optimized adjusted Rand index (ARI) with numba, and the other one using the ARI from scikit-learn."
   ]
  },
  {
   "cell_type": "markdown",
   "id": "ab9c1905-6d5e-435b-a1b2-701c754d770d",
   "metadata": {
    "tags": []
   },
   "source": [
    "# Modules"
   ]
  },
  {
   "cell_type": "code",
   "execution_count": 1,
   "id": "0bd1d6fe-1df8-41e2-87bc-1a4bef0e0c83",
   "metadata": {
    "execution": {
     "iopub.execute_input": "2021-09-09T04:18:28.584055Z",
     "iopub.status.busy": "2021-09-09T04:18:28.583550Z",
     "iopub.status.idle": "2021-09-09T04:18:29.064455Z",
     "shell.execute_reply": "2021-09-09T04:18:29.063924Z"
    },
    "papermill": {
     "duration": 0.523444,
     "end_time": "2021-09-09T04:18:29.064564",
     "exception": false,
     "start_time": "2021-09-09T04:18:28.541120",
     "status": "completed"
    },
    "tags": []
   },
   "outputs": [],
   "source": [
    "import numpy as np\n",
    "\n",
    "from ccc import coef"
   ]
  },
  {
   "cell_type": "markdown",
   "id": "5db863ce-d030-425b-afda-2e04ea3cc55a",
   "metadata": {
    "tags": []
   },
   "source": [
    "# Data"
   ]
  },
  {
   "cell_type": "code",
   "execution_count": 2,
   "id": "2316ffcd-a6e4-453f-bb52-779685c5c5bf",
   "metadata": {
    "execution": {
     "iopub.execute_input": "2021-09-09T04:18:29.082828Z",
     "iopub.status.busy": "2021-09-09T04:18:29.082373Z",
     "iopub.status.idle": "2021-09-09T04:18:29.084079Z",
     "shell.execute_reply": "2021-09-09T04:18:29.084440Z"
    },
    "papermill": {
     "duration": 0.012331,
     "end_time": "2021-09-09T04:18:29.084554",
     "exception": false,
     "start_time": "2021-09-09T04:18:29.072223",
     "status": "completed"
    },
    "tags": []
   },
   "outputs": [],
   "source": [
    "n_genes, n_samples = 100, 1000"
   ]
  },
  {
   "cell_type": "code",
   "execution_count": 3,
   "id": "b2f92fb1-113d-479b-8bbf-2be229e26e8f",
   "metadata": {
    "execution": {
     "iopub.execute_input": "2021-09-09T04:18:29.102581Z",
     "iopub.status.busy": "2021-09-09T04:18:29.102132Z",
     "iopub.status.idle": "2021-09-09T04:18:29.103668Z",
     "shell.execute_reply": "2021-09-09T04:18:29.104053Z"
    },
    "papermill": {
     "duration": 0.012104,
     "end_time": "2021-09-09T04:18:29.104165",
     "exception": false,
     "start_time": "2021-09-09T04:18:29.092061",
     "status": "completed"
    },
    "tags": []
   },
   "outputs": [],
   "source": [
    "np.random.seed(0)"
   ]
  },
  {
   "cell_type": "code",
   "execution_count": 4,
   "id": "63638c0b-b436-48a9-93e0-db2adb939a61",
   "metadata": {
    "execution": {
     "iopub.execute_input": "2021-09-09T04:18:29.122001Z",
     "iopub.status.busy": "2021-09-09T04:18:29.121465Z",
     "iopub.status.idle": "2021-09-09T04:18:29.124243Z",
     "shell.execute_reply": "2021-09-09T04:18:29.124600Z"
    },
    "papermill": {
     "duration": 0.012956,
     "end_time": "2021-09-09T04:18:29.124711",
     "exception": false,
     "start_time": "2021-09-09T04:18:29.111755",
     "status": "completed"
    },
    "tags": []
   },
   "outputs": [],
   "source": [
    "data = np.random.rand(n_genes, n_samples)"
   ]
  },
  {
   "cell_type": "code",
   "execution_count": 5,
   "id": "808017ed-9a8a-4bf7-a3dd-42317a39ce8f",
   "metadata": {
    "execution": {
     "iopub.execute_input": "2021-09-09T04:18:29.148556Z",
     "iopub.status.busy": "2021-09-09T04:18:29.142141Z",
     "iopub.status.idle": "2021-09-09T04:18:29.151318Z",
     "shell.execute_reply": "2021-09-09T04:18:29.150852Z"
    },
    "papermill": {
     "duration": 0.018358,
     "end_time": "2021-09-09T04:18:29.151418",
     "exception": false,
     "start_time": "2021-09-09T04:18:29.133060",
     "status": "completed"
    },
    "tags": []
   },
   "outputs": [
    {
     "data": {
      "text/plain": [
       "(100, 1000)"
      ]
     },
     "execution_count": 5,
     "metadata": {},
     "output_type": "execute_result"
    }
   ],
   "source": [
    "data.shape"
   ]
  },
  {
   "cell_type": "markdown",
   "id": "d3714f75-f5af-46bb-a10f-234a88ddbeb3",
   "metadata": {
    "papermill": {
     "duration": 0.007595,
     "end_time": "2021-09-09T04:18:29.167266",
     "exception": false,
     "start_time": "2021-09-09T04:18:29.159671",
     "status": "completed"
    },
    "tags": []
   },
   "source": [
    "# Improved implementation (ARI implemented in numba)"
   ]
  },
  {
   "cell_type": "code",
   "execution_count": 6,
   "id": "ace87b57-029a-4738-ab3c-6cdf18d92743",
   "metadata": {
    "execution": {
     "iopub.execute_input": "2021-09-09T04:18:29.185658Z",
     "iopub.status.busy": "2021-09-09T04:18:29.184440Z",
     "iopub.status.idle": "2021-09-09T04:18:29.187194Z",
     "shell.execute_reply": "2021-09-09T04:18:29.187561Z"
    },
    "papermill": {
     "duration": 0.01293,
     "end_time": "2021-09-09T04:18:29.187675",
     "exception": false,
     "start_time": "2021-09-09T04:18:29.174745",
     "status": "completed"
    },
    "tags": []
   },
   "outputs": [],
   "source": [
    "def func():\n",
    "    return coef.ccc(data, internal_n_clusters=range(2, 10 + 1), precompute_parts=True)"
   ]
  },
  {
   "cell_type": "code",
   "execution_count": 7,
   "id": "dcebf353-801a-4598-94e0-5c5e11002650",
   "metadata": {
    "execution": {
     "iopub.execute_input": "2021-09-09T04:18:29.207596Z",
     "iopub.status.busy": "2021-09-09T04:18:29.207141Z",
     "iopub.status.idle": "2021-09-09T04:32:35.841587Z",
     "shell.execute_reply": "2021-09-09T04:32:35.841932Z"
    },
    "papermill": {
     "duration": 846.646373,
     "end_time": "2021-09-09T04:32:35.842044",
     "exception": false,
     "start_time": "2021-09-09T04:18:29.195671",
     "status": "completed"
    },
    "tags": []
   },
   "outputs": [
    {
     "name": "stdout",
     "output_type": "stream",
     "text": [
      "52.5 s ± 92 ms per loop (mean ± std. dev. of 7 runs, 1 loop each)\n"
     ]
    }
   ],
   "source": [
    "%%timeit func()\n",
    "func()"
   ]
  },
  {
   "cell_type": "code",
   "execution_count": 8,
   "id": "31544659-dc3d-4d71-ad1c-ac86eaa5471c",
   "metadata": {
    "execution": {
     "iopub.execute_input": "2021-09-09T04:32:36.762474Z",
     "iopub.status.busy": "2021-09-09T04:32:36.761963Z",
     "iopub.status.idle": "2021-09-09T04:33:29.820846Z",
     "shell.execute_reply": "2021-09-09T04:33:29.821205Z"
    },
    "papermill": {
     "duration": 53.073946,
     "end_time": "2021-09-09T04:33:29.821312",
     "exception": false,
     "start_time": "2021-09-09T04:32:36.747366",
     "status": "completed"
    },
    "tags": []
   },
   "outputs": [
    {
     "name": "stdout",
     "output_type": "stream",
     "text": [
      " \n",
      "*** Profile printout saved to text file '04-cm_ari_numba.txt'. \n"
     ]
    }
   ],
   "source": [
    "%%prun -s cumulative -l 20 -T 04-cm_ari_numba.txt\n",
    "func()"
   ]
  },
  {
   "cell_type": "markdown",
   "id": "3ecadaeb-8769-492d-b5c8-d69e63c2f857",
   "metadata": {
    "papermill": {
     "duration": 0.007945,
     "end_time": "2021-09-09T04:33:29.837406",
     "exception": false,
     "start_time": "2021-09-09T04:33:29.829461",
     "status": "completed"
    },
    "tags": []
   },
   "source": [
    "# Original implementation (ARI from sklearn)"
   ]
  },
  {
   "cell_type": "code",
   "execution_count": 9,
   "id": "49246e4d-b2cc-41b5-8139-3af8b9794f69",
   "metadata": {
    "execution": {
     "iopub.execute_input": "2021-09-09T04:33:29.857188Z",
     "iopub.status.busy": "2021-09-09T04:33:29.856746Z",
     "iopub.status.idle": "2021-09-09T04:33:29.892090Z",
     "shell.execute_reply": "2021-09-09T04:33:29.891597Z"
    },
    "papermill": {
     "duration": 0.04671,
     "end_time": "2021-09-09T04:33:29.892185",
     "exception": false,
     "start_time": "2021-09-09T04:33:29.845475",
     "status": "completed"
    },
    "tags": []
   },
   "outputs": [],
   "source": [
    "from sklearn.metrics import adjusted_rand_score"
   ]
  },
  {
   "cell_type": "code",
   "execution_count": 10,
   "id": "d968d797-969f-4808-a802-e723097c1770",
   "metadata": {
    "execution": {
     "iopub.execute_input": "2021-09-09T04:33:29.912495Z",
     "iopub.status.busy": "2021-09-09T04:33:29.912047Z",
     "iopub.status.idle": "2021-09-09T04:33:29.914122Z",
     "shell.execute_reply": "2021-09-09T04:33:29.913674Z"
    },
    "papermill": {
     "duration": 0.013473,
     "end_time": "2021-09-09T04:33:29.914230",
     "exception": false,
     "start_time": "2021-09-09T04:33:29.900757",
     "status": "completed"
    },
    "tags": []
   },
   "outputs": [],
   "source": [
    "coef.ari = adjusted_rand_score"
   ]
  },
  {
   "cell_type": "code",
   "execution_count": 11,
   "id": "c959248e-a451-458f-915e-745c782eb3d0",
   "metadata": {
    "execution": {
     "iopub.execute_input": "2021-09-09T04:33:29.935476Z",
     "iopub.status.busy": "2021-09-09T04:33:29.935026Z",
     "iopub.status.idle": "2021-09-09T04:33:29.936692Z",
     "shell.execute_reply": "2021-09-09T04:33:29.937079Z"
    },
    "papermill": {
     "duration": 0.014062,
     "end_time": "2021-09-09T04:33:29.937192",
     "exception": false,
     "start_time": "2021-09-09T04:33:29.923130",
     "status": "completed"
    },
    "tags": []
   },
   "outputs": [],
   "source": [
    "def func():\n",
    "    return coef.ccc(data, internal_n_clusters=range(2, 10 + 1), precompute_parts=True)"
   ]
  },
  {
   "cell_type": "code",
   "execution_count": 12,
   "id": "bb62be43-f64c-44a7-b678-101b029c3644",
   "metadata": {
    "execution": {
     "iopub.execute_input": "2021-09-09T04:33:29.971151Z",
     "iopub.status.busy": "2021-09-09T04:33:29.970566Z",
     "iopub.status.idle": "2021-09-09T05:55:11.009412Z",
     "shell.execute_reply": "2021-09-09T05:55:11.009766Z"
    },
    "papermill": {
     "duration": 4901.063849,
     "end_time": "2021-09-09T05:55:11.009879",
     "exception": false,
     "start_time": "2021-09-09T04:33:29.946030",
     "status": "completed"
    },
    "tags": []
   },
   "outputs": [
    {
     "name": "stdout",
     "output_type": "stream",
     "text": [
      "5min 6s ± 499 ms per loop (mean ± std. dev. of 7 runs, 1 loop each)\n"
     ]
    }
   ],
   "source": [
    "%%timeit func()\n",
    "func()"
   ]
  },
  {
   "cell_type": "code",
   "execution_count": 13,
   "id": "3c413e65-c614-4d25-b98b-c2326c38bf6c",
   "metadata": {
    "execution": {
     "iopub.execute_input": "2021-09-09T05:55:11.930736Z",
     "iopub.status.busy": "2021-09-09T05:55:11.929113Z",
     "iopub.status.idle": "2021-09-09T06:02:22.952388Z",
     "shell.execute_reply": "2021-09-09T06:02:22.952764Z"
    },
    "papermill": {
     "duration": 431.038084,
     "end_time": "2021-09-09T06:02:22.952878",
     "exception": false,
     "start_time": "2021-09-09T05:55:11.914794",
     "status": "completed"
    },
    "tags": []
   },
   "outputs": [
    {
     "name": "stdout",
     "output_type": "stream",
     "text": [
      " \n",
      "*** Profile printout saved to text file '04-cm_ari_sklearn.txt'. \n"
     ]
    }
   ],
   "source": [
    "%%prun -s cumulative -l 20 -T 04-cm_ari_sklearn.txt\n",
    "func()"
   ]
  },
  {
   "cell_type": "code",
   "execution_count": null,
   "id": "46815c91-f269-4c02-b90b-d31d1dffde41",
   "metadata": {
    "papermill": {
     "duration": 0.012311,
     "end_time": "2021-09-09T06:02:23.877354",
     "exception": false,
     "start_time": "2021-09-09T06:02:23.865043",
     "status": "completed"
    },
    "tags": []
   },
   "outputs": [],
   "source": []
  }
 ],
 "metadata": {
  "jupytext": {
   "cell_metadata_filter": "all,-execution,-papermill,-trusted"
  },
  "kernelspec": {
   "display_name": "Python 3 (ipykernel)",
   "language": "python",
   "name": "python3"
  },
  "language_info": {
   "codemirror_mode": {
    "name": "ipython",
    "version": 3
   },
   "file_extension": ".py",
   "mimetype": "text/x-python",
   "name": "python",
   "nbconvert_exporter": "python",
   "pygments_lexer": "ipython3",
   "version": "3.9.7"
  },
  "papermill": {
   "default_parameters": {},
   "duration": 6236.82934,
   "end_time": "2021-09-09T06:02:24.316630",
   "environment_variables": {},
   "exception": null,
   "input_path": "nbs/04_clustermatch_profiling/04-compare_numba_ari.ipynb",
   "output_path": "nbs/04_clustermatch_profiling/04-compare_numba_ari.run.ipynb",
   "parameters": {},
   "start_time": "2021-09-09T04:18:27.487290",
   "version": "2.3.3"
  }
 },
 "nbformat": 4,
 "nbformat_minor": 5
}
