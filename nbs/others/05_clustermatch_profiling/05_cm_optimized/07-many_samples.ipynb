{
 "cells": [
  {
   "cell_type": "markdown",
   "id": "fd52facb-2470-4824-83d4-7c9fd042ecfb",
   "metadata": {
    "papermill": {
     "duration": 0.010442,
     "end_time": "2021-09-09T16:10:11.814200",
     "exception": false,
     "start_time": "2021-09-09T16:10:11.803758",
     "status": "completed"
    },
    "tags": []
   },
   "source": [
    "# Description"
   ]
  },
  {
   "cell_type": "markdown",
   "id": "50a3b5de-9d1a-42e9-9fa5-55436a2b38d7",
   "metadata": {},
   "source": [
    "Clustermatch run using a larger number of samples."
   ]
  },
  {
   "cell_type": "markdown",
   "id": "35a04385-a901-4726-82a6-a01f16281efe",
   "metadata": {
    "papermill": {
     "duration": 0.008786,
     "end_time": "2021-09-09T16:10:11.851585",
     "exception": false,
     "start_time": "2021-09-09T16:10:11.842799",
     "status": "completed"
    },
    "tags": []
   },
   "source": [
    "# Modules"
   ]
  },
  {
   "cell_type": "code",
   "execution_count": 1,
   "id": "a75c4496-d379-4668-905d-0e9136981f0c",
   "metadata": {
    "execution": {
     "iopub.execute_input": "2021-09-09T16:10:11.876743Z",
     "iopub.status.busy": "2021-09-09T16:10:11.876242Z",
     "iopub.status.idle": "2021-09-09T16:10:12.431881Z",
     "shell.execute_reply": "2021-09-09T16:10:12.431265Z"
    },
    "papermill": {
     "duration": 0.571548,
     "end_time": "2021-09-09T16:10:12.432013",
     "exception": false,
     "start_time": "2021-09-09T16:10:11.860465",
     "status": "completed"
    },
    "tags": []
   },
   "outputs": [],
   "source": [
    "import numpy as np\n",
    "\n",
    "from clustermatch.coef import ccc"
   ]
  },
  {
   "cell_type": "markdown",
   "id": "2c92a1ad-2fc9-4a16-a5f8-fce685246996",
   "metadata": {
    "papermill": {
     "duration": 0.009043,
     "end_time": "2021-09-09T16:10:12.451733",
     "exception": false,
     "start_time": "2021-09-09T16:10:12.442690",
     "status": "completed"
    },
    "tags": []
   },
   "source": [
    "# Data"
   ]
  },
  {
   "cell_type": "code",
   "execution_count": 2,
   "id": "2316ffcd-a6e4-453f-bb52-779685c5c5bf",
   "metadata": {
    "execution": {
     "iopub.execute_input": "2021-09-09T16:10:12.473309Z",
     "iopub.status.busy": "2021-09-09T16:10:12.472782Z",
     "iopub.status.idle": "2021-09-09T16:10:12.474450Z",
     "shell.execute_reply": "2021-09-09T16:10:12.474843Z"
    },
    "papermill": {
     "duration": 0.014134,
     "end_time": "2021-09-09T16:10:12.474984",
     "exception": false,
     "start_time": "2021-09-09T16:10:12.460850",
     "status": "completed"
    },
    "tags": []
   },
   "outputs": [],
   "source": [
    "n_genes, n_samples = 10, 30000"
   ]
  },
  {
   "cell_type": "code",
   "execution_count": 3,
   "id": "b2f92fb1-113d-479b-8bbf-2be229e26e8f",
   "metadata": {
    "execution": {
     "iopub.execute_input": "2021-09-09T16:10:12.496618Z",
     "iopub.status.busy": "2021-09-09T16:10:12.496091Z",
     "iopub.status.idle": "2021-09-09T16:10:12.498272Z",
     "shell.execute_reply": "2021-09-09T16:10:12.497848Z"
    },
    "papermill": {
     "duration": 0.014157,
     "end_time": "2021-09-09T16:10:12.498386",
     "exception": false,
     "start_time": "2021-09-09T16:10:12.484229",
     "status": "completed"
    },
    "tags": []
   },
   "outputs": [],
   "source": [
    "np.random.seed(0)"
   ]
  },
  {
   "cell_type": "code",
   "execution_count": 4,
   "id": "63638c0b-b436-48a9-93e0-db2adb939a61",
   "metadata": {
    "execution": {
     "iopub.execute_input": "2021-09-09T16:10:12.520026Z",
     "iopub.status.busy": "2021-09-09T16:10:12.519502Z",
     "iopub.status.idle": "2021-09-09T16:10:12.524583Z",
     "shell.execute_reply": "2021-09-09T16:10:12.524055Z"
    },
    "papermill": {
     "duration": 0.016943,
     "end_time": "2021-09-09T16:10:12.524693",
     "exception": false,
     "start_time": "2021-09-09T16:10:12.507750",
     "status": "completed"
    },
    "tags": []
   },
   "outputs": [],
   "source": [
    "data = np.random.rand(n_genes, n_samples)"
   ]
  },
  {
   "cell_type": "code",
   "execution_count": 5,
   "id": "808017ed-9a8a-4bf7-a3dd-42317a39ce8f",
   "metadata": {
    "execution": {
     "iopub.execute_input": "2021-09-09T16:10:12.552162Z",
     "iopub.status.busy": "2021-09-09T16:10:12.551613Z",
     "iopub.status.idle": "2021-09-09T16:10:12.553773Z",
     "shell.execute_reply": "2021-09-09T16:10:12.554165Z"
    },
    "papermill": {
     "duration": 0.020423,
     "end_time": "2021-09-09T16:10:12.554302",
     "exception": false,
     "start_time": "2021-09-09T16:10:12.533879",
     "status": "completed"
    },
    "tags": []
   },
   "outputs": [
    {
     "data": {
      "text/plain": [
       "(10, 30000)"
      ]
     },
     "execution_count": 5,
     "metadata": {},
     "output_type": "execute_result"
    }
   ],
   "source": [
    "data.shape"
   ]
  },
  {
   "cell_type": "markdown",
   "id": "716e4219-cad5-453b-8331-47d310689e03",
   "metadata": {
    "papermill": {
     "duration": 0.009204,
     "end_time": "2021-09-09T16:10:12.573050",
     "exception": false,
     "start_time": "2021-09-09T16:10:12.563846",
     "status": "completed"
    },
    "tags": []
   },
   "source": [
    "# With defeault `internal_n_clusters`"
   ]
  },
  {
   "cell_type": "code",
   "execution_count": 6,
   "id": "67807856-f337-4c6e-ae31-cd306577a314",
   "metadata": {
    "execution": {
     "iopub.execute_input": "2021-09-09T16:10:12.598614Z",
     "iopub.status.busy": "2021-09-09T16:10:12.597331Z",
     "iopub.status.idle": "2021-09-09T16:10:12.602592Z",
     "shell.execute_reply": "2021-09-09T16:10:12.603494Z"
    },
    "papermill": {
     "duration": 0.02136,
     "end_time": "2021-09-09T16:10:12.603658",
     "exception": false,
     "start_time": "2021-09-09T16:10:12.582298",
     "status": "completed"
    },
    "tags": []
   },
   "outputs": [],
   "source": [
    "def func():\n",
    "    return ccc(data, internal_n_clusters=range(2, 10 + 1), precompute_parts=True)"
   ]
  },
  {
   "cell_type": "code",
   "execution_count": 7,
   "id": "2965a695-5c0c-4e9e-8435-dcbfa610eb81",
   "metadata": {
    "execution": {
     "iopub.execute_input": "2021-09-09T16:10:12.629875Z",
     "iopub.status.busy": "2021-09-09T16:10:12.629310Z",
     "iopub.status.idle": "2021-09-09T16:14:33.160978Z",
     "shell.execute_reply": "2021-09-09T16:14:33.161392Z"
    },
    "papermill": {
     "duration": 260.546939,
     "end_time": "2021-09-09T16:14:33.161525",
     "exception": false,
     "start_time": "2021-09-09T16:10:12.614586",
     "status": "completed"
    },
    "tags": []
   },
   "outputs": [
    {
     "name": "stdout",
     "output_type": "stream",
     "text": [
      "15.9 s ± 15.3 ms per loop (mean ± std. dev. of 7 runs, 1 loop each)\n"
     ]
    }
   ],
   "source": [
    "%%timeit func()\n",
    "func()"
   ]
  },
  {
   "cell_type": "code",
   "execution_count": 8,
   "id": "51c7a416-064a-4669-a09f-16f837d32475",
   "metadata": {
    "execution": {
     "iopub.execute_input": "2021-09-09T16:14:33.184416Z",
     "iopub.status.busy": "2021-09-09T16:14:33.183898Z",
     "iopub.status.idle": "2021-09-09T16:14:49.169630Z",
     "shell.execute_reply": "2021-09-09T16:14:49.169171Z"
    },
    "papermill": {
     "duration": 15.998614,
     "end_time": "2021-09-09T16:14:49.169744",
     "exception": false,
     "start_time": "2021-09-09T16:14:33.171130",
     "status": "completed"
    },
    "tags": []
   },
   "outputs": [
    {
     "name": "stdout",
     "output_type": "stream",
     "text": [
      " \n",
      "*** Profile printout saved to text file '07-cm_many_samples-default_internal_n_clusters.txt'. \n"
     ]
    }
   ],
   "source": [
    "%%prun -s cumulative -l 20 -T 07-cm_many_samples-default_internal_n_clusters.txt\n",
    "func()"
   ]
  },
  {
   "cell_type": "markdown",
   "id": "025974ff-06d4-4d82-9b05-03f7a84d7211",
   "metadata": {
    "papermill": {
     "duration": 0.009732,
     "end_time": "2021-09-09T16:14:49.189661",
     "exception": false,
     "start_time": "2021-09-09T16:14:49.179929",
     "status": "completed"
    },
    "tags": []
   },
   "source": [
    "# With defeault `internal_n_clusters`"
   ]
  },
  {
   "cell_type": "code",
   "execution_count": 9,
   "id": "c20c4ecf-8060-495e-92b0-eb8e0d0dfbf3",
   "metadata": {
    "execution": {
     "iopub.execute_input": "2021-09-09T16:14:49.212706Z",
     "iopub.status.busy": "2021-09-09T16:14:49.212194Z",
     "iopub.status.idle": "2021-09-09T16:14:49.213947Z",
     "shell.execute_reply": "2021-09-09T16:14:49.214325Z"
    },
    "papermill": {
     "duration": 0.014921,
     "end_time": "2021-09-09T16:14:49.214460",
     "exception": false,
     "start_time": "2021-09-09T16:14:49.199539",
     "status": "completed"
    },
    "tags": []
   },
   "outputs": [],
   "source": [
    "def func():\n",
    "    return ccc(data, internal_n_clusters=range(2, 5 + 1), precompute_parts=True)"
   ]
  },
  {
   "cell_type": "code",
   "execution_count": 10,
   "id": "11259d8c-3bf3-4299-b47b-211556c3bc08",
   "metadata": {
    "execution": {
     "iopub.execute_input": "2021-09-09T16:14:49.238744Z",
     "iopub.status.busy": "2021-09-09T16:14:49.238238Z",
     "iopub.status.idle": "2021-09-09T16:15:23.810354Z",
     "shell.execute_reply": "2021-09-09T16:15:23.810797Z"
    },
    "papermill": {
     "duration": 34.586319,
     "end_time": "2021-09-09T16:15:23.810933",
     "exception": false,
     "start_time": "2021-09-09T16:14:49.224614",
     "status": "completed"
    },
    "tags": []
   },
   "outputs": [
    {
     "name": "stdout",
     "output_type": "stream",
     "text": [
      "2.16 s ± 4.25 ms per loop (mean ± std. dev. of 7 runs, 1 loop each)\n"
     ]
    }
   ],
   "source": [
    "%%timeit func()\n",
    "func()"
   ]
  },
  {
   "cell_type": "code",
   "execution_count": 11,
   "id": "42d9e6e0-3c01-46e1-a409-52ff26cb78f4",
   "metadata": {
    "execution": {
     "iopub.execute_input": "2021-09-09T16:15:23.835144Z",
     "iopub.status.busy": "2021-09-09T16:15:23.834632Z",
     "iopub.status.idle": "2021-09-09T16:15:26.002442Z",
     "shell.execute_reply": "2021-09-09T16:15:26.001925Z"
    },
    "papermill": {
     "duration": 2.181316,
     "end_time": "2021-09-09T16:15:26.002554",
     "exception": false,
     "start_time": "2021-09-09T16:15:23.821238",
     "status": "completed"
    },
    "tags": []
   },
   "outputs": [
    {
     "name": "stdout",
     "output_type": "stream",
     "text": [
      " \n",
      "*** Profile printout saved to text file '07-cm_many_samples-less_internal_n_clusters.txt'. \n"
     ]
    }
   ],
   "source": [
    "%%prun -s cumulative -l 20 -T 07-cm_many_samples-less_internal_n_clusters.txt\n",
    "func()"
   ]
  },
  {
   "cell_type": "code",
   "execution_count": null,
   "id": "e2556204-1c10-4e01-8c6c-ea63ddb37530",
   "metadata": {
    "papermill": {
     "duration": 0.010453,
     "end_time": "2021-09-09T16:15:26.023842",
     "exception": false,
     "start_time": "2021-09-09T16:15:26.013389",
     "status": "completed"
    },
    "tags": []
   },
   "outputs": [],
   "source": []
  }
 ],
 "metadata": {
  "jupytext": {
   "cell_metadata_filter": "all,-execution,-papermill,-trusted"
  },
  "kernelspec": {
   "display_name": "Python 3 (ipykernel)",
   "language": "python",
   "name": "python3"
  },
  "language_info": {
   "codemirror_mode": {
    "name": "ipython",
    "version": 3
   },
   "file_extension": ".py",
   "mimetype": "text/x-python",
   "name": "python",
   "nbconvert_exporter": "python",
   "pygments_lexer": "ipython3",
   "version": "3.9.7"
  },
  "papermill": {
   "default_parameters": {},
   "duration": 315.881445,
   "end_time": "2021-09-09T16:15:26.441161",
   "environment_variables": {},
   "exception": null,
   "input_path": "nbs/04_clustermatch_profiling/07-many_samples.ipynb",
   "output_path": "nbs/04_clustermatch_profiling/07-many_samples.run.ipynb",
   "parameters": {},
   "start_time": "2021-09-09T16:10:10.559716",
   "version": "2.3.3"
  }
 },
 "nbformat": 4,
 "nbformat_minor": 5
}
