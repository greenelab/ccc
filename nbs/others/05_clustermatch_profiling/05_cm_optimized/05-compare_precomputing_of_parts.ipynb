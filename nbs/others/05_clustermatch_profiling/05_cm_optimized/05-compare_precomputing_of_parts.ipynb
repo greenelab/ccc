{
 "cells": [
  {
   "cell_type": "markdown",
   "id": "2273c475-ca26-491e-8025-7857a46a4094",
   "metadata": {
    "tags": []
   },
   "source": [
    "# Description"
   ]
  },
  {
   "cell_type": "markdown",
   "id": "366f81e8-36bd-4268-b773-3811cf75cc69",
   "metadata": {},
   "source": [
    "Compares two different ccc implementations: one using precomputation of internal clusterings, and the other one using the original implementation that does not perform such precomputation."
   ]
  },
  {
   "cell_type": "markdown",
   "id": "54ca1e8b-0c26-42aa-994a-5f5ef053b7a1",
   "metadata": {},
   "source": [
    "# Modules"
   ]
  },
  {
   "cell_type": "code",
   "execution_count": 1,
   "id": "a75c4496-d379-4668-905d-0e9136981f0c",
   "metadata": {
    "execution": {
     "iopub.execute_input": "2021-09-09T06:02:27.241995Z",
     "iopub.status.busy": "2021-09-09T06:02:27.241528Z",
     "iopub.status.idle": "2021-09-09T06:02:27.704896Z",
     "shell.execute_reply": "2021-09-09T06:02:27.704432Z"
    },
    "papermill": {
     "duration": 0.503435,
     "end_time": "2021-09-09T06:02:27.705005",
     "exception": false,
     "start_time": "2021-09-09T06:02:27.201570",
     "status": "completed"
    },
    "tags": []
   },
   "outputs": [],
   "source": [
    "import numpy as np\n",
    "\n",
    "from ccc.coef import ccc"
   ]
  },
  {
   "cell_type": "markdown",
   "id": "fd8aa78e-5bb6-4895-96f6-c338435ed33b",
   "metadata": {},
   "source": [
    "# Data"
   ]
  },
  {
   "cell_type": "code",
   "execution_count": 2,
   "id": "2316ffcd-a6e4-453f-bb52-779685c5c5bf",
   "metadata": {
    "execution": {
     "iopub.execute_input": "2021-09-09T06:02:27.721783Z",
     "iopub.status.busy": "2021-09-09T06:02:27.721333Z",
     "iopub.status.idle": "2021-09-09T06:02:27.723325Z",
     "shell.execute_reply": "2021-09-09T06:02:27.722961Z"
    },
    "papermill": {
     "duration": 0.011519,
     "end_time": "2021-09-09T06:02:27.723420",
     "exception": false,
     "start_time": "2021-09-09T06:02:27.711901",
     "status": "completed"
    },
    "tags": []
   },
   "outputs": [],
   "source": [
    "n_genes, n_samples = 100, 1000"
   ]
  },
  {
   "cell_type": "code",
   "execution_count": 3,
   "id": "b2f92fb1-113d-479b-8bbf-2be229e26e8f",
   "metadata": {
    "execution": {
     "iopub.execute_input": "2021-09-09T06:02:27.739686Z",
     "iopub.status.busy": "2021-09-09T06:02:27.739243Z",
     "iopub.status.idle": "2021-09-09T06:02:27.741448Z",
     "shell.execute_reply": "2021-09-09T06:02:27.741010Z"
    },
    "papermill": {
     "duration": 0.011369,
     "end_time": "2021-09-09T06:02:27.741540",
     "exception": false,
     "start_time": "2021-09-09T06:02:27.730171",
     "status": "completed"
    },
    "tags": []
   },
   "outputs": [],
   "source": [
    "np.random.seed(0)"
   ]
  },
  {
   "cell_type": "code",
   "execution_count": 4,
   "id": "63638c0b-b436-48a9-93e0-db2adb939a61",
   "metadata": {
    "execution": {
     "iopub.execute_input": "2021-09-09T06:02:27.757739Z",
     "iopub.status.busy": "2021-09-09T06:02:27.757289Z",
     "iopub.status.idle": "2021-09-09T06:02:27.759822Z",
     "shell.execute_reply": "2021-09-09T06:02:27.760202Z"
    },
    "papermill": {
     "duration": 0.012057,
     "end_time": "2021-09-09T06:02:27.760317",
     "exception": false,
     "start_time": "2021-09-09T06:02:27.748260",
     "status": "completed"
    },
    "tags": []
   },
   "outputs": [],
   "source": [
    "data = np.random.rand(n_genes, n_samples)"
   ]
  },
  {
   "cell_type": "code",
   "execution_count": 5,
   "id": "808017ed-9a8a-4bf7-a3dd-42317a39ce8f",
   "metadata": {
    "execution": {
     "iopub.execute_input": "2021-09-09T06:02:27.782147Z",
     "iopub.status.busy": "2021-09-09T06:02:27.781633Z",
     "iopub.status.idle": "2021-09-09T06:02:27.783919Z",
     "shell.execute_reply": "2021-09-09T06:02:27.784270Z"
    },
    "papermill": {
     "duration": 0.017255,
     "end_time": "2021-09-09T06:02:27.784391",
     "exception": false,
     "start_time": "2021-09-09T06:02:27.767136",
     "status": "completed"
    },
    "tags": []
   },
   "outputs": [
    {
     "data": {
      "text/plain": [
       "(100, 1000)"
      ]
     },
     "execution_count": 5,
     "metadata": {},
     "output_type": "execute_result"
    }
   ],
   "source": [
    "data.shape"
   ]
  },
  {
   "cell_type": "markdown",
   "id": "716e4219-cad5-453b-8331-47d310689e03",
   "metadata": {
    "papermill": {
     "duration": 0.007021,
     "end_time": "2021-09-09T06:02:27.799862",
     "exception": false,
     "start_time": "2021-09-09T06:02:27.792841",
     "status": "completed"
    },
    "tags": []
   },
   "source": [
    "# Improved implementation (`precompute_parts=True`)"
   ]
  },
  {
   "cell_type": "code",
   "execution_count": 6,
   "id": "67807856-f337-4c6e-ae31-cd306577a314",
   "metadata": {
    "execution": {
     "iopub.execute_input": "2021-09-09T06:02:27.817003Z",
     "iopub.status.busy": "2021-09-09T06:02:27.816566Z",
     "iopub.status.idle": "2021-09-09T06:02:27.818497Z",
     "shell.execute_reply": "2021-09-09T06:02:27.818133Z"
    },
    "papermill": {
     "duration": 0.011861,
     "end_time": "2021-09-09T06:02:27.818593",
     "exception": false,
     "start_time": "2021-09-09T06:02:27.806732",
     "status": "completed"
    },
    "tags": []
   },
   "outputs": [],
   "source": [
    "def func():\n",
    "    return ccc(data, internal_n_clusters=range(2, 10 + 1), precompute_parts=True)"
   ]
  },
  {
   "cell_type": "code",
   "execution_count": 7,
   "id": "2965a695-5c0c-4e9e-8435-dcbfa610eb81",
   "metadata": {
    "execution": {
     "iopub.execute_input": "2021-09-09T06:02:27.836647Z",
     "iopub.status.busy": "2021-09-09T06:02:27.836175Z",
     "iopub.status.idle": "2021-09-09T06:15:39.055565Z",
     "shell.execute_reply": "2021-09-09T06:15:39.055988Z"
    },
    "papermill": {
     "duration": 791.230268,
     "end_time": "2021-09-09T06:15:39.056103",
     "exception": false,
     "start_time": "2021-09-09T06:02:27.825835",
     "status": "completed"
    },
    "tags": []
   },
   "outputs": [
    {
     "name": "stdout",
     "output_type": "stream",
     "text": [
      "49.4 s ± 98.5 ms per loop (mean ± std. dev. of 7 runs, 1 loop each)\n"
     ]
    }
   ],
   "source": [
    "%%timeit func()\n",
    "func()"
   ]
  },
  {
   "cell_type": "code",
   "execution_count": 8,
   "id": "51c7a416-064a-4669-a09f-16f837d32475",
   "metadata": {
    "execution": {
     "iopub.execute_input": "2021-09-09T06:15:39.972849Z",
     "iopub.status.busy": "2021-09-09T06:15:39.972365Z",
     "iopub.status.idle": "2021-09-09T06:16:30.055255Z",
     "shell.execute_reply": "2021-09-09T06:16:30.055621Z"
    },
    "papermill": {
     "duration": 50.09869,
     "end_time": "2021-09-09T06:16:30.055737",
     "exception": false,
     "start_time": "2021-09-09T06:15:39.957047",
     "status": "completed"
    },
    "tags": []
   },
   "outputs": [
    {
     "name": "stdout",
     "output_type": "stream",
     "text": [
      " \n",
      "*** Profile printout saved to text file '05-cm_precompute_parts_true.txt'. \n"
     ]
    }
   ],
   "source": [
    "%%prun -s cumulative -l 20 -T 05-cm_precompute_parts_true.txt\n",
    "func()"
   ]
  },
  {
   "cell_type": "markdown",
   "id": "3ecadaeb-8769-492d-b5c8-d69e63c2f857",
   "metadata": {
    "papermill": {
     "duration": 0.007626,
     "end_time": "2021-09-09T06:16:30.070891",
     "exception": false,
     "start_time": "2021-09-09T06:16:30.063265",
     "status": "completed"
    },
    "tags": []
   },
   "source": [
    "# Original implementation (`precompute_parts=False`)"
   ]
  },
  {
   "cell_type": "code",
   "execution_count": 9,
   "id": "c959248e-a451-458f-915e-745c782eb3d0",
   "metadata": {
    "execution": {
     "iopub.execute_input": "2021-09-09T06:16:30.089351Z",
     "iopub.status.busy": "2021-09-09T06:16:30.088915Z",
     "iopub.status.idle": "2021-09-09T06:16:30.091113Z",
     "shell.execute_reply": "2021-09-09T06:16:30.090746Z"
    },
    "papermill": {
     "duration": 0.012729,
     "end_time": "2021-09-09T06:16:30.091207",
     "exception": false,
     "start_time": "2021-09-09T06:16:30.078478",
     "status": "completed"
    },
    "tags": []
   },
   "outputs": [],
   "source": [
    "def func():\n",
    "    return ccc(data, internal_n_clusters=range(2, 10 + 1), precompute_parts=False)"
   ]
  },
  {
   "cell_type": "code",
   "execution_count": 10,
   "id": "5466cf96-116c-49eb-866c-b3943cc6d790",
   "metadata": {
    "execution": {
     "iopub.execute_input": "2021-09-09T06:16:30.117628Z",
     "iopub.status.busy": "2021-09-09T06:16:30.115028Z",
     "iopub.status.idle": "2021-09-09T06:43:53.805675Z",
     "shell.execute_reply": "2021-09-09T06:43:53.806020Z"
    },
    "papermill": {
     "duration": 1643.706968,
     "end_time": "2021-09-09T06:43:53.806132",
     "exception": false,
     "start_time": "2021-09-09T06:16:30.099164",
     "status": "completed"
    },
    "tags": []
   },
   "outputs": [
    {
     "name": "stdout",
     "output_type": "stream",
     "text": [
      "1min 42s ± 158 ms per loop (mean ± std. dev. of 7 runs, 1 loop each)\n"
     ]
    }
   ],
   "source": [
    "%%timeit func()\n",
    "func()"
   ]
  },
  {
   "cell_type": "code",
   "execution_count": 11,
   "id": "3c413e65-c614-4d25-b98b-c2326c38bf6c",
   "metadata": {
    "execution": {
     "iopub.execute_input": "2021-09-09T06:43:54.741203Z",
     "iopub.status.busy": "2021-09-09T06:43:54.740720Z",
     "iopub.status.idle": "2021-09-09T06:45:56.474639Z",
     "shell.execute_reply": "2021-09-09T06:45:56.475009Z"
    },
    "papermill": {
     "duration": 121.759564,
     "end_time": "2021-09-09T06:45:56.475123",
     "exception": false,
     "start_time": "2021-09-09T06:43:54.715559",
     "status": "completed"
    },
    "tags": []
   },
   "outputs": [
    {
     "name": "stdout",
     "output_type": "stream",
     "text": [
      " \n",
      "*** Profile printout saved to text file '05-cm_precompute_parts_false.txt'. \n"
     ]
    }
   ],
   "source": [
    "%%prun -s cumulative -l 20 -T 05-cm_precompute_parts_false.txt\n",
    "func()"
   ]
  },
  {
   "cell_type": "code",
   "execution_count": null,
   "id": "e2556204-1c10-4e01-8c6c-ea63ddb37530",
   "metadata": {
    "papermill": {
     "duration": 0.00795,
     "end_time": "2021-09-09T06:45:56.491188",
     "exception": false,
     "start_time": "2021-09-09T06:45:56.483238",
     "status": "completed"
    },
    "tags": []
   },
   "outputs": [],
   "source": []
  }
 ],
 "metadata": {
  "jupytext": {
   "cell_metadata_filter": "all,-execution,-papermill,-trusted"
  },
  "kernelspec": {
   "display_name": "Python 3 (ipykernel)",
   "language": "python",
   "name": "python3"
  },
  "language_info": {
   "codemirror_mode": {
    "name": "ipython",
    "version": 3
   },
   "file_extension": ".py",
   "mimetype": "text/x-python",
   "name": "python",
   "nbconvert_exporter": "python",
   "pygments_lexer": "ipython3",
   "version": "3.9.7"
  },
  "papermill": {
   "default_parameters": {},
   "duration": 2610.667425,
   "end_time": "2021-09-09T06:45:56.815922",
   "environment_variables": {},
   "exception": null,
   "input_path": "nbs/04_clustermatch_profiling/05-compare_precomputing_of_parts.ipynb",
   "output_path": "nbs/04_clustermatch_profiling/05-compare_precomputing_of_parts.run.ipynb",
   "parameters": {},
   "start_time": "2021-09-09T06:02:26.148497",
   "version": "2.3.3"
  }
 },
 "nbformat": 4,
 "nbformat_minor": 5
}
