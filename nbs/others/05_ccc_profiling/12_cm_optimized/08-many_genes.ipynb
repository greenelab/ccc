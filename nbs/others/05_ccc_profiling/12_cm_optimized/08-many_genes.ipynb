{
 "cells": [
  {
   "cell_type": "markdown",
   "id": "507e9319-381b-4934-987c-2958e7f6ace7",
   "metadata": {
    "papermill": {
     "duration": 0.057991,
     "end_time": "2021-12-02T07:00:52.229608",
     "exception": false,
     "start_time": "2021-12-02T07:00:52.171617",
     "status": "completed"
    },
    "tags": []
   },
   "source": [
    "# Description"
   ]
  },
  {
   "cell_type": "markdown",
   "id": "9a88f2a7-3773-459c-8fdc-c69c1b0bb338",
   "metadata": {
    "papermill": {
     "duration": 0.038008,
     "end_time": "2021-12-02T07:00:52.306389",
     "exception": false,
     "start_time": "2021-12-02T07:00:52.268381",
     "status": "completed"
    },
    "tags": []
   },
   "source": [
    "Similar as `06` but with numba disabled to compare with a pure Python implementation.\n",
    "\n",
    "Here I had to reduce the number of `n_genes`, since it takes too much otherwise."
   ]
  },
  {
   "cell_type": "markdown",
   "id": "61443ae0-70fe-42c4-adf2-76b8a7b22217",
   "metadata": {
    "papermill": {
     "duration": 0.039559,
     "end_time": "2021-12-02T07:00:52.385405",
     "exception": false,
     "start_time": "2021-12-02T07:00:52.345846",
     "status": "completed"
    },
    "tags": []
   },
   "source": [
    "# Disable numba"
   ]
  },
  {
   "cell_type": "code",
   "execution_count": 1,
   "id": "9495a29b-3ba6-4a51-99b0-780fa5c1d9c7",
   "metadata": {
    "execution": {
     "iopub.execute_input": "2021-12-02T07:00:52.468876Z",
     "iopub.status.busy": "2021-12-02T07:00:52.468387Z",
     "iopub.status.idle": "2021-12-02T07:00:52.471853Z",
     "shell.execute_reply": "2021-12-02T07:00:52.471356Z"
    },
    "papermill": {
     "duration": 0.048594,
     "end_time": "2021-12-02T07:00:52.472047",
     "exception": false,
     "start_time": "2021-12-02T07:00:52.423453",
     "status": "completed"
    },
    "tags": []
   },
   "outputs": [
    {
     "name": "stdout",
     "output_type": "stream",
     "text": [
      "env: NUMBA_DISABLE_JIT=1\n"
     ]
    }
   ],
   "source": [
    "%env NUMBA_DISABLE_JIT=1"
   ]
  },
  {
   "cell_type": "markdown",
   "id": "72de9f6f-dc00-435e-9dba-871db859a78a",
   "metadata": {
    "papermill": {
     "duration": 0.03945,
     "end_time": "2021-12-02T07:00:52.551173",
     "exception": false,
     "start_time": "2021-12-02T07:00:52.511723",
     "status": "completed"
    },
    "tags": []
   },
   "source": [
    "# Remove pycache dir"
   ]
  },
  {
   "cell_type": "code",
   "execution_count": 2,
   "id": "88d32361-f1b5-4cf0-9a2c-7ab927d14b42",
   "metadata": {
    "execution": {
     "iopub.execute_input": "2021-12-02T07:00:52.632826Z",
     "iopub.status.busy": "2021-12-02T07:00:52.632360Z",
     "iopub.status.idle": "2021-12-02T07:00:53.220329Z",
     "shell.execute_reply": "2021-12-02T07:00:53.218642Z"
    },
    "papermill": {
     "duration": 0.630389,
     "end_time": "2021-12-02T07:00:53.220710",
     "exception": false,
     "start_time": "2021-12-02T07:00:52.590321",
     "status": "completed"
    },
    "tags": []
   },
   "outputs": [
    {
     "name": "stdout",
     "output_type": "stream",
     "text": [
      "/opt/code\n"
     ]
    }
   ],
   "source": [
    "!echo ${CODE_DIR}"
   ]
  },
  {
   "cell_type": "code",
   "execution_count": 3,
   "id": "8a27da6e-cf59-4276-888b-57e98fd23ccf",
   "metadata": {
    "execution": {
     "iopub.execute_input": "2021-12-02T07:00:53.340097Z",
     "iopub.status.busy": "2021-12-02T07:00:53.339585Z",
     "iopub.status.idle": "2021-12-02T07:00:53.937065Z",
     "shell.execute_reply": "2021-12-02T07:00:53.938600Z"
    },
    "papermill": {
     "duration": 0.643753,
     "end_time": "2021-12-02T07:00:53.939053",
     "exception": false,
     "start_time": "2021-12-02T07:00:53.295300",
     "status": "completed"
    },
    "tags": []
   },
   "outputs": [
    {
     "name": "stdout",
     "output_type": "stream",
     "text": [
      "/opt/code/libs/clustermatch/__pycache__\n",
      "/opt/code/libs/clustermatch/sklearn/__pycache__\n",
      "/opt/code/libs/clustermatch/scipy/__pycache__\n",
      "/opt/code/libs/clustermatch/pytorch/__pycache__\n"
     ]
    }
   ],
   "source": [
    "!find ${CODE_DIR} -regex '^.*\\(__pycache__\\)$' -print"
   ]
  },
  {
   "cell_type": "code",
   "execution_count": 4,
   "id": "561480f7-c610-4f60-b40f-8100974ab4d1",
   "metadata": {
    "execution": {
     "iopub.execute_input": "2021-12-02T07:00:54.060268Z",
     "iopub.status.busy": "2021-12-02T07:00:54.059743Z",
     "iopub.status.idle": "2021-12-02T07:00:54.669483Z",
     "shell.execute_reply": "2021-12-02T07:00:54.668618Z"
    },
    "papermill": {
     "duration": 0.65468,
     "end_time": "2021-12-02T07:00:54.669657",
     "exception": false,
     "start_time": "2021-12-02T07:00:54.014977",
     "status": "completed"
    },
    "tags": []
   },
   "outputs": [],
   "source": [
    "!find ${CODE_DIR} -regex '^.*\\(__pycache__\\)$' -prune -exec rm -rf {} \\;"
   ]
  },
  {
   "cell_type": "code",
   "execution_count": 5,
   "id": "a5c90a17-c0ac-49f0-968d-ea9ea8710b00",
   "metadata": {
    "execution": {
     "iopub.execute_input": "2021-12-02T07:00:54.776327Z",
     "iopub.status.busy": "2021-12-02T07:00:54.775812Z",
     "iopub.status.idle": "2021-12-02T07:00:55.384690Z",
     "shell.execute_reply": "2021-12-02T07:00:55.382916Z"
    },
    "papermill": {
     "duration": 0.653733,
     "end_time": "2021-12-02T07:00:55.385067",
     "exception": false,
     "start_time": "2021-12-02T07:00:54.731334",
     "status": "completed"
    },
    "tags": []
   },
   "outputs": [],
   "source": [
    "!find ${CODE_DIR} -regex '^.*\\(__pycache__\\)$' -print"
   ]
  },
  {
   "cell_type": "markdown",
   "id": "145563a2-3e46-4f62-8191-7444a0b315bb",
   "metadata": {
    "papermill": {
     "duration": 0.040542,
     "end_time": "2021-12-02T07:00:55.467639",
     "exception": false,
     "start_time": "2021-12-02T07:00:55.427097",
     "status": "completed"
    },
    "tags": []
   },
   "source": [
    "# Modules"
   ]
  },
  {
   "cell_type": "code",
   "execution_count": 6,
   "id": "bea3d48e-8823-403f-90f5-aea8a17b357c",
   "metadata": {
    "execution": {
     "iopub.execute_input": "2021-12-02T07:00:55.554840Z",
     "iopub.status.busy": "2021-12-02T07:00:55.554389Z",
     "iopub.status.idle": "2021-12-02T07:00:55.840706Z",
     "shell.execute_reply": "2021-12-02T07:00:55.840224Z"
    },
    "papermill": {
     "duration": 0.331927,
     "end_time": "2021-12-02T07:00:55.840804",
     "exception": false,
     "start_time": "2021-12-02T07:00:55.508877",
     "status": "completed"
    },
    "tags": []
   },
   "outputs": [],
   "source": [
    "import numpy as np\n",
    "\n",
    "from ccc.coef import ccc"
   ]
  },
  {
   "cell_type": "code",
   "execution_count": 7,
   "id": "df6b3793-930b-4c54-9f29-ecc47fc586fb",
   "metadata": {
    "execution": {
     "iopub.execute_input": "2021-12-02T07:00:55.928318Z",
     "iopub.status.busy": "2021-12-02T07:00:55.927777Z",
     "iopub.status.idle": "2021-12-02T07:00:55.940644Z",
     "shell.execute_reply": "2021-12-02T07:00:55.940182Z"
    },
    "papermill": {
     "duration": 0.057579,
     "end_time": "2021-12-02T07:00:55.940739",
     "exception": false,
     "start_time": "2021-12-02T07:00:55.883160",
     "status": "completed"
    },
    "tags": []
   },
   "outputs": [
    {
     "data": {
      "text/plain": [
       "0.15625"
      ]
     },
     "execution_count": 7,
     "metadata": {},
     "output_type": "execute_result"
    }
   ],
   "source": [
    "# let numba compile all the code before profiling\n",
    "ccc(np.random.rand(10), np.random.rand(10))"
   ]
  },
  {
   "cell_type": "markdown",
   "id": "f8399ca8-265e-4e96-b582-54045cb2f9eb",
   "metadata": {
    "papermill": {
     "duration": 0.041717,
     "end_time": "2021-12-02T07:00:56.025508",
     "exception": false,
     "start_time": "2021-12-02T07:00:55.983791",
     "status": "completed"
    },
    "tags": []
   },
   "source": [
    "# Data"
   ]
  },
  {
   "cell_type": "code",
   "execution_count": 8,
   "id": "2316ffcd-a6e4-453f-bb52-779685c5c5bf",
   "metadata": {
    "execution": {
     "iopub.execute_input": "2021-12-02T07:00:56.112950Z",
     "iopub.status.busy": "2021-12-02T07:00:56.112415Z",
     "iopub.status.idle": "2021-12-02T07:00:56.114405Z",
     "shell.execute_reply": "2021-12-02T07:00:56.113947Z"
    },
    "papermill": {
     "duration": 0.047201,
     "end_time": "2021-12-02T07:00:56.114523",
     "exception": false,
     "start_time": "2021-12-02T07:00:56.067322",
     "status": "completed"
    },
    "tags": []
   },
   "outputs": [],
   "source": [
    "n_genes, n_samples = 100, 1000"
   ]
  },
  {
   "cell_type": "code",
   "execution_count": 9,
   "id": "b2f92fb1-113d-479b-8bbf-2be229e26e8f",
   "metadata": {
    "execution": {
     "iopub.execute_input": "2021-12-02T07:00:56.211976Z",
     "iopub.status.busy": "2021-12-02T07:00:56.211481Z",
     "iopub.status.idle": "2021-12-02T07:00:56.213546Z",
     "shell.execute_reply": "2021-12-02T07:00:56.213092Z"
    },
    "papermill": {
     "duration": 0.047504,
     "end_time": "2021-12-02T07:00:56.213640",
     "exception": false,
     "start_time": "2021-12-02T07:00:56.166136",
     "status": "completed"
    },
    "tags": []
   },
   "outputs": [],
   "source": [
    "np.random.seed(0)"
   ]
  },
  {
   "cell_type": "code",
   "execution_count": 10,
   "id": "63638c0b-b436-48a9-93e0-db2adb939a61",
   "metadata": {
    "execution": {
     "iopub.execute_input": "2021-12-02T07:00:56.300065Z",
     "iopub.status.busy": "2021-12-02T07:00:56.299424Z",
     "iopub.status.idle": "2021-12-02T07:00:56.302075Z",
     "shell.execute_reply": "2021-12-02T07:00:56.301635Z"
    },
    "papermill": {
     "duration": 0.0467,
     "end_time": "2021-12-02T07:00:56.302168",
     "exception": false,
     "start_time": "2021-12-02T07:00:56.255468",
     "status": "completed"
    },
    "tags": []
   },
   "outputs": [],
   "source": [
    "data = np.random.rand(n_genes, n_samples)"
   ]
  },
  {
   "cell_type": "code",
   "execution_count": 11,
   "id": "808017ed-9a8a-4bf7-a3dd-42317a39ce8f",
   "metadata": {
    "execution": {
     "iopub.execute_input": "2021-12-02T07:00:56.390662Z",
     "iopub.status.busy": "2021-12-02T07:00:56.390189Z",
     "iopub.status.idle": "2021-12-02T07:00:56.392408Z",
     "shell.execute_reply": "2021-12-02T07:00:56.392781Z"
    },
    "papermill": {
     "duration": 0.048085,
     "end_time": "2021-12-02T07:00:56.392900",
     "exception": false,
     "start_time": "2021-12-02T07:00:56.344815",
     "status": "completed"
    },
    "tags": []
   },
   "outputs": [
    {
     "data": {
      "text/plain": [
       "(50, 1000)"
      ]
     },
     "execution_count": 11,
     "metadata": {},
     "output_type": "execute_result"
    }
   ],
   "source": [
    "data.shape"
   ]
  },
  {
   "cell_type": "markdown",
   "id": "716e4219-cad5-453b-8331-47d310689e03",
   "metadata": {
    "papermill": {
     "duration": 0.042717,
     "end_time": "2021-12-02T07:00:56.479073",
     "exception": false,
     "start_time": "2021-12-02T07:00:56.436356",
     "status": "completed"
    },
    "tags": []
   },
   "source": [
    "# Profile"
   ]
  },
  {
   "cell_type": "code",
   "execution_count": 12,
   "id": "67807856-f337-4c6e-ae31-cd306577a314",
   "metadata": {
    "execution": {
     "iopub.execute_input": "2021-12-02T07:00:56.568390Z",
     "iopub.status.busy": "2021-12-02T07:00:56.567934Z",
     "iopub.status.idle": "2021-12-02T07:00:56.569820Z",
     "shell.execute_reply": "2021-12-02T07:00:56.569369Z"
    },
    "papermill": {
     "duration": 0.048485,
     "end_time": "2021-12-02T07:00:56.569915",
     "exception": false,
     "start_time": "2021-12-02T07:00:56.521430",
     "status": "completed"
    },
    "tags": []
   },
   "outputs": [],
   "source": [
    "def func():\n",
    "    n_clust = list(range(2, 10 + 1))\n",
    "    return ccc(data, internal_n_clusters=n_clust)"
   ]
  },
  {
   "cell_type": "code",
   "execution_count": 13,
   "id": "2965a695-5c0c-4e9e-8435-dcbfa610eb81",
   "metadata": {
    "execution": {
     "iopub.execute_input": "2021-12-02T07:00:56.661366Z",
     "iopub.status.busy": "2021-12-02T07:00:56.660889Z",
     "iopub.status.idle": "2021-12-02T07:28:29.010036Z",
     "shell.execute_reply": "2021-12-02T07:28:29.010384Z"
    },
    "papermill": {
     "duration": 1652.397209,
     "end_time": "2021-12-02T07:28:29.010497",
     "exception": false,
     "start_time": "2021-12-02T07:00:56.613288",
     "status": "completed"
    },
    "tags": []
   },
   "outputs": [
    {
     "name": "stdout",
     "output_type": "stream",
     "text": [
      "1min 43s ± 546 ms per loop (mean ± std. dev. of 7 runs, 1 loop each)\n"
     ]
    }
   ],
   "source": [
    "%%timeit func()\n",
    "func()"
   ]
  },
  {
   "cell_type": "code",
   "execution_count": 14,
   "id": "51c7a416-064a-4669-a09f-16f837d32475",
   "metadata": {
    "execution": {
     "iopub.execute_input": "2021-12-02T07:28:29.101790Z",
     "iopub.status.busy": "2021-12-02T07:28:29.101146Z",
     "iopub.status.idle": "2021-12-02T07:30:12.329226Z",
     "shell.execute_reply": "2021-12-02T07:30:12.329597Z"
    },
    "papermill": {
     "duration": 103.275895,
     "end_time": "2021-12-02T07:30:12.329709",
     "exception": false,
     "start_time": "2021-12-02T07:28:29.053814",
     "status": "completed"
    },
    "tags": []
   },
   "outputs": [
    {
     "name": "stdout",
     "output_type": "stream",
     "text": [
      " \n",
      "*** Profile printout saved to text file '08-cm_many_genes.txt'. \n"
     ]
    }
   ],
   "source": [
    "%%prun -s cumulative -l 50 -T 08-cm_many_genes.txt\n",
    "func()"
   ]
  },
  {
   "cell_type": "markdown",
   "id": "664b37eb-ead5-4b74-af40-41f1e257a5f3",
   "metadata": {
    "papermill": {
     "duration": 0.043986,
     "end_time": "2021-12-02T07:30:12.417650",
     "exception": false,
     "start_time": "2021-12-02T07:30:12.373664",
     "status": "completed"
    },
    "tags": []
   },
   "source": [
    "**CONCLUSIONS:** compared with notebook `06` (which has 500 rows (`n_genes`) instead of 50 here), this one would have taken 2.80 hours for 500 rows based on this results. Whereas the numba-compiled version took ~7 minutes."
   ]
  },
  {
   "cell_type": "code",
   "execution_count": null,
   "id": "c171afa1-7734-4ba5-b140-060d232c8f9c",
   "metadata": {
    "papermill": {
     "duration": 0.044279,
     "end_time": "2021-12-02T07:30:12.506201",
     "exception": false,
     "start_time": "2021-12-02T07:30:12.461922",
     "status": "completed"
    },
    "tags": []
   },
   "outputs": [],
   "source": []
  }
 ],
 "metadata": {
  "jupytext": {
   "cell_metadata_filter": "all,-execution,-papermill,-trusted",
   "notebook_metadata_filter": "-jupytext.text_representation.jupytext_version",
   "text_representation": {
    "extension": ".py",
    "format_name": "percent",
    "format_version": "1.3",
    "jupytext_version": "1.11.5"
   }
  },
  "kernelspec": {
   "display_name": "Python 3 (ipykernel)",
   "language": "python",
   "name": "python3"
  },
  "language_info": {
   "codemirror_mode": {
    "name": "ipython",
    "version": 3
   },
   "file_extension": ".py",
   "mimetype": "text/x-python",
   "name": "python",
   "nbconvert_exporter": "python",
   "pygments_lexer": "ipython3",
   "version": "3.9.12"
  },
  "papermill": {
   "default_parameters": {},
   "duration": 1761.82284,
   "end_time": "2021-12-02T07:30:12.762153",
   "environment_variables": {},
   "exception": null,
   "input_path": "nbs/others/05_clustermatch_profiling/11_cm_optimized/08-many_genes.ipynb",
   "output_path": "nbs/others/05_clustermatch_profiling/11_cm_optimized/08-many_genes.run.ipynb",
   "parameters": {},
   "start_time": "2021-12-02T07:00:50.939313",
   "version": "2.3.3"
  }
 },
 "nbformat": 4,
 "nbformat_minor": 5
}
