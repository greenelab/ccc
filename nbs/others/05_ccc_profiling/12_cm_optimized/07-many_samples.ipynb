{
 "cells": [
  {
   "cell_type": "markdown",
   "id": "fd52facb-2470-4824-83d4-7c9fd042ecfb",
   "metadata": {
    "papermill": {
     "duration": 0.001765,
     "end_time": "2023-09-07T19:56:14.840175",
     "exception": false,
     "start_time": "2023-09-07T19:56:14.838410",
     "status": "completed"
    },
    "tags": []
   },
   "source": [
    "# Description"
   ]
  },
  {
   "cell_type": "markdown",
   "id": "b95a9893-d5af-400c-9872-dcf70ec874fb",
   "metadata": {
    "papermill": {
     "duration": 0.002871,
     "end_time": "2023-09-07T19:56:14.852643",
     "exception": false,
     "start_time": "2023-09-07T19:56:14.849772",
     "status": "completed"
    },
    "tags": []
   },
   "source": [
    "Clustermatch run using a larger number of samples."
   ]
  },
  {
   "cell_type": "markdown",
   "id": "3d1840dd-ffe2-4be2-b6a1-056f65de4de4",
   "metadata": {
    "papermill": {
     "duration": 0.002791,
     "end_time": "2023-09-07T19:56:14.858190",
     "exception": false,
     "start_time": "2023-09-07T19:56:14.855399",
     "status": "completed"
    },
    "tags": []
   },
   "source": [
    "# Use only one CPU core"
   ]
  },
  {
   "cell_type": "code",
   "execution_count": 1,
   "id": "b8b15875-2c65-40ce-abb6-3b5af492b14e",
   "metadata": {
    "execution": {
     "iopub.execute_input": "2023-09-07T19:56:14.862569Z",
     "iopub.status.busy": "2023-09-07T19:56:14.862465Z",
     "iopub.status.idle": "2023-09-07T19:56:14.867064Z",
     "shell.execute_reply": "2023-09-07T19:56:14.866912Z"
    },
    "papermill": {
     "duration": 0.007066,
     "end_time": "2023-09-07T19:56:14.867593",
     "exception": false,
     "start_time": "2023-09-07T19:56:14.860527",
     "status": "completed"
    },
    "tags": []
   },
   "outputs": [
    {
     "name": "stdout",
     "output_type": "stream",
     "text": [
      "env: CM_N_JOBS=1\n",
      "env: NUMBA_NUM_THREADS=1\n",
      "env: MKL_NUM_THREADS=1\n",
      "env: OPEN_BLAS_NUM_THREADS=1\n",
      "env: NUMEXPR_NUM_THREADS=1\n",
      "env: OMP_NUM_THREADS=1\n"
     ]
    }
   ],
   "source": [
    "%env CM_N_JOBS=1\n",
    "%env NUMBA_NUM_THREADS=1\n",
    "%env MKL_NUM_THREADS=1\n",
    "%env OPEN_BLAS_NUM_THREADS=1\n",
    "%env NUMEXPR_NUM_THREADS=1\n",
    "%env OMP_NUM_THREADS=1"
   ]
  },
  {
   "cell_type": "markdown",
   "id": "325cb06a-df7f-43e8-be3e-f704aaf015b0",
   "metadata": {
    "papermill": {
     "duration": 0.001228,
     "end_time": "2023-09-07T19:56:14.870134",
     "exception": false,
     "start_time": "2023-09-07T19:56:14.868906",
     "status": "completed"
    },
    "tags": []
   },
   "source": [
    "# Remove pycache dir"
   ]
  },
  {
   "cell_type": "code",
   "execution_count": 2,
   "id": "73f954a6-1776-4b92-bd0e-fc3caf5df081",
   "metadata": {
    "execution": {
     "iopub.execute_input": "2023-09-07T19:56:14.873112Z",
     "iopub.status.busy": "2023-09-07T19:56:14.873021Z",
     "iopub.status.idle": "2023-09-07T19:56:15.059991Z",
     "shell.execute_reply": "2023-09-07T19:56:15.059571Z"
    },
    "papermill": {
     "duration": 0.18935,
     "end_time": "2023-09-07T19:56:15.060904",
     "exception": false,
     "start_time": "2023-09-07T19:56:14.871554",
     "status": "completed"
    },
    "tags": []
   },
   "outputs": [
    {
     "name": "stdout",
     "output_type": "stream",
     "text": [
      "/opt/code\r\n"
     ]
    }
   ],
   "source": [
    "!echo ${CODE_DIR}"
   ]
  },
  {
   "cell_type": "code",
   "execution_count": 3,
   "id": "d17492bb-34fe-4c34-a693-419180ba068e",
   "metadata": {
    "execution": {
     "iopub.execute_input": "2023-09-07T19:56:15.073310Z",
     "iopub.status.busy": "2023-09-07T19:56:15.073010Z",
     "iopub.status.idle": "2023-09-07T19:56:15.263096Z",
     "shell.execute_reply": "2023-09-07T19:56:15.262727Z"
    },
    "papermill": {
     "duration": 0.201185,
     "end_time": "2023-09-07T19:56:15.263908",
     "exception": false,
     "start_time": "2023-09-07T19:56:15.062723",
     "status": "completed"
    },
    "tags": []
   },
   "outputs": [
    {
     "name": "stdout",
     "output_type": "stream",
     "text": [
      "/opt/code/libs/ccc/coef/__pycache__\r\n",
      "/opt/code/libs/ccc/pytorch/__pycache__\r\n",
      "/opt/code/libs/ccc/scipy/__pycache__\r\n",
      "/opt/code/libs/ccc/utils/__pycache__\r\n",
      "/opt/code/libs/ccc/__pycache__\r\n",
      "/opt/code/libs/ccc/sklearn/__pycache__\r\n"
     ]
    }
   ],
   "source": [
    "!find ${CODE_DIR} -regex '^.*\\(__pycache__\\)$' -print"
   ]
  },
  {
   "cell_type": "code",
   "execution_count": 4,
   "id": "5683e330-1782-43b3-bb78-255198f03620",
   "metadata": {
    "execution": {
     "iopub.execute_input": "2023-09-07T19:56:15.275544Z",
     "iopub.status.busy": "2023-09-07T19:56:15.275457Z",
     "iopub.status.idle": "2023-09-07T19:56:15.468892Z",
     "shell.execute_reply": "2023-09-07T19:56:15.468450Z"
    },
    "papermill": {
     "duration": 0.204398,
     "end_time": "2023-09-07T19:56:15.469821",
     "exception": false,
     "start_time": "2023-09-07T19:56:15.265423",
     "status": "completed"
    },
    "tags": []
   },
   "outputs": [],
   "source": [
    "!find ${CODE_DIR} -regex '^.*\\(__pycache__\\)$' -prune -exec rm -rf {} \\;"
   ]
  },
  {
   "cell_type": "code",
   "execution_count": 5,
   "id": "5cf4ce29-d611-4fc8-8880-293c09e5ab9a",
   "metadata": {
    "execution": {
     "iopub.execute_input": "2023-09-07T19:56:15.473254Z",
     "iopub.status.busy": "2023-09-07T19:56:15.473166Z",
     "iopub.status.idle": "2023-09-07T19:56:15.664481Z",
     "shell.execute_reply": "2023-09-07T19:56:15.663632Z"
    },
    "papermill": {
     "duration": 0.194101,
     "end_time": "2023-09-07T19:56:15.665534",
     "exception": false,
     "start_time": "2023-09-07T19:56:15.471433",
     "status": "completed"
    },
    "tags": []
   },
   "outputs": [],
   "source": [
    "!find ${CODE_DIR} -regex '^.*\\(__pycache__\\)$' -print"
   ]
  },
  {
   "cell_type": "markdown",
   "id": "35a04385-a901-4726-82a6-a01f16281efe",
   "metadata": {
    "papermill": {
     "duration": 0.009777,
     "end_time": "2023-09-07T19:56:15.676943",
     "exception": false,
     "start_time": "2023-09-07T19:56:15.667166",
     "status": "completed"
    },
    "tags": []
   },
   "source": [
    "# Modules"
   ]
  },
  {
   "cell_type": "code",
   "execution_count": 6,
   "id": "a75c4496-d379-4668-905d-0e9136981f0c",
   "metadata": {
    "execution": {
     "iopub.execute_input": "2023-09-07T19:56:15.681728Z",
     "iopub.status.busy": "2023-09-07T19:56:15.681642Z",
     "iopub.status.idle": "2023-09-07T19:56:19.460492Z",
     "shell.execute_reply": "2023-09-07T19:56:19.460168Z"
    },
    "papermill": {
     "duration": 3.781573,
     "end_time": "2023-09-07T19:56:19.461256",
     "exception": false,
     "start_time": "2023-09-07T19:56:15.679683",
     "status": "completed"
    },
    "tags": []
   },
   "outputs": [],
   "source": [
    "import numpy as np\n",
    "\n",
    "from ccc.coef import ccc"
   ]
  },
  {
   "cell_type": "code",
   "execution_count": 7,
   "id": "1a58ccf8-1bf5-4177-9b06-944a0d57655a",
   "metadata": {
    "execution": {
     "iopub.execute_input": "2023-09-07T19:56:19.464557Z",
     "iopub.status.busy": "2023-09-07T19:56:19.464469Z",
     "iopub.status.idle": "2023-09-07T19:56:19.468580Z",
     "shell.execute_reply": "2023-09-07T19:56:19.468404Z"
    },
    "papermill": {
     "duration": 0.006275,
     "end_time": "2023-09-07T19:56:19.469094",
     "exception": false,
     "start_time": "2023-09-07T19:56:19.462819",
     "status": "completed"
    },
    "tags": []
   },
   "outputs": [
    {
     "data": {
      "text/plain": [
       "0.0"
      ]
     },
     "execution_count": 7,
     "metadata": {},
     "output_type": "execute_result"
    }
   ],
   "source": [
    "# let numba compile all the code before profiling\n",
    "ccc(np.random.rand(10), np.random.rand(10))"
   ]
  },
  {
   "cell_type": "markdown",
   "id": "2c92a1ad-2fc9-4a16-a5f8-fce685246996",
   "metadata": {
    "papermill": {
     "duration": 0.001278,
     "end_time": "2023-09-07T19:56:19.471763",
     "exception": false,
     "start_time": "2023-09-07T19:56:19.470485",
     "status": "completed"
    },
    "tags": []
   },
   "source": [
    "# Data"
   ]
  },
  {
   "cell_type": "code",
   "execution_count": 8,
   "id": "2316ffcd-a6e4-453f-bb52-779685c5c5bf",
   "metadata": {
    "execution": {
     "iopub.execute_input": "2023-09-07T19:56:19.474701Z",
     "iopub.status.busy": "2023-09-07T19:56:19.474632Z",
     "iopub.status.idle": "2023-09-07T19:56:19.476059Z",
     "shell.execute_reply": "2023-09-07T19:56:19.475883Z"
    },
    "papermill": {
     "duration": 0.00343,
     "end_time": "2023-09-07T19:56:19.476559",
     "exception": false,
     "start_time": "2023-09-07T19:56:19.473129",
     "status": "completed"
    },
    "tags": []
   },
   "outputs": [],
   "source": [
    "n_genes, n_samples = 10, 30000"
   ]
  },
  {
   "cell_type": "code",
   "execution_count": 9,
   "id": "b2f92fb1-113d-479b-8bbf-2be229e26e8f",
   "metadata": {
    "execution": {
     "iopub.execute_input": "2023-09-07T19:56:19.479529Z",
     "iopub.status.busy": "2023-09-07T19:56:19.479402Z",
     "iopub.status.idle": "2023-09-07T19:56:19.480761Z",
     "shell.execute_reply": "2023-09-07T19:56:19.480592Z"
    },
    "papermill": {
     "duration": 0.003321,
     "end_time": "2023-09-07T19:56:19.481240",
     "exception": false,
     "start_time": "2023-09-07T19:56:19.477919",
     "status": "completed"
    },
    "tags": []
   },
   "outputs": [],
   "source": [
    "np.random.seed(0)"
   ]
  },
  {
   "cell_type": "code",
   "execution_count": 10,
   "id": "63638c0b-b436-48a9-93e0-db2adb939a61",
   "metadata": {
    "execution": {
     "iopub.execute_input": "2023-09-07T19:56:19.484187Z",
     "iopub.status.busy": "2023-09-07T19:56:19.484105Z",
     "iopub.status.idle": "2023-09-07T19:56:19.486651Z",
     "shell.execute_reply": "2023-09-07T19:56:19.486433Z"
    },
    "papermill": {
     "duration": 0.004483,
     "end_time": "2023-09-07T19:56:19.487111",
     "exception": false,
     "start_time": "2023-09-07T19:56:19.482628",
     "status": "completed"
    },
    "tags": []
   },
   "outputs": [],
   "source": [
    "data = np.random.rand(n_genes, n_samples)"
   ]
  },
  {
   "cell_type": "code",
   "execution_count": 11,
   "id": "808017ed-9a8a-4bf7-a3dd-42317a39ce8f",
   "metadata": {
    "execution": {
     "iopub.execute_input": "2023-09-07T19:56:19.490190Z",
     "iopub.status.busy": "2023-09-07T19:56:19.490120Z",
     "iopub.status.idle": "2023-09-07T19:56:19.491795Z",
     "shell.execute_reply": "2023-09-07T19:56:19.491673Z"
    },
    "papermill": {
     "duration": 0.003694,
     "end_time": "2023-09-07T19:56:19.492179",
     "exception": false,
     "start_time": "2023-09-07T19:56:19.488485",
     "status": "completed"
    },
    "tags": []
   },
   "outputs": [
    {
     "data": {
      "text/plain": [
       "(10, 30000)"
      ]
     },
     "execution_count": 11,
     "metadata": {},
     "output_type": "execute_result"
    }
   ],
   "source": [
    "data.shape"
   ]
  },
  {
   "cell_type": "markdown",
   "id": "716e4219-cad5-453b-8331-47d310689e03",
   "metadata": {
    "papermill": {
     "duration": 0.001409,
     "end_time": "2023-09-07T19:56:19.495008",
     "exception": false,
     "start_time": "2023-09-07T19:56:19.493599",
     "status": "completed"
    },
    "tags": []
   },
   "source": [
    "# With default `internal_n_clusters`"
   ]
  },
  {
   "cell_type": "code",
   "execution_count": 12,
   "id": "67807856-f337-4c6e-ae31-cd306577a314",
   "metadata": {
    "execution": {
     "iopub.execute_input": "2023-09-07T19:56:19.498052Z",
     "iopub.status.busy": "2023-09-07T19:56:19.497944Z",
     "iopub.status.idle": "2023-09-07T19:56:19.499349Z",
     "shell.execute_reply": "2023-09-07T19:56:19.499215Z"
    },
    "papermill": {
     "duration": 0.003369,
     "end_time": "2023-09-07T19:56:19.499744",
     "exception": false,
     "start_time": "2023-09-07T19:56:19.496375",
     "status": "completed"
    },
    "tags": []
   },
   "outputs": [],
   "source": [
    "def func():\n",
    "    n_clust = list(range(2, 10 + 1))\n",
    "    return ccc(data, internal_n_clusters=n_clust)"
   ]
  },
  {
   "cell_type": "code",
   "execution_count": 13,
   "id": "2965a695-5c0c-4e9e-8435-dcbfa610eb81",
   "metadata": {
    "execution": {
     "iopub.execute_input": "2023-09-07T19:56:19.502784Z",
     "iopub.status.busy": "2023-09-07T19:56:19.502676Z",
     "iopub.status.idle": "2023-09-07T19:57:56.522567Z",
     "shell.execute_reply": "2023-09-07T19:57:56.522295Z"
    },
    "papermill": {
     "duration": 97.023275,
     "end_time": "2023-09-07T19:57:56.524434",
     "exception": false,
     "start_time": "2023-09-07T19:56:19.501159",
     "status": "completed"
    },
    "tags": []
   },
   "outputs": [
    {
     "name": "stdout",
     "output_type": "stream",
     "text": [
      "6.05 s ± 6.82 ms per loop (mean ± std. dev. of 7 runs, 1 loop each)\n"
     ]
    }
   ],
   "source": [
    "%%timeit func()\n",
    "func()"
   ]
  },
  {
   "cell_type": "code",
   "execution_count": 14,
   "id": "51c7a416-064a-4669-a09f-16f837d32475",
   "metadata": {
    "execution": {
     "iopub.execute_input": "2023-09-07T19:57:56.537063Z",
     "iopub.status.busy": "2023-09-07T19:57:56.536954Z",
     "iopub.status.idle": "2023-09-07T19:58:02.583458Z",
     "shell.execute_reply": "2023-09-07T19:58:02.583100Z"
    },
    "papermill": {
     "duration": 6.05066,
     "end_time": "2023-09-07T19:58:02.584070",
     "exception": false,
     "start_time": "2023-09-07T19:57:56.533410",
     "status": "completed"
    },
    "tags": []
   },
   "outputs": [
    {
     "name": "stdout",
     "output_type": "stream",
     "text": [
      " \n",
      "*** Profile printout saved to text file '07-cm_many_samples-default_internal_n_clusters.txt'. \n"
     ]
    }
   ],
   "source": [
    "%%prun -s cumulative -l 50 -T 07-cm_many_samples-default_internal_n_clusters.txt\n",
    "func()"
   ]
  },
  {
   "cell_type": "markdown",
   "id": "025974ff-06d4-4d82-9b05-03f7a84d7211",
   "metadata": {
    "papermill": {
     "duration": 0.00146,
     "end_time": "2023-09-07T19:58:02.587189",
     "exception": false,
     "start_time": "2023-09-07T19:58:02.585729",
     "status": "completed"
    },
    "tags": []
   },
   "source": [
    "# With reduced `internal_n_clusters`"
   ]
  },
  {
   "cell_type": "code",
   "execution_count": 15,
   "id": "c20c4ecf-8060-495e-92b0-eb8e0d0dfbf3",
   "metadata": {
    "execution": {
     "iopub.execute_input": "2023-09-07T19:58:02.590750Z",
     "iopub.status.busy": "2023-09-07T19:58:02.590577Z",
     "iopub.status.idle": "2023-09-07T19:58:02.592560Z",
     "shell.execute_reply": "2023-09-07T19:58:02.592372Z"
    },
    "papermill": {
     "duration": 0.004369,
     "end_time": "2023-09-07T19:58:02.593026",
     "exception": false,
     "start_time": "2023-09-07T19:58:02.588657",
     "status": "completed"
    },
    "tags": []
   },
   "outputs": [],
   "source": [
    "def func():\n",
    "    n_clust = list(range(2, 5 + 1))\n",
    "    return ccc(data, internal_n_clusters=n_clust)"
   ]
  },
  {
   "cell_type": "code",
   "execution_count": 16,
   "id": "11259d8c-3bf3-4299-b47b-211556c3bc08",
   "metadata": {
    "execution": {
     "iopub.execute_input": "2023-09-07T19:58:02.596551Z",
     "iopub.status.busy": "2023-09-07T19:58:02.596406Z",
     "iopub.status.idle": "2023-09-07T19:58:16.385325Z",
     "shell.execute_reply": "2023-09-07T19:58:16.385145Z"
    },
    "papermill": {
     "duration": 13.791354,
     "end_time": "2023-09-07T19:58:16.385874",
     "exception": false,
     "start_time": "2023-09-07T19:58:02.594520",
     "status": "completed"
    },
    "tags": []
   },
   "outputs": [
    {
     "name": "stdout",
     "output_type": "stream",
     "text": [
      "862 ms ± 2.14 ms per loop (mean ± std. dev. of 7 runs, 1 loop each)\n"
     ]
    }
   ],
   "source": [
    "%%timeit func()\n",
    "func()"
   ]
  },
  {
   "cell_type": "code",
   "execution_count": 17,
   "id": "42d9e6e0-3c01-46e1-a409-52ff26cb78f4",
   "metadata": {
    "execution": {
     "iopub.execute_input": "2023-09-07T19:58:16.389288Z",
     "iopub.status.busy": "2023-09-07T19:58:16.389217Z",
     "iopub.status.idle": "2023-09-07T19:58:17.250612Z",
     "shell.execute_reply": "2023-09-07T19:58:17.250245Z"
    },
    "papermill": {
     "duration": 0.863805,
     "end_time": "2023-09-07T19:58:17.251271",
     "exception": false,
     "start_time": "2023-09-07T19:58:16.387466",
     "status": "completed"
    },
    "tags": []
   },
   "outputs": [
    {
     "name": "stdout",
     "output_type": "stream",
     "text": [
      " \n",
      "*** Profile printout saved to text file '07-cm_many_samples-less_internal_n_clusters.txt'. \n"
     ]
    }
   ],
   "source": [
    "%%prun -s cumulative -l 50 -T 07-cm_many_samples-less_internal_n_clusters.txt\n",
    "func()"
   ]
  },
  {
   "cell_type": "code",
   "execution_count": null,
   "id": "e2556204-1c10-4e01-8c6c-ea63ddb37530",
   "metadata": {
    "papermill": {
     "duration": 0.009662,
     "end_time": "2023-09-07T19:58:17.262487",
     "exception": false,
     "start_time": "2023-09-07T19:58:17.252825",
     "status": "completed"
    },
    "tags": []
   },
   "outputs": [],
   "source": []
  }
 ],
 "metadata": {
  "jupytext": {
   "cell_metadata_filter": "all,-execution,-papermill,-trusted",
   "notebook_metadata_filter": "-jupytext.text_representation.jupytext_version"
  },
  "kernelspec": {
   "display_name": "Python 3 (ipykernel)",
   "language": "python",
   "name": "python3"
  },
  "language_info": {
   "codemirror_mode": {
    "name": "ipython",
    "version": 3
   },
   "file_extension": ".py",
   "mimetype": "text/x-python",
   "name": "python",
   "nbconvert_exporter": "python",
   "pygments_lexer": "ipython3",
   "version": "3.9.12"
  },
  "papermill": {
   "default_parameters": {},
   "duration": 123.300848,
   "end_time": "2023-09-07T19:58:17.479163",
   "environment_variables": {},
   "exception": null,
   "input_path": "nbs/others/05_ccc_profiling/12_cm_optimized/07-many_samples.ipynb",
   "output_path": "nbs/others/05_ccc_profiling/12_cm_optimized/07-many_samples.run.ipynb",
   "parameters": {},
   "start_time": "2023-09-07T19:56:14.178315",
   "version": "2.3.3"
  }
 },
 "nbformat": 4,
 "nbformat_minor": 5
}
