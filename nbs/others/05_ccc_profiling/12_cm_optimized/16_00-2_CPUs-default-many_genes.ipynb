{
 "cells": [
  {
   "cell_type": "markdown",
   "id": "507e9319-381b-4934-987c-2958e7f6ace7",
   "metadata": {
    "papermill": {
     "duration": 0.00595,
     "end_time": "2023-09-07T21:45:43.464040",
     "exception": false,
     "start_time": "2023-09-07T21:45:43.458090",
     "status": "completed"
    },
    "tags": []
   },
   "source": [
    "# Description"
   ]
  },
  {
   "cell_type": "markdown",
   "id": "9a88f2a7-3773-459c-8fdc-c69c1b0bb338",
   "metadata": {
    "papermill": {
     "duration": 0.004405,
     "end_time": "2023-09-07T21:45:43.478248",
     "exception": false,
     "start_time": "2023-09-07T21:45:43.473843",
     "status": "completed"
    },
    "tags": []
   },
   "source": [
    "Like `06_00` but using more CPU cores."
   ]
  },
  {
   "cell_type": "markdown",
   "id": "72de9f6f-dc00-435e-9dba-871db859a78a",
   "metadata": {
    "papermill": {
     "duration": 0.002879,
     "end_time": "2023-09-07T21:45:43.485629",
     "exception": false,
     "start_time": "2023-09-07T21:45:43.482750",
     "status": "completed"
    },
    "tags": []
   },
   "source": [
    "# Use multiple CPU core"
   ]
  },
  {
   "cell_type": "code",
   "execution_count": 1,
   "id": "44fd0e26-4162-44b8-b2a9-9f989e892719",
   "metadata": {
    "execution": {
     "iopub.execute_input": "2023-09-07T21:45:43.491609Z",
     "iopub.status.busy": "2023-09-07T21:45:43.491456Z",
     "iopub.status.idle": "2023-09-07T21:45:43.499615Z",
     "shell.execute_reply": "2023-09-07T21:45:43.499115Z"
    },
    "papermill": {
     "duration": 0.012108,
     "end_time": "2023-09-07T21:45:43.501110",
     "exception": false,
     "start_time": "2023-09-07T21:45:43.489002",
     "status": "completed"
    },
    "tags": []
   },
   "outputs": [
    {
     "name": "stdout",
     "output_type": "stream",
     "text": [
      "env: CM_N_JOBS=2\n",
      "env: NUMBA_NUM_THREADS=2\n",
      "env: MKL_NUM_THREADS=2\n",
      "env: OPEN_BLAS_NUM_THREADS=2\n",
      "env: NUMEXPR_NUM_THREADS=2\n",
      "env: OMP_NUM_THREADS=2\n"
     ]
    }
   ],
   "source": [
    "%env CM_N_JOBS=2\n",
    "%env NUMBA_NUM_THREADS=2\n",
    "%env MKL_NUM_THREADS=2\n",
    "%env OPEN_BLAS_NUM_THREADS=2\n",
    "%env NUMEXPR_NUM_THREADS=2\n",
    "%env OMP_NUM_THREADS=2"
   ]
  },
  {
   "cell_type": "markdown",
   "id": "4d885a9d-482d-47e7-bfaf-11c8efae3079",
   "metadata": {
    "papermill": {
     "duration": 0.001797,
     "end_time": "2023-09-07T21:45:43.505171",
     "exception": false,
     "start_time": "2023-09-07T21:45:43.503374",
     "status": "completed"
    },
    "tags": []
   },
   "source": [
    "# Remove pycache dir"
   ]
  },
  {
   "cell_type": "code",
   "execution_count": 2,
   "id": "88d32361-f1b5-4cf0-9a2c-7ab927d14b42",
   "metadata": {
    "execution": {
     "iopub.execute_input": "2023-09-07T21:45:43.508253Z",
     "iopub.status.busy": "2023-09-07T21:45:43.508181Z",
     "iopub.status.idle": "2023-09-07T21:45:43.699643Z",
     "shell.execute_reply": "2023-09-07T21:45:43.698365Z"
    },
    "papermill": {
     "duration": 0.195914,
     "end_time": "2023-09-07T21:45:43.702627",
     "exception": false,
     "start_time": "2023-09-07T21:45:43.506713",
     "status": "completed"
    },
    "tags": []
   },
   "outputs": [
    {
     "name": "stdout",
     "output_type": "stream",
     "text": [
      "/opt/code\r\n"
     ]
    }
   ],
   "source": [
    "!echo ${CODE_DIR}"
   ]
  },
  {
   "cell_type": "code",
   "execution_count": 3,
   "id": "8a27da6e-cf59-4276-888b-57e98fd23ccf",
   "metadata": {
    "execution": {
     "iopub.execute_input": "2023-09-07T21:45:43.720405Z",
     "iopub.status.busy": "2023-09-07T21:45:43.720111Z",
     "iopub.status.idle": "2023-09-07T21:45:43.927188Z",
     "shell.execute_reply": "2023-09-07T21:45:43.926299Z"
    },
    "papermill": {
     "duration": 0.221712,
     "end_time": "2023-09-07T21:45:43.930066",
     "exception": false,
     "start_time": "2023-09-07T21:45:43.708354",
     "status": "completed"
    },
    "tags": []
   },
   "outputs": [
    {
     "name": "stdout",
     "output_type": "stream",
     "text": [
      "/opt/code/libs/ccc/coef/__pycache__\r\n",
      "/opt/code/libs/ccc/pytorch/__pycache__\r\n",
      "/opt/code/libs/ccc/scipy/__pycache__\r\n",
      "/opt/code/libs/ccc/utils/__pycache__\r\n",
      "/opt/code/libs/ccc/__pycache__\r\n",
      "/opt/code/libs/ccc/sklearn/__pycache__\r\n"
     ]
    }
   ],
   "source": [
    "!find ${CODE_DIR} -regex '^.*\\(__pycache__\\)$' -print"
   ]
  },
  {
   "cell_type": "code",
   "execution_count": 4,
   "id": "561480f7-c610-4f60-b40f-8100974ab4d1",
   "metadata": {
    "execution": {
     "iopub.execute_input": "2023-09-07T21:45:43.947586Z",
     "iopub.status.busy": "2023-09-07T21:45:43.947272Z",
     "iopub.status.idle": "2023-09-07T21:45:44.161416Z",
     "shell.execute_reply": "2023-09-07T21:45:44.160188Z"
    },
    "papermill": {
     "duration": 0.228922,
     "end_time": "2023-09-07T21:45:44.164466",
     "exception": false,
     "start_time": "2023-09-07T21:45:43.935544",
     "status": "completed"
    },
    "tags": []
   },
   "outputs": [
    {
     "name": "stdout",
     "output_type": "stream",
     "text": [
      "find: ‘/opt/code/libs/ccc/coef/__pycache__’: No such file or directory\r\n",
      "find: ‘/opt/code/libs/ccc/pytorch/__pycache__’: No such file or directory\r\n",
      "find: ‘/opt/code/libs/ccc/scipy/__pycache__’: No such file or directory\r\n",
      "find: ‘/opt/code/libs/ccc/utils/__pycache__’: No such file or directory\r\n",
      "find: ‘/opt/code/libs/ccc/__pycache__’: No such file or directory\r\n",
      "find: ‘/opt/code/libs/ccc/sklearn/__pycache__’: No such file or directory\r\n"
     ]
    }
   ],
   "source": [
    "!find ${CODE_DIR} -regex '^.*\\(__pycache__\\)$' -exec rm -rf {} \\;"
   ]
  },
  {
   "cell_type": "code",
   "execution_count": 5,
   "id": "a5c90a17-c0ac-49f0-968d-ea9ea8710b00",
   "metadata": {
    "execution": {
     "iopub.execute_input": "2023-09-07T21:45:44.182151Z",
     "iopub.status.busy": "2023-09-07T21:45:44.181828Z",
     "iopub.status.idle": "2023-09-07T21:45:44.394488Z",
     "shell.execute_reply": "2023-09-07T21:45:44.393489Z"
    },
    "papermill": {
     "duration": 0.22684,
     "end_time": "2023-09-07T21:45:44.397116",
     "exception": false,
     "start_time": "2023-09-07T21:45:44.170276",
     "status": "completed"
    },
    "tags": []
   },
   "outputs": [],
   "source": [
    "!find ${CODE_DIR} -regex '^.*\\(__pycache__\\)$' -print"
   ]
  },
  {
   "cell_type": "markdown",
   "id": "145563a2-3e46-4f62-8191-7444a0b315bb",
   "metadata": {
    "papermill": {
     "duration": 0.002713,
     "end_time": "2023-09-07T21:45:44.403919",
     "exception": false,
     "start_time": "2023-09-07T21:45:44.401206",
     "status": "completed"
    },
    "tags": []
   },
   "source": [
    "# Modules"
   ]
  },
  {
   "cell_type": "code",
   "execution_count": 6,
   "id": "bea3d48e-8823-403f-90f5-aea8a17b357c",
   "metadata": {
    "execution": {
     "iopub.execute_input": "2023-09-07T21:45:44.408613Z",
     "iopub.status.busy": "2023-09-07T21:45:44.408519Z",
     "iopub.status.idle": "2023-09-07T21:45:48.093285Z",
     "shell.execute_reply": "2023-09-07T21:45:48.093030Z"
    },
    "papermill": {
     "duration": 3.688091,
     "end_time": "2023-09-07T21:45:48.094225",
     "exception": false,
     "start_time": "2023-09-07T21:45:44.406134",
     "status": "completed"
    },
    "tags": []
   },
   "outputs": [],
   "source": [
    "import numpy as np\n",
    "\n",
    "from ccc.coef import ccc"
   ]
  },
  {
   "cell_type": "code",
   "execution_count": 7,
   "id": "df6b3793-930b-4c54-9f29-ecc47fc586fb",
   "metadata": {
    "execution": {
     "iopub.execute_input": "2023-09-07T21:45:48.105640Z",
     "iopub.status.busy": "2023-09-07T21:45:48.105558Z",
     "iopub.status.idle": "2023-09-07T21:45:48.109631Z",
     "shell.execute_reply": "2023-09-07T21:45:48.109498Z"
    },
    "papermill": {
     "duration": 0.01467,
     "end_time": "2023-09-07T21:45:48.110298",
     "exception": false,
     "start_time": "2023-09-07T21:45:48.095628",
     "status": "completed"
    },
    "tags": []
   },
   "outputs": [
    {
     "data": {
      "text/plain": [
       "0.0"
      ]
     },
     "execution_count": 7,
     "metadata": {},
     "output_type": "execute_result"
    }
   ],
   "source": [
    "# let numba compile all the code before profiling\n",
    "ccc(np.random.rand(10), np.random.rand(10))"
   ]
  },
  {
   "cell_type": "markdown",
   "id": "f8399ca8-265e-4e96-b582-54045cb2f9eb",
   "metadata": {
    "papermill": {
     "duration": 0.001104,
     "end_time": "2023-09-07T21:45:48.112666",
     "exception": false,
     "start_time": "2023-09-07T21:45:48.111562",
     "status": "completed"
    },
    "tags": []
   },
   "source": [
    "# Data"
   ]
  },
  {
   "cell_type": "code",
   "execution_count": 8,
   "id": "2316ffcd-a6e4-453f-bb52-779685c5c5bf",
   "metadata": {
    "execution": {
     "iopub.execute_input": "2023-09-07T21:45:48.115641Z",
     "iopub.status.busy": "2023-09-07T21:45:48.115521Z",
     "iopub.status.idle": "2023-09-07T21:45:48.116818Z",
     "shell.execute_reply": "2023-09-07T21:45:48.116678Z"
    },
    "papermill": {
     "duration": 0.003452,
     "end_time": "2023-09-07T21:45:48.117323",
     "exception": false,
     "start_time": "2023-09-07T21:45:48.113871",
     "status": "completed"
    },
    "tags": []
   },
   "outputs": [],
   "source": [
    "n_genes, n_samples = 100, 1000"
   ]
  },
  {
   "cell_type": "code",
   "execution_count": 9,
   "id": "b2f92fb1-113d-479b-8bbf-2be229e26e8f",
   "metadata": {
    "execution": {
     "iopub.execute_input": "2023-09-07T21:45:48.120768Z",
     "iopub.status.busy": "2023-09-07T21:45:48.120368Z",
     "iopub.status.idle": "2023-09-07T21:45:48.121990Z",
     "shell.execute_reply": "2023-09-07T21:45:48.121852Z"
    },
    "papermill": {
     "duration": 0.003765,
     "end_time": "2023-09-07T21:45:48.122435",
     "exception": false,
     "start_time": "2023-09-07T21:45:48.118670",
     "status": "completed"
    },
    "tags": []
   },
   "outputs": [],
   "source": [
    "np.random.seed(0)"
   ]
  },
  {
   "cell_type": "code",
   "execution_count": 10,
   "id": "63638c0b-b436-48a9-93e0-db2adb939a61",
   "metadata": {
    "execution": {
     "iopub.execute_input": "2023-09-07T21:45:48.125277Z",
     "iopub.status.busy": "2023-09-07T21:45:48.125175Z",
     "iopub.status.idle": "2023-09-07T21:45:48.126765Z",
     "shell.execute_reply": "2023-09-07T21:45:48.126637Z"
    },
    "papermill": {
     "duration": 0.003447,
     "end_time": "2023-09-07T21:45:48.127169",
     "exception": false,
     "start_time": "2023-09-07T21:45:48.123722",
     "status": "completed"
    },
    "tags": []
   },
   "outputs": [],
   "source": [
    "data = np.random.rand(n_genes, n_samples)"
   ]
  },
  {
   "cell_type": "code",
   "execution_count": 11,
   "id": "808017ed-9a8a-4bf7-a3dd-42317a39ce8f",
   "metadata": {
    "execution": {
     "iopub.execute_input": "2023-09-07T21:45:48.129736Z",
     "iopub.status.busy": "2023-09-07T21:45:48.129640Z",
     "iopub.status.idle": "2023-09-07T21:45:48.131152Z",
     "shell.execute_reply": "2023-09-07T21:45:48.131026Z"
    },
    "papermill": {
     "duration": 0.00322,
     "end_time": "2023-09-07T21:45:48.131565",
     "exception": false,
     "start_time": "2023-09-07T21:45:48.128345",
     "status": "completed"
    },
    "tags": []
   },
   "outputs": [
    {
     "data": {
      "text/plain": [
       "(100, 1000)"
      ]
     },
     "execution_count": 11,
     "metadata": {},
     "output_type": "execute_result"
    }
   ],
   "source": [
    "data.shape"
   ]
  },
  {
   "cell_type": "markdown",
   "id": "716e4219-cad5-453b-8331-47d310689e03",
   "metadata": {
    "papermill": {
     "duration": 0.001149,
     "end_time": "2023-09-07T21:45:48.133997",
     "exception": false,
     "start_time": "2023-09-07T21:45:48.132848",
     "status": "completed"
    },
    "tags": []
   },
   "source": [
    "# Profile"
   ]
  },
  {
   "cell_type": "code",
   "execution_count": 12,
   "id": "67807856-f337-4c6e-ae31-cd306577a314",
   "metadata": {
    "execution": {
     "iopub.execute_input": "2023-09-07T21:45:48.136863Z",
     "iopub.status.busy": "2023-09-07T21:45:48.136766Z",
     "iopub.status.idle": "2023-09-07T21:45:48.138426Z",
     "shell.execute_reply": "2023-09-07T21:45:48.138212Z"
    },
    "papermill": {
     "duration": 0.003623,
     "end_time": "2023-09-07T21:45:48.138843",
     "exception": false,
     "start_time": "2023-09-07T21:45:48.135220",
     "status": "completed"
    },
    "tags": []
   },
   "outputs": [],
   "source": [
    "def func():\n",
    "    n_clust = list(range(2, 10 + 1))\n",
    "    return ccc(data, internal_n_clusters=n_clust, n_jobs=2)"
   ]
  },
  {
   "cell_type": "code",
   "execution_count": 13,
   "id": "2965a695-5c0c-4e9e-8435-dcbfa610eb81",
   "metadata": {
    "execution": {
     "iopub.execute_input": "2023-09-07T21:45:48.141486Z",
     "iopub.status.busy": "2023-09-07T21:45:48.141414Z",
     "iopub.status.idle": "2023-09-07T21:48:49.864783Z",
     "shell.execute_reply": "2023-09-07T21:48:49.864453Z"
    },
    "papermill": {
     "duration": 181.726169,
     "end_time": "2023-09-07T21:48:49.866236",
     "exception": false,
     "start_time": "2023-09-07T21:45:48.140067",
     "status": "completed"
    },
    "tags": []
   },
   "outputs": [
    {
     "name": "stdout",
     "output_type": "stream",
     "text": [
      "11.4 s ± 55.3 ms per loop (mean ± std. dev. of 7 runs, 1 loop each)\n"
     ]
    }
   ],
   "source": [
    "%%timeit func()\n",
    "func()"
   ]
  },
  {
   "cell_type": "code",
   "execution_count": null,
   "id": "e2556204-1c10-4e01-8c6c-ea63ddb37530",
   "metadata": {
    "papermill": {
     "duration": 0.004461,
     "end_time": "2023-09-07T21:48:49.880060",
     "exception": false,
     "start_time": "2023-09-07T21:48:49.875599",
     "status": "completed"
    },
    "tags": []
   },
   "outputs": [],
   "source": []
  }
 ],
 "metadata": {
  "jupytext": {
   "cell_metadata_filter": "all,-execution,-papermill,-trusted",
   "notebook_metadata_filter": "-jupytext.text_representation.jupytext_version"
  },
  "kernelspec": {
   "display_name": "Python 3 (ipykernel)",
   "language": "python",
   "name": "python3"
  },
  "language_info": {
   "codemirror_mode": {
    "name": "ipython",
    "version": 3
   },
   "file_extension": ".py",
   "mimetype": "text/x-python",
   "name": "python",
   "nbconvert_exporter": "python",
   "pygments_lexer": "ipython3",
   "version": "3.9.12"
  },
  "papermill": {
   "default_parameters": {},
   "duration": 187.453637,
   "end_time": "2023-09-07T21:48:50.100455",
   "environment_variables": {},
   "exception": null,
   "input_path": "nbs/others/05_ccc_profiling/12_cm_optimized/16_00-2_CPUs-default-many_genes.ipynb",
   "output_path": "nbs/others/05_ccc_profiling/12_cm_optimized/16_00-2_CPUs-default-many_genes.run.ipynb",
   "parameters": {},
   "start_time": "2023-09-07T21:45:42.646818",
   "version": "2.3.3"
  }
 },
 "nbformat": 4,
 "nbformat_minor": 5
}
