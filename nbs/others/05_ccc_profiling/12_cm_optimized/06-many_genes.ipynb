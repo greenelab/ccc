{
 "cells": [
  {
   "cell_type": "markdown",
   "id": "507e9319-381b-4934-987c-2958e7f6ace7",
   "metadata": {
    "papermill": {
     "duration": 0.007042,
     "end_time": "2023-09-07T19:50:06.252850",
     "exception": false,
     "start_time": "2023-09-07T19:50:06.245808",
     "status": "completed"
    },
    "tags": []
   },
   "source": [
    "# Description"
   ]
  },
  {
   "cell_type": "markdown",
   "id": "9a88f2a7-3773-459c-8fdc-c69c1b0bb338",
   "metadata": {
    "papermill": {
     "duration": 0.004972,
     "end_time": "2023-09-07T19:50:06.267527",
     "exception": false,
     "start_time": "2023-09-07T19:50:06.262555",
     "status": "completed"
    },
    "tags": []
   },
   "source": [
    "Clustermatch run using a larger number of genes."
   ]
  },
  {
   "cell_type": "markdown",
   "id": "72de9f6f-dc00-435e-9dba-871db859a78a",
   "metadata": {
    "papermill": {
     "duration": 0.002836,
     "end_time": "2023-09-07T19:50:06.275197",
     "exception": false,
     "start_time": "2023-09-07T19:50:06.272361",
     "status": "completed"
    },
    "tags": []
   },
   "source": [
    "# Use only one CPU core"
   ]
  },
  {
   "cell_type": "code",
   "execution_count": 1,
   "id": "44fd0e26-4162-44b8-b2a9-9f989e892719",
   "metadata": {
    "execution": {
     "iopub.execute_input": "2023-09-07T19:50:06.279422Z",
     "iopub.status.busy": "2023-09-07T19:50:06.279312Z",
     "iopub.status.idle": "2023-09-07T19:50:06.284481Z",
     "shell.execute_reply": "2023-09-07T19:50:06.284313Z"
    },
    "papermill": {
     "duration": 0.00792,
     "end_time": "2023-09-07T19:50:06.284974",
     "exception": false,
     "start_time": "2023-09-07T19:50:06.277054",
     "status": "completed"
    },
    "tags": []
   },
   "outputs": [
    {
     "name": "stdout",
     "output_type": "stream",
     "text": [
      "env: CM_N_JOBS=1\n",
      "env: NUMBA_NUM_THREADS=1\n",
      "env: MKL_NUM_THREADS=1\n",
      "env: OPEN_BLAS_NUM_THREADS=1\n",
      "env: NUMEXPR_NUM_THREADS=1\n",
      "env: OMP_NUM_THREADS=1\n"
     ]
    }
   ],
   "source": [
    "%env CM_N_JOBS=1\n",
    "%env NUMBA_NUM_THREADS=1\n",
    "%env MKL_NUM_THREADS=1\n",
    "%env OPEN_BLAS_NUM_THREADS=1\n",
    "%env NUMEXPR_NUM_THREADS=1\n",
    "%env OMP_NUM_THREADS=1"
   ]
  },
  {
   "cell_type": "markdown",
   "id": "4d885a9d-482d-47e7-bfaf-11c8efae3079",
   "metadata": {
    "papermill": {
     "duration": 0.001142,
     "end_time": "2023-09-07T19:50:06.287426",
     "exception": false,
     "start_time": "2023-09-07T19:50:06.286284",
     "status": "completed"
    },
    "tags": []
   },
   "source": [
    "# Remove pycache dir"
   ]
  },
  {
   "cell_type": "code",
   "execution_count": 2,
   "id": "88d32361-f1b5-4cf0-9a2c-7ab927d14b42",
   "metadata": {
    "execution": {
     "iopub.execute_input": "2023-09-07T19:50:06.291973Z",
     "iopub.status.busy": "2023-09-07T19:50:06.291829Z",
     "iopub.status.idle": "2023-09-07T19:50:06.485882Z",
     "shell.execute_reply": "2023-09-07T19:50:06.484713Z"
    },
    "papermill": {
     "duration": 0.199225,
     "end_time": "2023-09-07T19:50:06.488755",
     "exception": false,
     "start_time": "2023-09-07T19:50:06.289530",
     "status": "completed"
    },
    "tags": []
   },
   "outputs": [
    {
     "name": "stdout",
     "output_type": "stream",
     "text": [
      "/opt/code\r\n"
     ]
    }
   ],
   "source": [
    "!echo ${CODE_DIR}"
   ]
  },
  {
   "cell_type": "code",
   "execution_count": 3,
   "id": "8a27da6e-cf59-4276-888b-57e98fd23ccf",
   "metadata": {
    "execution": {
     "iopub.execute_input": "2023-09-07T19:50:06.501860Z",
     "iopub.status.busy": "2023-09-07T19:50:06.501546Z",
     "iopub.status.idle": "2023-09-07T19:50:06.707854Z",
     "shell.execute_reply": "2023-09-07T19:50:06.706723Z"
    },
    "papermill": {
     "duration": 0.215968,
     "end_time": "2023-09-07T19:50:06.710884",
     "exception": false,
     "start_time": "2023-09-07T19:50:06.494916",
     "status": "completed"
    },
    "tags": []
   },
   "outputs": [
    {
     "name": "stdout",
     "output_type": "stream",
     "text": [
      "/opt/code/libs/ccc/coef/__pycache__\r\n",
      "/opt/code/libs/ccc/pytorch/__pycache__\r\n",
      "/opt/code/libs/ccc/scipy/__pycache__\r\n",
      "/opt/code/libs/ccc/utils/__pycache__\r\n",
      "/opt/code/libs/ccc/__pycache__\r\n",
      "/opt/code/libs/ccc/sklearn/__pycache__\r\n"
     ]
    }
   ],
   "source": [
    "!find ${CODE_DIR} -regex '^.*\\(__pycache__\\)$' -print"
   ]
  },
  {
   "cell_type": "code",
   "execution_count": 4,
   "id": "561480f7-c610-4f60-b40f-8100974ab4d1",
   "metadata": {
    "execution": {
     "iopub.execute_input": "2023-09-07T19:50:06.724812Z",
     "iopub.status.busy": "2023-09-07T19:50:06.724180Z",
     "iopub.status.idle": "2023-09-07T19:50:06.928898Z",
     "shell.execute_reply": "2023-09-07T19:50:06.927802Z"
    },
    "papermill": {
     "duration": 0.214188,
     "end_time": "2023-09-07T19:50:06.931506",
     "exception": false,
     "start_time": "2023-09-07T19:50:06.717318",
     "status": "completed"
    },
    "tags": []
   },
   "outputs": [
    {
     "name": "stdout",
     "output_type": "stream",
     "text": [
      "find: ‘/opt/code/libs/ccc/coef/__pycache__’: No such file or directory\r\n",
      "find: ‘/opt/code/libs/ccc/pytorch/__pycache__’: No such file or directory\r\n",
      "find: ‘/opt/code/libs/ccc/scipy/__pycache__’: No such file or directory\r\n",
      "find: ‘/opt/code/libs/ccc/utils/__pycache__’: No such file or directory\r\n",
      "find: ‘/opt/code/libs/ccc/__pycache__’: No such file or directory\r\n",
      "find: ‘/opt/code/libs/ccc/sklearn/__pycache__’: No such file or directory\r\n"
     ]
    }
   ],
   "source": [
    "!find ${CODE_DIR} -regex '^.*\\(__pycache__\\)$' -exec rm -rf {} \\;"
   ]
  },
  {
   "cell_type": "code",
   "execution_count": 5,
   "id": "a5c90a17-c0ac-49f0-968d-ea9ea8710b00",
   "metadata": {
    "execution": {
     "iopub.execute_input": "2023-09-07T19:50:06.950196Z",
     "iopub.status.busy": "2023-09-07T19:50:06.949884Z",
     "iopub.status.idle": "2023-09-07T19:50:07.149085Z",
     "shell.execute_reply": "2023-09-07T19:50:07.147522Z"
    },
    "papermill": {
     "duration": 0.213957,
     "end_time": "2023-09-07T19:50:07.152259",
     "exception": false,
     "start_time": "2023-09-07T19:50:06.938302",
     "status": "completed"
    },
    "tags": []
   },
   "outputs": [],
   "source": [
    "!find ${CODE_DIR} -regex '^.*\\(__pycache__\\)$' -print"
   ]
  },
  {
   "cell_type": "markdown",
   "id": "145563a2-3e46-4f62-8191-7444a0b315bb",
   "metadata": {
    "papermill": {
     "duration": 0.00999,
     "end_time": "2023-09-07T19:50:07.168483",
     "exception": false,
     "start_time": "2023-09-07T19:50:07.158493",
     "status": "completed"
    },
    "tags": []
   },
   "source": [
    "# Modules"
   ]
  },
  {
   "cell_type": "code",
   "execution_count": 6,
   "id": "bea3d48e-8823-403f-90f5-aea8a17b357c",
   "metadata": {
    "execution": {
     "iopub.execute_input": "2023-09-07T19:50:07.176302Z",
     "iopub.status.busy": "2023-09-07T19:50:07.176133Z",
     "iopub.status.idle": "2023-09-07T19:50:10.932358Z",
     "shell.execute_reply": "2023-09-07T19:50:10.931932Z"
    },
    "papermill": {
     "duration": 3.760665,
     "end_time": "2023-09-07T19:50:10.933216",
     "exception": false,
     "start_time": "2023-09-07T19:50:07.172551",
     "status": "completed"
    },
    "tags": []
   },
   "outputs": [],
   "source": [
    "import numpy as np\n",
    "\n",
    "from ccc.coef import ccc"
   ]
  },
  {
   "cell_type": "code",
   "execution_count": 7,
   "id": "df6b3793-930b-4c54-9f29-ecc47fc586fb",
   "metadata": {
    "execution": {
     "iopub.execute_input": "2023-09-07T19:50:10.943033Z",
     "iopub.status.busy": "2023-09-07T19:50:10.942781Z",
     "iopub.status.idle": "2023-09-07T19:50:10.946971Z",
     "shell.execute_reply": "2023-09-07T19:50:10.946842Z"
    },
    "papermill": {
     "duration": 0.012797,
     "end_time": "2023-09-07T19:50:10.947463",
     "exception": false,
     "start_time": "2023-09-07T19:50:10.934666",
     "status": "completed"
    },
    "tags": []
   },
   "outputs": [
    {
     "data": {
      "text/plain": [
       "0.28"
      ]
     },
     "execution_count": 7,
     "metadata": {},
     "output_type": "execute_result"
    }
   ],
   "source": [
    "# let numba compile all the code before profiling\n",
    "ccc(np.random.rand(10), np.random.rand(10))"
   ]
  },
  {
   "cell_type": "markdown",
   "id": "f8399ca8-265e-4e96-b582-54045cb2f9eb",
   "metadata": {
    "papermill": {
     "duration": 0.001161,
     "end_time": "2023-09-07T19:50:10.949960",
     "exception": false,
     "start_time": "2023-09-07T19:50:10.948799",
     "status": "completed"
    },
    "tags": []
   },
   "source": [
    "# Data"
   ]
  },
  {
   "cell_type": "code",
   "execution_count": 8,
   "id": "2316ffcd-a6e4-453f-bb52-779685c5c5bf",
   "metadata": {
    "execution": {
     "iopub.execute_input": "2023-09-07T19:50:10.955285Z",
     "iopub.status.busy": "2023-09-07T19:50:10.955187Z",
     "iopub.status.idle": "2023-09-07T19:50:10.956855Z",
     "shell.execute_reply": "2023-09-07T19:50:10.956644Z"
    },
    "papermill": {
     "duration": 0.005532,
     "end_time": "2023-09-07T19:50:10.957566",
     "exception": false,
     "start_time": "2023-09-07T19:50:10.952034",
     "status": "completed"
    },
    "tags": []
   },
   "outputs": [],
   "source": [
    "n_genes, n_samples = 100, 1000"
   ]
  },
  {
   "cell_type": "code",
   "execution_count": 9,
   "id": "b2f92fb1-113d-479b-8bbf-2be229e26e8f",
   "metadata": {
    "execution": {
     "iopub.execute_input": "2023-09-07T19:50:10.962511Z",
     "iopub.status.busy": "2023-09-07T19:50:10.962361Z",
     "iopub.status.idle": "2023-09-07T19:50:10.963885Z",
     "shell.execute_reply": "2023-09-07T19:50:10.963709Z"
    },
    "papermill": {
     "duration": 0.004537,
     "end_time": "2023-09-07T19:50:10.964544",
     "exception": false,
     "start_time": "2023-09-07T19:50:10.960007",
     "status": "completed"
    },
    "tags": []
   },
   "outputs": [],
   "source": [
    "np.random.seed(0)"
   ]
  },
  {
   "cell_type": "code",
   "execution_count": 10,
   "id": "63638c0b-b436-48a9-93e0-db2adb939a61",
   "metadata": {
    "execution": {
     "iopub.execute_input": "2023-09-07T19:50:10.968251Z",
     "iopub.status.busy": "2023-09-07T19:50:10.968116Z",
     "iopub.status.idle": "2023-09-07T19:50:10.970125Z",
     "shell.execute_reply": "2023-09-07T19:50:10.969888Z"
    },
    "papermill": {
     "duration": 0.004386,
     "end_time": "2023-09-07T19:50:10.970719",
     "exception": false,
     "start_time": "2023-09-07T19:50:10.966333",
     "status": "completed"
    },
    "tags": []
   },
   "outputs": [],
   "source": [
    "data = np.random.rand(n_genes, n_samples)"
   ]
  },
  {
   "cell_type": "code",
   "execution_count": 11,
   "id": "808017ed-9a8a-4bf7-a3dd-42317a39ce8f",
   "metadata": {
    "execution": {
     "iopub.execute_input": "2023-09-07T19:50:10.975546Z",
     "iopub.status.busy": "2023-09-07T19:50:10.975434Z",
     "iopub.status.idle": "2023-09-07T19:50:10.977551Z",
     "shell.execute_reply": "2023-09-07T19:50:10.977344Z"
    },
    "papermill": {
     "duration": 0.005386,
     "end_time": "2023-09-07T19:50:10.978220",
     "exception": false,
     "start_time": "2023-09-07T19:50:10.972834",
     "status": "completed"
    },
    "tags": []
   },
   "outputs": [
    {
     "data": {
      "text/plain": [
       "(100, 1000)"
      ]
     },
     "execution_count": 11,
     "metadata": {},
     "output_type": "execute_result"
    }
   ],
   "source": [
    "data.shape"
   ]
  },
  {
   "cell_type": "markdown",
   "id": "716e4219-cad5-453b-8331-47d310689e03",
   "metadata": {
    "papermill": {
     "duration": 0.001637,
     "end_time": "2023-09-07T19:50:10.981989",
     "exception": false,
     "start_time": "2023-09-07T19:50:10.980352",
     "status": "completed"
    },
    "tags": []
   },
   "source": [
    "# Profile"
   ]
  },
  {
   "cell_type": "code",
   "execution_count": 12,
   "id": "67807856-f337-4c6e-ae31-cd306577a314",
   "metadata": {
    "execution": {
     "iopub.execute_input": "2023-09-07T19:50:10.985082Z",
     "iopub.status.busy": "2023-09-07T19:50:10.984963Z",
     "iopub.status.idle": "2023-09-07T19:50:10.986284Z",
     "shell.execute_reply": "2023-09-07T19:50:10.986156Z"
    },
    "papermill": {
     "duration": 0.003147,
     "end_time": "2023-09-07T19:50:10.986644",
     "exception": false,
     "start_time": "2023-09-07T19:50:10.983497",
     "status": "completed"
    },
    "tags": []
   },
   "outputs": [],
   "source": [
    "def func():\n",
    "    n_clust = list(range(2, 10 + 1))\n",
    "    return ccc(data, internal_n_clusters=n_clust)"
   ]
  },
  {
   "cell_type": "code",
   "execution_count": 13,
   "id": "2965a695-5c0c-4e9e-8435-dcbfa610eb81",
   "metadata": {
    "execution": {
     "iopub.execute_input": "2023-09-07T19:50:10.989627Z",
     "iopub.status.busy": "2023-09-07T19:50:10.989527Z",
     "iopub.status.idle": "2023-09-07T19:55:51.692734Z",
     "shell.execute_reply": "2023-09-07T19:55:51.692560Z"
    },
    "papermill": {
     "duration": 340.706812,
     "end_time": "2023-09-07T19:55:51.694759",
     "exception": false,
     "start_time": "2023-09-07T19:50:10.987947",
     "status": "completed"
    },
    "tags": []
   },
   "outputs": [
    {
     "name": "stdout",
     "output_type": "stream",
     "text": [
      "21.3 s ± 40 ms per loop (mean ± std. dev. of 7 runs, 1 loop each)\n"
     ]
    }
   ],
   "source": [
    "%%timeit func()\n",
    "func()"
   ]
  },
  {
   "cell_type": "code",
   "execution_count": 14,
   "id": "51c7a416-064a-4669-a09f-16f837d32475",
   "metadata": {
    "execution": {
     "iopub.execute_input": "2023-09-07T19:55:51.697814Z",
     "iopub.status.busy": "2023-09-07T19:55:51.697741Z",
     "iopub.status.idle": "2023-09-07T19:56:13.029307Z",
     "shell.execute_reply": "2023-09-07T19:56:13.029034Z"
    },
    "papermill": {
     "duration": 21.333909,
     "end_time": "2023-09-07T19:56:13.030002",
     "exception": false,
     "start_time": "2023-09-07T19:55:51.696093",
     "status": "completed"
    },
    "tags": []
   },
   "outputs": [
    {
     "name": "stdout",
     "output_type": "stream",
     "text": [
      " \n",
      "*** Profile printout saved to text file '06-cm_many_genes.txt'. \n"
     ]
    }
   ],
   "source": [
    "%%prun -s cumulative -l 50 -T 06-cm_many_genes.txt\n",
    "func()"
   ]
  },
  {
   "cell_type": "code",
   "execution_count": null,
   "id": "e2556204-1c10-4e01-8c6c-ea63ddb37530",
   "metadata": {
    "papermill": {
     "duration": 0.001266,
     "end_time": "2023-09-07T19:56:13.032741",
     "exception": false,
     "start_time": "2023-09-07T19:56:13.031475",
     "status": "completed"
    },
    "tags": []
   },
   "outputs": [],
   "source": []
  }
 ],
 "metadata": {
  "jupytext": {
   "cell_metadata_filter": "all,-execution,-papermill,-trusted",
   "notebook_metadata_filter": "-jupytext.text_representation.jupytext_version"
  },
  "kernelspec": {
   "display_name": "Python 3 (ipykernel)",
   "language": "python",
   "name": "python3"
  },
  "language_info": {
   "codemirror_mode": {
    "name": "ipython",
    "version": 3
   },
   "file_extension": ".py",
   "mimetype": "text/x-python",
   "name": "python",
   "nbconvert_exporter": "python",
   "pygments_lexer": "ipython3",
   "version": "3.9.12"
  },
  "papermill": {
   "default_parameters": {},
   "duration": 367.768521,
   "end_time": "2023-09-07T19:56:13.349288",
   "environment_variables": {},
   "exception": null,
   "input_path": "nbs/others/05_ccc_profiling/12_cm_optimized/06-many_genes.ipynb",
   "output_path": "nbs/others/05_ccc_profiling/12_cm_optimized/06-many_genes.run.ipynb",
   "parameters": {},
   "start_time": "2023-09-07T19:50:05.580767",
   "version": "2.3.3"
  }
 },
 "nbformat": 4,
 "nbformat_minor": 5
}
