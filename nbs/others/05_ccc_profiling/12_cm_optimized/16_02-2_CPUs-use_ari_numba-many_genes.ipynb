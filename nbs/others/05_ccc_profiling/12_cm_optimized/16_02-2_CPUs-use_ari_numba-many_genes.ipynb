{
 "cells": [
  {
   "cell_type": "markdown",
   "id": "507e9319-381b-4934-987c-2958e7f6ace7",
   "metadata": {
    "papermill": {
     "duration": 0.006575,
     "end_time": "2023-09-07T22:11:41.690504",
     "exception": false,
     "start_time": "2023-09-07T22:11:41.683929",
     "status": "completed"
    },
    "tags": []
   },
   "source": [
    "# Description"
   ]
  },
  {
   "cell_type": "markdown",
   "id": "7cc1fe32-136c-405d-a48f-763105012eb8",
   "metadata": {
    "papermill": {
     "duration": 0.004164,
     "end_time": "2023-09-07T22:11:41.699971",
     "exception": false,
     "start_time": "2023-09-07T22:11:41.695807",
     "status": "completed"
    },
    "tags": []
   },
   "source": [
    "Like `06_02` but using more CPU cores."
   ]
  },
  {
   "cell_type": "markdown",
   "id": "dca4cada-cdd9-4989-ba16-7a63c53e7b1f",
   "metadata": {
    "papermill": {
     "duration": 0.002127,
     "end_time": "2023-09-07T22:11:41.705245",
     "exception": false,
     "start_time": "2023-09-07T22:11:41.703118",
     "status": "completed"
    },
    "tags": []
   },
   "source": [
    "# Use multiple CPU core"
   ]
  },
  {
   "cell_type": "code",
   "execution_count": 1,
   "id": "5d804148-5abf-4081-ab3d-1fe077111a67",
   "metadata": {
    "execution": {
     "iopub.execute_input": "2023-09-07T22:11:41.710102Z",
     "iopub.status.busy": "2023-09-07T22:11:41.709849Z",
     "iopub.status.idle": "2023-09-07T22:11:41.715249Z",
     "shell.execute_reply": "2023-09-07T22:11:41.715038Z"
    },
    "papermill": {
     "duration": 0.008065,
     "end_time": "2023-09-07T22:11:41.715989",
     "exception": false,
     "start_time": "2023-09-07T22:11:41.707924",
     "status": "completed"
    },
    "tags": []
   },
   "outputs": [
    {
     "name": "stdout",
     "output_type": "stream",
     "text": [
      "env: CM_N_JOBS=2\n",
      "env: NUMBA_NUM_THREADS=2\n",
      "env: MKL_NUM_THREADS=2\n",
      "env: OPEN_BLAS_NUM_THREADS=2\n",
      "env: NUMEXPR_NUM_THREADS=2\n",
      "env: OMP_NUM_THREADS=2\n"
     ]
    }
   ],
   "source": [
    "%env CM_N_JOBS=2\n",
    "%env NUMBA_NUM_THREADS=2\n",
    "%env MKL_NUM_THREADS=2\n",
    "%env OPEN_BLAS_NUM_THREADS=2\n",
    "%env NUMEXPR_NUM_THREADS=2\n",
    "%env OMP_NUM_THREADS=2"
   ]
  },
  {
   "cell_type": "markdown",
   "id": "4d885a9d-482d-47e7-bfaf-11c8efae3079",
   "metadata": {
    "papermill": {
     "duration": 0.001986,
     "end_time": "2023-09-07T22:11:41.720009",
     "exception": false,
     "start_time": "2023-09-07T22:11:41.718023",
     "status": "completed"
    },
    "tags": []
   },
   "source": [
    "# Remove pycache dir"
   ]
  },
  {
   "cell_type": "code",
   "execution_count": 2,
   "id": "88d32361-f1b5-4cf0-9a2c-7ab927d14b42",
   "metadata": {
    "execution": {
     "iopub.execute_input": "2023-09-07T22:11:41.726713Z",
     "iopub.status.busy": "2023-09-07T22:11:41.726388Z",
     "iopub.status.idle": "2023-09-07T22:11:41.919443Z",
     "shell.execute_reply": "2023-09-07T22:11:41.917918Z"
    },
    "papermill": {
     "duration": 0.199308,
     "end_time": "2023-09-07T22:11:41.922214",
     "exception": false,
     "start_time": "2023-09-07T22:11:41.722906",
     "status": "completed"
    },
    "tags": []
   },
   "outputs": [
    {
     "name": "stdout",
     "output_type": "stream",
     "text": [
      "/opt/code\n"
     ]
    }
   ],
   "source": [
    "!echo ${CODE_DIR}"
   ]
  },
  {
   "cell_type": "code",
   "execution_count": 3,
   "id": "8a27da6e-cf59-4276-888b-57e98fd23ccf",
   "metadata": {
    "execution": {
     "iopub.execute_input": "2023-09-07T22:11:41.940423Z",
     "iopub.status.busy": "2023-09-07T22:11:41.939528Z",
     "iopub.status.idle": "2023-09-07T22:11:42.144958Z",
     "shell.execute_reply": "2023-09-07T22:11:42.143827Z"
    },
    "papermill": {
     "duration": 0.219934,
     "end_time": "2023-09-07T22:11:42.147681",
     "exception": false,
     "start_time": "2023-09-07T22:11:41.927747",
     "status": "completed"
    },
    "tags": []
   },
   "outputs": [
    {
     "name": "stdout",
     "output_type": "stream",
     "text": [
      "/opt/code/libs/ccc/coef/__pycache__\n",
      "/opt/code/libs/ccc/pytorch/__pycache__\n",
      "/opt/code/libs/ccc/scipy/__pycache__\n",
      "/opt/code/libs/ccc/utils/__pycache__\n",
      "/opt/code/libs/ccc/__pycache__\n",
      "/opt/code/libs/ccc/sklearn/__pycache__\n"
     ]
    }
   ],
   "source": [
    "!find ${CODE_DIR} -regex '^.*\\(__pycache__\\)$' -print"
   ]
  },
  {
   "cell_type": "code",
   "execution_count": 4,
   "id": "561480f7-c610-4f60-b40f-8100974ab4d1",
   "metadata": {
    "execution": {
     "iopub.execute_input": "2023-09-07T22:11:42.160792Z",
     "iopub.status.busy": "2023-09-07T22:11:42.160375Z",
     "iopub.status.idle": "2023-09-07T22:11:42.370255Z",
     "shell.execute_reply": "2023-09-07T22:11:42.369154Z"
    },
    "papermill": {
     "duration": 0.219443,
     "end_time": "2023-09-07T22:11:42.372986",
     "exception": false,
     "start_time": "2023-09-07T22:11:42.153543",
     "status": "completed"
    },
    "tags": []
   },
   "outputs": [
    {
     "name": "stdout",
     "output_type": "stream",
     "text": [
      "find: ‘/opt/code/libs/ccc/coef/__pycache__’: No such file or directory\n",
      "find: ‘/opt/code/libs/ccc/pytorch/__pycache__’: No such file or directory\n",
      "find: ‘/opt/code/libs/ccc/scipy/__pycache__’: No such file or directory\n",
      "find: ‘/opt/code/libs/ccc/utils/__pycache__’: No such file or directory\n",
      "find: ‘/opt/code/libs/ccc/__pycache__’: No such file or directory\n",
      "find: ‘/opt/code/libs/ccc/sklearn/__pycache__’: No such file or directory\n"
     ]
    }
   ],
   "source": [
    "!find ${CODE_DIR} -regex '^.*\\(__pycache__\\)$' -exec rm -rf {} \\;"
   ]
  },
  {
   "cell_type": "code",
   "execution_count": 5,
   "id": "a5c90a17-c0ac-49f0-968d-ea9ea8710b00",
   "metadata": {
    "execution": {
     "iopub.execute_input": "2023-09-07T22:11:42.381184Z",
     "iopub.status.busy": "2023-09-07T22:11:42.380919Z",
     "iopub.status.idle": "2023-09-07T22:11:42.577334Z",
     "shell.execute_reply": "2023-09-07T22:11:42.575996Z"
    },
    "papermill": {
     "duration": 0.201605,
     "end_time": "2023-09-07T22:11:42.580563",
     "exception": false,
     "start_time": "2023-09-07T22:11:42.378958",
     "status": "completed"
    },
    "tags": []
   },
   "outputs": [],
   "source": [
    "!find ${CODE_DIR} -regex '^.*\\(__pycache__\\)$' -print"
   ]
  },
  {
   "cell_type": "markdown",
   "id": "145563a2-3e46-4f62-8191-7444a0b315bb",
   "metadata": {
    "papermill": {
     "duration": 0.009875,
     "end_time": "2023-09-07T22:11:42.596372",
     "exception": false,
     "start_time": "2023-09-07T22:11:42.586497",
     "status": "completed"
    },
    "tags": []
   },
   "source": [
    "# Modules"
   ]
  },
  {
   "cell_type": "code",
   "execution_count": 6,
   "id": "bea3d48e-8823-403f-90f5-aea8a17b357c",
   "metadata": {
    "execution": {
     "iopub.execute_input": "2023-09-07T22:11:42.608227Z",
     "iopub.status.busy": "2023-09-07T22:11:42.608039Z",
     "iopub.status.idle": "2023-09-07T22:11:46.297457Z",
     "shell.execute_reply": "2023-09-07T22:11:46.297216Z"
    },
    "papermill": {
     "duration": 3.696182,
     "end_time": "2023-09-07T22:11:46.298336",
     "exception": false,
     "start_time": "2023-09-07T22:11:42.602154",
     "status": "completed"
    },
    "tags": []
   },
   "outputs": [],
   "source": [
    "import numpy as np\n",
    "\n",
    "from ccc.coef import ccc"
   ]
  },
  {
   "cell_type": "code",
   "execution_count": 7,
   "id": "df6b3793-930b-4c54-9f29-ecc47fc586fb",
   "metadata": {
    "execution": {
     "iopub.execute_input": "2023-09-07T22:11:46.307570Z",
     "iopub.status.busy": "2023-09-07T22:11:46.307515Z",
     "iopub.status.idle": "2023-09-07T22:11:46.311903Z",
     "shell.execute_reply": "2023-09-07T22:11:46.311774Z"
    },
    "papermill": {
     "duration": 0.012697,
     "end_time": "2023-09-07T22:11:46.312399",
     "exception": false,
     "start_time": "2023-09-07T22:11:46.299702",
     "status": "completed"
    },
    "tags": []
   },
   "outputs": [
    {
     "data": {
      "text/plain": [
       "0.20454545454545456"
      ]
     },
     "execution_count": 7,
     "metadata": {},
     "output_type": "execute_result"
    }
   ],
   "source": [
    "# let numba compile all the code before profiling\n",
    "ccc(np.random.rand(10), np.random.rand(10))"
   ]
  },
  {
   "cell_type": "markdown",
   "id": "f8399ca8-265e-4e96-b582-54045cb2f9eb",
   "metadata": {
    "papermill": {
     "duration": 0.009559,
     "end_time": "2023-09-07T22:11:46.323333",
     "exception": false,
     "start_time": "2023-09-07T22:11:46.313774",
     "status": "completed"
    },
    "tags": []
   },
   "source": [
    "# Data"
   ]
  },
  {
   "cell_type": "code",
   "execution_count": 8,
   "id": "2316ffcd-a6e4-453f-bb52-779685c5c5bf",
   "metadata": {
    "execution": {
     "iopub.execute_input": "2023-09-07T22:11:46.329827Z",
     "iopub.status.busy": "2023-09-07T22:11:46.329631Z",
     "iopub.status.idle": "2023-09-07T22:11:46.331427Z",
     "shell.execute_reply": "2023-09-07T22:11:46.331208Z"
    },
    "papermill": {
     "duration": 0.005926,
     "end_time": "2023-09-07T22:11:46.332215",
     "exception": false,
     "start_time": "2023-09-07T22:11:46.326289",
     "status": "completed"
    },
    "tags": []
   },
   "outputs": [],
   "source": [
    "n_genes, n_samples = 100, 1000"
   ]
  },
  {
   "cell_type": "code",
   "execution_count": 9,
   "id": "b2f92fb1-113d-479b-8bbf-2be229e26e8f",
   "metadata": {
    "execution": {
     "iopub.execute_input": "2023-09-07T22:11:46.336896Z",
     "iopub.status.busy": "2023-09-07T22:11:46.336700Z",
     "iopub.status.idle": "2023-09-07T22:11:46.338376Z",
     "shell.execute_reply": "2023-09-07T22:11:46.338164Z"
    },
    "papermill": {
     "duration": 0.004776,
     "end_time": "2023-09-07T22:11:46.339061",
     "exception": false,
     "start_time": "2023-09-07T22:11:46.334285",
     "status": "completed"
    },
    "tags": []
   },
   "outputs": [],
   "source": [
    "np.random.seed(0)"
   ]
  },
  {
   "cell_type": "code",
   "execution_count": 10,
   "id": "63638c0b-b436-48a9-93e0-db2adb939a61",
   "metadata": {
    "execution": {
     "iopub.execute_input": "2023-09-07T22:11:46.343186Z",
     "iopub.status.busy": "2023-09-07T22:11:46.343066Z",
     "iopub.status.idle": "2023-09-07T22:11:46.344943Z",
     "shell.execute_reply": "2023-09-07T22:11:46.344788Z"
    },
    "papermill": {
     "duration": 0.004357,
     "end_time": "2023-09-07T22:11:46.345415",
     "exception": false,
     "start_time": "2023-09-07T22:11:46.341058",
     "status": "completed"
    },
    "tags": []
   },
   "outputs": [],
   "source": [
    "data = np.random.rand(n_genes, n_samples)"
   ]
  },
  {
   "cell_type": "code",
   "execution_count": 11,
   "id": "808017ed-9a8a-4bf7-a3dd-42317a39ce8f",
   "metadata": {
    "execution": {
     "iopub.execute_input": "2023-09-07T22:11:46.348539Z",
     "iopub.status.busy": "2023-09-07T22:11:46.348432Z",
     "iopub.status.idle": "2023-09-07T22:11:46.349888Z",
     "shell.execute_reply": "2023-09-07T22:11:46.349771Z"
    },
    "papermill": {
     "duration": 0.003441,
     "end_time": "2023-09-07T22:11:46.350329",
     "exception": false,
     "start_time": "2023-09-07T22:11:46.346888",
     "status": "completed"
    },
    "tags": []
   },
   "outputs": [
    {
     "data": {
      "text/plain": [
       "(100, 1000)"
      ]
     },
     "execution_count": 11,
     "metadata": {},
     "output_type": "execute_result"
    }
   ],
   "source": [
    "data.shape"
   ]
  },
  {
   "cell_type": "markdown",
   "id": "716e4219-cad5-453b-8331-47d310689e03",
   "metadata": {
    "papermill": {
     "duration": 0.00114,
     "end_time": "2023-09-07T22:11:46.352730",
     "exception": false,
     "start_time": "2023-09-07T22:11:46.351590",
     "status": "completed"
    },
    "tags": []
   },
   "source": [
    "# Profile"
   ]
  },
  {
   "cell_type": "code",
   "execution_count": 12,
   "id": "67807856-f337-4c6e-ae31-cd306577a314",
   "metadata": {
    "execution": {
     "iopub.execute_input": "2023-09-07T22:11:46.355380Z",
     "iopub.status.busy": "2023-09-07T22:11:46.355330Z",
     "iopub.status.idle": "2023-09-07T22:11:46.356661Z",
     "shell.execute_reply": "2023-09-07T22:11:46.356536Z"
    },
    "papermill": {
     "duration": 0.003145,
     "end_time": "2023-09-07T22:11:46.357085",
     "exception": false,
     "start_time": "2023-09-07T22:11:46.353940",
     "status": "completed"
    },
    "tags": []
   },
   "outputs": [],
   "source": [
    "def func():\n",
    "    n_clust = list(range(2, 10 + 1))\n",
    "    return ccc(data, internal_n_clusters=n_clust, use_ari_numba=True, n_jobs=2)"
   ]
  },
  {
   "cell_type": "code",
   "execution_count": 13,
   "id": "2965a695-5c0c-4e9e-8435-dcbfa610eb81",
   "metadata": {
    "execution": {
     "iopub.execute_input": "2023-09-07T22:11:46.359885Z",
     "iopub.status.busy": "2023-09-07T22:11:46.359787Z",
     "iopub.status.idle": "2023-09-07T22:14:38.499215Z",
     "shell.execute_reply": "2023-09-07T22:14:38.499037Z"
    },
    "papermill": {
     "duration": 172.142755,
     "end_time": "2023-09-07T22:14:38.501086",
     "exception": false,
     "start_time": "2023-09-07T22:11:46.358331",
     "status": "completed"
    },
    "tags": []
   },
   "outputs": [
    {
     "name": "stdout",
     "output_type": "stream",
     "text": [
      "10.7 s ± 189 ms per loop (mean ± std. dev. of 7 runs, 1 loop each)\n"
     ]
    }
   ],
   "source": [
    "%%timeit func()\n",
    "func()"
   ]
  },
  {
   "cell_type": "code",
   "execution_count": null,
   "id": "e2556204-1c10-4e01-8c6c-ea63ddb37530",
   "metadata": {
    "papermill": {
     "duration": 0.0097,
     "end_time": "2023-09-07T22:14:49.199847",
     "exception": false,
     "start_time": "2023-09-07T22:14:49.190147",
     "status": "completed"
    },
    "tags": []
   },
   "outputs": [],
   "source": []
  }
 ],
 "metadata": {
  "jupytext": {
   "cell_metadata_filter": "all,-execution,-papermill,-trusted",
   "notebook_metadata_filter": "-jupytext.text_representation.jupytext_version",
   "text_representation": {
    "extension": ".py",
    "format_name": "percent",
    "format_version": "1.3"
   }
  },
  "kernelspec": {
   "display_name": "Python 3 (ipykernel)",
   "language": "python",
   "name": "python3"
  },
  "language_info": {
   "codemirror_mode": {
    "name": "ipython",
    "version": 3
   },
   "file_extension": ".py",
   "mimetype": "text/x-python",
   "name": "python",
   "nbconvert_exporter": "python",
   "pygments_lexer": "ipython3",
   "version": "3.9.12"
  },
  "papermill": {
   "default_parameters": {},
   "duration": 188.544552,
   "end_time": "2023-09-07T22:14:49.418496",
   "environment_variables": {},
   "exception": null,
   "input_path": "nbs/others/05_ccc_profiling/12_cm_optimized/16_02-2_CPUs-use_ari_numba-many_genes.ipynb",
   "output_path": "nbs/others/05_ccc_profiling/12_cm_optimized/16_02-2_CPUs-use_ari_numba-many_genes.run.ipynb",
   "parameters": {},
   "start_time": "2023-09-07T22:11:40.873944",
   "version": "2.3.3"
  }
 },
 "nbformat": 4,
 "nbformat_minor": 5
}
