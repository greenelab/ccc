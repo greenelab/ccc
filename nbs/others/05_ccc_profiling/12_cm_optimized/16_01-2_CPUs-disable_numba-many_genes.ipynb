{
 "cells": [
  {
   "cell_type": "markdown",
   "id": "507e9319-381b-4934-987c-2958e7f6ace7",
   "metadata": {
    "papermill": {
     "duration": 0.007021,
     "end_time": "2023-09-07T21:48:51.584091",
     "exception": false,
     "start_time": "2023-09-07T21:48:51.577070",
     "status": "completed"
    },
    "tags": []
   },
   "source": [
    "# Description"
   ]
  },
  {
   "cell_type": "markdown",
   "id": "e7ec2eb7-bc8f-4dea-90fb-05a3bf5f89e7",
   "metadata": {
    "papermill": {
     "duration": 0.00475,
     "end_time": "2023-09-07T21:48:51.598675",
     "exception": false,
     "start_time": "2023-09-07T21:48:51.593925",
     "status": "completed"
    },
    "tags": []
   },
   "source": [
    "Like `06_01` but using more CPU cores."
   ]
  },
  {
   "cell_type": "markdown",
   "id": "fc48320a-d320-4334-a64d-9777d2b0e48b",
   "metadata": {
    "papermill": {
     "duration": 0.002137,
     "end_time": "2023-09-07T21:48:51.605860",
     "exception": false,
     "start_time": "2023-09-07T21:48:51.603723",
     "status": "completed"
    },
    "tags": []
   },
   "source": [
    "# Use multiple CPU core"
   ]
  },
  {
   "cell_type": "code",
   "execution_count": 1,
   "id": "5d804148-5abf-4081-ab3d-1fe077111a67",
   "metadata": {
    "execution": {
     "iopub.execute_input": "2023-09-07T21:48:51.610346Z",
     "iopub.status.busy": "2023-09-07T21:48:51.610227Z",
     "iopub.status.idle": "2023-09-07T21:48:51.616439Z",
     "shell.execute_reply": "2023-09-07T21:48:51.616073Z"
    },
    "papermill": {
     "duration": 0.009973,
     "end_time": "2023-09-07T21:48:51.617556",
     "exception": false,
     "start_time": "2023-09-07T21:48:51.607583",
     "status": "completed"
    },
    "tags": []
   },
   "outputs": [
    {
     "name": "stdout",
     "output_type": "stream",
     "text": [
      "env: CM_N_JOBS=2\n",
      "env: NUMBA_NUM_THREADS=2\n",
      "env: MKL_NUM_THREADS=2\n",
      "env: OPEN_BLAS_NUM_THREADS=2\n",
      "env: NUMEXPR_NUM_THREADS=2\n",
      "env: OMP_NUM_THREADS=2\n"
     ]
    }
   ],
   "source": [
    "%env CM_N_JOBS=2\n",
    "%env NUMBA_NUM_THREADS=2\n",
    "%env MKL_NUM_THREADS=2\n",
    "%env OPEN_BLAS_NUM_THREADS=2\n",
    "%env NUMEXPR_NUM_THREADS=2\n",
    "%env OMP_NUM_THREADS=2"
   ]
  },
  {
   "cell_type": "markdown",
   "id": "61443ae0-70fe-42c4-adf2-76b8a7b22217",
   "metadata": {
    "papermill": {
     "duration": 0.001473,
     "end_time": "2023-09-07T21:48:51.621052",
     "exception": false,
     "start_time": "2023-09-07T21:48:51.619579",
     "status": "completed"
    },
    "tags": []
   },
   "source": [
    "# Disable numba"
   ]
  },
  {
   "cell_type": "code",
   "execution_count": 2,
   "id": "9495a29b-3ba6-4a51-99b0-780fa5c1d9c7",
   "metadata": {
    "execution": {
     "iopub.execute_input": "2023-09-07T21:48:51.624039Z",
     "iopub.status.busy": "2023-09-07T21:48:51.623964Z",
     "iopub.status.idle": "2023-09-07T21:48:51.625471Z",
     "shell.execute_reply": "2023-09-07T21:48:51.625337Z"
    },
    "papermill": {
     "duration": 0.003609,
     "end_time": "2023-09-07T21:48:51.625897",
     "exception": false,
     "start_time": "2023-09-07T21:48:51.622288",
     "status": "completed"
    },
    "tags": []
   },
   "outputs": [
    {
     "name": "stdout",
     "output_type": "stream",
     "text": [
      "env: NUMBA_DISABLE_JIT=1\n"
     ]
    }
   ],
   "source": [
    "%env NUMBA_DISABLE_JIT=1"
   ]
  },
  {
   "cell_type": "markdown",
   "id": "72de9f6f-dc00-435e-9dba-871db859a78a",
   "metadata": {
    "papermill": {
     "duration": 0.001017,
     "end_time": "2023-09-07T21:48:51.628020",
     "exception": false,
     "start_time": "2023-09-07T21:48:51.627003",
     "status": "completed"
    },
    "tags": []
   },
   "source": [
    "# Remove pycache dir"
   ]
  },
  {
   "cell_type": "code",
   "execution_count": 3,
   "id": "88d32361-f1b5-4cf0-9a2c-7ab927d14b42",
   "metadata": {
    "execution": {
     "iopub.execute_input": "2023-09-07T21:48:51.630698Z",
     "iopub.status.busy": "2023-09-07T21:48:51.630582Z",
     "iopub.status.idle": "2023-09-07T21:48:51.816790Z",
     "shell.execute_reply": "2023-09-07T21:48:51.815649Z"
    },
    "papermill": {
     "duration": 0.190549,
     "end_time": "2023-09-07T21:48:51.819619",
     "exception": false,
     "start_time": "2023-09-07T21:48:51.629070",
     "status": "completed"
    },
    "tags": []
   },
   "outputs": [
    {
     "name": "stdout",
     "output_type": "stream",
     "text": [
      "/opt/code\r\n"
     ]
    }
   ],
   "source": [
    "!echo ${CODE_DIR}"
   ]
  },
  {
   "cell_type": "code",
   "execution_count": 4,
   "id": "8a27da6e-cf59-4276-888b-57e98fd23ccf",
   "metadata": {
    "execution": {
     "iopub.execute_input": "2023-09-07T21:48:51.833421Z",
     "iopub.status.busy": "2023-09-07T21:48:51.833086Z",
     "iopub.status.idle": "2023-09-07T21:48:52.035351Z",
     "shell.execute_reply": "2023-09-07T21:48:52.034311Z"
    },
    "papermill": {
     "duration": 0.211109,
     "end_time": "2023-09-07T21:48:52.036587",
     "exception": false,
     "start_time": "2023-09-07T21:48:51.825478",
     "status": "completed"
    },
    "tags": []
   },
   "outputs": [
    {
     "name": "stdout",
     "output_type": "stream",
     "text": [
      "/opt/code/libs/ccc/coef/__pycache__\r\n",
      "/opt/code/libs/ccc/pytorch/__pycache__\r\n",
      "/opt/code/libs/ccc/scipy/__pycache__\r\n",
      "/opt/code/libs/ccc/utils/__pycache__\r\n",
      "/opt/code/libs/ccc/__pycache__\r\n",
      "/opt/code/libs/ccc/sklearn/__pycache__\r\n"
     ]
    }
   ],
   "source": [
    "!find ${CODE_DIR} -regex '^.*\\(__pycache__\\)$' -print"
   ]
  },
  {
   "cell_type": "code",
   "execution_count": 5,
   "id": "561480f7-c610-4f60-b40f-8100974ab4d1",
   "metadata": {
    "execution": {
     "iopub.execute_input": "2023-09-07T21:48:52.043164Z",
     "iopub.status.busy": "2023-09-07T21:48:52.042895Z",
     "iopub.status.idle": "2023-09-07T21:48:52.243459Z",
     "shell.execute_reply": "2023-09-07T21:48:52.241690Z"
    },
    "papermill": {
     "duration": 0.207557,
     "end_time": "2023-09-07T21:48:52.247066",
     "exception": false,
     "start_time": "2023-09-07T21:48:52.039509",
     "status": "completed"
    },
    "tags": []
   },
   "outputs": [],
   "source": [
    "!find ${CODE_DIR} -regex '^.*\\(__pycache__\\)$' -prune -exec rm -rf {} \\;"
   ]
  },
  {
   "cell_type": "code",
   "execution_count": 6,
   "id": "a5c90a17-c0ac-49f0-968d-ea9ea8710b00",
   "metadata": {
    "execution": {
     "iopub.execute_input": "2023-09-07T21:48:52.266142Z",
     "iopub.status.busy": "2023-09-07T21:48:52.265278Z",
     "iopub.status.idle": "2023-09-07T21:48:52.471509Z",
     "shell.execute_reply": "2023-09-07T21:48:52.470309Z"
    },
    "papermill": {
     "duration": 0.220435,
     "end_time": "2023-09-07T21:48:52.473797",
     "exception": false,
     "start_time": "2023-09-07T21:48:52.253362",
     "status": "completed"
    },
    "tags": []
   },
   "outputs": [],
   "source": [
    "!find ${CODE_DIR} -regex '^.*\\(__pycache__\\)$' -print"
   ]
  },
  {
   "cell_type": "markdown",
   "id": "145563a2-3e46-4f62-8191-7444a0b315bb",
   "metadata": {
    "papermill": {
     "duration": 0.009946,
     "end_time": "2023-09-07T21:48:52.487212",
     "exception": false,
     "start_time": "2023-09-07T21:48:52.477266",
     "status": "completed"
    },
    "tags": []
   },
   "source": [
    "# Modules"
   ]
  },
  {
   "cell_type": "code",
   "execution_count": 7,
   "id": "bea3d48e-8823-403f-90f5-aea8a17b357c",
   "metadata": {
    "execution": {
     "iopub.execute_input": "2023-09-07T21:48:52.497192Z",
     "iopub.status.busy": "2023-09-07T21:48:52.496573Z",
     "iopub.status.idle": "2023-09-07T21:48:52.611830Z",
     "shell.execute_reply": "2023-09-07T21:48:52.611582Z"
    },
    "papermill": {
     "duration": 0.120804,
     "end_time": "2023-09-07T21:48:52.612600",
     "exception": false,
     "start_time": "2023-09-07T21:48:52.491796",
     "status": "completed"
    },
    "tags": []
   },
   "outputs": [],
   "source": [
    "import numpy as np\n",
    "\n",
    "from ccc.coef import ccc"
   ]
  },
  {
   "cell_type": "code",
   "execution_count": 8,
   "id": "df6b3793-930b-4c54-9f29-ecc47fc586fb",
   "metadata": {
    "execution": {
     "iopub.execute_input": "2023-09-07T21:48:52.615656Z",
     "iopub.status.busy": "2023-09-07T21:48:52.615585Z",
     "iopub.status.idle": "2023-09-07T21:48:52.620299Z",
     "shell.execute_reply": "2023-09-07T21:48:52.620173Z"
    },
    "papermill": {
     "duration": 0.006803,
     "end_time": "2023-09-07T21:48:52.620801",
     "exception": false,
     "start_time": "2023-09-07T21:48:52.613998",
     "status": "completed"
    },
    "tags": []
   },
   "outputs": [
    {
     "data": {
      "text/plain": [
       "0.15625"
      ]
     },
     "execution_count": 8,
     "metadata": {},
     "output_type": "execute_result"
    }
   ],
   "source": [
    "# let numba compile all the code before profiling\n",
    "ccc(np.random.rand(10), np.random.rand(10))"
   ]
  },
  {
   "cell_type": "markdown",
   "id": "f8399ca8-265e-4e96-b582-54045cb2f9eb",
   "metadata": {
    "papermill": {
     "duration": 0.001153,
     "end_time": "2023-09-07T21:48:52.623380",
     "exception": false,
     "start_time": "2023-09-07T21:48:52.622227",
     "status": "completed"
    },
    "tags": []
   },
   "source": [
    "# Data"
   ]
  },
  {
   "cell_type": "code",
   "execution_count": 9,
   "id": "2316ffcd-a6e4-453f-bb52-779685c5c5bf",
   "metadata": {
    "execution": {
     "iopub.execute_input": "2023-09-07T21:48:52.627197Z",
     "iopub.status.busy": "2023-09-07T21:48:52.627146Z",
     "iopub.status.idle": "2023-09-07T21:48:52.628620Z",
     "shell.execute_reply": "2023-09-07T21:48:52.628492Z"
    },
    "papermill": {
     "duration": 0.00372,
     "end_time": "2023-09-07T21:48:52.629081",
     "exception": false,
     "start_time": "2023-09-07T21:48:52.625361",
     "status": "completed"
    },
    "tags": []
   },
   "outputs": [],
   "source": [
    "n_genes, n_samples = 100, 1000"
   ]
  },
  {
   "cell_type": "code",
   "execution_count": 10,
   "id": "b2f92fb1-113d-479b-8bbf-2be229e26e8f",
   "metadata": {
    "execution": {
     "iopub.execute_input": "2023-09-07T21:48:52.631885Z",
     "iopub.status.busy": "2023-09-07T21:48:52.631770Z",
     "iopub.status.idle": "2023-09-07T21:48:52.632986Z",
     "shell.execute_reply": "2023-09-07T21:48:52.632849Z"
    },
    "papermill": {
     "duration": 0.003073,
     "end_time": "2023-09-07T21:48:52.633405",
     "exception": false,
     "start_time": "2023-09-07T21:48:52.630332",
     "status": "completed"
    },
    "tags": []
   },
   "outputs": [],
   "source": [
    "np.random.seed(0)"
   ]
  },
  {
   "cell_type": "code",
   "execution_count": 11,
   "id": "63638c0b-b436-48a9-93e0-db2adb939a61",
   "metadata": {
    "execution": {
     "iopub.execute_input": "2023-09-07T21:48:52.636169Z",
     "iopub.status.busy": "2023-09-07T21:48:52.636083Z",
     "iopub.status.idle": "2023-09-07T21:48:52.637636Z",
     "shell.execute_reply": "2023-09-07T21:48:52.637504Z"
    },
    "papermill": {
     "duration": 0.003397,
     "end_time": "2023-09-07T21:48:52.638059",
     "exception": false,
     "start_time": "2023-09-07T21:48:52.634662",
     "status": "completed"
    },
    "tags": []
   },
   "outputs": [],
   "source": [
    "data = np.random.rand(n_genes, n_samples)"
   ]
  },
  {
   "cell_type": "code",
   "execution_count": 12,
   "id": "808017ed-9a8a-4bf7-a3dd-42317a39ce8f",
   "metadata": {
    "execution": {
     "iopub.execute_input": "2023-09-07T21:48:52.640829Z",
     "iopub.status.busy": "2023-09-07T21:48:52.640741Z",
     "iopub.status.idle": "2023-09-07T21:48:52.642236Z",
     "shell.execute_reply": "2023-09-07T21:48:52.642117Z"
    },
    "papermill": {
     "duration": 0.003343,
     "end_time": "2023-09-07T21:48:52.642661",
     "exception": false,
     "start_time": "2023-09-07T21:48:52.639318",
     "status": "completed"
    },
    "tags": []
   },
   "outputs": [
    {
     "data": {
      "text/plain": [
       "(100, 1000)"
      ]
     },
     "execution_count": 12,
     "metadata": {},
     "output_type": "execute_result"
    }
   ],
   "source": [
    "data.shape"
   ]
  },
  {
   "cell_type": "markdown",
   "id": "716e4219-cad5-453b-8331-47d310689e03",
   "metadata": {
    "papermill": {
     "duration": 0.001196,
     "end_time": "2023-09-07T21:48:52.645115",
     "exception": false,
     "start_time": "2023-09-07T21:48:52.643919",
     "status": "completed"
    },
    "tags": []
   },
   "source": [
    "# Profile"
   ]
  },
  {
   "cell_type": "code",
   "execution_count": 13,
   "id": "67807856-f337-4c6e-ae31-cd306577a314",
   "metadata": {
    "execution": {
     "iopub.execute_input": "2023-09-07T21:48:52.648010Z",
     "iopub.status.busy": "2023-09-07T21:48:52.647911Z",
     "iopub.status.idle": "2023-09-07T21:48:52.649253Z",
     "shell.execute_reply": "2023-09-07T21:48:52.649128Z"
    },
    "papermill": {
     "duration": 0.00325,
     "end_time": "2023-09-07T21:48:52.649634",
     "exception": false,
     "start_time": "2023-09-07T21:48:52.646384",
     "status": "completed"
    },
    "tags": []
   },
   "outputs": [],
   "source": [
    "def func():\n",
    "    n_clust = list(range(2, 10 + 1))\n",
    "    return ccc(data, internal_n_clusters=n_clust, n_jobs=2)"
   ]
  },
  {
   "cell_type": "code",
   "execution_count": 14,
   "id": "2965a695-5c0c-4e9e-8435-dcbfa610eb81",
   "metadata": {
    "execution": {
     "iopub.execute_input": "2023-09-07T21:48:52.652445Z",
     "iopub.status.busy": "2023-09-07T21:48:52.652357Z",
     "iopub.status.idle": "2023-09-07T22:11:39.917119Z",
     "shell.execute_reply": "2023-09-07T22:11:39.916871Z"
    },
    "papermill": {
     "duration": 1367.268702,
     "end_time": "2023-09-07T22:11:39.919642",
     "exception": false,
     "start_time": "2023-09-07T21:48:52.650940",
     "status": "completed"
    },
    "tags": []
   },
   "outputs": [
    {
     "name": "stdout",
     "output_type": "stream",
     "text": [
      "1min 25s ± 358 ms per loop (mean ± std. dev. of 7 runs, 1 loop each)\n"
     ]
    }
   ],
   "source": [
    "%%timeit func()\n",
    "func()"
   ]
  },
  {
   "cell_type": "code",
   "execution_count": null,
   "id": "c171afa1-7734-4ba5-b140-060d232c8f9c",
   "metadata": {
    "papermill": {
     "duration": 0.004474,
     "end_time": "2023-09-07T22:11:39.933349",
     "exception": false,
     "start_time": "2023-09-07T22:11:39.928875",
     "status": "completed"
    },
    "tags": []
   },
   "outputs": [],
   "source": []
  }
 ],
 "metadata": {
  "jupytext": {
   "cell_metadata_filter": "all,-execution,-papermill,-trusted",
   "notebook_metadata_filter": "-jupytext.text_representation.jupytext_version"
  },
  "kernelspec": {
   "display_name": "Python 3 (ipykernel)",
   "language": "python",
   "name": "python3"
  },
  "language_info": {
   "codemirror_mode": {
    "name": "ipython",
    "version": 3
   },
   "file_extension": ".py",
   "mimetype": "text/x-python",
   "name": "python",
   "nbconvert_exporter": "python",
   "pygments_lexer": "ipython3",
   "version": "3.9.12"
  },
  "papermill": {
   "default_parameters": {},
   "duration": 1369.14247,
   "end_time": "2023-09-07T22:11:40.055239",
   "environment_variables": {},
   "exception": null,
   "input_path": "nbs/others/05_ccc_profiling/12_cm_optimized/16_01-2_CPUs-disable_numba-many_genes.ipynb",
   "output_path": "nbs/others/05_ccc_profiling/12_cm_optimized/16_01-2_CPUs-disable_numba-many_genes.run.ipynb",
   "parameters": {},
   "start_time": "2023-09-07T21:48:50.912769",
   "version": "2.3.3"
  }
 },
 "nbformat": 4,
 "nbformat_minor": 5
}
