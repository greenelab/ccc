{
 "cells": [
  {
   "cell_type": "markdown",
   "id": "fd52facb-2470-4824-83d4-7c9fd042ecfb",
   "metadata": {
    "papermill": {
     "duration": 0.008431,
     "end_time": "2023-09-07T20:14:01.037544",
     "exception": false,
     "start_time": "2023-09-07T20:14:01.029113",
     "status": "completed"
    },
    "tags": []
   },
   "source": [
    "# Description"
   ]
  },
  {
   "cell_type": "markdown",
   "id": "7e0a6af6-c10e-45a5-9d8a-8849bf5ce82d",
   "metadata": {
    "papermill": {
     "duration": 0.006068,
     "end_time": "2023-09-07T20:14:01.053241",
     "exception": false,
     "start_time": "2023-09-07T20:14:01.047173",
     "status": "completed"
    },
    "tags": []
   },
   "source": [
    "Similar as `07` but with numba disabled to compare with a pure Python implementation."
   ]
  },
  {
   "cell_type": "markdown",
   "id": "1e459d88-5043-44ae-b08e-b89bcf9ff266",
   "metadata": {
    "papermill": {
     "duration": 0.001934,
     "end_time": "2023-09-07T20:14:01.058116",
     "exception": false,
     "start_time": "2023-09-07T20:14:01.056182",
     "status": "completed"
    },
    "tags": []
   },
   "source": [
    "# Use only one CPU core"
   ]
  },
  {
   "cell_type": "code",
   "execution_count": 1,
   "id": "bd529fe8-4704-47af-be49-51627d2b3cf7",
   "metadata": {
    "execution": {
     "iopub.execute_input": "2023-09-07T20:14:01.061998Z",
     "iopub.status.busy": "2023-09-07T20:14:01.061847Z",
     "iopub.status.idle": "2023-09-07T20:14:01.066499Z",
     "shell.execute_reply": "2023-09-07T20:14:01.066348Z"
    },
    "papermill": {
     "duration": 0.007272,
     "end_time": "2023-09-07T20:14:01.067048",
     "exception": false,
     "start_time": "2023-09-07T20:14:01.059776",
     "status": "completed"
    },
    "tags": []
   },
   "outputs": [
    {
     "name": "stdout",
     "output_type": "stream",
     "text": [
      "env: CM_N_JOBS=1\n",
      "env: NUMBA_NUM_THREADS=1\n",
      "env: MKL_NUM_THREADS=1\n",
      "env: OPEN_BLAS_NUM_THREADS=1\n",
      "env: NUMEXPR_NUM_THREADS=1\n",
      "env: OMP_NUM_THREADS=1\n"
     ]
    }
   ],
   "source": [
    "%env CM_N_JOBS=1\n",
    "%env NUMBA_NUM_THREADS=1\n",
    "%env MKL_NUM_THREADS=1\n",
    "%env OPEN_BLAS_NUM_THREADS=1\n",
    "%env NUMEXPR_NUM_THREADS=1\n",
    "%env OMP_NUM_THREADS=1"
   ]
  },
  {
   "cell_type": "markdown",
   "id": "874ffd00-afe1-4b51-bb22-350cbd9479f1",
   "metadata": {
    "papermill": {
     "duration": 0.001387,
     "end_time": "2023-09-07T20:14:01.069985",
     "exception": false,
     "start_time": "2023-09-07T20:14:01.068598",
     "status": "completed"
    },
    "tags": []
   },
   "source": [
    "# Disable numba"
   ]
  },
  {
   "cell_type": "code",
   "execution_count": 2,
   "id": "502fe9ff-d27d-43bd-aa37-73edf7ba4f24",
   "metadata": {
    "execution": {
     "iopub.execute_input": "2023-09-07T20:14:01.073131Z",
     "iopub.status.busy": "2023-09-07T20:14:01.073054Z",
     "iopub.status.idle": "2023-09-07T20:14:01.074603Z",
     "shell.execute_reply": "2023-09-07T20:14:01.074440Z"
    },
    "papermill": {
     "duration": 0.003647,
     "end_time": "2023-09-07T20:14:01.075054",
     "exception": false,
     "start_time": "2023-09-07T20:14:01.071407",
     "status": "completed"
    },
    "tags": []
   },
   "outputs": [
    {
     "name": "stdout",
     "output_type": "stream",
     "text": [
      "env: NUMBA_DISABLE_JIT=1\n"
     ]
    }
   ],
   "source": [
    "%env NUMBA_DISABLE_JIT=1"
   ]
  },
  {
   "cell_type": "markdown",
   "id": "325cb06a-df7f-43e8-be3e-f704aaf015b0",
   "metadata": {
    "papermill": {
     "duration": 0.001392,
     "end_time": "2023-09-07T20:14:01.077967",
     "exception": false,
     "start_time": "2023-09-07T20:14:01.076575",
     "status": "completed"
    },
    "tags": []
   },
   "source": [
    "# Remove pycache dir"
   ]
  },
  {
   "cell_type": "code",
   "execution_count": 3,
   "id": "73f954a6-1776-4b92-bd0e-fc3caf5df081",
   "metadata": {
    "execution": {
     "iopub.execute_input": "2023-09-07T20:14:01.081176Z",
     "iopub.status.busy": "2023-09-07T20:14:01.081106Z",
     "iopub.status.idle": "2023-09-07T20:14:01.268892Z",
     "shell.execute_reply": "2023-09-07T20:14:01.267367Z"
    },
    "papermill": {
     "duration": 0.192313,
     "end_time": "2023-09-07T20:14:01.271755",
     "exception": false,
     "start_time": "2023-09-07T20:14:01.079442",
     "status": "completed"
    },
    "tags": []
   },
   "outputs": [
    {
     "name": "stdout",
     "output_type": "stream",
     "text": [
      "/opt/code\n"
     ]
    }
   ],
   "source": [
    "!echo ${CODE_DIR}"
   ]
  },
  {
   "cell_type": "code",
   "execution_count": 4,
   "id": "d17492bb-34fe-4c34-a693-419180ba068e",
   "metadata": {
    "execution": {
     "iopub.execute_input": "2023-09-07T20:14:01.290063Z",
     "iopub.status.busy": "2023-09-07T20:14:01.289751Z",
     "iopub.status.idle": "2023-09-07T20:14:01.497508Z",
     "shell.execute_reply": "2023-09-07T20:14:01.496054Z"
    },
    "papermill": {
     "duration": 0.222364,
     "end_time": "2023-09-07T20:14:01.500610",
     "exception": false,
     "start_time": "2023-09-07T20:14:01.278246",
     "status": "completed"
    },
    "tags": []
   },
   "outputs": [
    {
     "name": "stdout",
     "output_type": "stream",
     "text": [
      "/opt/code/libs/ccc/coef/__pycache__\n",
      "/opt/code/libs/ccc/pytorch/__pycache__\n",
      "/opt/code/libs/ccc/scipy/__pycache__\n",
      "/opt/code/libs/ccc/utils/__pycache__\n",
      "/opt/code/libs/ccc/__pycache__\n",
      "/opt/code/libs/ccc/sklearn/__pycache__\n"
     ]
    }
   ],
   "source": [
    "!find ${CODE_DIR} -regex '^.*\\(__pycache__\\)$' -print"
   ]
  },
  {
   "cell_type": "code",
   "execution_count": 5,
   "id": "5683e330-1782-43b3-bb78-255198f03620",
   "metadata": {
    "execution": {
     "iopub.execute_input": "2023-09-07T20:14:01.518505Z",
     "iopub.status.busy": "2023-09-07T20:14:01.518174Z",
     "iopub.status.idle": "2023-09-07T20:14:01.736157Z",
     "shell.execute_reply": "2023-09-07T20:14:01.734505Z"
    },
    "papermill": {
     "duration": 0.233248,
     "end_time": "2023-09-07T20:14:01.739644",
     "exception": false,
     "start_time": "2023-09-07T20:14:01.506396",
     "status": "completed"
    },
    "tags": []
   },
   "outputs": [],
   "source": [
    "!find ${CODE_DIR} -regex '^.*\\(__pycache__\\)$' -prune -exec rm -rf {} \\;"
   ]
  },
  {
   "cell_type": "code",
   "execution_count": 6,
   "id": "5cf4ce29-d611-4fc8-8880-293c09e5ab9a",
   "metadata": {
    "execution": {
     "iopub.execute_input": "2023-09-07T20:14:01.759191Z",
     "iopub.status.busy": "2023-09-07T20:14:01.758347Z",
     "iopub.status.idle": "2023-09-07T20:14:01.971276Z",
     "shell.execute_reply": "2023-09-07T20:14:01.969966Z"
    },
    "papermill": {
     "duration": 0.226993,
     "end_time": "2023-09-07T20:14:01.974342",
     "exception": false,
     "start_time": "2023-09-07T20:14:01.747349",
     "status": "completed"
    },
    "tags": []
   },
   "outputs": [],
   "source": [
    "!find ${CODE_DIR} -regex '^.*\\(__pycache__\\)$' -print"
   ]
  },
  {
   "cell_type": "markdown",
   "id": "35a04385-a901-4726-82a6-a01f16281efe",
   "metadata": {
    "papermill": {
     "duration": 0.009689,
     "end_time": "2023-09-07T20:14:01.991826",
     "exception": false,
     "start_time": "2023-09-07T20:14:01.982137",
     "status": "completed"
    },
    "tags": []
   },
   "source": [
    "# Modules"
   ]
  },
  {
   "cell_type": "code",
   "execution_count": 7,
   "id": "a75c4496-d379-4668-905d-0e9136981f0c",
   "metadata": {
    "execution": {
     "iopub.execute_input": "2023-09-07T20:14:02.001393Z",
     "iopub.status.busy": "2023-09-07T20:14:02.000882Z",
     "iopub.status.idle": "2023-09-07T20:14:02.131499Z",
     "shell.execute_reply": "2023-09-07T20:14:02.131313Z"
    },
    "papermill": {
     "duration": 0.135761,
     "end_time": "2023-09-07T20:14:02.132306",
     "exception": false,
     "start_time": "2023-09-07T20:14:01.996545",
     "status": "completed"
    },
    "tags": []
   },
   "outputs": [],
   "source": [
    "import numpy as np\n",
    "\n",
    "from ccc.coef import ccc"
   ]
  },
  {
   "cell_type": "code",
   "execution_count": 8,
   "id": "1a58ccf8-1bf5-4177-9b06-944a0d57655a",
   "metadata": {
    "execution": {
     "iopub.execute_input": "2023-09-07T20:14:02.136060Z",
     "iopub.status.busy": "2023-09-07T20:14:02.135982Z",
     "iopub.status.idle": "2023-09-07T20:14:02.140255Z",
     "shell.execute_reply": "2023-09-07T20:14:02.140128Z"
    },
    "papermill": {
     "duration": 0.006718,
     "end_time": "2023-09-07T20:14:02.140704",
     "exception": false,
     "start_time": "2023-09-07T20:14:02.133986",
     "status": "completed"
    },
    "tags": []
   },
   "outputs": [
    {
     "data": {
      "text/plain": [
       "0.20454545454545456"
      ]
     },
     "execution_count": 8,
     "metadata": {},
     "output_type": "execute_result"
    }
   ],
   "source": [
    "# let numba compile all the code before profiling\n",
    "ccc(np.random.rand(10), np.random.rand(10))"
   ]
  },
  {
   "cell_type": "markdown",
   "id": "2c92a1ad-2fc9-4a16-a5f8-fce685246996",
   "metadata": {
    "papermill": {
     "duration": 0.001476,
     "end_time": "2023-09-07T20:14:02.143971",
     "exception": false,
     "start_time": "2023-09-07T20:14:02.142495",
     "status": "completed"
    },
    "tags": []
   },
   "source": [
    "# Data"
   ]
  },
  {
   "cell_type": "code",
   "execution_count": 9,
   "id": "2316ffcd-a6e4-453f-bb52-779685c5c5bf",
   "metadata": {
    "execution": {
     "iopub.execute_input": "2023-09-07T20:14:02.147340Z",
     "iopub.status.busy": "2023-09-07T20:14:02.147269Z",
     "iopub.status.idle": "2023-09-07T20:14:02.148532Z",
     "shell.execute_reply": "2023-09-07T20:14:02.148402Z"
    },
    "papermill": {
     "duration": 0.003401,
     "end_time": "2023-09-07T20:14:02.148933",
     "exception": false,
     "start_time": "2023-09-07T20:14:02.145532",
     "status": "completed"
    },
    "tags": []
   },
   "outputs": [],
   "source": [
    "n_genes, n_samples = 10, 30000"
   ]
  },
  {
   "cell_type": "code",
   "execution_count": 10,
   "id": "b2f92fb1-113d-479b-8bbf-2be229e26e8f",
   "metadata": {
    "execution": {
     "iopub.execute_input": "2023-09-07T20:14:02.152314Z",
     "iopub.status.busy": "2023-09-07T20:14:02.152175Z",
     "iopub.status.idle": "2023-09-07T20:14:02.153479Z",
     "shell.execute_reply": "2023-09-07T20:14:02.153355Z"
    },
    "papermill": {
     "duration": 0.003417,
     "end_time": "2023-09-07T20:14:02.153894",
     "exception": false,
     "start_time": "2023-09-07T20:14:02.150477",
     "status": "completed"
    },
    "tags": []
   },
   "outputs": [],
   "source": [
    "np.random.seed(0)"
   ]
  },
  {
   "cell_type": "code",
   "execution_count": 11,
   "id": "63638c0b-b436-48a9-93e0-db2adb939a61",
   "metadata": {
    "execution": {
     "iopub.execute_input": "2023-09-07T20:14:02.157194Z",
     "iopub.status.busy": "2023-09-07T20:14:02.157100Z",
     "iopub.status.idle": "2023-09-07T20:14:02.159501Z",
     "shell.execute_reply": "2023-09-07T20:14:02.159371Z"
    },
    "papermill": {
     "duration": 0.00448,
     "end_time": "2023-09-07T20:14:02.159899",
     "exception": false,
     "start_time": "2023-09-07T20:14:02.155419",
     "status": "completed"
    },
    "tags": []
   },
   "outputs": [],
   "source": [
    "data = np.random.rand(n_genes, n_samples)"
   ]
  },
  {
   "cell_type": "code",
   "execution_count": 12,
   "id": "808017ed-9a8a-4bf7-a3dd-42317a39ce8f",
   "metadata": {
    "execution": {
     "iopub.execute_input": "2023-09-07T20:14:02.163216Z",
     "iopub.status.busy": "2023-09-07T20:14:02.163122Z",
     "iopub.status.idle": "2023-09-07T20:14:02.164662Z",
     "shell.execute_reply": "2023-09-07T20:14:02.164517Z"
    },
    "papermill": {
     "duration": 0.003623,
     "end_time": "2023-09-07T20:14:02.165076",
     "exception": false,
     "start_time": "2023-09-07T20:14:02.161453",
     "status": "completed"
    },
    "tags": []
   },
   "outputs": [
    {
     "data": {
      "text/plain": [
       "(10, 30000)"
      ]
     },
     "execution_count": 12,
     "metadata": {},
     "output_type": "execute_result"
    }
   ],
   "source": [
    "data.shape"
   ]
  },
  {
   "cell_type": "markdown",
   "id": "716e4219-cad5-453b-8331-47d310689e03",
   "metadata": {
    "papermill": {
     "duration": 0.00152,
     "end_time": "2023-09-07T20:14:02.168169",
     "exception": false,
     "start_time": "2023-09-07T20:14:02.166649",
     "status": "completed"
    },
    "tags": []
   },
   "source": [
    "# With default `internal_n_clusters`"
   ]
  },
  {
   "cell_type": "code",
   "execution_count": 13,
   "id": "67807856-f337-4c6e-ae31-cd306577a314",
   "metadata": {
    "execution": {
     "iopub.execute_input": "2023-09-07T20:14:02.171560Z",
     "iopub.status.busy": "2023-09-07T20:14:02.171462Z",
     "iopub.status.idle": "2023-09-07T20:14:02.172804Z",
     "shell.execute_reply": "2023-09-07T20:14:02.172674Z"
    },
    "papermill": {
     "duration": 0.003516,
     "end_time": "2023-09-07T20:14:02.173202",
     "exception": false,
     "start_time": "2023-09-07T20:14:02.169686",
     "status": "completed"
    },
    "tags": []
   },
   "outputs": [],
   "source": [
    "def func():\n",
    "    n_clust = list(range(2, 10 + 1))\n",
    "    return ccc(data, internal_n_clusters=n_clust)"
   ]
  },
  {
   "cell_type": "code",
   "execution_count": 14,
   "id": "2965a695-5c0c-4e9e-8435-dcbfa610eb81",
   "metadata": {
    "execution": {
     "iopub.execute_input": "2023-09-07T20:14:02.176546Z",
     "iopub.status.busy": "2023-09-07T20:14:02.176458Z",
     "iopub.status.idle": "2023-09-07T20:15:13.760488Z",
     "shell.execute_reply": "2023-09-07T20:15:13.760302Z"
    },
    "papermill": {
     "duration": 71.587979,
     "end_time": "2023-09-07T20:15:13.762732",
     "exception": false,
     "start_time": "2023-09-07T20:14:02.174753",
     "status": "completed"
    },
    "tags": []
   },
   "outputs": [
    {
     "name": "stdout",
     "output_type": "stream",
     "text": [
      "4.47 s ± 14.4 ms per loop (mean ± std. dev. of 7 runs, 1 loop each)\n"
     ]
    }
   ],
   "source": [
    "%%timeit func()\n",
    "func()"
   ]
  },
  {
   "cell_type": "code",
   "execution_count": 15,
   "id": "51c7a416-064a-4669-a09f-16f837d32475",
   "metadata": {
    "execution": {
     "iopub.execute_input": "2023-09-07T20:15:13.766370Z",
     "iopub.status.busy": "2023-09-07T20:15:13.766304Z",
     "iopub.status.idle": "2023-09-07T20:15:18.327957Z",
     "shell.execute_reply": "2023-09-07T20:15:18.327744Z"
    },
    "papermill": {
     "duration": 4.564178,
     "end_time": "2023-09-07T20:15:18.328537",
     "exception": false,
     "start_time": "2023-09-07T20:15:13.764359",
     "status": "completed"
    },
    "tags": []
   },
   "outputs": [
    {
     "name": "stdout",
     "output_type": "stream",
     "text": [
      " \n",
      "*** Profile printout saved to text file '09-cm_many_samples-default_internal_n_clusters.txt'. \n"
     ]
    }
   ],
   "source": [
    "%%prun -s cumulative -l 50 -T 07_01-disable_numba-cm_many_samples-default_internal_n_clusters.txt\n",
    "func()"
   ]
  },
  {
   "cell_type": "markdown",
   "id": "cd74d8b8-517c-42cf-9dbf-27474b2c3822",
   "metadata": {
    "papermill": {
     "duration": 0.00967,
     "end_time": "2023-09-07T20:15:18.339929",
     "exception": false,
     "start_time": "2023-09-07T20:15:18.330259",
     "status": "completed"
    },
    "tags": []
   },
   "source": [
    "These results are just slightly worse than the numba-compiled version (notebook `07`)."
   ]
  },
  {
   "cell_type": "markdown",
   "id": "025974ff-06d4-4d82-9b05-03f7a84d7211",
   "metadata": {
    "papermill": {
     "duration": 0.001624,
     "end_time": "2023-09-07T20:15:18.344505",
     "exception": false,
     "start_time": "2023-09-07T20:15:18.342881",
     "status": "completed"
    },
    "tags": []
   },
   "source": [
    "# With reduced `internal_n_clusters`"
   ]
  },
  {
   "cell_type": "code",
   "execution_count": 16,
   "id": "c20c4ecf-8060-495e-92b0-eb8e0d0dfbf3",
   "metadata": {
    "execution": {
     "iopub.execute_input": "2023-09-07T20:15:18.349390Z",
     "iopub.status.busy": "2023-09-07T20:15:18.349264Z",
     "iopub.status.idle": "2023-09-07T20:15:18.351152Z",
     "shell.execute_reply": "2023-09-07T20:15:18.350954Z"
    },
    "papermill": {
     "duration": 0.005334,
     "end_time": "2023-09-07T20:15:18.351841",
     "exception": false,
     "start_time": "2023-09-07T20:15:18.346507",
     "status": "completed"
    },
    "tags": []
   },
   "outputs": [],
   "source": [
    "def func():\n",
    "    n_clust = list(range(2, 5 + 1))\n",
    "    return ccc(data, internal_n_clusters=n_clust)"
   ]
  },
  {
   "cell_type": "code",
   "execution_count": 17,
   "id": "11259d8c-3bf3-4299-b47b-211556c3bc08",
   "metadata": {
    "execution": {
     "iopub.execute_input": "2023-09-07T20:15:18.356382Z",
     "iopub.status.busy": "2023-09-07T20:15:18.356280Z",
     "iopub.status.idle": "2023-09-07T20:15:27.607306Z",
     "shell.execute_reply": "2023-09-07T20:15:27.607049Z"
    },
    "papermill": {
     "duration": 9.253973,
     "end_time": "2023-09-07T20:15:27.608089",
     "exception": false,
     "start_time": "2023-09-07T20:15:18.354116",
     "status": "completed"
    },
    "tags": []
   },
   "outputs": [
    {
     "name": "stdout",
     "output_type": "stream",
     "text": [
      "579 ms ± 5.77 ms per loop (mean ± std. dev. of 7 runs, 1 loop each)\n"
     ]
    }
   ],
   "source": [
    "%%timeit func()\n",
    "func()"
   ]
  },
  {
   "cell_type": "code",
   "execution_count": 18,
   "id": "42d9e6e0-3c01-46e1-a409-52ff26cb78f4",
   "metadata": {
    "execution": {
     "iopub.execute_input": "2023-09-07T20:15:27.621347Z",
     "iopub.status.busy": "2023-09-07T20:15:27.621170Z",
     "iopub.status.idle": "2023-09-07T20:15:28.206158Z",
     "shell.execute_reply": "2023-09-07T20:15:28.205773Z"
    },
    "papermill": {
     "duration": 0.595925,
     "end_time": "2023-09-07T20:15:28.206805",
     "exception": false,
     "start_time": "2023-09-07T20:15:27.610880",
     "status": "completed"
    },
    "tags": []
   },
   "outputs": [
    {
     "name": "stdout",
     "output_type": "stream",
     "text": [
      " \n",
      "*** Profile printout saved to text file '09-cm_many_samples-less_internal_n_clusters.txt'. \n"
     ]
    }
   ],
   "source": [
    "%%prun -s cumulative -l 50 -T 07_01-disable_numba-cm_many_samples-less_internal_n_clusters.txt\n",
    "func()"
   ]
  },
  {
   "cell_type": "markdown",
   "id": "ba154ea5-5301-4fd4-8fc7-71534435a2a5",
   "metadata": {
    "papermill": {
     "duration": 0.009473,
     "end_time": "2023-09-07T20:15:28.218109",
     "exception": false,
     "start_time": "2023-09-07T20:15:28.208636",
     "status": "completed"
    },
    "tags": []
   },
   "source": [
    "These results are slightly better than the numba-compiled version (notebook `07`), which is surprising. In the future, it would be interesting to disable threading here to get accurate profiling results to debug this issue."
   ]
  },
  {
   "cell_type": "code",
   "execution_count": null,
   "id": "e2556204-1c10-4e01-8c6c-ea63ddb37530",
   "metadata": {
    "papermill": {
     "duration": 0.002901,
     "end_time": "2023-09-07T20:15:28.223999",
     "exception": false,
     "start_time": "2023-09-07T20:15:28.221098",
     "status": "completed"
    },
    "tags": []
   },
   "outputs": [],
   "source": []
  }
 ],
 "metadata": {
  "jupytext": {
   "cell_metadata_filter": "all,-execution,-papermill,-trusted",
   "notebook_metadata_filter": "-jupytext.text_representation.jupytext_version",
   "text_representation": {
    "extension": ".py",
    "format_name": "percent",
    "format_version": "1.3"
   }
  },
  "kernelspec": {
   "display_name": "Python 3 (ipykernel)",
   "language": "python",
   "name": "python3"
  },
  "language_info": {
   "codemirror_mode": {
    "name": "ipython",
    "version": 3
   },
   "file_extension": ".py",
   "mimetype": "text/x-python",
   "name": "python",
   "nbconvert_exporter": "python",
   "pygments_lexer": "ipython3",
   "version": "3.9.12"
  },
  "papermill": {
   "default_parameters": {},
   "duration": 87.976966,
   "end_time": "2023-09-07T20:15:28.342703",
   "environment_variables": {},
   "exception": null,
   "input_path": "nbs/others/05_ccc_profiling/12_cm_optimized/09-many_samples.ipynb",
   "output_path": "nbs/others/05_ccc_profiling/12_cm_optimized/09-many_samples.run.ipynb",
   "parameters": {},
   "start_time": "2023-09-07T20:14:00.365737",
   "version": "2.3.3"
  }
 },
 "nbformat": 4,
 "nbformat_minor": 5
}
