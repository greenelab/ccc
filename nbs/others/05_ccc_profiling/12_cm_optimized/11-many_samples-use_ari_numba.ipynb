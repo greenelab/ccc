{
 "cells": [
  {
   "cell_type": "markdown",
   "id": "fd52facb-2470-4824-83d4-7c9fd042ecfb",
   "metadata": {
    "papermill": {
     "duration": 0.007066,
     "end_time": "2023-09-07T20:34:53.008276",
     "exception": false,
     "start_time": "2023-09-07T20:34:53.001210",
     "status": "completed"
    },
    "tags": []
   },
   "source": [
    "# Description"
   ]
  },
  {
   "cell_type": "markdown",
   "id": "b95a9893-d5af-400c-9872-dcf70ec874fb",
   "metadata": {
    "papermill": {
     "duration": 0.001749,
     "end_time": "2023-09-07T20:34:53.011371",
     "exception": false,
     "start_time": "2023-09-07T20:34:53.009622",
     "status": "completed"
    },
    "tags": []
   },
   "source": [
    "Clustermatch run using a larger number of samples."
   ]
  },
  {
   "cell_type": "markdown",
   "id": "3d1840dd-ffe2-4be2-b6a1-056f65de4de4",
   "metadata": {
    "papermill": {
     "duration": 0.002455,
     "end_time": "2023-09-07T20:34:53.016909",
     "exception": false,
     "start_time": "2023-09-07T20:34:53.014454",
     "status": "completed"
    },
    "tags": []
   },
   "source": [
    "# Use only one CPU core"
   ]
  },
  {
   "cell_type": "code",
   "execution_count": 1,
   "id": "b8b15875-2c65-40ce-abb6-3b5af492b14e",
   "metadata": {
    "execution": {
     "iopub.execute_input": "2023-09-07T20:34:53.021833Z",
     "iopub.status.busy": "2023-09-07T20:34:53.021669Z",
     "iopub.status.idle": "2023-09-07T20:34:53.027234Z",
     "shell.execute_reply": "2023-09-07T20:34:53.026983Z"
    },
    "papermill": {
     "duration": 0.008372,
     "end_time": "2023-09-07T20:34:53.028001",
     "exception": false,
     "start_time": "2023-09-07T20:34:53.019629",
     "status": "completed"
    },
    "tags": []
   },
   "outputs": [
    {
     "name": "stdout",
     "output_type": "stream",
     "text": [
      "env: CM_N_JOBS=1\n",
      "env: NUMBA_NUM_THREADS=1\n",
      "env: MKL_NUM_THREADS=1\n",
      "env: OPEN_BLAS_NUM_THREADS=1\n",
      "env: NUMEXPR_NUM_THREADS=1\n",
      "env: OMP_NUM_THREADS=1\n"
     ]
    }
   ],
   "source": [
    "%env CM_N_JOBS=1\n",
    "%env NUMBA_NUM_THREADS=1\n",
    "%env MKL_NUM_THREADS=1\n",
    "%env OPEN_BLAS_NUM_THREADS=1\n",
    "%env NUMEXPR_NUM_THREADS=1\n",
    "%env OMP_NUM_THREADS=1"
   ]
  },
  {
   "cell_type": "markdown",
   "id": "325cb06a-df7f-43e8-be3e-f704aaf015b0",
   "metadata": {
    "papermill": {
     "duration": 0.001673,
     "end_time": "2023-09-07T20:34:53.031650",
     "exception": false,
     "start_time": "2023-09-07T20:34:53.029977",
     "status": "completed"
    },
    "tags": []
   },
   "source": [
    "# Remove pycache dir"
   ]
  },
  {
   "cell_type": "code",
   "execution_count": 2,
   "id": "73f954a6-1776-4b92-bd0e-fc3caf5df081",
   "metadata": {
    "execution": {
     "iopub.execute_input": "2023-09-07T20:34:53.034613Z",
     "iopub.status.busy": "2023-09-07T20:34:53.034545Z",
     "iopub.status.idle": "2023-09-07T20:34:53.228236Z",
     "shell.execute_reply": "2023-09-07T20:34:53.227285Z"
    },
    "papermill": {
     "duration": 0.197924,
     "end_time": "2023-09-07T20:34:53.230970",
     "exception": false,
     "start_time": "2023-09-07T20:34:53.033046",
     "status": "completed"
    },
    "tags": []
   },
   "outputs": [
    {
     "name": "stdout",
     "output_type": "stream",
     "text": [
      "/opt/code\r\n"
     ]
    }
   ],
   "source": [
    "!echo ${CODE_DIR}"
   ]
  },
  {
   "cell_type": "code",
   "execution_count": 3,
   "id": "d17492bb-34fe-4c34-a693-419180ba068e",
   "metadata": {
    "execution": {
     "iopub.execute_input": "2023-09-07T20:34:53.241662Z",
     "iopub.status.busy": "2023-09-07T20:34:53.241487Z",
     "iopub.status.idle": "2023-09-07T20:34:53.450621Z",
     "shell.execute_reply": "2023-09-07T20:34:53.450075Z"
    },
    "papermill": {
     "duration": 0.214785,
     "end_time": "2023-09-07T20:34:53.452413",
     "exception": false,
     "start_time": "2023-09-07T20:34:53.237628",
     "status": "completed"
    },
    "tags": []
   },
   "outputs": [
    {
     "name": "stdout",
     "output_type": "stream",
     "text": [
      "/opt/code/libs/ccc/coef/__pycache__\r\n",
      "/opt/code/libs/ccc/pytorch/__pycache__\r\n",
      "/opt/code/libs/ccc/scipy/__pycache__\r\n",
      "/opt/code/libs/ccc/utils/__pycache__\r\n",
      "/opt/code/libs/ccc/__pycache__\r\n",
      "/opt/code/libs/ccc/sklearn/__pycache__\r\n"
     ]
    }
   ],
   "source": [
    "!find ${CODE_DIR} -regex '^.*\\(__pycache__\\)$' -print"
   ]
  },
  {
   "cell_type": "code",
   "execution_count": 4,
   "id": "5683e330-1782-43b3-bb78-255198f03620",
   "metadata": {
    "execution": {
     "iopub.execute_input": "2023-09-07T20:34:53.460031Z",
     "iopub.status.busy": "2023-09-07T20:34:53.459937Z",
     "iopub.status.idle": "2023-09-07T20:34:53.667651Z",
     "shell.execute_reply": "2023-09-07T20:34:53.666206Z"
    },
    "papermill": {
     "duration": 0.212598,
     "end_time": "2023-09-07T20:34:53.670800",
     "exception": false,
     "start_time": "2023-09-07T20:34:53.458202",
     "status": "completed"
    },
    "tags": []
   },
   "outputs": [],
   "source": [
    "!find ${CODE_DIR} -regex '^.*\\(__pycache__\\)$' -prune -exec rm -rf {} \\;"
   ]
  },
  {
   "cell_type": "code",
   "execution_count": 5,
   "id": "5cf4ce29-d611-4fc8-8880-293c09e5ab9a",
   "metadata": {
    "execution": {
     "iopub.execute_input": "2023-09-07T20:34:53.688684Z",
     "iopub.status.busy": "2023-09-07T20:34:53.688353Z",
     "iopub.status.idle": "2023-09-07T20:34:53.893126Z",
     "shell.execute_reply": "2023-09-07T20:34:53.891792Z"
    },
    "papermill": {
     "duration": 0.219547,
     "end_time": "2023-09-07T20:34:53.896194",
     "exception": false,
     "start_time": "2023-09-07T20:34:53.676647",
     "status": "completed"
    },
    "tags": []
   },
   "outputs": [],
   "source": [
    "!find ${CODE_DIR} -regex '^.*\\(__pycache__\\)$' -print"
   ]
  },
  {
   "cell_type": "markdown",
   "id": "35a04385-a901-4726-82a6-a01f16281efe",
   "metadata": {
    "papermill": {
     "duration": 0.010118,
     "end_time": "2023-09-07T20:34:53.912799",
     "exception": false,
     "start_time": "2023-09-07T20:34:53.902681",
     "status": "completed"
    },
    "tags": []
   },
   "source": [
    "# Modules"
   ]
  },
  {
   "cell_type": "code",
   "execution_count": 6,
   "id": "a75c4496-d379-4668-905d-0e9136981f0c",
   "metadata": {
    "execution": {
     "iopub.execute_input": "2023-09-07T20:34:53.922844Z",
     "iopub.status.busy": "2023-09-07T20:34:53.922682Z",
     "iopub.status.idle": "2023-09-07T20:34:57.614037Z",
     "shell.execute_reply": "2023-09-07T20:34:57.613760Z"
    },
    "papermill": {
     "duration": 3.696681,
     "end_time": "2023-09-07T20:34:57.614902",
     "exception": false,
     "start_time": "2023-09-07T20:34:53.918221",
     "status": "completed"
    },
    "tags": []
   },
   "outputs": [],
   "source": [
    "import numpy as np\n",
    "\n",
    "from ccc.coef import ccc"
   ]
  },
  {
   "cell_type": "code",
   "execution_count": 7,
   "id": "1a58ccf8-1bf5-4177-9b06-944a0d57655a",
   "metadata": {
    "execution": {
     "iopub.execute_input": "2023-09-07T20:34:57.626730Z",
     "iopub.status.busy": "2023-09-07T20:34:57.626662Z",
     "iopub.status.idle": "2023-09-07T20:34:57.630924Z",
     "shell.execute_reply": "2023-09-07T20:34:57.630788Z"
    },
    "papermill": {
     "duration": 0.014839,
     "end_time": "2023-09-07T20:34:57.631377",
     "exception": false,
     "start_time": "2023-09-07T20:34:57.616538",
     "status": "completed"
    },
    "tags": []
   },
   "outputs": [
    {
     "data": {
      "text/plain": [
       "0.0"
      ]
     },
     "execution_count": 7,
     "metadata": {},
     "output_type": "execute_result"
    }
   ],
   "source": [
    "# let numba compile all the code before profiling\n",
    "ccc(np.random.rand(10), np.random.rand(10))"
   ]
  },
  {
   "cell_type": "markdown",
   "id": "2c92a1ad-2fc9-4a16-a5f8-fce685246996",
   "metadata": {
    "papermill": {
     "duration": 0.001413,
     "end_time": "2023-09-07T20:34:57.634206",
     "exception": false,
     "start_time": "2023-09-07T20:34:57.632793",
     "status": "completed"
    },
    "tags": []
   },
   "source": [
    "# Data"
   ]
  },
  {
   "cell_type": "code",
   "execution_count": 8,
   "id": "2316ffcd-a6e4-453f-bb52-779685c5c5bf",
   "metadata": {
    "execution": {
     "iopub.execute_input": "2023-09-07T20:34:57.638259Z",
     "iopub.status.busy": "2023-09-07T20:34:57.638101Z",
     "iopub.status.idle": "2023-09-07T20:34:57.639755Z",
     "shell.execute_reply": "2023-09-07T20:34:57.639546Z"
    },
    "papermill": {
     "duration": 0.00456,
     "end_time": "2023-09-07T20:34:57.640454",
     "exception": false,
     "start_time": "2023-09-07T20:34:57.635894",
     "status": "completed"
    },
    "tags": []
   },
   "outputs": [],
   "source": [
    "n_genes, n_samples = 10, 30000"
   ]
  },
  {
   "cell_type": "code",
   "execution_count": 9,
   "id": "b2f92fb1-113d-479b-8bbf-2be229e26e8f",
   "metadata": {
    "execution": {
     "iopub.execute_input": "2023-09-07T20:34:57.645226Z",
     "iopub.status.busy": "2023-09-07T20:34:57.645117Z",
     "iopub.status.idle": "2023-09-07T20:34:57.646453Z",
     "shell.execute_reply": "2023-09-07T20:34:57.646308Z"
    },
    "papermill": {
     "duration": 0.004297,
     "end_time": "2023-09-07T20:34:57.647043",
     "exception": false,
     "start_time": "2023-09-07T20:34:57.642746",
     "status": "completed"
    },
    "tags": []
   },
   "outputs": [],
   "source": [
    "np.random.seed(0)"
   ]
  },
  {
   "cell_type": "code",
   "execution_count": 10,
   "id": "63638c0b-b436-48a9-93e0-db2adb939a61",
   "metadata": {
    "execution": {
     "iopub.execute_input": "2023-09-07T20:34:57.650902Z",
     "iopub.status.busy": "2023-09-07T20:34:57.650793Z",
     "iopub.status.idle": "2023-09-07T20:34:57.653332Z",
     "shell.execute_reply": "2023-09-07T20:34:57.653186Z"
    },
    "papermill": {
     "duration": 0.004953,
     "end_time": "2023-09-07T20:34:57.653750",
     "exception": false,
     "start_time": "2023-09-07T20:34:57.648797",
     "status": "completed"
    },
    "tags": []
   },
   "outputs": [],
   "source": [
    "data = np.random.rand(n_genes, n_samples)"
   ]
  },
  {
   "cell_type": "code",
   "execution_count": 11,
   "id": "808017ed-9a8a-4bf7-a3dd-42317a39ce8f",
   "metadata": {
    "execution": {
     "iopub.execute_input": "2023-09-07T20:34:57.657374Z",
     "iopub.status.busy": "2023-09-07T20:34:57.657311Z",
     "iopub.status.idle": "2023-09-07T20:34:57.658903Z",
     "shell.execute_reply": "2023-09-07T20:34:57.658779Z"
    },
    "papermill": {
     "duration": 0.004151,
     "end_time": "2023-09-07T20:34:57.659285",
     "exception": false,
     "start_time": "2023-09-07T20:34:57.655134",
     "status": "completed"
    },
    "tags": []
   },
   "outputs": [
    {
     "data": {
      "text/plain": [
       "(10, 30000)"
      ]
     },
     "execution_count": 11,
     "metadata": {},
     "output_type": "execute_result"
    }
   ],
   "source": [
    "data.shape"
   ]
  },
  {
   "cell_type": "markdown",
   "id": "716e4219-cad5-453b-8331-47d310689e03",
   "metadata": {
    "papermill": {
     "duration": 0.001324,
     "end_time": "2023-09-07T20:34:57.662018",
     "exception": false,
     "start_time": "2023-09-07T20:34:57.660694",
     "status": "completed"
    },
    "tags": []
   },
   "source": [
    "# With default `internal_n_clusters`"
   ]
  },
  {
   "cell_type": "code",
   "execution_count": 12,
   "id": "67807856-f337-4c6e-ae31-cd306577a314",
   "metadata": {
    "execution": {
     "iopub.execute_input": "2023-09-07T20:34:57.665286Z",
     "iopub.status.busy": "2023-09-07T20:34:57.665149Z",
     "iopub.status.idle": "2023-09-07T20:34:57.666577Z",
     "shell.execute_reply": "2023-09-07T20:34:57.666441Z"
    },
    "papermill": {
     "duration": 0.003547,
     "end_time": "2023-09-07T20:34:57.666952",
     "exception": false,
     "start_time": "2023-09-07T20:34:57.663405",
     "status": "completed"
    },
    "tags": []
   },
   "outputs": [],
   "source": [
    "def func():\n",
    "    n_clust = list(range(2, 10 + 1))\n",
    "    return ccc(data, internal_n_clusters=n_clust, use_ari_numba=True)"
   ]
  },
  {
   "cell_type": "code",
   "execution_count": 13,
   "id": "2965a695-5c0c-4e9e-8435-dcbfa610eb81",
   "metadata": {
    "execution": {
     "iopub.execute_input": "2023-09-07T20:34:57.670184Z",
     "iopub.status.busy": "2023-09-07T20:34:57.670077Z",
     "iopub.status.idle": "2023-09-07T20:36:35.038975Z",
     "shell.execute_reply": "2023-09-07T20:36:35.038803Z"
    },
    "papermill": {
     "duration": 97.372403,
     "end_time": "2023-09-07T20:36:35.040922",
     "exception": false,
     "start_time": "2023-09-07T20:34:57.668519",
     "status": "completed"
    },
    "tags": []
   },
   "outputs": [
    {
     "name": "stdout",
     "output_type": "stream",
     "text": [
      "6.02 s ± 4.21 ms per loop (mean ± std. dev. of 7 runs, 1 loop each)\n"
     ]
    }
   ],
   "source": [
    "%%timeit func()\n",
    "func()"
   ]
  },
  {
   "cell_type": "code",
   "execution_count": 14,
   "id": "51c7a416-064a-4669-a09f-16f837d32475",
   "metadata": {
    "execution": {
     "iopub.execute_input": "2023-09-07T20:36:35.053449Z",
     "iopub.status.busy": "2023-09-07T20:36:35.053359Z",
     "iopub.status.idle": "2023-09-07T20:36:41.073698Z",
     "shell.execute_reply": "2023-09-07T20:36:41.073403Z"
    },
    "papermill": {
     "duration": 6.024041,
     "end_time": "2023-09-07T20:36:41.074253",
     "exception": false,
     "start_time": "2023-09-07T20:36:35.050212",
     "status": "completed"
    },
    "tags": []
   },
   "outputs": [
    {
     "name": "stdout",
     "output_type": "stream",
     "text": [
      " \n",
      "*** Profile printout saved to text file '11-cm_many_samples-default_internal_n_clusters.txt'. \n"
     ]
    }
   ],
   "source": [
    "%%prun -s cumulative -l 50 -T 11-cm_many_samples-default_internal_n_clusters.txt\n",
    "func()"
   ]
  },
  {
   "cell_type": "markdown",
   "id": "025974ff-06d4-4d82-9b05-03f7a84d7211",
   "metadata": {
    "papermill": {
     "duration": 0.009574,
     "end_time": "2023-09-07T20:36:41.085480",
     "exception": false,
     "start_time": "2023-09-07T20:36:41.075906",
     "status": "completed"
    },
    "tags": []
   },
   "source": [
    "# With reduced `internal_n_clusters`"
   ]
  },
  {
   "cell_type": "code",
   "execution_count": 15,
   "id": "c20c4ecf-8060-495e-92b0-eb8e0d0dfbf3",
   "metadata": {
    "execution": {
     "iopub.execute_input": "2023-09-07T20:36:41.090975Z",
     "iopub.status.busy": "2023-09-07T20:36:41.090483Z",
     "iopub.status.idle": "2023-09-07T20:36:41.092644Z",
     "shell.execute_reply": "2023-09-07T20:36:41.092464Z"
    },
    "papermill": {
     "duration": 0.004832,
     "end_time": "2023-09-07T20:36:41.093130",
     "exception": false,
     "start_time": "2023-09-07T20:36:41.088298",
     "status": "completed"
    },
    "tags": []
   },
   "outputs": [],
   "source": [
    "def func():\n",
    "    n_clust = list(range(2, 5 + 1))\n",
    "    return ccc(data, internal_n_clusters=n_clust, use_ari_numba=True)"
   ]
  },
  {
   "cell_type": "code",
   "execution_count": 16,
   "id": "11259d8c-3bf3-4299-b47b-211556c3bc08",
   "metadata": {
    "execution": {
     "iopub.execute_input": "2023-09-07T20:36:41.096583Z",
     "iopub.status.busy": "2023-09-07T20:36:41.096470Z",
     "iopub.status.idle": "2023-09-07T20:36:54.828292Z",
     "shell.execute_reply": "2023-09-07T20:36:54.827965Z"
    },
    "papermill": {
     "duration": 13.73422,
     "end_time": "2023-09-07T20:36:54.829040",
     "exception": false,
     "start_time": "2023-09-07T20:36:41.094820",
     "status": "completed"
    },
    "tags": []
   },
   "outputs": [
    {
     "name": "stdout",
     "output_type": "stream",
     "text": [
      "857 ms ± 1.06 ms per loop (mean ± std. dev. of 7 runs, 1 loop each)\n"
     ]
    }
   ],
   "source": [
    "%%timeit func()\n",
    "func()"
   ]
  },
  {
   "cell_type": "code",
   "execution_count": 17,
   "id": "42d9e6e0-3c01-46e1-a409-52ff26cb78f4",
   "metadata": {
    "execution": {
     "iopub.execute_input": "2023-09-07T20:36:54.832809Z",
     "iopub.status.busy": "2023-09-07T20:36:54.832744Z",
     "iopub.status.idle": "2023-09-07T20:36:55.691764Z",
     "shell.execute_reply": "2023-09-07T20:36:55.691581Z"
    },
    "papermill": {
     "duration": 0.861723,
     "end_time": "2023-09-07T20:36:55.692459",
     "exception": false,
     "start_time": "2023-09-07T20:36:54.830736",
     "status": "completed"
    },
    "tags": []
   },
   "outputs": [
    {
     "name": "stdout",
     "output_type": "stream",
     "text": [
      " \n",
      "*** Profile printout saved to text file '11-cm_many_samples-less_internal_n_clusters.txt'. \n"
     ]
    }
   ],
   "source": [
    "%%prun -s cumulative -l 50 -T 11-cm_many_samples-less_internal_n_clusters.txt\n",
    "func()"
   ]
  },
  {
   "cell_type": "code",
   "execution_count": null,
   "id": "e2556204-1c10-4e01-8c6c-ea63ddb37530",
   "metadata": {
    "papermill": {
     "duration": 0.009584,
     "end_time": "2023-09-07T20:36:55.703671",
     "exception": false,
     "start_time": "2023-09-07T20:36:55.694087",
     "status": "completed"
    },
    "tags": []
   },
   "outputs": [],
   "source": []
  }
 ],
 "metadata": {
  "jupytext": {
   "cell_metadata_filter": "all,-execution,-papermill,-trusted",
   "notebook_metadata_filter": "-jupytext.text_representation.jupytext_version"
  },
  "kernelspec": {
   "display_name": "Python 3 (ipykernel)",
   "language": "python",
   "name": "python3"
  },
  "language_info": {
   "codemirror_mode": {
    "name": "ipython",
    "version": 3
   },
   "file_extension": ".py",
   "mimetype": "text/x-python",
   "name": "python",
   "nbconvert_exporter": "python",
   "pygments_lexer": "ipython3",
   "version": "3.9.12"
  },
  "papermill": {
   "default_parameters": {},
   "duration": 123.583269,
   "end_time": "2023-09-07T20:36:55.923370",
   "environment_variables": {},
   "exception": null,
   "input_path": "nbs/others/05_ccc_profiling/12_cm_optimized/11-many_samples-use_ari_numba.ipynb",
   "output_path": "nbs/others/05_ccc_profiling/12_cm_optimized/11-many_samples-use_ari_numba.run.ipynb",
   "parameters": {},
   "start_time": "2023-09-07T20:34:52.340101",
   "version": "2.3.3"
  }
 },
 "nbformat": 4,
 "nbformat_minor": 5
}
