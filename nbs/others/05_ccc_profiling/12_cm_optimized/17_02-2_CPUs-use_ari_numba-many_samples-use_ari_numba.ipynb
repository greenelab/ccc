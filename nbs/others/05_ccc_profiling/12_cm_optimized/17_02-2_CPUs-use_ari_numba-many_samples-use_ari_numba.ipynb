{
 "cells": [
  {
   "cell_type": "markdown",
   "id": "d08e8972-7897-4568-a2cc-a88e60f35329",
   "metadata": {
    "papermill": {
     "duration": 0.005433,
     "end_time": "2023-09-08T05:03:10.035747",
     "exception": false,
     "start_time": "2023-09-08T05:03:10.030314",
     "status": "completed"
    },
    "tags": []
   },
   "source": [
    "# Description"
   ]
  },
  {
   "cell_type": "markdown",
   "id": "1c0e6677-6256-4ba6-ba2c-ddca92a31e5c",
   "metadata": {
    "papermill": {
     "duration": 0.005768,
     "end_time": "2023-09-08T05:03:10.051408",
     "exception": false,
     "start_time": "2023-09-08T05:03:10.045640",
     "status": "completed"
    },
    "tags": []
   },
   "source": [
    "Like `07_02` but using more CPU cores."
   ]
  },
  {
   "cell_type": "markdown",
   "id": "fb686b34-1c32-4b3e-bf15-4d95303369d6",
   "metadata": {
    "papermill": {
     "duration": 0.001439,
     "end_time": "2023-09-08T05:03:10.059273",
     "exception": false,
     "start_time": "2023-09-08T05:03:10.057834",
     "status": "completed"
    },
    "tags": []
   },
   "source": [
    "# Use multiple CPU core"
   ]
  },
  {
   "cell_type": "code",
   "execution_count": 1,
   "id": "bda7d08f-862b-4843-97e5-a5c648c05480",
   "metadata": {
    "execution": {
     "iopub.execute_input": "2023-09-08T05:03:10.064850Z",
     "iopub.status.busy": "2023-09-08T05:03:10.064568Z",
     "iopub.status.idle": "2023-09-08T05:03:10.071664Z",
     "shell.execute_reply": "2023-09-08T05:03:10.071151Z"
    },
    "papermill": {
     "duration": 0.011119,
     "end_time": "2023-09-08T05:03:10.072288",
     "exception": false,
     "start_time": "2023-09-08T05:03:10.061169",
     "status": "completed"
    },
    "tags": []
   },
   "outputs": [
    {
     "name": "stdout",
     "output_type": "stream",
     "text": [
      "env: CM_N_JOBS=2\n",
      "env: NUMBA_NUM_THREADS=2\n",
      "env: MKL_NUM_THREADS=2\n",
      "env: OPEN_BLAS_NUM_THREADS=2\n",
      "env: NUMEXPR_NUM_THREADS=2\n",
      "env: OMP_NUM_THREADS=2\n"
     ]
    }
   ],
   "source": [
    "%env CM_N_JOBS=2\n",
    "%env NUMBA_NUM_THREADS=2\n",
    "%env MKL_NUM_THREADS=2\n",
    "%env OPEN_BLAS_NUM_THREADS=2\n",
    "%env NUMEXPR_NUM_THREADS=2\n",
    "%env OMP_NUM_THREADS=2"
   ]
  },
  {
   "cell_type": "markdown",
   "id": "325cb06a-df7f-43e8-be3e-f704aaf015b0",
   "metadata": {
    "papermill": {
     "duration": 0.001666,
     "end_time": "2023-09-08T05:03:10.075218",
     "exception": false,
     "start_time": "2023-09-08T05:03:10.073552",
     "status": "completed"
    },
    "tags": []
   },
   "source": [
    "# Remove pycache dir"
   ]
  },
  {
   "cell_type": "code",
   "execution_count": 2,
   "id": "73f954a6-1776-4b92-bd0e-fc3caf5df081",
   "metadata": {
    "execution": {
     "iopub.execute_input": "2023-09-08T05:03:10.080278Z",
     "iopub.status.busy": "2023-09-08T05:03:10.080067Z",
     "iopub.status.idle": "2023-09-08T05:03:10.272483Z",
     "shell.execute_reply": "2023-09-08T05:03:10.271593Z"
    },
    "papermill": {
     "duration": 0.197838,
     "end_time": "2023-09-08T05:03:10.275353",
     "exception": false,
     "start_time": "2023-09-08T05:03:10.077515",
     "status": "completed"
    },
    "tags": []
   },
   "outputs": [
    {
     "name": "stdout",
     "output_type": "stream",
     "text": [
      "/opt/code\r\n"
     ]
    }
   ],
   "source": [
    "!echo ${CODE_DIR}"
   ]
  },
  {
   "cell_type": "code",
   "execution_count": 3,
   "id": "d17492bb-34fe-4c34-a693-419180ba068e",
   "metadata": {
    "execution": {
     "iopub.execute_input": "2023-09-08T05:03:10.293997Z",
     "iopub.status.busy": "2023-09-08T05:03:10.293500Z",
     "iopub.status.idle": "2023-09-08T05:03:10.497334Z",
     "shell.execute_reply": "2023-09-08T05:03:10.496046Z"
    },
    "papermill": {
     "duration": 0.218401,
     "end_time": "2023-09-08T05:03:10.500077",
     "exception": false,
     "start_time": "2023-09-08T05:03:10.281676",
     "status": "completed"
    },
    "tags": []
   },
   "outputs": [
    {
     "name": "stdout",
     "output_type": "stream",
     "text": [
      "/opt/code/libs/ccc/coef/__pycache__\r\n",
      "/opt/code/libs/ccc/pytorch/__pycache__\r\n",
      "/opt/code/libs/ccc/scipy/__pycache__\r\n",
      "/opt/code/libs/ccc/utils/__pycache__\r\n",
      "/opt/code/libs/ccc/__pycache__\r\n",
      "/opt/code/libs/ccc/sklearn/__pycache__\r\n"
     ]
    }
   ],
   "source": [
    "!find ${CODE_DIR} -regex '^.*\\(__pycache__\\)$' -print"
   ]
  },
  {
   "cell_type": "code",
   "execution_count": 4,
   "id": "5683e330-1782-43b3-bb78-255198f03620",
   "metadata": {
    "execution": {
     "iopub.execute_input": "2023-09-08T05:03:10.519179Z",
     "iopub.status.busy": "2023-09-08T05:03:10.518731Z",
     "iopub.status.idle": "2023-09-08T05:03:10.726062Z",
     "shell.execute_reply": "2023-09-08T05:03:10.724984Z"
    },
    "papermill": {
     "duration": 0.222731,
     "end_time": "2023-09-08T05:03:10.729457",
     "exception": false,
     "start_time": "2023-09-08T05:03:10.506726",
     "status": "completed"
    },
    "tags": []
   },
   "outputs": [],
   "source": [
    "!find ${CODE_DIR} -regex '^.*\\(__pycache__\\)$' -prune -exec rm -rf {} \\;"
   ]
  },
  {
   "cell_type": "code",
   "execution_count": 5,
   "id": "5cf4ce29-d611-4fc8-8880-293c09e5ab9a",
   "metadata": {
    "execution": {
     "iopub.execute_input": "2023-09-08T05:03:10.746661Z",
     "iopub.status.busy": "2023-09-08T05:03:10.746461Z",
     "iopub.status.idle": "2023-09-08T05:03:10.947894Z",
     "shell.execute_reply": "2023-09-08T05:03:10.946701Z"
    },
    "papermill": {
     "duration": 0.215285,
     "end_time": "2023-09-08T05:03:10.950772",
     "exception": false,
     "start_time": "2023-09-08T05:03:10.735487",
     "status": "completed"
    },
    "tags": []
   },
   "outputs": [],
   "source": [
    "!find ${CODE_DIR} -regex '^.*\\(__pycache__\\)$' -print"
   ]
  },
  {
   "cell_type": "markdown",
   "id": "35a04385-a901-4726-82a6-a01f16281efe",
   "metadata": {
    "papermill": {
     "duration": 0.009972,
     "end_time": "2023-09-08T05:03:10.967145",
     "exception": false,
     "start_time": "2023-09-08T05:03:10.957173",
     "status": "completed"
    },
    "tags": []
   },
   "source": [
    "# Modules"
   ]
  },
  {
   "cell_type": "code",
   "execution_count": 6,
   "id": "a75c4496-d379-4668-905d-0e9136981f0c",
   "metadata": {
    "execution": {
     "iopub.execute_input": "2023-09-08T05:03:10.979172Z",
     "iopub.status.busy": "2023-09-08T05:03:10.979005Z",
     "iopub.status.idle": "2023-09-08T05:03:14.684587Z",
     "shell.execute_reply": "2023-09-08T05:03:14.684201Z"
    },
    "papermill": {
     "duration": 3.711968,
     "end_time": "2023-09-08T05:03:14.685357",
     "exception": false,
     "start_time": "2023-09-08T05:03:10.973389",
     "status": "completed"
    },
    "tags": []
   },
   "outputs": [],
   "source": [
    "import numpy as np\n",
    "\n",
    "from ccc.coef import ccc"
   ]
  },
  {
   "cell_type": "code",
   "execution_count": 7,
   "id": "1a58ccf8-1bf5-4177-9b06-944a0d57655a",
   "metadata": {
    "execution": {
     "iopub.execute_input": "2023-09-08T05:03:14.688456Z",
     "iopub.status.busy": "2023-09-08T05:03:14.688396Z",
     "iopub.status.idle": "2023-09-08T05:03:14.692601Z",
     "shell.execute_reply": "2023-09-08T05:03:14.692408Z"
    },
    "papermill": {
     "duration": 0.006224,
     "end_time": "2023-09-08T05:03:14.693029",
     "exception": false,
     "start_time": "2023-09-08T05:03:14.686805",
     "status": "completed"
    },
    "tags": []
   },
   "outputs": [
    {
     "data": {
      "text/plain": [
       "0.0"
      ]
     },
     "execution_count": 7,
     "metadata": {},
     "output_type": "execute_result"
    }
   ],
   "source": [
    "# let numba compile all the code before profiling\n",
    "ccc(np.random.rand(10), np.random.rand(10))"
   ]
  },
  {
   "cell_type": "markdown",
   "id": "2c92a1ad-2fc9-4a16-a5f8-fce685246996",
   "metadata": {
    "papermill": {
     "duration": 0.00134,
     "end_time": "2023-09-08T05:03:14.695691",
     "exception": false,
     "start_time": "2023-09-08T05:03:14.694351",
     "status": "completed"
    },
    "tags": []
   },
   "source": [
    "# Data"
   ]
  },
  {
   "cell_type": "code",
   "execution_count": 8,
   "id": "2316ffcd-a6e4-453f-bb52-779685c5c5bf",
   "metadata": {
    "execution": {
     "iopub.execute_input": "2023-09-08T05:03:14.698676Z",
     "iopub.status.busy": "2023-09-08T05:03:14.698544Z",
     "iopub.status.idle": "2023-09-08T05:03:14.699967Z",
     "shell.execute_reply": "2023-09-08T05:03:14.699784Z"
    },
    "papermill": {
     "duration": 0.003378,
     "end_time": "2023-09-08T05:03:14.700373",
     "exception": false,
     "start_time": "2023-09-08T05:03:14.696995",
     "status": "completed"
    },
    "tags": []
   },
   "outputs": [],
   "source": [
    "n_genes, n_samples = 10, 30000"
   ]
  },
  {
   "cell_type": "code",
   "execution_count": 9,
   "id": "b2f92fb1-113d-479b-8bbf-2be229e26e8f",
   "metadata": {
    "execution": {
     "iopub.execute_input": "2023-09-08T05:03:14.703201Z",
     "iopub.status.busy": "2023-09-08T05:03:14.703150Z",
     "iopub.status.idle": "2023-09-08T05:03:14.704507Z",
     "shell.execute_reply": "2023-09-08T05:03:14.704332Z"
    },
    "papermill": {
     "duration": 0.003208,
     "end_time": "2023-09-08T05:03:14.704908",
     "exception": false,
     "start_time": "2023-09-08T05:03:14.701700",
     "status": "completed"
    },
    "tags": []
   },
   "outputs": [],
   "source": [
    "np.random.seed(0)"
   ]
  },
  {
   "cell_type": "code",
   "execution_count": 10,
   "id": "63638c0b-b436-48a9-93e0-db2adb939a61",
   "metadata": {
    "execution": {
     "iopub.execute_input": "2023-09-08T05:03:14.707778Z",
     "iopub.status.busy": "2023-09-08T05:03:14.707680Z",
     "iopub.status.idle": "2023-09-08T05:03:14.710246Z",
     "shell.execute_reply": "2023-09-08T05:03:14.710059Z"
    },
    "papermill": {
     "duration": 0.004443,
     "end_time": "2023-09-08T05:03:14.710664",
     "exception": false,
     "start_time": "2023-09-08T05:03:14.706221",
     "status": "completed"
    },
    "tags": []
   },
   "outputs": [],
   "source": [
    "data = np.random.rand(n_genes, n_samples)"
   ]
  },
  {
   "cell_type": "code",
   "execution_count": 11,
   "id": "808017ed-9a8a-4bf7-a3dd-42317a39ce8f",
   "metadata": {
    "execution": {
     "iopub.execute_input": "2023-09-08T05:03:14.713555Z",
     "iopub.status.busy": "2023-09-08T05:03:14.713440Z",
     "iopub.status.idle": "2023-09-08T05:03:14.715163Z",
     "shell.execute_reply": "2023-09-08T05:03:14.714996Z"
    },
    "papermill": {
     "duration": 0.003608,
     "end_time": "2023-09-08T05:03:14.715576",
     "exception": false,
     "start_time": "2023-09-08T05:03:14.711968",
     "status": "completed"
    },
    "tags": []
   },
   "outputs": [
    {
     "data": {
      "text/plain": [
       "(10, 30000)"
      ]
     },
     "execution_count": 11,
     "metadata": {},
     "output_type": "execute_result"
    }
   ],
   "source": [
    "data.shape"
   ]
  },
  {
   "cell_type": "markdown",
   "id": "716e4219-cad5-453b-8331-47d310689e03",
   "metadata": {
    "papermill": {
     "duration": 0.001264,
     "end_time": "2023-09-08T05:03:14.718203",
     "exception": false,
     "start_time": "2023-09-08T05:03:14.716939",
     "status": "completed"
    },
    "tags": []
   },
   "source": [
    "# With default `internal_n_clusters`"
   ]
  },
  {
   "cell_type": "code",
   "execution_count": 12,
   "id": "67807856-f337-4c6e-ae31-cd306577a314",
   "metadata": {
    "execution": {
     "iopub.execute_input": "2023-09-08T05:03:14.721070Z",
     "iopub.status.busy": "2023-09-08T05:03:14.720978Z",
     "iopub.status.idle": "2023-09-08T05:03:14.722492Z",
     "shell.execute_reply": "2023-09-08T05:03:14.722312Z"
    },
    "papermill": {
     "duration": 0.003352,
     "end_time": "2023-09-08T05:03:14.722854",
     "exception": false,
     "start_time": "2023-09-08T05:03:14.719502",
     "status": "completed"
    },
    "tags": []
   },
   "outputs": [],
   "source": [
    "def func():\n",
    "    n_clust = list(range(2, 10 + 1))\n",
    "    return ccc(data, internal_n_clusters=n_clust, use_ari_numba=True, n_jobs=2)"
   ]
  },
  {
   "cell_type": "code",
   "execution_count": 13,
   "id": "2965a695-5c0c-4e9e-8435-dcbfa610eb81",
   "metadata": {
    "execution": {
     "iopub.execute_input": "2023-09-08T05:03:14.725798Z",
     "iopub.status.busy": "2023-09-08T05:03:14.725724Z",
     "iopub.status.idle": "2023-09-08T05:04:04.880078Z",
     "shell.execute_reply": "2023-09-08T05:04:04.879625Z"
    },
    "papermill": {
     "duration": 50.157331,
     "end_time": "2023-09-08T05:04:04.881548",
     "exception": false,
     "start_time": "2023-09-08T05:03:14.724217",
     "status": "completed"
    },
    "tags": []
   },
   "outputs": [
    {
     "name": "stdout",
     "output_type": "stream",
     "text": [
      "3.07 s ± 1.43 ms per loop (mean ± std. dev. of 7 runs, 1 loop each)\n"
     ]
    }
   ],
   "source": [
    "%%timeit func()\n",
    "func()"
   ]
  },
  {
   "cell_type": "markdown",
   "id": "025974ff-06d4-4d82-9b05-03f7a84d7211",
   "metadata": {
    "papermill": {
     "duration": 0.002933,
     "end_time": "2023-09-08T05:04:04.893577",
     "exception": false,
     "start_time": "2023-09-08T05:04:04.890644",
     "status": "completed"
    },
    "tags": []
   },
   "source": [
    "# With reduced `internal_n_clusters`"
   ]
  },
  {
   "cell_type": "code",
   "execution_count": 14,
   "id": "c20c4ecf-8060-495e-92b0-eb8e0d0dfbf3",
   "metadata": {
    "execution": {
     "iopub.execute_input": "2023-09-08T05:04:04.897237Z",
     "iopub.status.busy": "2023-09-08T05:04:04.897120Z",
     "iopub.status.idle": "2023-09-08T05:04:04.899551Z",
     "shell.execute_reply": "2023-09-08T05:04:04.899153Z"
    },
    "papermill": {
     "duration": 0.005369,
     "end_time": "2023-09-08T05:04:04.900359",
     "exception": false,
     "start_time": "2023-09-08T05:04:04.894990",
     "status": "completed"
    },
    "tags": []
   },
   "outputs": [],
   "source": [
    "def func():\n",
    "    n_clust = list(range(2, 5 + 1))\n",
    "    return ccc(data, internal_n_clusters=n_clust, use_ari_numba=True, n_jobs=2)"
   ]
  },
  {
   "cell_type": "code",
   "execution_count": 15,
   "id": "11259d8c-3bf3-4299-b47b-211556c3bc08",
   "metadata": {
    "execution": {
     "iopub.execute_input": "2023-09-08T05:04:04.905493Z",
     "iopub.status.busy": "2023-09-08T05:04:04.905347Z",
     "iopub.status.idle": "2023-09-08T05:04:11.910573Z",
     "shell.execute_reply": "2023-09-08T05:04:11.910156Z"
    },
    "papermill": {
     "duration": 7.008557,
     "end_time": "2023-09-08T05:04:11.911267",
     "exception": false,
     "start_time": "2023-09-08T05:04:04.902710",
     "status": "completed"
    },
    "tags": []
   },
   "outputs": [
    {
     "name": "stdout",
     "output_type": "stream",
     "text": [
      "437 ms ± 631 µs per loop (mean ± std. dev. of 7 runs, 1 loop each)\n"
     ]
    }
   ],
   "source": [
    "%%timeit func()\n",
    "func()"
   ]
  },
  {
   "cell_type": "code",
   "execution_count": null,
   "id": "e2556204-1c10-4e01-8c6c-ea63ddb37530",
   "metadata": {
    "papermill": {
     "duration": 0.009712,
     "end_time": "2023-09-08T05:04:11.922464",
     "exception": false,
     "start_time": "2023-09-08T05:04:11.912752",
     "status": "completed"
    },
    "tags": []
   },
   "outputs": [],
   "source": []
  }
 ],
 "metadata": {
  "jupytext": {
   "cell_metadata_filter": "all,-execution,-papermill,-trusted",
   "notebook_metadata_filter": "-jupytext.text_representation.jupytext_version"
  },
  "kernelspec": {
   "display_name": "Python 3 (ipykernel)",
   "language": "python",
   "name": "python3"
  },
  "language_info": {
   "codemirror_mode": {
    "name": "ipython",
    "version": 3
   },
   "file_extension": ".py",
   "mimetype": "text/x-python",
   "name": "python",
   "nbconvert_exporter": "python",
   "pygments_lexer": "ipython3",
   "version": "3.9.12"
  },
  "papermill": {
   "default_parameters": {},
   "duration": 62.77804,
   "end_time": "2023-09-08T05:04:12.142929",
   "environment_variables": {},
   "exception": null,
   "input_path": "nbs/others/05_ccc_profiling/12_cm_optimized/17_02-2_CPUs-use_ari_numba-many_samples-use_ari_numba.ipynb",
   "output_path": "nbs/others/05_ccc_profiling/12_cm_optimized/17_02-2_CPUs-use_ari_numba-many_samples-use_ari_numba.run.ipynb",
   "parameters": {},
   "start_time": "2023-09-08T05:03:09.364889",
   "version": "2.3.3"
  }
 },
 "nbformat": 4,
 "nbformat_minor": 5
}
