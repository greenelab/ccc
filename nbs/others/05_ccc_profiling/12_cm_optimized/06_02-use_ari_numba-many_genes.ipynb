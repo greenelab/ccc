{
 "cells": [
  {
   "cell_type": "markdown",
   "id": "507e9319-381b-4934-987c-2958e7f6ace7",
   "metadata": {
    "papermill": {
     "duration": 0.006749,
     "end_time": "2023-09-07T20:29:00.008474",
     "exception": false,
     "start_time": "2023-09-07T20:29:00.001725",
     "status": "completed"
    },
    "tags": []
   },
   "source": [
    "# Description"
   ]
  },
  {
   "cell_type": "markdown",
   "id": "9a88f2a7-3773-459c-8fdc-c69c1b0bb338",
   "metadata": {
    "papermill": {
     "duration": 0.005514,
     "end_time": "2023-09-07T20:29:00.023907",
     "exception": false,
     "start_time": "2023-09-07T20:29:00.018393",
     "status": "completed"
    },
    "tags": []
   },
   "source": [
    "CCC run using a larger number of genes with `use_ari_numba=True`."
   ]
  },
  {
   "cell_type": "markdown",
   "id": "72de9f6f-dc00-435e-9dba-871db859a78a",
   "metadata": {
    "papermill": {
     "duration": 0.002635,
     "end_time": "2023-09-07T20:29:00.032450",
     "exception": false,
     "start_time": "2023-09-07T20:29:00.029815",
     "status": "completed"
    },
    "tags": []
   },
   "source": [
    "# Use only one CPU core"
   ]
  },
  {
   "cell_type": "code",
   "execution_count": 1,
   "id": "44fd0e26-4162-44b8-b2a9-9f989e892719",
   "metadata": {
    "execution": {
     "iopub.execute_input": "2023-09-07T20:29:00.037094Z",
     "iopub.status.busy": "2023-09-07T20:29:00.036950Z",
     "iopub.status.idle": "2023-09-07T20:29:00.043099Z",
     "shell.execute_reply": "2023-09-07T20:29:00.042729Z"
    },
    "papermill": {
     "duration": 0.009295,
     "end_time": "2023-09-07T20:29:00.044021",
     "exception": false,
     "start_time": "2023-09-07T20:29:00.034726",
     "status": "completed"
    },
    "tags": []
   },
   "outputs": [
    {
     "name": "stdout",
     "output_type": "stream",
     "text": [
      "env: CM_N_JOBS=1\n",
      "env: NUMBA_NUM_THREADS=1\n",
      "env: MKL_NUM_THREADS=1\n",
      "env: OPEN_BLAS_NUM_THREADS=1\n",
      "env: NUMEXPR_NUM_THREADS=1\n",
      "env: OMP_NUM_THREADS=1\n"
     ]
    }
   ],
   "source": [
    "%env CM_N_JOBS=1\n",
    "%env NUMBA_NUM_THREADS=1\n",
    "%env MKL_NUM_THREADS=1\n",
    "%env OPEN_BLAS_NUM_THREADS=1\n",
    "%env NUMEXPR_NUM_THREADS=1\n",
    "%env OMP_NUM_THREADS=1"
   ]
  },
  {
   "cell_type": "markdown",
   "id": "4d885a9d-482d-47e7-bfaf-11c8efae3079",
   "metadata": {
    "papermill": {
     "duration": 0.001489,
     "end_time": "2023-09-07T20:29:00.047380",
     "exception": false,
     "start_time": "2023-09-07T20:29:00.045891",
     "status": "completed"
    },
    "tags": []
   },
   "source": [
    "# Remove pycache dir"
   ]
  },
  {
   "cell_type": "code",
   "execution_count": 2,
   "id": "88d32361-f1b5-4cf0-9a2c-7ab927d14b42",
   "metadata": {
    "execution": {
     "iopub.execute_input": "2023-09-07T20:29:00.050291Z",
     "iopub.status.busy": "2023-09-07T20:29:00.050225Z",
     "iopub.status.idle": "2023-09-07T20:29:00.237724Z",
     "shell.execute_reply": "2023-09-07T20:29:00.237422Z"
    },
    "papermill": {
     "duration": 0.189981,
     "end_time": "2023-09-07T20:29:00.238658",
     "exception": false,
     "start_time": "2023-09-07T20:29:00.048677",
     "status": "completed"
    },
    "tags": []
   },
   "outputs": [
    {
     "name": "stdout",
     "output_type": "stream",
     "text": [
      "/opt/code\n"
     ]
    }
   ],
   "source": [
    "!echo ${CODE_DIR}"
   ]
  },
  {
   "cell_type": "code",
   "execution_count": 3,
   "id": "8a27da6e-cf59-4276-888b-57e98fd23ccf",
   "metadata": {
    "execution": {
     "iopub.execute_input": "2023-09-07T20:29:00.242726Z",
     "iopub.status.busy": "2023-09-07T20:29:00.242308Z",
     "iopub.status.idle": "2023-09-07T20:29:00.438712Z",
     "shell.execute_reply": "2023-09-07T20:29:00.437620Z"
    },
    "papermill": {
     "duration": 0.201446,
     "end_time": "2023-09-07T20:29:00.441476",
     "exception": false,
     "start_time": "2023-09-07T20:29:00.240030",
     "status": "completed"
    },
    "tags": []
   },
   "outputs": [
    {
     "name": "stdout",
     "output_type": "stream",
     "text": [
      "/opt/code/libs/ccc/coef/__pycache__\n",
      "/opt/code/libs/ccc/pytorch/__pycache__\n",
      "/opt/code/libs/ccc/scipy/__pycache__\n",
      "/opt/code/libs/ccc/utils/__pycache__\n",
      "/opt/code/libs/ccc/__pycache__\n",
      "/opt/code/libs/ccc/sklearn/__pycache__\n"
     ]
    }
   ],
   "source": [
    "!find ${CODE_DIR} -regex '^.*\\(__pycache__\\)$' -print"
   ]
  },
  {
   "cell_type": "code",
   "execution_count": 4,
   "id": "561480f7-c610-4f60-b40f-8100974ab4d1",
   "metadata": {
    "execution": {
     "iopub.execute_input": "2023-09-07T20:29:00.458734Z",
     "iopub.status.busy": "2023-09-07T20:29:00.458298Z",
     "iopub.status.idle": "2023-09-07T20:29:00.674335Z",
     "shell.execute_reply": "2023-09-07T20:29:00.673097Z"
    },
    "papermill": {
     "duration": 0.229677,
     "end_time": "2023-09-07T20:29:00.677307",
     "exception": false,
     "start_time": "2023-09-07T20:29:00.447630",
     "status": "completed"
    },
    "tags": []
   },
   "outputs": [
    {
     "name": "stdout",
     "output_type": "stream",
     "text": [
      "find: ‘/opt/code/libs/ccc/coef/__pycache__’: No such file or directory\n",
      "find: ‘/opt/code/libs/ccc/pytorch/__pycache__’: No such file or directory\n",
      "find: ‘/opt/code/libs/ccc/scipy/__pycache__’: No such file or directory\n",
      "find: ‘/opt/code/libs/ccc/utils/__pycache__’: No such file or directory\n",
      "find: ‘/opt/code/libs/ccc/__pycache__’: No such file or directory\n",
      "find: ‘/opt/code/libs/ccc/sklearn/__pycache__’: No such file or directory\n"
     ]
    }
   ],
   "source": [
    "!find ${CODE_DIR} -regex '^.*\\(__pycache__\\)$' -exec rm -rf {} \\;"
   ]
  },
  {
   "cell_type": "code",
   "execution_count": 5,
   "id": "a5c90a17-c0ac-49f0-968d-ea9ea8710b00",
   "metadata": {
    "execution": {
     "iopub.execute_input": "2023-09-07T20:29:00.695066Z",
     "iopub.status.busy": "2023-09-07T20:29:00.694573Z",
     "iopub.status.idle": "2023-09-07T20:29:00.895790Z",
     "shell.execute_reply": "2023-09-07T20:29:00.894599Z"
    },
    "papermill": {
     "duration": 0.216644,
     "end_time": "2023-09-07T20:29:00.898605",
     "exception": false,
     "start_time": "2023-09-07T20:29:00.681961",
     "status": "completed"
    },
    "tags": []
   },
   "outputs": [],
   "source": [
    "!find ${CODE_DIR} -regex '^.*\\(__pycache__\\)$' -print"
   ]
  },
  {
   "cell_type": "markdown",
   "id": "145563a2-3e46-4f62-8191-7444a0b315bb",
   "metadata": {
    "papermill": {
     "duration": 0.005676,
     "end_time": "2023-09-07T20:29:00.910706",
     "exception": false,
     "start_time": "2023-09-07T20:29:00.905030",
     "status": "completed"
    },
    "tags": []
   },
   "source": [
    "# Modules"
   ]
  },
  {
   "cell_type": "code",
   "execution_count": 6,
   "id": "bea3d48e-8823-403f-90f5-aea8a17b357c",
   "metadata": {
    "execution": {
     "iopub.execute_input": "2023-09-07T20:29:00.917890Z",
     "iopub.status.busy": "2023-09-07T20:29:00.917736Z",
     "iopub.status.idle": "2023-09-07T20:29:04.631911Z",
     "shell.execute_reply": "2023-09-07T20:29:04.631580Z"
    },
    "papermill": {
     "duration": 3.718208,
     "end_time": "2023-09-07T20:29:04.632794",
     "exception": false,
     "start_time": "2023-09-07T20:29:00.914586",
     "status": "completed"
    },
    "tags": []
   },
   "outputs": [],
   "source": [
    "import numpy as np\n",
    "\n",
    "from ccc.coef import ccc"
   ]
  },
  {
   "cell_type": "code",
   "execution_count": 7,
   "id": "df6b3793-930b-4c54-9f29-ecc47fc586fb",
   "metadata": {
    "execution": {
     "iopub.execute_input": "2023-09-07T20:29:04.635949Z",
     "iopub.status.busy": "2023-09-07T20:29:04.635864Z",
     "iopub.status.idle": "2023-09-07T20:29:04.640049Z",
     "shell.execute_reply": "2023-09-07T20:29:04.639923Z"
    },
    "papermill": {
     "duration": 0.006293,
     "end_time": "2023-09-07T20:29:04.640546",
     "exception": false,
     "start_time": "2023-09-07T20:29:04.634253",
     "status": "completed"
    },
    "tags": []
   },
   "outputs": [
    {
     "data": {
      "text/plain": [
       "0.25"
      ]
     },
     "execution_count": 7,
     "metadata": {},
     "output_type": "execute_result"
    }
   ],
   "source": [
    "# let numba compile all the code before profiling\n",
    "ccc(np.random.rand(10), np.random.rand(10))"
   ]
  },
  {
   "cell_type": "markdown",
   "id": "f8399ca8-265e-4e96-b582-54045cb2f9eb",
   "metadata": {
    "papermill": {
     "duration": 0.001147,
     "end_time": "2023-09-07T20:29:04.643024",
     "exception": false,
     "start_time": "2023-09-07T20:29:04.641877",
     "status": "completed"
    },
    "tags": []
   },
   "source": [
    "# Data"
   ]
  },
  {
   "cell_type": "code",
   "execution_count": 8,
   "id": "2316ffcd-a6e4-453f-bb52-779685c5c5bf",
   "metadata": {
    "execution": {
     "iopub.execute_input": "2023-09-07T20:29:04.645740Z",
     "iopub.status.busy": "2023-09-07T20:29:04.645685Z",
     "iopub.status.idle": "2023-09-07T20:29:04.647133Z",
     "shell.execute_reply": "2023-09-07T20:29:04.647005Z"
    },
    "papermill": {
     "duration": 0.003337,
     "end_time": "2023-09-07T20:29:04.647561",
     "exception": false,
     "start_time": "2023-09-07T20:29:04.644224",
     "status": "completed"
    },
    "tags": []
   },
   "outputs": [],
   "source": [
    "n_genes, n_samples = 100, 1000"
   ]
  },
  {
   "cell_type": "code",
   "execution_count": 9,
   "id": "b2f92fb1-113d-479b-8bbf-2be229e26e8f",
   "metadata": {
    "execution": {
     "iopub.execute_input": "2023-09-07T20:29:04.650254Z",
     "iopub.status.busy": "2023-09-07T20:29:04.650203Z",
     "iopub.status.idle": "2023-09-07T20:29:04.651482Z",
     "shell.execute_reply": "2023-09-07T20:29:04.651357Z"
    },
    "papermill": {
     "duration": 0.003041,
     "end_time": "2023-09-07T20:29:04.651885",
     "exception": false,
     "start_time": "2023-09-07T20:29:04.648844",
     "status": "completed"
    },
    "tags": []
   },
   "outputs": [],
   "source": [
    "np.random.seed(0)"
   ]
  },
  {
   "cell_type": "code",
   "execution_count": 10,
   "id": "63638c0b-b436-48a9-93e0-db2adb939a61",
   "metadata": {
    "execution": {
     "iopub.execute_input": "2023-09-07T20:29:04.654652Z",
     "iopub.status.busy": "2023-09-07T20:29:04.654603Z",
     "iopub.status.idle": "2023-09-07T20:29:04.656143Z",
     "shell.execute_reply": "2023-09-07T20:29:04.656019Z"
    },
    "papermill": {
     "duration": 0.00344,
     "end_time": "2023-09-07T20:29:04.656544",
     "exception": false,
     "start_time": "2023-09-07T20:29:04.653104",
     "status": "completed"
    },
    "tags": []
   },
   "outputs": [],
   "source": [
    "data = np.random.rand(n_genes, n_samples)"
   ]
  },
  {
   "cell_type": "code",
   "execution_count": 11,
   "id": "808017ed-9a8a-4bf7-a3dd-42317a39ce8f",
   "metadata": {
    "execution": {
     "iopub.execute_input": "2023-09-07T20:29:04.659259Z",
     "iopub.status.busy": "2023-09-07T20:29:04.659207Z",
     "iopub.status.idle": "2023-09-07T20:29:04.660744Z",
     "shell.execute_reply": "2023-09-07T20:29:04.660624Z"
    },
    "papermill": {
     "duration": 0.003328,
     "end_time": "2023-09-07T20:29:04.661130",
     "exception": false,
     "start_time": "2023-09-07T20:29:04.657802",
     "status": "completed"
    },
    "tags": []
   },
   "outputs": [
    {
     "data": {
      "text/plain": [
       "(100, 1000)"
      ]
     },
     "execution_count": 11,
     "metadata": {},
     "output_type": "execute_result"
    }
   ],
   "source": [
    "data.shape"
   ]
  },
  {
   "cell_type": "markdown",
   "id": "716e4219-cad5-453b-8331-47d310689e03",
   "metadata": {
    "papermill": {
     "duration": 0.001182,
     "end_time": "2023-09-07T20:29:04.663579",
     "exception": false,
     "start_time": "2023-09-07T20:29:04.662397",
     "status": "completed"
    },
    "tags": []
   },
   "source": [
    "# Profile"
   ]
  },
  {
   "cell_type": "code",
   "execution_count": 12,
   "id": "67807856-f337-4c6e-ae31-cd306577a314",
   "metadata": {
    "execution": {
     "iopub.execute_input": "2023-09-07T20:29:04.666299Z",
     "iopub.status.busy": "2023-09-07T20:29:04.666253Z",
     "iopub.status.idle": "2023-09-07T20:29:04.667873Z",
     "shell.execute_reply": "2023-09-07T20:29:04.667667Z"
    },
    "papermill": {
     "duration": 0.003464,
     "end_time": "2023-09-07T20:29:04.668271",
     "exception": false,
     "start_time": "2023-09-07T20:29:04.664807",
     "status": "completed"
    },
    "tags": []
   },
   "outputs": [],
   "source": [
    "def func():\n",
    "    n_clust = list(range(2, 10 + 1))\n",
    "    return ccc(data, internal_n_clusters=n_clust, use_ari_numba=True)"
   ]
  },
  {
   "cell_type": "code",
   "execution_count": 13,
   "id": "2965a695-5c0c-4e9e-8435-dcbfa610eb81",
   "metadata": {
    "execution": {
     "iopub.execute_input": "2023-09-07T20:29:04.671060Z",
     "iopub.status.busy": "2023-09-07T20:29:04.671003Z",
     "iopub.status.idle": "2023-09-07T20:34:28.497262Z",
     "shell.execute_reply": "2023-09-07T20:34:28.496907Z"
    },
    "papermill": {
     "duration": 323.829459,
     "end_time": "2023-09-07T20:34:28.499050",
     "exception": false,
     "start_time": "2023-09-07T20:29:04.669591",
     "status": "completed"
    },
    "tags": []
   },
   "outputs": [
    {
     "name": "stdout",
     "output_type": "stream",
     "text": [
      "20.1 s ± 34.9 ms per loop (mean ± std. dev. of 7 runs, 1 loop each)\n"
     ]
    }
   ],
   "source": [
    "%%timeit func()\n",
    "func()"
   ]
  },
  {
   "cell_type": "code",
   "execution_count": 14,
   "id": "51c7a416-064a-4669-a09f-16f837d32475",
   "metadata": {
    "execution": {
     "iopub.execute_input": "2023-09-07T20:34:28.513339Z",
     "iopub.status.busy": "2023-09-07T20:34:28.513244Z",
     "iopub.status.idle": "2023-09-07T20:34:48.660062Z",
     "shell.execute_reply": "2023-09-07T20:34:48.659789Z"
    },
    "papermill": {
     "duration": 20.152653,
     "end_time": "2023-09-07T20:34:48.660817",
     "exception": false,
     "start_time": "2023-09-07T20:34:28.508164",
     "status": "completed"
    },
    "tags": []
   },
   "outputs": [
    {
     "name": "stdout",
     "output_type": "stream",
     "text": [
      " \n",
      "*** Profile printout saved to text file '10-cm_many_genes.txt'. \n"
     ]
    }
   ],
   "source": [
    "%%prun -s cumulative -l 50 -T 06_02-use_ari_numba-cm_many_genes.txt\n",
    "func()"
   ]
  },
  {
   "cell_type": "code",
   "execution_count": null,
   "id": "e2556204-1c10-4e01-8c6c-ea63ddb37530",
   "metadata": {
    "papermill": {
     "duration": 0.009739,
     "end_time": "2023-09-07T20:34:48.672274",
     "exception": false,
     "start_time": "2023-09-07T20:34:48.662535",
     "status": "completed"
    },
    "tags": []
   },
   "outputs": [],
   "source": []
  }
 ],
 "metadata": {
  "jupytext": {
   "cell_metadata_filter": "all,-execution,-papermill,-trusted",
   "notebook_metadata_filter": "-jupytext.text_representation.jupytext_version",
   "text_representation": {
    "extension": ".py",
    "format_name": "percent",
    "format_version": "1.3"
   }
  },
  "kernelspec": {
   "display_name": "Python 3 (ipykernel)",
   "language": "python",
   "name": "python3"
  },
  "language_info": {
   "codemirror_mode": {
    "name": "ipython",
    "version": 3
   },
   "file_extension": ".py",
   "mimetype": "text/x-python",
   "name": "python",
   "nbconvert_exporter": "python",
   "pygments_lexer": "ipython3",
   "version": "3.9.12"
  },
  "papermill": {
   "default_parameters": {},
   "duration": 352.206535,
   "end_time": "2023-09-07T20:34:51.543903",
   "environment_variables": {},
   "exception": null,
   "input_path": "nbs/others/05_ccc_profiling/12_cm_optimized/10-many_genes-use_ari_numba.ipynb",
   "output_path": "nbs/others/05_ccc_profiling/12_cm_optimized/10-many_genes-use_ari_numba.run.ipynb",
   "parameters": {},
   "start_time": "2023-09-07T20:28:59.337368",
   "version": "2.3.3"
  }
 },
 "nbformat": 4,
 "nbformat_minor": 5
}
