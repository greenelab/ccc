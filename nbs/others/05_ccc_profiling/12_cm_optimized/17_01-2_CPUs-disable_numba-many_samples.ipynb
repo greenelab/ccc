{
 "cells": [
  {
   "cell_type": "markdown",
   "id": "4ac1bef9-a7b7-468d-9b3f-24a591c70af5",
   "metadata": {
    "papermill": {
     "duration": 0.005746,
     "end_time": "2023-09-08T05:00:53.948601",
     "exception": false,
     "start_time": "2023-09-08T05:00:53.942855",
     "status": "completed"
    },
    "tags": []
   },
   "source": [
    "# Description"
   ]
  },
  {
   "cell_type": "markdown",
   "id": "d5dbb153-96e6-45d9-b6b9-e5d15ee1ec7f",
   "metadata": {
    "papermill": {
     "duration": 0.003163,
     "end_time": "2023-09-08T05:00:53.954950",
     "exception": false,
     "start_time": "2023-09-08T05:00:53.951787",
     "status": "completed"
    },
    "tags": []
   },
   "source": [
    "Like `07_01` but using more CPU cores."
   ]
  },
  {
   "cell_type": "markdown",
   "id": "a2ba0f9f-aa06-40d0-becc-b9f347f44336",
   "metadata": {
    "papermill": {
     "duration": 0.002838,
     "end_time": "2023-09-08T05:00:53.960306",
     "exception": false,
     "start_time": "2023-09-08T05:00:53.957468",
     "status": "completed"
    },
    "tags": []
   },
   "source": [
    "# Use multiple CPU core"
   ]
  },
  {
   "cell_type": "code",
   "execution_count": 1,
   "id": "70532b5b-b477-41f9-b29e-899ed234b1ce",
   "metadata": {
    "execution": {
     "iopub.execute_input": "2023-09-08T05:00:53.966295Z",
     "iopub.status.busy": "2023-09-08T05:00:53.966162Z",
     "iopub.status.idle": "2023-09-08T05:00:53.971655Z",
     "shell.execute_reply": "2023-09-08T05:00:53.971399Z"
    },
    "papermill": {
     "duration": 0.009689,
     "end_time": "2023-09-08T05:00:53.972568",
     "exception": false,
     "start_time": "2023-09-08T05:00:53.962879",
     "status": "completed"
    },
    "tags": []
   },
   "outputs": [
    {
     "name": "stdout",
     "output_type": "stream",
     "text": [
      "env: CM_N_JOBS=2\n",
      "env: NUMBA_NUM_THREADS=2\n",
      "env: MKL_NUM_THREADS=2\n",
      "env: OPEN_BLAS_NUM_THREADS=2\n",
      "env: NUMEXPR_NUM_THREADS=2\n",
      "env: OMP_NUM_THREADS=2\n"
     ]
    }
   ],
   "source": [
    "%env CM_N_JOBS=2\n",
    "%env NUMBA_NUM_THREADS=2\n",
    "%env MKL_NUM_THREADS=2\n",
    "%env OPEN_BLAS_NUM_THREADS=2\n",
    "%env NUMEXPR_NUM_THREADS=2\n",
    "%env OMP_NUM_THREADS=2"
   ]
  },
  {
   "cell_type": "markdown",
   "id": "874ffd00-afe1-4b51-bb22-350cbd9479f1",
   "metadata": {
    "papermill": {
     "duration": 0.001613,
     "end_time": "2023-09-08T05:00:53.976349",
     "exception": false,
     "start_time": "2023-09-08T05:00:53.974736",
     "status": "completed"
    },
    "tags": []
   },
   "source": [
    "# Disable numba"
   ]
  },
  {
   "cell_type": "code",
   "execution_count": 2,
   "id": "502fe9ff-d27d-43bd-aa37-73edf7ba4f24",
   "metadata": {
    "execution": {
     "iopub.execute_input": "2023-09-08T05:00:53.980252Z",
     "iopub.status.busy": "2023-09-08T05:00:53.980203Z",
     "iopub.status.idle": "2023-09-08T05:00:53.981834Z",
     "shell.execute_reply": "2023-09-08T05:00:53.981690Z"
    },
    "papermill": {
     "duration": 0.004234,
     "end_time": "2023-09-08T05:00:53.982334",
     "exception": false,
     "start_time": "2023-09-08T05:00:53.978100",
     "status": "completed"
    },
    "tags": []
   },
   "outputs": [
    {
     "name": "stdout",
     "output_type": "stream",
     "text": [
      "env: NUMBA_DISABLE_JIT=1\n"
     ]
    }
   ],
   "source": [
    "%env NUMBA_DISABLE_JIT=1"
   ]
  },
  {
   "cell_type": "markdown",
   "id": "325cb06a-df7f-43e8-be3e-f704aaf015b0",
   "metadata": {
    "papermill": {
     "duration": 0.001163,
     "end_time": "2023-09-08T05:00:53.984723",
     "exception": false,
     "start_time": "2023-09-08T05:00:53.983560",
     "status": "completed"
    },
    "tags": []
   },
   "source": [
    "# Remove pycache dir"
   ]
  },
  {
   "cell_type": "code",
   "execution_count": 3,
   "id": "73f954a6-1776-4b92-bd0e-fc3caf5df081",
   "metadata": {
    "execution": {
     "iopub.execute_input": "2023-09-08T05:00:53.987333Z",
     "iopub.status.busy": "2023-09-08T05:00:53.987241Z",
     "iopub.status.idle": "2023-09-08T05:00:54.175946Z",
     "shell.execute_reply": "2023-09-08T05:00:54.175076Z"
    },
    "papermill": {
     "duration": 0.192744,
     "end_time": "2023-09-08T05:00:54.178662",
     "exception": false,
     "start_time": "2023-09-08T05:00:53.985918",
     "status": "completed"
    },
    "tags": []
   },
   "outputs": [
    {
     "name": "stdout",
     "output_type": "stream",
     "text": [
      "/opt/code\r\n"
     ]
    }
   ],
   "source": [
    "!echo ${CODE_DIR}"
   ]
  },
  {
   "cell_type": "code",
   "execution_count": 4,
   "id": "d17492bb-34fe-4c34-a693-419180ba068e",
   "metadata": {
    "execution": {
     "iopub.execute_input": "2023-09-08T05:00:54.196166Z",
     "iopub.status.busy": "2023-09-08T05:00:54.195873Z",
     "iopub.status.idle": "2023-09-08T05:00:54.404869Z",
     "shell.execute_reply": "2023-09-08T05:00:54.403939Z"
    },
    "papermill": {
     "duration": 0.223311,
     "end_time": "2023-09-08T05:00:54.407528",
     "exception": false,
     "start_time": "2023-09-08T05:00:54.184217",
     "status": "completed"
    },
    "tags": []
   },
   "outputs": [
    {
     "name": "stdout",
     "output_type": "stream",
     "text": [
      "/opt/code/libs/ccc/coef/__pycache__\r\n",
      "/opt/code/libs/ccc/pytorch/__pycache__\r\n",
      "/opt/code/libs/ccc/scipy/__pycache__\r\n",
      "/opt/code/libs/ccc/utils/__pycache__\r\n",
      "/opt/code/libs/ccc/__pycache__\r\n",
      "/opt/code/libs/ccc/sklearn/__pycache__\r\n"
     ]
    }
   ],
   "source": [
    "!find ${CODE_DIR} -regex '^.*\\(__pycache__\\)$' -print"
   ]
  },
  {
   "cell_type": "code",
   "execution_count": 5,
   "id": "5683e330-1782-43b3-bb78-255198f03620",
   "metadata": {
    "execution": {
     "iopub.execute_input": "2023-09-08T05:00:54.424215Z",
     "iopub.status.busy": "2023-09-08T05:00:54.423812Z",
     "iopub.status.idle": "2023-09-08T05:00:54.632666Z",
     "shell.execute_reply": "2023-09-08T05:00:54.631336Z"
    },
    "papermill": {
     "duration": 0.221592,
     "end_time": "2023-09-08T05:00:54.635797",
     "exception": false,
     "start_time": "2023-09-08T05:00:54.414205",
     "status": "completed"
    },
    "tags": []
   },
   "outputs": [],
   "source": [
    "!find ${CODE_DIR} -regex '^.*\\(__pycache__\\)$' -prune -exec rm -rf {} \\;"
   ]
  },
  {
   "cell_type": "code",
   "execution_count": 6,
   "id": "5cf4ce29-d611-4fc8-8880-293c09e5ab9a",
   "metadata": {
    "execution": {
     "iopub.execute_input": "2023-09-08T05:00:54.654315Z",
     "iopub.status.busy": "2023-09-08T05:00:54.653925Z",
     "iopub.status.idle": "2023-09-08T05:00:54.859654Z",
     "shell.execute_reply": "2023-09-08T05:00:54.859102Z"
    },
    "papermill": {
     "duration": 0.218446,
     "end_time": "2023-09-08T05:00:54.861009",
     "exception": false,
     "start_time": "2023-09-08T05:00:54.642563",
     "status": "completed"
    },
    "tags": []
   },
   "outputs": [],
   "source": [
    "!find ${CODE_DIR} -regex '^.*\\(__pycache__\\)$' -print"
   ]
  },
  {
   "cell_type": "markdown",
   "id": "35a04385-a901-4726-82a6-a01f16281efe",
   "metadata": {
    "papermill": {
     "duration": 0.009754,
     "end_time": "2023-09-08T05:00:54.874289",
     "exception": false,
     "start_time": "2023-09-08T05:00:54.864535",
     "status": "completed"
    },
    "tags": []
   },
   "source": [
    "# Modules"
   ]
  },
  {
   "cell_type": "code",
   "execution_count": 7,
   "id": "a75c4496-d379-4668-905d-0e9136981f0c",
   "metadata": {
    "execution": {
     "iopub.execute_input": "2023-09-08T05:00:54.881414Z",
     "iopub.status.busy": "2023-09-08T05:00:54.881172Z",
     "iopub.status.idle": "2023-09-08T05:00:54.995178Z",
     "shell.execute_reply": "2023-09-08T05:00:54.994989Z"
    },
    "papermill": {
     "duration": 0.11861,
     "end_time": "2023-09-08T05:00:54.995954",
     "exception": false,
     "start_time": "2023-09-08T05:00:54.877344",
     "status": "completed"
    },
    "tags": []
   },
   "outputs": [],
   "source": [
    "import numpy as np\n",
    "\n",
    "from ccc.coef import ccc"
   ]
  },
  {
   "cell_type": "code",
   "execution_count": 8,
   "id": "1a58ccf8-1bf5-4177-9b06-944a0d57655a",
   "metadata": {
    "execution": {
     "iopub.execute_input": "2023-09-08T05:00:54.999234Z",
     "iopub.status.busy": "2023-09-08T05:00:54.999177Z",
     "iopub.status.idle": "2023-09-08T05:00:55.003427Z",
     "shell.execute_reply": "2023-09-08T05:00:55.003294Z"
    },
    "papermill": {
     "duration": 0.006394,
     "end_time": "2023-09-08T05:00:55.003896",
     "exception": false,
     "start_time": "2023-09-08T05:00:54.997502",
     "status": "completed"
    },
    "tags": []
   },
   "outputs": [
    {
     "data": {
      "text/plain": [
       "0.20454545454545456"
      ]
     },
     "execution_count": 8,
     "metadata": {},
     "output_type": "execute_result"
    }
   ],
   "source": [
    "# let numba compile all the code before profiling\n",
    "ccc(np.random.rand(10), np.random.rand(10))"
   ]
  },
  {
   "cell_type": "markdown",
   "id": "2c92a1ad-2fc9-4a16-a5f8-fce685246996",
   "metadata": {
    "papermill": {
     "duration": 0.00129,
     "end_time": "2023-09-08T05:00:55.006717",
     "exception": false,
     "start_time": "2023-09-08T05:00:55.005427",
     "status": "completed"
    },
    "tags": []
   },
   "source": [
    "# Data"
   ]
  },
  {
   "cell_type": "code",
   "execution_count": 9,
   "id": "2316ffcd-a6e4-453f-bb52-779685c5c5bf",
   "metadata": {
    "execution": {
     "iopub.execute_input": "2023-09-08T05:00:55.009652Z",
     "iopub.status.busy": "2023-09-08T05:00:55.009583Z",
     "iopub.status.idle": "2023-09-08T05:00:55.010906Z",
     "shell.execute_reply": "2023-09-08T05:00:55.010771Z"
    },
    "papermill": {
     "duration": 0.003378,
     "end_time": "2023-09-08T05:00:55.011447",
     "exception": false,
     "start_time": "2023-09-08T05:00:55.008069",
     "status": "completed"
    },
    "tags": []
   },
   "outputs": [],
   "source": [
    "n_genes, n_samples = 10, 30000"
   ]
  },
  {
   "cell_type": "code",
   "execution_count": 10,
   "id": "b2f92fb1-113d-479b-8bbf-2be229e26e8f",
   "metadata": {
    "execution": {
     "iopub.execute_input": "2023-09-08T05:00:55.014434Z",
     "iopub.status.busy": "2023-09-08T05:00:55.014326Z",
     "iopub.status.idle": "2023-09-08T05:00:55.015556Z",
     "shell.execute_reply": "2023-09-08T05:00:55.015414Z"
    },
    "papermill": {
     "duration": 0.003101,
     "end_time": "2023-09-08T05:00:55.015931",
     "exception": false,
     "start_time": "2023-09-08T05:00:55.012830",
     "status": "completed"
    },
    "tags": []
   },
   "outputs": [],
   "source": [
    "np.random.seed(0)"
   ]
  },
  {
   "cell_type": "code",
   "execution_count": 11,
   "id": "63638c0b-b436-48a9-93e0-db2adb939a61",
   "metadata": {
    "execution": {
     "iopub.execute_input": "2023-09-08T05:00:55.018963Z",
     "iopub.status.busy": "2023-09-08T05:00:55.018855Z",
     "iopub.status.idle": "2023-09-08T05:00:55.021241Z",
     "shell.execute_reply": "2023-09-08T05:00:55.021109Z"
    },
    "papermill": {
     "duration": 0.004286,
     "end_time": "2023-09-08T05:00:55.021621",
     "exception": false,
     "start_time": "2023-09-08T05:00:55.017335",
     "status": "completed"
    },
    "tags": []
   },
   "outputs": [],
   "source": [
    "data = np.random.rand(n_genes, n_samples)"
   ]
  },
  {
   "cell_type": "code",
   "execution_count": 12,
   "id": "808017ed-9a8a-4bf7-a3dd-42317a39ce8f",
   "metadata": {
    "execution": {
     "iopub.execute_input": "2023-09-08T05:00:55.024584Z",
     "iopub.status.busy": "2023-09-08T05:00:55.024472Z",
     "iopub.status.idle": "2023-09-08T05:00:55.026043Z",
     "shell.execute_reply": "2023-09-08T05:00:55.025903Z"
    },
    "papermill": {
     "duration": 0.003521,
     "end_time": "2023-09-08T05:00:55.026504",
     "exception": false,
     "start_time": "2023-09-08T05:00:55.022983",
     "status": "completed"
    },
    "tags": []
   },
   "outputs": [
    {
     "data": {
      "text/plain": [
       "(10, 30000)"
      ]
     },
     "execution_count": 12,
     "metadata": {},
     "output_type": "execute_result"
    }
   ],
   "source": [
    "data.shape"
   ]
  },
  {
   "cell_type": "markdown",
   "id": "716e4219-cad5-453b-8331-47d310689e03",
   "metadata": {
    "papermill": {
     "duration": 0.001292,
     "end_time": "2023-09-08T05:00:55.029223",
     "exception": false,
     "start_time": "2023-09-08T05:00:55.027931",
     "status": "completed"
    },
    "tags": []
   },
   "source": [
    "# With default `internal_n_clusters`"
   ]
  },
  {
   "cell_type": "code",
   "execution_count": 13,
   "id": "67807856-f337-4c6e-ae31-cd306577a314",
   "metadata": {
    "execution": {
     "iopub.execute_input": "2023-09-08T05:00:55.032221Z",
     "iopub.status.busy": "2023-09-08T05:00:55.032157Z",
     "iopub.status.idle": "2023-09-08T05:00:55.033514Z",
     "shell.execute_reply": "2023-09-08T05:00:55.033383Z"
    },
    "papermill": {
     "duration": 0.003351,
     "end_time": "2023-09-08T05:00:55.033936",
     "exception": false,
     "start_time": "2023-09-08T05:00:55.030585",
     "status": "completed"
    },
    "tags": []
   },
   "outputs": [],
   "source": [
    "def func():\n",
    "    n_clust = list(range(2, 10 + 1))\n",
    "    return ccc(data, internal_n_clusters=n_clust, n_jobs=2)"
   ]
  },
  {
   "cell_type": "code",
   "execution_count": 14,
   "id": "2965a695-5c0c-4e9e-8435-dcbfa610eb81",
   "metadata": {
    "execution": {
     "iopub.execute_input": "2023-09-08T05:00:55.037170Z",
     "iopub.status.busy": "2023-09-08T05:00:55.037067Z",
     "iopub.status.idle": "2023-09-08T05:01:33.383384Z",
     "shell.execute_reply": "2023-09-08T05:01:33.383211Z"
    },
    "papermill": {
     "duration": 38.350271,
     "end_time": "2023-09-08T05:01:33.385683",
     "exception": false,
     "start_time": "2023-09-08T05:00:55.035412",
     "status": "completed"
    },
    "tags": []
   },
   "outputs": [
    {
     "name": "stdout",
     "output_type": "stream",
     "text": [
      "2.39 s ± 17.4 ms per loop (mean ± std. dev. of 7 runs, 1 loop each)\n"
     ]
    }
   ],
   "source": [
    "%%timeit func()\n",
    "func()"
   ]
  },
  {
   "cell_type": "markdown",
   "id": "cd74d8b8-517c-42cf-9dbf-27474b2c3822",
   "metadata": {
    "papermill": {
     "duration": 0.001501,
     "end_time": "2023-09-08T05:01:33.397834",
     "exception": false,
     "start_time": "2023-09-08T05:01:33.396333",
     "status": "completed"
    },
    "tags": []
   },
   "source": [
    "These results are just slightly worse than the numba-compiled version (notebook `07`)."
   ]
  },
  {
   "cell_type": "markdown",
   "id": "025974ff-06d4-4d82-9b05-03f7a84d7211",
   "metadata": {
    "papermill": {
     "duration": 0.0014,
     "end_time": "2023-09-08T05:01:33.400682",
     "exception": false,
     "start_time": "2023-09-08T05:01:33.399282",
     "status": "completed"
    },
    "tags": []
   },
   "source": [
    "# With reduced `internal_n_clusters`"
   ]
  },
  {
   "cell_type": "code",
   "execution_count": 15,
   "id": "c20c4ecf-8060-495e-92b0-eb8e0d0dfbf3",
   "metadata": {
    "execution": {
     "iopub.execute_input": "2023-09-08T05:01:33.404036Z",
     "iopub.status.busy": "2023-09-08T05:01:33.403948Z",
     "iopub.status.idle": "2023-09-08T05:01:33.405983Z",
     "shell.execute_reply": "2023-09-08T05:01:33.405660Z"
    },
    "papermill": {
     "duration": 0.004442,
     "end_time": "2023-09-08T05:01:33.406560",
     "exception": false,
     "start_time": "2023-09-08T05:01:33.402118",
     "status": "completed"
    },
    "tags": []
   },
   "outputs": [],
   "source": [
    "def func():\n",
    "    n_clust = list(range(2, 5 + 1))\n",
    "    return ccc(data, internal_n_clusters=n_clust, n_jobs=2)"
   ]
  },
  {
   "cell_type": "code",
   "execution_count": 16,
   "id": "11259d8c-3bf3-4299-b47b-211556c3bc08",
   "metadata": {
    "execution": {
     "iopub.execute_input": "2023-09-08T05:01:33.409870Z",
     "iopub.status.busy": "2023-09-08T05:01:33.409812Z",
     "iopub.status.idle": "2023-09-08T05:01:38.276121Z",
     "shell.execute_reply": "2023-09-08T05:01:38.275871Z"
    },
    "papermill": {
     "duration": 4.868725,
     "end_time": "2023-09-08T05:01:38.276808",
     "exception": false,
     "start_time": "2023-09-08T05:01:33.408083",
     "status": "completed"
    },
    "tags": []
   },
   "outputs": [
    {
     "name": "stdout",
     "output_type": "stream",
     "text": [
      "303 ms ± 3.08 ms per loop (mean ± std. dev. of 7 runs, 1 loop each)\n"
     ]
    }
   ],
   "source": [
    "%%timeit func()\n",
    "func()"
   ]
  },
  {
   "cell_type": "markdown",
   "id": "ba154ea5-5301-4fd4-8fc7-71534435a2a5",
   "metadata": {
    "papermill": {
     "duration": 0.009806,
     "end_time": "2023-09-08T05:01:38.288275",
     "exception": false,
     "start_time": "2023-09-08T05:01:38.278469",
     "status": "completed"
    },
    "tags": []
   },
   "source": [
    "These results are slightly better than the numba-compiled version (notebook `07`), which is surprising. In the future, it would be interesting to disable threading here to get accurate profiling results to debug this issue."
   ]
  },
  {
   "cell_type": "code",
   "execution_count": null,
   "id": "e2556204-1c10-4e01-8c6c-ea63ddb37530",
   "metadata": {
    "papermill": {
     "duration": 0.001449,
     "end_time": "2023-09-08T05:01:38.291365",
     "exception": false,
     "start_time": "2023-09-08T05:01:38.289916",
     "status": "completed"
    },
    "tags": []
   },
   "outputs": [],
   "source": []
  }
 ],
 "metadata": {
  "jupytext": {
   "cell_metadata_filter": "all,-execution,-papermill,-trusted",
   "notebook_metadata_filter": "-jupytext.text_representation.jupytext_version"
  },
  "kernelspec": {
   "display_name": "Python 3 (ipykernel)",
   "language": "python",
   "name": "python3"
  },
  "language_info": {
   "codemirror_mode": {
    "name": "ipython",
    "version": 3
   },
   "file_extension": ".py",
   "mimetype": "text/x-python",
   "name": "python",
   "nbconvert_exporter": "python",
   "pygments_lexer": "ipython3",
   "version": "3.9.12"
  },
  "papermill": {
   "default_parameters": {},
   "duration": 45.129102,
   "end_time": "2023-09-08T05:01:38.408234",
   "environment_variables": {},
   "exception": null,
   "input_path": "nbs/others/05_ccc_profiling/12_cm_optimized/17_01-2_CPUs-disable_numba-many_samples.ipynb",
   "output_path": "nbs/others/05_ccc_profiling/12_cm_optimized/17_01-2_CPUs-disable_numba-many_samples.run.ipynb",
   "parameters": {},
   "start_time": "2023-09-08T05:00:53.279132",
   "version": "2.3.3"
  }
 },
 "nbformat": 4,
 "nbformat_minor": 5
}
