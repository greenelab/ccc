{
 "cells": [
  {
   "cell_type": "markdown",
   "id": "507e9319-381b-4934-987c-2958e7f6ace7",
   "metadata": {
    "papermill": {
     "duration": 0.001627,
     "end_time": "2023-09-07T19:58:19.093571",
     "exception": false,
     "start_time": "2023-09-07T19:58:19.091944",
     "status": "completed"
    },
    "tags": []
   },
   "source": [
    "# Description"
   ]
  },
  {
   "cell_type": "markdown",
   "id": "9a88f2a7-3773-459c-8fdc-c69c1b0bb338",
   "metadata": {
    "papermill": {
     "duration": 0.00281,
     "end_time": "2023-09-07T19:58:19.106009",
     "exception": false,
     "start_time": "2023-09-07T19:58:19.103199",
     "status": "completed"
    },
    "tags": []
   },
   "source": [
    "Similar as `06` but with numba disabled to compare with a pure Python implementation."
   ]
  },
  {
   "cell_type": "markdown",
   "id": "46f55bd7-2765-4c28-83bd-4687d140f42f",
   "metadata": {
    "papermill": {
     "duration": 0.002515,
     "end_time": "2023-09-07T19:58:19.111293",
     "exception": false,
     "start_time": "2023-09-07T19:58:19.108778",
     "status": "completed"
    },
    "tags": []
   },
   "source": [
    "# Use only one CPU core"
   ]
  },
  {
   "cell_type": "code",
   "execution_count": 1,
   "id": "5d804148-5abf-4081-ab3d-1fe077111a67",
   "metadata": {
    "execution": {
     "iopub.execute_input": "2023-09-07T19:58:19.115334Z",
     "iopub.status.busy": "2023-09-07T19:58:19.115174Z",
     "iopub.status.idle": "2023-09-07T19:58:19.119770Z",
     "shell.execute_reply": "2023-09-07T19:58:19.119621Z"
    },
    "papermill": {
     "duration": 0.006934,
     "end_time": "2023-09-07T19:58:19.120258",
     "exception": false,
     "start_time": "2023-09-07T19:58:19.113324",
     "status": "completed"
    },
    "tags": []
   },
   "outputs": [
    {
     "name": "stdout",
     "output_type": "stream",
     "text": [
      "env: CM_N_JOBS=1\n",
      "env: NUMBA_NUM_THREADS=1\n",
      "env: MKL_NUM_THREADS=1\n",
      "env: OPEN_BLAS_NUM_THREADS=1\n",
      "env: NUMEXPR_NUM_THREADS=1\n",
      "env: OMP_NUM_THREADS=1\n"
     ]
    }
   ],
   "source": [
    "%env CM_N_JOBS=1\n",
    "%env NUMBA_NUM_THREADS=1\n",
    "%env MKL_NUM_THREADS=1\n",
    "%env OPEN_BLAS_NUM_THREADS=1\n",
    "%env NUMEXPR_NUM_THREADS=1\n",
    "%env OMP_NUM_THREADS=1"
   ]
  },
  {
   "cell_type": "markdown",
   "id": "61443ae0-70fe-42c4-adf2-76b8a7b22217",
   "metadata": {
    "papermill": {
     "duration": 0.001164,
     "end_time": "2023-09-07T19:58:19.122695",
     "exception": false,
     "start_time": "2023-09-07T19:58:19.121531",
     "status": "completed"
    },
    "tags": []
   },
   "source": [
    "# Disable numba"
   ]
  },
  {
   "cell_type": "code",
   "execution_count": 2,
   "id": "9495a29b-3ba6-4a51-99b0-780fa5c1d9c7",
   "metadata": {
    "execution": {
     "iopub.execute_input": "2023-09-07T19:58:19.125490Z",
     "iopub.status.busy": "2023-09-07T19:58:19.125381Z",
     "iopub.status.idle": "2023-09-07T19:58:19.126879Z",
     "shell.execute_reply": "2023-09-07T19:58:19.126739Z"
    },
    "papermill": {
     "duration": 0.003378,
     "end_time": "2023-09-07T19:58:19.127324",
     "exception": false,
     "start_time": "2023-09-07T19:58:19.123946",
     "status": "completed"
    },
    "tags": []
   },
   "outputs": [
    {
     "name": "stdout",
     "output_type": "stream",
     "text": [
      "env: NUMBA_DISABLE_JIT=1\n"
     ]
    }
   ],
   "source": [
    "%env NUMBA_DISABLE_JIT=1"
   ]
  },
  {
   "cell_type": "markdown",
   "id": "72de9f6f-dc00-435e-9dba-871db859a78a",
   "metadata": {
    "papermill": {
     "duration": 0.001209,
     "end_time": "2023-09-07T19:58:19.129805",
     "exception": false,
     "start_time": "2023-09-07T19:58:19.128596",
     "status": "completed"
    },
    "tags": []
   },
   "source": [
    "# Remove pycache dir"
   ]
  },
  {
   "cell_type": "code",
   "execution_count": 3,
   "id": "88d32361-f1b5-4cf0-9a2c-7ab927d14b42",
   "metadata": {
    "execution": {
     "iopub.execute_input": "2023-09-07T19:58:19.132550Z",
     "iopub.status.busy": "2023-09-07T19:58:19.132465Z",
     "iopub.status.idle": "2023-09-07T19:58:19.320659Z",
     "shell.execute_reply": "2023-09-07T19:58:19.320370Z"
    },
    "papermill": {
     "duration": 0.190304,
     "end_time": "2023-09-07T19:58:19.321350",
     "exception": false,
     "start_time": "2023-09-07T19:58:19.131046",
     "status": "completed"
    },
    "tags": []
   },
   "outputs": [
    {
     "name": "stdout",
     "output_type": "stream",
     "text": [
      "/opt/code\n"
     ]
    }
   ],
   "source": [
    "!echo ${CODE_DIR}"
   ]
  },
  {
   "cell_type": "code",
   "execution_count": 4,
   "id": "8a27da6e-cf59-4276-888b-57e98fd23ccf",
   "metadata": {
    "execution": {
     "iopub.execute_input": "2023-09-07T19:58:19.324514Z",
     "iopub.status.busy": "2023-09-07T19:58:19.324447Z",
     "iopub.status.idle": "2023-09-07T19:58:19.510811Z",
     "shell.execute_reply": "2023-09-07T19:58:19.510479Z"
    },
    "papermill": {
     "duration": 0.188646,
     "end_time": "2023-09-07T19:58:19.511460",
     "exception": false,
     "start_time": "2023-09-07T19:58:19.322814",
     "status": "completed"
    },
    "tags": []
   },
   "outputs": [
    {
     "name": "stdout",
     "output_type": "stream",
     "text": [
      "/opt/code/libs/ccc/coef/__pycache__\n",
      "/opt/code/libs/ccc/pytorch/__pycache__\n",
      "/opt/code/libs/ccc/scipy/__pycache__\n",
      "/opt/code/libs/ccc/utils/__pycache__\n",
      "/opt/code/libs/ccc/__pycache__\n",
      "/opt/code/libs/ccc/sklearn/__pycache__\n"
     ]
    }
   ],
   "source": [
    "!find ${CODE_DIR} -regex '^.*\\(__pycache__\\)$' -print"
   ]
  },
  {
   "cell_type": "code",
   "execution_count": 5,
   "id": "561480f7-c610-4f60-b40f-8100974ab4d1",
   "metadata": {
    "execution": {
     "iopub.execute_input": "2023-09-07T19:58:19.522880Z",
     "iopub.status.busy": "2023-09-07T19:58:19.522815Z",
     "iopub.status.idle": "2023-09-07T19:58:19.722808Z",
     "shell.execute_reply": "2023-09-07T19:58:19.722452Z"
    },
    "papermill": {
     "duration": 0.210805,
     "end_time": "2023-09-07T19:58:19.723692",
     "exception": false,
     "start_time": "2023-09-07T19:58:19.512887",
     "status": "completed"
    },
    "tags": []
   },
   "outputs": [],
   "source": [
    "!find ${CODE_DIR} -regex '^.*\\(__pycache__\\)$' -prune -exec rm -rf {} \\;"
   ]
  },
  {
   "cell_type": "code",
   "execution_count": 6,
   "id": "a5c90a17-c0ac-49f0-968d-ea9ea8710b00",
   "metadata": {
    "execution": {
     "iopub.execute_input": "2023-09-07T19:58:19.735882Z",
     "iopub.status.busy": "2023-09-07T19:58:19.735718Z",
     "iopub.status.idle": "2023-09-07T19:58:19.927379Z",
     "shell.execute_reply": "2023-09-07T19:58:19.926751Z"
    },
    "papermill": {
     "duration": 0.203057,
     "end_time": "2023-09-07T19:58:19.928270",
     "exception": false,
     "start_time": "2023-09-07T19:58:19.725213",
     "status": "completed"
    },
    "tags": []
   },
   "outputs": [],
   "source": [
    "!find ${CODE_DIR} -regex '^.*\\(__pycache__\\)$' -print"
   ]
  },
  {
   "cell_type": "markdown",
   "id": "145563a2-3e46-4f62-8191-7444a0b315bb",
   "metadata": {
    "papermill": {
     "duration": 0.009497,
     "end_time": "2023-09-07T19:58:19.939571",
     "exception": false,
     "start_time": "2023-09-07T19:58:19.930074",
     "status": "completed"
    },
    "tags": []
   },
   "source": [
    "# Modules"
   ]
  },
  {
   "cell_type": "code",
   "execution_count": 7,
   "id": "bea3d48e-8823-403f-90f5-aea8a17b357c",
   "metadata": {
    "execution": {
     "iopub.execute_input": "2023-09-07T19:58:19.947625Z",
     "iopub.status.busy": "2023-09-07T19:58:19.947493Z",
     "iopub.status.idle": "2023-09-07T19:58:20.062083Z",
     "shell.execute_reply": "2023-09-07T19:58:20.061781Z"
    },
    "papermill": {
     "duration": 0.118667,
     "end_time": "2023-09-07T19:58:20.062924",
     "exception": false,
     "start_time": "2023-09-07T19:58:19.944257",
     "status": "completed"
    },
    "tags": []
   },
   "outputs": [],
   "source": [
    "import numpy as np\n",
    "\n",
    "from ccc.coef import ccc"
   ]
  },
  {
   "cell_type": "code",
   "execution_count": 8,
   "id": "df6b3793-930b-4c54-9f29-ecc47fc586fb",
   "metadata": {
    "execution": {
     "iopub.execute_input": "2023-09-07T19:58:20.066235Z",
     "iopub.status.busy": "2023-09-07T19:58:20.066180Z",
     "iopub.status.idle": "2023-09-07T19:58:20.070737Z",
     "shell.execute_reply": "2023-09-07T19:58:20.070611Z"
    },
    "papermill": {
     "duration": 0.006921,
     "end_time": "2023-09-07T19:58:20.071313",
     "exception": false,
     "start_time": "2023-09-07T19:58:20.064392",
     "status": "completed"
    },
    "tags": []
   },
   "outputs": [
    {
     "data": {
      "text/plain": [
       "0.28"
      ]
     },
     "execution_count": 8,
     "metadata": {},
     "output_type": "execute_result"
    }
   ],
   "source": [
    "# let numba compile all the code before profiling\n",
    "ccc(np.random.rand(10), np.random.rand(10))"
   ]
  },
  {
   "cell_type": "markdown",
   "id": "f8399ca8-265e-4e96-b582-54045cb2f9eb",
   "metadata": {
    "papermill": {
     "duration": 0.001242,
     "end_time": "2023-09-07T19:58:20.073949",
     "exception": false,
     "start_time": "2023-09-07T19:58:20.072707",
     "status": "completed"
    },
    "tags": []
   },
   "source": [
    "# Data"
   ]
  },
  {
   "cell_type": "code",
   "execution_count": 9,
   "id": "2316ffcd-a6e4-453f-bb52-779685c5c5bf",
   "metadata": {
    "execution": {
     "iopub.execute_input": "2023-09-07T19:58:20.076988Z",
     "iopub.status.busy": "2023-09-07T19:58:20.076939Z",
     "iopub.status.idle": "2023-09-07T19:58:20.078219Z",
     "shell.execute_reply": "2023-09-07T19:58:20.078090Z"
    },
    "papermill": {
     "duration": 0.003561,
     "end_time": "2023-09-07T19:58:20.078805",
     "exception": false,
     "start_time": "2023-09-07T19:58:20.075244",
     "status": "completed"
    },
    "tags": []
   },
   "outputs": [],
   "source": [
    "n_genes, n_samples = 100, 1000"
   ]
  },
  {
   "cell_type": "code",
   "execution_count": 10,
   "id": "b2f92fb1-113d-479b-8bbf-2be229e26e8f",
   "metadata": {
    "execution": {
     "iopub.execute_input": "2023-09-07T19:58:20.081768Z",
     "iopub.status.busy": "2023-09-07T19:58:20.081717Z",
     "iopub.status.idle": "2023-09-07T19:58:20.083015Z",
     "shell.execute_reply": "2023-09-07T19:58:20.082889Z"
    },
    "papermill": {
     "duration": 0.003462,
     "end_time": "2023-09-07T19:58:20.083591",
     "exception": false,
     "start_time": "2023-09-07T19:58:20.080129",
     "status": "completed"
    },
    "tags": []
   },
   "outputs": [],
   "source": [
    "np.random.seed(0)"
   ]
  },
  {
   "cell_type": "code",
   "execution_count": 11,
   "id": "63638c0b-b436-48a9-93e0-db2adb939a61",
   "metadata": {
    "execution": {
     "iopub.execute_input": "2023-09-07T19:58:20.086478Z",
     "iopub.status.busy": "2023-09-07T19:58:20.086429Z",
     "iopub.status.idle": "2023-09-07T19:58:20.087949Z",
     "shell.execute_reply": "2023-09-07T19:58:20.087820Z"
    },
    "papermill": {
     "duration": 0.003587,
     "end_time": "2023-09-07T19:58:20.088499",
     "exception": false,
     "start_time": "2023-09-07T19:58:20.084912",
     "status": "completed"
    },
    "tags": []
   },
   "outputs": [],
   "source": [
    "data = np.random.rand(n_genes, n_samples)"
   ]
  },
  {
   "cell_type": "code",
   "execution_count": 12,
   "id": "808017ed-9a8a-4bf7-a3dd-42317a39ce8f",
   "metadata": {
    "execution": {
     "iopub.execute_input": "2023-09-07T19:58:20.091454Z",
     "iopub.status.busy": "2023-09-07T19:58:20.091387Z",
     "iopub.status.idle": "2023-09-07T19:58:20.092889Z",
     "shell.execute_reply": "2023-09-07T19:58:20.092766Z"
    },
    "papermill": {
     "duration": 0.003487,
     "end_time": "2023-09-07T19:58:20.093314",
     "exception": false,
     "start_time": "2023-09-07T19:58:20.089827",
     "status": "completed"
    },
    "tags": []
   },
   "outputs": [
    {
     "data": {
      "text/plain": [
       "(100, 1000)"
      ]
     },
     "execution_count": 12,
     "metadata": {},
     "output_type": "execute_result"
    }
   ],
   "source": [
    "data.shape"
   ]
  },
  {
   "cell_type": "markdown",
   "id": "716e4219-cad5-453b-8331-47d310689e03",
   "metadata": {
    "papermill": {
     "duration": 0.001264,
     "end_time": "2023-09-07T19:58:20.095958",
     "exception": false,
     "start_time": "2023-09-07T19:58:20.094694",
     "status": "completed"
    },
    "tags": []
   },
   "source": [
    "# Profile"
   ]
  },
  {
   "cell_type": "code",
   "execution_count": 13,
   "id": "67807856-f337-4c6e-ae31-cd306577a314",
   "metadata": {
    "execution": {
     "iopub.execute_input": "2023-09-07T19:58:20.098852Z",
     "iopub.status.busy": "2023-09-07T19:58:20.098805Z",
     "iopub.status.idle": "2023-09-07T19:58:20.100181Z",
     "shell.execute_reply": "2023-09-07T19:58:20.100053Z"
    },
    "papermill": {
     "duration": 0.003396,
     "end_time": "2023-09-07T19:58:20.100672",
     "exception": false,
     "start_time": "2023-09-07T19:58:20.097276",
     "status": "completed"
    },
    "tags": []
   },
   "outputs": [],
   "source": [
    "def func():\n",
    "    n_clust = list(range(2, 10 + 1))\n",
    "    return ccc(data, internal_n_clusters=n_clust)"
   ]
  },
  {
   "cell_type": "code",
   "execution_count": 14,
   "id": "2965a695-5c0c-4e9e-8435-dcbfa610eb81",
   "metadata": {
    "execution": {
     "iopub.execute_input": "2023-09-07T19:58:20.103556Z",
     "iopub.status.busy": "2023-09-07T19:58:20.103509Z",
     "iopub.status.idle": "2023-09-07T20:13:03.859237Z",
     "shell.execute_reply": "2023-09-07T20:13:03.859070Z"
    },
    "papermill": {
     "duration": 883.759164,
     "end_time": "2023-09-07T20:13:03.861180",
     "exception": false,
     "start_time": "2023-09-07T19:58:20.102016",
     "status": "completed"
    },
    "tags": []
   },
   "outputs": [
    {
     "name": "stdout",
     "output_type": "stream",
     "text": [
      "55.2 s ± 109 ms per loop (mean ± std. dev. of 7 runs, 1 loop each)\n"
     ]
    }
   ],
   "source": [
    "%%timeit func()\n",
    "func()"
   ]
  },
  {
   "cell_type": "code",
   "execution_count": 15,
   "id": "51c7a416-064a-4669-a09f-16f837d32475",
   "metadata": {
    "execution": {
     "iopub.execute_input": "2023-09-07T20:13:03.873810Z",
     "iopub.status.busy": "2023-09-07T20:13:03.873731Z",
     "iopub.status.idle": "2023-09-07T20:13:59.427413Z",
     "shell.execute_reply": "2023-09-07T20:13:59.427003Z"
    },
    "papermill": {
     "duration": 55.558667,
     "end_time": "2023-09-07T20:13:59.428985",
     "exception": false,
     "start_time": "2023-09-07T20:13:03.870318",
     "status": "completed"
    },
    "tags": []
   },
   "outputs": [
    {
     "name": "stdout",
     "output_type": "stream",
     "text": [
      " \n",
      "*** Profile printout saved to text file '08-cm_many_genes.txt'. \n"
     ]
    }
   ],
   "source": [
    "%%prun -s cumulative -l 50 -T 06_01-disable_numba-cm_many_genes.txt\n",
    "func()"
   ]
  },
  {
   "cell_type": "markdown",
   "id": "664b37eb-ead5-4b74-af40-41f1e257a5f3",
   "metadata": {
    "papermill": {
     "duration": 0.002833,
     "end_time": "2023-09-07T20:13:59.440970",
     "exception": false,
     "start_time": "2023-09-07T20:13:59.438137",
     "status": "completed"
    },
    "tags": []
   },
   "source": [
    "**CONCLUSIONS:** compared with notebook `06` (which has 500 rows (`n_genes`) instead of 50 here), this one would have taken 2.80 hours for 500 rows based on this results. Whereas the numba-compiled version took ~7 minutes."
   ]
  },
  {
   "cell_type": "code",
   "execution_count": null,
   "id": "c171afa1-7734-4ba5-b140-060d232c8f9c",
   "metadata": {
    "papermill": {
     "duration": 0.00145,
     "end_time": "2023-09-07T20:13:59.443951",
     "exception": false,
     "start_time": "2023-09-07T20:13:59.442501",
     "status": "completed"
    },
    "tags": []
   },
   "outputs": [],
   "source": []
  }
 ],
 "metadata": {
  "jupytext": {
   "cell_metadata_filter": "all,-execution,-papermill,-trusted",
   "notebook_metadata_filter": "-jupytext.text_representation.jupytext_version",
   "text_representation": {
    "extension": ".py",
    "format_name": "percent",
    "format_version": "1.3"
   }
  },
  "kernelspec": {
   "display_name": "Python 3 (ipykernel)",
   "language": "python",
   "name": "python3"
  },
  "language_info": {
   "codemirror_mode": {
    "name": "ipython",
    "version": 3
   },
   "file_extension": ".py",
   "mimetype": "text/x-python",
   "name": "python",
   "nbconvert_exporter": "python",
   "pygments_lexer": "ipython3",
   "version": "3.9.12"
  },
  "papermill": {
   "default_parameters": {},
   "duration": 941.269398,
   "end_time": "2023-09-07T20:13:59.561796",
   "environment_variables": {},
   "exception": null,
   "input_path": "nbs/others/05_ccc_profiling/12_cm_optimized/08-many_genes.ipynb",
   "output_path": "nbs/others/05_ccc_profiling/12_cm_optimized/08-many_genes.run.ipynb",
   "parameters": {},
   "start_time": "2023-09-07T19:58:18.292398",
   "version": "2.3.3"
  }
 },
 "nbformat": 4,
 "nbformat_minor": 5
}
