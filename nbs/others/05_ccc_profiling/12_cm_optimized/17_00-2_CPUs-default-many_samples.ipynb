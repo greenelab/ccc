{
 "cells": [
  {
   "cell_type": "markdown",
   "id": "88f4752f-914d-427a-9865-ff645ae4a61e",
   "metadata": {
    "papermill": {
     "duration": 0.001561,
     "end_time": "2023-09-07T21:50:24.251694",
     "exception": false,
     "start_time": "2023-09-07T21:50:24.250133",
     "status": "completed"
    },
    "tags": []
   },
   "source": [
    "# Description"
   ]
  },
  {
   "cell_type": "markdown",
   "id": "97b23c3d-292e-47ec-b76d-4b70f5653f4e",
   "metadata": {
    "papermill": {
     "duration": 0.004786,
     "end_time": "2023-09-07T21:50:24.266016",
     "exception": false,
     "start_time": "2023-09-07T21:50:24.261230",
     "status": "completed"
    },
    "tags": []
   },
   "source": [
    "Like `07_00` but using more CPU cores."
   ]
  },
  {
   "cell_type": "markdown",
   "id": "274fca68-c617-481c-9615-dc6920ea24dc",
   "metadata": {
    "papermill": {
     "duration": 0.002767,
     "end_time": "2023-09-07T21:50:24.271162",
     "exception": false,
     "start_time": "2023-09-07T21:50:24.268395",
     "status": "completed"
    },
    "tags": []
   },
   "source": [
    "# Use multiple CPU core"
   ]
  },
  {
   "cell_type": "code",
   "execution_count": 1,
   "id": "48959a89-b227-4487-9b0e-d1499064d13b",
   "metadata": {
    "execution": {
     "iopub.execute_input": "2023-09-07T21:50:24.277398Z",
     "iopub.status.busy": "2023-09-07T21:50:24.277273Z",
     "iopub.status.idle": "2023-09-07T21:50:24.282384Z",
     "shell.execute_reply": "2023-09-07T21:50:24.282138Z"
    },
    "papermill": {
     "duration": 0.009092,
     "end_time": "2023-09-07T21:50:24.282970",
     "exception": false,
     "start_time": "2023-09-07T21:50:24.273878",
     "status": "completed"
    },
    "tags": []
   },
   "outputs": [
    {
     "name": "stdout",
     "output_type": "stream",
     "text": [
      "env: CM_N_JOBS=2\n",
      "env: NUMBA_NUM_THREADS=2\n",
      "env: MKL_NUM_THREADS=2\n",
      "env: OPEN_BLAS_NUM_THREADS=2\n",
      "env: NUMEXPR_NUM_THREADS=2\n",
      "env: OMP_NUM_THREADS=2\n"
     ]
    }
   ],
   "source": [
    "%env CM_N_JOBS=2\n",
    "%env NUMBA_NUM_THREADS=2\n",
    "%env MKL_NUM_THREADS=2\n",
    "%env OPEN_BLAS_NUM_THREADS=2\n",
    "%env NUMEXPR_NUM_THREADS=2\n",
    "%env OMP_NUM_THREADS=2"
   ]
  },
  {
   "cell_type": "markdown",
   "id": "325cb06a-df7f-43e8-be3e-f704aaf015b0",
   "metadata": {
    "papermill": {
     "duration": 0.001104,
     "end_time": "2023-09-07T21:50:24.285235",
     "exception": false,
     "start_time": "2023-09-07T21:50:24.284131",
     "status": "completed"
    },
    "tags": []
   },
   "source": [
    "# Remove pycache dir"
   ]
  },
  {
   "cell_type": "code",
   "execution_count": 2,
   "id": "73f954a6-1776-4b92-bd0e-fc3caf5df081",
   "metadata": {
    "execution": {
     "iopub.execute_input": "2023-09-07T21:50:24.288343Z",
     "iopub.status.busy": "2023-09-07T21:50:24.288276Z",
     "iopub.status.idle": "2023-09-07T21:50:24.471706Z",
     "shell.execute_reply": "2023-09-07T21:50:24.471438Z"
    },
    "papermill": {
     "duration": 0.185755,
     "end_time": "2023-09-07T21:50:24.472387",
     "exception": false,
     "start_time": "2023-09-07T21:50:24.286632",
     "status": "completed"
    },
    "tags": []
   },
   "outputs": [
    {
     "name": "stdout",
     "output_type": "stream",
     "text": [
      "/opt/code\n"
     ]
    }
   ],
   "source": [
    "!echo ${CODE_DIR}"
   ]
  },
  {
   "cell_type": "code",
   "execution_count": 3,
   "id": "d17492bb-34fe-4c34-a693-419180ba068e",
   "metadata": {
    "execution": {
     "iopub.execute_input": "2023-09-07T21:50:24.483752Z",
     "iopub.status.busy": "2023-09-07T21:50:24.483680Z",
     "iopub.status.idle": "2023-09-07T21:50:24.673641Z",
     "shell.execute_reply": "2023-09-07T21:50:24.673440Z"
    },
    "papermill": {
     "duration": 0.200674,
     "end_time": "2023-09-07T21:50:24.674313",
     "exception": false,
     "start_time": "2023-09-07T21:50:24.473639",
     "status": "completed"
    },
    "tags": []
   },
   "outputs": [
    {
     "name": "stdout",
     "output_type": "stream",
     "text": [
      "/opt/code/libs/ccc/coef/__pycache__\n",
      "/opt/code/libs/ccc/pytorch/__pycache__\n",
      "/opt/code/libs/ccc/scipy/__pycache__\n",
      "/opt/code/libs/ccc/utils/__pycache__\n",
      "/opt/code/libs/ccc/__pycache__\n",
      "/opt/code/libs/ccc/sklearn/__pycache__\n"
     ]
    }
   ],
   "source": [
    "!find ${CODE_DIR} -regex '^.*\\(__pycache__\\)$' -print"
   ]
  },
  {
   "cell_type": "code",
   "execution_count": 4,
   "id": "5683e330-1782-43b3-bb78-255198f03620",
   "metadata": {
    "execution": {
     "iopub.execute_input": "2023-09-07T21:50:24.685783Z",
     "iopub.status.busy": "2023-09-07T21:50:24.685672Z",
     "iopub.status.idle": "2023-09-07T21:50:24.876601Z",
     "shell.execute_reply": "2023-09-07T21:50:24.876228Z"
    },
    "papermill": {
     "duration": 0.201811,
     "end_time": "2023-09-07T21:50:24.877421",
     "exception": false,
     "start_time": "2023-09-07T21:50:24.675610",
     "status": "completed"
    },
    "tags": []
   },
   "outputs": [],
   "source": [
    "!find ${CODE_DIR} -regex '^.*\\(__pycache__\\)$' -prune -exec rm -rf {} \\;"
   ]
  },
  {
   "cell_type": "code",
   "execution_count": 5,
   "id": "5cf4ce29-d611-4fc8-8880-293c09e5ab9a",
   "metadata": {
    "execution": {
     "iopub.execute_input": "2023-09-07T21:50:24.889188Z",
     "iopub.status.busy": "2023-09-07T21:50:24.889097Z",
     "iopub.status.idle": "2023-09-07T21:50:25.077437Z",
     "shell.execute_reply": "2023-09-07T21:50:25.077119Z"
    },
    "papermill": {
     "duration": 0.199437,
     "end_time": "2023-09-07T21:50:25.078312",
     "exception": false,
     "start_time": "2023-09-07T21:50:24.878875",
     "status": "completed"
    },
    "tags": []
   },
   "outputs": [],
   "source": [
    "!find ${CODE_DIR} -regex '^.*\\(__pycache__\\)$' -print"
   ]
  },
  {
   "cell_type": "markdown",
   "id": "35a04385-a901-4726-82a6-a01f16281efe",
   "metadata": {
    "papermill": {
     "duration": 0.009595,
     "end_time": "2023-09-07T21:50:25.089323",
     "exception": false,
     "start_time": "2023-09-07T21:50:25.079728",
     "status": "completed"
    },
    "tags": []
   },
   "source": [
    "# Modules"
   ]
  },
  {
   "cell_type": "code",
   "execution_count": 6,
   "id": "a75c4496-d379-4668-905d-0e9136981f0c",
   "metadata": {
    "execution": {
     "iopub.execute_input": "2023-09-07T21:50:25.097159Z",
     "iopub.status.busy": "2023-09-07T21:50:25.096955Z",
     "iopub.status.idle": "2023-09-07T21:50:28.783808Z",
     "shell.execute_reply": "2023-09-07T21:50:28.783556Z"
    },
    "papermill": {
     "duration": 3.690496,
     "end_time": "2023-09-07T21:50:28.784522",
     "exception": false,
     "start_time": "2023-09-07T21:50:25.094026",
     "status": "completed"
    },
    "tags": []
   },
   "outputs": [],
   "source": [
    "import numpy as np\n",
    "\n",
    "from ccc.coef import ccc"
   ]
  },
  {
   "cell_type": "code",
   "execution_count": 7,
   "id": "1a58ccf8-1bf5-4177-9b06-944a0d57655a",
   "metadata": {
    "execution": {
     "iopub.execute_input": "2023-09-07T21:50:28.796329Z",
     "iopub.status.busy": "2023-09-07T21:50:28.796236Z",
     "iopub.status.idle": "2023-09-07T21:50:28.800266Z",
     "shell.execute_reply": "2023-09-07T21:50:28.800135Z"
    },
    "papermill": {
     "duration": 0.014803,
     "end_time": "2023-09-07T21:50:28.800794",
     "exception": false,
     "start_time": "2023-09-07T21:50:28.785991",
     "status": "completed"
    },
    "tags": []
   },
   "outputs": [
    {
     "data": {
      "text/plain": [
       "0.20454545454545456"
      ]
     },
     "execution_count": 7,
     "metadata": {},
     "output_type": "execute_result"
    }
   ],
   "source": [
    "# let numba compile all the code before profiling\n",
    "ccc(np.random.rand(10), np.random.rand(10))"
   ]
  },
  {
   "cell_type": "markdown",
   "id": "2c92a1ad-2fc9-4a16-a5f8-fce685246996",
   "metadata": {
    "papermill": {
     "duration": 0.001156,
     "end_time": "2023-09-07T21:50:28.803229",
     "exception": false,
     "start_time": "2023-09-07T21:50:28.802073",
     "status": "completed"
    },
    "tags": []
   },
   "source": [
    "# Data"
   ]
  },
  {
   "cell_type": "code",
   "execution_count": 8,
   "id": "2316ffcd-a6e4-453f-bb52-779685c5c5bf",
   "metadata": {
    "execution": {
     "iopub.execute_input": "2023-09-07T21:50:28.808468Z",
     "iopub.status.busy": "2023-09-07T21:50:28.808398Z",
     "iopub.status.idle": "2023-09-07T21:50:28.809674Z",
     "shell.execute_reply": "2023-09-07T21:50:28.809542Z"
    },
    "papermill": {
     "duration": 0.004923,
     "end_time": "2023-09-07T21:50:28.810233",
     "exception": false,
     "start_time": "2023-09-07T21:50:28.805310",
     "status": "completed"
    },
    "tags": []
   },
   "outputs": [],
   "source": [
    "n_genes, n_samples = 10, 30000"
   ]
  },
  {
   "cell_type": "code",
   "execution_count": 9,
   "id": "b2f92fb1-113d-479b-8bbf-2be229e26e8f",
   "metadata": {
    "execution": {
     "iopub.execute_input": "2023-09-07T21:50:28.813938Z",
     "iopub.status.busy": "2023-09-07T21:50:28.813857Z",
     "iopub.status.idle": "2023-09-07T21:50:28.815118Z",
     "shell.execute_reply": "2023-09-07T21:50:28.814988Z"
    },
    "papermill": {
     "duration": 0.004026,
     "end_time": "2023-09-07T21:50:28.815525",
     "exception": false,
     "start_time": "2023-09-07T21:50:28.811499",
     "status": "completed"
    },
    "tags": []
   },
   "outputs": [],
   "source": [
    "np.random.seed(0)"
   ]
  },
  {
   "cell_type": "code",
   "execution_count": 10,
   "id": "63638c0b-b436-48a9-93e0-db2adb939a61",
   "metadata": {
    "execution": {
     "iopub.execute_input": "2023-09-07T21:50:28.821382Z",
     "iopub.status.busy": "2023-09-07T21:50:28.821248Z",
     "iopub.status.idle": "2023-09-07T21:50:28.823688Z",
     "shell.execute_reply": "2023-09-07T21:50:28.823563Z"
    },
    "papermill": {
     "duration": 0.004618,
     "end_time": "2023-09-07T21:50:28.824154",
     "exception": false,
     "start_time": "2023-09-07T21:50:28.819536",
     "status": "completed"
    },
    "tags": []
   },
   "outputs": [],
   "source": [
    "data = np.random.rand(n_genes, n_samples)"
   ]
  },
  {
   "cell_type": "code",
   "execution_count": 11,
   "id": "808017ed-9a8a-4bf7-a3dd-42317a39ce8f",
   "metadata": {
    "execution": {
     "iopub.execute_input": "2023-09-07T21:50:28.827384Z",
     "iopub.status.busy": "2023-09-07T21:50:28.827128Z",
     "iopub.status.idle": "2023-09-07T21:50:28.829441Z",
     "shell.execute_reply": "2023-09-07T21:50:28.829254Z"
    },
    "papermill": {
     "duration": 0.004407,
     "end_time": "2023-09-07T21:50:28.829888",
     "exception": false,
     "start_time": "2023-09-07T21:50:28.825481",
     "status": "completed"
    },
    "tags": []
   },
   "outputs": [
    {
     "data": {
      "text/plain": [
       "(10, 30000)"
      ]
     },
     "execution_count": 11,
     "metadata": {},
     "output_type": "execute_result"
    }
   ],
   "source": [
    "data.shape"
   ]
  },
  {
   "cell_type": "markdown",
   "id": "716e4219-cad5-453b-8331-47d310689e03",
   "metadata": {
    "papermill": {
     "duration": 0.001246,
     "end_time": "2023-09-07T21:50:28.832473",
     "exception": false,
     "start_time": "2023-09-07T21:50:28.831227",
     "status": "completed"
    },
    "tags": []
   },
   "source": [
    "# With default `internal_n_clusters`"
   ]
  },
  {
   "cell_type": "code",
   "execution_count": 12,
   "id": "67807856-f337-4c6e-ae31-cd306577a314",
   "metadata": {
    "execution": {
     "iopub.execute_input": "2023-09-07T21:50:28.835528Z",
     "iopub.status.busy": "2023-09-07T21:50:28.835388Z",
     "iopub.status.idle": "2023-09-07T21:50:28.837187Z",
     "shell.execute_reply": "2023-09-07T21:50:28.837009Z"
    },
    "papermill": {
     "duration": 0.003781,
     "end_time": "2023-09-07T21:50:28.837599",
     "exception": false,
     "start_time": "2023-09-07T21:50:28.833818",
     "status": "completed"
    },
    "tags": []
   },
   "outputs": [],
   "source": [
    "def func():\n",
    "    n_clust = list(range(2, 10 + 1))\n",
    "    return ccc(data, internal_n_clusters=n_clust, n_jobs=2)"
   ]
  },
  {
   "cell_type": "code",
   "execution_count": 13,
   "id": "2965a695-5c0c-4e9e-8435-dcbfa610eb81",
   "metadata": {
    "execution": {
     "iopub.execute_input": "2023-09-07T21:50:28.840637Z",
     "iopub.status.busy": "2023-09-07T21:50:28.840500Z",
     "iopub.status.idle": "2023-09-07T21:51:18.270578Z",
     "shell.execute_reply": "2023-09-07T21:51:18.270078Z"
    },
    "papermill": {
     "duration": 49.433011,
     "end_time": "2023-09-07T21:51:18.271967",
     "exception": false,
     "start_time": "2023-09-07T21:50:28.838956",
     "status": "completed"
    },
    "tags": []
   },
   "outputs": [
    {
     "name": "stdout",
     "output_type": "stream",
     "text": [
      "3.07 s ± 1.62 ms per loop (mean ± std. dev. of 7 runs, 1 loop each)\n"
     ]
    }
   ],
   "source": [
    "%%timeit func()\n",
    "func()"
   ]
  },
  {
   "cell_type": "markdown",
   "id": "025974ff-06d4-4d82-9b05-03f7a84d7211",
   "metadata": {
    "papermill": {
     "duration": 0.00249,
     "end_time": "2023-09-07T21:51:21.366393",
     "exception": false,
     "start_time": "2023-09-07T21:51:21.363903",
     "status": "completed"
    },
    "tags": []
   },
   "source": [
    "# With reduced `internal_n_clusters`"
   ]
  },
  {
   "cell_type": "code",
   "execution_count": 15,
   "id": "c20c4ecf-8060-495e-92b0-eb8e0d0dfbf3",
   "metadata": {
    "execution": {
     "iopub.execute_input": "2023-09-07T21:51:21.371305Z",
     "iopub.status.busy": "2023-09-07T21:51:21.371197Z",
     "iopub.status.idle": "2023-09-07T21:51:21.373116Z",
     "shell.execute_reply": "2023-09-07T21:51:21.372833Z"
    },
    "papermill": {
     "duration": 0.004744,
     "end_time": "2023-09-07T21:51:21.373590",
     "exception": false,
     "start_time": "2023-09-07T21:51:21.368846",
     "status": "completed"
    },
    "tags": []
   },
   "outputs": [],
   "source": [
    "def func():\n",
    "    n_clust = list(range(2, 5 + 1))\n",
    "    return ccc(data, internal_n_clusters=n_clust, n_jobs=2)"
   ]
  },
  {
   "cell_type": "code",
   "execution_count": 16,
   "id": "11259d8c-3bf3-4299-b47b-211556c3bc08",
   "metadata": {
    "execution": {
     "iopub.execute_input": "2023-09-07T21:51:21.376796Z",
     "iopub.status.busy": "2023-09-07T21:51:21.376723Z",
     "iopub.status.idle": "2023-09-07T21:51:28.388036Z",
     "shell.execute_reply": "2023-09-07T21:51:28.387633Z"
    },
    "papermill": {
     "duration": 7.013668,
     "end_time": "2023-09-07T21:51:28.388694",
     "exception": false,
     "start_time": "2023-09-07T21:51:21.375026",
     "status": "completed"
    },
    "tags": []
   },
   "outputs": [
    {
     "name": "stdout",
     "output_type": "stream",
     "text": [
      "438 ms ± 219 µs per loop (mean ± std. dev. of 7 runs, 1 loop each)\n"
     ]
    }
   ],
   "source": [
    "%%timeit func()\n",
    "func()"
   ]
  },
  {
   "cell_type": "code",
   "execution_count": null,
   "id": "e2556204-1c10-4e01-8c6c-ea63ddb37530",
   "metadata": {
    "papermill": {
     "duration": 0.005575,
     "end_time": "2023-09-07T21:51:28.851104",
     "exception": false,
     "start_time": "2023-09-07T21:51:28.845529",
     "status": "completed"
    },
    "tags": []
   },
   "outputs": [],
   "source": []
  }
 ],
 "metadata": {
  "jupytext": {
   "cell_metadata_filter": "all,-execution,-papermill,-trusted",
   "notebook_metadata_filter": "-jupytext.text_representation.jupytext_version",
   "text_representation": {
    "extension": ".py",
    "format_name": "percent",
    "format_version": "1.3"
   }
  },
  "kernelspec": {
   "display_name": "Python 3 (ipykernel)",
   "language": "python",
   "name": "python3"
  },
  "language_info": {
   "codemirror_mode": {
    "name": "ipython",
    "version": 3
   },
   "file_extension": ".py",
   "mimetype": "text/x-python",
   "name": "python",
   "nbconvert_exporter": "python",
   "pygments_lexer": "ipython3",
   "version": "3.9.12"
  },
  "papermill": {
   "default_parameters": {},
   "duration": 65.47885,
   "end_time": "2023-09-07T21:51:29.069018",
   "environment_variables": {},
   "exception": null,
   "input_path": "nbs/others/05_ccc_profiling/12_cm_optimized/17_00-2_CPUs-default-many_samples.ipynb",
   "output_path": "nbs/others/05_ccc_profiling/12_cm_optimized/17_00-2_CPUs-default-many_samples.run.ipynb",
   "parameters": {},
   "start_time": "2023-09-07T21:50:23.590168",
   "version": "2.3.3"
  }
 },
 "nbformat": 4,
 "nbformat_minor": 5
}
