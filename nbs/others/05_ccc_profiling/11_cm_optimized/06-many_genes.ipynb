{
 "cells": [
  {
   "cell_type": "markdown",
   "id": "507e9319-381b-4934-987c-2958e7f6ace7",
   "metadata": {
    "papermill": {
     "duration": 0.063067,
     "end_time": "2021-12-02T04:54:41.010848",
     "exception": false,
     "start_time": "2021-12-02T04:54:40.947781",
     "status": "completed"
    },
    "tags": []
   },
   "source": [
    "# Description"
   ]
  },
  {
   "cell_type": "markdown",
   "id": "9a88f2a7-3773-459c-8fdc-c69c1b0bb338",
   "metadata": {
    "papermill": {
     "duration": 0.036602,
     "end_time": "2021-12-02T04:54:41.090292",
     "exception": false,
     "start_time": "2021-12-02T04:54:41.053690",
     "status": "completed"
    },
    "tags": []
   },
   "source": [
    "Clustermatch run using a larger number of genes."
   ]
  },
  {
   "cell_type": "markdown",
   "id": "72de9f6f-dc00-435e-9dba-871db859a78a",
   "metadata": {
    "papermill": {
     "duration": 0.034206,
     "end_time": "2021-12-02T04:54:41.159443",
     "exception": false,
     "start_time": "2021-12-02T04:54:41.125237",
     "status": "completed"
    },
    "tags": []
   },
   "source": [
    "# Remove pycache dir"
   ]
  },
  {
   "cell_type": "code",
   "execution_count": 1,
   "id": "88d32361-f1b5-4cf0-9a2c-7ab927d14b42",
   "metadata": {
    "execution": {
     "iopub.execute_input": "2021-12-02T04:54:41.233768Z",
     "iopub.status.busy": "2021-12-02T04:54:41.233319Z",
     "iopub.status.idle": "2021-12-02T04:54:41.818757Z",
     "shell.execute_reply": "2021-12-02T04:54:41.820228Z"
    },
    "papermill": {
     "duration": 0.627925,
     "end_time": "2021-12-02T04:54:41.820912",
     "exception": false,
     "start_time": "2021-12-02T04:54:41.192987",
     "status": "completed"
    },
    "tags": []
   },
   "outputs": [
    {
     "name": "stdout",
     "output_type": "stream",
     "text": [
      "/opt/code\r\n"
     ]
    }
   ],
   "source": [
    "!echo ${CODE_DIR}"
   ]
  },
  {
   "cell_type": "code",
   "execution_count": 2,
   "id": "8a27da6e-cf59-4276-888b-57e98fd23ccf",
   "metadata": {
    "execution": {
     "iopub.execute_input": "2021-12-02T04:54:41.895697Z",
     "iopub.status.busy": "2021-12-02T04:54:41.895221Z",
     "iopub.status.idle": "2021-12-02T04:54:42.493909Z",
     "shell.execute_reply": "2021-12-02T04:54:42.495705Z"
    },
    "papermill": {
     "duration": 0.639895,
     "end_time": "2021-12-02T04:54:42.496180",
     "exception": false,
     "start_time": "2021-12-02T04:54:41.856285",
     "status": "completed"
    },
    "tags": []
   },
   "outputs": [
    {
     "name": "stdout",
     "output_type": "stream",
     "text": [
      "/opt/code/libs/clustermatch/__pycache__\r\n",
      "/opt/code/libs/clustermatch/sklearn/__pycache__\r\n",
      "/opt/code/libs/clustermatch/scipy/__pycache__\r\n",
      "/opt/code/libs/clustermatch/pytorch/__pycache__\r\n"
     ]
    }
   ],
   "source": [
    "!find ${CODE_DIR} -regex '^.*\\(__pycache__\\)$' -print"
   ]
  },
  {
   "cell_type": "code",
   "execution_count": 3,
   "id": "561480f7-c610-4f60-b40f-8100974ab4d1",
   "metadata": {
    "execution": {
     "iopub.execute_input": "2021-12-02T04:54:42.607578Z",
     "iopub.status.busy": "2021-12-02T04:54:42.604517Z",
     "iopub.status.idle": "2021-12-02T04:54:43.225394Z",
     "shell.execute_reply": "2021-12-02T04:54:43.223462Z"
    },
    "papermill": {
     "duration": 0.66041,
     "end_time": "2021-12-02T04:54:43.225770",
     "exception": false,
     "start_time": "2021-12-02T04:54:42.565360",
     "status": "completed"
    },
    "tags": []
   },
   "outputs": [
    {
     "name": "stdout",
     "output_type": "stream",
     "text": [
      "find: ‘/opt/code/libs/clustermatch/__pycache__’: No such file or directory\r\n",
      "find: ‘/opt/code/libs/clustermatch/sklearn/__pycache__’: No such file or directory\r\n",
      "find: ‘/opt/code/libs/clustermatch/scipy/__pycache__’: No such file or directory\r\n",
      "find: ‘/opt/code/libs/clustermatch/pytorch/__pycache__’: No such file or directory\r\n"
     ]
    }
   ],
   "source": [
    "!find ${CODE_DIR} -regex '^.*\\(__pycache__\\)$' -exec rm -rf {} \\;"
   ]
  },
  {
   "cell_type": "code",
   "execution_count": 4,
   "id": "a5c90a17-c0ac-49f0-968d-ea9ea8710b00",
   "metadata": {
    "execution": {
     "iopub.execute_input": "2021-12-02T04:54:43.339179Z",
     "iopub.status.busy": "2021-12-02T04:54:43.336569Z",
     "iopub.status.idle": "2021-12-02T04:54:43.946905Z",
     "shell.execute_reply": "2021-12-02T04:54:43.945347Z"
    },
    "papermill": {
     "duration": 0.650877,
     "end_time": "2021-12-02T04:54:43.947295",
     "exception": false,
     "start_time": "2021-12-02T04:54:43.296418",
     "status": "completed"
    },
    "tags": []
   },
   "outputs": [],
   "source": [
    "!find ${CODE_DIR} -regex '^.*\\(__pycache__\\)$' -print"
   ]
  },
  {
   "cell_type": "markdown",
   "id": "145563a2-3e46-4f62-8191-7444a0b315bb",
   "metadata": {
    "papermill": {
     "duration": 0.035542,
     "end_time": "2021-12-02T04:54:44.052030",
     "exception": false,
     "start_time": "2021-12-02T04:54:44.016488",
     "status": "completed"
    },
    "tags": []
   },
   "source": [
    "# Modules"
   ]
  },
  {
   "cell_type": "code",
   "execution_count": 5,
   "id": "bea3d48e-8823-403f-90f5-aea8a17b357c",
   "metadata": {
    "execution": {
     "iopub.execute_input": "2021-12-02T04:54:44.129271Z",
     "iopub.status.busy": "2021-12-02T04:54:44.128813Z",
     "iopub.status.idle": "2021-12-02T04:54:44.450031Z",
     "shell.execute_reply": "2021-12-02T04:54:44.450369Z"
    },
    "papermill": {
     "duration": 0.362043,
     "end_time": "2021-12-02T04:54:44.450488",
     "exception": false,
     "start_time": "2021-12-02T04:54:44.088445",
     "status": "completed"
    },
    "tags": []
   },
   "outputs": [],
   "source": [
    "import numpy as np\n",
    "\n",
    "from ccc.coef import ccc"
   ]
  },
  {
   "cell_type": "code",
   "execution_count": 6,
   "id": "df6b3793-930b-4c54-9f29-ecc47fc586fb",
   "metadata": {
    "execution": {
     "iopub.execute_input": "2021-12-02T04:54:44.526698Z",
     "iopub.status.busy": "2021-12-02T04:54:44.526251Z",
     "iopub.status.idle": "2021-12-02T04:54:53.246338Z",
     "shell.execute_reply": "2021-12-02T04:54:53.245882Z"
    },
    "papermill": {
     "duration": 8.759411,
     "end_time": "2021-12-02T04:54:53.246436",
     "exception": false,
     "start_time": "2021-12-02T04:54:44.487025",
     "status": "completed"
    },
    "tags": []
   },
   "outputs": [
    {
     "data": {
      "text/plain": [
       "0.28"
      ]
     },
     "execution_count": 6,
     "metadata": {},
     "output_type": "execute_result"
    }
   ],
   "source": [
    "# let numba compile all the code before profiling\n",
    "ccc(np.random.rand(10), np.random.rand(10))"
   ]
  },
  {
   "cell_type": "markdown",
   "id": "f8399ca8-265e-4e96-b582-54045cb2f9eb",
   "metadata": {
    "papermill": {
     "duration": 0.036734,
     "end_time": "2021-12-02T04:54:53.320954",
     "exception": false,
     "start_time": "2021-12-02T04:54:53.284220",
     "status": "completed"
    },
    "tags": []
   },
   "source": [
    "# Data"
   ]
  },
  {
   "cell_type": "code",
   "execution_count": 7,
   "id": "2316ffcd-a6e4-453f-bb52-779685c5c5bf",
   "metadata": {
    "execution": {
     "iopub.execute_input": "2021-12-02T04:54:53.397945Z",
     "iopub.status.busy": "2021-12-02T04:54:53.397500Z",
     "iopub.status.idle": "2021-12-02T04:54:53.399405Z",
     "shell.execute_reply": "2021-12-02T04:54:53.399043Z"
    },
    "papermill": {
     "duration": 0.041941,
     "end_time": "2021-12-02T04:54:53.399500",
     "exception": false,
     "start_time": "2021-12-02T04:54:53.357559",
     "status": "completed"
    },
    "tags": []
   },
   "outputs": [],
   "source": [
    "n_genes, n_samples = 500, 1000"
   ]
  },
  {
   "cell_type": "code",
   "execution_count": 8,
   "id": "b2f92fb1-113d-479b-8bbf-2be229e26e8f",
   "metadata": {
    "execution": {
     "iopub.execute_input": "2021-12-02T04:54:53.478422Z",
     "iopub.status.busy": "2021-12-02T04:54:53.477956Z",
     "iopub.status.idle": "2021-12-02T04:54:53.479712Z",
     "shell.execute_reply": "2021-12-02T04:54:53.480117Z"
    },
    "papermill": {
     "duration": 0.042417,
     "end_time": "2021-12-02T04:54:53.480228",
     "exception": false,
     "start_time": "2021-12-02T04:54:53.437811",
     "status": "completed"
    },
    "tags": []
   },
   "outputs": [],
   "source": [
    "np.random.seed(0)"
   ]
  },
  {
   "cell_type": "code",
   "execution_count": 9,
   "id": "63638c0b-b436-48a9-93e0-db2adb939a61",
   "metadata": {
    "execution": {
     "iopub.execute_input": "2021-12-02T04:54:53.556736Z",
     "iopub.status.busy": "2021-12-02T04:54:53.556298Z",
     "iopub.status.idle": "2021-12-02T04:54:53.562780Z",
     "shell.execute_reply": "2021-12-02T04:54:53.562412Z"
    },
    "papermill": {
     "duration": 0.045565,
     "end_time": "2021-12-02T04:54:53.562878",
     "exception": false,
     "start_time": "2021-12-02T04:54:53.517313",
     "status": "completed"
    },
    "tags": []
   },
   "outputs": [],
   "source": [
    "data = np.random.rand(n_genes, n_samples)"
   ]
  },
  {
   "cell_type": "code",
   "execution_count": 10,
   "id": "808017ed-9a8a-4bf7-a3dd-42317a39ce8f",
   "metadata": {
    "execution": {
     "iopub.execute_input": "2021-12-02T04:54:53.641052Z",
     "iopub.status.busy": "2021-12-02T04:54:53.640577Z",
     "iopub.status.idle": "2021-12-02T04:54:53.642681Z",
     "shell.execute_reply": "2021-12-02T04:54:53.643043Z"
    },
    "papermill": {
     "duration": 0.042734,
     "end_time": "2021-12-02T04:54:53.643156",
     "exception": false,
     "start_time": "2021-12-02T04:54:53.600422",
     "status": "completed"
    },
    "tags": []
   },
   "outputs": [
    {
     "data": {
      "text/plain": [
       "(500, 1000)"
      ]
     },
     "execution_count": 10,
     "metadata": {},
     "output_type": "execute_result"
    }
   ],
   "source": [
    "data.shape"
   ]
  },
  {
   "cell_type": "markdown",
   "id": "716e4219-cad5-453b-8331-47d310689e03",
   "metadata": {
    "papermill": {
     "duration": 0.037638,
     "end_time": "2021-12-02T04:54:53.718878",
     "exception": false,
     "start_time": "2021-12-02T04:54:53.681240",
     "status": "completed"
    },
    "tags": []
   },
   "source": [
    "# Profile"
   ]
  },
  {
   "cell_type": "code",
   "execution_count": 11,
   "id": "67807856-f337-4c6e-ae31-cd306577a314",
   "metadata": {
    "execution": {
     "iopub.execute_input": "2021-12-02T04:54:53.798185Z",
     "iopub.status.busy": "2021-12-02T04:54:53.797741Z",
     "iopub.status.idle": "2021-12-02T04:54:53.800101Z",
     "shell.execute_reply": "2021-12-02T04:54:53.799590Z"
    },
    "papermill": {
     "duration": 0.043428,
     "end_time": "2021-12-02T04:54:53.800192",
     "exception": false,
     "start_time": "2021-12-02T04:54:53.756764",
     "status": "completed"
    },
    "tags": []
   },
   "outputs": [],
   "source": [
    "def func():\n",
    "    n_clust = list(range(2, 10 + 1))\n",
    "    return ccc(data, internal_n_clusters=n_clust)"
   ]
  },
  {
   "cell_type": "code",
   "execution_count": 12,
   "id": "2965a695-5c0c-4e9e-8435-dcbfa610eb81",
   "metadata": {
    "execution": {
     "iopub.execute_input": "2021-12-02T04:54:53.883448Z",
     "iopub.status.busy": "2021-12-02T04:54:53.882988Z",
     "iopub.status.idle": "2021-12-02T06:51:58.467071Z",
     "shell.execute_reply": "2021-12-02T06:51:58.467426Z"
    },
    "papermill": {
     "duration": 7024.629209,
     "end_time": "2021-12-02T06:51:58.467540",
     "exception": false,
     "start_time": "2021-12-02T04:54:53.838331",
     "status": "completed"
    },
    "tags": []
   },
   "outputs": [
    {
     "name": "stdout",
     "output_type": "stream",
     "text": [
      "7min 19s ± 3.38 s per loop (mean ± std. dev. of 7 runs, 1 loop each)\n"
     ]
    }
   ],
   "source": [
    "%%timeit func()\n",
    "func()"
   ]
  },
  {
   "cell_type": "code",
   "execution_count": 13,
   "id": "51c7a416-064a-4669-a09f-16f837d32475",
   "metadata": {
    "execution": {
     "iopub.execute_input": "2021-12-02T06:51:59.424926Z",
     "iopub.status.busy": "2021-12-02T06:51:59.424446Z",
     "iopub.status.idle": "2021-12-02T06:59:11.510778Z",
     "shell.execute_reply": "2021-12-02T06:59:11.511146Z"
    },
    "papermill": {
     "duration": 432.133084,
     "end_time": "2021-12-02T06:59:11.511260",
     "exception": false,
     "start_time": "2021-12-02T06:51:59.378176",
     "status": "completed"
    },
    "tags": []
   },
   "outputs": [
    {
     "name": "stdout",
     "output_type": "stream",
     "text": [
      " \n",
      "*** Profile printout saved to text file '06-cm_many_genes.txt'. \n"
     ]
    }
   ],
   "source": [
    "%%prun -s cumulative -l 50 -T 06-cm_many_genes.txt\n",
    "func()"
   ]
  },
  {
   "cell_type": "code",
   "execution_count": null,
   "id": "e2556204-1c10-4e01-8c6c-ea63ddb37530",
   "metadata": {
    "papermill": {
     "duration": 0.04535,
     "end_time": "2021-12-02T06:59:12.473542",
     "exception": false,
     "start_time": "2021-12-02T06:59:12.428192",
     "status": "completed"
    },
    "tags": []
   },
   "outputs": [],
   "source": []
  }
 ],
 "metadata": {
  "jupytext": {
   "cell_metadata_filter": "all,-execution,-papermill,-trusted"
  },
  "kernelspec": {
   "display_name": "Python 3 (ipykernel)",
   "language": "python",
   "name": "python3"
  },
  "language_info": {
   "codemirror_mode": {
    "name": "ipython",
    "version": 3
   },
   "file_extension": ".py",
   "mimetype": "text/x-python",
   "name": "python",
   "nbconvert_exporter": "python",
   "pygments_lexer": "ipython3",
   "version": "3.9.7"
  },
  "papermill": {
   "default_parameters": {},
   "duration": 7473.205113,
   "end_time": "2021-12-02T06:59:12.931915",
   "environment_variables": {},
   "exception": null,
   "input_path": "nbs/others/05_clustermatch_profiling/11_cm_optimized/06-many_genes.ipynb",
   "output_path": "nbs/others/05_clustermatch_profiling/11_cm_optimized/06-many_genes.run.ipynb",
   "parameters": {},
   "start_time": "2021-12-02T04:54:39.726802",
   "version": "2.3.3"
  }
 },
 "nbformat": 4,
 "nbformat_minor": 5
}
