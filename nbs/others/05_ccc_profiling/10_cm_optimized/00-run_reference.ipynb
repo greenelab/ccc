{
 "cells": [
  {
   "cell_type": "markdown",
   "id": "744d19b4-b770-43f0-90bc-7c54450f8676",
   "metadata": {
    "tags": []
   },
   "source": [
    "# Description"
   ]
  },
  {
   "cell_type": "markdown",
   "id": "771c7338-cfa3-488d-9f08-385c2f8ccd20",
   "metadata": {},
   "source": [
    "Creates a point of reference/comparison with non-optimized version of ccc."
   ]
  },
  {
   "cell_type": "markdown",
   "id": "84ba2172-a2d4-45c0-b794-d1799b4e4a78",
   "metadata": {
    "tags": []
   },
   "source": [
    "# Remove pycache dir"
   ]
  },
  {
   "cell_type": "code",
   "execution_count": 1,
   "id": "50f2a167-f39f-4e71-9fb3-1912505f9e21",
   "metadata": {},
   "outputs": [
    {
     "name": "stdout",
     "output_type": "stream",
     "text": [
      "/opt/code\n"
     ]
    }
   ],
   "source": [
    "!echo ${CODE_DIR}"
   ]
  },
  {
   "cell_type": "code",
   "execution_count": 2,
   "id": "5c0b1527-69a0-4fad-856c-83f96fafc2a9",
   "metadata": {},
   "outputs": [
    {
     "name": "stdout",
     "output_type": "stream",
     "text": [
      "/opt/code/libs/clustermatch/__pycache__\n"
     ]
    }
   ],
   "source": [
    "!find ${CODE_DIR} -regex '^.*\\(__pycache__\\)$' -print"
   ]
  },
  {
   "cell_type": "code",
   "execution_count": 3,
   "id": "b4ae32c5-7fa2-45d4-99f4-934a7f4462e6",
   "metadata": {},
   "outputs": [
    {
     "name": "stdout",
     "output_type": "stream",
     "text": [
      "find: ‘/opt/code/libs/clustermatch/__pycache__’: No such file or directory\n"
     ]
    }
   ],
   "source": [
    "!find ${CODE_DIR} -regex '^.*\\(__pycache__\\)$' -exec rm -rf {} \\;"
   ]
  },
  {
   "cell_type": "code",
   "execution_count": 4,
   "id": "27d383dc-4d7c-483f-999c-23752d3f09f7",
   "metadata": {},
   "outputs": [],
   "source": [
    "!find ${CODE_DIR} -regex '^.*\\(__pycache__\\)$' -print"
   ]
  },
  {
   "cell_type": "markdown",
   "id": "ab9c1905-6d5e-435b-a1b2-701c754d770d",
   "metadata": {
    "tags": []
   },
   "source": [
    "# Modules"
   ]
  },
  {
   "cell_type": "code",
   "execution_count": 5,
   "id": "0bd1d6fe-1df8-41e2-87bc-1a4bef0e0c83",
   "metadata": {
    "papermill": {
     "duration": 0.523444,
     "end_time": "2021-09-09T04:18:29.064564",
     "exception": false,
     "start_time": "2021-09-09T04:18:28.541120",
     "status": "completed"
    },
    "tags": []
   },
   "outputs": [],
   "source": [
    "import numpy as np\n",
    "\n",
    "from ccc.coef import _cm"
   ]
  },
  {
   "cell_type": "markdown",
   "id": "5db863ce-d030-425b-afda-2e04ea3cc55a",
   "metadata": {
    "tags": []
   },
   "source": [
    "# Settings"
   ]
  },
  {
   "cell_type": "code",
   "execution_count": 6,
   "id": "19f7405d-338c-444d-8476-01a35310edca",
   "metadata": {},
   "outputs": [],
   "source": [
    "N_REPS = 10"
   ]
  },
  {
   "cell_type": "code",
   "execution_count": 7,
   "id": "ebf0fd2b-0081-41b0-8675-27e2c7c18f5a",
   "metadata": {
    "papermill": {
     "duration": 0.012104,
     "end_time": "2021-09-09T04:18:29.104165",
     "exception": false,
     "start_time": "2021-09-09T04:18:29.092061",
     "status": "completed"
    },
    "tags": []
   },
   "outputs": [],
   "source": [
    "np.random.seed(0)"
   ]
  },
  {
   "cell_type": "markdown",
   "id": "2d239f2d-a7fd-4f16-9720-36a2a109b2ae",
   "metadata": {
    "tags": []
   },
   "source": [
    "# Setup"
   ]
  },
  {
   "cell_type": "code",
   "execution_count": 8,
   "id": "aa8bde3a-6a12-49fa-a07d-87b66b9ae447",
   "metadata": {},
   "outputs": [
    {
     "data": {
      "text/plain": [
       "(array([0.15625]),\n",
       " array([[0, 1]], dtype=uint64),\n",
       " [array([[0, 1, 1, 0, 0, 1, 0, 1, 1, 0],\n",
       "         [1, 2, 1, 1, 0, 2, 0, 2, 2, 0]], dtype=int8),\n",
       "  array([[1, 0, 0, 1, 0, 0, 0, 1, 1, 1],\n",
       "         [2, 1, 1, 2, 0, 0, 0, 2, 1, 2]], dtype=int8)])"
      ]
     },
     "execution_count": 8,
     "metadata": {},
     "output_type": "execute_result"
    }
   ],
   "source": [
    "# let numba compile all the code before profiling\n",
    "_cm.py_func(np.random.rand(10), np.random.rand(10))"
   ]
  },
  {
   "cell_type": "markdown",
   "id": "d3714f75-f5af-46bb-a10f-234a88ddbeb3",
   "metadata": {
    "papermill": {
     "duration": 0.007595,
     "end_time": "2021-09-09T04:18:29.167266",
     "exception": false,
     "start_time": "2021-09-09T04:18:29.159671",
     "status": "completed"
    },
    "tags": []
   },
   "source": [
    "# Run with `n_samples` small"
   ]
  },
  {
   "cell_type": "code",
   "execution_count": 9,
   "id": "c9d5f9c0-dc06-4a09-a57e-efa694bf1749",
   "metadata": {},
   "outputs": [],
   "source": [
    "N_SAMPLES = 100"
   ]
  },
  {
   "cell_type": "code",
   "execution_count": 10,
   "id": "67ad7e90-197e-4f7d-b285-46ead1181d22",
   "metadata": {},
   "outputs": [],
   "source": [
    "x = np.random.rand(N_SAMPLES)\n",
    "y = np.random.rand(N_SAMPLES)"
   ]
  },
  {
   "cell_type": "code",
   "execution_count": 11,
   "id": "ace87b57-029a-4738-ab3c-6cdf18d92743",
   "metadata": {
    "papermill": {
     "duration": 0.01293,
     "end_time": "2021-09-09T04:18:29.187675",
     "exception": false,
     "start_time": "2021-09-09T04:18:29.174745",
     "status": "completed"
    },
    "tags": []
   },
   "outputs": [],
   "source": [
    "def func():\n",
    "    for i in range(N_REPS):\n",
    "        # py_func accesses the original python function, not the numba-optimized one\n",
    "        # this is needed to be able to profile the function\n",
    "        _cm.py_func(x, y)"
   ]
  },
  {
   "cell_type": "code",
   "execution_count": 12,
   "id": "dcebf353-801a-4598-94e0-5c5e11002650",
   "metadata": {
    "papermill": {
     "duration": 846.646373,
     "end_time": "2021-09-09T04:32:35.842044",
     "exception": false,
     "start_time": "2021-09-09T04:18:29.195671",
     "status": "completed"
    },
    "tags": []
   },
   "outputs": [
    {
     "name": "stdout",
     "output_type": "stream",
     "text": [
      "28 ms ± 0 ns per loop (mean ± std. dev. of 1 run, 1 loop each)\n"
     ]
    }
   ],
   "source": [
    "%%timeit -n1 -r1 func()\n",
    "func()"
   ]
  },
  {
   "cell_type": "code",
   "execution_count": 13,
   "id": "31544659-dc3d-4d71-ad1c-ac86eaa5471c",
   "metadata": {
    "papermill": {
     "duration": 53.073946,
     "end_time": "2021-09-09T04:33:29.821312",
     "exception": false,
     "start_time": "2021-09-09T04:32:36.747366",
     "status": "completed"
    },
    "tags": []
   },
   "outputs": [
    {
     "name": "stdout",
     "output_type": "stream",
     "text": [
      " \n",
      "*** Profile printout saved to text file '00-n_samples_small.txt'. \n"
     ]
    },
    {
     "data": {
      "text/plain": [
       "         154 function calls in 0.034 seconds\n",
       "\n",
       "   Ordered by: cumulative time\n",
       "\n",
       "   ncalls  tottime  percall  cumtime  percall filename:lineno(function)\n",
       "        1    0.000    0.000    0.034    0.034 {built-in method builtins.exec}\n",
       "        1    0.000    0.000    0.034    0.034 <string>:1(<module>)\n",
       "        1    0.000    0.000    0.034    0.034 1556911885.py:1(func)\n",
       "       10    0.001    0.000    0.034    0.003 coef.py:265(_cm)\n",
       "       10    0.024    0.002    0.024    0.002 coef.py:198(cdist_parts)\n",
       "       20    0.009    0.000    0.009    0.000 coef.py:169(_get_parts)\n",
       "       10    0.000    0.000    0.000    0.000 {method 'argmax' of 'numpy.ndarray' objects}\n",
       "       20    0.000    0.000    0.000    0.000 coef.py:119(_get_range_n_clusters)\n",
       "       20    0.000    0.000    0.000    0.000 {built-in method numpy.zeros}\n",
       "       10    0.000    0.000    0.000    0.000 {built-in method numpy.empty}\n",
       "       10    0.000    0.000    0.000    0.000 coef.py:248(unravel_index_2d)\n",
       "       10    0.000    0.000    0.000    0.000 special.py:18(__new__)\n",
       "       10    0.000    0.000    0.000    0.000 coef.py:224(get_coords_from_index)\n",
       "       20    0.000    0.000    0.000    0.000 {method 'append' of 'list' objects}\n",
       "        1    0.000    0.000    0.000    0.000 {method 'disable' of '_lsprof.Profiler' objects}"
      ]
     },
     "metadata": {},
     "output_type": "display_data"
    }
   ],
   "source": [
    "%%prun -s cumulative -l 20 -T 00-n_samples_small.txt\n",
    "func()"
   ]
  },
  {
   "cell_type": "markdown",
   "id": "0898beaf-8835-4722-afab-b4bd07cedba0",
   "metadata": {
    "papermill": {
     "duration": 0.012311,
     "end_time": "2021-09-09T06:02:23.877354",
     "exception": false,
     "start_time": "2021-09-09T06:02:23.865043",
     "status": "completed"
    },
    "tags": []
   },
   "source": [
    "The bottleneck functions are, in order of importance:\n",
    "1. `cdist_parts`\n",
    "1. `_get_parts`"
   ]
  },
  {
   "cell_type": "markdown",
   "id": "82f960dc-d440-40bd-85d4-50c39c53883b",
   "metadata": {
    "papermill": {
     "duration": 0.007595,
     "end_time": "2021-09-09T04:18:29.167266",
     "exception": false,
     "start_time": "2021-09-09T04:18:29.159671",
     "status": "completed"
    },
    "tags": []
   },
   "source": [
    "# Run with `n_samples` large"
   ]
  },
  {
   "cell_type": "code",
   "execution_count": 14,
   "id": "084ef5d7-a222-49fd-a77e-94f815867a51",
   "metadata": {},
   "outputs": [],
   "source": [
    "N_SAMPLES = 100000"
   ]
  },
  {
   "cell_type": "code",
   "execution_count": 15,
   "id": "591c5df8-567a-4665-993f-28ee35789783",
   "metadata": {},
   "outputs": [],
   "source": [
    "x = np.random.rand(N_SAMPLES)\n",
    "y = np.random.rand(N_SAMPLES)"
   ]
  },
  {
   "cell_type": "code",
   "execution_count": 16,
   "id": "84809bcb-a33c-4005-b2d7-303250480b10",
   "metadata": {
    "papermill": {
     "duration": 0.01293,
     "end_time": "2021-09-09T04:18:29.187675",
     "exception": false,
     "start_time": "2021-09-09T04:18:29.174745",
     "status": "completed"
    },
    "tags": []
   },
   "outputs": [],
   "source": [
    "def func():\n",
    "    for i in range(N_REPS):\n",
    "        # py_func accesses the original python function, not the numba-optimized one\n",
    "        # this is needed to be able to profile the function\n",
    "        _cm.py_func(x, y)"
   ]
  },
  {
   "cell_type": "code",
   "execution_count": 17,
   "id": "aece02aa-9cda-4858-9564-90ed5e8b498f",
   "metadata": {
    "papermill": {
     "duration": 846.646373,
     "end_time": "2021-09-09T04:32:35.842044",
     "exception": false,
     "start_time": "2021-09-09T04:18:29.195671",
     "status": "completed"
    },
    "tags": []
   },
   "outputs": [
    {
     "name": "stdout",
     "output_type": "stream",
     "text": [
      "18.7 s ± 0 ns per loop (mean ± std. dev. of 1 run, 1 loop each)\n"
     ]
    }
   ],
   "source": [
    "%%timeit -n1 -r1 func()\n",
    "func()"
   ]
  },
  {
   "cell_type": "code",
   "execution_count": 18,
   "id": "854571cc-af6e-4224-8db4-951ec25b7eff",
   "metadata": {
    "papermill": {
     "duration": 53.073946,
     "end_time": "2021-09-09T04:33:29.821312",
     "exception": false,
     "start_time": "2021-09-09T04:32:36.747366",
     "status": "completed"
    },
    "tags": []
   },
   "outputs": [
    {
     "name": "stdout",
     "output_type": "stream",
     "text": [
      " \n",
      "*** Profile printout saved to text file '00-n_samples_large.txt'. \n"
     ]
    },
    {
     "data": {
      "text/plain": [
       "         154 function calls in 18.817 seconds\n",
       "\n",
       "   Ordered by: cumulative time\n",
       "\n",
       "   ncalls  tottime  percall  cumtime  percall filename:lineno(function)\n",
       "        1    0.000    0.000   18.817   18.817 {built-in method builtins.exec}\n",
       "        1    0.000    0.000   18.817   18.817 <string>:1(<module>)\n",
       "        1    0.004    0.004   18.817   18.817 1556911885.py:1(func)\n",
       "       10    0.008    0.001   18.813    1.881 coef.py:265(_cm)\n",
       "       20   10.568    0.528   10.568    0.528 coef.py:169(_get_parts)\n",
       "       10    8.237    0.824    8.237    0.824 coef.py:198(cdist_parts)\n",
       "       20    0.001    0.000    0.001    0.000 {built-in method numpy.zeros}\n",
       "       10    0.000    0.000    0.000    0.000 {method 'argmax' of 'numpy.ndarray' objects}\n",
       "       20    0.000    0.000    0.000    0.000 coef.py:119(_get_range_n_clusters)\n",
       "       10    0.000    0.000    0.000    0.000 {built-in method numpy.empty}\n",
       "       10    0.000    0.000    0.000    0.000 special.py:18(__new__)\n",
       "       10    0.000    0.000    0.000    0.000 coef.py:248(unravel_index_2d)\n",
       "       20    0.000    0.000    0.000    0.000 {method 'append' of 'list' objects}\n",
       "       10    0.000    0.000    0.000    0.000 coef.py:224(get_coords_from_index)\n",
       "        1    0.000    0.000    0.000    0.000 {method 'disable' of '_lsprof.Profiler' objects}"
      ]
     },
     "metadata": {},
     "output_type": "display_data"
    }
   ],
   "source": [
    "%%prun -s cumulative -l 20 -T 00-n_samples_large.txt\n",
    "func()"
   ]
  },
  {
   "cell_type": "markdown",
   "id": "d43603ed-d80e-40ea-81a6-4a009ec6c113",
   "metadata": {
    "papermill": {
     "duration": 0.012311,
     "end_time": "2021-09-09T06:02:23.877354",
     "exception": false,
     "start_time": "2021-09-09T06:02:23.865043",
     "status": "completed"
    },
    "tags": []
   },
   "source": [
    "The bottleneck functions now are **different**, in order of importance:\n",
    "1. `_get_parts`\n",
    "1. `cdist_parts`"
   ]
  },
  {
   "cell_type": "code",
   "execution_count": null,
   "id": "cd78b9b5-0aaf-4aaa-a4d3-e45d73a5ee38",
   "metadata": {},
   "outputs": [],
   "source": []
  }
 ],
 "metadata": {
  "jupytext": {
   "cell_metadata_filter": "all,-execution,-papermill,-trusted"
  },
  "kernelspec": {
   "display_name": "Python 3 (ipykernel)",
   "language": "python",
   "name": "python3"
  },
  "language_info": {
   "codemirror_mode": {
    "name": "ipython",
    "version": 3
   },
   "file_extension": ".py",
   "mimetype": "text/x-python",
   "name": "python",
   "nbconvert_exporter": "python",
   "pygments_lexer": "ipython3",
   "version": "3.9.7"
  },
  "papermill": {
   "default_parameters": {},
   "duration": 6236.82934,
   "end_time": "2021-09-09T06:02:24.316630",
   "environment_variables": {},
   "exception": null,
   "input_path": "nbs/04_clustermatch_profiling/04-compare_numba_ari.ipynb",
   "output_path": "nbs/04_clustermatch_profiling/04-compare_numba_ari.run.ipynb",
   "parameters": {},
   "start_time": "2021-09-09T04:18:27.487290",
   "version": "2.3.3"
  }
 },
 "nbformat": 4,
 "nbformat_minor": 5
}
