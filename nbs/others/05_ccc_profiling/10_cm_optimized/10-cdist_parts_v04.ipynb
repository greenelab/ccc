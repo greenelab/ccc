{
 "cells": [
  {
   "cell_type": "markdown",
   "id": "36c65ddb-8246-4b0c-a231-68a373acc2cf",
   "metadata": {
    "papermill": {
     "duration": 0.101131,
     "end_time": "2021-12-02T04:36:57.333310",
     "exception": false,
     "start_time": "2021-12-02T04:36:57.232179",
     "status": "completed"
    },
    "tags": []
   },
   "source": [
    "# Description"
   ]
  },
  {
   "cell_type": "markdown",
   "id": "337633a8-d03e-4509-b89d-f8daee598958",
   "metadata": {
    "papermill": {
     "duration": 0.093397,
     "end_time": "2021-12-02T04:36:57.520462",
     "exception": false,
     "start_time": "2021-12-02T04:36:57.427065",
     "status": "completed"
    },
    "tags": []
   },
   "source": [
    "Exactly the same code as in `09`, but here I disable numba."
   ]
  },
  {
   "cell_type": "markdown",
   "id": "63c2b099-cc44-4fe2-93d1-40336e0a8466",
   "metadata": {
    "papermill": {
     "duration": 0.095211,
     "end_time": "2021-12-02T04:36:57.716055",
     "exception": false,
     "start_time": "2021-12-02T04:36:57.620844",
     "status": "completed"
    },
    "tags": []
   },
   "source": [
    "# Disable numba"
   ]
  },
  {
   "cell_type": "code",
   "execution_count": 1,
   "id": "20cbd5fd-aeb9-448f-91d9-9ff2d12c9c22",
   "metadata": {
    "execution": {
     "iopub.execute_input": "2021-12-02T04:36:57.911147Z",
     "iopub.status.busy": "2021-12-02T04:36:57.910632Z",
     "iopub.status.idle": "2021-12-02T04:36:57.914417Z",
     "shell.execute_reply": "2021-12-02T04:36:57.913918Z"
    },
    "papermill": {
     "duration": 0.105032,
     "end_time": "2021-12-02T04:36:57.914518",
     "exception": false,
     "start_time": "2021-12-02T04:36:57.809486",
     "status": "completed"
    },
    "tags": []
   },
   "outputs": [
    {
     "name": "stdout",
     "output_type": "stream",
     "text": [
      "env: NUMBA_DISABLE_JIT=1\n"
     ]
    }
   ],
   "source": [
    "%env NUMBA_DISABLE_JIT=1"
   ]
  },
  {
   "cell_type": "markdown",
   "id": "94028e4a-a49a-47b1-94c1-9eddd4e4a488",
   "metadata": {
    "papermill": {
     "duration": 0.095296,
     "end_time": "2021-12-02T04:36:58.107054",
     "exception": false,
     "start_time": "2021-12-02T04:36:58.011758",
     "status": "completed"
    },
    "tags": []
   },
   "source": [
    "# Remove pycache dir"
   ]
  },
  {
   "cell_type": "code",
   "execution_count": 2,
   "id": "960c4ff0-2a73-4eaa-97d6-3269102233eb",
   "metadata": {
    "execution": {
     "iopub.execute_input": "2021-12-02T04:36:58.301605Z",
     "iopub.status.busy": "2021-12-02T04:36:58.301130Z",
     "iopub.status.idle": "2021-12-02T04:36:58.896724Z",
     "shell.execute_reply": "2021-12-02T04:36:58.898251Z"
    },
    "papermill": {
     "duration": 0.695866,
     "end_time": "2021-12-02T04:36:58.898699",
     "exception": false,
     "start_time": "2021-12-02T04:36:58.202833",
     "status": "completed"
    },
    "tags": []
   },
   "outputs": [
    {
     "name": "stdout",
     "output_type": "stream",
     "text": [
      "/opt/code\r\n"
     ]
    }
   ],
   "source": [
    "!echo ${CODE_DIR}"
   ]
  },
  {
   "cell_type": "code",
   "execution_count": 3,
   "id": "e18db58a-316a-445b-a376-8b2ec18e08d8",
   "metadata": {
    "execution": {
     "iopub.execute_input": "2021-12-02T04:36:59.126956Z",
     "iopub.status.busy": "2021-12-02T04:36:59.126507Z",
     "iopub.status.idle": "2021-12-02T04:36:59.738873Z",
     "shell.execute_reply": "2021-12-02T04:36:59.737339Z"
    },
    "papermill": {
     "duration": 0.711841,
     "end_time": "2021-12-02T04:36:59.739258",
     "exception": false,
     "start_time": "2021-12-02T04:36:59.027417",
     "status": "completed"
    },
    "tags": []
   },
   "outputs": [
    {
     "name": "stdout",
     "output_type": "stream",
     "text": [
      "/opt/code/libs/clustermatch/__pycache__\r\n",
      "/opt/code/libs/clustermatch/sklearn/__pycache__\r\n",
      "/opt/code/libs/clustermatch/scipy/__pycache__\r\n",
      "/opt/code/libs/clustermatch/pytorch/__pycache__\r\n"
     ]
    }
   ],
   "source": [
    "!find ${CODE_DIR} -regex '^.*\\(__pycache__\\)$' -print"
   ]
  },
  {
   "cell_type": "code",
   "execution_count": 4,
   "id": "b54099b0-a990-4bbd-bcbd-e206eb0f0f0e",
   "metadata": {
    "execution": {
     "iopub.execute_input": "2021-12-02T04:36:59.968702Z",
     "iopub.status.busy": "2021-12-02T04:36:59.968236Z",
     "iopub.status.idle": "2021-12-02T04:37:00.578610Z",
     "shell.execute_reply": "2021-12-02T04:37:00.576770Z"
    },
    "papermill": {
     "duration": 0.710822,
     "end_time": "2021-12-02T04:37:00.578986",
     "exception": false,
     "start_time": "2021-12-02T04:36:59.868164",
     "status": "completed"
    },
    "tags": []
   },
   "outputs": [],
   "source": [
    "!find ${CODE_DIR} -regex '^.*\\(__pycache__\\)$' -prune -exec rm -rf {} \\;"
   ]
  },
  {
   "cell_type": "code",
   "execution_count": 5,
   "id": "7a9a8098-8160-46bf-8d83-bc398cbe2382",
   "metadata": {
    "execution": {
     "iopub.execute_input": "2021-12-02T04:37:00.786314Z",
     "iopub.status.busy": "2021-12-02T04:37:00.785859Z",
     "iopub.status.idle": "2021-12-02T04:37:01.385162Z",
     "shell.execute_reply": "2021-12-02T04:37:01.383549Z"
    },
    "papermill": {
     "duration": 0.699623,
     "end_time": "2021-12-02T04:37:01.385635",
     "exception": false,
     "start_time": "2021-12-02T04:37:00.686012",
     "status": "completed"
    },
    "tags": []
   },
   "outputs": [],
   "source": [
    "!find ${CODE_DIR} -regex '^.*\\(__pycache__\\)$' -print"
   ]
  },
  {
   "cell_type": "markdown",
   "id": "c2251313-41ac-46fd-a845-0f209689ecf6",
   "metadata": {
    "papermill": {
     "duration": 0.100188,
     "end_time": "2021-12-02T04:37:01.613793",
     "exception": false,
     "start_time": "2021-12-02T04:37:01.513605",
     "status": "completed"
    },
    "tags": []
   },
   "source": [
    "# Modules"
   ]
  },
  {
   "cell_type": "code",
   "execution_count": 6,
   "id": "987ef5f1-be49-4a6c-a4f4-b24a0a2094cb",
   "metadata": {
    "execution": {
     "iopub.execute_input": "2021-12-02T04:37:01.816619Z",
     "iopub.status.busy": "2021-12-02T04:37:01.816158Z",
     "iopub.status.idle": "2021-12-02T04:37:02.101993Z",
     "shell.execute_reply": "2021-12-02T04:37:02.102363Z"
    },
    "papermill": {
     "duration": 0.386175,
     "end_time": "2021-12-02T04:37:02.102492",
     "exception": false,
     "start_time": "2021-12-02T04:37:01.716317",
     "status": "completed"
    },
    "tags": []
   },
   "outputs": [],
   "source": [
    "import numpy as np\n",
    "\n",
    "from ccc.coef import ccc"
   ]
  },
  {
   "cell_type": "markdown",
   "id": "24399ccb-d33d-4bad-9baf-638c9c56feb2",
   "metadata": {
    "papermill": {
     "duration": 0.096349,
     "end_time": "2021-12-02T04:37:02.297213",
     "exception": false,
     "start_time": "2021-12-02T04:37:02.200864",
     "status": "completed"
    },
    "tags": []
   },
   "source": [
    "# Settings"
   ]
  },
  {
   "cell_type": "code",
   "execution_count": 7,
   "id": "c609cefa-f513-4cf8-9573-367744e31c5f",
   "metadata": {
    "execution": {
     "iopub.execute_input": "2021-12-02T04:37:02.493291Z",
     "iopub.status.busy": "2021-12-02T04:37:02.492829Z",
     "iopub.status.idle": "2021-12-02T04:37:02.494753Z",
     "shell.execute_reply": "2021-12-02T04:37:02.494311Z"
    },
    "papermill": {
     "duration": 0.101239,
     "end_time": "2021-12-02T04:37:02.494848",
     "exception": false,
     "start_time": "2021-12-02T04:37:02.393609",
     "status": "completed"
    },
    "tags": []
   },
   "outputs": [],
   "source": [
    "N_REPS = 10"
   ]
  },
  {
   "cell_type": "code",
   "execution_count": 8,
   "id": "c0341a42-b8de-419f-ab37-1e4fee9dde75",
   "metadata": {
    "execution": {
     "iopub.execute_input": "2021-12-02T04:37:02.702329Z",
     "iopub.status.busy": "2021-12-02T04:37:02.701871Z",
     "iopub.status.idle": "2021-12-02T04:37:02.703366Z",
     "shell.execute_reply": "2021-12-02T04:37:02.703704Z"
    },
    "papermill": {
     "duration": 0.1113,
     "end_time": "2021-12-02T04:37:02.703820",
     "exception": false,
     "start_time": "2021-12-02T04:37:02.592520",
     "status": "completed"
    },
    "tags": []
   },
   "outputs": [],
   "source": [
    "np.random.seed(0)"
   ]
  },
  {
   "cell_type": "markdown",
   "id": "6fd3067b-a4f7-475e-9575-20246934537d",
   "metadata": {
    "papermill": {
     "duration": 0.096196,
     "end_time": "2021-12-02T04:37:02.897029",
     "exception": false,
     "start_time": "2021-12-02T04:37:02.800833",
     "status": "completed"
    },
    "tags": []
   },
   "source": [
    "# Setup"
   ]
  },
  {
   "cell_type": "code",
   "execution_count": 9,
   "id": "02e0507c-43ff-4693-8a3b-8ccd8f23168c",
   "metadata": {
    "execution": {
     "iopub.execute_input": "2021-12-02T04:37:03.093628Z",
     "iopub.status.busy": "2021-12-02T04:37:03.093157Z",
     "iopub.status.idle": "2021-12-02T04:37:03.105727Z",
     "shell.execute_reply": "2021-12-02T04:37:03.105340Z"
    },
    "papermill": {
     "duration": 0.112075,
     "end_time": "2021-12-02T04:37:03.105822",
     "exception": false,
     "start_time": "2021-12-02T04:37:02.993747",
     "status": "completed"
    },
    "tags": []
   },
   "outputs": [
    {
     "data": {
      "text/plain": [
       "0.15625"
      ]
     },
     "execution_count": 9,
     "metadata": {},
     "output_type": "execute_result"
    }
   ],
   "source": [
    "# let numba compile all the code before profiling\n",
    "ccc(np.random.rand(10), np.random.rand(10))"
   ]
  },
  {
   "cell_type": "markdown",
   "id": "8549179d-1517-4a40-9a51-b95dc02d0fcc",
   "metadata": {
    "papermill": {
     "duration": 0.096529,
     "end_time": "2021-12-02T04:37:03.300110",
     "exception": false,
     "start_time": "2021-12-02T04:37:03.203581",
     "status": "completed"
    },
    "tags": []
   },
   "source": [
    "# Run with `n_samples` small"
   ]
  },
  {
   "cell_type": "markdown",
   "id": "13ba811b",
   "metadata": {
    "papermill": {
     "duration": 0.096047,
     "end_time": "2021-12-02T04:37:03.492931",
     "exception": false,
     "start_time": "2021-12-02T04:37:03.396884",
     "status": "completed"
    },
    "tags": []
   },
   "source": [
    "## `n_samples=50`"
   ]
  },
  {
   "cell_type": "code",
   "execution_count": 10,
   "id": "68064f0b",
   "metadata": {
    "execution": {
     "iopub.execute_input": "2021-12-02T04:37:03.698806Z",
     "iopub.status.busy": "2021-12-02T04:37:03.698362Z",
     "iopub.status.idle": "2021-12-02T04:37:03.700293Z",
     "shell.execute_reply": "2021-12-02T04:37:03.699905Z"
    },
    "papermill": {
     "duration": 0.111014,
     "end_time": "2021-12-02T04:37:03.700387",
     "exception": false,
     "start_time": "2021-12-02T04:37:03.589373",
     "status": "completed"
    },
    "tags": []
   },
   "outputs": [],
   "source": [
    "N_SAMPLES = 50"
   ]
  },
  {
   "cell_type": "code",
   "execution_count": 11,
   "id": "6f2ff213-d6b7-458f-acbf-8c73dd497a2a",
   "metadata": {
    "execution": {
     "iopub.execute_input": "2021-12-02T04:37:03.899082Z",
     "iopub.status.busy": "2021-12-02T04:37:03.898619Z",
     "iopub.status.idle": "2021-12-02T04:37:03.900173Z",
     "shell.execute_reply": "2021-12-02T04:37:03.900511Z"
    },
    "papermill": {
     "duration": 0.102818,
     "end_time": "2021-12-02T04:37:03.900627",
     "exception": false,
     "start_time": "2021-12-02T04:37:03.797809",
     "status": "completed"
    },
    "tags": []
   },
   "outputs": [],
   "source": [
    "x = np.random.rand(N_SAMPLES)\n",
    "y = np.random.rand(N_SAMPLES)"
   ]
  },
  {
   "cell_type": "code",
   "execution_count": 12,
   "id": "d63012be-4fc7-4fba-bccd-ad155905d1d6",
   "metadata": {
    "execution": {
     "iopub.execute_input": "2021-12-02T04:37:04.100786Z",
     "iopub.status.busy": "2021-12-02T04:37:04.100336Z",
     "iopub.status.idle": "2021-12-02T04:37:04.102671Z",
     "shell.execute_reply": "2021-12-02T04:37:04.102239Z"
    },
    "papermill": {
     "duration": 0.104055,
     "end_time": "2021-12-02T04:37:04.102764",
     "exception": false,
     "start_time": "2021-12-02T04:37:03.998709",
     "status": "completed"
    },
    "tags": []
   },
   "outputs": [],
   "source": [
    "def func():\n",
    "    for i in range(N_REPS):\n",
    "        ccc(x, y)"
   ]
  },
  {
   "cell_type": "code",
   "execution_count": 13,
   "id": "c0abc65a-2f3c-4476-9c2a-f8d7753b75e6",
   "metadata": {
    "execution": {
     "iopub.execute_input": "2021-12-02T04:37:04.301684Z",
     "iopub.status.busy": "2021-12-02T04:37:04.301217Z",
     "iopub.status.idle": "2021-12-02T04:37:16.833925Z",
     "shell.execute_reply": "2021-12-02T04:37:16.833506Z"
    },
    "papermill": {
     "duration": 12.634709,
     "end_time": "2021-12-02T04:37:16.834035",
     "exception": false,
     "start_time": "2021-12-02T04:37:04.199326",
     "status": "completed"
    },
    "tags": []
   },
   "outputs": [
    {
     "name": "stdout",
     "output_type": "stream",
     "text": [
      "141 ms ± 14 ms per loop (mean ± std. dev. of 7 runs, 10 loops each)\n"
     ]
    }
   ],
   "source": [
    "%%timeit func()\n",
    "func()"
   ]
  },
  {
   "cell_type": "code",
   "execution_count": 14,
   "id": "e80a7b02-310f-4bd9-90d5-2a41186db39e",
   "metadata": {
    "execution": {
     "iopub.execute_input": "2021-12-02T04:37:17.040287Z",
     "iopub.status.busy": "2021-12-02T04:37:17.039804Z",
     "iopub.status.idle": "2021-12-02T04:37:17.163025Z",
     "shell.execute_reply": "2021-12-02T04:37:17.162557Z"
    },
    "papermill": {
     "duration": 0.22787,
     "end_time": "2021-12-02T04:37:17.163123",
     "exception": false,
     "start_time": "2021-12-02T04:37:16.935253",
     "status": "completed"
    },
    "tags": []
   },
   "outputs": [
    {
     "name": "stdout",
     "output_type": "stream",
     "text": [
      " \n",
      "*** Profile printout saved to text file '10-n_samples_small_50.txt'. \n"
     ]
    }
   ],
   "source": [
    "%%prun -s cumulative -l 20 -T 10-n_samples_small_50.txt\n",
    "func()"
   ]
  },
  {
   "cell_type": "markdown",
   "id": "2548440c",
   "metadata": {
    "papermill": {
     "duration": 0.100385,
     "end_time": "2021-12-02T04:37:17.364961",
     "exception": false,
     "start_time": "2021-12-02T04:37:17.264576",
     "status": "completed"
    },
    "tags": []
   },
   "source": [
    "## `n_samples=100`"
   ]
  },
  {
   "cell_type": "code",
   "execution_count": 15,
   "id": "ddb768d7-9b74-424c-bdb9-9e52b9e5b181",
   "metadata": {
    "execution": {
     "iopub.execute_input": "2021-12-02T04:37:17.599561Z",
     "iopub.status.busy": "2021-12-02T04:37:17.599055Z",
     "iopub.status.idle": "2021-12-02T04:37:17.600565Z",
     "shell.execute_reply": "2021-12-02T04:37:17.600913Z"
    },
    "papermill": {
     "duration": 0.111244,
     "end_time": "2021-12-02T04:37:17.601022",
     "exception": false,
     "start_time": "2021-12-02T04:37:17.489778",
     "status": "completed"
    },
    "tags": []
   },
   "outputs": [],
   "source": [
    "N_SAMPLES = 100"
   ]
  },
  {
   "cell_type": "code",
   "execution_count": 16,
   "id": "161cf922-41f7-4ced-af1f-e3d25b36b200",
   "metadata": {
    "execution": {
     "iopub.execute_input": "2021-12-02T04:37:17.809636Z",
     "iopub.status.busy": "2021-12-02T04:37:17.809179Z",
     "iopub.status.idle": "2021-12-02T04:37:17.811012Z",
     "shell.execute_reply": "2021-12-02T04:37:17.810630Z"
    },
    "papermill": {
     "duration": 0.105356,
     "end_time": "2021-12-02T04:37:17.811111",
     "exception": false,
     "start_time": "2021-12-02T04:37:17.705755",
     "status": "completed"
    },
    "tags": []
   },
   "outputs": [],
   "source": [
    "x = np.random.rand(N_SAMPLES)\n",
    "y = np.random.rand(N_SAMPLES)"
   ]
  },
  {
   "cell_type": "code",
   "execution_count": 17,
   "id": "ede7a328-bad3-40a2-a179-1148a3229620",
   "metadata": {
    "execution": {
     "iopub.execute_input": "2021-12-02T04:37:18.013003Z",
     "iopub.status.busy": "2021-12-02T04:37:18.012549Z",
     "iopub.status.idle": "2021-12-02T04:37:18.014398Z",
     "shell.execute_reply": "2021-12-02T04:37:18.014016Z"
    },
    "papermill": {
     "duration": 0.104201,
     "end_time": "2021-12-02T04:37:18.014491",
     "exception": false,
     "start_time": "2021-12-02T04:37:17.910290",
     "status": "completed"
    },
    "tags": []
   },
   "outputs": [],
   "source": [
    "def func():\n",
    "    for i in range(N_REPS):\n",
    "        ccc(x, y)"
   ]
  },
  {
   "cell_type": "code",
   "execution_count": 18,
   "id": "0a7f2b1f-4b87-4dde-a46b-2acec5ac93ba",
   "metadata": {
    "execution": {
     "iopub.execute_input": "2021-12-02T04:37:18.220053Z",
     "iopub.status.busy": "2021-12-02T04:37:18.219419Z",
     "iopub.status.idle": "2021-12-02T04:37:24.963506Z",
     "shell.execute_reply": "2021-12-02T04:37:24.962993Z"
    },
    "papermill": {
     "duration": 6.84888,
     "end_time": "2021-12-02T04:37:24.963614",
     "exception": false,
     "start_time": "2021-12-02T04:37:18.114734",
     "status": "completed"
    },
    "tags": []
   },
   "outputs": [
    {
     "name": "stdout",
     "output_type": "stream",
     "text": [
      "428 ms ± 39.1 ms per loop (mean ± std. dev. of 7 runs, 1 loop each)\n"
     ]
    }
   ],
   "source": [
    "%%timeit func()\n",
    "func()"
   ]
  },
  {
   "cell_type": "code",
   "execution_count": 19,
   "id": "74acbe27-9807-4f26-8b7e-b74d0f745b63",
   "metadata": {
    "execution": {
     "iopub.execute_input": "2021-12-02T04:37:25.171582Z",
     "iopub.status.busy": "2021-12-02T04:37:25.170725Z",
     "iopub.status.idle": "2021-12-02T04:37:25.532258Z",
     "shell.execute_reply": "2021-12-02T04:37:25.531874Z"
    },
    "papermill": {
     "duration": 0.465279,
     "end_time": "2021-12-02T04:37:25.532358",
     "exception": false,
     "start_time": "2021-12-02T04:37:25.067079",
     "status": "completed"
    },
    "tags": []
   },
   "outputs": [
    {
     "name": "stdout",
     "output_type": "stream",
     "text": [
      " \n",
      "*** Profile printout saved to text file '10-n_samples_small_100.txt'. \n"
     ]
    }
   ],
   "source": [
    "%%prun -s cumulative -l 20 -T 10-n_samples_small_100.txt\n",
    "func()"
   ]
  },
  {
   "cell_type": "markdown",
   "id": "611ff8e1",
   "metadata": {
    "papermill": {
     "duration": 0.10645,
     "end_time": "2021-12-02T04:37:25.742045",
     "exception": false,
     "start_time": "2021-12-02T04:37:25.635595",
     "status": "completed"
    },
    "tags": []
   },
   "source": [
    "## `n_samples=500`"
   ]
  },
  {
   "cell_type": "code",
   "execution_count": 20,
   "id": "4bcf4b42",
   "metadata": {
    "execution": {
     "iopub.execute_input": "2021-12-02T04:37:25.946981Z",
     "iopub.status.busy": "2021-12-02T04:37:25.946503Z",
     "iopub.status.idle": "2021-12-02T04:37:25.947981Z",
     "shell.execute_reply": "2021-12-02T04:37:25.948333Z"
    },
    "papermill": {
     "duration": 0.105745,
     "end_time": "2021-12-02T04:37:25.948446",
     "exception": false,
     "start_time": "2021-12-02T04:37:25.842701",
     "status": "completed"
    },
    "tags": []
   },
   "outputs": [],
   "source": [
    "N_SAMPLES = 500"
   ]
  },
  {
   "cell_type": "code",
   "execution_count": 21,
   "id": "0bf2f21e",
   "metadata": {
    "execution": {
     "iopub.execute_input": "2021-12-02T04:37:26.152110Z",
     "iopub.status.busy": "2021-12-02T04:37:26.151591Z",
     "iopub.status.idle": "2021-12-02T04:37:26.153920Z",
     "shell.execute_reply": "2021-12-02T04:37:26.153472Z"
    },
    "papermill": {
     "duration": 0.105277,
     "end_time": "2021-12-02T04:37:26.154017",
     "exception": false,
     "start_time": "2021-12-02T04:37:26.048740",
     "status": "completed"
    },
    "tags": []
   },
   "outputs": [],
   "source": [
    "x = np.random.rand(N_SAMPLES)\n",
    "y = np.random.rand(N_SAMPLES)"
   ]
  },
  {
   "cell_type": "code",
   "execution_count": 22,
   "id": "24c352bd",
   "metadata": {
    "execution": {
     "iopub.execute_input": "2021-12-02T04:37:26.357429Z",
     "iopub.status.busy": "2021-12-02T04:37:26.356978Z",
     "iopub.status.idle": "2021-12-02T04:37:26.358844Z",
     "shell.execute_reply": "2021-12-02T04:37:26.358481Z"
    },
    "papermill": {
     "duration": 0.104548,
     "end_time": "2021-12-02T04:37:26.358940",
     "exception": false,
     "start_time": "2021-12-02T04:37:26.254392",
     "status": "completed"
    },
    "tags": []
   },
   "outputs": [],
   "source": [
    "def func():\n",
    "    for i in range(N_REPS):\n",
    "        ccc(x, y)"
   ]
  },
  {
   "cell_type": "code",
   "execution_count": 23,
   "id": "cbde4ce6",
   "metadata": {
    "execution": {
     "iopub.execute_input": "2021-12-02T04:37:26.563098Z",
     "iopub.status.busy": "2021-12-02T04:37:26.562627Z",
     "iopub.status.idle": "2021-12-02T04:37:33.801602Z",
     "shell.execute_reply": "2021-12-02T04:37:33.801037Z"
    },
    "papermill": {
     "duration": 7.342849,
     "end_time": "2021-12-02T04:37:33.801721",
     "exception": false,
     "start_time": "2021-12-02T04:37:26.458872",
     "status": "completed"
    },
    "tags": []
   },
   "outputs": [
    {
     "name": "stdout",
     "output_type": "stream",
     "text": [
      "441 ms ± 24.2 ms per loop (mean ± std. dev. of 7 runs, 1 loop each)\n"
     ]
    }
   ],
   "source": [
    "%%timeit func()\n",
    "func()"
   ]
  },
  {
   "cell_type": "code",
   "execution_count": 24,
   "id": "1250547e",
   "metadata": {
    "execution": {
     "iopub.execute_input": "2021-12-02T04:37:34.015314Z",
     "iopub.status.busy": "2021-12-02T04:37:34.014832Z",
     "iopub.status.idle": "2021-12-02T04:37:34.410262Z",
     "shell.execute_reply": "2021-12-02T04:37:34.410651Z"
    },
    "papermill": {
     "duration": 0.501944,
     "end_time": "2021-12-02T04:37:34.410769",
     "exception": false,
     "start_time": "2021-12-02T04:37:33.908825",
     "status": "completed"
    },
    "tags": []
   },
   "outputs": [
    {
     "name": "stdout",
     "output_type": "stream",
     "text": [
      " \n",
      "*** Profile printout saved to text file '10-n_samples_small_500.txt'. \n"
     ]
    }
   ],
   "source": [
    "%%prun -s cumulative -l 20 -T 10-n_samples_small_500.txt\n",
    "func()"
   ]
  },
  {
   "cell_type": "markdown",
   "id": "6853c300",
   "metadata": {
    "papermill": {
     "duration": 0.103261,
     "end_time": "2021-12-02T04:37:34.618220",
     "exception": false,
     "start_time": "2021-12-02T04:37:34.514959",
     "status": "completed"
    },
    "tags": []
   },
   "source": [
    "## `n_samples=1000`"
   ]
  },
  {
   "cell_type": "code",
   "execution_count": 25,
   "id": "f77e8490",
   "metadata": {
    "execution": {
     "iopub.execute_input": "2021-12-02T04:37:34.832465Z",
     "iopub.status.busy": "2021-12-02T04:37:34.831999Z",
     "iopub.status.idle": "2021-12-02T04:37:34.833958Z",
     "shell.execute_reply": "2021-12-02T04:37:34.833511Z"
    },
    "papermill": {
     "duration": 0.114715,
     "end_time": "2021-12-02T04:37:34.834052",
     "exception": false,
     "start_time": "2021-12-02T04:37:34.719337",
     "status": "completed"
    },
    "tags": []
   },
   "outputs": [],
   "source": [
    "N_SAMPLES = 1000"
   ]
  },
  {
   "cell_type": "code",
   "execution_count": 26,
   "id": "c99f544a",
   "metadata": {
    "execution": {
     "iopub.execute_input": "2021-12-02T04:37:35.043108Z",
     "iopub.status.busy": "2021-12-02T04:37:35.042636Z",
     "iopub.status.idle": "2021-12-02T04:37:35.044239Z",
     "shell.execute_reply": "2021-12-02T04:37:35.044579Z"
    },
    "papermill": {
     "duration": 0.107686,
     "end_time": "2021-12-02T04:37:35.044696",
     "exception": false,
     "start_time": "2021-12-02T04:37:34.937010",
     "status": "completed"
    },
    "tags": []
   },
   "outputs": [],
   "source": [
    "x = np.random.rand(N_SAMPLES)\n",
    "y = np.random.rand(N_SAMPLES)"
   ]
  },
  {
   "cell_type": "code",
   "execution_count": 27,
   "id": "d907f1d7",
   "metadata": {
    "execution": {
     "iopub.execute_input": "2021-12-02T04:37:35.253125Z",
     "iopub.status.busy": "2021-12-02T04:37:35.252650Z",
     "iopub.status.idle": "2021-12-02T04:37:35.254497Z",
     "shell.execute_reply": "2021-12-02T04:37:35.254118Z"
    },
    "papermill": {
     "duration": 0.106501,
     "end_time": "2021-12-02T04:37:35.254591",
     "exception": false,
     "start_time": "2021-12-02T04:37:35.148090",
     "status": "completed"
    },
    "tags": []
   },
   "outputs": [],
   "source": [
    "def func():\n",
    "    for i in range(N_REPS):\n",
    "        ccc(x, y)"
   ]
  },
  {
   "cell_type": "code",
   "execution_count": 28,
   "id": "9721b048",
   "metadata": {
    "execution": {
     "iopub.execute_input": "2021-12-02T04:37:35.461330Z",
     "iopub.status.busy": "2021-12-02T04:37:35.460856Z",
     "iopub.status.idle": "2021-12-02T04:37:49.189938Z",
     "shell.execute_reply": "2021-12-02T04:37:49.190314Z"
    },
    "papermill": {
     "duration": 13.834783,
     "end_time": "2021-12-02T04:37:49.190434",
     "exception": false,
     "start_time": "2021-12-02T04:37:35.355651",
     "status": "completed"
    },
    "tags": []
   },
   "outputs": [
    {
     "name": "stdout",
     "output_type": "stream",
     "text": [
      "858 ms ± 11.4 ms per loop (mean ± std. dev. of 7 runs, 1 loop each)\n"
     ]
    }
   ],
   "source": [
    "%%timeit func()\n",
    "func()"
   ]
  },
  {
   "cell_type": "code",
   "execution_count": 29,
   "id": "fd0f4dd6",
   "metadata": {
    "execution": {
     "iopub.execute_input": "2021-12-02T04:37:49.400379Z",
     "iopub.status.busy": "2021-12-02T04:37:49.399912Z",
     "iopub.status.idle": "2021-12-02T04:37:50.269813Z",
     "shell.execute_reply": "2021-12-02T04:37:50.270191Z"
    },
    "papermill": {
     "duration": 0.97614,
     "end_time": "2021-12-02T04:37:50.270311",
     "exception": false,
     "start_time": "2021-12-02T04:37:49.294171",
     "status": "completed"
    },
    "tags": []
   },
   "outputs": [
    {
     "name": "stdout",
     "output_type": "stream",
     "text": [
      " \n",
      "*** Profile printout saved to text file '10-n_samples_small_1000.txt'. \n"
     ]
    }
   ],
   "source": [
    "%%prun -s cumulative -l 20 -T 10-n_samples_small_1000.txt\n",
    "func()"
   ]
  },
  {
   "cell_type": "markdown",
   "id": "fb1a50ab-a34a-4705-bb3d-e9d6278a30c5",
   "metadata": {
    "papermill": {
     "duration": 0.103807,
     "end_time": "2021-12-02T04:37:50.477116",
     "exception": false,
     "start_time": "2021-12-02T04:37:50.373309",
     "status": "completed"
    },
    "tags": []
   },
   "source": [
    "**CONCLUSION:** as expected, with relatively small samples, the numba-compiled version (`09-cdist_parts_v04`) performs much better than the non-compiled one."
   ]
  },
  {
   "cell_type": "markdown",
   "id": "f6b9adcf-1da4-4496-b05f-47952fd80d7f",
   "metadata": {
    "papermill": {
     "duration": 0.103785,
     "end_time": "2021-12-02T04:37:50.684395",
     "exception": false,
     "start_time": "2021-12-02T04:37:50.580610",
     "status": "completed"
    },
    "tags": []
   },
   "source": [
    "# Run with `n_samples` large"
   ]
  },
  {
   "cell_type": "markdown",
   "id": "8f2e407c",
   "metadata": {
    "papermill": {
     "duration": 0.109125,
     "end_time": "2021-12-02T04:37:50.896687",
     "exception": false,
     "start_time": "2021-12-02T04:37:50.787562",
     "status": "completed"
    },
    "tags": []
   },
   "source": [
    "## `n_samples=50000`"
   ]
  },
  {
   "cell_type": "code",
   "execution_count": 30,
   "id": "c522396e",
   "metadata": {
    "execution": {
     "iopub.execute_input": "2021-12-02T04:37:51.105200Z",
     "iopub.status.busy": "2021-12-02T04:37:51.104752Z",
     "iopub.status.idle": "2021-12-02T04:37:51.106157Z",
     "shell.execute_reply": "2021-12-02T04:37:51.106510Z"
    },
    "papermill": {
     "duration": 0.107277,
     "end_time": "2021-12-02T04:37:51.106621",
     "exception": false,
     "start_time": "2021-12-02T04:37:50.999344",
     "status": "completed"
    },
    "tags": []
   },
   "outputs": [],
   "source": [
    "N_SAMPLES = 50000"
   ]
  },
  {
   "cell_type": "code",
   "execution_count": 31,
   "id": "a5e536cc",
   "metadata": {
    "execution": {
     "iopub.execute_input": "2021-12-02T04:37:51.315976Z",
     "iopub.status.busy": "2021-12-02T04:37:51.315458Z",
     "iopub.status.idle": "2021-12-02T04:37:51.318127Z",
     "shell.execute_reply": "2021-12-02T04:37:51.317763Z"
    },
    "papermill": {
     "duration": 0.108638,
     "end_time": "2021-12-02T04:37:51.318226",
     "exception": false,
     "start_time": "2021-12-02T04:37:51.209588",
     "status": "completed"
    },
    "tags": []
   },
   "outputs": [],
   "source": [
    "x = np.random.rand(N_SAMPLES)\n",
    "y = np.random.rand(N_SAMPLES)"
   ]
  },
  {
   "cell_type": "code",
   "execution_count": 32,
   "id": "15cb532e",
   "metadata": {
    "execution": {
     "iopub.execute_input": "2021-12-02T04:37:51.529025Z",
     "iopub.status.busy": "2021-12-02T04:37:51.528568Z",
     "iopub.status.idle": "2021-12-02T04:37:51.530041Z",
     "shell.execute_reply": "2021-12-02T04:37:51.530382Z"
    },
    "papermill": {
     "duration": 0.107088,
     "end_time": "2021-12-02T04:37:51.530499",
     "exception": false,
     "start_time": "2021-12-02T04:37:51.423411",
     "status": "completed"
    },
    "tags": []
   },
   "outputs": [],
   "source": [
    "def func():\n",
    "    for i in range(N_REPS):\n",
    "        ccc(x, y)"
   ]
  },
  {
   "cell_type": "code",
   "execution_count": 33,
   "id": "91470f64",
   "metadata": {
    "execution": {
     "iopub.execute_input": "2021-12-02T04:37:51.741002Z",
     "iopub.status.busy": "2021-12-02T04:37:51.740365Z",
     "iopub.status.idle": "2021-12-02T04:38:27.435619Z",
     "shell.execute_reply": "2021-12-02T04:38:27.436034Z"
    },
    "papermill": {
     "duration": 35.80273,
     "end_time": "2021-12-02T04:38:27.436145",
     "exception": false,
     "start_time": "2021-12-02T04:37:51.633415",
     "status": "completed"
    },
    "tags": []
   },
   "outputs": [
    {
     "name": "stdout",
     "output_type": "stream",
     "text": [
      "2.23 s ± 10.4 ms per loop (mean ± std. dev. of 7 runs, 1 loop each)\n"
     ]
    }
   ],
   "source": [
    "%%timeit func()\n",
    "func()"
   ]
  },
  {
   "cell_type": "code",
   "execution_count": 34,
   "id": "4de4e0b0",
   "metadata": {
    "execution": {
     "iopub.execute_input": "2021-12-02T04:38:27.648543Z",
     "iopub.status.busy": "2021-12-02T04:38:27.647940Z",
     "iopub.status.idle": "2021-12-02T04:38:29.880143Z",
     "shell.execute_reply": "2021-12-02T04:38:29.879649Z"
    },
    "papermill": {
     "duration": 2.340044,
     "end_time": "2021-12-02T04:38:29.880241",
     "exception": false,
     "start_time": "2021-12-02T04:38:27.540197",
     "status": "completed"
    },
    "tags": []
   },
   "outputs": [
    {
     "name": "stdout",
     "output_type": "stream",
     "text": [
      " \n",
      "*** Profile printout saved to text file '10-n_samples_large_50000.txt'. \n"
     ]
    }
   ],
   "source": [
    "%%prun -s cumulative -l 20 -T 10-n_samples_large_50000.txt\n",
    "func()"
   ]
  },
  {
   "cell_type": "markdown",
   "id": "b0c07894",
   "metadata": {
    "papermill": {
     "duration": 0.105829,
     "end_time": "2021-12-02T04:38:30.098264",
     "exception": false,
     "start_time": "2021-12-02T04:38:29.992435",
     "status": "completed"
    },
    "tags": []
   },
   "source": [
    "## `n_samples=100000`"
   ]
  },
  {
   "cell_type": "code",
   "execution_count": 35,
   "id": "7fb2ab2e-a6de-412b-9540-d00f8641290e",
   "metadata": {
    "execution": {
     "iopub.execute_input": "2021-12-02T04:38:30.310087Z",
     "iopub.status.busy": "2021-12-02T04:38:30.309651Z",
     "iopub.status.idle": "2021-12-02T04:38:30.311339Z",
     "shell.execute_reply": "2021-12-02T04:38:30.311682Z"
    },
    "papermill": {
     "duration": 0.109597,
     "end_time": "2021-12-02T04:38:30.311799",
     "exception": false,
     "start_time": "2021-12-02T04:38:30.202202",
     "status": "completed"
    },
    "tags": []
   },
   "outputs": [],
   "source": [
    "N_SAMPLES = 100000"
   ]
  },
  {
   "cell_type": "code",
   "execution_count": 36,
   "id": "81765e91",
   "metadata": {
    "execution": {
     "iopub.execute_input": "2021-12-02T04:38:30.525019Z",
     "iopub.status.busy": "2021-12-02T04:38:30.524568Z",
     "iopub.status.idle": "2021-12-02T04:38:30.528283Z",
     "shell.execute_reply": "2021-12-02T04:38:30.527854Z"
    },
    "papermill": {
     "duration": 0.111647,
     "end_time": "2021-12-02T04:38:30.528379",
     "exception": false,
     "start_time": "2021-12-02T04:38:30.416732",
     "status": "completed"
    },
    "tags": []
   },
   "outputs": [],
   "source": [
    "x = np.random.rand(N_SAMPLES)\n",
    "y = np.random.rand(N_SAMPLES)"
   ]
  },
  {
   "cell_type": "code",
   "execution_count": 37,
   "id": "d408b318",
   "metadata": {
    "execution": {
     "iopub.execute_input": "2021-12-02T04:38:30.742827Z",
     "iopub.status.busy": "2021-12-02T04:38:30.742345Z",
     "iopub.status.idle": "2021-12-02T04:38:30.744280Z",
     "shell.execute_reply": "2021-12-02T04:38:30.743848Z"
    },
    "papermill": {
     "duration": 0.110384,
     "end_time": "2021-12-02T04:38:30.744375",
     "exception": false,
     "start_time": "2021-12-02T04:38:30.633991",
     "status": "completed"
    },
    "tags": []
   },
   "outputs": [],
   "source": [
    "def func():\n",
    "    for i in range(N_REPS):\n",
    "        ccc(x, y)"
   ]
  },
  {
   "cell_type": "code",
   "execution_count": 38,
   "id": "aca57100",
   "metadata": {
    "execution": {
     "iopub.execute_input": "2021-12-02T04:38:30.958831Z",
     "iopub.status.busy": "2021-12-02T04:38:30.958256Z",
     "iopub.status.idle": "2021-12-02T04:39:38.969951Z",
     "shell.execute_reply": "2021-12-02T04:39:38.970301Z"
    },
    "papermill": {
     "duration": 68.120109,
     "end_time": "2021-12-02T04:39:38.970413",
     "exception": false,
     "start_time": "2021-12-02T04:38:30.850304",
     "status": "completed"
    },
    "tags": []
   },
   "outputs": [
    {
     "name": "stdout",
     "output_type": "stream",
     "text": [
      "4.25 s ± 11 ms per loop (mean ± std. dev. of 7 runs, 1 loop each)\n"
     ]
    }
   ],
   "source": [
    "%%timeit func()\n",
    "func()"
   ]
  },
  {
   "cell_type": "code",
   "execution_count": 39,
   "id": "b9c25f30",
   "metadata": {
    "execution": {
     "iopub.execute_input": "2021-12-02T04:39:39.183942Z",
     "iopub.status.busy": "2021-12-02T04:39:39.183247Z",
     "iopub.status.idle": "2021-12-02T04:39:43.450962Z",
     "shell.execute_reply": "2021-12-02T04:39:43.451362Z"
    },
    "papermill": {
     "duration": 4.37642,
     "end_time": "2021-12-02T04:39:43.451480",
     "exception": false,
     "start_time": "2021-12-02T04:39:39.075060",
     "status": "completed"
    },
    "tags": []
   },
   "outputs": [
    {
     "name": "stdout",
     "output_type": "stream",
     "text": [
      " \n",
      "*** Profile printout saved to text file '10-n_samples_large_100000.txt'. \n"
     ]
    }
   ],
   "source": [
    "%%prun -s cumulative -l 20 -T 10-n_samples_large_100000.txt\n",
    "func()"
   ]
  },
  {
   "cell_type": "markdown",
   "id": "3719e9b9-c895-4492-924b-b10388d52ce4",
   "metadata": {
    "papermill": {
     "duration": 0.104171,
     "end_time": "2021-12-02T04:39:43.662835",
     "exception": false,
     "start_time": "2021-12-02T04:39:43.558664",
     "status": "completed"
    },
    "tags": []
   },
   "source": [
    "**CONCLUSION:** this is unexpected. With very large samples, the python version performs better! Something to look at in the future. The profiling file for 100,000 samples () shows that the `cdist_parts_parallel` is taking more time in the numba-compiled version than in the python version. Maybe the compiled ARI implementation could be improved in these cases with large samples."
   ]
  },
  {
   "cell_type": "code",
   "execution_count": null,
   "id": "2aa76596-f126-4ba8-8bba-4d31225e0e5d",
   "metadata": {
    "papermill": {
     "duration": 0.105499,
     "end_time": "2021-12-02T04:39:43.873333",
     "exception": false,
     "start_time": "2021-12-02T04:39:43.767834",
     "status": "completed"
    },
    "tags": []
   },
   "outputs": [],
   "source": []
  }
 ],
 "metadata": {
  "jupytext": {
   "cell_metadata_filter": "all,-execution,-papermill,-trusted"
  },
  "kernelspec": {
   "display_name": "Python 3 (ipykernel)",
   "language": "python",
   "name": "python3"
  },
  "language_info": {
   "codemirror_mode": {
    "name": "ipython",
    "version": 3
   },
   "file_extension": ".py",
   "mimetype": "text/x-python",
   "name": "python",
   "nbconvert_exporter": "python",
   "pygments_lexer": "ipython3",
   "version": "3.9.7"
  },
  "papermill": {
   "default_parameters": {},
   "duration": 168.306551,
   "end_time": "2021-12-02T04:39:44.188549",
   "environment_variables": {},
   "exception": null,
   "input_path": "nbs/others/05_clustermatch_profiling/10_cm_optimized/10-cdist_parts_v04.ipynb",
   "output_path": "nbs/others/05_clustermatch_profiling/10_cm_optimized/10-cdist_parts_v04.run.ipynb",
   "parameters": {},
   "start_time": "2021-12-02T04:36:55.881998",
   "version": "2.3.3"
  }
 },
 "nbformat": 4,
 "nbformat_minor": 5
}
