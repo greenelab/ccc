{
 "cells": [
  {
   "cell_type": "markdown",
   "id": "507e9319-381b-4934-987c-2958e7f6ace7",
   "metadata": {
    "papermill": {
     "duration": 0.029193,
     "end_time": "2021-09-11T00:53:21.625360",
     "exception": false,
     "start_time": "2021-09-11T00:53:21.596167",
     "status": "completed"
    },
    "tags": []
   },
   "source": [
    "# Description"
   ]
  },
  {
   "cell_type": "markdown",
   "id": "9a88f2a7-3773-459c-8fdc-c69c1b0bb338",
   "metadata": {},
   "source": [
    "Clustermatch run using a larger number of genes."
   ]
  },
  {
   "cell_type": "markdown",
   "id": "145563a2-3e46-4f62-8191-7444a0b315bb",
   "metadata": {
    "papermill": {
     "duration": 0.006168,
     "end_time": "2021-09-11T00:53:21.665554",
     "exception": false,
     "start_time": "2021-09-11T00:53:21.659386",
     "status": "completed"
    },
    "tags": []
   },
   "source": [
    "# Modules"
   ]
  },
  {
   "cell_type": "code",
   "execution_count": 1,
   "id": "bea3d48e-8823-403f-90f5-aea8a17b357c",
   "metadata": {
    "execution": {
     "iopub.execute_input": "2021-09-11T00:53:21.684812Z",
     "iopub.status.busy": "2021-09-11T00:53:21.684350Z",
     "iopub.status.idle": "2021-09-11T00:53:21.976883Z",
     "shell.execute_reply": "2021-09-11T00:53:21.976420Z"
    },
    "papermill": {
     "duration": 0.30534,
     "end_time": "2021-09-11T00:53:21.976988",
     "exception": false,
     "start_time": "2021-09-11T00:53:21.671648",
     "status": "completed"
    },
    "tags": []
   },
   "outputs": [],
   "source": [
    "import numpy as np\n",
    "\n",
    "from ccc.coef import ccc"
   ]
  },
  {
   "cell_type": "markdown",
   "id": "f8399ca8-265e-4e96-b582-54045cb2f9eb",
   "metadata": {
    "papermill": {
     "duration": 0.007004,
     "end_time": "2021-09-11T00:53:21.990839",
     "exception": false,
     "start_time": "2021-09-11T00:53:21.983835",
     "status": "completed"
    },
    "tags": []
   },
   "source": [
    "# Data"
   ]
  },
  {
   "cell_type": "code",
   "execution_count": 3,
   "id": "2316ffcd-a6e4-453f-bb52-779685c5c5bf",
   "metadata": {
    "execution": {
     "iopub.execute_input": "2021-09-11T00:53:22.025037Z",
     "iopub.status.busy": "2021-09-11T00:53:22.024593Z",
     "iopub.status.idle": "2021-09-11T00:53:22.026084Z",
     "shell.execute_reply": "2021-09-11T00:53:22.026443Z"
    },
    "papermill": {
     "duration": 0.011384,
     "end_time": "2021-09-11T00:53:22.026557",
     "exception": false,
     "start_time": "2021-09-11T00:53:22.015173",
     "status": "completed"
    },
    "tags": []
   },
   "outputs": [],
   "source": [
    "n_genes, n_samples = 500, 1000"
   ]
  },
  {
   "cell_type": "code",
   "execution_count": 4,
   "id": "b2f92fb1-113d-479b-8bbf-2be229e26e8f",
   "metadata": {
    "execution": {
     "iopub.execute_input": "2021-09-11T00:53:22.043276Z",
     "iopub.status.busy": "2021-09-11T00:53:22.042830Z",
     "iopub.status.idle": "2021-09-11T00:53:22.044431Z",
     "shell.execute_reply": "2021-09-11T00:53:22.044794Z"
    },
    "papermill": {
     "duration": 0.011489,
     "end_time": "2021-09-11T00:53:22.044908",
     "exception": false,
     "start_time": "2021-09-11T00:53:22.033419",
     "status": "completed"
    },
    "tags": []
   },
   "outputs": [],
   "source": [
    "np.random.seed(0)"
   ]
  },
  {
   "cell_type": "code",
   "execution_count": 5,
   "id": "63638c0b-b436-48a9-93e0-db2adb939a61",
   "metadata": {
    "execution": {
     "iopub.execute_input": "2021-09-11T00:53:22.061726Z",
     "iopub.status.busy": "2021-09-11T00:53:22.061268Z",
     "iopub.status.idle": "2021-09-11T00:53:22.068092Z",
     "shell.execute_reply": "2021-09-11T00:53:22.067665Z"
    },
    "papermill": {
     "duration": 0.016238,
     "end_time": "2021-09-11T00:53:22.068191",
     "exception": false,
     "start_time": "2021-09-11T00:53:22.051953",
     "status": "completed"
    },
    "tags": []
   },
   "outputs": [],
   "source": [
    "data = np.random.rand(n_genes, n_samples)"
   ]
  },
  {
   "cell_type": "code",
   "execution_count": 6,
   "id": "808017ed-9a8a-4bf7-a3dd-42317a39ce8f",
   "metadata": {
    "execution": {
     "iopub.execute_input": "2021-09-11T00:53:22.091092Z",
     "iopub.status.busy": "2021-09-11T00:53:22.089801Z",
     "iopub.status.idle": "2021-09-11T00:53:22.094160Z",
     "shell.execute_reply": "2021-09-11T00:53:22.093661Z"
    },
    "papermill": {
     "duration": 0.018921,
     "end_time": "2021-09-11T00:53:22.094266",
     "exception": false,
     "start_time": "2021-09-11T00:53:22.075345",
     "status": "completed"
    },
    "tags": []
   },
   "outputs": [
    {
     "data": {
      "text/plain": [
       "(500, 1000)"
      ]
     },
     "execution_count": 6,
     "metadata": {},
     "output_type": "execute_result"
    }
   ],
   "source": [
    "data.shape"
   ]
  },
  {
   "cell_type": "markdown",
   "id": "716e4219-cad5-453b-8331-47d310689e03",
   "metadata": {
    "papermill": {
     "duration": 0.008008,
     "end_time": "2021-09-11T00:53:22.110716",
     "exception": false,
     "start_time": "2021-09-11T00:53:22.102708",
     "status": "completed"
    },
    "tags": []
   },
   "source": [
    "# Profile"
   ]
  },
  {
   "cell_type": "code",
   "execution_count": 7,
   "id": "67807856-f337-4c6e-ae31-cd306577a314",
   "metadata": {
    "execution": {
     "iopub.execute_input": "2021-09-11T00:53:22.128511Z",
     "iopub.status.busy": "2021-09-11T00:53:22.128044Z",
     "iopub.status.idle": "2021-09-11T00:53:22.129976Z",
     "shell.execute_reply": "2021-09-11T00:53:22.129533Z"
    },
    "papermill": {
     "duration": 0.012135,
     "end_time": "2021-09-11T00:53:22.130070",
     "exception": false,
     "start_time": "2021-09-11T00:53:22.117935",
     "status": "completed"
    },
    "tags": []
   },
   "outputs": [],
   "source": [
    "def func():\n",
    "    n_clust = list(range(2, 10 + 1))\n",
    "    return ccc(data, internal_n_clusters=n_clust)"
   ]
  },
  {
   "cell_type": "code",
   "execution_count": 8,
   "id": "2965a695-5c0c-4e9e-8435-dcbfa610eb81",
   "metadata": {
    "execution": {
     "iopub.execute_input": "2021-09-11T00:53:22.148936Z",
     "iopub.status.busy": "2021-09-11T00:53:22.148492Z",
     "iopub.status.idle": "2021-09-11T02:32:49.437408Z",
     "shell.execute_reply": "2021-09-11T02:32:49.437770Z"
    },
    "papermill": {
     "duration": 5967.30052,
     "end_time": "2021-09-11T02:32:49.437886",
     "exception": false,
     "start_time": "2021-09-11T00:53:22.137366",
     "status": "completed"
    },
    "tags": []
   },
   "outputs": [
    {
     "name": "stdout",
     "output_type": "stream",
     "text": [
      "6min 11s ± 217 ms per loop (mean ± std. dev. of 7 runs, 1 loop each)\n"
     ]
    }
   ],
   "source": [
    "%%timeit func()\n",
    "func()"
   ]
  },
  {
   "cell_type": "code",
   "execution_count": 9,
   "id": "51c7a416-064a-4669-a09f-16f837d32475",
   "metadata": {
    "execution": {
     "iopub.execute_input": "2021-09-11T02:32:52.089062Z",
     "iopub.status.busy": "2021-09-11T02:32:52.088554Z",
     "iopub.status.idle": "2021-09-11T02:39:02.097740Z",
     "shell.execute_reply": "2021-09-11T02:39:02.097333Z"
    },
    "papermill": {
     "duration": 371.749167,
     "end_time": "2021-09-11T02:39:02.097839",
     "exception": false,
     "start_time": "2021-09-11T02:32:50.348672",
     "status": "completed"
    },
    "tags": []
   },
   "outputs": [
    {
     "name": "stdout",
     "output_type": "stream",
     "text": [
      " \n",
      "*** Profile printout saved to text file '06-cm_many_genes.txt'. \n"
     ]
    }
   ],
   "source": [
    "%%prun -s cumulative -l 50 -T 06-cm_many_genes.txt\n",
    "func()"
   ]
  },
  {
   "cell_type": "code",
   "execution_count": null,
   "id": "e2556204-1c10-4e01-8c6c-ea63ddb37530",
   "metadata": {
    "papermill": {
     "duration": 0.007595,
     "end_time": "2021-09-11T02:39:02.113295",
     "exception": false,
     "start_time": "2021-09-11T02:39:02.105700",
     "status": "completed"
    },
    "tags": []
   },
   "outputs": [],
   "source": []
  }
 ],
 "metadata": {
  "jupytext": {
   "cell_metadata_filter": "all,-execution,-papermill,-trusted"
  },
  "kernelspec": {
   "display_name": "Python 3 (ipykernel)",
   "language": "python",
   "name": "python3"
  },
  "language_info": {
   "codemirror_mode": {
    "name": "ipython",
    "version": 3
   },
   "file_extension": ".py",
   "mimetype": "text/x-python",
   "name": "python",
   "nbconvert_exporter": "python",
   "pygments_lexer": "ipython3",
   "version": "3.9.7"
  },
  "papermill": {
   "default_parameters": {},
   "duration": 6341.841883,
   "end_time": "2021-09-11T02:39:02.461078",
   "environment_variables": {},
   "exception": null,
   "input_path": "nbs/99_clustermatch_profiling/07_cm_optimized2/06-many_genes.ipynb",
   "output_path": "nbs/99_clustermatch_profiling/07_cm_optimized2/06-many_genes.run.ipynb",
   "parameters": {},
   "start_time": "2021-09-11T00:53:20.619195",
   "version": "2.3.3"
  }
 },
 "nbformat": 4,
 "nbformat_minor": 5
}
