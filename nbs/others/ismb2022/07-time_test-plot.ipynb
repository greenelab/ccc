{
 "cells": [
  {
   "cell_type": "markdown",
   "id": "c1948eb4-fb63-4fad-8243-bcd57b98def3",
   "metadata": {
    "papermill": {
     "duration": 0.043688,
     "end_time": "2022-01-28T21:06:31.001528",
     "exception": false,
     "start_time": "2022-01-28T21:06:30.957840",
     "status": "completed"
    },
    "tags": []
   },
   "source": [
    "# Description"
   ]
  },
  {
   "cell_type": "markdown",
   "id": "0abb1d73-c786-4c6d-9dc2-b9243e5183e2",
   "metadata": {
    "papermill": {
     "duration": 0.036913,
     "end_time": "2022-01-28T21:06:31.075451",
     "exception": false,
     "start_time": "2022-01-28T21:06:31.038538",
     "status": "completed"
    },
    "tags": []
   },
   "source": [
    "This is the same notebook in `nbs/99_manuscript` but adapted for a poster at ISMB 2022.\n",
    "\n",
    "Make plots to show the computational complexity results comparing all coefficients."
   ]
  },
  {
   "cell_type": "markdown",
   "id": "d6252b4c-6d56-4cf0-aecd-5d8c769a3609",
   "metadata": {
    "papermill": {
     "duration": 0.036915,
     "end_time": "2022-01-28T21:06:31.149476",
     "exception": false,
     "start_time": "2022-01-28T21:06:31.112561",
     "status": "completed"
    },
    "tags": []
   },
   "source": [
    "# Modules loading"
   ]
  },
  {
   "cell_type": "code",
   "execution_count": 1,
   "id": "77e9d29d-5307-4b4a-b103-7d1fbd6a7e56",
   "metadata": {
    "papermill": {
     "duration": 0.300189,
     "end_time": "2022-01-28T21:06:31.486761",
     "exception": false,
     "start_time": "2022-01-28T21:06:31.186572",
     "status": "completed"
    },
    "tags": []
   },
   "outputs": [],
   "source": [
    "import pandas as pd\n",
    "import matplotlib.pyplot as plt\n",
    "import seaborn as sns\n",
    "\n",
    "from ccc import conf"
   ]
  },
  {
   "cell_type": "markdown",
   "id": "262eb535-3e5d-43d7-9efd-bd6cfdac9190",
   "metadata": {
    "papermill": {
     "duration": 0.03715,
     "end_time": "2022-01-28T21:06:31.562453",
     "exception": false,
     "start_time": "2022-01-28T21:06:31.525303",
     "status": "completed"
    },
    "tags": []
   },
   "source": [
    "# Settings"
   ]
  },
  {
   "cell_type": "code",
   "execution_count": 2,
   "id": "6efda92a-579a-49e2-893f-ec3a40db8a26",
   "metadata": {},
   "outputs": [],
   "source": [
    "INPUT_FILENAME_TEMPLATE = \"time_test\""
   ]
  },
  {
   "cell_type": "markdown",
   "id": "eec9bb6d-4ba2-4817-9b36-bc8e68a2beae",
   "metadata": {
    "papermill": {
     "duration": 0.037221,
     "end_time": "2022-01-28T21:06:31.718740",
     "exception": false,
     "start_time": "2022-01-28T21:06:31.681519",
     "status": "completed"
    },
    "tags": []
   },
   "source": [
    "# Paths"
   ]
  },
  {
   "cell_type": "code",
   "execution_count": 3,
   "id": "413010af-a3b0-45a0-adb8-8559c06d228c",
   "metadata": {
    "papermill": {
     "duration": 0.085709,
     "end_time": "2021-12-21T20:13:39.269702",
     "exception": false,
     "start_time": "2021-12-21T20:13:39.183993",
     "status": "completed"
    },
    "tags": []
   },
   "outputs": [],
   "source": [
    "assert (\n",
    "    conf.MANUSCRIPT[\"BASE_DIR\"] is not None and conf.MANUSCRIPT[\"BASE_DIR\"].exists()\n",
    "), \"Manuscript dir not set\""
   ]
  },
  {
   "cell_type": "code",
   "execution_count": 4,
   "id": "456e7f20-5950-4cbf-8652-cf6e37fb6231",
   "metadata": {
    "papermill": {
     "duration": 0.086622,
     "end_time": "2021-12-21T20:13:39.436193",
     "exception": false,
     "start_time": "2021-12-21T20:13:39.349571",
     "status": "completed"
    },
    "tags": []
   },
   "outputs": [
    {
     "data": {
      "text/plain": [
       "PosixPath('/opt/manuscript/content/images/coefs_comp')"
      ]
     },
     "metadata": {},
     "output_type": "display_data"
    }
   ],
   "source": [
    "COEF_COMP_DIR = conf.MANUSCRIPT[\"FIGURES_DIR\"] / \"coefs_comp\"\n",
    "COEF_COMP_DIR.mkdir(parents=True, exist_ok=True)\n",
    "display(COEF_COMP_DIR)"
   ]
  },
  {
   "cell_type": "code",
   "execution_count": 5,
   "id": "26786edc-f64c-40a2-8caf-ce1c6e9c6192",
   "metadata": {},
   "outputs": [
    {
     "data": {
      "text/plain": [
       "PosixPath('/opt/manuscript/content/images/ismb2022/poster_figures')"
      ]
     },
     "metadata": {},
     "output_type": "display_data"
    }
   ],
   "source": [
    "OUTPUT_FIGURE_DIR = conf.MANUSCRIPT[\"FIGURES_DIR\"] / \"ismb2022\" / \"poster_figures\"\n",
    "OUTPUT_FIGURE_DIR.mkdir(parents=True, exist_ok=True)\n",
    "display(OUTPUT_FIGURE_DIR)"
   ]
  },
  {
   "cell_type": "code",
   "execution_count": 6,
   "id": "0b5ba2a4-54a7-4853-b804-cd2e5c476466",
   "metadata": {
    "papermill": {
     "duration": 0.086622,
     "end_time": "2021-12-21T20:13:39.436193",
     "exception": false,
     "start_time": "2021-12-21T20:13:39.349571",
     "status": "completed"
    },
    "tags": []
   },
   "outputs": [
    {
     "data": {
      "text/plain": [
       "PosixPath('/opt/data/results/time_test')"
      ]
     },
     "metadata": {},
     "output_type": "display_data"
    }
   ],
   "source": [
    "INPUT_DIR = conf.RESULTS_DIR / \"time_test\"\n",
    "display(INPUT_DIR)"
   ]
  },
  {
   "cell_type": "markdown",
   "id": "5b6ca2cf-6d86-48d8-aa42-5beaf6e0932b",
   "metadata": {
    "papermill": {
     "duration": 0.045283,
     "end_time": "2022-01-28T21:08:16.089335",
     "exception": false,
     "start_time": "2022-01-28T21:08:16.044052",
     "status": "completed"
    },
    "tags": []
   },
   "source": [
    "# Load results"
   ]
  },
  {
   "cell_type": "code",
   "execution_count": 7,
   "id": "d98986f3-badc-4760-8eed-e24b00ce2696",
   "metadata": {},
   "outputs": [],
   "source": [
    "time_results = pd.read_pickle(INPUT_DIR / f\"{INPUT_FILENAME_TEMPLATE}.pkl\")"
   ]
  },
  {
   "cell_type": "code",
   "execution_count": 8,
   "id": "69511566-f1cd-4d19-ab2d-48d64b1e5055",
   "metadata": {},
   "outputs": [
    {
     "data": {
      "text/plain": [
       "(10600, 4)"
      ]
     },
     "execution_count": 8,
     "metadata": {},
     "output_type": "execute_result"
    }
   ],
   "source": [
    "time_results.shape"
   ]
  },
  {
   "cell_type": "code",
   "execution_count": 9,
   "id": "6fc64cc3-264e-49a7-bbf9-af255e151118",
   "metadata": {},
   "outputs": [
    {
     "data": {
      "text/html": [
       "<div>\n",
       "<style scoped>\n",
       "    .dataframe tbody tr th:only-of-type {\n",
       "        vertical-align: middle;\n",
       "    }\n",
       "\n",
       "    .dataframe tbody tr th {\n",
       "        vertical-align: top;\n",
       "    }\n",
       "\n",
       "    .dataframe thead th {\n",
       "        text-align: right;\n",
       "    }\n",
       "</style>\n",
       "<table border=\"1\" class=\"dataframe\">\n",
       "  <thead>\n",
       "    <tr style=\"text-align: right;\">\n",
       "      <th></th>\n",
       "      <th>data_size</th>\n",
       "      <th>method</th>\n",
       "      <th>time</th>\n",
       "      <th>sim</th>\n",
       "    </tr>\n",
       "  </thead>\n",
       "  <tbody>\n",
       "    <tr>\n",
       "      <th>0</th>\n",
       "      <td>100</td>\n",
       "      <td>p-1</td>\n",
       "      <td>0.000232</td>\n",
       "      <td>-0.115117</td>\n",
       "    </tr>\n",
       "    <tr>\n",
       "      <th>1</th>\n",
       "      <td>100</td>\n",
       "      <td>p-1</td>\n",
       "      <td>0.000160</td>\n",
       "      <td>-0.050567</td>\n",
       "    </tr>\n",
       "    <tr>\n",
       "      <th>2</th>\n",
       "      <td>100</td>\n",
       "      <td>p-1</td>\n",
       "      <td>0.000129</td>\n",
       "      <td>0.215785</td>\n",
       "    </tr>\n",
       "    <tr>\n",
       "      <th>3</th>\n",
       "      <td>100</td>\n",
       "      <td>p-1</td>\n",
       "      <td>0.000114</td>\n",
       "      <td>0.020045</td>\n",
       "    </tr>\n",
       "    <tr>\n",
       "      <th>4</th>\n",
       "      <td>100</td>\n",
       "      <td>p-1</td>\n",
       "      <td>0.000123</td>\n",
       "      <td>0.053343</td>\n",
       "    </tr>\n",
       "  </tbody>\n",
       "</table>\n",
       "</div>"
      ],
      "text/plain": [
       "  data_size method      time       sim\n",
       "0       100    p-1  0.000232 -0.115117\n",
       "1       100    p-1  0.000160 -0.050567\n",
       "2       100    p-1  0.000129  0.215785\n",
       "3       100    p-1  0.000114  0.020045\n",
       "4       100    p-1  0.000123  0.053343"
      ]
     },
     "execution_count": 9,
     "metadata": {},
     "output_type": "execute_result"
    }
   ],
   "source": [
    "time_results.head()"
   ]
  },
  {
   "cell_type": "code",
   "execution_count": 10,
   "id": "511fbab5-e6a0-47a0-8ab6-329f65719a83",
   "metadata": {},
   "outputs": [
    {
     "data": {
      "text/plain": [
       "array(['p-1', 's-1', 'cm-1', 'mic_e-1', 'mic-1', 'p-3', 's-3', 'cm-3',\n",
       "       'mic_e-3', 'mic-3'], dtype=object)"
      ]
     },
     "execution_count": 10,
     "metadata": {},
     "output_type": "execute_result"
    }
   ],
   "source": [
    "time_results[\"method\"].unique()"
   ]
  },
  {
   "cell_type": "markdown",
   "id": "c2fdf161-71ea-4943-96af-a13612e11736",
   "metadata": {
    "papermill": {
     "duration": 0.045283,
     "end_time": "2022-01-28T21:08:16.089335",
     "exception": false,
     "start_time": "2022-01-28T21:08:16.044052",
     "status": "completed"
    },
    "tags": []
   },
   "source": [
    "# Processing"
   ]
  },
  {
   "cell_type": "code",
   "execution_count": 11,
   "id": "81703394-a7f1-48d6-974a-b987b4dd4c4d",
   "metadata": {},
   "outputs": [],
   "source": [
    "time_results = time_results.replace(\n",
    "    {\n",
    "        \"method\": {\n",
    "            \"p-1\": \"Pearson (1 core)\",\n",
    "            \"s-1\": \"Spearman (1 core)\",\n",
    "            \"cm-1\": \"CCC (1 core)\",\n",
    "            \"mic-1\": \"MIC (1 core)\",\n",
    "            \"mic_e-1\": \"MICe (1 core)\",\n",
    "            \"p-3\": \"Pearson (3 cores)\",\n",
    "            \"s-3\": \"Spearman (3 cores)\",\n",
    "            \"cm-3\": \"CCC (3 cores)\",\n",
    "            \"mic-3\": \"MIC (3 cores)\",\n",
    "            \"mic_e-3\": \"MICe (3 cores)\",\n",
    "        }\n",
    "    }\n",
    ")"
   ]
  },
  {
   "cell_type": "code",
   "execution_count": 12,
   "id": "e8b96624-7b6c-4ce7-a1c7-d8f2cabab649",
   "metadata": {},
   "outputs": [
    {
     "data": {
      "text/plain": [
       "(10600, 4)"
      ]
     },
     "execution_count": 12,
     "metadata": {},
     "output_type": "execute_result"
    }
   ],
   "source": [
    "time_results.shape"
   ]
  },
  {
   "cell_type": "code",
   "execution_count": 13,
   "id": "6d49c62c-1fcb-4caa-b1f4-e7a224bd3c9b",
   "metadata": {},
   "outputs": [
    {
     "data": {
      "text/html": [
       "<div>\n",
       "<style scoped>\n",
       "    .dataframe tbody tr th:only-of-type {\n",
       "        vertical-align: middle;\n",
       "    }\n",
       "\n",
       "    .dataframe tbody tr th {\n",
       "        vertical-align: top;\n",
       "    }\n",
       "\n",
       "    .dataframe thead th {\n",
       "        text-align: right;\n",
       "    }\n",
       "</style>\n",
       "<table border=\"1\" class=\"dataframe\">\n",
       "  <thead>\n",
       "    <tr style=\"text-align: right;\">\n",
       "      <th></th>\n",
       "      <th>data_size</th>\n",
       "      <th>method</th>\n",
       "      <th>time</th>\n",
       "      <th>sim</th>\n",
       "    </tr>\n",
       "  </thead>\n",
       "  <tbody>\n",
       "    <tr>\n",
       "      <th>0</th>\n",
       "      <td>100</td>\n",
       "      <td>Pearson (1 core)</td>\n",
       "      <td>0.000232</td>\n",
       "      <td>-0.115117</td>\n",
       "    </tr>\n",
       "    <tr>\n",
       "      <th>1</th>\n",
       "      <td>100</td>\n",
       "      <td>Pearson (1 core)</td>\n",
       "      <td>0.000160</td>\n",
       "      <td>-0.050567</td>\n",
       "    </tr>\n",
       "    <tr>\n",
       "      <th>2</th>\n",
       "      <td>100</td>\n",
       "      <td>Pearson (1 core)</td>\n",
       "      <td>0.000129</td>\n",
       "      <td>0.215785</td>\n",
       "    </tr>\n",
       "    <tr>\n",
       "      <th>3</th>\n",
       "      <td>100</td>\n",
       "      <td>Pearson (1 core)</td>\n",
       "      <td>0.000114</td>\n",
       "      <td>0.020045</td>\n",
       "    </tr>\n",
       "    <tr>\n",
       "      <th>4</th>\n",
       "      <td>100</td>\n",
       "      <td>Pearson (1 core)</td>\n",
       "      <td>0.000123</td>\n",
       "      <td>0.053343</td>\n",
       "    </tr>\n",
       "  </tbody>\n",
       "</table>\n",
       "</div>"
      ],
      "text/plain": [
       "  data_size            method      time       sim\n",
       "0       100  Pearson (1 core)  0.000232 -0.115117\n",
       "1       100  Pearson (1 core)  0.000160 -0.050567\n",
       "2       100  Pearson (1 core)  0.000129  0.215785\n",
       "3       100  Pearson (1 core)  0.000114  0.020045\n",
       "4       100  Pearson (1 core)  0.000123  0.053343"
      ]
     },
     "execution_count": 13,
     "metadata": {},
     "output_type": "execute_result"
    }
   ],
   "source": [
    "time_results.head()"
   ]
  },
  {
   "cell_type": "markdown",
   "id": "8b183907-359e-473a-ac51-cb6c388c2595",
   "metadata": {},
   "source": [
    "# Run numbers"
   ]
  },
  {
   "cell_type": "code",
   "execution_count": 14,
   "id": "3eafa2a7-c008-46b9-9119-a745fe873535",
   "metadata": {},
   "outputs": [],
   "source": [
    "plot_data = time_results"
   ]
  },
  {
   "cell_type": "code",
   "execution_count": 15,
   "id": "e1279b36-295c-45d2-a2f1-0388161c724f",
   "metadata": {},
   "outputs": [
    {
     "data": {
      "text/html": [
       "<div>\n",
       "<style scoped>\n",
       "    .dataframe tbody tr th:only-of-type {\n",
       "        vertical-align: middle;\n",
       "    }\n",
       "\n",
       "    .dataframe tbody tr th {\n",
       "        vertical-align: top;\n",
       "    }\n",
       "\n",
       "    .dataframe thead th {\n",
       "        text-align: right;\n",
       "    }\n",
       "</style>\n",
       "<table border=\"1\" class=\"dataframe\">\n",
       "  <thead>\n",
       "    <tr style=\"text-align: right;\">\n",
       "      <th></th>\n",
       "      <th></th>\n",
       "      <th>count</th>\n",
       "      <th>mean</th>\n",
       "      <th>std</th>\n",
       "      <th>min</th>\n",
       "      <th>25%</th>\n",
       "      <th>50%</th>\n",
       "      <th>75%</th>\n",
       "      <th>max</th>\n",
       "    </tr>\n",
       "    <tr>\n",
       "      <th>data_size</th>\n",
       "      <th>method</th>\n",
       "      <th></th>\n",
       "      <th></th>\n",
       "      <th></th>\n",
       "      <th></th>\n",
       "      <th></th>\n",
       "      <th></th>\n",
       "      <th></th>\n",
       "      <th></th>\n",
       "    </tr>\n",
       "  </thead>\n",
       "  <tbody>\n",
       "    <tr>\n",
       "      <th rowspan=\"6\" valign=\"top\">100</th>\n",
       "      <th>CCC (1 core)</th>\n",
       "      <td>1000.0</td>\n",
       "      <td>0.003436</td>\n",
       "      <td>0.000357</td>\n",
       "      <td>0.002792</td>\n",
       "      <td>0.003150</td>\n",
       "      <td>0.003359</td>\n",
       "      <td>0.003709</td>\n",
       "      <td>0.005698</td>\n",
       "    </tr>\n",
       "    <tr>\n",
       "      <th>CCC (3 cores)</th>\n",
       "      <td>1000.0</td>\n",
       "      <td>0.002805</td>\n",
       "      <td>0.000316</td>\n",
       "      <td>0.002583</td>\n",
       "      <td>0.002698</td>\n",
       "      <td>0.002760</td>\n",
       "      <td>0.002853</td>\n",
       "      <td>0.008883</td>\n",
       "    </tr>\n",
       "    <tr>\n",
       "      <th>MIC (1 core)</th>\n",
       "      <td>1000.0</td>\n",
       "      <td>0.001585</td>\n",
       "      <td>0.000072</td>\n",
       "      <td>0.001357</td>\n",
       "      <td>0.001537</td>\n",
       "      <td>0.001581</td>\n",
       "      <td>0.001625</td>\n",
       "      <td>0.002157</td>\n",
       "    </tr>\n",
       "    <tr>\n",
       "      <th>MICe (1 core)</th>\n",
       "      <td>1000.0</td>\n",
       "      <td>0.001501</td>\n",
       "      <td>0.000069</td>\n",
       "      <td>0.001327</td>\n",
       "      <td>0.001457</td>\n",
       "      <td>0.001499</td>\n",
       "      <td>0.001539</td>\n",
       "      <td>0.002010</td>\n",
       "    </tr>\n",
       "    <tr>\n",
       "      <th>Pearson (1 core)</th>\n",
       "      <td>1000.0</td>\n",
       "      <td>0.000072</td>\n",
       "      <td>0.000010</td>\n",
       "      <td>0.000068</td>\n",
       "      <td>0.000070</td>\n",
       "      <td>0.000070</td>\n",
       "      <td>0.000071</td>\n",
       "      <td>0.000232</td>\n",
       "    </tr>\n",
       "    <tr>\n",
       "      <th>Spearman (1 core)</th>\n",
       "      <td>1000.0</td>\n",
       "      <td>0.000491</td>\n",
       "      <td>0.000042</td>\n",
       "      <td>0.000473</td>\n",
       "      <td>0.000477</td>\n",
       "      <td>0.000479</td>\n",
       "      <td>0.000484</td>\n",
       "      <td>0.000977</td>\n",
       "    </tr>\n",
       "    <tr>\n",
       "      <th rowspan=\"6\" valign=\"top\">500</th>\n",
       "      <th>CCC (1 core)</th>\n",
       "      <td>10.0</td>\n",
       "      <td>0.006613</td>\n",
       "      <td>0.000143</td>\n",
       "      <td>0.006428</td>\n",
       "      <td>0.006485</td>\n",
       "      <td>0.006634</td>\n",
       "      <td>0.006750</td>\n",
       "      <td>0.006768</td>\n",
       "    </tr>\n",
       "    <tr>\n",
       "      <th>CCC (3 cores)</th>\n",
       "      <td>10.0</td>\n",
       "      <td>0.004261</td>\n",
       "      <td>0.000447</td>\n",
       "      <td>0.003709</td>\n",
       "      <td>0.003906</td>\n",
       "      <td>0.004193</td>\n",
       "      <td>0.004532</td>\n",
       "      <td>0.004966</td>\n",
       "    </tr>\n",
       "    <tr>\n",
       "      <th>MIC (1 core)</th>\n",
       "      <td>10.0</td>\n",
       "      <td>0.025260</td>\n",
       "      <td>0.000415</td>\n",
       "      <td>0.024730</td>\n",
       "      <td>0.024830</td>\n",
       "      <td>0.025406</td>\n",
       "      <td>0.025475</td>\n",
       "      <td>0.025844</td>\n",
       "    </tr>\n",
       "    <tr>\n",
       "      <th>MICe (1 core)</th>\n",
       "      <td>10.0</td>\n",
       "      <td>0.021278</td>\n",
       "      <td>0.000747</td>\n",
       "      <td>0.020741</td>\n",
       "      <td>0.020975</td>\n",
       "      <td>0.021129</td>\n",
       "      <td>0.021179</td>\n",
       "      <td>0.023358</td>\n",
       "    </tr>\n",
       "    <tr>\n",
       "      <th>Pearson (1 core)</th>\n",
       "      <td>10.0</td>\n",
       "      <td>0.000078</td>\n",
       "      <td>0.000008</td>\n",
       "      <td>0.000074</td>\n",
       "      <td>0.000075</td>\n",
       "      <td>0.000075</td>\n",
       "      <td>0.000075</td>\n",
       "      <td>0.000100</td>\n",
       "    </tr>\n",
       "    <tr>\n",
       "      <th>Spearman (1 core)</th>\n",
       "      <td>10.0</td>\n",
       "      <td>0.000574</td>\n",
       "      <td>0.000026</td>\n",
       "      <td>0.000561</td>\n",
       "      <td>0.000564</td>\n",
       "      <td>0.000565</td>\n",
       "      <td>0.000569</td>\n",
       "      <td>0.000646</td>\n",
       "    </tr>\n",
       "    <tr>\n",
       "      <th rowspan=\"6\" valign=\"top\">1000</th>\n",
       "      <th>CCC (1 core)</th>\n",
       "      <td>10.0</td>\n",
       "      <td>0.011435</td>\n",
       "      <td>0.000180</td>\n",
       "      <td>0.011137</td>\n",
       "      <td>0.011291</td>\n",
       "      <td>0.011467</td>\n",
       "      <td>0.011585</td>\n",
       "      <td>0.011639</td>\n",
       "    </tr>\n",
       "    <tr>\n",
       "      <th>CCC (3 cores)</th>\n",
       "      <td>10.0</td>\n",
       "      <td>0.006138</td>\n",
       "      <td>0.000521</td>\n",
       "      <td>0.005639</td>\n",
       "      <td>0.005738</td>\n",
       "      <td>0.005859</td>\n",
       "      <td>0.006467</td>\n",
       "      <td>0.006981</td>\n",
       "    </tr>\n",
       "    <tr>\n",
       "      <th>MIC (1 core)</th>\n",
       "      <td>10.0</td>\n",
       "      <td>0.079122</td>\n",
       "      <td>0.001332</td>\n",
       "      <td>0.077585</td>\n",
       "      <td>0.078213</td>\n",
       "      <td>0.078923</td>\n",
       "      <td>0.079636</td>\n",
       "      <td>0.082088</td>\n",
       "    </tr>\n",
       "    <tr>\n",
       "      <th>MICe (1 core)</th>\n",
       "      <td>10.0</td>\n",
       "      <td>0.059901</td>\n",
       "      <td>0.000900</td>\n",
       "      <td>0.058993</td>\n",
       "      <td>0.059451</td>\n",
       "      <td>0.059610</td>\n",
       "      <td>0.059945</td>\n",
       "      <td>0.062155</td>\n",
       "    </tr>\n",
       "    <tr>\n",
       "      <th>Pearson (1 core)</th>\n",
       "      <td>10.0</td>\n",
       "      <td>0.000083</td>\n",
       "      <td>0.000009</td>\n",
       "      <td>0.000078</td>\n",
       "      <td>0.000079</td>\n",
       "      <td>0.000079</td>\n",
       "      <td>0.000081</td>\n",
       "      <td>0.000108</td>\n",
       "    </tr>\n",
       "    <tr>\n",
       "      <th>Spearman (1 core)</th>\n",
       "      <td>10.0</td>\n",
       "      <td>0.000646</td>\n",
       "      <td>0.000022</td>\n",
       "      <td>0.000636</td>\n",
       "      <td>0.000638</td>\n",
       "      <td>0.000638</td>\n",
       "      <td>0.000642</td>\n",
       "      <td>0.000707</td>\n",
       "    </tr>\n",
       "    <tr>\n",
       "      <th rowspan=\"6\" valign=\"top\">5000</th>\n",
       "      <th>CCC (1 core)</th>\n",
       "      <td>10.0</td>\n",
       "      <td>0.047655</td>\n",
       "      <td>0.000344</td>\n",
       "      <td>0.047145</td>\n",
       "      <td>0.047490</td>\n",
       "      <td>0.047588</td>\n",
       "      <td>0.047658</td>\n",
       "      <td>0.048383</td>\n",
       "    </tr>\n",
       "    <tr>\n",
       "      <th>CCC (3 cores)</th>\n",
       "      <td>10.0</td>\n",
       "      <td>0.021006</td>\n",
       "      <td>0.000191</td>\n",
       "      <td>0.020833</td>\n",
       "      <td>0.020861</td>\n",
       "      <td>0.020947</td>\n",
       "      <td>0.021048</td>\n",
       "      <td>0.021417</td>\n",
       "    </tr>\n",
       "    <tr>\n",
       "      <th>MIC (1 core)</th>\n",
       "      <td>10.0</td>\n",
       "      <td>1.112159</td>\n",
       "      <td>0.004618</td>\n",
       "      <td>1.103153</td>\n",
       "      <td>1.110260</td>\n",
       "      <td>1.112061</td>\n",
       "      <td>1.114070</td>\n",
       "      <td>1.120377</td>\n",
       "    </tr>\n",
       "    <tr>\n",
       "      <th>MICe (1 core)</th>\n",
       "      <td>10.0</td>\n",
       "      <td>0.557650</td>\n",
       "      <td>0.002108</td>\n",
       "      <td>0.554018</td>\n",
       "      <td>0.556120</td>\n",
       "      <td>0.557997</td>\n",
       "      <td>0.559323</td>\n",
       "      <td>0.560474</td>\n",
       "    </tr>\n",
       "    <tr>\n",
       "      <th>Pearson (1 core)</th>\n",
       "      <td>10.0</td>\n",
       "      <td>0.000106</td>\n",
       "      <td>0.000010</td>\n",
       "      <td>0.000101</td>\n",
       "      <td>0.000102</td>\n",
       "      <td>0.000102</td>\n",
       "      <td>0.000106</td>\n",
       "      <td>0.000134</td>\n",
       "    </tr>\n",
       "    <tr>\n",
       "      <th>Spearman (1 core)</th>\n",
       "      <td>10.0</td>\n",
       "      <td>0.001255</td>\n",
       "      <td>0.000041</td>\n",
       "      <td>0.001218</td>\n",
       "      <td>0.001224</td>\n",
       "      <td>0.001228</td>\n",
       "      <td>0.001293</td>\n",
       "      <td>0.001328</td>\n",
       "    </tr>\n",
       "    <tr>\n",
       "      <th rowspan=\"6\" valign=\"top\">10000</th>\n",
       "      <th>CCC (1 core)</th>\n",
       "      <td>10.0</td>\n",
       "      <td>0.095417</td>\n",
       "      <td>0.000847</td>\n",
       "      <td>0.094640</td>\n",
       "      <td>0.094953</td>\n",
       "      <td>0.095079</td>\n",
       "      <td>0.095634</td>\n",
       "      <td>0.097597</td>\n",
       "    </tr>\n",
       "    <tr>\n",
       "      <th>CCC (3 cores)</th>\n",
       "      <td>10.0</td>\n",
       "      <td>0.040655</td>\n",
       "      <td>0.000300</td>\n",
       "      <td>0.040217</td>\n",
       "      <td>0.040443</td>\n",
       "      <td>0.040681</td>\n",
       "      <td>0.040792</td>\n",
       "      <td>0.041163</td>\n",
       "    </tr>\n",
       "    <tr>\n",
       "      <th>MIC (1 core)</th>\n",
       "      <td>10.0</td>\n",
       "      <td>5.063873</td>\n",
       "      <td>0.016328</td>\n",
       "      <td>5.044594</td>\n",
       "      <td>5.054829</td>\n",
       "      <td>5.062143</td>\n",
       "      <td>5.069411</td>\n",
       "      <td>5.098448</td>\n",
       "    </tr>\n",
       "    <tr>\n",
       "      <th>MICe (1 core)</th>\n",
       "      <td>10.0</td>\n",
       "      <td>1.404940</td>\n",
       "      <td>0.004390</td>\n",
       "      <td>1.398780</td>\n",
       "      <td>1.401261</td>\n",
       "      <td>1.404567</td>\n",
       "      <td>1.408528</td>\n",
       "      <td>1.411678</td>\n",
       "    </tr>\n",
       "    <tr>\n",
       "      <th>Pearson (1 core)</th>\n",
       "      <td>10.0</td>\n",
       "      <td>0.000133</td>\n",
       "      <td>0.000009</td>\n",
       "      <td>0.000129</td>\n",
       "      <td>0.000129</td>\n",
       "      <td>0.000130</td>\n",
       "      <td>0.000130</td>\n",
       "      <td>0.000159</td>\n",
       "    </tr>\n",
       "    <tr>\n",
       "      <th>Spearman (1 core)</th>\n",
       "      <td>10.0</td>\n",
       "      <td>0.002105</td>\n",
       "      <td>0.000036</td>\n",
       "      <td>0.002060</td>\n",
       "      <td>0.002084</td>\n",
       "      <td>0.002094</td>\n",
       "      <td>0.002109</td>\n",
       "      <td>0.002180</td>\n",
       "    </tr>\n",
       "    <tr>\n",
       "      <th rowspan=\"5\" valign=\"top\">50000</th>\n",
       "      <th>CCC (1 core)</th>\n",
       "      <td>10.0</td>\n",
       "      <td>0.505978</td>\n",
       "      <td>0.002688</td>\n",
       "      <td>0.502278</td>\n",
       "      <td>0.503814</td>\n",
       "      <td>0.505884</td>\n",
       "      <td>0.507365</td>\n",
       "      <td>0.510254</td>\n",
       "    </tr>\n",
       "    <tr>\n",
       "      <th>CCC (3 cores)</th>\n",
       "      <td>10.0</td>\n",
       "      <td>0.211265</td>\n",
       "      <td>0.001060</td>\n",
       "      <td>0.210206</td>\n",
       "      <td>0.210567</td>\n",
       "      <td>0.210973</td>\n",
       "      <td>0.211404</td>\n",
       "      <td>0.213710</td>\n",
       "    </tr>\n",
       "    <tr>\n",
       "      <th>MICe (1 core)</th>\n",
       "      <td>10.0</td>\n",
       "      <td>11.996720</td>\n",
       "      <td>0.033999</td>\n",
       "      <td>11.936845</td>\n",
       "      <td>11.973720</td>\n",
       "      <td>12.001458</td>\n",
       "      <td>12.017831</td>\n",
       "      <td>12.044257</td>\n",
       "    </tr>\n",
       "    <tr>\n",
       "      <th>Pearson (1 core)</th>\n",
       "      <td>10.0</td>\n",
       "      <td>0.000397</td>\n",
       "      <td>0.000081</td>\n",
       "      <td>0.000360</td>\n",
       "      <td>0.000363</td>\n",
       "      <td>0.000366</td>\n",
       "      <td>0.000374</td>\n",
       "      <td>0.000620</td>\n",
       "    </tr>\n",
       "    <tr>\n",
       "      <th>Spearman (1 core)</th>\n",
       "      <td>10.0</td>\n",
       "      <td>0.011653</td>\n",
       "      <td>0.000324</td>\n",
       "      <td>0.011165</td>\n",
       "      <td>0.011336</td>\n",
       "      <td>0.011792</td>\n",
       "      <td>0.011921</td>\n",
       "      <td>0.011980</td>\n",
       "    </tr>\n",
       "    <tr>\n",
       "      <th rowspan=\"4\" valign=\"top\">100000</th>\n",
       "      <th>CCC (1 core)</th>\n",
       "      <td>10.0</td>\n",
       "      <td>1.058219</td>\n",
       "      <td>0.010537</td>\n",
       "      <td>1.047975</td>\n",
       "      <td>1.051697</td>\n",
       "      <td>1.055839</td>\n",
       "      <td>1.059615</td>\n",
       "      <td>1.084997</td>\n",
       "    </tr>\n",
       "    <tr>\n",
       "      <th>CCC (3 cores)</th>\n",
       "      <td>10.0</td>\n",
       "      <td>0.443743</td>\n",
       "      <td>0.005329</td>\n",
       "      <td>0.438674</td>\n",
       "      <td>0.440857</td>\n",
       "      <td>0.441750</td>\n",
       "      <td>0.445132</td>\n",
       "      <td>0.457265</td>\n",
       "    </tr>\n",
       "    <tr>\n",
       "      <th>Pearson (1 core)</th>\n",
       "      <td>10.0</td>\n",
       "      <td>0.000772</td>\n",
       "      <td>0.000185</td>\n",
       "      <td>0.000700</td>\n",
       "      <td>0.000706</td>\n",
       "      <td>0.000712</td>\n",
       "      <td>0.000717</td>\n",
       "      <td>0.001297</td>\n",
       "    </tr>\n",
       "    <tr>\n",
       "      <th>Spearman (1 core)</th>\n",
       "      <td>10.0</td>\n",
       "      <td>0.025262</td>\n",
       "      <td>0.000186</td>\n",
       "      <td>0.024976</td>\n",
       "      <td>0.025150</td>\n",
       "      <td>0.025245</td>\n",
       "      <td>0.025338</td>\n",
       "      <td>0.025645</td>\n",
       "    </tr>\n",
       "    <tr>\n",
       "      <th rowspan=\"4\" valign=\"top\">1000000</th>\n",
       "      <th>CCC (1 core)</th>\n",
       "      <td>10.0</td>\n",
       "      <td>13.137387</td>\n",
       "      <td>0.053015</td>\n",
       "      <td>13.045537</td>\n",
       "      <td>13.110658</td>\n",
       "      <td>13.121856</td>\n",
       "      <td>13.181798</td>\n",
       "      <td>13.217536</td>\n",
       "    </tr>\n",
       "    <tr>\n",
       "      <th>CCC (3 cores)</th>\n",
       "      <td>10.0</td>\n",
       "      <td>6.281456</td>\n",
       "      <td>0.071677</td>\n",
       "      <td>6.142177</td>\n",
       "      <td>6.242336</td>\n",
       "      <td>6.292263</td>\n",
       "      <td>6.323320</td>\n",
       "      <td>6.382186</td>\n",
       "    </tr>\n",
       "    <tr>\n",
       "      <th>Pearson (1 core)</th>\n",
       "      <td>10.0</td>\n",
       "      <td>0.013941</td>\n",
       "      <td>0.000920</td>\n",
       "      <td>0.013189</td>\n",
       "      <td>0.013267</td>\n",
       "      <td>0.013458</td>\n",
       "      <td>0.014667</td>\n",
       "      <td>0.015441</td>\n",
       "    </tr>\n",
       "    <tr>\n",
       "      <th>Spearman (1 core)</th>\n",
       "      <td>10.0</td>\n",
       "      <td>0.356550</td>\n",
       "      <td>0.003803</td>\n",
       "      <td>0.352625</td>\n",
       "      <td>0.353490</td>\n",
       "      <td>0.355716</td>\n",
       "      <td>0.358670</td>\n",
       "      <td>0.364276</td>\n",
       "    </tr>\n",
       "  </tbody>\n",
       "</table>\n",
       "</div>"
      ],
      "text/plain": [
       "                              count       mean       std        min  \\\n",
       "data_size method                                                      \n",
       "100       CCC (1 core)       1000.0   0.003436  0.000357   0.002792   \n",
       "          CCC (3 cores)      1000.0   0.002805  0.000316   0.002583   \n",
       "          MIC (1 core)       1000.0   0.001585  0.000072   0.001357   \n",
       "          MICe (1 core)      1000.0   0.001501  0.000069   0.001327   \n",
       "          Pearson (1 core)   1000.0   0.000072  0.000010   0.000068   \n",
       "          Spearman (1 core)  1000.0   0.000491  0.000042   0.000473   \n",
       "500       CCC (1 core)         10.0   0.006613  0.000143   0.006428   \n",
       "          CCC (3 cores)        10.0   0.004261  0.000447   0.003709   \n",
       "          MIC (1 core)         10.0   0.025260  0.000415   0.024730   \n",
       "          MICe (1 core)        10.0   0.021278  0.000747   0.020741   \n",
       "          Pearson (1 core)     10.0   0.000078  0.000008   0.000074   \n",
       "          Spearman (1 core)    10.0   0.000574  0.000026   0.000561   \n",
       "1000      CCC (1 core)         10.0   0.011435  0.000180   0.011137   \n",
       "          CCC (3 cores)        10.0   0.006138  0.000521   0.005639   \n",
       "          MIC (1 core)         10.0   0.079122  0.001332   0.077585   \n",
       "          MICe (1 core)        10.0   0.059901  0.000900   0.058993   \n",
       "          Pearson (1 core)     10.0   0.000083  0.000009   0.000078   \n",
       "          Spearman (1 core)    10.0   0.000646  0.000022   0.000636   \n",
       "5000      CCC (1 core)         10.0   0.047655  0.000344   0.047145   \n",
       "          CCC (3 cores)        10.0   0.021006  0.000191   0.020833   \n",
       "          MIC (1 core)         10.0   1.112159  0.004618   1.103153   \n",
       "          MICe (1 core)        10.0   0.557650  0.002108   0.554018   \n",
       "          Pearson (1 core)     10.0   0.000106  0.000010   0.000101   \n",
       "          Spearman (1 core)    10.0   0.001255  0.000041   0.001218   \n",
       "10000     CCC (1 core)         10.0   0.095417  0.000847   0.094640   \n",
       "          CCC (3 cores)        10.0   0.040655  0.000300   0.040217   \n",
       "          MIC (1 core)         10.0   5.063873  0.016328   5.044594   \n",
       "          MICe (1 core)        10.0   1.404940  0.004390   1.398780   \n",
       "          Pearson (1 core)     10.0   0.000133  0.000009   0.000129   \n",
       "          Spearman (1 core)    10.0   0.002105  0.000036   0.002060   \n",
       "50000     CCC (1 core)         10.0   0.505978  0.002688   0.502278   \n",
       "          CCC (3 cores)        10.0   0.211265  0.001060   0.210206   \n",
       "          MICe (1 core)        10.0  11.996720  0.033999  11.936845   \n",
       "          Pearson (1 core)     10.0   0.000397  0.000081   0.000360   \n",
       "          Spearman (1 core)    10.0   0.011653  0.000324   0.011165   \n",
       "100000    CCC (1 core)         10.0   1.058219  0.010537   1.047975   \n",
       "          CCC (3 cores)        10.0   0.443743  0.005329   0.438674   \n",
       "          Pearson (1 core)     10.0   0.000772  0.000185   0.000700   \n",
       "          Spearman (1 core)    10.0   0.025262  0.000186   0.024976   \n",
       "1000000   CCC (1 core)         10.0  13.137387  0.053015  13.045537   \n",
       "          CCC (3 cores)        10.0   6.281456  0.071677   6.142177   \n",
       "          Pearson (1 core)     10.0   0.013941  0.000920   0.013189   \n",
       "          Spearman (1 core)    10.0   0.356550  0.003803   0.352625   \n",
       "\n",
       "                                   25%        50%        75%        max  \n",
       "data_size method                                                         \n",
       "100       CCC (1 core)        0.003150   0.003359   0.003709   0.005698  \n",
       "          CCC (3 cores)       0.002698   0.002760   0.002853   0.008883  \n",
       "          MIC (1 core)        0.001537   0.001581   0.001625   0.002157  \n",
       "          MICe (1 core)       0.001457   0.001499   0.001539   0.002010  \n",
       "          Pearson (1 core)    0.000070   0.000070   0.000071   0.000232  \n",
       "          Spearman (1 core)   0.000477   0.000479   0.000484   0.000977  \n",
       "500       CCC (1 core)        0.006485   0.006634   0.006750   0.006768  \n",
       "          CCC (3 cores)       0.003906   0.004193   0.004532   0.004966  \n",
       "          MIC (1 core)        0.024830   0.025406   0.025475   0.025844  \n",
       "          MICe (1 core)       0.020975   0.021129   0.021179   0.023358  \n",
       "          Pearson (1 core)    0.000075   0.000075   0.000075   0.000100  \n",
       "          Spearman (1 core)   0.000564   0.000565   0.000569   0.000646  \n",
       "1000      CCC (1 core)        0.011291   0.011467   0.011585   0.011639  \n",
       "          CCC (3 cores)       0.005738   0.005859   0.006467   0.006981  \n",
       "          MIC (1 core)        0.078213   0.078923   0.079636   0.082088  \n",
       "          MICe (1 core)       0.059451   0.059610   0.059945   0.062155  \n",
       "          Pearson (1 core)    0.000079   0.000079   0.000081   0.000108  \n",
       "          Spearman (1 core)   0.000638   0.000638   0.000642   0.000707  \n",
       "5000      CCC (1 core)        0.047490   0.047588   0.047658   0.048383  \n",
       "          CCC (3 cores)       0.020861   0.020947   0.021048   0.021417  \n",
       "          MIC (1 core)        1.110260   1.112061   1.114070   1.120377  \n",
       "          MICe (1 core)       0.556120   0.557997   0.559323   0.560474  \n",
       "          Pearson (1 core)    0.000102   0.000102   0.000106   0.000134  \n",
       "          Spearman (1 core)   0.001224   0.001228   0.001293   0.001328  \n",
       "10000     CCC (1 core)        0.094953   0.095079   0.095634   0.097597  \n",
       "          CCC (3 cores)       0.040443   0.040681   0.040792   0.041163  \n",
       "          MIC (1 core)        5.054829   5.062143   5.069411   5.098448  \n",
       "          MICe (1 core)       1.401261   1.404567   1.408528   1.411678  \n",
       "          Pearson (1 core)    0.000129   0.000130   0.000130   0.000159  \n",
       "          Spearman (1 core)   0.002084   0.002094   0.002109   0.002180  \n",
       "50000     CCC (1 core)        0.503814   0.505884   0.507365   0.510254  \n",
       "          CCC (3 cores)       0.210567   0.210973   0.211404   0.213710  \n",
       "          MICe (1 core)      11.973720  12.001458  12.017831  12.044257  \n",
       "          Pearson (1 core)    0.000363   0.000366   0.000374   0.000620  \n",
       "          Spearman (1 core)   0.011336   0.011792   0.011921   0.011980  \n",
       "100000    CCC (1 core)        1.051697   1.055839   1.059615   1.084997  \n",
       "          CCC (3 cores)       0.440857   0.441750   0.445132   0.457265  \n",
       "          Pearson (1 core)    0.000706   0.000712   0.000717   0.001297  \n",
       "          Spearman (1 core)   0.025150   0.025245   0.025338   0.025645  \n",
       "1000000   CCC (1 core)       13.110658  13.121856  13.181798  13.217536  \n",
       "          CCC (3 cores)       6.242336   6.292263   6.323320   6.382186  \n",
       "          Pearson (1 core)    0.013267   0.013458   0.014667   0.015441  \n",
       "          Spearman (1 core)   0.353490   0.355716   0.358670   0.364276  "
      ]
     },
     "metadata": {},
     "output_type": "display_data"
    }
   ],
   "source": [
    "run_numbers = (\n",
    "    plot_data[\n",
    "        plot_data[\"method\"].str.contains(\"1 core\", regex=False)\n",
    "        | plot_data[\"method\"].str.contains(\"CCC (3 cores)\", regex=False)\n",
    "    ]\n",
    "    .groupby([\"data_size\", \"method\"])[\"time\"]\n",
    "    .describe()\n",
    ")\n",
    "display(run_numbers)"
   ]
  },
  {
   "cell_type": "markdown",
   "id": "772f2cd8-22b9-4106-93e2-1c8063370356",
   "metadata": {},
   "source": [
    "# Plot"
   ]
  },
  {
   "cell_type": "code",
   "execution_count": 16,
   "id": "3b4ffedd-661b-40da-b323-4d29f38c3b72",
   "metadata": {},
   "outputs": [],
   "source": [
    "hue_order = sorted(time_results[\"method\"].unique())"
   ]
  },
  {
   "cell_type": "code",
   "execution_count": 17,
   "id": "cc263e22-bbc0-4d20-953f-ec6fd0a624b8",
   "metadata": {},
   "outputs": [
    {
     "data": {
      "text/plain": [
       "['CCC (1 core)',\n",
       " 'CCC (3 cores)',\n",
       " 'MIC (1 core)',\n",
       " 'MIC (3 cores)',\n",
       " 'MICe (1 core)',\n",
       " 'MICe (3 cores)',\n",
       " 'Pearson (1 core)',\n",
       " 'Pearson (3 cores)',\n",
       " 'Spearman (1 core)',\n",
       " 'Spearman (3 cores)']"
      ]
     },
     "execution_count": 17,
     "metadata": {},
     "output_type": "execute_result"
    }
   ],
   "source": [
    "hue_order"
   ]
  },
  {
   "cell_type": "code",
   "execution_count": 18,
   "id": "e3c79816-6703-4236-b55a-c6dc38d4d600",
   "metadata": {},
   "outputs": [
    {
     "data": {
      "text/html": [
       "<svg  width=\"550\" height=\"55\"><rect x=\"0\" y=\"0\" width=\"55\" height=\"55\" style=\"fill:#4878d0;stroke-width:2;stroke:rgb(255,255,255)\"/><rect x=\"55\" y=\"0\" width=\"55\" height=\"55\" style=\"fill:#ee854a;stroke-width:2;stroke:rgb(255,255,255)\"/><rect x=\"110\" y=\"0\" width=\"55\" height=\"55\" style=\"fill:#6acc64;stroke-width:2;stroke:rgb(255,255,255)\"/><rect x=\"165\" y=\"0\" width=\"55\" height=\"55\" style=\"fill:#d65f5f;stroke-width:2;stroke:rgb(255,255,255)\"/><rect x=\"220\" y=\"0\" width=\"55\" height=\"55\" style=\"fill:#956cb4;stroke-width:2;stroke:rgb(255,255,255)\"/><rect x=\"275\" y=\"0\" width=\"55\" height=\"55\" style=\"fill:#8c613c;stroke-width:2;stroke:rgb(255,255,255)\"/><rect x=\"330\" y=\"0\" width=\"55\" height=\"55\" style=\"fill:#dc7ec0;stroke-width:2;stroke:rgb(255,255,255)\"/><rect x=\"385\" y=\"0\" width=\"55\" height=\"55\" style=\"fill:#797979;stroke-width:2;stroke:rgb(255,255,255)\"/><rect x=\"440\" y=\"0\" width=\"55\" height=\"55\" style=\"fill:#d5bb67;stroke-width:2;stroke:rgb(255,255,255)\"/><rect x=\"495\" y=\"0\" width=\"55\" height=\"55\" style=\"fill:#82c6e2;stroke-width:2;stroke:rgb(255,255,255)\"/></svg>"
      ],
      "text/plain": [
       "[(0.2823529411764706, 0.47058823529411764, 0.8156862745098039),\n",
       " (0.9333333333333333, 0.5215686274509804, 0.2901960784313726),\n",
       " (0.41568627450980394, 0.8, 0.39215686274509803),\n",
       " (0.8392156862745098, 0.37254901960784315, 0.37254901960784315),\n",
       " (0.5843137254901961, 0.4235294117647059, 0.7058823529411765),\n",
       " (0.5490196078431373, 0.3803921568627451, 0.23529411764705882),\n",
       " (0.8627450980392157, 0.49411764705882355, 0.7529411764705882),\n",
       " (0.4745098039215686, 0.4745098039215686, 0.4745098039215686),\n",
       " (0.8352941176470589, 0.7333333333333333, 0.403921568627451),\n",
       " (0.5098039215686274, 0.7764705882352941, 0.8862745098039215)]"
      ]
     },
     "metadata": {},
     "output_type": "display_data"
    }
   ],
   "source": [
    "deep_colors = sns.color_palette(\"muted\")\n",
    "display(deep_colors)"
   ]
  },
  {
   "cell_type": "code",
   "execution_count": 19,
   "id": "59249512-0a19-4868-b5a0-5dc4e271c8af",
   "metadata": {},
   "outputs": [],
   "source": [
    "def format_data_size(x):\n",
    "    if x < 1000:\n",
    "        return f\"{int(x)}\"\n",
    "    elif x < 1000000:\n",
    "        return f\"{int(x/1000)}k\"\n",
    "\n",
    "    return f\"{int(x/1000000)}m\"\n",
    "\n",
    "\n",
    "plot_data = plot_data.assign(data_size=plot_data[\"data_size\"].apply(format_data_size))"
   ]
  },
  {
   "cell_type": "markdown",
   "id": "c581b4df-26fe-43e2-ba23-3595534c7ea2",
   "metadata": {},
   "source": [
    "## First analysis"
   ]
  },
  {
   "cell_type": "markdown",
   "id": "5fcb16ca-07a6-41b9-aa18-f22b84194e71",
   "metadata": {},
   "source": [
    "Here I take a look if using more than 1 core benefits methods."
   ]
  },
  {
   "cell_type": "code",
   "execution_count": 20,
   "id": "09151d37-4dd2-4c1f-ab4a-94b4d3e79018",
   "metadata": {},
   "outputs": [
    {
     "data": {
      "image/png": "[encoded data removed]",
      "text/plain": [
       "<Figure size 682.395x360 with 1 Axes>"
      ]
     },
     "metadata": {
      "needs_background": "light"
     },
     "output_type": "display_data"
    }
   ],
   "source": [
    "with sns.plotting_context(\"paper\", font_scale=1.5):\n",
    "    g = sns.catplot(\n",
    "        kind=\"point\",\n",
    "        data=plot_data,\n",
    "        x=\"data_size\",\n",
    "        y=\"time\",\n",
    "        hue=\"method\",\n",
    "        hue_order=hue_order,\n",
    "        palette=deep_colors,\n",
    "        height=5,\n",
    "        aspect=1.4,\n",
    "    )\n",
    "\n",
    "    plt.xlabel(\"Number of measured objects\")\n",
    "    plt.ylabel(\"Time (seconds)\")"
   ]
  },
  {
   "cell_type": "code",
   "execution_count": 21,
   "id": "c651024b-eb30-4d50-b71c-8eaa17704acd",
   "metadata": {},
   "outputs": [
    {
     "data": {
      "image/png": "[encoded data removed]",
      "text/plain": [
       "<Figure size 682.395x360 with 1 Axes>"
      ]
     },
     "metadata": {
      "needs_background": "light"
     },
     "output_type": "display_data"
    }
   ],
   "source": [
    "with sns.plotting_context(\"paper\", font_scale=1.5):\n",
    "    g = sns.catplot(\n",
    "        kind=\"point\",\n",
    "        data=plot_data,\n",
    "        x=\"data_size\",\n",
    "        y=\"time\",\n",
    "        hue=\"method\",\n",
    "        hue_order=hue_order,\n",
    "        palette=deep_colors,\n",
    "        height=5,\n",
    "        aspect=1.4,\n",
    "    )\n",
    "\n",
    "    plt.xlabel(\"Number of measured objects\")\n",
    "    plt.ylabel(\"Time (seconds) in log scale\")\n",
    "\n",
    "    g.ax.set_yscale(\"log\")"
   ]
  },
  {
   "cell_type": "markdown",
   "id": "d526030a-11a3-4084-bcc3-cd268d2b0599",
   "metadata": {},
   "source": [
    "Only CCC is really taking advantage of more than 1 core, so I'll remove the rest below."
   ]
  },
  {
   "cell_type": "markdown",
   "id": "610e0cef-d404-4db2-9e88-f26451e0dd87",
   "metadata": {},
   "source": [
    "# Final analysis"
   ]
  },
  {
   "cell_type": "code",
   "execution_count": 22,
   "id": "f7b788fe-666d-43ee-92d9-358c8451ada4",
   "metadata": {},
   "outputs": [],
   "source": [
    "# select runs with 3 cores for the other methods\n",
    "plot_data = plot_data.replace(\n",
    "    {\n",
    "        \"method\": {\n",
    "            \"Pearson (3 cores)\": \"Pearson\",\n",
    "            \"Spearman (3 cores)\": \"Spearman\",\n",
    "            \"MIC (3 cores)\": \"MIC\",\n",
    "            \"MICe (3 cores)\": r\"$\\mathregular{MIC_e}$\",\n",
    "        }\n",
    "    }\n",
    ")"
   ]
  },
  {
   "cell_type": "code",
   "execution_count": 23,
   "id": "c0c8b101-25bb-4891-8a6a-f6d50870f13c",
   "metadata": {},
   "outputs": [
    {
     "data": {
      "text/plain": [
       "array(['Pearson (1 core)', 'Spearman (1 core)', 'CCC (1 core)',\n",
       "       'MICe (1 core)', 'MIC (1 core)', 'Pearson', 'Spearman',\n",
       "       'CCC (3 cores)', '$\\\\mathregular{MIC_e}$', 'MIC'], dtype=object)"
      ]
     },
     "execution_count": 23,
     "metadata": {},
     "output_type": "execute_result"
    }
   ],
   "source": [
    "plot_data[\"method\"].unique()"
   ]
  },
  {
   "cell_type": "code",
   "execution_count": 26,
   "id": "10d6b353-a3a8-4d69-9695-2e5a9311be86",
   "metadata": {},
   "outputs": [],
   "source": [
    "hue_order = [\n",
    "    # \"MIC\",\n",
    "    r\"$\\mathregular{MIC_e}$\",\n",
    "    # \"CCC (1 core)\",\n",
    "    \"CCC (3 cores)\",\n",
    "    \"Spearman\",\n",
    "    \"Pearson\",\n",
    "]"
   ]
  },
  {
   "cell_type": "code",
   "execution_count": 32,
   "id": "f6f35635-3125-41ff-9e16-1b6b78314d20",
   "metadata": {},
   "outputs": [
    {
     "data": {
      "image/png": "[encoded data removed]",
      "text/plain": [
       "<Figure size 748.8x576 with 1 Axes>"
      ]
     },
     "metadata": {
      "needs_background": "light"
     },
     "output_type": "display_data"
    }
   ],
   "source": [
    "with sns.plotting_context(\"poster\", font_scale=1.3):\n",
    "    g = sns.catplot(\n",
    "        kind=\"point\",\n",
    "        data=plot_data,\n",
    "        x=\"data_size\",\n",
    "        y=\"time\",\n",
    "        hue=\"method\",\n",
    "        hue_order=hue_order,\n",
    "        palette=deep_colors,\n",
    "        height=8,\n",
    "        aspect=1.30,\n",
    "        legend=False,\n",
    "    )\n",
    "\n",
    "    plt.legend(loc=\"best\", fontsize=\"small\", framealpha=0.5)\n",
    "    plt.xlabel(\"Number of measured objects\")\n",
    "    plt.ylabel(\"Time (seconds) in log scale\")\n",
    "    g.ax.set_yscale(\"log\")\n",
    "\n",
    "    plt.savefig(\n",
    "        OUTPUT_FIGURE_DIR / f\"{INPUT_FILENAME_TEMPLATE}-log.pdf\",\n",
    "        bbox_inches=\"tight\",\n",
    "        facecolor=\"white\",\n",
    "    )"
   ]
  },
  {
   "cell_type": "code",
   "execution_count": null,
   "id": "4dd9bb5d-3376-4c74-8d04-5999db50509f",
   "metadata": {},
   "outputs": [],
   "source": []
  }
 ],
 "metadata": {
  "jupytext": {
   "cell_metadata_filter": "all,-execution,-papermill,-trusted"
  },
  "kernelspec": {
   "display_name": "Python 3 (ipykernel)",
   "language": "python",
   "name": "python3"
  },
  "language_info": {
   "codemirror_mode": {
    "name": "ipython",
    "version": 3
   },
   "file_extension": ".py",
   "mimetype": "text/x-python",
   "name": "python",
   "nbconvert_exporter": "python",
   "pygments_lexer": "ipython3",
   "version": "3.9.12"
  },
  "papermill": {
   "default_parameters": {},
   "duration": 106.874189,
   "end_time": "2022-01-28T21:08:16.453452",
   "environment_variables": {},
   "exception": null,
   "input_path": "nbs/20_comparison_others/50-combine_all.ipynb",
   "output_path": "nbs/20_comparison_others/50-combine_all.run.ipynb",
   "parameters": {
    "GTEX_TISSUE": "skin_sun_exposed_lower_leg"
   },
   "start_time": "2022-01-28T21:06:29.579263",
   "version": "2.3.3"
  }
 },
 "nbformat": 4,
 "nbformat_minor": 5
}
