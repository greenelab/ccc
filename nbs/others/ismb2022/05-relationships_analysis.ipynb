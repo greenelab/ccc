{
 "cells": [
  {
   "cell_type": "markdown",
   "id": "4efdf9ad-f1b0-40a4-a033-4bf93f7ad030",
   "metadata": {
    "papermill": {
     "duration": 0.063205,
     "end_time": "2021-11-19T21:18:45.499332",
     "exception": false,
     "start_time": "2021-11-19T21:18:45.436127",
     "status": "completed"
    },
    "tags": []
   },
   "source": [
    "# Description"
   ]
  },
  {
   "cell_type": "markdown",
   "id": "c8e1cfb2-bb21-40ab-9fd9-03c3458c0ab4",
   "metadata": {
    "papermill": {
     "duration": 0.06281,
     "end_time": "2021-11-19T21:18:45.625288",
     "exception": false,
     "start_time": "2021-11-19T21:18:45.562478",
     "status": "completed"
    },
    "tags": []
   },
   "source": [
    "This is the same notebook in `nbs/99_manuscript` but adapted for a poster at ISMB 2022.\n",
    "\n",
    "It generates datasets showing different relationship types between pairs of variables (for instance, a linear or quadratic pattern) and then compares different correlation coefficients."
   ]
  },
  {
   "cell_type": "markdown",
   "id": "8b7de09b-03ff-445a-b460-9a32fe7c70ad",
   "metadata": {
    "papermill": {
     "duration": 0.069529,
     "end_time": "2021-11-19T21:18:45.762225",
     "exception": false,
     "start_time": "2021-11-19T21:18:45.692696",
     "status": "completed"
    },
    "tags": []
   },
   "source": [
    "# Modules"
   ]
  },
  {
   "cell_type": "code",
   "execution_count": 1,
   "id": "e63984b9-d85c-4ec2-854a-eea10d9f2cad",
   "metadata": {
    "papermill": {
     "duration": 1.222566,
     "end_time": "2021-11-19T21:18:47.051114",
     "exception": false,
     "start_time": "2021-11-19T21:18:45.828548",
     "status": "completed"
    },
    "tags": []
   },
   "outputs": [],
   "source": [
    "import pandas as pd\n",
    "import numpy as np\n",
    "from scipy.stats import pearsonr, spearmanr\n",
    "import matplotlib.pyplot as plt\n",
    "import seaborn as sns\n",
    "from sklearn.preprocessing import minmax_scale\n",
    "\n",
    "from ccc import conf\n",
    "from ccc.coef import ccc"
   ]
  },
  {
   "cell_type": "markdown",
   "id": "0619629b-09ba-462b-be5b-ad48ff7e8ffa",
   "metadata": {
    "papermill": {
     "duration": 0.062667,
     "end_time": "2021-11-19T21:18:47.176897",
     "exception": false,
     "start_time": "2021-11-19T21:18:47.114230",
     "status": "completed"
    },
    "tags": []
   },
   "source": [
    "# Settings"
   ]
  },
  {
   "cell_type": "markdown",
   "id": "a629452d-4419-4114-b7a2-176d99eaad5c",
   "metadata": {
    "papermill": {
     "duration": 0.062778,
     "end_time": "2021-11-19T21:18:47.303614",
     "exception": false,
     "start_time": "2021-11-19T21:18:47.240836",
     "status": "completed"
    },
    "tags": []
   },
   "source": [
    "# Paths"
   ]
  },
  {
   "cell_type": "code",
   "execution_count": 2,
   "id": "9114c471",
   "metadata": {
    "papermill": {
     "duration": 0.068311,
     "end_time": "2021-11-19T21:18:47.433932",
     "exception": false,
     "start_time": "2021-11-19T21:18:47.365621",
     "status": "completed"
    },
    "tags": []
   },
   "outputs": [],
   "source": [
    "assert (\n",
    "    conf.MANUSCRIPT[\"BASE_DIR\"] is not None and conf.MANUSCRIPT[\"BASE_DIR\"].exists()\n",
    "), \"Manuscript dir not set\""
   ]
  },
  {
   "cell_type": "code",
   "execution_count": 3,
   "id": "3f8f251c-4d13-4665-85d2-e524e530cf39",
   "metadata": {},
   "outputs": [
    {
     "data": {
      "text/plain": [
       "PosixPath('/opt/manuscript/content/images/ismb2022/poster')"
      ]
     },
     "metadata": {},
     "output_type": "display_data"
    }
   ],
   "source": [
    "OUTPUT_FIGURE_DIR = conf.MANUSCRIPT[\"FIGURES_DIR\"] / \"ismb2022\" / \"poster\"\n",
    "OUTPUT_FIGURE_DIR.mkdir(parents=True, exist_ok=True)\n",
    "display(OUTPUT_FIGURE_DIR)"
   ]
  },
  {
   "cell_type": "markdown",
   "id": "8a2c4b73-af23-44c8-8b30-b297ed3530e2",
   "metadata": {
    "papermill": {
     "duration": 0.066089,
     "end_time": "2021-11-19T21:18:47.698944",
     "exception": false,
     "start_time": "2021-11-19T21:18:47.632855",
     "status": "completed"
    },
    "tags": []
   },
   "source": [
    "# Generate datasets"
   ]
  },
  {
   "cell_type": "markdown",
   "id": "c785968f-e38f-4c53-b853-f3d686ad363c",
   "metadata": {
    "papermill": {
     "duration": 0.065646,
     "end_time": "2021-11-19T21:18:47.829631",
     "exception": false,
     "start_time": "2021-11-19T21:18:47.763985",
     "status": "completed"
    },
    "tags": []
   },
   "source": [
    "## Anscombe dataset"
   ]
  },
  {
   "cell_type": "code",
   "execution_count": 4,
   "id": "87900265-e80f-44ea-9803-671b3bc692e2",
   "metadata": {
    "papermill": {
     "duration": 0.077423,
     "end_time": "2021-11-19T21:18:47.972952",
     "exception": false,
     "start_time": "2021-11-19T21:18:47.895529",
     "status": "completed"
    },
    "tags": []
   },
   "outputs": [],
   "source": [
    "datasets_df = sns.load_dataset(\"anscombe\")"
   ]
  },
  {
   "cell_type": "code",
   "execution_count": 5,
   "id": "a20cf193-ebd6-4af5-a0ff-fdff19d05146",
   "metadata": {
    "papermill": {
     "duration": 0.076385,
     "end_time": "2021-11-19T21:18:48.117215",
     "exception": false,
     "start_time": "2021-11-19T21:18:48.040830",
     "status": "completed"
    },
    "tags": []
   },
   "outputs": [
    {
     "data": {
      "text/plain": [
       "(44, 3)"
      ]
     },
     "execution_count": 5,
     "metadata": {},
     "output_type": "execute_result"
    }
   ],
   "source": [
    "datasets_df.shape"
   ]
  },
  {
   "cell_type": "code",
   "execution_count": 6,
   "id": "322bb7eb-24e8-4976-b740-9af3bdf5c9f0",
   "metadata": {
    "papermill": {
     "duration": 0.077425,
     "end_time": "2021-11-19T21:18:48.257662",
     "exception": false,
     "start_time": "2021-11-19T21:18:48.180237",
     "status": "completed"
    },
    "tags": []
   },
   "outputs": [
    {
     "data": {
      "text/html": [
       "<div>\n",
       "<style scoped>\n",
       "    .dataframe tbody tr th:only-of-type {\n",
       "        vertical-align: middle;\n",
       "    }\n",
       "\n",
       "    .dataframe tbody tr th {\n",
       "        vertical-align: top;\n",
       "    }\n",
       "\n",
       "    .dataframe thead th {\n",
       "        text-align: right;\n",
       "    }\n",
       "</style>\n",
       "<table border=\"1\" class=\"dataframe\">\n",
       "  <thead>\n",
       "    <tr style=\"text-align: right;\">\n",
       "      <th></th>\n",
       "      <th>dataset</th>\n",
       "      <th>x</th>\n",
       "      <th>y</th>\n",
       "    </tr>\n",
       "  </thead>\n",
       "  <tbody>\n",
       "    <tr>\n",
       "      <th>0</th>\n",
       "      <td>I</td>\n",
       "      <td>10.0</td>\n",
       "      <td>8.04</td>\n",
       "    </tr>\n",
       "    <tr>\n",
       "      <th>1</th>\n",
       "      <td>I</td>\n",
       "      <td>8.0</td>\n",
       "      <td>6.95</td>\n",
       "    </tr>\n",
       "    <tr>\n",
       "      <th>2</th>\n",
       "      <td>I</td>\n",
       "      <td>13.0</td>\n",
       "      <td>7.58</td>\n",
       "    </tr>\n",
       "    <tr>\n",
       "      <th>3</th>\n",
       "      <td>I</td>\n",
       "      <td>9.0</td>\n",
       "      <td>8.81</td>\n",
       "    </tr>\n",
       "    <tr>\n",
       "      <th>4</th>\n",
       "      <td>I</td>\n",
       "      <td>11.0</td>\n",
       "      <td>8.33</td>\n",
       "    </tr>\n",
       "  </tbody>\n",
       "</table>\n",
       "</div>"
      ],
      "text/plain": [
       "  dataset     x     y\n",
       "0       I  10.0  8.04\n",
       "1       I   8.0  6.95\n",
       "2       I  13.0  7.58\n",
       "3       I   9.0  8.81\n",
       "4       I  11.0  8.33"
      ]
     },
     "execution_count": 6,
     "metadata": {},
     "output_type": "execute_result"
    }
   ],
   "source": [
    "datasets_df.head()"
   ]
  },
  {
   "cell_type": "code",
   "execution_count": 7,
   "id": "148acbe5-e354-4c36-98d9-57f66e6742f7",
   "metadata": {
    "papermill": {
     "duration": 0.074516,
     "end_time": "2021-11-19T21:18:48.397732",
     "exception": false,
     "start_time": "2021-11-19T21:18:48.323216",
     "status": "completed"
    },
    "tags": []
   },
   "outputs": [],
   "source": [
    "datasets_df = datasets_df.assign(\n",
    "    dataset=datasets_df[\"dataset\"].apply(lambda x: f\"Anscombe {x}\")\n",
    ")"
   ]
  },
  {
   "cell_type": "code",
   "execution_count": 8,
   "id": "b32b2f78-5052-448b-beda-38f424d9875f",
   "metadata": {
    "papermill": {
     "duration": 0.08089,
     "end_time": "2021-11-19T21:18:48.543853",
     "exception": false,
     "start_time": "2021-11-19T21:18:48.462963",
     "status": "completed"
    },
    "tags": []
   },
   "outputs": [
    {
     "data": {
      "text/html": [
       "<div>\n",
       "<style scoped>\n",
       "    .dataframe tbody tr th:only-of-type {\n",
       "        vertical-align: middle;\n",
       "    }\n",
       "\n",
       "    .dataframe tbody tr th {\n",
       "        vertical-align: top;\n",
       "    }\n",
       "\n",
       "    .dataframe thead th {\n",
       "        text-align: right;\n",
       "    }\n",
       "</style>\n",
       "<table border=\"1\" class=\"dataframe\">\n",
       "  <thead>\n",
       "    <tr style=\"text-align: right;\">\n",
       "      <th></th>\n",
       "      <th>x</th>\n",
       "      <th>y</th>\n",
       "    </tr>\n",
       "  </thead>\n",
       "  <tbody>\n",
       "    <tr>\n",
       "      <th>count</th>\n",
       "      <td>44.000000</td>\n",
       "      <td>44.000000</td>\n",
       "    </tr>\n",
       "    <tr>\n",
       "      <th>mean</th>\n",
       "      <td>9.000000</td>\n",
       "      <td>7.500682</td>\n",
       "    </tr>\n",
       "    <tr>\n",
       "      <th>std</th>\n",
       "      <td>3.198837</td>\n",
       "      <td>1.958925</td>\n",
       "    </tr>\n",
       "    <tr>\n",
       "      <th>min</th>\n",
       "      <td>4.000000</td>\n",
       "      <td>3.100000</td>\n",
       "    </tr>\n",
       "    <tr>\n",
       "      <th>25%</th>\n",
       "      <td>7.000000</td>\n",
       "      <td>6.117500</td>\n",
       "    </tr>\n",
       "    <tr>\n",
       "      <th>50%</th>\n",
       "      <td>8.000000</td>\n",
       "      <td>7.520000</td>\n",
       "    </tr>\n",
       "    <tr>\n",
       "      <th>75%</th>\n",
       "      <td>11.000000</td>\n",
       "      <td>8.747500</td>\n",
       "    </tr>\n",
       "    <tr>\n",
       "      <th>max</th>\n",
       "      <td>19.000000</td>\n",
       "      <td>12.740000</td>\n",
       "    </tr>\n",
       "  </tbody>\n",
       "</table>\n",
       "</div>"
      ],
      "text/plain": [
       "               x          y\n",
       "count  44.000000  44.000000\n",
       "mean    9.000000   7.500682\n",
       "std     3.198837   1.958925\n",
       "min     4.000000   3.100000\n",
       "25%     7.000000   6.117500\n",
       "50%     8.000000   7.520000\n",
       "75%    11.000000   8.747500\n",
       "max    19.000000  12.740000"
      ]
     },
     "execution_count": 8,
     "metadata": {},
     "output_type": "execute_result"
    }
   ],
   "source": [
    "datasets_df.describe()"
   ]
  },
  {
   "cell_type": "code",
   "execution_count": 9,
   "id": "95a9db8b-29e9-4c59-9826-c728c7b9180b",
   "metadata": {
    "papermill": {
     "duration": 0.07591,
     "end_time": "2021-11-19T21:18:48.686468",
     "exception": false,
     "start_time": "2021-11-19T21:18:48.610558",
     "status": "completed"
    },
    "tags": []
   },
   "outputs": [],
   "source": [
    "x_lim = (3, 20)\n",
    "y_lim = (3, 13)"
   ]
  },
  {
   "cell_type": "markdown",
   "id": "df0bea14-821a-4f07-b2a0-e956ae138c09",
   "metadata": {
    "papermill": {
     "duration": 0.06804,
     "end_time": "2021-11-19T21:18:48.823579",
     "exception": false,
     "start_time": "2021-11-19T21:18:48.755539",
     "status": "completed"
    },
    "tags": []
   },
   "source": [
    "## Quadratic"
   ]
  },
  {
   "cell_type": "code",
   "execution_count": 10,
   "id": "912943d2-a487-48f5-9b92-83242fa2f8c2",
   "metadata": {
    "papermill": {
     "duration": 0.075336,
     "end_time": "2021-11-19T21:18:48.967809",
     "exception": false,
     "start_time": "2021-11-19T21:18:48.892473",
     "status": "completed"
    },
    "tags": []
   },
   "outputs": [],
   "source": [
    "rel_name = \"Quadratic\""
   ]
  },
  {
   "cell_type": "code",
   "execution_count": 11,
   "id": "7b79e345-3dd0-48cf-9dee-2fb45822b074",
   "metadata": {
    "papermill": {
     "duration": 0.080181,
     "end_time": "2021-11-19T21:18:49.116768",
     "exception": false,
     "start_time": "2021-11-19T21:18:49.036587",
     "status": "completed"
    },
    "tags": []
   },
   "outputs": [],
   "source": [
    "np.random.seed(0)\n",
    "\n",
    "x = minmax_scale(np.random.rand(100), (-10, 10))\n",
    "y = np.power(x, 2.0)\n",
    "\n",
    "x = minmax_scale(x, (0, x_lim[1]))\n",
    "x = x + np.random.normal(0, 0.5, x.shape[0])\n",
    "y = minmax_scale(y, y_lim)\n",
    "y = y + np.random.normal(0, 0.5, y.shape[0])\n",
    "\n",
    "datasets_df = datasets_df[~datasets_df[\"dataset\"].isin((rel_name,))]\n",
    "datasets_df = datasets_df.append(\n",
    "    pd.DataFrame(\n",
    "        {\n",
    "            \"dataset\": rel_name,\n",
    "            \"x\": x,\n",
    "            \"y\": y,\n",
    "        }\n",
    "    ),\n",
    "    ignore_index=True,\n",
    ")"
   ]
  },
  {
   "cell_type": "markdown",
   "id": "869da4d1-0816-4ded-940f-8eada4532490",
   "metadata": {
    "papermill": {
     "duration": 0.06842,
     "end_time": "2021-11-19T21:18:49.252642",
     "exception": false,
     "start_time": "2021-11-19T21:18:49.184222",
     "status": "completed"
    },
    "tags": []
   },
   "source": [
    "## Non-coexistence"
   ]
  },
  {
   "cell_type": "code",
   "execution_count": 12,
   "id": "c7f7a4aa-d9eb-4917-beb8-59d91947b97f",
   "metadata": {
    "papermill": {
     "duration": 0.073868,
     "end_time": "2021-11-19T21:18:49.396292",
     "exception": false,
     "start_time": "2021-11-19T21:18:49.322424",
     "status": "completed"
    },
    "tags": []
   },
   "outputs": [],
   "source": [
    "rel_name = \"Non-coexistence\""
   ]
  },
  {
   "cell_type": "code",
   "execution_count": 13,
   "id": "d345cc0c-3e75-4fcb-9556-f8369b734449",
   "metadata": {
    "papermill": {
     "duration": 0.084486,
     "end_time": "2021-11-19T21:18:49.548917",
     "exception": false,
     "start_time": "2021-11-19T21:18:49.464431",
     "status": "completed"
    },
    "tags": []
   },
   "outputs": [],
   "source": [
    "np.random.seed(5)\n",
    "\n",
    "# x = minmax_scale(np.random.beta(0.5, 0.5, 50), (0.05, 20))\n",
    "# y = np.power(0.05, x) # np.log(x) / np.log(1/10.)\n",
    "\n",
    "x = minmax_scale(np.random.rand(50), (0, x_lim[1]))\n",
    "y = minmax_scale(np.random.rand(50), (2, 2 + 0.5))\n",
    "\n",
    "x2 = minmax_scale(np.random.rand(50), (0, 0 + 0.5))\n",
    "y2 = minmax_scale(np.random.rand(50), (2, y_lim[1]))\n",
    "x = np.append(x, x2)\n",
    "y = np.append(y, y2)\n",
    "\n",
    "# x = minmax_scale(x, (0, 20))\n",
    "x = x + np.random.normal(0, 0.05, x.shape[0])\n",
    "# y = minmax_scale(y, (3, 12))\n",
    "y = y + np.random.normal(0, 0.05, y.shape[0])\n",
    "\n",
    "datasets_df = datasets_df[~datasets_df[\"dataset\"].isin((rel_name,))]\n",
    "datasets_df = datasets_df.append(\n",
    "    pd.DataFrame(\n",
    "        {\n",
    "            \"dataset\": rel_name,\n",
    "            \"x\": x,\n",
    "            \"y\": y,\n",
    "        }\n",
    "    ),\n",
    "    ignore_index=True,\n",
    ")"
   ]
  },
  {
   "cell_type": "markdown",
   "id": "689579f3-f2cb-40d4-b913-378217f94acb",
   "metadata": {
    "papermill": {
     "duration": 0.074329,
     "end_time": "2021-11-19T21:18:49.695635",
     "exception": false,
     "start_time": "2021-11-19T21:18:49.621306",
     "status": "completed"
    },
    "tags": []
   },
   "source": [
    "## Two-lines"
   ]
  },
  {
   "cell_type": "code",
   "execution_count": 14,
   "id": "df0553e7-3d19-4fcb-b294-69c5a2292e9c",
   "metadata": {
    "papermill": {
     "duration": 0.084934,
     "end_time": "2021-11-19T21:18:49.853023",
     "exception": false,
     "start_time": "2021-11-19T21:18:49.768089",
     "status": "completed"
    },
    "tags": []
   },
   "outputs": [],
   "source": [
    "rel_name = \"Two-lines\""
   ]
  },
  {
   "cell_type": "code",
   "execution_count": 15,
   "id": "545070ae-9722-4ed4-a4e7-48faf33c912d",
   "metadata": {
    "papermill": {
     "duration": 0.087753,
     "end_time": "2021-11-19T21:18:50.012320",
     "exception": false,
     "start_time": "2021-11-19T21:18:49.924567",
     "status": "completed"
    },
    "tags": []
   },
   "outputs": [],
   "source": [
    "np.random.seed(5)\n",
    "\n",
    "x = minmax_scale(np.random.rand(50), x_lim)\n",
    "y = 0.3 * x\n",
    "\n",
    "x2 = minmax_scale(np.random.rand(50), (0, 5))\n",
    "y2 = 3.5 * x2\n",
    "x = np.append(x, x2)\n",
    "y = np.append(y, y2)\n",
    "\n",
    "# x = minmax_scale(x, (0, 20))\n",
    "x = x + np.random.normal(0, 0.5, x.shape[0])\n",
    "y = minmax_scale(y, y_lim)\n",
    "y = y + np.random.normal(0, 0.5, y.shape[0])\n",
    "\n",
    "datasets_df = datasets_df[~datasets_df[\"dataset\"].isin((rel_name,))]\n",
    "datasets_df = datasets_df.append(\n",
    "    pd.DataFrame(\n",
    "        {\n",
    "            \"dataset\": rel_name,\n",
    "            \"x\": x,\n",
    "            \"y\": y,\n",
    "        }\n",
    "    ),\n",
    "    ignore_index=True,\n",
    ")"
   ]
  },
  {
   "cell_type": "markdown",
   "id": "16c45c61-8ad7-4fea-9853-c41f60baf976",
   "metadata": {
    "papermill": {
     "duration": 0.073491,
     "end_time": "2021-11-19T21:18:50.152752",
     "exception": false,
     "start_time": "2021-11-19T21:18:50.079261",
     "status": "completed"
    },
    "tags": []
   },
   "source": [
    "## Random / independent"
   ]
  },
  {
   "cell_type": "code",
   "execution_count": 16,
   "id": "d066318e-1f1c-4032-87c8-cf2557a62230",
   "metadata": {
    "papermill": {
     "duration": 0.08408,
     "end_time": "2021-11-19T21:18:50.313574",
     "exception": false,
     "start_time": "2021-11-19T21:18:50.229494",
     "status": "completed"
    },
    "tags": []
   },
   "outputs": [],
   "source": [
    "rel_name = \"Random / independent\""
   ]
  },
  {
   "cell_type": "code",
   "execution_count": 17,
   "id": "beb68af6-dd8a-4da3-a532-7477aa0c6fbc",
   "metadata": {
    "papermill": {
     "duration": 0.081485,
     "end_time": "2021-11-19T21:18:50.465871",
     "exception": false,
     "start_time": "2021-11-19T21:18:50.384386",
     "status": "completed"
    },
    "tags": []
   },
   "outputs": [],
   "source": [
    "np.random.seed(10)\n",
    "\n",
    "x = np.random.rand(100)\n",
    "y = np.random.rand(100)\n",
    "\n",
    "x = minmax_scale(x, (0, x_lim[1]))\n",
    "y = minmax_scale(y, y_lim)\n",
    "\n",
    "datasets_df = datasets_df[~datasets_df[\"dataset\"].isin((rel_name,))]\n",
    "datasets_df = datasets_df.append(\n",
    "    pd.DataFrame(\n",
    "        {\n",
    "            \"dataset\": rel_name,\n",
    "            \"x\": x,\n",
    "            \"y\": y,\n",
    "        }\n",
    "    ),\n",
    "    ignore_index=True,\n",
    ")"
   ]
  },
  {
   "cell_type": "markdown",
   "id": "c51eaf1c-4bff-40ef-9c76-fcea77ca90c5",
   "metadata": {
    "papermill": {
     "duration": 0.069284,
     "end_time": "2021-11-19T21:18:50.605146",
     "exception": false,
     "start_time": "2021-11-19T21:18:50.535862",
     "status": "completed"
    },
    "tags": []
   },
   "source": [
    "Create a dictionary with easier access to datasets"
   ]
  },
  {
   "cell_type": "code",
   "execution_count": 18,
   "id": "9328a89b-dbd7-4faf-adeb-8a9a3a60af9e",
   "metadata": {
    "papermill": {
     "duration": 0.084379,
     "end_time": "2021-11-19T21:18:50.763066",
     "exception": false,
     "start_time": "2021-11-19T21:18:50.678687",
     "status": "completed"
    },
    "tags": []
   },
   "outputs": [],
   "source": [
    "datasets = {\n",
    "    idx: df.drop(columns=\"dataset\") for idx, df in datasets_df.groupby(\"dataset\")\n",
    "}"
   ]
  },
  {
   "cell_type": "markdown",
   "id": "e9110ac9-5968-405f-9070-eca3f9389a54",
   "metadata": {
    "papermill": {
     "duration": 0.071517,
     "end_time": "2021-11-19T21:18:50.905795",
     "exception": false,
     "start_time": "2021-11-19T21:18:50.834278",
     "status": "completed"
    },
    "tags": []
   },
   "source": [
    "# Plot"
   ]
  },
  {
   "cell_type": "code",
   "execution_count": 19,
   "id": "0109f1d9-22ff-42fd-8bf8-ab84f449cbbd",
   "metadata": {
    "papermill": {
     "duration": 0.078876,
     "end_time": "2021-11-19T21:18:51.056943",
     "exception": false,
     "start_time": "2021-11-19T21:18:50.978067",
     "status": "completed"
    },
    "tags": []
   },
   "outputs": [],
   "source": [
    "def get_cm_line_points(x, y, max_parts, parts):\n",
    "    \"\"\"\n",
    "    Given two data vectors (x and y) and the max_parts and parts\n",
    "    returned from calling cm, this function returns two arrays with\n",
    "    scalars to draw the lines that separates clusters in x and y.\n",
    "    \"\"\"\n",
    "    # get the ccc partitions that maximize the coefficient\n",
    "    x_max_part = parts[0][max_parts[0]]\n",
    "    x_unique_k = {}\n",
    "    for k in np.unique(x_max_part):\n",
    "        data = x[x_max_part == k]\n",
    "        x_unique_k[k] = data.min(), data.max()\n",
    "    x_unique_k = sorted(x_unique_k.items(), key=lambda x: x[1][0])\n",
    "\n",
    "    y_max_part = parts[1][max_parts[1]]\n",
    "    y_unique_k = {}\n",
    "    for k in np.unique(y_max_part):\n",
    "        data = y[y_max_part == k]\n",
    "        y_unique_k[k] = data.min(), data.max()\n",
    "    y_unique_k = sorted(y_unique_k.items(), key=lambda x: x[1][0])\n",
    "\n",
    "    x_line_points, y_line_points = [], []\n",
    "\n",
    "    for idx in range(len(x_unique_k) - 1):\n",
    "        k, (k_min, k_max) = x_unique_k[idx]\n",
    "        nk, (nk_min, nk_max) = x_unique_k[idx + 1]\n",
    "\n",
    "        x_line_points.append((k_max + nk_min) / 2.0)\n",
    "\n",
    "    for idx in range(len(y_unique_k) - 1):\n",
    "        k, (k_min, k_max) = y_unique_k[idx]\n",
    "        nk, (nk_min, nk_max) = y_unique_k[idx + 1]\n",
    "\n",
    "        y_line_points.append((k_max + nk_min) / 2.0)\n",
    "\n",
    "    return x_line_points, y_line_points"
   ]
  },
  {
   "cell_type": "code",
   "execution_count": 24,
   "id": "55ecad23-cf11-4ed5-a81d-c7faa16ad8b9",
   "metadata": {
    "papermill": {
     "duration": 24.508776,
     "end_time": "2021-11-19T21:19:15.636127",
     "exception": false,
     "start_time": "2021-11-19T21:18:51.127351",
     "status": "completed"
    },
    "tags": []
   },
   "outputs": [
    {
     "data": {
      "image/png": "[encoded data removed]",
      "text/plain": [
       "<Figure size 1440x720 with 8 Axes>"
      ]
     },
     "metadata": {
      "needs_background": "light"
     },
     "output_type": "display_data"
    }
   ],
   "source": [
    "with sns.plotting_context(\"poster\", font_scale=1.0):\n",
    "    g = sns.FacetGrid(\n",
    "        data=datasets_df,\n",
    "        col=\"dataset\",\n",
    "        col_order=[\n",
    "            \"Anscombe I\",\n",
    "            \"Anscombe II\",\n",
    "            \"Anscombe III\",\n",
    "            \"Anscombe IV\",\n",
    "            \"Random / independent\",\n",
    "            \"Non-coexistence\",\n",
    "            \"Quadratic\",\n",
    "            \"Two-lines\",\n",
    "        ],\n",
    "        col_wrap=4,\n",
    "        height=5,\n",
    "    )\n",
    "    g.map(sns.scatterplot, \"x\", \"y\", alpha=1)\n",
    "    g.set_titles(row_template=\"{row_name}\", col_template=\"{col_name}\")\n",
    "\n",
    "    for ds, ax in g.axes_dict.items():\n",
    "        df = datasets[ds].to_numpy()\n",
    "        x, y = df[:, 0], df[:, 1]\n",
    "\n",
    "        # pearson and spearman\n",
    "        r = pearsonr(x, y)[0]\n",
    "        rs = spearmanr(x, y)[0]\n",
    "\n",
    "        # ccc\n",
    "        c, max_parts, parts = ccc(x, y, return_parts=True)\n",
    "        c = ccc(x, y)\n",
    "\n",
    "        x_line_points, y_line_points = get_cm_line_points(x, y, max_parts, parts)\n",
    "        for yp in y_line_points:\n",
    "            ax.hlines(y=yp, xmin=-0.5, xmax=20, color=\"r\", alpha=0.5)\n",
    "\n",
    "        for xp in x_line_points:\n",
    "            ax.vlines(x=xp, ymin=1.5, ymax=14, color=\"r\", alpha=0.5)\n",
    "\n",
    "        # add text box for the statistics\n",
    "        stats = f\"$p$ = {r:.2f}\\n\" f\"$s$ = {rs:.2f}\\n\" f\"$c$ = {c:.2f}\"\n",
    "        bbox = dict(boxstyle=\"round\", fc=\"white\", ec=\"black\", alpha=0.75)\n",
    "        ax.text(\n",
    "            0.95,\n",
    "            0.07,\n",
    "            stats,\n",
    "            # fontsize=14,\n",
    "            bbox=bbox,\n",
    "            transform=ax.transAxes,\n",
    "            horizontalalignment=\"right\",\n",
    "        )\n",
    "\n",
    "    plt.savefig(\n",
    "        OUTPUT_FIGURE_DIR / \"relationships.pdf\",\n",
    "        # rasterized=True,\n",
    "        # dpi=300,\n",
    "        bbox_inches=\"tight\",\n",
    "        facecolor=\"white\",\n",
    "    )"
   ]
  },
  {
   "cell_type": "code",
   "execution_count": null,
   "id": "7b71e8a4-c4ef-4d4c-ab4c-18978ec41548",
   "metadata": {
    "papermill": {
     "duration": 0.068834,
     "end_time": "2021-11-19T21:19:15.910775",
     "exception": false,
     "start_time": "2021-11-19T21:19:15.841941",
     "status": "completed"
    },
    "tags": []
   },
   "outputs": [],
   "source": []
  }
 ],
 "metadata": {
  "jupytext": {
   "cell_metadata_filter": "all,-execution,-papermill,-trusted"
  },
  "kernelspec": {
   "display_name": "Python 3 (ipykernel)",
   "language": "python",
   "name": "python3"
  },
  "language_info": {
   "codemirror_mode": {
    "name": "ipython",
    "version": 3
   },
   "file_extension": ".py",
   "mimetype": "text/x-python",
   "name": "python",
   "nbconvert_exporter": "python",
   "pygments_lexer": "ipython3",
   "version": "3.9.12"
  },
  "papermill": {
   "default_parameters": {},
   "duration": 32.678123,
   "end_time": "2021-11-19T21:19:16.691181",
   "environment_variables": {},
   "exception": null,
   "input_path": "nbs/99_manuscript/intro/05-anscombe_analysis.ipynb",
   "output_path": "nbs/99_manuscript/intro/05-anscombe_analysis.run.ipynb",
   "parameters": {},
   "start_time": "2021-11-19T21:18:44.013058",
   "version": "2.3.3"
  },
  "toc-autonumbering": true
 },
 "nbformat": 4,
 "nbformat_minor": 5
}
