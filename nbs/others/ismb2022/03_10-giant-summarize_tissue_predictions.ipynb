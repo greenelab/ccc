{
 "cells": [
  {
   "cell_type": "markdown",
   "id": "87e0ce1b-7ce6-4499-9342-5ded05307598",
   "metadata": {
    "papermill": {
     "duration": 0.105156,
     "end_time": "2021-12-21T20:13:36.669733",
     "exception": false,
     "start_time": "2021-12-21T20:13:36.564577",
     "status": "completed"
    },
    "tags": []
   },
   "source": [
    "# Description"
   ]
  },
  {
   "cell_type": "markdown",
   "id": "4bfc7115-350a-441b-9a19-7626a948a694",
   "metadata": {
    "papermill": {
     "duration": 0.077358,
     "end_time": "2021-12-21T20:13:36.824140",
     "exception": false,
     "start_time": "2021-12-21T20:13:36.746782",
     "status": "completed"
    },
    "tags": []
   },
   "source": [
    "This is the same notebook in `nbs/99_manuscript` but adapted for a poster at ISMB 2022.\n",
    "\n",
    "Creates a plot to summarize predicted cell types and interaction probabilities across the top genes for each correlation coefficients."
   ]
  },
  {
   "cell_type": "markdown",
   "id": "e020c781-238b-43c2-8cad-2722b8a240e2",
   "metadata": {
    "papermill": {
     "duration": 0.078359,
     "end_time": "2021-12-21T20:13:36.980950",
     "exception": false,
     "start_time": "2021-12-21T20:13:36.902591",
     "status": "completed"
    },
    "tags": []
   },
   "source": [
    "# Modules"
   ]
  },
  {
   "cell_type": "code",
   "execution_count": 1,
   "id": "a819bfbc-5009-4c68-ba8d-37d0979d368f",
   "metadata": {
    "papermill": {
     "duration": 1.400218,
     "end_time": "2021-12-21T20:13:38.460171",
     "exception": false,
     "start_time": "2021-12-21T20:13:37.059953",
     "status": "completed"
    },
    "tags": []
   },
   "outputs": [],
   "source": [
    "import pandas as pd\n",
    "import seaborn as sns\n",
    "\n",
    "from ccc import conf"
   ]
  },
  {
   "cell_type": "markdown",
   "id": "b4834387-58ff-468c-b326-85c408bc5feb",
   "metadata": {
    "papermill": {
     "duration": 0.079144,
     "end_time": "2021-12-21T20:13:38.626394",
     "exception": false,
     "start_time": "2021-12-21T20:13:38.547250",
     "status": "completed"
    },
    "tags": []
   },
   "source": [
    "# Settings"
   ]
  },
  {
   "cell_type": "code",
   "execution_count": 2,
   "id": "c598102c-b0e9-417b-bfa5-fc55d508fa51",
   "metadata": {
    "papermill": {
     "duration": 0.083667,
     "end_time": "2021-12-21T20:13:38.949957",
     "exception": false,
     "start_time": "2021-12-21T20:13:38.866290",
     "status": "completed"
    },
    "tags": []
   },
   "outputs": [],
   "source": [
    "N_TOP_GENE_PAIRS = 100\n",
    "N_TOP_TISSUES = 5"
   ]
  },
  {
   "cell_type": "markdown",
   "id": "a1159982-5dd1-4494-97d4-0674eeead1c3",
   "metadata": {
    "papermill": {
     "duration": 0.077617,
     "end_time": "2021-12-21T20:13:39.105285",
     "exception": false,
     "start_time": "2021-12-21T20:13:39.027668",
     "status": "completed"
    },
    "tags": []
   },
   "source": [
    "# Paths"
   ]
  },
  {
   "cell_type": "code",
   "execution_count": 3,
   "id": "ed9d8421-8b1c-4f3f-9729-3cb8daa6d504",
   "metadata": {
    "papermill": {
     "duration": 0.085709,
     "end_time": "2021-12-21T20:13:39.269702",
     "exception": false,
     "start_time": "2021-12-21T20:13:39.183993",
     "status": "completed"
    },
    "tags": []
   },
   "outputs": [],
   "source": [
    "assert (\n",
    "    conf.MANUSCRIPT[\"BASE_DIR\"] is not None and conf.MANUSCRIPT[\"BASE_DIR\"].exists()\n",
    "), \"Manuscript dir not set\""
   ]
  },
  {
   "cell_type": "code",
   "execution_count": 4,
   "id": "edb8fea4-335e-46ca-a9b0-1852778d39d0",
   "metadata": {
    "papermill": {
     "duration": 0.086622,
     "end_time": "2021-12-21T20:13:39.436193",
     "exception": false,
     "start_time": "2021-12-21T20:13:39.349571",
     "status": "completed"
    },
    "tags": []
   },
   "outputs": [
    {
     "data": {
      "text/plain": [
       "PosixPath('/opt/manuscript/content/images/coefs_comp')"
      ]
     },
     "metadata": {},
     "output_type": "display_data"
    }
   ],
   "source": [
    "COEF_COMP_DIR = conf.MANUSCRIPT[\"FIGURES_DIR\"] / \"coefs_comp\"\n",
    "COEF_COMP_DIR.mkdir(parents=True, exist_ok=True)\n",
    "display(COEF_COMP_DIR)"
   ]
  },
  {
   "cell_type": "code",
   "execution_count": 5,
   "id": "f4519e56-b72a-450e-a51b-b01f9c098b83",
   "metadata": {
    "papermill": {
     "duration": 0.086622,
     "end_time": "2021-12-21T20:13:39.436193",
     "exception": false,
     "start_time": "2021-12-21T20:13:39.349571",
     "status": "completed"
    },
    "tags": []
   },
   "outputs": [
    {
     "data": {
      "text/plain": [
       "PosixPath('/opt/manuscript/content/images/ismb2022/poster_figures')"
      ]
     },
     "metadata": {},
     "output_type": "display_data"
    }
   ],
   "source": [
    "OUTPUT_FIGURE_DIR = conf.MANUSCRIPT[\"FIGURES_DIR\"] / \"ismb2022\" / \"poster_figures\"\n",
    "OUTPUT_FIGURE_DIR.mkdir(parents=True, exist_ok=True)\n",
    "display(OUTPUT_FIGURE_DIR)"
   ]
  },
  {
   "cell_type": "code",
   "execution_count": 6,
   "id": "534e013a-e73e-4306-a2f5-1f8301a9a4c5",
   "metadata": {
    "papermill": {
     "duration": 0.088947,
     "end_time": "2021-12-21T20:13:39.799072",
     "exception": false,
     "start_time": "2021-12-21T20:13:39.710125",
     "status": "completed"
    },
    "tags": []
   },
   "outputs": [
    {
     "data": {
      "text/plain": [
       "PosixPath('/opt/data/results/giant/intersection_genes')"
      ]
     },
     "metadata": {},
     "output_type": "display_data"
    }
   ],
   "source": [
    "OUTPUT_DIR = conf.GIANT[\"RESULTS_DIR\"] / \"intersection_genes\"\n",
    "OUTPUT_DIR.mkdir(parents=True, exist_ok=True)\n",
    "display(OUTPUT_DIR)"
   ]
  },
  {
   "cell_type": "markdown",
   "id": "1fe2ea25-0b72-4da8-b8f5-eb1e094b1ffc",
   "metadata": {
    "papermill": {
     "duration": 0.077617,
     "end_time": "2021-12-21T20:13:39.105285",
     "exception": false,
     "start_time": "2021-12-21T20:13:39.027668",
     "status": "completed"
    },
    "tags": []
   },
   "source": [
    "# Summarize"
   ]
  },
  {
   "cell_type": "code",
   "execution_count": 7,
   "id": "42f307ff-3e84-4fb5-bdaf-1041ee8d4dd3",
   "metadata": {},
   "outputs": [],
   "source": [
    "all_subsets_dfs = []"
   ]
  },
  {
   "cell_type": "markdown",
   "id": "14f6d4fe-6018-4b41-b7c2-45a73d811ec7",
   "metadata": {},
   "source": [
    "## Functions"
   ]
  },
  {
   "cell_type": "code",
   "execution_count": 8,
   "id": "f8c05819-b8e8-4b66-b41a-47d43cc5471b",
   "metadata": {},
   "outputs": [],
   "source": [
    "def read_hdf(filepath, subset):\n",
    "    return pd.read_hdf(filepath, key=\"data\").assign(\n",
    "        order=int(filepath.name.split(\"-\")[0]),\n",
    "        gene_pair=filepath.name.split(\"-\")[1].split(\".\")[0].upper(),\n",
    "        tissue=pd.read_hdf(filepath, key=\"metadata\")[\"tissue\"].squeeze(),\n",
    "        subset=subset,\n",
    "    )"
   ]
  },
  {
   "cell_type": "markdown",
   "id": "4177dab7-12b5-4a0a-a033-fcdaaf6bcaaf",
   "metadata": {},
   "source": [
    "## CCC vs Pearson"
   ]
  },
  {
   "cell_type": "code",
   "execution_count": 9,
   "id": "e14b2d97-374a-4622-a774-551ab71f5292",
   "metadata": {},
   "outputs": [],
   "source": [
    "subset = \"clustermatch_vs_pearson\""
   ]
  },
  {
   "cell_type": "code",
   "execution_count": 10,
   "id": "1b2bdeb5-2b4a-47c8-a065-f9d1d6f2d657",
   "metadata": {},
   "outputs": [
    {
     "data": {
      "text/plain": [
       "100"
      ]
     },
     "metadata": {},
     "output_type": "display_data"
    },
    {
     "data": {
      "text/plain": [
       "[PosixPath('/opt/data/results/giant/intersection_genes/clustermatch_vs_pearson/000-tbcc_ifng.h5'),\n",
       " PosixPath('/opt/data/results/giant/intersection_genes/clustermatch_vs_pearson/002-ccl18_zdhhc12.h5'),\n",
       " PosixPath('/opt/data/results/giant/intersection_genes/clustermatch_vs_pearson/004-glipr1_ifng.h5')]"
      ]
     },
     "metadata": {},
     "output_type": "display_data"
    }
   ],
   "source": [
    "subset_files = sorted(list((OUTPUT_DIR / subset).glob(\"*.h5\")))\n",
    "display(len(subset_files))\n",
    "display(subset_files[:3])"
   ]
  },
  {
   "cell_type": "code",
   "execution_count": 11,
   "id": "d0b64fa7-0376-4312-bca7-f1e42a2365bf",
   "metadata": {},
   "outputs": [
    {
     "data": {
      "text/html": [
       "<div>\n",
       "<style scoped>\n",
       "    .dataframe tbody tr th:only-of-type {\n",
       "        vertical-align: middle;\n",
       "    }\n",
       "\n",
       "    .dataframe tbody tr th {\n",
       "        vertical-align: top;\n",
       "    }\n",
       "\n",
       "    .dataframe thead th {\n",
       "        text-align: right;\n",
       "    }\n",
       "</style>\n",
       "<table border=\"1\" class=\"dataframe\">\n",
       "  <thead>\n",
       "    <tr style=\"text-align: right;\">\n",
       "      <th></th>\n",
       "      <th>gene1</th>\n",
       "      <th>gene2</th>\n",
       "      <th>weight</th>\n",
       "      <th>order</th>\n",
       "      <th>gene_pair</th>\n",
       "      <th>tissue</th>\n",
       "      <th>subset</th>\n",
       "    </tr>\n",
       "  </thead>\n",
       "  <tbody>\n",
       "    <tr>\n",
       "      <th>0</th>\n",
       "      <td>CLP1</td>\n",
       "      <td>ZNF207</td>\n",
       "      <td>0.282636</td>\n",
       "      <td>0</td>\n",
       "      <td>TBCC_IFNG</td>\n",
       "      <td>nervous-system</td>\n",
       "      <td>clustermatch_vs_pearson</td>\n",
       "    </tr>\n",
       "    <tr>\n",
       "      <th>1</th>\n",
       "      <td>CLP1</td>\n",
       "      <td>CXCR6</td>\n",
       "      <td>0.038849</td>\n",
       "      <td>0</td>\n",
       "      <td>TBCC_IFNG</td>\n",
       "      <td>nervous-system</td>\n",
       "      <td>clustermatch_vs_pearson</td>\n",
       "    </tr>\n",
       "    <tr>\n",
       "      <th>2</th>\n",
       "      <td>CLP1</td>\n",
       "      <td>RNF113A</td>\n",
       "      <td>0.136710</td>\n",
       "      <td>0</td>\n",
       "      <td>TBCC_IFNG</td>\n",
       "      <td>nervous-system</td>\n",
       "      <td>clustermatch_vs_pearson</td>\n",
       "    </tr>\n",
       "    <tr>\n",
       "      <th>3</th>\n",
       "      <td>CLP1</td>\n",
       "      <td>MOAP1</td>\n",
       "      <td>0.085126</td>\n",
       "      <td>0</td>\n",
       "      <td>TBCC_IFNG</td>\n",
       "      <td>nervous-system</td>\n",
       "      <td>clustermatch_vs_pearson</td>\n",
       "    </tr>\n",
       "    <tr>\n",
       "      <th>4</th>\n",
       "      <td>CLP1</td>\n",
       "      <td>MRFAP1L1</td>\n",
       "      <td>0.137168</td>\n",
       "      <td>0</td>\n",
       "      <td>TBCC_IFNG</td>\n",
       "      <td>nervous-system</td>\n",
       "      <td>clustermatch_vs_pearson</td>\n",
       "    </tr>\n",
       "  </tbody>\n",
       "</table>\n",
       "</div>"
      ],
      "text/plain": [
       "  gene1     gene2    weight  order  gene_pair          tissue  \\\n",
       "0  CLP1    ZNF207  0.282636      0  TBCC_IFNG  nervous-system   \n",
       "1  CLP1     CXCR6  0.038849      0  TBCC_IFNG  nervous-system   \n",
       "2  CLP1   RNF113A  0.136710      0  TBCC_IFNG  nervous-system   \n",
       "3  CLP1     MOAP1  0.085126      0  TBCC_IFNG  nervous-system   \n",
       "4  CLP1  MRFAP1L1  0.137168      0  TBCC_IFNG  nervous-system   \n",
       "\n",
       "                    subset  \n",
       "0  clustermatch_vs_pearson  \n",
       "1  clustermatch_vs_pearson  \n",
       "2  clustermatch_vs_pearson  \n",
       "3  clustermatch_vs_pearson  \n",
       "4  clustermatch_vs_pearson  "
      ]
     },
     "metadata": {},
     "output_type": "display_data"
    },
    {
     "data": {
      "text/plain": [
       "100"
      ]
     },
     "metadata": {},
     "output_type": "display_data"
    }
   ],
   "source": [
    "_dfs = [read_hdf(f, subset) for f in subset_files]\n",
    "\n",
    "display(_dfs[0].head())\n",
    "all_subsets_dfs.extend(_dfs)\n",
    "display(len(all_subsets_dfs))"
   ]
  },
  {
   "cell_type": "markdown",
   "id": "9bbde09c-d148-4edc-b821-a442512d0e1a",
   "metadata": {},
   "source": [
    "## CCC vs Pearson/Spearman"
   ]
  },
  {
   "cell_type": "code",
   "execution_count": 12,
   "id": "5769827c-d208-430c-9571-3d8b77b3d24b",
   "metadata": {},
   "outputs": [],
   "source": [
    "subset = \"clustermatch_vs_pearson_spearman\""
   ]
  },
  {
   "cell_type": "code",
   "execution_count": 13,
   "id": "cc71cdb1-9e7f-458b-8f58-11f741df5aae",
   "metadata": {},
   "outputs": [
    {
     "data": {
      "text/plain": [
       "2"
      ]
     },
     "metadata": {},
     "output_type": "display_data"
    },
    {
     "data": {
      "text/plain": [
       "[PosixPath('/opt/data/results/giant/intersection_genes/clustermatch_vs_pearson_spearman/000-dnajc5_gtpbp1.h5'),\n",
       " PosixPath('/opt/data/results/giant/intersection_genes/clustermatch_vs_pearson_spearman/004-cyth4_gtpbp1.h5')]"
      ]
     },
     "metadata": {},
     "output_type": "display_data"
    }
   ],
   "source": [
    "subset_files = sorted(list((OUTPUT_DIR / subset).glob(\"*.h5\")))\n",
    "display(len(subset_files))\n",
    "display(subset_files[:3])"
   ]
  },
  {
   "cell_type": "code",
   "execution_count": 14,
   "id": "f9f54016-3e37-4825-9c48-c147f6ffc7e6",
   "metadata": {},
   "outputs": [
    {
     "data": {
      "text/html": [
       "<div>\n",
       "<style scoped>\n",
       "    .dataframe tbody tr th:only-of-type {\n",
       "        vertical-align: middle;\n",
       "    }\n",
       "\n",
       "    .dataframe tbody tr th {\n",
       "        vertical-align: top;\n",
       "    }\n",
       "\n",
       "    .dataframe thead th {\n",
       "        text-align: right;\n",
       "    }\n",
       "</style>\n",
       "<table border=\"1\" class=\"dataframe\">\n",
       "  <thead>\n",
       "    <tr style=\"text-align: right;\">\n",
       "      <th></th>\n",
       "      <th>gene1</th>\n",
       "      <th>gene2</th>\n",
       "      <th>weight</th>\n",
       "      <th>order</th>\n",
       "      <th>gene_pair</th>\n",
       "      <th>tissue</th>\n",
       "      <th>subset</th>\n",
       "    </tr>\n",
       "  </thead>\n",
       "  <tbody>\n",
       "    <tr>\n",
       "      <th>0</th>\n",
       "      <td>NPRL3</td>\n",
       "      <td>NFKBIB</td>\n",
       "      <td>0.108910</td>\n",
       "      <td>0</td>\n",
       "      <td>DNAJC5_GTPBP1</td>\n",
       "      <td>central-nervous-system</td>\n",
       "      <td>clustermatch_vs_pearson_spearman</td>\n",
       "    </tr>\n",
       "    <tr>\n",
       "      <th>1</th>\n",
       "      <td>NPRL3</td>\n",
       "      <td>WIZ</td>\n",
       "      <td>0.185644</td>\n",
       "      <td>0</td>\n",
       "      <td>DNAJC5_GTPBP1</td>\n",
       "      <td>central-nervous-system</td>\n",
       "      <td>clustermatch_vs_pearson_spearman</td>\n",
       "    </tr>\n",
       "    <tr>\n",
       "      <th>2</th>\n",
       "      <td>NPRL3</td>\n",
       "      <td>ATP6V0C</td>\n",
       "      <td>0.209239</td>\n",
       "      <td>0</td>\n",
       "      <td>DNAJC5_GTPBP1</td>\n",
       "      <td>central-nervous-system</td>\n",
       "      <td>clustermatch_vs_pearson_spearman</td>\n",
       "    </tr>\n",
       "    <tr>\n",
       "      <th>3</th>\n",
       "      <td>NPRL3</td>\n",
       "      <td>NECTIN1</td>\n",
       "      <td>0.128082</td>\n",
       "      <td>0</td>\n",
       "      <td>DNAJC5_GTPBP1</td>\n",
       "      <td>central-nervous-system</td>\n",
       "      <td>clustermatch_vs_pearson_spearman</td>\n",
       "    </tr>\n",
       "    <tr>\n",
       "      <th>4</th>\n",
       "      <td>NPRL3</td>\n",
       "      <td>MINK1</td>\n",
       "      <td>0.165076</td>\n",
       "      <td>0</td>\n",
       "      <td>DNAJC5_GTPBP1</td>\n",
       "      <td>central-nervous-system</td>\n",
       "      <td>clustermatch_vs_pearson_spearman</td>\n",
       "    </tr>\n",
       "  </tbody>\n",
       "</table>\n",
       "</div>"
      ],
      "text/plain": [
       "   gene1    gene2    weight  order      gene_pair                  tissue  \\\n",
       "0  NPRL3   NFKBIB  0.108910      0  DNAJC5_GTPBP1  central-nervous-system   \n",
       "1  NPRL3      WIZ  0.185644      0  DNAJC5_GTPBP1  central-nervous-system   \n",
       "2  NPRL3  ATP6V0C  0.209239      0  DNAJC5_GTPBP1  central-nervous-system   \n",
       "3  NPRL3  NECTIN1  0.128082      0  DNAJC5_GTPBP1  central-nervous-system   \n",
       "4  NPRL3    MINK1  0.165076      0  DNAJC5_GTPBP1  central-nervous-system   \n",
       "\n",
       "                             subset  \n",
       "0  clustermatch_vs_pearson_spearman  \n",
       "1  clustermatch_vs_pearson_spearman  \n",
       "2  clustermatch_vs_pearson_spearman  \n",
       "3  clustermatch_vs_pearson_spearman  \n",
       "4  clustermatch_vs_pearson_spearman  "
      ]
     },
     "metadata": {},
     "output_type": "display_data"
    },
    {
     "data": {
      "text/plain": [
       "102"
      ]
     },
     "metadata": {},
     "output_type": "display_data"
    }
   ],
   "source": [
    "_dfs = [read_hdf(f, subset) for f in subset_files]\n",
    "\n",
    "display(_dfs[0].head())\n",
    "all_subsets_dfs.extend(_dfs)\n",
    "display(len(all_subsets_dfs))"
   ]
  },
  {
   "cell_type": "markdown",
   "id": "8940fb47-61d6-4841-9df6-78cc4e7759b3",
   "metadata": {},
   "source": [
    "## CCC vs Spearman"
   ]
  },
  {
   "cell_type": "code",
   "execution_count": 15,
   "id": "636aebb7-64f4-449f-a962-c3b5fa2c6310",
   "metadata": {},
   "outputs": [],
   "source": [
    "subset = \"clustermatch_vs_spearman\""
   ]
  },
  {
   "cell_type": "code",
   "execution_count": 16,
   "id": "3b4ff487-053f-44bf-8afa-5f13f91fb6d5",
   "metadata": {},
   "outputs": [
    {
     "data": {
      "text/plain": [
       "24"
      ]
     },
     "metadata": {},
     "output_type": "display_data"
    },
    {
     "data": {
      "text/plain": [
       "[PosixPath('/opt/data/results/giant/intersection_genes/clustermatch_vs_spearman/000-kdm6a_uty.h5'),\n",
       " PosixPath('/opt/data/results/giant/intersection_genes/clustermatch_vs_spearman/001-cytip_kiaa0040.h5'),\n",
       " PosixPath('/opt/data/results/giant/intersection_genes/clustermatch_vs_spearman/002-cytip_rassf2.h5')]"
      ]
     },
     "metadata": {},
     "output_type": "display_data"
    }
   ],
   "source": [
    "subset_files = sorted(list((OUTPUT_DIR / subset).glob(\"*.h5\")))\n",
    "display(len(subset_files))\n",
    "display(subset_files[:3])"
   ]
  },
  {
   "cell_type": "code",
   "execution_count": 17,
   "id": "94beeb14-2524-4316-aaa1-880034e2976b",
   "metadata": {},
   "outputs": [
    {
     "data": {
      "text/html": [
       "<div>\n",
       "<style scoped>\n",
       "    .dataframe tbody tr th:only-of-type {\n",
       "        vertical-align: middle;\n",
       "    }\n",
       "\n",
       "    .dataframe tbody tr th {\n",
       "        vertical-align: top;\n",
       "    }\n",
       "\n",
       "    .dataframe thead th {\n",
       "        text-align: right;\n",
       "    }\n",
       "</style>\n",
       "<table border=\"1\" class=\"dataframe\">\n",
       "  <thead>\n",
       "    <tr style=\"text-align: right;\">\n",
       "      <th></th>\n",
       "      <th>gene1</th>\n",
       "      <th>gene2</th>\n",
       "      <th>weight</th>\n",
       "      <th>order</th>\n",
       "      <th>gene_pair</th>\n",
       "      <th>tissue</th>\n",
       "      <th>subset</th>\n",
       "    </tr>\n",
       "  </thead>\n",
       "  <tbody>\n",
       "    <tr>\n",
       "      <th>0</th>\n",
       "      <td>WAC</td>\n",
       "      <td>MORC3</td>\n",
       "      <td>0.416091</td>\n",
       "      <td>0</td>\n",
       "      <td>KDM6A_UTY</td>\n",
       "      <td>placenta</td>\n",
       "      <td>clustermatch_vs_spearman</td>\n",
       "    </tr>\n",
       "    <tr>\n",
       "      <th>1</th>\n",
       "      <td>WAC</td>\n",
       "      <td>DDX3X</td>\n",
       "      <td>0.357964</td>\n",
       "      <td>0</td>\n",
       "      <td>KDM6A_UTY</td>\n",
       "      <td>placenta</td>\n",
       "      <td>clustermatch_vs_spearman</td>\n",
       "    </tr>\n",
       "    <tr>\n",
       "      <th>2</th>\n",
       "      <td>WAC</td>\n",
       "      <td>PHF3</td>\n",
       "      <td>0.421210</td>\n",
       "      <td>0</td>\n",
       "      <td>KDM6A_UTY</td>\n",
       "      <td>placenta</td>\n",
       "      <td>clustermatch_vs_spearman</td>\n",
       "    </tr>\n",
       "    <tr>\n",
       "      <th>3</th>\n",
       "      <td>WAC</td>\n",
       "      <td>NIPBL</td>\n",
       "      <td>0.410458</td>\n",
       "      <td>0</td>\n",
       "      <td>KDM6A_UTY</td>\n",
       "      <td>placenta</td>\n",
       "      <td>clustermatch_vs_spearman</td>\n",
       "    </tr>\n",
       "    <tr>\n",
       "      <th>4</th>\n",
       "      <td>WAC</td>\n",
       "      <td>ITSN2</td>\n",
       "      <td>0.387687</td>\n",
       "      <td>0</td>\n",
       "      <td>KDM6A_UTY</td>\n",
       "      <td>placenta</td>\n",
       "      <td>clustermatch_vs_spearman</td>\n",
       "    </tr>\n",
       "  </tbody>\n",
       "</table>\n",
       "</div>"
      ],
      "text/plain": [
       "  gene1  gene2    weight  order  gene_pair    tissue                    subset\n",
       "0   WAC  MORC3  0.416091      0  KDM6A_UTY  placenta  clustermatch_vs_spearman\n",
       "1   WAC  DDX3X  0.357964      0  KDM6A_UTY  placenta  clustermatch_vs_spearman\n",
       "2   WAC   PHF3  0.421210      0  KDM6A_UTY  placenta  clustermatch_vs_spearman\n",
       "3   WAC  NIPBL  0.410458      0  KDM6A_UTY  placenta  clustermatch_vs_spearman\n",
       "4   WAC  ITSN2  0.387687      0  KDM6A_UTY  placenta  clustermatch_vs_spearman"
      ]
     },
     "metadata": {},
     "output_type": "display_data"
    },
    {
     "data": {
      "text/plain": [
       "126"
      ]
     },
     "metadata": {},
     "output_type": "display_data"
    }
   ],
   "source": [
    "_dfs = [read_hdf(f, subset) for f in subset_files]\n",
    "\n",
    "display(_dfs[0].head())\n",
    "all_subsets_dfs.extend(_dfs)\n",
    "display(len(all_subsets_dfs))"
   ]
  },
  {
   "cell_type": "markdown",
   "id": "40500aca-4d2d-497e-9919-523b399471f6",
   "metadata": {},
   "source": [
    "## Pearson vs CCC"
   ]
  },
  {
   "cell_type": "code",
   "execution_count": 18,
   "id": "f1494750-dd8f-49c9-a9d5-9dd7e708f54f",
   "metadata": {},
   "outputs": [],
   "source": [
    "subset = \"pearson_vs_clustermatch\""
   ]
  },
  {
   "cell_type": "code",
   "execution_count": 19,
   "id": "a887e9ef-99d3-45b0-bb26-312c55f5f272",
   "metadata": {},
   "outputs": [
    {
     "data": {
      "text/plain": [
       "100"
      ]
     },
     "metadata": {},
     "output_type": "display_data"
    },
    {
     "data": {
      "text/plain": [
       "[PosixPath('/opt/data/results/giant/intersection_genes/pearson_vs_clustermatch/000-tnni2_myoz1.h5'),\n",
       " PosixPath('/opt/data/results/giant/intersection_genes/pearson_vs_clustermatch/001-mybpc2_tnni2.h5'),\n",
       " PosixPath('/opt/data/results/giant/intersection_genes/pearson_vs_clustermatch/002-myoz1_pygm.h5')]"
      ]
     },
     "metadata": {},
     "output_type": "display_data"
    }
   ],
   "source": [
    "subset_files = sorted(list((OUTPUT_DIR / subset).glob(\"*.h5\")))\n",
    "display(len(subset_files))\n",
    "display(subset_files[:3])"
   ]
  },
  {
   "cell_type": "code",
   "execution_count": 20,
   "id": "eefa6e1c-7c73-4ae1-abd7-b3c1262a2ef9",
   "metadata": {},
   "outputs": [
    {
     "data": {
      "text/html": [
       "<div>\n",
       "<style scoped>\n",
       "    .dataframe tbody tr th:only-of-type {\n",
       "        vertical-align: middle;\n",
       "    }\n",
       "\n",
       "    .dataframe tbody tr th {\n",
       "        vertical-align: top;\n",
       "    }\n",
       "\n",
       "    .dataframe thead th {\n",
       "        text-align: right;\n",
       "    }\n",
       "</style>\n",
       "<table border=\"1\" class=\"dataframe\">\n",
       "  <thead>\n",
       "    <tr style=\"text-align: right;\">\n",
       "      <th></th>\n",
       "      <th>gene1</th>\n",
       "      <th>gene2</th>\n",
       "      <th>weight</th>\n",
       "      <th>order</th>\n",
       "      <th>gene_pair</th>\n",
       "      <th>tissue</th>\n",
       "      <th>subset</th>\n",
       "    </tr>\n",
       "  </thead>\n",
       "  <tbody>\n",
       "    <tr>\n",
       "      <th>0</th>\n",
       "      <td>GVQW3</td>\n",
       "      <td>MYOZ1</td>\n",
       "      <td>0.106883</td>\n",
       "      <td>0</td>\n",
       "      <td>TNNI2_MYOZ1</td>\n",
       "      <td>skeletal-muscle</td>\n",
       "      <td>pearson_vs_clustermatch</td>\n",
       "    </tr>\n",
       "    <tr>\n",
       "      <th>1</th>\n",
       "      <td>GVQW3</td>\n",
       "      <td>TNNI2</td>\n",
       "      <td>0.114303</td>\n",
       "      <td>0</td>\n",
       "      <td>TNNI2_MYOZ1</td>\n",
       "      <td>skeletal-muscle</td>\n",
       "      <td>pearson_vs_clustermatch</td>\n",
       "    </tr>\n",
       "    <tr>\n",
       "      <th>2</th>\n",
       "      <td>GVQW3</td>\n",
       "      <td>MFSD2B</td>\n",
       "      <td>0.106883</td>\n",
       "      <td>0</td>\n",
       "      <td>TNNI2_MYOZ1</td>\n",
       "      <td>skeletal-muscle</td>\n",
       "      <td>pearson_vs_clustermatch</td>\n",
       "    </tr>\n",
       "    <tr>\n",
       "      <th>3</th>\n",
       "      <td>GVQW3</td>\n",
       "      <td>SBK3</td>\n",
       "      <td>0.114303</td>\n",
       "      <td>0</td>\n",
       "      <td>TNNI2_MYOZ1</td>\n",
       "      <td>skeletal-muscle</td>\n",
       "      <td>pearson_vs_clustermatch</td>\n",
       "    </tr>\n",
       "    <tr>\n",
       "      <th>4</th>\n",
       "      <td>GVQW3</td>\n",
       "      <td>DCDC2C</td>\n",
       "      <td>0.106883</td>\n",
       "      <td>0</td>\n",
       "      <td>TNNI2_MYOZ1</td>\n",
       "      <td>skeletal-muscle</td>\n",
       "      <td>pearson_vs_clustermatch</td>\n",
       "    </tr>\n",
       "  </tbody>\n",
       "</table>\n",
       "</div>"
      ],
      "text/plain": [
       "   gene1   gene2    weight  order    gene_pair           tissue  \\\n",
       "0  GVQW3   MYOZ1  0.106883      0  TNNI2_MYOZ1  skeletal-muscle   \n",
       "1  GVQW3   TNNI2  0.114303      0  TNNI2_MYOZ1  skeletal-muscle   \n",
       "2  GVQW3  MFSD2B  0.106883      0  TNNI2_MYOZ1  skeletal-muscle   \n",
       "3  GVQW3    SBK3  0.114303      0  TNNI2_MYOZ1  skeletal-muscle   \n",
       "4  GVQW3  DCDC2C  0.106883      0  TNNI2_MYOZ1  skeletal-muscle   \n",
       "\n",
       "                    subset  \n",
       "0  pearson_vs_clustermatch  \n",
       "1  pearson_vs_clustermatch  \n",
       "2  pearson_vs_clustermatch  \n",
       "3  pearson_vs_clustermatch  \n",
       "4  pearson_vs_clustermatch  "
      ]
     },
     "metadata": {},
     "output_type": "display_data"
    },
    {
     "data": {
      "text/plain": [
       "226"
      ]
     },
     "metadata": {},
     "output_type": "display_data"
    }
   ],
   "source": [
    "_dfs = [read_hdf(f, subset) for f in subset_files]\n",
    "\n",
    "display(_dfs[0].head())\n",
    "all_subsets_dfs.extend(_dfs)\n",
    "display(len(all_subsets_dfs))"
   ]
  },
  {
   "cell_type": "markdown",
   "id": "8788a71c-4840-4798-a14b-84f9b856e626",
   "metadata": {},
   "source": [
    "## Pearson vs CCC/Spearman"
   ]
  },
  {
   "cell_type": "code",
   "execution_count": 21,
   "id": "819fc706-1bd3-48ba-9c60-632fca4b5bdd",
   "metadata": {},
   "outputs": [],
   "source": [
    "subset = \"pearson_vs_clustermatch_spearman\""
   ]
  },
  {
   "cell_type": "code",
   "execution_count": 22,
   "id": "3175481f-cf87-4394-a3f4-ef3b15fd1c09",
   "metadata": {},
   "outputs": [
    {
     "data": {
      "text/plain": [
       "100"
      ]
     },
     "metadata": {},
     "output_type": "display_data"
    },
    {
     "data": {
      "text/plain": [
       "[PosixPath('/opt/data/results/giant/intersection_genes/pearson_vs_clustermatch_spearman/000-ccl20_scgb3a1.h5'),\n",
       " PosixPath('/opt/data/results/giant/intersection_genes/pearson_vs_clustermatch_spearman/001-cxcl1_scgb3a1.h5'),\n",
       " PosixPath('/opt/data/results/giant/intersection_genes/pearson_vs_clustermatch_spearman/002-tnni2_tpm2.h5')]"
      ]
     },
     "metadata": {},
     "output_type": "display_data"
    }
   ],
   "source": [
    "subset_files = sorted(list((OUTPUT_DIR / subset).glob(\"*.h5\")))\n",
    "display(len(subset_files))\n",
    "display(subset_files[:3])"
   ]
  },
  {
   "cell_type": "code",
   "execution_count": 23,
   "id": "b1842627-dc9f-4df0-8c61-281b441ba7b4",
   "metadata": {},
   "outputs": [
    {
     "data": {
      "text/html": [
       "<div>\n",
       "<style scoped>\n",
       "    .dataframe tbody tr th:only-of-type {\n",
       "        vertical-align: middle;\n",
       "    }\n",
       "\n",
       "    .dataframe tbody tr th {\n",
       "        vertical-align: top;\n",
       "    }\n",
       "\n",
       "    .dataframe thead th {\n",
       "        text-align: right;\n",
       "    }\n",
       "</style>\n",
       "<table border=\"1\" class=\"dataframe\">\n",
       "  <thead>\n",
       "    <tr style=\"text-align: right;\">\n",
       "      <th></th>\n",
       "      <th>gene1</th>\n",
       "      <th>gene2</th>\n",
       "      <th>weight</th>\n",
       "      <th>order</th>\n",
       "      <th>gene_pair</th>\n",
       "      <th>tissue</th>\n",
       "      <th>subset</th>\n",
       "    </tr>\n",
       "  </thead>\n",
       "  <tbody>\n",
       "    <tr>\n",
       "      <th>0</th>\n",
       "      <td>NFKBIA</td>\n",
       "      <td>CXCL2</td>\n",
       "      <td>0.921080</td>\n",
       "      <td>0</td>\n",
       "      <td>CCL20_SCGB3A1</td>\n",
       "      <td>mononuclear-phagocyte</td>\n",
       "      <td>pearson_vs_clustermatch_spearman</td>\n",
       "    </tr>\n",
       "    <tr>\n",
       "      <th>1</th>\n",
       "      <td>NFKBIA</td>\n",
       "      <td>TNFAIP3</td>\n",
       "      <td>0.988534</td>\n",
       "      <td>0</td>\n",
       "      <td>CCL20_SCGB3A1</td>\n",
       "      <td>mononuclear-phagocyte</td>\n",
       "      <td>pearson_vs_clustermatch_spearman</td>\n",
       "    </tr>\n",
       "    <tr>\n",
       "      <th>2</th>\n",
       "      <td>NFKBIA</td>\n",
       "      <td>TRAF1</td>\n",
       "      <td>0.523726</td>\n",
       "      <td>0</td>\n",
       "      <td>CCL20_SCGB3A1</td>\n",
       "      <td>mononuclear-phagocyte</td>\n",
       "      <td>pearson_vs_clustermatch_spearman</td>\n",
       "    </tr>\n",
       "    <tr>\n",
       "      <th>3</th>\n",
       "      <td>NFKBIA</td>\n",
       "      <td>IRF1</td>\n",
       "      <td>0.877891</td>\n",
       "      <td>0</td>\n",
       "      <td>CCL20_SCGB3A1</td>\n",
       "      <td>mononuclear-phagocyte</td>\n",
       "      <td>pearson_vs_clustermatch_spearman</td>\n",
       "    </tr>\n",
       "    <tr>\n",
       "      <th>4</th>\n",
       "      <td>NFKBIA</td>\n",
       "      <td>BCL2A1</td>\n",
       "      <td>0.960765</td>\n",
       "      <td>0</td>\n",
       "      <td>CCL20_SCGB3A1</td>\n",
       "      <td>mononuclear-phagocyte</td>\n",
       "      <td>pearson_vs_clustermatch_spearman</td>\n",
       "    </tr>\n",
       "  </tbody>\n",
       "</table>\n",
       "</div>"
      ],
      "text/plain": [
       "    gene1    gene2    weight  order      gene_pair                 tissue  \\\n",
       "0  NFKBIA    CXCL2  0.921080      0  CCL20_SCGB3A1  mononuclear-phagocyte   \n",
       "1  NFKBIA  TNFAIP3  0.988534      0  CCL20_SCGB3A1  mononuclear-phagocyte   \n",
       "2  NFKBIA    TRAF1  0.523726      0  CCL20_SCGB3A1  mononuclear-phagocyte   \n",
       "3  NFKBIA     IRF1  0.877891      0  CCL20_SCGB3A1  mononuclear-phagocyte   \n",
       "4  NFKBIA   BCL2A1  0.960765      0  CCL20_SCGB3A1  mononuclear-phagocyte   \n",
       "\n",
       "                             subset  \n",
       "0  pearson_vs_clustermatch_spearman  \n",
       "1  pearson_vs_clustermatch_spearman  \n",
       "2  pearson_vs_clustermatch_spearman  \n",
       "3  pearson_vs_clustermatch_spearman  \n",
       "4  pearson_vs_clustermatch_spearman  "
      ]
     },
     "metadata": {},
     "output_type": "display_data"
    },
    {
     "data": {
      "text/plain": [
       "326"
      ]
     },
     "metadata": {},
     "output_type": "display_data"
    }
   ],
   "source": [
    "_dfs = [read_hdf(f, subset) for f in subset_files]\n",
    "\n",
    "display(_dfs[0].head())\n",
    "all_subsets_dfs.extend(_dfs)\n",
    "display(len(all_subsets_dfs))"
   ]
  },
  {
   "cell_type": "markdown",
   "id": "fb38664b-26fc-40f8-994d-a22725c0d693",
   "metadata": {},
   "source": [
    "# Combine"
   ]
  },
  {
   "cell_type": "code",
   "execution_count": 24,
   "id": "6a20a5f7-7e11-4558-bfc7-ebc63accd800",
   "metadata": {},
   "outputs": [],
   "source": [
    "df = pd.concat(all_subsets_dfs, ignore_index=True)"
   ]
  },
  {
   "cell_type": "code",
   "execution_count": 25,
   "id": "a82e234a-8fb8-4a40-b06a-b2852dada4ac",
   "metadata": {},
   "outputs": [
    {
     "data": {
      "text/plain": [
       "(34603, 7)"
      ]
     },
     "execution_count": 25,
     "metadata": {},
     "output_type": "execute_result"
    }
   ],
   "source": [
    "df.shape"
   ]
  },
  {
   "cell_type": "code",
   "execution_count": 26,
   "id": "ded5220e-e250-47d4-8cec-611befb55ac1",
   "metadata": {},
   "outputs": [
    {
     "data": {
      "text/html": [
       "<div>\n",
       "<style scoped>\n",
       "    .dataframe tbody tr th:only-of-type {\n",
       "        vertical-align: middle;\n",
       "    }\n",
       "\n",
       "    .dataframe tbody tr th {\n",
       "        vertical-align: top;\n",
       "    }\n",
       "\n",
       "    .dataframe thead th {\n",
       "        text-align: right;\n",
       "    }\n",
       "</style>\n",
       "<table border=\"1\" class=\"dataframe\">\n",
       "  <thead>\n",
       "    <tr style=\"text-align: right;\">\n",
       "      <th></th>\n",
       "      <th>gene1</th>\n",
       "      <th>gene2</th>\n",
       "      <th>weight</th>\n",
       "      <th>order</th>\n",
       "      <th>gene_pair</th>\n",
       "      <th>tissue</th>\n",
       "      <th>subset</th>\n",
       "    </tr>\n",
       "  </thead>\n",
       "  <tbody>\n",
       "    <tr>\n",
       "      <th>0</th>\n",
       "      <td>CLP1</td>\n",
       "      <td>ZNF207</td>\n",
       "      <td>0.282636</td>\n",
       "      <td>0</td>\n",
       "      <td>TBCC_IFNG</td>\n",
       "      <td>nervous-system</td>\n",
       "      <td>clustermatch_vs_pearson</td>\n",
       "    </tr>\n",
       "    <tr>\n",
       "      <th>1</th>\n",
       "      <td>CLP1</td>\n",
       "      <td>CXCR6</td>\n",
       "      <td>0.038849</td>\n",
       "      <td>0</td>\n",
       "      <td>TBCC_IFNG</td>\n",
       "      <td>nervous-system</td>\n",
       "      <td>clustermatch_vs_pearson</td>\n",
       "    </tr>\n",
       "    <tr>\n",
       "      <th>2</th>\n",
       "      <td>CLP1</td>\n",
       "      <td>RNF113A</td>\n",
       "      <td>0.136710</td>\n",
       "      <td>0</td>\n",
       "      <td>TBCC_IFNG</td>\n",
       "      <td>nervous-system</td>\n",
       "      <td>clustermatch_vs_pearson</td>\n",
       "    </tr>\n",
       "    <tr>\n",
       "      <th>3</th>\n",
       "      <td>CLP1</td>\n",
       "      <td>MOAP1</td>\n",
       "      <td>0.085126</td>\n",
       "      <td>0</td>\n",
       "      <td>TBCC_IFNG</td>\n",
       "      <td>nervous-system</td>\n",
       "      <td>clustermatch_vs_pearson</td>\n",
       "    </tr>\n",
       "    <tr>\n",
       "      <th>4</th>\n",
       "      <td>CLP1</td>\n",
       "      <td>MRFAP1L1</td>\n",
       "      <td>0.137168</td>\n",
       "      <td>0</td>\n",
       "      <td>TBCC_IFNG</td>\n",
       "      <td>nervous-system</td>\n",
       "      <td>clustermatch_vs_pearson</td>\n",
       "    </tr>\n",
       "  </tbody>\n",
       "</table>\n",
       "</div>"
      ],
      "text/plain": [
       "  gene1     gene2    weight  order  gene_pair          tissue  \\\n",
       "0  CLP1    ZNF207  0.282636      0  TBCC_IFNG  nervous-system   \n",
       "1  CLP1     CXCR6  0.038849      0  TBCC_IFNG  nervous-system   \n",
       "2  CLP1   RNF113A  0.136710      0  TBCC_IFNG  nervous-system   \n",
       "3  CLP1     MOAP1  0.085126      0  TBCC_IFNG  nervous-system   \n",
       "4  CLP1  MRFAP1L1  0.137168      0  TBCC_IFNG  nervous-system   \n",
       "\n",
       "                    subset  \n",
       "0  clustermatch_vs_pearson  \n",
       "1  clustermatch_vs_pearson  \n",
       "2  clustermatch_vs_pearson  \n",
       "3  clustermatch_vs_pearson  \n",
       "4  clustermatch_vs_pearson  "
      ]
     },
     "execution_count": 26,
     "metadata": {},
     "output_type": "execute_result"
    }
   ],
   "source": [
    "df.head()"
   ]
  },
  {
   "cell_type": "code",
   "execution_count": 27,
   "id": "46cea8f1-d37a-47c6-9fff-eac98ca95fae",
   "metadata": {},
   "outputs": [
    {
     "data": {
      "text/plain": [
       "array([  0,   2,   4,   6,   7,   8,  10,  11,  12,  13,  14,  15,  16,\n",
       "        17,  18,  22,  23,  24,  25,  26,  28,  29,  30,  31,  32,  33,\n",
       "        35,  36,  37,  39,  41,  42,  43,  44,  46,  47,  50,  52,  55,\n",
       "        56,  57,  58,  60,  61,  62,  63,  64,  65,  66,  67,  68,  69,\n",
       "        70,  71,  72,  73,  75,  78,  79,  80,  81,  82,  83,  84,  85,\n",
       "        88,  89,  90,  91,  92,  93,  94,  95,  96,  97,  98,  99, 100,\n",
       "       101, 103, 104, 105, 106, 107, 108, 109, 110, 111, 113, 114, 115,\n",
       "       116, 117, 120, 121, 122, 123, 125, 126, 127,   1,   5,   9,  20,\n",
       "        21,  27,   3,  19,  34,  38,  40,  45,  48,  49,  51,  53,  54,\n",
       "        59,  74,  76,  77,  86,  87])"
      ]
     },
     "execution_count": 27,
     "metadata": {},
     "output_type": "execute_result"
    }
   ],
   "source": [
    "df[\"order\"].unique()"
   ]
  },
  {
   "cell_type": "markdown",
   "id": "2b7a894c-0604-40f8-b736-cc4aa6c93a81",
   "metadata": {},
   "source": [
    "# Stats"
   ]
  },
  {
   "cell_type": "code",
   "execution_count": 28,
   "id": "be0f33c4-467f-4985-a264-3fc6c7c24bd4",
   "metadata": {},
   "outputs": [
    {
     "data": {
      "text/plain": [
       "subset\n",
       "clustermatch_vs_pearson             100\n",
       "clustermatch_vs_pearson_spearman      2\n",
       "clustermatch_vs_spearman             24\n",
       "pearson_vs_clustermatch             100\n",
       "pearson_vs_clustermatch_spearman    100\n",
       "Name: gene_pair, dtype: int64"
      ]
     },
     "metadata": {},
     "output_type": "display_data"
    }
   ],
   "source": [
    "df_stats = df.groupby([\"subset\"])[\"gene_pair\"].nunique()\n",
    "display(df_stats)"
   ]
  },
  {
   "cell_type": "code",
   "execution_count": 29,
   "id": "7cca4255-3d7a-40ad-844a-ed1b4a95f18e",
   "metadata": {},
   "outputs": [],
   "source": [
    "assert df_stats[\"clustermatch_vs_pearson\"] == N_TOP_GENE_PAIRS\n",
    "assert df_stats[\"pearson_vs_clustermatch\"] == N_TOP_GENE_PAIRS\n",
    "assert df_stats[\"pearson_vs_clustermatch_spearman\"] == N_TOP_GENE_PAIRS"
   ]
  },
  {
   "cell_type": "markdown",
   "id": "8c3a9c52-0e19-4ec8-9fc8-56d119ed6d4f",
   "metadata": {},
   "source": [
    "# Combine subsets"
   ]
  },
  {
   "cell_type": "code",
   "execution_count": 30,
   "id": "b40d8855-05af-43da-9bb6-78e5bf7edb67",
   "metadata": {},
   "outputs": [],
   "source": [
    "subset_cm_vs_rest = \"clustermatch_vs_rest\"\n",
    "subset_p_vs_rest = \"pearson_vs_rest\""
   ]
  },
  {
   "cell_type": "code",
   "execution_count": 31,
   "id": "f97a9a3f-edc0-4d73-bc34-fb3af7dca6a9",
   "metadata": {},
   "outputs": [],
   "source": [
    "df = df.replace(\n",
    "    {\n",
    "        \"subset\": {\n",
    "            \"clustermatch_vs_pearson\": subset_cm_vs_rest,\n",
    "            \"clustermatch_vs_spearman\": subset_cm_vs_rest,\n",
    "            \"clustermatch_vs_pearson_spearman\": subset_cm_vs_rest,\n",
    "            \"pearson_vs_clustermatch\": subset_p_vs_rest,\n",
    "            \"pearson_vs_clustermatch_spearman\": subset_p_vs_rest,\n",
    "        },\n",
    "    }\n",
    ")"
   ]
  },
  {
   "cell_type": "code",
   "execution_count": 32,
   "id": "64a49c1f-25b9-4fc8-903d-67b7197aae49",
   "metadata": {},
   "outputs": [
    {
     "data": {
      "text/html": [
       "<div>\n",
       "<style scoped>\n",
       "    .dataframe tbody tr th:only-of-type {\n",
       "        vertical-align: middle;\n",
       "    }\n",
       "\n",
       "    .dataframe tbody tr th {\n",
       "        vertical-align: top;\n",
       "    }\n",
       "\n",
       "    .dataframe thead th {\n",
       "        text-align: right;\n",
       "    }\n",
       "</style>\n",
       "<table border=\"1\" class=\"dataframe\">\n",
       "  <thead>\n",
       "    <tr style=\"text-align: right;\">\n",
       "      <th></th>\n",
       "      <th>gene1</th>\n",
       "      <th>gene2</th>\n",
       "      <th>weight</th>\n",
       "      <th>order</th>\n",
       "      <th>gene_pair</th>\n",
       "      <th>tissue</th>\n",
       "      <th>subset</th>\n",
       "    </tr>\n",
       "  </thead>\n",
       "  <tbody>\n",
       "    <tr>\n",
       "      <th>0</th>\n",
       "      <td>CLP1</td>\n",
       "      <td>ZNF207</td>\n",
       "      <td>0.282636</td>\n",
       "      <td>0</td>\n",
       "      <td>TBCC_IFNG</td>\n",
       "      <td>nervous-system</td>\n",
       "      <td>clustermatch_vs_rest</td>\n",
       "    </tr>\n",
       "    <tr>\n",
       "      <th>1</th>\n",
       "      <td>CLP1</td>\n",
       "      <td>CXCR6</td>\n",
       "      <td>0.038849</td>\n",
       "      <td>0</td>\n",
       "      <td>TBCC_IFNG</td>\n",
       "      <td>nervous-system</td>\n",
       "      <td>clustermatch_vs_rest</td>\n",
       "    </tr>\n",
       "    <tr>\n",
       "      <th>2</th>\n",
       "      <td>CLP1</td>\n",
       "      <td>RNF113A</td>\n",
       "      <td>0.136710</td>\n",
       "      <td>0</td>\n",
       "      <td>TBCC_IFNG</td>\n",
       "      <td>nervous-system</td>\n",
       "      <td>clustermatch_vs_rest</td>\n",
       "    </tr>\n",
       "    <tr>\n",
       "      <th>3</th>\n",
       "      <td>CLP1</td>\n",
       "      <td>MOAP1</td>\n",
       "      <td>0.085126</td>\n",
       "      <td>0</td>\n",
       "      <td>TBCC_IFNG</td>\n",
       "      <td>nervous-system</td>\n",
       "      <td>clustermatch_vs_rest</td>\n",
       "    </tr>\n",
       "    <tr>\n",
       "      <th>4</th>\n",
       "      <td>CLP1</td>\n",
       "      <td>MRFAP1L1</td>\n",
       "      <td>0.137168</td>\n",
       "      <td>0</td>\n",
       "      <td>TBCC_IFNG</td>\n",
       "      <td>nervous-system</td>\n",
       "      <td>clustermatch_vs_rest</td>\n",
       "    </tr>\n",
       "  </tbody>\n",
       "</table>\n",
       "</div>"
      ],
      "text/plain": [
       "  gene1     gene2    weight  order  gene_pair          tissue  \\\n",
       "0  CLP1    ZNF207  0.282636      0  TBCC_IFNG  nervous-system   \n",
       "1  CLP1     CXCR6  0.038849      0  TBCC_IFNG  nervous-system   \n",
       "2  CLP1   RNF113A  0.136710      0  TBCC_IFNG  nervous-system   \n",
       "3  CLP1     MOAP1  0.085126      0  TBCC_IFNG  nervous-system   \n",
       "4  CLP1  MRFAP1L1  0.137168      0  TBCC_IFNG  nervous-system   \n",
       "\n",
       "                 subset  \n",
       "0  clustermatch_vs_rest  \n",
       "1  clustermatch_vs_rest  \n",
       "2  clustermatch_vs_rest  \n",
       "3  clustermatch_vs_rest  \n",
       "4  clustermatch_vs_rest  "
      ]
     },
     "execution_count": 32,
     "metadata": {},
     "output_type": "execute_result"
    }
   ],
   "source": [
    "df.head()"
   ]
  },
  {
   "cell_type": "code",
   "execution_count": 33,
   "id": "aff75cdd-c7e7-4b72-a26e-2c39f78c03b5",
   "metadata": {},
   "outputs": [],
   "source": [
    "assert df[\"subset\"].unique().shape[0] == 2"
   ]
  },
  {
   "cell_type": "markdown",
   "id": "871ed2e7-fc22-4922-8ccf-67a81b927b30",
   "metadata": {},
   "source": [
    "# Analyses"
   ]
  },
  {
   "cell_type": "markdown",
   "id": "4ec7f19a-9f37-4d29-8d42-fd94c253dadb",
   "metadata": {},
   "source": [
    "Here we read the gene pair queries sent to GIANT to see 1) which cell type were predicted for each of them and 2) the characteristics of the predicted networks for each gene pair.\n",
    "\n",
    "This allows us to assess whether gene pairs found by our correlation coefficients in GTEx (whole blood) replicate in GIANT by seeing if the predicted cell types is a blood cell lineage (leukocyte, etc) and the network connectivity is high."
   ]
  },
  {
   "cell_type": "code",
   "execution_count": 34,
   "id": "d2fe3b0c-57ba-4e7f-b860-e98f45e391c3",
   "metadata": {},
   "outputs": [],
   "source": [
    "# for each subset (ccc vs etc, pearson vs etc), sort by top gene pairs\n",
    "# for that, for each subset, sort by \"order\", which indicates, for each subset\n",
    "# the gene pairs with the largest correlation value\n",
    "top_gene_pairs = df.groupby([\"subset\"], group_keys=False).apply(\n",
    "    lambda x: x.sort_values([\"order\", \"gene_pair\"], ascending=True)[\n",
    "        \"gene_pair\"\n",
    "    ].unique()\n",
    ")"
   ]
  },
  {
   "cell_type": "code",
   "execution_count": 35,
   "id": "53c1ed36-6116-41f3-828b-eb5b0e01c976",
   "metadata": {},
   "outputs": [
    {
     "data": {
      "text/plain": [
       "subset\n",
       "clustermatch_vs_rest    [DNAJC5_GTPBP1, KDM6A_UTY, TBCC_IFNG, CYTIP_KI...\n",
       "pearson_vs_rest         [CCL20_SCGB3A1, TNNI2_MYOZ1, CXCL1_SCGB3A1, MY...\n",
       "dtype: object"
      ]
     },
     "execution_count": 35,
     "metadata": {},
     "output_type": "execute_result"
    }
   ],
   "source": [
    "top_gene_pairs"
   ]
  },
  {
   "cell_type": "code",
   "execution_count": 36,
   "id": "c3527ab9-f47b-46de-b4b4-35e1b33e9620",
   "metadata": {},
   "outputs": [],
   "source": [
    "# now use the order of gene pairs within subsets to actually select the top ones\n",
    "top_df = df.groupby([\"subset\"], group_keys=False).apply(\n",
    "    lambda x: x[x[\"gene_pair\"].isin(top_gene_pairs.loc[x.name][:N_TOP_GENE_PAIRS])]\n",
    ")"
   ]
  },
  {
   "cell_type": "code",
   "execution_count": 37,
   "id": "e3aa7aa5-e344-42a8-8ce7-1e1048853c54",
   "metadata": {},
   "outputs": [
    {
     "data": {
      "text/plain": [
       "(21620, 7)"
      ]
     },
     "execution_count": 37,
     "metadata": {},
     "output_type": "execute_result"
    }
   ],
   "source": [
    "top_df.shape"
   ]
  },
  {
   "cell_type": "code",
   "execution_count": 38,
   "id": "be84ed5e-ade1-4146-b78a-4c60adce75fa",
   "metadata": {},
   "outputs": [
    {
     "data": {
      "text/html": [
       "<div>\n",
       "<style scoped>\n",
       "    .dataframe tbody tr th:only-of-type {\n",
       "        vertical-align: middle;\n",
       "    }\n",
       "\n",
       "    .dataframe tbody tr th {\n",
       "        vertical-align: top;\n",
       "    }\n",
       "\n",
       "    .dataframe thead th {\n",
       "        text-align: right;\n",
       "    }\n",
       "</style>\n",
       "<table border=\"1\" class=\"dataframe\">\n",
       "  <thead>\n",
       "    <tr style=\"text-align: right;\">\n",
       "      <th></th>\n",
       "      <th>gene1</th>\n",
       "      <th>gene2</th>\n",
       "      <th>weight</th>\n",
       "      <th>order</th>\n",
       "      <th>gene_pair</th>\n",
       "      <th>tissue</th>\n",
       "      <th>subset</th>\n",
       "    </tr>\n",
       "  </thead>\n",
       "  <tbody>\n",
       "    <tr>\n",
       "      <th>0</th>\n",
       "      <td>CLP1</td>\n",
       "      <td>ZNF207</td>\n",
       "      <td>0.282636</td>\n",
       "      <td>0</td>\n",
       "      <td>TBCC_IFNG</td>\n",
       "      <td>nervous-system</td>\n",
       "      <td>clustermatch_vs_rest</td>\n",
       "    </tr>\n",
       "    <tr>\n",
       "      <th>1</th>\n",
       "      <td>CLP1</td>\n",
       "      <td>CXCR6</td>\n",
       "      <td>0.038849</td>\n",
       "      <td>0</td>\n",
       "      <td>TBCC_IFNG</td>\n",
       "      <td>nervous-system</td>\n",
       "      <td>clustermatch_vs_rest</td>\n",
       "    </tr>\n",
       "    <tr>\n",
       "      <th>2</th>\n",
       "      <td>CLP1</td>\n",
       "      <td>RNF113A</td>\n",
       "      <td>0.136710</td>\n",
       "      <td>0</td>\n",
       "      <td>TBCC_IFNG</td>\n",
       "      <td>nervous-system</td>\n",
       "      <td>clustermatch_vs_rest</td>\n",
       "    </tr>\n",
       "    <tr>\n",
       "      <th>3</th>\n",
       "      <td>CLP1</td>\n",
       "      <td>MOAP1</td>\n",
       "      <td>0.085126</td>\n",
       "      <td>0</td>\n",
       "      <td>TBCC_IFNG</td>\n",
       "      <td>nervous-system</td>\n",
       "      <td>clustermatch_vs_rest</td>\n",
       "    </tr>\n",
       "    <tr>\n",
       "      <th>4</th>\n",
       "      <td>CLP1</td>\n",
       "      <td>MRFAP1L1</td>\n",
       "      <td>0.137168</td>\n",
       "      <td>0</td>\n",
       "      <td>TBCC_IFNG</td>\n",
       "      <td>nervous-system</td>\n",
       "      <td>clustermatch_vs_rest</td>\n",
       "    </tr>\n",
       "  </tbody>\n",
       "</table>\n",
       "</div>"
      ],
      "text/plain": [
       "  gene1     gene2    weight  order  gene_pair          tissue  \\\n",
       "0  CLP1    ZNF207  0.282636      0  TBCC_IFNG  nervous-system   \n",
       "1  CLP1     CXCR6  0.038849      0  TBCC_IFNG  nervous-system   \n",
       "2  CLP1   RNF113A  0.136710      0  TBCC_IFNG  nervous-system   \n",
       "3  CLP1     MOAP1  0.085126      0  TBCC_IFNG  nervous-system   \n",
       "4  CLP1  MRFAP1L1  0.137168      0  TBCC_IFNG  nervous-system   \n",
       "\n",
       "                 subset  \n",
       "0  clustermatch_vs_rest  \n",
       "1  clustermatch_vs_rest  \n",
       "2  clustermatch_vs_rest  \n",
       "3  clustermatch_vs_rest  \n",
       "4  clustermatch_vs_rest  "
      ]
     },
     "execution_count": 38,
     "metadata": {},
     "output_type": "execute_result"
    }
   ],
   "source": [
    "top_df.head()"
   ]
  },
  {
   "cell_type": "code",
   "execution_count": 39,
   "id": "92ade4f5-f991-4979-a93b-7aee79325b77",
   "metadata": {},
   "outputs": [],
   "source": [
    "plot_stats = top_df.groupby([\"subset\", \"tissue\"])[\"gene_pair\"].nunique()"
   ]
  },
  {
   "cell_type": "code",
   "execution_count": 40,
   "id": "a48138a1-205a-467d-93d9-c2db478688a8",
   "metadata": {},
   "outputs": [
    {
     "data": {
      "text/plain": [
       "subset                tissue                \n",
       "clustermatch_vs_rest  b-lymphocyte               3\n",
       "                      blood                     16\n",
       "                      brain                      2\n",
       "                      central-nervous-system     6\n",
       "                      diencephalon               1\n",
       "Name: gene_pair, dtype: int64"
      ]
     },
     "execution_count": 40,
     "metadata": {},
     "output_type": "execute_result"
    }
   ],
   "source": [
    "plot_stats.head()"
   ]
  },
  {
   "cell_type": "code",
   "execution_count": 41,
   "id": "abbeeea3-6996-4628-ad9c-4d4c37c029b9",
   "metadata": {},
   "outputs": [],
   "source": [
    "plot_stats = (\n",
    "    plot_stats.groupby(\"subset\")\n",
    "    .apply(lambda grp: grp.nlargest(N_TOP_TISSUES))\n",
    "    .droplevel(0)\n",
    ").rename(\"n_gene_pairs\")\n",
    "\n",
    "# by percentage\n",
    "# plot_stats = plot_stats.groupby(\"subset\").apply(lambda x: x / x.sum())"
   ]
  },
  {
   "cell_type": "code",
   "execution_count": 42,
   "id": "fa7fd490-40bb-496e-afb1-96da0c1402f4",
   "metadata": {},
   "outputs": [
    {
     "data": {
      "text/plain": [
       "subset                tissue               \n",
       "clustermatch_vs_rest  blood                    16\n",
       "                      mononuclear-phagocyte    14\n",
       "                      natural-killer-cell      13\n",
       "                      leukocyte                 9\n",
       "                      macrophage                8\n",
       "pearson_vs_rest       skeletal-muscle          36\n",
       "                      liver                    18\n",
       "                      placenta                 12\n",
       "                      blood                     9\n",
       "                      mononuclear-phagocyte     7\n",
       "Name: n_gene_pairs, dtype: int64"
      ]
     },
     "execution_count": 42,
     "metadata": {},
     "output_type": "execute_result"
    }
   ],
   "source": [
    "plot_stats"
   ]
  },
  {
   "cell_type": "code",
   "execution_count": 43,
   "id": "81208ee1-94d8-45e7-819f-1505c0a9bd0e",
   "metadata": {},
   "outputs": [
    {
     "data": {
      "text/plain": [
       "subset\n",
       "clustermatch_vs_rest    60\n",
       "pearson_vs_rest         82\n",
       "Name: n_gene_pairs, dtype: int64"
      ]
     },
     "metadata": {},
     "output_type": "display_data"
    }
   ],
   "source": [
    "# sum gene pairs, it should be less than 100 (100 is the total number of gene pairs taken)\n",
    "tmp = plot_stats.groupby(\"subset\").sum()\n",
    "display(tmp)\n",
    "assert (tmp < N_TOP_GENE_PAIRS).all()"
   ]
  },
  {
   "cell_type": "code",
   "execution_count": 44,
   "id": "2693b0f6-86f9-4ccf-b95f-e9870636af45",
   "metadata": {},
   "outputs": [
    {
     "data": {
      "text/plain": [
       "(8,)"
      ]
     },
     "execution_count": 44,
     "metadata": {},
     "output_type": "execute_result"
    }
   ],
   "source": [
    "plot_stats.index.get_level_values(\"tissue\").unique().shape"
   ]
  },
  {
   "cell_type": "code",
   "execution_count": 45,
   "id": "6b746b10-b73c-4040-b41c-403b1b4d2af3",
   "metadata": {},
   "outputs": [
    {
     "data": {
      "text/html": [
       "<div>\n",
       "<style scoped>\n",
       "    .dataframe tbody tr th:only-of-type {\n",
       "        vertical-align: middle;\n",
       "    }\n",
       "\n",
       "    .dataframe tbody tr th {\n",
       "        vertical-align: top;\n",
       "    }\n",
       "\n",
       "    .dataframe thead th {\n",
       "        text-align: right;\n",
       "    }\n",
       "</style>\n",
       "<table border=\"1\" class=\"dataframe\">\n",
       "  <thead>\n",
       "    <tr style=\"text-align: right;\">\n",
       "      <th></th>\n",
       "      <th>subset</th>\n",
       "      <th>tissue</th>\n",
       "      <th>n_gene_pairs</th>\n",
       "    </tr>\n",
       "  </thead>\n",
       "  <tbody>\n",
       "    <tr>\n",
       "      <th>0</th>\n",
       "      <td>clustermatch_vs_rest</td>\n",
       "      <td>blood</td>\n",
       "      <td>16</td>\n",
       "    </tr>\n",
       "    <tr>\n",
       "      <th>1</th>\n",
       "      <td>clustermatch_vs_rest</td>\n",
       "      <td>mononuclear-phagocyte</td>\n",
       "      <td>14</td>\n",
       "    </tr>\n",
       "    <tr>\n",
       "      <th>2</th>\n",
       "      <td>clustermatch_vs_rest</td>\n",
       "      <td>natural-killer-cell</td>\n",
       "      <td>13</td>\n",
       "    </tr>\n",
       "    <tr>\n",
       "      <th>3</th>\n",
       "      <td>clustermatch_vs_rest</td>\n",
       "      <td>leukocyte</td>\n",
       "      <td>9</td>\n",
       "    </tr>\n",
       "    <tr>\n",
       "      <th>4</th>\n",
       "      <td>clustermatch_vs_rest</td>\n",
       "      <td>macrophage</td>\n",
       "      <td>8</td>\n",
       "    </tr>\n",
       "  </tbody>\n",
       "</table>\n",
       "</div>"
      ],
      "text/plain": [
       "                 subset                 tissue  n_gene_pairs\n",
       "0  clustermatch_vs_rest                  blood            16\n",
       "1  clustermatch_vs_rest  mononuclear-phagocyte            14\n",
       "2  clustermatch_vs_rest    natural-killer-cell            13\n",
       "3  clustermatch_vs_rest              leukocyte             9\n",
       "4  clustermatch_vs_rest             macrophage             8"
      ]
     },
     "metadata": {},
     "output_type": "display_data"
    }
   ],
   "source": [
    "plot_stats = plot_stats.reset_index()\n",
    "display(plot_stats.head())"
   ]
  },
  {
   "cell_type": "code",
   "execution_count": 46,
   "id": "dbe11607-64b2-413e-affd-104ee1a93ece",
   "metadata": {},
   "outputs": [
    {
     "data": {
      "text/plain": [
       "array(['clustermatch_vs_rest', 'pearson_vs_rest'], dtype=object)"
      ]
     },
     "execution_count": 46,
     "metadata": {},
     "output_type": "execute_result"
    }
   ],
   "source": [
    "plot_stats[\"subset\"].unique()"
   ]
  },
  {
   "cell_type": "code",
   "execution_count": 47,
   "id": "42d151e7-23b1-47b0-af84-1259e64e2195",
   "metadata": {},
   "outputs": [
    {
     "data": {
      "text/plain": [
       "array(['blood', 'mononuclear-phagocyte', 'natural-killer-cell',\n",
       "       'leukocyte', 'macrophage', 'skeletal-muscle', 'liver', 'placenta'],\n",
       "      dtype=object)"
      ]
     },
     "execution_count": 47,
     "metadata": {},
     "output_type": "execute_result"
    }
   ],
   "source": [
    "plot_stats[\"tissue\"].unique()"
   ]
  },
  {
   "cell_type": "markdown",
   "id": "4e3e38a2-11eb-4d23-a150-9c4e68dad2e5",
   "metadata": {
    "tags": []
   },
   "source": [
    "# Plots"
   ]
  },
  {
   "cell_type": "code",
   "execution_count": 48,
   "id": "143c511c-0637-458b-a225-7a9d0da63597",
   "metadata": {},
   "outputs": [],
   "source": [
    "PREDICTED_TISSUE_LABEL = \"Predicted tissue/cell type\\nin GIANT\"\n",
    "N_GENE_PAIRS_LABEL = \"Number of gene pairs\"\n",
    "AVG_PROB_INTERACTION_LABEL = (\n",
    "    \"Average probability of interaction\\nin tissue-specific networks\"\n",
    ")"
   ]
  },
  {
   "cell_type": "code",
   "execution_count": 49,
   "id": "15adc9cb-e318-45be-ac01-02271afadcfd",
   "metadata": {},
   "outputs": [],
   "source": [
    "subset_renames = {\n",
    "    \"clustermatch_vs_rest\": \"CCC vs others\",\n",
    "    # \"clustermatch_vs_pearson_spearman\": \"CCC vs Pearson/Spearman\",\n",
    "    # \"clustermatch_vs_spearman\": \"CCC vs Spearman\",\n",
    "    \"pearson_vs_rest\": \"Pearson vs others\",\n",
    "    # \"pearson_vs_clustermatch_spearman\": \"Pearson vs CCC/Spearman\",\n",
    "}\n",
    "\n",
    "tissue_renames = {\n",
    "    \"blood\": \"Blood\",\n",
    "    \"mononuclear-phagocyte\": \"Mononuclear phagocyte\",\n",
    "    \"natural-killer-cell\": \"Natural killer cell\",\n",
    "    \"leukocyte\": \"Leukocyte\",\n",
    "    \"macrophage\": \"Macrophage\",\n",
    "    \"granulocyte\": \"Granulocyte\",\n",
    "    \"skeletal-muscle\": \"Skeletal muscle\",\n",
    "    \"liver\": \"Liver\",\n",
    "    \"placenta\": \"Placenta\",\n",
    "}"
   ]
  },
  {
   "cell_type": "markdown",
   "id": "cc7f768d-bd65-4deb-b6cb-8e31fa4c31ca",
   "metadata": {},
   "source": [
    "## First plot version"
   ]
  },
  {
   "cell_type": "markdown",
   "id": "4ff9f53f-55e3-4782-b488-1e36aea42fb5",
   "metadata": {},
   "source": [
    "These first plot versions are drafts, just to see how the pattern are.\n",
    "The final plots are generated in the `Second plot version` below."
   ]
  },
  {
   "cell_type": "code",
   "execution_count": 50,
   "id": "12b2cc07-a198-4af9-938f-b349205d459d",
   "metadata": {},
   "outputs": [],
   "source": [
    "count_data = plot_stats.replace(\n",
    "    {\n",
    "        \"subset\": subset_renames,\n",
    "        \"tissue\": tissue_renames,\n",
    "    }\n",
    ")"
   ]
  },
  {
   "cell_type": "markdown",
   "id": "99bd2f74-0068-48ce-ac34-9028bb6f1390",
   "metadata": {},
   "source": [
    "### Tissues order"
   ]
  },
  {
   "cell_type": "code",
   "execution_count": 51,
   "id": "74ed56e3-8224-445a-97e3-a188d4e1e844",
   "metadata": {},
   "outputs": [],
   "source": [
    "blood_related_tissues = set(\n",
    "    [\n",
    "        \"Blood\",\n",
    "        \"Mononuclear phagocyte\",\n",
    "        \"Natural killer cell\",\n",
    "        \"Leukocyte\",\n",
    "        \"Macrophage\",\n",
    "    ]\n",
    ")"
   ]
  },
  {
   "cell_type": "code",
   "execution_count": 52,
   "id": "d52f1ffa-db0a-4714-82eb-a557fd3a617f",
   "metadata": {},
   "outputs": [],
   "source": [
    "tissues_order = [\n",
    "    \"Blood\",\n",
    "    \"Mononuclear phagocyte\",\n",
    "    \"Natural killer cell\",\n",
    "    \"Leukocyte\",\n",
    "    \"Macrophage\",\n",
    "    \"Skeletal muscle\",\n",
    "    \"Liver\",\n",
    "    \"Placenta\",\n",
    "]"
   ]
  },
  {
   "cell_type": "markdown",
   "id": "c3de52ea-3dcc-442c-9873-656df2e8ab5f",
   "metadata": {},
   "source": [
    "### Tissues colors"
   ]
  },
  {
   "cell_type": "code",
   "execution_count": 53,
   "id": "6993edfe-b31c-4042-8447-39170d77729c",
   "metadata": {},
   "outputs": [
    {
     "data": {
      "text/html": [
       "<svg  width=\"550\" height=\"55\"><rect x=\"0\" y=\"0\" width=\"55\" height=\"55\" style=\"fill:#1f77b4;stroke-width:2;stroke:rgb(255,255,255)\"/><rect x=\"55\" y=\"0\" width=\"55\" height=\"55\" style=\"fill:#ff7f0e;stroke-width:2;stroke:rgb(255,255,255)\"/><rect x=\"110\" y=\"0\" width=\"55\" height=\"55\" style=\"fill:#2ca02c;stroke-width:2;stroke:rgb(255,255,255)\"/><rect x=\"165\" y=\"0\" width=\"55\" height=\"55\" style=\"fill:#d62728;stroke-width:2;stroke:rgb(255,255,255)\"/><rect x=\"220\" y=\"0\" width=\"55\" height=\"55\" style=\"fill:#9467bd;stroke-width:2;stroke:rgb(255,255,255)\"/><rect x=\"275\" y=\"0\" width=\"55\" height=\"55\" style=\"fill:#8c564b;stroke-width:2;stroke:rgb(255,255,255)\"/><rect x=\"330\" y=\"0\" width=\"55\" height=\"55\" style=\"fill:#e377c2;stroke-width:2;stroke:rgb(255,255,255)\"/><rect x=\"385\" y=\"0\" width=\"55\" height=\"55\" style=\"fill:#7f7f7f;stroke-width:2;stroke:rgb(255,255,255)\"/><rect x=\"440\" y=\"0\" width=\"55\" height=\"55\" style=\"fill:#bcbd22;stroke-width:2;stroke:rgb(255,255,255)\"/><rect x=\"495\" y=\"0\" width=\"55\" height=\"55\" style=\"fill:#17becf;stroke-width:2;stroke:rgb(255,255,255)\"/></svg>"
      ],
      "text/plain": [
       "[(0.12156862745098039, 0.4666666666666667, 0.7058823529411765),\n",
       " (1.0, 0.4980392156862745, 0.054901960784313725),\n",
       " (0.17254901960784313, 0.6274509803921569, 0.17254901960784313),\n",
       " (0.8392156862745098, 0.15294117647058825, 0.1568627450980392),\n",
       " (0.5803921568627451, 0.403921568627451, 0.7411764705882353),\n",
       " (0.5490196078431373, 0.33725490196078434, 0.29411764705882354),\n",
       " (0.8901960784313725, 0.4666666666666667, 0.7607843137254902),\n",
       " (0.4980392156862745, 0.4980392156862745, 0.4980392156862745),\n",
       " (0.7372549019607844, 0.7411764705882353, 0.13333333333333333),\n",
       " (0.09019607843137255, 0.7450980392156863, 0.8117647058823529)]"
      ]
     },
     "metadata": {},
     "output_type": "display_data"
    }
   ],
   "source": [
    "deep_colors = sns.color_palette(\"tab10\")\n",
    "display(deep_colors)"
   ]
  },
  {
   "cell_type": "code",
   "execution_count": 54,
   "id": "f8af3b39-b216-4286-9f01-df52a4ab92c7",
   "metadata": {},
   "outputs": [],
   "source": [
    "blood_color = deep_colors[3]\n",
    "others_color = deep_colors[0]"
   ]
  },
  {
   "cell_type": "code",
   "execution_count": 55,
   "id": "e0d0798a-9676-45b9-b450-c84af98d6d3b",
   "metadata": {},
   "outputs": [],
   "source": [
    "tissue_colors = {\n",
    "    t: blood_color if t in blood_related_tissues else others_color\n",
    "    for t in tissues_order\n",
    "}"
   ]
  },
  {
   "cell_type": "markdown",
   "id": "072f295e-e830-428b-9d69-9e4ad8d6a71c",
   "metadata": {},
   "source": [
    "### Plot: number of gene pairs by tissue and method"
   ]
  },
  {
   "cell_type": "code",
   "execution_count": 56,
   "id": "c1572df0-e46e-44f8-a8e5-ad91e9ff77ea",
   "metadata": {},
   "outputs": [
    {
     "data": {
      "image/png": "[encoded data removed]",
      "text/plain": [
       "<Figure size 302.4x288 with 2 Axes>"
      ]
     },
     "metadata": {
      "needs_background": "light"
     },
     "output_type": "display_data"
    }
   ],
   "source": [
    "with sns.plotting_context(\"paper\", font_scale=1.0):\n",
    "    g = sns.FacetGrid(\n",
    "        count_data,\n",
    "        row=\"subset\",\n",
    "        sharex=True,\n",
    "        sharey=True,\n",
    "        height=2.0,\n",
    "        aspect=2.1,\n",
    "    )\n",
    "    g.map(\n",
    "        sns.barplot,\n",
    "        \"tissue\",\n",
    "        \"n_gene_pairs\",\n",
    "        order=tissues_order,\n",
    "        palette=tissue_colors,\n",
    "    )\n",
    "    g.set_xticklabels(rotation=35, ha=\"right\")\n",
    "    g.set_axis_labels(PREDICTED_TISSUE_LABEL, \"\")\n",
    "\n",
    "    g.fig.text(0, 0.30, N_GENE_PAIRS_LABEL, rotation=90)"
   ]
  },
  {
   "cell_type": "markdown",
   "id": "224e249f-df1e-4bdb-bb0d-daaf21215500",
   "metadata": {},
   "source": [
    "### Plot: gene networks connectivity by tissue and method"
   ]
  },
  {
   "cell_type": "code",
   "execution_count": 57,
   "id": "9d491f0b-4c15-4aee-a709-b2b9fc3ca528",
   "metadata": {},
   "outputs": [],
   "source": [
    "conn_data = pd.merge(\n",
    "    top_df,\n",
    "    plot_stats,\n",
    "    left_on=[\"subset\", \"tissue\"],\n",
    "    right_on=[\"subset\", \"tissue\"],\n",
    "    how=\"inner\",\n",
    ")"
   ]
  },
  {
   "cell_type": "code",
   "execution_count": 58,
   "id": "cc3fa20b-85fb-4b36-8162-17ad53bffaf6",
   "metadata": {},
   "outputs": [],
   "source": [
    "conn_data = conn_data.replace(\n",
    "    {\n",
    "        \"subset\": subset_renames,\n",
    "        \"tissue\": tissue_renames,\n",
    "    }\n",
    ")"
   ]
  },
  {
   "cell_type": "code",
   "execution_count": 59,
   "id": "f3fbb2a0-7cd6-4c7d-9cf2-1913d2ad7379",
   "metadata": {},
   "outputs": [
    {
     "data": {
      "text/plain": [
       "(15138, 8)"
      ]
     },
     "execution_count": 59,
     "metadata": {},
     "output_type": "execute_result"
    }
   ],
   "source": [
    "conn_data.shape"
   ]
  },
  {
   "cell_type": "code",
   "execution_count": 60,
   "id": "df12f60b-c2b6-4de7-a18b-3237b69cb389",
   "metadata": {},
   "outputs": [
    {
     "data": {
      "text/html": [
       "<div>\n",
       "<style scoped>\n",
       "    .dataframe tbody tr th:only-of-type {\n",
       "        vertical-align: middle;\n",
       "    }\n",
       "\n",
       "    .dataframe tbody tr th {\n",
       "        vertical-align: top;\n",
       "    }\n",
       "\n",
       "    .dataframe thead th {\n",
       "        text-align: right;\n",
       "    }\n",
       "</style>\n",
       "<table border=\"1\" class=\"dataframe\">\n",
       "  <thead>\n",
       "    <tr style=\"text-align: right;\">\n",
       "      <th></th>\n",
       "      <th>gene1</th>\n",
       "      <th>gene2</th>\n",
       "      <th>weight</th>\n",
       "      <th>order</th>\n",
       "      <th>gene_pair</th>\n",
       "      <th>tissue</th>\n",
       "      <th>subset</th>\n",
       "      <th>n_gene_pairs</th>\n",
       "    </tr>\n",
       "  </thead>\n",
       "  <tbody>\n",
       "    <tr>\n",
       "      <th>0</th>\n",
       "      <td>CCL3</td>\n",
       "      <td>SCAMP2</td>\n",
       "      <td>0.111008</td>\n",
       "      <td>2</td>\n",
       "      <td>CCL18_ZDHHC12</td>\n",
       "      <td>Macrophage</td>\n",
       "      <td>CCC vs others</td>\n",
       "      <td>8</td>\n",
       "    </tr>\n",
       "    <tr>\n",
       "      <th>1</th>\n",
       "      <td>CCL3</td>\n",
       "      <td>CCL5</td>\n",
       "      <td>0.500257</td>\n",
       "      <td>2</td>\n",
       "      <td>CCL18_ZDHHC12</td>\n",
       "      <td>Macrophage</td>\n",
       "      <td>CCC vs others</td>\n",
       "      <td>8</td>\n",
       "    </tr>\n",
       "    <tr>\n",
       "      <th>2</th>\n",
       "      <td>CCL3</td>\n",
       "      <td>HLA-DMB</td>\n",
       "      <td>0.788821</td>\n",
       "      <td>2</td>\n",
       "      <td>CCL18_ZDHHC12</td>\n",
       "      <td>Macrophage</td>\n",
       "      <td>CCC vs others</td>\n",
       "      <td>8</td>\n",
       "    </tr>\n",
       "    <tr>\n",
       "      <th>3</th>\n",
       "      <td>CCL3</td>\n",
       "      <td>GBP1</td>\n",
       "      <td>0.127745</td>\n",
       "      <td>2</td>\n",
       "      <td>CCL18_ZDHHC12</td>\n",
       "      <td>Macrophage</td>\n",
       "      <td>CCC vs others</td>\n",
       "      <td>8</td>\n",
       "    </tr>\n",
       "    <tr>\n",
       "      <th>4</th>\n",
       "      <td>CCL3</td>\n",
       "      <td>ZDHHC12</td>\n",
       "      <td>0.031800</td>\n",
       "      <td>2</td>\n",
       "      <td>CCL18_ZDHHC12</td>\n",
       "      <td>Macrophage</td>\n",
       "      <td>CCC vs others</td>\n",
       "      <td>8</td>\n",
       "    </tr>\n",
       "  </tbody>\n",
       "</table>\n",
       "</div>"
      ],
      "text/plain": [
       "  gene1    gene2    weight  order      gene_pair      tissue         subset  \\\n",
       "0  CCL3   SCAMP2  0.111008      2  CCL18_ZDHHC12  Macrophage  CCC vs others   \n",
       "1  CCL3     CCL5  0.500257      2  CCL18_ZDHHC12  Macrophage  CCC vs others   \n",
       "2  CCL3  HLA-DMB  0.788821      2  CCL18_ZDHHC12  Macrophage  CCC vs others   \n",
       "3  CCL3     GBP1  0.127745      2  CCL18_ZDHHC12  Macrophage  CCC vs others   \n",
       "4  CCL3  ZDHHC12  0.031800      2  CCL18_ZDHHC12  Macrophage  CCC vs others   \n",
       "\n",
       "   n_gene_pairs  \n",
       "0             8  \n",
       "1             8  \n",
       "2             8  \n",
       "3             8  \n",
       "4             8  "
      ]
     },
     "execution_count": 60,
     "metadata": {},
     "output_type": "execute_result"
    }
   ],
   "source": [
    "conn_data.head()"
   ]
  },
  {
   "cell_type": "code",
   "execution_count": 61,
   "id": "be76d524-5344-46ae-94f4-04aa22840538",
   "metadata": {},
   "outputs": [],
   "source": [
    "# # only keep connections with query genes\n",
    "# conn_data = conn_data.assign(query_genes=conn_data[\"gene_pair\"].apply(lambda x: set(x.split(\"_\"))))"
   ]
  },
  {
   "cell_type": "code",
   "execution_count": 62,
   "id": "a93bc60c-a798-4395-a4c4-5b04f9cd6c7c",
   "metadata": {},
   "outputs": [],
   "source": [
    "# conn_data = conn_data[conn_data.apply(\n",
    "#     lambda x:\n",
    "#         (x[\"gene1\"] in x[\"query_genes\"]) | (x[\"gene2\"] in x[\"query_genes\"]),\n",
    "#     axis=1\n",
    "# )]"
   ]
  },
  {
   "cell_type": "code",
   "execution_count": 63,
   "id": "9db06f13-eb27-4d75-a85f-3d815183ad4b",
   "metadata": {},
   "outputs": [],
   "source": [
    "# conn_data.shape"
   ]
  },
  {
   "cell_type": "code",
   "execution_count": 64,
   "id": "82728b7c-7687-4bcb-a6a3-6f6671fafb9f",
   "metadata": {},
   "outputs": [],
   "source": [
    "# conn_data.head()"
   ]
  },
  {
   "cell_type": "code",
   "execution_count": 65,
   "id": "c9d07fe9-15c9-4e69-9a32-91484c725f5c",
   "metadata": {},
   "outputs": [
    {
     "data": {
      "image/png": "[encoded data removed]",
      "text/plain": [
       "<Figure size 302.4x288 with 2 Axes>"
      ]
     },
     "metadata": {
      "needs_background": "light"
     },
     "output_type": "display_data"
    }
   ],
   "source": [
    "with sns.plotting_context(\"paper\", font_scale=1.0):\n",
    "    g = sns.FacetGrid(\n",
    "        conn_data,\n",
    "        row=\"subset\",\n",
    "        sharex=True,\n",
    "        sharey=True,\n",
    "        height=2.0,\n",
    "        aspect=2.1,\n",
    "    )\n",
    "    g.map(sns.boxplot, \"tissue\", \"weight\", order=tissues_order, palette=tissue_colors)\n",
    "    g.set_xticklabels(rotation=30, ha=\"right\")\n",
    "    g.set_axis_labels(PREDICTED_TISSUE_LABEL, \"\")\n",
    "\n",
    "    for ax in g.axes:\n",
    "        ax = ax[0]\n",
    "        sns.despine(ax=ax, left=True, right=False)\n",
    "        ax.yaxis.tick_right()\n",
    "        ax.yaxis.set_label_position(\"right\")\n",
    "\n",
    "    g.fig.text(1.10, 0.25, AVG_PROB_INTERACTION_LABEL, rotation=90, ha=\"center\")"
   ]
  },
  {
   "cell_type": "markdown",
   "id": "0a9fc224-724e-431b-9a18-a941d2b0480f",
   "metadata": {},
   "source": [
    "## Second plot version"
   ]
  },
  {
   "cell_type": "markdown",
   "id": "fe6d0c76-0f18-4322-9b6a-6121e342931d",
   "metadata": {},
   "source": [
    "### Tissues order"
   ]
  },
  {
   "cell_type": "code",
   "execution_count": 66,
   "id": "a72039a6-c160-4559-a551-37f08bb13c7a",
   "metadata": {},
   "outputs": [],
   "source": [
    "ccc_tissues = {\n",
    "    \"Natural killer cell\",\n",
    "    \"Leukocyte\",\n",
    "    \"Macrophage\",\n",
    "}\n",
    "\n",
    "pcc_tissues = {\n",
    "    \"Skeletal muscle\",\n",
    "    \"Liver\",\n",
    "    \"Placenta\",\n",
    "}\n",
    "\n",
    "shared_tissues = {\n",
    "    \"Blood\",\n",
    "    \"Mononuclear phagocyte\",\n",
    "}\n",
    "\n",
    "# make sure I'm not missing a tissue\n",
    "assert set(tissues_order) == (ccc_tissues | pcc_tissues | shared_tissues)\n",
    "\n",
    "# new tissues_order\n",
    "tissues_order = [\n",
    "    \"Macrophage\",\n",
    "    \"Leukocyte\",\n",
    "    \"Natural killer cell\",\n",
    "    \"Blood\",\n",
    "    \"Mononuclear phagocyte\",\n",
    "    \"Skeletal muscle\",\n",
    "    \"Liver\",\n",
    "    \"Placenta\",\n",
    "]\n",
    "\n",
    "assert set(tissues_order) == (ccc_tissues | pcc_tissues | shared_tissues)"
   ]
  },
  {
   "cell_type": "markdown",
   "id": "87b8174d-2428-4c06-8069-8bdcc7920bad",
   "metadata": {},
   "source": [
    "### Tissues colors"
   ]
  },
  {
   "cell_type": "code",
   "execution_count": 67,
   "id": "909d703a-1f3a-44ff-bcfe-63b62911a640",
   "metadata": {},
   "outputs": [
    {
     "data": {
      "text/html": [
       "<svg  width=\"550\" height=\"55\"><rect x=\"0\" y=\"0\" width=\"55\" height=\"55\" style=\"fill:#1f77b4;stroke-width:2;stroke:rgb(255,255,255)\"/><rect x=\"55\" y=\"0\" width=\"55\" height=\"55\" style=\"fill:#ff7f0e;stroke-width:2;stroke:rgb(255,255,255)\"/><rect x=\"110\" y=\"0\" width=\"55\" height=\"55\" style=\"fill:#2ca02c;stroke-width:2;stroke:rgb(255,255,255)\"/><rect x=\"165\" y=\"0\" width=\"55\" height=\"55\" style=\"fill:#d62728;stroke-width:2;stroke:rgb(255,255,255)\"/><rect x=\"220\" y=\"0\" width=\"55\" height=\"55\" style=\"fill:#9467bd;stroke-width:2;stroke:rgb(255,255,255)\"/><rect x=\"275\" y=\"0\" width=\"55\" height=\"55\" style=\"fill:#8c564b;stroke-width:2;stroke:rgb(255,255,255)\"/><rect x=\"330\" y=\"0\" width=\"55\" height=\"55\" style=\"fill:#e377c2;stroke-width:2;stroke:rgb(255,255,255)\"/><rect x=\"385\" y=\"0\" width=\"55\" height=\"55\" style=\"fill:#7f7f7f;stroke-width:2;stroke:rgb(255,255,255)\"/><rect x=\"440\" y=\"0\" width=\"55\" height=\"55\" style=\"fill:#bcbd22;stroke-width:2;stroke:rgb(255,255,255)\"/><rect x=\"495\" y=\"0\" width=\"55\" height=\"55\" style=\"fill:#17becf;stroke-width:2;stroke:rgb(255,255,255)\"/></svg>"
      ],
      "text/plain": [
       "[(0.12156862745098039, 0.4666666666666667, 0.7058823529411765),\n",
       " (1.0, 0.4980392156862745, 0.054901960784313725),\n",
       " (0.17254901960784313, 0.6274509803921569, 0.17254901960784313),\n",
       " (0.8392156862745098, 0.15294117647058825, 0.1568627450980392),\n",
       " (0.5803921568627451, 0.403921568627451, 0.7411764705882353),\n",
       " (0.5490196078431373, 0.33725490196078434, 0.29411764705882354),\n",
       " (0.8901960784313725, 0.4666666666666667, 0.7607843137254902),\n",
       " (0.4980392156862745, 0.4980392156862745, 0.4980392156862745),\n",
       " (0.7372549019607844, 0.7411764705882353, 0.13333333333333333),\n",
       " (0.09019607843137255, 0.7450980392156863, 0.8117647058823529)]"
      ]
     },
     "metadata": {},
     "output_type": "display_data"
    }
   ],
   "source": [
    "display(deep_colors)"
   ]
  },
  {
   "cell_type": "code",
   "execution_count": 68,
   "id": "c6bc6901-b06c-4b2c-a2c5-06be0981734d",
   "metadata": {},
   "outputs": [],
   "source": [
    "# by specific or shared\n",
    "ccc_color = deep_colors[3]\n",
    "shared_color = deep_colors[4]\n",
    "pcc_color = deep_colors[0]"
   ]
  },
  {
   "cell_type": "code",
   "execution_count": 69,
   "id": "4f0f39c7-6f22-4723-b67d-f1e092064cb4",
   "metadata": {},
   "outputs": [],
   "source": [
    "tissue_colors = {\n",
    "    t: ccc_color\n",
    "    if t in ccc_tissues\n",
    "    else pcc_color\n",
    "    if t in pcc_tissues\n",
    "    else shared_color\n",
    "    for t in tissues_order\n",
    "}"
   ]
  },
  {
   "cell_type": "markdown",
   "id": "60668c52-44b8-4a29-80cb-500858b138f1",
   "metadata": {},
   "source": [
    "### Plot: number of gene pairs by tissue and method"
   ]
  },
  {
   "cell_type": "code",
   "execution_count": 78,
   "id": "77de0e84-af05-447d-a545-b958bce5111d",
   "metadata": {},
   "outputs": [
    {
     "data": {
      "image/png": "[encoded data removed]",
      "text/plain": [
       "<Figure size 518.4x576 with 2 Axes>"
      ]
     },
     "metadata": {
      "needs_background": "light"
     },
     "output_type": "display_data"
    }
   ],
   "source": [
    "with sns.plotting_context(\"poster\", font_scale=1.0):\n",
    "    g = sns.FacetGrid(\n",
    "        count_data,\n",
    "        row=\"subset\",\n",
    "        sharex=True,\n",
    "        sharey=True,\n",
    "        height=4.0,\n",
    "        aspect=1.8,\n",
    "    )\n",
    "    g.map(\n",
    "        sns.barplot,\n",
    "        \"tissue\",\n",
    "        \"n_gene_pairs\",\n",
    "        order=tissues_order,\n",
    "        palette=tissue_colors,\n",
    "    )\n",
    "    g.set_xticklabels(rotation=30, ha=\"right\")\n",
    "    # g.set_axis_labels(PREDICTED_TISSUE_LABEL, \"\")\n",
    "    g.set_axis_labels(\"\", \"\")\n",
    "\n",
    "    g.set_titles(row_template=\"\")\n",
    "\n",
    "    g.fig.text(0.02, 0.30, N_GENE_PAIRS_LABEL, rotation=90)\n",
    "\n",
    "    g.savefig(\n",
    "        OUTPUT_FIGURE_DIR / \"top_gene_pairs-tissue_count.svg\",\n",
    "        bbox_inches=\"tight\",\n",
    "        dpi=300,\n",
    "        # facecolor=\"white\",\n",
    "        transparent=True,\n",
    "    )"
   ]
  },
  {
   "cell_type": "markdown",
   "id": "0ace6d99-da97-40ca-9401-22f8b79d9fff",
   "metadata": {},
   "source": [
    "### Plot: gene networks connectivity by tissue and method"
   ]
  },
  {
   "cell_type": "code",
   "execution_count": 79,
   "id": "75de528c-91d7-44c3-8af6-fe51614d869a",
   "metadata": {},
   "outputs": [
    {
     "data": {
      "image/png": "[encoded data removed]",
      "text/plain": [
       "<Figure size 518.4x576 with 2 Axes>"
      ]
     },
     "metadata": {
      "needs_background": "light"
     },
     "output_type": "display_data"
    }
   ],
   "source": [
    "with sns.plotting_context(\"poster\", font_scale=1.0):\n",
    "    g = sns.FacetGrid(\n",
    "        conn_data,\n",
    "        row=\"subset\",\n",
    "        sharex=True,\n",
    "        sharey=True,\n",
    "        height=4.0,\n",
    "        aspect=1.8,\n",
    "    )\n",
    "    g.map(sns.boxplot, \"tissue\", \"weight\", order=tissues_order, palette=tissue_colors)\n",
    "    g.set_xticklabels(rotation=30, ha=\"right\")\n",
    "    # g.set_axis_labels(PREDICTED_TISSUE_LABEL, \"\")\n",
    "    g.set_axis_labels(\"\", \"\")\n",
    "\n",
    "    g.set_titles(row_template=\"\")\n",
    "\n",
    "    for ax in g.axes:\n",
    "        ax = ax[0]\n",
    "        sns.despine(ax=ax, left=True, right=False)\n",
    "        ax.yaxis.tick_right()\n",
    "        ax.yaxis.set_label_position(\"right\")\n",
    "\n",
    "    g.fig.text(1.10, 0.20, AVG_PROB_INTERACTION_LABEL, rotation=90, ha=\"center\")\n",
    "\n",
    "    g.savefig(\n",
    "        OUTPUT_FIGURE_DIR / \"top_gene_pairs-tissue_avg_weight.svg\",\n",
    "        bbox_inches=\"tight\",\n",
    "        dpi=300,\n",
    "        # facecolor=\"white\",\n",
    "        transparent=True,\n",
    "    )"
   ]
  },
  {
   "cell_type": "markdown",
   "id": "0740317f-b4e2-4459-b074-e279b59a26ac",
   "metadata": {
    "papermill": {
     "duration": 0.114019,
     "end_time": "2021-12-21T20:27:03.073018",
     "exception": false,
     "start_time": "2021-12-21T20:27:02.958999",
     "status": "completed"
    },
    "tags": []
   },
   "source": [
    "# Raw numbers"
   ]
  },
  {
   "cell_type": "code",
   "execution_count": 80,
   "id": "cd154dcc-65ef-4c11-8eeb-5094193120df",
   "metadata": {},
   "outputs": [
    {
     "data": {
      "text/html": [
       "<div>\n",
       "<style scoped>\n",
       "    .dataframe tbody tr th:only-of-type {\n",
       "        vertical-align: middle;\n",
       "    }\n",
       "\n",
       "    .dataframe tbody tr th {\n",
       "        vertical-align: top;\n",
       "    }\n",
       "\n",
       "    .dataframe thead th {\n",
       "        text-align: right;\n",
       "    }\n",
       "</style>\n",
       "<table border=\"1\" class=\"dataframe\">\n",
       "  <thead>\n",
       "    <tr style=\"text-align: right;\">\n",
       "      <th></th>\n",
       "      <th>subset</th>\n",
       "      <th>tissue</th>\n",
       "      <th>n_gene_pairs</th>\n",
       "    </tr>\n",
       "  </thead>\n",
       "  <tbody>\n",
       "    <tr>\n",
       "      <th>0</th>\n",
       "      <td>CCC vs others</td>\n",
       "      <td>Blood</td>\n",
       "      <td>16</td>\n",
       "    </tr>\n",
       "    <tr>\n",
       "      <th>1</th>\n",
       "      <td>CCC vs others</td>\n",
       "      <td>Mononuclear phagocyte</td>\n",
       "      <td>14</td>\n",
       "    </tr>\n",
       "    <tr>\n",
       "      <th>2</th>\n",
       "      <td>CCC vs others</td>\n",
       "      <td>Natural killer cell</td>\n",
       "      <td>13</td>\n",
       "    </tr>\n",
       "    <tr>\n",
       "      <th>3</th>\n",
       "      <td>CCC vs others</td>\n",
       "      <td>Leukocyte</td>\n",
       "      <td>9</td>\n",
       "    </tr>\n",
       "    <tr>\n",
       "      <th>4</th>\n",
       "      <td>CCC vs others</td>\n",
       "      <td>Macrophage</td>\n",
       "      <td>8</td>\n",
       "    </tr>\n",
       "    <tr>\n",
       "      <th>5</th>\n",
       "      <td>Pearson vs others</td>\n",
       "      <td>Skeletal muscle</td>\n",
       "      <td>36</td>\n",
       "    </tr>\n",
       "    <tr>\n",
       "      <th>6</th>\n",
       "      <td>Pearson vs others</td>\n",
       "      <td>Liver</td>\n",
       "      <td>18</td>\n",
       "    </tr>\n",
       "    <tr>\n",
       "      <th>7</th>\n",
       "      <td>Pearson vs others</td>\n",
       "      <td>Placenta</td>\n",
       "      <td>12</td>\n",
       "    </tr>\n",
       "    <tr>\n",
       "      <th>8</th>\n",
       "      <td>Pearson vs others</td>\n",
       "      <td>Blood</td>\n",
       "      <td>9</td>\n",
       "    </tr>\n",
       "    <tr>\n",
       "      <th>9</th>\n",
       "      <td>Pearson vs others</td>\n",
       "      <td>Mononuclear phagocyte</td>\n",
       "      <td>7</td>\n",
       "    </tr>\n",
       "  </tbody>\n",
       "</table>\n",
       "</div>"
      ],
      "text/plain": [
       "              subset                 tissue  n_gene_pairs\n",
       "0      CCC vs others                  Blood            16\n",
       "1      CCC vs others  Mononuclear phagocyte            14\n",
       "2      CCC vs others    Natural killer cell            13\n",
       "3      CCC vs others              Leukocyte             9\n",
       "4      CCC vs others             Macrophage             8\n",
       "5  Pearson vs others        Skeletal muscle            36\n",
       "6  Pearson vs others                  Liver            18\n",
       "7  Pearson vs others               Placenta            12\n",
       "8  Pearson vs others                  Blood             9\n",
       "9  Pearson vs others  Mononuclear phagocyte             7"
      ]
     },
     "execution_count": 80,
     "metadata": {},
     "output_type": "execute_result"
    }
   ],
   "source": [
    "count_data.sort_values([\"subset\", \"n_gene_pairs\"], ascending=[True, False])"
   ]
  },
  {
   "cell_type": "code",
   "execution_count": 81,
   "id": "0ad5477c-8800-4497-8836-b6c4b51691fd",
   "metadata": {},
   "outputs": [
    {
     "data": {
      "text/html": [
       "<div>\n",
       "<style scoped>\n",
       "    .dataframe tbody tr th:only-of-type {\n",
       "        vertical-align: middle;\n",
       "    }\n",
       "\n",
       "    .dataframe tbody tr th {\n",
       "        vertical-align: top;\n",
       "    }\n",
       "\n",
       "    .dataframe thead th {\n",
       "        text-align: right;\n",
       "    }\n",
       "</style>\n",
       "<table border=\"1\" class=\"dataframe\">\n",
       "  <thead>\n",
       "    <tr style=\"text-align: right;\">\n",
       "      <th></th>\n",
       "      <th></th>\n",
       "      <th>count</th>\n",
       "      <th>mean</th>\n",
       "      <th>std</th>\n",
       "      <th>min</th>\n",
       "      <th>25%</th>\n",
       "      <th>50%</th>\n",
       "      <th>75%</th>\n",
       "      <th>max</th>\n",
       "    </tr>\n",
       "    <tr>\n",
       "      <th>subset</th>\n",
       "      <th>tissue</th>\n",
       "      <th></th>\n",
       "      <th></th>\n",
       "      <th></th>\n",
       "      <th></th>\n",
       "      <th></th>\n",
       "      <th></th>\n",
       "      <th></th>\n",
       "      <th></th>\n",
       "    </tr>\n",
       "  </thead>\n",
       "  <tbody>\n",
       "    <tr>\n",
       "      <th rowspan=\"5\" valign=\"top\">CCC vs others</th>\n",
       "      <th>Blood</th>\n",
       "      <td>1999.0</td>\n",
       "      <td>0.635626</td>\n",
       "      <td>0.241190</td>\n",
       "      <td>0.023335</td>\n",
       "      <td>0.483138</td>\n",
       "      <td>0.710755</td>\n",
       "      <td>0.827111</td>\n",
       "      <td>0.981239</td>\n",
       "    </tr>\n",
       "    <tr>\n",
       "      <th>Leukocyte</th>\n",
       "      <td>1146.0</td>\n",
       "      <td>0.653154</td>\n",
       "      <td>0.266569</td>\n",
       "      <td>0.001895</td>\n",
       "      <td>0.504050</td>\n",
       "      <td>0.744179</td>\n",
       "      <td>0.864689</td>\n",
       "      <td>0.998099</td>\n",
       "    </tr>\n",
       "    <tr>\n",
       "      <th>Macrophage</th>\n",
       "      <td>1015.0</td>\n",
       "      <td>0.605884</td>\n",
       "      <td>0.265471</td>\n",
       "      <td>0.015116</td>\n",
       "      <td>0.416022</td>\n",
       "      <td>0.676276</td>\n",
       "      <td>0.808777</td>\n",
       "      <td>0.993414</td>\n",
       "    </tr>\n",
       "    <tr>\n",
       "      <th>Mononuclear phagocyte</th>\n",
       "      <td>1810.0</td>\n",
       "      <td>0.715005</td>\n",
       "      <td>0.263198</td>\n",
       "      <td>0.005849</td>\n",
       "      <td>0.624547</td>\n",
       "      <td>0.822325</td>\n",
       "      <td>0.896281</td>\n",
       "      <td>0.994341</td>\n",
       "    </tr>\n",
       "    <tr>\n",
       "      <th>Natural killer cell</th>\n",
       "      <td>1478.0</td>\n",
       "      <td>0.863648</td>\n",
       "      <td>0.153513</td>\n",
       "      <td>0.164965</td>\n",
       "      <td>0.797427</td>\n",
       "      <td>0.920069</td>\n",
       "      <td>0.981648</td>\n",
       "      <td>0.999793</td>\n",
       "    </tr>\n",
       "    <tr>\n",
       "      <th rowspan=\"5\" valign=\"top\">Pearson vs others</th>\n",
       "      <th>Blood</th>\n",
       "      <td>1098.0</td>\n",
       "      <td>0.605613</td>\n",
       "      <td>0.249599</td>\n",
       "      <td>0.048062</td>\n",
       "      <td>0.433474</td>\n",
       "      <td>0.656539</td>\n",
       "      <td>0.814353</td>\n",
       "      <td>0.988633</td>\n",
       "    </tr>\n",
       "    <tr>\n",
       "      <th>Liver</th>\n",
       "      <td>1604.0</td>\n",
       "      <td>0.146128</td>\n",
       "      <td>0.093899</td>\n",
       "      <td>0.002845</td>\n",
       "      <td>0.103968</td>\n",
       "      <td>0.112115</td>\n",
       "      <td>0.133753</td>\n",
       "      <td>0.669685</td>\n",
       "    </tr>\n",
       "    <tr>\n",
       "      <th>Mononuclear phagocyte</th>\n",
       "      <td>910.0</td>\n",
       "      <td>0.807049</td>\n",
       "      <td>0.234952</td>\n",
       "      <td>0.016067</td>\n",
       "      <td>0.773291</td>\n",
       "      <td>0.899533</td>\n",
       "      <td>0.954558</td>\n",
       "      <td>0.994341</td>\n",
       "    </tr>\n",
       "    <tr>\n",
       "      <th>Placenta</th>\n",
       "      <td>1023.0</td>\n",
       "      <td>0.239777</td>\n",
       "      <td>0.169568</td>\n",
       "      <td>0.084798</td>\n",
       "      <td>0.116744</td>\n",
       "      <td>0.167764</td>\n",
       "      <td>0.286761</td>\n",
       "      <td>0.922224</td>\n",
       "    </tr>\n",
       "    <tr>\n",
       "      <th>Skeletal muscle</th>\n",
       "      <td>3055.0</td>\n",
       "      <td>0.113124</td>\n",
       "      <td>0.029374</td>\n",
       "      <td>0.011840</td>\n",
       "      <td>0.104272</td>\n",
       "      <td>0.107967</td>\n",
       "      <td>0.114303</td>\n",
       "      <td>0.547389</td>\n",
       "    </tr>\n",
       "  </tbody>\n",
       "</table>\n",
       "</div>"
      ],
      "text/plain": [
       "                                          count      mean       std       min  \\\n",
       "subset            tissue                                                        \n",
       "CCC vs others     Blood                  1999.0  0.635626  0.241190  0.023335   \n",
       "                  Leukocyte              1146.0  0.653154  0.266569  0.001895   \n",
       "                  Macrophage             1015.0  0.605884  0.265471  0.015116   \n",
       "                  Mononuclear phagocyte  1810.0  0.715005  0.263198  0.005849   \n",
       "                  Natural killer cell    1478.0  0.863648  0.153513  0.164965   \n",
       "Pearson vs others Blood                  1098.0  0.605613  0.249599  0.048062   \n",
       "                  Liver                  1604.0  0.146128  0.093899  0.002845   \n",
       "                  Mononuclear phagocyte   910.0  0.807049  0.234952  0.016067   \n",
       "                  Placenta               1023.0  0.239777  0.169568  0.084798   \n",
       "                  Skeletal muscle        3055.0  0.113124  0.029374  0.011840   \n",
       "\n",
       "                                              25%       50%       75%  \\\n",
       "subset            tissue                                                \n",
       "CCC vs others     Blood                  0.483138  0.710755  0.827111   \n",
       "                  Leukocyte              0.504050  0.744179  0.864689   \n",
       "                  Macrophage             0.416022  0.676276  0.808777   \n",
       "                  Mononuclear phagocyte  0.624547  0.822325  0.896281   \n",
       "                  Natural killer cell    0.797427  0.920069  0.981648   \n",
       "Pearson vs others Blood                  0.433474  0.656539  0.814353   \n",
       "                  Liver                  0.103968  0.112115  0.133753   \n",
       "                  Mononuclear phagocyte  0.773291  0.899533  0.954558   \n",
       "                  Placenta               0.116744  0.167764  0.286761   \n",
       "                  Skeletal muscle        0.104272  0.107967  0.114303   \n",
       "\n",
       "                                              max  \n",
       "subset            tissue                           \n",
       "CCC vs others     Blood                  0.981239  \n",
       "                  Leukocyte              0.998099  \n",
       "                  Macrophage             0.993414  \n",
       "                  Mononuclear phagocyte  0.994341  \n",
       "                  Natural killer cell    0.999793  \n",
       "Pearson vs others Blood                  0.988633  \n",
       "                  Liver                  0.669685  \n",
       "                  Mononuclear phagocyte  0.994341  \n",
       "                  Placenta               0.922224  \n",
       "                  Skeletal muscle        0.547389  "
      ]
     },
     "execution_count": 81,
     "metadata": {},
     "output_type": "execute_result"
    }
   ],
   "source": [
    "conn_data.groupby([\"subset\", \"tissue\"])[\"weight\"].describe()"
   ]
  },
  {
   "cell_type": "markdown",
   "id": "da65b0a3-1d5b-4daf-a7d3-547a0ece2978",
   "metadata": {
    "papermill": {
     "duration": 0.114019,
     "end_time": "2021-12-21T20:27:03.073018",
     "exception": false,
     "start_time": "2021-12-21T20:27:02.958999",
     "status": "completed"
    },
    "tags": []
   },
   "source": [
    "# Create final figure"
   ]
  },
  {
   "cell_type": "code",
   "execution_count": 82,
   "id": "560cc35a-1eb2-4382-aa44-d6bcd7ed7e26",
   "metadata": {},
   "outputs": [],
   "source": [
    "from svgutils.compose import Figure, SVG, Panel, Text"
   ]
  },
  {
   "cell_type": "code",
   "execution_count": 83,
   "id": "1a2dbf84-279d-4058-ae3d-29d24b056d68",
   "metadata": {},
   "outputs": [],
   "source": [
    "BLOOD_NETWORKS_DIR = OUTPUT_FIGURE_DIR / \"blood_tissues\" / \"gene_pair_networks\"\n",
    "AUTO_SELECTED_NETWORKS_DIR = (\n",
    "    OUTPUT_FIGURE_DIR / \"auto_selected_tissues\" / \"gene_pair_networks\"\n",
    ")"
   ]
  },
  {
   "cell_type": "code",
   "execution_count": 87,
   "id": "626e60cd-b940-4575-8218-d535afdafc35",
   "metadata": {},
   "outputs": [],
   "source": [
    "Figure(\n",
    "    \"52.522cm\",\n",
    "    \"30.827cm\",\n",
    "    # white background\n",
    "    # Panel(\n",
    "    #     SVG(COEF_COMP_DIR / \"white_background.svg\"),\n",
    "    # )\n",
    "    # .scale(0.5)\n",
    "    # .move(0, 0),\n",
    "    Panel(\n",
    "        SVG(OUTPUT_FIGURE_DIR / \"top_gene_pairs-tissue_count.svg\").scale(0.5),\n",
    "        # cm vs rest\n",
    "        SVG(COEF_COMP_DIR / \"triangles-c_vs_p.svg\").scale(3.50).move(70, 4),\n",
    "        Text(\"+\", 70 + 45, 17, size=15),\n",
    "        SVG(COEF_COMP_DIR / \"triangles-c_vs_ps.svg\").scale(3.50).move(70 + 45 + 15, 4),\n",
    "        Text(\"+\", 70 + 45 + 15 + 52, 17, size=15),\n",
    "        SVG(COEF_COMP_DIR / \"triangles-c_vs_s.svg\")\n",
    "        .scale(3.50)\n",
    "        .move(70 + 45 + 15 + 55 + 15, 4),\n",
    "        # p vs rest\n",
    "        SVG(COEF_COMP_DIR / \"triangles-p_vs_c.svg\").scale(3.50).move(70, 128),\n",
    "        Text(\"+\", 70 + 45, 142, size=15),\n",
    "        SVG(COEF_COMP_DIR / \"triangles-p_vs_cs.svg\")\n",
    "        .scale(3.50)\n",
    "        .move(70 + 45 + 15, 128),\n",
    "        # another\n",
    "        SVG(OUTPUT_FIGURE_DIR / \"top_gene_pairs-tissue_avg_weight.svg\")\n",
    "        .scale(0.5)\n",
    "        .move(220, 0),\n",
    "        # Text(\"c)\", 0, 9, size=6, weight=\"bold\"),\n",
    "    ).scale(0.10),\n",
    ").save(OUTPUT_FIGURE_DIR / \"giant.svg\")"
   ]
  },
  {
   "cell_type": "markdown",
   "id": "e1e0f853-e8a6-4584-ba39-80544d912c24",
   "metadata": {},
   "source": [
    "Compile the manuscript with manubot and make sure the image has a white background and displays properly."
   ]
  },
  {
   "cell_type": "code",
   "execution_count": null,
   "id": "75837d2b-3f44-46b9-9751-dd21dad6c701",
   "metadata": {},
   "outputs": [],
   "source": []
  }
 ],
 "metadata": {
  "jupytext": {
   "cell_metadata_filter": "all,-execution,-papermill,-trusted",
   "text_representation": {
    "extension": ".py",
    "format_name": "percent",
    "format_version": "1.3",
    "jupytext_version": "1.11.5"
   }
  },
  "kernelspec": {
   "display_name": "Python 3 (ipykernel)",
   "language": "python",
   "name": "python3"
  },
  "language_info": {
   "codemirror_mode": {
    "name": "ipython",
    "version": 3
   },
   "file_extension": ".py",
   "mimetype": "text/x-python",
   "name": "python",
   "nbconvert_exporter": "python",
   "pygments_lexer": "ipython3",
   "version": "3.9.12"
  },
  "papermill": {
   "default_parameters": {},
   "duration": 808.744828,
   "end_time": "2021-12-21T20:27:03.803437",
   "environment_variables": {},
   "exception": null,
   "input_path": "nbs/99_manuscript/coefs_comp/05-gtex_whole_blood-general_plots.ipynb",
   "output_path": "nbs/99_manuscript/coefs_comp/05-gtex_whole_blood-general_plots.run.ipynb",
   "parameters": {},
   "start_time": "2021-12-21T20:13:35.058609",
   "version": "2.3.3"
  },
  "toc-autonumbering": true
 },
 "nbformat": 4,
 "nbformat_minor": 5
}
