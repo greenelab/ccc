{
 "cells": [
  {
   "cell_type": "markdown",
   "id": "87e0ce1b-7ce6-4499-9342-5ded05307598",
   "metadata": {
    "papermill": {
     "duration": 0.105156,
     "end_time": "2021-12-21T20:13:36.669733",
     "exception": false,
     "start_time": "2021-12-21T20:13:36.564577",
     "status": "completed"
    },
    "tags": []
   },
   "source": [
    "# Description"
   ]
  },
  {
   "cell_type": "markdown",
   "id": "4bfc7115-350a-441b-9a19-7626a948a694",
   "metadata": {
    "papermill": {
     "duration": 0.077358,
     "end_time": "2021-12-21T20:13:36.824140",
     "exception": false,
     "start_time": "2021-12-21T20:13:36.746782",
     "status": "completed"
    },
    "tags": []
   },
   "source": [
    "This is the same notebook in `nbs/99_manuscript` but adapted for a poster at ISMB 2022.\n",
    "\n",
    "Creates a plot to summarize predicted cell types and interaction probabilities across the top genes for each correlation coefficients."
   ]
  },
  {
   "cell_type": "markdown",
   "id": "e020c781-238b-43c2-8cad-2722b8a240e2",
   "metadata": {
    "papermill": {
     "duration": 0.078359,
     "end_time": "2021-12-21T20:13:36.980950",
     "exception": false,
     "start_time": "2021-12-21T20:13:36.902591",
     "status": "completed"
    },
    "tags": []
   },
   "source": [
    "# Modules"
   ]
  },
  {
   "cell_type": "code",
   "execution_count": 1,
   "id": "a819bfbc-5009-4c68-ba8d-37d0979d368f",
   "metadata": {
    "papermill": {
     "duration": 1.400218,
     "end_time": "2021-12-21T20:13:38.460171",
     "exception": false,
     "start_time": "2021-12-21T20:13:37.059953",
     "status": "completed"
    },
    "tags": []
   },
   "outputs": [],
   "source": [
    "import pandas as pd\n",
    "import seaborn as sns\n",
    "\n",
    "from ccc import conf"
   ]
  },
  {
   "cell_type": "markdown",
   "id": "b4834387-58ff-468c-b326-85c408bc5feb",
   "metadata": {
    "papermill": {
     "duration": 0.079144,
     "end_time": "2021-12-21T20:13:38.626394",
     "exception": false,
     "start_time": "2021-12-21T20:13:38.547250",
     "status": "completed"
    },
    "tags": []
   },
   "source": [
    "# Settings"
   ]
  },
  {
   "cell_type": "code",
   "execution_count": 2,
   "id": "c598102c-b0e9-417b-bfa5-fc55d508fa51",
   "metadata": {
    "papermill": {
     "duration": 0.083667,
     "end_time": "2021-12-21T20:13:38.949957",
     "exception": false,
     "start_time": "2021-12-21T20:13:38.866290",
     "status": "completed"
    },
    "tags": []
   },
   "outputs": [],
   "source": [
    "N_TOP_GENE_PAIRS = 100\n",
    "N_TOP_TISSUES = 5"
   ]
  },
  {
   "cell_type": "markdown",
   "id": "a1159982-5dd1-4494-97d4-0674eeead1c3",
   "metadata": {
    "papermill": {
     "duration": 0.077617,
     "end_time": "2021-12-21T20:13:39.105285",
     "exception": false,
     "start_time": "2021-12-21T20:13:39.027668",
     "status": "completed"
    },
    "tags": []
   },
   "source": [
    "# Paths"
   ]
  },
  {
   "cell_type": "code",
   "execution_count": 3,
   "id": "ed9d8421-8b1c-4f3f-9729-3cb8daa6d504",
   "metadata": {
    "papermill": {
     "duration": 0.085709,
     "end_time": "2021-12-21T20:13:39.269702",
     "exception": false,
     "start_time": "2021-12-21T20:13:39.183993",
     "status": "completed"
    },
    "tags": []
   },
   "outputs": [],
   "source": [
    "assert (\n",
    "    conf.MANUSCRIPT[\"BASE_DIR\"] is not None and conf.MANUSCRIPT[\"BASE_DIR\"].exists()\n",
    "), \"Manuscript dir not set\""
   ]
  },
  {
   "cell_type": "code",
   "execution_count": 4,
   "id": "edb8fea4-335e-46ca-a9b0-1852778d39d0",
   "metadata": {
    "papermill": {
     "duration": 0.086622,
     "end_time": "2021-12-21T20:13:39.436193",
     "exception": false,
     "start_time": "2021-12-21T20:13:39.349571",
     "status": "completed"
    },
    "tags": []
   },
   "outputs": [
    {
     "data": {
      "text/plain": [
       "PosixPath('/opt/manuscript/content/images/coefs_comp')"
      ]
     },
     "metadata": {},
     "output_type": "display_data"
    }
   ],
   "source": [
    "COEF_COMP_DIR = conf.MANUSCRIPT[\"FIGURES_DIR\"] / \"coefs_comp\"\n",
    "COEF_COMP_DIR.mkdir(parents=True, exist_ok=True)\n",
    "display(COEF_COMP_DIR)"
   ]
  },
  {
   "cell_type": "code",
   "execution_count": 5,
   "id": "f4519e56-b72a-450e-a51b-b01f9c098b83",
   "metadata": {
    "papermill": {
     "duration": 0.086622,
     "end_time": "2021-12-21T20:13:39.436193",
     "exception": false,
     "start_time": "2021-12-21T20:13:39.349571",
     "status": "completed"
    },
    "tags": []
   },
   "outputs": [
    {
     "data": {
      "text/plain": [
       "PosixPath('/opt/manuscript/content/images/ismb2022/poster_figures')"
      ]
     },
     "metadata": {},
     "output_type": "display_data"
    }
   ],
   "source": [
    "OUTPUT_FIGURE_DIR = conf.MANUSCRIPT[\"FIGURES_DIR\"] / \"ismb2022\" / \"poster_figures\"\n",
    "OUTPUT_FIGURE_DIR.mkdir(parents=True, exist_ok=True)\n",
    "display(OUTPUT_FIGURE_DIR)"
   ]
  },
  {
   "cell_type": "code",
   "execution_count": 6,
   "id": "534e013a-e73e-4306-a2f5-1f8301a9a4c5",
   "metadata": {
    "papermill": {
     "duration": 0.088947,
     "end_time": "2021-12-21T20:13:39.799072",
     "exception": false,
     "start_time": "2021-12-21T20:13:39.710125",
     "status": "completed"
    },
    "tags": []
   },
   "outputs": [
    {
     "data": {
      "text/plain": [
       "PosixPath('/opt/data/results/giant/intersection_genes')"
      ]
     },
     "metadata": {},
     "output_type": "display_data"
    }
   ],
   "source": [
    "OUTPUT_DIR = conf.GIANT[\"RESULTS_DIR\"] / \"intersection_genes\"\n",
    "OUTPUT_DIR.mkdir(parents=True, exist_ok=True)\n",
    "display(OUTPUT_DIR)"
   ]
  },
  {
   "cell_type": "markdown",
   "id": "1fe2ea25-0b72-4da8-b8f5-eb1e094b1ffc",
   "metadata": {
    "papermill": {
     "duration": 0.077617,
     "end_time": "2021-12-21T20:13:39.105285",
     "exception": false,
     "start_time": "2021-12-21T20:13:39.027668",
     "status": "completed"
    },
    "tags": []
   },
   "source": [
    "# Summarize"
   ]
  },
  {
   "cell_type": "code",
   "execution_count": 7,
   "id": "42f307ff-3e84-4fb5-bdaf-1041ee8d4dd3",
   "metadata": {},
   "outputs": [],
   "source": [
    "all_subsets_dfs = []"
   ]
  },
  {
   "cell_type": "markdown",
   "id": "14f6d4fe-6018-4b41-b7c2-45a73d811ec7",
   "metadata": {},
   "source": [
    "## Functions"
   ]
  },
  {
   "cell_type": "code",
   "execution_count": 8,
   "id": "f8c05819-b8e8-4b66-b41a-47d43cc5471b",
   "metadata": {},
   "outputs": [],
   "source": [
    "def read_hdf(filepath, subset):\n",
    "    return pd.read_hdf(filepath, key=\"data\").assign(\n",
    "        order=int(filepath.name.split(\"-\")[0]),\n",
    "        gene_pair=filepath.name.split(\"-\")[1].split(\".\")[0].upper(),\n",
    "        tissue=pd.read_hdf(filepath, key=\"metadata\")[\"tissue\"].squeeze(),\n",
    "        subset=subset,\n",
    "    )"
   ]
  },
  {
   "cell_type": "markdown",
   "id": "4177dab7-12b5-4a0a-a033-fcdaaf6bcaaf",
   "metadata": {},
   "source": [
    "## CCC vs Pearson"
   ]
  },
  {
   "cell_type": "code",
   "execution_count": 9,
   "id": "e14b2d97-374a-4622-a774-551ab71f5292",
   "metadata": {},
   "outputs": [],
   "source": [
    "subset = \"clustermatch_vs_pearson\""
   ]
  },
  {
   "cell_type": "code",
   "execution_count": 10,
   "id": "1b2bdeb5-2b4a-47c8-a065-f9d1d6f2d657",
   "metadata": {},
   "outputs": [
    {
     "data": {
      "text/plain": [
       "0"
      ]
     },
     "metadata": {},
     "output_type": "display_data"
    },
    {
     "data": {
      "text/plain": [
       "[]"
      ]
     },
     "metadata": {},
     "output_type": "display_data"
    }
   ],
   "source": [
    "subset_files = sorted(list((OUTPUT_DIR / subset).glob(\"*.h5\")))\n",
    "display(len(subset_files))\n",
    "display(subset_files[:3])"
   ]
  },
  {
   "cell_type": "code",
   "execution_count": 11,
   "id": "d0b64fa7-0376-4312-bca7-f1e42a2365bf",
   "metadata": {},
   "outputs": [
    {
     "ename": "IndexError",
     "evalue": "list index out of range",
     "output_type": "error",
     "traceback": [
      "\u001b[0;31m---------------------------------------------------------------------------\u001b[0m",
      "\u001b[0;31mIndexError\u001b[0m                                Traceback (most recent call last)",
      "\u001b[0;32m/tmp/ipykernel_619/2089872153.py\u001b[0m in \u001b[0;36m<cell line: 3>\u001b[0;34m()\u001b[0m\n\u001b[1;32m      1\u001b[0m \u001b[0m_dfs\u001b[0m \u001b[0;34m=\u001b[0m \u001b[0;34m[\u001b[0m\u001b[0mread_hdf\u001b[0m\u001b[0;34m(\u001b[0m\u001b[0mf\u001b[0m\u001b[0;34m,\u001b[0m \u001b[0msubset\u001b[0m\u001b[0;34m)\u001b[0m \u001b[0;32mfor\u001b[0m \u001b[0mf\u001b[0m \u001b[0;32min\u001b[0m \u001b[0msubset_files\u001b[0m\u001b[0;34m]\u001b[0m\u001b[0;34m\u001b[0m\u001b[0;34m\u001b[0m\u001b[0m\n\u001b[1;32m      2\u001b[0m \u001b[0;34m\u001b[0m\u001b[0m\n\u001b[0;32m----> 3\u001b[0;31m \u001b[0mdisplay\u001b[0m\u001b[0;34m(\u001b[0m\u001b[0m_dfs\u001b[0m\u001b[0;34m[\u001b[0m\u001b[0;36m0\u001b[0m\u001b[0;34m]\u001b[0m\u001b[0;34m.\u001b[0m\u001b[0mhead\u001b[0m\u001b[0;34m(\u001b[0m\u001b[0;34m)\u001b[0m\u001b[0;34m)\u001b[0m\u001b[0;34m\u001b[0m\u001b[0;34m\u001b[0m\u001b[0m\n\u001b[0m\u001b[1;32m      4\u001b[0m \u001b[0mall_subsets_dfs\u001b[0m\u001b[0;34m.\u001b[0m\u001b[0mextend\u001b[0m\u001b[0;34m(\u001b[0m\u001b[0m_dfs\u001b[0m\u001b[0;34m)\u001b[0m\u001b[0;34m\u001b[0m\u001b[0;34m\u001b[0m\u001b[0m\n\u001b[1;32m      5\u001b[0m \u001b[0mdisplay\u001b[0m\u001b[0;34m(\u001b[0m\u001b[0mlen\u001b[0m\u001b[0;34m(\u001b[0m\u001b[0mall_subsets_dfs\u001b[0m\u001b[0;34m)\u001b[0m\u001b[0;34m)\u001b[0m\u001b[0;34m\u001b[0m\u001b[0;34m\u001b[0m\u001b[0m\n",
      "\u001b[0;31mIndexError\u001b[0m: list index out of range"
     ]
    }
   ],
   "source": [
    "_dfs = [read_hdf(f, subset) for f in subset_files]\n",
    "\n",
    "display(_dfs[0].head())\n",
    "all_subsets_dfs.extend(_dfs)\n",
    "display(len(all_subsets_dfs))"
   ]
  },
  {
   "cell_type": "markdown",
   "id": "9bbde09c-d148-4edc-b821-a442512d0e1a",
   "metadata": {},
   "source": [
    "## CCC vs Pearson/Spearman"
   ]
  },
  {
   "cell_type": "code",
   "execution_count": null,
   "id": "5769827c-d208-430c-9571-3d8b77b3d24b",
   "metadata": {},
   "outputs": [],
   "source": [
    "subset = \"clustermatch_vs_pearson_spearman\""
   ]
  },
  {
   "cell_type": "code",
   "execution_count": null,
   "id": "cc71cdb1-9e7f-458b-8f58-11f741df5aae",
   "metadata": {},
   "outputs": [],
   "source": [
    "subset_files = sorted(list((OUTPUT_DIR / subset).glob(\"*.h5\")))\n",
    "display(len(subset_files))\n",
    "display(subset_files[:3])"
   ]
  },
  {
   "cell_type": "code",
   "execution_count": null,
   "id": "f9f54016-3e37-4825-9c48-c147f6ffc7e6",
   "metadata": {},
   "outputs": [],
   "source": [
    "_dfs = [read_hdf(f, subset) for f in subset_files]\n",
    "\n",
    "display(_dfs[0].head())\n",
    "all_subsets_dfs.extend(_dfs)\n",
    "display(len(all_subsets_dfs))"
   ]
  },
  {
   "cell_type": "markdown",
   "id": "8940fb47-61d6-4841-9df6-78cc4e7759b3",
   "metadata": {},
   "source": [
    "## CCC vs Spearman"
   ]
  },
  {
   "cell_type": "code",
   "execution_count": null,
   "id": "636aebb7-64f4-449f-a962-c3b5fa2c6310",
   "metadata": {},
   "outputs": [],
   "source": [
    "subset = \"clustermatch_vs_spearman\""
   ]
  },
  {
   "cell_type": "code",
   "execution_count": null,
   "id": "3b4ff487-053f-44bf-8afa-5f13f91fb6d5",
   "metadata": {},
   "outputs": [],
   "source": [
    "subset_files = sorted(list((OUTPUT_DIR / subset).glob(\"*.h5\")))\n",
    "display(len(subset_files))\n",
    "display(subset_files[:3])"
   ]
  },
  {
   "cell_type": "code",
   "execution_count": null,
   "id": "94beeb14-2524-4316-aaa1-880034e2976b",
   "metadata": {},
   "outputs": [],
   "source": [
    "_dfs = [read_hdf(f, subset) for f in subset_files]\n",
    "\n",
    "display(_dfs[0].head())\n",
    "all_subsets_dfs.extend(_dfs)\n",
    "display(len(all_subsets_dfs))"
   ]
  },
  {
   "cell_type": "markdown",
   "id": "40500aca-4d2d-497e-9919-523b399471f6",
   "metadata": {},
   "source": [
    "## Pearson vs CCC"
   ]
  },
  {
   "cell_type": "code",
   "execution_count": null,
   "id": "f1494750-dd8f-49c9-a9d5-9dd7e708f54f",
   "metadata": {},
   "outputs": [],
   "source": [
    "subset = \"pearson_vs_clustermatch\""
   ]
  },
  {
   "cell_type": "code",
   "execution_count": null,
   "id": "a887e9ef-99d3-45b0-bb26-312c55f5f272",
   "metadata": {},
   "outputs": [],
   "source": [
    "subset_files = sorted(list((OUTPUT_DIR / subset).glob(\"*.h5\")))\n",
    "display(len(subset_files))\n",
    "display(subset_files[:3])"
   ]
  },
  {
   "cell_type": "code",
   "execution_count": null,
   "id": "eefa6e1c-7c73-4ae1-abd7-b3c1262a2ef9",
   "metadata": {},
   "outputs": [],
   "source": [
    "_dfs = [read_hdf(f, subset) for f in subset_files]\n",
    "\n",
    "display(_dfs[0].head())\n",
    "all_subsets_dfs.extend(_dfs)\n",
    "display(len(all_subsets_dfs))"
   ]
  },
  {
   "cell_type": "markdown",
   "id": "8788a71c-4840-4798-a14b-84f9b856e626",
   "metadata": {},
   "source": [
    "## Pearson vs CCC/Spearman"
   ]
  },
  {
   "cell_type": "code",
   "execution_count": null,
   "id": "819fc706-1bd3-48ba-9c60-632fca4b5bdd",
   "metadata": {},
   "outputs": [],
   "source": [
    "subset = \"pearson_vs_clustermatch_spearman\""
   ]
  },
  {
   "cell_type": "code",
   "execution_count": null,
   "id": "3175481f-cf87-4394-a3f4-ef3b15fd1c09",
   "metadata": {},
   "outputs": [],
   "source": [
    "subset_files = sorted(list((OUTPUT_DIR / subset).glob(\"*.h5\")))\n",
    "display(len(subset_files))\n",
    "display(subset_files[:3])"
   ]
  },
  {
   "cell_type": "code",
   "execution_count": null,
   "id": "b1842627-dc9f-4df0-8c61-281b441ba7b4",
   "metadata": {},
   "outputs": [],
   "source": [
    "_dfs = [read_hdf(f, subset) for f in subset_files]\n",
    "\n",
    "display(_dfs[0].head())\n",
    "all_subsets_dfs.extend(_dfs)\n",
    "display(len(all_subsets_dfs))"
   ]
  },
  {
   "cell_type": "markdown",
   "id": "fb38664b-26fc-40f8-994d-a22725c0d693",
   "metadata": {},
   "source": [
    "# Combine"
   ]
  },
  {
   "cell_type": "code",
   "execution_count": null,
   "id": "6a20a5f7-7e11-4558-bfc7-ebc63accd800",
   "metadata": {},
   "outputs": [],
   "source": [
    "df = pd.concat(all_subsets_dfs, ignore_index=True)"
   ]
  },
  {
   "cell_type": "code",
   "execution_count": null,
   "id": "a82e234a-8fb8-4a40-b06a-b2852dada4ac",
   "metadata": {},
   "outputs": [],
   "source": [
    "df.shape"
   ]
  },
  {
   "cell_type": "code",
   "execution_count": null,
   "id": "ded5220e-e250-47d4-8cec-611befb55ac1",
   "metadata": {},
   "outputs": [],
   "source": [
    "df.head()"
   ]
  },
  {
   "cell_type": "code",
   "execution_count": null,
   "id": "46cea8f1-d37a-47c6-9fff-eac98ca95fae",
   "metadata": {},
   "outputs": [],
   "source": [
    "df[\"order\"].unique()"
   ]
  },
  {
   "cell_type": "markdown",
   "id": "2b7a894c-0604-40f8-b736-cc4aa6c93a81",
   "metadata": {},
   "source": [
    "# Stats"
   ]
  },
  {
   "cell_type": "code",
   "execution_count": null,
   "id": "be0f33c4-467f-4985-a264-3fc6c7c24bd4",
   "metadata": {},
   "outputs": [],
   "source": [
    "df_stats = df.groupby([\"subset\"])[\"gene_pair\"].nunique()\n",
    "display(df_stats)"
   ]
  },
  {
   "cell_type": "code",
   "execution_count": null,
   "id": "7cca4255-3d7a-40ad-844a-ed1b4a95f18e",
   "metadata": {},
   "outputs": [],
   "source": [
    "assert df_stats[\"clustermatch_vs_pearson\"] == N_TOP_GENE_PAIRS\n",
    "assert df_stats[\"pearson_vs_clustermatch\"] == N_TOP_GENE_PAIRS\n",
    "assert df_stats[\"pearson_vs_clustermatch_spearman\"] == N_TOP_GENE_PAIRS"
   ]
  },
  {
   "cell_type": "markdown",
   "id": "8c3a9c52-0e19-4ec8-9fc8-56d119ed6d4f",
   "metadata": {},
   "source": [
    "# Combine subsets"
   ]
  },
  {
   "cell_type": "code",
   "execution_count": null,
   "id": "b40d8855-05af-43da-9bb6-78e5bf7edb67",
   "metadata": {},
   "outputs": [],
   "source": [
    "subset_cm_vs_rest = \"clustermatch_vs_rest\"\n",
    "subset_p_vs_rest = \"pearson_vs_rest\""
   ]
  },
  {
   "cell_type": "code",
   "execution_count": null,
   "id": "f97a9a3f-edc0-4d73-bc34-fb3af7dca6a9",
   "metadata": {},
   "outputs": [],
   "source": [
    "df = df.replace(\n",
    "    {\n",
    "        \"subset\": {\n",
    "            \"clustermatch_vs_pearson\": subset_cm_vs_rest,\n",
    "            \"clustermatch_vs_spearman\": subset_cm_vs_rest,\n",
    "            \"clustermatch_vs_pearson_spearman\": subset_cm_vs_rest,\n",
    "            \"pearson_vs_clustermatch\": subset_p_vs_rest,\n",
    "            \"pearson_vs_clustermatch_spearman\": subset_p_vs_rest,\n",
    "        },\n",
    "    }\n",
    ")"
   ]
  },
  {
   "cell_type": "code",
   "execution_count": null,
   "id": "64a49c1f-25b9-4fc8-903d-67b7197aae49",
   "metadata": {},
   "outputs": [],
   "source": [
    "df.head()"
   ]
  },
  {
   "cell_type": "code",
   "execution_count": null,
   "id": "aff75cdd-c7e7-4b72-a26e-2c39f78c03b5",
   "metadata": {},
   "outputs": [],
   "source": [
    "assert df[\"subset\"].unique().shape[0] == 2"
   ]
  },
  {
   "cell_type": "markdown",
   "id": "871ed2e7-fc22-4922-8ccf-67a81b927b30",
   "metadata": {},
   "source": [
    "# Analyses"
   ]
  },
  {
   "cell_type": "markdown",
   "id": "4ec7f19a-9f37-4d29-8d42-fd94c253dadb",
   "metadata": {},
   "source": [
    "Here we read the gene pair queries sent to GIANT to see 1) which cell type were predicted for each of them and 2) the characteristics of the predicted networks for each gene pair.\n",
    "\n",
    "This allows us to assess whether gene pairs found by our correlation coefficients in GTEx (whole blood) replicate in GIANT by seeing if the predicted cell types is a blood cell lineage (leukocyte, etc) and the network connectivity is high."
   ]
  },
  {
   "cell_type": "code",
   "execution_count": null,
   "id": "d2fe3b0c-57ba-4e7f-b860-e98f45e391c3",
   "metadata": {},
   "outputs": [],
   "source": [
    "# for each subset (ccc vs etc, pearson vs etc), sort by top gene pairs\n",
    "# for that, for each subset, sort by \"order\", which indicates, for each subset\n",
    "# the gene pairs with the largest correlation value\n",
    "top_gene_pairs = df.groupby([\"subset\"], group_keys=False).apply(\n",
    "    lambda x: x.sort_values([\"order\", \"gene_pair\"], ascending=True)[\n",
    "        \"gene_pair\"\n",
    "    ].unique()\n",
    ")"
   ]
  },
  {
   "cell_type": "code",
   "execution_count": null,
   "id": "53c1ed36-6116-41f3-828b-eb5b0e01c976",
   "metadata": {},
   "outputs": [],
   "source": [
    "top_gene_pairs"
   ]
  },
  {
   "cell_type": "code",
   "execution_count": null,
   "id": "c3527ab9-f47b-46de-b4b4-35e1b33e9620",
   "metadata": {},
   "outputs": [],
   "source": [
    "# now use the order of gene pairs within subsets to actually select the top ones\n",
    "top_df = df.groupby([\"subset\"], group_keys=False).apply(\n",
    "    lambda x: x[x[\"gene_pair\"].isin(top_gene_pairs.loc[x.name][:N_TOP_GENE_PAIRS])]\n",
    ")"
   ]
  },
  {
   "cell_type": "code",
   "execution_count": null,
   "id": "e3aa7aa5-e344-42a8-8ce7-1e1048853c54",
   "metadata": {},
   "outputs": [],
   "source": [
    "top_df.shape"
   ]
  },
  {
   "cell_type": "code",
   "execution_count": null,
   "id": "be84ed5e-ade1-4146-b78a-4c60adce75fa",
   "metadata": {},
   "outputs": [],
   "source": [
    "top_df.head()"
   ]
  },
  {
   "cell_type": "code",
   "execution_count": null,
   "id": "92ade4f5-f991-4979-a93b-7aee79325b77",
   "metadata": {},
   "outputs": [],
   "source": [
    "plot_stats = top_df.groupby([\"subset\", \"tissue\"])[\"gene_pair\"].nunique()"
   ]
  },
  {
   "cell_type": "code",
   "execution_count": null,
   "id": "a48138a1-205a-467d-93d9-c2db478688a8",
   "metadata": {},
   "outputs": [],
   "source": [
    "plot_stats.head()"
   ]
  },
  {
   "cell_type": "code",
   "execution_count": null,
   "id": "abbeeea3-6996-4628-ad9c-4d4c37c029b9",
   "metadata": {},
   "outputs": [],
   "source": [
    "plot_stats = (\n",
    "    plot_stats.groupby(\"subset\")\n",
    "    .apply(lambda grp: grp.nlargest(N_TOP_TISSUES))\n",
    "    .droplevel(0)\n",
    ").rename(\"n_gene_pairs\")\n",
    "\n",
    "# by percentage\n",
    "# plot_stats = plot_stats.groupby(\"subset\").apply(lambda x: x / x.sum())"
   ]
  },
  {
   "cell_type": "code",
   "execution_count": null,
   "id": "fa7fd490-40bb-496e-afb1-96da0c1402f4",
   "metadata": {},
   "outputs": [],
   "source": [
    "plot_stats"
   ]
  },
  {
   "cell_type": "code",
   "execution_count": null,
   "id": "81208ee1-94d8-45e7-819f-1505c0a9bd0e",
   "metadata": {},
   "outputs": [],
   "source": [
    "# sum gene pairs, it should be less than 100 (100 is the total number of gene pairs taken)\n",
    "tmp = plot_stats.groupby(\"subset\").sum()\n",
    "display(tmp)\n",
    "assert (tmp < N_TOP_GENE_PAIRS).all()"
   ]
  },
  {
   "cell_type": "code",
   "execution_count": null,
   "id": "2693b0f6-86f9-4ccf-b95f-e9870636af45",
   "metadata": {},
   "outputs": [],
   "source": [
    "plot_stats.index.get_level_values(\"tissue\").unique().shape"
   ]
  },
  {
   "cell_type": "code",
   "execution_count": null,
   "id": "6b746b10-b73c-4040-b41c-403b1b4d2af3",
   "metadata": {},
   "outputs": [],
   "source": [
    "plot_stats = plot_stats.reset_index()\n",
    "display(plot_stats.head())"
   ]
  },
  {
   "cell_type": "code",
   "execution_count": null,
   "id": "dbe11607-64b2-413e-affd-104ee1a93ece",
   "metadata": {},
   "outputs": [],
   "source": [
    "plot_stats[\"subset\"].unique()"
   ]
  },
  {
   "cell_type": "code",
   "execution_count": null,
   "id": "42d151e7-23b1-47b0-af84-1259e64e2195",
   "metadata": {},
   "outputs": [],
   "source": [
    "plot_stats[\"tissue\"].unique()"
   ]
  },
  {
   "cell_type": "markdown",
   "id": "4e3e38a2-11eb-4d23-a150-9c4e68dad2e5",
   "metadata": {
    "tags": []
   },
   "source": [
    "# Plots"
   ]
  },
  {
   "cell_type": "code",
   "execution_count": null,
   "id": "143c511c-0637-458b-a225-7a9d0da63597",
   "metadata": {},
   "outputs": [],
   "source": [
    "PREDICTED_TISSUE_LABEL = \"Predicted tissue/cell type\\nin GIANT\"\n",
    "N_GENE_PAIRS_LABEL = \"Number of gene pairs\"\n",
    "AVG_PROB_INTERACTION_LABEL = (\n",
    "    \"Average probability of interaction\\nin tissue-specific networks\"\n",
    ")"
   ]
  },
  {
   "cell_type": "code",
   "execution_count": null,
   "id": "15adc9cb-e318-45be-ac01-02271afadcfd",
   "metadata": {},
   "outputs": [],
   "source": [
    "subset_renames = {\n",
    "    \"clustermatch_vs_rest\": \"CCC vs others\",\n",
    "    # \"clustermatch_vs_pearson_spearman\": \"CCC vs Pearson/Spearman\",\n",
    "    # \"clustermatch_vs_spearman\": \"CCC vs Spearman\",\n",
    "    \"pearson_vs_rest\": \"Pearson vs others\",\n",
    "    # \"pearson_vs_clustermatch_spearman\": \"Pearson vs CCC/Spearman\",\n",
    "}\n",
    "\n",
    "tissue_renames = {\n",
    "    \"blood\": \"Blood\",\n",
    "    \"mononuclear-phagocyte\": \"Mononuclear phagocyte\",\n",
    "    \"natural-killer-cell\": \"Natural killer cell\",\n",
    "    \"leukocyte\": \"Leukocyte\",\n",
    "    \"macrophage\": \"Macrophage\",\n",
    "    \"granulocyte\": \"Granulocyte\",\n",
    "    \"skeletal-muscle\": \"Skeletal muscle\",\n",
    "    \"liver\": \"Liver\",\n",
    "    \"placenta\": \"Placenta\",\n",
    "}"
   ]
  },
  {
   "cell_type": "markdown",
   "id": "cc7f768d-bd65-4deb-b6cb-8e31fa4c31ca",
   "metadata": {},
   "source": [
    "## First plot version"
   ]
  },
  {
   "cell_type": "markdown",
   "id": "4ff9f53f-55e3-4782-b488-1e36aea42fb5",
   "metadata": {},
   "source": [
    "These first plot versions are drafts, just to see how the pattern are.\n",
    "The final plots are generated in the `Second plot version` below."
   ]
  },
  {
   "cell_type": "code",
   "execution_count": null,
   "id": "12b2cc07-a198-4af9-938f-b349205d459d",
   "metadata": {},
   "outputs": [],
   "source": [
    "count_data = plot_stats.replace(\n",
    "    {\n",
    "        \"subset\": subset_renames,\n",
    "        \"tissue\": tissue_renames,\n",
    "    }\n",
    ")"
   ]
  },
  {
   "cell_type": "markdown",
   "id": "99bd2f74-0068-48ce-ac34-9028bb6f1390",
   "metadata": {},
   "source": [
    "### Tissues order"
   ]
  },
  {
   "cell_type": "code",
   "execution_count": null,
   "id": "74ed56e3-8224-445a-97e3-a188d4e1e844",
   "metadata": {},
   "outputs": [],
   "source": [
    "blood_related_tissues = set(\n",
    "    [\n",
    "        \"Blood\",\n",
    "        \"Mononuclear phagocyte\",\n",
    "        \"Natural killer cell\",\n",
    "        \"Leukocyte\",\n",
    "        \"Macrophage\",\n",
    "    ]\n",
    ")"
   ]
  },
  {
   "cell_type": "code",
   "execution_count": null,
   "id": "d52f1ffa-db0a-4714-82eb-a557fd3a617f",
   "metadata": {},
   "outputs": [],
   "source": [
    "tissues_order = [\n",
    "    \"Blood\",\n",
    "    \"Mononuclear phagocyte\",\n",
    "    \"Natural killer cell\",\n",
    "    \"Leukocyte\",\n",
    "    \"Macrophage\",\n",
    "    \"Skeletal muscle\",\n",
    "    \"Liver\",\n",
    "    \"Placenta\",\n",
    "]"
   ]
  },
  {
   "cell_type": "markdown",
   "id": "c3de52ea-3dcc-442c-9873-656df2e8ab5f",
   "metadata": {},
   "source": [
    "### Tissues colors"
   ]
  },
  {
   "cell_type": "code",
   "execution_count": null,
   "id": "6993edfe-b31c-4042-8447-39170d77729c",
   "metadata": {},
   "outputs": [],
   "source": [
    "deep_colors = sns.color_palette(\"tab10\")\n",
    "display(deep_colors)"
   ]
  },
  {
   "cell_type": "code",
   "execution_count": null,
   "id": "f8af3b39-b216-4286-9f01-df52a4ab92c7",
   "metadata": {},
   "outputs": [],
   "source": [
    "blood_color = deep_colors[3]\n",
    "others_color = deep_colors[0]"
   ]
  },
  {
   "cell_type": "code",
   "execution_count": null,
   "id": "e0d0798a-9676-45b9-b450-c84af98d6d3b",
   "metadata": {},
   "outputs": [],
   "source": [
    "tissue_colors = {\n",
    "    t: blood_color if t in blood_related_tissues else others_color\n",
    "    for t in tissues_order\n",
    "}"
   ]
  },
  {
   "cell_type": "markdown",
   "id": "072f295e-e830-428b-9d69-9e4ad8d6a71c",
   "metadata": {},
   "source": [
    "### Plot: number of gene pairs by tissue and method"
   ]
  },
  {
   "cell_type": "code",
   "execution_count": null,
   "id": "c1572df0-e46e-44f8-a8e5-ad91e9ff77ea",
   "metadata": {},
   "outputs": [],
   "source": [
    "with sns.plotting_context(\"paper\", font_scale=1.0):\n",
    "    g = sns.FacetGrid(\n",
    "        count_data,\n",
    "        row=\"subset\",\n",
    "        sharex=True,\n",
    "        sharey=True,\n",
    "        height=2.0,\n",
    "        aspect=2.1,\n",
    "    )\n",
    "    g.map(\n",
    "        sns.barplot,\n",
    "        \"tissue\",\n",
    "        \"n_gene_pairs\",\n",
    "        order=tissues_order,\n",
    "        palette=tissue_colors,\n",
    "    )\n",
    "    g.set_xticklabels(rotation=35, ha=\"right\")\n",
    "    g.set_axis_labels(PREDICTED_TISSUE_LABEL, \"\")\n",
    "\n",
    "    g.fig.text(0, 0.30, N_GENE_PAIRS_LABEL, rotation=90)"
   ]
  },
  {
   "cell_type": "markdown",
   "id": "224e249f-df1e-4bdb-bb0d-daaf21215500",
   "metadata": {},
   "source": [
    "### Plot: gene networks connectivity by tissue and method"
   ]
  },
  {
   "cell_type": "code",
   "execution_count": null,
   "id": "9d491f0b-4c15-4aee-a709-b2b9fc3ca528",
   "metadata": {},
   "outputs": [],
   "source": [
    "conn_data = pd.merge(\n",
    "    top_df,\n",
    "    plot_stats,\n",
    "    left_on=[\"subset\", \"tissue\"],\n",
    "    right_on=[\"subset\", \"tissue\"],\n",
    "    how=\"inner\",\n",
    ")"
   ]
  },
  {
   "cell_type": "code",
   "execution_count": null,
   "id": "cc3fa20b-85fb-4b36-8162-17ad53bffaf6",
   "metadata": {},
   "outputs": [],
   "source": [
    "conn_data = conn_data.replace(\n",
    "    {\n",
    "        \"subset\": subset_renames,\n",
    "        \"tissue\": tissue_renames,\n",
    "    }\n",
    ")"
   ]
  },
  {
   "cell_type": "code",
   "execution_count": null,
   "id": "f3fbb2a0-7cd6-4c7d-9cf2-1913d2ad7379",
   "metadata": {},
   "outputs": [],
   "source": [
    "conn_data.shape"
   ]
  },
  {
   "cell_type": "code",
   "execution_count": null,
   "id": "df12f60b-c2b6-4de7-a18b-3237b69cb389",
   "metadata": {},
   "outputs": [],
   "source": [
    "conn_data.head()"
   ]
  },
  {
   "cell_type": "code",
   "execution_count": null,
   "id": "be76d524-5344-46ae-94f4-04aa22840538",
   "metadata": {},
   "outputs": [],
   "source": [
    "# # only keep connections with query genes\n",
    "# conn_data = conn_data.assign(query_genes=conn_data[\"gene_pair\"].apply(lambda x: set(x.split(\"_\"))))"
   ]
  },
  {
   "cell_type": "code",
   "execution_count": null,
   "id": "a93bc60c-a798-4395-a4c4-5b04f9cd6c7c",
   "metadata": {},
   "outputs": [],
   "source": [
    "# conn_data = conn_data[conn_data.apply(\n",
    "#     lambda x:\n",
    "#         (x[\"gene1\"] in x[\"query_genes\"]) | (x[\"gene2\"] in x[\"query_genes\"]),\n",
    "#     axis=1\n",
    "# )]"
   ]
  },
  {
   "cell_type": "code",
   "execution_count": null,
   "id": "9db06f13-eb27-4d75-a85f-3d815183ad4b",
   "metadata": {},
   "outputs": [],
   "source": [
    "# conn_data.shape"
   ]
  },
  {
   "cell_type": "code",
   "execution_count": null,
   "id": "82728b7c-7687-4bcb-a6a3-6f6671fafb9f",
   "metadata": {},
   "outputs": [],
   "source": [
    "# conn_data.head()"
   ]
  },
  {
   "cell_type": "code",
   "execution_count": null,
   "id": "c9d07fe9-15c9-4e69-9a32-91484c725f5c",
   "metadata": {},
   "outputs": [],
   "source": [
    "with sns.plotting_context(\"paper\", font_scale=1.0):\n",
    "    g = sns.FacetGrid(\n",
    "        conn_data,\n",
    "        row=\"subset\",\n",
    "        sharex=True,\n",
    "        sharey=True,\n",
    "        height=2.0,\n",
    "        aspect=2.1,\n",
    "    )\n",
    "    g.map(sns.boxplot, \"tissue\", \"weight\", order=tissues_order, palette=tissue_colors)\n",
    "    g.set_xticklabels(rotation=30, ha=\"right\")\n",
    "    g.set_axis_labels(PREDICTED_TISSUE_LABEL, \"\")\n",
    "\n",
    "    for ax in g.axes:\n",
    "        ax = ax[0]\n",
    "        sns.despine(ax=ax, left=True, right=False)\n",
    "        ax.yaxis.tick_right()\n",
    "        ax.yaxis.set_label_position(\"right\")\n",
    "\n",
    "    g.fig.text(1.10, 0.25, AVG_PROB_INTERACTION_LABEL, rotation=90, ha=\"center\")"
   ]
  },
  {
   "cell_type": "markdown",
   "id": "0a9fc224-724e-431b-9a18-a941d2b0480f",
   "metadata": {},
   "source": [
    "## Second plot version"
   ]
  },
  {
   "cell_type": "markdown",
   "id": "fe6d0c76-0f18-4322-9b6a-6121e342931d",
   "metadata": {},
   "source": [
    "### Tissues order"
   ]
  },
  {
   "cell_type": "code",
   "execution_count": null,
   "id": "a72039a6-c160-4559-a551-37f08bb13c7a",
   "metadata": {},
   "outputs": [],
   "source": [
    "ccc_tissues = {\n",
    "    \"Natural killer cell\",\n",
    "    \"Leukocyte\",\n",
    "    \"Macrophage\",\n",
    "}\n",
    "\n",
    "pcc_tissues = {\n",
    "    \"Skeletal muscle\",\n",
    "    \"Liver\",\n",
    "    \"Placenta\",\n",
    "}\n",
    "\n",
    "shared_tissues = {\n",
    "    \"Blood\",\n",
    "    \"Mononuclear phagocyte\",\n",
    "}\n",
    "\n",
    "# make sure I'm not missing a tissue\n",
    "assert set(tissues_order) == (ccc_tissues | pcc_tissues | shared_tissues)\n",
    "\n",
    "# new tissues_order\n",
    "tissues_order = [\n",
    "    \"Macrophage\",\n",
    "    \"Leukocyte\",\n",
    "    \"Natural killer cell\",\n",
    "    \"Blood\",\n",
    "    \"Mononuclear phagocyte\",\n",
    "    \"Skeletal muscle\",\n",
    "    \"Liver\",\n",
    "    \"Placenta\",\n",
    "]\n",
    "\n",
    "assert set(tissues_order) == (ccc_tissues | pcc_tissues | shared_tissues)"
   ]
  },
  {
   "cell_type": "markdown",
   "id": "87b8174d-2428-4c06-8069-8bdcc7920bad",
   "metadata": {},
   "source": [
    "### Tissues colors"
   ]
  },
  {
   "cell_type": "code",
   "execution_count": null,
   "id": "909d703a-1f3a-44ff-bcfe-63b62911a640",
   "metadata": {},
   "outputs": [],
   "source": [
    "display(deep_colors)"
   ]
  },
  {
   "cell_type": "code",
   "execution_count": null,
   "id": "c6bc6901-b06c-4b2c-a2c5-06be0981734d",
   "metadata": {},
   "outputs": [],
   "source": [
    "# by specific or shared\n",
    "ccc_color = deep_colors[3]\n",
    "shared_color = deep_colors[4]\n",
    "pcc_color = deep_colors[0]"
   ]
  },
  {
   "cell_type": "code",
   "execution_count": null,
   "id": "4f0f39c7-6f22-4723-b67d-f1e092064cb4",
   "metadata": {},
   "outputs": [],
   "source": [
    "tissue_colors = {\n",
    "    t: ccc_color\n",
    "    if t in ccc_tissues\n",
    "    else pcc_color\n",
    "    if t in pcc_tissues\n",
    "    else shared_color\n",
    "    for t in tissues_order\n",
    "}"
   ]
  },
  {
   "cell_type": "markdown",
   "id": "60668c52-44b8-4a29-80cb-500858b138f1",
   "metadata": {},
   "source": [
    "### Plot: number of gene pairs by tissue and method"
   ]
  },
  {
   "cell_type": "code",
   "execution_count": null,
   "id": "77de0e84-af05-447d-a545-b958bce5111d",
   "metadata": {},
   "outputs": [],
   "source": [
    "with sns.plotting_context(\"poster\", font_scale=1.0):\n",
    "    g = sns.FacetGrid(\n",
    "        count_data,\n",
    "        row=\"subset\",\n",
    "        sharex=True,\n",
    "        sharey=True,\n",
    "        height=2.0,\n",
    "        aspect=2.1,\n",
    "    )\n",
    "    g.map(\n",
    "        sns.barplot,\n",
    "        \"tissue\",\n",
    "        \"n_gene_pairs\",\n",
    "        order=tissues_order,\n",
    "        palette=tissue_colors,\n",
    "    )\n",
    "    g.set_xticklabels(rotation=30, ha=\"right\")\n",
    "    g.set_axis_labels(PREDICTED_TISSUE_LABEL, \"\")\n",
    "\n",
    "    g.set_titles(row_template=\"\")\n",
    "\n",
    "    g.fig.text(0.03, 0.30, N_GENE_PAIRS_LABEL, rotation=90)\n",
    "\n",
    "    g.savefig(\n",
    "        OUTPUT_FIGURE_DIR / \"top_gene_pairs-tissue_count.pdf\",\n",
    "        bbox_inches=\"tight\",\n",
    "        dpi=300,\n",
    "        facecolor=\"white\",\n",
    "        # transparent=True,\n",
    "    )"
   ]
  },
  {
   "cell_type": "markdown",
   "id": "0ace6d99-da97-40ca-9401-22f8b79d9fff",
   "metadata": {},
   "source": [
    "### Plot: gene networks connectivity by tissue and method"
   ]
  },
  {
   "cell_type": "code",
   "execution_count": null,
   "id": "75de528c-91d7-44c3-8af6-fe51614d869a",
   "metadata": {},
   "outputs": [],
   "source": [
    "with sns.plotting_context(\"poster\", font_scale=1.0):\n",
    "    g = sns.FacetGrid(\n",
    "        conn_data,\n",
    "        row=\"subset\",\n",
    "        sharex=True,\n",
    "        sharey=True,\n",
    "        height=2.0,\n",
    "        aspect=2.1,\n",
    "    )\n",
    "    g.map(sns.boxplot, \"tissue\", \"weight\", order=tissues_order, palette=tissue_colors)\n",
    "    g.set_xticklabels(rotation=30, ha=\"right\")\n",
    "    g.set_axis_labels(PREDICTED_TISSUE_LABEL, \"\")\n",
    "\n",
    "    g.set_titles(row_template=\"\")\n",
    "\n",
    "    for ax in g.axes:\n",
    "        ax = ax[0]\n",
    "        sns.despine(ax=ax, left=True, right=False)\n",
    "        ax.yaxis.tick_right()\n",
    "        ax.yaxis.set_label_position(\"right\")\n",
    "\n",
    "    g.fig.text(1.10, 0.25, AVG_PROB_INTERACTION_LABEL, rotation=90, ha=\"center\")\n",
    "    # g.axes[2][0].set_ylabel(AVG_PROB_INTERACTION_LABEL)\n",
    "\n",
    "    g.savefig(\n",
    "        OUTPUT_FIGURE_DIR / \"top_gene_pairs-tissue_avg_weight.pdf\",\n",
    "        bbox_inches=\"tight\",\n",
    "        dpi=300,\n",
    "        facecolor=\"white\",\n",
    "        # transparent=True,\n",
    "    )"
   ]
  },
  {
   "cell_type": "markdown",
   "id": "0740317f-b4e2-4459-b074-e279b59a26ac",
   "metadata": {
    "papermill": {
     "duration": 0.114019,
     "end_time": "2021-12-21T20:27:03.073018",
     "exception": false,
     "start_time": "2021-12-21T20:27:02.958999",
     "status": "completed"
    },
    "tags": []
   },
   "source": [
    "# Raw numbers"
   ]
  },
  {
   "cell_type": "code",
   "execution_count": null,
   "id": "cd154dcc-65ef-4c11-8eeb-5094193120df",
   "metadata": {},
   "outputs": [],
   "source": [
    "count_data.sort_values([\"subset\", \"n_gene_pairs\"], ascending=[True, False])"
   ]
  },
  {
   "cell_type": "code",
   "execution_count": null,
   "id": "0ad5477c-8800-4497-8836-b6c4b51691fd",
   "metadata": {},
   "outputs": [],
   "source": [
    "conn_data.groupby([\"subset\", \"tissue\"])[\"weight\"].describe()"
   ]
  },
  {
   "cell_type": "markdown",
   "id": "da65b0a3-1d5b-4daf-a7d3-547a0ece2978",
   "metadata": {
    "papermill": {
     "duration": 0.114019,
     "end_time": "2021-12-21T20:27:03.073018",
     "exception": false,
     "start_time": "2021-12-21T20:27:02.958999",
     "status": "completed"
    },
    "tags": []
   },
   "source": [
    "# Create final figure"
   ]
  },
  {
   "cell_type": "code",
   "execution_count": null,
   "id": "560cc35a-1eb2-4382-aa44-d6bcd7ed7e26",
   "metadata": {},
   "outputs": [],
   "source": [
    "from svgutils.compose import Figure, SVG, Panel, Text"
   ]
  },
  {
   "cell_type": "code",
   "execution_count": null,
   "id": "1a2dbf84-279d-4058-ae3d-29d24b056d68",
   "metadata": {},
   "outputs": [],
   "source": [
    "BLOOD_NETWORKS_DIR = OUTPUT_FIGURE_DIR / \"blood_tissues\" / \"gene_pair_networks\"\n",
    "AUTO_SELECTED_NETWORKS_DIR = (\n",
    "    OUTPUT_FIGURE_DIR / \"auto_selected_tissues\" / \"gene_pair_networks\"\n",
    ")"
   ]
  },
  {
   "cell_type": "code",
   "execution_count": null,
   "id": "626e60cd-b940-4575-8218-d535afdafc35",
   "metadata": {},
   "outputs": [],
   "source": [
    "Figure(\n",
    "    \"30.50629cm\",\n",
    "    \"24.44741cm\",\n",
    "    # white background\n",
    "    Panel(\n",
    "        SVG(COEF_COMP_DIR / \"white_background.svg\"),\n",
    "    )\n",
    "    .scale(0.5)\n",
    "    .move(0, 0),\n",
    "    Panel(\n",
    "        Panel(\n",
    "            SVG(BLOOD_NETWORKS_DIR / \"GIANT-RASSF2_vs_CYTIP-blood.svg\").move(10, 0),\n",
    "            SVG(\n",
    "                AUTO_SELECTED_NETWORKS_DIR / \"GIANT-RASSF2_vs_CYTIP-leukocyte.svg\"\n",
    "            ).move(420, 0),\n",
    "            SVG(COEF_COMP_DIR / \"triangles-c_vs_s.svg\").scale(7.00).move(20, 350),\n",
    "            Text(\"a)\", 0, 30, size=28, weight=\"bold\"),\n",
    "            SVG(BLOOD_NETWORKS_DIR / \"color_bar.svg\").scale(3.50).move(270, 410),\n",
    "        )\n",
    "        .scale(0.0175)\n",
    "        .move(0, 0),\n",
    "        Panel(\n",
    "            SVG(BLOOD_NETWORKS_DIR / \"GIANT-MYOZ1_vs_TNNI2-blood.svg\").move(10, 0),\n",
    "            SVG(\n",
    "                AUTO_SELECTED_NETWORKS_DIR / \"GIANT-MYOZ1_vs_TNNI2-skeletal_muscle.svg\"\n",
    "            ).move(420, 0),\n",
    "            Text(\"b)\", 0, 30, size=28, weight=\"bold\"),\n",
    "            SVG(COEF_COMP_DIR / \"triangles-p_vs_c.svg\").scale(7.00).move(20, 350),\n",
    "        )\n",
    "        .scale(0.0175)\n",
    "        .move(16, 0),\n",
    "    ),\n",
    "    Panel(\n",
    "        SVG(OUTPUT_FIGURE_DIR / \"top_gene_pairs-tissue_count.svg\").scale(0.5),\n",
    "        # cm vs rest\n",
    "        SVG(COEF_COMP_DIR / \"triangles-c_vs_p.svg\").scale(1.50).move(30, 4),\n",
    "        Text(\"+\", 52, 10, size=6),\n",
    "        SVG(COEF_COMP_DIR / \"triangles-c_vs_ps.svg\").scale(1.50).move(60, 4),\n",
    "        Text(\"+\", 83, 10, size=6),\n",
    "        SVG(COEF_COMP_DIR / \"triangles-c_vs_s.svg\").scale(1.50).move(90, 4),\n",
    "        # p vs rest\n",
    "        SVG(COEF_COMP_DIR / \"triangles-p_vs_c.svg\").scale(1.50).move(30, 65),\n",
    "        Text(\"+\", 52, 71, size=6),\n",
    "        SVG(COEF_COMP_DIR / \"triangles-p_vs_cs.svg\").scale(1.50).move(60, 65),\n",
    "        # another\n",
    "        SVG(OUTPUT_FIGURE_DIR / \"top_gene_pairs-tissue_avg_weight.svg\")\n",
    "        .scale(0.5)\n",
    "        .move(130, 0),\n",
    "        Text(\"c)\", 0, 9, size=6, weight=\"bold\"),\n",
    "    )\n",
    "    .scale(0.10)\n",
    "    .move(0, 8),\n",
    ").save(OUTPUT_FIGURE_DIR / \"top_gene_pairs-main.svg\")"
   ]
  },
  {
   "cell_type": "markdown",
   "id": "e1e0f853-e8a6-4584-ba39-80544d912c24",
   "metadata": {},
   "source": [
    "Compile the manuscript with manubot and make sure the image has a white background and displays properly."
   ]
  },
  {
   "cell_type": "code",
   "execution_count": null,
   "id": "75837d2b-3f44-46b9-9751-dd21dad6c701",
   "metadata": {},
   "outputs": [],
   "source": []
  }
 ],
 "metadata": {
  "jupytext": {
   "cell_metadata_filter": "all,-execution,-papermill,-trusted"
  },
  "kernelspec": {
   "display_name": "Python 3 (ipykernel)",
   "language": "python",
   "name": "python3"
  },
  "language_info": {
   "codemirror_mode": {
    "name": "ipython",
    "version": 3
   },
   "file_extension": ".py",
   "mimetype": "text/x-python",
   "name": "python",
   "nbconvert_exporter": "python",
   "pygments_lexer": "ipython3",
   "version": "3.9.12"
  },
  "papermill": {
   "default_parameters": {},
   "duration": 808.744828,
   "end_time": "2021-12-21T20:27:03.803437",
   "environment_variables": {},
   "exception": null,
   "input_path": "nbs/99_manuscript/coefs_comp/05-gtex_whole_blood-general_plots.ipynb",
   "output_path": "nbs/99_manuscript/coefs_comp/05-gtex_whole_blood-general_plots.run.ipynb",
   "parameters": {},
   "start_time": "2021-12-21T20:13:35.058609",
   "version": "2.3.3"
  },
  "toc-autonumbering": true
 },
 "nbformat": 4,
 "nbformat_minor": 5
}
