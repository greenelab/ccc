{
 "cells": [
  {
   "cell_type": "markdown",
   "id": "36c65ddb-8246-4b0c-a231-68a373acc2cf",
   "metadata": {
    "papermill": {
     "duration": 0.095646,
     "end_time": "2021-12-02T04:34:06.384775",
     "exception": false,
     "start_time": "2021-12-02T04:34:06.289129",
     "status": "completed"
    },
    "tags": []
   },
   "source": [
    "# Description"
   ]
  },
  {
   "cell_type": "markdown",
   "id": "337633a8-d03e-4509-b89d-f8daee598958",
   "metadata": {
    "papermill": {
     "duration": 0.091407,
     "end_time": "2021-12-02T04:34:06.566258",
     "exception": false,
     "start_time": "2021-12-02T04:34:06.474851",
     "status": "completed"
    },
    "tags": []
   },
   "source": [
    "Multi-threading version of code in `09`"
   ]
  },
  {
   "cell_type": "markdown",
   "id": "63c2b099-cc44-4fe2-93d1-40336e0a8466",
   "metadata": {
    "papermill": {
     "duration": 0.09056,
     "end_time": "2021-12-02T04:34:06.747753",
     "exception": false,
     "start_time": "2021-12-02T04:34:06.657193",
     "status": "completed"
    },
    "tags": []
   },
   "source": [
    "# Remove pycache dir"
   ]
  },
  {
   "cell_type": "code",
   "execution_count": 1,
   "id": "960c4ff0-2a73-4eaa-97d6-3269102233eb",
   "metadata": {
    "execution": {
     "iopub.execute_input": "2021-12-02T04:34:06.942330Z",
     "iopub.status.busy": "2021-12-02T04:34:06.941822Z",
     "iopub.status.idle": "2021-12-02T04:34:07.534005Z",
     "shell.execute_reply": "2021-12-02T04:34:07.531916Z"
    },
    "papermill": {
     "duration": 0.696141,
     "end_time": "2021-12-02T04:34:07.534420",
     "exception": false,
     "start_time": "2021-12-02T04:34:06.838279",
     "status": "completed"
    },
    "tags": []
   },
   "outputs": [
    {
     "name": "stdout",
     "output_type": "stream",
     "text": [
      "\n"
     ]
    }
   ],
   "source": [
    "!echo ${CODE_DIR}"
   ]
  },
  {
   "cell_type": "code",
   "execution_count": 2,
   "id": "e18db58a-316a-445b-a376-8b2ec18e08d8",
   "metadata": {
    "execution": {
     "iopub.execute_input": "2021-12-02T04:34:07.733067Z",
     "iopub.status.busy": "2021-12-02T04:34:07.732593Z",
     "iopub.status.idle": "2021-12-02T04:34:08.445221Z",
     "shell.execute_reply": "2021-12-02T04:34:08.443302Z"
    },
    "papermill": {
     "duration": 0.817887,
     "end_time": "2021-12-02T04:34:08.445598",
     "exception": false,
     "start_time": "2021-12-02T04:34:07.627711",
     "status": "completed"
    },
    "tags": []
   },
   "outputs": [
    {
     "name": "stdout",
     "output_type": "stream",
     "text": [
      "./libs/ccc/__pycache__\n",
      "./libs/ccc/sklearn/__pycache__\n",
      "./libs/ccc/scipy/__pycache__\n",
      "./libs/ccc/coef/__pycache__\n",
      "./libs/ccc/utils/__pycache__\n",
      "./libs/ccc/pytorch/__pycache__\n"
     ]
    }
   ],
   "source": [
    "!find ${CODE_DIR} -regex '^.*\\(__pycache__\\)$' -print"
   ]
  },
  {
   "cell_type": "code",
   "execution_count": 3,
   "id": "b54099b0-a990-4bbd-bcbd-e206eb0f0f0e",
   "metadata": {
    "execution": {
     "iopub.execute_input": "2021-12-02T04:34:08.668700Z",
     "iopub.status.busy": "2021-12-02T04:34:08.668226Z",
     "iopub.status.idle": "2021-12-02T04:34:09.290588Z",
     "shell.execute_reply": "2021-12-02T04:34:09.288752Z"
    },
    "papermill": {
     "duration": 0.719545,
     "end_time": "2021-12-02T04:34:09.290958",
     "exception": false,
     "start_time": "2021-12-02T04:34:08.571413",
     "status": "completed"
    },
    "tags": []
   },
   "outputs": [],
   "source": [
    "!find ${CODE_DIR} -regex '^.*\\(__pycache__\\)$' -prune -exec rm -rf {} \\;"
   ]
  },
  {
   "cell_type": "code",
   "execution_count": 4,
   "id": "7a9a8098-8160-46bf-8d83-bc398cbe2382",
   "metadata": {
    "execution": {
     "iopub.execute_input": "2021-12-02T04:34:09.513928Z",
     "iopub.status.busy": "2021-12-02T04:34:09.513465Z",
     "iopub.status.idle": "2021-12-02T04:34:10.120602Z",
     "shell.execute_reply": "2021-12-02T04:34:10.118684Z"
    },
    "papermill": {
     "duration": 0.704384,
     "end_time": "2021-12-02T04:34:10.120972",
     "exception": false,
     "start_time": "2021-12-02T04:34:09.416588",
     "status": "completed"
    },
    "tags": []
   },
   "outputs": [],
   "source": [
    "!find ${CODE_DIR} -regex '^.*\\(__pycache__\\)$' -print"
   ]
  },
  {
   "cell_type": "markdown",
   "id": "c2251313-41ac-46fd-a845-0f209689ecf6",
   "metadata": {
    "papermill": {
     "duration": 0.093051,
     "end_time": "2021-12-02T04:34:10.338738",
     "exception": false,
     "start_time": "2021-12-02T04:34:10.245687",
     "status": "completed"
    },
    "tags": []
   },
   "source": [
    "# Modules"
   ]
  },
  {
   "cell_type": "code",
   "execution_count": 5,
   "id": "987ef5f1-be49-4a6c-a4f4-b24a0a2094cb",
   "metadata": {
    "execution": {
     "iopub.execute_input": "2021-12-02T04:34:10.528319Z",
     "iopub.status.busy": "2021-12-02T04:34:10.527833Z",
     "iopub.status.idle": "2021-12-02T04:34:10.845421Z",
     "shell.execute_reply": "2021-12-02T04:34:10.845020Z"
    },
    "papermill": {
     "duration": 0.414249,
     "end_time": "2021-12-02T04:34:10.845518",
     "exception": false,
     "start_time": "2021-12-02T04:34:10.431269",
     "status": "completed"
    },
    "tags": []
   },
   "outputs": [],
   "source": [
    "import numpy as np\n",
    "\n",
    "from ccc.coef import ccc"
   ]
  },
  {
   "cell_type": "markdown",
   "id": "24399ccb-d33d-4bad-9baf-638c9c56feb2",
   "metadata": {
    "papermill": {
     "duration": 0.095359,
     "end_time": "2021-12-02T04:34:11.037941",
     "exception": false,
     "start_time": "2021-12-02T04:34:10.942582",
     "status": "completed"
    },
    "tags": []
   },
   "source": [
    "# Settings"
   ]
  },
  {
   "cell_type": "code",
   "execution_count": 6,
   "id": "c609cefa-f513-4cf8-9573-367744e31c5f",
   "metadata": {
    "execution": {
     "iopub.execute_input": "2021-12-02T04:34:11.224902Z",
     "iopub.status.busy": "2021-12-02T04:34:11.224429Z",
     "iopub.status.idle": "2021-12-02T04:34:11.226352Z",
     "shell.execute_reply": "2021-12-02T04:34:11.226694Z"
    },
    "papermill": {
     "duration": 0.097459,
     "end_time": "2021-12-02T04:34:11.226809",
     "exception": false,
     "start_time": "2021-12-02T04:34:11.129350",
     "status": "completed"
    },
    "tags": []
   },
   "outputs": [],
   "source": [
    "N_REPS = 10"
   ]
  },
  {
   "cell_type": "code",
   "execution_count": 7,
   "id": "c0341a42-b8de-419f-ab37-1e4fee9dde75",
   "metadata": {
    "execution": {
     "iopub.execute_input": "2021-12-02T04:34:11.416790Z",
     "iopub.status.busy": "2021-12-02T04:34:11.416353Z",
     "iopub.status.idle": "2021-12-02T04:34:11.418488Z",
     "shell.execute_reply": "2021-12-02T04:34:11.418030Z"
    },
    "papermill": {
     "duration": 0.098372,
     "end_time": "2021-12-02T04:34:11.418578",
     "exception": false,
     "start_time": "2021-12-02T04:34:11.320206",
     "status": "completed"
    },
    "tags": []
   },
   "outputs": [],
   "source": [
    "np.random.seed(0)"
   ]
  },
  {
   "cell_type": "markdown",
   "id": "6fd3067b-a4f7-475e-9575-20246934537d",
   "metadata": {
    "papermill": {
     "duration": 0.092004,
     "end_time": "2021-12-02T04:34:11.602824",
     "exception": false,
     "start_time": "2021-12-02T04:34:11.510820",
     "status": "completed"
    },
    "tags": []
   },
   "source": [
    "# Setup"
   ]
  },
  {
   "cell_type": "code",
   "execution_count": 8,
   "id": "02e0507c-43ff-4693-8a3b-8ccd8f23168c",
   "metadata": {
    "execution": {
     "iopub.execute_input": "2021-12-02T04:34:11.790398Z",
     "iopub.status.busy": "2021-12-02T04:34:11.789933Z",
     "iopub.status.idle": "2021-12-02T04:34:20.454299Z",
     "shell.execute_reply": "2021-12-02T04:34:20.453925Z"
    },
    "papermill": {
     "duration": 8.760307,
     "end_time": "2021-12-02T04:34:20.454396",
     "exception": false,
     "start_time": "2021-12-02T04:34:11.694089",
     "status": "completed"
    },
    "tags": []
   },
   "outputs": [
    {
     "data": {
      "text/plain": [
       "0.15625"
      ]
     },
     "execution_count": 8,
     "metadata": {},
     "output_type": "execute_result"
    }
   ],
   "source": [
    "# let numba compile all the code before profiling\n",
    "ccc(np.random.rand(10), np.random.rand(10))"
   ]
  },
  {
   "cell_type": "markdown",
   "id": "8549179d-1517-4a40-9a51-b95dc02d0fcc",
   "metadata": {
    "papermill": {
     "duration": 0.092955,
     "end_time": "2021-12-02T04:34:20.640996",
     "exception": false,
     "start_time": "2021-12-02T04:34:20.548041",
     "status": "completed"
    },
    "tags": []
   },
   "source": [
    "# Run with `n_samples` small"
   ]
  },
  {
   "cell_type": "markdown",
   "id": "13ba811b",
   "metadata": {
    "papermill": {
     "duration": 0.092926,
     "end_time": "2021-12-02T04:34:20.826776",
     "exception": false,
     "start_time": "2021-12-02T04:34:20.733850",
     "status": "completed"
    },
    "tags": []
   },
   "source": [
    "## `n_samples=50`"
   ]
  },
  {
   "cell_type": "code",
   "execution_count": 9,
   "id": "68064f0b",
   "metadata": {
    "execution": {
     "iopub.execute_input": "2021-12-02T04:34:21.026855Z",
     "iopub.status.busy": "2021-12-02T04:34:21.026243Z",
     "iopub.status.idle": "2021-12-02T04:34:21.028562Z",
     "shell.execute_reply": "2021-12-02T04:34:21.027971Z"
    },
    "papermill": {
     "duration": 0.107158,
     "end_time": "2021-12-02T04:34:21.028689",
     "exception": false,
     "start_time": "2021-12-02T04:34:20.921531",
     "status": "completed"
    },
    "tags": []
   },
   "outputs": [],
   "source": [
    "N_SAMPLES = 50"
   ]
  },
  {
   "cell_type": "code",
   "execution_count": 10,
   "id": "6f2ff213-d6b7-458f-acbf-8c73dd497a2a",
   "metadata": {
    "execution": {
     "iopub.execute_input": "2021-12-02T04:34:21.225799Z",
     "iopub.status.busy": "2021-12-02T04:34:21.225350Z",
     "iopub.status.idle": "2021-12-02T04:34:21.226800Z",
     "shell.execute_reply": "2021-12-02T04:34:21.227141Z"
    },
    "papermill": {
     "duration": 0.09836,
     "end_time": "2021-12-02T04:34:21.227254",
     "exception": false,
     "start_time": "2021-12-02T04:34:21.128894",
     "status": "completed"
    },
    "tags": []
   },
   "outputs": [],
   "source": [
    "x = np.random.rand(N_SAMPLES)\n",
    "y = np.random.rand(N_SAMPLES)"
   ]
  },
  {
   "cell_type": "code",
   "execution_count": 11,
   "id": "d63012be-4fc7-4fba-bccd-ad155905d1d6",
   "metadata": {
    "execution": {
     "iopub.execute_input": "2021-12-02T04:34:21.418916Z",
     "iopub.status.busy": "2021-12-02T04:34:21.418477Z",
     "iopub.status.idle": "2021-12-02T04:34:21.420269Z",
     "shell.execute_reply": "2021-12-02T04:34:21.420631Z"
    },
    "papermill": {
     "duration": 0.098786,
     "end_time": "2021-12-02T04:34:21.420745",
     "exception": false,
     "start_time": "2021-12-02T04:34:21.321959",
     "status": "completed"
    },
    "tags": []
   },
   "outputs": [],
   "source": [
    "def func(n_reps=N_REPS):\n",
    "    for i in range(n_reps):\n",
    "        ccc(x, y, n_jobs=8)"
   ]
  },
  {
   "cell_type": "code",
   "execution_count": 12,
   "id": "c0abc65a-2f3c-4476-9c2a-f8d7753b75e6",
   "metadata": {
    "execution": {
     "iopub.execute_input": "2021-12-02T04:34:21.614745Z",
     "iopub.status.busy": "2021-12-02T04:34:21.614223Z",
     "iopub.status.idle": "2021-12-02T04:34:33.925655Z",
     "shell.execute_reply": "2021-12-02T04:34:33.925209Z"
    },
    "papermill": {
     "duration": 12.410211,
     "end_time": "2021-12-02T04:34:33.925764",
     "exception": false,
     "start_time": "2021-12-02T04:34:21.515553",
     "status": "completed"
    },
    "tags": []
   },
   "outputs": [
    {
     "name": "stdout",
     "output_type": "stream",
     "text": [
      "14.6 ms ± 40 µs per loop (mean ± std. dev. of 7 runs, 100 loops each)\n"
     ]
    }
   ],
   "source": [
    "%%timeit func()\n",
    "func()"
   ]
  },
  {
   "cell_type": "code",
   "execution_count": 13,
   "id": "e80a7b02-310f-4bd9-90d5-2a41186db39e",
   "metadata": {
    "execution": {
     "iopub.execute_input": "2021-12-02T04:34:34.125850Z",
     "iopub.status.busy": "2021-12-02T04:34:34.125263Z",
     "iopub.status.idle": "2021-12-02T04:34:34.148529Z",
     "shell.execute_reply": "2021-12-02T04:34:34.148886Z"
    },
    "papermill": {
     "duration": 0.124845,
     "end_time": "2021-12-02T04:34:34.149006",
     "exception": false,
     "start_time": "2021-12-02T04:34:34.024161",
     "status": "completed"
    },
    "tags": []
   },
   "outputs": [
    {
     "name": "stdout",
     "output_type": "stream",
     "text": [
      " \n",
      "*** Profile printout saved to text file '09-n_samples_small_50.txt'. \n"
     ]
    },
    {
     "name": "stdout",
     "output_type": "stream",
     "text": [
      "         8195 function calls in 0.018 seconds\n",
      "\n",
      "   Ordered by: cumulative time\n",
      "   List reduced from 114 to 20 due to restriction <20>\n",
      "\n",
      "   ncalls  tottime  percall  cumtime  percall filename:lineno(function)\n",
      "        1    0.000    0.000    0.018    0.018 {built-in method builtins.exec}\n",
      "        1    0.000    0.000    0.018    0.018 <string>:1(<module>)\n",
      "        1    0.000    0.000    0.018    0.018 158102722.py:1(func)\n",
      "       10    0.000    0.000    0.018    0.002 impl.py:307(ccc)\n",
      "       10    0.000    0.000    0.013    0.001 impl.py:492(compute_coef)\n",
      "       10    0.000    0.000    0.012    0.001 impl.py:485(cdist_func)\n",
      "       10    0.000    0.000    0.012    0.001 impl.py:192(cdist_parts_parallel)\n",
      "      659    0.011    0.000    0.011    0.000 {method 'acquire' of '_thread.lock' objects}\n",
      "      154    0.000    0.000    0.011    0.000 threading.py:280(wait)\n",
      "       90    0.000    0.000    0.010    0.000 threading.py:563(wait)\n",
      "       80    0.000    0.000    0.010    0.000 thread.py:161(submit)\n",
      "       80    0.000    0.000    0.009    0.000 thread.py:180(_adjust_thread_count)\n",
      "       57    0.000    0.000    0.008    0.000 threading.py:880(start)\n",
      "       10    0.000    0.000    0.008    0.001 impl.py:210(<dictcomp>)\n",
      "       70    0.000    0.000    0.004    0.000 _base.py:201(as_completed)\n",
      "       10    0.000    0.000    0.002    0.000 _base.py:573(map)\n",
      "       10    0.000    0.000    0.002    0.000 _base.py:598(<listcomp>)\n",
      "       10    0.000    0.000    0.001    0.000 _base.py:636(__exit__)\n",
      "       10    0.000    0.000    0.001    0.000 thread.py:216(shutdown)\n",
      "       57    0.001    0.000    0.001    0.000 {built-in method _thread.start_new_thread}"
     ]
    }
   ],
   "source": [
    "%%prun -s cumulative -l 20 -T 09-n_samples_small_50.txt\n",
    "func()"
   ]
  },
  {
   "cell_type": "markdown",
   "id": "2548440c",
   "metadata": {
    "papermill": {
     "duration": 0.094866,
     "end_time": "2021-12-02T04:34:34.338010",
     "exception": false,
     "start_time": "2021-12-02T04:34:34.243144",
     "status": "completed"
    },
    "tags": []
   },
   "source": [
    "## `n_samples=100`"
   ]
  },
  {
   "cell_type": "code",
   "execution_count": 14,
   "id": "ddb768d7-9b74-424c-bdb9-9e52b9e5b181",
   "metadata": {
    "execution": {
     "iopub.execute_input": "2021-12-02T04:34:34.530550Z",
     "iopub.status.busy": "2021-12-02T04:34:34.530085Z",
     "iopub.status.idle": "2021-12-02T04:34:34.531559Z",
     "shell.execute_reply": "2021-12-02T04:34:34.531910Z"
    },
    "papermill": {
     "duration": 0.099465,
     "end_time": "2021-12-02T04:34:34.532025",
     "exception": false,
     "start_time": "2021-12-02T04:34:34.432560",
     "status": "completed"
    },
    "tags": []
   },
   "outputs": [],
   "source": [
    "N_SAMPLES = 100"
   ]
  },
  {
   "cell_type": "code",
   "execution_count": 15,
   "id": "161cf922-41f7-4ced-af1f-e3d25b36b200",
   "metadata": {
    "execution": {
     "iopub.execute_input": "2021-12-02T04:34:34.723894Z",
     "iopub.status.busy": "2021-12-02T04:34:34.723405Z",
     "iopub.status.idle": "2021-12-02T04:34:34.725017Z",
     "shell.execute_reply": "2021-12-02T04:34:34.725362Z"
    },
    "papermill": {
     "duration": 0.099541,
     "end_time": "2021-12-02T04:34:34.725479",
     "exception": false,
     "start_time": "2021-12-02T04:34:34.625938",
     "status": "completed"
    },
    "tags": []
   },
   "outputs": [],
   "source": [
    "x = np.random.rand(N_SAMPLES)\n",
    "y = np.random.rand(N_SAMPLES)"
   ]
  },
  {
   "cell_type": "code",
   "execution_count": 16,
   "id": "0a7f2b1f-4b87-4dde-a46b-2acec5ac93ba",
   "metadata": {
    "execution": {
     "iopub.execute_input": "2021-12-02T04:34:35.120950Z",
     "iopub.status.busy": "2021-12-02T04:34:35.120480Z",
     "iopub.status.idle": "2021-12-02T04:34:37.984893Z",
     "shell.execute_reply": "2021-12-02T04:34:37.985354Z"
    },
    "papermill": {
     "duration": 2.971389,
     "end_time": "2021-12-02T04:34:37.985494",
     "exception": false,
     "start_time": "2021-12-02T04:34:35.014105",
     "status": "completed"
    },
    "tags": []
   },
   "outputs": [
    {
     "name": "stdout",
     "output_type": "stream",
     "text": [
      "24.9 ms ± 190 µs per loop (mean ± std. dev. of 7 runs, 10 loops each)\n"
     ]
    }
   ],
   "source": [
    "%%timeit func()\n",
    "func()"
   ]
  },
  {
   "cell_type": "code",
   "execution_count": 17,
   "id": "74acbe27-9807-4f26-8b7e-b74d0f745b63",
   "metadata": {
    "execution": {
     "iopub.execute_input": "2021-12-02T04:34:38.190471Z",
     "iopub.status.busy": "2021-12-02T04:34:38.189361Z",
     "iopub.status.idle": "2021-12-02T04:34:38.227298Z",
     "shell.execute_reply": "2021-12-02T04:34:38.227692Z"
    },
    "papermill": {
     "duration": 0.13744,
     "end_time": "2021-12-02T04:34:38.227812",
     "exception": false,
     "start_time": "2021-12-02T04:34:38.090372",
     "status": "completed"
    },
    "tags": []
   },
   "outputs": [
    {
     "name": "stdout",
     "output_type": "stream",
     "text": [
      " \n",
      "*** Profile printout saved to text file '09-n_samples_small_100.txt'. \n"
     ]
    },
    {
     "name": "stdout",
     "output_type": "stream",
     "text": [
      "         10901 function calls in 0.029 seconds\n",
      "\n",
      "   Ordered by: cumulative time\n",
      "   List reduced from 120 to 20 due to restriction <20>\n",
      "\n",
      "   ncalls  tottime  percall  cumtime  percall filename:lineno(function)\n",
      "        1    0.000    0.000    0.029    0.029 {built-in method builtins.exec}\n",
      "        1    0.000    0.000    0.029    0.029 <string>:1(<module>)\n",
      "        1    0.000    0.000    0.029    0.029 158102722.py:1(func)\n",
      "       10    0.000    0.000    0.028    0.003 impl.py:307(ccc)\n",
      "       10    0.000    0.000    0.023    0.002 impl.py:492(compute_coef)\n",
      "       10    0.000    0.000    0.023    0.002 impl.py:485(cdist_func)\n",
      "       10    0.001    0.000    0.022    0.002 impl.py:192(cdist_parts_parallel)\n",
      "      887    0.019    0.000    0.019    0.000 {method 'acquire' of '_thread.lock' objects}\n",
      "      208    0.000    0.000    0.019    0.000 threading.py:280(wait)\n",
      "      124    0.000    0.000    0.019    0.000 threading.py:563(wait)\n",
      "      110    0.000    0.000    0.015    0.000 thread.py:161(submit)\n",
      "      110    0.000    0.000    0.015    0.000 thread.py:180(_adjust_thread_count)\n",
      "       10    0.000    0.000    0.013    0.001 impl.py:210(<dictcomp>)\n",
      "       75    0.000    0.000    0.013    0.000 threading.py:880(start)\n",
      "      100    0.000    0.000    0.008    0.000 _base.py:201(as_completed)\n",
      "       10    0.000    0.000    0.002    0.000 _base.py:573(map)\n",
      "       10    0.000    0.000    0.002    0.000 _base.py:598(<listcomp>)\n",
      "       10    0.000    0.000    0.002    0.000 _base.py:636(__exit__)\n",
      "       10    0.000    0.000    0.002    0.000 thread.py:216(shutdown)\n",
      "       75    0.002    0.000    0.002    0.000 {built-in method _thread.start_new_thread}"
     ]
    }
   ],
   "source": [
    "%%prun -s cumulative -l 20 -T 09-n_samples_small_100.txt\n",
    "func()"
   ]
  },
  {
   "cell_type": "markdown",
   "id": "611ff8e1",
   "metadata": {
    "papermill": {
     "duration": 0.09562,
     "end_time": "2021-12-02T04:34:38.420643",
     "exception": false,
     "start_time": "2021-12-02T04:34:38.325023",
     "status": "completed"
    },
    "tags": []
   },
   "source": [
    "## `n_samples=500`"
   ]
  },
  {
   "cell_type": "code",
   "execution_count": 18,
   "id": "4bcf4b42",
   "metadata": {
    "execution": {
     "iopub.execute_input": "2021-12-02T04:34:38.617318Z",
     "iopub.status.busy": "2021-12-02T04:34:38.616836Z",
     "iopub.status.idle": "2021-12-02T04:34:38.618469Z",
     "shell.execute_reply": "2021-12-02T04:34:38.618817Z"
    },
    "papermill": {
     "duration": 0.101998,
     "end_time": "2021-12-02T04:34:38.618933",
     "exception": false,
     "start_time": "2021-12-02T04:34:38.516935",
     "status": "completed"
    },
    "tags": []
   },
   "outputs": [],
   "source": [
    "N_SAMPLES = 500"
   ]
  },
  {
   "cell_type": "code",
   "execution_count": 19,
   "id": "0bf2f21e",
   "metadata": {
    "execution": {
     "iopub.execute_input": "2021-12-02T04:34:38.813589Z",
     "iopub.status.busy": "2021-12-02T04:34:38.813117Z",
     "iopub.status.idle": "2021-12-02T04:34:38.815386Z",
     "shell.execute_reply": "2021-12-02T04:34:38.815020Z"
    },
    "papermill": {
     "duration": 0.100616,
     "end_time": "2021-12-02T04:34:38.815484",
     "exception": false,
     "start_time": "2021-12-02T04:34:38.714868",
     "status": "completed"
    },
    "tags": []
   },
   "outputs": [],
   "source": [
    "x = np.random.rand(N_SAMPLES)\n",
    "y = np.random.rand(N_SAMPLES)"
   ]
  },
  {
   "cell_type": "code",
   "execution_count": 20,
   "id": "cbde4ce6",
   "metadata": {
    "execution": {
     "iopub.execute_input": "2021-12-02T04:34:39.216775Z",
     "iopub.status.busy": "2021-12-02T04:34:39.216014Z",
     "iopub.status.idle": "2021-12-02T04:34:43.223179Z",
     "shell.execute_reply": "2021-12-02T04:34:43.223640Z"
    },
    "papermill": {
     "duration": 4.108094,
     "end_time": "2021-12-02T04:34:43.223780",
     "exception": false,
     "start_time": "2021-12-02T04:34:39.115686",
     "status": "completed"
    },
    "tags": []
   },
   "outputs": [
    {
     "name": "stdout",
     "output_type": "stream",
     "text": [
      "29.3 ms ± 233 µs per loop (mean ± std. dev. of 7 runs, 10 loops each)\n"
     ]
    }
   ],
   "source": [
    "%%timeit func()\n",
    "func()"
   ]
  },
  {
   "cell_type": "code",
   "execution_count": 21,
   "id": "1250547e",
   "metadata": {
    "execution": {
     "iopub.execute_input": "2021-12-02T04:34:43.427169Z",
     "iopub.status.busy": "2021-12-02T04:34:43.426487Z",
     "iopub.status.idle": "2021-12-02T04:34:43.474288Z",
     "shell.execute_reply": "2021-12-02T04:34:43.473832Z"
    },
    "papermill": {
     "duration": 0.148908,
     "end_time": "2021-12-02T04:34:43.474385",
     "exception": false,
     "start_time": "2021-12-02T04:34:43.325477",
     "status": "completed"
    },
    "tags": []
   },
   "outputs": [
    {
     "name": "stdout",
     "output_type": "stream",
     "text": [
      " \n",
      "*** Profile printout saved to text file '09-n_samples_small_500.txt'. \n"
     ]
    },
    {
     "name": "stdout",
     "output_type": "stream",
     "text": [
      "         11112 function calls in 0.032 seconds\n",
      "\n",
      "   Ordered by: cumulative time\n",
      "   List reduced from 114 to 20 due to restriction <20>\n",
      "\n",
      "   ncalls  tottime  percall  cumtime  percall filename:lineno(function)\n",
      "        1    0.000    0.000    0.032    0.032 {built-in method builtins.exec}\n",
      "        1    0.000    0.000    0.032    0.032 <string>:1(<module>)\n",
      "        1    0.000    0.000    0.032    0.032 158102722.py:1(func)\n",
      "       10    0.000    0.000    0.031    0.003 impl.py:307(ccc)\n",
      "       10    0.000    0.000    0.025    0.002 impl.py:492(compute_coef)\n",
      "       10    0.000    0.000    0.024    0.002 impl.py:485(cdist_func)\n",
      "       10    0.001    0.000    0.024    0.002 impl.py:192(cdist_parts_parallel)\n",
      "      935    0.022    0.000    0.022    0.000 {method 'acquire' of '_thread.lock' objects}\n",
      "      224    0.000    0.000    0.022    0.000 threading.py:280(wait)\n",
      "      132    0.000    0.000    0.020    0.000 threading.py:563(wait)\n",
      "      110    0.000    0.000    0.015    0.000 thread.py:161(submit)\n",
      "      110    0.000    0.000    0.014    0.000 thread.py:180(_adjust_thread_count)\n",
      "       10    0.001    0.000    0.013    0.001 impl.py:210(<dictcomp>)\n",
      "       75    0.000    0.000    0.012    0.000 threading.py:880(start)\n",
      "      100    0.000    0.000    0.010    0.000 _base.py:201(as_completed)\n",
      "      110    0.000    0.000    0.002    0.000 _base.py:418(result)\n",
      "       30    0.000    0.000    0.002    0.000 _base.py:602(result_iterator)\n",
      "       10    0.000    0.000    0.002    0.000 _base.py:573(map)\n",
      "       10    0.000    0.000    0.002    0.000 _base.py:598(<listcomp>)\n",
      "       75    0.002    0.000    0.002    0.000 {built-in method _thread.start_new_thread}"
     ]
    }
   ],
   "source": [
    "%%prun -s cumulative -l 20 -T 09-n_samples_small_500.txt\n",
    "func()"
   ]
  },
  {
   "cell_type": "markdown",
   "id": "6853c300",
   "metadata": {
    "papermill": {
     "duration": 0.09707,
     "end_time": "2021-12-02T04:34:43.669776",
     "exception": false,
     "start_time": "2021-12-02T04:34:43.572706",
     "status": "completed"
    },
    "tags": []
   },
   "source": [
    "## `n_samples=1000`"
   ]
  },
  {
   "cell_type": "code",
   "execution_count": 22,
   "id": "f77e8490",
   "metadata": {
    "execution": {
     "iopub.execute_input": "2021-12-02T04:34:43.871037Z",
     "iopub.status.busy": "2021-12-02T04:34:43.870573Z",
     "iopub.status.idle": "2021-12-02T04:34:43.872099Z",
     "shell.execute_reply": "2021-12-02T04:34:43.872442Z"
    },
    "papermill": {
     "duration": 0.103066,
     "end_time": "2021-12-02T04:34:43.872558",
     "exception": false,
     "start_time": "2021-12-02T04:34:43.769492",
     "status": "completed"
    },
    "tags": []
   },
   "outputs": [],
   "source": [
    "N_SAMPLES = 1000"
   ]
  },
  {
   "cell_type": "code",
   "execution_count": 23,
   "id": "c99f544a",
   "metadata": {
    "execution": {
     "iopub.execute_input": "2021-12-02T04:34:44.102128Z",
     "iopub.status.busy": "2021-12-02T04:34:44.101540Z",
     "iopub.status.idle": "2021-12-02T04:34:44.103376Z",
     "shell.execute_reply": "2021-12-02T04:34:44.103817Z"
    },
    "papermill": {
     "duration": 0.13265,
     "end_time": "2021-12-02T04:34:44.103967",
     "exception": false,
     "start_time": "2021-12-02T04:34:43.971317",
     "status": "completed"
    },
    "tags": []
   },
   "outputs": [],
   "source": [
    "x = np.random.rand(N_SAMPLES)\n",
    "y = np.random.rand(N_SAMPLES)"
   ]
  },
  {
   "cell_type": "code",
   "execution_count": 24,
   "id": "9721b048",
   "metadata": {
    "execution": {
     "iopub.execute_input": "2021-12-02T04:34:44.515965Z",
     "iopub.status.busy": "2021-12-02T04:34:44.515462Z",
     "iopub.status.idle": "2021-12-02T04:34:50.907897Z",
     "shell.execute_reply": "2021-12-02T04:34:50.908362Z"
    },
    "papermill": {
     "duration": 6.496377,
     "end_time": "2021-12-02T04:34:50.908503",
     "exception": false,
     "start_time": "2021-12-02T04:34:44.412126",
     "status": "completed"
    },
    "tags": []
   },
   "outputs": [
    {
     "name": "stdout",
     "output_type": "stream",
     "text": [
      "34.7 ms ± 164 µs per loop (mean ± std. dev. of 7 runs, 10 loops each)\n"
     ]
    }
   ],
   "source": [
    "%%timeit func()\n",
    "func()"
   ]
  },
  {
   "cell_type": "code",
   "execution_count": 25,
   "id": "fd0f4dd6",
   "metadata": {
    "execution": {
     "iopub.execute_input": "2021-12-02T04:34:51.122723Z",
     "iopub.status.busy": "2021-12-02T04:34:51.122244Z",
     "iopub.status.idle": "2021-12-02T04:34:51.194219Z",
     "shell.execute_reply": "2021-12-02T04:34:51.193813Z"
    },
    "papermill": {
     "duration": 0.179898,
     "end_time": "2021-12-02T04:34:51.194319",
     "exception": false,
     "start_time": "2021-12-02T04:34:51.014421",
     "status": "completed"
    },
    "tags": []
   },
   "outputs": [
    {
     "name": "stdout",
     "output_type": "stream",
     "text": [
      " \n",
      "*** Profile printout saved to text file '09-n_samples_small_1000.txt'. \n"
     ]
    },
    {
     "name": "stdout",
     "output_type": "stream",
     "text": [
      "         11853 function calls in 0.038 seconds\n",
      "\n",
      "   Ordered by: cumulative time\n",
      "   List reduced from 114 to 20 due to restriction <20>\n",
      "\n",
      "   ncalls  tottime  percall  cumtime  percall filename:lineno(function)\n",
      "        1    0.000    0.000    0.038    0.038 {built-in method builtins.exec}\n",
      "        1    0.000    0.000    0.038    0.038 <string>:1(<module>)\n",
      "        1    0.000    0.000    0.038    0.038 158102722.py:1(func)\n",
      "       10    0.001    0.000    0.038    0.004 impl.py:307(ccc)\n",
      "       10    0.000    0.000    0.028    0.003 impl.py:492(compute_coef)\n",
      "       10    0.000    0.000    0.028    0.003 impl.py:485(cdist_func)\n",
      "       10    0.001    0.000    0.028    0.003 impl.py:192(cdist_parts_parallel)\n",
      "     1051    0.028    0.000    0.028    0.000 {method 'acquire' of '_thread.lock' objects}\n",
      "      253    0.000    0.000    0.027    0.000 threading.py:280(wait)\n",
      "      150    0.000    0.000    0.023    0.000 threading.py:563(wait)\n",
      "      110    0.000    0.000    0.016    0.000 thread.py:161(submit)\n",
      "      110    0.000    0.000    0.015    0.000 thread.py:180(_adjust_thread_count)\n",
      "       10    0.001    0.000    0.014    0.001 impl.py:210(<dictcomp>)\n",
      "       79    0.000    0.000    0.013    0.000 threading.py:880(start)\n",
      "      100    0.000    0.000    0.013    0.000 _base.py:201(as_completed)\n",
      "      110    0.000    0.000    0.005    0.000 _base.py:418(result)\n",
      "       30    0.000    0.000    0.005    0.000 _base.py:602(result_iterator)\n",
      "       10    0.000    0.000    0.002    0.000 _base.py:573(map)\n",
      "       10    0.000    0.000    0.002    0.000 _base.py:598(<listcomp>)\n",
      "       79    0.002    0.000    0.002    0.000 {built-in method _thread.start_new_thread}"
     ]
    }
   ],
   "source": [
    "%%prun -s cumulative -l 20 -T 09-n_samples_small_1000.txt\n",
    "func()"
   ]
  },
  {
   "cell_type": "markdown",
   "id": "f6b9adcf-1da4-4496-b05f-47952fd80d7f",
   "metadata": {
    "papermill": {
     "duration": 0.099861,
     "end_time": "2021-12-02T04:34:51.394504",
     "exception": false,
     "start_time": "2021-12-02T04:34:51.294643",
     "status": "completed"
    },
    "tags": []
   },
   "source": [
    "# Run with `n_samples` large"
   ]
  },
  {
   "cell_type": "markdown",
   "id": "8f2e407c",
   "metadata": {
    "papermill": {
     "duration": 0.098767,
     "end_time": "2021-12-02T04:34:51.593072",
     "exception": false,
     "start_time": "2021-12-02T04:34:51.494305",
     "status": "completed"
    },
    "tags": []
   },
   "source": [
    "## `n_samples=50000`"
   ]
  },
  {
   "cell_type": "code",
   "execution_count": 26,
   "id": "c522396e",
   "metadata": {
    "execution": {
     "iopub.execute_input": "2021-12-02T04:34:51.793258Z",
     "iopub.status.busy": "2021-12-02T04:34:51.792385Z",
     "iopub.status.idle": "2021-12-02T04:34:51.794710Z",
     "shell.execute_reply": "2021-12-02T04:34:51.795054Z"
    },
    "papermill": {
     "duration": 0.103749,
     "end_time": "2021-12-02T04:34:51.795172",
     "exception": false,
     "start_time": "2021-12-02T04:34:51.691423",
     "status": "completed"
    },
    "tags": []
   },
   "outputs": [],
   "source": [
    "N_SAMPLES = 50000"
   ]
  },
  {
   "cell_type": "code",
   "execution_count": 27,
   "id": "a5e536cc",
   "metadata": {
    "execution": {
     "iopub.execute_input": "2021-12-02T04:34:51.996666Z",
     "iopub.status.busy": "2021-12-02T04:34:51.996120Z",
     "iopub.status.idle": "2021-12-02T04:34:51.999329Z",
     "shell.execute_reply": "2021-12-02T04:34:51.998896Z"
    },
    "papermill": {
     "duration": 0.104554,
     "end_time": "2021-12-02T04:34:51.999423",
     "exception": false,
     "start_time": "2021-12-02T04:34:51.894869",
     "status": "completed"
    },
    "tags": []
   },
   "outputs": [],
   "source": [
    "x = np.random.rand(N_SAMPLES)\n",
    "y = np.random.rand(N_SAMPLES)"
   ]
  },
  {
   "cell_type": "code",
   "execution_count": 28,
   "id": "91470f64",
   "metadata": {
    "execution": {
     "iopub.execute_input": "2021-12-02T04:34:52.408864Z",
     "iopub.status.busy": "2021-12-02T04:34:52.408310Z",
     "iopub.status.idle": "2021-12-02T04:35:28.383597Z",
     "shell.execute_reply": "2021-12-02T04:35:28.384010Z"
    },
    "papermill": {
     "duration": 36.078113,
     "end_time": "2021-12-02T04:35:28.384125",
     "exception": false,
     "start_time": "2021-12-02T04:34:52.306012",
     "status": "completed"
    },
    "tags": []
   },
   "outputs": [
    {
     "name": "stdout",
     "output_type": "stream",
     "text": [
      "967 ms ± 5.67 ms per loop (mean ± std. dev. of 7 runs, 1 loop each)\n"
     ]
    }
   ],
   "source": [
    "%%timeit func()\n",
    "func()"
   ]
  },
  {
   "cell_type": "code",
   "execution_count": 29,
   "id": "4de4e0b0",
   "metadata": {
    "execution": {
     "iopub.execute_input": "2021-12-02T04:35:28.594907Z",
     "iopub.status.busy": "2021-12-02T04:35:28.594395Z",
     "iopub.status.idle": "2021-12-02T04:35:30.850079Z",
     "shell.execute_reply": "2021-12-02T04:35:30.850466Z"
    },
    "papermill": {
     "duration": 2.36055,
     "end_time": "2021-12-02T04:35:30.850581",
     "exception": false,
     "start_time": "2021-12-02T04:35:28.490031",
     "status": "completed"
    },
    "tags": []
   },
   "outputs": [
    {
     "name": "stdout",
     "output_type": "stream",
     "text": [
      " \n",
      "*** Profile printout saved to text file '09-n_samples_large_50000.txt'. \n"
     ]
    },
    {
     "name": "stdout",
     "output_type": "stream",
     "text": [
      "         12363 function calls in 0.957 seconds\n",
      "\n",
      "   Ordered by: cumulative time\n",
      "   List reduced from 114 to 20 due to restriction <20>\n",
      "\n",
      "   ncalls  tottime  percall  cumtime  percall filename:lineno(function)\n",
      "        1    0.000    0.000    0.957    0.957 {built-in method builtins.exec}\n",
      "        1    0.000    0.000    0.957    0.957 <string>:1(<module>)\n",
      "        1    0.009    0.009    0.957    0.957 158102722.py:1(func)\n",
      "       10    0.013    0.001    0.949    0.095 impl.py:307(ccc)\n",
      "     1148    0.917    0.001    0.917    0.001 {method 'acquire' of '_thread.lock' objects}\n",
      "      274    0.001    0.000    0.914    0.003 threading.py:280(wait)\n",
      "       10    0.000    0.000    0.473    0.047 impl.py:492(compute_coef)\n",
      "       10    0.000    0.000    0.472    0.047 impl.py:485(cdist_func)\n",
      "       10    0.001    0.000    0.472    0.047 impl.py:192(cdist_parts_parallel)\n",
      "      170    0.000    0.000    0.464    0.003 threading.py:563(wait)\n",
      "      100    0.001    0.000    0.455    0.005 _base.py:201(as_completed)\n",
      "      110    0.000    0.000    0.450    0.004 _base.py:418(result)\n",
      "       30    0.000    0.000    0.450    0.015 _base.py:602(result_iterator)\n",
      "      110    0.000    0.000    0.016    0.000 thread.py:161(submit)\n",
      "       10    0.002    0.000    0.015    0.002 impl.py:210(<dictcomp>)\n",
      "      110    0.000    0.000    0.015    0.000 thread.py:180(_adjust_thread_count)\n",
      "       80    0.000    0.000    0.013    0.000 threading.py:880(start)\n",
      "       10    0.000    0.000    0.006    0.001 _base.py:636(__exit__)\n",
      "       10    0.000    0.000    0.006    0.001 thread.py:216(shutdown)\n",
      "       80    0.000    0.000    0.005    0.000 threading.py:1028(join)"
     ]
    }
   ],
   "source": [
    "%%prun -s cumulative -l 20 -T 09-n_samples_large_50000.txt\n",
    "func()"
   ]
  },
  {
   "cell_type": "markdown",
   "id": "b0c07894",
   "metadata": {
    "papermill": {
     "duration": 0.100749,
     "end_time": "2021-12-02T04:35:31.053465",
     "exception": false,
     "start_time": "2021-12-02T04:35:30.952716",
     "status": "completed"
    },
    "tags": []
   },
   "source": [
    "## `n_samples=100000`"
   ]
  },
  {
   "cell_type": "code",
   "execution_count": 30,
   "id": "7fb2ab2e-a6de-412b-9540-d00f8641290e",
   "metadata": {
    "execution": {
     "iopub.execute_input": "2021-12-02T04:35:31.262806Z",
     "iopub.status.busy": "2021-12-02T04:35:31.262280Z",
     "iopub.status.idle": "2021-12-02T04:35:31.264634Z",
     "shell.execute_reply": "2021-12-02T04:35:31.264124Z"
    },
    "papermill": {
     "duration": 0.110468,
     "end_time": "2021-12-02T04:35:31.264738",
     "exception": false,
     "start_time": "2021-12-02T04:35:31.154270",
     "status": "completed"
    },
    "tags": []
   },
   "outputs": [],
   "source": [
    "N_SAMPLES = 100000"
   ]
  },
  {
   "cell_type": "code",
   "execution_count": 31,
   "id": "81765e91",
   "metadata": {
    "execution": {
     "iopub.execute_input": "2021-12-02T04:35:31.472530Z",
     "iopub.status.busy": "2021-12-02T04:35:31.472083Z",
     "iopub.status.idle": "2021-12-02T04:35:31.475862Z",
     "shell.execute_reply": "2021-12-02T04:35:31.475424Z"
    },
    "papermill": {
     "duration": 0.107444,
     "end_time": "2021-12-02T04:35:31.476016",
     "exception": false,
     "start_time": "2021-12-02T04:35:31.368572",
     "status": "completed"
    },
    "tags": []
   },
   "outputs": [],
   "source": [
    "x = np.random.rand(N_SAMPLES)\n",
    "y = np.random.rand(N_SAMPLES)"
   ]
  },
  {
   "cell_type": "code",
   "execution_count": 32,
   "id": "aca57100",
   "metadata": {
    "execution": {
     "iopub.execute_input": "2021-12-02T04:35:31.892045Z",
     "iopub.status.busy": "2021-12-02T04:35:31.891417Z",
     "iopub.status.idle": "2021-12-02T04:36:46.681345Z",
     "shell.execute_reply": "2021-12-02T04:36:46.681695Z"
    },
    "papermill": {
     "duration": 74.896315,
     "end_time": "2021-12-02T04:36:46.681806",
     "exception": false,
     "start_time": "2021-12-02T04:35:31.785491",
     "status": "completed"
    },
    "tags": []
   },
   "outputs": [
    {
     "name": "stdout",
     "output_type": "stream",
     "text": [
      "1.96 s ± 3.37 ms per loop (mean ± std. dev. of 7 runs, 1 loop each)\n"
     ]
    }
   ],
   "source": [
    "%%timeit func()\n",
    "func()"
   ]
  },
  {
   "cell_type": "code",
   "execution_count": 33,
   "id": "b9c25f30",
   "metadata": {
    "execution": {
     "iopub.execute_input": "2021-12-02T04:36:46.889124Z",
     "iopub.status.busy": "2021-12-02T04:36:46.888441Z",
     "iopub.status.idle": "2021-12-02T04:36:51.544747Z",
     "shell.execute_reply": "2021-12-02T04:36:51.544315Z"
    },
    "papermill": {
     "duration": 4.761869,
     "end_time": "2021-12-02T04:36:51.544839",
     "exception": false,
     "start_time": "2021-12-02T04:36:46.782970",
     "status": "completed"
    },
    "tags": []
   },
   "outputs": [
    {
     "name": "stdout",
     "output_type": "stream",
     "text": [
      " \n",
      "*** Profile printout saved to text file '09-n_samples_large_100000.txt'. \n"
     ]
    },
    {
     "name": "stdout",
     "output_type": "stream",
     "text": [
      "         12320 function calls in 1.962 seconds\n",
      "\n",
      "   Ordered by: cumulative time\n",
      "   List reduced from 114 to 20 due to restriction <20>\n",
      "\n",
      "   ncalls  tottime  percall  cumtime  percall filename:lineno(function)\n",
      "        1    0.000    0.000    1.962    1.962 {built-in method builtins.exec}\n",
      "        1    0.000    0.000    1.962    1.962 <string>:1(<module>)\n",
      "        1    0.014    0.014    1.962    1.962 158102722.py:1(func)\n",
      "       10    0.021    0.002    1.948    0.195 impl.py:307(ccc)\n",
      "     1142    1.898    0.002    1.898    0.002 {method 'acquire' of '_thread.lock' objects}\n",
      "      271    0.001    0.000    1.896    0.007 threading.py:280(wait)\n",
      "       10    0.000    0.000    0.962    0.096 impl.py:492(compute_coef)\n",
      "       10    0.000    0.000    0.962    0.096 impl.py:485(cdist_func)\n",
      "       10    0.001    0.000    0.961    0.096 impl.py:192(cdist_parts_parallel)\n",
      "      170    0.000    0.000    0.952    0.006 threading.py:563(wait)\n",
      "      110    0.000    0.000    0.945    0.009 _base.py:418(result)\n",
      "       30    0.000    0.000    0.945    0.031 _base.py:602(result_iterator)\n",
      "      100    0.001    0.000    0.941    0.009 _base.py:201(as_completed)\n",
      "       10    0.004    0.000    0.018    0.002 impl.py:210(<dictcomp>)\n",
      "      110    0.000    0.000    0.018    0.000 thread.py:161(submit)\n",
      "      110    0.000    0.000    0.017    0.000 thread.py:180(_adjust_thread_count)\n",
      "       80    0.000    0.000    0.015    0.000 threading.py:880(start)\n",
      "       50    0.012    0.000    0.012    0.000 {built-in method numpy.zeros}\n",
      "       10    0.000    0.000    0.004    0.000 _base.py:636(__exit__)\n",
      "       10    0.000    0.000    0.004    0.000 thread.py:216(shutdown)"
     ]
    }
   ],
   "source": [
    "%%prun -s cumulative -l 20 -T 09-n_samples_large_100000.txt\n",
    "func()"
   ]
  },
  {
   "cell_type": "code",
   "execution_count": null,
   "id": "2aa76596-f126-4ba8-8bba-4d31225e0e5d",
   "metadata": {
    "papermill": {
     "duration": 0.102208,
     "end_time": "2021-12-02T04:36:51.764154",
     "exception": false,
     "start_time": "2021-12-02T04:36:51.661946",
     "status": "completed"
    },
    "tags": []
   },
   "outputs": [],
   "source": []
  }
 ],
 "metadata": {
  "jupytext": {
   "cell_metadata_filter": "all,-execution,-papermill,-trusted"
  },
  "kernelspec": {
   "display_name": "Python 3 (ipykernel)",
   "language": "python",
   "name": "python3"
  },
  "language_info": {
   "codemirror_mode": {
    "name": "ipython",
    "version": 3
   },
   "file_extension": ".py",
   "mimetype": "text/x-python",
   "name": "python",
   "nbconvert_exporter": "python",
   "pygments_lexer": "ipython3",
   "version": "3.9.18"
  },
  "papermill": {
   "default_parameters": {},
   "duration": 167.355469,
   "end_time": "2021-12-02T04:36:52.275357",
   "environment_variables": {},
   "exception": null,
   "input_path": "nbs/others/05_clustermatch_profiling/10_cm_optimized/09-cdist_parts_v04.ipynb",
   "output_path": "nbs/others/05_clustermatch_profiling/10_cm_optimized/09-cdist_parts_v04.run.ipynb",
   "parameters": {},
   "start_time": "2021-12-02T04:34:04.919888",
   "version": "2.3.3"
  }
 },
 "nbformat": 4,
 "nbformat_minor": 5
}
