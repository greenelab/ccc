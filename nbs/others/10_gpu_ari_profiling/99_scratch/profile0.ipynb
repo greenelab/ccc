{
 "cells": [
  {
   "cell_type": "code",
   "execution_count": 63,
   "metadata": {},
   "outputs": [],
   "source": [
    "import os\n",
    "import sys\n",
    "from pathlib import Path\n",
    "from IPython import get_ipython\n",
    "\n",
    "root_dir = Path(os.path.abspath('')) / 'nbs/others/10_gpu_ari_profiling'\n",
    "common_dir = root_dir / 'common'\n",
    "sys.path.append(str(common_dir))\n",
    "\n",
    "this_name = \"profile0\"\n",
    "this_path = root_dir / '99_scratch' / this_name"
   ]
  },
  {
   "cell_type": "code",
   "execution_count": 64,
   "metadata": {},
   "outputs": [],
   "source": [
    "import numpy as np\n",
    "\n",
    "from utils import generate_bench_filename\n",
    "from ccc.coef import ccc"
   ]
  },
  {
   "cell_type": "code",
   "execution_count": 65,
   "metadata": {},
   "outputs": [],
   "source": [
    "# Disable Numba cuda info\n",
    "import logging\n",
    "\n",
    "numba_logger = logging.getLogger('numba')\n",
    "numba_logger.setLevel(logging.WARNING)"
   ]
  },
  {
   "cell_type": "code",
   "execution_count": 66,
   "metadata": {},
   "outputs": [],
   "source": [
    "np.random.seed(0)\n",
    "\n",
    "N_REPS = 10\n",
    "def func(n_reps=N_REPS):\n",
    "    for i in range(n_reps):\n",
    "        ccc(x, y, n_jobs=1)\n",
    "        \n",
    "N_SAMPLES = 500000\n",
    "x = np.random.rand(N_SAMPLES)\n",
    "y = np.random.rand(N_SAMPLES)"
   ]
  },
  {
   "cell_type": "code",
   "execution_count": 67,
   "metadata": {},
   "outputs": [],
   "source": [
    "outfile = generate_bench_filename(this_path, \"n_samples\", N_SAMPLES)"
   ]
  },
  {
   "cell_type": "code",
   "execution_count": 68,
   "metadata": {},
   "outputs": [
    {
     "name": "stdout",
     "output_type": "stream",
     "text": [
      " \n",
      "*** Profile printout saved to text file '/home/haoyu/_database/projs/ccc-gpu/nbs/others/10_gpu_ari_profiling/99_scratch/profile0_n_samples_500000.txt'. \n",
      " "
     ]
    },
    {
     "name": "stdout",
     "output_type": "stream",
     "text": [
      "         665 function calls in 39.215 seconds\n",
      "\n",
      "   Ordered by: internal time\n",
      "\n",
      "   ncalls  tottime  percall  cumtime  percall filename:lineno(function)\n",
      "        1   39.215   39.215   39.215   39.215 {method 'enable' of '_lsprof.Profiler' objects}\n",
      "        7    0.000    0.000    0.000    0.000 shlex.py:133(read_token)\n",
      "        1    0.000    0.000   39.215   39.215 {built-in method builtins.exec}\n",
      "        6    0.000    0.000    0.000    0.000 tokenize.py:429(_tokenize)\n",
      "       22    0.000    0.000    0.000    0.000 traitlets.py:676(__get__)\n",
      "       22    0.000    0.000    0.000    0.000 traitlets.py:629(get)\n",
      "        1    0.000    0.000    0.000    0.000 inspect.py:2909(_bind)\n",
      "        1    0.000    0.000    0.000    0.000 magic.py:621(parse_options)\n",
      "      149    0.000    0.000    0.000    0.000 shlex.py:68(punctuation_chars)\n",
      "        1    0.000    0.000    0.000    0.000 inputtransformer2.py:462(make_tokens_by_line)\n",
      "        1    0.000    0.000    0.000    0.000 prefilter.py:255(find_handler)\n",
      "        1    0.000    0.000    0.000    0.000 getopt.py:56(getopt)\n",
      "        1    0.000    0.000    0.000    0.000 ipstruct.py:273(merge)\n",
      "        1    0.000    0.000    0.000    0.000 interactiveshell.py:3275(transform_cell)\n",
      "        1    0.000    0.000    0.000    0.000 inputtransformer2.py:579(transform_cell)\n",
      "      134    0.000    0.000    0.000    0.000 {method 'read' of '_io.StringIO' objects}\n",
      "        7    0.000    0.000    0.000    0.000 shlex.py:101(get_token)\n",
      "        8    0.000    0.000    0.000    0.000 {method 'match' of 're.Pattern' objects}\n",
      "        3    0.000    0.000    0.000    0.000 getopt.py:192(do_shorts)\n",
      "        1    0.000    0.000   39.215   39.215 interactiveshell.py:2430(run_cell_magic)\n",
      "        1    0.000    0.000    0.000    0.000 inspect.py:2648(args)\n",
      "       15    0.000    0.000    0.000    0.000 {built-in method builtins.next}\n",
      "        7    0.000    0.000    0.000    0.000 shlex.py:299(__next__)\n",
      "        1    0.000    0.000    0.000    0.000 inputtransformer2.py:538(do_one_token_transform)\n",
      "        1    0.000    0.000   39.215   39.215 execution.py:195(prun)\n",
      "        1    0.000    0.000    0.000    0.000 prefilter.py:271(prefilter_line)\n",
      "        1    0.000    0.000    0.000    0.000 inspect.py:2701(apply_defaults)\n",
      "        1    0.000    0.000   39.215   39.215 execution.py:319(_run_with_profiler)\n",
      "        1    0.000    0.000    0.000    0.000 splitinput.py:53(split_user_input)\n",
      "        3    0.000    0.000    0.000    0.000 getopt.py:207(short_has_arg)\n",
      "        1    0.000    0.000    0.000    0.000 _process_common.py:177(arg_split)\n",
      "        4    0.000    0.000    0.000    0.000 re.py:289(_compile)\n",
      "        1    0.000    0.000    0.000    0.000 decorator.py:199(fix)\n",
      "        5    0.000    0.000    0.000    0.000 <string>:1(<lambda>)\n",
      "        4    0.000    0.000    0.000    0.000 inputtransformer2.py:108(_find_assign_op)\n",
      "        1    0.000    0.000    0.000    0.000 shlex.py:21(__init__)\n",
      "        1    0.000    0.000    0.000    0.000 inspect.py:2671(kwargs)\n",
      "        1    0.000    0.000    0.000    0.000 getipython.py:17(get_ipython)\n",
      "        4    0.000    0.000    0.000    0.000 types.py:171(__get__)\n",
      "       44    0.000    0.000    0.000    0.000 typing.py:1375(cast)\n",
      "        4    0.000    0.000    0.000    0.000 tokenize.py:98(_compile)\n",
      "        1    0.000    0.000   39.215   39.215 <string>:1(<module>)\n",
      "        1    0.000    0.000    0.000    0.000 prefilter.py:314(prefilter_lines)\n",
      "        4    0.000    0.000    0.000    0.000 re.py:250(compile)\n",
      "        1    0.000    0.000    0.000    0.000 prefilter.py:458(check)\n",
      "        1    0.000    0.000    0.000    0.000 interactiveshell.py:2481(find_cell_magic)\n",
      "        2    0.000    0.000    0.000    0.000 ipstruct.py:41(__init__)\n",
      "        1    0.000    0.000   39.215   39.215 decorator.py:229(fun)\n",
      "        1    0.000    0.000    0.000    0.000 inputtransformer2.py:23(leading_empty_lines)\n",
      "       13    0.000    0.000    0.000    0.000 {method 'startswith' of 'str' objects}\n",
      "        1    0.000    0.000    0.000    0.000 splitinput.py:110(__init__)\n",
      "       21    0.000    0.000    0.000    0.000 {method 'append' of 'list' objects}\n",
      "        1    0.000    0.000    0.000    0.000 inputtransformer2.py:36(leading_indent)\n",
      "        1    0.000    0.000    0.000    0.000 inputtransformer2.py:216(find)\n",
      "        1    0.000    0.000    0.000    0.000 inputtransformer2.py:570(do_token_transforms)\n",
      "        1    0.000    0.000    0.000    0.000 inputtransformer2.py:368(find)\n",
      "        1    0.000    0.000    0.000    0.000 prefilter.py:414(check)\n",
      "        1    0.000    0.000    0.000    0.000 prefilter.py:482(check)\n",
      "        4    0.000    0.000    0.000    0.000 ipstruct.py:66(__setitem__)\n",
      "       15    0.000    0.000    0.000    0.000 inspect.py:2560(kind)\n",
      "        1    0.000    0.000    0.000    0.000 prefilter.py:426(check)\n",
      "        1    0.000    0.000    0.000    0.000 prefilter.py:246(prefilter_line_info)\n",
      "        2    0.000    0.000    0.000    0.000 inputtransformer2.py:81(__call__)\n",
      "       15    0.000    0.000    0.000    0.000 {built-in method builtins.len}\n",
      "        1    0.000    0.000    0.000    0.000 interactiveshell.py:2344(_find_with_lazy_load)\n",
      "        1    0.000    0.000    0.000    0.000 inputtransformer2.py:248(find)\n",
      "        1    0.000    0.000    0.000    0.000 interactiveshell.py:2487(find_magic)\n",
      "        1    0.000    0.000    0.000    0.000 configurable.py:597(initialized)\n",
      "       11    0.000    0.000    0.000    0.000 {method 'get' of 'dict' objects}\n",
      "        1    0.000    0.000    0.000    0.000 inspect.py:3040(bind)\n",
      "        9    0.000    0.000    0.000    0.000 {built-in method builtins.isinstance}\n",
      "        1    0.000    0.000   39.215   39.215 magic.py:187(<lambda>)\n",
      "        1    0.000    0.000    0.000    0.000 configurable.py:553(instance)\n",
      "        1    0.000    0.000    0.000    0.000 prefilter.py:264(transform_line)\n",
      "        1    0.000    0.000   39.215   39.215 cProfile.py:98(runctx)\n",
      "        1    0.000    0.000    0.000    0.000 inputtransformer2.py:428(find)\n",
      "        2    0.000    0.000    0.000    0.000 builtin_trap.py:39(__enter__)\n",
      "        2    0.000    0.000    0.000    0.000 {method 'split' of 'str' objects}\n",
      "        5    0.000    0.000    0.000    0.000 {built-in method __new__ of type object at 0x5d1ba0e40380}\n",
      "        2    0.000    0.000    0.000    0.000 prefilter.py:234(get_handler_by_name)\n",
      "        3    0.000    0.000    0.000    0.000 {method 'splitlines' of 'str' objects}\n",
      "        1    0.000    0.000    0.000    0.000 {built-in method fromkeys}\n",
      "        6    0.000    0.000    0.000    0.000 inspect.py:2548(name)\n",
      "        1    0.000    0.000    0.000    0.000 encoding.py:21(get_stream_enc)\n",
      "        1    0.000    0.000    0.000    0.000 inputtransformer2.py:96(cell_magic)\n",
      "        4    0.000    0.000    0.000    0.000 enum.py:792(value)\n",
      "        2    0.000    0.000    0.000    0.000 {built-in method builtins.getattr}\n",
      "        3    0.000    0.000    0.000    0.000 ipstruct.py:364(<lambda>)\n",
      "        1    0.000    0.000    0.000    0.000 prefilter.py:183(checkers)\n",
      "        4    0.000    0.000    0.000    0.000 inspect.py:2865(parameters)\n",
      "        4    0.000    0.000    0.000    0.000 {method 'span' of 're.Match' objects}\n",
      "        1    0.000    0.000    0.000    0.000 builtin_trap.py:46(__exit__)\n",
      "        2    0.000    0.000    0.000    0.000 {built-in method builtins.hasattr}\n",
      "        3    0.000    0.000    0.000    0.000 {method 'items' of 'mappingproxy' objects}\n",
      "        1    0.000    0.000    0.000    0.000 prefilter.py:549(handle)\n",
      "        3    0.000    0.000    0.000    0.000 {built-in method builtins.iter}\n",
      "        1    0.000    0.000    0.000    0.000 prefilter.py:440(check)\n",
      "        1    0.000    0.000    0.000    0.000 {method 'groups' of 're.Match' objects}\n",
      "        3    0.000    0.000    0.000    0.000 {method 'isidentifier' of 'str' objects}\n",
      "        1    0.000    0.000    0.000    0.000 py3compat.py:26(cast_unicode)\n",
      "        1    0.000    0.000    0.000    0.000 inspect.py:2640(__init__)\n",
      "        3    0.000    0.000    0.000    0.000 {method 'join' of 'str' objects}\n",
      "        1    0.000    0.000    0.000    0.000 tokenize.py:612(generate_tokens)\n",
      "        2    0.000    0.000    0.000    0.000 {method 'isspace' of 'str' objects}\n",
      "        3    0.000    0.000    0.000    0.000 {method 'strip' of 'str' objects}\n",
      "        1    0.000    0.000    0.000    0.000 {method 'values' of 'mappingproxy' objects}\n",
      "        1    0.000    0.000    0.000    0.000 {method 'endswith' of 'str' objects}\n",
      "        1    0.000    0.000    0.000    0.000 prefilter.py:147(transformers)\n",
      "        1    0.000    0.000    0.000    0.000 {method 'rstrip' of 'str' objects}\n",
      "        1    0.000    0.000    0.000    0.000 {built-in method sys._getframe}\n",
      "        1    0.000    0.000    0.000    0.000 {method 'lstrip' of 'str' objects}"
     ]
    }
   ],
   "source": [
    "# prun_cmd = f\"%%prun -s cumulative -l 25 -T {outfile}\"\n",
    "# get_ipython().run_cell_magic('prun', prun_cmd, 'func()')\n",
    "# Use cProfile instead of prun magic"
   ]
  }
 ],
 "metadata": {
  "kernelspec": {
   "display_name": "Python 3 (ipykernel)",
   "language": "python",
   "name": "python3"
  },
  "language_info": {
   "codemirror_mode": {
    "name": "ipython",
    "version": 3
   },
   "file_extension": ".py",
   "mimetype": "text/x-python",
   "name": "python",
   "nbconvert_exporter": "python",
   "pygments_lexer": "ipython3",
   "version": "3.9.18"
  }
 },
 "nbformat": 4,
 "nbformat_minor": 2
}
