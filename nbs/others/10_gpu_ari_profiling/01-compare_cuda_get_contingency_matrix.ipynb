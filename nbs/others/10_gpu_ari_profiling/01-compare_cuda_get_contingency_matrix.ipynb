{
 "cells": [
  {
   "metadata": {},
   "cell_type": "markdown",
   "source": "# Description",
   "id": "392e118bbc62f138"
  },
  {
   "metadata": {},
   "cell_type": "markdown",
   "source": "Compares two different ccc implementations: one using the fully optimized CPU version of ccc, and the other one using new cuda-implemented `get_contingency_matrix`",
   "id": "337633a8-d03e-4509-b89d-f8daee598958"
  },
  {
   "cell_type": "markdown",
   "id": "94028e4a-a49a-47b1-94c1-9eddd4e4a488",
   "metadata": {
    "papermill": {
     "duration": 0.095296,
     "end_time": "2021-12-02T04:36:58.107054",
     "exception": false,
     "start_time": "2021-12-02T04:36:58.011758",
     "status": "completed"
    },
    "tags": []
   },
   "source": [
    "# Remove pycache dir"
   ]
  },
  {
   "cell_type": "code",
   "id": "960c4ff0-2a73-4eaa-97d6-3269102233eb",
   "metadata": {
    "execution": {
     "iopub.execute_input": "2021-12-02T04:36:58.301605Z",
     "iopub.status.busy": "2021-12-02T04:36:58.301130Z",
     "iopub.status.idle": "2021-12-02T04:36:58.896724Z",
     "shell.execute_reply": "2021-12-02T04:36:58.898251Z"
    },
    "papermill": {
     "duration": 0.695866,
     "end_time": "2021-12-02T04:36:58.898699",
     "exception": false,
     "start_time": "2021-12-02T04:36:58.202833",
     "status": "completed"
    },
    "tags": [],
    "ExecuteTime": {
     "end_time": "2024-05-30T17:14:07.119048Z",
     "start_time": "2024-05-30T17:14:06.816596Z"
    }
   },
   "source": [
    "!echo ${CODE_DIR}"
   ],
   "outputs": [
    {
     "name": "stdout",
     "output_type": "stream",
     "text": [
      "\r\n"
     ]
    }
   ],
   "execution_count": 21
  },
  {
   "cell_type": "code",
   "id": "e18db58a-316a-445b-a376-8b2ec18e08d8",
   "metadata": {
    "execution": {
     "iopub.execute_input": "2021-12-02T04:36:59.126956Z",
     "iopub.status.busy": "2021-12-02T04:36:59.126507Z",
     "iopub.status.idle": "2021-12-02T04:36:59.738873Z",
     "shell.execute_reply": "2021-12-02T04:36:59.737339Z"
    },
    "papermill": {
     "duration": 0.711841,
     "end_time": "2021-12-02T04:36:59.739258",
     "exception": false,
     "start_time": "2021-12-02T04:36:59.027417",
     "status": "completed"
    },
    "tags": [],
    "ExecuteTime": {
     "end_time": "2024-05-30T17:14:07.411709Z",
     "start_time": "2024-05-30T17:14:07.120184Z"
    }
   },
   "source": [
    "!find ${CODE_DIR} -regex '^.*\\(__pycache__\\)$' -print"
   ],
   "outputs": [],
   "execution_count": 22
  },
  {
   "cell_type": "code",
   "id": "b54099b0-a990-4bbd-bcbd-e206eb0f0f0e",
   "metadata": {
    "execution": {
     "iopub.execute_input": "2021-12-02T04:36:59.968702Z",
     "iopub.status.busy": "2021-12-02T04:36:59.968236Z",
     "iopub.status.idle": "2021-12-02T04:37:00.578610Z",
     "shell.execute_reply": "2021-12-02T04:37:00.576770Z"
    },
    "papermill": {
     "duration": 0.710822,
     "end_time": "2021-12-02T04:37:00.578986",
     "exception": false,
     "start_time": "2021-12-02T04:36:59.868164",
     "status": "completed"
    },
    "tags": [],
    "ExecuteTime": {
     "end_time": "2024-05-30T17:14:07.693673Z",
     "start_time": "2024-05-30T17:14:07.412618Z"
    }
   },
   "source": [
    "!find ${CODE_DIR} -regex '^.*\\(__pycache__\\)$' -prune -exec rm -rf {} \\;"
   ],
   "outputs": [],
   "execution_count": 23
  },
  {
   "cell_type": "code",
   "id": "7a9a8098-8160-46bf-8d83-bc398cbe2382",
   "metadata": {
    "execution": {
     "iopub.execute_input": "2021-12-02T04:37:00.786314Z",
     "iopub.status.busy": "2021-12-02T04:37:00.785859Z",
     "iopub.status.idle": "2021-12-02T04:37:01.385162Z",
     "shell.execute_reply": "2021-12-02T04:37:01.383549Z"
    },
    "papermill": {
     "duration": 0.699623,
     "end_time": "2021-12-02T04:37:01.385635",
     "exception": false,
     "start_time": "2021-12-02T04:37:00.686012",
     "status": "completed"
    },
    "tags": [],
    "ExecuteTime": {
     "end_time": "2024-05-30T17:14:07.974400Z",
     "start_time": "2024-05-30T17:14:07.695008Z"
    }
   },
   "source": [
    "!find ${CODE_DIR} -regex '^.*\\(__pycache__\\)$' -print"
   ],
   "outputs": [],
   "execution_count": 24
  },
  {
   "cell_type": "markdown",
   "id": "c2251313-41ac-46fd-a845-0f209689ecf6",
   "metadata": {
    "papermill": {
     "duration": 0.100188,
     "end_time": "2021-12-02T04:37:01.613793",
     "exception": false,
     "start_time": "2021-12-02T04:37:01.513605",
     "status": "completed"
    },
    "tags": []
   },
   "source": [
    "# Modules"
   ]
  },
  {
   "cell_type": "code",
   "id": "987ef5f1-be49-4a6c-a4f4-b24a0a2094cb",
   "metadata": {
    "execution": {
     "iopub.execute_input": "2021-12-02T04:37:01.816619Z",
     "iopub.status.busy": "2021-12-02T04:37:01.816158Z",
     "iopub.status.idle": "2021-12-02T04:37:02.101993Z",
     "shell.execute_reply": "2021-12-02T04:37:02.102363Z"
    },
    "papermill": {
     "duration": 0.386175,
     "end_time": "2021-12-02T04:37:02.102492",
     "exception": false,
     "start_time": "2021-12-02T04:37:01.716317",
     "status": "completed"
    },
    "tags": [],
    "ExecuteTime": {
     "end_time": "2024-05-30T17:14:07.977083Z",
     "start_time": "2024-05-30T17:14:07.975252Z"
    }
   },
   "source": [
    "import numpy as np\n",
    "\n",
    "from ccc.coef import ccc"
   ],
   "outputs": [],
   "execution_count": 25
  },
  {
   "cell_type": "markdown",
   "id": "24399ccb-d33d-4bad-9baf-638c9c56feb2",
   "metadata": {
    "papermill": {
     "duration": 0.096349,
     "end_time": "2021-12-02T04:37:02.297213",
     "exception": false,
     "start_time": "2021-12-02T04:37:02.200864",
     "status": "completed"
    },
    "tags": []
   },
   "source": [
    "# Settings"
   ]
  },
  {
   "cell_type": "code",
   "id": "c609cefa-f513-4cf8-9573-367744e31c5f",
   "metadata": {
    "execution": {
     "iopub.execute_input": "2021-12-02T04:37:02.493291Z",
     "iopub.status.busy": "2021-12-02T04:37:02.492829Z",
     "iopub.status.idle": "2021-12-02T04:37:02.494753Z",
     "shell.execute_reply": "2021-12-02T04:37:02.494311Z"
    },
    "papermill": {
     "duration": 0.101239,
     "end_time": "2021-12-02T04:37:02.494848",
     "exception": false,
     "start_time": "2021-12-02T04:37:02.393609",
     "status": "completed"
    },
    "tags": [],
    "ExecuteTime": {
     "end_time": "2024-05-30T17:14:07.981434Z",
     "start_time": "2024-05-30T17:14:07.977494Z"
    }
   },
   "source": [
    "N_REPS = 10"
   ],
   "outputs": [],
   "execution_count": 26
  },
  {
   "cell_type": "code",
   "id": "c0341a42-b8de-419f-ab37-1e4fee9dde75",
   "metadata": {
    "execution": {
     "iopub.execute_input": "2021-12-02T04:37:02.702329Z",
     "iopub.status.busy": "2021-12-02T04:37:02.701871Z",
     "iopub.status.idle": "2021-12-02T04:37:02.703366Z",
     "shell.execute_reply": "2021-12-02T04:37:02.703704Z"
    },
    "papermill": {
     "duration": 0.1113,
     "end_time": "2021-12-02T04:37:02.703820",
     "exception": false,
     "start_time": "2021-12-02T04:37:02.592520",
     "status": "completed"
    },
    "tags": [],
    "ExecuteTime": {
     "end_time": "2024-05-30T17:14:07.984622Z",
     "start_time": "2024-05-30T17:14:07.981817Z"
    }
   },
   "source": [
    "np.random.seed(0)"
   ],
   "outputs": [],
   "execution_count": 27
  },
  {
   "cell_type": "markdown",
   "id": "6fd3067b-a4f7-475e-9575-20246934537d",
   "metadata": {
    "papermill": {
     "duration": 0.096196,
     "end_time": "2021-12-02T04:37:02.897029",
     "exception": false,
     "start_time": "2021-12-02T04:37:02.800833",
     "status": "completed"
    },
    "tags": []
   },
   "source": [
    "# Setup"
   ]
  },
  {
   "cell_type": "code",
   "id": "02e0507c-43ff-4693-8a3b-8ccd8f23168c",
   "metadata": {
    "execution": {
     "iopub.execute_input": "2021-12-02T04:37:03.093628Z",
     "iopub.status.busy": "2021-12-02T04:37:03.093157Z",
     "iopub.status.idle": "2021-12-02T04:37:03.105727Z",
     "shell.execute_reply": "2021-12-02T04:37:03.105340Z"
    },
    "papermill": {
     "duration": 0.112075,
     "end_time": "2021-12-02T04:37:03.105822",
     "exception": false,
     "start_time": "2021-12-02T04:37:02.993747",
     "status": "completed"
    },
    "tags": [],
    "ExecuteTime": {
     "end_time": "2024-05-30T17:14:07.989121Z",
     "start_time": "2024-05-30T17:14:07.985047Z"
    }
   },
   "source": [
    "# let numba compile all the code before profiling\n",
    "ccc(np.random.rand(10), np.random.rand(10))"
   ],
   "outputs": [
    {
     "data": {
      "text/plain": [
       "0.15625"
      ]
     },
     "execution_count": 28,
     "metadata": {},
     "output_type": "execute_result"
    }
   ],
   "execution_count": 28
  },
  {
   "cell_type": "markdown",
   "id": "8549179d-1517-4a40-9a51-b95dc02d0fcc",
   "metadata": {
    "papermill": {
     "duration": 0.096529,
     "end_time": "2021-12-02T04:37:03.300110",
     "exception": false,
     "start_time": "2021-12-02T04:37:03.203581",
     "status": "completed"
    },
    "tags": []
   },
   "source": [
    "# Run with `n_samples` small"
   ]
  },
  {
   "cell_type": "markdown",
   "id": "13ba811b",
   "metadata": {
    "papermill": {
     "duration": 0.096047,
     "end_time": "2021-12-02T04:37:03.492931",
     "exception": false,
     "start_time": "2021-12-02T04:37:03.396884",
     "status": "completed"
    },
    "tags": []
   },
   "source": [
    "## `n_samples=50`"
   ]
  },
  {
   "cell_type": "code",
   "id": "68064f0b",
   "metadata": {
    "execution": {
     "iopub.execute_input": "2021-12-02T04:37:03.698806Z",
     "iopub.status.busy": "2021-12-02T04:37:03.698362Z",
     "iopub.status.idle": "2021-12-02T04:37:03.700293Z",
     "shell.execute_reply": "2021-12-02T04:37:03.699905Z"
    },
    "papermill": {
     "duration": 0.111014,
     "end_time": "2021-12-02T04:37:03.700387",
     "exception": false,
     "start_time": "2021-12-02T04:37:03.589373",
     "status": "completed"
    },
    "tags": [],
    "ExecuteTime": {
     "end_time": "2024-05-30T17:14:07.990754Z",
     "start_time": "2024-05-30T17:14:07.989508Z"
    }
   },
   "source": [
    "N_SAMPLES = 50"
   ],
   "outputs": [],
   "execution_count": 29
  },
  {
   "cell_type": "code",
   "id": "6f2ff213-d6b7-458f-acbf-8c73dd497a2a",
   "metadata": {
    "execution": {
     "iopub.execute_input": "2021-12-02T04:37:03.899082Z",
     "iopub.status.busy": "2021-12-02T04:37:03.898619Z",
     "iopub.status.idle": "2021-12-02T04:37:03.900173Z",
     "shell.execute_reply": "2021-12-02T04:37:03.900511Z"
    },
    "papermill": {
     "duration": 0.102818,
     "end_time": "2021-12-02T04:37:03.900627",
     "exception": false,
     "start_time": "2021-12-02T04:37:03.797809",
     "status": "completed"
    },
    "tags": [],
    "ExecuteTime": {
     "end_time": "2024-05-30T17:14:07.993697Z",
     "start_time": "2024-05-30T17:14:07.991779Z"
    }
   },
   "source": [
    "x = np.random.rand(N_SAMPLES)\n",
    "y = np.random.rand(N_SAMPLES)"
   ],
   "outputs": [],
   "execution_count": 30
  },
  {
   "cell_type": "code",
   "id": "d63012be-4fc7-4fba-bccd-ad155905d1d6",
   "metadata": {
    "execution": {
     "iopub.execute_input": "2021-12-02T04:37:04.100786Z",
     "iopub.status.busy": "2021-12-02T04:37:04.100336Z",
     "iopub.status.idle": "2021-12-02T04:37:04.102671Z",
     "shell.execute_reply": "2021-12-02T04:37:04.102239Z"
    },
    "papermill": {
     "duration": 0.104055,
     "end_time": "2021-12-02T04:37:04.102764",
     "exception": false,
     "start_time": "2021-12-02T04:37:03.998709",
     "status": "completed"
    },
    "tags": [],
    "ExecuteTime": {
     "end_time": "2024-05-30T17:14:07.996579Z",
     "start_time": "2024-05-30T17:14:07.994049Z"
    }
   },
   "source": [
    "def func():\n",
    "    for i in range(N_REPS):\n",
    "        ccc(x, y)"
   ],
   "outputs": [],
   "execution_count": 31
  },
  {
   "cell_type": "code",
   "id": "c0abc65a-2f3c-4476-9c2a-f8d7753b75e6",
   "metadata": {
    "execution": {
     "iopub.execute_input": "2021-12-02T04:37:04.301684Z",
     "iopub.status.busy": "2021-12-02T04:37:04.301217Z",
     "iopub.status.idle": "2021-12-02T04:37:16.833925Z",
     "shell.execute_reply": "2021-12-02T04:37:16.833506Z"
    },
    "papermill": {
     "duration": 12.634709,
     "end_time": "2021-12-02T04:37:16.834035",
     "exception": false,
     "start_time": "2021-12-02T04:37:04.199326",
     "status": "completed"
    },
    "tags": [],
    "ExecuteTime": {
     "end_time": "2024-05-30T17:14:14.727550Z",
     "start_time": "2024-05-30T17:14:07.996952Z"
    }
   },
   "source": [
    "%%timeit func()\n",
    "func()"
   ],
   "outputs": [
    {
     "name": "stdout",
     "output_type": "stream",
     "text": [
      "8.2 ms ± 262 µs per loop (mean ± std. dev. of 7 runs, 100 loops each)\n"
     ]
    }
   ],
   "execution_count": 32
  },
  {
   "cell_type": "code",
   "id": "e80a7b02-310f-4bd9-90d5-2a41186db39e",
   "metadata": {
    "execution": {
     "iopub.execute_input": "2021-12-02T04:37:17.040287Z",
     "iopub.status.busy": "2021-12-02T04:37:17.039804Z",
     "iopub.status.idle": "2021-12-02T04:37:17.163025Z",
     "shell.execute_reply": "2021-12-02T04:37:17.162557Z"
    },
    "papermill": {
     "duration": 0.22787,
     "end_time": "2021-12-02T04:37:17.163123",
     "exception": false,
     "start_time": "2021-12-02T04:37:16.935253",
     "status": "completed"
    },
    "tags": [],
    "ExecuteTime": {
     "end_time": "2024-05-30T17:14:14.741654Z",
     "start_time": "2024-05-30T17:14:14.728385Z"
    }
   },
   "source": [
    "%%prun -s cumulative -l 20 -T 01-n_samples_small_50.txt\n",
    "func()"
   ],
   "outputs": [
    {
     "name": "stdout",
     "output_type": "stream",
     "text": [
      " \n",
      "*** Profile printout saved to text file '01-n_samples_small_50.txt'. \n"
     ]
    }
   ],
   "execution_count": 33
  },
  {
   "cell_type": "markdown",
   "id": "2548440c",
   "metadata": {
    "papermill": {
     "duration": 0.100385,
     "end_time": "2021-12-02T04:37:17.364961",
     "exception": false,
     "start_time": "2021-12-02T04:37:17.264576",
     "status": "completed"
    },
    "tags": []
   },
   "source": [
    "## `n_samples=100`"
   ]
  },
  {
   "cell_type": "code",
   "id": "ddb768d7-9b74-424c-bdb9-9e52b9e5b181",
   "metadata": {
    "execution": {
     "iopub.execute_input": "2021-12-02T04:37:17.599561Z",
     "iopub.status.busy": "2021-12-02T04:37:17.599055Z",
     "iopub.status.idle": "2021-12-02T04:37:17.600565Z",
     "shell.execute_reply": "2021-12-02T04:37:17.600913Z"
    },
    "papermill": {
     "duration": 0.111244,
     "end_time": "2021-12-02T04:37:17.601022",
     "exception": false,
     "start_time": "2021-12-02T04:37:17.489778",
     "status": "completed"
    },
    "tags": [],
    "ExecuteTime": {
     "end_time": "2024-05-30T17:14:14.743833Z",
     "start_time": "2024-05-30T17:14:14.742364Z"
    }
   },
   "source": [
    "N_SAMPLES = 100"
   ],
   "outputs": [],
   "execution_count": 34
  },
  {
   "cell_type": "code",
   "id": "161cf922-41f7-4ced-af1f-e3d25b36b200",
   "metadata": {
    "execution": {
     "iopub.execute_input": "2021-12-02T04:37:17.809636Z",
     "iopub.status.busy": "2021-12-02T04:37:17.809179Z",
     "iopub.status.idle": "2021-12-02T04:37:17.811012Z",
     "shell.execute_reply": "2021-12-02T04:37:17.810630Z"
    },
    "papermill": {
     "duration": 0.105356,
     "end_time": "2021-12-02T04:37:17.811111",
     "exception": false,
     "start_time": "2021-12-02T04:37:17.705755",
     "status": "completed"
    },
    "tags": [],
    "ExecuteTime": {
     "end_time": "2024-05-30T17:14:14.746887Z",
     "start_time": "2024-05-30T17:14:14.744414Z"
    }
   },
   "source": [
    "x = np.random.rand(N_SAMPLES)\n",
    "y = np.random.rand(N_SAMPLES)"
   ],
   "outputs": [],
   "execution_count": 35
  },
  {
   "cell_type": "code",
   "id": "ede7a328-bad3-40a2-a179-1148a3229620",
   "metadata": {
    "execution": {
     "iopub.execute_input": "2021-12-02T04:37:18.013003Z",
     "iopub.status.busy": "2021-12-02T04:37:18.012549Z",
     "iopub.status.idle": "2021-12-02T04:37:18.014398Z",
     "shell.execute_reply": "2021-12-02T04:37:18.014016Z"
    },
    "papermill": {
     "duration": 0.104201,
     "end_time": "2021-12-02T04:37:18.014491",
     "exception": false,
     "start_time": "2021-12-02T04:37:17.910290",
     "status": "completed"
    },
    "tags": [],
    "ExecuteTime": {
     "end_time": "2024-05-30T17:14:14.749823Z",
     "start_time": "2024-05-30T17:14:14.747505Z"
    }
   },
   "source": [
    "def func():\n",
    "    for i in range(N_REPS):\n",
    "        ccc(x, y)"
   ],
   "outputs": [],
   "execution_count": 36
  },
  {
   "cell_type": "code",
   "id": "0a7f2b1f-4b87-4dde-a46b-2acec5ac93ba",
   "metadata": {
    "execution": {
     "iopub.execute_input": "2021-12-02T04:37:18.220053Z",
     "iopub.status.busy": "2021-12-02T04:37:18.219419Z",
     "iopub.status.idle": "2021-12-02T04:37:24.963506Z",
     "shell.execute_reply": "2021-12-02T04:37:24.962993Z"
    },
    "papermill": {
     "duration": 6.84888,
     "end_time": "2021-12-02T04:37:24.963614",
     "exception": false,
     "start_time": "2021-12-02T04:37:18.114734",
     "status": "completed"
    },
    "tags": [],
    "ExecuteTime": {
     "end_time": "2024-05-30T17:14:29.786993Z",
     "start_time": "2024-05-30T17:14:14.750356Z"
    }
   },
   "source": [
    "%%timeit func()\n",
    "func()"
   ],
   "outputs": [
    {
     "name": "stdout",
     "output_type": "stream",
     "text": [
      "18.4 ms ± 405 µs per loop (mean ± std. dev. of 7 runs, 100 loops each)\n"
     ]
    }
   ],
   "execution_count": 37
  },
  {
   "cell_type": "code",
   "id": "74acbe27-9807-4f26-8b7e-b74d0f745b63",
   "metadata": {
    "execution": {
     "iopub.execute_input": "2021-12-02T04:37:25.171582Z",
     "iopub.status.busy": "2021-12-02T04:37:25.170725Z",
     "iopub.status.idle": "2021-12-02T04:37:25.532258Z",
     "shell.execute_reply": "2021-12-02T04:37:25.531874Z"
    },
    "papermill": {
     "duration": 0.465279,
     "end_time": "2021-12-02T04:37:25.532358",
     "exception": false,
     "start_time": "2021-12-02T04:37:25.067079",
     "status": "completed"
    },
    "tags": [],
    "ExecuteTime": {
     "end_time": "2024-05-30T17:14:29.810995Z",
     "start_time": "2024-05-30T17:14:29.787791Z"
    }
   },
   "source": [
    "%%prun -s cumulative -l 20 -T 10-n_samples_small_100.txt\n",
    "func()"
   ],
   "outputs": [
    {
     "name": "stdout",
     "output_type": "stream",
     "text": [
      " \n",
      "*** Profile printout saved to text file '10-n_samples_small_100.txt'. \n"
     ]
    }
   ],
   "execution_count": 38
  },
  {
   "cell_type": "markdown",
   "id": "611ff8e1",
   "metadata": {
    "papermill": {
     "duration": 0.10645,
     "end_time": "2021-12-02T04:37:25.742045",
     "exception": false,
     "start_time": "2021-12-02T04:37:25.635595",
     "status": "completed"
    },
    "tags": []
   },
   "source": [
    "## `n_samples=500`"
   ]
  },
  {
   "cell_type": "code",
   "id": "4bcf4b42",
   "metadata": {
    "execution": {
     "iopub.execute_input": "2021-12-02T04:37:25.946981Z",
     "iopub.status.busy": "2021-12-02T04:37:25.946503Z",
     "iopub.status.idle": "2021-12-02T04:37:25.947981Z",
     "shell.execute_reply": "2021-12-02T04:37:25.948333Z"
    },
    "papermill": {
     "duration": 0.105745,
     "end_time": "2021-12-02T04:37:25.948446",
     "exception": false,
     "start_time": "2021-12-02T04:37:25.842701",
     "status": "completed"
    },
    "tags": [],
    "ExecuteTime": {
     "end_time": "2024-05-30T17:14:29.813107Z",
     "start_time": "2024-05-30T17:14:29.811679Z"
    }
   },
   "source": [
    "N_SAMPLES = 500"
   ],
   "outputs": [],
   "execution_count": 39
  },
  {
   "cell_type": "code",
   "id": "0bf2f21e",
   "metadata": {
    "execution": {
     "iopub.execute_input": "2021-12-02T04:37:26.152110Z",
     "iopub.status.busy": "2021-12-02T04:37:26.151591Z",
     "iopub.status.idle": "2021-12-02T04:37:26.153920Z",
     "shell.execute_reply": "2021-12-02T04:37:26.153472Z"
    },
    "papermill": {
     "duration": 0.105277,
     "end_time": "2021-12-02T04:37:26.154017",
     "exception": false,
     "start_time": "2021-12-02T04:37:26.048740",
     "status": "completed"
    },
    "tags": [],
    "ExecuteTime": {
     "end_time": "2024-05-30T17:14:29.816055Z",
     "start_time": "2024-05-30T17:14:29.813653Z"
    }
   },
   "source": [
    "x = np.random.rand(N_SAMPLES)\n",
    "y = np.random.rand(N_SAMPLES)"
   ],
   "outputs": [],
   "execution_count": 40
  },
  {
   "cell_type": "code",
   "id": "24c352bd",
   "metadata": {
    "execution": {
     "iopub.execute_input": "2021-12-02T04:37:26.357429Z",
     "iopub.status.busy": "2021-12-02T04:37:26.356978Z",
     "iopub.status.idle": "2021-12-02T04:37:26.358844Z",
     "shell.execute_reply": "2021-12-02T04:37:26.358481Z"
    },
    "papermill": {
     "duration": 0.104548,
     "end_time": "2021-12-02T04:37:26.358940",
     "exception": false,
     "start_time": "2021-12-02T04:37:26.254392",
     "status": "completed"
    },
    "tags": [],
    "ExecuteTime": {
     "end_time": "2024-05-30T17:14:29.819054Z",
     "start_time": "2024-05-30T17:14:29.816583Z"
    }
   },
   "source": [
    "def func():\n",
    "    for i in range(N_REPS):\n",
    "        ccc(x, y)"
   ],
   "outputs": [],
   "execution_count": 41
  },
  {
   "cell_type": "code",
   "id": "cbde4ce6",
   "metadata": {
    "execution": {
     "iopub.execute_input": "2021-12-02T04:37:26.563098Z",
     "iopub.status.busy": "2021-12-02T04:37:26.562627Z",
     "iopub.status.idle": "2021-12-02T04:37:33.801602Z",
     "shell.execute_reply": "2021-12-02T04:37:33.801037Z"
    },
    "papermill": {
     "duration": 7.342849,
     "end_time": "2021-12-02T04:37:33.801721",
     "exception": false,
     "start_time": "2021-12-02T04:37:26.458872",
     "status": "completed"
    },
    "tags": [],
    "ExecuteTime": {
     "end_time": "2024-05-30T17:14:32.496070Z",
     "start_time": "2024-05-30T17:14:29.819690Z"
    }
   },
   "source": [
    "%%timeit func()\n",
    "func()"
   ],
   "outputs": [
    {
     "name": "stdout",
     "output_type": "stream",
     "text": [
      "29.7 ms ± 216 µs per loop (mean ± std. dev. of 7 runs, 10 loops each)\n"
     ]
    }
   ],
   "execution_count": 42
  },
  {
   "cell_type": "code",
   "id": "1250547e",
   "metadata": {
    "execution": {
     "iopub.execute_input": "2021-12-02T04:37:34.015314Z",
     "iopub.status.busy": "2021-12-02T04:37:34.014832Z",
     "iopub.status.idle": "2021-12-02T04:37:34.410262Z",
     "shell.execute_reply": "2021-12-02T04:37:34.410651Z"
    },
    "papermill": {
     "duration": 0.501944,
     "end_time": "2021-12-02T04:37:34.410769",
     "exception": false,
     "start_time": "2021-12-02T04:37:33.908825",
     "status": "completed"
    },
    "tags": [],
    "ExecuteTime": {
     "end_time": "2024-05-30T17:14:32.532594Z",
     "start_time": "2024-05-30T17:14:32.496856Z"
    }
   },
   "source": [
    "%%prun -s cumulative -l 20 -T 10-n_samples_small_500.txt\n",
    "func()"
   ],
   "outputs": [
    {
     "name": "stdout",
     "output_type": "stream",
     "text": [
      " \n",
      "*** Profile printout saved to text file '10-n_samples_small_500.txt'. \n"
     ]
    }
   ],
   "execution_count": 43
  },
  {
   "cell_type": "markdown",
   "id": "6853c300",
   "metadata": {
    "papermill": {
     "duration": 0.103261,
     "end_time": "2021-12-02T04:37:34.618220",
     "exception": false,
     "start_time": "2021-12-02T04:37:34.514959",
     "status": "completed"
    },
    "tags": []
   },
   "source": [
    "## `n_samples=1000`"
   ]
  },
  {
   "cell_type": "code",
   "id": "f77e8490",
   "metadata": {
    "execution": {
     "iopub.execute_input": "2021-12-02T04:37:34.832465Z",
     "iopub.status.busy": "2021-12-02T04:37:34.831999Z",
     "iopub.status.idle": "2021-12-02T04:37:34.833958Z",
     "shell.execute_reply": "2021-12-02T04:37:34.833511Z"
    },
    "papermill": {
     "duration": 0.114715,
     "end_time": "2021-12-02T04:37:34.834052",
     "exception": false,
     "start_time": "2021-12-02T04:37:34.719337",
     "status": "completed"
    },
    "tags": [],
    "ExecuteTime": {
     "end_time": "2024-05-30T17:14:32.534788Z",
     "start_time": "2024-05-30T17:14:32.533307Z"
    }
   },
   "source": [
    "N_SAMPLES = 1000"
   ],
   "outputs": [],
   "execution_count": 44
  },
  {
   "cell_type": "code",
   "id": "c99f544a",
   "metadata": {
    "execution": {
     "iopub.execute_input": "2021-12-02T04:37:35.043108Z",
     "iopub.status.busy": "2021-12-02T04:37:35.042636Z",
     "iopub.status.idle": "2021-12-02T04:37:35.044239Z",
     "shell.execute_reply": "2021-12-02T04:37:35.044579Z"
    },
    "papermill": {
     "duration": 0.107686,
     "end_time": "2021-12-02T04:37:35.044696",
     "exception": false,
     "start_time": "2021-12-02T04:37:34.937010",
     "status": "completed"
    },
    "tags": [],
    "ExecuteTime": {
     "end_time": "2024-05-30T17:14:32.537720Z",
     "start_time": "2024-05-30T17:14:32.535344Z"
    }
   },
   "source": [
    "x = np.random.rand(N_SAMPLES)\n",
    "y = np.random.rand(N_SAMPLES)"
   ],
   "outputs": [],
   "execution_count": 45
  },
  {
   "cell_type": "code",
   "id": "d907f1d7",
   "metadata": {
    "execution": {
     "iopub.execute_input": "2021-12-02T04:37:35.253125Z",
     "iopub.status.busy": "2021-12-02T04:37:35.252650Z",
     "iopub.status.idle": "2021-12-02T04:37:35.254497Z",
     "shell.execute_reply": "2021-12-02T04:37:35.254118Z"
    },
    "papermill": {
     "duration": 0.106501,
     "end_time": "2021-12-02T04:37:35.254591",
     "exception": false,
     "start_time": "2021-12-02T04:37:35.148090",
     "status": "completed"
    },
    "tags": [],
    "ExecuteTime": {
     "end_time": "2024-05-30T17:14:32.540516Z",
     "start_time": "2024-05-30T17:14:32.538243Z"
    }
   },
   "source": [
    "def func():\n",
    "    for i in range(N_REPS):\n",
    "        ccc(x, y)"
   ],
   "outputs": [],
   "execution_count": 46
  },
  {
   "cell_type": "code",
   "id": "9721b048",
   "metadata": {
    "execution": {
     "iopub.execute_input": "2021-12-02T04:37:35.461330Z",
     "iopub.status.busy": "2021-12-02T04:37:35.460856Z",
     "iopub.status.idle": "2021-12-02T04:37:49.189938Z",
     "shell.execute_reply": "2021-12-02T04:37:49.190314Z"
    },
    "papermill": {
     "duration": 13.834783,
     "end_time": "2021-12-02T04:37:49.190434",
     "exception": false,
     "start_time": "2021-12-02T04:37:35.355651",
     "status": "completed"
    },
    "tags": [],
    "ExecuteTime": {
     "end_time": "2024-05-30T17:14:36.449349Z",
     "start_time": "2024-05-30T17:14:32.541057Z"
    }
   },
   "source": [
    "%%timeit func()\n",
    "func()"
   ],
   "outputs": [
    {
     "name": "stdout",
     "output_type": "stream",
     "text": [
      "43.3 ms ± 1.02 ms per loop (mean ± std. dev. of 7 runs, 10 loops each)\n"
     ]
    }
   ],
   "execution_count": 47
  },
  {
   "cell_type": "code",
   "id": "fd0f4dd6",
   "metadata": {
    "execution": {
     "iopub.execute_input": "2021-12-02T04:37:49.400379Z",
     "iopub.status.busy": "2021-12-02T04:37:49.399912Z",
     "iopub.status.idle": "2021-12-02T04:37:50.269813Z",
     "shell.execute_reply": "2021-12-02T04:37:50.270191Z"
    },
    "papermill": {
     "duration": 0.97614,
     "end_time": "2021-12-02T04:37:50.270311",
     "exception": false,
     "start_time": "2021-12-02T04:37:49.294171",
     "status": "completed"
    },
    "tags": [],
    "ExecuteTime": {
     "end_time": "2024-05-30T17:14:36.499487Z",
     "start_time": "2024-05-30T17:14:36.451149Z"
    }
   },
   "source": [
    "%%prun -s cumulative -l 20 -T 10-n_samples_small_1000.txt\n",
    "func()"
   ],
   "outputs": [
    {
     "name": "stdout",
     "output_type": "stream",
     "text": [
      " \n",
      "*** Profile printout saved to text file '10-n_samples_small_1000.txt'. \n"
     ]
    }
   ],
   "execution_count": 48
  },
  {
   "cell_type": "markdown",
   "id": "f6b9adcf-1da4-4496-b05f-47952fd80d7f",
   "metadata": {
    "papermill": {
     "duration": 0.103785,
     "end_time": "2021-12-02T04:37:50.684395",
     "exception": false,
     "start_time": "2021-12-02T04:37:50.580610",
     "status": "completed"
    },
    "tags": []
   },
   "source": [
    "# Run with `n_samples` large"
   ]
  },
  {
   "cell_type": "markdown",
   "id": "8f2e407c",
   "metadata": {
    "papermill": {
     "duration": 0.109125,
     "end_time": "2021-12-02T04:37:50.896687",
     "exception": false,
     "start_time": "2021-12-02T04:37:50.787562",
     "status": "completed"
    },
    "tags": []
   },
   "source": [
    "## `n_samples=50000`"
   ]
  },
  {
   "cell_type": "code",
   "id": "c522396e",
   "metadata": {
    "execution": {
     "iopub.execute_input": "2021-12-02T04:37:51.105200Z",
     "iopub.status.busy": "2021-12-02T04:37:51.104752Z",
     "iopub.status.idle": "2021-12-02T04:37:51.106157Z",
     "shell.execute_reply": "2021-12-02T04:37:51.106510Z"
    },
    "papermill": {
     "duration": 0.107277,
     "end_time": "2021-12-02T04:37:51.106621",
     "exception": false,
     "start_time": "2021-12-02T04:37:50.999344",
     "status": "completed"
    },
    "tags": [],
    "ExecuteTime": {
     "end_time": "2024-05-30T17:14:36.501898Z",
     "start_time": "2024-05-30T17:14:36.500200Z"
    }
   },
   "source": [
    "N_SAMPLES = 50000"
   ],
   "outputs": [],
   "execution_count": 49
  },
  {
   "cell_type": "code",
   "id": "a5e536cc",
   "metadata": {
    "execution": {
     "iopub.execute_input": "2021-12-02T04:37:51.315976Z",
     "iopub.status.busy": "2021-12-02T04:37:51.315458Z",
     "iopub.status.idle": "2021-12-02T04:37:51.318127Z",
     "shell.execute_reply": "2021-12-02T04:37:51.317763Z"
    },
    "papermill": {
     "duration": 0.108638,
     "end_time": "2021-12-02T04:37:51.318226",
     "exception": false,
     "start_time": "2021-12-02T04:37:51.209588",
     "status": "completed"
    },
    "tags": [],
    "ExecuteTime": {
     "end_time": "2024-05-30T17:14:36.506666Z",
     "start_time": "2024-05-30T17:14:36.502604Z"
    }
   },
   "source": [
    "x = np.random.rand(N_SAMPLES)\n",
    "y = np.random.rand(N_SAMPLES)"
   ],
   "outputs": [],
   "execution_count": 50
  },
  {
   "cell_type": "code",
   "id": "15cb532e",
   "metadata": {
    "execution": {
     "iopub.execute_input": "2021-12-02T04:37:51.529025Z",
     "iopub.status.busy": "2021-12-02T04:37:51.528568Z",
     "iopub.status.idle": "2021-12-02T04:37:51.530041Z",
     "shell.execute_reply": "2021-12-02T04:37:51.530382Z"
    },
    "papermill": {
     "duration": 0.107088,
     "end_time": "2021-12-02T04:37:51.530499",
     "exception": false,
     "start_time": "2021-12-02T04:37:51.423411",
     "status": "completed"
    },
    "tags": [],
    "ExecuteTime": {
     "end_time": "2024-05-30T17:14:36.509196Z",
     "start_time": "2024-05-30T17:14:36.507373Z"
    }
   },
   "source": [
    "def func():\n",
    "    for i in range(N_REPS):\n",
    "        ccc(x, y)"
   ],
   "outputs": [],
   "execution_count": 51
  },
  {
   "cell_type": "code",
   "id": "91470f64",
   "metadata": {
    "execution": {
     "iopub.execute_input": "2021-12-02T04:37:51.741002Z",
     "iopub.status.busy": "2021-12-02T04:37:51.740365Z",
     "iopub.status.idle": "2021-12-02T04:38:27.435619Z",
     "shell.execute_reply": "2021-12-02T04:38:27.436034Z"
    },
    "papermill": {
     "duration": 35.80273,
     "end_time": "2021-12-02T04:38:27.436145",
     "exception": false,
     "start_time": "2021-12-02T04:37:51.633415",
     "status": "completed"
    },
    "tags": [],
    "ExecuteTime": {
     "end_time": "2024-05-30T17:15:14.984038Z",
     "start_time": "2024-05-30T17:14:36.509908Z"
    }
   },
   "source": [
    "%%timeit func()\n",
    "func()"
   ],
   "outputs": [
    {
     "name": "stdout",
     "output_type": "stream",
     "text": [
      "2.4 s ± 15.7 ms per loop (mean ± std. dev. of 7 runs, 1 loop each)\n"
     ]
    }
   ],
   "execution_count": 52
  },
  {
   "cell_type": "code",
   "id": "4de4e0b0",
   "metadata": {
    "execution": {
     "iopub.execute_input": "2021-12-02T04:38:27.648543Z",
     "iopub.status.busy": "2021-12-02T04:38:27.647940Z",
     "iopub.status.idle": "2021-12-02T04:38:29.880143Z",
     "shell.execute_reply": "2021-12-02T04:38:29.879649Z"
    },
    "papermill": {
     "duration": 2.340044,
     "end_time": "2021-12-02T04:38:29.880241",
     "exception": false,
     "start_time": "2021-12-02T04:38:27.540197",
     "status": "completed"
    },
    "tags": [],
    "ExecuteTime": {
     "end_time": "2024-05-30T17:15:17.381615Z",
     "start_time": "2024-05-30T17:15:14.984839Z"
    }
   },
   "source": [
    "%%prun -s cumulative -l 20 -T 10-n_samples_large_50000.txt\n",
    "func()"
   ],
   "outputs": [
    {
     "name": "stdout",
     "output_type": "stream",
     "text": [
      " \n",
      "*** Profile printout saved to text file '10-n_samples_large_50000.txt'. \n"
     ]
    }
   ],
   "execution_count": 53
  },
  {
   "cell_type": "markdown",
   "id": "b0c07894",
   "metadata": {
    "papermill": {
     "duration": 0.105829,
     "end_time": "2021-12-02T04:38:30.098264",
     "exception": false,
     "start_time": "2021-12-02T04:38:29.992435",
     "status": "completed"
    },
    "tags": []
   },
   "source": [
    "## `n_samples=100000`"
   ]
  },
  {
   "cell_type": "code",
   "id": "7fb2ab2e-a6de-412b-9540-d00f8641290e",
   "metadata": {
    "execution": {
     "iopub.execute_input": "2021-12-02T04:38:30.310087Z",
     "iopub.status.busy": "2021-12-02T04:38:30.309651Z",
     "iopub.status.idle": "2021-12-02T04:38:30.311339Z",
     "shell.execute_reply": "2021-12-02T04:38:30.311682Z"
    },
    "papermill": {
     "duration": 0.109597,
     "end_time": "2021-12-02T04:38:30.311799",
     "exception": false,
     "start_time": "2021-12-02T04:38:30.202202",
     "status": "completed"
    },
    "tags": [],
    "ExecuteTime": {
     "end_time": "2024-05-30T17:15:17.384055Z",
     "start_time": "2024-05-30T17:15:17.382405Z"
    }
   },
   "source": [
    "N_SAMPLES = 100000"
   ],
   "outputs": [],
   "execution_count": 54
  },
  {
   "cell_type": "code",
   "id": "81765e91",
   "metadata": {
    "execution": {
     "iopub.execute_input": "2021-12-02T04:38:30.525019Z",
     "iopub.status.busy": "2021-12-02T04:38:30.524568Z",
     "iopub.status.idle": "2021-12-02T04:38:30.528283Z",
     "shell.execute_reply": "2021-12-02T04:38:30.527854Z"
    },
    "papermill": {
     "duration": 0.111647,
     "end_time": "2021-12-02T04:38:30.528379",
     "exception": false,
     "start_time": "2021-12-02T04:38:30.416732",
     "status": "completed"
    },
    "tags": [],
    "ExecuteTime": {
     "end_time": "2024-05-30T17:15:17.390846Z",
     "start_time": "2024-05-30T17:15:17.384582Z"
    }
   },
   "source": [
    "x = np.random.rand(N_SAMPLES)\n",
    "y = np.random.rand(N_SAMPLES)"
   ],
   "outputs": [],
   "execution_count": 55
  },
  {
   "cell_type": "code",
   "id": "d408b318",
   "metadata": {
    "execution": {
     "iopub.execute_input": "2021-12-02T04:38:30.742827Z",
     "iopub.status.busy": "2021-12-02T04:38:30.742345Z",
     "iopub.status.idle": "2021-12-02T04:38:30.744280Z",
     "shell.execute_reply": "2021-12-02T04:38:30.743848Z"
    },
    "papermill": {
     "duration": 0.110384,
     "end_time": "2021-12-02T04:38:30.744375",
     "exception": false,
     "start_time": "2021-12-02T04:38:30.633991",
     "status": "completed"
    },
    "tags": [],
    "ExecuteTime": {
     "end_time": "2024-05-30T17:15:17.392961Z",
     "start_time": "2024-05-30T17:15:17.391523Z"
    }
   },
   "source": [
    "def func():\n",
    "    for i in range(N_REPS):\n",
    "        ccc(x, y)"
   ],
   "outputs": [],
   "execution_count": 56
  },
  {
   "cell_type": "code",
   "id": "aca57100",
   "metadata": {
    "execution": {
     "iopub.execute_input": "2021-12-02T04:38:30.958831Z",
     "iopub.status.busy": "2021-12-02T04:38:30.958256Z",
     "iopub.status.idle": "2021-12-02T04:39:38.969951Z",
     "shell.execute_reply": "2021-12-02T04:39:38.970301Z"
    },
    "papermill": {
     "duration": 68.120109,
     "end_time": "2021-12-02T04:39:38.970413",
     "exception": false,
     "start_time": "2021-12-02T04:38:30.850304",
     "status": "completed"
    },
    "tags": [],
    "ExecuteTime": {
     "end_time": "2024-05-30T17:16:36.328760Z",
     "start_time": "2024-05-30T17:15:17.393479Z"
    }
   },
   "source": [
    "%%timeit func()\n",
    "func()"
   ],
   "outputs": [
    {
     "name": "stdout",
     "output_type": "stream",
     "text": [
      "4.92 s ± 31.9 ms per loop (mean ± std. dev. of 7 runs, 1 loop each)\n"
     ]
    }
   ],
   "execution_count": 57
  },
  {
   "cell_type": "code",
   "id": "b9c25f30",
   "metadata": {
    "execution": {
     "iopub.execute_input": "2021-12-02T04:39:39.183942Z",
     "iopub.status.busy": "2021-12-02T04:39:39.183247Z",
     "iopub.status.idle": "2021-12-02T04:39:43.450962Z",
     "shell.execute_reply": "2021-12-02T04:39:43.451362Z"
    },
    "papermill": {
     "duration": 4.37642,
     "end_time": "2021-12-02T04:39:43.451480",
     "exception": false,
     "start_time": "2021-12-02T04:39:39.075060",
     "status": "completed"
    },
    "tags": [],
    "ExecuteTime": {
     "end_time": "2024-05-30T17:16:41.225685Z",
     "start_time": "2024-05-30T17:16:36.329527Z"
    }
   },
   "source": [
    "%%prun -s cumulative -l 20 -T 10-n_samples_large_100000.txt\n",
    "func()"
   ],
   "outputs": [
    {
     "name": "stdout",
     "output_type": "stream",
     "text": [
      " \n",
      "*** Profile printout saved to text file '10-n_samples_large_100000.txt'. \n"
     ]
    }
   ],
   "execution_count": 58
  },
  {
   "metadata": {},
   "cell_type": "markdown",
   "source": "# Profile with CProfile",
   "id": "aa9311addc760854"
  },
  {
   "metadata": {
    "ExecuteTime": {
     "end_time": "2024-05-30T17:26:08.113910Z",
     "start_time": "2024-05-30T17:26:03.072637Z"
    }
   },
   "cell_type": "code",
   "source": [
    "from cProfile import Profile\n",
    "from pstats import SortKey, Stats\n",
    "\n",
    "def func():\n",
    "    for i in range(N_REPS):\n",
    "        ccc(x, y)\n",
    "\n",
    "with Profile() as profile:\n",
    "    func()\n",
    "    (\n",
    "        Stats(profile)\n",
    "        .strip_dirs()\n",
    "        .sort_stats(SortKey.CUMULATIVE)\n",
    "        .print_stats()\n",
    "    )"
   ],
   "id": "e4950c169d3bbf40",
   "outputs": [
    {
     "name": "stdout",
     "output_type": "stream",
     "text": [
      "         8339 function calls in 5.036 seconds\n",
      "\n",
      "   Ordered by: cumulative time\n",
      "\n",
      "   ncalls  tottime  percall  cumtime  percall filename:lineno(function)\n",
      "        1    0.014    0.014    5.036    5.036 2445792793.py:4(func)\n",
      "       10    0.008    0.001    5.022    0.502 impl.py:307(ccc)\n",
      "      200    0.001    0.000    4.991    0.025 threading.py:280(wait)\n",
      "      790    4.990    0.006    4.990    0.006 {method 'acquire' of '_thread.lock' objects}\n",
      "       10    0.001    0.000    3.150    0.315 impl.py:492(compute_coef)\n",
      "       10    0.000    0.000    3.149    0.315 impl.py:485(cdist_func)\n",
      "       10    0.001    0.000    3.149    0.315 impl.py:192(cdist_parts_parallel)\n",
      "      100    0.001    0.000    3.141    0.031 _base.py:201(as_completed)\n",
      "      100    0.000    0.000    3.140    0.031 threading.py:563(wait)\n",
      "      100    0.000    0.000    1.851    0.019 _base.py:418(result)\n",
      "       20    0.000    0.000    1.851    0.093 _base.py:602(result_iterator)\n",
      "       50    0.010    0.000    0.010    0.000 {built-in method numpy.zeros}\n",
      "       10    0.004    0.000    0.005    0.001 impl.py:210(<dictcomp>)\n",
      "      100    0.000    0.000    0.003    0.000 thread.py:161(submit)\n",
      "      100    0.000    0.000    0.002    0.000 thread.py:180(_adjust_thread_count)\n",
      "       10    0.000    0.000    0.002    0.000 _base.py:573(map)\n",
      "       10    0.000    0.000    0.002    0.000 _base.py:598(<listcomp>)\n",
      "       10    0.000    0.000    0.001    0.000 threading.py:880(start)\n",
      "      190    0.000    0.000    0.001    0.000 _base.py:179(_yield_finished_futures)\n",
      "       10    0.000    0.000    0.001    0.000 _base.py:636(__exit__)\n",
      "       10    0.000    0.000    0.001    0.000 thread.py:216(shutdown)\n",
      "       10    0.000    0.000    0.001    0.000 threading.py:1028(join)\n",
      "      100    0.000    0.000    0.001    0.000 threading.py:411(acquire)\n",
      "       10    0.000    0.000    0.001    0.000 threading.py:1066(_wait_for_tstate_lock)\n",
      "       40    0.000    0.000    0.000    0.000 {built-in method numpy.core._multiarray_umath.implement_array_function}\n",
      "       20    0.000    0.000    0.000    0.000 impl.py:242(get_chunks)\n",
      "      480    0.000    0.000    0.000    0.000 threading.py:256(__enter__)\n",
      "      480    0.000    0.000    0.000    0.000 threading.py:259(__exit__)\n",
      "       10    0.000    0.000    0.000    0.000 {built-in method _thread.start_new_thread}\n",
      "       10    0.000    0.000    0.000    0.000 <__array_function__ internals>:2(amax)\n",
      "      100    0.000    0.000    0.000    0.000 _base.py:318(__init__)\n",
      "       10    0.000    0.000    0.000    0.000 fromnumeric.py:2638(amax)\n",
      "      130    0.000    0.000    0.000    0.000 threading.py:228(__init__)\n",
      "       90    0.000    0.000    0.000    0.000 threading.py:553(clear)\n",
      "       30    0.000    0.000    0.000    0.000 numeric.py:289(full)\n",
      "       10    0.000    0.000    0.000    0.000 fromnumeric.py:69(_wrapreduction)\n",
      "      190    0.000    0.000    0.000    0.000 threading.py:268(_acquire_restore)\n",
      "       30    0.000    0.000    0.000    0.000 <__array_function__ internals>:2(copyto)\n",
      "      190    0.000    0.000    0.000    0.000 threading.py:271(_is_owned)\n",
      "       10    0.000    0.000    0.000    0.000 {method 'reduce' of 'numpy.ufunc' objects}\n",
      "       10    0.000    0.000    0.000    0.000 ipkernel.py:763(init_closure)\n",
      "       10    0.000    0.000    0.000    0.000 thread.py:123(__init__)\n",
      "       10    0.000    0.000    0.000    0.000 threading.py:992(_stop)\n",
      "       10    0.000    0.000    0.000    0.000 _base.py:157(_create_and_install_waiters)\n",
      "       10    0.000    0.000    0.000    0.000 threading.py:802(__init__)\n",
      "      110    0.000    0.000    0.000    0.000 {method 'put' of '_queue.SimpleQueue' objects}\n",
      "       30    0.000    0.000    0.000    0.000 {built-in method numpy.arange}\n",
      "      600    0.000    0.000    0.000    0.000 {method '__exit__' of '_thread.lock' objects}\n",
      "      250    0.000    0.000    0.000    0.000 {built-in method _thread.allocate_lock}\n",
      "      190    0.000    0.000    0.000    0.000 threading.py:265(_release_save)\n",
      "       10    0.000    0.000    0.000    0.000 _base.py:79(__init__)\n",
      "      140    0.000    0.000    0.000    0.000 utility_functions.py:117(<genexpr>)\n",
      "      190    0.000    0.000    0.000    0.000 {method '__enter__' of '_thread.RLock' objects}\n",
      "      100    0.000    0.000    0.000    0.000 {method 'pop' of 'list' objects}\n",
      "       30    0.000    0.000    0.000    0.000 utility_functions.py:109(chunker)\n",
      "      180    0.000    0.000    0.000    0.000 {method 'remove' of 'set' objects}\n",
      "       20    0.000    0.000    0.000    0.000 threading.py:528(__init__)\n",
      "       10    0.000    0.000    0.000    0.000 threading.py:775(_maintain_shutdown_locks)\n",
      "       30    0.000    0.000    0.000    0.000 {built-in method numpy.empty}\n",
      "       90    0.000    0.000    0.000    0.000 {method 'remove' of 'list' objects}\n",
      "      100    0.000    0.000    0.000    0.000 _base.py:388(__get_result)\n",
      "       10    0.000    0.000    0.000    0.000 _base.py:63(__init__)\n",
      "      100    0.000    0.000    0.000    0.000 thread.py:47(__init__)\n",
      "       10    0.000    0.000    0.000    0.000 {method 'argmax' of 'numpy.ndarray' objects}\n",
      "       10    0.000    0.000    0.000    0.000 _base.py:146(__init__)\n",
      "       10    0.000    0.000    0.000    0.000 threading.py:405(__init__)\n",
      "      290    0.000    0.000    0.000    0.000 {method '__enter__' of '_thread.lock' objects}\n",
      "      100    0.000    0.000    0.000    0.000 threading.py:82(RLock)\n",
      "       10    0.000    0.000    0.000    0.000 core.py:85(unravel_index_2d)\n",
      "       10    0.000    0.000    0.000    0.000 {built-in method builtins.sorted}\n",
      "      200    0.000    0.000    0.000    0.000 {method 'append' of 'collections.deque' objects}\n",
      "      200    0.000    0.000    0.000    0.000 {method '__exit__' of '_thread.RLock' objects}\n",
      "       10    0.000    0.000    0.000    0.000 _base.py:149(__enter__)\n",
      "       20    0.000    0.000    0.000    0.000 threading.py:1358(current_thread)\n",
      "       10    0.000    0.000    0.000    0.000 impl.py:74(get_range_n_clusters)\n",
      "      100    0.000    0.000    0.000    0.000 {method 'reverse' of 'list' objects}\n",
      "       10    0.000    0.000    0.000    0.000 weakref.py:370(remove)\n",
      "      200    0.000    0.000    0.000    0.000 {method 'release' of '_thread.lock' objects}\n",
      "       10    0.000    0.000    0.000    0.000 threading.py:785(<listcomp>)\n",
      "      180    0.000    0.000    0.000    0.000 {built-in method time.monotonic}\n",
      "       10    0.000    0.000    0.000    0.000 {method '_acquire_restore' of '_thread.RLock' objects}\n",
      "      181    0.000    0.000    0.000    0.000 {built-in method builtins.len}\n",
      "       10    0.000    0.000    0.000    0.000 _base.py:153(__exit__)\n",
      "       20    0.000    0.000    0.000    0.000 impl.py:284(get_feature_type_and_encode)\n",
      "       10    0.000    0.000    0.000    0.000 _weakrefset.py:39(_remove)\n",
      "       10    0.000    0.000    0.000    0.000 _weakrefset.py:86(add)\n",
      "       10    0.000    0.000    0.000    0.000 fromnumeric.py:70(<dictcomp>)\n",
      "        1    0.000    0.000    0.000    0.000 pstats.py:107(__init__)\n",
      "       10    0.000    0.000    0.000    0.000 impl.py:218(get_coords_from_index)\n",
      "       10    0.000    0.000    0.000    0.000 {built-in method builtins.getattr}\n",
      "       10    0.000    0.000    0.000    0.000 _base.py:225(<genexpr>)\n",
      "        1    0.000    0.000    0.000    0.000 pstats.py:117(init)\n",
      "       10    0.000    0.000    0.000    0.000 {method 'difference_update' of 'set' objects}\n",
      "       10    0.000    0.000    0.000    0.000 threading.py:1229(_make_invoke_excepthook)\n",
      "       20    0.000    0.000    0.000    0.000 threading.py:1147(daemon)\n",
      "       90    0.000    0.000    0.000    0.000 {method 'acquire' of '_thread.RLock' objects}\n",
      "       90    0.000    0.000    0.000    0.000 {method 'remove' of 'collections.deque' objects}\n",
      "       10    0.000    0.000    0.000    0.000 weakref.py:428(__setitem__)\n",
      "       10    0.000    0.000    0.000    0.000 {built-in method numpy.asarray}\n",
      "       30    0.000    0.000    0.000    0.000 multiarray.py:1071(copyto)\n",
      "        1    0.000    0.000    0.000    0.000 pstats.py:136(load_stats)\n",
      "       90    0.000    0.000    0.000    0.000 {method 'append' of 'list' objects}\n",
      "       30    0.000    0.000    0.000    0.000 {method 'locked' of '_thread.lock' objects}\n",
      "       21    0.000    0.000    0.000    0.000 {built-in method builtins.isinstance}\n",
      "       20    0.000    0.000    0.000    0.000 {method 'add' of 'set' objects}\n",
      "       90    0.000    0.000    0.000    0.000 {method 'release' of '_thread.RLock' objects}\n",
      "       20    0.000    0.000    0.000    0.000 threading.py:536(is_set)\n",
      "       30    0.000    0.000    0.000    0.000 {built-in method _thread.get_ident}\n",
      "       10    0.000    0.000    0.000    0.000 {method '_release_save' of '_thread.RLock' objects}\n",
      "       10    0.000    0.000    0.000    0.000 {method 'items' of 'dict' objects}\n",
      "       10    0.000    0.000    0.000    0.000 fromnumeric.py:2633(_amax_dispatcher)\n",
      "        1    0.000    0.000    0.000    0.000 cProfile.py:51(create_stats)\n",
      "       10    0.000    0.000    0.000    0.000 {method 'discard' of 'set' objects}\n",
      "       10    0.000    0.000    0.000    0.000 _base.py:633(__enter__)\n",
      "       10    0.000    0.000    0.000    0.000 {method '_is_owned' of '_thread.RLock' objects}\n",
      "        1    0.000    0.000    0.000    0.000 {method 'disable' of '_lsprof.Profiler' objects}\n",
      "        1    0.000    0.000    0.000    0.000 {built-in method builtins.hasattr}\n",
      "\n",
      "\n"
     ]
    }
   ],
   "execution_count": 62
  },
  {
   "metadata": {},
   "cell_type": "code",
   "outputs": [],
   "execution_count": null,
   "source": "",
   "id": "454593d6e622293"
  }
 ],
 "metadata": {
  "jupytext": {
   "cell_metadata_filter": "all,-execution,-papermill,-trusted"
  },
  "kernelspec": {
   "display_name": "Python 3 (ipykernel)",
   "language": "python",
   "name": "python3"
  },
  "language_info": {
   "codemirror_mode": {
    "name": "ipython",
    "version": 3
   },
   "file_extension": ".py",
   "mimetype": "text/x-python",
   "name": "python",
   "nbconvert_exporter": "python",
   "pygments_lexer": "ipython3",
   "version": "3.9.7"
  },
  "papermill": {
   "default_parameters": {},
   "duration": 168.306551,
   "end_time": "2021-12-02T04:39:44.188549",
   "environment_variables": {},
   "exception": null,
   "input_path": "nbs/others/05_clustermatch_profiling/10_cm_optimized/10-cdist_parts_v04.ipynb",
   "output_path": "nbs/others/05_clustermatch_profiling/10_cm_optimized/10-cdist_parts_v04.run.ipynb",
   "parameters": {},
   "start_time": "2021-12-02T04:36:55.881998",
   "version": "2.3.3"
  }
 },
 "nbformat": 4,
 "nbformat_minor": 5
}
