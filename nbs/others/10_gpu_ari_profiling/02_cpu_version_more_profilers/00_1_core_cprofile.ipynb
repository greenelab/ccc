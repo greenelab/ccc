{
 "cells": [
  {
   "cell_type": "markdown",
   "id": "36c65ddb-8246-4b0c-a231-68a373acc2cf",
   "metadata": {
    "papermill": {
     "duration": 0.095646,
     "end_time": "2021-12-02T04:34:06.384775",
     "exception": false,
     "start_time": "2021-12-02T04:34:06.289129",
     "status": "completed"
    },
    "tags": []
   },
   "source": [
    "# Description"
   ]
  },
  {
   "cell_type": "markdown",
   "id": "337633a8-d03e-4509-b89d-f8daee598958",
   "metadata": {
    "papermill": {
     "duration": 0.091407,
     "end_time": "2021-12-02T04:34:06.566258",
     "exception": false,
     "start_time": "2021-12-02T04:34:06.474851",
     "status": "completed"
    },
    "tags": []
   },
   "source": [
    "Single-threaded version"
   ]
  },
  {
   "cell_type": "code",
   "execution_count": 1,
   "id": "5c010e62",
   "metadata": {},
   "outputs": [
    {
     "name": "stdout",
     "output_type": "stream",
     "text": [
      "env: CM_N_JOBS=1\n"
     ]
    }
   ],
   "source": [
    "# Set core count to 1\n",
    "%env CM_N_JOBS=1"
   ]
  },
  {
   "cell_type": "markdown",
   "id": "63c2b099-cc44-4fe2-93d1-40336e0a8466",
   "metadata": {
    "papermill": {
     "duration": 0.09056,
     "end_time": "2021-12-02T04:34:06.747753",
     "exception": false,
     "start_time": "2021-12-02T04:34:06.657193",
     "status": "completed"
    },
    "tags": []
   },
   "source": [
    "# Remove pycache dir"
   ]
  },
  {
   "cell_type": "code",
   "execution_count": 2,
   "id": "960c4ff0-2a73-4eaa-97d6-3269102233eb",
   "metadata": {
    "execution": {
     "iopub.execute_input": "2021-12-02T04:34:06.942330Z",
     "iopub.status.busy": "2021-12-02T04:34:06.941822Z",
     "iopub.status.idle": "2021-12-02T04:34:07.534005Z",
     "shell.execute_reply": "2021-12-02T04:34:07.531916Z"
    },
    "papermill": {
     "duration": 0.696141,
     "end_time": "2021-12-02T04:34:07.534420",
     "exception": false,
     "start_time": "2021-12-02T04:34:06.838279",
     "status": "completed"
    },
    "tags": []
   },
   "outputs": [
    {
     "name": "stdout",
     "output_type": "stream",
     "text": [
      "/home/haoyu/_database/projs/ccc-gpu\n"
     ]
    }
   ],
   "source": [
    "!echo ${CODE_DIR}"
   ]
  },
  {
   "cell_type": "code",
   "execution_count": 3,
   "id": "e18db58a-316a-445b-a376-8b2ec18e08d8",
   "metadata": {
    "execution": {
     "iopub.execute_input": "2021-12-02T04:34:07.733067Z",
     "iopub.status.busy": "2021-12-02T04:34:07.732593Z",
     "iopub.status.idle": "2021-12-02T04:34:08.445221Z",
     "shell.execute_reply": "2021-12-02T04:34:08.443302Z"
    },
    "papermill": {
     "duration": 0.817887,
     "end_time": "2021-12-02T04:34:08.445598",
     "exception": false,
     "start_time": "2021-12-02T04:34:07.627711",
     "status": "completed"
    },
    "tags": []
   },
   "outputs": [
    {
     "name": "stdout",
     "output_type": "stream",
     "text": [
      "/home/haoyu/_database/projs/ccc-gpu/libs/ccc/__pycache__\n",
      "/home/haoyu/_database/projs/ccc-gpu/libs/ccc/sklearn/__pycache__\n",
      "/home/haoyu/_database/projs/ccc-gpu/libs/ccc/scipy/__pycache__\n",
      "/home/haoyu/_database/projs/ccc-gpu/libs/ccc/coef/__pycache__\n",
      "/home/haoyu/_database/projs/ccc-gpu/libs/ccc/utils/__pycache__\n",
      "/home/haoyu/_database/projs/ccc-gpu/libs/ccc/pytorch/__pycache__\n"
     ]
    }
   ],
   "source": [
    "!find ${CODE_DIR} -regex '^.*\\(__pycache__\\)$' -print"
   ]
  },
  {
   "cell_type": "code",
   "execution_count": 4,
   "id": "b54099b0-a990-4bbd-bcbd-e206eb0f0f0e",
   "metadata": {
    "execution": {
     "iopub.execute_input": "2021-12-02T04:34:08.668700Z",
     "iopub.status.busy": "2021-12-02T04:34:08.668226Z",
     "iopub.status.idle": "2021-12-02T04:34:09.290588Z",
     "shell.execute_reply": "2021-12-02T04:34:09.288752Z"
    },
    "papermill": {
     "duration": 0.719545,
     "end_time": "2021-12-02T04:34:09.290958",
     "exception": false,
     "start_time": "2021-12-02T04:34:08.571413",
     "status": "completed"
    },
    "tags": []
   },
   "outputs": [],
   "source": [
    "!find ${CODE_DIR} -regex '^.*\\(__pycache__\\)$' -prune -exec rm -rf {} \\;"
   ]
  },
  {
   "cell_type": "code",
   "execution_count": 5,
   "id": "7a9a8098-8160-46bf-8d83-bc398cbe2382",
   "metadata": {
    "execution": {
     "iopub.execute_input": "2021-12-02T04:34:09.513928Z",
     "iopub.status.busy": "2021-12-02T04:34:09.513465Z",
     "iopub.status.idle": "2021-12-02T04:34:10.120602Z",
     "shell.execute_reply": "2021-12-02T04:34:10.118684Z"
    },
    "papermill": {
     "duration": 0.704384,
     "end_time": "2021-12-02T04:34:10.120972",
     "exception": false,
     "start_time": "2021-12-02T04:34:09.416588",
     "status": "completed"
    },
    "tags": []
   },
   "outputs": [],
   "source": [
    "!find ${CODE_DIR} -regex '^.*\\(__pycache__\\)$' -print"
   ]
  },
  {
   "cell_type": "markdown",
   "id": "c2251313-41ac-46fd-a845-0f209689ecf6",
   "metadata": {
    "papermill": {
     "duration": 0.093051,
     "end_time": "2021-12-02T04:34:10.338738",
     "exception": false,
     "start_time": "2021-12-02T04:34:10.245687",
     "status": "completed"
    },
    "tags": []
   },
   "source": [
    "# Modules"
   ]
  },
  {
   "cell_type": "code",
   "execution_count": 6,
   "id": "987ef5f1-be49-4a6c-a4f4-b24a0a2094cb",
   "metadata": {
    "execution": {
     "iopub.execute_input": "2021-12-02T04:34:10.528319Z",
     "iopub.status.busy": "2021-12-02T04:34:10.527833Z",
     "iopub.status.idle": "2021-12-02T04:34:10.845421Z",
     "shell.execute_reply": "2021-12-02T04:34:10.845020Z"
    },
    "papermill": {
     "duration": 0.414249,
     "end_time": "2021-12-02T04:34:10.845518",
     "exception": false,
     "start_time": "2021-12-02T04:34:10.431269",
     "status": "completed"
    },
    "tags": []
   },
   "outputs": [],
   "source": [
    "import numpy as np\n",
    "from ccc.coef import ccc\n",
    "import cProfile"
   ]
  },
  {
   "cell_type": "markdown",
   "id": "24399ccb-d33d-4bad-9baf-638c9c56feb2",
   "metadata": {
    "papermill": {
     "duration": 0.095359,
     "end_time": "2021-12-02T04:34:11.037941",
     "exception": false,
     "start_time": "2021-12-02T04:34:10.942582",
     "status": "completed"
    },
    "tags": []
   },
   "source": [
    "# Settings"
   ]
  },
  {
   "cell_type": "code",
   "execution_count": 7,
   "id": "c609cefa-f513-4cf8-9573-367744e31c5f",
   "metadata": {
    "execution": {
     "iopub.execute_input": "2021-12-02T04:34:11.224902Z",
     "iopub.status.busy": "2021-12-02T04:34:11.224429Z",
     "iopub.status.idle": "2021-12-02T04:34:11.226352Z",
     "shell.execute_reply": "2021-12-02T04:34:11.226694Z"
    },
    "papermill": {
     "duration": 0.097459,
     "end_time": "2021-12-02T04:34:11.226809",
     "exception": false,
     "start_time": "2021-12-02T04:34:11.129350",
     "status": "completed"
    },
    "tags": []
   },
   "outputs": [],
   "source": [
    "N_REPS = 10\n",
    "np.random.seed(0)"
   ]
  },
  {
   "cell_type": "markdown",
   "id": "6fd3067b-a4f7-475e-9575-20246934537d",
   "metadata": {
    "papermill": {
     "duration": 0.092004,
     "end_time": "2021-12-02T04:34:11.602824",
     "exception": false,
     "start_time": "2021-12-02T04:34:11.510820",
     "status": "completed"
    },
    "tags": []
   },
   "source": [
    "# Setup"
   ]
  },
  {
   "cell_type": "code",
   "execution_count": 8,
   "id": "02e0507c-43ff-4693-8a3b-8ccd8f23168c",
   "metadata": {
    "execution": {
     "iopub.execute_input": "2021-12-02T04:34:11.790398Z",
     "iopub.status.busy": "2021-12-02T04:34:11.789933Z",
     "iopub.status.idle": "2021-12-02T04:34:20.454299Z",
     "shell.execute_reply": "2021-12-02T04:34:20.453925Z"
    },
    "papermill": {
     "duration": 8.760307,
     "end_time": "2021-12-02T04:34:20.454396",
     "exception": false,
     "start_time": "2021-12-02T04:34:11.694089",
     "status": "completed"
    },
    "tags": []
   },
   "outputs": [
    {
     "data": {
      "text/plain": [
       "0.15625"
      ]
     },
     "execution_count": 8,
     "metadata": {},
     "output_type": "execute_result"
    }
   ],
   "source": [
    "# let numba compile all the code before profiling\n",
    "ccc(np.random.rand(10), np.random.rand(10))"
   ]
  },
  {
   "cell_type": "code",
   "execution_count": 9,
   "id": "bc5236a7",
   "metadata": {},
   "outputs": [],
   "source": [
    "def func(n_reps=N_REPS):\n",
    "    for i in range(n_reps):\n",
    "        ccc(x, y, n_jobs=1)"
   ]
  },
  {
   "cell_type": "markdown",
   "id": "8549179d-1517-4a40-9a51-b95dc02d0fcc",
   "metadata": {
    "papermill": {
     "duration": 0.092955,
     "end_time": "2021-12-02T04:34:20.640996",
     "exception": false,
     "start_time": "2021-12-02T04:34:20.548041",
     "status": "completed"
    },
    "tags": []
   },
   "source": [
    "# Run with `n_samples` small"
   ]
  },
  {
   "cell_type": "markdown",
   "id": "13ba811b",
   "metadata": {
    "papermill": {
     "duration": 0.092926,
     "end_time": "2021-12-02T04:34:20.826776",
     "exception": false,
     "start_time": "2021-12-02T04:34:20.733850",
     "status": "completed"
    },
    "tags": []
   },
   "source": [
    "## `n_samples=50`"
   ]
  },
  {
   "cell_type": "code",
   "execution_count": 10,
   "id": "68064f0b",
   "metadata": {
    "execution": {
     "iopub.execute_input": "2021-12-02T04:34:21.026855Z",
     "iopub.status.busy": "2021-12-02T04:34:21.026243Z",
     "iopub.status.idle": "2021-12-02T04:34:21.028562Z",
     "shell.execute_reply": "2021-12-02T04:34:21.027971Z"
    },
    "papermill": {
     "duration": 0.107158,
     "end_time": "2021-12-02T04:34:21.028689",
     "exception": false,
     "start_time": "2021-12-02T04:34:20.921531",
     "status": "completed"
    },
    "tags": []
   },
   "outputs": [],
   "source": [
    "N_SAMPLES = 50"
   ]
  },
  {
   "cell_type": "code",
   "execution_count": 11,
   "id": "6f2ff213-d6b7-458f-acbf-8c73dd497a2a",
   "metadata": {
    "execution": {
     "iopub.execute_input": "2021-12-02T04:34:21.225799Z",
     "iopub.status.busy": "2021-12-02T04:34:21.225350Z",
     "iopub.status.idle": "2021-12-02T04:34:21.226800Z",
     "shell.execute_reply": "2021-12-02T04:34:21.227141Z"
    },
    "papermill": {
     "duration": 0.09836,
     "end_time": "2021-12-02T04:34:21.227254",
     "exception": false,
     "start_time": "2021-12-02T04:34:21.128894",
     "status": "completed"
    },
    "tags": []
   },
   "outputs": [],
   "source": [
    "x = np.random.rand(N_SAMPLES)\n",
    "y = np.random.rand(N_SAMPLES)"
   ]
  },
  {
   "cell_type": "code",
   "execution_count": 12,
   "id": "c0abc65a-2f3c-4476-9c2a-f8d7753b75e6",
   "metadata": {
    "execution": {
     "iopub.execute_input": "2021-12-02T04:34:21.614745Z",
     "iopub.status.busy": "2021-12-02T04:34:21.614223Z",
     "iopub.status.idle": "2021-12-02T04:34:33.925655Z",
     "shell.execute_reply": "2021-12-02T04:34:33.925209Z"
    },
    "papermill": {
     "duration": 12.410211,
     "end_time": "2021-12-02T04:34:33.925764",
     "exception": false,
     "start_time": "2021-12-02T04:34:21.515553",
     "status": "completed"
    },
    "tags": []
   },
   "outputs": [
    {
     "name": "stdout",
     "output_type": "stream",
     "text": [
      "8.51 ms ± 83.1 µs per loop (mean ± std. dev. of 7 runs, 100 loops each)\n"
     ]
    }
   ],
   "source": [
    "%%timeit func()\n",
    "func()"
   ]
  },
  {
   "cell_type": "code",
   "execution_count": 13,
   "id": "e80a7b02-310f-4bd9-90d5-2a41186db39e",
   "metadata": {
    "execution": {
     "iopub.execute_input": "2021-12-02T04:34:34.125850Z",
     "iopub.status.busy": "2021-12-02T04:34:34.125263Z",
     "iopub.status.idle": "2021-12-02T04:34:34.148529Z",
     "shell.execute_reply": "2021-12-02T04:34:34.148886Z"
    },
    "papermill": {
     "duration": 0.124845,
     "end_time": "2021-12-02T04:34:34.149006",
     "exception": false,
     "start_time": "2021-12-02T04:34:34.024161",
     "status": "completed"
    },
    "tags": []
   },
   "outputs": [
    {
     "data": {
      "text/html": [
       "\n",
       "        <iframe\n",
       "            width=\"100%\"\n",
       "            height=\"400\"\n",
       "            src=\"data:text/html, %3C%21DOCTYPE%20html%3E%0A%20%20%20%20%20%20%20%20%20%20%20%20%3Chtml%3E%0A%20%20%20%20%20%20%20%20%20%20%20%20%3Chead%3E%0A%20%20%20%20%20%20%20%20%20%20%20%20%20%20%20%20%3Cmeta%20charset%3D%22utf-8%22%3E%0A%20%20%20%20%20%20%20%20%20%20%20%20%3C/head%3E%0A%20%20%20%20%20%20%20%20%20%20%20%20%3Cbody%3E%0A%20%20%20%20%20%20%20%20%20%20%20%20%20%20%20%20%3Cdiv%20id%3D%22app%22%3E%3C/div%3E%0A%0A%20%20%20%20%20%20%20%20%20%20%20%20%20%20%20%20%3Cscript%3Evar%20pyinstrumentHTMLRenderer%3Dfunction%28%29%7B%22use%20strict%22%3Bvar%20ct%3DObject.defineProperty%3Bvar%20dt%3D%28R%2CC%2CH%29%3D%3EC%20in%20R%3Fct%28R%2CC%2C%7Benumerable%3A%210%2Cconfigurable%3A%210%2Cwritable%3A%210%2Cvalue%3AH%7D%29%3AR%5BC%5D%3DH%3Bvar%20k%3D%28R%2CC%2CH%29%3D%3E%28dt%28R%2Ctypeof%20C%21%3D%22symbol%22%3FC%2B%22%22%3AC%2CH%29%2CH%29%3Bconst%20R%3D%22%22%3Bfunction%20C%28%29%7B%7Dfunction%20H%28t%29%7Breturn%20t%28%29%7Dfunction%20we%28%29%7Breturn%20Object.create%28null%29%7Dfunction%20O%28t%29%7Bt.forEach%28H%29%7Dfunction%20be%28t%29%7Breturn%20typeof%20t%3D%3D%22function%22%7Dfunction%20K%28t%2Ce%29%7Breturn%20t%21%3Dt%3Fe%3D%3De%3At%21%3D%3De%7C%7Ct%26%26typeof%20t%3D%3D%22object%22%7C%7Ctypeof%20t%3D%3D%22function%22%7Dfunction%20Ie%28t%29%7Breturn%20Object.keys%28t%29.length%3D%3D%3D0%7Dfunction%20Re%28t%2C...e%29%7Bif%28t%3D%3Dnull%29return%20C%3Bconst%20i%3Dt.subscribe%28...e%29%3Breturn%20i.unsubscribe%3F%28%29%3D%3Ei.unsubscribe%28%29%3Ai%7Dfunction%20se%28t%2Ce%2Ci%29%7Bt.%24%24.on_destroy.push%28Re%28e%2Ci%29%29%7Dfunction%20f%28t%2Ce%29%7Bt.appendChild%28e%29%7Dfunction%20X%28t%2Ce%2Ci%29%7Bt.insertBefore%28e%2Ci%7C%7Cnull%29%7Dfunction%20N%28t%29%7Bt.parentNode%26%26t.parentNode.removeChild%28t%29%7Dfunction%20_%28t%29%7Breturn%20document.createElement%28t%29%7Dfunction%20ke%28t%29%7Breturn%20document.createElementNS%28%22http%3A//www.w3.org/2000/svg%22%2Ct%29%7Dfunction%20L%28t%29%7Breturn%20document.createTextNode%28t%29%7Dfunction%20w%28%29%7Breturn%20L%28%22%20%22%29%7Dfunction%20ye%28%29%7Breturn%20L%28%22%22%29%7Dfunction%20W%28t%2Ce%2Ci%2Cn%29%7Breturn%20t.addEventListener%28e%2Ci%2Cn%29%2C%28%29%3D%3Et.removeEventListener%28e%2Ci%2Cn%29%7Dfunction%20Ce%28t%29%7Breturn%20function%28e%29%7Breturn%20e.preventDefault%28%29%2Ct.call%28this%2Ce%29%7D%7Dfunction%20Ee%28t%29%7Breturn%20function%28e%29%7Breturn%20e.stopPropagation%28%29%2Ct.call%28this%2Ce%29%7D%7Dfunction%20m%28t%2Ce%2Ci%29%7Bi%3D%3Dnull%3Ft.removeAttribute%28e%29%3At.getAttribute%28e%29%21%3D%3Di%26%26t.setAttribute%28e%2Ci%29%7Dfunction%20Oe%28t%29%7Breturn%20Array.from%28t.childNodes%29%7Dfunction%20q%28t%2Ce%29%7Be%3D%22%22%2Be%2Ct.wholeText%21%3D%3De%26%26%28t.data%3De%29%7Dfunction%20T%28t%2Ce%2Ci%2Cn%29%7Bi%3D%3D%3Dnull%3Ft.style.removeProperty%28e%29%3At.style.setProperty%28e%2Ci%2Cn%3F%22important%22%3A%22%22%29%7Dfunction%20Q%28t%2Ce%2Ci%29%7Bt.classList%5Bi%3F%22add%22%3A%22remove%22%5D%28e%29%7Dlet%20V%3Bfunction%20Z%28t%29%7BV%3Dt%7Dfunction%20Te%28%29%7Bif%28%21V%29throw%20new%20Error%28%22Function%20called%20outside%20component%20initialization%22%29%3Breturn%20V%7Dfunction%20qe%28t%29%7BTe%28%29.%24%24.on_mount.push%28t%29%7Dfunction%20Ue%28t%29%7BTe%28%29.%24%24.on_destroy.push%28t%29%7Dconst%20Y%3D%5B%5D%2CFe%3D%5B%5D%2Cj%3D%5B%5D%2CSe%3D%5B%5D%2CVe%3DPromise.resolve%28%29%3Blet%20ae%3D%211%3Bfunction%20Ze%28%29%7Bae%7C%7C%28ae%3D%210%2CVe.then%28%24e%29%29%7Dfunction%20ue%28t%29%7Bj.push%28t%29%7Dconst%20fe%3Dnew%20Set%3Blet%20x%3D0%3Bfunction%20%24e%28%29%7Bconst%20t%3DV%3Bdo%7Bfor%28%3Bx%3CY.length%3B%29%7Bconst%20e%3DY%5Bx%5D%3Bx%2B%2B%2CZ%28e%29%2CYe%28e.%24%24%29%7Dfor%28Z%28null%29%2CY.length%3D0%2Cx%3D0%3BFe.length%3B%29Fe.pop%28%29%28%29%3Bfor%28let%20e%3D0%3Be%3Cj.length%3Be%2B%3D1%29%7Bconst%20i%3Dj%5Be%5D%3Bfe.has%28i%29%7C%7C%28fe.add%28i%29%2Ci%28%29%29%7Dj.length%3D0%7Dwhile%28Y.length%29%3Bfor%28%3BSe.length%3B%29Se.pop%28%29%28%29%3Bae%3D%211%2Cfe.clear%28%29%2CZ%28t%29%7Dfunction%20Ye%28t%29%7Bif%28t.fragment%21%3D%3Dnull%29%7Bt.update%28%29%2CO%28t.before_update%29%3Bconst%20e%3Dt.dirty%3Bt.dirty%3D%5B-1%5D%2Ct.fragment%26%26t.fragment.p%28t.ctx%2Ce%29%2Ct.after_update.forEach%28ue%29%7D%7Dconst%20ee%3Dnew%20Set%3Blet%20G%3Bfunction%20ce%28%29%7BG%3D%7Br%3A0%2Cc%3A%5B%5D%2Cp%3AG%7D%7Dfunction%20de%28%29%7BG.r%7C%7CO%28G.c%29%2CG%3DG.p%7Dfunction%20D%28t%2Ce%29%7Bt%26%26t.i%26%26%28ee.delete%28t%29%2Ct.i%28e%29%29%7Dfunction%20z%28t%2Ce%2Ci%2Cn%29%7Bif%28t%26%26t.o%29%7Bif%28ee.has%28t%29%29return%3Bee.add%28t%29%2CG.c.push%28%28%29%3D%3E%7Bee.delete%28t%29%2Cn%26%26%28i%26%26t.d%281%29%2Cn%28%29%29%7D%29%2Ct.o%28e%29%7Delse%20n%26%26n%28%29%7Dfunction%20Je%28t%2Ce%29%7Bz%28t%2C1%2C1%2C%28%29%3D%3E%7Be.delete%28t.key%29%7D%29%7Dfunction%20Ke%28t%2Ce%2Ci%2Cn%2Cs%2Cu%2Cr%2Co%2Ca%2Cl%2Ch%2Cp%29%7Blet%20d%3Dt.length%2Cg%3Du.length%2CA%3Dd%3Bconst%20b%3D%7B%7D%3Bfor%28%3BA--%3B%29b%5Bt%5BA%5D.key%5D%3DA%3Bconst%20F%3D%5B%5D%2Cc%3Dnew%20Map%2Cv%3Dnew%20Map%3Bfor%28A%3Dg%3BA--%3B%29%7Bconst%20y%3Dp%28s%2Cu%2CA%29%2CS%3Di%28y%29%3Blet%20P%3Dr.get%28S%29%3BP%3Fn%26%26P.p%28y%2Ce%29%3A%28P%3Dl%28S%2Cy%29%2CP.c%28%29%29%2Cc.set%28S%2CF%5BA%5D%3DP%29%2CS%20in%20b%26%26v.set%28S%2CMath.abs%28A-b%5BS%5D%29%29%7Dconst%20%24%3Dnew%20Set%2CM%3Dnew%20Set%3Bfunction%20E%28y%29%7BD%28y%2C1%29%2Cy.m%28o%2Ch%29%2Cr.set%28y.key%2Cy%29%2Ch%3Dy.first%2Cg--%7Dfor%28%3Bd%26%26g%3B%29%7Bconst%20y%3DF%5Bg-1%5D%2CS%3Dt%5Bd-1%5D%2CP%3Dy.key%2CB%3DS.key%3By%3D%3D%3DS%3F%28h%3Dy.first%2Cd--%2Cg--%29%3Ac.has%28B%29%3F%21r.has%28P%29%7C%7C%24.has%28P%29%3FE%28y%29%3AM.has%28B%29%3Fd--%3Av.get%28P%29%3Ev.get%28B%29%3F%28M.add%28P%29%2CE%28y%29%29%3A%28%24.add%28B%29%2Cd--%29%3A%28a%28S%2Cr%29%2Cd--%29%7Dfor%28%3Bd--%3B%29%7Bconst%20y%3Dt%5Bd%5D%3Bc.has%28y.key%29%7C%7Ca%28y%2Cr%29%7Dfor%28%3Bg%3B%29E%28F%5Bg-1%5D%29%3Breturn%20F%7Dfunction%20pe%28t%29%7Bt%26%26t.c%28%29%7Dfunction%20te%28t%2Ce%2Ci%2Cn%29%7Bconst%7Bfragment%3As%2Cafter_update%3Au%7D%3Dt.%24%24%3Bs%26%26s.m%28e%2Ci%29%2Cn%7C%7Cue%28%28%29%3D%3E%7Bconst%20r%3Dt.%24%24.on_mount.map%28H%29.filter%28be%29%3Bt.%24%24.on_destroy%3Ft.%24%24.on_destroy.push%28...r%29%3AO%28r%29%2Ct.%24%24.on_mount%3D%5B%5D%7D%29%2Cu.forEach%28ue%29%7Dfunction%20ie%28t%2Ce%29%7Bconst%20i%3Dt.%24%24%3Bi.fragment%21%3D%3Dnull%26%26%28O%28i.on_destroy%29%2Ci.fragment%26%26i.fragment.d%28e%29%2Ci.on_destroy%3Di.fragment%3Dnull%2Ci.ctx%3D%5B%5D%29%7Dfunction%20We%28t%2Ce%29%7Bt.%24%24.dirty%5B0%5D%3D%3D%3D-1%26%26%28Y.push%28t%29%2CZe%28%29%2Ct.%24%24.dirty.fill%280%29%29%2Ct.%24%24.dirty%5Be/31%7C0%5D%7C%3D1%3C%3Ce%2531%7Dfunction%20me%28t%2Ce%2Ci%2Cn%2Cs%2Cu%2Cr%2Co%3D%5B-1%5D%29%7Bconst%20a%3DV%3BZ%28t%29%3Bconst%20l%3Dt.%24%24%3D%7Bfragment%3Anull%2Cctx%3A%5B%5D%2Cprops%3Au%2Cupdate%3AC%2Cnot_equal%3As%2Cbound%3Awe%28%29%2Con_mount%3A%5B%5D%2Con_destroy%3A%5B%5D%2Con_disconnect%3A%5B%5D%2Cbefore_update%3A%5B%5D%2Cafter_update%3A%5B%5D%2Ccontext%3Anew%20Map%28e.context%7C%7C%28a%3Fa.%24%24.context%3A%5B%5D%29%29%2Ccallbacks%3Awe%28%29%2Cdirty%3Ao%2Cskip_bound%3A%211%2Croot%3Ae.target%7C%7Ca.%24%24.root%7D%3Br%26%26r%28l.root%29%3Blet%20h%3D%211%3Bif%28l.ctx%3Di%3Fi%28t%2Ce.props%7C%7C%7B%7D%2C%28p%2Cd%2C...g%29%3D%3E%7Bconst%20A%3Dg.length%3Fg%5B0%5D%3Ad%3Breturn%20l.ctx%26%26s%28l.ctx%5Bp%5D%2Cl.ctx%5Bp%5D%3DA%29%26%26%28%21l.skip_bound%26%26l.bound%5Bp%5D%26%26l.bound%5Bp%5D%28A%29%2Ch%26%26We%28t%2Cp%29%29%2Cd%7D%29%3A%5B%5D%2Cl.update%28%29%2Ch%3D%210%2CO%28l.before_update%29%2Cl.fragment%3Dn%3Fn%28l.ctx%29%3A%211%2Ce.target%29%7Bif%28e.hydrate%29%7Bconst%20p%3DOe%28e.target%29%3Bl.fragment%26%26l.fragment.l%28p%29%2Cp.forEach%28N%29%7Delse%20l.fragment%26%26l.fragment.c%28%29%3Be.intro%26%26D%28t.%24%24.fragment%29%2Cte%28t%2Ce.target%2Ce.anchor%2Ce.customElement%29%2C%24e%28%29%7DZ%28a%29%7Dclass%20he%7B%24destroy%28%29%7Bie%28this%2C1%29%2Cthis.%24destroy%3DC%7D%24on%28e%2Ci%29%7Bif%28%21be%28i%29%29return%20C%3Bconst%20n%3Dthis.%24%24.callbacks%5Be%5D%7C%7C%28this.%24%24.callbacks%5Be%5D%3D%5B%5D%29%3Breturn%20n.push%28i%29%2C%28%29%3D%3E%7Bconst%20s%3Dn.indexOf%28i%29%3Bs%21%3D%3D-1%26%26n.splice%28s%2C1%29%7D%7D%24set%28e%29%7Bthis.%24%24set%26%26%21Ie%28e%29%26%26%28this.%24%24.skip_bound%3D%210%2Cthis.%24%24set%28e%29%2Cthis.%24%24.skip_bound%3D%211%29%7D%7Dconst%20U%3D%5B%5D%3Bfunction%20Pe%28t%2Ce%3DC%29%7Blet%20i%3Bconst%20n%3Dnew%20Set%3Bfunction%20s%28o%29%7Bif%28K%28t%2Co%29%26%26%28t%3Do%2Ci%29%29%7Bconst%20a%3D%21U.length%3Bfor%28const%20l%20of%20n%29l%5B1%5D%28%29%2CU.push%28l%2Ct%29%3Bif%28a%29%7Bfor%28let%20l%3D0%3Bl%3CU.length%3Bl%2B%3D2%29U%5Bl%5D%5B0%5D%28U%5Bl%2B1%5D%29%3BU.length%3D0%7D%7D%7Dfunction%20u%28o%29%7Bs%28o%28t%29%29%7Dfunction%20r%28o%2Ca%3DC%29%7Bconst%20l%3D%5Bo%2Ca%5D%3Breturn%20n.add%28l%29%2Cn.size%3D%3D%3D1%26%26%28i%3De%28s%29%7C%7CC%29%2Co%28t%29%2C%28%29%3D%3E%7Bn.delete%28l%29%2Cn.size%3D%3D%3D0%26%26%28i%28%29%2Ci%3Dnull%29%7D%7Dreturn%7Bset%3As%2Cupdate%3Au%2Csubscribe%3Ar%7D%7Dconst%20De%3DPe%28%7B%7D%29%2Cne%3DPe%28%22absolute%22%29%2Cpt%3D%22%22%3Bfunction%20je%28t%29%7Blet%20e%2Ci%2Cn%2Cs%2Cu%2Cr%2Co%2Ca%2Cl%2Ch%2Cp%2Cd%2Cg%2CA%2Cb%2CF%2Cc%2Cv%2C%24%2CM%2CE%2Cy%2CS%2CP%2CB%2Cre%3Dt%5B0%5D.sampleCount%2B%22%22%2Cve%2CXe%2Cle%2CQe%2Coe%2CAe%2CGe%3Breturn%7Bc%28%29%7Be%3D_%28%22div%22%29%2Ci%3D_%28%22div%22%29%2Cn%3D_%28%22div%22%29%2Cs%3D_%28%22div%22%29%2Cs.textContent%3D%22pyinstrument%22%2Cu%3Dw%28%29%2Cr%3D_%28%22div%22%29%2Co%3D_%28%22label%22%29%2Co.textContent%3D%22Absolute%20time%22%2Ca%3Dw%28%29%2Cl%3D_%28%22input%22%29%2Ch%3Dw%28%29%2Cp%3D_%28%22div%22%29%2Cp.textContent%3D%22Recorded%3A%22%2Cd%3Dw%28%29%2Cg%3D_%28%22div%22%29%2Cg.textContent%3D%60%24%7Bt%5B2%5D%7D%60%2CA%3Dw%28%29%2Cb%3D_%28%22div%22%29%2Cb.textContent%3D%22Duration%3A%22%2CF%3Dw%28%29%2Cc%3D_%28%22div%22%29%2Cc.textContent%3D%60%24%7Bt%5B4%5D%7D%20seconds%60%2Cv%3Dw%28%29%2C%24%3D_%28%22label%22%29%2C%24.textContent%3D%22Proportional%20time%22%2CM%3Dw%28%29%2CE%3D_%28%22input%22%29%2Cy%3Dw%28%29%2CS%3D_%28%22div%22%29%2CS.textContent%3D%22Samples%3A%22%2CP%3Dw%28%29%2CB%3D_%28%22div%22%29%2Cve%3DL%28re%29%2CXe%3Dw%28%29%2Cle%3D_%28%22div%22%29%2Cle.textContent%3D%22CPU%20time%3A%22%2CQe%3Dw%28%29%2Coe%3D_%28%22div%22%29%2Coe.textContent%3D%60%24%7Bt%5B3%5D%7D%20seconds%60%2Cm%28s%2C%22class%22%2C%22title%20svelte-tewt95%22%29%2Cm%28o%2C%22class%22%2C%22metric-label%20svelte-tewt95%22%29%2Cm%28o%2C%22for%22%2C%22absolute%22%29%2Cm%28l%2C%22type%22%2C%22radio%22%29%2Cl.__value%3D%22absolute%22%2Cl.value%3Dl.__value%2Cm%28l%2C%22id%22%2C%22absolute%22%29%2Cm%28l%2C%22name%22%2C%22time-format%22%29%2Cl.checked%3D%210%2Ct%5B6%5D%5B0%5D.push%28l%29%2Cm%28p%2C%22class%22%2C%22metric-label%20svelte-tewt95%22%29%2Cm%28g%2C%22class%22%2C%22metric-value%20svelte-tewt95%22%29%2Cm%28b%2C%22class%22%2C%22metric-label%20svelte-tewt95%22%29%2Cm%28c%2C%22class%22%2C%22metric-value%20svelte-tewt95%22%29%2Cm%28%24%2C%22class%22%2C%22metric-label%20svelte-tewt95%22%29%2Cm%28%24%2C%22for%22%2C%22proportion%22%29%2Cm%28E%2C%22type%22%2C%22radio%22%29%2CE.__value%3D%22proportion%22%2CE.value%3DE.__value%2Cm%28E%2C%22id%22%2C%22proportion%22%29%2Cm%28E%2C%22name%22%2C%22time-format%22%29%2Ct%5B6%5D%5B0%5D.push%28E%29%2Cm%28S%2C%22class%22%2C%22metric-label%20svelte-tewt95%22%29%2Cm%28B%2C%22class%22%2C%22metric-value%20svelte-tewt95%22%29%2Cm%28le%2C%22class%22%2C%22metric-label%20svelte-tewt95%22%29%2Cm%28oe%2C%22class%22%2C%22metric-value%20svelte-tewt95%22%29%2Cm%28r%2C%22class%22%2C%22metrics%20svelte-tewt95%22%29%2Cm%28n%2C%22class%22%2C%22row%20svelte-tewt95%22%29%2Cm%28i%2C%22class%22%2C%22margins%22%29%2Cm%28e%2C%22class%22%2C%22header%20svelte-tewt95%22%29%7D%2Cm%28I%2CJ%29%7BX%28I%2Ce%2CJ%29%2Cf%28e%2Ci%29%2Cf%28i%2Cn%29%2Cf%28n%2Cs%29%2Cf%28n%2Cu%29%2Cf%28n%2Cr%29%2Cf%28r%2Co%29%2Cf%28r%2Ca%29%2Cf%28r%2Cl%29%2Cl.checked%3Dl.__value%3D%3D%3Dt%5B1%5D%2Cf%28r%2Ch%29%2Cf%28r%2Cp%29%2Cf%28r%2Cd%29%2Cf%28r%2Cg%29%2Cf%28r%2CA%29%2Cf%28r%2Cb%29%2Cf%28r%2CF%29%2Cf%28r%2Cc%29%2Cf%28r%2Cv%29%2Cf%28r%2C%24%29%2Cf%28r%2CM%29%2Cf%28r%2CE%29%2CE.checked%3DE.__value%3D%3D%3Dt%5B1%5D%2Cf%28r%2Cy%29%2Cf%28r%2CS%29%2Cf%28r%2CP%29%2Cf%28r%2CB%29%2Cf%28B%2Cve%29%2Cf%28r%2CXe%29%2Cf%28r%2Cle%29%2Cf%28r%2CQe%29%2Cf%28r%2Coe%29%2CAe%7C%7C%28Ge%3D%5BW%28l%2C%22change%22%2Ct%5B5%5D%29%2CW%28E%2C%22change%22%2Ct%5B7%5D%29%5D%2CAe%3D%210%29%7D%2Cp%28I%2C%5BJ%5D%29%7BJ%262%26%26%28l.checked%3Dl.__value%3D%3D%3DI%5B1%5D%29%2CJ%262%26%26%28E.checked%3DE.__value%3D%3D%3DI%5B1%5D%29%2CJ%261%26%26re%21%3D%3D%28re%3DI%5B0%5D.sampleCount%2B%22%22%29%26%26q%28ve%2Cre%29%7D%2Ci%3AC%2Co%3AC%2Cd%28I%29%7BI%26%26N%28e%29%2Ct%5B6%5D%5B0%5D.splice%28t%5B6%5D%5B0%5D.indexOf%28l%29%2C1%29%2Ct%5B6%5D%5B0%5D.splice%28t%5B6%5D%5B0%5D.indexOf%28E%29%2C1%29%2CAe%3D%211%2CO%28Ge%29%7D%7D%7Dfunction%20xe%28t%2Ce%2Ci%29%7Bvar%20p%3Blet%20n%3Bse%28t%2Cne%2Cd%3D%3Ei%281%2Cn%3Dd%29%29%3Blet%7Bsession%3As%7D%3De%3Bconst%20u%3Dnew%20Date%28s.startTime%2A1e3%29.toLocaleString%28%29%2Cr%3D%28p%3Ds.cpuTime%29%3D%3Dnull%3Fvoid%200%3Ap.toLocaleString%28void%200%2C%7BmaximumSignificantDigits%3A3%7D%29%2Co%3Ds.duration.toLocaleString%28void%200%2C%7BmaximumSignificantDigits%3A3%7D%29%2Ca%3D%5B%5B%5D%5D%3Bfunction%20l%28%29%7Bn%3Dthis.__value%2Cne.set%28n%29%7Dfunction%20h%28%29%7Bn%3Dthis.__value%2Cne.set%28n%29%7Dreturn%20t.%24%24set%3Dd%3D%3E%7B%22session%22in%20d%26%26i%280%2Cs%3Dd.session%29%7D%2C%5Bs%2Cn%2Cu%2Cr%2Co%2Cl%2Ca%2Ch%5D%7Dclass%20et%20extends%20he%7Bconstructor%28e%29%7Bsuper%28%29%2Cme%28this%2Ce%2Cxe%2Cje%2CK%2C%7Bsession%3A0%7D%29%7D%7Dconst%20mt%3D%22%22%3Bfunction%20Me%28t%2Ce%2Ci%29%7Bconst%20n%3Dt.slice%28%29%3Breturn%20n%5B14%5D%3De%5Bi%5D%2Cn%7Dfunction%20Le%28t%29%7Blet%20e%2Ci%2Cn%2Cs%2Cu%2Cr%2Co%2Ca%2Cl%2Ch%2Cp%2Cd%2Cg%2CA%2Cb%2CF%3Breturn%7Bc%28%29%7Be%3D_%28%22div%22%29%2Ci%3D_%28%22div%22%29%2Cn%3Dke%28%22svg%22%29%2Cs%3Dke%28%22path%22%29%2Cu%3Dw%28%29%2Cr%3D_%28%22div%22%29%2Co%3DL%28t%5B5%5D%29%2Ca%3Dw%28%29%2Cl%3D_%28%22div%22%29%2Ch%3DL%28t%5B4%5D%29%2Cp%3Dw%28%29%2Cd%3D_%28%22div%22%29%2Cg%3Dw%28%29%2CA%3D_%28%22div%22%29%2CA.textContent%3D%60%24%7Bt%5B9%5D%7D%60%2Cm%28s%2C%22d%22%2C%22M.937-.016L5.793%204.84.937%209.696z%22%29%2Cm%28s%2C%22fill%22%2Ct%5B7%5D%29%2Cm%28s%2C%22fill-rule%22%2C%22evenodd%22%29%2Cm%28s%2C%22fill-opacity%22%2C%22.582%22%29%2Cm%28n%2C%22width%22%2C%226%22%29%2Cm%28n%2C%22height%22%2C%2210%22%29%2Cm%28i%2C%22class%22%2C%22frame-triangle%20svelte-1aphj50%22%29%2CQ%28i%2C%22rotate%22%2Ct%5B2%5D%29%2CT%28i%2C%22visibility%22%2Ct%5B0%5D.children.length%3E0%3F%22visible%22%3A%22hidden%22%29%2Cm%28r%2C%22class%22%2C%22time%20svelte-1aphj50%22%29%2CT%28r%2C%22color%22%2Ct%5B7%5D%29%2CT%28r%2C%22font-weight%22%2Ct%5B0%5D.proportionOfTotal%3C.2%3F500%3A600%29%2Cm%28l%2C%22class%22%2C%22name%20svelte-1aphj50%22%29%2Cm%28d%2C%22class%22%2C%22spacer%22%29%2CT%28d%2C%22flex%22%2C%221%22%29%2Cm%28A%2C%22class%22%2C%22code-position%20svelte-1aphj50%22%29%2Cm%28e%2C%22class%22%2C%22frame-description%20svelte-1aphj50%22%29%2CQ%28e%2C%22application-code%22%2Ct%5B0%5D.isApplicationCode%29%2CQ%28e%2C%22children-visible%22%2Ct%5B2%5D%29%2CT%28e%2C%22padding-left%22%2C%60%24%7Bt%5B1%5D%2A35%7Dpx%60%29%7D%2Cm%28c%2Cv%29%7BX%28c%2Ce%2Cv%29%2Cf%28e%2Ci%29%2Cf%28i%2Cn%29%2Cf%28n%2Cs%29%2Cf%28e%2Cu%29%2Cf%28e%2Cr%29%2Cf%28r%2Co%29%2Cf%28e%2Ca%29%2Cf%28e%2Cl%29%2Cf%28l%2Ch%29%2Cf%28e%2Cp%29%2Cf%28e%2Cd%29%2Cf%28e%2Cg%29%2Cf%28e%2CA%29%2Cb%7C%7C%28F%3DW%28e%2C%22click%22%2CEe%28Ce%28t%5B10%5D%29%29%29%2Cb%3D%210%29%7D%2Cp%28c%2Cv%29%7Bv%26128%26%26m%28s%2C%22fill%22%2Cc%5B7%5D%29%2Cv%264%26%26Q%28i%2C%22rotate%22%2Cc%5B2%5D%29%2Cv%261%26%26T%28i%2C%22visibility%22%2Cc%5B0%5D.children.length%3E0%3F%22visible%22%3A%22hidden%22%29%2Cv%2632%26%26q%28o%2Cc%5B5%5D%29%2Cv%26128%26%26T%28r%2C%22color%22%2Cc%5B7%5D%29%2Cv%261%26%26T%28r%2C%22font-weight%22%2Cc%5B0%5D.proportionOfTotal%3C.2%3F500%3A600%29%2Cv%2616%26%26q%28h%2Cc%5B4%5D%29%2Cv%261%26%26Q%28e%2C%22application-code%22%2Cc%5B0%5D.isApplicationCode%29%2Cv%264%26%26Q%28e%2C%22children-visible%22%2Cc%5B2%5D%29%2Cv%262%26%26T%28e%2C%22padding-left%22%2C%60%24%7Bc%5B1%5D%2A35%7Dpx%60%29%7D%2Cd%28c%29%7Bc%26%26N%28e%29%2Cb%3D%211%2CF%28%29%7D%7D%7Dfunction%20Ne%28t%29%7Blet%20e%2Ci%2Cn%2Cs%2Cu%3Dt%5B0%5D.group.frames.length%2B%22%22%2Cr%2Co%2Ca%2Cl%2Ch%2Cp%3Breturn%7Bc%28%29%7Be%3D_%28%22div%22%29%2Ci%3D_%28%22div%22%29%2Cn%3D_%28%22div%22%29%2Cn.innerHTML%3D%27%3Csvg%20width%3D%226%22%20height%3D%2210%22%3E%3Cpath%20d%3D%22M.937-.016L5.793%204.84.937%209.696z%22%20fill%3D%22%23FFF%22%20fill-rule%3D%22evenodd%22%20fill-opacity%3D%22.582%22%3E%3C/path%3E%3C/svg%3E%27%2Cs%3Dw%28%29%2Cr%3DL%28u%29%2Co%3DL%28%60%20frames%20hidden%0A%20%20%20%20%20%20%20%20%28%60%29%2Ca%3DL%28t%5B6%5D%29%2Cl%3DL%28%22%29%22%29%2Cm%28n%2C%22class%22%2C%22group-triangle%20svelte-1aphj50%22%29%2CQ%28n%2C%22rotate%22%2Ct%5B8%5D%29%2Cm%28i%2C%22class%22%2C%22group-header-button%20svelte-1aphj50%22%29%2Cm%28e%2C%22class%22%2C%22group-header%20svelte-1aphj50%22%29%2CT%28e%2C%22padding-left%22%2C%60%24%7Bt%5B1%5D%2A35%7Dpx%60%29%7D%2Cm%28d%2Cg%29%7BX%28d%2Ce%2Cg%29%2Cf%28e%2Ci%29%2Cf%28i%2Cn%29%2Cf%28i%2Cs%29%2Cf%28i%2Cr%29%2Cf%28i%2Co%29%2Cf%28i%2Ca%29%2Cf%28i%2Cl%29%2Ch%7C%7C%28p%3DW%28e%2C%22click%22%2CEe%28Ce%28t%5B11%5D%29%29%29%2Ch%3D%210%29%7D%2Cp%28d%2Cg%29%7Bg%26256%26%26Q%28n%2C%22rotate%22%2Cd%5B8%5D%29%2Cg%261%26%26u%21%3D%3D%28u%3Dd%5B0%5D.group.frames.length%2B%22%22%29%26%26q%28r%2Cu%29%2Cg%2664%26%26q%28a%2Cd%5B6%5D%29%2Cg%262%26%26T%28e%2C%22padding-left%22%2C%60%24%7Bd%5B1%5D%2A35%7Dpx%60%29%7D%2Cd%28d%29%7Bd%26%26N%28e%29%2Ch%3D%211%2Cp%28%29%7D%7D%7Dfunction%20ze%28t%29%7Blet%20e%3D%5B%5D%2Ci%3Dnew%20Map%2Cn%2Cs%2Cu%3Dt%5B0%5D.children%3Bconst%20r%3Do%3D%3Eo%5B14%5D.identifier%3Bfor%28let%20o%3D0%3Bo%3Cu.length%3Bo%2B%3D1%29%7Blet%20a%3DMe%28t%2Cu%2Co%29%2Cl%3Dr%28a%29%3Bi.set%28l%2Ce%5Bo%5D%3DBe%28l%2Ca%29%29%7Dreturn%7Bc%28%29%7Bfor%28let%20o%3D0%3Bo%3Ce.length%3Bo%2B%3D1%29e%5Bo%5D.c%28%29%3Bn%3Dye%28%29%7D%2Cm%28o%2Ca%29%7Bfor%28let%20l%3D0%3Bl%3Ce.length%3Bl%2B%3D1%29e%5Bl%5D.m%28o%2Ca%29%3BX%28o%2Cn%2Ca%29%2Cs%3D%210%7D%2Cp%28o%2Ca%29%7Ba%2611%26%26%28u%3Do%5B0%5D.children%2Cce%28%29%2Ce%3DKe%28e%2Ca%2Cr%2C1%2Co%2Cu%2Ci%2Cn.parentNode%2CJe%2CBe%2Cn%2CMe%29%2Cde%28%29%29%7D%2Ci%28o%29%7Bif%28%21s%29%7Bfor%28let%20a%3D0%3Ba%3Cu.length%3Ba%2B%3D1%29D%28e%5Ba%5D%29%3Bs%3D%210%7D%7D%2Co%28o%29%7Bfor%28let%20a%3D0%3Ba%3Ce.length%3Ba%2B%3D1%29z%28e%5Ba%5D%29%3Bs%3D%211%7D%2Cd%28o%29%7Bfor%28let%20a%3D0%3Ba%3Ce.length%3Ba%2B%3D1%29e%5Ba%5D.d%28o%29%3Bo%26%26N%28n%29%7D%7D%7Dfunction%20Be%28t%2Ce%29%7Blet%20i%2Cn%2Cs%3Breturn%20n%3Dnew%20He%28%7Bprops%3A%7Bframe%3Ae%5B14%5D%2Cindent%3Ae%5B1%5D%2B%28e%5B3%5D%3F1%3A0%29%7D%7D%29%2C%7Bkey%3At%2Cfirst%3Anull%2Cc%28%29%7Bi%3Dye%28%29%2Cpe%28n.%24%24.fragment%29%2Cthis.first%3Di%7D%2Cm%28u%2Cr%29%7BX%28u%2Ci%2Cr%29%2Cte%28n%2Cu%2Cr%29%2Cs%3D%210%7D%2Cp%28u%2Cr%29%7Be%3Du%3Bconst%20o%3D%7B%7D%3Br%261%26%26%28o.frame%3De%5B14%5D%29%2Cr%2610%26%26%28o.indent%3De%5B1%5D%2B%28e%5B3%5D%3F1%3A0%29%29%2Cn.%24set%28o%29%7D%2Ci%28u%29%7Bs%7C%7C%28D%28n.%24%24.fragment%2Cu%29%2Cs%3D%210%29%7D%2Co%28u%29%7Bz%28n.%24%24.fragment%2Cu%29%2Cs%3D%211%7D%2Cd%28u%29%7Bu%26%26N%28i%29%2Cie%28n%2Cu%29%7D%7D%7Dfunction%20tt%28t%29%7Blet%20e%2Ci%2Cn%2Cs%2Cu%2Cr%2Co%3Dt%5B3%5D%26%26Le%28t%29%2Ca%3Dt%5B0%5D.group%26%26t%5B0%5D.group.rootFrame%3D%3Dt%5B0%5D%26%26t%5B2%5D%26%26Ne%28t%29%2Cl%3Dt%5B2%5D%26%26ze%28t%29%3Breturn%7Bc%28%29%7Be%3D_%28%22div%22%29%2Co%26%26o.c%28%29%2Ci%3Dw%28%29%2Ca%26%26a.c%28%29%2Cn%3Dw%28%29%2Cl%26%26l.c%28%29%2Cs%3Dw%28%29%2Cu%3D_%28%22div%22%29%2Cm%28u%2C%22class%22%2C%22visual-guide%22%29%2CT%28u%2C%22left%22%2C%60%24%7Bt%5B1%5D%2A35%2B21%7Dpx%60%29%2CT%28u%2C%22backgroundColor%22%2Ct%5B7%5D%29%2Cm%28e%2C%22class%22%2C%22frame%20svelte-1aphj50%22%29%7D%2Cm%28h%2Cp%29%7BX%28h%2Ce%2Cp%29%2Co%26%26o.m%28e%2Cnull%29%2Cf%28e%2Ci%29%2Ca%26%26a.m%28e%2Cnull%29%2Cf%28e%2Cn%29%2Cl%26%26l.m%28e%2Cnull%29%2Cf%28e%2Cs%29%2Cf%28e%2Cu%29%2Cr%3D%210%7D%2Cp%28h%2C%5Bp%5D%29%7Bh%5B3%5D%3Fo%3Fo.p%28h%2Cp%29%3A%28o%3DLe%28h%29%2Co.c%28%29%2Co.m%28e%2Ci%29%29%3Ao%26%26%28o.d%281%29%2Co%3Dnull%29%2Ch%5B0%5D.group%26%26h%5B0%5D.group.rootFrame%3D%3Dh%5B0%5D%26%26h%5B2%5D%3Fa%3Fa.p%28h%2Cp%29%3A%28a%3DNe%28h%29%2Ca.c%28%29%2Ca.m%28e%2Cn%29%29%3Aa%26%26%28a.d%281%29%2Ca%3Dnull%29%2Ch%5B2%5D%3Fl%3F%28l.p%28h%2Cp%29%2Cp%264%26%26D%28l%2C1%29%29%3A%28l%3Dze%28h%29%2Cl.c%28%29%2CD%28l%2C1%29%2Cl.m%28e%2Cs%29%29%3Al%26%26%28ce%28%29%2Cz%28l%2C1%2C1%2C%28%29%3D%3E%7Bl%3Dnull%7D%29%2Cde%28%29%29%2Cp%262%26%26T%28u%2C%22left%22%2C%60%24%7Bh%5B1%5D%2A35%2B21%7Dpx%60%29%2Cp%26128%26%26T%28u%2C%22backgroundColor%22%2Ch%5B7%5D%29%7D%2Ci%28h%29%7Br%7C%7C%28D%28l%29%2Cr%3D%210%29%7D%2Co%28h%29%7Bz%28l%29%2Cr%3D%211%7D%2Cd%28h%29%7Bh%26%26N%28e%29%2Co%26%26o.d%28%29%2Ca%26%26a.d%28%29%2Cl%26%26l.d%28%29%7D%7D%7Dfunction%20it%28t%2Ce%2Ci%29%7Blet%20n%2Cs%2Cu%3Bse%28t%2CDe%2Cc%3D%3Ei%2812%2Cs%3Dc%29%29%2Cse%28t%2Cne%2Cc%3D%3Ei%2813%2Cu%3Dc%29%29%3Blet%7Bframe%3Ar%7D%3De%2C%7Bindent%3Ao%3D0%7D%3De%2Ca%3D%210%2Cl%2Ch%3Br.className%3Fh%3D%60%24%7Br.className%7D.%24%7Br.function%7D%60%3Ah%3Dr.function%3Bconst%20p%3D%60%24%7Br.filePathShort%7D%3A%24%7Br.lineNo.toString%28%29.padEnd%284%2C%22%5CxA0%22%29%7D%60%3Blet%20d%2Cg%3Dnull%3Bif%28r.group%29%7Bconst%20c%3Dr.group.libraries%3Bc.length%3C4%3Fg%3Dc.join%28%22%2C%20%22%29%3Ag%3D%60%24%7Bc%5B0%5D%7D%2C%20%24%7Bc%5B1%5D%7D%2C%20%24%7Bc%5B2%5D%7D...%60%7Dlet%20A%3Br.proportionOfTotal%3E.6%3FA%3D%22%23FF4159%22%3Ar.proportionOfTotal%3E.3%3FA%3D%22%23F5A623%22%3Ar.proportionOfTotal%3E.2%3FA%3D%22%23D8CB2A%22%3AA%3D%22%237ED321%22%3Bfunction%20b%28%29%7Bi%282%2Ca%3D%21a%29%7Dfunction%20F%28%29%7BDe.update%28c%3D%3E%7Bvar%20v%3Breturn%7B...c%2C%5B%28v%3Dr.groupId%29%21%3Dnull%3Fv%3A%22%22%5D%3A%21n%7D%7D%29%7Dreturn%20t.%24%24set%3Dc%3D%3E%7B%22frame%22in%20c%26%26i%280%2Cr%3Dc.frame%29%2C%22indent%22in%20c%26%26i%281%2Co%3Dc.indent%29%7D%2Ct.%24%24.update%3D%28%29%3D%3E%7Bvar%20c%2Cv%2C%24%3Bif%28t.%24%24.dirty%264097%26%26%28r.group%3Fs%5B%28c%3Dr.groupId%29%21%3Dnull%3Fc%3A%22%22%5D%7C%7C%28%28v%3Dr.group%29%3D%3Dnull%3Fvoid%200%3Av.rootFrame%29%3D%3D%3Dr%7C%7Cr.children.filter%28M%3D%3E%21M.group%29.length%3E1%3Fi%283%2Cl%3D%210%29%3Ai%283%2Cl%3D%211%29%3Ai%283%2Cl%3D%210%29%29%2Ct.%24%24.dirty%268193%29if%28u%3D%3D%3D%22absolute%22%29i%285%2Cd%3Dr.time.toLocaleString%28void%200%2C%7BminimumFractionDigits%3A3%2CmaximumFractionDigits%3A3%7D%29%29%3Belse%20if%28u%3D%3D%3D%22proportion%22%29i%285%2Cd%3D%60%24%7B%28r.proportionOfTotal%2A100%29.toLocaleString%28void%200%2C%7BminimumFractionDigits%3A1%2CmaximumFractionDigits%3A1%7D%29%7D%25%60%29%3Belse%20throw%20new%20Error%28%22unknown%20timeFormat%22%29%3Bt.%24%24.dirty%264097%26%26i%288%2Cn%3Ds%5B%28%24%3Dr.groupId%29%21%3Dnull%3F%24%3A%22%22%5D%3D%3D%3D%210%29%7D%2C%5Br%2Co%2Ca%2Cl%2Ch%2Cd%2Cg%2CA%2Cn%2Cp%2Cb%2CF%2Cs%2Cu%5D%7Dclass%20He%20extends%20he%7Bconstructor%28e%29%7Bsuper%28%29%2Cme%28this%2Ce%2Cit%2Ctt%2CK%2C%7Bframe%3A0%2Cindent%3A1%7D%29%7D%7Dconst%20nt%3D%22data%3Aimage/png%3Bbase64%2CiVBORw0KGgoAAAANSUhEUgAAACAAAAAgCAYAAABzenr0AAAABGdBTUEAALGPC/xhBQAAADhlWElmTU0AKgAAAAgAAYdpAAQAAAABAAAAGgAAAAAAAqACAAQAAAABAAAAIKADAAQAAAABAAAAIAAAAACPTkDJAAAFPklEQVRYCdWXu4skVRSHb3VXP2bcXUVMBkRMTVww2XQDExEEH4iKiUYGhuJEPgJhUSMzQQSDRVzETNDMTTfUwL/ARUwM1t3pV1WX33eqbnfP9MxOu5kHTt9T93F%2Bv3vOubeqi7QhT1%2B58vhiVn1G19WiaQ6KIqVQOmyT%2Bh9kuUxp2bAAtQkpij9pbw5G5fu/3br1x8ql4NW0%2BrVJzaN29nop9VUeCtoerXpMTj53g%2BAGcINR1YB3RIJMN6dIxd/luLxcZoftzltwAct%2BSiNGh2jJ84BnSQWJTeBNW2C0ZrvufrZA5y2JmuemWkfCjYq5IsC6q2iE2V0LuDdMaYxKZDxo%2ByS3JZkEY%2B5SsAU7P5q1qZNEAxnXGo0NubomQM4dWPnCMAU/fUCnoA7kFjPEPohuqfO6uc%2B%2B0xKSVHUcHDbNwZpAeFyHyMcg408G16mSnwW3b5OEz3rtCAyJnHUQUSEFmMdki0CMmsNOX/gkpf1RSpf223Q43jC2MMw4tFWsjwHzBngsIOT6CaEf7wGKrTo/agFbH8oWAQdkWTF5htGntSDn2h2YBTal/9603Z2%2B%2BswZ0%2B5BZIjdQwfUz5DcGwHVotSfdpYtAg7oUKzaycyo6PjmkA4cRmgBuf5zSj/80kbAuToaYHz9afdgCiCxJF3gpudfZampOyGnEwAwIkEbuROBXEauXZGdYzrEtFTTpx3zHGeewGoFcFxk2Cdlxempy8/oZyXm1KO3R14fIraPXEzpAnXgyVBmRMdjNgdVsqZgxLw9cl4C7m7N%2Bd17pOqIuaj2LKetQzs1Ai3E%2BreRJip4CSnz2wPYHC9wFL66MYko9k8pwgmAU4hqbxZhO6tNXba321V8Uvruc4ZzGgQxErnFNszqItqC0DdpTtzfeqWJ21DwpRp5WkOdHwFJqM4UMLcdeB2AADPUkigSm00VOZixsOL8WfUB3oWd4ZWcT8CpgLz2XkoPX%2BIgEIU%2Bq6K6QZqzqxoAr15vupqC8Air0wm7JwUL2AWJByIAuDXQEGZ1aegRASY4Ppq0AOZZIoZYsLh4zDsa4PSfeA%2BEn/tGQMI5ZTe%2BxClhN%2BQ5z4b67TfZJeATiAQw4J4KwTzCOfT2nSb3JRALAJTEfKPQcrGBG5GwwCLMRCRAXcgiQY1IYD8ogbzuDd5qF7gL%2Bp4ESM05Z//coWXH1oEE5oQkQPOi3EroDDk/Ai40Cp3SRE2AG%2B8MWyOk5h1j7ixnEogPD0dVcv/FVwXXLceKs20K5rCaFk06fKmOD424akkTXUFkVwanEtBZfH7hMK5eCEwBl0DNYHvJ0Idd4MHXr7djkGDtWQV3GqlTCRhybzqv1R4zbA/fXabRfhFAHkvflJO77XivuyElbRHG%2Bh3yL6EtAu4iPkoF5q4veRn1ecEUAwYg0pSyQwAoRk3qz4p4DS%2BwawpxSVHoY9cobBHQtxBBBMBrN/rkvOEC6lF0hF/nKvaS31yE155btLVAFKIidbSDbBMI9HaluzjC4ZKQWHieBIcVPqvbyg/b503Dh91kTcB/LH4Z6wmNI8X2PnyxTkPSUI7JP7MjvE5hTrwDuO%2BrLvT2uXxnAXNNgL9LLHxdB16jOi24XgOEK68EyMKMb/uYRERol1w%2BFmRN67XrWonsKDdzRNPmXzPjbEXHxwWttsCcwpXki8cte91afP7zkdQuYch/zSizVv66ffvOwZNPfLus/YNSPMYuLkZIda66yw3NzwHMeCOBXcBNdVH8OBiXLx/7c5qJrFrK/GOYfETH97Sr/jOM38FnvodDGv8f%2BRcj1XBLIcDKAQAAAABJRU5ErkJggg%3D%3D%22%2Cht%3D%22%22%3Bfunction%20rt%28t%29%7Blet%20e%3Breturn%7Bc%28%29%7Be%3D_%28%22div%22%29%2Ce.textContent%3D%22No%20samples%20recorded.%22%2Cm%28e%2C%22class%22%2C%22error%22%29%7D%2Cm%28i%2Cn%29%7BX%28i%2Ce%2Cn%29%7D%2Cp%3AC%2Ci%3AC%2Co%3AC%2Cd%28i%29%7Bi%26%26N%28e%29%7D%7D%7Dfunction%20lt%28t%29%7Blet%20e%2Ci%3Breturn%20e%3Dnew%20He%28%7Bprops%3A%7Bframe%3At%5B0%5D.rootFrame%7D%7D%29%2C%7Bc%28%29%7Bpe%28e.%24%24.fragment%29%7D%2Cm%28n%2Cs%29%7Bte%28e%2Cn%2Cs%29%2Ci%3D%210%7D%2Cp%28n%2Cs%29%7Bconst%20u%3D%7B%7D%3Bs%261%26%26%28u.frame%3Dn%5B0%5D.rootFrame%29%2Ce.%24set%28u%29%7D%2Ci%28n%29%7Bi%7C%7C%28D%28e.%24%24.fragment%2Cn%29%2Ci%3D%210%29%7D%2Co%28n%29%7Bz%28e.%24%24.fragment%2Cn%29%2Ci%3D%211%7D%2Cd%28n%29%7Bie%28e%2Cn%29%7D%7D%7Dfunction%20ot%28t%29%7Blet%20e%2Ci%2Cn%2Cs%2Cu%2Cr%2Co%2Ca%2Cl%2Ch%2Cp%2Cd%2Cg%3Bi%3Dnew%20et%28%7Bprops%3A%7Bsession%3At%5B0%5D%7D%7D%29%3Bconst%20A%3D%5Blt%2Crt%5D%2Cb%3D%5B%5D%3Bfunction%20F%28c%2Cv%29%7Breturn%20c%5B0%5D.rootFrame%3F0%3A1%7Dreturn%20p%3DF%28t%29%2Cd%3Db%5Bp%5D%3DA%5Bp%5D%28t%29%2C%7Bc%28%29%7Be%3D_%28%22div%22%29%2Cpe%28i.%24%24.fragment%29%2Cn%3Dw%28%29%2Cs%3D_%28%22div%22%29%2Cu%3Dw%28%29%2Cr%3D_%28%22div%22%29%2Co%3D_%28%22div%22%29%2Ca%3D_%28%22span%22%29%2Ca.textContent%3D%22Program%3A%5CxA0%22%2Cl%3DL%28t%5B1%5D%29%2Ch%3Dw%28%29%2Cd.c%28%29%2Cm%28s%2C%22class%22%2C%22spacer%22%29%2CT%28s%2C%22height%22%2C%2220px%22%29%2Cm%28a%2C%22class%22%2C%22label%20svelte-1gm5pcf%22%29%2Cm%28o%2C%22class%22%2C%22program%20svelte-1gm5pcf%22%29%2Cm%28r%2C%22class%22%2C%22margins%22%29%2Cm%28e%2C%22class%22%2C%22app%20svelte-1gm5pcf%22%29%7D%2Cm%28c%2Cv%29%7BX%28c%2Ce%2Cv%29%2Cte%28i%2Ce%2Cnull%29%2Cf%28e%2Cn%29%2Cf%28e%2Cs%29%2Cf%28e%2Cu%29%2Cf%28e%2Cr%29%2Cf%28r%2Co%29%2Cf%28o%2Ca%29%2Cf%28o%2Cl%29%2Cf%28r%2Ch%29%2Cb%5Bp%5D.m%28r%2Cnull%29%2Cg%3D%210%7D%2Cp%28c%2C%5Bv%5D%29%7Bconst%20%24%3D%7B%7D%3Bv%261%26%26%28%24.session%3Dc%5B0%5D%29%2Ci.%24set%28%24%29%2C%28%21g%7C%7Cv%262%29%26%26q%28l%2Cc%5B1%5D%29%3Blet%20M%3Dp%3Bp%3DF%28c%29%2Cp%3D%3D%3DM%3Fb%5Bp%5D.p%28c%2Cv%29%3A%28ce%28%29%2Cz%28b%5BM%5D%2C1%2C1%2C%28%29%3D%3E%7Bb%5BM%5D%3Dnull%7D%29%2Cde%28%29%2Cd%3Db%5Bp%5D%2Cd%3Fd.p%28c%2Cv%29%3A%28d%3Db%5Bp%5D%3DA%5Bp%5D%28c%29%2Cd.c%28%29%29%2CD%28d%2C1%29%2Cd.m%28r%2Cnull%29%29%7D%2Ci%28c%29%7Bg%7C%7C%28D%28i.%24%24.fragment%2Cc%29%2CD%28d%29%2Cg%3D%210%29%7D%2Co%28c%29%7Bz%28i.%24%24.fragment%2Cc%29%2Cz%28d%29%2Cg%3D%211%7D%2Cd%28c%29%7Bc%26%26N%28e%29%2Cie%28i%29%2Cb%5Bp%5D.d%28%29%7D%7D%7Dfunction%20ge%28%29%7Bdocument.body.style.minHeight%3D%60%24%7Bwindow.scrollY%2Bwindow.innerHeight%7Dpx%60%7Dfunction%20st%28t%2Ce%2Ci%29%7Blet%7Bsession%3An%7D%3De%3Bconst%20s%3Ddocument.createElement%28%22link%22%29%3Bs.rel%3D%22shortut%20icon%22%2Cs.href%3Dnt%2Cdocument.head.appendChild%28s%29%2Cqe%28%28%29%3D%3E%7Bwindow.addEventListener%28%22scroll%22%2Cge%29%2Cge%28%29%7D%29%2CUe%28%28%29%3D%3E%7Bwindow.removeEventListener%28%22scroll%22%2Cge%29%7D%29%3Bconst%20u%3Dn.rootFrame%2Cr%3Du%3D%3Dnull%3Fvoid%200%3Au.time.toLocaleString%28void%200%2C%7BmaximumSignificantDigits%3A3%7D%29%3Blet%20o%3Du%3D%3Dnull%3Fvoid%200%3Au.function%3Breturn%20o%3D%3D%22%3Cmodule%3E%22%26%26%28o%3Dn.program%29%2Cdocument.title%3D%60%24%7Br%7Ds%20-%20%24%7Bo%7D%20-%20pyinstrument%60%2Ct.%24%24set%3Da%3D%3E%7B%22session%22in%20a%26%26i%280%2Cn%3Da.session%29%7D%2C%5Bn%2Co%5D%7Dclass%20at%20extends%20he%7Bconstructor%28e%29%7Bsuper%28%29%2Cme%28this%2Ce%2Cst%2Cot%2CK%2C%7Bsession%3A0%7D%29%7D%7Dclass%20ut%7Bconstructor%28e%2Ci%29%7Bk%28this%2C%22id%22%29%3Bk%28this%2C%22rootFrame%22%29%3Bk%28this%2C%22frames%22%2C%5B%5D%29%3Bthis.id%3De%2Cthis.rootFrame%3Di%7DaddFrame%28e%29%7Bthis.frames.push%28e%29%7Dget%20exitFrames%28%29%7Bconst%20e%3D%5B%5D%3Bfor%28const%20i%20of%20this.frames%29%7Blet%20n%3D%211%3Bfor%28const%20s%20of%20i.children%29if%28s.group%21%3Dthis%29%7Bn%3D%210%3Bbreak%7Dn%26%26e.push%28i%29%7Dreturn%20e%7Dget%20libraries%28%29%7Bconst%20e%3D%5B%5D%3Bfor%28const%20i%20of%20this.frames%29%7Bconst%20n%3D/%5E%5B%5E%5C%5C/.%5D%2A/.exec%28i.filePathShort%29%5B0%5D%3Be.includes%28n%29%7C%7Ce.push%28n%29%7Dreturn%20e%7D%7Dclass%20_e%7Bconstructor%28e%2Ci%3Dnull%2Cn%3D%7Bgroups%3A%7B%7D%7D%29%7Bk%28this%2C%22function%22%29%3Bk%28this%2C%22filePath%22%29%3Bk%28this%2C%22filePathShort%22%29%3Bk%28this%2C%22lineNo%22%29%3Bk%28this%2C%22time%22%29%3Bk%28this%2C%22totalTime%22%29%3Bk%28this%2C%22awaitTime%22%29%3Bk%28this%2C%22isApplicationCode%22%29%3Bk%28this%2C%22groupId%22%29%3Bk%28this%2C%22className%22%29%3Bk%28this%2C%22parent%22%29%3Bk%28this%2C%22children%22%29%3Bk%28this%2C%22group%22%29%3Bvar%20s%2Cu%3Bif%28this.parent%3Di%2Cthis.function%3De.function%2Cthis.filePath%3De.file_path%2Cthis.filePathShort%3De.file_path_short%2Cthis.lineNo%3De.line_no%2Cthis.time%3De.time%2Cthis.totalTime%3Dthis.parent%3Fthis.parent.totalTime%3Athis.time%2Cthis.awaitTime%3De.await_time%2Cthis.isApplicationCode%3De.is_application_code%2Cthis.groupId%3D%28s%3De.group_id%29%21%3Dnull%3Fs%3Anull%2Cthis.className%3D%28u%3De.class_name%29%21%3Dnull%3Fu%3Anull%2Ce.group_id%29%7Bconst%20r%3De.group_id%3Blet%20o%3Dn.groups%5Br%5D%3Bo%7C%7C%28o%3Dn.groups%5Br%5D%3Dnew%20ut%28r%2Cthis%29%29%2Co.addFrame%28this%29%2Cthis.group%3Dn.groups%5Br%5D%7Delse%20this.group%3Dnull%3Bthis.children%3De.children.map%28r%3D%3Enew%20_e%28r%2Cthis%2Cn%29%29%7Dget%20identifier%28%29%7Breturn%60%24%7Bthis.function%7D%3A%24%7Bthis.filePath%7D%3A%24%7Bthis.lineNo%7D%60%7Dget%20proportionOfTotal%28%29%7Breturn%20this.time/this.totalTime%7D%7Dclass%20ft%7Bconstructor%28e%29%7Bk%28this%2C%22startTime%22%29%3Bk%28this%2C%22duration%22%29%3Bk%28this%2C%22sampleCount%22%29%3Bk%28this%2C%22program%22%29%3Bk%28this%2C%22cpuTime%22%29%3Bk%28this%2C%22rootFrame%22%29%3Bthis.startTime%3De.start_time%2Cthis.duration%3De.duration%2Cthis.sampleCount%3De.sample_count%2Cthis.program%3De.program%2Cthis.cpuTime%3De.cpu_time%2Cthis.rootFrame%3De.root_frame%3Fnew%20_e%28e.root_frame%29%3Anull%7D%7Dreturn%7Brender%28t%2Ce%29%7Bconst%20i%3Dnew%20ft%28e%29%3Breturn%20new%20at%28%7Btarget%3At%2Cprops%3A%7Bsession%3Ai%7D%7D%29%7D%7D%7D%28%29%3B%0A%3C/script%3E%0A%20%20%20%20%20%20%20%20%20%20%20%20%20%20%20%20%3Cstyle%3E%40import%22https%3A//fonts.googleapis.com/css%3Ffamily%3DSource%2BCode%2BPro%3A400%2C600%7CSource%2BSans%2BPro%3A400%2C600%22%3Bhtml%2Cbody%7Bbackground-color%3A%23303538%3Bcolor%3A%23fff%3Bpadding%3A0%3Bmargin%3A0%7D.margins%7Bpadding%3A0%2030px%7D.header.svelte-tewt95%7Bbackground%3A%23292f32%7D.row.svelte-tewt95%7Bdisplay%3Aflex%3Balign-items%3Acenter%7D.title.svelte-tewt95%7Bfont-size%3A34px%3Bpadding-top%3A20px%3Bpadding-bottom%3A16px%3Bwhite-space%3Anowrap%3Boverflow%3Ahidden%3Btext-overflow%3Aellipsis%3Bmargin-right%3A10px%3Bflex%3A1%7D.metrics.svelte-tewt95%7Bdisplay%3Agrid%3Bgrid-template-columns%3Aauto%20auto%20auto%20auto%20auto%20auto%3Bfont-size%3A14px%3Btext-transform%3Auppercase%3Bgrid-gap%3A1px%208px%7D.metric-label.svelte-tewt95%7Bfont-weight%3A600%3Bcolor%3A%23a9abad%7D.metric-value.svelte-tewt95%7Bcolor%3A%23737779%3Bmargin-right%3A.5em%7D.frame.svelte-1aphj50.svelte-1aphj50%7Bfont-family%3ASource%20Code%20Pro%2CRoboto%20Mono%2CConsolas%2CMonaco%2Cmonospace%3Bfont-size%3A15px%3Bz-index%3A0%3Bposition%3Arelative%3Buser-select%3Anone%7D.group-header.svelte-1aphj50.svelte-1aphj50%7Bmargin-left%3A35px%7D.group-header-button.svelte-1aphj50.svelte-1aphj50%7Bdisplay%3Ainline-block%3Bcolor%3A%23ffffff94%3Buser-select%3Anone%3Bcursor%3Adefault%3Bposition%3Arelative%7D.group-header-button.svelte-1aphj50.svelte-1aphj50%3Abefore%7Bposition%3Aabsolute%3Bleft%3A-3px%3Bright%3A-3px%3Btop%3A0px%3Bbottom%3A-1px%3Bcontent%3A%22%22%3Bz-index%3A-1%3Bbackground-color%3A%233b4043%7D.group-header-button.svelte-1aphj50.svelte-1aphj50%3Ahover%3Abefore%7Bbackground-color%3A%234a4f54%7D.group-triangle.svelte-1aphj50.svelte-1aphj50%2C.frame-triangle.svelte-1aphj50.svelte-1aphj50%7Bwidth%3A6px%3Bheight%3A10px%3Bpadding-left%3A6px%3Bpadding-right%3A5px%3Bdisplay%3Ainline-block%7D.group-triangle.rotate.svelte-1aphj50.svelte-1aphj50%2C.frame-triangle.rotate.svelte-1aphj50.svelte-1aphj50%7Btransform%3Atranslate%286px%2C4px%29%20rotate%2890deg%29%7D.frame-description.svelte-1aphj50.svelte-1aphj50%7Bdisplay%3Aflex%7D.frame-description.svelte-1aphj50.svelte-1aphj50%3Ahover%3Abefore%7Bposition%3Aabsolute%3Bleft%3A-3px%3Bright%3A-3px%3Btop%3A-1px%3Bheight%3A22px%3Bcontent%3A%22%22%3Bz-index%3A-1%3Bbackground-color%3A%23354759%3Bopacity%3A.5%7D.frame-triangle.svelte-1aphj50.svelte-1aphj50%7Bopacity%3A1%7D.frame-description.children-visible.svelte-1aphj50%20.frame-triangle.svelte-1aphj50%7Bopacity%3A0%7D.frame-description.children-visible.svelte-1aphj50%3Ahover%20.frame-triangle.svelte-1aphj50%7Bopacity%3A1%7D.name.svelte-1aphj50.svelte-1aphj50%2C.time.svelte-1aphj50.svelte-1aphj50%2C.code-position.svelte-1aphj50.svelte-1aphj50%7Buser-select%3Atext%3Bcursor%3Adefault%7D.application-code.svelte-1aphj50%20.name.svelte-1aphj50%7Bcolor%3A%235db3ff%7D.time.svelte-1aphj50.svelte-1aphj50%7Bmargin-right%3A.55em%3Bcolor%3A%23b8e98685%7D.code-position.svelte-1aphj50.svelte-1aphj50%7Bcolor%3A%23ffffff80%3Btext-align%3Aright%3Bmargin-left%3A1em%7D.visual-guide%7Btop%3A21px%3Bbottom%3A0%3Bleft%3A0%3Bwidth%3A2px%3Bbackground-color%3A%23fff%3Bposition%3Aabsolute%3Bopacity%3A.08%7D.frame-description%3Ahover~.visual-guide%7Bopacity%3A.4%7D.frame-description%3Ahover~.children%20.visual-guide%7Bopacity%3A.1%7D.app.svelte-1gm5pcf.svelte-1gm5pcf%7Bfont-family%3ASource%20Sans%20Pro%2CHelvetica%2CArial%2Csans-serif%3B-webkit-font-smoothing%3Aantialiased%3B-moz-osx-font-smoothing%3Agrayscale%7D.program.svelte-1gm5pcf.svelte-1gm5pcf%7Bfont-size%3A14px%3Bfont-weight%3A600%3Bmargin-bottom%3A16px%3Bcolor%3A%23b4b4b4%7D.program.svelte-1gm5pcf%20.label.svelte-1gm5pcf%7Bcolor%3A%23eaeaea%3Btext-transform%3Auppercase%7D%0A%3C/style%3E%0A%0A%20%20%20%20%20%20%20%20%20%20%20%20%20%20%20%20%3Cscript%3E%0A%20%20%20%20%20%20%20%20%20%20%20%20%20%20%20%20%20%20%20%20const%20sessionData%20%3D%20%7B%22start_time%22%3A%201719427858.067046%2C%22duration%22%3A%200.010933%2C%22sample_count%22%3A%2010%2C%22program%22%3A%20%22/home/haoyu/.conda/envs/ccc/lib/python3.9/site-packages/ipykernel_launcher.py%20-f%20/home/haoyu/.local/share/jupyter/runtime/kernel-76f1e206-b6a7-40f2-8d7f-4e421d5c241e.json%22%2C%22cpu_time%22%3A%200.012655%2C%22root_frame%22%3A%20%7B%22function%22%3A%20%22%3Ccell%20line%3A%202%3E%22%2C%22file_path_short%22%3A%20%22../../../tmp/ipykernel_359614/2991494264.py%22%2C%22file_path%22%3A%20%22/tmp/ipykernel_359614/2991494264.py%22%2C%22line_no%22%3A%202%2C%22time%22%3A%200.010475%2C%22await_time%22%3A%200.000000%2C%22is_application_code%22%3A%20true%2C%22children%22%3A%20%5B%7B%22function%22%3A%20%22func%22%2C%22file_path_short%22%3A%20%22../../../tmp/ipykernel_359614/2661685993.py%22%2C%22file_path%22%3A%20%22/tmp/ipykernel_359614/2661685993.py%22%2C%22line_no%22%3A%201%2C%22time%22%3A%200.010475%2C%22await_time%22%3A%200.000000%2C%22is_application_code%22%3A%20true%2C%22children%22%3A%20%5B%7B%22function%22%3A%20%22ccc%22%2C%22file_path_short%22%3A%20%22ccc/coef/impl.py%22%2C%22file_path%22%3A%20%22/home/haoyu/_database/projs/ccc-gpu/libs/ccc/coef/impl.py%22%2C%22line_no%22%3A%20308%2C%22time%22%3A%200.010475%2C%22await_time%22%3A%200.000000%2C%22is_application_code%22%3A%20true%2C%22children%22%3A%20%5B%7B%22function%22%3A%20%22compute_coef%22%2C%22file_path_short%22%3A%20%22ccc/coef/impl.py%22%2C%22file_path%22%3A%20%22/home/haoyu/_database/projs/ccc-gpu/libs/ccc/coef/impl.py%22%2C%22line_no%22%3A%20493%2C%22time%22%3A%200.010475%2C%22await_time%22%3A%200.000000%2C%22is_application_code%22%3A%20true%2C%22children%22%3A%20%5B%7B%22function%22%3A%20%22cdist_func%22%2C%22file_path_short%22%3A%20%22ccc/coef/impl.py%22%2C%22file_path%22%3A%20%22/home/haoyu/_database/projs/ccc-gpu/libs/ccc/coef/impl.py%22%2C%22line_no%22%3A%20486%2C%22time%22%3A%200.010475%2C%22await_time%22%3A%200.000000%2C%22is_application_code%22%3A%20true%2C%22children%22%3A%20%5B%7B%22function%22%3A%20%22cdist_parts_parallel%22%2C%22file_path_short%22%3A%20%22ccc/coef/impl.py%22%2C%22file_path%22%3A%20%22/home/haoyu/_database/projs/ccc-gpu/libs/ccc/coef/impl.py%22%2C%22line_no%22%3A%20193%2C%22time%22%3A%200.010475%2C%22await_time%22%3A%200.000000%2C%22is_application_code%22%3A%20true%2C%22children%22%3A%20%5B%7B%22function%22%3A%20%22as_completed%22%2C%22file_path_short%22%3A%20%22concurrent/futures/_base.py%22%2C%22file_path%22%3A%20%22/home/haoyu/.conda/envs/ccc/lib/python3.9/concurrent/futures/_base.py%22%2C%22line_no%22%3A%20201%2C%22time%22%3A%200.009473%2C%22await_time%22%3A%200.000000%2C%22is_application_code%22%3A%20false%2C%22children%22%3A%20%5B%7B%22function%22%3A%20%22wait%22%2C%22file_path_short%22%3A%20%22threading.py%22%2C%22file_path%22%3A%20%22/home/haoyu/.conda/envs/ccc/lib/python3.9/threading.py%22%2C%22line_no%22%3A%20563%2C%22time%22%3A%200.009473%2C%22await_time%22%3A%200.000000%2C%22is_application_code%22%3A%20false%2C%22children%22%3A%20%5B%7B%22function%22%3A%20%22wait%22%2C%22file_path_short%22%3A%20%22threading.py%22%2C%22file_path%22%3A%20%22/home/haoyu/.conda/envs/ccc/lib/python3.9/threading.py%22%2C%22line_no%22%3A%20280%2C%22time%22%3A%200.008473%2C%22await_time%22%3A%200.000000%2C%22is_application_code%22%3A%20false%2C%22children%22%3A%20%5B%7B%22function%22%3A%20%22lock.acquire%22%2C%22file_path_short%22%3A%20%22%3Cbuilt-in%3E%22%2C%22file_path%22%3A%20%22%3Cbuilt-in%3E%22%2C%22line_no%22%3A%200%2C%22time%22%3A%200.008473%2C%22await_time%22%3A%200.000000%2C%22is_application_code%22%3A%20false%2C%22children%22%3A%20%5B%5D%2C%22group_id%22%3A%20%2275c502ab-d246-40e4-a9f4-65d583b5e245%22%7D%5D%2C%22group_id%22%3A%20%2275c502ab-d246-40e4-a9f4-65d583b5e245%22%2C%22class_name%22%3A%20%22Condition%22%7D%2C%7B%22function%22%3A%20%22%5Bself%5D%22%2C%22file_path_short%22%3A%20%22threading.py%22%2C%22file_path%22%3A%20%22%22%2C%22line_no%22%3A%200%2C%22time%22%3A%200.001000%2C%22await_time%22%3A%200.000000%2C%22is_application_code%22%3A%20false%2C%22children%22%3A%20%5B%5D%2C%22group_id%22%3A%20%2275c502ab-d246-40e4-a9f4-65d583b5e245%22%7D%5D%2C%22group_id%22%3A%20%2275c502ab-d246-40e4-a9f4-65d583b5e245%22%2C%22class_name%22%3A%20%22Event%22%7D%5D%2C%22group_id%22%3A%20%2275c502ab-d246-40e4-a9f4-65d583b5e245%22%7D%2C%7B%22function%22%3A%20%22%5Bself%5D%22%2C%22file_path_short%22%3A%20%22ccc/coef/impl.py%22%2C%22file_path%22%3A%20%22%22%2C%22line_no%22%3A%200%2C%22time%22%3A%200.001002%2C%22await_time%22%3A%200.000000%2C%22is_application_code%22%3A%20false%2C%22children%22%3A%20%5B%5D%7D%5D%7D%5D%7D%5D%7D%5D%7D%5D%7D%5D%7D%7D%0A%3B%0A%20%20%20%20%20%20%20%20%20%20%20%20%20%20%20%20%20%20%20%20pyinstrumentHTMLRenderer.render%28document.getElementById%28%27app%27%29%2C%20sessionData%29%3B%0A%20%20%20%20%20%20%20%20%20%20%20%20%20%20%20%20%3C/script%3E%0A%20%20%20%20%20%20%20%20%20%20%20%20%3C/body%3E%0A%20%20%20%20%20%20%20%20%20%20%20%20%3C/html%3E%0A%20%20%20%20%20%20%20%20\"\n",
       "            frameborder=\"0\"\n",
       "            allowfullscreen\n",
       "            style=\"resize: vertical\"\n",
       "        ></iframe>\n",
       "        "
      ],
      "text/plain": [
       "\n",
       "  _     ._   __/__   _ _  _  _ _/_   Recorded: 12:50:58  Samples:  10\n",
       " /_//_/// /_\\ / //_// / //_'/ //     Duration: 0.011     CPU time: 0.013\n",
       "/   _/                      v4.6.2\n",
       "\n",
       "Program: /home/haoyu/.conda/envs/ccc/lib/python3.9/site-packages/ipykernel_launcher.py -f /home/haoyu/.local/share/jupyter/runtime/kernel-76f1e206-b6a7-40f2-8d7f-4e421d5c241e.json\n",
       "\n",
       "0.010 <cell line: 2>  ../../../tmp/ipykernel_359614/2991494264.py:2\n",
       "`- 0.010 func  ../../../tmp/ipykernel_359614/2661685993.py:1\n",
       "   `- 0.010 ccc  ccc/coef/impl.py:308\n",
       "      `- 0.010 compute_coef  ccc/coef/impl.py:493\n",
       "         `- 0.010 cdist_func  ccc/coef/impl.py:486\n",
       "            `- 0.010 cdist_parts_parallel  ccc/coef/impl.py:193\n",
       "               |- 0.009 as_completed  concurrent/futures/_base.py:201\n",
       "               |     [5 frames hidden]  concurrent, threading, <built-in>\n",
       "               |        0.008 lock.acquire  <built-in>\n",
       "               `- 0.001 [self]  ccc/coef/impl.py\n",
       "\n"
      ]
     },
     "metadata": {},
     "output_type": "display_data"
    }
   ],
   "source": [
    "%%pyinstrument\n",
    "func()"
   ]
  },
  {
   "cell_type": "markdown",
   "id": "2548440c",
   "metadata": {
    "papermill": {
     "duration": 0.094866,
     "end_time": "2021-12-02T04:34:34.338010",
     "exception": false,
     "start_time": "2021-12-02T04:34:34.243144",
     "status": "completed"
    },
    "tags": []
   },
   "source": [
    "## `n_samples=100`"
   ]
  },
  {
   "cell_type": "code",
   "execution_count": 14,
   "id": "ddb768d7-9b74-424c-bdb9-9e52b9e5b181",
   "metadata": {
    "execution": {
     "iopub.execute_input": "2021-12-02T04:34:34.530550Z",
     "iopub.status.busy": "2021-12-02T04:34:34.530085Z",
     "iopub.status.idle": "2021-12-02T04:34:34.531559Z",
     "shell.execute_reply": "2021-12-02T04:34:34.531910Z"
    },
    "papermill": {
     "duration": 0.099465,
     "end_time": "2021-12-02T04:34:34.532025",
     "exception": false,
     "start_time": "2021-12-02T04:34:34.432560",
     "status": "completed"
    },
    "tags": []
   },
   "outputs": [],
   "source": [
    "N_SAMPLES = 100"
   ]
  },
  {
   "cell_type": "code",
   "execution_count": 15,
   "id": "161cf922-41f7-4ced-af1f-e3d25b36b200",
   "metadata": {
    "execution": {
     "iopub.execute_input": "2021-12-02T04:34:34.723894Z",
     "iopub.status.busy": "2021-12-02T04:34:34.723405Z",
     "iopub.status.idle": "2021-12-02T04:34:34.725017Z",
     "shell.execute_reply": "2021-12-02T04:34:34.725362Z"
    },
    "papermill": {
     "duration": 0.099541,
     "end_time": "2021-12-02T04:34:34.725479",
     "exception": false,
     "start_time": "2021-12-02T04:34:34.625938",
     "status": "completed"
    },
    "tags": []
   },
   "outputs": [],
   "source": [
    "x = np.random.rand(N_SAMPLES)\n",
    "y = np.random.rand(N_SAMPLES)"
   ]
  },
  {
   "cell_type": "code",
   "execution_count": 16,
   "id": "0a7f2b1f-4b87-4dde-a46b-2acec5ac93ba",
   "metadata": {
    "execution": {
     "iopub.execute_input": "2021-12-02T04:34:35.120950Z",
     "iopub.status.busy": "2021-12-02T04:34:35.120480Z",
     "iopub.status.idle": "2021-12-02T04:34:37.984893Z",
     "shell.execute_reply": "2021-12-02T04:34:37.985354Z"
    },
    "papermill": {
     "duration": 2.971389,
     "end_time": "2021-12-02T04:34:37.985494",
     "exception": false,
     "start_time": "2021-12-02T04:34:35.014105",
     "status": "completed"
    },
    "tags": []
   },
   "outputs": [
    {
     "name": "stdout",
     "output_type": "stream",
     "text": [
      "18.4 ms ± 219 µs per loop (mean ± std. dev. of 7 runs, 100 loops each)\n"
     ]
    }
   ],
   "source": [
    "%%timeit func()\n",
    "func()"
   ]
  },
  {
   "cell_type": "code",
   "execution_count": 17,
   "id": "74acbe27-9807-4f26-8b7e-b74d0f745b63",
   "metadata": {
    "execution": {
     "iopub.execute_input": "2021-12-02T04:34:38.190471Z",
     "iopub.status.busy": "2021-12-02T04:34:38.189361Z",
     "iopub.status.idle": "2021-12-02T04:34:38.227298Z",
     "shell.execute_reply": "2021-12-02T04:34:38.227692Z"
    },
    "papermill": {
     "duration": 0.13744,
     "end_time": "2021-12-02T04:34:38.227812",
     "exception": false,
     "start_time": "2021-12-02T04:34:38.090372",
     "status": "completed"
    },
    "tags": []
   },
   "outputs": [
    {
     "data": {
      "text/html": [
       "\n",
       "        <iframe\n",
       "            width=\"100%\"\n",
       "            height=\"400\"\n",
       "            src=\"data:text/html, %3C%21DOCTYPE%20html%3E%0A%20%20%20%20%20%20%20%20%20%20%20%20%3Chtml%3E%0A%20%20%20%20%20%20%20%20%20%20%20%20%3Chead%3E%0A%20%20%20%20%20%20%20%20%20%20%20%20%20%20%20%20%3Cmeta%20charset%3D%22utf-8%22%3E%0A%20%20%20%20%20%20%20%20%20%20%20%20%3C/head%3E%0A%20%20%20%20%20%20%20%20%20%20%20%20%3Cbody%3E%0A%20%20%20%20%20%20%20%20%20%20%20%20%20%20%20%20%3Cdiv%20id%3D%22app%22%3E%3C/div%3E%0A%0A%20%20%20%20%20%20%20%20%20%20%20%20%20%20%20%20%3Cscript%3Evar%20pyinstrumentHTMLRenderer%3Dfunction%28%29%7B%22use%20strict%22%3Bvar%20ct%3DObject.defineProperty%3Bvar%20dt%3D%28R%2CC%2CH%29%3D%3EC%20in%20R%3Fct%28R%2CC%2C%7Benumerable%3A%210%2Cconfigurable%3A%210%2Cwritable%3A%210%2Cvalue%3AH%7D%29%3AR%5BC%5D%3DH%3Bvar%20k%3D%28R%2CC%2CH%29%3D%3E%28dt%28R%2Ctypeof%20C%21%3D%22symbol%22%3FC%2B%22%22%3AC%2CH%29%2CH%29%3Bconst%20R%3D%22%22%3Bfunction%20C%28%29%7B%7Dfunction%20H%28t%29%7Breturn%20t%28%29%7Dfunction%20we%28%29%7Breturn%20Object.create%28null%29%7Dfunction%20O%28t%29%7Bt.forEach%28H%29%7Dfunction%20be%28t%29%7Breturn%20typeof%20t%3D%3D%22function%22%7Dfunction%20K%28t%2Ce%29%7Breturn%20t%21%3Dt%3Fe%3D%3De%3At%21%3D%3De%7C%7Ct%26%26typeof%20t%3D%3D%22object%22%7C%7Ctypeof%20t%3D%3D%22function%22%7Dfunction%20Ie%28t%29%7Breturn%20Object.keys%28t%29.length%3D%3D%3D0%7Dfunction%20Re%28t%2C...e%29%7Bif%28t%3D%3Dnull%29return%20C%3Bconst%20i%3Dt.subscribe%28...e%29%3Breturn%20i.unsubscribe%3F%28%29%3D%3Ei.unsubscribe%28%29%3Ai%7Dfunction%20se%28t%2Ce%2Ci%29%7Bt.%24%24.on_destroy.push%28Re%28e%2Ci%29%29%7Dfunction%20f%28t%2Ce%29%7Bt.appendChild%28e%29%7Dfunction%20X%28t%2Ce%2Ci%29%7Bt.insertBefore%28e%2Ci%7C%7Cnull%29%7Dfunction%20N%28t%29%7Bt.parentNode%26%26t.parentNode.removeChild%28t%29%7Dfunction%20_%28t%29%7Breturn%20document.createElement%28t%29%7Dfunction%20ke%28t%29%7Breturn%20document.createElementNS%28%22http%3A//www.w3.org/2000/svg%22%2Ct%29%7Dfunction%20L%28t%29%7Breturn%20document.createTextNode%28t%29%7Dfunction%20w%28%29%7Breturn%20L%28%22%20%22%29%7Dfunction%20ye%28%29%7Breturn%20L%28%22%22%29%7Dfunction%20W%28t%2Ce%2Ci%2Cn%29%7Breturn%20t.addEventListener%28e%2Ci%2Cn%29%2C%28%29%3D%3Et.removeEventListener%28e%2Ci%2Cn%29%7Dfunction%20Ce%28t%29%7Breturn%20function%28e%29%7Breturn%20e.preventDefault%28%29%2Ct.call%28this%2Ce%29%7D%7Dfunction%20Ee%28t%29%7Breturn%20function%28e%29%7Breturn%20e.stopPropagation%28%29%2Ct.call%28this%2Ce%29%7D%7Dfunction%20m%28t%2Ce%2Ci%29%7Bi%3D%3Dnull%3Ft.removeAttribute%28e%29%3At.getAttribute%28e%29%21%3D%3Di%26%26t.setAttribute%28e%2Ci%29%7Dfunction%20Oe%28t%29%7Breturn%20Array.from%28t.childNodes%29%7Dfunction%20q%28t%2Ce%29%7Be%3D%22%22%2Be%2Ct.wholeText%21%3D%3De%26%26%28t.data%3De%29%7Dfunction%20T%28t%2Ce%2Ci%2Cn%29%7Bi%3D%3D%3Dnull%3Ft.style.removeProperty%28e%29%3At.style.setProperty%28e%2Ci%2Cn%3F%22important%22%3A%22%22%29%7Dfunction%20Q%28t%2Ce%2Ci%29%7Bt.classList%5Bi%3F%22add%22%3A%22remove%22%5D%28e%29%7Dlet%20V%3Bfunction%20Z%28t%29%7BV%3Dt%7Dfunction%20Te%28%29%7Bif%28%21V%29throw%20new%20Error%28%22Function%20called%20outside%20component%20initialization%22%29%3Breturn%20V%7Dfunction%20qe%28t%29%7BTe%28%29.%24%24.on_mount.push%28t%29%7Dfunction%20Ue%28t%29%7BTe%28%29.%24%24.on_destroy.push%28t%29%7Dconst%20Y%3D%5B%5D%2CFe%3D%5B%5D%2Cj%3D%5B%5D%2CSe%3D%5B%5D%2CVe%3DPromise.resolve%28%29%3Blet%20ae%3D%211%3Bfunction%20Ze%28%29%7Bae%7C%7C%28ae%3D%210%2CVe.then%28%24e%29%29%7Dfunction%20ue%28t%29%7Bj.push%28t%29%7Dconst%20fe%3Dnew%20Set%3Blet%20x%3D0%3Bfunction%20%24e%28%29%7Bconst%20t%3DV%3Bdo%7Bfor%28%3Bx%3CY.length%3B%29%7Bconst%20e%3DY%5Bx%5D%3Bx%2B%2B%2CZ%28e%29%2CYe%28e.%24%24%29%7Dfor%28Z%28null%29%2CY.length%3D0%2Cx%3D0%3BFe.length%3B%29Fe.pop%28%29%28%29%3Bfor%28let%20e%3D0%3Be%3Cj.length%3Be%2B%3D1%29%7Bconst%20i%3Dj%5Be%5D%3Bfe.has%28i%29%7C%7C%28fe.add%28i%29%2Ci%28%29%29%7Dj.length%3D0%7Dwhile%28Y.length%29%3Bfor%28%3BSe.length%3B%29Se.pop%28%29%28%29%3Bae%3D%211%2Cfe.clear%28%29%2CZ%28t%29%7Dfunction%20Ye%28t%29%7Bif%28t.fragment%21%3D%3Dnull%29%7Bt.update%28%29%2CO%28t.before_update%29%3Bconst%20e%3Dt.dirty%3Bt.dirty%3D%5B-1%5D%2Ct.fragment%26%26t.fragment.p%28t.ctx%2Ce%29%2Ct.after_update.forEach%28ue%29%7D%7Dconst%20ee%3Dnew%20Set%3Blet%20G%3Bfunction%20ce%28%29%7BG%3D%7Br%3A0%2Cc%3A%5B%5D%2Cp%3AG%7D%7Dfunction%20de%28%29%7BG.r%7C%7CO%28G.c%29%2CG%3DG.p%7Dfunction%20D%28t%2Ce%29%7Bt%26%26t.i%26%26%28ee.delete%28t%29%2Ct.i%28e%29%29%7Dfunction%20z%28t%2Ce%2Ci%2Cn%29%7Bif%28t%26%26t.o%29%7Bif%28ee.has%28t%29%29return%3Bee.add%28t%29%2CG.c.push%28%28%29%3D%3E%7Bee.delete%28t%29%2Cn%26%26%28i%26%26t.d%281%29%2Cn%28%29%29%7D%29%2Ct.o%28e%29%7Delse%20n%26%26n%28%29%7Dfunction%20Je%28t%2Ce%29%7Bz%28t%2C1%2C1%2C%28%29%3D%3E%7Be.delete%28t.key%29%7D%29%7Dfunction%20Ke%28t%2Ce%2Ci%2Cn%2Cs%2Cu%2Cr%2Co%2Ca%2Cl%2Ch%2Cp%29%7Blet%20d%3Dt.length%2Cg%3Du.length%2CA%3Dd%3Bconst%20b%3D%7B%7D%3Bfor%28%3BA--%3B%29b%5Bt%5BA%5D.key%5D%3DA%3Bconst%20F%3D%5B%5D%2Cc%3Dnew%20Map%2Cv%3Dnew%20Map%3Bfor%28A%3Dg%3BA--%3B%29%7Bconst%20y%3Dp%28s%2Cu%2CA%29%2CS%3Di%28y%29%3Blet%20P%3Dr.get%28S%29%3BP%3Fn%26%26P.p%28y%2Ce%29%3A%28P%3Dl%28S%2Cy%29%2CP.c%28%29%29%2Cc.set%28S%2CF%5BA%5D%3DP%29%2CS%20in%20b%26%26v.set%28S%2CMath.abs%28A-b%5BS%5D%29%29%7Dconst%20%24%3Dnew%20Set%2CM%3Dnew%20Set%3Bfunction%20E%28y%29%7BD%28y%2C1%29%2Cy.m%28o%2Ch%29%2Cr.set%28y.key%2Cy%29%2Ch%3Dy.first%2Cg--%7Dfor%28%3Bd%26%26g%3B%29%7Bconst%20y%3DF%5Bg-1%5D%2CS%3Dt%5Bd-1%5D%2CP%3Dy.key%2CB%3DS.key%3By%3D%3D%3DS%3F%28h%3Dy.first%2Cd--%2Cg--%29%3Ac.has%28B%29%3F%21r.has%28P%29%7C%7C%24.has%28P%29%3FE%28y%29%3AM.has%28B%29%3Fd--%3Av.get%28P%29%3Ev.get%28B%29%3F%28M.add%28P%29%2CE%28y%29%29%3A%28%24.add%28B%29%2Cd--%29%3A%28a%28S%2Cr%29%2Cd--%29%7Dfor%28%3Bd--%3B%29%7Bconst%20y%3Dt%5Bd%5D%3Bc.has%28y.key%29%7C%7Ca%28y%2Cr%29%7Dfor%28%3Bg%3B%29E%28F%5Bg-1%5D%29%3Breturn%20F%7Dfunction%20pe%28t%29%7Bt%26%26t.c%28%29%7Dfunction%20te%28t%2Ce%2Ci%2Cn%29%7Bconst%7Bfragment%3As%2Cafter_update%3Au%7D%3Dt.%24%24%3Bs%26%26s.m%28e%2Ci%29%2Cn%7C%7Cue%28%28%29%3D%3E%7Bconst%20r%3Dt.%24%24.on_mount.map%28H%29.filter%28be%29%3Bt.%24%24.on_destroy%3Ft.%24%24.on_destroy.push%28...r%29%3AO%28r%29%2Ct.%24%24.on_mount%3D%5B%5D%7D%29%2Cu.forEach%28ue%29%7Dfunction%20ie%28t%2Ce%29%7Bconst%20i%3Dt.%24%24%3Bi.fragment%21%3D%3Dnull%26%26%28O%28i.on_destroy%29%2Ci.fragment%26%26i.fragment.d%28e%29%2Ci.on_destroy%3Di.fragment%3Dnull%2Ci.ctx%3D%5B%5D%29%7Dfunction%20We%28t%2Ce%29%7Bt.%24%24.dirty%5B0%5D%3D%3D%3D-1%26%26%28Y.push%28t%29%2CZe%28%29%2Ct.%24%24.dirty.fill%280%29%29%2Ct.%24%24.dirty%5Be/31%7C0%5D%7C%3D1%3C%3Ce%2531%7Dfunction%20me%28t%2Ce%2Ci%2Cn%2Cs%2Cu%2Cr%2Co%3D%5B-1%5D%29%7Bconst%20a%3DV%3BZ%28t%29%3Bconst%20l%3Dt.%24%24%3D%7Bfragment%3Anull%2Cctx%3A%5B%5D%2Cprops%3Au%2Cupdate%3AC%2Cnot_equal%3As%2Cbound%3Awe%28%29%2Con_mount%3A%5B%5D%2Con_destroy%3A%5B%5D%2Con_disconnect%3A%5B%5D%2Cbefore_update%3A%5B%5D%2Cafter_update%3A%5B%5D%2Ccontext%3Anew%20Map%28e.context%7C%7C%28a%3Fa.%24%24.context%3A%5B%5D%29%29%2Ccallbacks%3Awe%28%29%2Cdirty%3Ao%2Cskip_bound%3A%211%2Croot%3Ae.target%7C%7Ca.%24%24.root%7D%3Br%26%26r%28l.root%29%3Blet%20h%3D%211%3Bif%28l.ctx%3Di%3Fi%28t%2Ce.props%7C%7C%7B%7D%2C%28p%2Cd%2C...g%29%3D%3E%7Bconst%20A%3Dg.length%3Fg%5B0%5D%3Ad%3Breturn%20l.ctx%26%26s%28l.ctx%5Bp%5D%2Cl.ctx%5Bp%5D%3DA%29%26%26%28%21l.skip_bound%26%26l.bound%5Bp%5D%26%26l.bound%5Bp%5D%28A%29%2Ch%26%26We%28t%2Cp%29%29%2Cd%7D%29%3A%5B%5D%2Cl.update%28%29%2Ch%3D%210%2CO%28l.before_update%29%2Cl.fragment%3Dn%3Fn%28l.ctx%29%3A%211%2Ce.target%29%7Bif%28e.hydrate%29%7Bconst%20p%3DOe%28e.target%29%3Bl.fragment%26%26l.fragment.l%28p%29%2Cp.forEach%28N%29%7Delse%20l.fragment%26%26l.fragment.c%28%29%3Be.intro%26%26D%28t.%24%24.fragment%29%2Cte%28t%2Ce.target%2Ce.anchor%2Ce.customElement%29%2C%24e%28%29%7DZ%28a%29%7Dclass%20he%7B%24destroy%28%29%7Bie%28this%2C1%29%2Cthis.%24destroy%3DC%7D%24on%28e%2Ci%29%7Bif%28%21be%28i%29%29return%20C%3Bconst%20n%3Dthis.%24%24.callbacks%5Be%5D%7C%7C%28this.%24%24.callbacks%5Be%5D%3D%5B%5D%29%3Breturn%20n.push%28i%29%2C%28%29%3D%3E%7Bconst%20s%3Dn.indexOf%28i%29%3Bs%21%3D%3D-1%26%26n.splice%28s%2C1%29%7D%7D%24set%28e%29%7Bthis.%24%24set%26%26%21Ie%28e%29%26%26%28this.%24%24.skip_bound%3D%210%2Cthis.%24%24set%28e%29%2Cthis.%24%24.skip_bound%3D%211%29%7D%7Dconst%20U%3D%5B%5D%3Bfunction%20Pe%28t%2Ce%3DC%29%7Blet%20i%3Bconst%20n%3Dnew%20Set%3Bfunction%20s%28o%29%7Bif%28K%28t%2Co%29%26%26%28t%3Do%2Ci%29%29%7Bconst%20a%3D%21U.length%3Bfor%28const%20l%20of%20n%29l%5B1%5D%28%29%2CU.push%28l%2Ct%29%3Bif%28a%29%7Bfor%28let%20l%3D0%3Bl%3CU.length%3Bl%2B%3D2%29U%5Bl%5D%5B0%5D%28U%5Bl%2B1%5D%29%3BU.length%3D0%7D%7D%7Dfunction%20u%28o%29%7Bs%28o%28t%29%29%7Dfunction%20r%28o%2Ca%3DC%29%7Bconst%20l%3D%5Bo%2Ca%5D%3Breturn%20n.add%28l%29%2Cn.size%3D%3D%3D1%26%26%28i%3De%28s%29%7C%7CC%29%2Co%28t%29%2C%28%29%3D%3E%7Bn.delete%28l%29%2Cn.size%3D%3D%3D0%26%26%28i%28%29%2Ci%3Dnull%29%7D%7Dreturn%7Bset%3As%2Cupdate%3Au%2Csubscribe%3Ar%7D%7Dconst%20De%3DPe%28%7B%7D%29%2Cne%3DPe%28%22absolute%22%29%2Cpt%3D%22%22%3Bfunction%20je%28t%29%7Blet%20e%2Ci%2Cn%2Cs%2Cu%2Cr%2Co%2Ca%2Cl%2Ch%2Cp%2Cd%2Cg%2CA%2Cb%2CF%2Cc%2Cv%2C%24%2CM%2CE%2Cy%2CS%2CP%2CB%2Cre%3Dt%5B0%5D.sampleCount%2B%22%22%2Cve%2CXe%2Cle%2CQe%2Coe%2CAe%2CGe%3Breturn%7Bc%28%29%7Be%3D_%28%22div%22%29%2Ci%3D_%28%22div%22%29%2Cn%3D_%28%22div%22%29%2Cs%3D_%28%22div%22%29%2Cs.textContent%3D%22pyinstrument%22%2Cu%3Dw%28%29%2Cr%3D_%28%22div%22%29%2Co%3D_%28%22label%22%29%2Co.textContent%3D%22Absolute%20time%22%2Ca%3Dw%28%29%2Cl%3D_%28%22input%22%29%2Ch%3Dw%28%29%2Cp%3D_%28%22div%22%29%2Cp.textContent%3D%22Recorded%3A%22%2Cd%3Dw%28%29%2Cg%3D_%28%22div%22%29%2Cg.textContent%3D%60%24%7Bt%5B2%5D%7D%60%2CA%3Dw%28%29%2Cb%3D_%28%22div%22%29%2Cb.textContent%3D%22Duration%3A%22%2CF%3Dw%28%29%2Cc%3D_%28%22div%22%29%2Cc.textContent%3D%60%24%7Bt%5B4%5D%7D%20seconds%60%2Cv%3Dw%28%29%2C%24%3D_%28%22label%22%29%2C%24.textContent%3D%22Proportional%20time%22%2CM%3Dw%28%29%2CE%3D_%28%22input%22%29%2Cy%3Dw%28%29%2CS%3D_%28%22div%22%29%2CS.textContent%3D%22Samples%3A%22%2CP%3Dw%28%29%2CB%3D_%28%22div%22%29%2Cve%3DL%28re%29%2CXe%3Dw%28%29%2Cle%3D_%28%22div%22%29%2Cle.textContent%3D%22CPU%20time%3A%22%2CQe%3Dw%28%29%2Coe%3D_%28%22div%22%29%2Coe.textContent%3D%60%24%7Bt%5B3%5D%7D%20seconds%60%2Cm%28s%2C%22class%22%2C%22title%20svelte-tewt95%22%29%2Cm%28o%2C%22class%22%2C%22metric-label%20svelte-tewt95%22%29%2Cm%28o%2C%22for%22%2C%22absolute%22%29%2Cm%28l%2C%22type%22%2C%22radio%22%29%2Cl.__value%3D%22absolute%22%2Cl.value%3Dl.__value%2Cm%28l%2C%22id%22%2C%22absolute%22%29%2Cm%28l%2C%22name%22%2C%22time-format%22%29%2Cl.checked%3D%210%2Ct%5B6%5D%5B0%5D.push%28l%29%2Cm%28p%2C%22class%22%2C%22metric-label%20svelte-tewt95%22%29%2Cm%28g%2C%22class%22%2C%22metric-value%20svelte-tewt95%22%29%2Cm%28b%2C%22class%22%2C%22metric-label%20svelte-tewt95%22%29%2Cm%28c%2C%22class%22%2C%22metric-value%20svelte-tewt95%22%29%2Cm%28%24%2C%22class%22%2C%22metric-label%20svelte-tewt95%22%29%2Cm%28%24%2C%22for%22%2C%22proportion%22%29%2Cm%28E%2C%22type%22%2C%22radio%22%29%2CE.__value%3D%22proportion%22%2CE.value%3DE.__value%2Cm%28E%2C%22id%22%2C%22proportion%22%29%2Cm%28E%2C%22name%22%2C%22time-format%22%29%2Ct%5B6%5D%5B0%5D.push%28E%29%2Cm%28S%2C%22class%22%2C%22metric-label%20svelte-tewt95%22%29%2Cm%28B%2C%22class%22%2C%22metric-value%20svelte-tewt95%22%29%2Cm%28le%2C%22class%22%2C%22metric-label%20svelte-tewt95%22%29%2Cm%28oe%2C%22class%22%2C%22metric-value%20svelte-tewt95%22%29%2Cm%28r%2C%22class%22%2C%22metrics%20svelte-tewt95%22%29%2Cm%28n%2C%22class%22%2C%22row%20svelte-tewt95%22%29%2Cm%28i%2C%22class%22%2C%22margins%22%29%2Cm%28e%2C%22class%22%2C%22header%20svelte-tewt95%22%29%7D%2Cm%28I%2CJ%29%7BX%28I%2Ce%2CJ%29%2Cf%28e%2Ci%29%2Cf%28i%2Cn%29%2Cf%28n%2Cs%29%2Cf%28n%2Cu%29%2Cf%28n%2Cr%29%2Cf%28r%2Co%29%2Cf%28r%2Ca%29%2Cf%28r%2Cl%29%2Cl.checked%3Dl.__value%3D%3D%3Dt%5B1%5D%2Cf%28r%2Ch%29%2Cf%28r%2Cp%29%2Cf%28r%2Cd%29%2Cf%28r%2Cg%29%2Cf%28r%2CA%29%2Cf%28r%2Cb%29%2Cf%28r%2CF%29%2Cf%28r%2Cc%29%2Cf%28r%2Cv%29%2Cf%28r%2C%24%29%2Cf%28r%2CM%29%2Cf%28r%2CE%29%2CE.checked%3DE.__value%3D%3D%3Dt%5B1%5D%2Cf%28r%2Cy%29%2Cf%28r%2CS%29%2Cf%28r%2CP%29%2Cf%28r%2CB%29%2Cf%28B%2Cve%29%2Cf%28r%2CXe%29%2Cf%28r%2Cle%29%2Cf%28r%2CQe%29%2Cf%28r%2Coe%29%2CAe%7C%7C%28Ge%3D%5BW%28l%2C%22change%22%2Ct%5B5%5D%29%2CW%28E%2C%22change%22%2Ct%5B7%5D%29%5D%2CAe%3D%210%29%7D%2Cp%28I%2C%5BJ%5D%29%7BJ%262%26%26%28l.checked%3Dl.__value%3D%3D%3DI%5B1%5D%29%2CJ%262%26%26%28E.checked%3DE.__value%3D%3D%3DI%5B1%5D%29%2CJ%261%26%26re%21%3D%3D%28re%3DI%5B0%5D.sampleCount%2B%22%22%29%26%26q%28ve%2Cre%29%7D%2Ci%3AC%2Co%3AC%2Cd%28I%29%7BI%26%26N%28e%29%2Ct%5B6%5D%5B0%5D.splice%28t%5B6%5D%5B0%5D.indexOf%28l%29%2C1%29%2Ct%5B6%5D%5B0%5D.splice%28t%5B6%5D%5B0%5D.indexOf%28E%29%2C1%29%2CAe%3D%211%2CO%28Ge%29%7D%7D%7Dfunction%20xe%28t%2Ce%2Ci%29%7Bvar%20p%3Blet%20n%3Bse%28t%2Cne%2Cd%3D%3Ei%281%2Cn%3Dd%29%29%3Blet%7Bsession%3As%7D%3De%3Bconst%20u%3Dnew%20Date%28s.startTime%2A1e3%29.toLocaleString%28%29%2Cr%3D%28p%3Ds.cpuTime%29%3D%3Dnull%3Fvoid%200%3Ap.toLocaleString%28void%200%2C%7BmaximumSignificantDigits%3A3%7D%29%2Co%3Ds.duration.toLocaleString%28void%200%2C%7BmaximumSignificantDigits%3A3%7D%29%2Ca%3D%5B%5B%5D%5D%3Bfunction%20l%28%29%7Bn%3Dthis.__value%2Cne.set%28n%29%7Dfunction%20h%28%29%7Bn%3Dthis.__value%2Cne.set%28n%29%7Dreturn%20t.%24%24set%3Dd%3D%3E%7B%22session%22in%20d%26%26i%280%2Cs%3Dd.session%29%7D%2C%5Bs%2Cn%2Cu%2Cr%2Co%2Cl%2Ca%2Ch%5D%7Dclass%20et%20extends%20he%7Bconstructor%28e%29%7Bsuper%28%29%2Cme%28this%2Ce%2Cxe%2Cje%2CK%2C%7Bsession%3A0%7D%29%7D%7Dconst%20mt%3D%22%22%3Bfunction%20Me%28t%2Ce%2Ci%29%7Bconst%20n%3Dt.slice%28%29%3Breturn%20n%5B14%5D%3De%5Bi%5D%2Cn%7Dfunction%20Le%28t%29%7Blet%20e%2Ci%2Cn%2Cs%2Cu%2Cr%2Co%2Ca%2Cl%2Ch%2Cp%2Cd%2Cg%2CA%2Cb%2CF%3Breturn%7Bc%28%29%7Be%3D_%28%22div%22%29%2Ci%3D_%28%22div%22%29%2Cn%3Dke%28%22svg%22%29%2Cs%3Dke%28%22path%22%29%2Cu%3Dw%28%29%2Cr%3D_%28%22div%22%29%2Co%3DL%28t%5B5%5D%29%2Ca%3Dw%28%29%2Cl%3D_%28%22div%22%29%2Ch%3DL%28t%5B4%5D%29%2Cp%3Dw%28%29%2Cd%3D_%28%22div%22%29%2Cg%3Dw%28%29%2CA%3D_%28%22div%22%29%2CA.textContent%3D%60%24%7Bt%5B9%5D%7D%60%2Cm%28s%2C%22d%22%2C%22M.937-.016L5.793%204.84.937%209.696z%22%29%2Cm%28s%2C%22fill%22%2Ct%5B7%5D%29%2Cm%28s%2C%22fill-rule%22%2C%22evenodd%22%29%2Cm%28s%2C%22fill-opacity%22%2C%22.582%22%29%2Cm%28n%2C%22width%22%2C%226%22%29%2Cm%28n%2C%22height%22%2C%2210%22%29%2Cm%28i%2C%22class%22%2C%22frame-triangle%20svelte-1aphj50%22%29%2CQ%28i%2C%22rotate%22%2Ct%5B2%5D%29%2CT%28i%2C%22visibility%22%2Ct%5B0%5D.children.length%3E0%3F%22visible%22%3A%22hidden%22%29%2Cm%28r%2C%22class%22%2C%22time%20svelte-1aphj50%22%29%2CT%28r%2C%22color%22%2Ct%5B7%5D%29%2CT%28r%2C%22font-weight%22%2Ct%5B0%5D.proportionOfTotal%3C.2%3F500%3A600%29%2Cm%28l%2C%22class%22%2C%22name%20svelte-1aphj50%22%29%2Cm%28d%2C%22class%22%2C%22spacer%22%29%2CT%28d%2C%22flex%22%2C%221%22%29%2Cm%28A%2C%22class%22%2C%22code-position%20svelte-1aphj50%22%29%2Cm%28e%2C%22class%22%2C%22frame-description%20svelte-1aphj50%22%29%2CQ%28e%2C%22application-code%22%2Ct%5B0%5D.isApplicationCode%29%2CQ%28e%2C%22children-visible%22%2Ct%5B2%5D%29%2CT%28e%2C%22padding-left%22%2C%60%24%7Bt%5B1%5D%2A35%7Dpx%60%29%7D%2Cm%28c%2Cv%29%7BX%28c%2Ce%2Cv%29%2Cf%28e%2Ci%29%2Cf%28i%2Cn%29%2Cf%28n%2Cs%29%2Cf%28e%2Cu%29%2Cf%28e%2Cr%29%2Cf%28r%2Co%29%2Cf%28e%2Ca%29%2Cf%28e%2Cl%29%2Cf%28l%2Ch%29%2Cf%28e%2Cp%29%2Cf%28e%2Cd%29%2Cf%28e%2Cg%29%2Cf%28e%2CA%29%2Cb%7C%7C%28F%3DW%28e%2C%22click%22%2CEe%28Ce%28t%5B10%5D%29%29%29%2Cb%3D%210%29%7D%2Cp%28c%2Cv%29%7Bv%26128%26%26m%28s%2C%22fill%22%2Cc%5B7%5D%29%2Cv%264%26%26Q%28i%2C%22rotate%22%2Cc%5B2%5D%29%2Cv%261%26%26T%28i%2C%22visibility%22%2Cc%5B0%5D.children.length%3E0%3F%22visible%22%3A%22hidden%22%29%2Cv%2632%26%26q%28o%2Cc%5B5%5D%29%2Cv%26128%26%26T%28r%2C%22color%22%2Cc%5B7%5D%29%2Cv%261%26%26T%28r%2C%22font-weight%22%2Cc%5B0%5D.proportionOfTotal%3C.2%3F500%3A600%29%2Cv%2616%26%26q%28h%2Cc%5B4%5D%29%2Cv%261%26%26Q%28e%2C%22application-code%22%2Cc%5B0%5D.isApplicationCode%29%2Cv%264%26%26Q%28e%2C%22children-visible%22%2Cc%5B2%5D%29%2Cv%262%26%26T%28e%2C%22padding-left%22%2C%60%24%7Bc%5B1%5D%2A35%7Dpx%60%29%7D%2Cd%28c%29%7Bc%26%26N%28e%29%2Cb%3D%211%2CF%28%29%7D%7D%7Dfunction%20Ne%28t%29%7Blet%20e%2Ci%2Cn%2Cs%2Cu%3Dt%5B0%5D.group.frames.length%2B%22%22%2Cr%2Co%2Ca%2Cl%2Ch%2Cp%3Breturn%7Bc%28%29%7Be%3D_%28%22div%22%29%2Ci%3D_%28%22div%22%29%2Cn%3D_%28%22div%22%29%2Cn.innerHTML%3D%27%3Csvg%20width%3D%226%22%20height%3D%2210%22%3E%3Cpath%20d%3D%22M.937-.016L5.793%204.84.937%209.696z%22%20fill%3D%22%23FFF%22%20fill-rule%3D%22evenodd%22%20fill-opacity%3D%22.582%22%3E%3C/path%3E%3C/svg%3E%27%2Cs%3Dw%28%29%2Cr%3DL%28u%29%2Co%3DL%28%60%20frames%20hidden%0A%20%20%20%20%20%20%20%20%28%60%29%2Ca%3DL%28t%5B6%5D%29%2Cl%3DL%28%22%29%22%29%2Cm%28n%2C%22class%22%2C%22group-triangle%20svelte-1aphj50%22%29%2CQ%28n%2C%22rotate%22%2Ct%5B8%5D%29%2Cm%28i%2C%22class%22%2C%22group-header-button%20svelte-1aphj50%22%29%2Cm%28e%2C%22class%22%2C%22group-header%20svelte-1aphj50%22%29%2CT%28e%2C%22padding-left%22%2C%60%24%7Bt%5B1%5D%2A35%7Dpx%60%29%7D%2Cm%28d%2Cg%29%7BX%28d%2Ce%2Cg%29%2Cf%28e%2Ci%29%2Cf%28i%2Cn%29%2Cf%28i%2Cs%29%2Cf%28i%2Cr%29%2Cf%28i%2Co%29%2Cf%28i%2Ca%29%2Cf%28i%2Cl%29%2Ch%7C%7C%28p%3DW%28e%2C%22click%22%2CEe%28Ce%28t%5B11%5D%29%29%29%2Ch%3D%210%29%7D%2Cp%28d%2Cg%29%7Bg%26256%26%26Q%28n%2C%22rotate%22%2Cd%5B8%5D%29%2Cg%261%26%26u%21%3D%3D%28u%3Dd%5B0%5D.group.frames.length%2B%22%22%29%26%26q%28r%2Cu%29%2Cg%2664%26%26q%28a%2Cd%5B6%5D%29%2Cg%262%26%26T%28e%2C%22padding-left%22%2C%60%24%7Bd%5B1%5D%2A35%7Dpx%60%29%7D%2Cd%28d%29%7Bd%26%26N%28e%29%2Ch%3D%211%2Cp%28%29%7D%7D%7Dfunction%20ze%28t%29%7Blet%20e%3D%5B%5D%2Ci%3Dnew%20Map%2Cn%2Cs%2Cu%3Dt%5B0%5D.children%3Bconst%20r%3Do%3D%3Eo%5B14%5D.identifier%3Bfor%28let%20o%3D0%3Bo%3Cu.length%3Bo%2B%3D1%29%7Blet%20a%3DMe%28t%2Cu%2Co%29%2Cl%3Dr%28a%29%3Bi.set%28l%2Ce%5Bo%5D%3DBe%28l%2Ca%29%29%7Dreturn%7Bc%28%29%7Bfor%28let%20o%3D0%3Bo%3Ce.length%3Bo%2B%3D1%29e%5Bo%5D.c%28%29%3Bn%3Dye%28%29%7D%2Cm%28o%2Ca%29%7Bfor%28let%20l%3D0%3Bl%3Ce.length%3Bl%2B%3D1%29e%5Bl%5D.m%28o%2Ca%29%3BX%28o%2Cn%2Ca%29%2Cs%3D%210%7D%2Cp%28o%2Ca%29%7Ba%2611%26%26%28u%3Do%5B0%5D.children%2Cce%28%29%2Ce%3DKe%28e%2Ca%2Cr%2C1%2Co%2Cu%2Ci%2Cn.parentNode%2CJe%2CBe%2Cn%2CMe%29%2Cde%28%29%29%7D%2Ci%28o%29%7Bif%28%21s%29%7Bfor%28let%20a%3D0%3Ba%3Cu.length%3Ba%2B%3D1%29D%28e%5Ba%5D%29%3Bs%3D%210%7D%7D%2Co%28o%29%7Bfor%28let%20a%3D0%3Ba%3Ce.length%3Ba%2B%3D1%29z%28e%5Ba%5D%29%3Bs%3D%211%7D%2Cd%28o%29%7Bfor%28let%20a%3D0%3Ba%3Ce.length%3Ba%2B%3D1%29e%5Ba%5D.d%28o%29%3Bo%26%26N%28n%29%7D%7D%7Dfunction%20Be%28t%2Ce%29%7Blet%20i%2Cn%2Cs%3Breturn%20n%3Dnew%20He%28%7Bprops%3A%7Bframe%3Ae%5B14%5D%2Cindent%3Ae%5B1%5D%2B%28e%5B3%5D%3F1%3A0%29%7D%7D%29%2C%7Bkey%3At%2Cfirst%3Anull%2Cc%28%29%7Bi%3Dye%28%29%2Cpe%28n.%24%24.fragment%29%2Cthis.first%3Di%7D%2Cm%28u%2Cr%29%7BX%28u%2Ci%2Cr%29%2Cte%28n%2Cu%2Cr%29%2Cs%3D%210%7D%2Cp%28u%2Cr%29%7Be%3Du%3Bconst%20o%3D%7B%7D%3Br%261%26%26%28o.frame%3De%5B14%5D%29%2Cr%2610%26%26%28o.indent%3De%5B1%5D%2B%28e%5B3%5D%3F1%3A0%29%29%2Cn.%24set%28o%29%7D%2Ci%28u%29%7Bs%7C%7C%28D%28n.%24%24.fragment%2Cu%29%2Cs%3D%210%29%7D%2Co%28u%29%7Bz%28n.%24%24.fragment%2Cu%29%2Cs%3D%211%7D%2Cd%28u%29%7Bu%26%26N%28i%29%2Cie%28n%2Cu%29%7D%7D%7Dfunction%20tt%28t%29%7Blet%20e%2Ci%2Cn%2Cs%2Cu%2Cr%2Co%3Dt%5B3%5D%26%26Le%28t%29%2Ca%3Dt%5B0%5D.group%26%26t%5B0%5D.group.rootFrame%3D%3Dt%5B0%5D%26%26t%5B2%5D%26%26Ne%28t%29%2Cl%3Dt%5B2%5D%26%26ze%28t%29%3Breturn%7Bc%28%29%7Be%3D_%28%22div%22%29%2Co%26%26o.c%28%29%2Ci%3Dw%28%29%2Ca%26%26a.c%28%29%2Cn%3Dw%28%29%2Cl%26%26l.c%28%29%2Cs%3Dw%28%29%2Cu%3D_%28%22div%22%29%2Cm%28u%2C%22class%22%2C%22visual-guide%22%29%2CT%28u%2C%22left%22%2C%60%24%7Bt%5B1%5D%2A35%2B21%7Dpx%60%29%2CT%28u%2C%22backgroundColor%22%2Ct%5B7%5D%29%2Cm%28e%2C%22class%22%2C%22frame%20svelte-1aphj50%22%29%7D%2Cm%28h%2Cp%29%7BX%28h%2Ce%2Cp%29%2Co%26%26o.m%28e%2Cnull%29%2Cf%28e%2Ci%29%2Ca%26%26a.m%28e%2Cnull%29%2Cf%28e%2Cn%29%2Cl%26%26l.m%28e%2Cnull%29%2Cf%28e%2Cs%29%2Cf%28e%2Cu%29%2Cr%3D%210%7D%2Cp%28h%2C%5Bp%5D%29%7Bh%5B3%5D%3Fo%3Fo.p%28h%2Cp%29%3A%28o%3DLe%28h%29%2Co.c%28%29%2Co.m%28e%2Ci%29%29%3Ao%26%26%28o.d%281%29%2Co%3Dnull%29%2Ch%5B0%5D.group%26%26h%5B0%5D.group.rootFrame%3D%3Dh%5B0%5D%26%26h%5B2%5D%3Fa%3Fa.p%28h%2Cp%29%3A%28a%3DNe%28h%29%2Ca.c%28%29%2Ca.m%28e%2Cn%29%29%3Aa%26%26%28a.d%281%29%2Ca%3Dnull%29%2Ch%5B2%5D%3Fl%3F%28l.p%28h%2Cp%29%2Cp%264%26%26D%28l%2C1%29%29%3A%28l%3Dze%28h%29%2Cl.c%28%29%2CD%28l%2C1%29%2Cl.m%28e%2Cs%29%29%3Al%26%26%28ce%28%29%2Cz%28l%2C1%2C1%2C%28%29%3D%3E%7Bl%3Dnull%7D%29%2Cde%28%29%29%2Cp%262%26%26T%28u%2C%22left%22%2C%60%24%7Bh%5B1%5D%2A35%2B21%7Dpx%60%29%2Cp%26128%26%26T%28u%2C%22backgroundColor%22%2Ch%5B7%5D%29%7D%2Ci%28h%29%7Br%7C%7C%28D%28l%29%2Cr%3D%210%29%7D%2Co%28h%29%7Bz%28l%29%2Cr%3D%211%7D%2Cd%28h%29%7Bh%26%26N%28e%29%2Co%26%26o.d%28%29%2Ca%26%26a.d%28%29%2Cl%26%26l.d%28%29%7D%7D%7Dfunction%20it%28t%2Ce%2Ci%29%7Blet%20n%2Cs%2Cu%3Bse%28t%2CDe%2Cc%3D%3Ei%2812%2Cs%3Dc%29%29%2Cse%28t%2Cne%2Cc%3D%3Ei%2813%2Cu%3Dc%29%29%3Blet%7Bframe%3Ar%7D%3De%2C%7Bindent%3Ao%3D0%7D%3De%2Ca%3D%210%2Cl%2Ch%3Br.className%3Fh%3D%60%24%7Br.className%7D.%24%7Br.function%7D%60%3Ah%3Dr.function%3Bconst%20p%3D%60%24%7Br.filePathShort%7D%3A%24%7Br.lineNo.toString%28%29.padEnd%284%2C%22%5CxA0%22%29%7D%60%3Blet%20d%2Cg%3Dnull%3Bif%28r.group%29%7Bconst%20c%3Dr.group.libraries%3Bc.length%3C4%3Fg%3Dc.join%28%22%2C%20%22%29%3Ag%3D%60%24%7Bc%5B0%5D%7D%2C%20%24%7Bc%5B1%5D%7D%2C%20%24%7Bc%5B2%5D%7D...%60%7Dlet%20A%3Br.proportionOfTotal%3E.6%3FA%3D%22%23FF4159%22%3Ar.proportionOfTotal%3E.3%3FA%3D%22%23F5A623%22%3Ar.proportionOfTotal%3E.2%3FA%3D%22%23D8CB2A%22%3AA%3D%22%237ED321%22%3Bfunction%20b%28%29%7Bi%282%2Ca%3D%21a%29%7Dfunction%20F%28%29%7BDe.update%28c%3D%3E%7Bvar%20v%3Breturn%7B...c%2C%5B%28v%3Dr.groupId%29%21%3Dnull%3Fv%3A%22%22%5D%3A%21n%7D%7D%29%7Dreturn%20t.%24%24set%3Dc%3D%3E%7B%22frame%22in%20c%26%26i%280%2Cr%3Dc.frame%29%2C%22indent%22in%20c%26%26i%281%2Co%3Dc.indent%29%7D%2Ct.%24%24.update%3D%28%29%3D%3E%7Bvar%20c%2Cv%2C%24%3Bif%28t.%24%24.dirty%264097%26%26%28r.group%3Fs%5B%28c%3Dr.groupId%29%21%3Dnull%3Fc%3A%22%22%5D%7C%7C%28%28v%3Dr.group%29%3D%3Dnull%3Fvoid%200%3Av.rootFrame%29%3D%3D%3Dr%7C%7Cr.children.filter%28M%3D%3E%21M.group%29.length%3E1%3Fi%283%2Cl%3D%210%29%3Ai%283%2Cl%3D%211%29%3Ai%283%2Cl%3D%210%29%29%2Ct.%24%24.dirty%268193%29if%28u%3D%3D%3D%22absolute%22%29i%285%2Cd%3Dr.time.toLocaleString%28void%200%2C%7BminimumFractionDigits%3A3%2CmaximumFractionDigits%3A3%7D%29%29%3Belse%20if%28u%3D%3D%3D%22proportion%22%29i%285%2Cd%3D%60%24%7B%28r.proportionOfTotal%2A100%29.toLocaleString%28void%200%2C%7BminimumFractionDigits%3A1%2CmaximumFractionDigits%3A1%7D%29%7D%25%60%29%3Belse%20throw%20new%20Error%28%22unknown%20timeFormat%22%29%3Bt.%24%24.dirty%264097%26%26i%288%2Cn%3Ds%5B%28%24%3Dr.groupId%29%21%3Dnull%3F%24%3A%22%22%5D%3D%3D%3D%210%29%7D%2C%5Br%2Co%2Ca%2Cl%2Ch%2Cd%2Cg%2CA%2Cn%2Cp%2Cb%2CF%2Cs%2Cu%5D%7Dclass%20He%20extends%20he%7Bconstructor%28e%29%7Bsuper%28%29%2Cme%28this%2Ce%2Cit%2Ctt%2CK%2C%7Bframe%3A0%2Cindent%3A1%7D%29%7D%7Dconst%20nt%3D%22data%3Aimage/png%3Bbase64%2CiVBORw0KGgoAAAANSUhEUgAAACAAAAAgCAYAAABzenr0AAAABGdBTUEAALGPC/xhBQAAADhlWElmTU0AKgAAAAgAAYdpAAQAAAABAAAAGgAAAAAAAqACAAQAAAABAAAAIKADAAQAAAABAAAAIAAAAACPTkDJAAAFPklEQVRYCdWXu4skVRSHb3VXP2bcXUVMBkRMTVww2XQDExEEH4iKiUYGhuJEPgJhUSMzQQSDRVzETNDMTTfUwL/ARUwM1t3pV1WX33eqbnfP9MxOu5kHTt9T93F%2Bv3vOubeqi7QhT1%2B58vhiVn1G19WiaQ6KIqVQOmyT%2Bh9kuUxp2bAAtQkpij9pbw5G5fu/3br1x8ql4NW0%2BrVJzaN29nop9VUeCtoerXpMTj53g%2BAGcINR1YB3RIJMN6dIxd/luLxcZoftzltwAct%2BSiNGh2jJ84BnSQWJTeBNW2C0ZrvufrZA5y2JmuemWkfCjYq5IsC6q2iE2V0LuDdMaYxKZDxo%2ByS3JZkEY%2B5SsAU7P5q1qZNEAxnXGo0NubomQM4dWPnCMAU/fUCnoA7kFjPEPohuqfO6uc%2B%2B0xKSVHUcHDbNwZpAeFyHyMcg408G16mSnwW3b5OEz3rtCAyJnHUQUSEFmMdki0CMmsNOX/gkpf1RSpf223Q43jC2MMw4tFWsjwHzBngsIOT6CaEf7wGKrTo/agFbH8oWAQdkWTF5htGntSDn2h2YBTal/9603Z2%2B%2BswZ0%2B5BZIjdQwfUz5DcGwHVotSfdpYtAg7oUKzaycyo6PjmkA4cRmgBuf5zSj/80kbAuToaYHz9afdgCiCxJF3gpudfZampOyGnEwAwIkEbuROBXEauXZGdYzrEtFTTpx3zHGeewGoFcFxk2Cdlxempy8/oZyXm1KO3R14fIraPXEzpAnXgyVBmRMdjNgdVsqZgxLw9cl4C7m7N%2Bd17pOqIuaj2LKetQzs1Ai3E%2BreRJip4CSnz2wPYHC9wFL66MYko9k8pwgmAU4hqbxZhO6tNXba321V8Uvruc4ZzGgQxErnFNszqItqC0DdpTtzfeqWJ21DwpRp5WkOdHwFJqM4UMLcdeB2AADPUkigSm00VOZixsOL8WfUB3oWd4ZWcT8CpgLz2XkoPX%2BIgEIU%2Bq6K6QZqzqxoAr15vupqC8Air0wm7JwUL2AWJByIAuDXQEGZ1aegRASY4Ppq0AOZZIoZYsLh4zDsa4PSfeA%2BEn/tGQMI5ZTe%2BxClhN%2BQ5z4b67TfZJeATiAQw4J4KwTzCOfT2nSb3JRALAJTEfKPQcrGBG5GwwCLMRCRAXcgiQY1IYD8ogbzuDd5qF7gL%2Bp4ESM05Z//coWXH1oEE5oQkQPOi3EroDDk/Ai40Cp3SRE2AG%2B8MWyOk5h1j7ixnEogPD0dVcv/FVwXXLceKs20K5rCaFk06fKmOD424akkTXUFkVwanEtBZfH7hMK5eCEwBl0DNYHvJ0Idd4MHXr7djkGDtWQV3GqlTCRhybzqv1R4zbA/fXabRfhFAHkvflJO77XivuyElbRHG%2Bh3yL6EtAu4iPkoF5q4veRn1ecEUAwYg0pSyQwAoRk3qz4p4DS%2BwawpxSVHoY9cobBHQtxBBBMBrN/rkvOEC6lF0hF/nKvaS31yE155btLVAFKIidbSDbBMI9HaluzjC4ZKQWHieBIcVPqvbyg/b503Dh91kTcB/LH4Z6wmNI8X2PnyxTkPSUI7JP7MjvE5hTrwDuO%2BrLvT2uXxnAXNNgL9LLHxdB16jOi24XgOEK68EyMKMb/uYRERol1w%2BFmRN67XrWonsKDdzRNPmXzPjbEXHxwWttsCcwpXki8cte91afP7zkdQuYch/zSizVv66ffvOwZNPfLus/YNSPMYuLkZIda66yw3NzwHMeCOBXcBNdVH8OBiXLx/7c5qJrFrK/GOYfETH97Sr/jOM38FnvodDGv8f%2BRcj1XBLIcDKAQAAAABJRU5ErkJggg%3D%3D%22%2Cht%3D%22%22%3Bfunction%20rt%28t%29%7Blet%20e%3Breturn%7Bc%28%29%7Be%3D_%28%22div%22%29%2Ce.textContent%3D%22No%20samples%20recorded.%22%2Cm%28e%2C%22class%22%2C%22error%22%29%7D%2Cm%28i%2Cn%29%7BX%28i%2Ce%2Cn%29%7D%2Cp%3AC%2Ci%3AC%2Co%3AC%2Cd%28i%29%7Bi%26%26N%28e%29%7D%7D%7Dfunction%20lt%28t%29%7Blet%20e%2Ci%3Breturn%20e%3Dnew%20He%28%7Bprops%3A%7Bframe%3At%5B0%5D.rootFrame%7D%7D%29%2C%7Bc%28%29%7Bpe%28e.%24%24.fragment%29%7D%2Cm%28n%2Cs%29%7Bte%28e%2Cn%2Cs%29%2Ci%3D%210%7D%2Cp%28n%2Cs%29%7Bconst%20u%3D%7B%7D%3Bs%261%26%26%28u.frame%3Dn%5B0%5D.rootFrame%29%2Ce.%24set%28u%29%7D%2Ci%28n%29%7Bi%7C%7C%28D%28e.%24%24.fragment%2Cn%29%2Ci%3D%210%29%7D%2Co%28n%29%7Bz%28e.%24%24.fragment%2Cn%29%2Ci%3D%211%7D%2Cd%28n%29%7Bie%28e%2Cn%29%7D%7D%7Dfunction%20ot%28t%29%7Blet%20e%2Ci%2Cn%2Cs%2Cu%2Cr%2Co%2Ca%2Cl%2Ch%2Cp%2Cd%2Cg%3Bi%3Dnew%20et%28%7Bprops%3A%7Bsession%3At%5B0%5D%7D%7D%29%3Bconst%20A%3D%5Blt%2Crt%5D%2Cb%3D%5B%5D%3Bfunction%20F%28c%2Cv%29%7Breturn%20c%5B0%5D.rootFrame%3F0%3A1%7Dreturn%20p%3DF%28t%29%2Cd%3Db%5Bp%5D%3DA%5Bp%5D%28t%29%2C%7Bc%28%29%7Be%3D_%28%22div%22%29%2Cpe%28i.%24%24.fragment%29%2Cn%3Dw%28%29%2Cs%3D_%28%22div%22%29%2Cu%3Dw%28%29%2Cr%3D_%28%22div%22%29%2Co%3D_%28%22div%22%29%2Ca%3D_%28%22span%22%29%2Ca.textContent%3D%22Program%3A%5CxA0%22%2Cl%3DL%28t%5B1%5D%29%2Ch%3Dw%28%29%2Cd.c%28%29%2Cm%28s%2C%22class%22%2C%22spacer%22%29%2CT%28s%2C%22height%22%2C%2220px%22%29%2Cm%28a%2C%22class%22%2C%22label%20svelte-1gm5pcf%22%29%2Cm%28o%2C%22class%22%2C%22program%20svelte-1gm5pcf%22%29%2Cm%28r%2C%22class%22%2C%22margins%22%29%2Cm%28e%2C%22class%22%2C%22app%20svelte-1gm5pcf%22%29%7D%2Cm%28c%2Cv%29%7BX%28c%2Ce%2Cv%29%2Cte%28i%2Ce%2Cnull%29%2Cf%28e%2Cn%29%2Cf%28e%2Cs%29%2Cf%28e%2Cu%29%2Cf%28e%2Cr%29%2Cf%28r%2Co%29%2Cf%28o%2Ca%29%2Cf%28o%2Cl%29%2Cf%28r%2Ch%29%2Cb%5Bp%5D.m%28r%2Cnull%29%2Cg%3D%210%7D%2Cp%28c%2C%5Bv%5D%29%7Bconst%20%24%3D%7B%7D%3Bv%261%26%26%28%24.session%3Dc%5B0%5D%29%2Ci.%24set%28%24%29%2C%28%21g%7C%7Cv%262%29%26%26q%28l%2Cc%5B1%5D%29%3Blet%20M%3Dp%3Bp%3DF%28c%29%2Cp%3D%3D%3DM%3Fb%5Bp%5D.p%28c%2Cv%29%3A%28ce%28%29%2Cz%28b%5BM%5D%2C1%2C1%2C%28%29%3D%3E%7Bb%5BM%5D%3Dnull%7D%29%2Cde%28%29%2Cd%3Db%5Bp%5D%2Cd%3Fd.p%28c%2Cv%29%3A%28d%3Db%5Bp%5D%3DA%5Bp%5D%28c%29%2Cd.c%28%29%29%2CD%28d%2C1%29%2Cd.m%28r%2Cnull%29%29%7D%2Ci%28c%29%7Bg%7C%7C%28D%28i.%24%24.fragment%2Cc%29%2CD%28d%29%2Cg%3D%210%29%7D%2Co%28c%29%7Bz%28i.%24%24.fragment%2Cc%29%2Cz%28d%29%2Cg%3D%211%7D%2Cd%28c%29%7Bc%26%26N%28e%29%2Cie%28i%29%2Cb%5Bp%5D.d%28%29%7D%7D%7Dfunction%20ge%28%29%7Bdocument.body.style.minHeight%3D%60%24%7Bwindow.scrollY%2Bwindow.innerHeight%7Dpx%60%7Dfunction%20st%28t%2Ce%2Ci%29%7Blet%7Bsession%3An%7D%3De%3Bconst%20s%3Ddocument.createElement%28%22link%22%29%3Bs.rel%3D%22shortut%20icon%22%2Cs.href%3Dnt%2Cdocument.head.appendChild%28s%29%2Cqe%28%28%29%3D%3E%7Bwindow.addEventListener%28%22scroll%22%2Cge%29%2Cge%28%29%7D%29%2CUe%28%28%29%3D%3E%7Bwindow.removeEventListener%28%22scroll%22%2Cge%29%7D%29%3Bconst%20u%3Dn.rootFrame%2Cr%3Du%3D%3Dnull%3Fvoid%200%3Au.time.toLocaleString%28void%200%2C%7BmaximumSignificantDigits%3A3%7D%29%3Blet%20o%3Du%3D%3Dnull%3Fvoid%200%3Au.function%3Breturn%20o%3D%3D%22%3Cmodule%3E%22%26%26%28o%3Dn.program%29%2Cdocument.title%3D%60%24%7Br%7Ds%20-%20%24%7Bo%7D%20-%20pyinstrument%60%2Ct.%24%24set%3Da%3D%3E%7B%22session%22in%20a%26%26i%280%2Cn%3Da.session%29%7D%2C%5Bn%2Co%5D%7Dclass%20at%20extends%20he%7Bconstructor%28e%29%7Bsuper%28%29%2Cme%28this%2Ce%2Cst%2Cot%2CK%2C%7Bsession%3A0%7D%29%7D%7Dclass%20ut%7Bconstructor%28e%2Ci%29%7Bk%28this%2C%22id%22%29%3Bk%28this%2C%22rootFrame%22%29%3Bk%28this%2C%22frames%22%2C%5B%5D%29%3Bthis.id%3De%2Cthis.rootFrame%3Di%7DaddFrame%28e%29%7Bthis.frames.push%28e%29%7Dget%20exitFrames%28%29%7Bconst%20e%3D%5B%5D%3Bfor%28const%20i%20of%20this.frames%29%7Blet%20n%3D%211%3Bfor%28const%20s%20of%20i.children%29if%28s.group%21%3Dthis%29%7Bn%3D%210%3Bbreak%7Dn%26%26e.push%28i%29%7Dreturn%20e%7Dget%20libraries%28%29%7Bconst%20e%3D%5B%5D%3Bfor%28const%20i%20of%20this.frames%29%7Bconst%20n%3D/%5E%5B%5E%5C%5C/.%5D%2A/.exec%28i.filePathShort%29%5B0%5D%3Be.includes%28n%29%7C%7Ce.push%28n%29%7Dreturn%20e%7D%7Dclass%20_e%7Bconstructor%28e%2Ci%3Dnull%2Cn%3D%7Bgroups%3A%7B%7D%7D%29%7Bk%28this%2C%22function%22%29%3Bk%28this%2C%22filePath%22%29%3Bk%28this%2C%22filePathShort%22%29%3Bk%28this%2C%22lineNo%22%29%3Bk%28this%2C%22time%22%29%3Bk%28this%2C%22totalTime%22%29%3Bk%28this%2C%22awaitTime%22%29%3Bk%28this%2C%22isApplicationCode%22%29%3Bk%28this%2C%22groupId%22%29%3Bk%28this%2C%22className%22%29%3Bk%28this%2C%22parent%22%29%3Bk%28this%2C%22children%22%29%3Bk%28this%2C%22group%22%29%3Bvar%20s%2Cu%3Bif%28this.parent%3Di%2Cthis.function%3De.function%2Cthis.filePath%3De.file_path%2Cthis.filePathShort%3De.file_path_short%2Cthis.lineNo%3De.line_no%2Cthis.time%3De.time%2Cthis.totalTime%3Dthis.parent%3Fthis.parent.totalTime%3Athis.time%2Cthis.awaitTime%3De.await_time%2Cthis.isApplicationCode%3De.is_application_code%2Cthis.groupId%3D%28s%3De.group_id%29%21%3Dnull%3Fs%3Anull%2Cthis.className%3D%28u%3De.class_name%29%21%3Dnull%3Fu%3Anull%2Ce.group_id%29%7Bconst%20r%3De.group_id%3Blet%20o%3Dn.groups%5Br%5D%3Bo%7C%7C%28o%3Dn.groups%5Br%5D%3Dnew%20ut%28r%2Cthis%29%29%2Co.addFrame%28this%29%2Cthis.group%3Dn.groups%5Br%5D%7Delse%20this.group%3Dnull%3Bthis.children%3De.children.map%28r%3D%3Enew%20_e%28r%2Cthis%2Cn%29%29%7Dget%20identifier%28%29%7Breturn%60%24%7Bthis.function%7D%3A%24%7Bthis.filePath%7D%3A%24%7Bthis.lineNo%7D%60%7Dget%20proportionOfTotal%28%29%7Breturn%20this.time/this.totalTime%7D%7Dclass%20ft%7Bconstructor%28e%29%7Bk%28this%2C%22startTime%22%29%3Bk%28this%2C%22duration%22%29%3Bk%28this%2C%22sampleCount%22%29%3Bk%28this%2C%22program%22%29%3Bk%28this%2C%22cpuTime%22%29%3Bk%28this%2C%22rootFrame%22%29%3Bthis.startTime%3De.start_time%2Cthis.duration%3De.duration%2Cthis.sampleCount%3De.sample_count%2Cthis.program%3De.program%2Cthis.cpuTime%3De.cpu_time%2Cthis.rootFrame%3De.root_frame%3Fnew%20_e%28e.root_frame%29%3Anull%7D%7Dreturn%7Brender%28t%2Ce%29%7Bconst%20i%3Dnew%20ft%28e%29%3Breturn%20new%20at%28%7Btarget%3At%2Cprops%3A%7Bsession%3Ai%7D%7D%29%7D%7D%7D%28%29%3B%0A%3C/script%3E%0A%20%20%20%20%20%20%20%20%20%20%20%20%20%20%20%20%3Cstyle%3E%40import%22https%3A//fonts.googleapis.com/css%3Ffamily%3DSource%2BCode%2BPro%3A400%2C600%7CSource%2BSans%2BPro%3A400%2C600%22%3Bhtml%2Cbody%7Bbackground-color%3A%23303538%3Bcolor%3A%23fff%3Bpadding%3A0%3Bmargin%3A0%7D.margins%7Bpadding%3A0%2030px%7D.header.svelte-tewt95%7Bbackground%3A%23292f32%7D.row.svelte-tewt95%7Bdisplay%3Aflex%3Balign-items%3Acenter%7D.title.svelte-tewt95%7Bfont-size%3A34px%3Bpadding-top%3A20px%3Bpadding-bottom%3A16px%3Bwhite-space%3Anowrap%3Boverflow%3Ahidden%3Btext-overflow%3Aellipsis%3Bmargin-right%3A10px%3Bflex%3A1%7D.metrics.svelte-tewt95%7Bdisplay%3Agrid%3Bgrid-template-columns%3Aauto%20auto%20auto%20auto%20auto%20auto%3Bfont-size%3A14px%3Btext-transform%3Auppercase%3Bgrid-gap%3A1px%208px%7D.metric-label.svelte-tewt95%7Bfont-weight%3A600%3Bcolor%3A%23a9abad%7D.metric-value.svelte-tewt95%7Bcolor%3A%23737779%3Bmargin-right%3A.5em%7D.frame.svelte-1aphj50.svelte-1aphj50%7Bfont-family%3ASource%20Code%20Pro%2CRoboto%20Mono%2CConsolas%2CMonaco%2Cmonospace%3Bfont-size%3A15px%3Bz-index%3A0%3Bposition%3Arelative%3Buser-select%3Anone%7D.group-header.svelte-1aphj50.svelte-1aphj50%7Bmargin-left%3A35px%7D.group-header-button.svelte-1aphj50.svelte-1aphj50%7Bdisplay%3Ainline-block%3Bcolor%3A%23ffffff94%3Buser-select%3Anone%3Bcursor%3Adefault%3Bposition%3Arelative%7D.group-header-button.svelte-1aphj50.svelte-1aphj50%3Abefore%7Bposition%3Aabsolute%3Bleft%3A-3px%3Bright%3A-3px%3Btop%3A0px%3Bbottom%3A-1px%3Bcontent%3A%22%22%3Bz-index%3A-1%3Bbackground-color%3A%233b4043%7D.group-header-button.svelte-1aphj50.svelte-1aphj50%3Ahover%3Abefore%7Bbackground-color%3A%234a4f54%7D.group-triangle.svelte-1aphj50.svelte-1aphj50%2C.frame-triangle.svelte-1aphj50.svelte-1aphj50%7Bwidth%3A6px%3Bheight%3A10px%3Bpadding-left%3A6px%3Bpadding-right%3A5px%3Bdisplay%3Ainline-block%7D.group-triangle.rotate.svelte-1aphj50.svelte-1aphj50%2C.frame-triangle.rotate.svelte-1aphj50.svelte-1aphj50%7Btransform%3Atranslate%286px%2C4px%29%20rotate%2890deg%29%7D.frame-description.svelte-1aphj50.svelte-1aphj50%7Bdisplay%3Aflex%7D.frame-description.svelte-1aphj50.svelte-1aphj50%3Ahover%3Abefore%7Bposition%3Aabsolute%3Bleft%3A-3px%3Bright%3A-3px%3Btop%3A-1px%3Bheight%3A22px%3Bcontent%3A%22%22%3Bz-index%3A-1%3Bbackground-color%3A%23354759%3Bopacity%3A.5%7D.frame-triangle.svelte-1aphj50.svelte-1aphj50%7Bopacity%3A1%7D.frame-description.children-visible.svelte-1aphj50%20.frame-triangle.svelte-1aphj50%7Bopacity%3A0%7D.frame-description.children-visible.svelte-1aphj50%3Ahover%20.frame-triangle.svelte-1aphj50%7Bopacity%3A1%7D.name.svelte-1aphj50.svelte-1aphj50%2C.time.svelte-1aphj50.svelte-1aphj50%2C.code-position.svelte-1aphj50.svelte-1aphj50%7Buser-select%3Atext%3Bcursor%3Adefault%7D.application-code.svelte-1aphj50%20.name.svelte-1aphj50%7Bcolor%3A%235db3ff%7D.time.svelte-1aphj50.svelte-1aphj50%7Bmargin-right%3A.55em%3Bcolor%3A%23b8e98685%7D.code-position.svelte-1aphj50.svelte-1aphj50%7Bcolor%3A%23ffffff80%3Btext-align%3Aright%3Bmargin-left%3A1em%7D.visual-guide%7Btop%3A21px%3Bbottom%3A0%3Bleft%3A0%3Bwidth%3A2px%3Bbackground-color%3A%23fff%3Bposition%3Aabsolute%3Bopacity%3A.08%7D.frame-description%3Ahover~.visual-guide%7Bopacity%3A.4%7D.frame-description%3Ahover~.children%20.visual-guide%7Bopacity%3A.1%7D.app.svelte-1gm5pcf.svelte-1gm5pcf%7Bfont-family%3ASource%20Sans%20Pro%2CHelvetica%2CArial%2Csans-serif%3B-webkit-font-smoothing%3Aantialiased%3B-moz-osx-font-smoothing%3Agrayscale%7D.program.svelte-1gm5pcf.svelte-1gm5pcf%7Bfont-size%3A14px%3Bfont-weight%3A600%3Bmargin-bottom%3A16px%3Bcolor%3A%23b4b4b4%7D.program.svelte-1gm5pcf%20.label.svelte-1gm5pcf%7Bcolor%3A%23eaeaea%3Btext-transform%3Auppercase%7D%0A%3C/style%3E%0A%0A%20%20%20%20%20%20%20%20%20%20%20%20%20%20%20%20%3Cscript%3E%0A%20%20%20%20%20%20%20%20%20%20%20%20%20%20%20%20%20%20%20%20const%20sessionData%20%3D%20%7B%22start_time%22%3A%201719427873.306310%2C%22duration%22%3A%200.019703%2C%22sample_count%22%3A%2018%2C%22program%22%3A%20%22/home/haoyu/.conda/envs/ccc/lib/python3.9/site-packages/ipykernel_launcher.py%20-f%20/home/haoyu/.local/share/jupyter/runtime/kernel-76f1e206-b6a7-40f2-8d7f-4e421d5c241e.json%22%2C%22cpu_time%22%3A%200.021751%2C%22root_frame%22%3A%20%7B%22function%22%3A%20%22%3Ccell%20line%3A%202%3E%22%2C%22file_path_short%22%3A%20%22../../../tmp/ipykernel_359614/2991494264.py%22%2C%22file_path%22%3A%20%22/tmp/ipykernel_359614/2991494264.py%22%2C%22line_no%22%3A%202%2C%22time%22%3A%200.018883%2C%22await_time%22%3A%200.000000%2C%22is_application_code%22%3A%20true%2C%22children%22%3A%20%5B%7B%22function%22%3A%20%22func%22%2C%22file_path_short%22%3A%20%22../../../tmp/ipykernel_359614/2661685993.py%22%2C%22file_path%22%3A%20%22/tmp/ipykernel_359614/2661685993.py%22%2C%22line_no%22%3A%201%2C%22time%22%3A%200.018883%2C%22await_time%22%3A%200.000000%2C%22is_application_code%22%3A%20true%2C%22children%22%3A%20%5B%7B%22function%22%3A%20%22ccc%22%2C%22file_path_short%22%3A%20%22ccc/coef/impl.py%22%2C%22file_path%22%3A%20%22/home/haoyu/_database/projs/ccc-gpu/libs/ccc/coef/impl.py%22%2C%22line_no%22%3A%20308%2C%22time%22%3A%200.017882%2C%22await_time%22%3A%200.000000%2C%22is_application_code%22%3A%20true%2C%22children%22%3A%20%5B%7B%22function%22%3A%20%22compute_coef%22%2C%22file_path_short%22%3A%20%22ccc/coef/impl.py%22%2C%22file_path%22%3A%20%22/home/haoyu/_database/projs/ccc-gpu/libs/ccc/coef/impl.py%22%2C%22line_no%22%3A%20493%2C%22time%22%3A%200.014558%2C%22await_time%22%3A%200.000000%2C%22is_application_code%22%3A%20true%2C%22children%22%3A%20%5B%7B%22function%22%3A%20%22cdist_func%22%2C%22file_path_short%22%3A%20%22ccc/coef/impl.py%22%2C%22file_path%22%3A%20%22/home/haoyu/_database/projs/ccc-gpu/libs/ccc/coef/impl.py%22%2C%22line_no%22%3A%20486%2C%22time%22%3A%200.014558%2C%22await_time%22%3A%200.000000%2C%22is_application_code%22%3A%20true%2C%22children%22%3A%20%5B%7B%22function%22%3A%20%22cdist_parts_parallel%22%2C%22file_path_short%22%3A%20%22ccc/coef/impl.py%22%2C%22file_path%22%3A%20%22/home/haoyu/_database/projs/ccc-gpu/libs/ccc/coef/impl.py%22%2C%22line_no%22%3A%20193%2C%22time%22%3A%200.014558%2C%22await_time%22%3A%200.000000%2C%22is_application_code%22%3A%20true%2C%22children%22%3A%20%5B%7B%22function%22%3A%20%22as_completed%22%2C%22file_path_short%22%3A%20%22concurrent/futures/_base.py%22%2C%22file_path%22%3A%20%22/home/haoyu/.conda/envs/ccc/lib/python3.9/concurrent/futures/_base.py%22%2C%22line_no%22%3A%20201%2C%22time%22%3A%200.012559%2C%22await_time%22%3A%200.000000%2C%22is_application_code%22%3A%20false%2C%22children%22%3A%20%5B%7B%22function%22%3A%20%22wait%22%2C%22file_path_short%22%3A%20%22threading.py%22%2C%22file_path%22%3A%20%22/home/haoyu/.conda/envs/ccc/lib/python3.9/threading.py%22%2C%22line_no%22%3A%20563%2C%22time%22%3A%200.012559%2C%22await_time%22%3A%200.000000%2C%22is_application_code%22%3A%20false%2C%22children%22%3A%20%5B%7B%22function%22%3A%20%22wait%22%2C%22file_path_short%22%3A%20%22threading.py%22%2C%22file_path%22%3A%20%22/home/haoyu/.conda/envs/ccc/lib/python3.9/threading.py%22%2C%22line_no%22%3A%20280%2C%22time%22%3A%200.012559%2C%22await_time%22%3A%200.000000%2C%22is_application_code%22%3A%20false%2C%22children%22%3A%20%5B%7B%22function%22%3A%20%22lock.acquire%22%2C%22file_path_short%22%3A%20%22%3Cbuilt-in%3E%22%2C%22file_path%22%3A%20%22%3Cbuilt-in%3E%22%2C%22line_no%22%3A%200%2C%22time%22%3A%200.012559%2C%22await_time%22%3A%200.000000%2C%22is_application_code%22%3A%20false%2C%22children%22%3A%20%5B%5D%2C%22group_id%22%3A%20%226b5f97b3-b95c-4438-b9b0-1ff714bd7ae2%22%7D%5D%2C%22group_id%22%3A%20%226b5f97b3-b95c-4438-b9b0-1ff714bd7ae2%22%2C%22class_name%22%3A%20%22Condition%22%7D%5D%2C%22group_id%22%3A%20%226b5f97b3-b95c-4438-b9b0-1ff714bd7ae2%22%2C%22class_name%22%3A%20%22Event%22%7D%5D%2C%22group_id%22%3A%20%226b5f97b3-b95c-4438-b9b0-1ff714bd7ae2%22%7D%2C%7B%22function%22%3A%20%22%3Cgenexpr%3E%22%2C%22file_path_short%22%3A%20%22ccc/utils/utility_functions.py%22%2C%22file_path%22%3A%20%22/home/haoyu/_database/projs/ccc-gpu/libs/ccc/utils/utility_functions.py%22%2C%22line_no%22%3A%20117%2C%22time%22%3A%200.001000%2C%22await_time%22%3A%200.000000%2C%22is_application_code%22%3A%20true%2C%22children%22%3A%20%5B%5D%7D%2C%7B%22function%22%3A%20%22%3Cdictcomp%3E%22%2C%22file_path_short%22%3A%20%22ccc/coef/impl.py%22%2C%22file_path%22%3A%20%22/home/haoyu/_database/projs/ccc-gpu/libs/ccc/coef/impl.py%22%2C%22line_no%22%3A%20211%2C%22time%22%3A%200.000999%2C%22await_time%22%3A%200.000000%2C%22is_application_code%22%3A%20true%2C%22children%22%3A%20%5B%7B%22function%22%3A%20%22submit%22%2C%22file_path_short%22%3A%20%22concurrent/futures/thread.py%22%2C%22file_path%22%3A%20%22/home/haoyu/.conda/envs/ccc/lib/python3.9/concurrent/futures/thread.py%22%2C%22line_no%22%3A%20161%2C%22time%22%3A%200.000999%2C%22await_time%22%3A%200.000000%2C%22is_application_code%22%3A%20false%2C%22children%22%3A%20%5B%7B%22function%22%3A%20%22_adjust_thread_count%22%2C%22file_path_short%22%3A%20%22concurrent/futures/thread.py%22%2C%22file_path%22%3A%20%22/home/haoyu/.conda/envs/ccc/lib/python3.9/concurrent/futures/thread.py%22%2C%22line_no%22%3A%20180%2C%22time%22%3A%200.000999%2C%22await_time%22%3A%200.000000%2C%22is_application_code%22%3A%20false%2C%22children%22%3A%20%5B%7B%22function%22%3A%20%22acquire%22%2C%22file_path_short%22%3A%20%22threading.py%22%2C%22file_path%22%3A%20%22/home/haoyu/.conda/envs/ccc/lib/python3.9/threading.py%22%2C%22line_no%22%3A%20411%2C%22time%22%3A%200.000999%2C%22await_time%22%3A%200.000000%2C%22is_application_code%22%3A%20false%2C%22children%22%3A%20%5B%7B%22function%22%3A%20%22wait%22%2C%22file_path_short%22%3A%20%22threading.py%22%2C%22file_path%22%3A%20%22/home/haoyu/.conda/envs/ccc/lib/python3.9/threading.py%22%2C%22line_no%22%3A%20280%2C%22time%22%3A%200.000999%2C%22await_time%22%3A%200.000000%2C%22is_application_code%22%3A%20false%2C%22children%22%3A%20%5B%7B%22function%22%3A%20%22_acquire_restore%22%2C%22file_path_short%22%3A%20%22threading.py%22%2C%22file_path%22%3A%20%22/home/haoyu/.conda/envs/ccc/lib/python3.9/threading.py%22%2C%22line_no%22%3A%20268%2C%22time%22%3A%200.000999%2C%22await_time%22%3A%200.000000%2C%22is_application_code%22%3A%20false%2C%22children%22%3A%20%5B%5D%2C%22group_id%22%3A%20%228446ef09-469b-41af-b115-1586f24c67af%22%2C%22class_name%22%3A%20%22Condition%22%7D%5D%2C%22group_id%22%3A%20%228446ef09-469b-41af-b115-1586f24c67af%22%2C%22class_name%22%3A%20%22Condition%22%7D%5D%2C%22group_id%22%3A%20%228446ef09-469b-41af-b115-1586f24c67af%22%2C%22class_name%22%3A%20%22Semaphore%22%7D%5D%2C%22group_id%22%3A%20%228446ef09-469b-41af-b115-1586f24c67af%22%2C%22class_name%22%3A%20%22ThreadPoolExecutor%22%7D%5D%2C%22group_id%22%3A%20%228446ef09-469b-41af-b115-1586f24c67af%22%2C%22class_name%22%3A%20%22ThreadPoolExecutor%22%7D%5D%7D%5D%7D%5D%7D%5D%7D%2C%7B%22function%22%3A%20%22result_iterator%22%2C%22file_path_short%22%3A%20%22concurrent/futures/_base.py%22%2C%22file_path%22%3A%20%22/home/haoyu/.conda/envs/ccc/lib/python3.9/concurrent/futures/_base.py%22%2C%22line_no%22%3A%20602%2C%22time%22%3A%200.002306%2C%22await_time%22%3A%200.000000%2C%22is_application_code%22%3A%20false%2C%22children%22%3A%20%5B%7B%22function%22%3A%20%22result%22%2C%22file_path_short%22%3A%20%22concurrent/futures/_base.py%22%2C%22file_path%22%3A%20%22/home/haoyu/.conda/envs/ccc/lib/python3.9/concurrent/futures/_base.py%22%2C%22line_no%22%3A%20418%2C%22time%22%3A%200.002306%2C%22await_time%22%3A%200.000000%2C%22is_application_code%22%3A%20false%2C%22children%22%3A%20%5B%7B%22function%22%3A%20%22wait%22%2C%22file_path_short%22%3A%20%22threading.py%22%2C%22file_path%22%3A%20%22/home/haoyu/.conda/envs/ccc/lib/python3.9/threading.py%22%2C%22line_no%22%3A%20280%2C%22time%22%3A%200.002306%2C%22await_time%22%3A%200.000000%2C%22is_application_code%22%3A%20false%2C%22children%22%3A%20%5B%7B%22function%22%3A%20%22lock.acquire%22%2C%22file_path_short%22%3A%20%22%3Cbuilt-in%3E%22%2C%22file_path%22%3A%20%22%3Cbuilt-in%3E%22%2C%22line_no%22%3A%200%2C%22time%22%3A%200.002306%2C%22await_time%22%3A%200.000000%2C%22is_application_code%22%3A%20false%2C%22children%22%3A%20%5B%5D%2C%22group_id%22%3A%20%22be51135f-5b9c-49e9-bc39-f34a9cc95bbe%22%7D%5D%2C%22group_id%22%3A%20%22be51135f-5b9c-49e9-bc39-f34a9cc95bbe%22%2C%22class_name%22%3A%20%22Condition%22%7D%5D%2C%22group_id%22%3A%20%22be51135f-5b9c-49e9-bc39-f34a9cc95bbe%22%2C%22class_name%22%3A%20%22Future%22%7D%5D%2C%22group_id%22%3A%20%22be51135f-5b9c-49e9-bc39-f34a9cc95bbe%22%7D%2C%7B%22function%22%3A%20%22__exit__%22%2C%22file_path_short%22%3A%20%22concurrent/futures/_base.py%22%2C%22file_path%22%3A%20%22/home/haoyu/.conda/envs/ccc/lib/python3.9/concurrent/futures/_base.py%22%2C%22line_no%22%3A%20636%2C%22time%22%3A%200.001019%2C%22await_time%22%3A%200.000000%2C%22is_application_code%22%3A%20false%2C%22children%22%3A%20%5B%7B%22function%22%3A%20%22shutdown%22%2C%22file_path_short%22%3A%20%22concurrent/futures/thread.py%22%2C%22file_path%22%3A%20%22/home/haoyu/.conda/envs/ccc/lib/python3.9/concurrent/futures/thread.py%22%2C%22line_no%22%3A%20216%2C%22time%22%3A%200.001019%2C%22await_time%22%3A%200.000000%2C%22is_application_code%22%3A%20false%2C%22children%22%3A%20%5B%7B%22function%22%3A%20%22join%22%2C%22file_path_short%22%3A%20%22threading.py%22%2C%22file_path%22%3A%20%22/home/haoyu/.conda/envs/ccc/lib/python3.9/threading.py%22%2C%22line_no%22%3A%201028%2C%22time%22%3A%200.001019%2C%22await_time%22%3A%200.000000%2C%22is_application_code%22%3A%20false%2C%22children%22%3A%20%5B%7B%22function%22%3A%20%22_wait_for_tstate_lock%22%2C%22file_path_short%22%3A%20%22threading.py%22%2C%22file_path%22%3A%20%22/home/haoyu/.conda/envs/ccc/lib/python3.9/threading.py%22%2C%22line_no%22%3A%201066%2C%22time%22%3A%200.001019%2C%22await_time%22%3A%200.000000%2C%22is_application_code%22%3A%20false%2C%22children%22%3A%20%5B%7B%22function%22%3A%20%22lock.acquire%22%2C%22file_path_short%22%3A%20%22%3Cbuilt-in%3E%22%2C%22file_path%22%3A%20%22%3Cbuilt-in%3E%22%2C%22line_no%22%3A%200%2C%22time%22%3A%200.001019%2C%22await_time%22%3A%200.000000%2C%22is_application_code%22%3A%20false%2C%22children%22%3A%20%5B%5D%2C%22group_id%22%3A%20%22934bc011-77bb-4334-9297-7cd166cf6329%22%7D%5D%2C%22group_id%22%3A%20%22934bc011-77bb-4334-9297-7cd166cf6329%22%2C%22class_name%22%3A%20%22Thread%22%7D%5D%2C%22group_id%22%3A%20%22934bc011-77bb-4334-9297-7cd166cf6329%22%2C%22class_name%22%3A%20%22Thread%22%7D%5D%2C%22group_id%22%3A%20%22934bc011-77bb-4334-9297-7cd166cf6329%22%2C%22class_name%22%3A%20%22ThreadPoolExecutor%22%7D%5D%2C%22group_id%22%3A%20%22934bc011-77bb-4334-9297-7cd166cf6329%22%2C%22class_name%22%3A%20%22ThreadPoolExecutor%22%7D%5D%7D%2C%7B%22function%22%3A%20%22%5Bself%5D%22%2C%22file_path_short%22%3A%20%22../../../tmp/ipykernel_359614/2661685993.py%22%2C%22file_path%22%3A%20%22%22%2C%22line_no%22%3A%200%2C%22time%22%3A%200.001000%2C%22await_time%22%3A%200.000000%2C%22is_application_code%22%3A%20false%2C%22children%22%3A%20%5B%5D%7D%5D%7D%5D%7D%7D%0A%3B%0A%20%20%20%20%20%20%20%20%20%20%20%20%20%20%20%20%20%20%20%20pyinstrumentHTMLRenderer.render%28document.getElementById%28%27app%27%29%2C%20sessionData%29%3B%0A%20%20%20%20%20%20%20%20%20%20%20%20%20%20%20%20%3C/script%3E%0A%20%20%20%20%20%20%20%20%20%20%20%20%3C/body%3E%0A%20%20%20%20%20%20%20%20%20%20%20%20%3C/html%3E%0A%20%20%20%20%20%20%20%20\"\n",
       "            frameborder=\"0\"\n",
       "            allowfullscreen\n",
       "            style=\"resize: vertical\"\n",
       "        ></iframe>\n",
       "        "
      ],
      "text/plain": [
       "\n",
       "  _     ._   __/__   _ _  _  _ _/_   Recorded: 12:51:13  Samples:  18\n",
       " /_//_/// /_\\ / //_// / //_'/ //     Duration: 0.020     CPU time: 0.022\n",
       "/   _/                      v4.6.2\n",
       "\n",
       "Program: /home/haoyu/.conda/envs/ccc/lib/python3.9/site-packages/ipykernel_launcher.py -f /home/haoyu/.local/share/jupyter/runtime/kernel-76f1e206-b6a7-40f2-8d7f-4e421d5c241e.json\n",
       "\n",
       "0.019 <cell line: 2>  ../../../tmp/ipykernel_359614/2991494264.py:2\n",
       "`- 0.019 func  ../../../tmp/ipykernel_359614/2661685993.py:1\n",
       "   |- 0.018 ccc  ccc/coef/impl.py:308\n",
       "   |  |- 0.015 compute_coef  ccc/coef/impl.py:493\n",
       "   |  |  `- 0.015 cdist_func  ccc/coef/impl.py:486\n",
       "   |  |     `- 0.015 cdist_parts_parallel  ccc/coef/impl.py:193\n",
       "   |  |        |- 0.013 as_completed  concurrent/futures/_base.py:201\n",
       "   |  |        |     [4 frames hidden]  concurrent, threading, <built-in>\n",
       "   |  |        |        0.013 lock.acquire  <built-in>\n",
       "   |  |        |- 0.001 <genexpr>  ccc/utils/utility_functions.py:117\n",
       "   |  |        `- 0.001 <dictcomp>  ccc/coef/impl.py:211\n",
       "   |  |           `- 0.001 ThreadPoolExecutor.submit  concurrent/futures/thread.py:161\n",
       "   |  |                 [5 frames hidden]  concurrent, threading\n",
       "   |  |- 0.002 result_iterator  concurrent/futures/_base.py:602\n",
       "   |  |     [4 frames hidden]  concurrent, threading, <built-in>\n",
       "   |  `- 0.001 ThreadPoolExecutor.__exit__  concurrent/futures/_base.py:636\n",
       "   |        [5 frames hidden]  concurrent, threading, <built-in>\n",
       "   `- 0.001 [self]  ../../../tmp/ipykernel_359614/2661685993.py\n",
       "\n"
      ]
     },
     "metadata": {},
     "output_type": "display_data"
    }
   ],
   "source": [
    "%%pyinstrument\n",
    "func()"
   ]
  },
  {
   "cell_type": "markdown",
   "id": "611ff8e1",
   "metadata": {
    "papermill": {
     "duration": 0.09562,
     "end_time": "2021-12-02T04:34:38.420643",
     "exception": false,
     "start_time": "2021-12-02T04:34:38.325023",
     "status": "completed"
    },
    "tags": []
   },
   "source": [
    "## `n_samples=500`"
   ]
  },
  {
   "cell_type": "code",
   "execution_count": 18,
   "id": "4bcf4b42",
   "metadata": {
    "execution": {
     "iopub.execute_input": "2021-12-02T04:34:38.617318Z",
     "iopub.status.busy": "2021-12-02T04:34:38.616836Z",
     "iopub.status.idle": "2021-12-02T04:34:38.618469Z",
     "shell.execute_reply": "2021-12-02T04:34:38.618817Z"
    },
    "papermill": {
     "duration": 0.101998,
     "end_time": "2021-12-02T04:34:38.618933",
     "exception": false,
     "start_time": "2021-12-02T04:34:38.516935",
     "status": "completed"
    },
    "tags": []
   },
   "outputs": [],
   "source": [
    "N_SAMPLES = 500"
   ]
  },
  {
   "cell_type": "code",
   "execution_count": 19,
   "id": "0bf2f21e",
   "metadata": {
    "execution": {
     "iopub.execute_input": "2021-12-02T04:34:38.813589Z",
     "iopub.status.busy": "2021-12-02T04:34:38.813117Z",
     "iopub.status.idle": "2021-12-02T04:34:38.815386Z",
     "shell.execute_reply": "2021-12-02T04:34:38.815020Z"
    },
    "papermill": {
     "duration": 0.100616,
     "end_time": "2021-12-02T04:34:38.815484",
     "exception": false,
     "start_time": "2021-12-02T04:34:38.714868",
     "status": "completed"
    },
    "tags": []
   },
   "outputs": [],
   "source": [
    "x = np.random.rand(N_SAMPLES)\n",
    "y = np.random.rand(N_SAMPLES)"
   ]
  },
  {
   "cell_type": "code",
   "execution_count": 20,
   "id": "cbde4ce6",
   "metadata": {
    "execution": {
     "iopub.execute_input": "2021-12-02T04:34:39.216775Z",
     "iopub.status.busy": "2021-12-02T04:34:39.216014Z",
     "iopub.status.idle": "2021-12-02T04:34:43.223179Z",
     "shell.execute_reply": "2021-12-02T04:34:43.223640Z"
    },
    "papermill": {
     "duration": 4.108094,
     "end_time": "2021-12-02T04:34:43.223780",
     "exception": false,
     "start_time": "2021-12-02T04:34:39.115686",
     "status": "completed"
    },
    "tags": []
   },
   "outputs": [
    {
     "name": "stdout",
     "output_type": "stream",
     "text": [
      "33.2 ms ± 178 µs per loop (mean ± std. dev. of 7 runs, 10 loops each)\n"
     ]
    }
   ],
   "source": [
    "%%timeit func()\n",
    "func()"
   ]
  },
  {
   "cell_type": "code",
   "execution_count": 21,
   "id": "1250547e",
   "metadata": {
    "execution": {
     "iopub.execute_input": "2021-12-02T04:34:43.427169Z",
     "iopub.status.busy": "2021-12-02T04:34:43.426487Z",
     "iopub.status.idle": "2021-12-02T04:34:43.474288Z",
     "shell.execute_reply": "2021-12-02T04:34:43.473832Z"
    },
    "papermill": {
     "duration": 0.148908,
     "end_time": "2021-12-02T04:34:43.474385",
     "exception": false,
     "start_time": "2021-12-02T04:34:43.325477",
     "status": "completed"
    },
    "tags": []
   },
   "outputs": [
    {
     "data": {
      "text/html": [
       "\n",
       "        <iframe\n",
       "            width=\"100%\"\n",
       "            height=\"400\"\n",
       "            src=\"data:text/html, %3C%21DOCTYPE%20html%3E%0A%20%20%20%20%20%20%20%20%20%20%20%20%3Chtml%3E%0A%20%20%20%20%20%20%20%20%20%20%20%20%3Chead%3E%0A%20%20%20%20%20%20%20%20%20%20%20%20%20%20%20%20%3Cmeta%20charset%3D%22utf-8%22%3E%0A%20%20%20%20%20%20%20%20%20%20%20%20%3C/head%3E%0A%20%20%20%20%20%20%20%20%20%20%20%20%3Cbody%3E%0A%20%20%20%20%20%20%20%20%20%20%20%20%20%20%20%20%3Cdiv%20id%3D%22app%22%3E%3C/div%3E%0A%0A%20%20%20%20%20%20%20%20%20%20%20%20%20%20%20%20%3Cscript%3Evar%20pyinstrumentHTMLRenderer%3Dfunction%28%29%7B%22use%20strict%22%3Bvar%20ct%3DObject.defineProperty%3Bvar%20dt%3D%28R%2CC%2CH%29%3D%3EC%20in%20R%3Fct%28R%2CC%2C%7Benumerable%3A%210%2Cconfigurable%3A%210%2Cwritable%3A%210%2Cvalue%3AH%7D%29%3AR%5BC%5D%3DH%3Bvar%20k%3D%28R%2CC%2CH%29%3D%3E%28dt%28R%2Ctypeof%20C%21%3D%22symbol%22%3FC%2B%22%22%3AC%2CH%29%2CH%29%3Bconst%20R%3D%22%22%3Bfunction%20C%28%29%7B%7Dfunction%20H%28t%29%7Breturn%20t%28%29%7Dfunction%20we%28%29%7Breturn%20Object.create%28null%29%7Dfunction%20O%28t%29%7Bt.forEach%28H%29%7Dfunction%20be%28t%29%7Breturn%20typeof%20t%3D%3D%22function%22%7Dfunction%20K%28t%2Ce%29%7Breturn%20t%21%3Dt%3Fe%3D%3De%3At%21%3D%3De%7C%7Ct%26%26typeof%20t%3D%3D%22object%22%7C%7Ctypeof%20t%3D%3D%22function%22%7Dfunction%20Ie%28t%29%7Breturn%20Object.keys%28t%29.length%3D%3D%3D0%7Dfunction%20Re%28t%2C...e%29%7Bif%28t%3D%3Dnull%29return%20C%3Bconst%20i%3Dt.subscribe%28...e%29%3Breturn%20i.unsubscribe%3F%28%29%3D%3Ei.unsubscribe%28%29%3Ai%7Dfunction%20se%28t%2Ce%2Ci%29%7Bt.%24%24.on_destroy.push%28Re%28e%2Ci%29%29%7Dfunction%20f%28t%2Ce%29%7Bt.appendChild%28e%29%7Dfunction%20X%28t%2Ce%2Ci%29%7Bt.insertBefore%28e%2Ci%7C%7Cnull%29%7Dfunction%20N%28t%29%7Bt.parentNode%26%26t.parentNode.removeChild%28t%29%7Dfunction%20_%28t%29%7Breturn%20document.createElement%28t%29%7Dfunction%20ke%28t%29%7Breturn%20document.createElementNS%28%22http%3A//www.w3.org/2000/svg%22%2Ct%29%7Dfunction%20L%28t%29%7Breturn%20document.createTextNode%28t%29%7Dfunction%20w%28%29%7Breturn%20L%28%22%20%22%29%7Dfunction%20ye%28%29%7Breturn%20L%28%22%22%29%7Dfunction%20W%28t%2Ce%2Ci%2Cn%29%7Breturn%20t.addEventListener%28e%2Ci%2Cn%29%2C%28%29%3D%3Et.removeEventListener%28e%2Ci%2Cn%29%7Dfunction%20Ce%28t%29%7Breturn%20function%28e%29%7Breturn%20e.preventDefault%28%29%2Ct.call%28this%2Ce%29%7D%7Dfunction%20Ee%28t%29%7Breturn%20function%28e%29%7Breturn%20e.stopPropagation%28%29%2Ct.call%28this%2Ce%29%7D%7Dfunction%20m%28t%2Ce%2Ci%29%7Bi%3D%3Dnull%3Ft.removeAttribute%28e%29%3At.getAttribute%28e%29%21%3D%3Di%26%26t.setAttribute%28e%2Ci%29%7Dfunction%20Oe%28t%29%7Breturn%20Array.from%28t.childNodes%29%7Dfunction%20q%28t%2Ce%29%7Be%3D%22%22%2Be%2Ct.wholeText%21%3D%3De%26%26%28t.data%3De%29%7Dfunction%20T%28t%2Ce%2Ci%2Cn%29%7Bi%3D%3D%3Dnull%3Ft.style.removeProperty%28e%29%3At.style.setProperty%28e%2Ci%2Cn%3F%22important%22%3A%22%22%29%7Dfunction%20Q%28t%2Ce%2Ci%29%7Bt.classList%5Bi%3F%22add%22%3A%22remove%22%5D%28e%29%7Dlet%20V%3Bfunction%20Z%28t%29%7BV%3Dt%7Dfunction%20Te%28%29%7Bif%28%21V%29throw%20new%20Error%28%22Function%20called%20outside%20component%20initialization%22%29%3Breturn%20V%7Dfunction%20qe%28t%29%7BTe%28%29.%24%24.on_mount.push%28t%29%7Dfunction%20Ue%28t%29%7BTe%28%29.%24%24.on_destroy.push%28t%29%7Dconst%20Y%3D%5B%5D%2CFe%3D%5B%5D%2Cj%3D%5B%5D%2CSe%3D%5B%5D%2CVe%3DPromise.resolve%28%29%3Blet%20ae%3D%211%3Bfunction%20Ze%28%29%7Bae%7C%7C%28ae%3D%210%2CVe.then%28%24e%29%29%7Dfunction%20ue%28t%29%7Bj.push%28t%29%7Dconst%20fe%3Dnew%20Set%3Blet%20x%3D0%3Bfunction%20%24e%28%29%7Bconst%20t%3DV%3Bdo%7Bfor%28%3Bx%3CY.length%3B%29%7Bconst%20e%3DY%5Bx%5D%3Bx%2B%2B%2CZ%28e%29%2CYe%28e.%24%24%29%7Dfor%28Z%28null%29%2CY.length%3D0%2Cx%3D0%3BFe.length%3B%29Fe.pop%28%29%28%29%3Bfor%28let%20e%3D0%3Be%3Cj.length%3Be%2B%3D1%29%7Bconst%20i%3Dj%5Be%5D%3Bfe.has%28i%29%7C%7C%28fe.add%28i%29%2Ci%28%29%29%7Dj.length%3D0%7Dwhile%28Y.length%29%3Bfor%28%3BSe.length%3B%29Se.pop%28%29%28%29%3Bae%3D%211%2Cfe.clear%28%29%2CZ%28t%29%7Dfunction%20Ye%28t%29%7Bif%28t.fragment%21%3D%3Dnull%29%7Bt.update%28%29%2CO%28t.before_update%29%3Bconst%20e%3Dt.dirty%3Bt.dirty%3D%5B-1%5D%2Ct.fragment%26%26t.fragment.p%28t.ctx%2Ce%29%2Ct.after_update.forEach%28ue%29%7D%7Dconst%20ee%3Dnew%20Set%3Blet%20G%3Bfunction%20ce%28%29%7BG%3D%7Br%3A0%2Cc%3A%5B%5D%2Cp%3AG%7D%7Dfunction%20de%28%29%7BG.r%7C%7CO%28G.c%29%2CG%3DG.p%7Dfunction%20D%28t%2Ce%29%7Bt%26%26t.i%26%26%28ee.delete%28t%29%2Ct.i%28e%29%29%7Dfunction%20z%28t%2Ce%2Ci%2Cn%29%7Bif%28t%26%26t.o%29%7Bif%28ee.has%28t%29%29return%3Bee.add%28t%29%2CG.c.push%28%28%29%3D%3E%7Bee.delete%28t%29%2Cn%26%26%28i%26%26t.d%281%29%2Cn%28%29%29%7D%29%2Ct.o%28e%29%7Delse%20n%26%26n%28%29%7Dfunction%20Je%28t%2Ce%29%7Bz%28t%2C1%2C1%2C%28%29%3D%3E%7Be.delete%28t.key%29%7D%29%7Dfunction%20Ke%28t%2Ce%2Ci%2Cn%2Cs%2Cu%2Cr%2Co%2Ca%2Cl%2Ch%2Cp%29%7Blet%20d%3Dt.length%2Cg%3Du.length%2CA%3Dd%3Bconst%20b%3D%7B%7D%3Bfor%28%3BA--%3B%29b%5Bt%5BA%5D.key%5D%3DA%3Bconst%20F%3D%5B%5D%2Cc%3Dnew%20Map%2Cv%3Dnew%20Map%3Bfor%28A%3Dg%3BA--%3B%29%7Bconst%20y%3Dp%28s%2Cu%2CA%29%2CS%3Di%28y%29%3Blet%20P%3Dr.get%28S%29%3BP%3Fn%26%26P.p%28y%2Ce%29%3A%28P%3Dl%28S%2Cy%29%2CP.c%28%29%29%2Cc.set%28S%2CF%5BA%5D%3DP%29%2CS%20in%20b%26%26v.set%28S%2CMath.abs%28A-b%5BS%5D%29%29%7Dconst%20%24%3Dnew%20Set%2CM%3Dnew%20Set%3Bfunction%20E%28y%29%7BD%28y%2C1%29%2Cy.m%28o%2Ch%29%2Cr.set%28y.key%2Cy%29%2Ch%3Dy.first%2Cg--%7Dfor%28%3Bd%26%26g%3B%29%7Bconst%20y%3DF%5Bg-1%5D%2CS%3Dt%5Bd-1%5D%2CP%3Dy.key%2CB%3DS.key%3By%3D%3D%3DS%3F%28h%3Dy.first%2Cd--%2Cg--%29%3Ac.has%28B%29%3F%21r.has%28P%29%7C%7C%24.has%28P%29%3FE%28y%29%3AM.has%28B%29%3Fd--%3Av.get%28P%29%3Ev.get%28B%29%3F%28M.add%28P%29%2CE%28y%29%29%3A%28%24.add%28B%29%2Cd--%29%3A%28a%28S%2Cr%29%2Cd--%29%7Dfor%28%3Bd--%3B%29%7Bconst%20y%3Dt%5Bd%5D%3Bc.has%28y.key%29%7C%7Ca%28y%2Cr%29%7Dfor%28%3Bg%3B%29E%28F%5Bg-1%5D%29%3Breturn%20F%7Dfunction%20pe%28t%29%7Bt%26%26t.c%28%29%7Dfunction%20te%28t%2Ce%2Ci%2Cn%29%7Bconst%7Bfragment%3As%2Cafter_update%3Au%7D%3Dt.%24%24%3Bs%26%26s.m%28e%2Ci%29%2Cn%7C%7Cue%28%28%29%3D%3E%7Bconst%20r%3Dt.%24%24.on_mount.map%28H%29.filter%28be%29%3Bt.%24%24.on_destroy%3Ft.%24%24.on_destroy.push%28...r%29%3AO%28r%29%2Ct.%24%24.on_mount%3D%5B%5D%7D%29%2Cu.forEach%28ue%29%7Dfunction%20ie%28t%2Ce%29%7Bconst%20i%3Dt.%24%24%3Bi.fragment%21%3D%3Dnull%26%26%28O%28i.on_destroy%29%2Ci.fragment%26%26i.fragment.d%28e%29%2Ci.on_destroy%3Di.fragment%3Dnull%2Ci.ctx%3D%5B%5D%29%7Dfunction%20We%28t%2Ce%29%7Bt.%24%24.dirty%5B0%5D%3D%3D%3D-1%26%26%28Y.push%28t%29%2CZe%28%29%2Ct.%24%24.dirty.fill%280%29%29%2Ct.%24%24.dirty%5Be/31%7C0%5D%7C%3D1%3C%3Ce%2531%7Dfunction%20me%28t%2Ce%2Ci%2Cn%2Cs%2Cu%2Cr%2Co%3D%5B-1%5D%29%7Bconst%20a%3DV%3BZ%28t%29%3Bconst%20l%3Dt.%24%24%3D%7Bfragment%3Anull%2Cctx%3A%5B%5D%2Cprops%3Au%2Cupdate%3AC%2Cnot_equal%3As%2Cbound%3Awe%28%29%2Con_mount%3A%5B%5D%2Con_destroy%3A%5B%5D%2Con_disconnect%3A%5B%5D%2Cbefore_update%3A%5B%5D%2Cafter_update%3A%5B%5D%2Ccontext%3Anew%20Map%28e.context%7C%7C%28a%3Fa.%24%24.context%3A%5B%5D%29%29%2Ccallbacks%3Awe%28%29%2Cdirty%3Ao%2Cskip_bound%3A%211%2Croot%3Ae.target%7C%7Ca.%24%24.root%7D%3Br%26%26r%28l.root%29%3Blet%20h%3D%211%3Bif%28l.ctx%3Di%3Fi%28t%2Ce.props%7C%7C%7B%7D%2C%28p%2Cd%2C...g%29%3D%3E%7Bconst%20A%3Dg.length%3Fg%5B0%5D%3Ad%3Breturn%20l.ctx%26%26s%28l.ctx%5Bp%5D%2Cl.ctx%5Bp%5D%3DA%29%26%26%28%21l.skip_bound%26%26l.bound%5Bp%5D%26%26l.bound%5Bp%5D%28A%29%2Ch%26%26We%28t%2Cp%29%29%2Cd%7D%29%3A%5B%5D%2Cl.update%28%29%2Ch%3D%210%2CO%28l.before_update%29%2Cl.fragment%3Dn%3Fn%28l.ctx%29%3A%211%2Ce.target%29%7Bif%28e.hydrate%29%7Bconst%20p%3DOe%28e.target%29%3Bl.fragment%26%26l.fragment.l%28p%29%2Cp.forEach%28N%29%7Delse%20l.fragment%26%26l.fragment.c%28%29%3Be.intro%26%26D%28t.%24%24.fragment%29%2Cte%28t%2Ce.target%2Ce.anchor%2Ce.customElement%29%2C%24e%28%29%7DZ%28a%29%7Dclass%20he%7B%24destroy%28%29%7Bie%28this%2C1%29%2Cthis.%24destroy%3DC%7D%24on%28e%2Ci%29%7Bif%28%21be%28i%29%29return%20C%3Bconst%20n%3Dthis.%24%24.callbacks%5Be%5D%7C%7C%28this.%24%24.callbacks%5Be%5D%3D%5B%5D%29%3Breturn%20n.push%28i%29%2C%28%29%3D%3E%7Bconst%20s%3Dn.indexOf%28i%29%3Bs%21%3D%3D-1%26%26n.splice%28s%2C1%29%7D%7D%24set%28e%29%7Bthis.%24%24set%26%26%21Ie%28e%29%26%26%28this.%24%24.skip_bound%3D%210%2Cthis.%24%24set%28e%29%2Cthis.%24%24.skip_bound%3D%211%29%7D%7Dconst%20U%3D%5B%5D%3Bfunction%20Pe%28t%2Ce%3DC%29%7Blet%20i%3Bconst%20n%3Dnew%20Set%3Bfunction%20s%28o%29%7Bif%28K%28t%2Co%29%26%26%28t%3Do%2Ci%29%29%7Bconst%20a%3D%21U.length%3Bfor%28const%20l%20of%20n%29l%5B1%5D%28%29%2CU.push%28l%2Ct%29%3Bif%28a%29%7Bfor%28let%20l%3D0%3Bl%3CU.length%3Bl%2B%3D2%29U%5Bl%5D%5B0%5D%28U%5Bl%2B1%5D%29%3BU.length%3D0%7D%7D%7Dfunction%20u%28o%29%7Bs%28o%28t%29%29%7Dfunction%20r%28o%2Ca%3DC%29%7Bconst%20l%3D%5Bo%2Ca%5D%3Breturn%20n.add%28l%29%2Cn.size%3D%3D%3D1%26%26%28i%3De%28s%29%7C%7CC%29%2Co%28t%29%2C%28%29%3D%3E%7Bn.delete%28l%29%2Cn.size%3D%3D%3D0%26%26%28i%28%29%2Ci%3Dnull%29%7D%7Dreturn%7Bset%3As%2Cupdate%3Au%2Csubscribe%3Ar%7D%7Dconst%20De%3DPe%28%7B%7D%29%2Cne%3DPe%28%22absolute%22%29%2Cpt%3D%22%22%3Bfunction%20je%28t%29%7Blet%20e%2Ci%2Cn%2Cs%2Cu%2Cr%2Co%2Ca%2Cl%2Ch%2Cp%2Cd%2Cg%2CA%2Cb%2CF%2Cc%2Cv%2C%24%2CM%2CE%2Cy%2CS%2CP%2CB%2Cre%3Dt%5B0%5D.sampleCount%2B%22%22%2Cve%2CXe%2Cle%2CQe%2Coe%2CAe%2CGe%3Breturn%7Bc%28%29%7Be%3D_%28%22div%22%29%2Ci%3D_%28%22div%22%29%2Cn%3D_%28%22div%22%29%2Cs%3D_%28%22div%22%29%2Cs.textContent%3D%22pyinstrument%22%2Cu%3Dw%28%29%2Cr%3D_%28%22div%22%29%2Co%3D_%28%22label%22%29%2Co.textContent%3D%22Absolute%20time%22%2Ca%3Dw%28%29%2Cl%3D_%28%22input%22%29%2Ch%3Dw%28%29%2Cp%3D_%28%22div%22%29%2Cp.textContent%3D%22Recorded%3A%22%2Cd%3Dw%28%29%2Cg%3D_%28%22div%22%29%2Cg.textContent%3D%60%24%7Bt%5B2%5D%7D%60%2CA%3Dw%28%29%2Cb%3D_%28%22div%22%29%2Cb.textContent%3D%22Duration%3A%22%2CF%3Dw%28%29%2Cc%3D_%28%22div%22%29%2Cc.textContent%3D%60%24%7Bt%5B4%5D%7D%20seconds%60%2Cv%3Dw%28%29%2C%24%3D_%28%22label%22%29%2C%24.textContent%3D%22Proportional%20time%22%2CM%3Dw%28%29%2CE%3D_%28%22input%22%29%2Cy%3Dw%28%29%2CS%3D_%28%22div%22%29%2CS.textContent%3D%22Samples%3A%22%2CP%3Dw%28%29%2CB%3D_%28%22div%22%29%2Cve%3DL%28re%29%2CXe%3Dw%28%29%2Cle%3D_%28%22div%22%29%2Cle.textContent%3D%22CPU%20time%3A%22%2CQe%3Dw%28%29%2Coe%3D_%28%22div%22%29%2Coe.textContent%3D%60%24%7Bt%5B3%5D%7D%20seconds%60%2Cm%28s%2C%22class%22%2C%22title%20svelte-tewt95%22%29%2Cm%28o%2C%22class%22%2C%22metric-label%20svelte-tewt95%22%29%2Cm%28o%2C%22for%22%2C%22absolute%22%29%2Cm%28l%2C%22type%22%2C%22radio%22%29%2Cl.__value%3D%22absolute%22%2Cl.value%3Dl.__value%2Cm%28l%2C%22id%22%2C%22absolute%22%29%2Cm%28l%2C%22name%22%2C%22time-format%22%29%2Cl.checked%3D%210%2Ct%5B6%5D%5B0%5D.push%28l%29%2Cm%28p%2C%22class%22%2C%22metric-label%20svelte-tewt95%22%29%2Cm%28g%2C%22class%22%2C%22metric-value%20svelte-tewt95%22%29%2Cm%28b%2C%22class%22%2C%22metric-label%20svelte-tewt95%22%29%2Cm%28c%2C%22class%22%2C%22metric-value%20svelte-tewt95%22%29%2Cm%28%24%2C%22class%22%2C%22metric-label%20svelte-tewt95%22%29%2Cm%28%24%2C%22for%22%2C%22proportion%22%29%2Cm%28E%2C%22type%22%2C%22radio%22%29%2CE.__value%3D%22proportion%22%2CE.value%3DE.__value%2Cm%28E%2C%22id%22%2C%22proportion%22%29%2Cm%28E%2C%22name%22%2C%22time-format%22%29%2Ct%5B6%5D%5B0%5D.push%28E%29%2Cm%28S%2C%22class%22%2C%22metric-label%20svelte-tewt95%22%29%2Cm%28B%2C%22class%22%2C%22metric-value%20svelte-tewt95%22%29%2Cm%28le%2C%22class%22%2C%22metric-label%20svelte-tewt95%22%29%2Cm%28oe%2C%22class%22%2C%22metric-value%20svelte-tewt95%22%29%2Cm%28r%2C%22class%22%2C%22metrics%20svelte-tewt95%22%29%2Cm%28n%2C%22class%22%2C%22row%20svelte-tewt95%22%29%2Cm%28i%2C%22class%22%2C%22margins%22%29%2Cm%28e%2C%22class%22%2C%22header%20svelte-tewt95%22%29%7D%2Cm%28I%2CJ%29%7BX%28I%2Ce%2CJ%29%2Cf%28e%2Ci%29%2Cf%28i%2Cn%29%2Cf%28n%2Cs%29%2Cf%28n%2Cu%29%2Cf%28n%2Cr%29%2Cf%28r%2Co%29%2Cf%28r%2Ca%29%2Cf%28r%2Cl%29%2Cl.checked%3Dl.__value%3D%3D%3Dt%5B1%5D%2Cf%28r%2Ch%29%2Cf%28r%2Cp%29%2Cf%28r%2Cd%29%2Cf%28r%2Cg%29%2Cf%28r%2CA%29%2Cf%28r%2Cb%29%2Cf%28r%2CF%29%2Cf%28r%2Cc%29%2Cf%28r%2Cv%29%2Cf%28r%2C%24%29%2Cf%28r%2CM%29%2Cf%28r%2CE%29%2CE.checked%3DE.__value%3D%3D%3Dt%5B1%5D%2Cf%28r%2Cy%29%2Cf%28r%2CS%29%2Cf%28r%2CP%29%2Cf%28r%2CB%29%2Cf%28B%2Cve%29%2Cf%28r%2CXe%29%2Cf%28r%2Cle%29%2Cf%28r%2CQe%29%2Cf%28r%2Coe%29%2CAe%7C%7C%28Ge%3D%5BW%28l%2C%22change%22%2Ct%5B5%5D%29%2CW%28E%2C%22change%22%2Ct%5B7%5D%29%5D%2CAe%3D%210%29%7D%2Cp%28I%2C%5BJ%5D%29%7BJ%262%26%26%28l.checked%3Dl.__value%3D%3D%3DI%5B1%5D%29%2CJ%262%26%26%28E.checked%3DE.__value%3D%3D%3DI%5B1%5D%29%2CJ%261%26%26re%21%3D%3D%28re%3DI%5B0%5D.sampleCount%2B%22%22%29%26%26q%28ve%2Cre%29%7D%2Ci%3AC%2Co%3AC%2Cd%28I%29%7BI%26%26N%28e%29%2Ct%5B6%5D%5B0%5D.splice%28t%5B6%5D%5B0%5D.indexOf%28l%29%2C1%29%2Ct%5B6%5D%5B0%5D.splice%28t%5B6%5D%5B0%5D.indexOf%28E%29%2C1%29%2CAe%3D%211%2CO%28Ge%29%7D%7D%7Dfunction%20xe%28t%2Ce%2Ci%29%7Bvar%20p%3Blet%20n%3Bse%28t%2Cne%2Cd%3D%3Ei%281%2Cn%3Dd%29%29%3Blet%7Bsession%3As%7D%3De%3Bconst%20u%3Dnew%20Date%28s.startTime%2A1e3%29.toLocaleString%28%29%2Cr%3D%28p%3Ds.cpuTime%29%3D%3Dnull%3Fvoid%200%3Ap.toLocaleString%28void%200%2C%7BmaximumSignificantDigits%3A3%7D%29%2Co%3Ds.duration.toLocaleString%28void%200%2C%7BmaximumSignificantDigits%3A3%7D%29%2Ca%3D%5B%5B%5D%5D%3Bfunction%20l%28%29%7Bn%3Dthis.__value%2Cne.set%28n%29%7Dfunction%20h%28%29%7Bn%3Dthis.__value%2Cne.set%28n%29%7Dreturn%20t.%24%24set%3Dd%3D%3E%7B%22session%22in%20d%26%26i%280%2Cs%3Dd.session%29%7D%2C%5Bs%2Cn%2Cu%2Cr%2Co%2Cl%2Ca%2Ch%5D%7Dclass%20et%20extends%20he%7Bconstructor%28e%29%7Bsuper%28%29%2Cme%28this%2Ce%2Cxe%2Cje%2CK%2C%7Bsession%3A0%7D%29%7D%7Dconst%20mt%3D%22%22%3Bfunction%20Me%28t%2Ce%2Ci%29%7Bconst%20n%3Dt.slice%28%29%3Breturn%20n%5B14%5D%3De%5Bi%5D%2Cn%7Dfunction%20Le%28t%29%7Blet%20e%2Ci%2Cn%2Cs%2Cu%2Cr%2Co%2Ca%2Cl%2Ch%2Cp%2Cd%2Cg%2CA%2Cb%2CF%3Breturn%7Bc%28%29%7Be%3D_%28%22div%22%29%2Ci%3D_%28%22div%22%29%2Cn%3Dke%28%22svg%22%29%2Cs%3Dke%28%22path%22%29%2Cu%3Dw%28%29%2Cr%3D_%28%22div%22%29%2Co%3DL%28t%5B5%5D%29%2Ca%3Dw%28%29%2Cl%3D_%28%22div%22%29%2Ch%3DL%28t%5B4%5D%29%2Cp%3Dw%28%29%2Cd%3D_%28%22div%22%29%2Cg%3Dw%28%29%2CA%3D_%28%22div%22%29%2CA.textContent%3D%60%24%7Bt%5B9%5D%7D%60%2Cm%28s%2C%22d%22%2C%22M.937-.016L5.793%204.84.937%209.696z%22%29%2Cm%28s%2C%22fill%22%2Ct%5B7%5D%29%2Cm%28s%2C%22fill-rule%22%2C%22evenodd%22%29%2Cm%28s%2C%22fill-opacity%22%2C%22.582%22%29%2Cm%28n%2C%22width%22%2C%226%22%29%2Cm%28n%2C%22height%22%2C%2210%22%29%2Cm%28i%2C%22class%22%2C%22frame-triangle%20svelte-1aphj50%22%29%2CQ%28i%2C%22rotate%22%2Ct%5B2%5D%29%2CT%28i%2C%22visibility%22%2Ct%5B0%5D.children.length%3E0%3F%22visible%22%3A%22hidden%22%29%2Cm%28r%2C%22class%22%2C%22time%20svelte-1aphj50%22%29%2CT%28r%2C%22color%22%2Ct%5B7%5D%29%2CT%28r%2C%22font-weight%22%2Ct%5B0%5D.proportionOfTotal%3C.2%3F500%3A600%29%2Cm%28l%2C%22class%22%2C%22name%20svelte-1aphj50%22%29%2Cm%28d%2C%22class%22%2C%22spacer%22%29%2CT%28d%2C%22flex%22%2C%221%22%29%2Cm%28A%2C%22class%22%2C%22code-position%20svelte-1aphj50%22%29%2Cm%28e%2C%22class%22%2C%22frame-description%20svelte-1aphj50%22%29%2CQ%28e%2C%22application-code%22%2Ct%5B0%5D.isApplicationCode%29%2CQ%28e%2C%22children-visible%22%2Ct%5B2%5D%29%2CT%28e%2C%22padding-left%22%2C%60%24%7Bt%5B1%5D%2A35%7Dpx%60%29%7D%2Cm%28c%2Cv%29%7BX%28c%2Ce%2Cv%29%2Cf%28e%2Ci%29%2Cf%28i%2Cn%29%2Cf%28n%2Cs%29%2Cf%28e%2Cu%29%2Cf%28e%2Cr%29%2Cf%28r%2Co%29%2Cf%28e%2Ca%29%2Cf%28e%2Cl%29%2Cf%28l%2Ch%29%2Cf%28e%2Cp%29%2Cf%28e%2Cd%29%2Cf%28e%2Cg%29%2Cf%28e%2CA%29%2Cb%7C%7C%28F%3DW%28e%2C%22click%22%2CEe%28Ce%28t%5B10%5D%29%29%29%2Cb%3D%210%29%7D%2Cp%28c%2Cv%29%7Bv%26128%26%26m%28s%2C%22fill%22%2Cc%5B7%5D%29%2Cv%264%26%26Q%28i%2C%22rotate%22%2Cc%5B2%5D%29%2Cv%261%26%26T%28i%2C%22visibility%22%2Cc%5B0%5D.children.length%3E0%3F%22visible%22%3A%22hidden%22%29%2Cv%2632%26%26q%28o%2Cc%5B5%5D%29%2Cv%26128%26%26T%28r%2C%22color%22%2Cc%5B7%5D%29%2Cv%261%26%26T%28r%2C%22font-weight%22%2Cc%5B0%5D.proportionOfTotal%3C.2%3F500%3A600%29%2Cv%2616%26%26q%28h%2Cc%5B4%5D%29%2Cv%261%26%26Q%28e%2C%22application-code%22%2Cc%5B0%5D.isApplicationCode%29%2Cv%264%26%26Q%28e%2C%22children-visible%22%2Cc%5B2%5D%29%2Cv%262%26%26T%28e%2C%22padding-left%22%2C%60%24%7Bc%5B1%5D%2A35%7Dpx%60%29%7D%2Cd%28c%29%7Bc%26%26N%28e%29%2Cb%3D%211%2CF%28%29%7D%7D%7Dfunction%20Ne%28t%29%7Blet%20e%2Ci%2Cn%2Cs%2Cu%3Dt%5B0%5D.group.frames.length%2B%22%22%2Cr%2Co%2Ca%2Cl%2Ch%2Cp%3Breturn%7Bc%28%29%7Be%3D_%28%22div%22%29%2Ci%3D_%28%22div%22%29%2Cn%3D_%28%22div%22%29%2Cn.innerHTML%3D%27%3Csvg%20width%3D%226%22%20height%3D%2210%22%3E%3Cpath%20d%3D%22M.937-.016L5.793%204.84.937%209.696z%22%20fill%3D%22%23FFF%22%20fill-rule%3D%22evenodd%22%20fill-opacity%3D%22.582%22%3E%3C/path%3E%3C/svg%3E%27%2Cs%3Dw%28%29%2Cr%3DL%28u%29%2Co%3DL%28%60%20frames%20hidden%0A%20%20%20%20%20%20%20%20%28%60%29%2Ca%3DL%28t%5B6%5D%29%2Cl%3DL%28%22%29%22%29%2Cm%28n%2C%22class%22%2C%22group-triangle%20svelte-1aphj50%22%29%2CQ%28n%2C%22rotate%22%2Ct%5B8%5D%29%2Cm%28i%2C%22class%22%2C%22group-header-button%20svelte-1aphj50%22%29%2Cm%28e%2C%22class%22%2C%22group-header%20svelte-1aphj50%22%29%2CT%28e%2C%22padding-left%22%2C%60%24%7Bt%5B1%5D%2A35%7Dpx%60%29%7D%2Cm%28d%2Cg%29%7BX%28d%2Ce%2Cg%29%2Cf%28e%2Ci%29%2Cf%28i%2Cn%29%2Cf%28i%2Cs%29%2Cf%28i%2Cr%29%2Cf%28i%2Co%29%2Cf%28i%2Ca%29%2Cf%28i%2Cl%29%2Ch%7C%7C%28p%3DW%28e%2C%22click%22%2CEe%28Ce%28t%5B11%5D%29%29%29%2Ch%3D%210%29%7D%2Cp%28d%2Cg%29%7Bg%26256%26%26Q%28n%2C%22rotate%22%2Cd%5B8%5D%29%2Cg%261%26%26u%21%3D%3D%28u%3Dd%5B0%5D.group.frames.length%2B%22%22%29%26%26q%28r%2Cu%29%2Cg%2664%26%26q%28a%2Cd%5B6%5D%29%2Cg%262%26%26T%28e%2C%22padding-left%22%2C%60%24%7Bd%5B1%5D%2A35%7Dpx%60%29%7D%2Cd%28d%29%7Bd%26%26N%28e%29%2Ch%3D%211%2Cp%28%29%7D%7D%7Dfunction%20ze%28t%29%7Blet%20e%3D%5B%5D%2Ci%3Dnew%20Map%2Cn%2Cs%2Cu%3Dt%5B0%5D.children%3Bconst%20r%3Do%3D%3Eo%5B14%5D.identifier%3Bfor%28let%20o%3D0%3Bo%3Cu.length%3Bo%2B%3D1%29%7Blet%20a%3DMe%28t%2Cu%2Co%29%2Cl%3Dr%28a%29%3Bi.set%28l%2Ce%5Bo%5D%3DBe%28l%2Ca%29%29%7Dreturn%7Bc%28%29%7Bfor%28let%20o%3D0%3Bo%3Ce.length%3Bo%2B%3D1%29e%5Bo%5D.c%28%29%3Bn%3Dye%28%29%7D%2Cm%28o%2Ca%29%7Bfor%28let%20l%3D0%3Bl%3Ce.length%3Bl%2B%3D1%29e%5Bl%5D.m%28o%2Ca%29%3BX%28o%2Cn%2Ca%29%2Cs%3D%210%7D%2Cp%28o%2Ca%29%7Ba%2611%26%26%28u%3Do%5B0%5D.children%2Cce%28%29%2Ce%3DKe%28e%2Ca%2Cr%2C1%2Co%2Cu%2Ci%2Cn.parentNode%2CJe%2CBe%2Cn%2CMe%29%2Cde%28%29%29%7D%2Ci%28o%29%7Bif%28%21s%29%7Bfor%28let%20a%3D0%3Ba%3Cu.length%3Ba%2B%3D1%29D%28e%5Ba%5D%29%3Bs%3D%210%7D%7D%2Co%28o%29%7Bfor%28let%20a%3D0%3Ba%3Ce.length%3Ba%2B%3D1%29z%28e%5Ba%5D%29%3Bs%3D%211%7D%2Cd%28o%29%7Bfor%28let%20a%3D0%3Ba%3Ce.length%3Ba%2B%3D1%29e%5Ba%5D.d%28o%29%3Bo%26%26N%28n%29%7D%7D%7Dfunction%20Be%28t%2Ce%29%7Blet%20i%2Cn%2Cs%3Breturn%20n%3Dnew%20He%28%7Bprops%3A%7Bframe%3Ae%5B14%5D%2Cindent%3Ae%5B1%5D%2B%28e%5B3%5D%3F1%3A0%29%7D%7D%29%2C%7Bkey%3At%2Cfirst%3Anull%2Cc%28%29%7Bi%3Dye%28%29%2Cpe%28n.%24%24.fragment%29%2Cthis.first%3Di%7D%2Cm%28u%2Cr%29%7BX%28u%2Ci%2Cr%29%2Cte%28n%2Cu%2Cr%29%2Cs%3D%210%7D%2Cp%28u%2Cr%29%7Be%3Du%3Bconst%20o%3D%7B%7D%3Br%261%26%26%28o.frame%3De%5B14%5D%29%2Cr%2610%26%26%28o.indent%3De%5B1%5D%2B%28e%5B3%5D%3F1%3A0%29%29%2Cn.%24set%28o%29%7D%2Ci%28u%29%7Bs%7C%7C%28D%28n.%24%24.fragment%2Cu%29%2Cs%3D%210%29%7D%2Co%28u%29%7Bz%28n.%24%24.fragment%2Cu%29%2Cs%3D%211%7D%2Cd%28u%29%7Bu%26%26N%28i%29%2Cie%28n%2Cu%29%7D%7D%7Dfunction%20tt%28t%29%7Blet%20e%2Ci%2Cn%2Cs%2Cu%2Cr%2Co%3Dt%5B3%5D%26%26Le%28t%29%2Ca%3Dt%5B0%5D.group%26%26t%5B0%5D.group.rootFrame%3D%3Dt%5B0%5D%26%26t%5B2%5D%26%26Ne%28t%29%2Cl%3Dt%5B2%5D%26%26ze%28t%29%3Breturn%7Bc%28%29%7Be%3D_%28%22div%22%29%2Co%26%26o.c%28%29%2Ci%3Dw%28%29%2Ca%26%26a.c%28%29%2Cn%3Dw%28%29%2Cl%26%26l.c%28%29%2Cs%3Dw%28%29%2Cu%3D_%28%22div%22%29%2Cm%28u%2C%22class%22%2C%22visual-guide%22%29%2CT%28u%2C%22left%22%2C%60%24%7Bt%5B1%5D%2A35%2B21%7Dpx%60%29%2CT%28u%2C%22backgroundColor%22%2Ct%5B7%5D%29%2Cm%28e%2C%22class%22%2C%22frame%20svelte-1aphj50%22%29%7D%2Cm%28h%2Cp%29%7BX%28h%2Ce%2Cp%29%2Co%26%26o.m%28e%2Cnull%29%2Cf%28e%2Ci%29%2Ca%26%26a.m%28e%2Cnull%29%2Cf%28e%2Cn%29%2Cl%26%26l.m%28e%2Cnull%29%2Cf%28e%2Cs%29%2Cf%28e%2Cu%29%2Cr%3D%210%7D%2Cp%28h%2C%5Bp%5D%29%7Bh%5B3%5D%3Fo%3Fo.p%28h%2Cp%29%3A%28o%3DLe%28h%29%2Co.c%28%29%2Co.m%28e%2Ci%29%29%3Ao%26%26%28o.d%281%29%2Co%3Dnull%29%2Ch%5B0%5D.group%26%26h%5B0%5D.group.rootFrame%3D%3Dh%5B0%5D%26%26h%5B2%5D%3Fa%3Fa.p%28h%2Cp%29%3A%28a%3DNe%28h%29%2Ca.c%28%29%2Ca.m%28e%2Cn%29%29%3Aa%26%26%28a.d%281%29%2Ca%3Dnull%29%2Ch%5B2%5D%3Fl%3F%28l.p%28h%2Cp%29%2Cp%264%26%26D%28l%2C1%29%29%3A%28l%3Dze%28h%29%2Cl.c%28%29%2CD%28l%2C1%29%2Cl.m%28e%2Cs%29%29%3Al%26%26%28ce%28%29%2Cz%28l%2C1%2C1%2C%28%29%3D%3E%7Bl%3Dnull%7D%29%2Cde%28%29%29%2Cp%262%26%26T%28u%2C%22left%22%2C%60%24%7Bh%5B1%5D%2A35%2B21%7Dpx%60%29%2Cp%26128%26%26T%28u%2C%22backgroundColor%22%2Ch%5B7%5D%29%7D%2Ci%28h%29%7Br%7C%7C%28D%28l%29%2Cr%3D%210%29%7D%2Co%28h%29%7Bz%28l%29%2Cr%3D%211%7D%2Cd%28h%29%7Bh%26%26N%28e%29%2Co%26%26o.d%28%29%2Ca%26%26a.d%28%29%2Cl%26%26l.d%28%29%7D%7D%7Dfunction%20it%28t%2Ce%2Ci%29%7Blet%20n%2Cs%2Cu%3Bse%28t%2CDe%2Cc%3D%3Ei%2812%2Cs%3Dc%29%29%2Cse%28t%2Cne%2Cc%3D%3Ei%2813%2Cu%3Dc%29%29%3Blet%7Bframe%3Ar%7D%3De%2C%7Bindent%3Ao%3D0%7D%3De%2Ca%3D%210%2Cl%2Ch%3Br.className%3Fh%3D%60%24%7Br.className%7D.%24%7Br.function%7D%60%3Ah%3Dr.function%3Bconst%20p%3D%60%24%7Br.filePathShort%7D%3A%24%7Br.lineNo.toString%28%29.padEnd%284%2C%22%5CxA0%22%29%7D%60%3Blet%20d%2Cg%3Dnull%3Bif%28r.group%29%7Bconst%20c%3Dr.group.libraries%3Bc.length%3C4%3Fg%3Dc.join%28%22%2C%20%22%29%3Ag%3D%60%24%7Bc%5B0%5D%7D%2C%20%24%7Bc%5B1%5D%7D%2C%20%24%7Bc%5B2%5D%7D...%60%7Dlet%20A%3Br.proportionOfTotal%3E.6%3FA%3D%22%23FF4159%22%3Ar.proportionOfTotal%3E.3%3FA%3D%22%23F5A623%22%3Ar.proportionOfTotal%3E.2%3FA%3D%22%23D8CB2A%22%3AA%3D%22%237ED321%22%3Bfunction%20b%28%29%7Bi%282%2Ca%3D%21a%29%7Dfunction%20F%28%29%7BDe.update%28c%3D%3E%7Bvar%20v%3Breturn%7B...c%2C%5B%28v%3Dr.groupId%29%21%3Dnull%3Fv%3A%22%22%5D%3A%21n%7D%7D%29%7Dreturn%20t.%24%24set%3Dc%3D%3E%7B%22frame%22in%20c%26%26i%280%2Cr%3Dc.frame%29%2C%22indent%22in%20c%26%26i%281%2Co%3Dc.indent%29%7D%2Ct.%24%24.update%3D%28%29%3D%3E%7Bvar%20c%2Cv%2C%24%3Bif%28t.%24%24.dirty%264097%26%26%28r.group%3Fs%5B%28c%3Dr.groupId%29%21%3Dnull%3Fc%3A%22%22%5D%7C%7C%28%28v%3Dr.group%29%3D%3Dnull%3Fvoid%200%3Av.rootFrame%29%3D%3D%3Dr%7C%7Cr.children.filter%28M%3D%3E%21M.group%29.length%3E1%3Fi%283%2Cl%3D%210%29%3Ai%283%2Cl%3D%211%29%3Ai%283%2Cl%3D%210%29%29%2Ct.%24%24.dirty%268193%29if%28u%3D%3D%3D%22absolute%22%29i%285%2Cd%3Dr.time.toLocaleString%28void%200%2C%7BminimumFractionDigits%3A3%2CmaximumFractionDigits%3A3%7D%29%29%3Belse%20if%28u%3D%3D%3D%22proportion%22%29i%285%2Cd%3D%60%24%7B%28r.proportionOfTotal%2A100%29.toLocaleString%28void%200%2C%7BminimumFractionDigits%3A1%2CmaximumFractionDigits%3A1%7D%29%7D%25%60%29%3Belse%20throw%20new%20Error%28%22unknown%20timeFormat%22%29%3Bt.%24%24.dirty%264097%26%26i%288%2Cn%3Ds%5B%28%24%3Dr.groupId%29%21%3Dnull%3F%24%3A%22%22%5D%3D%3D%3D%210%29%7D%2C%5Br%2Co%2Ca%2Cl%2Ch%2Cd%2Cg%2CA%2Cn%2Cp%2Cb%2CF%2Cs%2Cu%5D%7Dclass%20He%20extends%20he%7Bconstructor%28e%29%7Bsuper%28%29%2Cme%28this%2Ce%2Cit%2Ctt%2CK%2C%7Bframe%3A0%2Cindent%3A1%7D%29%7D%7Dconst%20nt%3D%22data%3Aimage/png%3Bbase64%2CiVBORw0KGgoAAAANSUhEUgAAACAAAAAgCAYAAABzenr0AAAABGdBTUEAALGPC/xhBQAAADhlWElmTU0AKgAAAAgAAYdpAAQAAAABAAAAGgAAAAAAAqACAAQAAAABAAAAIKADAAQAAAABAAAAIAAAAACPTkDJAAAFPklEQVRYCdWXu4skVRSHb3VXP2bcXUVMBkRMTVww2XQDExEEH4iKiUYGhuJEPgJhUSMzQQSDRVzETNDMTTfUwL/ARUwM1t3pV1WX33eqbnfP9MxOu5kHTt9T93F%2Bv3vOubeqi7QhT1%2B58vhiVn1G19WiaQ6KIqVQOmyT%2Bh9kuUxp2bAAtQkpij9pbw5G5fu/3br1x8ql4NW0%2BrVJzaN29nop9VUeCtoerXpMTj53g%2BAGcINR1YB3RIJMN6dIxd/luLxcZoftzltwAct%2BSiNGh2jJ84BnSQWJTeBNW2C0ZrvufrZA5y2JmuemWkfCjYq5IsC6q2iE2V0LuDdMaYxKZDxo%2ByS3JZkEY%2B5SsAU7P5q1qZNEAxnXGo0NubomQM4dWPnCMAU/fUCnoA7kFjPEPohuqfO6uc%2B%2B0xKSVHUcHDbNwZpAeFyHyMcg408G16mSnwW3b5OEz3rtCAyJnHUQUSEFmMdki0CMmsNOX/gkpf1RSpf223Q43jC2MMw4tFWsjwHzBngsIOT6CaEf7wGKrTo/agFbH8oWAQdkWTF5htGntSDn2h2YBTal/9603Z2%2B%2BswZ0%2B5BZIjdQwfUz5DcGwHVotSfdpYtAg7oUKzaycyo6PjmkA4cRmgBuf5zSj/80kbAuToaYHz9afdgCiCxJF3gpudfZampOyGnEwAwIkEbuROBXEauXZGdYzrEtFTTpx3zHGeewGoFcFxk2Cdlxempy8/oZyXm1KO3R14fIraPXEzpAnXgyVBmRMdjNgdVsqZgxLw9cl4C7m7N%2Bd17pOqIuaj2LKetQzs1Ai3E%2BreRJip4CSnz2wPYHC9wFL66MYko9k8pwgmAU4hqbxZhO6tNXba321V8Uvruc4ZzGgQxErnFNszqItqC0DdpTtzfeqWJ21DwpRp5WkOdHwFJqM4UMLcdeB2AADPUkigSm00VOZixsOL8WfUB3oWd4ZWcT8CpgLz2XkoPX%2BIgEIU%2Bq6K6QZqzqxoAr15vupqC8Air0wm7JwUL2AWJByIAuDXQEGZ1aegRASY4Ppq0AOZZIoZYsLh4zDsa4PSfeA%2BEn/tGQMI5ZTe%2BxClhN%2BQ5z4b67TfZJeATiAQw4J4KwTzCOfT2nSb3JRALAJTEfKPQcrGBG5GwwCLMRCRAXcgiQY1IYD8ogbzuDd5qF7gL%2Bp4ESM05Z//coWXH1oEE5oQkQPOi3EroDDk/Ai40Cp3SRE2AG%2B8MWyOk5h1j7ixnEogPD0dVcv/FVwXXLceKs20K5rCaFk06fKmOD424akkTXUFkVwanEtBZfH7hMK5eCEwBl0DNYHvJ0Idd4MHXr7djkGDtWQV3GqlTCRhybzqv1R4zbA/fXabRfhFAHkvflJO77XivuyElbRHG%2Bh3yL6EtAu4iPkoF5q4veRn1ecEUAwYg0pSyQwAoRk3qz4p4DS%2BwawpxSVHoY9cobBHQtxBBBMBrN/rkvOEC6lF0hF/nKvaS31yE155btLVAFKIidbSDbBMI9HaluzjC4ZKQWHieBIcVPqvbyg/b503Dh91kTcB/LH4Z6wmNI8X2PnyxTkPSUI7JP7MjvE5hTrwDuO%2BrLvT2uXxnAXNNgL9LLHxdB16jOi24XgOEK68EyMKMb/uYRERol1w%2BFmRN67XrWonsKDdzRNPmXzPjbEXHxwWttsCcwpXki8cte91afP7zkdQuYch/zSizVv66ffvOwZNPfLus/YNSPMYuLkZIda66yw3NzwHMeCOBXcBNdVH8OBiXLx/7c5qJrFrK/GOYfETH97Sr/jOM38FnvodDGv8f%2BRcj1XBLIcDKAQAAAABJRU5ErkJggg%3D%3D%22%2Cht%3D%22%22%3Bfunction%20rt%28t%29%7Blet%20e%3Breturn%7Bc%28%29%7Be%3D_%28%22div%22%29%2Ce.textContent%3D%22No%20samples%20recorded.%22%2Cm%28e%2C%22class%22%2C%22error%22%29%7D%2Cm%28i%2Cn%29%7BX%28i%2Ce%2Cn%29%7D%2Cp%3AC%2Ci%3AC%2Co%3AC%2Cd%28i%29%7Bi%26%26N%28e%29%7D%7D%7Dfunction%20lt%28t%29%7Blet%20e%2Ci%3Breturn%20e%3Dnew%20He%28%7Bprops%3A%7Bframe%3At%5B0%5D.rootFrame%7D%7D%29%2C%7Bc%28%29%7Bpe%28e.%24%24.fragment%29%7D%2Cm%28n%2Cs%29%7Bte%28e%2Cn%2Cs%29%2Ci%3D%210%7D%2Cp%28n%2Cs%29%7Bconst%20u%3D%7B%7D%3Bs%261%26%26%28u.frame%3Dn%5B0%5D.rootFrame%29%2Ce.%24set%28u%29%7D%2Ci%28n%29%7Bi%7C%7C%28D%28e.%24%24.fragment%2Cn%29%2Ci%3D%210%29%7D%2Co%28n%29%7Bz%28e.%24%24.fragment%2Cn%29%2Ci%3D%211%7D%2Cd%28n%29%7Bie%28e%2Cn%29%7D%7D%7Dfunction%20ot%28t%29%7Blet%20e%2Ci%2Cn%2Cs%2Cu%2Cr%2Co%2Ca%2Cl%2Ch%2Cp%2Cd%2Cg%3Bi%3Dnew%20et%28%7Bprops%3A%7Bsession%3At%5B0%5D%7D%7D%29%3Bconst%20A%3D%5Blt%2Crt%5D%2Cb%3D%5B%5D%3Bfunction%20F%28c%2Cv%29%7Breturn%20c%5B0%5D.rootFrame%3F0%3A1%7Dreturn%20p%3DF%28t%29%2Cd%3Db%5Bp%5D%3DA%5Bp%5D%28t%29%2C%7Bc%28%29%7Be%3D_%28%22div%22%29%2Cpe%28i.%24%24.fragment%29%2Cn%3Dw%28%29%2Cs%3D_%28%22div%22%29%2Cu%3Dw%28%29%2Cr%3D_%28%22div%22%29%2Co%3D_%28%22div%22%29%2Ca%3D_%28%22span%22%29%2Ca.textContent%3D%22Program%3A%5CxA0%22%2Cl%3DL%28t%5B1%5D%29%2Ch%3Dw%28%29%2Cd.c%28%29%2Cm%28s%2C%22class%22%2C%22spacer%22%29%2CT%28s%2C%22height%22%2C%2220px%22%29%2Cm%28a%2C%22class%22%2C%22label%20svelte-1gm5pcf%22%29%2Cm%28o%2C%22class%22%2C%22program%20svelte-1gm5pcf%22%29%2Cm%28r%2C%22class%22%2C%22margins%22%29%2Cm%28e%2C%22class%22%2C%22app%20svelte-1gm5pcf%22%29%7D%2Cm%28c%2Cv%29%7BX%28c%2Ce%2Cv%29%2Cte%28i%2Ce%2Cnull%29%2Cf%28e%2Cn%29%2Cf%28e%2Cs%29%2Cf%28e%2Cu%29%2Cf%28e%2Cr%29%2Cf%28r%2Co%29%2Cf%28o%2Ca%29%2Cf%28o%2Cl%29%2Cf%28r%2Ch%29%2Cb%5Bp%5D.m%28r%2Cnull%29%2Cg%3D%210%7D%2Cp%28c%2C%5Bv%5D%29%7Bconst%20%24%3D%7B%7D%3Bv%261%26%26%28%24.session%3Dc%5B0%5D%29%2Ci.%24set%28%24%29%2C%28%21g%7C%7Cv%262%29%26%26q%28l%2Cc%5B1%5D%29%3Blet%20M%3Dp%3Bp%3DF%28c%29%2Cp%3D%3D%3DM%3Fb%5Bp%5D.p%28c%2Cv%29%3A%28ce%28%29%2Cz%28b%5BM%5D%2C1%2C1%2C%28%29%3D%3E%7Bb%5BM%5D%3Dnull%7D%29%2Cde%28%29%2Cd%3Db%5Bp%5D%2Cd%3Fd.p%28c%2Cv%29%3A%28d%3Db%5Bp%5D%3DA%5Bp%5D%28c%29%2Cd.c%28%29%29%2CD%28d%2C1%29%2Cd.m%28r%2Cnull%29%29%7D%2Ci%28c%29%7Bg%7C%7C%28D%28i.%24%24.fragment%2Cc%29%2CD%28d%29%2Cg%3D%210%29%7D%2Co%28c%29%7Bz%28i.%24%24.fragment%2Cc%29%2Cz%28d%29%2Cg%3D%211%7D%2Cd%28c%29%7Bc%26%26N%28e%29%2Cie%28i%29%2Cb%5Bp%5D.d%28%29%7D%7D%7Dfunction%20ge%28%29%7Bdocument.body.style.minHeight%3D%60%24%7Bwindow.scrollY%2Bwindow.innerHeight%7Dpx%60%7Dfunction%20st%28t%2Ce%2Ci%29%7Blet%7Bsession%3An%7D%3De%3Bconst%20s%3Ddocument.createElement%28%22link%22%29%3Bs.rel%3D%22shortut%20icon%22%2Cs.href%3Dnt%2Cdocument.head.appendChild%28s%29%2Cqe%28%28%29%3D%3E%7Bwindow.addEventListener%28%22scroll%22%2Cge%29%2Cge%28%29%7D%29%2CUe%28%28%29%3D%3E%7Bwindow.removeEventListener%28%22scroll%22%2Cge%29%7D%29%3Bconst%20u%3Dn.rootFrame%2Cr%3Du%3D%3Dnull%3Fvoid%200%3Au.time.toLocaleString%28void%200%2C%7BmaximumSignificantDigits%3A3%7D%29%3Blet%20o%3Du%3D%3Dnull%3Fvoid%200%3Au.function%3Breturn%20o%3D%3D%22%3Cmodule%3E%22%26%26%28o%3Dn.program%29%2Cdocument.title%3D%60%24%7Br%7Ds%20-%20%24%7Bo%7D%20-%20pyinstrument%60%2Ct.%24%24set%3Da%3D%3E%7B%22session%22in%20a%26%26i%280%2Cn%3Da.session%29%7D%2C%5Bn%2Co%5D%7Dclass%20at%20extends%20he%7Bconstructor%28e%29%7Bsuper%28%29%2Cme%28this%2Ce%2Cst%2Cot%2CK%2C%7Bsession%3A0%7D%29%7D%7Dclass%20ut%7Bconstructor%28e%2Ci%29%7Bk%28this%2C%22id%22%29%3Bk%28this%2C%22rootFrame%22%29%3Bk%28this%2C%22frames%22%2C%5B%5D%29%3Bthis.id%3De%2Cthis.rootFrame%3Di%7DaddFrame%28e%29%7Bthis.frames.push%28e%29%7Dget%20exitFrames%28%29%7Bconst%20e%3D%5B%5D%3Bfor%28const%20i%20of%20this.frames%29%7Blet%20n%3D%211%3Bfor%28const%20s%20of%20i.children%29if%28s.group%21%3Dthis%29%7Bn%3D%210%3Bbreak%7Dn%26%26e.push%28i%29%7Dreturn%20e%7Dget%20libraries%28%29%7Bconst%20e%3D%5B%5D%3Bfor%28const%20i%20of%20this.frames%29%7Bconst%20n%3D/%5E%5B%5E%5C%5C/.%5D%2A/.exec%28i.filePathShort%29%5B0%5D%3Be.includes%28n%29%7C%7Ce.push%28n%29%7Dreturn%20e%7D%7Dclass%20_e%7Bconstructor%28e%2Ci%3Dnull%2Cn%3D%7Bgroups%3A%7B%7D%7D%29%7Bk%28this%2C%22function%22%29%3Bk%28this%2C%22filePath%22%29%3Bk%28this%2C%22filePathShort%22%29%3Bk%28this%2C%22lineNo%22%29%3Bk%28this%2C%22time%22%29%3Bk%28this%2C%22totalTime%22%29%3Bk%28this%2C%22awaitTime%22%29%3Bk%28this%2C%22isApplicationCode%22%29%3Bk%28this%2C%22groupId%22%29%3Bk%28this%2C%22className%22%29%3Bk%28this%2C%22parent%22%29%3Bk%28this%2C%22children%22%29%3Bk%28this%2C%22group%22%29%3Bvar%20s%2Cu%3Bif%28this.parent%3Di%2Cthis.function%3De.function%2Cthis.filePath%3De.file_path%2Cthis.filePathShort%3De.file_path_short%2Cthis.lineNo%3De.line_no%2Cthis.time%3De.time%2Cthis.totalTime%3Dthis.parent%3Fthis.parent.totalTime%3Athis.time%2Cthis.awaitTime%3De.await_time%2Cthis.isApplicationCode%3De.is_application_code%2Cthis.groupId%3D%28s%3De.group_id%29%21%3Dnull%3Fs%3Anull%2Cthis.className%3D%28u%3De.class_name%29%21%3Dnull%3Fu%3Anull%2Ce.group_id%29%7Bconst%20r%3De.group_id%3Blet%20o%3Dn.groups%5Br%5D%3Bo%7C%7C%28o%3Dn.groups%5Br%5D%3Dnew%20ut%28r%2Cthis%29%29%2Co.addFrame%28this%29%2Cthis.group%3Dn.groups%5Br%5D%7Delse%20this.group%3Dnull%3Bthis.children%3De.children.map%28r%3D%3Enew%20_e%28r%2Cthis%2Cn%29%29%7Dget%20identifier%28%29%7Breturn%60%24%7Bthis.function%7D%3A%24%7Bthis.filePath%7D%3A%24%7Bthis.lineNo%7D%60%7Dget%20proportionOfTotal%28%29%7Breturn%20this.time/this.totalTime%7D%7Dclass%20ft%7Bconstructor%28e%29%7Bk%28this%2C%22startTime%22%29%3Bk%28this%2C%22duration%22%29%3Bk%28this%2C%22sampleCount%22%29%3Bk%28this%2C%22program%22%29%3Bk%28this%2C%22cpuTime%22%29%3Bk%28this%2C%22rootFrame%22%29%3Bthis.startTime%3De.start_time%2Cthis.duration%3De.duration%2Cthis.sampleCount%3De.sample_count%2Cthis.program%3De.program%2Cthis.cpuTime%3De.cpu_time%2Cthis.rootFrame%3De.root_frame%3Fnew%20_e%28e.root_frame%29%3Anull%7D%7Dreturn%7Brender%28t%2Ce%29%7Bconst%20i%3Dnew%20ft%28e%29%3Breturn%20new%20at%28%7Btarget%3At%2Cprops%3A%7Bsession%3Ai%7D%7D%29%7D%7D%7D%28%29%3B%0A%3C/script%3E%0A%20%20%20%20%20%20%20%20%20%20%20%20%20%20%20%20%3Cstyle%3E%40import%22https%3A//fonts.googleapis.com/css%3Ffamily%3DSource%2BCode%2BPro%3A400%2C600%7CSource%2BSans%2BPro%3A400%2C600%22%3Bhtml%2Cbody%7Bbackground-color%3A%23303538%3Bcolor%3A%23fff%3Bpadding%3A0%3Bmargin%3A0%7D.margins%7Bpadding%3A0%2030px%7D.header.svelte-tewt95%7Bbackground%3A%23292f32%7D.row.svelte-tewt95%7Bdisplay%3Aflex%3Balign-items%3Acenter%7D.title.svelte-tewt95%7Bfont-size%3A34px%3Bpadding-top%3A20px%3Bpadding-bottom%3A16px%3Bwhite-space%3Anowrap%3Boverflow%3Ahidden%3Btext-overflow%3Aellipsis%3Bmargin-right%3A10px%3Bflex%3A1%7D.metrics.svelte-tewt95%7Bdisplay%3Agrid%3Bgrid-template-columns%3Aauto%20auto%20auto%20auto%20auto%20auto%3Bfont-size%3A14px%3Btext-transform%3Auppercase%3Bgrid-gap%3A1px%208px%7D.metric-label.svelte-tewt95%7Bfont-weight%3A600%3Bcolor%3A%23a9abad%7D.metric-value.svelte-tewt95%7Bcolor%3A%23737779%3Bmargin-right%3A.5em%7D.frame.svelte-1aphj50.svelte-1aphj50%7Bfont-family%3ASource%20Code%20Pro%2CRoboto%20Mono%2CConsolas%2CMonaco%2Cmonospace%3Bfont-size%3A15px%3Bz-index%3A0%3Bposition%3Arelative%3Buser-select%3Anone%7D.group-header.svelte-1aphj50.svelte-1aphj50%7Bmargin-left%3A35px%7D.group-header-button.svelte-1aphj50.svelte-1aphj50%7Bdisplay%3Ainline-block%3Bcolor%3A%23ffffff94%3Buser-select%3Anone%3Bcursor%3Adefault%3Bposition%3Arelative%7D.group-header-button.svelte-1aphj50.svelte-1aphj50%3Abefore%7Bposition%3Aabsolute%3Bleft%3A-3px%3Bright%3A-3px%3Btop%3A0px%3Bbottom%3A-1px%3Bcontent%3A%22%22%3Bz-index%3A-1%3Bbackground-color%3A%233b4043%7D.group-header-button.svelte-1aphj50.svelte-1aphj50%3Ahover%3Abefore%7Bbackground-color%3A%234a4f54%7D.group-triangle.svelte-1aphj50.svelte-1aphj50%2C.frame-triangle.svelte-1aphj50.svelte-1aphj50%7Bwidth%3A6px%3Bheight%3A10px%3Bpadding-left%3A6px%3Bpadding-right%3A5px%3Bdisplay%3Ainline-block%7D.group-triangle.rotate.svelte-1aphj50.svelte-1aphj50%2C.frame-triangle.rotate.svelte-1aphj50.svelte-1aphj50%7Btransform%3Atranslate%286px%2C4px%29%20rotate%2890deg%29%7D.frame-description.svelte-1aphj50.svelte-1aphj50%7Bdisplay%3Aflex%7D.frame-description.svelte-1aphj50.svelte-1aphj50%3Ahover%3Abefore%7Bposition%3Aabsolute%3Bleft%3A-3px%3Bright%3A-3px%3Btop%3A-1px%3Bheight%3A22px%3Bcontent%3A%22%22%3Bz-index%3A-1%3Bbackground-color%3A%23354759%3Bopacity%3A.5%7D.frame-triangle.svelte-1aphj50.svelte-1aphj50%7Bopacity%3A1%7D.frame-description.children-visible.svelte-1aphj50%20.frame-triangle.svelte-1aphj50%7Bopacity%3A0%7D.frame-description.children-visible.svelte-1aphj50%3Ahover%20.frame-triangle.svelte-1aphj50%7Bopacity%3A1%7D.name.svelte-1aphj50.svelte-1aphj50%2C.time.svelte-1aphj50.svelte-1aphj50%2C.code-position.svelte-1aphj50.svelte-1aphj50%7Buser-select%3Atext%3Bcursor%3Adefault%7D.application-code.svelte-1aphj50%20.name.svelte-1aphj50%7Bcolor%3A%235db3ff%7D.time.svelte-1aphj50.svelte-1aphj50%7Bmargin-right%3A.55em%3Bcolor%3A%23b8e98685%7D.code-position.svelte-1aphj50.svelte-1aphj50%7Bcolor%3A%23ffffff80%3Btext-align%3Aright%3Bmargin-left%3A1em%7D.visual-guide%7Btop%3A21px%3Bbottom%3A0%3Bleft%3A0%3Bwidth%3A2px%3Bbackground-color%3A%23fff%3Bposition%3Aabsolute%3Bopacity%3A.08%7D.frame-description%3Ahover~.visual-guide%7Bopacity%3A.4%7D.frame-description%3Ahover~.children%20.visual-guide%7Bopacity%3A.1%7D.app.svelte-1gm5pcf.svelte-1gm5pcf%7Bfont-family%3ASource%20Sans%20Pro%2CHelvetica%2CArial%2Csans-serif%3B-webkit-font-smoothing%3Aantialiased%3B-moz-osx-font-smoothing%3Agrayscale%7D.program.svelte-1gm5pcf.svelte-1gm5pcf%7Bfont-size%3A14px%3Bfont-weight%3A600%3Bmargin-bottom%3A16px%3Bcolor%3A%23b4b4b4%7D.program.svelte-1gm5pcf%20.label.svelte-1gm5pcf%7Bcolor%3A%23eaeaea%3Btext-transform%3Auppercase%7D%0A%3C/style%3E%0A%0A%20%20%20%20%20%20%20%20%20%20%20%20%20%20%20%20%3Cscript%3E%0A%20%20%20%20%20%20%20%20%20%20%20%20%20%20%20%20%20%20%20%20const%20sessionData%20%3D%20%7B%22start_time%22%3A%201719427876.496913%2C%22duration%22%3A%200.034632%2C%22sample_count%22%3A%2030%2C%22program%22%3A%20%22/home/haoyu/.conda/envs/ccc/lib/python3.9/site-packages/ipykernel_launcher.py%20-f%20/home/haoyu/.local/share/jupyter/runtime/kernel-76f1e206-b6a7-40f2-8d7f-4e421d5c241e.json%22%2C%22cpu_time%22%3A%200.037458%2C%22root_frame%22%3A%20%7B%22function%22%3A%20%22%3Ccell%20line%3A%202%3E%22%2C%22file_path_short%22%3A%20%22../../../tmp/ipykernel_359614/2991494264.py%22%2C%22file_path%22%3A%20%22/tmp/ipykernel_359614/2991494264.py%22%2C%22line_no%22%3A%202%2C%22time%22%3A%200.034478%2C%22await_time%22%3A%200.000000%2C%22is_application_code%22%3A%20true%2C%22children%22%3A%20%5B%7B%22function%22%3A%20%22func%22%2C%22file_path_short%22%3A%20%22../../../tmp/ipykernel_359614/2661685993.py%22%2C%22file_path%22%3A%20%22/tmp/ipykernel_359614/2661685993.py%22%2C%22line_no%22%3A%201%2C%22time%22%3A%200.034478%2C%22await_time%22%3A%200.000000%2C%22is_application_code%22%3A%20true%2C%22children%22%3A%20%5B%7B%22function%22%3A%20%22ccc%22%2C%22file_path_short%22%3A%20%22ccc/coef/impl.py%22%2C%22file_path%22%3A%20%22/home/haoyu/_database/projs/ccc-gpu/libs/ccc/coef/impl.py%22%2C%22line_no%22%3A%20308%2C%22time%22%3A%200.034478%2C%22await_time%22%3A%200.000000%2C%22is_application_code%22%3A%20true%2C%22children%22%3A%20%5B%7B%22function%22%3A%20%22compute_coef%22%2C%22file_path_short%22%3A%20%22ccc/coef/impl.py%22%2C%22file_path%22%3A%20%22/home/haoyu/_database/projs/ccc-gpu/libs/ccc/coef/impl.py%22%2C%22line_no%22%3A%20493%2C%22time%22%3A%200.024767%2C%22await_time%22%3A%200.000000%2C%22is_application_code%22%3A%20true%2C%22children%22%3A%20%5B%7B%22function%22%3A%20%22cdist_func%22%2C%22file_path_short%22%3A%20%22ccc/coef/impl.py%22%2C%22file_path%22%3A%20%22/home/haoyu/_database/projs/ccc-gpu/libs/ccc/coef/impl.py%22%2C%22line_no%22%3A%20486%2C%22time%22%3A%200.024767%2C%22await_time%22%3A%200.000000%2C%22is_application_code%22%3A%20true%2C%22children%22%3A%20%5B%7B%22function%22%3A%20%22cdist_parts_parallel%22%2C%22file_path_short%22%3A%20%22ccc/coef/impl.py%22%2C%22file_path%22%3A%20%22/home/haoyu/_database/projs/ccc-gpu/libs/ccc/coef/impl.py%22%2C%22line_no%22%3A%20193%2C%22time%22%3A%200.024767%2C%22await_time%22%3A%200.000000%2C%22is_application_code%22%3A%20true%2C%22children%22%3A%20%5B%7B%22function%22%3A%20%22as_completed%22%2C%22file_path_short%22%3A%20%22concurrent/futures/_base.py%22%2C%22file_path%22%3A%20%22/home/haoyu/.conda/envs/ccc/lib/python3.9/concurrent/futures/_base.py%22%2C%22line_no%22%3A%20201%2C%22time%22%3A%200.021768%2C%22await_time%22%3A%200.000000%2C%22is_application_code%22%3A%20false%2C%22children%22%3A%20%5B%7B%22function%22%3A%20%22wait%22%2C%22file_path_short%22%3A%20%22threading.py%22%2C%22file_path%22%3A%20%22/home/haoyu/.conda/envs/ccc/lib/python3.9/threading.py%22%2C%22line_no%22%3A%20563%2C%22time%22%3A%200.021768%2C%22await_time%22%3A%200.000000%2C%22is_application_code%22%3A%20false%2C%22children%22%3A%20%5B%7B%22function%22%3A%20%22wait%22%2C%22file_path_short%22%3A%20%22threading.py%22%2C%22file_path%22%3A%20%22/home/haoyu/.conda/envs/ccc/lib/python3.9/threading.py%22%2C%22line_no%22%3A%20280%2C%22time%22%3A%200.021768%2C%22await_time%22%3A%200.000000%2C%22is_application_code%22%3A%20false%2C%22children%22%3A%20%5B%7B%22function%22%3A%20%22lock.acquire%22%2C%22file_path_short%22%3A%20%22%3Cbuilt-in%3E%22%2C%22file_path%22%3A%20%22%3Cbuilt-in%3E%22%2C%22line_no%22%3A%200%2C%22time%22%3A%200.021768%2C%22await_time%22%3A%200.000000%2C%22is_application_code%22%3A%20false%2C%22children%22%3A%20%5B%5D%2C%22group_id%22%3A%20%2299fb3262-c6e1-406b-b8c1-28ef87d69c62%22%7D%5D%2C%22group_id%22%3A%20%2299fb3262-c6e1-406b-b8c1-28ef87d69c62%22%2C%22class_name%22%3A%20%22Condition%22%7D%5D%2C%22group_id%22%3A%20%2299fb3262-c6e1-406b-b8c1-28ef87d69c62%22%2C%22class_name%22%3A%20%22Event%22%7D%5D%2C%22group_id%22%3A%20%2299fb3262-c6e1-406b-b8c1-28ef87d69c62%22%7D%2C%7B%22function%22%3A%20%22%3Cdictcomp%3E%22%2C%22file_path_short%22%3A%20%22ccc/coef/impl.py%22%2C%22file_path%22%3A%20%22/home/haoyu/_database/projs/ccc-gpu/libs/ccc/coef/impl.py%22%2C%22line_no%22%3A%20211%2C%22time%22%3A%200.001998%2C%22await_time%22%3A%200.000000%2C%22is_application_code%22%3A%20true%2C%22children%22%3A%20%5B%7B%22function%22%3A%20%22submit%22%2C%22file_path_short%22%3A%20%22concurrent/futures/thread.py%22%2C%22file_path%22%3A%20%22/home/haoyu/.conda/envs/ccc/lib/python3.9/concurrent/futures/thread.py%22%2C%22line_no%22%3A%20161%2C%22time%22%3A%200.001998%2C%22await_time%22%3A%200.000000%2C%22is_application_code%22%3A%20false%2C%22children%22%3A%20%5B%7B%22function%22%3A%20%22%5Bself%5D%22%2C%22file_path_short%22%3A%20%22concurrent/futures/thread.py%22%2C%22file_path%22%3A%20%22%22%2C%22line_no%22%3A%200%2C%22time%22%3A%200.000999%2C%22await_time%22%3A%200.000000%2C%22is_application_code%22%3A%20false%2C%22children%22%3A%20%5B%5D%2C%22group_id%22%3A%20%2225ef5236-c112-4f42-bf45-ddb2a622b642%22%7D%2C%7B%22function%22%3A%20%22__init__%22%2C%22file_path_short%22%3A%20%22concurrent/futures/_base.py%22%2C%22file_path%22%3A%20%22/home/haoyu/.conda/envs/ccc/lib/python3.9/concurrent/futures/_base.py%22%2C%22line_no%22%3A%20318%2C%22time%22%3A%200.000998%2C%22await_time%22%3A%200.000000%2C%22is_application_code%22%3A%20false%2C%22children%22%3A%20%5B%7B%22function%22%3A%20%22__init__%22%2C%22file_path_short%22%3A%20%22threading.py%22%2C%22file_path%22%3A%20%22/home/haoyu/.conda/envs/ccc/lib/python3.9/threading.py%22%2C%22line_no%22%3A%20228%2C%22time%22%3A%200.000998%2C%22await_time%22%3A%200.000000%2C%22is_application_code%22%3A%20false%2C%22children%22%3A%20%5B%5D%2C%22group_id%22%3A%20%2225ef5236-c112-4f42-bf45-ddb2a622b642%22%2C%22class_name%22%3A%20%22Condition%22%7D%5D%2C%22group_id%22%3A%20%2225ef5236-c112-4f42-bf45-ddb2a622b642%22%2C%22class_name%22%3A%20%22Future%22%7D%5D%2C%22group_id%22%3A%20%2225ef5236-c112-4f42-bf45-ddb2a622b642%22%2C%22class_name%22%3A%20%22ThreadPoolExecutor%22%7D%5D%7D%2C%7B%22function%22%3A%20%22result%22%2C%22file_path_short%22%3A%20%22concurrent/futures/_base.py%22%2C%22file_path%22%3A%20%22/home/haoyu/.conda/envs/ccc/lib/python3.9/concurrent/futures/_base.py%22%2C%22line_no%22%3A%20418%2C%22time%22%3A%200.001001%2C%22await_time%22%3A%200.000000%2C%22is_application_code%22%3A%20false%2C%22children%22%3A%20%5B%5D%2C%22class_name%22%3A%20%22Future%22%7D%5D%7D%5D%7D%5D%7D%2C%7B%22function%22%3A%20%22result_iterator%22%2C%22file_path_short%22%3A%20%22concurrent/futures/_base.py%22%2C%22file_path%22%3A%20%22/home/haoyu/.conda/envs/ccc/lib/python3.9/concurrent/futures/_base.py%22%2C%22line_no%22%3A%20602%2C%22time%22%3A%200.008712%2C%22await_time%22%3A%200.000000%2C%22is_application_code%22%3A%20false%2C%22children%22%3A%20%5B%7B%22function%22%3A%20%22result%22%2C%22file_path_short%22%3A%20%22concurrent/futures/_base.py%22%2C%22file_path%22%3A%20%22/home/haoyu/.conda/envs/ccc/lib/python3.9/concurrent/futures/_base.py%22%2C%22line_no%22%3A%20418%2C%22time%22%3A%200.008712%2C%22await_time%22%3A%200.000000%2C%22is_application_code%22%3A%20false%2C%22children%22%3A%20%5B%7B%22function%22%3A%20%22wait%22%2C%22file_path_short%22%3A%20%22threading.py%22%2C%22file_path%22%3A%20%22/home/haoyu/.conda/envs/ccc/lib/python3.9/threading.py%22%2C%22line_no%22%3A%20280%2C%22time%22%3A%200.007712%2C%22await_time%22%3A%200.000000%2C%22is_application_code%22%3A%20false%2C%22children%22%3A%20%5B%7B%22function%22%3A%20%22lock.acquire%22%2C%22file_path_short%22%3A%20%22%3Cbuilt-in%3E%22%2C%22file_path%22%3A%20%22%3Cbuilt-in%3E%22%2C%22line_no%22%3A%200%2C%22time%22%3A%200.007712%2C%22await_time%22%3A%200.000000%2C%22is_application_code%22%3A%20false%2C%22children%22%3A%20%5B%5D%2C%22group_id%22%3A%20%221492a917-3ac2-4f3a-aa49-ca43a66c536f%22%7D%5D%2C%22group_id%22%3A%20%221492a917-3ac2-4f3a-aa49-ca43a66c536f%22%2C%22class_name%22%3A%20%22Condition%22%7D%2C%7B%22function%22%3A%20%22%5Bself%5D%22%2C%22file_path_short%22%3A%20%22concurrent/futures/_base.py%22%2C%22file_path%22%3A%20%22%22%2C%22line_no%22%3A%200%2C%22time%22%3A%200.000999%2C%22await_time%22%3A%200.000000%2C%22is_application_code%22%3A%20false%2C%22children%22%3A%20%5B%5D%2C%22group_id%22%3A%20%221492a917-3ac2-4f3a-aa49-ca43a66c536f%22%7D%5D%2C%22group_id%22%3A%20%221492a917-3ac2-4f3a-aa49-ca43a66c536f%22%2C%22class_name%22%3A%20%22Future%22%7D%5D%2C%22group_id%22%3A%20%221492a917-3ac2-4f3a-aa49-ca43a66c536f%22%7D%2C%7B%22function%22%3A%20%22__exit__%22%2C%22file_path_short%22%3A%20%22concurrent/futures/_base.py%22%2C%22file_path%22%3A%20%22/home/haoyu/.conda/envs/ccc/lib/python3.9/concurrent/futures/_base.py%22%2C%22line_no%22%3A%20636%2C%22time%22%3A%200.000999%2C%22await_time%22%3A%200.000000%2C%22is_application_code%22%3A%20false%2C%22children%22%3A%20%5B%7B%22function%22%3A%20%22shutdown%22%2C%22file_path_short%22%3A%20%22concurrent/futures/thread.py%22%2C%22file_path%22%3A%20%22/home/haoyu/.conda/envs/ccc/lib/python3.9/concurrent/futures/thread.py%22%2C%22line_no%22%3A%20216%2C%22time%22%3A%200.000999%2C%22await_time%22%3A%200.000000%2C%22is_application_code%22%3A%20false%2C%22children%22%3A%20%5B%7B%22function%22%3A%20%22SimpleQueue.put%22%2C%22file_path_short%22%3A%20%22%3Cbuilt-in%3E%22%2C%22file_path%22%3A%20%22%3Cbuilt-in%3E%22%2C%22line_no%22%3A%200%2C%22time%22%3A%200.000999%2C%22await_time%22%3A%200.000000%2C%22is_application_code%22%3A%20false%2C%22children%22%3A%20%5B%5D%2C%22group_id%22%3A%20%22120da649-47b3-40f1-9e73-f06e90f3b234%22%7D%5D%2C%22group_id%22%3A%20%22120da649-47b3-40f1-9e73-f06e90f3b234%22%2C%22class_name%22%3A%20%22ThreadPoolExecutor%22%7D%5D%2C%22group_id%22%3A%20%22120da649-47b3-40f1-9e73-f06e90f3b234%22%2C%22class_name%22%3A%20%22ThreadPoolExecutor%22%7D%5D%7D%5D%7D%5D%7D%7D%0A%3B%0A%20%20%20%20%20%20%20%20%20%20%20%20%20%20%20%20%20%20%20%20pyinstrumentHTMLRenderer.render%28document.getElementById%28%27app%27%29%2C%20sessionData%29%3B%0A%20%20%20%20%20%20%20%20%20%20%20%20%20%20%20%20%3C/script%3E%0A%20%20%20%20%20%20%20%20%20%20%20%20%3C/body%3E%0A%20%20%20%20%20%20%20%20%20%20%20%20%3C/html%3E%0A%20%20%20%20%20%20%20%20\"\n",
       "            frameborder=\"0\"\n",
       "            allowfullscreen\n",
       "            style=\"resize: vertical\"\n",
       "        ></iframe>\n",
       "        "
      ],
      "text/plain": [
       "\n",
       "  _     ._   __/__   _ _  _  _ _/_   Recorded: 12:51:16  Samples:  30\n",
       " /_//_/// /_\\ / //_// / //_'/ //     Duration: 0.035     CPU time: 0.037\n",
       "/   _/                      v4.6.2\n",
       "\n",
       "Program: /home/haoyu/.conda/envs/ccc/lib/python3.9/site-packages/ipykernel_launcher.py -f /home/haoyu/.local/share/jupyter/runtime/kernel-76f1e206-b6a7-40f2-8d7f-4e421d5c241e.json\n",
       "\n",
       "0.034 <cell line: 2>  ../../../tmp/ipykernel_359614/2991494264.py:2\n",
       "`- 0.034 func  ../../../tmp/ipykernel_359614/2661685993.py:1\n",
       "   `- 0.034 ccc  ccc/coef/impl.py:308\n",
       "      |- 0.025 compute_coef  ccc/coef/impl.py:493\n",
       "      |  `- 0.025 cdist_func  ccc/coef/impl.py:486\n",
       "      |     `- 0.025 cdist_parts_parallel  ccc/coef/impl.py:193\n",
       "      |        |- 0.022 as_completed  concurrent/futures/_base.py:201\n",
       "      |        |     [4 frames hidden]  concurrent, threading, <built-in>\n",
       "      |        |        0.022 lock.acquire  <built-in>\n",
       "      |        |- 0.002 <dictcomp>  ccc/coef/impl.py:211\n",
       "      |        |  `- 0.002 ThreadPoolExecutor.submit  concurrent/futures/thread.py:161\n",
       "      |        |        [4 frames hidden]  concurrent, threading\n",
       "      |        `- 0.001 Future.result  concurrent/futures/_base.py:418\n",
       "      |- 0.009 result_iterator  concurrent/futures/_base.py:602\n",
       "      |     [5 frames hidden]  concurrent, threading, <built-in>\n",
       "      |        0.008 lock.acquire  <built-in>\n",
       "      `- 0.001 ThreadPoolExecutor.__exit__  concurrent/futures/_base.py:636\n",
       "            [3 frames hidden]  concurrent, <built-in>\n",
       "\n"
      ]
     },
     "metadata": {},
     "output_type": "display_data"
    }
   ],
   "source": [
    "%%pyinstrument\n",
    "func()"
   ]
  },
  {
   "cell_type": "markdown",
   "id": "6853c300",
   "metadata": {
    "papermill": {
     "duration": 0.09707,
     "end_time": "2021-12-02T04:34:43.669776",
     "exception": false,
     "start_time": "2021-12-02T04:34:43.572706",
     "status": "completed"
    },
    "tags": []
   },
   "source": [
    "## `n_samples=1000`"
   ]
  },
  {
   "cell_type": "code",
   "execution_count": 22,
   "id": "f77e8490",
   "metadata": {
    "execution": {
     "iopub.execute_input": "2021-12-02T04:34:43.871037Z",
     "iopub.status.busy": "2021-12-02T04:34:43.870573Z",
     "iopub.status.idle": "2021-12-02T04:34:43.872099Z",
     "shell.execute_reply": "2021-12-02T04:34:43.872442Z"
    },
    "papermill": {
     "duration": 0.103066,
     "end_time": "2021-12-02T04:34:43.872558",
     "exception": false,
     "start_time": "2021-12-02T04:34:43.769492",
     "status": "completed"
    },
    "tags": []
   },
   "outputs": [],
   "source": [
    "N_SAMPLES = 1000"
   ]
  },
  {
   "cell_type": "code",
   "execution_count": 23,
   "id": "c99f544a",
   "metadata": {
    "execution": {
     "iopub.execute_input": "2021-12-02T04:34:44.102128Z",
     "iopub.status.busy": "2021-12-02T04:34:44.101540Z",
     "iopub.status.idle": "2021-12-02T04:34:44.103376Z",
     "shell.execute_reply": "2021-12-02T04:34:44.103817Z"
    },
    "papermill": {
     "duration": 0.13265,
     "end_time": "2021-12-02T04:34:44.103967",
     "exception": false,
     "start_time": "2021-12-02T04:34:43.971317",
     "status": "completed"
    },
    "tags": []
   },
   "outputs": [],
   "source": [
    "x = np.random.rand(N_SAMPLES)\n",
    "y = np.random.rand(N_SAMPLES)"
   ]
  },
  {
   "cell_type": "code",
   "execution_count": 24,
   "id": "9721b048",
   "metadata": {
    "execution": {
     "iopub.execute_input": "2021-12-02T04:34:44.515965Z",
     "iopub.status.busy": "2021-12-02T04:34:44.515462Z",
     "iopub.status.idle": "2021-12-02T04:34:50.907897Z",
     "shell.execute_reply": "2021-12-02T04:34:50.908362Z"
    },
    "papermill": {
     "duration": 6.496377,
     "end_time": "2021-12-02T04:34:50.908503",
     "exception": false,
     "start_time": "2021-12-02T04:34:44.412126",
     "status": "completed"
    },
    "tags": []
   },
   "outputs": [
    {
     "name": "stdout",
     "output_type": "stream",
     "text": [
      "55.5 ms ± 477 µs per loop (mean ± std. dev. of 7 runs, 10 loops each)\n"
     ]
    }
   ],
   "source": [
    "%%timeit func()\n",
    "func()"
   ]
  },
  {
   "cell_type": "code",
   "execution_count": 25,
   "id": "fd0f4dd6",
   "metadata": {
    "execution": {
     "iopub.execute_input": "2021-12-02T04:34:51.122723Z",
     "iopub.status.busy": "2021-12-02T04:34:51.122244Z",
     "iopub.status.idle": "2021-12-02T04:34:51.194219Z",
     "shell.execute_reply": "2021-12-02T04:34:51.193813Z"
    },
    "papermill": {
     "duration": 0.179898,
     "end_time": "2021-12-02T04:34:51.194319",
     "exception": false,
     "start_time": "2021-12-02T04:34:51.014421",
     "status": "completed"
    },
    "tags": []
   },
   "outputs": [
    {
     "data": {
      "text/html": [
       "\n",
       "        <iframe\n",
       "            width=\"100%\"\n",
       "            height=\"400\"\n",
       "            src=\"data:text/html, %3C%21DOCTYPE%20html%3E%0A%20%20%20%20%20%20%20%20%20%20%20%20%3Chtml%3E%0A%20%20%20%20%20%20%20%20%20%20%20%20%3Chead%3E%0A%20%20%20%20%20%20%20%20%20%20%20%20%20%20%20%20%3Cmeta%20charset%3D%22utf-8%22%3E%0A%20%20%20%20%20%20%20%20%20%20%20%20%3C/head%3E%0A%20%20%20%20%20%20%20%20%20%20%20%20%3Cbody%3E%0A%20%20%20%20%20%20%20%20%20%20%20%20%20%20%20%20%3Cdiv%20id%3D%22app%22%3E%3C/div%3E%0A%0A%20%20%20%20%20%20%20%20%20%20%20%20%20%20%20%20%3Cscript%3Evar%20pyinstrumentHTMLRenderer%3Dfunction%28%29%7B%22use%20strict%22%3Bvar%20ct%3DObject.defineProperty%3Bvar%20dt%3D%28R%2CC%2CH%29%3D%3EC%20in%20R%3Fct%28R%2CC%2C%7Benumerable%3A%210%2Cconfigurable%3A%210%2Cwritable%3A%210%2Cvalue%3AH%7D%29%3AR%5BC%5D%3DH%3Bvar%20k%3D%28R%2CC%2CH%29%3D%3E%28dt%28R%2Ctypeof%20C%21%3D%22symbol%22%3FC%2B%22%22%3AC%2CH%29%2CH%29%3Bconst%20R%3D%22%22%3Bfunction%20C%28%29%7B%7Dfunction%20H%28t%29%7Breturn%20t%28%29%7Dfunction%20we%28%29%7Breturn%20Object.create%28null%29%7Dfunction%20O%28t%29%7Bt.forEach%28H%29%7Dfunction%20be%28t%29%7Breturn%20typeof%20t%3D%3D%22function%22%7Dfunction%20K%28t%2Ce%29%7Breturn%20t%21%3Dt%3Fe%3D%3De%3At%21%3D%3De%7C%7Ct%26%26typeof%20t%3D%3D%22object%22%7C%7Ctypeof%20t%3D%3D%22function%22%7Dfunction%20Ie%28t%29%7Breturn%20Object.keys%28t%29.length%3D%3D%3D0%7Dfunction%20Re%28t%2C...e%29%7Bif%28t%3D%3Dnull%29return%20C%3Bconst%20i%3Dt.subscribe%28...e%29%3Breturn%20i.unsubscribe%3F%28%29%3D%3Ei.unsubscribe%28%29%3Ai%7Dfunction%20se%28t%2Ce%2Ci%29%7Bt.%24%24.on_destroy.push%28Re%28e%2Ci%29%29%7Dfunction%20f%28t%2Ce%29%7Bt.appendChild%28e%29%7Dfunction%20X%28t%2Ce%2Ci%29%7Bt.insertBefore%28e%2Ci%7C%7Cnull%29%7Dfunction%20N%28t%29%7Bt.parentNode%26%26t.parentNode.removeChild%28t%29%7Dfunction%20_%28t%29%7Breturn%20document.createElement%28t%29%7Dfunction%20ke%28t%29%7Breturn%20document.createElementNS%28%22http%3A//www.w3.org/2000/svg%22%2Ct%29%7Dfunction%20L%28t%29%7Breturn%20document.createTextNode%28t%29%7Dfunction%20w%28%29%7Breturn%20L%28%22%20%22%29%7Dfunction%20ye%28%29%7Breturn%20L%28%22%22%29%7Dfunction%20W%28t%2Ce%2Ci%2Cn%29%7Breturn%20t.addEventListener%28e%2Ci%2Cn%29%2C%28%29%3D%3Et.removeEventListener%28e%2Ci%2Cn%29%7Dfunction%20Ce%28t%29%7Breturn%20function%28e%29%7Breturn%20e.preventDefault%28%29%2Ct.call%28this%2Ce%29%7D%7Dfunction%20Ee%28t%29%7Breturn%20function%28e%29%7Breturn%20e.stopPropagation%28%29%2Ct.call%28this%2Ce%29%7D%7Dfunction%20m%28t%2Ce%2Ci%29%7Bi%3D%3Dnull%3Ft.removeAttribute%28e%29%3At.getAttribute%28e%29%21%3D%3Di%26%26t.setAttribute%28e%2Ci%29%7Dfunction%20Oe%28t%29%7Breturn%20Array.from%28t.childNodes%29%7Dfunction%20q%28t%2Ce%29%7Be%3D%22%22%2Be%2Ct.wholeText%21%3D%3De%26%26%28t.data%3De%29%7Dfunction%20T%28t%2Ce%2Ci%2Cn%29%7Bi%3D%3D%3Dnull%3Ft.style.removeProperty%28e%29%3At.style.setProperty%28e%2Ci%2Cn%3F%22important%22%3A%22%22%29%7Dfunction%20Q%28t%2Ce%2Ci%29%7Bt.classList%5Bi%3F%22add%22%3A%22remove%22%5D%28e%29%7Dlet%20V%3Bfunction%20Z%28t%29%7BV%3Dt%7Dfunction%20Te%28%29%7Bif%28%21V%29throw%20new%20Error%28%22Function%20called%20outside%20component%20initialization%22%29%3Breturn%20V%7Dfunction%20qe%28t%29%7BTe%28%29.%24%24.on_mount.push%28t%29%7Dfunction%20Ue%28t%29%7BTe%28%29.%24%24.on_destroy.push%28t%29%7Dconst%20Y%3D%5B%5D%2CFe%3D%5B%5D%2Cj%3D%5B%5D%2CSe%3D%5B%5D%2CVe%3DPromise.resolve%28%29%3Blet%20ae%3D%211%3Bfunction%20Ze%28%29%7Bae%7C%7C%28ae%3D%210%2CVe.then%28%24e%29%29%7Dfunction%20ue%28t%29%7Bj.push%28t%29%7Dconst%20fe%3Dnew%20Set%3Blet%20x%3D0%3Bfunction%20%24e%28%29%7Bconst%20t%3DV%3Bdo%7Bfor%28%3Bx%3CY.length%3B%29%7Bconst%20e%3DY%5Bx%5D%3Bx%2B%2B%2CZ%28e%29%2CYe%28e.%24%24%29%7Dfor%28Z%28null%29%2CY.length%3D0%2Cx%3D0%3BFe.length%3B%29Fe.pop%28%29%28%29%3Bfor%28let%20e%3D0%3Be%3Cj.length%3Be%2B%3D1%29%7Bconst%20i%3Dj%5Be%5D%3Bfe.has%28i%29%7C%7C%28fe.add%28i%29%2Ci%28%29%29%7Dj.length%3D0%7Dwhile%28Y.length%29%3Bfor%28%3BSe.length%3B%29Se.pop%28%29%28%29%3Bae%3D%211%2Cfe.clear%28%29%2CZ%28t%29%7Dfunction%20Ye%28t%29%7Bif%28t.fragment%21%3D%3Dnull%29%7Bt.update%28%29%2CO%28t.before_update%29%3Bconst%20e%3Dt.dirty%3Bt.dirty%3D%5B-1%5D%2Ct.fragment%26%26t.fragment.p%28t.ctx%2Ce%29%2Ct.after_update.forEach%28ue%29%7D%7Dconst%20ee%3Dnew%20Set%3Blet%20G%3Bfunction%20ce%28%29%7BG%3D%7Br%3A0%2Cc%3A%5B%5D%2Cp%3AG%7D%7Dfunction%20de%28%29%7BG.r%7C%7CO%28G.c%29%2CG%3DG.p%7Dfunction%20D%28t%2Ce%29%7Bt%26%26t.i%26%26%28ee.delete%28t%29%2Ct.i%28e%29%29%7Dfunction%20z%28t%2Ce%2Ci%2Cn%29%7Bif%28t%26%26t.o%29%7Bif%28ee.has%28t%29%29return%3Bee.add%28t%29%2CG.c.push%28%28%29%3D%3E%7Bee.delete%28t%29%2Cn%26%26%28i%26%26t.d%281%29%2Cn%28%29%29%7D%29%2Ct.o%28e%29%7Delse%20n%26%26n%28%29%7Dfunction%20Je%28t%2Ce%29%7Bz%28t%2C1%2C1%2C%28%29%3D%3E%7Be.delete%28t.key%29%7D%29%7Dfunction%20Ke%28t%2Ce%2Ci%2Cn%2Cs%2Cu%2Cr%2Co%2Ca%2Cl%2Ch%2Cp%29%7Blet%20d%3Dt.length%2Cg%3Du.length%2CA%3Dd%3Bconst%20b%3D%7B%7D%3Bfor%28%3BA--%3B%29b%5Bt%5BA%5D.key%5D%3DA%3Bconst%20F%3D%5B%5D%2Cc%3Dnew%20Map%2Cv%3Dnew%20Map%3Bfor%28A%3Dg%3BA--%3B%29%7Bconst%20y%3Dp%28s%2Cu%2CA%29%2CS%3Di%28y%29%3Blet%20P%3Dr.get%28S%29%3BP%3Fn%26%26P.p%28y%2Ce%29%3A%28P%3Dl%28S%2Cy%29%2CP.c%28%29%29%2Cc.set%28S%2CF%5BA%5D%3DP%29%2CS%20in%20b%26%26v.set%28S%2CMath.abs%28A-b%5BS%5D%29%29%7Dconst%20%24%3Dnew%20Set%2CM%3Dnew%20Set%3Bfunction%20E%28y%29%7BD%28y%2C1%29%2Cy.m%28o%2Ch%29%2Cr.set%28y.key%2Cy%29%2Ch%3Dy.first%2Cg--%7Dfor%28%3Bd%26%26g%3B%29%7Bconst%20y%3DF%5Bg-1%5D%2CS%3Dt%5Bd-1%5D%2CP%3Dy.key%2CB%3DS.key%3By%3D%3D%3DS%3F%28h%3Dy.first%2Cd--%2Cg--%29%3Ac.has%28B%29%3F%21r.has%28P%29%7C%7C%24.has%28P%29%3FE%28y%29%3AM.has%28B%29%3Fd--%3Av.get%28P%29%3Ev.get%28B%29%3F%28M.add%28P%29%2CE%28y%29%29%3A%28%24.add%28B%29%2Cd--%29%3A%28a%28S%2Cr%29%2Cd--%29%7Dfor%28%3Bd--%3B%29%7Bconst%20y%3Dt%5Bd%5D%3Bc.has%28y.key%29%7C%7Ca%28y%2Cr%29%7Dfor%28%3Bg%3B%29E%28F%5Bg-1%5D%29%3Breturn%20F%7Dfunction%20pe%28t%29%7Bt%26%26t.c%28%29%7Dfunction%20te%28t%2Ce%2Ci%2Cn%29%7Bconst%7Bfragment%3As%2Cafter_update%3Au%7D%3Dt.%24%24%3Bs%26%26s.m%28e%2Ci%29%2Cn%7C%7Cue%28%28%29%3D%3E%7Bconst%20r%3Dt.%24%24.on_mount.map%28H%29.filter%28be%29%3Bt.%24%24.on_destroy%3Ft.%24%24.on_destroy.push%28...r%29%3AO%28r%29%2Ct.%24%24.on_mount%3D%5B%5D%7D%29%2Cu.forEach%28ue%29%7Dfunction%20ie%28t%2Ce%29%7Bconst%20i%3Dt.%24%24%3Bi.fragment%21%3D%3Dnull%26%26%28O%28i.on_destroy%29%2Ci.fragment%26%26i.fragment.d%28e%29%2Ci.on_destroy%3Di.fragment%3Dnull%2Ci.ctx%3D%5B%5D%29%7Dfunction%20We%28t%2Ce%29%7Bt.%24%24.dirty%5B0%5D%3D%3D%3D-1%26%26%28Y.push%28t%29%2CZe%28%29%2Ct.%24%24.dirty.fill%280%29%29%2Ct.%24%24.dirty%5Be/31%7C0%5D%7C%3D1%3C%3Ce%2531%7Dfunction%20me%28t%2Ce%2Ci%2Cn%2Cs%2Cu%2Cr%2Co%3D%5B-1%5D%29%7Bconst%20a%3DV%3BZ%28t%29%3Bconst%20l%3Dt.%24%24%3D%7Bfragment%3Anull%2Cctx%3A%5B%5D%2Cprops%3Au%2Cupdate%3AC%2Cnot_equal%3As%2Cbound%3Awe%28%29%2Con_mount%3A%5B%5D%2Con_destroy%3A%5B%5D%2Con_disconnect%3A%5B%5D%2Cbefore_update%3A%5B%5D%2Cafter_update%3A%5B%5D%2Ccontext%3Anew%20Map%28e.context%7C%7C%28a%3Fa.%24%24.context%3A%5B%5D%29%29%2Ccallbacks%3Awe%28%29%2Cdirty%3Ao%2Cskip_bound%3A%211%2Croot%3Ae.target%7C%7Ca.%24%24.root%7D%3Br%26%26r%28l.root%29%3Blet%20h%3D%211%3Bif%28l.ctx%3Di%3Fi%28t%2Ce.props%7C%7C%7B%7D%2C%28p%2Cd%2C...g%29%3D%3E%7Bconst%20A%3Dg.length%3Fg%5B0%5D%3Ad%3Breturn%20l.ctx%26%26s%28l.ctx%5Bp%5D%2Cl.ctx%5Bp%5D%3DA%29%26%26%28%21l.skip_bound%26%26l.bound%5Bp%5D%26%26l.bound%5Bp%5D%28A%29%2Ch%26%26We%28t%2Cp%29%29%2Cd%7D%29%3A%5B%5D%2Cl.update%28%29%2Ch%3D%210%2CO%28l.before_update%29%2Cl.fragment%3Dn%3Fn%28l.ctx%29%3A%211%2Ce.target%29%7Bif%28e.hydrate%29%7Bconst%20p%3DOe%28e.target%29%3Bl.fragment%26%26l.fragment.l%28p%29%2Cp.forEach%28N%29%7Delse%20l.fragment%26%26l.fragment.c%28%29%3Be.intro%26%26D%28t.%24%24.fragment%29%2Cte%28t%2Ce.target%2Ce.anchor%2Ce.customElement%29%2C%24e%28%29%7DZ%28a%29%7Dclass%20he%7B%24destroy%28%29%7Bie%28this%2C1%29%2Cthis.%24destroy%3DC%7D%24on%28e%2Ci%29%7Bif%28%21be%28i%29%29return%20C%3Bconst%20n%3Dthis.%24%24.callbacks%5Be%5D%7C%7C%28this.%24%24.callbacks%5Be%5D%3D%5B%5D%29%3Breturn%20n.push%28i%29%2C%28%29%3D%3E%7Bconst%20s%3Dn.indexOf%28i%29%3Bs%21%3D%3D-1%26%26n.splice%28s%2C1%29%7D%7D%24set%28e%29%7Bthis.%24%24set%26%26%21Ie%28e%29%26%26%28this.%24%24.skip_bound%3D%210%2Cthis.%24%24set%28e%29%2Cthis.%24%24.skip_bound%3D%211%29%7D%7Dconst%20U%3D%5B%5D%3Bfunction%20Pe%28t%2Ce%3DC%29%7Blet%20i%3Bconst%20n%3Dnew%20Set%3Bfunction%20s%28o%29%7Bif%28K%28t%2Co%29%26%26%28t%3Do%2Ci%29%29%7Bconst%20a%3D%21U.length%3Bfor%28const%20l%20of%20n%29l%5B1%5D%28%29%2CU.push%28l%2Ct%29%3Bif%28a%29%7Bfor%28let%20l%3D0%3Bl%3CU.length%3Bl%2B%3D2%29U%5Bl%5D%5B0%5D%28U%5Bl%2B1%5D%29%3BU.length%3D0%7D%7D%7Dfunction%20u%28o%29%7Bs%28o%28t%29%29%7Dfunction%20r%28o%2Ca%3DC%29%7Bconst%20l%3D%5Bo%2Ca%5D%3Breturn%20n.add%28l%29%2Cn.size%3D%3D%3D1%26%26%28i%3De%28s%29%7C%7CC%29%2Co%28t%29%2C%28%29%3D%3E%7Bn.delete%28l%29%2Cn.size%3D%3D%3D0%26%26%28i%28%29%2Ci%3Dnull%29%7D%7Dreturn%7Bset%3As%2Cupdate%3Au%2Csubscribe%3Ar%7D%7Dconst%20De%3DPe%28%7B%7D%29%2Cne%3DPe%28%22absolute%22%29%2Cpt%3D%22%22%3Bfunction%20je%28t%29%7Blet%20e%2Ci%2Cn%2Cs%2Cu%2Cr%2Co%2Ca%2Cl%2Ch%2Cp%2Cd%2Cg%2CA%2Cb%2CF%2Cc%2Cv%2C%24%2CM%2CE%2Cy%2CS%2CP%2CB%2Cre%3Dt%5B0%5D.sampleCount%2B%22%22%2Cve%2CXe%2Cle%2CQe%2Coe%2CAe%2CGe%3Breturn%7Bc%28%29%7Be%3D_%28%22div%22%29%2Ci%3D_%28%22div%22%29%2Cn%3D_%28%22div%22%29%2Cs%3D_%28%22div%22%29%2Cs.textContent%3D%22pyinstrument%22%2Cu%3Dw%28%29%2Cr%3D_%28%22div%22%29%2Co%3D_%28%22label%22%29%2Co.textContent%3D%22Absolute%20time%22%2Ca%3Dw%28%29%2Cl%3D_%28%22input%22%29%2Ch%3Dw%28%29%2Cp%3D_%28%22div%22%29%2Cp.textContent%3D%22Recorded%3A%22%2Cd%3Dw%28%29%2Cg%3D_%28%22div%22%29%2Cg.textContent%3D%60%24%7Bt%5B2%5D%7D%60%2CA%3Dw%28%29%2Cb%3D_%28%22div%22%29%2Cb.textContent%3D%22Duration%3A%22%2CF%3Dw%28%29%2Cc%3D_%28%22div%22%29%2Cc.textContent%3D%60%24%7Bt%5B4%5D%7D%20seconds%60%2Cv%3Dw%28%29%2C%24%3D_%28%22label%22%29%2C%24.textContent%3D%22Proportional%20time%22%2CM%3Dw%28%29%2CE%3D_%28%22input%22%29%2Cy%3Dw%28%29%2CS%3D_%28%22div%22%29%2CS.textContent%3D%22Samples%3A%22%2CP%3Dw%28%29%2CB%3D_%28%22div%22%29%2Cve%3DL%28re%29%2CXe%3Dw%28%29%2Cle%3D_%28%22div%22%29%2Cle.textContent%3D%22CPU%20time%3A%22%2CQe%3Dw%28%29%2Coe%3D_%28%22div%22%29%2Coe.textContent%3D%60%24%7Bt%5B3%5D%7D%20seconds%60%2Cm%28s%2C%22class%22%2C%22title%20svelte-tewt95%22%29%2Cm%28o%2C%22class%22%2C%22metric-label%20svelte-tewt95%22%29%2Cm%28o%2C%22for%22%2C%22absolute%22%29%2Cm%28l%2C%22type%22%2C%22radio%22%29%2Cl.__value%3D%22absolute%22%2Cl.value%3Dl.__value%2Cm%28l%2C%22id%22%2C%22absolute%22%29%2Cm%28l%2C%22name%22%2C%22time-format%22%29%2Cl.checked%3D%210%2Ct%5B6%5D%5B0%5D.push%28l%29%2Cm%28p%2C%22class%22%2C%22metric-label%20svelte-tewt95%22%29%2Cm%28g%2C%22class%22%2C%22metric-value%20svelte-tewt95%22%29%2Cm%28b%2C%22class%22%2C%22metric-label%20svelte-tewt95%22%29%2Cm%28c%2C%22class%22%2C%22metric-value%20svelte-tewt95%22%29%2Cm%28%24%2C%22class%22%2C%22metric-label%20svelte-tewt95%22%29%2Cm%28%24%2C%22for%22%2C%22proportion%22%29%2Cm%28E%2C%22type%22%2C%22radio%22%29%2CE.__value%3D%22proportion%22%2CE.value%3DE.__value%2Cm%28E%2C%22id%22%2C%22proportion%22%29%2Cm%28E%2C%22name%22%2C%22time-format%22%29%2Ct%5B6%5D%5B0%5D.push%28E%29%2Cm%28S%2C%22class%22%2C%22metric-label%20svelte-tewt95%22%29%2Cm%28B%2C%22class%22%2C%22metric-value%20svelte-tewt95%22%29%2Cm%28le%2C%22class%22%2C%22metric-label%20svelte-tewt95%22%29%2Cm%28oe%2C%22class%22%2C%22metric-value%20svelte-tewt95%22%29%2Cm%28r%2C%22class%22%2C%22metrics%20svelte-tewt95%22%29%2Cm%28n%2C%22class%22%2C%22row%20svelte-tewt95%22%29%2Cm%28i%2C%22class%22%2C%22margins%22%29%2Cm%28e%2C%22class%22%2C%22header%20svelte-tewt95%22%29%7D%2Cm%28I%2CJ%29%7BX%28I%2Ce%2CJ%29%2Cf%28e%2Ci%29%2Cf%28i%2Cn%29%2Cf%28n%2Cs%29%2Cf%28n%2Cu%29%2Cf%28n%2Cr%29%2Cf%28r%2Co%29%2Cf%28r%2Ca%29%2Cf%28r%2Cl%29%2Cl.checked%3Dl.__value%3D%3D%3Dt%5B1%5D%2Cf%28r%2Ch%29%2Cf%28r%2Cp%29%2Cf%28r%2Cd%29%2Cf%28r%2Cg%29%2Cf%28r%2CA%29%2Cf%28r%2Cb%29%2Cf%28r%2CF%29%2Cf%28r%2Cc%29%2Cf%28r%2Cv%29%2Cf%28r%2C%24%29%2Cf%28r%2CM%29%2Cf%28r%2CE%29%2CE.checked%3DE.__value%3D%3D%3Dt%5B1%5D%2Cf%28r%2Cy%29%2Cf%28r%2CS%29%2Cf%28r%2CP%29%2Cf%28r%2CB%29%2Cf%28B%2Cve%29%2Cf%28r%2CXe%29%2Cf%28r%2Cle%29%2Cf%28r%2CQe%29%2Cf%28r%2Coe%29%2CAe%7C%7C%28Ge%3D%5BW%28l%2C%22change%22%2Ct%5B5%5D%29%2CW%28E%2C%22change%22%2Ct%5B7%5D%29%5D%2CAe%3D%210%29%7D%2Cp%28I%2C%5BJ%5D%29%7BJ%262%26%26%28l.checked%3Dl.__value%3D%3D%3DI%5B1%5D%29%2CJ%262%26%26%28E.checked%3DE.__value%3D%3D%3DI%5B1%5D%29%2CJ%261%26%26re%21%3D%3D%28re%3DI%5B0%5D.sampleCount%2B%22%22%29%26%26q%28ve%2Cre%29%7D%2Ci%3AC%2Co%3AC%2Cd%28I%29%7BI%26%26N%28e%29%2Ct%5B6%5D%5B0%5D.splice%28t%5B6%5D%5B0%5D.indexOf%28l%29%2C1%29%2Ct%5B6%5D%5B0%5D.splice%28t%5B6%5D%5B0%5D.indexOf%28E%29%2C1%29%2CAe%3D%211%2CO%28Ge%29%7D%7D%7Dfunction%20xe%28t%2Ce%2Ci%29%7Bvar%20p%3Blet%20n%3Bse%28t%2Cne%2Cd%3D%3Ei%281%2Cn%3Dd%29%29%3Blet%7Bsession%3As%7D%3De%3Bconst%20u%3Dnew%20Date%28s.startTime%2A1e3%29.toLocaleString%28%29%2Cr%3D%28p%3Ds.cpuTime%29%3D%3Dnull%3Fvoid%200%3Ap.toLocaleString%28void%200%2C%7BmaximumSignificantDigits%3A3%7D%29%2Co%3Ds.duration.toLocaleString%28void%200%2C%7BmaximumSignificantDigits%3A3%7D%29%2Ca%3D%5B%5B%5D%5D%3Bfunction%20l%28%29%7Bn%3Dthis.__value%2Cne.set%28n%29%7Dfunction%20h%28%29%7Bn%3Dthis.__value%2Cne.set%28n%29%7Dreturn%20t.%24%24set%3Dd%3D%3E%7B%22session%22in%20d%26%26i%280%2Cs%3Dd.session%29%7D%2C%5Bs%2Cn%2Cu%2Cr%2Co%2Cl%2Ca%2Ch%5D%7Dclass%20et%20extends%20he%7Bconstructor%28e%29%7Bsuper%28%29%2Cme%28this%2Ce%2Cxe%2Cje%2CK%2C%7Bsession%3A0%7D%29%7D%7Dconst%20mt%3D%22%22%3Bfunction%20Me%28t%2Ce%2Ci%29%7Bconst%20n%3Dt.slice%28%29%3Breturn%20n%5B14%5D%3De%5Bi%5D%2Cn%7Dfunction%20Le%28t%29%7Blet%20e%2Ci%2Cn%2Cs%2Cu%2Cr%2Co%2Ca%2Cl%2Ch%2Cp%2Cd%2Cg%2CA%2Cb%2CF%3Breturn%7Bc%28%29%7Be%3D_%28%22div%22%29%2Ci%3D_%28%22div%22%29%2Cn%3Dke%28%22svg%22%29%2Cs%3Dke%28%22path%22%29%2Cu%3Dw%28%29%2Cr%3D_%28%22div%22%29%2Co%3DL%28t%5B5%5D%29%2Ca%3Dw%28%29%2Cl%3D_%28%22div%22%29%2Ch%3DL%28t%5B4%5D%29%2Cp%3Dw%28%29%2Cd%3D_%28%22div%22%29%2Cg%3Dw%28%29%2CA%3D_%28%22div%22%29%2CA.textContent%3D%60%24%7Bt%5B9%5D%7D%60%2Cm%28s%2C%22d%22%2C%22M.937-.016L5.793%204.84.937%209.696z%22%29%2Cm%28s%2C%22fill%22%2Ct%5B7%5D%29%2Cm%28s%2C%22fill-rule%22%2C%22evenodd%22%29%2Cm%28s%2C%22fill-opacity%22%2C%22.582%22%29%2Cm%28n%2C%22width%22%2C%226%22%29%2Cm%28n%2C%22height%22%2C%2210%22%29%2Cm%28i%2C%22class%22%2C%22frame-triangle%20svelte-1aphj50%22%29%2CQ%28i%2C%22rotate%22%2Ct%5B2%5D%29%2CT%28i%2C%22visibility%22%2Ct%5B0%5D.children.length%3E0%3F%22visible%22%3A%22hidden%22%29%2Cm%28r%2C%22class%22%2C%22time%20svelte-1aphj50%22%29%2CT%28r%2C%22color%22%2Ct%5B7%5D%29%2CT%28r%2C%22font-weight%22%2Ct%5B0%5D.proportionOfTotal%3C.2%3F500%3A600%29%2Cm%28l%2C%22class%22%2C%22name%20svelte-1aphj50%22%29%2Cm%28d%2C%22class%22%2C%22spacer%22%29%2CT%28d%2C%22flex%22%2C%221%22%29%2Cm%28A%2C%22class%22%2C%22code-position%20svelte-1aphj50%22%29%2Cm%28e%2C%22class%22%2C%22frame-description%20svelte-1aphj50%22%29%2CQ%28e%2C%22application-code%22%2Ct%5B0%5D.isApplicationCode%29%2CQ%28e%2C%22children-visible%22%2Ct%5B2%5D%29%2CT%28e%2C%22padding-left%22%2C%60%24%7Bt%5B1%5D%2A35%7Dpx%60%29%7D%2Cm%28c%2Cv%29%7BX%28c%2Ce%2Cv%29%2Cf%28e%2Ci%29%2Cf%28i%2Cn%29%2Cf%28n%2Cs%29%2Cf%28e%2Cu%29%2Cf%28e%2Cr%29%2Cf%28r%2Co%29%2Cf%28e%2Ca%29%2Cf%28e%2Cl%29%2Cf%28l%2Ch%29%2Cf%28e%2Cp%29%2Cf%28e%2Cd%29%2Cf%28e%2Cg%29%2Cf%28e%2CA%29%2Cb%7C%7C%28F%3DW%28e%2C%22click%22%2CEe%28Ce%28t%5B10%5D%29%29%29%2Cb%3D%210%29%7D%2Cp%28c%2Cv%29%7Bv%26128%26%26m%28s%2C%22fill%22%2Cc%5B7%5D%29%2Cv%264%26%26Q%28i%2C%22rotate%22%2Cc%5B2%5D%29%2Cv%261%26%26T%28i%2C%22visibility%22%2Cc%5B0%5D.children.length%3E0%3F%22visible%22%3A%22hidden%22%29%2Cv%2632%26%26q%28o%2Cc%5B5%5D%29%2Cv%26128%26%26T%28r%2C%22color%22%2Cc%5B7%5D%29%2Cv%261%26%26T%28r%2C%22font-weight%22%2Cc%5B0%5D.proportionOfTotal%3C.2%3F500%3A600%29%2Cv%2616%26%26q%28h%2Cc%5B4%5D%29%2Cv%261%26%26Q%28e%2C%22application-code%22%2Cc%5B0%5D.isApplicationCode%29%2Cv%264%26%26Q%28e%2C%22children-visible%22%2Cc%5B2%5D%29%2Cv%262%26%26T%28e%2C%22padding-left%22%2C%60%24%7Bc%5B1%5D%2A35%7Dpx%60%29%7D%2Cd%28c%29%7Bc%26%26N%28e%29%2Cb%3D%211%2CF%28%29%7D%7D%7Dfunction%20Ne%28t%29%7Blet%20e%2Ci%2Cn%2Cs%2Cu%3Dt%5B0%5D.group.frames.length%2B%22%22%2Cr%2Co%2Ca%2Cl%2Ch%2Cp%3Breturn%7Bc%28%29%7Be%3D_%28%22div%22%29%2Ci%3D_%28%22div%22%29%2Cn%3D_%28%22div%22%29%2Cn.innerHTML%3D%27%3Csvg%20width%3D%226%22%20height%3D%2210%22%3E%3Cpath%20d%3D%22M.937-.016L5.793%204.84.937%209.696z%22%20fill%3D%22%23FFF%22%20fill-rule%3D%22evenodd%22%20fill-opacity%3D%22.582%22%3E%3C/path%3E%3C/svg%3E%27%2Cs%3Dw%28%29%2Cr%3DL%28u%29%2Co%3DL%28%60%20frames%20hidden%0A%20%20%20%20%20%20%20%20%28%60%29%2Ca%3DL%28t%5B6%5D%29%2Cl%3DL%28%22%29%22%29%2Cm%28n%2C%22class%22%2C%22group-triangle%20svelte-1aphj50%22%29%2CQ%28n%2C%22rotate%22%2Ct%5B8%5D%29%2Cm%28i%2C%22class%22%2C%22group-header-button%20svelte-1aphj50%22%29%2Cm%28e%2C%22class%22%2C%22group-header%20svelte-1aphj50%22%29%2CT%28e%2C%22padding-left%22%2C%60%24%7Bt%5B1%5D%2A35%7Dpx%60%29%7D%2Cm%28d%2Cg%29%7BX%28d%2Ce%2Cg%29%2Cf%28e%2Ci%29%2Cf%28i%2Cn%29%2Cf%28i%2Cs%29%2Cf%28i%2Cr%29%2Cf%28i%2Co%29%2Cf%28i%2Ca%29%2Cf%28i%2Cl%29%2Ch%7C%7C%28p%3DW%28e%2C%22click%22%2CEe%28Ce%28t%5B11%5D%29%29%29%2Ch%3D%210%29%7D%2Cp%28d%2Cg%29%7Bg%26256%26%26Q%28n%2C%22rotate%22%2Cd%5B8%5D%29%2Cg%261%26%26u%21%3D%3D%28u%3Dd%5B0%5D.group.frames.length%2B%22%22%29%26%26q%28r%2Cu%29%2Cg%2664%26%26q%28a%2Cd%5B6%5D%29%2Cg%262%26%26T%28e%2C%22padding-left%22%2C%60%24%7Bd%5B1%5D%2A35%7Dpx%60%29%7D%2Cd%28d%29%7Bd%26%26N%28e%29%2Ch%3D%211%2Cp%28%29%7D%7D%7Dfunction%20ze%28t%29%7Blet%20e%3D%5B%5D%2Ci%3Dnew%20Map%2Cn%2Cs%2Cu%3Dt%5B0%5D.children%3Bconst%20r%3Do%3D%3Eo%5B14%5D.identifier%3Bfor%28let%20o%3D0%3Bo%3Cu.length%3Bo%2B%3D1%29%7Blet%20a%3DMe%28t%2Cu%2Co%29%2Cl%3Dr%28a%29%3Bi.set%28l%2Ce%5Bo%5D%3DBe%28l%2Ca%29%29%7Dreturn%7Bc%28%29%7Bfor%28let%20o%3D0%3Bo%3Ce.length%3Bo%2B%3D1%29e%5Bo%5D.c%28%29%3Bn%3Dye%28%29%7D%2Cm%28o%2Ca%29%7Bfor%28let%20l%3D0%3Bl%3Ce.length%3Bl%2B%3D1%29e%5Bl%5D.m%28o%2Ca%29%3BX%28o%2Cn%2Ca%29%2Cs%3D%210%7D%2Cp%28o%2Ca%29%7Ba%2611%26%26%28u%3Do%5B0%5D.children%2Cce%28%29%2Ce%3DKe%28e%2Ca%2Cr%2C1%2Co%2Cu%2Ci%2Cn.parentNode%2CJe%2CBe%2Cn%2CMe%29%2Cde%28%29%29%7D%2Ci%28o%29%7Bif%28%21s%29%7Bfor%28let%20a%3D0%3Ba%3Cu.length%3Ba%2B%3D1%29D%28e%5Ba%5D%29%3Bs%3D%210%7D%7D%2Co%28o%29%7Bfor%28let%20a%3D0%3Ba%3Ce.length%3Ba%2B%3D1%29z%28e%5Ba%5D%29%3Bs%3D%211%7D%2Cd%28o%29%7Bfor%28let%20a%3D0%3Ba%3Ce.length%3Ba%2B%3D1%29e%5Ba%5D.d%28o%29%3Bo%26%26N%28n%29%7D%7D%7Dfunction%20Be%28t%2Ce%29%7Blet%20i%2Cn%2Cs%3Breturn%20n%3Dnew%20He%28%7Bprops%3A%7Bframe%3Ae%5B14%5D%2Cindent%3Ae%5B1%5D%2B%28e%5B3%5D%3F1%3A0%29%7D%7D%29%2C%7Bkey%3At%2Cfirst%3Anull%2Cc%28%29%7Bi%3Dye%28%29%2Cpe%28n.%24%24.fragment%29%2Cthis.first%3Di%7D%2Cm%28u%2Cr%29%7BX%28u%2Ci%2Cr%29%2Cte%28n%2Cu%2Cr%29%2Cs%3D%210%7D%2Cp%28u%2Cr%29%7Be%3Du%3Bconst%20o%3D%7B%7D%3Br%261%26%26%28o.frame%3De%5B14%5D%29%2Cr%2610%26%26%28o.indent%3De%5B1%5D%2B%28e%5B3%5D%3F1%3A0%29%29%2Cn.%24set%28o%29%7D%2Ci%28u%29%7Bs%7C%7C%28D%28n.%24%24.fragment%2Cu%29%2Cs%3D%210%29%7D%2Co%28u%29%7Bz%28n.%24%24.fragment%2Cu%29%2Cs%3D%211%7D%2Cd%28u%29%7Bu%26%26N%28i%29%2Cie%28n%2Cu%29%7D%7D%7Dfunction%20tt%28t%29%7Blet%20e%2Ci%2Cn%2Cs%2Cu%2Cr%2Co%3Dt%5B3%5D%26%26Le%28t%29%2Ca%3Dt%5B0%5D.group%26%26t%5B0%5D.group.rootFrame%3D%3Dt%5B0%5D%26%26t%5B2%5D%26%26Ne%28t%29%2Cl%3Dt%5B2%5D%26%26ze%28t%29%3Breturn%7Bc%28%29%7Be%3D_%28%22div%22%29%2Co%26%26o.c%28%29%2Ci%3Dw%28%29%2Ca%26%26a.c%28%29%2Cn%3Dw%28%29%2Cl%26%26l.c%28%29%2Cs%3Dw%28%29%2Cu%3D_%28%22div%22%29%2Cm%28u%2C%22class%22%2C%22visual-guide%22%29%2CT%28u%2C%22left%22%2C%60%24%7Bt%5B1%5D%2A35%2B21%7Dpx%60%29%2CT%28u%2C%22backgroundColor%22%2Ct%5B7%5D%29%2Cm%28e%2C%22class%22%2C%22frame%20svelte-1aphj50%22%29%7D%2Cm%28h%2Cp%29%7BX%28h%2Ce%2Cp%29%2Co%26%26o.m%28e%2Cnull%29%2Cf%28e%2Ci%29%2Ca%26%26a.m%28e%2Cnull%29%2Cf%28e%2Cn%29%2Cl%26%26l.m%28e%2Cnull%29%2Cf%28e%2Cs%29%2Cf%28e%2Cu%29%2Cr%3D%210%7D%2Cp%28h%2C%5Bp%5D%29%7Bh%5B3%5D%3Fo%3Fo.p%28h%2Cp%29%3A%28o%3DLe%28h%29%2Co.c%28%29%2Co.m%28e%2Ci%29%29%3Ao%26%26%28o.d%281%29%2Co%3Dnull%29%2Ch%5B0%5D.group%26%26h%5B0%5D.group.rootFrame%3D%3Dh%5B0%5D%26%26h%5B2%5D%3Fa%3Fa.p%28h%2Cp%29%3A%28a%3DNe%28h%29%2Ca.c%28%29%2Ca.m%28e%2Cn%29%29%3Aa%26%26%28a.d%281%29%2Ca%3Dnull%29%2Ch%5B2%5D%3Fl%3F%28l.p%28h%2Cp%29%2Cp%264%26%26D%28l%2C1%29%29%3A%28l%3Dze%28h%29%2Cl.c%28%29%2CD%28l%2C1%29%2Cl.m%28e%2Cs%29%29%3Al%26%26%28ce%28%29%2Cz%28l%2C1%2C1%2C%28%29%3D%3E%7Bl%3Dnull%7D%29%2Cde%28%29%29%2Cp%262%26%26T%28u%2C%22left%22%2C%60%24%7Bh%5B1%5D%2A35%2B21%7Dpx%60%29%2Cp%26128%26%26T%28u%2C%22backgroundColor%22%2Ch%5B7%5D%29%7D%2Ci%28h%29%7Br%7C%7C%28D%28l%29%2Cr%3D%210%29%7D%2Co%28h%29%7Bz%28l%29%2Cr%3D%211%7D%2Cd%28h%29%7Bh%26%26N%28e%29%2Co%26%26o.d%28%29%2Ca%26%26a.d%28%29%2Cl%26%26l.d%28%29%7D%7D%7Dfunction%20it%28t%2Ce%2Ci%29%7Blet%20n%2Cs%2Cu%3Bse%28t%2CDe%2Cc%3D%3Ei%2812%2Cs%3Dc%29%29%2Cse%28t%2Cne%2Cc%3D%3Ei%2813%2Cu%3Dc%29%29%3Blet%7Bframe%3Ar%7D%3De%2C%7Bindent%3Ao%3D0%7D%3De%2Ca%3D%210%2Cl%2Ch%3Br.className%3Fh%3D%60%24%7Br.className%7D.%24%7Br.function%7D%60%3Ah%3Dr.function%3Bconst%20p%3D%60%24%7Br.filePathShort%7D%3A%24%7Br.lineNo.toString%28%29.padEnd%284%2C%22%5CxA0%22%29%7D%60%3Blet%20d%2Cg%3Dnull%3Bif%28r.group%29%7Bconst%20c%3Dr.group.libraries%3Bc.length%3C4%3Fg%3Dc.join%28%22%2C%20%22%29%3Ag%3D%60%24%7Bc%5B0%5D%7D%2C%20%24%7Bc%5B1%5D%7D%2C%20%24%7Bc%5B2%5D%7D...%60%7Dlet%20A%3Br.proportionOfTotal%3E.6%3FA%3D%22%23FF4159%22%3Ar.proportionOfTotal%3E.3%3FA%3D%22%23F5A623%22%3Ar.proportionOfTotal%3E.2%3FA%3D%22%23D8CB2A%22%3AA%3D%22%237ED321%22%3Bfunction%20b%28%29%7Bi%282%2Ca%3D%21a%29%7Dfunction%20F%28%29%7BDe.update%28c%3D%3E%7Bvar%20v%3Breturn%7B...c%2C%5B%28v%3Dr.groupId%29%21%3Dnull%3Fv%3A%22%22%5D%3A%21n%7D%7D%29%7Dreturn%20t.%24%24set%3Dc%3D%3E%7B%22frame%22in%20c%26%26i%280%2Cr%3Dc.frame%29%2C%22indent%22in%20c%26%26i%281%2Co%3Dc.indent%29%7D%2Ct.%24%24.update%3D%28%29%3D%3E%7Bvar%20c%2Cv%2C%24%3Bif%28t.%24%24.dirty%264097%26%26%28r.group%3Fs%5B%28c%3Dr.groupId%29%21%3Dnull%3Fc%3A%22%22%5D%7C%7C%28%28v%3Dr.group%29%3D%3Dnull%3Fvoid%200%3Av.rootFrame%29%3D%3D%3Dr%7C%7Cr.children.filter%28M%3D%3E%21M.group%29.length%3E1%3Fi%283%2Cl%3D%210%29%3Ai%283%2Cl%3D%211%29%3Ai%283%2Cl%3D%210%29%29%2Ct.%24%24.dirty%268193%29if%28u%3D%3D%3D%22absolute%22%29i%285%2Cd%3Dr.time.toLocaleString%28void%200%2C%7BminimumFractionDigits%3A3%2CmaximumFractionDigits%3A3%7D%29%29%3Belse%20if%28u%3D%3D%3D%22proportion%22%29i%285%2Cd%3D%60%24%7B%28r.proportionOfTotal%2A100%29.toLocaleString%28void%200%2C%7BminimumFractionDigits%3A1%2CmaximumFractionDigits%3A1%7D%29%7D%25%60%29%3Belse%20throw%20new%20Error%28%22unknown%20timeFormat%22%29%3Bt.%24%24.dirty%264097%26%26i%288%2Cn%3Ds%5B%28%24%3Dr.groupId%29%21%3Dnull%3F%24%3A%22%22%5D%3D%3D%3D%210%29%7D%2C%5Br%2Co%2Ca%2Cl%2Ch%2Cd%2Cg%2CA%2Cn%2Cp%2Cb%2CF%2Cs%2Cu%5D%7Dclass%20He%20extends%20he%7Bconstructor%28e%29%7Bsuper%28%29%2Cme%28this%2Ce%2Cit%2Ctt%2CK%2C%7Bframe%3A0%2Cindent%3A1%7D%29%7D%7Dconst%20nt%3D%22data%3Aimage/png%3Bbase64%2CiVBORw0KGgoAAAANSUhEUgAAACAAAAAgCAYAAABzenr0AAAABGdBTUEAALGPC/xhBQAAADhlWElmTU0AKgAAAAgAAYdpAAQAAAABAAAAGgAAAAAAAqACAAQAAAABAAAAIKADAAQAAAABAAAAIAAAAACPTkDJAAAFPklEQVRYCdWXu4skVRSHb3VXP2bcXUVMBkRMTVww2XQDExEEH4iKiUYGhuJEPgJhUSMzQQSDRVzETNDMTTfUwL/ARUwM1t3pV1WX33eqbnfP9MxOu5kHTt9T93F%2Bv3vOubeqi7QhT1%2B58vhiVn1G19WiaQ6KIqVQOmyT%2Bh9kuUxp2bAAtQkpij9pbw5G5fu/3br1x8ql4NW0%2BrVJzaN29nop9VUeCtoerXpMTj53g%2BAGcINR1YB3RIJMN6dIxd/luLxcZoftzltwAct%2BSiNGh2jJ84BnSQWJTeBNW2C0ZrvufrZA5y2JmuemWkfCjYq5IsC6q2iE2V0LuDdMaYxKZDxo%2ByS3JZkEY%2B5SsAU7P5q1qZNEAxnXGo0NubomQM4dWPnCMAU/fUCnoA7kFjPEPohuqfO6uc%2B%2B0xKSVHUcHDbNwZpAeFyHyMcg408G16mSnwW3b5OEz3rtCAyJnHUQUSEFmMdki0CMmsNOX/gkpf1RSpf223Q43jC2MMw4tFWsjwHzBngsIOT6CaEf7wGKrTo/agFbH8oWAQdkWTF5htGntSDn2h2YBTal/9603Z2%2B%2BswZ0%2B5BZIjdQwfUz5DcGwHVotSfdpYtAg7oUKzaycyo6PjmkA4cRmgBuf5zSj/80kbAuToaYHz9afdgCiCxJF3gpudfZampOyGnEwAwIkEbuROBXEauXZGdYzrEtFTTpx3zHGeewGoFcFxk2Cdlxempy8/oZyXm1KO3R14fIraPXEzpAnXgyVBmRMdjNgdVsqZgxLw9cl4C7m7N%2Bd17pOqIuaj2LKetQzs1Ai3E%2BreRJip4CSnz2wPYHC9wFL66MYko9k8pwgmAU4hqbxZhO6tNXba321V8Uvruc4ZzGgQxErnFNszqItqC0DdpTtzfeqWJ21DwpRp5WkOdHwFJqM4UMLcdeB2AADPUkigSm00VOZixsOL8WfUB3oWd4ZWcT8CpgLz2XkoPX%2BIgEIU%2Bq6K6QZqzqxoAr15vupqC8Air0wm7JwUL2AWJByIAuDXQEGZ1aegRASY4Ppq0AOZZIoZYsLh4zDsa4PSfeA%2BEn/tGQMI5ZTe%2BxClhN%2BQ5z4b67TfZJeATiAQw4J4KwTzCOfT2nSb3JRALAJTEfKPQcrGBG5GwwCLMRCRAXcgiQY1IYD8ogbzuDd5qF7gL%2Bp4ESM05Z//coWXH1oEE5oQkQPOi3EroDDk/Ai40Cp3SRE2AG%2B8MWyOk5h1j7ixnEogPD0dVcv/FVwXXLceKs20K5rCaFk06fKmOD424akkTXUFkVwanEtBZfH7hMK5eCEwBl0DNYHvJ0Idd4MHXr7djkGDtWQV3GqlTCRhybzqv1R4zbA/fXabRfhFAHkvflJO77XivuyElbRHG%2Bh3yL6EtAu4iPkoF5q4veRn1ecEUAwYg0pSyQwAoRk3qz4p4DS%2BwawpxSVHoY9cobBHQtxBBBMBrN/rkvOEC6lF0hF/nKvaS31yE155btLVAFKIidbSDbBMI9HaluzjC4ZKQWHieBIcVPqvbyg/b503Dh91kTcB/LH4Z6wmNI8X2PnyxTkPSUI7JP7MjvE5hTrwDuO%2BrLvT2uXxnAXNNgL9LLHxdB16jOi24XgOEK68EyMKMb/uYRERol1w%2BFmRN67XrWonsKDdzRNPmXzPjbEXHxwWttsCcwpXki8cte91afP7zkdQuYch/zSizVv66ffvOwZNPfLus/YNSPMYuLkZIda66yw3NzwHMeCOBXcBNdVH8OBiXLx/7c5qJrFrK/GOYfETH97Sr/jOM38FnvodDGv8f%2BRcj1XBLIcDKAQAAAABJRU5ErkJggg%3D%3D%22%2Cht%3D%22%22%3Bfunction%20rt%28t%29%7Blet%20e%3Breturn%7Bc%28%29%7Be%3D_%28%22div%22%29%2Ce.textContent%3D%22No%20samples%20recorded.%22%2Cm%28e%2C%22class%22%2C%22error%22%29%7D%2Cm%28i%2Cn%29%7BX%28i%2Ce%2Cn%29%7D%2Cp%3AC%2Ci%3AC%2Co%3AC%2Cd%28i%29%7Bi%26%26N%28e%29%7D%7D%7Dfunction%20lt%28t%29%7Blet%20e%2Ci%3Breturn%20e%3Dnew%20He%28%7Bprops%3A%7Bframe%3At%5B0%5D.rootFrame%7D%7D%29%2C%7Bc%28%29%7Bpe%28e.%24%24.fragment%29%7D%2Cm%28n%2Cs%29%7Bte%28e%2Cn%2Cs%29%2Ci%3D%210%7D%2Cp%28n%2Cs%29%7Bconst%20u%3D%7B%7D%3Bs%261%26%26%28u.frame%3Dn%5B0%5D.rootFrame%29%2Ce.%24set%28u%29%7D%2Ci%28n%29%7Bi%7C%7C%28D%28e.%24%24.fragment%2Cn%29%2Ci%3D%210%29%7D%2Co%28n%29%7Bz%28e.%24%24.fragment%2Cn%29%2Ci%3D%211%7D%2Cd%28n%29%7Bie%28e%2Cn%29%7D%7D%7Dfunction%20ot%28t%29%7Blet%20e%2Ci%2Cn%2Cs%2Cu%2Cr%2Co%2Ca%2Cl%2Ch%2Cp%2Cd%2Cg%3Bi%3Dnew%20et%28%7Bprops%3A%7Bsession%3At%5B0%5D%7D%7D%29%3Bconst%20A%3D%5Blt%2Crt%5D%2Cb%3D%5B%5D%3Bfunction%20F%28c%2Cv%29%7Breturn%20c%5B0%5D.rootFrame%3F0%3A1%7Dreturn%20p%3DF%28t%29%2Cd%3Db%5Bp%5D%3DA%5Bp%5D%28t%29%2C%7Bc%28%29%7Be%3D_%28%22div%22%29%2Cpe%28i.%24%24.fragment%29%2Cn%3Dw%28%29%2Cs%3D_%28%22div%22%29%2Cu%3Dw%28%29%2Cr%3D_%28%22div%22%29%2Co%3D_%28%22div%22%29%2Ca%3D_%28%22span%22%29%2Ca.textContent%3D%22Program%3A%5CxA0%22%2Cl%3DL%28t%5B1%5D%29%2Ch%3Dw%28%29%2Cd.c%28%29%2Cm%28s%2C%22class%22%2C%22spacer%22%29%2CT%28s%2C%22height%22%2C%2220px%22%29%2Cm%28a%2C%22class%22%2C%22label%20svelte-1gm5pcf%22%29%2Cm%28o%2C%22class%22%2C%22program%20svelte-1gm5pcf%22%29%2Cm%28r%2C%22class%22%2C%22margins%22%29%2Cm%28e%2C%22class%22%2C%22app%20svelte-1gm5pcf%22%29%7D%2Cm%28c%2Cv%29%7BX%28c%2Ce%2Cv%29%2Cte%28i%2Ce%2Cnull%29%2Cf%28e%2Cn%29%2Cf%28e%2Cs%29%2Cf%28e%2Cu%29%2Cf%28e%2Cr%29%2Cf%28r%2Co%29%2Cf%28o%2Ca%29%2Cf%28o%2Cl%29%2Cf%28r%2Ch%29%2Cb%5Bp%5D.m%28r%2Cnull%29%2Cg%3D%210%7D%2Cp%28c%2C%5Bv%5D%29%7Bconst%20%24%3D%7B%7D%3Bv%261%26%26%28%24.session%3Dc%5B0%5D%29%2Ci.%24set%28%24%29%2C%28%21g%7C%7Cv%262%29%26%26q%28l%2Cc%5B1%5D%29%3Blet%20M%3Dp%3Bp%3DF%28c%29%2Cp%3D%3D%3DM%3Fb%5Bp%5D.p%28c%2Cv%29%3A%28ce%28%29%2Cz%28b%5BM%5D%2C1%2C1%2C%28%29%3D%3E%7Bb%5BM%5D%3Dnull%7D%29%2Cde%28%29%2Cd%3Db%5Bp%5D%2Cd%3Fd.p%28c%2Cv%29%3A%28d%3Db%5Bp%5D%3DA%5Bp%5D%28c%29%2Cd.c%28%29%29%2CD%28d%2C1%29%2Cd.m%28r%2Cnull%29%29%7D%2Ci%28c%29%7Bg%7C%7C%28D%28i.%24%24.fragment%2Cc%29%2CD%28d%29%2Cg%3D%210%29%7D%2Co%28c%29%7Bz%28i.%24%24.fragment%2Cc%29%2Cz%28d%29%2Cg%3D%211%7D%2Cd%28c%29%7Bc%26%26N%28e%29%2Cie%28i%29%2Cb%5Bp%5D.d%28%29%7D%7D%7Dfunction%20ge%28%29%7Bdocument.body.style.minHeight%3D%60%24%7Bwindow.scrollY%2Bwindow.innerHeight%7Dpx%60%7Dfunction%20st%28t%2Ce%2Ci%29%7Blet%7Bsession%3An%7D%3De%3Bconst%20s%3Ddocument.createElement%28%22link%22%29%3Bs.rel%3D%22shortut%20icon%22%2Cs.href%3Dnt%2Cdocument.head.appendChild%28s%29%2Cqe%28%28%29%3D%3E%7Bwindow.addEventListener%28%22scroll%22%2Cge%29%2Cge%28%29%7D%29%2CUe%28%28%29%3D%3E%7Bwindow.removeEventListener%28%22scroll%22%2Cge%29%7D%29%3Bconst%20u%3Dn.rootFrame%2Cr%3Du%3D%3Dnull%3Fvoid%200%3Au.time.toLocaleString%28void%200%2C%7BmaximumSignificantDigits%3A3%7D%29%3Blet%20o%3Du%3D%3Dnull%3Fvoid%200%3Au.function%3Breturn%20o%3D%3D%22%3Cmodule%3E%22%26%26%28o%3Dn.program%29%2Cdocument.title%3D%60%24%7Br%7Ds%20-%20%24%7Bo%7D%20-%20pyinstrument%60%2Ct.%24%24set%3Da%3D%3E%7B%22session%22in%20a%26%26i%280%2Cn%3Da.session%29%7D%2C%5Bn%2Co%5D%7Dclass%20at%20extends%20he%7Bconstructor%28e%29%7Bsuper%28%29%2Cme%28this%2Ce%2Cst%2Cot%2CK%2C%7Bsession%3A0%7D%29%7D%7Dclass%20ut%7Bconstructor%28e%2Ci%29%7Bk%28this%2C%22id%22%29%3Bk%28this%2C%22rootFrame%22%29%3Bk%28this%2C%22frames%22%2C%5B%5D%29%3Bthis.id%3De%2Cthis.rootFrame%3Di%7DaddFrame%28e%29%7Bthis.frames.push%28e%29%7Dget%20exitFrames%28%29%7Bconst%20e%3D%5B%5D%3Bfor%28const%20i%20of%20this.frames%29%7Blet%20n%3D%211%3Bfor%28const%20s%20of%20i.children%29if%28s.group%21%3Dthis%29%7Bn%3D%210%3Bbreak%7Dn%26%26e.push%28i%29%7Dreturn%20e%7Dget%20libraries%28%29%7Bconst%20e%3D%5B%5D%3Bfor%28const%20i%20of%20this.frames%29%7Bconst%20n%3D/%5E%5B%5E%5C%5C/.%5D%2A/.exec%28i.filePathShort%29%5B0%5D%3Be.includes%28n%29%7C%7Ce.push%28n%29%7Dreturn%20e%7D%7Dclass%20_e%7Bconstructor%28e%2Ci%3Dnull%2Cn%3D%7Bgroups%3A%7B%7D%7D%29%7Bk%28this%2C%22function%22%29%3Bk%28this%2C%22filePath%22%29%3Bk%28this%2C%22filePathShort%22%29%3Bk%28this%2C%22lineNo%22%29%3Bk%28this%2C%22time%22%29%3Bk%28this%2C%22totalTime%22%29%3Bk%28this%2C%22awaitTime%22%29%3Bk%28this%2C%22isApplicationCode%22%29%3Bk%28this%2C%22groupId%22%29%3Bk%28this%2C%22className%22%29%3Bk%28this%2C%22parent%22%29%3Bk%28this%2C%22children%22%29%3Bk%28this%2C%22group%22%29%3Bvar%20s%2Cu%3Bif%28this.parent%3Di%2Cthis.function%3De.function%2Cthis.filePath%3De.file_path%2Cthis.filePathShort%3De.file_path_short%2Cthis.lineNo%3De.line_no%2Cthis.time%3De.time%2Cthis.totalTime%3Dthis.parent%3Fthis.parent.totalTime%3Athis.time%2Cthis.awaitTime%3De.await_time%2Cthis.isApplicationCode%3De.is_application_code%2Cthis.groupId%3D%28s%3De.group_id%29%21%3Dnull%3Fs%3Anull%2Cthis.className%3D%28u%3De.class_name%29%21%3Dnull%3Fu%3Anull%2Ce.group_id%29%7Bconst%20r%3De.group_id%3Blet%20o%3Dn.groups%5Br%5D%3Bo%7C%7C%28o%3Dn.groups%5Br%5D%3Dnew%20ut%28r%2Cthis%29%29%2Co.addFrame%28this%29%2Cthis.group%3Dn.groups%5Br%5D%7Delse%20this.group%3Dnull%3Bthis.children%3De.children.map%28r%3D%3Enew%20_e%28r%2Cthis%2Cn%29%29%7Dget%20identifier%28%29%7Breturn%60%24%7Bthis.function%7D%3A%24%7Bthis.filePath%7D%3A%24%7Bthis.lineNo%7D%60%7Dget%20proportionOfTotal%28%29%7Breturn%20this.time/this.totalTime%7D%7Dclass%20ft%7Bconstructor%28e%29%7Bk%28this%2C%22startTime%22%29%3Bk%28this%2C%22duration%22%29%3Bk%28this%2C%22sampleCount%22%29%3Bk%28this%2C%22program%22%29%3Bk%28this%2C%22cpuTime%22%29%3Bk%28this%2C%22rootFrame%22%29%3Bthis.startTime%3De.start_time%2Cthis.duration%3De.duration%2Cthis.sampleCount%3De.sample_count%2Cthis.program%3De.program%2Cthis.cpuTime%3De.cpu_time%2Cthis.rootFrame%3De.root_frame%3Fnew%20_e%28e.root_frame%29%3Anull%7D%7Dreturn%7Brender%28t%2Ce%29%7Bconst%20i%3Dnew%20ft%28e%29%3Breturn%20new%20at%28%7Btarget%3At%2Cprops%3A%7Bsession%3Ai%7D%7D%29%7D%7D%7D%28%29%3B%0A%3C/script%3E%0A%20%20%20%20%20%20%20%20%20%20%20%20%20%20%20%20%3Cstyle%3E%40import%22https%3A//fonts.googleapis.com/css%3Ffamily%3DSource%2BCode%2BPro%3A400%2C600%7CSource%2BSans%2BPro%3A400%2C600%22%3Bhtml%2Cbody%7Bbackground-color%3A%23303538%3Bcolor%3A%23fff%3Bpadding%3A0%3Bmargin%3A0%7D.margins%7Bpadding%3A0%2030px%7D.header.svelte-tewt95%7Bbackground%3A%23292f32%7D.row.svelte-tewt95%7Bdisplay%3Aflex%3Balign-items%3Acenter%7D.title.svelte-tewt95%7Bfont-size%3A34px%3Bpadding-top%3A20px%3Bpadding-bottom%3A16px%3Bwhite-space%3Anowrap%3Boverflow%3Ahidden%3Btext-overflow%3Aellipsis%3Bmargin-right%3A10px%3Bflex%3A1%7D.metrics.svelte-tewt95%7Bdisplay%3Agrid%3Bgrid-template-columns%3Aauto%20auto%20auto%20auto%20auto%20auto%3Bfont-size%3A14px%3Btext-transform%3Auppercase%3Bgrid-gap%3A1px%208px%7D.metric-label.svelte-tewt95%7Bfont-weight%3A600%3Bcolor%3A%23a9abad%7D.metric-value.svelte-tewt95%7Bcolor%3A%23737779%3Bmargin-right%3A.5em%7D.frame.svelte-1aphj50.svelte-1aphj50%7Bfont-family%3ASource%20Code%20Pro%2CRoboto%20Mono%2CConsolas%2CMonaco%2Cmonospace%3Bfont-size%3A15px%3Bz-index%3A0%3Bposition%3Arelative%3Buser-select%3Anone%7D.group-header.svelte-1aphj50.svelte-1aphj50%7Bmargin-left%3A35px%7D.group-header-button.svelte-1aphj50.svelte-1aphj50%7Bdisplay%3Ainline-block%3Bcolor%3A%23ffffff94%3Buser-select%3Anone%3Bcursor%3Adefault%3Bposition%3Arelative%7D.group-header-button.svelte-1aphj50.svelte-1aphj50%3Abefore%7Bposition%3Aabsolute%3Bleft%3A-3px%3Bright%3A-3px%3Btop%3A0px%3Bbottom%3A-1px%3Bcontent%3A%22%22%3Bz-index%3A-1%3Bbackground-color%3A%233b4043%7D.group-header-button.svelte-1aphj50.svelte-1aphj50%3Ahover%3Abefore%7Bbackground-color%3A%234a4f54%7D.group-triangle.svelte-1aphj50.svelte-1aphj50%2C.frame-triangle.svelte-1aphj50.svelte-1aphj50%7Bwidth%3A6px%3Bheight%3A10px%3Bpadding-left%3A6px%3Bpadding-right%3A5px%3Bdisplay%3Ainline-block%7D.group-triangle.rotate.svelte-1aphj50.svelte-1aphj50%2C.frame-triangle.rotate.svelte-1aphj50.svelte-1aphj50%7Btransform%3Atranslate%286px%2C4px%29%20rotate%2890deg%29%7D.frame-description.svelte-1aphj50.svelte-1aphj50%7Bdisplay%3Aflex%7D.frame-description.svelte-1aphj50.svelte-1aphj50%3Ahover%3Abefore%7Bposition%3Aabsolute%3Bleft%3A-3px%3Bright%3A-3px%3Btop%3A-1px%3Bheight%3A22px%3Bcontent%3A%22%22%3Bz-index%3A-1%3Bbackground-color%3A%23354759%3Bopacity%3A.5%7D.frame-triangle.svelte-1aphj50.svelte-1aphj50%7Bopacity%3A1%7D.frame-description.children-visible.svelte-1aphj50%20.frame-triangle.svelte-1aphj50%7Bopacity%3A0%7D.frame-description.children-visible.svelte-1aphj50%3Ahover%20.frame-triangle.svelte-1aphj50%7Bopacity%3A1%7D.name.svelte-1aphj50.svelte-1aphj50%2C.time.svelte-1aphj50.svelte-1aphj50%2C.code-position.svelte-1aphj50.svelte-1aphj50%7Buser-select%3Atext%3Bcursor%3Adefault%7D.application-code.svelte-1aphj50%20.name.svelte-1aphj50%7Bcolor%3A%235db3ff%7D.time.svelte-1aphj50.svelte-1aphj50%7Bmargin-right%3A.55em%3Bcolor%3A%23b8e98685%7D.code-position.svelte-1aphj50.svelte-1aphj50%7Bcolor%3A%23ffffff80%3Btext-align%3Aright%3Bmargin-left%3A1em%7D.visual-guide%7Btop%3A21px%3Bbottom%3A0%3Bleft%3A0%3Bwidth%3A2px%3Bbackground-color%3A%23fff%3Bposition%3Aabsolute%3Bopacity%3A.08%7D.frame-description%3Ahover~.visual-guide%7Bopacity%3A.4%7D.frame-description%3Ahover~.children%20.visual-guide%7Bopacity%3A.1%7D.app.svelte-1gm5pcf.svelte-1gm5pcf%7Bfont-family%3ASource%20Sans%20Pro%2CHelvetica%2CArial%2Csans-serif%3B-webkit-font-smoothing%3Aantialiased%3B-moz-osx-font-smoothing%3Agrayscale%7D.program.svelte-1gm5pcf.svelte-1gm5pcf%7Bfont-size%3A14px%3Bfont-weight%3A600%3Bmargin-bottom%3A16px%3Bcolor%3A%23b4b4b4%7D.program.svelte-1gm5pcf%20.label.svelte-1gm5pcf%7Bcolor%3A%23eaeaea%3Btext-transform%3Auppercase%7D%0A%3C/style%3E%0A%0A%20%20%20%20%20%20%20%20%20%20%20%20%20%20%20%20%3Cscript%3E%0A%20%20%20%20%20%20%20%20%20%20%20%20%20%20%20%20%20%20%20%20const%20sessionData%20%3D%20%7B%22start_time%22%3A%201719427881.634144%2C%22duration%22%3A%200.057446%2C%22sample_count%22%3A%2041%2C%22program%22%3A%20%22/home/haoyu/.conda/envs/ccc/lib/python3.9/site-packages/ipykernel_launcher.py%20-f%20/home/haoyu/.local/share/jupyter/runtime/kernel-76f1e206-b6a7-40f2-8d7f-4e421d5c241e.json%22%2C%22cpu_time%22%3A%200.061088%2C%22root_frame%22%3A%20%7B%22function%22%3A%20%22%3Ccell%20line%3A%202%3E%22%2C%22file_path_short%22%3A%20%22../../../tmp/ipykernel_359614/2991494264.py%22%2C%22file_path%22%3A%20%22/tmp/ipykernel_359614/2991494264.py%22%2C%22line_no%22%3A%202%2C%22time%22%3A%200.056624%2C%22await_time%22%3A%200.000000%2C%22is_application_code%22%3A%20true%2C%22children%22%3A%20%5B%7B%22function%22%3A%20%22func%22%2C%22file_path_short%22%3A%20%22../../../tmp/ipykernel_359614/2661685993.py%22%2C%22file_path%22%3A%20%22/tmp/ipykernel_359614/2661685993.py%22%2C%22line_no%22%3A%201%2C%22time%22%3A%200.056624%2C%22await_time%22%3A%200.000000%2C%22is_application_code%22%3A%20true%2C%22children%22%3A%20%5B%7B%22function%22%3A%20%22ccc%22%2C%22file_path_short%22%3A%20%22ccc/coef/impl.py%22%2C%22file_path%22%3A%20%22/home/haoyu/_database/projs/ccc-gpu/libs/ccc/coef/impl.py%22%2C%22line_no%22%3A%20308%2C%22time%22%3A%200.056624%2C%22await_time%22%3A%200.000000%2C%22is_application_code%22%3A%20true%2C%22children%22%3A%20%5B%7B%22function%22%3A%20%22compute_coef%22%2C%22file_path_short%22%3A%20%22ccc/coef/impl.py%22%2C%22file_path%22%3A%20%22/home/haoyu/_database/projs/ccc-gpu/libs/ccc/coef/impl.py%22%2C%22line_no%22%3A%20493%2C%22time%22%3A%200.039661%2C%22await_time%22%3A%200.000000%2C%22is_application_code%22%3A%20true%2C%22children%22%3A%20%5B%7B%22function%22%3A%20%22cdist_func%22%2C%22file_path_short%22%3A%20%22ccc/coef/impl.py%22%2C%22file_path%22%3A%20%22/home/haoyu/_database/projs/ccc-gpu/libs/ccc/coef/impl.py%22%2C%22line_no%22%3A%20486%2C%22time%22%3A%200.039661%2C%22await_time%22%3A%200.000000%2C%22is_application_code%22%3A%20true%2C%22children%22%3A%20%5B%7B%22function%22%3A%20%22cdist_parts_parallel%22%2C%22file_path_short%22%3A%20%22ccc/coef/impl.py%22%2C%22file_path%22%3A%20%22/home/haoyu/_database/projs/ccc-gpu/libs/ccc/coef/impl.py%22%2C%22line_no%22%3A%20193%2C%22time%22%3A%200.039661%2C%22await_time%22%3A%200.000000%2C%22is_application_code%22%3A%20true%2C%22children%22%3A%20%5B%7B%22function%22%3A%20%22as_completed%22%2C%22file_path_short%22%3A%20%22concurrent/futures/_base.py%22%2C%22file_path%22%3A%20%22/home/haoyu/.conda/envs/ccc/lib/python3.9/concurrent/futures/_base.py%22%2C%22line_no%22%3A%20201%2C%22time%22%3A%200.039661%2C%22await_time%22%3A%200.000000%2C%22is_application_code%22%3A%20false%2C%22children%22%3A%20%5B%7B%22function%22%3A%20%22wait%22%2C%22file_path_short%22%3A%20%22threading.py%22%2C%22file_path%22%3A%20%22/home/haoyu/.conda/envs/ccc/lib/python3.9/threading.py%22%2C%22line_no%22%3A%20563%2C%22time%22%3A%200.039661%2C%22await_time%22%3A%200.000000%2C%22is_application_code%22%3A%20false%2C%22children%22%3A%20%5B%7B%22function%22%3A%20%22wait%22%2C%22file_path_short%22%3A%20%22threading.py%22%2C%22file_path%22%3A%20%22/home/haoyu/.conda/envs/ccc/lib/python3.9/threading.py%22%2C%22line_no%22%3A%20280%2C%22time%22%3A%200.039661%2C%22await_time%22%3A%200.000000%2C%22is_application_code%22%3A%20false%2C%22children%22%3A%20%5B%7B%22function%22%3A%20%22lock.acquire%22%2C%22file_path_short%22%3A%20%22%3Cbuilt-in%3E%22%2C%22file_path%22%3A%20%22%3Cbuilt-in%3E%22%2C%22line_no%22%3A%200%2C%22time%22%3A%200.038663%2C%22await_time%22%3A%200.000000%2C%22is_application_code%22%3A%20false%2C%22children%22%3A%20%5B%5D%2C%22group_id%22%3A%20%22a8b3b3b9-08fd-41ac-933f-a8e94f5160b2%22%7D%2C%7B%22function%22%3A%20%22_release_save%22%2C%22file_path_short%22%3A%20%22threading.py%22%2C%22file_path%22%3A%20%22/home/haoyu/.conda/envs/ccc/lib/python3.9/threading.py%22%2C%22line_no%22%3A%20265%2C%22time%22%3A%200.000998%2C%22await_time%22%3A%200.000000%2C%22is_application_code%22%3A%20false%2C%22children%22%3A%20%5B%5D%2C%22group_id%22%3A%20%22a8b3b3b9-08fd-41ac-933f-a8e94f5160b2%22%2C%22class_name%22%3A%20%22Condition%22%7D%5D%2C%22group_id%22%3A%20%22a8b3b3b9-08fd-41ac-933f-a8e94f5160b2%22%2C%22class_name%22%3A%20%22Condition%22%7D%5D%2C%22group_id%22%3A%20%22a8b3b3b9-08fd-41ac-933f-a8e94f5160b2%22%2C%22class_name%22%3A%20%22Event%22%7D%5D%2C%22group_id%22%3A%20%22a8b3b3b9-08fd-41ac-933f-a8e94f5160b2%22%7D%5D%7D%5D%7D%5D%7D%2C%7B%22function%22%3A%20%22result_iterator%22%2C%22file_path_short%22%3A%20%22concurrent/futures/_base.py%22%2C%22file_path%22%3A%20%22/home/haoyu/.conda/envs/ccc/lib/python3.9/concurrent/futures/_base.py%22%2C%22line_no%22%3A%20602%2C%22time%22%3A%200.016962%2C%22await_time%22%3A%200.000000%2C%22is_application_code%22%3A%20false%2C%22children%22%3A%20%5B%7B%22function%22%3A%20%22result%22%2C%22file_path_short%22%3A%20%22concurrent/futures/_base.py%22%2C%22file_path%22%3A%20%22/home/haoyu/.conda/envs/ccc/lib/python3.9/concurrent/futures/_base.py%22%2C%22line_no%22%3A%20418%2C%22time%22%3A%200.016962%2C%22await_time%22%3A%200.000000%2C%22is_application_code%22%3A%20false%2C%22children%22%3A%20%5B%7B%22function%22%3A%20%22wait%22%2C%22file_path_short%22%3A%20%22threading.py%22%2C%22file_path%22%3A%20%22/home/haoyu/.conda/envs/ccc/lib/python3.9/threading.py%22%2C%22line_no%22%3A%20280%2C%22time%22%3A%200.016962%2C%22await_time%22%3A%200.000000%2C%22is_application_code%22%3A%20false%2C%22children%22%3A%20%5B%7B%22function%22%3A%20%22lock.acquire%22%2C%22file_path_short%22%3A%20%22%3Cbuilt-in%3E%22%2C%22file_path%22%3A%20%22%3Cbuilt-in%3E%22%2C%22line_no%22%3A%200%2C%22time%22%3A%200.016962%2C%22await_time%22%3A%200.000000%2C%22is_application_code%22%3A%20false%2C%22children%22%3A%20%5B%5D%2C%22group_id%22%3A%20%22b4a3fb2f-91a0-4610-903e-6ccb698c7d07%22%7D%5D%2C%22group_id%22%3A%20%22b4a3fb2f-91a0-4610-903e-6ccb698c7d07%22%2C%22class_name%22%3A%20%22Condition%22%7D%5D%2C%22group_id%22%3A%20%22b4a3fb2f-91a0-4610-903e-6ccb698c7d07%22%2C%22class_name%22%3A%20%22Future%22%7D%5D%2C%22group_id%22%3A%20%22b4a3fb2f-91a0-4610-903e-6ccb698c7d07%22%7D%5D%7D%5D%7D%5D%7D%7D%0A%3B%0A%20%20%20%20%20%20%20%20%20%20%20%20%20%20%20%20%20%20%20%20pyinstrumentHTMLRenderer.render%28document.getElementById%28%27app%27%29%2C%20sessionData%29%3B%0A%20%20%20%20%20%20%20%20%20%20%20%20%20%20%20%20%3C/script%3E%0A%20%20%20%20%20%20%20%20%20%20%20%20%3C/body%3E%0A%20%20%20%20%20%20%20%20%20%20%20%20%3C/html%3E%0A%20%20%20%20%20%20%20%20\"\n",
       "            frameborder=\"0\"\n",
       "            allowfullscreen\n",
       "            style=\"resize: vertical\"\n",
       "        ></iframe>\n",
       "        "
      ],
      "text/plain": [
       "\n",
       "  _     ._   __/__   _ _  _  _ _/_   Recorded: 12:51:21  Samples:  41\n",
       " /_//_/// /_\\ / //_// / //_'/ //     Duration: 0.057     CPU time: 0.061\n",
       "/   _/                      v4.6.2\n",
       "\n",
       "Program: /home/haoyu/.conda/envs/ccc/lib/python3.9/site-packages/ipykernel_launcher.py -f /home/haoyu/.local/share/jupyter/runtime/kernel-76f1e206-b6a7-40f2-8d7f-4e421d5c241e.json\n",
       "\n",
       "0.057 <cell line: 2>  ../../../tmp/ipykernel_359614/2991494264.py:2\n",
       "`- 0.057 func  ../../../tmp/ipykernel_359614/2661685993.py:1\n",
       "   `- 0.057 ccc  ccc/coef/impl.py:308\n",
       "      |- 0.040 compute_coef  ccc/coef/impl.py:493\n",
       "      |  `- 0.040 cdist_func  ccc/coef/impl.py:486\n",
       "      |     `- 0.040 cdist_parts_parallel  ccc/coef/impl.py:193\n",
       "      |        `- 0.040 as_completed  concurrent/futures/_base.py:201\n",
       "      |              [5 frames hidden]  concurrent, threading, <built-in>\n",
       "      |                 0.039 lock.acquire  <built-in>\n",
       "      `- 0.017 result_iterator  concurrent/futures/_base.py:602\n",
       "            [4 frames hidden]  concurrent, threading, <built-in>\n",
       "               0.017 lock.acquire  <built-in>\n",
       "\n"
      ]
     },
     "metadata": {},
     "output_type": "display_data"
    }
   ],
   "source": [
    "%%pyinstrument\n",
    "func()"
   ]
  },
  {
   "cell_type": "markdown",
   "id": "f6b9adcf-1da4-4496-b05f-47952fd80d7f",
   "metadata": {
    "papermill": {
     "duration": 0.099861,
     "end_time": "2021-12-02T04:34:51.394504",
     "exception": false,
     "start_time": "2021-12-02T04:34:51.294643",
     "status": "completed"
    },
    "tags": []
   },
   "source": [
    "# Run with `n_samples` large"
   ]
  },
  {
   "cell_type": "markdown",
   "id": "8f2e407c",
   "metadata": {
    "papermill": {
     "duration": 0.098767,
     "end_time": "2021-12-02T04:34:51.593072",
     "exception": false,
     "start_time": "2021-12-02T04:34:51.494305",
     "status": "completed"
    },
    "tags": []
   },
   "source": [
    "## `n_samples=50000`"
   ]
  },
  {
   "cell_type": "code",
   "execution_count": 26,
   "id": "c522396e",
   "metadata": {
    "execution": {
     "iopub.execute_input": "2021-12-02T04:34:51.793258Z",
     "iopub.status.busy": "2021-12-02T04:34:51.792385Z",
     "iopub.status.idle": "2021-12-02T04:34:51.794710Z",
     "shell.execute_reply": "2021-12-02T04:34:51.795054Z"
    },
    "papermill": {
     "duration": 0.103749,
     "end_time": "2021-12-02T04:34:51.795172",
     "exception": false,
     "start_time": "2021-12-02T04:34:51.691423",
     "status": "completed"
    },
    "tags": []
   },
   "outputs": [],
   "source": [
    "N_SAMPLES = 50000"
   ]
  },
  {
   "cell_type": "code",
   "execution_count": 27,
   "id": "a5e536cc",
   "metadata": {
    "execution": {
     "iopub.execute_input": "2021-12-02T04:34:51.996666Z",
     "iopub.status.busy": "2021-12-02T04:34:51.996120Z",
     "iopub.status.idle": "2021-12-02T04:34:51.999329Z",
     "shell.execute_reply": "2021-12-02T04:34:51.998896Z"
    },
    "papermill": {
     "duration": 0.104554,
     "end_time": "2021-12-02T04:34:51.999423",
     "exception": false,
     "start_time": "2021-12-02T04:34:51.894869",
     "status": "completed"
    },
    "tags": []
   },
   "outputs": [],
   "source": [
    "x = np.random.rand(N_SAMPLES)\n",
    "y = np.random.rand(N_SAMPLES)"
   ]
  },
  {
   "cell_type": "code",
   "execution_count": 28,
   "id": "91470f64",
   "metadata": {
    "execution": {
     "iopub.execute_input": "2021-12-02T04:34:52.408864Z",
     "iopub.status.busy": "2021-12-02T04:34:52.408310Z",
     "iopub.status.idle": "2021-12-02T04:35:28.383597Z",
     "shell.execute_reply": "2021-12-02T04:35:28.384010Z"
    },
    "papermill": {
     "duration": 36.078113,
     "end_time": "2021-12-02T04:35:28.384125",
     "exception": false,
     "start_time": "2021-12-02T04:34:52.306012",
     "status": "completed"
    },
    "tags": []
   },
   "outputs": [
    {
     "name": "stdout",
     "output_type": "stream",
     "text": [
      "2.99 s ± 12.1 ms per loop (mean ± std. dev. of 7 runs, 1 loop each)\n"
     ]
    }
   ],
   "source": [
    "%%timeit func()\n",
    "func()"
   ]
  },
  {
   "cell_type": "code",
   "execution_count": 29,
   "id": "4de4e0b0",
   "metadata": {
    "execution": {
     "iopub.execute_input": "2021-12-02T04:35:28.594907Z",
     "iopub.status.busy": "2021-12-02T04:35:28.594395Z",
     "iopub.status.idle": "2021-12-02T04:35:30.850079Z",
     "shell.execute_reply": "2021-12-02T04:35:30.850466Z"
    },
    "papermill": {
     "duration": 2.36055,
     "end_time": "2021-12-02T04:35:30.850581",
     "exception": false,
     "start_time": "2021-12-02T04:35:28.490031",
     "status": "completed"
    },
    "tags": []
   },
   "outputs": [
    {
     "data": {
      "text/html": [
       "\n",
       "        <iframe\n",
       "            width=\"100%\"\n",
       "            height=\"400\"\n",
       "            src=\"data:text/html, %3C%21DOCTYPE%20html%3E%0A%20%20%20%20%20%20%20%20%20%20%20%20%3Chtml%3E%0A%20%20%20%20%20%20%20%20%20%20%20%20%3Chead%3E%0A%20%20%20%20%20%20%20%20%20%20%20%20%20%20%20%20%3Cmeta%20charset%3D%22utf-8%22%3E%0A%20%20%20%20%20%20%20%20%20%20%20%20%3C/head%3E%0A%20%20%20%20%20%20%20%20%20%20%20%20%3Cbody%3E%0A%20%20%20%20%20%20%20%20%20%20%20%20%20%20%20%20%3Cdiv%20id%3D%22app%22%3E%3C/div%3E%0A%0A%20%20%20%20%20%20%20%20%20%20%20%20%20%20%20%20%3Cscript%3Evar%20pyinstrumentHTMLRenderer%3Dfunction%28%29%7B%22use%20strict%22%3Bvar%20ct%3DObject.defineProperty%3Bvar%20dt%3D%28R%2CC%2CH%29%3D%3EC%20in%20R%3Fct%28R%2CC%2C%7Benumerable%3A%210%2Cconfigurable%3A%210%2Cwritable%3A%210%2Cvalue%3AH%7D%29%3AR%5BC%5D%3DH%3Bvar%20k%3D%28R%2CC%2CH%29%3D%3E%28dt%28R%2Ctypeof%20C%21%3D%22symbol%22%3FC%2B%22%22%3AC%2CH%29%2CH%29%3Bconst%20R%3D%22%22%3Bfunction%20C%28%29%7B%7Dfunction%20H%28t%29%7Breturn%20t%28%29%7Dfunction%20we%28%29%7Breturn%20Object.create%28null%29%7Dfunction%20O%28t%29%7Bt.forEach%28H%29%7Dfunction%20be%28t%29%7Breturn%20typeof%20t%3D%3D%22function%22%7Dfunction%20K%28t%2Ce%29%7Breturn%20t%21%3Dt%3Fe%3D%3De%3At%21%3D%3De%7C%7Ct%26%26typeof%20t%3D%3D%22object%22%7C%7Ctypeof%20t%3D%3D%22function%22%7Dfunction%20Ie%28t%29%7Breturn%20Object.keys%28t%29.length%3D%3D%3D0%7Dfunction%20Re%28t%2C...e%29%7Bif%28t%3D%3Dnull%29return%20C%3Bconst%20i%3Dt.subscribe%28...e%29%3Breturn%20i.unsubscribe%3F%28%29%3D%3Ei.unsubscribe%28%29%3Ai%7Dfunction%20se%28t%2Ce%2Ci%29%7Bt.%24%24.on_destroy.push%28Re%28e%2Ci%29%29%7Dfunction%20f%28t%2Ce%29%7Bt.appendChild%28e%29%7Dfunction%20X%28t%2Ce%2Ci%29%7Bt.insertBefore%28e%2Ci%7C%7Cnull%29%7Dfunction%20N%28t%29%7Bt.parentNode%26%26t.parentNode.removeChild%28t%29%7Dfunction%20_%28t%29%7Breturn%20document.createElement%28t%29%7Dfunction%20ke%28t%29%7Breturn%20document.createElementNS%28%22http%3A//www.w3.org/2000/svg%22%2Ct%29%7Dfunction%20L%28t%29%7Breturn%20document.createTextNode%28t%29%7Dfunction%20w%28%29%7Breturn%20L%28%22%20%22%29%7Dfunction%20ye%28%29%7Breturn%20L%28%22%22%29%7Dfunction%20W%28t%2Ce%2Ci%2Cn%29%7Breturn%20t.addEventListener%28e%2Ci%2Cn%29%2C%28%29%3D%3Et.removeEventListener%28e%2Ci%2Cn%29%7Dfunction%20Ce%28t%29%7Breturn%20function%28e%29%7Breturn%20e.preventDefault%28%29%2Ct.call%28this%2Ce%29%7D%7Dfunction%20Ee%28t%29%7Breturn%20function%28e%29%7Breturn%20e.stopPropagation%28%29%2Ct.call%28this%2Ce%29%7D%7Dfunction%20m%28t%2Ce%2Ci%29%7Bi%3D%3Dnull%3Ft.removeAttribute%28e%29%3At.getAttribute%28e%29%21%3D%3Di%26%26t.setAttribute%28e%2Ci%29%7Dfunction%20Oe%28t%29%7Breturn%20Array.from%28t.childNodes%29%7Dfunction%20q%28t%2Ce%29%7Be%3D%22%22%2Be%2Ct.wholeText%21%3D%3De%26%26%28t.data%3De%29%7Dfunction%20T%28t%2Ce%2Ci%2Cn%29%7Bi%3D%3D%3Dnull%3Ft.style.removeProperty%28e%29%3At.style.setProperty%28e%2Ci%2Cn%3F%22important%22%3A%22%22%29%7Dfunction%20Q%28t%2Ce%2Ci%29%7Bt.classList%5Bi%3F%22add%22%3A%22remove%22%5D%28e%29%7Dlet%20V%3Bfunction%20Z%28t%29%7BV%3Dt%7Dfunction%20Te%28%29%7Bif%28%21V%29throw%20new%20Error%28%22Function%20called%20outside%20component%20initialization%22%29%3Breturn%20V%7Dfunction%20qe%28t%29%7BTe%28%29.%24%24.on_mount.push%28t%29%7Dfunction%20Ue%28t%29%7BTe%28%29.%24%24.on_destroy.push%28t%29%7Dconst%20Y%3D%5B%5D%2CFe%3D%5B%5D%2Cj%3D%5B%5D%2CSe%3D%5B%5D%2CVe%3DPromise.resolve%28%29%3Blet%20ae%3D%211%3Bfunction%20Ze%28%29%7Bae%7C%7C%28ae%3D%210%2CVe.then%28%24e%29%29%7Dfunction%20ue%28t%29%7Bj.push%28t%29%7Dconst%20fe%3Dnew%20Set%3Blet%20x%3D0%3Bfunction%20%24e%28%29%7Bconst%20t%3DV%3Bdo%7Bfor%28%3Bx%3CY.length%3B%29%7Bconst%20e%3DY%5Bx%5D%3Bx%2B%2B%2CZ%28e%29%2CYe%28e.%24%24%29%7Dfor%28Z%28null%29%2CY.length%3D0%2Cx%3D0%3BFe.length%3B%29Fe.pop%28%29%28%29%3Bfor%28let%20e%3D0%3Be%3Cj.length%3Be%2B%3D1%29%7Bconst%20i%3Dj%5Be%5D%3Bfe.has%28i%29%7C%7C%28fe.add%28i%29%2Ci%28%29%29%7Dj.length%3D0%7Dwhile%28Y.length%29%3Bfor%28%3BSe.length%3B%29Se.pop%28%29%28%29%3Bae%3D%211%2Cfe.clear%28%29%2CZ%28t%29%7Dfunction%20Ye%28t%29%7Bif%28t.fragment%21%3D%3Dnull%29%7Bt.update%28%29%2CO%28t.before_update%29%3Bconst%20e%3Dt.dirty%3Bt.dirty%3D%5B-1%5D%2Ct.fragment%26%26t.fragment.p%28t.ctx%2Ce%29%2Ct.after_update.forEach%28ue%29%7D%7Dconst%20ee%3Dnew%20Set%3Blet%20G%3Bfunction%20ce%28%29%7BG%3D%7Br%3A0%2Cc%3A%5B%5D%2Cp%3AG%7D%7Dfunction%20de%28%29%7BG.r%7C%7CO%28G.c%29%2CG%3DG.p%7Dfunction%20D%28t%2Ce%29%7Bt%26%26t.i%26%26%28ee.delete%28t%29%2Ct.i%28e%29%29%7Dfunction%20z%28t%2Ce%2Ci%2Cn%29%7Bif%28t%26%26t.o%29%7Bif%28ee.has%28t%29%29return%3Bee.add%28t%29%2CG.c.push%28%28%29%3D%3E%7Bee.delete%28t%29%2Cn%26%26%28i%26%26t.d%281%29%2Cn%28%29%29%7D%29%2Ct.o%28e%29%7Delse%20n%26%26n%28%29%7Dfunction%20Je%28t%2Ce%29%7Bz%28t%2C1%2C1%2C%28%29%3D%3E%7Be.delete%28t.key%29%7D%29%7Dfunction%20Ke%28t%2Ce%2Ci%2Cn%2Cs%2Cu%2Cr%2Co%2Ca%2Cl%2Ch%2Cp%29%7Blet%20d%3Dt.length%2Cg%3Du.length%2CA%3Dd%3Bconst%20b%3D%7B%7D%3Bfor%28%3BA--%3B%29b%5Bt%5BA%5D.key%5D%3DA%3Bconst%20F%3D%5B%5D%2Cc%3Dnew%20Map%2Cv%3Dnew%20Map%3Bfor%28A%3Dg%3BA--%3B%29%7Bconst%20y%3Dp%28s%2Cu%2CA%29%2CS%3Di%28y%29%3Blet%20P%3Dr.get%28S%29%3BP%3Fn%26%26P.p%28y%2Ce%29%3A%28P%3Dl%28S%2Cy%29%2CP.c%28%29%29%2Cc.set%28S%2CF%5BA%5D%3DP%29%2CS%20in%20b%26%26v.set%28S%2CMath.abs%28A-b%5BS%5D%29%29%7Dconst%20%24%3Dnew%20Set%2CM%3Dnew%20Set%3Bfunction%20E%28y%29%7BD%28y%2C1%29%2Cy.m%28o%2Ch%29%2Cr.set%28y.key%2Cy%29%2Ch%3Dy.first%2Cg--%7Dfor%28%3Bd%26%26g%3B%29%7Bconst%20y%3DF%5Bg-1%5D%2CS%3Dt%5Bd-1%5D%2CP%3Dy.key%2CB%3DS.key%3By%3D%3D%3DS%3F%28h%3Dy.first%2Cd--%2Cg--%29%3Ac.has%28B%29%3F%21r.has%28P%29%7C%7C%24.has%28P%29%3FE%28y%29%3AM.has%28B%29%3Fd--%3Av.get%28P%29%3Ev.get%28B%29%3F%28M.add%28P%29%2CE%28y%29%29%3A%28%24.add%28B%29%2Cd--%29%3A%28a%28S%2Cr%29%2Cd--%29%7Dfor%28%3Bd--%3B%29%7Bconst%20y%3Dt%5Bd%5D%3Bc.has%28y.key%29%7C%7Ca%28y%2Cr%29%7Dfor%28%3Bg%3B%29E%28F%5Bg-1%5D%29%3Breturn%20F%7Dfunction%20pe%28t%29%7Bt%26%26t.c%28%29%7Dfunction%20te%28t%2Ce%2Ci%2Cn%29%7Bconst%7Bfragment%3As%2Cafter_update%3Au%7D%3Dt.%24%24%3Bs%26%26s.m%28e%2Ci%29%2Cn%7C%7Cue%28%28%29%3D%3E%7Bconst%20r%3Dt.%24%24.on_mount.map%28H%29.filter%28be%29%3Bt.%24%24.on_destroy%3Ft.%24%24.on_destroy.push%28...r%29%3AO%28r%29%2Ct.%24%24.on_mount%3D%5B%5D%7D%29%2Cu.forEach%28ue%29%7Dfunction%20ie%28t%2Ce%29%7Bconst%20i%3Dt.%24%24%3Bi.fragment%21%3D%3Dnull%26%26%28O%28i.on_destroy%29%2Ci.fragment%26%26i.fragment.d%28e%29%2Ci.on_destroy%3Di.fragment%3Dnull%2Ci.ctx%3D%5B%5D%29%7Dfunction%20We%28t%2Ce%29%7Bt.%24%24.dirty%5B0%5D%3D%3D%3D-1%26%26%28Y.push%28t%29%2CZe%28%29%2Ct.%24%24.dirty.fill%280%29%29%2Ct.%24%24.dirty%5Be/31%7C0%5D%7C%3D1%3C%3Ce%2531%7Dfunction%20me%28t%2Ce%2Ci%2Cn%2Cs%2Cu%2Cr%2Co%3D%5B-1%5D%29%7Bconst%20a%3DV%3BZ%28t%29%3Bconst%20l%3Dt.%24%24%3D%7Bfragment%3Anull%2Cctx%3A%5B%5D%2Cprops%3Au%2Cupdate%3AC%2Cnot_equal%3As%2Cbound%3Awe%28%29%2Con_mount%3A%5B%5D%2Con_destroy%3A%5B%5D%2Con_disconnect%3A%5B%5D%2Cbefore_update%3A%5B%5D%2Cafter_update%3A%5B%5D%2Ccontext%3Anew%20Map%28e.context%7C%7C%28a%3Fa.%24%24.context%3A%5B%5D%29%29%2Ccallbacks%3Awe%28%29%2Cdirty%3Ao%2Cskip_bound%3A%211%2Croot%3Ae.target%7C%7Ca.%24%24.root%7D%3Br%26%26r%28l.root%29%3Blet%20h%3D%211%3Bif%28l.ctx%3Di%3Fi%28t%2Ce.props%7C%7C%7B%7D%2C%28p%2Cd%2C...g%29%3D%3E%7Bconst%20A%3Dg.length%3Fg%5B0%5D%3Ad%3Breturn%20l.ctx%26%26s%28l.ctx%5Bp%5D%2Cl.ctx%5Bp%5D%3DA%29%26%26%28%21l.skip_bound%26%26l.bound%5Bp%5D%26%26l.bound%5Bp%5D%28A%29%2Ch%26%26We%28t%2Cp%29%29%2Cd%7D%29%3A%5B%5D%2Cl.update%28%29%2Ch%3D%210%2CO%28l.before_update%29%2Cl.fragment%3Dn%3Fn%28l.ctx%29%3A%211%2Ce.target%29%7Bif%28e.hydrate%29%7Bconst%20p%3DOe%28e.target%29%3Bl.fragment%26%26l.fragment.l%28p%29%2Cp.forEach%28N%29%7Delse%20l.fragment%26%26l.fragment.c%28%29%3Be.intro%26%26D%28t.%24%24.fragment%29%2Cte%28t%2Ce.target%2Ce.anchor%2Ce.customElement%29%2C%24e%28%29%7DZ%28a%29%7Dclass%20he%7B%24destroy%28%29%7Bie%28this%2C1%29%2Cthis.%24destroy%3DC%7D%24on%28e%2Ci%29%7Bif%28%21be%28i%29%29return%20C%3Bconst%20n%3Dthis.%24%24.callbacks%5Be%5D%7C%7C%28this.%24%24.callbacks%5Be%5D%3D%5B%5D%29%3Breturn%20n.push%28i%29%2C%28%29%3D%3E%7Bconst%20s%3Dn.indexOf%28i%29%3Bs%21%3D%3D-1%26%26n.splice%28s%2C1%29%7D%7D%24set%28e%29%7Bthis.%24%24set%26%26%21Ie%28e%29%26%26%28this.%24%24.skip_bound%3D%210%2Cthis.%24%24set%28e%29%2Cthis.%24%24.skip_bound%3D%211%29%7D%7Dconst%20U%3D%5B%5D%3Bfunction%20Pe%28t%2Ce%3DC%29%7Blet%20i%3Bconst%20n%3Dnew%20Set%3Bfunction%20s%28o%29%7Bif%28K%28t%2Co%29%26%26%28t%3Do%2Ci%29%29%7Bconst%20a%3D%21U.length%3Bfor%28const%20l%20of%20n%29l%5B1%5D%28%29%2CU.push%28l%2Ct%29%3Bif%28a%29%7Bfor%28let%20l%3D0%3Bl%3CU.length%3Bl%2B%3D2%29U%5Bl%5D%5B0%5D%28U%5Bl%2B1%5D%29%3BU.length%3D0%7D%7D%7Dfunction%20u%28o%29%7Bs%28o%28t%29%29%7Dfunction%20r%28o%2Ca%3DC%29%7Bconst%20l%3D%5Bo%2Ca%5D%3Breturn%20n.add%28l%29%2Cn.size%3D%3D%3D1%26%26%28i%3De%28s%29%7C%7CC%29%2Co%28t%29%2C%28%29%3D%3E%7Bn.delete%28l%29%2Cn.size%3D%3D%3D0%26%26%28i%28%29%2Ci%3Dnull%29%7D%7Dreturn%7Bset%3As%2Cupdate%3Au%2Csubscribe%3Ar%7D%7Dconst%20De%3DPe%28%7B%7D%29%2Cne%3DPe%28%22absolute%22%29%2Cpt%3D%22%22%3Bfunction%20je%28t%29%7Blet%20e%2Ci%2Cn%2Cs%2Cu%2Cr%2Co%2Ca%2Cl%2Ch%2Cp%2Cd%2Cg%2CA%2Cb%2CF%2Cc%2Cv%2C%24%2CM%2CE%2Cy%2CS%2CP%2CB%2Cre%3Dt%5B0%5D.sampleCount%2B%22%22%2Cve%2CXe%2Cle%2CQe%2Coe%2CAe%2CGe%3Breturn%7Bc%28%29%7Be%3D_%28%22div%22%29%2Ci%3D_%28%22div%22%29%2Cn%3D_%28%22div%22%29%2Cs%3D_%28%22div%22%29%2Cs.textContent%3D%22pyinstrument%22%2Cu%3Dw%28%29%2Cr%3D_%28%22div%22%29%2Co%3D_%28%22label%22%29%2Co.textContent%3D%22Absolute%20time%22%2Ca%3Dw%28%29%2Cl%3D_%28%22input%22%29%2Ch%3Dw%28%29%2Cp%3D_%28%22div%22%29%2Cp.textContent%3D%22Recorded%3A%22%2Cd%3Dw%28%29%2Cg%3D_%28%22div%22%29%2Cg.textContent%3D%60%24%7Bt%5B2%5D%7D%60%2CA%3Dw%28%29%2Cb%3D_%28%22div%22%29%2Cb.textContent%3D%22Duration%3A%22%2CF%3Dw%28%29%2Cc%3D_%28%22div%22%29%2Cc.textContent%3D%60%24%7Bt%5B4%5D%7D%20seconds%60%2Cv%3Dw%28%29%2C%24%3D_%28%22label%22%29%2C%24.textContent%3D%22Proportional%20time%22%2CM%3Dw%28%29%2CE%3D_%28%22input%22%29%2Cy%3Dw%28%29%2CS%3D_%28%22div%22%29%2CS.textContent%3D%22Samples%3A%22%2CP%3Dw%28%29%2CB%3D_%28%22div%22%29%2Cve%3DL%28re%29%2CXe%3Dw%28%29%2Cle%3D_%28%22div%22%29%2Cle.textContent%3D%22CPU%20time%3A%22%2CQe%3Dw%28%29%2Coe%3D_%28%22div%22%29%2Coe.textContent%3D%60%24%7Bt%5B3%5D%7D%20seconds%60%2Cm%28s%2C%22class%22%2C%22title%20svelte-tewt95%22%29%2Cm%28o%2C%22class%22%2C%22metric-label%20svelte-tewt95%22%29%2Cm%28o%2C%22for%22%2C%22absolute%22%29%2Cm%28l%2C%22type%22%2C%22radio%22%29%2Cl.__value%3D%22absolute%22%2Cl.value%3Dl.__value%2Cm%28l%2C%22id%22%2C%22absolute%22%29%2Cm%28l%2C%22name%22%2C%22time-format%22%29%2Cl.checked%3D%210%2Ct%5B6%5D%5B0%5D.push%28l%29%2Cm%28p%2C%22class%22%2C%22metric-label%20svelte-tewt95%22%29%2Cm%28g%2C%22class%22%2C%22metric-value%20svelte-tewt95%22%29%2Cm%28b%2C%22class%22%2C%22metric-label%20svelte-tewt95%22%29%2Cm%28c%2C%22class%22%2C%22metric-value%20svelte-tewt95%22%29%2Cm%28%24%2C%22class%22%2C%22metric-label%20svelte-tewt95%22%29%2Cm%28%24%2C%22for%22%2C%22proportion%22%29%2Cm%28E%2C%22type%22%2C%22radio%22%29%2CE.__value%3D%22proportion%22%2CE.value%3DE.__value%2Cm%28E%2C%22id%22%2C%22proportion%22%29%2Cm%28E%2C%22name%22%2C%22time-format%22%29%2Ct%5B6%5D%5B0%5D.push%28E%29%2Cm%28S%2C%22class%22%2C%22metric-label%20svelte-tewt95%22%29%2Cm%28B%2C%22class%22%2C%22metric-value%20svelte-tewt95%22%29%2Cm%28le%2C%22class%22%2C%22metric-label%20svelte-tewt95%22%29%2Cm%28oe%2C%22class%22%2C%22metric-value%20svelte-tewt95%22%29%2Cm%28r%2C%22class%22%2C%22metrics%20svelte-tewt95%22%29%2Cm%28n%2C%22class%22%2C%22row%20svelte-tewt95%22%29%2Cm%28i%2C%22class%22%2C%22margins%22%29%2Cm%28e%2C%22class%22%2C%22header%20svelte-tewt95%22%29%7D%2Cm%28I%2CJ%29%7BX%28I%2Ce%2CJ%29%2Cf%28e%2Ci%29%2Cf%28i%2Cn%29%2Cf%28n%2Cs%29%2Cf%28n%2Cu%29%2Cf%28n%2Cr%29%2Cf%28r%2Co%29%2Cf%28r%2Ca%29%2Cf%28r%2Cl%29%2Cl.checked%3Dl.__value%3D%3D%3Dt%5B1%5D%2Cf%28r%2Ch%29%2Cf%28r%2Cp%29%2Cf%28r%2Cd%29%2Cf%28r%2Cg%29%2Cf%28r%2CA%29%2Cf%28r%2Cb%29%2Cf%28r%2CF%29%2Cf%28r%2Cc%29%2Cf%28r%2Cv%29%2Cf%28r%2C%24%29%2Cf%28r%2CM%29%2Cf%28r%2CE%29%2CE.checked%3DE.__value%3D%3D%3Dt%5B1%5D%2Cf%28r%2Cy%29%2Cf%28r%2CS%29%2Cf%28r%2CP%29%2Cf%28r%2CB%29%2Cf%28B%2Cve%29%2Cf%28r%2CXe%29%2Cf%28r%2Cle%29%2Cf%28r%2CQe%29%2Cf%28r%2Coe%29%2CAe%7C%7C%28Ge%3D%5BW%28l%2C%22change%22%2Ct%5B5%5D%29%2CW%28E%2C%22change%22%2Ct%5B7%5D%29%5D%2CAe%3D%210%29%7D%2Cp%28I%2C%5BJ%5D%29%7BJ%262%26%26%28l.checked%3Dl.__value%3D%3D%3DI%5B1%5D%29%2CJ%262%26%26%28E.checked%3DE.__value%3D%3D%3DI%5B1%5D%29%2CJ%261%26%26re%21%3D%3D%28re%3DI%5B0%5D.sampleCount%2B%22%22%29%26%26q%28ve%2Cre%29%7D%2Ci%3AC%2Co%3AC%2Cd%28I%29%7BI%26%26N%28e%29%2Ct%5B6%5D%5B0%5D.splice%28t%5B6%5D%5B0%5D.indexOf%28l%29%2C1%29%2Ct%5B6%5D%5B0%5D.splice%28t%5B6%5D%5B0%5D.indexOf%28E%29%2C1%29%2CAe%3D%211%2CO%28Ge%29%7D%7D%7Dfunction%20xe%28t%2Ce%2Ci%29%7Bvar%20p%3Blet%20n%3Bse%28t%2Cne%2Cd%3D%3Ei%281%2Cn%3Dd%29%29%3Blet%7Bsession%3As%7D%3De%3Bconst%20u%3Dnew%20Date%28s.startTime%2A1e3%29.toLocaleString%28%29%2Cr%3D%28p%3Ds.cpuTime%29%3D%3Dnull%3Fvoid%200%3Ap.toLocaleString%28void%200%2C%7BmaximumSignificantDigits%3A3%7D%29%2Co%3Ds.duration.toLocaleString%28void%200%2C%7BmaximumSignificantDigits%3A3%7D%29%2Ca%3D%5B%5B%5D%5D%3Bfunction%20l%28%29%7Bn%3Dthis.__value%2Cne.set%28n%29%7Dfunction%20h%28%29%7Bn%3Dthis.__value%2Cne.set%28n%29%7Dreturn%20t.%24%24set%3Dd%3D%3E%7B%22session%22in%20d%26%26i%280%2Cs%3Dd.session%29%7D%2C%5Bs%2Cn%2Cu%2Cr%2Co%2Cl%2Ca%2Ch%5D%7Dclass%20et%20extends%20he%7Bconstructor%28e%29%7Bsuper%28%29%2Cme%28this%2Ce%2Cxe%2Cje%2CK%2C%7Bsession%3A0%7D%29%7D%7Dconst%20mt%3D%22%22%3Bfunction%20Me%28t%2Ce%2Ci%29%7Bconst%20n%3Dt.slice%28%29%3Breturn%20n%5B14%5D%3De%5Bi%5D%2Cn%7Dfunction%20Le%28t%29%7Blet%20e%2Ci%2Cn%2Cs%2Cu%2Cr%2Co%2Ca%2Cl%2Ch%2Cp%2Cd%2Cg%2CA%2Cb%2CF%3Breturn%7Bc%28%29%7Be%3D_%28%22div%22%29%2Ci%3D_%28%22div%22%29%2Cn%3Dke%28%22svg%22%29%2Cs%3Dke%28%22path%22%29%2Cu%3Dw%28%29%2Cr%3D_%28%22div%22%29%2Co%3DL%28t%5B5%5D%29%2Ca%3Dw%28%29%2Cl%3D_%28%22div%22%29%2Ch%3DL%28t%5B4%5D%29%2Cp%3Dw%28%29%2Cd%3D_%28%22div%22%29%2Cg%3Dw%28%29%2CA%3D_%28%22div%22%29%2CA.textContent%3D%60%24%7Bt%5B9%5D%7D%60%2Cm%28s%2C%22d%22%2C%22M.937-.016L5.793%204.84.937%209.696z%22%29%2Cm%28s%2C%22fill%22%2Ct%5B7%5D%29%2Cm%28s%2C%22fill-rule%22%2C%22evenodd%22%29%2Cm%28s%2C%22fill-opacity%22%2C%22.582%22%29%2Cm%28n%2C%22width%22%2C%226%22%29%2Cm%28n%2C%22height%22%2C%2210%22%29%2Cm%28i%2C%22class%22%2C%22frame-triangle%20svelte-1aphj50%22%29%2CQ%28i%2C%22rotate%22%2Ct%5B2%5D%29%2CT%28i%2C%22visibility%22%2Ct%5B0%5D.children.length%3E0%3F%22visible%22%3A%22hidden%22%29%2Cm%28r%2C%22class%22%2C%22time%20svelte-1aphj50%22%29%2CT%28r%2C%22color%22%2Ct%5B7%5D%29%2CT%28r%2C%22font-weight%22%2Ct%5B0%5D.proportionOfTotal%3C.2%3F500%3A600%29%2Cm%28l%2C%22class%22%2C%22name%20svelte-1aphj50%22%29%2Cm%28d%2C%22class%22%2C%22spacer%22%29%2CT%28d%2C%22flex%22%2C%221%22%29%2Cm%28A%2C%22class%22%2C%22code-position%20svelte-1aphj50%22%29%2Cm%28e%2C%22class%22%2C%22frame-description%20svelte-1aphj50%22%29%2CQ%28e%2C%22application-code%22%2Ct%5B0%5D.isApplicationCode%29%2CQ%28e%2C%22children-visible%22%2Ct%5B2%5D%29%2CT%28e%2C%22padding-left%22%2C%60%24%7Bt%5B1%5D%2A35%7Dpx%60%29%7D%2Cm%28c%2Cv%29%7BX%28c%2Ce%2Cv%29%2Cf%28e%2Ci%29%2Cf%28i%2Cn%29%2Cf%28n%2Cs%29%2Cf%28e%2Cu%29%2Cf%28e%2Cr%29%2Cf%28r%2Co%29%2Cf%28e%2Ca%29%2Cf%28e%2Cl%29%2Cf%28l%2Ch%29%2Cf%28e%2Cp%29%2Cf%28e%2Cd%29%2Cf%28e%2Cg%29%2Cf%28e%2CA%29%2Cb%7C%7C%28F%3DW%28e%2C%22click%22%2CEe%28Ce%28t%5B10%5D%29%29%29%2Cb%3D%210%29%7D%2Cp%28c%2Cv%29%7Bv%26128%26%26m%28s%2C%22fill%22%2Cc%5B7%5D%29%2Cv%264%26%26Q%28i%2C%22rotate%22%2Cc%5B2%5D%29%2Cv%261%26%26T%28i%2C%22visibility%22%2Cc%5B0%5D.children.length%3E0%3F%22visible%22%3A%22hidden%22%29%2Cv%2632%26%26q%28o%2Cc%5B5%5D%29%2Cv%26128%26%26T%28r%2C%22color%22%2Cc%5B7%5D%29%2Cv%261%26%26T%28r%2C%22font-weight%22%2Cc%5B0%5D.proportionOfTotal%3C.2%3F500%3A600%29%2Cv%2616%26%26q%28h%2Cc%5B4%5D%29%2Cv%261%26%26Q%28e%2C%22application-code%22%2Cc%5B0%5D.isApplicationCode%29%2Cv%264%26%26Q%28e%2C%22children-visible%22%2Cc%5B2%5D%29%2Cv%262%26%26T%28e%2C%22padding-left%22%2C%60%24%7Bc%5B1%5D%2A35%7Dpx%60%29%7D%2Cd%28c%29%7Bc%26%26N%28e%29%2Cb%3D%211%2CF%28%29%7D%7D%7Dfunction%20Ne%28t%29%7Blet%20e%2Ci%2Cn%2Cs%2Cu%3Dt%5B0%5D.group.frames.length%2B%22%22%2Cr%2Co%2Ca%2Cl%2Ch%2Cp%3Breturn%7Bc%28%29%7Be%3D_%28%22div%22%29%2Ci%3D_%28%22div%22%29%2Cn%3D_%28%22div%22%29%2Cn.innerHTML%3D%27%3Csvg%20width%3D%226%22%20height%3D%2210%22%3E%3Cpath%20d%3D%22M.937-.016L5.793%204.84.937%209.696z%22%20fill%3D%22%23FFF%22%20fill-rule%3D%22evenodd%22%20fill-opacity%3D%22.582%22%3E%3C/path%3E%3C/svg%3E%27%2Cs%3Dw%28%29%2Cr%3DL%28u%29%2Co%3DL%28%60%20frames%20hidden%0A%20%20%20%20%20%20%20%20%28%60%29%2Ca%3DL%28t%5B6%5D%29%2Cl%3DL%28%22%29%22%29%2Cm%28n%2C%22class%22%2C%22group-triangle%20svelte-1aphj50%22%29%2CQ%28n%2C%22rotate%22%2Ct%5B8%5D%29%2Cm%28i%2C%22class%22%2C%22group-header-button%20svelte-1aphj50%22%29%2Cm%28e%2C%22class%22%2C%22group-header%20svelte-1aphj50%22%29%2CT%28e%2C%22padding-left%22%2C%60%24%7Bt%5B1%5D%2A35%7Dpx%60%29%7D%2Cm%28d%2Cg%29%7BX%28d%2Ce%2Cg%29%2Cf%28e%2Ci%29%2Cf%28i%2Cn%29%2Cf%28i%2Cs%29%2Cf%28i%2Cr%29%2Cf%28i%2Co%29%2Cf%28i%2Ca%29%2Cf%28i%2Cl%29%2Ch%7C%7C%28p%3DW%28e%2C%22click%22%2CEe%28Ce%28t%5B11%5D%29%29%29%2Ch%3D%210%29%7D%2Cp%28d%2Cg%29%7Bg%26256%26%26Q%28n%2C%22rotate%22%2Cd%5B8%5D%29%2Cg%261%26%26u%21%3D%3D%28u%3Dd%5B0%5D.group.frames.length%2B%22%22%29%26%26q%28r%2Cu%29%2Cg%2664%26%26q%28a%2Cd%5B6%5D%29%2Cg%262%26%26T%28e%2C%22padding-left%22%2C%60%24%7Bd%5B1%5D%2A35%7Dpx%60%29%7D%2Cd%28d%29%7Bd%26%26N%28e%29%2Ch%3D%211%2Cp%28%29%7D%7D%7Dfunction%20ze%28t%29%7Blet%20e%3D%5B%5D%2Ci%3Dnew%20Map%2Cn%2Cs%2Cu%3Dt%5B0%5D.children%3Bconst%20r%3Do%3D%3Eo%5B14%5D.identifier%3Bfor%28let%20o%3D0%3Bo%3Cu.length%3Bo%2B%3D1%29%7Blet%20a%3DMe%28t%2Cu%2Co%29%2Cl%3Dr%28a%29%3Bi.set%28l%2Ce%5Bo%5D%3DBe%28l%2Ca%29%29%7Dreturn%7Bc%28%29%7Bfor%28let%20o%3D0%3Bo%3Ce.length%3Bo%2B%3D1%29e%5Bo%5D.c%28%29%3Bn%3Dye%28%29%7D%2Cm%28o%2Ca%29%7Bfor%28let%20l%3D0%3Bl%3Ce.length%3Bl%2B%3D1%29e%5Bl%5D.m%28o%2Ca%29%3BX%28o%2Cn%2Ca%29%2Cs%3D%210%7D%2Cp%28o%2Ca%29%7Ba%2611%26%26%28u%3Do%5B0%5D.children%2Cce%28%29%2Ce%3DKe%28e%2Ca%2Cr%2C1%2Co%2Cu%2Ci%2Cn.parentNode%2CJe%2CBe%2Cn%2CMe%29%2Cde%28%29%29%7D%2Ci%28o%29%7Bif%28%21s%29%7Bfor%28let%20a%3D0%3Ba%3Cu.length%3Ba%2B%3D1%29D%28e%5Ba%5D%29%3Bs%3D%210%7D%7D%2Co%28o%29%7Bfor%28let%20a%3D0%3Ba%3Ce.length%3Ba%2B%3D1%29z%28e%5Ba%5D%29%3Bs%3D%211%7D%2Cd%28o%29%7Bfor%28let%20a%3D0%3Ba%3Ce.length%3Ba%2B%3D1%29e%5Ba%5D.d%28o%29%3Bo%26%26N%28n%29%7D%7D%7Dfunction%20Be%28t%2Ce%29%7Blet%20i%2Cn%2Cs%3Breturn%20n%3Dnew%20He%28%7Bprops%3A%7Bframe%3Ae%5B14%5D%2Cindent%3Ae%5B1%5D%2B%28e%5B3%5D%3F1%3A0%29%7D%7D%29%2C%7Bkey%3At%2Cfirst%3Anull%2Cc%28%29%7Bi%3Dye%28%29%2Cpe%28n.%24%24.fragment%29%2Cthis.first%3Di%7D%2Cm%28u%2Cr%29%7BX%28u%2Ci%2Cr%29%2Cte%28n%2Cu%2Cr%29%2Cs%3D%210%7D%2Cp%28u%2Cr%29%7Be%3Du%3Bconst%20o%3D%7B%7D%3Br%261%26%26%28o.frame%3De%5B14%5D%29%2Cr%2610%26%26%28o.indent%3De%5B1%5D%2B%28e%5B3%5D%3F1%3A0%29%29%2Cn.%24set%28o%29%7D%2Ci%28u%29%7Bs%7C%7C%28D%28n.%24%24.fragment%2Cu%29%2Cs%3D%210%29%7D%2Co%28u%29%7Bz%28n.%24%24.fragment%2Cu%29%2Cs%3D%211%7D%2Cd%28u%29%7Bu%26%26N%28i%29%2Cie%28n%2Cu%29%7D%7D%7Dfunction%20tt%28t%29%7Blet%20e%2Ci%2Cn%2Cs%2Cu%2Cr%2Co%3Dt%5B3%5D%26%26Le%28t%29%2Ca%3Dt%5B0%5D.group%26%26t%5B0%5D.group.rootFrame%3D%3Dt%5B0%5D%26%26t%5B2%5D%26%26Ne%28t%29%2Cl%3Dt%5B2%5D%26%26ze%28t%29%3Breturn%7Bc%28%29%7Be%3D_%28%22div%22%29%2Co%26%26o.c%28%29%2Ci%3Dw%28%29%2Ca%26%26a.c%28%29%2Cn%3Dw%28%29%2Cl%26%26l.c%28%29%2Cs%3Dw%28%29%2Cu%3D_%28%22div%22%29%2Cm%28u%2C%22class%22%2C%22visual-guide%22%29%2CT%28u%2C%22left%22%2C%60%24%7Bt%5B1%5D%2A35%2B21%7Dpx%60%29%2CT%28u%2C%22backgroundColor%22%2Ct%5B7%5D%29%2Cm%28e%2C%22class%22%2C%22frame%20svelte-1aphj50%22%29%7D%2Cm%28h%2Cp%29%7BX%28h%2Ce%2Cp%29%2Co%26%26o.m%28e%2Cnull%29%2Cf%28e%2Ci%29%2Ca%26%26a.m%28e%2Cnull%29%2Cf%28e%2Cn%29%2Cl%26%26l.m%28e%2Cnull%29%2Cf%28e%2Cs%29%2Cf%28e%2Cu%29%2Cr%3D%210%7D%2Cp%28h%2C%5Bp%5D%29%7Bh%5B3%5D%3Fo%3Fo.p%28h%2Cp%29%3A%28o%3DLe%28h%29%2Co.c%28%29%2Co.m%28e%2Ci%29%29%3Ao%26%26%28o.d%281%29%2Co%3Dnull%29%2Ch%5B0%5D.group%26%26h%5B0%5D.group.rootFrame%3D%3Dh%5B0%5D%26%26h%5B2%5D%3Fa%3Fa.p%28h%2Cp%29%3A%28a%3DNe%28h%29%2Ca.c%28%29%2Ca.m%28e%2Cn%29%29%3Aa%26%26%28a.d%281%29%2Ca%3Dnull%29%2Ch%5B2%5D%3Fl%3F%28l.p%28h%2Cp%29%2Cp%264%26%26D%28l%2C1%29%29%3A%28l%3Dze%28h%29%2Cl.c%28%29%2CD%28l%2C1%29%2Cl.m%28e%2Cs%29%29%3Al%26%26%28ce%28%29%2Cz%28l%2C1%2C1%2C%28%29%3D%3E%7Bl%3Dnull%7D%29%2Cde%28%29%29%2Cp%262%26%26T%28u%2C%22left%22%2C%60%24%7Bh%5B1%5D%2A35%2B21%7Dpx%60%29%2Cp%26128%26%26T%28u%2C%22backgroundColor%22%2Ch%5B7%5D%29%7D%2Ci%28h%29%7Br%7C%7C%28D%28l%29%2Cr%3D%210%29%7D%2Co%28h%29%7Bz%28l%29%2Cr%3D%211%7D%2Cd%28h%29%7Bh%26%26N%28e%29%2Co%26%26o.d%28%29%2Ca%26%26a.d%28%29%2Cl%26%26l.d%28%29%7D%7D%7Dfunction%20it%28t%2Ce%2Ci%29%7Blet%20n%2Cs%2Cu%3Bse%28t%2CDe%2Cc%3D%3Ei%2812%2Cs%3Dc%29%29%2Cse%28t%2Cne%2Cc%3D%3Ei%2813%2Cu%3Dc%29%29%3Blet%7Bframe%3Ar%7D%3De%2C%7Bindent%3Ao%3D0%7D%3De%2Ca%3D%210%2Cl%2Ch%3Br.className%3Fh%3D%60%24%7Br.className%7D.%24%7Br.function%7D%60%3Ah%3Dr.function%3Bconst%20p%3D%60%24%7Br.filePathShort%7D%3A%24%7Br.lineNo.toString%28%29.padEnd%284%2C%22%5CxA0%22%29%7D%60%3Blet%20d%2Cg%3Dnull%3Bif%28r.group%29%7Bconst%20c%3Dr.group.libraries%3Bc.length%3C4%3Fg%3Dc.join%28%22%2C%20%22%29%3Ag%3D%60%24%7Bc%5B0%5D%7D%2C%20%24%7Bc%5B1%5D%7D%2C%20%24%7Bc%5B2%5D%7D...%60%7Dlet%20A%3Br.proportionOfTotal%3E.6%3FA%3D%22%23FF4159%22%3Ar.proportionOfTotal%3E.3%3FA%3D%22%23F5A623%22%3Ar.proportionOfTotal%3E.2%3FA%3D%22%23D8CB2A%22%3AA%3D%22%237ED321%22%3Bfunction%20b%28%29%7Bi%282%2Ca%3D%21a%29%7Dfunction%20F%28%29%7BDe.update%28c%3D%3E%7Bvar%20v%3Breturn%7B...c%2C%5B%28v%3Dr.groupId%29%21%3Dnull%3Fv%3A%22%22%5D%3A%21n%7D%7D%29%7Dreturn%20t.%24%24set%3Dc%3D%3E%7B%22frame%22in%20c%26%26i%280%2Cr%3Dc.frame%29%2C%22indent%22in%20c%26%26i%281%2Co%3Dc.indent%29%7D%2Ct.%24%24.update%3D%28%29%3D%3E%7Bvar%20c%2Cv%2C%24%3Bif%28t.%24%24.dirty%264097%26%26%28r.group%3Fs%5B%28c%3Dr.groupId%29%21%3Dnull%3Fc%3A%22%22%5D%7C%7C%28%28v%3Dr.group%29%3D%3Dnull%3Fvoid%200%3Av.rootFrame%29%3D%3D%3Dr%7C%7Cr.children.filter%28M%3D%3E%21M.group%29.length%3E1%3Fi%283%2Cl%3D%210%29%3Ai%283%2Cl%3D%211%29%3Ai%283%2Cl%3D%210%29%29%2Ct.%24%24.dirty%268193%29if%28u%3D%3D%3D%22absolute%22%29i%285%2Cd%3Dr.time.toLocaleString%28void%200%2C%7BminimumFractionDigits%3A3%2CmaximumFractionDigits%3A3%7D%29%29%3Belse%20if%28u%3D%3D%3D%22proportion%22%29i%285%2Cd%3D%60%24%7B%28r.proportionOfTotal%2A100%29.toLocaleString%28void%200%2C%7BminimumFractionDigits%3A1%2CmaximumFractionDigits%3A1%7D%29%7D%25%60%29%3Belse%20throw%20new%20Error%28%22unknown%20timeFormat%22%29%3Bt.%24%24.dirty%264097%26%26i%288%2Cn%3Ds%5B%28%24%3Dr.groupId%29%21%3Dnull%3F%24%3A%22%22%5D%3D%3D%3D%210%29%7D%2C%5Br%2Co%2Ca%2Cl%2Ch%2Cd%2Cg%2CA%2Cn%2Cp%2Cb%2CF%2Cs%2Cu%5D%7Dclass%20He%20extends%20he%7Bconstructor%28e%29%7Bsuper%28%29%2Cme%28this%2Ce%2Cit%2Ctt%2CK%2C%7Bframe%3A0%2Cindent%3A1%7D%29%7D%7Dconst%20nt%3D%22data%3Aimage/png%3Bbase64%2CiVBORw0KGgoAAAANSUhEUgAAACAAAAAgCAYAAABzenr0AAAABGdBTUEAALGPC/xhBQAAADhlWElmTU0AKgAAAAgAAYdpAAQAAAABAAAAGgAAAAAAAqACAAQAAAABAAAAIKADAAQAAAABAAAAIAAAAACPTkDJAAAFPklEQVRYCdWXu4skVRSHb3VXP2bcXUVMBkRMTVww2XQDExEEH4iKiUYGhuJEPgJhUSMzQQSDRVzETNDMTTfUwL/ARUwM1t3pV1WX33eqbnfP9MxOu5kHTt9T93F%2Bv3vOubeqi7QhT1%2B58vhiVn1G19WiaQ6KIqVQOmyT%2Bh9kuUxp2bAAtQkpij9pbw5G5fu/3br1x8ql4NW0%2BrVJzaN29nop9VUeCtoerXpMTj53g%2BAGcINR1YB3RIJMN6dIxd/luLxcZoftzltwAct%2BSiNGh2jJ84BnSQWJTeBNW2C0ZrvufrZA5y2JmuemWkfCjYq5IsC6q2iE2V0LuDdMaYxKZDxo%2ByS3JZkEY%2B5SsAU7P5q1qZNEAxnXGo0NubomQM4dWPnCMAU/fUCnoA7kFjPEPohuqfO6uc%2B%2B0xKSVHUcHDbNwZpAeFyHyMcg408G16mSnwW3b5OEz3rtCAyJnHUQUSEFmMdki0CMmsNOX/gkpf1RSpf223Q43jC2MMw4tFWsjwHzBngsIOT6CaEf7wGKrTo/agFbH8oWAQdkWTF5htGntSDn2h2YBTal/9603Z2%2B%2BswZ0%2B5BZIjdQwfUz5DcGwHVotSfdpYtAg7oUKzaycyo6PjmkA4cRmgBuf5zSj/80kbAuToaYHz9afdgCiCxJF3gpudfZampOyGnEwAwIkEbuROBXEauXZGdYzrEtFTTpx3zHGeewGoFcFxk2Cdlxempy8/oZyXm1KO3R14fIraPXEzpAnXgyVBmRMdjNgdVsqZgxLw9cl4C7m7N%2Bd17pOqIuaj2LKetQzs1Ai3E%2BreRJip4CSnz2wPYHC9wFL66MYko9k8pwgmAU4hqbxZhO6tNXba321V8Uvruc4ZzGgQxErnFNszqItqC0DdpTtzfeqWJ21DwpRp5WkOdHwFJqM4UMLcdeB2AADPUkigSm00VOZixsOL8WfUB3oWd4ZWcT8CpgLz2XkoPX%2BIgEIU%2Bq6K6QZqzqxoAr15vupqC8Air0wm7JwUL2AWJByIAuDXQEGZ1aegRASY4Ppq0AOZZIoZYsLh4zDsa4PSfeA%2BEn/tGQMI5ZTe%2BxClhN%2BQ5z4b67TfZJeATiAQw4J4KwTzCOfT2nSb3JRALAJTEfKPQcrGBG5GwwCLMRCRAXcgiQY1IYD8ogbzuDd5qF7gL%2Bp4ESM05Z//coWXH1oEE5oQkQPOi3EroDDk/Ai40Cp3SRE2AG%2B8MWyOk5h1j7ixnEogPD0dVcv/FVwXXLceKs20K5rCaFk06fKmOD424akkTXUFkVwanEtBZfH7hMK5eCEwBl0DNYHvJ0Idd4MHXr7djkGDtWQV3GqlTCRhybzqv1R4zbA/fXabRfhFAHkvflJO77XivuyElbRHG%2Bh3yL6EtAu4iPkoF5q4veRn1ecEUAwYg0pSyQwAoRk3qz4p4DS%2BwawpxSVHoY9cobBHQtxBBBMBrN/rkvOEC6lF0hF/nKvaS31yE155btLVAFKIidbSDbBMI9HaluzjC4ZKQWHieBIcVPqvbyg/b503Dh91kTcB/LH4Z6wmNI8X2PnyxTkPSUI7JP7MjvE5hTrwDuO%2BrLvT2uXxnAXNNgL9LLHxdB16jOi24XgOEK68EyMKMb/uYRERol1w%2BFmRN67XrWonsKDdzRNPmXzPjbEXHxwWttsCcwpXki8cte91afP7zkdQuYch/zSizVv66ffvOwZNPfLus/YNSPMYuLkZIda66yw3NzwHMeCOBXcBNdVH8OBiXLx/7c5qJrFrK/GOYfETH97Sr/jOM38FnvodDGv8f%2BRcj1XBLIcDKAQAAAABJRU5ErkJggg%3D%3D%22%2Cht%3D%22%22%3Bfunction%20rt%28t%29%7Blet%20e%3Breturn%7Bc%28%29%7Be%3D_%28%22div%22%29%2Ce.textContent%3D%22No%20samples%20recorded.%22%2Cm%28e%2C%22class%22%2C%22error%22%29%7D%2Cm%28i%2Cn%29%7BX%28i%2Ce%2Cn%29%7D%2Cp%3AC%2Ci%3AC%2Co%3AC%2Cd%28i%29%7Bi%26%26N%28e%29%7D%7D%7Dfunction%20lt%28t%29%7Blet%20e%2Ci%3Breturn%20e%3Dnew%20He%28%7Bprops%3A%7Bframe%3At%5B0%5D.rootFrame%7D%7D%29%2C%7Bc%28%29%7Bpe%28e.%24%24.fragment%29%7D%2Cm%28n%2Cs%29%7Bte%28e%2Cn%2Cs%29%2Ci%3D%210%7D%2Cp%28n%2Cs%29%7Bconst%20u%3D%7B%7D%3Bs%261%26%26%28u.frame%3Dn%5B0%5D.rootFrame%29%2Ce.%24set%28u%29%7D%2Ci%28n%29%7Bi%7C%7C%28D%28e.%24%24.fragment%2Cn%29%2Ci%3D%210%29%7D%2Co%28n%29%7Bz%28e.%24%24.fragment%2Cn%29%2Ci%3D%211%7D%2Cd%28n%29%7Bie%28e%2Cn%29%7D%7D%7Dfunction%20ot%28t%29%7Blet%20e%2Ci%2Cn%2Cs%2Cu%2Cr%2Co%2Ca%2Cl%2Ch%2Cp%2Cd%2Cg%3Bi%3Dnew%20et%28%7Bprops%3A%7Bsession%3At%5B0%5D%7D%7D%29%3Bconst%20A%3D%5Blt%2Crt%5D%2Cb%3D%5B%5D%3Bfunction%20F%28c%2Cv%29%7Breturn%20c%5B0%5D.rootFrame%3F0%3A1%7Dreturn%20p%3DF%28t%29%2Cd%3Db%5Bp%5D%3DA%5Bp%5D%28t%29%2C%7Bc%28%29%7Be%3D_%28%22div%22%29%2Cpe%28i.%24%24.fragment%29%2Cn%3Dw%28%29%2Cs%3D_%28%22div%22%29%2Cu%3Dw%28%29%2Cr%3D_%28%22div%22%29%2Co%3D_%28%22div%22%29%2Ca%3D_%28%22span%22%29%2Ca.textContent%3D%22Program%3A%5CxA0%22%2Cl%3DL%28t%5B1%5D%29%2Ch%3Dw%28%29%2Cd.c%28%29%2Cm%28s%2C%22class%22%2C%22spacer%22%29%2CT%28s%2C%22height%22%2C%2220px%22%29%2Cm%28a%2C%22class%22%2C%22label%20svelte-1gm5pcf%22%29%2Cm%28o%2C%22class%22%2C%22program%20svelte-1gm5pcf%22%29%2Cm%28r%2C%22class%22%2C%22margins%22%29%2Cm%28e%2C%22class%22%2C%22app%20svelte-1gm5pcf%22%29%7D%2Cm%28c%2Cv%29%7BX%28c%2Ce%2Cv%29%2Cte%28i%2Ce%2Cnull%29%2Cf%28e%2Cn%29%2Cf%28e%2Cs%29%2Cf%28e%2Cu%29%2Cf%28e%2Cr%29%2Cf%28r%2Co%29%2Cf%28o%2Ca%29%2Cf%28o%2Cl%29%2Cf%28r%2Ch%29%2Cb%5Bp%5D.m%28r%2Cnull%29%2Cg%3D%210%7D%2Cp%28c%2C%5Bv%5D%29%7Bconst%20%24%3D%7B%7D%3Bv%261%26%26%28%24.session%3Dc%5B0%5D%29%2Ci.%24set%28%24%29%2C%28%21g%7C%7Cv%262%29%26%26q%28l%2Cc%5B1%5D%29%3Blet%20M%3Dp%3Bp%3DF%28c%29%2Cp%3D%3D%3DM%3Fb%5Bp%5D.p%28c%2Cv%29%3A%28ce%28%29%2Cz%28b%5BM%5D%2C1%2C1%2C%28%29%3D%3E%7Bb%5BM%5D%3Dnull%7D%29%2Cde%28%29%2Cd%3Db%5Bp%5D%2Cd%3Fd.p%28c%2Cv%29%3A%28d%3Db%5Bp%5D%3DA%5Bp%5D%28c%29%2Cd.c%28%29%29%2CD%28d%2C1%29%2Cd.m%28r%2Cnull%29%29%7D%2Ci%28c%29%7Bg%7C%7C%28D%28i.%24%24.fragment%2Cc%29%2CD%28d%29%2Cg%3D%210%29%7D%2Co%28c%29%7Bz%28i.%24%24.fragment%2Cc%29%2Cz%28d%29%2Cg%3D%211%7D%2Cd%28c%29%7Bc%26%26N%28e%29%2Cie%28i%29%2Cb%5Bp%5D.d%28%29%7D%7D%7Dfunction%20ge%28%29%7Bdocument.body.style.minHeight%3D%60%24%7Bwindow.scrollY%2Bwindow.innerHeight%7Dpx%60%7Dfunction%20st%28t%2Ce%2Ci%29%7Blet%7Bsession%3An%7D%3De%3Bconst%20s%3Ddocument.createElement%28%22link%22%29%3Bs.rel%3D%22shortut%20icon%22%2Cs.href%3Dnt%2Cdocument.head.appendChild%28s%29%2Cqe%28%28%29%3D%3E%7Bwindow.addEventListener%28%22scroll%22%2Cge%29%2Cge%28%29%7D%29%2CUe%28%28%29%3D%3E%7Bwindow.removeEventListener%28%22scroll%22%2Cge%29%7D%29%3Bconst%20u%3Dn.rootFrame%2Cr%3Du%3D%3Dnull%3Fvoid%200%3Au.time.toLocaleString%28void%200%2C%7BmaximumSignificantDigits%3A3%7D%29%3Blet%20o%3Du%3D%3Dnull%3Fvoid%200%3Au.function%3Breturn%20o%3D%3D%22%3Cmodule%3E%22%26%26%28o%3Dn.program%29%2Cdocument.title%3D%60%24%7Br%7Ds%20-%20%24%7Bo%7D%20-%20pyinstrument%60%2Ct.%24%24set%3Da%3D%3E%7B%22session%22in%20a%26%26i%280%2Cn%3Da.session%29%7D%2C%5Bn%2Co%5D%7Dclass%20at%20extends%20he%7Bconstructor%28e%29%7Bsuper%28%29%2Cme%28this%2Ce%2Cst%2Cot%2CK%2C%7Bsession%3A0%7D%29%7D%7Dclass%20ut%7Bconstructor%28e%2Ci%29%7Bk%28this%2C%22id%22%29%3Bk%28this%2C%22rootFrame%22%29%3Bk%28this%2C%22frames%22%2C%5B%5D%29%3Bthis.id%3De%2Cthis.rootFrame%3Di%7DaddFrame%28e%29%7Bthis.frames.push%28e%29%7Dget%20exitFrames%28%29%7Bconst%20e%3D%5B%5D%3Bfor%28const%20i%20of%20this.frames%29%7Blet%20n%3D%211%3Bfor%28const%20s%20of%20i.children%29if%28s.group%21%3Dthis%29%7Bn%3D%210%3Bbreak%7Dn%26%26e.push%28i%29%7Dreturn%20e%7Dget%20libraries%28%29%7Bconst%20e%3D%5B%5D%3Bfor%28const%20i%20of%20this.frames%29%7Bconst%20n%3D/%5E%5B%5E%5C%5C/.%5D%2A/.exec%28i.filePathShort%29%5B0%5D%3Be.includes%28n%29%7C%7Ce.push%28n%29%7Dreturn%20e%7D%7Dclass%20_e%7Bconstructor%28e%2Ci%3Dnull%2Cn%3D%7Bgroups%3A%7B%7D%7D%29%7Bk%28this%2C%22function%22%29%3Bk%28this%2C%22filePath%22%29%3Bk%28this%2C%22filePathShort%22%29%3Bk%28this%2C%22lineNo%22%29%3Bk%28this%2C%22time%22%29%3Bk%28this%2C%22totalTime%22%29%3Bk%28this%2C%22awaitTime%22%29%3Bk%28this%2C%22isApplicationCode%22%29%3Bk%28this%2C%22groupId%22%29%3Bk%28this%2C%22className%22%29%3Bk%28this%2C%22parent%22%29%3Bk%28this%2C%22children%22%29%3Bk%28this%2C%22group%22%29%3Bvar%20s%2Cu%3Bif%28this.parent%3Di%2Cthis.function%3De.function%2Cthis.filePath%3De.file_path%2Cthis.filePathShort%3De.file_path_short%2Cthis.lineNo%3De.line_no%2Cthis.time%3De.time%2Cthis.totalTime%3Dthis.parent%3Fthis.parent.totalTime%3Athis.time%2Cthis.awaitTime%3De.await_time%2Cthis.isApplicationCode%3De.is_application_code%2Cthis.groupId%3D%28s%3De.group_id%29%21%3Dnull%3Fs%3Anull%2Cthis.className%3D%28u%3De.class_name%29%21%3Dnull%3Fu%3Anull%2Ce.group_id%29%7Bconst%20r%3De.group_id%3Blet%20o%3Dn.groups%5Br%5D%3Bo%7C%7C%28o%3Dn.groups%5Br%5D%3Dnew%20ut%28r%2Cthis%29%29%2Co.addFrame%28this%29%2Cthis.group%3Dn.groups%5Br%5D%7Delse%20this.group%3Dnull%3Bthis.children%3De.children.map%28r%3D%3Enew%20_e%28r%2Cthis%2Cn%29%29%7Dget%20identifier%28%29%7Breturn%60%24%7Bthis.function%7D%3A%24%7Bthis.filePath%7D%3A%24%7Bthis.lineNo%7D%60%7Dget%20proportionOfTotal%28%29%7Breturn%20this.time/this.totalTime%7D%7Dclass%20ft%7Bconstructor%28e%29%7Bk%28this%2C%22startTime%22%29%3Bk%28this%2C%22duration%22%29%3Bk%28this%2C%22sampleCount%22%29%3Bk%28this%2C%22program%22%29%3Bk%28this%2C%22cpuTime%22%29%3Bk%28this%2C%22rootFrame%22%29%3Bthis.startTime%3De.start_time%2Cthis.duration%3De.duration%2Cthis.sampleCount%3De.sample_count%2Cthis.program%3De.program%2Cthis.cpuTime%3De.cpu_time%2Cthis.rootFrame%3De.root_frame%3Fnew%20_e%28e.root_frame%29%3Anull%7D%7Dreturn%7Brender%28t%2Ce%29%7Bconst%20i%3Dnew%20ft%28e%29%3Breturn%20new%20at%28%7Btarget%3At%2Cprops%3A%7Bsession%3Ai%7D%7D%29%7D%7D%7D%28%29%3B%0A%3C/script%3E%0A%20%20%20%20%20%20%20%20%20%20%20%20%20%20%20%20%3Cstyle%3E%40import%22https%3A//fonts.googleapis.com/css%3Ffamily%3DSource%2BCode%2BPro%3A400%2C600%7CSource%2BSans%2BPro%3A400%2C600%22%3Bhtml%2Cbody%7Bbackground-color%3A%23303538%3Bcolor%3A%23fff%3Bpadding%3A0%3Bmargin%3A0%7D.margins%7Bpadding%3A0%2030px%7D.header.svelte-tewt95%7Bbackground%3A%23292f32%7D.row.svelte-tewt95%7Bdisplay%3Aflex%3Balign-items%3Acenter%7D.title.svelte-tewt95%7Bfont-size%3A34px%3Bpadding-top%3A20px%3Bpadding-bottom%3A16px%3Bwhite-space%3Anowrap%3Boverflow%3Ahidden%3Btext-overflow%3Aellipsis%3Bmargin-right%3A10px%3Bflex%3A1%7D.metrics.svelte-tewt95%7Bdisplay%3Agrid%3Bgrid-template-columns%3Aauto%20auto%20auto%20auto%20auto%20auto%3Bfont-size%3A14px%3Btext-transform%3Auppercase%3Bgrid-gap%3A1px%208px%7D.metric-label.svelte-tewt95%7Bfont-weight%3A600%3Bcolor%3A%23a9abad%7D.metric-value.svelte-tewt95%7Bcolor%3A%23737779%3Bmargin-right%3A.5em%7D.frame.svelte-1aphj50.svelte-1aphj50%7Bfont-family%3ASource%20Code%20Pro%2CRoboto%20Mono%2CConsolas%2CMonaco%2Cmonospace%3Bfont-size%3A15px%3Bz-index%3A0%3Bposition%3Arelative%3Buser-select%3Anone%7D.group-header.svelte-1aphj50.svelte-1aphj50%7Bmargin-left%3A35px%7D.group-header-button.svelte-1aphj50.svelte-1aphj50%7Bdisplay%3Ainline-block%3Bcolor%3A%23ffffff94%3Buser-select%3Anone%3Bcursor%3Adefault%3Bposition%3Arelative%7D.group-header-button.svelte-1aphj50.svelte-1aphj50%3Abefore%7Bposition%3Aabsolute%3Bleft%3A-3px%3Bright%3A-3px%3Btop%3A0px%3Bbottom%3A-1px%3Bcontent%3A%22%22%3Bz-index%3A-1%3Bbackground-color%3A%233b4043%7D.group-header-button.svelte-1aphj50.svelte-1aphj50%3Ahover%3Abefore%7Bbackground-color%3A%234a4f54%7D.group-triangle.svelte-1aphj50.svelte-1aphj50%2C.frame-triangle.svelte-1aphj50.svelte-1aphj50%7Bwidth%3A6px%3Bheight%3A10px%3Bpadding-left%3A6px%3Bpadding-right%3A5px%3Bdisplay%3Ainline-block%7D.group-triangle.rotate.svelte-1aphj50.svelte-1aphj50%2C.frame-triangle.rotate.svelte-1aphj50.svelte-1aphj50%7Btransform%3Atranslate%286px%2C4px%29%20rotate%2890deg%29%7D.frame-description.svelte-1aphj50.svelte-1aphj50%7Bdisplay%3Aflex%7D.frame-description.svelte-1aphj50.svelte-1aphj50%3Ahover%3Abefore%7Bposition%3Aabsolute%3Bleft%3A-3px%3Bright%3A-3px%3Btop%3A-1px%3Bheight%3A22px%3Bcontent%3A%22%22%3Bz-index%3A-1%3Bbackground-color%3A%23354759%3Bopacity%3A.5%7D.frame-triangle.svelte-1aphj50.svelte-1aphj50%7Bopacity%3A1%7D.frame-description.children-visible.svelte-1aphj50%20.frame-triangle.svelte-1aphj50%7Bopacity%3A0%7D.frame-description.children-visible.svelte-1aphj50%3Ahover%20.frame-triangle.svelte-1aphj50%7Bopacity%3A1%7D.name.svelte-1aphj50.svelte-1aphj50%2C.time.svelte-1aphj50.svelte-1aphj50%2C.code-position.svelte-1aphj50.svelte-1aphj50%7Buser-select%3Atext%3Bcursor%3Adefault%7D.application-code.svelte-1aphj50%20.name.svelte-1aphj50%7Bcolor%3A%235db3ff%7D.time.svelte-1aphj50.svelte-1aphj50%7Bmargin-right%3A.55em%3Bcolor%3A%23b8e98685%7D.code-position.svelte-1aphj50.svelte-1aphj50%7Bcolor%3A%23ffffff80%3Btext-align%3Aright%3Bmargin-left%3A1em%7D.visual-guide%7Btop%3A21px%3Bbottom%3A0%3Bleft%3A0%3Bwidth%3A2px%3Bbackground-color%3A%23fff%3Bposition%3Aabsolute%3Bopacity%3A.08%7D.frame-description%3Ahover~.visual-guide%7Bopacity%3A.4%7D.frame-description%3Ahover~.children%20.visual-guide%7Bopacity%3A.1%7D.app.svelte-1gm5pcf.svelte-1gm5pcf%7Bfont-family%3ASource%20Sans%20Pro%2CHelvetica%2CArial%2Csans-serif%3B-webkit-font-smoothing%3Aantialiased%3B-moz-osx-font-smoothing%3Agrayscale%7D.program.svelte-1gm5pcf.svelte-1gm5pcf%7Bfont-size%3A14px%3Bfont-weight%3A600%3Bmargin-bottom%3A16px%3Bcolor%3A%23b4b4b4%7D.program.svelte-1gm5pcf%20.label.svelte-1gm5pcf%7Bcolor%3A%23eaeaea%3Btext-transform%3Auppercase%7D%0A%3C/style%3E%0A%0A%20%20%20%20%20%20%20%20%20%20%20%20%20%20%20%20%3Cscript%3E%0A%20%20%20%20%20%20%20%20%20%20%20%20%20%20%20%20%20%20%20%20const%20sessionData%20%3D%20%7B%22start_time%22%3A%201719427929.895701%2C%22duration%22%3A%202.978343%2C%22sample_count%22%3A%20118%2C%22program%22%3A%20%22/home/haoyu/.conda/envs/ccc/lib/python3.9/site-packages/ipykernel_launcher.py%20-f%20/home/haoyu/.local/share/jupyter/runtime/kernel-76f1e206-b6a7-40f2-8d7f-4e421d5c241e.json%22%2C%22cpu_time%22%3A%202.995581%2C%22root_frame%22%3A%20%7B%22function%22%3A%20%22%3Ccell%20line%3A%202%3E%22%2C%22file_path_short%22%3A%20%22../../../tmp/ipykernel_359614/2991494264.py%22%2C%22file_path%22%3A%20%22/tmp/ipykernel_359614/2991494264.py%22%2C%22line_no%22%3A%202%2C%22time%22%3A%202.977489%2C%22await_time%22%3A%200.000000%2C%22is_application_code%22%3A%20true%2C%22children%22%3A%20%5B%7B%22function%22%3A%20%22func%22%2C%22file_path_short%22%3A%20%22../../../tmp/ipykernel_359614/2661685993.py%22%2C%22file_path%22%3A%20%22/tmp/ipykernel_359614/2661685993.py%22%2C%22line_no%22%3A%201%2C%22time%22%3A%202.977489%2C%22await_time%22%3A%200.000000%2C%22is_application_code%22%3A%20true%2C%22children%22%3A%20%5B%7B%22function%22%3A%20%22ccc%22%2C%22file_path_short%22%3A%20%22ccc/coef/impl.py%22%2C%22file_path%22%3A%20%22/home/haoyu/_database/projs/ccc-gpu/libs/ccc/coef/impl.py%22%2C%22line_no%22%3A%20308%2C%22time%22%3A%202.965680%2C%22await_time%22%3A%200.000000%2C%22is_application_code%22%3A%20true%2C%22children%22%3A%20%5B%7B%22function%22%3A%20%22compute_coef%22%2C%22file_path_short%22%3A%20%22ccc/coef/impl.py%22%2C%22file_path%22%3A%20%22/home/haoyu/_database/projs/ccc-gpu/libs/ccc/coef/impl.py%22%2C%22line_no%22%3A%20493%2C%22time%22%3A%202.099862%2C%22await_time%22%3A%200.000000%2C%22is_application_code%22%3A%20true%2C%22children%22%3A%20%5B%7B%22function%22%3A%20%22cdist_func%22%2C%22file_path_short%22%3A%20%22ccc/coef/impl.py%22%2C%22file_path%22%3A%20%22/home/haoyu/_database/projs/ccc-gpu/libs/ccc/coef/impl.py%22%2C%22line_no%22%3A%20486%2C%22time%22%3A%202.099862%2C%22await_time%22%3A%200.000000%2C%22is_application_code%22%3A%20true%2C%22children%22%3A%20%5B%7B%22function%22%3A%20%22cdist_parts_parallel%22%2C%22file_path_short%22%3A%20%22ccc/coef/impl.py%22%2C%22file_path%22%3A%20%22/home/haoyu/_database/projs/ccc-gpu/libs/ccc/coef/impl.py%22%2C%22line_no%22%3A%20193%2C%22time%22%3A%202.099862%2C%22await_time%22%3A%200.000000%2C%22is_application_code%22%3A%20true%2C%22children%22%3A%20%5B%7B%22function%22%3A%20%22as_completed%22%2C%22file_path_short%22%3A%20%22concurrent/futures/_base.py%22%2C%22file_path%22%3A%20%22/home/haoyu/.conda/envs/ccc/lib/python3.9/concurrent/futures/_base.py%22%2C%22line_no%22%3A%20201%2C%22time%22%3A%202.092797%2C%22await_time%22%3A%200.000000%2C%22is_application_code%22%3A%20false%2C%22children%22%3A%20%5B%7B%22function%22%3A%20%22wait%22%2C%22file_path_short%22%3A%20%22threading.py%22%2C%22file_path%22%3A%20%22/home/haoyu/.conda/envs/ccc/lib/python3.9/threading.py%22%2C%22line_no%22%3A%20563%2C%22time%22%3A%202.092797%2C%22await_time%22%3A%200.000000%2C%22is_application_code%22%3A%20false%2C%22children%22%3A%20%5B%7B%22function%22%3A%20%22wait%22%2C%22file_path_short%22%3A%20%22threading.py%22%2C%22file_path%22%3A%20%22/home/haoyu/.conda/envs/ccc/lib/python3.9/threading.py%22%2C%22line_no%22%3A%20280%2C%22time%22%3A%202.092797%2C%22await_time%22%3A%200.000000%2C%22is_application_code%22%3A%20false%2C%22children%22%3A%20%5B%7B%22function%22%3A%20%22lock.acquire%22%2C%22file_path_short%22%3A%20%22%3Cbuilt-in%3E%22%2C%22file_path%22%3A%20%22%3Cbuilt-in%3E%22%2C%22line_no%22%3A%200%2C%22time%22%3A%202.092797%2C%22await_time%22%3A%200.000000%2C%22is_application_code%22%3A%20false%2C%22children%22%3A%20%5B%5D%2C%22group_id%22%3A%20%229d54250d-9bf0-4e33-bdb7-34db0e90e4e5%22%7D%5D%2C%22group_id%22%3A%20%229d54250d-9bf0-4e33-bdb7-34db0e90e4e5%22%2C%22class_name%22%3A%20%22Condition%22%7D%5D%2C%22group_id%22%3A%20%229d54250d-9bf0-4e33-bdb7-34db0e90e4e5%22%2C%22class_name%22%3A%20%22Event%22%7D%5D%2C%22group_id%22%3A%20%229d54250d-9bf0-4e33-bdb7-34db0e90e4e5%22%7D%5D%7D%5D%7D%5D%7D%2C%7B%22function%22%3A%20%22result_iterator%22%2C%22file_path_short%22%3A%20%22concurrent/futures/_base.py%22%2C%22file_path%22%3A%20%22/home/haoyu/.conda/envs/ccc/lib/python3.9/concurrent/futures/_base.py%22%2C%22line_no%22%3A%20602%2C%22time%22%3A%200.863816%2C%22await_time%22%3A%200.000000%2C%22is_application_code%22%3A%20false%2C%22children%22%3A%20%5B%7B%22function%22%3A%20%22result%22%2C%22file_path_short%22%3A%20%22concurrent/futures/_base.py%22%2C%22file_path%22%3A%20%22/home/haoyu/.conda/envs/ccc/lib/python3.9/concurrent/futures/_base.py%22%2C%22line_no%22%3A%20418%2C%22time%22%3A%200.863816%2C%22await_time%22%3A%200.000000%2C%22is_application_code%22%3A%20false%2C%22children%22%3A%20%5B%7B%22function%22%3A%20%22wait%22%2C%22file_path_short%22%3A%20%22threading.py%22%2C%22file_path%22%3A%20%22/home/haoyu/.conda/envs/ccc/lib/python3.9/threading.py%22%2C%22line_no%22%3A%20280%2C%22time%22%3A%200.863816%2C%22await_time%22%3A%200.000000%2C%22is_application_code%22%3A%20false%2C%22children%22%3A%20%5B%7B%22function%22%3A%20%22lock.acquire%22%2C%22file_path_short%22%3A%20%22%3Cbuilt-in%3E%22%2C%22file_path%22%3A%20%22%3Cbuilt-in%3E%22%2C%22line_no%22%3A%200%2C%22time%22%3A%200.863816%2C%22await_time%22%3A%200.000000%2C%22is_application_code%22%3A%20false%2C%22children%22%3A%20%5B%5D%2C%22group_id%22%3A%20%22afb9f68e-34d7-465f-8290-f5cbe2251a2e%22%7D%5D%2C%22group_id%22%3A%20%22afb9f68e-34d7-465f-8290-f5cbe2251a2e%22%2C%22class_name%22%3A%20%22Condition%22%7D%5D%2C%22group_id%22%3A%20%22afb9f68e-34d7-465f-8290-f5cbe2251a2e%22%2C%22class_name%22%3A%20%22Future%22%7D%5D%2C%22group_id%22%3A%20%22afb9f68e-34d7-465f-8290-f5cbe2251a2e%22%7D%5D%7D%5D%7D%5D%7D%7D%0A%3B%0A%20%20%20%20%20%20%20%20%20%20%20%20%20%20%20%20%20%20%20%20pyinstrumentHTMLRenderer.render%28document.getElementById%28%27app%27%29%2C%20sessionData%29%3B%0A%20%20%20%20%20%20%20%20%20%20%20%20%20%20%20%20%3C/script%3E%0A%20%20%20%20%20%20%20%20%20%20%20%20%3C/body%3E%0A%20%20%20%20%20%20%20%20%20%20%20%20%3C/html%3E%0A%20%20%20%20%20%20%20%20\"\n",
       "            frameborder=\"0\"\n",
       "            allowfullscreen\n",
       "            style=\"resize: vertical\"\n",
       "        ></iframe>\n",
       "        "
      ],
      "text/plain": [
       "\n",
       "  _     ._   __/__   _ _  _  _ _/_   Recorded: 12:52:09  Samples:  118\n",
       " /_//_/// /_\\ / //_// / //_'/ //     Duration: 2.978     CPU time: 2.996\n",
       "/   _/                      v4.6.2\n",
       "\n",
       "Program: /home/haoyu/.conda/envs/ccc/lib/python3.9/site-packages/ipykernel_launcher.py -f /home/haoyu/.local/share/jupyter/runtime/kernel-76f1e206-b6a7-40f2-8d7f-4e421d5c241e.json\n",
       "\n",
       "2.977 <cell line: 2>  ../../../tmp/ipykernel_359614/2991494264.py:2\n",
       "`- 2.977 func  ../../../tmp/ipykernel_359614/2661685993.py:1\n",
       "   `- 2.966 ccc  ccc/coef/impl.py:308\n",
       "      |- 2.100 compute_coef  ccc/coef/impl.py:493\n",
       "      |  `- 2.100 cdist_func  ccc/coef/impl.py:486\n",
       "      |     `- 2.100 cdist_parts_parallel  ccc/coef/impl.py:193\n",
       "      |        `- 2.093 as_completed  concurrent/futures/_base.py:201\n",
       "      |              [4 frames hidden]  concurrent, threading, <built-in>\n",
       "      |                 2.093 lock.acquire  <built-in>\n",
       "      `- 0.864 result_iterator  concurrent/futures/_base.py:602\n",
       "            [4 frames hidden]  concurrent, threading, <built-in>\n",
       "               0.864 lock.acquire  <built-in>\n",
       "\n"
      ]
     },
     "metadata": {},
     "output_type": "display_data"
    }
   ],
   "source": [
    "%%pyinstrument\n",
    "func()"
   ]
  },
  {
   "cell_type": "markdown",
   "id": "b0c07894",
   "metadata": {
    "papermill": {
     "duration": 0.100749,
     "end_time": "2021-12-02T04:35:31.053465",
     "exception": false,
     "start_time": "2021-12-02T04:35:30.952716",
     "status": "completed"
    },
    "tags": []
   },
   "source": [
    "## `n_samples=100000`"
   ]
  },
  {
   "cell_type": "code",
   "execution_count": 10,
   "id": "7fb2ab2e-a6de-412b-9540-d00f8641290e",
   "metadata": {
    "execution": {
     "iopub.execute_input": "2021-12-02T04:35:31.262806Z",
     "iopub.status.busy": "2021-12-02T04:35:31.262280Z",
     "iopub.status.idle": "2021-12-02T04:35:31.264634Z",
     "shell.execute_reply": "2021-12-02T04:35:31.264124Z"
    },
    "papermill": {
     "duration": 0.110468,
     "end_time": "2021-12-02T04:35:31.264738",
     "exception": false,
     "start_time": "2021-12-02T04:35:31.154270",
     "status": "completed"
    },
    "tags": []
   },
   "outputs": [],
   "source": [
    "N_SAMPLES = 100000"
   ]
  },
  {
   "cell_type": "code",
   "execution_count": 11,
   "id": "81765e91",
   "metadata": {
    "execution": {
     "iopub.execute_input": "2021-12-02T04:35:31.472530Z",
     "iopub.status.busy": "2021-12-02T04:35:31.472083Z",
     "iopub.status.idle": "2021-12-02T04:35:31.475862Z",
     "shell.execute_reply": "2021-12-02T04:35:31.475424Z"
    },
    "papermill": {
     "duration": 0.107444,
     "end_time": "2021-12-02T04:35:31.476016",
     "exception": false,
     "start_time": "2021-12-02T04:35:31.368572",
     "status": "completed"
    },
    "tags": []
   },
   "outputs": [],
   "source": [
    "x = np.random.rand(N_SAMPLES)\n",
    "y = np.random.rand(N_SAMPLES)"
   ]
  },
  {
   "cell_type": "code",
   "execution_count": 13,
   "id": "aca57100",
   "metadata": {
    "execution": {
     "iopub.execute_input": "2021-12-02T04:35:31.892045Z",
     "iopub.status.busy": "2021-12-02T04:35:31.891417Z",
     "iopub.status.idle": "2021-12-02T04:36:46.681345Z",
     "shell.execute_reply": "2021-12-02T04:36:46.681695Z"
    },
    "papermill": {
     "duration": 74.896315,
     "end_time": "2021-12-02T04:36:46.681806",
     "exception": false,
     "start_time": "2021-12-02T04:35:31.785491",
     "status": "completed"
    },
    "tags": []
   },
   "outputs": [
    {
     "name": "stdout",
     "output_type": "stream",
     "text": [
      "6.17 s ± 40 ms per loop (mean ± std. dev. of 7 runs, 1 loop each)\n"
     ]
    }
   ],
   "source": [
    "%%timeit func()\n",
    "func()"
   ]
  },
  {
   "cell_type": "code",
   "execution_count": null,
   "id": "b9c25f30",
   "metadata": {
    "execution": {
     "iopub.execute_input": "2021-12-02T04:36:46.889124Z",
     "iopub.status.busy": "2021-12-02T04:36:46.888441Z",
     "iopub.status.idle": "2021-12-02T04:36:51.544747Z",
     "shell.execute_reply": "2021-12-02T04:36:51.544315Z"
    },
    "papermill": {
     "duration": 4.761869,
     "end_time": "2021-12-02T04:36:51.544839",
     "exception": false,
     "start_time": "2021-12-02T04:36:46.782970",
     "status": "completed"
    },
    "tags": []
   },
   "outputs": [
    {
     "name": "stdout",
     "output_type": "stream",
     "text": [
      "         8394 function calls in 6.163 seconds\n",
      "\n",
      "   Ordered by: internal time\n",
      "\n",
      "   ncalls  tottime  percall  cumtime  percall filename:lineno(function)\n",
      "      790    6.112    0.008    6.112    0.008 {method 'acquire' of '_thread.lock' objects}\n",
      "        1    0.017    0.017    6.163    6.163 2661685993.py:1(func)\n",
      "       50    0.010    0.000    0.010    0.000 {built-in method numpy.zeros}\n",
      "       10    0.008    0.001    6.145    0.615 impl.py:308(ccc)\n",
      "       10    0.005    0.000    0.006    0.001 impl.py:211(<dictcomp>)\n",
      "       10    0.001    0.000    4.302    0.430 impl.py:193(cdist_parts_parallel)\n",
      "      100    0.001    0.000    4.294    0.043 _base.py:201(as_completed)\n",
      "      200    0.001    0.000    6.113    0.031 threading.py:280(wait)\n",
      "       10    0.001    0.000    4.303    0.430 impl.py:493(compute_coef)\n",
      "      190    0.000    0.000    0.001    0.000 _base.py:179(_yield_finished_futures)\n",
      "       10    0.000    0.000    0.000    0.000 {built-in method _thread.start_new_thread}\n",
      "      100    0.000    0.000    0.004    0.000 thread.py:161(submit)\n",
      "      100    0.000    0.000    4.293    0.043 threading.py:563(wait)\n",
      "      100    0.000    0.000    1.821    0.018 _base.py:418(result)\n",
      "      480    0.000    0.000    0.000    0.000 threading.py:259(__exit__)\n",
      "      130    0.000    0.000    0.000    0.000 threading.py:228(__init__)\n",
      "       20    0.000    0.000    0.000    0.000 impl.py:243(get_chunks)\n",
      "      480    0.000    0.000    0.000    0.000 threading.py:256(__enter__)\n",
      "      100    0.000    0.000    0.001    0.000 threading.py:411(acquire)\n",
      "       10    0.000    0.000    4.302    0.430 impl.py:486(cdist_func)\n",
      "      100    0.000    0.000    0.003    0.000 thread.py:180(_adjust_thread_count)\n",
      "       10    0.000    0.000    0.000    0.000 {method 'reduce' of 'numpy.ufunc' objects}\n",
      "      190    0.000    0.000    0.000    0.000 threading.py:268(_acquire_restore)\n",
      "       90    0.000    0.000    0.000    0.000 threading.py:553(clear)\n",
      "      100    0.000    0.000    0.000    0.000 _base.py:318(__init__)\n",
      "       40    0.000    0.000    0.000    0.000 {built-in method numpy.core._multiarray_umath.implement_array_function}\n",
      "      110    0.000    0.000    0.000    0.000 {method 'put' of '_queue.SimpleQueue' objects}\n",
      "       30    0.000    0.000    0.000    0.000 {built-in method numpy.arange}\n",
      "       10    0.000    0.000    0.000    0.000 fromnumeric.py:69(_wrapreduction)\n",
      "      600    0.000    0.000    0.000    0.000 {method '__exit__' of '_thread.lock' objects}\n",
      "      140    0.000    0.000    0.000    0.000 utility_functions.py:117(<genexpr>)\n",
      "       10    0.000    0.000    0.000    0.000 thread.py:123(__init__)\n",
      "      190    0.000    0.000    0.000    0.000 threading.py:271(_is_owned)\n",
      "      190    0.000    0.000    0.000    0.000 threading.py:265(_release_save)\n",
      "       30    0.000    0.000    0.000    0.000 numeric.py:289(full)\n",
      "      250    0.000    0.000    0.000    0.000 {built-in method _thread.allocate_lock}\n",
      "       20    0.000    0.000    1.821    0.091 _base.py:602(result_iterator)\n",
      "      190    0.000    0.000    0.000    0.000 {method '__enter__' of '_thread.RLock' objects}\n",
      "      180    0.000    0.000    0.000    0.000 {method 'remove' of 'set' objects}\n",
      "       10    0.000    0.000    0.000    0.000 threading.py:802(__init__)\n",
      "       10    0.000    0.000    0.000    0.000 threading.py:992(_stop)\n",
      "       30    0.000    0.000    0.000    0.000 utility_functions.py:109(chunker)\n",
      "       10    0.000    0.000    0.001    0.000 thread.py:216(shutdown)\n",
      "       30    0.000    0.000    0.000    0.000 {built-in method numpy.empty}\n",
      "       90    0.000    0.000    0.000    0.000 {method 'remove' of 'list' objects}\n",
      "      100    0.000    0.000    0.000    0.000 thread.py:47(__init__)\n",
      "      100    0.000    0.000    0.000    0.000 _base.py:388(__get_result)\n",
      "      100    0.000    0.000    0.000    0.000 threading.py:82(RLock)\n",
      "       10    0.000    0.000    0.000    0.000 {method 'argmax' of 'numpy.ndarray' objects}\n",
      "      100    0.000    0.000    0.000    0.000 {method 'pop' of 'list' objects}\n",
      "      290    0.000    0.000    0.000    0.000 {method '__enter__' of '_thread.lock' objects}\n",
      "       10    0.000    0.000    0.000    0.000 core.py:85(unravel_index_2d)\n",
      "       30    0.000    0.000    0.000    0.000 <__array_function__ internals>:2(copyto)\n",
      "       10    0.000    0.000    0.001    0.000 threading.py:1028(join)\n",
      "       10    0.000    0.000    0.000    0.000 {built-in method builtins.sorted}\n",
      "       10    0.000    0.000    0.000    0.000 _base.py:157(_create_and_install_waiters)\n",
      "       10    0.000    0.000    0.001    0.000 threading.py:1066(_wait_for_tstate_lock)\n",
      "       10    0.000    0.000    0.000    0.000 fromnumeric.py:2638(amax)\n",
      "       10    0.000    0.000    0.000    0.000 <__array_function__ internals>:2(amax)\n",
      "       10    0.000    0.000    0.000    0.000 impl.py:75(get_range_n_clusters)\n",
      "      200    0.000    0.000    0.000    0.000 {method '__exit__' of '_thread.RLock' objects}\n",
      "       20    0.000    0.000    0.000    0.000 threading.py:1358(current_thread)\n",
      "       10    0.000    0.000    0.001    0.000 _base.py:636(__exit__)\n",
      "        2    0.000    0.000    0.000    0.000 {built-in method builtins.compile}\n",
      "       10    0.000    0.000    0.002    0.000 threading.py:880(start)\n",
      "       10    0.000    0.000    0.000    0.000 _base.py:79(__init__)\n",
      "      200    0.000    0.000    0.000    0.000 {method 'append' of 'collections.deque' objects}\n",
      "       10    0.000    0.000    0.000    0.000 threading.py:775(_maintain_shutdown_locks)\n",
      "       10    0.000    0.000    0.000    0.000 weakref.py:370(remove)\n",
      "       10    0.000    0.000    0.000    0.000 {method '_acquire_restore' of '_thread.RLock' objects}\n",
      "      100    0.000    0.000    0.000    0.000 {method 'reverse' of 'list' objects}\n",
      "       10    0.000    0.000    0.000    0.000 _base.py:149(__enter__)\n",
      "      180    0.000    0.000    0.000    0.000 {built-in method time.monotonic}\n",
      "      200    0.000    0.000    0.000    0.000 {method 'release' of '_thread.lock' objects}\n",
      "       10    0.000    0.000    0.000    0.000 ipkernel.py:763(init_closure)\n",
      "       20    0.000    0.000    0.000    0.000 threading.py:528(__init__)\n",
      "       10    0.000    0.000    0.002    0.000 _base.py:573(map)\n",
      "      182    0.000    0.000    0.000    0.000 {built-in method builtins.len}\n",
      "       10    0.000    0.000    0.002    0.000 _base.py:598(<listcomp>)\n",
      "       20    0.000    0.000    0.000    0.000 impl.py:285(get_feature_type_and_encode)\n",
      "       10    0.000    0.000    0.000    0.000 _base.py:63(__init__)\n",
      "       10    0.000    0.000    0.000    0.000 threading.py:405(__init__)\n",
      "       10    0.000    0.000    0.000    0.000 threading.py:785(<listcomp>)\n",
      "       10    0.000    0.000    0.000    0.000 _weakrefset.py:39(_remove)\n",
      "       14    0.000    0.000    0.000    0.000 {built-in method builtins.getattr}\n",
      "       10    0.000    0.000    0.000    0.000 impl.py:219(get_coords_from_index)\n",
      "       10    0.000    0.000    0.000    0.000 _base.py:146(__init__)\n",
      "       10    0.000    0.000    0.000    0.000 _base.py:153(__exit__)\n",
      "       10    0.000    0.000    0.000    0.000 fromnumeric.py:70(<dictcomp>)\n",
      "        2    0.000    0.000    6.163    3.081 interactiveshell.py:3511(run_code)\n",
      "       10    0.000    0.000    0.000    0.000 _base.py:225(<genexpr>)\n",
      "       10    0.000    0.000    0.000    0.000 _weakrefset.py:86(add)\n",
      "       20    0.000    0.000    0.000    0.000 threading.py:1147(daemon)\n",
      "       10    0.000    0.000    0.000    0.000 {method 'difference_update' of 'set' objects}\n",
      "       10    0.000    0.000    0.000    0.000 weakref.py:428(__setitem__)\n",
      "       10    0.000    0.000    0.000    0.000 threading.py:1229(_make_invoke_excepthook)\n",
      "       90    0.000    0.000    0.000    0.000 {method 'remove' of 'collections.deque' objects}\n",
      "       90    0.000    0.000    0.000    0.000 {method 'acquire' of '_thread.RLock' objects}\n",
      "        2    0.000    0.000    0.000    0.000 interactiveshell.py:3336(_update_code_co_name)\n",
      "       10    0.000    0.000    0.000    0.000 {built-in method numpy.asarray}\n",
      "       30    0.000    0.000    0.000    0.000 multiarray.py:1071(copyto)\n",
      "       90    0.000    0.000    0.000    0.000 {method 'append' of 'list' objects}\n",
      "       30    0.000    0.000    0.000    0.000 {method 'locked' of '_thread.lock' objects}\n",
      "       20    0.000    0.000    0.000    0.000 {built-in method builtins.isinstance}\n",
      "       20    0.000    0.000    0.000    0.000 threading.py:536(is_set)\n",
      "       20    0.000    0.000    0.000    0.000 {method 'add' of 'set' objects}\n",
      "        2    0.000    0.000    0.000    0.000 codeop.py:142(__call__)\n",
      "        4    0.000    0.000    0.000    0.000 dis.py:449(findlinestarts)\n",
      "       30    0.000    0.000    0.000    0.000 {built-in method _thread.get_ident}\n",
      "       10    0.000    0.000    0.000    0.000 {method 'items' of 'dict' objects}\n",
      "       90    0.000    0.000    0.000    0.000 {method 'release' of '_thread.RLock' objects}\n",
      "       10    0.000    0.000    0.000    0.000 {method '_release_save' of '_thread.RLock' objects}\n",
      "        2    0.000    0.000    0.000    0.000 traitlets.py:676(__get__)\n",
      "        2    0.000    0.000    0.000    0.000 contextlib.py:86(__init__)\n",
      "       10    0.000    0.000    0.000    0.000 fromnumeric.py:2633(_amax_dispatcher)\n",
      "        2    0.000    0.000    0.000    0.000 hooks.py:103(__call__)\n",
      "       10    0.000    0.000    0.000    0.000 {method 'discard' of 'set' objects}\n",
      "        2    0.000    0.000    0.000    0.000 traitlets.py:629(get)\n",
      "        4    0.000    0.000    0.000    0.000 compilerop.py:166(extra_flags)\n",
      "        1    0.000    0.000    0.000    0.000 689822237.py:4(<cell line: 4>)\n",
      "        2    0.000    0.000    0.000    0.000 contextlib.py:261(helper)\n",
      "        6    0.000    0.000    0.000    0.000 {built-in method builtins.next}\n",
      "        2    0.000    0.000    6.163    3.081 {built-in method builtins.exec}\n",
      "        2    0.000    0.000    0.000    0.000 contextlib.py:114(__enter__)\n",
      "       10    0.000    0.000    0.000    0.000 {method '_is_owned' of '_thread.RLock' objects}\n",
      "       10    0.000    0.000    0.000    0.000 _base.py:633(__enter__)\n",
      "        2    0.000    0.000    0.000    0.000 contextlib.py:123(__exit__)\n",
      "        2    0.000    0.000    0.000    0.000 ipstruct.py:125(__getattr__)\n",
      "        2    0.000    0.000    0.000    0.000 interactiveshell.py:3448(compare)\n",
      "        2    0.000    0.000    0.000    0.000 {method 'replace' of 'code' objects}\n",
      "        2    0.000    0.000    0.000    0.000 interactiveshell.py:1301(user_global_ns)\n",
      "        1    0.000    0.000    6.163    6.163 689822237.py:3(<cell line: 3>)\n",
      "        2    0.000    0.000    0.000    0.000 {built-in method builtins.hasattr}\n",
      "        2    0.000    0.000    0.000    0.000 hooks.py:168(pre_run_code_hook)\n",
      "        1    0.000    0.000    0.000    0.000 {method 'disable' of '_lsprof.Profiler' objects}\n",
      "        4    0.000    0.000    0.000    0.000 typing.py:1375(cast)\n",
      "\n",
      "\n"
     ]
    }
   ],
   "source": [
    "%%prun -s cumulative -l 20\n",
    "func()"
   ]
  },
  {
   "cell_type": "code",
   "execution_count": null,
   "id": "2aa76596-f126-4ba8-8bba-4d31225e0e5d",
   "metadata": {
    "papermill": {
     "duration": 0.102208,
     "end_time": "2021-12-02T04:36:51.764154",
     "exception": false,
     "start_time": "2021-12-02T04:36:51.661946",
     "status": "completed"
    },
    "tags": []
   },
   "outputs": [],
   "source": []
  }
 ],
 "metadata": {
  "jupytext": {
   "cell_metadata_filter": "all,-execution,-papermill,-trusted"
  },
  "kernelspec": {
   "display_name": "Python 3 (ipykernel)",
   "language": "python",
   "name": "python3"
  },
  "language_info": {
   "codemirror_mode": {
    "name": "ipython",
    "version": 3
   },
   "file_extension": ".py",
   "mimetype": "text/x-python",
   "name": "python",
   "nbconvert_exporter": "python",
   "pygments_lexer": "ipython3",
   "version": "3.9.18"
  },
  "papermill": {
   "default_parameters": {},
   "duration": 167.355469,
   "end_time": "2021-12-02T04:36:52.275357",
   "environment_variables": {},
   "exception": null,
   "input_path": "nbs/others/05_clustermatch_profiling/10_cm_optimized/09-cdist_parts_v04.ipynb",
   "output_path": "nbs/others/05_clustermatch_profiling/10_cm_optimized/09-cdist_parts_v04.run.ipynb",
   "parameters": {},
   "start_time": "2021-12-02T04:34:04.919888",
   "version": "2.3.3"
  }
 },
 "nbformat": 4,
 "nbformat_minor": 5
}
