{
 "cells": [
  {
   "cell_type": "markdown",
   "id": "e9773a95-e8fd-4963-87a5-0c92299434d5",
   "metadata": {
    "papermill": {
     "duration": 0.014211,
     "end_time": "2021-09-11T04:18:24.990795",
     "exception": false,
     "start_time": "2021-09-11T04:18:24.976584",
     "status": "completed"
    },
    "tags": []
   },
   "source": [
    "# Description"
   ]
  },
  {
   "cell_type": "markdown",
   "id": "57f34c74-404d-4776-b547-e6acb2df75d7",
   "metadata": {
    "papermill": {
     "duration": 0.010288,
     "end_time": "2021-09-11T04:18:25.011347",
     "exception": false,
     "start_time": "2021-09-11T04:18:25.001059",
     "status": "completed"
    },
    "tags": []
   },
   "source": [
    "According to the settings specified below, this notebook:\n",
    " 1. reads all the data from one source (GTEx, recount2, etc) according to the gene selection method (`GENE_SELECTION_STRATEGY`),\n",
    " 2. runs a quick performance test using the correlation coefficient specified (`CORRELATION_METHOD`), and\n",
    " 3. computes the correlation matrix across all the genes using the correlation coefficient specified."
   ]
  },
  {
   "cell_type": "markdown",
   "id": "1d8fae6b-e623-46a6-aff6-d7849163c820",
   "metadata": {
    "papermill": {
     "duration": 0.009878,
     "end_time": "2021-09-11T04:18:25.031305",
     "exception": false,
     "start_time": "2021-09-11T04:18:25.021427",
     "status": "completed"
    },
    "tags": []
   },
   "source": [
    "# Modules"
   ]
  },
  {
   "cell_type": "code",
   "execution_count": 1,
   "id": "76729f0e-f742-495b-b676-d9d7b1539e10",
   "metadata": {
    "execution": {
     "iopub.execute_input": "2021-09-11T04:18:25.058214Z",
     "iopub.status.busy": "2021-09-11T04:18:25.057738Z",
     "iopub.status.idle": "2021-09-11T04:18:25.502693Z",
     "shell.execute_reply": "2021-09-11T04:18:25.502172Z"
    },
    "papermill": {
     "duration": 0.461603,
     "end_time": "2021-09-11T04:18:25.502805",
     "exception": false,
     "start_time": "2021-09-11T04:18:25.041202",
     "status": "completed"
    },
    "tags": []
   },
   "outputs": [],
   "source": [
    "import pandas as pd\n",
    "from tqdm import tqdm\n",
    "\n",
    "from clustermatch import conf\n",
    "from clustermatch.corr import spearman"
   ]
  },
  {
   "cell_type": "markdown",
   "id": "a6c3a546-9a49-45e7-9f17-fbdb5af4bfb6",
   "metadata": {
    "papermill": {
     "duration": 0.00997,
     "end_time": "2021-09-11T04:18:25.523316",
     "exception": false,
     "start_time": "2021-09-11T04:18:25.513346",
     "status": "completed"
    },
    "tags": []
   },
   "source": [
    "# Settings"
   ]
  },
  {
   "cell_type": "code",
   "execution_count": 2,
   "id": "56ff94d3-a230-4028-a71d-518ac109209b",
   "metadata": {
    "execution": {
     "iopub.execute_input": "2021-09-11T04:18:25.547008Z",
     "iopub.status.busy": "2021-09-11T04:18:25.546555Z",
     "iopub.status.idle": "2021-09-11T04:18:25.548054Z",
     "shell.execute_reply": "2021-09-11T04:18:25.548408Z"
    },
    "papermill": {
     "duration": 0.015049,
     "end_time": "2021-09-11T04:18:25.548518",
     "exception": false,
     "start_time": "2021-09-11T04:18:25.533469",
     "status": "completed"
    },
    "tags": []
   },
   "outputs": [],
   "source": [
    "GENE_SELECTION_STRATEGY = \"var_raw\""
   ]
  },
  {
   "cell_type": "code",
   "execution_count": 3,
   "id": "8baf4209-ba56-4e3d-b60f-6ce2bb686159",
   "metadata": {
    "execution": {
     "iopub.execute_input": "2021-09-11T04:18:25.578010Z",
     "iopub.status.busy": "2021-09-11T04:18:25.577438Z",
     "iopub.status.idle": "2021-09-11T04:18:25.580252Z",
     "shell.execute_reply": "2021-09-11T04:18:25.579873Z"
    },
    "papermill": {
     "duration": 0.021245,
     "end_time": "2021-09-11T04:18:25.580353",
     "exception": false,
     "start_time": "2021-09-11T04:18:25.559108",
     "status": "completed"
    },
    "tags": []
   },
   "outputs": [
    {
     "data": {
      "text/plain": [
       "'spearman'"
      ]
     },
     "metadata": {},
     "output_type": "display_data"
    }
   ],
   "source": [
    "CORRELATION_METHOD = spearman\n",
    "\n",
    "method_name = CORRELATION_METHOD.__name__\n",
    "display(method_name)"
   ]
  },
  {
   "cell_type": "code",
   "execution_count": 4,
   "id": "21a3e349-9a09-4d24-89e3-915fdbf08a81",
   "metadata": {
    "execution": {
     "iopub.execute_input": "2021-09-11T04:18:25.605750Z",
     "iopub.status.busy": "2021-09-11T04:18:25.605279Z",
     "iopub.status.idle": "2021-09-11T04:18:25.606882Z",
     "shell.execute_reply": "2021-09-11T04:18:25.607242Z"
    },
    "papermill": {
     "duration": 0.015927,
     "end_time": "2021-09-11T04:18:25.607355",
     "exception": false,
     "start_time": "2021-09-11T04:18:25.591428",
     "status": "completed"
    },
    "tags": []
   },
   "outputs": [],
   "source": [
    "PERFORMANCE_TEST_N_TOP_GENES = 500"
   ]
  },
  {
   "cell_type": "markdown",
   "id": "b0afcba9-5847-414e-b448-f0cd08ecd8ce",
   "metadata": {
    "papermill": {
     "duration": 0.010311,
     "end_time": "2021-09-11T04:18:25.628515",
     "exception": false,
     "start_time": "2021-09-11T04:18:25.618204",
     "status": "completed"
    },
    "tags": []
   },
   "source": [
    "# Paths"
   ]
  },
  {
   "cell_type": "code",
   "execution_count": 5,
   "id": "35760114-8560-4a0e-ad4f-2bee9104c63d",
   "metadata": {
    "execution": {
     "iopub.execute_input": "2021-09-11T04:18:25.652838Z",
     "iopub.status.busy": "2021-09-11T04:18:25.652339Z",
     "iopub.status.idle": "2021-09-11T04:18:25.654432Z",
     "shell.execute_reply": "2021-09-11T04:18:25.654768Z"
    },
    "papermill": {
     "duration": 0.016241,
     "end_time": "2021-09-11T04:18:25.654885",
     "exception": false,
     "start_time": "2021-09-11T04:18:25.638644",
     "status": "completed"
    },
    "tags": []
   },
   "outputs": [
    {
     "data": {
      "text/plain": [
       "PosixPath('/opt/data/results/gtex_v8/gene_selection')"
      ]
     },
     "metadata": {},
     "output_type": "display_data"
    }
   ],
   "source": [
    "INPUT_DIR = conf.GTEX[\"GENE_SELECTION_DIR\"]\n",
    "display(INPUT_DIR)\n",
    "\n",
    "assert INPUT_DIR.exists()"
   ]
  },
  {
   "cell_type": "code",
   "execution_count": 6,
   "id": "f1418e81-4e77-4f67-b5ed-b29b797e31a0",
   "metadata": {
    "execution": {
     "iopub.execute_input": "2021-09-11T04:18:25.680776Z",
     "iopub.status.busy": "2021-09-11T04:18:25.680293Z",
     "iopub.status.idle": "2021-09-11T04:18:25.682567Z",
     "shell.execute_reply": "2021-09-11T04:18:25.682904Z"
    },
    "papermill": {
     "duration": 0.016938,
     "end_time": "2021-09-11T04:18:25.683020",
     "exception": false,
     "start_time": "2021-09-11T04:18:25.666082",
     "status": "completed"
    },
    "tags": []
   },
   "outputs": [
    {
     "data": {
      "text/plain": [
       "PosixPath('/opt/data/results/gtex_v8/similarity_matrices')"
      ]
     },
     "metadata": {},
     "output_type": "display_data"
    }
   ],
   "source": [
    "OUTPUT_DIR = conf.GTEX[\"SIMILARITY_MATRICES_DIR\"]\n",
    "OUTPUT_DIR.mkdir(parents=True, exist_ok=True)\n",
    "display(OUTPUT_DIR)"
   ]
  },
  {
   "cell_type": "markdown",
   "id": "5fdf8df6-eba0-4cf5-979c-3acd56a5ef3c",
   "metadata": {
    "papermill": {
     "duration": 0.01073,
     "end_time": "2021-09-11T04:18:25.704956",
     "exception": false,
     "start_time": "2021-09-11T04:18:25.694226",
     "status": "completed"
    },
    "tags": []
   },
   "source": [
    "# Data loading"
   ]
  },
  {
   "cell_type": "code",
   "execution_count": 7,
   "id": "596d25ed-4120-4bef-8984-a91ae6529ab5",
   "metadata": {
    "execution": {
     "iopub.execute_input": "2021-09-11T04:18:25.730915Z",
     "iopub.status.busy": "2021-09-11T04:18:25.730465Z",
     "iopub.status.idle": "2021-09-11T04:18:25.735858Z",
     "shell.execute_reply": "2021-09-11T04:18:25.735447Z"
    },
    "papermill": {
     "duration": 0.019893,
     "end_time": "2021-09-11T04:18:25.735992",
     "exception": false,
     "start_time": "2021-09-11T04:18:25.716099",
     "status": "completed"
    },
    "tags": []
   },
   "outputs": [
    {
     "data": {
      "text/plain": [
       "54"
      ]
     },
     "metadata": {},
     "output_type": "display_data"
    },
    {
     "data": {
      "text/plain": [
       "[PosixPath('/opt/data/results/gtex_v8/gene_selection/gtex_v8_data_adipose_subcutaneous-var_raw.pkl'),\n",
       " PosixPath('/opt/data/results/gtex_v8/gene_selection/gtex_v8_data_adipose_visceral_omentum-var_raw.pkl'),\n",
       " PosixPath('/opt/data/results/gtex_v8/gene_selection/gtex_v8_data_adrenal_gland-var_raw.pkl'),\n",
       " PosixPath('/opt/data/results/gtex_v8/gene_selection/gtex_v8_data_artery_aorta-var_raw.pkl'),\n",
       " PosixPath('/opt/data/results/gtex_v8/gene_selection/gtex_v8_data_artery_coronary-var_raw.pkl')]"
      ]
     },
     "metadata": {},
     "output_type": "display_data"
    }
   ],
   "source": [
    "input_files = sorted(list(INPUT_DIR.glob(f\"*-{GENE_SELECTION_STRATEGY}.pkl\")))\n",
    "display(len(input_files))\n",
    "\n",
    "assert len(input_files) == conf.GTEX[\"N_TISSUES\"], len(input_files)\n",
    "display(input_files[:5])"
   ]
  },
  {
   "cell_type": "markdown",
   "id": "081da632-fd12-462a-9ae1-c0ceccf1bb5d",
   "metadata": {
    "papermill": {
     "duration": 0.011232,
     "end_time": "2021-09-11T04:18:25.758949",
     "exception": false,
     "start_time": "2021-09-11T04:18:25.747717",
     "status": "completed"
    },
    "tags": []
   },
   "source": [
    "# Compute similarity"
   ]
  },
  {
   "cell_type": "markdown",
   "id": "37137fff-2d3a-43d8-9bd5-d7c3284a97f5",
   "metadata": {
    "papermill": {
     "duration": 0.013171,
     "end_time": "2021-09-11T04:18:25.784120",
     "exception": false,
     "start_time": "2021-09-11T04:18:25.770949",
     "status": "completed"
    },
    "tags": []
   },
   "source": [
    "## Performance test"
   ]
  },
  {
   "cell_type": "code",
   "execution_count": 8,
   "id": "5dd40707-759f-4bf9-b8cc-84811b2dfe53",
   "metadata": {
    "execution": {
     "iopub.execute_input": "2021-09-11T04:18:25.812646Z",
     "iopub.status.busy": "2021-09-11T04:18:25.812067Z",
     "iopub.status.idle": "2021-09-11T04:18:25.826841Z",
     "shell.execute_reply": "2021-09-11T04:18:25.827244Z"
    },
    "papermill": {
     "duration": 0.03052,
     "end_time": "2021-09-11T04:18:25.827374",
     "exception": false,
     "start_time": "2021-09-11T04:18:25.796854",
     "status": "completed"
    },
    "tags": []
   },
   "outputs": [
    {
     "data": {
      "text/plain": [
       "PosixPath('/opt/data/results/gtex_v8/gene_selection/gtex_v8_data_adipose_subcutaneous-var_raw.pkl')"
      ]
     },
     "metadata": {},
     "output_type": "display_data"
    }
   ],
   "source": [
    "display(input_files[0])\n",
    "test_data = pd.read_pickle(input_files[0]).iloc[:PERFORMANCE_TEST_N_TOP_GENES]"
   ]
  },
  {
   "cell_type": "code",
   "execution_count": 9,
   "id": "e8acd036-93f7-46c0-a1ee-8da0c2c24790",
   "metadata": {
    "execution": {
     "iopub.execute_input": "2021-09-11T04:18:25.856632Z",
     "iopub.status.busy": "2021-09-11T04:18:25.856025Z",
     "iopub.status.idle": "2021-09-11T04:18:25.858804Z",
     "shell.execute_reply": "2021-09-11T04:18:25.858345Z"
    },
    "papermill": {
     "duration": 0.018423,
     "end_time": "2021-09-11T04:18:25.858901",
     "exception": false,
     "start_time": "2021-09-11T04:18:25.840478",
     "status": "completed"
    },
    "tags": []
   },
   "outputs": [
    {
     "data": {
      "text/plain": [
       "(500, 663)"
      ]
     },
     "execution_count": 9,
     "metadata": {},
     "output_type": "execute_result"
    }
   ],
   "source": [
    "test_data.shape"
   ]
  },
  {
   "cell_type": "code",
   "execution_count": 10,
   "id": "111e360b-dbe4-4b69-9029-7b7669eb5ddc",
   "metadata": {
    "execution": {
     "iopub.execute_input": "2021-09-11T04:18:25.898142Z",
     "iopub.status.busy": "2021-09-11T04:18:25.888862Z",
     "iopub.status.idle": "2021-09-11T04:18:25.909756Z",
     "shell.execute_reply": "2021-09-11T04:18:25.909284Z"
    },
    "papermill": {
     "duration": 0.037636,
     "end_time": "2021-09-11T04:18:25.909857",
     "exception": false,
     "start_time": "2021-09-11T04:18:25.872221",
     "status": "completed"
    },
    "tags": []
   },
   "outputs": [
    {
     "data": {
      "text/html": [
       "<div>\n",
       "<style scoped>\n",
       "    .dataframe tbody tr th:only-of-type {\n",
       "        vertical-align: middle;\n",
       "    }\n",
       "\n",
       "    .dataframe tbody tr th {\n",
       "        vertical-align: top;\n",
       "    }\n",
       "\n",
       "    .dataframe thead th {\n",
       "        text-align: right;\n",
       "    }\n",
       "</style>\n",
       "<table border=\"1\" class=\"dataframe\">\n",
       "  <thead>\n",
       "    <tr style=\"text-align: right;\">\n",
       "      <th></th>\n",
       "      <th>GTEX-1117F-0226-SM-5GZZ7</th>\n",
       "      <th>GTEX-111CU-1826-SM-5GZYN</th>\n",
       "      <th>GTEX-111FC-0226-SM-5N9B8</th>\n",
       "      <th>GTEX-111VG-2326-SM-5N9BK</th>\n",
       "      <th>GTEX-111YS-2426-SM-5GZZQ</th>\n",
       "      <th>GTEX-1122O-2026-SM-9YFMG</th>\n",
       "      <th>GTEX-1128S-2126-SM-5H12U</th>\n",
       "      <th>GTEX-113IC-0226-SM-5HL5C</th>\n",
       "      <th>GTEX-117YX-2226-SM-5EGJJ</th>\n",
       "      <th>GTEX-11DXW-0326-SM-5H11W</th>\n",
       "      <th>...</th>\n",
       "      <th>GTEX-ZXES-2026-SM-5NQ6R</th>\n",
       "      <th>GTEX-ZXG5-0226-SM-59HJI</th>\n",
       "      <th>GTEX-ZYFC-0326-SM-5NQ7H</th>\n",
       "      <th>GTEX-ZYFD-0226-SM-5NQ86</th>\n",
       "      <th>GTEX-ZYT6-0326-SM-7LG5R</th>\n",
       "      <th>GTEX-ZYVF-0226-SM-5GIEG</th>\n",
       "      <th>GTEX-ZYW4-0226-SM-5E44M</th>\n",
       "      <th>GTEX-ZYY3-0226-SM-5E45M</th>\n",
       "      <th>GTEX-ZZ64-1626-SM-5E43W</th>\n",
       "      <th>GTEX-ZZPU-2726-SM-5NQ8O</th>\n",
       "    </tr>\n",
       "    <tr>\n",
       "      <th>gene_ens_id</th>\n",
       "      <th></th>\n",
       "      <th></th>\n",
       "      <th></th>\n",
       "      <th></th>\n",
       "      <th></th>\n",
       "      <th></th>\n",
       "      <th></th>\n",
       "      <th></th>\n",
       "      <th></th>\n",
       "      <th></th>\n",
       "      <th></th>\n",
       "      <th></th>\n",
       "      <th></th>\n",
       "      <th></th>\n",
       "      <th></th>\n",
       "      <th></th>\n",
       "      <th></th>\n",
       "      <th></th>\n",
       "      <th></th>\n",
       "      <th></th>\n",
       "      <th></th>\n",
       "    </tr>\n",
       "  </thead>\n",
       "  <tbody>\n",
       "    <tr>\n",
       "      <th>ENSG00000198938.2</th>\n",
       "      <td>19890.0</td>\n",
       "      <td>22670.0</td>\n",
       "      <td>31580.0</td>\n",
       "      <td>35680.0</td>\n",
       "      <td>43170.0</td>\n",
       "      <td>43400.0</td>\n",
       "      <td>23850.0</td>\n",
       "      <td>24240.0</td>\n",
       "      <td>33190.0</td>\n",
       "      <td>38500.0</td>\n",
       "      <td>...</td>\n",
       "      <td>38340.0</td>\n",
       "      <td>28750.0</td>\n",
       "      <td>45570.0</td>\n",
       "      <td>62970.0</td>\n",
       "      <td>37120.0</td>\n",
       "      <td>25490.0</td>\n",
       "      <td>38000.0</td>\n",
       "      <td>38310.0</td>\n",
       "      <td>28740.0</td>\n",
       "      <td>37650.0</td>\n",
       "    </tr>\n",
       "    <tr>\n",
       "      <th>ENSG00000198886.2</th>\n",
       "      <td>12400.0</td>\n",
       "      <td>22230.0</td>\n",
       "      <td>27330.0</td>\n",
       "      <td>18780.0</td>\n",
       "      <td>51290.0</td>\n",
       "      <td>44250.0</td>\n",
       "      <td>36100.0</td>\n",
       "      <td>19370.0</td>\n",
       "      <td>43040.0</td>\n",
       "      <td>39050.0</td>\n",
       "      <td>...</td>\n",
       "      <td>39140.0</td>\n",
       "      <td>19910.0</td>\n",
       "      <td>34190.0</td>\n",
       "      <td>22900.0</td>\n",
       "      <td>26770.0</td>\n",
       "      <td>22350.0</td>\n",
       "      <td>20110.0</td>\n",
       "      <td>36860.0</td>\n",
       "      <td>35940.0</td>\n",
       "      <td>29870.0</td>\n",
       "    </tr>\n",
       "    <tr>\n",
       "      <th>ENSG00000198899.2</th>\n",
       "      <td>13880.0</td>\n",
       "      <td>29860.0</td>\n",
       "      <td>30250.0</td>\n",
       "      <td>25050.0</td>\n",
       "      <td>54710.0</td>\n",
       "      <td>42500.0</td>\n",
       "      <td>35230.0</td>\n",
       "      <td>15870.0</td>\n",
       "      <td>44020.0</td>\n",
       "      <td>42060.0</td>\n",
       "      <td>...</td>\n",
       "      <td>47150.0</td>\n",
       "      <td>27420.0</td>\n",
       "      <td>24630.0</td>\n",
       "      <td>34790.0</td>\n",
       "      <td>29440.0</td>\n",
       "      <td>28640.0</td>\n",
       "      <td>26590.0</td>\n",
       "      <td>40390.0</td>\n",
       "      <td>38170.0</td>\n",
       "      <td>35170.0</td>\n",
       "    </tr>\n",
       "    <tr>\n",
       "      <th>ENSG00000198804.2</th>\n",
       "      <td>10790.0</td>\n",
       "      <td>11170.0</td>\n",
       "      <td>21520.0</td>\n",
       "      <td>20030.0</td>\n",
       "      <td>31460.0</td>\n",
       "      <td>32570.0</td>\n",
       "      <td>21820.0</td>\n",
       "      <td>18570.0</td>\n",
       "      <td>20670.0</td>\n",
       "      <td>20220.0</td>\n",
       "      <td>...</td>\n",
       "      <td>32630.0</td>\n",
       "      <td>21210.0</td>\n",
       "      <td>22990.0</td>\n",
       "      <td>25390.0</td>\n",
       "      <td>24380.0</td>\n",
       "      <td>13940.0</td>\n",
       "      <td>13980.0</td>\n",
       "      <td>18500.0</td>\n",
       "      <td>20760.0</td>\n",
       "      <td>31970.0</td>\n",
       "    </tr>\n",
       "    <tr>\n",
       "      <th>ENSG00000198888.2</th>\n",
       "      <td>15870.0</td>\n",
       "      <td>18770.0</td>\n",
       "      <td>25570.0</td>\n",
       "      <td>19760.0</td>\n",
       "      <td>38440.0</td>\n",
       "      <td>34070.0</td>\n",
       "      <td>27410.0</td>\n",
       "      <td>21560.0</td>\n",
       "      <td>29330.0</td>\n",
       "      <td>36640.0</td>\n",
       "      <td>...</td>\n",
       "      <td>37960.0</td>\n",
       "      <td>24190.0</td>\n",
       "      <td>39950.0</td>\n",
       "      <td>31940.0</td>\n",
       "      <td>25410.0</td>\n",
       "      <td>15760.0</td>\n",
       "      <td>26500.0</td>\n",
       "      <td>28270.0</td>\n",
       "      <td>30060.0</td>\n",
       "      <td>31440.0</td>\n",
       "    </tr>\n",
       "  </tbody>\n",
       "</table>\n",
       "<p>5 rows × 663 columns</p>\n",
       "</div>"
      ],
      "text/plain": [
       "                   GTEX-1117F-0226-SM-5GZZ7  GTEX-111CU-1826-SM-5GZYN  \\\n",
       "gene_ens_id                                                             \n",
       "ENSG00000198938.2                   19890.0                   22670.0   \n",
       "ENSG00000198886.2                   12400.0                   22230.0   \n",
       "ENSG00000198899.2                   13880.0                   29860.0   \n",
       "ENSG00000198804.2                   10790.0                   11170.0   \n",
       "ENSG00000198888.2                   15870.0                   18770.0   \n",
       "\n",
       "                   GTEX-111FC-0226-SM-5N9B8  GTEX-111VG-2326-SM-5N9BK  \\\n",
       "gene_ens_id                                                             \n",
       "ENSG00000198938.2                   31580.0                   35680.0   \n",
       "ENSG00000198886.2                   27330.0                   18780.0   \n",
       "ENSG00000198899.2                   30250.0                   25050.0   \n",
       "ENSG00000198804.2                   21520.0                   20030.0   \n",
       "ENSG00000198888.2                   25570.0                   19760.0   \n",
       "\n",
       "                   GTEX-111YS-2426-SM-5GZZQ  GTEX-1122O-2026-SM-9YFMG  \\\n",
       "gene_ens_id                                                             \n",
       "ENSG00000198938.2                   43170.0                   43400.0   \n",
       "ENSG00000198886.2                   51290.0                   44250.0   \n",
       "ENSG00000198899.2                   54710.0                   42500.0   \n",
       "ENSG00000198804.2                   31460.0                   32570.0   \n",
       "ENSG00000198888.2                   38440.0                   34070.0   \n",
       "\n",
       "                   GTEX-1128S-2126-SM-5H12U  GTEX-113IC-0226-SM-5HL5C  \\\n",
       "gene_ens_id                                                             \n",
       "ENSG00000198938.2                   23850.0                   24240.0   \n",
       "ENSG00000198886.2                   36100.0                   19370.0   \n",
       "ENSG00000198899.2                   35230.0                   15870.0   \n",
       "ENSG00000198804.2                   21820.0                   18570.0   \n",
       "ENSG00000198888.2                   27410.0                   21560.0   \n",
       "\n",
       "                   GTEX-117YX-2226-SM-5EGJJ  GTEX-11DXW-0326-SM-5H11W  ...  \\\n",
       "gene_ens_id                                                            ...   \n",
       "ENSG00000198938.2                   33190.0                   38500.0  ...   \n",
       "ENSG00000198886.2                   43040.0                   39050.0  ...   \n",
       "ENSG00000198899.2                   44020.0                   42060.0  ...   \n",
       "ENSG00000198804.2                   20670.0                   20220.0  ...   \n",
       "ENSG00000198888.2                   29330.0                   36640.0  ...   \n",
       "\n",
       "                   GTEX-ZXES-2026-SM-5NQ6R  GTEX-ZXG5-0226-SM-59HJI  \\\n",
       "gene_ens_id                                                           \n",
       "ENSG00000198938.2                  38340.0                  28750.0   \n",
       "ENSG00000198886.2                  39140.0                  19910.0   \n",
       "ENSG00000198899.2                  47150.0                  27420.0   \n",
       "ENSG00000198804.2                  32630.0                  21210.0   \n",
       "ENSG00000198888.2                  37960.0                  24190.0   \n",
       "\n",
       "                   GTEX-ZYFC-0326-SM-5NQ7H  GTEX-ZYFD-0226-SM-5NQ86  \\\n",
       "gene_ens_id                                                           \n",
       "ENSG00000198938.2                  45570.0                  62970.0   \n",
       "ENSG00000198886.2                  34190.0                  22900.0   \n",
       "ENSG00000198899.2                  24630.0                  34790.0   \n",
       "ENSG00000198804.2                  22990.0                  25390.0   \n",
       "ENSG00000198888.2                  39950.0                  31940.0   \n",
       "\n",
       "                   GTEX-ZYT6-0326-SM-7LG5R  GTEX-ZYVF-0226-SM-5GIEG  \\\n",
       "gene_ens_id                                                           \n",
       "ENSG00000198938.2                  37120.0                  25490.0   \n",
       "ENSG00000198886.2                  26770.0                  22350.0   \n",
       "ENSG00000198899.2                  29440.0                  28640.0   \n",
       "ENSG00000198804.2                  24380.0                  13940.0   \n",
       "ENSG00000198888.2                  25410.0                  15760.0   \n",
       "\n",
       "                   GTEX-ZYW4-0226-SM-5E44M  GTEX-ZYY3-0226-SM-5E45M  \\\n",
       "gene_ens_id                                                           \n",
       "ENSG00000198938.2                  38000.0                  38310.0   \n",
       "ENSG00000198886.2                  20110.0                  36860.0   \n",
       "ENSG00000198899.2                  26590.0                  40390.0   \n",
       "ENSG00000198804.2                  13980.0                  18500.0   \n",
       "ENSG00000198888.2                  26500.0                  28270.0   \n",
       "\n",
       "                   GTEX-ZZ64-1626-SM-5E43W  GTEX-ZZPU-2726-SM-5NQ8O  \n",
       "gene_ens_id                                                          \n",
       "ENSG00000198938.2                  28740.0                  37650.0  \n",
       "ENSG00000198886.2                  35940.0                  29870.0  \n",
       "ENSG00000198899.2                  38170.0                  35170.0  \n",
       "ENSG00000198804.2                  20760.0                  31970.0  \n",
       "ENSG00000198888.2                  30060.0                  31440.0  \n",
       "\n",
       "[5 rows x 663 columns]"
      ]
     },
     "execution_count": 10,
     "metadata": {},
     "output_type": "execute_result"
    }
   ],
   "source": [
    "test_data.head()"
   ]
  },
  {
   "cell_type": "markdown",
   "id": "5903f3f5-791e-4f03-9d79-600102933d04",
   "metadata": {
    "papermill": {
     "duration": 0.013158,
     "end_time": "2021-09-11T04:18:25.936452",
     "exception": false,
     "start_time": "2021-09-11T04:18:25.923294",
     "status": "completed"
    },
    "tags": []
   },
   "source": [
    "This is a quick performance test of the correlation measure. The following line (`_tmp = ...`) is the setup code, which is needed in case the correlation method was optimized using `numba` and needs to be compiled before performing the test."
   ]
  },
  {
   "cell_type": "code",
   "execution_count": 11,
   "id": "118a6631-1cfd-44a3-bd85-5ec7118edd03",
   "metadata": {
    "execution": {
     "iopub.execute_input": "2021-09-11T04:18:25.965703Z",
     "iopub.status.busy": "2021-09-11T04:18:25.964768Z",
     "iopub.status.idle": "2021-09-11T04:18:25.972181Z",
     "shell.execute_reply": "2021-09-11T04:18:25.972536Z"
    },
    "papermill": {
     "duration": 0.023837,
     "end_time": "2021-09-11T04:18:25.972702",
     "exception": false,
     "start_time": "2021-09-11T04:18:25.948865",
     "status": "completed"
    },
    "tags": []
   },
   "outputs": [
    {
     "data": {
      "text/plain": [
       "(3, 3)"
      ]
     },
     "metadata": {},
     "output_type": "display_data"
    },
    {
     "data": {
      "text/html": [
       "<div>\n",
       "<style scoped>\n",
       "    .dataframe tbody tr th:only-of-type {\n",
       "        vertical-align: middle;\n",
       "    }\n",
       "\n",
       "    .dataframe tbody tr th {\n",
       "        vertical-align: top;\n",
       "    }\n",
       "\n",
       "    .dataframe thead th {\n",
       "        text-align: right;\n",
       "    }\n",
       "</style>\n",
       "<table border=\"1\" class=\"dataframe\">\n",
       "  <thead>\n",
       "    <tr style=\"text-align: right;\">\n",
       "      <th>gene_ens_id</th>\n",
       "      <th>ENSG00000198938.2</th>\n",
       "      <th>ENSG00000198886.2</th>\n",
       "      <th>ENSG00000198899.2</th>\n",
       "    </tr>\n",
       "    <tr>\n",
       "      <th>gene_ens_id</th>\n",
       "      <th></th>\n",
       "      <th></th>\n",
       "      <th></th>\n",
       "    </tr>\n",
       "  </thead>\n",
       "  <tbody>\n",
       "    <tr>\n",
       "      <th>ENSG00000198938.2</th>\n",
       "      <td>1.000000</td>\n",
       "      <td>0.477131</td>\n",
       "      <td>0.607149</td>\n",
       "    </tr>\n",
       "    <tr>\n",
       "      <th>ENSG00000198886.2</th>\n",
       "      <td>0.477131</td>\n",
       "      <td>1.000000</td>\n",
       "      <td>0.821754</td>\n",
       "    </tr>\n",
       "    <tr>\n",
       "      <th>ENSG00000198899.2</th>\n",
       "      <td>0.607149</td>\n",
       "      <td>0.821754</td>\n",
       "      <td>1.000000</td>\n",
       "    </tr>\n",
       "  </tbody>\n",
       "</table>\n",
       "</div>"
      ],
      "text/plain": [
       "gene_ens_id        ENSG00000198938.2  ENSG00000198886.2  ENSG00000198899.2\n",
       "gene_ens_id                                                               \n",
       "ENSG00000198938.2           1.000000           0.477131           0.607149\n",
       "ENSG00000198886.2           0.477131           1.000000           0.821754\n",
       "ENSG00000198899.2           0.607149           0.821754           1.000000"
      ]
     },
     "metadata": {},
     "output_type": "display_data"
    }
   ],
   "source": [
    "_tmp = CORRELATION_METHOD(test_data.iloc[:3])\n",
    "\n",
    "display(_tmp.shape)\n",
    "display(_tmp)"
   ]
  },
  {
   "cell_type": "code",
   "execution_count": 12,
   "id": "d32281d8-f640-4f87-a1d5-aefa0757e9c3",
   "metadata": {
    "execution": {
     "iopub.execute_input": "2021-09-11T04:18:26.003107Z",
     "iopub.status.busy": "2021-09-11T04:18:26.002650Z",
     "iopub.status.idle": "2021-09-11T04:18:31.523433Z",
     "shell.execute_reply": "2021-09-11T04:18:31.522986Z"
    },
    "papermill": {
     "duration": 5.537381,
     "end_time": "2021-09-11T04:18:31.523531",
     "exception": false,
     "start_time": "2021-09-11T04:18:25.986150",
     "status": "completed"
    },
    "tags": []
   },
   "outputs": [
    {
     "name": "stdout",
     "output_type": "stream",
     "text": [
      "68.2 ms ± 231 µs per loop (mean ± std. dev. of 7 runs, 10 loops each)\n"
     ]
    }
   ],
   "source": [
    "%timeit CORRELATION_METHOD(test_data)"
   ]
  },
  {
   "cell_type": "markdown",
   "id": "fc2f7184-c0da-438c-94f5-002912793636",
   "metadata": {
    "papermill": {
     "duration": 0.013137,
     "end_time": "2021-09-11T04:18:31.550247",
     "exception": false,
     "start_time": "2021-09-11T04:18:31.537110",
     "status": "completed"
    },
    "tags": []
   },
   "source": [
    "## Run"
   ]
  },
  {
   "cell_type": "code",
   "execution_count": 13,
   "id": "1237ae45-d4fc-4074-bfc7-a1de75aeea48",
   "metadata": {
    "execution": {
     "iopub.execute_input": "2021-09-11T04:18:31.580931Z",
     "iopub.status.busy": "2021-09-11T04:18:31.580468Z",
     "iopub.status.idle": "2021-09-11T04:21:17.194180Z",
     "shell.execute_reply": "2021-09-11T04:21:17.192736Z"
    },
    "papermill": {
     "duration": 165.630997,
     "end_time": "2021-09-11T04:21:17.194287",
     "exception": false,
     "start_time": "2021-09-11T04:18:31.563290",
     "status": "completed"
    },
    "tags": []
   },
   "outputs": [
    {
     "name": "stderr",
     "output_type": "stream",
     "text": [
      "gtex_v8_data_whole_blood-var_raw: 100%|█████████████████████████████| 54/54 [02:45<00:00,  3.07s/it]\n"
     ]
    }
   ],
   "source": [
    "pbar = tqdm(input_files, ncols=100)\n",
    "\n",
    "for tissue_data_file in pbar:\n",
    "    pbar.set_description(tissue_data_file.stem)\n",
    "\n",
    "    # read\n",
    "    data = pd.read_pickle(tissue_data_file)\n",
    "\n",
    "    # compute correlations\n",
    "    data_corrs = CORRELATION_METHOD(data)\n",
    "\n",
    "    # save\n",
    "    output_filename = f\"{tissue_data_file.stem}-{method_name}.pkl\"\n",
    "    data_corrs.to_pickle(path=OUTPUT_DIR / output_filename)"
   ]
  },
  {
   "cell_type": "code",
   "execution_count": null,
   "id": "258babdf-03ce-4450-ab22-7a3d75bf6869",
   "metadata": {
    "papermill": {
     "duration": 0.035066,
     "end_time": "2021-09-11T04:21:17.264825",
     "exception": false,
     "start_time": "2021-09-11T04:21:17.229759",
     "status": "completed"
    },
    "tags": []
   },
   "outputs": [],
   "source": []
  }
 ],
 "metadata": {
  "jupytext": {
   "cell_metadata_filter": "all,-execution,-papermill,-trusted"
  },
  "kernelspec": {
   "display_name": "Python 3 (ipykernel)",
   "language": "python",
   "name": "python3"
  },
  "language_info": {
   "codemirror_mode": {
    "name": "ipython",
    "version": 3
   },
   "file_extension": ".py",
   "mimetype": "text/x-python",
   "name": "python",
   "nbconvert_exporter": "python",
   "pygments_lexer": "ipython3",
   "version": "3.9.7"
  },
  "papermill": {
   "default_parameters": {},
   "duration": 173.810935,
   "end_time": "2021-09-11T04:21:17.609794",
   "environment_variables": {},
   "exception": null,
   "input_path": "nbs/10_compute_correlations/05_gtex_v8/06_00-gtex-var_raw-spearman.ipynb",
   "output_path": "nbs/10_compute_correlations/05_gtex_v8/06_00-gtex-var_raw-spearman.run.ipynb",
   "parameters": {},
   "start_time": "2021-09-11T04:18:23.798859",
   "version": "2.3.3"
  }
 },
 "nbformat": 4,
 "nbformat_minor": 5
}
