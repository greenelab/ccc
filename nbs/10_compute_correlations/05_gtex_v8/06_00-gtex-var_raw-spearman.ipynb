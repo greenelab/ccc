{
 "cells": [
  {
   "cell_type": "markdown",
   "id": "e9773a95-e8fd-4963-87a5-0c92299434d5",
   "metadata": {
    "papermill": {
     "duration": 0.039348,
     "end_time": "2021-09-01T16:50:28.619472",
     "exception": false,
     "start_time": "2021-09-01T16:50:28.580124",
     "status": "completed"
    },
    "tags": []
   },
   "source": [
    "# Description"
   ]
  },
  {
   "cell_type": "markdown",
   "id": "57f34c74-404d-4776-b547-e6acb2df75d7",
   "metadata": {
    "papermill": {
     "duration": 0.010185,
     "end_time": "2021-09-01T16:50:28.645667",
     "exception": false,
     "start_time": "2021-09-01T16:50:28.635482",
     "status": "completed"
    },
    "tags": []
   },
   "source": [
    "According to the settings specified below, this notebook:\n",
    " 1. reads all the data from one source (GTEx, recount2, etc) according to the gene selection method (`GENE_SELECTION_STRATEGY`),\n",
    " 2. runs a quick performance test using the correlation coefficient specified (`CORRELATION_METHOD`), and\n",
    " 3. computes the correlation matrix across all the genes using the correlation coefficient specified."
   ]
  },
  {
   "cell_type": "markdown",
   "id": "1d8fae6b-e623-46a6-aff6-d7849163c820",
   "metadata": {
    "papermill": {
     "duration": 0.008914,
     "end_time": "2021-09-01T16:50:28.663566",
     "exception": false,
     "start_time": "2021-09-01T16:50:28.654652",
     "status": "completed"
    },
    "tags": []
   },
   "source": [
    "# Modules"
   ]
  },
  {
   "cell_type": "code",
   "execution_count": 1,
   "id": "76729f0e-f742-495b-b676-d9d7b1539e10",
   "metadata": {
    "execution": {
     "iopub.execute_input": "2021-09-01T16:50:28.689278Z",
     "iopub.status.busy": "2021-09-01T16:50:28.688822Z",
     "iopub.status.idle": "2021-09-01T16:50:29.289435Z",
     "shell.execute_reply": "2021-09-01T16:50:29.288957Z"
    },
    "papermill": {
     "duration": 0.617024,
     "end_time": "2021-09-01T16:50:29.289547",
     "exception": false,
     "start_time": "2021-09-01T16:50:28.672523",
     "status": "completed"
    },
    "tags": []
   },
   "outputs": [],
   "source": [
    "import pandas as pd\n",
    "from tqdm import tqdm\n",
    "\n",
    "from clustermatch import conf\n",
    "from clustermatch.corr import spearman"
   ]
  },
  {
   "cell_type": "markdown",
   "id": "a6c3a546-9a49-45e7-9f17-fbdb5af4bfb6",
   "metadata": {
    "papermill": {
     "duration": 0.009085,
     "end_time": "2021-09-01T16:50:29.308132",
     "exception": false,
     "start_time": "2021-09-01T16:50:29.299047",
     "status": "completed"
    },
    "tags": []
   },
   "source": [
    "# Settings"
   ]
  },
  {
   "cell_type": "code",
   "execution_count": 2,
   "id": "56ff94d3-a230-4028-a71d-518ac109209b",
   "metadata": {
    "execution": {
     "iopub.execute_input": "2021-09-01T16:50:29.330338Z",
     "iopub.status.busy": "2021-09-01T16:50:29.329869Z",
     "iopub.status.idle": "2021-09-01T16:50:29.331542Z",
     "shell.execute_reply": "2021-09-01T16:50:29.331921Z"
    },
    "papermill": {
     "duration": 0.014813,
     "end_time": "2021-09-01T16:50:29.332048",
     "exception": false,
     "start_time": "2021-09-01T16:50:29.317235",
     "status": "completed"
    },
    "tags": []
   },
   "outputs": [],
   "source": [
    "GENE_SELECTION_STRATEGY = \"var_raw\""
   ]
  },
  {
   "cell_type": "code",
   "execution_count": 3,
   "id": "8baf4209-ba56-4e3d-b60f-6ce2bb686159",
   "metadata": {
    "execution": {
     "iopub.execute_input": "2021-09-01T16:50:29.359264Z",
     "iopub.status.busy": "2021-09-01T16:50:29.358300Z",
     "iopub.status.idle": "2021-09-01T16:50:29.363351Z",
     "shell.execute_reply": "2021-09-01T16:50:29.362970Z"
    },
    "papermill": {
     "duration": 0.021593,
     "end_time": "2021-09-01T16:50:29.363450",
     "exception": false,
     "start_time": "2021-09-01T16:50:29.341857",
     "status": "completed"
    },
    "tags": []
   },
   "outputs": [
    {
     "data": {
      "text/plain": [
       "'spearman'"
      ]
     },
     "metadata": {},
     "output_type": "display_data"
    }
   ],
   "source": [
    "CORRELATION_METHOD = spearman\n",
    "\n",
    "method_name = CORRELATION_METHOD.__name__\n",
    "display(method_name)"
   ]
  },
  {
   "cell_type": "code",
   "execution_count": 4,
   "id": "21a3e349-9a09-4d24-89e3-915fdbf08a81",
   "metadata": {
    "execution": {
     "iopub.execute_input": "2021-09-01T16:50:29.387502Z",
     "iopub.status.busy": "2021-09-01T16:50:29.387052Z",
     "iopub.status.idle": "2021-09-01T16:50:29.388979Z",
     "shell.execute_reply": "2021-09-01T16:50:29.388611Z"
    },
    "papermill": {
     "duration": 0.014951,
     "end_time": "2021-09-01T16:50:29.389075",
     "exception": false,
     "start_time": "2021-09-01T16:50:29.374124",
     "status": "completed"
    },
    "tags": []
   },
   "outputs": [],
   "source": [
    "PERFORMANCE_TEST_N_TOP_GENES = 500"
   ]
  },
  {
   "cell_type": "markdown",
   "id": "b0afcba9-5847-414e-b448-f0cd08ecd8ce",
   "metadata": {
    "papermill": {
     "duration": 0.009847,
     "end_time": "2021-09-01T16:50:29.409160",
     "exception": false,
     "start_time": "2021-09-01T16:50:29.399313",
     "status": "completed"
    },
    "tags": []
   },
   "source": [
    "# Paths"
   ]
  },
  {
   "cell_type": "code",
   "execution_count": 5,
   "id": "35760114-8560-4a0e-ad4f-2bee9104c63d",
   "metadata": {
    "execution": {
     "iopub.execute_input": "2021-09-01T16:50:29.432619Z",
     "iopub.status.busy": "2021-09-01T16:50:29.432102Z",
     "iopub.status.idle": "2021-09-01T16:50:29.434992Z",
     "shell.execute_reply": "2021-09-01T16:50:29.434622Z"
    },
    "papermill": {
     "duration": 0.016011,
     "end_time": "2021-09-01T16:50:29.435086",
     "exception": false,
     "start_time": "2021-09-01T16:50:29.419075",
     "status": "completed"
    },
    "tags": []
   },
   "outputs": [
    {
     "data": {
      "text/plain": [
       "PosixPath('/opt/data/results/gtex_v8/gene_selection')"
      ]
     },
     "metadata": {},
     "output_type": "display_data"
    }
   ],
   "source": [
    "INPUT_DIR = conf.GTEX[\"GENE_SELECTION_DIR\"]\n",
    "display(INPUT_DIR)\n",
    "\n",
    "assert INPUT_DIR.exists()"
   ]
  },
  {
   "cell_type": "code",
   "execution_count": 6,
   "id": "f1418e81-4e77-4f67-b5ed-b29b797e31a0",
   "metadata": {
    "execution": {
     "iopub.execute_input": "2021-09-01T16:50:29.458956Z",
     "iopub.status.busy": "2021-09-01T16:50:29.458418Z",
     "iopub.status.idle": "2021-09-01T16:50:29.461365Z",
     "shell.execute_reply": "2021-09-01T16:50:29.460918Z"
    },
    "papermill": {
     "duration": 0.016244,
     "end_time": "2021-09-01T16:50:29.461457",
     "exception": false,
     "start_time": "2021-09-01T16:50:29.445213",
     "status": "completed"
    },
    "tags": []
   },
   "outputs": [
    {
     "data": {
      "text/plain": [
       "PosixPath('/opt/data/results/gtex_v8/similarity_matrices')"
      ]
     },
     "metadata": {},
     "output_type": "display_data"
    }
   ],
   "source": [
    "OUTPUT_DIR = conf.GTEX[\"SIMILARITY_MATRICES_DIR\"]\n",
    "OUTPUT_DIR.mkdir(parents=True, exist_ok=True)\n",
    "display(OUTPUT_DIR)"
   ]
  },
  {
   "cell_type": "markdown",
   "id": "5fdf8df6-eba0-4cf5-979c-3acd56a5ef3c",
   "metadata": {
    "papermill": {
     "duration": 0.010571,
     "end_time": "2021-09-01T16:50:29.482915",
     "exception": false,
     "start_time": "2021-09-01T16:50:29.472344",
     "status": "completed"
    },
    "tags": []
   },
   "source": [
    "# Data loading"
   ]
  },
  {
   "cell_type": "code",
   "execution_count": 7,
   "id": "596d25ed-4120-4bef-8984-a91ae6529ab5",
   "metadata": {
    "execution": {
     "iopub.execute_input": "2021-09-01T16:50:29.507392Z",
     "iopub.status.busy": "2021-09-01T16:50:29.506908Z",
     "iopub.status.idle": "2021-09-01T16:50:29.511899Z",
     "shell.execute_reply": "2021-09-01T16:50:29.512268Z"
    },
    "papermill": {
     "duration": 0.018945,
     "end_time": "2021-09-01T16:50:29.512377",
     "exception": false,
     "start_time": "2021-09-01T16:50:29.493432",
     "status": "completed"
    },
    "tags": []
   },
   "outputs": [
    {
     "data": {
      "text/plain": [
       "54"
      ]
     },
     "metadata": {},
     "output_type": "display_data"
    },
    {
     "data": {
      "text/plain": [
       "[PosixPath('/opt/data/results/gtex_v8/gene_selection/gtex_v8_data_adipose_subcutaneous-var_raw.pkl'),\n",
       " PosixPath('/opt/data/results/gtex_v8/gene_selection/gtex_v8_data_adipose_visceral_omentum-var_raw.pkl'),\n",
       " PosixPath('/opt/data/results/gtex_v8/gene_selection/gtex_v8_data_adrenal_gland-var_raw.pkl'),\n",
       " PosixPath('/opt/data/results/gtex_v8/gene_selection/gtex_v8_data_artery_aorta-var_raw.pkl'),\n",
       " PosixPath('/opt/data/results/gtex_v8/gene_selection/gtex_v8_data_artery_coronary-var_raw.pkl')]"
      ]
     },
     "metadata": {},
     "output_type": "display_data"
    }
   ],
   "source": [
    "input_files = sorted(list(INPUT_DIR.glob(f\"*-{GENE_SELECTION_STRATEGY}.pkl\")))\n",
    "display(len(input_files))\n",
    "\n",
    "assert len(input_files) == conf.GTEX[\"N_TISSUES\"], len(input_files)\n",
    "display(input_files[:5])"
   ]
  },
  {
   "cell_type": "markdown",
   "id": "081da632-fd12-462a-9ae1-c0ceccf1bb5d",
   "metadata": {
    "papermill": {
     "duration": 0.010902,
     "end_time": "2021-09-01T16:50:29.534433",
     "exception": false,
     "start_time": "2021-09-01T16:50:29.523531",
     "status": "completed"
    },
    "tags": []
   },
   "source": [
    "# Compute similarity"
   ]
  },
  {
   "cell_type": "markdown",
   "id": "37137fff-2d3a-43d8-9bd5-d7c3284a97f5",
   "metadata": {
    "papermill": {
     "duration": 0.010649,
     "end_time": "2021-09-01T16:50:29.556032",
     "exception": false,
     "start_time": "2021-09-01T16:50:29.545383",
     "status": "completed"
    },
    "tags": []
   },
   "source": [
    "## Performance test"
   ]
  },
  {
   "cell_type": "code",
   "execution_count": 8,
   "id": "5dd40707-759f-4bf9-b8cc-84811b2dfe53",
   "metadata": {
    "execution": {
     "iopub.execute_input": "2021-09-01T16:50:29.581847Z",
     "iopub.status.busy": "2021-09-01T16:50:29.581325Z",
     "iopub.status.idle": "2021-09-01T16:50:29.595641Z",
     "shell.execute_reply": "2021-09-01T16:50:29.595215Z"
    },
    "papermill": {
     "duration": 0.028707,
     "end_time": "2021-09-01T16:50:29.595744",
     "exception": false,
     "start_time": "2021-09-01T16:50:29.567037",
     "status": "completed"
    },
    "tags": []
   },
   "outputs": [
    {
     "data": {
      "text/plain": [
       "PosixPath('/opt/data/results/gtex_v8/gene_selection/gtex_v8_data_adipose_subcutaneous-var_raw.pkl')"
      ]
     },
     "metadata": {},
     "output_type": "display_data"
    }
   ],
   "source": [
    "display(input_files[0])\n",
    "test_data = pd.read_pickle(input_files[0]).iloc[:PERFORMANCE_TEST_N_TOP_GENES]"
   ]
  },
  {
   "cell_type": "code",
   "execution_count": 9,
   "id": "e8acd036-93f7-46c0-a1ee-8da0c2c24790",
   "metadata": {
    "execution": {
     "iopub.execute_input": "2021-09-01T16:50:29.624078Z",
     "iopub.status.busy": "2021-09-01T16:50:29.623590Z",
     "iopub.status.idle": "2021-09-01T16:50:29.626541Z",
     "shell.execute_reply": "2021-09-01T16:50:29.626133Z"
    },
    "papermill": {
     "duration": 0.018338,
     "end_time": "2021-09-01T16:50:29.626638",
     "exception": false,
     "start_time": "2021-09-01T16:50:29.608300",
     "status": "completed"
    },
    "tags": []
   },
   "outputs": [
    {
     "data": {
      "text/plain": [
       "(5000, 663)"
      ]
     },
     "execution_count": 9,
     "metadata": {},
     "output_type": "execute_result"
    }
   ],
   "source": [
    "test_data.shape"
   ]
  },
  {
   "cell_type": "code",
   "execution_count": 10,
   "id": "111e360b-dbe4-4b69-9029-7b7669eb5ddc",
   "metadata": {
    "execution": {
     "iopub.execute_input": "2021-09-01T16:50:29.672306Z",
     "iopub.status.busy": "2021-09-01T16:50:29.664025Z",
     "iopub.status.idle": "2021-09-01T16:50:29.675425Z",
     "shell.execute_reply": "2021-09-01T16:50:29.674960Z"
    },
    "papermill": {
     "duration": 0.036518,
     "end_time": "2021-09-01T16:50:29.675521",
     "exception": false,
     "start_time": "2021-09-01T16:50:29.639003",
     "status": "completed"
    },
    "tags": []
   },
   "outputs": [
    {
     "data": {
      "text/html": [
       "<div>\n",
       "<style scoped>\n",
       "    .dataframe tbody tr th:only-of-type {\n",
       "        vertical-align: middle;\n",
       "    }\n",
       "\n",
       "    .dataframe tbody tr th {\n",
       "        vertical-align: top;\n",
       "    }\n",
       "\n",
       "    .dataframe thead th {\n",
       "        text-align: right;\n",
       "    }\n",
       "</style>\n",
       "<table border=\"1\" class=\"dataframe\">\n",
       "  <thead>\n",
       "    <tr style=\"text-align: right;\">\n",
       "      <th></th>\n",
       "      <th>GTEX-1117F-0226-SM-5GZZ7</th>\n",
       "      <th>GTEX-111CU-1826-SM-5GZYN</th>\n",
       "      <th>GTEX-111FC-0226-SM-5N9B8</th>\n",
       "      <th>GTEX-111VG-2326-SM-5N9BK</th>\n",
       "      <th>GTEX-111YS-2426-SM-5GZZQ</th>\n",
       "      <th>GTEX-1122O-2026-SM-9YFMG</th>\n",
       "      <th>GTEX-1128S-2126-SM-5H12U</th>\n",
       "      <th>GTEX-113IC-0226-SM-5HL5C</th>\n",
       "      <th>GTEX-117YX-2226-SM-5EGJJ</th>\n",
       "      <th>GTEX-11DXW-0326-SM-5H11W</th>\n",
       "      <th>...</th>\n",
       "      <th>GTEX-ZXES-2026-SM-5NQ6R</th>\n",
       "      <th>GTEX-ZXG5-0226-SM-59HJI</th>\n",
       "      <th>GTEX-ZYFC-0326-SM-5NQ7H</th>\n",
       "      <th>GTEX-ZYFD-0226-SM-5NQ86</th>\n",
       "      <th>GTEX-ZYT6-0326-SM-7LG5R</th>\n",
       "      <th>GTEX-ZYVF-0226-SM-5GIEG</th>\n",
       "      <th>GTEX-ZYW4-0226-SM-5E44M</th>\n",
       "      <th>GTEX-ZYY3-0226-SM-5E45M</th>\n",
       "      <th>GTEX-ZZ64-1626-SM-5E43W</th>\n",
       "      <th>GTEX-ZZPU-2726-SM-5NQ8O</th>\n",
       "    </tr>\n",
       "    <tr>\n",
       "      <th>gene_ens_id</th>\n",
       "      <th></th>\n",
       "      <th></th>\n",
       "      <th></th>\n",
       "      <th></th>\n",
       "      <th></th>\n",
       "      <th></th>\n",
       "      <th></th>\n",
       "      <th></th>\n",
       "      <th></th>\n",
       "      <th></th>\n",
       "      <th></th>\n",
       "      <th></th>\n",
       "      <th></th>\n",
       "      <th></th>\n",
       "      <th></th>\n",
       "      <th></th>\n",
       "      <th></th>\n",
       "      <th></th>\n",
       "      <th></th>\n",
       "      <th></th>\n",
       "      <th></th>\n",
       "    </tr>\n",
       "  </thead>\n",
       "  <tbody>\n",
       "    <tr>\n",
       "      <th>ENSG00000198938.2</th>\n",
       "      <td>19890.0</td>\n",
       "      <td>22670.0</td>\n",
       "      <td>31580.0</td>\n",
       "      <td>35680.0</td>\n",
       "      <td>43170.0</td>\n",
       "      <td>43400.0</td>\n",
       "      <td>23850.0</td>\n",
       "      <td>24240.0</td>\n",
       "      <td>33190.0</td>\n",
       "      <td>38500.0</td>\n",
       "      <td>...</td>\n",
       "      <td>38340.0</td>\n",
       "      <td>28750.0</td>\n",
       "      <td>45570.0</td>\n",
       "      <td>62970.0</td>\n",
       "      <td>37120.0</td>\n",
       "      <td>25490.0</td>\n",
       "      <td>38000.0</td>\n",
       "      <td>38310.0</td>\n",
       "      <td>28740.0</td>\n",
       "      <td>37650.0</td>\n",
       "    </tr>\n",
       "    <tr>\n",
       "      <th>ENSG00000198886.2</th>\n",
       "      <td>12400.0</td>\n",
       "      <td>22230.0</td>\n",
       "      <td>27330.0</td>\n",
       "      <td>18780.0</td>\n",
       "      <td>51290.0</td>\n",
       "      <td>44250.0</td>\n",
       "      <td>36100.0</td>\n",
       "      <td>19370.0</td>\n",
       "      <td>43040.0</td>\n",
       "      <td>39050.0</td>\n",
       "      <td>...</td>\n",
       "      <td>39140.0</td>\n",
       "      <td>19910.0</td>\n",
       "      <td>34190.0</td>\n",
       "      <td>22900.0</td>\n",
       "      <td>26770.0</td>\n",
       "      <td>22350.0</td>\n",
       "      <td>20110.0</td>\n",
       "      <td>36860.0</td>\n",
       "      <td>35940.0</td>\n",
       "      <td>29870.0</td>\n",
       "    </tr>\n",
       "    <tr>\n",
       "      <th>ENSG00000198899.2</th>\n",
       "      <td>13880.0</td>\n",
       "      <td>29860.0</td>\n",
       "      <td>30250.0</td>\n",
       "      <td>25050.0</td>\n",
       "      <td>54710.0</td>\n",
       "      <td>42500.0</td>\n",
       "      <td>35230.0</td>\n",
       "      <td>15870.0</td>\n",
       "      <td>44020.0</td>\n",
       "      <td>42060.0</td>\n",
       "      <td>...</td>\n",
       "      <td>47150.0</td>\n",
       "      <td>27420.0</td>\n",
       "      <td>24630.0</td>\n",
       "      <td>34790.0</td>\n",
       "      <td>29440.0</td>\n",
       "      <td>28640.0</td>\n",
       "      <td>26590.0</td>\n",
       "      <td>40390.0</td>\n",
       "      <td>38170.0</td>\n",
       "      <td>35170.0</td>\n",
       "    </tr>\n",
       "    <tr>\n",
       "      <th>ENSG00000198804.2</th>\n",
       "      <td>10790.0</td>\n",
       "      <td>11170.0</td>\n",
       "      <td>21520.0</td>\n",
       "      <td>20030.0</td>\n",
       "      <td>31460.0</td>\n",
       "      <td>32570.0</td>\n",
       "      <td>21820.0</td>\n",
       "      <td>18570.0</td>\n",
       "      <td>20670.0</td>\n",
       "      <td>20220.0</td>\n",
       "      <td>...</td>\n",
       "      <td>32630.0</td>\n",
       "      <td>21210.0</td>\n",
       "      <td>22990.0</td>\n",
       "      <td>25390.0</td>\n",
       "      <td>24380.0</td>\n",
       "      <td>13940.0</td>\n",
       "      <td>13980.0</td>\n",
       "      <td>18500.0</td>\n",
       "      <td>20760.0</td>\n",
       "      <td>31970.0</td>\n",
       "    </tr>\n",
       "    <tr>\n",
       "      <th>ENSG00000198888.2</th>\n",
       "      <td>15870.0</td>\n",
       "      <td>18770.0</td>\n",
       "      <td>25570.0</td>\n",
       "      <td>19760.0</td>\n",
       "      <td>38440.0</td>\n",
       "      <td>34070.0</td>\n",
       "      <td>27410.0</td>\n",
       "      <td>21560.0</td>\n",
       "      <td>29330.0</td>\n",
       "      <td>36640.0</td>\n",
       "      <td>...</td>\n",
       "      <td>37960.0</td>\n",
       "      <td>24190.0</td>\n",
       "      <td>39950.0</td>\n",
       "      <td>31940.0</td>\n",
       "      <td>25410.0</td>\n",
       "      <td>15760.0</td>\n",
       "      <td>26500.0</td>\n",
       "      <td>28270.0</td>\n",
       "      <td>30060.0</td>\n",
       "      <td>31440.0</td>\n",
       "    </tr>\n",
       "  </tbody>\n",
       "</table>\n",
       "<p>5 rows × 663 columns</p>\n",
       "</div>"
      ],
      "text/plain": [
       "                   GTEX-1117F-0226-SM-5GZZ7  GTEX-111CU-1826-SM-5GZYN  \\\n",
       "gene_ens_id                                                             \n",
       "ENSG00000198938.2                   19890.0                   22670.0   \n",
       "ENSG00000198886.2                   12400.0                   22230.0   \n",
       "ENSG00000198899.2                   13880.0                   29860.0   \n",
       "ENSG00000198804.2                   10790.0                   11170.0   \n",
       "ENSG00000198888.2                   15870.0                   18770.0   \n",
       "\n",
       "                   GTEX-111FC-0226-SM-5N9B8  GTEX-111VG-2326-SM-5N9BK  \\\n",
       "gene_ens_id                                                             \n",
       "ENSG00000198938.2                   31580.0                   35680.0   \n",
       "ENSG00000198886.2                   27330.0                   18780.0   \n",
       "ENSG00000198899.2                   30250.0                   25050.0   \n",
       "ENSG00000198804.2                   21520.0                   20030.0   \n",
       "ENSG00000198888.2                   25570.0                   19760.0   \n",
       "\n",
       "                   GTEX-111YS-2426-SM-5GZZQ  GTEX-1122O-2026-SM-9YFMG  \\\n",
       "gene_ens_id                                                             \n",
       "ENSG00000198938.2                   43170.0                   43400.0   \n",
       "ENSG00000198886.2                   51290.0                   44250.0   \n",
       "ENSG00000198899.2                   54710.0                   42500.0   \n",
       "ENSG00000198804.2                   31460.0                   32570.0   \n",
       "ENSG00000198888.2                   38440.0                   34070.0   \n",
       "\n",
       "                   GTEX-1128S-2126-SM-5H12U  GTEX-113IC-0226-SM-5HL5C  \\\n",
       "gene_ens_id                                                             \n",
       "ENSG00000198938.2                   23850.0                   24240.0   \n",
       "ENSG00000198886.2                   36100.0                   19370.0   \n",
       "ENSG00000198899.2                   35230.0                   15870.0   \n",
       "ENSG00000198804.2                   21820.0                   18570.0   \n",
       "ENSG00000198888.2                   27410.0                   21560.0   \n",
       "\n",
       "                   GTEX-117YX-2226-SM-5EGJJ  GTEX-11DXW-0326-SM-5H11W  ...  \\\n",
       "gene_ens_id                                                            ...   \n",
       "ENSG00000198938.2                   33190.0                   38500.0  ...   \n",
       "ENSG00000198886.2                   43040.0                   39050.0  ...   \n",
       "ENSG00000198899.2                   44020.0                   42060.0  ...   \n",
       "ENSG00000198804.2                   20670.0                   20220.0  ...   \n",
       "ENSG00000198888.2                   29330.0                   36640.0  ...   \n",
       "\n",
       "                   GTEX-ZXES-2026-SM-5NQ6R  GTEX-ZXG5-0226-SM-59HJI  \\\n",
       "gene_ens_id                                                           \n",
       "ENSG00000198938.2                  38340.0                  28750.0   \n",
       "ENSG00000198886.2                  39140.0                  19910.0   \n",
       "ENSG00000198899.2                  47150.0                  27420.0   \n",
       "ENSG00000198804.2                  32630.0                  21210.0   \n",
       "ENSG00000198888.2                  37960.0                  24190.0   \n",
       "\n",
       "                   GTEX-ZYFC-0326-SM-5NQ7H  GTEX-ZYFD-0226-SM-5NQ86  \\\n",
       "gene_ens_id                                                           \n",
       "ENSG00000198938.2                  45570.0                  62970.0   \n",
       "ENSG00000198886.2                  34190.0                  22900.0   \n",
       "ENSG00000198899.2                  24630.0                  34790.0   \n",
       "ENSG00000198804.2                  22990.0                  25390.0   \n",
       "ENSG00000198888.2                  39950.0                  31940.0   \n",
       "\n",
       "                   GTEX-ZYT6-0326-SM-7LG5R  GTEX-ZYVF-0226-SM-5GIEG  \\\n",
       "gene_ens_id                                                           \n",
       "ENSG00000198938.2                  37120.0                  25490.0   \n",
       "ENSG00000198886.2                  26770.0                  22350.0   \n",
       "ENSG00000198899.2                  29440.0                  28640.0   \n",
       "ENSG00000198804.2                  24380.0                  13940.0   \n",
       "ENSG00000198888.2                  25410.0                  15760.0   \n",
       "\n",
       "                   GTEX-ZYW4-0226-SM-5E44M  GTEX-ZYY3-0226-SM-5E45M  \\\n",
       "gene_ens_id                                                           \n",
       "ENSG00000198938.2                  38000.0                  38310.0   \n",
       "ENSG00000198886.2                  20110.0                  36860.0   \n",
       "ENSG00000198899.2                  26590.0                  40390.0   \n",
       "ENSG00000198804.2                  13980.0                  18500.0   \n",
       "ENSG00000198888.2                  26500.0                  28270.0   \n",
       "\n",
       "                   GTEX-ZZ64-1626-SM-5E43W  GTEX-ZZPU-2726-SM-5NQ8O  \n",
       "gene_ens_id                                                          \n",
       "ENSG00000198938.2                  28740.0                  37650.0  \n",
       "ENSG00000198886.2                  35940.0                  29870.0  \n",
       "ENSG00000198899.2                  38170.0                  35170.0  \n",
       "ENSG00000198804.2                  20760.0                  31970.0  \n",
       "ENSG00000198888.2                  30060.0                  31440.0  \n",
       "\n",
       "[5 rows x 663 columns]"
      ]
     },
     "execution_count": 10,
     "metadata": {},
     "output_type": "execute_result"
    }
   ],
   "source": [
    "test_data.head()"
   ]
  },
  {
   "cell_type": "markdown",
   "id": "5903f3f5-791e-4f03-9d79-600102933d04",
   "metadata": {
    "papermill": {
     "duration": 0.011919,
     "end_time": "2021-09-01T16:50:29.700316",
     "exception": false,
     "start_time": "2021-09-01T16:50:29.688397",
     "status": "completed"
    },
    "tags": []
   },
   "source": [
    "This is a quick performance test of the correlation measure. The following line (`_tmp = ...`) is the setup code, which is needed in case the correlation method was optimized using `numba` and needs to be compiled before performing the test."
   ]
  },
  {
   "cell_type": "code",
   "execution_count": 11,
   "id": "118a6631-1cfd-44a3-bd85-5ec7118edd03",
   "metadata": {
    "execution": {
     "iopub.execute_input": "2021-09-01T16:50:29.729249Z",
     "iopub.status.busy": "2021-09-01T16:50:29.728341Z",
     "iopub.status.idle": "2021-09-01T16:50:29.736207Z",
     "shell.execute_reply": "2021-09-01T16:50:29.736564Z"
    },
    "papermill": {
     "duration": 0.024287,
     "end_time": "2021-09-01T16:50:29.736675",
     "exception": false,
     "start_time": "2021-09-01T16:50:29.712388",
     "status": "completed"
    },
    "tags": []
   },
   "outputs": [
    {
     "data": {
      "text/plain": [
       "(3, 3)"
      ]
     },
     "metadata": {},
     "output_type": "display_data"
    },
    {
     "data": {
      "text/html": [
       "<div>\n",
       "<style scoped>\n",
       "    .dataframe tbody tr th:only-of-type {\n",
       "        vertical-align: middle;\n",
       "    }\n",
       "\n",
       "    .dataframe tbody tr th {\n",
       "        vertical-align: top;\n",
       "    }\n",
       "\n",
       "    .dataframe thead th {\n",
       "        text-align: right;\n",
       "    }\n",
       "</style>\n",
       "<table border=\"1\" class=\"dataframe\">\n",
       "  <thead>\n",
       "    <tr style=\"text-align: right;\">\n",
       "      <th>gene_ens_id</th>\n",
       "      <th>ENSG00000198938.2</th>\n",
       "      <th>ENSG00000198886.2</th>\n",
       "      <th>ENSG00000198899.2</th>\n",
       "    </tr>\n",
       "    <tr>\n",
       "      <th>gene_ens_id</th>\n",
       "      <th></th>\n",
       "      <th></th>\n",
       "      <th></th>\n",
       "    </tr>\n",
       "  </thead>\n",
       "  <tbody>\n",
       "    <tr>\n",
       "      <th>ENSG00000198938.2</th>\n",
       "      <td>1.000000</td>\n",
       "      <td>0.477131</td>\n",
       "      <td>0.607149</td>\n",
       "    </tr>\n",
       "    <tr>\n",
       "      <th>ENSG00000198886.2</th>\n",
       "      <td>0.477131</td>\n",
       "      <td>1.000000</td>\n",
       "      <td>0.821754</td>\n",
       "    </tr>\n",
       "    <tr>\n",
       "      <th>ENSG00000198899.2</th>\n",
       "      <td>0.607149</td>\n",
       "      <td>0.821754</td>\n",
       "      <td>1.000000</td>\n",
       "    </tr>\n",
       "  </tbody>\n",
       "</table>\n",
       "</div>"
      ],
      "text/plain": [
       "gene_ens_id        ENSG00000198938.2  ENSG00000198886.2  ENSG00000198899.2\n",
       "gene_ens_id                                                               \n",
       "ENSG00000198938.2           1.000000           0.477131           0.607149\n",
       "ENSG00000198886.2           0.477131           1.000000           0.821754\n",
       "ENSG00000198899.2           0.607149           0.821754           1.000000"
      ]
     },
     "metadata": {},
     "output_type": "display_data"
    }
   ],
   "source": [
    "_tmp = CORRELATION_METHOD(test_data.iloc[:3])\n",
    "\n",
    "display(_tmp.shape)\n",
    "display(_tmp)"
   ]
  },
  {
   "cell_type": "code",
   "execution_count": 12,
   "id": "d32281d8-f640-4f87-a1d5-aefa0757e9c3",
   "metadata": {
    "execution": {
     "iopub.execute_input": "2021-09-01T16:50:29.766744Z",
     "iopub.status.busy": "2021-09-01T16:50:29.766292Z",
     "iopub.status.idle": "2021-09-01T16:50:35.313712Z",
     "shell.execute_reply": "2021-09-01T16:50:35.313261Z"
    },
    "papermill": {
     "duration": 5.564106,
     "end_time": "2021-09-01T16:50:35.313806",
     "exception": false,
     "start_time": "2021-09-01T16:50:29.749700",
     "status": "completed"
    },
    "tags": []
   },
   "outputs": [
    {
     "name": "stdout",
     "output_type": "stream",
     "text": [
      "68.5 ms ± 571 µs per loop (mean ± std. dev. of 7 runs, 10 loops each)\n"
     ]
    }
   ],
   "source": [
    "%timeit CORRELATION_METHOD(test_data)"
   ]
  },
  {
   "cell_type": "markdown",
   "id": "fc2f7184-c0da-438c-94f5-002912793636",
   "metadata": {
    "papermill": {
     "duration": 0.012903,
     "end_time": "2021-09-01T16:50:35.340064",
     "exception": false,
     "start_time": "2021-09-01T16:50:35.327161",
     "status": "completed"
    },
    "tags": []
   },
   "source": [
    "## Run"
   ]
  },
  {
   "cell_type": "code",
   "execution_count": 13,
   "id": "1237ae45-d4fc-4074-bfc7-a1de75aeea48",
   "metadata": {
    "execution": {
     "iopub.execute_input": "2021-09-01T16:50:35.371338Z",
     "iopub.status.busy": "2021-09-01T16:50:35.370834Z",
     "iopub.status.idle": "2021-09-01T16:53:20.598433Z",
     "shell.execute_reply": "2021-09-01T16:53:20.597945Z"
    },
    "papermill": {
     "duration": 165.245344,
     "end_time": "2021-09-01T16:53:20.598540",
     "exception": false,
     "start_time": "2021-09-01T16:50:35.353196",
     "status": "completed"
    },
    "tags": []
   },
   "outputs": [
    {
     "name": "stderr",
     "output_type": "stream",
     "text": [
      "gtex_v8_data_whole_blood-var_raw: 100%|█████████████████████████████| 54/54 [02:45<00:00,  3.06s/it]\n"
     ]
    }
   ],
   "source": [
    "pbar = tqdm(input_files, ncols=100)\n",
    "\n",
    "for tissue_data_file in pbar:\n",
    "    pbar.set_description(tissue_data_file.stem)\n",
    "\n",
    "    # read\n",
    "    data = pd.read_pickle(tissue_data_file)\n",
    "\n",
    "    # compute correlations\n",
    "    data_corrs = CORRELATION_METHOD(data)\n",
    "\n",
    "    # save\n",
    "    output_filename = f\"{tissue_data_file.stem}-{method_name}.pkl\"\n",
    "    data_corrs.to_pickle(path=OUTPUT_DIR / output_filename)"
   ]
  },
  {
   "cell_type": "code",
   "execution_count": null,
   "id": "258babdf-03ce-4450-ab22-7a3d75bf6869",
   "metadata": {
    "papermill": {
     "duration": 0.034492,
     "end_time": "2021-09-01T16:53:20.668945",
     "exception": false,
     "start_time": "2021-09-01T16:53:20.634453",
     "status": "completed"
    },
    "tags": []
   },
   "outputs": [],
   "source": []
  }
 ],
 "metadata": {
  "jupytext": {
   "cell_metadata_filter": "all,-execution,-papermill,-trusted"
  },
  "kernelspec": {
   "display_name": "Python 3 (ipykernel)",
   "language": "python",
   "name": "python3"
  },
  "language_info": {
   "codemirror_mode": {
    "name": "ipython",
    "version": 3
   },
   "file_extension": ".py",
   "mimetype": "text/x-python",
   "name": "python",
   "nbconvert_exporter": "python",
   "pygments_lexer": "ipython3",
   "version": "3.9.6"
  },
  "papermill": {
   "default_parameters": {},
   "duration": 173.18631,
   "end_time": "2021-09-01T16:53:20.910949",
   "environment_variables": {},
   "exception": null,
   "input_path": "nbs/10_compute_correlations/05_gtex_v8/06-gtex-spearman.ipynb",
   "output_path": "nbs/10_compute_correlations/05_gtex_v8/06-gtex-spearman.run.ipynb",
   "parameters": {},
   "start_time": "2021-09-01T16:50:27.724639",
   "version": "2.3.3"
  }
 },
 "nbformat": 4,
 "nbformat_minor": 5
}
