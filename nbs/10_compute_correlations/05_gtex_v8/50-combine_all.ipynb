{
 "cells": [
  {
   "cell_type": "markdown",
   "id": "c1948eb4-fb63-4fad-8243-bcd57b98def3",
   "metadata": {
    "papermill": {
     "duration": 0.009329,
     "end_time": "2023-09-07T18:55:14.118452",
     "exception": false,
     "start_time": "2023-09-07T18:55:14.109123",
     "status": "completed"
    },
    "tags": []
   },
   "source": [
    "# Description"
   ]
  },
  {
   "cell_type": "markdown",
   "id": "0abb1d73-c786-4c6d-9dc2-b9243e5183e2",
   "metadata": {
    "papermill": {
     "duration": 0.00456,
     "end_time": "2023-09-07T18:55:14.127872",
     "exception": false,
     "start_time": "2023-09-07T18:55:14.123312",
     "status": "completed"
    },
    "tags": []
   },
   "source": [
    "It combines all coefficient values in one tissue (see `Settings` below) into a single dataframe for easier processing later."
   ]
  },
  {
   "cell_type": "markdown",
   "id": "d6252b4c-6d56-4cf0-aecd-5d8c769a3609",
   "metadata": {
    "papermill": {
     "duration": 0.002585,
     "end_time": "2023-09-07T18:55:14.134186",
     "exception": false,
     "start_time": "2023-09-07T18:55:14.131601",
     "status": "completed"
    },
    "tags": []
   },
   "source": [
    "# Modules loading"
   ]
  },
  {
   "cell_type": "code",
   "execution_count": 1,
   "id": "77e9d29d-5307-4b4a-b103-7d1fbd6a7e56",
   "metadata": {
    "execution": {
     "iopub.execute_input": "2023-09-07T18:55:14.140303Z",
     "iopub.status.busy": "2023-09-07T18:55:14.139940Z",
     "iopub.status.idle": "2023-09-07T18:55:14.253228Z",
     "shell.execute_reply": "2023-09-07T18:55:14.252976Z"
    },
    "papermill": {
     "duration": 0.117281,
     "end_time": "2023-09-07T18:55:14.254144",
     "exception": false,
     "start_time": "2023-09-07T18:55:14.136863",
     "status": "completed"
    },
    "tags": []
   },
   "outputs": [],
   "source": [
    "import pandas as pd\n",
    "\n",
    "from ccc import conf\n",
    "from ccc.utils import get_upper_triag"
   ]
  },
  {
   "cell_type": "markdown",
   "id": "262eb535-3e5d-43d7-9efd-bd6cfdac9190",
   "metadata": {
    "papermill": {
     "duration": 0.009582,
     "end_time": "2023-09-07T18:55:14.266596",
     "exception": false,
     "start_time": "2023-09-07T18:55:14.257014",
     "status": "completed"
    },
    "tags": []
   },
   "source": [
    "# Settings"
   ]
  },
  {
   "cell_type": "code",
   "execution_count": 2,
   "id": "2d2bd14a-a40d-4710-98c2-587148d0f532",
   "metadata": {
    "execution": {
     "iopub.execute_input": "2023-09-07T18:55:14.274538Z",
     "iopub.status.busy": "2023-09-07T18:55:14.274466Z",
     "iopub.status.idle": "2023-09-07T18:55:14.276173Z",
     "shell.execute_reply": "2023-09-07T18:55:14.276023Z"
    },
    "papermill": {
     "duration": 0.005931,
     "end_time": "2023-09-07T18:55:14.276701",
     "exception": false,
     "start_time": "2023-09-07T18:55:14.270770",
     "status": "completed"
    },
    "tags": [
     "parameters"
    ]
   },
   "outputs": [],
   "source": [
    "DATASET_CONFIG = conf.GTEX\n",
    "# whole blood by default, but this is a parameters cells that can be changed when running papermill\n",
    "GTEX_TISSUE = \"whole_blood\"\n",
    "GENE_SEL_STRATEGY = \"var_pc_log2\""
   ]
  },
  {
   "cell_type": "code",
   "execution_count": 3,
   "id": "9554e81e-3e31-475c-a984-e29f433c56c1",
   "metadata": {
    "execution": {
     "iopub.execute_input": "2023-09-07T18:55:14.282723Z",
     "iopub.status.busy": "2023-09-07T18:55:14.282648Z",
     "iopub.status.idle": "2023-09-07T18:55:14.283939Z",
     "shell.execute_reply": "2023-09-07T18:55:14.283815Z"
    },
    "papermill": {
     "duration": 0.004673,
     "end_time": "2023-09-07T18:55:14.284335",
     "exception": false,
     "start_time": "2023-09-07T18:55:14.279662",
     "status": "completed"
    },
    "tags": []
   },
   "outputs": [],
   "source": [
    "assert GTEX_TISSUE is not None, \"Tissue not selected\""
   ]
  },
  {
   "cell_type": "markdown",
   "id": "eec9bb6d-4ba2-4817-9b36-bc8e68a2beae",
   "metadata": {
    "papermill": {
     "duration": 0.002504,
     "end_time": "2023-09-07T18:55:14.289471",
     "exception": false,
     "start_time": "2023-09-07T18:55:14.286967",
     "status": "completed"
    },
    "tags": []
   },
   "source": [
    "# Paths"
   ]
  },
  {
   "cell_type": "code",
   "execution_count": 4,
   "id": "3c15c5b5-1b4f-456a-a548-8fc23e03f0ae",
   "metadata": {
    "execution": {
     "iopub.execute_input": "2023-09-07T18:55:14.295229Z",
     "iopub.status.busy": "2023-09-07T18:55:14.294927Z",
     "iopub.status.idle": "2023-09-07T18:55:14.298396Z",
     "shell.execute_reply": "2023-09-07T18:55:14.298272Z"
    },
    "papermill": {
     "duration": 0.006724,
     "end_time": "2023-09-07T18:55:14.298808",
     "exception": false,
     "start_time": "2023-09-07T18:55:14.292084",
     "status": "completed"
    },
    "tags": []
   },
   "outputs": [
    {
     "data": {
      "text/plain": [
       "PosixPath('/opt/data/results/gtex_v8/gene_selection/gtex_v8_data_whole_blood-var_pc_log2.pkl')"
      ]
     },
     "metadata": {},
     "output_type": "display_data"
    }
   ],
   "source": [
    "INPUT_GENE_EXPR_DATA_FILE = (\n",
    "    DATASET_CONFIG[\"GENE_SELECTION_DIR\"]\n",
    "    / f\"gtex_v8_data_{GTEX_TISSUE}-{GENE_SEL_STRATEGY}.pkl\"\n",
    ")\n",
    "display(INPUT_GENE_EXPR_DATA_FILE)\n",
    "\n",
    "assert INPUT_GENE_EXPR_DATA_FILE.exists()"
   ]
  },
  {
   "cell_type": "code",
   "execution_count": 5,
   "id": "34c70f63-0878-4f29-9ea5-2570e6f9f33b",
   "metadata": {
    "execution": {
     "iopub.execute_input": "2023-09-07T18:55:14.304244Z",
     "iopub.status.busy": "2023-09-07T18:55:14.304136Z",
     "iopub.status.idle": "2023-09-07T18:55:14.305683Z",
     "shell.execute_reply": "2023-09-07T18:55:14.305561Z"
    },
    "papermill": {
     "duration": 0.004691,
     "end_time": "2023-09-07T18:55:14.306086",
     "exception": false,
     "start_time": "2023-09-07T18:55:14.301395",
     "status": "completed"
    },
    "tags": []
   },
   "outputs": [
    {
     "data": {
      "text/plain": [
       "PosixPath('/opt/data/results/gtex_v8/similarity_matrices/gtex_v8_data_{tissue}-{gene_sel_strategy}-{corr_method}.pkl')"
      ]
     },
     "metadata": {},
     "output_type": "display_data"
    }
   ],
   "source": [
    "INPUT_CORR_FILE_TEMPLATE = (\n",
    "    DATASET_CONFIG[\"SIMILARITY_MATRICES_DIR\"]\n",
    "    / DATASET_CONFIG[\"SIMILARITY_MATRIX_FILENAME_TEMPLATE\"]\n",
    ")\n",
    "display(INPUT_CORR_FILE_TEMPLATE)"
   ]
  },
  {
   "cell_type": "code",
   "execution_count": 6,
   "id": "92b9bfd4",
   "metadata": {
    "execution": {
     "iopub.execute_input": "2023-09-07T18:55:14.311649Z",
     "iopub.status.busy": "2023-09-07T18:55:14.311532Z",
     "iopub.status.idle": "2023-09-07T18:55:14.313186Z",
     "shell.execute_reply": "2023-09-07T18:55:14.313069Z"
    },
    "papermill": {
     "duration": 0.004842,
     "end_time": "2023-09-07T18:55:14.313594",
     "exception": false,
     "start_time": "2023-09-07T18:55:14.308752",
     "status": "completed"
    },
    "tags": []
   },
   "outputs": [
    {
     "data": {
      "text/plain": [
       "PosixPath('/opt/data/results/gtex_v8/similarity_matrices/gtex_v8_data_whole_blood-var_pc_log2-all.pkl')"
      ]
     },
     "metadata": {},
     "output_type": "display_data"
    }
   ],
   "source": [
    "OUTPUT_FILE = DATASET_CONFIG[\"SIMILARITY_MATRICES_DIR\"] / str(\n",
    "    INPUT_CORR_FILE_TEMPLATE\n",
    ").format(\n",
    "    tissue=GTEX_TISSUE,\n",
    "    gene_sel_strategy=GENE_SEL_STRATEGY,\n",
    "    corr_method=\"all\",\n",
    ")\n",
    "display(OUTPUT_FILE)"
   ]
  },
  {
   "cell_type": "markdown",
   "id": "e2746a93-d631-4346-9d10-a5c1f9f8de4a",
   "metadata": {
    "papermill": {
     "duration": 0.014282,
     "end_time": "2023-09-07T18:55:14.330521",
     "exception": false,
     "start_time": "2023-09-07T18:55:14.316239",
     "status": "completed"
    },
    "tags": []
   },
   "source": [
    "# Load data"
   ]
  },
  {
   "cell_type": "markdown",
   "id": "76ab9bbb-c93f-4154-b8ba-81934beb14bc",
   "metadata": {
    "papermill": {
     "duration": 0.002518,
     "end_time": "2023-09-07T18:55:14.335737",
     "exception": false,
     "start_time": "2023-09-07T18:55:14.333219",
     "status": "completed"
    },
    "tags": []
   },
   "source": [
    "## Gene Ensembl ID -> Symbol mapping"
   ]
  },
  {
   "cell_type": "code",
   "execution_count": 7,
   "id": "39b30f9d-d55b-440b-bb27-d5dc32e43780",
   "metadata": {
    "execution": {
     "iopub.execute_input": "2023-09-07T18:55:14.341556Z",
     "iopub.status.busy": "2023-09-07T18:55:14.341447Z",
     "iopub.status.idle": "2023-09-07T18:55:14.348989Z",
     "shell.execute_reply": "2023-09-07T18:55:14.348814Z"
    },
    "papermill": {
     "duration": 0.011107,
     "end_time": "2023-09-07T18:55:14.349466",
     "exception": false,
     "start_time": "2023-09-07T18:55:14.338359",
     "status": "completed"
    },
    "tags": []
   },
   "outputs": [],
   "source": [
    "gene_map = pd.read_pickle(\n",
    "    DATASET_CONFIG[\"DATA_DIR\"] / \"gtex_gene_id_symbol_mappings.pkl\"\n",
    ")"
   ]
  },
  {
   "cell_type": "code",
   "execution_count": 8,
   "id": "7a6eabb9-80c7-4711-84b1-b29d5d7adea6",
   "metadata": {
    "execution": {
     "iopub.execute_input": "2023-09-07T18:55:14.355154Z",
     "iopub.status.busy": "2023-09-07T18:55:14.355022Z",
     "iopub.status.idle": "2023-09-07T18:55:14.370366Z",
     "shell.execute_reply": "2023-09-07T18:55:14.370202Z"
    },
    "papermill": {
     "duration": 0.018859,
     "end_time": "2023-09-07T18:55:14.371004",
     "exception": false,
     "start_time": "2023-09-07T18:55:14.352145",
     "status": "completed"
    },
    "tags": []
   },
   "outputs": [],
   "source": [
    "gene_map = gene_map.set_index(\"gene_ens_id\")[\"gene_symbol\"].to_dict()"
   ]
  },
  {
   "cell_type": "code",
   "execution_count": 9,
   "id": "e51b921d-0adf-4006-9602-d075f223c260",
   "metadata": {
    "execution": {
     "iopub.execute_input": "2023-09-07T18:55:14.376740Z",
     "iopub.status.busy": "2023-09-07T18:55:14.376626Z",
     "iopub.status.idle": "2023-09-07T18:55:14.377915Z",
     "shell.execute_reply": "2023-09-07T18:55:14.377773Z"
    },
    "papermill": {
     "duration": 0.00478,
     "end_time": "2023-09-07T18:55:14.378475",
     "exception": false,
     "start_time": "2023-09-07T18:55:14.373695",
     "status": "completed"
    },
    "tags": []
   },
   "outputs": [],
   "source": [
    "assert gene_map[\"ENSG00000145309.5\"] == \"CABS1\""
   ]
  },
  {
   "cell_type": "markdown",
   "id": "f4669dbd-b654-4090-8a72-aa6bf0a6053c",
   "metadata": {
    "papermill": {
     "duration": 0.002509,
     "end_time": "2023-09-07T18:55:14.383579",
     "exception": false,
     "start_time": "2023-09-07T18:55:14.381070",
     "status": "completed"
    },
    "tags": []
   },
   "source": [
    "## Gene expression"
   ]
  },
  {
   "cell_type": "code",
   "execution_count": 10,
   "id": "04690975-e95b-4fc9-ad3e-3d29e2a3ff5a",
   "metadata": {
    "execution": {
     "iopub.execute_input": "2023-09-07T18:55:14.389063Z",
     "iopub.status.busy": "2023-09-07T18:55:14.388950Z",
     "iopub.status.idle": "2023-09-07T18:55:14.398960Z",
     "shell.execute_reply": "2023-09-07T18:55:14.398797Z"
    },
    "papermill": {
     "duration": 0.013367,
     "end_time": "2023-09-07T18:55:14.399525",
     "exception": false,
     "start_time": "2023-09-07T18:55:14.386158",
     "status": "completed"
    },
    "tags": []
   },
   "outputs": [],
   "source": [
    "data = pd.read_pickle(INPUT_GENE_EXPR_DATA_FILE)"
   ]
  },
  {
   "cell_type": "code",
   "execution_count": 11,
   "id": "bebfab6c-9805-4cee-8fc3-be66cb45ade7",
   "metadata": {
    "execution": {
     "iopub.execute_input": "2023-09-07T18:55:14.405275Z",
     "iopub.status.busy": "2023-09-07T18:55:14.405134Z",
     "iopub.status.idle": "2023-09-07T18:55:14.406699Z",
     "shell.execute_reply": "2023-09-07T18:55:14.406577Z"
    },
    "papermill": {
     "duration": 0.004808,
     "end_time": "2023-09-07T18:55:14.407091",
     "exception": false,
     "start_time": "2023-09-07T18:55:14.402283",
     "status": "completed"
    },
    "tags": []
   },
   "outputs": [
    {
     "data": {
      "text/plain": [
       "(5000, 755)"
      ]
     },
     "execution_count": 11,
     "metadata": {},
     "output_type": "execute_result"
    }
   ],
   "source": [
    "data.shape"
   ]
  },
  {
   "cell_type": "code",
   "execution_count": 12,
   "id": "20cdd83a-3bbb-4b7b-95a7-1095713af74c",
   "metadata": {
    "execution": {
     "iopub.execute_input": "2023-09-07T18:55:14.412654Z",
     "iopub.status.busy": "2023-09-07T18:55:14.412547Z",
     "iopub.status.idle": "2023-09-07T18:55:14.420125Z",
     "shell.execute_reply": "2023-09-07T18:55:14.419996Z"
    },
    "papermill": {
     "duration": 0.010829,
     "end_time": "2023-09-07T18:55:14.420565",
     "exception": false,
     "start_time": "2023-09-07T18:55:14.409736",
     "status": "completed"
    },
    "tags": []
   },
   "outputs": [
    {
     "data": {
      "text/html": [
       "<div>\n",
       "<style scoped>\n",
       "    .dataframe tbody tr th:only-of-type {\n",
       "        vertical-align: middle;\n",
       "    }\n",
       "\n",
       "    .dataframe tbody tr th {\n",
       "        vertical-align: top;\n",
       "    }\n",
       "\n",
       "    .dataframe thead th {\n",
       "        text-align: right;\n",
       "    }\n",
       "</style>\n",
       "<table border=\"1\" class=\"dataframe\">\n",
       "  <thead>\n",
       "    <tr style=\"text-align: right;\">\n",
       "      <th></th>\n",
       "      <th>GTEX-111YS-0006-SM-5NQBE</th>\n",
       "      <th>GTEX-1122O-0005-SM-5O99J</th>\n",
       "      <th>GTEX-1128S-0005-SM-5P9HI</th>\n",
       "      <th>GTEX-113IC-0006-SM-5NQ9C</th>\n",
       "      <th>GTEX-113JC-0006-SM-5O997</th>\n",
       "      <th>GTEX-117XS-0005-SM-5PNU6</th>\n",
       "      <th>GTEX-117YW-0005-SM-5NQ8Z</th>\n",
       "      <th>GTEX-1192W-0005-SM-5NQBQ</th>\n",
       "      <th>GTEX-1192X-0005-SM-5NQC3</th>\n",
       "      <th>GTEX-11DXW-0006-SM-5NQ7Y</th>\n",
       "      <th>...</th>\n",
       "      <th>GTEX-ZVE2-0006-SM-51MRW</th>\n",
       "      <th>GTEX-ZVP2-0005-SM-51MRK</th>\n",
       "      <th>GTEX-ZVT2-0005-SM-57WBW</th>\n",
       "      <th>GTEX-ZVT3-0006-SM-51MT9</th>\n",
       "      <th>GTEX-ZVT4-0006-SM-57WB8</th>\n",
       "      <th>GTEX-ZVTK-0006-SM-57WBK</th>\n",
       "      <th>GTEX-ZVZP-0006-SM-51MSW</th>\n",
       "      <th>GTEX-ZVZQ-0006-SM-51MR8</th>\n",
       "      <th>GTEX-ZXES-0005-SM-57WCB</th>\n",
       "      <th>GTEX-ZXG5-0005-SM-57WCN</th>\n",
       "    </tr>\n",
       "    <tr>\n",
       "      <th>gene_ens_id</th>\n",
       "      <th></th>\n",
       "      <th></th>\n",
       "      <th></th>\n",
       "      <th></th>\n",
       "      <th></th>\n",
       "      <th></th>\n",
       "      <th></th>\n",
       "      <th></th>\n",
       "      <th></th>\n",
       "      <th></th>\n",
       "      <th></th>\n",
       "      <th></th>\n",
       "      <th></th>\n",
       "      <th></th>\n",
       "      <th></th>\n",
       "      <th></th>\n",
       "      <th></th>\n",
       "      <th></th>\n",
       "      <th></th>\n",
       "      <th></th>\n",
       "      <th></th>\n",
       "    </tr>\n",
       "  </thead>\n",
       "  <tbody>\n",
       "    <tr>\n",
       "      <th>ENSG00000169429.10</th>\n",
       "      <td>0.5623</td>\n",
       "      <td>0.8067</td>\n",
       "      <td>116.90000</td>\n",
       "      <td>4.047</td>\n",
       "      <td>211.0</td>\n",
       "      <td>58.110</td>\n",
       "      <td>68.38</td>\n",
       "      <td>249.50</td>\n",
       "      <td>5.095</td>\n",
       "      <td>295.9</td>\n",
       "      <td>...</td>\n",
       "      <td>39.960</td>\n",
       "      <td>0.1393</td>\n",
       "      <td>0.22380</td>\n",
       "      <td>245.0</td>\n",
       "      <td>513.6</td>\n",
       "      <td>1626.00</td>\n",
       "      <td>0.5633</td>\n",
       "      <td>515.70</td>\n",
       "      <td>1.19400</td>\n",
       "      <td>1163.00</td>\n",
       "    </tr>\n",
       "    <tr>\n",
       "      <th>ENSG00000135245.9</th>\n",
       "      <td>0.6529</td>\n",
       "      <td>1.3850</td>\n",
       "      <td>199.20000</td>\n",
       "      <td>2.266</td>\n",
       "      <td>116.7</td>\n",
       "      <td>192.300</td>\n",
       "      <td>161.50</td>\n",
       "      <td>263.50</td>\n",
       "      <td>23.540</td>\n",
       "      <td>251.9</td>\n",
       "      <td>...</td>\n",
       "      <td>114.300</td>\n",
       "      <td>1.8330</td>\n",
       "      <td>0.41150</td>\n",
       "      <td>149.0</td>\n",
       "      <td>935.3</td>\n",
       "      <td>233.60</td>\n",
       "      <td>0.8882</td>\n",
       "      <td>134.00</td>\n",
       "      <td>1.12000</td>\n",
       "      <td>295.70</td>\n",
       "    </tr>\n",
       "    <tr>\n",
       "      <th>ENSG00000163631.16</th>\n",
       "      <td>1.8480</td>\n",
       "      <td>0.2503</td>\n",
       "      <td>0.08429</td>\n",
       "      <td>1.251</td>\n",
       "      <td>1348.0</td>\n",
       "      <td>9.971</td>\n",
       "      <td>101.30</td>\n",
       "      <td>95.09</td>\n",
       "      <td>1.264</td>\n",
       "      <td>119.3</td>\n",
       "      <td>...</td>\n",
       "      <td>2.092</td>\n",
       "      <td>2.1100</td>\n",
       "      <td>0.03588</td>\n",
       "      <td>171.8</td>\n",
       "      <td>107.1</td>\n",
       "      <td>71.25</td>\n",
       "      <td>1.7720</td>\n",
       "      <td>309.60</td>\n",
       "      <td>0.07361</td>\n",
       "      <td>17.75</td>\n",
       "    </tr>\n",
       "    <tr>\n",
       "      <th>ENSG00000277632.1</th>\n",
       "      <td>1.6960</td>\n",
       "      <td>1.3450</td>\n",
       "      <td>235.10000</td>\n",
       "      <td>11.770</td>\n",
       "      <td>141.7</td>\n",
       "      <td>199.100</td>\n",
       "      <td>525.50</td>\n",
       "      <td>659.90</td>\n",
       "      <td>10.910</td>\n",
       "      <td>209.3</td>\n",
       "      <td>...</td>\n",
       "      <td>61.340</td>\n",
       "      <td>2.2500</td>\n",
       "      <td>0.72310</td>\n",
       "      <td>261.2</td>\n",
       "      <td>400.0</td>\n",
       "      <td>288.50</td>\n",
       "      <td>2.6960</td>\n",
       "      <td>287.50</td>\n",
       "      <td>3.32300</td>\n",
       "      <td>618.90</td>\n",
       "    </tr>\n",
       "    <tr>\n",
       "      <th>ENSG00000239839.6</th>\n",
       "      <td>185.2000</td>\n",
       "      <td>1.7790</td>\n",
       "      <td>694.30000</td>\n",
       "      <td>23.840</td>\n",
       "      <td>297.3</td>\n",
       "      <td>3122.000</td>\n",
       "      <td>2521.00</td>\n",
       "      <td>1504.00</td>\n",
       "      <td>80.060</td>\n",
       "      <td>652.0</td>\n",
       "      <td>...</td>\n",
       "      <td>1010.000</td>\n",
       "      <td>253.8000</td>\n",
       "      <td>94.52000</td>\n",
       "      <td>6083.0</td>\n",
       "      <td>2768.0</td>\n",
       "      <td>52.06</td>\n",
       "      <td>34.5700</td>\n",
       "      <td>17.36</td>\n",
       "      <td>352.30000</td>\n",
       "      <td>63.85</td>\n",
       "    </tr>\n",
       "  </tbody>\n",
       "</table>\n",
       "<p>5 rows × 755 columns</p>\n",
       "</div>"
      ],
      "text/plain": [
       "                    GTEX-111YS-0006-SM-5NQBE  GTEX-1122O-0005-SM-5O99J  \\\n",
       "gene_ens_id                                                              \n",
       "ENSG00000169429.10                    0.5623                    0.8067   \n",
       "ENSG00000135245.9                     0.6529                    1.3850   \n",
       "ENSG00000163631.16                    1.8480                    0.2503   \n",
       "ENSG00000277632.1                     1.6960                    1.3450   \n",
       "ENSG00000239839.6                   185.2000                    1.7790   \n",
       "\n",
       "                    GTEX-1128S-0005-SM-5P9HI  GTEX-113IC-0006-SM-5NQ9C  \\\n",
       "gene_ens_id                                                              \n",
       "ENSG00000169429.10                 116.90000                     4.047   \n",
       "ENSG00000135245.9                  199.20000                     2.266   \n",
       "ENSG00000163631.16                   0.08429                     1.251   \n",
       "ENSG00000277632.1                  235.10000                    11.770   \n",
       "ENSG00000239839.6                  694.30000                    23.840   \n",
       "\n",
       "                    GTEX-113JC-0006-SM-5O997  GTEX-117XS-0005-SM-5PNU6  \\\n",
       "gene_ens_id                                                              \n",
       "ENSG00000169429.10                     211.0                    58.110   \n",
       "ENSG00000135245.9                      116.7                   192.300   \n",
       "ENSG00000163631.16                    1348.0                     9.971   \n",
       "ENSG00000277632.1                      141.7                   199.100   \n",
       "ENSG00000239839.6                      297.3                  3122.000   \n",
       "\n",
       "                    GTEX-117YW-0005-SM-5NQ8Z  GTEX-1192W-0005-SM-5NQBQ  \\\n",
       "gene_ens_id                                                              \n",
       "ENSG00000169429.10                     68.38                    249.50   \n",
       "ENSG00000135245.9                     161.50                    263.50   \n",
       "ENSG00000163631.16                    101.30                     95.09   \n",
       "ENSG00000277632.1                     525.50                    659.90   \n",
       "ENSG00000239839.6                    2521.00                   1504.00   \n",
       "\n",
       "                    GTEX-1192X-0005-SM-5NQC3  GTEX-11DXW-0006-SM-5NQ7Y  ...  \\\n",
       "gene_ens_id                                                             ...   \n",
       "ENSG00000169429.10                     5.095                     295.9  ...   \n",
       "ENSG00000135245.9                     23.540                     251.9  ...   \n",
       "ENSG00000163631.16                     1.264                     119.3  ...   \n",
       "ENSG00000277632.1                     10.910                     209.3  ...   \n",
       "ENSG00000239839.6                     80.060                     652.0  ...   \n",
       "\n",
       "                    GTEX-ZVE2-0006-SM-51MRW  GTEX-ZVP2-0005-SM-51MRK  \\\n",
       "gene_ens_id                                                            \n",
       "ENSG00000169429.10                   39.960                   0.1393   \n",
       "ENSG00000135245.9                   114.300                   1.8330   \n",
       "ENSG00000163631.16                    2.092                   2.1100   \n",
       "ENSG00000277632.1                    61.340                   2.2500   \n",
       "ENSG00000239839.6                  1010.000                 253.8000   \n",
       "\n",
       "                    GTEX-ZVT2-0005-SM-57WBW  GTEX-ZVT3-0006-SM-51MT9  \\\n",
       "gene_ens_id                                                            \n",
       "ENSG00000169429.10                  0.22380                    245.0   \n",
       "ENSG00000135245.9                   0.41150                    149.0   \n",
       "ENSG00000163631.16                  0.03588                    171.8   \n",
       "ENSG00000277632.1                   0.72310                    261.2   \n",
       "ENSG00000239839.6                  94.52000                   6083.0   \n",
       "\n",
       "                    GTEX-ZVT4-0006-SM-57WB8  GTEX-ZVTK-0006-SM-57WBK  \\\n",
       "gene_ens_id                                                            \n",
       "ENSG00000169429.10                    513.6                  1626.00   \n",
       "ENSG00000135245.9                     935.3                   233.60   \n",
       "ENSG00000163631.16                    107.1                    71.25   \n",
       "ENSG00000277632.1                     400.0                   288.50   \n",
       "ENSG00000239839.6                    2768.0                    52.06   \n",
       "\n",
       "                    GTEX-ZVZP-0006-SM-51MSW  GTEX-ZVZQ-0006-SM-51MR8  \\\n",
       "gene_ens_id                                                            \n",
       "ENSG00000169429.10                   0.5633                   515.70   \n",
       "ENSG00000135245.9                    0.8882                   134.00   \n",
       "ENSG00000163631.16                   1.7720                   309.60   \n",
       "ENSG00000277632.1                    2.6960                   287.50   \n",
       "ENSG00000239839.6                   34.5700                    17.36   \n",
       "\n",
       "                    GTEX-ZXES-0005-SM-57WCB  GTEX-ZXG5-0005-SM-57WCN  \n",
       "gene_ens_id                                                           \n",
       "ENSG00000169429.10                  1.19400                  1163.00  \n",
       "ENSG00000135245.9                   1.12000                   295.70  \n",
       "ENSG00000163631.16                  0.07361                    17.75  \n",
       "ENSG00000277632.1                   3.32300                   618.90  \n",
       "ENSG00000239839.6                 352.30000                    63.85  \n",
       "\n",
       "[5 rows x 755 columns]"
      ]
     },
     "execution_count": 12,
     "metadata": {},
     "output_type": "execute_result"
    }
   ],
   "source": [
    "data.head()"
   ]
  },
  {
   "cell_type": "markdown",
   "id": "f816809d-2024-4c2c-be4f-3c04e24ecfca",
   "metadata": {
    "papermill": {
     "duration": 0.002707,
     "end_time": "2023-09-07T18:55:14.426127",
     "exception": false,
     "start_time": "2023-09-07T18:55:14.423420",
     "status": "completed"
    },
    "tags": []
   },
   "source": [
    "## CCC"
   ]
  },
  {
   "cell_type": "code",
   "execution_count": 13,
   "id": "9a8196ee-48d8-42f8-814b-8125a4e5e63b",
   "metadata": {
    "execution": {
     "iopub.execute_input": "2023-09-07T18:55:14.431929Z",
     "iopub.status.busy": "2023-09-07T18:55:14.431861Z",
     "iopub.status.idle": "2023-09-07T18:55:14.493932Z",
     "shell.execute_reply": "2023-09-07T18:55:14.493728Z"
    },
    "papermill": {
     "duration": 0.065723,
     "end_time": "2023-09-07T18:55:14.494613",
     "exception": false,
     "start_time": "2023-09-07T18:55:14.428890",
     "status": "completed"
    },
    "tags": []
   },
   "outputs": [],
   "source": [
    "clustermatch_df = pd.read_pickle(\n",
    "    str(INPUT_CORR_FILE_TEMPLATE).format(\n",
    "        tissue=GTEX_TISSUE,\n",
    "        gene_sel_strategy=GENE_SEL_STRATEGY,\n",
    "        corr_method=\"ccc\",\n",
    "    )\n",
    ")"
   ]
  },
  {
   "cell_type": "code",
   "execution_count": 14,
   "id": "5f611930-9923-4ff2-9c1f-fb81bcdad625",
   "metadata": {
    "execution": {
     "iopub.execute_input": "2023-09-07T18:55:14.501064Z",
     "iopub.status.busy": "2023-09-07T18:55:14.500960Z",
     "iopub.status.idle": "2023-09-07T18:55:14.502715Z",
     "shell.execute_reply": "2023-09-07T18:55:14.502590Z"
    },
    "papermill": {
     "duration": 0.005448,
     "end_time": "2023-09-07T18:55:14.503105",
     "exception": false,
     "start_time": "2023-09-07T18:55:14.497657",
     "status": "completed"
    },
    "tags": []
   },
   "outputs": [
    {
     "data": {
      "text/plain": [
       "(5000, 5000)"
      ]
     },
     "execution_count": 14,
     "metadata": {},
     "output_type": "execute_result"
    }
   ],
   "source": [
    "clustermatch_df.shape"
   ]
  },
  {
   "cell_type": "code",
   "execution_count": 15,
   "id": "c9fc4460-6ae2-42ab-9923-9f7a3e3d942c",
   "metadata": {
    "execution": {
     "iopub.execute_input": "2023-09-07T18:55:14.509068Z",
     "iopub.status.busy": "2023-09-07T18:55:14.508960Z",
     "iopub.status.idle": "2023-09-07T18:55:14.515297Z",
     "shell.execute_reply": "2023-09-07T18:55:14.515171Z"
    },
    "papermill": {
     "duration": 0.009808,
     "end_time": "2023-09-07T18:55:14.515738",
     "exception": false,
     "start_time": "2023-09-07T18:55:14.505930",
     "status": "completed"
    },
    "tags": []
   },
   "outputs": [
    {
     "data": {
      "text/html": [
       "<div>\n",
       "<style scoped>\n",
       "    .dataframe tbody tr th:only-of-type {\n",
       "        vertical-align: middle;\n",
       "    }\n",
       "\n",
       "    .dataframe tbody tr th {\n",
       "        vertical-align: top;\n",
       "    }\n",
       "\n",
       "    .dataframe thead th {\n",
       "        text-align: right;\n",
       "    }\n",
       "</style>\n",
       "<table border=\"1\" class=\"dataframe\">\n",
       "  <thead>\n",
       "    <tr style=\"text-align: right;\">\n",
       "      <th>gene_ens_id</th>\n",
       "      <th>ENSG00000169429.10</th>\n",
       "      <th>ENSG00000135245.9</th>\n",
       "      <th>ENSG00000163631.16</th>\n",
       "      <th>ENSG00000277632.1</th>\n",
       "      <th>ENSG00000239839.6</th>\n",
       "      <th>ENSG00000186652.9</th>\n",
       "      <th>ENSG00000129824.15</th>\n",
       "      <th>ENSG00000152463.14</th>\n",
       "      <th>ENSG00000123689.5</th>\n",
       "      <th>ENSG00000012223.12</th>\n",
       "      <th>...</th>\n",
       "      <th>ENSG00000122033.14</th>\n",
       "      <th>ENSG00000145779.7</th>\n",
       "      <th>ENSG00000196396.9</th>\n",
       "      <th>ENSG00000216490.3</th>\n",
       "      <th>ENSG00000135521.8</th>\n",
       "      <th>ENSG00000198478.7</th>\n",
       "      <th>ENSG00000168137.15</th>\n",
       "      <th>ENSG00000182197.10</th>\n",
       "      <th>ENSG00000111641.11</th>\n",
       "      <th>ENSG00000168528.11</th>\n",
       "    </tr>\n",
       "    <tr>\n",
       "      <th>gene_ens_id</th>\n",
       "      <th></th>\n",
       "      <th></th>\n",
       "      <th></th>\n",
       "      <th></th>\n",
       "      <th></th>\n",
       "      <th></th>\n",
       "      <th></th>\n",
       "      <th></th>\n",
       "      <th></th>\n",
       "      <th></th>\n",
       "      <th></th>\n",
       "      <th></th>\n",
       "      <th></th>\n",
       "      <th></th>\n",
       "      <th></th>\n",
       "      <th></th>\n",
       "      <th></th>\n",
       "      <th></th>\n",
       "      <th></th>\n",
       "      <th></th>\n",
       "      <th></th>\n",
       "    </tr>\n",
       "  </thead>\n",
       "  <tbody>\n",
       "    <tr>\n",
       "      <th>ENSG00000169429.10</th>\n",
       "      <td>1.000000</td>\n",
       "      <td>0.780181</td>\n",
       "      <td>0.401717</td>\n",
       "      <td>0.789583</td>\n",
       "      <td>0.139359</td>\n",
       "      <td>0.524274</td>\n",
       "      <td>0.048667</td>\n",
       "      <td>0.365544</td>\n",
       "      <td>0.799041</td>\n",
       "      <td>0.343411</td>\n",
       "      <td>...</td>\n",
       "      <td>0.212632</td>\n",
       "      <td>0.037166</td>\n",
       "      <td>0.012264</td>\n",
       "      <td>0.016958</td>\n",
       "      <td>0.053866</td>\n",
       "      <td>0.133457</td>\n",
       "      <td>0.081476</td>\n",
       "      <td>0.212632</td>\n",
       "      <td>0.112897</td>\n",
       "      <td>0.022719</td>\n",
       "    </tr>\n",
       "    <tr>\n",
       "      <th>ENSG00000135245.9</th>\n",
       "      <td>0.780181</td>\n",
       "      <td>1.000000</td>\n",
       "      <td>0.429092</td>\n",
       "      <td>0.780181</td>\n",
       "      <td>0.159947</td>\n",
       "      <td>0.516615</td>\n",
       "      <td>0.042631</td>\n",
       "      <td>0.334136</td>\n",
       "      <td>0.752314</td>\n",
       "      <td>0.355974</td>\n",
       "      <td>...</td>\n",
       "      <td>0.237858</td>\n",
       "      <td>0.051243</td>\n",
       "      <td>0.042777</td>\n",
       "      <td>0.035816</td>\n",
       "      <td>0.094566</td>\n",
       "      <td>0.145388</td>\n",
       "      <td>0.075009</td>\n",
       "      <td>0.217565</td>\n",
       "      <td>0.099542</td>\n",
       "      <td>0.019660</td>\n",
       "    </tr>\n",
       "    <tr>\n",
       "      <th>ENSG00000163631.16</th>\n",
       "      <td>0.401717</td>\n",
       "      <td>0.429092</td>\n",
       "      <td>1.000000</td>\n",
       "      <td>0.408476</td>\n",
       "      <td>0.127681</td>\n",
       "      <td>0.401717</td>\n",
       "      <td>0.020316</td>\n",
       "      <td>0.232700</td>\n",
       "      <td>0.381776</td>\n",
       "      <td>0.261762</td>\n",
       "      <td>...</td>\n",
       "      <td>0.153623</td>\n",
       "      <td>0.041971</td>\n",
       "      <td>0.008775</td>\n",
       "      <td>0.009087</td>\n",
       "      <td>0.053706</td>\n",
       "      <td>0.090792</td>\n",
       "      <td>0.021106</td>\n",
       "      <td>0.153623</td>\n",
       "      <td>0.047663</td>\n",
       "      <td>0.009211</td>\n",
       "    </tr>\n",
       "    <tr>\n",
       "      <th>ENSG00000277632.1</th>\n",
       "      <td>0.789583</td>\n",
       "      <td>0.780181</td>\n",
       "      <td>0.408476</td>\n",
       "      <td>1.000000</td>\n",
       "      <td>0.151543</td>\n",
       "      <td>0.547588</td>\n",
       "      <td>0.055712</td>\n",
       "      <td>0.346530</td>\n",
       "      <td>0.761547</td>\n",
       "      <td>0.381776</td>\n",
       "      <td>...</td>\n",
       "      <td>0.222554</td>\n",
       "      <td>0.036365</td>\n",
       "      <td>0.023933</td>\n",
       "      <td>0.017412</td>\n",
       "      <td>0.044225</td>\n",
       "      <td>0.129593</td>\n",
       "      <td>0.065463</td>\n",
       "      <td>0.188812</td>\n",
       "      <td>0.147426</td>\n",
       "      <td>0.011364</td>\n",
       "    </tr>\n",
       "    <tr>\n",
       "      <th>ENSG00000239839.6</th>\n",
       "      <td>0.139359</td>\n",
       "      <td>0.159947</td>\n",
       "      <td>0.127681</td>\n",
       "      <td>0.151543</td>\n",
       "      <td>1.000000</td>\n",
       "      <td>0.272752</td>\n",
       "      <td>0.008065</td>\n",
       "      <td>0.100699</td>\n",
       "      <td>0.135411</td>\n",
       "      <td>0.318958</td>\n",
       "      <td>...</td>\n",
       "      <td>0.048843</td>\n",
       "      <td>0.012149</td>\n",
       "      <td>0.018039</td>\n",
       "      <td>0.005696</td>\n",
       "      <td>0.021103</td>\n",
       "      <td>0.022719</td>\n",
       "      <td>0.003596</td>\n",
       "      <td>0.100699</td>\n",
       "      <td>0.018589</td>\n",
       "      <td>0.010845</td>\n",
       "    </tr>\n",
       "  </tbody>\n",
       "</table>\n",
       "<p>5 rows × 5000 columns</p>\n",
       "</div>"
      ],
      "text/plain": [
       "gene_ens_id         ENSG00000169429.10  ENSG00000135245.9  ENSG00000163631.16  \\\n",
       "gene_ens_id                                                                     \n",
       "ENSG00000169429.10            1.000000           0.780181            0.401717   \n",
       "ENSG00000135245.9             0.780181           1.000000            0.429092   \n",
       "ENSG00000163631.16            0.401717           0.429092            1.000000   \n",
       "ENSG00000277632.1             0.789583           0.780181            0.408476   \n",
       "ENSG00000239839.6             0.139359           0.159947            0.127681   \n",
       "\n",
       "gene_ens_id         ENSG00000277632.1  ENSG00000239839.6  ENSG00000186652.9  \\\n",
       "gene_ens_id                                                                   \n",
       "ENSG00000169429.10           0.789583           0.139359           0.524274   \n",
       "ENSG00000135245.9            0.780181           0.159947           0.516615   \n",
       "ENSG00000163631.16           0.408476           0.127681           0.401717   \n",
       "ENSG00000277632.1            1.000000           0.151543           0.547588   \n",
       "ENSG00000239839.6            0.151543           1.000000           0.272752   \n",
       "\n",
       "gene_ens_id         ENSG00000129824.15  ENSG00000152463.14  ENSG00000123689.5  \\\n",
       "gene_ens_id                                                                     \n",
       "ENSG00000169429.10            0.048667            0.365544           0.799041   \n",
       "ENSG00000135245.9             0.042631            0.334136           0.752314   \n",
       "ENSG00000163631.16            0.020316            0.232700           0.381776   \n",
       "ENSG00000277632.1             0.055712            0.346530           0.761547   \n",
       "ENSG00000239839.6             0.008065            0.100699           0.135411   \n",
       "\n",
       "gene_ens_id         ENSG00000012223.12  ...  ENSG00000122033.14  \\\n",
       "gene_ens_id                             ...                       \n",
       "ENSG00000169429.10            0.343411  ...            0.212632   \n",
       "ENSG00000135245.9             0.355974  ...            0.237858   \n",
       "ENSG00000163631.16            0.261762  ...            0.153623   \n",
       "ENSG00000277632.1             0.381776  ...            0.222554   \n",
       "ENSG00000239839.6             0.318958  ...            0.048843   \n",
       "\n",
       "gene_ens_id         ENSG00000145779.7  ENSG00000196396.9  ENSG00000216490.3  \\\n",
       "gene_ens_id                                                                   \n",
       "ENSG00000169429.10           0.037166           0.012264           0.016958   \n",
       "ENSG00000135245.9            0.051243           0.042777           0.035816   \n",
       "ENSG00000163631.16           0.041971           0.008775           0.009087   \n",
       "ENSG00000277632.1            0.036365           0.023933           0.017412   \n",
       "ENSG00000239839.6            0.012149           0.018039           0.005696   \n",
       "\n",
       "gene_ens_id         ENSG00000135521.8  ENSG00000198478.7  ENSG00000168137.15  \\\n",
       "gene_ens_id                                                                    \n",
       "ENSG00000169429.10           0.053866           0.133457            0.081476   \n",
       "ENSG00000135245.9            0.094566           0.145388            0.075009   \n",
       "ENSG00000163631.16           0.053706           0.090792            0.021106   \n",
       "ENSG00000277632.1            0.044225           0.129593            0.065463   \n",
       "ENSG00000239839.6            0.021103           0.022719            0.003596   \n",
       "\n",
       "gene_ens_id         ENSG00000182197.10  ENSG00000111641.11  ENSG00000168528.11  \n",
       "gene_ens_id                                                                     \n",
       "ENSG00000169429.10            0.212632            0.112897            0.022719  \n",
       "ENSG00000135245.9             0.217565            0.099542            0.019660  \n",
       "ENSG00000163631.16            0.153623            0.047663            0.009211  \n",
       "ENSG00000277632.1             0.188812            0.147426            0.011364  \n",
       "ENSG00000239839.6             0.100699            0.018589            0.010845  \n",
       "\n",
       "[5 rows x 5000 columns]"
      ]
     },
     "execution_count": 15,
     "metadata": {},
     "output_type": "execute_result"
    }
   ],
   "source": [
    "clustermatch_df.head()"
   ]
  },
  {
   "cell_type": "code",
   "execution_count": 16,
   "id": "e8d06663-b757-4c9a-bf88-efe799cf4c16",
   "metadata": {
    "execution": {
     "iopub.execute_input": "2023-09-07T18:55:14.522030Z",
     "iopub.status.busy": "2023-09-07T18:55:14.521959Z",
     "iopub.status.idle": "2023-09-07T18:55:14.523366Z",
     "shell.execute_reply": "2023-09-07T18:55:14.523231Z"
    },
    "papermill": {
     "duration": 0.005093,
     "end_time": "2023-09-07T18:55:14.523791",
     "exception": false,
     "start_time": "2023-09-07T18:55:14.518698",
     "status": "completed"
    },
    "tags": []
   },
   "outputs": [],
   "source": [
    "assert data.index.equals(clustermatch_df.index)"
   ]
  },
  {
   "cell_type": "markdown",
   "id": "0277745a-71cf-4b42-a1ad-949ffa423a35",
   "metadata": {
    "papermill": {
     "duration": 0.002833,
     "end_time": "2023-09-07T18:55:14.529577",
     "exception": false,
     "start_time": "2023-09-07T18:55:14.526744",
     "status": "completed"
    },
    "tags": []
   },
   "source": [
    "## Pearson"
   ]
  },
  {
   "cell_type": "code",
   "execution_count": 17,
   "id": "25fec66a-2209-4556-9ab9-a6de8ae6737c",
   "metadata": {
    "execution": {
     "iopub.execute_input": "2023-09-07T18:55:14.535750Z",
     "iopub.status.busy": "2023-09-07T18:55:14.535671Z",
     "iopub.status.idle": "2023-09-07T18:55:14.590806Z",
     "shell.execute_reply": "2023-09-07T18:55:14.590605Z"
    },
    "papermill": {
     "duration": 0.058963,
     "end_time": "2023-09-07T18:55:14.591498",
     "exception": false,
     "start_time": "2023-09-07T18:55:14.532535",
     "status": "completed"
    },
    "tags": []
   },
   "outputs": [],
   "source": [
    "pearson_df = pd.read_pickle(\n",
    "    str(INPUT_CORR_FILE_TEMPLATE).format(\n",
    "        tissue=GTEX_TISSUE,\n",
    "        gene_sel_strategy=GENE_SEL_STRATEGY,\n",
    "        corr_method=\"pearson\",\n",
    "    )\n",
    ")"
   ]
  },
  {
   "cell_type": "code",
   "execution_count": 18,
   "id": "9cf7764d-a6f1-4fa3-9731-4eacac4ec7ef",
   "metadata": {
    "execution": {
     "iopub.execute_input": "2023-09-07T18:55:14.598141Z",
     "iopub.status.busy": "2023-09-07T18:55:14.598033Z",
     "iopub.status.idle": "2023-09-07T18:55:14.599808Z",
     "shell.execute_reply": "2023-09-07T18:55:14.599679Z"
    },
    "papermill": {
     "duration": 0.005538,
     "end_time": "2023-09-07T18:55:14.600252",
     "exception": false,
     "start_time": "2023-09-07T18:55:14.594714",
     "status": "completed"
    },
    "tags": []
   },
   "outputs": [
    {
     "data": {
      "text/plain": [
       "(5000, 5000)"
      ]
     },
     "execution_count": 18,
     "metadata": {},
     "output_type": "execute_result"
    }
   ],
   "source": [
    "pearson_df.shape"
   ]
  },
  {
   "cell_type": "code",
   "execution_count": 19,
   "id": "d2a2fe84-ead6-4ac3-8980-e9ecc8fb4eec",
   "metadata": {
    "execution": {
     "iopub.execute_input": "2023-09-07T18:55:14.606689Z",
     "iopub.status.busy": "2023-09-07T18:55:14.606446Z",
     "iopub.status.idle": "2023-09-07T18:55:14.613141Z",
     "shell.execute_reply": "2023-09-07T18:55:14.613011Z"
    },
    "papermill": {
     "duration": 0.010361,
     "end_time": "2023-09-07T18:55:14.613584",
     "exception": false,
     "start_time": "2023-09-07T18:55:14.603223",
     "status": "completed"
    },
    "tags": []
   },
   "outputs": [
    {
     "data": {
      "text/html": [
       "<div>\n",
       "<style scoped>\n",
       "    .dataframe tbody tr th:only-of-type {\n",
       "        vertical-align: middle;\n",
       "    }\n",
       "\n",
       "    .dataframe tbody tr th {\n",
       "        vertical-align: top;\n",
       "    }\n",
       "\n",
       "    .dataframe thead th {\n",
       "        text-align: right;\n",
       "    }\n",
       "</style>\n",
       "<table border=\"1\" class=\"dataframe\">\n",
       "  <thead>\n",
       "    <tr style=\"text-align: right;\">\n",
       "      <th>gene_ens_id</th>\n",
       "      <th>ENSG00000169429.10</th>\n",
       "      <th>ENSG00000135245.9</th>\n",
       "      <th>ENSG00000163631.16</th>\n",
       "      <th>ENSG00000277632.1</th>\n",
       "      <th>ENSG00000239839.6</th>\n",
       "      <th>ENSG00000186652.9</th>\n",
       "      <th>ENSG00000129824.15</th>\n",
       "      <th>ENSG00000152463.14</th>\n",
       "      <th>ENSG00000123689.5</th>\n",
       "      <th>ENSG00000012223.12</th>\n",
       "      <th>...</th>\n",
       "      <th>ENSG00000122033.14</th>\n",
       "      <th>ENSG00000145779.7</th>\n",
       "      <th>ENSG00000196396.9</th>\n",
       "      <th>ENSG00000216490.3</th>\n",
       "      <th>ENSG00000135521.8</th>\n",
       "      <th>ENSG00000198478.7</th>\n",
       "      <th>ENSG00000168137.15</th>\n",
       "      <th>ENSG00000182197.10</th>\n",
       "      <th>ENSG00000111641.11</th>\n",
       "      <th>ENSG00000168528.11</th>\n",
       "    </tr>\n",
       "    <tr>\n",
       "      <th>gene_ens_id</th>\n",
       "      <th></th>\n",
       "      <th></th>\n",
       "      <th></th>\n",
       "      <th></th>\n",
       "      <th></th>\n",
       "      <th></th>\n",
       "      <th></th>\n",
       "      <th></th>\n",
       "      <th></th>\n",
       "      <th></th>\n",
       "      <th></th>\n",
       "      <th></th>\n",
       "      <th></th>\n",
       "      <th></th>\n",
       "      <th></th>\n",
       "      <th></th>\n",
       "      <th></th>\n",
       "      <th></th>\n",
       "      <th></th>\n",
       "      <th></th>\n",
       "      <th></th>\n",
       "    </tr>\n",
       "  </thead>\n",
       "  <tbody>\n",
       "    <tr>\n",
       "      <th>ENSG00000169429.10</th>\n",
       "      <td>1.000000</td>\n",
       "      <td>0.571672</td>\n",
       "      <td>0.126906</td>\n",
       "      <td>0.456538</td>\n",
       "      <td>0.127140</td>\n",
       "      <td>0.256347</td>\n",
       "      <td>0.300879</td>\n",
       "      <td>-0.268024</td>\n",
       "      <td>0.472277</td>\n",
       "      <td>0.355504</td>\n",
       "      <td>...</td>\n",
       "      <td>-0.087559</td>\n",
       "      <td>0.181072</td>\n",
       "      <td>0.098032</td>\n",
       "      <td>0.012809</td>\n",
       "      <td>0.048569</td>\n",
       "      <td>-0.125537</td>\n",
       "      <td>0.449339</td>\n",
       "      <td>-0.198314</td>\n",
       "      <td>0.298775</td>\n",
       "      <td>0.041489</td>\n",
       "    </tr>\n",
       "    <tr>\n",
       "      <th>ENSG00000135245.9</th>\n",
       "      <td>0.571672</td>\n",
       "      <td>1.000000</td>\n",
       "      <td>0.110612</td>\n",
       "      <td>0.438929</td>\n",
       "      <td>0.209161</td>\n",
       "      <td>0.223671</td>\n",
       "      <td>0.203370</td>\n",
       "      <td>-0.325667</td>\n",
       "      <td>0.532544</td>\n",
       "      <td>0.406272</td>\n",
       "      <td>...</td>\n",
       "      <td>-0.198912</td>\n",
       "      <td>0.018133</td>\n",
       "      <td>0.165431</td>\n",
       "      <td>0.052732</td>\n",
       "      <td>-0.123459</td>\n",
       "      <td>-0.192481</td>\n",
       "      <td>0.478504</td>\n",
       "      <td>-0.223546</td>\n",
       "      <td>0.259206</td>\n",
       "      <td>0.116396</td>\n",
       "    </tr>\n",
       "    <tr>\n",
       "      <th>ENSG00000163631.16</th>\n",
       "      <td>0.126906</td>\n",
       "      <td>0.110612</td>\n",
       "      <td>1.000000</td>\n",
       "      <td>0.129248</td>\n",
       "      <td>0.021091</td>\n",
       "      <td>0.054572</td>\n",
       "      <td>0.072717</td>\n",
       "      <td>-0.131141</td>\n",
       "      <td>0.235882</td>\n",
       "      <td>0.098683</td>\n",
       "      <td>...</td>\n",
       "      <td>-0.095401</td>\n",
       "      <td>-0.077452</td>\n",
       "      <td>-0.084369</td>\n",
       "      <td>-0.077808</td>\n",
       "      <td>-0.093490</td>\n",
       "      <td>-0.037774</td>\n",
       "      <td>0.025260</td>\n",
       "      <td>-0.123350</td>\n",
       "      <td>0.049174</td>\n",
       "      <td>0.106998</td>\n",
       "    </tr>\n",
       "    <tr>\n",
       "      <th>ENSG00000277632.1</th>\n",
       "      <td>0.456538</td>\n",
       "      <td>0.438929</td>\n",
       "      <td>0.129248</td>\n",
       "      <td>1.000000</td>\n",
       "      <td>0.199647</td>\n",
       "      <td>0.238356</td>\n",
       "      <td>0.366739</td>\n",
       "      <td>-0.361011</td>\n",
       "      <td>0.406964</td>\n",
       "      <td>0.416603</td>\n",
       "      <td>...</td>\n",
       "      <td>-0.175950</td>\n",
       "      <td>0.107436</td>\n",
       "      <td>0.118997</td>\n",
       "      <td>0.027369</td>\n",
       "      <td>0.060482</td>\n",
       "      <td>-0.212037</td>\n",
       "      <td>0.420059</td>\n",
       "      <td>-0.304038</td>\n",
       "      <td>0.509854</td>\n",
       "      <td>0.027239</td>\n",
       "    </tr>\n",
       "    <tr>\n",
       "      <th>ENSG00000239839.6</th>\n",
       "      <td>0.127140</td>\n",
       "      <td>0.209161</td>\n",
       "      <td>0.021091</td>\n",
       "      <td>0.199647</td>\n",
       "      <td>1.000000</td>\n",
       "      <td>0.229287</td>\n",
       "      <td>0.022563</td>\n",
       "      <td>-0.183318</td>\n",
       "      <td>0.077410</td>\n",
       "      <td>0.541731</td>\n",
       "      <td>...</td>\n",
       "      <td>-0.058021</td>\n",
       "      <td>0.051451</td>\n",
       "      <td>-0.040586</td>\n",
       "      <td>-0.013576</td>\n",
       "      <td>-0.015835</td>\n",
       "      <td>-0.115248</td>\n",
       "      <td>0.072186</td>\n",
       "      <td>-0.219001</td>\n",
       "      <td>0.076205</td>\n",
       "      <td>0.112401</td>\n",
       "    </tr>\n",
       "  </tbody>\n",
       "</table>\n",
       "<p>5 rows × 5000 columns</p>\n",
       "</div>"
      ],
      "text/plain": [
       "gene_ens_id         ENSG00000169429.10  ENSG00000135245.9  ENSG00000163631.16  \\\n",
       "gene_ens_id                                                                     \n",
       "ENSG00000169429.10            1.000000           0.571672            0.126906   \n",
       "ENSG00000135245.9             0.571672           1.000000            0.110612   \n",
       "ENSG00000163631.16            0.126906           0.110612            1.000000   \n",
       "ENSG00000277632.1             0.456538           0.438929            0.129248   \n",
       "ENSG00000239839.6             0.127140           0.209161            0.021091   \n",
       "\n",
       "gene_ens_id         ENSG00000277632.1  ENSG00000239839.6  ENSG00000186652.9  \\\n",
       "gene_ens_id                                                                   \n",
       "ENSG00000169429.10           0.456538           0.127140           0.256347   \n",
       "ENSG00000135245.9            0.438929           0.209161           0.223671   \n",
       "ENSG00000163631.16           0.129248           0.021091           0.054572   \n",
       "ENSG00000277632.1            1.000000           0.199647           0.238356   \n",
       "ENSG00000239839.6            0.199647           1.000000           0.229287   \n",
       "\n",
       "gene_ens_id         ENSG00000129824.15  ENSG00000152463.14  ENSG00000123689.5  \\\n",
       "gene_ens_id                                                                     \n",
       "ENSG00000169429.10            0.300879           -0.268024           0.472277   \n",
       "ENSG00000135245.9             0.203370           -0.325667           0.532544   \n",
       "ENSG00000163631.16            0.072717           -0.131141           0.235882   \n",
       "ENSG00000277632.1             0.366739           -0.361011           0.406964   \n",
       "ENSG00000239839.6             0.022563           -0.183318           0.077410   \n",
       "\n",
       "gene_ens_id         ENSG00000012223.12  ...  ENSG00000122033.14  \\\n",
       "gene_ens_id                             ...                       \n",
       "ENSG00000169429.10            0.355504  ...           -0.087559   \n",
       "ENSG00000135245.9             0.406272  ...           -0.198912   \n",
       "ENSG00000163631.16            0.098683  ...           -0.095401   \n",
       "ENSG00000277632.1             0.416603  ...           -0.175950   \n",
       "ENSG00000239839.6             0.541731  ...           -0.058021   \n",
       "\n",
       "gene_ens_id         ENSG00000145779.7  ENSG00000196396.9  ENSG00000216490.3  \\\n",
       "gene_ens_id                                                                   \n",
       "ENSG00000169429.10           0.181072           0.098032           0.012809   \n",
       "ENSG00000135245.9            0.018133           0.165431           0.052732   \n",
       "ENSG00000163631.16          -0.077452          -0.084369          -0.077808   \n",
       "ENSG00000277632.1            0.107436           0.118997           0.027369   \n",
       "ENSG00000239839.6            0.051451          -0.040586          -0.013576   \n",
       "\n",
       "gene_ens_id         ENSG00000135521.8  ENSG00000198478.7  ENSG00000168137.15  \\\n",
       "gene_ens_id                                                                    \n",
       "ENSG00000169429.10           0.048569          -0.125537            0.449339   \n",
       "ENSG00000135245.9           -0.123459          -0.192481            0.478504   \n",
       "ENSG00000163631.16          -0.093490          -0.037774            0.025260   \n",
       "ENSG00000277632.1            0.060482          -0.212037            0.420059   \n",
       "ENSG00000239839.6           -0.015835          -0.115248            0.072186   \n",
       "\n",
       "gene_ens_id         ENSG00000182197.10  ENSG00000111641.11  ENSG00000168528.11  \n",
       "gene_ens_id                                                                     \n",
       "ENSG00000169429.10           -0.198314            0.298775            0.041489  \n",
       "ENSG00000135245.9            -0.223546            0.259206            0.116396  \n",
       "ENSG00000163631.16           -0.123350            0.049174            0.106998  \n",
       "ENSG00000277632.1            -0.304038            0.509854            0.027239  \n",
       "ENSG00000239839.6            -0.219001            0.076205            0.112401  \n",
       "\n",
       "[5 rows x 5000 columns]"
      ]
     },
     "execution_count": 19,
     "metadata": {},
     "output_type": "execute_result"
    }
   ],
   "source": [
    "pearson_df.head()"
   ]
  },
  {
   "cell_type": "code",
   "execution_count": 20,
   "id": "52aec2ed-709e-4a8b-885f-0d5f6a24e01d",
   "metadata": {
    "execution": {
     "iopub.execute_input": "2023-09-07T18:55:14.619912Z",
     "iopub.status.busy": "2023-09-07T18:55:14.619845Z",
     "iopub.status.idle": "2023-09-07T18:55:14.621214Z",
     "shell.execute_reply": "2023-09-07T18:55:14.621076Z"
    },
    "papermill": {
     "duration": 0.004986,
     "end_time": "2023-09-07T18:55:14.621639",
     "exception": false,
     "start_time": "2023-09-07T18:55:14.616653",
     "status": "completed"
    },
    "tags": []
   },
   "outputs": [],
   "source": [
    "assert data.index.equals(pearson_df.index)"
   ]
  },
  {
   "cell_type": "markdown",
   "id": "6f0ee3a9-baa6-4a05-904d-8606b26da6c5",
   "metadata": {
    "papermill": {
     "duration": 0.002944,
     "end_time": "2023-09-07T18:55:14.627666",
     "exception": false,
     "start_time": "2023-09-07T18:55:14.624722",
     "status": "completed"
    },
    "tags": []
   },
   "source": [
    "## Spearman"
   ]
  },
  {
   "cell_type": "code",
   "execution_count": 21,
   "id": "41edc475-d086-4041-85dc-e41a0d6a89ac",
   "metadata": {
    "execution": {
     "iopub.execute_input": "2023-09-07T18:55:14.633925Z",
     "iopub.status.busy": "2023-09-07T18:55:14.633875Z",
     "iopub.status.idle": "2023-09-07T18:55:14.685416Z",
     "shell.execute_reply": "2023-09-07T18:55:14.685123Z"
    },
    "papermill": {
     "duration": 0.055488,
     "end_time": "2023-09-07T18:55:14.686158",
     "exception": false,
     "start_time": "2023-09-07T18:55:14.630670",
     "status": "completed"
    },
    "tags": []
   },
   "outputs": [],
   "source": [
    "spearman_df = pd.read_pickle(\n",
    "    str(INPUT_CORR_FILE_TEMPLATE).format(\n",
    "        tissue=GTEX_TISSUE,\n",
    "        gene_sel_strategy=GENE_SEL_STRATEGY,\n",
    "        corr_method=\"spearman\",\n",
    "    )\n",
    ")"
   ]
  },
  {
   "cell_type": "code",
   "execution_count": 22,
   "id": "a5326477-cc14-47bc-9c7b-cd4e1afffdff",
   "metadata": {
    "execution": {
     "iopub.execute_input": "2023-09-07T18:55:14.693148Z",
     "iopub.status.busy": "2023-09-07T18:55:14.693053Z",
     "iopub.status.idle": "2023-09-07T18:55:14.694843Z",
     "shell.execute_reply": "2023-09-07T18:55:14.694714Z"
    },
    "papermill": {
     "duration": 0.005817,
     "end_time": "2023-09-07T18:55:14.695320",
     "exception": false,
     "start_time": "2023-09-07T18:55:14.689503",
     "status": "completed"
    },
    "tags": []
   },
   "outputs": [
    {
     "data": {
      "text/plain": [
       "(5000, 5000)"
      ]
     },
     "execution_count": 22,
     "metadata": {},
     "output_type": "execute_result"
    }
   ],
   "source": [
    "spearman_df.shape"
   ]
  },
  {
   "cell_type": "code",
   "execution_count": 23,
   "id": "acb0044e-2fb2-4349-a103-07c675895321",
   "metadata": {
    "execution": {
     "iopub.execute_input": "2023-09-07T18:55:14.702115Z",
     "iopub.status.busy": "2023-09-07T18:55:14.701976Z",
     "iopub.status.idle": "2023-09-07T18:55:14.708386Z",
     "shell.execute_reply": "2023-09-07T18:55:14.708260Z"
    },
    "papermill": {
     "duration": 0.010316,
     "end_time": "2023-09-07T18:55:14.708864",
     "exception": false,
     "start_time": "2023-09-07T18:55:14.698548",
     "status": "completed"
    },
    "tags": []
   },
   "outputs": [
    {
     "data": {
      "text/html": [
       "<div>\n",
       "<style scoped>\n",
       "    .dataframe tbody tr th:only-of-type {\n",
       "        vertical-align: middle;\n",
       "    }\n",
       "\n",
       "    .dataframe tbody tr th {\n",
       "        vertical-align: top;\n",
       "    }\n",
       "\n",
       "    .dataframe thead th {\n",
       "        text-align: right;\n",
       "    }\n",
       "</style>\n",
       "<table border=\"1\" class=\"dataframe\">\n",
       "  <thead>\n",
       "    <tr style=\"text-align: right;\">\n",
       "      <th>gene_ens_id</th>\n",
       "      <th>ENSG00000169429.10</th>\n",
       "      <th>ENSG00000135245.9</th>\n",
       "      <th>ENSG00000163631.16</th>\n",
       "      <th>ENSG00000277632.1</th>\n",
       "      <th>ENSG00000239839.6</th>\n",
       "      <th>ENSG00000186652.9</th>\n",
       "      <th>ENSG00000129824.15</th>\n",
       "      <th>ENSG00000152463.14</th>\n",
       "      <th>ENSG00000123689.5</th>\n",
       "      <th>ENSG00000012223.12</th>\n",
       "      <th>...</th>\n",
       "      <th>ENSG00000122033.14</th>\n",
       "      <th>ENSG00000145779.7</th>\n",
       "      <th>ENSG00000196396.9</th>\n",
       "      <th>ENSG00000216490.3</th>\n",
       "      <th>ENSG00000135521.8</th>\n",
       "      <th>ENSG00000198478.7</th>\n",
       "      <th>ENSG00000168137.15</th>\n",
       "      <th>ENSG00000182197.10</th>\n",
       "      <th>ENSG00000111641.11</th>\n",
       "      <th>ENSG00000168528.11</th>\n",
       "    </tr>\n",
       "    <tr>\n",
       "      <th>gene_ens_id</th>\n",
       "      <th></th>\n",
       "      <th></th>\n",
       "      <th></th>\n",
       "      <th></th>\n",
       "      <th></th>\n",
       "      <th></th>\n",
       "      <th></th>\n",
       "      <th></th>\n",
       "      <th></th>\n",
       "      <th></th>\n",
       "      <th></th>\n",
       "      <th></th>\n",
       "      <th></th>\n",
       "      <th></th>\n",
       "      <th></th>\n",
       "      <th></th>\n",
       "      <th></th>\n",
       "      <th></th>\n",
       "      <th></th>\n",
       "      <th></th>\n",
       "      <th></th>\n",
       "    </tr>\n",
       "  </thead>\n",
       "  <tbody>\n",
       "    <tr>\n",
       "      <th>ENSG00000169429.10</th>\n",
       "      <td>1.000000</td>\n",
       "      <td>0.853836</td>\n",
       "      <td>0.709240</td>\n",
       "      <td>0.850371</td>\n",
       "      <td>0.379835</td>\n",
       "      <td>0.760102</td>\n",
       "      <td>0.243599</td>\n",
       "      <td>-0.694446</td>\n",
       "      <td>0.866183</td>\n",
       "      <td>0.657452</td>\n",
       "      <td>...</td>\n",
       "      <td>-0.376521</td>\n",
       "      <td>-0.008912</td>\n",
       "      <td>-0.002147</td>\n",
       "      <td>-0.069521</td>\n",
       "      <td>-0.119740</td>\n",
       "      <td>-0.341219</td>\n",
       "      <td>0.457231</td>\n",
       "      <td>-0.458056</td>\n",
       "      <td>0.435510</td>\n",
       "      <td>-0.126189</td>\n",
       "    </tr>\n",
       "    <tr>\n",
       "      <th>ENSG00000135245.9</th>\n",
       "      <td>0.853836</td>\n",
       "      <td>1.000000</td>\n",
       "      <td>0.675719</td>\n",
       "      <td>0.834496</td>\n",
       "      <td>0.422539</td>\n",
       "      <td>0.735840</td>\n",
       "      <td>0.233504</td>\n",
       "      <td>-0.574572</td>\n",
       "      <td>0.827193</td>\n",
       "      <td>0.626538</td>\n",
       "      <td>...</td>\n",
       "      <td>-0.350526</td>\n",
       "      <td>-0.017997</td>\n",
       "      <td>0.052715</td>\n",
       "      <td>0.029882</td>\n",
       "      <td>-0.129671</td>\n",
       "      <td>-0.361843</td>\n",
       "      <td>0.459400</td>\n",
       "      <td>-0.373947</td>\n",
       "      <td>0.449254</td>\n",
       "      <td>0.043939</td>\n",
       "    </tr>\n",
       "    <tr>\n",
       "      <th>ENSG00000163631.16</th>\n",
       "      <td>0.709240</td>\n",
       "      <td>0.675719</td>\n",
       "      <td>1.000000</td>\n",
       "      <td>0.683018</td>\n",
       "      <td>0.388814</td>\n",
       "      <td>0.730922</td>\n",
       "      <td>0.177607</td>\n",
       "      <td>-0.558213</td>\n",
       "      <td>0.667917</td>\n",
       "      <td>0.613913</td>\n",
       "      <td>...</td>\n",
       "      <td>-0.427955</td>\n",
       "      <td>-0.190712</td>\n",
       "      <td>-0.125631</td>\n",
       "      <td>-0.109937</td>\n",
       "      <td>-0.253229</td>\n",
       "      <td>-0.332238</td>\n",
       "      <td>0.205314</td>\n",
       "      <td>-0.452284</td>\n",
       "      <td>0.309117</td>\n",
       "      <td>-0.073344</td>\n",
       "    </tr>\n",
       "    <tr>\n",
       "      <th>ENSG00000277632.1</th>\n",
       "      <td>0.850371</td>\n",
       "      <td>0.834496</td>\n",
       "      <td>0.683018</td>\n",
       "      <td>1.000000</td>\n",
       "      <td>0.402836</td>\n",
       "      <td>0.756369</td>\n",
       "      <td>0.281333</td>\n",
       "      <td>-0.667793</td>\n",
       "      <td>0.808998</td>\n",
       "      <td>0.659031</td>\n",
       "      <td>...</td>\n",
       "      <td>-0.359078</td>\n",
       "      <td>-0.009396</td>\n",
       "      <td>0.047820</td>\n",
       "      <td>-0.001894</td>\n",
       "      <td>-0.076270</td>\n",
       "      <td>-0.343856</td>\n",
       "      <td>0.419410</td>\n",
       "      <td>-0.436411</td>\n",
       "      <td>0.546328</td>\n",
       "      <td>-0.080340</td>\n",
       "    </tr>\n",
       "    <tr>\n",
       "      <th>ENSG00000239839.6</th>\n",
       "      <td>0.379835</td>\n",
       "      <td>0.422539</td>\n",
       "      <td>0.388814</td>\n",
       "      <td>0.402836</td>\n",
       "      <td>1.000000</td>\n",
       "      <td>0.626519</td>\n",
       "      <td>0.045501</td>\n",
       "      <td>-0.341542</td>\n",
       "      <td>0.297492</td>\n",
       "      <td>0.691271</td>\n",
       "      <td>...</td>\n",
       "      <td>-0.212080</td>\n",
       "      <td>-0.041432</td>\n",
       "      <td>-0.137451</td>\n",
       "      <td>-0.072243</td>\n",
       "      <td>-0.097927</td>\n",
       "      <td>-0.151915</td>\n",
       "      <td>0.086806</td>\n",
       "      <td>-0.350749</td>\n",
       "      <td>0.188874</td>\n",
       "      <td>0.140163</td>\n",
       "    </tr>\n",
       "  </tbody>\n",
       "</table>\n",
       "<p>5 rows × 5000 columns</p>\n",
       "</div>"
      ],
      "text/plain": [
       "gene_ens_id         ENSG00000169429.10  ENSG00000135245.9  ENSG00000163631.16  \\\n",
       "gene_ens_id                                                                     \n",
       "ENSG00000169429.10            1.000000           0.853836            0.709240   \n",
       "ENSG00000135245.9             0.853836           1.000000            0.675719   \n",
       "ENSG00000163631.16            0.709240           0.675719            1.000000   \n",
       "ENSG00000277632.1             0.850371           0.834496            0.683018   \n",
       "ENSG00000239839.6             0.379835           0.422539            0.388814   \n",
       "\n",
       "gene_ens_id         ENSG00000277632.1  ENSG00000239839.6  ENSG00000186652.9  \\\n",
       "gene_ens_id                                                                   \n",
       "ENSG00000169429.10           0.850371           0.379835           0.760102   \n",
       "ENSG00000135245.9            0.834496           0.422539           0.735840   \n",
       "ENSG00000163631.16           0.683018           0.388814           0.730922   \n",
       "ENSG00000277632.1            1.000000           0.402836           0.756369   \n",
       "ENSG00000239839.6            0.402836           1.000000           0.626519   \n",
       "\n",
       "gene_ens_id         ENSG00000129824.15  ENSG00000152463.14  ENSG00000123689.5  \\\n",
       "gene_ens_id                                                                     \n",
       "ENSG00000169429.10            0.243599           -0.694446           0.866183   \n",
       "ENSG00000135245.9             0.233504           -0.574572           0.827193   \n",
       "ENSG00000163631.16            0.177607           -0.558213           0.667917   \n",
       "ENSG00000277632.1             0.281333           -0.667793           0.808998   \n",
       "ENSG00000239839.6             0.045501           -0.341542           0.297492   \n",
       "\n",
       "gene_ens_id         ENSG00000012223.12  ...  ENSG00000122033.14  \\\n",
       "gene_ens_id                             ...                       \n",
       "ENSG00000169429.10            0.657452  ...           -0.376521   \n",
       "ENSG00000135245.9             0.626538  ...           -0.350526   \n",
       "ENSG00000163631.16            0.613913  ...           -0.427955   \n",
       "ENSG00000277632.1             0.659031  ...           -0.359078   \n",
       "ENSG00000239839.6             0.691271  ...           -0.212080   \n",
       "\n",
       "gene_ens_id         ENSG00000145779.7  ENSG00000196396.9  ENSG00000216490.3  \\\n",
       "gene_ens_id                                                                   \n",
       "ENSG00000169429.10          -0.008912          -0.002147          -0.069521   \n",
       "ENSG00000135245.9           -0.017997           0.052715           0.029882   \n",
       "ENSG00000163631.16          -0.190712          -0.125631          -0.109937   \n",
       "ENSG00000277632.1           -0.009396           0.047820          -0.001894   \n",
       "ENSG00000239839.6           -0.041432          -0.137451          -0.072243   \n",
       "\n",
       "gene_ens_id         ENSG00000135521.8  ENSG00000198478.7  ENSG00000168137.15  \\\n",
       "gene_ens_id                                                                    \n",
       "ENSG00000169429.10          -0.119740          -0.341219            0.457231   \n",
       "ENSG00000135245.9           -0.129671          -0.361843            0.459400   \n",
       "ENSG00000163631.16          -0.253229          -0.332238            0.205314   \n",
       "ENSG00000277632.1           -0.076270          -0.343856            0.419410   \n",
       "ENSG00000239839.6           -0.097927          -0.151915            0.086806   \n",
       "\n",
       "gene_ens_id         ENSG00000182197.10  ENSG00000111641.11  ENSG00000168528.11  \n",
       "gene_ens_id                                                                     \n",
       "ENSG00000169429.10           -0.458056            0.435510           -0.126189  \n",
       "ENSG00000135245.9            -0.373947            0.449254            0.043939  \n",
       "ENSG00000163631.16           -0.452284            0.309117           -0.073344  \n",
       "ENSG00000277632.1            -0.436411            0.546328           -0.080340  \n",
       "ENSG00000239839.6            -0.350749            0.188874            0.140163  \n",
       "\n",
       "[5 rows x 5000 columns]"
      ]
     },
     "execution_count": 23,
     "metadata": {},
     "output_type": "execute_result"
    }
   ],
   "source": [
    "spearman_df.head()"
   ]
  },
  {
   "cell_type": "code",
   "execution_count": 24,
   "id": "ccd00c49-b2b0-42b3-97e9-a444bffc0654",
   "metadata": {
    "execution": {
     "iopub.execute_input": "2023-09-07T18:55:14.715637Z",
     "iopub.status.busy": "2023-09-07T18:55:14.715571Z",
     "iopub.status.idle": "2023-09-07T18:55:14.717005Z",
     "shell.execute_reply": "2023-09-07T18:55:14.716869Z"
    },
    "papermill": {
     "duration": 0.005329,
     "end_time": "2023-09-07T18:55:14.717418",
     "exception": false,
     "start_time": "2023-09-07T18:55:14.712089",
     "status": "completed"
    },
    "tags": []
   },
   "outputs": [],
   "source": [
    "assert data.index.equals(spearman_df.index)"
   ]
  },
  {
   "cell_type": "markdown",
   "id": "d8ad7af3-5821-4501-b336-c01a4cfb78ec",
   "metadata": {
    "papermill": {
     "duration": 0.003073,
     "end_time": "2023-09-07T18:55:14.723645",
     "exception": false,
     "start_time": "2023-09-07T18:55:14.720572",
     "status": "completed"
    },
    "tags": []
   },
   "source": [
    "## Merge"
   ]
  },
  {
   "cell_type": "code",
   "execution_count": 25,
   "id": "0f647602-5e63-4f49-b88f-9dbc175d1967",
   "metadata": {
    "execution": {
     "iopub.execute_input": "2023-09-07T18:55:14.730248Z",
     "iopub.status.busy": "2023-09-07T18:55:14.730132Z",
     "iopub.status.idle": "2023-09-07T18:55:14.731260Z",
     "shell.execute_reply": "2023-09-07T18:55:14.731120Z"
    },
    "papermill": {
     "duration": 0.005002,
     "end_time": "2023-09-07T18:55:14.731812",
     "exception": false,
     "start_time": "2023-09-07T18:55:14.726810",
     "status": "completed"
    },
    "tags": []
   },
   "outputs": [],
   "source": [
    "# # make sure genes match\n",
    "# clustermatch_df = clustermatch_df.loc[pearson_df.index, pearson_df.columns]"
   ]
  },
  {
   "cell_type": "code",
   "execution_count": 26,
   "id": "ae82d327-4f1b-413c-a7e9-c5b82268f013",
   "metadata": {
    "execution": {
     "iopub.execute_input": "2023-09-07T18:55:14.738427Z",
     "iopub.status.busy": "2023-09-07T18:55:14.738320Z",
     "iopub.status.idle": "2023-09-07T18:55:14.868190Z",
     "shell.execute_reply": "2023-09-07T18:55:14.867914Z"
    },
    "papermill": {
     "duration": 0.134088,
     "end_time": "2023-09-07T18:55:14.869027",
     "exception": false,
     "start_time": "2023-09-07T18:55:14.734939",
     "status": "completed"
    },
    "tags": []
   },
   "outputs": [],
   "source": [
    "clustermatch_df = get_upper_triag(clustermatch_df)"
   ]
  },
  {
   "cell_type": "code",
   "execution_count": 27,
   "id": "b51f60c1-8f81-45ae-a89a-11ae721ed8d2",
   "metadata": {
    "execution": {
     "iopub.execute_input": "2023-09-07T18:55:14.876293Z",
     "iopub.status.busy": "2023-09-07T18:55:14.876202Z",
     "iopub.status.idle": "2023-09-07T18:55:15.096652Z",
     "shell.execute_reply": "2023-09-07T18:55:15.096376Z"
    },
    "papermill": {
     "duration": 0.225085,
     "end_time": "2023-09-07T18:55:15.097575",
     "exception": false,
     "start_time": "2023-09-07T18:55:14.872490",
     "status": "completed"
    },
    "tags": []
   },
   "outputs": [],
   "source": [
    "clustermatch_df = clustermatch_df.unstack().rename_axis((None, None)).dropna()"
   ]
  },
  {
   "cell_type": "code",
   "execution_count": 28,
   "id": "6dcab8f8-b51f-4120-8f3d-6322ddf0fc9b",
   "metadata": {
    "execution": {
     "iopub.execute_input": "2023-09-07T18:55:15.105085Z",
     "iopub.status.busy": "2023-09-07T18:55:15.104967Z",
     "iopub.status.idle": "2023-09-07T18:55:15.106877Z",
     "shell.execute_reply": "2023-09-07T18:55:15.106748Z"
    },
    "papermill": {
     "duration": 0.00653,
     "end_time": "2023-09-07T18:55:15.107773",
     "exception": false,
     "start_time": "2023-09-07T18:55:15.101243",
     "status": "completed"
    },
    "tags": []
   },
   "outputs": [
    {
     "data": {
      "text/plain": [
       "(12497500,)"
      ]
     },
     "execution_count": 28,
     "metadata": {},
     "output_type": "execute_result"
    }
   ],
   "source": [
    "clustermatch_df.shape"
   ]
  },
  {
   "cell_type": "code",
   "execution_count": 29,
   "id": "9b1d8344-94ab-449e-803b-fbfbb6c0a152",
   "metadata": {
    "execution": {
     "iopub.execute_input": "2023-09-07T18:55:15.119641Z",
     "iopub.status.busy": "2023-09-07T18:55:15.119512Z",
     "iopub.status.idle": "2023-09-07T18:55:15.121806Z",
     "shell.execute_reply": "2023-09-07T18:55:15.121658Z"
    },
    "papermill": {
     "duration": 0.009078,
     "end_time": "2023-09-07T18:55:15.122664",
     "exception": false,
     "start_time": "2023-09-07T18:55:15.113586",
     "status": "completed"
    },
    "tags": []
   },
   "outputs": [
    {
     "data": {
      "text/plain": [
       "ENSG00000135245.9   ENSG00000169429.10    0.780181\n",
       "ENSG00000163631.16  ENSG00000169429.10    0.401717\n",
       "                    ENSG00000135245.9     0.429092\n",
       "ENSG00000277632.1   ENSG00000169429.10    0.789583\n",
       "                    ENSG00000135245.9     0.780181\n",
       "dtype: float64"
      ]
     },
     "execution_count": 29,
     "metadata": {},
     "output_type": "execute_result"
    }
   ],
   "source": [
    "clustermatch_df.head()"
   ]
  },
  {
   "cell_type": "code",
   "execution_count": 30,
   "id": "2d15b513-c949-4b43-96e7-9eb3f30fc5ef",
   "metadata": {
    "execution": {
     "iopub.execute_input": "2023-09-07T18:55:15.131213Z",
     "iopub.status.busy": "2023-09-07T18:55:15.131137Z",
     "iopub.status.idle": "2023-09-07T18:55:15.255669Z",
     "shell.execute_reply": "2023-09-07T18:55:15.255470Z"
    },
    "papermill": {
     "duration": 0.129006,
     "end_time": "2023-09-07T18:55:15.256523",
     "exception": false,
     "start_time": "2023-09-07T18:55:15.127517",
     "status": "completed"
    },
    "tags": []
   },
   "outputs": [],
   "source": [
    "pearson_df = get_upper_triag(pearson_df)"
   ]
  },
  {
   "cell_type": "code",
   "execution_count": 31,
   "id": "62e67326-bdd5-4710-9bbe-da0ca57ec466",
   "metadata": {
    "execution": {
     "iopub.execute_input": "2023-09-07T18:55:15.270409Z",
     "iopub.status.busy": "2023-09-07T18:55:15.270309Z",
     "iopub.status.idle": "2023-09-07T18:55:15.511206Z",
     "shell.execute_reply": "2023-09-07T18:55:15.510997Z"
    },
    "papermill": {
     "duration": 0.251835,
     "end_time": "2023-09-07T18:55:15.512000",
     "exception": false,
     "start_time": "2023-09-07T18:55:15.260165",
     "status": "completed"
    },
    "tags": []
   },
   "outputs": [],
   "source": [
    "# make pearson abs\n",
    "pearson_df = pearson_df.unstack().rename_axis((None, None)).dropna().abs()"
   ]
  },
  {
   "cell_type": "code",
   "execution_count": 32,
   "id": "1a357889-1e00-4ff3-b0d1-a65ae9254824",
   "metadata": {
    "execution": {
     "iopub.execute_input": "2023-09-07T18:55:15.519603Z",
     "iopub.status.busy": "2023-09-07T18:55:15.519510Z",
     "iopub.status.idle": "2023-09-07T18:55:15.521259Z",
     "shell.execute_reply": "2023-09-07T18:55:15.521134Z"
    },
    "papermill": {
     "duration": 0.005905,
     "end_time": "2023-09-07T18:55:15.521738",
     "exception": false,
     "start_time": "2023-09-07T18:55:15.515833",
     "status": "completed"
    },
    "tags": []
   },
   "outputs": [
    {
     "data": {
      "text/plain": [
       "(12497500,)"
      ]
     },
     "execution_count": 32,
     "metadata": {},
     "output_type": "execute_result"
    }
   ],
   "source": [
    "pearson_df.shape"
   ]
  },
  {
   "cell_type": "code",
   "execution_count": 33,
   "id": "1e2a38f8-8e02-490f-8e8f-4fee1b1159fa",
   "metadata": {
    "execution": {
     "iopub.execute_input": "2023-09-07T18:55:15.528590Z",
     "iopub.status.busy": "2023-09-07T18:55:15.528517Z",
     "iopub.status.idle": "2023-09-07T18:55:15.530809Z",
     "shell.execute_reply": "2023-09-07T18:55:15.530685Z"
    },
    "papermill": {
     "duration": 0.006299,
     "end_time": "2023-09-07T18:55:15.531285",
     "exception": false,
     "start_time": "2023-09-07T18:55:15.524986",
     "status": "completed"
    },
    "tags": []
   },
   "outputs": [
    {
     "data": {
      "text/plain": [
       "ENSG00000135245.9   ENSG00000169429.10    0.571672\n",
       "ENSG00000163631.16  ENSG00000169429.10    0.126906\n",
       "                    ENSG00000135245.9     0.110612\n",
       "ENSG00000277632.1   ENSG00000169429.10    0.456538\n",
       "                    ENSG00000135245.9     0.438929\n",
       "dtype: float64"
      ]
     },
     "execution_count": 33,
     "metadata": {},
     "output_type": "execute_result"
    }
   ],
   "source": [
    "pearson_df.head()"
   ]
  },
  {
   "cell_type": "code",
   "execution_count": 34,
   "id": "002f33f3-ebcf-4755-aa7b-82802e115ee0",
   "metadata": {
    "execution": {
     "iopub.execute_input": "2023-09-07T18:55:15.538187Z",
     "iopub.status.busy": "2023-09-07T18:55:15.538109Z",
     "iopub.status.idle": "2023-09-07T18:55:16.547021Z",
     "shell.execute_reply": "2023-09-07T18:55:16.546778Z"
    },
    "papermill": {
     "duration": 1.01323,
     "end_time": "2023-09-07T18:55:16.547804",
     "exception": false,
     "start_time": "2023-09-07T18:55:15.534574",
     "status": "completed"
    },
    "tags": []
   },
   "outputs": [],
   "source": [
    "assert clustermatch_df.index.equals(pearson_df.index)"
   ]
  },
  {
   "cell_type": "code",
   "execution_count": 35,
   "id": "2b1a29c7-221a-4e92-a6ac-e8f3932178e3",
   "metadata": {
    "execution": {
     "iopub.execute_input": "2023-09-07T18:55:16.555420Z",
     "iopub.status.busy": "2023-09-07T18:55:16.555331Z",
     "iopub.status.idle": "2023-09-07T18:55:16.684266Z",
     "shell.execute_reply": "2023-09-07T18:55:16.684064Z"
    },
    "papermill": {
     "duration": 0.133562,
     "end_time": "2023-09-07T18:55:16.685077",
     "exception": false,
     "start_time": "2023-09-07T18:55:16.551515",
     "status": "completed"
    },
    "tags": []
   },
   "outputs": [],
   "source": [
    "spearman_df = get_upper_triag(spearman_df)"
   ]
  },
  {
   "cell_type": "code",
   "execution_count": 36,
   "id": "0969a867-08ad-43c4-a0ca-9617867e0c50",
   "metadata": {
    "execution": {
     "iopub.execute_input": "2023-09-07T18:55:16.699210Z",
     "iopub.status.busy": "2023-09-07T18:55:16.699143Z",
     "iopub.status.idle": "2023-09-07T18:55:16.934960Z",
     "shell.execute_reply": "2023-09-07T18:55:16.934639Z"
    },
    "papermill": {
     "duration": 0.246859,
     "end_time": "2023-09-07T18:55:16.935880",
     "exception": false,
     "start_time": "2023-09-07T18:55:16.689021",
     "status": "completed"
    },
    "tags": []
   },
   "outputs": [],
   "source": [
    "# make spearman abs\n",
    "spearman_df = spearman_df.unstack().rename_axis((None, None)).dropna().abs()"
   ]
  },
  {
   "cell_type": "code",
   "execution_count": 37,
   "id": "866bbc4c-ef0b-430a-8d17-7edadd5b2fd2",
   "metadata": {
    "execution": {
     "iopub.execute_input": "2023-09-07T18:55:16.950125Z",
     "iopub.status.busy": "2023-09-07T18:55:16.950064Z",
     "iopub.status.idle": "2023-09-07T18:55:16.952000Z",
     "shell.execute_reply": "2023-09-07T18:55:16.951869Z"
    },
    "papermill": {
     "duration": 0.012927,
     "end_time": "2023-09-07T18:55:16.952634",
     "exception": false,
     "start_time": "2023-09-07T18:55:16.939707",
     "status": "completed"
    },
    "tags": []
   },
   "outputs": [
    {
     "data": {
      "text/plain": [
       "(12497500,)"
      ]
     },
     "execution_count": 37,
     "metadata": {},
     "output_type": "execute_result"
    }
   ],
   "source": [
    "spearman_df.shape"
   ]
  },
  {
   "cell_type": "code",
   "execution_count": 38,
   "id": "4fc27d0e-87a0-40a7-9f53-ea8a215e4fee",
   "metadata": {
    "execution": {
     "iopub.execute_input": "2023-09-07T18:55:16.959841Z",
     "iopub.status.busy": "2023-09-07T18:55:16.959757Z",
     "iopub.status.idle": "2023-09-07T18:55:16.962422Z",
     "shell.execute_reply": "2023-09-07T18:55:16.962247Z"
    },
    "papermill": {
     "duration": 0.007182,
     "end_time": "2023-09-07T18:55:16.963090",
     "exception": false,
     "start_time": "2023-09-07T18:55:16.955908",
     "status": "completed"
    },
    "tags": []
   },
   "outputs": [
    {
     "data": {
      "text/plain": [
       "ENSG00000135245.9   ENSG00000169429.10    0.853836\n",
       "ENSG00000163631.16  ENSG00000169429.10    0.709240\n",
       "                    ENSG00000135245.9     0.675719\n",
       "ENSG00000277632.1   ENSG00000169429.10    0.850371\n",
       "                    ENSG00000135245.9     0.834496\n",
       "dtype: float64"
      ]
     },
     "execution_count": 38,
     "metadata": {},
     "output_type": "execute_result"
    }
   ],
   "source": [
    "spearman_df.head()"
   ]
  },
  {
   "cell_type": "code",
   "execution_count": 39,
   "id": "92999223-d496-43b4-8381-172d55030e21",
   "metadata": {
    "execution": {
     "iopub.execute_input": "2023-09-07T18:55:16.971222Z",
     "iopub.status.busy": "2023-09-07T18:55:16.971139Z",
     "iopub.status.idle": "2023-09-07T18:55:17.973507Z",
     "shell.execute_reply": "2023-09-07T18:55:17.973213Z"
    },
    "papermill": {
     "duration": 1.007681,
     "end_time": "2023-09-07T18:55:17.974430",
     "exception": false,
     "start_time": "2023-09-07T18:55:16.966749",
     "status": "completed"
    },
    "tags": []
   },
   "outputs": [],
   "source": [
    "assert clustermatch_df.index.equals(spearman_df.index)"
   ]
  },
  {
   "cell_type": "code",
   "execution_count": 40,
   "id": "aaada007-6ad1-4adb-91a4-e456f95231f5",
   "metadata": {
    "execution": {
     "iopub.execute_input": "2023-09-07T18:55:17.988391Z",
     "iopub.status.busy": "2023-09-07T18:55:17.988296Z",
     "iopub.status.idle": "2023-09-07T18:55:34.698679Z",
     "shell.execute_reply": "2023-09-07T18:55:34.698460Z"
    },
    "papermill": {
     "duration": 16.721263,
     "end_time": "2023-09-07T18:55:34.699467",
     "exception": false,
     "start_time": "2023-09-07T18:55:17.978204",
     "status": "completed"
    },
    "tags": []
   },
   "outputs": [],
   "source": [
    "df = pd.DataFrame(\n",
    "    {\n",
    "        \"ccc\": clustermatch_df,\n",
    "        \"pearson\": pearson_df,\n",
    "        \"spearman\": spearman_df,\n",
    "    }\n",
    ").sort_index()"
   ]
  },
  {
   "cell_type": "code",
   "execution_count": 41,
   "id": "7613642e-0a3d-442d-8511-d4acd6271194",
   "metadata": {
    "execution": {
     "iopub.execute_input": "2023-09-07T18:55:34.706953Z",
     "iopub.status.busy": "2023-09-07T18:55:34.706865Z",
     "iopub.status.idle": "2023-09-07T18:55:34.730129Z",
     "shell.execute_reply": "2023-09-07T18:55:34.729916Z"
    },
    "papermill": {
     "duration": 0.027704,
     "end_time": "2023-09-07T18:55:34.730798",
     "exception": false,
     "start_time": "2023-09-07T18:55:34.703094",
     "status": "completed"
    },
    "tags": []
   },
   "outputs": [],
   "source": [
    "assert not df.isna().any().any()"
   ]
  },
  {
   "cell_type": "code",
   "execution_count": 42,
   "id": "baf842f9-d6c8-48b7-bffe-8eb05c73d7de",
   "metadata": {
    "execution": {
     "iopub.execute_input": "2023-09-07T18:55:34.738521Z",
     "iopub.status.busy": "2023-09-07T18:55:34.738365Z",
     "iopub.status.idle": "2023-09-07T18:55:34.740106Z",
     "shell.execute_reply": "2023-09-07T18:55:34.739973Z"
    },
    "papermill": {
     "duration": 0.005969,
     "end_time": "2023-09-07T18:55:34.740548",
     "exception": false,
     "start_time": "2023-09-07T18:55:34.734579",
     "status": "completed"
    },
    "tags": []
   },
   "outputs": [
    {
     "data": {
      "text/plain": [
       "(12497500, 3)"
      ]
     },
     "execution_count": 42,
     "metadata": {},
     "output_type": "execute_result"
    }
   ],
   "source": [
    "df.shape"
   ]
  },
  {
   "cell_type": "code",
   "execution_count": 43,
   "id": "3bd226fe-0c9d-4b69-8250-e22ccaf3730f",
   "metadata": {
    "execution": {
     "iopub.execute_input": "2023-09-07T18:55:34.747574Z",
     "iopub.status.busy": "2023-09-07T18:55:34.747460Z",
     "iopub.status.idle": "2023-09-07T18:55:34.750602Z",
     "shell.execute_reply": "2023-09-07T18:55:34.750463Z"
    },
    "papermill": {
     "duration": 0.007234,
     "end_time": "2023-09-07T18:55:34.751105",
     "exception": false,
     "start_time": "2023-09-07T18:55:34.743871",
     "status": "completed"
    },
    "tags": []
   },
   "outputs": [
    {
     "data": {
      "text/html": [
       "<div>\n",
       "<style scoped>\n",
       "    .dataframe tbody tr th:only-of-type {\n",
       "        vertical-align: middle;\n",
       "    }\n",
       "\n",
       "    .dataframe tbody tr th {\n",
       "        vertical-align: top;\n",
       "    }\n",
       "\n",
       "    .dataframe thead th {\n",
       "        text-align: right;\n",
       "    }\n",
       "</style>\n",
       "<table border=\"1\" class=\"dataframe\">\n",
       "  <thead>\n",
       "    <tr style=\"text-align: right;\">\n",
       "      <th></th>\n",
       "      <th></th>\n",
       "      <th>ccc</th>\n",
       "      <th>pearson</th>\n",
       "      <th>spearman</th>\n",
       "    </tr>\n",
       "  </thead>\n",
       "  <tbody>\n",
       "    <tr>\n",
       "      <th rowspan=\"5\" valign=\"top\">ENSG00000000419.12</th>\n",
       "      <th>ENSG00000002834.17</th>\n",
       "      <td>0.418721</td>\n",
       "      <td>0.681847</td>\n",
       "      <td>0.786595</td>\n",
       "    </tr>\n",
       "    <tr>\n",
       "      <th>ENSG00000002919.14</th>\n",
       "      <td>0.405090</td>\n",
       "      <td>0.734699</td>\n",
       "      <td>0.816991</td>\n",
       "    </tr>\n",
       "    <tr>\n",
       "      <th>ENSG00000002933.7</th>\n",
       "      <td>0.007466</td>\n",
       "      <td>0.013825</td>\n",
       "      <td>0.004128</td>\n",
       "    </tr>\n",
       "    <tr>\n",
       "      <th>ENSG00000003402.19</th>\n",
       "      <td>0.391683</td>\n",
       "      <td>0.727347</td>\n",
       "      <td>0.803653</td>\n",
       "    </tr>\n",
       "    <tr>\n",
       "      <th>ENSG00000004478.7</th>\n",
       "      <td>0.099013</td>\n",
       "      <td>0.094147</td>\n",
       "      <td>0.231269</td>\n",
       "    </tr>\n",
       "  </tbody>\n",
       "</table>\n",
       "</div>"
      ],
      "text/plain": [
       "                                            ccc   pearson  spearman\n",
       "ENSG00000000419.12 ENSG00000002834.17  0.418721  0.681847  0.786595\n",
       "                   ENSG00000002919.14  0.405090  0.734699  0.816991\n",
       "                   ENSG00000002933.7   0.007466  0.013825  0.004128\n",
       "                   ENSG00000003402.19  0.391683  0.727347  0.803653\n",
       "                   ENSG00000004478.7   0.099013  0.094147  0.231269"
      ]
     },
     "execution_count": 43,
     "metadata": {},
     "output_type": "execute_result"
    }
   ],
   "source": [
    "df.head()"
   ]
  },
  {
   "cell_type": "markdown",
   "id": "24a50051-141d-4ba0-ad33-3123b4afc1b6",
   "metadata": {
    "papermill": {
     "duration": 0.003329,
     "end_time": "2023-09-07T18:55:34.757826",
     "exception": false,
     "start_time": "2023-09-07T18:55:34.754497",
     "status": "completed"
    },
    "tags": []
   },
   "source": [
    "# Save"
   ]
  },
  {
   "cell_type": "code",
   "execution_count": 44,
   "id": "2f20fdf4-a44a-48c0-bbe1-8def473ac2a5",
   "metadata": {
    "execution": {
     "iopub.execute_input": "2023-09-07T18:55:34.764918Z",
     "iopub.status.busy": "2023-09-07T18:55:34.764853Z",
     "iopub.status.idle": "2023-09-07T18:55:34.936622Z",
     "shell.execute_reply": "2023-09-07T18:55:34.936430Z"
    },
    "papermill": {
     "duration": 0.176352,
     "end_time": "2023-09-07T18:55:34.937535",
     "exception": false,
     "start_time": "2023-09-07T18:55:34.761183",
     "status": "completed"
    },
    "tags": []
   },
   "outputs": [],
   "source": [
    "df.to_pickle(OUTPUT_FILE)"
   ]
  },
  {
   "cell_type": "code",
   "execution_count": null,
   "id": "8f464a7f-b76f-4898-8bf5-074eabd33626",
   "metadata": {
    "papermill": {
     "duration": 0.003456,
     "end_time": "2023-09-07T18:55:34.944719",
     "exception": false,
     "start_time": "2023-09-07T18:55:34.941263",
     "status": "completed"
    },
    "tags": []
   },
   "outputs": [],
   "source": []
  }
 ],
 "metadata": {
  "jupytext": {
   "cell_metadata_filter": "all,-execution,-papermill,-trusted",
   "notebook_metadata_filter": "-jupytext.text_representation.jupytext_version"
  },
  "kernelspec": {
   "display_name": "Python 3 (ipykernel)",
   "language": "python",
   "name": "python3"
  },
  "language_info": {
   "codemirror_mode": {
    "name": "ipython",
    "version": 3
   },
   "file_extension": ".py",
   "mimetype": "text/x-python",
   "name": "python",
   "nbconvert_exporter": "python",
   "pygments_lexer": "ipython3",
   "version": "3.9.12"
  },
  "papermill": {
   "default_parameters": {},
   "duration": 21.618719,
   "end_time": "2023-09-07T18:55:35.062437",
   "environment_variables": {},
   "exception": null,
   "input_path": "nbs/10_compute_correlations/05_gtex_v8/50-combine_all.ipynb",
   "output_path": "nbs/10_compute_correlations/05_gtex_v8/50-combine_all.run.ipynb",
   "parameters": {
    "GTEX_TISSUE": "skin_sun_exposed_lower_leg"
   },
   "start_time": "2023-09-07T18:55:13.443718",
   "version": "2.3.3"
  }
 },
 "nbformat": 4,
 "nbformat_minor": 5
}
