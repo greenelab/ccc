{
 "cells": [
  {
   "cell_type": "markdown",
   "id": "c1948eb4-fb63-4fad-8243-bcd57b98def3",
   "metadata": {
    "papermill": {
     "duration": 0.230644,
     "end_time": "2021-12-21T19:13:57.349489",
     "exception": false,
     "start_time": "2021-12-21T19:13:57.118845",
     "status": "completed"
    },
    "tags": []
   },
   "source": [
    "# Description"
   ]
  },
  {
   "cell_type": "markdown",
   "id": "0abb1d73-c786-4c6d-9dc2-b9243e5183e2",
   "metadata": {
    "papermill": {
     "duration": 0.208421,
     "end_time": "2021-12-21T19:13:57.758569",
     "exception": false,
     "start_time": "2021-12-21T19:13:57.550148",
     "status": "completed"
    },
    "tags": []
   },
   "source": [
    "It combines all coefficient values in one tissue (see `Settings` below) into a single dataframe for easier processing later."
   ]
  },
  {
   "cell_type": "markdown",
   "id": "d6252b4c-6d56-4cf0-aecd-5d8c769a3609",
   "metadata": {
    "papermill": {
     "duration": 0.293694,
     "end_time": "2021-12-21T19:13:58.302178",
     "exception": false,
     "start_time": "2021-12-21T19:13:58.008484",
     "status": "completed"
    },
    "tags": []
   },
   "source": [
    "# Modules loading"
   ]
  },
  {
   "cell_type": "code",
   "execution_count": 1,
   "id": "77e9d29d-5307-4b4a-b103-7d1fbd6a7e56",
   "metadata": {
    "execution": {
     "iopub.execute_input": "2021-12-21T19:13:58.705030Z",
     "iopub.status.busy": "2021-12-21T19:13:58.704339Z",
     "iopub.status.idle": "2021-12-21T19:13:59.188228Z",
     "shell.execute_reply": "2021-12-21T19:13:59.186914Z"
    },
    "papermill": {
     "duration": 0.687151,
     "end_time": "2021-12-21T19:13:59.188521",
     "exception": false,
     "start_time": "2021-12-21T19:13:58.501370",
     "status": "completed"
    },
    "tags": []
   },
   "outputs": [],
   "source": [
    "import numpy as np\n",
    "import pandas as pd\n",
    "\n",
    "from clustermatch import conf"
   ]
  },
  {
   "cell_type": "markdown",
   "id": "262eb535-3e5d-43d7-9efd-bd6cfdac9190",
   "metadata": {
    "papermill": {
     "duration": 0.262009,
     "end_time": "2021-12-21T19:13:59.686541",
     "exception": false,
     "start_time": "2021-12-21T19:13:59.424532",
     "status": "completed"
    },
    "tags": []
   },
   "source": [
    "# Settings"
   ]
  },
  {
   "cell_type": "code",
   "execution_count": 2,
   "id": "2d2bd14a-a40d-4710-98c2-587148d0f532",
   "metadata": {
    "execution": {
     "iopub.execute_input": "2021-12-21T19:14:00.190028Z",
     "iopub.status.busy": "2021-12-21T19:14:00.189400Z",
     "iopub.status.idle": "2021-12-21T19:14:00.191956Z",
     "shell.execute_reply": "2021-12-21T19:14:00.191305Z"
    },
    "papermill": {
     "duration": 0.249864,
     "end_time": "2021-12-21T19:14:00.192085",
     "exception": false,
     "start_time": "2021-12-21T19:13:59.942221",
     "status": "completed"
    },
    "tags": [
     "parameters"
    ]
   },
   "outputs": [],
   "source": [
    "DATASET_CONFIG = conf.GTEX\n",
    "GTEX_TISSUE = None\n",
    "GENE_SEL_STRATEGY = \"var_pc_log2\""
   ]
  },
  {
   "cell_type": "code",
   "execution_count": 3,
   "id": "95d06127",
   "metadata": {
    "execution": {
     "iopub.execute_input": "2021-12-21T19:14:00.675212Z",
     "iopub.status.busy": "2021-12-21T19:14:00.674513Z",
     "iopub.status.idle": "2021-12-21T19:14:00.677329Z",
     "shell.execute_reply": "2021-12-21T19:14:00.676575Z"
    },
    "lines_to_next_cell": 2,
    "papermill": {
     "duration": 0.271544,
     "end_time": "2021-12-21T19:14:00.677502",
     "exception": false,
     "start_time": "2021-12-21T19:14:00.405958",
     "status": "completed"
    },
    "tags": [
     "injected-parameters"
    ]
   },
   "outputs": [],
   "source": [
    "# Parameters\n",
    "GTEX_TISSUE = \"skin_sun_exposed_lower_leg\""
   ]
  },
  {
   "cell_type": "code",
   "execution_count": 4,
   "id": "9554e81e-3e31-475c-a984-e29f433c56c1",
   "metadata": {
    "execution": {
     "iopub.execute_input": "2021-12-21T19:14:01.092842Z",
     "iopub.status.busy": "2021-12-21T19:14:01.091958Z",
     "iopub.status.idle": "2021-12-21T19:14:01.095636Z",
     "shell.execute_reply": "2021-12-21T19:14:01.094651Z"
    },
    "papermill": {
     "duration": 0.219172,
     "end_time": "2021-12-21T19:14:01.095906",
     "exception": false,
     "start_time": "2021-12-21T19:14:00.876734",
     "status": "completed"
    },
    "tags": []
   },
   "outputs": [],
   "source": [
    "assert GTEX_TISSUE is not None, \"Tissue not selected\""
   ]
  },
  {
   "cell_type": "markdown",
   "id": "eec9bb6d-4ba2-4817-9b36-bc8e68a2beae",
   "metadata": {
    "papermill": {
     "duration": 0.287195,
     "end_time": "2021-12-21T19:14:01.621842",
     "exception": false,
     "start_time": "2021-12-21T19:14:01.334647",
     "status": "completed"
    },
    "tags": []
   },
   "source": [
    "# Paths"
   ]
  },
  {
   "cell_type": "code",
   "execution_count": 5,
   "id": "3c15c5b5-1b4f-456a-a548-8fc23e03f0ae",
   "metadata": {
    "execution": {
     "iopub.execute_input": "2021-12-21T19:14:02.298159Z",
     "iopub.status.busy": "2021-12-21T19:14:02.295856Z",
     "iopub.status.idle": "2021-12-21T19:14:02.305066Z",
     "shell.execute_reply": "2021-12-21T19:14:02.305924Z"
    },
    "papermill": {
     "duration": 0.344954,
     "end_time": "2021-12-21T19:14:02.306168",
     "exception": false,
     "start_time": "2021-12-21T19:14:01.961214",
     "status": "completed"
    },
    "tags": []
   },
   "outputs": [
    {
     "data": {
      "text/plain": [
       "PosixPath('/opt/data/results/gtex_v8/gene_selection/gtex_v8_data_skin_sun_exposed_lower_leg-var_pc_log2.pkl')"
      ]
     },
     "metadata": {},
     "output_type": "display_data"
    }
   ],
   "source": [
    "INPUT_GENE_EXPR_DATA_FILE = (\n",
    "    DATASET_CONFIG[\"GENE_SELECTION_DIR\"]\n",
    "    / f\"gtex_v8_data_{GTEX_TISSUE}-{GENE_SEL_STRATEGY}.pkl\"\n",
    ")\n",
    "display(INPUT_GENE_EXPR_DATA_FILE)\n",
    "\n",
    "assert INPUT_GENE_EXPR_DATA_FILE.exists()"
   ]
  },
  {
   "cell_type": "code",
   "execution_count": 6,
   "id": "34c70f63-0878-4f29-9ea5-2570e6f9f33b",
   "metadata": {
    "execution": {
     "iopub.execute_input": "2021-12-21T19:14:02.937490Z",
     "iopub.status.busy": "2021-12-21T19:14:02.934898Z",
     "iopub.status.idle": "2021-12-21T19:14:02.941258Z",
     "shell.execute_reply": "2021-12-21T19:14:02.942038Z"
    },
    "papermill": {
     "duration": 0.326213,
     "end_time": "2021-12-21T19:14:02.942265",
     "exception": false,
     "start_time": "2021-12-21T19:14:02.616052",
     "status": "completed"
    },
    "tags": []
   },
   "outputs": [
    {
     "data": {
      "text/plain": [
       "PosixPath('/opt/data/results/gtex_v8/similarity_matrices/gtex_v8_data_{tissue}-{gene_sel_strategy}-{corr_method}.pkl')"
      ]
     },
     "metadata": {},
     "output_type": "display_data"
    }
   ],
   "source": [
    "INPUT_CORR_FILE_TEMPLATE = (\n",
    "    DATASET_CONFIG[\"SIMILARITY_MATRICES_DIR\"]\n",
    "    / DATASET_CONFIG[\"SIMILARITY_MATRIX_FILENAME_TEMPLATE\"]\n",
    ")\n",
    "display(INPUT_CORR_FILE_TEMPLATE)"
   ]
  },
  {
   "cell_type": "code",
   "execution_count": 7,
   "id": "92b9bfd4",
   "metadata": {
    "execution": {
     "iopub.execute_input": "2021-12-21T19:14:03.450169Z",
     "iopub.status.busy": "2021-12-21T19:14:03.448630Z",
     "iopub.status.idle": "2021-12-21T19:14:03.453917Z",
     "shell.execute_reply": "2021-12-21T19:14:03.454565Z"
    },
    "papermill": {
     "duration": 0.278054,
     "end_time": "2021-12-21T19:14:03.454763",
     "exception": false,
     "start_time": "2021-12-21T19:14:03.176709",
     "status": "completed"
    },
    "tags": []
   },
   "outputs": [
    {
     "data": {
      "text/plain": [
       "PosixPath('/opt/data/results/gtex_v8/similarity_matrices/gtex_v8_data_skin_sun_exposed_lower_leg-var_pc_log2-all.pkl')"
      ]
     },
     "metadata": {},
     "output_type": "display_data"
    }
   ],
   "source": [
    "OUTPUT_FILE = DATASET_CONFIG[\"SIMILARITY_MATRICES_DIR\"] / str(\n",
    "    INPUT_CORR_FILE_TEMPLATE\n",
    ").format(\n",
    "    tissue=GTEX_TISSUE,\n",
    "    gene_sel_strategy=GENE_SEL_STRATEGY,\n",
    "    corr_method=\"all\",\n",
    ")\n",
    "display(OUTPUT_FILE)"
   ]
  },
  {
   "cell_type": "markdown",
   "id": "e2746a93-d631-4346-9d10-a5c1f9f8de4a",
   "metadata": {
    "papermill": {
     "duration": 0.307821,
     "end_time": "2021-12-21T19:14:04.035162",
     "exception": false,
     "start_time": "2021-12-21T19:14:03.727341",
     "status": "completed"
    },
    "tags": []
   },
   "source": [
    "# Load data"
   ]
  },
  {
   "cell_type": "markdown",
   "id": "76ab9bbb-c93f-4154-b8ba-81934beb14bc",
   "metadata": {
    "papermill": {
     "duration": 0.234788,
     "end_time": "2021-12-21T19:14:04.530671",
     "exception": false,
     "start_time": "2021-12-21T19:14:04.295883",
     "status": "completed"
    },
    "tags": []
   },
   "source": [
    "## Gene Ensembl ID -> Symbol mapping"
   ]
  },
  {
   "cell_type": "code",
   "execution_count": 8,
   "id": "39b30f9d-d55b-440b-bb27-d5dc32e43780",
   "metadata": {
    "execution": {
     "iopub.execute_input": "2021-12-21T19:14:05.002348Z",
     "iopub.status.busy": "2021-12-21T19:14:05.001242Z",
     "iopub.status.idle": "2021-12-21T19:14:05.026556Z",
     "shell.execute_reply": "2021-12-21T19:14:05.025954Z"
    },
    "papermill": {
     "duration": 0.271796,
     "end_time": "2021-12-21T19:14:05.026691",
     "exception": false,
     "start_time": "2021-12-21T19:14:04.754895",
     "status": "completed"
    },
    "tags": []
   },
   "outputs": [],
   "source": [
    "gene_map = pd.read_pickle(\n",
    "    DATASET_CONFIG[\"DATA_DIR\"] / \"gtex_gene_id_symbol_mappings.pkl\"\n",
    ")"
   ]
  },
  {
   "cell_type": "code",
   "execution_count": 9,
   "id": "7a6eabb9-80c7-4711-84b1-b29d5d7adea6",
   "metadata": {
    "execution": {
     "iopub.execute_input": "2021-12-21T19:14:05.558797Z",
     "iopub.status.busy": "2021-12-21T19:14:05.521239Z",
     "iopub.status.idle": "2021-12-21T19:14:05.625630Z",
     "shell.execute_reply": "2021-12-21T19:14:05.624768Z"
    },
    "papermill": {
     "duration": 0.355698,
     "end_time": "2021-12-21T19:14:05.625799",
     "exception": false,
     "start_time": "2021-12-21T19:14:05.270101",
     "status": "completed"
    },
    "tags": []
   },
   "outputs": [],
   "source": [
    "gene_map = gene_map.set_index(\"gene_ens_id\")[\"gene_symbol\"].to_dict()"
   ]
  },
  {
   "cell_type": "code",
   "execution_count": 10,
   "id": "e51b921d-0adf-4006-9602-d075f223c260",
   "metadata": {
    "execution": {
     "iopub.execute_input": "2021-12-21T19:14:06.210914Z",
     "iopub.status.busy": "2021-12-21T19:14:06.209847Z",
     "iopub.status.idle": "2021-12-21T19:14:06.213308Z",
     "shell.execute_reply": "2021-12-21T19:14:06.212431Z"
    },
    "papermill": {
     "duration": 0.256048,
     "end_time": "2021-12-21T19:14:06.213503",
     "exception": false,
     "start_time": "2021-12-21T19:14:05.957455",
     "status": "completed"
    },
    "tags": []
   },
   "outputs": [],
   "source": [
    "assert gene_map[\"ENSG00000145309.5\"] == \"CABS1\""
   ]
  },
  {
   "cell_type": "markdown",
   "id": "f4669dbd-b654-4090-8a72-aa6bf0a6053c",
   "metadata": {
    "papermill": {
     "duration": 0.196825,
     "end_time": "2021-12-21T19:14:06.604870",
     "exception": false,
     "start_time": "2021-12-21T19:14:06.408045",
     "status": "completed"
    },
    "tags": []
   },
   "source": [
    "## Gene expression"
   ]
  },
  {
   "cell_type": "code",
   "execution_count": 11,
   "id": "04690975-e95b-4fc9-ad3e-3d29e2a3ff5a",
   "metadata": {
    "execution": {
     "iopub.execute_input": "2021-12-21T19:14:06.989067Z",
     "iopub.status.busy": "2021-12-21T19:14:06.988411Z",
     "iopub.status.idle": "2021-12-21T19:14:07.024448Z",
     "shell.execute_reply": "2021-12-21T19:14:07.023845Z"
    },
    "papermill": {
     "duration": 0.227146,
     "end_time": "2021-12-21T19:14:07.024569",
     "exception": false,
     "start_time": "2021-12-21T19:14:06.797423",
     "status": "completed"
    },
    "tags": []
   },
   "outputs": [],
   "source": [
    "data = pd.read_pickle(INPUT_GENE_EXPR_DATA_FILE)"
   ]
  },
  {
   "cell_type": "code",
   "execution_count": 12,
   "id": "bebfab6c-9805-4cee-8fc3-be66cb45ade7",
   "metadata": {
    "execution": {
     "iopub.execute_input": "2021-12-21T19:14:07.513052Z",
     "iopub.status.busy": "2021-12-21T19:14:07.512133Z",
     "iopub.status.idle": "2021-12-21T19:14:07.515609Z",
     "shell.execute_reply": "2021-12-21T19:14:07.516108Z"
    },
    "papermill": {
     "duration": 0.252077,
     "end_time": "2021-12-21T19:14:07.516273",
     "exception": false,
     "start_time": "2021-12-21T19:14:07.264196",
     "status": "completed"
    },
    "tags": []
   },
   "outputs": [
    {
     "data": {
      "text/plain": [
       "(5000, 701)"
      ]
     },
     "execution_count": 12,
     "metadata": {},
     "output_type": "execute_result"
    }
   ],
   "source": [
    "data.shape"
   ]
  },
  {
   "cell_type": "code",
   "execution_count": 13,
   "id": "20cdd83a-3bbb-4b7b-95a7-1095713af74c",
   "metadata": {
    "execution": {
     "iopub.execute_input": "2021-12-21T19:14:07.903295Z",
     "iopub.status.busy": "2021-12-21T19:14:07.902701Z",
     "iopub.status.idle": "2021-12-21T19:14:07.927931Z",
     "shell.execute_reply": "2021-12-21T19:14:07.928586Z"
    },
    "papermill": {
     "duration": 0.216398,
     "end_time": "2021-12-21T19:14:07.928755",
     "exception": false,
     "start_time": "2021-12-21T19:14:07.712357",
     "status": "completed"
    },
    "tags": []
   },
   "outputs": [
    {
     "data": {
      "text/html": [
       "<div>\n",
       "<style scoped>\n",
       "    .dataframe tbody tr th:only-of-type {\n",
       "        vertical-align: middle;\n",
       "    }\n",
       "\n",
       "    .dataframe tbody tr th {\n",
       "        vertical-align: top;\n",
       "    }\n",
       "\n",
       "    .dataframe thead th {\n",
       "        text-align: right;\n",
       "    }\n",
       "</style>\n",
       "<table border=\"1\" class=\"dataframe\">\n",
       "  <thead>\n",
       "    <tr style=\"text-align: right;\">\n",
       "      <th></th>\n",
       "      <th>GTEX-111FC-0126-SM-5N9DL</th>\n",
       "      <th>GTEX-111VG-2426-SM-5GZXD</th>\n",
       "      <th>GTEX-1122O-2126-SM-5EGIR</th>\n",
       "      <th>GTEX-1128S-2326-SM-5GZZY</th>\n",
       "      <th>GTEX-113IC-0126-SM-5HL6T</th>\n",
       "      <th>GTEX-113JC-2326-SM-5EQ4E</th>\n",
       "      <th>GTEX-117XS-2726-SM-5N9BL</th>\n",
       "      <th>GTEX-117YW-2626-SM-5GZZH</th>\n",
       "      <th>GTEX-117YX-2326-SM-5H12W</th>\n",
       "      <th>GTEX-1192W-2626-SM-5Q5AF</th>\n",
       "      <th>...</th>\n",
       "      <th>GTEX-ZXG5-0126-SM-5GIEU</th>\n",
       "      <th>GTEX-ZY6K-1826-SM-5GZXK</th>\n",
       "      <th>GTEX-ZYFC-0226-SM-5NQ75</th>\n",
       "      <th>GTEX-ZYFD-0126-SM-5GIDL</th>\n",
       "      <th>GTEX-ZYFG-2326-SM-5E44B</th>\n",
       "      <th>GTEX-ZYT6-0226-SM-5NQ6T</th>\n",
       "      <th>GTEX-ZYW4-0126-SM-5E44A</th>\n",
       "      <th>GTEX-ZYY3-0126-SM-5GZY5</th>\n",
       "      <th>GTEX-ZZ64-1726-SM-5GZYB</th>\n",
       "      <th>GTEX-ZZPT-0226-SM-5E43X</th>\n",
       "    </tr>\n",
       "    <tr>\n",
       "      <th>gene_ens_id</th>\n",
       "      <th></th>\n",
       "      <th></th>\n",
       "      <th></th>\n",
       "      <th></th>\n",
       "      <th></th>\n",
       "      <th></th>\n",
       "      <th></th>\n",
       "      <th></th>\n",
       "      <th></th>\n",
       "      <th></th>\n",
       "      <th></th>\n",
       "      <th></th>\n",
       "      <th></th>\n",
       "      <th></th>\n",
       "      <th></th>\n",
       "      <th></th>\n",
       "      <th></th>\n",
       "      <th></th>\n",
       "      <th></th>\n",
       "      <th></th>\n",
       "      <th></th>\n",
       "    </tr>\n",
       "  </thead>\n",
       "  <tbody>\n",
       "    <tr>\n",
       "      <th>ENSG00000129824.15</th>\n",
       "      <td>189.0000</td>\n",
       "      <td>207.2000</td>\n",
       "      <td>0.30530</td>\n",
       "      <td>0.35720</td>\n",
       "      <td>239.1000</td>\n",
       "      <td>0.57250</td>\n",
       "      <td>187.4000</td>\n",
       "      <td>243.700</td>\n",
       "      <td>207.000</td>\n",
       "      <td>214.50000</td>\n",
       "      <td>...</td>\n",
       "      <td>234.00000</td>\n",
       "      <td>205.9000</td>\n",
       "      <td>238.90000</td>\n",
       "      <td>177.8000</td>\n",
       "      <td>0.32820</td>\n",
       "      <td>234.9000</td>\n",
       "      <td>237.6000</td>\n",
       "      <td>0.7213</td>\n",
       "      <td>234.6000</td>\n",
       "      <td>251.50000</td>\n",
       "    </tr>\n",
       "    <tr>\n",
       "      <th>ENSG00000135443.8</th>\n",
       "      <td>0.1686</td>\n",
       "      <td>0.5698</td>\n",
       "      <td>0.07342</td>\n",
       "      <td>0.14380</td>\n",
       "      <td>0.1385</td>\n",
       "      <td>0.01785</td>\n",
       "      <td>0.0131</td>\n",
       "      <td>144.900</td>\n",
       "      <td>2.615</td>\n",
       "      <td>0.03579</td>\n",
       "      <td>...</td>\n",
       "      <td>0.00000</td>\n",
       "      <td>0.7029</td>\n",
       "      <td>0.14100</td>\n",
       "      <td>0.1027</td>\n",
       "      <td>0.23860</td>\n",
       "      <td>0.1443</td>\n",
       "      <td>0.3567</td>\n",
       "      <td>18.7600</td>\n",
       "      <td>0.3739</td>\n",
       "      <td>0.15230</td>\n",
       "    </tr>\n",
       "    <tr>\n",
       "      <th>ENSG00000134184.12</th>\n",
       "      <td>0.1042</td>\n",
       "      <td>0.4526</td>\n",
       "      <td>0.39690</td>\n",
       "      <td>0.20190</td>\n",
       "      <td>144.4000</td>\n",
       "      <td>0.27570</td>\n",
       "      <td>36.3300</td>\n",
       "      <td>44.480</td>\n",
       "      <td>0.000</td>\n",
       "      <td>0.27640</td>\n",
       "      <td>...</td>\n",
       "      <td>113.50000</td>\n",
       "      <td>0.5192</td>\n",
       "      <td>0.32680</td>\n",
       "      <td>0.4757</td>\n",
       "      <td>0.31030</td>\n",
       "      <td>33.0700</td>\n",
       "      <td>0.5799</td>\n",
       "      <td>66.8900</td>\n",
       "      <td>0.2625</td>\n",
       "      <td>43.67000</td>\n",
       "    </tr>\n",
       "    <tr>\n",
       "      <th>ENSG00000204897.6</th>\n",
       "      <td>0.1456</td>\n",
       "      <td>0.1845</td>\n",
       "      <td>0.08913</td>\n",
       "      <td>0.04231</td>\n",
       "      <td>0.0000</td>\n",
       "      <td>0.02889</td>\n",
       "      <td>0.1696</td>\n",
       "      <td>343.700</td>\n",
       "      <td>4.717</td>\n",
       "      <td>0.08689</td>\n",
       "      <td>...</td>\n",
       "      <td>0.02978</td>\n",
       "      <td>0.1484</td>\n",
       "      <td>0.08561</td>\n",
       "      <td>0.2327</td>\n",
       "      <td>0.08129</td>\n",
       "      <td>0.1401</td>\n",
       "      <td>0.2431</td>\n",
       "      <td>3.0460</td>\n",
       "      <td>0.4952</td>\n",
       "      <td>0.02466</td>\n",
       "    </tr>\n",
       "    <tr>\n",
       "      <th>ENSG00000224114.1</th>\n",
       "      <td>0.9824</td>\n",
       "      <td>93.3000</td>\n",
       "      <td>2.97900</td>\n",
       "      <td>90.49000</td>\n",
       "      <td>129.6000</td>\n",
       "      <td>117.80000</td>\n",
       "      <td>1.0630</td>\n",
       "      <td>0.501</td>\n",
       "      <td>63.330</td>\n",
       "      <td>87.24000</td>\n",
       "      <td>...</td>\n",
       "      <td>1.60800</td>\n",
       "      <td>0.7631</td>\n",
       "      <td>99.16000</td>\n",
       "      <td>94.4700</td>\n",
       "      <td>1.09700</td>\n",
       "      <td>0.7206</td>\n",
       "      <td>119.2000</td>\n",
       "      <td>1.0110</td>\n",
       "      <td>0.2122</td>\n",
       "      <td>118.50000</td>\n",
       "    </tr>\n",
       "  </tbody>\n",
       "</table>\n",
       "<p>5 rows × 701 columns</p>\n",
       "</div>"
      ],
      "text/plain": [
       "                    GTEX-111FC-0126-SM-5N9DL  GTEX-111VG-2426-SM-5GZXD  \\\n",
       "gene_ens_id                                                              \n",
       "ENSG00000129824.15                  189.0000                  207.2000   \n",
       "ENSG00000135443.8                     0.1686                    0.5698   \n",
       "ENSG00000134184.12                    0.1042                    0.4526   \n",
       "ENSG00000204897.6                     0.1456                    0.1845   \n",
       "ENSG00000224114.1                     0.9824                   93.3000   \n",
       "\n",
       "                    GTEX-1122O-2126-SM-5EGIR  GTEX-1128S-2326-SM-5GZZY  \\\n",
       "gene_ens_id                                                              \n",
       "ENSG00000129824.15                   0.30530                   0.35720   \n",
       "ENSG00000135443.8                    0.07342                   0.14380   \n",
       "ENSG00000134184.12                   0.39690                   0.20190   \n",
       "ENSG00000204897.6                    0.08913                   0.04231   \n",
       "ENSG00000224114.1                    2.97900                  90.49000   \n",
       "\n",
       "                    GTEX-113IC-0126-SM-5HL6T  GTEX-113JC-2326-SM-5EQ4E  \\\n",
       "gene_ens_id                                                              \n",
       "ENSG00000129824.15                  239.1000                   0.57250   \n",
       "ENSG00000135443.8                     0.1385                   0.01785   \n",
       "ENSG00000134184.12                  144.4000                   0.27570   \n",
       "ENSG00000204897.6                     0.0000                   0.02889   \n",
       "ENSG00000224114.1                   129.6000                 117.80000   \n",
       "\n",
       "                    GTEX-117XS-2726-SM-5N9BL  GTEX-117YW-2626-SM-5GZZH  \\\n",
       "gene_ens_id                                                              \n",
       "ENSG00000129824.15                  187.4000                   243.700   \n",
       "ENSG00000135443.8                     0.0131                   144.900   \n",
       "ENSG00000134184.12                   36.3300                    44.480   \n",
       "ENSG00000204897.6                     0.1696                   343.700   \n",
       "ENSG00000224114.1                     1.0630                     0.501   \n",
       "\n",
       "                    GTEX-117YX-2326-SM-5H12W  GTEX-1192W-2626-SM-5Q5AF  ...  \\\n",
       "gene_ens_id                                                             ...   \n",
       "ENSG00000129824.15                   207.000                 214.50000  ...   \n",
       "ENSG00000135443.8                      2.615                   0.03579  ...   \n",
       "ENSG00000134184.12                     0.000                   0.27640  ...   \n",
       "ENSG00000204897.6                      4.717                   0.08689  ...   \n",
       "ENSG00000224114.1                     63.330                  87.24000  ...   \n",
       "\n",
       "                    GTEX-ZXG5-0126-SM-5GIEU  GTEX-ZY6K-1826-SM-5GZXK  \\\n",
       "gene_ens_id                                                            \n",
       "ENSG00000129824.15                234.00000                 205.9000   \n",
       "ENSG00000135443.8                   0.00000                   0.7029   \n",
       "ENSG00000134184.12                113.50000                   0.5192   \n",
       "ENSG00000204897.6                   0.02978                   0.1484   \n",
       "ENSG00000224114.1                   1.60800                   0.7631   \n",
       "\n",
       "                    GTEX-ZYFC-0226-SM-5NQ75  GTEX-ZYFD-0126-SM-5GIDL  \\\n",
       "gene_ens_id                                                            \n",
       "ENSG00000129824.15                238.90000                 177.8000   \n",
       "ENSG00000135443.8                   0.14100                   0.1027   \n",
       "ENSG00000134184.12                  0.32680                   0.4757   \n",
       "ENSG00000204897.6                   0.08561                   0.2327   \n",
       "ENSG00000224114.1                  99.16000                  94.4700   \n",
       "\n",
       "                    GTEX-ZYFG-2326-SM-5E44B  GTEX-ZYT6-0226-SM-5NQ6T  \\\n",
       "gene_ens_id                                                            \n",
       "ENSG00000129824.15                  0.32820                 234.9000   \n",
       "ENSG00000135443.8                   0.23860                   0.1443   \n",
       "ENSG00000134184.12                  0.31030                  33.0700   \n",
       "ENSG00000204897.6                   0.08129                   0.1401   \n",
       "ENSG00000224114.1                   1.09700                   0.7206   \n",
       "\n",
       "                    GTEX-ZYW4-0126-SM-5E44A  GTEX-ZYY3-0126-SM-5GZY5  \\\n",
       "gene_ens_id                                                            \n",
       "ENSG00000129824.15                 237.6000                   0.7213   \n",
       "ENSG00000135443.8                    0.3567                  18.7600   \n",
       "ENSG00000134184.12                   0.5799                  66.8900   \n",
       "ENSG00000204897.6                    0.2431                   3.0460   \n",
       "ENSG00000224114.1                  119.2000                   1.0110   \n",
       "\n",
       "                    GTEX-ZZ64-1726-SM-5GZYB  GTEX-ZZPT-0226-SM-5E43X  \n",
       "gene_ens_id                                                           \n",
       "ENSG00000129824.15                 234.6000                251.50000  \n",
       "ENSG00000135443.8                    0.3739                  0.15230  \n",
       "ENSG00000134184.12                   0.2625                 43.67000  \n",
       "ENSG00000204897.6                    0.4952                  0.02466  \n",
       "ENSG00000224114.1                    0.2122                118.50000  \n",
       "\n",
       "[5 rows x 701 columns]"
      ]
     },
     "execution_count": 13,
     "metadata": {},
     "output_type": "execute_result"
    }
   ],
   "source": [
    "data.head()"
   ]
  },
  {
   "cell_type": "markdown",
   "id": "f816809d-2024-4c2c-be4f-3c04e24ecfca",
   "metadata": {
    "papermill": {
     "duration": 0.182706,
     "end_time": "2021-12-21T19:14:08.298235",
     "exception": false,
     "start_time": "2021-12-21T19:14:08.115529",
     "status": "completed"
    },
    "tags": []
   },
   "source": [
    "## Clustermatch"
   ]
  },
  {
   "cell_type": "code",
   "execution_count": 14,
   "id": "9a8196ee-48d8-42f8-814b-8125a4e5e63b",
   "metadata": {
    "execution": {
     "iopub.execute_input": "2021-12-21T19:14:08.675579Z",
     "iopub.status.busy": "2021-12-21T19:14:08.674996Z",
     "iopub.status.idle": "2021-12-21T19:14:08.874349Z",
     "shell.execute_reply": "2021-12-21T19:14:08.873790Z"
    },
    "papermill": {
     "duration": 0.400129,
     "end_time": "2021-12-21T19:14:08.874468",
     "exception": false,
     "start_time": "2021-12-21T19:14:08.474339",
     "status": "completed"
    },
    "tags": []
   },
   "outputs": [],
   "source": [
    "clustermatch_df = pd.read_pickle(\n",
    "    str(INPUT_CORR_FILE_TEMPLATE).format(\n",
    "        tissue=GTEX_TISSUE,\n",
    "        gene_sel_strategy=GENE_SEL_STRATEGY,\n",
    "        corr_method=\"clustermatch\",\n",
    "    )\n",
    ")"
   ]
  },
  {
   "cell_type": "code",
   "execution_count": 15,
   "id": "5f611930-9923-4ff2-9c1f-fb81bcdad625",
   "metadata": {
    "execution": {
     "iopub.execute_input": "2021-12-21T19:14:09.242325Z",
     "iopub.status.busy": "2021-12-21T19:14:09.241521Z",
     "iopub.status.idle": "2021-12-21T19:14:09.244838Z",
     "shell.execute_reply": "2021-12-21T19:14:09.245558Z"
    },
    "papermill": {
     "duration": 0.188724,
     "end_time": "2021-12-21T19:14:09.245734",
     "exception": false,
     "start_time": "2021-12-21T19:14:09.057010",
     "status": "completed"
    },
    "tags": []
   },
   "outputs": [
    {
     "data": {
      "text/plain": [
       "(5000, 5000)"
      ]
     },
     "execution_count": 15,
     "metadata": {},
     "output_type": "execute_result"
    }
   ],
   "source": [
    "clustermatch_df.shape"
   ]
  },
  {
   "cell_type": "code",
   "execution_count": 16,
   "id": "c9fc4460-6ae2-42ab-9923-9f7a3e3d942c",
   "metadata": {
    "execution": {
     "iopub.execute_input": "2021-12-21T19:14:09.622487Z",
     "iopub.status.busy": "2021-12-21T19:14:09.605191Z",
     "iopub.status.idle": "2021-12-21T19:14:09.625352Z",
     "shell.execute_reply": "2021-12-21T19:14:09.625800Z"
    },
    "papermill": {
     "duration": 0.202476,
     "end_time": "2021-12-21T19:14:09.625937",
     "exception": false,
     "start_time": "2021-12-21T19:14:09.423461",
     "status": "completed"
    },
    "tags": []
   },
   "outputs": [
    {
     "data": {
      "text/html": [
       "<div>\n",
       "<style scoped>\n",
       "    .dataframe tbody tr th:only-of-type {\n",
       "        vertical-align: middle;\n",
       "    }\n",
       "\n",
       "    .dataframe tbody tr th {\n",
       "        vertical-align: top;\n",
       "    }\n",
       "\n",
       "    .dataframe thead th {\n",
       "        text-align: right;\n",
       "    }\n",
       "</style>\n",
       "<table border=\"1\" class=\"dataframe\">\n",
       "  <thead>\n",
       "    <tr style=\"text-align: right;\">\n",
       "      <th>gene_ens_id</th>\n",
       "      <th>ENSG00000129824.15</th>\n",
       "      <th>ENSG00000135443.8</th>\n",
       "      <th>ENSG00000134184.12</th>\n",
       "      <th>ENSG00000204897.6</th>\n",
       "      <th>ENSG00000224114.1</th>\n",
       "      <th>ENSG00000102891.3</th>\n",
       "      <th>ENSG00000205076.4</th>\n",
       "      <th>ENSG00000149968.11</th>\n",
       "      <th>ENSG00000182591.5</th>\n",
       "      <th>ENSG00000212901.3</th>\n",
       "      <th>...</th>\n",
       "      <th>ENSG00000077092.18</th>\n",
       "      <th>ENSG00000206800.1</th>\n",
       "      <th>ENSG00000173156.6</th>\n",
       "      <th>ENSG00000283175.1</th>\n",
       "      <th>ENSG00000139946.9</th>\n",
       "      <th>ENSG00000104951.15</th>\n",
       "      <th>ENSG00000244267.1</th>\n",
       "      <th>ENSG00000235297.3</th>\n",
       "      <th>ENSG00000275426.1</th>\n",
       "      <th>ENSG00000100504.16</th>\n",
       "    </tr>\n",
       "    <tr>\n",
       "      <th>gene_ens_id</th>\n",
       "      <th></th>\n",
       "      <th></th>\n",
       "      <th></th>\n",
       "      <th></th>\n",
       "      <th></th>\n",
       "      <th></th>\n",
       "      <th></th>\n",
       "      <th></th>\n",
       "      <th></th>\n",
       "      <th></th>\n",
       "      <th></th>\n",
       "      <th></th>\n",
       "      <th></th>\n",
       "      <th></th>\n",
       "      <th></th>\n",
       "      <th></th>\n",
       "      <th></th>\n",
       "      <th></th>\n",
       "      <th></th>\n",
       "      <th></th>\n",
       "      <th></th>\n",
       "    </tr>\n",
       "  </thead>\n",
       "  <tbody>\n",
       "    <tr>\n",
       "      <th>ENSG00000129824.15</th>\n",
       "      <td>1.000000</td>\n",
       "      <td>0.006389</td>\n",
       "      <td>0.004035</td>\n",
       "      <td>0.005282</td>\n",
       "      <td>0.004880</td>\n",
       "      <td>0.005663</td>\n",
       "      <td>0.004179</td>\n",
       "      <td>0.034413</td>\n",
       "      <td>0.007675</td>\n",
       "      <td>0.005549</td>\n",
       "      <td>...</td>\n",
       "      <td>0.004222</td>\n",
       "      <td>0.003250</td>\n",
       "      <td>0.004950</td>\n",
       "      <td>0.009983</td>\n",
       "      <td>0.011104</td>\n",
       "      <td>0.004968</td>\n",
       "      <td>0.003042</td>\n",
       "      <td>0.008672</td>\n",
       "      <td>0.004757</td>\n",
       "      <td>0.027658</td>\n",
       "    </tr>\n",
       "    <tr>\n",
       "      <th>ENSG00000135443.8</th>\n",
       "      <td>0.006389</td>\n",
       "      <td>1.000000</td>\n",
       "      <td>0.003032</td>\n",
       "      <td>0.430518</td>\n",
       "      <td>0.006299</td>\n",
       "      <td>0.019512</td>\n",
       "      <td>0.005515</td>\n",
       "      <td>0.004505</td>\n",
       "      <td>0.295279</td>\n",
       "      <td>0.289493</td>\n",
       "      <td>...</td>\n",
       "      <td>0.003384</td>\n",
       "      <td>0.001580</td>\n",
       "      <td>0.006088</td>\n",
       "      <td>0.008653</td>\n",
       "      <td>0.011816</td>\n",
       "      <td>0.003302</td>\n",
       "      <td>0.005873</td>\n",
       "      <td>0.005765</td>\n",
       "      <td>0.003738</td>\n",
       "      <td>0.001839</td>\n",
       "    </tr>\n",
       "    <tr>\n",
       "      <th>ENSG00000134184.12</th>\n",
       "      <td>0.004035</td>\n",
       "      <td>0.003032</td>\n",
       "      <td>1.000000</td>\n",
       "      <td>0.001339</td>\n",
       "      <td>0.004340</td>\n",
       "      <td>0.010379</td>\n",
       "      <td>0.005208</td>\n",
       "      <td>0.007941</td>\n",
       "      <td>0.004895</td>\n",
       "      <td>0.001413</td>\n",
       "      <td>...</td>\n",
       "      <td>0.003296</td>\n",
       "      <td>0.003422</td>\n",
       "      <td>0.001304</td>\n",
       "      <td>0.002881</td>\n",
       "      <td>0.002143</td>\n",
       "      <td>0.023849</td>\n",
       "      <td>0.003708</td>\n",
       "      <td>0.004115</td>\n",
       "      <td>0.006504</td>\n",
       "      <td>0.005597</td>\n",
       "    </tr>\n",
       "    <tr>\n",
       "      <th>ENSG00000204897.6</th>\n",
       "      <td>0.005282</td>\n",
       "      <td>0.430518</td>\n",
       "      <td>0.001339</td>\n",
       "      <td>1.000000</td>\n",
       "      <td>0.005176</td>\n",
       "      <td>0.018529</td>\n",
       "      <td>0.009803</td>\n",
       "      <td>0.010833</td>\n",
       "      <td>0.268407</td>\n",
       "      <td>0.250168</td>\n",
       "      <td>...</td>\n",
       "      <td>0.007180</td>\n",
       "      <td>0.003628</td>\n",
       "      <td>0.016976</td>\n",
       "      <td>0.006506</td>\n",
       "      <td>0.020620</td>\n",
       "      <td>0.003193</td>\n",
       "      <td>0.001090</td>\n",
       "      <td>0.007587</td>\n",
       "      <td>0.004157</td>\n",
       "      <td>0.001735</td>\n",
       "    </tr>\n",
       "    <tr>\n",
       "      <th>ENSG00000224114.1</th>\n",
       "      <td>0.004880</td>\n",
       "      <td>0.006299</td>\n",
       "      <td>0.004340</td>\n",
       "      <td>0.005176</td>\n",
       "      <td>1.000000</td>\n",
       "      <td>0.001827</td>\n",
       "      <td>0.011288</td>\n",
       "      <td>0.002426</td>\n",
       "      <td>0.002286</td>\n",
       "      <td>0.001960</td>\n",
       "      <td>...</td>\n",
       "      <td>0.001645</td>\n",
       "      <td>0.005332</td>\n",
       "      <td>0.005387</td>\n",
       "      <td>0.005270</td>\n",
       "      <td>0.003761</td>\n",
       "      <td>0.004261</td>\n",
       "      <td>0.001955</td>\n",
       "      <td>0.042307</td>\n",
       "      <td>0.003158</td>\n",
       "      <td>0.005041</td>\n",
       "    </tr>\n",
       "  </tbody>\n",
       "</table>\n",
       "<p>5 rows × 5000 columns</p>\n",
       "</div>"
      ],
      "text/plain": [
       "gene_ens_id         ENSG00000129824.15  ENSG00000135443.8  ENSG00000134184.12  \\\n",
       "gene_ens_id                                                                     \n",
       "ENSG00000129824.15            1.000000           0.006389            0.004035   \n",
       "ENSG00000135443.8             0.006389           1.000000            0.003032   \n",
       "ENSG00000134184.12            0.004035           0.003032            1.000000   \n",
       "ENSG00000204897.6             0.005282           0.430518            0.001339   \n",
       "ENSG00000224114.1             0.004880           0.006299            0.004340   \n",
       "\n",
       "gene_ens_id         ENSG00000204897.6  ENSG00000224114.1  ENSG00000102891.3  \\\n",
       "gene_ens_id                                                                   \n",
       "ENSG00000129824.15           0.005282           0.004880           0.005663   \n",
       "ENSG00000135443.8            0.430518           0.006299           0.019512   \n",
       "ENSG00000134184.12           0.001339           0.004340           0.010379   \n",
       "ENSG00000204897.6            1.000000           0.005176           0.018529   \n",
       "ENSG00000224114.1            0.005176           1.000000           0.001827   \n",
       "\n",
       "gene_ens_id         ENSG00000205076.4  ENSG00000149968.11  ENSG00000182591.5  \\\n",
       "gene_ens_id                                                                    \n",
       "ENSG00000129824.15           0.004179            0.034413           0.007675   \n",
       "ENSG00000135443.8            0.005515            0.004505           0.295279   \n",
       "ENSG00000134184.12           0.005208            0.007941           0.004895   \n",
       "ENSG00000204897.6            0.009803            0.010833           0.268407   \n",
       "ENSG00000224114.1            0.011288            0.002426           0.002286   \n",
       "\n",
       "gene_ens_id         ENSG00000212901.3  ...  ENSG00000077092.18  \\\n",
       "gene_ens_id                            ...                       \n",
       "ENSG00000129824.15           0.005549  ...            0.004222   \n",
       "ENSG00000135443.8            0.289493  ...            0.003384   \n",
       "ENSG00000134184.12           0.001413  ...            0.003296   \n",
       "ENSG00000204897.6            0.250168  ...            0.007180   \n",
       "ENSG00000224114.1            0.001960  ...            0.001645   \n",
       "\n",
       "gene_ens_id         ENSG00000206800.1  ENSG00000173156.6  ENSG00000283175.1  \\\n",
       "gene_ens_id                                                                   \n",
       "ENSG00000129824.15           0.003250           0.004950           0.009983   \n",
       "ENSG00000135443.8            0.001580           0.006088           0.008653   \n",
       "ENSG00000134184.12           0.003422           0.001304           0.002881   \n",
       "ENSG00000204897.6            0.003628           0.016976           0.006506   \n",
       "ENSG00000224114.1            0.005332           0.005387           0.005270   \n",
       "\n",
       "gene_ens_id         ENSG00000139946.9  ENSG00000104951.15  ENSG00000244267.1  \\\n",
       "gene_ens_id                                                                    \n",
       "ENSG00000129824.15           0.011104            0.004968           0.003042   \n",
       "ENSG00000135443.8            0.011816            0.003302           0.005873   \n",
       "ENSG00000134184.12           0.002143            0.023849           0.003708   \n",
       "ENSG00000204897.6            0.020620            0.003193           0.001090   \n",
       "ENSG00000224114.1            0.003761            0.004261           0.001955   \n",
       "\n",
       "gene_ens_id         ENSG00000235297.3  ENSG00000275426.1  ENSG00000100504.16  \n",
       "gene_ens_id                                                                   \n",
       "ENSG00000129824.15           0.008672           0.004757            0.027658  \n",
       "ENSG00000135443.8            0.005765           0.003738            0.001839  \n",
       "ENSG00000134184.12           0.004115           0.006504            0.005597  \n",
       "ENSG00000204897.6            0.007587           0.004157            0.001735  \n",
       "ENSG00000224114.1            0.042307           0.003158            0.005041  \n",
       "\n",
       "[5 rows x 5000 columns]"
      ]
     },
     "execution_count": 16,
     "metadata": {},
     "output_type": "execute_result"
    }
   ],
   "source": [
    "clustermatch_df.head()"
   ]
  },
  {
   "cell_type": "code",
   "execution_count": 17,
   "id": "e8d06663-b757-4c9a-bf88-efe799cf4c16",
   "metadata": {
    "execution": {
     "iopub.execute_input": "2021-12-21T19:14:09.991385Z",
     "iopub.status.busy": "2021-12-21T19:14:09.990860Z",
     "iopub.status.idle": "2021-12-21T19:14:09.992692Z",
     "shell.execute_reply": "2021-12-21T19:14:09.993140Z"
    },
    "papermill": {
     "duration": 0.188439,
     "end_time": "2021-12-21T19:14:09.993273",
     "exception": false,
     "start_time": "2021-12-21T19:14:09.804834",
     "status": "completed"
    },
    "tags": []
   },
   "outputs": [],
   "source": [
    "assert data.index.equals(clustermatch_df.index)"
   ]
  },
  {
   "cell_type": "markdown",
   "id": "0277745a-71cf-4b42-a1ad-949ffa423a35",
   "metadata": {
    "papermill": {
     "duration": 0.21769,
     "end_time": "2021-12-21T19:14:10.408286",
     "exception": false,
     "start_time": "2021-12-21T19:14:10.190596",
     "status": "completed"
    },
    "tags": []
   },
   "source": [
    "## Pearson"
   ]
  },
  {
   "cell_type": "code",
   "execution_count": 18,
   "id": "25fec66a-2209-4556-9ab9-a6de8ae6737c",
   "metadata": {
    "execution": {
     "iopub.execute_input": "2021-12-21T19:14:10.882213Z",
     "iopub.status.busy": "2021-12-21T19:14:10.880738Z",
     "iopub.status.idle": "2021-12-21T19:14:11.180691Z",
     "shell.execute_reply": "2021-12-21T19:14:11.181451Z"
    },
    "papermill": {
     "duration": 0.57274,
     "end_time": "2021-12-21T19:14:11.181689",
     "exception": false,
     "start_time": "2021-12-21T19:14:10.608949",
     "status": "completed"
    },
    "tags": []
   },
   "outputs": [],
   "source": [
    "pearson_df = pd.read_pickle(\n",
    "    str(INPUT_CORR_FILE_TEMPLATE).format(\n",
    "        tissue=GTEX_TISSUE,\n",
    "        gene_sel_strategy=GENE_SEL_STRATEGY,\n",
    "        corr_method=\"pearson\",\n",
    "    )\n",
    ")"
   ]
  },
  {
   "cell_type": "code",
   "execution_count": 19,
   "id": "9cf7764d-a6f1-4fa3-9731-4eacac4ec7ef",
   "metadata": {
    "execution": {
     "iopub.execute_input": "2021-12-21T19:14:11.639333Z",
     "iopub.status.busy": "2021-12-21T19:14:11.638679Z",
     "iopub.status.idle": "2021-12-21T19:14:11.642518Z",
     "shell.execute_reply": "2021-12-21T19:14:11.643134Z"
    },
    "papermill": {
     "duration": 0.229354,
     "end_time": "2021-12-21T19:14:11.643351",
     "exception": false,
     "start_time": "2021-12-21T19:14:11.413997",
     "status": "completed"
    },
    "tags": []
   },
   "outputs": [
    {
     "data": {
      "text/plain": [
       "(5000, 5000)"
      ]
     },
     "execution_count": 19,
     "metadata": {},
     "output_type": "execute_result"
    }
   ],
   "source": [
    "pearson_df.shape"
   ]
  },
  {
   "cell_type": "code",
   "execution_count": 20,
   "id": "d2a2fe84-ead6-4ac3-8980-e9ecc8fb4eec",
   "metadata": {
    "execution": {
     "iopub.execute_input": "2021-12-21T19:14:12.049376Z",
     "iopub.status.busy": "2021-12-21T19:14:12.031210Z",
     "iopub.status.idle": "2021-12-21T19:14:12.052414Z",
     "shell.execute_reply": "2021-12-21T19:14:12.052884Z"
    },
    "papermill": {
     "duration": 0.208564,
     "end_time": "2021-12-21T19:14:12.053021",
     "exception": false,
     "start_time": "2021-12-21T19:14:11.844457",
     "status": "completed"
    },
    "tags": []
   },
   "outputs": [
    {
     "data": {
      "text/html": [
       "<div>\n",
       "<style scoped>\n",
       "    .dataframe tbody tr th:only-of-type {\n",
       "        vertical-align: middle;\n",
       "    }\n",
       "\n",
       "    .dataframe tbody tr th {\n",
       "        vertical-align: top;\n",
       "    }\n",
       "\n",
       "    .dataframe thead th {\n",
       "        text-align: right;\n",
       "    }\n",
       "</style>\n",
       "<table border=\"1\" class=\"dataframe\">\n",
       "  <thead>\n",
       "    <tr style=\"text-align: right;\">\n",
       "      <th>gene_ens_id</th>\n",
       "      <th>ENSG00000129824.15</th>\n",
       "      <th>ENSG00000135443.8</th>\n",
       "      <th>ENSG00000134184.12</th>\n",
       "      <th>ENSG00000204897.6</th>\n",
       "      <th>ENSG00000224114.1</th>\n",
       "      <th>ENSG00000102891.3</th>\n",
       "      <th>ENSG00000205076.4</th>\n",
       "      <th>ENSG00000149968.11</th>\n",
       "      <th>ENSG00000182591.5</th>\n",
       "      <th>ENSG00000212901.3</th>\n",
       "      <th>...</th>\n",
       "      <th>ENSG00000077092.18</th>\n",
       "      <th>ENSG00000206800.1</th>\n",
       "      <th>ENSG00000173156.6</th>\n",
       "      <th>ENSG00000283175.1</th>\n",
       "      <th>ENSG00000139946.9</th>\n",
       "      <th>ENSG00000104951.15</th>\n",
       "      <th>ENSG00000244267.1</th>\n",
       "      <th>ENSG00000235297.3</th>\n",
       "      <th>ENSG00000275426.1</th>\n",
       "      <th>ENSG00000100504.16</th>\n",
       "    </tr>\n",
       "    <tr>\n",
       "      <th>gene_ens_id</th>\n",
       "      <th></th>\n",
       "      <th></th>\n",
       "      <th></th>\n",
       "      <th></th>\n",
       "      <th></th>\n",
       "      <th></th>\n",
       "      <th></th>\n",
       "      <th></th>\n",
       "      <th></th>\n",
       "      <th></th>\n",
       "      <th></th>\n",
       "      <th></th>\n",
       "      <th></th>\n",
       "      <th></th>\n",
       "      <th></th>\n",
       "      <th></th>\n",
       "      <th></th>\n",
       "      <th></th>\n",
       "      <th></th>\n",
       "      <th></th>\n",
       "      <th></th>\n",
       "    </tr>\n",
       "  </thead>\n",
       "  <tbody>\n",
       "    <tr>\n",
       "      <th>ENSG00000129824.15</th>\n",
       "      <td>1.000000</td>\n",
       "      <td>0.080008</td>\n",
       "      <td>-0.092589</td>\n",
       "      <td>0.059517</td>\n",
       "      <td>0.033820</td>\n",
       "      <td>-0.095897</td>\n",
       "      <td>-0.006031</td>\n",
       "      <td>0.167971</td>\n",
       "      <td>0.071320</td>\n",
       "      <td>0.041228</td>\n",
       "      <td>...</td>\n",
       "      <td>0.034722</td>\n",
       "      <td>0.076105</td>\n",
       "      <td>0.006976</td>\n",
       "      <td>0.019510</td>\n",
       "      <td>-0.092884</td>\n",
       "      <td>0.025590</td>\n",
       "      <td>0.006502</td>\n",
       "      <td>-0.009664</td>\n",
       "      <td>0.003751</td>\n",
       "      <td>0.043949</td>\n",
       "    </tr>\n",
       "    <tr>\n",
       "      <th>ENSG00000135443.8</th>\n",
       "      <td>0.080008</td>\n",
       "      <td>1.000000</td>\n",
       "      <td>-0.036381</td>\n",
       "      <td>0.884581</td>\n",
       "      <td>0.012467</td>\n",
       "      <td>0.246753</td>\n",
       "      <td>-0.015795</td>\n",
       "      <td>0.060674</td>\n",
       "      <td>0.937499</td>\n",
       "      <td>0.839319</td>\n",
       "      <td>...</td>\n",
       "      <td>0.077306</td>\n",
       "      <td>-0.042748</td>\n",
       "      <td>-0.040638</td>\n",
       "      <td>0.015104</td>\n",
       "      <td>0.033041</td>\n",
       "      <td>-0.049119</td>\n",
       "      <td>-0.052033</td>\n",
       "      <td>-0.027207</td>\n",
       "      <td>0.018714</td>\n",
       "      <td>-0.034333</td>\n",
       "    </tr>\n",
       "    <tr>\n",
       "      <th>ENSG00000134184.12</th>\n",
       "      <td>-0.092589</td>\n",
       "      <td>-0.036381</td>\n",
       "      <td>1.000000</td>\n",
       "      <td>-0.022172</td>\n",
       "      <td>-0.024376</td>\n",
       "      <td>0.180749</td>\n",
       "      <td>0.024270</td>\n",
       "      <td>0.032569</td>\n",
       "      <td>-0.014736</td>\n",
       "      <td>-0.011177</td>\n",
       "      <td>...</td>\n",
       "      <td>-0.014043</td>\n",
       "      <td>-0.004809</td>\n",
       "      <td>0.002525</td>\n",
       "      <td>-0.054538</td>\n",
       "      <td>-0.003346</td>\n",
       "      <td>-0.113142</td>\n",
       "      <td>-0.023637</td>\n",
       "      <td>-0.045748</td>\n",
       "      <td>-0.044974</td>\n",
       "      <td>-0.075449</td>\n",
       "    </tr>\n",
       "    <tr>\n",
       "      <th>ENSG00000204897.6</th>\n",
       "      <td>0.059517</td>\n",
       "      <td>0.884581</td>\n",
       "      <td>-0.022172</td>\n",
       "      <td>1.000000</td>\n",
       "      <td>0.026718</td>\n",
       "      <td>0.228186</td>\n",
       "      <td>-0.031767</td>\n",
       "      <td>0.070858</td>\n",
       "      <td>0.801291</td>\n",
       "      <td>0.741540</td>\n",
       "      <td>...</td>\n",
       "      <td>0.068188</td>\n",
       "      <td>-0.067381</td>\n",
       "      <td>-0.049454</td>\n",
       "      <td>0.029482</td>\n",
       "      <td>0.039879</td>\n",
       "      <td>-0.035164</td>\n",
       "      <td>-0.045703</td>\n",
       "      <td>-0.048379</td>\n",
       "      <td>0.030126</td>\n",
       "      <td>-0.015271</td>\n",
       "    </tr>\n",
       "    <tr>\n",
       "      <th>ENSG00000224114.1</th>\n",
       "      <td>0.033820</td>\n",
       "      <td>0.012467</td>\n",
       "      <td>-0.024376</td>\n",
       "      <td>0.026718</td>\n",
       "      <td>1.000000</td>\n",
       "      <td>-0.038439</td>\n",
       "      <td>-0.028450</td>\n",
       "      <td>-0.086315</td>\n",
       "      <td>0.000396</td>\n",
       "      <td>-0.016647</td>\n",
       "      <td>...</td>\n",
       "      <td>0.016796</td>\n",
       "      <td>0.011701</td>\n",
       "      <td>0.008087</td>\n",
       "      <td>0.000151</td>\n",
       "      <td>-0.007604</td>\n",
       "      <td>-0.006679</td>\n",
       "      <td>-0.005657</td>\n",
       "      <td>0.085799</td>\n",
       "      <td>0.026087</td>\n",
       "      <td>0.033813</td>\n",
       "    </tr>\n",
       "  </tbody>\n",
       "</table>\n",
       "<p>5 rows × 5000 columns</p>\n",
       "</div>"
      ],
      "text/plain": [
       "gene_ens_id         ENSG00000129824.15  ENSG00000135443.8  ENSG00000134184.12  \\\n",
       "gene_ens_id                                                                     \n",
       "ENSG00000129824.15            1.000000           0.080008           -0.092589   \n",
       "ENSG00000135443.8             0.080008           1.000000           -0.036381   \n",
       "ENSG00000134184.12           -0.092589          -0.036381            1.000000   \n",
       "ENSG00000204897.6             0.059517           0.884581           -0.022172   \n",
       "ENSG00000224114.1             0.033820           0.012467           -0.024376   \n",
       "\n",
       "gene_ens_id         ENSG00000204897.6  ENSG00000224114.1  ENSG00000102891.3  \\\n",
       "gene_ens_id                                                                   \n",
       "ENSG00000129824.15           0.059517           0.033820          -0.095897   \n",
       "ENSG00000135443.8            0.884581           0.012467           0.246753   \n",
       "ENSG00000134184.12          -0.022172          -0.024376           0.180749   \n",
       "ENSG00000204897.6            1.000000           0.026718           0.228186   \n",
       "ENSG00000224114.1            0.026718           1.000000          -0.038439   \n",
       "\n",
       "gene_ens_id         ENSG00000205076.4  ENSG00000149968.11  ENSG00000182591.5  \\\n",
       "gene_ens_id                                                                    \n",
       "ENSG00000129824.15          -0.006031            0.167971           0.071320   \n",
       "ENSG00000135443.8           -0.015795            0.060674           0.937499   \n",
       "ENSG00000134184.12           0.024270            0.032569          -0.014736   \n",
       "ENSG00000204897.6           -0.031767            0.070858           0.801291   \n",
       "ENSG00000224114.1           -0.028450           -0.086315           0.000396   \n",
       "\n",
       "gene_ens_id         ENSG00000212901.3  ...  ENSG00000077092.18  \\\n",
       "gene_ens_id                            ...                       \n",
       "ENSG00000129824.15           0.041228  ...            0.034722   \n",
       "ENSG00000135443.8            0.839319  ...            0.077306   \n",
       "ENSG00000134184.12          -0.011177  ...           -0.014043   \n",
       "ENSG00000204897.6            0.741540  ...            0.068188   \n",
       "ENSG00000224114.1           -0.016647  ...            0.016796   \n",
       "\n",
       "gene_ens_id         ENSG00000206800.1  ENSG00000173156.6  ENSG00000283175.1  \\\n",
       "gene_ens_id                                                                   \n",
       "ENSG00000129824.15           0.076105           0.006976           0.019510   \n",
       "ENSG00000135443.8           -0.042748          -0.040638           0.015104   \n",
       "ENSG00000134184.12          -0.004809           0.002525          -0.054538   \n",
       "ENSG00000204897.6           -0.067381          -0.049454           0.029482   \n",
       "ENSG00000224114.1            0.011701           0.008087           0.000151   \n",
       "\n",
       "gene_ens_id         ENSG00000139946.9  ENSG00000104951.15  ENSG00000244267.1  \\\n",
       "gene_ens_id                                                                    \n",
       "ENSG00000129824.15          -0.092884            0.025590           0.006502   \n",
       "ENSG00000135443.8            0.033041           -0.049119          -0.052033   \n",
       "ENSG00000134184.12          -0.003346           -0.113142          -0.023637   \n",
       "ENSG00000204897.6            0.039879           -0.035164          -0.045703   \n",
       "ENSG00000224114.1           -0.007604           -0.006679          -0.005657   \n",
       "\n",
       "gene_ens_id         ENSG00000235297.3  ENSG00000275426.1  ENSG00000100504.16  \n",
       "gene_ens_id                                                                   \n",
       "ENSG00000129824.15          -0.009664           0.003751            0.043949  \n",
       "ENSG00000135443.8           -0.027207           0.018714           -0.034333  \n",
       "ENSG00000134184.12          -0.045748          -0.044974           -0.075449  \n",
       "ENSG00000204897.6           -0.048379           0.030126           -0.015271  \n",
       "ENSG00000224114.1            0.085799           0.026087            0.033813  \n",
       "\n",
       "[5 rows x 5000 columns]"
      ]
     },
     "execution_count": 20,
     "metadata": {},
     "output_type": "execute_result"
    }
   ],
   "source": [
    "pearson_df.head()"
   ]
  },
  {
   "cell_type": "code",
   "execution_count": 21,
   "id": "52aec2ed-709e-4a8b-885f-0d5f6a24e01d",
   "metadata": {
    "execution": {
     "iopub.execute_input": "2021-12-21T19:14:12.434307Z",
     "iopub.status.busy": "2021-12-21T19:14:12.433685Z",
     "iopub.status.idle": "2021-12-21T19:14:12.435354Z",
     "shell.execute_reply": "2021-12-21T19:14:12.435762Z"
    },
    "papermill": {
     "duration": 0.188233,
     "end_time": "2021-12-21T19:14:12.435902",
     "exception": false,
     "start_time": "2021-12-21T19:14:12.247669",
     "status": "completed"
    },
    "tags": []
   },
   "outputs": [],
   "source": [
    "assert data.index.equals(pearson_df.index)"
   ]
  },
  {
   "cell_type": "markdown",
   "id": "6f0ee3a9-baa6-4a05-904d-8606b26da6c5",
   "metadata": {
    "papermill": {
     "duration": 0.188032,
     "end_time": "2021-12-21T19:14:12.811562",
     "exception": false,
     "start_time": "2021-12-21T19:14:12.623530",
     "status": "completed"
    },
    "tags": []
   },
   "source": [
    "## Spearman"
   ]
  },
  {
   "cell_type": "code",
   "execution_count": 22,
   "id": "41edc475-d086-4041-85dc-e41a0d6a89ac",
   "metadata": {
    "execution": {
     "iopub.execute_input": "2021-12-21T19:14:13.184515Z",
     "iopub.status.busy": "2021-12-21T19:14:13.183954Z",
     "iopub.status.idle": "2021-12-21T19:14:13.395633Z",
     "shell.execute_reply": "2021-12-21T19:14:13.395054Z"
    },
    "papermill": {
     "duration": 0.403902,
     "end_time": "2021-12-21T19:14:13.395813",
     "exception": false,
     "start_time": "2021-12-21T19:14:12.991911",
     "status": "completed"
    },
    "tags": []
   },
   "outputs": [],
   "source": [
    "spearman_df = pd.read_pickle(\n",
    "    str(INPUT_CORR_FILE_TEMPLATE).format(\n",
    "        tissue=GTEX_TISSUE,\n",
    "        gene_sel_strategy=GENE_SEL_STRATEGY,\n",
    "        corr_method=\"spearman\",\n",
    "    )\n",
    ")"
   ]
  },
  {
   "cell_type": "code",
   "execution_count": 23,
   "id": "a5326477-cc14-47bc-9c7b-cd4e1afffdff",
   "metadata": {
    "execution": {
     "iopub.execute_input": "2021-12-21T19:14:13.771102Z",
     "iopub.status.busy": "2021-12-21T19:14:13.770483Z",
     "iopub.status.idle": "2021-12-21T19:14:13.773300Z",
     "shell.execute_reply": "2021-12-21T19:14:13.773729Z"
    },
    "papermill": {
     "duration": 0.195655,
     "end_time": "2021-12-21T19:14:13.773860",
     "exception": false,
     "start_time": "2021-12-21T19:14:13.578205",
     "status": "completed"
    },
    "tags": []
   },
   "outputs": [
    {
     "data": {
      "text/plain": [
       "(5000, 5000)"
      ]
     },
     "execution_count": 23,
     "metadata": {},
     "output_type": "execute_result"
    }
   ],
   "source": [
    "spearman_df.shape"
   ]
  },
  {
   "cell_type": "code",
   "execution_count": 24,
   "id": "acb0044e-2fb2-4349-a103-07c675895321",
   "metadata": {
    "execution": {
     "iopub.execute_input": "2021-12-21T19:14:14.169980Z",
     "iopub.status.busy": "2021-12-21T19:14:14.153398Z",
     "iopub.status.idle": "2021-12-21T19:14:14.172642Z",
     "shell.execute_reply": "2021-12-21T19:14:14.173081Z"
    },
    "papermill": {
     "duration": 0.214024,
     "end_time": "2021-12-21T19:14:14.173216",
     "exception": false,
     "start_time": "2021-12-21T19:14:13.959192",
     "status": "completed"
    },
    "tags": []
   },
   "outputs": [
    {
     "data": {
      "text/html": [
       "<div>\n",
       "<style scoped>\n",
       "    .dataframe tbody tr th:only-of-type {\n",
       "        vertical-align: middle;\n",
       "    }\n",
       "\n",
       "    .dataframe tbody tr th {\n",
       "        vertical-align: top;\n",
       "    }\n",
       "\n",
       "    .dataframe thead th {\n",
       "        text-align: right;\n",
       "    }\n",
       "</style>\n",
       "<table border=\"1\" class=\"dataframe\">\n",
       "  <thead>\n",
       "    <tr style=\"text-align: right;\">\n",
       "      <th>gene_ens_id</th>\n",
       "      <th>ENSG00000129824.15</th>\n",
       "      <th>ENSG00000135443.8</th>\n",
       "      <th>ENSG00000134184.12</th>\n",
       "      <th>ENSG00000204897.6</th>\n",
       "      <th>ENSG00000224114.1</th>\n",
       "      <th>ENSG00000102891.3</th>\n",
       "      <th>ENSG00000205076.4</th>\n",
       "      <th>ENSG00000149968.11</th>\n",
       "      <th>ENSG00000182591.5</th>\n",
       "      <th>ENSG00000212901.3</th>\n",
       "      <th>...</th>\n",
       "      <th>ENSG00000077092.18</th>\n",
       "      <th>ENSG00000206800.1</th>\n",
       "      <th>ENSG00000173156.6</th>\n",
       "      <th>ENSG00000283175.1</th>\n",
       "      <th>ENSG00000139946.9</th>\n",
       "      <th>ENSG00000104951.15</th>\n",
       "      <th>ENSG00000244267.1</th>\n",
       "      <th>ENSG00000235297.3</th>\n",
       "      <th>ENSG00000275426.1</th>\n",
       "      <th>ENSG00000100504.16</th>\n",
       "    </tr>\n",
       "    <tr>\n",
       "      <th>gene_ens_id</th>\n",
       "      <th></th>\n",
       "      <th></th>\n",
       "      <th></th>\n",
       "      <th></th>\n",
       "      <th></th>\n",
       "      <th></th>\n",
       "      <th></th>\n",
       "      <th></th>\n",
       "      <th></th>\n",
       "      <th></th>\n",
       "      <th></th>\n",
       "      <th></th>\n",
       "      <th></th>\n",
       "      <th></th>\n",
       "      <th></th>\n",
       "      <th></th>\n",
       "      <th></th>\n",
       "      <th></th>\n",
       "      <th></th>\n",
       "      <th></th>\n",
       "      <th></th>\n",
       "    </tr>\n",
       "  </thead>\n",
       "  <tbody>\n",
       "    <tr>\n",
       "      <th>ENSG00000129824.15</th>\n",
       "      <td>1.000000</td>\n",
       "      <td>-0.026356</td>\n",
       "      <td>-0.048471</td>\n",
       "      <td>-0.026656</td>\n",
       "      <td>0.067988</td>\n",
       "      <td>-0.093766</td>\n",
       "      <td>-0.043562</td>\n",
       "      <td>0.161506</td>\n",
       "      <td>-0.088255</td>\n",
       "      <td>-0.018416</td>\n",
       "      <td>...</td>\n",
       "      <td>0.033364</td>\n",
       "      <td>0.041656</td>\n",
       "      <td>-0.021513</td>\n",
       "      <td>0.102007</td>\n",
       "      <td>-0.000594</td>\n",
       "      <td>0.070636</td>\n",
       "      <td>-0.022520</td>\n",
       "      <td>0.050635</td>\n",
       "      <td>0.030483</td>\n",
       "      <td>0.130514</td>\n",
       "    </tr>\n",
       "    <tr>\n",
       "      <th>ENSG00000135443.8</th>\n",
       "      <td>-0.026356</td>\n",
       "      <td>1.000000</td>\n",
       "      <td>-0.095450</td>\n",
       "      <td>0.828284</td>\n",
       "      <td>0.067067</td>\n",
       "      <td>0.138146</td>\n",
       "      <td>0.031945</td>\n",
       "      <td>-0.027511</td>\n",
       "      <td>0.699591</td>\n",
       "      <td>0.670228</td>\n",
       "      <td>...</td>\n",
       "      <td>0.059375</td>\n",
       "      <td>-0.064857</td>\n",
       "      <td>0.011348</td>\n",
       "      <td>0.116777</td>\n",
       "      <td>0.084842</td>\n",
       "      <td>0.036756</td>\n",
       "      <td>0.014813</td>\n",
       "      <td>0.045234</td>\n",
       "      <td>0.020591</td>\n",
       "      <td>0.016381</td>\n",
       "    </tr>\n",
       "    <tr>\n",
       "      <th>ENSG00000134184.12</th>\n",
       "      <td>-0.048471</td>\n",
       "      <td>-0.095450</td>\n",
       "      <td>1.000000</td>\n",
       "      <td>-0.060467</td>\n",
       "      <td>-0.035682</td>\n",
       "      <td>0.109870</td>\n",
       "      <td>0.021547</td>\n",
       "      <td>0.025481</td>\n",
       "      <td>-0.048940</td>\n",
       "      <td>-0.047545</td>\n",
       "      <td>...</td>\n",
       "      <td>0.052675</td>\n",
       "      <td>0.007082</td>\n",
       "      <td>0.003952</td>\n",
       "      <td>-0.034271</td>\n",
       "      <td>0.037600</td>\n",
       "      <td>-0.082645</td>\n",
       "      <td>0.007562</td>\n",
       "      <td>0.014705</td>\n",
       "      <td>-0.000948</td>\n",
       "      <td>-0.052054</td>\n",
       "    </tr>\n",
       "    <tr>\n",
       "      <th>ENSG00000204897.6</th>\n",
       "      <td>-0.026656</td>\n",
       "      <td>0.828284</td>\n",
       "      <td>-0.060467</td>\n",
       "      <td>1.000000</td>\n",
       "      <td>0.064647</td>\n",
       "      <td>0.153981</td>\n",
       "      <td>0.078705</td>\n",
       "      <td>-0.068483</td>\n",
       "      <td>0.663045</td>\n",
       "      <td>0.633745</td>\n",
       "      <td>...</td>\n",
       "      <td>0.003412</td>\n",
       "      <td>-0.027296</td>\n",
       "      <td>0.083848</td>\n",
       "      <td>0.089167</td>\n",
       "      <td>0.030968</td>\n",
       "      <td>0.009919</td>\n",
       "      <td>0.011464</td>\n",
       "      <td>0.086710</td>\n",
       "      <td>0.014844</td>\n",
       "      <td>0.025546</td>\n",
       "    </tr>\n",
       "    <tr>\n",
       "      <th>ENSG00000224114.1</th>\n",
       "      <td>0.067988</td>\n",
       "      <td>0.067067</td>\n",
       "      <td>-0.035682</td>\n",
       "      <td>0.064647</td>\n",
       "      <td>1.000000</td>\n",
       "      <td>0.004041</td>\n",
       "      <td>-0.024308</td>\n",
       "      <td>-0.045348</td>\n",
       "      <td>0.018274</td>\n",
       "      <td>0.025719</td>\n",
       "      <td>...</td>\n",
       "      <td>0.006032</td>\n",
       "      <td>-0.016157</td>\n",
       "      <td>-0.043620</td>\n",
       "      <td>0.033866</td>\n",
       "      <td>0.036977</td>\n",
       "      <td>0.043580</td>\n",
       "      <td>-0.022898</td>\n",
       "      <td>0.234880</td>\n",
       "      <td>0.025996</td>\n",
       "      <td>0.055765</td>\n",
       "    </tr>\n",
       "  </tbody>\n",
       "</table>\n",
       "<p>5 rows × 5000 columns</p>\n",
       "</div>"
      ],
      "text/plain": [
       "gene_ens_id         ENSG00000129824.15  ENSG00000135443.8  ENSG00000134184.12  \\\n",
       "gene_ens_id                                                                     \n",
       "ENSG00000129824.15            1.000000          -0.026356           -0.048471   \n",
       "ENSG00000135443.8            -0.026356           1.000000           -0.095450   \n",
       "ENSG00000134184.12           -0.048471          -0.095450            1.000000   \n",
       "ENSG00000204897.6            -0.026656           0.828284           -0.060467   \n",
       "ENSG00000224114.1             0.067988           0.067067           -0.035682   \n",
       "\n",
       "gene_ens_id         ENSG00000204897.6  ENSG00000224114.1  ENSG00000102891.3  \\\n",
       "gene_ens_id                                                                   \n",
       "ENSG00000129824.15          -0.026656           0.067988          -0.093766   \n",
       "ENSG00000135443.8            0.828284           0.067067           0.138146   \n",
       "ENSG00000134184.12          -0.060467          -0.035682           0.109870   \n",
       "ENSG00000204897.6            1.000000           0.064647           0.153981   \n",
       "ENSG00000224114.1            0.064647           1.000000           0.004041   \n",
       "\n",
       "gene_ens_id         ENSG00000205076.4  ENSG00000149968.11  ENSG00000182591.5  \\\n",
       "gene_ens_id                                                                    \n",
       "ENSG00000129824.15          -0.043562            0.161506          -0.088255   \n",
       "ENSG00000135443.8            0.031945           -0.027511           0.699591   \n",
       "ENSG00000134184.12           0.021547            0.025481          -0.048940   \n",
       "ENSG00000204897.6            0.078705           -0.068483           0.663045   \n",
       "ENSG00000224114.1           -0.024308           -0.045348           0.018274   \n",
       "\n",
       "gene_ens_id         ENSG00000212901.3  ...  ENSG00000077092.18  \\\n",
       "gene_ens_id                            ...                       \n",
       "ENSG00000129824.15          -0.018416  ...            0.033364   \n",
       "ENSG00000135443.8            0.670228  ...            0.059375   \n",
       "ENSG00000134184.12          -0.047545  ...            0.052675   \n",
       "ENSG00000204897.6            0.633745  ...            0.003412   \n",
       "ENSG00000224114.1            0.025719  ...            0.006032   \n",
       "\n",
       "gene_ens_id         ENSG00000206800.1  ENSG00000173156.6  ENSG00000283175.1  \\\n",
       "gene_ens_id                                                                   \n",
       "ENSG00000129824.15           0.041656          -0.021513           0.102007   \n",
       "ENSG00000135443.8           -0.064857           0.011348           0.116777   \n",
       "ENSG00000134184.12           0.007082           0.003952          -0.034271   \n",
       "ENSG00000204897.6           -0.027296           0.083848           0.089167   \n",
       "ENSG00000224114.1           -0.016157          -0.043620           0.033866   \n",
       "\n",
       "gene_ens_id         ENSG00000139946.9  ENSG00000104951.15  ENSG00000244267.1  \\\n",
       "gene_ens_id                                                                    \n",
       "ENSG00000129824.15          -0.000594            0.070636          -0.022520   \n",
       "ENSG00000135443.8            0.084842            0.036756           0.014813   \n",
       "ENSG00000134184.12           0.037600           -0.082645           0.007562   \n",
       "ENSG00000204897.6            0.030968            0.009919           0.011464   \n",
       "ENSG00000224114.1            0.036977            0.043580          -0.022898   \n",
       "\n",
       "gene_ens_id         ENSG00000235297.3  ENSG00000275426.1  ENSG00000100504.16  \n",
       "gene_ens_id                                                                   \n",
       "ENSG00000129824.15           0.050635           0.030483            0.130514  \n",
       "ENSG00000135443.8            0.045234           0.020591            0.016381  \n",
       "ENSG00000134184.12           0.014705          -0.000948           -0.052054  \n",
       "ENSG00000204897.6            0.086710           0.014844            0.025546  \n",
       "ENSG00000224114.1            0.234880           0.025996            0.055765  \n",
       "\n",
       "[5 rows x 5000 columns]"
      ]
     },
     "execution_count": 24,
     "metadata": {},
     "output_type": "execute_result"
    }
   ],
   "source": [
    "spearman_df.head()"
   ]
  },
  {
   "cell_type": "code",
   "execution_count": 25,
   "id": "ccd00c49-b2b0-42b3-97e9-a444bffc0654",
   "metadata": {
    "execution": {
     "iopub.execute_input": "2021-12-21T19:14:14.555053Z",
     "iopub.status.busy": "2021-12-21T19:14:14.554517Z",
     "iopub.status.idle": "2021-12-21T19:14:14.556654Z",
     "shell.execute_reply": "2021-12-21T19:14:14.556222Z"
    },
    "papermill": {
     "duration": 0.191048,
     "end_time": "2021-12-21T19:14:14.556759",
     "exception": false,
     "start_time": "2021-12-21T19:14:14.365711",
     "status": "completed"
    },
    "tags": []
   },
   "outputs": [],
   "source": [
    "assert data.index.equals(spearman_df.index)"
   ]
  },
  {
   "cell_type": "markdown",
   "id": "d8ad7af3-5821-4501-b336-c01a4cfb78ec",
   "metadata": {
    "papermill": {
     "duration": 0.187351,
     "end_time": "2021-12-21T19:14:14.931550",
     "exception": false,
     "start_time": "2021-12-21T19:14:14.744199",
     "status": "completed"
    },
    "tags": []
   },
   "source": [
    "## Merge"
   ]
  },
  {
   "cell_type": "code",
   "execution_count": 26,
   "id": "fbeddbfc-4c0b-4116-a5f8-7c81ad810af6",
   "metadata": {
    "execution": {
     "iopub.execute_input": "2021-12-21T19:14:15.326369Z",
     "iopub.status.busy": "2021-12-21T19:14:15.325759Z",
     "iopub.status.idle": "2021-12-21T19:14:15.328600Z",
     "shell.execute_reply": "2021-12-21T19:14:15.327813Z"
    },
    "papermill": {
     "duration": 0.207608,
     "end_time": "2021-12-21T19:14:15.328759",
     "exception": false,
     "start_time": "2021-12-21T19:14:15.121151",
     "status": "completed"
    },
    "tags": []
   },
   "outputs": [],
   "source": [
    "def get_upper_triag(data, k=1):\n",
    "    mask = np.triu(np.ones(data.shape), k=k).astype(bool)\n",
    "    return data.where(mask)"
   ]
  },
  {
   "cell_type": "code",
   "execution_count": 27,
   "id": "0f647602-5e63-4f49-b88f-9dbc175d1967",
   "metadata": {
    "execution": {
     "iopub.execute_input": "2021-12-21T19:14:15.843645Z",
     "iopub.status.busy": "2021-12-21T19:14:15.842900Z",
     "iopub.status.idle": "2021-12-21T19:14:15.845869Z",
     "shell.execute_reply": "2021-12-21T19:14:15.846504Z"
    },
    "papermill": {
     "duration": 0.296673,
     "end_time": "2021-12-21T19:14:15.846706",
     "exception": false,
     "start_time": "2021-12-21T19:14:15.550033",
     "status": "completed"
    },
    "tags": []
   },
   "outputs": [],
   "source": [
    "# # make sure genes match\n",
    "# clustermatch_df = clustermatch_df.loc[pearson_df.index, pearson_df.columns]"
   ]
  },
  {
   "cell_type": "code",
   "execution_count": 28,
   "id": "ae82d327-4f1b-413c-a7e9-c5b82268f013",
   "metadata": {
    "execution": {
     "iopub.execute_input": "2021-12-21T19:14:16.248204Z",
     "iopub.status.busy": "2021-12-21T19:14:16.247503Z",
     "iopub.status.idle": "2021-12-21T19:14:16.541955Z",
     "shell.execute_reply": "2021-12-21T19:14:16.542459Z"
    },
    "papermill": {
     "duration": 0.497374,
     "end_time": "2021-12-21T19:14:16.542670",
     "exception": false,
     "start_time": "2021-12-21T19:14:16.045296",
     "status": "completed"
    },
    "tags": []
   },
   "outputs": [],
   "source": [
    "clustermatch_df = get_upper_triag(clustermatch_df)"
   ]
  },
  {
   "cell_type": "code",
   "execution_count": 29,
   "id": "b51f60c1-8f81-45ae-a89a-11ae721ed8d2",
   "metadata": {
    "execution": {
     "iopub.execute_input": "2021-12-21T19:14:17.063287Z",
     "iopub.status.busy": "2021-12-21T19:14:17.062636Z",
     "iopub.status.idle": "2021-12-21T19:14:17.346301Z",
     "shell.execute_reply": "2021-12-21T19:14:17.345658Z"
    },
    "papermill": {
     "duration": 0.613232,
     "end_time": "2021-12-21T19:14:17.346446",
     "exception": false,
     "start_time": "2021-12-21T19:14:16.733214",
     "status": "completed"
    },
    "tags": []
   },
   "outputs": [],
   "source": [
    "clustermatch_df = clustermatch_df.unstack().rename_axis((None, None)).dropna()"
   ]
  },
  {
   "cell_type": "code",
   "execution_count": 30,
   "id": "6dcab8f8-b51f-4120-8f3d-6322ddf0fc9b",
   "metadata": {
    "execution": {
     "iopub.execute_input": "2021-12-21T19:14:17.748702Z",
     "iopub.status.busy": "2021-12-21T19:14:17.748104Z",
     "iopub.status.idle": "2021-12-21T19:14:17.750813Z",
     "shell.execute_reply": "2021-12-21T19:14:17.751247Z"
    },
    "papermill": {
     "duration": 0.195848,
     "end_time": "2021-12-21T19:14:17.751404",
     "exception": false,
     "start_time": "2021-12-21T19:14:17.555556",
     "status": "completed"
    },
    "tags": []
   },
   "outputs": [
    {
     "data": {
      "text/plain": [
       "(12497500,)"
      ]
     },
     "execution_count": 30,
     "metadata": {},
     "output_type": "execute_result"
    }
   ],
   "source": [
    "clustermatch_df.shape"
   ]
  },
  {
   "cell_type": "code",
   "execution_count": 31,
   "id": "9b1d8344-94ab-449e-803b-fbfbb6c0a152",
   "metadata": {
    "execution": {
     "iopub.execute_input": "2021-12-21T19:14:18.134502Z",
     "iopub.status.busy": "2021-12-21T19:14:18.133950Z",
     "iopub.status.idle": "2021-12-21T19:14:18.136558Z",
     "shell.execute_reply": "2021-12-21T19:14:18.136999Z"
    },
    "papermill": {
     "duration": 0.198441,
     "end_time": "2021-12-21T19:14:18.137132",
     "exception": false,
     "start_time": "2021-12-21T19:14:17.938691",
     "status": "completed"
    },
    "tags": []
   },
   "outputs": [
    {
     "data": {
      "text/plain": [
       "ENSG00000135443.8   ENSG00000129824.15    0.006389\n",
       "ENSG00000134184.12  ENSG00000129824.15    0.004035\n",
       "                    ENSG00000135443.8     0.003032\n",
       "ENSG00000204897.6   ENSG00000129824.15    0.005282\n",
       "                    ENSG00000135443.8     0.430518\n",
       "dtype: float64"
      ]
     },
     "execution_count": 31,
     "metadata": {},
     "output_type": "execute_result"
    }
   ],
   "source": [
    "clustermatch_df.head()"
   ]
  },
  {
   "cell_type": "code",
   "execution_count": 32,
   "id": "2d15b513-c949-4b43-96e7-9eb3f30fc5ef",
   "metadata": {
    "execution": {
     "iopub.execute_input": "2021-12-21T19:14:18.539085Z",
     "iopub.status.busy": "2021-12-21T19:14:18.538331Z",
     "iopub.status.idle": "2021-12-21T19:14:18.825282Z",
     "shell.execute_reply": "2021-12-21T19:14:18.825792Z"
    },
    "papermill": {
     "duration": 0.495242,
     "end_time": "2021-12-21T19:14:18.825940",
     "exception": false,
     "start_time": "2021-12-21T19:14:18.330698",
     "status": "completed"
    },
    "tags": []
   },
   "outputs": [],
   "source": [
    "pearson_df = get_upper_triag(pearson_df)"
   ]
  },
  {
   "cell_type": "code",
   "execution_count": 33,
   "id": "62e67326-bdd5-4710-9bbe-da0ca57ec466",
   "metadata": {
    "execution": {
     "iopub.execute_input": "2021-12-21T19:14:19.212060Z",
     "iopub.status.busy": "2021-12-21T19:14:19.211277Z",
     "iopub.status.idle": "2021-12-21T19:14:19.640986Z",
     "shell.execute_reply": "2021-12-21T19:14:19.640313Z"
    },
    "papermill": {
     "duration": 0.623239,
     "end_time": "2021-12-21T19:14:19.641124",
     "exception": false,
     "start_time": "2021-12-21T19:14:19.017885",
     "status": "completed"
    },
    "tags": []
   },
   "outputs": [],
   "source": [
    "# make pearson abs\n",
    "pearson_df = pearson_df.unstack().rename_axis((None, None)).dropna().abs()"
   ]
  },
  {
   "cell_type": "code",
   "execution_count": 34,
   "id": "1a357889-1e00-4ff3-b0d1-a65ae9254824",
   "metadata": {
    "execution": {
     "iopub.execute_input": "2021-12-21T19:14:20.025963Z",
     "iopub.status.busy": "2021-12-21T19:14:20.025232Z",
     "iopub.status.idle": "2021-12-21T19:14:20.029149Z",
     "shell.execute_reply": "2021-12-21T19:14:20.029585Z"
    },
    "papermill": {
     "duration": 0.195894,
     "end_time": "2021-12-21T19:14:20.029723",
     "exception": false,
     "start_time": "2021-12-21T19:14:19.833829",
     "status": "completed"
    },
    "tags": []
   },
   "outputs": [
    {
     "data": {
      "text/plain": [
       "(12497500,)"
      ]
     },
     "execution_count": 34,
     "metadata": {},
     "output_type": "execute_result"
    }
   ],
   "source": [
    "pearson_df.shape"
   ]
  },
  {
   "cell_type": "code",
   "execution_count": 35,
   "id": "1e2a38f8-8e02-490f-8e8f-4fee1b1159fa",
   "metadata": {
    "execution": {
     "iopub.execute_input": "2021-12-21T19:14:20.424927Z",
     "iopub.status.busy": "2021-12-21T19:14:20.424184Z",
     "iopub.status.idle": "2021-12-21T19:14:20.429250Z",
     "shell.execute_reply": "2021-12-21T19:14:20.429717Z"
    },
    "papermill": {
     "duration": 0.207244,
     "end_time": "2021-12-21T19:14:20.429860",
     "exception": false,
     "start_time": "2021-12-21T19:14:20.222616",
     "status": "completed"
    },
    "tags": []
   },
   "outputs": [
    {
     "data": {
      "text/plain": [
       "ENSG00000135443.8   ENSG00000129824.15    0.080008\n",
       "ENSG00000134184.12  ENSG00000129824.15    0.092589\n",
       "                    ENSG00000135443.8     0.036381\n",
       "ENSG00000204897.6   ENSG00000129824.15    0.059517\n",
       "                    ENSG00000135443.8     0.884581\n",
       "dtype: float64"
      ]
     },
     "execution_count": 35,
     "metadata": {},
     "output_type": "execute_result"
    }
   ],
   "source": [
    "pearson_df.head()"
   ]
  },
  {
   "cell_type": "code",
   "execution_count": 36,
   "id": "002f33f3-ebcf-4755-aa7b-82802e115ee0",
   "metadata": {
    "execution": {
     "iopub.execute_input": "2021-12-21T19:14:20.838454Z",
     "iopub.status.busy": "2021-12-21T19:14:20.837848Z",
     "iopub.status.idle": "2021-12-21T19:14:24.903842Z",
     "shell.execute_reply": "2021-12-21T19:14:24.903277Z"
    },
    "papermill": {
     "duration": 4.268481,
     "end_time": "2021-12-21T19:14:24.903958",
     "exception": false,
     "start_time": "2021-12-21T19:14:20.635477",
     "status": "completed"
    },
    "tags": []
   },
   "outputs": [],
   "source": [
    "assert clustermatch_df.index.equals(pearson_df.index)"
   ]
  },
  {
   "cell_type": "code",
   "execution_count": 37,
   "id": "2b1a29c7-221a-4e92-a6ac-e8f3932178e3",
   "metadata": {
    "execution": {
     "iopub.execute_input": "2021-12-21T19:14:25.301645Z",
     "iopub.status.busy": "2021-12-21T19:14:25.300922Z",
     "iopub.status.idle": "2021-12-21T19:14:25.605820Z",
     "shell.execute_reply": "2021-12-21T19:14:25.605200Z"
    },
    "papermill": {
     "duration": 0.509618,
     "end_time": "2021-12-21T19:14:25.605954",
     "exception": false,
     "start_time": "2021-12-21T19:14:25.096336",
     "status": "completed"
    },
    "tags": []
   },
   "outputs": [],
   "source": [
    "spearman_df = get_upper_triag(spearman_df)"
   ]
  },
  {
   "cell_type": "code",
   "execution_count": 38,
   "id": "0969a867-08ad-43c4-a0ca-9617867e0c50",
   "metadata": {
    "execution": {
     "iopub.execute_input": "2021-12-21T19:14:26.270931Z",
     "iopub.status.busy": "2021-12-21T19:14:26.270340Z",
     "iopub.status.idle": "2021-12-21T19:14:26.618464Z",
     "shell.execute_reply": "2021-12-21T19:14:26.617778Z"
    },
    "papermill": {
     "duration": 0.776356,
     "end_time": "2021-12-21T19:14:26.618602",
     "exception": false,
     "start_time": "2021-12-21T19:14:25.842246",
     "status": "completed"
    },
    "tags": []
   },
   "outputs": [],
   "source": [
    "# make spearman abs\n",
    "spearman_df = spearman_df.unstack().rename_axis((None, None)).dropna().abs()"
   ]
  },
  {
   "cell_type": "code",
   "execution_count": 39,
   "id": "866bbc4c-ef0b-430a-8d17-7edadd5b2fd2",
   "metadata": {
    "execution": {
     "iopub.execute_input": "2021-12-21T19:14:27.029244Z",
     "iopub.status.busy": "2021-12-21T19:14:27.028626Z",
     "iopub.status.idle": "2021-12-21T19:14:27.031361Z",
     "shell.execute_reply": "2021-12-21T19:14:27.031823Z"
    },
    "papermill": {
     "duration": 0.204642,
     "end_time": "2021-12-21T19:14:27.031955",
     "exception": false,
     "start_time": "2021-12-21T19:14:26.827313",
     "status": "completed"
    },
    "tags": []
   },
   "outputs": [
    {
     "data": {
      "text/plain": [
       "(12497500,)"
      ]
     },
     "execution_count": 39,
     "metadata": {},
     "output_type": "execute_result"
    }
   ],
   "source": [
    "spearman_df.shape"
   ]
  },
  {
   "cell_type": "code",
   "execution_count": 40,
   "id": "4fc27d0e-87a0-40a7-9f53-ea8a215e4fee",
   "metadata": {
    "execution": {
     "iopub.execute_input": "2021-12-21T19:14:27.450806Z",
     "iopub.status.busy": "2021-12-21T19:14:27.450143Z",
     "iopub.status.idle": "2021-12-21T19:14:27.453026Z",
     "shell.execute_reply": "2021-12-21T19:14:27.453466Z"
    },
    "papermill": {
     "duration": 0.205463,
     "end_time": "2021-12-21T19:14:27.453601",
     "exception": false,
     "start_time": "2021-12-21T19:14:27.248138",
     "status": "completed"
    },
    "tags": []
   },
   "outputs": [
    {
     "data": {
      "text/plain": [
       "ENSG00000135443.8   ENSG00000129824.15    0.026356\n",
       "ENSG00000134184.12  ENSG00000129824.15    0.048471\n",
       "                    ENSG00000135443.8     0.095450\n",
       "ENSG00000204897.6   ENSG00000129824.15    0.026656\n",
       "                    ENSG00000135443.8     0.828284\n",
       "dtype: float64"
      ]
     },
     "execution_count": 40,
     "metadata": {},
     "output_type": "execute_result"
    }
   ],
   "source": [
    "spearman_df.head()"
   ]
  },
  {
   "cell_type": "code",
   "execution_count": 41,
   "id": "92999223-d496-43b4-8381-172d55030e21",
   "metadata": {
    "execution": {
     "iopub.execute_input": "2021-12-21T19:14:27.876346Z",
     "iopub.status.busy": "2021-12-21T19:14:27.875582Z",
     "iopub.status.idle": "2021-12-21T19:14:32.265825Z",
     "shell.execute_reply": "2021-12-21T19:14:32.265284Z"
    },
    "papermill": {
     "duration": 4.612801,
     "end_time": "2021-12-21T19:14:32.265944",
     "exception": false,
     "start_time": "2021-12-21T19:14:27.653143",
     "status": "completed"
    },
    "tags": []
   },
   "outputs": [],
   "source": [
    "assert clustermatch_df.index.equals(spearman_df.index)"
   ]
  },
  {
   "cell_type": "code",
   "execution_count": 42,
   "id": "aaada007-6ad1-4adb-91a4-e456f95231f5",
   "metadata": {
    "execution": {
     "iopub.execute_input": "2021-12-21T19:14:32.730803Z",
     "iopub.status.busy": "2021-12-21T19:14:32.730137Z",
     "iopub.status.idle": "2021-12-21T19:15:42.957950Z",
     "shell.execute_reply": "2021-12-21T19:15:42.957442Z"
    },
    "papermill": {
     "duration": 70.485349,
     "end_time": "2021-12-21T19:15:42.958073",
     "exception": false,
     "start_time": "2021-12-21T19:14:32.472724",
     "status": "completed"
    },
    "tags": []
   },
   "outputs": [],
   "source": [
    "df = pd.DataFrame(\n",
    "    {\n",
    "        \"clustermatch\": clustermatch_df,\n",
    "        \"pearson\": pearson_df,\n",
    "        \"spearman\": spearman_df,\n",
    "    }\n",
    ").sort_index()"
   ]
  },
  {
   "cell_type": "code",
   "execution_count": 43,
   "id": "7613642e-0a3d-442d-8511-d4acd6271194",
   "metadata": {
    "execution": {
     "iopub.execute_input": "2021-12-21T19:15:43.353850Z",
     "iopub.status.busy": "2021-12-21T19:15:43.353223Z",
     "iopub.status.idle": "2021-12-21T19:15:43.384969Z",
     "shell.execute_reply": "2021-12-21T19:15:43.385516Z"
    },
    "papermill": {
     "duration": 0.229546,
     "end_time": "2021-12-21T19:15:43.385679",
     "exception": false,
     "start_time": "2021-12-21T19:15:43.156133",
     "status": "completed"
    },
    "tags": []
   },
   "outputs": [],
   "source": [
    "assert not df.isna().any().any()"
   ]
  },
  {
   "cell_type": "code",
   "execution_count": 44,
   "id": "baf842f9-d6c8-48b7-bffe-8eb05c73d7de",
   "metadata": {
    "execution": {
     "iopub.execute_input": "2021-12-21T19:15:43.800243Z",
     "iopub.status.busy": "2021-12-21T19:15:43.799677Z",
     "iopub.status.idle": "2021-12-21T19:15:43.802465Z",
     "shell.execute_reply": "2021-12-21T19:15:43.802907Z"
    },
    "papermill": {
     "duration": 0.206802,
     "end_time": "2021-12-21T19:15:43.803044",
     "exception": false,
     "start_time": "2021-12-21T19:15:43.596242",
     "status": "completed"
    },
    "tags": []
   },
   "outputs": [
    {
     "data": {
      "text/plain": [
       "(12497500, 3)"
      ]
     },
     "execution_count": 44,
     "metadata": {},
     "output_type": "execute_result"
    }
   ],
   "source": [
    "df.shape"
   ]
  },
  {
   "cell_type": "code",
   "execution_count": 45,
   "id": "3bd226fe-0c9d-4b69-8250-e22ccaf3730f",
   "metadata": {
    "execution": {
     "iopub.execute_input": "2021-12-21T19:15:44.209367Z",
     "iopub.status.busy": "2021-12-21T19:15:44.208792Z",
     "iopub.status.idle": "2021-12-21T19:15:44.211713Z",
     "shell.execute_reply": "2021-12-21T19:15:44.212168Z"
    },
    "papermill": {
     "duration": 0.204806,
     "end_time": "2021-12-21T19:15:44.212313",
     "exception": false,
     "start_time": "2021-12-21T19:15:44.007507",
     "status": "completed"
    },
    "tags": []
   },
   "outputs": [
    {
     "data": {
      "text/html": [
       "<div>\n",
       "<style scoped>\n",
       "    .dataframe tbody tr th:only-of-type {\n",
       "        vertical-align: middle;\n",
       "    }\n",
       "\n",
       "    .dataframe tbody tr th {\n",
       "        vertical-align: top;\n",
       "    }\n",
       "\n",
       "    .dataframe thead th {\n",
       "        text-align: right;\n",
       "    }\n",
       "</style>\n",
       "<table border=\"1\" class=\"dataframe\">\n",
       "  <thead>\n",
       "    <tr style=\"text-align: right;\">\n",
       "      <th></th>\n",
       "      <th></th>\n",
       "      <th>clustermatch</th>\n",
       "      <th>pearson</th>\n",
       "      <th>spearman</th>\n",
       "    </tr>\n",
       "  </thead>\n",
       "  <tbody>\n",
       "    <tr>\n",
       "      <th rowspan=\"5\" valign=\"top\">ENSG00000000005.5</th>\n",
       "      <th>ENSG00000004776.12</th>\n",
       "      <td>0.137394</td>\n",
       "      <td>0.357174</td>\n",
       "      <td>0.494260</td>\n",
       "    </tr>\n",
       "    <tr>\n",
       "      <th>ENSG00000004799.7</th>\n",
       "      <td>0.008434</td>\n",
       "      <td>0.123811</td>\n",
       "      <td>0.018815</td>\n",
       "    </tr>\n",
       "    <tr>\n",
       "      <th>ENSG00000006059.3</th>\n",
       "      <td>0.039085</td>\n",
       "      <td>0.183400</td>\n",
       "      <td>0.275066</td>\n",
       "    </tr>\n",
       "    <tr>\n",
       "      <th>ENSG00000007216.14</th>\n",
       "      <td>0.021553</td>\n",
       "      <td>0.079729</td>\n",
       "      <td>0.207325</td>\n",
       "    </tr>\n",
       "    <tr>\n",
       "      <th>ENSG00000007908.15</th>\n",
       "      <td>0.017744</td>\n",
       "      <td>0.052055</td>\n",
       "      <td>0.189770</td>\n",
       "    </tr>\n",
       "  </tbody>\n",
       "</table>\n",
       "</div>"
      ],
      "text/plain": [
       "                                      clustermatch   pearson  spearman\n",
       "ENSG00000000005.5 ENSG00000004776.12      0.137394  0.357174  0.494260\n",
       "                  ENSG00000004799.7       0.008434  0.123811  0.018815\n",
       "                  ENSG00000006059.3       0.039085  0.183400  0.275066\n",
       "                  ENSG00000007216.14      0.021553  0.079729  0.207325\n",
       "                  ENSG00000007908.15      0.017744  0.052055  0.189770"
      ]
     },
     "execution_count": 45,
     "metadata": {},
     "output_type": "execute_result"
    }
   ],
   "source": [
    "df.head()"
   ]
  },
  {
   "cell_type": "markdown",
   "id": "24a50051-141d-4ba0-ad33-3123b4afc1b6",
   "metadata": {
    "papermill": {
     "duration": 0.204432,
     "end_time": "2021-12-21T19:15:44.615684",
     "exception": false,
     "start_time": "2021-12-21T19:15:44.411252",
     "status": "completed"
    },
    "tags": []
   },
   "source": [
    "# Save"
   ]
  },
  {
   "cell_type": "code",
   "execution_count": 46,
   "id": "2f20fdf4-a44a-48c0-bbe1-8def473ac2a5",
   "metadata": {
    "execution": {
     "iopub.execute_input": "2021-12-21T19:15:45.027906Z",
     "iopub.status.busy": "2021-12-21T19:15:45.027230Z",
     "iopub.status.idle": "2021-12-21T19:15:45.849367Z",
     "shell.execute_reply": "2021-12-21T19:15:45.850045Z"
    },
    "papermill": {
     "duration": 1.03584,
     "end_time": "2021-12-21T19:15:45.850241",
     "exception": false,
     "start_time": "2021-12-21T19:15:44.814401",
     "status": "completed"
    },
    "tags": []
   },
   "outputs": [],
   "source": [
    "df.to_pickle(OUTPUT_FILE)"
   ]
  },
  {
   "cell_type": "code",
   "execution_count": null,
   "id": "8f464a7f-b76f-4898-8bf5-074eabd33626",
   "metadata": {
    "papermill": {
     "duration": 0.204077,
     "end_time": "2021-12-21T19:15:46.271011",
     "exception": false,
     "start_time": "2021-12-21T19:15:46.066934",
     "status": "completed"
    },
    "tags": []
   },
   "outputs": [],
   "source": []
  }
 ],
 "metadata": {
  "jupytext": {
   "cell_metadata_filter": "all,-execution,-papermill,-trusted"
  },
  "kernelspec": {
   "display_name": "Python 3 (ipykernel)",
   "language": "python",
   "name": "python3"
  },
  "language_info": {
   "codemirror_mode": {
    "name": "ipython",
    "version": 3
   },
   "file_extension": ".py",
   "mimetype": "text/x-python",
   "name": "python",
   "nbconvert_exporter": "python",
   "pygments_lexer": "ipython3",
   "version": "3.9.7"
  },
  "papermill": {
   "default_parameters": {},
   "duration": 111.561691,
   "end_time": "2021-12-21T19:15:46.784233",
   "environment_variables": {},
   "exception": null,
   "input_path": "nbs/10_compute_correlations/05_gtex_v8/50-combine_all.ipynb",
   "output_path": "nbs/10_compute_correlations/05_gtex_v8/50-combine_all.run.ipynb",
   "parameters": {
    "GTEX_TISSUE": "skin_sun_exposed_lower_leg"
   },
   "start_time": "2021-12-21T19:13:55.222542",
   "version": "2.3.3"
  }
 },
 "nbformat": 4,
 "nbformat_minor": 5
}
