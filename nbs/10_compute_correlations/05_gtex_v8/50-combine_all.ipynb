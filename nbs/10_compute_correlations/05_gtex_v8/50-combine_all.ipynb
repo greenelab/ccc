{
 "cells": [
  {
   "cell_type": "markdown",
   "id": "c1948eb4-fb63-4fad-8243-bcd57b98def3",
   "metadata": {
    "papermill": {
     "duration": 0.036392,
     "end_time": "2022-01-24T16:38:18.438081",
     "exception": false,
     "start_time": "2022-01-24T16:38:18.401689",
     "status": "completed"
    },
    "tags": []
   },
   "source": [
    "# Description"
   ]
  },
  {
   "cell_type": "markdown",
   "id": "0abb1d73-c786-4c6d-9dc2-b9243e5183e2",
   "metadata": {
    "papermill": {
     "duration": 0.035102,
     "end_time": "2022-01-24T16:38:18.508086",
     "exception": false,
     "start_time": "2022-01-24T16:38:18.472984",
     "status": "completed"
    },
    "tags": []
   },
   "source": [
    "It combines all coefficient values in one tissue (see `Settings` below) into a single dataframe for easier processing later."
   ]
  },
  {
   "cell_type": "markdown",
   "id": "d6252b4c-6d56-4cf0-aecd-5d8c769a3609",
   "metadata": {
    "papermill": {
     "duration": 0.034143,
     "end_time": "2022-01-24T16:38:18.575932",
     "exception": false,
     "start_time": "2022-01-24T16:38:18.541789",
     "status": "completed"
    },
    "tags": []
   },
   "source": [
    "# Modules loading"
   ]
  },
  {
   "cell_type": "code",
   "execution_count": 1,
   "id": "77e9d29d-5307-4b4a-b103-7d1fbd6a7e56",
   "metadata": {
    "execution": {
     "iopub.execute_input": "2022-01-24T16:38:18.651823Z",
     "iopub.status.busy": "2022-01-24T16:38:18.651351Z",
     "iopub.status.idle": "2022-01-24T16:38:18.905016Z",
     "shell.execute_reply": "2022-01-24T16:38:18.904549Z"
    },
    "papermill": {
     "duration": 0.294471,
     "end_time": "2022-01-24T16:38:18.905130",
     "exception": false,
     "start_time": "2022-01-24T16:38:18.610659",
     "status": "completed"
    },
    "tags": []
   },
   "outputs": [],
   "source": [
    "import numpy as np\n",
    "import pandas as pd\n",
    "\n",
    "from clustermatch import conf"
   ]
  },
  {
   "cell_type": "markdown",
   "id": "262eb535-3e5d-43d7-9efd-bd6cfdac9190",
   "metadata": {
    "papermill": {
     "duration": 0.033864,
     "end_time": "2022-01-24T16:38:18.974013",
     "exception": false,
     "start_time": "2022-01-24T16:38:18.940149",
     "status": "completed"
    },
    "tags": []
   },
   "source": [
    "# Settings"
   ]
  },
  {
   "cell_type": "code",
   "execution_count": 2,
   "id": "2d2bd14a-a40d-4710-98c2-587148d0f532",
   "metadata": {
    "execution": {
     "iopub.execute_input": "2022-01-24T16:38:19.045447Z",
     "iopub.status.busy": "2022-01-24T16:38:19.045005Z",
     "iopub.status.idle": "2022-01-24T16:38:19.047281Z",
     "shell.execute_reply": "2022-01-24T16:38:19.046835Z"
    },
    "papermill": {
     "duration": 0.039171,
     "end_time": "2022-01-24T16:38:19.047372",
     "exception": false,
     "start_time": "2022-01-24T16:38:19.008201",
     "status": "completed"
    },
    "tags": [
     "parameters"
    ]
   },
   "outputs": [],
   "source": [
    "DATASET_CONFIG = conf.GTEX\n",
    "# whole blood by default, but this is a parameters cells that can be changed when running papermill\n",
    "GTEX_TISSUE = \"whole_blood\"\n",
    "GENE_SEL_STRATEGY = \"var_pc_log2\""
   ]
  },
  {
   "cell_type": "code",
   "execution_count": 3,
   "id": "9554e81e-3e31-475c-a984-e29f433c56c1",
   "metadata": {
    "execution": {
     "iopub.execute_input": "2022-01-24T16:38:19.119200Z",
     "iopub.status.busy": "2022-01-24T16:38:19.118746Z",
     "iopub.status.idle": "2022-01-24T16:38:19.120664Z",
     "shell.execute_reply": "2022-01-24T16:38:19.120274Z"
    },
    "papermill": {
     "duration": 0.038767,
     "end_time": "2022-01-24T16:38:19.120757",
     "exception": false,
     "start_time": "2022-01-24T16:38:19.081990",
     "status": "completed"
    },
    "tags": []
   },
   "outputs": [],
   "source": [
    "assert GTEX_TISSUE is not None, \"Tissue not selected\""
   ]
  },
  {
   "cell_type": "markdown",
   "id": "eec9bb6d-4ba2-4817-9b36-bc8e68a2beae",
   "metadata": {
    "papermill": {
     "duration": 0.034613,
     "end_time": "2022-01-24T16:38:19.190105",
     "exception": false,
     "start_time": "2022-01-24T16:38:19.155492",
     "status": "completed"
    },
    "tags": []
   },
   "source": [
    "# Paths"
   ]
  },
  {
   "cell_type": "code",
   "execution_count": 4,
   "id": "3c15c5b5-1b4f-456a-a548-8fc23e03f0ae",
   "metadata": {
    "execution": {
     "iopub.execute_input": "2022-01-24T16:38:19.267301Z",
     "iopub.status.busy": "2022-01-24T16:38:19.265937Z",
     "iopub.status.idle": "2022-01-24T16:38:19.270494Z",
     "shell.execute_reply": "2022-01-24T16:38:19.269984Z"
    },
    "papermill": {
     "duration": 0.045794,
     "end_time": "2022-01-24T16:38:19.270584",
     "exception": false,
     "start_time": "2022-01-24T16:38:19.224790",
     "status": "completed"
    },
    "tags": []
   },
   "outputs": [
    {
     "data": {
      "text/plain": [
       "PosixPath('/opt/data/results/gtex_v8/gene_selection/gtex_v8_data_whole_blood-var_pc_log2.pkl')"
      ]
     },
     "metadata": {},
     "output_type": "display_data"
    }
   ],
   "source": [
    "INPUT_GENE_EXPR_DATA_FILE = (\n",
    "    DATASET_CONFIG[\"GENE_SELECTION_DIR\"]\n",
    "    / f\"gtex_v8_data_{GTEX_TISSUE}-{GENE_SEL_STRATEGY}.pkl\"\n",
    ")\n",
    "display(INPUT_GENE_EXPR_DATA_FILE)\n",
    "\n",
    "assert INPUT_GENE_EXPR_DATA_FILE.exists()"
   ]
  },
  {
   "cell_type": "code",
   "execution_count": 5,
   "id": "34c70f63-0878-4f29-9ea5-2570e6f9f33b",
   "metadata": {
    "execution": {
     "iopub.execute_input": "2022-01-24T16:38:19.344392Z",
     "iopub.status.busy": "2022-01-24T16:38:19.343807Z",
     "iopub.status.idle": "2022-01-24T16:38:19.346520Z",
     "shell.execute_reply": "2022-01-24T16:38:19.346106Z"
    },
    "papermill": {
     "duration": 0.040692,
     "end_time": "2022-01-24T16:38:19.346616",
     "exception": false,
     "start_time": "2022-01-24T16:38:19.305924",
     "status": "completed"
    },
    "tags": []
   },
   "outputs": [
    {
     "data": {
      "text/plain": [
       "PosixPath('/opt/data/results/gtex_v8/similarity_matrices/gtex_v8_data_{tissue}-{gene_sel_strategy}-{corr_method}.pkl')"
      ]
     },
     "metadata": {},
     "output_type": "display_data"
    }
   ],
   "source": [
    "INPUT_CORR_FILE_TEMPLATE = (\n",
    "    DATASET_CONFIG[\"SIMILARITY_MATRICES_DIR\"]\n",
    "    / DATASET_CONFIG[\"SIMILARITY_MATRIX_FILENAME_TEMPLATE\"]\n",
    ")\n",
    "display(INPUT_CORR_FILE_TEMPLATE)"
   ]
  },
  {
   "cell_type": "code",
   "execution_count": 6,
   "id": "92b9bfd4",
   "metadata": {
    "execution": {
     "iopub.execute_input": "2022-01-24T16:38:19.448169Z",
     "iopub.status.busy": "2022-01-24T16:38:19.447581Z",
     "iopub.status.idle": "2022-01-24T16:38:19.450005Z",
     "shell.execute_reply": "2022-01-24T16:38:19.450464Z"
    },
    "papermill": {
     "duration": 0.067744,
     "end_time": "2022-01-24T16:38:19.450604",
     "exception": false,
     "start_time": "2022-01-24T16:38:19.382860",
     "status": "completed"
    },
    "tags": []
   },
   "outputs": [
    {
     "data": {
      "text/plain": [
       "PosixPath('/opt/data/results/gtex_v8/similarity_matrices/gtex_v8_data_whole_blood-var_pc_log2-all.pkl')"
      ]
     },
     "metadata": {},
     "output_type": "display_data"
    }
   ],
   "source": [
    "OUTPUT_FILE = DATASET_CONFIG[\"SIMILARITY_MATRICES_DIR\"] / str(\n",
    "    INPUT_CORR_FILE_TEMPLATE\n",
    ").format(\n",
    "    tissue=GTEX_TISSUE,\n",
    "    gene_sel_strategy=GENE_SEL_STRATEGY,\n",
    "    corr_method=\"all\",\n",
    ")\n",
    "display(OUTPUT_FILE)"
   ]
  },
  {
   "cell_type": "markdown",
   "id": "e2746a93-d631-4346-9d10-a5c1f9f8de4a",
   "metadata": {
    "papermill": {
     "duration": 0.034671,
     "end_time": "2022-01-24T16:38:19.527714",
     "exception": false,
     "start_time": "2022-01-24T16:38:19.493043",
     "status": "completed"
    },
    "tags": []
   },
   "source": [
    "# Load data"
   ]
  },
  {
   "cell_type": "markdown",
   "id": "76ab9bbb-c93f-4154-b8ba-81934beb14bc",
   "metadata": {
    "papermill": {
     "duration": 0.035436,
     "end_time": "2022-01-24T16:38:19.597801",
     "exception": false,
     "start_time": "2022-01-24T16:38:19.562365",
     "status": "completed"
    },
    "tags": []
   },
   "source": [
    "## Gene Ensembl ID -> Symbol mapping"
   ]
  },
  {
   "cell_type": "code",
   "execution_count": 7,
   "id": "39b30f9d-d55b-440b-bb27-d5dc32e43780",
   "metadata": {
    "execution": {
     "iopub.execute_input": "2022-01-24T16:38:19.671572Z",
     "iopub.status.busy": "2022-01-24T16:38:19.671116Z",
     "iopub.status.idle": "2022-01-24T16:38:19.684968Z",
     "shell.execute_reply": "2022-01-24T16:38:19.685323Z"
    },
    "papermill": {
     "duration": 0.052701,
     "end_time": "2022-01-24T16:38:19.685447",
     "exception": false,
     "start_time": "2022-01-24T16:38:19.632746",
     "status": "completed"
    },
    "tags": []
   },
   "outputs": [],
   "source": [
    "gene_map = pd.read_pickle(\n",
    "    DATASET_CONFIG[\"DATA_DIR\"] / \"gtex_gene_id_symbol_mappings.pkl\"\n",
    ")"
   ]
  },
  {
   "cell_type": "code",
   "execution_count": 8,
   "id": "7a6eabb9-80c7-4711-84b1-b29d5d7adea6",
   "metadata": {
    "execution": {
     "iopub.execute_input": "2022-01-24T16:38:19.773555Z",
     "iopub.status.busy": "2022-01-24T16:38:19.768422Z",
     "iopub.status.idle": "2022-01-24T16:38:19.812305Z",
     "shell.execute_reply": "2022-01-24T16:38:19.811787Z"
    },
    "papermill": {
     "duration": 0.091522,
     "end_time": "2022-01-24T16:38:19.812410",
     "exception": false,
     "start_time": "2022-01-24T16:38:19.720888",
     "status": "completed"
    },
    "tags": []
   },
   "outputs": [],
   "source": [
    "gene_map = gene_map.set_index(\"gene_ens_id\")[\"gene_symbol\"].to_dict()"
   ]
  },
  {
   "cell_type": "code",
   "execution_count": 9,
   "id": "e51b921d-0adf-4006-9602-d075f223c260",
   "metadata": {
    "execution": {
     "iopub.execute_input": "2022-01-24T16:38:19.888262Z",
     "iopub.status.busy": "2022-01-24T16:38:19.887765Z",
     "iopub.status.idle": "2022-01-24T16:38:19.890229Z",
     "shell.execute_reply": "2022-01-24T16:38:19.889778Z"
    },
    "papermill": {
     "duration": 0.04086,
     "end_time": "2022-01-24T16:38:19.890322",
     "exception": false,
     "start_time": "2022-01-24T16:38:19.849462",
     "status": "completed"
    },
    "tags": []
   },
   "outputs": [],
   "source": [
    "assert gene_map[\"ENSG00000145309.5\"] == \"CABS1\""
   ]
  },
  {
   "cell_type": "markdown",
   "id": "f4669dbd-b654-4090-8a72-aa6bf0a6053c",
   "metadata": {
    "papermill": {
     "duration": 0.035296,
     "end_time": "2022-01-24T16:38:19.961721",
     "exception": false,
     "start_time": "2022-01-24T16:38:19.926425",
     "status": "completed"
    },
    "tags": []
   },
   "source": [
    "## Gene expression"
   ]
  },
  {
   "cell_type": "code",
   "execution_count": 10,
   "id": "04690975-e95b-4fc9-ad3e-3d29e2a3ff5a",
   "metadata": {
    "execution": {
     "iopub.execute_input": "2022-01-24T16:38:20.037019Z",
     "iopub.status.busy": "2022-01-24T16:38:20.036549Z",
     "iopub.status.idle": "2022-01-24T16:38:20.049316Z",
     "shell.execute_reply": "2022-01-24T16:38:20.048933Z"
    },
    "papermill": {
     "duration": 0.052313,
     "end_time": "2022-01-24T16:38:20.049416",
     "exception": false,
     "start_time": "2022-01-24T16:38:19.997103",
     "status": "completed"
    },
    "tags": []
   },
   "outputs": [],
   "source": [
    "data = pd.read_pickle(INPUT_GENE_EXPR_DATA_FILE)"
   ]
  },
  {
   "cell_type": "code",
   "execution_count": 11,
   "id": "bebfab6c-9805-4cee-8fc3-be66cb45ade7",
   "metadata": {
    "execution": {
     "iopub.execute_input": "2022-01-24T16:38:20.124139Z",
     "iopub.status.busy": "2022-01-24T16:38:20.123574Z",
     "iopub.status.idle": "2022-01-24T16:38:20.125902Z",
     "shell.execute_reply": "2022-01-24T16:38:20.126259Z"
    },
    "papermill": {
     "duration": 0.040754,
     "end_time": "2022-01-24T16:38:20.126370",
     "exception": false,
     "start_time": "2022-01-24T16:38:20.085616",
     "status": "completed"
    },
    "tags": []
   },
   "outputs": [
    {
     "data": {
      "text/plain": [
       "(5000, 755)"
      ]
     },
     "execution_count": 11,
     "metadata": {},
     "output_type": "execute_result"
    }
   ],
   "source": [
    "data.shape"
   ]
  },
  {
   "cell_type": "code",
   "execution_count": 12,
   "id": "20cdd83a-3bbb-4b7b-95a7-1095713af74c",
   "metadata": {
    "execution": {
     "iopub.execute_input": "2022-01-24T16:38:20.208079Z",
     "iopub.status.busy": "2022-01-24T16:38:20.201971Z",
     "iopub.status.idle": "2022-01-24T16:38:20.221339Z",
     "shell.execute_reply": "2022-01-24T16:38:20.220883Z"
    },
    "papermill": {
     "duration": 0.059745,
     "end_time": "2022-01-24T16:38:20.221437",
     "exception": false,
     "start_time": "2022-01-24T16:38:20.161692",
     "status": "completed"
    },
    "tags": []
   },
   "outputs": [
    {
     "data": {
      "text/html": [
       "<div>\n",
       "<style scoped>\n",
       "    .dataframe tbody tr th:only-of-type {\n",
       "        vertical-align: middle;\n",
       "    }\n",
       "\n",
       "    .dataframe tbody tr th {\n",
       "        vertical-align: top;\n",
       "    }\n",
       "\n",
       "    .dataframe thead th {\n",
       "        text-align: right;\n",
       "    }\n",
       "</style>\n",
       "<table border=\"1\" class=\"dataframe\">\n",
       "  <thead>\n",
       "    <tr style=\"text-align: right;\">\n",
       "      <th></th>\n",
       "      <th>GTEX-111YS-0006-SM-5NQBE</th>\n",
       "      <th>GTEX-1122O-0005-SM-5O99J</th>\n",
       "      <th>GTEX-1128S-0005-SM-5P9HI</th>\n",
       "      <th>GTEX-113IC-0006-SM-5NQ9C</th>\n",
       "      <th>GTEX-113JC-0006-SM-5O997</th>\n",
       "      <th>GTEX-117XS-0005-SM-5PNU6</th>\n",
       "      <th>GTEX-117YW-0005-SM-5NQ8Z</th>\n",
       "      <th>GTEX-1192W-0005-SM-5NQBQ</th>\n",
       "      <th>GTEX-1192X-0005-SM-5NQC3</th>\n",
       "      <th>GTEX-11DXW-0006-SM-5NQ7Y</th>\n",
       "      <th>...</th>\n",
       "      <th>GTEX-ZVE2-0006-SM-51MRW</th>\n",
       "      <th>GTEX-ZVP2-0005-SM-51MRK</th>\n",
       "      <th>GTEX-ZVT2-0005-SM-57WBW</th>\n",
       "      <th>GTEX-ZVT3-0006-SM-51MT9</th>\n",
       "      <th>GTEX-ZVT4-0006-SM-57WB8</th>\n",
       "      <th>GTEX-ZVTK-0006-SM-57WBK</th>\n",
       "      <th>GTEX-ZVZP-0006-SM-51MSW</th>\n",
       "      <th>GTEX-ZVZQ-0006-SM-51MR8</th>\n",
       "      <th>GTEX-ZXES-0005-SM-57WCB</th>\n",
       "      <th>GTEX-ZXG5-0005-SM-57WCN</th>\n",
       "    </tr>\n",
       "    <tr>\n",
       "      <th>gene_ens_id</th>\n",
       "      <th></th>\n",
       "      <th></th>\n",
       "      <th></th>\n",
       "      <th></th>\n",
       "      <th></th>\n",
       "      <th></th>\n",
       "      <th></th>\n",
       "      <th></th>\n",
       "      <th></th>\n",
       "      <th></th>\n",
       "      <th></th>\n",
       "      <th></th>\n",
       "      <th></th>\n",
       "      <th></th>\n",
       "      <th></th>\n",
       "      <th></th>\n",
       "      <th></th>\n",
       "      <th></th>\n",
       "      <th></th>\n",
       "      <th></th>\n",
       "      <th></th>\n",
       "    </tr>\n",
       "  </thead>\n",
       "  <tbody>\n",
       "    <tr>\n",
       "      <th>ENSG00000169429.10</th>\n",
       "      <td>0.5623</td>\n",
       "      <td>0.8067</td>\n",
       "      <td>116.90000</td>\n",
       "      <td>4.047</td>\n",
       "      <td>211.0</td>\n",
       "      <td>58.110</td>\n",
       "      <td>68.38</td>\n",
       "      <td>249.50</td>\n",
       "      <td>5.095</td>\n",
       "      <td>295.9</td>\n",
       "      <td>...</td>\n",
       "      <td>39.960</td>\n",
       "      <td>0.1393</td>\n",
       "      <td>0.22380</td>\n",
       "      <td>245.0</td>\n",
       "      <td>513.6</td>\n",
       "      <td>1626.00</td>\n",
       "      <td>0.5633</td>\n",
       "      <td>515.70</td>\n",
       "      <td>1.19400</td>\n",
       "      <td>1163.00</td>\n",
       "    </tr>\n",
       "    <tr>\n",
       "      <th>ENSG00000135245.9</th>\n",
       "      <td>0.6529</td>\n",
       "      <td>1.3850</td>\n",
       "      <td>199.20000</td>\n",
       "      <td>2.266</td>\n",
       "      <td>116.7</td>\n",
       "      <td>192.300</td>\n",
       "      <td>161.50</td>\n",
       "      <td>263.50</td>\n",
       "      <td>23.540</td>\n",
       "      <td>251.9</td>\n",
       "      <td>...</td>\n",
       "      <td>114.300</td>\n",
       "      <td>1.8330</td>\n",
       "      <td>0.41150</td>\n",
       "      <td>149.0</td>\n",
       "      <td>935.3</td>\n",
       "      <td>233.60</td>\n",
       "      <td>0.8882</td>\n",
       "      <td>134.00</td>\n",
       "      <td>1.12000</td>\n",
       "      <td>295.70</td>\n",
       "    </tr>\n",
       "    <tr>\n",
       "      <th>ENSG00000163631.16</th>\n",
       "      <td>1.8480</td>\n",
       "      <td>0.2503</td>\n",
       "      <td>0.08429</td>\n",
       "      <td>1.251</td>\n",
       "      <td>1348.0</td>\n",
       "      <td>9.971</td>\n",
       "      <td>101.30</td>\n",
       "      <td>95.09</td>\n",
       "      <td>1.264</td>\n",
       "      <td>119.3</td>\n",
       "      <td>...</td>\n",
       "      <td>2.092</td>\n",
       "      <td>2.1100</td>\n",
       "      <td>0.03588</td>\n",
       "      <td>171.8</td>\n",
       "      <td>107.1</td>\n",
       "      <td>71.25</td>\n",
       "      <td>1.7720</td>\n",
       "      <td>309.60</td>\n",
       "      <td>0.07361</td>\n",
       "      <td>17.75</td>\n",
       "    </tr>\n",
       "    <tr>\n",
       "      <th>ENSG00000277632.1</th>\n",
       "      <td>1.6960</td>\n",
       "      <td>1.3450</td>\n",
       "      <td>235.10000</td>\n",
       "      <td>11.770</td>\n",
       "      <td>141.7</td>\n",
       "      <td>199.100</td>\n",
       "      <td>525.50</td>\n",
       "      <td>659.90</td>\n",
       "      <td>10.910</td>\n",
       "      <td>209.3</td>\n",
       "      <td>...</td>\n",
       "      <td>61.340</td>\n",
       "      <td>2.2500</td>\n",
       "      <td>0.72310</td>\n",
       "      <td>261.2</td>\n",
       "      <td>400.0</td>\n",
       "      <td>288.50</td>\n",
       "      <td>2.6960</td>\n",
       "      <td>287.50</td>\n",
       "      <td>3.32300</td>\n",
       "      <td>618.90</td>\n",
       "    </tr>\n",
       "    <tr>\n",
       "      <th>ENSG00000239839.6</th>\n",
       "      <td>185.2000</td>\n",
       "      <td>1.7790</td>\n",
       "      <td>694.30000</td>\n",
       "      <td>23.840</td>\n",
       "      <td>297.3</td>\n",
       "      <td>3122.000</td>\n",
       "      <td>2521.00</td>\n",
       "      <td>1504.00</td>\n",
       "      <td>80.060</td>\n",
       "      <td>652.0</td>\n",
       "      <td>...</td>\n",
       "      <td>1010.000</td>\n",
       "      <td>253.8000</td>\n",
       "      <td>94.52000</td>\n",
       "      <td>6083.0</td>\n",
       "      <td>2768.0</td>\n",
       "      <td>52.06</td>\n",
       "      <td>34.5700</td>\n",
       "      <td>17.36</td>\n",
       "      <td>352.30000</td>\n",
       "      <td>63.85</td>\n",
       "    </tr>\n",
       "  </tbody>\n",
       "</table>\n",
       "<p>5 rows × 755 columns</p>\n",
       "</div>"
      ],
      "text/plain": [
       "                    GTEX-111YS-0006-SM-5NQBE  GTEX-1122O-0005-SM-5O99J  \\\n",
       "gene_ens_id                                                              \n",
       "ENSG00000169429.10                    0.5623                    0.8067   \n",
       "ENSG00000135245.9                     0.6529                    1.3850   \n",
       "ENSG00000163631.16                    1.8480                    0.2503   \n",
       "ENSG00000277632.1                     1.6960                    1.3450   \n",
       "ENSG00000239839.6                   185.2000                    1.7790   \n",
       "\n",
       "                    GTEX-1128S-0005-SM-5P9HI  GTEX-113IC-0006-SM-5NQ9C  \\\n",
       "gene_ens_id                                                              \n",
       "ENSG00000169429.10                 116.90000                     4.047   \n",
       "ENSG00000135245.9                  199.20000                     2.266   \n",
       "ENSG00000163631.16                   0.08429                     1.251   \n",
       "ENSG00000277632.1                  235.10000                    11.770   \n",
       "ENSG00000239839.6                  694.30000                    23.840   \n",
       "\n",
       "                    GTEX-113JC-0006-SM-5O997  GTEX-117XS-0005-SM-5PNU6  \\\n",
       "gene_ens_id                                                              \n",
       "ENSG00000169429.10                     211.0                    58.110   \n",
       "ENSG00000135245.9                      116.7                   192.300   \n",
       "ENSG00000163631.16                    1348.0                     9.971   \n",
       "ENSG00000277632.1                      141.7                   199.100   \n",
       "ENSG00000239839.6                      297.3                  3122.000   \n",
       "\n",
       "                    GTEX-117YW-0005-SM-5NQ8Z  GTEX-1192W-0005-SM-5NQBQ  \\\n",
       "gene_ens_id                                                              \n",
       "ENSG00000169429.10                     68.38                    249.50   \n",
       "ENSG00000135245.9                     161.50                    263.50   \n",
       "ENSG00000163631.16                    101.30                     95.09   \n",
       "ENSG00000277632.1                     525.50                    659.90   \n",
       "ENSG00000239839.6                    2521.00                   1504.00   \n",
       "\n",
       "                    GTEX-1192X-0005-SM-5NQC3  GTEX-11DXW-0006-SM-5NQ7Y  ...  \\\n",
       "gene_ens_id                                                             ...   \n",
       "ENSG00000169429.10                     5.095                     295.9  ...   \n",
       "ENSG00000135245.9                     23.540                     251.9  ...   \n",
       "ENSG00000163631.16                     1.264                     119.3  ...   \n",
       "ENSG00000277632.1                     10.910                     209.3  ...   \n",
       "ENSG00000239839.6                     80.060                     652.0  ...   \n",
       "\n",
       "                    GTEX-ZVE2-0006-SM-51MRW  GTEX-ZVP2-0005-SM-51MRK  \\\n",
       "gene_ens_id                                                            \n",
       "ENSG00000169429.10                   39.960                   0.1393   \n",
       "ENSG00000135245.9                   114.300                   1.8330   \n",
       "ENSG00000163631.16                    2.092                   2.1100   \n",
       "ENSG00000277632.1                    61.340                   2.2500   \n",
       "ENSG00000239839.6                  1010.000                 253.8000   \n",
       "\n",
       "                    GTEX-ZVT2-0005-SM-57WBW  GTEX-ZVT3-0006-SM-51MT9  \\\n",
       "gene_ens_id                                                            \n",
       "ENSG00000169429.10                  0.22380                    245.0   \n",
       "ENSG00000135245.9                   0.41150                    149.0   \n",
       "ENSG00000163631.16                  0.03588                    171.8   \n",
       "ENSG00000277632.1                   0.72310                    261.2   \n",
       "ENSG00000239839.6                  94.52000                   6083.0   \n",
       "\n",
       "                    GTEX-ZVT4-0006-SM-57WB8  GTEX-ZVTK-0006-SM-57WBK  \\\n",
       "gene_ens_id                                                            \n",
       "ENSG00000169429.10                    513.6                  1626.00   \n",
       "ENSG00000135245.9                     935.3                   233.60   \n",
       "ENSG00000163631.16                    107.1                    71.25   \n",
       "ENSG00000277632.1                     400.0                   288.50   \n",
       "ENSG00000239839.6                    2768.0                    52.06   \n",
       "\n",
       "                    GTEX-ZVZP-0006-SM-51MSW  GTEX-ZVZQ-0006-SM-51MR8  \\\n",
       "gene_ens_id                                                            \n",
       "ENSG00000169429.10                   0.5633                   515.70   \n",
       "ENSG00000135245.9                    0.8882                   134.00   \n",
       "ENSG00000163631.16                   1.7720                   309.60   \n",
       "ENSG00000277632.1                    2.6960                   287.50   \n",
       "ENSG00000239839.6                   34.5700                    17.36   \n",
       "\n",
       "                    GTEX-ZXES-0005-SM-57WCB  GTEX-ZXG5-0005-SM-57WCN  \n",
       "gene_ens_id                                                           \n",
       "ENSG00000169429.10                  1.19400                  1163.00  \n",
       "ENSG00000135245.9                   1.12000                   295.70  \n",
       "ENSG00000163631.16                  0.07361                    17.75  \n",
       "ENSG00000277632.1                   3.32300                   618.90  \n",
       "ENSG00000239839.6                 352.30000                    63.85  \n",
       "\n",
       "[5 rows x 755 columns]"
      ]
     },
     "execution_count": 12,
     "metadata": {},
     "output_type": "execute_result"
    }
   ],
   "source": [
    "data.head()"
   ]
  },
  {
   "cell_type": "markdown",
   "id": "f816809d-2024-4c2c-be4f-3c04e24ecfca",
   "metadata": {
    "papermill": {
     "duration": 0.037444,
     "end_time": "2022-01-24T16:38:20.295193",
     "exception": false,
     "start_time": "2022-01-24T16:38:20.257749",
     "status": "completed"
    },
    "tags": []
   },
   "source": [
    "## Clustermatch"
   ]
  },
  {
   "cell_type": "code",
   "execution_count": 13,
   "id": "9a8196ee-48d8-42f8-814b-8125a4e5e63b",
   "metadata": {
    "execution": {
     "iopub.execute_input": "2022-01-24T16:38:20.371319Z",
     "iopub.status.busy": "2022-01-24T16:38:20.370846Z",
     "iopub.status.idle": "2022-01-24T16:38:20.447404Z",
     "shell.execute_reply": "2022-01-24T16:38:20.446975Z"
    },
    "papermill": {
     "duration": 0.116217,
     "end_time": "2022-01-24T16:38:20.447509",
     "exception": false,
     "start_time": "2022-01-24T16:38:20.331292",
     "status": "completed"
    },
    "tags": []
   },
   "outputs": [],
   "source": [
    "clustermatch_df = pd.read_pickle(\n",
    "    str(INPUT_CORR_FILE_TEMPLATE).format(\n",
    "        tissue=GTEX_TISSUE,\n",
    "        gene_sel_strategy=GENE_SEL_STRATEGY,\n",
    "        corr_method=\"clustermatch\",\n",
    "    )\n",
    ")"
   ]
  },
  {
   "cell_type": "code",
   "execution_count": 14,
   "id": "5f611930-9923-4ff2-9c1f-fb81bcdad625",
   "metadata": {
    "execution": {
     "iopub.execute_input": "2022-01-24T16:38:20.524528Z",
     "iopub.status.busy": "2022-01-24T16:38:20.523987Z",
     "iopub.status.idle": "2022-01-24T16:38:20.526802Z",
     "shell.execute_reply": "2022-01-24T16:38:20.526362Z"
    },
    "papermill": {
     "duration": 0.042564,
     "end_time": "2022-01-24T16:38:20.526896",
     "exception": false,
     "start_time": "2022-01-24T16:38:20.484332",
     "status": "completed"
    },
    "tags": []
   },
   "outputs": [
    {
     "data": {
      "text/plain": [
       "(5000, 5000)"
      ]
     },
     "execution_count": 14,
     "metadata": {},
     "output_type": "execute_result"
    }
   ],
   "source": [
    "clustermatch_df.shape"
   ]
  },
  {
   "cell_type": "code",
   "execution_count": 15,
   "id": "c9fc4460-6ae2-42ab-9923-9f7a3e3d942c",
   "metadata": {
    "execution": {
     "iopub.execute_input": "2022-01-24T16:38:20.605710Z",
     "iopub.status.busy": "2022-01-24T16:38:20.605229Z",
     "iopub.status.idle": "2022-01-24T16:38:20.621888Z",
     "shell.execute_reply": "2022-01-24T16:38:20.621419Z"
    },
    "papermill": {
     "duration": 0.058389,
     "end_time": "2022-01-24T16:38:20.621981",
     "exception": false,
     "start_time": "2022-01-24T16:38:20.563592",
     "status": "completed"
    },
    "tags": []
   },
   "outputs": [
    {
     "data": {
      "text/html": [
       "<div>\n",
       "<style scoped>\n",
       "    .dataframe tbody tr th:only-of-type {\n",
       "        vertical-align: middle;\n",
       "    }\n",
       "\n",
       "    .dataframe tbody tr th {\n",
       "        vertical-align: top;\n",
       "    }\n",
       "\n",
       "    .dataframe thead th {\n",
       "        text-align: right;\n",
       "    }\n",
       "</style>\n",
       "<table border=\"1\" class=\"dataframe\">\n",
       "  <thead>\n",
       "    <tr style=\"text-align: right;\">\n",
       "      <th>gene_ens_id</th>\n",
       "      <th>ENSG00000169429.10</th>\n",
       "      <th>ENSG00000135245.9</th>\n",
       "      <th>ENSG00000163631.16</th>\n",
       "      <th>ENSG00000277632.1</th>\n",
       "      <th>ENSG00000239839.6</th>\n",
       "      <th>ENSG00000186652.9</th>\n",
       "      <th>ENSG00000129824.15</th>\n",
       "      <th>ENSG00000152463.14</th>\n",
       "      <th>ENSG00000123689.5</th>\n",
       "      <th>ENSG00000012223.12</th>\n",
       "      <th>...</th>\n",
       "      <th>ENSG00000122033.14</th>\n",
       "      <th>ENSG00000145779.7</th>\n",
       "      <th>ENSG00000196396.9</th>\n",
       "      <th>ENSG00000216490.3</th>\n",
       "      <th>ENSG00000135521.8</th>\n",
       "      <th>ENSG00000198478.7</th>\n",
       "      <th>ENSG00000168137.15</th>\n",
       "      <th>ENSG00000182197.10</th>\n",
       "      <th>ENSG00000111641.11</th>\n",
       "      <th>ENSG00000168528.11</th>\n",
       "    </tr>\n",
       "    <tr>\n",
       "      <th>gene_ens_id</th>\n",
       "      <th></th>\n",
       "      <th></th>\n",
       "      <th></th>\n",
       "      <th></th>\n",
       "      <th></th>\n",
       "      <th></th>\n",
       "      <th></th>\n",
       "      <th></th>\n",
       "      <th></th>\n",
       "      <th></th>\n",
       "      <th></th>\n",
       "      <th></th>\n",
       "      <th></th>\n",
       "      <th></th>\n",
       "      <th></th>\n",
       "      <th></th>\n",
       "      <th></th>\n",
       "      <th></th>\n",
       "      <th></th>\n",
       "      <th></th>\n",
       "      <th></th>\n",
       "    </tr>\n",
       "  </thead>\n",
       "  <tbody>\n",
       "    <tr>\n",
       "      <th>ENSG00000169429.10</th>\n",
       "      <td>1.000000</td>\n",
       "      <td>0.780181</td>\n",
       "      <td>0.401717</td>\n",
       "      <td>0.789583</td>\n",
       "      <td>0.139359</td>\n",
       "      <td>0.524274</td>\n",
       "      <td>0.048667</td>\n",
       "      <td>0.365544</td>\n",
       "      <td>0.799041</td>\n",
       "      <td>0.343411</td>\n",
       "      <td>...</td>\n",
       "      <td>0.212632</td>\n",
       "      <td>0.037166</td>\n",
       "      <td>0.012264</td>\n",
       "      <td>0.016958</td>\n",
       "      <td>0.053866</td>\n",
       "      <td>0.133457</td>\n",
       "      <td>0.081476</td>\n",
       "      <td>0.212632</td>\n",
       "      <td>0.112897</td>\n",
       "      <td>0.022719</td>\n",
       "    </tr>\n",
       "    <tr>\n",
       "      <th>ENSG00000135245.9</th>\n",
       "      <td>0.780181</td>\n",
       "      <td>1.000000</td>\n",
       "      <td>0.429092</td>\n",
       "      <td>0.780181</td>\n",
       "      <td>0.159947</td>\n",
       "      <td>0.516615</td>\n",
       "      <td>0.042631</td>\n",
       "      <td>0.334136</td>\n",
       "      <td>0.752314</td>\n",
       "      <td>0.355974</td>\n",
       "      <td>...</td>\n",
       "      <td>0.237858</td>\n",
       "      <td>0.051243</td>\n",
       "      <td>0.042777</td>\n",
       "      <td>0.035816</td>\n",
       "      <td>0.094566</td>\n",
       "      <td>0.145388</td>\n",
       "      <td>0.075009</td>\n",
       "      <td>0.217565</td>\n",
       "      <td>0.099542</td>\n",
       "      <td>0.019660</td>\n",
       "    </tr>\n",
       "    <tr>\n",
       "      <th>ENSG00000163631.16</th>\n",
       "      <td>0.401717</td>\n",
       "      <td>0.429092</td>\n",
       "      <td>1.000000</td>\n",
       "      <td>0.408476</td>\n",
       "      <td>0.127681</td>\n",
       "      <td>0.401717</td>\n",
       "      <td>0.020316</td>\n",
       "      <td>0.232700</td>\n",
       "      <td>0.381776</td>\n",
       "      <td>0.261762</td>\n",
       "      <td>...</td>\n",
       "      <td>0.153623</td>\n",
       "      <td>0.041971</td>\n",
       "      <td>0.008775</td>\n",
       "      <td>0.009087</td>\n",
       "      <td>0.053706</td>\n",
       "      <td>0.090792</td>\n",
       "      <td>0.021106</td>\n",
       "      <td>0.153623</td>\n",
       "      <td>0.047663</td>\n",
       "      <td>0.009211</td>\n",
       "    </tr>\n",
       "    <tr>\n",
       "      <th>ENSG00000277632.1</th>\n",
       "      <td>0.789583</td>\n",
       "      <td>0.780181</td>\n",
       "      <td>0.408476</td>\n",
       "      <td>1.000000</td>\n",
       "      <td>0.151543</td>\n",
       "      <td>0.547588</td>\n",
       "      <td>0.055712</td>\n",
       "      <td>0.346530</td>\n",
       "      <td>0.761547</td>\n",
       "      <td>0.381776</td>\n",
       "      <td>...</td>\n",
       "      <td>0.222554</td>\n",
       "      <td>0.036365</td>\n",
       "      <td>0.023933</td>\n",
       "      <td>0.017412</td>\n",
       "      <td>0.044225</td>\n",
       "      <td>0.129593</td>\n",
       "      <td>0.065463</td>\n",
       "      <td>0.188812</td>\n",
       "      <td>0.147426</td>\n",
       "      <td>0.011364</td>\n",
       "    </tr>\n",
       "    <tr>\n",
       "      <th>ENSG00000239839.6</th>\n",
       "      <td>0.139359</td>\n",
       "      <td>0.159947</td>\n",
       "      <td>0.127681</td>\n",
       "      <td>0.151543</td>\n",
       "      <td>1.000000</td>\n",
       "      <td>0.272752</td>\n",
       "      <td>0.008065</td>\n",
       "      <td>0.100699</td>\n",
       "      <td>0.135411</td>\n",
       "      <td>0.318958</td>\n",
       "      <td>...</td>\n",
       "      <td>0.048843</td>\n",
       "      <td>0.012149</td>\n",
       "      <td>0.018039</td>\n",
       "      <td>0.005696</td>\n",
       "      <td>0.021103</td>\n",
       "      <td>0.022719</td>\n",
       "      <td>0.003596</td>\n",
       "      <td>0.100699</td>\n",
       "      <td>0.018589</td>\n",
       "      <td>0.010845</td>\n",
       "    </tr>\n",
       "  </tbody>\n",
       "</table>\n",
       "<p>5 rows × 5000 columns</p>\n",
       "</div>"
      ],
      "text/plain": [
       "gene_ens_id         ENSG00000169429.10  ENSG00000135245.9  ENSG00000163631.16  \\\n",
       "gene_ens_id                                                                     \n",
       "ENSG00000169429.10            1.000000           0.780181            0.401717   \n",
       "ENSG00000135245.9             0.780181           1.000000            0.429092   \n",
       "ENSG00000163631.16            0.401717           0.429092            1.000000   \n",
       "ENSG00000277632.1             0.789583           0.780181            0.408476   \n",
       "ENSG00000239839.6             0.139359           0.159947            0.127681   \n",
       "\n",
       "gene_ens_id         ENSG00000277632.1  ENSG00000239839.6  ENSG00000186652.9  \\\n",
       "gene_ens_id                                                                   \n",
       "ENSG00000169429.10           0.789583           0.139359           0.524274   \n",
       "ENSG00000135245.9            0.780181           0.159947           0.516615   \n",
       "ENSG00000163631.16           0.408476           0.127681           0.401717   \n",
       "ENSG00000277632.1            1.000000           0.151543           0.547588   \n",
       "ENSG00000239839.6            0.151543           1.000000           0.272752   \n",
       "\n",
       "gene_ens_id         ENSG00000129824.15  ENSG00000152463.14  ENSG00000123689.5  \\\n",
       "gene_ens_id                                                                     \n",
       "ENSG00000169429.10            0.048667            0.365544           0.799041   \n",
       "ENSG00000135245.9             0.042631            0.334136           0.752314   \n",
       "ENSG00000163631.16            0.020316            0.232700           0.381776   \n",
       "ENSG00000277632.1             0.055712            0.346530           0.761547   \n",
       "ENSG00000239839.6             0.008065            0.100699           0.135411   \n",
       "\n",
       "gene_ens_id         ENSG00000012223.12  ...  ENSG00000122033.14  \\\n",
       "gene_ens_id                             ...                       \n",
       "ENSG00000169429.10            0.343411  ...            0.212632   \n",
       "ENSG00000135245.9             0.355974  ...            0.237858   \n",
       "ENSG00000163631.16            0.261762  ...            0.153623   \n",
       "ENSG00000277632.1             0.381776  ...            0.222554   \n",
       "ENSG00000239839.6             0.318958  ...            0.048843   \n",
       "\n",
       "gene_ens_id         ENSG00000145779.7  ENSG00000196396.9  ENSG00000216490.3  \\\n",
       "gene_ens_id                                                                   \n",
       "ENSG00000169429.10           0.037166           0.012264           0.016958   \n",
       "ENSG00000135245.9            0.051243           0.042777           0.035816   \n",
       "ENSG00000163631.16           0.041971           0.008775           0.009087   \n",
       "ENSG00000277632.1            0.036365           0.023933           0.017412   \n",
       "ENSG00000239839.6            0.012149           0.018039           0.005696   \n",
       "\n",
       "gene_ens_id         ENSG00000135521.8  ENSG00000198478.7  ENSG00000168137.15  \\\n",
       "gene_ens_id                                                                    \n",
       "ENSG00000169429.10           0.053866           0.133457            0.081476   \n",
       "ENSG00000135245.9            0.094566           0.145388            0.075009   \n",
       "ENSG00000163631.16           0.053706           0.090792            0.021106   \n",
       "ENSG00000277632.1            0.044225           0.129593            0.065463   \n",
       "ENSG00000239839.6            0.021103           0.022719            0.003596   \n",
       "\n",
       "gene_ens_id         ENSG00000182197.10  ENSG00000111641.11  ENSG00000168528.11  \n",
       "gene_ens_id                                                                     \n",
       "ENSG00000169429.10            0.212632            0.112897            0.022719  \n",
       "ENSG00000135245.9             0.217565            0.099542            0.019660  \n",
       "ENSG00000163631.16            0.153623            0.047663            0.009211  \n",
       "ENSG00000277632.1             0.188812            0.147426            0.011364  \n",
       "ENSG00000239839.6             0.100699            0.018589            0.010845  \n",
       "\n",
       "[5 rows x 5000 columns]"
      ]
     },
     "execution_count": 15,
     "metadata": {},
     "output_type": "execute_result"
    }
   ],
   "source": [
    "clustermatch_df.head()"
   ]
  },
  {
   "cell_type": "code",
   "execution_count": 16,
   "id": "e8d06663-b757-4c9a-bf88-efe799cf4c16",
   "metadata": {
    "execution": {
     "iopub.execute_input": "2022-01-24T16:38:20.699907Z",
     "iopub.status.busy": "2022-01-24T16:38:20.699413Z",
     "iopub.status.idle": "2022-01-24T16:38:20.701132Z",
     "shell.execute_reply": "2022-01-24T16:38:20.701479Z"
    },
    "papermill": {
     "duration": 0.042151,
     "end_time": "2022-01-24T16:38:20.701595",
     "exception": false,
     "start_time": "2022-01-24T16:38:20.659444",
     "status": "completed"
    },
    "tags": []
   },
   "outputs": [],
   "source": [
    "assert data.index.equals(clustermatch_df.index)"
   ]
  },
  {
   "cell_type": "markdown",
   "id": "0277745a-71cf-4b42-a1ad-949ffa423a35",
   "metadata": {
    "papermill": {
     "duration": 0.042115,
     "end_time": "2022-01-24T16:38:20.780669",
     "exception": false,
     "start_time": "2022-01-24T16:38:20.738554",
     "status": "completed"
    },
    "tags": []
   },
   "source": [
    "## Pearson"
   ]
  },
  {
   "cell_type": "code",
   "execution_count": 17,
   "id": "25fec66a-2209-4556-9ab9-a6de8ae6737c",
   "metadata": {
    "execution": {
     "iopub.execute_input": "2022-01-24T16:38:20.860675Z",
     "iopub.status.busy": "2022-01-24T16:38:20.860201Z",
     "iopub.status.idle": "2022-01-24T16:38:20.937337Z",
     "shell.execute_reply": "2022-01-24T16:38:20.936880Z"
    },
    "papermill": {
     "duration": 0.117343,
     "end_time": "2022-01-24T16:38:20.937440",
     "exception": false,
     "start_time": "2022-01-24T16:38:20.820097",
     "status": "completed"
    },
    "tags": []
   },
   "outputs": [],
   "source": [
    "pearson_df = pd.read_pickle(\n",
    "    str(INPUT_CORR_FILE_TEMPLATE).format(\n",
    "        tissue=GTEX_TISSUE,\n",
    "        gene_sel_strategy=GENE_SEL_STRATEGY,\n",
    "        corr_method=\"pearson\",\n",
    "    )\n",
    ")"
   ]
  },
  {
   "cell_type": "code",
   "execution_count": 18,
   "id": "9cf7764d-a6f1-4fa3-9731-4eacac4ec7ef",
   "metadata": {
    "execution": {
     "iopub.execute_input": "2022-01-24T16:38:21.017392Z",
     "iopub.status.busy": "2022-01-24T16:38:21.016792Z",
     "iopub.status.idle": "2022-01-24T16:38:21.019220Z",
     "shell.execute_reply": "2022-01-24T16:38:21.019590Z"
    },
    "papermill": {
     "duration": 0.043392,
     "end_time": "2022-01-24T16:38:21.019706",
     "exception": false,
     "start_time": "2022-01-24T16:38:20.976314",
     "status": "completed"
    },
    "tags": []
   },
   "outputs": [
    {
     "data": {
      "text/plain": [
       "(5000, 5000)"
      ]
     },
     "execution_count": 18,
     "metadata": {},
     "output_type": "execute_result"
    }
   ],
   "source": [
    "pearson_df.shape"
   ]
  },
  {
   "cell_type": "code",
   "execution_count": 19,
   "id": "d2a2fe84-ead6-4ac3-8980-e9ecc8fb4eec",
   "metadata": {
    "execution": {
     "iopub.execute_input": "2022-01-24T16:38:21.112556Z",
     "iopub.status.busy": "2022-01-24T16:38:21.111990Z",
     "iopub.status.idle": "2022-01-24T16:38:21.124025Z",
     "shell.execute_reply": "2022-01-24T16:38:21.124410Z"
    },
    "papermill": {
     "duration": 0.066324,
     "end_time": "2022-01-24T16:38:21.124532",
     "exception": false,
     "start_time": "2022-01-24T16:38:21.058208",
     "status": "completed"
    },
    "tags": []
   },
   "outputs": [
    {
     "data": {
      "text/html": [
       "<div>\n",
       "<style scoped>\n",
       "    .dataframe tbody tr th:only-of-type {\n",
       "        vertical-align: middle;\n",
       "    }\n",
       "\n",
       "    .dataframe tbody tr th {\n",
       "        vertical-align: top;\n",
       "    }\n",
       "\n",
       "    .dataframe thead th {\n",
       "        text-align: right;\n",
       "    }\n",
       "</style>\n",
       "<table border=\"1\" class=\"dataframe\">\n",
       "  <thead>\n",
       "    <tr style=\"text-align: right;\">\n",
       "      <th>gene_ens_id</th>\n",
       "      <th>ENSG00000169429.10</th>\n",
       "      <th>ENSG00000135245.9</th>\n",
       "      <th>ENSG00000163631.16</th>\n",
       "      <th>ENSG00000277632.1</th>\n",
       "      <th>ENSG00000239839.6</th>\n",
       "      <th>ENSG00000186652.9</th>\n",
       "      <th>ENSG00000129824.15</th>\n",
       "      <th>ENSG00000152463.14</th>\n",
       "      <th>ENSG00000123689.5</th>\n",
       "      <th>ENSG00000012223.12</th>\n",
       "      <th>...</th>\n",
       "      <th>ENSG00000122033.14</th>\n",
       "      <th>ENSG00000145779.7</th>\n",
       "      <th>ENSG00000196396.9</th>\n",
       "      <th>ENSG00000216490.3</th>\n",
       "      <th>ENSG00000135521.8</th>\n",
       "      <th>ENSG00000198478.7</th>\n",
       "      <th>ENSG00000168137.15</th>\n",
       "      <th>ENSG00000182197.10</th>\n",
       "      <th>ENSG00000111641.11</th>\n",
       "      <th>ENSG00000168528.11</th>\n",
       "    </tr>\n",
       "    <tr>\n",
       "      <th>gene_ens_id</th>\n",
       "      <th></th>\n",
       "      <th></th>\n",
       "      <th></th>\n",
       "      <th></th>\n",
       "      <th></th>\n",
       "      <th></th>\n",
       "      <th></th>\n",
       "      <th></th>\n",
       "      <th></th>\n",
       "      <th></th>\n",
       "      <th></th>\n",
       "      <th></th>\n",
       "      <th></th>\n",
       "      <th></th>\n",
       "      <th></th>\n",
       "      <th></th>\n",
       "      <th></th>\n",
       "      <th></th>\n",
       "      <th></th>\n",
       "      <th></th>\n",
       "      <th></th>\n",
       "    </tr>\n",
       "  </thead>\n",
       "  <tbody>\n",
       "    <tr>\n",
       "      <th>ENSG00000169429.10</th>\n",
       "      <td>1.000000</td>\n",
       "      <td>0.571672</td>\n",
       "      <td>0.126906</td>\n",
       "      <td>0.456538</td>\n",
       "      <td>0.127140</td>\n",
       "      <td>0.256347</td>\n",
       "      <td>0.300879</td>\n",
       "      <td>-0.268024</td>\n",
       "      <td>0.472277</td>\n",
       "      <td>0.355504</td>\n",
       "      <td>...</td>\n",
       "      <td>-0.087559</td>\n",
       "      <td>0.181072</td>\n",
       "      <td>0.098032</td>\n",
       "      <td>0.012809</td>\n",
       "      <td>0.048569</td>\n",
       "      <td>-0.125537</td>\n",
       "      <td>0.449339</td>\n",
       "      <td>-0.198314</td>\n",
       "      <td>0.298775</td>\n",
       "      <td>0.041489</td>\n",
       "    </tr>\n",
       "    <tr>\n",
       "      <th>ENSG00000135245.9</th>\n",
       "      <td>0.571672</td>\n",
       "      <td>1.000000</td>\n",
       "      <td>0.110612</td>\n",
       "      <td>0.438929</td>\n",
       "      <td>0.209161</td>\n",
       "      <td>0.223671</td>\n",
       "      <td>0.203370</td>\n",
       "      <td>-0.325667</td>\n",
       "      <td>0.532544</td>\n",
       "      <td>0.406272</td>\n",
       "      <td>...</td>\n",
       "      <td>-0.198912</td>\n",
       "      <td>0.018133</td>\n",
       "      <td>0.165431</td>\n",
       "      <td>0.052732</td>\n",
       "      <td>-0.123459</td>\n",
       "      <td>-0.192481</td>\n",
       "      <td>0.478504</td>\n",
       "      <td>-0.223546</td>\n",
       "      <td>0.259206</td>\n",
       "      <td>0.116396</td>\n",
       "    </tr>\n",
       "    <tr>\n",
       "      <th>ENSG00000163631.16</th>\n",
       "      <td>0.126906</td>\n",
       "      <td>0.110612</td>\n",
       "      <td>1.000000</td>\n",
       "      <td>0.129248</td>\n",
       "      <td>0.021091</td>\n",
       "      <td>0.054572</td>\n",
       "      <td>0.072717</td>\n",
       "      <td>-0.131141</td>\n",
       "      <td>0.235882</td>\n",
       "      <td>0.098683</td>\n",
       "      <td>...</td>\n",
       "      <td>-0.095401</td>\n",
       "      <td>-0.077452</td>\n",
       "      <td>-0.084369</td>\n",
       "      <td>-0.077808</td>\n",
       "      <td>-0.093490</td>\n",
       "      <td>-0.037774</td>\n",
       "      <td>0.025260</td>\n",
       "      <td>-0.123350</td>\n",
       "      <td>0.049174</td>\n",
       "      <td>0.106998</td>\n",
       "    </tr>\n",
       "    <tr>\n",
       "      <th>ENSG00000277632.1</th>\n",
       "      <td>0.456538</td>\n",
       "      <td>0.438929</td>\n",
       "      <td>0.129248</td>\n",
       "      <td>1.000000</td>\n",
       "      <td>0.199647</td>\n",
       "      <td>0.238356</td>\n",
       "      <td>0.366739</td>\n",
       "      <td>-0.361011</td>\n",
       "      <td>0.406964</td>\n",
       "      <td>0.416603</td>\n",
       "      <td>...</td>\n",
       "      <td>-0.175950</td>\n",
       "      <td>0.107436</td>\n",
       "      <td>0.118997</td>\n",
       "      <td>0.027369</td>\n",
       "      <td>0.060482</td>\n",
       "      <td>-0.212037</td>\n",
       "      <td>0.420059</td>\n",
       "      <td>-0.304038</td>\n",
       "      <td>0.509854</td>\n",
       "      <td>0.027239</td>\n",
       "    </tr>\n",
       "    <tr>\n",
       "      <th>ENSG00000239839.6</th>\n",
       "      <td>0.127140</td>\n",
       "      <td>0.209161</td>\n",
       "      <td>0.021091</td>\n",
       "      <td>0.199647</td>\n",
       "      <td>1.000000</td>\n",
       "      <td>0.229287</td>\n",
       "      <td>0.022563</td>\n",
       "      <td>-0.183318</td>\n",
       "      <td>0.077410</td>\n",
       "      <td>0.541731</td>\n",
       "      <td>...</td>\n",
       "      <td>-0.058021</td>\n",
       "      <td>0.051451</td>\n",
       "      <td>-0.040586</td>\n",
       "      <td>-0.013576</td>\n",
       "      <td>-0.015835</td>\n",
       "      <td>-0.115248</td>\n",
       "      <td>0.072186</td>\n",
       "      <td>-0.219001</td>\n",
       "      <td>0.076205</td>\n",
       "      <td>0.112401</td>\n",
       "    </tr>\n",
       "  </tbody>\n",
       "</table>\n",
       "<p>5 rows × 5000 columns</p>\n",
       "</div>"
      ],
      "text/plain": [
       "gene_ens_id         ENSG00000169429.10  ENSG00000135245.9  ENSG00000163631.16  \\\n",
       "gene_ens_id                                                                     \n",
       "ENSG00000169429.10            1.000000           0.571672            0.126906   \n",
       "ENSG00000135245.9             0.571672           1.000000            0.110612   \n",
       "ENSG00000163631.16            0.126906           0.110612            1.000000   \n",
       "ENSG00000277632.1             0.456538           0.438929            0.129248   \n",
       "ENSG00000239839.6             0.127140           0.209161            0.021091   \n",
       "\n",
       "gene_ens_id         ENSG00000277632.1  ENSG00000239839.6  ENSG00000186652.9  \\\n",
       "gene_ens_id                                                                   \n",
       "ENSG00000169429.10           0.456538           0.127140           0.256347   \n",
       "ENSG00000135245.9            0.438929           0.209161           0.223671   \n",
       "ENSG00000163631.16           0.129248           0.021091           0.054572   \n",
       "ENSG00000277632.1            1.000000           0.199647           0.238356   \n",
       "ENSG00000239839.6            0.199647           1.000000           0.229287   \n",
       "\n",
       "gene_ens_id         ENSG00000129824.15  ENSG00000152463.14  ENSG00000123689.5  \\\n",
       "gene_ens_id                                                                     \n",
       "ENSG00000169429.10            0.300879           -0.268024           0.472277   \n",
       "ENSG00000135245.9             0.203370           -0.325667           0.532544   \n",
       "ENSG00000163631.16            0.072717           -0.131141           0.235882   \n",
       "ENSG00000277632.1             0.366739           -0.361011           0.406964   \n",
       "ENSG00000239839.6             0.022563           -0.183318           0.077410   \n",
       "\n",
       "gene_ens_id         ENSG00000012223.12  ...  ENSG00000122033.14  \\\n",
       "gene_ens_id                             ...                       \n",
       "ENSG00000169429.10            0.355504  ...           -0.087559   \n",
       "ENSG00000135245.9             0.406272  ...           -0.198912   \n",
       "ENSG00000163631.16            0.098683  ...           -0.095401   \n",
       "ENSG00000277632.1             0.416603  ...           -0.175950   \n",
       "ENSG00000239839.6             0.541731  ...           -0.058021   \n",
       "\n",
       "gene_ens_id         ENSG00000145779.7  ENSG00000196396.9  ENSG00000216490.3  \\\n",
       "gene_ens_id                                                                   \n",
       "ENSG00000169429.10           0.181072           0.098032           0.012809   \n",
       "ENSG00000135245.9            0.018133           0.165431           0.052732   \n",
       "ENSG00000163631.16          -0.077452          -0.084369          -0.077808   \n",
       "ENSG00000277632.1            0.107436           0.118997           0.027369   \n",
       "ENSG00000239839.6            0.051451          -0.040586          -0.013576   \n",
       "\n",
       "gene_ens_id         ENSG00000135521.8  ENSG00000198478.7  ENSG00000168137.15  \\\n",
       "gene_ens_id                                                                    \n",
       "ENSG00000169429.10           0.048569          -0.125537            0.449339   \n",
       "ENSG00000135245.9           -0.123459          -0.192481            0.478504   \n",
       "ENSG00000163631.16          -0.093490          -0.037774            0.025260   \n",
       "ENSG00000277632.1            0.060482          -0.212037            0.420059   \n",
       "ENSG00000239839.6           -0.015835          -0.115248            0.072186   \n",
       "\n",
       "gene_ens_id         ENSG00000182197.10  ENSG00000111641.11  ENSG00000168528.11  \n",
       "gene_ens_id                                                                     \n",
       "ENSG00000169429.10           -0.198314            0.298775            0.041489  \n",
       "ENSG00000135245.9            -0.223546            0.259206            0.116396  \n",
       "ENSG00000163631.16           -0.123350            0.049174            0.106998  \n",
       "ENSG00000277632.1            -0.304038            0.509854            0.027239  \n",
       "ENSG00000239839.6            -0.219001            0.076205            0.112401  \n",
       "\n",
       "[5 rows x 5000 columns]"
      ]
     },
     "execution_count": 19,
     "metadata": {},
     "output_type": "execute_result"
    }
   ],
   "source": [
    "pearson_df.head()"
   ]
  },
  {
   "cell_type": "code",
   "execution_count": 20,
   "id": "52aec2ed-709e-4a8b-885f-0d5f6a24e01d",
   "metadata": {
    "execution": {
     "iopub.execute_input": "2022-01-24T16:38:21.205841Z",
     "iopub.status.busy": "2022-01-24T16:38:21.205331Z",
     "iopub.status.idle": "2022-01-24T16:38:21.207789Z",
     "shell.execute_reply": "2022-01-24T16:38:21.207351Z"
    },
    "papermill": {
     "duration": 0.044178,
     "end_time": "2022-01-24T16:38:21.207903",
     "exception": false,
     "start_time": "2022-01-24T16:38:21.163725",
     "status": "completed"
    },
    "tags": []
   },
   "outputs": [],
   "source": [
    "assert data.index.equals(pearson_df.index)"
   ]
  },
  {
   "cell_type": "markdown",
   "id": "6f0ee3a9-baa6-4a05-904d-8606b26da6c5",
   "metadata": {
    "papermill": {
     "duration": 0.039117,
     "end_time": "2022-01-24T16:38:21.284676",
     "exception": false,
     "start_time": "2022-01-24T16:38:21.245559",
     "status": "completed"
    },
    "tags": []
   },
   "source": [
    "## Spearman"
   ]
  },
  {
   "cell_type": "code",
   "execution_count": 21,
   "id": "41edc475-d086-4041-85dc-e41a0d6a89ac",
   "metadata": {
    "execution": {
     "iopub.execute_input": "2022-01-24T16:38:21.364624Z",
     "iopub.status.busy": "2022-01-24T16:38:21.364112Z",
     "iopub.status.idle": "2022-01-24T16:38:21.441352Z",
     "shell.execute_reply": "2022-01-24T16:38:21.440951Z"
    },
    "papermill": {
     "duration": 0.118712,
     "end_time": "2022-01-24T16:38:21.441458",
     "exception": false,
     "start_time": "2022-01-24T16:38:21.322746",
     "status": "completed"
    },
    "tags": []
   },
   "outputs": [],
   "source": [
    "spearman_df = pd.read_pickle(\n",
    "    str(INPUT_CORR_FILE_TEMPLATE).format(\n",
    "        tissue=GTEX_TISSUE,\n",
    "        gene_sel_strategy=GENE_SEL_STRATEGY,\n",
    "        corr_method=\"spearman\",\n",
    "    )\n",
    ")"
   ]
  },
  {
   "cell_type": "code",
   "execution_count": 22,
   "id": "a5326477-cc14-47bc-9c7b-cd4e1afffdff",
   "metadata": {
    "execution": {
     "iopub.execute_input": "2022-01-24T16:38:21.521882Z",
     "iopub.status.busy": "2022-01-24T16:38:21.521192Z",
     "iopub.status.idle": "2022-01-24T16:38:21.524322Z",
     "shell.execute_reply": "2022-01-24T16:38:21.523839Z"
    },
    "papermill": {
     "duration": 0.044242,
     "end_time": "2022-01-24T16:38:21.524414",
     "exception": false,
     "start_time": "2022-01-24T16:38:21.480172",
     "status": "completed"
    },
    "tags": []
   },
   "outputs": [
    {
     "data": {
      "text/plain": [
       "(5000, 5000)"
      ]
     },
     "execution_count": 22,
     "metadata": {},
     "output_type": "execute_result"
    }
   ],
   "source": [
    "spearman_df.shape"
   ]
  },
  {
   "cell_type": "code",
   "execution_count": 23,
   "id": "acb0044e-2fb2-4349-a103-07c675895321",
   "metadata": {
    "execution": {
     "iopub.execute_input": "2022-01-24T16:38:21.618797Z",
     "iopub.status.busy": "2022-01-24T16:38:21.618187Z",
     "iopub.status.idle": "2022-01-24T16:38:21.620562Z",
     "shell.execute_reply": "2022-01-24T16:38:21.620903Z"
    },
    "papermill": {
     "duration": 0.058442,
     "end_time": "2022-01-24T16:38:21.621022",
     "exception": false,
     "start_time": "2022-01-24T16:38:21.562580",
     "status": "completed"
    },
    "tags": []
   },
   "outputs": [
    {
     "data": {
      "text/html": [
       "<div>\n",
       "<style scoped>\n",
       "    .dataframe tbody tr th:only-of-type {\n",
       "        vertical-align: middle;\n",
       "    }\n",
       "\n",
       "    .dataframe tbody tr th {\n",
       "        vertical-align: top;\n",
       "    }\n",
       "\n",
       "    .dataframe thead th {\n",
       "        text-align: right;\n",
       "    }\n",
       "</style>\n",
       "<table border=\"1\" class=\"dataframe\">\n",
       "  <thead>\n",
       "    <tr style=\"text-align: right;\">\n",
       "      <th>gene_ens_id</th>\n",
       "      <th>ENSG00000169429.10</th>\n",
       "      <th>ENSG00000135245.9</th>\n",
       "      <th>ENSG00000163631.16</th>\n",
       "      <th>ENSG00000277632.1</th>\n",
       "      <th>ENSG00000239839.6</th>\n",
       "      <th>ENSG00000186652.9</th>\n",
       "      <th>ENSG00000129824.15</th>\n",
       "      <th>ENSG00000152463.14</th>\n",
       "      <th>ENSG00000123689.5</th>\n",
       "      <th>ENSG00000012223.12</th>\n",
       "      <th>...</th>\n",
       "      <th>ENSG00000122033.14</th>\n",
       "      <th>ENSG00000145779.7</th>\n",
       "      <th>ENSG00000196396.9</th>\n",
       "      <th>ENSG00000216490.3</th>\n",
       "      <th>ENSG00000135521.8</th>\n",
       "      <th>ENSG00000198478.7</th>\n",
       "      <th>ENSG00000168137.15</th>\n",
       "      <th>ENSG00000182197.10</th>\n",
       "      <th>ENSG00000111641.11</th>\n",
       "      <th>ENSG00000168528.11</th>\n",
       "    </tr>\n",
       "    <tr>\n",
       "      <th>gene_ens_id</th>\n",
       "      <th></th>\n",
       "      <th></th>\n",
       "      <th></th>\n",
       "      <th></th>\n",
       "      <th></th>\n",
       "      <th></th>\n",
       "      <th></th>\n",
       "      <th></th>\n",
       "      <th></th>\n",
       "      <th></th>\n",
       "      <th></th>\n",
       "      <th></th>\n",
       "      <th></th>\n",
       "      <th></th>\n",
       "      <th></th>\n",
       "      <th></th>\n",
       "      <th></th>\n",
       "      <th></th>\n",
       "      <th></th>\n",
       "      <th></th>\n",
       "      <th></th>\n",
       "    </tr>\n",
       "  </thead>\n",
       "  <tbody>\n",
       "    <tr>\n",
       "      <th>ENSG00000169429.10</th>\n",
       "      <td>1.000000</td>\n",
       "      <td>0.853836</td>\n",
       "      <td>0.709240</td>\n",
       "      <td>0.850371</td>\n",
       "      <td>0.379835</td>\n",
       "      <td>0.760102</td>\n",
       "      <td>0.243599</td>\n",
       "      <td>-0.694446</td>\n",
       "      <td>0.866183</td>\n",
       "      <td>0.657452</td>\n",
       "      <td>...</td>\n",
       "      <td>-0.376521</td>\n",
       "      <td>-0.008912</td>\n",
       "      <td>-0.002147</td>\n",
       "      <td>-0.069521</td>\n",
       "      <td>-0.119740</td>\n",
       "      <td>-0.341219</td>\n",
       "      <td>0.457231</td>\n",
       "      <td>-0.458056</td>\n",
       "      <td>0.435510</td>\n",
       "      <td>-0.126189</td>\n",
       "    </tr>\n",
       "    <tr>\n",
       "      <th>ENSG00000135245.9</th>\n",
       "      <td>0.853836</td>\n",
       "      <td>1.000000</td>\n",
       "      <td>0.675719</td>\n",
       "      <td>0.834496</td>\n",
       "      <td>0.422539</td>\n",
       "      <td>0.735840</td>\n",
       "      <td>0.233504</td>\n",
       "      <td>-0.574572</td>\n",
       "      <td>0.827193</td>\n",
       "      <td>0.626538</td>\n",
       "      <td>...</td>\n",
       "      <td>-0.350526</td>\n",
       "      <td>-0.017997</td>\n",
       "      <td>0.052715</td>\n",
       "      <td>0.029882</td>\n",
       "      <td>-0.129671</td>\n",
       "      <td>-0.361843</td>\n",
       "      <td>0.459400</td>\n",
       "      <td>-0.373947</td>\n",
       "      <td>0.449254</td>\n",
       "      <td>0.043939</td>\n",
       "    </tr>\n",
       "    <tr>\n",
       "      <th>ENSG00000163631.16</th>\n",
       "      <td>0.709240</td>\n",
       "      <td>0.675719</td>\n",
       "      <td>1.000000</td>\n",
       "      <td>0.683018</td>\n",
       "      <td>0.388814</td>\n",
       "      <td>0.730922</td>\n",
       "      <td>0.177607</td>\n",
       "      <td>-0.558213</td>\n",
       "      <td>0.667917</td>\n",
       "      <td>0.613913</td>\n",
       "      <td>...</td>\n",
       "      <td>-0.427955</td>\n",
       "      <td>-0.190712</td>\n",
       "      <td>-0.125631</td>\n",
       "      <td>-0.109937</td>\n",
       "      <td>-0.253229</td>\n",
       "      <td>-0.332238</td>\n",
       "      <td>0.205314</td>\n",
       "      <td>-0.452284</td>\n",
       "      <td>0.309117</td>\n",
       "      <td>-0.073344</td>\n",
       "    </tr>\n",
       "    <tr>\n",
       "      <th>ENSG00000277632.1</th>\n",
       "      <td>0.850371</td>\n",
       "      <td>0.834496</td>\n",
       "      <td>0.683018</td>\n",
       "      <td>1.000000</td>\n",
       "      <td>0.402836</td>\n",
       "      <td>0.756369</td>\n",
       "      <td>0.281333</td>\n",
       "      <td>-0.667793</td>\n",
       "      <td>0.808998</td>\n",
       "      <td>0.659031</td>\n",
       "      <td>...</td>\n",
       "      <td>-0.359078</td>\n",
       "      <td>-0.009396</td>\n",
       "      <td>0.047820</td>\n",
       "      <td>-0.001894</td>\n",
       "      <td>-0.076270</td>\n",
       "      <td>-0.343856</td>\n",
       "      <td>0.419410</td>\n",
       "      <td>-0.436411</td>\n",
       "      <td>0.546328</td>\n",
       "      <td>-0.080340</td>\n",
       "    </tr>\n",
       "    <tr>\n",
       "      <th>ENSG00000239839.6</th>\n",
       "      <td>0.379835</td>\n",
       "      <td>0.422539</td>\n",
       "      <td>0.388814</td>\n",
       "      <td>0.402836</td>\n",
       "      <td>1.000000</td>\n",
       "      <td>0.626519</td>\n",
       "      <td>0.045501</td>\n",
       "      <td>-0.341542</td>\n",
       "      <td>0.297492</td>\n",
       "      <td>0.691271</td>\n",
       "      <td>...</td>\n",
       "      <td>-0.212080</td>\n",
       "      <td>-0.041432</td>\n",
       "      <td>-0.137451</td>\n",
       "      <td>-0.072243</td>\n",
       "      <td>-0.097927</td>\n",
       "      <td>-0.151915</td>\n",
       "      <td>0.086806</td>\n",
       "      <td>-0.350749</td>\n",
       "      <td>0.188874</td>\n",
       "      <td>0.140163</td>\n",
       "    </tr>\n",
       "  </tbody>\n",
       "</table>\n",
       "<p>5 rows × 5000 columns</p>\n",
       "</div>"
      ],
      "text/plain": [
       "gene_ens_id         ENSG00000169429.10  ENSG00000135245.9  ENSG00000163631.16  \\\n",
       "gene_ens_id                                                                     \n",
       "ENSG00000169429.10            1.000000           0.853836            0.709240   \n",
       "ENSG00000135245.9             0.853836           1.000000            0.675719   \n",
       "ENSG00000163631.16            0.709240           0.675719            1.000000   \n",
       "ENSG00000277632.1             0.850371           0.834496            0.683018   \n",
       "ENSG00000239839.6             0.379835           0.422539            0.388814   \n",
       "\n",
       "gene_ens_id         ENSG00000277632.1  ENSG00000239839.6  ENSG00000186652.9  \\\n",
       "gene_ens_id                                                                   \n",
       "ENSG00000169429.10           0.850371           0.379835           0.760102   \n",
       "ENSG00000135245.9            0.834496           0.422539           0.735840   \n",
       "ENSG00000163631.16           0.683018           0.388814           0.730922   \n",
       "ENSG00000277632.1            1.000000           0.402836           0.756369   \n",
       "ENSG00000239839.6            0.402836           1.000000           0.626519   \n",
       "\n",
       "gene_ens_id         ENSG00000129824.15  ENSG00000152463.14  ENSG00000123689.5  \\\n",
       "gene_ens_id                                                                     \n",
       "ENSG00000169429.10            0.243599           -0.694446           0.866183   \n",
       "ENSG00000135245.9             0.233504           -0.574572           0.827193   \n",
       "ENSG00000163631.16            0.177607           -0.558213           0.667917   \n",
       "ENSG00000277632.1             0.281333           -0.667793           0.808998   \n",
       "ENSG00000239839.6             0.045501           -0.341542           0.297492   \n",
       "\n",
       "gene_ens_id         ENSG00000012223.12  ...  ENSG00000122033.14  \\\n",
       "gene_ens_id                             ...                       \n",
       "ENSG00000169429.10            0.657452  ...           -0.376521   \n",
       "ENSG00000135245.9             0.626538  ...           -0.350526   \n",
       "ENSG00000163631.16            0.613913  ...           -0.427955   \n",
       "ENSG00000277632.1             0.659031  ...           -0.359078   \n",
       "ENSG00000239839.6             0.691271  ...           -0.212080   \n",
       "\n",
       "gene_ens_id         ENSG00000145779.7  ENSG00000196396.9  ENSG00000216490.3  \\\n",
       "gene_ens_id                                                                   \n",
       "ENSG00000169429.10          -0.008912          -0.002147          -0.069521   \n",
       "ENSG00000135245.9           -0.017997           0.052715           0.029882   \n",
       "ENSG00000163631.16          -0.190712          -0.125631          -0.109937   \n",
       "ENSG00000277632.1           -0.009396           0.047820          -0.001894   \n",
       "ENSG00000239839.6           -0.041432          -0.137451          -0.072243   \n",
       "\n",
       "gene_ens_id         ENSG00000135521.8  ENSG00000198478.7  ENSG00000168137.15  \\\n",
       "gene_ens_id                                                                    \n",
       "ENSG00000169429.10          -0.119740          -0.341219            0.457231   \n",
       "ENSG00000135245.9           -0.129671          -0.361843            0.459400   \n",
       "ENSG00000163631.16          -0.253229          -0.332238            0.205314   \n",
       "ENSG00000277632.1           -0.076270          -0.343856            0.419410   \n",
       "ENSG00000239839.6           -0.097927          -0.151915            0.086806   \n",
       "\n",
       "gene_ens_id         ENSG00000182197.10  ENSG00000111641.11  ENSG00000168528.11  \n",
       "gene_ens_id                                                                     \n",
       "ENSG00000169429.10           -0.458056            0.435510           -0.126189  \n",
       "ENSG00000135245.9            -0.373947            0.449254            0.043939  \n",
       "ENSG00000163631.16           -0.452284            0.309117           -0.073344  \n",
       "ENSG00000277632.1            -0.436411            0.546328           -0.080340  \n",
       "ENSG00000239839.6            -0.350749            0.188874            0.140163  \n",
       "\n",
       "[5 rows x 5000 columns]"
      ]
     },
     "execution_count": 23,
     "metadata": {},
     "output_type": "execute_result"
    }
   ],
   "source": [
    "spearman_df.head()"
   ]
  },
  {
   "cell_type": "code",
   "execution_count": 24,
   "id": "ccd00c49-b2b0-42b3-97e9-a444bffc0654",
   "metadata": {
    "execution": {
     "iopub.execute_input": "2022-01-24T16:38:21.703397Z",
     "iopub.status.busy": "2022-01-24T16:38:21.702930Z",
     "iopub.status.idle": "2022-01-24T16:38:21.704420Z",
     "shell.execute_reply": "2022-01-24T16:38:21.704775Z"
    },
    "papermill": {
     "duration": 0.044346,
     "end_time": "2022-01-24T16:38:21.704887",
     "exception": false,
     "start_time": "2022-01-24T16:38:21.660541",
     "status": "completed"
    },
    "tags": []
   },
   "outputs": [],
   "source": [
    "assert data.index.equals(spearman_df.index)"
   ]
  },
  {
   "cell_type": "markdown",
   "id": "d8ad7af3-5821-4501-b336-c01a4cfb78ec",
   "metadata": {
    "papermill": {
     "duration": 0.04385,
     "end_time": "2022-01-24T16:38:21.787042",
     "exception": false,
     "start_time": "2022-01-24T16:38:21.743192",
     "status": "completed"
    },
    "tags": []
   },
   "source": [
    "## Merge"
   ]
  },
  {
   "cell_type": "code",
   "execution_count": 25,
   "id": "fbeddbfc-4c0b-4116-a5f8-7c81ad810af6",
   "metadata": {
    "execution": {
     "iopub.execute_input": "2022-01-24T16:38:21.869791Z",
     "iopub.status.busy": "2022-01-24T16:38:21.867796Z",
     "iopub.status.idle": "2022-01-24T16:38:21.871449Z",
     "shell.execute_reply": "2022-01-24T16:38:21.871788Z"
    },
    "papermill": {
     "duration": 0.04481,
     "end_time": "2022-01-24T16:38:21.871966",
     "exception": false,
     "start_time": "2022-01-24T16:38:21.827156",
     "status": "completed"
    },
    "tags": []
   },
   "outputs": [],
   "source": [
    "def get_upper_triag(data, k=1):\n",
    "    mask = np.triu(np.ones(data.shape), k=k).astype(bool)\n",
    "    return data.where(mask)"
   ]
  },
  {
   "cell_type": "code",
   "execution_count": 26,
   "id": "0f647602-5e63-4f49-b88f-9dbc175d1967",
   "metadata": {
    "execution": {
     "iopub.execute_input": "2022-01-24T16:38:21.951650Z",
     "iopub.status.busy": "2022-01-24T16:38:21.951162Z",
     "iopub.status.idle": "2022-01-24T16:38:21.952821Z",
     "shell.execute_reply": "2022-01-24T16:38:21.953188Z"
    },
    "papermill": {
     "duration": 0.042841,
     "end_time": "2022-01-24T16:38:21.953300",
     "exception": false,
     "start_time": "2022-01-24T16:38:21.910459",
     "status": "completed"
    },
    "tags": []
   },
   "outputs": [],
   "source": [
    "# # make sure genes match\n",
    "# clustermatch_df = clustermatch_df.loc[pearson_df.index, pearson_df.columns]"
   ]
  },
  {
   "cell_type": "code",
   "execution_count": 27,
   "id": "ae82d327-4f1b-413c-a7e9-c5b82268f013",
   "metadata": {
    "execution": {
     "iopub.execute_input": "2022-01-24T16:38:22.033337Z",
     "iopub.status.busy": "2022-01-24T16:38:22.032828Z",
     "iopub.status.idle": "2022-01-24T16:38:22.299416Z",
     "shell.execute_reply": "2022-01-24T16:38:22.298986Z"
    },
    "papermill": {
     "duration": 0.307565,
     "end_time": "2022-01-24T16:38:22.299515",
     "exception": false,
     "start_time": "2022-01-24T16:38:21.991950",
     "status": "completed"
    },
    "tags": []
   },
   "outputs": [],
   "source": [
    "clustermatch_df = get_upper_triag(clustermatch_df)"
   ]
  },
  {
   "cell_type": "code",
   "execution_count": 28,
   "id": "b51f60c1-8f81-45ae-a89a-11ae721ed8d2",
   "metadata": {
    "execution": {
     "iopub.execute_input": "2022-01-24T16:38:22.381325Z",
     "iopub.status.busy": "2022-01-24T16:38:22.380522Z",
     "iopub.status.idle": "2022-01-24T16:38:22.724975Z",
     "shell.execute_reply": "2022-01-24T16:38:22.724556Z"
    },
    "papermill": {
     "duration": 0.386195,
     "end_time": "2022-01-24T16:38:22.725084",
     "exception": false,
     "start_time": "2022-01-24T16:38:22.338889",
     "status": "completed"
    },
    "tags": []
   },
   "outputs": [],
   "source": [
    "clustermatch_df = clustermatch_df.unstack().rename_axis((None, None)).dropna()"
   ]
  },
  {
   "cell_type": "code",
   "execution_count": 29,
   "id": "6dcab8f8-b51f-4120-8f3d-6322ddf0fc9b",
   "metadata": {
    "execution": {
     "iopub.execute_input": "2022-01-24T16:38:22.815845Z",
     "iopub.status.busy": "2022-01-24T16:38:22.815342Z",
     "iopub.status.idle": "2022-01-24T16:38:22.817980Z",
     "shell.execute_reply": "2022-01-24T16:38:22.817599Z"
    },
    "papermill": {
     "duration": 0.051367,
     "end_time": "2022-01-24T16:38:22.818080",
     "exception": false,
     "start_time": "2022-01-24T16:38:22.766713",
     "status": "completed"
    },
    "tags": []
   },
   "outputs": [
    {
     "data": {
      "text/plain": [
       "(12497500,)"
      ]
     },
     "execution_count": 29,
     "metadata": {},
     "output_type": "execute_result"
    }
   ],
   "source": [
    "clustermatch_df.shape"
   ]
  },
  {
   "cell_type": "code",
   "execution_count": 30,
   "id": "9b1d8344-94ab-449e-803b-fbfbb6c0a152",
   "metadata": {
    "execution": {
     "iopub.execute_input": "2022-01-24T16:38:22.902732Z",
     "iopub.status.busy": "2022-01-24T16:38:22.902039Z",
     "iopub.status.idle": "2022-01-24T16:38:22.904602Z",
     "shell.execute_reply": "2022-01-24T16:38:22.904960Z"
    },
    "papermill": {
     "duration": 0.047104,
     "end_time": "2022-01-24T16:38:22.905090",
     "exception": false,
     "start_time": "2022-01-24T16:38:22.857986",
     "status": "completed"
    },
    "tags": []
   },
   "outputs": [
    {
     "data": {
      "text/plain": [
       "ENSG00000135245.9   ENSG00000169429.10    0.780181\n",
       "ENSG00000163631.16  ENSG00000169429.10    0.401717\n",
       "                    ENSG00000135245.9     0.429092\n",
       "ENSG00000277632.1   ENSG00000169429.10    0.789583\n",
       "                    ENSG00000135245.9     0.780181\n",
       "dtype: float64"
      ]
     },
     "execution_count": 30,
     "metadata": {},
     "output_type": "execute_result"
    }
   ],
   "source": [
    "clustermatch_df.head()"
   ]
  },
  {
   "cell_type": "code",
   "execution_count": 31,
   "id": "2d15b513-c949-4b43-96e7-9eb3f30fc5ef",
   "metadata": {
    "execution": {
     "iopub.execute_input": "2022-01-24T16:38:22.987687Z",
     "iopub.status.busy": "2022-01-24T16:38:22.987165Z",
     "iopub.status.idle": "2022-01-24T16:38:23.236313Z",
     "shell.execute_reply": "2022-01-24T16:38:23.235835Z"
    },
    "papermill": {
     "duration": 0.291082,
     "end_time": "2022-01-24T16:38:23.236408",
     "exception": false,
     "start_time": "2022-01-24T16:38:22.945326",
     "status": "completed"
    },
    "tags": []
   },
   "outputs": [],
   "source": [
    "pearson_df = get_upper_triag(pearson_df)"
   ]
  },
  {
   "cell_type": "code",
   "execution_count": 32,
   "id": "62e67326-bdd5-4710-9bbe-da0ca57ec466",
   "metadata": {
    "execution": {
     "iopub.execute_input": "2022-01-24T16:38:23.422849Z",
     "iopub.status.busy": "2022-01-24T16:38:23.422339Z",
     "iopub.status.idle": "2022-01-24T16:38:23.676670Z",
     "shell.execute_reply": "2022-01-24T16:38:23.676210Z"
    },
    "papermill": {
     "duration": 0.401994,
     "end_time": "2022-01-24T16:38:23.676780",
     "exception": false,
     "start_time": "2022-01-24T16:38:23.274786",
     "status": "completed"
    },
    "tags": []
   },
   "outputs": [],
   "source": [
    "# make pearson abs\n",
    "pearson_df = pearson_df.unstack().rename_axis((None, None)).dropna().abs()"
   ]
  },
  {
   "cell_type": "code",
   "execution_count": 33,
   "id": "1a357889-1e00-4ff3-b0d1-a65ae9254824",
   "metadata": {
    "execution": {
     "iopub.execute_input": "2022-01-24T16:38:23.761492Z",
     "iopub.status.busy": "2022-01-24T16:38:23.760612Z",
     "iopub.status.idle": "2022-01-24T16:38:23.762778Z",
     "shell.execute_reply": "2022-01-24T16:38:23.761076Z"
    },
    "papermill": {
     "duration": 0.045897,
     "end_time": "2022-01-24T16:38:23.762882",
     "exception": false,
     "start_time": "2022-01-24T16:38:23.716985",
     "status": "completed"
    },
    "tags": []
   },
   "outputs": [
    {
     "data": {
      "text/plain": [
       "(12497500,)"
      ]
     },
     "execution_count": 33,
     "metadata": {},
     "output_type": "execute_result"
    }
   ],
   "source": [
    "pearson_df.shape"
   ]
  },
  {
   "cell_type": "code",
   "execution_count": 34,
   "id": "1e2a38f8-8e02-490f-8e8f-4fee1b1159fa",
   "metadata": {
    "execution": {
     "iopub.execute_input": "2022-01-24T16:38:23.854130Z",
     "iopub.status.busy": "2022-01-24T16:38:23.853487Z",
     "iopub.status.idle": "2022-01-24T16:38:23.855818Z",
     "shell.execute_reply": "2022-01-24T16:38:23.856227Z"
    },
    "papermill": {
     "duration": 0.047072,
     "end_time": "2022-01-24T16:38:23.856341",
     "exception": false,
     "start_time": "2022-01-24T16:38:23.809269",
     "status": "completed"
    },
    "tags": []
   },
   "outputs": [
    {
     "data": {
      "text/plain": [
       "ENSG00000135245.9   ENSG00000169429.10    0.571672\n",
       "ENSG00000163631.16  ENSG00000169429.10    0.126906\n",
       "                    ENSG00000135245.9     0.110612\n",
       "ENSG00000277632.1   ENSG00000169429.10    0.456538\n",
       "                    ENSG00000135245.9     0.438929\n",
       "dtype: float64"
      ]
     },
     "execution_count": 34,
     "metadata": {},
     "output_type": "execute_result"
    }
   ],
   "source": [
    "pearson_df.head()"
   ]
  },
  {
   "cell_type": "code",
   "execution_count": 35,
   "id": "002f33f3-ebcf-4755-aa7b-82802e115ee0",
   "metadata": {
    "execution": {
     "iopub.execute_input": "2022-01-24T16:38:23.938804Z",
     "iopub.status.busy": "2022-01-24T16:38:23.938321Z",
     "iopub.status.idle": "2022-01-24T16:38:26.552471Z",
     "shell.execute_reply": "2022-01-24T16:38:26.552009Z"
    },
    "papermill": {
     "duration": 2.656696,
     "end_time": "2022-01-24T16:38:26.552567",
     "exception": false,
     "start_time": "2022-01-24T16:38:23.895871",
     "status": "completed"
    },
    "tags": []
   },
   "outputs": [],
   "source": [
    "assert clustermatch_df.index.equals(pearson_df.index)"
   ]
  },
  {
   "cell_type": "code",
   "execution_count": 36,
   "id": "2b1a29c7-221a-4e92-a6ac-e8f3932178e3",
   "metadata": {
    "execution": {
     "iopub.execute_input": "2022-01-24T16:38:26.634325Z",
     "iopub.status.busy": "2022-01-24T16:38:26.633840Z",
     "iopub.status.idle": "2022-01-24T16:38:26.902778Z",
     "shell.execute_reply": "2022-01-24T16:38:26.902302Z"
    },
    "papermill": {
     "duration": 0.311111,
     "end_time": "2022-01-24T16:38:26.902877",
     "exception": false,
     "start_time": "2022-01-24T16:38:26.591766",
     "status": "completed"
    },
    "tags": []
   },
   "outputs": [],
   "source": [
    "spearman_df = get_upper_triag(spearman_df)"
   ]
  },
  {
   "cell_type": "code",
   "execution_count": 37,
   "id": "0969a867-08ad-43c4-a0ca-9617867e0c50",
   "metadata": {
    "execution": {
     "iopub.execute_input": "2022-01-24T16:38:27.092183Z",
     "iopub.status.busy": "2022-01-24T16:38:27.091600Z",
     "iopub.status.idle": "2022-01-24T16:38:27.343997Z",
     "shell.execute_reply": "2022-01-24T16:38:27.343519Z"
    },
    "papermill": {
     "duration": 0.401359,
     "end_time": "2022-01-24T16:38:27.344108",
     "exception": false,
     "start_time": "2022-01-24T16:38:26.942749",
     "status": "completed"
    },
    "tags": []
   },
   "outputs": [],
   "source": [
    "# make spearman abs\n",
    "spearman_df = spearman_df.unstack().rename_axis((None, None)).dropna().abs()"
   ]
  },
  {
   "cell_type": "code",
   "execution_count": 38,
   "id": "866bbc4c-ef0b-430a-8d17-7edadd5b2fd2",
   "metadata": {
    "execution": {
     "iopub.execute_input": "2022-01-24T16:38:27.429978Z",
     "iopub.status.busy": "2022-01-24T16:38:27.429490Z",
     "iopub.status.idle": "2022-01-24T16:38:27.431758Z",
     "shell.execute_reply": "2022-01-24T16:38:27.432136Z"
    },
    "papermill": {
     "duration": 0.045215,
     "end_time": "2022-01-24T16:38:27.432254",
     "exception": false,
     "start_time": "2022-01-24T16:38:27.387039",
     "status": "completed"
    },
    "tags": []
   },
   "outputs": [
    {
     "data": {
      "text/plain": [
       "(12497500,)"
      ]
     },
     "execution_count": 38,
     "metadata": {},
     "output_type": "execute_result"
    }
   ],
   "source": [
    "spearman_df.shape"
   ]
  },
  {
   "cell_type": "code",
   "execution_count": 39,
   "id": "4fc27d0e-87a0-40a7-9f53-ea8a215e4fee",
   "metadata": {
    "execution": {
     "iopub.execute_input": "2022-01-24T16:38:27.518385Z",
     "iopub.status.busy": "2022-01-24T16:38:27.517751Z",
     "iopub.status.idle": "2022-01-24T16:38:27.520689Z",
     "shell.execute_reply": "2022-01-24T16:38:27.520227Z"
    },
    "papermill": {
     "duration": 0.048169,
     "end_time": "2022-01-24T16:38:27.520786",
     "exception": false,
     "start_time": "2022-01-24T16:38:27.472617",
     "status": "completed"
    },
    "tags": []
   },
   "outputs": [
    {
     "data": {
      "text/plain": [
       "ENSG00000135245.9   ENSG00000169429.10    0.853836\n",
       "ENSG00000163631.16  ENSG00000169429.10    0.709240\n",
       "                    ENSG00000135245.9     0.675719\n",
       "ENSG00000277632.1   ENSG00000169429.10    0.850371\n",
       "                    ENSG00000135245.9     0.834496\n",
       "dtype: float64"
      ]
     },
     "execution_count": 39,
     "metadata": {},
     "output_type": "execute_result"
    }
   ],
   "source": [
    "spearman_df.head()"
   ]
  },
  {
   "cell_type": "code",
   "execution_count": 40,
   "id": "92999223-d496-43b4-8381-172d55030e21",
   "metadata": {
    "execution": {
     "iopub.execute_input": "2022-01-24T16:38:27.603690Z",
     "iopub.status.busy": "2022-01-24T16:38:27.603218Z",
     "iopub.status.idle": "2022-01-24T16:38:30.218559Z",
     "shell.execute_reply": "2022-01-24T16:38:30.217284Z"
    },
    "papermill": {
     "duration": 2.65821,
     "end_time": "2022-01-24T16:38:30.218772",
     "exception": false,
     "start_time": "2022-01-24T16:38:27.560562",
     "status": "completed"
    },
    "tags": []
   },
   "outputs": [],
   "source": [
    "assert clustermatch_df.index.equals(spearman_df.index)"
   ]
  },
  {
   "cell_type": "code",
   "execution_count": 41,
   "id": "aaada007-6ad1-4adb-91a4-e456f95231f5",
   "metadata": {
    "execution": {
     "iopub.execute_input": "2022-01-24T16:38:30.303642Z",
     "iopub.status.busy": "2022-01-24T16:38:30.303168Z",
     "iopub.status.idle": "2022-01-24T16:39:09.348995Z",
     "shell.execute_reply": "2022-01-24T16:39:09.348497Z"
    },
    "papermill": {
     "duration": 39.089363,
     "end_time": "2022-01-24T16:39:09.349106",
     "exception": false,
     "start_time": "2022-01-24T16:38:30.259743",
     "status": "completed"
    },
    "tags": []
   },
   "outputs": [],
   "source": [
    "df = pd.DataFrame(\n",
    "    {\n",
    "        \"clustermatch\": clustermatch_df,\n",
    "        \"pearson\": pearson_df,\n",
    "        \"spearman\": spearman_df,\n",
    "    }\n",
    ").sort_index()"
   ]
  },
  {
   "cell_type": "code",
   "execution_count": 42,
   "id": "7613642e-0a3d-442d-8511-d4acd6271194",
   "metadata": {
    "execution": {
     "iopub.execute_input": "2022-01-24T16:39:09.433667Z",
     "iopub.status.busy": "2022-01-24T16:39:09.433173Z",
     "iopub.status.idle": "2022-01-24T16:39:09.461449Z",
     "shell.execute_reply": "2022-01-24T16:39:09.460897Z"
    },
    "papermill": {
     "duration": 0.070905,
     "end_time": "2022-01-24T16:39:09.461565",
     "exception": false,
     "start_time": "2022-01-24T16:39:09.390660",
     "status": "completed"
    },
    "tags": []
   },
   "outputs": [],
   "source": [
    "assert not df.isna().any().any()"
   ]
  },
  {
   "cell_type": "code",
   "execution_count": 43,
   "id": "baf842f9-d6c8-48b7-bffe-8eb05c73d7de",
   "metadata": {
    "execution": {
     "iopub.execute_input": "2022-01-24T16:39:09.548697Z",
     "iopub.status.busy": "2022-01-24T16:39:09.548014Z",
     "iopub.status.idle": "2022-01-24T16:39:09.551154Z",
     "shell.execute_reply": "2022-01-24T16:39:09.550708Z"
    },
    "papermill": {
     "duration": 0.046311,
     "end_time": "2022-01-24T16:39:09.551248",
     "exception": false,
     "start_time": "2022-01-24T16:39:09.504937",
     "status": "completed"
    },
    "tags": []
   },
   "outputs": [
    {
     "data": {
      "text/plain": [
       "(12497500, 3)"
      ]
     },
     "execution_count": 43,
     "metadata": {},
     "output_type": "execute_result"
    }
   ],
   "source": [
    "df.shape"
   ]
  },
  {
   "cell_type": "code",
   "execution_count": 44,
   "id": "3bd226fe-0c9d-4b69-8250-e22ccaf3730f",
   "metadata": {
    "execution": {
     "iopub.execute_input": "2022-01-24T16:39:09.639835Z",
     "iopub.status.busy": "2022-01-24T16:39:09.639206Z",
     "iopub.status.idle": "2022-01-24T16:39:09.642428Z",
     "shell.execute_reply": "2022-01-24T16:39:09.641989Z"
    },
    "papermill": {
     "duration": 0.050826,
     "end_time": "2022-01-24T16:39:09.642520",
     "exception": false,
     "start_time": "2022-01-24T16:39:09.591694",
     "status": "completed"
    },
    "tags": []
   },
   "outputs": [
    {
     "data": {
      "text/html": [
       "<div>\n",
       "<style scoped>\n",
       "    .dataframe tbody tr th:only-of-type {\n",
       "        vertical-align: middle;\n",
       "    }\n",
       "\n",
       "    .dataframe tbody tr th {\n",
       "        vertical-align: top;\n",
       "    }\n",
       "\n",
       "    .dataframe thead th {\n",
       "        text-align: right;\n",
       "    }\n",
       "</style>\n",
       "<table border=\"1\" class=\"dataframe\">\n",
       "  <thead>\n",
       "    <tr style=\"text-align: right;\">\n",
       "      <th></th>\n",
       "      <th></th>\n",
       "      <th>clustermatch</th>\n",
       "      <th>pearson</th>\n",
       "      <th>spearman</th>\n",
       "    </tr>\n",
       "  </thead>\n",
       "  <tbody>\n",
       "    <tr>\n",
       "      <th rowspan=\"5\" valign=\"top\">ENSG00000000419.12</th>\n",
       "      <th>ENSG00000002834.17</th>\n",
       "      <td>0.418721</td>\n",
       "      <td>0.681847</td>\n",
       "      <td>0.786595</td>\n",
       "    </tr>\n",
       "    <tr>\n",
       "      <th>ENSG00000002919.14</th>\n",
       "      <td>0.405090</td>\n",
       "      <td>0.734699</td>\n",
       "      <td>0.816991</td>\n",
       "    </tr>\n",
       "    <tr>\n",
       "      <th>ENSG00000002933.7</th>\n",
       "      <td>0.007466</td>\n",
       "      <td>0.013825</td>\n",
       "      <td>0.004128</td>\n",
       "    </tr>\n",
       "    <tr>\n",
       "      <th>ENSG00000003402.19</th>\n",
       "      <td>0.391683</td>\n",
       "      <td>0.727347</td>\n",
       "      <td>0.803653</td>\n",
       "    </tr>\n",
       "    <tr>\n",
       "      <th>ENSG00000004478.7</th>\n",
       "      <td>0.099013</td>\n",
       "      <td>0.094147</td>\n",
       "      <td>0.231269</td>\n",
       "    </tr>\n",
       "  </tbody>\n",
       "</table>\n",
       "</div>"
      ],
      "text/plain": [
       "                                       clustermatch   pearson  spearman\n",
       "ENSG00000000419.12 ENSG00000002834.17      0.418721  0.681847  0.786595\n",
       "                   ENSG00000002919.14      0.405090  0.734699  0.816991\n",
       "                   ENSG00000002933.7       0.007466  0.013825  0.004128\n",
       "                   ENSG00000003402.19      0.391683  0.727347  0.803653\n",
       "                   ENSG00000004478.7       0.099013  0.094147  0.231269"
      ]
     },
     "execution_count": 44,
     "metadata": {},
     "output_type": "execute_result"
    }
   ],
   "source": [
    "df.head()"
   ]
  },
  {
   "cell_type": "markdown",
   "id": "24a50051-141d-4ba0-ad33-3123b4afc1b6",
   "metadata": {
    "papermill": {
     "duration": 0.03998,
     "end_time": "2022-01-24T16:39:09.723193",
     "exception": false,
     "start_time": "2022-01-24T16:39:09.683213",
     "status": "completed"
    },
    "tags": []
   },
   "source": [
    "# Save"
   ]
  },
  {
   "cell_type": "code",
   "execution_count": 45,
   "id": "2f20fdf4-a44a-48c0-bbe1-8def473ac2a5",
   "metadata": {
    "execution": {
     "iopub.execute_input": "2022-01-24T16:39:09.807006Z",
     "iopub.status.busy": "2022-01-24T16:39:09.806543Z",
     "iopub.status.idle": "2022-01-24T16:39:09.993322Z",
     "shell.execute_reply": "2022-01-24T16:39:09.992766Z"
    },
    "papermill": {
     "duration": 0.229981,
     "end_time": "2022-01-24T16:39:09.993435",
     "exception": false,
     "start_time": "2022-01-24T16:39:09.763454",
     "status": "completed"
    },
    "tags": []
   },
   "outputs": [],
   "source": [
    "df.to_pickle(OUTPUT_FILE)"
   ]
  },
  {
   "cell_type": "code",
   "execution_count": null,
   "id": "8f464a7f-b76f-4898-8bf5-074eabd33626",
   "metadata": {
    "papermill": {
     "duration": 0.040435,
     "end_time": "2022-01-24T16:39:10.077889",
     "exception": false,
     "start_time": "2022-01-24T16:39:10.037454",
     "status": "completed"
    },
    "tags": []
   },
   "outputs": [],
   "source": []
  }
 ],
 "metadata": {
  "jupytext": {
   "cell_metadata_filter": "all,-execution,-papermill,-trusted"
  },
  "kernelspec": {
   "display_name": "Python 3 (ipykernel)",
   "language": "python",
   "name": "python3"
  },
  "language_info": {
   "codemirror_mode": {
    "name": "ipython",
    "version": 3
   },
   "file_extension": ".py",
   "mimetype": "text/x-python",
   "name": "python",
   "nbconvert_exporter": "python",
   "pygments_lexer": "ipython3",
   "version": "3.9.9"
  },
  "papermill": {
   "default_parameters": {},
   "duration": 53.158221,
   "end_time": "2022-01-24T16:39:10.324915",
   "environment_variables": {},
   "exception": null,
   "input_path": "nbs/10_compute_correlations/05_gtex_v8/50-combine_all.ipynb",
   "output_path": "nbs/10_compute_correlations/05_gtex_v8/50-combine_all.run.ipynb",
   "parameters": {
    "GTEX_TISSUE": "skin_sun_exposed_lower_leg"
   },
   "start_time": "2022-01-24T16:38:17.166694",
   "version": "2.3.3"
  }
 },
 "nbformat": 4,
 "nbformat_minor": 5
}
