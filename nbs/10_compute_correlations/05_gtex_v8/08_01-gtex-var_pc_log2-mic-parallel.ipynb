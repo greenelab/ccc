{
 "cells": [
  {
   "cell_type": "markdown",
   "id": "e9773a95-e8fd-4963-87a5-0c92299434d5",
   "metadata": {
    "papermill": {
     "duration": 0.049341,
     "end_time": "2022-01-21T05:29:56.178371",
     "exception": false,
     "start_time": "2022-01-21T05:29:56.129030",
     "status": "completed"
    },
    "tags": []
   },
   "source": [
    "# Description"
   ]
  },
  {
   "cell_type": "markdown",
   "id": "57f34c74-404d-4776-b547-e6acb2df75d7",
   "metadata": {
    "papermill": {
     "duration": 0.014269,
     "end_time": "2022-01-21T05:29:56.209953",
     "exception": false,
     "start_time": "2022-01-21T05:29:56.195684",
     "status": "completed"
    },
    "tags": []
   },
   "source": [
    "According to the settings specified below, this notebook:\n",
    " 1. reads all the data from one source (GTEx, recount2, etc) according to the gene selection method (`GENE_SELECTION_STRATEGY`),\n",
    " 2. runs a quick performance test using the correlation coefficient specified (`CORRELATION_METHOD`), and\n",
    " 3. computes the correlation matrix across all the genes using the correlation coefficient specified."
   ]
  },
  {
   "cell_type": "markdown",
   "id": "1d8fae6b-e623-46a6-aff6-d7849163c820",
   "metadata": {
    "papermill": {
     "duration": 0.014232,
     "end_time": "2022-01-21T05:29:56.238535",
     "exception": false,
     "start_time": "2022-01-21T05:29:56.224303",
     "status": "completed"
    },
    "tags": []
   },
   "source": [
    "# Modules"
   ]
  },
  {
   "cell_type": "code",
   "execution_count": null,
   "id": "76729f0e-f742-495b-b676-d9d7b1539e10",
   "metadata": {
    "papermill": {
     "duration": 0.487927,
     "end_time": "2022-01-21T05:29:56.740781",
     "exception": false,
     "start_time": "2022-01-21T05:29:56.252854",
     "status": "completed"
    },
    "tags": []
   },
   "outputs": [],
   "source": [
    "import pandas as pd\n",
    "from tqdm import tqdm\n",
    "\n",
    "from clustermatch import conf\n",
    "from clustermatch.utils import simplify_string\n",
    "from clustermatch.corr import mic"
   ]
  },
  {
   "cell_type": "markdown",
   "id": "a6c3a546-9a49-45e7-9f17-fbdb5af4bfb6",
   "metadata": {
    "papermill": {
     "duration": 0.014621,
     "end_time": "2022-01-21T05:29:56.770264",
     "exception": false,
     "start_time": "2022-01-21T05:29:56.755643",
     "status": "completed"
    },
    "tags": []
   },
   "source": [
    "# Settings"
   ]
  },
  {
   "cell_type": "code",
   "execution_count": null,
   "id": "56ff94d3-a230-4028-a71d-518ac109209b",
   "metadata": {
    "papermill": {
     "duration": 0.019505,
     "end_time": "2022-01-21T05:29:56.803999",
     "exception": false,
     "start_time": "2022-01-21T05:29:56.784494",
     "status": "completed"
    },
    "tags": []
   },
   "outputs": [],
   "source": [
    "GENE_SELECTION_STRATEGY = \"var_pc_log2\""
   ]
  },
  {
   "cell_type": "code",
   "execution_count": null,
   "id": "f5433907-5b88-4c68-b3d4-fb98298dec4a",
   "metadata": {
    "papermill": {
     "duration": 0.019587,
     "end_time": "2022-01-21T05:29:56.838305",
     "exception": false,
     "start_time": "2022-01-21T05:29:56.818718",
     "status": "completed"
    },
    "tags": []
   },
   "outputs": [],
   "source": [
    "TISSUES = [\n",
    "    # \"Muscle - Skeletal\",\n",
    "    \"Whole Blood\",\n",
    "    # \"Skin - Sun Exposed (Lower leg)\",\n",
    "    # \"Adipose - Subcutaneous\",\n",
    "    # \"Artery - Tibial\",\n",
    "]"
   ]
  },
  {
   "cell_type": "code",
   "execution_count": null,
   "id": "8baf4209-ba56-4e3d-b60f-6ce2bb686159",
   "metadata": {
    "papermill": {
     "duration": 0.025292,
     "end_time": "2022-01-21T05:29:56.878564",
     "exception": false,
     "start_time": "2022-01-21T05:29:56.853272",
     "status": "completed"
    },
    "tags": []
   },
   "outputs": [],
   "source": [
    "def mic_parallel(data):\n",
    "    return mic(data, n_jobs=conf.GENERAL[\"N_JOBS\"])\n",
    "\n",
    "\n",
    "CORRELATION_METHOD = mic_parallel\n",
    "\n",
    "method_name = CORRELATION_METHOD.__name__\n",
    "display(method_name)"
   ]
  },
  {
   "cell_type": "code",
   "execution_count": null,
   "id": "21a3e349-9a09-4d24-89e3-915fdbf08a81",
   "metadata": {
    "papermill": {
     "duration": 0.019577,
     "end_time": "2022-01-21T05:29:56.913312",
     "exception": false,
     "start_time": "2022-01-21T05:29:56.893735",
     "status": "completed"
    },
    "tags": []
   },
   "outputs": [],
   "source": [
    "PERFORMANCE_TEST_N_TOP_GENES = 500"
   ]
  },
  {
   "cell_type": "markdown",
   "id": "b0afcba9-5847-414e-b448-f0cd08ecd8ce",
   "metadata": {
    "papermill": {
     "duration": 0.01462,
     "end_time": "2022-01-21T05:29:56.943263",
     "exception": false,
     "start_time": "2022-01-21T05:29:56.928643",
     "status": "completed"
    },
    "tags": []
   },
   "source": [
    "# Paths"
   ]
  },
  {
   "cell_type": "code",
   "execution_count": null,
   "id": "35760114-8560-4a0e-ad4f-2bee9104c63d",
   "metadata": {
    "papermill": {
     "duration": 0.02204,
     "end_time": "2022-01-21T05:29:56.980301",
     "exception": false,
     "start_time": "2022-01-21T05:29:56.958261",
     "status": "completed"
    },
    "tags": []
   },
   "outputs": [],
   "source": [
    "INPUT_DIR = conf.GTEX[\"GENE_SELECTION_DIR\"]\n",
    "display(INPUT_DIR)\n",
    "\n",
    "assert INPUT_DIR.exists()"
   ]
  },
  {
   "cell_type": "code",
   "execution_count": null,
   "id": "f1418e81-4e77-4f67-b5ed-b29b797e31a0",
   "metadata": {
    "papermill": {
     "duration": 0.021515,
     "end_time": "2022-01-21T05:29:57.017593",
     "exception": false,
     "start_time": "2022-01-21T05:29:56.996078",
     "status": "completed"
    },
    "tags": []
   },
   "outputs": [],
   "source": [
    "OUTPUT_DIR = conf.GTEX[\"SIMILARITY_MATRICES_DIR\"]\n",
    "OUTPUT_DIR.mkdir(parents=True, exist_ok=True)\n",
    "display(OUTPUT_DIR)"
   ]
  },
  {
   "cell_type": "markdown",
   "id": "5fdf8df6-eba0-4cf5-979c-3acd56a5ef3c",
   "metadata": {
    "papermill": {
     "duration": 0.015693,
     "end_time": "2022-01-21T05:29:57.049555",
     "exception": false,
     "start_time": "2022-01-21T05:29:57.033862",
     "status": "completed"
    },
    "tags": []
   },
   "source": [
    "# Data loading"
   ]
  },
  {
   "cell_type": "code",
   "execution_count": null,
   "id": "74c76939-14b3-4e41-9e18-24c8176d2168",
   "metadata": {
    "papermill": {
     "duration": 0.021539,
     "end_time": "2022-01-21T05:29:57.086853",
     "exception": false,
     "start_time": "2022-01-21T05:29:57.065314",
     "status": "completed"
    },
    "tags": []
   },
   "outputs": [],
   "source": [
    "tissue_in_file_names = [f\"_data_{simplify_string(t.lower())}-\" for t in TISSUES]"
   ]
  },
  {
   "cell_type": "code",
   "execution_count": null,
   "id": "596d25ed-4120-4bef-8984-a91ae6529ab5",
   "metadata": {
    "papermill": {
     "duration": 0.024348,
     "end_time": "2022-01-21T05:29:57.126849",
     "exception": false,
     "start_time": "2022-01-21T05:29:57.102501",
     "status": "completed"
    },
    "tags": []
   },
   "outputs": [],
   "source": [
    "input_files = sorted(list(INPUT_DIR.glob(f\"*-{GENE_SELECTION_STRATEGY}.pkl\")))\n",
    "input_files = [\n",
    "    f for f in input_files if any(tn in f.name for tn in tissue_in_file_names)\n",
    "]\n",
    "display(len(input_files))\n",
    "\n",
    "assert len(input_files) == len(TISSUES), len(TISSUES)\n",
    "display(input_files)"
   ]
  },
  {
   "cell_type": "markdown",
   "id": "081da632-fd12-462a-9ae1-c0ceccf1bb5d",
   "metadata": {
    "papermill": {
     "duration": 0.016485,
     "end_time": "2022-01-21T05:29:57.160376",
     "exception": false,
     "start_time": "2022-01-21T05:29:57.143891",
     "status": "completed"
    },
    "tags": []
   },
   "source": [
    "# Compute similarity"
   ]
  },
  {
   "cell_type": "markdown",
   "id": "37137fff-2d3a-43d8-9bd5-d7c3284a97f5",
   "metadata": {
    "papermill": {
     "duration": 0.015883,
     "end_time": "2022-01-21T05:29:57.192519",
     "exception": false,
     "start_time": "2022-01-21T05:29:57.176636",
     "status": "completed"
    },
    "tags": []
   },
   "source": [
    "## Performance test"
   ]
  },
  {
   "cell_type": "code",
   "execution_count": null,
   "id": "5dd40707-759f-4bf9-b8cc-84811b2dfe53",
   "metadata": {
    "papermill": {
     "duration": 0.033267,
     "end_time": "2022-01-21T05:29:57.241907",
     "exception": false,
     "start_time": "2022-01-21T05:29:57.208640",
     "status": "completed"
    },
    "tags": []
   },
   "outputs": [],
   "source": [
    "display(input_files[0])\n",
    "test_data = pd.read_pickle(input_files[0]).iloc[:PERFORMANCE_TEST_N_TOP_GENES]"
   ]
  },
  {
   "cell_type": "code",
   "execution_count": null,
   "id": "e8acd036-93f7-46c0-a1ee-8da0c2c24790",
   "metadata": {
    "papermill": {
     "duration": 0.022958,
     "end_time": "2022-01-21T05:29:57.282239",
     "exception": false,
     "start_time": "2022-01-21T05:29:57.259281",
     "status": "completed"
    },
    "tags": []
   },
   "outputs": [],
   "source": [
    "test_data.shape"
   ]
  },
  {
   "cell_type": "code",
   "execution_count": null,
   "id": "111e360b-dbe4-4b69-9029-7b7669eb5ddc",
   "metadata": {
    "papermill": {
     "duration": 0.040463,
     "end_time": "2022-01-21T05:29:57.340626",
     "exception": false,
     "start_time": "2022-01-21T05:29:57.300163",
     "status": "completed"
    },
    "tags": []
   },
   "outputs": [],
   "source": [
    "test_data.head()"
   ]
  },
  {
   "cell_type": "markdown",
   "id": "5903f3f5-791e-4f03-9d79-600102933d04",
   "metadata": {
    "papermill": {
     "duration": 0.017485,
     "end_time": "2022-01-21T05:29:57.376018",
     "exception": false,
     "start_time": "2022-01-21T05:29:57.358533",
     "status": "completed"
    },
    "tags": []
   },
   "source": [
    "This is a quick performance test of the correlation measure. The following line (`_tmp = ...`) is the setup code, which is needed in case the correlation method was optimized using `numba` and needs to be compiled before performing the test."
   ]
  },
  {
   "cell_type": "code",
   "execution_count": null,
   "id": "118a6631-1cfd-44a3-bd85-5ec7118edd03",
   "metadata": {
    "papermill": {
     "duration": 0.443629,
     "end_time": "2022-01-21T05:29:57.837002",
     "exception": false,
     "start_time": "2022-01-21T05:29:57.393373",
     "status": "completed"
    },
    "tags": []
   },
   "outputs": [],
   "source": [
    "_tmp = CORRELATION_METHOD(test_data.iloc[:3])\n",
    "\n",
    "display(_tmp.shape)\n",
    "display(_tmp)"
   ]
  },
  {
   "cell_type": "code",
   "execution_count": null,
   "id": "d32281d8-f640-4f87-a1d5-aefa0757e9c3",
   "metadata": {
    "papermill": {
     "duration": 2354.249629,
     "end_time": "2022-01-21T06:09:12.106136",
     "exception": false,
     "start_time": "2022-01-21T05:29:57.856507",
     "status": "completed"
    },
    "tags": []
   },
   "outputs": [],
   "source": [
    "%timeit -r1 CORRELATION_METHOD(test_data)"
   ]
  },
  {
   "cell_type": "markdown",
   "id": "fc2f7184-c0da-438c-94f5-002912793636",
   "metadata": {
    "papermill": {
     "duration": 0.022033,
     "end_time": "2022-01-21T06:09:13.030314",
     "exception": false,
     "start_time": "2022-01-21T06:09:13.008281",
     "status": "completed"
    },
    "tags": []
   },
   "source": [
    "## Run"
   ]
  },
  {
   "cell_type": "code",
   "execution_count": null,
   "id": "1237ae45-d4fc-4074-bfc7-a1de75aeea48",
   "metadata": {
    "papermill": {
     "duration": 155840.998745,
     "end_time": "2022-01-23T01:26:34.047845",
     "exception": false,
     "start_time": "2022-01-21T06:09:13.049100",
     "status": "completed"
    },
    "tags": []
   },
   "outputs": [],
   "source": [
    "pbar = tqdm(input_files, ncols=100)\n",
    "\n",
    "for tissue_data_file in pbar:\n",
    "    pbar.set_description(tissue_data_file.stem)\n",
    "\n",
    "    # read\n",
    "    data = pd.read_pickle(tissue_data_file)\n",
    "\n",
    "    # compute correlations\n",
    "    data_corrs = CORRELATION_METHOD(data)\n",
    "\n",
    "    # save\n",
    "    output_filename = f\"{tissue_data_file.stem}-{method_name}.pkl\"\n",
    "    data_corrs.to_pickle(path=OUTPUT_DIR / output_filename)"
   ]
  },
  {
   "cell_type": "code",
   "execution_count": null,
   "id": "258babdf-03ce-4450-ab22-7a3d75bf6869",
   "metadata": {
    "papermill": {
     "duration": 0.021663,
     "end_time": "2022-01-23T01:26:34.091239",
     "exception": false,
     "start_time": "2022-01-23T01:26:34.069576",
     "status": "completed"
    },
    "tags": []
   },
   "outputs": [],
   "source": []
  }
 ],
 "metadata": {
  "jupytext": {
   "cell_metadata_filter": "all,-execution,-papermill,-trusted"
  },
  "kernelspec": {
   "display_name": "Python 3 (ipykernel)",
   "language": "python",
   "name": "python3"
  },
  "language_info": {
   "codemirror_mode": {
    "name": "ipython",
    "version": 3
   },
   "file_extension": ".py",
   "mimetype": "text/x-python",
   "name": "python",
   "nbconvert_exporter": "python",
   "pygments_lexer": "ipython3",
   "version": "3.9.12"
  },
  "papermill": {
   "default_parameters": {},
   "duration": 158199.823605,
   "end_time": "2022-01-23T01:26:34.737642",
   "environment_variables": {},
   "exception": null,
   "input_path": "nbs/10_compute_correlations/05_gtex_v8/07_01-gtex-var_pc_log2-clustermatch.ipynb",
   "output_path": "nbs/10_compute_correlations/05_gtex_v8/07_01-gtex-var_pc_log2-clustermatch.run.ipynb",
   "parameters": {},
   "start_time": "2022-01-21T05:29:54.914037",
   "version": "2.3.3"
  }
 },
 "nbformat": 4,
 "nbformat_minor": 5
}
