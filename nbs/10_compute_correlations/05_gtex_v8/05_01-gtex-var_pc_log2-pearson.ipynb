{
 "cells": [
  {
   "cell_type": "markdown",
   "id": "e9773a95-e8fd-4963-87a5-0c92299434d5",
   "metadata": {
    "papermill": {
     "duration": 0.004834,
     "end_time": "2023-05-19T15:10:33.171050",
     "exception": false,
     "start_time": "2023-05-19T15:10:33.166216",
     "status": "completed"
    },
    "tags": []
   },
   "source": [
    "# Description"
   ]
  },
  {
   "cell_type": "markdown",
   "id": "57f34c74-404d-4776-b547-e6acb2df75d7",
   "metadata": {
    "papermill": {
     "duration": 0.003959,
     "end_time": "2023-05-19T15:10:33.184974",
     "exception": false,
     "start_time": "2023-05-19T15:10:33.181015",
     "status": "completed"
    },
    "tags": []
   },
   "source": [
    "According to the settings specified below, this notebook:\n",
    " 1. reads all the data from one source (GTEx, recount2, etc) according to the gene selection method (`GENE_SELECTION_STRATEGY`),\n",
    " 2. runs a quick performance test using the correlation coefficient specified (`CORRELATION_METHOD`), and\n",
    " 3. computes the correlation matrix across all the genes using the correlation coefficient specified."
   ]
  },
  {
   "cell_type": "markdown",
   "id": "1d8fae6b-e623-46a6-aff6-d7849163c820",
   "metadata": {
    "papermill": {
     "duration": 0.00397,
     "end_time": "2023-05-19T15:10:33.194776",
     "exception": false,
     "start_time": "2023-05-19T15:10:33.190806",
     "status": "completed"
    },
    "tags": []
   },
   "source": [
    "# Modules"
   ]
  },
  {
   "cell_type": "code",
   "execution_count": 1,
   "id": "76729f0e-f742-495b-b676-d9d7b1539e10",
   "metadata": {
    "execution": {
     "iopub.execute_input": "2023-05-19T15:10:33.203972Z",
     "iopub.status.busy": "2023-05-19T15:10:33.203778Z",
     "iopub.status.idle": "2023-05-19T15:10:33.533581Z",
     "shell.execute_reply": "2023-05-19T15:10:33.533160Z"
    },
    "papermill": {
     "duration": 0.336279,
     "end_time": "2023-05-19T15:10:33.535192",
     "exception": false,
     "start_time": "2023-05-19T15:10:33.198913",
     "status": "completed"
    },
    "tags": []
   },
   "outputs": [],
   "source": [
    "import pandas as pd\n",
    "from tqdm import tqdm\n",
    "\n",
    "from ccc import conf\n",
    "from ccc.corr import pearson"
   ]
  },
  {
   "cell_type": "markdown",
   "id": "a6c3a546-9a49-45e7-9f17-fbdb5af4bfb6",
   "metadata": {
    "papermill": {
     "duration": 0.010058,
     "end_time": "2023-05-19T15:10:33.549552",
     "exception": false,
     "start_time": "2023-05-19T15:10:33.539494",
     "status": "completed"
    },
    "tags": []
   },
   "source": [
    "# Settings"
   ]
  },
  {
   "cell_type": "code",
   "execution_count": 2,
   "id": "56ff94d3-a230-4028-a71d-518ac109209b",
   "metadata": {
    "execution": {
     "iopub.execute_input": "2023-05-19T15:10:33.558318Z",
     "iopub.status.busy": "2023-05-19T15:10:33.558216Z",
     "iopub.status.idle": "2023-05-19T15:10:33.560434Z",
     "shell.execute_reply": "2023-05-19T15:10:33.560094Z"
    },
    "papermill": {
     "duration": 0.007874,
     "end_time": "2023-05-19T15:10:33.561585",
     "exception": false,
     "start_time": "2023-05-19T15:10:33.553711",
     "status": "completed"
    },
    "tags": []
   },
   "outputs": [],
   "source": [
    "GENE_SELECTION_STRATEGY = \"var_pc_log2\""
   ]
  },
  {
   "cell_type": "code",
   "execution_count": 3,
   "id": "8baf4209-ba56-4e3d-b60f-6ce2bb686159",
   "metadata": {
    "execution": {
     "iopub.execute_input": "2023-05-19T15:10:33.570212Z",
     "iopub.status.busy": "2023-05-19T15:10:33.570129Z",
     "iopub.status.idle": "2023-05-19T15:10:33.575489Z",
     "shell.execute_reply": "2023-05-19T15:10:33.575155Z"
    },
    "papermill": {
     "duration": 0.011524,
     "end_time": "2023-05-19T15:10:33.577215",
     "exception": false,
     "start_time": "2023-05-19T15:10:33.565691",
     "status": "completed"
    },
    "tags": []
   },
   "outputs": [
    {
     "data": {
      "text/plain": [
       "'pearson'"
      ]
     },
     "metadata": {},
     "output_type": "display_data"
    }
   ],
   "source": [
    "CORRELATION_METHOD = pearson\n",
    "\n",
    "method_name = CORRELATION_METHOD.__name__\n",
    "display(method_name)"
   ]
  },
  {
   "cell_type": "code",
   "execution_count": 4,
   "id": "21a3e349-9a09-4d24-89e3-915fdbf08a81",
   "metadata": {
    "execution": {
     "iopub.execute_input": "2023-05-19T15:10:33.586473Z",
     "iopub.status.busy": "2023-05-19T15:10:33.586390Z",
     "iopub.status.idle": "2023-05-19T15:10:33.588309Z",
     "shell.execute_reply": "2023-05-19T15:10:33.587984Z"
    },
    "papermill": {
     "duration": 0.007642,
     "end_time": "2023-05-19T15:10:33.589500",
     "exception": false,
     "start_time": "2023-05-19T15:10:33.581858",
     "status": "completed"
    },
    "tags": []
   },
   "outputs": [],
   "source": [
    "PERFORMANCE_TEST_N_TOP_GENES = 500"
   ]
  },
  {
   "cell_type": "markdown",
   "id": "b0afcba9-5847-414e-b448-f0cd08ecd8ce",
   "metadata": {
    "papermill": {
     "duration": 0.004038,
     "end_time": "2023-05-19T15:10:33.597837",
     "exception": false,
     "start_time": "2023-05-19T15:10:33.593799",
     "status": "completed"
    },
    "tags": []
   },
   "source": [
    "# Paths"
   ]
  },
  {
   "cell_type": "code",
   "execution_count": 5,
   "id": "35760114-8560-4a0e-ad4f-2bee9104c63d",
   "metadata": {
    "execution": {
     "iopub.execute_input": "2023-05-19T15:10:33.606614Z",
     "iopub.status.busy": "2023-05-19T15:10:33.606516Z",
     "iopub.status.idle": "2023-05-19T15:10:33.609604Z",
     "shell.execute_reply": "2023-05-19T15:10:33.609153Z"
    },
    "papermill": {
     "duration": 0.008819,
     "end_time": "2023-05-19T15:10:33.610817",
     "exception": false,
     "start_time": "2023-05-19T15:10:33.601998",
     "status": "completed"
    },
    "tags": []
   },
   "outputs": [
    {
     "data": {
      "text/plain": [
       "PosixPath('/opt/data/results/gtex_v8/gene_selection')"
      ]
     },
     "metadata": {},
     "output_type": "display_data"
    }
   ],
   "source": [
    "INPUT_DIR = conf.GTEX[\"GENE_SELECTION_DIR\"]\n",
    "display(INPUT_DIR)\n",
    "\n",
    "assert INPUT_DIR.exists()"
   ]
  },
  {
   "cell_type": "code",
   "execution_count": 6,
   "id": "f1418e81-4e77-4f67-b5ed-b29b797e31a0",
   "metadata": {
    "execution": {
     "iopub.execute_input": "2023-05-19T15:10:33.620184Z",
     "iopub.status.busy": "2023-05-19T15:10:33.619855Z",
     "iopub.status.idle": "2023-05-19T15:10:33.623839Z",
     "shell.execute_reply": "2023-05-19T15:10:33.623396Z"
    },
    "papermill": {
     "duration": 0.009991,
     "end_time": "2023-05-19T15:10:33.625110",
     "exception": false,
     "start_time": "2023-05-19T15:10:33.615119",
     "status": "completed"
    },
    "tags": []
   },
   "outputs": [
    {
     "data": {
      "text/plain": [
       "PosixPath('/opt/data/results/gtex_v8/similarity_matrices')"
      ]
     },
     "metadata": {},
     "output_type": "display_data"
    }
   ],
   "source": [
    "OUTPUT_DIR = conf.GTEX[\"SIMILARITY_MATRICES_DIR\"]\n",
    "OUTPUT_DIR.mkdir(parents=True, exist_ok=True)\n",
    "display(OUTPUT_DIR)"
   ]
  },
  {
   "cell_type": "markdown",
   "id": "5fdf8df6-eba0-4cf5-979c-3acd56a5ef3c",
   "metadata": {
    "papermill": {
     "duration": 0.00417,
     "end_time": "2023-05-19T15:10:33.633720",
     "exception": false,
     "start_time": "2023-05-19T15:10:33.629550",
     "status": "completed"
    },
    "tags": []
   },
   "source": [
    "# Data loading"
   ]
  },
  {
   "cell_type": "code",
   "execution_count": 7,
   "id": "596d25ed-4120-4bef-8984-a91ae6529ab5",
   "metadata": {
    "execution": {
     "iopub.execute_input": "2023-05-19T15:10:33.643485Z",
     "iopub.status.busy": "2023-05-19T15:10:33.643188Z",
     "iopub.status.idle": "2023-05-19T15:10:33.649374Z",
     "shell.execute_reply": "2023-05-19T15:10:33.648927Z"
    },
    "papermill": {
     "duration": 0.012744,
     "end_time": "2023-05-19T15:10:33.650852",
     "exception": false,
     "start_time": "2023-05-19T15:10:33.638108",
     "status": "completed"
    },
    "tags": []
   },
   "outputs": [
    {
     "data": {
      "text/plain": [
       "54"
      ]
     },
     "metadata": {},
     "output_type": "display_data"
    },
    {
     "data": {
      "text/plain": [
       "[PosixPath('/opt/data/results/gtex_v8/gene_selection/gtex_v8_data_adipose_subcutaneous-var_pc_log2.pkl'),\n",
       " PosixPath('/opt/data/results/gtex_v8/gene_selection/gtex_v8_data_adipose_visceral_omentum-var_pc_log2.pkl'),\n",
       " PosixPath('/opt/data/results/gtex_v8/gene_selection/gtex_v8_data_adrenal_gland-var_pc_log2.pkl'),\n",
       " PosixPath('/opt/data/results/gtex_v8/gene_selection/gtex_v8_data_artery_aorta-var_pc_log2.pkl'),\n",
       " PosixPath('/opt/data/results/gtex_v8/gene_selection/gtex_v8_data_artery_coronary-var_pc_log2.pkl')]"
      ]
     },
     "metadata": {},
     "output_type": "display_data"
    }
   ],
   "source": [
    "input_files = sorted(list(INPUT_DIR.glob(f\"*-{GENE_SELECTION_STRATEGY}.pkl\")))\n",
    "display(len(input_files))\n",
    "\n",
    "assert len(input_files) == conf.GTEX[\"N_TISSUES\"], len(input_files)\n",
    "display(input_files[:5])"
   ]
  },
  {
   "cell_type": "markdown",
   "id": "081da632-fd12-462a-9ae1-c0ceccf1bb5d",
   "metadata": {
    "papermill": {
     "duration": 0.004382,
     "end_time": "2023-05-19T15:10:33.660005",
     "exception": false,
     "start_time": "2023-05-19T15:10:33.655623",
     "status": "completed"
    },
    "tags": []
   },
   "source": [
    "# Compute similarity"
   ]
  },
  {
   "cell_type": "markdown",
   "id": "37137fff-2d3a-43d8-9bd5-d7c3284a97f5",
   "metadata": {
    "papermill": {
     "duration": 0.003678,
     "end_time": "2023-05-19T15:10:33.668219",
     "exception": false,
     "start_time": "2023-05-19T15:10:33.664541",
     "status": "completed"
    },
    "tags": []
   },
   "source": [
    "## Performance test"
   ]
  },
  {
   "cell_type": "code",
   "execution_count": 8,
   "id": "5dd40707-759f-4bf9-b8cc-84811b2dfe53",
   "metadata": {
    "execution": {
     "iopub.execute_input": "2023-05-19T15:10:33.674345Z",
     "iopub.status.busy": "2023-05-19T15:10:33.674017Z",
     "iopub.status.idle": "2023-05-19T15:10:33.691529Z",
     "shell.execute_reply": "2023-05-19T15:10:33.690996Z"
    },
    "papermill": {
     "duration": 0.021334,
     "end_time": "2023-05-19T15:10:33.692431",
     "exception": false,
     "start_time": "2023-05-19T15:10:33.671097",
     "status": "completed"
    },
    "tags": []
   },
   "outputs": [
    {
     "data": {
      "text/plain": [
       "PosixPath('/opt/data/results/gtex_v8/gene_selection/gtex_v8_data_adipose_subcutaneous-var_pc_log2.pkl')"
      ]
     },
     "metadata": {},
     "output_type": "display_data"
    }
   ],
   "source": [
    "display(input_files[0])\n",
    "test_data = pd.read_pickle(input_files[0]).iloc[:PERFORMANCE_TEST_N_TOP_GENES]"
   ]
  },
  {
   "cell_type": "code",
   "execution_count": 9,
   "id": "e8acd036-93f7-46c0-a1ee-8da0c2c24790",
   "metadata": {
    "execution": {
     "iopub.execute_input": "2023-05-19T15:10:33.698428Z",
     "iopub.status.busy": "2023-05-19T15:10:33.698132Z",
     "iopub.status.idle": "2023-05-19T15:10:33.701884Z",
     "shell.execute_reply": "2023-05-19T15:10:33.701450Z"
    },
    "papermill": {
     "duration": 0.007751,
     "end_time": "2023-05-19T15:10:33.702663",
     "exception": false,
     "start_time": "2023-05-19T15:10:33.694912",
     "status": "completed"
    },
    "tags": []
   },
   "outputs": [
    {
     "data": {
      "text/plain": [
       "(500, 663)"
      ]
     },
     "execution_count": 9,
     "metadata": {},
     "output_type": "execute_result"
    }
   ],
   "source": [
    "test_data.shape"
   ]
  },
  {
   "cell_type": "code",
   "execution_count": 10,
   "id": "111e360b-dbe4-4b69-9029-7b7669eb5ddc",
   "metadata": {
    "execution": {
     "iopub.execute_input": "2023-05-19T15:10:33.708531Z",
     "iopub.status.busy": "2023-05-19T15:10:33.708180Z",
     "iopub.status.idle": "2023-05-19T15:10:33.731215Z",
     "shell.execute_reply": "2023-05-19T15:10:33.730771Z"
    },
    "papermill": {
     "duration": 0.026826,
     "end_time": "2023-05-19T15:10:33.731999",
     "exception": false,
     "start_time": "2023-05-19T15:10:33.705173",
     "status": "completed"
    },
    "tags": []
   },
   "outputs": [
    {
     "data": {
      "text/html": [
       "<div>\n",
       "<style scoped>\n",
       "    .dataframe tbody tr th:only-of-type {\n",
       "        vertical-align: middle;\n",
       "    }\n",
       "\n",
       "    .dataframe tbody tr th {\n",
       "        vertical-align: top;\n",
       "    }\n",
       "\n",
       "    .dataframe thead th {\n",
       "        text-align: right;\n",
       "    }\n",
       "</style>\n",
       "<table border=\"1\" class=\"dataframe\">\n",
       "  <thead>\n",
       "    <tr style=\"text-align: right;\">\n",
       "      <th></th>\n",
       "      <th>GTEX-1117F-0226-SM-5GZZ7</th>\n",
       "      <th>GTEX-111CU-1826-SM-5GZYN</th>\n",
       "      <th>GTEX-111FC-0226-SM-5N9B8</th>\n",
       "      <th>GTEX-111VG-2326-SM-5N9BK</th>\n",
       "      <th>GTEX-111YS-2426-SM-5GZZQ</th>\n",
       "      <th>GTEX-1122O-2026-SM-9YFMG</th>\n",
       "      <th>GTEX-1128S-2126-SM-5H12U</th>\n",
       "      <th>GTEX-113IC-0226-SM-5HL5C</th>\n",
       "      <th>GTEX-117YX-2226-SM-5EGJJ</th>\n",
       "      <th>GTEX-11DXW-0326-SM-5H11W</th>\n",
       "      <th>...</th>\n",
       "      <th>GTEX-ZXES-2026-SM-5NQ6R</th>\n",
       "      <th>GTEX-ZXG5-0226-SM-59HJI</th>\n",
       "      <th>GTEX-ZYFC-0326-SM-5NQ7H</th>\n",
       "      <th>GTEX-ZYFD-0226-SM-5NQ86</th>\n",
       "      <th>GTEX-ZYT6-0326-SM-7LG5R</th>\n",
       "      <th>GTEX-ZYVF-0226-SM-5GIEG</th>\n",
       "      <th>GTEX-ZYW4-0226-SM-5E44M</th>\n",
       "      <th>GTEX-ZYY3-0226-SM-5E45M</th>\n",
       "      <th>GTEX-ZZ64-1626-SM-5E43W</th>\n",
       "      <th>GTEX-ZZPU-2726-SM-5NQ8O</th>\n",
       "    </tr>\n",
       "    <tr>\n",
       "      <th>gene_ens_id</th>\n",
       "      <th></th>\n",
       "      <th></th>\n",
       "      <th></th>\n",
       "      <th></th>\n",
       "      <th></th>\n",
       "      <th></th>\n",
       "      <th></th>\n",
       "      <th></th>\n",
       "      <th></th>\n",
       "      <th></th>\n",
       "      <th></th>\n",
       "      <th></th>\n",
       "      <th></th>\n",
       "      <th></th>\n",
       "      <th></th>\n",
       "      <th></th>\n",
       "      <th></th>\n",
       "      <th></th>\n",
       "      <th></th>\n",
       "      <th></th>\n",
       "      <th></th>\n",
       "    </tr>\n",
       "  </thead>\n",
       "  <tbody>\n",
       "    <tr>\n",
       "      <th>ENSG00000129824.15</th>\n",
       "      <td>0.9301</td>\n",
       "      <td>270.4000</td>\n",
       "      <td>345.8000</td>\n",
       "      <td>242.20</td>\n",
       "      <td>180.800</td>\n",
       "      <td>0.1904</td>\n",
       "      <td>0.18640</td>\n",
       "      <td>294.40</td>\n",
       "      <td>332.6000</td>\n",
       "      <td>216.0000</td>\n",
       "      <td>...</td>\n",
       "      <td>0.2916</td>\n",
       "      <td>311.700</td>\n",
       "      <td>230.0000</td>\n",
       "      <td>302.20000</td>\n",
       "      <td>316.500</td>\n",
       "      <td>0.2567</td>\n",
       "      <td>340.2000</td>\n",
       "      <td>0.6962</td>\n",
       "      <td>269.1000</td>\n",
       "      <td>0.1917</td>\n",
       "    </tr>\n",
       "    <tr>\n",
       "      <th>ENSG00000149968.11</th>\n",
       "      <td>100.4000</td>\n",
       "      <td>785.1000</td>\n",
       "      <td>14.0000</td>\n",
       "      <td>44.48</td>\n",
       "      <td>17.960</td>\n",
       "      <td>2.5670</td>\n",
       "      <td>0.18410</td>\n",
       "      <td>46.91</td>\n",
       "      <td>13.9500</td>\n",
       "      <td>0.1953</td>\n",
       "      <td>...</td>\n",
       "      <td>3.9480</td>\n",
       "      <td>108.800</td>\n",
       "      <td>3.8230</td>\n",
       "      <td>6.61700</td>\n",
       "      <td>11.440</td>\n",
       "      <td>7.6190</td>\n",
       "      <td>27.4300</td>\n",
       "      <td>21.0200</td>\n",
       "      <td>122.6000</td>\n",
       "      <td>10.8200</td>\n",
       "    </tr>\n",
       "    <tr>\n",
       "      <th>ENSG00000134184.12</th>\n",
       "      <td>75.6800</td>\n",
       "      <td>0.2281</td>\n",
       "      <td>0.2070</td>\n",
       "      <td>0.00</td>\n",
       "      <td>36.930</td>\n",
       "      <td>0.1651</td>\n",
       "      <td>0.06058</td>\n",
       "      <td>174.00</td>\n",
       "      <td>0.1429</td>\n",
       "      <td>56.4700</td>\n",
       "      <td>...</td>\n",
       "      <td>54.9200</td>\n",
       "      <td>46.230</td>\n",
       "      <td>0.1468</td>\n",
       "      <td>0.04705</td>\n",
       "      <td>67.240</td>\n",
       "      <td>0.4005</td>\n",
       "      <td>0.5507</td>\n",
       "      <td>56.0600</td>\n",
       "      <td>0.4048</td>\n",
       "      <td>0.0000</td>\n",
       "    </tr>\n",
       "    <tr>\n",
       "      <th>ENSG00000224114.1</th>\n",
       "      <td>1.1500</td>\n",
       "      <td>0.8068</td>\n",
       "      <td>0.5856</td>\n",
       "      <td>74.28</td>\n",
       "      <td>0.314</td>\n",
       "      <td>0.6115</td>\n",
       "      <td>49.95000</td>\n",
       "      <td>139.60</td>\n",
       "      <td>83.5400</td>\n",
       "      <td>1.3640</td>\n",
       "      <td>...</td>\n",
       "      <td>0.1915</td>\n",
       "      <td>5.593</td>\n",
       "      <td>60.0200</td>\n",
       "      <td>61.04000</td>\n",
       "      <td>1.596</td>\n",
       "      <td>81.6000</td>\n",
       "      <td>149.4000</td>\n",
       "      <td>0.2032</td>\n",
       "      <td>1.2270</td>\n",
       "      <td>0.5036</td>\n",
       "    </tr>\n",
       "    <tr>\n",
       "      <th>ENSG00000173432.10</th>\n",
       "      <td>2765.0000</td>\n",
       "      <td>241.1000</td>\n",
       "      <td>1.5220</td>\n",
       "      <td>99.98</td>\n",
       "      <td>921.400</td>\n",
       "      <td>2859.0000</td>\n",
       "      <td>3874.00000</td>\n",
       "      <td>21.41</td>\n",
       "      <td>1338.0000</td>\n",
       "      <td>61.4800</td>\n",
       "      <td>...</td>\n",
       "      <td>1666.0000</td>\n",
       "      <td>165.300</td>\n",
       "      <td>81.9700</td>\n",
       "      <td>180.90000</td>\n",
       "      <td>24.650</td>\n",
       "      <td>276.2000</td>\n",
       "      <td>53.5400</td>\n",
       "      <td>1436.0000</td>\n",
       "      <td>140.5000</td>\n",
       "      <td>756.3000</td>\n",
       "    </tr>\n",
       "  </tbody>\n",
       "</table>\n",
       "<p>5 rows × 663 columns</p>\n",
       "</div>"
      ],
      "text/plain": [
       "                    GTEX-1117F-0226-SM-5GZZ7  GTEX-111CU-1826-SM-5GZYN  \\\n",
       "gene_ens_id                                                              \n",
       "ENSG00000129824.15                    0.9301                  270.4000   \n",
       "ENSG00000149968.11                  100.4000                  785.1000   \n",
       "ENSG00000134184.12                   75.6800                    0.2281   \n",
       "ENSG00000224114.1                     1.1500                    0.8068   \n",
       "ENSG00000173432.10                 2765.0000                  241.1000   \n",
       "\n",
       "                    GTEX-111FC-0226-SM-5N9B8  GTEX-111VG-2326-SM-5N9BK  \\\n",
       "gene_ens_id                                                              \n",
       "ENSG00000129824.15                  345.8000                    242.20   \n",
       "ENSG00000149968.11                   14.0000                     44.48   \n",
       "ENSG00000134184.12                    0.2070                      0.00   \n",
       "ENSG00000224114.1                     0.5856                     74.28   \n",
       "ENSG00000173432.10                    1.5220                     99.98   \n",
       "\n",
       "                    GTEX-111YS-2426-SM-5GZZQ  GTEX-1122O-2026-SM-9YFMG  \\\n",
       "gene_ens_id                                                              \n",
       "ENSG00000129824.15                   180.800                    0.1904   \n",
       "ENSG00000149968.11                    17.960                    2.5670   \n",
       "ENSG00000134184.12                    36.930                    0.1651   \n",
       "ENSG00000224114.1                      0.314                    0.6115   \n",
       "ENSG00000173432.10                   921.400                 2859.0000   \n",
       "\n",
       "                    GTEX-1128S-2126-SM-5H12U  GTEX-113IC-0226-SM-5HL5C  \\\n",
       "gene_ens_id                                                              \n",
       "ENSG00000129824.15                   0.18640                    294.40   \n",
       "ENSG00000149968.11                   0.18410                     46.91   \n",
       "ENSG00000134184.12                   0.06058                    174.00   \n",
       "ENSG00000224114.1                   49.95000                    139.60   \n",
       "ENSG00000173432.10                3874.00000                     21.41   \n",
       "\n",
       "                    GTEX-117YX-2226-SM-5EGJJ  GTEX-11DXW-0326-SM-5H11W  ...  \\\n",
       "gene_ens_id                                                             ...   \n",
       "ENSG00000129824.15                  332.6000                  216.0000  ...   \n",
       "ENSG00000149968.11                   13.9500                    0.1953  ...   \n",
       "ENSG00000134184.12                    0.1429                   56.4700  ...   \n",
       "ENSG00000224114.1                    83.5400                    1.3640  ...   \n",
       "ENSG00000173432.10                 1338.0000                   61.4800  ...   \n",
       "\n",
       "                    GTEX-ZXES-2026-SM-5NQ6R  GTEX-ZXG5-0226-SM-59HJI  \\\n",
       "gene_ens_id                                                            \n",
       "ENSG00000129824.15                   0.2916                  311.700   \n",
       "ENSG00000149968.11                   3.9480                  108.800   \n",
       "ENSG00000134184.12                  54.9200                   46.230   \n",
       "ENSG00000224114.1                    0.1915                    5.593   \n",
       "ENSG00000173432.10                1666.0000                  165.300   \n",
       "\n",
       "                    GTEX-ZYFC-0326-SM-5NQ7H  GTEX-ZYFD-0226-SM-5NQ86  \\\n",
       "gene_ens_id                                                            \n",
       "ENSG00000129824.15                 230.0000                302.20000   \n",
       "ENSG00000149968.11                   3.8230                  6.61700   \n",
       "ENSG00000134184.12                   0.1468                  0.04705   \n",
       "ENSG00000224114.1                   60.0200                 61.04000   \n",
       "ENSG00000173432.10                  81.9700                180.90000   \n",
       "\n",
       "                    GTEX-ZYT6-0326-SM-7LG5R  GTEX-ZYVF-0226-SM-5GIEG  \\\n",
       "gene_ens_id                                                            \n",
       "ENSG00000129824.15                  316.500                   0.2567   \n",
       "ENSG00000149968.11                   11.440                   7.6190   \n",
       "ENSG00000134184.12                   67.240                   0.4005   \n",
       "ENSG00000224114.1                     1.596                  81.6000   \n",
       "ENSG00000173432.10                   24.650                 276.2000   \n",
       "\n",
       "                    GTEX-ZYW4-0226-SM-5E44M  GTEX-ZYY3-0226-SM-5E45M  \\\n",
       "gene_ens_id                                                            \n",
       "ENSG00000129824.15                 340.2000                   0.6962   \n",
       "ENSG00000149968.11                  27.4300                  21.0200   \n",
       "ENSG00000134184.12                   0.5507                  56.0600   \n",
       "ENSG00000224114.1                  149.4000                   0.2032   \n",
       "ENSG00000173432.10                  53.5400                1436.0000   \n",
       "\n",
       "                    GTEX-ZZ64-1626-SM-5E43W  GTEX-ZZPU-2726-SM-5NQ8O  \n",
       "gene_ens_id                                                           \n",
       "ENSG00000129824.15                 269.1000                   0.1917  \n",
       "ENSG00000149968.11                 122.6000                  10.8200  \n",
       "ENSG00000134184.12                   0.4048                   0.0000  \n",
       "ENSG00000224114.1                    1.2270                   0.5036  \n",
       "ENSG00000173432.10                 140.5000                 756.3000  \n",
       "\n",
       "[5 rows x 663 columns]"
      ]
     },
     "execution_count": 10,
     "metadata": {},
     "output_type": "execute_result"
    }
   ],
   "source": [
    "test_data.head()"
   ]
  },
  {
   "cell_type": "markdown",
   "id": "5903f3f5-791e-4f03-9d79-600102933d04",
   "metadata": {
    "papermill": {
     "duration": 0.0026,
     "end_time": "2023-05-19T15:10:33.737314",
     "exception": false,
     "start_time": "2023-05-19T15:10:33.734714",
     "status": "completed"
    },
    "tags": []
   },
   "source": [
    "This is a quick performance test of the correlation measure. The following line (`_tmp = ...`) is the setup code, which is needed in case the correlation method was optimized using `numba` and needs to be compiled before performing the test."
   ]
  },
  {
   "cell_type": "code",
   "execution_count": 11,
   "id": "118a6631-1cfd-44a3-bd85-5ec7118edd03",
   "metadata": {
    "execution": {
     "iopub.execute_input": "2023-05-19T15:10:33.743698Z",
     "iopub.status.busy": "2023-05-19T15:10:33.743380Z",
     "iopub.status.idle": "2023-05-19T15:10:33.751760Z",
     "shell.execute_reply": "2023-05-19T15:10:33.751324Z"
    },
    "papermill": {
     "duration": 0.012537,
     "end_time": "2023-05-19T15:10:33.752549",
     "exception": false,
     "start_time": "2023-05-19T15:10:33.740012",
     "status": "completed"
    },
    "tags": []
   },
   "outputs": [
    {
     "data": {
      "text/plain": [
       "(3, 3)"
      ]
     },
     "metadata": {},
     "output_type": "display_data"
    },
    {
     "data": {
      "text/html": [
       "<div>\n",
       "<style scoped>\n",
       "    .dataframe tbody tr th:only-of-type {\n",
       "        vertical-align: middle;\n",
       "    }\n",
       "\n",
       "    .dataframe tbody tr th {\n",
       "        vertical-align: top;\n",
       "    }\n",
       "\n",
       "    .dataframe thead th {\n",
       "        text-align: right;\n",
       "    }\n",
       "</style>\n",
       "<table border=\"1\" class=\"dataframe\">\n",
       "  <thead>\n",
       "    <tr style=\"text-align: right;\">\n",
       "      <th>gene_ens_id</th>\n",
       "      <th>ENSG00000129824.15</th>\n",
       "      <th>ENSG00000149968.11</th>\n",
       "      <th>ENSG00000134184.12</th>\n",
       "    </tr>\n",
       "    <tr>\n",
       "      <th>gene_ens_id</th>\n",
       "      <th></th>\n",
       "      <th></th>\n",
       "      <th></th>\n",
       "    </tr>\n",
       "  </thead>\n",
       "  <tbody>\n",
       "    <tr>\n",
       "      <th>ENSG00000129824.15</th>\n",
       "      <td>1.000000</td>\n",
       "      <td>0.142708</td>\n",
       "      <td>0.044838</td>\n",
       "    </tr>\n",
       "    <tr>\n",
       "      <th>ENSG00000149968.11</th>\n",
       "      <td>0.142708</td>\n",
       "      <td>1.000000</td>\n",
       "      <td>-0.007867</td>\n",
       "    </tr>\n",
       "    <tr>\n",
       "      <th>ENSG00000134184.12</th>\n",
       "      <td>0.044838</td>\n",
       "      <td>-0.007867</td>\n",
       "      <td>1.000000</td>\n",
       "    </tr>\n",
       "  </tbody>\n",
       "</table>\n",
       "</div>"
      ],
      "text/plain": [
       "gene_ens_id         ENSG00000129824.15  ENSG00000149968.11  ENSG00000134184.12\n",
       "gene_ens_id                                                                   \n",
       "ENSG00000129824.15            1.000000            0.142708            0.044838\n",
       "ENSG00000149968.11            0.142708            1.000000           -0.007867\n",
       "ENSG00000134184.12            0.044838           -0.007867            1.000000"
      ]
     },
     "metadata": {},
     "output_type": "display_data"
    }
   ],
   "source": [
    "_tmp = CORRELATION_METHOD(test_data.iloc[:3])\n",
    "\n",
    "display(_tmp.shape)\n",
    "display(_tmp)"
   ]
  },
  {
   "cell_type": "code",
   "execution_count": 12,
   "id": "d32281d8-f640-4f87-a1d5-aefa0757e9c3",
   "metadata": {
    "execution": {
     "iopub.execute_input": "2023-05-19T15:10:33.759047Z",
     "iopub.status.busy": "2023-05-19T15:10:33.758680Z",
     "iopub.status.idle": "2023-05-19T15:10:36.289320Z",
     "shell.execute_reply": "2023-05-19T15:10:36.289011Z"
    },
    "papermill": {
     "duration": 2.535259,
     "end_time": "2023-05-19T15:10:36.290635",
     "exception": false,
     "start_time": "2023-05-19T15:10:33.755376",
     "status": "completed"
    },
    "tags": []
   },
   "outputs": [
    {
     "name": "stdout",
     "output_type": "stream",
     "text": [
      "30.9 ms ± 216 µs per loop (mean ± std. dev. of 7 runs, 10 loops each)\n"
     ]
    }
   ],
   "source": [
    "%timeit CORRELATION_METHOD(test_data)"
   ]
  },
  {
   "cell_type": "markdown",
   "id": "fc2f7184-c0da-438c-94f5-002912793636",
   "metadata": {
    "papermill": {
     "duration": 0.010144,
     "end_time": "2023-05-19T15:10:36.306338",
     "exception": false,
     "start_time": "2023-05-19T15:10:36.296194",
     "status": "completed"
    },
    "tags": []
   },
   "source": [
    "## Run"
   ]
  },
  {
   "cell_type": "code",
   "execution_count": 13,
   "id": "1237ae45-d4fc-4074-bfc7-a1de75aeea48",
   "metadata": {
    "execution": {
     "iopub.execute_input": "2023-05-19T15:10:36.318156Z",
     "iopub.status.busy": "2023-05-19T15:10:36.318071Z",
     "iopub.status.idle": "2023-05-19T15:12:10.512702Z",
     "shell.execute_reply": "2023-05-19T15:12:10.512386Z"
    },
    "papermill": {
     "duration": 94.213958,
     "end_time": "2023-05-19T15:12:10.526297",
     "exception": false,
     "start_time": "2023-05-19T15:10:36.312339",
     "status": "completed"
    },
    "tags": []
   },
   "outputs": [
    {
     "name": "stderr",
     "output_type": "stream",
     "text": [
      "gtex_v8_data_whole_blood-var_pc_log2: 100%|█████████████████████████| 54/54 [01:34<00:00,  1.74s/it]\n"
     ]
    }
   ],
   "source": [
    "pbar = tqdm(input_files, ncols=100)\n",
    "\n",
    "for tissue_data_file in pbar:\n",
    "    pbar.set_description(tissue_data_file.stem)\n",
    "\n",
    "    # read\n",
    "    data = pd.read_pickle(tissue_data_file)\n",
    "\n",
    "    # compute correlations\n",
    "    data_corrs = CORRELATION_METHOD(data)\n",
    "\n",
    "    # save\n",
    "    output_filename = f\"{tissue_data_file.stem}-{method_name}.pkl\"\n",
    "    data_corrs.to_pickle(path=OUTPUT_DIR / output_filename)"
   ]
  },
  {
   "cell_type": "code",
   "execution_count": null,
   "id": "258babdf-03ce-4450-ab22-7a3d75bf6869",
   "metadata": {
    "papermill": {
     "duration": 0.011542,
     "end_time": "2023-05-19T15:12:10.549525",
     "exception": false,
     "start_time": "2023-05-19T15:12:10.537983",
     "status": "completed"
    },
    "tags": []
   },
   "outputs": [],
   "source": []
  }
 ],
 "metadata": {
  "jupytext": {
   "cell_metadata_filter": "all,-execution,-papermill,-trusted"
  },
  "kernelspec": {
   "display_name": "Python 3 (ipykernel)",
   "language": "python",
   "name": "python3"
  },
  "language_info": {
   "codemirror_mode": {
    "name": "ipython",
    "version": 3
   },
   "file_extension": ".py",
   "mimetype": "text/x-python",
   "name": "python",
   "nbconvert_exporter": "python",
   "pygments_lexer": "ipython3",
   "version": "3.9.12"
  },
  "papermill": {
   "default_parameters": {},
   "duration": 98.377923,
   "end_time": "2023-05-19T15:12:10.777147",
   "environment_variables": {},
   "exception": null,
   "input_path": "nbs/10_compute_correlations/05_gtex_v8/05_01-gtex-var_pc_log2-pearson.ipynb",
   "output_path": "nbs/10_compute_correlations/05_gtex_v8/05_01-gtex-var_pc_log2-pearson.run.ipynb",
   "parameters": {},
   "start_time": "2023-05-19T15:10:32.399224",
   "version": "2.3.3"
  }
 },
 "nbformat": 4,
 "nbformat_minor": 5
}
