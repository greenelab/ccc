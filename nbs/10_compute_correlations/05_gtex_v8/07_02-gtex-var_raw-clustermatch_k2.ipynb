{
 "cells": [
  {
   "cell_type": "markdown",
   "id": "e9773a95-e8fd-4963-87a5-0c92299434d5",
   "metadata": {
    "papermill": {
     "duration": 0.039638,
     "end_time": "2021-09-18T17:08:12.375786",
     "exception": false,
     "start_time": "2021-09-18T17:08:12.336148",
     "status": "completed"
    },
    "tags": []
   },
   "source": [
    "# Description"
   ]
  },
  {
   "cell_type": "markdown",
   "id": "57f34c74-404d-4776-b547-e6acb2df75d7",
   "metadata": {
    "papermill": {
     "duration": 0.010382,
     "end_time": "2021-09-18T17:08:12.401441",
     "exception": false,
     "start_time": "2021-09-18T17:08:12.391059",
     "status": "completed"
    },
    "tags": []
   },
   "source": [
    "According to the settings specified below, this notebook:\n",
    " 1. reads all the data from one source (GTEx, recount2, etc) according to the gene selection method (`GENE_SELECTION_STRATEGY`),\n",
    " 2. runs a quick performance test using the correlation coefficient specified (`CORRELATION_METHOD`), and\n",
    " 3. computes the correlation matrix across all the genes using the correlation coefficient specified."
   ]
  },
  {
   "cell_type": "markdown",
   "id": "1d8fae6b-e623-46a6-aff6-d7849163c820",
   "metadata": {
    "papermill": {
     "duration": 0.009943,
     "end_time": "2021-09-18T17:08:12.421371",
     "exception": false,
     "start_time": "2021-09-18T17:08:12.411428",
     "status": "completed"
    },
    "tags": []
   },
   "source": [
    "# Modules"
   ]
  },
  {
   "cell_type": "code",
   "execution_count": 1,
   "id": "76729f0e-f742-495b-b676-d9d7b1539e10",
   "metadata": {
    "execution": {
     "iopub.execute_input": "2021-09-18T17:08:12.449317Z",
     "iopub.status.busy": "2021-09-18T17:08:12.448844Z",
     "iopub.status.idle": "2021-09-18T17:08:13.024172Z",
     "shell.execute_reply": "2021-09-18T17:08:13.023616Z"
    },
    "papermill": {
     "duration": 0.59305,
     "end_time": "2021-09-18T17:08:13.024280",
     "exception": false,
     "start_time": "2021-09-18T17:08:12.431230",
     "status": "completed"
    },
    "tags": []
   },
   "outputs": [],
   "source": [
    "import pandas as pd\n",
    "from tqdm import tqdm\n",
    "\n",
    "from clustermatch import conf\n",
    "from clustermatch.utils import simplify_string\n",
    "from clustermatch.corr import clustermatch"
   ]
  },
  {
   "cell_type": "markdown",
   "id": "a6c3a546-9a49-45e7-9f17-fbdb5af4bfb6",
   "metadata": {
    "papermill": {
     "duration": 0.010067,
     "end_time": "2021-09-18T17:08:13.045014",
     "exception": false,
     "start_time": "2021-09-18T17:08:13.034947",
     "status": "completed"
    },
    "tags": []
   },
   "source": [
    "# Settings"
   ]
  },
  {
   "cell_type": "code",
   "execution_count": 2,
   "id": "56ff94d3-a230-4028-a71d-518ac109209b",
   "metadata": {
    "execution": {
     "iopub.execute_input": "2021-09-18T17:08:13.068742Z",
     "iopub.status.busy": "2021-09-18T17:08:13.068292Z",
     "iopub.status.idle": "2021-09-18T17:08:13.069802Z",
     "shell.execute_reply": "2021-09-18T17:08:13.070142Z"
    },
    "papermill": {
     "duration": 0.015044,
     "end_time": "2021-09-18T17:08:13.070257",
     "exception": false,
     "start_time": "2021-09-18T17:08:13.055213",
     "status": "completed"
    },
    "tags": []
   },
   "outputs": [],
   "source": [
    "GENE_SELECTION_STRATEGY = \"var_raw\""
   ]
  },
  {
   "cell_type": "code",
   "execution_count": 3,
   "id": "f5433907-5b88-4c68-b3d4-fb98298dec4a",
   "metadata": {
    "execution": {
     "iopub.execute_input": "2021-09-18T17:08:13.094579Z",
     "iopub.status.busy": "2021-09-18T17:08:13.094122Z",
     "iopub.status.idle": "2021-09-18T17:08:13.095643Z",
     "shell.execute_reply": "2021-09-18T17:08:13.096025Z"
    },
    "papermill": {
     "duration": 0.015193,
     "end_time": "2021-09-18T17:08:13.096144",
     "exception": false,
     "start_time": "2021-09-18T17:08:13.080951",
     "status": "completed"
    },
    "tags": []
   },
   "outputs": [],
   "source": [
    "# for clustermatch, I select the top 5 tissues (according to sample size, see nbs/05_preprocessing/00-gtex_v8-split_by_tissue.ipynb)\n",
    "TISSUES = [\n",
    "    \"Muscle - Skeletal\",\n",
    "    \"Whole Blood\",\n",
    "    \"Skin - Sun Exposed (Lower leg)\",\n",
    "    \"Adipose - Subcutaneous\",\n",
    "    \"Artery - Tibial\",\n",
    "]"
   ]
  },
  {
   "cell_type": "code",
   "execution_count": 4,
   "id": "fc3fb014-e0df-4bf1-9a1a-43c8477bb650",
   "metadata": {
    "execution": {
     "iopub.execute_input": "2021-09-18T17:08:13.125314Z",
     "iopub.status.busy": "2021-09-18T17:08:13.124856Z",
     "iopub.status.idle": "2021-09-18T17:08:13.128515Z",
     "shell.execute_reply": "2021-09-18T17:08:13.128856Z"
    },
    "papermill": {
     "duration": 0.021884,
     "end_time": "2021-09-18T17:08:13.128974",
     "exception": false,
     "start_time": "2021-09-18T17:08:13.107090",
     "status": "completed"
    },
    "tags": []
   },
   "outputs": [
    {
     "data": {
      "text/plain": [
       "'clustermatch_k2'"
      ]
     },
     "metadata": {},
     "output_type": "display_data"
    }
   ],
   "source": [
    "def clustermatch_k2(data):\n",
    "    n_clusters = list(range(2, 2 + 1))\n",
    "    return clustermatch(data, internal_n_clusters=n_clusters)\n",
    "\n",
    "\n",
    "CORRELATION_METHOD = clustermatch_k2\n",
    "\n",
    "method_name = CORRELATION_METHOD.__name__\n",
    "display(method_name)"
   ]
  },
  {
   "cell_type": "code",
   "execution_count": 5,
   "id": "21a3e349-9a09-4d24-89e3-915fdbf08a81",
   "metadata": {
    "execution": {
     "iopub.execute_input": "2021-09-18T17:08:13.154091Z",
     "iopub.status.busy": "2021-09-18T17:08:13.153632Z",
     "iopub.status.idle": "2021-09-18T17:08:13.155227Z",
     "shell.execute_reply": "2021-09-18T17:08:13.155577Z"
    },
    "papermill": {
     "duration": 0.015594,
     "end_time": "2021-09-18T17:08:13.155695",
     "exception": false,
     "start_time": "2021-09-18T17:08:13.140101",
     "status": "completed"
    },
    "tags": []
   },
   "outputs": [],
   "source": [
    "PERFORMANCE_TEST_N_TOP_GENES = 500"
   ]
  },
  {
   "cell_type": "markdown",
   "id": "b0afcba9-5847-414e-b448-f0cd08ecd8ce",
   "metadata": {
    "papermill": {
     "duration": 0.010577,
     "end_time": "2021-09-18T17:08:13.177486",
     "exception": false,
     "start_time": "2021-09-18T17:08:13.166909",
     "status": "completed"
    },
    "tags": []
   },
   "source": [
    "# Paths"
   ]
  },
  {
   "cell_type": "code",
   "execution_count": 6,
   "id": "35760114-8560-4a0e-ad4f-2bee9104c63d",
   "metadata": {
    "execution": {
     "iopub.execute_input": "2021-09-18T17:08:13.202809Z",
     "iopub.status.busy": "2021-09-18T17:08:13.202287Z",
     "iopub.status.idle": "2021-09-18T17:08:13.204399Z",
     "shell.execute_reply": "2021-09-18T17:08:13.204764Z"
    },
    "papermill": {
     "duration": 0.016775,
     "end_time": "2021-09-18T17:08:13.204881",
     "exception": false,
     "start_time": "2021-09-18T17:08:13.188106",
     "status": "completed"
    },
    "tags": []
   },
   "outputs": [
    {
     "data": {
      "text/plain": [
       "PosixPath('/opt/data/results/gtex_v8/gene_selection')"
      ]
     },
     "metadata": {},
     "output_type": "display_data"
    }
   ],
   "source": [
    "INPUT_DIR = conf.GTEX[\"GENE_SELECTION_DIR\"]\n",
    "display(INPUT_DIR)\n",
    "\n",
    "assert INPUT_DIR.exists()"
   ]
  },
  {
   "cell_type": "code",
   "execution_count": 7,
   "id": "f1418e81-4e77-4f67-b5ed-b29b797e31a0",
   "metadata": {
    "execution": {
     "iopub.execute_input": "2021-09-18T17:08:13.231516Z",
     "iopub.status.busy": "2021-09-18T17:08:13.230961Z",
     "iopub.status.idle": "2021-09-18T17:08:13.233934Z",
     "shell.execute_reply": "2021-09-18T17:08:13.233523Z"
    },
    "papermill": {
     "duration": 0.017715,
     "end_time": "2021-09-18T17:08:13.234030",
     "exception": false,
     "start_time": "2021-09-18T17:08:13.216315",
     "status": "completed"
    },
    "tags": []
   },
   "outputs": [
    {
     "data": {
      "text/plain": [
       "PosixPath('/opt/data/results/gtex_v8/similarity_matrices')"
      ]
     },
     "metadata": {},
     "output_type": "display_data"
    }
   ],
   "source": [
    "OUTPUT_DIR = conf.GTEX[\"SIMILARITY_MATRICES_DIR\"]\n",
    "OUTPUT_DIR.mkdir(parents=True, exist_ok=True)\n",
    "display(OUTPUT_DIR)"
   ]
  },
  {
   "cell_type": "markdown",
   "id": "5fdf8df6-eba0-4cf5-979c-3acd56a5ef3c",
   "metadata": {
    "papermill": {
     "duration": 0.011713,
     "end_time": "2021-09-18T17:08:13.257891",
     "exception": false,
     "start_time": "2021-09-18T17:08:13.246178",
     "status": "completed"
    },
    "tags": []
   },
   "source": [
    "# Data loading"
   ]
  },
  {
   "cell_type": "code",
   "execution_count": 8,
   "id": "74c76939-14b3-4e41-9e18-24c8176d2168",
   "metadata": {
    "execution": {
     "iopub.execute_input": "2021-09-18T17:08:13.284267Z",
     "iopub.status.busy": "2021-09-18T17:08:13.283761Z",
     "iopub.status.idle": "2021-09-18T17:08:13.285790Z",
     "shell.execute_reply": "2021-09-18T17:08:13.285355Z"
    },
    "papermill": {
     "duration": 0.01629,
     "end_time": "2021-09-18T17:08:13.285887",
     "exception": false,
     "start_time": "2021-09-18T17:08:13.269597",
     "status": "completed"
    },
    "tags": []
   },
   "outputs": [],
   "source": [
    "tissue_in_file_names = [f\"_data_{simplify_string(t.lower())}-\" for t in TISSUES]"
   ]
  },
  {
   "cell_type": "code",
   "execution_count": 9,
   "id": "596d25ed-4120-4bef-8984-a91ae6529ab5",
   "metadata": {
    "execution": {
     "iopub.execute_input": "2021-09-18T17:08:13.312815Z",
     "iopub.status.busy": "2021-09-18T17:08:13.312359Z",
     "iopub.status.idle": "2021-09-18T17:08:13.317912Z",
     "shell.execute_reply": "2021-09-18T17:08:13.317455Z"
    },
    "papermill": {
     "duration": 0.020592,
     "end_time": "2021-09-18T17:08:13.318017",
     "exception": false,
     "start_time": "2021-09-18T17:08:13.297425",
     "status": "completed"
    },
    "tags": []
   },
   "outputs": [
    {
     "data": {
      "text/plain": [
       "5"
      ]
     },
     "metadata": {},
     "output_type": "display_data"
    },
    {
     "data": {
      "text/plain": [
       "[PosixPath('/opt/data/results/gtex_v8/gene_selection/gtex_v8_data_adipose_subcutaneous-var_raw.pkl'),\n",
       " PosixPath('/opt/data/results/gtex_v8/gene_selection/gtex_v8_data_artery_tibial-var_raw.pkl'),\n",
       " PosixPath('/opt/data/results/gtex_v8/gene_selection/gtex_v8_data_muscle_skeletal-var_raw.pkl'),\n",
       " PosixPath('/opt/data/results/gtex_v8/gene_selection/gtex_v8_data_skin_sun_exposed_lower_leg-var_raw.pkl'),\n",
       " PosixPath('/opt/data/results/gtex_v8/gene_selection/gtex_v8_data_whole_blood-var_raw.pkl')]"
      ]
     },
     "metadata": {},
     "output_type": "display_data"
    }
   ],
   "source": [
    "input_files = sorted(list(INPUT_DIR.glob(f\"*-{GENE_SELECTION_STRATEGY}.pkl\")))\n",
    "input_files = [\n",
    "    f for f in input_files if any(tn in f.name for tn in tissue_in_file_names)\n",
    "]\n",
    "display(len(input_files))\n",
    "\n",
    "assert len(input_files) == len(TISSUES), len(TISSUES)\n",
    "display(input_files)"
   ]
  },
  {
   "cell_type": "markdown",
   "id": "081da632-fd12-462a-9ae1-c0ceccf1bb5d",
   "metadata": {
    "papermill": {
     "duration": 0.011908,
     "end_time": "2021-09-18T17:08:13.342274",
     "exception": false,
     "start_time": "2021-09-18T17:08:13.330366",
     "status": "completed"
    },
    "tags": []
   },
   "source": [
    "# Compute similarity"
   ]
  },
  {
   "cell_type": "markdown",
   "id": "37137fff-2d3a-43d8-9bd5-d7c3284a97f5",
   "metadata": {
    "papermill": {
     "duration": 0.011869,
     "end_time": "2021-09-18T17:08:13.366108",
     "exception": false,
     "start_time": "2021-09-18T17:08:13.354239",
     "status": "completed"
    },
    "tags": []
   },
   "source": [
    "## Performance test"
   ]
  },
  {
   "cell_type": "code",
   "execution_count": 10,
   "id": "5dd40707-759f-4bf9-b8cc-84811b2dfe53",
   "metadata": {
    "execution": {
     "iopub.execute_input": "2021-09-18T17:08:13.394080Z",
     "iopub.status.busy": "2021-09-18T17:08:13.393569Z",
     "iopub.status.idle": "2021-09-18T17:08:13.532124Z",
     "shell.execute_reply": "2021-09-18T17:08:13.531328Z"
    },
    "papermill": {
     "duration": 0.154082,
     "end_time": "2021-09-18T17:08:13.532283",
     "exception": false,
     "start_time": "2021-09-18T17:08:13.378201",
     "status": "completed"
    },
    "tags": []
   },
   "outputs": [
    {
     "data": {
      "text/plain": [
       "PosixPath('/opt/data/results/gtex_v8/gene_selection/gtex_v8_data_adipose_subcutaneous-var_raw.pkl')"
      ]
     },
     "metadata": {},
     "output_type": "display_data"
    }
   ],
   "source": [
    "display(input_files[0])\n",
    "test_data = pd.read_pickle(input_files[0]).iloc[:PERFORMANCE_TEST_N_TOP_GENES]"
   ]
  },
  {
   "cell_type": "code",
   "execution_count": 11,
   "id": "e8acd036-93f7-46c0-a1ee-8da0c2c24790",
   "metadata": {
    "execution": {
     "iopub.execute_input": "2021-09-18T17:08:13.570411Z",
     "iopub.status.busy": "2021-09-18T17:08:13.569928Z",
     "iopub.status.idle": "2021-09-18T17:08:13.571980Z",
     "shell.execute_reply": "2021-09-18T17:08:13.572338Z"
    },
    "papermill": {
     "duration": 0.019604,
     "end_time": "2021-09-18T17:08:13.572456",
     "exception": false,
     "start_time": "2021-09-18T17:08:13.552852",
     "status": "completed"
    },
    "tags": []
   },
   "outputs": [
    {
     "data": {
      "text/plain": [
       "(500, 663)"
      ]
     },
     "execution_count": 11,
     "metadata": {},
     "output_type": "execute_result"
    }
   ],
   "source": [
    "test_data.shape"
   ]
  },
  {
   "cell_type": "code",
   "execution_count": 12,
   "id": "111e360b-dbe4-4b69-9029-7b7669eb5ddc",
   "metadata": {
    "execution": {
     "iopub.execute_input": "2021-09-18T17:08:13.612358Z",
     "iopub.status.busy": "2021-09-18T17:08:13.602707Z",
     "iopub.status.idle": "2021-09-18T17:08:13.623651Z",
     "shell.execute_reply": "2021-09-18T17:08:13.623239Z"
    },
    "papermill": {
     "duration": 0.038017,
     "end_time": "2021-09-18T17:08:13.623748",
     "exception": false,
     "start_time": "2021-09-18T17:08:13.585731",
     "status": "completed"
    },
    "tags": []
   },
   "outputs": [
    {
     "data": {
      "text/html": [
       "<div>\n",
       "<style scoped>\n",
       "    .dataframe tbody tr th:only-of-type {\n",
       "        vertical-align: middle;\n",
       "    }\n",
       "\n",
       "    .dataframe tbody tr th {\n",
       "        vertical-align: top;\n",
       "    }\n",
       "\n",
       "    .dataframe thead th {\n",
       "        text-align: right;\n",
       "    }\n",
       "</style>\n",
       "<table border=\"1\" class=\"dataframe\">\n",
       "  <thead>\n",
       "    <tr style=\"text-align: right;\">\n",
       "      <th></th>\n",
       "      <th>GTEX-1117F-0226-SM-5GZZ7</th>\n",
       "      <th>GTEX-111CU-1826-SM-5GZYN</th>\n",
       "      <th>GTEX-111FC-0226-SM-5N9B8</th>\n",
       "      <th>GTEX-111VG-2326-SM-5N9BK</th>\n",
       "      <th>GTEX-111YS-2426-SM-5GZZQ</th>\n",
       "      <th>GTEX-1122O-2026-SM-9YFMG</th>\n",
       "      <th>GTEX-1128S-2126-SM-5H12U</th>\n",
       "      <th>GTEX-113IC-0226-SM-5HL5C</th>\n",
       "      <th>GTEX-117YX-2226-SM-5EGJJ</th>\n",
       "      <th>GTEX-11DXW-0326-SM-5H11W</th>\n",
       "      <th>...</th>\n",
       "      <th>GTEX-ZXES-2026-SM-5NQ6R</th>\n",
       "      <th>GTEX-ZXG5-0226-SM-59HJI</th>\n",
       "      <th>GTEX-ZYFC-0326-SM-5NQ7H</th>\n",
       "      <th>GTEX-ZYFD-0226-SM-5NQ86</th>\n",
       "      <th>GTEX-ZYT6-0326-SM-7LG5R</th>\n",
       "      <th>GTEX-ZYVF-0226-SM-5GIEG</th>\n",
       "      <th>GTEX-ZYW4-0226-SM-5E44M</th>\n",
       "      <th>GTEX-ZYY3-0226-SM-5E45M</th>\n",
       "      <th>GTEX-ZZ64-1626-SM-5E43W</th>\n",
       "      <th>GTEX-ZZPU-2726-SM-5NQ8O</th>\n",
       "    </tr>\n",
       "    <tr>\n",
       "      <th>gene_ens_id</th>\n",
       "      <th></th>\n",
       "      <th></th>\n",
       "      <th></th>\n",
       "      <th></th>\n",
       "      <th></th>\n",
       "      <th></th>\n",
       "      <th></th>\n",
       "      <th></th>\n",
       "      <th></th>\n",
       "      <th></th>\n",
       "      <th></th>\n",
       "      <th></th>\n",
       "      <th></th>\n",
       "      <th></th>\n",
       "      <th></th>\n",
       "      <th></th>\n",
       "      <th></th>\n",
       "      <th></th>\n",
       "      <th></th>\n",
       "      <th></th>\n",
       "      <th></th>\n",
       "    </tr>\n",
       "  </thead>\n",
       "  <tbody>\n",
       "    <tr>\n",
       "      <th>ENSG00000198938.2</th>\n",
       "      <td>19890.0</td>\n",
       "      <td>22670.0</td>\n",
       "      <td>31580.0</td>\n",
       "      <td>35680.0</td>\n",
       "      <td>43170.0</td>\n",
       "      <td>43400.0</td>\n",
       "      <td>23850.0</td>\n",
       "      <td>24240.0</td>\n",
       "      <td>33190.0</td>\n",
       "      <td>38500.0</td>\n",
       "      <td>...</td>\n",
       "      <td>38340.0</td>\n",
       "      <td>28750.0</td>\n",
       "      <td>45570.0</td>\n",
       "      <td>62970.0</td>\n",
       "      <td>37120.0</td>\n",
       "      <td>25490.0</td>\n",
       "      <td>38000.0</td>\n",
       "      <td>38310.0</td>\n",
       "      <td>28740.0</td>\n",
       "      <td>37650.0</td>\n",
       "    </tr>\n",
       "    <tr>\n",
       "      <th>ENSG00000198886.2</th>\n",
       "      <td>12400.0</td>\n",
       "      <td>22230.0</td>\n",
       "      <td>27330.0</td>\n",
       "      <td>18780.0</td>\n",
       "      <td>51290.0</td>\n",
       "      <td>44250.0</td>\n",
       "      <td>36100.0</td>\n",
       "      <td>19370.0</td>\n",
       "      <td>43040.0</td>\n",
       "      <td>39050.0</td>\n",
       "      <td>...</td>\n",
       "      <td>39140.0</td>\n",
       "      <td>19910.0</td>\n",
       "      <td>34190.0</td>\n",
       "      <td>22900.0</td>\n",
       "      <td>26770.0</td>\n",
       "      <td>22350.0</td>\n",
       "      <td>20110.0</td>\n",
       "      <td>36860.0</td>\n",
       "      <td>35940.0</td>\n",
       "      <td>29870.0</td>\n",
       "    </tr>\n",
       "    <tr>\n",
       "      <th>ENSG00000198899.2</th>\n",
       "      <td>13880.0</td>\n",
       "      <td>29860.0</td>\n",
       "      <td>30250.0</td>\n",
       "      <td>25050.0</td>\n",
       "      <td>54710.0</td>\n",
       "      <td>42500.0</td>\n",
       "      <td>35230.0</td>\n",
       "      <td>15870.0</td>\n",
       "      <td>44020.0</td>\n",
       "      <td>42060.0</td>\n",
       "      <td>...</td>\n",
       "      <td>47150.0</td>\n",
       "      <td>27420.0</td>\n",
       "      <td>24630.0</td>\n",
       "      <td>34790.0</td>\n",
       "      <td>29440.0</td>\n",
       "      <td>28640.0</td>\n",
       "      <td>26590.0</td>\n",
       "      <td>40390.0</td>\n",
       "      <td>38170.0</td>\n",
       "      <td>35170.0</td>\n",
       "    </tr>\n",
       "    <tr>\n",
       "      <th>ENSG00000198804.2</th>\n",
       "      <td>10790.0</td>\n",
       "      <td>11170.0</td>\n",
       "      <td>21520.0</td>\n",
       "      <td>20030.0</td>\n",
       "      <td>31460.0</td>\n",
       "      <td>32570.0</td>\n",
       "      <td>21820.0</td>\n",
       "      <td>18570.0</td>\n",
       "      <td>20670.0</td>\n",
       "      <td>20220.0</td>\n",
       "      <td>...</td>\n",
       "      <td>32630.0</td>\n",
       "      <td>21210.0</td>\n",
       "      <td>22990.0</td>\n",
       "      <td>25390.0</td>\n",
       "      <td>24380.0</td>\n",
       "      <td>13940.0</td>\n",
       "      <td>13980.0</td>\n",
       "      <td>18500.0</td>\n",
       "      <td>20760.0</td>\n",
       "      <td>31970.0</td>\n",
       "    </tr>\n",
       "    <tr>\n",
       "      <th>ENSG00000198888.2</th>\n",
       "      <td>15870.0</td>\n",
       "      <td>18770.0</td>\n",
       "      <td>25570.0</td>\n",
       "      <td>19760.0</td>\n",
       "      <td>38440.0</td>\n",
       "      <td>34070.0</td>\n",
       "      <td>27410.0</td>\n",
       "      <td>21560.0</td>\n",
       "      <td>29330.0</td>\n",
       "      <td>36640.0</td>\n",
       "      <td>...</td>\n",
       "      <td>37960.0</td>\n",
       "      <td>24190.0</td>\n",
       "      <td>39950.0</td>\n",
       "      <td>31940.0</td>\n",
       "      <td>25410.0</td>\n",
       "      <td>15760.0</td>\n",
       "      <td>26500.0</td>\n",
       "      <td>28270.0</td>\n",
       "      <td>30060.0</td>\n",
       "      <td>31440.0</td>\n",
       "    </tr>\n",
       "  </tbody>\n",
       "</table>\n",
       "<p>5 rows × 663 columns</p>\n",
       "</div>"
      ],
      "text/plain": [
       "                   GTEX-1117F-0226-SM-5GZZ7  GTEX-111CU-1826-SM-5GZYN  \\\n",
       "gene_ens_id                                                             \n",
       "ENSG00000198938.2                   19890.0                   22670.0   \n",
       "ENSG00000198886.2                   12400.0                   22230.0   \n",
       "ENSG00000198899.2                   13880.0                   29860.0   \n",
       "ENSG00000198804.2                   10790.0                   11170.0   \n",
       "ENSG00000198888.2                   15870.0                   18770.0   \n",
       "\n",
       "                   GTEX-111FC-0226-SM-5N9B8  GTEX-111VG-2326-SM-5N9BK  \\\n",
       "gene_ens_id                                                             \n",
       "ENSG00000198938.2                   31580.0                   35680.0   \n",
       "ENSG00000198886.2                   27330.0                   18780.0   \n",
       "ENSG00000198899.2                   30250.0                   25050.0   \n",
       "ENSG00000198804.2                   21520.0                   20030.0   \n",
       "ENSG00000198888.2                   25570.0                   19760.0   \n",
       "\n",
       "                   GTEX-111YS-2426-SM-5GZZQ  GTEX-1122O-2026-SM-9YFMG  \\\n",
       "gene_ens_id                                                             \n",
       "ENSG00000198938.2                   43170.0                   43400.0   \n",
       "ENSG00000198886.2                   51290.0                   44250.0   \n",
       "ENSG00000198899.2                   54710.0                   42500.0   \n",
       "ENSG00000198804.2                   31460.0                   32570.0   \n",
       "ENSG00000198888.2                   38440.0                   34070.0   \n",
       "\n",
       "                   GTEX-1128S-2126-SM-5H12U  GTEX-113IC-0226-SM-5HL5C  \\\n",
       "gene_ens_id                                                             \n",
       "ENSG00000198938.2                   23850.0                   24240.0   \n",
       "ENSG00000198886.2                   36100.0                   19370.0   \n",
       "ENSG00000198899.2                   35230.0                   15870.0   \n",
       "ENSG00000198804.2                   21820.0                   18570.0   \n",
       "ENSG00000198888.2                   27410.0                   21560.0   \n",
       "\n",
       "                   GTEX-117YX-2226-SM-5EGJJ  GTEX-11DXW-0326-SM-5H11W  ...  \\\n",
       "gene_ens_id                                                            ...   \n",
       "ENSG00000198938.2                   33190.0                   38500.0  ...   \n",
       "ENSG00000198886.2                   43040.0                   39050.0  ...   \n",
       "ENSG00000198899.2                   44020.0                   42060.0  ...   \n",
       "ENSG00000198804.2                   20670.0                   20220.0  ...   \n",
       "ENSG00000198888.2                   29330.0                   36640.0  ...   \n",
       "\n",
       "                   GTEX-ZXES-2026-SM-5NQ6R  GTEX-ZXG5-0226-SM-59HJI  \\\n",
       "gene_ens_id                                                           \n",
       "ENSG00000198938.2                  38340.0                  28750.0   \n",
       "ENSG00000198886.2                  39140.0                  19910.0   \n",
       "ENSG00000198899.2                  47150.0                  27420.0   \n",
       "ENSG00000198804.2                  32630.0                  21210.0   \n",
       "ENSG00000198888.2                  37960.0                  24190.0   \n",
       "\n",
       "                   GTEX-ZYFC-0326-SM-5NQ7H  GTEX-ZYFD-0226-SM-5NQ86  \\\n",
       "gene_ens_id                                                           \n",
       "ENSG00000198938.2                  45570.0                  62970.0   \n",
       "ENSG00000198886.2                  34190.0                  22900.0   \n",
       "ENSG00000198899.2                  24630.0                  34790.0   \n",
       "ENSG00000198804.2                  22990.0                  25390.0   \n",
       "ENSG00000198888.2                  39950.0                  31940.0   \n",
       "\n",
       "                   GTEX-ZYT6-0326-SM-7LG5R  GTEX-ZYVF-0226-SM-5GIEG  \\\n",
       "gene_ens_id                                                           \n",
       "ENSG00000198938.2                  37120.0                  25490.0   \n",
       "ENSG00000198886.2                  26770.0                  22350.0   \n",
       "ENSG00000198899.2                  29440.0                  28640.0   \n",
       "ENSG00000198804.2                  24380.0                  13940.0   \n",
       "ENSG00000198888.2                  25410.0                  15760.0   \n",
       "\n",
       "                   GTEX-ZYW4-0226-SM-5E44M  GTEX-ZYY3-0226-SM-5E45M  \\\n",
       "gene_ens_id                                                           \n",
       "ENSG00000198938.2                  38000.0                  38310.0   \n",
       "ENSG00000198886.2                  20110.0                  36860.0   \n",
       "ENSG00000198899.2                  26590.0                  40390.0   \n",
       "ENSG00000198804.2                  13980.0                  18500.0   \n",
       "ENSG00000198888.2                  26500.0                  28270.0   \n",
       "\n",
       "                   GTEX-ZZ64-1626-SM-5E43W  GTEX-ZZPU-2726-SM-5NQ8O  \n",
       "gene_ens_id                                                          \n",
       "ENSG00000198938.2                  28740.0                  37650.0  \n",
       "ENSG00000198886.2                  35940.0                  29870.0  \n",
       "ENSG00000198899.2                  38170.0                  35170.0  \n",
       "ENSG00000198804.2                  20760.0                  31970.0  \n",
       "ENSG00000198888.2                  30060.0                  31440.0  \n",
       "\n",
       "[5 rows x 663 columns]"
      ]
     },
     "execution_count": 12,
     "metadata": {},
     "output_type": "execute_result"
    }
   ],
   "source": [
    "test_data.head()"
   ]
  },
  {
   "cell_type": "markdown",
   "id": "5903f3f5-791e-4f03-9d79-600102933d04",
   "metadata": {
    "papermill": {
     "duration": 0.01363,
     "end_time": "2021-09-18T17:08:13.651362",
     "exception": false,
     "start_time": "2021-09-18T17:08:13.637732",
     "status": "completed"
    },
    "tags": []
   },
   "source": [
    "This is a quick performance test of the correlation measure. The following line (`_tmp = ...`) is the setup code, which is needed in case the correlation method was optimized using `numba` and needs to be compiled before performing the test."
   ]
  },
  {
   "cell_type": "code",
   "execution_count": 13,
   "id": "118a6631-1cfd-44a3-bd85-5ec7118edd03",
   "metadata": {
    "execution": {
     "iopub.execute_input": "2021-09-18T17:08:13.682391Z",
     "iopub.status.busy": "2021-09-18T17:08:13.680943Z",
     "iopub.status.idle": "2021-09-18T17:08:14.261529Z",
     "shell.execute_reply": "2021-09-18T17:08:14.261105Z"
    },
    "papermill": {
     "duration": 0.597141,
     "end_time": "2021-09-18T17:08:14.261627",
     "exception": false,
     "start_time": "2021-09-18T17:08:13.664486",
     "status": "completed"
    },
    "tags": []
   },
   "outputs": [
    {
     "data": {
      "text/plain": [
       "(3, 3)"
      ]
     },
     "metadata": {},
     "output_type": "display_data"
    },
    {
     "data": {
      "text/html": [
       "<div>\n",
       "<style scoped>\n",
       "    .dataframe tbody tr th:only-of-type {\n",
       "        vertical-align: middle;\n",
       "    }\n",
       "\n",
       "    .dataframe tbody tr th {\n",
       "        vertical-align: top;\n",
       "    }\n",
       "\n",
       "    .dataframe thead th {\n",
       "        text-align: right;\n",
       "    }\n",
       "</style>\n",
       "<table border=\"1\" class=\"dataframe\">\n",
       "  <thead>\n",
       "    <tr style=\"text-align: right;\">\n",
       "      <th>gene_ens_id</th>\n",
       "      <th>ENSG00000198938.2</th>\n",
       "      <th>ENSG00000198886.2</th>\n",
       "      <th>ENSG00000198899.2</th>\n",
       "    </tr>\n",
       "    <tr>\n",
       "      <th>gene_ens_id</th>\n",
       "      <th></th>\n",
       "      <th></th>\n",
       "      <th></th>\n",
       "    </tr>\n",
       "  </thead>\n",
       "  <tbody>\n",
       "    <tr>\n",
       "      <th>ENSG00000198938.2</th>\n",
       "      <td>1.000000</td>\n",
       "      <td>0.115891</td>\n",
       "      <td>0.173306</td>\n",
       "    </tr>\n",
       "    <tr>\n",
       "      <th>ENSG00000198886.2</th>\n",
       "      <td>0.115891</td>\n",
       "      <td>1.000000</td>\n",
       "      <td>0.394675</td>\n",
       "    </tr>\n",
       "    <tr>\n",
       "      <th>ENSG00000198899.2</th>\n",
       "      <td>0.173306</td>\n",
       "      <td>0.394675</td>\n",
       "      <td>1.000000</td>\n",
       "    </tr>\n",
       "  </tbody>\n",
       "</table>\n",
       "</div>"
      ],
      "text/plain": [
       "gene_ens_id        ENSG00000198938.2  ENSG00000198886.2  ENSG00000198899.2\n",
       "gene_ens_id                                                               \n",
       "ENSG00000198938.2           1.000000           0.115891           0.173306\n",
       "ENSG00000198886.2           0.115891           1.000000           0.394675\n",
       "ENSG00000198899.2           0.173306           0.394675           1.000000"
      ]
     },
     "metadata": {},
     "output_type": "display_data"
    }
   ],
   "source": [
    "_tmp = CORRELATION_METHOD(test_data.iloc[:3])\n",
    "\n",
    "display(_tmp.shape)\n",
    "display(_tmp)"
   ]
  },
  {
   "cell_type": "code",
   "execution_count": 14,
   "id": "d32281d8-f640-4f87-a1d5-aefa0757e9c3",
   "metadata": {
    "execution": {
     "iopub.execute_input": "2021-09-18T17:08:14.421290Z",
     "iopub.status.busy": "2021-09-18T17:08:14.420599Z",
     "iopub.status.idle": "2021-09-18T17:08:25.109946Z",
     "shell.execute_reply": "2021-09-18T17:08:25.109305Z"
    },
    "papermill": {
     "duration": 10.833844,
     "end_time": "2021-09-18T17:08:25.110045",
     "exception": false,
     "start_time": "2021-09-18T17:08:14.276201",
     "status": "completed"
    },
    "tags": []
   },
   "outputs": [
    {
     "name": "stdout",
     "output_type": "stream",
     "text": [
      "1.35 s ± 3.97 ms per loop (mean ± std. dev. of 7 runs, 1 loop each)\n"
     ]
    }
   ],
   "source": [
    "%timeit CORRELATION_METHOD(test_data)"
   ]
  },
  {
   "cell_type": "markdown",
   "id": "fc2f7184-c0da-438c-94f5-002912793636",
   "metadata": {
    "papermill": {
     "duration": 0.014188,
     "end_time": "2021-09-18T17:08:25.139143",
     "exception": false,
     "start_time": "2021-09-18T17:08:25.124955",
     "status": "completed"
    },
    "tags": []
   },
   "source": [
    "## Run"
   ]
  },
  {
   "cell_type": "code",
   "execution_count": 15,
   "id": "1237ae45-d4fc-4074-bfc7-a1de75aeea48",
   "metadata": {
    "execution": {
     "iopub.execute_input": "2021-09-18T17:08:25.172692Z",
     "iopub.status.busy": "2021-09-18T17:08:25.172192Z",
     "iopub.status.idle": "2021-09-18T17:19:23.317824Z",
     "shell.execute_reply": "2021-09-18T17:19:23.316832Z"
    },
    "papermill": {
     "duration": 658.164342,
     "end_time": "2021-09-18T17:19:23.317919",
     "exception": false,
     "start_time": "2021-09-18T17:08:25.153577",
     "status": "completed"
    },
    "tags": []
   },
   "outputs": [
    {
     "name": "stderr",
     "output_type": "stream",
     "text": [
      "gtex_v8_data_whole_blood-var_raw: 100%|██████████████████████████████| 5/5 [10:58<00:00, 131.62s/it]\n"
     ]
    }
   ],
   "source": [
    "pbar = tqdm(input_files, ncols=100)\n",
    "\n",
    "for tissue_data_file in pbar:\n",
    "    pbar.set_description(tissue_data_file.stem)\n",
    "\n",
    "    # read\n",
    "    data = pd.read_pickle(tissue_data_file)\n",
    "\n",
    "    # compute correlations\n",
    "    data_corrs = CORRELATION_METHOD(data)\n",
    "\n",
    "    # save\n",
    "    output_filename = f\"{tissue_data_file.stem}-{method_name}.pkl\"\n",
    "    data_corrs.to_pickle(path=OUTPUT_DIR / output_filename)"
   ]
  },
  {
   "cell_type": "code",
   "execution_count": null,
   "id": "258babdf-03ce-4450-ab22-7a3d75bf6869",
   "metadata": {
    "papermill": {
     "duration": 0.029907,
     "end_time": "2021-09-18T17:19:24.256413",
     "exception": false,
     "start_time": "2021-09-18T17:19:24.226506",
     "status": "completed"
    },
    "tags": []
   },
   "outputs": [],
   "source": []
  }
 ],
 "metadata": {
  "jupytext": {
   "cell_metadata_filter": "all,-execution,-papermill,-trusted"
  },
  "kernelspec": {
   "display_name": "Python 3 (ipykernel)",
   "language": "python",
   "name": "python3"
  },
  "language_info": {
   "codemirror_mode": {
    "name": "ipython",
    "version": 3
   },
   "file_extension": ".py",
   "mimetype": "text/x-python",
   "name": "python",
   "nbconvert_exporter": "python",
   "pygments_lexer": "ipython3",
   "version": "3.9.7"
  },
  "papermill": {
   "default_parameters": {},
   "duration": 673.412993,
   "end_time": "2021-09-18T17:19:24.686308",
   "environment_variables": {},
   "exception": null,
   "input_path": "nbs/10_compute_correlations/05_gtex_v8/07_02-gtex-var_raw-clustermatch_k2.ipynb",
   "output_path": "nbs/10_compute_correlations/05_gtex_v8/07_02-gtex-var_raw-clustermatch_k2.run.ipynb",
   "parameters": {},
   "start_time": "2021-09-18T17:08:11.273315",
   "version": "2.3.3"
  }
 },
 "nbformat": 4,
 "nbformat_minor": 5
}
