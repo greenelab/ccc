{
 "cells": [
  {
   "cell_type": "markdown",
   "id": "e9773a95-e8fd-4963-87a5-0c92299434d5",
   "metadata": {
    "papermill": {
     "duration": 0.010569,
     "end_time": "2021-09-01T16:47:37.867743",
     "exception": false,
     "start_time": "2021-09-01T16:47:37.857174",
     "status": "completed"
    },
    "tags": []
   },
   "source": [
    "# Description"
   ]
  },
  {
   "cell_type": "markdown",
   "id": "57f34c74-404d-4776-b547-e6acb2df75d7",
   "metadata": {
    "papermill": {
     "duration": 0.00983,
     "end_time": "2021-09-01T16:47:37.887716",
     "exception": false,
     "start_time": "2021-09-01T16:47:37.877886",
     "status": "completed"
    },
    "tags": []
   },
   "source": [
    "According to the settings specified below, this notebook:\n",
    " 1. reads all the data from one source (GTEx, recount2, etc) according to the gene selection method (`GENE_SELECTION_STRATEGY`),\n",
    " 2. runs a quick performance test using the correlation coefficient specified (`CORRELATION_METHOD`), and\n",
    " 3. computes the correlation matrix across all the genes using the correlation coefficient specified."
   ]
  },
  {
   "cell_type": "markdown",
   "id": "1d8fae6b-e623-46a6-aff6-d7849163c820",
   "metadata": {
    "papermill": {
     "duration": 0.011029,
     "end_time": "2021-09-01T16:47:37.909510",
     "exception": false,
     "start_time": "2021-09-01T16:47:37.898481",
     "status": "completed"
    },
    "tags": []
   },
   "source": [
    "# Modules"
   ]
  },
  {
   "cell_type": "code",
   "execution_count": null,
   "id": "76729f0e-f742-495b-b676-d9d7b1539e10",
   "metadata": {
    "papermill": {
     "duration": 0.676691,
     "end_time": "2021-09-01T16:47:38.596938",
     "exception": false,
     "start_time": "2021-09-01T16:47:37.920247",
     "status": "completed"
    },
    "tags": []
   },
   "outputs": [],
   "source": [
    "import pandas as pd\n",
    "from tqdm import tqdm\n",
    "\n",
    "from clustermatch import conf\n",
    "from clustermatch.utils import simplify_string\n",
    "from clustermatch.corr import clustermatch"
   ]
  },
  {
   "cell_type": "markdown",
   "id": "a6c3a546-9a49-45e7-9f17-fbdb5af4bfb6",
   "metadata": {
    "papermill": {
     "duration": 0.010086,
     "end_time": "2021-09-01T16:47:38.618172",
     "exception": false,
     "start_time": "2021-09-01T16:47:38.608086",
     "status": "completed"
    },
    "tags": []
   },
   "source": [
    "# Settings"
   ]
  },
  {
   "cell_type": "code",
   "execution_count": null,
   "id": "56ff94d3-a230-4028-a71d-518ac109209b",
   "metadata": {
    "papermill": {
     "duration": 0.015995,
     "end_time": "2021-09-01T16:47:38.644456",
     "exception": false,
     "start_time": "2021-09-01T16:47:38.628461",
     "status": "completed"
    },
    "tags": []
   },
   "outputs": [],
   "source": [
    "GENE_SELECTION_STRATEGY = \"var_raw\""
   ]
  },
  {
   "cell_type": "code",
   "execution_count": null,
   "id": "f5433907-5b88-4c68-b3d4-fb98298dec4a",
   "metadata": {},
   "outputs": [],
   "source": [
    "# for clustermatch, I select the top 5 tissues (according to sample size, see nbs/05_preprocessing/00-gtex_v8-split_by_tissue.ipynb)\n",
    "TISSUES = [\n",
    "    \"Muscle - Skeletal\",\n",
    "    \"Whole Blood\",\n",
    "    \"Skin - Sun Exposed (Lower leg)\",\n",
    "    \"Adipose - Subcutaneous\",\n",
    "    \"Artery - Tibial\",\n",
    "]"
   ]
  },
  {
   "cell_type": "code",
   "execution_count": 3,
   "id": "fc3fb014-e0df-4bf1-9a1a-43c8477bb650",
   "metadata": {
    "execution": {
     "iopub.execute_input": "2021-09-12T23:46:26.230143Z",
     "iopub.status.busy": "2021-09-12T23:46:26.229699Z",
     "iopub.status.idle": "2021-09-12T23:46:26.234160Z",
     "shell.execute_reply": "2021-09-12T23:46:26.233748Z"
    },
    "papermill": {
     "duration": 0.023268,
     "end_time": "2021-09-12T23:46:26.234257",
     "exception": false,
     "start_time": "2021-09-12T23:46:26.210989",
     "status": "completed"
    },
    "tags": []
   },
   "outputs": [
    {
     "data": {
      "text/plain": [
       "'clustermatch_k2to5'"
      ]
     },
     "metadata": {},
     "output_type": "display_data"
    }
   ],
   "source": [
    "def clustermatch_k2(data):\n",
    "    n_clusters = list(range(2, 2 + 1))\n",
    "    return clustermatch(data, internal_n_clusters=n_clusters)\n",
    "\n",
    "\n",
    "CORRELATION_METHOD = clustermatch_k2\n",
    "\n",
    "method_name = CORRELATION_METHOD.__name__\n",
    "display(method_name)"
   ]
  },
  {
   "cell_type": "code",
   "execution_count": null,
   "id": "21a3e349-9a09-4d24-89e3-915fdbf08a81",
   "metadata": {
    "papermill": {
     "duration": 0.017081,
     "end_time": "2021-09-01T16:47:38.707224",
     "exception": false,
     "start_time": "2021-09-01T16:47:38.690143",
     "status": "completed"
    },
    "tags": []
   },
   "outputs": [],
   "source": [
    "PERFORMANCE_TEST_N_TOP_GENES = 500"
   ]
  },
  {
   "cell_type": "markdown",
   "id": "b0afcba9-5847-414e-b448-f0cd08ecd8ce",
   "metadata": {
    "papermill": {
     "duration": 0.010528,
     "end_time": "2021-09-01T16:47:38.728618",
     "exception": false,
     "start_time": "2021-09-01T16:47:38.718090",
     "status": "completed"
    },
    "tags": []
   },
   "source": [
    "# Paths"
   ]
  },
  {
   "cell_type": "code",
   "execution_count": null,
   "id": "35760114-8560-4a0e-ad4f-2bee9104c63d",
   "metadata": {
    "papermill": {
     "duration": 0.017698,
     "end_time": "2021-09-01T16:47:38.757393",
     "exception": false,
     "start_time": "2021-09-01T16:47:38.739695",
     "status": "completed"
    },
    "tags": []
   },
   "outputs": [],
   "source": [
    "INPUT_DIR = conf.GTEX[\"GENE_SELECTION_DIR\"]\n",
    "display(INPUT_DIR)\n",
    "\n",
    "assert INPUT_DIR.exists()"
   ]
  },
  {
   "cell_type": "code",
   "execution_count": null,
   "id": "f1418e81-4e77-4f67-b5ed-b29b797e31a0",
   "metadata": {
    "papermill": {
     "duration": 0.019595,
     "end_time": "2021-09-01T16:47:38.788047",
     "exception": false,
     "start_time": "2021-09-01T16:47:38.768452",
     "status": "completed"
    },
    "tags": []
   },
   "outputs": [],
   "source": [
    "OUTPUT_DIR = conf.GTEX[\"SIMILARITY_MATRICES_DIR\"]\n",
    "OUTPUT_DIR.mkdir(parents=True, exist_ok=True)\n",
    "display(OUTPUT_DIR)"
   ]
  },
  {
   "cell_type": "markdown",
   "id": "5fdf8df6-eba0-4cf5-979c-3acd56a5ef3c",
   "metadata": {
    "papermill": {
     "duration": 0.011293,
     "end_time": "2021-09-01T16:47:38.811314",
     "exception": false,
     "start_time": "2021-09-01T16:47:38.800021",
     "status": "completed"
    },
    "tags": []
   },
   "source": [
    "# Data loading"
   ]
  },
  {
   "cell_type": "code",
   "execution_count": null,
   "id": "74c76939-14b3-4e41-9e18-24c8176d2168",
   "metadata": {},
   "outputs": [],
   "source": [
    "tissue_in_file_names = [f\"_data_{simplify_string(t.lower())}-\" for t in TISSUES]"
   ]
  },
  {
   "cell_type": "code",
   "execution_count": null,
   "id": "596d25ed-4120-4bef-8984-a91ae6529ab5",
   "metadata": {
    "papermill": {
     "duration": 0.020006,
     "end_time": "2021-09-01T16:47:38.843018",
     "exception": false,
     "start_time": "2021-09-01T16:47:38.823012",
     "status": "completed"
    },
    "tags": []
   },
   "outputs": [],
   "source": [
    "input_files = sorted(list(INPUT_DIR.glob(f\"*-{GENE_SELECTION_STRATEGY}.pkl\")))\n",
    "input_files = [\n",
    "    f for f in input_files if any(tn in f.name for tn in tissue_in_file_names)\n",
    "]\n",
    "display(len(input_files))\n",
    "\n",
    "assert len(input_files) == len(TISSUES), len(TISSUES)\n",
    "display(input_files)"
   ]
  },
  {
   "cell_type": "markdown",
   "id": "081da632-fd12-462a-9ae1-c0ceccf1bb5d",
   "metadata": {
    "papermill": {
     "duration": 0.013359,
     "end_time": "2021-09-01T16:47:38.868909",
     "exception": false,
     "start_time": "2021-09-01T16:47:38.855550",
     "status": "completed"
    },
    "tags": []
   },
   "source": [
    "# Compute similarity"
   ]
  },
  {
   "cell_type": "markdown",
   "id": "37137fff-2d3a-43d8-9bd5-d7c3284a97f5",
   "metadata": {
    "papermill": {
     "duration": 0.013364,
     "end_time": "2021-09-01T16:47:38.895699",
     "exception": false,
     "start_time": "2021-09-01T16:47:38.882335",
     "status": "completed"
    },
    "tags": []
   },
   "source": [
    "## Performance test"
   ]
  },
  {
   "cell_type": "code",
   "execution_count": null,
   "id": "5dd40707-759f-4bf9-b8cc-84811b2dfe53",
   "metadata": {
    "papermill": {
     "duration": 0.032647,
     "end_time": "2021-09-01T16:47:38.942409",
     "exception": false,
     "start_time": "2021-09-01T16:47:38.909762",
     "status": "completed"
    },
    "tags": []
   },
   "outputs": [],
   "source": [
    "display(input_files[0])\n",
    "test_data = pd.read_pickle(input_files[0]).iloc[:PERFORMANCE_TEST_N_TOP_GENES]"
   ]
  },
  {
   "cell_type": "code",
   "execution_count": null,
   "id": "e8acd036-93f7-46c0-a1ee-8da0c2c24790",
   "metadata": {
    "papermill": {
     "duration": 0.019586,
     "end_time": "2021-09-01T16:47:38.975115",
     "exception": false,
     "start_time": "2021-09-01T16:47:38.955529",
     "status": "completed"
    },
    "tags": []
   },
   "outputs": [],
   "source": [
    "test_data.shape"
   ]
  },
  {
   "cell_type": "code",
   "execution_count": null,
   "id": "111e360b-dbe4-4b69-9029-7b7669eb5ddc",
   "metadata": {
    "papermill": {
     "duration": 0.043426,
     "end_time": "2021-09-01T16:47:39.031725",
     "exception": false,
     "start_time": "2021-09-01T16:47:38.988299",
     "status": "completed"
    },
    "tags": []
   },
   "outputs": [],
   "source": [
    "test_data.head()"
   ]
  },
  {
   "cell_type": "markdown",
   "id": "5903f3f5-791e-4f03-9d79-600102933d04",
   "metadata": {
    "papermill": {
     "duration": 0.015078,
     "end_time": "2021-09-01T16:47:39.061229",
     "exception": false,
     "start_time": "2021-09-01T16:47:39.046151",
     "status": "completed"
    },
    "tags": []
   },
   "source": [
    "This is a quick performance test of the correlation measure. The following line (`_tmp = ...`) is the setup code, which is needed in case the correlation method was optimized using `numba` and needs to be compiled before performing the test."
   ]
  },
  {
   "cell_type": "code",
   "execution_count": null,
   "id": "118a6631-1cfd-44a3-bd85-5ec7118edd03",
   "metadata": {
    "papermill": {
     "duration": 0.027224,
     "end_time": "2021-09-01T16:47:39.102873",
     "exception": false,
     "start_time": "2021-09-01T16:47:39.075649",
     "status": "completed"
    },
    "tags": []
   },
   "outputs": [],
   "source": [
    "_tmp = CORRELATION_METHOD(test_data.iloc[:3])\n",
    "\n",
    "display(_tmp.shape)\n",
    "display(_tmp)"
   ]
  },
  {
   "cell_type": "code",
   "execution_count": null,
   "id": "d32281d8-f640-4f87-a1d5-aefa0757e9c3",
   "metadata": {
    "papermill": {
     "duration": 4.568251,
     "end_time": "2021-09-01T16:47:43.686520",
     "exception": false,
     "start_time": "2021-09-01T16:47:39.118269",
     "status": "completed"
    },
    "tags": []
   },
   "outputs": [],
   "source": [
    "%timeit CORRELATION_METHOD(test_data)"
   ]
  },
  {
   "cell_type": "markdown",
   "id": "fc2f7184-c0da-438c-94f5-002912793636",
   "metadata": {
    "papermill": {
     "duration": 0.015392,
     "end_time": "2021-09-01T16:47:43.716801",
     "exception": false,
     "start_time": "2021-09-01T16:47:43.701409",
     "status": "completed"
    },
    "tags": []
   },
   "source": [
    "## Run"
   ]
  },
  {
   "cell_type": "code",
   "execution_count": null,
   "id": "1237ae45-d4fc-4074-bfc7-a1de75aeea48",
   "metadata": {
    "papermill": {
     "duration": 161.490684,
     "end_time": "2021-09-01T16:50:25.222303",
     "exception": false,
     "start_time": "2021-09-01T16:47:43.731619",
     "status": "completed"
    },
    "tags": []
   },
   "outputs": [],
   "source": [
    "pbar = tqdm(input_files, ncols=100)\n",
    "\n",
    "for tissue_data_file in pbar:\n",
    "    pbar.set_description(tissue_data_file.stem)\n",
    "\n",
    "    # read\n",
    "    data = pd.read_pickle(tissue_data_file)\n",
    "\n",
    "    # compute correlations\n",
    "    data_corrs = CORRELATION_METHOD(data)\n",
    "\n",
    "    # save\n",
    "    output_filename = f\"{tissue_data_file.stem}-{method_name}.pkl\"\n",
    "    data_corrs.to_pickle(path=OUTPUT_DIR / output_filename)"
   ]
  },
  {
   "cell_type": "code",
   "execution_count": null,
   "id": "258babdf-03ce-4450-ab22-7a3d75bf6869",
   "metadata": {
    "papermill": {
     "duration": 0.035801,
     "end_time": "2021-09-01T16:50:25.296220",
     "exception": false,
     "start_time": "2021-09-01T16:50:25.260419",
     "status": "completed"
    },
    "tags": []
   },
   "outputs": [],
   "source": []
  }
 ],
 "metadata": {
  "jupytext": {
   "cell_metadata_filter": "all,-execution,-papermill,-trusted",
   "text_representation": {
    "extension": ".py",
    "format_name": "percent",
    "format_version": "1.3",
    "jupytext_version": "1.11.5"
   }
  },
  "kernelspec": {
   "display_name": "Python 3 (ipykernel)",
   "language": "python",
   "name": "python3"
  },
  "language_info": {
   "codemirror_mode": {
    "name": "ipython",
    "version": 3
   },
   "file_extension": ".py",
   "mimetype": "text/x-python",
   "name": "python",
   "nbconvert_exporter": "python",
   "pygments_lexer": "ipython3",
   "version": "3.9.7"
  },
  "papermill": {
   "default_parameters": {},
   "duration": 168.556635,
   "end_time": "2021-09-01T16:50:25.542183",
   "environment_variables": {},
   "exception": null,
   "input_path": "nbs/10_compute_correlations/05_gtex_v8/05-gtex-pearson.ipynb",
   "output_path": "nbs/10_compute_correlations/05_gtex_v8/05-gtex-pearson.run.ipynb",
   "parameters": {},
   "start_time": "2021-09-01T16:47:36.985548",
   "version": "2.3.3"
  }
 },
 "nbformat": 4,
 "nbformat_minor": 5
}
