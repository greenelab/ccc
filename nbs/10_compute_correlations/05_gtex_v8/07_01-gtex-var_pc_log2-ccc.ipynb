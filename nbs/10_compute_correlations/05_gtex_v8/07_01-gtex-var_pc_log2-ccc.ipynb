{
 "cells": [
  {
   "cell_type": "markdown",
   "id": "e9773a95-e8fd-4963-87a5-0c92299434d5",
   "metadata": {
    "papermill": {
     "duration": 0.017332,
     "end_time": "2022-05-24T14:46:58.615303",
     "exception": false,
     "start_time": "2022-05-24T14:46:58.597971",
     "status": "completed"
    },
    "tags": []
   },
   "source": [
    "# Description"
   ]
  },
  {
   "cell_type": "markdown",
   "id": "57f34c74-404d-4776-b547-e6acb2df75d7",
   "metadata": {
    "papermill": {
     "duration": 0.008445,
     "end_time": "2022-05-24T14:46:58.638908",
     "exception": false,
     "start_time": "2022-05-24T14:46:58.630463",
     "status": "completed"
    },
    "tags": []
   },
   "source": [
    "According to the settings specified below, this notebook:\n",
    " 1. reads all the data from one source (GTEx, recount2, etc) according to the gene selection method (`GENE_SELECTION_STRATEGY`),\n",
    " 2. runs a quick performance test using the correlation coefficient specified (`CORRELATION_METHOD`), and\n",
    " 3. computes the correlation matrix across all the genes using the correlation coefficient specified."
   ]
  },
  {
   "cell_type": "markdown",
   "id": "1d8fae6b-e623-46a6-aff6-d7849163c820",
   "metadata": {
    "papermill": {
     "duration": 0.004708,
     "end_time": "2022-05-24T14:46:58.651251",
     "exception": false,
     "start_time": "2022-05-24T14:46:58.646543",
     "status": "completed"
    },
    "tags": []
   },
   "source": [
    "# Modules"
   ]
  },
  {
   "cell_type": "code",
   "execution_count": 1,
   "id": "76729f0e-f742-495b-b676-d9d7b1539e10",
   "metadata": {
    "execution": {
     "iopub.execute_input": "2022-05-24T14:46:58.660446Z",
     "iopub.status.busy": "2022-05-24T14:46:58.660194Z",
     "iopub.status.idle": "2022-05-24T14:46:59.171346Z",
     "shell.execute_reply": "2022-05-24T14:46:59.170627Z"
    },
    "papermill": {
     "duration": 0.517725,
     "end_time": "2022-05-24T14:46:59.173258",
     "exception": false,
     "start_time": "2022-05-24T14:46:58.655533",
     "status": "completed"
    },
    "tags": []
   },
   "outputs": [],
   "source": [
    "from time import time\n",
    "\n",
    "import pandas as pd\n",
    "from tqdm import tqdm\n",
    "\n",
    "from ccc import conf\n",
    "from ccc.utils import simplify_string\n",
    "from ccc.corr import ccc"
   ]
  },
  {
   "cell_type": "markdown",
   "id": "a6c3a546-9a49-45e7-9f17-fbdb5af4bfb6",
   "metadata": {
    "papermill": {
     "duration": 0.004522,
     "end_time": "2022-05-24T14:46:59.182634",
     "exception": false,
     "start_time": "2022-05-24T14:46:59.178112",
     "status": "completed"
    },
    "tags": []
   },
   "source": [
    "# Settings"
   ]
  },
  {
   "cell_type": "code",
   "execution_count": 2,
   "id": "56ff94d3-a230-4028-a71d-518ac109209b",
   "metadata": {
    "execution": {
     "iopub.execute_input": "2022-05-24T14:46:59.192883Z",
     "iopub.status.busy": "2022-05-24T14:46:59.192690Z",
     "iopub.status.idle": "2022-05-24T14:46:59.195941Z",
     "shell.execute_reply": "2022-05-24T14:46:59.195465Z"
    },
    "papermill": {
     "duration": 0.010121,
     "end_time": "2022-05-24T14:46:59.197505",
     "exception": false,
     "start_time": "2022-05-24T14:46:59.187384",
     "status": "completed"
    },
    "tags": []
   },
   "outputs": [],
   "source": [
    "GENE_SELECTION_STRATEGY = \"var_pc_log2\""
   ]
  },
  {
   "cell_type": "code",
   "execution_count": 3,
   "id": "f5433907-5b88-4c68-b3d4-fb98298dec4a",
   "metadata": {
    "execution": {
     "iopub.execute_input": "2022-05-24T14:46:59.207591Z",
     "iopub.status.busy": "2022-05-24T14:46:59.207409Z",
     "iopub.status.idle": "2022-05-24T14:46:59.210688Z",
     "shell.execute_reply": "2022-05-24T14:46:59.210092Z"
    },
    "papermill": {
     "duration": 0.010126,
     "end_time": "2022-05-24T14:46:59.212259",
     "exception": false,
     "start_time": "2022-05-24T14:46:59.202133",
     "status": "completed"
    },
    "tags": []
   },
   "outputs": [],
   "source": [
    "# select the top 5 tissues (according to sample size, see nbs/05_preprocessing/00-gtex_v8-split_by_tissue.ipynb)\n",
    "TISSUES = [\n",
    "    # \"Muscle - Skeletal\",\n",
    "    \"Whole Blood\",\n",
    "    # \"Skin - Sun Exposed (Lower leg)\",\n",
    "    # \"Adipose - Subcutaneous\",\n",
    "    # \"Artery - Tibial\",\n",
    "]"
   ]
  },
  {
   "cell_type": "code",
   "execution_count": 4,
   "id": "8baf4209-ba56-4e3d-b60f-6ce2bb686159",
   "metadata": {
    "execution": {
     "iopub.execute_input": "2022-05-24T14:46:59.222163Z",
     "iopub.status.busy": "2022-05-24T14:46:59.221983Z",
     "iopub.status.idle": "2022-05-24T14:46:59.232124Z",
     "shell.execute_reply": "2022-05-24T14:46:59.231532Z"
    },
    "papermill": {
     "duration": 0.016756,
     "end_time": "2022-05-24T14:46:59.233631",
     "exception": false,
     "start_time": "2022-05-24T14:46:59.216875",
     "status": "completed"
    },
    "tags": []
   },
   "outputs": [
    {
     "data": {
      "text/plain": [
       "'clustermatch'"
      ]
     },
     "metadata": {},
     "output_type": "display_data"
    }
   ],
   "source": [
    "CORRELATION_METHOD = lambda x: ccc(x, n_jobs=conf.GENERAL[\"N_JOBS\"])\n",
    "CORRELATION_METHOD.__name__ = \"ccc\"\n",
    "\n",
    "method_name = CORRELATION_METHOD.__name__\n",
    "display(method_name)"
   ]
  },
  {
   "cell_type": "code",
   "execution_count": 5,
   "id": "21a3e349-9a09-4d24-89e3-915fdbf08a81",
   "metadata": {
    "execution": {
     "iopub.execute_input": "2022-05-24T14:46:59.243974Z",
     "iopub.status.busy": "2022-05-24T14:46:59.243786Z",
     "iopub.status.idle": "2022-05-24T14:46:59.246921Z",
     "shell.execute_reply": "2022-05-24T14:46:59.246434Z"
    },
    "papermill": {
     "duration": 0.010054,
     "end_time": "2022-05-24T14:46:59.248520",
     "exception": false,
     "start_time": "2022-05-24T14:46:59.238466",
     "status": "completed"
    },
    "tags": []
   },
   "outputs": [],
   "source": [
    "PERFORMANCE_TEST_N_TOP_GENES = 500"
   ]
  },
  {
   "cell_type": "markdown",
   "id": "b0afcba9-5847-414e-b448-f0cd08ecd8ce",
   "metadata": {
    "papermill": {
     "duration": 0.004554,
     "end_time": "2022-05-24T14:46:59.257802",
     "exception": false,
     "start_time": "2022-05-24T14:46:59.253248",
     "status": "completed"
    },
    "tags": []
   },
   "source": [
    "# Paths"
   ]
  },
  {
   "cell_type": "code",
   "execution_count": 6,
   "id": "35760114-8560-4a0e-ad4f-2bee9104c63d",
   "metadata": {
    "execution": {
     "iopub.execute_input": "2022-05-24T14:46:59.268002Z",
     "iopub.status.busy": "2022-05-24T14:46:59.267807Z",
     "iopub.status.idle": "2022-05-24T14:46:59.272242Z",
     "shell.execute_reply": "2022-05-24T14:46:59.271789Z"
    },
    "papermill": {
     "duration": 0.011391,
     "end_time": "2022-05-24T14:46:59.273818",
     "exception": false,
     "start_time": "2022-05-24T14:46:59.262427",
     "status": "completed"
    },
    "tags": []
   },
   "outputs": [
    {
     "data": {
      "text/plain": [
       "PosixPath('/opt/data/results/gtex_v8/gene_selection')"
      ]
     },
     "metadata": {},
     "output_type": "display_data"
    }
   ],
   "source": [
    "INPUT_DIR = conf.GTEX[\"GENE_SELECTION_DIR\"]\n",
    "display(INPUT_DIR)\n",
    "\n",
    "assert INPUT_DIR.exists()"
   ]
  },
  {
   "cell_type": "code",
   "execution_count": 7,
   "id": "f1418e81-4e77-4f67-b5ed-b29b797e31a0",
   "metadata": {
    "execution": {
     "iopub.execute_input": "2022-05-24T14:46:59.284305Z",
     "iopub.status.busy": "2022-05-24T14:46:59.284118Z",
     "iopub.status.idle": "2022-05-24T14:46:59.288833Z",
     "shell.execute_reply": "2022-05-24T14:46:59.288324Z"
    },
    "papermill": {
     "duration": 0.011708,
     "end_time": "2022-05-24T14:46:59.290338",
     "exception": false,
     "start_time": "2022-05-24T14:46:59.278630",
     "status": "completed"
    },
    "tags": []
   },
   "outputs": [
    {
     "data": {
      "text/plain": [
       "PosixPath('/opt/data/results/gtex_v8/similarity_matrices')"
      ]
     },
     "metadata": {},
     "output_type": "display_data"
    }
   ],
   "source": [
    "OUTPUT_DIR = conf.GTEX[\"SIMILARITY_MATRICES_DIR\"]\n",
    "OUTPUT_DIR.mkdir(parents=True, exist_ok=True)\n",
    "display(OUTPUT_DIR)"
   ]
  },
  {
   "cell_type": "markdown",
   "id": "5fdf8df6-eba0-4cf5-979c-3acd56a5ef3c",
   "metadata": {
    "papermill": {
     "duration": 0.004596,
     "end_time": "2022-05-24T14:46:59.299801",
     "exception": false,
     "start_time": "2022-05-24T14:46:59.295205",
     "status": "completed"
    },
    "tags": []
   },
   "source": [
    "# Data loading"
   ]
  },
  {
   "cell_type": "code",
   "execution_count": 8,
   "id": "74c76939-14b3-4e41-9e18-24c8176d2168",
   "metadata": {
    "execution": {
     "iopub.execute_input": "2022-05-24T14:46:59.310289Z",
     "iopub.status.busy": "2022-05-24T14:46:59.310102Z",
     "iopub.status.idle": "2022-05-24T14:46:59.313519Z",
     "shell.execute_reply": "2022-05-24T14:46:59.312923Z"
    },
    "papermill": {
     "duration": 0.01054,
     "end_time": "2022-05-24T14:46:59.315089",
     "exception": false,
     "start_time": "2022-05-24T14:46:59.304549",
     "status": "completed"
    },
    "tags": []
   },
   "outputs": [],
   "source": [
    "tissue_in_file_names = [f\"_data_{simplify_string(t.lower())}-\" for t in TISSUES]"
   ]
  },
  {
   "cell_type": "code",
   "execution_count": 9,
   "id": "596d25ed-4120-4bef-8984-a91ae6529ab5",
   "metadata": {
    "execution": {
     "iopub.execute_input": "2022-05-24T14:46:59.324941Z",
     "iopub.status.busy": "2022-05-24T14:46:59.324779Z",
     "iopub.status.idle": "2022-05-24T14:46:59.331694Z",
     "shell.execute_reply": "2022-05-24T14:46:59.331136Z"
    },
    "papermill": {
     "duration": 0.013002,
     "end_time": "2022-05-24T14:46:59.332984",
     "exception": false,
     "start_time": "2022-05-24T14:46:59.319982",
     "status": "completed"
    },
    "tags": []
   },
   "outputs": [
    {
     "data": {
      "text/plain": [
       "1"
      ]
     },
     "metadata": {},
     "output_type": "display_data"
    },
    {
     "data": {
      "text/plain": [
       "[PosixPath('/opt/data/results/gtex_v8/gene_selection/gtex_v8_data_whole_blood-var_pc_log2.pkl')]"
      ]
     },
     "metadata": {},
     "output_type": "display_data"
    }
   ],
   "source": [
    "input_files = sorted(list(INPUT_DIR.glob(f\"*-{GENE_SELECTION_STRATEGY}.pkl\")))\n",
    "input_files = [\n",
    "    f for f in input_files if any(tn in f.name for tn in tissue_in_file_names)\n",
    "]\n",
    "display(len(input_files))\n",
    "\n",
    "assert len(input_files) == len(TISSUES), len(TISSUES)\n",
    "display(input_files)"
   ]
  },
  {
   "cell_type": "markdown",
   "id": "081da632-fd12-462a-9ae1-c0ceccf1bb5d",
   "metadata": {
    "papermill": {
     "duration": 0.003938,
     "end_time": "2022-05-24T14:46:59.341009",
     "exception": false,
     "start_time": "2022-05-24T14:46:59.337071",
     "status": "completed"
    },
    "tags": []
   },
   "source": [
    "# Compute similarity"
   ]
  },
  {
   "cell_type": "markdown",
   "id": "37137fff-2d3a-43d8-9bd5-d7c3284a97f5",
   "metadata": {
    "papermill": {
     "duration": 0.003788,
     "end_time": "2022-05-24T14:46:59.348744",
     "exception": false,
     "start_time": "2022-05-24T14:46:59.344956",
     "status": "completed"
    },
    "tags": []
   },
   "source": [
    "## Performance test"
   ]
  },
  {
   "cell_type": "code",
   "execution_count": 10,
   "id": "5dd40707-759f-4bf9-b8cc-84811b2dfe53",
   "metadata": {
    "execution": {
     "iopub.execute_input": "2022-05-24T14:46:59.357828Z",
     "iopub.status.busy": "2022-05-24T14:46:59.357330Z",
     "iopub.status.idle": "2022-05-24T14:46:59.373261Z",
     "shell.execute_reply": "2022-05-24T14:46:59.372742Z"
    },
    "papermill": {
     "duration": 0.022063,
     "end_time": "2022-05-24T14:46:59.374775",
     "exception": false,
     "start_time": "2022-05-24T14:46:59.352712",
     "status": "completed"
    },
    "tags": []
   },
   "outputs": [
    {
     "data": {
      "text/plain": [
       "PosixPath('/opt/data/results/gtex_v8/gene_selection/gtex_v8_data_whole_blood-var_pc_log2.pkl')"
      ]
     },
     "metadata": {},
     "output_type": "display_data"
    }
   ],
   "source": [
    "display(input_files[0])\n",
    "test_data = pd.read_pickle(input_files[0]).iloc[:PERFORMANCE_TEST_N_TOP_GENES]"
   ]
  },
  {
   "cell_type": "code",
   "execution_count": 11,
   "id": "e8acd036-93f7-46c0-a1ee-8da0c2c24790",
   "metadata": {
    "execution": {
     "iopub.execute_input": "2022-05-24T14:46:59.383925Z",
     "iopub.status.busy": "2022-05-24T14:46:59.383739Z",
     "iopub.status.idle": "2022-05-24T14:46:59.387707Z",
     "shell.execute_reply": "2022-05-24T14:46:59.387169Z"
    },
    "papermill": {
     "duration": 0.009963,
     "end_time": "2022-05-24T14:46:59.389062",
     "exception": false,
     "start_time": "2022-05-24T14:46:59.379099",
     "status": "completed"
    },
    "tags": []
   },
   "outputs": [
    {
     "data": {
      "text/plain": [
       "(500, 755)"
      ]
     },
     "execution_count": 11,
     "metadata": {},
     "output_type": "execute_result"
    }
   ],
   "source": [
    "test_data.shape"
   ]
  },
  {
   "cell_type": "code",
   "execution_count": 12,
   "id": "111e360b-dbe4-4b69-9029-7b7669eb5ddc",
   "metadata": {
    "execution": {
     "iopub.execute_input": "2022-05-24T14:46:59.398791Z",
     "iopub.status.busy": "2022-05-24T14:46:59.398630Z",
     "iopub.status.idle": "2022-05-24T14:46:59.420625Z",
     "shell.execute_reply": "2022-05-24T14:46:59.420101Z"
    },
    "papermill": {
     "duration": 0.028368,
     "end_time": "2022-05-24T14:46:59.421917",
     "exception": false,
     "start_time": "2022-05-24T14:46:59.393549",
     "status": "completed"
    },
    "tags": []
   },
   "outputs": [
    {
     "data": {
      "text/html": [
       "<div>\n",
       "<style scoped>\n",
       "    .dataframe tbody tr th:only-of-type {\n",
       "        vertical-align: middle;\n",
       "    }\n",
       "\n",
       "    .dataframe tbody tr th {\n",
       "        vertical-align: top;\n",
       "    }\n",
       "\n",
       "    .dataframe thead th {\n",
       "        text-align: right;\n",
       "    }\n",
       "</style>\n",
       "<table border=\"1\" class=\"dataframe\">\n",
       "  <thead>\n",
       "    <tr style=\"text-align: right;\">\n",
       "      <th></th>\n",
       "      <th>GTEX-111YS-0006-SM-5NQBE</th>\n",
       "      <th>GTEX-1122O-0005-SM-5O99J</th>\n",
       "      <th>GTEX-1128S-0005-SM-5P9HI</th>\n",
       "      <th>GTEX-113IC-0006-SM-5NQ9C</th>\n",
       "      <th>GTEX-113JC-0006-SM-5O997</th>\n",
       "      <th>GTEX-117XS-0005-SM-5PNU6</th>\n",
       "      <th>GTEX-117YW-0005-SM-5NQ8Z</th>\n",
       "      <th>GTEX-1192W-0005-SM-5NQBQ</th>\n",
       "      <th>GTEX-1192X-0005-SM-5NQC3</th>\n",
       "      <th>GTEX-11DXW-0006-SM-5NQ7Y</th>\n",
       "      <th>...</th>\n",
       "      <th>GTEX-ZVE2-0006-SM-51MRW</th>\n",
       "      <th>GTEX-ZVP2-0005-SM-51MRK</th>\n",
       "      <th>GTEX-ZVT2-0005-SM-57WBW</th>\n",
       "      <th>GTEX-ZVT3-0006-SM-51MT9</th>\n",
       "      <th>GTEX-ZVT4-0006-SM-57WB8</th>\n",
       "      <th>GTEX-ZVTK-0006-SM-57WBK</th>\n",
       "      <th>GTEX-ZVZP-0006-SM-51MSW</th>\n",
       "      <th>GTEX-ZVZQ-0006-SM-51MR8</th>\n",
       "      <th>GTEX-ZXES-0005-SM-57WCB</th>\n",
       "      <th>GTEX-ZXG5-0005-SM-57WCN</th>\n",
       "    </tr>\n",
       "    <tr>\n",
       "      <th>gene_ens_id</th>\n",
       "      <th></th>\n",
       "      <th></th>\n",
       "      <th></th>\n",
       "      <th></th>\n",
       "      <th></th>\n",
       "      <th></th>\n",
       "      <th></th>\n",
       "      <th></th>\n",
       "      <th></th>\n",
       "      <th></th>\n",
       "      <th></th>\n",
       "      <th></th>\n",
       "      <th></th>\n",
       "      <th></th>\n",
       "      <th></th>\n",
       "      <th></th>\n",
       "      <th></th>\n",
       "      <th></th>\n",
       "      <th></th>\n",
       "      <th></th>\n",
       "      <th></th>\n",
       "    </tr>\n",
       "  </thead>\n",
       "  <tbody>\n",
       "    <tr>\n",
       "      <th>ENSG00000169429.10</th>\n",
       "      <td>0.5623</td>\n",
       "      <td>0.8067</td>\n",
       "      <td>116.90000</td>\n",
       "      <td>4.047</td>\n",
       "      <td>211.0</td>\n",
       "      <td>58.110</td>\n",
       "      <td>68.38</td>\n",
       "      <td>249.50</td>\n",
       "      <td>5.095</td>\n",
       "      <td>295.9</td>\n",
       "      <td>...</td>\n",
       "      <td>39.960</td>\n",
       "      <td>0.1393</td>\n",
       "      <td>0.22380</td>\n",
       "      <td>245.0</td>\n",
       "      <td>513.6</td>\n",
       "      <td>1626.00</td>\n",
       "      <td>0.5633</td>\n",
       "      <td>515.70</td>\n",
       "      <td>1.19400</td>\n",
       "      <td>1163.00</td>\n",
       "    </tr>\n",
       "    <tr>\n",
       "      <th>ENSG00000135245.9</th>\n",
       "      <td>0.6529</td>\n",
       "      <td>1.3850</td>\n",
       "      <td>199.20000</td>\n",
       "      <td>2.266</td>\n",
       "      <td>116.7</td>\n",
       "      <td>192.300</td>\n",
       "      <td>161.50</td>\n",
       "      <td>263.50</td>\n",
       "      <td>23.540</td>\n",
       "      <td>251.9</td>\n",
       "      <td>...</td>\n",
       "      <td>114.300</td>\n",
       "      <td>1.8330</td>\n",
       "      <td>0.41150</td>\n",
       "      <td>149.0</td>\n",
       "      <td>935.3</td>\n",
       "      <td>233.60</td>\n",
       "      <td>0.8882</td>\n",
       "      <td>134.00</td>\n",
       "      <td>1.12000</td>\n",
       "      <td>295.70</td>\n",
       "    </tr>\n",
       "    <tr>\n",
       "      <th>ENSG00000163631.16</th>\n",
       "      <td>1.8480</td>\n",
       "      <td>0.2503</td>\n",
       "      <td>0.08429</td>\n",
       "      <td>1.251</td>\n",
       "      <td>1348.0</td>\n",
       "      <td>9.971</td>\n",
       "      <td>101.30</td>\n",
       "      <td>95.09</td>\n",
       "      <td>1.264</td>\n",
       "      <td>119.3</td>\n",
       "      <td>...</td>\n",
       "      <td>2.092</td>\n",
       "      <td>2.1100</td>\n",
       "      <td>0.03588</td>\n",
       "      <td>171.8</td>\n",
       "      <td>107.1</td>\n",
       "      <td>71.25</td>\n",
       "      <td>1.7720</td>\n",
       "      <td>309.60</td>\n",
       "      <td>0.07361</td>\n",
       "      <td>17.75</td>\n",
       "    </tr>\n",
       "    <tr>\n",
       "      <th>ENSG00000277632.1</th>\n",
       "      <td>1.6960</td>\n",
       "      <td>1.3450</td>\n",
       "      <td>235.10000</td>\n",
       "      <td>11.770</td>\n",
       "      <td>141.7</td>\n",
       "      <td>199.100</td>\n",
       "      <td>525.50</td>\n",
       "      <td>659.90</td>\n",
       "      <td>10.910</td>\n",
       "      <td>209.3</td>\n",
       "      <td>...</td>\n",
       "      <td>61.340</td>\n",
       "      <td>2.2500</td>\n",
       "      <td>0.72310</td>\n",
       "      <td>261.2</td>\n",
       "      <td>400.0</td>\n",
       "      <td>288.50</td>\n",
       "      <td>2.6960</td>\n",
       "      <td>287.50</td>\n",
       "      <td>3.32300</td>\n",
       "      <td>618.90</td>\n",
       "    </tr>\n",
       "    <tr>\n",
       "      <th>ENSG00000239839.6</th>\n",
       "      <td>185.2000</td>\n",
       "      <td>1.7790</td>\n",
       "      <td>694.30000</td>\n",
       "      <td>23.840</td>\n",
       "      <td>297.3</td>\n",
       "      <td>3122.000</td>\n",
       "      <td>2521.00</td>\n",
       "      <td>1504.00</td>\n",
       "      <td>80.060</td>\n",
       "      <td>652.0</td>\n",
       "      <td>...</td>\n",
       "      <td>1010.000</td>\n",
       "      <td>253.8000</td>\n",
       "      <td>94.52000</td>\n",
       "      <td>6083.0</td>\n",
       "      <td>2768.0</td>\n",
       "      <td>52.06</td>\n",
       "      <td>34.5700</td>\n",
       "      <td>17.36</td>\n",
       "      <td>352.30000</td>\n",
       "      <td>63.85</td>\n",
       "    </tr>\n",
       "  </tbody>\n",
       "</table>\n",
       "<p>5 rows × 755 columns</p>\n",
       "</div>"
      ],
      "text/plain": [
       "                    GTEX-111YS-0006-SM-5NQBE  GTEX-1122O-0005-SM-5O99J  \\\n",
       "gene_ens_id                                                              \n",
       "ENSG00000169429.10                    0.5623                    0.8067   \n",
       "ENSG00000135245.9                     0.6529                    1.3850   \n",
       "ENSG00000163631.16                    1.8480                    0.2503   \n",
       "ENSG00000277632.1                     1.6960                    1.3450   \n",
       "ENSG00000239839.6                   185.2000                    1.7790   \n",
       "\n",
       "                    GTEX-1128S-0005-SM-5P9HI  GTEX-113IC-0006-SM-5NQ9C  \\\n",
       "gene_ens_id                                                              \n",
       "ENSG00000169429.10                 116.90000                     4.047   \n",
       "ENSG00000135245.9                  199.20000                     2.266   \n",
       "ENSG00000163631.16                   0.08429                     1.251   \n",
       "ENSG00000277632.1                  235.10000                    11.770   \n",
       "ENSG00000239839.6                  694.30000                    23.840   \n",
       "\n",
       "                    GTEX-113JC-0006-SM-5O997  GTEX-117XS-0005-SM-5PNU6  \\\n",
       "gene_ens_id                                                              \n",
       "ENSG00000169429.10                     211.0                    58.110   \n",
       "ENSG00000135245.9                      116.7                   192.300   \n",
       "ENSG00000163631.16                    1348.0                     9.971   \n",
       "ENSG00000277632.1                      141.7                   199.100   \n",
       "ENSG00000239839.6                      297.3                  3122.000   \n",
       "\n",
       "                    GTEX-117YW-0005-SM-5NQ8Z  GTEX-1192W-0005-SM-5NQBQ  \\\n",
       "gene_ens_id                                                              \n",
       "ENSG00000169429.10                     68.38                    249.50   \n",
       "ENSG00000135245.9                     161.50                    263.50   \n",
       "ENSG00000163631.16                    101.30                     95.09   \n",
       "ENSG00000277632.1                     525.50                    659.90   \n",
       "ENSG00000239839.6                    2521.00                   1504.00   \n",
       "\n",
       "                    GTEX-1192X-0005-SM-5NQC3  GTEX-11DXW-0006-SM-5NQ7Y  ...  \\\n",
       "gene_ens_id                                                             ...   \n",
       "ENSG00000169429.10                     5.095                     295.9  ...   \n",
       "ENSG00000135245.9                     23.540                     251.9  ...   \n",
       "ENSG00000163631.16                     1.264                     119.3  ...   \n",
       "ENSG00000277632.1                     10.910                     209.3  ...   \n",
       "ENSG00000239839.6                     80.060                     652.0  ...   \n",
       "\n",
       "                    GTEX-ZVE2-0006-SM-51MRW  GTEX-ZVP2-0005-SM-51MRK  \\\n",
       "gene_ens_id                                                            \n",
       "ENSG00000169429.10                   39.960                   0.1393   \n",
       "ENSG00000135245.9                   114.300                   1.8330   \n",
       "ENSG00000163631.16                    2.092                   2.1100   \n",
       "ENSG00000277632.1                    61.340                   2.2500   \n",
       "ENSG00000239839.6                  1010.000                 253.8000   \n",
       "\n",
       "                    GTEX-ZVT2-0005-SM-57WBW  GTEX-ZVT3-0006-SM-51MT9  \\\n",
       "gene_ens_id                                                            \n",
       "ENSG00000169429.10                  0.22380                    245.0   \n",
       "ENSG00000135245.9                   0.41150                    149.0   \n",
       "ENSG00000163631.16                  0.03588                    171.8   \n",
       "ENSG00000277632.1                   0.72310                    261.2   \n",
       "ENSG00000239839.6                  94.52000                   6083.0   \n",
       "\n",
       "                    GTEX-ZVT4-0006-SM-57WB8  GTEX-ZVTK-0006-SM-57WBK  \\\n",
       "gene_ens_id                                                            \n",
       "ENSG00000169429.10                    513.6                  1626.00   \n",
       "ENSG00000135245.9                     935.3                   233.60   \n",
       "ENSG00000163631.16                    107.1                    71.25   \n",
       "ENSG00000277632.1                     400.0                   288.50   \n",
       "ENSG00000239839.6                    2768.0                    52.06   \n",
       "\n",
       "                    GTEX-ZVZP-0006-SM-51MSW  GTEX-ZVZQ-0006-SM-51MR8  \\\n",
       "gene_ens_id                                                            \n",
       "ENSG00000169429.10                   0.5633                   515.70   \n",
       "ENSG00000135245.9                    0.8882                   134.00   \n",
       "ENSG00000163631.16                   1.7720                   309.60   \n",
       "ENSG00000277632.1                    2.6960                   287.50   \n",
       "ENSG00000239839.6                   34.5700                    17.36   \n",
       "\n",
       "                    GTEX-ZXES-0005-SM-57WCB  GTEX-ZXG5-0005-SM-57WCN  \n",
       "gene_ens_id                                                           \n",
       "ENSG00000169429.10                  1.19400                  1163.00  \n",
       "ENSG00000135245.9                   1.12000                   295.70  \n",
       "ENSG00000163631.16                  0.07361                    17.75  \n",
       "ENSG00000277632.1                   3.32300                   618.90  \n",
       "ENSG00000239839.6                 352.30000                    63.85  \n",
       "\n",
       "[5 rows x 755 columns]"
      ]
     },
     "execution_count": 12,
     "metadata": {},
     "output_type": "execute_result"
    }
   ],
   "source": [
    "test_data.head()"
   ]
  },
  {
   "cell_type": "markdown",
   "id": "5903f3f5-791e-4f03-9d79-600102933d04",
   "metadata": {
    "papermill": {
     "duration": 0.004448,
     "end_time": "2022-05-24T14:46:59.431137",
     "exception": false,
     "start_time": "2022-05-24T14:46:59.426689",
     "status": "completed"
    },
    "tags": []
   },
   "source": [
    "This is a quick performance test of the correlation measure. The following line (`_tmp = ...`) is the setup code, which is needed in case the correlation method was optimized using `numba` and needs to be compiled before performing the test."
   ]
  },
  {
   "cell_type": "code",
   "execution_count": 13,
   "id": "118a6631-1cfd-44a3-bd85-5ec7118edd03",
   "metadata": {
    "execution": {
     "iopub.execute_input": "2022-05-24T14:46:59.440477Z",
     "iopub.status.busy": "2022-05-24T14:46:59.440274Z",
     "iopub.status.idle": "2022-05-24T14:47:09.792875Z",
     "shell.execute_reply": "2022-05-24T14:47:09.792366Z"
    },
    "papermill": {
     "duration": 10.358906,
     "end_time": "2022-05-24T14:47:09.794200",
     "exception": false,
     "start_time": "2022-05-24T14:46:59.435294",
     "status": "completed"
    },
    "tags": []
   },
   "outputs": [
    {
     "data": {
      "text/plain": [
       "(3, 3)"
      ]
     },
     "metadata": {},
     "output_type": "display_data"
    },
    {
     "data": {
      "text/html": [
       "<div>\n",
       "<style scoped>\n",
       "    .dataframe tbody tr th:only-of-type {\n",
       "        vertical-align: middle;\n",
       "    }\n",
       "\n",
       "    .dataframe tbody tr th {\n",
       "        vertical-align: top;\n",
       "    }\n",
       "\n",
       "    .dataframe thead th {\n",
       "        text-align: right;\n",
       "    }\n",
       "</style>\n",
       "<table border=\"1\" class=\"dataframe\">\n",
       "  <thead>\n",
       "    <tr style=\"text-align: right;\">\n",
       "      <th>gene_ens_id</th>\n",
       "      <th>ENSG00000169429.10</th>\n",
       "      <th>ENSG00000135245.9</th>\n",
       "      <th>ENSG00000163631.16</th>\n",
       "    </tr>\n",
       "    <tr>\n",
       "      <th>gene_ens_id</th>\n",
       "      <th></th>\n",
       "      <th></th>\n",
       "      <th></th>\n",
       "    </tr>\n",
       "  </thead>\n",
       "  <tbody>\n",
       "    <tr>\n",
       "      <th>ENSG00000169429.10</th>\n",
       "      <td>1.000000</td>\n",
       "      <td>0.780181</td>\n",
       "      <td>0.401717</td>\n",
       "    </tr>\n",
       "    <tr>\n",
       "      <th>ENSG00000135245.9</th>\n",
       "      <td>0.780181</td>\n",
       "      <td>1.000000</td>\n",
       "      <td>0.429092</td>\n",
       "    </tr>\n",
       "    <tr>\n",
       "      <th>ENSG00000163631.16</th>\n",
       "      <td>0.401717</td>\n",
       "      <td>0.429092</td>\n",
       "      <td>1.000000</td>\n",
       "    </tr>\n",
       "  </tbody>\n",
       "</table>\n",
       "</div>"
      ],
      "text/plain": [
       "gene_ens_id         ENSG00000169429.10  ENSG00000135245.9  ENSG00000163631.16\n",
       "gene_ens_id                                                                  \n",
       "ENSG00000169429.10            1.000000           0.780181            0.401717\n",
       "ENSG00000135245.9             0.780181           1.000000            0.429092\n",
       "ENSG00000163631.16            0.401717           0.429092            1.000000"
      ]
     },
     "metadata": {},
     "output_type": "display_data"
    }
   ],
   "source": [
    "_tmp = CORRELATION_METHOD(test_data.iloc[:3])\n",
    "\n",
    "display(_tmp.shape)\n",
    "display(_tmp)"
   ]
  },
  {
   "cell_type": "code",
   "execution_count": 14,
   "id": "d32281d8-f640-4f87-a1d5-aefa0757e9c3",
   "metadata": {
    "execution": {
     "iopub.execute_input": "2022-05-24T14:47:09.804595Z",
     "iopub.status.busy": "2022-05-24T14:47:09.804126Z",
     "iopub.status.idle": "2022-05-24T14:58:10.905099Z",
     "shell.execute_reply": "2022-05-24T14:58:10.904584Z"
    },
    "papermill": {
     "duration": 661.111638,
     "end_time": "2022-05-24T14:58:10.910570",
     "exception": false,
     "start_time": "2022-05-24T14:47:09.798932",
     "status": "completed"
    },
    "tags": []
   },
   "outputs": [
    {
     "name": "stdout",
     "output_type": "stream",
     "text": [
      "5min 30s ± 0 ns per loop (mean ± std. dev. of 1 run, 1 loop each)\n"
     ]
    }
   ],
   "source": [
    "%timeit -r1 CORRELATION_METHOD(test_data)"
   ]
  },
  {
   "cell_type": "markdown",
   "id": "fc2f7184-c0da-438c-94f5-002912793636",
   "metadata": {
    "papermill": {
     "duration": 0.004469,
     "end_time": "2022-05-24T14:58:10.919819",
     "exception": false,
     "start_time": "2022-05-24T14:58:10.915350",
     "status": "completed"
    },
    "tags": []
   },
   "source": [
    "## Run"
   ]
  },
  {
   "cell_type": "code",
   "execution_count": 15,
   "id": "1237ae45-d4fc-4074-bfc7-a1de75aeea48",
   "metadata": {
    "execution": {
     "iopub.execute_input": "2022-05-24T14:58:10.929644Z",
     "iopub.status.busy": "2022-05-24T14:58:10.929425Z",
     "iopub.status.idle": "2022-05-25T00:13:26.901248Z",
     "shell.execute_reply": "2022-05-25T00:13:26.899275Z"
    },
    "papermill": {
     "duration": 33315.982561,
     "end_time": "2022-05-25T00:13:26.906805",
     "exception": false,
     "start_time": "2022-05-24T14:58:10.924244",
     "status": "completed"
    },
    "tags": []
   },
   "outputs": [
    {
     "data": {
      "text/plain": [
       "'gtex_v8_data_whole_blood-var_pc_log2'"
      ]
     },
     "metadata": {},
     "output_type": "display_data"
    },
    {
     "data": {
      "text/plain": [
       "33313.81599831581"
      ]
     },
     "metadata": {},
     "output_type": "display_data"
    }
   ],
   "source": [
    "pbar = tqdm(input_files, ncols=100)\n",
    "\n",
    "for tissue_data_file in pbar:\n",
    "    pbar.set_description(tissue_data_file.stem)\n",
    "\n",
    "    # read\n",
    "    data = pd.read_pickle(tissue_data_file)\n",
    "\n",
    "    # compute correlations\n",
    "    start_time = time()\n",
    "\n",
    "    data_corrs = CORRELATION_METHOD(data)\n",
    "\n",
    "    end_time = time()\n",
    "    elapsed_time = end_time - start_time\n",
    "    display(elapsed_time)\n",
    "\n",
    "    # save\n",
    "    output_filename = f\"{tissue_data_file.stem}-{method_name}.pkl\"\n",
    "    data_corrs.to_pickle(path=OUTPUT_DIR / output_filename)"
   ]
  },
  {
   "cell_type": "code",
   "execution_count": null,
   "id": "258babdf-03ce-4450-ab22-7a3d75bf6869",
   "metadata": {
    "papermill": {
     "duration": 0.028985,
     "end_time": "2022-05-25T00:13:26.941080",
     "exception": false,
     "start_time": "2022-05-25T00:13:26.912095",
     "status": "completed"
    },
    "tags": []
   },
   "outputs": [],
   "source": []
  }
 ],
 "metadata": {
  "jupytext": {
   "cell_metadata_filter": "all,-execution,-papermill,-trusted",
   "notebook_metadata_filter": "-jupytext.text_representation.jupytext_version"
  },
  "kernelspec": {
   "display_name": "Python 3 (ipykernel)",
   "language": "python",
   "name": "python3"
  },
  "language_info": {
   "codemirror_mode": {
    "name": "ipython",
    "version": 3
   },
   "file_extension": ".py",
   "mimetype": "text/x-python",
   "name": "python",
   "nbconvert_exporter": "python",
   "pygments_lexer": "ipython3",
   "version": "3.9.12"
  },
  "papermill": {
   "default_parameters": {},
   "duration": 33990.12215,
   "end_time": "2022-05-25T00:13:27.542916",
   "environment_variables": {},
   "exception": null,
   "input_path": "nbs/10_compute_correlations/05_gtex_v8/07_01-gtex-var_pc_log2-clustermatch.ipynb",
   "output_path": "nbs/10_compute_correlations/05_gtex_v8/07_01-gtex-var_pc_log2-clustermatch.run.ipynb",
   "parameters": {},
   "start_time": "2022-05-24T14:46:57.420766",
   "version": "2.3.3"
  }
 },
 "nbformat": 4,
 "nbformat_minor": 5
}
