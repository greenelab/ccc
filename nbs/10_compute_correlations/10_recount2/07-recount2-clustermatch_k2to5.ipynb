{
 "cells": [
  {
   "cell_type": "markdown",
   "id": "e9773a95-e8fd-4963-87a5-0c92299434d5",
   "metadata": {
    "papermill": {
     "duration": 0.019385,
     "end_time": "2021-12-26T07:34:08.830187",
     "exception": false,
     "start_time": "2021-12-26T07:34:08.810802",
     "status": "completed"
    },
    "tags": []
   },
   "source": [
    "# Description"
   ]
  },
  {
   "cell_type": "markdown",
   "id": "57f34c74-404d-4776-b547-e6acb2df75d7",
   "metadata": {
    "papermill": {
     "duration": 0.014878,
     "end_time": "2021-12-26T07:34:08.860152",
     "exception": false,
     "start_time": "2021-12-26T07:34:08.845274",
     "status": "completed"
    },
    "tags": []
   },
   "source": [
    "According to the settings specified below, this notebook:\n",
    " 1. reads all the data from one source (GTEx, recount2, etc) according to the gene selection method (`GENE_SELECTION_STRATEGY`),\n",
    " 2. runs a quick performance test using the correlation coefficient specified (`CORRELATION_METHOD`), and\n",
    " 3. computes the correlation matrix across all the genes using the correlation coefficient specified."
   ]
  },
  {
   "cell_type": "markdown",
   "id": "1d8fae6b-e623-46a6-aff6-d7849163c820",
   "metadata": {
    "papermill": {
     "duration": 0.0148,
     "end_time": "2021-12-26T07:34:08.889782",
     "exception": false,
     "start_time": "2021-12-26T07:34:08.874982",
     "status": "completed"
    },
    "tags": []
   },
   "source": [
    "# Modules"
   ]
  },
  {
   "cell_type": "code",
   "execution_count": 1,
   "id": "76729f0e-f742-495b-b676-d9d7b1539e10",
   "metadata": {
    "execution": {
     "iopub.execute_input": "2021-12-26T07:34:08.926743Z",
     "iopub.status.busy": "2021-12-26T07:34:08.926232Z",
     "iopub.status.idle": "2021-12-26T07:34:09.373000Z",
     "shell.execute_reply": "2021-12-26T07:34:09.372513Z"
    },
    "papermill": {
     "duration": 0.468226,
     "end_time": "2021-12-26T07:34:09.373112",
     "exception": false,
     "start_time": "2021-12-26T07:34:08.904886",
     "status": "completed"
    },
    "tags": []
   },
   "outputs": [],
   "source": [
    "import pandas as pd\n",
    "\n",
    "from clustermatch import conf\n",
    "from clustermatch.corr import clustermatch"
   ]
  },
  {
   "cell_type": "markdown",
   "id": "a6c3a546-9a49-45e7-9f17-fbdb5af4bfb6",
   "metadata": {
    "papermill": {
     "duration": 0.015069,
     "end_time": "2021-12-26T07:34:09.404147",
     "exception": false,
     "start_time": "2021-12-26T07:34:09.389078",
     "status": "completed"
    },
    "tags": []
   },
   "source": [
    "# Settings"
   ]
  },
  {
   "cell_type": "code",
   "execution_count": 2,
   "id": "56ff94d3-a230-4028-a71d-518ac109209b",
   "metadata": {
    "execution": {
     "iopub.execute_input": "2021-12-26T07:34:09.437867Z",
     "iopub.status.busy": "2021-12-26T07:34:09.437421Z",
     "iopub.status.idle": "2021-12-26T07:34:09.439342Z",
     "shell.execute_reply": "2021-12-26T07:34:09.439678Z"
    },
    "lines_to_next_cell": 1,
    "papermill": {
     "duration": 0.02059,
     "end_time": "2021-12-26T07:34:09.439792",
     "exception": false,
     "start_time": "2021-12-26T07:34:09.419202",
     "status": "completed"
    },
    "tags": []
   },
   "outputs": [],
   "source": [
    "GENE_SELECTION_STRATEGY = \"var_pc_log2\""
   ]
  },
  {
   "cell_type": "code",
   "execution_count": 3,
   "id": "8baf4209-ba56-4e3d-b60f-6ce2bb686159",
   "metadata": {
    "execution": {
     "iopub.execute_input": "2021-12-26T07:34:09.478676Z",
     "iopub.status.busy": "2021-12-26T07:34:09.478230Z",
     "iopub.status.idle": "2021-12-26T07:34:09.481665Z",
     "shell.execute_reply": "2021-12-26T07:34:09.482011Z"
    },
    "papermill": {
     "duration": 0.02646,
     "end_time": "2021-12-26T07:34:09.482129",
     "exception": false,
     "start_time": "2021-12-26T07:34:09.455669",
     "status": "completed"
    },
    "tags": []
   },
   "outputs": [
    {
     "data": {
      "text/plain": [
       "'clustermatch_k2to5'"
      ]
     },
     "metadata": {},
     "output_type": "display_data"
    }
   ],
   "source": [
    "def clustermatch_k2to5(data):\n",
    "    # in recount2 we have ~37k samples per gene. For clustermatch, we need to\n",
    "    # reduce the number of internal clusters generated, and here instead of the default 2 to 10,\n",
    "    # we do 2 to 5\n",
    "    n_clusters = list(range(2, 5 + 1))\n",
    "    return clustermatch(data, internal_n_clusters=n_clusters)\n",
    "\n",
    "\n",
    "CORRELATION_METHOD = clustermatch_k2to5\n",
    "\n",
    "method_name = CORRELATION_METHOD.__name__\n",
    "display(method_name)"
   ]
  },
  {
   "cell_type": "code",
   "execution_count": 4,
   "id": "21a3e349-9a09-4d24-89e3-915fdbf08a81",
   "metadata": {
    "execution": {
     "iopub.execute_input": "2021-12-26T07:34:09.519524Z",
     "iopub.status.busy": "2021-12-26T07:34:09.519093Z",
     "iopub.status.idle": "2021-12-26T07:34:09.520816Z",
     "shell.execute_reply": "2021-12-26T07:34:09.521174Z"
    },
    "papermill": {
     "duration": 0.021667,
     "end_time": "2021-12-26T07:34:09.521286",
     "exception": false,
     "start_time": "2021-12-26T07:34:09.499619",
     "status": "completed"
    },
    "tags": []
   },
   "outputs": [],
   "source": [
    "PERFORMANCE_TEST_N_TOP_GENES = 50"
   ]
  },
  {
   "cell_type": "markdown",
   "id": "b0afcba9-5847-414e-b448-f0cd08ecd8ce",
   "metadata": {
    "papermill": {
     "duration": 0.015864,
     "end_time": "2021-12-26T07:34:09.553693",
     "exception": false,
     "start_time": "2021-12-26T07:34:09.537829",
     "status": "completed"
    },
    "tags": []
   },
   "source": [
    "# Paths"
   ]
  },
  {
   "cell_type": "code",
   "execution_count": 5,
   "id": "35760114-8560-4a0e-ad4f-2bee9104c63d",
   "metadata": {
    "execution": {
     "iopub.execute_input": "2021-12-26T07:34:09.590785Z",
     "iopub.status.busy": "2021-12-26T07:34:09.590239Z",
     "iopub.status.idle": "2021-12-26T07:34:09.593173Z",
     "shell.execute_reply": "2021-12-26T07:34:09.592735Z"
    },
    "papermill": {
     "duration": 0.023051,
     "end_time": "2021-12-26T07:34:09.593266",
     "exception": false,
     "start_time": "2021-12-26T07:34:09.570215",
     "status": "completed"
    },
    "tags": []
   },
   "outputs": [
    {
     "data": {
      "text/plain": [
       "PosixPath('/opt/data/results/recount2full/gene_selection/recount2_rpkm-var_pc_log2.pkl')"
      ]
     },
     "metadata": {},
     "output_type": "display_data"
    }
   ],
   "source": [
    "INPUT_FILE = (\n",
    "    conf.RECOUNT2FULL[\"GENE_SELECTION_DIR\"]\n",
    "    / f\"recount2_rpkm-{GENE_SELECTION_STRATEGY}.pkl\"\n",
    ")\n",
    "display(INPUT_FILE)\n",
    "\n",
    "assert INPUT_FILE.exists()"
   ]
  },
  {
   "cell_type": "code",
   "execution_count": 6,
   "id": "f1418e81-4e77-4f67-b5ed-b29b797e31a0",
   "metadata": {
    "execution": {
     "iopub.execute_input": "2021-12-26T07:34:09.630358Z",
     "iopub.status.busy": "2021-12-26T07:34:09.629469Z",
     "iopub.status.idle": "2021-12-26T07:34:09.633043Z",
     "shell.execute_reply": "2021-12-26T07:34:09.632585Z"
    },
    "papermill": {
     "duration": 0.022904,
     "end_time": "2021-12-26T07:34:09.633140",
     "exception": false,
     "start_time": "2021-12-26T07:34:09.610236",
     "status": "completed"
    },
    "tags": []
   },
   "outputs": [
    {
     "data": {
      "text/plain": [
       "PosixPath('/opt/data/results/recount2full/similarity_matrices')"
      ]
     },
     "metadata": {},
     "output_type": "display_data"
    }
   ],
   "source": [
    "OUTPUT_DIR = conf.RECOUNT2FULL[\"SIMILARITY_MATRICES_DIR\"]\n",
    "OUTPUT_DIR.mkdir(parents=True, exist_ok=True)\n",
    "display(OUTPUT_DIR)"
   ]
  },
  {
   "cell_type": "markdown",
   "id": "5fdf8df6-eba0-4cf5-979c-3acd56a5ef3c",
   "metadata": {
    "papermill": {
     "duration": 0.017242,
     "end_time": "2021-12-26T07:34:09.668040",
     "exception": false,
     "start_time": "2021-12-26T07:34:09.650798",
     "status": "completed"
    },
    "tags": []
   },
   "source": [
    "# Data loading"
   ]
  },
  {
   "cell_type": "code",
   "execution_count": 7,
   "id": "596d25ed-4120-4bef-8984-a91ae6529ab5",
   "metadata": {
    "execution": {
     "iopub.execute_input": "2021-12-26T07:34:09.705297Z",
     "iopub.status.busy": "2021-12-26T07:34:09.704834Z",
     "iopub.status.idle": "2021-12-26T07:34:10.333995Z",
     "shell.execute_reply": "2021-12-26T07:34:10.333463Z"
    },
    "papermill": {
     "duration": 0.649206,
     "end_time": "2021-12-26T07:34:10.334106",
     "exception": false,
     "start_time": "2021-12-26T07:34:09.684900",
     "status": "completed"
    },
    "tags": []
   },
   "outputs": [],
   "source": [
    "data = pd.read_pickle(INPUT_FILE)"
   ]
  },
  {
   "cell_type": "code",
   "execution_count": 8,
   "id": "be8a23da-ea99-43a9-b684-fa645c1d1adc",
   "metadata": {
    "execution": {
     "iopub.execute_input": "2021-12-26T07:34:10.374467Z",
     "iopub.status.busy": "2021-12-26T07:34:10.373942Z",
     "iopub.status.idle": "2021-12-26T07:34:10.376397Z",
     "shell.execute_reply": "2021-12-26T07:34:10.376758Z"
    },
    "papermill": {
     "duration": 0.023596,
     "end_time": "2021-12-26T07:34:10.376873",
     "exception": false,
     "start_time": "2021-12-26T07:34:10.353277",
     "status": "completed"
    },
    "tags": []
   },
   "outputs": [
    {
     "data": {
      "text/plain": [
       "(5000, 37032)"
      ]
     },
     "execution_count": 8,
     "metadata": {},
     "output_type": "execute_result"
    }
   ],
   "source": [
    "data.shape"
   ]
  },
  {
   "cell_type": "code",
   "execution_count": 9,
   "id": "cd693523-4379-400a-a2d2-6b3f617421e6",
   "metadata": {
    "execution": {
     "iopub.execute_input": "2021-12-26T07:34:10.420053Z",
     "iopub.status.busy": "2021-12-26T07:34:10.419537Z",
     "iopub.status.idle": "2021-12-26T07:34:10.438185Z",
     "shell.execute_reply": "2021-12-26T07:34:10.437747Z"
    },
    "papermill": {
     "duration": 0.043738,
     "end_time": "2021-12-26T07:34:10.438278",
     "exception": false,
     "start_time": "2021-12-26T07:34:10.394540",
     "status": "completed"
    },
    "tags": []
   },
   "outputs": [
    {
     "data": {
      "text/html": [
       "<div>\n",
       "<style scoped>\n",
       "    .dataframe tbody tr th:only-of-type {\n",
       "        vertical-align: middle;\n",
       "    }\n",
       "\n",
       "    .dataframe tbody tr th {\n",
       "        vertical-align: top;\n",
       "    }\n",
       "\n",
       "    .dataframe thead th {\n",
       "        text-align: right;\n",
       "    }\n",
       "</style>\n",
       "<table border=\"1\" class=\"dataframe\">\n",
       "  <thead>\n",
       "    <tr style=\"text-align: right;\">\n",
       "      <th></th>\n",
       "      <th>SRP000599.SRR013549</th>\n",
       "      <th>SRP000599.SRR013550</th>\n",
       "      <th>SRP000599.SRR013551</th>\n",
       "      <th>SRP000599.SRR013552</th>\n",
       "      <th>SRP000599.SRR013553</th>\n",
       "      <th>SRP000599.SRR013554</th>\n",
       "      <th>SRP000599.SRR013555</th>\n",
       "      <th>SRP000599.SRR013556</th>\n",
       "      <th>SRP000599.SRR013557</th>\n",
       "      <th>SRP000599.SRR013558</th>\n",
       "      <th>...</th>\n",
       "      <th>SRP035599.SRR1139372</th>\n",
       "      <th>SRP035599.SRR1139393</th>\n",
       "      <th>SRP035599.SRR1139388</th>\n",
       "      <th>SRP035599.SRR1139378</th>\n",
       "      <th>SRP035599.SRR1139399</th>\n",
       "      <th>SRP035599.SRR1139386</th>\n",
       "      <th>SRP035599.SRR1139375</th>\n",
       "      <th>SRP035599.SRR1139382</th>\n",
       "      <th>SRP035599.SRR1139356</th>\n",
       "      <th>SRP035599.SRR1139370</th>\n",
       "    </tr>\n",
       "  </thead>\n",
       "  <tbody>\n",
       "    <tr>\n",
       "      <th>ENSG00000283293</th>\n",
       "      <td>45.340502</td>\n",
       "      <td>2.334996</td>\n",
       "      <td>822.911013</td>\n",
       "      <td>0.000000</td>\n",
       "      <td>0.000000</td>\n",
       "      <td>59.262734</td>\n",
       "      <td>89.232042</td>\n",
       "      <td>52.689774</td>\n",
       "      <td>84.642278</td>\n",
       "      <td>76.550334</td>\n",
       "      <td>...</td>\n",
       "      <td>107.729307</td>\n",
       "      <td>212.671129</td>\n",
       "      <td>40.966736</td>\n",
       "      <td>90.314617</td>\n",
       "      <td>341.722891</td>\n",
       "      <td>182.996937</td>\n",
       "      <td>399.501963</td>\n",
       "      <td>223.983651</td>\n",
       "      <td>150.315163</td>\n",
       "      <td>46.134643</td>\n",
       "    </tr>\n",
       "    <tr>\n",
       "      <th>ENSG00000202198</th>\n",
       "      <td>45.141293</td>\n",
       "      <td>2.313833</td>\n",
       "      <td>816.267243</td>\n",
       "      <td>0.000000</td>\n",
       "      <td>0.000000</td>\n",
       "      <td>59.119741</td>\n",
       "      <td>88.423293</td>\n",
       "      <td>52.212223</td>\n",
       "      <td>84.268908</td>\n",
       "      <td>76.021789</td>\n",
       "      <td>...</td>\n",
       "      <td>106.752908</td>\n",
       "      <td>210.743596</td>\n",
       "      <td>40.595436</td>\n",
       "      <td>89.496055</td>\n",
       "      <td>338.625704</td>\n",
       "      <td>181.339452</td>\n",
       "      <td>395.881099</td>\n",
       "      <td>221.954266</td>\n",
       "      <td>148.952790</td>\n",
       "      <td>45.716504</td>\n",
       "    </tr>\n",
       "    <tr>\n",
       "      <th>ENSG00000277027</th>\n",
       "      <td>2892.902222</td>\n",
       "      <td>64.923624</td>\n",
       "      <td>2325.178875</td>\n",
       "      <td>2040.439754</td>\n",
       "      <td>737.335980</td>\n",
       "      <td>750.130979</td>\n",
       "      <td>897.111915</td>\n",
       "      <td>872.432824</td>\n",
       "      <td>828.456318</td>\n",
       "      <td>775.575618</td>\n",
       "      <td>...</td>\n",
       "      <td>14.262494</td>\n",
       "      <td>100.647909</td>\n",
       "      <td>7.627791</td>\n",
       "      <td>10.965602</td>\n",
       "      <td>130.146293</td>\n",
       "      <td>25.545523</td>\n",
       "      <td>105.272058</td>\n",
       "      <td>71.787249</td>\n",
       "      <td>45.647575</td>\n",
       "      <td>10.079155</td>\n",
       "    </tr>\n",
       "    <tr>\n",
       "      <th>ENSG00000269900</th>\n",
       "      <td>2929.378999</td>\n",
       "      <td>65.629851</td>\n",
       "      <td>2316.634319</td>\n",
       "      <td>2063.037408</td>\n",
       "      <td>758.072935</td>\n",
       "      <td>759.542097</td>\n",
       "      <td>908.185083</td>\n",
       "      <td>884.121024</td>\n",
       "      <td>839.435983</td>\n",
       "      <td>783.798951</td>\n",
       "      <td>...</td>\n",
       "      <td>14.049621</td>\n",
       "      <td>99.146533</td>\n",
       "      <td>7.515042</td>\n",
       "      <td>10.801936</td>\n",
       "      <td>128.203811</td>\n",
       "      <td>25.164247</td>\n",
       "      <td>103.700833</td>\n",
       "      <td>70.717475</td>\n",
       "      <td>44.967907</td>\n",
       "      <td>9.928720</td>\n",
       "    </tr>\n",
       "    <tr>\n",
       "      <th>ENSG00000274012</th>\n",
       "      <td>4.345167</td>\n",
       "      <td>4.489634</td>\n",
       "      <td>2414.223064</td>\n",
       "      <td>229.321454</td>\n",
       "      <td>251.869422</td>\n",
       "      <td>118.716381</td>\n",
       "      <td>991.603565</td>\n",
       "      <td>841.500002</td>\n",
       "      <td>923.032654</td>\n",
       "      <td>919.186612</td>\n",
       "      <td>...</td>\n",
       "      <td>4189.905669</td>\n",
       "      <td>813.318752</td>\n",
       "      <td>237.672987</td>\n",
       "      <td>3093.486852</td>\n",
       "      <td>1069.247832</td>\n",
       "      <td>3972.654129</td>\n",
       "      <td>1120.269285</td>\n",
       "      <td>1177.947546</td>\n",
       "      <td>784.626799</td>\n",
       "      <td>1120.676727</td>\n",
       "    </tr>\n",
       "  </tbody>\n",
       "</table>\n",
       "<p>5 rows × 37032 columns</p>\n",
       "</div>"
      ],
      "text/plain": [
       "                 SRP000599.SRR013549  SRP000599.SRR013550  \\\n",
       "ENSG00000283293            45.340502             2.334996   \n",
       "ENSG00000202198            45.141293             2.313833   \n",
       "ENSG00000277027          2892.902222            64.923624   \n",
       "ENSG00000269900          2929.378999            65.629851   \n",
       "ENSG00000274012             4.345167             4.489634   \n",
       "\n",
       "                 SRP000599.SRR013551  SRP000599.SRR013552  \\\n",
       "ENSG00000283293           822.911013             0.000000   \n",
       "ENSG00000202198           816.267243             0.000000   \n",
       "ENSG00000277027          2325.178875          2040.439754   \n",
       "ENSG00000269900          2316.634319          2063.037408   \n",
       "ENSG00000274012          2414.223064           229.321454   \n",
       "\n",
       "                 SRP000599.SRR013553  SRP000599.SRR013554  \\\n",
       "ENSG00000283293             0.000000            59.262734   \n",
       "ENSG00000202198             0.000000            59.119741   \n",
       "ENSG00000277027           737.335980           750.130979   \n",
       "ENSG00000269900           758.072935           759.542097   \n",
       "ENSG00000274012           251.869422           118.716381   \n",
       "\n",
       "                 SRP000599.SRR013555  SRP000599.SRR013556  \\\n",
       "ENSG00000283293            89.232042            52.689774   \n",
       "ENSG00000202198            88.423293            52.212223   \n",
       "ENSG00000277027           897.111915           872.432824   \n",
       "ENSG00000269900           908.185083           884.121024   \n",
       "ENSG00000274012           991.603565           841.500002   \n",
       "\n",
       "                 SRP000599.SRR013557  SRP000599.SRR013558  ...  \\\n",
       "ENSG00000283293            84.642278            76.550334  ...   \n",
       "ENSG00000202198            84.268908            76.021789  ...   \n",
       "ENSG00000277027           828.456318           775.575618  ...   \n",
       "ENSG00000269900           839.435983           783.798951  ...   \n",
       "ENSG00000274012           923.032654           919.186612  ...   \n",
       "\n",
       "                 SRP035599.SRR1139372  SRP035599.SRR1139393  \\\n",
       "ENSG00000283293            107.729307            212.671129   \n",
       "ENSG00000202198            106.752908            210.743596   \n",
       "ENSG00000277027             14.262494            100.647909   \n",
       "ENSG00000269900             14.049621             99.146533   \n",
       "ENSG00000274012           4189.905669            813.318752   \n",
       "\n",
       "                 SRP035599.SRR1139388  SRP035599.SRR1139378  \\\n",
       "ENSG00000283293             40.966736             90.314617   \n",
       "ENSG00000202198             40.595436             89.496055   \n",
       "ENSG00000277027              7.627791             10.965602   \n",
       "ENSG00000269900              7.515042             10.801936   \n",
       "ENSG00000274012            237.672987           3093.486852   \n",
       "\n",
       "                 SRP035599.SRR1139399  SRP035599.SRR1139386  \\\n",
       "ENSG00000283293            341.722891            182.996937   \n",
       "ENSG00000202198            338.625704            181.339452   \n",
       "ENSG00000277027            130.146293             25.545523   \n",
       "ENSG00000269900            128.203811             25.164247   \n",
       "ENSG00000274012           1069.247832           3972.654129   \n",
       "\n",
       "                 SRP035599.SRR1139375  SRP035599.SRR1139382  \\\n",
       "ENSG00000283293            399.501963            223.983651   \n",
       "ENSG00000202198            395.881099            221.954266   \n",
       "ENSG00000277027            105.272058             71.787249   \n",
       "ENSG00000269900            103.700833             70.717475   \n",
       "ENSG00000274012           1120.269285           1177.947546   \n",
       "\n",
       "                 SRP035599.SRR1139356  SRP035599.SRR1139370  \n",
       "ENSG00000283293            150.315163             46.134643  \n",
       "ENSG00000202198            148.952790             45.716504  \n",
       "ENSG00000277027             45.647575             10.079155  \n",
       "ENSG00000269900             44.967907              9.928720  \n",
       "ENSG00000274012            784.626799           1120.676727  \n",
       "\n",
       "[5 rows x 37032 columns]"
      ]
     },
     "execution_count": 9,
     "metadata": {},
     "output_type": "execute_result"
    }
   ],
   "source": [
    "data.head()"
   ]
  },
  {
   "cell_type": "markdown",
   "id": "081da632-fd12-462a-9ae1-c0ceccf1bb5d",
   "metadata": {
    "papermill": {
     "duration": 0.017805,
     "end_time": "2021-12-26T07:34:10.474164",
     "exception": false,
     "start_time": "2021-12-26T07:34:10.456359",
     "status": "completed"
    },
    "tags": []
   },
   "source": [
    "# Compute similarity"
   ]
  },
  {
   "cell_type": "markdown",
   "id": "37137fff-2d3a-43d8-9bd5-d7c3284a97f5",
   "metadata": {
    "papermill": {
     "duration": 0.01755,
     "end_time": "2021-12-26T07:34:10.509396",
     "exception": false,
     "start_time": "2021-12-26T07:34:10.491846",
     "status": "completed"
    },
    "tags": []
   },
   "source": [
    "## Performance test"
   ]
  },
  {
   "cell_type": "code",
   "execution_count": 10,
   "id": "5dd40707-759f-4bf9-b8cc-84811b2dfe53",
   "metadata": {
    "execution": {
     "iopub.execute_input": "2021-12-26T07:34:10.568510Z",
     "iopub.status.busy": "2021-12-26T07:34:10.567921Z",
     "iopub.status.idle": "2021-12-26T07:34:10.570111Z",
     "shell.execute_reply": "2021-12-26T07:34:10.569538Z"
    },
    "papermill": {
     "duration": 0.04329,
     "end_time": "2021-12-26T07:34:10.570233",
     "exception": false,
     "start_time": "2021-12-26T07:34:10.526943",
     "status": "completed"
    },
    "tags": []
   },
   "outputs": [],
   "source": [
    "# select a subset of the genes\n",
    "test_data = data.sample(n=PERFORMANCE_TEST_N_TOP_GENES, random_state=0)"
   ]
  },
  {
   "cell_type": "code",
   "execution_count": 11,
   "id": "e8acd036-93f7-46c0-a1ee-8da0c2c24790",
   "metadata": {
    "execution": {
     "iopub.execute_input": "2021-12-26T07:34:10.619652Z",
     "iopub.status.busy": "2021-12-26T07:34:10.619148Z",
     "iopub.status.idle": "2021-12-26T07:34:10.621754Z",
     "shell.execute_reply": "2021-12-26T07:34:10.621336Z"
    },
    "papermill": {
     "duration": 0.027774,
     "end_time": "2021-12-26T07:34:10.621859",
     "exception": false,
     "start_time": "2021-12-26T07:34:10.594085",
     "status": "completed"
    },
    "tags": []
   },
   "outputs": [
    {
     "data": {
      "text/plain": [
       "(50, 37032)"
      ]
     },
     "execution_count": 11,
     "metadata": {},
     "output_type": "execute_result"
    }
   ],
   "source": [
    "test_data.shape"
   ]
  },
  {
   "cell_type": "code",
   "execution_count": 12,
   "id": "111e360b-dbe4-4b69-9029-7b7669eb5ddc",
   "metadata": {
    "execution": {
     "iopub.execute_input": "2021-12-26T07:34:10.666754Z",
     "iopub.status.busy": "2021-12-26T07:34:10.666303Z",
     "iopub.status.idle": "2021-12-26T07:34:10.682717Z",
     "shell.execute_reply": "2021-12-26T07:34:10.682286Z"
    },
    "papermill": {
     "duration": 0.039869,
     "end_time": "2021-12-26T07:34:10.682809",
     "exception": false,
     "start_time": "2021-12-26T07:34:10.642940",
     "status": "completed"
    },
    "tags": []
   },
   "outputs": [
    {
     "data": {
      "text/html": [
       "<div>\n",
       "<style scoped>\n",
       "    .dataframe tbody tr th:only-of-type {\n",
       "        vertical-align: middle;\n",
       "    }\n",
       "\n",
       "    .dataframe tbody tr th {\n",
       "        vertical-align: top;\n",
       "    }\n",
       "\n",
       "    .dataframe thead th {\n",
       "        text-align: right;\n",
       "    }\n",
       "</style>\n",
       "<table border=\"1\" class=\"dataframe\">\n",
       "  <thead>\n",
       "    <tr style=\"text-align: right;\">\n",
       "      <th></th>\n",
       "      <th>SRP000599.SRR013549</th>\n",
       "      <th>SRP000599.SRR013550</th>\n",
       "      <th>SRP000599.SRR013551</th>\n",
       "      <th>SRP000599.SRR013552</th>\n",
       "      <th>SRP000599.SRR013553</th>\n",
       "      <th>SRP000599.SRR013554</th>\n",
       "      <th>SRP000599.SRR013555</th>\n",
       "      <th>SRP000599.SRR013556</th>\n",
       "      <th>SRP000599.SRR013557</th>\n",
       "      <th>SRP000599.SRR013558</th>\n",
       "      <th>...</th>\n",
       "      <th>SRP035599.SRR1139372</th>\n",
       "      <th>SRP035599.SRR1139393</th>\n",
       "      <th>SRP035599.SRR1139388</th>\n",
       "      <th>SRP035599.SRR1139378</th>\n",
       "      <th>SRP035599.SRR1139399</th>\n",
       "      <th>SRP035599.SRR1139386</th>\n",
       "      <th>SRP035599.SRR1139375</th>\n",
       "      <th>SRP035599.SRR1139382</th>\n",
       "      <th>SRP035599.SRR1139356</th>\n",
       "      <th>SRP035599.SRR1139370</th>\n",
       "    </tr>\n",
       "  </thead>\n",
       "  <tbody>\n",
       "    <tr>\n",
       "      <th>ENSG00000264281</th>\n",
       "      <td>0.000000</td>\n",
       "      <td>0.000000</td>\n",
       "      <td>0.000000</td>\n",
       "      <td>0.000000</td>\n",
       "      <td>0.000000</td>\n",
       "      <td>0.000000</td>\n",
       "      <td>0.000000</td>\n",
       "      <td>0.000000</td>\n",
       "      <td>0.000000</td>\n",
       "      <td>0.000000</td>\n",
       "      <td>...</td>\n",
       "      <td>895.257951</td>\n",
       "      <td>1178.463237</td>\n",
       "      <td>1545.326624</td>\n",
       "      <td>944.996223</td>\n",
       "      <td>1438.281708</td>\n",
       "      <td>1080.115776</td>\n",
       "      <td>1715.689533</td>\n",
       "      <td>1559.217986</td>\n",
       "      <td>1132.025119</td>\n",
       "      <td>1879.164263</td>\n",
       "    </tr>\n",
       "    <tr>\n",
       "      <th>ENSG00000110104</th>\n",
       "      <td>0.000000</td>\n",
       "      <td>0.568504</td>\n",
       "      <td>0.000000</td>\n",
       "      <td>0.000000</td>\n",
       "      <td>0.000000</td>\n",
       "      <td>0.000000</td>\n",
       "      <td>0.000000</td>\n",
       "      <td>0.000000</td>\n",
       "      <td>0.000000</td>\n",
       "      <td>0.000000</td>\n",
       "      <td>...</td>\n",
       "      <td>24.224516</td>\n",
       "      <td>29.376698</td>\n",
       "      <td>32.230910</td>\n",
       "      <td>32.778868</td>\n",
       "      <td>33.383575</td>\n",
       "      <td>19.411770</td>\n",
       "      <td>32.288124</td>\n",
       "      <td>39.917430</td>\n",
       "      <td>30.828314</td>\n",
       "      <td>40.215054</td>\n",
       "    </tr>\n",
       "    <tr>\n",
       "      <th>ENSG00000160883</th>\n",
       "      <td>0.000000</td>\n",
       "      <td>0.000000</td>\n",
       "      <td>0.000000</td>\n",
       "      <td>0.000000</td>\n",
       "      <td>0.000000</td>\n",
       "      <td>0.000000</td>\n",
       "      <td>0.000000</td>\n",
       "      <td>0.000000</td>\n",
       "      <td>0.000000</td>\n",
       "      <td>0.000000</td>\n",
       "      <td>...</td>\n",
       "      <td>0.123248</td>\n",
       "      <td>0.013679</td>\n",
       "      <td>0.018089</td>\n",
       "      <td>0.025117</td>\n",
       "      <td>0.029487</td>\n",
       "      <td>0.000000</td>\n",
       "      <td>0.000000</td>\n",
       "      <td>1.501656</td>\n",
       "      <td>0.000000</td>\n",
       "      <td>0.117545</td>\n",
       "    </tr>\n",
       "    <tr>\n",
       "      <th>ENSG00000080822</th>\n",
       "      <td>0.000000</td>\n",
       "      <td>0.000000</td>\n",
       "      <td>0.000000</td>\n",
       "      <td>0.879132</td>\n",
       "      <td>2.014272</td>\n",
       "      <td>0.183379</td>\n",
       "      <td>0.000000</td>\n",
       "      <td>2.229092</td>\n",
       "      <td>0.000000</td>\n",
       "      <td>0.241166</td>\n",
       "      <td>...</td>\n",
       "      <td>20.742053</td>\n",
       "      <td>21.185725</td>\n",
       "      <td>18.188702</td>\n",
       "      <td>20.825416</td>\n",
       "      <td>15.496153</td>\n",
       "      <td>22.311505</td>\n",
       "      <td>17.215879</td>\n",
       "      <td>22.453095</td>\n",
       "      <td>19.407953</td>\n",
       "      <td>8.222836</td>\n",
       "    </tr>\n",
       "    <tr>\n",
       "      <th>ENSG00000199990</th>\n",
       "      <td>8961.747789</td>\n",
       "      <td>35.746340</td>\n",
       "      <td>422.171726</td>\n",
       "      <td>13326.124486</td>\n",
       "      <td>0.000000</td>\n",
       "      <td>170.868658</td>\n",
       "      <td>188.025434</td>\n",
       "      <td>218.618043</td>\n",
       "      <td>147.456667</td>\n",
       "      <td>98.354233</td>\n",
       "      <td>...</td>\n",
       "      <td>0.000000</td>\n",
       "      <td>0.369069</td>\n",
       "      <td>0.544603</td>\n",
       "      <td>0.724930</td>\n",
       "      <td>0.000000</td>\n",
       "      <td>0.000000</td>\n",
       "      <td>0.000000</td>\n",
       "      <td>0.127091</td>\n",
       "      <td>0.000000</td>\n",
       "      <td>0.752035</td>\n",
       "    </tr>\n",
       "  </tbody>\n",
       "</table>\n",
       "<p>5 rows × 37032 columns</p>\n",
       "</div>"
      ],
      "text/plain": [
       "                 SRP000599.SRR013549  SRP000599.SRR013550  \\\n",
       "ENSG00000264281             0.000000             0.000000   \n",
       "ENSG00000110104             0.000000             0.568504   \n",
       "ENSG00000160883             0.000000             0.000000   \n",
       "ENSG00000080822             0.000000             0.000000   \n",
       "ENSG00000199990          8961.747789            35.746340   \n",
       "\n",
       "                 SRP000599.SRR013551  SRP000599.SRR013552  \\\n",
       "ENSG00000264281             0.000000             0.000000   \n",
       "ENSG00000110104             0.000000             0.000000   \n",
       "ENSG00000160883             0.000000             0.000000   \n",
       "ENSG00000080822             0.000000             0.879132   \n",
       "ENSG00000199990           422.171726         13326.124486   \n",
       "\n",
       "                 SRP000599.SRR013553  SRP000599.SRR013554  \\\n",
       "ENSG00000264281             0.000000             0.000000   \n",
       "ENSG00000110104             0.000000             0.000000   \n",
       "ENSG00000160883             0.000000             0.000000   \n",
       "ENSG00000080822             2.014272             0.183379   \n",
       "ENSG00000199990             0.000000           170.868658   \n",
       "\n",
       "                 SRP000599.SRR013555  SRP000599.SRR013556  \\\n",
       "ENSG00000264281             0.000000             0.000000   \n",
       "ENSG00000110104             0.000000             0.000000   \n",
       "ENSG00000160883             0.000000             0.000000   \n",
       "ENSG00000080822             0.000000             2.229092   \n",
       "ENSG00000199990           188.025434           218.618043   \n",
       "\n",
       "                 SRP000599.SRR013557  SRP000599.SRR013558  ...  \\\n",
       "ENSG00000264281             0.000000             0.000000  ...   \n",
       "ENSG00000110104             0.000000             0.000000  ...   \n",
       "ENSG00000160883             0.000000             0.000000  ...   \n",
       "ENSG00000080822             0.000000             0.241166  ...   \n",
       "ENSG00000199990           147.456667            98.354233  ...   \n",
       "\n",
       "                 SRP035599.SRR1139372  SRP035599.SRR1139393  \\\n",
       "ENSG00000264281            895.257951           1178.463237   \n",
       "ENSG00000110104             24.224516             29.376698   \n",
       "ENSG00000160883              0.123248              0.013679   \n",
       "ENSG00000080822             20.742053             21.185725   \n",
       "ENSG00000199990              0.000000              0.369069   \n",
       "\n",
       "                 SRP035599.SRR1139388  SRP035599.SRR1139378  \\\n",
       "ENSG00000264281           1545.326624            944.996223   \n",
       "ENSG00000110104             32.230910             32.778868   \n",
       "ENSG00000160883              0.018089              0.025117   \n",
       "ENSG00000080822             18.188702             20.825416   \n",
       "ENSG00000199990              0.544603              0.724930   \n",
       "\n",
       "                 SRP035599.SRR1139399  SRP035599.SRR1139386  \\\n",
       "ENSG00000264281           1438.281708           1080.115776   \n",
       "ENSG00000110104             33.383575             19.411770   \n",
       "ENSG00000160883              0.029487              0.000000   \n",
       "ENSG00000080822             15.496153             22.311505   \n",
       "ENSG00000199990              0.000000              0.000000   \n",
       "\n",
       "                 SRP035599.SRR1139375  SRP035599.SRR1139382  \\\n",
       "ENSG00000264281           1715.689533           1559.217986   \n",
       "ENSG00000110104             32.288124             39.917430   \n",
       "ENSG00000160883              0.000000              1.501656   \n",
       "ENSG00000080822             17.215879             22.453095   \n",
       "ENSG00000199990              0.000000              0.127091   \n",
       "\n",
       "                 SRP035599.SRR1139356  SRP035599.SRR1139370  \n",
       "ENSG00000264281           1132.025119           1879.164263  \n",
       "ENSG00000110104             30.828314             40.215054  \n",
       "ENSG00000160883              0.000000              0.117545  \n",
       "ENSG00000080822             19.407953              8.222836  \n",
       "ENSG00000199990              0.000000              0.752035  \n",
       "\n",
       "[5 rows x 37032 columns]"
      ]
     },
     "execution_count": 12,
     "metadata": {},
     "output_type": "execute_result"
    }
   ],
   "source": [
    "test_data.head()"
   ]
  },
  {
   "cell_type": "markdown",
   "id": "5903f3f5-791e-4f03-9d79-600102933d04",
   "metadata": {
    "papermill": {
     "duration": 0.018761,
     "end_time": "2021-12-26T07:34:10.721000",
     "exception": false,
     "start_time": "2021-12-26T07:34:10.702239",
     "status": "completed"
    },
    "tags": []
   },
   "source": [
    "This is a quick performance test of the correlation measure. The following line (`_tmp = ...`) is the setup code, which is needed in case the correlation method was optimized using `numba` and needs to be compiled before performing the test."
   ]
  },
  {
   "cell_type": "code",
   "execution_count": 13,
   "id": "118a6631-1cfd-44a3-bd85-5ec7118edd03",
   "metadata": {
    "execution": {
     "iopub.execute_input": "2021-12-26T07:34:10.766771Z",
     "iopub.status.busy": "2021-12-26T07:34:10.766308Z",
     "iopub.status.idle": "2021-12-26T07:34:11.418805Z",
     "shell.execute_reply": "2021-12-26T07:34:11.418406Z"
    },
    "papermill": {
     "duration": 0.675287,
     "end_time": "2021-12-26T07:34:11.418904",
     "exception": false,
     "start_time": "2021-12-26T07:34:10.743617",
     "status": "completed"
    },
    "tags": []
   },
   "outputs": [
    {
     "data": {
      "text/plain": [
       "(3, 3)"
      ]
     },
     "metadata": {},
     "output_type": "display_data"
    },
    {
     "data": {
      "text/html": [
       "<div>\n",
       "<style scoped>\n",
       "    .dataframe tbody tr th:only-of-type {\n",
       "        vertical-align: middle;\n",
       "    }\n",
       "\n",
       "    .dataframe tbody tr th {\n",
       "        vertical-align: top;\n",
       "    }\n",
       "\n",
       "    .dataframe thead th {\n",
       "        text-align: right;\n",
       "    }\n",
       "</style>\n",
       "<table border=\"1\" class=\"dataframe\">\n",
       "  <thead>\n",
       "    <tr style=\"text-align: right;\">\n",
       "      <th></th>\n",
       "      <th>ENSG00000264281</th>\n",
       "      <th>ENSG00000110104</th>\n",
       "      <th>ENSG00000160883</th>\n",
       "    </tr>\n",
       "  </thead>\n",
       "  <tbody>\n",
       "    <tr>\n",
       "      <th>ENSG00000264281</th>\n",
       "      <td>1.000000</td>\n",
       "      <td>0.145360</td>\n",
       "      <td>0.029539</td>\n",
       "    </tr>\n",
       "    <tr>\n",
       "      <th>ENSG00000110104</th>\n",
       "      <td>0.145360</td>\n",
       "      <td>1.000000</td>\n",
       "      <td>0.121971</td>\n",
       "    </tr>\n",
       "    <tr>\n",
       "      <th>ENSG00000160883</th>\n",
       "      <td>0.029539</td>\n",
       "      <td>0.121971</td>\n",
       "      <td>1.000000</td>\n",
       "    </tr>\n",
       "  </tbody>\n",
       "</table>\n",
       "</div>"
      ],
      "text/plain": [
       "                 ENSG00000264281  ENSG00000110104  ENSG00000160883\n",
       "ENSG00000264281         1.000000         0.145360         0.029539\n",
       "ENSG00000110104         0.145360         1.000000         0.121971\n",
       "ENSG00000160883         0.029539         0.121971         1.000000"
      ]
     },
     "metadata": {},
     "output_type": "display_data"
    }
   ],
   "source": [
    "_tmp = CORRELATION_METHOD(test_data.iloc[:3])\n",
    "\n",
    "display(_tmp.shape)\n",
    "display(_tmp)"
   ]
  },
  {
   "cell_type": "code",
   "execution_count": 14,
   "id": "d32281d8-f640-4f87-a1d5-aefa0757e9c3",
   "metadata": {
    "execution": {
     "iopub.execute_input": "2021-12-26T07:34:11.464702Z",
     "iopub.status.busy": "2021-12-26T07:34:11.464111Z",
     "iopub.status.idle": "2021-12-26T07:36:07.019272Z",
     "shell.execute_reply": "2021-12-26T07:36:07.019618Z"
    },
    "papermill": {
     "duration": 115.580551,
     "end_time": "2021-12-26T07:36:07.019729",
     "exception": false,
     "start_time": "2021-12-26T07:34:11.439178",
     "status": "completed"
    },
    "tags": []
   },
   "outputs": [
    {
     "name": "stdout",
     "output_type": "stream",
     "text": [
      "14.4 s ± 26 ms per loop (mean ± std. dev. of 7 runs, 1 loop each)\n"
     ]
    }
   ],
   "source": [
    "%timeit CORRELATION_METHOD(test_data)"
   ]
  },
  {
   "cell_type": "markdown",
   "id": "fc2f7184-c0da-438c-94f5-002912793636",
   "metadata": {
    "papermill": {
     "duration": 0.020304,
     "end_time": "2021-12-26T07:36:07.060277",
     "exception": false,
     "start_time": "2021-12-26T07:36:07.039973",
     "status": "completed"
    },
    "tags": []
   },
   "source": [
    "## Run"
   ]
  },
  {
   "cell_type": "code",
   "execution_count": 15,
   "id": "189b0295-f968-42b2-9377-a6c404182b01",
   "metadata": {
    "execution": {
     "iopub.execute_input": "2021-12-26T07:36:07.104480Z",
     "iopub.status.busy": "2021-12-26T07:36:07.103789Z",
     "iopub.status.idle": "2021-12-27T23:20:59.968202Z",
     "shell.execute_reply": "2021-12-27T23:20:59.967725Z"
    },
    "papermill": {
     "duration": 143092.887802,
     "end_time": "2021-12-27T23:20:59.968297",
     "exception": false,
     "start_time": "2021-12-26T07:36:07.080495",
     "status": "completed"
    },
    "tags": []
   },
   "outputs": [],
   "source": [
    "# compute correlations\n",
    "data_corrs = CORRELATION_METHOD(data)"
   ]
  },
  {
   "cell_type": "code",
   "execution_count": 16,
   "id": "bd93f2d7-d1fe-46c5-9a8c-92cac91ef7c6",
   "metadata": {
    "execution": {
     "iopub.execute_input": "2021-12-27T23:21:00.900800Z",
     "iopub.status.busy": "2021-12-27T23:21:00.900209Z",
     "iopub.status.idle": "2021-12-27T23:21:00.903167Z",
     "shell.execute_reply": "2021-12-27T23:21:00.902661Z"
    },
    "papermill": {
     "duration": 0.914324,
     "end_time": "2021-12-27T23:21:00.903274",
     "exception": false,
     "start_time": "2021-12-27T23:20:59.988950",
     "status": "completed"
    },
    "tags": []
   },
   "outputs": [
    {
     "data": {
      "text/plain": [
       "(5000, 5000)"
      ]
     },
     "metadata": {},
     "output_type": "display_data"
    }
   ],
   "source": [
    "display(data_corrs.shape)\n",
    "\n",
    "assert data.shape[0] == data_corrs.shape[0]"
   ]
  },
  {
   "cell_type": "code",
   "execution_count": 17,
   "id": "da4f952a-539d-4007-bbfb-a57e426fb68a",
   "metadata": {
    "execution": {
     "iopub.execute_input": "2021-12-27T23:21:00.963195Z",
     "iopub.status.busy": "2021-12-27T23:21:00.948195Z",
     "iopub.status.idle": "2021-12-27T23:21:00.966300Z",
     "shell.execute_reply": "2021-12-27T23:21:00.965845Z"
    },
    "papermill": {
     "duration": 0.041053,
     "end_time": "2021-12-27T23:21:00.966398",
     "exception": false,
     "start_time": "2021-12-27T23:21:00.925345",
     "status": "completed"
    },
    "tags": []
   },
   "outputs": [
    {
     "data": {
      "text/html": [
       "<div>\n",
       "<style scoped>\n",
       "    .dataframe tbody tr th:only-of-type {\n",
       "        vertical-align: middle;\n",
       "    }\n",
       "\n",
       "    .dataframe tbody tr th {\n",
       "        vertical-align: top;\n",
       "    }\n",
       "\n",
       "    .dataframe thead th {\n",
       "        text-align: right;\n",
       "    }\n",
       "</style>\n",
       "<table border=\"1\" class=\"dataframe\">\n",
       "  <thead>\n",
       "    <tr style=\"text-align: right;\">\n",
       "      <th></th>\n",
       "      <th>ENSG00000283293</th>\n",
       "      <th>ENSG00000202198</th>\n",
       "      <th>ENSG00000277027</th>\n",
       "      <th>ENSG00000269900</th>\n",
       "      <th>ENSG00000274012</th>\n",
       "      <th>ENSG00000276168</th>\n",
       "      <th>ENSG00000222328</th>\n",
       "      <th>ENSG00000277209</th>\n",
       "      <th>ENSG00000199153</th>\n",
       "      <th>ENSG00000198975</th>\n",
       "      <th>...</th>\n",
       "      <th>ENSG00000091140</th>\n",
       "      <th>ENSG00000271029</th>\n",
       "      <th>ENSG00000053372</th>\n",
       "      <th>ENSG00000113845</th>\n",
       "      <th>ENSG00000231864</th>\n",
       "      <th>ENSG00000141574</th>\n",
       "      <th>ENSG00000169750</th>\n",
       "      <th>ENSG00000129559</th>\n",
       "      <th>ENSG00000237441</th>\n",
       "      <th>ENSG00000204103</th>\n",
       "    </tr>\n",
       "  </thead>\n",
       "  <tbody>\n",
       "    <tr>\n",
       "      <th>ENSG00000283293</th>\n",
       "      <td>1.000000</td>\n",
       "      <td>0.997409</td>\n",
       "      <td>0.388822</td>\n",
       "      <td>0.388148</td>\n",
       "      <td>0.307624</td>\n",
       "      <td>0.309664</td>\n",
       "      <td>0.188582</td>\n",
       "      <td>0.362346</td>\n",
       "      <td>0.016348</td>\n",
       "      <td>0.019026</td>\n",
       "      <td>...</td>\n",
       "      <td>0.039913</td>\n",
       "      <td>0.023536</td>\n",
       "      <td>0.040036</td>\n",
       "      <td>0.046958</td>\n",
       "      <td>0.054912</td>\n",
       "      <td>0.056360</td>\n",
       "      <td>0.062440</td>\n",
       "      <td>0.039689</td>\n",
       "      <td>0.074117</td>\n",
       "      <td>0.055136</td>\n",
       "    </tr>\n",
       "    <tr>\n",
       "      <th>ENSG00000202198</th>\n",
       "      <td>0.997409</td>\n",
       "      <td>1.000000</td>\n",
       "      <td>0.388687</td>\n",
       "      <td>0.388014</td>\n",
       "      <td>0.307145</td>\n",
       "      <td>0.309304</td>\n",
       "      <td>0.189155</td>\n",
       "      <td>0.362346</td>\n",
       "      <td>0.016569</td>\n",
       "      <td>0.019276</td>\n",
       "      <td>...</td>\n",
       "      <td>0.039844</td>\n",
       "      <td>0.023607</td>\n",
       "      <td>0.039991</td>\n",
       "      <td>0.046868</td>\n",
       "      <td>0.054832</td>\n",
       "      <td>0.056307</td>\n",
       "      <td>0.062412</td>\n",
       "      <td>0.039668</td>\n",
       "      <td>0.073996</td>\n",
       "      <td>0.055067</td>\n",
       "    </tr>\n",
       "    <tr>\n",
       "      <th>ENSG00000277027</th>\n",
       "      <td>0.388822</td>\n",
       "      <td>0.388687</td>\n",
       "      <td>1.000000</td>\n",
       "      <td>0.997248</td>\n",
       "      <td>0.312436</td>\n",
       "      <td>0.323767</td>\n",
       "      <td>0.253694</td>\n",
       "      <td>0.442272</td>\n",
       "      <td>0.044580</td>\n",
       "      <td>0.050314</td>\n",
       "      <td>...</td>\n",
       "      <td>0.049762</td>\n",
       "      <td>0.037705</td>\n",
       "      <td>0.046707</td>\n",
       "      <td>0.060473</td>\n",
       "      <td>0.098292</td>\n",
       "      <td>0.088481</td>\n",
       "      <td>0.090372</td>\n",
       "      <td>0.058478</td>\n",
       "      <td>0.090566</td>\n",
       "      <td>0.074813</td>\n",
       "    </tr>\n",
       "    <tr>\n",
       "      <th>ENSG00000269900</th>\n",
       "      <td>0.388148</td>\n",
       "      <td>0.388014</td>\n",
       "      <td>0.997248</td>\n",
       "      <td>1.000000</td>\n",
       "      <td>0.312436</td>\n",
       "      <td>0.323521</td>\n",
       "      <td>0.254239</td>\n",
       "      <td>0.442990</td>\n",
       "      <td>0.045083</td>\n",
       "      <td>0.050946</td>\n",
       "      <td>...</td>\n",
       "      <td>0.050003</td>\n",
       "      <td>0.037885</td>\n",
       "      <td>0.046869</td>\n",
       "      <td>0.060666</td>\n",
       "      <td>0.098442</td>\n",
       "      <td>0.088635</td>\n",
       "      <td>0.090440</td>\n",
       "      <td>0.058834</td>\n",
       "      <td>0.090757</td>\n",
       "      <td>0.074963</td>\n",
       "    </tr>\n",
       "    <tr>\n",
       "      <th>ENSG00000274012</th>\n",
       "      <td>0.307624</td>\n",
       "      <td>0.307145</td>\n",
       "      <td>0.312436</td>\n",
       "      <td>0.312436</td>\n",
       "      <td>1.000000</td>\n",
       "      <td>0.813849</td>\n",
       "      <td>0.167205</td>\n",
       "      <td>0.301306</td>\n",
       "      <td>0.023380</td>\n",
       "      <td>0.024478</td>\n",
       "      <td>...</td>\n",
       "      <td>0.033103</td>\n",
       "      <td>0.016521</td>\n",
       "      <td>0.027100</td>\n",
       "      <td>0.036164</td>\n",
       "      <td>0.050544</td>\n",
       "      <td>0.052831</td>\n",
       "      <td>0.050908</td>\n",
       "      <td>0.031653</td>\n",
       "      <td>0.060808</td>\n",
       "      <td>0.054081</td>\n",
       "    </tr>\n",
       "  </tbody>\n",
       "</table>\n",
       "<p>5 rows × 5000 columns</p>\n",
       "</div>"
      ],
      "text/plain": [
       "                 ENSG00000283293  ENSG00000202198  ENSG00000277027  \\\n",
       "ENSG00000283293         1.000000         0.997409         0.388822   \n",
       "ENSG00000202198         0.997409         1.000000         0.388687   \n",
       "ENSG00000277027         0.388822         0.388687         1.000000   \n",
       "ENSG00000269900         0.388148         0.388014         0.997248   \n",
       "ENSG00000274012         0.307624         0.307145         0.312436   \n",
       "\n",
       "                 ENSG00000269900  ENSG00000274012  ENSG00000276168  \\\n",
       "ENSG00000283293         0.388148         0.307624         0.309664   \n",
       "ENSG00000202198         0.388014         0.307145         0.309304   \n",
       "ENSG00000277027         0.997248         0.312436         0.323767   \n",
       "ENSG00000269900         1.000000         0.312436         0.323521   \n",
       "ENSG00000274012         0.312436         1.000000         0.813849   \n",
       "\n",
       "                 ENSG00000222328  ENSG00000277209  ENSG00000199153  \\\n",
       "ENSG00000283293         0.188582         0.362346         0.016348   \n",
       "ENSG00000202198         0.189155         0.362346         0.016569   \n",
       "ENSG00000277027         0.253694         0.442272         0.044580   \n",
       "ENSG00000269900         0.254239         0.442990         0.045083   \n",
       "ENSG00000274012         0.167205         0.301306         0.023380   \n",
       "\n",
       "                 ENSG00000198975  ...  ENSG00000091140  ENSG00000271029  \\\n",
       "ENSG00000283293         0.019026  ...         0.039913         0.023536   \n",
       "ENSG00000202198         0.019276  ...         0.039844         0.023607   \n",
       "ENSG00000277027         0.050314  ...         0.049762         0.037705   \n",
       "ENSG00000269900         0.050946  ...         0.050003         0.037885   \n",
       "ENSG00000274012         0.024478  ...         0.033103         0.016521   \n",
       "\n",
       "                 ENSG00000053372  ENSG00000113845  ENSG00000231864  \\\n",
       "ENSG00000283293         0.040036         0.046958         0.054912   \n",
       "ENSG00000202198         0.039991         0.046868         0.054832   \n",
       "ENSG00000277027         0.046707         0.060473         0.098292   \n",
       "ENSG00000269900         0.046869         0.060666         0.098442   \n",
       "ENSG00000274012         0.027100         0.036164         0.050544   \n",
       "\n",
       "                 ENSG00000141574  ENSG00000169750  ENSG00000129559  \\\n",
       "ENSG00000283293         0.056360         0.062440         0.039689   \n",
       "ENSG00000202198         0.056307         0.062412         0.039668   \n",
       "ENSG00000277027         0.088481         0.090372         0.058478   \n",
       "ENSG00000269900         0.088635         0.090440         0.058834   \n",
       "ENSG00000274012         0.052831         0.050908         0.031653   \n",
       "\n",
       "                 ENSG00000237441  ENSG00000204103  \n",
       "ENSG00000283293         0.074117         0.055136  \n",
       "ENSG00000202198         0.073996         0.055067  \n",
       "ENSG00000277027         0.090566         0.074813  \n",
       "ENSG00000269900         0.090757         0.074963  \n",
       "ENSG00000274012         0.060808         0.054081  \n",
       "\n",
       "[5 rows x 5000 columns]"
      ]
     },
     "execution_count": 17,
     "metadata": {},
     "output_type": "execute_result"
    }
   ],
   "source": [
    "data_corrs.head()"
   ]
  },
  {
   "cell_type": "markdown",
   "id": "647f3166",
   "metadata": {
    "papermill": {
     "duration": 0.021145,
     "end_time": "2021-12-27T23:21:01.009858",
     "exception": false,
     "start_time": "2021-12-27T23:21:00.988713",
     "status": "completed"
    },
    "tags": []
   },
   "source": [
    "## Save"
   ]
  },
  {
   "cell_type": "code",
   "execution_count": 18,
   "id": "31e811b1-4329-494b-9905-ee002b34f4b4",
   "metadata": {
    "execution": {
     "iopub.execute_input": "2021-12-27T23:21:01.056985Z",
     "iopub.status.busy": "2021-12-27T23:21:01.056312Z",
     "iopub.status.idle": "2021-12-27T23:21:01.059289Z",
     "shell.execute_reply": "2021-12-27T23:21:01.058824Z"
    },
    "papermill": {
     "duration": 0.028093,
     "end_time": "2021-12-27T23:21:01.059386",
     "exception": false,
     "start_time": "2021-12-27T23:21:01.031293",
     "status": "completed"
    },
    "tags": []
   },
   "outputs": [
    {
     "data": {
      "text/plain": [
       "PosixPath('/opt/data/results/recount2full/similarity_matrices/recount2_rpkm-var_pc_log2-clustermatch_k2to5.pkl')"
      ]
     },
     "metadata": {},
     "output_type": "display_data"
    }
   ],
   "source": [
    "output_filename = OUTPUT_DIR / f\"{INPUT_FILE.stem}-{method_name}.pkl\"\n",
    "display(output_filename)"
   ]
  },
  {
   "cell_type": "code",
   "execution_count": 19,
   "id": "b3c49a1a-bdf4-4cf9-824d-0d5c0acf2b73",
   "metadata": {
    "execution": {
     "iopub.execute_input": "2021-12-27T23:21:01.107311Z",
     "iopub.status.busy": "2021-12-27T23:21:01.106845Z",
     "iopub.status.idle": "2021-12-27T23:21:01.211648Z",
     "shell.execute_reply": "2021-12-27T23:21:01.211136Z"
    },
    "papermill": {
     "duration": 0.129556,
     "end_time": "2021-12-27T23:21:01.211755",
     "exception": false,
     "start_time": "2021-12-27T23:21:01.082199",
     "status": "completed"
    },
    "tags": []
   },
   "outputs": [],
   "source": [
    "# save\n",
    "data_corrs.to_pickle(output_filename)"
   ]
  },
  {
   "cell_type": "code",
   "execution_count": null,
   "id": "258babdf-03ce-4450-ab22-7a3d75bf6869",
   "metadata": {
    "papermill": {
     "duration": 0.022532,
     "end_time": "2021-12-27T23:21:01.258800",
     "exception": false,
     "start_time": "2021-12-27T23:21:01.236268",
     "status": "completed"
    },
    "tags": []
   },
   "outputs": [],
   "source": []
  }
 ],
 "metadata": {
  "jupytext": {
   "cell_metadata_filter": "all,-execution,-papermill,-trusted"
  },
  "kernelspec": {
   "display_name": "Python 3 (ipykernel)",
   "language": "python",
   "name": "python3"
  },
  "language_info": {
   "codemirror_mode": {
    "name": "ipython",
    "version": 3
   },
   "file_extension": ".py",
   "mimetype": "text/x-python",
   "name": "python",
   "nbconvert_exporter": "python",
   "pygments_lexer": "ipython3",
   "version": "3.9.9"
  },
  "papermill": {
   "default_parameters": {},
   "duration": 143214.360075,
   "end_time": "2021-12-27T23:21:01.960427",
   "environment_variables": {},
   "exception": null,
   "input_path": "nbs/10_compute_correlations/10_recount2/07-recount2-clustermatch_k2to5.ipynb",
   "output_path": "nbs/10_compute_correlations/10_recount2/07-recount2-clustermatch_k2to5.run.ipynb",
   "parameters": {},
   "start_time": "2021-12-26T07:34:07.600352",
   "version": "2.3.3"
  },
  "toc-autonumbering": true
 },
 "nbformat": 4,
 "nbformat_minor": 5
}
