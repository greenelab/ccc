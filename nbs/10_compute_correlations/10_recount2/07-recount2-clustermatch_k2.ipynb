{
 "cells": [
  {
   "cell_type": "markdown",
   "id": "e9773a95-e8fd-4963-87a5-0c92299434d5",
   "metadata": {
    "papermill": {
     "duration": 0.017774,
     "end_time": "2021-09-18T13:09:59.490868",
     "exception": false,
     "start_time": "2021-09-18T13:09:59.473094",
     "status": "completed"
    },
    "tags": []
   },
   "source": [
    "# Description"
   ]
  },
  {
   "cell_type": "markdown",
   "id": "57f34c74-404d-4776-b547-e6acb2df75d7",
   "metadata": {
    "papermill": {
     "duration": 0.012784,
     "end_time": "2021-09-18T13:09:59.516591",
     "exception": false,
     "start_time": "2021-09-18T13:09:59.503807",
     "status": "completed"
    },
    "tags": []
   },
   "source": [
    "According to the settings specified below, this notebook:\n",
    " 1. reads all the data from one source (GTEx, recount2, etc) according to the gene selection method (`GENE_SELECTION_STRATEGY`),\n",
    " 2. runs a quick performance test using the correlation coefficient specified (`CORRELATION_METHOD`), and\n",
    " 3. computes the correlation matrix across all the genes using the correlation coefficient specified."
   ]
  },
  {
   "cell_type": "markdown",
   "id": "1d8fae6b-e623-46a6-aff6-d7849163c820",
   "metadata": {
    "papermill": {
     "duration": 0.012874,
     "end_time": "2021-09-18T13:09:59.542310",
     "exception": false,
     "start_time": "2021-09-18T13:09:59.529436",
     "status": "completed"
    },
    "tags": []
   },
   "source": [
    "# Modules"
   ]
  },
  {
   "cell_type": "code",
   "execution_count": 1,
   "id": "76729f0e-f742-495b-b676-d9d7b1539e10",
   "metadata": {
    "execution": {
     "iopub.execute_input": "2021-09-18T13:09:59.575246Z",
     "iopub.status.busy": "2021-09-18T13:09:59.574780Z",
     "iopub.status.idle": "2021-09-18T13:10:00.038058Z",
     "shell.execute_reply": "2021-09-18T13:10:00.037548Z"
    },
    "papermill": {
     "duration": 0.482937,
     "end_time": "2021-09-18T13:10:00.038163",
     "exception": false,
     "start_time": "2021-09-18T13:09:59.555226",
     "status": "completed"
    },
    "tags": []
   },
   "outputs": [],
   "source": [
    "import pandas as pd\n",
    "\n",
    "from clustermatch import conf\n",
    "from clustermatch.corr import clustermatch"
   ]
  },
  {
   "cell_type": "markdown",
   "id": "a6c3a546-9a49-45e7-9f17-fbdb5af4bfb6",
   "metadata": {
    "papermill": {
     "duration": 0.012838,
     "end_time": "2021-09-18T13:10:00.064712",
     "exception": false,
     "start_time": "2021-09-18T13:10:00.051874",
     "status": "completed"
    },
    "tags": []
   },
   "source": [
    "# Settings"
   ]
  },
  {
   "cell_type": "code",
   "execution_count": 2,
   "id": "56ff94d3-a230-4028-a71d-518ac109209b",
   "metadata": {
    "execution": {
     "iopub.execute_input": "2021-09-18T13:10:00.093569Z",
     "iopub.status.busy": "2021-09-18T13:10:00.093119Z",
     "iopub.status.idle": "2021-09-18T13:10:00.094644Z",
     "shell.execute_reply": "2021-09-18T13:10:00.094985Z"
    },
    "papermill": {
     "duration": 0.01756,
     "end_time": "2021-09-18T13:10:00.095100",
     "exception": false,
     "start_time": "2021-09-18T13:10:00.077540",
     "status": "completed"
    },
    "tags": []
   },
   "outputs": [],
   "source": [
    "# we don't have gene subsets for recount2\n",
    "# GENE_SELECTION_STRATEGY = \"var_raw\""
   ]
  },
  {
   "cell_type": "code",
   "execution_count": 3,
   "id": "8baf4209-ba56-4e3d-b60f-6ce2bb686159",
   "metadata": {
    "execution": {
     "iopub.execute_input": "2021-09-18T13:10:00.131360Z",
     "iopub.status.busy": "2021-09-18T13:10:00.129445Z",
     "iopub.status.idle": "2021-09-18T13:10:00.133740Z",
     "shell.execute_reply": "2021-09-18T13:10:00.134127Z"
    },
    "papermill": {
     "duration": 0.025382,
     "end_time": "2021-09-18T13:10:00.134245",
     "exception": false,
     "start_time": "2021-09-18T13:10:00.108863",
     "status": "completed"
    },
    "tags": []
   },
   "outputs": [
    {
     "data": {
      "text/plain": [
       "'clustermatch_k2'"
      ]
     },
     "metadata": {},
     "output_type": "display_data"
    }
   ],
   "source": [
    "def clustermatch_k2(data):\n",
    "    n_clusters = list(range(2, 2 + 1))\n",
    "    return clustermatch(data, internal_n_clusters=n_clusters)\n",
    "\n",
    "\n",
    "CORRELATION_METHOD = clustermatch_k2\n",
    "\n",
    "method_name = CORRELATION_METHOD.__name__\n",
    "display(method_name)"
   ]
  },
  {
   "cell_type": "code",
   "execution_count": 4,
   "id": "21a3e349-9a09-4d24-89e3-915fdbf08a81",
   "metadata": {
    "execution": {
     "iopub.execute_input": "2021-09-18T13:10:00.164733Z",
     "iopub.status.busy": "2021-09-18T13:10:00.164261Z",
     "iopub.status.idle": "2021-09-18T13:10:00.165779Z",
     "shell.execute_reply": "2021-09-18T13:10:00.166143Z"
    },
    "papermill": {
     "duration": 0.017973,
     "end_time": "2021-09-18T13:10:00.166255",
     "exception": false,
     "start_time": "2021-09-18T13:10:00.148282",
     "status": "completed"
    },
    "tags": []
   },
   "outputs": [],
   "source": [
    "PERFORMANCE_TEST_N_TOP_GENES = 500"
   ]
  },
  {
   "cell_type": "markdown",
   "id": "b0afcba9-5847-414e-b448-f0cd08ecd8ce",
   "metadata": {
    "papermill": {
     "duration": 0.01377,
     "end_time": "2021-09-18T13:10:00.194101",
     "exception": false,
     "start_time": "2021-09-18T13:10:00.180331",
     "status": "completed"
    },
    "tags": []
   },
   "source": [
    "# Paths"
   ]
  },
  {
   "cell_type": "code",
   "execution_count": 5,
   "id": "35760114-8560-4a0e-ad4f-2bee9104c63d",
   "metadata": {
    "execution": {
     "iopub.execute_input": "2021-09-18T13:10:00.224417Z",
     "iopub.status.busy": "2021-09-18T13:10:00.223828Z",
     "iopub.status.idle": "2021-09-18T13:10:00.226529Z",
     "shell.execute_reply": "2021-09-18T13:10:00.226164Z"
    },
    "papermill": {
     "duration": 0.01931,
     "end_time": "2021-09-18T13:10:00.226626",
     "exception": false,
     "start_time": "2021-09-18T13:10:00.207316",
     "status": "completed"
    },
    "tags": []
   },
   "outputs": [
    {
     "data": {
      "text/plain": [
       "PosixPath('/opt/data/data/recount2/recount_data_prep_PLIER.pkl')"
      ]
     },
     "metadata": {},
     "output_type": "display_data"
    }
   ],
   "source": [
    "INPUT_FILE = conf.RECOUNT2[\"DATA_FILE\"]\n",
    "display(INPUT_FILE)\n",
    "\n",
    "assert INPUT_FILE.exists()"
   ]
  },
  {
   "cell_type": "code",
   "execution_count": 6,
   "id": "f1418e81-4e77-4f67-b5ed-b29b797e31a0",
   "metadata": {
    "execution": {
     "iopub.execute_input": "2021-09-18T13:10:00.258969Z",
     "iopub.status.busy": "2021-09-18T13:10:00.258491Z",
     "iopub.status.idle": "2021-09-18T13:10:00.261133Z",
     "shell.execute_reply": "2021-09-18T13:10:00.260684Z"
    },
    "papermill": {
     "duration": 0.020323,
     "end_time": "2021-09-18T13:10:00.261228",
     "exception": false,
     "start_time": "2021-09-18T13:10:00.240905",
     "status": "completed"
    },
    "tags": []
   },
   "outputs": [
    {
     "data": {
      "text/plain": [
       "PosixPath('/opt/data/results/recount2/similarity_matrices')"
      ]
     },
     "metadata": {},
     "output_type": "display_data"
    }
   ],
   "source": [
    "OUTPUT_DIR = conf.RECOUNT2[\"SIMILARITY_MATRICES_DIR\"]\n",
    "OUTPUT_DIR.mkdir(parents=True, exist_ok=True)\n",
    "display(OUTPUT_DIR)"
   ]
  },
  {
   "cell_type": "markdown",
   "id": "5fdf8df6-eba0-4cf5-979c-3acd56a5ef3c",
   "metadata": {
    "papermill": {
     "duration": 0.013611,
     "end_time": "2021-09-18T13:10:00.289257",
     "exception": false,
     "start_time": "2021-09-18T13:10:00.275646",
     "status": "completed"
    },
    "tags": []
   },
   "source": [
    "# Data loading"
   ]
  },
  {
   "cell_type": "code",
   "execution_count": 7,
   "id": "596d25ed-4120-4bef-8984-a91ae6529ab5",
   "metadata": {
    "execution": {
     "iopub.execute_input": "2021-09-18T13:10:00.320041Z",
     "iopub.status.busy": "2021-09-18T13:10:00.319563Z",
     "iopub.status.idle": "2021-09-18T13:10:10.041895Z",
     "shell.execute_reply": "2021-09-18T13:10:10.040920Z"
    },
    "papermill": {
     "duration": 9.739336,
     "end_time": "2021-09-18T13:10:10.042092",
     "exception": false,
     "start_time": "2021-09-18T13:10:00.302756",
     "status": "completed"
    },
    "tags": []
   },
   "outputs": [],
   "source": [
    "data = pd.read_pickle(INPUT_FILE)"
   ]
  },
  {
   "cell_type": "code",
   "execution_count": 8,
   "id": "be8a23da-ea99-43a9-b684-fa645c1d1adc",
   "metadata": {
    "execution": {
     "iopub.execute_input": "2021-09-18T13:10:10.096497Z",
     "iopub.status.busy": "2021-09-18T13:10:10.095877Z",
     "iopub.status.idle": "2021-09-18T13:10:10.098619Z",
     "shell.execute_reply": "2021-09-18T13:10:10.098246Z"
    },
    "papermill": {
     "duration": 0.02608,
     "end_time": "2021-09-18T13:10:10.098720",
     "exception": false,
     "start_time": "2021-09-18T13:10:10.072640",
     "status": "completed"
    },
    "tags": []
   },
   "outputs": [
    {
     "data": {
      "text/plain": [
       "(6750, 37032)"
      ]
     },
     "execution_count": 8,
     "metadata": {},
     "output_type": "execute_result"
    }
   ],
   "source": [
    "data.shape"
   ]
  },
  {
   "cell_type": "code",
   "execution_count": 9,
   "id": "cd693523-4379-400a-a2d2-6b3f617421e6",
   "metadata": {
    "execution": {
     "iopub.execute_input": "2021-09-18T13:10:10.135506Z",
     "iopub.status.busy": "2021-09-18T13:10:10.135032Z",
     "iopub.status.idle": "2021-09-18T13:10:10.152820Z",
     "shell.execute_reply": "2021-09-18T13:10:10.152421Z"
    },
    "papermill": {
     "duration": 0.03955,
     "end_time": "2021-09-18T13:10:10.152919",
     "exception": false,
     "start_time": "2021-09-18T13:10:10.113369",
     "status": "completed"
    },
    "tags": []
   },
   "outputs": [
    {
     "data": {
      "text/html": [
       "<div>\n",
       "<style scoped>\n",
       "    .dataframe tbody tr th:only-of-type {\n",
       "        vertical-align: middle;\n",
       "    }\n",
       "\n",
       "    .dataframe tbody tr th {\n",
       "        vertical-align: top;\n",
       "    }\n",
       "\n",
       "    .dataframe thead th {\n",
       "        text-align: right;\n",
       "    }\n",
       "</style>\n",
       "<table border=\"1\" class=\"dataframe\">\n",
       "  <thead>\n",
       "    <tr style=\"text-align: right;\">\n",
       "      <th></th>\n",
       "      <th>SRP000599.SRR013549</th>\n",
       "      <th>SRP000599.SRR013550</th>\n",
       "      <th>SRP000599.SRR013551</th>\n",
       "      <th>SRP000599.SRR013552</th>\n",
       "      <th>SRP000599.SRR013553</th>\n",
       "      <th>SRP000599.SRR013554</th>\n",
       "      <th>SRP000599.SRR013555</th>\n",
       "      <th>SRP000599.SRR013556</th>\n",
       "      <th>SRP000599.SRR013557</th>\n",
       "      <th>SRP000599.SRR013558</th>\n",
       "      <th>...</th>\n",
       "      <th>SRP035599.SRR1139372</th>\n",
       "      <th>SRP035599.SRR1139393</th>\n",
       "      <th>SRP035599.SRR1139388</th>\n",
       "      <th>SRP035599.SRR1139378</th>\n",
       "      <th>SRP035599.SRR1139399</th>\n",
       "      <th>SRP035599.SRR1139386</th>\n",
       "      <th>SRP035599.SRR1139375</th>\n",
       "      <th>SRP035599.SRR1139382</th>\n",
       "      <th>SRP035599.SRR1139356</th>\n",
       "      <th>SRP035599.SRR1139370</th>\n",
       "    </tr>\n",
       "  </thead>\n",
       "  <tbody>\n",
       "    <tr>\n",
       "      <th>GAS6</th>\n",
       "      <td>-0.312500</td>\n",
       "      <td>-0.312931</td>\n",
       "      <td>-0.312931</td>\n",
       "      <td>-0.312931</td>\n",
       "      <td>-0.312931</td>\n",
       "      <td>-0.308253</td>\n",
       "      <td>-0.312931</td>\n",
       "      <td>-0.312931</td>\n",
       "      <td>-0.312931</td>\n",
       "      <td>-0.312931</td>\n",
       "      <td>...</td>\n",
       "      <td>-0.301711</td>\n",
       "      <td>-0.305581</td>\n",
       "      <td>-0.303344</td>\n",
       "      <td>-0.297800</td>\n",
       "      <td>-0.307122</td>\n",
       "      <td>-0.285499</td>\n",
       "      <td>-0.309599</td>\n",
       "      <td>-0.300220</td>\n",
       "      <td>-0.297667</td>\n",
       "      <td>-0.310151</td>\n",
       "    </tr>\n",
       "    <tr>\n",
       "      <th>MMP14</th>\n",
       "      <td>-0.328279</td>\n",
       "      <td>-0.328279</td>\n",
       "      <td>-0.328279</td>\n",
       "      <td>-0.328279</td>\n",
       "      <td>-0.328279</td>\n",
       "      <td>-0.328279</td>\n",
       "      <td>-0.328279</td>\n",
       "      <td>-0.328279</td>\n",
       "      <td>-0.328279</td>\n",
       "      <td>-0.325140</td>\n",
       "      <td>...</td>\n",
       "      <td>-0.314587</td>\n",
       "      <td>-0.322952</td>\n",
       "      <td>-0.326439</td>\n",
       "      <td>-0.325994</td>\n",
       "      <td>-0.326272</td>\n",
       "      <td>-0.322523</td>\n",
       "      <td>-0.326375</td>\n",
       "      <td>-0.326339</td>\n",
       "      <td>-0.322127</td>\n",
       "      <td>-0.327438</td>\n",
       "    </tr>\n",
       "    <tr>\n",
       "      <th>DSP</th>\n",
       "      <td>-0.286319</td>\n",
       "      <td>-0.286859</td>\n",
       "      <td>-0.286859</td>\n",
       "      <td>-0.286859</td>\n",
       "      <td>-0.286859</td>\n",
       "      <td>-0.286859</td>\n",
       "      <td>-0.277195</td>\n",
       "      <td>-0.256862</td>\n",
       "      <td>-0.278790</td>\n",
       "      <td>-0.269701</td>\n",
       "      <td>...</td>\n",
       "      <td>-0.286859</td>\n",
       "      <td>-0.286859</td>\n",
       "      <td>-0.286745</td>\n",
       "      <td>-0.286688</td>\n",
       "      <td>-0.286725</td>\n",
       "      <td>-0.286529</td>\n",
       "      <td>-0.286859</td>\n",
       "      <td>-0.286671</td>\n",
       "      <td>-0.286859</td>\n",
       "      <td>-0.286740</td>\n",
       "    </tr>\n",
       "    <tr>\n",
       "      <th>MARCKSL1</th>\n",
       "      <td>-0.536646</td>\n",
       "      <td>-0.536646</td>\n",
       "      <td>-0.536646</td>\n",
       "      <td>-0.536646</td>\n",
       "      <td>-0.536646</td>\n",
       "      <td>-0.536646</td>\n",
       "      <td>-0.536646</td>\n",
       "      <td>-0.536646</td>\n",
       "      <td>-0.536646</td>\n",
       "      <td>-0.536646</td>\n",
       "      <td>...</td>\n",
       "      <td>0.807663</td>\n",
       "      <td>1.294564</td>\n",
       "      <td>1.527655</td>\n",
       "      <td>1.404788</td>\n",
       "      <td>1.047931</td>\n",
       "      <td>0.892119</td>\n",
       "      <td>1.507099</td>\n",
       "      <td>2.458255</td>\n",
       "      <td>2.919662</td>\n",
       "      <td>1.410846</td>\n",
       "    </tr>\n",
       "    <tr>\n",
       "      <th>SPARC</th>\n",
       "      <td>-0.370498</td>\n",
       "      <td>-0.370498</td>\n",
       "      <td>-0.369171</td>\n",
       "      <td>-0.370498</td>\n",
       "      <td>-0.370498</td>\n",
       "      <td>-0.370498</td>\n",
       "      <td>-0.370498</td>\n",
       "      <td>-0.370498</td>\n",
       "      <td>-0.370498</td>\n",
       "      <td>-0.370498</td>\n",
       "      <td>...</td>\n",
       "      <td>-0.345409</td>\n",
       "      <td>-0.310750</td>\n",
       "      <td>-0.348120</td>\n",
       "      <td>-0.356938</td>\n",
       "      <td>-0.355206</td>\n",
       "      <td>-0.366197</td>\n",
       "      <td>-0.351174</td>\n",
       "      <td>-0.363703</td>\n",
       "      <td>-0.350825</td>\n",
       "      <td>-0.360762</td>\n",
       "    </tr>\n",
       "  </tbody>\n",
       "</table>\n",
       "<p>5 rows × 37032 columns</p>\n",
       "</div>"
      ],
      "text/plain": [
       "          SRP000599.SRR013549  SRP000599.SRR013550  SRP000599.SRR013551  \\\n",
       "GAS6                -0.312500            -0.312931            -0.312931   \n",
       "MMP14               -0.328279            -0.328279            -0.328279   \n",
       "DSP                 -0.286319            -0.286859            -0.286859   \n",
       "MARCKSL1            -0.536646            -0.536646            -0.536646   \n",
       "SPARC               -0.370498            -0.370498            -0.369171   \n",
       "\n",
       "          SRP000599.SRR013552  SRP000599.SRR013553  SRP000599.SRR013554  \\\n",
       "GAS6                -0.312931            -0.312931            -0.308253   \n",
       "MMP14               -0.328279            -0.328279            -0.328279   \n",
       "DSP                 -0.286859            -0.286859            -0.286859   \n",
       "MARCKSL1            -0.536646            -0.536646            -0.536646   \n",
       "SPARC               -0.370498            -0.370498            -0.370498   \n",
       "\n",
       "          SRP000599.SRR013555  SRP000599.SRR013556  SRP000599.SRR013557  \\\n",
       "GAS6                -0.312931            -0.312931            -0.312931   \n",
       "MMP14               -0.328279            -0.328279            -0.328279   \n",
       "DSP                 -0.277195            -0.256862            -0.278790   \n",
       "MARCKSL1            -0.536646            -0.536646            -0.536646   \n",
       "SPARC               -0.370498            -0.370498            -0.370498   \n",
       "\n",
       "          SRP000599.SRR013558  ...  SRP035599.SRR1139372  \\\n",
       "GAS6                -0.312931  ...             -0.301711   \n",
       "MMP14               -0.325140  ...             -0.314587   \n",
       "DSP                 -0.269701  ...             -0.286859   \n",
       "MARCKSL1            -0.536646  ...              0.807663   \n",
       "SPARC               -0.370498  ...             -0.345409   \n",
       "\n",
       "          SRP035599.SRR1139393  SRP035599.SRR1139388  SRP035599.SRR1139378  \\\n",
       "GAS6                 -0.305581             -0.303344             -0.297800   \n",
       "MMP14                -0.322952             -0.326439             -0.325994   \n",
       "DSP                  -0.286859             -0.286745             -0.286688   \n",
       "MARCKSL1              1.294564              1.527655              1.404788   \n",
       "SPARC                -0.310750             -0.348120             -0.356938   \n",
       "\n",
       "          SRP035599.SRR1139399  SRP035599.SRR1139386  SRP035599.SRR1139375  \\\n",
       "GAS6                 -0.307122             -0.285499             -0.309599   \n",
       "MMP14                -0.326272             -0.322523             -0.326375   \n",
       "DSP                  -0.286725             -0.286529             -0.286859   \n",
       "MARCKSL1              1.047931              0.892119              1.507099   \n",
       "SPARC                -0.355206             -0.366197             -0.351174   \n",
       "\n",
       "          SRP035599.SRR1139382  SRP035599.SRR1139356  SRP035599.SRR1139370  \n",
       "GAS6                 -0.300220             -0.297667             -0.310151  \n",
       "MMP14                -0.326339             -0.322127             -0.327438  \n",
       "DSP                  -0.286671             -0.286859             -0.286740  \n",
       "MARCKSL1              2.458255              2.919662              1.410846  \n",
       "SPARC                -0.363703             -0.350825             -0.360762  \n",
       "\n",
       "[5 rows x 37032 columns]"
      ]
     },
     "execution_count": 9,
     "metadata": {},
     "output_type": "execute_result"
    }
   ],
   "source": [
    "data.head()"
   ]
  },
  {
   "cell_type": "markdown",
   "id": "081da632-fd12-462a-9ae1-c0ceccf1bb5d",
   "metadata": {
    "papermill": {
     "duration": 0.014672,
     "end_time": "2021-09-18T13:10:10.183205",
     "exception": false,
     "start_time": "2021-09-18T13:10:10.168533",
     "status": "completed"
    },
    "tags": []
   },
   "source": [
    "# Compute similarity"
   ]
  },
  {
   "cell_type": "markdown",
   "id": "37137fff-2d3a-43d8-9bd5-d7c3284a97f5",
   "metadata": {
    "papermill": {
     "duration": 0.014168,
     "end_time": "2021-09-18T13:10:10.211711",
     "exception": false,
     "start_time": "2021-09-18T13:10:10.197543",
     "status": "completed"
    },
    "tags": []
   },
   "source": [
    "## Performance test"
   ]
  },
  {
   "cell_type": "code",
   "execution_count": 10,
   "id": "5dd40707-759f-4bf9-b8cc-84811b2dfe53",
   "metadata": {
    "execution": {
     "iopub.execute_input": "2021-09-18T13:10:10.250995Z",
     "iopub.status.busy": "2021-09-18T13:10:10.250543Z",
     "iopub.status.idle": "2021-09-18T13:10:10.484804Z",
     "shell.execute_reply": "2021-09-18T13:10:10.484237Z"
    },
    "papermill": {
     "duration": 0.258977,
     "end_time": "2021-09-18T13:10:10.484937",
     "exception": false,
     "start_time": "2021-09-18T13:10:10.225960",
     "status": "completed"
    },
    "tags": []
   },
   "outputs": [],
   "source": [
    "# select a subset of the genes\n",
    "test_data = data.sample(n=PERFORMANCE_TEST_N_TOP_GENES, random_state=0)"
   ]
  },
  {
   "cell_type": "code",
   "execution_count": 11,
   "id": "e8acd036-93f7-46c0-a1ee-8da0c2c24790",
   "metadata": {
    "execution": {
     "iopub.execute_input": "2021-09-18T13:10:10.527575Z",
     "iopub.status.busy": "2021-09-18T13:10:10.527040Z",
     "iopub.status.idle": "2021-09-18T13:10:10.530062Z",
     "shell.execute_reply": "2021-09-18T13:10:10.529540Z"
    },
    "papermill": {
     "duration": 0.025501,
     "end_time": "2021-09-18T13:10:10.530173",
     "exception": false,
     "start_time": "2021-09-18T13:10:10.504672",
     "status": "completed"
    },
    "tags": []
   },
   "outputs": [
    {
     "data": {
      "text/plain": [
       "(500, 37032)"
      ]
     },
     "execution_count": 11,
     "metadata": {},
     "output_type": "execute_result"
    }
   ],
   "source": [
    "test_data.shape"
   ]
  },
  {
   "cell_type": "code",
   "execution_count": 12,
   "id": "111e360b-dbe4-4b69-9029-7b7669eb5ddc",
   "metadata": {
    "execution": {
     "iopub.execute_input": "2021-09-18T13:10:10.567971Z",
     "iopub.status.busy": "2021-09-18T13:10:10.567475Z",
     "iopub.status.idle": "2021-09-18T13:10:10.583845Z",
     "shell.execute_reply": "2021-09-18T13:10:10.583388Z"
    },
    "papermill": {
     "duration": 0.036105,
     "end_time": "2021-09-18T13:10:10.583980",
     "exception": false,
     "start_time": "2021-09-18T13:10:10.547875",
     "status": "completed"
    },
    "tags": []
   },
   "outputs": [
    {
     "data": {
      "text/html": [
       "<div>\n",
       "<style scoped>\n",
       "    .dataframe tbody tr th:only-of-type {\n",
       "        vertical-align: middle;\n",
       "    }\n",
       "\n",
       "    .dataframe tbody tr th {\n",
       "        vertical-align: top;\n",
       "    }\n",
       "\n",
       "    .dataframe thead th {\n",
       "        text-align: right;\n",
       "    }\n",
       "</style>\n",
       "<table border=\"1\" class=\"dataframe\">\n",
       "  <thead>\n",
       "    <tr style=\"text-align: right;\">\n",
       "      <th></th>\n",
       "      <th>SRP000599.SRR013549</th>\n",
       "      <th>SRP000599.SRR013550</th>\n",
       "      <th>SRP000599.SRR013551</th>\n",
       "      <th>SRP000599.SRR013552</th>\n",
       "      <th>SRP000599.SRR013553</th>\n",
       "      <th>SRP000599.SRR013554</th>\n",
       "      <th>SRP000599.SRR013555</th>\n",
       "      <th>SRP000599.SRR013556</th>\n",
       "      <th>SRP000599.SRR013557</th>\n",
       "      <th>SRP000599.SRR013558</th>\n",
       "      <th>...</th>\n",
       "      <th>SRP035599.SRR1139372</th>\n",
       "      <th>SRP035599.SRR1139393</th>\n",
       "      <th>SRP035599.SRR1139388</th>\n",
       "      <th>SRP035599.SRR1139378</th>\n",
       "      <th>SRP035599.SRR1139399</th>\n",
       "      <th>SRP035599.SRR1139386</th>\n",
       "      <th>SRP035599.SRR1139375</th>\n",
       "      <th>SRP035599.SRR1139382</th>\n",
       "      <th>SRP035599.SRR1139356</th>\n",
       "      <th>SRP035599.SRR1139370</th>\n",
       "    </tr>\n",
       "  </thead>\n",
       "  <tbody>\n",
       "    <tr>\n",
       "      <th>S1PR5</th>\n",
       "      <td>-0.266852</td>\n",
       "      <td>-0.266852</td>\n",
       "      <td>-0.266852</td>\n",
       "      <td>-0.266852</td>\n",
       "      <td>-0.266852</td>\n",
       "      <td>-0.266852</td>\n",
       "      <td>-0.266852</td>\n",
       "      <td>-0.266852</td>\n",
       "      <td>-0.266852</td>\n",
       "      <td>-0.266852</td>\n",
       "      <td>...</td>\n",
       "      <td>-0.266852</td>\n",
       "      <td>-0.266852</td>\n",
       "      <td>-0.261464</td>\n",
       "      <td>-0.262521</td>\n",
       "      <td>-0.263571</td>\n",
       "      <td>-0.232207</td>\n",
       "      <td>-0.263313</td>\n",
       "      <td>-0.263926</td>\n",
       "      <td>-0.266852</td>\n",
       "      <td>-0.266852</td>\n",
       "    </tr>\n",
       "    <tr>\n",
       "      <th>NDUFA12</th>\n",
       "      <td>-0.389020</td>\n",
       "      <td>-0.389020</td>\n",
       "      <td>-0.389020</td>\n",
       "      <td>-0.389020</td>\n",
       "      <td>-0.389020</td>\n",
       "      <td>-0.389020</td>\n",
       "      <td>-0.389020</td>\n",
       "      <td>-0.389020</td>\n",
       "      <td>-0.389020</td>\n",
       "      <td>-0.389020</td>\n",
       "      <td>...</td>\n",
       "      <td>0.264052</td>\n",
       "      <td>0.141801</td>\n",
       "      <td>-0.101283</td>\n",
       "      <td>0.016574</td>\n",
       "      <td>0.054545</td>\n",
       "      <td>0.109291</td>\n",
       "      <td>-0.080455</td>\n",
       "      <td>-0.039797</td>\n",
       "      <td>-0.171493</td>\n",
       "      <td>-0.039619</td>\n",
       "    </tr>\n",
       "    <tr>\n",
       "      <th>EXOSC10</th>\n",
       "      <td>-0.775256</td>\n",
       "      <td>-0.781191</td>\n",
       "      <td>-0.781191</td>\n",
       "      <td>-0.781191</td>\n",
       "      <td>-0.781191</td>\n",
       "      <td>-0.781191</td>\n",
       "      <td>-0.781191</td>\n",
       "      <td>-0.781191</td>\n",
       "      <td>-0.781191</td>\n",
       "      <td>-0.781191</td>\n",
       "      <td>...</td>\n",
       "      <td>-0.151619</td>\n",
       "      <td>-0.190753</td>\n",
       "      <td>-0.263083</td>\n",
       "      <td>0.006409</td>\n",
       "      <td>-0.090697</td>\n",
       "      <td>-0.196750</td>\n",
       "      <td>-0.039938</td>\n",
       "      <td>0.155149</td>\n",
       "      <td>0.076707</td>\n",
       "      <td>0.201055</td>\n",
       "    </tr>\n",
       "    <tr>\n",
       "      <th>ALOX15B</th>\n",
       "      <td>-0.104175</td>\n",
       "      <td>-0.104175</td>\n",
       "      <td>-0.104175</td>\n",
       "      <td>-0.104175</td>\n",
       "      <td>-0.104175</td>\n",
       "      <td>-0.104175</td>\n",
       "      <td>-0.104175</td>\n",
       "      <td>-0.104175</td>\n",
       "      <td>-0.104175</td>\n",
       "      <td>-0.104175</td>\n",
       "      <td>...</td>\n",
       "      <td>-0.102583</td>\n",
       "      <td>-0.104175</td>\n",
       "      <td>-0.104175</td>\n",
       "      <td>-0.090938</td>\n",
       "      <td>-0.104175</td>\n",
       "      <td>-0.091455</td>\n",
       "      <td>-0.097841</td>\n",
       "      <td>-0.097053</td>\n",
       "      <td>-0.098525</td>\n",
       "      <td>-0.102490</td>\n",
       "    </tr>\n",
       "    <tr>\n",
       "      <th>CACNB1</th>\n",
       "      <td>-0.412386</td>\n",
       "      <td>-0.412386</td>\n",
       "      <td>-0.412386</td>\n",
       "      <td>-0.412386</td>\n",
       "      <td>-0.412386</td>\n",
       "      <td>-0.412386</td>\n",
       "      <td>-0.412386</td>\n",
       "      <td>-0.412386</td>\n",
       "      <td>-0.412386</td>\n",
       "      <td>-0.412386</td>\n",
       "      <td>...</td>\n",
       "      <td>-0.002829</td>\n",
       "      <td>-0.176210</td>\n",
       "      <td>-0.124728</td>\n",
       "      <td>-0.034000</td>\n",
       "      <td>-0.170579</td>\n",
       "      <td>-0.134903</td>\n",
       "      <td>-0.050322</td>\n",
       "      <td>-0.160912</td>\n",
       "      <td>-0.034017</td>\n",
       "      <td>-0.001866</td>\n",
       "    </tr>\n",
       "  </tbody>\n",
       "</table>\n",
       "<p>5 rows × 37032 columns</p>\n",
       "</div>"
      ],
      "text/plain": [
       "         SRP000599.SRR013549  SRP000599.SRR013550  SRP000599.SRR013551  \\\n",
       "S1PR5              -0.266852            -0.266852            -0.266852   \n",
       "NDUFA12            -0.389020            -0.389020            -0.389020   \n",
       "EXOSC10            -0.775256            -0.781191            -0.781191   \n",
       "ALOX15B            -0.104175            -0.104175            -0.104175   \n",
       "CACNB1             -0.412386            -0.412386            -0.412386   \n",
       "\n",
       "         SRP000599.SRR013552  SRP000599.SRR013553  SRP000599.SRR013554  \\\n",
       "S1PR5              -0.266852            -0.266852            -0.266852   \n",
       "NDUFA12            -0.389020            -0.389020            -0.389020   \n",
       "EXOSC10            -0.781191            -0.781191            -0.781191   \n",
       "ALOX15B            -0.104175            -0.104175            -0.104175   \n",
       "CACNB1             -0.412386            -0.412386            -0.412386   \n",
       "\n",
       "         SRP000599.SRR013555  SRP000599.SRR013556  SRP000599.SRR013557  \\\n",
       "S1PR5              -0.266852            -0.266852            -0.266852   \n",
       "NDUFA12            -0.389020            -0.389020            -0.389020   \n",
       "EXOSC10            -0.781191            -0.781191            -0.781191   \n",
       "ALOX15B            -0.104175            -0.104175            -0.104175   \n",
       "CACNB1             -0.412386            -0.412386            -0.412386   \n",
       "\n",
       "         SRP000599.SRR013558  ...  SRP035599.SRR1139372  SRP035599.SRR1139393  \\\n",
       "S1PR5              -0.266852  ...             -0.266852             -0.266852   \n",
       "NDUFA12            -0.389020  ...              0.264052              0.141801   \n",
       "EXOSC10            -0.781191  ...             -0.151619             -0.190753   \n",
       "ALOX15B            -0.104175  ...             -0.102583             -0.104175   \n",
       "CACNB1             -0.412386  ...             -0.002829             -0.176210   \n",
       "\n",
       "         SRP035599.SRR1139388  SRP035599.SRR1139378  SRP035599.SRR1139399  \\\n",
       "S1PR5               -0.261464             -0.262521             -0.263571   \n",
       "NDUFA12             -0.101283              0.016574              0.054545   \n",
       "EXOSC10             -0.263083              0.006409             -0.090697   \n",
       "ALOX15B             -0.104175             -0.090938             -0.104175   \n",
       "CACNB1              -0.124728             -0.034000             -0.170579   \n",
       "\n",
       "         SRP035599.SRR1139386  SRP035599.SRR1139375  SRP035599.SRR1139382  \\\n",
       "S1PR5               -0.232207             -0.263313             -0.263926   \n",
       "NDUFA12              0.109291             -0.080455             -0.039797   \n",
       "EXOSC10             -0.196750             -0.039938              0.155149   \n",
       "ALOX15B             -0.091455             -0.097841             -0.097053   \n",
       "CACNB1              -0.134903             -0.050322             -0.160912   \n",
       "\n",
       "         SRP035599.SRR1139356  SRP035599.SRR1139370  \n",
       "S1PR5               -0.266852             -0.266852  \n",
       "NDUFA12             -0.171493             -0.039619  \n",
       "EXOSC10              0.076707              0.201055  \n",
       "ALOX15B             -0.098525             -0.102490  \n",
       "CACNB1              -0.034017             -0.001866  \n",
       "\n",
       "[5 rows x 37032 columns]"
      ]
     },
     "execution_count": 12,
     "metadata": {},
     "output_type": "execute_result"
    }
   ],
   "source": [
    "test_data.head()"
   ]
  },
  {
   "cell_type": "markdown",
   "id": "5903f3f5-791e-4f03-9d79-600102933d04",
   "metadata": {
    "papermill": {
     "duration": 0.01494,
     "end_time": "2021-09-18T13:10:10.614960",
     "exception": false,
     "start_time": "2021-09-18T13:10:10.600020",
     "status": "completed"
    },
    "tags": []
   },
   "source": [
    "This is a quick performance test of the correlation measure. The following line (`_tmp = ...`) is the setup code, which is needed in case the correlation method was optimized using `numba` and needs to be compiled before performing the test."
   ]
  },
  {
   "cell_type": "code",
   "execution_count": 13,
   "id": "118a6631-1cfd-44a3-bd85-5ec7118edd03",
   "metadata": {
    "execution": {
     "iopub.execute_input": "2021-09-18T13:10:10.649453Z",
     "iopub.status.busy": "2021-09-18T13:10:10.648978Z",
     "iopub.status.idle": "2021-09-18T13:10:27.322495Z",
     "shell.execute_reply": "2021-09-18T13:10:27.322033Z"
    },
    "papermill": {
     "duration": 16.692306,
     "end_time": "2021-09-18T13:10:27.322594",
     "exception": false,
     "start_time": "2021-09-18T13:10:10.630288",
     "status": "completed"
    },
    "tags": []
   },
   "outputs": [
    {
     "data": {
      "text/plain": [
       "(3, 3)"
      ]
     },
     "metadata": {},
     "output_type": "display_data"
    },
    {
     "data": {
      "text/html": [
       "<div>\n",
       "<style scoped>\n",
       "    .dataframe tbody tr th:only-of-type {\n",
       "        vertical-align: middle;\n",
       "    }\n",
       "\n",
       "    .dataframe tbody tr th {\n",
       "        vertical-align: top;\n",
       "    }\n",
       "\n",
       "    .dataframe thead th {\n",
       "        text-align: right;\n",
       "    }\n",
       "</style>\n",
       "<table border=\"1\" class=\"dataframe\">\n",
       "  <thead>\n",
       "    <tr style=\"text-align: right;\">\n",
       "      <th></th>\n",
       "      <th>S1PR5</th>\n",
       "      <th>NDUFA12</th>\n",
       "      <th>EXOSC10</th>\n",
       "    </tr>\n",
       "  </thead>\n",
       "  <tbody>\n",
       "    <tr>\n",
       "      <th>S1PR5</th>\n",
       "      <td>1.000000</td>\n",
       "      <td>0.003439</td>\n",
       "      <td>0.047912</td>\n",
       "    </tr>\n",
       "    <tr>\n",
       "      <th>NDUFA12</th>\n",
       "      <td>0.003439</td>\n",
       "      <td>1.000000</td>\n",
       "      <td>0.082032</td>\n",
       "    </tr>\n",
       "    <tr>\n",
       "      <th>EXOSC10</th>\n",
       "      <td>0.047912</td>\n",
       "      <td>0.082032</td>\n",
       "      <td>1.000000</td>\n",
       "    </tr>\n",
       "  </tbody>\n",
       "</table>\n",
       "</div>"
      ],
      "text/plain": [
       "            S1PR5   NDUFA12   EXOSC10\n",
       "S1PR5    1.000000  0.003439  0.047912\n",
       "NDUFA12  0.003439  1.000000  0.082032\n",
       "EXOSC10  0.047912  0.082032  1.000000"
      ]
     },
     "metadata": {},
     "output_type": "display_data"
    }
   ],
   "source": [
    "_tmp = CORRELATION_METHOD(test_data.iloc[:3])\n",
    "\n",
    "display(_tmp.shape)\n",
    "display(_tmp)"
   ]
  },
  {
   "cell_type": "code",
   "execution_count": 14,
   "id": "d32281d8-f640-4f87-a1d5-aefa0757e9c3",
   "metadata": {
    "execution": {
     "iopub.execute_input": "2021-09-18T13:10:27.359935Z",
     "iopub.status.busy": "2021-09-18T13:10:27.359441Z",
     "iopub.status.idle": "2021-09-18T13:21:24.656061Z",
     "shell.execute_reply": "2021-09-18T13:21:24.656410Z"
    },
    "papermill": {
     "duration": 657.317334,
     "end_time": "2021-09-18T13:21:24.656522",
     "exception": false,
     "start_time": "2021-09-18T13:10:27.339188",
     "status": "completed"
    },
    "tags": []
   },
   "outputs": [
    {
     "name": "stdout",
     "output_type": "stream",
     "text": [
      "1min 21s ± 78.5 ms per loop (mean ± std. dev. of 7 runs, 1 loop each)\n"
     ]
    }
   ],
   "source": [
    "%timeit CORRELATION_METHOD(test_data)"
   ]
  },
  {
   "cell_type": "markdown",
   "id": "fc2f7184-c0da-438c-94f5-002912793636",
   "metadata": {
    "papermill": {
     "duration": 0.026249,
     "end_time": "2021-09-18T13:21:25.593056",
     "exception": false,
     "start_time": "2021-09-18T13:21:25.566807",
     "status": "completed"
    },
    "tags": []
   },
   "source": [
    "## Run"
   ]
  },
  {
   "cell_type": "code",
   "execution_count": 15,
   "id": "189b0295-f968-42b2-9377-a6c404182b01",
   "metadata": {
    "execution": {
     "iopub.execute_input": "2021-09-18T13:23:37.373017Z",
     "iopub.status.busy": "2021-09-18T13:23:37.320654Z",
     "iopub.status.idle": "2021-09-18T17:08:06.011711Z",
     "shell.execute_reply": "2021-09-18T17:08:06.012111Z"
    },
    "papermill": {
     "duration": 13600.399175,
     "end_time": "2021-09-18T17:08:06.012243",
     "exception": false,
     "start_time": "2021-09-18T13:21:25.613068",
     "status": "completed"
    },
    "tags": []
   },
   "outputs": [],
   "source": [
    "# compute correlations\n",
    "data_corrs = CORRELATION_METHOD(data)"
   ]
  },
  {
   "cell_type": "code",
   "execution_count": 16,
   "id": "bd93f2d7-d1fe-46c5-9a8c-92cac91ef7c6",
   "metadata": {
    "execution": {
     "iopub.execute_input": "2021-09-18T17:08:06.050678Z",
     "iopub.status.busy": "2021-09-18T17:08:06.050185Z",
     "iopub.status.idle": "2021-09-18T17:08:06.052423Z",
     "shell.execute_reply": "2021-09-18T17:08:06.052788Z"
    },
    "papermill": {
     "duration": 0.022496,
     "end_time": "2021-09-18T17:08:06.052904",
     "exception": false,
     "start_time": "2021-09-18T17:08:06.030408",
     "status": "completed"
    },
    "tags": []
   },
   "outputs": [
    {
     "data": {
      "text/plain": [
       "(6750, 6750)"
      ]
     },
     "metadata": {},
     "output_type": "display_data"
    }
   ],
   "source": [
    "display(data_corrs.shape)\n",
    "\n",
    "assert data.shape[0] == data_corrs.shape[0]"
   ]
  },
  {
   "cell_type": "code",
   "execution_count": 17,
   "id": "da4f952a-539d-4007-bbfb-a57e426fb68a",
   "metadata": {
    "execution": {
     "iopub.execute_input": "2021-09-18T17:08:06.104257Z",
     "iopub.status.busy": "2021-09-18T17:08:06.103666Z",
     "iopub.status.idle": "2021-09-18T17:08:06.106523Z",
     "shell.execute_reply": "2021-09-18T17:08:06.106141Z"
    },
    "papermill": {
     "duration": 0.03681,
     "end_time": "2021-09-18T17:08:06.106620",
     "exception": false,
     "start_time": "2021-09-18T17:08:06.069810",
     "status": "completed"
    },
    "tags": []
   },
   "outputs": [
    {
     "data": {
      "text/html": [
       "<div>\n",
       "<style scoped>\n",
       "    .dataframe tbody tr th:only-of-type {\n",
       "        vertical-align: middle;\n",
       "    }\n",
       "\n",
       "    .dataframe tbody tr th {\n",
       "        vertical-align: top;\n",
       "    }\n",
       "\n",
       "    .dataframe thead th {\n",
       "        text-align: right;\n",
       "    }\n",
       "</style>\n",
       "<table border=\"1\" class=\"dataframe\">\n",
       "  <thead>\n",
       "    <tr style=\"text-align: right;\">\n",
       "      <th></th>\n",
       "      <th>GAS6</th>\n",
       "      <th>MMP14</th>\n",
       "      <th>DSP</th>\n",
       "      <th>MARCKSL1</th>\n",
       "      <th>SPARC</th>\n",
       "      <th>CTSD</th>\n",
       "      <th>EPAS1</th>\n",
       "      <th>PALLD</th>\n",
       "      <th>PHC2</th>\n",
       "      <th>LGALS3BP</th>\n",
       "      <th>...</th>\n",
       "      <th>LDHB</th>\n",
       "      <th>LDHC</th>\n",
       "      <th>ACAP2</th>\n",
       "      <th>ACAP3</th>\n",
       "      <th>CFL2</th>\n",
       "      <th>CFL1</th>\n",
       "      <th>NFIB</th>\n",
       "      <th>PLEKHG6</th>\n",
       "      <th>GNGT2</th>\n",
       "      <th>SERPINH1</th>\n",
       "    </tr>\n",
       "  </thead>\n",
       "  <tbody>\n",
       "    <tr>\n",
       "      <th>GAS6</th>\n",
       "      <td>1.000000</td>\n",
       "      <td>0.359879</td>\n",
       "      <td>0.161606</td>\n",
       "      <td>0.069152</td>\n",
       "      <td>0.179718</td>\n",
       "      <td>0.241732</td>\n",
       "      <td>0.273178</td>\n",
       "      <td>0.240247</td>\n",
       "      <td>0.222990</td>\n",
       "      <td>0.220751</td>\n",
       "      <td>...</td>\n",
       "      <td>0.008947</td>\n",
       "      <td>0.065011</td>\n",
       "      <td>0.020923</td>\n",
       "      <td>0.244929</td>\n",
       "      <td>0.129664</td>\n",
       "      <td>0.067795</td>\n",
       "      <td>0.106808</td>\n",
       "      <td>0.090599</td>\n",
       "      <td>0.099318</td>\n",
       "      <td>0.255519</td>\n",
       "    </tr>\n",
       "    <tr>\n",
       "      <th>MMP14</th>\n",
       "      <td>0.359879</td>\n",
       "      <td>1.000000</td>\n",
       "      <td>0.144209</td>\n",
       "      <td>0.060200</td>\n",
       "      <td>0.271937</td>\n",
       "      <td>0.192011</td>\n",
       "      <td>0.258037</td>\n",
       "      <td>0.207851</td>\n",
       "      <td>0.187494</td>\n",
       "      <td>0.193339</td>\n",
       "      <td>...</td>\n",
       "      <td>0.011178</td>\n",
       "      <td>0.075366</td>\n",
       "      <td>0.033851</td>\n",
       "      <td>0.134849</td>\n",
       "      <td>0.096144</td>\n",
       "      <td>0.051084</td>\n",
       "      <td>0.068585</td>\n",
       "      <td>0.110153</td>\n",
       "      <td>0.111159</td>\n",
       "      <td>0.264664</td>\n",
       "    </tr>\n",
       "    <tr>\n",
       "      <th>DSP</th>\n",
       "      <td>0.161606</td>\n",
       "      <td>0.144209</td>\n",
       "      <td>1.000000</td>\n",
       "      <td>0.042226</td>\n",
       "      <td>0.062718</td>\n",
       "      <td>0.048719</td>\n",
       "      <td>0.207457</td>\n",
       "      <td>0.277144</td>\n",
       "      <td>0.018145</td>\n",
       "      <td>0.147427</td>\n",
       "      <td>...</td>\n",
       "      <td>0.006362</td>\n",
       "      <td>0.060892</td>\n",
       "      <td>0.005772</td>\n",
       "      <td>0.027932</td>\n",
       "      <td>0.135008</td>\n",
       "      <td>0.003201</td>\n",
       "      <td>0.142329</td>\n",
       "      <td>0.143227</td>\n",
       "      <td>-0.000027</td>\n",
       "      <td>0.312919</td>\n",
       "    </tr>\n",
       "    <tr>\n",
       "      <th>MARCKSL1</th>\n",
       "      <td>0.069152</td>\n",
       "      <td>0.060200</td>\n",
       "      <td>0.042226</td>\n",
       "      <td>1.000000</td>\n",
       "      <td>0.041695</td>\n",
       "      <td>0.066842</td>\n",
       "      <td>0.021648</td>\n",
       "      <td>0.039905</td>\n",
       "      <td>0.100069</td>\n",
       "      <td>0.043523</td>\n",
       "      <td>...</td>\n",
       "      <td>0.099796</td>\n",
       "      <td>0.050160</td>\n",
       "      <td>0.036485</td>\n",
       "      <td>0.136520</td>\n",
       "      <td>0.028806</td>\n",
       "      <td>0.131773</td>\n",
       "      <td>0.021840</td>\n",
       "      <td>0.044066</td>\n",
       "      <td>0.057527</td>\n",
       "      <td>0.099114</td>\n",
       "    </tr>\n",
       "    <tr>\n",
       "      <th>SPARC</th>\n",
       "      <td>0.179718</td>\n",
       "      <td>0.271937</td>\n",
       "      <td>0.062718</td>\n",
       "      <td>0.041695</td>\n",
       "      <td>1.000000</td>\n",
       "      <td>0.067178</td>\n",
       "      <td>0.123818</td>\n",
       "      <td>0.169873</td>\n",
       "      <td>0.081537</td>\n",
       "      <td>0.117885</td>\n",
       "      <td>...</td>\n",
       "      <td>0.034611</td>\n",
       "      <td>0.033891</td>\n",
       "      <td>0.003140</td>\n",
       "      <td>0.040078</td>\n",
       "      <td>0.128344</td>\n",
       "      <td>0.009827</td>\n",
       "      <td>0.104421</td>\n",
       "      <td>0.013683</td>\n",
       "      <td>0.072254</td>\n",
       "      <td>0.136840</td>\n",
       "    </tr>\n",
       "  </tbody>\n",
       "</table>\n",
       "<p>5 rows × 6750 columns</p>\n",
       "</div>"
      ],
      "text/plain": [
       "              GAS6     MMP14       DSP  MARCKSL1     SPARC      CTSD  \\\n",
       "GAS6      1.000000  0.359879  0.161606  0.069152  0.179718  0.241732   \n",
       "MMP14     0.359879  1.000000  0.144209  0.060200  0.271937  0.192011   \n",
       "DSP       0.161606  0.144209  1.000000  0.042226  0.062718  0.048719   \n",
       "MARCKSL1  0.069152  0.060200  0.042226  1.000000  0.041695  0.066842   \n",
       "SPARC     0.179718  0.271937  0.062718  0.041695  1.000000  0.067178   \n",
       "\n",
       "             EPAS1     PALLD      PHC2  LGALS3BP  ...      LDHB      LDHC  \\\n",
       "GAS6      0.273178  0.240247  0.222990  0.220751  ...  0.008947  0.065011   \n",
       "MMP14     0.258037  0.207851  0.187494  0.193339  ...  0.011178  0.075366   \n",
       "DSP       0.207457  0.277144  0.018145  0.147427  ...  0.006362  0.060892   \n",
       "MARCKSL1  0.021648  0.039905  0.100069  0.043523  ...  0.099796  0.050160   \n",
       "SPARC     0.123818  0.169873  0.081537  0.117885  ...  0.034611  0.033891   \n",
       "\n",
       "             ACAP2     ACAP3      CFL2      CFL1      NFIB   PLEKHG6  \\\n",
       "GAS6      0.020923  0.244929  0.129664  0.067795  0.106808  0.090599   \n",
       "MMP14     0.033851  0.134849  0.096144  0.051084  0.068585  0.110153   \n",
       "DSP       0.005772  0.027932  0.135008  0.003201  0.142329  0.143227   \n",
       "MARCKSL1  0.036485  0.136520  0.028806  0.131773  0.021840  0.044066   \n",
       "SPARC     0.003140  0.040078  0.128344  0.009827  0.104421  0.013683   \n",
       "\n",
       "             GNGT2  SERPINH1  \n",
       "GAS6      0.099318  0.255519  \n",
       "MMP14     0.111159  0.264664  \n",
       "DSP      -0.000027  0.312919  \n",
       "MARCKSL1  0.057527  0.099114  \n",
       "SPARC     0.072254  0.136840  \n",
       "\n",
       "[5 rows x 6750 columns]"
      ]
     },
     "execution_count": 17,
     "metadata": {},
     "output_type": "execute_result"
    }
   ],
   "source": [
    "data_corrs.head()"
   ]
  },
  {
   "cell_type": "code",
   "execution_count": 18,
   "id": "31e811b1-4329-494b-9905-ee002b34f4b4",
   "metadata": {
    "execution": {
     "iopub.execute_input": "2021-09-18T17:08:06.145032Z",
     "iopub.status.busy": "2021-09-18T17:08:06.144327Z",
     "iopub.status.idle": "2021-09-18T17:08:06.147450Z",
     "shell.execute_reply": "2021-09-18T17:08:06.146988Z"
    },
    "papermill": {
     "duration": 0.023676,
     "end_time": "2021-09-18T17:08:06.147545",
     "exception": false,
     "start_time": "2021-09-18T17:08:06.123869",
     "status": "completed"
    },
    "tags": []
   },
   "outputs": [
    {
     "data": {
      "text/plain": [
       "PosixPath('/opt/data/results/recount2/similarity_matrices/recount_data_prep_PLIER-clustermatch_k2.pkl')"
      ]
     },
     "metadata": {},
     "output_type": "display_data"
    }
   ],
   "source": [
    "output_filename = OUTPUT_DIR / f\"{INPUT_FILE.stem}-{method_name}.pkl\"\n",
    "display(output_filename)"
   ]
  },
  {
   "cell_type": "code",
   "execution_count": 19,
   "id": "b3c49a1a-bdf4-4cf9-824d-0d5c0acf2b73",
   "metadata": {
    "execution": {
     "iopub.execute_input": "2021-09-18T17:08:06.186253Z",
     "iopub.status.busy": "2021-09-18T17:08:06.185770Z",
     "iopub.status.idle": "2021-09-18T17:08:06.374396Z",
     "shell.execute_reply": "2021-09-18T17:08:06.373928Z"
    },
    "papermill": {
     "duration": 0.208949,
     "end_time": "2021-09-18T17:08:06.374505",
     "exception": false,
     "start_time": "2021-09-18T17:08:06.165556",
     "status": "completed"
    },
    "tags": []
   },
   "outputs": [],
   "source": [
    "# save\n",
    "data_corrs.to_pickle(output_filename)"
   ]
  },
  {
   "cell_type": "code",
   "execution_count": null,
   "id": "258babdf-03ce-4450-ab22-7a3d75bf6869",
   "metadata": {
    "papermill": {
     "duration": 0.017418,
     "end_time": "2021-09-18T17:08:06.410397",
     "exception": false,
     "start_time": "2021-09-18T17:08:06.392979",
     "status": "completed"
    },
    "tags": []
   },
   "outputs": [],
   "source": []
  }
 ],
 "metadata": {
  "jupytext": {
   "cell_metadata_filter": "all,-execution,-papermill,-trusted"
  },
  "kernelspec": {
   "display_name": "Python 3 (ipykernel)",
   "language": "python",
   "name": "python3"
  },
  "language_info": {
   "codemirror_mode": {
    "name": "ipython",
    "version": 3
   },
   "file_extension": ".py",
   "mimetype": "text/x-python",
   "name": "python",
   "nbconvert_exporter": "python",
   "pygments_lexer": "ipython3",
   "version": "3.9.7"
  },
  "papermill": {
   "default_parameters": {},
   "duration": 14290.843341,
   "end_time": "2021-09-18T17:08:09.261188",
   "environment_variables": {},
   "exception": null,
   "input_path": "nbs/10_compute_correlations/10_recount2/07-recount2-clustermatch_k2.ipynb",
   "output_path": "nbs/10_compute_correlations/10_recount2/07-recount2-clustermatch_k2.run.ipynb",
   "parameters": {},
   "start_time": "2021-09-18T13:09:58.417847",
   "version": "2.3.3"
  },
  "toc-autonumbering": true
 },
 "nbformat": 4,
 "nbformat_minor": 5
}
