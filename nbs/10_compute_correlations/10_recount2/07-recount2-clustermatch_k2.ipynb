{
 "cells": [
  {
   "cell_type": "markdown",
   "id": "e9773a95-e8fd-4963-87a5-0c92299434d5",
   "metadata": {
    "papermill": {
     "duration": 0.043894,
     "end_time": "2021-09-12T23:46:25.623401",
     "exception": false,
     "start_time": "2021-09-12T23:46:25.579507",
     "status": "completed"
    },
    "tags": []
   },
   "source": [
    "# Description"
   ]
  },
  {
   "cell_type": "markdown",
   "id": "57f34c74-404d-4776-b547-e6acb2df75d7",
   "metadata": {
    "papermill": {
     "duration": 0.011422,
     "end_time": "2021-09-12T23:46:25.650864",
     "exception": false,
     "start_time": "2021-09-12T23:46:25.639442",
     "status": "completed"
    },
    "tags": []
   },
   "source": [
    "According to the settings specified below, this notebook:\n",
    " 1. reads all the data from one source (GTEx, recount2, etc) according to the gene selection method (`GENE_SELECTION_STRATEGY`),\n",
    " 2. runs a quick performance test using the correlation coefficient specified (`CORRELATION_METHOD`), and\n",
    " 3. computes the correlation matrix across all the genes using the correlation coefficient specified."
   ]
  },
  {
   "cell_type": "markdown",
   "id": "1d8fae6b-e623-46a6-aff6-d7849163c820",
   "metadata": {
    "papermill": {
     "duration": 0.012057,
     "end_time": "2021-09-12T23:46:25.674197",
     "exception": false,
     "start_time": "2021-09-12T23:46:25.662140",
     "status": "completed"
    },
    "tags": []
   },
   "source": [
    "# Modules"
   ]
  },
  {
   "cell_type": "code",
   "execution_count": 1,
   "id": "76729f0e-f742-495b-b676-d9d7b1539e10",
   "metadata": {
    "execution": {
     "iopub.execute_input": "2021-09-12T23:46:25.704477Z",
     "iopub.status.busy": "2021-09-12T23:46:25.704012Z",
     "iopub.status.idle": "2021-09-12T23:46:26.148037Z",
     "shell.execute_reply": "2021-09-12T23:46:26.147473Z"
    },
    "papermill": {
     "duration": 0.46234,
     "end_time": "2021-09-12T23:46:26.148173",
     "exception": false,
     "start_time": "2021-09-12T23:46:25.685833",
     "status": "completed"
    },
    "tags": []
   },
   "outputs": [],
   "source": [
    "import pandas as pd\n",
    "\n",
    "from clustermatch import conf\n",
    "from clustermatch.corr import clustermatch"
   ]
  },
  {
   "cell_type": "markdown",
   "id": "a6c3a546-9a49-45e7-9f17-fbdb5af4bfb6",
   "metadata": {
    "papermill": {
     "duration": 0.01123,
     "end_time": "2021-09-12T23:46:26.171160",
     "exception": false,
     "start_time": "2021-09-12T23:46:26.159930",
     "status": "completed"
    },
    "tags": []
   },
   "source": [
    "# Settings"
   ]
  },
  {
   "cell_type": "code",
   "execution_count": 2,
   "id": "56ff94d3-a230-4028-a71d-518ac109209b",
   "metadata": {
    "execution": {
     "iopub.execute_input": "2021-09-12T23:46:26.197572Z",
     "iopub.status.busy": "2021-09-12T23:46:26.197113Z",
     "iopub.status.idle": "2021-09-12T23:46:26.199183Z",
     "shell.execute_reply": "2021-09-12T23:46:26.198732Z"
    },
    "papermill": {
     "duration": 0.016652,
     "end_time": "2021-09-12T23:46:26.199277",
     "exception": false,
     "start_time": "2021-09-12T23:46:26.182625",
     "status": "completed"
    },
    "tags": []
   },
   "outputs": [],
   "source": [
    "# we don't have gene subsets for recount2\n",
    "# GENE_SELECTION_STRATEGY = \"var_raw\""
   ]
  },
  {
   "cell_type": "code",
   "execution_count": 3,
   "id": "8baf4209-ba56-4e3d-b60f-6ce2bb686159",
   "metadata": {
    "execution": {
     "iopub.execute_input": "2021-09-12T23:46:26.230143Z",
     "iopub.status.busy": "2021-09-12T23:46:26.229699Z",
     "iopub.status.idle": "2021-09-12T23:46:26.234160Z",
     "shell.execute_reply": "2021-09-12T23:46:26.233748Z"
    },
    "papermill": {
     "duration": 0.023268,
     "end_time": "2021-09-12T23:46:26.234257",
     "exception": false,
     "start_time": "2021-09-12T23:46:26.210989",
     "status": "completed"
    },
    "tags": []
   },
   "outputs": [
    {
     "data": {
      "text/plain": [
       "'clustermatch_k2to5'"
      ]
     },
     "metadata": {},
     "output_type": "display_data"
    }
   ],
   "source": [
    "def clustermatch_k2(data):\n",
    "    n_clusters = list(range(2, 2 + 1))\n",
    "    return clustermatch(data, internal_n_clusters=n_clusters)\n",
    "\n",
    "\n",
    "CORRELATION_METHOD = clustermatch_k2to5\n",
    "\n",
    "method_name = CORRELATION_METHOD.__name__\n",
    "display(method_name)"
   ]
  },
  {
   "cell_type": "code",
   "execution_count": 4,
   "id": "21a3e349-9a09-4d24-89e3-915fdbf08a81",
   "metadata": {
    "execution": {
     "iopub.execute_input": "2021-09-12T23:46:26.262198Z",
     "iopub.status.busy": "2021-09-12T23:46:26.261727Z",
     "iopub.status.idle": "2021-09-12T23:46:26.263277Z",
     "shell.execute_reply": "2021-09-12T23:46:26.263616Z"
    },
    "papermill": {
     "duration": 0.016815,
     "end_time": "2021-09-12T23:46:26.263733",
     "exception": false,
     "start_time": "2021-09-12T23:46:26.246918",
     "status": "completed"
    },
    "tags": []
   },
   "outputs": [],
   "source": [
    "PERFORMANCE_TEST_N_TOP_GENES = 500"
   ]
  },
  {
   "cell_type": "markdown",
   "id": "b0afcba9-5847-414e-b448-f0cd08ecd8ce",
   "metadata": {
    "papermill": {
     "duration": 0.012087,
     "end_time": "2021-09-12T23:46:26.288142",
     "exception": false,
     "start_time": "2021-09-12T23:46:26.276055",
     "status": "completed"
    },
    "tags": []
   },
   "source": [
    "# Paths"
   ]
  },
  {
   "cell_type": "code",
   "execution_count": 5,
   "id": "35760114-8560-4a0e-ad4f-2bee9104c63d",
   "metadata": {
    "execution": {
     "iopub.execute_input": "2021-09-12T23:46:26.316038Z",
     "iopub.status.busy": "2021-09-12T23:46:26.315511Z",
     "iopub.status.idle": "2021-09-12T23:46:26.317684Z",
     "shell.execute_reply": "2021-09-12T23:46:26.318046Z"
    },
    "papermill": {
     "duration": 0.017872,
     "end_time": "2021-09-12T23:46:26.318162",
     "exception": false,
     "start_time": "2021-09-12T23:46:26.300290",
     "status": "completed"
    },
    "tags": []
   },
   "outputs": [
    {
     "data": {
      "text/plain": [
       "PosixPath('/opt/data/data/recount2/recount_data_prep_PLIER.pkl')"
      ]
     },
     "metadata": {},
     "output_type": "display_data"
    }
   ],
   "source": [
    "INPUT_FILE = conf.RECOUNT2[\"DATA_FILE\"]\n",
    "display(INPUT_FILE)\n",
    "\n",
    "assert INPUT_FILE.exists()"
   ]
  },
  {
   "cell_type": "code",
   "execution_count": 6,
   "id": "f1418e81-4e77-4f67-b5ed-b29b797e31a0",
   "metadata": {
    "execution": {
     "iopub.execute_input": "2021-09-12T23:46:26.347557Z",
     "iopub.status.busy": "2021-09-12T23:46:26.346890Z",
     "iopub.status.idle": "2021-09-12T23:46:26.349352Z",
     "shell.execute_reply": "2021-09-12T23:46:26.349695Z"
    },
    "papermill": {
     "duration": 0.018919,
     "end_time": "2021-09-12T23:46:26.349812",
     "exception": false,
     "start_time": "2021-09-12T23:46:26.330893",
     "status": "completed"
    },
    "tags": []
   },
   "outputs": [
    {
     "data": {
      "text/plain": [
       "PosixPath('/opt/data/results/recount2/similarity_matrices')"
      ]
     },
     "metadata": {},
     "output_type": "display_data"
    }
   ],
   "source": [
    "OUTPUT_DIR = conf.RECOUNT2[\"SIMILARITY_MATRICES_DIR\"]\n",
    "OUTPUT_DIR.mkdir(parents=True, exist_ok=True)\n",
    "display(OUTPUT_DIR)"
   ]
  },
  {
   "cell_type": "markdown",
   "id": "5fdf8df6-eba0-4cf5-979c-3acd56a5ef3c",
   "metadata": {
    "papermill": {
     "duration": 0.012624,
     "end_time": "2021-09-12T23:46:26.375569",
     "exception": false,
     "start_time": "2021-09-12T23:46:26.362945",
     "status": "completed"
    },
    "tags": []
   },
   "source": [
    "# Data loading"
   ]
  },
  {
   "cell_type": "code",
   "execution_count": 7,
   "id": "596d25ed-4120-4bef-8984-a91ae6529ab5",
   "metadata": {
    "execution": {
     "iopub.execute_input": "2021-09-12T23:46:26.404662Z",
     "iopub.status.busy": "2021-09-12T23:46:26.404190Z",
     "iopub.status.idle": "2021-09-12T23:46:27.314021Z",
     "shell.execute_reply": "2021-09-12T23:46:27.313476Z"
    },
    "papermill": {
     "duration": 0.925735,
     "end_time": "2021-09-12T23:46:27.314135",
     "exception": false,
     "start_time": "2021-09-12T23:46:26.388400",
     "status": "completed"
    },
    "tags": []
   },
   "outputs": [],
   "source": [
    "data = pd.read_pickle(INPUT_FILE)"
   ]
  },
  {
   "cell_type": "code",
   "execution_count": 8,
   "id": "be8a23da-ea99-43a9-b684-fa645c1d1adc",
   "metadata": {
    "execution": {
     "iopub.execute_input": "2021-09-12T23:46:27.345890Z",
     "iopub.status.busy": "2021-09-12T23:46:27.345303Z",
     "iopub.status.idle": "2021-09-12T23:46:27.347835Z",
     "shell.execute_reply": "2021-09-12T23:46:27.347455Z"
    },
    "papermill": {
     "duration": 0.019188,
     "end_time": "2021-09-12T23:46:27.347945",
     "exception": false,
     "start_time": "2021-09-12T23:46:27.328757",
     "status": "completed"
    },
    "tags": []
   },
   "outputs": [
    {
     "data": {
      "text/plain": [
       "(6750, 37032)"
      ]
     },
     "execution_count": 8,
     "metadata": {},
     "output_type": "execute_result"
    }
   ],
   "source": [
    "data.shape"
   ]
  },
  {
   "cell_type": "code",
   "execution_count": 9,
   "id": "cd693523-4379-400a-a2d2-6b3f617421e6",
   "metadata": {
    "execution": {
     "iopub.execute_input": "2021-09-12T23:46:27.383379Z",
     "iopub.status.busy": "2021-09-12T23:46:27.382902Z",
     "iopub.status.idle": "2021-09-12T23:46:27.400293Z",
     "shell.execute_reply": "2021-09-12T23:46:27.399803Z"
    },
    "papermill": {
     "duration": 0.038309,
     "end_time": "2021-09-12T23:46:27.400387",
     "exception": false,
     "start_time": "2021-09-12T23:46:27.362078",
     "status": "completed"
    },
    "tags": []
   },
   "outputs": [
    {
     "data": {
      "text/html": [
       "<div>\n",
       "<style scoped>\n",
       "    .dataframe tbody tr th:only-of-type {\n",
       "        vertical-align: middle;\n",
       "    }\n",
       "\n",
       "    .dataframe tbody tr th {\n",
       "        vertical-align: top;\n",
       "    }\n",
       "\n",
       "    .dataframe thead th {\n",
       "        text-align: right;\n",
       "    }\n",
       "</style>\n",
       "<table border=\"1\" class=\"dataframe\">\n",
       "  <thead>\n",
       "    <tr style=\"text-align: right;\">\n",
       "      <th></th>\n",
       "      <th>SRP000599.SRR013549</th>\n",
       "      <th>SRP000599.SRR013550</th>\n",
       "      <th>SRP000599.SRR013551</th>\n",
       "      <th>SRP000599.SRR013552</th>\n",
       "      <th>SRP000599.SRR013553</th>\n",
       "      <th>SRP000599.SRR013554</th>\n",
       "      <th>SRP000599.SRR013555</th>\n",
       "      <th>SRP000599.SRR013556</th>\n",
       "      <th>SRP000599.SRR013557</th>\n",
       "      <th>SRP000599.SRR013558</th>\n",
       "      <th>...</th>\n",
       "      <th>SRP035599.SRR1139372</th>\n",
       "      <th>SRP035599.SRR1139393</th>\n",
       "      <th>SRP035599.SRR1139388</th>\n",
       "      <th>SRP035599.SRR1139378</th>\n",
       "      <th>SRP035599.SRR1139399</th>\n",
       "      <th>SRP035599.SRR1139386</th>\n",
       "      <th>SRP035599.SRR1139375</th>\n",
       "      <th>SRP035599.SRR1139382</th>\n",
       "      <th>SRP035599.SRR1139356</th>\n",
       "      <th>SRP035599.SRR1139370</th>\n",
       "    </tr>\n",
       "  </thead>\n",
       "  <tbody>\n",
       "    <tr>\n",
       "      <th>GAS6</th>\n",
       "      <td>-0.312500</td>\n",
       "      <td>-0.312931</td>\n",
       "      <td>-0.312931</td>\n",
       "      <td>-0.312931</td>\n",
       "      <td>-0.312931</td>\n",
       "      <td>-0.308253</td>\n",
       "      <td>-0.312931</td>\n",
       "      <td>-0.312931</td>\n",
       "      <td>-0.312931</td>\n",
       "      <td>-0.312931</td>\n",
       "      <td>...</td>\n",
       "      <td>-0.301711</td>\n",
       "      <td>-0.305581</td>\n",
       "      <td>-0.303344</td>\n",
       "      <td>-0.297800</td>\n",
       "      <td>-0.307122</td>\n",
       "      <td>-0.285499</td>\n",
       "      <td>-0.309599</td>\n",
       "      <td>-0.300220</td>\n",
       "      <td>-0.297667</td>\n",
       "      <td>-0.310151</td>\n",
       "    </tr>\n",
       "    <tr>\n",
       "      <th>MMP14</th>\n",
       "      <td>-0.328279</td>\n",
       "      <td>-0.328279</td>\n",
       "      <td>-0.328279</td>\n",
       "      <td>-0.328279</td>\n",
       "      <td>-0.328279</td>\n",
       "      <td>-0.328279</td>\n",
       "      <td>-0.328279</td>\n",
       "      <td>-0.328279</td>\n",
       "      <td>-0.328279</td>\n",
       "      <td>-0.325140</td>\n",
       "      <td>...</td>\n",
       "      <td>-0.314587</td>\n",
       "      <td>-0.322952</td>\n",
       "      <td>-0.326439</td>\n",
       "      <td>-0.325994</td>\n",
       "      <td>-0.326272</td>\n",
       "      <td>-0.322523</td>\n",
       "      <td>-0.326375</td>\n",
       "      <td>-0.326339</td>\n",
       "      <td>-0.322127</td>\n",
       "      <td>-0.327438</td>\n",
       "    </tr>\n",
       "    <tr>\n",
       "      <th>DSP</th>\n",
       "      <td>-0.286319</td>\n",
       "      <td>-0.286859</td>\n",
       "      <td>-0.286859</td>\n",
       "      <td>-0.286859</td>\n",
       "      <td>-0.286859</td>\n",
       "      <td>-0.286859</td>\n",
       "      <td>-0.277195</td>\n",
       "      <td>-0.256862</td>\n",
       "      <td>-0.278790</td>\n",
       "      <td>-0.269701</td>\n",
       "      <td>...</td>\n",
       "      <td>-0.286859</td>\n",
       "      <td>-0.286859</td>\n",
       "      <td>-0.286745</td>\n",
       "      <td>-0.286688</td>\n",
       "      <td>-0.286725</td>\n",
       "      <td>-0.286529</td>\n",
       "      <td>-0.286859</td>\n",
       "      <td>-0.286671</td>\n",
       "      <td>-0.286859</td>\n",
       "      <td>-0.286740</td>\n",
       "    </tr>\n",
       "    <tr>\n",
       "      <th>MARCKSL1</th>\n",
       "      <td>-0.536646</td>\n",
       "      <td>-0.536646</td>\n",
       "      <td>-0.536646</td>\n",
       "      <td>-0.536646</td>\n",
       "      <td>-0.536646</td>\n",
       "      <td>-0.536646</td>\n",
       "      <td>-0.536646</td>\n",
       "      <td>-0.536646</td>\n",
       "      <td>-0.536646</td>\n",
       "      <td>-0.536646</td>\n",
       "      <td>...</td>\n",
       "      <td>0.807663</td>\n",
       "      <td>1.294564</td>\n",
       "      <td>1.527655</td>\n",
       "      <td>1.404788</td>\n",
       "      <td>1.047931</td>\n",
       "      <td>0.892119</td>\n",
       "      <td>1.507099</td>\n",
       "      <td>2.458255</td>\n",
       "      <td>2.919662</td>\n",
       "      <td>1.410846</td>\n",
       "    </tr>\n",
       "    <tr>\n",
       "      <th>SPARC</th>\n",
       "      <td>-0.370498</td>\n",
       "      <td>-0.370498</td>\n",
       "      <td>-0.369171</td>\n",
       "      <td>-0.370498</td>\n",
       "      <td>-0.370498</td>\n",
       "      <td>-0.370498</td>\n",
       "      <td>-0.370498</td>\n",
       "      <td>-0.370498</td>\n",
       "      <td>-0.370498</td>\n",
       "      <td>-0.370498</td>\n",
       "      <td>...</td>\n",
       "      <td>-0.345409</td>\n",
       "      <td>-0.310750</td>\n",
       "      <td>-0.348120</td>\n",
       "      <td>-0.356938</td>\n",
       "      <td>-0.355206</td>\n",
       "      <td>-0.366197</td>\n",
       "      <td>-0.351174</td>\n",
       "      <td>-0.363703</td>\n",
       "      <td>-0.350825</td>\n",
       "      <td>-0.360762</td>\n",
       "    </tr>\n",
       "  </tbody>\n",
       "</table>\n",
       "<p>5 rows × 37032 columns</p>\n",
       "</div>"
      ],
      "text/plain": [
       "          SRP000599.SRR013549  SRP000599.SRR013550  SRP000599.SRR013551  \\\n",
       "GAS6                -0.312500            -0.312931            -0.312931   \n",
       "MMP14               -0.328279            -0.328279            -0.328279   \n",
       "DSP                 -0.286319            -0.286859            -0.286859   \n",
       "MARCKSL1            -0.536646            -0.536646            -0.536646   \n",
       "SPARC               -0.370498            -0.370498            -0.369171   \n",
       "\n",
       "          SRP000599.SRR013552  SRP000599.SRR013553  SRP000599.SRR013554  \\\n",
       "GAS6                -0.312931            -0.312931            -0.308253   \n",
       "MMP14               -0.328279            -0.328279            -0.328279   \n",
       "DSP                 -0.286859            -0.286859            -0.286859   \n",
       "MARCKSL1            -0.536646            -0.536646            -0.536646   \n",
       "SPARC               -0.370498            -0.370498            -0.370498   \n",
       "\n",
       "          SRP000599.SRR013555  SRP000599.SRR013556  SRP000599.SRR013557  \\\n",
       "GAS6                -0.312931            -0.312931            -0.312931   \n",
       "MMP14               -0.328279            -0.328279            -0.328279   \n",
       "DSP                 -0.277195            -0.256862            -0.278790   \n",
       "MARCKSL1            -0.536646            -0.536646            -0.536646   \n",
       "SPARC               -0.370498            -0.370498            -0.370498   \n",
       "\n",
       "          SRP000599.SRR013558  ...  SRP035599.SRR1139372  \\\n",
       "GAS6                -0.312931  ...             -0.301711   \n",
       "MMP14               -0.325140  ...             -0.314587   \n",
       "DSP                 -0.269701  ...             -0.286859   \n",
       "MARCKSL1            -0.536646  ...              0.807663   \n",
       "SPARC               -0.370498  ...             -0.345409   \n",
       "\n",
       "          SRP035599.SRR1139393  SRP035599.SRR1139388  SRP035599.SRR1139378  \\\n",
       "GAS6                 -0.305581             -0.303344             -0.297800   \n",
       "MMP14                -0.322952             -0.326439             -0.325994   \n",
       "DSP                  -0.286859             -0.286745             -0.286688   \n",
       "MARCKSL1              1.294564              1.527655              1.404788   \n",
       "SPARC                -0.310750             -0.348120             -0.356938   \n",
       "\n",
       "          SRP035599.SRR1139399  SRP035599.SRR1139386  SRP035599.SRR1139375  \\\n",
       "GAS6                 -0.307122             -0.285499             -0.309599   \n",
       "MMP14                -0.326272             -0.322523             -0.326375   \n",
       "DSP                  -0.286725             -0.286529             -0.286859   \n",
       "MARCKSL1              1.047931              0.892119              1.507099   \n",
       "SPARC                -0.355206             -0.366197             -0.351174   \n",
       "\n",
       "          SRP035599.SRR1139382  SRP035599.SRR1139356  SRP035599.SRR1139370  \n",
       "GAS6                 -0.300220             -0.297667             -0.310151  \n",
       "MMP14                -0.326339             -0.322127             -0.327438  \n",
       "DSP                  -0.286671             -0.286859             -0.286740  \n",
       "MARCKSL1              2.458255              2.919662              1.410846  \n",
       "SPARC                -0.363703             -0.350825             -0.360762  \n",
       "\n",
       "[5 rows x 37032 columns]"
      ]
     },
     "execution_count": 9,
     "metadata": {},
     "output_type": "execute_result"
    }
   ],
   "source": [
    "data.head()"
   ]
  },
  {
   "cell_type": "markdown",
   "id": "081da632-fd12-462a-9ae1-c0ceccf1bb5d",
   "metadata": {
    "papermill": {
     "duration": 0.013444,
     "end_time": "2021-09-12T23:46:27.427638",
     "exception": false,
     "start_time": "2021-09-12T23:46:27.414194",
     "status": "completed"
    },
    "tags": []
   },
   "source": [
    "# Compute similarity"
   ]
  },
  {
   "cell_type": "markdown",
   "id": "37137fff-2d3a-43d8-9bd5-d7c3284a97f5",
   "metadata": {
    "papermill": {
     "duration": 0.014974,
     "end_time": "2021-09-12T23:46:27.456244",
     "exception": false,
     "start_time": "2021-09-12T23:46:27.441270",
     "status": "completed"
    },
    "tags": []
   },
   "source": [
    "## Performance test"
   ]
  },
  {
   "cell_type": "code",
   "execution_count": 10,
   "id": "5dd40707-759f-4bf9-b8cc-84811b2dfe53",
   "metadata": {
    "execution": {
     "iopub.execute_input": "2021-09-12T23:46:27.640432Z",
     "iopub.status.busy": "2021-09-12T23:46:27.639628Z",
     "iopub.status.idle": "2021-09-12T23:46:27.642521Z",
     "shell.execute_reply": "2021-09-12T23:46:27.641796Z"
    },
    "papermill": {
     "duration": 0.170965,
     "end_time": "2021-09-12T23:46:27.642664",
     "exception": false,
     "start_time": "2021-09-12T23:46:27.471699",
     "status": "completed"
    },
    "tags": []
   },
   "outputs": [],
   "source": [
    "# select a subset of the genes\n",
    "test_data = data.sample(n=PERFORMANCE_TEST_N_TOP_GENES, random_state=0)"
   ]
  },
  {
   "cell_type": "code",
   "execution_count": 11,
   "id": "e8acd036-93f7-46c0-a1ee-8da0c2c24790",
   "metadata": {
    "execution": {
     "iopub.execute_input": "2021-09-12T23:46:27.684148Z",
     "iopub.status.busy": "2021-09-12T23:46:27.683562Z",
     "iopub.status.idle": "2021-09-12T23:46:27.685939Z",
     "shell.execute_reply": "2021-09-12T23:46:27.686403Z"
    },
    "papermill": {
     "duration": 0.024759,
     "end_time": "2021-09-12T23:46:27.686548",
     "exception": false,
     "start_time": "2021-09-12T23:46:27.661789",
     "status": "completed"
    },
    "tags": []
   },
   "outputs": [
    {
     "data": {
      "text/plain": [
       "(500, 37032)"
      ]
     },
     "execution_count": 11,
     "metadata": {},
     "output_type": "execute_result"
    }
   ],
   "source": [
    "test_data.shape"
   ]
  },
  {
   "cell_type": "code",
   "execution_count": 12,
   "id": "111e360b-dbe4-4b69-9029-7b7669eb5ddc",
   "metadata": {
    "execution": {
     "iopub.execute_input": "2021-09-12T23:46:27.727700Z",
     "iopub.status.busy": "2021-09-12T23:46:27.727220Z",
     "iopub.status.idle": "2021-09-12T23:46:27.743751Z",
     "shell.execute_reply": "2021-09-12T23:46:27.743336Z"
    },
    "papermill": {
     "duration": 0.039145,
     "end_time": "2021-09-12T23:46:27.743849",
     "exception": false,
     "start_time": "2021-09-12T23:46:27.704704",
     "status": "completed"
    },
    "tags": []
   },
   "outputs": [
    {
     "data": {
      "text/html": [
       "<div>\n",
       "<style scoped>\n",
       "    .dataframe tbody tr th:only-of-type {\n",
       "        vertical-align: middle;\n",
       "    }\n",
       "\n",
       "    .dataframe tbody tr th {\n",
       "        vertical-align: top;\n",
       "    }\n",
       "\n",
       "    .dataframe thead th {\n",
       "        text-align: right;\n",
       "    }\n",
       "</style>\n",
       "<table border=\"1\" class=\"dataframe\">\n",
       "  <thead>\n",
       "    <tr style=\"text-align: right;\">\n",
       "      <th></th>\n",
       "      <th>SRP000599.SRR013549</th>\n",
       "      <th>SRP000599.SRR013550</th>\n",
       "      <th>SRP000599.SRR013551</th>\n",
       "      <th>SRP000599.SRR013552</th>\n",
       "      <th>SRP000599.SRR013553</th>\n",
       "      <th>SRP000599.SRR013554</th>\n",
       "      <th>SRP000599.SRR013555</th>\n",
       "      <th>SRP000599.SRR013556</th>\n",
       "      <th>SRP000599.SRR013557</th>\n",
       "      <th>SRP000599.SRR013558</th>\n",
       "      <th>...</th>\n",
       "      <th>SRP035599.SRR1139372</th>\n",
       "      <th>SRP035599.SRR1139393</th>\n",
       "      <th>SRP035599.SRR1139388</th>\n",
       "      <th>SRP035599.SRR1139378</th>\n",
       "      <th>SRP035599.SRR1139399</th>\n",
       "      <th>SRP035599.SRR1139386</th>\n",
       "      <th>SRP035599.SRR1139375</th>\n",
       "      <th>SRP035599.SRR1139382</th>\n",
       "      <th>SRP035599.SRR1139356</th>\n",
       "      <th>SRP035599.SRR1139370</th>\n",
       "    </tr>\n",
       "  </thead>\n",
       "  <tbody>\n",
       "    <tr>\n",
       "      <th>S1PR5</th>\n",
       "      <td>-0.266852</td>\n",
       "      <td>-0.266852</td>\n",
       "      <td>-0.266852</td>\n",
       "      <td>-0.266852</td>\n",
       "      <td>-0.266852</td>\n",
       "      <td>-0.266852</td>\n",
       "      <td>-0.266852</td>\n",
       "      <td>-0.266852</td>\n",
       "      <td>-0.266852</td>\n",
       "      <td>-0.266852</td>\n",
       "      <td>...</td>\n",
       "      <td>-0.266852</td>\n",
       "      <td>-0.266852</td>\n",
       "      <td>-0.261464</td>\n",
       "      <td>-0.262521</td>\n",
       "      <td>-0.263571</td>\n",
       "      <td>-0.232207</td>\n",
       "      <td>-0.263313</td>\n",
       "      <td>-0.263926</td>\n",
       "      <td>-0.266852</td>\n",
       "      <td>-0.266852</td>\n",
       "    </tr>\n",
       "    <tr>\n",
       "      <th>NDUFA12</th>\n",
       "      <td>-0.389020</td>\n",
       "      <td>-0.389020</td>\n",
       "      <td>-0.389020</td>\n",
       "      <td>-0.389020</td>\n",
       "      <td>-0.389020</td>\n",
       "      <td>-0.389020</td>\n",
       "      <td>-0.389020</td>\n",
       "      <td>-0.389020</td>\n",
       "      <td>-0.389020</td>\n",
       "      <td>-0.389020</td>\n",
       "      <td>...</td>\n",
       "      <td>0.264052</td>\n",
       "      <td>0.141801</td>\n",
       "      <td>-0.101283</td>\n",
       "      <td>0.016574</td>\n",
       "      <td>0.054545</td>\n",
       "      <td>0.109291</td>\n",
       "      <td>-0.080455</td>\n",
       "      <td>-0.039797</td>\n",
       "      <td>-0.171493</td>\n",
       "      <td>-0.039619</td>\n",
       "    </tr>\n",
       "    <tr>\n",
       "      <th>EXOSC10</th>\n",
       "      <td>-0.775256</td>\n",
       "      <td>-0.781191</td>\n",
       "      <td>-0.781191</td>\n",
       "      <td>-0.781191</td>\n",
       "      <td>-0.781191</td>\n",
       "      <td>-0.781191</td>\n",
       "      <td>-0.781191</td>\n",
       "      <td>-0.781191</td>\n",
       "      <td>-0.781191</td>\n",
       "      <td>-0.781191</td>\n",
       "      <td>...</td>\n",
       "      <td>-0.151619</td>\n",
       "      <td>-0.190753</td>\n",
       "      <td>-0.263083</td>\n",
       "      <td>0.006409</td>\n",
       "      <td>-0.090697</td>\n",
       "      <td>-0.196750</td>\n",
       "      <td>-0.039938</td>\n",
       "      <td>0.155149</td>\n",
       "      <td>0.076707</td>\n",
       "      <td>0.201055</td>\n",
       "    </tr>\n",
       "    <tr>\n",
       "      <th>ALOX15B</th>\n",
       "      <td>-0.104175</td>\n",
       "      <td>-0.104175</td>\n",
       "      <td>-0.104175</td>\n",
       "      <td>-0.104175</td>\n",
       "      <td>-0.104175</td>\n",
       "      <td>-0.104175</td>\n",
       "      <td>-0.104175</td>\n",
       "      <td>-0.104175</td>\n",
       "      <td>-0.104175</td>\n",
       "      <td>-0.104175</td>\n",
       "      <td>...</td>\n",
       "      <td>-0.102583</td>\n",
       "      <td>-0.104175</td>\n",
       "      <td>-0.104175</td>\n",
       "      <td>-0.090938</td>\n",
       "      <td>-0.104175</td>\n",
       "      <td>-0.091455</td>\n",
       "      <td>-0.097841</td>\n",
       "      <td>-0.097053</td>\n",
       "      <td>-0.098525</td>\n",
       "      <td>-0.102490</td>\n",
       "    </tr>\n",
       "    <tr>\n",
       "      <th>CACNB1</th>\n",
       "      <td>-0.412386</td>\n",
       "      <td>-0.412386</td>\n",
       "      <td>-0.412386</td>\n",
       "      <td>-0.412386</td>\n",
       "      <td>-0.412386</td>\n",
       "      <td>-0.412386</td>\n",
       "      <td>-0.412386</td>\n",
       "      <td>-0.412386</td>\n",
       "      <td>-0.412386</td>\n",
       "      <td>-0.412386</td>\n",
       "      <td>...</td>\n",
       "      <td>-0.002829</td>\n",
       "      <td>-0.176210</td>\n",
       "      <td>-0.124728</td>\n",
       "      <td>-0.034000</td>\n",
       "      <td>-0.170579</td>\n",
       "      <td>-0.134903</td>\n",
       "      <td>-0.050322</td>\n",
       "      <td>-0.160912</td>\n",
       "      <td>-0.034017</td>\n",
       "      <td>-0.001866</td>\n",
       "    </tr>\n",
       "  </tbody>\n",
       "</table>\n",
       "<p>5 rows × 37032 columns</p>\n",
       "</div>"
      ],
      "text/plain": [
       "         SRP000599.SRR013549  SRP000599.SRR013550  SRP000599.SRR013551  \\\n",
       "S1PR5              -0.266852            -0.266852            -0.266852   \n",
       "NDUFA12            -0.389020            -0.389020            -0.389020   \n",
       "EXOSC10            -0.775256            -0.781191            -0.781191   \n",
       "ALOX15B            -0.104175            -0.104175            -0.104175   \n",
       "CACNB1             -0.412386            -0.412386            -0.412386   \n",
       "\n",
       "         SRP000599.SRR013552  SRP000599.SRR013553  SRP000599.SRR013554  \\\n",
       "S1PR5              -0.266852            -0.266852            -0.266852   \n",
       "NDUFA12            -0.389020            -0.389020            -0.389020   \n",
       "EXOSC10            -0.781191            -0.781191            -0.781191   \n",
       "ALOX15B            -0.104175            -0.104175            -0.104175   \n",
       "CACNB1             -0.412386            -0.412386            -0.412386   \n",
       "\n",
       "         SRP000599.SRR013555  SRP000599.SRR013556  SRP000599.SRR013557  \\\n",
       "S1PR5              -0.266852            -0.266852            -0.266852   \n",
       "NDUFA12            -0.389020            -0.389020            -0.389020   \n",
       "EXOSC10            -0.781191            -0.781191            -0.781191   \n",
       "ALOX15B            -0.104175            -0.104175            -0.104175   \n",
       "CACNB1             -0.412386            -0.412386            -0.412386   \n",
       "\n",
       "         SRP000599.SRR013558  ...  SRP035599.SRR1139372  SRP035599.SRR1139393  \\\n",
       "S1PR5              -0.266852  ...             -0.266852             -0.266852   \n",
       "NDUFA12            -0.389020  ...              0.264052              0.141801   \n",
       "EXOSC10            -0.781191  ...             -0.151619             -0.190753   \n",
       "ALOX15B            -0.104175  ...             -0.102583             -0.104175   \n",
       "CACNB1             -0.412386  ...             -0.002829             -0.176210   \n",
       "\n",
       "         SRP035599.SRR1139388  SRP035599.SRR1139378  SRP035599.SRR1139399  \\\n",
       "S1PR5               -0.261464             -0.262521             -0.263571   \n",
       "NDUFA12             -0.101283              0.016574              0.054545   \n",
       "EXOSC10             -0.263083              0.006409             -0.090697   \n",
       "ALOX15B             -0.104175             -0.090938             -0.104175   \n",
       "CACNB1              -0.124728             -0.034000             -0.170579   \n",
       "\n",
       "         SRP035599.SRR1139386  SRP035599.SRR1139375  SRP035599.SRR1139382  \\\n",
       "S1PR5               -0.232207             -0.263313             -0.263926   \n",
       "NDUFA12              0.109291             -0.080455             -0.039797   \n",
       "EXOSC10             -0.196750             -0.039938              0.155149   \n",
       "ALOX15B             -0.091455             -0.097841             -0.097053   \n",
       "CACNB1              -0.134903             -0.050322             -0.160912   \n",
       "\n",
       "         SRP035599.SRR1139356  SRP035599.SRR1139370  \n",
       "S1PR5               -0.266852             -0.266852  \n",
       "NDUFA12             -0.171493             -0.039619  \n",
       "EXOSC10              0.076707              0.201055  \n",
       "ALOX15B             -0.098525             -0.102490  \n",
       "CACNB1              -0.034017             -0.001866  \n",
       "\n",
       "[5 rows x 37032 columns]"
      ]
     },
     "execution_count": 12,
     "metadata": {},
     "output_type": "execute_result"
    }
   ],
   "source": [
    "test_data.head()"
   ]
  },
  {
   "cell_type": "markdown",
   "id": "5903f3f5-791e-4f03-9d79-600102933d04",
   "metadata": {
    "papermill": {
     "duration": 0.014658,
     "end_time": "2021-09-12T23:46:27.773705",
     "exception": false,
     "start_time": "2021-09-12T23:46:27.759047",
     "status": "completed"
    },
    "tags": []
   },
   "source": [
    "This is a quick performance test of the correlation measure. The following line (`_tmp = ...`) is the setup code, which is needed in case the correlation method was optimized using `numba` and needs to be compiled before performing the test."
   ]
  },
  {
   "cell_type": "code",
   "execution_count": 13,
   "id": "118a6631-1cfd-44a3-bd85-5ec7118edd03",
   "metadata": {
    "execution": {
     "iopub.execute_input": "2021-09-12T23:46:27.807900Z",
     "iopub.status.busy": "2021-09-12T23:46:27.807411Z",
     "iopub.status.idle": "2021-09-12T23:46:44.457133Z",
     "shell.execute_reply": "2021-09-12T23:46:44.456750Z"
    },
    "papermill": {
     "duration": 16.669085,
     "end_time": "2021-09-12T23:46:44.457237",
     "exception": false,
     "start_time": "2021-09-12T23:46:27.788152",
     "status": "completed"
    },
    "tags": []
   },
   "outputs": [
    {
     "data": {
      "text/plain": [
       "(3, 3)"
      ]
     },
     "metadata": {},
     "output_type": "display_data"
    },
    {
     "data": {
      "text/html": [
       "<div>\n",
       "<style scoped>\n",
       "    .dataframe tbody tr th:only-of-type {\n",
       "        vertical-align: middle;\n",
       "    }\n",
       "\n",
       "    .dataframe tbody tr th {\n",
       "        vertical-align: top;\n",
       "    }\n",
       "\n",
       "    .dataframe thead th {\n",
       "        text-align: right;\n",
       "    }\n",
       "</style>\n",
       "<table border=\"1\" class=\"dataframe\">\n",
       "  <thead>\n",
       "    <tr style=\"text-align: right;\">\n",
       "      <th></th>\n",
       "      <th>S1PR5</th>\n",
       "      <th>NDUFA12</th>\n",
       "      <th>EXOSC10</th>\n",
       "    </tr>\n",
       "  </thead>\n",
       "  <tbody>\n",
       "    <tr>\n",
       "      <th>S1PR5</th>\n",
       "      <td>1.000000</td>\n",
       "      <td>0.090546</td>\n",
       "      <td>0.093235</td>\n",
       "    </tr>\n",
       "    <tr>\n",
       "      <th>NDUFA12</th>\n",
       "      <td>0.090546</td>\n",
       "      <td>1.000000</td>\n",
       "      <td>0.133762</td>\n",
       "    </tr>\n",
       "    <tr>\n",
       "      <th>EXOSC10</th>\n",
       "      <td>0.093235</td>\n",
       "      <td>0.133762</td>\n",
       "      <td>1.000000</td>\n",
       "    </tr>\n",
       "  </tbody>\n",
       "</table>\n",
       "</div>"
      ],
      "text/plain": [
       "            S1PR5   NDUFA12   EXOSC10\n",
       "S1PR5    1.000000  0.090546  0.093235\n",
       "NDUFA12  0.090546  1.000000  0.133762\n",
       "EXOSC10  0.093235  0.133762  1.000000"
      ]
     },
     "metadata": {},
     "output_type": "display_data"
    }
   ],
   "source": [
    "_tmp = CORRELATION_METHOD(test_data.iloc[:3])\n",
    "\n",
    "display(_tmp.shape)\n",
    "display(_tmp)"
   ]
  },
  {
   "cell_type": "code",
   "execution_count": 14,
   "id": "d32281d8-f640-4f87-a1d5-aefa0757e9c3",
   "metadata": {
    "execution": {
     "iopub.execute_input": "2021-09-12T23:46:44.492513Z",
     "iopub.status.busy": "2021-09-12T23:46:44.492049Z",
     "iopub.status.idle": "2021-09-13T03:11:59.938054Z",
     "shell.execute_reply": "2021-09-13T03:11:59.938402Z"
    },
    "papermill": {
     "duration": 12315.465655,
     "end_time": "2021-09-13T03:11:59.938515",
     "exception": false,
     "start_time": "2021-09-12T23:46:44.472860",
     "status": "completed"
    },
    "tags": []
   },
   "outputs": [
    {
     "name": "stdout",
     "output_type": "stream",
     "text": [
      "25min 39s ± 1.17 s per loop (mean ± std. dev. of 7 runs, 1 loop each)\n"
     ]
    }
   ],
   "source": [
    "%timeit CORRELATION_METHOD(test_data)"
   ]
  },
  {
   "cell_type": "markdown",
   "id": "fc2f7184-c0da-438c-94f5-002912793636",
   "metadata": {
    "papermill": {
     "duration": 0.049025,
     "end_time": "2021-09-13T03:12:00.891879",
     "exception": false,
     "start_time": "2021-09-13T03:12:00.842854",
     "status": "completed"
    },
    "tags": []
   },
   "source": [
    "## Run"
   ]
  },
  {
   "cell_type": "code",
   "execution_count": 15,
   "id": "189b0295-f968-42b2-9377-a6c404182b01",
   "metadata": {
    "execution": {
     "iopub.execute_input": "2021-09-13T03:20:54.170524Z",
     "iopub.status.busy": "2021-09-13T03:20:54.152645Z",
     "iopub.status.idle": "2021-09-16T07:57:22.192471Z",
     "shell.execute_reply": "2021-09-16T07:57:22.192015Z"
    },
    "papermill": {
     "duration": 276321.282857,
     "end_time": "2021-09-16T07:57:22.192568",
     "exception": false,
     "start_time": "2021-09-13T03:12:00.909711",
     "status": "completed"
    },
    "tags": []
   },
   "outputs": [],
   "source": [
    "# compute correlations\n",
    "data_corrs = CORRELATION_METHOD(data)"
   ]
  },
  {
   "cell_type": "code",
   "execution_count": 16,
   "id": "bd93f2d7-d1fe-46c5-9a8c-92cac91ef7c6",
   "metadata": {
    "execution": {
     "iopub.execute_input": "2021-09-16T07:57:22.227751Z",
     "iopub.status.busy": "2021-09-16T07:57:22.227149Z",
     "iopub.status.idle": "2021-09-16T07:57:22.230085Z",
     "shell.execute_reply": "2021-09-16T07:57:22.229685Z"
    },
    "papermill": {
     "duration": 0.021773,
     "end_time": "2021-09-16T07:57:22.230185",
     "exception": false,
     "start_time": "2021-09-16T07:57:22.208412",
     "status": "completed"
    },
    "tags": []
   },
   "outputs": [
    {
     "data": {
      "text/plain": [
       "(6750, 6750)"
      ]
     },
     "metadata": {},
     "output_type": "display_data"
    }
   ],
   "source": [
    "display(data_corrs.shape)\n",
    "\n",
    "assert data.shape[0] == data_corrs.shape[0]"
   ]
  },
  {
   "cell_type": "code",
   "execution_count": 17,
   "id": "da4f952a-539d-4007-bbfb-a57e426fb68a",
   "metadata": {
    "execution": {
     "iopub.execute_input": "2021-09-16T07:57:22.280592Z",
     "iopub.status.busy": "2021-09-16T07:57:22.279874Z",
     "iopub.status.idle": "2021-09-16T07:57:22.282360Z",
     "shell.execute_reply": "2021-09-16T07:57:22.282707Z"
    },
    "papermill": {
     "duration": 0.036168,
     "end_time": "2021-09-16T07:57:22.282829",
     "exception": false,
     "start_time": "2021-09-16T07:57:22.246661",
     "status": "completed"
    },
    "tags": []
   },
   "outputs": [
    {
     "data": {
      "text/html": [
       "<div>\n",
       "<style scoped>\n",
       "    .dataframe tbody tr th:only-of-type {\n",
       "        vertical-align: middle;\n",
       "    }\n",
       "\n",
       "    .dataframe tbody tr th {\n",
       "        vertical-align: top;\n",
       "    }\n",
       "\n",
       "    .dataframe thead th {\n",
       "        text-align: right;\n",
       "    }\n",
       "</style>\n",
       "<table border=\"1\" class=\"dataframe\">\n",
       "  <thead>\n",
       "    <tr style=\"text-align: right;\">\n",
       "      <th></th>\n",
       "      <th>GAS6</th>\n",
       "      <th>MMP14</th>\n",
       "      <th>DSP</th>\n",
       "      <th>MARCKSL1</th>\n",
       "      <th>SPARC</th>\n",
       "      <th>CTSD</th>\n",
       "      <th>EPAS1</th>\n",
       "      <th>PALLD</th>\n",
       "      <th>PHC2</th>\n",
       "      <th>LGALS3BP</th>\n",
       "      <th>...</th>\n",
       "      <th>LDHB</th>\n",
       "      <th>LDHC</th>\n",
       "      <th>ACAP2</th>\n",
       "      <th>ACAP3</th>\n",
       "      <th>CFL2</th>\n",
       "      <th>CFL1</th>\n",
       "      <th>NFIB</th>\n",
       "      <th>PLEKHG6</th>\n",
       "      <th>GNGT2</th>\n",
       "      <th>SERPINH1</th>\n",
       "    </tr>\n",
       "  </thead>\n",
       "  <tbody>\n",
       "    <tr>\n",
       "      <th>GAS6</th>\n",
       "      <td>1.000000</td>\n",
       "      <td>0.359879</td>\n",
       "      <td>0.161606</td>\n",
       "      <td>0.096449</td>\n",
       "      <td>0.179718</td>\n",
       "      <td>0.241732</td>\n",
       "      <td>0.273178</td>\n",
       "      <td>0.240247</td>\n",
       "      <td>0.222990</td>\n",
       "      <td>0.220751</td>\n",
       "      <td>...</td>\n",
       "      <td>0.059111</td>\n",
       "      <td>0.078427</td>\n",
       "      <td>0.108364</td>\n",
       "      <td>0.251818</td>\n",
       "      <td>0.129664</td>\n",
       "      <td>0.085054</td>\n",
       "      <td>0.106808</td>\n",
       "      <td>0.144849</td>\n",
       "      <td>0.115440</td>\n",
       "      <td>0.255519</td>\n",
       "    </tr>\n",
       "    <tr>\n",
       "      <th>MMP14</th>\n",
       "      <td>0.359879</td>\n",
       "      <td>1.000000</td>\n",
       "      <td>0.144209</td>\n",
       "      <td>0.078681</td>\n",
       "      <td>0.271937</td>\n",
       "      <td>0.192011</td>\n",
       "      <td>0.258037</td>\n",
       "      <td>0.207851</td>\n",
       "      <td>0.187494</td>\n",
       "      <td>0.193339</td>\n",
       "      <td>...</td>\n",
       "      <td>0.052428</td>\n",
       "      <td>0.079176</td>\n",
       "      <td>0.089386</td>\n",
       "      <td>0.165300</td>\n",
       "      <td>0.096144</td>\n",
       "      <td>0.079255</td>\n",
       "      <td>0.076691</td>\n",
       "      <td>0.144493</td>\n",
       "      <td>0.123675</td>\n",
       "      <td>0.264664</td>\n",
       "    </tr>\n",
       "    <tr>\n",
       "      <th>DSP</th>\n",
       "      <td>0.161606</td>\n",
       "      <td>0.144209</td>\n",
       "      <td>1.000000</td>\n",
       "      <td>0.058510</td>\n",
       "      <td>0.067755</td>\n",
       "      <td>0.067983</td>\n",
       "      <td>0.207457</td>\n",
       "      <td>0.277144</td>\n",
       "      <td>0.066032</td>\n",
       "      <td>0.147427</td>\n",
       "      <td>...</td>\n",
       "      <td>0.028790</td>\n",
       "      <td>0.068707</td>\n",
       "      <td>0.073084</td>\n",
       "      <td>0.084873</td>\n",
       "      <td>0.135008</td>\n",
       "      <td>0.031805</td>\n",
       "      <td>0.161311</td>\n",
       "      <td>0.151766</td>\n",
       "      <td>0.064669</td>\n",
       "      <td>0.312919</td>\n",
       "    </tr>\n",
       "    <tr>\n",
       "      <th>MARCKSL1</th>\n",
       "      <td>0.096449</td>\n",
       "      <td>0.078681</td>\n",
       "      <td>0.058510</td>\n",
       "      <td>1.000000</td>\n",
       "      <td>0.041695</td>\n",
       "      <td>0.101608</td>\n",
       "      <td>0.052736</td>\n",
       "      <td>0.068859</td>\n",
       "      <td>0.112262</td>\n",
       "      <td>0.077731</td>\n",
       "      <td>...</td>\n",
       "      <td>0.099796</td>\n",
       "      <td>0.064212</td>\n",
       "      <td>0.112536</td>\n",
       "      <td>0.140569</td>\n",
       "      <td>0.091698</td>\n",
       "      <td>0.131773</td>\n",
       "      <td>0.037773</td>\n",
       "      <td>0.089773</td>\n",
       "      <td>0.076254</td>\n",
       "      <td>0.108979</td>\n",
       "    </tr>\n",
       "    <tr>\n",
       "      <th>SPARC</th>\n",
       "      <td>0.179718</td>\n",
       "      <td>0.271937</td>\n",
       "      <td>0.067755</td>\n",
       "      <td>0.041695</td>\n",
       "      <td>1.000000</td>\n",
       "      <td>0.067178</td>\n",
       "      <td>0.123818</td>\n",
       "      <td>0.169873</td>\n",
       "      <td>0.081537</td>\n",
       "      <td>0.117885</td>\n",
       "      <td>...</td>\n",
       "      <td>0.053518</td>\n",
       "      <td>0.033891</td>\n",
       "      <td>0.049880</td>\n",
       "      <td>0.042892</td>\n",
       "      <td>0.128344</td>\n",
       "      <td>0.036825</td>\n",
       "      <td>0.104421</td>\n",
       "      <td>0.039843</td>\n",
       "      <td>0.090324</td>\n",
       "      <td>0.136840</td>\n",
       "    </tr>\n",
       "  </tbody>\n",
       "</table>\n",
       "<p>5 rows × 6750 columns</p>\n",
       "</div>"
      ],
      "text/plain": [
       "              GAS6     MMP14       DSP  MARCKSL1     SPARC      CTSD  \\\n",
       "GAS6      1.000000  0.359879  0.161606  0.096449  0.179718  0.241732   \n",
       "MMP14     0.359879  1.000000  0.144209  0.078681  0.271937  0.192011   \n",
       "DSP       0.161606  0.144209  1.000000  0.058510  0.067755  0.067983   \n",
       "MARCKSL1  0.096449  0.078681  0.058510  1.000000  0.041695  0.101608   \n",
       "SPARC     0.179718  0.271937  0.067755  0.041695  1.000000  0.067178   \n",
       "\n",
       "             EPAS1     PALLD      PHC2  LGALS3BP  ...      LDHB      LDHC  \\\n",
       "GAS6      0.273178  0.240247  0.222990  0.220751  ...  0.059111  0.078427   \n",
       "MMP14     0.258037  0.207851  0.187494  0.193339  ...  0.052428  0.079176   \n",
       "DSP       0.207457  0.277144  0.066032  0.147427  ...  0.028790  0.068707   \n",
       "MARCKSL1  0.052736  0.068859  0.112262  0.077731  ...  0.099796  0.064212   \n",
       "SPARC     0.123818  0.169873  0.081537  0.117885  ...  0.053518  0.033891   \n",
       "\n",
       "             ACAP2     ACAP3      CFL2      CFL1      NFIB   PLEKHG6  \\\n",
       "GAS6      0.108364  0.251818  0.129664  0.085054  0.106808  0.144849   \n",
       "MMP14     0.089386  0.165300  0.096144  0.079255  0.076691  0.144493   \n",
       "DSP       0.073084  0.084873  0.135008  0.031805  0.161311  0.151766   \n",
       "MARCKSL1  0.112536  0.140569  0.091698  0.131773  0.037773  0.089773   \n",
       "SPARC     0.049880  0.042892  0.128344  0.036825  0.104421  0.039843   \n",
       "\n",
       "             GNGT2  SERPINH1  \n",
       "GAS6      0.115440  0.255519  \n",
       "MMP14     0.123675  0.264664  \n",
       "DSP       0.064669  0.312919  \n",
       "MARCKSL1  0.076254  0.108979  \n",
       "SPARC     0.090324  0.136840  \n",
       "\n",
       "[5 rows x 6750 columns]"
      ]
     },
     "execution_count": 17,
     "metadata": {},
     "output_type": "execute_result"
    }
   ],
   "source": [
    "data_corrs.head()"
   ]
  },
  {
   "cell_type": "code",
   "execution_count": 18,
   "id": "31e811b1-4329-494b-9905-ee002b34f4b4",
   "metadata": {
    "execution": {
     "iopub.execute_input": "2021-09-16T07:57:22.320907Z",
     "iopub.status.busy": "2021-09-16T07:57:22.320266Z",
     "iopub.status.idle": "2021-09-16T07:57:22.322801Z",
     "shell.execute_reply": "2021-09-16T07:57:22.323159Z"
    },
    "papermill": {
     "duration": 0.02332,
     "end_time": "2021-09-16T07:57:22.323280",
     "exception": false,
     "start_time": "2021-09-16T07:57:22.299960",
     "status": "completed"
    },
    "tags": []
   },
   "outputs": [
    {
     "data": {
      "text/plain": [
       "PosixPath('/opt/data/results/recount2/similarity_matrices/recount_data_prep_PLIER-clustermatch_k2to5.pkl')"
      ]
     },
     "metadata": {},
     "output_type": "display_data"
    }
   ],
   "source": [
    "output_filename = OUTPUT_DIR / f\"{INPUT_FILE.stem}-{method_name}.pkl\"\n",
    "display(output_filename)"
   ]
  },
  {
   "cell_type": "code",
   "execution_count": 19,
   "id": "b3c49a1a-bdf4-4cf9-824d-0d5c0acf2b73",
   "metadata": {
    "execution": {
     "iopub.execute_input": "2021-09-16T07:57:22.361717Z",
     "iopub.status.busy": "2021-09-16T07:57:22.361274Z",
     "iopub.status.idle": "2021-09-16T07:57:22.599671Z",
     "shell.execute_reply": "2021-09-16T07:57:22.600056Z"
    },
    "papermill": {
     "duration": 0.258979,
     "end_time": "2021-09-16T07:57:22.600187",
     "exception": false,
     "start_time": "2021-09-16T07:57:22.341208",
     "status": "completed"
    },
    "tags": []
   },
   "outputs": [],
   "source": [
    "# save\n",
    "data_corrs.to_pickle(output_filename)"
   ]
  },
  {
   "cell_type": "code",
   "execution_count": null,
   "id": "258babdf-03ce-4450-ab22-7a3d75bf6869",
   "metadata": {
    "papermill": {
     "duration": 0.016929,
     "end_time": "2021-09-16T07:57:22.635033",
     "exception": false,
     "start_time": "2021-09-16T07:57:22.618104",
     "status": "completed"
    },
    "tags": []
   },
   "outputs": [],
   "source": []
  }
 ],
 "metadata": {
  "jupytext": {
   "cell_metadata_filter": "all,-execution,-papermill,-trusted"
  },
  "kernelspec": {
   "display_name": "Python 3 (ipykernel)",
   "language": "python",
   "name": "python3"
  },
  "language_info": {
   "codemirror_mode": {
    "name": "ipython",
    "version": 3
   },
   "file_extension": ".py",
   "mimetype": "text/x-python",
   "name": "python",
   "nbconvert_exporter": "python",
   "pygments_lexer": "ipython3",
   "version": "3.9.7"
  },
  "papermill": {
   "default_parameters": {},
   "duration": 288659.165844,
   "end_time": "2021-09-16T07:57:23.690254",
   "environment_variables": {},
   "exception": null,
   "input_path": "nbs/10_compute_correlations/10_recount2/07-recount2-clustermatch.ipynb",
   "output_path": "nbs/10_compute_correlations/10_recount2/07-recount2-clustermatch.run.ipynb",
   "parameters": {},
   "start_time": "2021-09-12T23:46:24.524410",
   "version": "2.3.3"
  },
  "toc-autonumbering": true
 },
 "nbformat": 4,
 "nbformat_minor": 5
}
