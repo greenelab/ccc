{
 "cells": [
  {
   "cell_type": "markdown",
   "id": "c1948eb4-fb63-4fad-8243-bcd57b98def3",
   "metadata": {
    "papermill": {
     "duration": 0.230644,
     "end_time": "2021-12-21T19:13:57.349489",
     "exception": false,
     "start_time": "2021-12-21T19:13:57.118845",
     "status": "completed"
    },
    "tags": []
   },
   "source": [
    "# Description"
   ]
  },
  {
   "cell_type": "markdown",
   "id": "0abb1d73-c786-4c6d-9dc2-b9243e5183e2",
   "metadata": {
    "papermill": {
     "duration": 0.208421,
     "end_time": "2021-12-21T19:13:57.758569",
     "exception": false,
     "start_time": "2021-12-21T19:13:57.550148",
     "status": "completed"
    },
    "tags": []
   },
   "source": [
    "It combines all coefficient values in one tissue (see `Settings` below) into a single dataframe for easier processing later."
   ]
  },
  {
   "cell_type": "markdown",
   "id": "d6252b4c-6d56-4cf0-aecd-5d8c769a3609",
   "metadata": {
    "papermill": {
     "duration": 0.293694,
     "end_time": "2021-12-21T19:13:58.302178",
     "exception": false,
     "start_time": "2021-12-21T19:13:58.008484",
     "status": "completed"
    },
    "tags": []
   },
   "source": [
    "# Modules loading"
   ]
  },
  {
   "cell_type": "code",
   "execution_count": 1,
   "id": "77e9d29d-5307-4b4a-b103-7d1fbd6a7e56",
   "metadata": {
    "papermill": {
     "duration": 0.687151,
     "end_time": "2021-12-21T19:13:59.188521",
     "exception": false,
     "start_time": "2021-12-21T19:13:58.501370",
     "status": "completed"
    },
    "tags": []
   },
   "outputs": [],
   "source": [
    "import numpy as np\n",
    "import pandas as pd\n",
    "\n",
    "from clustermatch import conf"
   ]
  },
  {
   "cell_type": "markdown",
   "id": "262eb535-3e5d-43d7-9efd-bd6cfdac9190",
   "metadata": {
    "papermill": {
     "duration": 0.262009,
     "end_time": "2021-12-21T19:13:59.686541",
     "exception": false,
     "start_time": "2021-12-21T19:13:59.424532",
     "status": "completed"
    },
    "tags": []
   },
   "source": [
    "# Settings"
   ]
  },
  {
   "cell_type": "code",
   "execution_count": 2,
   "id": "2d2bd14a-a40d-4710-98c2-587148d0f532",
   "metadata": {
    "papermill": {
     "duration": 0.249864,
     "end_time": "2021-12-21T19:14:00.192085",
     "exception": false,
     "start_time": "2021-12-21T19:13:59.942221",
     "status": "completed"
    },
    "tags": [
     "parameters"
    ]
   },
   "outputs": [],
   "source": [
    "DATASET_CONFIG = conf.RECOUNT2\n",
    "# GTEX_TISSUE = None\n",
    "GENE_SEL_STRATEGY = \"var_pc_log2\""
   ]
  },
  {
   "cell_type": "markdown",
   "id": "eec9bb6d-4ba2-4817-9b36-bc8e68a2beae",
   "metadata": {
    "papermill": {
     "duration": 0.287195,
     "end_time": "2021-12-21T19:14:01.621842",
     "exception": false,
     "start_time": "2021-12-21T19:14:01.334647",
     "status": "completed"
    },
    "tags": []
   },
   "source": [
    "# Paths"
   ]
  },
  {
   "cell_type": "code",
   "execution_count": 5,
   "id": "3c15c5b5-1b4f-456a-a548-8fc23e03f0ae",
   "metadata": {
    "papermill": {
     "duration": 0.344954,
     "end_time": "2021-12-21T19:14:02.306168",
     "exception": false,
     "start_time": "2021-12-21T19:14:01.961214",
     "status": "completed"
    },
    "tags": []
   },
   "outputs": [
    {
     "data": {
      "text/plain": [
       "PosixPath('/opt/data/data/recount2/recount_data_prep_PLIER.pkl')"
      ]
     },
     "metadata": {},
     "output_type": "display_data"
    }
   ],
   "source": [
    "INPUT_GENE_EXPR_DATA_FILE = conf.RECOUNT2[\"DATA_FILE\"]\n",
    "display(INPUT_GENE_EXPR_DATA_FILE)\n",
    "\n",
    "assert INPUT_GENE_EXPR_DATA_FILE.exists()"
   ]
  },
  {
   "cell_type": "code",
   "execution_count": 6,
   "id": "34c70f63-0878-4f29-9ea5-2570e6f9f33b",
   "metadata": {
    "papermill": {
     "duration": 0.326213,
     "end_time": "2021-12-21T19:14:02.942265",
     "exception": false,
     "start_time": "2021-12-21T19:14:02.616052",
     "status": "completed"
    },
    "tags": []
   },
   "outputs": [
    {
     "data": {
      "text/plain": [
       "PosixPath('/opt/data/results/recount2/similarity_matrices/recount_data_prep_PLIER-{corr_method}.pkl')"
      ]
     },
     "metadata": {},
     "output_type": "display_data"
    }
   ],
   "source": [
    "INPUT_CORR_FILE_TEMPLATE = (\n",
    "    DATASET_CONFIG[\"SIMILARITY_MATRICES_DIR\"]\n",
    "    / DATASET_CONFIG[\"SIMILARITY_MATRIX_FILENAME_TEMPLATE\"]\n",
    ")\n",
    "display(INPUT_CORR_FILE_TEMPLATE)"
   ]
  },
  {
   "cell_type": "code",
   "execution_count": 7,
   "id": "92b9bfd4",
   "metadata": {
    "papermill": {
     "duration": 0.278054,
     "end_time": "2021-12-21T19:14:03.454763",
     "exception": false,
     "start_time": "2021-12-21T19:14:03.176709",
     "status": "completed"
    },
    "tags": []
   },
   "outputs": [
    {
     "data": {
      "text/plain": [
       "PosixPath('/opt/data/results/recount2/similarity_matrices/recount_data_prep_PLIER-all.pkl')"
      ]
     },
     "metadata": {},
     "output_type": "display_data"
    }
   ],
   "source": [
    "OUTPUT_FILE = DATASET_CONFIG[\"SIMILARITY_MATRICES_DIR\"] / str(\n",
    "    INPUT_CORR_FILE_TEMPLATE\n",
    ").format(\n",
    "    corr_method=\"all\",\n",
    ")\n",
    "display(OUTPUT_FILE)"
   ]
  },
  {
   "cell_type": "markdown",
   "id": "e2746a93-d631-4346-9d10-a5c1f9f8de4a",
   "metadata": {
    "papermill": {
     "duration": 0.307821,
     "end_time": "2021-12-21T19:14:04.035162",
     "exception": false,
     "start_time": "2021-12-21T19:14:03.727341",
     "status": "completed"
    },
    "tags": []
   },
   "source": [
    "# Load data"
   ]
  },
  {
   "cell_type": "markdown",
   "id": "76ab9bbb-c93f-4154-b8ba-81934beb14bc",
   "metadata": {
    "papermill": {
     "duration": 0.234788,
     "end_time": "2021-12-21T19:14:04.530671",
     "exception": false,
     "start_time": "2021-12-21T19:14:04.295883",
     "status": "completed"
    },
    "tags": []
   },
   "source": [
    "## Gene Ensembl ID -> Symbol mapping"
   ]
  },
  {
   "cell_type": "code",
   "execution_count": null,
   "id": "39b30f9d-d55b-440b-bb27-d5dc32e43780",
   "metadata": {
    "papermill": {
     "duration": 0.271796,
     "end_time": "2021-12-21T19:14:05.026691",
     "exception": false,
     "start_time": "2021-12-21T19:14:04.754895",
     "status": "completed"
    },
    "tags": []
   },
   "outputs": [],
   "source": [
    "gene_map = pd.read_pickle(\n",
    "    DATASET_CONFIG[\"DATA_DIR\"] / \"gtex_gene_id_symbol_mappings.pkl\"\n",
    ")"
   ]
  },
  {
   "cell_type": "code",
   "execution_count": null,
   "id": "7a6eabb9-80c7-4711-84b1-b29d5d7adea6",
   "metadata": {
    "papermill": {
     "duration": 0.355698,
     "end_time": "2021-12-21T19:14:05.625799",
     "exception": false,
     "start_time": "2021-12-21T19:14:05.270101",
     "status": "completed"
    },
    "tags": []
   },
   "outputs": [],
   "source": [
    "gene_map = gene_map.set_index(\"gene_ens_id\")[\"gene_symbol\"].to_dict()"
   ]
  },
  {
   "cell_type": "code",
   "execution_count": null,
   "id": "e51b921d-0adf-4006-9602-d075f223c260",
   "metadata": {
    "papermill": {
     "duration": 0.256048,
     "end_time": "2021-12-21T19:14:06.213503",
     "exception": false,
     "start_time": "2021-12-21T19:14:05.957455",
     "status": "completed"
    },
    "tags": []
   },
   "outputs": [],
   "source": [
    "assert gene_map[\"ENSG00000145309.5\"] == \"CABS1\""
   ]
  },
  {
   "cell_type": "markdown",
   "id": "f4669dbd-b654-4090-8a72-aa6bf0a6053c",
   "metadata": {
    "papermill": {
     "duration": 0.196825,
     "end_time": "2021-12-21T19:14:06.604870",
     "exception": false,
     "start_time": "2021-12-21T19:14:06.408045",
     "status": "completed"
    },
    "tags": []
   },
   "source": [
    "## Gene expression"
   ]
  },
  {
   "cell_type": "code",
   "execution_count": 9,
   "id": "04690975-e95b-4fc9-ad3e-3d29e2a3ff5a",
   "metadata": {
    "papermill": {
     "duration": 0.227146,
     "end_time": "2021-12-21T19:14:07.024569",
     "exception": false,
     "start_time": "2021-12-21T19:14:06.797423",
     "status": "completed"
    },
    "tags": []
   },
   "outputs": [],
   "source": [
    "data = pd.read_pickle(INPUT_GENE_EXPR_DATA_FILE)"
   ]
  },
  {
   "cell_type": "code",
   "execution_count": 10,
   "id": "bebfab6c-9805-4cee-8fc3-be66cb45ade7",
   "metadata": {
    "papermill": {
     "duration": 0.252077,
     "end_time": "2021-12-21T19:14:07.516273",
     "exception": false,
     "start_time": "2021-12-21T19:14:07.264196",
     "status": "completed"
    },
    "tags": []
   },
   "outputs": [
    {
     "data": {
      "text/plain": [
       "(6750, 37032)"
      ]
     },
     "execution_count": 10,
     "metadata": {},
     "output_type": "execute_result"
    }
   ],
   "source": [
    "data.shape"
   ]
  },
  {
   "cell_type": "code",
   "execution_count": 11,
   "id": "20cdd83a-3bbb-4b7b-95a7-1095713af74c",
   "metadata": {
    "papermill": {
     "duration": 0.216398,
     "end_time": "2021-12-21T19:14:07.928755",
     "exception": false,
     "start_time": "2021-12-21T19:14:07.712357",
     "status": "completed"
    },
    "tags": []
   },
   "outputs": [
    {
     "data": {
      "text/html": [
       "<div>\n",
       "<style scoped>\n",
       "    .dataframe tbody tr th:only-of-type {\n",
       "        vertical-align: middle;\n",
       "    }\n",
       "\n",
       "    .dataframe tbody tr th {\n",
       "        vertical-align: top;\n",
       "    }\n",
       "\n",
       "    .dataframe thead th {\n",
       "        text-align: right;\n",
       "    }\n",
       "</style>\n",
       "<table border=\"1\" class=\"dataframe\">\n",
       "  <thead>\n",
       "    <tr style=\"text-align: right;\">\n",
       "      <th></th>\n",
       "      <th>SRP000599.SRR013549</th>\n",
       "      <th>SRP000599.SRR013550</th>\n",
       "      <th>SRP000599.SRR013551</th>\n",
       "      <th>SRP000599.SRR013552</th>\n",
       "      <th>SRP000599.SRR013553</th>\n",
       "      <th>SRP000599.SRR013554</th>\n",
       "      <th>SRP000599.SRR013555</th>\n",
       "      <th>SRP000599.SRR013556</th>\n",
       "      <th>SRP000599.SRR013557</th>\n",
       "      <th>SRP000599.SRR013558</th>\n",
       "      <th>...</th>\n",
       "      <th>SRP035599.SRR1139372</th>\n",
       "      <th>SRP035599.SRR1139393</th>\n",
       "      <th>SRP035599.SRR1139388</th>\n",
       "      <th>SRP035599.SRR1139378</th>\n",
       "      <th>SRP035599.SRR1139399</th>\n",
       "      <th>SRP035599.SRR1139386</th>\n",
       "      <th>SRP035599.SRR1139375</th>\n",
       "      <th>SRP035599.SRR1139382</th>\n",
       "      <th>SRP035599.SRR1139356</th>\n",
       "      <th>SRP035599.SRR1139370</th>\n",
       "    </tr>\n",
       "  </thead>\n",
       "  <tbody>\n",
       "    <tr>\n",
       "      <th>GAS6</th>\n",
       "      <td>-0.312500</td>\n",
       "      <td>-0.312931</td>\n",
       "      <td>-0.312931</td>\n",
       "      <td>-0.312931</td>\n",
       "      <td>-0.312931</td>\n",
       "      <td>-0.308253</td>\n",
       "      <td>-0.312931</td>\n",
       "      <td>-0.312931</td>\n",
       "      <td>-0.312931</td>\n",
       "      <td>-0.312931</td>\n",
       "      <td>...</td>\n",
       "      <td>-0.301711</td>\n",
       "      <td>-0.305581</td>\n",
       "      <td>-0.303344</td>\n",
       "      <td>-0.297800</td>\n",
       "      <td>-0.307122</td>\n",
       "      <td>-0.285499</td>\n",
       "      <td>-0.309599</td>\n",
       "      <td>-0.300220</td>\n",
       "      <td>-0.297667</td>\n",
       "      <td>-0.310151</td>\n",
       "    </tr>\n",
       "    <tr>\n",
       "      <th>MMP14</th>\n",
       "      <td>-0.328279</td>\n",
       "      <td>-0.328279</td>\n",
       "      <td>-0.328279</td>\n",
       "      <td>-0.328279</td>\n",
       "      <td>-0.328279</td>\n",
       "      <td>-0.328279</td>\n",
       "      <td>-0.328279</td>\n",
       "      <td>-0.328279</td>\n",
       "      <td>-0.328279</td>\n",
       "      <td>-0.325140</td>\n",
       "      <td>...</td>\n",
       "      <td>-0.314587</td>\n",
       "      <td>-0.322952</td>\n",
       "      <td>-0.326439</td>\n",
       "      <td>-0.325994</td>\n",
       "      <td>-0.326272</td>\n",
       "      <td>-0.322523</td>\n",
       "      <td>-0.326375</td>\n",
       "      <td>-0.326339</td>\n",
       "      <td>-0.322127</td>\n",
       "      <td>-0.327438</td>\n",
       "    </tr>\n",
       "    <tr>\n",
       "      <th>DSP</th>\n",
       "      <td>-0.286319</td>\n",
       "      <td>-0.286859</td>\n",
       "      <td>-0.286859</td>\n",
       "      <td>-0.286859</td>\n",
       "      <td>-0.286859</td>\n",
       "      <td>-0.286859</td>\n",
       "      <td>-0.277195</td>\n",
       "      <td>-0.256862</td>\n",
       "      <td>-0.278790</td>\n",
       "      <td>-0.269701</td>\n",
       "      <td>...</td>\n",
       "      <td>-0.286859</td>\n",
       "      <td>-0.286859</td>\n",
       "      <td>-0.286745</td>\n",
       "      <td>-0.286688</td>\n",
       "      <td>-0.286725</td>\n",
       "      <td>-0.286529</td>\n",
       "      <td>-0.286859</td>\n",
       "      <td>-0.286671</td>\n",
       "      <td>-0.286859</td>\n",
       "      <td>-0.286740</td>\n",
       "    </tr>\n",
       "    <tr>\n",
       "      <th>MARCKSL1</th>\n",
       "      <td>-0.536646</td>\n",
       "      <td>-0.536646</td>\n",
       "      <td>-0.536646</td>\n",
       "      <td>-0.536646</td>\n",
       "      <td>-0.536646</td>\n",
       "      <td>-0.536646</td>\n",
       "      <td>-0.536646</td>\n",
       "      <td>-0.536646</td>\n",
       "      <td>-0.536646</td>\n",
       "      <td>-0.536646</td>\n",
       "      <td>...</td>\n",
       "      <td>0.807663</td>\n",
       "      <td>1.294564</td>\n",
       "      <td>1.527655</td>\n",
       "      <td>1.404788</td>\n",
       "      <td>1.047931</td>\n",
       "      <td>0.892119</td>\n",
       "      <td>1.507099</td>\n",
       "      <td>2.458255</td>\n",
       "      <td>2.919662</td>\n",
       "      <td>1.410846</td>\n",
       "    </tr>\n",
       "    <tr>\n",
       "      <th>SPARC</th>\n",
       "      <td>-0.370498</td>\n",
       "      <td>-0.370498</td>\n",
       "      <td>-0.369171</td>\n",
       "      <td>-0.370498</td>\n",
       "      <td>-0.370498</td>\n",
       "      <td>-0.370498</td>\n",
       "      <td>-0.370498</td>\n",
       "      <td>-0.370498</td>\n",
       "      <td>-0.370498</td>\n",
       "      <td>-0.370498</td>\n",
       "      <td>...</td>\n",
       "      <td>-0.345409</td>\n",
       "      <td>-0.310750</td>\n",
       "      <td>-0.348120</td>\n",
       "      <td>-0.356938</td>\n",
       "      <td>-0.355206</td>\n",
       "      <td>-0.366197</td>\n",
       "      <td>-0.351174</td>\n",
       "      <td>-0.363703</td>\n",
       "      <td>-0.350825</td>\n",
       "      <td>-0.360762</td>\n",
       "    </tr>\n",
       "  </tbody>\n",
       "</table>\n",
       "<p>5 rows × 37032 columns</p>\n",
       "</div>"
      ],
      "text/plain": [
       "          SRP000599.SRR013549  SRP000599.SRR013550  SRP000599.SRR013551  \\\n",
       "GAS6                -0.312500            -0.312931            -0.312931   \n",
       "MMP14               -0.328279            -0.328279            -0.328279   \n",
       "DSP                 -0.286319            -0.286859            -0.286859   \n",
       "MARCKSL1            -0.536646            -0.536646            -0.536646   \n",
       "SPARC               -0.370498            -0.370498            -0.369171   \n",
       "\n",
       "          SRP000599.SRR013552  SRP000599.SRR013553  SRP000599.SRR013554  \\\n",
       "GAS6                -0.312931            -0.312931            -0.308253   \n",
       "MMP14               -0.328279            -0.328279            -0.328279   \n",
       "DSP                 -0.286859            -0.286859            -0.286859   \n",
       "MARCKSL1            -0.536646            -0.536646            -0.536646   \n",
       "SPARC               -0.370498            -0.370498            -0.370498   \n",
       "\n",
       "          SRP000599.SRR013555  SRP000599.SRR013556  SRP000599.SRR013557  \\\n",
       "GAS6                -0.312931            -0.312931            -0.312931   \n",
       "MMP14               -0.328279            -0.328279            -0.328279   \n",
       "DSP                 -0.277195            -0.256862            -0.278790   \n",
       "MARCKSL1            -0.536646            -0.536646            -0.536646   \n",
       "SPARC               -0.370498            -0.370498            -0.370498   \n",
       "\n",
       "          SRP000599.SRR013558  ...  SRP035599.SRR1139372  \\\n",
       "GAS6                -0.312931  ...             -0.301711   \n",
       "MMP14               -0.325140  ...             -0.314587   \n",
       "DSP                 -0.269701  ...             -0.286859   \n",
       "MARCKSL1            -0.536646  ...              0.807663   \n",
       "SPARC               -0.370498  ...             -0.345409   \n",
       "\n",
       "          SRP035599.SRR1139393  SRP035599.SRR1139388  SRP035599.SRR1139378  \\\n",
       "GAS6                 -0.305581             -0.303344             -0.297800   \n",
       "MMP14                -0.322952             -0.326439             -0.325994   \n",
       "DSP                  -0.286859             -0.286745             -0.286688   \n",
       "MARCKSL1              1.294564              1.527655              1.404788   \n",
       "SPARC                -0.310750             -0.348120             -0.356938   \n",
       "\n",
       "          SRP035599.SRR1139399  SRP035599.SRR1139386  SRP035599.SRR1139375  \\\n",
       "GAS6                 -0.307122             -0.285499             -0.309599   \n",
       "MMP14                -0.326272             -0.322523             -0.326375   \n",
       "DSP                  -0.286725             -0.286529             -0.286859   \n",
       "MARCKSL1              1.047931              0.892119              1.507099   \n",
       "SPARC                -0.355206             -0.366197             -0.351174   \n",
       "\n",
       "          SRP035599.SRR1139382  SRP035599.SRR1139356  SRP035599.SRR1139370  \n",
       "GAS6                 -0.300220             -0.297667             -0.310151  \n",
       "MMP14                -0.326339             -0.322127             -0.327438  \n",
       "DSP                  -0.286671             -0.286859             -0.286740  \n",
       "MARCKSL1              2.458255              2.919662              1.410846  \n",
       "SPARC                -0.363703             -0.350825             -0.360762  \n",
       "\n",
       "[5 rows x 37032 columns]"
      ]
     },
     "execution_count": 11,
     "metadata": {},
     "output_type": "execute_result"
    }
   ],
   "source": [
    "data.head()"
   ]
  },
  {
   "cell_type": "markdown",
   "id": "f816809d-2024-4c2c-be4f-3c04e24ecfca",
   "metadata": {
    "papermill": {
     "duration": 0.182706,
     "end_time": "2021-12-21T19:14:08.298235",
     "exception": false,
     "start_time": "2021-12-21T19:14:08.115529",
     "status": "completed"
    },
    "tags": []
   },
   "source": [
    "## Clustermatch"
   ]
  },
  {
   "cell_type": "code",
   "execution_count": 13,
   "id": "9a8196ee-48d8-42f8-814b-8125a4e5e63b",
   "metadata": {
    "papermill": {
     "duration": 0.400129,
     "end_time": "2021-12-21T19:14:08.874468",
     "exception": false,
     "start_time": "2021-12-21T19:14:08.474339",
     "status": "completed"
    },
    "tags": []
   },
   "outputs": [],
   "source": [
    "clustermatch_df = pd.read_pickle(\n",
    "    str(INPUT_CORR_FILE_TEMPLATE).format(\n",
    "        corr_method=\"clustermatch_k2to5\",\n",
    "    )\n",
    ")"
   ]
  },
  {
   "cell_type": "code",
   "execution_count": 14,
   "id": "5f611930-9923-4ff2-9c1f-fb81bcdad625",
   "metadata": {
    "papermill": {
     "duration": 0.188724,
     "end_time": "2021-12-21T19:14:09.245734",
     "exception": false,
     "start_time": "2021-12-21T19:14:09.057010",
     "status": "completed"
    },
    "tags": []
   },
   "outputs": [
    {
     "data": {
      "text/plain": [
       "(6750, 6750)"
      ]
     },
     "execution_count": 14,
     "metadata": {},
     "output_type": "execute_result"
    }
   ],
   "source": [
    "clustermatch_df.shape"
   ]
  },
  {
   "cell_type": "code",
   "execution_count": 15,
   "id": "c9fc4460-6ae2-42ab-9923-9f7a3e3d942c",
   "metadata": {
    "papermill": {
     "duration": 0.202476,
     "end_time": "2021-12-21T19:14:09.625937",
     "exception": false,
     "start_time": "2021-12-21T19:14:09.423461",
     "status": "completed"
    },
    "tags": []
   },
   "outputs": [
    {
     "data": {
      "text/html": [
       "<div>\n",
       "<style scoped>\n",
       "    .dataframe tbody tr th:only-of-type {\n",
       "        vertical-align: middle;\n",
       "    }\n",
       "\n",
       "    .dataframe tbody tr th {\n",
       "        vertical-align: top;\n",
       "    }\n",
       "\n",
       "    .dataframe thead th {\n",
       "        text-align: right;\n",
       "    }\n",
       "</style>\n",
       "<table border=\"1\" class=\"dataframe\">\n",
       "  <thead>\n",
       "    <tr style=\"text-align: right;\">\n",
       "      <th></th>\n",
       "      <th>GAS6</th>\n",
       "      <th>MMP14</th>\n",
       "      <th>DSP</th>\n",
       "      <th>MARCKSL1</th>\n",
       "      <th>SPARC</th>\n",
       "      <th>CTSD</th>\n",
       "      <th>EPAS1</th>\n",
       "      <th>PALLD</th>\n",
       "      <th>PHC2</th>\n",
       "      <th>LGALS3BP</th>\n",
       "      <th>...</th>\n",
       "      <th>LDHB</th>\n",
       "      <th>LDHC</th>\n",
       "      <th>ACAP2</th>\n",
       "      <th>ACAP3</th>\n",
       "      <th>CFL2</th>\n",
       "      <th>CFL1</th>\n",
       "      <th>NFIB</th>\n",
       "      <th>PLEKHG6</th>\n",
       "      <th>GNGT2</th>\n",
       "      <th>SERPINH1</th>\n",
       "    </tr>\n",
       "  </thead>\n",
       "  <tbody>\n",
       "    <tr>\n",
       "      <th>GAS6</th>\n",
       "      <td>1.000000</td>\n",
       "      <td>0.359879</td>\n",
       "      <td>0.161606</td>\n",
       "      <td>0.096449</td>\n",
       "      <td>0.179718</td>\n",
       "      <td>0.241732</td>\n",
       "      <td>0.273178</td>\n",
       "      <td>0.240247</td>\n",
       "      <td>0.222990</td>\n",
       "      <td>0.220751</td>\n",
       "      <td>...</td>\n",
       "      <td>0.059111</td>\n",
       "      <td>0.078427</td>\n",
       "      <td>0.108364</td>\n",
       "      <td>0.251818</td>\n",
       "      <td>0.129664</td>\n",
       "      <td>0.085054</td>\n",
       "      <td>0.106808</td>\n",
       "      <td>0.144849</td>\n",
       "      <td>0.115440</td>\n",
       "      <td>0.255519</td>\n",
       "    </tr>\n",
       "    <tr>\n",
       "      <th>MMP14</th>\n",
       "      <td>0.359879</td>\n",
       "      <td>1.000000</td>\n",
       "      <td>0.144209</td>\n",
       "      <td>0.078681</td>\n",
       "      <td>0.271937</td>\n",
       "      <td>0.192011</td>\n",
       "      <td>0.258037</td>\n",
       "      <td>0.207851</td>\n",
       "      <td>0.187494</td>\n",
       "      <td>0.193339</td>\n",
       "      <td>...</td>\n",
       "      <td>0.052428</td>\n",
       "      <td>0.079176</td>\n",
       "      <td>0.089386</td>\n",
       "      <td>0.165300</td>\n",
       "      <td>0.096144</td>\n",
       "      <td>0.079255</td>\n",
       "      <td>0.076691</td>\n",
       "      <td>0.144493</td>\n",
       "      <td>0.123675</td>\n",
       "      <td>0.264664</td>\n",
       "    </tr>\n",
       "    <tr>\n",
       "      <th>DSP</th>\n",
       "      <td>0.161606</td>\n",
       "      <td>0.144209</td>\n",
       "      <td>1.000000</td>\n",
       "      <td>0.058510</td>\n",
       "      <td>0.067755</td>\n",
       "      <td>0.067983</td>\n",
       "      <td>0.207457</td>\n",
       "      <td>0.277144</td>\n",
       "      <td>0.066032</td>\n",
       "      <td>0.147427</td>\n",
       "      <td>...</td>\n",
       "      <td>0.028790</td>\n",
       "      <td>0.068707</td>\n",
       "      <td>0.073084</td>\n",
       "      <td>0.084873</td>\n",
       "      <td>0.135008</td>\n",
       "      <td>0.031805</td>\n",
       "      <td>0.161311</td>\n",
       "      <td>0.151766</td>\n",
       "      <td>0.064669</td>\n",
       "      <td>0.312919</td>\n",
       "    </tr>\n",
       "    <tr>\n",
       "      <th>MARCKSL1</th>\n",
       "      <td>0.096449</td>\n",
       "      <td>0.078681</td>\n",
       "      <td>0.058510</td>\n",
       "      <td>1.000000</td>\n",
       "      <td>0.041695</td>\n",
       "      <td>0.101608</td>\n",
       "      <td>0.052736</td>\n",
       "      <td>0.068859</td>\n",
       "      <td>0.112262</td>\n",
       "      <td>0.077731</td>\n",
       "      <td>...</td>\n",
       "      <td>0.099796</td>\n",
       "      <td>0.064212</td>\n",
       "      <td>0.112536</td>\n",
       "      <td>0.140569</td>\n",
       "      <td>0.091698</td>\n",
       "      <td>0.131773</td>\n",
       "      <td>0.037773</td>\n",
       "      <td>0.089773</td>\n",
       "      <td>0.076254</td>\n",
       "      <td>0.108979</td>\n",
       "    </tr>\n",
       "    <tr>\n",
       "      <th>SPARC</th>\n",
       "      <td>0.179718</td>\n",
       "      <td>0.271937</td>\n",
       "      <td>0.067755</td>\n",
       "      <td>0.041695</td>\n",
       "      <td>1.000000</td>\n",
       "      <td>0.067178</td>\n",
       "      <td>0.123818</td>\n",
       "      <td>0.169873</td>\n",
       "      <td>0.081537</td>\n",
       "      <td>0.117885</td>\n",
       "      <td>...</td>\n",
       "      <td>0.053518</td>\n",
       "      <td>0.033891</td>\n",
       "      <td>0.049880</td>\n",
       "      <td>0.042892</td>\n",
       "      <td>0.128344</td>\n",
       "      <td>0.036825</td>\n",
       "      <td>0.104421</td>\n",
       "      <td>0.039843</td>\n",
       "      <td>0.090324</td>\n",
       "      <td>0.136840</td>\n",
       "    </tr>\n",
       "  </tbody>\n",
       "</table>\n",
       "<p>5 rows × 6750 columns</p>\n",
       "</div>"
      ],
      "text/plain": [
       "              GAS6     MMP14       DSP  MARCKSL1     SPARC      CTSD  \\\n",
       "GAS6      1.000000  0.359879  0.161606  0.096449  0.179718  0.241732   \n",
       "MMP14     0.359879  1.000000  0.144209  0.078681  0.271937  0.192011   \n",
       "DSP       0.161606  0.144209  1.000000  0.058510  0.067755  0.067983   \n",
       "MARCKSL1  0.096449  0.078681  0.058510  1.000000  0.041695  0.101608   \n",
       "SPARC     0.179718  0.271937  0.067755  0.041695  1.000000  0.067178   \n",
       "\n",
       "             EPAS1     PALLD      PHC2  LGALS3BP  ...      LDHB      LDHC  \\\n",
       "GAS6      0.273178  0.240247  0.222990  0.220751  ...  0.059111  0.078427   \n",
       "MMP14     0.258037  0.207851  0.187494  0.193339  ...  0.052428  0.079176   \n",
       "DSP       0.207457  0.277144  0.066032  0.147427  ...  0.028790  0.068707   \n",
       "MARCKSL1  0.052736  0.068859  0.112262  0.077731  ...  0.099796  0.064212   \n",
       "SPARC     0.123818  0.169873  0.081537  0.117885  ...  0.053518  0.033891   \n",
       "\n",
       "             ACAP2     ACAP3      CFL2      CFL1      NFIB   PLEKHG6  \\\n",
       "GAS6      0.108364  0.251818  0.129664  0.085054  0.106808  0.144849   \n",
       "MMP14     0.089386  0.165300  0.096144  0.079255  0.076691  0.144493   \n",
       "DSP       0.073084  0.084873  0.135008  0.031805  0.161311  0.151766   \n",
       "MARCKSL1  0.112536  0.140569  0.091698  0.131773  0.037773  0.089773   \n",
       "SPARC     0.049880  0.042892  0.128344  0.036825  0.104421  0.039843   \n",
       "\n",
       "             GNGT2  SERPINH1  \n",
       "GAS6      0.115440  0.255519  \n",
       "MMP14     0.123675  0.264664  \n",
       "DSP       0.064669  0.312919  \n",
       "MARCKSL1  0.076254  0.108979  \n",
       "SPARC     0.090324  0.136840  \n",
       "\n",
       "[5 rows x 6750 columns]"
      ]
     },
     "execution_count": 15,
     "metadata": {},
     "output_type": "execute_result"
    }
   ],
   "source": [
    "clustermatch_df.head()"
   ]
  },
  {
   "cell_type": "code",
   "execution_count": 16,
   "id": "e8d06663-b757-4c9a-bf88-efe799cf4c16",
   "metadata": {
    "papermill": {
     "duration": 0.188439,
     "end_time": "2021-12-21T19:14:09.993273",
     "exception": false,
     "start_time": "2021-12-21T19:14:09.804834",
     "status": "completed"
    },
    "tags": []
   },
   "outputs": [],
   "source": [
    "assert data.index.equals(clustermatch_df.index)"
   ]
  },
  {
   "cell_type": "markdown",
   "id": "0277745a-71cf-4b42-a1ad-949ffa423a35",
   "metadata": {
    "papermill": {
     "duration": 0.21769,
     "end_time": "2021-12-21T19:14:10.408286",
     "exception": false,
     "start_time": "2021-12-21T19:14:10.190596",
     "status": "completed"
    },
    "tags": []
   },
   "source": [
    "## Pearson"
   ]
  },
  {
   "cell_type": "code",
   "execution_count": 18,
   "id": "25fec66a-2209-4556-9ab9-a6de8ae6737c",
   "metadata": {
    "papermill": {
     "duration": 0.57274,
     "end_time": "2021-12-21T19:14:11.181689",
     "exception": false,
     "start_time": "2021-12-21T19:14:10.608949",
     "status": "completed"
    },
    "tags": []
   },
   "outputs": [],
   "source": [
    "pearson_df = pd.read_pickle(\n",
    "    str(INPUT_CORR_FILE_TEMPLATE).format(\n",
    "        corr_method=\"pearson\",\n",
    "    )\n",
    ")"
   ]
  },
  {
   "cell_type": "code",
   "execution_count": 19,
   "id": "9cf7764d-a6f1-4fa3-9731-4eacac4ec7ef",
   "metadata": {
    "papermill": {
     "duration": 0.229354,
     "end_time": "2021-12-21T19:14:11.643351",
     "exception": false,
     "start_time": "2021-12-21T19:14:11.413997",
     "status": "completed"
    },
    "tags": []
   },
   "outputs": [
    {
     "data": {
      "text/plain": [
       "(6750, 6750)"
      ]
     },
     "execution_count": 19,
     "metadata": {},
     "output_type": "execute_result"
    }
   ],
   "source": [
    "pearson_df.shape"
   ]
  },
  {
   "cell_type": "code",
   "execution_count": 20,
   "id": "d2a2fe84-ead6-4ac3-8980-e9ecc8fb4eec",
   "metadata": {
    "papermill": {
     "duration": 0.208564,
     "end_time": "2021-12-21T19:14:12.053021",
     "exception": false,
     "start_time": "2021-12-21T19:14:11.844457",
     "status": "completed"
    },
    "tags": []
   },
   "outputs": [
    {
     "data": {
      "text/html": [
       "<div>\n",
       "<style scoped>\n",
       "    .dataframe tbody tr th:only-of-type {\n",
       "        vertical-align: middle;\n",
       "    }\n",
       "\n",
       "    .dataframe tbody tr th {\n",
       "        vertical-align: top;\n",
       "    }\n",
       "\n",
       "    .dataframe thead th {\n",
       "        text-align: right;\n",
       "    }\n",
       "</style>\n",
       "<table border=\"1\" class=\"dataframe\">\n",
       "  <thead>\n",
       "    <tr style=\"text-align: right;\">\n",
       "      <th></th>\n",
       "      <th>GAS6</th>\n",
       "      <th>MMP14</th>\n",
       "      <th>DSP</th>\n",
       "      <th>MARCKSL1</th>\n",
       "      <th>SPARC</th>\n",
       "      <th>CTSD</th>\n",
       "      <th>EPAS1</th>\n",
       "      <th>PALLD</th>\n",
       "      <th>PHC2</th>\n",
       "      <th>LGALS3BP</th>\n",
       "      <th>...</th>\n",
       "      <th>LDHB</th>\n",
       "      <th>LDHC</th>\n",
       "      <th>ACAP2</th>\n",
       "      <th>ACAP3</th>\n",
       "      <th>CFL2</th>\n",
       "      <th>CFL1</th>\n",
       "      <th>NFIB</th>\n",
       "      <th>PLEKHG6</th>\n",
       "      <th>GNGT2</th>\n",
       "      <th>SERPINH1</th>\n",
       "    </tr>\n",
       "  </thead>\n",
       "  <tbody>\n",
       "    <tr>\n",
       "      <th>GAS6</th>\n",
       "      <td>1.000000</td>\n",
       "      <td>0.294974</td>\n",
       "      <td>0.056459</td>\n",
       "      <td>-0.025141</td>\n",
       "      <td>0.200635</td>\n",
       "      <td>0.103548</td>\n",
       "      <td>0.131867</td>\n",
       "      <td>0.276463</td>\n",
       "      <td>0.112967</td>\n",
       "      <td>0.130925</td>\n",
       "      <td>...</td>\n",
       "      <td>-0.056567</td>\n",
       "      <td>-0.007278</td>\n",
       "      <td>-0.030214</td>\n",
       "      <td>0.148051</td>\n",
       "      <td>0.039434</td>\n",
       "      <td>0.047084</td>\n",
       "      <td>-0.029201</td>\n",
       "      <td>0.028263</td>\n",
       "      <td>-0.010433</td>\n",
       "      <td>0.386991</td>\n",
       "    </tr>\n",
       "    <tr>\n",
       "      <th>MMP14</th>\n",
       "      <td>0.294974</td>\n",
       "      <td>1.000000</td>\n",
       "      <td>0.055232</td>\n",
       "      <td>0.019443</td>\n",
       "      <td>0.162131</td>\n",
       "      <td>0.288713</td>\n",
       "      <td>0.078418</td>\n",
       "      <td>0.152664</td>\n",
       "      <td>0.200287</td>\n",
       "      <td>0.230657</td>\n",
       "      <td>...</td>\n",
       "      <td>-0.075008</td>\n",
       "      <td>-0.017159</td>\n",
       "      <td>-0.022373</td>\n",
       "      <td>0.195568</td>\n",
       "      <td>-0.008378</td>\n",
       "      <td>0.060350</td>\n",
       "      <td>-0.035702</td>\n",
       "      <td>0.019021</td>\n",
       "      <td>-0.001449</td>\n",
       "      <td>0.348298</td>\n",
       "    </tr>\n",
       "    <tr>\n",
       "      <th>DSP</th>\n",
       "      <td>0.056459</td>\n",
       "      <td>0.055232</td>\n",
       "      <td>1.000000</td>\n",
       "      <td>-0.036595</td>\n",
       "      <td>0.035897</td>\n",
       "      <td>0.040336</td>\n",
       "      <td>0.044387</td>\n",
       "      <td>0.141760</td>\n",
       "      <td>-0.023011</td>\n",
       "      <td>0.027952</td>\n",
       "      <td>...</td>\n",
       "      <td>-0.052872</td>\n",
       "      <td>-0.010162</td>\n",
       "      <td>0.033149</td>\n",
       "      <td>0.003191</td>\n",
       "      <td>-0.025231</td>\n",
       "      <td>-0.019664</td>\n",
       "      <td>-0.020029</td>\n",
       "      <td>0.135147</td>\n",
       "      <td>-0.017221</td>\n",
       "      <td>0.061731</td>\n",
       "    </tr>\n",
       "    <tr>\n",
       "      <th>MARCKSL1</th>\n",
       "      <td>-0.025141</td>\n",
       "      <td>0.019443</td>\n",
       "      <td>-0.036595</td>\n",
       "      <td>1.000000</td>\n",
       "      <td>0.029414</td>\n",
       "      <td>-0.003729</td>\n",
       "      <td>-0.030208</td>\n",
       "      <td>0.018872</td>\n",
       "      <td>0.130432</td>\n",
       "      <td>0.022778</td>\n",
       "      <td>...</td>\n",
       "      <td>0.069346</td>\n",
       "      <td>-0.003312</td>\n",
       "      <td>-0.015761</td>\n",
       "      <td>0.201729</td>\n",
       "      <td>-0.022687</td>\n",
       "      <td>0.018768</td>\n",
       "      <td>0.024176</td>\n",
       "      <td>0.027592</td>\n",
       "      <td>0.004332</td>\n",
       "      <td>0.146742</td>\n",
       "    </tr>\n",
       "    <tr>\n",
       "      <th>SPARC</th>\n",
       "      <td>0.200635</td>\n",
       "      <td>0.162131</td>\n",
       "      <td>0.035897</td>\n",
       "      <td>0.029414</td>\n",
       "      <td>1.000000</td>\n",
       "      <td>-0.007102</td>\n",
       "      <td>0.079556</td>\n",
       "      <td>0.278528</td>\n",
       "      <td>0.028905</td>\n",
       "      <td>0.089256</td>\n",
       "      <td>...</td>\n",
       "      <td>0.084137</td>\n",
       "      <td>-0.009165</td>\n",
       "      <td>-0.058129</td>\n",
       "      <td>-0.005859</td>\n",
       "      <td>0.102020</td>\n",
       "      <td>0.077243</td>\n",
       "      <td>-0.020692</td>\n",
       "      <td>-0.009489</td>\n",
       "      <td>-0.016504</td>\n",
       "      <td>0.412960</td>\n",
       "    </tr>\n",
       "  </tbody>\n",
       "</table>\n",
       "<p>5 rows × 6750 columns</p>\n",
       "</div>"
      ],
      "text/plain": [
       "              GAS6     MMP14       DSP  MARCKSL1     SPARC      CTSD  \\\n",
       "GAS6      1.000000  0.294974  0.056459 -0.025141  0.200635  0.103548   \n",
       "MMP14     0.294974  1.000000  0.055232  0.019443  0.162131  0.288713   \n",
       "DSP       0.056459  0.055232  1.000000 -0.036595  0.035897  0.040336   \n",
       "MARCKSL1 -0.025141  0.019443 -0.036595  1.000000  0.029414 -0.003729   \n",
       "SPARC     0.200635  0.162131  0.035897  0.029414  1.000000 -0.007102   \n",
       "\n",
       "             EPAS1     PALLD      PHC2  LGALS3BP  ...      LDHB      LDHC  \\\n",
       "GAS6      0.131867  0.276463  0.112967  0.130925  ... -0.056567 -0.007278   \n",
       "MMP14     0.078418  0.152664  0.200287  0.230657  ... -0.075008 -0.017159   \n",
       "DSP       0.044387  0.141760 -0.023011  0.027952  ... -0.052872 -0.010162   \n",
       "MARCKSL1 -0.030208  0.018872  0.130432  0.022778  ...  0.069346 -0.003312   \n",
       "SPARC     0.079556  0.278528  0.028905  0.089256  ...  0.084137 -0.009165   \n",
       "\n",
       "             ACAP2     ACAP3      CFL2      CFL1      NFIB   PLEKHG6  \\\n",
       "GAS6     -0.030214  0.148051  0.039434  0.047084 -0.029201  0.028263   \n",
       "MMP14    -0.022373  0.195568 -0.008378  0.060350 -0.035702  0.019021   \n",
       "DSP       0.033149  0.003191 -0.025231 -0.019664 -0.020029  0.135147   \n",
       "MARCKSL1 -0.015761  0.201729 -0.022687  0.018768  0.024176  0.027592   \n",
       "SPARC    -0.058129 -0.005859  0.102020  0.077243 -0.020692 -0.009489   \n",
       "\n",
       "             GNGT2  SERPINH1  \n",
       "GAS6     -0.010433  0.386991  \n",
       "MMP14    -0.001449  0.348298  \n",
       "DSP      -0.017221  0.061731  \n",
       "MARCKSL1  0.004332  0.146742  \n",
       "SPARC    -0.016504  0.412960  \n",
       "\n",
       "[5 rows x 6750 columns]"
      ]
     },
     "execution_count": 20,
     "metadata": {},
     "output_type": "execute_result"
    }
   ],
   "source": [
    "pearson_df.head()"
   ]
  },
  {
   "cell_type": "code",
   "execution_count": 21,
   "id": "52aec2ed-709e-4a8b-885f-0d5f6a24e01d",
   "metadata": {
    "papermill": {
     "duration": 0.188233,
     "end_time": "2021-12-21T19:14:12.435902",
     "exception": false,
     "start_time": "2021-12-21T19:14:12.247669",
     "status": "completed"
    },
    "tags": []
   },
   "outputs": [],
   "source": [
    "assert data.index.equals(pearson_df.index)"
   ]
  },
  {
   "cell_type": "markdown",
   "id": "6f0ee3a9-baa6-4a05-904d-8606b26da6c5",
   "metadata": {
    "papermill": {
     "duration": 0.188032,
     "end_time": "2021-12-21T19:14:12.811562",
     "exception": false,
     "start_time": "2021-12-21T19:14:12.623530",
     "status": "completed"
    },
    "tags": []
   },
   "source": [
    "## Spearman"
   ]
  },
  {
   "cell_type": "code",
   "execution_count": 22,
   "id": "41edc475-d086-4041-85dc-e41a0d6a89ac",
   "metadata": {
    "papermill": {
     "duration": 0.403902,
     "end_time": "2021-12-21T19:14:13.395813",
     "exception": false,
     "start_time": "2021-12-21T19:14:12.991911",
     "status": "completed"
    },
    "tags": []
   },
   "outputs": [],
   "source": [
    "spearman_df = pd.read_pickle(\n",
    "    str(INPUT_CORR_FILE_TEMPLATE).format(\n",
    "        corr_method=\"spearman\",\n",
    "    )\n",
    ")"
   ]
  },
  {
   "cell_type": "code",
   "execution_count": 23,
   "id": "a5326477-cc14-47bc-9c7b-cd4e1afffdff",
   "metadata": {
    "papermill": {
     "duration": 0.195655,
     "end_time": "2021-12-21T19:14:13.773860",
     "exception": false,
     "start_time": "2021-12-21T19:14:13.578205",
     "status": "completed"
    },
    "tags": []
   },
   "outputs": [
    {
     "data": {
      "text/plain": [
       "(6750, 6750)"
      ]
     },
     "execution_count": 23,
     "metadata": {},
     "output_type": "execute_result"
    }
   ],
   "source": [
    "spearman_df.shape"
   ]
  },
  {
   "cell_type": "code",
   "execution_count": 24,
   "id": "acb0044e-2fb2-4349-a103-07c675895321",
   "metadata": {
    "papermill": {
     "duration": 0.214024,
     "end_time": "2021-12-21T19:14:14.173216",
     "exception": false,
     "start_time": "2021-12-21T19:14:13.959192",
     "status": "completed"
    },
    "tags": []
   },
   "outputs": [
    {
     "data": {
      "text/html": [
       "<div>\n",
       "<style scoped>\n",
       "    .dataframe tbody tr th:only-of-type {\n",
       "        vertical-align: middle;\n",
       "    }\n",
       "\n",
       "    .dataframe tbody tr th {\n",
       "        vertical-align: top;\n",
       "    }\n",
       "\n",
       "    .dataframe thead th {\n",
       "        text-align: right;\n",
       "    }\n",
       "</style>\n",
       "<table border=\"1\" class=\"dataframe\">\n",
       "  <thead>\n",
       "    <tr style=\"text-align: right;\">\n",
       "      <th></th>\n",
       "      <th>GAS6</th>\n",
       "      <th>MMP14</th>\n",
       "      <th>DSP</th>\n",
       "      <th>MARCKSL1</th>\n",
       "      <th>SPARC</th>\n",
       "      <th>CTSD</th>\n",
       "      <th>EPAS1</th>\n",
       "      <th>PALLD</th>\n",
       "      <th>PHC2</th>\n",
       "      <th>LGALS3BP</th>\n",
       "      <th>...</th>\n",
       "      <th>LDHB</th>\n",
       "      <th>LDHC</th>\n",
       "      <th>ACAP2</th>\n",
       "      <th>ACAP3</th>\n",
       "      <th>CFL2</th>\n",
       "      <th>CFL1</th>\n",
       "      <th>NFIB</th>\n",
       "      <th>PLEKHG6</th>\n",
       "      <th>GNGT2</th>\n",
       "      <th>SERPINH1</th>\n",
       "    </tr>\n",
       "  </thead>\n",
       "  <tbody>\n",
       "    <tr>\n",
       "      <th>GAS6</th>\n",
       "      <td>1.000000</td>\n",
       "      <td>0.767277</td>\n",
       "      <td>0.530435</td>\n",
       "      <td>0.376058</td>\n",
       "      <td>0.492968</td>\n",
       "      <td>0.652806</td>\n",
       "      <td>0.694218</td>\n",
       "      <td>0.598491</td>\n",
       "      <td>0.599584</td>\n",
       "      <td>0.595290</td>\n",
       "      <td>...</td>\n",
       "      <td>0.096758</td>\n",
       "      <td>0.319135</td>\n",
       "      <td>0.243757</td>\n",
       "      <td>0.669781</td>\n",
       "      <td>0.433053</td>\n",
       "      <td>0.397045</td>\n",
       "      <td>0.298712</td>\n",
       "      <td>0.484416</td>\n",
       "      <td>0.357766</td>\n",
       "      <td>0.689587</td>\n",
       "    </tr>\n",
       "    <tr>\n",
       "      <th>MMP14</th>\n",
       "      <td>0.767277</td>\n",
       "      <td>1.000000</td>\n",
       "      <td>0.490369</td>\n",
       "      <td>0.372943</td>\n",
       "      <td>0.593585</td>\n",
       "      <td>0.608753</td>\n",
       "      <td>0.652577</td>\n",
       "      <td>0.566899</td>\n",
       "      <td>0.596954</td>\n",
       "      <td>0.591671</td>\n",
       "      <td>...</td>\n",
       "      <td>0.108111</td>\n",
       "      <td>0.328656</td>\n",
       "      <td>0.295322</td>\n",
       "      <td>0.573781</td>\n",
       "      <td>0.372953</td>\n",
       "      <td>0.388056</td>\n",
       "      <td>0.232660</td>\n",
       "      <td>0.498833</td>\n",
       "      <td>0.371384</td>\n",
       "      <td>0.707476</td>\n",
       "    </tr>\n",
       "    <tr>\n",
       "      <th>DSP</th>\n",
       "      <td>0.530435</td>\n",
       "      <td>0.490369</td>\n",
       "      <td>1.000000</td>\n",
       "      <td>0.309156</td>\n",
       "      <td>0.250510</td>\n",
       "      <td>0.378827</td>\n",
       "      <td>0.570500</td>\n",
       "      <td>0.603818</td>\n",
       "      <td>0.261268</td>\n",
       "      <td>0.483510</td>\n",
       "      <td>...</td>\n",
       "      <td>0.102505</td>\n",
       "      <td>0.322113</td>\n",
       "      <td>0.181120</td>\n",
       "      <td>0.336312</td>\n",
       "      <td>0.389993</td>\n",
       "      <td>0.143608</td>\n",
       "      <td>0.396473</td>\n",
       "      <td>0.567024</td>\n",
       "      <td>0.022467</td>\n",
       "      <td>0.615777</td>\n",
       "    </tr>\n",
       "    <tr>\n",
       "      <th>MARCKSL1</th>\n",
       "      <td>0.376058</td>\n",
       "      <td>0.372943</td>\n",
       "      <td>0.309156</td>\n",
       "      <td>1.000000</td>\n",
       "      <td>0.251116</td>\n",
       "      <td>0.380241</td>\n",
       "      <td>0.254586</td>\n",
       "      <td>0.286491</td>\n",
       "      <td>0.441862</td>\n",
       "      <td>0.339611</td>\n",
       "      <td>...</td>\n",
       "      <td>0.386577</td>\n",
       "      <td>0.314713</td>\n",
       "      <td>0.302932</td>\n",
       "      <td>0.548047</td>\n",
       "      <td>0.313833</td>\n",
       "      <td>0.454887</td>\n",
       "      <td>0.228858</td>\n",
       "      <td>0.352535</td>\n",
       "      <td>0.312589</td>\n",
       "      <td>0.478413</td>\n",
       "    </tr>\n",
       "    <tr>\n",
       "      <th>SPARC</th>\n",
       "      <td>0.492968</td>\n",
       "      <td>0.593585</td>\n",
       "      <td>0.250510</td>\n",
       "      <td>0.251116</td>\n",
       "      <td>1.000000</td>\n",
       "      <td>0.299277</td>\n",
       "      <td>0.404538</td>\n",
       "      <td>0.481395</td>\n",
       "      <td>0.353212</td>\n",
       "      <td>0.426300</td>\n",
       "      <td>...</td>\n",
       "      <td>0.259254</td>\n",
       "      <td>0.219185</td>\n",
       "      <td>0.128572</td>\n",
       "      <td>0.276951</td>\n",
       "      <td>0.441842</td>\n",
       "      <td>0.182518</td>\n",
       "      <td>0.339385</td>\n",
       "      <td>0.180845</td>\n",
       "      <td>0.240672</td>\n",
       "      <td>0.503508</td>\n",
       "    </tr>\n",
       "  </tbody>\n",
       "</table>\n",
       "<p>5 rows × 6750 columns</p>\n",
       "</div>"
      ],
      "text/plain": [
       "              GAS6     MMP14       DSP  MARCKSL1     SPARC      CTSD  \\\n",
       "GAS6      1.000000  0.767277  0.530435  0.376058  0.492968  0.652806   \n",
       "MMP14     0.767277  1.000000  0.490369  0.372943  0.593585  0.608753   \n",
       "DSP       0.530435  0.490369  1.000000  0.309156  0.250510  0.378827   \n",
       "MARCKSL1  0.376058  0.372943  0.309156  1.000000  0.251116  0.380241   \n",
       "SPARC     0.492968  0.593585  0.250510  0.251116  1.000000  0.299277   \n",
       "\n",
       "             EPAS1     PALLD      PHC2  LGALS3BP  ...      LDHB      LDHC  \\\n",
       "GAS6      0.694218  0.598491  0.599584  0.595290  ...  0.096758  0.319135   \n",
       "MMP14     0.652577  0.566899  0.596954  0.591671  ...  0.108111  0.328656   \n",
       "DSP       0.570500  0.603818  0.261268  0.483510  ...  0.102505  0.322113   \n",
       "MARCKSL1  0.254586  0.286491  0.441862  0.339611  ...  0.386577  0.314713   \n",
       "SPARC     0.404538  0.481395  0.353212  0.426300  ...  0.259254  0.219185   \n",
       "\n",
       "             ACAP2     ACAP3      CFL2      CFL1      NFIB   PLEKHG6  \\\n",
       "GAS6      0.243757  0.669781  0.433053  0.397045  0.298712  0.484416   \n",
       "MMP14     0.295322  0.573781  0.372953  0.388056  0.232660  0.498833   \n",
       "DSP       0.181120  0.336312  0.389993  0.143608  0.396473  0.567024   \n",
       "MARCKSL1  0.302932  0.548047  0.313833  0.454887  0.228858  0.352535   \n",
       "SPARC     0.128572  0.276951  0.441842  0.182518  0.339385  0.180845   \n",
       "\n",
       "             GNGT2  SERPINH1  \n",
       "GAS6      0.357766  0.689587  \n",
       "MMP14     0.371384  0.707476  \n",
       "DSP       0.022467  0.615777  \n",
       "MARCKSL1  0.312589  0.478413  \n",
       "SPARC     0.240672  0.503508  \n",
       "\n",
       "[5 rows x 6750 columns]"
      ]
     },
     "execution_count": 24,
     "metadata": {},
     "output_type": "execute_result"
    }
   ],
   "source": [
    "spearman_df.head()"
   ]
  },
  {
   "cell_type": "code",
   "execution_count": 25,
   "id": "ccd00c49-b2b0-42b3-97e9-a444bffc0654",
   "metadata": {
    "papermill": {
     "duration": 0.191048,
     "end_time": "2021-12-21T19:14:14.556759",
     "exception": false,
     "start_time": "2021-12-21T19:14:14.365711",
     "status": "completed"
    },
    "tags": []
   },
   "outputs": [],
   "source": [
    "assert data.index.equals(spearman_df.index)"
   ]
  },
  {
   "cell_type": "markdown",
   "id": "d8ad7af3-5821-4501-b336-c01a4cfb78ec",
   "metadata": {
    "papermill": {
     "duration": 0.187351,
     "end_time": "2021-12-21T19:14:14.931550",
     "exception": false,
     "start_time": "2021-12-21T19:14:14.744199",
     "status": "completed"
    },
    "tags": []
   },
   "source": [
    "## Merge"
   ]
  },
  {
   "cell_type": "code",
   "execution_count": 26,
   "id": "fbeddbfc-4c0b-4116-a5f8-7c81ad810af6",
   "metadata": {
    "papermill": {
     "duration": 0.207608,
     "end_time": "2021-12-21T19:14:15.328759",
     "exception": false,
     "start_time": "2021-12-21T19:14:15.121151",
     "status": "completed"
    },
    "tags": []
   },
   "outputs": [],
   "source": [
    "def get_upper_triag(data, k=1):\n",
    "    mask = np.triu(np.ones(data.shape), k=k).astype(bool)\n",
    "    return data.where(mask)"
   ]
  },
  {
   "cell_type": "code",
   "execution_count": 27,
   "id": "0f647602-5e63-4f49-b88f-9dbc175d1967",
   "metadata": {
    "papermill": {
     "duration": 0.296673,
     "end_time": "2021-12-21T19:14:15.846706",
     "exception": false,
     "start_time": "2021-12-21T19:14:15.550033",
     "status": "completed"
    },
    "tags": []
   },
   "outputs": [],
   "source": [
    "# # make sure genes match\n",
    "# clustermatch_df = clustermatch_df.loc[pearson_df.index, pearson_df.columns]"
   ]
  },
  {
   "cell_type": "code",
   "execution_count": 28,
   "id": "ae82d327-4f1b-413c-a7e9-c5b82268f013",
   "metadata": {
    "papermill": {
     "duration": 0.497374,
     "end_time": "2021-12-21T19:14:16.542670",
     "exception": false,
     "start_time": "2021-12-21T19:14:16.045296",
     "status": "completed"
    },
    "tags": []
   },
   "outputs": [],
   "source": [
    "clustermatch_df = get_upper_triag(clustermatch_df)"
   ]
  },
  {
   "cell_type": "code",
   "execution_count": 29,
   "id": "b51f60c1-8f81-45ae-a89a-11ae721ed8d2",
   "metadata": {
    "papermill": {
     "duration": 0.613232,
     "end_time": "2021-12-21T19:14:17.346446",
     "exception": false,
     "start_time": "2021-12-21T19:14:16.733214",
     "status": "completed"
    },
    "tags": []
   },
   "outputs": [],
   "source": [
    "clustermatch_df = clustermatch_df.unstack().rename_axis((None, None)).dropna()"
   ]
  },
  {
   "cell_type": "code",
   "execution_count": 30,
   "id": "6dcab8f8-b51f-4120-8f3d-6322ddf0fc9b",
   "metadata": {
    "papermill": {
     "duration": 0.195848,
     "end_time": "2021-12-21T19:14:17.751404",
     "exception": false,
     "start_time": "2021-12-21T19:14:17.555556",
     "status": "completed"
    },
    "tags": []
   },
   "outputs": [
    {
     "data": {
      "text/plain": [
       "(22777875,)"
      ]
     },
     "execution_count": 30,
     "metadata": {},
     "output_type": "execute_result"
    }
   ],
   "source": [
    "clustermatch_df.shape"
   ]
  },
  {
   "cell_type": "code",
   "execution_count": 31,
   "id": "9b1d8344-94ab-449e-803b-fbfbb6c0a152",
   "metadata": {
    "papermill": {
     "duration": 0.198441,
     "end_time": "2021-12-21T19:14:18.137132",
     "exception": false,
     "start_time": "2021-12-21T19:14:17.938691",
     "status": "completed"
    },
    "tags": []
   },
   "outputs": [
    {
     "data": {
      "text/plain": [
       "MMP14     GAS6     0.359879\n",
       "DSP       GAS6     0.161606\n",
       "          MMP14    0.144209\n",
       "MARCKSL1  GAS6     0.096449\n",
       "          MMP14    0.078681\n",
       "dtype: float64"
      ]
     },
     "execution_count": 31,
     "metadata": {},
     "output_type": "execute_result"
    }
   ],
   "source": [
    "clustermatch_df.head()"
   ]
  },
  {
   "cell_type": "code",
   "execution_count": 32,
   "id": "2d15b513-c949-4b43-96e7-9eb3f30fc5ef",
   "metadata": {
    "papermill": {
     "duration": 0.495242,
     "end_time": "2021-12-21T19:14:18.825940",
     "exception": false,
     "start_time": "2021-12-21T19:14:18.330698",
     "status": "completed"
    },
    "tags": []
   },
   "outputs": [],
   "source": [
    "pearson_df = get_upper_triag(pearson_df)"
   ]
  },
  {
   "cell_type": "code",
   "execution_count": 33,
   "id": "62e67326-bdd5-4710-9bbe-da0ca57ec466",
   "metadata": {
    "papermill": {
     "duration": 0.623239,
     "end_time": "2021-12-21T19:14:19.641124",
     "exception": false,
     "start_time": "2021-12-21T19:14:19.017885",
     "status": "completed"
    },
    "tags": []
   },
   "outputs": [],
   "source": [
    "# make pearson abs\n",
    "pearson_df = pearson_df.unstack().rename_axis((None, None)).dropna().abs()"
   ]
  },
  {
   "cell_type": "code",
   "execution_count": 34,
   "id": "1a357889-1e00-4ff3-b0d1-a65ae9254824",
   "metadata": {
    "papermill": {
     "duration": 0.195894,
     "end_time": "2021-12-21T19:14:20.029723",
     "exception": false,
     "start_time": "2021-12-21T19:14:19.833829",
     "status": "completed"
    },
    "tags": []
   },
   "outputs": [
    {
     "data": {
      "text/plain": [
       "(22777875,)"
      ]
     },
     "execution_count": 34,
     "metadata": {},
     "output_type": "execute_result"
    }
   ],
   "source": [
    "pearson_df.shape"
   ]
  },
  {
   "cell_type": "code",
   "execution_count": 35,
   "id": "1e2a38f8-8e02-490f-8e8f-4fee1b1159fa",
   "metadata": {
    "papermill": {
     "duration": 0.207244,
     "end_time": "2021-12-21T19:14:20.429860",
     "exception": false,
     "start_time": "2021-12-21T19:14:20.222616",
     "status": "completed"
    },
    "tags": []
   },
   "outputs": [
    {
     "data": {
      "text/plain": [
       "MMP14     GAS6     0.294974\n",
       "DSP       GAS6     0.056459\n",
       "          MMP14    0.055232\n",
       "MARCKSL1  GAS6     0.025141\n",
       "          MMP14    0.019443\n",
       "dtype: float64"
      ]
     },
     "execution_count": 35,
     "metadata": {},
     "output_type": "execute_result"
    }
   ],
   "source": [
    "pearson_df.head()"
   ]
  },
  {
   "cell_type": "code",
   "execution_count": 36,
   "id": "002f33f3-ebcf-4755-aa7b-82802e115ee0",
   "metadata": {
    "papermill": {
     "duration": 4.268481,
     "end_time": "2021-12-21T19:14:24.903958",
     "exception": false,
     "start_time": "2021-12-21T19:14:20.635477",
     "status": "completed"
    },
    "tags": []
   },
   "outputs": [],
   "source": [
    "assert clustermatch_df.index.equals(pearson_df.index)"
   ]
  },
  {
   "cell_type": "code",
   "execution_count": 37,
   "id": "2b1a29c7-221a-4e92-a6ac-e8f3932178e3",
   "metadata": {
    "papermill": {
     "duration": 0.509618,
     "end_time": "2021-12-21T19:14:25.605954",
     "exception": false,
     "start_time": "2021-12-21T19:14:25.096336",
     "status": "completed"
    },
    "tags": []
   },
   "outputs": [],
   "source": [
    "spearman_df = get_upper_triag(spearman_df)"
   ]
  },
  {
   "cell_type": "code",
   "execution_count": 38,
   "id": "0969a867-08ad-43c4-a0ca-9617867e0c50",
   "metadata": {
    "papermill": {
     "duration": 0.776356,
     "end_time": "2021-12-21T19:14:26.618602",
     "exception": false,
     "start_time": "2021-12-21T19:14:25.842246",
     "status": "completed"
    },
    "tags": []
   },
   "outputs": [],
   "source": [
    "# make spearman abs\n",
    "spearman_df = spearman_df.unstack().rename_axis((None, None)).dropna().abs()"
   ]
  },
  {
   "cell_type": "code",
   "execution_count": 39,
   "id": "866bbc4c-ef0b-430a-8d17-7edadd5b2fd2",
   "metadata": {
    "papermill": {
     "duration": 0.204642,
     "end_time": "2021-12-21T19:14:27.031955",
     "exception": false,
     "start_time": "2021-12-21T19:14:26.827313",
     "status": "completed"
    },
    "tags": []
   },
   "outputs": [
    {
     "data": {
      "text/plain": [
       "(22777875,)"
      ]
     },
     "execution_count": 39,
     "metadata": {},
     "output_type": "execute_result"
    }
   ],
   "source": [
    "spearman_df.shape"
   ]
  },
  {
   "cell_type": "code",
   "execution_count": 40,
   "id": "4fc27d0e-87a0-40a7-9f53-ea8a215e4fee",
   "metadata": {
    "papermill": {
     "duration": 0.205463,
     "end_time": "2021-12-21T19:14:27.453601",
     "exception": false,
     "start_time": "2021-12-21T19:14:27.248138",
     "status": "completed"
    },
    "tags": []
   },
   "outputs": [
    {
     "data": {
      "text/plain": [
       "MMP14     GAS6     0.767277\n",
       "DSP       GAS6     0.530435\n",
       "          MMP14    0.490369\n",
       "MARCKSL1  GAS6     0.376058\n",
       "          MMP14    0.372943\n",
       "dtype: float64"
      ]
     },
     "execution_count": 40,
     "metadata": {},
     "output_type": "execute_result"
    }
   ],
   "source": [
    "spearman_df.head()"
   ]
  },
  {
   "cell_type": "code",
   "execution_count": 41,
   "id": "92999223-d496-43b4-8381-172d55030e21",
   "metadata": {
    "papermill": {
     "duration": 4.612801,
     "end_time": "2021-12-21T19:14:32.265944",
     "exception": false,
     "start_time": "2021-12-21T19:14:27.653143",
     "status": "completed"
    },
    "tags": []
   },
   "outputs": [],
   "source": [
    "assert clustermatch_df.index.equals(spearman_df.index)"
   ]
  },
  {
   "cell_type": "code",
   "execution_count": 42,
   "id": "aaada007-6ad1-4adb-91a4-e456f95231f5",
   "metadata": {
    "papermill": {
     "duration": 70.485349,
     "end_time": "2021-12-21T19:15:42.958073",
     "exception": false,
     "start_time": "2021-12-21T19:14:32.472724",
     "status": "completed"
    },
    "tags": []
   },
   "outputs": [],
   "source": [
    "df = pd.DataFrame(\n",
    "    {\n",
    "        \"clustermatch\": clustermatch_df,\n",
    "        \"pearson\": pearson_df,\n",
    "        \"spearman\": spearman_df,\n",
    "    }\n",
    ").sort_index()"
   ]
  },
  {
   "cell_type": "code",
   "execution_count": 43,
   "id": "7613642e-0a3d-442d-8511-d4acd6271194",
   "metadata": {
    "papermill": {
     "duration": 0.229546,
     "end_time": "2021-12-21T19:15:43.385679",
     "exception": false,
     "start_time": "2021-12-21T19:15:43.156133",
     "status": "completed"
    },
    "tags": []
   },
   "outputs": [],
   "source": [
    "assert not df.isna().any().any()"
   ]
  },
  {
   "cell_type": "code",
   "execution_count": 44,
   "id": "baf842f9-d6c8-48b7-bffe-8eb05c73d7de",
   "metadata": {
    "papermill": {
     "duration": 0.206802,
     "end_time": "2021-12-21T19:15:43.803044",
     "exception": false,
     "start_time": "2021-12-21T19:15:43.596242",
     "status": "completed"
    },
    "tags": []
   },
   "outputs": [
    {
     "data": {
      "text/plain": [
       "(22777875, 3)"
      ]
     },
     "execution_count": 44,
     "metadata": {},
     "output_type": "execute_result"
    }
   ],
   "source": [
    "df.shape"
   ]
  },
  {
   "cell_type": "code",
   "execution_count": 45,
   "id": "3bd226fe-0c9d-4b69-8250-e22ccaf3730f",
   "metadata": {
    "papermill": {
     "duration": 0.204806,
     "end_time": "2021-12-21T19:15:44.212313",
     "exception": false,
     "start_time": "2021-12-21T19:15:44.007507",
     "status": "completed"
    },
    "tags": []
   },
   "outputs": [
    {
     "data": {
      "text/html": [
       "<div>\n",
       "<style scoped>\n",
       "    .dataframe tbody tr th:only-of-type {\n",
       "        vertical-align: middle;\n",
       "    }\n",
       "\n",
       "    .dataframe tbody tr th {\n",
       "        vertical-align: top;\n",
       "    }\n",
       "\n",
       "    .dataframe thead th {\n",
       "        text-align: right;\n",
       "    }\n",
       "</style>\n",
       "<table border=\"1\" class=\"dataframe\">\n",
       "  <thead>\n",
       "    <tr style=\"text-align: right;\">\n",
       "      <th></th>\n",
       "      <th></th>\n",
       "      <th>clustermatch</th>\n",
       "      <th>pearson</th>\n",
       "      <th>spearman</th>\n",
       "    </tr>\n",
       "  </thead>\n",
       "  <tbody>\n",
       "    <tr>\n",
       "      <th rowspan=\"5\" valign=\"top\">A2M</th>\n",
       "      <th>AATK</th>\n",
       "      <td>0.134712</td>\n",
       "      <td>0.032274</td>\n",
       "      <td>0.504520</td>\n",
       "    </tr>\n",
       "    <tr>\n",
       "      <th>ABCA1</th>\n",
       "      <td>0.109580</td>\n",
       "      <td>0.110068</td>\n",
       "      <td>0.443315</td>\n",
       "    </tr>\n",
       "    <tr>\n",
       "      <th>ABCA6</th>\n",
       "      <td>0.189934</td>\n",
       "      <td>0.050592</td>\n",
       "      <td>0.536541</td>\n",
       "    </tr>\n",
       "    <tr>\n",
       "      <th>ABCC3</th>\n",
       "      <td>0.088957</td>\n",
       "      <td>0.053941</td>\n",
       "      <td>0.373502</td>\n",
       "    </tr>\n",
       "    <tr>\n",
       "      <th>ABHD14A</th>\n",
       "      <td>0.082554</td>\n",
       "      <td>0.012871</td>\n",
       "      <td>0.367407</td>\n",
       "    </tr>\n",
       "  </tbody>\n",
       "</table>\n",
       "</div>"
      ],
      "text/plain": [
       "             clustermatch   pearson  spearman\n",
       "A2M AATK         0.134712  0.032274  0.504520\n",
       "    ABCA1        0.109580  0.110068  0.443315\n",
       "    ABCA6        0.189934  0.050592  0.536541\n",
       "    ABCC3        0.088957  0.053941  0.373502\n",
       "    ABHD14A      0.082554  0.012871  0.367407"
      ]
     },
     "execution_count": 45,
     "metadata": {},
     "output_type": "execute_result"
    }
   ],
   "source": [
    "df.head()"
   ]
  },
  {
   "cell_type": "markdown",
   "id": "24a50051-141d-4ba0-ad33-3123b4afc1b6",
   "metadata": {
    "papermill": {
     "duration": 0.204432,
     "end_time": "2021-12-21T19:15:44.615684",
     "exception": false,
     "start_time": "2021-12-21T19:15:44.411252",
     "status": "completed"
    },
    "tags": []
   },
   "source": [
    "# Save"
   ]
  },
  {
   "cell_type": "code",
   "execution_count": 46,
   "id": "2f20fdf4-a44a-48c0-bbe1-8def473ac2a5",
   "metadata": {
    "papermill": {
     "duration": 1.03584,
     "end_time": "2021-12-21T19:15:45.850241",
     "exception": false,
     "start_time": "2021-12-21T19:15:44.814401",
     "status": "completed"
    },
    "tags": []
   },
   "outputs": [],
   "source": [
    "df.to_pickle(OUTPUT_FILE)"
   ]
  },
  {
   "cell_type": "code",
   "execution_count": null,
   "id": "8f464a7f-b76f-4898-8bf5-074eabd33626",
   "metadata": {
    "papermill": {
     "duration": 0.204077,
     "end_time": "2021-12-21T19:15:46.271011",
     "exception": false,
     "start_time": "2021-12-21T19:15:46.066934",
     "status": "completed"
    },
    "tags": []
   },
   "outputs": [],
   "source": []
  }
 ],
 "metadata": {
  "jupytext": {
   "cell_metadata_filter": "all,-execution,-papermill,-trusted"
  },
  "kernelspec": {
   "display_name": "Python 3 (ipykernel)",
   "language": "python",
   "name": "python3"
  },
  "language_info": {
   "codemirror_mode": {
    "name": "ipython",
    "version": 3
   },
   "file_extension": ".py",
   "mimetype": "text/x-python",
   "name": "python",
   "nbconvert_exporter": "python",
   "pygments_lexer": "ipython3",
   "version": "3.9.7"
  },
  "papermill": {
   "default_parameters": {},
   "duration": 111.561691,
   "end_time": "2021-12-21T19:15:46.784233",
   "environment_variables": {},
   "exception": null,
   "input_path": "nbs/10_compute_correlations/05_gtex_v8/50-combine_all.ipynb",
   "output_path": "nbs/10_compute_correlations/05_gtex_v8/50-combine_all.run.ipynb",
   "parameters": {
    "GTEX_TISSUE": "skin_sun_exposed_lower_leg"
   },
   "start_time": "2021-12-21T19:13:55.222542",
   "version": "2.3.3"
  }
 },
 "nbformat": 4,
 "nbformat_minor": 5
}
