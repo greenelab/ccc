{
 "cells": [
  {
   "cell_type": "markdown",
   "id": "c1948eb4-fb63-4fad-8243-bcd57b98def3",
   "metadata": {
    "papermill": {
     "duration": 0.230644,
     "end_time": "2021-12-21T19:13:57.349489",
     "exception": false,
     "start_time": "2021-12-21T19:13:57.118845",
     "status": "completed"
    },
    "tags": []
   },
   "source": [
    "# Description"
   ]
  },
  {
   "cell_type": "markdown",
   "id": "0abb1d73-c786-4c6d-9dc2-b9243e5183e2",
   "metadata": {
    "papermill": {
     "duration": 0.208421,
     "end_time": "2021-12-21T19:13:57.758569",
     "exception": false,
     "start_time": "2021-12-21T19:13:57.550148",
     "status": "completed"
    },
    "tags": []
   },
   "source": [
    "It combines all coefficient values in one tissue (see `Settings` below) into a single dataframe for easier processing later."
   ]
  },
  {
   "cell_type": "markdown",
   "id": "d6252b4c-6d56-4cf0-aecd-5d8c769a3609",
   "metadata": {
    "papermill": {
     "duration": 0.293694,
     "end_time": "2021-12-21T19:13:58.302178",
     "exception": false,
     "start_time": "2021-12-21T19:13:58.008484",
     "status": "completed"
    },
    "tags": []
   },
   "source": [
    "# Modules loading"
   ]
  },
  {
   "cell_type": "code",
   "execution_count": 1,
   "id": "77e9d29d-5307-4b4a-b103-7d1fbd6a7e56",
   "metadata": {
    "papermill": {
     "duration": 0.687151,
     "end_time": "2021-12-21T19:13:59.188521",
     "exception": false,
     "start_time": "2021-12-21T19:13:58.501370",
     "status": "completed"
    },
    "tags": []
   },
   "outputs": [],
   "source": [
    "import numpy as np\n",
    "import pandas as pd\n",
    "\n",
    "from clustermatch import conf"
   ]
  },
  {
   "cell_type": "markdown",
   "id": "262eb535-3e5d-43d7-9efd-bd6cfdac9190",
   "metadata": {
    "papermill": {
     "duration": 0.262009,
     "end_time": "2021-12-21T19:13:59.686541",
     "exception": false,
     "start_time": "2021-12-21T19:13:59.424532",
     "status": "completed"
    },
    "tags": []
   },
   "source": [
    "# Settings"
   ]
  },
  {
   "cell_type": "code",
   "execution_count": 2,
   "id": "2d2bd14a-a40d-4710-98c2-587148d0f532",
   "metadata": {
    "papermill": {
     "duration": 0.249864,
     "end_time": "2021-12-21T19:14:00.192085",
     "exception": false,
     "start_time": "2021-12-21T19:13:59.942221",
     "status": "completed"
    },
    "tags": [
     "parameters"
    ]
   },
   "outputs": [],
   "source": [
    "DATASET_CONFIG = conf.RECOUNT2FULL\n",
    "# GTEX_TISSUE = None\n",
    "GENE_SEL_STRATEGY = \"var_pc_log2\""
   ]
  },
  {
   "cell_type": "markdown",
   "id": "eec9bb6d-4ba2-4817-9b36-bc8e68a2beae",
   "metadata": {
    "papermill": {
     "duration": 0.287195,
     "end_time": "2021-12-21T19:14:01.621842",
     "exception": false,
     "start_time": "2021-12-21T19:14:01.334647",
     "status": "completed"
    },
    "tags": []
   },
   "source": [
    "# Paths"
   ]
  },
  {
   "cell_type": "code",
   "execution_count": 3,
   "id": "3c15c5b5-1b4f-456a-a548-8fc23e03f0ae",
   "metadata": {
    "papermill": {
     "duration": 0.344954,
     "end_time": "2021-12-21T19:14:02.306168",
     "exception": false,
     "start_time": "2021-12-21T19:14:01.961214",
     "status": "completed"
    },
    "tags": []
   },
   "outputs": [
    {
     "data": {
      "text/plain": [
       "PosixPath('/opt/data/data/recount2full/recount2_rpkm.pkl')"
      ]
     },
     "metadata": {},
     "output_type": "display_data"
    }
   ],
   "source": [
    "INPUT_GENE_EXPR_DATA_FILE = DATASET_CONFIG[\"DATA_DIR\"] / \"recount2_rpkm.pkl\"\n",
    "display(INPUT_GENE_EXPR_DATA_FILE)\n",
    "\n",
    "assert INPUT_GENE_EXPR_DATA_FILE.exists()"
   ]
  },
  {
   "cell_type": "code",
   "execution_count": 4,
   "id": "34c70f63-0878-4f29-9ea5-2570e6f9f33b",
   "metadata": {
    "papermill": {
     "duration": 0.326213,
     "end_time": "2021-12-21T19:14:02.942265",
     "exception": false,
     "start_time": "2021-12-21T19:14:02.616052",
     "status": "completed"
    },
    "tags": []
   },
   "outputs": [
    {
     "data": {
      "text/plain": [
       "PosixPath('/opt/data/results/recount2full/similarity_matrices/recount2_rpkm-{gene_sel_strategy}-{corr_method}.pkl')"
      ]
     },
     "metadata": {},
     "output_type": "display_data"
    }
   ],
   "source": [
    "INPUT_CORR_FILE_TEMPLATE = (\n",
    "    DATASET_CONFIG[\"SIMILARITY_MATRICES_DIR\"]\n",
    "    / DATASET_CONFIG[\"SIMILARITY_MATRIX_FILENAME_TEMPLATE\"]\n",
    ")\n",
    "display(INPUT_CORR_FILE_TEMPLATE)"
   ]
  },
  {
   "cell_type": "code",
   "execution_count": 5,
   "id": "92b9bfd4",
   "metadata": {
    "papermill": {
     "duration": 0.278054,
     "end_time": "2021-12-21T19:14:03.454763",
     "exception": false,
     "start_time": "2021-12-21T19:14:03.176709",
     "status": "completed"
    },
    "tags": []
   },
   "outputs": [
    {
     "data": {
      "text/plain": [
       "PosixPath('/opt/data/results/recount2full/similarity_matrices/recount2_rpkm-var_pc_log2-all.pkl')"
      ]
     },
     "metadata": {},
     "output_type": "display_data"
    }
   ],
   "source": [
    "OUTPUT_FILE = DATASET_CONFIG[\"SIMILARITY_MATRICES_DIR\"] / str(\n",
    "    INPUT_CORR_FILE_TEMPLATE\n",
    ").format(\n",
    "    gene_sel_strategy=GENE_SEL_STRATEGY,\n",
    "    corr_method=\"all\",\n",
    ")\n",
    "display(OUTPUT_FILE)"
   ]
  },
  {
   "cell_type": "markdown",
   "id": "e2746a93-d631-4346-9d10-a5c1f9f8de4a",
   "metadata": {
    "papermill": {
     "duration": 0.307821,
     "end_time": "2021-12-21T19:14:04.035162",
     "exception": false,
     "start_time": "2021-12-21T19:14:03.727341",
     "status": "completed"
    },
    "tags": []
   },
   "source": [
    "# Load data"
   ]
  },
  {
   "cell_type": "markdown",
   "id": "76ab9bbb-c93f-4154-b8ba-81934beb14bc",
   "metadata": {
    "papermill": {
     "duration": 0.234788,
     "end_time": "2021-12-21T19:14:04.530671",
     "exception": false,
     "start_time": "2021-12-21T19:14:04.295883",
     "status": "completed"
    },
    "tags": []
   },
   "source": [
    "## Gene Ensembl ID -> Symbol mapping"
   ]
  },
  {
   "cell_type": "code",
   "execution_count": 6,
   "id": "39b30f9d-d55b-440b-bb27-d5dc32e43780",
   "metadata": {
    "papermill": {
     "duration": 0.271796,
     "end_time": "2021-12-21T19:14:05.026691",
     "exception": false,
     "start_time": "2021-12-21T19:14:04.754895",
     "status": "completed"
    },
    "tags": []
   },
   "outputs": [],
   "source": [
    "# gene_map = pd.read_pickle(\n",
    "#     DATASET_CONFIG[\"DATA_DIR\"] / \"gtex_gene_id_symbol_mappings.pkl\"\n",
    "# )"
   ]
  },
  {
   "cell_type": "code",
   "execution_count": 7,
   "id": "7a6eabb9-80c7-4711-84b1-b29d5d7adea6",
   "metadata": {
    "papermill": {
     "duration": 0.355698,
     "end_time": "2021-12-21T19:14:05.625799",
     "exception": false,
     "start_time": "2021-12-21T19:14:05.270101",
     "status": "completed"
    },
    "tags": []
   },
   "outputs": [],
   "source": [
    "# gene_map = gene_map.set_index(\"gene_ens_id\")[\"gene_symbol\"].to_dict()"
   ]
  },
  {
   "cell_type": "code",
   "execution_count": 8,
   "id": "e51b921d-0adf-4006-9602-d075f223c260",
   "metadata": {
    "papermill": {
     "duration": 0.256048,
     "end_time": "2021-12-21T19:14:06.213503",
     "exception": false,
     "start_time": "2021-12-21T19:14:05.957455",
     "status": "completed"
    },
    "tags": []
   },
   "outputs": [],
   "source": [
    "# assert gene_map[\"ENSG00000145309.5\"] == \"CABS1\""
   ]
  },
  {
   "cell_type": "markdown",
   "id": "f4669dbd-b654-4090-8a72-aa6bf0a6053c",
   "metadata": {
    "papermill": {
     "duration": 0.196825,
     "end_time": "2021-12-21T19:14:06.604870",
     "exception": false,
     "start_time": "2021-12-21T19:14:06.408045",
     "status": "completed"
    },
    "tags": []
   },
   "source": [
    "## Gene expression"
   ]
  },
  {
   "cell_type": "code",
   "execution_count": 9,
   "id": "04690975-e95b-4fc9-ad3e-3d29e2a3ff5a",
   "metadata": {
    "papermill": {
     "duration": 0.227146,
     "end_time": "2021-12-21T19:14:07.024569",
     "exception": false,
     "start_time": "2021-12-21T19:14:06.797423",
     "status": "completed"
    },
    "tags": []
   },
   "outputs": [],
   "source": [
    "# data = pd.read_pickle(INPUT_GENE_EXPR_DATA_FILE)"
   ]
  },
  {
   "cell_type": "code",
   "execution_count": 10,
   "id": "bebfab6c-9805-4cee-8fc3-be66cb45ade7",
   "metadata": {
    "papermill": {
     "duration": 0.252077,
     "end_time": "2021-12-21T19:14:07.516273",
     "exception": false,
     "start_time": "2021-12-21T19:14:07.264196",
     "status": "completed"
    },
    "tags": []
   },
   "outputs": [
    {
     "data": {
      "text/plain": [
       "(57096, 37032)"
      ]
     },
     "execution_count": 10,
     "metadata": {},
     "output_type": "execute_result"
    }
   ],
   "source": [
    "# data.shape"
   ]
  },
  {
   "cell_type": "code",
   "execution_count": 11,
   "id": "20cdd83a-3bbb-4b7b-95a7-1095713af74c",
   "metadata": {
    "papermill": {
     "duration": 0.216398,
     "end_time": "2021-12-21T19:14:07.928755",
     "exception": false,
     "start_time": "2021-12-21T19:14:07.712357",
     "status": "completed"
    },
    "tags": []
   },
   "outputs": [
    {
     "data": {
      "text/html": [
       "<div>\n",
       "<style scoped>\n",
       "    .dataframe tbody tr th:only-of-type {\n",
       "        vertical-align: middle;\n",
       "    }\n",
       "\n",
       "    .dataframe tbody tr th {\n",
       "        vertical-align: top;\n",
       "    }\n",
       "\n",
       "    .dataframe thead th {\n",
       "        text-align: right;\n",
       "    }\n",
       "</style>\n",
       "<table border=\"1\" class=\"dataframe\">\n",
       "  <thead>\n",
       "    <tr style=\"text-align: right;\">\n",
       "      <th></th>\n",
       "      <th>SRP000599.SRR013549</th>\n",
       "      <th>SRP000599.SRR013550</th>\n",
       "      <th>SRP000599.SRR013551</th>\n",
       "      <th>SRP000599.SRR013552</th>\n",
       "      <th>SRP000599.SRR013553</th>\n",
       "      <th>SRP000599.SRR013554</th>\n",
       "      <th>SRP000599.SRR013555</th>\n",
       "      <th>SRP000599.SRR013556</th>\n",
       "      <th>SRP000599.SRR013557</th>\n",
       "      <th>SRP000599.SRR013558</th>\n",
       "      <th>...</th>\n",
       "      <th>SRP035599.SRR1139372</th>\n",
       "      <th>SRP035599.SRR1139393</th>\n",
       "      <th>SRP035599.SRR1139388</th>\n",
       "      <th>SRP035599.SRR1139378</th>\n",
       "      <th>SRP035599.SRR1139399</th>\n",
       "      <th>SRP035599.SRR1139386</th>\n",
       "      <th>SRP035599.SRR1139375</th>\n",
       "      <th>SRP035599.SRR1139382</th>\n",
       "      <th>SRP035599.SRR1139356</th>\n",
       "      <th>SRP035599.SRR1139370</th>\n",
       "    </tr>\n",
       "  </thead>\n",
       "  <tbody>\n",
       "    <tr>\n",
       "      <th>ENSG00000000003</th>\n",
       "      <td>0.000000</td>\n",
       "      <td>0.0</td>\n",
       "      <td>0.000000</td>\n",
       "      <td>0.0</td>\n",
       "      <td>0.0</td>\n",
       "      <td>0.0</td>\n",
       "      <td>0.929351</td>\n",
       "      <td>1.175312</td>\n",
       "      <td>0.459859</td>\n",
       "      <td>1.254482</td>\n",
       "      <td>...</td>\n",
       "      <td>0.017900</td>\n",
       "      <td>0.029771</td>\n",
       "      <td>0.081792</td>\n",
       "      <td>0.000000</td>\n",
       "      <td>0.064336</td>\n",
       "      <td>0.408565</td>\n",
       "      <td>0.000000</td>\n",
       "      <td>0.010008</td>\n",
       "      <td>0.000000</td>\n",
       "      <td>0.027440</td>\n",
       "    </tr>\n",
       "    <tr>\n",
       "      <th>ENSG00000000005</th>\n",
       "      <td>0.000000</td>\n",
       "      <td>0.0</td>\n",
       "      <td>0.000000</td>\n",
       "      <td>0.0</td>\n",
       "      <td>0.0</td>\n",
       "      <td>0.0</td>\n",
       "      <td>0.000000</td>\n",
       "      <td>0.000000</td>\n",
       "      <td>0.000000</td>\n",
       "      <td>0.000000</td>\n",
       "      <td>...</td>\n",
       "      <td>0.000000</td>\n",
       "      <td>0.000000</td>\n",
       "      <td>0.000000</td>\n",
       "      <td>0.000000</td>\n",
       "      <td>0.011364</td>\n",
       "      <td>0.000000</td>\n",
       "      <td>0.000000</td>\n",
       "      <td>0.000000</td>\n",
       "      <td>0.000000</td>\n",
       "      <td>0.000000</td>\n",
       "    </tr>\n",
       "    <tr>\n",
       "      <th>ENSG00000000419</th>\n",
       "      <td>0.000000</td>\n",
       "      <td>0.0</td>\n",
       "      <td>0.000000</td>\n",
       "      <td>0.0</td>\n",
       "      <td>0.0</td>\n",
       "      <td>0.0</td>\n",
       "      <td>0.000000</td>\n",
       "      <td>0.000000</td>\n",
       "      <td>5.561367</td>\n",
       "      <td>2.945875</td>\n",
       "      <td>...</td>\n",
       "      <td>29.761841</td>\n",
       "      <td>37.385839</td>\n",
       "      <td>20.649367</td>\n",
       "      <td>30.926951</td>\n",
       "      <td>23.025321</td>\n",
       "      <td>24.162726</td>\n",
       "      <td>11.302146</td>\n",
       "      <td>30.588071</td>\n",
       "      <td>20.268225</td>\n",
       "      <td>14.817692</td>\n",
       "    </tr>\n",
       "    <tr>\n",
       "      <th>ENSG00000000457</th>\n",
       "      <td>0.000000</td>\n",
       "      <td>0.0</td>\n",
       "      <td>0.000000</td>\n",
       "      <td>0.0</td>\n",
       "      <td>0.0</td>\n",
       "      <td>0.0</td>\n",
       "      <td>0.000000</td>\n",
       "      <td>0.000000</td>\n",
       "      <td>0.000000</td>\n",
       "      <td>0.262267</td>\n",
       "      <td>...</td>\n",
       "      <td>3.886637</td>\n",
       "      <td>4.945604</td>\n",
       "      <td>2.421947</td>\n",
       "      <td>4.127070</td>\n",
       "      <td>2.597540</td>\n",
       "      <td>2.692441</td>\n",
       "      <td>3.784122</td>\n",
       "      <td>2.715137</td>\n",
       "      <td>3.255437</td>\n",
       "      <td>2.210011</td>\n",
       "    </tr>\n",
       "    <tr>\n",
       "      <th>ENSG00000000460</th>\n",
       "      <td>0.084565</td>\n",
       "      <td>0.0</td>\n",
       "      <td>0.497083</td>\n",
       "      <td>0.0</td>\n",
       "      <td>0.0</td>\n",
       "      <td>0.0</td>\n",
       "      <td>1.177199</td>\n",
       "      <td>0.000000</td>\n",
       "      <td>0.000000</td>\n",
       "      <td>0.000000</td>\n",
       "      <td>...</td>\n",
       "      <td>2.585671</td>\n",
       "      <td>3.580650</td>\n",
       "      <td>1.800513</td>\n",
       "      <td>3.013335</td>\n",
       "      <td>2.352776</td>\n",
       "      <td>1.680907</td>\n",
       "      <td>2.413180</td>\n",
       "      <td>2.202502</td>\n",
       "      <td>1.720274</td>\n",
       "      <td>2.199518</td>\n",
       "    </tr>\n",
       "  </tbody>\n",
       "</table>\n",
       "<p>5 rows × 37032 columns</p>\n",
       "</div>"
      ],
      "text/plain": [
       "                 SRP000599.SRR013549  SRP000599.SRR013550  \\\n",
       "ENSG00000000003             0.000000                  0.0   \n",
       "ENSG00000000005             0.000000                  0.0   \n",
       "ENSG00000000419             0.000000                  0.0   \n",
       "ENSG00000000457             0.000000                  0.0   \n",
       "ENSG00000000460             0.084565                  0.0   \n",
       "\n",
       "                 SRP000599.SRR013551  SRP000599.SRR013552  \\\n",
       "ENSG00000000003             0.000000                  0.0   \n",
       "ENSG00000000005             0.000000                  0.0   \n",
       "ENSG00000000419             0.000000                  0.0   \n",
       "ENSG00000000457             0.000000                  0.0   \n",
       "ENSG00000000460             0.497083                  0.0   \n",
       "\n",
       "                 SRP000599.SRR013553  SRP000599.SRR013554  \\\n",
       "ENSG00000000003                  0.0                  0.0   \n",
       "ENSG00000000005                  0.0                  0.0   \n",
       "ENSG00000000419                  0.0                  0.0   \n",
       "ENSG00000000457                  0.0                  0.0   \n",
       "ENSG00000000460                  0.0                  0.0   \n",
       "\n",
       "                 SRP000599.SRR013555  SRP000599.SRR013556  \\\n",
       "ENSG00000000003             0.929351             1.175312   \n",
       "ENSG00000000005             0.000000             0.000000   \n",
       "ENSG00000000419             0.000000             0.000000   \n",
       "ENSG00000000457             0.000000             0.000000   \n",
       "ENSG00000000460             1.177199             0.000000   \n",
       "\n",
       "                 SRP000599.SRR013557  SRP000599.SRR013558  ...  \\\n",
       "ENSG00000000003             0.459859             1.254482  ...   \n",
       "ENSG00000000005             0.000000             0.000000  ...   \n",
       "ENSG00000000419             5.561367             2.945875  ...   \n",
       "ENSG00000000457             0.000000             0.262267  ...   \n",
       "ENSG00000000460             0.000000             0.000000  ...   \n",
       "\n",
       "                 SRP035599.SRR1139372  SRP035599.SRR1139393  \\\n",
       "ENSG00000000003              0.017900              0.029771   \n",
       "ENSG00000000005              0.000000              0.000000   \n",
       "ENSG00000000419             29.761841             37.385839   \n",
       "ENSG00000000457              3.886637              4.945604   \n",
       "ENSG00000000460              2.585671              3.580650   \n",
       "\n",
       "                 SRP035599.SRR1139388  SRP035599.SRR1139378  \\\n",
       "ENSG00000000003              0.081792              0.000000   \n",
       "ENSG00000000005              0.000000              0.000000   \n",
       "ENSG00000000419             20.649367             30.926951   \n",
       "ENSG00000000457              2.421947              4.127070   \n",
       "ENSG00000000460              1.800513              3.013335   \n",
       "\n",
       "                 SRP035599.SRR1139399  SRP035599.SRR1139386  \\\n",
       "ENSG00000000003              0.064336              0.408565   \n",
       "ENSG00000000005              0.011364              0.000000   \n",
       "ENSG00000000419             23.025321             24.162726   \n",
       "ENSG00000000457              2.597540              2.692441   \n",
       "ENSG00000000460              2.352776              1.680907   \n",
       "\n",
       "                 SRP035599.SRR1139375  SRP035599.SRR1139382  \\\n",
       "ENSG00000000003              0.000000              0.010008   \n",
       "ENSG00000000005              0.000000              0.000000   \n",
       "ENSG00000000419             11.302146             30.588071   \n",
       "ENSG00000000457              3.784122              2.715137   \n",
       "ENSG00000000460              2.413180              2.202502   \n",
       "\n",
       "                 SRP035599.SRR1139356  SRP035599.SRR1139370  \n",
       "ENSG00000000003              0.000000              0.027440  \n",
       "ENSG00000000005              0.000000              0.000000  \n",
       "ENSG00000000419             20.268225             14.817692  \n",
       "ENSG00000000457              3.255437              2.210011  \n",
       "ENSG00000000460              1.720274              2.199518  \n",
       "\n",
       "[5 rows x 37032 columns]"
      ]
     },
     "execution_count": 11,
     "metadata": {},
     "output_type": "execute_result"
    }
   ],
   "source": [
    "# data.head()"
   ]
  },
  {
   "cell_type": "markdown",
   "id": "f816809d-2024-4c2c-be4f-3c04e24ecfca",
   "metadata": {
    "papermill": {
     "duration": 0.182706,
     "end_time": "2021-12-21T19:14:08.298235",
     "exception": false,
     "start_time": "2021-12-21T19:14:08.115529",
     "status": "completed"
    },
    "tags": []
   },
   "source": [
    "## Clustermatch"
   ]
  },
  {
   "cell_type": "code",
   "execution_count": 12,
   "id": "9a8196ee-48d8-42f8-814b-8125a4e5e63b",
   "metadata": {
    "papermill": {
     "duration": 0.400129,
     "end_time": "2021-12-21T19:14:08.874468",
     "exception": false,
     "start_time": "2021-12-21T19:14:08.474339",
     "status": "completed"
    },
    "tags": []
   },
   "outputs": [],
   "source": [
    "clustermatch_df = pd.read_pickle(\n",
    "    str(INPUT_CORR_FILE_TEMPLATE).format(\n",
    "        gene_sel_strategy=GENE_SEL_STRATEGY,\n",
    "        corr_method=\"clustermatch\",\n",
    "    )\n",
    ")"
   ]
  },
  {
   "cell_type": "code",
   "execution_count": 13,
   "id": "5f611930-9923-4ff2-9c1f-fb81bcdad625",
   "metadata": {
    "papermill": {
     "duration": 0.188724,
     "end_time": "2021-12-21T19:14:09.245734",
     "exception": false,
     "start_time": "2021-12-21T19:14:09.057010",
     "status": "completed"
    },
    "tags": []
   },
   "outputs": [
    {
     "data": {
      "text/plain": [
       "(5000, 5000)"
      ]
     },
     "execution_count": 13,
     "metadata": {},
     "output_type": "execute_result"
    }
   ],
   "source": [
    "clustermatch_df.shape"
   ]
  },
  {
   "cell_type": "code",
   "execution_count": 14,
   "id": "c9fc4460-6ae2-42ab-9923-9f7a3e3d942c",
   "metadata": {
    "papermill": {
     "duration": 0.202476,
     "end_time": "2021-12-21T19:14:09.625937",
     "exception": false,
     "start_time": "2021-12-21T19:14:09.423461",
     "status": "completed"
    },
    "tags": []
   },
   "outputs": [
    {
     "data": {
      "text/html": [
       "<div>\n",
       "<style scoped>\n",
       "    .dataframe tbody tr th:only-of-type {\n",
       "        vertical-align: middle;\n",
       "    }\n",
       "\n",
       "    .dataframe tbody tr th {\n",
       "        vertical-align: top;\n",
       "    }\n",
       "\n",
       "    .dataframe thead th {\n",
       "        text-align: right;\n",
       "    }\n",
       "</style>\n",
       "<table border=\"1\" class=\"dataframe\">\n",
       "  <thead>\n",
       "    <tr style=\"text-align: right;\">\n",
       "      <th></th>\n",
       "      <th>ENSG00000283293</th>\n",
       "      <th>ENSG00000202198</th>\n",
       "      <th>ENSG00000277027</th>\n",
       "      <th>ENSG00000269900</th>\n",
       "      <th>ENSG00000274012</th>\n",
       "      <th>ENSG00000276168</th>\n",
       "      <th>ENSG00000222328</th>\n",
       "      <th>ENSG00000277209</th>\n",
       "      <th>ENSG00000199153</th>\n",
       "      <th>ENSG00000198975</th>\n",
       "      <th>...</th>\n",
       "      <th>ENSG00000091140</th>\n",
       "      <th>ENSG00000271029</th>\n",
       "      <th>ENSG00000053372</th>\n",
       "      <th>ENSG00000113845</th>\n",
       "      <th>ENSG00000231864</th>\n",
       "      <th>ENSG00000141574</th>\n",
       "      <th>ENSG00000169750</th>\n",
       "      <th>ENSG00000129559</th>\n",
       "      <th>ENSG00000237441</th>\n",
       "      <th>ENSG00000204103</th>\n",
       "    </tr>\n",
       "  </thead>\n",
       "  <tbody>\n",
       "    <tr>\n",
       "      <th>ENSG00000283293</th>\n",
       "      <td>1.000000</td>\n",
       "      <td>0.997409</td>\n",
       "      <td>0.388822</td>\n",
       "      <td>0.388148</td>\n",
       "      <td>0.307624</td>\n",
       "      <td>0.309664</td>\n",
       "      <td>0.188582</td>\n",
       "      <td>0.362346</td>\n",
       "      <td>0.016348</td>\n",
       "      <td>0.019026</td>\n",
       "      <td>...</td>\n",
       "      <td>0.046560</td>\n",
       "      <td>0.032001</td>\n",
       "      <td>0.052698</td>\n",
       "      <td>0.054409</td>\n",
       "      <td>0.070712</td>\n",
       "      <td>0.073847</td>\n",
       "      <td>0.082497</td>\n",
       "      <td>0.057451</td>\n",
       "      <td>0.080660</td>\n",
       "      <td>0.071110</td>\n",
       "    </tr>\n",
       "    <tr>\n",
       "      <th>ENSG00000202198</th>\n",
       "      <td>0.997409</td>\n",
       "      <td>1.000000</td>\n",
       "      <td>0.388687</td>\n",
       "      <td>0.388014</td>\n",
       "      <td>0.307145</td>\n",
       "      <td>0.309304</td>\n",
       "      <td>0.189155</td>\n",
       "      <td>0.362346</td>\n",
       "      <td>0.016569</td>\n",
       "      <td>0.019276</td>\n",
       "      <td>...</td>\n",
       "      <td>0.046592</td>\n",
       "      <td>0.032045</td>\n",
       "      <td>0.052699</td>\n",
       "      <td>0.054446</td>\n",
       "      <td>0.070764</td>\n",
       "      <td>0.073885</td>\n",
       "      <td>0.082517</td>\n",
       "      <td>0.057564</td>\n",
       "      <td>0.080703</td>\n",
       "      <td>0.071115</td>\n",
       "    </tr>\n",
       "    <tr>\n",
       "      <th>ENSG00000277027</th>\n",
       "      <td>0.388822</td>\n",
       "      <td>0.388687</td>\n",
       "      <td>1.000000</td>\n",
       "      <td>0.997248</td>\n",
       "      <td>0.312436</td>\n",
       "      <td>0.323767</td>\n",
       "      <td>0.253694</td>\n",
       "      <td>0.442272</td>\n",
       "      <td>0.044580</td>\n",
       "      <td>0.050314</td>\n",
       "      <td>...</td>\n",
       "      <td>0.055954</td>\n",
       "      <td>0.055008</td>\n",
       "      <td>0.052847</td>\n",
       "      <td>0.068255</td>\n",
       "      <td>0.144014</td>\n",
       "      <td>0.126810</td>\n",
       "      <td>0.133990</td>\n",
       "      <td>0.060372</td>\n",
       "      <td>0.097734</td>\n",
       "      <td>0.106721</td>\n",
       "    </tr>\n",
       "    <tr>\n",
       "      <th>ENSG00000269900</th>\n",
       "      <td>0.388148</td>\n",
       "      <td>0.388014</td>\n",
       "      <td>0.997248</td>\n",
       "      <td>1.000000</td>\n",
       "      <td>0.312436</td>\n",
       "      <td>0.323521</td>\n",
       "      <td>0.254239</td>\n",
       "      <td>0.442990</td>\n",
       "      <td>0.045083</td>\n",
       "      <td>0.050946</td>\n",
       "      <td>...</td>\n",
       "      <td>0.056069</td>\n",
       "      <td>0.055043</td>\n",
       "      <td>0.052900</td>\n",
       "      <td>0.068313</td>\n",
       "      <td>0.144032</td>\n",
       "      <td>0.126865</td>\n",
       "      <td>0.134004</td>\n",
       "      <td>0.060549</td>\n",
       "      <td>0.097829</td>\n",
       "      <td>0.106795</td>\n",
       "    </tr>\n",
       "    <tr>\n",
       "      <th>ENSG00000274012</th>\n",
       "      <td>0.307624</td>\n",
       "      <td>0.307145</td>\n",
       "      <td>0.312436</td>\n",
       "      <td>0.312436</td>\n",
       "      <td>1.000000</td>\n",
       "      <td>0.813849</td>\n",
       "      <td>0.167205</td>\n",
       "      <td>0.301306</td>\n",
       "      <td>0.023380</td>\n",
       "      <td>0.024478</td>\n",
       "      <td>...</td>\n",
       "      <td>0.036689</td>\n",
       "      <td>0.020403</td>\n",
       "      <td>0.031920</td>\n",
       "      <td>0.040169</td>\n",
       "      <td>0.051892</td>\n",
       "      <td>0.052831</td>\n",
       "      <td>0.055428</td>\n",
       "      <td>0.043394</td>\n",
       "      <td>0.060808</td>\n",
       "      <td>0.054081</td>\n",
       "    </tr>\n",
       "  </tbody>\n",
       "</table>\n",
       "<p>5 rows × 5000 columns</p>\n",
       "</div>"
      ],
      "text/plain": [
       "                 ENSG00000283293  ENSG00000202198  ENSG00000277027  \\\n",
       "ENSG00000283293         1.000000         0.997409         0.388822   \n",
       "ENSG00000202198         0.997409         1.000000         0.388687   \n",
       "ENSG00000277027         0.388822         0.388687         1.000000   \n",
       "ENSG00000269900         0.388148         0.388014         0.997248   \n",
       "ENSG00000274012         0.307624         0.307145         0.312436   \n",
       "\n",
       "                 ENSG00000269900  ENSG00000274012  ENSG00000276168  \\\n",
       "ENSG00000283293         0.388148         0.307624         0.309664   \n",
       "ENSG00000202198         0.388014         0.307145         0.309304   \n",
       "ENSG00000277027         0.997248         0.312436         0.323767   \n",
       "ENSG00000269900         1.000000         0.312436         0.323521   \n",
       "ENSG00000274012         0.312436         1.000000         0.813849   \n",
       "\n",
       "                 ENSG00000222328  ENSG00000277209  ENSG00000199153  \\\n",
       "ENSG00000283293         0.188582         0.362346         0.016348   \n",
       "ENSG00000202198         0.189155         0.362346         0.016569   \n",
       "ENSG00000277027         0.253694         0.442272         0.044580   \n",
       "ENSG00000269900         0.254239         0.442990         0.045083   \n",
       "ENSG00000274012         0.167205         0.301306         0.023380   \n",
       "\n",
       "                 ENSG00000198975  ...  ENSG00000091140  ENSG00000271029  \\\n",
       "ENSG00000283293         0.019026  ...         0.046560         0.032001   \n",
       "ENSG00000202198         0.019276  ...         0.046592         0.032045   \n",
       "ENSG00000277027         0.050314  ...         0.055954         0.055008   \n",
       "ENSG00000269900         0.050946  ...         0.056069         0.055043   \n",
       "ENSG00000274012         0.024478  ...         0.036689         0.020403   \n",
       "\n",
       "                 ENSG00000053372  ENSG00000113845  ENSG00000231864  \\\n",
       "ENSG00000283293         0.052698         0.054409         0.070712   \n",
       "ENSG00000202198         0.052699         0.054446         0.070764   \n",
       "ENSG00000277027         0.052847         0.068255         0.144014   \n",
       "ENSG00000269900         0.052900         0.068313         0.144032   \n",
       "ENSG00000274012         0.031920         0.040169         0.051892   \n",
       "\n",
       "                 ENSG00000141574  ENSG00000169750  ENSG00000129559  \\\n",
       "ENSG00000283293         0.073847         0.082497         0.057451   \n",
       "ENSG00000202198         0.073885         0.082517         0.057564   \n",
       "ENSG00000277027         0.126810         0.133990         0.060372   \n",
       "ENSG00000269900         0.126865         0.134004         0.060549   \n",
       "ENSG00000274012         0.052831         0.055428         0.043394   \n",
       "\n",
       "                 ENSG00000237441  ENSG00000204103  \n",
       "ENSG00000283293         0.080660         0.071110  \n",
       "ENSG00000202198         0.080703         0.071115  \n",
       "ENSG00000277027         0.097734         0.106721  \n",
       "ENSG00000269900         0.097829         0.106795  \n",
       "ENSG00000274012         0.060808         0.054081  \n",
       "\n",
       "[5 rows x 5000 columns]"
      ]
     },
     "execution_count": 14,
     "metadata": {},
     "output_type": "execute_result"
    }
   ],
   "source": [
    "clustermatch_df.head()"
   ]
  },
  {
   "cell_type": "markdown",
   "id": "0277745a-71cf-4b42-a1ad-949ffa423a35",
   "metadata": {
    "papermill": {
     "duration": 0.21769,
     "end_time": "2021-12-21T19:14:10.408286",
     "exception": false,
     "start_time": "2021-12-21T19:14:10.190596",
     "status": "completed"
    },
    "tags": []
   },
   "source": [
    "## Pearson"
   ]
  },
  {
   "cell_type": "code",
   "execution_count": 16,
   "id": "25fec66a-2209-4556-9ab9-a6de8ae6737c",
   "metadata": {
    "papermill": {
     "duration": 0.57274,
     "end_time": "2021-12-21T19:14:11.181689",
     "exception": false,
     "start_time": "2021-12-21T19:14:10.608949",
     "status": "completed"
    },
    "tags": []
   },
   "outputs": [],
   "source": [
    "pearson_df = pd.read_pickle(\n",
    "    str(INPUT_CORR_FILE_TEMPLATE).format(\n",
    "        gene_sel_strategy=GENE_SEL_STRATEGY,\n",
    "        corr_method=\"pearson\",\n",
    "    )\n",
    ")"
   ]
  },
  {
   "cell_type": "code",
   "execution_count": 17,
   "id": "9cf7764d-a6f1-4fa3-9731-4eacac4ec7ef",
   "metadata": {
    "papermill": {
     "duration": 0.229354,
     "end_time": "2021-12-21T19:14:11.643351",
     "exception": false,
     "start_time": "2021-12-21T19:14:11.413997",
     "status": "completed"
    },
    "tags": []
   },
   "outputs": [
    {
     "data": {
      "text/plain": [
       "(5000, 5000)"
      ]
     },
     "execution_count": 17,
     "metadata": {},
     "output_type": "execute_result"
    }
   ],
   "source": [
    "pearson_df.shape"
   ]
  },
  {
   "cell_type": "code",
   "execution_count": 18,
   "id": "d2a2fe84-ead6-4ac3-8980-e9ecc8fb4eec",
   "metadata": {
    "papermill": {
     "duration": 0.208564,
     "end_time": "2021-12-21T19:14:12.053021",
     "exception": false,
     "start_time": "2021-12-21T19:14:11.844457",
     "status": "completed"
    },
    "tags": []
   },
   "outputs": [
    {
     "data": {
      "text/html": [
       "<div>\n",
       "<style scoped>\n",
       "    .dataframe tbody tr th:only-of-type {\n",
       "        vertical-align: middle;\n",
       "    }\n",
       "\n",
       "    .dataframe tbody tr th {\n",
       "        vertical-align: top;\n",
       "    }\n",
       "\n",
       "    .dataframe thead th {\n",
       "        text-align: right;\n",
       "    }\n",
       "</style>\n",
       "<table border=\"1\" class=\"dataframe\">\n",
       "  <thead>\n",
       "    <tr style=\"text-align: right;\">\n",
       "      <th></th>\n",
       "      <th>ENSG00000283293</th>\n",
       "      <th>ENSG00000202198</th>\n",
       "      <th>ENSG00000277027</th>\n",
       "      <th>ENSG00000269900</th>\n",
       "      <th>ENSG00000274012</th>\n",
       "      <th>ENSG00000276168</th>\n",
       "      <th>ENSG00000222328</th>\n",
       "      <th>ENSG00000277209</th>\n",
       "      <th>ENSG00000199153</th>\n",
       "      <th>ENSG00000198975</th>\n",
       "      <th>...</th>\n",
       "      <th>ENSG00000091140</th>\n",
       "      <th>ENSG00000271029</th>\n",
       "      <th>ENSG00000053372</th>\n",
       "      <th>ENSG00000113845</th>\n",
       "      <th>ENSG00000231864</th>\n",
       "      <th>ENSG00000141574</th>\n",
       "      <th>ENSG00000169750</th>\n",
       "      <th>ENSG00000129559</th>\n",
       "      <th>ENSG00000237441</th>\n",
       "      <th>ENSG00000204103</th>\n",
       "    </tr>\n",
       "  </thead>\n",
       "  <tbody>\n",
       "    <tr>\n",
       "      <th>ENSG00000283293</th>\n",
       "      <td>1.000000</td>\n",
       "      <td>0.999999</td>\n",
       "      <td>0.515202</td>\n",
       "      <td>0.514507</td>\n",
       "      <td>0.653300</td>\n",
       "      <td>0.649241</td>\n",
       "      <td>0.166681</td>\n",
       "      <td>0.518923</td>\n",
       "      <td>-0.040069</td>\n",
       "      <td>-0.043148</td>\n",
       "      <td>...</td>\n",
       "      <td>-0.064204</td>\n",
       "      <td>-0.058628</td>\n",
       "      <td>-0.046910</td>\n",
       "      <td>-0.052973</td>\n",
       "      <td>-0.025782</td>\n",
       "      <td>-0.046511</td>\n",
       "      <td>-0.024716</td>\n",
       "      <td>-0.062468</td>\n",
       "      <td>-0.071035</td>\n",
       "      <td>-0.037985</td>\n",
       "    </tr>\n",
       "    <tr>\n",
       "      <th>ENSG00000202198</th>\n",
       "      <td>0.999999</td>\n",
       "      <td>1.000000</td>\n",
       "      <td>0.515256</td>\n",
       "      <td>0.514562</td>\n",
       "      <td>0.653250</td>\n",
       "      <td>0.649193</td>\n",
       "      <td>0.166957</td>\n",
       "      <td>0.518955</td>\n",
       "      <td>-0.040066</td>\n",
       "      <td>-0.043145</td>\n",
       "      <td>...</td>\n",
       "      <td>-0.064222</td>\n",
       "      <td>-0.058622</td>\n",
       "      <td>-0.046917</td>\n",
       "      <td>-0.052972</td>\n",
       "      <td>-0.025804</td>\n",
       "      <td>-0.046519</td>\n",
       "      <td>-0.024727</td>\n",
       "      <td>-0.062482</td>\n",
       "      <td>-0.071055</td>\n",
       "      <td>-0.037999</td>\n",
       "    </tr>\n",
       "    <tr>\n",
       "      <th>ENSG00000277027</th>\n",
       "      <td>0.515202</td>\n",
       "      <td>0.515256</td>\n",
       "      <td>1.000000</td>\n",
       "      <td>0.999971</td>\n",
       "      <td>0.440194</td>\n",
       "      <td>0.465146</td>\n",
       "      <td>0.147535</td>\n",
       "      <td>0.461809</td>\n",
       "      <td>-0.023337</td>\n",
       "      <td>-0.022233</td>\n",
       "      <td>...</td>\n",
       "      <td>-0.062248</td>\n",
       "      <td>-0.032562</td>\n",
       "      <td>-0.020159</td>\n",
       "      <td>-0.045516</td>\n",
       "      <td>0.019484</td>\n",
       "      <td>-0.038532</td>\n",
       "      <td>0.000263</td>\n",
       "      <td>-0.050129</td>\n",
       "      <td>-0.050948</td>\n",
       "      <td>-0.036801</td>\n",
       "    </tr>\n",
       "    <tr>\n",
       "      <th>ENSG00000269900</th>\n",
       "      <td>0.514507</td>\n",
       "      <td>0.514562</td>\n",
       "      <td>0.999971</td>\n",
       "      <td>1.000000</td>\n",
       "      <td>0.439583</td>\n",
       "      <td>0.464473</td>\n",
       "      <td>0.148328</td>\n",
       "      <td>0.463137</td>\n",
       "      <td>-0.023019</td>\n",
       "      <td>-0.021799</td>\n",
       "      <td>...</td>\n",
       "      <td>-0.062479</td>\n",
       "      <td>-0.032622</td>\n",
       "      <td>-0.020378</td>\n",
       "      <td>-0.045693</td>\n",
       "      <td>0.019221</td>\n",
       "      <td>-0.038585</td>\n",
       "      <td>0.000123</td>\n",
       "      <td>-0.050248</td>\n",
       "      <td>-0.051162</td>\n",
       "      <td>-0.036874</td>\n",
       "    </tr>\n",
       "    <tr>\n",
       "      <th>ENSG00000274012</th>\n",
       "      <td>0.653300</td>\n",
       "      <td>0.653250</td>\n",
       "      <td>0.440194</td>\n",
       "      <td>0.439583</td>\n",
       "      <td>1.000000</td>\n",
       "      <td>0.959574</td>\n",
       "      <td>0.113967</td>\n",
       "      <td>0.599963</td>\n",
       "      <td>-0.037321</td>\n",
       "      <td>-0.040465</td>\n",
       "      <td>...</td>\n",
       "      <td>-0.072874</td>\n",
       "      <td>-0.052946</td>\n",
       "      <td>-0.033689</td>\n",
       "      <td>-0.044979</td>\n",
       "      <td>-0.011856</td>\n",
       "      <td>-0.043838</td>\n",
       "      <td>-0.012399</td>\n",
       "      <td>-0.057019</td>\n",
       "      <td>-0.073321</td>\n",
       "      <td>-0.037971</td>\n",
       "    </tr>\n",
       "  </tbody>\n",
       "</table>\n",
       "<p>5 rows × 5000 columns</p>\n",
       "</div>"
      ],
      "text/plain": [
       "                 ENSG00000283293  ENSG00000202198  ENSG00000277027  \\\n",
       "ENSG00000283293         1.000000         0.999999         0.515202   \n",
       "ENSG00000202198         0.999999         1.000000         0.515256   \n",
       "ENSG00000277027         0.515202         0.515256         1.000000   \n",
       "ENSG00000269900         0.514507         0.514562         0.999971   \n",
       "ENSG00000274012         0.653300         0.653250         0.440194   \n",
       "\n",
       "                 ENSG00000269900  ENSG00000274012  ENSG00000276168  \\\n",
       "ENSG00000283293         0.514507         0.653300         0.649241   \n",
       "ENSG00000202198         0.514562         0.653250         0.649193   \n",
       "ENSG00000277027         0.999971         0.440194         0.465146   \n",
       "ENSG00000269900         1.000000         0.439583         0.464473   \n",
       "ENSG00000274012         0.439583         1.000000         0.959574   \n",
       "\n",
       "                 ENSG00000222328  ENSG00000277209  ENSG00000199153  \\\n",
       "ENSG00000283293         0.166681         0.518923        -0.040069   \n",
       "ENSG00000202198         0.166957         0.518955        -0.040066   \n",
       "ENSG00000277027         0.147535         0.461809        -0.023337   \n",
       "ENSG00000269900         0.148328         0.463137        -0.023019   \n",
       "ENSG00000274012         0.113967         0.599963        -0.037321   \n",
       "\n",
       "                 ENSG00000198975  ...  ENSG00000091140  ENSG00000271029  \\\n",
       "ENSG00000283293        -0.043148  ...        -0.064204        -0.058628   \n",
       "ENSG00000202198        -0.043145  ...        -0.064222        -0.058622   \n",
       "ENSG00000277027        -0.022233  ...        -0.062248        -0.032562   \n",
       "ENSG00000269900        -0.021799  ...        -0.062479        -0.032622   \n",
       "ENSG00000274012        -0.040465  ...        -0.072874        -0.052946   \n",
       "\n",
       "                 ENSG00000053372  ENSG00000113845  ENSG00000231864  \\\n",
       "ENSG00000283293        -0.046910        -0.052973        -0.025782   \n",
       "ENSG00000202198        -0.046917        -0.052972        -0.025804   \n",
       "ENSG00000277027        -0.020159        -0.045516         0.019484   \n",
       "ENSG00000269900        -0.020378        -0.045693         0.019221   \n",
       "ENSG00000274012        -0.033689        -0.044979        -0.011856   \n",
       "\n",
       "                 ENSG00000141574  ENSG00000169750  ENSG00000129559  \\\n",
       "ENSG00000283293        -0.046511        -0.024716        -0.062468   \n",
       "ENSG00000202198        -0.046519        -0.024727        -0.062482   \n",
       "ENSG00000277027        -0.038532         0.000263        -0.050129   \n",
       "ENSG00000269900        -0.038585         0.000123        -0.050248   \n",
       "ENSG00000274012        -0.043838        -0.012399        -0.057019   \n",
       "\n",
       "                 ENSG00000237441  ENSG00000204103  \n",
       "ENSG00000283293        -0.071035        -0.037985  \n",
       "ENSG00000202198        -0.071055        -0.037999  \n",
       "ENSG00000277027        -0.050948        -0.036801  \n",
       "ENSG00000269900        -0.051162        -0.036874  \n",
       "ENSG00000274012        -0.073321        -0.037971  \n",
       "\n",
       "[5 rows x 5000 columns]"
      ]
     },
     "execution_count": 18,
     "metadata": {},
     "output_type": "execute_result"
    }
   ],
   "source": [
    "pearson_df.head()"
   ]
  },
  {
   "cell_type": "code",
   "execution_count": 19,
   "id": "52aec2ed-709e-4a8b-885f-0d5f6a24e01d",
   "metadata": {
    "papermill": {
     "duration": 0.188233,
     "end_time": "2021-12-21T19:14:12.435902",
     "exception": false,
     "start_time": "2021-12-21T19:14:12.247669",
     "status": "completed"
    },
    "tags": []
   },
   "outputs": [],
   "source": [
    "assert clustermatch_df.index.equals(pearson_df.index)"
   ]
  },
  {
   "cell_type": "markdown",
   "id": "6f0ee3a9-baa6-4a05-904d-8606b26da6c5",
   "metadata": {
    "papermill": {
     "duration": 0.188032,
     "end_time": "2021-12-21T19:14:12.811562",
     "exception": false,
     "start_time": "2021-12-21T19:14:12.623530",
     "status": "completed"
    },
    "tags": []
   },
   "source": [
    "## Spearman"
   ]
  },
  {
   "cell_type": "code",
   "execution_count": 20,
   "id": "41edc475-d086-4041-85dc-e41a0d6a89ac",
   "metadata": {
    "papermill": {
     "duration": 0.403902,
     "end_time": "2021-12-21T19:14:13.395813",
     "exception": false,
     "start_time": "2021-12-21T19:14:12.991911",
     "status": "completed"
    },
    "tags": []
   },
   "outputs": [],
   "source": [
    "spearman_df = pd.read_pickle(\n",
    "    str(INPUT_CORR_FILE_TEMPLATE).format(\n",
    "        gene_sel_strategy=GENE_SEL_STRATEGY,\n",
    "        corr_method=\"spearman\",\n",
    "    )\n",
    ")"
   ]
  },
  {
   "cell_type": "code",
   "execution_count": 21,
   "id": "a5326477-cc14-47bc-9c7b-cd4e1afffdff",
   "metadata": {
    "papermill": {
     "duration": 0.195655,
     "end_time": "2021-12-21T19:14:13.773860",
     "exception": false,
     "start_time": "2021-12-21T19:14:13.578205",
     "status": "completed"
    },
    "tags": []
   },
   "outputs": [
    {
     "data": {
      "text/plain": [
       "(5000, 5000)"
      ]
     },
     "execution_count": 21,
     "metadata": {},
     "output_type": "execute_result"
    }
   ],
   "source": [
    "spearman_df.shape"
   ]
  },
  {
   "cell_type": "code",
   "execution_count": 22,
   "id": "acb0044e-2fb2-4349-a103-07c675895321",
   "metadata": {
    "papermill": {
     "duration": 0.214024,
     "end_time": "2021-12-21T19:14:14.173216",
     "exception": false,
     "start_time": "2021-12-21T19:14:13.959192",
     "status": "completed"
    },
    "tags": []
   },
   "outputs": [
    {
     "data": {
      "text/html": [
       "<div>\n",
       "<style scoped>\n",
       "    .dataframe tbody tr th:only-of-type {\n",
       "        vertical-align: middle;\n",
       "    }\n",
       "\n",
       "    .dataframe tbody tr th {\n",
       "        vertical-align: top;\n",
       "    }\n",
       "\n",
       "    .dataframe thead th {\n",
       "        text-align: right;\n",
       "    }\n",
       "</style>\n",
       "<table border=\"1\" class=\"dataframe\">\n",
       "  <thead>\n",
       "    <tr style=\"text-align: right;\">\n",
       "      <th></th>\n",
       "      <th>ENSG00000283293</th>\n",
       "      <th>ENSG00000202198</th>\n",
       "      <th>ENSG00000277027</th>\n",
       "      <th>ENSG00000269900</th>\n",
       "      <th>ENSG00000274012</th>\n",
       "      <th>ENSG00000276168</th>\n",
       "      <th>ENSG00000222328</th>\n",
       "      <th>ENSG00000277209</th>\n",
       "      <th>ENSG00000199153</th>\n",
       "      <th>ENSG00000198975</th>\n",
       "      <th>...</th>\n",
       "      <th>ENSG00000091140</th>\n",
       "      <th>ENSG00000271029</th>\n",
       "      <th>ENSG00000053372</th>\n",
       "      <th>ENSG00000113845</th>\n",
       "      <th>ENSG00000231864</th>\n",
       "      <th>ENSG00000141574</th>\n",
       "      <th>ENSG00000169750</th>\n",
       "      <th>ENSG00000129559</th>\n",
       "      <th>ENSG00000237441</th>\n",
       "      <th>ENSG00000204103</th>\n",
       "    </tr>\n",
       "  </thead>\n",
       "  <tbody>\n",
       "    <tr>\n",
       "      <th>ENSG00000283293</th>\n",
       "      <td>1.000000</td>\n",
       "      <td>0.999995</td>\n",
       "      <td>0.775942</td>\n",
       "      <td>0.775672</td>\n",
       "      <td>0.746934</td>\n",
       "      <td>0.742736</td>\n",
       "      <td>0.597757</td>\n",
       "      <td>0.754145</td>\n",
       "      <td>0.184315</td>\n",
       "      <td>0.183930</td>\n",
       "      <td>...</td>\n",
       "      <td>-0.065746</td>\n",
       "      <td>-0.000966</td>\n",
       "      <td>0.043880</td>\n",
       "      <td>-0.056071</td>\n",
       "      <td>0.163562</td>\n",
       "      <td>0.167481</td>\n",
       "      <td>0.201552</td>\n",
       "      <td>-0.104922</td>\n",
       "      <td>0.120857</td>\n",
       "      <td>0.186545</td>\n",
       "    </tr>\n",
       "    <tr>\n",
       "      <th>ENSG00000202198</th>\n",
       "      <td>0.999995</td>\n",
       "      <td>1.000000</td>\n",
       "      <td>0.776191</td>\n",
       "      <td>0.775924</td>\n",
       "      <td>0.746909</td>\n",
       "      <td>0.742660</td>\n",
       "      <td>0.598109</td>\n",
       "      <td>0.754395</td>\n",
       "      <td>0.185232</td>\n",
       "      <td>0.184681</td>\n",
       "      <td>...</td>\n",
       "      <td>-0.066264</td>\n",
       "      <td>-0.001348</td>\n",
       "      <td>0.043305</td>\n",
       "      <td>-0.056482</td>\n",
       "      <td>0.162850</td>\n",
       "      <td>0.166897</td>\n",
       "      <td>0.201062</td>\n",
       "      <td>-0.105502</td>\n",
       "      <td>0.120152</td>\n",
       "      <td>0.186211</td>\n",
       "    </tr>\n",
       "    <tr>\n",
       "      <th>ENSG00000277027</th>\n",
       "      <td>0.775942</td>\n",
       "      <td>0.776191</td>\n",
       "      <td>1.000000</td>\n",
       "      <td>0.999990</td>\n",
       "      <td>0.745275</td>\n",
       "      <td>0.738482</td>\n",
       "      <td>0.660559</td>\n",
       "      <td>0.815825</td>\n",
       "      <td>0.334711</td>\n",
       "      <td>0.326562</td>\n",
       "      <td>...</td>\n",
       "      <td>-0.117128</td>\n",
       "      <td>0.033452</td>\n",
       "      <td>0.049611</td>\n",
       "      <td>-0.086283</td>\n",
       "      <td>0.188504</td>\n",
       "      <td>0.142549</td>\n",
       "      <td>0.188120</td>\n",
       "      <td>-0.154408</td>\n",
       "      <td>0.048148</td>\n",
       "      <td>0.130833</td>\n",
       "    </tr>\n",
       "    <tr>\n",
       "      <th>ENSG00000269900</th>\n",
       "      <td>0.775672</td>\n",
       "      <td>0.775924</td>\n",
       "      <td>0.999990</td>\n",
       "      <td>1.000000</td>\n",
       "      <td>0.745103</td>\n",
       "      <td>0.738208</td>\n",
       "      <td>0.660972</td>\n",
       "      <td>0.816017</td>\n",
       "      <td>0.336193</td>\n",
       "      <td>0.327756</td>\n",
       "      <td>...</td>\n",
       "      <td>-0.117902</td>\n",
       "      <td>0.032839</td>\n",
       "      <td>0.048756</td>\n",
       "      <td>-0.087053</td>\n",
       "      <td>0.187588</td>\n",
       "      <td>0.141678</td>\n",
       "      <td>0.187281</td>\n",
       "      <td>-0.155177</td>\n",
       "      <td>0.047189</td>\n",
       "      <td>0.130198</td>\n",
       "    </tr>\n",
       "    <tr>\n",
       "      <th>ENSG00000274012</th>\n",
       "      <td>0.746934</td>\n",
       "      <td>0.746909</td>\n",
       "      <td>0.745275</td>\n",
       "      <td>0.745103</td>\n",
       "      <td>1.000000</td>\n",
       "      <td>0.970719</td>\n",
       "      <td>0.607713</td>\n",
       "      <td>0.721553</td>\n",
       "      <td>0.217818</td>\n",
       "      <td>0.215162</td>\n",
       "      <td>...</td>\n",
       "      <td>-0.119052</td>\n",
       "      <td>0.017080</td>\n",
       "      <td>0.023516</td>\n",
       "      <td>-0.089920</td>\n",
       "      <td>0.211201</td>\n",
       "      <td>0.193238</td>\n",
       "      <td>0.214187</td>\n",
       "      <td>-0.132113</td>\n",
       "      <td>0.129397</td>\n",
       "      <td>0.199827</td>\n",
       "    </tr>\n",
       "  </tbody>\n",
       "</table>\n",
       "<p>5 rows × 5000 columns</p>\n",
       "</div>"
      ],
      "text/plain": [
       "                 ENSG00000283293  ENSG00000202198  ENSG00000277027  \\\n",
       "ENSG00000283293         1.000000         0.999995         0.775942   \n",
       "ENSG00000202198         0.999995         1.000000         0.776191   \n",
       "ENSG00000277027         0.775942         0.776191         1.000000   \n",
       "ENSG00000269900         0.775672         0.775924         0.999990   \n",
       "ENSG00000274012         0.746934         0.746909         0.745275   \n",
       "\n",
       "                 ENSG00000269900  ENSG00000274012  ENSG00000276168  \\\n",
       "ENSG00000283293         0.775672         0.746934         0.742736   \n",
       "ENSG00000202198         0.775924         0.746909         0.742660   \n",
       "ENSG00000277027         0.999990         0.745275         0.738482   \n",
       "ENSG00000269900         1.000000         0.745103         0.738208   \n",
       "ENSG00000274012         0.745103         1.000000         0.970719   \n",
       "\n",
       "                 ENSG00000222328  ENSG00000277209  ENSG00000199153  \\\n",
       "ENSG00000283293         0.597757         0.754145         0.184315   \n",
       "ENSG00000202198         0.598109         0.754395         0.185232   \n",
       "ENSG00000277027         0.660559         0.815825         0.334711   \n",
       "ENSG00000269900         0.660972         0.816017         0.336193   \n",
       "ENSG00000274012         0.607713         0.721553         0.217818   \n",
       "\n",
       "                 ENSG00000198975  ...  ENSG00000091140  ENSG00000271029  \\\n",
       "ENSG00000283293         0.183930  ...        -0.065746        -0.000966   \n",
       "ENSG00000202198         0.184681  ...        -0.066264        -0.001348   \n",
       "ENSG00000277027         0.326562  ...        -0.117128         0.033452   \n",
       "ENSG00000269900         0.327756  ...        -0.117902         0.032839   \n",
       "ENSG00000274012         0.215162  ...        -0.119052         0.017080   \n",
       "\n",
       "                 ENSG00000053372  ENSG00000113845  ENSG00000231864  \\\n",
       "ENSG00000283293         0.043880        -0.056071         0.163562   \n",
       "ENSG00000202198         0.043305        -0.056482         0.162850   \n",
       "ENSG00000277027         0.049611        -0.086283         0.188504   \n",
       "ENSG00000269900         0.048756        -0.087053         0.187588   \n",
       "ENSG00000274012         0.023516        -0.089920         0.211201   \n",
       "\n",
       "                 ENSG00000141574  ENSG00000169750  ENSG00000129559  \\\n",
       "ENSG00000283293         0.167481         0.201552        -0.104922   \n",
       "ENSG00000202198         0.166897         0.201062        -0.105502   \n",
       "ENSG00000277027         0.142549         0.188120        -0.154408   \n",
       "ENSG00000269900         0.141678         0.187281        -0.155177   \n",
       "ENSG00000274012         0.193238         0.214187        -0.132113   \n",
       "\n",
       "                 ENSG00000237441  ENSG00000204103  \n",
       "ENSG00000283293         0.120857         0.186545  \n",
       "ENSG00000202198         0.120152         0.186211  \n",
       "ENSG00000277027         0.048148         0.130833  \n",
       "ENSG00000269900         0.047189         0.130198  \n",
       "ENSG00000274012         0.129397         0.199827  \n",
       "\n",
       "[5 rows x 5000 columns]"
      ]
     },
     "execution_count": 22,
     "metadata": {},
     "output_type": "execute_result"
    }
   ],
   "source": [
    "spearman_df.head()"
   ]
  },
  {
   "cell_type": "code",
   "execution_count": 23,
   "id": "ccd00c49-b2b0-42b3-97e9-a444bffc0654",
   "metadata": {
    "papermill": {
     "duration": 0.191048,
     "end_time": "2021-12-21T19:14:14.556759",
     "exception": false,
     "start_time": "2021-12-21T19:14:14.365711",
     "status": "completed"
    },
    "tags": []
   },
   "outputs": [],
   "source": [
    "assert clustermatch_df.index.equals(spearman_df.index)"
   ]
  },
  {
   "cell_type": "markdown",
   "id": "d8ad7af3-5821-4501-b336-c01a4cfb78ec",
   "metadata": {
    "papermill": {
     "duration": 0.187351,
     "end_time": "2021-12-21T19:14:14.931550",
     "exception": false,
     "start_time": "2021-12-21T19:14:14.744199",
     "status": "completed"
    },
    "tags": []
   },
   "source": [
    "## Merge"
   ]
  },
  {
   "cell_type": "code",
   "execution_count": 24,
   "id": "fbeddbfc-4c0b-4116-a5f8-7c81ad810af6",
   "metadata": {
    "papermill": {
     "duration": 0.207608,
     "end_time": "2021-12-21T19:14:15.328759",
     "exception": false,
     "start_time": "2021-12-21T19:14:15.121151",
     "status": "completed"
    },
    "tags": []
   },
   "outputs": [],
   "source": [
    "def get_upper_triag(data, k=1):\n",
    "    mask = np.triu(np.ones(data.shape), k=k).astype(bool)\n",
    "    return data.where(mask)"
   ]
  },
  {
   "cell_type": "code",
   "execution_count": 25,
   "id": "0f647602-5e63-4f49-b88f-9dbc175d1967",
   "metadata": {
    "papermill": {
     "duration": 0.296673,
     "end_time": "2021-12-21T19:14:15.846706",
     "exception": false,
     "start_time": "2021-12-21T19:14:15.550033",
     "status": "completed"
    },
    "tags": []
   },
   "outputs": [],
   "source": [
    "# # make sure genes match\n",
    "# clustermatch_df = clustermatch_df.loc[pearson_df.index, pearson_df.columns]"
   ]
  },
  {
   "cell_type": "code",
   "execution_count": 26,
   "id": "ae82d327-4f1b-413c-a7e9-c5b82268f013",
   "metadata": {
    "papermill": {
     "duration": 0.497374,
     "end_time": "2021-12-21T19:14:16.542670",
     "exception": false,
     "start_time": "2021-12-21T19:14:16.045296",
     "status": "completed"
    },
    "tags": []
   },
   "outputs": [],
   "source": [
    "clustermatch_df = get_upper_triag(clustermatch_df)"
   ]
  },
  {
   "cell_type": "code",
   "execution_count": 27,
   "id": "b51f60c1-8f81-45ae-a89a-11ae721ed8d2",
   "metadata": {
    "papermill": {
     "duration": 0.613232,
     "end_time": "2021-12-21T19:14:17.346446",
     "exception": false,
     "start_time": "2021-12-21T19:14:16.733214",
     "status": "completed"
    },
    "tags": []
   },
   "outputs": [],
   "source": [
    "clustermatch_df = clustermatch_df.unstack().rename_axis((None, None)).dropna()"
   ]
  },
  {
   "cell_type": "code",
   "execution_count": 28,
   "id": "6dcab8f8-b51f-4120-8f3d-6322ddf0fc9b",
   "metadata": {
    "papermill": {
     "duration": 0.195848,
     "end_time": "2021-12-21T19:14:17.751404",
     "exception": false,
     "start_time": "2021-12-21T19:14:17.555556",
     "status": "completed"
    },
    "tags": []
   },
   "outputs": [
    {
     "data": {
      "text/plain": [
       "(12497500,)"
      ]
     },
     "execution_count": 28,
     "metadata": {},
     "output_type": "execute_result"
    }
   ],
   "source": [
    "clustermatch_df.shape"
   ]
  },
  {
   "cell_type": "code",
   "execution_count": 29,
   "id": "9b1d8344-94ab-449e-803b-fbfbb6c0a152",
   "metadata": {
    "papermill": {
     "duration": 0.198441,
     "end_time": "2021-12-21T19:14:18.137132",
     "exception": false,
     "start_time": "2021-12-21T19:14:17.938691",
     "status": "completed"
    },
    "tags": []
   },
   "outputs": [
    {
     "data": {
      "text/plain": [
       "ENSG00000202198  ENSG00000283293    0.997409\n",
       "ENSG00000277027  ENSG00000283293    0.388822\n",
       "                 ENSG00000202198    0.388687\n",
       "ENSG00000269900  ENSG00000283293    0.388148\n",
       "                 ENSG00000202198    0.388014\n",
       "dtype: float64"
      ]
     },
     "execution_count": 29,
     "metadata": {},
     "output_type": "execute_result"
    }
   ],
   "source": [
    "clustermatch_df.head()"
   ]
  },
  {
   "cell_type": "code",
   "execution_count": 30,
   "id": "2d15b513-c949-4b43-96e7-9eb3f30fc5ef",
   "metadata": {
    "papermill": {
     "duration": 0.495242,
     "end_time": "2021-12-21T19:14:18.825940",
     "exception": false,
     "start_time": "2021-12-21T19:14:18.330698",
     "status": "completed"
    },
    "tags": []
   },
   "outputs": [],
   "source": [
    "pearson_df = get_upper_triag(pearson_df)"
   ]
  },
  {
   "cell_type": "code",
   "execution_count": 31,
   "id": "62e67326-bdd5-4710-9bbe-da0ca57ec466",
   "metadata": {
    "papermill": {
     "duration": 0.623239,
     "end_time": "2021-12-21T19:14:19.641124",
     "exception": false,
     "start_time": "2021-12-21T19:14:19.017885",
     "status": "completed"
    },
    "tags": []
   },
   "outputs": [],
   "source": [
    "# make pearson abs\n",
    "pearson_df = pearson_df.unstack().rename_axis((None, None)).dropna().abs()"
   ]
  },
  {
   "cell_type": "code",
   "execution_count": 32,
   "id": "1a357889-1e00-4ff3-b0d1-a65ae9254824",
   "metadata": {
    "papermill": {
     "duration": 0.195894,
     "end_time": "2021-12-21T19:14:20.029723",
     "exception": false,
     "start_time": "2021-12-21T19:14:19.833829",
     "status": "completed"
    },
    "tags": []
   },
   "outputs": [
    {
     "data": {
      "text/plain": [
       "(12497500,)"
      ]
     },
     "execution_count": 32,
     "metadata": {},
     "output_type": "execute_result"
    }
   ],
   "source": [
    "pearson_df.shape"
   ]
  },
  {
   "cell_type": "code",
   "execution_count": 33,
   "id": "1e2a38f8-8e02-490f-8e8f-4fee1b1159fa",
   "metadata": {
    "papermill": {
     "duration": 0.207244,
     "end_time": "2021-12-21T19:14:20.429860",
     "exception": false,
     "start_time": "2021-12-21T19:14:20.222616",
     "status": "completed"
    },
    "tags": []
   },
   "outputs": [
    {
     "data": {
      "text/plain": [
       "ENSG00000202198  ENSG00000283293    0.999999\n",
       "ENSG00000277027  ENSG00000283293    0.515202\n",
       "                 ENSG00000202198    0.515256\n",
       "ENSG00000269900  ENSG00000283293    0.514507\n",
       "                 ENSG00000202198    0.514562\n",
       "dtype: float64"
      ]
     },
     "execution_count": 33,
     "metadata": {},
     "output_type": "execute_result"
    }
   ],
   "source": [
    "pearson_df.head()"
   ]
  },
  {
   "cell_type": "code",
   "execution_count": 34,
   "id": "002f33f3-ebcf-4755-aa7b-82802e115ee0",
   "metadata": {
    "papermill": {
     "duration": 4.268481,
     "end_time": "2021-12-21T19:14:24.903958",
     "exception": false,
     "start_time": "2021-12-21T19:14:20.635477",
     "status": "completed"
    },
    "tags": []
   },
   "outputs": [],
   "source": [
    "assert clustermatch_df.index.equals(pearson_df.index)"
   ]
  },
  {
   "cell_type": "code",
   "execution_count": 35,
   "id": "2b1a29c7-221a-4e92-a6ac-e8f3932178e3",
   "metadata": {
    "papermill": {
     "duration": 0.509618,
     "end_time": "2021-12-21T19:14:25.605954",
     "exception": false,
     "start_time": "2021-12-21T19:14:25.096336",
     "status": "completed"
    },
    "tags": []
   },
   "outputs": [],
   "source": [
    "spearman_df = get_upper_triag(spearman_df)"
   ]
  },
  {
   "cell_type": "code",
   "execution_count": 36,
   "id": "0969a867-08ad-43c4-a0ca-9617867e0c50",
   "metadata": {
    "papermill": {
     "duration": 0.776356,
     "end_time": "2021-12-21T19:14:26.618602",
     "exception": false,
     "start_time": "2021-12-21T19:14:25.842246",
     "status": "completed"
    },
    "tags": []
   },
   "outputs": [],
   "source": [
    "# make spearman abs\n",
    "spearman_df = spearman_df.unstack().rename_axis((None, None)).dropna().abs()"
   ]
  },
  {
   "cell_type": "code",
   "execution_count": 37,
   "id": "866bbc4c-ef0b-430a-8d17-7edadd5b2fd2",
   "metadata": {
    "papermill": {
     "duration": 0.204642,
     "end_time": "2021-12-21T19:14:27.031955",
     "exception": false,
     "start_time": "2021-12-21T19:14:26.827313",
     "status": "completed"
    },
    "tags": []
   },
   "outputs": [
    {
     "data": {
      "text/plain": [
       "(12497500,)"
      ]
     },
     "execution_count": 37,
     "metadata": {},
     "output_type": "execute_result"
    }
   ],
   "source": [
    "spearman_df.shape"
   ]
  },
  {
   "cell_type": "code",
   "execution_count": 38,
   "id": "4fc27d0e-87a0-40a7-9f53-ea8a215e4fee",
   "metadata": {
    "papermill": {
     "duration": 0.205463,
     "end_time": "2021-12-21T19:14:27.453601",
     "exception": false,
     "start_time": "2021-12-21T19:14:27.248138",
     "status": "completed"
    },
    "tags": []
   },
   "outputs": [
    {
     "data": {
      "text/plain": [
       "ENSG00000202198  ENSG00000283293    0.999995\n",
       "ENSG00000277027  ENSG00000283293    0.775942\n",
       "                 ENSG00000202198    0.776191\n",
       "ENSG00000269900  ENSG00000283293    0.775672\n",
       "                 ENSG00000202198    0.775924\n",
       "dtype: float64"
      ]
     },
     "execution_count": 38,
     "metadata": {},
     "output_type": "execute_result"
    }
   ],
   "source": [
    "spearman_df.head()"
   ]
  },
  {
   "cell_type": "code",
   "execution_count": 39,
   "id": "92999223-d496-43b4-8381-172d55030e21",
   "metadata": {
    "papermill": {
     "duration": 4.612801,
     "end_time": "2021-12-21T19:14:32.265944",
     "exception": false,
     "start_time": "2021-12-21T19:14:27.653143",
     "status": "completed"
    },
    "tags": []
   },
   "outputs": [],
   "source": [
    "assert clustermatch_df.index.equals(spearman_df.index)"
   ]
  },
  {
   "cell_type": "code",
   "execution_count": 40,
   "id": "aaada007-6ad1-4adb-91a4-e456f95231f5",
   "metadata": {
    "papermill": {
     "duration": 70.485349,
     "end_time": "2021-12-21T19:15:42.958073",
     "exception": false,
     "start_time": "2021-12-21T19:14:32.472724",
     "status": "completed"
    },
    "tags": []
   },
   "outputs": [],
   "source": [
    "df = pd.DataFrame(\n",
    "    {\n",
    "        \"clustermatch\": clustermatch_df,\n",
    "        \"pearson\": pearson_df,\n",
    "        \"spearman\": spearman_df,\n",
    "    }\n",
    ").sort_index()"
   ]
  },
  {
   "cell_type": "code",
   "execution_count": 41,
   "id": "7613642e-0a3d-442d-8511-d4acd6271194",
   "metadata": {
    "papermill": {
     "duration": 0.229546,
     "end_time": "2021-12-21T19:15:43.385679",
     "exception": false,
     "start_time": "2021-12-21T19:15:43.156133",
     "status": "completed"
    },
    "tags": []
   },
   "outputs": [],
   "source": [
    "assert not df.isna().any().any()"
   ]
  },
  {
   "cell_type": "code",
   "execution_count": 42,
   "id": "baf842f9-d6c8-48b7-bffe-8eb05c73d7de",
   "metadata": {
    "papermill": {
     "duration": 0.206802,
     "end_time": "2021-12-21T19:15:43.803044",
     "exception": false,
     "start_time": "2021-12-21T19:15:43.596242",
     "status": "completed"
    },
    "tags": []
   },
   "outputs": [
    {
     "data": {
      "text/plain": [
       "(12497500, 3)"
      ]
     },
     "execution_count": 42,
     "metadata": {},
     "output_type": "execute_result"
    }
   ],
   "source": [
    "df.shape"
   ]
  },
  {
   "cell_type": "code",
   "execution_count": 43,
   "id": "3bd226fe-0c9d-4b69-8250-e22ccaf3730f",
   "metadata": {
    "papermill": {
     "duration": 0.204806,
     "end_time": "2021-12-21T19:15:44.212313",
     "exception": false,
     "start_time": "2021-12-21T19:15:44.007507",
     "status": "completed"
    },
    "tags": []
   },
   "outputs": [
    {
     "data": {
      "text/html": [
       "<div>\n",
       "<style scoped>\n",
       "    .dataframe tbody tr th:only-of-type {\n",
       "        vertical-align: middle;\n",
       "    }\n",
       "\n",
       "    .dataframe tbody tr th {\n",
       "        vertical-align: top;\n",
       "    }\n",
       "\n",
       "    .dataframe thead th {\n",
       "        text-align: right;\n",
       "    }\n",
       "</style>\n",
       "<table border=\"1\" class=\"dataframe\">\n",
       "  <thead>\n",
       "    <tr style=\"text-align: right;\">\n",
       "      <th></th>\n",
       "      <th></th>\n",
       "      <th>clustermatch</th>\n",
       "      <th>pearson</th>\n",
       "      <th>spearman</th>\n",
       "    </tr>\n",
       "  </thead>\n",
       "  <tbody>\n",
       "    <tr>\n",
       "      <th rowspan=\"5\" valign=\"top\">ENSG00000000003</th>\n",
       "      <th>ENSG00000000419</th>\n",
       "      <td>0.163960</td>\n",
       "      <td>0.130873</td>\n",
       "      <td>0.471673</td>\n",
       "    </tr>\n",
       "    <tr>\n",
       "      <th>ENSG00000000938</th>\n",
       "      <td>0.083831</td>\n",
       "      <td>0.107588</td>\n",
       "      <td>0.178042</td>\n",
       "    </tr>\n",
       "    <tr>\n",
       "      <th>ENSG00000001036</th>\n",
       "      <td>0.274535</td>\n",
       "      <td>0.047559</td>\n",
       "      <td>0.494995</td>\n",
       "    </tr>\n",
       "    <tr>\n",
       "      <th>ENSG00000001630</th>\n",
       "      <td>0.194099</td>\n",
       "      <td>0.226343</td>\n",
       "      <td>0.547457</td>\n",
       "    </tr>\n",
       "    <tr>\n",
       "      <th>ENSG00000002586</th>\n",
       "      <td>0.067899</td>\n",
       "      <td>0.011981</td>\n",
       "      <td>0.204876</td>\n",
       "    </tr>\n",
       "  </tbody>\n",
       "</table>\n",
       "</div>"
      ],
      "text/plain": [
       "                                 clustermatch   pearson  spearman\n",
       "ENSG00000000003 ENSG00000000419      0.163960  0.130873  0.471673\n",
       "                ENSG00000000938      0.083831  0.107588  0.178042\n",
       "                ENSG00000001036      0.274535  0.047559  0.494995\n",
       "                ENSG00000001630      0.194099  0.226343  0.547457\n",
       "                ENSG00000002586      0.067899  0.011981  0.204876"
      ]
     },
     "execution_count": 43,
     "metadata": {},
     "output_type": "execute_result"
    }
   ],
   "source": [
    "df.head()"
   ]
  },
  {
   "cell_type": "markdown",
   "id": "24a50051-141d-4ba0-ad33-3123b4afc1b6",
   "metadata": {
    "papermill": {
     "duration": 0.204432,
     "end_time": "2021-12-21T19:15:44.615684",
     "exception": false,
     "start_time": "2021-12-21T19:15:44.411252",
     "status": "completed"
    },
    "tags": []
   },
   "source": [
    "# Save"
   ]
  },
  {
   "cell_type": "code",
   "execution_count": 44,
   "id": "2f20fdf4-a44a-48c0-bbe1-8def473ac2a5",
   "metadata": {
    "papermill": {
     "duration": 1.03584,
     "end_time": "2021-12-21T19:15:45.850241",
     "exception": false,
     "start_time": "2021-12-21T19:15:44.814401",
     "status": "completed"
    },
    "tags": []
   },
   "outputs": [],
   "source": [
    "df.to_pickle(OUTPUT_FILE)"
   ]
  },
  {
   "cell_type": "code",
   "execution_count": null,
   "id": "8f464a7f-b76f-4898-8bf5-074eabd33626",
   "metadata": {
    "papermill": {
     "duration": 0.204077,
     "end_time": "2021-12-21T19:15:46.271011",
     "exception": false,
     "start_time": "2021-12-21T19:15:46.066934",
     "status": "completed"
    },
    "tags": []
   },
   "outputs": [],
   "source": []
  }
 ],
 "metadata": {
  "jupytext": {
   "cell_metadata_filter": "all,-execution,-papermill,-trusted",
   "text_representation": {
    "extension": ".py",
    "format_name": "percent",
    "format_version": "1.3",
    "jupytext_version": "1.11.5"
   }
  },
  "kernelspec": {
   "display_name": "Python 3 (ipykernel)",
   "language": "python",
   "name": "python3"
  },
  "language_info": {
   "codemirror_mode": {
    "name": "ipython",
    "version": 3
   },
   "file_extension": ".py",
   "mimetype": "text/x-python",
   "name": "python",
   "nbconvert_exporter": "python",
   "pygments_lexer": "ipython3",
   "version": "3.9.9"
  },
  "papermill": {
   "default_parameters": {},
   "duration": 111.561691,
   "end_time": "2021-12-21T19:15:46.784233",
   "environment_variables": {},
   "exception": null,
   "input_path": "nbs/10_compute_correlations/05_gtex_v8/50-combine_all.ipynb",
   "output_path": "nbs/10_compute_correlations/05_gtex_v8/50-combine_all.run.ipynb",
   "parameters": {
    "GTEX_TISSUE": "skin_sun_exposed_lower_leg"
   },
   "start_time": "2021-12-21T19:13:55.222542",
   "version": "2.3.3"
  }
 },
 "nbformat": 4,
 "nbformat_minor": 5
}
