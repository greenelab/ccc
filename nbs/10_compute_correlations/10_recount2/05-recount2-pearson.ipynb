{
 "cells": [
  {
   "cell_type": "markdown",
   "id": "e9773a95-e8fd-4963-87a5-0c92299434d5",
   "metadata": {
    "papermill": {
     "duration": 0.048732,
     "end_time": "2021-09-12T23:22:02.403772",
     "exception": false,
     "start_time": "2021-09-12T23:22:02.355040",
     "status": "completed"
    },
    "tags": []
   },
   "source": [
    "# Description"
   ]
  },
  {
   "cell_type": "markdown",
   "id": "57f34c74-404d-4776-b547-e6acb2df75d7",
   "metadata": {
    "papermill": {
     "duration": 0.012912,
     "end_time": "2021-09-12T23:22:02.433066",
     "exception": false,
     "start_time": "2021-09-12T23:22:02.420154",
     "status": "completed"
    },
    "tags": []
   },
   "source": [
    "According to the settings specified below, this notebook:\n",
    " 1. reads all the data from one source (GTEx, recount2, etc) according to the gene selection method (`GENE_SELECTION_STRATEGY`),\n",
    " 2. runs a quick performance test using the correlation coefficient specified (`CORRELATION_METHOD`), and\n",
    " 3. computes the correlation matrix across all the genes using the correlation coefficient specified."
   ]
  },
  {
   "cell_type": "markdown",
   "id": "1d8fae6b-e623-46a6-aff6-d7849163c820",
   "metadata": {
    "papermill": {
     "duration": 0.012584,
     "end_time": "2021-09-12T23:22:02.458354",
     "exception": false,
     "start_time": "2021-09-12T23:22:02.445770",
     "status": "completed"
    },
    "tags": []
   },
   "source": [
    "# Modules"
   ]
  },
  {
   "cell_type": "code",
   "execution_count": 1,
   "id": "76729f0e-f742-495b-b676-d9d7b1539e10",
   "metadata": {
    "execution": {
     "iopub.execute_input": "2021-09-12T23:22:02.491239Z",
     "iopub.status.busy": "2021-09-12T23:22:02.490763Z",
     "iopub.status.idle": "2021-09-12T23:22:03.039379Z",
     "shell.execute_reply": "2021-09-12T23:22:03.038906Z"
    },
    "papermill": {
     "duration": 0.568193,
     "end_time": "2021-09-12T23:22:03.039490",
     "exception": false,
     "start_time": "2021-09-12T23:22:02.471297",
     "status": "completed"
    },
    "tags": []
   },
   "outputs": [],
   "source": [
    "import pandas as pd\n",
    "\n",
    "from clustermatch import conf\n",
    "from clustermatch.corr import pearson"
   ]
  },
  {
   "cell_type": "markdown",
   "id": "a6c3a546-9a49-45e7-9f17-fbdb5af4bfb6",
   "metadata": {
    "papermill": {
     "duration": 0.012907,
     "end_time": "2021-09-12T23:22:03.065985",
     "exception": false,
     "start_time": "2021-09-12T23:22:03.053078",
     "status": "completed"
    },
    "tags": []
   },
   "source": [
    "# Settings"
   ]
  },
  {
   "cell_type": "code",
   "execution_count": 2,
   "id": "56ff94d3-a230-4028-a71d-518ac109209b",
   "metadata": {
    "execution": {
     "iopub.execute_input": "2021-09-12T23:22:03.095563Z",
     "iopub.status.busy": "2021-09-12T23:22:03.095114Z",
     "iopub.status.idle": "2021-09-12T23:22:03.097417Z",
     "shell.execute_reply": "2021-09-12T23:22:03.096968Z"
    },
    "papermill": {
     "duration": 0.018443,
     "end_time": "2021-09-12T23:22:03.097513",
     "exception": false,
     "start_time": "2021-09-12T23:22:03.079070",
     "status": "completed"
    },
    "tags": []
   },
   "outputs": [],
   "source": [
    "# we don't have gene subsets for recount2\n",
    "# GENE_SELECTION_STRATEGY = \"var_raw\""
   ]
  },
  {
   "cell_type": "code",
   "execution_count": 3,
   "id": "8baf4209-ba56-4e3d-b60f-6ce2bb686159",
   "metadata": {
    "execution": {
     "iopub.execute_input": "2021-09-12T23:22:03.131718Z",
     "iopub.status.busy": "2021-09-12T23:22:03.131148Z",
     "iopub.status.idle": "2021-09-12T23:22:03.134713Z",
     "shell.execute_reply": "2021-09-12T23:22:03.135106Z"
    },
    "papermill": {
     "duration": 0.024137,
     "end_time": "2021-09-12T23:22:03.135222",
     "exception": false,
     "start_time": "2021-09-12T23:22:03.111085",
     "status": "completed"
    },
    "tags": []
   },
   "outputs": [
    {
     "data": {
      "text/plain": [
       "'pearson'"
      ]
     },
     "metadata": {},
     "output_type": "display_data"
    }
   ],
   "source": [
    "CORRELATION_METHOD = pearson\n",
    "\n",
    "method_name = CORRELATION_METHOD.__name__\n",
    "display(method_name)"
   ]
  },
  {
   "cell_type": "code",
   "execution_count": 4,
   "id": "21a3e349-9a09-4d24-89e3-915fdbf08a81",
   "metadata": {
    "execution": {
     "iopub.execute_input": "2021-09-12T23:22:03.165828Z",
     "iopub.status.busy": "2021-09-12T23:22:03.165346Z",
     "iopub.status.idle": "2021-09-12T23:22:03.166910Z",
     "shell.execute_reply": "2021-09-12T23:22:03.167287Z"
    },
    "papermill": {
     "duration": 0.0184,
     "end_time": "2021-09-12T23:22:03.167405",
     "exception": false,
     "start_time": "2021-09-12T23:22:03.149005",
     "status": "completed"
    },
    "tags": []
   },
   "outputs": [],
   "source": [
    "PERFORMANCE_TEST_N_TOP_GENES = 500"
   ]
  },
  {
   "cell_type": "markdown",
   "id": "b0afcba9-5847-414e-b448-f0cd08ecd8ce",
   "metadata": {
    "papermill": {
     "duration": 0.012947,
     "end_time": "2021-09-12T23:22:03.194382",
     "exception": false,
     "start_time": "2021-09-12T23:22:03.181435",
     "status": "completed"
    },
    "tags": []
   },
   "source": [
    "# Paths"
   ]
  },
  {
   "cell_type": "code",
   "execution_count": 5,
   "id": "35760114-8560-4a0e-ad4f-2bee9104c63d",
   "metadata": {
    "execution": {
     "iopub.execute_input": "2021-09-12T23:22:03.224892Z",
     "iopub.status.busy": "2021-09-12T23:22:03.224259Z",
     "iopub.status.idle": "2021-09-12T23:22:03.227169Z",
     "shell.execute_reply": "2021-09-12T23:22:03.226740Z"
    },
    "papermill": {
     "duration": 0.019884,
     "end_time": "2021-09-12T23:22:03.227262",
     "exception": false,
     "start_time": "2021-09-12T23:22:03.207378",
     "status": "completed"
    },
    "tags": []
   },
   "outputs": [
    {
     "data": {
      "text/plain": [
       "PosixPath('/opt/data/data/recount2/recount_data_prep_PLIER.pkl')"
      ]
     },
     "metadata": {},
     "output_type": "display_data"
    }
   ],
   "source": [
    "INPUT_FILE = conf.RECOUNT2[\"DATA_FILE\"]\n",
    "display(INPUT_FILE)\n",
    "\n",
    "assert INPUT_FILE.exists()"
   ]
  },
  {
   "cell_type": "code",
   "execution_count": 6,
   "id": "f1418e81-4e77-4f67-b5ed-b29b797e31a0",
   "metadata": {
    "execution": {
     "iopub.execute_input": "2021-09-12T23:22:03.258468Z",
     "iopub.status.busy": "2021-09-12T23:22:03.257947Z",
     "iopub.status.idle": "2021-09-12T23:22:03.259958Z",
     "shell.execute_reply": "2021-09-12T23:22:03.260362Z"
    },
    "papermill": {
     "duration": 0.019688,
     "end_time": "2021-09-12T23:22:03.260478",
     "exception": false,
     "start_time": "2021-09-12T23:22:03.240790",
     "status": "completed"
    },
    "tags": []
   },
   "outputs": [
    {
     "data": {
      "text/plain": [
       "PosixPath('/opt/data/results/recount2/similarity_matrices')"
      ]
     },
     "metadata": {},
     "output_type": "display_data"
    }
   ],
   "source": [
    "OUTPUT_DIR = conf.RECOUNT2[\"SIMILARITY_MATRICES_DIR\"]\n",
    "OUTPUT_DIR.mkdir(parents=True, exist_ok=True)\n",
    "display(OUTPUT_DIR)"
   ]
  },
  {
   "cell_type": "markdown",
   "id": "5fdf8df6-eba0-4cf5-979c-3acd56a5ef3c",
   "metadata": {
    "papermill": {
     "duration": 0.013777,
     "end_time": "2021-09-12T23:22:03.288835",
     "exception": false,
     "start_time": "2021-09-12T23:22:03.275058",
     "status": "completed"
    },
    "tags": []
   },
   "source": [
    "# Data loading"
   ]
  },
  {
   "cell_type": "code",
   "execution_count": 7,
   "id": "596d25ed-4120-4bef-8984-a91ae6529ab5",
   "metadata": {
    "execution": {
     "iopub.execute_input": "2021-09-12T23:22:03.319935Z",
     "iopub.status.busy": "2021-09-12T23:22:03.319429Z",
     "iopub.status.idle": "2021-09-12T23:22:05.318322Z",
     "shell.execute_reply": "2021-09-12T23:22:05.317734Z"
    },
    "papermill": {
     "duration": 2.015703,
     "end_time": "2021-09-12T23:22:05.318446",
     "exception": false,
     "start_time": "2021-09-12T23:22:03.302743",
     "status": "completed"
    },
    "tags": []
   },
   "outputs": [],
   "source": [
    "data = pd.read_pickle(INPUT_FILE)"
   ]
  },
  {
   "cell_type": "code",
   "execution_count": 8,
   "id": "be8a23da-ea99-43a9-b684-fa645c1d1adc",
   "metadata": {
    "execution": {
     "iopub.execute_input": "2021-09-12T23:22:05.361004Z",
     "iopub.status.busy": "2021-09-12T23:22:05.360536Z",
     "iopub.status.idle": "2021-09-12T23:22:05.362586Z",
     "shell.execute_reply": "2021-09-12T23:22:05.362956Z"
    },
    "papermill": {
     "duration": 0.020967,
     "end_time": "2021-09-12T23:22:05.363073",
     "exception": false,
     "start_time": "2021-09-12T23:22:05.342106",
     "status": "completed"
    },
    "tags": []
   },
   "outputs": [
    {
     "data": {
      "text/plain": [
       "(6750, 37032)"
      ]
     },
     "execution_count": 8,
     "metadata": {},
     "output_type": "execute_result"
    }
   ],
   "source": [
    "data.shape"
   ]
  },
  {
   "cell_type": "code",
   "execution_count": 9,
   "id": "cd693523-4379-400a-a2d2-6b3f617421e6",
   "metadata": {
    "execution": {
     "iopub.execute_input": "2021-09-12T23:22:05.400843Z",
     "iopub.status.busy": "2021-09-12T23:22:05.400356Z",
     "iopub.status.idle": "2021-09-12T23:22:05.418116Z",
     "shell.execute_reply": "2021-09-12T23:22:05.417702Z"
    },
    "papermill": {
     "duration": 0.040076,
     "end_time": "2021-09-12T23:22:05.418220",
     "exception": false,
     "start_time": "2021-09-12T23:22:05.378144",
     "status": "completed"
    },
    "tags": []
   },
   "outputs": [
    {
     "data": {
      "text/html": [
       "<div>\n",
       "<style scoped>\n",
       "    .dataframe tbody tr th:only-of-type {\n",
       "        vertical-align: middle;\n",
       "    }\n",
       "\n",
       "    .dataframe tbody tr th {\n",
       "        vertical-align: top;\n",
       "    }\n",
       "\n",
       "    .dataframe thead th {\n",
       "        text-align: right;\n",
       "    }\n",
       "</style>\n",
       "<table border=\"1\" class=\"dataframe\">\n",
       "  <thead>\n",
       "    <tr style=\"text-align: right;\">\n",
       "      <th></th>\n",
       "      <th>SRP000599.SRR013549</th>\n",
       "      <th>SRP000599.SRR013550</th>\n",
       "      <th>SRP000599.SRR013551</th>\n",
       "      <th>SRP000599.SRR013552</th>\n",
       "      <th>SRP000599.SRR013553</th>\n",
       "      <th>SRP000599.SRR013554</th>\n",
       "      <th>SRP000599.SRR013555</th>\n",
       "      <th>SRP000599.SRR013556</th>\n",
       "      <th>SRP000599.SRR013557</th>\n",
       "      <th>SRP000599.SRR013558</th>\n",
       "      <th>...</th>\n",
       "      <th>SRP035599.SRR1139372</th>\n",
       "      <th>SRP035599.SRR1139393</th>\n",
       "      <th>SRP035599.SRR1139388</th>\n",
       "      <th>SRP035599.SRR1139378</th>\n",
       "      <th>SRP035599.SRR1139399</th>\n",
       "      <th>SRP035599.SRR1139386</th>\n",
       "      <th>SRP035599.SRR1139375</th>\n",
       "      <th>SRP035599.SRR1139382</th>\n",
       "      <th>SRP035599.SRR1139356</th>\n",
       "      <th>SRP035599.SRR1139370</th>\n",
       "    </tr>\n",
       "  </thead>\n",
       "  <tbody>\n",
       "    <tr>\n",
       "      <th>GAS6</th>\n",
       "      <td>-0.312500</td>\n",
       "      <td>-0.312931</td>\n",
       "      <td>-0.312931</td>\n",
       "      <td>-0.312931</td>\n",
       "      <td>-0.312931</td>\n",
       "      <td>-0.308253</td>\n",
       "      <td>-0.312931</td>\n",
       "      <td>-0.312931</td>\n",
       "      <td>-0.312931</td>\n",
       "      <td>-0.312931</td>\n",
       "      <td>...</td>\n",
       "      <td>-0.301711</td>\n",
       "      <td>-0.305581</td>\n",
       "      <td>-0.303344</td>\n",
       "      <td>-0.297800</td>\n",
       "      <td>-0.307122</td>\n",
       "      <td>-0.285499</td>\n",
       "      <td>-0.309599</td>\n",
       "      <td>-0.300220</td>\n",
       "      <td>-0.297667</td>\n",
       "      <td>-0.310151</td>\n",
       "    </tr>\n",
       "    <tr>\n",
       "      <th>MMP14</th>\n",
       "      <td>-0.328279</td>\n",
       "      <td>-0.328279</td>\n",
       "      <td>-0.328279</td>\n",
       "      <td>-0.328279</td>\n",
       "      <td>-0.328279</td>\n",
       "      <td>-0.328279</td>\n",
       "      <td>-0.328279</td>\n",
       "      <td>-0.328279</td>\n",
       "      <td>-0.328279</td>\n",
       "      <td>-0.325140</td>\n",
       "      <td>...</td>\n",
       "      <td>-0.314587</td>\n",
       "      <td>-0.322952</td>\n",
       "      <td>-0.326439</td>\n",
       "      <td>-0.325994</td>\n",
       "      <td>-0.326272</td>\n",
       "      <td>-0.322523</td>\n",
       "      <td>-0.326375</td>\n",
       "      <td>-0.326339</td>\n",
       "      <td>-0.322127</td>\n",
       "      <td>-0.327438</td>\n",
       "    </tr>\n",
       "    <tr>\n",
       "      <th>DSP</th>\n",
       "      <td>-0.286319</td>\n",
       "      <td>-0.286859</td>\n",
       "      <td>-0.286859</td>\n",
       "      <td>-0.286859</td>\n",
       "      <td>-0.286859</td>\n",
       "      <td>-0.286859</td>\n",
       "      <td>-0.277195</td>\n",
       "      <td>-0.256862</td>\n",
       "      <td>-0.278790</td>\n",
       "      <td>-0.269701</td>\n",
       "      <td>...</td>\n",
       "      <td>-0.286859</td>\n",
       "      <td>-0.286859</td>\n",
       "      <td>-0.286745</td>\n",
       "      <td>-0.286688</td>\n",
       "      <td>-0.286725</td>\n",
       "      <td>-0.286529</td>\n",
       "      <td>-0.286859</td>\n",
       "      <td>-0.286671</td>\n",
       "      <td>-0.286859</td>\n",
       "      <td>-0.286740</td>\n",
       "    </tr>\n",
       "    <tr>\n",
       "      <th>MARCKSL1</th>\n",
       "      <td>-0.536646</td>\n",
       "      <td>-0.536646</td>\n",
       "      <td>-0.536646</td>\n",
       "      <td>-0.536646</td>\n",
       "      <td>-0.536646</td>\n",
       "      <td>-0.536646</td>\n",
       "      <td>-0.536646</td>\n",
       "      <td>-0.536646</td>\n",
       "      <td>-0.536646</td>\n",
       "      <td>-0.536646</td>\n",
       "      <td>...</td>\n",
       "      <td>0.807663</td>\n",
       "      <td>1.294564</td>\n",
       "      <td>1.527655</td>\n",
       "      <td>1.404788</td>\n",
       "      <td>1.047931</td>\n",
       "      <td>0.892119</td>\n",
       "      <td>1.507099</td>\n",
       "      <td>2.458255</td>\n",
       "      <td>2.919662</td>\n",
       "      <td>1.410846</td>\n",
       "    </tr>\n",
       "    <tr>\n",
       "      <th>SPARC</th>\n",
       "      <td>-0.370498</td>\n",
       "      <td>-0.370498</td>\n",
       "      <td>-0.369171</td>\n",
       "      <td>-0.370498</td>\n",
       "      <td>-0.370498</td>\n",
       "      <td>-0.370498</td>\n",
       "      <td>-0.370498</td>\n",
       "      <td>-0.370498</td>\n",
       "      <td>-0.370498</td>\n",
       "      <td>-0.370498</td>\n",
       "      <td>...</td>\n",
       "      <td>-0.345409</td>\n",
       "      <td>-0.310750</td>\n",
       "      <td>-0.348120</td>\n",
       "      <td>-0.356938</td>\n",
       "      <td>-0.355206</td>\n",
       "      <td>-0.366197</td>\n",
       "      <td>-0.351174</td>\n",
       "      <td>-0.363703</td>\n",
       "      <td>-0.350825</td>\n",
       "      <td>-0.360762</td>\n",
       "    </tr>\n",
       "  </tbody>\n",
       "</table>\n",
       "<p>5 rows × 37032 columns</p>\n",
       "</div>"
      ],
      "text/plain": [
       "          SRP000599.SRR013549  SRP000599.SRR013550  SRP000599.SRR013551  \\\n",
       "GAS6                -0.312500            -0.312931            -0.312931   \n",
       "MMP14               -0.328279            -0.328279            -0.328279   \n",
       "DSP                 -0.286319            -0.286859            -0.286859   \n",
       "MARCKSL1            -0.536646            -0.536646            -0.536646   \n",
       "SPARC               -0.370498            -0.370498            -0.369171   \n",
       "\n",
       "          SRP000599.SRR013552  SRP000599.SRR013553  SRP000599.SRR013554  \\\n",
       "GAS6                -0.312931            -0.312931            -0.308253   \n",
       "MMP14               -0.328279            -0.328279            -0.328279   \n",
       "DSP                 -0.286859            -0.286859            -0.286859   \n",
       "MARCKSL1            -0.536646            -0.536646            -0.536646   \n",
       "SPARC               -0.370498            -0.370498            -0.370498   \n",
       "\n",
       "          SRP000599.SRR013555  SRP000599.SRR013556  SRP000599.SRR013557  \\\n",
       "GAS6                -0.312931            -0.312931            -0.312931   \n",
       "MMP14               -0.328279            -0.328279            -0.328279   \n",
       "DSP                 -0.277195            -0.256862            -0.278790   \n",
       "MARCKSL1            -0.536646            -0.536646            -0.536646   \n",
       "SPARC               -0.370498            -0.370498            -0.370498   \n",
       "\n",
       "          SRP000599.SRR013558  ...  SRP035599.SRR1139372  \\\n",
       "GAS6                -0.312931  ...             -0.301711   \n",
       "MMP14               -0.325140  ...             -0.314587   \n",
       "DSP                 -0.269701  ...             -0.286859   \n",
       "MARCKSL1            -0.536646  ...              0.807663   \n",
       "SPARC               -0.370498  ...             -0.345409   \n",
       "\n",
       "          SRP035599.SRR1139393  SRP035599.SRR1139388  SRP035599.SRR1139378  \\\n",
       "GAS6                 -0.305581             -0.303344             -0.297800   \n",
       "MMP14                -0.322952             -0.326439             -0.325994   \n",
       "DSP                  -0.286859             -0.286745             -0.286688   \n",
       "MARCKSL1              1.294564              1.527655              1.404788   \n",
       "SPARC                -0.310750             -0.348120             -0.356938   \n",
       "\n",
       "          SRP035599.SRR1139399  SRP035599.SRR1139386  SRP035599.SRR1139375  \\\n",
       "GAS6                 -0.307122             -0.285499             -0.309599   \n",
       "MMP14                -0.326272             -0.322523             -0.326375   \n",
       "DSP                  -0.286725             -0.286529             -0.286859   \n",
       "MARCKSL1              1.047931              0.892119              1.507099   \n",
       "SPARC                -0.355206             -0.366197             -0.351174   \n",
       "\n",
       "          SRP035599.SRR1139382  SRP035599.SRR1139356  SRP035599.SRR1139370  \n",
       "GAS6                 -0.300220             -0.297667             -0.310151  \n",
       "MMP14                -0.326339             -0.322127             -0.327438  \n",
       "DSP                  -0.286671             -0.286859             -0.286740  \n",
       "MARCKSL1              2.458255              2.919662              1.410846  \n",
       "SPARC                -0.363703             -0.350825             -0.360762  \n",
       "\n",
       "[5 rows x 37032 columns]"
      ]
     },
     "execution_count": 9,
     "metadata": {},
     "output_type": "execute_result"
    }
   ],
   "source": [
    "data.head()"
   ]
  },
  {
   "cell_type": "markdown",
   "id": "081da632-fd12-462a-9ae1-c0ceccf1bb5d",
   "metadata": {
    "papermill": {
     "duration": 0.014753,
     "end_time": "2021-09-12T23:22:05.448748",
     "exception": false,
     "start_time": "2021-09-12T23:22:05.433995",
     "status": "completed"
    },
    "tags": []
   },
   "source": [
    "# Compute similarity"
   ]
  },
  {
   "cell_type": "markdown",
   "id": "37137fff-2d3a-43d8-9bd5-d7c3284a97f5",
   "metadata": {
    "papermill": {
     "duration": 0.014893,
     "end_time": "2021-09-12T23:22:05.478236",
     "exception": false,
     "start_time": "2021-09-12T23:22:05.463343",
     "status": "completed"
    },
    "tags": []
   },
   "source": [
    "## Performance test"
   ]
  },
  {
   "cell_type": "code",
   "execution_count": 10,
   "id": "5dd40707-759f-4bf9-b8cc-84811b2dfe53",
   "metadata": {
    "execution": {
     "iopub.execute_input": "2021-09-12T23:22:05.718775Z",
     "iopub.status.busy": "2021-09-12T23:22:05.718174Z",
     "iopub.status.idle": "2021-09-12T23:22:05.720501Z",
     "shell.execute_reply": "2021-09-12T23:22:05.719912Z"
    },
    "papermill": {
     "duration": 0.227366,
     "end_time": "2021-09-12T23:22:05.720626",
     "exception": false,
     "start_time": "2021-09-12T23:22:05.493260",
     "status": "completed"
    },
    "tags": []
   },
   "outputs": [],
   "source": [
    "# select a subset of the genes\n",
    "test_data = data.sample(n=PERFORMANCE_TEST_N_TOP_GENES, random_state=0)"
   ]
  },
  {
   "cell_type": "code",
   "execution_count": 11,
   "id": "e8acd036-93f7-46c0-a1ee-8da0c2c24790",
   "metadata": {
    "execution": {
     "iopub.execute_input": "2021-09-12T23:22:05.762318Z",
     "iopub.status.busy": "2021-09-12T23:22:05.761761Z",
     "iopub.status.idle": "2021-09-12T23:22:05.764026Z",
     "shell.execute_reply": "2021-09-12T23:22:05.764431Z"
    },
    "papermill": {
     "duration": 0.024602,
     "end_time": "2021-09-12T23:22:05.764573",
     "exception": false,
     "start_time": "2021-09-12T23:22:05.739971",
     "status": "completed"
    },
    "tags": []
   },
   "outputs": [
    {
     "data": {
      "text/plain": [
       "(500, 37032)"
      ]
     },
     "execution_count": 11,
     "metadata": {},
     "output_type": "execute_result"
    }
   ],
   "source": [
    "test_data.shape"
   ]
  },
  {
   "cell_type": "code",
   "execution_count": 12,
   "id": "111e360b-dbe4-4b69-9029-7b7669eb5ddc",
   "metadata": {
    "execution": {
     "iopub.execute_input": "2021-09-12T23:22:05.803164Z",
     "iopub.status.busy": "2021-09-12T23:22:05.802690Z",
     "iopub.status.idle": "2021-09-12T23:22:05.819010Z",
     "shell.execute_reply": "2021-09-12T23:22:05.818561Z"
    },
    "papermill": {
     "duration": 0.036698,
     "end_time": "2021-09-12T23:22:05.819120",
     "exception": false,
     "start_time": "2021-09-12T23:22:05.782422",
     "status": "completed"
    },
    "tags": []
   },
   "outputs": [
    {
     "data": {
      "text/html": [
       "<div>\n",
       "<style scoped>\n",
       "    .dataframe tbody tr th:only-of-type {\n",
       "        vertical-align: middle;\n",
       "    }\n",
       "\n",
       "    .dataframe tbody tr th {\n",
       "        vertical-align: top;\n",
       "    }\n",
       "\n",
       "    .dataframe thead th {\n",
       "        text-align: right;\n",
       "    }\n",
       "</style>\n",
       "<table border=\"1\" class=\"dataframe\">\n",
       "  <thead>\n",
       "    <tr style=\"text-align: right;\">\n",
       "      <th></th>\n",
       "      <th>SRP000599.SRR013549</th>\n",
       "      <th>SRP000599.SRR013550</th>\n",
       "      <th>SRP000599.SRR013551</th>\n",
       "      <th>SRP000599.SRR013552</th>\n",
       "      <th>SRP000599.SRR013553</th>\n",
       "      <th>SRP000599.SRR013554</th>\n",
       "      <th>SRP000599.SRR013555</th>\n",
       "      <th>SRP000599.SRR013556</th>\n",
       "      <th>SRP000599.SRR013557</th>\n",
       "      <th>SRP000599.SRR013558</th>\n",
       "      <th>...</th>\n",
       "      <th>SRP035599.SRR1139372</th>\n",
       "      <th>SRP035599.SRR1139393</th>\n",
       "      <th>SRP035599.SRR1139388</th>\n",
       "      <th>SRP035599.SRR1139378</th>\n",
       "      <th>SRP035599.SRR1139399</th>\n",
       "      <th>SRP035599.SRR1139386</th>\n",
       "      <th>SRP035599.SRR1139375</th>\n",
       "      <th>SRP035599.SRR1139382</th>\n",
       "      <th>SRP035599.SRR1139356</th>\n",
       "      <th>SRP035599.SRR1139370</th>\n",
       "    </tr>\n",
       "  </thead>\n",
       "  <tbody>\n",
       "    <tr>\n",
       "      <th>S1PR5</th>\n",
       "      <td>-0.266852</td>\n",
       "      <td>-0.266852</td>\n",
       "      <td>-0.266852</td>\n",
       "      <td>-0.266852</td>\n",
       "      <td>-0.266852</td>\n",
       "      <td>-0.266852</td>\n",
       "      <td>-0.266852</td>\n",
       "      <td>-0.266852</td>\n",
       "      <td>-0.266852</td>\n",
       "      <td>-0.266852</td>\n",
       "      <td>...</td>\n",
       "      <td>-0.266852</td>\n",
       "      <td>-0.266852</td>\n",
       "      <td>-0.261464</td>\n",
       "      <td>-0.262521</td>\n",
       "      <td>-0.263571</td>\n",
       "      <td>-0.232207</td>\n",
       "      <td>-0.263313</td>\n",
       "      <td>-0.263926</td>\n",
       "      <td>-0.266852</td>\n",
       "      <td>-0.266852</td>\n",
       "    </tr>\n",
       "    <tr>\n",
       "      <th>NDUFA12</th>\n",
       "      <td>-0.389020</td>\n",
       "      <td>-0.389020</td>\n",
       "      <td>-0.389020</td>\n",
       "      <td>-0.389020</td>\n",
       "      <td>-0.389020</td>\n",
       "      <td>-0.389020</td>\n",
       "      <td>-0.389020</td>\n",
       "      <td>-0.389020</td>\n",
       "      <td>-0.389020</td>\n",
       "      <td>-0.389020</td>\n",
       "      <td>...</td>\n",
       "      <td>0.264052</td>\n",
       "      <td>0.141801</td>\n",
       "      <td>-0.101283</td>\n",
       "      <td>0.016574</td>\n",
       "      <td>0.054545</td>\n",
       "      <td>0.109291</td>\n",
       "      <td>-0.080455</td>\n",
       "      <td>-0.039797</td>\n",
       "      <td>-0.171493</td>\n",
       "      <td>-0.039619</td>\n",
       "    </tr>\n",
       "    <tr>\n",
       "      <th>EXOSC10</th>\n",
       "      <td>-0.775256</td>\n",
       "      <td>-0.781191</td>\n",
       "      <td>-0.781191</td>\n",
       "      <td>-0.781191</td>\n",
       "      <td>-0.781191</td>\n",
       "      <td>-0.781191</td>\n",
       "      <td>-0.781191</td>\n",
       "      <td>-0.781191</td>\n",
       "      <td>-0.781191</td>\n",
       "      <td>-0.781191</td>\n",
       "      <td>...</td>\n",
       "      <td>-0.151619</td>\n",
       "      <td>-0.190753</td>\n",
       "      <td>-0.263083</td>\n",
       "      <td>0.006409</td>\n",
       "      <td>-0.090697</td>\n",
       "      <td>-0.196750</td>\n",
       "      <td>-0.039938</td>\n",
       "      <td>0.155149</td>\n",
       "      <td>0.076707</td>\n",
       "      <td>0.201055</td>\n",
       "    </tr>\n",
       "    <tr>\n",
       "      <th>ALOX15B</th>\n",
       "      <td>-0.104175</td>\n",
       "      <td>-0.104175</td>\n",
       "      <td>-0.104175</td>\n",
       "      <td>-0.104175</td>\n",
       "      <td>-0.104175</td>\n",
       "      <td>-0.104175</td>\n",
       "      <td>-0.104175</td>\n",
       "      <td>-0.104175</td>\n",
       "      <td>-0.104175</td>\n",
       "      <td>-0.104175</td>\n",
       "      <td>...</td>\n",
       "      <td>-0.102583</td>\n",
       "      <td>-0.104175</td>\n",
       "      <td>-0.104175</td>\n",
       "      <td>-0.090938</td>\n",
       "      <td>-0.104175</td>\n",
       "      <td>-0.091455</td>\n",
       "      <td>-0.097841</td>\n",
       "      <td>-0.097053</td>\n",
       "      <td>-0.098525</td>\n",
       "      <td>-0.102490</td>\n",
       "    </tr>\n",
       "    <tr>\n",
       "      <th>CACNB1</th>\n",
       "      <td>-0.412386</td>\n",
       "      <td>-0.412386</td>\n",
       "      <td>-0.412386</td>\n",
       "      <td>-0.412386</td>\n",
       "      <td>-0.412386</td>\n",
       "      <td>-0.412386</td>\n",
       "      <td>-0.412386</td>\n",
       "      <td>-0.412386</td>\n",
       "      <td>-0.412386</td>\n",
       "      <td>-0.412386</td>\n",
       "      <td>...</td>\n",
       "      <td>-0.002829</td>\n",
       "      <td>-0.176210</td>\n",
       "      <td>-0.124728</td>\n",
       "      <td>-0.034000</td>\n",
       "      <td>-0.170579</td>\n",
       "      <td>-0.134903</td>\n",
       "      <td>-0.050322</td>\n",
       "      <td>-0.160912</td>\n",
       "      <td>-0.034017</td>\n",
       "      <td>-0.001866</td>\n",
       "    </tr>\n",
       "  </tbody>\n",
       "</table>\n",
       "<p>5 rows × 37032 columns</p>\n",
       "</div>"
      ],
      "text/plain": [
       "         SRP000599.SRR013549  SRP000599.SRR013550  SRP000599.SRR013551  \\\n",
       "S1PR5              -0.266852            -0.266852            -0.266852   \n",
       "NDUFA12            -0.389020            -0.389020            -0.389020   \n",
       "EXOSC10            -0.775256            -0.781191            -0.781191   \n",
       "ALOX15B            -0.104175            -0.104175            -0.104175   \n",
       "CACNB1             -0.412386            -0.412386            -0.412386   \n",
       "\n",
       "         SRP000599.SRR013552  SRP000599.SRR013553  SRP000599.SRR013554  \\\n",
       "S1PR5              -0.266852            -0.266852            -0.266852   \n",
       "NDUFA12            -0.389020            -0.389020            -0.389020   \n",
       "EXOSC10            -0.781191            -0.781191            -0.781191   \n",
       "ALOX15B            -0.104175            -0.104175            -0.104175   \n",
       "CACNB1             -0.412386            -0.412386            -0.412386   \n",
       "\n",
       "         SRP000599.SRR013555  SRP000599.SRR013556  SRP000599.SRR013557  \\\n",
       "S1PR5              -0.266852            -0.266852            -0.266852   \n",
       "NDUFA12            -0.389020            -0.389020            -0.389020   \n",
       "EXOSC10            -0.781191            -0.781191            -0.781191   \n",
       "ALOX15B            -0.104175            -0.104175            -0.104175   \n",
       "CACNB1             -0.412386            -0.412386            -0.412386   \n",
       "\n",
       "         SRP000599.SRR013558  ...  SRP035599.SRR1139372  SRP035599.SRR1139393  \\\n",
       "S1PR5              -0.266852  ...             -0.266852             -0.266852   \n",
       "NDUFA12            -0.389020  ...              0.264052              0.141801   \n",
       "EXOSC10            -0.781191  ...             -0.151619             -0.190753   \n",
       "ALOX15B            -0.104175  ...             -0.102583             -0.104175   \n",
       "CACNB1             -0.412386  ...             -0.002829             -0.176210   \n",
       "\n",
       "         SRP035599.SRR1139388  SRP035599.SRR1139378  SRP035599.SRR1139399  \\\n",
       "S1PR5               -0.261464             -0.262521             -0.263571   \n",
       "NDUFA12             -0.101283              0.016574              0.054545   \n",
       "EXOSC10             -0.263083              0.006409             -0.090697   \n",
       "ALOX15B             -0.104175             -0.090938             -0.104175   \n",
       "CACNB1              -0.124728             -0.034000             -0.170579   \n",
       "\n",
       "         SRP035599.SRR1139386  SRP035599.SRR1139375  SRP035599.SRR1139382  \\\n",
       "S1PR5               -0.232207             -0.263313             -0.263926   \n",
       "NDUFA12              0.109291             -0.080455             -0.039797   \n",
       "EXOSC10             -0.196750             -0.039938              0.155149   \n",
       "ALOX15B             -0.091455             -0.097841             -0.097053   \n",
       "CACNB1              -0.134903             -0.050322             -0.160912   \n",
       "\n",
       "         SRP035599.SRR1139356  SRP035599.SRR1139370  \n",
       "S1PR5               -0.266852             -0.266852  \n",
       "NDUFA12             -0.171493             -0.039619  \n",
       "EXOSC10              0.076707              0.201055  \n",
       "ALOX15B             -0.098525             -0.102490  \n",
       "CACNB1              -0.034017             -0.001866  \n",
       "\n",
       "[5 rows x 37032 columns]"
      ]
     },
     "execution_count": 12,
     "metadata": {},
     "output_type": "execute_result"
    }
   ],
   "source": [
    "test_data.head()"
   ]
  },
  {
   "cell_type": "markdown",
   "id": "5903f3f5-791e-4f03-9d79-600102933d04",
   "metadata": {
    "papermill": {
     "duration": 0.015583,
     "end_time": "2021-09-12T23:22:05.850597",
     "exception": false,
     "start_time": "2021-09-12T23:22:05.835014",
     "status": "completed"
    },
    "tags": []
   },
   "source": [
    "This is a quick performance test of the correlation measure. The following line (`_tmp = ...`) is the setup code, which is needed in case the correlation method was optimized using `numba` and needs to be compiled before performing the test."
   ]
  },
  {
   "cell_type": "code",
   "execution_count": 13,
   "id": "118a6631-1cfd-44a3-bd85-5ec7118edd03",
   "metadata": {
    "execution": {
     "iopub.execute_input": "2021-09-12T23:22:05.884263Z",
     "iopub.status.busy": "2021-09-12T23:22:05.883759Z",
     "iopub.status.idle": "2021-09-12T23:22:05.893714Z",
     "shell.execute_reply": "2021-09-12T23:22:05.893248Z"
    },
    "papermill": {
     "duration": 0.028299,
     "end_time": "2021-09-12T23:22:05.893813",
     "exception": false,
     "start_time": "2021-09-12T23:22:05.865514",
     "status": "completed"
    },
    "tags": []
   },
   "outputs": [
    {
     "data": {
      "text/plain": [
       "(3, 3)"
      ]
     },
     "metadata": {},
     "output_type": "display_data"
    },
    {
     "data": {
      "text/html": [
       "<div>\n",
       "<style scoped>\n",
       "    .dataframe tbody tr th:only-of-type {\n",
       "        vertical-align: middle;\n",
       "    }\n",
       "\n",
       "    .dataframe tbody tr th {\n",
       "        vertical-align: top;\n",
       "    }\n",
       "\n",
       "    .dataframe thead th {\n",
       "        text-align: right;\n",
       "    }\n",
       "</style>\n",
       "<table border=\"1\" class=\"dataframe\">\n",
       "  <thead>\n",
       "    <tr style=\"text-align: right;\">\n",
       "      <th></th>\n",
       "      <th>S1PR5</th>\n",
       "      <th>NDUFA12</th>\n",
       "      <th>EXOSC10</th>\n",
       "    </tr>\n",
       "  </thead>\n",
       "  <tbody>\n",
       "    <tr>\n",
       "      <th>S1PR5</th>\n",
       "      <td>1.000000</td>\n",
       "      <td>-0.029604</td>\n",
       "      <td>-0.001391</td>\n",
       "    </tr>\n",
       "    <tr>\n",
       "      <th>NDUFA12</th>\n",
       "      <td>-0.029604</td>\n",
       "      <td>1.000000</td>\n",
       "      <td>0.061790</td>\n",
       "    </tr>\n",
       "    <tr>\n",
       "      <th>EXOSC10</th>\n",
       "      <td>-0.001391</td>\n",
       "      <td>0.061790</td>\n",
       "      <td>1.000000</td>\n",
       "    </tr>\n",
       "  </tbody>\n",
       "</table>\n",
       "</div>"
      ],
      "text/plain": [
       "            S1PR5   NDUFA12   EXOSC10\n",
       "S1PR5    1.000000 -0.029604 -0.001391\n",
       "NDUFA12 -0.029604  1.000000  0.061790\n",
       "EXOSC10 -0.001391  0.061790  1.000000"
      ]
     },
     "metadata": {},
     "output_type": "display_data"
    }
   ],
   "source": [
    "_tmp = CORRELATION_METHOD(test_data.iloc[:3])\n",
    "\n",
    "display(_tmp.shape)\n",
    "display(_tmp)"
   ]
  },
  {
   "cell_type": "code",
   "execution_count": 14,
   "id": "d32281d8-f640-4f87-a1d5-aefa0757e9c3",
   "metadata": {
    "execution": {
     "iopub.execute_input": "2021-09-12T23:22:05.930732Z",
     "iopub.status.busy": "2021-09-12T23:22:05.930267Z",
     "iopub.status.idle": "2021-09-12T23:22:37.475363Z",
     "shell.execute_reply": "2021-09-12T23:22:37.475715Z"
    },
    "papermill": {
     "duration": 31.56524,
     "end_time": "2021-09-12T23:22:37.475826",
     "exception": false,
     "start_time": "2021-09-12T23:22:05.910586",
     "status": "completed"
    },
    "tags": []
   },
   "outputs": [
    {
     "name": "stdout",
     "output_type": "stream",
     "text": [
      "3.9 s ± 95.8 ms per loop (mean ± std. dev. of 7 runs, 1 loop each)\n"
     ]
    }
   ],
   "source": [
    "%timeit CORRELATION_METHOD(test_data)"
   ]
  },
  {
   "cell_type": "markdown",
   "id": "fc2f7184-c0da-438c-94f5-002912793636",
   "metadata": {
    "papermill": {
     "duration": 0.015595,
     "end_time": "2021-09-12T23:22:37.507369",
     "exception": false,
     "start_time": "2021-09-12T23:22:37.491774",
     "status": "completed"
    },
    "tags": []
   },
   "source": [
    "## Run"
   ]
  },
  {
   "cell_type": "code",
   "execution_count": 15,
   "id": "189b0295-f968-42b2-9377-a6c404182b01",
   "metadata": {
    "execution": {
     "iopub.execute_input": "2021-09-12T23:22:37.542632Z",
     "iopub.status.busy": "2021-09-12T23:22:37.542155Z",
     "iopub.status.idle": "2021-09-12T23:34:05.251299Z",
     "shell.execute_reply": "2021-09-12T23:34:05.250676Z"
    },
    "papermill": {
     "duration": 687.727999,
     "end_time": "2021-09-12T23:34:05.251436",
     "exception": false,
     "start_time": "2021-09-12T23:22:37.523437",
     "status": "completed"
    },
    "tags": []
   },
   "outputs": [],
   "source": [
    "# compute correlations\n",
    "data_corrs = CORRELATION_METHOD(data)"
   ]
  },
  {
   "cell_type": "code",
   "execution_count": 16,
   "id": "b8cd47e2-cf5d-47ae-b2cf-6c1141e7b420",
   "metadata": {
    "execution": {
     "iopub.execute_input": "2021-09-12T23:34:06.191141Z",
     "iopub.status.busy": "2021-09-12T23:34:06.190648Z",
     "iopub.status.idle": "2021-09-12T23:34:06.193642Z",
     "shell.execute_reply": "2021-09-12T23:34:06.193130Z"
    },
    "papermill": {
     "duration": 0.921682,
     "end_time": "2021-09-12T23:34:06.193754",
     "exception": false,
     "start_time": "2021-09-12T23:34:05.272072",
     "status": "completed"
    },
    "tags": []
   },
   "outputs": [
    {
     "data": {
      "text/plain": [
       "(6750, 6750)"
      ]
     },
     "metadata": {},
     "output_type": "display_data"
    }
   ],
   "source": [
    "display(data_corrs.shape)\n",
    "\n",
    "assert data.shape[0] == data_corrs.shape[0]"
   ]
  },
  {
   "cell_type": "code",
   "execution_count": 17,
   "id": "6491f65d-18ea-4a86-bde3-988152c1056e",
   "metadata": {
    "execution": {
     "iopub.execute_input": "2021-09-12T23:34:06.232616Z",
     "iopub.status.busy": "2021-09-12T23:34:06.232151Z",
     "iopub.status.idle": "2021-09-12T23:34:06.247483Z",
     "shell.execute_reply": "2021-09-12T23:34:06.247099Z"
    },
    "papermill": {
     "duration": 0.036529,
     "end_time": "2021-09-12T23:34:06.247579",
     "exception": false,
     "start_time": "2021-09-12T23:34:06.211050",
     "status": "completed"
    },
    "tags": []
   },
   "outputs": [
    {
     "data": {
      "text/html": [
       "<div>\n",
       "<style scoped>\n",
       "    .dataframe tbody tr th:only-of-type {\n",
       "        vertical-align: middle;\n",
       "    }\n",
       "\n",
       "    .dataframe tbody tr th {\n",
       "        vertical-align: top;\n",
       "    }\n",
       "\n",
       "    .dataframe thead th {\n",
       "        text-align: right;\n",
       "    }\n",
       "</style>\n",
       "<table border=\"1\" class=\"dataframe\">\n",
       "  <thead>\n",
       "    <tr style=\"text-align: right;\">\n",
       "      <th></th>\n",
       "      <th>GAS6</th>\n",
       "      <th>MMP14</th>\n",
       "      <th>DSP</th>\n",
       "      <th>MARCKSL1</th>\n",
       "      <th>SPARC</th>\n",
       "      <th>CTSD</th>\n",
       "      <th>EPAS1</th>\n",
       "      <th>PALLD</th>\n",
       "      <th>PHC2</th>\n",
       "      <th>LGALS3BP</th>\n",
       "      <th>...</th>\n",
       "      <th>LDHB</th>\n",
       "      <th>LDHC</th>\n",
       "      <th>ACAP2</th>\n",
       "      <th>ACAP3</th>\n",
       "      <th>CFL2</th>\n",
       "      <th>CFL1</th>\n",
       "      <th>NFIB</th>\n",
       "      <th>PLEKHG6</th>\n",
       "      <th>GNGT2</th>\n",
       "      <th>SERPINH1</th>\n",
       "    </tr>\n",
       "  </thead>\n",
       "  <tbody>\n",
       "    <tr>\n",
       "      <th>GAS6</th>\n",
       "      <td>1.000000</td>\n",
       "      <td>0.294974</td>\n",
       "      <td>0.056459</td>\n",
       "      <td>-0.025141</td>\n",
       "      <td>0.200635</td>\n",
       "      <td>0.103548</td>\n",
       "      <td>0.131867</td>\n",
       "      <td>0.276463</td>\n",
       "      <td>0.112967</td>\n",
       "      <td>0.130925</td>\n",
       "      <td>...</td>\n",
       "      <td>-0.056567</td>\n",
       "      <td>-0.007278</td>\n",
       "      <td>-0.030214</td>\n",
       "      <td>0.148051</td>\n",
       "      <td>0.039434</td>\n",
       "      <td>0.047084</td>\n",
       "      <td>-0.029201</td>\n",
       "      <td>0.028263</td>\n",
       "      <td>-0.010433</td>\n",
       "      <td>0.386991</td>\n",
       "    </tr>\n",
       "    <tr>\n",
       "      <th>MMP14</th>\n",
       "      <td>0.294974</td>\n",
       "      <td>1.000000</td>\n",
       "      <td>0.055232</td>\n",
       "      <td>0.019443</td>\n",
       "      <td>0.162131</td>\n",
       "      <td>0.288713</td>\n",
       "      <td>0.078418</td>\n",
       "      <td>0.152664</td>\n",
       "      <td>0.200287</td>\n",
       "      <td>0.230657</td>\n",
       "      <td>...</td>\n",
       "      <td>-0.075008</td>\n",
       "      <td>-0.017159</td>\n",
       "      <td>-0.022373</td>\n",
       "      <td>0.195568</td>\n",
       "      <td>-0.008378</td>\n",
       "      <td>0.060350</td>\n",
       "      <td>-0.035702</td>\n",
       "      <td>0.019021</td>\n",
       "      <td>-0.001449</td>\n",
       "      <td>0.348298</td>\n",
       "    </tr>\n",
       "    <tr>\n",
       "      <th>DSP</th>\n",
       "      <td>0.056459</td>\n",
       "      <td>0.055232</td>\n",
       "      <td>1.000000</td>\n",
       "      <td>-0.036595</td>\n",
       "      <td>0.035897</td>\n",
       "      <td>0.040336</td>\n",
       "      <td>0.044387</td>\n",
       "      <td>0.141760</td>\n",
       "      <td>-0.023011</td>\n",
       "      <td>0.027952</td>\n",
       "      <td>...</td>\n",
       "      <td>-0.052872</td>\n",
       "      <td>-0.010162</td>\n",
       "      <td>0.033149</td>\n",
       "      <td>0.003191</td>\n",
       "      <td>-0.025231</td>\n",
       "      <td>-0.019664</td>\n",
       "      <td>-0.020029</td>\n",
       "      <td>0.135147</td>\n",
       "      <td>-0.017221</td>\n",
       "      <td>0.061731</td>\n",
       "    </tr>\n",
       "    <tr>\n",
       "      <th>MARCKSL1</th>\n",
       "      <td>-0.025141</td>\n",
       "      <td>0.019443</td>\n",
       "      <td>-0.036595</td>\n",
       "      <td>1.000000</td>\n",
       "      <td>0.029414</td>\n",
       "      <td>-0.003729</td>\n",
       "      <td>-0.030208</td>\n",
       "      <td>0.018872</td>\n",
       "      <td>0.130432</td>\n",
       "      <td>0.022778</td>\n",
       "      <td>...</td>\n",
       "      <td>0.069346</td>\n",
       "      <td>-0.003312</td>\n",
       "      <td>-0.015761</td>\n",
       "      <td>0.201729</td>\n",
       "      <td>-0.022687</td>\n",
       "      <td>0.018768</td>\n",
       "      <td>0.024176</td>\n",
       "      <td>0.027592</td>\n",
       "      <td>0.004332</td>\n",
       "      <td>0.146742</td>\n",
       "    </tr>\n",
       "    <tr>\n",
       "      <th>SPARC</th>\n",
       "      <td>0.200635</td>\n",
       "      <td>0.162131</td>\n",
       "      <td>0.035897</td>\n",
       "      <td>0.029414</td>\n",
       "      <td>1.000000</td>\n",
       "      <td>-0.007102</td>\n",
       "      <td>0.079556</td>\n",
       "      <td>0.278528</td>\n",
       "      <td>0.028905</td>\n",
       "      <td>0.089256</td>\n",
       "      <td>...</td>\n",
       "      <td>0.084137</td>\n",
       "      <td>-0.009165</td>\n",
       "      <td>-0.058129</td>\n",
       "      <td>-0.005859</td>\n",
       "      <td>0.102020</td>\n",
       "      <td>0.077243</td>\n",
       "      <td>-0.020692</td>\n",
       "      <td>-0.009489</td>\n",
       "      <td>-0.016504</td>\n",
       "      <td>0.412960</td>\n",
       "    </tr>\n",
       "  </tbody>\n",
       "</table>\n",
       "<p>5 rows × 6750 columns</p>\n",
       "</div>"
      ],
      "text/plain": [
       "              GAS6     MMP14       DSP  MARCKSL1     SPARC      CTSD  \\\n",
       "GAS6      1.000000  0.294974  0.056459 -0.025141  0.200635  0.103548   \n",
       "MMP14     0.294974  1.000000  0.055232  0.019443  0.162131  0.288713   \n",
       "DSP       0.056459  0.055232  1.000000 -0.036595  0.035897  0.040336   \n",
       "MARCKSL1 -0.025141  0.019443 -0.036595  1.000000  0.029414 -0.003729   \n",
       "SPARC     0.200635  0.162131  0.035897  0.029414  1.000000 -0.007102   \n",
       "\n",
       "             EPAS1     PALLD      PHC2  LGALS3BP  ...      LDHB      LDHC  \\\n",
       "GAS6      0.131867  0.276463  0.112967  0.130925  ... -0.056567 -0.007278   \n",
       "MMP14     0.078418  0.152664  0.200287  0.230657  ... -0.075008 -0.017159   \n",
       "DSP       0.044387  0.141760 -0.023011  0.027952  ... -0.052872 -0.010162   \n",
       "MARCKSL1 -0.030208  0.018872  0.130432  0.022778  ...  0.069346 -0.003312   \n",
       "SPARC     0.079556  0.278528  0.028905  0.089256  ...  0.084137 -0.009165   \n",
       "\n",
       "             ACAP2     ACAP3      CFL2      CFL1      NFIB   PLEKHG6  \\\n",
       "GAS6     -0.030214  0.148051  0.039434  0.047084 -0.029201  0.028263   \n",
       "MMP14    -0.022373  0.195568 -0.008378  0.060350 -0.035702  0.019021   \n",
       "DSP       0.033149  0.003191 -0.025231 -0.019664 -0.020029  0.135147   \n",
       "MARCKSL1 -0.015761  0.201729 -0.022687  0.018768  0.024176  0.027592   \n",
       "SPARC    -0.058129 -0.005859  0.102020  0.077243 -0.020692 -0.009489   \n",
       "\n",
       "             GNGT2  SERPINH1  \n",
       "GAS6     -0.010433  0.386991  \n",
       "MMP14    -0.001449  0.348298  \n",
       "DSP      -0.017221  0.061731  \n",
       "MARCKSL1  0.004332  0.146742  \n",
       "SPARC    -0.016504  0.412960  \n",
       "\n",
       "[5 rows x 6750 columns]"
      ]
     },
     "execution_count": 17,
     "metadata": {},
     "output_type": "execute_result"
    }
   ],
   "source": [
    "data_corrs.head()"
   ]
  },
  {
   "cell_type": "code",
   "execution_count": 18,
   "id": "31e811b1-4329-494b-9905-ee002b34f4b4",
   "metadata": {
    "execution": {
     "iopub.execute_input": "2021-09-12T23:34:06.285522Z",
     "iopub.status.busy": "2021-09-12T23:34:06.284929Z",
     "iopub.status.idle": "2021-09-12T23:34:06.287652Z",
     "shell.execute_reply": "2021-09-12T23:34:06.287271Z"
    },
    "papermill": {
     "duration": 0.023053,
     "end_time": "2021-09-12T23:34:06.287755",
     "exception": false,
     "start_time": "2021-09-12T23:34:06.264702",
     "status": "completed"
    },
    "tags": []
   },
   "outputs": [
    {
     "data": {
      "text/plain": [
       "PosixPath('/opt/data/results/recount2/similarity_matrices/recount_data_prep_PLIER-pearson.pkl')"
      ]
     },
     "metadata": {},
     "output_type": "display_data"
    }
   ],
   "source": [
    "output_filename = OUTPUT_DIR / f\"{INPUT_FILE.stem}-{method_name}.pkl\"\n",
    "display(output_filename)"
   ]
  },
  {
   "cell_type": "code",
   "execution_count": 19,
   "id": "b3c49a1a-bdf4-4cf9-824d-0d5c0acf2b73",
   "metadata": {
    "execution": {
     "iopub.execute_input": "2021-09-12T23:34:06.326381Z",
     "iopub.status.busy": "2021-09-12T23:34:06.325936Z",
     "iopub.status.idle": "2021-09-12T23:34:08.200307Z",
     "shell.execute_reply": "2021-09-12T23:34:08.201879Z"
    },
    "papermill": {
     "duration": 1.896448,
     "end_time": "2021-09-12T23:34:08.202329",
     "exception": false,
     "start_time": "2021-09-12T23:34:06.305881",
     "status": "completed"
    },
    "tags": []
   },
   "outputs": [],
   "source": [
    "# save\n",
    "data_corrs.to_pickle(output_filename)"
   ]
  },
  {
   "cell_type": "code",
   "execution_count": null,
   "id": "258babdf-03ce-4450-ab22-7a3d75bf6869",
   "metadata": {
    "papermill": {
     "duration": 0.016603,
     "end_time": "2021-09-12T23:34:08.236822",
     "exception": false,
     "start_time": "2021-09-12T23:34:08.220219",
     "status": "completed"
    },
    "tags": []
   },
   "outputs": [],
   "source": []
  }
 ],
 "metadata": {
  "jupytext": {
   "cell_metadata_filter": "all,-execution,-papermill,-trusted"
  },
  "kernelspec": {
   "display_name": "Python 3 (ipykernel)",
   "language": "python",
   "name": "python3"
  },
  "language_info": {
   "codemirror_mode": {
    "name": "ipython",
    "version": 3
   },
   "file_extension": ".py",
   "mimetype": "text/x-python",
   "name": "python",
   "nbconvert_exporter": "python",
   "pygments_lexer": "ipython3",
   "version": "3.9.7"
  },
  "papermill": {
   "default_parameters": {},
   "duration": 727.291512,
   "end_time": "2021-09-12T23:34:08.562307",
   "environment_variables": {},
   "exception": null,
   "input_path": "nbs/10_compute_correlations/10_recount2/05-recount2-pearson.ipynb",
   "output_path": "nbs/10_compute_correlations/10_recount2/05-recount2-pearson.run.ipynb",
   "parameters": {},
   "start_time": "2021-09-12T23:22:01.270795",
   "version": "2.3.3"
  },
  "toc-autonumbering": true
 },
 "nbformat": 4,
 "nbformat_minor": 5
}
