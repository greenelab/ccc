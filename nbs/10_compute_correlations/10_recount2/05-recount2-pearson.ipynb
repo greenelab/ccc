{
 "cells": [
  {
   "cell_type": "markdown",
   "id": "e9773a95-e8fd-4963-87a5-0c92299434d5",
   "metadata": {
    "papermill": {
     "duration": 0.048732,
     "end_time": "2021-09-12T23:22:02.403772",
     "exception": false,
     "start_time": "2021-09-12T23:22:02.355040",
     "status": "completed"
    },
    "tags": []
   },
   "source": [
    "# Description"
   ]
  },
  {
   "cell_type": "markdown",
   "id": "57f34c74-404d-4776-b547-e6acb2df75d7",
   "metadata": {
    "papermill": {
     "duration": 0.012912,
     "end_time": "2021-09-12T23:22:02.433066",
     "exception": false,
     "start_time": "2021-09-12T23:22:02.420154",
     "status": "completed"
    },
    "tags": []
   },
   "source": [
    "According to the settings specified below, this notebook:\n",
    " 1. reads all the data from one source (GTEx, recount2, etc) according to the gene selection method (`GENE_SELECTION_STRATEGY`),\n",
    " 2. runs a quick performance test using the correlation coefficient specified (`CORRELATION_METHOD`), and\n",
    " 3. computes the correlation matrix across all the genes using the correlation coefficient specified."
   ]
  },
  {
   "cell_type": "markdown",
   "id": "1d8fae6b-e623-46a6-aff6-d7849163c820",
   "metadata": {
    "papermill": {
     "duration": 0.012584,
     "end_time": "2021-09-12T23:22:02.458354",
     "exception": false,
     "start_time": "2021-09-12T23:22:02.445770",
     "status": "completed"
    },
    "tags": []
   },
   "source": [
    "# Modules"
   ]
  },
  {
   "cell_type": "code",
   "execution_count": null,
   "id": "76729f0e-f742-495b-b676-d9d7b1539e10",
   "metadata": {
    "papermill": {
     "duration": 0.568193,
     "end_time": "2021-09-12T23:22:03.039490",
     "exception": false,
     "start_time": "2021-09-12T23:22:02.471297",
     "status": "completed"
    },
    "tags": []
   },
   "outputs": [],
   "source": [
    "import pandas as pd\n",
    "\n",
    "from clustermatch import conf\n",
    "from clustermatch.corr import pearson"
   ]
  },
  {
   "cell_type": "markdown",
   "id": "a6c3a546-9a49-45e7-9f17-fbdb5af4bfb6",
   "metadata": {
    "papermill": {
     "duration": 0.012907,
     "end_time": "2021-09-12T23:22:03.065985",
     "exception": false,
     "start_time": "2021-09-12T23:22:03.053078",
     "status": "completed"
    },
    "tags": []
   },
   "source": [
    "# Settings"
   ]
  },
  {
   "cell_type": "code",
   "execution_count": null,
   "id": "56ff94d3-a230-4028-a71d-518ac109209b",
   "metadata": {
    "papermill": {
     "duration": 0.018443,
     "end_time": "2021-09-12T23:22:03.097513",
     "exception": false,
     "start_time": "2021-09-12T23:22:03.079070",
     "status": "completed"
    },
    "tags": []
   },
   "outputs": [],
   "source": [
    "GENE_SELECTION_STRATEGY = \"var_pc_log2\""
   ]
  },
  {
   "cell_type": "code",
   "execution_count": null,
   "id": "8baf4209-ba56-4e3d-b60f-6ce2bb686159",
   "metadata": {
    "papermill": {
     "duration": 0.024137,
     "end_time": "2021-09-12T23:22:03.135222",
     "exception": false,
     "start_time": "2021-09-12T23:22:03.111085",
     "status": "completed"
    },
    "tags": []
   },
   "outputs": [],
   "source": [
    "CORRELATION_METHOD = pearson\n",
    "\n",
    "method_name = CORRELATION_METHOD.__name__\n",
    "display(method_name)"
   ]
  },
  {
   "cell_type": "code",
   "execution_count": null,
   "id": "21a3e349-9a09-4d24-89e3-915fdbf08a81",
   "metadata": {
    "papermill": {
     "duration": 0.0184,
     "end_time": "2021-09-12T23:22:03.167405",
     "exception": false,
     "start_time": "2021-09-12T23:22:03.149005",
     "status": "completed"
    },
    "tags": []
   },
   "outputs": [],
   "source": [
    "PERFORMANCE_TEST_N_TOP_GENES = 50"
   ]
  },
  {
   "cell_type": "markdown",
   "id": "b0afcba9-5847-414e-b448-f0cd08ecd8ce",
   "metadata": {
    "papermill": {
     "duration": 0.012947,
     "end_time": "2021-09-12T23:22:03.194382",
     "exception": false,
     "start_time": "2021-09-12T23:22:03.181435",
     "status": "completed"
    },
    "tags": []
   },
   "source": [
    "# Paths"
   ]
  },
  {
   "cell_type": "code",
   "execution_count": null,
   "id": "35760114-8560-4a0e-ad4f-2bee9104c63d",
   "metadata": {
    "papermill": {
     "duration": 0.019884,
     "end_time": "2021-09-12T23:22:03.227262",
     "exception": false,
     "start_time": "2021-09-12T23:22:03.207378",
     "status": "completed"
    },
    "tags": []
   },
   "outputs": [],
   "source": [
    "INPUT_FILE = (\n",
    "    conf.RECOUNT2FULL[\"GENE_SELECTION_DIR\"]\n",
    "    / f\"recount2_rpkm-{GENE_SELECTION_STRATEGY}.pkl\"\n",
    ")\n",
    "display(INPUT_FILE)\n",
    "\n",
    "assert INPUT_FILE.exists()"
   ]
  },
  {
   "cell_type": "code",
   "execution_count": null,
   "id": "f1418e81-4e77-4f67-b5ed-b29b797e31a0",
   "metadata": {
    "papermill": {
     "duration": 0.019688,
     "end_time": "2021-09-12T23:22:03.260478",
     "exception": false,
     "start_time": "2021-09-12T23:22:03.240790",
     "status": "completed"
    },
    "tags": []
   },
   "outputs": [],
   "source": [
    "OUTPUT_DIR = conf.RECOUNT2FULL[\"SIMILARITY_MATRICES_DIR\"]\n",
    "OUTPUT_DIR.mkdir(parents=True, exist_ok=True)\n",
    "display(OUTPUT_DIR)"
   ]
  },
  {
   "cell_type": "markdown",
   "id": "5fdf8df6-eba0-4cf5-979c-3acd56a5ef3c",
   "metadata": {
    "papermill": {
     "duration": 0.013777,
     "end_time": "2021-09-12T23:22:03.288835",
     "exception": false,
     "start_time": "2021-09-12T23:22:03.275058",
     "status": "completed"
    },
    "tags": []
   },
   "source": [
    "# Data loading"
   ]
  },
  {
   "cell_type": "code",
   "execution_count": null,
   "id": "596d25ed-4120-4bef-8984-a91ae6529ab5",
   "metadata": {
    "papermill": {
     "duration": 2.015703,
     "end_time": "2021-09-12T23:22:05.318446",
     "exception": false,
     "start_time": "2021-09-12T23:22:03.302743",
     "status": "completed"
    },
    "tags": []
   },
   "outputs": [],
   "source": [
    "data = pd.read_pickle(INPUT_FILE)"
   ]
  },
  {
   "cell_type": "code",
   "execution_count": null,
   "id": "be8a23da-ea99-43a9-b684-fa645c1d1adc",
   "metadata": {
    "papermill": {
     "duration": 0.020967,
     "end_time": "2021-09-12T23:22:05.363073",
     "exception": false,
     "start_time": "2021-09-12T23:22:05.342106",
     "status": "completed"
    },
    "tags": []
   },
   "outputs": [],
   "source": [
    "data.shape"
   ]
  },
  {
   "cell_type": "code",
   "execution_count": null,
   "id": "cd693523-4379-400a-a2d2-6b3f617421e6",
   "metadata": {
    "papermill": {
     "duration": 0.040076,
     "end_time": "2021-09-12T23:22:05.418220",
     "exception": false,
     "start_time": "2021-09-12T23:22:05.378144",
     "status": "completed"
    },
    "tags": []
   },
   "outputs": [],
   "source": [
    "data.head()"
   ]
  },
  {
   "cell_type": "markdown",
   "id": "081da632-fd12-462a-9ae1-c0ceccf1bb5d",
   "metadata": {
    "papermill": {
     "duration": 0.014753,
     "end_time": "2021-09-12T23:22:05.448748",
     "exception": false,
     "start_time": "2021-09-12T23:22:05.433995",
     "status": "completed"
    },
    "tags": []
   },
   "source": [
    "# Compute similarity"
   ]
  },
  {
   "cell_type": "markdown",
   "id": "37137fff-2d3a-43d8-9bd5-d7c3284a97f5",
   "metadata": {
    "papermill": {
     "duration": 0.014893,
     "end_time": "2021-09-12T23:22:05.478236",
     "exception": false,
     "start_time": "2021-09-12T23:22:05.463343",
     "status": "completed"
    },
    "tags": []
   },
   "source": [
    "## Performance test"
   ]
  },
  {
   "cell_type": "code",
   "execution_count": null,
   "id": "5dd40707-759f-4bf9-b8cc-84811b2dfe53",
   "metadata": {
    "papermill": {
     "duration": 0.227366,
     "end_time": "2021-09-12T23:22:05.720626",
     "exception": false,
     "start_time": "2021-09-12T23:22:05.493260",
     "status": "completed"
    },
    "tags": []
   },
   "outputs": [],
   "source": [
    "# select a subset of the genes\n",
    "test_data = data.sample(n=PERFORMANCE_TEST_N_TOP_GENES, random_state=0)"
   ]
  },
  {
   "cell_type": "code",
   "execution_count": null,
   "id": "e8acd036-93f7-46c0-a1ee-8da0c2c24790",
   "metadata": {
    "papermill": {
     "duration": 0.024602,
     "end_time": "2021-09-12T23:22:05.764573",
     "exception": false,
     "start_time": "2021-09-12T23:22:05.739971",
     "status": "completed"
    },
    "tags": []
   },
   "outputs": [],
   "source": [
    "test_data.shape"
   ]
  },
  {
   "cell_type": "code",
   "execution_count": null,
   "id": "111e360b-dbe4-4b69-9029-7b7669eb5ddc",
   "metadata": {
    "papermill": {
     "duration": 0.036698,
     "end_time": "2021-09-12T23:22:05.819120",
     "exception": false,
     "start_time": "2021-09-12T23:22:05.782422",
     "status": "completed"
    },
    "tags": []
   },
   "outputs": [],
   "source": [
    "test_data.head()"
   ]
  },
  {
   "cell_type": "markdown",
   "id": "5903f3f5-791e-4f03-9d79-600102933d04",
   "metadata": {
    "papermill": {
     "duration": 0.015583,
     "end_time": "2021-09-12T23:22:05.850597",
     "exception": false,
     "start_time": "2021-09-12T23:22:05.835014",
     "status": "completed"
    },
    "tags": []
   },
   "source": [
    "This is a quick performance test of the correlation measure. The following line (`_tmp = ...`) is the setup code, which is needed in case the correlation method was optimized using `numba` and needs to be compiled before performing the test."
   ]
  },
  {
   "cell_type": "code",
   "execution_count": null,
   "id": "118a6631-1cfd-44a3-bd85-5ec7118edd03",
   "metadata": {
    "papermill": {
     "duration": 0.028299,
     "end_time": "2021-09-12T23:22:05.893813",
     "exception": false,
     "start_time": "2021-09-12T23:22:05.865514",
     "status": "completed"
    },
    "tags": []
   },
   "outputs": [],
   "source": [
    "_tmp = CORRELATION_METHOD(test_data.iloc[:3])\n",
    "\n",
    "display(_tmp.shape)\n",
    "display(_tmp)"
   ]
  },
  {
   "cell_type": "code",
   "execution_count": null,
   "id": "d32281d8-f640-4f87-a1d5-aefa0757e9c3",
   "metadata": {
    "papermill": {
     "duration": 31.56524,
     "end_time": "2021-09-12T23:22:37.475826",
     "exception": false,
     "start_time": "2021-09-12T23:22:05.910586",
     "status": "completed"
    },
    "tags": []
   },
   "outputs": [],
   "source": [
    "%timeit CORRELATION_METHOD(test_data)"
   ]
  },
  {
   "cell_type": "markdown",
   "id": "fc2f7184-c0da-438c-94f5-002912793636",
   "metadata": {
    "papermill": {
     "duration": 0.015595,
     "end_time": "2021-09-12T23:22:37.507369",
     "exception": false,
     "start_time": "2021-09-12T23:22:37.491774",
     "status": "completed"
    },
    "tags": []
   },
   "source": [
    "## Run"
   ]
  },
  {
   "cell_type": "code",
   "execution_count": null,
   "id": "189b0295-f968-42b2-9377-a6c404182b01",
   "metadata": {
    "papermill": {
     "duration": 687.727999,
     "end_time": "2021-09-12T23:34:05.251436",
     "exception": false,
     "start_time": "2021-09-12T23:22:37.523437",
     "status": "completed"
    },
    "tags": []
   },
   "outputs": [],
   "source": [
    "# compute correlations\n",
    "data_corrs = CORRELATION_METHOD(data)"
   ]
  },
  {
   "cell_type": "code",
   "execution_count": null,
   "id": "b8cd47e2-cf5d-47ae-b2cf-6c1141e7b420",
   "metadata": {
    "papermill": {
     "duration": 0.921682,
     "end_time": "2021-09-12T23:34:06.193754",
     "exception": false,
     "start_time": "2021-09-12T23:34:05.272072",
     "status": "completed"
    },
    "tags": []
   },
   "outputs": [],
   "source": [
    "display(data_corrs.shape)\n",
    "\n",
    "assert data.shape[0] == data_corrs.shape[0]"
   ]
  },
  {
   "cell_type": "code",
   "execution_count": null,
   "id": "6491f65d-18ea-4a86-bde3-988152c1056e",
   "metadata": {
    "papermill": {
     "duration": 0.036529,
     "end_time": "2021-09-12T23:34:06.247579",
     "exception": false,
     "start_time": "2021-09-12T23:34:06.211050",
     "status": "completed"
    },
    "tags": []
   },
   "outputs": [],
   "source": [
    "data_corrs.head()"
   ]
  },
  {
   "cell_type": "markdown",
   "id": "e6aa3ca8-d6f5-4400-aac4-2f33672388b0",
   "metadata": {
    "papermill": {
     "duration": 0.015595,
     "end_time": "2021-09-12T23:22:37.507369",
     "exception": false,
     "start_time": "2021-09-12T23:22:37.491774",
     "status": "completed"
    },
    "tags": []
   },
   "source": [
    "## Save"
   ]
  },
  {
   "cell_type": "code",
   "execution_count": null,
   "id": "31e811b1-4329-494b-9905-ee002b34f4b4",
   "metadata": {
    "papermill": {
     "duration": 0.023053,
     "end_time": "2021-09-12T23:34:06.287755",
     "exception": false,
     "start_time": "2021-09-12T23:34:06.264702",
     "status": "completed"
    },
    "tags": []
   },
   "outputs": [],
   "source": [
    "output_filename = OUTPUT_DIR / f\"{INPUT_FILE.stem}-{method_name}.pkl\"\n",
    "display(output_filename)"
   ]
  },
  {
   "cell_type": "code",
   "execution_count": null,
   "id": "b3c49a1a-bdf4-4cf9-824d-0d5c0acf2b73",
   "metadata": {
    "papermill": {
     "duration": 1.896448,
     "end_time": "2021-09-12T23:34:08.202329",
     "exception": false,
     "start_time": "2021-09-12T23:34:06.305881",
     "status": "completed"
    },
    "tags": []
   },
   "outputs": [],
   "source": [
    "# save\n",
    "data_corrs.to_pickle(output_filename)"
   ]
  },
  {
   "cell_type": "code",
   "execution_count": null,
   "id": "258babdf-03ce-4450-ab22-7a3d75bf6869",
   "metadata": {
    "papermill": {
     "duration": 0.016603,
     "end_time": "2021-09-12T23:34:08.236822",
     "exception": false,
     "start_time": "2021-09-12T23:34:08.220219",
     "status": "completed"
    },
    "tags": []
   },
   "outputs": [],
   "source": []
  }
 ],
 "metadata": {
  "jupytext": {
   "cell_metadata_filter": "all,-execution,-papermill,-trusted",
   "text_representation": {
    "extension": ".py",
    "format_name": "percent",
    "format_version": "1.3",
    "jupytext_version": "1.11.5"
   }
  },
  "kernelspec": {
   "display_name": "Python 3 (ipykernel)",
   "language": "python",
   "name": "python3"
  },
  "language_info": {
   "codemirror_mode": {
    "name": "ipython",
    "version": 3
   },
   "file_extension": ".py",
   "mimetype": "text/x-python",
   "name": "python",
   "nbconvert_exporter": "python",
   "pygments_lexer": "ipython3",
   "version": "3.9.7"
  },
  "papermill": {
   "default_parameters": {},
   "duration": 727.291512,
   "end_time": "2021-09-12T23:34:08.562307",
   "environment_variables": {},
   "exception": null,
   "input_path": "nbs/10_compute_correlations/10_recount2/05-recount2-pearson.ipynb",
   "output_path": "nbs/10_compute_correlations/10_recount2/05-recount2-pearson.run.ipynb",
   "parameters": {},
   "start_time": "2021-09-12T23:22:01.270795",
   "version": "2.3.3"
  },
  "toc-autonumbering": true
 },
 "nbformat": 4,
 "nbformat_minor": 5
}
