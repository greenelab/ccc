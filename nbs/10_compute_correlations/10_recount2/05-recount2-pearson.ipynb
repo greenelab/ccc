{
 "cells": [
  {
   "cell_type": "markdown",
   "id": "e9773a95-e8fd-4963-87a5-0c92299434d5",
   "metadata": {
    "papermill": {
     "duration": 0.042222,
     "end_time": "2021-09-09T15:54:29.653121",
     "exception": false,
     "start_time": "2021-09-09T15:54:29.610899",
     "status": "completed"
    },
    "tags": []
   },
   "source": [
    "# Description"
   ]
  },
  {
   "cell_type": "markdown",
   "id": "57f34c74-404d-4776-b547-e6acb2df75d7",
   "metadata": {
    "papermill": {
     "duration": 0.010643,
     "end_time": "2021-09-09T15:54:29.678078",
     "exception": false,
     "start_time": "2021-09-09T15:54:29.667435",
     "status": "completed"
    },
    "tags": []
   },
   "source": [
    "According to the settings specified below, this notebook:\n",
    " 1. reads all the data from one source (GTEx, recount2, etc) according to the gene selection method (`GENE_SELECTION_STRATEGY`),\n",
    " 2. runs a quick performance test using the correlation coefficient specified (`CORRELATION_METHOD`), and\n",
    " 3. computes the correlation matrix across all the genes using the correlation coefficient specified."
   ]
  },
  {
   "cell_type": "markdown",
   "id": "1d8fae6b-e623-46a6-aff6-d7849163c820",
   "metadata": {
    "papermill": {
     "duration": 0.010575,
     "end_time": "2021-09-09T15:54:29.699463",
     "exception": false,
     "start_time": "2021-09-09T15:54:29.688888",
     "status": "completed"
    },
    "tags": []
   },
   "source": [
    "# Modules"
   ]
  },
  {
   "cell_type": "code",
   "execution_count": 1,
   "id": "76729f0e-f742-495b-b676-d9d7b1539e10",
   "metadata": {
    "execution": {
     "iopub.execute_input": "2021-09-09T15:54:29.728775Z",
     "iopub.status.busy": "2021-09-09T15:54:29.728296Z",
     "iopub.status.idle": "2021-09-09T15:54:30.191989Z",
     "shell.execute_reply": "2021-09-09T15:54:30.191430Z"
    },
    "papermill": {
     "duration": 0.481008,
     "end_time": "2021-09-09T15:54:30.192096",
     "exception": false,
     "start_time": "2021-09-09T15:54:29.711088",
     "status": "completed"
    },
    "tags": []
   },
   "outputs": [],
   "source": [
    "import pandas as pd\n",
    "from tqdm import tqdm\n",
    "\n",
    "from clustermatch import conf\n",
    "from clustermatch.corr import pearson"
   ]
  },
  {
   "cell_type": "markdown",
   "id": "a6c3a546-9a49-45e7-9f17-fbdb5af4bfb6",
   "metadata": {
    "papermill": {
     "duration": 0.011218,
     "end_time": "2021-09-09T15:54:30.214561",
     "exception": false,
     "start_time": "2021-09-09T15:54:30.203343",
     "status": "completed"
    },
    "tags": []
   },
   "source": [
    "# Settings"
   ]
  },
  {
   "cell_type": "code",
   "execution_count": 2,
   "id": "56ff94d3-a230-4028-a71d-518ac109209b",
   "metadata": {
    "execution": {
     "iopub.execute_input": "2021-09-09T15:54:30.239461Z",
     "iopub.status.busy": "2021-09-09T15:54:30.239021Z",
     "iopub.status.idle": "2021-09-09T15:54:30.240684Z",
     "shell.execute_reply": "2021-09-09T15:54:30.241020Z"
    },
    "papermill": {
     "duration": 0.015683,
     "end_time": "2021-09-09T15:54:30.241137",
     "exception": false,
     "start_time": "2021-09-09T15:54:30.225454",
     "status": "completed"
    },
    "tags": []
   },
   "outputs": [],
   "source": [
    "# we don't have gene subsets for recount2\n",
    "# GENE_SELECTION_STRATEGY = \"var_raw\""
   ]
  },
  {
   "cell_type": "code",
   "execution_count": 3,
   "id": "8baf4209-ba56-4e3d-b60f-6ce2bb686159",
   "metadata": {
    "execution": {
     "iopub.execute_input": "2021-09-09T15:54:30.271424Z",
     "iopub.status.busy": "2021-09-09T15:54:30.270573Z",
     "iopub.status.idle": "2021-09-09T15:54:30.273977Z",
     "shell.execute_reply": "2021-09-09T15:54:30.274340Z"
    },
    "papermill": {
     "duration": 0.021704,
     "end_time": "2021-09-09T15:54:30.274456",
     "exception": false,
     "start_time": "2021-09-09T15:54:30.252752",
     "status": "completed"
    },
    "tags": []
   },
   "outputs": [
    {
     "data": {
      "text/plain": [
       "'pearson'"
      ]
     },
     "metadata": {},
     "output_type": "display_data"
    }
   ],
   "source": [
    "CORRELATION_METHOD = pearson\n",
    "\n",
    "method_name = CORRELATION_METHOD.__name__\n",
    "display(method_name)"
   ]
  },
  {
   "cell_type": "code",
   "execution_count": 4,
   "id": "21a3e349-9a09-4d24-89e3-915fdbf08a81",
   "metadata": {
    "execution": {
     "iopub.execute_input": "2021-09-09T15:54:30.301398Z",
     "iopub.status.busy": "2021-09-09T15:54:30.300941Z",
     "iopub.status.idle": "2021-09-09T15:54:30.302499Z",
     "shell.execute_reply": "2021-09-09T15:54:30.302855Z"
    },
    "papermill": {
     "duration": 0.016571,
     "end_time": "2021-09-09T15:54:30.302970",
     "exception": false,
     "start_time": "2021-09-09T15:54:30.286399",
     "status": "completed"
    },
    "tags": []
   },
   "outputs": [],
   "source": [
    "PERFORMANCE_TEST_N_TOP_GENES = 500"
   ]
  },
  {
   "cell_type": "markdown",
   "id": "b0afcba9-5847-414e-b448-f0cd08ecd8ce",
   "metadata": {
    "papermill": {
     "duration": 0.01127,
     "end_time": "2021-09-09T15:54:30.325915",
     "exception": false,
     "start_time": "2021-09-09T15:54:30.314645",
     "status": "completed"
    },
    "tags": []
   },
   "source": [
    "# Paths"
   ]
  },
  {
   "cell_type": "code",
   "execution_count": 5,
   "id": "35760114-8560-4a0e-ad4f-2bee9104c63d",
   "metadata": {
    "execution": {
     "iopub.execute_input": "2021-09-09T15:54:30.352483Z",
     "iopub.status.busy": "2021-09-09T15:54:30.351949Z",
     "iopub.status.idle": "2021-09-09T15:54:30.354730Z",
     "shell.execute_reply": "2021-09-09T15:54:30.354284Z"
    },
    "papermill": {
     "duration": 0.017673,
     "end_time": "2021-09-09T15:54:30.354826",
     "exception": false,
     "start_time": "2021-09-09T15:54:30.337153",
     "status": "completed"
    },
    "tags": []
   },
   "outputs": [
    {
     "data": {
      "text/plain": [
       "PosixPath('/opt/data/data/recount2/recount_data_prep_PLIER.pkl')"
      ]
     },
     "metadata": {},
     "output_type": "display_data"
    }
   ],
   "source": [
    "INPUT_FILE = conf.RECOUNT2[\"DATA_FILE\"]\n",
    "display(INPUT_FILE)\n",
    "\n",
    "assert INPUT_FILE.exists()"
   ]
  },
  {
   "cell_type": "code",
   "execution_count": 6,
   "id": "f1418e81-4e77-4f67-b5ed-b29b797e31a0",
   "metadata": {
    "execution": {
     "iopub.execute_input": "2021-09-09T15:54:30.382421Z",
     "iopub.status.busy": "2021-09-09T15:54:30.381920Z",
     "iopub.status.idle": "2021-09-09T15:54:30.384871Z",
     "shell.execute_reply": "2021-09-09T15:54:30.385221Z"
    },
    "papermill": {
     "duration": 0.018273,
     "end_time": "2021-09-09T15:54:30.385343",
     "exception": false,
     "start_time": "2021-09-09T15:54:30.367070",
     "status": "completed"
    },
    "tags": []
   },
   "outputs": [
    {
     "data": {
      "text/plain": [
       "PosixPath('/opt/data/results/recount2/similarity_matrices')"
      ]
     },
     "metadata": {},
     "output_type": "display_data"
    }
   ],
   "source": [
    "OUTPUT_DIR = conf.RECOUNT2[\"SIMILARITY_MATRICES_DIR\"]\n",
    "OUTPUT_DIR.mkdir(parents=True, exist_ok=True)\n",
    "display(OUTPUT_DIR)"
   ]
  },
  {
   "cell_type": "markdown",
   "id": "5fdf8df6-eba0-4cf5-979c-3acd56a5ef3c",
   "metadata": {
    "papermill": {
     "duration": 0.012702,
     "end_time": "2021-09-09T15:54:30.411048",
     "exception": false,
     "start_time": "2021-09-09T15:54:30.398346",
     "status": "completed"
    },
    "tags": []
   },
   "source": [
    "# Data loading"
   ]
  },
  {
   "cell_type": "code",
   "execution_count": 7,
   "id": "596d25ed-4120-4bef-8984-a91ae6529ab5",
   "metadata": {
    "execution": {
     "iopub.execute_input": "2021-09-09T15:54:30.438879Z",
     "iopub.status.busy": "2021-09-09T15:54:30.438410Z",
     "iopub.status.idle": "2021-09-09T15:54:31.290942Z",
     "shell.execute_reply": "2021-09-09T15:54:31.291323Z"
    },
    "papermill": {
     "duration": 0.868118,
     "end_time": "2021-09-09T15:54:31.291458",
     "exception": false,
     "start_time": "2021-09-09T15:54:30.423340",
     "status": "completed"
    },
    "tags": []
   },
   "outputs": [],
   "source": [
    "data = pd.read_pickle(INPUT_FILE)"
   ]
  },
  {
   "cell_type": "code",
   "execution_count": 8,
   "id": "be8a23da-ea99-43a9-b684-fa645c1d1adc",
   "metadata": {
    "execution": {
     "iopub.execute_input": "2021-09-09T15:54:31.320857Z",
     "iopub.status.busy": "2021-09-09T15:54:31.320204Z",
     "iopub.status.idle": "2021-09-09T15:54:31.323102Z",
     "shell.execute_reply": "2021-09-09T15:54:31.322654Z"
    },
    "papermill": {
     "duration": 0.018482,
     "end_time": "2021-09-09T15:54:31.323197",
     "exception": false,
     "start_time": "2021-09-09T15:54:31.304715",
     "status": "completed"
    },
    "tags": []
   },
   "outputs": [
    {
     "data": {
      "text/plain": [
       "(6750, 37032)"
      ]
     },
     "execution_count": 8,
     "metadata": {},
     "output_type": "execute_result"
    }
   ],
   "source": [
    "data.shape"
   ]
  },
  {
   "cell_type": "code",
   "execution_count": 9,
   "id": "cd693523-4379-400a-a2d2-6b3f617421e6",
   "metadata": {
    "execution": {
     "iopub.execute_input": "2021-09-09T15:54:31.356805Z",
     "iopub.status.busy": "2021-09-09T15:54:31.356327Z",
     "iopub.status.idle": "2021-09-09T15:54:31.374106Z",
     "shell.execute_reply": "2021-09-09T15:54:31.373692Z"
    },
    "papermill": {
     "duration": 0.037947,
     "end_time": "2021-09-09T15:54:31.374209",
     "exception": false,
     "start_time": "2021-09-09T15:54:31.336262",
     "status": "completed"
    },
    "tags": []
   },
   "outputs": [
    {
     "data": {
      "text/html": [
       "<div>\n",
       "<style scoped>\n",
       "    .dataframe tbody tr th:only-of-type {\n",
       "        vertical-align: middle;\n",
       "    }\n",
       "\n",
       "    .dataframe tbody tr th {\n",
       "        vertical-align: top;\n",
       "    }\n",
       "\n",
       "    .dataframe thead th {\n",
       "        text-align: right;\n",
       "    }\n",
       "</style>\n",
       "<table border=\"1\" class=\"dataframe\">\n",
       "  <thead>\n",
       "    <tr style=\"text-align: right;\">\n",
       "      <th></th>\n",
       "      <th>SRP000599.SRR013549</th>\n",
       "      <th>SRP000599.SRR013550</th>\n",
       "      <th>SRP000599.SRR013551</th>\n",
       "      <th>SRP000599.SRR013552</th>\n",
       "      <th>SRP000599.SRR013553</th>\n",
       "      <th>SRP000599.SRR013554</th>\n",
       "      <th>SRP000599.SRR013555</th>\n",
       "      <th>SRP000599.SRR013556</th>\n",
       "      <th>SRP000599.SRR013557</th>\n",
       "      <th>SRP000599.SRR013558</th>\n",
       "      <th>...</th>\n",
       "      <th>SRP035599.SRR1139372</th>\n",
       "      <th>SRP035599.SRR1139393</th>\n",
       "      <th>SRP035599.SRR1139388</th>\n",
       "      <th>SRP035599.SRR1139378</th>\n",
       "      <th>SRP035599.SRR1139399</th>\n",
       "      <th>SRP035599.SRR1139386</th>\n",
       "      <th>SRP035599.SRR1139375</th>\n",
       "      <th>SRP035599.SRR1139382</th>\n",
       "      <th>SRP035599.SRR1139356</th>\n",
       "      <th>SRP035599.SRR1139370</th>\n",
       "    </tr>\n",
       "  </thead>\n",
       "  <tbody>\n",
       "    <tr>\n",
       "      <th>GAS6</th>\n",
       "      <td>-0.312500</td>\n",
       "      <td>-0.312931</td>\n",
       "      <td>-0.312931</td>\n",
       "      <td>-0.312931</td>\n",
       "      <td>-0.312931</td>\n",
       "      <td>-0.308253</td>\n",
       "      <td>-0.312931</td>\n",
       "      <td>-0.312931</td>\n",
       "      <td>-0.312931</td>\n",
       "      <td>-0.312931</td>\n",
       "      <td>...</td>\n",
       "      <td>-0.301711</td>\n",
       "      <td>-0.305581</td>\n",
       "      <td>-0.303344</td>\n",
       "      <td>-0.297800</td>\n",
       "      <td>-0.307122</td>\n",
       "      <td>-0.285499</td>\n",
       "      <td>-0.309599</td>\n",
       "      <td>-0.300220</td>\n",
       "      <td>-0.297667</td>\n",
       "      <td>-0.310151</td>\n",
       "    </tr>\n",
       "    <tr>\n",
       "      <th>MMP14</th>\n",
       "      <td>-0.328279</td>\n",
       "      <td>-0.328279</td>\n",
       "      <td>-0.328279</td>\n",
       "      <td>-0.328279</td>\n",
       "      <td>-0.328279</td>\n",
       "      <td>-0.328279</td>\n",
       "      <td>-0.328279</td>\n",
       "      <td>-0.328279</td>\n",
       "      <td>-0.328279</td>\n",
       "      <td>-0.325140</td>\n",
       "      <td>...</td>\n",
       "      <td>-0.314587</td>\n",
       "      <td>-0.322952</td>\n",
       "      <td>-0.326439</td>\n",
       "      <td>-0.325994</td>\n",
       "      <td>-0.326272</td>\n",
       "      <td>-0.322523</td>\n",
       "      <td>-0.326375</td>\n",
       "      <td>-0.326339</td>\n",
       "      <td>-0.322127</td>\n",
       "      <td>-0.327438</td>\n",
       "    </tr>\n",
       "    <tr>\n",
       "      <th>DSP</th>\n",
       "      <td>-0.286319</td>\n",
       "      <td>-0.286859</td>\n",
       "      <td>-0.286859</td>\n",
       "      <td>-0.286859</td>\n",
       "      <td>-0.286859</td>\n",
       "      <td>-0.286859</td>\n",
       "      <td>-0.277195</td>\n",
       "      <td>-0.256862</td>\n",
       "      <td>-0.278790</td>\n",
       "      <td>-0.269701</td>\n",
       "      <td>...</td>\n",
       "      <td>-0.286859</td>\n",
       "      <td>-0.286859</td>\n",
       "      <td>-0.286745</td>\n",
       "      <td>-0.286688</td>\n",
       "      <td>-0.286725</td>\n",
       "      <td>-0.286529</td>\n",
       "      <td>-0.286859</td>\n",
       "      <td>-0.286671</td>\n",
       "      <td>-0.286859</td>\n",
       "      <td>-0.286740</td>\n",
       "    </tr>\n",
       "    <tr>\n",
       "      <th>MARCKSL1</th>\n",
       "      <td>-0.536646</td>\n",
       "      <td>-0.536646</td>\n",
       "      <td>-0.536646</td>\n",
       "      <td>-0.536646</td>\n",
       "      <td>-0.536646</td>\n",
       "      <td>-0.536646</td>\n",
       "      <td>-0.536646</td>\n",
       "      <td>-0.536646</td>\n",
       "      <td>-0.536646</td>\n",
       "      <td>-0.536646</td>\n",
       "      <td>...</td>\n",
       "      <td>0.807663</td>\n",
       "      <td>1.294564</td>\n",
       "      <td>1.527655</td>\n",
       "      <td>1.404788</td>\n",
       "      <td>1.047931</td>\n",
       "      <td>0.892119</td>\n",
       "      <td>1.507099</td>\n",
       "      <td>2.458255</td>\n",
       "      <td>2.919662</td>\n",
       "      <td>1.410846</td>\n",
       "    </tr>\n",
       "    <tr>\n",
       "      <th>SPARC</th>\n",
       "      <td>-0.370498</td>\n",
       "      <td>-0.370498</td>\n",
       "      <td>-0.369171</td>\n",
       "      <td>-0.370498</td>\n",
       "      <td>-0.370498</td>\n",
       "      <td>-0.370498</td>\n",
       "      <td>-0.370498</td>\n",
       "      <td>-0.370498</td>\n",
       "      <td>-0.370498</td>\n",
       "      <td>-0.370498</td>\n",
       "      <td>...</td>\n",
       "      <td>-0.345409</td>\n",
       "      <td>-0.310750</td>\n",
       "      <td>-0.348120</td>\n",
       "      <td>-0.356938</td>\n",
       "      <td>-0.355206</td>\n",
       "      <td>-0.366197</td>\n",
       "      <td>-0.351174</td>\n",
       "      <td>-0.363703</td>\n",
       "      <td>-0.350825</td>\n",
       "      <td>-0.360762</td>\n",
       "    </tr>\n",
       "  </tbody>\n",
       "</table>\n",
       "<p>5 rows × 37032 columns</p>\n",
       "</div>"
      ],
      "text/plain": [
       "          SRP000599.SRR013549  SRP000599.SRR013550  SRP000599.SRR013551  \\\n",
       "GAS6                -0.312500            -0.312931            -0.312931   \n",
       "MMP14               -0.328279            -0.328279            -0.328279   \n",
       "DSP                 -0.286319            -0.286859            -0.286859   \n",
       "MARCKSL1            -0.536646            -0.536646            -0.536646   \n",
       "SPARC               -0.370498            -0.370498            -0.369171   \n",
       "\n",
       "          SRP000599.SRR013552  SRP000599.SRR013553  SRP000599.SRR013554  \\\n",
       "GAS6                -0.312931            -0.312931            -0.308253   \n",
       "MMP14               -0.328279            -0.328279            -0.328279   \n",
       "DSP                 -0.286859            -0.286859            -0.286859   \n",
       "MARCKSL1            -0.536646            -0.536646            -0.536646   \n",
       "SPARC               -0.370498            -0.370498            -0.370498   \n",
       "\n",
       "          SRP000599.SRR013555  SRP000599.SRR013556  SRP000599.SRR013557  \\\n",
       "GAS6                -0.312931            -0.312931            -0.312931   \n",
       "MMP14               -0.328279            -0.328279            -0.328279   \n",
       "DSP                 -0.277195            -0.256862            -0.278790   \n",
       "MARCKSL1            -0.536646            -0.536646            -0.536646   \n",
       "SPARC               -0.370498            -0.370498            -0.370498   \n",
       "\n",
       "          SRP000599.SRR013558  ...  SRP035599.SRR1139372  \\\n",
       "GAS6                -0.312931  ...             -0.301711   \n",
       "MMP14               -0.325140  ...             -0.314587   \n",
       "DSP                 -0.269701  ...             -0.286859   \n",
       "MARCKSL1            -0.536646  ...              0.807663   \n",
       "SPARC               -0.370498  ...             -0.345409   \n",
       "\n",
       "          SRP035599.SRR1139393  SRP035599.SRR1139388  SRP035599.SRR1139378  \\\n",
       "GAS6                 -0.305581             -0.303344             -0.297800   \n",
       "MMP14                -0.322952             -0.326439             -0.325994   \n",
       "DSP                  -0.286859             -0.286745             -0.286688   \n",
       "MARCKSL1              1.294564              1.527655              1.404788   \n",
       "SPARC                -0.310750             -0.348120             -0.356938   \n",
       "\n",
       "          SRP035599.SRR1139399  SRP035599.SRR1139386  SRP035599.SRR1139375  \\\n",
       "GAS6                 -0.307122             -0.285499             -0.309599   \n",
       "MMP14                -0.326272             -0.322523             -0.326375   \n",
       "DSP                  -0.286725             -0.286529             -0.286859   \n",
       "MARCKSL1              1.047931              0.892119              1.507099   \n",
       "SPARC                -0.355206             -0.366197             -0.351174   \n",
       "\n",
       "          SRP035599.SRR1139382  SRP035599.SRR1139356  SRP035599.SRR1139370  \n",
       "GAS6                 -0.300220             -0.297667             -0.310151  \n",
       "MMP14                -0.326339             -0.322127             -0.327438  \n",
       "DSP                  -0.286671             -0.286859             -0.286740  \n",
       "MARCKSL1              2.458255              2.919662              1.410846  \n",
       "SPARC                -0.363703             -0.350825             -0.360762  \n",
       "\n",
       "[5 rows x 37032 columns]"
      ]
     },
     "execution_count": 9,
     "metadata": {},
     "output_type": "execute_result"
    }
   ],
   "source": [
    "data.head()"
   ]
  },
  {
   "cell_type": "markdown",
   "id": "081da632-fd12-462a-9ae1-c0ceccf1bb5d",
   "metadata": {
    "papermill": {
     "duration": 0.01296,
     "end_time": "2021-09-09T15:54:31.400672",
     "exception": false,
     "start_time": "2021-09-09T15:54:31.387712",
     "status": "completed"
    },
    "tags": []
   },
   "source": [
    "# Compute similarity"
   ]
  },
  {
   "cell_type": "markdown",
   "id": "37137fff-2d3a-43d8-9bd5-d7c3284a97f5",
   "metadata": {
    "papermill": {
     "duration": 0.013012,
     "end_time": "2021-09-09T15:54:31.426534",
     "exception": false,
     "start_time": "2021-09-09T15:54:31.413522",
     "status": "completed"
    },
    "tags": []
   },
   "source": [
    "## Performance test"
   ]
  },
  {
   "cell_type": "code",
   "execution_count": 10,
   "id": "5dd40707-759f-4bf9-b8cc-84811b2dfe53",
   "metadata": {
    "execution": {
     "iopub.execute_input": "2021-09-09T15:54:31.576930Z",
     "iopub.status.busy": "2021-09-09T15:54:31.576256Z",
     "iopub.status.idle": "2021-09-09T15:54:31.579176Z",
     "shell.execute_reply": "2021-09-09T15:54:31.578660Z"
    },
    "papermill": {
     "duration": 0.139927,
     "end_time": "2021-09-09T15:54:31.579314",
     "exception": false,
     "start_time": "2021-09-09T15:54:31.439387",
     "status": "completed"
    },
    "tags": []
   },
   "outputs": [],
   "source": [
    "# select a subset of the genes\n",
    "test_data = data.sample(n=PERFORMANCE_TEST_N_TOP_GENES, random_state=0)"
   ]
  },
  {
   "cell_type": "code",
   "execution_count": 11,
   "id": "e8acd036-93f7-46c0-a1ee-8da0c2c24790",
   "metadata": {
    "execution": {
     "iopub.execute_input": "2021-09-09T15:54:31.618472Z",
     "iopub.status.busy": "2021-09-09T15:54:31.617905Z",
     "iopub.status.idle": "2021-09-09T15:54:31.620219Z",
     "shell.execute_reply": "2021-09-09T15:54:31.620646Z"
    },
    "papermill": {
     "duration": 0.023609,
     "end_time": "2021-09-09T15:54:31.620788",
     "exception": false,
     "start_time": "2021-09-09T15:54:31.597179",
     "status": "completed"
    },
    "tags": []
   },
   "outputs": [
    {
     "data": {
      "text/plain": [
       "(500, 37032)"
      ]
     },
     "execution_count": 11,
     "metadata": {},
     "output_type": "execute_result"
    }
   ],
   "source": [
    "test_data.shape"
   ]
  },
  {
   "cell_type": "code",
   "execution_count": 12,
   "id": "111e360b-dbe4-4b69-9029-7b7669eb5ddc",
   "metadata": {
    "execution": {
     "iopub.execute_input": "2021-09-09T15:54:31.656369Z",
     "iopub.status.busy": "2021-09-09T15:54:31.655896Z",
     "iopub.status.idle": "2021-09-09T15:54:31.671641Z",
     "shell.execute_reply": "2021-09-09T15:54:31.671201Z"
    },
    "papermill": {
     "duration": 0.034168,
     "end_time": "2021-09-09T15:54:31.671749",
     "exception": false,
     "start_time": "2021-09-09T15:54:31.637581",
     "status": "completed"
    },
    "tags": []
   },
   "outputs": [
    {
     "data": {
      "text/html": [
       "<div>\n",
       "<style scoped>\n",
       "    .dataframe tbody tr th:only-of-type {\n",
       "        vertical-align: middle;\n",
       "    }\n",
       "\n",
       "    .dataframe tbody tr th {\n",
       "        vertical-align: top;\n",
       "    }\n",
       "\n",
       "    .dataframe thead th {\n",
       "        text-align: right;\n",
       "    }\n",
       "</style>\n",
       "<table border=\"1\" class=\"dataframe\">\n",
       "  <thead>\n",
       "    <tr style=\"text-align: right;\">\n",
       "      <th></th>\n",
       "      <th>SRP000599.SRR013549</th>\n",
       "      <th>SRP000599.SRR013550</th>\n",
       "      <th>SRP000599.SRR013551</th>\n",
       "      <th>SRP000599.SRR013552</th>\n",
       "      <th>SRP000599.SRR013553</th>\n",
       "      <th>SRP000599.SRR013554</th>\n",
       "      <th>SRP000599.SRR013555</th>\n",
       "      <th>SRP000599.SRR013556</th>\n",
       "      <th>SRP000599.SRR013557</th>\n",
       "      <th>SRP000599.SRR013558</th>\n",
       "      <th>...</th>\n",
       "      <th>SRP035599.SRR1139372</th>\n",
       "      <th>SRP035599.SRR1139393</th>\n",
       "      <th>SRP035599.SRR1139388</th>\n",
       "      <th>SRP035599.SRR1139378</th>\n",
       "      <th>SRP035599.SRR1139399</th>\n",
       "      <th>SRP035599.SRR1139386</th>\n",
       "      <th>SRP035599.SRR1139375</th>\n",
       "      <th>SRP035599.SRR1139382</th>\n",
       "      <th>SRP035599.SRR1139356</th>\n",
       "      <th>SRP035599.SRR1139370</th>\n",
       "    </tr>\n",
       "  </thead>\n",
       "  <tbody>\n",
       "    <tr>\n",
       "      <th>S1PR5</th>\n",
       "      <td>-0.266852</td>\n",
       "      <td>-0.266852</td>\n",
       "      <td>-0.266852</td>\n",
       "      <td>-0.266852</td>\n",
       "      <td>-0.266852</td>\n",
       "      <td>-0.266852</td>\n",
       "      <td>-0.266852</td>\n",
       "      <td>-0.266852</td>\n",
       "      <td>-0.266852</td>\n",
       "      <td>-0.266852</td>\n",
       "      <td>...</td>\n",
       "      <td>-0.266852</td>\n",
       "      <td>-0.266852</td>\n",
       "      <td>-0.261464</td>\n",
       "      <td>-0.262521</td>\n",
       "      <td>-0.263571</td>\n",
       "      <td>-0.232207</td>\n",
       "      <td>-0.263313</td>\n",
       "      <td>-0.263926</td>\n",
       "      <td>-0.266852</td>\n",
       "      <td>-0.266852</td>\n",
       "    </tr>\n",
       "    <tr>\n",
       "      <th>NDUFA12</th>\n",
       "      <td>-0.389020</td>\n",
       "      <td>-0.389020</td>\n",
       "      <td>-0.389020</td>\n",
       "      <td>-0.389020</td>\n",
       "      <td>-0.389020</td>\n",
       "      <td>-0.389020</td>\n",
       "      <td>-0.389020</td>\n",
       "      <td>-0.389020</td>\n",
       "      <td>-0.389020</td>\n",
       "      <td>-0.389020</td>\n",
       "      <td>...</td>\n",
       "      <td>0.264052</td>\n",
       "      <td>0.141801</td>\n",
       "      <td>-0.101283</td>\n",
       "      <td>0.016574</td>\n",
       "      <td>0.054545</td>\n",
       "      <td>0.109291</td>\n",
       "      <td>-0.080455</td>\n",
       "      <td>-0.039797</td>\n",
       "      <td>-0.171493</td>\n",
       "      <td>-0.039619</td>\n",
       "    </tr>\n",
       "    <tr>\n",
       "      <th>EXOSC10</th>\n",
       "      <td>-0.775256</td>\n",
       "      <td>-0.781191</td>\n",
       "      <td>-0.781191</td>\n",
       "      <td>-0.781191</td>\n",
       "      <td>-0.781191</td>\n",
       "      <td>-0.781191</td>\n",
       "      <td>-0.781191</td>\n",
       "      <td>-0.781191</td>\n",
       "      <td>-0.781191</td>\n",
       "      <td>-0.781191</td>\n",
       "      <td>...</td>\n",
       "      <td>-0.151619</td>\n",
       "      <td>-0.190753</td>\n",
       "      <td>-0.263083</td>\n",
       "      <td>0.006409</td>\n",
       "      <td>-0.090697</td>\n",
       "      <td>-0.196750</td>\n",
       "      <td>-0.039938</td>\n",
       "      <td>0.155149</td>\n",
       "      <td>0.076707</td>\n",
       "      <td>0.201055</td>\n",
       "    </tr>\n",
       "    <tr>\n",
       "      <th>ALOX15B</th>\n",
       "      <td>-0.104175</td>\n",
       "      <td>-0.104175</td>\n",
       "      <td>-0.104175</td>\n",
       "      <td>-0.104175</td>\n",
       "      <td>-0.104175</td>\n",
       "      <td>-0.104175</td>\n",
       "      <td>-0.104175</td>\n",
       "      <td>-0.104175</td>\n",
       "      <td>-0.104175</td>\n",
       "      <td>-0.104175</td>\n",
       "      <td>...</td>\n",
       "      <td>-0.102583</td>\n",
       "      <td>-0.104175</td>\n",
       "      <td>-0.104175</td>\n",
       "      <td>-0.090938</td>\n",
       "      <td>-0.104175</td>\n",
       "      <td>-0.091455</td>\n",
       "      <td>-0.097841</td>\n",
       "      <td>-0.097053</td>\n",
       "      <td>-0.098525</td>\n",
       "      <td>-0.102490</td>\n",
       "    </tr>\n",
       "    <tr>\n",
       "      <th>CACNB1</th>\n",
       "      <td>-0.412386</td>\n",
       "      <td>-0.412386</td>\n",
       "      <td>-0.412386</td>\n",
       "      <td>-0.412386</td>\n",
       "      <td>-0.412386</td>\n",
       "      <td>-0.412386</td>\n",
       "      <td>-0.412386</td>\n",
       "      <td>-0.412386</td>\n",
       "      <td>-0.412386</td>\n",
       "      <td>-0.412386</td>\n",
       "      <td>...</td>\n",
       "      <td>-0.002829</td>\n",
       "      <td>-0.176210</td>\n",
       "      <td>-0.124728</td>\n",
       "      <td>-0.034000</td>\n",
       "      <td>-0.170579</td>\n",
       "      <td>-0.134903</td>\n",
       "      <td>-0.050322</td>\n",
       "      <td>-0.160912</td>\n",
       "      <td>-0.034017</td>\n",
       "      <td>-0.001866</td>\n",
       "    </tr>\n",
       "  </tbody>\n",
       "</table>\n",
       "<p>5 rows × 37032 columns</p>\n",
       "</div>"
      ],
      "text/plain": [
       "         SRP000599.SRR013549  SRP000599.SRR013550  SRP000599.SRR013551  \\\n",
       "S1PR5              -0.266852            -0.266852            -0.266852   \n",
       "NDUFA12            -0.389020            -0.389020            -0.389020   \n",
       "EXOSC10            -0.775256            -0.781191            -0.781191   \n",
       "ALOX15B            -0.104175            -0.104175            -0.104175   \n",
       "CACNB1             -0.412386            -0.412386            -0.412386   \n",
       "\n",
       "         SRP000599.SRR013552  SRP000599.SRR013553  SRP000599.SRR013554  \\\n",
       "S1PR5              -0.266852            -0.266852            -0.266852   \n",
       "NDUFA12            -0.389020            -0.389020            -0.389020   \n",
       "EXOSC10            -0.781191            -0.781191            -0.781191   \n",
       "ALOX15B            -0.104175            -0.104175            -0.104175   \n",
       "CACNB1             -0.412386            -0.412386            -0.412386   \n",
       "\n",
       "         SRP000599.SRR013555  SRP000599.SRR013556  SRP000599.SRR013557  \\\n",
       "S1PR5              -0.266852            -0.266852            -0.266852   \n",
       "NDUFA12            -0.389020            -0.389020            -0.389020   \n",
       "EXOSC10            -0.781191            -0.781191            -0.781191   \n",
       "ALOX15B            -0.104175            -0.104175            -0.104175   \n",
       "CACNB1             -0.412386            -0.412386            -0.412386   \n",
       "\n",
       "         SRP000599.SRR013558  ...  SRP035599.SRR1139372  SRP035599.SRR1139393  \\\n",
       "S1PR5              -0.266852  ...             -0.266852             -0.266852   \n",
       "NDUFA12            -0.389020  ...              0.264052              0.141801   \n",
       "EXOSC10            -0.781191  ...             -0.151619             -0.190753   \n",
       "ALOX15B            -0.104175  ...             -0.102583             -0.104175   \n",
       "CACNB1             -0.412386  ...             -0.002829             -0.176210   \n",
       "\n",
       "         SRP035599.SRR1139388  SRP035599.SRR1139378  SRP035599.SRR1139399  \\\n",
       "S1PR5               -0.261464             -0.262521             -0.263571   \n",
       "NDUFA12             -0.101283              0.016574              0.054545   \n",
       "EXOSC10             -0.263083              0.006409             -0.090697   \n",
       "ALOX15B             -0.104175             -0.090938             -0.104175   \n",
       "CACNB1              -0.124728             -0.034000             -0.170579   \n",
       "\n",
       "         SRP035599.SRR1139386  SRP035599.SRR1139375  SRP035599.SRR1139382  \\\n",
       "S1PR5               -0.232207             -0.263313             -0.263926   \n",
       "NDUFA12              0.109291             -0.080455             -0.039797   \n",
       "EXOSC10             -0.196750             -0.039938              0.155149   \n",
       "ALOX15B             -0.091455             -0.097841             -0.097053   \n",
       "CACNB1              -0.134903             -0.050322             -0.160912   \n",
       "\n",
       "         SRP035599.SRR1139356  SRP035599.SRR1139370  \n",
       "S1PR5               -0.266852             -0.266852  \n",
       "NDUFA12             -0.171493             -0.039619  \n",
       "EXOSC10              0.076707              0.201055  \n",
       "ALOX15B             -0.098525             -0.102490  \n",
       "CACNB1              -0.034017             -0.001866  \n",
       "\n",
       "[5 rows x 37032 columns]"
      ]
     },
     "execution_count": 12,
     "metadata": {},
     "output_type": "execute_result"
    }
   ],
   "source": [
    "test_data.head()"
   ]
  },
  {
   "cell_type": "markdown",
   "id": "5903f3f5-791e-4f03-9d79-600102933d04",
   "metadata": {
    "papermill": {
     "duration": 0.013736,
     "end_time": "2021-09-09T15:54:31.699990",
     "exception": false,
     "start_time": "2021-09-09T15:54:31.686254",
     "status": "completed"
    },
    "tags": []
   },
   "source": [
    "This is a quick performance test of the correlation measure. The following line (`_tmp = ...`) is the setup code, which is needed in case the correlation method was optimized using `numba` and needs to be compiled before performing the test."
   ]
  },
  {
   "cell_type": "code",
   "execution_count": 13,
   "id": "118a6631-1cfd-44a3-bd85-5ec7118edd03",
   "metadata": {
    "execution": {
     "iopub.execute_input": "2021-09-09T15:54:31.730705Z",
     "iopub.status.busy": "2021-09-09T15:54:31.730259Z",
     "iopub.status.idle": "2021-09-09T15:54:31.740234Z",
     "shell.execute_reply": "2021-09-09T15:54:31.739766Z"
    },
    "papermill": {
     "duration": 0.026683,
     "end_time": "2021-09-09T15:54:31.740334",
     "exception": false,
     "start_time": "2021-09-09T15:54:31.713651",
     "status": "completed"
    },
    "tags": []
   },
   "outputs": [
    {
     "data": {
      "text/plain": [
       "(3, 3)"
      ]
     },
     "metadata": {},
     "output_type": "display_data"
    },
    {
     "data": {
      "text/html": [
       "<div>\n",
       "<style scoped>\n",
       "    .dataframe tbody tr th:only-of-type {\n",
       "        vertical-align: middle;\n",
       "    }\n",
       "\n",
       "    .dataframe tbody tr th {\n",
       "        vertical-align: top;\n",
       "    }\n",
       "\n",
       "    .dataframe thead th {\n",
       "        text-align: right;\n",
       "    }\n",
       "</style>\n",
       "<table border=\"1\" class=\"dataframe\">\n",
       "  <thead>\n",
       "    <tr style=\"text-align: right;\">\n",
       "      <th></th>\n",
       "      <th>S1PR5</th>\n",
       "      <th>NDUFA12</th>\n",
       "      <th>EXOSC10</th>\n",
       "    </tr>\n",
       "  </thead>\n",
       "  <tbody>\n",
       "    <tr>\n",
       "      <th>S1PR5</th>\n",
       "      <td>1.000000</td>\n",
       "      <td>-0.029604</td>\n",
       "      <td>-0.001391</td>\n",
       "    </tr>\n",
       "    <tr>\n",
       "      <th>NDUFA12</th>\n",
       "      <td>-0.029604</td>\n",
       "      <td>1.000000</td>\n",
       "      <td>0.061790</td>\n",
       "    </tr>\n",
       "    <tr>\n",
       "      <th>EXOSC10</th>\n",
       "      <td>-0.001391</td>\n",
       "      <td>0.061790</td>\n",
       "      <td>1.000000</td>\n",
       "    </tr>\n",
       "  </tbody>\n",
       "</table>\n",
       "</div>"
      ],
      "text/plain": [
       "            S1PR5   NDUFA12   EXOSC10\n",
       "S1PR5    1.000000 -0.029604 -0.001391\n",
       "NDUFA12 -0.029604  1.000000  0.061790\n",
       "EXOSC10 -0.001391  0.061790  1.000000"
      ]
     },
     "metadata": {},
     "output_type": "display_data"
    }
   ],
   "source": [
    "_tmp = CORRELATION_METHOD(test_data.iloc[:3])\n",
    "\n",
    "display(_tmp.shape)\n",
    "display(_tmp)"
   ]
  },
  {
   "cell_type": "code",
   "execution_count": 14,
   "id": "d32281d8-f640-4f87-a1d5-aefa0757e9c3",
   "metadata": {
    "execution": {
     "iopub.execute_input": "2021-09-09T15:54:31.774289Z",
     "iopub.status.busy": "2021-09-09T15:54:31.773825Z",
     "iopub.status.idle": "2021-09-09T15:55:01.467155Z",
     "shell.execute_reply": "2021-09-09T15:55:01.466642Z"
    },
    "papermill": {
     "duration": 29.712107,
     "end_time": "2021-09-09T15:55:01.467259",
     "exception": false,
     "start_time": "2021-09-09T15:54:31.755152",
     "status": "completed"
    },
    "tags": []
   },
   "outputs": [
    {
     "name": "stdout",
     "output_type": "stream",
     "text": [
      "3.71 s ± 7.37 ms per loop (mean ± std. dev. of 7 runs, 1 loop each)\n"
     ]
    }
   ],
   "source": [
    "%timeit CORRELATION_METHOD(test_data)"
   ]
  },
  {
   "cell_type": "markdown",
   "id": "fc2f7184-c0da-438c-94f5-002912793636",
   "metadata": {
    "papermill": {
     "duration": 0.014746,
     "end_time": "2021-09-09T15:55:01.497883",
     "exception": false,
     "start_time": "2021-09-09T15:55:01.483137",
     "status": "completed"
    },
    "tags": []
   },
   "source": [
    "## Run"
   ]
  },
  {
   "cell_type": "code",
   "execution_count": 15,
   "id": "189b0295-f968-42b2-9377-a6c404182b01",
   "metadata": {
    "execution": {
     "iopub.execute_input": "2021-09-09T15:55:01.530619Z",
     "iopub.status.busy": "2021-09-09T15:55:01.530152Z",
     "iopub.status.idle": "2021-09-09T16:06:23.999832Z",
     "shell.execute_reply": "2021-09-09T16:06:23.999233Z"
    },
    "papermill": {
     "duration": 682.487337,
     "end_time": "2021-09-09T16:06:23.999970",
     "exception": false,
     "start_time": "2021-09-09T15:55:01.512633",
     "status": "completed"
    },
    "tags": []
   },
   "outputs": [],
   "source": [
    "# compute correlations\n",
    "data_corrs = CORRELATION_METHOD(data)"
   ]
  },
  {
   "cell_type": "code",
   "execution_count": 16,
   "id": "31e811b1-4329-494b-9905-ee002b34f4b4",
   "metadata": {
    "execution": {
     "iopub.execute_input": "2021-09-09T16:06:24.945387Z",
     "iopub.status.busy": "2021-09-09T16:06:24.943460Z",
     "iopub.status.idle": "2021-09-09T16:06:24.950871Z",
     "shell.execute_reply": "2021-09-09T16:06:24.952364Z"
    },
    "papermill": {
     "duration": 0.932341,
     "end_time": "2021-09-09T16:06:24.952828",
     "exception": false,
     "start_time": "2021-09-09T16:06:24.020487",
     "status": "completed"
    },
    "tags": []
   },
   "outputs": [
    {
     "data": {
      "text/plain": [
       "PosixPath('/opt/data/results/recount2/similarity_matrices/recount_data_prep_PLIER-pearson.pkl')"
      ]
     },
     "metadata": {},
     "output_type": "display_data"
    }
   ],
   "source": [
    "output_filename = OUTPUT_DIR / f\"{INPUT_FILE.stem}-{method_name}.pkl\"\n",
    "display(output_filename)"
   ]
  },
  {
   "cell_type": "code",
   "execution_count": 17,
   "id": "b3c49a1a-bdf4-4cf9-824d-0d5c0acf2b73",
   "metadata": {
    "execution": {
     "iopub.execute_input": "2021-09-09T16:06:25.015956Z",
     "iopub.status.busy": "2021-09-09T16:06:25.014720Z",
     "iopub.status.idle": "2021-09-09T16:06:25.209917Z",
     "shell.execute_reply": "2021-09-09T16:06:25.209404Z"
    },
    "papermill": {
     "duration": 0.214429,
     "end_time": "2021-09-09T16:06:25.210024",
     "exception": false,
     "start_time": "2021-09-09T16:06:24.995595",
     "status": "completed"
    },
    "tags": []
   },
   "outputs": [],
   "source": [
    "# save\n",
    "data_corrs.to_pickle(output_filename)"
   ]
  },
  {
   "cell_type": "code",
   "execution_count": null,
   "id": "258babdf-03ce-4450-ab22-7a3d75bf6869",
   "metadata": {
    "papermill": {
     "duration": 0.016034,
     "end_time": "2021-09-09T16:06:25.243034",
     "exception": false,
     "start_time": "2021-09-09T16:06:25.227000",
     "status": "completed"
    },
    "tags": []
   },
   "outputs": [],
   "source": []
  }
 ],
 "metadata": {
  "jupytext": {
   "cell_metadata_filter": "all,-execution,-papermill,-trusted"
  },
  "kernelspec": {
   "display_name": "Python 3 (ipykernel)",
   "language": "python",
   "name": "python3"
  },
  "language_info": {
   "codemirror_mode": {
    "name": "ipython",
    "version": 3
   },
   "file_extension": ".py",
   "mimetype": "text/x-python",
   "name": "python",
   "nbconvert_exporter": "python",
   "pygments_lexer": "ipython3",
   "version": "3.9.7"
  },
  "papermill": {
   "default_parameters": {},
   "duration": 717.016045,
   "end_time": "2021-09-09T16:06:25.566395",
   "environment_variables": {},
   "exception": null,
   "input_path": "nbs/10_compute_correlations/10_recount2/05-recount2-pearson.ipynb",
   "output_path": "nbs/10_compute_correlations/10_recount2/05-recount2-pearson.run.ipynb",
   "parameters": {},
   "start_time": "2021-09-09T15:54:28.550350",
   "version": "2.3.3"
  },
  "toc-autonumbering": true
 },
 "nbformat": 4,
 "nbformat_minor": 5
}
