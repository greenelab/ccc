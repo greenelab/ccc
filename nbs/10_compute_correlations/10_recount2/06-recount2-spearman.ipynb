{
 "cells": [
  {
   "cell_type": "markdown",
   "id": "e9773a95-e8fd-4963-87a5-0c92299434d5",
   "metadata": {
    "papermill": {
     "duration": 0.047205,
     "end_time": "2021-09-12T23:34:11.701398",
     "exception": false,
     "start_time": "2021-09-12T23:34:11.654193",
     "status": "completed"
    },
    "tags": []
   },
   "source": [
    "# Description"
   ]
  },
  {
   "cell_type": "markdown",
   "id": "57f34c74-404d-4776-b547-e6acb2df75d7",
   "metadata": {
    "papermill": {
     "duration": 0.012609,
     "end_time": "2021-09-12T23:34:11.729980",
     "exception": false,
     "start_time": "2021-09-12T23:34:11.717371",
     "status": "completed"
    },
    "tags": []
   },
   "source": [
    "According to the settings specified below, this notebook:\n",
    " 1. reads all the data from one source (GTEx, recount2, etc) according to the gene selection method (`GENE_SELECTION_STRATEGY`),\n",
    " 2. runs a quick performance test using the correlation coefficient specified (`CORRELATION_METHOD`), and\n",
    " 3. computes the correlation matrix across all the genes using the correlation coefficient specified."
   ]
  },
  {
   "cell_type": "markdown",
   "id": "1d8fae6b-e623-46a6-aff6-d7849163c820",
   "metadata": {
    "papermill": {
     "duration": 0.012584,
     "end_time": "2021-09-12T23:34:11.755247",
     "exception": false,
     "start_time": "2021-09-12T23:34:11.742663",
     "status": "completed"
    },
    "tags": []
   },
   "source": [
    "# Modules"
   ]
  },
  {
   "cell_type": "code",
   "execution_count": null,
   "id": "76729f0e-f742-495b-b676-d9d7b1539e10",
   "metadata": {
    "papermill": {
     "duration": 0.593327,
     "end_time": "2021-09-12T23:34:12.361474",
     "exception": false,
     "start_time": "2021-09-12T23:34:11.768147",
     "status": "completed"
    },
    "tags": []
   },
   "outputs": [],
   "source": [
    "import pandas as pd\n",
    "\n",
    "from clustermatch import conf\n",
    "from clustermatch.corr import spearman"
   ]
  },
  {
   "cell_type": "markdown",
   "id": "a6c3a546-9a49-45e7-9f17-fbdb5af4bfb6",
   "metadata": {
    "papermill": {
     "duration": 0.012824,
     "end_time": "2021-09-12T23:34:12.388966",
     "exception": false,
     "start_time": "2021-09-12T23:34:12.376142",
     "status": "completed"
    },
    "tags": []
   },
   "source": [
    "# Settings"
   ]
  },
  {
   "cell_type": "code",
   "execution_count": null,
   "id": "56ff94d3-a230-4028-a71d-518ac109209b",
   "metadata": {
    "papermill": {
     "duration": 0.017779,
     "end_time": "2021-09-12T23:34:12.419580",
     "exception": false,
     "start_time": "2021-09-12T23:34:12.401801",
     "status": "completed"
    },
    "tags": []
   },
   "outputs": [],
   "source": [
    "GENE_SELECTION_STRATEGY = \"var_pc_log2\""
   ]
  },
  {
   "cell_type": "code",
   "execution_count": null,
   "id": "8baf4209-ba56-4e3d-b60f-6ce2bb686159",
   "metadata": {
    "papermill": {
     "duration": 0.024298,
     "end_time": "2021-09-12T23:34:12.456904",
     "exception": false,
     "start_time": "2021-09-12T23:34:12.432606",
     "status": "completed"
    },
    "tags": []
   },
   "outputs": [],
   "source": [
    "CORRELATION_METHOD = spearman\n",
    "\n",
    "method_name = CORRELATION_METHOD.__name__\n",
    "display(method_name)"
   ]
  },
  {
   "cell_type": "code",
   "execution_count": null,
   "id": "21a3e349-9a09-4d24-89e3-915fdbf08a81",
   "metadata": {
    "papermill": {
     "duration": 0.017938,
     "end_time": "2021-09-12T23:34:12.488363",
     "exception": false,
     "start_time": "2021-09-12T23:34:12.470425",
     "status": "completed"
    },
    "tags": []
   },
   "outputs": [],
   "source": [
    "PERFORMANCE_TEST_N_TOP_GENES = 50"
   ]
  },
  {
   "cell_type": "markdown",
   "id": "b0afcba9-5847-414e-b448-f0cd08ecd8ce",
   "metadata": {
    "papermill": {
     "duration": 0.013061,
     "end_time": "2021-09-12T23:34:12.515248",
     "exception": false,
     "start_time": "2021-09-12T23:34:12.502187",
     "status": "completed"
    },
    "tags": []
   },
   "source": [
    "# Paths"
   ]
  },
  {
   "cell_type": "code",
   "execution_count": null,
   "id": "35760114-8560-4a0e-ad4f-2bee9104c63d",
   "metadata": {
    "papermill": {
     "duration": 0.022112,
     "end_time": "2021-09-12T23:34:12.551364",
     "exception": false,
     "start_time": "2021-09-12T23:34:12.529252",
     "status": "completed"
    },
    "tags": []
   },
   "outputs": [],
   "source": [
    "INPUT_FILE = (\n",
    "    conf.RECOUNT2FULL[\"GENE_SELECTION_DIR\"]\n",
    "    / f\"recount2_rpkm-{GENE_SELECTION_STRATEGY}.pkl\"\n",
    ")\n",
    "display(INPUT_FILE)\n",
    "\n",
    "assert INPUT_FILE.exists()"
   ]
  },
  {
   "cell_type": "code",
   "execution_count": null,
   "id": "f1418e81-4e77-4f67-b5ed-b29b797e31a0",
   "metadata": {
    "papermill": {
     "duration": 0.020398,
     "end_time": "2021-09-12T23:34:12.586701",
     "exception": false,
     "start_time": "2021-09-12T23:34:12.566303",
     "status": "completed"
    },
    "tags": []
   },
   "outputs": [],
   "source": [
    "OUTPUT_DIR = conf.RECOUNT2FULL[\"SIMILARITY_MATRICES_DIR\"]\n",
    "OUTPUT_DIR.mkdir(parents=True, exist_ok=True)\n",
    "display(OUTPUT_DIR)"
   ]
  },
  {
   "cell_type": "markdown",
   "id": "5fdf8df6-eba0-4cf5-979c-3acd56a5ef3c",
   "metadata": {
    "papermill": {
     "duration": 0.013714,
     "end_time": "2021-09-12T23:34:12.614705",
     "exception": false,
     "start_time": "2021-09-12T23:34:12.600991",
     "status": "completed"
    },
    "tags": []
   },
   "source": [
    "# Data loading"
   ]
  },
  {
   "cell_type": "code",
   "execution_count": null,
   "id": "596d25ed-4120-4bef-8984-a91ae6529ab5",
   "metadata": {
    "papermill": {
     "duration": 1.087686,
     "end_time": "2021-09-12T23:34:13.716175",
     "exception": false,
     "start_time": "2021-09-12T23:34:12.628489",
     "status": "completed"
    },
    "tags": []
   },
   "outputs": [],
   "source": [
    "data = pd.read_pickle(INPUT_FILE)"
   ]
  },
  {
   "cell_type": "code",
   "execution_count": null,
   "id": "be8a23da-ea99-43a9-b684-fa645c1d1adc",
   "metadata": {
    "papermill": {
     "duration": 0.021872,
     "end_time": "2021-09-12T23:34:13.754716",
     "exception": false,
     "start_time": "2021-09-12T23:34:13.732844",
     "status": "completed"
    },
    "tags": []
   },
   "outputs": [],
   "source": [
    "data.shape"
   ]
  },
  {
   "cell_type": "code",
   "execution_count": null,
   "id": "cd693523-4379-400a-a2d2-6b3f617421e6",
   "metadata": {
    "papermill": {
     "duration": 0.039091,
     "end_time": "2021-09-12T23:34:13.808373",
     "exception": false,
     "start_time": "2021-09-12T23:34:13.769282",
     "status": "completed"
    },
    "tags": []
   },
   "outputs": [],
   "source": [
    "data.head()"
   ]
  },
  {
   "cell_type": "markdown",
   "id": "081da632-fd12-462a-9ae1-c0ceccf1bb5d",
   "metadata": {
    "papermill": {
     "duration": 0.014192,
     "end_time": "2021-09-12T23:34:13.837419",
     "exception": false,
     "start_time": "2021-09-12T23:34:13.823227",
     "status": "completed"
    },
    "tags": []
   },
   "source": [
    "# Compute similarity"
   ]
  },
  {
   "cell_type": "markdown",
   "id": "37137fff-2d3a-43d8-9bd5-d7c3284a97f5",
   "metadata": {
    "papermill": {
     "duration": 0.013973,
     "end_time": "2021-09-12T23:34:13.865446",
     "exception": false,
     "start_time": "2021-09-12T23:34:13.851473",
     "status": "completed"
    },
    "tags": []
   },
   "source": [
    "## Performance test"
   ]
  },
  {
   "cell_type": "code",
   "execution_count": null,
   "id": "5dd40707-759f-4bf9-b8cc-84811b2dfe53",
   "metadata": {
    "papermill": {
     "duration": 0.166255,
     "end_time": "2021-09-12T23:34:14.045817",
     "exception": false,
     "start_time": "2021-09-12T23:34:13.879562",
     "status": "completed"
    },
    "tags": []
   },
   "outputs": [],
   "source": [
    "# select a subset of the genes\n",
    "test_data = data.sample(n=PERFORMANCE_TEST_N_TOP_GENES, random_state=0)"
   ]
  },
  {
   "cell_type": "code",
   "execution_count": null,
   "id": "e8acd036-93f7-46c0-a1ee-8da0c2c24790",
   "metadata": {
    "papermill": {
     "duration": 0.025494,
     "end_time": "2021-09-12T23:34:14.091901",
     "exception": false,
     "start_time": "2021-09-12T23:34:14.066407",
     "status": "completed"
    },
    "tags": []
   },
   "outputs": [],
   "source": [
    "test_data.shape"
   ]
  },
  {
   "cell_type": "code",
   "execution_count": null,
   "id": "111e360b-dbe4-4b69-9029-7b7669eb5ddc",
   "metadata": {
    "papermill": {
     "duration": 0.035929,
     "end_time": "2021-09-12T23:34:14.145808",
     "exception": false,
     "start_time": "2021-09-12T23:34:14.109879",
     "status": "completed"
    },
    "tags": []
   },
   "outputs": [],
   "source": [
    "test_data.head()"
   ]
  },
  {
   "cell_type": "markdown",
   "id": "5903f3f5-791e-4f03-9d79-600102933d04",
   "metadata": {
    "papermill": {
     "duration": 0.015424,
     "end_time": "2021-09-12T23:34:14.177005",
     "exception": false,
     "start_time": "2021-09-12T23:34:14.161581",
     "status": "completed"
    },
    "tags": []
   },
   "source": [
    "This is a quick performance test of the correlation measure. The following line (`_tmp = ...`) is the setup code, which is needed in case the correlation method was optimized using `numba` and needs to be compiled before performing the test."
   ]
  },
  {
   "cell_type": "code",
   "execution_count": null,
   "id": "118a6631-1cfd-44a3-bd85-5ec7118edd03",
   "metadata": {
    "papermill": {
     "duration": 0.03561,
     "end_time": "2021-09-12T23:34:14.227711",
     "exception": false,
     "start_time": "2021-09-12T23:34:14.192101",
     "status": "completed"
    },
    "tags": []
   },
   "outputs": [],
   "source": [
    "_tmp = CORRELATION_METHOD(test_data.iloc[:3])\n",
    "\n",
    "display(_tmp.shape)\n",
    "display(_tmp)"
   ]
  },
  {
   "cell_type": "code",
   "execution_count": null,
   "id": "d32281d8-f640-4f87-a1d5-aefa0757e9c3",
   "metadata": {
    "papermill": {
     "duration": 40.306751,
     "end_time": "2021-09-12T23:34:54.551213",
     "exception": false,
     "start_time": "2021-09-12T23:34:14.244462",
     "status": "completed"
    },
    "tags": []
   },
   "outputs": [],
   "source": [
    "%timeit CORRELATION_METHOD(test_data)"
   ]
  },
  {
   "cell_type": "markdown",
   "id": "fc2f7184-c0da-438c-94f5-002912793636",
   "metadata": {
    "papermill": {
     "duration": 0.015883,
     "end_time": "2021-09-12T23:34:54.588598",
     "exception": false,
     "start_time": "2021-09-12T23:34:54.572715",
     "status": "completed"
    },
    "tags": []
   },
   "source": [
    "## Run"
   ]
  },
  {
   "cell_type": "code",
   "execution_count": null,
   "id": "189b0295-f968-42b2-9377-a6c404182b01",
   "metadata": {
    "papermill": {
     "duration": 685.420943,
     "end_time": "2021-09-12T23:46:20.025150",
     "exception": false,
     "start_time": "2021-09-12T23:34:54.604207",
     "status": "completed"
    },
    "tags": []
   },
   "outputs": [],
   "source": [
    "# compute correlations\n",
    "data_corrs = CORRELATION_METHOD(data)"
   ]
  },
  {
   "cell_type": "code",
   "execution_count": null,
   "id": "bd93f2d7-d1fe-46c5-9a8c-92cac91ef7c6",
   "metadata": {
    "papermill": {
     "duration": 0.023381,
     "end_time": "2021-09-12T23:46:20.068909",
     "exception": false,
     "start_time": "2021-09-12T23:46:20.045528",
     "status": "completed"
    },
    "tags": []
   },
   "outputs": [],
   "source": [
    "display(data_corrs.shape)\n",
    "\n",
    "assert data.shape[0] == data_corrs.shape[0]"
   ]
  },
  {
   "cell_type": "code",
   "execution_count": null,
   "id": "da4f952a-539d-4007-bbfb-a57e426fb68a",
   "metadata": {
    "papermill": {
     "duration": 0.036842,
     "end_time": "2021-09-12T23:46:20.122334",
     "exception": false,
     "start_time": "2021-09-12T23:46:20.085492",
     "status": "completed"
    },
    "tags": []
   },
   "outputs": [],
   "source": [
    "data_corrs.head()"
   ]
  },
  {
   "cell_type": "markdown",
   "id": "bf8ed959",
   "metadata": {
    "tags": []
   },
   "source": [
    "## Save"
   ]
  },
  {
   "cell_type": "code",
   "execution_count": null,
   "id": "31e811b1-4329-494b-9905-ee002b34f4b4",
   "metadata": {
    "papermill": {
     "duration": 0.022586,
     "end_time": "2021-09-12T23:46:20.161798",
     "exception": false,
     "start_time": "2021-09-12T23:46:20.139212",
     "status": "completed"
    },
    "tags": []
   },
   "outputs": [],
   "source": [
    "output_filename = OUTPUT_DIR / f\"{INPUT_FILE.stem}-{method_name}.pkl\"\n",
    "display(output_filename)"
   ]
  },
  {
   "cell_type": "code",
   "execution_count": null,
   "id": "b3c49a1a-bdf4-4cf9-824d-0d5c0acf2b73",
   "metadata": {
    "papermill": {
     "duration": 1.919682,
     "end_time": "2021-09-12T23:46:22.098803",
     "exception": false,
     "start_time": "2021-09-12T23:46:20.179121",
     "status": "completed"
    },
    "tags": []
   },
   "outputs": [],
   "source": [
    "# save\n",
    "data_corrs.to_pickle(output_filename)"
   ]
  },
  {
   "cell_type": "code",
   "execution_count": null,
   "id": "258babdf-03ce-4450-ab22-7a3d75bf6869",
   "metadata": {
    "papermill": {
     "duration": 0.017286,
     "end_time": "2021-09-12T23:46:22.134645",
     "exception": false,
     "start_time": "2021-09-12T23:46:22.117359",
     "status": "completed"
    },
    "tags": []
   },
   "outputs": [],
   "source": []
  }
 ],
 "metadata": {
  "jupytext": {
   "cell_metadata_filter": "all,-execution,-papermill,-trusted",
   "text_representation": {
    "extension": ".py",
    "format_name": "percent",
    "format_version": "1.3",
    "jupytext_version": "1.11.5"
   }
  },
  "kernelspec": {
   "display_name": "Python 3 (ipykernel)",
   "language": "python",
   "name": "python3"
  },
  "language_info": {
   "codemirror_mode": {
    "name": "ipython",
    "version": 3
   },
   "file_extension": ".py",
   "mimetype": "text/x-python",
   "name": "python",
   "nbconvert_exporter": "python",
   "pygments_lexer": "ipython3",
   "version": "3.9.9"
  },
  "papermill": {
   "default_parameters": {},
   "duration": 731.980022,
   "end_time": "2021-09-12T23:46:22.564870",
   "environment_variables": {},
   "exception": null,
   "input_path": "nbs/10_compute_correlations/10_recount2/06-recount2-spearman.ipynb",
   "output_path": "nbs/10_compute_correlations/10_recount2/06-recount2-spearman.run.ipynb",
   "parameters": {},
   "start_time": "2021-09-12T23:34:10.584848",
   "version": "2.3.3"
  },
  "toc-autonumbering": true
 },
 "nbformat": 4,
 "nbformat_minor": 5
}
