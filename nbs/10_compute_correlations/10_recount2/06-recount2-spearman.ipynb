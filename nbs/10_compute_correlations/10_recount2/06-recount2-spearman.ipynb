{
 "cells": [
  {
   "cell_type": "markdown",
   "id": "e9773a95-e8fd-4963-87a5-0c92299434d5",
   "metadata": {
    "papermill": {
     "duration": 0.047205,
     "end_time": "2021-09-12T23:34:11.701398",
     "exception": false,
     "start_time": "2021-09-12T23:34:11.654193",
     "status": "completed"
    },
    "tags": []
   },
   "source": [
    "# Description"
   ]
  },
  {
   "cell_type": "markdown",
   "id": "57f34c74-404d-4776-b547-e6acb2df75d7",
   "metadata": {
    "papermill": {
     "duration": 0.012609,
     "end_time": "2021-09-12T23:34:11.729980",
     "exception": false,
     "start_time": "2021-09-12T23:34:11.717371",
     "status": "completed"
    },
    "tags": []
   },
   "source": [
    "According to the settings specified below, this notebook:\n",
    " 1. reads all the data from one source (GTEx, recount2, etc) according to the gene selection method (`GENE_SELECTION_STRATEGY`),\n",
    " 2. runs a quick performance test using the correlation coefficient specified (`CORRELATION_METHOD`), and\n",
    " 3. computes the correlation matrix across all the genes using the correlation coefficient specified."
   ]
  },
  {
   "cell_type": "markdown",
   "id": "1d8fae6b-e623-46a6-aff6-d7849163c820",
   "metadata": {
    "papermill": {
     "duration": 0.012584,
     "end_time": "2021-09-12T23:34:11.755247",
     "exception": false,
     "start_time": "2021-09-12T23:34:11.742663",
     "status": "completed"
    },
    "tags": []
   },
   "source": [
    "# Modules"
   ]
  },
  {
   "cell_type": "code",
   "execution_count": 1,
   "id": "76729f0e-f742-495b-b676-d9d7b1539e10",
   "metadata": {
    "execution": {
     "iopub.execute_input": "2021-09-12T23:34:11.788600Z",
     "iopub.status.busy": "2021-09-12T23:34:11.788124Z",
     "iopub.status.idle": "2021-09-12T23:34:12.361321Z",
     "shell.execute_reply": "2021-09-12T23:34:12.360498Z"
    },
    "papermill": {
     "duration": 0.593327,
     "end_time": "2021-09-12T23:34:12.361474",
     "exception": false,
     "start_time": "2021-09-12T23:34:11.768147",
     "status": "completed"
    },
    "tags": []
   },
   "outputs": [],
   "source": [
    "import pandas as pd\n",
    "\n",
    "from clustermatch import conf\n",
    "from clustermatch.corr import spearman"
   ]
  },
  {
   "cell_type": "markdown",
   "id": "a6c3a546-9a49-45e7-9f17-fbdb5af4bfb6",
   "metadata": {
    "papermill": {
     "duration": 0.012824,
     "end_time": "2021-09-12T23:34:12.388966",
     "exception": false,
     "start_time": "2021-09-12T23:34:12.376142",
     "status": "completed"
    },
    "tags": []
   },
   "source": [
    "# Settings"
   ]
  },
  {
   "cell_type": "code",
   "execution_count": 2,
   "id": "56ff94d3-a230-4028-a71d-518ac109209b",
   "metadata": {
    "execution": {
     "iopub.execute_input": "2021-09-12T23:34:12.417878Z",
     "iopub.status.busy": "2021-09-12T23:34:12.417424Z",
     "iopub.status.idle": "2021-09-12T23:34:12.419130Z",
     "shell.execute_reply": "2021-09-12T23:34:12.419473Z"
    },
    "papermill": {
     "duration": 0.017779,
     "end_time": "2021-09-12T23:34:12.419580",
     "exception": false,
     "start_time": "2021-09-12T23:34:12.401801",
     "status": "completed"
    },
    "tags": []
   },
   "outputs": [],
   "source": [
    "# we don't have gene subsets for recount2\n",
    "# GENE_SELECTION_STRATEGY = \"var_raw\""
   ]
  },
  {
   "cell_type": "code",
   "execution_count": 3,
   "id": "8baf4209-ba56-4e3d-b60f-6ce2bb686159",
   "metadata": {
    "execution": {
     "iopub.execute_input": "2021-09-12T23:34:12.453517Z",
     "iopub.status.busy": "2021-09-12T23:34:12.452512Z",
     "iopub.status.idle": "2021-09-12T23:34:12.456808Z",
     "shell.execute_reply": "2021-09-12T23:34:12.456422Z"
    },
    "papermill": {
     "duration": 0.024298,
     "end_time": "2021-09-12T23:34:12.456904",
     "exception": false,
     "start_time": "2021-09-12T23:34:12.432606",
     "status": "completed"
    },
    "tags": []
   },
   "outputs": [
    {
     "data": {
      "text/plain": [
       "'spearman'"
      ]
     },
     "metadata": {},
     "output_type": "display_data"
    }
   ],
   "source": [
    "CORRELATION_METHOD = spearman\n",
    "\n",
    "method_name = CORRELATION_METHOD.__name__\n",
    "display(method_name)"
   ]
  },
  {
   "cell_type": "code",
   "execution_count": 4,
   "id": "21a3e349-9a09-4d24-89e3-915fdbf08a81",
   "metadata": {
    "execution": {
     "iopub.execute_input": "2021-09-12T23:34:12.486898Z",
     "iopub.status.busy": "2021-09-12T23:34:12.486428Z",
     "iopub.status.idle": "2021-09-12T23:34:12.487873Z",
     "shell.execute_reply": "2021-09-12T23:34:12.488248Z"
    },
    "papermill": {
     "duration": 0.017938,
     "end_time": "2021-09-12T23:34:12.488363",
     "exception": false,
     "start_time": "2021-09-12T23:34:12.470425",
     "status": "completed"
    },
    "tags": []
   },
   "outputs": [],
   "source": [
    "PERFORMANCE_TEST_N_TOP_GENES = 500"
   ]
  },
  {
   "cell_type": "markdown",
   "id": "b0afcba9-5847-414e-b448-f0cd08ecd8ce",
   "metadata": {
    "papermill": {
     "duration": 0.013061,
     "end_time": "2021-09-12T23:34:12.515248",
     "exception": false,
     "start_time": "2021-09-12T23:34:12.502187",
     "status": "completed"
    },
    "tags": []
   },
   "source": [
    "# Paths"
   ]
  },
  {
   "cell_type": "code",
   "execution_count": 5,
   "id": "35760114-8560-4a0e-ad4f-2bee9104c63d",
   "metadata": {
    "execution": {
     "iopub.execute_input": "2021-09-12T23:34:12.548918Z",
     "iopub.status.busy": "2021-09-12T23:34:12.548367Z",
     "iopub.status.idle": "2021-09-12T23:34:12.550845Z",
     "shell.execute_reply": "2021-09-12T23:34:12.551231Z"
    },
    "papermill": {
     "duration": 0.022112,
     "end_time": "2021-09-12T23:34:12.551364",
     "exception": false,
     "start_time": "2021-09-12T23:34:12.529252",
     "status": "completed"
    },
    "tags": []
   },
   "outputs": [
    {
     "data": {
      "text/plain": [
       "PosixPath('/opt/data/data/recount2/recount_data_prep_PLIER.pkl')"
      ]
     },
     "metadata": {},
     "output_type": "display_data"
    }
   ],
   "source": [
    "INPUT_FILE = conf.RECOUNT2[\"DATA_FILE\"]\n",
    "display(INPUT_FILE)\n",
    "\n",
    "assert INPUT_FILE.exists()"
   ]
  },
  {
   "cell_type": "code",
   "execution_count": 6,
   "id": "f1418e81-4e77-4f67-b5ed-b29b797e31a0",
   "metadata": {
    "execution": {
     "iopub.execute_input": "2021-09-12T23:34:12.584448Z",
     "iopub.status.busy": "2021-09-12T23:34:12.583795Z",
     "iopub.status.idle": "2021-09-12T23:34:12.586605Z",
     "shell.execute_reply": "2021-09-12T23:34:12.586216Z"
    },
    "papermill": {
     "duration": 0.020398,
     "end_time": "2021-09-12T23:34:12.586701",
     "exception": false,
     "start_time": "2021-09-12T23:34:12.566303",
     "status": "completed"
    },
    "tags": []
   },
   "outputs": [
    {
     "data": {
      "text/plain": [
       "PosixPath('/opt/data/results/recount2/similarity_matrices')"
      ]
     },
     "metadata": {},
     "output_type": "display_data"
    }
   ],
   "source": [
    "OUTPUT_DIR = conf.RECOUNT2[\"SIMILARITY_MATRICES_DIR\"]\n",
    "OUTPUT_DIR.mkdir(parents=True, exist_ok=True)\n",
    "display(OUTPUT_DIR)"
   ]
  },
  {
   "cell_type": "markdown",
   "id": "5fdf8df6-eba0-4cf5-979c-3acd56a5ef3c",
   "metadata": {
    "papermill": {
     "duration": 0.013714,
     "end_time": "2021-09-12T23:34:12.614705",
     "exception": false,
     "start_time": "2021-09-12T23:34:12.600991",
     "status": "completed"
    },
    "tags": []
   },
   "source": [
    "# Data loading"
   ]
  },
  {
   "cell_type": "code",
   "execution_count": 7,
   "id": "596d25ed-4120-4bef-8984-a91ae6529ab5",
   "metadata": {
    "execution": {
     "iopub.execute_input": "2021-09-12T23:34:12.645849Z",
     "iopub.status.busy": "2021-09-12T23:34:12.645384Z",
     "iopub.status.idle": "2021-09-12T23:34:13.716054Z",
     "shell.execute_reply": "2021-09-12T23:34:13.715450Z"
    },
    "papermill": {
     "duration": 1.087686,
     "end_time": "2021-09-12T23:34:13.716175",
     "exception": false,
     "start_time": "2021-09-12T23:34:12.628489",
     "status": "completed"
    },
    "tags": []
   },
   "outputs": [],
   "source": [
    "data = pd.read_pickle(INPUT_FILE)"
   ]
  },
  {
   "cell_type": "code",
   "execution_count": 8,
   "id": "be8a23da-ea99-43a9-b684-fa645c1d1adc",
   "metadata": {
    "execution": {
     "iopub.execute_input": "2021-09-12T23:34:13.752411Z",
     "iopub.status.busy": "2021-09-12T23:34:13.751920Z",
     "iopub.status.idle": "2021-09-12T23:34:13.754620Z",
     "shell.execute_reply": "2021-09-12T23:34:13.754210Z"
    },
    "papermill": {
     "duration": 0.021872,
     "end_time": "2021-09-12T23:34:13.754716",
     "exception": false,
     "start_time": "2021-09-12T23:34:13.732844",
     "status": "completed"
    },
    "tags": []
   },
   "outputs": [
    {
     "data": {
      "text/plain": [
       "(6750, 37032)"
      ]
     },
     "execution_count": 8,
     "metadata": {},
     "output_type": "execute_result"
    }
   ],
   "source": [
    "data.shape"
   ]
  },
  {
   "cell_type": "code",
   "execution_count": 9,
   "id": "cd693523-4379-400a-a2d2-6b3f617421e6",
   "metadata": {
    "execution": {
     "iopub.execute_input": "2021-09-12T23:34:13.791204Z",
     "iopub.status.busy": "2021-09-12T23:34:13.790725Z",
     "iopub.status.idle": "2021-09-12T23:34:13.808276Z",
     "shell.execute_reply": "2021-09-12T23:34:13.807808Z"
    },
    "papermill": {
     "duration": 0.039091,
     "end_time": "2021-09-12T23:34:13.808373",
     "exception": false,
     "start_time": "2021-09-12T23:34:13.769282",
     "status": "completed"
    },
    "tags": []
   },
   "outputs": [
    {
     "data": {
      "text/html": [
       "<div>\n",
       "<style scoped>\n",
       "    .dataframe tbody tr th:only-of-type {\n",
       "        vertical-align: middle;\n",
       "    }\n",
       "\n",
       "    .dataframe tbody tr th {\n",
       "        vertical-align: top;\n",
       "    }\n",
       "\n",
       "    .dataframe thead th {\n",
       "        text-align: right;\n",
       "    }\n",
       "</style>\n",
       "<table border=\"1\" class=\"dataframe\">\n",
       "  <thead>\n",
       "    <tr style=\"text-align: right;\">\n",
       "      <th></th>\n",
       "      <th>SRP000599.SRR013549</th>\n",
       "      <th>SRP000599.SRR013550</th>\n",
       "      <th>SRP000599.SRR013551</th>\n",
       "      <th>SRP000599.SRR013552</th>\n",
       "      <th>SRP000599.SRR013553</th>\n",
       "      <th>SRP000599.SRR013554</th>\n",
       "      <th>SRP000599.SRR013555</th>\n",
       "      <th>SRP000599.SRR013556</th>\n",
       "      <th>SRP000599.SRR013557</th>\n",
       "      <th>SRP000599.SRR013558</th>\n",
       "      <th>...</th>\n",
       "      <th>SRP035599.SRR1139372</th>\n",
       "      <th>SRP035599.SRR1139393</th>\n",
       "      <th>SRP035599.SRR1139388</th>\n",
       "      <th>SRP035599.SRR1139378</th>\n",
       "      <th>SRP035599.SRR1139399</th>\n",
       "      <th>SRP035599.SRR1139386</th>\n",
       "      <th>SRP035599.SRR1139375</th>\n",
       "      <th>SRP035599.SRR1139382</th>\n",
       "      <th>SRP035599.SRR1139356</th>\n",
       "      <th>SRP035599.SRR1139370</th>\n",
       "    </tr>\n",
       "  </thead>\n",
       "  <tbody>\n",
       "    <tr>\n",
       "      <th>GAS6</th>\n",
       "      <td>-0.312500</td>\n",
       "      <td>-0.312931</td>\n",
       "      <td>-0.312931</td>\n",
       "      <td>-0.312931</td>\n",
       "      <td>-0.312931</td>\n",
       "      <td>-0.308253</td>\n",
       "      <td>-0.312931</td>\n",
       "      <td>-0.312931</td>\n",
       "      <td>-0.312931</td>\n",
       "      <td>-0.312931</td>\n",
       "      <td>...</td>\n",
       "      <td>-0.301711</td>\n",
       "      <td>-0.305581</td>\n",
       "      <td>-0.303344</td>\n",
       "      <td>-0.297800</td>\n",
       "      <td>-0.307122</td>\n",
       "      <td>-0.285499</td>\n",
       "      <td>-0.309599</td>\n",
       "      <td>-0.300220</td>\n",
       "      <td>-0.297667</td>\n",
       "      <td>-0.310151</td>\n",
       "    </tr>\n",
       "    <tr>\n",
       "      <th>MMP14</th>\n",
       "      <td>-0.328279</td>\n",
       "      <td>-0.328279</td>\n",
       "      <td>-0.328279</td>\n",
       "      <td>-0.328279</td>\n",
       "      <td>-0.328279</td>\n",
       "      <td>-0.328279</td>\n",
       "      <td>-0.328279</td>\n",
       "      <td>-0.328279</td>\n",
       "      <td>-0.328279</td>\n",
       "      <td>-0.325140</td>\n",
       "      <td>...</td>\n",
       "      <td>-0.314587</td>\n",
       "      <td>-0.322952</td>\n",
       "      <td>-0.326439</td>\n",
       "      <td>-0.325994</td>\n",
       "      <td>-0.326272</td>\n",
       "      <td>-0.322523</td>\n",
       "      <td>-0.326375</td>\n",
       "      <td>-0.326339</td>\n",
       "      <td>-0.322127</td>\n",
       "      <td>-0.327438</td>\n",
       "    </tr>\n",
       "    <tr>\n",
       "      <th>DSP</th>\n",
       "      <td>-0.286319</td>\n",
       "      <td>-0.286859</td>\n",
       "      <td>-0.286859</td>\n",
       "      <td>-0.286859</td>\n",
       "      <td>-0.286859</td>\n",
       "      <td>-0.286859</td>\n",
       "      <td>-0.277195</td>\n",
       "      <td>-0.256862</td>\n",
       "      <td>-0.278790</td>\n",
       "      <td>-0.269701</td>\n",
       "      <td>...</td>\n",
       "      <td>-0.286859</td>\n",
       "      <td>-0.286859</td>\n",
       "      <td>-0.286745</td>\n",
       "      <td>-0.286688</td>\n",
       "      <td>-0.286725</td>\n",
       "      <td>-0.286529</td>\n",
       "      <td>-0.286859</td>\n",
       "      <td>-0.286671</td>\n",
       "      <td>-0.286859</td>\n",
       "      <td>-0.286740</td>\n",
       "    </tr>\n",
       "    <tr>\n",
       "      <th>MARCKSL1</th>\n",
       "      <td>-0.536646</td>\n",
       "      <td>-0.536646</td>\n",
       "      <td>-0.536646</td>\n",
       "      <td>-0.536646</td>\n",
       "      <td>-0.536646</td>\n",
       "      <td>-0.536646</td>\n",
       "      <td>-0.536646</td>\n",
       "      <td>-0.536646</td>\n",
       "      <td>-0.536646</td>\n",
       "      <td>-0.536646</td>\n",
       "      <td>...</td>\n",
       "      <td>0.807663</td>\n",
       "      <td>1.294564</td>\n",
       "      <td>1.527655</td>\n",
       "      <td>1.404788</td>\n",
       "      <td>1.047931</td>\n",
       "      <td>0.892119</td>\n",
       "      <td>1.507099</td>\n",
       "      <td>2.458255</td>\n",
       "      <td>2.919662</td>\n",
       "      <td>1.410846</td>\n",
       "    </tr>\n",
       "    <tr>\n",
       "      <th>SPARC</th>\n",
       "      <td>-0.370498</td>\n",
       "      <td>-0.370498</td>\n",
       "      <td>-0.369171</td>\n",
       "      <td>-0.370498</td>\n",
       "      <td>-0.370498</td>\n",
       "      <td>-0.370498</td>\n",
       "      <td>-0.370498</td>\n",
       "      <td>-0.370498</td>\n",
       "      <td>-0.370498</td>\n",
       "      <td>-0.370498</td>\n",
       "      <td>...</td>\n",
       "      <td>-0.345409</td>\n",
       "      <td>-0.310750</td>\n",
       "      <td>-0.348120</td>\n",
       "      <td>-0.356938</td>\n",
       "      <td>-0.355206</td>\n",
       "      <td>-0.366197</td>\n",
       "      <td>-0.351174</td>\n",
       "      <td>-0.363703</td>\n",
       "      <td>-0.350825</td>\n",
       "      <td>-0.360762</td>\n",
       "    </tr>\n",
       "  </tbody>\n",
       "</table>\n",
       "<p>5 rows × 37032 columns</p>\n",
       "</div>"
      ],
      "text/plain": [
       "          SRP000599.SRR013549  SRP000599.SRR013550  SRP000599.SRR013551  \\\n",
       "GAS6                -0.312500            -0.312931            -0.312931   \n",
       "MMP14               -0.328279            -0.328279            -0.328279   \n",
       "DSP                 -0.286319            -0.286859            -0.286859   \n",
       "MARCKSL1            -0.536646            -0.536646            -0.536646   \n",
       "SPARC               -0.370498            -0.370498            -0.369171   \n",
       "\n",
       "          SRP000599.SRR013552  SRP000599.SRR013553  SRP000599.SRR013554  \\\n",
       "GAS6                -0.312931            -0.312931            -0.308253   \n",
       "MMP14               -0.328279            -0.328279            -0.328279   \n",
       "DSP                 -0.286859            -0.286859            -0.286859   \n",
       "MARCKSL1            -0.536646            -0.536646            -0.536646   \n",
       "SPARC               -0.370498            -0.370498            -0.370498   \n",
       "\n",
       "          SRP000599.SRR013555  SRP000599.SRR013556  SRP000599.SRR013557  \\\n",
       "GAS6                -0.312931            -0.312931            -0.312931   \n",
       "MMP14               -0.328279            -0.328279            -0.328279   \n",
       "DSP                 -0.277195            -0.256862            -0.278790   \n",
       "MARCKSL1            -0.536646            -0.536646            -0.536646   \n",
       "SPARC               -0.370498            -0.370498            -0.370498   \n",
       "\n",
       "          SRP000599.SRR013558  ...  SRP035599.SRR1139372  \\\n",
       "GAS6                -0.312931  ...             -0.301711   \n",
       "MMP14               -0.325140  ...             -0.314587   \n",
       "DSP                 -0.269701  ...             -0.286859   \n",
       "MARCKSL1            -0.536646  ...              0.807663   \n",
       "SPARC               -0.370498  ...             -0.345409   \n",
       "\n",
       "          SRP035599.SRR1139393  SRP035599.SRR1139388  SRP035599.SRR1139378  \\\n",
       "GAS6                 -0.305581             -0.303344             -0.297800   \n",
       "MMP14                -0.322952             -0.326439             -0.325994   \n",
       "DSP                  -0.286859             -0.286745             -0.286688   \n",
       "MARCKSL1              1.294564              1.527655              1.404788   \n",
       "SPARC                -0.310750             -0.348120             -0.356938   \n",
       "\n",
       "          SRP035599.SRR1139399  SRP035599.SRR1139386  SRP035599.SRR1139375  \\\n",
       "GAS6                 -0.307122             -0.285499             -0.309599   \n",
       "MMP14                -0.326272             -0.322523             -0.326375   \n",
       "DSP                  -0.286725             -0.286529             -0.286859   \n",
       "MARCKSL1              1.047931              0.892119              1.507099   \n",
       "SPARC                -0.355206             -0.366197             -0.351174   \n",
       "\n",
       "          SRP035599.SRR1139382  SRP035599.SRR1139356  SRP035599.SRR1139370  \n",
       "GAS6                 -0.300220             -0.297667             -0.310151  \n",
       "MMP14                -0.326339             -0.322127             -0.327438  \n",
       "DSP                  -0.286671             -0.286859             -0.286740  \n",
       "MARCKSL1              2.458255              2.919662              1.410846  \n",
       "SPARC                -0.363703             -0.350825             -0.360762  \n",
       "\n",
       "[5 rows x 37032 columns]"
      ]
     },
     "execution_count": 9,
     "metadata": {},
     "output_type": "execute_result"
    }
   ],
   "source": [
    "data.head()"
   ]
  },
  {
   "cell_type": "markdown",
   "id": "081da632-fd12-462a-9ae1-c0ceccf1bb5d",
   "metadata": {
    "papermill": {
     "duration": 0.014192,
     "end_time": "2021-09-12T23:34:13.837419",
     "exception": false,
     "start_time": "2021-09-12T23:34:13.823227",
     "status": "completed"
    },
    "tags": []
   },
   "source": [
    "# Compute similarity"
   ]
  },
  {
   "cell_type": "markdown",
   "id": "37137fff-2d3a-43d8-9bd5-d7c3284a97f5",
   "metadata": {
    "papermill": {
     "duration": 0.013973,
     "end_time": "2021-09-12T23:34:13.865446",
     "exception": false,
     "start_time": "2021-09-12T23:34:13.851473",
     "status": "completed"
    },
    "tags": []
   },
   "source": [
    "## Performance test"
   ]
  },
  {
   "cell_type": "code",
   "execution_count": 10,
   "id": "5dd40707-759f-4bf9-b8cc-84811b2dfe53",
   "metadata": {
    "execution": {
     "iopub.execute_input": "2021-09-12T23:34:14.043572Z",
     "iopub.status.busy": "2021-09-12T23:34:14.042812Z",
     "iopub.status.idle": "2021-09-12T23:34:14.045666Z",
     "shell.execute_reply": "2021-09-12T23:34:14.044951Z"
    },
    "papermill": {
     "duration": 0.166255,
     "end_time": "2021-09-12T23:34:14.045817",
     "exception": false,
     "start_time": "2021-09-12T23:34:13.879562",
     "status": "completed"
    },
    "tags": []
   },
   "outputs": [],
   "source": [
    "# select a subset of the genes\n",
    "test_data = data.sample(n=PERFORMANCE_TEST_N_TOP_GENES, random_state=0)"
   ]
  },
  {
   "cell_type": "code",
   "execution_count": 11,
   "id": "e8acd036-93f7-46c0-a1ee-8da0c2c24790",
   "metadata": {
    "execution": {
     "iopub.execute_input": "2021-09-12T23:34:14.089310Z",
     "iopub.status.busy": "2021-09-12T23:34:14.088738Z",
     "iopub.status.idle": "2021-09-12T23:34:14.091311Z",
     "shell.execute_reply": "2021-09-12T23:34:14.091746Z"
    },
    "papermill": {
     "duration": 0.025494,
     "end_time": "2021-09-12T23:34:14.091901",
     "exception": false,
     "start_time": "2021-09-12T23:34:14.066407",
     "status": "completed"
    },
    "tags": []
   },
   "outputs": [
    {
     "data": {
      "text/plain": [
       "(500, 37032)"
      ]
     },
     "execution_count": 11,
     "metadata": {},
     "output_type": "execute_result"
    }
   ],
   "source": [
    "test_data.shape"
   ]
  },
  {
   "cell_type": "code",
   "execution_count": 12,
   "id": "111e360b-dbe4-4b69-9029-7b7669eb5ddc",
   "metadata": {
    "execution": {
     "iopub.execute_input": "2021-09-12T23:34:14.130017Z",
     "iopub.status.busy": "2021-09-12T23:34:14.129553Z",
     "iopub.status.idle": "2021-09-12T23:34:14.145344Z",
     "shell.execute_reply": "2021-09-12T23:34:14.145686Z"
    },
    "papermill": {
     "duration": 0.035929,
     "end_time": "2021-09-12T23:34:14.145808",
     "exception": false,
     "start_time": "2021-09-12T23:34:14.109879",
     "status": "completed"
    },
    "tags": []
   },
   "outputs": [
    {
     "data": {
      "text/html": [
       "<div>\n",
       "<style scoped>\n",
       "    .dataframe tbody tr th:only-of-type {\n",
       "        vertical-align: middle;\n",
       "    }\n",
       "\n",
       "    .dataframe tbody tr th {\n",
       "        vertical-align: top;\n",
       "    }\n",
       "\n",
       "    .dataframe thead th {\n",
       "        text-align: right;\n",
       "    }\n",
       "</style>\n",
       "<table border=\"1\" class=\"dataframe\">\n",
       "  <thead>\n",
       "    <tr style=\"text-align: right;\">\n",
       "      <th></th>\n",
       "      <th>SRP000599.SRR013549</th>\n",
       "      <th>SRP000599.SRR013550</th>\n",
       "      <th>SRP000599.SRR013551</th>\n",
       "      <th>SRP000599.SRR013552</th>\n",
       "      <th>SRP000599.SRR013553</th>\n",
       "      <th>SRP000599.SRR013554</th>\n",
       "      <th>SRP000599.SRR013555</th>\n",
       "      <th>SRP000599.SRR013556</th>\n",
       "      <th>SRP000599.SRR013557</th>\n",
       "      <th>SRP000599.SRR013558</th>\n",
       "      <th>...</th>\n",
       "      <th>SRP035599.SRR1139372</th>\n",
       "      <th>SRP035599.SRR1139393</th>\n",
       "      <th>SRP035599.SRR1139388</th>\n",
       "      <th>SRP035599.SRR1139378</th>\n",
       "      <th>SRP035599.SRR1139399</th>\n",
       "      <th>SRP035599.SRR1139386</th>\n",
       "      <th>SRP035599.SRR1139375</th>\n",
       "      <th>SRP035599.SRR1139382</th>\n",
       "      <th>SRP035599.SRR1139356</th>\n",
       "      <th>SRP035599.SRR1139370</th>\n",
       "    </tr>\n",
       "  </thead>\n",
       "  <tbody>\n",
       "    <tr>\n",
       "      <th>S1PR5</th>\n",
       "      <td>-0.266852</td>\n",
       "      <td>-0.266852</td>\n",
       "      <td>-0.266852</td>\n",
       "      <td>-0.266852</td>\n",
       "      <td>-0.266852</td>\n",
       "      <td>-0.266852</td>\n",
       "      <td>-0.266852</td>\n",
       "      <td>-0.266852</td>\n",
       "      <td>-0.266852</td>\n",
       "      <td>-0.266852</td>\n",
       "      <td>...</td>\n",
       "      <td>-0.266852</td>\n",
       "      <td>-0.266852</td>\n",
       "      <td>-0.261464</td>\n",
       "      <td>-0.262521</td>\n",
       "      <td>-0.263571</td>\n",
       "      <td>-0.232207</td>\n",
       "      <td>-0.263313</td>\n",
       "      <td>-0.263926</td>\n",
       "      <td>-0.266852</td>\n",
       "      <td>-0.266852</td>\n",
       "    </tr>\n",
       "    <tr>\n",
       "      <th>NDUFA12</th>\n",
       "      <td>-0.389020</td>\n",
       "      <td>-0.389020</td>\n",
       "      <td>-0.389020</td>\n",
       "      <td>-0.389020</td>\n",
       "      <td>-0.389020</td>\n",
       "      <td>-0.389020</td>\n",
       "      <td>-0.389020</td>\n",
       "      <td>-0.389020</td>\n",
       "      <td>-0.389020</td>\n",
       "      <td>-0.389020</td>\n",
       "      <td>...</td>\n",
       "      <td>0.264052</td>\n",
       "      <td>0.141801</td>\n",
       "      <td>-0.101283</td>\n",
       "      <td>0.016574</td>\n",
       "      <td>0.054545</td>\n",
       "      <td>0.109291</td>\n",
       "      <td>-0.080455</td>\n",
       "      <td>-0.039797</td>\n",
       "      <td>-0.171493</td>\n",
       "      <td>-0.039619</td>\n",
       "    </tr>\n",
       "    <tr>\n",
       "      <th>EXOSC10</th>\n",
       "      <td>-0.775256</td>\n",
       "      <td>-0.781191</td>\n",
       "      <td>-0.781191</td>\n",
       "      <td>-0.781191</td>\n",
       "      <td>-0.781191</td>\n",
       "      <td>-0.781191</td>\n",
       "      <td>-0.781191</td>\n",
       "      <td>-0.781191</td>\n",
       "      <td>-0.781191</td>\n",
       "      <td>-0.781191</td>\n",
       "      <td>...</td>\n",
       "      <td>-0.151619</td>\n",
       "      <td>-0.190753</td>\n",
       "      <td>-0.263083</td>\n",
       "      <td>0.006409</td>\n",
       "      <td>-0.090697</td>\n",
       "      <td>-0.196750</td>\n",
       "      <td>-0.039938</td>\n",
       "      <td>0.155149</td>\n",
       "      <td>0.076707</td>\n",
       "      <td>0.201055</td>\n",
       "    </tr>\n",
       "    <tr>\n",
       "      <th>ALOX15B</th>\n",
       "      <td>-0.104175</td>\n",
       "      <td>-0.104175</td>\n",
       "      <td>-0.104175</td>\n",
       "      <td>-0.104175</td>\n",
       "      <td>-0.104175</td>\n",
       "      <td>-0.104175</td>\n",
       "      <td>-0.104175</td>\n",
       "      <td>-0.104175</td>\n",
       "      <td>-0.104175</td>\n",
       "      <td>-0.104175</td>\n",
       "      <td>...</td>\n",
       "      <td>-0.102583</td>\n",
       "      <td>-0.104175</td>\n",
       "      <td>-0.104175</td>\n",
       "      <td>-0.090938</td>\n",
       "      <td>-0.104175</td>\n",
       "      <td>-0.091455</td>\n",
       "      <td>-0.097841</td>\n",
       "      <td>-0.097053</td>\n",
       "      <td>-0.098525</td>\n",
       "      <td>-0.102490</td>\n",
       "    </tr>\n",
       "    <tr>\n",
       "      <th>CACNB1</th>\n",
       "      <td>-0.412386</td>\n",
       "      <td>-0.412386</td>\n",
       "      <td>-0.412386</td>\n",
       "      <td>-0.412386</td>\n",
       "      <td>-0.412386</td>\n",
       "      <td>-0.412386</td>\n",
       "      <td>-0.412386</td>\n",
       "      <td>-0.412386</td>\n",
       "      <td>-0.412386</td>\n",
       "      <td>-0.412386</td>\n",
       "      <td>...</td>\n",
       "      <td>-0.002829</td>\n",
       "      <td>-0.176210</td>\n",
       "      <td>-0.124728</td>\n",
       "      <td>-0.034000</td>\n",
       "      <td>-0.170579</td>\n",
       "      <td>-0.134903</td>\n",
       "      <td>-0.050322</td>\n",
       "      <td>-0.160912</td>\n",
       "      <td>-0.034017</td>\n",
       "      <td>-0.001866</td>\n",
       "    </tr>\n",
       "  </tbody>\n",
       "</table>\n",
       "<p>5 rows × 37032 columns</p>\n",
       "</div>"
      ],
      "text/plain": [
       "         SRP000599.SRR013549  SRP000599.SRR013550  SRP000599.SRR013551  \\\n",
       "S1PR5              -0.266852            -0.266852            -0.266852   \n",
       "NDUFA12            -0.389020            -0.389020            -0.389020   \n",
       "EXOSC10            -0.775256            -0.781191            -0.781191   \n",
       "ALOX15B            -0.104175            -0.104175            -0.104175   \n",
       "CACNB1             -0.412386            -0.412386            -0.412386   \n",
       "\n",
       "         SRP000599.SRR013552  SRP000599.SRR013553  SRP000599.SRR013554  \\\n",
       "S1PR5              -0.266852            -0.266852            -0.266852   \n",
       "NDUFA12            -0.389020            -0.389020            -0.389020   \n",
       "EXOSC10            -0.781191            -0.781191            -0.781191   \n",
       "ALOX15B            -0.104175            -0.104175            -0.104175   \n",
       "CACNB1             -0.412386            -0.412386            -0.412386   \n",
       "\n",
       "         SRP000599.SRR013555  SRP000599.SRR013556  SRP000599.SRR013557  \\\n",
       "S1PR5              -0.266852            -0.266852            -0.266852   \n",
       "NDUFA12            -0.389020            -0.389020            -0.389020   \n",
       "EXOSC10            -0.781191            -0.781191            -0.781191   \n",
       "ALOX15B            -0.104175            -0.104175            -0.104175   \n",
       "CACNB1             -0.412386            -0.412386            -0.412386   \n",
       "\n",
       "         SRP000599.SRR013558  ...  SRP035599.SRR1139372  SRP035599.SRR1139393  \\\n",
       "S1PR5              -0.266852  ...             -0.266852             -0.266852   \n",
       "NDUFA12            -0.389020  ...              0.264052              0.141801   \n",
       "EXOSC10            -0.781191  ...             -0.151619             -0.190753   \n",
       "ALOX15B            -0.104175  ...             -0.102583             -0.104175   \n",
       "CACNB1             -0.412386  ...             -0.002829             -0.176210   \n",
       "\n",
       "         SRP035599.SRR1139388  SRP035599.SRR1139378  SRP035599.SRR1139399  \\\n",
       "S1PR5               -0.261464             -0.262521             -0.263571   \n",
       "NDUFA12             -0.101283              0.016574              0.054545   \n",
       "EXOSC10             -0.263083              0.006409             -0.090697   \n",
       "ALOX15B             -0.104175             -0.090938             -0.104175   \n",
       "CACNB1              -0.124728             -0.034000             -0.170579   \n",
       "\n",
       "         SRP035599.SRR1139386  SRP035599.SRR1139375  SRP035599.SRR1139382  \\\n",
       "S1PR5               -0.232207             -0.263313             -0.263926   \n",
       "NDUFA12              0.109291             -0.080455             -0.039797   \n",
       "EXOSC10             -0.196750             -0.039938              0.155149   \n",
       "ALOX15B             -0.091455             -0.097841             -0.097053   \n",
       "CACNB1              -0.134903             -0.050322             -0.160912   \n",
       "\n",
       "         SRP035599.SRR1139356  SRP035599.SRR1139370  \n",
       "S1PR5               -0.266852             -0.266852  \n",
       "NDUFA12             -0.171493             -0.039619  \n",
       "EXOSC10              0.076707              0.201055  \n",
       "ALOX15B             -0.098525             -0.102490  \n",
       "CACNB1              -0.034017             -0.001866  \n",
       "\n",
       "[5 rows x 37032 columns]"
      ]
     },
     "execution_count": 12,
     "metadata": {},
     "output_type": "execute_result"
    }
   ],
   "source": [
    "test_data.head()"
   ]
  },
  {
   "cell_type": "markdown",
   "id": "5903f3f5-791e-4f03-9d79-600102933d04",
   "metadata": {
    "papermill": {
     "duration": 0.015424,
     "end_time": "2021-09-12T23:34:14.177005",
     "exception": false,
     "start_time": "2021-09-12T23:34:14.161581",
     "status": "completed"
    },
    "tags": []
   },
   "source": [
    "This is a quick performance test of the correlation measure. The following line (`_tmp = ...`) is the setup code, which is needed in case the correlation method was optimized using `numba` and needs to be compiled before performing the test."
   ]
  },
  {
   "cell_type": "code",
   "execution_count": 13,
   "id": "118a6631-1cfd-44a3-bd85-5ec7118edd03",
   "metadata": {
    "execution": {
     "iopub.execute_input": "2021-09-12T23:34:14.210186Z",
     "iopub.status.busy": "2021-09-12T23:34:14.209689Z",
     "iopub.status.idle": "2021-09-12T23:34:14.227205Z",
     "shell.execute_reply": "2021-09-12T23:34:14.227588Z"
    },
    "papermill": {
     "duration": 0.03561,
     "end_time": "2021-09-12T23:34:14.227711",
     "exception": false,
     "start_time": "2021-09-12T23:34:14.192101",
     "status": "completed"
    },
    "tags": []
   },
   "outputs": [
    {
     "data": {
      "text/plain": [
       "(3, 3)"
      ]
     },
     "metadata": {},
     "output_type": "display_data"
    },
    {
     "data": {
      "text/html": [
       "<div>\n",
       "<style scoped>\n",
       "    .dataframe tbody tr th:only-of-type {\n",
       "        vertical-align: middle;\n",
       "    }\n",
       "\n",
       "    .dataframe tbody tr th {\n",
       "        vertical-align: top;\n",
       "    }\n",
       "\n",
       "    .dataframe thead th {\n",
       "        text-align: right;\n",
       "    }\n",
       "</style>\n",
       "<table border=\"1\" class=\"dataframe\">\n",
       "  <thead>\n",
       "    <tr style=\"text-align: right;\">\n",
       "      <th></th>\n",
       "      <th>S1PR5</th>\n",
       "      <th>NDUFA12</th>\n",
       "      <th>EXOSC10</th>\n",
       "    </tr>\n",
       "  </thead>\n",
       "  <tbody>\n",
       "    <tr>\n",
       "      <th>S1PR5</th>\n",
       "      <td>1.000000</td>\n",
       "      <td>0.08518</td>\n",
       "      <td>0.273537</td>\n",
       "    </tr>\n",
       "    <tr>\n",
       "      <th>NDUFA12</th>\n",
       "      <td>0.085180</td>\n",
       "      <td>1.00000</td>\n",
       "      <td>0.416500</td>\n",
       "    </tr>\n",
       "    <tr>\n",
       "      <th>EXOSC10</th>\n",
       "      <td>0.273537</td>\n",
       "      <td>0.41650</td>\n",
       "      <td>1.000000</td>\n",
       "    </tr>\n",
       "  </tbody>\n",
       "</table>\n",
       "</div>"
      ],
      "text/plain": [
       "            S1PR5  NDUFA12   EXOSC10\n",
       "S1PR5    1.000000  0.08518  0.273537\n",
       "NDUFA12  0.085180  1.00000  0.416500\n",
       "EXOSC10  0.273537  0.41650  1.000000"
      ]
     },
     "metadata": {},
     "output_type": "display_data"
    }
   ],
   "source": [
    "_tmp = CORRELATION_METHOD(test_data.iloc[:3])\n",
    "\n",
    "display(_tmp.shape)\n",
    "display(_tmp)"
   ]
  },
  {
   "cell_type": "code",
   "execution_count": 14,
   "id": "d32281d8-f640-4f87-a1d5-aefa0757e9c3",
   "metadata": {
    "execution": {
     "iopub.execute_input": "2021-09-12T23:34:14.264088Z",
     "iopub.status.busy": "2021-09-12T23:34:14.263440Z",
     "iopub.status.idle": "2021-09-12T23:34:54.550740Z",
     "shell.execute_reply": "2021-09-12T23:34:54.551098Z"
    },
    "papermill": {
     "duration": 40.306751,
     "end_time": "2021-09-12T23:34:54.551213",
     "exception": false,
     "start_time": "2021-09-12T23:34:14.244462",
     "status": "completed"
    },
    "tags": []
   },
   "outputs": [
    {
     "name": "stdout",
     "output_type": "stream",
     "text": [
      "5.03 s ± 1.17 ms per loop (mean ± std. dev. of 7 runs, 1 loop each)\n"
     ]
    }
   ],
   "source": [
    "%timeit CORRELATION_METHOD(test_data)"
   ]
  },
  {
   "cell_type": "markdown",
   "id": "fc2f7184-c0da-438c-94f5-002912793636",
   "metadata": {
    "papermill": {
     "duration": 0.015883,
     "end_time": "2021-09-12T23:34:54.588598",
     "exception": false,
     "start_time": "2021-09-12T23:34:54.572715",
     "status": "completed"
    },
    "tags": []
   },
   "source": [
    "## Run"
   ]
  },
  {
   "cell_type": "code",
   "execution_count": 15,
   "id": "189b0295-f968-42b2-9377-a6c404182b01",
   "metadata": {
    "execution": {
     "iopub.execute_input": "2021-09-12T23:34:54.622921Z",
     "iopub.status.busy": "2021-09-12T23:34:54.622445Z",
     "iopub.status.idle": "2021-09-12T23:46:20.025011Z",
     "shell.execute_reply": "2021-09-12T23:46:20.024403Z"
    },
    "papermill": {
     "duration": 685.420943,
     "end_time": "2021-09-12T23:46:20.025150",
     "exception": false,
     "start_time": "2021-09-12T23:34:54.604207",
     "status": "completed"
    },
    "tags": []
   },
   "outputs": [],
   "source": [
    "# compute correlations\n",
    "data_corrs = CORRELATION_METHOD(data)"
   ]
  },
  {
   "cell_type": "code",
   "execution_count": 16,
   "id": "bd93f2d7-d1fe-46c5-9a8c-92cac91ef7c6",
   "metadata": {
    "execution": {
     "iopub.execute_input": "2021-09-12T23:46:20.066661Z",
     "iopub.status.busy": "2021-09-12T23:46:20.066111Z",
     "iopub.status.idle": "2021-09-12T23:46:20.068810Z",
     "shell.execute_reply": "2021-09-12T23:46:20.068415Z"
    },
    "papermill": {
     "duration": 0.023381,
     "end_time": "2021-09-12T23:46:20.068909",
     "exception": false,
     "start_time": "2021-09-12T23:46:20.045528",
     "status": "completed"
    },
    "tags": []
   },
   "outputs": [
    {
     "data": {
      "text/plain": [
       "(6750, 6750)"
      ]
     },
     "metadata": {},
     "output_type": "display_data"
    }
   ],
   "source": [
    "display(data_corrs.shape)\n",
    "\n",
    "assert data.shape[0] == data_corrs.shape[0]"
   ]
  },
  {
   "cell_type": "code",
   "execution_count": 17,
   "id": "da4f952a-539d-4007-bbfb-a57e426fb68a",
   "metadata": {
    "execution": {
     "iopub.execute_input": "2021-09-12T23:46:20.107064Z",
     "iopub.status.busy": "2021-09-12T23:46:20.106593Z",
     "iopub.status.idle": "2021-09-12T23:46:20.122238Z",
     "shell.execute_reply": "2021-09-12T23:46:20.121785Z"
    },
    "papermill": {
     "duration": 0.036842,
     "end_time": "2021-09-12T23:46:20.122334",
     "exception": false,
     "start_time": "2021-09-12T23:46:20.085492",
     "status": "completed"
    },
    "tags": []
   },
   "outputs": [
    {
     "data": {
      "text/html": [
       "<div>\n",
       "<style scoped>\n",
       "    .dataframe tbody tr th:only-of-type {\n",
       "        vertical-align: middle;\n",
       "    }\n",
       "\n",
       "    .dataframe tbody tr th {\n",
       "        vertical-align: top;\n",
       "    }\n",
       "\n",
       "    .dataframe thead th {\n",
       "        text-align: right;\n",
       "    }\n",
       "</style>\n",
       "<table border=\"1\" class=\"dataframe\">\n",
       "  <thead>\n",
       "    <tr style=\"text-align: right;\">\n",
       "      <th></th>\n",
       "      <th>GAS6</th>\n",
       "      <th>MMP14</th>\n",
       "      <th>DSP</th>\n",
       "      <th>MARCKSL1</th>\n",
       "      <th>SPARC</th>\n",
       "      <th>CTSD</th>\n",
       "      <th>EPAS1</th>\n",
       "      <th>PALLD</th>\n",
       "      <th>PHC2</th>\n",
       "      <th>LGALS3BP</th>\n",
       "      <th>...</th>\n",
       "      <th>LDHB</th>\n",
       "      <th>LDHC</th>\n",
       "      <th>ACAP2</th>\n",
       "      <th>ACAP3</th>\n",
       "      <th>CFL2</th>\n",
       "      <th>CFL1</th>\n",
       "      <th>NFIB</th>\n",
       "      <th>PLEKHG6</th>\n",
       "      <th>GNGT2</th>\n",
       "      <th>SERPINH1</th>\n",
       "    </tr>\n",
       "  </thead>\n",
       "  <tbody>\n",
       "    <tr>\n",
       "      <th>GAS6</th>\n",
       "      <td>1.000000</td>\n",
       "      <td>0.767277</td>\n",
       "      <td>0.530435</td>\n",
       "      <td>0.376058</td>\n",
       "      <td>0.492968</td>\n",
       "      <td>0.652806</td>\n",
       "      <td>0.694218</td>\n",
       "      <td>0.598491</td>\n",
       "      <td>0.599584</td>\n",
       "      <td>0.595290</td>\n",
       "      <td>...</td>\n",
       "      <td>0.096758</td>\n",
       "      <td>0.319135</td>\n",
       "      <td>0.243757</td>\n",
       "      <td>0.669781</td>\n",
       "      <td>0.433053</td>\n",
       "      <td>0.397045</td>\n",
       "      <td>0.298712</td>\n",
       "      <td>0.484416</td>\n",
       "      <td>0.357766</td>\n",
       "      <td>0.689587</td>\n",
       "    </tr>\n",
       "    <tr>\n",
       "      <th>MMP14</th>\n",
       "      <td>0.767277</td>\n",
       "      <td>1.000000</td>\n",
       "      <td>0.490369</td>\n",
       "      <td>0.372943</td>\n",
       "      <td>0.593585</td>\n",
       "      <td>0.608753</td>\n",
       "      <td>0.652577</td>\n",
       "      <td>0.566899</td>\n",
       "      <td>0.596954</td>\n",
       "      <td>0.591671</td>\n",
       "      <td>...</td>\n",
       "      <td>0.108111</td>\n",
       "      <td>0.328656</td>\n",
       "      <td>0.295322</td>\n",
       "      <td>0.573781</td>\n",
       "      <td>0.372953</td>\n",
       "      <td>0.388056</td>\n",
       "      <td>0.232660</td>\n",
       "      <td>0.498833</td>\n",
       "      <td>0.371384</td>\n",
       "      <td>0.707476</td>\n",
       "    </tr>\n",
       "    <tr>\n",
       "      <th>DSP</th>\n",
       "      <td>0.530435</td>\n",
       "      <td>0.490369</td>\n",
       "      <td>1.000000</td>\n",
       "      <td>0.309156</td>\n",
       "      <td>0.250510</td>\n",
       "      <td>0.378827</td>\n",
       "      <td>0.570500</td>\n",
       "      <td>0.603818</td>\n",
       "      <td>0.261268</td>\n",
       "      <td>0.483510</td>\n",
       "      <td>...</td>\n",
       "      <td>0.102505</td>\n",
       "      <td>0.322113</td>\n",
       "      <td>0.181120</td>\n",
       "      <td>0.336312</td>\n",
       "      <td>0.389993</td>\n",
       "      <td>0.143608</td>\n",
       "      <td>0.396473</td>\n",
       "      <td>0.567024</td>\n",
       "      <td>0.022467</td>\n",
       "      <td>0.615777</td>\n",
       "    </tr>\n",
       "    <tr>\n",
       "      <th>MARCKSL1</th>\n",
       "      <td>0.376058</td>\n",
       "      <td>0.372943</td>\n",
       "      <td>0.309156</td>\n",
       "      <td>1.000000</td>\n",
       "      <td>0.251116</td>\n",
       "      <td>0.380241</td>\n",
       "      <td>0.254586</td>\n",
       "      <td>0.286491</td>\n",
       "      <td>0.441862</td>\n",
       "      <td>0.339611</td>\n",
       "      <td>...</td>\n",
       "      <td>0.386577</td>\n",
       "      <td>0.314713</td>\n",
       "      <td>0.302932</td>\n",
       "      <td>0.548047</td>\n",
       "      <td>0.313833</td>\n",
       "      <td>0.454887</td>\n",
       "      <td>0.228858</td>\n",
       "      <td>0.352535</td>\n",
       "      <td>0.312589</td>\n",
       "      <td>0.478413</td>\n",
       "    </tr>\n",
       "    <tr>\n",
       "      <th>SPARC</th>\n",
       "      <td>0.492968</td>\n",
       "      <td>0.593585</td>\n",
       "      <td>0.250510</td>\n",
       "      <td>0.251116</td>\n",
       "      <td>1.000000</td>\n",
       "      <td>0.299277</td>\n",
       "      <td>0.404538</td>\n",
       "      <td>0.481395</td>\n",
       "      <td>0.353212</td>\n",
       "      <td>0.426300</td>\n",
       "      <td>...</td>\n",
       "      <td>0.259254</td>\n",
       "      <td>0.219185</td>\n",
       "      <td>0.128572</td>\n",
       "      <td>0.276951</td>\n",
       "      <td>0.441842</td>\n",
       "      <td>0.182518</td>\n",
       "      <td>0.339385</td>\n",
       "      <td>0.180845</td>\n",
       "      <td>0.240672</td>\n",
       "      <td>0.503508</td>\n",
       "    </tr>\n",
       "  </tbody>\n",
       "</table>\n",
       "<p>5 rows × 6750 columns</p>\n",
       "</div>"
      ],
      "text/plain": [
       "              GAS6     MMP14       DSP  MARCKSL1     SPARC      CTSD  \\\n",
       "GAS6      1.000000  0.767277  0.530435  0.376058  0.492968  0.652806   \n",
       "MMP14     0.767277  1.000000  0.490369  0.372943  0.593585  0.608753   \n",
       "DSP       0.530435  0.490369  1.000000  0.309156  0.250510  0.378827   \n",
       "MARCKSL1  0.376058  0.372943  0.309156  1.000000  0.251116  0.380241   \n",
       "SPARC     0.492968  0.593585  0.250510  0.251116  1.000000  0.299277   \n",
       "\n",
       "             EPAS1     PALLD      PHC2  LGALS3BP  ...      LDHB      LDHC  \\\n",
       "GAS6      0.694218  0.598491  0.599584  0.595290  ...  0.096758  0.319135   \n",
       "MMP14     0.652577  0.566899  0.596954  0.591671  ...  0.108111  0.328656   \n",
       "DSP       0.570500  0.603818  0.261268  0.483510  ...  0.102505  0.322113   \n",
       "MARCKSL1  0.254586  0.286491  0.441862  0.339611  ...  0.386577  0.314713   \n",
       "SPARC     0.404538  0.481395  0.353212  0.426300  ...  0.259254  0.219185   \n",
       "\n",
       "             ACAP2     ACAP3      CFL2      CFL1      NFIB   PLEKHG6  \\\n",
       "GAS6      0.243757  0.669781  0.433053  0.397045  0.298712  0.484416   \n",
       "MMP14     0.295322  0.573781  0.372953  0.388056  0.232660  0.498833   \n",
       "DSP       0.181120  0.336312  0.389993  0.143608  0.396473  0.567024   \n",
       "MARCKSL1  0.302932  0.548047  0.313833  0.454887  0.228858  0.352535   \n",
       "SPARC     0.128572  0.276951  0.441842  0.182518  0.339385  0.180845   \n",
       "\n",
       "             GNGT2  SERPINH1  \n",
       "GAS6      0.357766  0.689587  \n",
       "MMP14     0.371384  0.707476  \n",
       "DSP       0.022467  0.615777  \n",
       "MARCKSL1  0.312589  0.478413  \n",
       "SPARC     0.240672  0.503508  \n",
       "\n",
       "[5 rows x 6750 columns]"
      ]
     },
     "execution_count": 17,
     "metadata": {},
     "output_type": "execute_result"
    }
   ],
   "source": [
    "data_corrs.head()"
   ]
  },
  {
   "cell_type": "code",
   "execution_count": 18,
   "id": "31e811b1-4329-494b-9905-ee002b34f4b4",
   "metadata": {
    "execution": {
     "iopub.execute_input": "2021-09-12T23:46:20.159458Z",
     "iopub.status.busy": "2021-09-12T23:46:20.158929Z",
     "iopub.status.idle": "2021-09-12T23:46:20.161704Z",
     "shell.execute_reply": "2021-09-12T23:46:20.161264Z"
    },
    "papermill": {
     "duration": 0.022586,
     "end_time": "2021-09-12T23:46:20.161798",
     "exception": false,
     "start_time": "2021-09-12T23:46:20.139212",
     "status": "completed"
    },
    "tags": []
   },
   "outputs": [
    {
     "data": {
      "text/plain": [
       "PosixPath('/opt/data/results/recount2/similarity_matrices/recount_data_prep_PLIER-spearman.pkl')"
      ]
     },
     "metadata": {},
     "output_type": "display_data"
    }
   ],
   "source": [
    "output_filename = OUTPUT_DIR / f\"{INPUT_FILE.stem}-{method_name}.pkl\"\n",
    "display(output_filename)"
   ]
  },
  {
   "cell_type": "code",
   "execution_count": 19,
   "id": "b3c49a1a-bdf4-4cf9-824d-0d5c0acf2b73",
   "metadata": {
    "execution": {
     "iopub.execute_input": "2021-09-12T23:46:20.199190Z",
     "iopub.status.busy": "2021-09-12T23:46:20.198742Z",
     "iopub.status.idle": "2021-09-12T23:46:22.098416Z",
     "shell.execute_reply": "2021-09-12T23:46:22.096772Z"
    },
    "papermill": {
     "duration": 1.919682,
     "end_time": "2021-09-12T23:46:22.098803",
     "exception": false,
     "start_time": "2021-09-12T23:46:20.179121",
     "status": "completed"
    },
    "tags": []
   },
   "outputs": [],
   "source": [
    "# save\n",
    "data_corrs.to_pickle(output_filename)"
   ]
  },
  {
   "cell_type": "code",
   "execution_count": null,
   "id": "258babdf-03ce-4450-ab22-7a3d75bf6869",
   "metadata": {
    "papermill": {
     "duration": 0.017286,
     "end_time": "2021-09-12T23:46:22.134645",
     "exception": false,
     "start_time": "2021-09-12T23:46:22.117359",
     "status": "completed"
    },
    "tags": []
   },
   "outputs": [],
   "source": []
  }
 ],
 "metadata": {
  "jupytext": {
   "cell_metadata_filter": "all,-execution,-papermill,-trusted"
  },
  "kernelspec": {
   "display_name": "Python 3 (ipykernel)",
   "language": "python",
   "name": "python3"
  },
  "language_info": {
   "codemirror_mode": {
    "name": "ipython",
    "version": 3
   },
   "file_extension": ".py",
   "mimetype": "text/x-python",
   "name": "python",
   "nbconvert_exporter": "python",
   "pygments_lexer": "ipython3",
   "version": "3.9.7"
  },
  "papermill": {
   "default_parameters": {},
   "duration": 731.980022,
   "end_time": "2021-09-12T23:46:22.564870",
   "environment_variables": {},
   "exception": null,
   "input_path": "nbs/10_compute_correlations/10_recount2/06-recount2-spearman.ipynb",
   "output_path": "nbs/10_compute_correlations/10_recount2/06-recount2-spearman.run.ipynb",
   "parameters": {},
   "start_time": "2021-09-12T23:34:10.584848",
   "version": "2.3.3"
  },
  "toc-autonumbering": true
 },
 "nbformat": 4,
 "nbformat_minor": 5
}
