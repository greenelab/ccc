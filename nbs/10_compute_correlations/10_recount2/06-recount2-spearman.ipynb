{
 "cells": [
  {
   "cell_type": "markdown",
   "id": "e9773a95-e8fd-4963-87a5-0c92299434d5",
   "metadata": {
    "papermill": {
     "duration": 0.019795,
     "end_time": "2021-12-26T05:23:46.614124",
     "exception": false,
     "start_time": "2021-12-26T05:23:46.594329",
     "status": "completed"
    },
    "tags": []
   },
   "source": [
    "# Description"
   ]
  },
  {
   "cell_type": "markdown",
   "id": "57f34c74-404d-4776-b547-e6acb2df75d7",
   "metadata": {
    "papermill": {
     "duration": 0.015109,
     "end_time": "2021-12-26T05:23:46.644721",
     "exception": false,
     "start_time": "2021-12-26T05:23:46.629612",
     "status": "completed"
    },
    "tags": []
   },
   "source": [
    "According to the settings specified below, this notebook:\n",
    " 1. reads all the data from one source (GTEx, recount2, etc) according to the gene selection method (`GENE_SELECTION_STRATEGY`),\n",
    " 2. runs a quick performance test using the correlation coefficient specified (`CORRELATION_METHOD`), and\n",
    " 3. computes the correlation matrix across all the genes using the correlation coefficient specified."
   ]
  },
  {
   "cell_type": "markdown",
   "id": "1d8fae6b-e623-46a6-aff6-d7849163c820",
   "metadata": {
    "papermill": {
     "duration": 0.014988,
     "end_time": "2021-12-26T05:23:46.674805",
     "exception": false,
     "start_time": "2021-12-26T05:23:46.659817",
     "status": "completed"
    },
    "tags": []
   },
   "source": [
    "# Modules"
   ]
  },
  {
   "cell_type": "code",
   "execution_count": 1,
   "id": "76729f0e-f742-495b-b676-d9d7b1539e10",
   "metadata": {
    "execution": {
     "iopub.execute_input": "2021-12-26T05:23:46.712341Z",
     "iopub.status.busy": "2021-12-26T05:23:46.707688Z",
     "iopub.status.idle": "2021-12-26T05:23:47.173346Z",
     "shell.execute_reply": "2021-12-26T05:23:47.172828Z"
    },
    "papermill": {
     "duration": 0.483405,
     "end_time": "2021-12-26T05:23:47.173453",
     "exception": false,
     "start_time": "2021-12-26T05:23:46.690048",
     "status": "completed"
    },
    "tags": []
   },
   "outputs": [],
   "source": [
    "import pandas as pd\n",
    "\n",
    "from clustermatch import conf\n",
    "from clustermatch.corr import spearman"
   ]
  },
  {
   "cell_type": "markdown",
   "id": "a6c3a546-9a49-45e7-9f17-fbdb5af4bfb6",
   "metadata": {
    "papermill": {
     "duration": 0.015314,
     "end_time": "2021-12-26T05:23:47.204520",
     "exception": false,
     "start_time": "2021-12-26T05:23:47.189206",
     "status": "completed"
    },
    "tags": []
   },
   "source": [
    "# Settings"
   ]
  },
  {
   "cell_type": "code",
   "execution_count": 2,
   "id": "56ff94d3-a230-4028-a71d-518ac109209b",
   "metadata": {
    "execution": {
     "iopub.execute_input": "2021-12-26T05:23:47.239068Z",
     "iopub.status.busy": "2021-12-26T05:23:47.238617Z",
     "iopub.status.idle": "2021-12-26T05:23:47.240412Z",
     "shell.execute_reply": "2021-12-26T05:23:47.240773Z"
    },
    "papermill": {
     "duration": 0.020768,
     "end_time": "2021-12-26T05:23:47.240886",
     "exception": false,
     "start_time": "2021-12-26T05:23:47.220118",
     "status": "completed"
    },
    "tags": []
   },
   "outputs": [],
   "source": [
    "GENE_SELECTION_STRATEGY = \"var_pc_log2\""
   ]
  },
  {
   "cell_type": "code",
   "execution_count": 3,
   "id": "8baf4209-ba56-4e3d-b60f-6ce2bb686159",
   "metadata": {
    "execution": {
     "iopub.execute_input": "2021-12-26T05:23:47.280723Z",
     "iopub.status.busy": "2021-12-26T05:23:47.279703Z",
     "iopub.status.idle": "2021-12-26T05:23:47.283535Z",
     "shell.execute_reply": "2021-12-26T05:23:47.283114Z"
    },
    "papermill": {
     "duration": 0.026529,
     "end_time": "2021-12-26T05:23:47.283633",
     "exception": false,
     "start_time": "2021-12-26T05:23:47.257104",
     "status": "completed"
    },
    "tags": []
   },
   "outputs": [
    {
     "data": {
      "text/plain": [
       "'spearman'"
      ]
     },
     "metadata": {},
     "output_type": "display_data"
    }
   ],
   "source": [
    "CORRELATION_METHOD = spearman\n",
    "\n",
    "method_name = CORRELATION_METHOD.__name__\n",
    "display(method_name)"
   ]
  },
  {
   "cell_type": "code",
   "execution_count": 4,
   "id": "21a3e349-9a09-4d24-89e3-915fdbf08a81",
   "metadata": {
    "execution": {
     "iopub.execute_input": "2021-12-26T05:23:47.320913Z",
     "iopub.status.busy": "2021-12-26T05:23:47.320454Z",
     "iopub.status.idle": "2021-12-26T05:23:47.322131Z",
     "shell.execute_reply": "2021-12-26T05:23:47.322473Z"
    },
    "papermill": {
     "duration": 0.021291,
     "end_time": "2021-12-26T05:23:47.322587",
     "exception": false,
     "start_time": "2021-12-26T05:23:47.301296",
     "status": "completed"
    },
    "tags": []
   },
   "outputs": [],
   "source": [
    "PERFORMANCE_TEST_N_TOP_GENES = 50"
   ]
  },
  {
   "cell_type": "markdown",
   "id": "b0afcba9-5847-414e-b448-f0cd08ecd8ce",
   "metadata": {
    "papermill": {
     "duration": 0.016436,
     "end_time": "2021-12-26T05:23:47.355729",
     "exception": false,
     "start_time": "2021-12-26T05:23:47.339293",
     "status": "completed"
    },
    "tags": []
   },
   "source": [
    "# Paths"
   ]
  },
  {
   "cell_type": "code",
   "execution_count": 5,
   "id": "35760114-8560-4a0e-ad4f-2bee9104c63d",
   "metadata": {
    "execution": {
     "iopub.execute_input": "2021-12-26T05:23:47.393531Z",
     "iopub.status.busy": "2021-12-26T05:23:47.392935Z",
     "iopub.status.idle": "2021-12-26T05:23:47.395918Z",
     "shell.execute_reply": "2021-12-26T05:23:47.395450Z"
    },
    "papermill": {
     "duration": 0.023278,
     "end_time": "2021-12-26T05:23:47.396033",
     "exception": false,
     "start_time": "2021-12-26T05:23:47.372755",
     "status": "completed"
    },
    "tags": []
   },
   "outputs": [
    {
     "data": {
      "text/plain": [
       "PosixPath('/opt/data/results/recount2full/gene_selection/recount2_rpkm-var_pc_log2.pkl')"
      ]
     },
     "metadata": {},
     "output_type": "display_data"
    }
   ],
   "source": [
    "INPUT_FILE = (\n",
    "    conf.RECOUNT2FULL[\"GENE_SELECTION_DIR\"]\n",
    "    / f\"recount2_rpkm-{GENE_SELECTION_STRATEGY}.pkl\"\n",
    ")\n",
    "display(INPUT_FILE)\n",
    "\n",
    "assert INPUT_FILE.exists()"
   ]
  },
  {
   "cell_type": "code",
   "execution_count": 6,
   "id": "f1418e81-4e77-4f67-b5ed-b29b797e31a0",
   "metadata": {
    "execution": {
     "iopub.execute_input": "2021-12-26T05:23:47.434116Z",
     "iopub.status.busy": "2021-12-26T05:23:47.433550Z",
     "iopub.status.idle": "2021-12-26T05:23:47.435731Z",
     "shell.execute_reply": "2021-12-26T05:23:47.436123Z"
    },
    "papermill": {
     "duration": 0.023017,
     "end_time": "2021-12-26T05:23:47.436238",
     "exception": false,
     "start_time": "2021-12-26T05:23:47.413221",
     "status": "completed"
    },
    "tags": []
   },
   "outputs": [
    {
     "data": {
      "text/plain": [
       "PosixPath('/opt/data/results/recount2full/similarity_matrices')"
      ]
     },
     "metadata": {},
     "output_type": "display_data"
    }
   ],
   "source": [
    "OUTPUT_DIR = conf.RECOUNT2FULL[\"SIMILARITY_MATRICES_DIR\"]\n",
    "OUTPUT_DIR.mkdir(parents=True, exist_ok=True)\n",
    "display(OUTPUT_DIR)"
   ]
  },
  {
   "cell_type": "markdown",
   "id": "5fdf8df6-eba0-4cf5-979c-3acd56a5ef3c",
   "metadata": {
    "papermill": {
     "duration": 0.017194,
     "end_time": "2021-12-26T05:23:47.470795",
     "exception": false,
     "start_time": "2021-12-26T05:23:47.453601",
     "status": "completed"
    },
    "tags": []
   },
   "source": [
    "# Data loading"
   ]
  },
  {
   "cell_type": "code",
   "execution_count": 7,
   "id": "596d25ed-4120-4bef-8984-a91ae6529ab5",
   "metadata": {
    "execution": {
     "iopub.execute_input": "2021-12-26T05:23:47.508297Z",
     "iopub.status.busy": "2021-12-26T05:23:47.507790Z",
     "iopub.status.idle": "2021-12-26T05:23:48.133236Z",
     "shell.execute_reply": "2021-12-26T05:23:48.132748Z"
    },
    "papermill": {
     "duration": 0.645761,
     "end_time": "2021-12-26T05:23:48.133347",
     "exception": false,
     "start_time": "2021-12-26T05:23:47.487586",
     "status": "completed"
    },
    "tags": []
   },
   "outputs": [],
   "source": [
    "data = pd.read_pickle(INPUT_FILE)"
   ]
  },
  {
   "cell_type": "code",
   "execution_count": 8,
   "id": "be8a23da-ea99-43a9-b684-fa645c1d1adc",
   "metadata": {
    "execution": {
     "iopub.execute_input": "2021-12-26T05:23:48.175308Z",
     "iopub.status.busy": "2021-12-26T05:23:48.174657Z",
     "iopub.status.idle": "2021-12-26T05:23:48.177089Z",
     "shell.execute_reply": "2021-12-26T05:23:48.177451Z"
    },
    "papermill": {
     "duration": 0.024775,
     "end_time": "2021-12-26T05:23:48.177564",
     "exception": false,
     "start_time": "2021-12-26T05:23:48.152789",
     "status": "completed"
    },
    "tags": []
   },
   "outputs": [
    {
     "data": {
      "text/plain": [
       "(5000, 37032)"
      ]
     },
     "execution_count": 8,
     "metadata": {},
     "output_type": "execute_result"
    }
   ],
   "source": [
    "data.shape"
   ]
  },
  {
   "cell_type": "code",
   "execution_count": 9,
   "id": "cd693523-4379-400a-a2d2-6b3f617421e6",
   "metadata": {
    "execution": {
     "iopub.execute_input": "2021-12-26T05:23:48.220911Z",
     "iopub.status.busy": "2021-12-26T05:23:48.220446Z",
     "iopub.status.idle": "2021-12-26T05:23:48.238144Z",
     "shell.execute_reply": "2021-12-26T05:23:48.237699Z"
    },
    "papermill": {
     "duration": 0.042672,
     "end_time": "2021-12-26T05:23:48.238238",
     "exception": false,
     "start_time": "2021-12-26T05:23:48.195566",
     "status": "completed"
    },
    "tags": []
   },
   "outputs": [
    {
     "data": {
      "text/html": [
       "<div>\n",
       "<style scoped>\n",
       "    .dataframe tbody tr th:only-of-type {\n",
       "        vertical-align: middle;\n",
       "    }\n",
       "\n",
       "    .dataframe tbody tr th {\n",
       "        vertical-align: top;\n",
       "    }\n",
       "\n",
       "    .dataframe thead th {\n",
       "        text-align: right;\n",
       "    }\n",
       "</style>\n",
       "<table border=\"1\" class=\"dataframe\">\n",
       "  <thead>\n",
       "    <tr style=\"text-align: right;\">\n",
       "      <th></th>\n",
       "      <th>SRP000599.SRR013549</th>\n",
       "      <th>SRP000599.SRR013550</th>\n",
       "      <th>SRP000599.SRR013551</th>\n",
       "      <th>SRP000599.SRR013552</th>\n",
       "      <th>SRP000599.SRR013553</th>\n",
       "      <th>SRP000599.SRR013554</th>\n",
       "      <th>SRP000599.SRR013555</th>\n",
       "      <th>SRP000599.SRR013556</th>\n",
       "      <th>SRP000599.SRR013557</th>\n",
       "      <th>SRP000599.SRR013558</th>\n",
       "      <th>...</th>\n",
       "      <th>SRP035599.SRR1139372</th>\n",
       "      <th>SRP035599.SRR1139393</th>\n",
       "      <th>SRP035599.SRR1139388</th>\n",
       "      <th>SRP035599.SRR1139378</th>\n",
       "      <th>SRP035599.SRR1139399</th>\n",
       "      <th>SRP035599.SRR1139386</th>\n",
       "      <th>SRP035599.SRR1139375</th>\n",
       "      <th>SRP035599.SRR1139382</th>\n",
       "      <th>SRP035599.SRR1139356</th>\n",
       "      <th>SRP035599.SRR1139370</th>\n",
       "    </tr>\n",
       "  </thead>\n",
       "  <tbody>\n",
       "    <tr>\n",
       "      <th>ENSG00000283293</th>\n",
       "      <td>45.340502</td>\n",
       "      <td>2.334996</td>\n",
       "      <td>822.911013</td>\n",
       "      <td>0.000000</td>\n",
       "      <td>0.000000</td>\n",
       "      <td>59.262734</td>\n",
       "      <td>89.232042</td>\n",
       "      <td>52.689774</td>\n",
       "      <td>84.642278</td>\n",
       "      <td>76.550334</td>\n",
       "      <td>...</td>\n",
       "      <td>107.729307</td>\n",
       "      <td>212.671129</td>\n",
       "      <td>40.966736</td>\n",
       "      <td>90.314617</td>\n",
       "      <td>341.722891</td>\n",
       "      <td>182.996937</td>\n",
       "      <td>399.501963</td>\n",
       "      <td>223.983651</td>\n",
       "      <td>150.315163</td>\n",
       "      <td>46.134643</td>\n",
       "    </tr>\n",
       "    <tr>\n",
       "      <th>ENSG00000202198</th>\n",
       "      <td>45.141293</td>\n",
       "      <td>2.313833</td>\n",
       "      <td>816.267243</td>\n",
       "      <td>0.000000</td>\n",
       "      <td>0.000000</td>\n",
       "      <td>59.119741</td>\n",
       "      <td>88.423293</td>\n",
       "      <td>52.212223</td>\n",
       "      <td>84.268908</td>\n",
       "      <td>76.021789</td>\n",
       "      <td>...</td>\n",
       "      <td>106.752908</td>\n",
       "      <td>210.743596</td>\n",
       "      <td>40.595436</td>\n",
       "      <td>89.496055</td>\n",
       "      <td>338.625704</td>\n",
       "      <td>181.339452</td>\n",
       "      <td>395.881099</td>\n",
       "      <td>221.954266</td>\n",
       "      <td>148.952790</td>\n",
       "      <td>45.716504</td>\n",
       "    </tr>\n",
       "    <tr>\n",
       "      <th>ENSG00000277027</th>\n",
       "      <td>2892.902222</td>\n",
       "      <td>64.923624</td>\n",
       "      <td>2325.178875</td>\n",
       "      <td>2040.439754</td>\n",
       "      <td>737.335980</td>\n",
       "      <td>750.130979</td>\n",
       "      <td>897.111915</td>\n",
       "      <td>872.432824</td>\n",
       "      <td>828.456318</td>\n",
       "      <td>775.575618</td>\n",
       "      <td>...</td>\n",
       "      <td>14.262494</td>\n",
       "      <td>100.647909</td>\n",
       "      <td>7.627791</td>\n",
       "      <td>10.965602</td>\n",
       "      <td>130.146293</td>\n",
       "      <td>25.545523</td>\n",
       "      <td>105.272058</td>\n",
       "      <td>71.787249</td>\n",
       "      <td>45.647575</td>\n",
       "      <td>10.079155</td>\n",
       "    </tr>\n",
       "    <tr>\n",
       "      <th>ENSG00000269900</th>\n",
       "      <td>2929.378999</td>\n",
       "      <td>65.629851</td>\n",
       "      <td>2316.634319</td>\n",
       "      <td>2063.037408</td>\n",
       "      <td>758.072935</td>\n",
       "      <td>759.542097</td>\n",
       "      <td>908.185083</td>\n",
       "      <td>884.121024</td>\n",
       "      <td>839.435983</td>\n",
       "      <td>783.798951</td>\n",
       "      <td>...</td>\n",
       "      <td>14.049621</td>\n",
       "      <td>99.146533</td>\n",
       "      <td>7.515042</td>\n",
       "      <td>10.801936</td>\n",
       "      <td>128.203811</td>\n",
       "      <td>25.164247</td>\n",
       "      <td>103.700833</td>\n",
       "      <td>70.717475</td>\n",
       "      <td>44.967907</td>\n",
       "      <td>9.928720</td>\n",
       "    </tr>\n",
       "    <tr>\n",
       "      <th>ENSG00000274012</th>\n",
       "      <td>4.345167</td>\n",
       "      <td>4.489634</td>\n",
       "      <td>2414.223064</td>\n",
       "      <td>229.321454</td>\n",
       "      <td>251.869422</td>\n",
       "      <td>118.716381</td>\n",
       "      <td>991.603565</td>\n",
       "      <td>841.500002</td>\n",
       "      <td>923.032654</td>\n",
       "      <td>919.186612</td>\n",
       "      <td>...</td>\n",
       "      <td>4189.905669</td>\n",
       "      <td>813.318752</td>\n",
       "      <td>237.672987</td>\n",
       "      <td>3093.486852</td>\n",
       "      <td>1069.247832</td>\n",
       "      <td>3972.654129</td>\n",
       "      <td>1120.269285</td>\n",
       "      <td>1177.947546</td>\n",
       "      <td>784.626799</td>\n",
       "      <td>1120.676727</td>\n",
       "    </tr>\n",
       "  </tbody>\n",
       "</table>\n",
       "<p>5 rows × 37032 columns</p>\n",
       "</div>"
      ],
      "text/plain": [
       "                 SRP000599.SRR013549  SRP000599.SRR013550  \\\n",
       "ENSG00000283293            45.340502             2.334996   \n",
       "ENSG00000202198            45.141293             2.313833   \n",
       "ENSG00000277027          2892.902222            64.923624   \n",
       "ENSG00000269900          2929.378999            65.629851   \n",
       "ENSG00000274012             4.345167             4.489634   \n",
       "\n",
       "                 SRP000599.SRR013551  SRP000599.SRR013552  \\\n",
       "ENSG00000283293           822.911013             0.000000   \n",
       "ENSG00000202198           816.267243             0.000000   \n",
       "ENSG00000277027          2325.178875          2040.439754   \n",
       "ENSG00000269900          2316.634319          2063.037408   \n",
       "ENSG00000274012          2414.223064           229.321454   \n",
       "\n",
       "                 SRP000599.SRR013553  SRP000599.SRR013554  \\\n",
       "ENSG00000283293             0.000000            59.262734   \n",
       "ENSG00000202198             0.000000            59.119741   \n",
       "ENSG00000277027           737.335980           750.130979   \n",
       "ENSG00000269900           758.072935           759.542097   \n",
       "ENSG00000274012           251.869422           118.716381   \n",
       "\n",
       "                 SRP000599.SRR013555  SRP000599.SRR013556  \\\n",
       "ENSG00000283293            89.232042            52.689774   \n",
       "ENSG00000202198            88.423293            52.212223   \n",
       "ENSG00000277027           897.111915           872.432824   \n",
       "ENSG00000269900           908.185083           884.121024   \n",
       "ENSG00000274012           991.603565           841.500002   \n",
       "\n",
       "                 SRP000599.SRR013557  SRP000599.SRR013558  ...  \\\n",
       "ENSG00000283293            84.642278            76.550334  ...   \n",
       "ENSG00000202198            84.268908            76.021789  ...   \n",
       "ENSG00000277027           828.456318           775.575618  ...   \n",
       "ENSG00000269900           839.435983           783.798951  ...   \n",
       "ENSG00000274012           923.032654           919.186612  ...   \n",
       "\n",
       "                 SRP035599.SRR1139372  SRP035599.SRR1139393  \\\n",
       "ENSG00000283293            107.729307            212.671129   \n",
       "ENSG00000202198            106.752908            210.743596   \n",
       "ENSG00000277027             14.262494            100.647909   \n",
       "ENSG00000269900             14.049621             99.146533   \n",
       "ENSG00000274012           4189.905669            813.318752   \n",
       "\n",
       "                 SRP035599.SRR1139388  SRP035599.SRR1139378  \\\n",
       "ENSG00000283293             40.966736             90.314617   \n",
       "ENSG00000202198             40.595436             89.496055   \n",
       "ENSG00000277027              7.627791             10.965602   \n",
       "ENSG00000269900              7.515042             10.801936   \n",
       "ENSG00000274012            237.672987           3093.486852   \n",
       "\n",
       "                 SRP035599.SRR1139399  SRP035599.SRR1139386  \\\n",
       "ENSG00000283293            341.722891            182.996937   \n",
       "ENSG00000202198            338.625704            181.339452   \n",
       "ENSG00000277027            130.146293             25.545523   \n",
       "ENSG00000269900            128.203811             25.164247   \n",
       "ENSG00000274012           1069.247832           3972.654129   \n",
       "\n",
       "                 SRP035599.SRR1139375  SRP035599.SRR1139382  \\\n",
       "ENSG00000283293            399.501963            223.983651   \n",
       "ENSG00000202198            395.881099            221.954266   \n",
       "ENSG00000277027            105.272058             71.787249   \n",
       "ENSG00000269900            103.700833             70.717475   \n",
       "ENSG00000274012           1120.269285           1177.947546   \n",
       "\n",
       "                 SRP035599.SRR1139356  SRP035599.SRR1139370  \n",
       "ENSG00000283293            150.315163             46.134643  \n",
       "ENSG00000202198            148.952790             45.716504  \n",
       "ENSG00000277027             45.647575             10.079155  \n",
       "ENSG00000269900             44.967907              9.928720  \n",
       "ENSG00000274012            784.626799           1120.676727  \n",
       "\n",
       "[5 rows x 37032 columns]"
      ]
     },
     "execution_count": 9,
     "metadata": {},
     "output_type": "execute_result"
    }
   ],
   "source": [
    "data.head()"
   ]
  },
  {
   "cell_type": "markdown",
   "id": "081da632-fd12-462a-9ae1-c0ceccf1bb5d",
   "metadata": {
    "papermill": {
     "duration": 0.017894,
     "end_time": "2021-12-26T05:23:48.275030",
     "exception": false,
     "start_time": "2021-12-26T05:23:48.257136",
     "status": "completed"
    },
    "tags": []
   },
   "source": [
    "# Compute similarity"
   ]
  },
  {
   "cell_type": "markdown",
   "id": "37137fff-2d3a-43d8-9bd5-d7c3284a97f5",
   "metadata": {
    "papermill": {
     "duration": 0.018012,
     "end_time": "2021-12-26T05:23:48.310991",
     "exception": false,
     "start_time": "2021-12-26T05:23:48.292979",
     "status": "completed"
    },
    "tags": []
   },
   "source": [
    "## Performance test"
   ]
  },
  {
   "cell_type": "code",
   "execution_count": 10,
   "id": "5dd40707-759f-4bf9-b8cc-84811b2dfe53",
   "metadata": {
    "execution": {
     "iopub.execute_input": "2021-12-26T05:23:48.370591Z",
     "iopub.status.busy": "2021-12-26T05:23:48.349784Z",
     "iopub.status.idle": "2021-12-26T05:23:48.372779Z",
     "shell.execute_reply": "2021-12-26T05:23:48.372278Z"
    },
    "papermill": {
     "duration": 0.044151,
     "end_time": "2021-12-26T05:23:48.372900",
     "exception": false,
     "start_time": "2021-12-26T05:23:48.328749",
     "status": "completed"
    },
    "tags": []
   },
   "outputs": [],
   "source": [
    "# select a subset of the genes\n",
    "test_data = data.sample(n=PERFORMANCE_TEST_N_TOP_GENES, random_state=0)"
   ]
  },
  {
   "cell_type": "code",
   "execution_count": 11,
   "id": "e8acd036-93f7-46c0-a1ee-8da0c2c24790",
   "metadata": {
    "execution": {
     "iopub.execute_input": "2021-12-26T05:23:48.423754Z",
     "iopub.status.busy": "2021-12-26T05:23:48.423265Z",
     "iopub.status.idle": "2021-12-26T05:23:48.425816Z",
     "shell.execute_reply": "2021-12-26T05:23:48.425344Z"
    },
    "papermill": {
     "duration": 0.028367,
     "end_time": "2021-12-26T05:23:48.425916",
     "exception": false,
     "start_time": "2021-12-26T05:23:48.397549",
     "status": "completed"
    },
    "tags": []
   },
   "outputs": [
    {
     "data": {
      "text/plain": [
       "(50, 37032)"
      ]
     },
     "execution_count": 11,
     "metadata": {},
     "output_type": "execute_result"
    }
   ],
   "source": [
    "test_data.shape"
   ]
  },
  {
   "cell_type": "code",
   "execution_count": 12,
   "id": "111e360b-dbe4-4b69-9029-7b7669eb5ddc",
   "metadata": {
    "execution": {
     "iopub.execute_input": "2021-12-26T05:23:48.469227Z",
     "iopub.status.busy": "2021-12-26T05:23:48.468776Z",
     "iopub.status.idle": "2021-12-26T05:23:48.485286Z",
     "shell.execute_reply": "2021-12-26T05:23:48.484852Z"
    },
    "papermill": {
     "duration": 0.039272,
     "end_time": "2021-12-26T05:23:48.485377",
     "exception": false,
     "start_time": "2021-12-26T05:23:48.446105",
     "status": "completed"
    },
    "tags": []
   },
   "outputs": [
    {
     "data": {
      "text/html": [
       "<div>\n",
       "<style scoped>\n",
       "    .dataframe tbody tr th:only-of-type {\n",
       "        vertical-align: middle;\n",
       "    }\n",
       "\n",
       "    .dataframe tbody tr th {\n",
       "        vertical-align: top;\n",
       "    }\n",
       "\n",
       "    .dataframe thead th {\n",
       "        text-align: right;\n",
       "    }\n",
       "</style>\n",
       "<table border=\"1\" class=\"dataframe\">\n",
       "  <thead>\n",
       "    <tr style=\"text-align: right;\">\n",
       "      <th></th>\n",
       "      <th>SRP000599.SRR013549</th>\n",
       "      <th>SRP000599.SRR013550</th>\n",
       "      <th>SRP000599.SRR013551</th>\n",
       "      <th>SRP000599.SRR013552</th>\n",
       "      <th>SRP000599.SRR013553</th>\n",
       "      <th>SRP000599.SRR013554</th>\n",
       "      <th>SRP000599.SRR013555</th>\n",
       "      <th>SRP000599.SRR013556</th>\n",
       "      <th>SRP000599.SRR013557</th>\n",
       "      <th>SRP000599.SRR013558</th>\n",
       "      <th>...</th>\n",
       "      <th>SRP035599.SRR1139372</th>\n",
       "      <th>SRP035599.SRR1139393</th>\n",
       "      <th>SRP035599.SRR1139388</th>\n",
       "      <th>SRP035599.SRR1139378</th>\n",
       "      <th>SRP035599.SRR1139399</th>\n",
       "      <th>SRP035599.SRR1139386</th>\n",
       "      <th>SRP035599.SRR1139375</th>\n",
       "      <th>SRP035599.SRR1139382</th>\n",
       "      <th>SRP035599.SRR1139356</th>\n",
       "      <th>SRP035599.SRR1139370</th>\n",
       "    </tr>\n",
       "  </thead>\n",
       "  <tbody>\n",
       "    <tr>\n",
       "      <th>ENSG00000264281</th>\n",
       "      <td>0.000000</td>\n",
       "      <td>0.000000</td>\n",
       "      <td>0.000000</td>\n",
       "      <td>0.000000</td>\n",
       "      <td>0.000000</td>\n",
       "      <td>0.000000</td>\n",
       "      <td>0.000000</td>\n",
       "      <td>0.000000</td>\n",
       "      <td>0.000000</td>\n",
       "      <td>0.000000</td>\n",
       "      <td>...</td>\n",
       "      <td>895.257951</td>\n",
       "      <td>1178.463237</td>\n",
       "      <td>1545.326624</td>\n",
       "      <td>944.996223</td>\n",
       "      <td>1438.281708</td>\n",
       "      <td>1080.115776</td>\n",
       "      <td>1715.689533</td>\n",
       "      <td>1559.217986</td>\n",
       "      <td>1132.025119</td>\n",
       "      <td>1879.164263</td>\n",
       "    </tr>\n",
       "    <tr>\n",
       "      <th>ENSG00000110104</th>\n",
       "      <td>0.000000</td>\n",
       "      <td>0.568504</td>\n",
       "      <td>0.000000</td>\n",
       "      <td>0.000000</td>\n",
       "      <td>0.000000</td>\n",
       "      <td>0.000000</td>\n",
       "      <td>0.000000</td>\n",
       "      <td>0.000000</td>\n",
       "      <td>0.000000</td>\n",
       "      <td>0.000000</td>\n",
       "      <td>...</td>\n",
       "      <td>24.224516</td>\n",
       "      <td>29.376698</td>\n",
       "      <td>32.230910</td>\n",
       "      <td>32.778868</td>\n",
       "      <td>33.383575</td>\n",
       "      <td>19.411770</td>\n",
       "      <td>32.288124</td>\n",
       "      <td>39.917430</td>\n",
       "      <td>30.828314</td>\n",
       "      <td>40.215054</td>\n",
       "    </tr>\n",
       "    <tr>\n",
       "      <th>ENSG00000160883</th>\n",
       "      <td>0.000000</td>\n",
       "      <td>0.000000</td>\n",
       "      <td>0.000000</td>\n",
       "      <td>0.000000</td>\n",
       "      <td>0.000000</td>\n",
       "      <td>0.000000</td>\n",
       "      <td>0.000000</td>\n",
       "      <td>0.000000</td>\n",
       "      <td>0.000000</td>\n",
       "      <td>0.000000</td>\n",
       "      <td>...</td>\n",
       "      <td>0.123248</td>\n",
       "      <td>0.013679</td>\n",
       "      <td>0.018089</td>\n",
       "      <td>0.025117</td>\n",
       "      <td>0.029487</td>\n",
       "      <td>0.000000</td>\n",
       "      <td>0.000000</td>\n",
       "      <td>1.501656</td>\n",
       "      <td>0.000000</td>\n",
       "      <td>0.117545</td>\n",
       "    </tr>\n",
       "    <tr>\n",
       "      <th>ENSG00000080822</th>\n",
       "      <td>0.000000</td>\n",
       "      <td>0.000000</td>\n",
       "      <td>0.000000</td>\n",
       "      <td>0.879132</td>\n",
       "      <td>2.014272</td>\n",
       "      <td>0.183379</td>\n",
       "      <td>0.000000</td>\n",
       "      <td>2.229092</td>\n",
       "      <td>0.000000</td>\n",
       "      <td>0.241166</td>\n",
       "      <td>...</td>\n",
       "      <td>20.742053</td>\n",
       "      <td>21.185725</td>\n",
       "      <td>18.188702</td>\n",
       "      <td>20.825416</td>\n",
       "      <td>15.496153</td>\n",
       "      <td>22.311505</td>\n",
       "      <td>17.215879</td>\n",
       "      <td>22.453095</td>\n",
       "      <td>19.407953</td>\n",
       "      <td>8.222836</td>\n",
       "    </tr>\n",
       "    <tr>\n",
       "      <th>ENSG00000199990</th>\n",
       "      <td>8961.747789</td>\n",
       "      <td>35.746340</td>\n",
       "      <td>422.171726</td>\n",
       "      <td>13326.124486</td>\n",
       "      <td>0.000000</td>\n",
       "      <td>170.868658</td>\n",
       "      <td>188.025434</td>\n",
       "      <td>218.618043</td>\n",
       "      <td>147.456667</td>\n",
       "      <td>98.354233</td>\n",
       "      <td>...</td>\n",
       "      <td>0.000000</td>\n",
       "      <td>0.369069</td>\n",
       "      <td>0.544603</td>\n",
       "      <td>0.724930</td>\n",
       "      <td>0.000000</td>\n",
       "      <td>0.000000</td>\n",
       "      <td>0.000000</td>\n",
       "      <td>0.127091</td>\n",
       "      <td>0.000000</td>\n",
       "      <td>0.752035</td>\n",
       "    </tr>\n",
       "  </tbody>\n",
       "</table>\n",
       "<p>5 rows × 37032 columns</p>\n",
       "</div>"
      ],
      "text/plain": [
       "                 SRP000599.SRR013549  SRP000599.SRR013550  \\\n",
       "ENSG00000264281             0.000000             0.000000   \n",
       "ENSG00000110104             0.000000             0.568504   \n",
       "ENSG00000160883             0.000000             0.000000   \n",
       "ENSG00000080822             0.000000             0.000000   \n",
       "ENSG00000199990          8961.747789            35.746340   \n",
       "\n",
       "                 SRP000599.SRR013551  SRP000599.SRR013552  \\\n",
       "ENSG00000264281             0.000000             0.000000   \n",
       "ENSG00000110104             0.000000             0.000000   \n",
       "ENSG00000160883             0.000000             0.000000   \n",
       "ENSG00000080822             0.000000             0.879132   \n",
       "ENSG00000199990           422.171726         13326.124486   \n",
       "\n",
       "                 SRP000599.SRR013553  SRP000599.SRR013554  \\\n",
       "ENSG00000264281             0.000000             0.000000   \n",
       "ENSG00000110104             0.000000             0.000000   \n",
       "ENSG00000160883             0.000000             0.000000   \n",
       "ENSG00000080822             2.014272             0.183379   \n",
       "ENSG00000199990             0.000000           170.868658   \n",
       "\n",
       "                 SRP000599.SRR013555  SRP000599.SRR013556  \\\n",
       "ENSG00000264281             0.000000             0.000000   \n",
       "ENSG00000110104             0.000000             0.000000   \n",
       "ENSG00000160883             0.000000             0.000000   \n",
       "ENSG00000080822             0.000000             2.229092   \n",
       "ENSG00000199990           188.025434           218.618043   \n",
       "\n",
       "                 SRP000599.SRR013557  SRP000599.SRR013558  ...  \\\n",
       "ENSG00000264281             0.000000             0.000000  ...   \n",
       "ENSG00000110104             0.000000             0.000000  ...   \n",
       "ENSG00000160883             0.000000             0.000000  ...   \n",
       "ENSG00000080822             0.000000             0.241166  ...   \n",
       "ENSG00000199990           147.456667            98.354233  ...   \n",
       "\n",
       "                 SRP035599.SRR1139372  SRP035599.SRR1139393  \\\n",
       "ENSG00000264281            895.257951           1178.463237   \n",
       "ENSG00000110104             24.224516             29.376698   \n",
       "ENSG00000160883              0.123248              0.013679   \n",
       "ENSG00000080822             20.742053             21.185725   \n",
       "ENSG00000199990              0.000000              0.369069   \n",
       "\n",
       "                 SRP035599.SRR1139388  SRP035599.SRR1139378  \\\n",
       "ENSG00000264281           1545.326624            944.996223   \n",
       "ENSG00000110104             32.230910             32.778868   \n",
       "ENSG00000160883              0.018089              0.025117   \n",
       "ENSG00000080822             18.188702             20.825416   \n",
       "ENSG00000199990              0.544603              0.724930   \n",
       "\n",
       "                 SRP035599.SRR1139399  SRP035599.SRR1139386  \\\n",
       "ENSG00000264281           1438.281708           1080.115776   \n",
       "ENSG00000110104             33.383575             19.411770   \n",
       "ENSG00000160883              0.029487              0.000000   \n",
       "ENSG00000080822             15.496153             22.311505   \n",
       "ENSG00000199990              0.000000              0.000000   \n",
       "\n",
       "                 SRP035599.SRR1139375  SRP035599.SRR1139382  \\\n",
       "ENSG00000264281           1715.689533           1559.217986   \n",
       "ENSG00000110104             32.288124             39.917430   \n",
       "ENSG00000160883              0.000000              1.501656   \n",
       "ENSG00000080822             17.215879             22.453095   \n",
       "ENSG00000199990              0.000000              0.127091   \n",
       "\n",
       "                 SRP035599.SRR1139356  SRP035599.SRR1139370  \n",
       "ENSG00000264281           1132.025119           1879.164263  \n",
       "ENSG00000110104             30.828314             40.215054  \n",
       "ENSG00000160883              0.000000              0.117545  \n",
       "ENSG00000080822             19.407953              8.222836  \n",
       "ENSG00000199990              0.000000              0.752035  \n",
       "\n",
       "[5 rows x 37032 columns]"
      ]
     },
     "execution_count": 12,
     "metadata": {},
     "output_type": "execute_result"
    }
   ],
   "source": [
    "test_data.head()"
   ]
  },
  {
   "cell_type": "markdown",
   "id": "5903f3f5-791e-4f03-9d79-600102933d04",
   "metadata": {
    "papermill": {
     "duration": 0.019092,
     "end_time": "2021-12-26T05:23:48.524162",
     "exception": false,
     "start_time": "2021-12-26T05:23:48.505070",
     "status": "completed"
    },
    "tags": []
   },
   "source": [
    "This is a quick performance test of the correlation measure. The following line (`_tmp = ...`) is the setup code, which is needed in case the correlation method was optimized using `numba` and needs to be compiled before performing the test."
   ]
  },
  {
   "cell_type": "code",
   "execution_count": 13,
   "id": "118a6631-1cfd-44a3-bd85-5ec7118edd03",
   "metadata": {
    "execution": {
     "iopub.execute_input": "2021-12-26T05:23:48.575773Z",
     "iopub.status.busy": "2021-12-26T05:23:48.575268Z",
     "iopub.status.idle": "2021-12-26T05:23:48.592984Z",
     "shell.execute_reply": "2021-12-26T05:23:48.592560Z"
    },
    "papermill": {
     "duration": 0.049176,
     "end_time": "2021-12-26T05:23:48.593080",
     "exception": false,
     "start_time": "2021-12-26T05:23:48.543904",
     "status": "completed"
    },
    "tags": []
   },
   "outputs": [
    {
     "data": {
      "text/plain": [
       "(3, 3)"
      ]
     },
     "metadata": {},
     "output_type": "display_data"
    },
    {
     "data": {
      "text/html": [
       "<div>\n",
       "<style scoped>\n",
       "    .dataframe tbody tr th:only-of-type {\n",
       "        vertical-align: middle;\n",
       "    }\n",
       "\n",
       "    .dataframe tbody tr th {\n",
       "        vertical-align: top;\n",
       "    }\n",
       "\n",
       "    .dataframe thead th {\n",
       "        text-align: right;\n",
       "    }\n",
       "</style>\n",
       "<table border=\"1\" class=\"dataframe\">\n",
       "  <thead>\n",
       "    <tr style=\"text-align: right;\">\n",
       "      <th></th>\n",
       "      <th>ENSG00000264281</th>\n",
       "      <th>ENSG00000110104</th>\n",
       "      <th>ENSG00000160883</th>\n",
       "    </tr>\n",
       "  </thead>\n",
       "  <tbody>\n",
       "    <tr>\n",
       "      <th>ENSG00000264281</th>\n",
       "      <td>1.000000</td>\n",
       "      <td>0.482396</td>\n",
       "      <td>0.142065</td>\n",
       "    </tr>\n",
       "    <tr>\n",
       "      <th>ENSG00000110104</th>\n",
       "      <td>0.482396</td>\n",
       "      <td>1.000000</td>\n",
       "      <td>0.044178</td>\n",
       "    </tr>\n",
       "    <tr>\n",
       "      <th>ENSG00000160883</th>\n",
       "      <td>0.142065</td>\n",
       "      <td>0.044178</td>\n",
       "      <td>1.000000</td>\n",
       "    </tr>\n",
       "  </tbody>\n",
       "</table>\n",
       "</div>"
      ],
      "text/plain": [
       "                 ENSG00000264281  ENSG00000110104  ENSG00000160883\n",
       "ENSG00000264281         1.000000         0.482396         0.142065\n",
       "ENSG00000110104         0.482396         1.000000         0.044178\n",
       "ENSG00000160883         0.142065         0.044178         1.000000"
      ]
     },
     "metadata": {},
     "output_type": "display_data"
    }
   ],
   "source": [
    "_tmp = CORRELATION_METHOD(test_data.iloc[:3])\n",
    "\n",
    "display(_tmp.shape)\n",
    "display(_tmp)"
   ]
  },
  {
   "cell_type": "code",
   "execution_count": 14,
   "id": "d32281d8-f640-4f87-a1d5-aefa0757e9c3",
   "metadata": {
    "execution": {
     "iopub.execute_input": "2021-12-26T05:23:48.639050Z",
     "iopub.status.busy": "2021-12-26T05:23:48.638406Z",
     "iopub.status.idle": "2021-12-26T05:24:03.769896Z",
     "shell.execute_reply": "2021-12-26T05:24:03.770271Z"
    },
    "papermill": {
     "duration": 15.155911,
     "end_time": "2021-12-26T05:24:03.770400",
     "exception": false,
     "start_time": "2021-12-26T05:23:48.614489",
     "status": "completed"
    },
    "tags": []
   },
   "outputs": [
    {
     "name": "stdout",
     "output_type": "stream",
     "text": [
      "187 ms ± 985 µs per loop (mean ± std. dev. of 7 runs, 10 loops each)\n"
     ]
    }
   ],
   "source": [
    "%timeit CORRELATION_METHOD(test_data)"
   ]
  },
  {
   "cell_type": "markdown",
   "id": "fc2f7184-c0da-438c-94f5-002912793636",
   "metadata": {
    "papermill": {
     "duration": 0.020372,
     "end_time": "2021-12-26T05:24:03.812177",
     "exception": false,
     "start_time": "2021-12-26T05:24:03.791805",
     "status": "completed"
    },
    "tags": []
   },
   "source": [
    "## Run"
   ]
  },
  {
   "cell_type": "code",
   "execution_count": 15,
   "id": "189b0295-f968-42b2-9377-a6c404182b01",
   "metadata": {
    "execution": {
     "iopub.execute_input": "2021-12-26T05:24:03.856580Z",
     "iopub.status.busy": "2021-12-26T05:24:03.856104Z",
     "iopub.status.idle": "2021-12-26T05:30:25.000812Z",
     "shell.execute_reply": "2021-12-26T05:30:25.000244Z"
    },
    "papermill": {
     "duration": 381.167847,
     "end_time": "2021-12-26T05:30:25.000930",
     "exception": false,
     "start_time": "2021-12-26T05:24:03.833083",
     "status": "completed"
    },
    "tags": []
   },
   "outputs": [],
   "source": [
    "# compute correlations\n",
    "data_corrs = CORRELATION_METHOD(data)"
   ]
  },
  {
   "cell_type": "code",
   "execution_count": 16,
   "id": "bd93f2d7-d1fe-46c5-9a8c-92cac91ef7c6",
   "metadata": {
    "execution": {
     "iopub.execute_input": "2021-12-26T05:30:25.050436Z",
     "iopub.status.busy": "2021-12-26T05:30:25.049728Z",
     "iopub.status.idle": "2021-12-26T05:30:25.052976Z",
     "shell.execute_reply": "2021-12-26T05:30:25.052531Z"
    },
    "papermill": {
     "duration": 0.027637,
     "end_time": "2021-12-26T05:30:25.053071",
     "exception": false,
     "start_time": "2021-12-26T05:30:25.025434",
     "status": "completed"
    },
    "tags": []
   },
   "outputs": [
    {
     "data": {
      "text/plain": [
       "(5000, 5000)"
      ]
     },
     "metadata": {},
     "output_type": "display_data"
    }
   ],
   "source": [
    "display(data_corrs.shape)\n",
    "\n",
    "assert data.shape[0] == data_corrs.shape[0]"
   ]
  },
  {
   "cell_type": "code",
   "execution_count": 17,
   "id": "da4f952a-539d-4007-bbfb-a57e426fb68a",
   "metadata": {
    "execution": {
     "iopub.execute_input": "2021-12-26T05:30:25.100686Z",
     "iopub.status.busy": "2021-12-26T05:30:25.100214Z",
     "iopub.status.idle": "2021-12-26T05:30:25.116178Z",
     "shell.execute_reply": "2021-12-26T05:30:25.115705Z"
    },
    "papermill": {
     "duration": 0.041568,
     "end_time": "2021-12-26T05:30:25.116275",
     "exception": false,
     "start_time": "2021-12-26T05:30:25.074707",
     "status": "completed"
    },
    "tags": []
   },
   "outputs": [
    {
     "data": {
      "text/html": [
       "<div>\n",
       "<style scoped>\n",
       "    .dataframe tbody tr th:only-of-type {\n",
       "        vertical-align: middle;\n",
       "    }\n",
       "\n",
       "    .dataframe tbody tr th {\n",
       "        vertical-align: top;\n",
       "    }\n",
       "\n",
       "    .dataframe thead th {\n",
       "        text-align: right;\n",
       "    }\n",
       "</style>\n",
       "<table border=\"1\" class=\"dataframe\">\n",
       "  <thead>\n",
       "    <tr style=\"text-align: right;\">\n",
       "      <th></th>\n",
       "      <th>ENSG00000283293</th>\n",
       "      <th>ENSG00000202198</th>\n",
       "      <th>ENSG00000277027</th>\n",
       "      <th>ENSG00000269900</th>\n",
       "      <th>ENSG00000274012</th>\n",
       "      <th>ENSG00000276168</th>\n",
       "      <th>ENSG00000222328</th>\n",
       "      <th>ENSG00000277209</th>\n",
       "      <th>ENSG00000199153</th>\n",
       "      <th>ENSG00000198975</th>\n",
       "      <th>...</th>\n",
       "      <th>ENSG00000091140</th>\n",
       "      <th>ENSG00000271029</th>\n",
       "      <th>ENSG00000053372</th>\n",
       "      <th>ENSG00000113845</th>\n",
       "      <th>ENSG00000231864</th>\n",
       "      <th>ENSG00000141574</th>\n",
       "      <th>ENSG00000169750</th>\n",
       "      <th>ENSG00000129559</th>\n",
       "      <th>ENSG00000237441</th>\n",
       "      <th>ENSG00000204103</th>\n",
       "    </tr>\n",
       "  </thead>\n",
       "  <tbody>\n",
       "    <tr>\n",
       "      <th>ENSG00000283293</th>\n",
       "      <td>1.000000</td>\n",
       "      <td>0.999995</td>\n",
       "      <td>0.775942</td>\n",
       "      <td>0.775672</td>\n",
       "      <td>0.746934</td>\n",
       "      <td>0.742736</td>\n",
       "      <td>0.597757</td>\n",
       "      <td>0.754145</td>\n",
       "      <td>0.184315</td>\n",
       "      <td>0.183930</td>\n",
       "      <td>...</td>\n",
       "      <td>-0.065746</td>\n",
       "      <td>-0.000966</td>\n",
       "      <td>0.043880</td>\n",
       "      <td>-0.056071</td>\n",
       "      <td>0.163562</td>\n",
       "      <td>0.167481</td>\n",
       "      <td>0.201552</td>\n",
       "      <td>-0.104922</td>\n",
       "      <td>0.120857</td>\n",
       "      <td>0.186545</td>\n",
       "    </tr>\n",
       "    <tr>\n",
       "      <th>ENSG00000202198</th>\n",
       "      <td>0.999995</td>\n",
       "      <td>1.000000</td>\n",
       "      <td>0.776191</td>\n",
       "      <td>0.775924</td>\n",
       "      <td>0.746909</td>\n",
       "      <td>0.742660</td>\n",
       "      <td>0.598109</td>\n",
       "      <td>0.754395</td>\n",
       "      <td>0.185232</td>\n",
       "      <td>0.184681</td>\n",
       "      <td>...</td>\n",
       "      <td>-0.066264</td>\n",
       "      <td>-0.001348</td>\n",
       "      <td>0.043305</td>\n",
       "      <td>-0.056482</td>\n",
       "      <td>0.162850</td>\n",
       "      <td>0.166897</td>\n",
       "      <td>0.201062</td>\n",
       "      <td>-0.105502</td>\n",
       "      <td>0.120152</td>\n",
       "      <td>0.186211</td>\n",
       "    </tr>\n",
       "    <tr>\n",
       "      <th>ENSG00000277027</th>\n",
       "      <td>0.775942</td>\n",
       "      <td>0.776191</td>\n",
       "      <td>1.000000</td>\n",
       "      <td>0.999990</td>\n",
       "      <td>0.745275</td>\n",
       "      <td>0.738482</td>\n",
       "      <td>0.660559</td>\n",
       "      <td>0.815825</td>\n",
       "      <td>0.334711</td>\n",
       "      <td>0.326562</td>\n",
       "      <td>...</td>\n",
       "      <td>-0.117128</td>\n",
       "      <td>0.033452</td>\n",
       "      <td>0.049611</td>\n",
       "      <td>-0.086283</td>\n",
       "      <td>0.188504</td>\n",
       "      <td>0.142549</td>\n",
       "      <td>0.188120</td>\n",
       "      <td>-0.154408</td>\n",
       "      <td>0.048148</td>\n",
       "      <td>0.130833</td>\n",
       "    </tr>\n",
       "    <tr>\n",
       "      <th>ENSG00000269900</th>\n",
       "      <td>0.775672</td>\n",
       "      <td>0.775924</td>\n",
       "      <td>0.999990</td>\n",
       "      <td>1.000000</td>\n",
       "      <td>0.745103</td>\n",
       "      <td>0.738208</td>\n",
       "      <td>0.660972</td>\n",
       "      <td>0.816017</td>\n",
       "      <td>0.336193</td>\n",
       "      <td>0.327756</td>\n",
       "      <td>...</td>\n",
       "      <td>-0.117902</td>\n",
       "      <td>0.032839</td>\n",
       "      <td>0.048756</td>\n",
       "      <td>-0.087053</td>\n",
       "      <td>0.187588</td>\n",
       "      <td>0.141678</td>\n",
       "      <td>0.187281</td>\n",
       "      <td>-0.155177</td>\n",
       "      <td>0.047189</td>\n",
       "      <td>0.130198</td>\n",
       "    </tr>\n",
       "    <tr>\n",
       "      <th>ENSG00000274012</th>\n",
       "      <td>0.746934</td>\n",
       "      <td>0.746909</td>\n",
       "      <td>0.745275</td>\n",
       "      <td>0.745103</td>\n",
       "      <td>1.000000</td>\n",
       "      <td>0.970719</td>\n",
       "      <td>0.607713</td>\n",
       "      <td>0.721553</td>\n",
       "      <td>0.217818</td>\n",
       "      <td>0.215162</td>\n",
       "      <td>...</td>\n",
       "      <td>-0.119052</td>\n",
       "      <td>0.017080</td>\n",
       "      <td>0.023516</td>\n",
       "      <td>-0.089920</td>\n",
       "      <td>0.211201</td>\n",
       "      <td>0.193238</td>\n",
       "      <td>0.214187</td>\n",
       "      <td>-0.132113</td>\n",
       "      <td>0.129397</td>\n",
       "      <td>0.199827</td>\n",
       "    </tr>\n",
       "  </tbody>\n",
       "</table>\n",
       "<p>5 rows × 5000 columns</p>\n",
       "</div>"
      ],
      "text/plain": [
       "                 ENSG00000283293  ENSG00000202198  ENSG00000277027  \\\n",
       "ENSG00000283293         1.000000         0.999995         0.775942   \n",
       "ENSG00000202198         0.999995         1.000000         0.776191   \n",
       "ENSG00000277027         0.775942         0.776191         1.000000   \n",
       "ENSG00000269900         0.775672         0.775924         0.999990   \n",
       "ENSG00000274012         0.746934         0.746909         0.745275   \n",
       "\n",
       "                 ENSG00000269900  ENSG00000274012  ENSG00000276168  \\\n",
       "ENSG00000283293         0.775672         0.746934         0.742736   \n",
       "ENSG00000202198         0.775924         0.746909         0.742660   \n",
       "ENSG00000277027         0.999990         0.745275         0.738482   \n",
       "ENSG00000269900         1.000000         0.745103         0.738208   \n",
       "ENSG00000274012         0.745103         1.000000         0.970719   \n",
       "\n",
       "                 ENSG00000222328  ENSG00000277209  ENSG00000199153  \\\n",
       "ENSG00000283293         0.597757         0.754145         0.184315   \n",
       "ENSG00000202198         0.598109         0.754395         0.185232   \n",
       "ENSG00000277027         0.660559         0.815825         0.334711   \n",
       "ENSG00000269900         0.660972         0.816017         0.336193   \n",
       "ENSG00000274012         0.607713         0.721553         0.217818   \n",
       "\n",
       "                 ENSG00000198975  ...  ENSG00000091140  ENSG00000271029  \\\n",
       "ENSG00000283293         0.183930  ...        -0.065746        -0.000966   \n",
       "ENSG00000202198         0.184681  ...        -0.066264        -0.001348   \n",
       "ENSG00000277027         0.326562  ...        -0.117128         0.033452   \n",
       "ENSG00000269900         0.327756  ...        -0.117902         0.032839   \n",
       "ENSG00000274012         0.215162  ...        -0.119052         0.017080   \n",
       "\n",
       "                 ENSG00000053372  ENSG00000113845  ENSG00000231864  \\\n",
       "ENSG00000283293         0.043880        -0.056071         0.163562   \n",
       "ENSG00000202198         0.043305        -0.056482         0.162850   \n",
       "ENSG00000277027         0.049611        -0.086283         0.188504   \n",
       "ENSG00000269900         0.048756        -0.087053         0.187588   \n",
       "ENSG00000274012         0.023516        -0.089920         0.211201   \n",
       "\n",
       "                 ENSG00000141574  ENSG00000169750  ENSG00000129559  \\\n",
       "ENSG00000283293         0.167481         0.201552        -0.104922   \n",
       "ENSG00000202198         0.166897         0.201062        -0.105502   \n",
       "ENSG00000277027         0.142549         0.188120        -0.154408   \n",
       "ENSG00000269900         0.141678         0.187281        -0.155177   \n",
       "ENSG00000274012         0.193238         0.214187        -0.132113   \n",
       "\n",
       "                 ENSG00000237441  ENSG00000204103  \n",
       "ENSG00000283293         0.120857         0.186545  \n",
       "ENSG00000202198         0.120152         0.186211  \n",
       "ENSG00000277027         0.048148         0.130833  \n",
       "ENSG00000269900         0.047189         0.130198  \n",
       "ENSG00000274012         0.129397         0.199827  \n",
       "\n",
       "[5 rows x 5000 columns]"
      ]
     },
     "execution_count": 17,
     "metadata": {},
     "output_type": "execute_result"
    }
   ],
   "source": [
    "data_corrs.head()"
   ]
  },
  {
   "cell_type": "markdown",
   "id": "bf8ed959",
   "metadata": {
    "papermill": {
     "duration": 0.022137,
     "end_time": "2021-12-26T05:30:25.160581",
     "exception": false,
     "start_time": "2021-12-26T05:30:25.138444",
     "status": "completed"
    },
    "tags": []
   },
   "source": [
    "## Save"
   ]
  },
  {
   "cell_type": "code",
   "execution_count": 18,
   "id": "31e811b1-4329-494b-9905-ee002b34f4b4",
   "metadata": {
    "execution": {
     "iopub.execute_input": "2021-12-26T05:30:25.220947Z",
     "iopub.status.busy": "2021-12-26T05:30:25.220277Z",
     "iopub.status.idle": "2021-12-26T05:30:25.222755Z",
     "shell.execute_reply": "2021-12-26T05:30:25.223130Z"
    },
    "papermill": {
     "duration": 0.028072,
     "end_time": "2021-12-26T05:30:25.223242",
     "exception": false,
     "start_time": "2021-12-26T05:30:25.195170",
     "status": "completed"
    },
    "tags": []
   },
   "outputs": [
    {
     "data": {
      "text/plain": [
       "PosixPath('/opt/data/results/recount2full/similarity_matrices/recount2_rpkm-var_pc_log2-spearman.pkl')"
      ]
     },
     "metadata": {},
     "output_type": "display_data"
    }
   ],
   "source": [
    "output_filename = OUTPUT_DIR / f\"{INPUT_FILE.stem}-{method_name}.pkl\"\n",
    "display(output_filename)"
   ]
  },
  {
   "cell_type": "code",
   "execution_count": 19,
   "id": "b3c49a1a-bdf4-4cf9-824d-0d5c0acf2b73",
   "metadata": {
    "execution": {
     "iopub.execute_input": "2021-12-26T05:30:25.271833Z",
     "iopub.status.busy": "2021-12-26T05:30:25.271369Z",
     "iopub.status.idle": "2021-12-26T05:30:25.373238Z",
     "shell.execute_reply": "2021-12-26T05:30:25.372836Z"
    },
    "papermill": {
     "duration": 0.127017,
     "end_time": "2021-12-26T05:30:25.373344",
     "exception": false,
     "start_time": "2021-12-26T05:30:25.246327",
     "status": "completed"
    },
    "tags": []
   },
   "outputs": [],
   "source": [
    "# save\n",
    "data_corrs.to_pickle(output_filename)"
   ]
  },
  {
   "cell_type": "code",
   "execution_count": null,
   "id": "258babdf-03ce-4450-ab22-7a3d75bf6869",
   "metadata": {
    "papermill": {
     "duration": 0.022141,
     "end_time": "2021-12-26T05:30:25.418794",
     "exception": false,
     "start_time": "2021-12-26T05:30:25.396653",
     "status": "completed"
    },
    "tags": []
   },
   "outputs": [],
   "source": []
  }
 ],
 "metadata": {
  "jupytext": {
   "cell_metadata_filter": "all,-execution,-papermill,-trusted"
  },
  "kernelspec": {
   "display_name": "Python 3 (ipykernel)",
   "language": "python",
   "name": "python3"
  },
  "language_info": {
   "codemirror_mode": {
    "name": "ipython",
    "version": 3
   },
   "file_extension": ".py",
   "mimetype": "text/x-python",
   "name": "python",
   "nbconvert_exporter": "python",
   "pygments_lexer": "ipython3",
   "version": "3.9.9"
  },
  "papermill": {
   "default_parameters": {},
   "duration": 400.371604,
   "end_time": "2021-12-26T05:30:25.750221",
   "environment_variables": {},
   "exception": null,
   "input_path": "nbs/10_compute_correlations/10_recount2/06-recount2-spearman.ipynb",
   "output_path": "nbs/10_compute_correlations/10_recount2/06-recount2-spearman.run.ipynb",
   "parameters": {},
   "start_time": "2021-12-26T05:23:45.378617",
   "version": "2.3.3"
  },
  "toc-autonumbering": true
 },
 "nbformat": 4,
 "nbformat_minor": 5
}
