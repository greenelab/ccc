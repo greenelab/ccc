{
 "cells": [
  {
   "cell_type": "markdown",
   "id": "e9773a95-e8fd-4963-87a5-0c92299434d5",
   "metadata": {
    "papermill": {
     "duration": 0.010569,
     "end_time": "2021-09-01T16:47:37.867743",
     "exception": false,
     "start_time": "2021-09-01T16:47:37.857174",
     "status": "completed"
    },
    "tags": []
   },
   "source": [
    "# Description"
   ]
  },
  {
   "cell_type": "markdown",
   "id": "57f34c74-404d-4776-b547-e6acb2df75d7",
   "metadata": {
    "papermill": {
     "duration": 0.00983,
     "end_time": "2021-09-01T16:47:37.887716",
     "exception": false,
     "start_time": "2021-09-01T16:47:37.877886",
     "status": "completed"
    },
    "tags": []
   },
   "source": [
    "According to the settings specified below, this notebook:\n",
    " 1. reads all the data from one source (GTEx, recount2, etc) according to the gene selection method (`GENE_SELECTION_STRATEGY`),\n",
    " 2. runs a quick performance test using the correlation coefficient specified (`CORRELATION_METHOD`), and\n",
    " 3. computes the correlation matrix across all the genes using the correlation coefficient specified."
   ]
  },
  {
   "cell_type": "markdown",
   "id": "1d8fae6b-e623-46a6-aff6-d7849163c820",
   "metadata": {
    "papermill": {
     "duration": 0.011029,
     "end_time": "2021-09-01T16:47:37.909510",
     "exception": false,
     "start_time": "2021-09-01T16:47:37.898481",
     "status": "completed"
    },
    "tags": []
   },
   "source": [
    "# Modules"
   ]
  },
  {
   "cell_type": "code",
   "execution_count": null,
   "id": "76729f0e-f742-495b-b676-d9d7b1539e10",
   "metadata": {
    "papermill": {
     "duration": 0.676691,
     "end_time": "2021-09-01T16:47:38.596938",
     "exception": false,
     "start_time": "2021-09-01T16:47:37.920247",
     "status": "completed"
    },
    "tags": []
   },
   "outputs": [],
   "source": [
    "import pandas as pd\n",
    "from tqdm import tqdm\n",
    "\n",
    "from clustermatch import conf\n",
    "from clustermatch.corr import spearman"
   ]
  },
  {
   "cell_type": "markdown",
   "id": "a6c3a546-9a49-45e7-9f17-fbdb5af4bfb6",
   "metadata": {
    "papermill": {
     "duration": 0.010086,
     "end_time": "2021-09-01T16:47:38.618172",
     "exception": false,
     "start_time": "2021-09-01T16:47:38.608086",
     "status": "completed"
    },
    "tags": []
   },
   "source": [
    "# Settings"
   ]
  },
  {
   "cell_type": "code",
   "execution_count": null,
   "id": "56ff94d3-a230-4028-a71d-518ac109209b",
   "metadata": {
    "papermill": {
     "duration": 0.015995,
     "end_time": "2021-09-01T16:47:38.644456",
     "exception": false,
     "start_time": "2021-09-01T16:47:38.628461",
     "status": "completed"
    },
    "tags": []
   },
   "outputs": [],
   "source": [
    "# we don't have gene subsets for recount2\n",
    "# GENE_SELECTION_STRATEGY = \"var_raw\""
   ]
  },
  {
   "cell_type": "code",
   "execution_count": null,
   "id": "8baf4209-ba56-4e3d-b60f-6ce2bb686159",
   "metadata": {
    "papermill": {
     "duration": 0.023325,
     "end_time": "2021-09-01T16:47:38.678642",
     "exception": false,
     "start_time": "2021-09-01T16:47:38.655317",
     "status": "completed"
    },
    "tags": []
   },
   "outputs": [],
   "source": [
    "CORRELATION_METHOD = spearman\n",
    "\n",
    "method_name = CORRELATION_METHOD.__name__\n",
    "display(method_name)"
   ]
  },
  {
   "cell_type": "code",
   "execution_count": null,
   "id": "21a3e349-9a09-4d24-89e3-915fdbf08a81",
   "metadata": {
    "papermill": {
     "duration": 0.017081,
     "end_time": "2021-09-01T16:47:38.707224",
     "exception": false,
     "start_time": "2021-09-01T16:47:38.690143",
     "status": "completed"
    },
    "tags": []
   },
   "outputs": [],
   "source": [
    "PERFORMANCE_TEST_N_TOP_GENES = 500"
   ]
  },
  {
   "cell_type": "markdown",
   "id": "b0afcba9-5847-414e-b448-f0cd08ecd8ce",
   "metadata": {
    "papermill": {
     "duration": 0.010528,
     "end_time": "2021-09-01T16:47:38.728618",
     "exception": false,
     "start_time": "2021-09-01T16:47:38.718090",
     "status": "completed"
    },
    "tags": []
   },
   "source": [
    "# Paths"
   ]
  },
  {
   "cell_type": "code",
   "execution_count": null,
   "id": "35760114-8560-4a0e-ad4f-2bee9104c63d",
   "metadata": {
    "papermill": {
     "duration": 0.017698,
     "end_time": "2021-09-01T16:47:38.757393",
     "exception": false,
     "start_time": "2021-09-01T16:47:38.739695",
     "status": "completed"
    },
    "tags": []
   },
   "outputs": [],
   "source": [
    "INPUT_FILE = conf.RECOUNT2[\"DATA_FILE\"]\n",
    "display(INPUT_FILE)\n",
    "\n",
    "assert INPUT_FILE.exists()"
   ]
  },
  {
   "cell_type": "code",
   "execution_count": null,
   "id": "f1418e81-4e77-4f67-b5ed-b29b797e31a0",
   "metadata": {
    "papermill": {
     "duration": 0.019595,
     "end_time": "2021-09-01T16:47:38.788047",
     "exception": false,
     "start_time": "2021-09-01T16:47:38.768452",
     "status": "completed"
    },
    "tags": []
   },
   "outputs": [],
   "source": [
    "OUTPUT_DIR = conf.RECOUNT2[\"SIMILARITY_MATRICES_DIR\"]\n",
    "OUTPUT_DIR.mkdir(parents=True, exist_ok=True)\n",
    "display(OUTPUT_DIR)"
   ]
  },
  {
   "cell_type": "markdown",
   "id": "5fdf8df6-eba0-4cf5-979c-3acd56a5ef3c",
   "metadata": {
    "papermill": {
     "duration": 0.011293,
     "end_time": "2021-09-01T16:47:38.811314",
     "exception": false,
     "start_time": "2021-09-01T16:47:38.800021",
     "status": "completed"
    },
    "tags": []
   },
   "source": [
    "# Data loading"
   ]
  },
  {
   "cell_type": "code",
   "execution_count": null,
   "id": "596d25ed-4120-4bef-8984-a91ae6529ab5",
   "metadata": {
    "papermill": {
     "duration": 0.020006,
     "end_time": "2021-09-01T16:47:38.843018",
     "exception": false,
     "start_time": "2021-09-01T16:47:38.823012",
     "status": "completed"
    },
    "tags": []
   },
   "outputs": [],
   "source": [
    "data = pd.read_pickle(INPUT_FILE)"
   ]
  },
  {
   "cell_type": "code",
   "execution_count": null,
   "id": "be8a23da-ea99-43a9-b684-fa645c1d1adc",
   "metadata": {},
   "outputs": [],
   "source": [
    "data.shape"
   ]
  },
  {
   "cell_type": "code",
   "execution_count": null,
   "id": "cd693523-4379-400a-a2d2-6b3f617421e6",
   "metadata": {},
   "outputs": [],
   "source": [
    "data.head()"
   ]
  },
  {
   "cell_type": "markdown",
   "id": "081da632-fd12-462a-9ae1-c0ceccf1bb5d",
   "metadata": {
    "papermill": {
     "duration": 0.013359,
     "end_time": "2021-09-01T16:47:38.868909",
     "exception": false,
     "start_time": "2021-09-01T16:47:38.855550",
     "status": "completed"
    },
    "tags": []
   },
   "source": [
    "# Compute similarity"
   ]
  },
  {
   "cell_type": "markdown",
   "id": "37137fff-2d3a-43d8-9bd5-d7c3284a97f5",
   "metadata": {
    "papermill": {
     "duration": 0.013364,
     "end_time": "2021-09-01T16:47:38.895699",
     "exception": false,
     "start_time": "2021-09-01T16:47:38.882335",
     "status": "completed"
    },
    "tags": []
   },
   "source": [
    "## Performance test"
   ]
  },
  {
   "cell_type": "code",
   "execution_count": null,
   "id": "5dd40707-759f-4bf9-b8cc-84811b2dfe53",
   "metadata": {
    "papermill": {
     "duration": 0.032647,
     "end_time": "2021-09-01T16:47:38.942409",
     "exception": false,
     "start_time": "2021-09-01T16:47:38.909762",
     "status": "completed"
    },
    "tags": []
   },
   "outputs": [],
   "source": [
    "# select a subset of the genes\n",
    "test_data = data.sample(n=PERFORMANCE_TEST_N_TOP_GENES, random_state=0)"
   ]
  },
  {
   "cell_type": "code",
   "execution_count": null,
   "id": "e8acd036-93f7-46c0-a1ee-8da0c2c24790",
   "metadata": {
    "papermill": {
     "duration": 0.019586,
     "end_time": "2021-09-01T16:47:38.975115",
     "exception": false,
     "start_time": "2021-09-01T16:47:38.955529",
     "status": "completed"
    },
    "tags": []
   },
   "outputs": [],
   "source": [
    "test_data.shape"
   ]
  },
  {
   "cell_type": "code",
   "execution_count": null,
   "id": "111e360b-dbe4-4b69-9029-7b7669eb5ddc",
   "metadata": {
    "papermill": {
     "duration": 0.043426,
     "end_time": "2021-09-01T16:47:39.031725",
     "exception": false,
     "start_time": "2021-09-01T16:47:38.988299",
     "status": "completed"
    },
    "tags": []
   },
   "outputs": [],
   "source": [
    "test_data.head()"
   ]
  },
  {
   "cell_type": "markdown",
   "id": "5903f3f5-791e-4f03-9d79-600102933d04",
   "metadata": {
    "papermill": {
     "duration": 0.015078,
     "end_time": "2021-09-01T16:47:39.061229",
     "exception": false,
     "start_time": "2021-09-01T16:47:39.046151",
     "status": "completed"
    },
    "tags": []
   },
   "source": [
    "This is a quick performance test of the correlation measure. The following line (`_tmp = ...`) is the setup code, which is needed in case the correlation method was optimized using `numba` and needs to be compiled before performing the test."
   ]
  },
  {
   "cell_type": "code",
   "execution_count": null,
   "id": "118a6631-1cfd-44a3-bd85-5ec7118edd03",
   "metadata": {
    "papermill": {
     "duration": 0.027224,
     "end_time": "2021-09-01T16:47:39.102873",
     "exception": false,
     "start_time": "2021-09-01T16:47:39.075649",
     "status": "completed"
    },
    "tags": []
   },
   "outputs": [],
   "source": [
    "_tmp = CORRELATION_METHOD(test_data.iloc[:3])\n",
    "\n",
    "display(_tmp.shape)\n",
    "display(_tmp)"
   ]
  },
  {
   "cell_type": "code",
   "execution_count": null,
   "id": "d32281d8-f640-4f87-a1d5-aefa0757e9c3",
   "metadata": {
    "papermill": {
     "duration": 4.568251,
     "end_time": "2021-09-01T16:47:43.686520",
     "exception": false,
     "start_time": "2021-09-01T16:47:39.118269",
     "status": "completed"
    },
    "tags": []
   },
   "outputs": [],
   "source": [
    "%timeit CORRELATION_METHOD(test_data)"
   ]
  },
  {
   "cell_type": "markdown",
   "id": "fc2f7184-c0da-438c-94f5-002912793636",
   "metadata": {
    "papermill": {
     "duration": 0.015392,
     "end_time": "2021-09-01T16:47:43.716801",
     "exception": false,
     "start_time": "2021-09-01T16:47:43.701409",
     "status": "completed"
    },
    "tags": []
   },
   "source": [
    "## Run"
   ]
  },
  {
   "cell_type": "code",
   "execution_count": null,
   "id": "189b0295-f968-42b2-9377-a6c404182b01",
   "metadata": {},
   "outputs": [],
   "source": [
    "# compute correlations\n",
    "data_corrs = CORRELATION_METHOD(data)"
   ]
  },
  {
   "cell_type": "code",
   "execution_count": null,
   "id": "31e811b1-4329-494b-9905-ee002b34f4b4",
   "metadata": {},
   "outputs": [],
   "source": [
    "output_filename = OUTPUT_DIR / f\"{INPUT_FILE.stem}-{method_name}.pkl\"\n",
    "display(output_filename)"
   ]
  },
  {
   "cell_type": "code",
   "execution_count": null,
   "id": "b3c49a1a-bdf4-4cf9-824d-0d5c0acf2b73",
   "metadata": {},
   "outputs": [],
   "source": [
    "# save\n",
    "data_corrs.to_pickle(output_filename)"
   ]
  },
  {
   "cell_type": "code",
   "execution_count": null,
   "id": "258babdf-03ce-4450-ab22-7a3d75bf6869",
   "metadata": {
    "papermill": {
     "duration": 0.035801,
     "end_time": "2021-09-01T16:50:25.296220",
     "exception": false,
     "start_time": "2021-09-01T16:50:25.260419",
     "status": "completed"
    },
    "tags": []
   },
   "outputs": [],
   "source": []
  }
 ],
 "metadata": {
  "jupytext": {
   "cell_metadata_filter": "all,-execution,-papermill,-trusted",
   "text_representation": {
    "extension": ".py",
    "format_name": "percent",
    "format_version": "1.3",
    "jupytext_version": "1.11.5"
   }
  },
  "kernelspec": {
   "display_name": "Python 3 (ipykernel)",
   "language": "python",
   "name": "python3"
  },
  "language_info": {
   "codemirror_mode": {
    "name": "ipython",
    "version": 3
   },
   "file_extension": ".py",
   "mimetype": "text/x-python",
   "name": "python",
   "nbconvert_exporter": "python",
   "pygments_lexer": "ipython3",
   "version": "3.9.6"
  },
  "papermill": {
   "default_parameters": {},
   "duration": 168.556635,
   "end_time": "2021-09-01T16:50:25.542183",
   "environment_variables": {},
   "exception": null,
   "input_path": "nbs/10_compute_correlations/05_gtex_v8/05-gtex-pearson.ipynb",
   "output_path": "nbs/10_compute_correlations/05_gtex_v8/05-gtex-pearson.run.ipynb",
   "parameters": {},
   "start_time": "2021-09-01T16:47:36.985548",
   "version": "2.3.3"
  },
  "toc-autonumbering": true
 },
 "nbformat": 4,
 "nbformat_minor": 5
}
