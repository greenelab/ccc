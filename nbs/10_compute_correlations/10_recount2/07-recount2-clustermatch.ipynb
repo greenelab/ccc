{
 "cells": [
  {
   "cell_type": "markdown",
   "id": "e9773a95-e8fd-4963-87a5-0c92299434d5",
   "metadata": {
    "papermill": {
     "duration": 0.016785,
     "end_time": "2021-09-09T17:30:46.030526",
     "exception": false,
     "start_time": "2021-09-09T17:30:46.013741",
     "status": "completed"
    },
    "tags": []
   },
   "source": [
    "# Description"
   ]
  },
  {
   "cell_type": "markdown",
   "id": "57f34c74-404d-4776-b547-e6acb2df75d7",
   "metadata": {
    "papermill": {
     "duration": 0.012487,
     "end_time": "2021-09-09T17:30:46.055748",
     "exception": false,
     "start_time": "2021-09-09T17:30:46.043261",
     "status": "completed"
    },
    "tags": []
   },
   "source": [
    "According to the settings specified below, this notebook:\n",
    " 1. reads all the data from one source (GTEx, recount2, etc) according to the gene selection method (`GENE_SELECTION_STRATEGY`),\n",
    " 2. runs a quick performance test using the correlation coefficient specified (`CORRELATION_METHOD`), and\n",
    " 3. computes the correlation matrix across all the genes using the correlation coefficient specified."
   ]
  },
  {
   "cell_type": "markdown",
   "id": "1d8fae6b-e623-46a6-aff6-d7849163c820",
   "metadata": {
    "papermill": {
     "duration": 0.01253,
     "end_time": "2021-09-09T17:30:46.081984",
     "exception": false,
     "start_time": "2021-09-09T17:30:46.069454",
     "status": "completed"
    },
    "tags": []
   },
   "source": [
    "# Modules"
   ]
  },
  {
   "cell_type": "code",
   "execution_count": null,
   "id": "76729f0e-f742-495b-b676-d9d7b1539e10",
   "metadata": {
    "papermill": {
     "duration": 0.487518,
     "end_time": "2021-09-09T17:30:46.582102",
     "exception": false,
     "start_time": "2021-09-09T17:30:46.094584",
     "status": "completed"
    },
    "tags": []
   },
   "outputs": [],
   "source": [
    "import pandas as pd\n",
    "\n",
    "from clustermatch import conf\n",
    "from clustermatch.corr import clustermatch"
   ]
  },
  {
   "cell_type": "markdown",
   "id": "a6c3a546-9a49-45e7-9f17-fbdb5af4bfb6",
   "metadata": {
    "papermill": {
     "duration": 0.01289,
     "end_time": "2021-09-09T17:30:46.608003",
     "exception": false,
     "start_time": "2021-09-09T17:30:46.595113",
     "status": "completed"
    },
    "tags": []
   },
   "source": [
    "# Settings"
   ]
  },
  {
   "cell_type": "code",
   "execution_count": null,
   "id": "56ff94d3-a230-4028-a71d-518ac109209b",
   "metadata": {
    "papermill": {
     "duration": 0.017773,
     "end_time": "2021-09-09T17:30:46.638887",
     "exception": false,
     "start_time": "2021-09-09T17:30:46.621114",
     "status": "completed"
    },
    "tags": []
   },
   "outputs": [],
   "source": [
    "# we don't have gene subsets for recount2\n",
    "# GENE_SELECTION_STRATEGY = \"var_raw\""
   ]
  },
  {
   "cell_type": "code",
   "execution_count": null,
   "id": "8baf4209-ba56-4e3d-b60f-6ce2bb686159",
   "metadata": {
    "papermill": {
     "duration": 0.024148,
     "end_time": "2021-09-09T17:30:46.676668",
     "exception": false,
     "start_time": "2021-09-09T17:30:46.652520",
     "status": "completed"
    },
    "tags": []
   },
   "outputs": [],
   "source": [
    "def clustermatch_k2to5(data):\n",
    "    # in recount2 we have ~37k samples per gene. For clustermatch, we need to\n",
    "    # reduce the number of internal clusters generated, and here instead of the default 2 to 10,\n",
    "    # we do 2 to 5\n",
    "    n_clusters = list(range(2, 5 + 1))\n",
    "    return clustermatch(data, internal_n_clusters=n_clusters)\n",
    "\n",
    "\n",
    "CORRELATION_METHOD = clustermatch_k2to5\n",
    "\n",
    "method_name = CORRELATION_METHOD.__name__\n",
    "display(method_name)"
   ]
  },
  {
   "cell_type": "code",
   "execution_count": null,
   "id": "21a3e349-9a09-4d24-89e3-915fdbf08a81",
   "metadata": {
    "papermill": {
     "duration": 0.018167,
     "end_time": "2021-09-09T17:30:46.708336",
     "exception": false,
     "start_time": "2021-09-09T17:30:46.690169",
     "status": "completed"
    },
    "tags": []
   },
   "outputs": [],
   "source": [
    "PERFORMANCE_TEST_N_TOP_GENES = 500"
   ]
  },
  {
   "cell_type": "markdown",
   "id": "b0afcba9-5847-414e-b448-f0cd08ecd8ce",
   "metadata": {
    "papermill": {
     "duration": 0.012997,
     "end_time": "2021-09-09T17:30:46.734806",
     "exception": false,
     "start_time": "2021-09-09T17:30:46.721809",
     "status": "completed"
    },
    "tags": []
   },
   "source": [
    "# Paths"
   ]
  },
  {
   "cell_type": "code",
   "execution_count": null,
   "id": "35760114-8560-4a0e-ad4f-2bee9104c63d",
   "metadata": {
    "papermill": {
     "duration": 0.019159,
     "end_time": "2021-09-09T17:30:46.767067",
     "exception": false,
     "start_time": "2021-09-09T17:30:46.747908",
     "status": "completed"
    },
    "tags": []
   },
   "outputs": [],
   "source": [
    "INPUT_FILE = conf.RECOUNT2[\"DATA_FILE\"]\n",
    "display(INPUT_FILE)\n",
    "\n",
    "assert INPUT_FILE.exists()"
   ]
  },
  {
   "cell_type": "code",
   "execution_count": null,
   "id": "f1418e81-4e77-4f67-b5ed-b29b797e31a0",
   "metadata": {
    "papermill": {
     "duration": 0.020225,
     "end_time": "2021-09-09T17:30:46.801182",
     "exception": false,
     "start_time": "2021-09-09T17:30:46.780957",
     "status": "completed"
    },
    "tags": []
   },
   "outputs": [],
   "source": [
    "OUTPUT_DIR = conf.RECOUNT2[\"SIMILARITY_MATRICES_DIR\"]\n",
    "OUTPUT_DIR.mkdir(parents=True, exist_ok=True)\n",
    "display(OUTPUT_DIR)"
   ]
  },
  {
   "cell_type": "markdown",
   "id": "5fdf8df6-eba0-4cf5-979c-3acd56a5ef3c",
   "metadata": {
    "papermill": {
     "duration": 0.01448,
     "end_time": "2021-09-09T17:30:46.830425",
     "exception": false,
     "start_time": "2021-09-09T17:30:46.815945",
     "status": "completed"
    },
    "tags": []
   },
   "source": [
    "# Data loading"
   ]
  },
  {
   "cell_type": "code",
   "execution_count": null,
   "id": "596d25ed-4120-4bef-8984-a91ae6529ab5",
   "metadata": {
    "papermill": {
     "duration": 0.879585,
     "end_time": "2021-09-09T17:30:47.723919",
     "exception": false,
     "start_time": "2021-09-09T17:30:46.844334",
     "status": "completed"
    },
    "tags": []
   },
   "outputs": [],
   "source": [
    "data = pd.read_pickle(INPUT_FILE)"
   ]
  },
  {
   "cell_type": "code",
   "execution_count": null,
   "id": "be8a23da-ea99-43a9-b684-fa645c1d1adc",
   "metadata": {
    "papermill": {
     "duration": 0.021083,
     "end_time": "2021-09-09T17:30:47.760797",
     "exception": false,
     "start_time": "2021-09-09T17:30:47.739714",
     "status": "completed"
    },
    "tags": []
   },
   "outputs": [],
   "source": [
    "data.shape"
   ]
  },
  {
   "cell_type": "code",
   "execution_count": null,
   "id": "cd693523-4379-400a-a2d2-6b3f617421e6",
   "metadata": {
    "papermill": {
     "duration": 0.038562,
     "end_time": "2021-09-09T17:30:47.813538",
     "exception": false,
     "start_time": "2021-09-09T17:30:47.774976",
     "status": "completed"
    },
    "tags": []
   },
   "outputs": [],
   "source": [
    "data.head()"
   ]
  },
  {
   "cell_type": "markdown",
   "id": "081da632-fd12-462a-9ae1-c0ceccf1bb5d",
   "metadata": {
    "papermill": {
     "duration": 0.014482,
     "end_time": "2021-09-09T17:30:47.842884",
     "exception": false,
     "start_time": "2021-09-09T17:30:47.828402",
     "status": "completed"
    },
    "tags": []
   },
   "source": [
    "# Compute similarity"
   ]
  },
  {
   "cell_type": "markdown",
   "id": "37137fff-2d3a-43d8-9bd5-d7c3284a97f5",
   "metadata": {
    "papermill": {
     "duration": 0.01457,
     "end_time": "2021-09-09T17:30:47.871682",
     "exception": false,
     "start_time": "2021-09-09T17:30:47.857112",
     "status": "completed"
    },
    "tags": []
   },
   "source": [
    "## Performance test"
   ]
  },
  {
   "cell_type": "code",
   "execution_count": null,
   "id": "5dd40707-759f-4bf9-b8cc-84811b2dfe53",
   "metadata": {
    "papermill": {
     "duration": 0.166034,
     "end_time": "2021-09-09T17:30:48.051883",
     "exception": false,
     "start_time": "2021-09-09T17:30:47.885849",
     "status": "completed"
    },
    "tags": []
   },
   "outputs": [],
   "source": [
    "# select a subset of the genes\n",
    "test_data = data.sample(n=PERFORMANCE_TEST_N_TOP_GENES, random_state=0)"
   ]
  },
  {
   "cell_type": "code",
   "execution_count": null,
   "id": "e8acd036-93f7-46c0-a1ee-8da0c2c24790",
   "metadata": {
    "papermill": {
     "duration": 0.025275,
     "end_time": "2021-09-09T17:30:48.096830",
     "exception": false,
     "start_time": "2021-09-09T17:30:48.071555",
     "status": "completed"
    },
    "tags": []
   },
   "outputs": [],
   "source": [
    "test_data.shape"
   ]
  },
  {
   "cell_type": "code",
   "execution_count": null,
   "id": "111e360b-dbe4-4b69-9029-7b7669eb5ddc",
   "metadata": {
    "papermill": {
     "duration": 0.037495,
     "end_time": "2021-09-09T17:30:48.152651",
     "exception": false,
     "start_time": "2021-09-09T17:30:48.115156",
     "status": "completed"
    },
    "tags": []
   },
   "outputs": [],
   "source": [
    "test_data.head()"
   ]
  },
  {
   "cell_type": "markdown",
   "id": "5903f3f5-791e-4f03-9d79-600102933d04",
   "metadata": {
    "papermill": {
     "duration": 0.01486,
     "end_time": "2021-09-09T17:30:48.183197",
     "exception": false,
     "start_time": "2021-09-09T17:30:48.168337",
     "status": "completed"
    },
    "tags": []
   },
   "source": [
    "This is a quick performance test of the correlation measure. The following line (`_tmp = ...`) is the setup code, which is needed in case the correlation method was optimized using `numba` and needs to be compiled before performing the test."
   ]
  },
  {
   "cell_type": "code",
   "execution_count": null,
   "id": "118a6631-1cfd-44a3-bd85-5ec7118edd03",
   "metadata": {
    "papermill": {
     "duration": 0.036028,
     "end_time": "2021-09-09T17:30:48.234190",
     "exception": false,
     "start_time": "2021-09-09T17:30:48.198162",
     "status": "completed"
    },
    "tags": []
   },
   "outputs": [],
   "source": [
    "_tmp = CORRELATION_METHOD(test_data.iloc[:3])\n",
    "\n",
    "display(_tmp.shape)\n",
    "display(_tmp)"
   ]
  },
  {
   "cell_type": "code",
   "execution_count": null,
   "id": "d32281d8-f640-4f87-a1d5-aefa0757e9c3",
   "metadata": {
    "papermill": {
     "duration": 40.101607,
     "end_time": "2021-09-09T17:31:28.352369",
     "exception": false,
     "start_time": "2021-09-09T17:30:48.250762",
     "status": "completed"
    },
    "tags": []
   },
   "outputs": [],
   "source": [
    "%timeit CORRELATION_METHOD(test_data)"
   ]
  },
  {
   "cell_type": "markdown",
   "id": "fc2f7184-c0da-438c-94f5-002912793636",
   "metadata": {
    "papermill": {
     "duration": 0.015438,
     "end_time": "2021-09-09T17:31:28.383887",
     "exception": false,
     "start_time": "2021-09-09T17:31:28.368449",
     "status": "completed"
    },
    "tags": []
   },
   "source": [
    "## Run"
   ]
  },
  {
   "cell_type": "code",
   "execution_count": null,
   "id": "189b0295-f968-42b2-9377-a6c404182b01",
   "metadata": {
    "papermill": {
     "duration": 684.095289,
     "end_time": "2021-09-09T17:42:52.494800",
     "exception": false,
     "start_time": "2021-09-09T17:31:28.399511",
     "status": "completed"
    },
    "tags": []
   },
   "outputs": [],
   "source": [
    "# compute correlations\n",
    "data_corrs = CORRELATION_METHOD(data)"
   ]
  },
  {
   "cell_type": "code",
   "execution_count": null,
   "id": "bd93f2d7-d1fe-46c5-9a8c-92cac91ef7c6",
   "metadata": {
    "papermill": {
     "duration": 0.922874,
     "end_time": "2021-09-09T17:42:53.438364",
     "exception": false,
     "start_time": "2021-09-09T17:42:52.515490",
     "status": "completed"
    },
    "tags": []
   },
   "outputs": [],
   "source": [
    "display(data_corrs.shape)\n",
    "\n",
    "assert data.shape[0] == data_corrs.shape[0]"
   ]
  },
  {
   "cell_type": "code",
   "execution_count": null,
   "id": "da4f952a-539d-4007-bbfb-a57e426fb68a",
   "metadata": {
    "papermill": {
     "duration": 0.038412,
     "end_time": "2021-09-09T17:42:53.524685",
     "exception": false,
     "start_time": "2021-09-09T17:42:53.486273",
     "status": "completed"
    },
    "tags": []
   },
   "outputs": [],
   "source": [
    "data_corrs.head()"
   ]
  },
  {
   "cell_type": "code",
   "execution_count": null,
   "id": "31e811b1-4329-494b-9905-ee002b34f4b4",
   "metadata": {
    "papermill": {
     "duration": 0.023828,
     "end_time": "2021-09-09T17:42:53.566044",
     "exception": false,
     "start_time": "2021-09-09T17:42:53.542216",
     "status": "completed"
    },
    "tags": []
   },
   "outputs": [],
   "source": [
    "output_filename = OUTPUT_DIR / f\"{INPUT_FILE.stem}-{method_name}.pkl\"\n",
    "display(output_filename)"
   ]
  },
  {
   "cell_type": "code",
   "execution_count": null,
   "id": "b3c49a1a-bdf4-4cf9-824d-0d5c0acf2b73",
   "metadata": {
    "papermill": {
     "duration": 1.93164,
     "end_time": "2021-09-09T17:42:55.515022",
     "exception": false,
     "start_time": "2021-09-09T17:42:53.583382",
     "status": "completed"
    },
    "tags": []
   },
   "outputs": [],
   "source": [
    "# save\n",
    "data_corrs.to_pickle(output_filename)"
   ]
  },
  {
   "cell_type": "code",
   "execution_count": null,
   "id": "258babdf-03ce-4450-ab22-7a3d75bf6869",
   "metadata": {
    "papermill": {
     "duration": 0.018034,
     "end_time": "2021-09-09T17:42:55.580388",
     "exception": false,
     "start_time": "2021-09-09T17:42:55.562354",
     "status": "completed"
    },
    "tags": []
   },
   "outputs": [],
   "source": []
  }
 ],
 "metadata": {
  "jupytext": {
   "cell_metadata_filter": "all,-execution,-papermill,-trusted"
  },
  "kernelspec": {
   "display_name": "Python 3 (ipykernel)",
   "language": "python",
   "name": "python3"
  },
  "language_info": {
   "codemirror_mode": {
    "name": "ipython",
    "version": 3
   },
   "file_extension": ".py",
   "mimetype": "text/x-python",
   "name": "python",
   "nbconvert_exporter": "python",
   "pygments_lexer": "ipython3",
   "version": "3.9.6"
  },
  "papermill": {
   "default_parameters": {},
   "duration": 730.878031,
   "end_time": "2021-09-09T17:42:55.907727",
   "environment_variables": {},
   "exception": null,
   "input_path": "nbs/10_compute_correlations/10_recount2/06-recount2-spearman.ipynb",
   "output_path": "nbs/10_compute_correlations/10_recount2/06-recount2-spearman.run.ipynb",
   "parameters": {},
   "start_time": "2021-09-09T17:30:45.029696",
   "version": "2.3.3"
  },
  "toc-autonumbering": true
 },
 "nbformat": 4,
 "nbformat_minor": 5
}
