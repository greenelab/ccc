{
 "cells": [
  {
   "cell_type": "markdown",
   "id": "e9773a95-e8fd-4963-87a5-0c92299434d5",
   "metadata": {
    "papermill": {
     "duration": 0.043894,
     "end_time": "2021-09-12T23:46:25.623401",
     "exception": false,
     "start_time": "2021-09-12T23:46:25.579507",
     "status": "completed"
    },
    "tags": []
   },
   "source": [
    "# Description"
   ]
  },
  {
   "cell_type": "markdown",
   "id": "57f34c74-404d-4776-b547-e6acb2df75d7",
   "metadata": {
    "papermill": {
     "duration": 0.011422,
     "end_time": "2021-09-12T23:46:25.650864",
     "exception": false,
     "start_time": "2021-09-12T23:46:25.639442",
     "status": "completed"
    },
    "tags": []
   },
   "source": [
    "According to the settings specified below, this notebook:\n",
    " 1. reads all the data from one source (GTEx, recount2, etc) according to the gene selection method (`GENE_SELECTION_STRATEGY`),\n",
    " 2. runs a quick performance test using the correlation coefficient specified (`CORRELATION_METHOD`), and\n",
    " 3. computes the correlation matrix across all the genes using the correlation coefficient specified."
   ]
  },
  {
   "cell_type": "markdown",
   "id": "1d8fae6b-e623-46a6-aff6-d7849163c820",
   "metadata": {
    "papermill": {
     "duration": 0.012057,
     "end_time": "2021-09-12T23:46:25.674197",
     "exception": false,
     "start_time": "2021-09-12T23:46:25.662140",
     "status": "completed"
    },
    "tags": []
   },
   "source": [
    "# Modules"
   ]
  },
  {
   "cell_type": "code",
   "execution_count": null,
   "id": "76729f0e-f742-495b-b676-d9d7b1539e10",
   "metadata": {
    "papermill": {
     "duration": 0.46234,
     "end_time": "2021-09-12T23:46:26.148173",
     "exception": false,
     "start_time": "2021-09-12T23:46:25.685833",
     "status": "completed"
    },
    "tags": []
   },
   "outputs": [],
   "source": [
    "import pandas as pd\n",
    "\n",
    "from clustermatch import conf\n",
    "from clustermatch.corr import clustermatch"
   ]
  },
  {
   "cell_type": "markdown",
   "id": "a6c3a546-9a49-45e7-9f17-fbdb5af4bfb6",
   "metadata": {
    "papermill": {
     "duration": 0.01123,
     "end_time": "2021-09-12T23:46:26.171160",
     "exception": false,
     "start_time": "2021-09-12T23:46:26.159930",
     "status": "completed"
    },
    "tags": []
   },
   "source": [
    "# Settings"
   ]
  },
  {
   "cell_type": "code",
   "execution_count": null,
   "id": "56ff94d3-a230-4028-a71d-518ac109209b",
   "metadata": {
    "papermill": {
     "duration": 0.016652,
     "end_time": "2021-09-12T23:46:26.199277",
     "exception": false,
     "start_time": "2021-09-12T23:46:26.182625",
     "status": "completed"
    },
    "tags": []
   },
   "outputs": [],
   "source": [
    "# we don't have gene subsets for recount2\n",
    "# GENE_SELECTION_STRATEGY = \"var_raw\""
   ]
  },
  {
   "cell_type": "code",
   "execution_count": null,
   "id": "8baf4209-ba56-4e3d-b60f-6ce2bb686159",
   "metadata": {
    "papermill": {
     "duration": 0.023268,
     "end_time": "2021-09-12T23:46:26.234257",
     "exception": false,
     "start_time": "2021-09-12T23:46:26.210989",
     "status": "completed"
    },
    "tags": []
   },
   "outputs": [],
   "source": [
    "# here run clustermatch with the default parameters, so no need to specify parameters\n",
    "# def clustermatch(data):\n",
    "# return clustermatch(data)\n",
    "\n",
    "CORRELATION_METHOD = clustermatch\n",
    "\n",
    "method_name = CORRELATION_METHOD.__name__\n",
    "display(method_name)"
   ]
  },
  {
   "cell_type": "code",
   "execution_count": null,
   "id": "21a3e349-9a09-4d24-89e3-915fdbf08a81",
   "metadata": {
    "papermill": {
     "duration": 0.016815,
     "end_time": "2021-09-12T23:46:26.263733",
     "exception": false,
     "start_time": "2021-09-12T23:46:26.246918",
     "status": "completed"
    },
    "tags": []
   },
   "outputs": [],
   "source": [
    "PERFORMANCE_TEST_N_TOP_GENES = 500"
   ]
  },
  {
   "cell_type": "markdown",
   "id": "b0afcba9-5847-414e-b448-f0cd08ecd8ce",
   "metadata": {
    "papermill": {
     "duration": 0.012087,
     "end_time": "2021-09-12T23:46:26.288142",
     "exception": false,
     "start_time": "2021-09-12T23:46:26.276055",
     "status": "completed"
    },
    "tags": []
   },
   "source": [
    "# Paths"
   ]
  },
  {
   "cell_type": "code",
   "execution_count": null,
   "id": "35760114-8560-4a0e-ad4f-2bee9104c63d",
   "metadata": {
    "papermill": {
     "duration": 0.017872,
     "end_time": "2021-09-12T23:46:26.318162",
     "exception": false,
     "start_time": "2021-09-12T23:46:26.300290",
     "status": "completed"
    },
    "tags": []
   },
   "outputs": [],
   "source": [
    "INPUT_FILE = conf.RECOUNT2[\"DATA_FILE\"]\n",
    "display(INPUT_FILE)\n",
    "\n",
    "assert INPUT_FILE.exists()"
   ]
  },
  {
   "cell_type": "code",
   "execution_count": null,
   "id": "f1418e81-4e77-4f67-b5ed-b29b797e31a0",
   "metadata": {
    "papermill": {
     "duration": 0.018919,
     "end_time": "2021-09-12T23:46:26.349812",
     "exception": false,
     "start_time": "2021-09-12T23:46:26.330893",
     "status": "completed"
    },
    "tags": []
   },
   "outputs": [],
   "source": [
    "OUTPUT_DIR = conf.RECOUNT2[\"SIMILARITY_MATRICES_DIR\"]\n",
    "OUTPUT_DIR.mkdir(parents=True, exist_ok=True)\n",
    "display(OUTPUT_DIR)"
   ]
  },
  {
   "cell_type": "markdown",
   "id": "5fdf8df6-eba0-4cf5-979c-3acd56a5ef3c",
   "metadata": {
    "papermill": {
     "duration": 0.012624,
     "end_time": "2021-09-12T23:46:26.375569",
     "exception": false,
     "start_time": "2021-09-12T23:46:26.362945",
     "status": "completed"
    },
    "tags": []
   },
   "source": [
    "# Data loading"
   ]
  },
  {
   "cell_type": "code",
   "execution_count": null,
   "id": "596d25ed-4120-4bef-8984-a91ae6529ab5",
   "metadata": {
    "papermill": {
     "duration": 0.925735,
     "end_time": "2021-09-12T23:46:27.314135",
     "exception": false,
     "start_time": "2021-09-12T23:46:26.388400",
     "status": "completed"
    },
    "tags": []
   },
   "outputs": [],
   "source": [
    "data = pd.read_pickle(INPUT_FILE)"
   ]
  },
  {
   "cell_type": "code",
   "execution_count": null,
   "id": "be8a23da-ea99-43a9-b684-fa645c1d1adc",
   "metadata": {
    "papermill": {
     "duration": 0.019188,
     "end_time": "2021-09-12T23:46:27.347945",
     "exception": false,
     "start_time": "2021-09-12T23:46:27.328757",
     "status": "completed"
    },
    "tags": []
   },
   "outputs": [],
   "source": [
    "data.shape"
   ]
  },
  {
   "cell_type": "code",
   "execution_count": null,
   "id": "cd693523-4379-400a-a2d2-6b3f617421e6",
   "metadata": {
    "papermill": {
     "duration": 0.038309,
     "end_time": "2021-09-12T23:46:27.400387",
     "exception": false,
     "start_time": "2021-09-12T23:46:27.362078",
     "status": "completed"
    },
    "tags": []
   },
   "outputs": [],
   "source": [
    "data.head()"
   ]
  },
  {
   "cell_type": "markdown",
   "id": "081da632-fd12-462a-9ae1-c0ceccf1bb5d",
   "metadata": {
    "papermill": {
     "duration": 0.013444,
     "end_time": "2021-09-12T23:46:27.427638",
     "exception": false,
     "start_time": "2021-09-12T23:46:27.414194",
     "status": "completed"
    },
    "tags": []
   },
   "source": [
    "# Compute similarity"
   ]
  },
  {
   "cell_type": "markdown",
   "id": "37137fff-2d3a-43d8-9bd5-d7c3284a97f5",
   "metadata": {
    "papermill": {
     "duration": 0.014974,
     "end_time": "2021-09-12T23:46:27.456244",
     "exception": false,
     "start_time": "2021-09-12T23:46:27.441270",
     "status": "completed"
    },
    "tags": []
   },
   "source": [
    "## Performance test"
   ]
  },
  {
   "cell_type": "code",
   "execution_count": null,
   "id": "5dd40707-759f-4bf9-b8cc-84811b2dfe53",
   "metadata": {
    "papermill": {
     "duration": 0.170965,
     "end_time": "2021-09-12T23:46:27.642664",
     "exception": false,
     "start_time": "2021-09-12T23:46:27.471699",
     "status": "completed"
    },
    "tags": []
   },
   "outputs": [],
   "source": [
    "# select a subset of the genes\n",
    "test_data = data.sample(n=PERFORMANCE_TEST_N_TOP_GENES, random_state=0)"
   ]
  },
  {
   "cell_type": "code",
   "execution_count": null,
   "id": "e8acd036-93f7-46c0-a1ee-8da0c2c24790",
   "metadata": {
    "papermill": {
     "duration": 0.024759,
     "end_time": "2021-09-12T23:46:27.686548",
     "exception": false,
     "start_time": "2021-09-12T23:46:27.661789",
     "status": "completed"
    },
    "tags": []
   },
   "outputs": [],
   "source": [
    "test_data.shape"
   ]
  },
  {
   "cell_type": "code",
   "execution_count": null,
   "id": "111e360b-dbe4-4b69-9029-7b7669eb5ddc",
   "metadata": {
    "papermill": {
     "duration": 0.039145,
     "end_time": "2021-09-12T23:46:27.743849",
     "exception": false,
     "start_time": "2021-09-12T23:46:27.704704",
     "status": "completed"
    },
    "tags": []
   },
   "outputs": [],
   "source": [
    "test_data.head()"
   ]
  },
  {
   "cell_type": "markdown",
   "id": "5903f3f5-791e-4f03-9d79-600102933d04",
   "metadata": {
    "papermill": {
     "duration": 0.014658,
     "end_time": "2021-09-12T23:46:27.773705",
     "exception": false,
     "start_time": "2021-09-12T23:46:27.759047",
     "status": "completed"
    },
    "tags": []
   },
   "source": [
    "This is a quick performance test of the correlation measure. The following line (`_tmp = ...`) is the setup code, which is needed in case the correlation method was optimized using `numba` and needs to be compiled before performing the test."
   ]
  },
  {
   "cell_type": "code",
   "execution_count": null,
   "id": "118a6631-1cfd-44a3-bd85-5ec7118edd03",
   "metadata": {
    "papermill": {
     "duration": 16.669085,
     "end_time": "2021-09-12T23:46:44.457237",
     "exception": false,
     "start_time": "2021-09-12T23:46:27.788152",
     "status": "completed"
    },
    "tags": []
   },
   "outputs": [],
   "source": [
    "_tmp = CORRELATION_METHOD(test_data.iloc[:3])\n",
    "\n",
    "display(_tmp.shape)\n",
    "display(_tmp)"
   ]
  },
  {
   "cell_type": "code",
   "execution_count": null,
   "id": "d32281d8-f640-4f87-a1d5-aefa0757e9c3",
   "metadata": {
    "papermill": {
     "duration": 12315.465655,
     "end_time": "2021-09-13T03:11:59.938515",
     "exception": false,
     "start_time": "2021-09-12T23:46:44.472860",
     "status": "completed"
    },
    "tags": []
   },
   "outputs": [],
   "source": [
    "%timeit CORRELATION_METHOD(test_data)"
   ]
  },
  {
   "cell_type": "markdown",
   "id": "fc2f7184-c0da-438c-94f5-002912793636",
   "metadata": {
    "papermill": {
     "duration": 0.049025,
     "end_time": "2021-09-13T03:12:00.891879",
     "exception": false,
     "start_time": "2021-09-13T03:12:00.842854",
     "status": "completed"
    },
    "tags": []
   },
   "source": [
    "## Run"
   ]
  },
  {
   "cell_type": "code",
   "execution_count": null,
   "id": "189b0295-f968-42b2-9377-a6c404182b01",
   "metadata": {
    "papermill": {
     "duration": 276321.282857,
     "end_time": "2021-09-16T07:57:22.192568",
     "exception": false,
     "start_time": "2021-09-13T03:12:00.909711",
     "status": "completed"
    },
    "tags": []
   },
   "outputs": [],
   "source": [
    "# compute correlations\n",
    "data_corrs = CORRELATION_METHOD(data)"
   ]
  },
  {
   "cell_type": "code",
   "execution_count": null,
   "id": "bd93f2d7-d1fe-46c5-9a8c-92cac91ef7c6",
   "metadata": {
    "papermill": {
     "duration": 0.021773,
     "end_time": "2021-09-16T07:57:22.230185",
     "exception": false,
     "start_time": "2021-09-16T07:57:22.208412",
     "status": "completed"
    },
    "tags": []
   },
   "outputs": [],
   "source": [
    "display(data_corrs.shape)\n",
    "\n",
    "assert data.shape[0] == data_corrs.shape[0]"
   ]
  },
  {
   "cell_type": "code",
   "execution_count": null,
   "id": "da4f952a-539d-4007-bbfb-a57e426fb68a",
   "metadata": {
    "papermill": {
     "duration": 0.036168,
     "end_time": "2021-09-16T07:57:22.282829",
     "exception": false,
     "start_time": "2021-09-16T07:57:22.246661",
     "status": "completed"
    },
    "tags": []
   },
   "outputs": [],
   "source": [
    "data_corrs.head()"
   ]
  },
  {
   "cell_type": "code",
   "execution_count": null,
   "id": "31e811b1-4329-494b-9905-ee002b34f4b4",
   "metadata": {
    "papermill": {
     "duration": 0.02332,
     "end_time": "2021-09-16T07:57:22.323280",
     "exception": false,
     "start_time": "2021-09-16T07:57:22.299960",
     "status": "completed"
    },
    "tags": []
   },
   "outputs": [],
   "source": [
    "output_filename = OUTPUT_DIR / f\"{INPUT_FILE.stem}-{method_name}.pkl\"\n",
    "display(output_filename)"
   ]
  },
  {
   "cell_type": "code",
   "execution_count": null,
   "id": "b3c49a1a-bdf4-4cf9-824d-0d5c0acf2b73",
   "metadata": {
    "papermill": {
     "duration": 0.258979,
     "end_time": "2021-09-16T07:57:22.600187",
     "exception": false,
     "start_time": "2021-09-16T07:57:22.341208",
     "status": "completed"
    },
    "tags": []
   },
   "outputs": [],
   "source": [
    "# save\n",
    "data_corrs.to_pickle(output_filename)"
   ]
  },
  {
   "cell_type": "code",
   "execution_count": null,
   "id": "258babdf-03ce-4450-ab22-7a3d75bf6869",
   "metadata": {
    "papermill": {
     "duration": 0.016929,
     "end_time": "2021-09-16T07:57:22.635033",
     "exception": false,
     "start_time": "2021-09-16T07:57:22.618104",
     "status": "completed"
    },
    "tags": []
   },
   "outputs": [],
   "source": []
  }
 ],
 "metadata": {
  "jupytext": {
   "cell_metadata_filter": "all,-execution,-papermill,-trusted"
  },
  "kernelspec": {
   "display_name": "Python 3 (ipykernel)",
   "language": "python",
   "name": "python3"
  },
  "language_info": {
   "codemirror_mode": {
    "name": "ipython",
    "version": 3
   },
   "file_extension": ".py",
   "mimetype": "text/x-python",
   "name": "python",
   "nbconvert_exporter": "python",
   "pygments_lexer": "ipython3",
   "version": "3.9.7"
  },
  "papermill": {
   "default_parameters": {},
   "duration": 288659.165844,
   "end_time": "2021-09-16T07:57:23.690254",
   "environment_variables": {},
   "exception": null,
   "input_path": "nbs/10_compute_correlations/10_recount2/07-recount2-clustermatch.ipynb",
   "output_path": "nbs/10_compute_correlations/10_recount2/07-recount2-clustermatch.run.ipynb",
   "parameters": {},
   "start_time": "2021-09-12T23:46:24.524410",
   "version": "2.3.3"
  },
  "toc-autonumbering": true
 },
 "nbformat": 4,
 "nbformat_minor": 5
}
