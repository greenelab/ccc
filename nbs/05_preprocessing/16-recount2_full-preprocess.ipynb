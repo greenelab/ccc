{
 "cells": [
  {
   "cell_type": "markdown",
   "id": "7e4be321-74d6-453d-9215-84c388f35b18",
   "metadata": {
    "papermill": {
     "duration": 0.024615,
     "end_time": "2021-09-09T14:38:17.306169",
     "exception": false,
     "start_time": "2021-09-09T14:38:17.281554",
     "status": "completed"
    },
    "tags": []
   },
   "source": [
    "# Description"
   ]
  },
  {
   "cell_type": "markdown",
   "id": "9ae9e9f5-47df-422f-a298-2a2bf71d3d4e",
   "metadata": {
    "papermill": {
     "duration": 0.023991,
     "end_time": "2021-09-09T14:38:17.354538",
     "exception": false,
     "start_time": "2021-09-09T14:38:17.330547",
     "status": "completed"
    },
    "tags": []
   },
   "source": [
    "This notebook contains code taken from the MultiPLIER repo to download and process recount2 data.\n",
    "The code was taken from [here](https://github.com/greenelab/rheum-plier-data/blob/master/recount2/1-get_all_recount_dataset.R) and [here](https://github.com/greenelab/rheum-plier-data/blob/master/recount2/2-prep_recount_for_plier.R).\n",
    "\n",
    "The output are Python pickle files with a large matrix with genes in rows and samples in columns, and another file with gene ID mappings."
   ]
  },
  {
   "cell_type": "markdown",
   "id": "dc743e44-9475-4ce4-afaa-1908d88cb5aa",
   "metadata": {
    "papermill": {
     "duration": 0.024372,
     "end_time": "2021-09-09T14:38:17.402987",
     "exception": false,
     "start_time": "2021-09-09T14:38:17.378615",
     "status": "completed"
    },
    "tags": []
   },
   "source": [
    "# Modules"
   ]
  },
  {
   "cell_type": "code",
   "execution_count": null,
   "id": "4bd35ce2-eea5-4f2d-acb3-99ab7d384d89",
   "metadata": {
    "papermill": {
     "duration": 0.561987,
     "end_time": "2021-09-09T14:38:17.989039",
     "exception": false,
     "start_time": "2021-09-09T14:38:17.427052",
     "status": "completed"
    },
    "tags": []
   },
   "outputs": [],
   "source": [
    "`%>%` <- dplyr::`%>%`\n",
    "library(biomaRt)\n",
    "library(reticulate)"
   ]
  },
  {
   "cell_type": "markdown",
   "id": "47ebf07b-00e9-46e0-8fe7-38ff652a7639",
   "metadata": {
    "papermill": {
     "duration": 0.023971,
     "end_time": "2021-09-09T14:38:18.146918",
     "exception": false,
     "start_time": "2021-09-09T14:38:18.122947",
     "status": "completed"
    },
    "tags": []
   },
   "source": [
    "# Settings"
   ]
  },
  {
   "cell_type": "code",
   "execution_count": null,
   "id": "81e69014-7cd9-4918-8d01-5f357d741d72",
   "metadata": {},
   "outputs": [],
   "source": [
    "recount2full.data.dir <- Sys.getenv(\"CM_RECOUNT2FULL_DATA_DIR\")"
   ]
  },
  {
   "cell_type": "code",
   "execution_count": null,
   "id": "eb0b4df2-11dc-46e3-8270-10247f8190dc",
   "metadata": {},
   "outputs": [],
   "source": [
    "recount2full.data.dir"
   ]
  },
  {
   "cell_type": "code",
   "execution_count": null,
   "id": "3256d542-a820-4c78-8145-4cfab17238de",
   "metadata": {},
   "outputs": [],
   "source": [
    "dir.create(recount2full.data.dir, recursive = TRUE, showWarnings = FALSE)"
   ]
  },
  {
   "cell_type": "code",
   "execution_count": null,
   "id": "cc33e991-0756-4779-9dcb-33a420cb658e",
   "metadata": {},
   "outputs": [],
   "source": [
    "data.dir <- Sys.getenv(\"CM_RECOUNT2FULL_INTERNAL_DATA_DIR\")"
   ]
  },
  {
   "cell_type": "code",
   "execution_count": null,
   "id": "802dab3f-025d-41be-9c83-57a3fb6ed474",
   "metadata": {},
   "outputs": [],
   "source": [
    "data.dir"
   ]
  },
  {
   "cell_type": "code",
   "execution_count": null,
   "id": "ce3bd379-0cd6-45f1-8f7f-89e00cf07ea8",
   "metadata": {
    "papermill": {
     "duration": 0.03836,
     "end_time": "2021-09-09T14:38:18.211085",
     "exception": false,
     "start_time": "2021-09-09T14:38:18.172725",
     "status": "completed"
    },
    "tags": []
   },
   "outputs": [],
   "source": [
    "dir.create(data.dir, recursive = TRUE, showWarnings = FALSE)"
   ]
  },
  {
   "cell_type": "markdown",
   "id": "c88768e2-533a-42c1-a61f-bece04ce1837",
   "metadata": {
    "papermill": {
     "duration": 0.024418,
     "end_time": "2021-09-09T14:38:18.260259",
     "exception": false,
     "start_time": "2021-09-09T14:38:18.235841",
     "status": "completed"
    },
    "tags": []
   },
   "source": [
    "# Load raw data"
   ]
  },
  {
   "cell_type": "code",
   "execution_count": null,
   "id": "5e4ce2e3-e480-4f27-9493-7b2f6aa6c74b",
   "metadata": {},
   "outputs": [],
   "source": [
    "input.file <- file.path(recount2full.data.dir, \"recount2_rpkm_raw.rds\")"
   ]
  },
  {
   "cell_type": "code",
   "execution_count": null,
   "id": "606efab9-acd3-4e3b-9af2-c04a34b0f96c",
   "metadata": {},
   "outputs": [],
   "source": [
    "input.file"
   ]
  },
  {
   "cell_type": "code",
   "execution_count": null,
   "id": "a71e80e8-ae6e-4069-ac6b-bd06ff85297a",
   "metadata": {},
   "outputs": [],
   "source": [
    "rpkm.df <- readRDS(input.file)"
   ]
  },
  {
   "cell_type": "code",
   "execution_count": null,
   "id": "c5898a94-5bb4-4d5b-a24e-f7da50f55756",
   "metadata": {},
   "outputs": [],
   "source": [
    "dim(rpkm.df)"
   ]
  },
  {
   "cell_type": "code",
   "execution_count": null,
   "id": "c5b6ab9b-5c53-4d35-aa12-92e8ed752b6b",
   "metadata": {},
   "outputs": [],
   "source": [
    "head(rpkm.df[, 1:10])"
   ]
  },
  {
   "cell_type": "markdown",
   "id": "68d6709b-0e17-4b59-8518-8c9facd5bb42",
   "metadata": {
    "papermill": {
     "duration": 0.024418,
     "end_time": "2021-09-09T14:38:18.260259",
     "exception": false,
     "start_time": "2021-09-09T14:38:18.235841",
     "status": "completed"
    },
    "tags": []
   },
   "source": [
    "# Preprocess data"
   ]
  },
  {
   "cell_type": "code",
   "execution_count": null,
   "id": "78a8c047-96dc-47b6-8ab5-9745ae9abf02",
   "metadata": {},
   "outputs": [],
   "source": [
    "# Transform ensembl id to genesymbol\n",
    "mart <- biomaRt::useDataset(\n",
    "  \"hsapiens_gene_ensembl\",\n",
    "  biomaRt::useMart(\"ensembl\")\n",
    ")"
   ]
  },
  {
   "cell_type": "code",
   "execution_count": null,
   "id": "6f7aabab-37d1-4885-bc0d-a97a0dd051dd",
   "metadata": {},
   "outputs": [],
   "source": [
    "genes <- unlist(lapply(strsplit(rpkm.df$ENSG, \"[.]\"), `[[`, 1))\n",
    "\n",
    "rpkm.df$ensembl_gene_id <- unlist(lapply(\n",
    "  strsplit(rpkm.df$ENSG, \"[.]\"),\n",
    "  `[[`, 1\n",
    "))\n",
    "\n",
    "gene.df <- biomaRt::getBM(\n",
    "  filters = \"ensembl_gene_id\",\n",
    "  attributes = c(\"ensembl_gene_id\", \"hgnc_symbol\"),\n",
    "  values = genes,\n",
    "  mart = mart\n",
    ")"
   ]
  },
  {
   "cell_type": "code",
   "execution_count": null,
   "id": "6d4bddf0-6d3b-45b6-848e-a39c6467b61a",
   "metadata": {},
   "outputs": [],
   "source": [
    "# filter to remove genes without a gene symbol\n",
    "gene.df <- gene.df %>% dplyr::filter(complete.cases(.))"
   ]
  },
  {
   "cell_type": "code",
   "execution_count": null,
   "id": "9b90c802-e181-41b2-b590-511b80030154",
   "metadata": {},
   "outputs": [],
   "source": [
    "# add gene symbols to expression df\n",
    "rpkm.df <- dplyr::inner_join(gene.df, rpkm.df,\n",
    "  by = \"ensembl_gene_id\"\n",
    ")"
   ]
  },
  {
   "cell_type": "code",
   "execution_count": null,
   "id": "d7ea6704-13fe-4970-aa5c-f1103d8deb2d",
   "metadata": {},
   "outputs": [],
   "source": [
    "# keep gene mappings\n",
    "gene.df <- rpkm.df %>% dplyr::select(ensembl_gene_id, hgnc_symbol)"
   ]
  },
  {
   "cell_type": "code",
   "execution_count": null,
   "id": "bb4ad15e-1a83-4ce5-a8ea-074cd8011194",
   "metadata": {},
   "outputs": [],
   "source": [
    "dim(gene.df)"
   ]
  },
  {
   "cell_type": "code",
   "execution_count": null,
   "id": "516886a0-1402-43c5-8658-76b8a547d863",
   "metadata": {},
   "outputs": [],
   "source": [
    "head(gene.df)"
   ]
  },
  {
   "cell_type": "code",
   "execution_count": null,
   "id": "ac41dd4e-608d-4cc6-aae5-855e41780be9",
   "metadata": {},
   "outputs": [],
   "source": [
    "# set Ensemble IDs as rownames\n",
    "rownames(rpkm.df) <- make.names(rpkm.df$ensembl_gene_id, unique = TRUE)"
   ]
  },
  {
   "cell_type": "code",
   "execution_count": null,
   "id": "834c05a1-43c1-4a62-98aa-819b7298f465",
   "metadata": {},
   "outputs": [],
   "source": [
    "# remove gene identifier columns\n",
    "rpkm.df <- rpkm.df %>% dplyr::select(-c(ensembl_gene_id:ENSG))"
   ]
  },
  {
   "cell_type": "code",
   "execution_count": null,
   "id": "796d9f84-06ad-4105-810c-d815b1f4b411",
   "metadata": {},
   "outputs": [],
   "source": [
    "dim(rpkm.df)"
   ]
  },
  {
   "cell_type": "code",
   "execution_count": null,
   "id": "1b661012-8ce6-4693-b6c8-eb9d194c0174",
   "metadata": {},
   "outputs": [],
   "source": [
    "head(rpkm.df[, 1:10])"
   ]
  },
  {
   "cell_type": "markdown",
   "id": "b77f89c7-da59-456d-bfa5-eeb3a2d91229",
   "metadata": {
    "papermill": {
     "duration": 0.024418,
     "end_time": "2021-09-09T14:38:18.260259",
     "exception": false,
     "start_time": "2021-09-09T14:38:18.235841",
     "status": "completed"
    },
    "tags": []
   },
   "source": [
    "# Save"
   ]
  },
  {
   "cell_type": "markdown",
   "id": "ddc34f00-8db3-4a8d-a3f0-955201ef5636",
   "metadata": {
    "papermill": {
     "duration": 0.024418,
     "end_time": "2021-09-09T14:38:18.260259",
     "exception": false,
     "start_time": "2021-09-09T14:38:18.235841",
     "status": "completed"
    },
    "tags": []
   },
   "source": [
    "## Gene ID mappings"
   ]
  },
  {
   "cell_type": "code",
   "execution_count": null,
   "id": "8b1d4e9a-167a-40a1-9b06-d64a0746d295",
   "metadata": {},
   "outputs": [],
   "source": [
    "output_filepath <- file.path(recount2full.data.dir, \"recount2_gene_ids_mappings\")"
   ]
  },
  {
   "cell_type": "code",
   "execution_count": null,
   "id": "768aaaba-8636-48c0-8b67-882e62f9c1c7",
   "metadata": {},
   "outputs": [],
   "source": [
    "output_filepath"
   ]
  },
  {
   "cell_type": "code",
   "execution_count": null,
   "id": "2028dbd4-efd1-4312-b896-7e4bf66af446",
   "metadata": {},
   "outputs": [],
   "source": [
    "saveRDS(gene.df, file = paste0(output_filepath, \".rds\"))"
   ]
  },
  {
   "cell_type": "code",
   "execution_count": null,
   "id": "fec6f1f5-2d06-491d-a59f-489fda27dbf0",
   "metadata": {},
   "outputs": [],
   "source": [
    "py_save_object(gene.df, paste0(output_filepath, \".pkl\"))"
   ]
  },
  {
   "cell_type": "markdown",
   "id": "f7d91a58-a302-465e-b465-031e5363d9e1",
   "metadata": {
    "papermill": {
     "duration": 0.024418,
     "end_time": "2021-09-09T14:38:18.260259",
     "exception": false,
     "start_time": "2021-09-09T14:38:18.235841",
     "status": "completed"
    },
    "tags": []
   },
   "source": [
    "## Gene expression data"
   ]
  },
  {
   "cell_type": "code",
   "execution_count": null,
   "id": "d6f2c1a6-f2cd-48e3-9550-061728613783",
   "metadata": {},
   "outputs": [],
   "source": [
    "output_filepath <- file.path(recount2full.data.dir, \"recount2_rpkm\")"
   ]
  },
  {
   "cell_type": "code",
   "execution_count": null,
   "id": "ae25cc13-2d4a-492a-b03e-bf84e44880b3",
   "metadata": {},
   "outputs": [],
   "source": [
    "output_filepath"
   ]
  },
  {
   "cell_type": "code",
   "execution_count": null,
   "id": "d45bd1f4-e608-4dc4-9b33-29b1838a84dd",
   "metadata": {},
   "outputs": [],
   "source": [
    "saveRDS(rpkm.df, file = paste0(output_filepath, \".rds\"))"
   ]
  },
  {
   "cell_type": "code",
   "execution_count": null,
   "id": "fc467f65-0142-4874-af3d-6c4b12fc3cce",
   "metadata": {},
   "outputs": [],
   "source": [
    "py_save_object(rpkm.df, paste0(output_filepath, \".pkl\"))"
   ]
  },
  {
   "cell_type": "markdown",
   "id": "9d3d638c-56a1-4baa-83c9-48c0d6a71f1d",
   "metadata": {
    "papermill": {
     "duration": 0.024418,
     "end_time": "2021-09-09T14:38:18.260259",
     "exception": false,
     "start_time": "2021-09-09T14:38:18.235841",
     "status": "completed"
    },
    "tags": []
   },
   "source": [
    "# Cleanup"
   ]
  },
  {
   "cell_type": "code",
   "execution_count": null,
   "id": "f97e4001-6abe-45dd-816f-adb27e79f477",
   "metadata": {},
   "outputs": [],
   "source": [
    "# the raw file is not longer necessary\n",
    "if (file.exists(input.file)) {\n",
    "  # Delete file if it exists\n",
    "  file.remove(input.file)\n",
    "}"
   ]
  }
 ],
 "metadata": {
  "jupytext": {
   "cell_metadata_filter": "all,-execution,-papermill,-trusted"
  },
  "kernelspec": {
   "display_name": "R",
   "language": "R",
   "name": "ir"
  },
  "language_info": {
   "codemirror_mode": "r",
   "file_extension": ".r",
   "mimetype": "text/x-r-source",
   "name": "R",
   "pygments_lexer": "r",
   "version": "4.1.1"
  },
  "toc-autonumbering": true
 },
 "nbformat": 4,
 "nbformat_minor": 5
}
