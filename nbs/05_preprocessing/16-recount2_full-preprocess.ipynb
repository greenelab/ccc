{
 "cells": [
  {
   "cell_type": "markdown",
   "id": "7e4be321-74d6-453d-9215-84c388f35b18",
   "metadata": {
    "papermill": {
     "duration": 0.036621,
     "end_time": "2021-12-24T04:31:39.708686",
     "exception": false,
     "start_time": "2021-12-24T04:31:39.672065",
     "status": "completed"
    },
    "tags": []
   },
   "source": [
    "# Description"
   ]
  },
  {
   "cell_type": "markdown",
   "id": "9ae9e9f5-47df-422f-a298-2a2bf71d3d4e",
   "metadata": {
    "papermill": {
     "duration": 0.023128,
     "end_time": "2021-12-24T04:31:39.755441",
     "exception": false,
     "start_time": "2021-12-24T04:31:39.732313",
     "status": "completed"
    },
    "tags": []
   },
   "source": [
    "This notebook contains code taken from the MultiPLIER repo to download and process recount2 data.\n",
    "The code was taken from [here](https://github.com/greenelab/rheum-plier-data/blob/master/recount2/1-get_all_recount_dataset.R) and [here](https://github.com/greenelab/rheum-plier-data/blob/master/recount2/2-prep_recount_for_plier.R).\n",
    "\n",
    "The output are Python pickle files with a large matrix with genes in rows and samples in columns, and another file with gene ID mappings."
   ]
  },
  {
   "cell_type": "markdown",
   "id": "dc743e44-9475-4ce4-afaa-1908d88cb5aa",
   "metadata": {
    "papermill": {
     "duration": 0.022714,
     "end_time": "2021-12-24T04:31:39.801199",
     "exception": false,
     "start_time": "2021-12-24T04:31:39.778485",
     "status": "completed"
    },
    "tags": []
   },
   "source": [
    "# Modules"
   ]
  },
  {
   "cell_type": "code",
   "execution_count": 1,
   "id": "4bd35ce2-eea5-4f2d-acb3-99ab7d384d89",
   "metadata": {
    "execution": {
     "iopub.execute_input": "2021-12-24T04:31:39.906679Z",
     "iopub.status.busy": "2021-12-24T04:31:39.903603Z",
     "iopub.status.idle": "2021-12-24T04:31:43.727882Z",
     "shell.execute_reply": "2021-12-24T04:31:43.726042Z"
    },
    "papermill": {
     "duration": 3.903658,
     "end_time": "2021-12-24T04:31:43.728011",
     "exception": false,
     "start_time": "2021-12-24T04:31:39.824353",
     "status": "completed"
    },
    "tags": []
   },
   "outputs": [],
   "source": [
    "`%>%` <- dplyr::`%>%`\n",
    "library(biomaRt)\n",
    "library(reticulate)"
   ]
  },
  {
   "cell_type": "markdown",
   "id": "47ebf07b-00e9-46e0-8fe7-38ff652a7639",
   "metadata": {
    "papermill": {
     "duration": 0.022997,
     "end_time": "2021-12-24T04:31:43.775643",
     "exception": false,
     "start_time": "2021-12-24T04:31:43.752646",
     "status": "completed"
    },
    "tags": []
   },
   "source": [
    "# Settings"
   ]
  },
  {
   "cell_type": "code",
   "execution_count": 2,
   "id": "81e69014-7cd9-4918-8d01-5f357d741d72",
   "metadata": {
    "execution": {
     "iopub.execute_input": "2021-12-24T04:31:43.847365Z",
     "iopub.status.busy": "2021-12-24T04:31:43.832714Z",
     "iopub.status.idle": "2021-12-24T04:31:43.856312Z",
     "shell.execute_reply": "2021-12-24T04:31:43.854622Z"
    },
    "papermill": {
     "duration": 0.057911,
     "end_time": "2021-12-24T04:31:43.856423",
     "exception": false,
     "start_time": "2021-12-24T04:31:43.798512",
     "status": "completed"
    },
    "tags": []
   },
   "outputs": [],
   "source": [
    "recount2full.data.dir <- Sys.getenv(\"CM_RECOUNT2FULL_DATA_DIR\")"
   ]
  },
  {
   "cell_type": "code",
   "execution_count": 3,
   "id": "eb0b4df2-11dc-46e3-8270-10247f8190dc",
   "metadata": {
    "execution": {
     "iopub.execute_input": "2021-12-24T04:31:43.915149Z",
     "iopub.status.busy": "2021-12-24T04:31:43.914684Z",
     "iopub.status.idle": "2021-12-24T04:31:43.920137Z",
     "shell.execute_reply": "2021-12-24T04:31:43.919711Z"
    },
    "papermill": {
     "duration": 0.040332,
     "end_time": "2021-12-24T04:31:43.920248",
     "exception": false,
     "start_time": "2021-12-24T04:31:43.879916",
     "status": "completed"
    },
    "tags": []
   },
   "outputs": [
    {
     "data": {
      "text/html": [
       "'/opt/data/data/recount2full'"
      ],
      "text/latex": [
       "'/opt/data/data/recount2full'"
      ],
      "text/markdown": [
       "'/opt/data/data/recount2full'"
      ],
      "text/plain": [
       "[1] \"/opt/data/data/recount2full\""
      ]
     },
     "metadata": {},
     "output_type": "display_data"
    }
   ],
   "source": [
    "recount2full.data.dir"
   ]
  },
  {
   "cell_type": "code",
   "execution_count": 4,
   "id": "3256d542-a820-4c78-8145-4cfab17238de",
   "metadata": {
    "execution": {
     "iopub.execute_input": "2021-12-24T04:31:43.979707Z",
     "iopub.status.busy": "2021-12-24T04:31:43.978876Z",
     "iopub.status.idle": "2021-12-24T04:31:43.981483Z",
     "shell.execute_reply": "2021-12-24T04:31:43.979277Z"
    },
    "papermill": {
     "duration": 0.03699,
     "end_time": "2021-12-24T04:31:43.981590",
     "exception": false,
     "start_time": "2021-12-24T04:31:43.944600",
     "status": "completed"
    },
    "tags": []
   },
   "outputs": [],
   "source": [
    "dir.create(recount2full.data.dir, recursive = TRUE, showWarnings = FALSE)"
   ]
  },
  {
   "cell_type": "code",
   "execution_count": 5,
   "id": "cc33e991-0756-4779-9dcb-33a420cb658e",
   "metadata": {
    "execution": {
     "iopub.execute_input": "2021-12-24T04:31:44.041456Z",
     "iopub.status.busy": "2021-12-24T04:31:44.040582Z",
     "iopub.status.idle": "2021-12-24T04:31:44.041895Z",
     "shell.execute_reply": "2021-12-24T04:31:44.041050Z"
    },
    "papermill": {
     "duration": 0.036426,
     "end_time": "2021-12-24T04:31:44.041999",
     "exception": false,
     "start_time": "2021-12-24T04:31:44.005573",
     "status": "completed"
    },
    "tags": []
   },
   "outputs": [],
   "source": [
    "data.dir <- Sys.getenv(\"CM_RECOUNT2FULL_INTERNAL_DATA_DIR\")"
   ]
  },
  {
   "cell_type": "code",
   "execution_count": 6,
   "id": "802dab3f-025d-41be-9c83-57a3fb6ed474",
   "metadata": {
    "execution": {
     "iopub.execute_input": "2021-12-24T04:31:44.100500Z",
     "iopub.status.busy": "2021-12-24T04:31:44.092435Z",
     "iopub.status.idle": "2021-12-24T04:31:44.103008Z",
     "shell.execute_reply": "2021-12-24T04:31:44.101948Z"
    },
    "papermill": {
     "duration": 0.037067,
     "end_time": "2021-12-24T04:31:44.103111",
     "exception": false,
     "start_time": "2021-12-24T04:31:44.066044",
     "status": "completed"
    },
    "tags": []
   },
   "outputs": [
    {
     "data": {
      "text/html": [
       "'/opt/data/data/recount2full/data'"
      ],
      "text/latex": [
       "'/opt/data/data/recount2full/data'"
      ],
      "text/markdown": [
       "'/opt/data/data/recount2full/data'"
      ],
      "text/plain": [
       "[1] \"/opt/data/data/recount2full/data\""
      ]
     },
     "metadata": {},
     "output_type": "display_data"
    }
   ],
   "source": [
    "data.dir"
   ]
  },
  {
   "cell_type": "code",
   "execution_count": 7,
   "id": "ce3bd379-0cd6-45f1-8f7f-89e00cf07ea8",
   "metadata": {
    "execution": {
     "iopub.execute_input": "2021-12-24T04:31:44.160495Z",
     "iopub.status.busy": "2021-12-24T04:31:44.154905Z",
     "iopub.status.idle": "2021-12-24T04:31:44.163572Z",
     "shell.execute_reply": "2021-12-24T04:31:44.162538Z"
    },
    "papermill": {
     "duration": 0.035818,
     "end_time": "2021-12-24T04:31:44.163677",
     "exception": false,
     "start_time": "2021-12-24T04:31:44.127859",
     "status": "completed"
    },
    "tags": []
   },
   "outputs": [],
   "source": [
    "dir.create(data.dir, recursive = TRUE, showWarnings = FALSE)"
   ]
  },
  {
   "cell_type": "markdown",
   "id": "c88768e2-533a-42c1-a61f-bece04ce1837",
   "metadata": {
    "papermill": {
     "duration": 0.024736,
     "end_time": "2021-12-24T04:31:44.213274",
     "exception": false,
     "start_time": "2021-12-24T04:31:44.188538",
     "status": "completed"
    },
    "tags": []
   },
   "source": [
    "# Load raw data"
   ]
  },
  {
   "cell_type": "code",
   "execution_count": 8,
   "id": "5e4ce2e3-e480-4f27-9493-7b2f6aa6c74b",
   "metadata": {
    "execution": {
     "iopub.execute_input": "2021-12-24T04:31:44.273014Z",
     "iopub.status.busy": "2021-12-24T04:31:44.272521Z",
     "iopub.status.idle": "2021-12-24T04:31:44.274268Z",
     "shell.execute_reply": "2021-12-24T04:31:44.273500Z"
    },
    "papermill": {
     "duration": 0.036233,
     "end_time": "2021-12-24T04:31:44.274370",
     "exception": false,
     "start_time": "2021-12-24T04:31:44.238137",
     "status": "completed"
    },
    "tags": []
   },
   "outputs": [],
   "source": [
    "input.file <- file.path(recount2full.data.dir, \"recount2_rpkm_raw.rds\")"
   ]
  },
  {
   "cell_type": "code",
   "execution_count": 9,
   "id": "606efab9-acd3-4e3b-9af2-c04a34b0f96c",
   "metadata": {
    "execution": {
     "iopub.execute_input": "2021-12-24T04:31:44.332987Z",
     "iopub.status.busy": "2021-12-24T04:31:44.332503Z",
     "iopub.status.idle": "2021-12-24T04:31:44.337735Z",
     "shell.execute_reply": "2021-12-24T04:31:44.336673Z"
    },
    "papermill": {
     "duration": 0.038695,
     "end_time": "2021-12-24T04:31:44.337841",
     "exception": false,
     "start_time": "2021-12-24T04:31:44.299146",
     "status": "completed"
    },
    "tags": []
   },
   "outputs": [
    {
     "data": {
      "text/html": [
       "'/opt/data/data/recount2full/recount2_rpkm_raw.rds'"
      ],
      "text/latex": [
       "'/opt/data/data/recount2full/recount2\\_rpkm\\_raw.rds'"
      ],
      "text/markdown": [
       "'/opt/data/data/recount2full/recount2_rpkm_raw.rds'"
      ],
      "text/plain": [
       "[1] \"/opt/data/data/recount2full/recount2_rpkm_raw.rds\""
      ]
     },
     "metadata": {},
     "output_type": "display_data"
    }
   ],
   "source": [
    "input.file"
   ]
  },
  {
   "cell_type": "code",
   "execution_count": 10,
   "id": "a71e80e8-ae6e-4069-ac6b-bd06ff85297a",
   "metadata": {
    "execution": {
     "iopub.execute_input": "2021-12-24T04:31:44.397007Z",
     "iopub.status.busy": "2021-12-24T04:31:44.396512Z",
     "iopub.status.idle": "2021-12-24T04:33:16.636756Z",
     "shell.execute_reply": "2021-12-24T04:33:16.635151Z"
    },
    "papermill": {
     "duration": 92.273429,
     "end_time": "2021-12-24T04:33:16.636863",
     "exception": false,
     "start_time": "2021-12-24T04:31:44.363434",
     "status": "completed"
    },
    "tags": []
   },
   "outputs": [],
   "source": [
    "rpkm.df <- readRDS(input.file)"
   ]
  },
  {
   "cell_type": "code",
   "execution_count": 11,
   "id": "c5898a94-5bb4-4d5b-a24e-f7da50f55756",
   "metadata": {
    "execution": {
     "iopub.execute_input": "2021-12-24T04:33:16.700988Z",
     "iopub.status.busy": "2021-12-24T04:33:16.700501Z",
     "iopub.status.idle": "2021-12-24T04:33:16.706010Z",
     "shell.execute_reply": "2021-12-24T04:33:16.705002Z"
    },
    "papermill": {
     "duration": 0.038778,
     "end_time": "2021-12-24T04:33:16.706116",
     "exception": false,
     "start_time": "2021-12-24T04:33:16.667338",
     "status": "completed"
    },
    "tags": []
   },
   "outputs": [
    {
     "data": {
      "text/html": [
       "<style>\n",
       ".list-inline {list-style: none; margin:0; padding: 0}\n",
       ".list-inline>li {display: inline-block}\n",
       ".list-inline>li:not(:last-child)::after {content: \"\\00b7\"; padding: 0 .5ex}\n",
       "</style>\n",
       "<ol class=list-inline><li>58037</li><li>37033</li></ol>\n"
      ],
      "text/latex": [
       "\\begin{enumerate*}\n",
       "\\item 58037\n",
       "\\item 37033\n",
       "\\end{enumerate*}\n"
      ],
      "text/markdown": [
       "1. 58037\n",
       "2. 37033\n",
       "\n",
       "\n"
      ],
      "text/plain": [
       "[1] 58037 37033"
      ]
     },
     "metadata": {},
     "output_type": "display_data"
    }
   ],
   "source": [
    "dim(rpkm.df)"
   ]
  },
  {
   "cell_type": "code",
   "execution_count": 12,
   "id": "c5b6ab9b-5c53-4d35-aa12-92e8ed752b6b",
   "metadata": {
    "execution": {
     "iopub.execute_input": "2021-12-24T04:33:16.768985Z",
     "iopub.status.busy": "2021-12-24T04:33:16.768503Z",
     "iopub.status.idle": "2021-12-24T04:33:16.793362Z",
     "shell.execute_reply": "2021-12-24T04:33:16.792351Z"
    },
    "papermill": {
     "duration": 0.060899,
     "end_time": "2021-12-24T04:33:16.793465",
     "exception": false,
     "start_time": "2021-12-24T04:33:16.732566",
     "status": "completed"
    },
    "tags": []
   },
   "outputs": [
    {
     "data": {
      "text/html": [
       "<table class=\"dataframe\">\n",
       "<caption>A data.frame: 6 × 10</caption>\n",
       "<thead>\n",
       "\t<tr><th></th><th scope=col>ENSG</th><th scope=col>SRP000599.SRR013549</th><th scope=col>SRP000599.SRR013550</th><th scope=col>SRP000599.SRR013551</th><th scope=col>SRP000599.SRR013552</th><th scope=col>SRP000599.SRR013553</th><th scope=col>SRP000599.SRR013554</th><th scope=col>SRP000599.SRR013555</th><th scope=col>SRP000599.SRR013556</th><th scope=col>SRP000599.SRR013557</th></tr>\n",
       "\t<tr><th></th><th scope=col>&lt;chr&gt;</th><th scope=col>&lt;dbl&gt;</th><th scope=col>&lt;dbl&gt;</th><th scope=col>&lt;dbl&gt;</th><th scope=col>&lt;dbl&gt;</th><th scope=col>&lt;dbl&gt;</th><th scope=col>&lt;dbl&gt;</th><th scope=col>&lt;dbl&gt;</th><th scope=col>&lt;dbl&gt;</th><th scope=col>&lt;dbl&gt;</th></tr>\n",
       "</thead>\n",
       "<tbody>\n",
       "\t<tr><th scope=row>1</th><td>ENSG00000000003.14</td><td>0.00000000</td><td>0</td><td>0.0000000</td><td>0</td><td>0</td><td>0</td><td>0.9293512</td><td>1.175312</td><td>0.4598586</td></tr>\n",
       "\t<tr><th scope=row>2</th><td>ENSG00000000005.5 </td><td>0.00000000</td><td>0</td><td>0.0000000</td><td>0</td><td>0</td><td>0</td><td>0.0000000</td><td>0.000000</td><td>0.0000000</td></tr>\n",
       "\t<tr><th scope=row>3</th><td>ENSG00000000419.12</td><td>0.00000000</td><td>0</td><td>0.0000000</td><td>0</td><td>0</td><td>0</td><td>0.0000000</td><td>0.000000</td><td>5.5613668</td></tr>\n",
       "\t<tr><th scope=row>4</th><td>ENSG00000000457.13</td><td>0.00000000</td><td>0</td><td>0.0000000</td><td>0</td><td>0</td><td>0</td><td>0.0000000</td><td>0.000000</td><td>0.0000000</td></tr>\n",
       "\t<tr><th scope=row>5</th><td>ENSG00000000460.16</td><td>0.08456512</td><td>0</td><td>0.4970834</td><td>0</td><td>0</td><td>0</td><td>1.1771990</td><td>0.000000</td><td>0.0000000</td></tr>\n",
       "\t<tr><th scope=row>6</th><td>ENSG00000000938.12</td><td>0.00000000</td><td>0</td><td>0.0000000</td><td>0</td><td>0</td><td>0</td><td>0.0000000</td><td>0.000000</td><td>0.0000000</td></tr>\n",
       "</tbody>\n",
       "</table>\n"
      ],
      "text/latex": [
       "A data.frame: 6 × 10\n",
       "\\begin{tabular}{r|llllllllll}\n",
       "  & ENSG & SRP000599.SRR013549 & SRP000599.SRR013550 & SRP000599.SRR013551 & SRP000599.SRR013552 & SRP000599.SRR013553 & SRP000599.SRR013554 & SRP000599.SRR013555 & SRP000599.SRR013556 & SRP000599.SRR013557\\\\\n",
       "  & <chr> & <dbl> & <dbl> & <dbl> & <dbl> & <dbl> & <dbl> & <dbl> & <dbl> & <dbl>\\\\\n",
       "\\hline\n",
       "\t1 & ENSG00000000003.14 & 0.00000000 & 0 & 0.0000000 & 0 & 0 & 0 & 0.9293512 & 1.175312 & 0.4598586\\\\\n",
       "\t2 & ENSG00000000005.5  & 0.00000000 & 0 & 0.0000000 & 0 & 0 & 0 & 0.0000000 & 0.000000 & 0.0000000\\\\\n",
       "\t3 & ENSG00000000419.12 & 0.00000000 & 0 & 0.0000000 & 0 & 0 & 0 & 0.0000000 & 0.000000 & 5.5613668\\\\\n",
       "\t4 & ENSG00000000457.13 & 0.00000000 & 0 & 0.0000000 & 0 & 0 & 0 & 0.0000000 & 0.000000 & 0.0000000\\\\\n",
       "\t5 & ENSG00000000460.16 & 0.08456512 & 0 & 0.4970834 & 0 & 0 & 0 & 1.1771990 & 0.000000 & 0.0000000\\\\\n",
       "\t6 & ENSG00000000938.12 & 0.00000000 & 0 & 0.0000000 & 0 & 0 & 0 & 0.0000000 & 0.000000 & 0.0000000\\\\\n",
       "\\end{tabular}\n"
      ],
      "text/markdown": [
       "\n",
       "A data.frame: 6 × 10\n",
       "\n",
       "| <!--/--> | ENSG &lt;chr&gt; | SRP000599.SRR013549 &lt;dbl&gt; | SRP000599.SRR013550 &lt;dbl&gt; | SRP000599.SRR013551 &lt;dbl&gt; | SRP000599.SRR013552 &lt;dbl&gt; | SRP000599.SRR013553 &lt;dbl&gt; | SRP000599.SRR013554 &lt;dbl&gt; | SRP000599.SRR013555 &lt;dbl&gt; | SRP000599.SRR013556 &lt;dbl&gt; | SRP000599.SRR013557 &lt;dbl&gt; |\n",
       "|---|---|---|---|---|---|---|---|---|---|---|\n",
       "| 1 | ENSG00000000003.14 | 0.00000000 | 0 | 0.0000000 | 0 | 0 | 0 | 0.9293512 | 1.175312 | 0.4598586 |\n",
       "| 2 | ENSG00000000005.5  | 0.00000000 | 0 | 0.0000000 | 0 | 0 | 0 | 0.0000000 | 0.000000 | 0.0000000 |\n",
       "| 3 | ENSG00000000419.12 | 0.00000000 | 0 | 0.0000000 | 0 | 0 | 0 | 0.0000000 | 0.000000 | 5.5613668 |\n",
       "| 4 | ENSG00000000457.13 | 0.00000000 | 0 | 0.0000000 | 0 | 0 | 0 | 0.0000000 | 0.000000 | 0.0000000 |\n",
       "| 5 | ENSG00000000460.16 | 0.08456512 | 0 | 0.4970834 | 0 | 0 | 0 | 1.1771990 | 0.000000 | 0.0000000 |\n",
       "| 6 | ENSG00000000938.12 | 0.00000000 | 0 | 0.0000000 | 0 | 0 | 0 | 0.0000000 | 0.000000 | 0.0000000 |\n",
       "\n"
      ],
      "text/plain": [
       "  ENSG               SRP000599.SRR013549 SRP000599.SRR013550\n",
       "1 ENSG00000000003.14 0.00000000          0                  \n",
       "2 ENSG00000000005.5  0.00000000          0                  \n",
       "3 ENSG00000000419.12 0.00000000          0                  \n",
       "4 ENSG00000000457.13 0.00000000          0                  \n",
       "5 ENSG00000000460.16 0.08456512          0                  \n",
       "6 ENSG00000000938.12 0.00000000          0                  \n",
       "  SRP000599.SRR013551 SRP000599.SRR013552 SRP000599.SRR013553\n",
       "1 0.0000000           0                   0                  \n",
       "2 0.0000000           0                   0                  \n",
       "3 0.0000000           0                   0                  \n",
       "4 0.0000000           0                   0                  \n",
       "5 0.4970834           0                   0                  \n",
       "6 0.0000000           0                   0                  \n",
       "  SRP000599.SRR013554 SRP000599.SRR013555 SRP000599.SRR013556\n",
       "1 0                   0.9293512           1.175312           \n",
       "2 0                   0.0000000           0.000000           \n",
       "3 0                   0.0000000           0.000000           \n",
       "4 0                   0.0000000           0.000000           \n",
       "5 0                   1.1771990           0.000000           \n",
       "6 0                   0.0000000           0.000000           \n",
       "  SRP000599.SRR013557\n",
       "1 0.4598586          \n",
       "2 0.0000000          \n",
       "3 5.5613668          \n",
       "4 0.0000000          \n",
       "5 0.0000000          \n",
       "6 0.0000000          "
      ]
     },
     "metadata": {},
     "output_type": "display_data"
    }
   ],
   "source": [
    "head(rpkm.df[, 1:10])"
   ]
  },
  {
   "cell_type": "markdown",
   "id": "68d6709b-0e17-4b59-8518-8c9facd5bb42",
   "metadata": {
    "papermill": {
     "duration": 0.026814,
     "end_time": "2021-12-24T04:33:16.847247",
     "exception": false,
     "start_time": "2021-12-24T04:33:16.820433",
     "status": "completed"
    },
    "tags": []
   },
   "source": [
    "# Preprocess data"
   ]
  },
  {
   "cell_type": "code",
   "execution_count": 13,
   "id": "78a8c047-96dc-47b6-8ab5-9745ae9abf02",
   "metadata": {
    "execution": {
     "iopub.execute_input": "2021-12-24T04:33:16.912586Z",
     "iopub.status.busy": "2021-12-24T04:33:16.903498Z",
     "iopub.status.idle": "2021-12-24T04:33:30.708803Z",
     "shell.execute_reply": "2021-12-24T04:33:30.707988Z"
    },
    "papermill": {
     "duration": 13.834761,
     "end_time": "2021-12-24T04:33:30.708910",
     "exception": false,
     "start_time": "2021-12-24T04:33:16.874149",
     "status": "completed"
    },
    "tags": []
   },
   "outputs": [],
   "source": [
    "# Transform ensembl id to genesymbol\n",
    "mart <- biomaRt::useDataset(\n",
    "  \"hsapiens_gene_ensembl\",\n",
    "  biomaRt::useMart(\"ensembl\")\n",
    ")"
   ]
  },
  {
   "cell_type": "code",
   "execution_count": 14,
   "id": "6f7aabab-37d1-4885-bc0d-a97a0dd051dd",
   "metadata": {
    "execution": {
     "iopub.execute_input": "2021-12-24T04:33:30.773039Z",
     "iopub.status.busy": "2021-12-24T04:33:30.772514Z",
     "iopub.status.idle": "2021-12-24T04:33:31.715861Z",
     "shell.execute_reply": "2021-12-24T04:33:31.714972Z"
    },
    "papermill": {
     "duration": 0.979676,
     "end_time": "2021-12-24T04:33:31.716009",
     "exception": false,
     "start_time": "2021-12-24T04:33:30.736333",
     "status": "completed"
    },
    "tags": []
   },
   "outputs": [],
   "source": [
    "genes <- unlist(lapply(strsplit(rpkm.df$ENSG, \"[.]\"), `[[`, 1))\n",
    "\n",
    "rpkm.df$ensembl_gene_id <- unlist(lapply(\n",
    "  strsplit(rpkm.df$ENSG, \"[.]\"),\n",
    "  `[[`, 1\n",
    "))\n",
    "\n",
    "gene.df <- biomaRt::getBM(\n",
    "  filters = \"ensembl_gene_id\",\n",
    "  attributes = c(\"ensembl_gene_id\", \"hgnc_symbol\"),\n",
    "  values = genes,\n",
    "  mart = mart\n",
    ")"
   ]
  },
  {
   "cell_type": "code",
   "execution_count": 15,
   "id": "6d4bddf0-6d3b-45b6-848e-a39c6467b61a",
   "metadata": {
    "execution": {
     "iopub.execute_input": "2021-12-24T04:33:31.776985Z",
     "iopub.status.busy": "2021-12-24T04:33:31.776494Z",
     "iopub.status.idle": "2021-12-24T04:33:31.784586Z",
     "shell.execute_reply": "2021-12-24T04:33:31.783651Z"
    },
    "papermill": {
     "duration": 0.041005,
     "end_time": "2021-12-24T04:33:31.784693",
     "exception": false,
     "start_time": "2021-12-24T04:33:31.743688",
     "status": "completed"
    },
    "tags": []
   },
   "outputs": [],
   "source": [
    "# filter to remove genes without a gene symbol\n",
    "gene.df <- gene.df %>% dplyr::filter(complete.cases(.))"
   ]
  },
  {
   "cell_type": "code",
   "execution_count": 16,
   "id": "9b90c802-e181-41b2-b590-511b80030154",
   "metadata": {
    "execution": {
     "iopub.execute_input": "2021-12-24T04:33:31.848498Z",
     "iopub.status.busy": "2021-12-24T04:33:31.842654Z",
     "iopub.status.idle": "2021-12-24T04:33:49.011980Z",
     "shell.execute_reply": "2021-12-24T04:33:49.011166Z"
    },
    "papermill": {
     "duration": 17.19973,
     "end_time": "2021-12-24T04:33:49.012108",
     "exception": false,
     "start_time": "2021-12-24T04:33:31.812378",
     "status": "completed"
    },
    "tags": []
   },
   "outputs": [],
   "source": [
    "# add gene symbols to expression df\n",
    "rpkm.df <- dplyr::inner_join(gene.df, rpkm.df,\n",
    "  by = \"ensembl_gene_id\"\n",
    ")"
   ]
  },
  {
   "cell_type": "code",
   "execution_count": 17,
   "id": "d7ea6704-13fe-4970-aa5c-f1103d8deb2d",
   "metadata": {
    "execution": {
     "iopub.execute_input": "2021-12-24T04:33:49.073133Z",
     "iopub.status.busy": "2021-12-24T04:33:49.071036Z",
     "iopub.status.idle": "2021-12-24T04:33:49.142312Z",
     "shell.execute_reply": "2021-12-24T04:33:49.140699Z"
    },
    "papermill": {
     "duration": 0.101383,
     "end_time": "2021-12-24T04:33:49.142420",
     "exception": false,
     "start_time": "2021-12-24T04:33:49.041037",
     "status": "completed"
    },
    "tags": []
   },
   "outputs": [],
   "source": [
    "# keep gene mappings\n",
    "gene.df <- rpkm.df %>% dplyr::select(ensembl_gene_id, hgnc_symbol)"
   ]
  },
  {
   "cell_type": "code",
   "execution_count": 18,
   "id": "bb4ad15e-1a83-4ce5-a8ea-074cd8011194",
   "metadata": {
    "execution": {
     "iopub.execute_input": "2021-12-24T04:33:49.228576Z",
     "iopub.status.busy": "2021-12-24T04:33:49.219726Z",
     "iopub.status.idle": "2021-12-24T04:33:49.233001Z",
     "shell.execute_reply": "2021-12-24T04:33:49.232032Z"
    },
    "papermill": {
     "duration": 0.046473,
     "end_time": "2021-12-24T04:33:49.233105",
     "exception": false,
     "start_time": "2021-12-24T04:33:49.186632",
     "status": "completed"
    },
    "tags": []
   },
   "outputs": [
    {
     "data": {
      "text/html": [
       "<style>\n",
       ".list-inline {list-style: none; margin:0; padding: 0}\n",
       ".list-inline>li {display: inline-block}\n",
       ".list-inline>li:not(:last-child)::after {content: \"\\00b7\"; padding: 0 .5ex}\n",
       "</style>\n",
       "<ol class=list-inline><li>57096</li><li>2</li></ol>\n"
      ],
      "text/latex": [
       "\\begin{enumerate*}\n",
       "\\item 57096\n",
       "\\item 2\n",
       "\\end{enumerate*}\n"
      ],
      "text/markdown": [
       "1. 57096\n",
       "2. 2\n",
       "\n",
       "\n"
      ],
      "text/plain": [
       "[1] 57096     2"
      ]
     },
     "metadata": {},
     "output_type": "display_data"
    }
   ],
   "source": [
    "dim(gene.df)"
   ]
  },
  {
   "cell_type": "code",
   "execution_count": 19,
   "id": "516886a0-1402-43c5-8658-76b8a547d863",
   "metadata": {
    "execution": {
     "iopub.execute_input": "2021-12-24T04:33:49.300581Z",
     "iopub.status.busy": "2021-12-24T04:33:49.292519Z",
     "iopub.status.idle": "2021-12-24T04:33:49.307333Z",
     "shell.execute_reply": "2021-12-24T04:33:49.306380Z"
    },
    "papermill": {
     "duration": 0.045847,
     "end_time": "2021-12-24T04:33:49.307436",
     "exception": false,
     "start_time": "2021-12-24T04:33:49.261589",
     "status": "completed"
    },
    "tags": []
   },
   "outputs": [
    {
     "data": {
      "text/html": [
       "<table class=\"dataframe\">\n",
       "<caption>A data.frame: 6 × 2</caption>\n",
       "<thead>\n",
       "\t<tr><th></th><th scope=col>ensembl_gene_id</th><th scope=col>hgnc_symbol</th></tr>\n",
       "\t<tr><th></th><th scope=col>&lt;chr&gt;</th><th scope=col>&lt;chr&gt;</th></tr>\n",
       "</thead>\n",
       "<tbody>\n",
       "\t<tr><th scope=row>1</th><td>ENSG00000000003</td><td>TSPAN6  </td></tr>\n",
       "\t<tr><th scope=row>2</th><td>ENSG00000000005</td><td>TNMD    </td></tr>\n",
       "\t<tr><th scope=row>3</th><td>ENSG00000000419</td><td>DPM1    </td></tr>\n",
       "\t<tr><th scope=row>4</th><td>ENSG00000000457</td><td>SCYL3   </td></tr>\n",
       "\t<tr><th scope=row>5</th><td>ENSG00000000460</td><td>C1orf112</td></tr>\n",
       "\t<tr><th scope=row>6</th><td>ENSG00000000938</td><td>FGR     </td></tr>\n",
       "</tbody>\n",
       "</table>\n"
      ],
      "text/latex": [
       "A data.frame: 6 × 2\n",
       "\\begin{tabular}{r|ll}\n",
       "  & ensembl\\_gene\\_id & hgnc\\_symbol\\\\\n",
       "  & <chr> & <chr>\\\\\n",
       "\\hline\n",
       "\t1 & ENSG00000000003 & TSPAN6  \\\\\n",
       "\t2 & ENSG00000000005 & TNMD    \\\\\n",
       "\t3 & ENSG00000000419 & DPM1    \\\\\n",
       "\t4 & ENSG00000000457 & SCYL3   \\\\\n",
       "\t5 & ENSG00000000460 & C1orf112\\\\\n",
       "\t6 & ENSG00000000938 & FGR     \\\\\n",
       "\\end{tabular}\n"
      ],
      "text/markdown": [
       "\n",
       "A data.frame: 6 × 2\n",
       "\n",
       "| <!--/--> | ensembl_gene_id &lt;chr&gt; | hgnc_symbol &lt;chr&gt; |\n",
       "|---|---|---|\n",
       "| 1 | ENSG00000000003 | TSPAN6   |\n",
       "| 2 | ENSG00000000005 | TNMD     |\n",
       "| 3 | ENSG00000000419 | DPM1     |\n",
       "| 4 | ENSG00000000457 | SCYL3    |\n",
       "| 5 | ENSG00000000460 | C1orf112 |\n",
       "| 6 | ENSG00000000938 | FGR      |\n",
       "\n"
      ],
      "text/plain": [
       "  ensembl_gene_id hgnc_symbol\n",
       "1 ENSG00000000003 TSPAN6     \n",
       "2 ENSG00000000005 TNMD       \n",
       "3 ENSG00000000419 DPM1       \n",
       "4 ENSG00000000457 SCYL3      \n",
       "5 ENSG00000000460 C1orf112   \n",
       "6 ENSG00000000938 FGR        "
      ]
     },
     "metadata": {},
     "output_type": "display_data"
    }
   ],
   "source": [
    "head(gene.df)"
   ]
  },
  {
   "cell_type": "code",
   "execution_count": 20,
   "id": "ac41dd4e-608d-4cc6-aae5-855e41780be9",
   "metadata": {
    "execution": {
     "iopub.execute_input": "2021-12-24T04:33:49.376562Z",
     "iopub.status.busy": "2021-12-24T04:33:49.368280Z",
     "iopub.status.idle": "2021-12-24T04:33:49.440099Z",
     "shell.execute_reply": "2021-12-24T04:33:49.439216Z"
    },
    "papermill": {
     "duration": 0.103527,
     "end_time": "2021-12-24T04:33:49.440207",
     "exception": false,
     "start_time": "2021-12-24T04:33:49.336680",
     "status": "completed"
    },
    "tags": []
   },
   "outputs": [],
   "source": [
    "# set Ensemble IDs as rownames\n",
    "rownames(rpkm.df) <- make.names(rpkm.df$ensembl_gene_id, unique = TRUE)"
   ]
  },
  {
   "cell_type": "code",
   "execution_count": 21,
   "id": "834c05a1-43c1-4a62-98aa-819b7298f465",
   "metadata": {
    "execution": {
     "iopub.execute_input": "2021-12-24T04:33:49.509049Z",
     "iopub.status.busy": "2021-12-24T04:33:49.508565Z",
     "iopub.status.idle": "2021-12-24T04:33:49.606786Z",
     "shell.execute_reply": "2021-12-24T04:33:49.605714Z"
    },
    "papermill": {
     "duration": 0.13712,
     "end_time": "2021-12-24T04:33:49.606912",
     "exception": false,
     "start_time": "2021-12-24T04:33:49.469792",
     "status": "completed"
    },
    "tags": []
   },
   "outputs": [],
   "source": [
    "# remove gene identifier columns\n",
    "rpkm.df <- rpkm.df %>% dplyr::select(-c(ensembl_gene_id:ENSG))"
   ]
  },
  {
   "cell_type": "code",
   "execution_count": 22,
   "id": "796d9f84-06ad-4105-810c-d815b1f4b411",
   "metadata": {
    "execution": {
     "iopub.execute_input": "2021-12-24T04:33:49.681131Z",
     "iopub.status.busy": "2021-12-24T04:33:49.680635Z",
     "iopub.status.idle": "2021-12-24T04:33:49.685073Z",
     "shell.execute_reply": "2021-12-24T04:33:49.683858Z"
    },
    "papermill": {
     "duration": 0.044538,
     "end_time": "2021-12-24T04:33:49.685179",
     "exception": false,
     "start_time": "2021-12-24T04:33:49.640641",
     "status": "completed"
    },
    "tags": []
   },
   "outputs": [
    {
     "data": {
      "text/html": [
       "<style>\n",
       ".list-inline {list-style: none; margin:0; padding: 0}\n",
       ".list-inline>li {display: inline-block}\n",
       ".list-inline>li:not(:last-child)::after {content: \"\\00b7\"; padding: 0 .5ex}\n",
       "</style>\n",
       "<ol class=list-inline><li>57096</li><li>37032</li></ol>\n"
      ],
      "text/latex": [
       "\\begin{enumerate*}\n",
       "\\item 57096\n",
       "\\item 37032\n",
       "\\end{enumerate*}\n"
      ],
      "text/markdown": [
       "1. 57096\n",
       "2. 37032\n",
       "\n",
       "\n"
      ],
      "text/plain": [
       "[1] 57096 37032"
      ]
     },
     "metadata": {},
     "output_type": "display_data"
    }
   ],
   "source": [
    "dim(rpkm.df)"
   ]
  },
  {
   "cell_type": "code",
   "execution_count": 23,
   "id": "1b661012-8ce6-4693-b6c8-eb9d194c0174",
   "metadata": {
    "execution": {
     "iopub.execute_input": "2021-12-24T04:33:49.756572Z",
     "iopub.status.busy": "2021-12-24T04:33:49.748513Z",
     "iopub.status.idle": "2021-12-24T04:33:49.771102Z",
     "shell.execute_reply": "2021-12-24T04:33:49.769860Z"
    },
    "papermill": {
     "duration": 0.055713,
     "end_time": "2021-12-24T04:33:49.771207",
     "exception": false,
     "start_time": "2021-12-24T04:33:49.715494",
     "status": "completed"
    },
    "tags": []
   },
   "outputs": [
    {
     "data": {
      "text/html": [
       "<table class=\"dataframe\">\n",
       "<caption>A data.frame: 6 × 10</caption>\n",
       "<thead>\n",
       "\t<tr><th></th><th scope=col>SRP000599.SRR013549</th><th scope=col>SRP000599.SRR013550</th><th scope=col>SRP000599.SRR013551</th><th scope=col>SRP000599.SRR013552</th><th scope=col>SRP000599.SRR013553</th><th scope=col>SRP000599.SRR013554</th><th scope=col>SRP000599.SRR013555</th><th scope=col>SRP000599.SRR013556</th><th scope=col>SRP000599.SRR013557</th><th scope=col>SRP000599.SRR013558</th></tr>\n",
       "\t<tr><th></th><th scope=col>&lt;dbl&gt;</th><th scope=col>&lt;dbl&gt;</th><th scope=col>&lt;dbl&gt;</th><th scope=col>&lt;dbl&gt;</th><th scope=col>&lt;dbl&gt;</th><th scope=col>&lt;dbl&gt;</th><th scope=col>&lt;dbl&gt;</th><th scope=col>&lt;dbl&gt;</th><th scope=col>&lt;dbl&gt;</th><th scope=col>&lt;dbl&gt;</th></tr>\n",
       "</thead>\n",
       "<tbody>\n",
       "\t<tr><th scope=row>ENSG00000000003</th><td>0.00000000</td><td>0</td><td>0.0000000</td><td>0</td><td>0</td><td>0</td><td>0.9293512</td><td>1.175312</td><td>0.4598586</td><td>1.2544816</td></tr>\n",
       "\t<tr><th scope=row>ENSG00000000005</th><td>0.00000000</td><td>0</td><td>0.0000000</td><td>0</td><td>0</td><td>0</td><td>0.0000000</td><td>0.000000</td><td>0.0000000</td><td>0.0000000</td></tr>\n",
       "\t<tr><th scope=row>ENSG00000000419</th><td>0.00000000</td><td>0</td><td>0.0000000</td><td>0</td><td>0</td><td>0</td><td>0.0000000</td><td>0.000000</td><td>5.5613668</td><td>2.9458751</td></tr>\n",
       "\t<tr><th scope=row>ENSG00000000457</th><td>0.00000000</td><td>0</td><td>0.0000000</td><td>0</td><td>0</td><td>0</td><td>0.0000000</td><td>0.000000</td><td>0.0000000</td><td>0.2622675</td></tr>\n",
       "\t<tr><th scope=row>ENSG00000000460</th><td>0.08456512</td><td>0</td><td>0.4970834</td><td>0</td><td>0</td><td>0</td><td>1.1771990</td><td>0.000000</td><td>0.0000000</td><td>0.0000000</td></tr>\n",
       "\t<tr><th scope=row>ENSG00000000938</th><td>0.00000000</td><td>0</td><td>0.0000000</td><td>0</td><td>0</td><td>0</td><td>0.0000000</td><td>0.000000</td><td>0.0000000</td><td>0.0000000</td></tr>\n",
       "</tbody>\n",
       "</table>\n"
      ],
      "text/latex": [
       "A data.frame: 6 × 10\n",
       "\\begin{tabular}{r|llllllllll}\n",
       "  & SRP000599.SRR013549 & SRP000599.SRR013550 & SRP000599.SRR013551 & SRP000599.SRR013552 & SRP000599.SRR013553 & SRP000599.SRR013554 & SRP000599.SRR013555 & SRP000599.SRR013556 & SRP000599.SRR013557 & SRP000599.SRR013558\\\\\n",
       "  & <dbl> & <dbl> & <dbl> & <dbl> & <dbl> & <dbl> & <dbl> & <dbl> & <dbl> & <dbl>\\\\\n",
       "\\hline\n",
       "\tENSG00000000003 & 0.00000000 & 0 & 0.0000000 & 0 & 0 & 0 & 0.9293512 & 1.175312 & 0.4598586 & 1.2544816\\\\\n",
       "\tENSG00000000005 & 0.00000000 & 0 & 0.0000000 & 0 & 0 & 0 & 0.0000000 & 0.000000 & 0.0000000 & 0.0000000\\\\\n",
       "\tENSG00000000419 & 0.00000000 & 0 & 0.0000000 & 0 & 0 & 0 & 0.0000000 & 0.000000 & 5.5613668 & 2.9458751\\\\\n",
       "\tENSG00000000457 & 0.00000000 & 0 & 0.0000000 & 0 & 0 & 0 & 0.0000000 & 0.000000 & 0.0000000 & 0.2622675\\\\\n",
       "\tENSG00000000460 & 0.08456512 & 0 & 0.4970834 & 0 & 0 & 0 & 1.1771990 & 0.000000 & 0.0000000 & 0.0000000\\\\\n",
       "\tENSG00000000938 & 0.00000000 & 0 & 0.0000000 & 0 & 0 & 0 & 0.0000000 & 0.000000 & 0.0000000 & 0.0000000\\\\\n",
       "\\end{tabular}\n"
      ],
      "text/markdown": [
       "\n",
       "A data.frame: 6 × 10\n",
       "\n",
       "| <!--/--> | SRP000599.SRR013549 &lt;dbl&gt; | SRP000599.SRR013550 &lt;dbl&gt; | SRP000599.SRR013551 &lt;dbl&gt; | SRP000599.SRR013552 &lt;dbl&gt; | SRP000599.SRR013553 &lt;dbl&gt; | SRP000599.SRR013554 &lt;dbl&gt; | SRP000599.SRR013555 &lt;dbl&gt; | SRP000599.SRR013556 &lt;dbl&gt; | SRP000599.SRR013557 &lt;dbl&gt; | SRP000599.SRR013558 &lt;dbl&gt; |\n",
       "|---|---|---|---|---|---|---|---|---|---|---|\n",
       "| ENSG00000000003 | 0.00000000 | 0 | 0.0000000 | 0 | 0 | 0 | 0.9293512 | 1.175312 | 0.4598586 | 1.2544816 |\n",
       "| ENSG00000000005 | 0.00000000 | 0 | 0.0000000 | 0 | 0 | 0 | 0.0000000 | 0.000000 | 0.0000000 | 0.0000000 |\n",
       "| ENSG00000000419 | 0.00000000 | 0 | 0.0000000 | 0 | 0 | 0 | 0.0000000 | 0.000000 | 5.5613668 | 2.9458751 |\n",
       "| ENSG00000000457 | 0.00000000 | 0 | 0.0000000 | 0 | 0 | 0 | 0.0000000 | 0.000000 | 0.0000000 | 0.2622675 |\n",
       "| ENSG00000000460 | 0.08456512 | 0 | 0.4970834 | 0 | 0 | 0 | 1.1771990 | 0.000000 | 0.0000000 | 0.0000000 |\n",
       "| ENSG00000000938 | 0.00000000 | 0 | 0.0000000 | 0 | 0 | 0 | 0.0000000 | 0.000000 | 0.0000000 | 0.0000000 |\n",
       "\n"
      ],
      "text/plain": [
       "                SRP000599.SRR013549 SRP000599.SRR013550 SRP000599.SRR013551\n",
       "ENSG00000000003 0.00000000          0                   0.0000000          \n",
       "ENSG00000000005 0.00000000          0                   0.0000000          \n",
       "ENSG00000000419 0.00000000          0                   0.0000000          \n",
       "ENSG00000000457 0.00000000          0                   0.0000000          \n",
       "ENSG00000000460 0.08456512          0                   0.4970834          \n",
       "ENSG00000000938 0.00000000          0                   0.0000000          \n",
       "                SRP000599.SRR013552 SRP000599.SRR013553 SRP000599.SRR013554\n",
       "ENSG00000000003 0                   0                   0                  \n",
       "ENSG00000000005 0                   0                   0                  \n",
       "ENSG00000000419 0                   0                   0                  \n",
       "ENSG00000000457 0                   0                   0                  \n",
       "ENSG00000000460 0                   0                   0                  \n",
       "ENSG00000000938 0                   0                   0                  \n",
       "                SRP000599.SRR013555 SRP000599.SRR013556 SRP000599.SRR013557\n",
       "ENSG00000000003 0.9293512           1.175312            0.4598586          \n",
       "ENSG00000000005 0.0000000           0.000000            0.0000000          \n",
       "ENSG00000000419 0.0000000           0.000000            5.5613668          \n",
       "ENSG00000000457 0.0000000           0.000000            0.0000000          \n",
       "ENSG00000000460 1.1771990           0.000000            0.0000000          \n",
       "ENSG00000000938 0.0000000           0.000000            0.0000000          \n",
       "                SRP000599.SRR013558\n",
       "ENSG00000000003 1.2544816          \n",
       "ENSG00000000005 0.0000000          \n",
       "ENSG00000000419 2.9458751          \n",
       "ENSG00000000457 0.2622675          \n",
       "ENSG00000000460 0.0000000          \n",
       "ENSG00000000938 0.0000000          "
      ]
     },
     "metadata": {},
     "output_type": "display_data"
    }
   ],
   "source": [
    "head(rpkm.df[, 1:10])"
   ]
  },
  {
   "cell_type": "markdown",
   "id": "b77f89c7-da59-456d-bfa5-eeb3a2d91229",
   "metadata": {
    "papermill": {
     "duration": 0.031098,
     "end_time": "2021-12-24T04:33:49.833733",
     "exception": false,
     "start_time": "2021-12-24T04:33:49.802635",
     "status": "completed"
    },
    "tags": []
   },
   "source": [
    "# Save"
   ]
  },
  {
   "cell_type": "markdown",
   "id": "ddc34f00-8db3-4a8d-a3f0-955201ef5636",
   "metadata": {
    "papermill": {
     "duration": 0.031142,
     "end_time": "2021-12-24T04:33:49.896094",
     "exception": false,
     "start_time": "2021-12-24T04:33:49.864952",
     "status": "completed"
    },
    "tags": []
   },
   "source": [
    "## Gene ID mappings"
   ]
  },
  {
   "cell_type": "code",
   "execution_count": 24,
   "id": "8b1d4e9a-167a-40a1-9b06-d64a0746d295",
   "metadata": {
    "execution": {
     "iopub.execute_input": "2021-12-24T04:33:49.966756Z",
     "iopub.status.busy": "2021-12-24T04:33:49.966267Z",
     "iopub.status.idle": "2021-12-24T04:33:49.972363Z",
     "shell.execute_reply": "2021-12-24T04:33:49.971190Z"
    },
    "papermill": {
     "duration": 0.045102,
     "end_time": "2021-12-24T04:33:49.972467",
     "exception": false,
     "start_time": "2021-12-24T04:33:49.927365",
     "status": "completed"
    },
    "tags": []
   },
   "outputs": [],
   "source": [
    "output_filepath <- file.path(recount2full.data.dir, \"recount2_gene_ids_mappings\")"
   ]
  },
  {
   "cell_type": "code",
   "execution_count": 25,
   "id": "768aaaba-8636-48c0-8b67-882e62f9c1c7",
   "metadata": {
    "execution": {
     "iopub.execute_input": "2021-12-24T04:33:50.045077Z",
     "iopub.status.busy": "2021-12-24T04:33:50.044586Z",
     "iopub.status.idle": "2021-12-24T04:33:50.051186Z",
     "shell.execute_reply": "2021-12-24T04:33:50.049916Z"
    },
    "papermill": {
     "duration": 0.047613,
     "end_time": "2021-12-24T04:33:50.051292",
     "exception": false,
     "start_time": "2021-12-24T04:33:50.003679",
     "status": "completed"
    },
    "tags": []
   },
   "outputs": [
    {
     "data": {
      "text/html": [
       "'/opt/data/data/recount2full/recount2_gene_ids_mappings'"
      ],
      "text/latex": [
       "'/opt/data/data/recount2full/recount2\\_gene\\_ids\\_mappings'"
      ],
      "text/markdown": [
       "'/opt/data/data/recount2full/recount2_gene_ids_mappings'"
      ],
      "text/plain": [
       "[1] \"/opt/data/data/recount2full/recount2_gene_ids_mappings\""
      ]
     },
     "metadata": {},
     "output_type": "display_data"
    }
   ],
   "source": [
    "output_filepath"
   ]
  },
  {
   "cell_type": "code",
   "execution_count": 26,
   "id": "2028dbd4-efd1-4312-b896-7e4bf66af446",
   "metadata": {
    "execution": {
     "iopub.execute_input": "2021-12-24T04:33:50.120288Z",
     "iopub.status.busy": "2021-12-24T04:33:50.119787Z",
     "iopub.status.idle": "2021-12-24T04:33:50.213842Z",
     "shell.execute_reply": "2021-12-24T04:33:50.212665Z"
    },
    "papermill": {
     "duration": 0.130487,
     "end_time": "2021-12-24T04:33:50.213951",
     "exception": false,
     "start_time": "2021-12-24T04:33:50.083464",
     "status": "completed"
    },
    "tags": []
   },
   "outputs": [],
   "source": [
    "saveRDS(gene.df, file = paste0(output_filepath, \".rds\"))"
   ]
  },
  {
   "cell_type": "code",
   "execution_count": 27,
   "id": "fec6f1f5-2d06-491d-a59f-489fda27dbf0",
   "metadata": {
    "execution": {
     "iopub.execute_input": "2021-12-24T04:33:50.288986Z",
     "iopub.status.busy": "2021-12-24T04:33:50.288502Z",
     "iopub.status.idle": "2021-12-24T04:33:56.723530Z",
     "shell.execute_reply": "2021-12-24T04:33:56.722355Z"
    },
    "papermill": {
     "duration": 6.476668,
     "end_time": "2021-12-24T04:33:56.723643",
     "exception": false,
     "start_time": "2021-12-24T04:33:50.246975",
     "status": "completed"
    },
    "tags": []
   },
   "outputs": [],
   "source": [
    "py_save_object(gene.df, paste0(output_filepath, \".pkl\"))"
   ]
  },
  {
   "cell_type": "markdown",
   "id": "f7d91a58-a302-465e-b465-031e5363d9e1",
   "metadata": {
    "papermill": {
     "duration": 0.03203,
     "end_time": "2021-12-24T04:33:56.787818",
     "exception": false,
     "start_time": "2021-12-24T04:33:56.755788",
     "status": "completed"
    },
    "tags": []
   },
   "source": [
    "## Gene expression data"
   ]
  },
  {
   "cell_type": "code",
   "execution_count": 28,
   "id": "d6f2c1a6-f2cd-48e3-9550-061728613783",
   "metadata": {
    "execution": {
     "iopub.execute_input": "2021-12-24T04:33:56.861021Z",
     "iopub.status.busy": "2021-12-24T04:33:56.860506Z",
     "iopub.status.idle": "2021-12-24T04:33:56.865268Z",
     "shell.execute_reply": "2021-12-24T04:33:56.863989Z"
    },
    "papermill": {
     "duration": 0.045341,
     "end_time": "2021-12-24T04:33:56.865374",
     "exception": false,
     "start_time": "2021-12-24T04:33:56.820033",
     "status": "completed"
    },
    "tags": []
   },
   "outputs": [],
   "source": [
    "output_filepath <- file.path(recount2full.data.dir, \"recount2_rpkm\")"
   ]
  },
  {
   "cell_type": "code",
   "execution_count": 29,
   "id": "ae25cc13-2d4a-492a-b03e-bf84e44880b3",
   "metadata": {
    "execution": {
     "iopub.execute_input": "2021-12-24T04:33:56.941000Z",
     "iopub.status.busy": "2021-12-24T04:33:56.940512Z",
     "iopub.status.idle": "2021-12-24T04:33:56.946497Z",
     "shell.execute_reply": "2021-12-24T04:33:56.945100Z"
    },
    "papermill": {
     "duration": 0.049032,
     "end_time": "2021-12-24T04:33:56.946605",
     "exception": false,
     "start_time": "2021-12-24T04:33:56.897573",
     "status": "completed"
    },
    "tags": []
   },
   "outputs": [
    {
     "data": {
      "text/html": [
       "'/opt/data/data/recount2full/recount2_rpkm'"
      ],
      "text/latex": [
       "'/opt/data/data/recount2full/recount2\\_rpkm'"
      ],
      "text/markdown": [
       "'/opt/data/data/recount2full/recount2_rpkm'"
      ],
      "text/plain": [
       "[1] \"/opt/data/data/recount2full/recount2_rpkm\""
      ]
     },
     "metadata": {},
     "output_type": "display_data"
    }
   ],
   "source": [
    "output_filepath"
   ]
  },
  {
   "cell_type": "code",
   "execution_count": 30,
   "id": "d45bd1f4-e608-4dc4-9b33-29b1838a84dd",
   "metadata": {
    "execution": {
     "iopub.execute_input": "2021-12-24T04:33:57.021031Z",
     "iopub.status.busy": "2021-12-24T04:33:57.020543Z",
     "iopub.status.idle": "2021-12-24T04:43:18.797751Z",
     "shell.execute_reply": "2021-12-24T04:43:18.796623Z"
    },
    "papermill": {
     "duration": 561.818027,
     "end_time": "2021-12-24T04:43:18.797862",
     "exception": false,
     "start_time": "2021-12-24T04:33:56.979835",
     "status": "completed"
    },
    "tags": []
   },
   "outputs": [],
   "source": [
    "saveRDS(rpkm.df, file = paste0(output_filepath, \".rds\"))"
   ]
  },
  {
   "cell_type": "code",
   "execution_count": 31,
   "id": "fc467f65-0142-4874-af3d-6c4b12fc3cce",
   "metadata": {
    "execution": {
     "iopub.execute_input": "2021-12-24T04:43:18.913049Z",
     "iopub.status.busy": "2021-12-24T04:43:18.912582Z",
     "iopub.status.idle": "2021-12-24T04:54:24.996489Z",
     "shell.execute_reply": "2021-12-24T04:54:24.931115Z"
    },
    "papermill": {
     "duration": 666.132659,
     "end_time": "2021-12-24T04:54:24.999058",
     "exception": false,
     "start_time": "2021-12-24T04:43:18.866399",
     "status": "completed"
    },
    "tags": []
   },
   "outputs": [],
   "source": [
    "py_save_object(rpkm.df, paste0(output_filepath, \".pkl\"))"
   ]
  },
  {
   "cell_type": "markdown",
   "id": "9d3d638c-56a1-4baa-83c9-48c0d6a71f1d",
   "metadata": {
    "papermill": {
     "duration": 0.068971,
     "end_time": "2021-12-24T04:54:29.232736",
     "exception": false,
     "start_time": "2021-12-24T04:54:29.163765",
     "status": "completed"
    },
    "tags": []
   },
   "source": [
    "# Cleanup"
   ]
  },
  {
   "cell_type": "code",
   "execution_count": 32,
   "id": "f97e4001-6abe-45dd-816f-adb27e79f477",
   "metadata": {
    "execution": {
     "iopub.execute_input": "2021-12-24T04:54:29.820048Z",
     "iopub.status.busy": "2021-12-24T04:54:29.723532Z",
     "iopub.status.idle": "2021-12-24T04:54:38.403515Z",
     "shell.execute_reply": "2021-12-24T04:54:38.262089Z"
    },
    "papermill": {
     "duration": 9.138463,
     "end_time": "2021-12-24T04:54:38.403667",
     "exception": false,
     "start_time": "2021-12-24T04:54:29.265204",
     "status": "completed"
    },
    "tags": []
   },
   "outputs": [
    {
     "data": {
      "text/html": [
       "TRUE"
      ],
      "text/latex": [
       "TRUE"
      ],
      "text/markdown": [
       "TRUE"
      ],
      "text/plain": [
       "[1] TRUE"
      ]
     },
     "metadata": {},
     "output_type": "display_data"
    }
   ],
   "source": [
    "# the raw file is not longer necessary\n",
    "if (file.exists(input.file)) {\n",
    "  # Delete file if it exists\n",
    "  file.remove(input.file)\n",
    "}"
   ]
  }
 ],
 "metadata": {
  "jupytext": {
   "cell_metadata_filter": "all,-execution,-papermill,-trusted"
  },
  "kernelspec": {
   "display_name": "R",
   "language": "R",
   "name": "ir"
  },
  "language_info": {
   "codemirror_mode": "r",
   "file_extension": ".r",
   "mimetype": "text/x-r-source",
   "name": "R",
   "pygments_lexer": "r",
   "version": "4.1.1"
  },
  "papermill": {
   "default_parameters": {},
   "duration": 1391.144148,
   "end_time": "2021-12-24T04:54:49.903923",
   "environment_variables": {},
   "exception": null,
   "input_path": "nbs/05_preprocessing/16-recount2_full-preprocess.ipynb",
   "output_path": "nbs/05_preprocessing/16-recount2_full-preprocess.run.ipynb",
   "parameters": {},
   "start_time": "2021-12-24T04:31:38.759775",
   "version": "2.3.3"
  },
  "toc-autonumbering": true
 },
 "nbformat": 4,
 "nbformat_minor": 5
}
