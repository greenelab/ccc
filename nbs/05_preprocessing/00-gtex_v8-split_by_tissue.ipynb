{
 "cells": [
  {
   "cell_type": "markdown",
   "id": "871d5ed2-95c8-48db-b3b3-394fea7a035b",
   "metadata": {
    "papermill": {
     "duration": 0.071341,
     "end_time": "2022-01-21T04:29:15.960721",
     "exception": false,
     "start_time": "2022-01-21T04:29:15.889380",
     "status": "completed"
    },
    "tags": []
   },
   "source": [
    "# Description"
   ]
  },
  {
   "cell_type": "markdown",
   "id": "06b29f41-a8f0-4274-8f72-a5b7cc19bc4e",
   "metadata": {
    "papermill": {
     "duration": 0.034925,
     "end_time": "2022-01-21T04:29:16.030759",
     "exception": false,
     "start_time": "2022-01-21T04:29:15.995834",
     "status": "completed"
    },
    "tags": []
   },
   "source": [
    "It splits gene expression data from GTEx v8 by tissue and saves a gene id/symbol mapping file."
   ]
  },
  {
   "cell_type": "markdown",
   "id": "d05acbf3-ee34-4e31-b359-58d5ffde4213",
   "metadata": {
    "papermill": {
     "duration": 0.036766,
     "end_time": "2022-01-21T04:29:16.104585",
     "exception": false,
     "start_time": "2022-01-21T04:29:16.067819",
     "status": "completed"
    },
    "tags": []
   },
   "source": [
    "# Modules"
   ]
  },
  {
   "cell_type": "code",
   "execution_count": 1,
   "id": "9e466133-c98a-4ca1-9c62-99a70576aca4",
   "metadata": {
    "execution": {
     "iopub.execute_input": "2022-01-21T04:29:16.182681Z",
     "iopub.status.busy": "2022-01-21T04:29:16.182228Z",
     "iopub.status.idle": "2022-01-21T04:29:16.435826Z",
     "shell.execute_reply": "2022-01-21T04:29:16.435273Z"
    },
    "papermill": {
     "duration": 0.295973,
     "end_time": "2022-01-21T04:29:16.435969",
     "exception": false,
     "start_time": "2022-01-21T04:29:16.139996",
     "status": "completed"
    },
    "tags": []
   },
   "outputs": [],
   "source": [
    "import pandas as pd\n",
    "from tqdm import tqdm\n",
    "\n",
    "from ccc.utils import simplify_string\n",
    "from ccc import conf"
   ]
  },
  {
   "cell_type": "markdown",
   "id": "4da399b4-f533-4cd0-8de7-a9afde79abb4",
   "metadata": {
    "papermill": {
     "duration": 0.035484,
     "end_time": "2022-01-21T04:29:16.507694",
     "exception": false,
     "start_time": "2022-01-21T04:29:16.472210",
     "status": "completed"
    },
    "tags": []
   },
   "source": [
    "# Settings"
   ]
  },
  {
   "cell_type": "code",
   "execution_count": 2,
   "id": "0ef4566f-122f-49e8-99be-491308219cc1",
   "metadata": {
    "execution": {
     "iopub.execute_input": "2022-01-21T04:29:16.581719Z",
     "iopub.status.busy": "2022-01-21T04:29:16.581236Z",
     "iopub.status.idle": "2022-01-21T04:29:16.589993Z",
     "shell.execute_reply": "2022-01-21T04:29:16.589541Z"
    },
    "papermill": {
     "duration": 0.047088,
     "end_time": "2022-01-21T04:29:16.590087",
     "exception": false,
     "start_time": "2022-01-21T04:29:16.542999",
     "status": "completed"
    },
    "tags": []
   },
   "outputs": [
    {
     "data": {
      "text/plain": [
       "PosixPath('/opt/data/data/gtex_v8/data_by_tissue')"
      ]
     },
     "metadata": {},
     "output_type": "display_data"
    }
   ],
   "source": [
    "OUTPUT_DIR = conf.GTEX[\"DATA_DIR\"] / \"data_by_tissue\"\n",
    "OUTPUT_DIR.mkdir(parents=True, exist_ok=True)\n",
    "display(OUTPUT_DIR)"
   ]
  },
  {
   "cell_type": "markdown",
   "id": "16f23bce-a6f7-4f87-b267-44595c764052",
   "metadata": {
    "papermill": {
     "duration": 0.036572,
     "end_time": "2022-01-21T04:29:16.662701",
     "exception": false,
     "start_time": "2022-01-21T04:29:16.626129",
     "status": "completed"
    },
    "tags": []
   },
   "source": [
    "# Data loading"
   ]
  },
  {
   "cell_type": "markdown",
   "id": "631412aa-9587-4aaa-8c44-9530a34eb0eb",
   "metadata": {
    "papermill": {
     "duration": 0.035216,
     "end_time": "2022-01-21T04:29:16.733436",
     "exception": false,
     "start_time": "2022-01-21T04:29:16.698220",
     "status": "completed"
    },
    "tags": []
   },
   "source": [
    "## GTEx v8"
   ]
  },
  {
   "cell_type": "markdown",
   "id": "eb3d94d7-16f5-4f19-bdd9-5f1c5601e9ce",
   "metadata": {
    "papermill": {
     "duration": 0.064061,
     "end_time": "2022-01-21T04:29:16.838131",
     "exception": false,
     "start_time": "2022-01-21T04:29:16.774070",
     "status": "completed"
    },
    "tags": []
   },
   "source": [
    "### Sample metadata"
   ]
  },
  {
   "cell_type": "code",
   "execution_count": 3,
   "id": "611ebc4f-3e85-4dc5-9b6f-86500cd74ead",
   "metadata": {
    "execution": {
     "iopub.execute_input": "2022-01-21T04:29:16.923551Z",
     "iopub.status.busy": "2022-01-21T04:29:16.922593Z",
     "iopub.status.idle": "2022-01-21T04:29:17.103294Z",
     "shell.execute_reply": "2022-01-21T04:29:17.102782Z"
    },
    "papermill": {
     "duration": 0.220525,
     "end_time": "2022-01-21T04:29:17.103423",
     "exception": false,
     "start_time": "2022-01-21T04:29:16.882898",
     "status": "completed"
    },
    "tags": []
   },
   "outputs": [],
   "source": [
    "gtex_sample_attrs = pd.read_csv(\n",
    "    conf.GTEX[\"SAMPLE_ATTRS_FILE\"],\n",
    "    sep=\"\\t\",\n",
    ")"
   ]
  },
  {
   "cell_type": "code",
   "execution_count": 4,
   "id": "1af7dd82-a9fb-49ab-834b-d92aad219b1d",
   "metadata": {
    "execution": {
     "iopub.execute_input": "2022-01-21T04:29:17.184458Z",
     "iopub.status.busy": "2022-01-21T04:29:17.183940Z",
     "iopub.status.idle": "2022-01-21T04:29:17.185968Z",
     "shell.execute_reply": "2022-01-21T04:29:17.186327Z"
    },
    "papermill": {
     "duration": 0.042083,
     "end_time": "2022-01-21T04:29:17.186443",
     "exception": false,
     "start_time": "2022-01-21T04:29:17.144360",
     "status": "completed"
    },
    "tags": []
   },
   "outputs": [
    {
     "data": {
      "text/plain": [
       "(22951, 63)"
      ]
     },
     "execution_count": 4,
     "metadata": {},
     "output_type": "execute_result"
    }
   ],
   "source": [
    "gtex_sample_attrs.shape"
   ]
  },
  {
   "cell_type": "code",
   "execution_count": 5,
   "id": "f9028a27-560d-4272-8bc3-ec2e06fce0f3",
   "metadata": {
    "execution": {
     "iopub.execute_input": "2022-01-21T04:29:17.272593Z",
     "iopub.status.busy": "2022-01-21T04:29:17.265473Z",
     "iopub.status.idle": "2022-01-21T04:29:17.282070Z",
     "shell.execute_reply": "2022-01-21T04:29:17.281619Z"
    },
    "papermill": {
     "duration": 0.058958,
     "end_time": "2022-01-21T04:29:17.282169",
     "exception": false,
     "start_time": "2022-01-21T04:29:17.223211",
     "status": "completed"
    },
    "tags": []
   },
   "outputs": [
    {
     "data": {
      "text/html": [
       "<div>\n",
       "<style scoped>\n",
       "    .dataframe tbody tr th:only-of-type {\n",
       "        vertical-align: middle;\n",
       "    }\n",
       "\n",
       "    .dataframe tbody tr th {\n",
       "        vertical-align: top;\n",
       "    }\n",
       "\n",
       "    .dataframe thead th {\n",
       "        text-align: right;\n",
       "    }\n",
       "</style>\n",
       "<table border=\"1\" class=\"dataframe\">\n",
       "  <thead>\n",
       "    <tr style=\"text-align: right;\">\n",
       "      <th></th>\n",
       "      <th>SAMPID</th>\n",
       "      <th>SMATSSCR</th>\n",
       "      <th>SMCENTER</th>\n",
       "      <th>SMPTHNTS</th>\n",
       "      <th>SMRIN</th>\n",
       "      <th>SMTS</th>\n",
       "      <th>SMTSD</th>\n",
       "      <th>SMUBRID</th>\n",
       "      <th>SMTSISCH</th>\n",
       "      <th>SMTSPAX</th>\n",
       "      <th>...</th>\n",
       "      <th>SME1ANTI</th>\n",
       "      <th>SMSPLTRD</th>\n",
       "      <th>SMBSMMRT</th>\n",
       "      <th>SME1SNSE</th>\n",
       "      <th>SME1PCTS</th>\n",
       "      <th>SMRRNART</th>\n",
       "      <th>SME1MPRT</th>\n",
       "      <th>SMNUM5CD</th>\n",
       "      <th>SMDPMPRT</th>\n",
       "      <th>SME2PCTS</th>\n",
       "    </tr>\n",
       "  </thead>\n",
       "  <tbody>\n",
       "    <tr>\n",
       "      <th>0</th>\n",
       "      <td>GTEX-1117F-0003-SM-58Q7G</td>\n",
       "      <td>NaN</td>\n",
       "      <td>B1</td>\n",
       "      <td>NaN</td>\n",
       "      <td>NaN</td>\n",
       "      <td>Blood</td>\n",
       "      <td>Whole Blood</td>\n",
       "      <td>0013756</td>\n",
       "      <td>1188.0</td>\n",
       "      <td>NaN</td>\n",
       "      <td>...</td>\n",
       "      <td>NaN</td>\n",
       "      <td>NaN</td>\n",
       "      <td>NaN</td>\n",
       "      <td>NaN</td>\n",
       "      <td>NaN</td>\n",
       "      <td>NaN</td>\n",
       "      <td>NaN</td>\n",
       "      <td>NaN</td>\n",
       "      <td>NaN</td>\n",
       "      <td>NaN</td>\n",
       "    </tr>\n",
       "    <tr>\n",
       "      <th>1</th>\n",
       "      <td>GTEX-1117F-0003-SM-5DWSB</td>\n",
       "      <td>NaN</td>\n",
       "      <td>B1</td>\n",
       "      <td>NaN</td>\n",
       "      <td>NaN</td>\n",
       "      <td>Blood</td>\n",
       "      <td>Whole Blood</td>\n",
       "      <td>0013756</td>\n",
       "      <td>1188.0</td>\n",
       "      <td>NaN</td>\n",
       "      <td>...</td>\n",
       "      <td>NaN</td>\n",
       "      <td>NaN</td>\n",
       "      <td>NaN</td>\n",
       "      <td>NaN</td>\n",
       "      <td>NaN</td>\n",
       "      <td>NaN</td>\n",
       "      <td>NaN</td>\n",
       "      <td>NaN</td>\n",
       "      <td>NaN</td>\n",
       "      <td>NaN</td>\n",
       "    </tr>\n",
       "    <tr>\n",
       "      <th>2</th>\n",
       "      <td>GTEX-1117F-0003-SM-6WBT7</td>\n",
       "      <td>NaN</td>\n",
       "      <td>B1</td>\n",
       "      <td>NaN</td>\n",
       "      <td>NaN</td>\n",
       "      <td>Blood</td>\n",
       "      <td>Whole Blood</td>\n",
       "      <td>0013756</td>\n",
       "      <td>1188.0</td>\n",
       "      <td>NaN</td>\n",
       "      <td>...</td>\n",
       "      <td>NaN</td>\n",
       "      <td>NaN</td>\n",
       "      <td>NaN</td>\n",
       "      <td>NaN</td>\n",
       "      <td>NaN</td>\n",
       "      <td>NaN</td>\n",
       "      <td>NaN</td>\n",
       "      <td>NaN</td>\n",
       "      <td>NaN</td>\n",
       "      <td>NaN</td>\n",
       "    </tr>\n",
       "    <tr>\n",
       "      <th>3</th>\n",
       "      <td>GTEX-1117F-0011-R10a-SM-AHZ7F</td>\n",
       "      <td>NaN</td>\n",
       "      <td>B1, A1</td>\n",
       "      <td>NaN</td>\n",
       "      <td>NaN</td>\n",
       "      <td>Brain</td>\n",
       "      <td>Brain - Frontal Cortex (BA9)</td>\n",
       "      <td>0009834</td>\n",
       "      <td>1193.0</td>\n",
       "      <td>NaN</td>\n",
       "      <td>...</td>\n",
       "      <td>NaN</td>\n",
       "      <td>NaN</td>\n",
       "      <td>NaN</td>\n",
       "      <td>NaN</td>\n",
       "      <td>NaN</td>\n",
       "      <td>NaN</td>\n",
       "      <td>NaN</td>\n",
       "      <td>NaN</td>\n",
       "      <td>NaN</td>\n",
       "      <td>NaN</td>\n",
       "    </tr>\n",
       "    <tr>\n",
       "      <th>4</th>\n",
       "      <td>GTEX-1117F-0011-R10b-SM-CYKQ8</td>\n",
       "      <td>NaN</td>\n",
       "      <td>B1, A1</td>\n",
       "      <td>NaN</td>\n",
       "      <td>7.2</td>\n",
       "      <td>Brain</td>\n",
       "      <td>Brain - Frontal Cortex (BA9)</td>\n",
       "      <td>0009834</td>\n",
       "      <td>1193.0</td>\n",
       "      <td>NaN</td>\n",
       "      <td>...</td>\n",
       "      <td>NaN</td>\n",
       "      <td>NaN</td>\n",
       "      <td>NaN</td>\n",
       "      <td>NaN</td>\n",
       "      <td>NaN</td>\n",
       "      <td>NaN</td>\n",
       "      <td>NaN</td>\n",
       "      <td>NaN</td>\n",
       "      <td>NaN</td>\n",
       "      <td>NaN</td>\n",
       "    </tr>\n",
       "  </tbody>\n",
       "</table>\n",
       "<p>5 rows × 63 columns</p>\n",
       "</div>"
      ],
      "text/plain": [
       "                          SAMPID  SMATSSCR SMCENTER SMPTHNTS  SMRIN   SMTS  \\\n",
       "0       GTEX-1117F-0003-SM-58Q7G       NaN       B1      NaN    NaN  Blood   \n",
       "1       GTEX-1117F-0003-SM-5DWSB       NaN       B1      NaN    NaN  Blood   \n",
       "2       GTEX-1117F-0003-SM-6WBT7       NaN       B1      NaN    NaN  Blood   \n",
       "3  GTEX-1117F-0011-R10a-SM-AHZ7F       NaN   B1, A1      NaN    NaN  Brain   \n",
       "4  GTEX-1117F-0011-R10b-SM-CYKQ8       NaN   B1, A1      NaN    7.2  Brain   \n",
       "\n",
       "                          SMTSD  SMUBRID  SMTSISCH  SMTSPAX  ... SME1ANTI  \\\n",
       "0                   Whole Blood  0013756    1188.0      NaN  ...      NaN   \n",
       "1                   Whole Blood  0013756    1188.0      NaN  ...      NaN   \n",
       "2                   Whole Blood  0013756    1188.0      NaN  ...      NaN   \n",
       "3  Brain - Frontal Cortex (BA9)  0009834    1193.0      NaN  ...      NaN   \n",
       "4  Brain - Frontal Cortex (BA9)  0009834    1193.0      NaN  ...      NaN   \n",
       "\n",
       "  SMSPLTRD SMBSMMRT SME1SNSE SME1PCTS SMRRNART SME1MPRT SMNUM5CD  SMDPMPRT  \\\n",
       "0      NaN      NaN      NaN      NaN      NaN      NaN      NaN       NaN   \n",
       "1      NaN      NaN      NaN      NaN      NaN      NaN      NaN       NaN   \n",
       "2      NaN      NaN      NaN      NaN      NaN      NaN      NaN       NaN   \n",
       "3      NaN      NaN      NaN      NaN      NaN      NaN      NaN       NaN   \n",
       "4      NaN      NaN      NaN      NaN      NaN      NaN      NaN       NaN   \n",
       "\n",
       "   SME2PCTS  \n",
       "0       NaN  \n",
       "1       NaN  \n",
       "2       NaN  \n",
       "3       NaN  \n",
       "4       NaN  \n",
       "\n",
       "[5 rows x 63 columns]"
      ]
     },
     "execution_count": 5,
     "metadata": {},
     "output_type": "execute_result"
    }
   ],
   "source": [
    "gtex_sample_attrs.head()"
   ]
  },
  {
   "cell_type": "markdown",
   "id": "28461cfc-c44b-486f-81c6-f8ef2b6069ed",
   "metadata": {
    "papermill": {
     "duration": 0.036625,
     "end_time": "2022-01-21T04:29:17.356278",
     "exception": false,
     "start_time": "2022-01-21T04:29:17.319653",
     "status": "completed"
    },
    "tags": []
   },
   "source": [
    "# Get tissues names"
   ]
  },
  {
   "cell_type": "code",
   "execution_count": 6,
   "id": "2eeb0170-5773-406f-963b-3e9f04913c93",
   "metadata": {
    "execution": {
     "iopub.execute_input": "2022-01-21T04:29:17.434292Z",
     "iopub.status.busy": "2022-01-21T04:29:17.433750Z",
     "iopub.status.idle": "2022-01-21T04:29:17.438542Z",
     "shell.execute_reply": "2022-01-21T04:29:17.438909Z"
    },
    "papermill": {
     "duration": 0.046341,
     "end_time": "2022-01-21T04:29:17.439027",
     "exception": false,
     "start_time": "2022-01-21T04:29:17.392686",
     "status": "completed"
    },
    "tags": []
   },
   "outputs": [
    {
     "data": {
      "text/plain": [
       "55"
      ]
     },
     "metadata": {},
     "output_type": "display_data"
    },
    {
     "data": {
      "text/plain": [
       "array(['Whole Blood', 'Brain - Frontal Cortex (BA9)',\n",
       "       'Adipose - Subcutaneous', 'Muscle - Skeletal', 'Artery - Tibial',\n",
       "       'Artery - Coronary', 'Heart - Atrial Appendage',\n",
       "       'Adipose - Visceral (Omentum)', 'Ovary', 'Uterus', 'Vagina',\n",
       "       'Breast - Mammary Tissue', 'Skin - Not Sun Exposed (Suprapubic)',\n",
       "       'Minor Salivary Gland', 'Brain - Cortex', 'Adrenal Gland',\n",
       "       'Thyroid', 'Lung', 'Spleen', 'Pancreas', 'Esophagus - Muscularis',\n",
       "       'Esophagus - Mucosa', 'Esophagus - Gastroesophageal Junction',\n",
       "       'Stomach', 'Colon - Sigmoid', 'Small Intestine - Terminal Ileum',\n",
       "       'Colon - Transverse', 'Prostate', 'Testis',\n",
       "       'Skin - Sun Exposed (Lower leg)', 'Nerve - Tibial',\n",
       "       'Heart - Left Ventricle', 'Pituitary', 'Brain - Cerebellum',\n",
       "       'Cells - Cultured fibroblasts', 'Artery - Aorta',\n",
       "       'Cells - EBV-transformed lymphocytes',\n",
       "       'Brain - Cerebellar Hemisphere', 'Brain - Caudate (basal ganglia)',\n",
       "       'Brain - Nucleus accumbens (basal ganglia)',\n",
       "       'Brain - Putamen (basal ganglia)', 'Brain - Hypothalamus',\n",
       "       'Brain - Spinal cord (cervical c-1)', 'Liver',\n",
       "       'Brain - Hippocampus', 'Brain - Anterior cingulate cortex (BA24)',\n",
       "       'Brain - Substantia nigra', 'Kidney - Cortex', 'Brain - Amygdala',\n",
       "       'Cervix - Ectocervix', 'Fallopian Tube', 'Cervix - Endocervix',\n",
       "       'Bladder', 'Kidney - Medulla', 'Cells - Leukemia cell line (CML)'],\n",
       "      dtype=object)"
      ]
     },
     "metadata": {},
     "output_type": "display_data"
    }
   ],
   "source": [
    "gtex_tissues = gtex_sample_attrs[\"SMTSD\"].unique()\n",
    "display(len(gtex_tissues))\n",
    "display(gtex_tissues)"
   ]
  },
  {
   "cell_type": "markdown",
   "id": "9473383c-a46d-4e4e-972b-20eedd2a7ba8",
   "metadata": {
    "papermill": {
     "duration": 0.036852,
     "end_time": "2022-01-21T04:29:17.513934",
     "exception": false,
     "start_time": "2022-01-21T04:29:17.477082",
     "status": "completed"
    },
    "tags": []
   },
   "source": [
    "# Get sample IDs for each tissue"
   ]
  },
  {
   "cell_type": "code",
   "execution_count": 7,
   "id": "c290f8e8-7157-475f-a7b8-0d7bb0054aff",
   "metadata": {
    "execution": {
     "iopub.execute_input": "2022-01-21T04:29:17.592232Z",
     "iopub.status.busy": "2022-01-21T04:29:17.590318Z",
     "iopub.status.idle": "2022-01-21T04:29:18.157634Z",
     "shell.execute_reply": "2022-01-21T04:29:18.157103Z"
    },
    "papermill": {
     "duration": 0.606579,
     "end_time": "2022-01-21T04:29:18.157747",
     "exception": false,
     "start_time": "2022-01-21T04:29:17.551168",
     "status": "completed"
    },
    "tags": []
   },
   "outputs": [],
   "source": [
    "# first, get all sample IDs with expression data\n",
    "gtex_all_sample_ids_with_expr_data = set(\n",
    "    pd.read_csv(\n",
    "        conf.GTEX[\"DATA_TPM_GCT_FILE\"],\n",
    "        sep=\"\\t\",\n",
    "        skiprows=2,\n",
    "        nrows=1,\n",
    "        usecols=lambda x: x not in (\"Name\", \"Description\"),\n",
    "    ).columns\n",
    ")"
   ]
  },
  {
   "cell_type": "code",
   "execution_count": 8,
   "id": "10e682e6-fee2-4cd9-92f6-faef8db2e3fb",
   "metadata": {
    "execution": {
     "iopub.execute_input": "2022-01-21T04:29:18.239384Z",
     "iopub.status.busy": "2022-01-21T04:29:18.238787Z",
     "iopub.status.idle": "2022-01-21T04:29:18.241128Z",
     "shell.execute_reply": "2022-01-21T04:29:18.241551Z"
    },
    "papermill": {
     "duration": 0.043618,
     "end_time": "2022-01-21T04:29:18.241666",
     "exception": false,
     "start_time": "2022-01-21T04:29:18.198048",
     "status": "completed"
    },
    "tags": []
   },
   "outputs": [
    {
     "data": {
      "text/plain": [
       "17382"
      ]
     },
     "execution_count": 8,
     "metadata": {},
     "output_type": "execute_result"
    }
   ],
   "source": [
    "len(gtex_all_sample_ids_with_expr_data)"
   ]
  },
  {
   "cell_type": "code",
   "execution_count": 9,
   "id": "105eb0a9-6af2-42b2-8bdc-2b30bc586cfc",
   "metadata": {
    "execution": {
     "iopub.execute_input": "2022-01-21T04:29:18.321398Z",
     "iopub.status.busy": "2022-01-21T04:29:18.320810Z",
     "iopub.status.idle": "2022-01-21T04:29:18.323005Z",
     "shell.execute_reply": "2022-01-21T04:29:18.323369Z"
    },
    "papermill": {
     "duration": 0.043855,
     "end_time": "2022-01-21T04:29:18.323486",
     "exception": false,
     "start_time": "2022-01-21T04:29:18.279631",
     "status": "completed"
    },
    "tags": []
   },
   "outputs": [
    {
     "data": {
      "text/plain": [
       "['GTEX-1269C-2626-SM-5EQ5C',\n",
       " 'GTEX-1RMOY-1126-SM-EV79E',\n",
       " 'GTEX-13IVO-0726-SM-5LZYV',\n",
       " 'GTEX-1RLM8-0011-R2a-SM-EZ6N4',\n",
       " 'GTEX-1GF9V-0126-SM-9WYT2',\n",
       " 'GTEX-1HSKV-2926-SM-B2LWJ',\n",
       " 'GTEX-1212Z-2626-SM-5YY8P',\n",
       " 'GTEX-14BIM-0011-R5b-SM-5S2RM',\n",
       " 'GTEX-14JG6-2126-SM-6EU2F',\n",
       " 'GTEX-14BMU-2426-SM-5RQIJ']"
      ]
     },
     "execution_count": 9,
     "metadata": {},
     "output_type": "execute_result"
    }
   ],
   "source": [
    "list(gtex_all_sample_ids_with_expr_data)[:10]"
   ]
  },
  {
   "cell_type": "code",
   "execution_count": 10,
   "id": "2149ee5c-9d8b-41ee-91fd-27eb7f4db559",
   "metadata": {
    "execution": {
     "iopub.execute_input": "2022-01-21T04:29:18.408624Z",
     "iopub.status.busy": "2022-01-21T04:29:18.404904Z",
     "iopub.status.idle": "2022-01-21T04:29:18.530006Z",
     "shell.execute_reply": "2022-01-21T04:29:18.529571Z"
    },
    "papermill": {
     "duration": 0.168592,
     "end_time": "2022-01-21T04:29:18.530107",
     "exception": false,
     "start_time": "2022-01-21T04:29:18.361515",
     "status": "completed"
    },
    "tags": []
   },
   "outputs": [],
   "source": [
    "# get sample IDs by tissue\n",
    "sample_ids_by_tissue = {\n",
    "    tissue_name: sorted(\n",
    "        list(\n",
    "            gtex_all_sample_ids_with_expr_data.intersection(\n",
    "                set(\n",
    "                    gtex_sample_attrs[gtex_sample_attrs[\"SMTSD\"] == tissue_name][\n",
    "                        \"SAMPID\"\n",
    "                    ].tolist()\n",
    "                )\n",
    "            )\n",
    "        )\n",
    "    )\n",
    "    for tissue_name in gtex_tissues\n",
    "}"
   ]
  },
  {
   "cell_type": "code",
   "execution_count": 11,
   "id": "9f8624ee-0b6a-4a87-a3ad-7f9961181c5b",
   "metadata": {
    "execution": {
     "iopub.execute_input": "2022-01-21T04:29:18.615948Z",
     "iopub.status.busy": "2022-01-21T04:29:18.615358Z",
     "iopub.status.idle": "2022-01-21T04:29:18.618657Z",
     "shell.execute_reply": "2022-01-21T04:29:18.617988Z"
    },
    "papermill": {
     "duration": 0.04907,
     "end_time": "2022-01-21T04:29:18.618763",
     "exception": false,
     "start_time": "2022-01-21T04:29:18.569693",
     "status": "completed"
    },
    "tags": []
   },
   "outputs": [],
   "source": [
    "assert len(gtex_tissues) == len(sample_ids_by_tissue)"
   ]
  },
  {
   "cell_type": "code",
   "execution_count": 12,
   "id": "a252ff14-6572-47ec-bf77-03f984f7ec8d",
   "metadata": {
    "execution": {
     "iopub.execute_input": "2022-01-21T04:29:18.703580Z",
     "iopub.status.busy": "2022-01-21T04:29:18.702959Z",
     "iopub.status.idle": "2022-01-21T04:29:18.706080Z",
     "shell.execute_reply": "2022-01-21T04:29:18.705631Z"
    },
    "papermill": {
     "duration": 0.044761,
     "end_time": "2022-01-21T04:29:18.706176",
     "exception": false,
     "start_time": "2022-01-21T04:29:18.661415",
     "status": "completed"
    },
    "tags": []
   },
   "outputs": [
    {
     "data": {
      "text/plain": [
       "['GTEX-111YS-0006-SM-5NQBE',\n",
       " 'GTEX-1122O-0005-SM-5O99J',\n",
       " 'GTEX-1128S-0005-SM-5P9HI',\n",
       " 'GTEX-113IC-0006-SM-5NQ9C',\n",
       " 'GTEX-113JC-0006-SM-5O997',\n",
       " 'GTEX-117XS-0005-SM-5PNU6',\n",
       " 'GTEX-117YW-0005-SM-5NQ8Z',\n",
       " 'GTEX-1192W-0005-SM-5NQBQ',\n",
       " 'GTEX-1192X-0005-SM-5NQC3',\n",
       " 'GTEX-11DXW-0006-SM-5NQ7Y']"
      ]
     },
     "execution_count": 12,
     "metadata": {},
     "output_type": "execute_result"
    }
   ],
   "source": [
    "sample_ids_by_tissue[\"Whole Blood\"][:10]"
   ]
  },
  {
   "cell_type": "code",
   "execution_count": 13,
   "id": "99018348-c7db-4543-9d07-d2755f7f9e3d",
   "metadata": {
    "execution": {
     "iopub.execute_input": "2022-01-21T04:29:18.795080Z",
     "iopub.status.busy": "2022-01-21T04:29:18.794558Z",
     "iopub.status.idle": "2022-01-21T04:29:18.796920Z",
     "shell.execute_reply": "2022-01-21T04:29:18.796508Z"
    },
    "papermill": {
     "duration": 0.051696,
     "end_time": "2022-01-21T04:29:18.797034",
     "exception": false,
     "start_time": "2022-01-21T04:29:18.745338",
     "status": "completed"
    },
    "tags": []
   },
   "outputs": [],
   "source": [
    "# all IDs are unique\n",
    "assert all(\n",
    "    [\n",
    "        len(sample_ids_by_tissue[tissue_name])\n",
    "        == len(set(sample_ids_by_tissue[tissue_name]))\n",
    "        for tissue_name in sample_ids_by_tissue.keys()\n",
    "    ]\n",
    ")"
   ]
  },
  {
   "cell_type": "markdown",
   "id": "c6ffdc31-9348-40b0-a912-bb0b6e107d80",
   "metadata": {
    "papermill": {
     "duration": 0.038965,
     "end_time": "2022-01-21T04:29:18.876424",
     "exception": false,
     "start_time": "2022-01-21T04:29:18.837459",
     "status": "completed"
    },
    "tags": []
   },
   "source": [
    "## Show sample size by tissue"
   ]
  },
  {
   "cell_type": "code",
   "execution_count": 14,
   "id": "364a1dfb-ba5e-4d3c-b7ab-6fcc0ffa206d",
   "metadata": {
    "execution": {
     "iopub.execute_input": "2022-01-21T04:29:18.957341Z",
     "iopub.status.busy": "2022-01-21T04:29:18.956899Z",
     "iopub.status.idle": "2022-01-21T04:29:18.959204Z",
     "shell.execute_reply": "2022-01-21T04:29:18.958771Z"
    },
    "papermill": {
     "duration": 0.04495,
     "end_time": "2022-01-21T04:29:18.959296",
     "exception": false,
     "start_time": "2022-01-21T04:29:18.914346",
     "status": "completed"
    },
    "tags": []
   },
   "outputs": [],
   "source": [
    "tissue_sample_size = pd.DataFrame(\n",
    "    [{\"tissue\": k, \"sample_size\": len(v)} for k, v in sample_ids_by_tissue.items()]\n",
    ")"
   ]
  },
  {
   "cell_type": "code",
   "execution_count": 15,
   "id": "793701d1-2c84-43fe-9674-ba436f9e9efe",
   "metadata": {
    "execution": {
     "iopub.execute_input": "2022-01-21T04:29:19.039602Z",
     "iopub.status.busy": "2022-01-21T04:29:19.039153Z",
     "iopub.status.idle": "2022-01-21T04:29:19.047414Z",
     "shell.execute_reply": "2022-01-21T04:29:19.046968Z"
    },
    "papermill": {
     "duration": 0.04987,
     "end_time": "2022-01-21T04:29:19.047511",
     "exception": false,
     "start_time": "2022-01-21T04:29:18.997641",
     "status": "completed"
    },
    "tags": []
   },
   "outputs": [
    {
     "data": {
      "text/html": [
       "<div>\n",
       "<style scoped>\n",
       "    .dataframe tbody tr th:only-of-type {\n",
       "        vertical-align: middle;\n",
       "    }\n",
       "\n",
       "    .dataframe tbody tr th {\n",
       "        vertical-align: top;\n",
       "    }\n",
       "\n",
       "    .dataframe thead th {\n",
       "        text-align: right;\n",
       "    }\n",
       "</style>\n",
       "<table border=\"1\" class=\"dataframe\">\n",
       "  <thead>\n",
       "    <tr style=\"text-align: right;\">\n",
       "      <th></th>\n",
       "      <th>tissue</th>\n",
       "      <th>sample_size</th>\n",
       "    </tr>\n",
       "  </thead>\n",
       "  <tbody>\n",
       "    <tr>\n",
       "      <th>3</th>\n",
       "      <td>Muscle - Skeletal</td>\n",
       "      <td>803</td>\n",
       "    </tr>\n",
       "    <tr>\n",
       "      <th>0</th>\n",
       "      <td>Whole Blood</td>\n",
       "      <td>755</td>\n",
       "    </tr>\n",
       "    <tr>\n",
       "      <th>29</th>\n",
       "      <td>Skin - Sun Exposed (Lower leg)</td>\n",
       "      <td>701</td>\n",
       "    </tr>\n",
       "    <tr>\n",
       "      <th>2</th>\n",
       "      <td>Adipose - Subcutaneous</td>\n",
       "      <td>663</td>\n",
       "    </tr>\n",
       "    <tr>\n",
       "      <th>4</th>\n",
       "      <td>Artery - Tibial</td>\n",
       "      <td>663</td>\n",
       "    </tr>\n",
       "    <tr>\n",
       "      <th>16</th>\n",
       "      <td>Thyroid</td>\n",
       "      <td>653</td>\n",
       "    </tr>\n",
       "    <tr>\n",
       "      <th>30</th>\n",
       "      <td>Nerve - Tibial</td>\n",
       "      <td>619</td>\n",
       "    </tr>\n",
       "    <tr>\n",
       "      <th>12</th>\n",
       "      <td>Skin - Not Sun Exposed (Suprapubic)</td>\n",
       "      <td>604</td>\n",
       "    </tr>\n",
       "    <tr>\n",
       "      <th>17</th>\n",
       "      <td>Lung</td>\n",
       "      <td>578</td>\n",
       "    </tr>\n",
       "    <tr>\n",
       "      <th>21</th>\n",
       "      <td>Esophagus - Mucosa</td>\n",
       "      <td>555</td>\n",
       "    </tr>\n",
       "    <tr>\n",
       "      <th>7</th>\n",
       "      <td>Adipose - Visceral (Omentum)</td>\n",
       "      <td>541</td>\n",
       "    </tr>\n",
       "    <tr>\n",
       "      <th>20</th>\n",
       "      <td>Esophagus - Muscularis</td>\n",
       "      <td>515</td>\n",
       "    </tr>\n",
       "    <tr>\n",
       "      <th>34</th>\n",
       "      <td>Cells - Cultured fibroblasts</td>\n",
       "      <td>504</td>\n",
       "    </tr>\n",
       "    <tr>\n",
       "      <th>11</th>\n",
       "      <td>Breast - Mammary Tissue</td>\n",
       "      <td>459</td>\n",
       "    </tr>\n",
       "    <tr>\n",
       "      <th>35</th>\n",
       "      <td>Artery - Aorta</td>\n",
       "      <td>432</td>\n",
       "    </tr>\n",
       "    <tr>\n",
       "      <th>31</th>\n",
       "      <td>Heart - Left Ventricle</td>\n",
       "      <td>432</td>\n",
       "    </tr>\n",
       "    <tr>\n",
       "      <th>6</th>\n",
       "      <td>Heart - Atrial Appendage</td>\n",
       "      <td>429</td>\n",
       "    </tr>\n",
       "    <tr>\n",
       "      <th>26</th>\n",
       "      <td>Colon - Transverse</td>\n",
       "      <td>406</td>\n",
       "    </tr>\n",
       "    <tr>\n",
       "      <th>22</th>\n",
       "      <td>Esophagus - Gastroesophageal Junction</td>\n",
       "      <td>375</td>\n",
       "    </tr>\n",
       "    <tr>\n",
       "      <th>24</th>\n",
       "      <td>Colon - Sigmoid</td>\n",
       "      <td>373</td>\n",
       "    </tr>\n",
       "    <tr>\n",
       "      <th>28</th>\n",
       "      <td>Testis</td>\n",
       "      <td>361</td>\n",
       "    </tr>\n",
       "    <tr>\n",
       "      <th>23</th>\n",
       "      <td>Stomach</td>\n",
       "      <td>359</td>\n",
       "    </tr>\n",
       "    <tr>\n",
       "      <th>19</th>\n",
       "      <td>Pancreas</td>\n",
       "      <td>328</td>\n",
       "    </tr>\n",
       "    <tr>\n",
       "      <th>32</th>\n",
       "      <td>Pituitary</td>\n",
       "      <td>283</td>\n",
       "    </tr>\n",
       "    <tr>\n",
       "      <th>15</th>\n",
       "      <td>Adrenal Gland</td>\n",
       "      <td>258</td>\n",
       "    </tr>\n",
       "    <tr>\n",
       "      <th>14</th>\n",
       "      <td>Brain - Cortex</td>\n",
       "      <td>255</td>\n",
       "    </tr>\n",
       "    <tr>\n",
       "      <th>38</th>\n",
       "      <td>Brain - Caudate (basal ganglia)</td>\n",
       "      <td>246</td>\n",
       "    </tr>\n",
       "    <tr>\n",
       "      <th>39</th>\n",
       "      <td>Brain - Nucleus accumbens (basal ganglia)</td>\n",
       "      <td>246</td>\n",
       "    </tr>\n",
       "    <tr>\n",
       "      <th>27</th>\n",
       "      <td>Prostate</td>\n",
       "      <td>245</td>\n",
       "    </tr>\n",
       "    <tr>\n",
       "      <th>18</th>\n",
       "      <td>Spleen</td>\n",
       "      <td>241</td>\n",
       "    </tr>\n",
       "    <tr>\n",
       "      <th>33</th>\n",
       "      <td>Brain - Cerebellum</td>\n",
       "      <td>241</td>\n",
       "    </tr>\n",
       "    <tr>\n",
       "      <th>5</th>\n",
       "      <td>Artery - Coronary</td>\n",
       "      <td>240</td>\n",
       "    </tr>\n",
       "    <tr>\n",
       "      <th>43</th>\n",
       "      <td>Liver</td>\n",
       "      <td>226</td>\n",
       "    </tr>\n",
       "    <tr>\n",
       "      <th>37</th>\n",
       "      <td>Brain - Cerebellar Hemisphere</td>\n",
       "      <td>215</td>\n",
       "    </tr>\n",
       "    <tr>\n",
       "      <th>1</th>\n",
       "      <td>Brain - Frontal Cortex (BA9)</td>\n",
       "      <td>209</td>\n",
       "    </tr>\n",
       "    <tr>\n",
       "      <th>40</th>\n",
       "      <td>Brain - Putamen (basal ganglia)</td>\n",
       "      <td>205</td>\n",
       "    </tr>\n",
       "    <tr>\n",
       "      <th>41</th>\n",
       "      <td>Brain - Hypothalamus</td>\n",
       "      <td>202</td>\n",
       "    </tr>\n",
       "    <tr>\n",
       "      <th>44</th>\n",
       "      <td>Brain - Hippocampus</td>\n",
       "      <td>197</td>\n",
       "    </tr>\n",
       "    <tr>\n",
       "      <th>25</th>\n",
       "      <td>Small Intestine - Terminal Ileum</td>\n",
       "      <td>187</td>\n",
       "    </tr>\n",
       "    <tr>\n",
       "      <th>8</th>\n",
       "      <td>Ovary</td>\n",
       "      <td>180</td>\n",
       "    </tr>\n",
       "    <tr>\n",
       "      <th>45</th>\n",
       "      <td>Brain - Anterior cingulate cortex (BA24)</td>\n",
       "      <td>176</td>\n",
       "    </tr>\n",
       "    <tr>\n",
       "      <th>36</th>\n",
       "      <td>Cells - EBV-transformed lymphocytes</td>\n",
       "      <td>174</td>\n",
       "    </tr>\n",
       "    <tr>\n",
       "      <th>13</th>\n",
       "      <td>Minor Salivary Gland</td>\n",
       "      <td>162</td>\n",
       "    </tr>\n",
       "    <tr>\n",
       "      <th>42</th>\n",
       "      <td>Brain - Spinal cord (cervical c-1)</td>\n",
       "      <td>159</td>\n",
       "    </tr>\n",
       "    <tr>\n",
       "      <th>10</th>\n",
       "      <td>Vagina</td>\n",
       "      <td>156</td>\n",
       "    </tr>\n",
       "    <tr>\n",
       "      <th>48</th>\n",
       "      <td>Brain - Amygdala</td>\n",
       "      <td>152</td>\n",
       "    </tr>\n",
       "    <tr>\n",
       "      <th>9</th>\n",
       "      <td>Uterus</td>\n",
       "      <td>142</td>\n",
       "    </tr>\n",
       "    <tr>\n",
       "      <th>46</th>\n",
       "      <td>Brain - Substantia nigra</td>\n",
       "      <td>139</td>\n",
       "    </tr>\n",
       "    <tr>\n",
       "      <th>47</th>\n",
       "      <td>Kidney - Cortex</td>\n",
       "      <td>85</td>\n",
       "    </tr>\n",
       "    <tr>\n",
       "      <th>52</th>\n",
       "      <td>Bladder</td>\n",
       "      <td>21</td>\n",
       "    </tr>\n",
       "    <tr>\n",
       "      <th>51</th>\n",
       "      <td>Cervix - Endocervix</td>\n",
       "      <td>10</td>\n",
       "    </tr>\n",
       "    <tr>\n",
       "      <th>49</th>\n",
       "      <td>Cervix - Ectocervix</td>\n",
       "      <td>9</td>\n",
       "    </tr>\n",
       "    <tr>\n",
       "      <th>50</th>\n",
       "      <td>Fallopian Tube</td>\n",
       "      <td>9</td>\n",
       "    </tr>\n",
       "    <tr>\n",
       "      <th>53</th>\n",
       "      <td>Kidney - Medulla</td>\n",
       "      <td>4</td>\n",
       "    </tr>\n",
       "    <tr>\n",
       "      <th>54</th>\n",
       "      <td>Cells - Leukemia cell line (CML)</td>\n",
       "      <td>0</td>\n",
       "    </tr>\n",
       "  </tbody>\n",
       "</table>\n",
       "</div>"
      ],
      "text/plain": [
       "                                       tissue  sample_size\n",
       "3                           Muscle - Skeletal          803\n",
       "0                                 Whole Blood          755\n",
       "29             Skin - Sun Exposed (Lower leg)          701\n",
       "2                      Adipose - Subcutaneous          663\n",
       "4                             Artery - Tibial          663\n",
       "16                                    Thyroid          653\n",
       "30                             Nerve - Tibial          619\n",
       "12        Skin - Not Sun Exposed (Suprapubic)          604\n",
       "17                                       Lung          578\n",
       "21                         Esophagus - Mucosa          555\n",
       "7                Adipose - Visceral (Omentum)          541\n",
       "20                     Esophagus - Muscularis          515\n",
       "34               Cells - Cultured fibroblasts          504\n",
       "11                    Breast - Mammary Tissue          459\n",
       "35                             Artery - Aorta          432\n",
       "31                     Heart - Left Ventricle          432\n",
       "6                    Heart - Atrial Appendage          429\n",
       "26                         Colon - Transverse          406\n",
       "22      Esophagus - Gastroesophageal Junction          375\n",
       "24                            Colon - Sigmoid          373\n",
       "28                                     Testis          361\n",
       "23                                    Stomach          359\n",
       "19                                   Pancreas          328\n",
       "32                                  Pituitary          283\n",
       "15                              Adrenal Gland          258\n",
       "14                             Brain - Cortex          255\n",
       "38            Brain - Caudate (basal ganglia)          246\n",
       "39  Brain - Nucleus accumbens (basal ganglia)          246\n",
       "27                                   Prostate          245\n",
       "18                                     Spleen          241\n",
       "33                         Brain - Cerebellum          241\n",
       "5                           Artery - Coronary          240\n",
       "43                                      Liver          226\n",
       "37              Brain - Cerebellar Hemisphere          215\n",
       "1                Brain - Frontal Cortex (BA9)          209\n",
       "40            Brain - Putamen (basal ganglia)          205\n",
       "41                       Brain - Hypothalamus          202\n",
       "44                        Brain - Hippocampus          197\n",
       "25           Small Intestine - Terminal Ileum          187\n",
       "8                                       Ovary          180\n",
       "45   Brain - Anterior cingulate cortex (BA24)          176\n",
       "36        Cells - EBV-transformed lymphocytes          174\n",
       "13                       Minor Salivary Gland          162\n",
       "42         Brain - Spinal cord (cervical c-1)          159\n",
       "10                                     Vagina          156\n",
       "48                           Brain - Amygdala          152\n",
       "9                                      Uterus          142\n",
       "46                   Brain - Substantia nigra          139\n",
       "47                            Kidney - Cortex           85\n",
       "52                                    Bladder           21\n",
       "51                        Cervix - Endocervix           10\n",
       "49                        Cervix - Ectocervix            9\n",
       "50                             Fallopian Tube            9\n",
       "53                           Kidney - Medulla            4\n",
       "54           Cells - Leukemia cell line (CML)            0"
      ]
     },
     "metadata": {},
     "output_type": "display_data"
    }
   ],
   "source": [
    "tissue_sample_size = tissue_sample_size.sort_values(\"sample_size\", ascending=False)\n",
    "display(tissue_sample_size)"
   ]
  },
  {
   "cell_type": "code",
   "execution_count": 16,
   "id": "78a1a2c1-10fe-4c7e-ae19-91111270816f",
   "metadata": {
    "execution": {
     "iopub.execute_input": "2022-01-21T04:29:19.131731Z",
     "iopub.status.busy": "2022-01-21T04:29:19.131262Z",
     "iopub.status.idle": "2022-01-21T04:29:19.133548Z",
     "shell.execute_reply": "2022-01-21T04:29:19.133109Z"
    },
    "papermill": {
     "duration": 0.045971,
     "end_time": "2022-01-21T04:29:19.133641",
     "exception": false,
     "start_time": "2022-01-21T04:29:19.087670",
     "status": "completed"
    },
    "tags": []
   },
   "outputs": [],
   "source": [
    "# some testing\n",
    "_tmp = tissue_sample_size.set_index(\"tissue\").squeeze()\n",
    "assert _tmp.loc[\"Muscle - Skeletal\"] == 803\n",
    "assert _tmp.loc[\"Whole Blood\"] == 755\n",
    "assert _tmp.loc[\"Skin - Not Sun Exposed (Suprapubic)\"] == 604\n",
    "assert _tmp.loc[\"Kidney - Medulla\"] == 4"
   ]
  },
  {
   "cell_type": "markdown",
   "id": "2ebe3950-b717-4756-b6a7-f6ce7fc00d30",
   "metadata": {
    "papermill": {
     "duration": 0.03933,
     "end_time": "2022-01-21T04:29:19.213273",
     "exception": false,
     "start_time": "2022-01-21T04:29:19.173943",
     "status": "completed"
    },
    "tags": []
   },
   "source": [
    "These numbers match those you can find here: https://gtexportal.org/home/tissueSummaryPage#sampleCountsPerTissue"
   ]
  },
  {
   "cell_type": "markdown",
   "id": "752ccc81-3c77-4a3f-b56e-cdbd862a7ba8",
   "metadata": {
    "papermill": {
     "duration": 0.03905,
     "end_time": "2022-01-21T04:29:19.291625",
     "exception": false,
     "start_time": "2022-01-21T04:29:19.252575",
     "status": "completed"
    },
    "tags": []
   },
   "source": [
    "# Split expression data by tissue"
   ]
  },
  {
   "cell_type": "code",
   "execution_count": 17,
   "id": "83685682-4842-44e9-83c1-405365fee395",
   "metadata": {
    "execution": {
     "iopub.execute_input": "2022-01-21T04:29:19.376734Z",
     "iopub.status.busy": "2022-01-21T04:29:19.376241Z",
     "iopub.status.idle": "2022-01-21T05:17:07.019161Z",
     "shell.execute_reply": "2022-01-21T05:17:07.017567Z"
    },
    "papermill": {
     "duration": 2867.688133,
     "end_time": "2022-01-21T05:17:07.019254",
     "exception": false,
     "start_time": "2022-01-21T04:29:19.331121",
     "status": "completed"
    },
    "tags": []
   },
   "outputs": [
    {
     "name": "stderr",
     "output_type": "stream",
     "text": [
      "Cells - Leukemia cell line (CML): 100%|██████████| 55/55 [47:47<00:00, 52.14s/it]\n"
     ]
    }
   ],
   "source": [
    "pbar = tqdm(tissue_sample_size[\"tissue\"])\n",
    "\n",
    "gene_id_symbol_map_tuples = set()\n",
    "\n",
    "for tissue_name in pbar:\n",
    "    pbar.set_description(tissue_name)\n",
    "\n",
    "    tissue_ids = sample_ids_by_tissue[tissue_name]\n",
    "    if len(tissue_ids) == 0:\n",
    "        continue\n",
    "\n",
    "    tissue_data = pd.read_csv(\n",
    "        conf.GTEX[\"DATA_TPM_GCT_FILE\"],\n",
    "        sep=\"\\t\",\n",
    "        skiprows=2,\n",
    "        usecols=[\"Name\", \"Description\"] + tissue_ids,\n",
    "    )\n",
    "\n",
    "    tissue_data = tissue_data.rename(\n",
    "        columns={\n",
    "            \"Name\": \"gene_ens_id\",\n",
    "            \"Description\": \"gene_symbol\",\n",
    "        }\n",
    "    )\n",
    "\n",
    "    # add gene id / gene symbol to mapping variable\n",
    "    gene_id_symbol_map_tuples.update(\n",
    "        tissue_data[[\"gene_ens_id\", \"gene_symbol\"]].itertuples(index=False)\n",
    "    )\n",
    "\n",
    "    tissue_data = tissue_data.drop(columns=[\"gene_symbol\"]).set_index(\"gene_ens_id\")\n",
    "\n",
    "    assert not tissue_data.isna().any().any()\n",
    "    assert tissue_data.index.is_unique\n",
    "    assert tissue_data.columns.is_unique\n",
    "\n",
    "    # save\n",
    "    tissue_name_simple = simplify_string(simplify_string(tissue_name.lower()))\n",
    "    tissue_data.to_pickle(path=OUTPUT_DIR / f\"gtex_v8_data_{tissue_name_simple}.pkl\")"
   ]
  },
  {
   "cell_type": "markdown",
   "id": "34526b2f-dbc9-48a5-8d09-58f418db1e72",
   "metadata": {
    "papermill": {
     "duration": 0.066283,
     "end_time": "2022-01-21T05:17:07.152829",
     "exception": false,
     "start_time": "2022-01-21T05:17:07.086546",
     "status": "completed"
    },
    "tags": []
   },
   "source": [
    "## Testing"
   ]
  },
  {
   "cell_type": "markdown",
   "id": "7b25c7b5-86d1-4da1-8d98-ec3cb822de4d",
   "metadata": {
    "papermill": {
     "duration": 0.066646,
     "end_time": "2022-01-21T05:17:07.285948",
     "exception": false,
     "start_time": "2022-01-21T05:17:07.219302",
     "status": "completed"
    },
    "tags": []
   },
   "source": [
    "Here I take a random tissue file that was just generate it, read it, and check the expected number of samples, and that the expected sample IDs are there. I also check that same expression values for gene/sample pairs are correct (I read those from a different console, just to make sure I'm not making a mistake here)."
   ]
  },
  {
   "cell_type": "code",
   "execution_count": 18,
   "id": "5ae77408-e4b1-4a54-942a-61bc402718e3",
   "metadata": {
    "execution": {
     "iopub.execute_input": "2022-01-21T05:17:07.422468Z",
     "iopub.status.busy": "2022-01-21T05:17:07.421950Z",
     "iopub.status.idle": "2022-01-21T05:17:07.442217Z",
     "shell.execute_reply": "2022-01-21T05:17:07.442610Z"
    },
    "papermill": {
     "duration": 0.090713,
     "end_time": "2022-01-21T05:17:07.442748",
     "exception": false,
     "start_time": "2022-01-21T05:17:07.352035",
     "status": "completed"
    },
    "tags": []
   },
   "outputs": [],
   "source": [
    "_tmp = pd.read_pickle(OUTPUT_DIR / \"gtex_v8_data_brain_cerebellar_hemisphere.pkl\")"
   ]
  },
  {
   "cell_type": "code",
   "execution_count": 19,
   "id": "f2d6e5a5-1546-4bc3-a9b5-dab6f92d1ceb",
   "metadata": {
    "execution": {
     "iopub.execute_input": "2022-01-21T05:17:07.581459Z",
     "iopub.status.busy": "2022-01-21T05:17:07.581004Z",
     "iopub.status.idle": "2022-01-21T05:17:07.582615Z",
     "shell.execute_reply": "2022-01-21T05:17:07.582966Z"
    },
    "papermill": {
     "duration": 0.071439,
     "end_time": "2022-01-21T05:17:07.583077",
     "exception": false,
     "start_time": "2022-01-21T05:17:07.511638",
     "status": "completed"
    },
    "tags": []
   },
   "outputs": [],
   "source": [
    "# taken from GTEx webpage (see above)\n",
    "assert _tmp.shape[1] == 215"
   ]
  },
  {
   "cell_type": "code",
   "execution_count": 20,
   "id": "bde0b453-bd5f-4f4e-8617-50d1dc30a561",
   "metadata": {
    "execution": {
     "iopub.execute_input": "2022-01-21T05:17:07.721533Z",
     "iopub.status.busy": "2022-01-21T05:17:07.721067Z",
     "iopub.status.idle": "2022-01-21T05:17:07.722641Z",
     "shell.execute_reply": "2022-01-21T05:17:07.723156Z"
    },
    "papermill": {
     "duration": 0.07298,
     "end_time": "2022-01-21T05:17:07.723274",
     "exception": false,
     "start_time": "2022-01-21T05:17:07.650294",
     "status": "completed"
    },
    "tags": []
   },
   "outputs": [],
   "source": [
    "assert \"GTEX-11DXY-0011-R11a-SM-DNZZN\" in _tmp.columns\n",
    "assert \"GTEX-WL46-0011-R11A-SM-3MJFT\" in _tmp.columns\n",
    "assert \"GTEX-ZF28-0011-R11a-SM-4WWEI\" in _tmp.columns"
   ]
  },
  {
   "cell_type": "code",
   "execution_count": 21,
   "id": "878e8939-8784-4adc-9a63-d593fea5fb1a",
   "metadata": {
    "execution": {
     "iopub.execute_input": "2022-01-21T05:17:07.867251Z",
     "iopub.status.busy": "2022-01-21T05:17:07.866072Z",
     "iopub.status.idle": "2022-01-21T05:17:07.869232Z",
     "shell.execute_reply": "2022-01-21T05:17:07.869604Z"
    },
    "papermill": {
     "duration": 0.079383,
     "end_time": "2022-01-21T05:17:07.869725",
     "exception": false,
     "start_time": "2022-01-21T05:17:07.790342",
     "status": "completed"
    },
    "tags": []
   },
   "outputs": [],
   "source": [
    "_v = _tmp.loc[\"ENSG00000223972.5\", \"GTEX-11DXY-0011-R11a-SM-DNZZN\"]\n",
    "assert _v == 0.04045, _v\n",
    "_v = _tmp.loc[\"ENSG00000278267.1\", \"GTEX-11DXY-0011-R11a-SM-DNZZN\"]\n",
    "assert _v == 0.0, _v\n",
    "\n",
    "_v = _tmp.loc[\"ENSG00000233327.10\", \"GTEX-WL46-0011-R11A-SM-3MJFT\"]\n",
    "assert _v == 146.4000, _v\n",
    "_v = _tmp.loc[\"ENSG00000237118.2\", \"GTEX-WL46-0011-R11A-SM-3MJFT\"]\n",
    "assert _v == 0.3357, _v\n",
    "\n",
    "_v = _tmp.loc[\"ENSG00000233327.10\", \"GTEX-ZF28-0011-R11a-SM-4WWEI\"]\n",
    "assert _v == 30.7200, _v\n",
    "_v = _tmp.loc[\"ENSG00000186907.7\", \"GTEX-ZF28-0011-R11a-SM-4WWEI\"]\n",
    "assert _v == 0.94720, _v"
   ]
  },
  {
   "cell_type": "markdown",
   "id": "df5f1e0b-26d4-4993-8ccf-f4313ccbab8d",
   "metadata": {
    "papermill": {
     "duration": 0.066809,
     "end_time": "2022-01-21T05:17:08.003639",
     "exception": false,
     "start_time": "2022-01-21T05:17:07.936830",
     "status": "completed"
    },
    "tags": []
   },
   "source": [
    "# Save gene mappings"
   ]
  },
  {
   "cell_type": "code",
   "execution_count": 22,
   "id": "8f34220c-1da3-4105-8b61-e24b02c1eb11",
   "metadata": {
    "execution": {
     "iopub.execute_input": "2022-01-21T05:17:08.142224Z",
     "iopub.status.busy": "2022-01-21T05:17:08.141668Z",
     "iopub.status.idle": "2022-01-21T05:17:08.143727Z",
     "shell.execute_reply": "2022-01-21T05:17:08.144169Z"
    },
    "papermill": {
     "duration": 0.07431,
     "end_time": "2022-01-21T05:17:08.144282",
     "exception": false,
     "start_time": "2022-01-21T05:17:08.069972",
     "status": "completed"
    },
    "tags": []
   },
   "outputs": [
    {
     "data": {
      "text/plain": [
       "[Pandas(gene_ens_id='ENSG00000222320.1', gene_symbol='RNU6-1050P'),\n",
       " Pandas(gene_ens_id='ENSG00000200554.1', gene_symbol='RNU6-1020P'),\n",
       " Pandas(gene_ens_id='ENSG00000115944.14', gene_symbol='COX7A2L'),\n",
       " Pandas(gene_ens_id='ENSG00000254158.1', gene_symbol='RP11-281O15.5'),\n",
       " Pandas(gene_ens_id='ENSG00000254101.5', gene_symbol='LINC02055')]"
      ]
     },
     "execution_count": 22,
     "metadata": {},
     "output_type": "execute_result"
    }
   ],
   "source": [
    "list(gene_id_symbol_map_tuples)[:5]"
   ]
  },
  {
   "cell_type": "code",
   "execution_count": 23,
   "id": "c59f8fb5-50aa-4d8d-8fa1-e49b79575eff",
   "metadata": {
    "execution": {
     "iopub.execute_input": "2022-01-21T05:17:08.302697Z",
     "iopub.status.busy": "2022-01-21T05:17:08.287182Z",
     "iopub.status.idle": "2022-01-21T05:17:08.308550Z",
     "shell.execute_reply": "2022-01-21T05:17:08.309012Z"
    },
    "papermill": {
     "duration": 0.096779,
     "end_time": "2022-01-21T05:17:08.309159",
     "exception": false,
     "start_time": "2022-01-21T05:17:08.212380",
     "status": "completed"
    },
    "tags": []
   },
   "outputs": [],
   "source": [
    "gene_mappings = pd.DataFrame(gene_id_symbol_map_tuples)"
   ]
  },
  {
   "cell_type": "code",
   "execution_count": 24,
   "id": "da6ad54e-4653-4f53-81e0-34a37f752bc5",
   "metadata": {
    "execution": {
     "iopub.execute_input": "2022-01-21T05:17:08.479735Z",
     "iopub.status.busy": "2022-01-21T05:17:08.479168Z",
     "iopub.status.idle": "2022-01-21T05:17:08.482008Z",
     "shell.execute_reply": "2022-01-21T05:17:08.481523Z"
    },
    "papermill": {
     "duration": 0.098929,
     "end_time": "2022-01-21T05:17:08.482127",
     "exception": false,
     "start_time": "2022-01-21T05:17:08.383198",
     "status": "completed"
    },
    "tags": []
   },
   "outputs": [
    {
     "data": {
      "text/plain": [
       "(56200, 2)"
      ]
     },
     "execution_count": 24,
     "metadata": {},
     "output_type": "execute_result"
    }
   ],
   "source": [
    "gene_mappings.shape"
   ]
  },
  {
   "cell_type": "code",
   "execution_count": 25,
   "id": "63d308d2-5105-455f-b4b2-54d50ecfae41",
   "metadata": {
    "execution": {
     "iopub.execute_input": "2022-01-21T05:17:08.634262Z",
     "iopub.status.busy": "2022-01-21T05:17:08.633776Z",
     "iopub.status.idle": "2022-01-21T05:17:08.635744Z",
     "shell.execute_reply": "2022-01-21T05:17:08.636142Z"
    },
    "papermill": {
     "duration": 0.076424,
     "end_time": "2022-01-21T05:17:08.636259",
     "exception": false,
     "start_time": "2022-01-21T05:17:08.559835",
     "status": "completed"
    },
    "tags": []
   },
   "outputs": [
    {
     "data": {
      "text/html": [
       "<div>\n",
       "<style scoped>\n",
       "    .dataframe tbody tr th:only-of-type {\n",
       "        vertical-align: middle;\n",
       "    }\n",
       "\n",
       "    .dataframe tbody tr th {\n",
       "        vertical-align: top;\n",
       "    }\n",
       "\n",
       "    .dataframe thead th {\n",
       "        text-align: right;\n",
       "    }\n",
       "</style>\n",
       "<table border=\"1\" class=\"dataframe\">\n",
       "  <thead>\n",
       "    <tr style=\"text-align: right;\">\n",
       "      <th></th>\n",
       "      <th>gene_ens_id</th>\n",
       "      <th>gene_symbol</th>\n",
       "    </tr>\n",
       "  </thead>\n",
       "  <tbody>\n",
       "    <tr>\n",
       "      <th>0</th>\n",
       "      <td>ENSG00000222320.1</td>\n",
       "      <td>RNU6-1050P</td>\n",
       "    </tr>\n",
       "    <tr>\n",
       "      <th>1</th>\n",
       "      <td>ENSG00000200554.1</td>\n",
       "      <td>RNU6-1020P</td>\n",
       "    </tr>\n",
       "    <tr>\n",
       "      <th>2</th>\n",
       "      <td>ENSG00000115944.14</td>\n",
       "      <td>COX7A2L</td>\n",
       "    </tr>\n",
       "    <tr>\n",
       "      <th>3</th>\n",
       "      <td>ENSG00000254158.1</td>\n",
       "      <td>RP11-281O15.5</td>\n",
       "    </tr>\n",
       "    <tr>\n",
       "      <th>4</th>\n",
       "      <td>ENSG00000254101.5</td>\n",
       "      <td>LINC02055</td>\n",
       "    </tr>\n",
       "  </tbody>\n",
       "</table>\n",
       "</div>"
      ],
      "text/plain": [
       "          gene_ens_id    gene_symbol\n",
       "0   ENSG00000222320.1     RNU6-1050P\n",
       "1   ENSG00000200554.1     RNU6-1020P\n",
       "2  ENSG00000115944.14        COX7A2L\n",
       "3   ENSG00000254158.1  RP11-281O15.5\n",
       "4   ENSG00000254101.5      LINC02055"
      ]
     },
     "execution_count": 25,
     "metadata": {},
     "output_type": "execute_result"
    }
   ],
   "source": [
    "gene_mappings.head()"
   ]
  },
  {
   "cell_type": "markdown",
   "id": "90a5f71f-5f39-4d9c-b6c8-487a0b487aea",
   "metadata": {
    "papermill": {
     "duration": 0.068817,
     "end_time": "2022-01-21T05:17:08.773802",
     "exception": false,
     "start_time": "2022-01-21T05:17:08.704985",
     "status": "completed"
    },
    "tags": []
   },
   "source": [
    "## Save"
   ]
  },
  {
   "cell_type": "code",
   "execution_count": 26,
   "id": "282bfd90-6970-4ef1-8039-89628ac6d0c3",
   "metadata": {
    "execution": {
     "iopub.execute_input": "2022-01-21T05:17:08.916928Z",
     "iopub.status.busy": "2022-01-21T05:17:08.916307Z",
     "iopub.status.idle": "2022-01-21T05:17:08.919311Z",
     "shell.execute_reply": "2022-01-21T05:17:08.918862Z"
    },
    "papermill": {
     "duration": 0.076674,
     "end_time": "2022-01-21T05:17:08.919406",
     "exception": false,
     "start_time": "2022-01-21T05:17:08.842732",
     "status": "completed"
    },
    "tags": []
   },
   "outputs": [
    {
     "data": {
      "text/plain": [
       "PosixPath('/opt/data/data/gtex_v8/gtex_gene_id_symbol_mappings.pkl')"
      ]
     },
     "metadata": {},
     "output_type": "display_data"
    }
   ],
   "source": [
    "output_filename = conf.GTEX[\"DATA_DIR\"] / \"gtex_gene_id_symbol_mappings.pkl\"\n",
    "display(output_filename)"
   ]
  },
  {
   "cell_type": "code",
   "execution_count": 27,
   "id": "1c4810b4-20c7-41dc-978e-7782fce153e0",
   "metadata": {
    "execution": {
     "iopub.execute_input": "2022-01-21T05:17:09.065654Z",
     "iopub.status.busy": "2022-01-21T05:17:09.065165Z",
     "iopub.status.idle": "2022-01-21T05:17:09.087509Z",
     "shell.execute_reply": "2022-01-21T05:17:09.086930Z"
    },
    "papermill": {
     "duration": 0.097844,
     "end_time": "2022-01-21T05:17:09.087630",
     "exception": false,
     "start_time": "2022-01-21T05:17:08.989786",
     "status": "completed"
    },
    "tags": []
   },
   "outputs": [],
   "source": [
    "gene_mappings.to_pickle(output_filename)"
   ]
  },
  {
   "cell_type": "markdown",
   "id": "e96db98c-e6cb-4785-bf31-ea8556663ceb",
   "metadata": {
    "papermill": {
     "duration": 0.068538,
     "end_time": "2022-01-21T05:17:09.230651",
     "exception": false,
     "start_time": "2022-01-21T05:17:09.162113",
     "status": "completed"
    },
    "tags": []
   },
   "source": [
    "## Testing"
   ]
  },
  {
   "cell_type": "code",
   "execution_count": 28,
   "id": "fb095cc7-233d-43d7-bb95-61dfffb6cc53",
   "metadata": {
    "execution": {
     "iopub.execute_input": "2022-01-21T05:17:09.372022Z",
     "iopub.status.busy": "2022-01-21T05:17:09.371502Z",
     "iopub.status.idle": "2022-01-21T05:17:09.383730Z",
     "shell.execute_reply": "2022-01-21T05:17:09.383274Z"
    },
    "papermill": {
     "duration": 0.084703,
     "end_time": "2022-01-21T05:17:09.383847",
     "exception": false,
     "start_time": "2022-01-21T05:17:09.299144",
     "status": "completed"
    },
    "tags": []
   },
   "outputs": [],
   "source": [
    "gene_mappings = pd.read_pickle(output_filename)"
   ]
  },
  {
   "cell_type": "code",
   "execution_count": 29,
   "id": "e8b41751-5f60-480a-9480-d392d15f77e9",
   "metadata": {
    "execution": {
     "iopub.execute_input": "2022-01-21T05:17:09.532657Z",
     "iopub.status.busy": "2022-01-21T05:17:09.532170Z",
     "iopub.status.idle": "2022-01-21T05:17:09.537767Z",
     "shell.execute_reply": "2022-01-21T05:17:09.538128Z"
    },
    "papermill": {
     "duration": 0.083559,
     "end_time": "2022-01-21T05:17:09.538254",
     "exception": false,
     "start_time": "2022-01-21T05:17:09.454695",
     "status": "completed"
    },
    "tags": []
   },
   "outputs": [],
   "source": [
    "# no null\n",
    "assert gene_mappings.dropna(how=\"any\").shape == gene_mappings.shape"
   ]
  },
  {
   "cell_type": "code",
   "execution_count": 30,
   "id": "08b136bc-2e88-4ffa-bc5d-51a76a44316c",
   "metadata": {
    "execution": {
     "iopub.execute_input": "2022-01-21T05:17:09.682639Z",
     "iopub.status.busy": "2022-01-21T05:17:09.682171Z",
     "iopub.status.idle": "2022-01-21T05:17:09.703297Z",
     "shell.execute_reply": "2022-01-21T05:17:09.702860Z"
    },
    "papermill": {
     "duration": 0.096046,
     "end_time": "2022-01-21T05:17:09.703411",
     "exception": false,
     "start_time": "2022-01-21T05:17:09.607365",
     "status": "completed"
    },
    "tags": []
   },
   "outputs": [],
   "source": [
    "# no duplicates\n",
    "assert gene_mappings.drop_duplicates().shape == gene_mappings.shape"
   ]
  },
  {
   "cell_type": "code",
   "execution_count": 31,
   "id": "7b78b652-a5a2-45d1-a88d-a0b30e9e4783",
   "metadata": {
    "execution": {
     "iopub.execute_input": "2022-01-21T05:17:09.877778Z",
     "iopub.status.busy": "2022-01-21T05:17:09.862633Z",
     "iopub.status.idle": "2022-01-21T05:17:09.881630Z",
     "shell.execute_reply": "2022-01-21T05:17:09.881094Z"
    },
    "papermill": {
     "duration": 0.104553,
     "end_time": "2022-01-21T05:17:09.881743",
     "exception": false,
     "start_time": "2022-01-21T05:17:09.777190",
     "status": "completed"
    },
    "tags": []
   },
   "outputs": [],
   "source": [
    "# check gene id and gene symbol lengths (check no empty entries)\n",
    "_tmp = gene_mappings.copy()\n",
    "_tmp = _tmp.assign(id_len=gene_mappings[\"gene_ens_id\"].apply(len))\n",
    "_tmp = _tmp.assign(symbol_len=gene_mappings[\"gene_symbol\"].apply(len))"
   ]
  },
  {
   "cell_type": "code",
   "execution_count": 32,
   "id": "01dc364c-aeed-4f3a-bacb-b290cec33a7e",
   "metadata": {
    "execution": {
     "iopub.execute_input": "2022-01-21T05:17:10.027629Z",
     "iopub.status.busy": "2022-01-21T05:17:10.027037Z",
     "iopub.status.idle": "2022-01-21T05:17:10.030592Z",
     "shell.execute_reply": "2022-01-21T05:17:10.030949Z"
    },
    "papermill": {
     "duration": 0.076559,
     "end_time": "2022-01-21T05:17:10.031063",
     "exception": false,
     "start_time": "2022-01-21T05:17:09.954504",
     "status": "completed"
    },
    "tags": []
   },
   "outputs": [
    {
     "data": {
      "text/plain": [
       "array([17, 18, 23, 24])"
      ]
     },
     "metadata": {},
     "output_type": "display_data"
    }
   ],
   "source": [
    "_tmp_unique = _tmp[\"id_len\"].unique()\n",
    "display(_tmp_unique)"
   ]
  },
  {
   "cell_type": "code",
   "execution_count": 33,
   "id": "fbda3126-3bd4-487c-9ebf-1575a3fcb955",
   "metadata": {
    "execution": {
     "iopub.execute_input": "2022-01-21T05:17:10.174624Z",
     "iopub.status.busy": "2022-01-21T05:17:10.174150Z",
     "iopub.status.idle": "2022-01-21T05:17:10.182232Z",
     "shell.execute_reply": "2022-01-21T05:17:10.181784Z"
    },
    "papermill": {
     "duration": 0.080601,
     "end_time": "2022-01-21T05:17:10.182330",
     "exception": false,
     "start_time": "2022-01-21T05:17:10.101729",
     "status": "completed"
    },
    "tags": []
   },
   "outputs": [
    {
     "data": {
      "text/html": [
       "<div>\n",
       "<style scoped>\n",
       "    .dataframe tbody tr th:only-of-type {\n",
       "        vertical-align: middle;\n",
       "    }\n",
       "\n",
       "    .dataframe tbody tr th {\n",
       "        vertical-align: top;\n",
       "    }\n",
       "\n",
       "    .dataframe thead th {\n",
       "        text-align: right;\n",
       "    }\n",
       "</style>\n",
       "<table border=\"1\" class=\"dataframe\">\n",
       "  <thead>\n",
       "    <tr style=\"text-align: right;\">\n",
       "      <th></th>\n",
       "      <th>gene_ens_id</th>\n",
       "      <th>gene_symbol</th>\n",
       "      <th>id_len</th>\n",
       "      <th>symbol_len</th>\n",
       "    </tr>\n",
       "  </thead>\n",
       "  <tbody>\n",
       "    <tr>\n",
       "      <th>0</th>\n",
       "      <td>ENSG00000222320.1</td>\n",
       "      <td>RNU6-1050P</td>\n",
       "      <td>17</td>\n",
       "      <td>10</td>\n",
       "    </tr>\n",
       "    <tr>\n",
       "      <th>2</th>\n",
       "      <td>ENSG00000115944.14</td>\n",
       "      <td>COX7A2L</td>\n",
       "      <td>18</td>\n",
       "      <td>7</td>\n",
       "    </tr>\n",
       "    <tr>\n",
       "      <th>1432</th>\n",
       "      <td>ENSG00000229232.6_PAR_Y</td>\n",
       "      <td>KRT18P53</td>\n",
       "      <td>23</td>\n",
       "      <td>8</td>\n",
       "    </tr>\n",
       "    <tr>\n",
       "      <th>3780</th>\n",
       "      <td>ENSG00000182378.13_PAR_Y</td>\n",
       "      <td>PLCXD1</td>\n",
       "      <td>24</td>\n",
       "      <td>6</td>\n",
       "    </tr>\n",
       "  </tbody>\n",
       "</table>\n",
       "</div>"
      ],
      "text/plain": [
       "                   gene_ens_id gene_symbol  id_len  symbol_len\n",
       "0            ENSG00000222320.1  RNU6-1050P      17          10\n",
       "2           ENSG00000115944.14     COX7A2L      18           7\n",
       "1432   ENSG00000229232.6_PAR_Y    KRT18P53      23           8\n",
       "3780  ENSG00000182378.13_PAR_Y      PLCXD1      24           6"
      ]
     },
     "execution_count": 33,
     "metadata": {},
     "output_type": "execute_result"
    }
   ],
   "source": [
    "_tmp.drop_duplicates(subset=[\"id_len\"])"
   ]
  },
  {
   "cell_type": "markdown",
   "id": "e5891b45-ff1b-45c8-a1d7-776afcf7d3de",
   "metadata": {
    "papermill": {
     "duration": 0.069583,
     "end_time": "2022-01-21T05:17:10.321445",
     "exception": false,
     "start_time": "2022-01-21T05:17:10.251862",
     "status": "completed"
    },
    "tags": []
   },
   "source": [
    "Unique gene id lengths seem to be valid"
   ]
  },
  {
   "cell_type": "code",
   "execution_count": 34,
   "id": "a6ed0534-8313-46e8-a6ad-e52137ce84c7",
   "metadata": {
    "execution": {
     "iopub.execute_input": "2022-01-21T05:17:10.464772Z",
     "iopub.status.busy": "2022-01-21T05:17:10.464315Z",
     "iopub.status.idle": "2022-01-21T05:17:10.465718Z",
     "shell.execute_reply": "2022-01-21T05:17:10.466101Z"
    },
    "papermill": {
     "duration": 0.074902,
     "end_time": "2022-01-21T05:17:10.466228",
     "exception": false,
     "start_time": "2022-01-21T05:17:10.391326",
     "status": "completed"
    },
    "tags": []
   },
   "outputs": [],
   "source": [
    "assert set(_tmp_unique) == set([17, 18, 24, 23])"
   ]
  },
  {
   "cell_type": "code",
   "execution_count": 35,
   "id": "763feb07-e902-49e4-97d6-27d726cd05d1",
   "metadata": {
    "execution": {
     "iopub.execute_input": "2022-01-21T05:17:10.609086Z",
     "iopub.status.busy": "2022-01-21T05:17:10.607843Z",
     "iopub.status.idle": "2022-01-21T05:17:10.612943Z",
     "shell.execute_reply": "2022-01-21T05:17:10.612495Z"
    },
    "papermill": {
     "duration": 0.076411,
     "end_time": "2022-01-21T05:17:10.613040",
     "exception": false,
     "start_time": "2022-01-21T05:17:10.536629",
     "status": "completed"
    },
    "tags": []
   },
   "outputs": [
    {
     "data": {
      "text/plain": [
       "array([10,  7, 13,  9,  5,  6, 12,  8,  4,  3, 11, 15, 14, 19,  2, 18, 17,\n",
       "       16,  1])"
      ]
     },
     "metadata": {},
     "output_type": "display_data"
    }
   ],
   "source": [
    "_tmp_unique = _tmp[\"symbol_len\"].unique()\n",
    "display(_tmp_unique)"
   ]
  },
  {
   "cell_type": "markdown",
   "id": "85335313-5c7e-4095-a9d4-57a3406c5255",
   "metadata": {
    "papermill": {
     "duration": 0.070108,
     "end_time": "2022-01-21T05:17:10.753336",
     "exception": false,
     "start_time": "2022-01-21T05:17:10.683228",
     "status": "completed"
    },
    "tags": []
   },
   "source": [
    "No gene symbol is empty, that's good"
   ]
  },
  {
   "cell_type": "code",
   "execution_count": 36,
   "id": "71955da7-ed15-443d-ac4f-97481bf367f8",
   "metadata": {
    "execution": {
     "iopub.execute_input": "2022-01-21T05:17:10.897820Z",
     "iopub.status.busy": "2022-01-21T05:17:10.897365Z",
     "iopub.status.idle": "2022-01-21T05:17:10.898859Z",
     "shell.execute_reply": "2022-01-21T05:17:10.899223Z"
    },
    "papermill": {
     "duration": 0.076232,
     "end_time": "2022-01-21T05:17:10.899339",
     "exception": false,
     "start_time": "2022-01-21T05:17:10.823107",
     "status": "completed"
    },
    "tags": []
   },
   "outputs": [],
   "source": [
    "assert (_tmp_unique > 0).all()"
   ]
  },
  {
   "cell_type": "code",
   "execution_count": 37,
   "id": "52b6e7a7-57ef-4e4b-8ede-64459cbdd1fa",
   "metadata": {
    "execution": {
     "iopub.execute_input": "2022-01-21T05:17:11.044523Z",
     "iopub.status.busy": "2022-01-21T05:17:11.044059Z",
     "iopub.status.idle": "2022-01-21T05:17:11.045521Z",
     "shell.execute_reply": "2022-01-21T05:17:11.045865Z"
    },
    "papermill": {
     "duration": 0.07571,
     "end_time": "2022-01-21T05:17:11.045982",
     "exception": false,
     "start_time": "2022-01-21T05:17:10.970272",
     "status": "completed"
    },
    "tags": []
   },
   "outputs": [],
   "source": [
    "assert _tmp_unique.min() == 1\n",
    "assert _tmp_unique.max() == 19"
   ]
  },
  {
   "cell_type": "code",
   "execution_count": 38,
   "id": "f9b36e8b-a18f-42db-9054-e9e0b6ee0bc2",
   "metadata": {
    "execution": {
     "iopub.execute_input": "2022-01-21T05:17:11.191066Z",
     "iopub.status.busy": "2022-01-21T05:17:11.190614Z",
     "iopub.status.idle": "2022-01-21T05:17:11.198662Z",
     "shell.execute_reply": "2022-01-21T05:17:11.199074Z"
    },
    "papermill": {
     "duration": 0.082726,
     "end_time": "2022-01-21T05:17:11.199189",
     "exception": false,
     "start_time": "2022-01-21T05:17:11.116463",
     "status": "completed"
    },
    "tags": []
   },
   "outputs": [
    {
     "data": {
      "text/html": [
       "<div>\n",
       "<style scoped>\n",
       "    .dataframe tbody tr th:only-of-type {\n",
       "        vertical-align: middle;\n",
       "    }\n",
       "\n",
       "    .dataframe tbody tr th {\n",
       "        vertical-align: top;\n",
       "    }\n",
       "\n",
       "    .dataframe thead th {\n",
       "        text-align: right;\n",
       "    }\n",
       "</style>\n",
       "<table border=\"1\" class=\"dataframe\">\n",
       "  <thead>\n",
       "    <tr style=\"text-align: right;\">\n",
       "      <th></th>\n",
       "      <th>gene_ens_id</th>\n",
       "      <th>gene_symbol</th>\n",
       "      <th>id_len</th>\n",
       "      <th>symbol_len</th>\n",
       "    </tr>\n",
       "  </thead>\n",
       "  <tbody>\n",
       "    <tr>\n",
       "      <th>6363</th>\n",
       "      <td>ENSG00000164458.9</td>\n",
       "      <td>T</td>\n",
       "      <td>17</td>\n",
       "      <td>1</td>\n",
       "    </tr>\n",
       "    <tr>\n",
       "      <th>633</th>\n",
       "      <td>ENSG00000201368.2</td>\n",
       "      <td>U3</td>\n",
       "      <td>17</td>\n",
       "      <td>2</td>\n",
       "    </tr>\n",
       "    <tr>\n",
       "      <th>39</th>\n",
       "      <td>ENSG00000109072.13</td>\n",
       "      <td>VTN</td>\n",
       "      <td>18</td>\n",
       "      <td>3</td>\n",
       "    </tr>\n",
       "    <tr>\n",
       "      <th>38</th>\n",
       "      <td>ENSG00000138768.14</td>\n",
       "      <td>USO1</td>\n",
       "      <td>18</td>\n",
       "      <td>4</td>\n",
       "    </tr>\n",
       "    <tr>\n",
       "      <th>8</th>\n",
       "      <td>ENSG00000184730.10</td>\n",
       "      <td>APOBR</td>\n",
       "      <td>18</td>\n",
       "      <td>5</td>\n",
       "    </tr>\n",
       "    <tr>\n",
       "      <th>9</th>\n",
       "      <td>ENSG00000232991.5</td>\n",
       "      <td>GACAT1</td>\n",
       "      <td>17</td>\n",
       "      <td>6</td>\n",
       "    </tr>\n",
       "    <tr>\n",
       "      <th>2</th>\n",
       "      <td>ENSG00000115944.14</td>\n",
       "      <td>COX7A2L</td>\n",
       "      <td>18</td>\n",
       "      <td>7</td>\n",
       "    </tr>\n",
       "    <tr>\n",
       "      <th>17</th>\n",
       "      <td>ENSG00000271638.1</td>\n",
       "      <td>BNIP3P19</td>\n",
       "      <td>17</td>\n",
       "      <td>8</td>\n",
       "    </tr>\n",
       "    <tr>\n",
       "      <th>4</th>\n",
       "      <td>ENSG00000254101.5</td>\n",
       "      <td>LINC02055</td>\n",
       "      <td>17</td>\n",
       "      <td>9</td>\n",
       "    </tr>\n",
       "    <tr>\n",
       "      <th>0</th>\n",
       "      <td>ENSG00000222320.1</td>\n",
       "      <td>RNU6-1050P</td>\n",
       "      <td>17</td>\n",
       "      <td>10</td>\n",
       "    </tr>\n",
       "    <tr>\n",
       "      <th>43</th>\n",
       "      <td>ENSG00000236641.1</td>\n",
       "      <td>CTA-221G9.7</td>\n",
       "      <td>17</td>\n",
       "      <td>11</td>\n",
       "    </tr>\n",
       "    <tr>\n",
       "      <th>10</th>\n",
       "      <td>ENSG00000258410.1</td>\n",
       "      <td>RP11-173D3.1</td>\n",
       "      <td>17</td>\n",
       "      <td>12</td>\n",
       "    </tr>\n",
       "    <tr>\n",
       "      <th>3</th>\n",
       "      <td>ENSG00000254158.1</td>\n",
       "      <td>RP11-281O15.5</td>\n",
       "      <td>17</td>\n",
       "      <td>13</td>\n",
       "    </tr>\n",
       "    <tr>\n",
       "      <th>217</th>\n",
       "      <td>ENSG00000254510.1</td>\n",
       "      <td>RP11-867G23.10</td>\n",
       "      <td>17</td>\n",
       "      <td>14</td>\n",
       "    </tr>\n",
       "    <tr>\n",
       "      <th>69</th>\n",
       "      <td>ENSG00000249923.1</td>\n",
       "      <td>XXbac-B444P24.8</td>\n",
       "      <td>17</td>\n",
       "      <td>15</td>\n",
       "    </tr>\n",
       "    <tr>\n",
       "      <th>1509</th>\n",
       "      <td>ENSG00000233085.5</td>\n",
       "      <td>XXyac-YX65C7_A.3</td>\n",
       "      <td>17</td>\n",
       "      <td>16</td>\n",
       "    </tr>\n",
       "    <tr>\n",
       "      <th>895</th>\n",
       "      <td>ENSG00000277427.1</td>\n",
       "      <td>XXbac-BPG154L12.5</td>\n",
       "      <td>17</td>\n",
       "      <td>17</td>\n",
       "    </tr>\n",
       "    <tr>\n",
       "      <th>690</th>\n",
       "      <td>ENSG00000270896.1</td>\n",
       "      <td>XXbac-BPG170G13.31</td>\n",
       "      <td>17</td>\n",
       "      <td>18</td>\n",
       "    </tr>\n",
       "    <tr>\n",
       "      <th>573</th>\n",
       "      <td>ENSG00000270935.1</td>\n",
       "      <td>XXbac-BPGBPG24O18.1</td>\n",
       "      <td>17</td>\n",
       "      <td>19</td>\n",
       "    </tr>\n",
       "  </tbody>\n",
       "</table>\n",
       "</div>"
      ],
      "text/plain": [
       "             gene_ens_id          gene_symbol  id_len  symbol_len\n",
       "6363   ENSG00000164458.9                    T      17           1\n",
       "633    ENSG00000201368.2                   U3      17           2\n",
       "39    ENSG00000109072.13                  VTN      18           3\n",
       "38    ENSG00000138768.14                 USO1      18           4\n",
       "8     ENSG00000184730.10                APOBR      18           5\n",
       "9      ENSG00000232991.5               GACAT1      17           6\n",
       "2     ENSG00000115944.14              COX7A2L      18           7\n",
       "17     ENSG00000271638.1             BNIP3P19      17           8\n",
       "4      ENSG00000254101.5            LINC02055      17           9\n",
       "0      ENSG00000222320.1           RNU6-1050P      17          10\n",
       "43     ENSG00000236641.1          CTA-221G9.7      17          11\n",
       "10     ENSG00000258410.1         RP11-173D3.1      17          12\n",
       "3      ENSG00000254158.1        RP11-281O15.5      17          13\n",
       "217    ENSG00000254510.1       RP11-867G23.10      17          14\n",
       "69     ENSG00000249923.1      XXbac-B444P24.8      17          15\n",
       "1509   ENSG00000233085.5     XXyac-YX65C7_A.3      17          16\n",
       "895    ENSG00000277427.1    XXbac-BPG154L12.5      17          17\n",
       "690    ENSG00000270896.1   XXbac-BPG170G13.31      17          18\n",
       "573    ENSG00000270935.1  XXbac-BPGBPG24O18.1      17          19"
      ]
     },
     "execution_count": 38,
     "metadata": {},
     "output_type": "execute_result"
    }
   ],
   "source": [
    "# show how different gene symbol's lengths look like\n",
    "_tmp.drop_duplicates(subset=[\"symbol_len\"]).sort_values(\"symbol_len\")"
   ]
  },
  {
   "cell_type": "markdown",
   "id": "2302ba84-1dde-4949-92d2-bf036f934717",
   "metadata": {
    "papermill": {
     "duration": 0.070099,
     "end_time": "2022-01-21T05:17:11.340166",
     "exception": false,
     "start_time": "2022-01-21T05:17:11.270067",
     "status": "completed"
    },
    "tags": []
   },
   "source": [
    "Unique gene symbol lengths seem to be valid"
   ]
  },
  {
   "cell_type": "code",
   "execution_count": 39,
   "id": "3dc54ed8-52a2-4075-b9c3-261c612919fa",
   "metadata": {
    "execution": {
     "iopub.execute_input": "2022-01-21T05:17:11.487633Z",
     "iopub.status.busy": "2022-01-21T05:17:11.487177Z",
     "iopub.status.idle": "2022-01-21T05:17:11.494585Z",
     "shell.execute_reply": "2022-01-21T05:17:11.494166Z"
    },
    "papermill": {
     "duration": 0.083657,
     "end_time": "2022-01-21T05:17:11.494682",
     "exception": false,
     "start_time": "2022-01-21T05:17:11.411025",
     "status": "completed"
    },
    "tags": []
   },
   "outputs": [],
   "source": [
    "assert gene_mappings[\"gene_ens_id\"].unique().shape[0] == gene_mappings.shape[0]"
   ]
  },
  {
   "cell_type": "code",
   "execution_count": 40,
   "id": "4682c165-5719-41d7-8e0a-4a833f3567ce",
   "metadata": {
    "execution": {
     "iopub.execute_input": "2022-01-21T05:17:11.642507Z",
     "iopub.status.busy": "2022-01-21T05:17:11.642055Z",
     "iopub.status.idle": "2022-01-21T05:17:11.658740Z",
     "shell.execute_reply": "2022-01-21T05:17:11.658321Z"
    },
    "papermill": {
     "duration": 0.093848,
     "end_time": "2022-01-21T05:17:11.658850",
     "exception": false,
     "start_time": "2022-01-21T05:17:11.565002",
     "status": "completed"
    },
    "tags": []
   },
   "outputs": [
    {
     "data": {
      "text/plain": [
       "(54592,)"
      ]
     },
     "metadata": {},
     "output_type": "display_data"
    }
   ],
   "source": [
    "# some gene symbols map to multiple gene ids\n",
    "display(gene_mappings[\"gene_symbol\"].unique().shape)\n",
    "assert gene_mappings[\"gene_symbol\"].unique().shape[0] < gene_mappings.shape[0]"
   ]
  },
  {
   "cell_type": "code",
   "execution_count": 41,
   "id": "16f7d4c6-5514-4db3-88e5-7969ced73e56",
   "metadata": {
    "execution": {
     "iopub.execute_input": "2022-01-21T05:17:11.811346Z",
     "iopub.status.busy": "2022-01-21T05:17:11.810791Z",
     "iopub.status.idle": "2022-01-21T05:17:11.820002Z",
     "shell.execute_reply": "2022-01-21T05:17:11.819505Z"
    },
    "papermill": {
     "duration": 0.088583,
     "end_time": "2022-01-21T05:17:11.820097",
     "exception": false,
     "start_time": "2022-01-21T05:17:11.731514",
     "status": "completed"
    },
    "tags": []
   },
   "outputs": [
    {
     "data": {
      "text/html": [
       "<div>\n",
       "<style scoped>\n",
       "    .dataframe tbody tr th:only-of-type {\n",
       "        vertical-align: middle;\n",
       "    }\n",
       "\n",
       "    .dataframe tbody tr th {\n",
       "        vertical-align: top;\n",
       "    }\n",
       "\n",
       "    .dataframe thead th {\n",
       "        text-align: right;\n",
       "    }\n",
       "</style>\n",
       "<table border=\"1\" class=\"dataframe\">\n",
       "  <thead>\n",
       "    <tr style=\"text-align: right;\">\n",
       "      <th></th>\n",
       "      <th>gene_ens_id</th>\n",
       "      <th>gene_symbol</th>\n",
       "    </tr>\n",
       "  </thead>\n",
       "  <tbody>\n",
       "    <tr>\n",
       "      <th>56122</th>\n",
       "      <td>ENSG00000275305.1</td>\n",
       "      <td>5S_rRNA</td>\n",
       "    </tr>\n",
       "    <tr>\n",
       "      <th>49672</th>\n",
       "      <td>ENSG00000274097.1</td>\n",
       "      <td>5S_rRNA</td>\n",
       "    </tr>\n",
       "    <tr>\n",
       "      <th>49571</th>\n",
       "      <td>ENSG00000274059.1</td>\n",
       "      <td>5S_rRNA</td>\n",
       "    </tr>\n",
       "    <tr>\n",
       "      <th>4303</th>\n",
       "      <td>ENSG00000277411.1</td>\n",
       "      <td>5S_rRNA</td>\n",
       "    </tr>\n",
       "    <tr>\n",
       "      <th>32225</th>\n",
       "      <td>ENSG00000212595.1</td>\n",
       "      <td>5S_rRNA</td>\n",
       "    </tr>\n",
       "    <tr>\n",
       "      <th>...</th>\n",
       "      <td>...</td>\n",
       "      <td>...</td>\n",
       "    </tr>\n",
       "    <tr>\n",
       "      <th>52200</th>\n",
       "      <td>ENSG00000275939.1</td>\n",
       "      <td>uc_338</td>\n",
       "    </tr>\n",
       "    <tr>\n",
       "      <th>2260</th>\n",
       "      <td>ENSG00000274845.1</td>\n",
       "      <td>uc_338</td>\n",
       "    </tr>\n",
       "    <tr>\n",
       "      <th>881</th>\n",
       "      <td>ENSG00000278236.1</td>\n",
       "      <td>uc_338</td>\n",
       "    </tr>\n",
       "    <tr>\n",
       "      <th>17000</th>\n",
       "      <td>ENSG00000278218.1</td>\n",
       "      <td>uc_338</td>\n",
       "    </tr>\n",
       "    <tr>\n",
       "      <th>30028</th>\n",
       "      <td>ENSG00000274127.1</td>\n",
       "      <td>uc_338</td>\n",
       "    </tr>\n",
       "  </tbody>\n",
       "</table>\n",
       "<p>1807 rows × 2 columns</p>\n",
       "</div>"
      ],
      "text/plain": [
       "             gene_ens_id gene_symbol\n",
       "56122  ENSG00000275305.1     5S_rRNA\n",
       "49672  ENSG00000274097.1     5S_rRNA\n",
       "49571  ENSG00000274059.1     5S_rRNA\n",
       "4303   ENSG00000277411.1     5S_rRNA\n",
       "32225  ENSG00000212595.1     5S_rRNA\n",
       "...                  ...         ...\n",
       "52200  ENSG00000275939.1      uc_338\n",
       "2260   ENSG00000274845.1      uc_338\n",
       "881    ENSG00000278236.1      uc_338\n",
       "17000  ENSG00000278218.1      uc_338\n",
       "30028  ENSG00000274127.1      uc_338\n",
       "\n",
       "[1807 rows x 2 columns]"
      ]
     },
     "execution_count": 41,
     "metadata": {},
     "output_type": "execute_result"
    }
   ],
   "source": [
    "# show some duplicated gene symbols\n",
    "gene_mappings[gene_mappings[\"gene_symbol\"].duplicated(keep=False)].sort_values(\n",
    "    \"gene_symbol\"\n",
    ")"
   ]
  },
  {
   "cell_type": "code",
   "execution_count": 42,
   "id": "a439d27f-6ae4-47ce-bd89-0d5bb2100f7d",
   "metadata": {
    "execution": {
     "iopub.execute_input": "2022-01-21T05:17:11.970134Z",
     "iopub.status.busy": "2022-01-21T05:17:11.967137Z",
     "iopub.status.idle": "2022-01-21T05:17:11.972209Z",
     "shell.execute_reply": "2022-01-21T05:17:11.972553Z"
    },
    "papermill": {
     "duration": 0.080191,
     "end_time": "2022-01-21T05:17:11.972675",
     "exception": false,
     "start_time": "2022-01-21T05:17:11.892484",
     "status": "completed"
    },
    "tags": []
   },
   "outputs": [],
   "source": [
    "_tmp = gene_mappings.set_index(\"gene_ens_id\").squeeze()"
   ]
  },
  {
   "cell_type": "code",
   "execution_count": 43,
   "id": "78f3b40d-a624-4c17-9c01-f339cd09c8d9",
   "metadata": {
    "execution": {
     "iopub.execute_input": "2022-01-21T05:17:12.124801Z",
     "iopub.status.busy": "2022-01-21T05:17:12.124196Z",
     "iopub.status.idle": "2022-01-21T05:17:12.126793Z",
     "shell.execute_reply": "2022-01-21T05:17:12.126410Z"
    },
    "papermill": {
     "duration": 0.082244,
     "end_time": "2022-01-21T05:17:12.126890",
     "exception": false,
     "start_time": "2022-01-21T05:17:12.044646",
     "status": "completed"
    },
    "tags": []
   },
   "outputs": [],
   "source": [
    "assert _tmp.loc[\"ENSG00000223972.5\"] == \"DDX11L1\"\n",
    "assert _tmp.loc[\"ENSG00000243485.5\"] == \"MIR1302-2HG\"\n",
    "assert _tmp.loc[\"ENSG00000274059.1\"] == \"5S_rRNA\"  # repeated gene\n",
    "assert _tmp.loc[\"ENSG00000275305.1\"] == \"5S_rRNA\"  # repeated gene"
   ]
  },
  {
   "cell_type": "code",
   "execution_count": null,
   "id": "03747a27-4636-48e5-8c1f-3a75fc174a4d",
   "metadata": {
    "papermill": {
     "duration": 0.070368,
     "end_time": "2022-01-21T05:17:12.268949",
     "exception": false,
     "start_time": "2022-01-21T05:17:12.198581",
     "status": "completed"
    },
    "tags": []
   },
   "outputs": [],
   "source": []
  }
 ],
 "metadata": {
  "jupytext": {
   "cell_metadata_filter": "all,-execution,-papermill,-trusted"
  },
  "kernelspec": {
   "display_name": "Python 3 (ipykernel)",
   "language": "python",
   "name": "python3"
  },
  "language_info": {
   "codemirror_mode": {
    "name": "ipython",
    "version": 3
   },
   "file_extension": ".py",
   "mimetype": "text/x-python",
   "name": "python",
   "nbconvert_exporter": "python",
   "pygments_lexer": "ipython3",
   "version": "3.9.9"
  },
  "papermill": {
   "default_parameters": {},
   "duration": 2878.032371,
   "end_time": "2022-01-21T05:17:12.664007",
   "environment_variables": {},
   "exception": null,
   "input_path": "nbs/05_preprocessing/00-gtex_v8-split_by_tissue.ipynb",
   "output_path": "nbs/05_preprocessing/00-gtex_v8-split_by_tissue.run.ipynb",
   "parameters": {},
   "start_time": "2022-01-21T04:29:14.631636",
   "version": "2.3.3"
  },
  "toc-autonumbering": true
 },
 "nbformat": 4,
 "nbformat_minor": 5
}
