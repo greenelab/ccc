{
 "cells": [
  {
   "cell_type": "markdown",
   "id": "871d5ed2-95c8-48db-b3b3-394fea7a035b",
   "metadata": {
    "papermill": {
     "duration": 0.026273,
     "end_time": "2021-08-27T13:12:58.316123",
     "exception": false,
     "start_time": "2021-08-27T13:12:58.289850",
     "status": "completed"
    },
    "tags": []
   },
   "source": [
    "# Description"
   ]
  },
  {
   "cell_type": "markdown",
   "id": "06b29f41-a8f0-4274-8f72-a5b7cc19bc4e",
   "metadata": {
    "papermill": {
     "duration": 0.024497,
     "end_time": "2021-08-27T13:12:58.365820",
     "exception": false,
     "start_time": "2021-08-27T13:12:58.341323",
     "status": "completed"
    },
    "tags": []
   },
   "source": [
    "It splits gene expression data from GTEx v8 by tissue and saves a gene id/symbol mapping file."
   ]
  },
  {
   "cell_type": "markdown",
   "id": "d05acbf3-ee34-4e31-b359-58d5ffde4213",
   "metadata": {
    "papermill": {
     "duration": 0.024683,
     "end_time": "2021-08-27T13:12:58.414991",
     "exception": false,
     "start_time": "2021-08-27T13:12:58.390308",
     "status": "completed"
    },
    "tags": []
   },
   "source": [
    "# Modules"
   ]
  },
  {
   "cell_type": "code",
   "execution_count": 1,
   "id": "9e466133-c98a-4ca1-9c62-99a70576aca4",
   "metadata": {
    "execution": {
     "iopub.execute_input": "2021-08-27T13:12:58.473646Z",
     "iopub.status.busy": "2021-08-27T13:12:58.473125Z",
     "iopub.status.idle": "2021-08-27T13:12:58.751656Z",
     "shell.execute_reply": "2021-08-27T13:12:58.751067Z"
    },
    "papermill": {
     "duration": 0.310967,
     "end_time": "2021-08-27T13:12:58.751792",
     "exception": false,
     "start_time": "2021-08-27T13:12:58.440825",
     "status": "completed"
    },
    "tags": []
   },
   "outputs": [],
   "source": [
    "import pickle\n",
    "from pathlib import Path\n",
    "\n",
    "import pandas as pd\n",
    "from tqdm import tqdm\n",
    "\n",
    "from clustermatch.utils import simplify_string\n",
    "from clustermatch import conf"
   ]
  },
  {
   "cell_type": "markdown",
   "id": "4da399b4-f533-4cd0-8de7-a9afde79abb4",
   "metadata": {
    "papermill": {
     "duration": 0.024748,
     "end_time": "2021-08-27T13:12:58.804058",
     "exception": false,
     "start_time": "2021-08-27T13:12:58.779310",
     "status": "completed"
    },
    "tags": []
   },
   "source": [
    "# Settings"
   ]
  },
  {
   "cell_type": "code",
   "execution_count": 2,
   "id": "0ef4566f-122f-49e8-99be-491308219cc1",
   "metadata": {
    "execution": {
     "iopub.execute_input": "2021-08-27T13:12:58.858218Z",
     "iopub.status.busy": "2021-08-27T13:12:58.857728Z",
     "iopub.status.idle": "2021-08-27T13:12:58.866283Z",
     "shell.execute_reply": "2021-08-27T13:12:58.865801Z"
    },
    "papermill": {
     "duration": 0.036796,
     "end_time": "2021-08-27T13:12:58.866385",
     "exception": false,
     "start_time": "2021-08-27T13:12:58.829589",
     "status": "completed"
    },
    "tags": []
   },
   "outputs": [
    {
     "data": {
      "text/plain": [
       "PosixPath('/opt/data/data/gtex_v8/data_by_tissue')"
      ]
     },
     "metadata": {},
     "output_type": "display_data"
    }
   ],
   "source": [
    "OUTPUT_DIR = conf.GTEX[\"DATA_DIR\"] / \"data_by_tissue\"\n",
    "OUTPUT_DIR.mkdir(parents=True, exist_ok=True)\n",
    "display(OUTPUT_DIR)"
   ]
  },
  {
   "cell_type": "markdown",
   "id": "16f23bce-a6f7-4f87-b267-44595c764052",
   "metadata": {
    "papermill": {
     "duration": 0.025129,
     "end_time": "2021-08-27T13:12:58.917286",
     "exception": false,
     "start_time": "2021-08-27T13:12:58.892157",
     "status": "completed"
    },
    "tags": []
   },
   "source": [
    "# Data loading"
   ]
  },
  {
   "cell_type": "markdown",
   "id": "631412aa-9587-4aaa-8c44-9530a34eb0eb",
   "metadata": {
    "papermill": {
     "duration": 0.025249,
     "end_time": "2021-08-27T13:12:58.969012",
     "exception": false,
     "start_time": "2021-08-27T13:12:58.943763",
     "status": "completed"
    },
    "tags": []
   },
   "source": [
    "## GTEx v8"
   ]
  },
  {
   "cell_type": "markdown",
   "id": "eb3d94d7-16f5-4f19-bdd9-5f1c5601e9ce",
   "metadata": {
    "papermill": {
     "duration": 0.028927,
     "end_time": "2021-08-27T13:12:59.023674",
     "exception": false,
     "start_time": "2021-08-27T13:12:58.994747",
     "status": "completed"
    },
    "tags": []
   },
   "source": [
    "### Sample metadata"
   ]
  },
  {
   "cell_type": "code",
   "execution_count": 3,
   "id": "611ebc4f-3e85-4dc5-9b6f-86500cd74ead",
   "metadata": {
    "execution": {
     "iopub.execute_input": "2021-08-27T13:12:59.083437Z",
     "iopub.status.busy": "2021-08-27T13:12:59.082901Z",
     "iopub.status.idle": "2021-08-27T13:12:59.338664Z",
     "shell.execute_reply": "2021-08-27T13:12:59.338093Z"
    },
    "papermill": {
     "duration": 0.286947,
     "end_time": "2021-08-27T13:12:59.338784",
     "exception": false,
     "start_time": "2021-08-27T13:12:59.051837",
     "status": "completed"
    },
    "tags": []
   },
   "outputs": [],
   "source": [
    "gtex_sample_attrs = pd.read_csv(\n",
    "    conf.GTEX[\"SAMPLE_ATTRS_FILE\"],\n",
    "    sep=\"\\t\",\n",
    ")"
   ]
  },
  {
   "cell_type": "code",
   "execution_count": 4,
   "id": "1af7dd82-a9fb-49ab-834b-d92aad219b1d",
   "metadata": {
    "execution": {
     "iopub.execute_input": "2021-08-27T13:12:59.395093Z",
     "iopub.status.busy": "2021-08-27T13:12:59.393529Z",
     "iopub.status.idle": "2021-08-27T13:12:59.397915Z",
     "shell.execute_reply": "2021-08-27T13:12:59.397440Z"
    },
    "papermill": {
     "duration": 0.032022,
     "end_time": "2021-08-27T13:12:59.398018",
     "exception": false,
     "start_time": "2021-08-27T13:12:59.365996",
     "status": "completed"
    },
    "tags": []
   },
   "outputs": [
    {
     "data": {
      "text/plain": [
       "(22951, 63)"
      ]
     },
     "execution_count": 4,
     "metadata": {},
     "output_type": "execute_result"
    }
   ],
   "source": [
    "gtex_sample_attrs.shape"
   ]
  },
  {
   "cell_type": "code",
   "execution_count": 5,
   "id": "f9028a27-560d-4272-8bc3-ec2e06fce0f3",
   "metadata": {
    "execution": {
     "iopub.execute_input": "2021-08-27T13:12:59.463439Z",
     "iopub.status.busy": "2021-08-27T13:12:59.455888Z",
     "iopub.status.idle": "2021-08-27T13:12:59.472513Z",
     "shell.execute_reply": "2021-08-27T13:12:59.472893Z"
    },
    "papermill": {
     "duration": 0.049508,
     "end_time": "2021-08-27T13:12:59.473018",
     "exception": false,
     "start_time": "2021-08-27T13:12:59.423510",
     "status": "completed"
    },
    "tags": []
   },
   "outputs": [
    {
     "data": {
      "text/html": [
       "<div>\n",
       "<style scoped>\n",
       "    .dataframe tbody tr th:only-of-type {\n",
       "        vertical-align: middle;\n",
       "    }\n",
       "\n",
       "    .dataframe tbody tr th {\n",
       "        vertical-align: top;\n",
       "    }\n",
       "\n",
       "    .dataframe thead th {\n",
       "        text-align: right;\n",
       "    }\n",
       "</style>\n",
       "<table border=\"1\" class=\"dataframe\">\n",
       "  <thead>\n",
       "    <tr style=\"text-align: right;\">\n",
       "      <th></th>\n",
       "      <th>SAMPID</th>\n",
       "      <th>SMATSSCR</th>\n",
       "      <th>SMCENTER</th>\n",
       "      <th>SMPTHNTS</th>\n",
       "      <th>SMRIN</th>\n",
       "      <th>SMTS</th>\n",
       "      <th>SMTSD</th>\n",
       "      <th>SMUBRID</th>\n",
       "      <th>SMTSISCH</th>\n",
       "      <th>SMTSPAX</th>\n",
       "      <th>...</th>\n",
       "      <th>SME1ANTI</th>\n",
       "      <th>SMSPLTRD</th>\n",
       "      <th>SMBSMMRT</th>\n",
       "      <th>SME1SNSE</th>\n",
       "      <th>SME1PCTS</th>\n",
       "      <th>SMRRNART</th>\n",
       "      <th>SME1MPRT</th>\n",
       "      <th>SMNUM5CD</th>\n",
       "      <th>SMDPMPRT</th>\n",
       "      <th>SME2PCTS</th>\n",
       "    </tr>\n",
       "  </thead>\n",
       "  <tbody>\n",
       "    <tr>\n",
       "      <th>0</th>\n",
       "      <td>GTEX-1117F-0003-SM-58Q7G</td>\n",
       "      <td>NaN</td>\n",
       "      <td>B1</td>\n",
       "      <td>NaN</td>\n",
       "      <td>NaN</td>\n",
       "      <td>Blood</td>\n",
       "      <td>Whole Blood</td>\n",
       "      <td>0013756</td>\n",
       "      <td>1188.0</td>\n",
       "      <td>NaN</td>\n",
       "      <td>...</td>\n",
       "      <td>NaN</td>\n",
       "      <td>NaN</td>\n",
       "      <td>NaN</td>\n",
       "      <td>NaN</td>\n",
       "      <td>NaN</td>\n",
       "      <td>NaN</td>\n",
       "      <td>NaN</td>\n",
       "      <td>NaN</td>\n",
       "      <td>NaN</td>\n",
       "      <td>NaN</td>\n",
       "    </tr>\n",
       "    <tr>\n",
       "      <th>1</th>\n",
       "      <td>GTEX-1117F-0003-SM-5DWSB</td>\n",
       "      <td>NaN</td>\n",
       "      <td>B1</td>\n",
       "      <td>NaN</td>\n",
       "      <td>NaN</td>\n",
       "      <td>Blood</td>\n",
       "      <td>Whole Blood</td>\n",
       "      <td>0013756</td>\n",
       "      <td>1188.0</td>\n",
       "      <td>NaN</td>\n",
       "      <td>...</td>\n",
       "      <td>NaN</td>\n",
       "      <td>NaN</td>\n",
       "      <td>NaN</td>\n",
       "      <td>NaN</td>\n",
       "      <td>NaN</td>\n",
       "      <td>NaN</td>\n",
       "      <td>NaN</td>\n",
       "      <td>NaN</td>\n",
       "      <td>NaN</td>\n",
       "      <td>NaN</td>\n",
       "    </tr>\n",
       "    <tr>\n",
       "      <th>2</th>\n",
       "      <td>GTEX-1117F-0003-SM-6WBT7</td>\n",
       "      <td>NaN</td>\n",
       "      <td>B1</td>\n",
       "      <td>NaN</td>\n",
       "      <td>NaN</td>\n",
       "      <td>Blood</td>\n",
       "      <td>Whole Blood</td>\n",
       "      <td>0013756</td>\n",
       "      <td>1188.0</td>\n",
       "      <td>NaN</td>\n",
       "      <td>...</td>\n",
       "      <td>NaN</td>\n",
       "      <td>NaN</td>\n",
       "      <td>NaN</td>\n",
       "      <td>NaN</td>\n",
       "      <td>NaN</td>\n",
       "      <td>NaN</td>\n",
       "      <td>NaN</td>\n",
       "      <td>NaN</td>\n",
       "      <td>NaN</td>\n",
       "      <td>NaN</td>\n",
       "    </tr>\n",
       "    <tr>\n",
       "      <th>3</th>\n",
       "      <td>GTEX-1117F-0011-R10a-SM-AHZ7F</td>\n",
       "      <td>NaN</td>\n",
       "      <td>B1, A1</td>\n",
       "      <td>NaN</td>\n",
       "      <td>NaN</td>\n",
       "      <td>Brain</td>\n",
       "      <td>Brain - Frontal Cortex (BA9)</td>\n",
       "      <td>0009834</td>\n",
       "      <td>1193.0</td>\n",
       "      <td>NaN</td>\n",
       "      <td>...</td>\n",
       "      <td>NaN</td>\n",
       "      <td>NaN</td>\n",
       "      <td>NaN</td>\n",
       "      <td>NaN</td>\n",
       "      <td>NaN</td>\n",
       "      <td>NaN</td>\n",
       "      <td>NaN</td>\n",
       "      <td>NaN</td>\n",
       "      <td>NaN</td>\n",
       "      <td>NaN</td>\n",
       "    </tr>\n",
       "    <tr>\n",
       "      <th>4</th>\n",
       "      <td>GTEX-1117F-0011-R10b-SM-CYKQ8</td>\n",
       "      <td>NaN</td>\n",
       "      <td>B1, A1</td>\n",
       "      <td>NaN</td>\n",
       "      <td>7.2</td>\n",
       "      <td>Brain</td>\n",
       "      <td>Brain - Frontal Cortex (BA9)</td>\n",
       "      <td>0009834</td>\n",
       "      <td>1193.0</td>\n",
       "      <td>NaN</td>\n",
       "      <td>...</td>\n",
       "      <td>NaN</td>\n",
       "      <td>NaN</td>\n",
       "      <td>NaN</td>\n",
       "      <td>NaN</td>\n",
       "      <td>NaN</td>\n",
       "      <td>NaN</td>\n",
       "      <td>NaN</td>\n",
       "      <td>NaN</td>\n",
       "      <td>NaN</td>\n",
       "      <td>NaN</td>\n",
       "    </tr>\n",
       "  </tbody>\n",
       "</table>\n",
       "<p>5 rows × 63 columns</p>\n",
       "</div>"
      ],
      "text/plain": [
       "                          SAMPID  SMATSSCR SMCENTER SMPTHNTS  SMRIN   SMTS  \\\n",
       "0       GTEX-1117F-0003-SM-58Q7G       NaN       B1      NaN    NaN  Blood   \n",
       "1       GTEX-1117F-0003-SM-5DWSB       NaN       B1      NaN    NaN  Blood   \n",
       "2       GTEX-1117F-0003-SM-6WBT7       NaN       B1      NaN    NaN  Blood   \n",
       "3  GTEX-1117F-0011-R10a-SM-AHZ7F       NaN   B1, A1      NaN    NaN  Brain   \n",
       "4  GTEX-1117F-0011-R10b-SM-CYKQ8       NaN   B1, A1      NaN    7.2  Brain   \n",
       "\n",
       "                          SMTSD  SMUBRID  SMTSISCH  SMTSPAX  ... SME1ANTI  \\\n",
       "0                   Whole Blood  0013756    1188.0      NaN  ...      NaN   \n",
       "1                   Whole Blood  0013756    1188.0      NaN  ...      NaN   \n",
       "2                   Whole Blood  0013756    1188.0      NaN  ...      NaN   \n",
       "3  Brain - Frontal Cortex (BA9)  0009834    1193.0      NaN  ...      NaN   \n",
       "4  Brain - Frontal Cortex (BA9)  0009834    1193.0      NaN  ...      NaN   \n",
       "\n",
       "  SMSPLTRD SMBSMMRT SME1SNSE SME1PCTS SMRRNART SME1MPRT SMNUM5CD  SMDPMPRT  \\\n",
       "0      NaN      NaN      NaN      NaN      NaN      NaN      NaN       NaN   \n",
       "1      NaN      NaN      NaN      NaN      NaN      NaN      NaN       NaN   \n",
       "2      NaN      NaN      NaN      NaN      NaN      NaN      NaN       NaN   \n",
       "3      NaN      NaN      NaN      NaN      NaN      NaN      NaN       NaN   \n",
       "4      NaN      NaN      NaN      NaN      NaN      NaN      NaN       NaN   \n",
       "\n",
       "   SME2PCTS  \n",
       "0       NaN  \n",
       "1       NaN  \n",
       "2       NaN  \n",
       "3       NaN  \n",
       "4       NaN  \n",
       "\n",
       "[5 rows x 63 columns]"
      ]
     },
     "execution_count": 5,
     "metadata": {},
     "output_type": "execute_result"
    }
   ],
   "source": [
    "gtex_sample_attrs.head()"
   ]
  },
  {
   "cell_type": "markdown",
   "id": "28461cfc-c44b-486f-81c6-f8ef2b6069ed",
   "metadata": {
    "papermill": {
     "duration": 0.025948,
     "end_time": "2021-08-27T13:12:59.524986",
     "exception": false,
     "start_time": "2021-08-27T13:12:59.499038",
     "status": "completed"
    },
    "tags": []
   },
   "source": [
    "# Get tissues names"
   ]
  },
  {
   "cell_type": "code",
   "execution_count": 6,
   "id": "2eeb0170-5773-406f-963b-3e9f04913c93",
   "metadata": {
    "execution": {
     "iopub.execute_input": "2021-08-27T13:12:59.581770Z",
     "iopub.status.busy": "2021-08-27T13:12:59.581243Z",
     "iopub.status.idle": "2021-08-27T13:12:59.586808Z",
     "shell.execute_reply": "2021-08-27T13:12:59.586398Z"
    },
    "papermill": {
     "duration": 0.035916,
     "end_time": "2021-08-27T13:12:59.586910",
     "exception": false,
     "start_time": "2021-08-27T13:12:59.550994",
     "status": "completed"
    },
    "tags": []
   },
   "outputs": [
    {
     "data": {
      "text/plain": [
       "55"
      ]
     },
     "metadata": {},
     "output_type": "display_data"
    },
    {
     "data": {
      "text/plain": [
       "array(['Whole Blood', 'Brain - Frontal Cortex (BA9)',\n",
       "       'Adipose - Subcutaneous', 'Muscle - Skeletal', 'Artery - Tibial',\n",
       "       'Artery - Coronary', 'Heart - Atrial Appendage',\n",
       "       'Adipose - Visceral (Omentum)', 'Ovary', 'Uterus', 'Vagina',\n",
       "       'Breast - Mammary Tissue', 'Skin - Not Sun Exposed (Suprapubic)',\n",
       "       'Minor Salivary Gland', 'Brain - Cortex', 'Adrenal Gland',\n",
       "       'Thyroid', 'Lung', 'Spleen', 'Pancreas', 'Esophagus - Muscularis',\n",
       "       'Esophagus - Mucosa', 'Esophagus - Gastroesophageal Junction',\n",
       "       'Stomach', 'Colon - Sigmoid', 'Small Intestine - Terminal Ileum',\n",
       "       'Colon - Transverse', 'Prostate', 'Testis',\n",
       "       'Skin - Sun Exposed (Lower leg)', 'Nerve - Tibial',\n",
       "       'Heart - Left Ventricle', 'Pituitary', 'Brain - Cerebellum',\n",
       "       'Cells - Cultured fibroblasts', 'Artery - Aorta',\n",
       "       'Cells - EBV-transformed lymphocytes',\n",
       "       'Brain - Cerebellar Hemisphere', 'Brain - Caudate (basal ganglia)',\n",
       "       'Brain - Nucleus accumbens (basal ganglia)',\n",
       "       'Brain - Putamen (basal ganglia)', 'Brain - Hypothalamus',\n",
       "       'Brain - Spinal cord (cervical c-1)', 'Liver',\n",
       "       'Brain - Hippocampus', 'Brain - Anterior cingulate cortex (BA24)',\n",
       "       'Brain - Substantia nigra', 'Kidney - Cortex', 'Brain - Amygdala',\n",
       "       'Cervix - Ectocervix', 'Fallopian Tube', 'Cervix - Endocervix',\n",
       "       'Bladder', 'Kidney - Medulla', 'Cells - Leukemia cell line (CML)'],\n",
       "      dtype=object)"
      ]
     },
     "metadata": {},
     "output_type": "display_data"
    }
   ],
   "source": [
    "gtex_tissues = gtex_sample_attrs[\"SMTSD\"].unique()\n",
    "display(len(gtex_tissues))\n",
    "display(gtex_tissues)"
   ]
  },
  {
   "cell_type": "markdown",
   "id": "9473383c-a46d-4e4e-972b-20eedd2a7ba8",
   "metadata": {
    "papermill": {
     "duration": 0.026667,
     "end_time": "2021-08-27T13:12:59.641357",
     "exception": false,
     "start_time": "2021-08-27T13:12:59.614690",
     "status": "completed"
    },
    "tags": []
   },
   "source": [
    "# Get sample IDs for each tissue"
   ]
  },
  {
   "cell_type": "code",
   "execution_count": 7,
   "id": "c290f8e8-7157-475f-a7b8-0d7bb0054aff",
   "metadata": {
    "execution": {
     "iopub.execute_input": "2021-08-27T13:12:59.699073Z",
     "iopub.status.busy": "2021-08-27T13:12:59.698572Z",
     "iopub.status.idle": "2021-08-27T13:13:02.366650Z",
     "shell.execute_reply": "2021-08-27T13:13:02.366225Z"
    },
    "papermill": {
     "duration": 2.69893,
     "end_time": "2021-08-27T13:13:02.366754",
     "exception": false,
     "start_time": "2021-08-27T13:12:59.667824",
     "status": "completed"
    },
    "tags": []
   },
   "outputs": [],
   "source": [
    "# first, get all sample IDs with expression data\n",
    "gtex_all_sample_ids_with_expr_data = set(\n",
    "    pd.read_csv(\n",
    "        conf.GTEX[\"DATA_TPM_GCT_FILE\"],\n",
    "        sep=\"\\t\",\n",
    "        skiprows=2,\n",
    "        nrows=1,\n",
    "        usecols=lambda x: x not in (\"Name\", \"Description\"),\n",
    "    ).columns\n",
    ")"
   ]
  },
  {
   "cell_type": "code",
   "execution_count": 8,
   "id": "10e682e6-fee2-4cd9-92f6-faef8db2e3fb",
   "metadata": {
    "execution": {
     "iopub.execute_input": "2021-08-27T13:13:02.426681Z",
     "iopub.status.busy": "2021-08-27T13:13:02.426111Z",
     "iopub.status.idle": "2021-08-27T13:13:02.428447Z",
     "shell.execute_reply": "2021-08-27T13:13:02.428801Z"
    },
    "papermill": {
     "duration": 0.034777,
     "end_time": "2021-08-27T13:13:02.428927",
     "exception": false,
     "start_time": "2021-08-27T13:13:02.394150",
     "status": "completed"
    },
    "tags": []
   },
   "outputs": [
    {
     "data": {
      "text/plain": [
       "17382"
      ]
     },
     "execution_count": 8,
     "metadata": {},
     "output_type": "execute_result"
    }
   ],
   "source": [
    "len(gtex_all_sample_ids_with_expr_data)"
   ]
  },
  {
   "cell_type": "code",
   "execution_count": 9,
   "id": "105eb0a9-6af2-42b2-8bdc-2b30bc586cfc",
   "metadata": {
    "execution": {
     "iopub.execute_input": "2021-08-27T13:13:02.488895Z",
     "iopub.status.busy": "2021-08-27T13:13:02.486056Z",
     "iopub.status.idle": "2021-08-27T13:13:02.491638Z",
     "shell.execute_reply": "2021-08-27T13:13:02.491156Z"
    },
    "papermill": {
     "duration": 0.035457,
     "end_time": "2021-08-27T13:13:02.491741",
     "exception": false,
     "start_time": "2021-08-27T13:13:02.456284",
     "status": "completed"
    },
    "tags": []
   },
   "outputs": [
    {
     "data": {
      "text/plain": [
       "['GTEX-148VI-0526-SM-5TDDG',\n",
       " 'GTEX-1JMQK-0526-SM-CM2S4',\n",
       " 'GTEX-1CB4J-0726-SM-7IGN8',\n",
       " 'GTEX-S3XE-0126-SM-4AD4R',\n",
       " 'GTEX-WVLH-2126-SM-EYYWD',\n",
       " 'GTEX-1211K-0626-SM-5FQUZ',\n",
       " 'GTEX-145LS-1826-SM-5LUAZ',\n",
       " 'GTEX-13U4I-2026-SM-5LU3L',\n",
       " 'GTEX-145MH-2726-SM-5QGQ6',\n",
       " 'GTEX-ZE7O-0011-R6a-SM-57WCI']"
      ]
     },
     "execution_count": 9,
     "metadata": {},
     "output_type": "execute_result"
    }
   ],
   "source": [
    "list(gtex_all_sample_ids_with_expr_data)[:10]"
   ]
  },
  {
   "cell_type": "code",
   "execution_count": 10,
   "id": "2149ee5c-9d8b-41ee-91fd-27eb7f4db559",
   "metadata": {
    "execution": {
     "iopub.execute_input": "2021-08-27T13:13:02.552967Z",
     "iopub.status.busy": "2021-08-27T13:13:02.552432Z",
     "iopub.status.idle": "2021-08-27T13:13:02.690869Z",
     "shell.execute_reply": "2021-08-27T13:13:02.690346Z"
    },
    "papermill": {
     "duration": 0.171038,
     "end_time": "2021-08-27T13:13:02.690979",
     "exception": false,
     "start_time": "2021-08-27T13:13:02.519941",
     "status": "completed"
    },
    "tags": []
   },
   "outputs": [],
   "source": [
    "# get sample IDs by tissue\n",
    "sample_ids_by_tissue = {\n",
    "    tissue_name: sorted(\n",
    "        list(\n",
    "            gtex_all_sample_ids_with_expr_data.intersection(\n",
    "                set(\n",
    "                    gtex_sample_attrs[gtex_sample_attrs[\"SMTSD\"] == tissue_name][\n",
    "                        \"SAMPID\"\n",
    "                    ].tolist()\n",
    "                )\n",
    "            )\n",
    "        )\n",
    "    )\n",
    "    for tissue_name in gtex_tissues\n",
    "}"
   ]
  },
  {
   "cell_type": "code",
   "execution_count": 11,
   "id": "9f8624ee-0b6a-4a87-a3ad-7f9961181c5b",
   "metadata": {
    "execution": {
     "iopub.execute_input": "2021-08-27T13:13:02.750127Z",
     "iopub.status.busy": "2021-08-27T13:13:02.749608Z",
     "iopub.status.idle": "2021-08-27T13:13:02.751235Z",
     "shell.execute_reply": "2021-08-27T13:13:02.751635Z"
    },
    "papermill": {
     "duration": 0.033011,
     "end_time": "2021-08-27T13:13:02.751767",
     "exception": false,
     "start_time": "2021-08-27T13:13:02.718756",
     "status": "completed"
    },
    "tags": []
   },
   "outputs": [],
   "source": [
    "assert len(gtex_tissues) == len(sample_ids_by_tissue)"
   ]
  },
  {
   "cell_type": "code",
   "execution_count": 12,
   "id": "a252ff14-6572-47ec-bf77-03f984f7ec8d",
   "metadata": {
    "execution": {
     "iopub.execute_input": "2021-08-27T13:13:02.811644Z",
     "iopub.status.busy": "2021-08-27T13:13:02.811101Z",
     "iopub.status.idle": "2021-08-27T13:13:02.814029Z",
     "shell.execute_reply": "2021-08-27T13:13:02.813607Z"
    },
    "papermill": {
     "duration": 0.034116,
     "end_time": "2021-08-27T13:13:02.814128",
     "exception": false,
     "start_time": "2021-08-27T13:13:02.780012",
     "status": "completed"
    },
    "tags": []
   },
   "outputs": [
    {
     "data": {
      "text/plain": [
       "['GTEX-111YS-0006-SM-5NQBE',\n",
       " 'GTEX-1122O-0005-SM-5O99J',\n",
       " 'GTEX-1128S-0005-SM-5P9HI',\n",
       " 'GTEX-113IC-0006-SM-5NQ9C',\n",
       " 'GTEX-113JC-0006-SM-5O997',\n",
       " 'GTEX-117XS-0005-SM-5PNU6',\n",
       " 'GTEX-117YW-0005-SM-5NQ8Z',\n",
       " 'GTEX-1192W-0005-SM-5NQBQ',\n",
       " 'GTEX-1192X-0005-SM-5NQC3',\n",
       " 'GTEX-11DXW-0006-SM-5NQ7Y']"
      ]
     },
     "execution_count": 12,
     "metadata": {},
     "output_type": "execute_result"
    }
   ],
   "source": [
    "sample_ids_by_tissue[\"Whole Blood\"][:10]"
   ]
  },
  {
   "cell_type": "code",
   "execution_count": 13,
   "id": "99018348-c7db-4543-9d07-d2755f7f9e3d",
   "metadata": {
    "execution": {
     "iopub.execute_input": "2021-08-27T13:13:02.874821Z",
     "iopub.status.busy": "2021-08-27T13:13:02.874307Z",
     "iopub.status.idle": "2021-08-27T13:13:02.876535Z",
     "shell.execute_reply": "2021-08-27T13:13:02.876114Z"
    },
    "papermill": {
     "duration": 0.035106,
     "end_time": "2021-08-27T13:13:02.876640",
     "exception": false,
     "start_time": "2021-08-27T13:13:02.841534",
     "status": "completed"
    },
    "tags": []
   },
   "outputs": [],
   "source": [
    "# all IDs are unique\n",
    "assert all(\n",
    "    [\n",
    "        len(sample_ids_by_tissue[tissue_name])\n",
    "        == len(set(sample_ids_by_tissue[tissue_name]))\n",
    "        for tissue_name in sample_ids_by_tissue.keys()\n",
    "    ]\n",
    ")"
   ]
  },
  {
   "cell_type": "markdown",
   "id": "c6ffdc31-9348-40b0-a912-bb0b6e107d80",
   "metadata": {
    "papermill": {
     "duration": 0.028069,
     "end_time": "2021-08-27T13:13:02.933086",
     "exception": false,
     "start_time": "2021-08-27T13:13:02.905017",
     "status": "completed"
    },
    "tags": []
   },
   "source": [
    "## Show sample size by tissue"
   ]
  },
  {
   "cell_type": "code",
   "execution_count": 14,
   "id": "364a1dfb-ba5e-4d3c-b7ab-6fcc0ffa206d",
   "metadata": {
    "execution": {
     "iopub.execute_input": "2021-08-27T13:13:02.993675Z",
     "iopub.status.busy": "2021-08-27T13:13:02.993186Z",
     "iopub.status.idle": "2021-08-27T13:13:02.995278Z",
     "shell.execute_reply": "2021-08-27T13:13:02.994862Z"
    },
    "papermill": {
     "duration": 0.034306,
     "end_time": "2021-08-27T13:13:02.995382",
     "exception": false,
     "start_time": "2021-08-27T13:13:02.961076",
     "status": "completed"
    },
    "tags": []
   },
   "outputs": [],
   "source": [
    "tissue_sample_size = pd.DataFrame(\n",
    "    [{\"tissue\": k, \"sample_size\": len(v)} for k, v in sample_ids_by_tissue.items()]\n",
    ")"
   ]
  },
  {
   "cell_type": "code",
   "execution_count": 15,
   "id": "793701d1-2c84-43fe-9674-ba436f9e9efe",
   "metadata": {
    "execution": {
     "iopub.execute_input": "2021-08-27T13:13:03.065692Z",
     "iopub.status.busy": "2021-08-27T13:13:03.065060Z",
     "iopub.status.idle": "2021-08-27T13:13:03.068129Z",
     "shell.execute_reply": "2021-08-27T13:13:03.067639Z"
    },
    "papermill": {
     "duration": 0.042199,
     "end_time": "2021-08-27T13:13:03.068231",
     "exception": false,
     "start_time": "2021-08-27T13:13:03.026032",
     "status": "completed"
    },
    "tags": []
   },
   "outputs": [
    {
     "data": {
      "text/html": [
       "<div>\n",
       "<style scoped>\n",
       "    .dataframe tbody tr th:only-of-type {\n",
       "        vertical-align: middle;\n",
       "    }\n",
       "\n",
       "    .dataframe tbody tr th {\n",
       "        vertical-align: top;\n",
       "    }\n",
       "\n",
       "    .dataframe thead th {\n",
       "        text-align: right;\n",
       "    }\n",
       "</style>\n",
       "<table border=\"1\" class=\"dataframe\">\n",
       "  <thead>\n",
       "    <tr style=\"text-align: right;\">\n",
       "      <th></th>\n",
       "      <th>tissue</th>\n",
       "      <th>sample_size</th>\n",
       "    </tr>\n",
       "  </thead>\n",
       "  <tbody>\n",
       "    <tr>\n",
       "      <th>3</th>\n",
       "      <td>Muscle - Skeletal</td>\n",
       "      <td>803</td>\n",
       "    </tr>\n",
       "    <tr>\n",
       "      <th>0</th>\n",
       "      <td>Whole Blood</td>\n",
       "      <td>755</td>\n",
       "    </tr>\n",
       "    <tr>\n",
       "      <th>29</th>\n",
       "      <td>Skin - Sun Exposed (Lower leg)</td>\n",
       "      <td>701</td>\n",
       "    </tr>\n",
       "    <tr>\n",
       "      <th>2</th>\n",
       "      <td>Adipose - Subcutaneous</td>\n",
       "      <td>663</td>\n",
       "    </tr>\n",
       "    <tr>\n",
       "      <th>4</th>\n",
       "      <td>Artery - Tibial</td>\n",
       "      <td>663</td>\n",
       "    </tr>\n",
       "    <tr>\n",
       "      <th>16</th>\n",
       "      <td>Thyroid</td>\n",
       "      <td>653</td>\n",
       "    </tr>\n",
       "    <tr>\n",
       "      <th>30</th>\n",
       "      <td>Nerve - Tibial</td>\n",
       "      <td>619</td>\n",
       "    </tr>\n",
       "    <tr>\n",
       "      <th>12</th>\n",
       "      <td>Skin - Not Sun Exposed (Suprapubic)</td>\n",
       "      <td>604</td>\n",
       "    </tr>\n",
       "    <tr>\n",
       "      <th>17</th>\n",
       "      <td>Lung</td>\n",
       "      <td>578</td>\n",
       "    </tr>\n",
       "    <tr>\n",
       "      <th>21</th>\n",
       "      <td>Esophagus - Mucosa</td>\n",
       "      <td>555</td>\n",
       "    </tr>\n",
       "    <tr>\n",
       "      <th>7</th>\n",
       "      <td>Adipose - Visceral (Omentum)</td>\n",
       "      <td>541</td>\n",
       "    </tr>\n",
       "    <tr>\n",
       "      <th>20</th>\n",
       "      <td>Esophagus - Muscularis</td>\n",
       "      <td>515</td>\n",
       "    </tr>\n",
       "    <tr>\n",
       "      <th>34</th>\n",
       "      <td>Cells - Cultured fibroblasts</td>\n",
       "      <td>504</td>\n",
       "    </tr>\n",
       "    <tr>\n",
       "      <th>11</th>\n",
       "      <td>Breast - Mammary Tissue</td>\n",
       "      <td>459</td>\n",
       "    </tr>\n",
       "    <tr>\n",
       "      <th>35</th>\n",
       "      <td>Artery - Aorta</td>\n",
       "      <td>432</td>\n",
       "    </tr>\n",
       "    <tr>\n",
       "      <th>31</th>\n",
       "      <td>Heart - Left Ventricle</td>\n",
       "      <td>432</td>\n",
       "    </tr>\n",
       "    <tr>\n",
       "      <th>6</th>\n",
       "      <td>Heart - Atrial Appendage</td>\n",
       "      <td>429</td>\n",
       "    </tr>\n",
       "    <tr>\n",
       "      <th>26</th>\n",
       "      <td>Colon - Transverse</td>\n",
       "      <td>406</td>\n",
       "    </tr>\n",
       "    <tr>\n",
       "      <th>22</th>\n",
       "      <td>Esophagus - Gastroesophageal Junction</td>\n",
       "      <td>375</td>\n",
       "    </tr>\n",
       "    <tr>\n",
       "      <th>24</th>\n",
       "      <td>Colon - Sigmoid</td>\n",
       "      <td>373</td>\n",
       "    </tr>\n",
       "    <tr>\n",
       "      <th>28</th>\n",
       "      <td>Testis</td>\n",
       "      <td>361</td>\n",
       "    </tr>\n",
       "    <tr>\n",
       "      <th>23</th>\n",
       "      <td>Stomach</td>\n",
       "      <td>359</td>\n",
       "    </tr>\n",
       "    <tr>\n",
       "      <th>19</th>\n",
       "      <td>Pancreas</td>\n",
       "      <td>328</td>\n",
       "    </tr>\n",
       "    <tr>\n",
       "      <th>32</th>\n",
       "      <td>Pituitary</td>\n",
       "      <td>283</td>\n",
       "    </tr>\n",
       "    <tr>\n",
       "      <th>15</th>\n",
       "      <td>Adrenal Gland</td>\n",
       "      <td>258</td>\n",
       "    </tr>\n",
       "    <tr>\n",
       "      <th>14</th>\n",
       "      <td>Brain - Cortex</td>\n",
       "      <td>255</td>\n",
       "    </tr>\n",
       "    <tr>\n",
       "      <th>38</th>\n",
       "      <td>Brain - Caudate (basal ganglia)</td>\n",
       "      <td>246</td>\n",
       "    </tr>\n",
       "    <tr>\n",
       "      <th>39</th>\n",
       "      <td>Brain - Nucleus accumbens (basal ganglia)</td>\n",
       "      <td>246</td>\n",
       "    </tr>\n",
       "    <tr>\n",
       "      <th>27</th>\n",
       "      <td>Prostate</td>\n",
       "      <td>245</td>\n",
       "    </tr>\n",
       "    <tr>\n",
       "      <th>18</th>\n",
       "      <td>Spleen</td>\n",
       "      <td>241</td>\n",
       "    </tr>\n",
       "    <tr>\n",
       "      <th>33</th>\n",
       "      <td>Brain - Cerebellum</td>\n",
       "      <td>241</td>\n",
       "    </tr>\n",
       "    <tr>\n",
       "      <th>5</th>\n",
       "      <td>Artery - Coronary</td>\n",
       "      <td>240</td>\n",
       "    </tr>\n",
       "    <tr>\n",
       "      <th>43</th>\n",
       "      <td>Liver</td>\n",
       "      <td>226</td>\n",
       "    </tr>\n",
       "    <tr>\n",
       "      <th>37</th>\n",
       "      <td>Brain - Cerebellar Hemisphere</td>\n",
       "      <td>215</td>\n",
       "    </tr>\n",
       "    <tr>\n",
       "      <th>1</th>\n",
       "      <td>Brain - Frontal Cortex (BA9)</td>\n",
       "      <td>209</td>\n",
       "    </tr>\n",
       "    <tr>\n",
       "      <th>40</th>\n",
       "      <td>Brain - Putamen (basal ganglia)</td>\n",
       "      <td>205</td>\n",
       "    </tr>\n",
       "    <tr>\n",
       "      <th>41</th>\n",
       "      <td>Brain - Hypothalamus</td>\n",
       "      <td>202</td>\n",
       "    </tr>\n",
       "    <tr>\n",
       "      <th>44</th>\n",
       "      <td>Brain - Hippocampus</td>\n",
       "      <td>197</td>\n",
       "    </tr>\n",
       "    <tr>\n",
       "      <th>25</th>\n",
       "      <td>Small Intestine - Terminal Ileum</td>\n",
       "      <td>187</td>\n",
       "    </tr>\n",
       "    <tr>\n",
       "      <th>8</th>\n",
       "      <td>Ovary</td>\n",
       "      <td>180</td>\n",
       "    </tr>\n",
       "    <tr>\n",
       "      <th>45</th>\n",
       "      <td>Brain - Anterior cingulate cortex (BA24)</td>\n",
       "      <td>176</td>\n",
       "    </tr>\n",
       "    <tr>\n",
       "      <th>36</th>\n",
       "      <td>Cells - EBV-transformed lymphocytes</td>\n",
       "      <td>174</td>\n",
       "    </tr>\n",
       "    <tr>\n",
       "      <th>13</th>\n",
       "      <td>Minor Salivary Gland</td>\n",
       "      <td>162</td>\n",
       "    </tr>\n",
       "    <tr>\n",
       "      <th>42</th>\n",
       "      <td>Brain - Spinal cord (cervical c-1)</td>\n",
       "      <td>159</td>\n",
       "    </tr>\n",
       "    <tr>\n",
       "      <th>10</th>\n",
       "      <td>Vagina</td>\n",
       "      <td>156</td>\n",
       "    </tr>\n",
       "    <tr>\n",
       "      <th>48</th>\n",
       "      <td>Brain - Amygdala</td>\n",
       "      <td>152</td>\n",
       "    </tr>\n",
       "    <tr>\n",
       "      <th>9</th>\n",
       "      <td>Uterus</td>\n",
       "      <td>142</td>\n",
       "    </tr>\n",
       "    <tr>\n",
       "      <th>46</th>\n",
       "      <td>Brain - Substantia nigra</td>\n",
       "      <td>139</td>\n",
       "    </tr>\n",
       "    <tr>\n",
       "      <th>47</th>\n",
       "      <td>Kidney - Cortex</td>\n",
       "      <td>85</td>\n",
       "    </tr>\n",
       "    <tr>\n",
       "      <th>52</th>\n",
       "      <td>Bladder</td>\n",
       "      <td>21</td>\n",
       "    </tr>\n",
       "    <tr>\n",
       "      <th>51</th>\n",
       "      <td>Cervix - Endocervix</td>\n",
       "      <td>10</td>\n",
       "    </tr>\n",
       "    <tr>\n",
       "      <th>49</th>\n",
       "      <td>Cervix - Ectocervix</td>\n",
       "      <td>9</td>\n",
       "    </tr>\n",
       "    <tr>\n",
       "      <th>50</th>\n",
       "      <td>Fallopian Tube</td>\n",
       "      <td>9</td>\n",
       "    </tr>\n",
       "    <tr>\n",
       "      <th>53</th>\n",
       "      <td>Kidney - Medulla</td>\n",
       "      <td>4</td>\n",
       "    </tr>\n",
       "    <tr>\n",
       "      <th>54</th>\n",
       "      <td>Cells - Leukemia cell line (CML)</td>\n",
       "      <td>0</td>\n",
       "    </tr>\n",
       "  </tbody>\n",
       "</table>\n",
       "</div>"
      ],
      "text/plain": [
       "                                       tissue  sample_size\n",
       "3                           Muscle - Skeletal          803\n",
       "0                                 Whole Blood          755\n",
       "29             Skin - Sun Exposed (Lower leg)          701\n",
       "2                      Adipose - Subcutaneous          663\n",
       "4                             Artery - Tibial          663\n",
       "16                                    Thyroid          653\n",
       "30                             Nerve - Tibial          619\n",
       "12        Skin - Not Sun Exposed (Suprapubic)          604\n",
       "17                                       Lung          578\n",
       "21                         Esophagus - Mucosa          555\n",
       "7                Adipose - Visceral (Omentum)          541\n",
       "20                     Esophagus - Muscularis          515\n",
       "34               Cells - Cultured fibroblasts          504\n",
       "11                    Breast - Mammary Tissue          459\n",
       "35                             Artery - Aorta          432\n",
       "31                     Heart - Left Ventricle          432\n",
       "6                    Heart - Atrial Appendage          429\n",
       "26                         Colon - Transverse          406\n",
       "22      Esophagus - Gastroesophageal Junction          375\n",
       "24                            Colon - Sigmoid          373\n",
       "28                                     Testis          361\n",
       "23                                    Stomach          359\n",
       "19                                   Pancreas          328\n",
       "32                                  Pituitary          283\n",
       "15                              Adrenal Gland          258\n",
       "14                             Brain - Cortex          255\n",
       "38            Brain - Caudate (basal ganglia)          246\n",
       "39  Brain - Nucleus accumbens (basal ganglia)          246\n",
       "27                                   Prostate          245\n",
       "18                                     Spleen          241\n",
       "33                         Brain - Cerebellum          241\n",
       "5                           Artery - Coronary          240\n",
       "43                                      Liver          226\n",
       "37              Brain - Cerebellar Hemisphere          215\n",
       "1                Brain - Frontal Cortex (BA9)          209\n",
       "40            Brain - Putamen (basal ganglia)          205\n",
       "41                       Brain - Hypothalamus          202\n",
       "44                        Brain - Hippocampus          197\n",
       "25           Small Intestine - Terminal Ileum          187\n",
       "8                                       Ovary          180\n",
       "45   Brain - Anterior cingulate cortex (BA24)          176\n",
       "36        Cells - EBV-transformed lymphocytes          174\n",
       "13                       Minor Salivary Gland          162\n",
       "42         Brain - Spinal cord (cervical c-1)          159\n",
       "10                                     Vagina          156\n",
       "48                           Brain - Amygdala          152\n",
       "9                                      Uterus          142\n",
       "46                   Brain - Substantia nigra          139\n",
       "47                            Kidney - Cortex           85\n",
       "52                                    Bladder           21\n",
       "51                        Cervix - Endocervix           10\n",
       "49                        Cervix - Ectocervix            9\n",
       "50                             Fallopian Tube            9\n",
       "53                           Kidney - Medulla            4\n",
       "54           Cells - Leukemia cell line (CML)            0"
      ]
     },
     "metadata": {},
     "output_type": "display_data"
    }
   ],
   "source": [
    "tissue_sample_size = tissue_sample_size.sort_values(\"sample_size\", ascending=False)\n",
    "display(tissue_sample_size)"
   ]
  },
  {
   "cell_type": "code",
   "execution_count": 16,
   "id": "78a1a2c1-10fe-4c7e-ae19-91111270816f",
   "metadata": {
    "execution": {
     "iopub.execute_input": "2021-08-27T13:13:03.131753Z",
     "iopub.status.busy": "2021-08-27T13:13:03.128652Z",
     "iopub.status.idle": "2021-08-27T13:13:03.133980Z",
     "shell.execute_reply": "2021-08-27T13:13:03.133497Z"
    },
    "papermill": {
     "duration": 0.036714,
     "end_time": "2021-08-27T13:13:03.134083",
     "exception": false,
     "start_time": "2021-08-27T13:13:03.097369",
     "status": "completed"
    },
    "tags": []
   },
   "outputs": [],
   "source": [
    "# some testing\n",
    "_tmp = tissue_sample_size.set_index(\"tissue\").squeeze()\n",
    "assert _tmp.loc[\"Muscle - Skeletal\"] == 803\n",
    "assert _tmp.loc[\"Whole Blood\"] == 755\n",
    "assert _tmp.loc[\"Skin - Not Sun Exposed (Suprapubic)\"] == 604\n",
    "assert _tmp.loc[\"Kidney - Medulla\"] == 4"
   ]
  },
  {
   "cell_type": "markdown",
   "id": "2ebe3950-b717-4756-b6a7-f6ce7fc00d30",
   "metadata": {
    "papermill": {
     "duration": 0.02894,
     "end_time": "2021-08-27T13:13:03.191833",
     "exception": false,
     "start_time": "2021-08-27T13:13:03.162893",
     "status": "completed"
    },
    "tags": []
   },
   "source": [
    "These numbers match those you can find here: https://gtexportal.org/home/tissueSummaryPage#sampleCountsPerTissue"
   ]
  },
  {
   "cell_type": "markdown",
   "id": "752ccc81-3c77-4a3f-b56e-cdbd862a7ba8",
   "metadata": {
    "papermill": {
     "duration": 0.028672,
     "end_time": "2021-08-27T13:13:03.249861",
     "exception": false,
     "start_time": "2021-08-27T13:13:03.221189",
     "status": "completed"
    },
    "tags": []
   },
   "source": [
    "# Split expression data by tissue"
   ]
  },
  {
   "cell_type": "code",
   "execution_count": 17,
   "id": "83685682-4842-44e9-83c1-405365fee395",
   "metadata": {
    "execution": {
     "iopub.execute_input": "2021-08-27T13:13:03.314292Z",
     "iopub.status.busy": "2021-08-27T13:13:03.310243Z",
     "iopub.status.idle": "2021-08-27T14:05:00.507294Z",
     "shell.execute_reply": "2021-08-27T14:05:00.505705Z"
    },
    "papermill": {
     "duration": 3117.228695,
     "end_time": "2021-08-27T14:05:00.507392",
     "exception": false,
     "start_time": "2021-08-27T13:13:03.278697",
     "status": "completed"
    },
    "tags": []
   },
   "outputs": [
    {
     "name": "stderr",
     "output_type": "stream",
     "text": [
      "Cells - Leukemia cell line (CML): 100%|██████████| 55/55 [51:57<00:00, 56.68s/it]\n"
     ]
    }
   ],
   "source": [
    "pbar = tqdm(tissue_sample_size[\"tissue\"])\n",
    "\n",
    "gene_id_symbol_map_tuples = set()\n",
    "\n",
    "for tissue_name in pbar:\n",
    "    pbar.set_description(tissue_name)\n",
    "\n",
    "    tissue_ids = sample_ids_by_tissue[tissue_name]\n",
    "    if len(tissue_ids) == 0:\n",
    "        continue\n",
    "\n",
    "    tissue_data = pd.read_csv(\n",
    "        conf.GTEX[\"DATA_TPM_GCT_FILE\"],\n",
    "        sep=\"\\t\",\n",
    "        skiprows=2,\n",
    "        usecols=[\"Name\", \"Description\"] + tissue_ids,\n",
    "    )\n",
    "\n",
    "    tissue_data = tissue_data.rename(\n",
    "        columns={\n",
    "            \"Name\": \"gene_ens_id\",\n",
    "            \"Description\": \"gene_symbol\",\n",
    "        }\n",
    "    )\n",
    "\n",
    "    # add gene id / gene symbol to mapping variable\n",
    "    gene_id_symbol_map_tuples.update(\n",
    "        tissue_data[[\"gene_ens_id\", \"gene_symbol\"]].itertuples(index=False)\n",
    "    )\n",
    "\n",
    "    tissue_data = tissue_data.drop(columns=[\"gene_symbol\"]).set_index(\"gene_ens_id\")\n",
    "\n",
    "    assert tissue_data.index.is_unique\n",
    "    assert tissue_data.columns.is_unique\n",
    "\n",
    "    # save\n",
    "    tissue_name_simple = simplify_string(simplify_string(tissue_name.lower()))\n",
    "    tissue_data.to_pickle(path=OUTPUT_DIR / f\"gtex_v8_data_{tissue_name_simple}.pkl\")"
   ]
  },
  {
   "cell_type": "markdown",
   "id": "34526b2f-dbc9-48a5-8d09-58f418db1e72",
   "metadata": {
    "papermill": {
     "duration": 0.051854,
     "end_time": "2021-08-27T14:05:00.611645",
     "exception": false,
     "start_time": "2021-08-27T14:05:00.559791",
     "status": "completed"
    },
    "tags": []
   },
   "source": [
    "## Testing"
   ]
  },
  {
   "cell_type": "code",
   "execution_count": 18,
   "id": "5ae77408-e4b1-4a54-942a-61bc402718e3",
   "metadata": {
    "execution": {
     "iopub.execute_input": "2021-08-27T14:05:00.719419Z",
     "iopub.status.busy": "2021-08-27T14:05:00.718834Z",
     "iopub.status.idle": "2021-08-27T14:05:00.741860Z",
     "shell.execute_reply": "2021-08-27T14:05:00.741325Z"
    },
    "papermill": {
     "duration": 0.078195,
     "end_time": "2021-08-27T14:05:00.741972",
     "exception": false,
     "start_time": "2021-08-27T14:05:00.663777",
     "status": "completed"
    },
    "tags": []
   },
   "outputs": [],
   "source": [
    "_tmp = pd.read_pickle(OUTPUT_DIR / \"gtex_v8_data_brain_cerebellar_hemisphere.pkl\")"
   ]
  },
  {
   "cell_type": "code",
   "execution_count": 19,
   "id": "f2d6e5a5-1546-4bc3-a9b5-dab6f92d1ceb",
   "metadata": {
    "execution": {
     "iopub.execute_input": "2021-08-27T14:05:00.851530Z",
     "iopub.status.busy": "2021-08-27T14:05:00.851073Z",
     "iopub.status.idle": "2021-08-27T14:05:00.854443Z",
     "shell.execute_reply": "2021-08-27T14:05:00.853968Z"
    },
    "papermill": {
     "duration": 0.058691,
     "end_time": "2021-08-27T14:05:00.854544",
     "exception": false,
     "start_time": "2021-08-27T14:05:00.795853",
     "status": "completed"
    },
    "tags": []
   },
   "outputs": [],
   "source": [
    "# taken from GTEx webpage (see above)\n",
    "assert _tmp.shape[1] == 215"
   ]
  },
  {
   "cell_type": "code",
   "execution_count": 20,
   "id": "bde0b453-bd5f-4f4e-8617-50d1dc30a561",
   "metadata": {
    "execution": {
     "iopub.execute_input": "2021-08-27T14:05:00.963123Z",
     "iopub.status.busy": "2021-08-27T14:05:00.962428Z",
     "iopub.status.idle": "2021-08-27T14:05:00.964396Z",
     "shell.execute_reply": "2021-08-27T14:05:00.964767Z"
    },
    "papermill": {
     "duration": 0.058221,
     "end_time": "2021-08-27T14:05:00.964899",
     "exception": false,
     "start_time": "2021-08-27T14:05:00.906678",
     "status": "completed"
    },
    "tags": []
   },
   "outputs": [],
   "source": [
    "assert \"GTEX-11DXY-0011-R11a-SM-DNZZN\" in _tmp.columns\n",
    "assert \"GTEX-WL46-0011-R11A-SM-3MJFT\" in _tmp.columns\n",
    "assert \"GTEX-ZF28-0011-R11a-SM-4WWEI\" in _tmp.columns"
   ]
  },
  {
   "cell_type": "code",
   "execution_count": 21,
   "id": "878e8939-8784-4adc-9a63-d593fea5fb1a",
   "metadata": {
    "execution": {
     "iopub.execute_input": "2021-08-27T14:05:01.081764Z",
     "iopub.status.busy": "2021-08-27T14:05:01.081250Z",
     "iopub.status.idle": "2021-08-27T14:05:01.083432Z",
     "shell.execute_reply": "2021-08-27T14:05:01.083035Z"
    },
    "papermill": {
     "duration": 0.065694,
     "end_time": "2021-08-27T14:05:01.083540",
     "exception": false,
     "start_time": "2021-08-27T14:05:01.017846",
     "status": "completed"
    },
    "tags": []
   },
   "outputs": [],
   "source": [
    "_v = _tmp.loc[\"ENSG00000223972.5\", \"GTEX-11DXY-0011-R11a-SM-DNZZN\"]\n",
    "assert _v == 0.04045, _v\n",
    "_v = _tmp.loc[\"ENSG00000278267.1\", \"GTEX-11DXY-0011-R11a-SM-DNZZN\"]\n",
    "assert _v == 0.0, _v\n",
    "\n",
    "_v = _tmp.loc[\"ENSG00000233327.10\", \"GTEX-WL46-0011-R11A-SM-3MJFT\"]\n",
    "assert _v == 146.4000, _v\n",
    "_v = _tmp.loc[\"ENSG00000237118.2\", \"GTEX-WL46-0011-R11A-SM-3MJFT\"]\n",
    "assert _v == 0.3357, _v\n",
    "\n",
    "_v = _tmp.loc[\"ENSG00000233327.10\", \"GTEX-ZF28-0011-R11a-SM-4WWEI\"]\n",
    "assert _v == 30.7200, _v\n",
    "_v = _tmp.loc[\"ENSG00000186907.7\", \"GTEX-ZF28-0011-R11a-SM-4WWEI\"]\n",
    "assert _v == 0.94720, _v"
   ]
  },
  {
   "cell_type": "markdown",
   "id": "df5f1e0b-26d4-4993-8ccf-f4313ccbab8d",
   "metadata": {
    "papermill": {
     "duration": 0.052255,
     "end_time": "2021-08-27T14:05:01.188893",
     "exception": false,
     "start_time": "2021-08-27T14:05:01.136638",
     "status": "completed"
    },
    "tags": []
   },
   "source": [
    "# Save gene mappings"
   ]
  },
  {
   "cell_type": "code",
   "execution_count": 22,
   "id": "8f34220c-1da3-4105-8b61-e24b02c1eb11",
   "metadata": {
    "execution": {
     "iopub.execute_input": "2021-08-27T14:05:01.305535Z",
     "iopub.status.busy": "2021-08-27T14:05:01.304998Z",
     "iopub.status.idle": "2021-08-27T14:05:01.307399Z",
     "shell.execute_reply": "2021-08-27T14:05:01.307793Z"
    },
    "papermill": {
     "duration": 0.062366,
     "end_time": "2021-08-27T14:05:01.307950",
     "exception": false,
     "start_time": "2021-08-27T14:05:01.245584",
     "status": "completed"
    },
    "tags": []
   },
   "outputs": [
    {
     "data": {
      "text/plain": [
       "[Pandas(gene_ens_id='ENSG00000232886.1', gene_symbol='AF212831.2'),\n",
       " Pandas(gene_ens_id='ENSG00000275504.1', gene_symbol='U7'),\n",
       " Pandas(gene_ens_id='ENSG00000264853.1', gene_symbol='RP11-16C1.2'),\n",
       " Pandas(gene_ens_id='ENSG00000231867.1', gene_symbol='AP001625.5'),\n",
       " Pandas(gene_ens_id='ENSG00000148019.12', gene_symbol='CEP78')]"
      ]
     },
     "execution_count": 22,
     "metadata": {},
     "output_type": "execute_result"
    }
   ],
   "source": [
    "list(gene_id_symbol_map_tuples)[:5]"
   ]
  },
  {
   "cell_type": "code",
   "execution_count": 23,
   "id": "c59f8fb5-50aa-4d8d-8fa1-e49b79575eff",
   "metadata": {
    "execution": {
     "iopub.execute_input": "2021-08-27T14:05:01.444561Z",
     "iopub.status.busy": "2021-08-27T14:05:01.423496Z",
     "iopub.status.idle": "2021-08-27T14:05:01.446843Z",
     "shell.execute_reply": "2021-08-27T14:05:01.446261Z"
    },
    "papermill": {
     "duration": 0.085309,
     "end_time": "2021-08-27T14:05:01.446964",
     "exception": false,
     "start_time": "2021-08-27T14:05:01.361655",
     "status": "completed"
    },
    "tags": []
   },
   "outputs": [],
   "source": [
    "gene_mappings = pd.DataFrame(gene_id_symbol_map_tuples)"
   ]
  },
  {
   "cell_type": "code",
   "execution_count": 24,
   "id": "da6ad54e-4653-4f53-81e0-34a37f752bc5",
   "metadata": {
    "execution": {
     "iopub.execute_input": "2021-08-27T14:05:01.563127Z",
     "iopub.status.busy": "2021-08-27T14:05:01.562594Z",
     "iopub.status.idle": "2021-08-27T14:05:01.565208Z",
     "shell.execute_reply": "2021-08-27T14:05:01.564788Z"
    },
    "papermill": {
     "duration": 0.05914,
     "end_time": "2021-08-27T14:05:01.565311",
     "exception": false,
     "start_time": "2021-08-27T14:05:01.506171",
     "status": "completed"
    },
    "tags": []
   },
   "outputs": [
    {
     "data": {
      "text/plain": [
       "(56200, 2)"
      ]
     },
     "execution_count": 24,
     "metadata": {},
     "output_type": "execute_result"
    }
   ],
   "source": [
    "gene_mappings.shape"
   ]
  },
  {
   "cell_type": "code",
   "execution_count": 25,
   "id": "63d308d2-5105-455f-b4b2-54d50ecfae41",
   "metadata": {
    "execution": {
     "iopub.execute_input": "2021-08-27T14:05:01.679526Z",
     "iopub.status.busy": "2021-08-27T14:05:01.678908Z",
     "iopub.status.idle": "2021-08-27T14:05:01.681911Z",
     "shell.execute_reply": "2021-08-27T14:05:01.681528Z"
    },
    "papermill": {
     "duration": 0.063457,
     "end_time": "2021-08-27T14:05:01.682013",
     "exception": false,
     "start_time": "2021-08-27T14:05:01.618556",
     "status": "completed"
    },
    "tags": []
   },
   "outputs": [
    {
     "data": {
      "text/html": [
       "<div>\n",
       "<style scoped>\n",
       "    .dataframe tbody tr th:only-of-type {\n",
       "        vertical-align: middle;\n",
       "    }\n",
       "\n",
       "    .dataframe tbody tr th {\n",
       "        vertical-align: top;\n",
       "    }\n",
       "\n",
       "    .dataframe thead th {\n",
       "        text-align: right;\n",
       "    }\n",
       "</style>\n",
       "<table border=\"1\" class=\"dataframe\">\n",
       "  <thead>\n",
       "    <tr style=\"text-align: right;\">\n",
       "      <th></th>\n",
       "      <th>gene_ens_id</th>\n",
       "      <th>gene_symbol</th>\n",
       "    </tr>\n",
       "  </thead>\n",
       "  <tbody>\n",
       "    <tr>\n",
       "      <th>0</th>\n",
       "      <td>ENSG00000232886.1</td>\n",
       "      <td>AF212831.2</td>\n",
       "    </tr>\n",
       "    <tr>\n",
       "      <th>1</th>\n",
       "      <td>ENSG00000275504.1</td>\n",
       "      <td>U7</td>\n",
       "    </tr>\n",
       "    <tr>\n",
       "      <th>2</th>\n",
       "      <td>ENSG00000264853.1</td>\n",
       "      <td>RP11-16C1.2</td>\n",
       "    </tr>\n",
       "    <tr>\n",
       "      <th>3</th>\n",
       "      <td>ENSG00000231867.1</td>\n",
       "      <td>AP001625.5</td>\n",
       "    </tr>\n",
       "    <tr>\n",
       "      <th>4</th>\n",
       "      <td>ENSG00000148019.12</td>\n",
       "      <td>CEP78</td>\n",
       "    </tr>\n",
       "  </tbody>\n",
       "</table>\n",
       "</div>"
      ],
      "text/plain": [
       "          gene_ens_id  gene_symbol\n",
       "0   ENSG00000232886.1   AF212831.2\n",
       "1   ENSG00000275504.1           U7\n",
       "2   ENSG00000264853.1  RP11-16C1.2\n",
       "3   ENSG00000231867.1   AP001625.5\n",
       "4  ENSG00000148019.12        CEP78"
      ]
     },
     "execution_count": 25,
     "metadata": {},
     "output_type": "execute_result"
    }
   ],
   "source": [
    "gene_mappings.head()"
   ]
  },
  {
   "cell_type": "markdown",
   "id": "90a5f71f-5f39-4d9c-b6c8-487a0b487aea",
   "metadata": {
    "papermill": {
     "duration": 0.053566,
     "end_time": "2021-08-27T14:05:01.789375",
     "exception": false,
     "start_time": "2021-08-27T14:05:01.735809",
     "status": "completed"
    },
    "tags": []
   },
   "source": [
    "## Save"
   ]
  },
  {
   "cell_type": "code",
   "execution_count": 26,
   "id": "282bfd90-6970-4ef1-8039-89628ac6d0c3",
   "metadata": {
    "execution": {
     "iopub.execute_input": "2021-08-27T14:05:01.900444Z",
     "iopub.status.busy": "2021-08-27T14:05:01.899800Z",
     "iopub.status.idle": "2021-08-27T14:05:01.902510Z",
     "shell.execute_reply": "2021-08-27T14:05:01.902878Z"
    },
    "papermill": {
     "duration": 0.060196,
     "end_time": "2021-08-27T14:05:01.903009",
     "exception": false,
     "start_time": "2021-08-27T14:05:01.842813",
     "status": "completed"
    },
    "tags": []
   },
   "outputs": [
    {
     "data": {
      "text/plain": [
       "PosixPath('/opt/data/data/gtex_v8/gtex_gene_id_symbol_mappings.pkl')"
      ]
     },
     "metadata": {},
     "output_type": "display_data"
    }
   ],
   "source": [
    "output_filename = conf.GTEX[\"BASE_DIR\"] / \"gtex_gene_id_symbol_mappings.pkl\"\n",
    "display(output_filename)"
   ]
  },
  {
   "cell_type": "code",
   "execution_count": 27,
   "id": "1c4810b4-20c7-41dc-978e-7782fce153e0",
   "metadata": {
    "execution": {
     "iopub.execute_input": "2021-08-27T14:05:02.013999Z",
     "iopub.status.busy": "2021-08-27T14:05:02.013469Z",
     "iopub.status.idle": "2021-08-27T14:05:02.042650Z",
     "shell.execute_reply": "2021-08-27T14:05:02.042131Z"
    },
    "papermill": {
     "duration": 0.086299,
     "end_time": "2021-08-27T14:05:02.042774",
     "exception": false,
     "start_time": "2021-08-27T14:05:01.956475",
     "status": "completed"
    },
    "tags": []
   },
   "outputs": [],
   "source": [
    "gene_mappings.to_pickle(output_filename)"
   ]
  },
  {
   "cell_type": "markdown",
   "id": "e96db98c-e6cb-4785-bf31-ea8556663ceb",
   "metadata": {
    "papermill": {
     "duration": 0.054299,
     "end_time": "2021-08-27T14:05:02.154388",
     "exception": false,
     "start_time": "2021-08-27T14:05:02.100089",
     "status": "completed"
    },
    "tags": []
   },
   "source": [
    "## Testing"
   ]
  },
  {
   "cell_type": "code",
   "execution_count": 28,
   "id": "fb095cc7-233d-43d7-bb95-61dfffb6cc53",
   "metadata": {
    "execution": {
     "iopub.execute_input": "2021-08-27T14:05:02.281937Z",
     "iopub.status.busy": "2021-08-27T14:05:02.281420Z",
     "iopub.status.idle": "2021-08-27T14:05:02.283610Z",
     "shell.execute_reply": "2021-08-27T14:05:02.283172Z"
    },
    "papermill": {
     "duration": 0.075264,
     "end_time": "2021-08-27T14:05:02.283718",
     "exception": false,
     "start_time": "2021-08-27T14:05:02.208454",
     "status": "completed"
    },
    "tags": []
   },
   "outputs": [],
   "source": [
    "gene_mappings = pd.read_pickle(output_filename)"
   ]
  },
  {
   "cell_type": "code",
   "execution_count": 29,
   "id": "e8b41751-5f60-480a-9480-d392d15f77e9",
   "metadata": {
    "execution": {
     "iopub.execute_input": "2021-08-27T14:05:02.400571Z",
     "iopub.status.busy": "2021-08-27T14:05:02.400006Z",
     "iopub.status.idle": "2021-08-27T14:05:02.406535Z",
     "shell.execute_reply": "2021-08-27T14:05:02.406029Z"
    },
    "papermill": {
     "duration": 0.068655,
     "end_time": "2021-08-27T14:05:02.406642",
     "exception": false,
     "start_time": "2021-08-27T14:05:02.337987",
     "status": "completed"
    },
    "tags": []
   },
   "outputs": [],
   "source": [
    "# no null\n",
    "assert gene_mappings.dropna(how=\"any\").shape == gene_mappings.shape"
   ]
  },
  {
   "cell_type": "code",
   "execution_count": 30,
   "id": "08b136bc-2e88-4ffa-bc5d-51a76a44316c",
   "metadata": {
    "execution": {
     "iopub.execute_input": "2021-08-27T14:05:02.522033Z",
     "iopub.status.busy": "2021-08-27T14:05:02.520178Z",
     "iopub.status.idle": "2021-08-27T14:05:02.547782Z",
     "shell.execute_reply": "2021-08-27T14:05:02.547207Z"
    },
    "papermill": {
     "duration": 0.086847,
     "end_time": "2021-08-27T14:05:02.547924",
     "exception": false,
     "start_time": "2021-08-27T14:05:02.461077",
     "status": "completed"
    },
    "tags": []
   },
   "outputs": [],
   "source": [
    "# no duplicates\n",
    "assert gene_mappings.drop_duplicates().shape == gene_mappings.shape"
   ]
  },
  {
   "cell_type": "code",
   "execution_count": 31,
   "id": "7b78b652-a5a2-45d1-a88d-a0b30e9e4783",
   "metadata": {
    "execution": {
     "iopub.execute_input": "2021-08-27T14:05:02.676396Z",
     "iopub.status.busy": "2021-08-27T14:05:02.663068Z",
     "iopub.status.idle": "2021-08-27T14:05:02.696597Z",
     "shell.execute_reply": "2021-08-27T14:05:02.696059Z"
    },
    "papermill": {
     "duration": 0.091768,
     "end_time": "2021-08-27T14:05:02.696712",
     "exception": false,
     "start_time": "2021-08-27T14:05:02.604944",
     "status": "completed"
    },
    "tags": []
   },
   "outputs": [],
   "source": [
    "# check gene id and gene symbol lengths (check no empty entries)\n",
    "_tmp = gene_mappings.copy()\n",
    "_tmp = _tmp.assign(id_len=gene_mappings[\"gene_ens_id\"].apply(len))\n",
    "_tmp = _tmp.assign(symbol_len=gene_mappings[\"gene_symbol\"].apply(len))"
   ]
  },
  {
   "cell_type": "code",
   "execution_count": 32,
   "id": "01dc364c-aeed-4f3a-bacb-b290cec33a7e",
   "metadata": {
    "execution": {
     "iopub.execute_input": "2021-08-27T14:05:02.811284Z",
     "iopub.status.busy": "2021-08-27T14:05:02.810086Z",
     "iopub.status.idle": "2021-08-27T14:05:02.814253Z",
     "shell.execute_reply": "2021-08-27T14:05:02.813847Z"
    },
    "papermill": {
     "duration": 0.061117,
     "end_time": "2021-08-27T14:05:02.814353",
     "exception": false,
     "start_time": "2021-08-27T14:05:02.753236",
     "status": "completed"
    },
    "tags": []
   },
   "outputs": [
    {
     "data": {
      "text/plain": [
       "array([17, 18, 23, 24])"
      ]
     },
     "metadata": {},
     "output_type": "display_data"
    }
   ],
   "source": [
    "_tmp_unique = _tmp[\"id_len\"].unique()\n",
    "display(_tmp_unique)"
   ]
  },
  {
   "cell_type": "code",
   "execution_count": 33,
   "id": "fbda3126-3bd4-487c-9ebf-1575a3fcb955",
   "metadata": {
    "execution": {
     "iopub.execute_input": "2021-08-27T14:05:02.927134Z",
     "iopub.status.busy": "2021-08-27T14:05:02.926638Z",
     "iopub.status.idle": "2021-08-27T14:05:02.936223Z",
     "shell.execute_reply": "2021-08-27T14:05:02.935717Z"
    },
    "papermill": {
     "duration": 0.067596,
     "end_time": "2021-08-27T14:05:02.936327",
     "exception": false,
     "start_time": "2021-08-27T14:05:02.868731",
     "status": "completed"
    },
    "tags": []
   },
   "outputs": [
    {
     "data": {
      "text/html": [
       "<div>\n",
       "<style scoped>\n",
       "    .dataframe tbody tr th:only-of-type {\n",
       "        vertical-align: middle;\n",
       "    }\n",
       "\n",
       "    .dataframe tbody tr th {\n",
       "        vertical-align: top;\n",
       "    }\n",
       "\n",
       "    .dataframe thead th {\n",
       "        text-align: right;\n",
       "    }\n",
       "</style>\n",
       "<table border=\"1\" class=\"dataframe\">\n",
       "  <thead>\n",
       "    <tr style=\"text-align: right;\">\n",
       "      <th></th>\n",
       "      <th>gene_ens_id</th>\n",
       "      <th>gene_symbol</th>\n",
       "      <th>id_len</th>\n",
       "      <th>symbol_len</th>\n",
       "    </tr>\n",
       "  </thead>\n",
       "  <tbody>\n",
       "    <tr>\n",
       "      <th>0</th>\n",
       "      <td>ENSG00000232886.1</td>\n",
       "      <td>AF212831.2</td>\n",
       "      <td>17</td>\n",
       "      <td>10</td>\n",
       "    </tr>\n",
       "    <tr>\n",
       "      <th>4</th>\n",
       "      <td>ENSG00000148019.12</td>\n",
       "      <td>CEP78</td>\n",
       "      <td>18</td>\n",
       "      <td>5</td>\n",
       "    </tr>\n",
       "    <tr>\n",
       "      <th>1944</th>\n",
       "      <td>ENSG00000223274.6_PAR_Y</td>\n",
       "      <td>RNA5SP498</td>\n",
       "      <td>23</td>\n",
       "      <td>9</td>\n",
       "    </tr>\n",
       "    <tr>\n",
       "      <th>10585</th>\n",
       "      <td>ENSG00000182484.15_PAR_Y</td>\n",
       "      <td>WASH6P</td>\n",
       "      <td>24</td>\n",
       "      <td>6</td>\n",
       "    </tr>\n",
       "  </tbody>\n",
       "</table>\n",
       "</div>"
      ],
      "text/plain": [
       "                    gene_ens_id gene_symbol  id_len  symbol_len\n",
       "0             ENSG00000232886.1  AF212831.2      17          10\n",
       "4            ENSG00000148019.12       CEP78      18           5\n",
       "1944    ENSG00000223274.6_PAR_Y   RNA5SP498      23           9\n",
       "10585  ENSG00000182484.15_PAR_Y      WASH6P      24           6"
      ]
     },
     "execution_count": 33,
     "metadata": {},
     "output_type": "execute_result"
    }
   ],
   "source": [
    "_tmp.drop_duplicates(subset=[\"id_len\"])"
   ]
  },
  {
   "cell_type": "markdown",
   "id": "e5891b45-ff1b-45c8-a1d7-776afcf7d3de",
   "metadata": {
    "papermill": {
     "duration": 0.054401,
     "end_time": "2021-08-27T14:05:03.045673",
     "exception": false,
     "start_time": "2021-08-27T14:05:02.991272",
     "status": "completed"
    },
    "tags": []
   },
   "source": [
    "Unique gene id lengths seem to be valid"
   ]
  },
  {
   "cell_type": "code",
   "execution_count": 34,
   "id": "a6ed0534-8313-46e8-a6ad-e52137ce84c7",
   "metadata": {
    "execution": {
     "iopub.execute_input": "2021-08-27T14:05:03.158773Z",
     "iopub.status.busy": "2021-08-27T14:05:03.158279Z",
     "iopub.status.idle": "2021-08-27T14:05:03.159885Z",
     "shell.execute_reply": "2021-08-27T14:05:03.160331Z"
    },
    "papermill": {
     "duration": 0.059924,
     "end_time": "2021-08-27T14:05:03.160454",
     "exception": false,
     "start_time": "2021-08-27T14:05:03.100530",
     "status": "completed"
    },
    "tags": []
   },
   "outputs": [],
   "source": [
    "assert set(_tmp_unique) == set([17, 18, 24, 23])"
   ]
  },
  {
   "cell_type": "code",
   "execution_count": 35,
   "id": "763feb07-e902-49e4-97d6-27d726cd05d1",
   "metadata": {
    "execution": {
     "iopub.execute_input": "2021-08-27T14:05:03.281125Z",
     "iopub.status.busy": "2021-08-27T14:05:03.279818Z",
     "iopub.status.idle": "2021-08-27T14:05:03.284437Z",
     "shell.execute_reply": "2021-08-27T14:05:03.284823Z"
    },
    "papermill": {
     "duration": 0.069864,
     "end_time": "2021-08-27T14:05:03.284950",
     "exception": false,
     "start_time": "2021-08-27T14:05:03.215086",
     "status": "completed"
    },
    "tags": []
   },
   "outputs": [
    {
     "data": {
      "text/plain": [
       "array([10,  2, 11,  5,  7,  3, 12, 13,  8,  6,  9,  4, 14, 18, 16, 15, 19,\n",
       "       17,  1])"
      ]
     },
     "metadata": {},
     "output_type": "display_data"
    }
   ],
   "source": [
    "_tmp_unique = _tmp[\"symbol_len\"].unique()\n",
    "display(_tmp_unique)"
   ]
  },
  {
   "cell_type": "markdown",
   "id": "85335313-5c7e-4095-a9d4-57a3406c5255",
   "metadata": {
    "papermill": {
     "duration": 0.054707,
     "end_time": "2021-08-27T14:05:03.394895",
     "exception": false,
     "start_time": "2021-08-27T14:05:03.340188",
     "status": "completed"
    },
    "tags": []
   },
   "source": [
    "No gene symbol is empty, that's good"
   ]
  },
  {
   "cell_type": "code",
   "execution_count": 36,
   "id": "71955da7-ed15-443d-ac4f-97481bf367f8",
   "metadata": {
    "execution": {
     "iopub.execute_input": "2021-08-27T14:05:03.508677Z",
     "iopub.status.busy": "2021-08-27T14:05:03.508156Z",
     "iopub.status.idle": "2021-08-27T14:05:03.510530Z",
     "shell.execute_reply": "2021-08-27T14:05:03.510092Z"
    },
    "papermill": {
     "duration": 0.060305,
     "end_time": "2021-08-27T14:05:03.510635",
     "exception": false,
     "start_time": "2021-08-27T14:05:03.450330",
     "status": "completed"
    },
    "tags": []
   },
   "outputs": [],
   "source": [
    "assert (_tmp_unique > 0).all()"
   ]
  },
  {
   "cell_type": "code",
   "execution_count": 37,
   "id": "52b6e7a7-57ef-4e4b-8ede-64459cbdd1fa",
   "metadata": {
    "execution": {
     "iopub.execute_input": "2021-08-27T14:05:03.626017Z",
     "iopub.status.busy": "2021-08-27T14:05:03.625531Z",
     "iopub.status.idle": "2021-08-27T14:05:03.627415Z",
     "shell.execute_reply": "2021-08-27T14:05:03.627777Z"
    },
    "papermill": {
     "duration": 0.061255,
     "end_time": "2021-08-27T14:05:03.627914",
     "exception": false,
     "start_time": "2021-08-27T14:05:03.566659",
     "status": "completed"
    },
    "tags": []
   },
   "outputs": [],
   "source": [
    "assert _tmp_unique.min() == 1\n",
    "assert _tmp_unique.max() == 19"
   ]
  },
  {
   "cell_type": "code",
   "execution_count": 38,
   "id": "f9b36e8b-a18f-42db-9054-e9e0b6ee0bc2",
   "metadata": {
    "execution": {
     "iopub.execute_input": "2021-08-27T14:05:03.743237Z",
     "iopub.status.busy": "2021-08-27T14:05:03.742722Z",
     "iopub.status.idle": "2021-08-27T14:05:03.752056Z",
     "shell.execute_reply": "2021-08-27T14:05:03.751564Z"
    },
    "papermill": {
     "duration": 0.06813,
     "end_time": "2021-08-27T14:05:03.752158",
     "exception": false,
     "start_time": "2021-08-27T14:05:03.684028",
     "status": "completed"
    },
    "tags": []
   },
   "outputs": [
    {
     "data": {
      "text/html": [
       "<div>\n",
       "<style scoped>\n",
       "    .dataframe tbody tr th:only-of-type {\n",
       "        vertical-align: middle;\n",
       "    }\n",
       "\n",
       "    .dataframe tbody tr th {\n",
       "        vertical-align: top;\n",
       "    }\n",
       "\n",
       "    .dataframe thead th {\n",
       "        text-align: right;\n",
       "    }\n",
       "</style>\n",
       "<table border=\"1\" class=\"dataframe\">\n",
       "  <thead>\n",
       "    <tr style=\"text-align: right;\">\n",
       "      <th></th>\n",
       "      <th>gene_ens_id</th>\n",
       "      <th>gene_symbol</th>\n",
       "      <th>id_len</th>\n",
       "      <th>symbol_len</th>\n",
       "    </tr>\n",
       "  </thead>\n",
       "  <tbody>\n",
       "    <tr>\n",
       "      <th>48072</th>\n",
       "      <td>ENSG00000164458.9</td>\n",
       "      <td>T</td>\n",
       "      <td>17</td>\n",
       "      <td>1</td>\n",
       "    </tr>\n",
       "    <tr>\n",
       "      <th>1</th>\n",
       "      <td>ENSG00000275504.1</td>\n",
       "      <td>U7</td>\n",
       "      <td>17</td>\n",
       "      <td>2</td>\n",
       "    </tr>\n",
       "    <tr>\n",
       "      <th>8</th>\n",
       "      <td>ENSG00000109471.4</td>\n",
       "      <td>IL2</td>\n",
       "      <td>17</td>\n",
       "      <td>3</td>\n",
       "    </tr>\n",
       "    <tr>\n",
       "      <th>18</th>\n",
       "      <td>ENSG00000170820.11</td>\n",
       "      <td>FSHR</td>\n",
       "      <td>18</td>\n",
       "      <td>4</td>\n",
       "    </tr>\n",
       "    <tr>\n",
       "      <th>4</th>\n",
       "      <td>ENSG00000148019.12</td>\n",
       "      <td>CEP78</td>\n",
       "      <td>18</td>\n",
       "      <td>5</td>\n",
       "    </tr>\n",
       "    <tr>\n",
       "      <th>15</th>\n",
       "      <td>ENSG00000124743.5</td>\n",
       "      <td>KLHL31</td>\n",
       "      <td>17</td>\n",
       "      <td>6</td>\n",
       "    </tr>\n",
       "    <tr>\n",
       "      <th>5</th>\n",
       "      <td>ENSG00000226011.1</td>\n",
       "      <td>OFD1P1Y</td>\n",
       "      <td>17</td>\n",
       "      <td>7</td>\n",
       "    </tr>\n",
       "    <tr>\n",
       "      <th>14</th>\n",
       "      <td>ENSG00000152779.13</td>\n",
       "      <td>SLC16A12</td>\n",
       "      <td>18</td>\n",
       "      <td>8</td>\n",
       "    </tr>\n",
       "    <tr>\n",
       "      <th>17</th>\n",
       "      <td>ENSG00000199514.1</td>\n",
       "      <td>RNU6-235P</td>\n",
       "      <td>17</td>\n",
       "      <td>9</td>\n",
       "    </tr>\n",
       "    <tr>\n",
       "      <th>0</th>\n",
       "      <td>ENSG00000232886.1</td>\n",
       "      <td>AF212831.2</td>\n",
       "      <td>17</td>\n",
       "      <td>10</td>\n",
       "    </tr>\n",
       "    <tr>\n",
       "      <th>2</th>\n",
       "      <td>ENSG00000264853.1</td>\n",
       "      <td>RP11-16C1.2</td>\n",
       "      <td>17</td>\n",
       "      <td>11</td>\n",
       "    </tr>\n",
       "    <tr>\n",
       "      <th>9</th>\n",
       "      <td>ENSG00000280058.1</td>\n",
       "      <td>RP1-131F15.3</td>\n",
       "      <td>17</td>\n",
       "      <td>12</td>\n",
       "    </tr>\n",
       "    <tr>\n",
       "      <th>13</th>\n",
       "      <td>ENSG00000258661.1</td>\n",
       "      <td>RP11-964E11.2</td>\n",
       "      <td>17</td>\n",
       "      <td>13</td>\n",
       "    </tr>\n",
       "    <tr>\n",
       "      <th>84</th>\n",
       "      <td>ENSG00000260311.1</td>\n",
       "      <td>RP11-586K12.10</td>\n",
       "      <td>17</td>\n",
       "      <td>14</td>\n",
       "    </tr>\n",
       "    <tr>\n",
       "      <th>713</th>\n",
       "      <td>ENSG00000214888.2</td>\n",
       "      <td>XXyac-YM21GA2.7</td>\n",
       "      <td>17</td>\n",
       "      <td>15</td>\n",
       "    </tr>\n",
       "    <tr>\n",
       "      <th>184</th>\n",
       "      <td>ENSG00000224692.1</td>\n",
       "      <td>LL0XNC01-177E8.2</td>\n",
       "      <td>17</td>\n",
       "      <td>16</td>\n",
       "    </tr>\n",
       "    <tr>\n",
       "      <th>3987</th>\n",
       "      <td>ENSG00000223837.2</td>\n",
       "      <td>XXbac-BPG181M17.4</td>\n",
       "      <td>17</td>\n",
       "      <td>17</td>\n",
       "    </tr>\n",
       "    <tr>\n",
       "      <th>119</th>\n",
       "      <td>ENSG00000229836.1</td>\n",
       "      <td>XXbac-BPG248L24.10</td>\n",
       "      <td>17</td>\n",
       "      <td>18</td>\n",
       "    </tr>\n",
       "    <tr>\n",
       "      <th>3202</th>\n",
       "      <td>ENSG00000274067.1</td>\n",
       "      <td>ABC12-47964100C23.1</td>\n",
       "      <td>17</td>\n",
       "      <td>19</td>\n",
       "    </tr>\n",
       "  </tbody>\n",
       "</table>\n",
       "</div>"
      ],
      "text/plain": [
       "              gene_ens_id          gene_symbol  id_len  symbol_len\n",
       "48072   ENSG00000164458.9                    T      17           1\n",
       "1       ENSG00000275504.1                   U7      17           2\n",
       "8       ENSG00000109471.4                  IL2      17           3\n",
       "18     ENSG00000170820.11                 FSHR      18           4\n",
       "4      ENSG00000148019.12                CEP78      18           5\n",
       "15      ENSG00000124743.5               KLHL31      17           6\n",
       "5       ENSG00000226011.1              OFD1P1Y      17           7\n",
       "14     ENSG00000152779.13             SLC16A12      18           8\n",
       "17      ENSG00000199514.1            RNU6-235P      17           9\n",
       "0       ENSG00000232886.1           AF212831.2      17          10\n",
       "2       ENSG00000264853.1          RP11-16C1.2      17          11\n",
       "9       ENSG00000280058.1         RP1-131F15.3      17          12\n",
       "13      ENSG00000258661.1        RP11-964E11.2      17          13\n",
       "84      ENSG00000260311.1       RP11-586K12.10      17          14\n",
       "713     ENSG00000214888.2      XXyac-YM21GA2.7      17          15\n",
       "184     ENSG00000224692.1     LL0XNC01-177E8.2      17          16\n",
       "3987    ENSG00000223837.2    XXbac-BPG181M17.4      17          17\n",
       "119     ENSG00000229836.1   XXbac-BPG248L24.10      17          18\n",
       "3202    ENSG00000274067.1  ABC12-47964100C23.1      17          19"
      ]
     },
     "execution_count": 38,
     "metadata": {},
     "output_type": "execute_result"
    }
   ],
   "source": [
    "# show how different gene symbol's lengths look like\n",
    "_tmp.drop_duplicates(subset=[\"symbol_len\"]).sort_values(\"symbol_len\")"
   ]
  },
  {
   "cell_type": "markdown",
   "id": "2302ba84-1dde-4949-92d2-bf036f934717",
   "metadata": {
    "papermill": {
     "duration": 0.056094,
     "end_time": "2021-08-27T14:05:03.864543",
     "exception": false,
     "start_time": "2021-08-27T14:05:03.808449",
     "status": "completed"
    },
    "tags": []
   },
   "source": [
    "Unique gene symbol lengths seem to be valid"
   ]
  },
  {
   "cell_type": "code",
   "execution_count": 39,
   "id": "3dc54ed8-52a2-4075-b9c3-261c612919fa",
   "metadata": {
    "execution": {
     "iopub.execute_input": "2021-08-27T14:05:03.982766Z",
     "iopub.status.busy": "2021-08-27T14:05:03.982275Z",
     "iopub.status.idle": "2021-08-27T14:05:03.989942Z",
     "shell.execute_reply": "2021-08-27T14:05:03.990305Z"
    },
    "papermill": {
     "duration": 0.069558,
     "end_time": "2021-08-27T14:05:03.990436",
     "exception": false,
     "start_time": "2021-08-27T14:05:03.920878",
     "status": "completed"
    },
    "tags": []
   },
   "outputs": [],
   "source": [
    "assert gene_mappings[\"gene_ens_id\"].unique().shape[0] == gene_mappings.shape[0]"
   ]
  },
  {
   "cell_type": "code",
   "execution_count": 40,
   "id": "4682c165-5719-41d7-8e0a-4a833f3567ce",
   "metadata": {
    "execution": {
     "iopub.execute_input": "2021-08-27T14:05:04.109712Z",
     "iopub.status.busy": "2021-08-27T14:05:04.109214Z",
     "iopub.status.idle": "2021-08-27T14:05:04.127837Z",
     "shell.execute_reply": "2021-08-27T14:05:04.127300Z"
    },
    "papermill": {
     "duration": 0.081549,
     "end_time": "2021-08-27T14:05:04.127961",
     "exception": false,
     "start_time": "2021-08-27T14:05:04.046412",
     "status": "completed"
    },
    "tags": []
   },
   "outputs": [
    {
     "data": {
      "text/plain": [
       "(54592,)"
      ]
     },
     "metadata": {},
     "output_type": "display_data"
    }
   ],
   "source": [
    "# some gene symbols map to multiple gene ids\n",
    "display(gene_mappings[\"gene_symbol\"].unique().shape)\n",
    "assert gene_mappings[\"gene_symbol\"].unique().shape[0] < gene_mappings.shape[0]"
   ]
  },
  {
   "cell_type": "code",
   "execution_count": 41,
   "id": "16f7d4c6-5514-4db3-88e5-7969ced73e56",
   "metadata": {
    "execution": {
     "iopub.execute_input": "2021-08-27T14:05:04.256768Z",
     "iopub.status.busy": "2021-08-27T14:05:04.256116Z",
     "iopub.status.idle": "2021-08-27T14:05:04.267675Z",
     "shell.execute_reply": "2021-08-27T14:05:04.267065Z"
    },
    "papermill": {
     "duration": 0.082055,
     "end_time": "2021-08-27T14:05:04.267801",
     "exception": false,
     "start_time": "2021-08-27T14:05:04.185746",
     "status": "completed"
    },
    "tags": []
   },
   "outputs": [
    {
     "data": {
      "text/html": [
       "<div>\n",
       "<style scoped>\n",
       "    .dataframe tbody tr th:only-of-type {\n",
       "        vertical-align: middle;\n",
       "    }\n",
       "\n",
       "    .dataframe tbody tr th {\n",
       "        vertical-align: top;\n",
       "    }\n",
       "\n",
       "    .dataframe thead th {\n",
       "        text-align: right;\n",
       "    }\n",
       "</style>\n",
       "<table border=\"1\" class=\"dataframe\">\n",
       "  <thead>\n",
       "    <tr style=\"text-align: right;\">\n",
       "      <th></th>\n",
       "      <th>gene_ens_id</th>\n",
       "      <th>gene_symbol</th>\n",
       "    </tr>\n",
       "  </thead>\n",
       "  <tbody>\n",
       "    <tr>\n",
       "      <th>15101</th>\n",
       "      <td>ENSG00000277488.1</td>\n",
       "      <td>5S_rRNA</td>\n",
       "    </tr>\n",
       "    <tr>\n",
       "      <th>1627</th>\n",
       "      <td>ENSG00000276861.1</td>\n",
       "      <td>5S_rRNA</td>\n",
       "    </tr>\n",
       "    <tr>\n",
       "      <th>39323</th>\n",
       "      <td>ENSG00000283433.1</td>\n",
       "      <td>5S_rRNA</td>\n",
       "    </tr>\n",
       "    <tr>\n",
       "      <th>35242</th>\n",
       "      <td>ENSG00000274059.1</td>\n",
       "      <td>5S_rRNA</td>\n",
       "    </tr>\n",
       "    <tr>\n",
       "      <th>35437</th>\n",
       "      <td>ENSG00000252830.2</td>\n",
       "      <td>5S_rRNA</td>\n",
       "    </tr>\n",
       "    <tr>\n",
       "      <th>...</th>\n",
       "      <td>...</td>\n",
       "      <td>...</td>\n",
       "    </tr>\n",
       "    <tr>\n",
       "      <th>43300</th>\n",
       "      <td>ENSG00000278333.1</td>\n",
       "      <td>uc_338</td>\n",
       "    </tr>\n",
       "    <tr>\n",
       "      <th>43263</th>\n",
       "      <td>ENSG00000277568.1</td>\n",
       "      <td>uc_338</td>\n",
       "    </tr>\n",
       "    <tr>\n",
       "      <th>13564</th>\n",
       "      <td>ENSG00000274420.1</td>\n",
       "      <td>uc_338</td>\n",
       "    </tr>\n",
       "    <tr>\n",
       "      <th>15068</th>\n",
       "      <td>ENSG00000277502.1</td>\n",
       "      <td>uc_338</td>\n",
       "    </tr>\n",
       "    <tr>\n",
       "      <th>42201</th>\n",
       "      <td>ENSG00000275958.1</td>\n",
       "      <td>uc_338</td>\n",
       "    </tr>\n",
       "  </tbody>\n",
       "</table>\n",
       "<p>1807 rows × 2 columns</p>\n",
       "</div>"
      ],
      "text/plain": [
       "             gene_ens_id gene_symbol\n",
       "15101  ENSG00000277488.1     5S_rRNA\n",
       "1627   ENSG00000276861.1     5S_rRNA\n",
       "39323  ENSG00000283433.1     5S_rRNA\n",
       "35242  ENSG00000274059.1     5S_rRNA\n",
       "35437  ENSG00000252830.2     5S_rRNA\n",
       "...                  ...         ...\n",
       "43300  ENSG00000278333.1      uc_338\n",
       "43263  ENSG00000277568.1      uc_338\n",
       "13564  ENSG00000274420.1      uc_338\n",
       "15068  ENSG00000277502.1      uc_338\n",
       "42201  ENSG00000275958.1      uc_338\n",
       "\n",
       "[1807 rows x 2 columns]"
      ]
     },
     "execution_count": 41,
     "metadata": {},
     "output_type": "execute_result"
    }
   ],
   "source": [
    "# show some duplicated gene symbols\n",
    "gene_mappings[gene_mappings[\"gene_symbol\"].duplicated(keep=False)].sort_values(\n",
    "    \"gene_symbol\"\n",
    ")"
   ]
  },
  {
   "cell_type": "code",
   "execution_count": 42,
   "id": "a439d27f-6ae4-47ce-bd89-0d5bb2100f7d",
   "metadata": {
    "execution": {
     "iopub.execute_input": "2021-08-27T14:05:04.391289Z",
     "iopub.status.busy": "2021-08-27T14:05:04.388368Z",
     "iopub.status.idle": "2021-08-27T14:05:04.393450Z",
     "shell.execute_reply": "2021-08-27T14:05:04.392962Z"
    },
    "papermill": {
     "duration": 0.065827,
     "end_time": "2021-08-27T14:05:04.393554",
     "exception": false,
     "start_time": "2021-08-27T14:05:04.327727",
     "status": "completed"
    },
    "tags": []
   },
   "outputs": [],
   "source": [
    "_tmp = gene_mappings.set_index(\"gene_ens_id\").squeeze()"
   ]
  },
  {
   "cell_type": "code",
   "execution_count": 43,
   "id": "78f3b40d-a624-4c17-9c01-f339cd09c8d9",
   "metadata": {
    "execution": {
     "iopub.execute_input": "2021-08-27T14:05:04.518027Z",
     "iopub.status.busy": "2021-08-27T14:05:04.517409Z",
     "iopub.status.idle": "2021-08-27T14:05:04.520222Z",
     "shell.execute_reply": "2021-08-27T14:05:04.519791Z"
    },
    "papermill": {
     "duration": 0.069002,
     "end_time": "2021-08-27T14:05:04.520327",
     "exception": false,
     "start_time": "2021-08-27T14:05:04.451325",
     "status": "completed"
    },
    "tags": []
   },
   "outputs": [],
   "source": [
    "assert _tmp.loc[\"ENSG00000223972.5\"] == \"DDX11L1\"\n",
    "assert _tmp.loc[\"ENSG00000243485.5\"] == \"MIR1302-2HG\"\n",
    "assert _tmp.loc[\"ENSG00000274059.1\"] == \"5S_rRNA\"  # repeated gene\n",
    "assert _tmp.loc[\"ENSG00000275305.1\"] == \"5S_rRNA\"  # repeated gene"
   ]
  },
  {
   "cell_type": "code",
   "execution_count": null,
   "id": "03747a27-4636-48e5-8c1f-3a75fc174a4d",
   "metadata": {
    "papermill": {
     "duration": 0.057053,
     "end_time": "2021-08-27T14:05:04.634977",
     "exception": false,
     "start_time": "2021-08-27T14:05:04.577924",
     "status": "completed"
    },
    "tags": []
   },
   "outputs": [],
   "source": []
  }
 ],
 "metadata": {
  "jupytext": {
   "cell_metadata_filter": "all,-execution,-papermill,-trusted"
  },
  "kernelspec": {
   "display_name": "Python 3 (ipykernel)",
   "language": "python",
   "name": "python3"
  },
  "language_info": {
   "codemirror_mode": {
    "name": "ipython",
    "version": 3
   },
   "file_extension": ".py",
   "mimetype": "text/x-python",
   "name": "python",
   "nbconvert_exporter": "python",
   "pygments_lexer": "ipython3",
   "version": "3.9.6"
  },
  "papermill": {
   "default_parameters": {},
   "duration": 3127.807249,
   "end_time": "2021-08-27T14:05:05.002379",
   "environment_variables": {},
   "exception": null,
   "input_path": "nbs/05_preprocessing/00-gtex_v8-split_by_tissue.ipynb",
   "output_path": "nbs/05_preprocessing/00-gtex_v8-split_by_tissue.run.ipynb",
   "parameters": {},
   "start_time": "2021-08-27T13:12:57.195130",
   "version": "2.3.3"
  },
  "toc-autonumbering": true
 },
 "nbformat": 4,
 "nbformat_minor": 5
}
