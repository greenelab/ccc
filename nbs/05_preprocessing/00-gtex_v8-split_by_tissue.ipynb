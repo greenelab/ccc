{
 "cells": [
  {
   "cell_type": "markdown",
   "id": "871d5ed2-95c8-48db-b3b3-394fea7a035b",
   "metadata": {
    "papermill": {
     "duration": 0.030646,
     "end_time": "2021-08-31T17:43:02.777584",
     "exception": false,
     "start_time": "2021-08-31T17:43:02.746938",
     "status": "completed"
    },
    "tags": []
   },
   "source": [
    "# Description"
   ]
  },
  {
   "cell_type": "markdown",
   "id": "06b29f41-a8f0-4274-8f72-a5b7cc19bc4e",
   "metadata": {
    "papermill": {
     "duration": 0.027077,
     "end_time": "2021-08-31T17:43:02.831653",
     "exception": false,
     "start_time": "2021-08-31T17:43:02.804576",
     "status": "completed"
    },
    "tags": []
   },
   "source": [
    "It splits gene expression data from GTEx v8 by tissue and saves a gene id/symbol mapping file."
   ]
  },
  {
   "cell_type": "markdown",
   "id": "d05acbf3-ee34-4e31-b359-58d5ffde4213",
   "metadata": {
    "papermill": {
     "duration": 0.0269,
     "end_time": "2021-08-31T17:43:02.885882",
     "exception": false,
     "start_time": "2021-08-31T17:43:02.858982",
     "status": "completed"
    },
    "tags": []
   },
   "source": [
    "# Modules"
   ]
  },
  {
   "cell_type": "code",
   "execution_count": 1,
   "id": "9e466133-c98a-4ca1-9c62-99a70576aca4",
   "metadata": {
    "execution": {
     "iopub.execute_input": "2021-08-31T17:43:02.947092Z",
     "iopub.status.busy": "2021-08-31T17:43:02.946610Z",
     "iopub.status.idle": "2021-08-31T17:43:03.175419Z",
     "shell.execute_reply": "2021-08-31T17:43:03.174889Z"
    },
    "papermill": {
     "duration": 0.262562,
     "end_time": "2021-08-31T17:43:03.175527",
     "exception": false,
     "start_time": "2021-08-31T17:43:02.912965",
     "status": "completed"
    },
    "tags": []
   },
   "outputs": [],
   "source": [
    "import pandas as pd\n",
    "from tqdm import tqdm\n",
    "\n",
    "from clustermatch.utils import simplify_string\n",
    "from clustermatch import conf"
   ]
  },
  {
   "cell_type": "markdown",
   "id": "4da399b4-f533-4cd0-8de7-a9afde79abb4",
   "metadata": {
    "papermill": {
     "duration": 0.029714,
     "end_time": "2021-08-31T17:43:03.235108",
     "exception": false,
     "start_time": "2021-08-31T17:43:03.205394",
     "status": "completed"
    },
    "tags": []
   },
   "source": [
    "# Settings"
   ]
  },
  {
   "cell_type": "code",
   "execution_count": 2,
   "id": "0ef4566f-122f-49e8-99be-491308219cc1",
   "metadata": {
    "execution": {
     "iopub.execute_input": "2021-08-31T17:43:03.298546Z",
     "iopub.status.busy": "2021-08-31T17:43:03.297887Z",
     "iopub.status.idle": "2021-08-31T17:43:03.300565Z",
     "shell.execute_reply": "2021-08-31T17:43:03.300932Z"
    },
    "papermill": {
     "duration": 0.038628,
     "end_time": "2021-08-31T17:43:03.301048",
     "exception": false,
     "start_time": "2021-08-31T17:43:03.262420",
     "status": "completed"
    },
    "tags": []
   },
   "outputs": [
    {
     "data": {
      "text/plain": [
       "PosixPath('/opt/data/data/gtex_v8/data_by_tissue')"
      ]
     },
     "metadata": {},
     "output_type": "display_data"
    }
   ],
   "source": [
    "OUTPUT_DIR = conf.GTEX[\"DATA_DIR\"] / \"data_by_tissue\"\n",
    "OUTPUT_DIR.mkdir(parents=True, exist_ok=True)\n",
    "display(OUTPUT_DIR)"
   ]
  },
  {
   "cell_type": "markdown",
   "id": "16f23bce-a6f7-4f87-b267-44595c764052",
   "metadata": {
    "papermill": {
     "duration": 0.027938,
     "end_time": "2021-08-31T17:43:03.357032",
     "exception": false,
     "start_time": "2021-08-31T17:43:03.329094",
     "status": "completed"
    },
    "tags": []
   },
   "source": [
    "# Data loading"
   ]
  },
  {
   "cell_type": "markdown",
   "id": "631412aa-9587-4aaa-8c44-9530a34eb0eb",
   "metadata": {
    "papermill": {
     "duration": 0.027445,
     "end_time": "2021-08-31T17:43:03.412171",
     "exception": false,
     "start_time": "2021-08-31T17:43:03.384726",
     "status": "completed"
    },
    "tags": []
   },
   "source": [
    "## GTEx v8"
   ]
  },
  {
   "cell_type": "markdown",
   "id": "eb3d94d7-16f5-4f19-bdd9-5f1c5601e9ce",
   "metadata": {
    "papermill": {
     "duration": 0.0274,
     "end_time": "2021-08-31T17:43:03.466929",
     "exception": false,
     "start_time": "2021-08-31T17:43:03.439529",
     "status": "completed"
    },
    "tags": []
   },
   "source": [
    "### Sample metadata"
   ]
  },
  {
   "cell_type": "code",
   "execution_count": 3,
   "id": "611ebc4f-3e85-4dc5-9b6f-86500cd74ead",
   "metadata": {
    "execution": {
     "iopub.execute_input": "2021-08-31T17:43:03.525861Z",
     "iopub.status.busy": "2021-08-31T17:43:03.525404Z",
     "iopub.status.idle": "2021-08-31T17:43:03.712995Z",
     "shell.execute_reply": "2021-08-31T17:43:03.712414Z"
    },
    "papermill": {
     "duration": 0.218763,
     "end_time": "2021-08-31T17:43:03.713114",
     "exception": false,
     "start_time": "2021-08-31T17:43:03.494351",
     "status": "completed"
    },
    "tags": []
   },
   "outputs": [],
   "source": [
    "gtex_sample_attrs = pd.read_csv(\n",
    "    conf.GTEX[\"SAMPLE_ATTRS_FILE\"],\n",
    "    sep=\"\\t\",\n",
    ")"
   ]
  },
  {
   "cell_type": "code",
   "execution_count": 4,
   "id": "1af7dd82-a9fb-49ab-834b-d92aad219b1d",
   "metadata": {
    "execution": {
     "iopub.execute_input": "2021-08-31T17:43:03.777181Z",
     "iopub.status.busy": "2021-08-31T17:43:03.776577Z",
     "iopub.status.idle": "2021-08-31T17:43:03.778813Z",
     "shell.execute_reply": "2021-08-31T17:43:03.779177Z"
    },
    "papermill": {
     "duration": 0.033426,
     "end_time": "2021-08-31T17:43:03.779291",
     "exception": false,
     "start_time": "2021-08-31T17:43:03.745865",
     "status": "completed"
    },
    "tags": []
   },
   "outputs": [
    {
     "data": {
      "text/plain": [
       "(22951, 63)"
      ]
     },
     "execution_count": 4,
     "metadata": {},
     "output_type": "execute_result"
    }
   ],
   "source": [
    "gtex_sample_attrs.shape"
   ]
  },
  {
   "cell_type": "code",
   "execution_count": 5,
   "id": "f9028a27-560d-4272-8bc3-ec2e06fce0f3",
   "metadata": {
    "execution": {
     "iopub.execute_input": "2021-08-31T17:43:03.839734Z",
     "iopub.status.busy": "2021-08-31T17:43:03.836166Z",
     "iopub.status.idle": "2021-08-31T17:43:03.856533Z",
     "shell.execute_reply": "2021-08-31T17:43:03.856080Z"
    },
    "papermill": {
     "duration": 0.049917,
     "end_time": "2021-08-31T17:43:03.856630",
     "exception": false,
     "start_time": "2021-08-31T17:43:03.806713",
     "status": "completed"
    },
    "tags": []
   },
   "outputs": [
    {
     "data": {
      "text/html": [
       "<div>\n",
       "<style scoped>\n",
       "    .dataframe tbody tr th:only-of-type {\n",
       "        vertical-align: middle;\n",
       "    }\n",
       "\n",
       "    .dataframe tbody tr th {\n",
       "        vertical-align: top;\n",
       "    }\n",
       "\n",
       "    .dataframe thead th {\n",
       "        text-align: right;\n",
       "    }\n",
       "</style>\n",
       "<table border=\"1\" class=\"dataframe\">\n",
       "  <thead>\n",
       "    <tr style=\"text-align: right;\">\n",
       "      <th></th>\n",
       "      <th>SAMPID</th>\n",
       "      <th>SMATSSCR</th>\n",
       "      <th>SMCENTER</th>\n",
       "      <th>SMPTHNTS</th>\n",
       "      <th>SMRIN</th>\n",
       "      <th>SMTS</th>\n",
       "      <th>SMTSD</th>\n",
       "      <th>SMUBRID</th>\n",
       "      <th>SMTSISCH</th>\n",
       "      <th>SMTSPAX</th>\n",
       "      <th>...</th>\n",
       "      <th>SME1ANTI</th>\n",
       "      <th>SMSPLTRD</th>\n",
       "      <th>SMBSMMRT</th>\n",
       "      <th>SME1SNSE</th>\n",
       "      <th>SME1PCTS</th>\n",
       "      <th>SMRRNART</th>\n",
       "      <th>SME1MPRT</th>\n",
       "      <th>SMNUM5CD</th>\n",
       "      <th>SMDPMPRT</th>\n",
       "      <th>SME2PCTS</th>\n",
       "    </tr>\n",
       "  </thead>\n",
       "  <tbody>\n",
       "    <tr>\n",
       "      <th>0</th>\n",
       "      <td>GTEX-1117F-0003-SM-58Q7G</td>\n",
       "      <td>NaN</td>\n",
       "      <td>B1</td>\n",
       "      <td>NaN</td>\n",
       "      <td>NaN</td>\n",
       "      <td>Blood</td>\n",
       "      <td>Whole Blood</td>\n",
       "      <td>0013756</td>\n",
       "      <td>1188.0</td>\n",
       "      <td>NaN</td>\n",
       "      <td>...</td>\n",
       "      <td>NaN</td>\n",
       "      <td>NaN</td>\n",
       "      <td>NaN</td>\n",
       "      <td>NaN</td>\n",
       "      <td>NaN</td>\n",
       "      <td>NaN</td>\n",
       "      <td>NaN</td>\n",
       "      <td>NaN</td>\n",
       "      <td>NaN</td>\n",
       "      <td>NaN</td>\n",
       "    </tr>\n",
       "    <tr>\n",
       "      <th>1</th>\n",
       "      <td>GTEX-1117F-0003-SM-5DWSB</td>\n",
       "      <td>NaN</td>\n",
       "      <td>B1</td>\n",
       "      <td>NaN</td>\n",
       "      <td>NaN</td>\n",
       "      <td>Blood</td>\n",
       "      <td>Whole Blood</td>\n",
       "      <td>0013756</td>\n",
       "      <td>1188.0</td>\n",
       "      <td>NaN</td>\n",
       "      <td>...</td>\n",
       "      <td>NaN</td>\n",
       "      <td>NaN</td>\n",
       "      <td>NaN</td>\n",
       "      <td>NaN</td>\n",
       "      <td>NaN</td>\n",
       "      <td>NaN</td>\n",
       "      <td>NaN</td>\n",
       "      <td>NaN</td>\n",
       "      <td>NaN</td>\n",
       "      <td>NaN</td>\n",
       "    </tr>\n",
       "    <tr>\n",
       "      <th>2</th>\n",
       "      <td>GTEX-1117F-0003-SM-6WBT7</td>\n",
       "      <td>NaN</td>\n",
       "      <td>B1</td>\n",
       "      <td>NaN</td>\n",
       "      <td>NaN</td>\n",
       "      <td>Blood</td>\n",
       "      <td>Whole Blood</td>\n",
       "      <td>0013756</td>\n",
       "      <td>1188.0</td>\n",
       "      <td>NaN</td>\n",
       "      <td>...</td>\n",
       "      <td>NaN</td>\n",
       "      <td>NaN</td>\n",
       "      <td>NaN</td>\n",
       "      <td>NaN</td>\n",
       "      <td>NaN</td>\n",
       "      <td>NaN</td>\n",
       "      <td>NaN</td>\n",
       "      <td>NaN</td>\n",
       "      <td>NaN</td>\n",
       "      <td>NaN</td>\n",
       "    </tr>\n",
       "    <tr>\n",
       "      <th>3</th>\n",
       "      <td>GTEX-1117F-0011-R10a-SM-AHZ7F</td>\n",
       "      <td>NaN</td>\n",
       "      <td>B1, A1</td>\n",
       "      <td>NaN</td>\n",
       "      <td>NaN</td>\n",
       "      <td>Brain</td>\n",
       "      <td>Brain - Frontal Cortex (BA9)</td>\n",
       "      <td>0009834</td>\n",
       "      <td>1193.0</td>\n",
       "      <td>NaN</td>\n",
       "      <td>...</td>\n",
       "      <td>NaN</td>\n",
       "      <td>NaN</td>\n",
       "      <td>NaN</td>\n",
       "      <td>NaN</td>\n",
       "      <td>NaN</td>\n",
       "      <td>NaN</td>\n",
       "      <td>NaN</td>\n",
       "      <td>NaN</td>\n",
       "      <td>NaN</td>\n",
       "      <td>NaN</td>\n",
       "    </tr>\n",
       "    <tr>\n",
       "      <th>4</th>\n",
       "      <td>GTEX-1117F-0011-R10b-SM-CYKQ8</td>\n",
       "      <td>NaN</td>\n",
       "      <td>B1, A1</td>\n",
       "      <td>NaN</td>\n",
       "      <td>7.2</td>\n",
       "      <td>Brain</td>\n",
       "      <td>Brain - Frontal Cortex (BA9)</td>\n",
       "      <td>0009834</td>\n",
       "      <td>1193.0</td>\n",
       "      <td>NaN</td>\n",
       "      <td>...</td>\n",
       "      <td>NaN</td>\n",
       "      <td>NaN</td>\n",
       "      <td>NaN</td>\n",
       "      <td>NaN</td>\n",
       "      <td>NaN</td>\n",
       "      <td>NaN</td>\n",
       "      <td>NaN</td>\n",
       "      <td>NaN</td>\n",
       "      <td>NaN</td>\n",
       "      <td>NaN</td>\n",
       "    </tr>\n",
       "  </tbody>\n",
       "</table>\n",
       "<p>5 rows × 63 columns</p>\n",
       "</div>"
      ],
      "text/plain": [
       "                          SAMPID  SMATSSCR SMCENTER SMPTHNTS  SMRIN   SMTS  \\\n",
       "0       GTEX-1117F-0003-SM-58Q7G       NaN       B1      NaN    NaN  Blood   \n",
       "1       GTEX-1117F-0003-SM-5DWSB       NaN       B1      NaN    NaN  Blood   \n",
       "2       GTEX-1117F-0003-SM-6WBT7       NaN       B1      NaN    NaN  Blood   \n",
       "3  GTEX-1117F-0011-R10a-SM-AHZ7F       NaN   B1, A1      NaN    NaN  Brain   \n",
       "4  GTEX-1117F-0011-R10b-SM-CYKQ8       NaN   B1, A1      NaN    7.2  Brain   \n",
       "\n",
       "                          SMTSD  SMUBRID  SMTSISCH  SMTSPAX  ... SME1ANTI  \\\n",
       "0                   Whole Blood  0013756    1188.0      NaN  ...      NaN   \n",
       "1                   Whole Blood  0013756    1188.0      NaN  ...      NaN   \n",
       "2                   Whole Blood  0013756    1188.0      NaN  ...      NaN   \n",
       "3  Brain - Frontal Cortex (BA9)  0009834    1193.0      NaN  ...      NaN   \n",
       "4  Brain - Frontal Cortex (BA9)  0009834    1193.0      NaN  ...      NaN   \n",
       "\n",
       "  SMSPLTRD SMBSMMRT SME1SNSE SME1PCTS SMRRNART SME1MPRT SMNUM5CD  SMDPMPRT  \\\n",
       "0      NaN      NaN      NaN      NaN      NaN      NaN      NaN       NaN   \n",
       "1      NaN      NaN      NaN      NaN      NaN      NaN      NaN       NaN   \n",
       "2      NaN      NaN      NaN      NaN      NaN      NaN      NaN       NaN   \n",
       "3      NaN      NaN      NaN      NaN      NaN      NaN      NaN       NaN   \n",
       "4      NaN      NaN      NaN      NaN      NaN      NaN      NaN       NaN   \n",
       "\n",
       "   SME2PCTS  \n",
       "0       NaN  \n",
       "1       NaN  \n",
       "2       NaN  \n",
       "3       NaN  \n",
       "4       NaN  \n",
       "\n",
       "[5 rows x 63 columns]"
      ]
     },
     "execution_count": 5,
     "metadata": {},
     "output_type": "execute_result"
    }
   ],
   "source": [
    "gtex_sample_attrs.head()"
   ]
  },
  {
   "cell_type": "markdown",
   "id": "28461cfc-c44b-486f-81c6-f8ef2b6069ed",
   "metadata": {
    "papermill": {
     "duration": 0.028391,
     "end_time": "2021-08-31T17:43:03.913985",
     "exception": false,
     "start_time": "2021-08-31T17:43:03.885594",
     "status": "completed"
    },
    "tags": []
   },
   "source": [
    "# Get tissues names"
   ]
  },
  {
   "cell_type": "code",
   "execution_count": 6,
   "id": "2eeb0170-5773-406f-963b-3e9f04913c93",
   "metadata": {
    "execution": {
     "iopub.execute_input": "2021-08-31T17:43:03.974556Z",
     "iopub.status.busy": "2021-08-31T17:43:03.974043Z",
     "iopub.status.idle": "2021-08-31T17:43:03.979433Z",
     "shell.execute_reply": "2021-08-31T17:43:03.978996Z"
    },
    "papermill": {
     "duration": 0.037476,
     "end_time": "2021-08-31T17:43:03.979527",
     "exception": false,
     "start_time": "2021-08-31T17:43:03.942051",
     "status": "completed"
    },
    "tags": []
   },
   "outputs": [
    {
     "data": {
      "text/plain": [
       "55"
      ]
     },
     "metadata": {},
     "output_type": "display_data"
    },
    {
     "data": {
      "text/plain": [
       "array(['Whole Blood', 'Brain - Frontal Cortex (BA9)',\n",
       "       'Adipose - Subcutaneous', 'Muscle - Skeletal', 'Artery - Tibial',\n",
       "       'Artery - Coronary', 'Heart - Atrial Appendage',\n",
       "       'Adipose - Visceral (Omentum)', 'Ovary', 'Uterus', 'Vagina',\n",
       "       'Breast - Mammary Tissue', 'Skin - Not Sun Exposed (Suprapubic)',\n",
       "       'Minor Salivary Gland', 'Brain - Cortex', 'Adrenal Gland',\n",
       "       'Thyroid', 'Lung', 'Spleen', 'Pancreas', 'Esophagus - Muscularis',\n",
       "       'Esophagus - Mucosa', 'Esophagus - Gastroesophageal Junction',\n",
       "       'Stomach', 'Colon - Sigmoid', 'Small Intestine - Terminal Ileum',\n",
       "       'Colon - Transverse', 'Prostate', 'Testis',\n",
       "       'Skin - Sun Exposed (Lower leg)', 'Nerve - Tibial',\n",
       "       'Heart - Left Ventricle', 'Pituitary', 'Brain - Cerebellum',\n",
       "       'Cells - Cultured fibroblasts', 'Artery - Aorta',\n",
       "       'Cells - EBV-transformed lymphocytes',\n",
       "       'Brain - Cerebellar Hemisphere', 'Brain - Caudate (basal ganglia)',\n",
       "       'Brain - Nucleus accumbens (basal ganglia)',\n",
       "       'Brain - Putamen (basal ganglia)', 'Brain - Hypothalamus',\n",
       "       'Brain - Spinal cord (cervical c-1)', 'Liver',\n",
       "       'Brain - Hippocampus', 'Brain - Anterior cingulate cortex (BA24)',\n",
       "       'Brain - Substantia nigra', 'Kidney - Cortex', 'Brain - Amygdala',\n",
       "       'Cervix - Ectocervix', 'Fallopian Tube', 'Cervix - Endocervix',\n",
       "       'Bladder', 'Kidney - Medulla', 'Cells - Leukemia cell line (CML)'],\n",
       "      dtype=object)"
      ]
     },
     "metadata": {},
     "output_type": "display_data"
    }
   ],
   "source": [
    "gtex_tissues = gtex_sample_attrs[\"SMTSD\"].unique()\n",
    "display(len(gtex_tissues))\n",
    "display(gtex_tissues)"
   ]
  },
  {
   "cell_type": "markdown",
   "id": "9473383c-a46d-4e4e-972b-20eedd2a7ba8",
   "metadata": {
    "papermill": {
     "duration": 0.028671,
     "end_time": "2021-08-31T17:43:04.038562",
     "exception": false,
     "start_time": "2021-08-31T17:43:04.009891",
     "status": "completed"
    },
    "tags": []
   },
   "source": [
    "# Get sample IDs for each tissue"
   ]
  },
  {
   "cell_type": "code",
   "execution_count": 7,
   "id": "c290f8e8-7157-475f-a7b8-0d7bb0054aff",
   "metadata": {
    "execution": {
     "iopub.execute_input": "2021-08-31T17:43:04.100283Z",
     "iopub.status.busy": "2021-08-31T17:43:04.099725Z",
     "iopub.status.idle": "2021-08-31T17:43:06.656892Z",
     "shell.execute_reply": "2021-08-31T17:43:06.656436Z"
    },
    "papermill": {
     "duration": 2.589453,
     "end_time": "2021-08-31T17:43:06.656987",
     "exception": false,
     "start_time": "2021-08-31T17:43:04.067534",
     "status": "completed"
    },
    "tags": []
   },
   "outputs": [],
   "source": [
    "# first, get all sample IDs with expression data\n",
    "gtex_all_sample_ids_with_expr_data = set(\n",
    "    pd.read_csv(\n",
    "        conf.GTEX[\"DATA_TPM_GCT_FILE\"],\n",
    "        sep=\"\\t\",\n",
    "        skiprows=2,\n",
    "        nrows=1,\n",
    "        usecols=lambda x: x not in (\"Name\", \"Description\"),\n",
    "    ).columns\n",
    ")"
   ]
  },
  {
   "cell_type": "code",
   "execution_count": 8,
   "id": "10e682e6-fee2-4cd9-92f6-faef8db2e3fb",
   "metadata": {
    "execution": {
     "iopub.execute_input": "2021-08-31T17:43:06.718285Z",
     "iopub.status.busy": "2021-08-31T17:43:06.717749Z",
     "iopub.status.idle": "2021-08-31T17:43:06.720017Z",
     "shell.execute_reply": "2021-08-31T17:43:06.720375Z"
    },
    "papermill": {
     "duration": 0.034881,
     "end_time": "2021-08-31T17:43:06.720487",
     "exception": false,
     "start_time": "2021-08-31T17:43:06.685606",
     "status": "completed"
    },
    "tags": []
   },
   "outputs": [
    {
     "data": {
      "text/plain": [
       "17382"
      ]
     },
     "execution_count": 8,
     "metadata": {},
     "output_type": "execute_result"
    }
   ],
   "source": [
    "len(gtex_all_sample_ids_with_expr_data)"
   ]
  },
  {
   "cell_type": "code",
   "execution_count": 9,
   "id": "105eb0a9-6af2-42b2-8bdc-2b30bc586cfc",
   "metadata": {
    "execution": {
     "iopub.execute_input": "2021-08-31T17:43:06.782988Z",
     "iopub.status.busy": "2021-08-31T17:43:06.782526Z",
     "iopub.status.idle": "2021-08-31T17:43:06.784924Z",
     "shell.execute_reply": "2021-08-31T17:43:06.784541Z"
    },
    "papermill": {
     "duration": 0.035116,
     "end_time": "2021-08-31T17:43:06.785017",
     "exception": false,
     "start_time": "2021-08-31T17:43:06.749901",
     "status": "completed"
    },
    "tags": []
   },
   "outputs": [
    {
     "data": {
      "text/plain": [
       "['GTEX-12WSJ-1726-SM-5LZVV',\n",
       " 'GTEX-144GL-1426-SM-79OMA',\n",
       " 'GTEX-11DXZ-0006-SM-5LZZH',\n",
       " 'GTEX-R55C-1926-SM-2TF4K',\n",
       " 'GTEX-TKQ1-1326-SM-4DXU7',\n",
       " 'GTEX-1399T-0526-SM-5J1NC',\n",
       " 'GTEX-ZPCL-1226-SM-4WWFF',\n",
       " 'GTEX-1F48J-1626-SM-9WPOE',\n",
       " 'GTEX-P4QS-0926-SM-48TBS',\n",
       " 'GTEX-RNOR-0011-R8A-SM-EZ6MN']"
      ]
     },
     "execution_count": 9,
     "metadata": {},
     "output_type": "execute_result"
    }
   ],
   "source": [
    "list(gtex_all_sample_ids_with_expr_data)[:10]"
   ]
  },
  {
   "cell_type": "code",
   "execution_count": 10,
   "id": "2149ee5c-9d8b-41ee-91fd-27eb7f4db559",
   "metadata": {
    "execution": {
     "iopub.execute_input": "2021-08-31T17:43:06.854483Z",
     "iopub.status.busy": "2021-08-31T17:43:06.848241Z",
     "iopub.status.idle": "2021-08-31T17:43:06.970661Z",
     "shell.execute_reply": "2021-08-31T17:43:06.970221Z"
    },
    "papermill": {
     "duration": 0.156174,
     "end_time": "2021-08-31T17:43:06.970760",
     "exception": false,
     "start_time": "2021-08-31T17:43:06.814586",
     "status": "completed"
    },
    "tags": []
   },
   "outputs": [],
   "source": [
    "# get sample IDs by tissue\n",
    "sample_ids_by_tissue = {\n",
    "    tissue_name: sorted(\n",
    "        list(\n",
    "            gtex_all_sample_ids_with_expr_data.intersection(\n",
    "                set(\n",
    "                    gtex_sample_attrs[gtex_sample_attrs[\"SMTSD\"] == tissue_name][\n",
    "                        \"SAMPID\"\n",
    "                    ].tolist()\n",
    "                )\n",
    "            )\n",
    "        )\n",
    "    )\n",
    "    for tissue_name in gtex_tissues\n",
    "}"
   ]
  },
  {
   "cell_type": "code",
   "execution_count": 11,
   "id": "9f8624ee-0b6a-4a87-a3ad-7f9961181c5b",
   "metadata": {
    "execution": {
     "iopub.execute_input": "2021-08-31T17:43:07.033789Z",
     "iopub.status.busy": "2021-08-31T17:43:07.033345Z",
     "iopub.status.idle": "2021-08-31T17:43:07.034939Z",
     "shell.execute_reply": "2021-08-31T17:43:07.035303Z"
    },
    "papermill": {
     "duration": 0.034862,
     "end_time": "2021-08-31T17:43:07.035416",
     "exception": false,
     "start_time": "2021-08-31T17:43:07.000554",
     "status": "completed"
    },
    "tags": []
   },
   "outputs": [],
   "source": [
    "assert len(gtex_tissues) == len(sample_ids_by_tissue)"
   ]
  },
  {
   "cell_type": "code",
   "execution_count": 12,
   "id": "a252ff14-6572-47ec-bf77-03f984f7ec8d",
   "metadata": {
    "execution": {
     "iopub.execute_input": "2021-08-31T17:43:07.098156Z",
     "iopub.status.busy": "2021-08-31T17:43:07.097498Z",
     "iopub.status.idle": "2021-08-31T17:43:07.100587Z",
     "shell.execute_reply": "2021-08-31T17:43:07.100184Z"
    },
    "papermill": {
     "duration": 0.035407,
     "end_time": "2021-08-31T17:43:07.100678",
     "exception": false,
     "start_time": "2021-08-31T17:43:07.065271",
     "status": "completed"
    },
    "tags": []
   },
   "outputs": [
    {
     "data": {
      "text/plain": [
       "['GTEX-111YS-0006-SM-5NQBE',\n",
       " 'GTEX-1122O-0005-SM-5O99J',\n",
       " 'GTEX-1128S-0005-SM-5P9HI',\n",
       " 'GTEX-113IC-0006-SM-5NQ9C',\n",
       " 'GTEX-113JC-0006-SM-5O997',\n",
       " 'GTEX-117XS-0005-SM-5PNU6',\n",
       " 'GTEX-117YW-0005-SM-5NQ8Z',\n",
       " 'GTEX-1192W-0005-SM-5NQBQ',\n",
       " 'GTEX-1192X-0005-SM-5NQC3',\n",
       " 'GTEX-11DXW-0006-SM-5NQ7Y']"
      ]
     },
     "execution_count": 12,
     "metadata": {},
     "output_type": "execute_result"
    }
   ],
   "source": [
    "sample_ids_by_tissue[\"Whole Blood\"][:10]"
   ]
  },
  {
   "cell_type": "code",
   "execution_count": 13,
   "id": "99018348-c7db-4543-9d07-d2755f7f9e3d",
   "metadata": {
    "execution": {
     "iopub.execute_input": "2021-08-31T17:43:07.165018Z",
     "iopub.status.busy": "2021-08-31T17:43:07.164551Z",
     "iopub.status.idle": "2021-08-31T17:43:07.166195Z",
     "shell.execute_reply": "2021-08-31T17:43:07.166540Z"
    },
    "papermill": {
     "duration": 0.03588,
     "end_time": "2021-08-31T17:43:07.166659",
     "exception": false,
     "start_time": "2021-08-31T17:43:07.130779",
     "status": "completed"
    },
    "tags": []
   },
   "outputs": [],
   "source": [
    "# all IDs are unique\n",
    "assert all(\n",
    "    [\n",
    "        len(sample_ids_by_tissue[tissue_name])\n",
    "        == len(set(sample_ids_by_tissue[tissue_name]))\n",
    "        for tissue_name in sample_ids_by_tissue.keys()\n",
    "    ]\n",
    ")"
   ]
  },
  {
   "cell_type": "markdown",
   "id": "c6ffdc31-9348-40b0-a912-bb0b6e107d80",
   "metadata": {
    "papermill": {
     "duration": 0.03132,
     "end_time": "2021-08-31T17:43:07.227544",
     "exception": false,
     "start_time": "2021-08-31T17:43:07.196224",
     "status": "completed"
    },
    "tags": []
   },
   "source": [
    "## Show sample size by tissue"
   ]
  },
  {
   "cell_type": "code",
   "execution_count": 14,
   "id": "364a1dfb-ba5e-4d3c-b7ab-6fcc0ffa206d",
   "metadata": {
    "execution": {
     "iopub.execute_input": "2021-08-31T17:43:07.291727Z",
     "iopub.status.busy": "2021-08-31T17:43:07.291265Z",
     "iopub.status.idle": "2021-08-31T17:43:07.293001Z",
     "shell.execute_reply": "2021-08-31T17:43:07.293346Z"
    },
    "papermill": {
     "duration": 0.035629,
     "end_time": "2021-08-31T17:43:07.293464",
     "exception": false,
     "start_time": "2021-08-31T17:43:07.257835",
     "status": "completed"
    },
    "tags": []
   },
   "outputs": [],
   "source": [
    "tissue_sample_size = pd.DataFrame(\n",
    "    [{\"tissue\": k, \"sample_size\": len(v)} for k, v in sample_ids_by_tissue.items()]\n",
    ")"
   ]
  },
  {
   "cell_type": "code",
   "execution_count": 15,
   "id": "793701d1-2c84-43fe-9674-ba436f9e9efe",
   "metadata": {
    "execution": {
     "iopub.execute_input": "2021-08-31T17:43:07.361704Z",
     "iopub.status.busy": "2021-08-31T17:43:07.361056Z",
     "iopub.status.idle": "2021-08-31T17:43:07.364247Z",
     "shell.execute_reply": "2021-08-31T17:43:07.363755Z"
    },
    "papermill": {
     "duration": 0.040914,
     "end_time": "2021-08-31T17:43:07.364340",
     "exception": false,
     "start_time": "2021-08-31T17:43:07.323426",
     "status": "completed"
    },
    "tags": []
   },
   "outputs": [
    {
     "data": {
      "text/html": [
       "<div>\n",
       "<style scoped>\n",
       "    .dataframe tbody tr th:only-of-type {\n",
       "        vertical-align: middle;\n",
       "    }\n",
       "\n",
       "    .dataframe tbody tr th {\n",
       "        vertical-align: top;\n",
       "    }\n",
       "\n",
       "    .dataframe thead th {\n",
       "        text-align: right;\n",
       "    }\n",
       "</style>\n",
       "<table border=\"1\" class=\"dataframe\">\n",
       "  <thead>\n",
       "    <tr style=\"text-align: right;\">\n",
       "      <th></th>\n",
       "      <th>tissue</th>\n",
       "      <th>sample_size</th>\n",
       "    </tr>\n",
       "  </thead>\n",
       "  <tbody>\n",
       "    <tr>\n",
       "      <th>3</th>\n",
       "      <td>Muscle - Skeletal</td>\n",
       "      <td>803</td>\n",
       "    </tr>\n",
       "    <tr>\n",
       "      <th>0</th>\n",
       "      <td>Whole Blood</td>\n",
       "      <td>755</td>\n",
       "    </tr>\n",
       "    <tr>\n",
       "      <th>29</th>\n",
       "      <td>Skin - Sun Exposed (Lower leg)</td>\n",
       "      <td>701</td>\n",
       "    </tr>\n",
       "    <tr>\n",
       "      <th>2</th>\n",
       "      <td>Adipose - Subcutaneous</td>\n",
       "      <td>663</td>\n",
       "    </tr>\n",
       "    <tr>\n",
       "      <th>4</th>\n",
       "      <td>Artery - Tibial</td>\n",
       "      <td>663</td>\n",
       "    </tr>\n",
       "    <tr>\n",
       "      <th>16</th>\n",
       "      <td>Thyroid</td>\n",
       "      <td>653</td>\n",
       "    </tr>\n",
       "    <tr>\n",
       "      <th>30</th>\n",
       "      <td>Nerve - Tibial</td>\n",
       "      <td>619</td>\n",
       "    </tr>\n",
       "    <tr>\n",
       "      <th>12</th>\n",
       "      <td>Skin - Not Sun Exposed (Suprapubic)</td>\n",
       "      <td>604</td>\n",
       "    </tr>\n",
       "    <tr>\n",
       "      <th>17</th>\n",
       "      <td>Lung</td>\n",
       "      <td>578</td>\n",
       "    </tr>\n",
       "    <tr>\n",
       "      <th>21</th>\n",
       "      <td>Esophagus - Mucosa</td>\n",
       "      <td>555</td>\n",
       "    </tr>\n",
       "    <tr>\n",
       "      <th>7</th>\n",
       "      <td>Adipose - Visceral (Omentum)</td>\n",
       "      <td>541</td>\n",
       "    </tr>\n",
       "    <tr>\n",
       "      <th>20</th>\n",
       "      <td>Esophagus - Muscularis</td>\n",
       "      <td>515</td>\n",
       "    </tr>\n",
       "    <tr>\n",
       "      <th>34</th>\n",
       "      <td>Cells - Cultured fibroblasts</td>\n",
       "      <td>504</td>\n",
       "    </tr>\n",
       "    <tr>\n",
       "      <th>11</th>\n",
       "      <td>Breast - Mammary Tissue</td>\n",
       "      <td>459</td>\n",
       "    </tr>\n",
       "    <tr>\n",
       "      <th>35</th>\n",
       "      <td>Artery - Aorta</td>\n",
       "      <td>432</td>\n",
       "    </tr>\n",
       "    <tr>\n",
       "      <th>31</th>\n",
       "      <td>Heart - Left Ventricle</td>\n",
       "      <td>432</td>\n",
       "    </tr>\n",
       "    <tr>\n",
       "      <th>6</th>\n",
       "      <td>Heart - Atrial Appendage</td>\n",
       "      <td>429</td>\n",
       "    </tr>\n",
       "    <tr>\n",
       "      <th>26</th>\n",
       "      <td>Colon - Transverse</td>\n",
       "      <td>406</td>\n",
       "    </tr>\n",
       "    <tr>\n",
       "      <th>22</th>\n",
       "      <td>Esophagus - Gastroesophageal Junction</td>\n",
       "      <td>375</td>\n",
       "    </tr>\n",
       "    <tr>\n",
       "      <th>24</th>\n",
       "      <td>Colon - Sigmoid</td>\n",
       "      <td>373</td>\n",
       "    </tr>\n",
       "    <tr>\n",
       "      <th>28</th>\n",
       "      <td>Testis</td>\n",
       "      <td>361</td>\n",
       "    </tr>\n",
       "    <tr>\n",
       "      <th>23</th>\n",
       "      <td>Stomach</td>\n",
       "      <td>359</td>\n",
       "    </tr>\n",
       "    <tr>\n",
       "      <th>19</th>\n",
       "      <td>Pancreas</td>\n",
       "      <td>328</td>\n",
       "    </tr>\n",
       "    <tr>\n",
       "      <th>32</th>\n",
       "      <td>Pituitary</td>\n",
       "      <td>283</td>\n",
       "    </tr>\n",
       "    <tr>\n",
       "      <th>15</th>\n",
       "      <td>Adrenal Gland</td>\n",
       "      <td>258</td>\n",
       "    </tr>\n",
       "    <tr>\n",
       "      <th>14</th>\n",
       "      <td>Brain - Cortex</td>\n",
       "      <td>255</td>\n",
       "    </tr>\n",
       "    <tr>\n",
       "      <th>38</th>\n",
       "      <td>Brain - Caudate (basal ganglia)</td>\n",
       "      <td>246</td>\n",
       "    </tr>\n",
       "    <tr>\n",
       "      <th>39</th>\n",
       "      <td>Brain - Nucleus accumbens (basal ganglia)</td>\n",
       "      <td>246</td>\n",
       "    </tr>\n",
       "    <tr>\n",
       "      <th>27</th>\n",
       "      <td>Prostate</td>\n",
       "      <td>245</td>\n",
       "    </tr>\n",
       "    <tr>\n",
       "      <th>18</th>\n",
       "      <td>Spleen</td>\n",
       "      <td>241</td>\n",
       "    </tr>\n",
       "    <tr>\n",
       "      <th>33</th>\n",
       "      <td>Brain - Cerebellum</td>\n",
       "      <td>241</td>\n",
       "    </tr>\n",
       "    <tr>\n",
       "      <th>5</th>\n",
       "      <td>Artery - Coronary</td>\n",
       "      <td>240</td>\n",
       "    </tr>\n",
       "    <tr>\n",
       "      <th>43</th>\n",
       "      <td>Liver</td>\n",
       "      <td>226</td>\n",
       "    </tr>\n",
       "    <tr>\n",
       "      <th>37</th>\n",
       "      <td>Brain - Cerebellar Hemisphere</td>\n",
       "      <td>215</td>\n",
       "    </tr>\n",
       "    <tr>\n",
       "      <th>1</th>\n",
       "      <td>Brain - Frontal Cortex (BA9)</td>\n",
       "      <td>209</td>\n",
       "    </tr>\n",
       "    <tr>\n",
       "      <th>40</th>\n",
       "      <td>Brain - Putamen (basal ganglia)</td>\n",
       "      <td>205</td>\n",
       "    </tr>\n",
       "    <tr>\n",
       "      <th>41</th>\n",
       "      <td>Brain - Hypothalamus</td>\n",
       "      <td>202</td>\n",
       "    </tr>\n",
       "    <tr>\n",
       "      <th>44</th>\n",
       "      <td>Brain - Hippocampus</td>\n",
       "      <td>197</td>\n",
       "    </tr>\n",
       "    <tr>\n",
       "      <th>25</th>\n",
       "      <td>Small Intestine - Terminal Ileum</td>\n",
       "      <td>187</td>\n",
       "    </tr>\n",
       "    <tr>\n",
       "      <th>8</th>\n",
       "      <td>Ovary</td>\n",
       "      <td>180</td>\n",
       "    </tr>\n",
       "    <tr>\n",
       "      <th>45</th>\n",
       "      <td>Brain - Anterior cingulate cortex (BA24)</td>\n",
       "      <td>176</td>\n",
       "    </tr>\n",
       "    <tr>\n",
       "      <th>36</th>\n",
       "      <td>Cells - EBV-transformed lymphocytes</td>\n",
       "      <td>174</td>\n",
       "    </tr>\n",
       "    <tr>\n",
       "      <th>13</th>\n",
       "      <td>Minor Salivary Gland</td>\n",
       "      <td>162</td>\n",
       "    </tr>\n",
       "    <tr>\n",
       "      <th>42</th>\n",
       "      <td>Brain - Spinal cord (cervical c-1)</td>\n",
       "      <td>159</td>\n",
       "    </tr>\n",
       "    <tr>\n",
       "      <th>10</th>\n",
       "      <td>Vagina</td>\n",
       "      <td>156</td>\n",
       "    </tr>\n",
       "    <tr>\n",
       "      <th>48</th>\n",
       "      <td>Brain - Amygdala</td>\n",
       "      <td>152</td>\n",
       "    </tr>\n",
       "    <tr>\n",
       "      <th>9</th>\n",
       "      <td>Uterus</td>\n",
       "      <td>142</td>\n",
       "    </tr>\n",
       "    <tr>\n",
       "      <th>46</th>\n",
       "      <td>Brain - Substantia nigra</td>\n",
       "      <td>139</td>\n",
       "    </tr>\n",
       "    <tr>\n",
       "      <th>47</th>\n",
       "      <td>Kidney - Cortex</td>\n",
       "      <td>85</td>\n",
       "    </tr>\n",
       "    <tr>\n",
       "      <th>52</th>\n",
       "      <td>Bladder</td>\n",
       "      <td>21</td>\n",
       "    </tr>\n",
       "    <tr>\n",
       "      <th>51</th>\n",
       "      <td>Cervix - Endocervix</td>\n",
       "      <td>10</td>\n",
       "    </tr>\n",
       "    <tr>\n",
       "      <th>49</th>\n",
       "      <td>Cervix - Ectocervix</td>\n",
       "      <td>9</td>\n",
       "    </tr>\n",
       "    <tr>\n",
       "      <th>50</th>\n",
       "      <td>Fallopian Tube</td>\n",
       "      <td>9</td>\n",
       "    </tr>\n",
       "    <tr>\n",
       "      <th>53</th>\n",
       "      <td>Kidney - Medulla</td>\n",
       "      <td>4</td>\n",
       "    </tr>\n",
       "    <tr>\n",
       "      <th>54</th>\n",
       "      <td>Cells - Leukemia cell line (CML)</td>\n",
       "      <td>0</td>\n",
       "    </tr>\n",
       "  </tbody>\n",
       "</table>\n",
       "</div>"
      ],
      "text/plain": [
       "                                       tissue  sample_size\n",
       "3                           Muscle - Skeletal          803\n",
       "0                                 Whole Blood          755\n",
       "29             Skin - Sun Exposed (Lower leg)          701\n",
       "2                      Adipose - Subcutaneous          663\n",
       "4                             Artery - Tibial          663\n",
       "16                                    Thyroid          653\n",
       "30                             Nerve - Tibial          619\n",
       "12        Skin - Not Sun Exposed (Suprapubic)          604\n",
       "17                                       Lung          578\n",
       "21                         Esophagus - Mucosa          555\n",
       "7                Adipose - Visceral (Omentum)          541\n",
       "20                     Esophagus - Muscularis          515\n",
       "34               Cells - Cultured fibroblasts          504\n",
       "11                    Breast - Mammary Tissue          459\n",
       "35                             Artery - Aorta          432\n",
       "31                     Heart - Left Ventricle          432\n",
       "6                    Heart - Atrial Appendage          429\n",
       "26                         Colon - Transverse          406\n",
       "22      Esophagus - Gastroesophageal Junction          375\n",
       "24                            Colon - Sigmoid          373\n",
       "28                                     Testis          361\n",
       "23                                    Stomach          359\n",
       "19                                   Pancreas          328\n",
       "32                                  Pituitary          283\n",
       "15                              Adrenal Gland          258\n",
       "14                             Brain - Cortex          255\n",
       "38            Brain - Caudate (basal ganglia)          246\n",
       "39  Brain - Nucleus accumbens (basal ganglia)          246\n",
       "27                                   Prostate          245\n",
       "18                                     Spleen          241\n",
       "33                         Brain - Cerebellum          241\n",
       "5                           Artery - Coronary          240\n",
       "43                                      Liver          226\n",
       "37              Brain - Cerebellar Hemisphere          215\n",
       "1                Brain - Frontal Cortex (BA9)          209\n",
       "40            Brain - Putamen (basal ganglia)          205\n",
       "41                       Brain - Hypothalamus          202\n",
       "44                        Brain - Hippocampus          197\n",
       "25           Small Intestine - Terminal Ileum          187\n",
       "8                                       Ovary          180\n",
       "45   Brain - Anterior cingulate cortex (BA24)          176\n",
       "36        Cells - EBV-transformed lymphocytes          174\n",
       "13                       Minor Salivary Gland          162\n",
       "42         Brain - Spinal cord (cervical c-1)          159\n",
       "10                                     Vagina          156\n",
       "48                           Brain - Amygdala          152\n",
       "9                                      Uterus          142\n",
       "46                   Brain - Substantia nigra          139\n",
       "47                            Kidney - Cortex           85\n",
       "52                                    Bladder           21\n",
       "51                        Cervix - Endocervix           10\n",
       "49                        Cervix - Ectocervix            9\n",
       "50                             Fallopian Tube            9\n",
       "53                           Kidney - Medulla            4\n",
       "54           Cells - Leukemia cell line (CML)            0"
      ]
     },
     "metadata": {},
     "output_type": "display_data"
    }
   ],
   "source": [
    "tissue_sample_size = tissue_sample_size.sort_values(\"sample_size\", ascending=False)\n",
    "display(tissue_sample_size)"
   ]
  },
  {
   "cell_type": "code",
   "execution_count": 16,
   "id": "78a1a2c1-10fe-4c7e-ae19-91111270816f",
   "metadata": {
    "execution": {
     "iopub.execute_input": "2021-08-31T17:43:07.429998Z",
     "iopub.status.busy": "2021-08-31T17:43:07.429540Z",
     "iopub.status.idle": "2021-08-31T17:43:07.431091Z",
     "shell.execute_reply": "2021-08-31T17:43:07.431435Z"
    },
    "papermill": {
     "duration": 0.037053,
     "end_time": "2021-08-31T17:43:07.431552",
     "exception": false,
     "start_time": "2021-08-31T17:43:07.394499",
     "status": "completed"
    },
    "tags": []
   },
   "outputs": [],
   "source": [
    "# some testing\n",
    "_tmp = tissue_sample_size.set_index(\"tissue\").squeeze()\n",
    "assert _tmp.loc[\"Muscle - Skeletal\"] == 803\n",
    "assert _tmp.loc[\"Whole Blood\"] == 755\n",
    "assert _tmp.loc[\"Skin - Not Sun Exposed (Suprapubic)\"] == 604\n",
    "assert _tmp.loc[\"Kidney - Medulla\"] == 4"
   ]
  },
  {
   "cell_type": "markdown",
   "id": "2ebe3950-b717-4756-b6a7-f6ce7fc00d30",
   "metadata": {
    "papermill": {
     "duration": 0.029679,
     "end_time": "2021-08-31T17:43:07.492598",
     "exception": false,
     "start_time": "2021-08-31T17:43:07.462919",
     "status": "completed"
    },
    "tags": []
   },
   "source": [
    "These numbers match those you can find here: https://gtexportal.org/home/tissueSummaryPage#sampleCountsPerTissue"
   ]
  },
  {
   "cell_type": "markdown",
   "id": "752ccc81-3c77-4a3f-b56e-cdbd862a7ba8",
   "metadata": {
    "papermill": {
     "duration": 0.029511,
     "end_time": "2021-08-31T17:43:07.552125",
     "exception": false,
     "start_time": "2021-08-31T17:43:07.522614",
     "status": "completed"
    },
    "tags": []
   },
   "source": [
    "# Split expression data by tissue"
   ]
  },
  {
   "cell_type": "code",
   "execution_count": 17,
   "id": "83685682-4842-44e9-83c1-405365fee395",
   "metadata": {
    "execution": {
     "iopub.execute_input": "2021-08-31T17:43:07.618458Z",
     "iopub.status.busy": "2021-08-31T17:43:07.617962Z",
     "iopub.status.idle": "2021-08-31T18:30:53.214552Z",
     "shell.execute_reply": "2021-08-31T18:30:53.213004Z"
    },
    "papermill": {
     "duration": 2865.632197,
     "end_time": "2021-08-31T18:30:53.214643",
     "exception": false,
     "start_time": "2021-08-31T17:43:07.582446",
     "status": "completed"
    },
    "tags": []
   },
   "outputs": [
    {
     "name": "stderr",
     "output_type": "stream",
     "text": [
      "Cells - Leukemia cell line (CML): 100%|██████████| 55/55 [47:45<00:00, 52.10s/it]\n"
     ]
    }
   ],
   "source": [
    "pbar = tqdm(tissue_sample_size[\"tissue\"])\n",
    "\n",
    "gene_id_symbol_map_tuples = set()\n",
    "\n",
    "for tissue_name in pbar:\n",
    "    pbar.set_description(tissue_name)\n",
    "\n",
    "    tissue_ids = sample_ids_by_tissue[tissue_name]\n",
    "    if len(tissue_ids) == 0:\n",
    "        continue\n",
    "\n",
    "    tissue_data = pd.read_csv(\n",
    "        conf.GTEX[\"DATA_TPM_GCT_FILE\"],\n",
    "        sep=\"\\t\",\n",
    "        skiprows=2,\n",
    "        usecols=[\"Name\", \"Description\"] + tissue_ids,\n",
    "    )\n",
    "\n",
    "    tissue_data = tissue_data.rename(\n",
    "        columns={\n",
    "            \"Name\": \"gene_ens_id\",\n",
    "            \"Description\": \"gene_symbol\",\n",
    "        }\n",
    "    )\n",
    "\n",
    "    # add gene id / gene symbol to mapping variable\n",
    "    gene_id_symbol_map_tuples.update(\n",
    "        tissue_data[[\"gene_ens_id\", \"gene_symbol\"]].itertuples(index=False)\n",
    "    )\n",
    "\n",
    "    tissue_data = tissue_data.drop(columns=[\"gene_symbol\"]).set_index(\"gene_ens_id\")\n",
    "\n",
    "    assert not tissue_data.isna().any().any()\n",
    "    assert tissue_data.index.is_unique\n",
    "    assert tissue_data.columns.is_unique\n",
    "\n",
    "    # save\n",
    "    tissue_name_simple = simplify_string(simplify_string(tissue_name.lower()))\n",
    "    tissue_data.to_pickle(path=OUTPUT_DIR / f\"gtex_v8_data_{tissue_name_simple}.pkl\")"
   ]
  },
  {
   "cell_type": "markdown",
   "id": "34526b2f-dbc9-48a5-8d09-58f418db1e72",
   "metadata": {
    "papermill": {
     "duration": 0.051814,
     "end_time": "2021-08-31T18:30:53.318161",
     "exception": false,
     "start_time": "2021-08-31T18:30:53.266347",
     "status": "completed"
    },
    "tags": []
   },
   "source": [
    "## Testing"
   ]
  },
  {
   "cell_type": "markdown",
   "id": "7b25c7b5-86d1-4da1-8d98-ec3cb822de4d",
   "metadata": {
    "papermill": {
     "duration": 0.051125,
     "end_time": "2021-08-31T18:30:53.421262",
     "exception": false,
     "start_time": "2021-08-31T18:30:53.370137",
     "status": "completed"
    },
    "tags": []
   },
   "source": [
    "Here I take a random tissue file that was just generate it, read it, and check the expected number of samples, and that the expected sample IDs are there. I also check that same expression values for gene/sample pairs are correct (I read those from a different console, just to make sure I'm not making a mistake here)."
   ]
  },
  {
   "cell_type": "code",
   "execution_count": 18,
   "id": "5ae77408-e4b1-4a54-942a-61bc402718e3",
   "metadata": {
    "execution": {
     "iopub.execute_input": "2021-08-31T18:30:53.530686Z",
     "iopub.status.busy": "2021-08-31T18:30:53.530182Z",
     "iopub.status.idle": "2021-08-31T18:30:53.551944Z",
     "shell.execute_reply": "2021-08-31T18:30:53.551358Z"
    },
    "papermill": {
     "duration": 0.078006,
     "end_time": "2021-08-31T18:30:53.552055",
     "exception": false,
     "start_time": "2021-08-31T18:30:53.474049",
     "status": "completed"
    },
    "tags": []
   },
   "outputs": [],
   "source": [
    "_tmp = pd.read_pickle(OUTPUT_DIR / \"gtex_v8_data_brain_cerebellar_hemisphere.pkl\")"
   ]
  },
  {
   "cell_type": "code",
   "execution_count": 19,
   "id": "f2d6e5a5-1546-4bc3-a9b5-dab6f92d1ceb",
   "metadata": {
    "execution": {
     "iopub.execute_input": "2021-08-31T18:30:53.667020Z",
     "iopub.status.busy": "2021-08-31T18:30:53.666570Z",
     "iopub.status.idle": "2021-08-31T18:30:53.668217Z",
     "shell.execute_reply": "2021-08-31T18:30:53.668636Z"
    },
    "papermill": {
     "duration": 0.061555,
     "end_time": "2021-08-31T18:30:53.668767",
     "exception": false,
     "start_time": "2021-08-31T18:30:53.607212",
     "status": "completed"
    },
    "tags": []
   },
   "outputs": [],
   "source": [
    "# taken from GTEx webpage (see above)\n",
    "assert _tmp.shape[1] == 215"
   ]
  },
  {
   "cell_type": "code",
   "execution_count": 20,
   "id": "bde0b453-bd5f-4f4e-8617-50d1dc30a561",
   "metadata": {
    "execution": {
     "iopub.execute_input": "2021-08-31T18:30:53.776901Z",
     "iopub.status.busy": "2021-08-31T18:30:53.776441Z",
     "iopub.status.idle": "2021-08-31T18:30:53.778383Z",
     "shell.execute_reply": "2021-08-31T18:30:53.778015Z"
    },
    "papermill": {
     "duration": 0.057306,
     "end_time": "2021-08-31T18:30:53.778481",
     "exception": false,
     "start_time": "2021-08-31T18:30:53.721175",
     "status": "completed"
    },
    "tags": []
   },
   "outputs": [],
   "source": [
    "assert \"GTEX-11DXY-0011-R11a-SM-DNZZN\" in _tmp.columns\n",
    "assert \"GTEX-WL46-0011-R11A-SM-3MJFT\" in _tmp.columns\n",
    "assert \"GTEX-ZF28-0011-R11a-SM-4WWEI\" in _tmp.columns"
   ]
  },
  {
   "cell_type": "code",
   "execution_count": 21,
   "id": "878e8939-8784-4adc-9a63-d593fea5fb1a",
   "metadata": {
    "execution": {
     "iopub.execute_input": "2021-08-31T18:30:53.892820Z",
     "iopub.status.busy": "2021-08-31T18:30:53.892329Z",
     "iopub.status.idle": "2021-08-31T18:30:53.896234Z",
     "shell.execute_reply": "2021-08-31T18:30:53.896605Z"
    },
    "papermill": {
     "duration": 0.065418,
     "end_time": "2021-08-31T18:30:53.896725",
     "exception": false,
     "start_time": "2021-08-31T18:30:53.831307",
     "status": "completed"
    },
    "tags": []
   },
   "outputs": [],
   "source": [
    "_v = _tmp.loc[\"ENSG00000223972.5\", \"GTEX-11DXY-0011-R11a-SM-DNZZN\"]\n",
    "assert _v == 0.04045, _v\n",
    "_v = _tmp.loc[\"ENSG00000278267.1\", \"GTEX-11DXY-0011-R11a-SM-DNZZN\"]\n",
    "assert _v == 0.0, _v\n",
    "\n",
    "_v = _tmp.loc[\"ENSG00000233327.10\", \"GTEX-WL46-0011-R11A-SM-3MJFT\"]\n",
    "assert _v == 146.4000, _v\n",
    "_v = _tmp.loc[\"ENSG00000237118.2\", \"GTEX-WL46-0011-R11A-SM-3MJFT\"]\n",
    "assert _v == 0.3357, _v\n",
    "\n",
    "_v = _tmp.loc[\"ENSG00000233327.10\", \"GTEX-ZF28-0011-R11a-SM-4WWEI\"]\n",
    "assert _v == 30.7200, _v\n",
    "_v = _tmp.loc[\"ENSG00000186907.7\", \"GTEX-ZF28-0011-R11a-SM-4WWEI\"]\n",
    "assert _v == 0.94720, _v"
   ]
  },
  {
   "cell_type": "markdown",
   "id": "df5f1e0b-26d4-4993-8ccf-f4313ccbab8d",
   "metadata": {
    "papermill": {
     "duration": 0.052481,
     "end_time": "2021-08-31T18:30:54.002068",
     "exception": false,
     "start_time": "2021-08-31T18:30:53.949587",
     "status": "completed"
    },
    "tags": []
   },
   "source": [
    "# Save gene mappings"
   ]
  },
  {
   "cell_type": "code",
   "execution_count": 22,
   "id": "8f34220c-1da3-4105-8b61-e24b02c1eb11",
   "metadata": {
    "execution": {
     "iopub.execute_input": "2021-08-31T18:30:54.112080Z",
     "iopub.status.busy": "2021-08-31T18:30:54.111573Z",
     "iopub.status.idle": "2021-08-31T18:30:54.114266Z",
     "shell.execute_reply": "2021-08-31T18:30:54.113815Z"
    },
    "papermill": {
     "duration": 0.060215,
     "end_time": "2021-08-31T18:30:54.114362",
     "exception": false,
     "start_time": "2021-08-31T18:30:54.054147",
     "status": "completed"
    },
    "tags": []
   },
   "outputs": [
    {
     "data": {
      "text/plain": [
       "[Pandas(gene_ens_id='ENSG00000145309.5', gene_symbol='CABS1'),\n",
       " Pandas(gene_ens_id='ENSG00000175820.3', gene_symbol='CCDC168'),\n",
       " Pandas(gene_ens_id='ENSG00000083454.21', gene_symbol='P2RX5'),\n",
       " Pandas(gene_ens_id='ENSG00000071794.15', gene_symbol='HLTF'),\n",
       " Pandas(gene_ens_id='ENSG00000211918.1', gene_symbol='IGHD2-15')]"
      ]
     },
     "execution_count": 22,
     "metadata": {},
     "output_type": "execute_result"
    }
   ],
   "source": [
    "list(gene_id_symbol_map_tuples)[:5]"
   ]
  },
  {
   "cell_type": "code",
   "execution_count": 23,
   "id": "c59f8fb5-50aa-4d8d-8fa1-e49b79575eff",
   "metadata": {
    "execution": {
     "iopub.execute_input": "2021-08-31T18:30:54.246834Z",
     "iopub.status.busy": "2021-08-31T18:30:54.227291Z",
     "iopub.status.idle": "2021-08-31T18:30:54.249251Z",
     "shell.execute_reply": "2021-08-31T18:30:54.248689Z"
    },
    "papermill": {
     "duration": 0.081833,
     "end_time": "2021-08-31T18:30:54.249370",
     "exception": false,
     "start_time": "2021-08-31T18:30:54.167537",
     "status": "completed"
    },
    "tags": []
   },
   "outputs": [],
   "source": [
    "gene_mappings = pd.DataFrame(gene_id_symbol_map_tuples)"
   ]
  },
  {
   "cell_type": "code",
   "execution_count": 24,
   "id": "da6ad54e-4653-4f53-81e0-34a37f752bc5",
   "metadata": {
    "execution": {
     "iopub.execute_input": "2021-08-31T18:30:54.366102Z",
     "iopub.status.busy": "2021-08-31T18:30:54.365563Z",
     "iopub.status.idle": "2021-08-31T18:30:54.368232Z",
     "shell.execute_reply": "2021-08-31T18:30:54.367715Z"
    },
    "papermill": {
     "duration": 0.058901,
     "end_time": "2021-08-31T18:30:54.368355",
     "exception": false,
     "start_time": "2021-08-31T18:30:54.309454",
     "status": "completed"
    },
    "tags": []
   },
   "outputs": [
    {
     "data": {
      "text/plain": [
       "(56200, 2)"
      ]
     },
     "execution_count": 24,
     "metadata": {},
     "output_type": "execute_result"
    }
   ],
   "source": [
    "gene_mappings.shape"
   ]
  },
  {
   "cell_type": "code",
   "execution_count": 25,
   "id": "63d308d2-5105-455f-b4b2-54d50ecfae41",
   "metadata": {
    "execution": {
     "iopub.execute_input": "2021-08-31T18:30:54.481253Z",
     "iopub.status.busy": "2021-08-31T18:30:54.480645Z",
     "iopub.status.idle": "2021-08-31T18:30:54.483257Z",
     "shell.execute_reply": "2021-08-31T18:30:54.483648Z"
    },
    "papermill": {
     "duration": 0.061803,
     "end_time": "2021-08-31T18:30:54.483764",
     "exception": false,
     "start_time": "2021-08-31T18:30:54.421961",
     "status": "completed"
    },
    "tags": []
   },
   "outputs": [
    {
     "data": {
      "text/html": [
       "<div>\n",
       "<style scoped>\n",
       "    .dataframe tbody tr th:only-of-type {\n",
       "        vertical-align: middle;\n",
       "    }\n",
       "\n",
       "    .dataframe tbody tr th {\n",
       "        vertical-align: top;\n",
       "    }\n",
       "\n",
       "    .dataframe thead th {\n",
       "        text-align: right;\n",
       "    }\n",
       "</style>\n",
       "<table border=\"1\" class=\"dataframe\">\n",
       "  <thead>\n",
       "    <tr style=\"text-align: right;\">\n",
       "      <th></th>\n",
       "      <th>gene_ens_id</th>\n",
       "      <th>gene_symbol</th>\n",
       "    </tr>\n",
       "  </thead>\n",
       "  <tbody>\n",
       "    <tr>\n",
       "      <th>0</th>\n",
       "      <td>ENSG00000145309.5</td>\n",
       "      <td>CABS1</td>\n",
       "    </tr>\n",
       "    <tr>\n",
       "      <th>1</th>\n",
       "      <td>ENSG00000175820.3</td>\n",
       "      <td>CCDC168</td>\n",
       "    </tr>\n",
       "    <tr>\n",
       "      <th>2</th>\n",
       "      <td>ENSG00000083454.21</td>\n",
       "      <td>P2RX5</td>\n",
       "    </tr>\n",
       "    <tr>\n",
       "      <th>3</th>\n",
       "      <td>ENSG00000071794.15</td>\n",
       "      <td>HLTF</td>\n",
       "    </tr>\n",
       "    <tr>\n",
       "      <th>4</th>\n",
       "      <td>ENSG00000211918.1</td>\n",
       "      <td>IGHD2-15</td>\n",
       "    </tr>\n",
       "  </tbody>\n",
       "</table>\n",
       "</div>"
      ],
      "text/plain": [
       "          gene_ens_id gene_symbol\n",
       "0   ENSG00000145309.5       CABS1\n",
       "1   ENSG00000175820.3     CCDC168\n",
       "2  ENSG00000083454.21       P2RX5\n",
       "3  ENSG00000071794.15        HLTF\n",
       "4   ENSG00000211918.1    IGHD2-15"
      ]
     },
     "execution_count": 25,
     "metadata": {},
     "output_type": "execute_result"
    }
   ],
   "source": [
    "gene_mappings.head()"
   ]
  },
  {
   "cell_type": "markdown",
   "id": "90a5f71f-5f39-4d9c-b6c8-487a0b487aea",
   "metadata": {
    "papermill": {
     "duration": 0.052861,
     "end_time": "2021-08-31T18:30:54.589944",
     "exception": false,
     "start_time": "2021-08-31T18:30:54.537083",
     "status": "completed"
    },
    "tags": []
   },
   "source": [
    "## Save"
   ]
  },
  {
   "cell_type": "code",
   "execution_count": 26,
   "id": "282bfd90-6970-4ef1-8039-89628ac6d0c3",
   "metadata": {
    "execution": {
     "iopub.execute_input": "2021-08-31T18:30:54.703611Z",
     "iopub.status.busy": "2021-08-31T18:30:54.702929Z",
     "iopub.status.idle": "2021-08-31T18:30:54.706129Z",
     "shell.execute_reply": "2021-08-31T18:30:54.705696Z"
    },
    "papermill": {
     "duration": 0.060109,
     "end_time": "2021-08-31T18:30:54.706220",
     "exception": false,
     "start_time": "2021-08-31T18:30:54.646111",
     "status": "completed"
    },
    "tags": []
   },
   "outputs": [
    {
     "data": {
      "text/plain": [
       "PosixPath('/opt/data/data/gtex_v8/gtex_gene_id_symbol_mappings.pkl')"
      ]
     },
     "metadata": {},
     "output_type": "display_data"
    }
   ],
   "source": [
    "output_filename = conf.GTEX[\"DATA_DIR\"] / \"gtex_gene_id_symbol_mappings.pkl\"\n",
    "display(output_filename)"
   ]
  },
  {
   "cell_type": "code",
   "execution_count": 27,
   "id": "1c4810b4-20c7-41dc-978e-7782fce153e0",
   "metadata": {
    "execution": {
     "iopub.execute_input": "2021-08-31T18:30:54.818796Z",
     "iopub.status.busy": "2021-08-31T18:30:54.818300Z",
     "iopub.status.idle": "2021-08-31T18:30:54.841628Z",
     "shell.execute_reply": "2021-08-31T18:30:54.841044Z"
    },
    "papermill": {
     "duration": 0.082531,
     "end_time": "2021-08-31T18:30:54.841747",
     "exception": false,
     "start_time": "2021-08-31T18:30:54.759216",
     "status": "completed"
    },
    "tags": []
   },
   "outputs": [],
   "source": [
    "gene_mappings.to_pickle(output_filename)"
   ]
  },
  {
   "cell_type": "markdown",
   "id": "e96db98c-e6cb-4785-bf31-ea8556663ceb",
   "metadata": {
    "papermill": {
     "duration": 0.053357,
     "end_time": "2021-08-31T18:30:54.957105",
     "exception": false,
     "start_time": "2021-08-31T18:30:54.903748",
     "status": "completed"
    },
    "tags": []
   },
   "source": [
    "## Testing"
   ]
  },
  {
   "cell_type": "code",
   "execution_count": 28,
   "id": "fb095cc7-233d-43d7-bb95-61dfffb6cc53",
   "metadata": {
    "execution": {
     "iopub.execute_input": "2021-08-31T18:30:55.066637Z",
     "iopub.status.busy": "2021-08-31T18:30:55.066171Z",
     "iopub.status.idle": "2021-08-31T18:30:55.078092Z",
     "shell.execute_reply": "2021-08-31T18:30:55.078469Z"
    },
    "papermill": {
     "duration": 0.068332,
     "end_time": "2021-08-31T18:30:55.078598",
     "exception": false,
     "start_time": "2021-08-31T18:30:55.010266",
     "status": "completed"
    },
    "tags": []
   },
   "outputs": [],
   "source": [
    "gene_mappings = pd.read_pickle(output_filename)"
   ]
  },
  {
   "cell_type": "code",
   "execution_count": 29,
   "id": "e8b41751-5f60-480a-9480-d392d15f77e9",
   "metadata": {
    "execution": {
     "iopub.execute_input": "2021-08-31T18:30:55.193887Z",
     "iopub.status.busy": "2021-08-31T18:30:55.193408Z",
     "iopub.status.idle": "2021-08-31T18:30:55.199413Z",
     "shell.execute_reply": "2021-08-31T18:30:55.199018Z"
    },
    "papermill": {
     "duration": 0.067344,
     "end_time": "2021-08-31T18:30:55.199518",
     "exception": false,
     "start_time": "2021-08-31T18:30:55.132174",
     "status": "completed"
    },
    "tags": []
   },
   "outputs": [],
   "source": [
    "# no null\n",
    "assert gene_mappings.dropna(how=\"any\").shape == gene_mappings.shape"
   ]
  },
  {
   "cell_type": "code",
   "execution_count": 30,
   "id": "08b136bc-2e88-4ffa-bc5d-51a76a44316c",
   "metadata": {
    "execution": {
     "iopub.execute_input": "2021-08-31T18:30:55.312506Z",
     "iopub.status.busy": "2021-08-31T18:30:55.312048Z",
     "iopub.status.idle": "2021-08-31T18:30:55.332971Z",
     "shell.execute_reply": "2021-08-31T18:30:55.332441Z"
    },
    "papermill": {
     "duration": 0.079952,
     "end_time": "2021-08-31T18:30:55.333080",
     "exception": false,
     "start_time": "2021-08-31T18:30:55.253128",
     "status": "completed"
    },
    "tags": []
   },
   "outputs": [],
   "source": [
    "# no duplicates\n",
    "assert gene_mappings.drop_duplicates().shape == gene_mappings.shape"
   ]
  },
  {
   "cell_type": "code",
   "execution_count": 31,
   "id": "7b78b652-a5a2-45d1-a88d-a0b30e9e4783",
   "metadata": {
    "execution": {
     "iopub.execute_input": "2021-08-31T18:30:55.456937Z",
     "iopub.status.busy": "2021-08-31T18:30:55.444314Z",
     "iopub.status.idle": "2021-08-31T18:30:55.476067Z",
     "shell.execute_reply": "2021-08-31T18:30:55.475617Z"
    },
    "papermill": {
     "duration": 0.087757,
     "end_time": "2021-08-31T18:30:55.476181",
     "exception": false,
     "start_time": "2021-08-31T18:30:55.388424",
     "status": "completed"
    },
    "tags": []
   },
   "outputs": [],
   "source": [
    "# check gene id and gene symbol lengths (check no empty entries)\n",
    "_tmp = gene_mappings.copy()\n",
    "_tmp = _tmp.assign(id_len=gene_mappings[\"gene_ens_id\"].apply(len))\n",
    "_tmp = _tmp.assign(symbol_len=gene_mappings[\"gene_symbol\"].apply(len))"
   ]
  },
  {
   "cell_type": "code",
   "execution_count": 32,
   "id": "01dc364c-aeed-4f3a-bacb-b290cec33a7e",
   "metadata": {
    "execution": {
     "iopub.execute_input": "2021-08-31T18:30:55.590359Z",
     "iopub.status.busy": "2021-08-31T18:30:55.589728Z",
     "iopub.status.idle": "2021-08-31T18:30:55.593658Z",
     "shell.execute_reply": "2021-08-31T18:30:55.593207Z"
    },
    "papermill": {
     "duration": 0.059879,
     "end_time": "2021-08-31T18:30:55.593754",
     "exception": false,
     "start_time": "2021-08-31T18:30:55.533875",
     "status": "completed"
    },
    "tags": []
   },
   "outputs": [
    {
     "data": {
      "text/plain": [
       "array([17, 18, 23, 24])"
      ]
     },
     "metadata": {},
     "output_type": "display_data"
    }
   ],
   "source": [
    "_tmp_unique = _tmp[\"id_len\"].unique()\n",
    "display(_tmp_unique)"
   ]
  },
  {
   "cell_type": "code",
   "execution_count": 33,
   "id": "fbda3126-3bd4-487c-9ebf-1575a3fcb955",
   "metadata": {
    "execution": {
     "iopub.execute_input": "2021-08-31T18:30:55.709757Z",
     "iopub.status.busy": "2021-08-31T18:30:55.709297Z",
     "iopub.status.idle": "2021-08-31T18:30:55.716698Z",
     "shell.execute_reply": "2021-08-31T18:30:55.717043Z"
    },
    "papermill": {
     "duration": 0.065485,
     "end_time": "2021-08-31T18:30:55.717163",
     "exception": false,
     "start_time": "2021-08-31T18:30:55.651678",
     "status": "completed"
    },
    "tags": []
   },
   "outputs": [
    {
     "data": {
      "text/html": [
       "<div>\n",
       "<style scoped>\n",
       "    .dataframe tbody tr th:only-of-type {\n",
       "        vertical-align: middle;\n",
       "    }\n",
       "\n",
       "    .dataframe tbody tr th {\n",
       "        vertical-align: top;\n",
       "    }\n",
       "\n",
       "    .dataframe thead th {\n",
       "        text-align: right;\n",
       "    }\n",
       "</style>\n",
       "<table border=\"1\" class=\"dataframe\">\n",
       "  <thead>\n",
       "    <tr style=\"text-align: right;\">\n",
       "      <th></th>\n",
       "      <th>gene_ens_id</th>\n",
       "      <th>gene_symbol</th>\n",
       "      <th>id_len</th>\n",
       "      <th>symbol_len</th>\n",
       "    </tr>\n",
       "  </thead>\n",
       "  <tbody>\n",
       "    <tr>\n",
       "      <th>0</th>\n",
       "      <td>ENSG00000145309.5</td>\n",
       "      <td>CABS1</td>\n",
       "      <td>17</td>\n",
       "      <td>5</td>\n",
       "    </tr>\n",
       "    <tr>\n",
       "      <th>2</th>\n",
       "      <td>ENSG00000083454.21</td>\n",
       "      <td>P2RX5</td>\n",
       "      <td>18</td>\n",
       "      <td>5</td>\n",
       "    </tr>\n",
       "    <tr>\n",
       "      <th>836</th>\n",
       "      <td>ENSG00000230542.6_PAR_Y</td>\n",
       "      <td>LINC00102</td>\n",
       "      <td>23</td>\n",
       "      <td>9</td>\n",
       "    </tr>\n",
       "    <tr>\n",
       "      <th>4631</th>\n",
       "      <td>ENSG00000169084.13_PAR_Y</td>\n",
       "      <td>DHRSX</td>\n",
       "      <td>24</td>\n",
       "      <td>5</td>\n",
       "    </tr>\n",
       "  </tbody>\n",
       "</table>\n",
       "</div>"
      ],
      "text/plain": [
       "                   gene_ens_id gene_symbol  id_len  symbol_len\n",
       "0            ENSG00000145309.5       CABS1      17           5\n",
       "2           ENSG00000083454.21       P2RX5      18           5\n",
       "836    ENSG00000230542.6_PAR_Y   LINC00102      23           9\n",
       "4631  ENSG00000169084.13_PAR_Y       DHRSX      24           5"
      ]
     },
     "execution_count": 33,
     "metadata": {},
     "output_type": "execute_result"
    }
   ],
   "source": [
    "_tmp.drop_duplicates(subset=[\"id_len\"])"
   ]
  },
  {
   "cell_type": "markdown",
   "id": "e5891b45-ff1b-45c8-a1d7-776afcf7d3de",
   "metadata": {
    "papermill": {
     "duration": 0.053303,
     "end_time": "2021-08-31T18:30:55.825074",
     "exception": false,
     "start_time": "2021-08-31T18:30:55.771771",
     "status": "completed"
    },
    "tags": []
   },
   "source": [
    "Unique gene id lengths seem to be valid"
   ]
  },
  {
   "cell_type": "code",
   "execution_count": 34,
   "id": "a6ed0534-8313-46e8-a6ad-e52137ce84c7",
   "metadata": {
    "execution": {
     "iopub.execute_input": "2021-08-31T18:30:55.936119Z",
     "iopub.status.busy": "2021-08-31T18:30:55.935617Z",
     "iopub.status.idle": "2021-08-31T18:30:55.937160Z",
     "shell.execute_reply": "2021-08-31T18:30:55.937519Z"
    },
    "papermill": {
     "duration": 0.059324,
     "end_time": "2021-08-31T18:30:55.937634",
     "exception": false,
     "start_time": "2021-08-31T18:30:55.878310",
     "status": "completed"
    },
    "tags": []
   },
   "outputs": [],
   "source": [
    "assert set(_tmp_unique) == set([17, 18, 24, 23])"
   ]
  },
  {
   "cell_type": "code",
   "execution_count": 35,
   "id": "763feb07-e902-49e4-97d6-27d726cd05d1",
   "metadata": {
    "execution": {
     "iopub.execute_input": "2021-08-31T18:30:56.047762Z",
     "iopub.status.busy": "2021-08-31T18:30:56.047171Z",
     "iopub.status.idle": "2021-08-31T18:30:56.051148Z",
     "shell.execute_reply": "2021-08-31T18:30:56.050697Z"
    },
    "papermill": {
     "duration": 0.059913,
     "end_time": "2021-08-31T18:30:56.051242",
     "exception": false,
     "start_time": "2021-08-31T18:30:55.991329",
     "status": "completed"
    },
    "tags": []
   },
   "outputs": [
    {
     "data": {
      "text/plain": [
       "array([ 5,  7,  4,  8,  6, 12, 13,  9, 11,  3, 10, 15,  2, 14, 16, 17,  1,\n",
       "       18, 19])"
      ]
     },
     "metadata": {},
     "output_type": "display_data"
    }
   ],
   "source": [
    "_tmp_unique = _tmp[\"symbol_len\"].unique()\n",
    "display(_tmp_unique)"
   ]
  },
  {
   "cell_type": "markdown",
   "id": "85335313-5c7e-4095-a9d4-57a3406c5255",
   "metadata": {
    "papermill": {
     "duration": 0.053256,
     "end_time": "2021-08-31T18:30:56.159286",
     "exception": false,
     "start_time": "2021-08-31T18:30:56.106030",
     "status": "completed"
    },
    "tags": []
   },
   "source": [
    "No gene symbol is empty, that's good"
   ]
  },
  {
   "cell_type": "code",
   "execution_count": 36,
   "id": "71955da7-ed15-443d-ac4f-97481bf367f8",
   "metadata": {
    "execution": {
     "iopub.execute_input": "2021-08-31T18:30:56.269217Z",
     "iopub.status.busy": "2021-08-31T18:30:56.268777Z",
     "iopub.status.idle": "2021-08-31T18:30:56.271012Z",
     "shell.execute_reply": "2021-08-31T18:30:56.270551Z"
    },
    "papermill": {
     "duration": 0.058514,
     "end_time": "2021-08-31T18:30:56.271109",
     "exception": false,
     "start_time": "2021-08-31T18:30:56.212595",
     "status": "completed"
    },
    "tags": []
   },
   "outputs": [],
   "source": [
    "assert (_tmp_unique > 0).all()"
   ]
  },
  {
   "cell_type": "code",
   "execution_count": 37,
   "id": "52b6e7a7-57ef-4e4b-8ede-64459cbdd1fa",
   "metadata": {
    "execution": {
     "iopub.execute_input": "2021-08-31T18:30:56.382075Z",
     "iopub.status.busy": "2021-08-31T18:30:56.381618Z",
     "iopub.status.idle": "2021-08-31T18:30:56.383128Z",
     "shell.execute_reply": "2021-08-31T18:30:56.383494Z"
    },
    "papermill": {
     "duration": 0.058572,
     "end_time": "2021-08-31T18:30:56.383608",
     "exception": false,
     "start_time": "2021-08-31T18:30:56.325036",
     "status": "completed"
    },
    "tags": []
   },
   "outputs": [],
   "source": [
    "assert _tmp_unique.min() == 1\n",
    "assert _tmp_unique.max() == 19"
   ]
  },
  {
   "cell_type": "code",
   "execution_count": 38,
   "id": "f9b36e8b-a18f-42db-9054-e9e0b6ee0bc2",
   "metadata": {
    "execution": {
     "iopub.execute_input": "2021-08-31T18:30:56.495129Z",
     "iopub.status.busy": "2021-08-31T18:30:56.494679Z",
     "iopub.status.idle": "2021-08-31T18:30:56.503089Z",
     "shell.execute_reply": "2021-08-31T18:30:56.502637Z"
    },
    "papermill": {
     "duration": 0.065755,
     "end_time": "2021-08-31T18:30:56.503185",
     "exception": false,
     "start_time": "2021-08-31T18:30:56.437430",
     "status": "completed"
    },
    "tags": []
   },
   "outputs": [
    {
     "data": {
      "text/html": [
       "<div>\n",
       "<style scoped>\n",
       "    .dataframe tbody tr th:only-of-type {\n",
       "        vertical-align: middle;\n",
       "    }\n",
       "\n",
       "    .dataframe tbody tr th {\n",
       "        vertical-align: top;\n",
       "    }\n",
       "\n",
       "    .dataframe thead th {\n",
       "        text-align: right;\n",
       "    }\n",
       "</style>\n",
       "<table border=\"1\" class=\"dataframe\">\n",
       "  <thead>\n",
       "    <tr style=\"text-align: right;\">\n",
       "      <th></th>\n",
       "      <th>gene_ens_id</th>\n",
       "      <th>gene_symbol</th>\n",
       "      <th>id_len</th>\n",
       "      <th>symbol_len</th>\n",
       "    </tr>\n",
       "  </thead>\n",
       "  <tbody>\n",
       "    <tr>\n",
       "      <th>5157</th>\n",
       "      <td>ENSG00000164458.9</td>\n",
       "      <td>T</td>\n",
       "      <td>17</td>\n",
       "      <td>1</td>\n",
       "    </tr>\n",
       "    <tr>\n",
       "      <th>152</th>\n",
       "      <td>ENSG00000274210.1</td>\n",
       "      <td>U1</td>\n",
       "      <td>17</td>\n",
       "      <td>2</td>\n",
       "    </tr>\n",
       "    <tr>\n",
       "      <th>44</th>\n",
       "      <td>ENSG00000198805.11</td>\n",
       "      <td>PNP</td>\n",
       "      <td>18</td>\n",
       "      <td>3</td>\n",
       "    </tr>\n",
       "    <tr>\n",
       "      <th>3</th>\n",
       "      <td>ENSG00000071794.15</td>\n",
       "      <td>HLTF</td>\n",
       "      <td>18</td>\n",
       "      <td>4</td>\n",
       "    </tr>\n",
       "    <tr>\n",
       "      <th>0</th>\n",
       "      <td>ENSG00000145309.5</td>\n",
       "      <td>CABS1</td>\n",
       "      <td>17</td>\n",
       "      <td>5</td>\n",
       "    </tr>\n",
       "    <tr>\n",
       "      <th>5</th>\n",
       "      <td>ENSG00000256812.1</td>\n",
       "      <td>CAPNS2</td>\n",
       "      <td>17</td>\n",
       "      <td>6</td>\n",
       "    </tr>\n",
       "    <tr>\n",
       "      <th>1</th>\n",
       "      <td>ENSG00000175820.3</td>\n",
       "      <td>CCDC168</td>\n",
       "      <td>17</td>\n",
       "      <td>7</td>\n",
       "    </tr>\n",
       "    <tr>\n",
       "      <th>4</th>\n",
       "      <td>ENSG00000211918.1</td>\n",
       "      <td>IGHD2-15</td>\n",
       "      <td>17</td>\n",
       "      <td>8</td>\n",
       "    </tr>\n",
       "    <tr>\n",
       "      <th>10</th>\n",
       "      <td>ENSG00000199691.1</td>\n",
       "      <td>RN7SKP173</td>\n",
       "      <td>17</td>\n",
       "      <td>9</td>\n",
       "    </tr>\n",
       "    <tr>\n",
       "      <th>46</th>\n",
       "      <td>ENSG00000271977.1</td>\n",
       "      <td>AC226119.4</td>\n",
       "      <td>17</td>\n",
       "      <td>10</td>\n",
       "    </tr>\n",
       "    <tr>\n",
       "      <th>14</th>\n",
       "      <td>ENSG00000280071.3</td>\n",
       "      <td>CH507-9B2.3</td>\n",
       "      <td>17</td>\n",
       "      <td>11</td>\n",
       "    </tr>\n",
       "    <tr>\n",
       "      <th>6</th>\n",
       "      <td>ENSG00000273987.1</td>\n",
       "      <td>RP11-585P4.6</td>\n",
       "      <td>17</td>\n",
       "      <td>12</td>\n",
       "    </tr>\n",
       "    <tr>\n",
       "      <th>8</th>\n",
       "      <td>ENSG00000270055.1</td>\n",
       "      <td>CTD-3092A11.2</td>\n",
       "      <td>17</td>\n",
       "      <td>13</td>\n",
       "    </tr>\n",
       "    <tr>\n",
       "      <th>282</th>\n",
       "      <td>ENSG00000279246.1</td>\n",
       "      <td>RP11-286N22.14</td>\n",
       "      <td>17</td>\n",
       "      <td>14</td>\n",
       "    </tr>\n",
       "    <tr>\n",
       "      <th>51</th>\n",
       "      <td>ENSG00000227838.1</td>\n",
       "      <td>RP1-213J1P__B.1</td>\n",
       "      <td>17</td>\n",
       "      <td>15</td>\n",
       "    </tr>\n",
       "    <tr>\n",
       "      <th>1753</th>\n",
       "      <td>ENSG00000234345.2</td>\n",
       "      <td>LL0XNC01-116E7.1</td>\n",
       "      <td>17</td>\n",
       "      <td>16</td>\n",
       "    </tr>\n",
       "    <tr>\n",
       "      <th>4989</th>\n",
       "      <td>ENSG00000232350.1</td>\n",
       "      <td>LL22NC03-102D1.16</td>\n",
       "      <td>17</td>\n",
       "      <td>17</td>\n",
       "    </tr>\n",
       "    <tr>\n",
       "      <th>8770</th>\n",
       "      <td>ENSG00000255899.1</td>\n",
       "      <td>XXbac-BPG299F13.16</td>\n",
       "      <td>17</td>\n",
       "      <td>18</td>\n",
       "    </tr>\n",
       "    <tr>\n",
       "      <th>10081</th>\n",
       "      <td>ENSG00000270935.1</td>\n",
       "      <td>XXbac-BPGBPG24O18.1</td>\n",
       "      <td>17</td>\n",
       "      <td>19</td>\n",
       "    </tr>\n",
       "  </tbody>\n",
       "</table>\n",
       "</div>"
      ],
      "text/plain": [
       "              gene_ens_id          gene_symbol  id_len  symbol_len\n",
       "5157    ENSG00000164458.9                    T      17           1\n",
       "152     ENSG00000274210.1                   U1      17           2\n",
       "44     ENSG00000198805.11                  PNP      18           3\n",
       "3      ENSG00000071794.15                 HLTF      18           4\n",
       "0       ENSG00000145309.5                CABS1      17           5\n",
       "5       ENSG00000256812.1               CAPNS2      17           6\n",
       "1       ENSG00000175820.3              CCDC168      17           7\n",
       "4       ENSG00000211918.1             IGHD2-15      17           8\n",
       "10      ENSG00000199691.1            RN7SKP173      17           9\n",
       "46      ENSG00000271977.1           AC226119.4      17          10\n",
       "14      ENSG00000280071.3          CH507-9B2.3      17          11\n",
       "6       ENSG00000273987.1         RP11-585P4.6      17          12\n",
       "8       ENSG00000270055.1        CTD-3092A11.2      17          13\n",
       "282     ENSG00000279246.1       RP11-286N22.14      17          14\n",
       "51      ENSG00000227838.1      RP1-213J1P__B.1      17          15\n",
       "1753    ENSG00000234345.2     LL0XNC01-116E7.1      17          16\n",
       "4989    ENSG00000232350.1    LL22NC03-102D1.16      17          17\n",
       "8770    ENSG00000255899.1   XXbac-BPG299F13.16      17          18\n",
       "10081   ENSG00000270935.1  XXbac-BPGBPG24O18.1      17          19"
      ]
     },
     "execution_count": 38,
     "metadata": {},
     "output_type": "execute_result"
    }
   ],
   "source": [
    "# show how different gene symbol's lengths look like\n",
    "_tmp.drop_duplicates(subset=[\"symbol_len\"]).sort_values(\"symbol_len\")"
   ]
  },
  {
   "cell_type": "markdown",
   "id": "2302ba84-1dde-4949-92d2-bf036f934717",
   "metadata": {
    "papermill": {
     "duration": 0.053914,
     "end_time": "2021-08-31T18:30:56.611279",
     "exception": false,
     "start_time": "2021-08-31T18:30:56.557365",
     "status": "completed"
    },
    "tags": []
   },
   "source": [
    "Unique gene symbol lengths seem to be valid"
   ]
  },
  {
   "cell_type": "code",
   "execution_count": 39,
   "id": "3dc54ed8-52a2-4075-b9c3-261c612919fa",
   "metadata": {
    "execution": {
     "iopub.execute_input": "2021-08-31T18:30:56.729731Z",
     "iopub.status.busy": "2021-08-31T18:30:56.725889Z",
     "iopub.status.idle": "2021-08-31T18:30:56.737354Z",
     "shell.execute_reply": "2021-08-31T18:30:56.736898Z"
    },
    "papermill": {
     "duration": 0.06846,
     "end_time": "2021-08-31T18:30:56.737450",
     "exception": false,
     "start_time": "2021-08-31T18:30:56.668990",
     "status": "completed"
    },
    "tags": []
   },
   "outputs": [],
   "source": [
    "assert gene_mappings[\"gene_ens_id\"].unique().shape[0] == gene_mappings.shape[0]"
   ]
  },
  {
   "cell_type": "code",
   "execution_count": 40,
   "id": "4682c165-5719-41d7-8e0a-4a833f3567ce",
   "metadata": {
    "execution": {
     "iopub.execute_input": "2021-08-31T18:30:56.852671Z",
     "iopub.status.busy": "2021-08-31T18:30:56.852207Z",
     "iopub.status.idle": "2021-08-31T18:30:56.869310Z",
     "shell.execute_reply": "2021-08-31T18:30:56.868787Z"
    },
    "papermill": {
     "duration": 0.077681,
     "end_time": "2021-08-31T18:30:56.869421",
     "exception": false,
     "start_time": "2021-08-31T18:30:56.791740",
     "status": "completed"
    },
    "tags": []
   },
   "outputs": [
    {
     "data": {
      "text/plain": [
       "(54592,)"
      ]
     },
     "metadata": {},
     "output_type": "display_data"
    }
   ],
   "source": [
    "# some gene symbols map to multiple gene ids\n",
    "display(gene_mappings[\"gene_symbol\"].unique().shape)\n",
    "assert gene_mappings[\"gene_symbol\"].unique().shape[0] < gene_mappings.shape[0]"
   ]
  },
  {
   "cell_type": "code",
   "execution_count": 41,
   "id": "16f7d4c6-5514-4db3-88e5-7969ced73e56",
   "metadata": {
    "execution": {
     "iopub.execute_input": "2021-08-31T18:30:56.999560Z",
     "iopub.status.busy": "2021-08-31T18:30:56.993637Z",
     "iopub.status.idle": "2021-08-31T18:30:57.002367Z",
     "shell.execute_reply": "2021-08-31T18:30:57.001972Z"
    },
    "papermill": {
     "duration": 0.072911,
     "end_time": "2021-08-31T18:30:57.002464",
     "exception": false,
     "start_time": "2021-08-31T18:30:56.929553",
     "status": "completed"
    },
    "tags": []
   },
   "outputs": [
    {
     "data": {
      "text/html": [
       "<div>\n",
       "<style scoped>\n",
       "    .dataframe tbody tr th:only-of-type {\n",
       "        vertical-align: middle;\n",
       "    }\n",
       "\n",
       "    .dataframe tbody tr th {\n",
       "        vertical-align: top;\n",
       "    }\n",
       "\n",
       "    .dataframe thead th {\n",
       "        text-align: right;\n",
       "    }\n",
       "</style>\n",
       "<table border=\"1\" class=\"dataframe\">\n",
       "  <thead>\n",
       "    <tr style=\"text-align: right;\">\n",
       "      <th></th>\n",
       "      <th>gene_ens_id</th>\n",
       "      <th>gene_symbol</th>\n",
       "    </tr>\n",
       "  </thead>\n",
       "  <tbody>\n",
       "    <tr>\n",
       "      <th>30745</th>\n",
       "      <td>ENSG00000252830.2</td>\n",
       "      <td>5S_rRNA</td>\n",
       "    </tr>\n",
       "    <tr>\n",
       "      <th>31643</th>\n",
       "      <td>ENSG00000274759.1</td>\n",
       "      <td>5S_rRNA</td>\n",
       "    </tr>\n",
       "    <tr>\n",
       "      <th>3514</th>\n",
       "      <td>ENSG00000276861.1</td>\n",
       "      <td>5S_rRNA</td>\n",
       "    </tr>\n",
       "    <tr>\n",
       "      <th>37081</th>\n",
       "      <td>ENSG00000201285.1</td>\n",
       "      <td>5S_rRNA</td>\n",
       "    </tr>\n",
       "    <tr>\n",
       "      <th>38398</th>\n",
       "      <td>ENSG00000283433.1</td>\n",
       "      <td>5S_rRNA</td>\n",
       "    </tr>\n",
       "    <tr>\n",
       "      <th>...</th>\n",
       "      <td>...</td>\n",
       "      <td>...</td>\n",
       "    </tr>\n",
       "    <tr>\n",
       "      <th>55070</th>\n",
       "      <td>ENSG00000277306.1</td>\n",
       "      <td>uc_338</td>\n",
       "    </tr>\n",
       "    <tr>\n",
       "      <th>44089</th>\n",
       "      <td>ENSG00000275414.1</td>\n",
       "      <td>uc_338</td>\n",
       "    </tr>\n",
       "    <tr>\n",
       "      <th>25910</th>\n",
       "      <td>ENSG00000276673.1</td>\n",
       "      <td>uc_338</td>\n",
       "    </tr>\n",
       "    <tr>\n",
       "      <th>17324</th>\n",
       "      <td>ENSG00000277948.1</td>\n",
       "      <td>uc_338</td>\n",
       "    </tr>\n",
       "    <tr>\n",
       "      <th>37764</th>\n",
       "      <td>ENSG00000278643.1</td>\n",
       "      <td>uc_338</td>\n",
       "    </tr>\n",
       "  </tbody>\n",
       "</table>\n",
       "<p>1807 rows × 2 columns</p>\n",
       "</div>"
      ],
      "text/plain": [
       "             gene_ens_id gene_symbol\n",
       "30745  ENSG00000252830.2     5S_rRNA\n",
       "31643  ENSG00000274759.1     5S_rRNA\n",
       "3514   ENSG00000276861.1     5S_rRNA\n",
       "37081  ENSG00000201285.1     5S_rRNA\n",
       "38398  ENSG00000283433.1     5S_rRNA\n",
       "...                  ...         ...\n",
       "55070  ENSG00000277306.1      uc_338\n",
       "44089  ENSG00000275414.1      uc_338\n",
       "25910  ENSG00000276673.1      uc_338\n",
       "17324  ENSG00000277948.1      uc_338\n",
       "37764  ENSG00000278643.1      uc_338\n",
       "\n",
       "[1807 rows x 2 columns]"
      ]
     },
     "execution_count": 41,
     "metadata": {},
     "output_type": "execute_result"
    }
   ],
   "source": [
    "# show some duplicated gene symbols\n",
    "gene_mappings[gene_mappings[\"gene_symbol\"].duplicated(keep=False)].sort_values(\n",
    "    \"gene_symbol\"\n",
    ")"
   ]
  },
  {
   "cell_type": "code",
   "execution_count": 42,
   "id": "a439d27f-6ae4-47ce-bd89-0d5bb2100f7d",
   "metadata": {
    "execution": {
     "iopub.execute_input": "2021-08-31T18:30:57.116244Z",
     "iopub.status.busy": "2021-08-31T18:30:57.115704Z",
     "iopub.status.idle": "2021-08-31T18:30:57.120317Z",
     "shell.execute_reply": "2021-08-31T18:30:57.120678Z"
    },
    "papermill": {
     "duration": 0.062796,
     "end_time": "2021-08-31T18:30:57.120804",
     "exception": false,
     "start_time": "2021-08-31T18:30:57.058008",
     "status": "completed"
    },
    "tags": []
   },
   "outputs": [],
   "source": [
    "_tmp = gene_mappings.set_index(\"gene_ens_id\").squeeze()"
   ]
  },
  {
   "cell_type": "code",
   "execution_count": 43,
   "id": "78f3b40d-a624-4c17-9c01-f339cd09c8d9",
   "metadata": {
    "execution": {
     "iopub.execute_input": "2021-08-31T18:30:57.239727Z",
     "iopub.status.busy": "2021-08-31T18:30:57.239237Z",
     "iopub.status.idle": "2021-08-31T18:30:57.241515Z",
     "shell.execute_reply": "2021-08-31T18:30:57.241074Z"
    },
    "papermill": {
     "duration": 0.066265,
     "end_time": "2021-08-31T18:30:57.241609",
     "exception": false,
     "start_time": "2021-08-31T18:30:57.175344",
     "status": "completed"
    },
    "tags": []
   },
   "outputs": [],
   "source": [
    "assert _tmp.loc[\"ENSG00000223972.5\"] == \"DDX11L1\"\n",
    "assert _tmp.loc[\"ENSG00000243485.5\"] == \"MIR1302-2HG\"\n",
    "assert _tmp.loc[\"ENSG00000274059.1\"] == \"5S_rRNA\"  # repeated gene\n",
    "assert _tmp.loc[\"ENSG00000275305.1\"] == \"5S_rRNA\"  # repeated gene"
   ]
  },
  {
   "cell_type": "code",
   "execution_count": null,
   "id": "03747a27-4636-48e5-8c1f-3a75fc174a4d",
   "metadata": {
    "papermill": {
     "duration": 0.054319,
     "end_time": "2021-08-31T18:30:57.350914",
     "exception": false,
     "start_time": "2021-08-31T18:30:57.296595",
     "status": "completed"
    },
    "tags": []
   },
   "outputs": [],
   "source": []
  }
 ],
 "metadata": {
  "jupytext": {
   "cell_metadata_filter": "all,-execution,-papermill,-trusted"
  },
  "kernelspec": {
   "display_name": "Python 3 (ipykernel)",
   "language": "python",
   "name": "python3"
  },
  "language_info": {
   "codemirror_mode": {
    "name": "ipython",
    "version": 3
   },
   "file_extension": ".py",
   "mimetype": "text/x-python",
   "name": "python",
   "nbconvert_exporter": "python",
   "pygments_lexer": "ipython3",
   "version": "3.9.6"
  },
  "papermill": {
   "default_parameters": {},
   "duration": 2875.755894,
   "end_time": "2021-08-31T18:30:57.615966",
   "environment_variables": {},
   "exception": null,
   "input_path": "nbs/05_preprocessing/00-gtex_v8-split_by_tissue.ipynb",
   "output_path": "nbs/05_preprocessing/00-gtex_v8-split_by_tissue.run.ipynb",
   "parameters": {},
   "start_time": "2021-08-31T17:43:01.860072",
   "version": "2.3.3"
  },
  "toc-autonumbering": true
 },
 "nbformat": 4,
 "nbformat_minor": 5
}
