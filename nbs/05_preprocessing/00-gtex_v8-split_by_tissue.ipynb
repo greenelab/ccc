{
 "cells": [
  {
   "cell_type": "markdown",
   "id": "871d5ed2-95c8-48db-b3b3-394fea7a035b",
   "metadata": {},
   "source": [
    "# Description"
   ]
  },
  {
   "cell_type": "markdown",
   "id": "06b29f41-a8f0-4274-8f72-a5b7cc19bc4e",
   "metadata": {},
   "source": [
    "It splits gene expression data from GTEx v8 by tissue and saves a gene id/symbol mapping file."
   ]
  },
  {
   "cell_type": "markdown",
   "id": "d05acbf3-ee34-4e31-b359-58d5ffde4213",
   "metadata": {},
   "source": [
    "# Modules"
   ]
  },
  {
   "cell_type": "code",
   "execution_count": null,
   "id": "9e466133-c98a-4ca1-9c62-99a70576aca4",
   "metadata": {},
   "outputs": [],
   "source": [
    "import pickle\n",
    "from pathlib import Path\n",
    "\n",
    "import pandas as pd\n",
    "from tqdm.notebook import tqdm\n",
    "\n",
    "from clustermatch.utils import simplify_string\n",
    "from clustermatch import conf"
   ]
  },
  {
   "cell_type": "markdown",
   "id": "4da399b4-f533-4cd0-8de7-a9afde79abb4",
   "metadata": {},
   "source": [
    "# Settings"
   ]
  },
  {
   "cell_type": "code",
   "execution_count": null,
   "id": "0ef4566f-122f-49e8-99be-491308219cc1",
   "metadata": {},
   "outputs": [],
   "source": [
    "OUTPUT_DIR = conf.GTEX[\"BASE_DIR\"] / \"data_by_tissue\"\n",
    "OUTPUT_DIR.mkdir(parents=True, exist_ok=True)\n",
    "display(OUTPUT_DIR)"
   ]
  },
  {
   "cell_type": "markdown",
   "id": "16f23bce-a6f7-4f87-b267-44595c764052",
   "metadata": {},
   "source": [
    "# Data loading"
   ]
  },
  {
   "cell_type": "markdown",
   "id": "631412aa-9587-4aaa-8c44-9530a34eb0eb",
   "metadata": {},
   "source": [
    "## GTEx v8"
   ]
  },
  {
   "cell_type": "markdown",
   "id": "eb3d94d7-16f5-4f19-bdd9-5f1c5601e9ce",
   "metadata": {},
   "source": [
    "### Sample metadata"
   ]
  },
  {
   "cell_type": "code",
   "execution_count": null,
   "id": "611ebc4f-3e85-4dc5-9b6f-86500cd74ead",
   "metadata": {},
   "outputs": [],
   "source": [
    "gtex_sample_attrs = pd.read_csv(\n",
    "    conf.GTEX[\"SAMPLE_ATTRS_FILE\"],\n",
    "    sep=\"\\t\",\n",
    ")"
   ]
  },
  {
   "cell_type": "code",
   "execution_count": null,
   "id": "1af7dd82-a9fb-49ab-834b-d92aad219b1d",
   "metadata": {},
   "outputs": [],
   "source": [
    "gtex_sample_attrs.shape"
   ]
  },
  {
   "cell_type": "code",
   "execution_count": null,
   "id": "f9028a27-560d-4272-8bc3-ec2e06fce0f3",
   "metadata": {},
   "outputs": [],
   "source": [
    "gtex_sample_attrs.head()"
   ]
  },
  {
   "cell_type": "markdown",
   "id": "28461cfc-c44b-486f-81c6-f8ef2b6069ed",
   "metadata": {},
   "source": [
    "# Get tissues names"
   ]
  },
  {
   "cell_type": "code",
   "execution_count": null,
   "id": "2eeb0170-5773-406f-963b-3e9f04913c93",
   "metadata": {},
   "outputs": [],
   "source": [
    "gtex_tissues = gtex_sample_attrs[\"SMTSD\"].unique()\n",
    "display(len(gtex_tissues))\n",
    "display(gtex_tissues)"
   ]
  },
  {
   "cell_type": "markdown",
   "id": "9473383c-a46d-4e4e-972b-20eedd2a7ba8",
   "metadata": {},
   "source": [
    "# Get sample IDs for each tissue"
   ]
  },
  {
   "cell_type": "code",
   "execution_count": null,
   "id": "c290f8e8-7157-475f-a7b8-0d7bb0054aff",
   "metadata": {},
   "outputs": [],
   "source": [
    "# first, get all sample IDs with expression data\n",
    "gtex_all_sample_ids_with_expr_data = set(\n",
    "    pd.read_csv(\n",
    "        conf.GTEX[\"DATA_TPM_GCT_FILE\"],\n",
    "        sep=\"\\t\",\n",
    "        skiprows=2,\n",
    "        nrows=1,\n",
    "        usecols=lambda x: x not in (\"Name\", \"Description\"),\n",
    "    ).columns\n",
    ")"
   ]
  },
  {
   "cell_type": "code",
   "execution_count": null,
   "id": "10e682e6-fee2-4cd9-92f6-faef8db2e3fb",
   "metadata": {},
   "outputs": [],
   "source": [
    "len(gtex_all_sample_ids_with_expr_data)"
   ]
  },
  {
   "cell_type": "code",
   "execution_count": null,
   "id": "105eb0a9-6af2-42b2-8bdc-2b30bc586cfc",
   "metadata": {},
   "outputs": [],
   "source": [
    "list(gtex_all_sample_ids_with_expr_data)[:10]"
   ]
  },
  {
   "cell_type": "code",
   "execution_count": null,
   "id": "2149ee5c-9d8b-41ee-91fd-27eb7f4db559",
   "metadata": {},
   "outputs": [],
   "source": [
    "# get sample IDs by tissue\n",
    "sample_ids_by_tissue = {\n",
    "    tissue_name: sorted(\n",
    "        list(\n",
    "            gtex_all_sample_ids_with_expr_data.intersection(\n",
    "                set(\n",
    "                    gtex_sample_attrs[gtex_sample_attrs[\"SMTSD\"] == tissue_name][\n",
    "                        \"SAMPID\"\n",
    "                    ].tolist()\n",
    "                )\n",
    "            )\n",
    "        )\n",
    "    )\n",
    "    for tissue_name in gtex_tissues\n",
    "}"
   ]
  },
  {
   "cell_type": "code",
   "execution_count": null,
   "id": "9f8624ee-0b6a-4a87-a3ad-7f9961181c5b",
   "metadata": {},
   "outputs": [],
   "source": [
    "assert len(gtex_tissues) == len(sample_ids_by_tissue)"
   ]
  },
  {
   "cell_type": "code",
   "execution_count": null,
   "id": "a252ff14-6572-47ec-bf77-03f984f7ec8d",
   "metadata": {},
   "outputs": [],
   "source": [
    "sample_ids_by_tissue[\"Whole Blood\"][:10]"
   ]
  },
  {
   "cell_type": "code",
   "execution_count": null,
   "id": "99018348-c7db-4543-9d07-d2755f7f9e3d",
   "metadata": {},
   "outputs": [],
   "source": [
    "# all IDs are unique\n",
    "assert all(\n",
    "    [\n",
    "        len(sample_ids_by_tissue[tissue_name])\n",
    "        == len(set(sample_ids_by_tissue[tissue_name]))\n",
    "        for tissue_name in sample_ids_by_tissue.keys()\n",
    "    ]\n",
    ")"
   ]
  },
  {
   "cell_type": "markdown",
   "id": "c6ffdc31-9348-40b0-a912-bb0b6e107d80",
   "metadata": {},
   "source": [
    "## Show sample size by tissue"
   ]
  },
  {
   "cell_type": "code",
   "execution_count": null,
   "id": "364a1dfb-ba5e-4d3c-b7ab-6fcc0ffa206d",
   "metadata": {},
   "outputs": [],
   "source": [
    "tissue_sample_size = pd.DataFrame(\n",
    "    [{\"tissue\": k, \"sample_size\": len(v)} for k, v in sample_ids_by_tissue.items()]\n",
    ")"
   ]
  },
  {
   "cell_type": "code",
   "execution_count": null,
   "id": "793701d1-2c84-43fe-9674-ba436f9e9efe",
   "metadata": {},
   "outputs": [],
   "source": [
    "tissue_sample_size = tissue_sample_size.sort_values(\"sample_size\", ascending=False)\n",
    "display(tissue_sample_size)"
   ]
  },
  {
   "cell_type": "code",
   "execution_count": null,
   "id": "78a1a2c1-10fe-4c7e-ae19-91111270816f",
   "metadata": {},
   "outputs": [],
   "source": [
    "# some testing\n",
    "_tmp = tissue_sample_size.set_index(\"tissue\").squeeze()\n",
    "assert _tmp.loc[\"Muscle - Skeletal\"] == 803\n",
    "assert _tmp.loc[\"Whole Blood\"] == 755\n",
    "assert _tmp.loc[\"Skin - Not Sun Exposed (Suprapubic)\"] == 604\n",
    "assert _tmp.loc[\"Kidney - Medulla\"] == 4"
   ]
  },
  {
   "cell_type": "markdown",
   "id": "2ebe3950-b717-4756-b6a7-f6ce7fc00d30",
   "metadata": {},
   "source": [
    "These numbers match those you can find here: https://gtexportal.org/home/tissueSummaryPage#sampleCountsPerTissue"
   ]
  },
  {
   "cell_type": "markdown",
   "id": "752ccc81-3c77-4a3f-b56e-cdbd862a7ba8",
   "metadata": {},
   "source": [
    "# Split expression data by tissue"
   ]
  },
  {
   "cell_type": "code",
   "execution_count": null,
   "id": "83685682-4842-44e9-83c1-405365fee395",
   "metadata": {},
   "outputs": [],
   "source": [
    "pbar = tqdm(tissue_sample_size[\"tissue\"])\n",
    "\n",
    "gene_id_symbol_map_tuples = set()\n",
    "\n",
    "for tissue_name in pbar:\n",
    "    pbar.set_description(tissue_name)\n",
    "\n",
    "    tissue_ids = sample_ids_by_tissue[tissue_name]\n",
    "    if len(tissue_ids) == 0:\n",
    "        continue\n",
    "\n",
    "    tissue_data = pd.read_csv(\n",
    "        conf.GTEX[\"DATA_TPM_GCT_FILE\"],\n",
    "        sep=\"\\t\",\n",
    "        skiprows=2,\n",
    "        usecols=[\"Name\", \"Description\"] + tissue_ids,\n",
    "    )\n",
    "\n",
    "    tissue_data = tissue_data.rename(\n",
    "        columns={\n",
    "            \"Name\": \"gene_ens_id\",\n",
    "            \"Description\": \"gene_symbol\",\n",
    "        }\n",
    "    )\n",
    "\n",
    "    # add gene id / gene symbol to mapping variable\n",
    "    gene_id_symbol_map_tuples.update(\n",
    "        tissue_data[[\"gene_ens_id\", \"gene_symbol\"]].itertuples(index=False)\n",
    "    )\n",
    "\n",
    "    tissue_data = tissue_data.drop(columns=[\"gene_symbol\"]).set_index(\"gene_ens_id\")\n",
    "\n",
    "    assert tissue_data.index.is_unique\n",
    "    assert tissue_data.columns.is_unique\n",
    "\n",
    "    # save\n",
    "    tissue_name_simple = simplify_string(simplify_string(tissue_name.lower()))\n",
    "    tissue_data.to_pickle(path=OUTPUT_DIR / f\"gtex_v8_data_{tissue_name_simple}.pkl\")"
   ]
  },
  {
   "cell_type": "markdown",
   "id": "34526b2f-dbc9-48a5-8d09-58f418db1e72",
   "metadata": {},
   "source": [
    "## Testing"
   ]
  },
  {
   "cell_type": "code",
   "execution_count": null,
   "id": "5ae77408-e4b1-4a54-942a-61bc402718e3",
   "metadata": {},
   "outputs": [],
   "source": [
    "_tmp = pd.read_pickle(OUTPUT_DIR / \"gtex_v8_data_brain_cerebellar_hemisphere.pkl\")"
   ]
  },
  {
   "cell_type": "code",
   "execution_count": null,
   "id": "f2d6e5a5-1546-4bc3-a9b5-dab6f92d1ceb",
   "metadata": {},
   "outputs": [],
   "source": [
    "# taken from GTEx webpage (see above)\n",
    "assert _tmp.shape[1] == 215"
   ]
  },
  {
   "cell_type": "code",
   "execution_count": null,
   "id": "bde0b453-bd5f-4f4e-8617-50d1dc30a561",
   "metadata": {},
   "outputs": [],
   "source": [
    "assert \"GTEX-11DXY-0011-R11a-SM-DNZZN\" in _tmp.columns\n",
    "assert \"GTEX-WL46-0011-R11A-SM-3MJFT\" in _tmp.columns\n",
    "assert \"GTEX-ZF28-0011-R11a-SM-4WWEI\" in _tmp.columns"
   ]
  },
  {
   "cell_type": "code",
   "execution_count": null,
   "id": "878e8939-8784-4adc-9a63-d593fea5fb1a",
   "metadata": {},
   "outputs": [],
   "source": [
    "_v = _tmp.loc[\"ENSG00000223972.5\", \"GTEX-11DXY-0011-R11a-SM-DNZZN\"]\n",
    "assert _v == 0.04045, _v\n",
    "_v = _tmp.loc[\"ENSG00000278267.1\", \"GTEX-11DXY-0011-R11a-SM-DNZZN\"]\n",
    "assert _v == 0.0, _v\n",
    "\n",
    "_v = _tmp.loc[\"ENSG00000233327.10\", \"GTEX-WL46-0011-R11A-SM-3MJFT\"]\n",
    "assert _v == 146.4000, _v\n",
    "_v = _tmp.loc[\"ENSG00000237118.2\", \"GTEX-WL46-0011-R11A-SM-3MJFT\"]\n",
    "assert _v == 0.3357, _v\n",
    "\n",
    "_v = _tmp.loc[\"ENSG00000233327.10\", \"GTEX-ZF28-0011-R11a-SM-4WWEI\"]\n",
    "assert _v == 30.7200, _v\n",
    "_v = _tmp.loc[\"ENSG00000186907.7\", \"GTEX-ZF28-0011-R11a-SM-4WWEI\"]\n",
    "assert _v == 0.94720, _v"
   ]
  },
  {
   "cell_type": "markdown",
   "id": "df5f1e0b-26d4-4993-8ccf-f4313ccbab8d",
   "metadata": {},
   "source": [
    "# Save gene mappings"
   ]
  },
  {
   "cell_type": "code",
   "execution_count": null,
   "id": "8f34220c-1da3-4105-8b61-e24b02c1eb11",
   "metadata": {},
   "outputs": [],
   "source": [
    "list(gene_id_symbol_map_tuples)[:5]"
   ]
  },
  {
   "cell_type": "code",
   "execution_count": null,
   "id": "c59f8fb5-50aa-4d8d-8fa1-e49b79575eff",
   "metadata": {},
   "outputs": [],
   "source": [
    "gene_mappings = pd.DataFrame(gene_id_symbol_map_tuples)"
   ]
  },
  {
   "cell_type": "code",
   "execution_count": null,
   "id": "da6ad54e-4653-4f53-81e0-34a37f752bc5",
   "metadata": {},
   "outputs": [],
   "source": [
    "gene_mappings.shape"
   ]
  },
  {
   "cell_type": "code",
   "execution_count": null,
   "id": "63d308d2-5105-455f-b4b2-54d50ecfae41",
   "metadata": {},
   "outputs": [],
   "source": [
    "gene_mappings.head()"
   ]
  },
  {
   "cell_type": "markdown",
   "id": "90a5f71f-5f39-4d9c-b6c8-487a0b487aea",
   "metadata": {},
   "source": [
    "## Save"
   ]
  },
  {
   "cell_type": "code",
   "execution_count": null,
   "id": "282bfd90-6970-4ef1-8039-89628ac6d0c3",
   "metadata": {},
   "outputs": [],
   "source": [
    "output_filename = conf.GTEX[\"BASE_DIR\"] / \"gtex_gene_id_symbol_mappings.pkl\"\n",
    "display(output_filename)"
   ]
  },
  {
   "cell_type": "code",
   "execution_count": null,
   "id": "1c4810b4-20c7-41dc-978e-7782fce153e0",
   "metadata": {},
   "outputs": [],
   "source": [
    "gene_mappings.to_pickle(output_filename)"
   ]
  },
  {
   "cell_type": "markdown",
   "id": "e96db98c-e6cb-4785-bf31-ea8556663ceb",
   "metadata": {},
   "source": [
    "## Testing"
   ]
  },
  {
   "cell_type": "code",
   "execution_count": null,
   "id": "fb095cc7-233d-43d7-bb95-61dfffb6cc53",
   "metadata": {},
   "outputs": [],
   "source": [
    "gene_mappings = pd.read_pickle(output_filename)"
   ]
  },
  {
   "cell_type": "code",
   "execution_count": null,
   "id": "e8b41751-5f60-480a-9480-d392d15f77e9",
   "metadata": {},
   "outputs": [],
   "source": [
    "# no null\n",
    "assert gene_mappings.dropna(how=\"any\").shape == gene_mappings.shape"
   ]
  },
  {
   "cell_type": "code",
   "execution_count": null,
   "id": "08b136bc-2e88-4ffa-bc5d-51a76a44316c",
   "metadata": {},
   "outputs": [],
   "source": [
    "# no duplicates\n",
    "assert gene_mappings.drop_duplicates().shape == gene_mappings.shape"
   ]
  },
  {
   "cell_type": "code",
   "execution_count": null,
   "id": "7b78b652-a5a2-45d1-a88d-a0b30e9e4783",
   "metadata": {},
   "outputs": [],
   "source": [
    "# check gene id and gene symbol lengths (check no empty entries)\n",
    "_tmp = gene_mappings.copy()\n",
    "_tmp = _tmp.assign(id_len=gene_mappings[\"gene_ens_id\"].apply(len))\n",
    "_tmp = _tmp.assign(symbol_len=gene_mappings[\"gene_symbol\"].apply(len))"
   ]
  },
  {
   "cell_type": "code",
   "execution_count": null,
   "id": "01dc364c-aeed-4f3a-bacb-b290cec33a7e",
   "metadata": {},
   "outputs": [],
   "source": [
    "_tmp_unique = _tmp[\"id_len\"].unique()\n",
    "display(_tmp_unique)"
   ]
  },
  {
   "cell_type": "code",
   "execution_count": null,
   "id": "fbda3126-3bd4-487c-9ebf-1575a3fcb955",
   "metadata": {},
   "outputs": [],
   "source": [
    "_tmp.drop_duplicates(subset=[\"id_len\"])"
   ]
  },
  {
   "cell_type": "markdown",
   "id": "e5891b45-ff1b-45c8-a1d7-776afcf7d3de",
   "metadata": {},
   "source": [
    "Unique gene id lengths seem to be valid"
   ]
  },
  {
   "cell_type": "code",
   "execution_count": null,
   "id": "a6ed0534-8313-46e8-a6ad-e52137ce84c7",
   "metadata": {},
   "outputs": [],
   "source": [
    "assert list(_tmp_unique) == [17, 18, 24, 23]"
   ]
  },
  {
   "cell_type": "code",
   "execution_count": null,
   "id": "763feb07-e902-49e4-97d6-27d726cd05d1",
   "metadata": {},
   "outputs": [],
   "source": [
    "_tmp_unique = _tmp[\"symbol_len\"].unique()\n",
    "display(_tmp_unique)"
   ]
  },
  {
   "cell_type": "markdown",
   "id": "85335313-5c7e-4095-a9d4-57a3406c5255",
   "metadata": {},
   "source": [
    "No gene symbol is empty, that's good"
   ]
  },
  {
   "cell_type": "code",
   "execution_count": null,
   "id": "71955da7-ed15-443d-ac4f-97481bf367f8",
   "metadata": {},
   "outputs": [],
   "source": [
    "assert (_tmp_unique > 0).all()"
   ]
  },
  {
   "cell_type": "code",
   "execution_count": null,
   "id": "52b6e7a7-57ef-4e4b-8ede-64459cbdd1fa",
   "metadata": {},
   "outputs": [],
   "source": [
    "assert _tmp_unique.min() == 1\n",
    "assert _tmp_unique.max() == 19"
   ]
  },
  {
   "cell_type": "code",
   "execution_count": null,
   "id": "f9b36e8b-a18f-42db-9054-e9e0b6ee0bc2",
   "metadata": {},
   "outputs": [],
   "source": [
    "# show how different gene symbol's lengths look like\n",
    "_tmp.drop_duplicates(subset=[\"symbol_len\"]).sort_values(\"symbol_len\")"
   ]
  },
  {
   "cell_type": "markdown",
   "id": "2302ba84-1dde-4949-92d2-bf036f934717",
   "metadata": {},
   "source": [
    "Unique gene symbol lengths seem to be valid"
   ]
  },
  {
   "cell_type": "code",
   "execution_count": null,
   "id": "3dc54ed8-52a2-4075-b9c3-261c612919fa",
   "metadata": {},
   "outputs": [],
   "source": [
    "assert gene_mappings[\"gene_ens_id\"].unique().shape[0] == gene_mappings.shape[0]"
   ]
  },
  {
   "cell_type": "code",
   "execution_count": null,
   "id": "4682c165-5719-41d7-8e0a-4a833f3567ce",
   "metadata": {},
   "outputs": [],
   "source": [
    "# some gene symbols map to multiple gene ids\n",
    "display(gene_mappings[\"gene_symbol\"].unique().shape)\n",
    "assert gene_mappings[\"gene_symbol\"].unique().shape[0] < gene_mappings.shape[0]"
   ]
  },
  {
   "cell_type": "code",
   "execution_count": null,
   "id": "16f7d4c6-5514-4db3-88e5-7969ced73e56",
   "metadata": {},
   "outputs": [],
   "source": [
    "# show some duplicated gene symbols\n",
    "gene_mappings[gene_mappings[\"gene_symbol\"].duplicated(keep=False)].sort_values(\n",
    "    \"gene_symbol\"\n",
    ")"
   ]
  },
  {
   "cell_type": "code",
   "execution_count": null,
   "id": "a439d27f-6ae4-47ce-bd89-0d5bb2100f7d",
   "metadata": {},
   "outputs": [],
   "source": [
    "_tmp = gene_mappings.set_index(\"gene_ens_id\").squeeze()"
   ]
  },
  {
   "cell_type": "code",
   "execution_count": null,
   "id": "78f3b40d-a624-4c17-9c01-f339cd09c8d9",
   "metadata": {},
   "outputs": [],
   "source": [
    "assert _tmp.loc[\"ENSG00000223972.5\"] == \"DDX11L1\"\n",
    "assert _tmp.loc[\"ENSG00000243485.5\"] == \"MIR1302-2HG\"\n",
    "assert _tmp.loc[\"ENSG00000274059.1\"] == \"5S_rRNA\"  # repeated gene\n",
    "assert _tmp.loc[\"ENSG00000275305.1\"] == \"5S_rRNA\"  # repeated gene"
   ]
  },
  {
   "cell_type": "code",
   "execution_count": null,
   "id": "03747a27-4636-48e5-8c1f-3a75fc174a4d",
   "metadata": {},
   "outputs": [],
   "source": []
  }
 ],
 "metadata": {
  "jupytext": {
   "cell_metadata_filter": "all,-execution,-papermill,-trusted"
  },
  "kernelspec": {
   "display_name": "Python 3 (ipykernel)",
   "language": "python",
   "name": "python3"
  },
  "language_info": {
   "codemirror_mode": {
    "name": "ipython",
    "version": 3
   },
   "file_extension": ".py",
   "mimetype": "text/x-python",
   "name": "python",
   "nbconvert_exporter": "python",
   "pygments_lexer": "ipython3",
   "version": "3.9.6"
  },
  "toc-autonumbering": true
 },
 "nbformat": 4,
 "nbformat_minor": 5
}
