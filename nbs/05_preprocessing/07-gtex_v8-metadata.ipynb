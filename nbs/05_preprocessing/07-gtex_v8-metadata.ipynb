{
 "cells": [
  {
   "cell_type": "markdown",
   "id": "b9c35e72-e087-4511-9899-5da25f3ff7ba",
   "metadata": {
    "papermill": {
     "duration": 0.011787,
     "end_time": "2023-09-06T21:40:27.321155",
     "exception": false,
     "start_time": "2023-09-06T21:40:27.309368",
     "status": "completed"
    },
    "tags": []
   },
   "source": [
    "# Description"
   ]
  },
  {
   "cell_type": "markdown",
   "id": "9ef6707b-70c2-44ce-92dd-96782b4b539e",
   "metadata": {
    "papermill": {
     "duration": 0.003399,
     "end_time": "2023-09-06T21:40:27.331046",
     "exception": false,
     "start_time": "2023-09-06T21:40:27.327647",
     "status": "completed"
    },
    "tags": []
   },
   "source": [
    "It reads GTEx v8 metadata on samples and subjects and writes a file with that info."
   ]
  },
  {
   "cell_type": "markdown",
   "id": "5d4ae4df-624d-4951-917c-880462cfb658",
   "metadata": {
    "papermill": {
     "duration": 0.001957,
     "end_time": "2023-09-06T21:40:27.335509",
     "exception": false,
     "start_time": "2023-09-06T21:40:27.333552",
     "status": "completed"
    },
    "tags": []
   },
   "source": [
    "# Modules"
   ]
  },
  {
   "cell_type": "code",
   "execution_count": 1,
   "id": "2dcd0e52-236a-44cd-9cd9-71cca1232338",
   "metadata": {
    "execution": {
     "iopub.execute_input": "2023-09-06T21:40:27.340459Z",
     "iopub.status.busy": "2023-09-06T21:40:27.340065Z",
     "iopub.status.idle": "2023-09-06T21:40:27.441907Z",
     "shell.execute_reply": "2023-09-06T21:40:27.441637Z"
    },
    "papermill": {
     "duration": 0.10531,
     "end_time": "2023-09-06T21:40:27.442816",
     "exception": false,
     "start_time": "2023-09-06T21:40:27.337506",
     "status": "completed"
    },
    "tags": []
   },
   "outputs": [],
   "source": [
    "import re\n",
    "\n",
    "import pandas as pd\n",
    "\n",
    "from ccc import conf"
   ]
  },
  {
   "cell_type": "markdown",
   "id": "e9ef3211-8d35-4b4b-be45-2de384b6fdee",
   "metadata": {
    "papermill": {
     "duration": 0.009678,
     "end_time": "2023-09-06T21:40:27.454877",
     "exception": false,
     "start_time": "2023-09-06T21:40:27.445199",
     "status": "completed"
    },
    "tags": []
   },
   "source": [
    "# Settings"
   ]
  },
  {
   "cell_type": "markdown",
   "id": "649a237d-595e-4bd7-a607-7c1773b36cb5",
   "metadata": {
    "papermill": {
     "duration": 0.002076,
     "end_time": "2023-09-06T21:40:27.459134",
     "exception": false,
     "start_time": "2023-09-06T21:40:27.457058",
     "status": "completed"
    },
    "tags": []
   },
   "source": [
    "# Paths"
   ]
  },
  {
   "cell_type": "code",
   "execution_count": 2,
   "id": "1ea8a834-34dd-480f-b85f-5706aa4db334",
   "metadata": {
    "execution": {
     "iopub.execute_input": "2023-09-06T21:40:27.463589Z",
     "iopub.status.busy": "2023-09-06T21:40:27.463535Z",
     "iopub.status.idle": "2023-09-06T21:40:27.465312Z",
     "shell.execute_reply": "2023-09-06T21:40:27.465055Z"
    },
    "papermill": {
     "duration": 0.004665,
     "end_time": "2023-09-06T21:40:27.465842",
     "exception": false,
     "start_time": "2023-09-06T21:40:27.461177",
     "status": "completed"
    },
    "tags": []
   },
   "outputs": [],
   "source": [
    "TISSUE_DIR = conf.GTEX[\"DATA_DIR\"] / \"data_by_tissue\"\n",
    "assert TISSUE_DIR.exists()"
   ]
  },
  {
   "cell_type": "code",
   "execution_count": 3,
   "id": "e299e696-c524-46fb-a200-4f40d22d111c",
   "metadata": {
    "execution": {
     "iopub.execute_input": "2023-09-06T21:40:27.470053Z",
     "iopub.status.busy": "2023-09-06T21:40:27.470001Z",
     "iopub.status.idle": "2023-09-06T21:40:27.473357Z",
     "shell.execute_reply": "2023-09-06T21:40:27.473223Z"
    },
    "papermill": {
     "duration": 0.005937,
     "end_time": "2023-09-06T21:40:27.473762",
     "exception": false,
     "start_time": "2023-09-06T21:40:27.467825",
     "status": "completed"
    },
    "tags": []
   },
   "outputs": [
    {
     "data": {
      "text/plain": [
       "PosixPath('/opt/data/data/gtex_v8')"
      ]
     },
     "metadata": {},
     "output_type": "display_data"
    }
   ],
   "source": [
    "OUTPUT_DIR = conf.GTEX[\"DATA_DIR\"]\n",
    "display(OUTPUT_DIR)\n",
    "OUTPUT_DIR.mkdir(parents=True, exist_ok=True)"
   ]
  },
  {
   "cell_type": "markdown",
   "id": "35453032-07b1-4e68-9f65-f8ec0d0ebcd1",
   "metadata": {
    "papermill": {
     "duration": 0.002023,
     "end_time": "2023-09-06T21:40:27.477864",
     "exception": false,
     "start_time": "2023-09-06T21:40:27.475841",
     "status": "completed"
    },
    "tags": []
   },
   "source": [
    "# Data"
   ]
  },
  {
   "cell_type": "markdown",
   "id": "76b3390f-360a-45e8-b38d-f14f92823125",
   "metadata": {
    "papermill": {
     "duration": 0.00205,
     "end_time": "2023-09-06T21:40:27.481955",
     "exception": false,
     "start_time": "2023-09-06T21:40:27.479905",
     "status": "completed"
    },
    "tags": []
   },
   "source": [
    "## GTEx samples info"
   ]
  },
  {
   "cell_type": "code",
   "execution_count": 4,
   "id": "1189bee1-90d0-4b6c-9362-a7ccc2bcb501",
   "metadata": {
    "execution": {
     "iopub.execute_input": "2023-09-06T21:40:27.486358Z",
     "iopub.status.busy": "2023-09-06T21:40:27.486257Z",
     "iopub.status.idle": "2023-09-06T21:40:27.487625Z",
     "shell.execute_reply": "2023-09-06T21:40:27.487492Z"
    },
    "papermill": {
     "duration": 0.004132,
     "end_time": "2023-09-06T21:40:27.488118",
     "exception": false,
     "start_time": "2023-09-06T21:40:27.483986",
     "status": "completed"
    },
    "tags": []
   },
   "outputs": [],
   "source": [
    "assert conf.GTEX[\"SAMPLE_ATTRS_FILE\"].exists(), \"Sample files does not exist\""
   ]
  },
  {
   "cell_type": "code",
   "execution_count": 5,
   "id": "b6e7065b-e4da-423d-a8d8-0e11eb37a61f",
   "metadata": {
    "execution": {
     "iopub.execute_input": "2023-09-06T21:40:27.492400Z",
     "iopub.status.busy": "2023-09-06T21:40:27.492348Z",
     "iopub.status.idle": "2023-09-06T21:40:27.556537Z",
     "shell.execute_reply": "2023-09-06T21:40:27.556264Z"
    },
    "papermill": {
     "duration": 0.06713,
     "end_time": "2023-09-06T21:40:27.557263",
     "exception": false,
     "start_time": "2023-09-06T21:40:27.490133",
     "status": "completed"
    },
    "tags": []
   },
   "outputs": [],
   "source": [
    "gtex_samples = pd.read_csv(\n",
    "    conf.GTEX[\"SAMPLE_ATTRS_FILE\"],\n",
    "    sep=\"\\t\",\n",
    "    index_col=\"SAMPID\",\n",
    ")"
   ]
  },
  {
   "cell_type": "code",
   "execution_count": 6,
   "id": "eb098bd6-b615-4200-b041-777b88927977",
   "metadata": {
    "execution": {
     "iopub.execute_input": "2023-09-06T21:40:27.562316Z",
     "iopub.status.busy": "2023-09-06T21:40:27.562216Z",
     "iopub.status.idle": "2023-09-06T21:40:27.565067Z",
     "shell.execute_reply": "2023-09-06T21:40:27.564838Z"
    },
    "papermill": {
     "duration": 0.005826,
     "end_time": "2023-09-06T21:40:27.565497",
     "exception": false,
     "start_time": "2023-09-06T21:40:27.559671",
     "status": "completed"
    },
    "tags": []
   },
   "outputs": [
    {
     "data": {
      "text/plain": [
       "(22951, 62)"
      ]
     },
     "metadata": {},
     "output_type": "display_data"
    }
   ],
   "source": [
    "display(gtex_samples.shape)\n",
    "assert gtex_samples.index.is_unique"
   ]
  },
  {
   "cell_type": "code",
   "execution_count": 7,
   "id": "05963bde-6c8c-42ee-8298-8fd96de87fcb",
   "metadata": {
    "execution": {
     "iopub.execute_input": "2023-09-06T21:40:27.569887Z",
     "iopub.status.busy": "2023-09-06T21:40:27.569834Z",
     "iopub.status.idle": "2023-09-06T21:40:27.577319Z",
     "shell.execute_reply": "2023-09-06T21:40:27.577187Z"
    },
    "papermill": {
     "duration": 0.010169,
     "end_time": "2023-09-06T21:40:27.577728",
     "exception": false,
     "start_time": "2023-09-06T21:40:27.567559",
     "status": "completed"
    },
    "tags": []
   },
   "outputs": [
    {
     "data": {
      "text/html": [
       "<div>\n",
       "<style scoped>\n",
       "    .dataframe tbody tr th:only-of-type {\n",
       "        vertical-align: middle;\n",
       "    }\n",
       "\n",
       "    .dataframe tbody tr th {\n",
       "        vertical-align: top;\n",
       "    }\n",
       "\n",
       "    .dataframe thead th {\n",
       "        text-align: right;\n",
       "    }\n",
       "</style>\n",
       "<table border=\"1\" class=\"dataframe\">\n",
       "  <thead>\n",
       "    <tr style=\"text-align: right;\">\n",
       "      <th></th>\n",
       "      <th>SMATSSCR</th>\n",
       "      <th>SMCENTER</th>\n",
       "      <th>SMPTHNTS</th>\n",
       "      <th>SMRIN</th>\n",
       "      <th>SMTS</th>\n",
       "      <th>SMTSD</th>\n",
       "      <th>SMUBRID</th>\n",
       "      <th>SMTSISCH</th>\n",
       "      <th>SMTSPAX</th>\n",
       "      <th>SMNABTCH</th>\n",
       "      <th>...</th>\n",
       "      <th>SME1ANTI</th>\n",
       "      <th>SMSPLTRD</th>\n",
       "      <th>SMBSMMRT</th>\n",
       "      <th>SME1SNSE</th>\n",
       "      <th>SME1PCTS</th>\n",
       "      <th>SMRRNART</th>\n",
       "      <th>SME1MPRT</th>\n",
       "      <th>SMNUM5CD</th>\n",
       "      <th>SMDPMPRT</th>\n",
       "      <th>SME2PCTS</th>\n",
       "    </tr>\n",
       "    <tr>\n",
       "      <th>SAMPID</th>\n",
       "      <th></th>\n",
       "      <th></th>\n",
       "      <th></th>\n",
       "      <th></th>\n",
       "      <th></th>\n",
       "      <th></th>\n",
       "      <th></th>\n",
       "      <th></th>\n",
       "      <th></th>\n",
       "      <th></th>\n",
       "      <th></th>\n",
       "      <th></th>\n",
       "      <th></th>\n",
       "      <th></th>\n",
       "      <th></th>\n",
       "      <th></th>\n",
       "      <th></th>\n",
       "      <th></th>\n",
       "      <th></th>\n",
       "      <th></th>\n",
       "      <th></th>\n",
       "    </tr>\n",
       "  </thead>\n",
       "  <tbody>\n",
       "    <tr>\n",
       "      <th>GTEX-1117F-0003-SM-58Q7G</th>\n",
       "      <td>NaN</td>\n",
       "      <td>B1</td>\n",
       "      <td>NaN</td>\n",
       "      <td>NaN</td>\n",
       "      <td>Blood</td>\n",
       "      <td>Whole Blood</td>\n",
       "      <td>0013756</td>\n",
       "      <td>1188.0</td>\n",
       "      <td>NaN</td>\n",
       "      <td>BP-38516</td>\n",
       "      <td>...</td>\n",
       "      <td>NaN</td>\n",
       "      <td>NaN</td>\n",
       "      <td>NaN</td>\n",
       "      <td>NaN</td>\n",
       "      <td>NaN</td>\n",
       "      <td>NaN</td>\n",
       "      <td>NaN</td>\n",
       "      <td>NaN</td>\n",
       "      <td>NaN</td>\n",
       "      <td>NaN</td>\n",
       "    </tr>\n",
       "    <tr>\n",
       "      <th>GTEX-1117F-0003-SM-5DWSB</th>\n",
       "      <td>NaN</td>\n",
       "      <td>B1</td>\n",
       "      <td>NaN</td>\n",
       "      <td>NaN</td>\n",
       "      <td>Blood</td>\n",
       "      <td>Whole Blood</td>\n",
       "      <td>0013756</td>\n",
       "      <td>1188.0</td>\n",
       "      <td>NaN</td>\n",
       "      <td>BP-38516</td>\n",
       "      <td>...</td>\n",
       "      <td>NaN</td>\n",
       "      <td>NaN</td>\n",
       "      <td>NaN</td>\n",
       "      <td>NaN</td>\n",
       "      <td>NaN</td>\n",
       "      <td>NaN</td>\n",
       "      <td>NaN</td>\n",
       "      <td>NaN</td>\n",
       "      <td>NaN</td>\n",
       "      <td>NaN</td>\n",
       "    </tr>\n",
       "    <tr>\n",
       "      <th>GTEX-1117F-0003-SM-6WBT7</th>\n",
       "      <td>NaN</td>\n",
       "      <td>B1</td>\n",
       "      <td>NaN</td>\n",
       "      <td>NaN</td>\n",
       "      <td>Blood</td>\n",
       "      <td>Whole Blood</td>\n",
       "      <td>0013756</td>\n",
       "      <td>1188.0</td>\n",
       "      <td>NaN</td>\n",
       "      <td>BP-38516</td>\n",
       "      <td>...</td>\n",
       "      <td>NaN</td>\n",
       "      <td>NaN</td>\n",
       "      <td>NaN</td>\n",
       "      <td>NaN</td>\n",
       "      <td>NaN</td>\n",
       "      <td>NaN</td>\n",
       "      <td>NaN</td>\n",
       "      <td>NaN</td>\n",
       "      <td>NaN</td>\n",
       "      <td>NaN</td>\n",
       "    </tr>\n",
       "    <tr>\n",
       "      <th>GTEX-1117F-0011-R10a-SM-AHZ7F</th>\n",
       "      <td>NaN</td>\n",
       "      <td>B1, A1</td>\n",
       "      <td>NaN</td>\n",
       "      <td>NaN</td>\n",
       "      <td>Brain</td>\n",
       "      <td>Brain - Frontal Cortex (BA9)</td>\n",
       "      <td>0009834</td>\n",
       "      <td>1193.0</td>\n",
       "      <td>NaN</td>\n",
       "      <td>NaN</td>\n",
       "      <td>...</td>\n",
       "      <td>NaN</td>\n",
       "      <td>NaN</td>\n",
       "      <td>NaN</td>\n",
       "      <td>NaN</td>\n",
       "      <td>NaN</td>\n",
       "      <td>NaN</td>\n",
       "      <td>NaN</td>\n",
       "      <td>NaN</td>\n",
       "      <td>NaN</td>\n",
       "      <td>NaN</td>\n",
       "    </tr>\n",
       "    <tr>\n",
       "      <th>GTEX-1117F-0011-R10b-SM-CYKQ8</th>\n",
       "      <td>NaN</td>\n",
       "      <td>B1, A1</td>\n",
       "      <td>NaN</td>\n",
       "      <td>7.2</td>\n",
       "      <td>Brain</td>\n",
       "      <td>Brain - Frontal Cortex (BA9)</td>\n",
       "      <td>0009834</td>\n",
       "      <td>1193.0</td>\n",
       "      <td>NaN</td>\n",
       "      <td>BP-42319</td>\n",
       "      <td>...</td>\n",
       "      <td>NaN</td>\n",
       "      <td>NaN</td>\n",
       "      <td>NaN</td>\n",
       "      <td>NaN</td>\n",
       "      <td>NaN</td>\n",
       "      <td>NaN</td>\n",
       "      <td>NaN</td>\n",
       "      <td>NaN</td>\n",
       "      <td>NaN</td>\n",
       "      <td>NaN</td>\n",
       "    </tr>\n",
       "  </tbody>\n",
       "</table>\n",
       "<p>5 rows × 62 columns</p>\n",
       "</div>"
      ],
      "text/plain": [
       "                               SMATSSCR SMCENTER SMPTHNTS  SMRIN   SMTS  \\\n",
       "SAMPID                                                                    \n",
       "GTEX-1117F-0003-SM-58Q7G            NaN       B1      NaN    NaN  Blood   \n",
       "GTEX-1117F-0003-SM-5DWSB            NaN       B1      NaN    NaN  Blood   \n",
       "GTEX-1117F-0003-SM-6WBT7            NaN       B1      NaN    NaN  Blood   \n",
       "GTEX-1117F-0011-R10a-SM-AHZ7F       NaN   B1, A1      NaN    NaN  Brain   \n",
       "GTEX-1117F-0011-R10b-SM-CYKQ8       NaN   B1, A1      NaN    7.2  Brain   \n",
       "\n",
       "                                                      SMTSD  SMUBRID  \\\n",
       "SAMPID                                                                 \n",
       "GTEX-1117F-0003-SM-58Q7G                        Whole Blood  0013756   \n",
       "GTEX-1117F-0003-SM-5DWSB                        Whole Blood  0013756   \n",
       "GTEX-1117F-0003-SM-6WBT7                        Whole Blood  0013756   \n",
       "GTEX-1117F-0011-R10a-SM-AHZ7F  Brain - Frontal Cortex (BA9)  0009834   \n",
       "GTEX-1117F-0011-R10b-SM-CYKQ8  Brain - Frontal Cortex (BA9)  0009834   \n",
       "\n",
       "                               SMTSISCH  SMTSPAX  SMNABTCH  ... SME1ANTI  \\\n",
       "SAMPID                                                      ...            \n",
       "GTEX-1117F-0003-SM-58Q7G         1188.0      NaN  BP-38516  ...      NaN   \n",
       "GTEX-1117F-0003-SM-5DWSB         1188.0      NaN  BP-38516  ...      NaN   \n",
       "GTEX-1117F-0003-SM-6WBT7         1188.0      NaN  BP-38516  ...      NaN   \n",
       "GTEX-1117F-0011-R10a-SM-AHZ7F    1193.0      NaN       NaN  ...      NaN   \n",
       "GTEX-1117F-0011-R10b-SM-CYKQ8    1193.0      NaN  BP-42319  ...      NaN   \n",
       "\n",
       "                              SMSPLTRD SMBSMMRT SME1SNSE SME1PCTS SMRRNART  \\\n",
       "SAMPID                                                                       \n",
       "GTEX-1117F-0003-SM-58Q7G           NaN      NaN      NaN      NaN      NaN   \n",
       "GTEX-1117F-0003-SM-5DWSB           NaN      NaN      NaN      NaN      NaN   \n",
       "GTEX-1117F-0003-SM-6WBT7           NaN      NaN      NaN      NaN      NaN   \n",
       "GTEX-1117F-0011-R10a-SM-AHZ7F      NaN      NaN      NaN      NaN      NaN   \n",
       "GTEX-1117F-0011-R10b-SM-CYKQ8      NaN      NaN      NaN      NaN      NaN   \n",
       "\n",
       "                              SME1MPRT  SMNUM5CD  SMDPMPRT  SME2PCTS  \n",
       "SAMPID                                                                \n",
       "GTEX-1117F-0003-SM-58Q7G           NaN       NaN       NaN       NaN  \n",
       "GTEX-1117F-0003-SM-5DWSB           NaN       NaN       NaN       NaN  \n",
       "GTEX-1117F-0003-SM-6WBT7           NaN       NaN       NaN       NaN  \n",
       "GTEX-1117F-0011-R10a-SM-AHZ7F      NaN       NaN       NaN       NaN  \n",
       "GTEX-1117F-0011-R10b-SM-CYKQ8      NaN       NaN       NaN       NaN  \n",
       "\n",
       "[5 rows x 62 columns]"
      ]
     },
     "execution_count": 7,
     "metadata": {},
     "output_type": "execute_result"
    }
   ],
   "source": [
    "gtex_samples.head()"
   ]
  },
  {
   "cell_type": "markdown",
   "id": "dc0a9692-52bd-45e2-b03c-b271966a88af",
   "metadata": {
    "papermill": {
     "duration": 0.00215,
     "end_time": "2023-09-06T21:40:27.582171",
     "exception": false,
     "start_time": "2023-09-06T21:40:27.580021",
     "status": "completed"
    },
    "tags": []
   },
   "source": [
    "## GTEx subject phenotypes"
   ]
  },
  {
   "cell_type": "code",
   "execution_count": 8,
   "id": "00f688bf-94be-4887-8bfd-f57ec29155a0",
   "metadata": {
    "execution": {
     "iopub.execute_input": "2023-09-06T21:40:27.586778Z",
     "iopub.status.busy": "2023-09-06T21:40:27.586672Z",
     "iopub.status.idle": "2023-09-06T21:40:27.587939Z",
     "shell.execute_reply": "2023-09-06T21:40:27.587804Z"
    },
    "papermill": {
     "duration": 0.004005,
     "end_time": "2023-09-06T21:40:27.588342",
     "exception": false,
     "start_time": "2023-09-06T21:40:27.584337",
     "status": "completed"
    },
    "tags": []
   },
   "outputs": [],
   "source": [
    "assert conf.GTEX[\"SUBJECTS_ATTRS_FILE\"].exists(), \"Subject files does not exist\""
   ]
  },
  {
   "cell_type": "code",
   "execution_count": 9,
   "id": "64149f51-d076-40fb-8c36-f2631554ea94",
   "metadata": {
    "execution": {
     "iopub.execute_input": "2023-09-06T21:40:27.592980Z",
     "iopub.status.busy": "2023-09-06T21:40:27.592878Z",
     "iopub.status.idle": "2023-09-06T21:40:27.594941Z",
     "shell.execute_reply": "2023-09-06T21:40:27.594805Z"
    },
    "papermill": {
     "duration": 0.004799,
     "end_time": "2023-09-06T21:40:27.595320",
     "exception": false,
     "start_time": "2023-09-06T21:40:27.590521",
     "status": "completed"
    },
    "tags": []
   },
   "outputs": [],
   "source": [
    "gtex_phenotypes = pd.read_csv(\n",
    "    conf.GTEX[\"SUBJECTS_ATTRS_FILE\"],\n",
    "    sep=\"\\t\",\n",
    ")"
   ]
  },
  {
   "cell_type": "code",
   "execution_count": 10,
   "id": "6b2639f1-c6ba-4bfb-b261-eab8961e43f7",
   "metadata": {
    "execution": {
     "iopub.execute_input": "2023-09-06T21:40:27.599904Z",
     "iopub.status.busy": "2023-09-06T21:40:27.599853Z",
     "iopub.status.idle": "2023-09-06T21:40:27.601285Z",
     "shell.execute_reply": "2023-09-06T21:40:27.601165Z"
    },
    "papermill": {
     "duration": 0.004178,
     "end_time": "2023-09-06T21:40:27.601667",
     "exception": false,
     "start_time": "2023-09-06T21:40:27.597489",
     "status": "completed"
    },
    "tags": []
   },
   "outputs": [
    {
     "data": {
      "text/plain": [
       "(980, 4)"
      ]
     },
     "execution_count": 10,
     "metadata": {},
     "output_type": "execute_result"
    }
   ],
   "source": [
    "gtex_phenotypes.shape"
   ]
  },
  {
   "cell_type": "code",
   "execution_count": 11,
   "id": "d0cc026d-9e84-4bed-9cc3-fc221a66013e",
   "metadata": {
    "execution": {
     "iopub.execute_input": "2023-09-06T21:40:27.606297Z",
     "iopub.status.busy": "2023-09-06T21:40:27.606209Z",
     "iopub.status.idle": "2023-09-06T21:40:27.608868Z",
     "shell.execute_reply": "2023-09-06T21:40:27.608741Z"
    },
    "papermill": {
     "duration": 0.005413,
     "end_time": "2023-09-06T21:40:27.609268",
     "exception": false,
     "start_time": "2023-09-06T21:40:27.603855",
     "status": "completed"
    },
    "tags": []
   },
   "outputs": [
    {
     "data": {
      "text/html": [
       "<div>\n",
       "<style scoped>\n",
       "    .dataframe tbody tr th:only-of-type {\n",
       "        vertical-align: middle;\n",
       "    }\n",
       "\n",
       "    .dataframe tbody tr th {\n",
       "        vertical-align: top;\n",
       "    }\n",
       "\n",
       "    .dataframe thead th {\n",
       "        text-align: right;\n",
       "    }\n",
       "</style>\n",
       "<table border=\"1\" class=\"dataframe\">\n",
       "  <thead>\n",
       "    <tr style=\"text-align: right;\">\n",
       "      <th></th>\n",
       "      <th>SUBJID</th>\n",
       "      <th>SEX</th>\n",
       "      <th>AGE</th>\n",
       "      <th>DTHHRDY</th>\n",
       "    </tr>\n",
       "  </thead>\n",
       "  <tbody>\n",
       "    <tr>\n",
       "      <th>0</th>\n",
       "      <td>GTEX-1117F</td>\n",
       "      <td>2</td>\n",
       "      <td>60-69</td>\n",
       "      <td>4.0</td>\n",
       "    </tr>\n",
       "    <tr>\n",
       "      <th>1</th>\n",
       "      <td>GTEX-111CU</td>\n",
       "      <td>1</td>\n",
       "      <td>50-59</td>\n",
       "      <td>0.0</td>\n",
       "    </tr>\n",
       "    <tr>\n",
       "      <th>2</th>\n",
       "      <td>GTEX-111FC</td>\n",
       "      <td>1</td>\n",
       "      <td>60-69</td>\n",
       "      <td>1.0</td>\n",
       "    </tr>\n",
       "    <tr>\n",
       "      <th>3</th>\n",
       "      <td>GTEX-111VG</td>\n",
       "      <td>1</td>\n",
       "      <td>60-69</td>\n",
       "      <td>3.0</td>\n",
       "    </tr>\n",
       "    <tr>\n",
       "      <th>4</th>\n",
       "      <td>GTEX-111YS</td>\n",
       "      <td>1</td>\n",
       "      <td>60-69</td>\n",
       "      <td>0.0</td>\n",
       "    </tr>\n",
       "  </tbody>\n",
       "</table>\n",
       "</div>"
      ],
      "text/plain": [
       "       SUBJID  SEX    AGE  DTHHRDY\n",
       "0  GTEX-1117F    2  60-69      4.0\n",
       "1  GTEX-111CU    1  50-59      0.0\n",
       "2  GTEX-111FC    1  60-69      1.0\n",
       "3  GTEX-111VG    1  60-69      3.0\n",
       "4  GTEX-111YS    1  60-69      0.0"
      ]
     },
     "execution_count": 11,
     "metadata": {},
     "output_type": "execute_result"
    }
   ],
   "source": [
    "gtex_phenotypes.head()"
   ]
  },
  {
   "cell_type": "markdown",
   "id": "e7bb7aa5-298e-42d2-b409-b4dcb7b5c02b",
   "metadata": {
    "papermill": {
     "duration": 0.013982,
     "end_time": "2023-09-06T21:40:27.625525",
     "exception": false,
     "start_time": "2023-09-06T21:40:27.611543",
     "status": "completed"
    },
    "tags": []
   },
   "source": [
    "## GTEx gene expression sample"
   ]
  },
  {
   "cell_type": "code",
   "execution_count": 12,
   "id": "f7e1f625-9fe5-4b30-9b3c-a33817be7e05",
   "metadata": {
    "execution": {
     "iopub.execute_input": "2023-09-06T21:40:27.630657Z",
     "iopub.status.busy": "2023-09-06T21:40:27.630557Z",
     "iopub.status.idle": "2023-09-06T21:40:27.672025Z",
     "shell.execute_reply": "2023-09-06T21:40:27.671878Z"
    },
    "papermill": {
     "duration": 0.04471,
     "end_time": "2023-09-06T21:40:27.672577",
     "exception": false,
     "start_time": "2023-09-06T21:40:27.627867",
     "status": "completed"
    },
    "tags": []
   },
   "outputs": [
    {
     "data": {
      "text/html": [
       "<div>\n",
       "<style scoped>\n",
       "    .dataframe tbody tr th:only-of-type {\n",
       "        vertical-align: middle;\n",
       "    }\n",
       "\n",
       "    .dataframe tbody tr th {\n",
       "        vertical-align: top;\n",
       "    }\n",
       "\n",
       "    .dataframe thead th {\n",
       "        text-align: right;\n",
       "    }\n",
       "</style>\n",
       "<table border=\"1\" class=\"dataframe\">\n",
       "  <thead>\n",
       "    <tr style=\"text-align: right;\">\n",
       "      <th></th>\n",
       "      <th>GTEX-111CU-0126-SM-5GZWZ</th>\n",
       "      <th>GTEX-111YS-0126-SM-5987T</th>\n",
       "      <th>GTEX-1122O-0326-SM-5H124</th>\n",
       "      <th>GTEX-117YX-0126-SM-5EGH5</th>\n",
       "      <th>GTEX-11DXX-0126-SM-5EGH7</th>\n",
       "      <th>GTEX-11DXY-1626-SM-5H12L</th>\n",
       "      <th>GTEX-11DXZ-0226-SM-5EGGZ</th>\n",
       "      <th>GTEX-11EM3-0326-SM-5A5KJ</th>\n",
       "      <th>GTEX-11EMC-0526-SM-5EGJN</th>\n",
       "      <th>GTEX-11EQ9-0126-SM-5986I</th>\n",
       "      <th>...</th>\n",
       "      <th>GTEX-ZT9W-0126-SM-4YCFD</th>\n",
       "      <th>GTEX-ZT9X-0126-SM-4YCFC</th>\n",
       "      <th>GTEX-ZTSS-0326-SM-5987M</th>\n",
       "      <th>GTEX-ZUA1-1926-SM-5E45E</th>\n",
       "      <th>GTEX-ZVP2-0126-SM-5NQ7D</th>\n",
       "      <th>GTEX-ZVT2-0826-SM-5GIEO</th>\n",
       "      <th>GTEX-ZY6K-0126-SM-5SIAM</th>\n",
       "      <th>GTEX-ZYFG-0926-SM-5BC5U</th>\n",
       "      <th>GTEX-ZYVF-1626-SM-5N9EH</th>\n",
       "      <th>GTEX-ZZPU-1226-SM-5N9CK</th>\n",
       "    </tr>\n",
       "    <tr>\n",
       "      <th>gene_ens_id</th>\n",
       "      <th></th>\n",
       "      <th></th>\n",
       "      <th></th>\n",
       "      <th></th>\n",
       "      <th></th>\n",
       "      <th></th>\n",
       "      <th></th>\n",
       "      <th></th>\n",
       "      <th></th>\n",
       "      <th></th>\n",
       "      <th></th>\n",
       "      <th></th>\n",
       "      <th></th>\n",
       "      <th></th>\n",
       "      <th></th>\n",
       "      <th></th>\n",
       "      <th></th>\n",
       "      <th></th>\n",
       "      <th></th>\n",
       "      <th></th>\n",
       "      <th></th>\n",
       "    </tr>\n",
       "  </thead>\n",
       "  <tbody>\n",
       "    <tr>\n",
       "      <th>ENSG00000223972.5</th>\n",
       "      <td>0.03757</td>\n",
       "      <td>0.0000</td>\n",
       "      <td>0.01742</td>\n",
       "      <td>0.00000</td>\n",
       "      <td>0.02762</td>\n",
       "      <td>0.04834</td>\n",
       "      <td>0.00000</td>\n",
       "      <td>0.000</td>\n",
       "      <td>0.0000</td>\n",
       "      <td>0.00000</td>\n",
       "      <td>...</td>\n",
       "      <td>0.0000</td>\n",
       "      <td>0.00000</td>\n",
       "      <td>0.0473</td>\n",
       "      <td>0.00000</td>\n",
       "      <td>0.0000</td>\n",
       "      <td>0.000</td>\n",
       "      <td>0.07783</td>\n",
       "      <td>0.00000</td>\n",
       "      <td>0.00000</td>\n",
       "      <td>0.03629</td>\n",
       "    </tr>\n",
       "    <tr>\n",
       "      <th>ENSG00000227232.5</th>\n",
       "      <td>0.92950</td>\n",
       "      <td>1.3960</td>\n",
       "      <td>1.52000</td>\n",
       "      <td>1.56500</td>\n",
       "      <td>1.54600</td>\n",
       "      <td>5.75800</td>\n",
       "      <td>3.87800</td>\n",
       "      <td>1.553</td>\n",
       "      <td>6.8610</td>\n",
       "      <td>1.84000</td>\n",
       "      <td>...</td>\n",
       "      <td>1.4070</td>\n",
       "      <td>1.12700</td>\n",
       "      <td>3.2030</td>\n",
       "      <td>2.63600</td>\n",
       "      <td>2.5360</td>\n",
       "      <td>1.168</td>\n",
       "      <td>5.77600</td>\n",
       "      <td>1.91600</td>\n",
       "      <td>5.96800</td>\n",
       "      <td>2.26800</td>\n",
       "    </tr>\n",
       "    <tr>\n",
       "      <th>ENSG00000278267.1</th>\n",
       "      <td>0.00000</td>\n",
       "      <td>0.0000</td>\n",
       "      <td>0.00000</td>\n",
       "      <td>0.00000</td>\n",
       "      <td>0.00000</td>\n",
       "      <td>0.00000</td>\n",
       "      <td>0.00000</td>\n",
       "      <td>0.000</td>\n",
       "      <td>0.0000</td>\n",
       "      <td>0.00000</td>\n",
       "      <td>...</td>\n",
       "      <td>0.0000</td>\n",
       "      <td>0.00000</td>\n",
       "      <td>0.0000</td>\n",
       "      <td>0.39600</td>\n",
       "      <td>0.0000</td>\n",
       "      <td>0.000</td>\n",
       "      <td>0.00000</td>\n",
       "      <td>0.00000</td>\n",
       "      <td>0.00000</td>\n",
       "      <td>0.00000</td>\n",
       "    </tr>\n",
       "    <tr>\n",
       "      <th>ENSG00000243485.5</th>\n",
       "      <td>0.00000</td>\n",
       "      <td>0.0793</td>\n",
       "      <td>0.00000</td>\n",
       "      <td>0.00000</td>\n",
       "      <td>0.00000</td>\n",
       "      <td>0.04825</td>\n",
       "      <td>0.09592</td>\n",
       "      <td>0.000</td>\n",
       "      <td>0.0384</td>\n",
       "      <td>0.00000</td>\n",
       "      <td>...</td>\n",
       "      <td>0.0415</td>\n",
       "      <td>0.03456</td>\n",
       "      <td>0.0000</td>\n",
       "      <td>0.06219</td>\n",
       "      <td>0.0405</td>\n",
       "      <td>0.000</td>\n",
       "      <td>0.00000</td>\n",
       "      <td>0.06296</td>\n",
       "      <td>0.02164</td>\n",
       "      <td>0.00000</td>\n",
       "    </tr>\n",
       "    <tr>\n",
       "      <th>ENSG00000237613.2</th>\n",
       "      <td>0.00000</td>\n",
       "      <td>0.0000</td>\n",
       "      <td>0.00000</td>\n",
       "      <td>0.04263</td>\n",
       "      <td>0.07835</td>\n",
       "      <td>0.03428</td>\n",
       "      <td>0.03407</td>\n",
       "      <td>0.000</td>\n",
       "      <td>0.0000</td>\n",
       "      <td>0.05345</td>\n",
       "      <td>...</td>\n",
       "      <td>0.0000</td>\n",
       "      <td>0.00000</td>\n",
       "      <td>0.0000</td>\n",
       "      <td>0.02209</td>\n",
       "      <td>0.0000</td>\n",
       "      <td>0.000</td>\n",
       "      <td>0.03680</td>\n",
       "      <td>0.01491</td>\n",
       "      <td>0.00000</td>\n",
       "      <td>0.00000</td>\n",
       "    </tr>\n",
       "  </tbody>\n",
       "</table>\n",
       "<p>5 rows × 258 columns</p>\n",
       "</div>"
      ],
      "text/plain": [
       "                   GTEX-111CU-0126-SM-5GZWZ  GTEX-111YS-0126-SM-5987T  \\\n",
       "gene_ens_id                                                             \n",
       "ENSG00000223972.5                   0.03757                    0.0000   \n",
       "ENSG00000227232.5                   0.92950                    1.3960   \n",
       "ENSG00000278267.1                   0.00000                    0.0000   \n",
       "ENSG00000243485.5                   0.00000                    0.0793   \n",
       "ENSG00000237613.2                   0.00000                    0.0000   \n",
       "\n",
       "                   GTEX-1122O-0326-SM-5H124  GTEX-117YX-0126-SM-5EGH5  \\\n",
       "gene_ens_id                                                             \n",
       "ENSG00000223972.5                   0.01742                   0.00000   \n",
       "ENSG00000227232.5                   1.52000                   1.56500   \n",
       "ENSG00000278267.1                   0.00000                   0.00000   \n",
       "ENSG00000243485.5                   0.00000                   0.00000   \n",
       "ENSG00000237613.2                   0.00000                   0.04263   \n",
       "\n",
       "                   GTEX-11DXX-0126-SM-5EGH7  GTEX-11DXY-1626-SM-5H12L  \\\n",
       "gene_ens_id                                                             \n",
       "ENSG00000223972.5                   0.02762                   0.04834   \n",
       "ENSG00000227232.5                   1.54600                   5.75800   \n",
       "ENSG00000278267.1                   0.00000                   0.00000   \n",
       "ENSG00000243485.5                   0.00000                   0.04825   \n",
       "ENSG00000237613.2                   0.07835                   0.03428   \n",
       "\n",
       "                   GTEX-11DXZ-0226-SM-5EGGZ  GTEX-11EM3-0326-SM-5A5KJ  \\\n",
       "gene_ens_id                                                             \n",
       "ENSG00000223972.5                   0.00000                     0.000   \n",
       "ENSG00000227232.5                   3.87800                     1.553   \n",
       "ENSG00000278267.1                   0.00000                     0.000   \n",
       "ENSG00000243485.5                   0.09592                     0.000   \n",
       "ENSG00000237613.2                   0.03407                     0.000   \n",
       "\n",
       "                   GTEX-11EMC-0526-SM-5EGJN  GTEX-11EQ9-0126-SM-5986I  ...  \\\n",
       "gene_ens_id                                                            ...   \n",
       "ENSG00000223972.5                    0.0000                   0.00000  ...   \n",
       "ENSG00000227232.5                    6.8610                   1.84000  ...   \n",
       "ENSG00000278267.1                    0.0000                   0.00000  ...   \n",
       "ENSG00000243485.5                    0.0384                   0.00000  ...   \n",
       "ENSG00000237613.2                    0.0000                   0.05345  ...   \n",
       "\n",
       "                   GTEX-ZT9W-0126-SM-4YCFD  GTEX-ZT9X-0126-SM-4YCFC  \\\n",
       "gene_ens_id                                                           \n",
       "ENSG00000223972.5                   0.0000                  0.00000   \n",
       "ENSG00000227232.5                   1.4070                  1.12700   \n",
       "ENSG00000278267.1                   0.0000                  0.00000   \n",
       "ENSG00000243485.5                   0.0415                  0.03456   \n",
       "ENSG00000237613.2                   0.0000                  0.00000   \n",
       "\n",
       "                   GTEX-ZTSS-0326-SM-5987M  GTEX-ZUA1-1926-SM-5E45E  \\\n",
       "gene_ens_id                                                           \n",
       "ENSG00000223972.5                   0.0473                  0.00000   \n",
       "ENSG00000227232.5                   3.2030                  2.63600   \n",
       "ENSG00000278267.1                   0.0000                  0.39600   \n",
       "ENSG00000243485.5                   0.0000                  0.06219   \n",
       "ENSG00000237613.2                   0.0000                  0.02209   \n",
       "\n",
       "                   GTEX-ZVP2-0126-SM-5NQ7D  GTEX-ZVT2-0826-SM-5GIEO  \\\n",
       "gene_ens_id                                                           \n",
       "ENSG00000223972.5                   0.0000                    0.000   \n",
       "ENSG00000227232.5                   2.5360                    1.168   \n",
       "ENSG00000278267.1                   0.0000                    0.000   \n",
       "ENSG00000243485.5                   0.0405                    0.000   \n",
       "ENSG00000237613.2                   0.0000                    0.000   \n",
       "\n",
       "                   GTEX-ZY6K-0126-SM-5SIAM  GTEX-ZYFG-0926-SM-5BC5U  \\\n",
       "gene_ens_id                                                           \n",
       "ENSG00000223972.5                  0.07783                  0.00000   \n",
       "ENSG00000227232.5                  5.77600                  1.91600   \n",
       "ENSG00000278267.1                  0.00000                  0.00000   \n",
       "ENSG00000243485.5                  0.00000                  0.06296   \n",
       "ENSG00000237613.2                  0.03680                  0.01491   \n",
       "\n",
       "                   GTEX-ZYVF-1626-SM-5N9EH  GTEX-ZZPU-1226-SM-5N9CK  \n",
       "gene_ens_id                                                          \n",
       "ENSG00000223972.5                  0.00000                  0.03629  \n",
       "ENSG00000227232.5                  5.96800                  2.26800  \n",
       "ENSG00000278267.1                  0.00000                  0.00000  \n",
       "ENSG00000243485.5                  0.02164                  0.00000  \n",
       "ENSG00000237613.2                  0.00000                  0.00000  \n",
       "\n",
       "[5 rows x 258 columns]"
      ]
     },
     "execution_count": 12,
     "metadata": {},
     "output_type": "execute_result"
    }
   ],
   "source": [
    "pd.read_pickle(next(TISSUE_DIR.glob(\"*.pkl\"))).head()"
   ]
  },
  {
   "cell_type": "markdown",
   "id": "dd851f15-ad05-4eda-9af8-2cd8d383a45b",
   "metadata": {
    "papermill": {
     "duration": 0.002302,
     "end_time": "2023-09-06T21:40:27.677380",
     "exception": false,
     "start_time": "2023-09-06T21:40:27.675078",
     "status": "completed"
    },
    "tags": []
   },
   "source": [
    "# Get GTEx sample metadata"
   ]
  },
  {
   "cell_type": "code",
   "execution_count": 13,
   "id": "06c8e283-64d6-4be7-8fd3-0de9a1f1d8b0",
   "metadata": {
    "execution": {
     "iopub.execute_input": "2023-09-06T21:40:27.682340Z",
     "iopub.status.busy": "2023-09-06T21:40:27.682227Z",
     "iopub.status.idle": "2023-09-06T21:40:27.684019Z",
     "shell.execute_reply": "2023-09-06T21:40:27.683886Z"
    },
    "papermill": {
     "duration": 0.004786,
     "end_time": "2023-09-06T21:40:27.684503",
     "exception": false,
     "start_time": "2023-09-06T21:40:27.679717",
     "status": "completed"
    },
    "tags": []
   },
   "outputs": [
    {
     "data": {
      "text/plain": [
       "['GTEX-1117F-0003-SM-58Q7G',\n",
       " 'GTEX-1117F-0003-SM-5DWSB',\n",
       " 'GTEX-1117F-0003-SM-6WBT7',\n",
       " 'GTEX-1117F-0011-R10a-SM-AHZ7F',\n",
       " 'GTEX-1117F-0011-R10b-SM-CYKQ8']"
      ]
     },
     "metadata": {},
     "output_type": "display_data"
    }
   ],
   "source": [
    "gtex_samples_ids = gtex_samples.index.to_list()\n",
    "display(gtex_samples_ids[:5])"
   ]
  },
  {
   "cell_type": "code",
   "execution_count": 14,
   "id": "0e1a9f52-96e2-4e71-a8ed-89f667f333bd",
   "metadata": {
    "execution": {
     "iopub.execute_input": "2023-09-06T21:40:27.689586Z",
     "iopub.status.busy": "2023-09-06T21:40:27.689477Z",
     "iopub.status.idle": "2023-09-06T21:40:27.691405Z",
     "shell.execute_reply": "2023-09-06T21:40:27.691196Z"
    },
    "papermill": {
     "duration": 0.004949,
     "end_time": "2023-09-06T21:40:27.691897",
     "exception": false,
     "start_time": "2023-09-06T21:40:27.686948",
     "status": "completed"
    },
    "tags": []
   },
   "outputs": [],
   "source": [
    "gtex_samples_ids = pd.Series(gtex_samples_ids).rename(\"SAMPID\")"
   ]
  },
  {
   "cell_type": "code",
   "execution_count": 15,
   "id": "92c9b73e-12e1-400e-bd5a-fb0ecdc608e1",
   "metadata": {
    "execution": {
     "iopub.execute_input": "2023-09-06T21:40:27.696866Z",
     "iopub.status.busy": "2023-09-06T21:40:27.696782Z",
     "iopub.status.idle": "2023-09-06T21:40:27.698664Z",
     "shell.execute_reply": "2023-09-06T21:40:27.698537Z"
    },
    "papermill": {
     "duration": 0.004891,
     "end_time": "2023-09-06T21:40:27.699181",
     "exception": false,
     "start_time": "2023-09-06T21:40:27.694290",
     "status": "completed"
    },
    "tags": []
   },
   "outputs": [
    {
     "data": {
      "text/plain": [
       "0             GTEX-1117F-0003-SM-58Q7G\n",
       "1             GTEX-1117F-0003-SM-5DWSB\n",
       "2             GTEX-1117F-0003-SM-6WBT7\n",
       "3        GTEX-1117F-0011-R10a-SM-AHZ7F\n",
       "4        GTEX-1117F-0011-R10b-SM-CYKQ8\n",
       "                     ...              \n",
       "22946                   K-562-SM-E9EZC\n",
       "22947                   K-562-SM-E9EZI\n",
       "22948                   K-562-SM-E9EZO\n",
       "22949                   K-562-SM-E9EZT\n",
       "22950                   K-562-SM-E9EZZ\n",
       "Name: SAMPID, Length: 22951, dtype: object"
      ]
     },
     "execution_count": 15,
     "metadata": {},
     "output_type": "execute_result"
    }
   ],
   "source": [
    "gtex_samples_ids"
   ]
  },
  {
   "cell_type": "code",
   "execution_count": 16,
   "id": "a2f4ee60-f5bc-4e68-9289-15fc6c173f77",
   "metadata": {
    "execution": {
     "iopub.execute_input": "2023-09-06T21:40:27.704188Z",
     "iopub.status.busy": "2023-09-06T21:40:27.704104Z",
     "iopub.status.idle": "2023-09-06T21:40:27.714513Z",
     "shell.execute_reply": "2023-09-06T21:40:27.714376Z"
    },
    "papermill": {
     "duration": 0.013445,
     "end_time": "2023-09-06T21:40:27.715005",
     "exception": false,
     "start_time": "2023-09-06T21:40:27.701560",
     "status": "completed"
    },
    "tags": []
   },
   "outputs": [],
   "source": [
    "gtex_subjects_ids = gtex_samples_ids.str.extract(\n",
    "    r\"([\\w\\d]+\\-[\\w\\d]+)\", flags=re.IGNORECASE, expand=True\n",
    ")[0].rename(\"SUBJID\")"
   ]
  },
  {
   "cell_type": "code",
   "execution_count": 17,
   "id": "62428886-05a4-470d-891d-b4405214b8df",
   "metadata": {
    "execution": {
     "iopub.execute_input": "2023-09-06T21:40:27.720067Z",
     "iopub.status.busy": "2023-09-06T21:40:27.719986Z",
     "iopub.status.idle": "2023-09-06T21:40:27.721849Z",
     "shell.execute_reply": "2023-09-06T21:40:27.721724Z"
    },
    "papermill": {
     "duration": 0.004873,
     "end_time": "2023-09-06T21:40:27.722336",
     "exception": false,
     "start_time": "2023-09-06T21:40:27.717463",
     "status": "completed"
    },
    "tags": []
   },
   "outputs": [
    {
     "data": {
      "text/plain": [
       "0        GTEX-1117F\n",
       "1        GTEX-1117F\n",
       "2        GTEX-1117F\n",
       "3        GTEX-1117F\n",
       "4        GTEX-1117F\n",
       "            ...    \n",
       "22946         K-562\n",
       "22947         K-562\n",
       "22948         K-562\n",
       "22949         K-562\n",
       "22950         K-562\n",
       "Name: SUBJID, Length: 22951, dtype: object"
      ]
     },
     "execution_count": 17,
     "metadata": {},
     "output_type": "execute_result"
    }
   ],
   "source": [
    "gtex_subjects_ids"
   ]
  },
  {
   "cell_type": "code",
   "execution_count": 18,
   "id": "099167be-5c93-4f6d-9903-58667691d0db",
   "metadata": {
    "execution": {
     "iopub.execute_input": "2023-09-06T21:40:27.727495Z",
     "iopub.status.busy": "2023-09-06T21:40:27.727387Z",
     "iopub.status.idle": "2023-09-06T21:40:27.729030Z",
     "shell.execute_reply": "2023-09-06T21:40:27.728897Z"
    },
    "papermill": {
     "duration": 0.004612,
     "end_time": "2023-09-06T21:40:27.729412",
     "exception": false,
     "start_time": "2023-09-06T21:40:27.724800",
     "status": "completed"
    },
    "tags": []
   },
   "outputs": [],
   "source": [
    "gtex_metadata = pd.concat([gtex_samples_ids, gtex_subjects_ids], axis=1)"
   ]
  },
  {
   "cell_type": "code",
   "execution_count": 19,
   "id": "6abe8ea5-f25e-4190-8fe3-c6a359772d55",
   "metadata": {
    "execution": {
     "iopub.execute_input": "2023-09-06T21:40:27.734577Z",
     "iopub.status.busy": "2023-09-06T21:40:27.734473Z",
     "iopub.status.idle": "2023-09-06T21:40:27.737283Z",
     "shell.execute_reply": "2023-09-06T21:40:27.737158Z"
    },
    "papermill": {
     "duration": 0.005808,
     "end_time": "2023-09-06T21:40:27.737692",
     "exception": false,
     "start_time": "2023-09-06T21:40:27.731884",
     "status": "completed"
    },
    "tags": []
   },
   "outputs": [
    {
     "data": {
      "text/html": [
       "<div>\n",
       "<style scoped>\n",
       "    .dataframe tbody tr th:only-of-type {\n",
       "        vertical-align: middle;\n",
       "    }\n",
       "\n",
       "    .dataframe tbody tr th {\n",
       "        vertical-align: top;\n",
       "    }\n",
       "\n",
       "    .dataframe thead th {\n",
       "        text-align: right;\n",
       "    }\n",
       "</style>\n",
       "<table border=\"1\" class=\"dataframe\">\n",
       "  <thead>\n",
       "    <tr style=\"text-align: right;\">\n",
       "      <th></th>\n",
       "      <th>SAMPID</th>\n",
       "      <th>SUBJID</th>\n",
       "    </tr>\n",
       "  </thead>\n",
       "  <tbody>\n",
       "    <tr>\n",
       "      <th>0</th>\n",
       "      <td>GTEX-1117F-0003-SM-58Q7G</td>\n",
       "      <td>GTEX-1117F</td>\n",
       "    </tr>\n",
       "    <tr>\n",
       "      <th>1</th>\n",
       "      <td>GTEX-1117F-0003-SM-5DWSB</td>\n",
       "      <td>GTEX-1117F</td>\n",
       "    </tr>\n",
       "    <tr>\n",
       "      <th>2</th>\n",
       "      <td>GTEX-1117F-0003-SM-6WBT7</td>\n",
       "      <td>GTEX-1117F</td>\n",
       "    </tr>\n",
       "    <tr>\n",
       "      <th>3</th>\n",
       "      <td>GTEX-1117F-0011-R10a-SM-AHZ7F</td>\n",
       "      <td>GTEX-1117F</td>\n",
       "    </tr>\n",
       "    <tr>\n",
       "      <th>4</th>\n",
       "      <td>GTEX-1117F-0011-R10b-SM-CYKQ8</td>\n",
       "      <td>GTEX-1117F</td>\n",
       "    </tr>\n",
       "    <tr>\n",
       "      <th>...</th>\n",
       "      <td>...</td>\n",
       "      <td>...</td>\n",
       "    </tr>\n",
       "    <tr>\n",
       "      <th>22946</th>\n",
       "      <td>K-562-SM-E9EZC</td>\n",
       "      <td>K-562</td>\n",
       "    </tr>\n",
       "    <tr>\n",
       "      <th>22947</th>\n",
       "      <td>K-562-SM-E9EZI</td>\n",
       "      <td>K-562</td>\n",
       "    </tr>\n",
       "    <tr>\n",
       "      <th>22948</th>\n",
       "      <td>K-562-SM-E9EZO</td>\n",
       "      <td>K-562</td>\n",
       "    </tr>\n",
       "    <tr>\n",
       "      <th>22949</th>\n",
       "      <td>K-562-SM-E9EZT</td>\n",
       "      <td>K-562</td>\n",
       "    </tr>\n",
       "    <tr>\n",
       "      <th>22950</th>\n",
       "      <td>K-562-SM-E9EZZ</td>\n",
       "      <td>K-562</td>\n",
       "    </tr>\n",
       "  </tbody>\n",
       "</table>\n",
       "<p>22951 rows × 2 columns</p>\n",
       "</div>"
      ],
      "text/plain": [
       "                              SAMPID      SUBJID\n",
       "0           GTEX-1117F-0003-SM-58Q7G  GTEX-1117F\n",
       "1           GTEX-1117F-0003-SM-5DWSB  GTEX-1117F\n",
       "2           GTEX-1117F-0003-SM-6WBT7  GTEX-1117F\n",
       "3      GTEX-1117F-0011-R10a-SM-AHZ7F  GTEX-1117F\n",
       "4      GTEX-1117F-0011-R10b-SM-CYKQ8  GTEX-1117F\n",
       "...                              ...         ...\n",
       "22946                 K-562-SM-E9EZC       K-562\n",
       "22947                 K-562-SM-E9EZI       K-562\n",
       "22948                 K-562-SM-E9EZO       K-562\n",
       "22949                 K-562-SM-E9EZT       K-562\n",
       "22950                 K-562-SM-E9EZZ       K-562\n",
       "\n",
       "[22951 rows x 2 columns]"
      ]
     },
     "execution_count": 19,
     "metadata": {},
     "output_type": "execute_result"
    }
   ],
   "source": [
    "gtex_metadata"
   ]
  },
  {
   "cell_type": "code",
   "execution_count": 20,
   "id": "384ec029-7624-42f2-a2bd-2d452de6b032",
   "metadata": {
    "execution": {
     "iopub.execute_input": "2023-09-06T21:40:27.742897Z",
     "iopub.status.busy": "2023-09-06T21:40:27.742813Z",
     "iopub.status.idle": "2023-09-06T21:40:27.746401Z",
     "shell.execute_reply": "2023-09-06T21:40:27.746275Z"
    },
    "papermill": {
     "duration": 0.006714,
     "end_time": "2023-09-06T21:40:27.746893",
     "exception": false,
     "start_time": "2023-09-06T21:40:27.740179",
     "status": "completed"
    },
    "tags": []
   },
   "outputs": [
    {
     "data": {
      "text/html": [
       "<div>\n",
       "<style scoped>\n",
       "    .dataframe tbody tr th:only-of-type {\n",
       "        vertical-align: middle;\n",
       "    }\n",
       "\n",
       "    .dataframe tbody tr th {\n",
       "        vertical-align: top;\n",
       "    }\n",
       "\n",
       "    .dataframe thead th {\n",
       "        text-align: right;\n",
       "    }\n",
       "</style>\n",
       "<table border=\"1\" class=\"dataframe\">\n",
       "  <thead>\n",
       "    <tr style=\"text-align: right;\">\n",
       "      <th></th>\n",
       "      <th>SUBJID</th>\n",
       "      <th>SEX</th>\n",
       "      <th>AGE</th>\n",
       "      <th>DTHHRDY</th>\n",
       "    </tr>\n",
       "  </thead>\n",
       "  <tbody>\n",
       "    <tr>\n",
       "      <th>0</th>\n",
       "      <td>GTEX-1117F</td>\n",
       "      <td>2</td>\n",
       "      <td>60-69</td>\n",
       "      <td>4.0</td>\n",
       "    </tr>\n",
       "    <tr>\n",
       "      <th>1</th>\n",
       "      <td>GTEX-111CU</td>\n",
       "      <td>1</td>\n",
       "      <td>50-59</td>\n",
       "      <td>0.0</td>\n",
       "    </tr>\n",
       "    <tr>\n",
       "      <th>2</th>\n",
       "      <td>GTEX-111FC</td>\n",
       "      <td>1</td>\n",
       "      <td>60-69</td>\n",
       "      <td>1.0</td>\n",
       "    </tr>\n",
       "    <tr>\n",
       "      <th>3</th>\n",
       "      <td>GTEX-111VG</td>\n",
       "      <td>1</td>\n",
       "      <td>60-69</td>\n",
       "      <td>3.0</td>\n",
       "    </tr>\n",
       "    <tr>\n",
       "      <th>4</th>\n",
       "      <td>GTEX-111YS</td>\n",
       "      <td>1</td>\n",
       "      <td>60-69</td>\n",
       "      <td>0.0</td>\n",
       "    </tr>\n",
       "    <tr>\n",
       "      <th>...</th>\n",
       "      <td>...</td>\n",
       "      <td>...</td>\n",
       "      <td>...</td>\n",
       "      <td>...</td>\n",
       "    </tr>\n",
       "    <tr>\n",
       "      <th>975</th>\n",
       "      <td>GTEX-ZYY3</td>\n",
       "      <td>2</td>\n",
       "      <td>60-69</td>\n",
       "      <td>4.0</td>\n",
       "    </tr>\n",
       "    <tr>\n",
       "      <th>976</th>\n",
       "      <td>GTEX-ZZ64</td>\n",
       "      <td>1</td>\n",
       "      <td>20-29</td>\n",
       "      <td>0.0</td>\n",
       "    </tr>\n",
       "    <tr>\n",
       "      <th>977</th>\n",
       "      <td>GTEX-ZZPT</td>\n",
       "      <td>1</td>\n",
       "      <td>50-59</td>\n",
       "      <td>4.0</td>\n",
       "    </tr>\n",
       "    <tr>\n",
       "      <th>978</th>\n",
       "      <td>GTEX-ZZPU</td>\n",
       "      <td>2</td>\n",
       "      <td>50-59</td>\n",
       "      <td>0.0</td>\n",
       "    </tr>\n",
       "    <tr>\n",
       "      <th>979</th>\n",
       "      <td>K-562</td>\n",
       "      <td>2</td>\n",
       "      <td>50-59</td>\n",
       "      <td>NaN</td>\n",
       "    </tr>\n",
       "  </tbody>\n",
       "</table>\n",
       "<p>980 rows × 4 columns</p>\n",
       "</div>"
      ],
      "text/plain": [
       "         SUBJID  SEX    AGE  DTHHRDY\n",
       "0    GTEX-1117F    2  60-69      4.0\n",
       "1    GTEX-111CU    1  50-59      0.0\n",
       "2    GTEX-111FC    1  60-69      1.0\n",
       "3    GTEX-111VG    1  60-69      3.0\n",
       "4    GTEX-111YS    1  60-69      0.0\n",
       "..          ...  ...    ...      ...\n",
       "975   GTEX-ZYY3    2  60-69      4.0\n",
       "976   GTEX-ZZ64    1  20-29      0.0\n",
       "977   GTEX-ZZPT    1  50-59      4.0\n",
       "978   GTEX-ZZPU    2  50-59      0.0\n",
       "979       K-562    2  50-59      NaN\n",
       "\n",
       "[980 rows x 4 columns]"
      ]
     },
     "execution_count": 20,
     "metadata": {},
     "output_type": "execute_result"
    }
   ],
   "source": [
    "gtex_phenotypes"
   ]
  },
  {
   "cell_type": "code",
   "execution_count": 21,
   "id": "e9ef5701-7bdc-4834-970f-181f2861783b",
   "metadata": {
    "execution": {
     "iopub.execute_input": "2023-09-06T21:40:27.752265Z",
     "iopub.status.busy": "2023-09-06T21:40:27.752156Z",
     "iopub.status.idle": "2023-09-06T21:40:27.756647Z",
     "shell.execute_reply": "2023-09-06T21:40:27.756502Z"
    },
    "papermill": {
     "duration": 0.007695,
     "end_time": "2023-09-06T21:40:27.757184",
     "exception": false,
     "start_time": "2023-09-06T21:40:27.749489",
     "status": "completed"
    },
    "tags": []
   },
   "outputs": [],
   "source": [
    "gtex_metadata = pd.merge(gtex_metadata, gtex_phenotypes).set_index(\"SAMPID\")"
   ]
  },
  {
   "cell_type": "code",
   "execution_count": 22,
   "id": "717bbdad-e15b-4076-9fa2-8fe3c46f1ff6",
   "metadata": {
    "execution": {
     "iopub.execute_input": "2023-09-06T21:40:27.762537Z",
     "iopub.status.busy": "2023-09-06T21:40:27.762449Z",
     "iopub.status.idle": "2023-09-06T21:40:27.765970Z",
     "shell.execute_reply": "2023-09-06T21:40:27.765842Z"
    },
    "papermill": {
     "duration": 0.006682,
     "end_time": "2023-09-06T21:40:27.766459",
     "exception": false,
     "start_time": "2023-09-06T21:40:27.759777",
     "status": "completed"
    },
    "tags": []
   },
   "outputs": [
    {
     "data": {
      "text/html": [
       "<div>\n",
       "<style scoped>\n",
       "    .dataframe tbody tr th:only-of-type {\n",
       "        vertical-align: middle;\n",
       "    }\n",
       "\n",
       "    .dataframe tbody tr th {\n",
       "        vertical-align: top;\n",
       "    }\n",
       "\n",
       "    .dataframe thead th {\n",
       "        text-align: right;\n",
       "    }\n",
       "</style>\n",
       "<table border=\"1\" class=\"dataframe\">\n",
       "  <thead>\n",
       "    <tr style=\"text-align: right;\">\n",
       "      <th></th>\n",
       "      <th>SUBJID</th>\n",
       "      <th>SEX</th>\n",
       "      <th>AGE</th>\n",
       "      <th>DTHHRDY</th>\n",
       "    </tr>\n",
       "    <tr>\n",
       "      <th>SAMPID</th>\n",
       "      <th></th>\n",
       "      <th></th>\n",
       "      <th></th>\n",
       "      <th></th>\n",
       "    </tr>\n",
       "  </thead>\n",
       "  <tbody>\n",
       "    <tr>\n",
       "      <th>GTEX-1117F-0003-SM-58Q7G</th>\n",
       "      <td>GTEX-1117F</td>\n",
       "      <td>2</td>\n",
       "      <td>60-69</td>\n",
       "      <td>4.0</td>\n",
       "    </tr>\n",
       "    <tr>\n",
       "      <th>GTEX-1117F-0003-SM-5DWSB</th>\n",
       "      <td>GTEX-1117F</td>\n",
       "      <td>2</td>\n",
       "      <td>60-69</td>\n",
       "      <td>4.0</td>\n",
       "    </tr>\n",
       "    <tr>\n",
       "      <th>GTEX-1117F-0003-SM-6WBT7</th>\n",
       "      <td>GTEX-1117F</td>\n",
       "      <td>2</td>\n",
       "      <td>60-69</td>\n",
       "      <td>4.0</td>\n",
       "    </tr>\n",
       "    <tr>\n",
       "      <th>GTEX-1117F-0011-R10a-SM-AHZ7F</th>\n",
       "      <td>GTEX-1117F</td>\n",
       "      <td>2</td>\n",
       "      <td>60-69</td>\n",
       "      <td>4.0</td>\n",
       "    </tr>\n",
       "    <tr>\n",
       "      <th>GTEX-1117F-0011-R10b-SM-CYKQ8</th>\n",
       "      <td>GTEX-1117F</td>\n",
       "      <td>2</td>\n",
       "      <td>60-69</td>\n",
       "      <td>4.0</td>\n",
       "    </tr>\n",
       "    <tr>\n",
       "      <th>...</th>\n",
       "      <td>...</td>\n",
       "      <td>...</td>\n",
       "      <td>...</td>\n",
       "      <td>...</td>\n",
       "    </tr>\n",
       "    <tr>\n",
       "      <th>K-562-SM-E9EZC</th>\n",
       "      <td>K-562</td>\n",
       "      <td>2</td>\n",
       "      <td>50-59</td>\n",
       "      <td>NaN</td>\n",
       "    </tr>\n",
       "    <tr>\n",
       "      <th>K-562-SM-E9EZI</th>\n",
       "      <td>K-562</td>\n",
       "      <td>2</td>\n",
       "      <td>50-59</td>\n",
       "      <td>NaN</td>\n",
       "    </tr>\n",
       "    <tr>\n",
       "      <th>K-562-SM-E9EZO</th>\n",
       "      <td>K-562</td>\n",
       "      <td>2</td>\n",
       "      <td>50-59</td>\n",
       "      <td>NaN</td>\n",
       "    </tr>\n",
       "    <tr>\n",
       "      <th>K-562-SM-E9EZT</th>\n",
       "      <td>K-562</td>\n",
       "      <td>2</td>\n",
       "      <td>50-59</td>\n",
       "      <td>NaN</td>\n",
       "    </tr>\n",
       "    <tr>\n",
       "      <th>K-562-SM-E9EZZ</th>\n",
       "      <td>K-562</td>\n",
       "      <td>2</td>\n",
       "      <td>50-59</td>\n",
       "      <td>NaN</td>\n",
       "    </tr>\n",
       "  </tbody>\n",
       "</table>\n",
       "<p>22951 rows × 4 columns</p>\n",
       "</div>"
      ],
      "text/plain": [
       "                                   SUBJID  SEX    AGE  DTHHRDY\n",
       "SAMPID                                                        \n",
       "GTEX-1117F-0003-SM-58Q7G       GTEX-1117F    2  60-69      4.0\n",
       "GTEX-1117F-0003-SM-5DWSB       GTEX-1117F    2  60-69      4.0\n",
       "GTEX-1117F-0003-SM-6WBT7       GTEX-1117F    2  60-69      4.0\n",
       "GTEX-1117F-0011-R10a-SM-AHZ7F  GTEX-1117F    2  60-69      4.0\n",
       "GTEX-1117F-0011-R10b-SM-CYKQ8  GTEX-1117F    2  60-69      4.0\n",
       "...                                   ...  ...    ...      ...\n",
       "K-562-SM-E9EZC                      K-562    2  50-59      NaN\n",
       "K-562-SM-E9EZI                      K-562    2  50-59      NaN\n",
       "K-562-SM-E9EZO                      K-562    2  50-59      NaN\n",
       "K-562-SM-E9EZT                      K-562    2  50-59      NaN\n",
       "K-562-SM-E9EZZ                      K-562    2  50-59      NaN\n",
       "\n",
       "[22951 rows x 4 columns]"
      ]
     },
     "execution_count": 22,
     "metadata": {},
     "output_type": "execute_result"
    }
   ],
   "source": [
    "gtex_metadata"
   ]
  },
  {
   "cell_type": "code",
   "execution_count": 23,
   "id": "4ca7b4fa-0590-4ad5-bff9-4c07f508c86d",
   "metadata": {
    "execution": {
     "iopub.execute_input": "2023-09-06T21:40:27.771956Z",
     "iopub.status.busy": "2023-09-06T21:40:27.771869Z",
     "iopub.status.idle": "2023-09-06T21:40:27.777696Z",
     "shell.execute_reply": "2023-09-06T21:40:27.777528Z"
    },
    "papermill": {
     "duration": 0.00915,
     "end_time": "2023-09-06T21:40:27.778262",
     "exception": false,
     "start_time": "2023-09-06T21:40:27.769112",
     "status": "completed"
    },
    "tags": []
   },
   "outputs": [],
   "source": [
    "gtex_metadata = pd.merge(gtex_metadata, gtex_samples, left_index=True, right_index=True)"
   ]
  },
  {
   "cell_type": "code",
   "execution_count": 24,
   "id": "7470d19a-719c-48df-aeb7-aced945256d4",
   "metadata": {
    "execution": {
     "iopub.execute_input": "2023-09-06T21:40:27.783869Z",
     "iopub.status.busy": "2023-09-06T21:40:27.783757Z",
     "iopub.status.idle": "2023-09-06T21:40:27.793432Z",
     "shell.execute_reply": "2023-09-06T21:40:27.793264Z"
    },
    "papermill": {
     "duration": 0.013106,
     "end_time": "2023-09-06T21:40:27.794078",
     "exception": false,
     "start_time": "2023-09-06T21:40:27.780972",
     "status": "completed"
    },
    "tags": []
   },
   "outputs": [],
   "source": [
    "gtex_metadata = gtex_metadata.replace(\n",
    "    {\n",
    "        \"SEX\": {\n",
    "            1: \"Male\",\n",
    "            2: \"Female\",\n",
    "        }\n",
    "    }\n",
    ")"
   ]
  },
  {
   "cell_type": "code",
   "execution_count": 25,
   "id": "3b5c503c-2968-4093-a367-78809446c42d",
   "metadata": {
    "execution": {
     "iopub.execute_input": "2023-09-06T21:40:27.799890Z",
     "iopub.status.busy": "2023-09-06T21:40:27.799802Z",
     "iopub.status.idle": "2023-09-06T21:40:27.805502Z",
     "shell.execute_reply": "2023-09-06T21:40:27.805330Z"
    },
    "papermill": {
     "duration": 0.009091,
     "end_time": "2023-09-06T21:40:27.806017",
     "exception": false,
     "start_time": "2023-09-06T21:40:27.796926",
     "status": "completed"
    },
    "tags": []
   },
   "outputs": [],
   "source": [
    "gtex_metadata = gtex_metadata.sort_index()"
   ]
  },
  {
   "cell_type": "code",
   "execution_count": 26,
   "id": "a0b4eb60-120b-4700-ae6e-64108e937c1f",
   "metadata": {
    "execution": {
     "iopub.execute_input": "2023-09-06T21:40:27.811656Z",
     "iopub.status.busy": "2023-09-06T21:40:27.811574Z",
     "iopub.status.idle": "2023-09-06T21:40:27.818905Z",
     "shell.execute_reply": "2023-09-06T21:40:27.818774Z"
    },
    "papermill": {
     "duration": 0.010605,
     "end_time": "2023-09-06T21:40:27.819338",
     "exception": false,
     "start_time": "2023-09-06T21:40:27.808733",
     "status": "completed"
    },
    "tags": []
   },
   "outputs": [
    {
     "data": {
      "text/html": [
       "<div>\n",
       "<style scoped>\n",
       "    .dataframe tbody tr th:only-of-type {\n",
       "        vertical-align: middle;\n",
       "    }\n",
       "\n",
       "    .dataframe tbody tr th {\n",
       "        vertical-align: top;\n",
       "    }\n",
       "\n",
       "    .dataframe thead th {\n",
       "        text-align: right;\n",
       "    }\n",
       "</style>\n",
       "<table border=\"1\" class=\"dataframe\">\n",
       "  <thead>\n",
       "    <tr style=\"text-align: right;\">\n",
       "      <th></th>\n",
       "      <th>SUBJID</th>\n",
       "      <th>SEX</th>\n",
       "      <th>AGE</th>\n",
       "      <th>DTHHRDY</th>\n",
       "      <th>SMATSSCR</th>\n",
       "      <th>SMCENTER</th>\n",
       "      <th>SMPTHNTS</th>\n",
       "      <th>SMRIN</th>\n",
       "      <th>SMTS</th>\n",
       "      <th>SMTSD</th>\n",
       "      <th>...</th>\n",
       "      <th>SME1ANTI</th>\n",
       "      <th>SMSPLTRD</th>\n",
       "      <th>SMBSMMRT</th>\n",
       "      <th>SME1SNSE</th>\n",
       "      <th>SME1PCTS</th>\n",
       "      <th>SMRRNART</th>\n",
       "      <th>SME1MPRT</th>\n",
       "      <th>SMNUM5CD</th>\n",
       "      <th>SMDPMPRT</th>\n",
       "      <th>SME2PCTS</th>\n",
       "    </tr>\n",
       "    <tr>\n",
       "      <th>SAMPID</th>\n",
       "      <th></th>\n",
       "      <th></th>\n",
       "      <th></th>\n",
       "      <th></th>\n",
       "      <th></th>\n",
       "      <th></th>\n",
       "      <th></th>\n",
       "      <th></th>\n",
       "      <th></th>\n",
       "      <th></th>\n",
       "      <th></th>\n",
       "      <th></th>\n",
       "      <th></th>\n",
       "      <th></th>\n",
       "      <th></th>\n",
       "      <th></th>\n",
       "      <th></th>\n",
       "      <th></th>\n",
       "      <th></th>\n",
       "      <th></th>\n",
       "      <th></th>\n",
       "    </tr>\n",
       "  </thead>\n",
       "  <tbody>\n",
       "    <tr>\n",
       "      <th>GTEX-1117F-0003-SM-58Q7G</th>\n",
       "      <td>GTEX-1117F</td>\n",
       "      <td>Female</td>\n",
       "      <td>60-69</td>\n",
       "      <td>4.0</td>\n",
       "      <td>NaN</td>\n",
       "      <td>B1</td>\n",
       "      <td>NaN</td>\n",
       "      <td>NaN</td>\n",
       "      <td>Blood</td>\n",
       "      <td>Whole Blood</td>\n",
       "      <td>...</td>\n",
       "      <td>NaN</td>\n",
       "      <td>NaN</td>\n",
       "      <td>NaN</td>\n",
       "      <td>NaN</td>\n",
       "      <td>NaN</td>\n",
       "      <td>NaN</td>\n",
       "      <td>NaN</td>\n",
       "      <td>NaN</td>\n",
       "      <td>NaN</td>\n",
       "      <td>NaN</td>\n",
       "    </tr>\n",
       "    <tr>\n",
       "      <th>GTEX-1117F-0003-SM-5DWSB</th>\n",
       "      <td>GTEX-1117F</td>\n",
       "      <td>Female</td>\n",
       "      <td>60-69</td>\n",
       "      <td>4.0</td>\n",
       "      <td>NaN</td>\n",
       "      <td>B1</td>\n",
       "      <td>NaN</td>\n",
       "      <td>NaN</td>\n",
       "      <td>Blood</td>\n",
       "      <td>Whole Blood</td>\n",
       "      <td>...</td>\n",
       "      <td>NaN</td>\n",
       "      <td>NaN</td>\n",
       "      <td>NaN</td>\n",
       "      <td>NaN</td>\n",
       "      <td>NaN</td>\n",
       "      <td>NaN</td>\n",
       "      <td>NaN</td>\n",
       "      <td>NaN</td>\n",
       "      <td>NaN</td>\n",
       "      <td>NaN</td>\n",
       "    </tr>\n",
       "    <tr>\n",
       "      <th>GTEX-1117F-0003-SM-6WBT7</th>\n",
       "      <td>GTEX-1117F</td>\n",
       "      <td>Female</td>\n",
       "      <td>60-69</td>\n",
       "      <td>4.0</td>\n",
       "      <td>NaN</td>\n",
       "      <td>B1</td>\n",
       "      <td>NaN</td>\n",
       "      <td>NaN</td>\n",
       "      <td>Blood</td>\n",
       "      <td>Whole Blood</td>\n",
       "      <td>...</td>\n",
       "      <td>NaN</td>\n",
       "      <td>NaN</td>\n",
       "      <td>NaN</td>\n",
       "      <td>NaN</td>\n",
       "      <td>NaN</td>\n",
       "      <td>NaN</td>\n",
       "      <td>NaN</td>\n",
       "      <td>NaN</td>\n",
       "      <td>NaN</td>\n",
       "      <td>NaN</td>\n",
       "    </tr>\n",
       "    <tr>\n",
       "      <th>GTEX-1117F-0011-R10a-SM-AHZ7F</th>\n",
       "      <td>GTEX-1117F</td>\n",
       "      <td>Female</td>\n",
       "      <td>60-69</td>\n",
       "      <td>4.0</td>\n",
       "      <td>NaN</td>\n",
       "      <td>B1, A1</td>\n",
       "      <td>NaN</td>\n",
       "      <td>NaN</td>\n",
       "      <td>Brain</td>\n",
       "      <td>Brain - Frontal Cortex (BA9)</td>\n",
       "      <td>...</td>\n",
       "      <td>NaN</td>\n",
       "      <td>NaN</td>\n",
       "      <td>NaN</td>\n",
       "      <td>NaN</td>\n",
       "      <td>NaN</td>\n",
       "      <td>NaN</td>\n",
       "      <td>NaN</td>\n",
       "      <td>NaN</td>\n",
       "      <td>NaN</td>\n",
       "      <td>NaN</td>\n",
       "    </tr>\n",
       "    <tr>\n",
       "      <th>GTEX-1117F-0011-R10b-SM-CYKQ8</th>\n",
       "      <td>GTEX-1117F</td>\n",
       "      <td>Female</td>\n",
       "      <td>60-69</td>\n",
       "      <td>4.0</td>\n",
       "      <td>NaN</td>\n",
       "      <td>B1, A1</td>\n",
       "      <td>NaN</td>\n",
       "      <td>7.2</td>\n",
       "      <td>Brain</td>\n",
       "      <td>Brain - Frontal Cortex (BA9)</td>\n",
       "      <td>...</td>\n",
       "      <td>NaN</td>\n",
       "      <td>NaN</td>\n",
       "      <td>NaN</td>\n",
       "      <td>NaN</td>\n",
       "      <td>NaN</td>\n",
       "      <td>NaN</td>\n",
       "      <td>NaN</td>\n",
       "      <td>NaN</td>\n",
       "      <td>NaN</td>\n",
       "      <td>NaN</td>\n",
       "    </tr>\n",
       "  </tbody>\n",
       "</table>\n",
       "<p>5 rows × 66 columns</p>\n",
       "</div>"
      ],
      "text/plain": [
       "                                   SUBJID     SEX    AGE  DTHHRDY  SMATSSCR  \\\n",
       "SAMPID                                                                        \n",
       "GTEX-1117F-0003-SM-58Q7G       GTEX-1117F  Female  60-69      4.0       NaN   \n",
       "GTEX-1117F-0003-SM-5DWSB       GTEX-1117F  Female  60-69      4.0       NaN   \n",
       "GTEX-1117F-0003-SM-6WBT7       GTEX-1117F  Female  60-69      4.0       NaN   \n",
       "GTEX-1117F-0011-R10a-SM-AHZ7F  GTEX-1117F  Female  60-69      4.0       NaN   \n",
       "GTEX-1117F-0011-R10b-SM-CYKQ8  GTEX-1117F  Female  60-69      4.0       NaN   \n",
       "\n",
       "                              SMCENTER SMPTHNTS  SMRIN   SMTS  \\\n",
       "SAMPID                                                          \n",
       "GTEX-1117F-0003-SM-58Q7G            B1      NaN    NaN  Blood   \n",
       "GTEX-1117F-0003-SM-5DWSB            B1      NaN    NaN  Blood   \n",
       "GTEX-1117F-0003-SM-6WBT7            B1      NaN    NaN  Blood   \n",
       "GTEX-1117F-0011-R10a-SM-AHZ7F   B1, A1      NaN    NaN  Brain   \n",
       "GTEX-1117F-0011-R10b-SM-CYKQ8   B1, A1      NaN    7.2  Brain   \n",
       "\n",
       "                                                      SMTSD  ... SME1ANTI  \\\n",
       "SAMPID                                                       ...            \n",
       "GTEX-1117F-0003-SM-58Q7G                        Whole Blood  ...      NaN   \n",
       "GTEX-1117F-0003-SM-5DWSB                        Whole Blood  ...      NaN   \n",
       "GTEX-1117F-0003-SM-6WBT7                        Whole Blood  ...      NaN   \n",
       "GTEX-1117F-0011-R10a-SM-AHZ7F  Brain - Frontal Cortex (BA9)  ...      NaN   \n",
       "GTEX-1117F-0011-R10b-SM-CYKQ8  Brain - Frontal Cortex (BA9)  ...      NaN   \n",
       "\n",
       "                               SMSPLTRD  SMBSMMRT SME1SNSE SME1PCTS SMRRNART  \\\n",
       "SAMPID                                                                         \n",
       "GTEX-1117F-0003-SM-58Q7G            NaN       NaN      NaN      NaN      NaN   \n",
       "GTEX-1117F-0003-SM-5DWSB            NaN       NaN      NaN      NaN      NaN   \n",
       "GTEX-1117F-0003-SM-6WBT7            NaN       NaN      NaN      NaN      NaN   \n",
       "GTEX-1117F-0011-R10a-SM-AHZ7F       NaN       NaN      NaN      NaN      NaN   \n",
       "GTEX-1117F-0011-R10b-SM-CYKQ8       NaN       NaN      NaN      NaN      NaN   \n",
       "\n",
       "                              SME1MPRT SMNUM5CD SMDPMPRT SME2PCTS  \n",
       "SAMPID                                                             \n",
       "GTEX-1117F-0003-SM-58Q7G           NaN      NaN      NaN      NaN  \n",
       "GTEX-1117F-0003-SM-5DWSB           NaN      NaN      NaN      NaN  \n",
       "GTEX-1117F-0003-SM-6WBT7           NaN      NaN      NaN      NaN  \n",
       "GTEX-1117F-0011-R10a-SM-AHZ7F      NaN      NaN      NaN      NaN  \n",
       "GTEX-1117F-0011-R10b-SM-CYKQ8      NaN      NaN      NaN      NaN  \n",
       "\n",
       "[5 rows x 66 columns]"
      ]
     },
     "execution_count": 26,
     "metadata": {},
     "output_type": "execute_result"
    }
   ],
   "source": [
    "gtex_metadata.head()"
   ]
  },
  {
   "cell_type": "markdown",
   "id": "cccf7fd4-329c-49e0-b6a7-3f449d78a73c",
   "metadata": {
    "papermill": {
     "duration": 0.002686,
     "end_time": "2023-09-06T21:40:27.824821",
     "exception": false,
     "start_time": "2023-09-06T21:40:27.822135",
     "status": "completed"
    },
    "tags": []
   },
   "source": [
    "# Testing"
   ]
  },
  {
   "cell_type": "code",
   "execution_count": 27,
   "id": "1c15685c-ad29-4ec9-b2ab-532b98084e2d",
   "metadata": {
    "execution": {
     "iopub.execute_input": "2023-09-06T21:40:27.830549Z",
     "iopub.status.busy": "2023-09-06T21:40:27.830442Z",
     "iopub.status.idle": "2023-09-06T21:40:27.832005Z",
     "shell.execute_reply": "2023-09-06T21:40:27.831885Z"
    },
    "papermill": {
     "duration": 0.004854,
     "end_time": "2023-09-06T21:40:27.832388",
     "exception": false,
     "start_time": "2023-09-06T21:40:27.827534",
     "status": "completed"
    },
    "tags": []
   },
   "outputs": [
    {
     "data": {
      "text/plain": [
       "(22951, 66)"
      ]
     },
     "execution_count": 27,
     "metadata": {},
     "output_type": "execute_result"
    }
   ],
   "source": [
    "gtex_metadata.shape"
   ]
  },
  {
   "cell_type": "code",
   "execution_count": 28,
   "id": "5a2ea032-ff23-4187-9375-0a1a2d713eeb",
   "metadata": {
    "execution": {
     "iopub.execute_input": "2023-09-06T21:40:27.838092Z",
     "iopub.status.busy": "2023-09-06T21:40:27.838008Z",
     "iopub.status.idle": "2023-09-06T21:40:27.839797Z",
     "shell.execute_reply": "2023-09-06T21:40:27.839649Z"
    },
    "papermill": {
     "duration": 0.005061,
     "end_time": "2023-09-06T21:40:27.840183",
     "exception": false,
     "start_time": "2023-09-06T21:40:27.835122",
     "status": "completed"
    },
    "tags": []
   },
   "outputs": [],
   "source": [
    "assert not gtex_metadata[\"SUBJID\"].isna().any()"
   ]
  },
  {
   "cell_type": "code",
   "execution_count": 29,
   "id": "65dd3a2f-bcd5-4da6-b721-ec6497e69d63",
   "metadata": {
    "execution": {
     "iopub.execute_input": "2023-09-06T21:40:27.845867Z",
     "iopub.status.busy": "2023-09-06T21:40:27.845815Z",
     "iopub.status.idle": "2023-09-06T21:40:27.848031Z",
     "shell.execute_reply": "2023-09-06T21:40:27.847892Z"
    },
    "papermill": {
     "duration": 0.005507,
     "end_time": "2023-09-06T21:40:27.848426",
     "exception": false,
     "start_time": "2023-09-06T21:40:27.842919",
     "status": "completed"
    },
    "tags": []
   },
   "outputs": [],
   "source": [
    "assert not gtex_metadata[\"SMTS\"].isna().any()\n",
    "assert not gtex_metadata[\"SMTSD\"].isna().any()"
   ]
  },
  {
   "cell_type": "code",
   "execution_count": 30,
   "id": "626151f8-4606-4817-883c-fefd1c1c7db1",
   "metadata": {
    "execution": {
     "iopub.execute_input": "2023-09-06T21:40:27.854260Z",
     "iopub.status.busy": "2023-09-06T21:40:27.854165Z",
     "iopub.status.idle": "2023-09-06T21:40:27.856876Z",
     "shell.execute_reply": "2023-09-06T21:40:27.856746Z"
    },
    "papermill": {
     "duration": 0.006027,
     "end_time": "2023-09-06T21:40:27.857260",
     "exception": false,
     "start_time": "2023-09-06T21:40:27.851233",
     "status": "completed"
    },
    "tags": []
   },
   "outputs": [],
   "source": [
    "assert not gtex_metadata[\"SEX\"].isna().any()\n",
    "assert gtex_metadata[\"SEX\"].unique().shape[0] == 2\n",
    "assert set(gtex_metadata[\"SEX\"].unique()) == {\"Female\", \"Male\"}"
   ]
  },
  {
   "cell_type": "markdown",
   "id": "3ae112d5-0b8d-456f-9fd3-b9425c7be8b8",
   "metadata": {
    "papermill": {
     "duration": 0.002682,
     "end_time": "2023-09-06T21:40:27.862615",
     "exception": false,
     "start_time": "2023-09-06T21:40:27.859933",
     "status": "completed"
    },
    "tags": []
   },
   "source": [
    "# Save"
   ]
  },
  {
   "cell_type": "code",
   "execution_count": 31,
   "id": "ff4e5f05-acbf-4c28-86e4-63861f44d24d",
   "metadata": {
    "execution": {
     "iopub.execute_input": "2023-09-06T21:40:27.868246Z",
     "iopub.status.busy": "2023-09-06T21:40:27.868160Z",
     "iopub.status.idle": "2023-09-06T21:40:27.869665Z",
     "shell.execute_reply": "2023-09-06T21:40:27.869544Z"
    },
    "papermill": {
     "duration": 0.004741,
     "end_time": "2023-09-06T21:40:27.870049",
     "exception": false,
     "start_time": "2023-09-06T21:40:27.865308",
     "status": "completed"
    },
    "tags": []
   },
   "outputs": [
    {
     "data": {
      "text/plain": [
       "PosixPath('/opt/data/data/gtex_v8/gtex_v8-sample_metadata.pkl')"
      ]
     },
     "metadata": {},
     "output_type": "display_data"
    }
   ],
   "source": [
    "output_filename = OUTPUT_DIR / \"gtex_v8-sample_metadata.pkl\"\n",
    "display(output_filename)"
   ]
  },
  {
   "cell_type": "code",
   "execution_count": 32,
   "id": "3bfcde76-54ef-40b0-a03b-0f1ae31b61d3",
   "metadata": {
    "execution": {
     "iopub.execute_input": "2023-09-06T21:40:27.875757Z",
     "iopub.status.busy": "2023-09-06T21:40:27.875685Z",
     "iopub.status.idle": "2023-09-06T21:40:27.887532Z",
     "shell.execute_reply": "2023-09-06T21:40:27.887359Z"
    },
    "papermill": {
     "duration": 0.01529,
     "end_time": "2023-09-06T21:40:27.888085",
     "exception": false,
     "start_time": "2023-09-06T21:40:27.872795",
     "status": "completed"
    },
    "tags": []
   },
   "outputs": [],
   "source": [
    "gtex_metadata.to_pickle(output_filename)"
   ]
  },
  {
   "cell_type": "code",
   "execution_count": null,
   "id": "588803c0-0655-4af7-8721-ca8ceba871cf",
   "metadata": {
    "papermill": {
     "duration": 0.00271,
     "end_time": "2023-09-06T21:40:27.893674",
     "exception": false,
     "start_time": "2023-09-06T21:40:27.890964",
     "status": "completed"
    },
    "tags": []
   },
   "outputs": [],
   "source": []
  }
 ],
 "metadata": {
  "jupytext": {
   "cell_metadata_filter": "all,-execution,-papermill,-trusted"
  },
  "kernelspec": {
   "display_name": "Python 3 (ipykernel)",
   "language": "python",
   "name": "python3"
  },
  "language_info": {
   "codemirror_mode": {
    "name": "ipython",
    "version": 3
   },
   "file_extension": ".py",
   "mimetype": "text/x-python",
   "name": "python",
   "nbconvert_exporter": "python",
   "pygments_lexer": "ipython3",
   "version": "3.9.12"
  },
  "papermill": {
   "default_parameters": {},
   "duration": 1.511249,
   "end_time": "2023-09-06T21:40:28.011752",
   "environment_variables": {},
   "exception": null,
   "input_path": "nbs/05_preprocessing/07-gtex_v8-metadata.ipynb",
   "output_path": "nbs/05_preprocessing/07-gtex_v8-metadata.run.ipynb",
   "parameters": {},
   "start_time": "2023-09-06T21:40:26.500503",
   "version": "2.3.3"
  }
 },
 "nbformat": 4,
 "nbformat_minor": 5
}
