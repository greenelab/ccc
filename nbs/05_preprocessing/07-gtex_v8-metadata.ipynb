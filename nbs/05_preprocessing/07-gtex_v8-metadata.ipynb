{
 "cells": [
  {
   "cell_type": "markdown",
   "id": "b9c35e72-e087-4511-9899-5da25f3ff7ba",
   "metadata": {
    "papermill": {
     "duration": 0.058765,
     "end_time": "2022-01-24T20:12:35.546509",
     "exception": false,
     "start_time": "2022-01-24T20:12:35.487744",
     "status": "completed"
    },
    "tags": []
   },
   "source": [
    "# Description"
   ]
  },
  {
   "cell_type": "markdown",
   "id": "9ef6707b-70c2-44ce-92dd-96782b4b539e",
   "metadata": {
    "papermill": {
     "duration": 0.029921,
     "end_time": "2022-01-24T20:12:35.600878",
     "exception": false,
     "start_time": "2022-01-24T20:12:35.570957",
     "status": "completed"
    },
    "tags": []
   },
   "source": [
    "It reads GTEx v8 metadata on samples and subjects and writes a file with that info."
   ]
  },
  {
   "cell_type": "markdown",
   "id": "5d4ae4df-624d-4951-917c-880462cfb658",
   "metadata": {
    "papermill": {
     "duration": 0.024058,
     "end_time": "2022-01-24T20:12:35.651210",
     "exception": false,
     "start_time": "2022-01-24T20:12:35.627152",
     "status": "completed"
    },
    "tags": []
   },
   "source": [
    "# Modules"
   ]
  },
  {
   "cell_type": "code",
   "execution_count": 1,
   "id": "2dcd0e52-236a-44cd-9cd9-71cca1232338",
   "metadata": {
    "execution": {
     "iopub.execute_input": "2022-01-24T20:12:35.706659Z",
     "iopub.status.busy": "2022-01-24T20:12:35.706193Z",
     "iopub.status.idle": "2022-01-24T20:12:35.936077Z",
     "shell.execute_reply": "2022-01-24T20:12:35.935579Z"
    },
    "papermill": {
     "duration": 0.260879,
     "end_time": "2022-01-24T20:12:35.936190",
     "exception": false,
     "start_time": "2022-01-24T20:12:35.675311",
     "status": "completed"
    },
    "tags": []
   },
   "outputs": [],
   "source": [
    "import re\n",
    "\n",
    "import pandas as pd\n",
    "\n",
    "from clustermatch import conf"
   ]
  },
  {
   "cell_type": "markdown",
   "id": "e9ef3211-8d35-4b4b-be45-2de384b6fdee",
   "metadata": {
    "papermill": {
     "duration": 0.024306,
     "end_time": "2022-01-24T20:12:35.985606",
     "exception": false,
     "start_time": "2022-01-24T20:12:35.961300",
     "status": "completed"
    },
    "tags": []
   },
   "source": [
    "# Settings"
   ]
  },
  {
   "cell_type": "markdown",
   "id": "649a237d-595e-4bd7-a607-7c1773b36cb5",
   "metadata": {
    "papermill": {
     "duration": 0.024896,
     "end_time": "2022-01-24T20:12:36.035011",
     "exception": false,
     "start_time": "2022-01-24T20:12:36.010115",
     "status": "completed"
    },
    "tags": []
   },
   "source": [
    "# Paths"
   ]
  },
  {
   "cell_type": "code",
   "execution_count": 2,
   "id": "1ea8a834-34dd-480f-b85f-5706aa4db334",
   "metadata": {
    "execution": {
     "iopub.execute_input": "2022-01-24T20:12:36.087101Z",
     "iopub.status.busy": "2022-01-24T20:12:36.086638Z",
     "iopub.status.idle": "2022-01-24T20:12:36.089005Z",
     "shell.execute_reply": "2022-01-24T20:12:36.088562Z"
    },
    "papermill": {
     "duration": 0.029899,
     "end_time": "2022-01-24T20:12:36.089101",
     "exception": false,
     "start_time": "2022-01-24T20:12:36.059202",
     "status": "completed"
    },
    "tags": []
   },
   "outputs": [],
   "source": [
    "TISSUE_DIR = conf.GTEX[\"DATA_DIR\"] / \"data_by_tissue\"\n",
    "assert TISSUE_DIR.exists()"
   ]
  },
  {
   "cell_type": "code",
   "execution_count": 3,
   "id": "e299e696-c524-46fb-a200-4f40d22d111c",
   "metadata": {
    "execution": {
     "iopub.execute_input": "2022-01-24T20:12:36.146381Z",
     "iopub.status.busy": "2022-01-24T20:12:36.145913Z",
     "iopub.status.idle": "2022-01-24T20:12:36.150716Z",
     "shell.execute_reply": "2022-01-24T20:12:36.150325Z"
    },
    "papermill": {
     "duration": 0.036228,
     "end_time": "2022-01-24T20:12:36.150813",
     "exception": false,
     "start_time": "2022-01-24T20:12:36.114585",
     "status": "completed"
    },
    "tags": []
   },
   "outputs": [
    {
     "data": {
      "text/plain": [
       "PosixPath('/opt/data/data/gtex_v8')"
      ]
     },
     "metadata": {},
     "output_type": "display_data"
    }
   ],
   "source": [
    "OUTPUT_DIR = conf.GTEX[\"DATA_DIR\"]\n",
    "display(OUTPUT_DIR)\n",
    "OUTPUT_DIR.mkdir(parents=True, exist_ok=True)"
   ]
  },
  {
   "cell_type": "markdown",
   "id": "35453032-07b1-4e68-9f65-f8ec0d0ebcd1",
   "metadata": {
    "papermill": {
     "duration": 0.025344,
     "end_time": "2022-01-24T20:12:36.202038",
     "exception": false,
     "start_time": "2022-01-24T20:12:36.176694",
     "status": "completed"
    },
    "tags": []
   },
   "source": [
    "# Data"
   ]
  },
  {
   "cell_type": "markdown",
   "id": "76b3390f-360a-45e8-b38d-f14f92823125",
   "metadata": {
    "papermill": {
     "duration": 0.024383,
     "end_time": "2022-01-24T20:12:36.250762",
     "exception": false,
     "start_time": "2022-01-24T20:12:36.226379",
     "status": "completed"
    },
    "tags": []
   },
   "source": [
    "## GTEx samples info"
   ]
  },
  {
   "cell_type": "code",
   "execution_count": 4,
   "id": "1189bee1-90d0-4b6c-9362-a7ccc2bcb501",
   "metadata": {
    "execution": {
     "iopub.execute_input": "2022-01-24T20:12:36.303545Z",
     "iopub.status.busy": "2022-01-24T20:12:36.303098Z",
     "iopub.status.idle": "2022-01-24T20:12:36.305031Z",
     "shell.execute_reply": "2022-01-24T20:12:36.304665Z"
    },
    "papermill": {
     "duration": 0.029941,
     "end_time": "2022-01-24T20:12:36.305127",
     "exception": false,
     "start_time": "2022-01-24T20:12:36.275186",
     "status": "completed"
    },
    "tags": []
   },
   "outputs": [],
   "source": [
    "assert conf.GTEX[\"SAMPLE_ATTRS_FILE\"].exists(), \"Sample files does not exist\""
   ]
  },
  {
   "cell_type": "code",
   "execution_count": 5,
   "id": "b6e7065b-e4da-423d-a8d8-0e11eb37a61f",
   "metadata": {
    "execution": {
     "iopub.execute_input": "2022-01-24T20:12:36.359759Z",
     "iopub.status.busy": "2022-01-24T20:12:36.359308Z",
     "iopub.status.idle": "2022-01-24T20:12:36.539741Z",
     "shell.execute_reply": "2022-01-24T20:12:36.539248Z"
    },
    "papermill": {
     "duration": 0.209397,
     "end_time": "2022-01-24T20:12:36.539847",
     "exception": false,
     "start_time": "2022-01-24T20:12:36.330450",
     "status": "completed"
    },
    "tags": []
   },
   "outputs": [],
   "source": [
    "gtex_samples = pd.read_csv(\n",
    "    conf.GTEX[\"SAMPLE_ATTRS_FILE\"],\n",
    "    sep=\"\\t\",\n",
    "    index_col=\"SAMPID\",\n",
    ")"
   ]
  },
  {
   "cell_type": "code",
   "execution_count": 6,
   "id": "eb098bd6-b615-4200-b041-777b88927977",
   "metadata": {
    "execution": {
     "iopub.execute_input": "2022-01-24T20:12:36.604102Z",
     "iopub.status.busy": "2022-01-24T20:12:36.603531Z",
     "iopub.status.idle": "2022-01-24T20:12:36.605637Z",
     "shell.execute_reply": "2022-01-24T20:12:36.606077Z"
    },
    "papermill": {
     "duration": 0.039027,
     "end_time": "2022-01-24T20:12:36.606220",
     "exception": false,
     "start_time": "2022-01-24T20:12:36.567193",
     "status": "completed"
    },
    "tags": []
   },
   "outputs": [
    {
     "data": {
      "text/plain": [
       "(22951, 62)"
      ]
     },
     "metadata": {},
     "output_type": "display_data"
    }
   ],
   "source": [
    "display(gtex_samples.shape)\n",
    "assert gtex_samples.index.is_unique"
   ]
  },
  {
   "cell_type": "code",
   "execution_count": 7,
   "id": "05963bde-6c8c-42ee-8298-8fd96de87fcb",
   "metadata": {
    "execution": {
     "iopub.execute_input": "2022-01-24T20:12:36.666747Z",
     "iopub.status.busy": "2022-01-24T20:12:36.666230Z",
     "iopub.status.idle": "2022-01-24T20:12:36.683437Z",
     "shell.execute_reply": "2022-01-24T20:12:36.683040Z"
    },
    "papermill": {
     "duration": 0.048386,
     "end_time": "2022-01-24T20:12:36.683536",
     "exception": false,
     "start_time": "2022-01-24T20:12:36.635150",
     "status": "completed"
    },
    "tags": []
   },
   "outputs": [
    {
     "data": {
      "text/html": [
       "<div>\n",
       "<style scoped>\n",
       "    .dataframe tbody tr th:only-of-type {\n",
       "        vertical-align: middle;\n",
       "    }\n",
       "\n",
       "    .dataframe tbody tr th {\n",
       "        vertical-align: top;\n",
       "    }\n",
       "\n",
       "    .dataframe thead th {\n",
       "        text-align: right;\n",
       "    }\n",
       "</style>\n",
       "<table border=\"1\" class=\"dataframe\">\n",
       "  <thead>\n",
       "    <tr style=\"text-align: right;\">\n",
       "      <th></th>\n",
       "      <th>SMATSSCR</th>\n",
       "      <th>SMCENTER</th>\n",
       "      <th>SMPTHNTS</th>\n",
       "      <th>SMRIN</th>\n",
       "      <th>SMTS</th>\n",
       "      <th>SMTSD</th>\n",
       "      <th>SMUBRID</th>\n",
       "      <th>SMTSISCH</th>\n",
       "      <th>SMTSPAX</th>\n",
       "      <th>SMNABTCH</th>\n",
       "      <th>...</th>\n",
       "      <th>SME1ANTI</th>\n",
       "      <th>SMSPLTRD</th>\n",
       "      <th>SMBSMMRT</th>\n",
       "      <th>SME1SNSE</th>\n",
       "      <th>SME1PCTS</th>\n",
       "      <th>SMRRNART</th>\n",
       "      <th>SME1MPRT</th>\n",
       "      <th>SMNUM5CD</th>\n",
       "      <th>SMDPMPRT</th>\n",
       "      <th>SME2PCTS</th>\n",
       "    </tr>\n",
       "    <tr>\n",
       "      <th>SAMPID</th>\n",
       "      <th></th>\n",
       "      <th></th>\n",
       "      <th></th>\n",
       "      <th></th>\n",
       "      <th></th>\n",
       "      <th></th>\n",
       "      <th></th>\n",
       "      <th></th>\n",
       "      <th></th>\n",
       "      <th></th>\n",
       "      <th></th>\n",
       "      <th></th>\n",
       "      <th></th>\n",
       "      <th></th>\n",
       "      <th></th>\n",
       "      <th></th>\n",
       "      <th></th>\n",
       "      <th></th>\n",
       "      <th></th>\n",
       "      <th></th>\n",
       "      <th></th>\n",
       "    </tr>\n",
       "  </thead>\n",
       "  <tbody>\n",
       "    <tr>\n",
       "      <th>GTEX-1117F-0003-SM-58Q7G</th>\n",
       "      <td>NaN</td>\n",
       "      <td>B1</td>\n",
       "      <td>NaN</td>\n",
       "      <td>NaN</td>\n",
       "      <td>Blood</td>\n",
       "      <td>Whole Blood</td>\n",
       "      <td>0013756</td>\n",
       "      <td>1188.0</td>\n",
       "      <td>NaN</td>\n",
       "      <td>BP-38516</td>\n",
       "      <td>...</td>\n",
       "      <td>NaN</td>\n",
       "      <td>NaN</td>\n",
       "      <td>NaN</td>\n",
       "      <td>NaN</td>\n",
       "      <td>NaN</td>\n",
       "      <td>NaN</td>\n",
       "      <td>NaN</td>\n",
       "      <td>NaN</td>\n",
       "      <td>NaN</td>\n",
       "      <td>NaN</td>\n",
       "    </tr>\n",
       "    <tr>\n",
       "      <th>GTEX-1117F-0003-SM-5DWSB</th>\n",
       "      <td>NaN</td>\n",
       "      <td>B1</td>\n",
       "      <td>NaN</td>\n",
       "      <td>NaN</td>\n",
       "      <td>Blood</td>\n",
       "      <td>Whole Blood</td>\n",
       "      <td>0013756</td>\n",
       "      <td>1188.0</td>\n",
       "      <td>NaN</td>\n",
       "      <td>BP-38516</td>\n",
       "      <td>...</td>\n",
       "      <td>NaN</td>\n",
       "      <td>NaN</td>\n",
       "      <td>NaN</td>\n",
       "      <td>NaN</td>\n",
       "      <td>NaN</td>\n",
       "      <td>NaN</td>\n",
       "      <td>NaN</td>\n",
       "      <td>NaN</td>\n",
       "      <td>NaN</td>\n",
       "      <td>NaN</td>\n",
       "    </tr>\n",
       "    <tr>\n",
       "      <th>GTEX-1117F-0003-SM-6WBT7</th>\n",
       "      <td>NaN</td>\n",
       "      <td>B1</td>\n",
       "      <td>NaN</td>\n",
       "      <td>NaN</td>\n",
       "      <td>Blood</td>\n",
       "      <td>Whole Blood</td>\n",
       "      <td>0013756</td>\n",
       "      <td>1188.0</td>\n",
       "      <td>NaN</td>\n",
       "      <td>BP-38516</td>\n",
       "      <td>...</td>\n",
       "      <td>NaN</td>\n",
       "      <td>NaN</td>\n",
       "      <td>NaN</td>\n",
       "      <td>NaN</td>\n",
       "      <td>NaN</td>\n",
       "      <td>NaN</td>\n",
       "      <td>NaN</td>\n",
       "      <td>NaN</td>\n",
       "      <td>NaN</td>\n",
       "      <td>NaN</td>\n",
       "    </tr>\n",
       "    <tr>\n",
       "      <th>GTEX-1117F-0011-R10a-SM-AHZ7F</th>\n",
       "      <td>NaN</td>\n",
       "      <td>B1, A1</td>\n",
       "      <td>NaN</td>\n",
       "      <td>NaN</td>\n",
       "      <td>Brain</td>\n",
       "      <td>Brain - Frontal Cortex (BA9)</td>\n",
       "      <td>0009834</td>\n",
       "      <td>1193.0</td>\n",
       "      <td>NaN</td>\n",
       "      <td>NaN</td>\n",
       "      <td>...</td>\n",
       "      <td>NaN</td>\n",
       "      <td>NaN</td>\n",
       "      <td>NaN</td>\n",
       "      <td>NaN</td>\n",
       "      <td>NaN</td>\n",
       "      <td>NaN</td>\n",
       "      <td>NaN</td>\n",
       "      <td>NaN</td>\n",
       "      <td>NaN</td>\n",
       "      <td>NaN</td>\n",
       "    </tr>\n",
       "    <tr>\n",
       "      <th>GTEX-1117F-0011-R10b-SM-CYKQ8</th>\n",
       "      <td>NaN</td>\n",
       "      <td>B1, A1</td>\n",
       "      <td>NaN</td>\n",
       "      <td>7.2</td>\n",
       "      <td>Brain</td>\n",
       "      <td>Brain - Frontal Cortex (BA9)</td>\n",
       "      <td>0009834</td>\n",
       "      <td>1193.0</td>\n",
       "      <td>NaN</td>\n",
       "      <td>BP-42319</td>\n",
       "      <td>...</td>\n",
       "      <td>NaN</td>\n",
       "      <td>NaN</td>\n",
       "      <td>NaN</td>\n",
       "      <td>NaN</td>\n",
       "      <td>NaN</td>\n",
       "      <td>NaN</td>\n",
       "      <td>NaN</td>\n",
       "      <td>NaN</td>\n",
       "      <td>NaN</td>\n",
       "      <td>NaN</td>\n",
       "    </tr>\n",
       "  </tbody>\n",
       "</table>\n",
       "<p>5 rows × 62 columns</p>\n",
       "</div>"
      ],
      "text/plain": [
       "                               SMATSSCR SMCENTER SMPTHNTS  SMRIN   SMTS  \\\n",
       "SAMPID                                                                    \n",
       "GTEX-1117F-0003-SM-58Q7G            NaN       B1      NaN    NaN  Blood   \n",
       "GTEX-1117F-0003-SM-5DWSB            NaN       B1      NaN    NaN  Blood   \n",
       "GTEX-1117F-0003-SM-6WBT7            NaN       B1      NaN    NaN  Blood   \n",
       "GTEX-1117F-0011-R10a-SM-AHZ7F       NaN   B1, A1      NaN    NaN  Brain   \n",
       "GTEX-1117F-0011-R10b-SM-CYKQ8       NaN   B1, A1      NaN    7.2  Brain   \n",
       "\n",
       "                                                      SMTSD  SMUBRID  \\\n",
       "SAMPID                                                                 \n",
       "GTEX-1117F-0003-SM-58Q7G                        Whole Blood  0013756   \n",
       "GTEX-1117F-0003-SM-5DWSB                        Whole Blood  0013756   \n",
       "GTEX-1117F-0003-SM-6WBT7                        Whole Blood  0013756   \n",
       "GTEX-1117F-0011-R10a-SM-AHZ7F  Brain - Frontal Cortex (BA9)  0009834   \n",
       "GTEX-1117F-0011-R10b-SM-CYKQ8  Brain - Frontal Cortex (BA9)  0009834   \n",
       "\n",
       "                               SMTSISCH  SMTSPAX  SMNABTCH  ... SME1ANTI  \\\n",
       "SAMPID                                                      ...            \n",
       "GTEX-1117F-0003-SM-58Q7G         1188.0      NaN  BP-38516  ...      NaN   \n",
       "GTEX-1117F-0003-SM-5DWSB         1188.0      NaN  BP-38516  ...      NaN   \n",
       "GTEX-1117F-0003-SM-6WBT7         1188.0      NaN  BP-38516  ...      NaN   \n",
       "GTEX-1117F-0011-R10a-SM-AHZ7F    1193.0      NaN       NaN  ...      NaN   \n",
       "GTEX-1117F-0011-R10b-SM-CYKQ8    1193.0      NaN  BP-42319  ...      NaN   \n",
       "\n",
       "                              SMSPLTRD SMBSMMRT SME1SNSE SME1PCTS SMRRNART  \\\n",
       "SAMPID                                                                       \n",
       "GTEX-1117F-0003-SM-58Q7G           NaN      NaN      NaN      NaN      NaN   \n",
       "GTEX-1117F-0003-SM-5DWSB           NaN      NaN      NaN      NaN      NaN   \n",
       "GTEX-1117F-0003-SM-6WBT7           NaN      NaN      NaN      NaN      NaN   \n",
       "GTEX-1117F-0011-R10a-SM-AHZ7F      NaN      NaN      NaN      NaN      NaN   \n",
       "GTEX-1117F-0011-R10b-SM-CYKQ8      NaN      NaN      NaN      NaN      NaN   \n",
       "\n",
       "                              SME1MPRT  SMNUM5CD  SMDPMPRT  SME2PCTS  \n",
       "SAMPID                                                                \n",
       "GTEX-1117F-0003-SM-58Q7G           NaN       NaN       NaN       NaN  \n",
       "GTEX-1117F-0003-SM-5DWSB           NaN       NaN       NaN       NaN  \n",
       "GTEX-1117F-0003-SM-6WBT7           NaN       NaN       NaN       NaN  \n",
       "GTEX-1117F-0011-R10a-SM-AHZ7F      NaN       NaN       NaN       NaN  \n",
       "GTEX-1117F-0011-R10b-SM-CYKQ8      NaN       NaN       NaN       NaN  \n",
       "\n",
       "[5 rows x 62 columns]"
      ]
     },
     "execution_count": 7,
     "metadata": {},
     "output_type": "execute_result"
    }
   ],
   "source": [
    "gtex_samples.head()"
   ]
  },
  {
   "cell_type": "markdown",
   "id": "dc0a9692-52bd-45e2-b03c-b271966a88af",
   "metadata": {
    "papermill": {
     "duration": 0.026352,
     "end_time": "2022-01-24T20:12:36.736644",
     "exception": false,
     "start_time": "2022-01-24T20:12:36.710292",
     "status": "completed"
    },
    "tags": []
   },
   "source": [
    "## GTEx subject phenotypes"
   ]
  },
  {
   "cell_type": "code",
   "execution_count": 8,
   "id": "00f688bf-94be-4887-8bfd-f57ec29155a0",
   "metadata": {
    "execution": {
     "iopub.execute_input": "2022-01-24T20:12:36.791952Z",
     "iopub.status.busy": "2022-01-24T20:12:36.791399Z",
     "iopub.status.idle": "2022-01-24T20:12:36.793651Z",
     "shell.execute_reply": "2022-01-24T20:12:36.793217Z"
    },
    "papermill": {
     "duration": 0.031203,
     "end_time": "2022-01-24T20:12:36.793744",
     "exception": false,
     "start_time": "2022-01-24T20:12:36.762541",
     "status": "completed"
    },
    "tags": []
   },
   "outputs": [],
   "source": [
    "assert conf.GTEX[\"SUBJECTS_ATTRS_FILE\"].exists(), \"Subject files does not exist\""
   ]
  },
  {
   "cell_type": "code",
   "execution_count": 9,
   "id": "64149f51-d076-40fb-8c36-f2631554ea94",
   "metadata": {
    "execution": {
     "iopub.execute_input": "2022-01-24T20:12:36.850640Z",
     "iopub.status.busy": "2022-01-24T20:12:36.850169Z",
     "iopub.status.idle": "2022-01-24T20:12:36.854173Z",
     "shell.execute_reply": "2022-01-24T20:12:36.853718Z"
    },
    "papermill": {
     "duration": 0.034002,
     "end_time": "2022-01-24T20:12:36.854272",
     "exception": false,
     "start_time": "2022-01-24T20:12:36.820270",
     "status": "completed"
    },
    "tags": []
   },
   "outputs": [],
   "source": [
    "gtex_phenotypes = pd.read_csv(\n",
    "    conf.GTEX[\"SUBJECTS_ATTRS_FILE\"],\n",
    "    sep=\"\\t\",\n",
    ")"
   ]
  },
  {
   "cell_type": "code",
   "execution_count": 10,
   "id": "6b2639f1-c6ba-4bfb-b261-eab8961e43f7",
   "metadata": {
    "execution": {
     "iopub.execute_input": "2022-01-24T20:12:36.910775Z",
     "iopub.status.busy": "2022-01-24T20:12:36.910241Z",
     "iopub.status.idle": "2022-01-24T20:12:36.912518Z",
     "shell.execute_reply": "2022-01-24T20:12:36.912871Z"
    },
    "papermill": {
     "duration": 0.032387,
     "end_time": "2022-01-24T20:12:36.912983",
     "exception": false,
     "start_time": "2022-01-24T20:12:36.880596",
     "status": "completed"
    },
    "tags": []
   },
   "outputs": [
    {
     "data": {
      "text/plain": [
       "(980, 4)"
      ]
     },
     "execution_count": 10,
     "metadata": {},
     "output_type": "execute_result"
    }
   ],
   "source": [
    "gtex_phenotypes.shape"
   ]
  },
  {
   "cell_type": "code",
   "execution_count": 11,
   "id": "d0cc026d-9e84-4bed-9cc3-fc221a66013e",
   "metadata": {
    "execution": {
     "iopub.execute_input": "2022-01-24T20:12:36.974899Z",
     "iopub.status.busy": "2022-01-24T20:12:36.974393Z",
     "iopub.status.idle": "2022-01-24T20:12:36.976549Z",
     "shell.execute_reply": "2022-01-24T20:12:36.976890Z"
    },
    "papermill": {
     "duration": 0.036876,
     "end_time": "2022-01-24T20:12:36.977009",
     "exception": false,
     "start_time": "2022-01-24T20:12:36.940133",
     "status": "completed"
    },
    "tags": []
   },
   "outputs": [
    {
     "data": {
      "text/html": [
       "<div>\n",
       "<style scoped>\n",
       "    .dataframe tbody tr th:only-of-type {\n",
       "        vertical-align: middle;\n",
       "    }\n",
       "\n",
       "    .dataframe tbody tr th {\n",
       "        vertical-align: top;\n",
       "    }\n",
       "\n",
       "    .dataframe thead th {\n",
       "        text-align: right;\n",
       "    }\n",
       "</style>\n",
       "<table border=\"1\" class=\"dataframe\">\n",
       "  <thead>\n",
       "    <tr style=\"text-align: right;\">\n",
       "      <th></th>\n",
       "      <th>SUBJID</th>\n",
       "      <th>SEX</th>\n",
       "      <th>AGE</th>\n",
       "      <th>DTHHRDY</th>\n",
       "    </tr>\n",
       "  </thead>\n",
       "  <tbody>\n",
       "    <tr>\n",
       "      <th>0</th>\n",
       "      <td>GTEX-1117F</td>\n",
       "      <td>2</td>\n",
       "      <td>60-69</td>\n",
       "      <td>4.0</td>\n",
       "    </tr>\n",
       "    <tr>\n",
       "      <th>1</th>\n",
       "      <td>GTEX-111CU</td>\n",
       "      <td>1</td>\n",
       "      <td>50-59</td>\n",
       "      <td>0.0</td>\n",
       "    </tr>\n",
       "    <tr>\n",
       "      <th>2</th>\n",
       "      <td>GTEX-111FC</td>\n",
       "      <td>1</td>\n",
       "      <td>60-69</td>\n",
       "      <td>1.0</td>\n",
       "    </tr>\n",
       "    <tr>\n",
       "      <th>3</th>\n",
       "      <td>GTEX-111VG</td>\n",
       "      <td>1</td>\n",
       "      <td>60-69</td>\n",
       "      <td>3.0</td>\n",
       "    </tr>\n",
       "    <tr>\n",
       "      <th>4</th>\n",
       "      <td>GTEX-111YS</td>\n",
       "      <td>1</td>\n",
       "      <td>60-69</td>\n",
       "      <td>0.0</td>\n",
       "    </tr>\n",
       "  </tbody>\n",
       "</table>\n",
       "</div>"
      ],
      "text/plain": [
       "       SUBJID  SEX    AGE  DTHHRDY\n",
       "0  GTEX-1117F    2  60-69      4.0\n",
       "1  GTEX-111CU    1  50-59      0.0\n",
       "2  GTEX-111FC    1  60-69      1.0\n",
       "3  GTEX-111VG    1  60-69      3.0\n",
       "4  GTEX-111YS    1  60-69      0.0"
      ]
     },
     "execution_count": 11,
     "metadata": {},
     "output_type": "execute_result"
    }
   ],
   "source": [
    "gtex_phenotypes.head()"
   ]
  },
  {
   "cell_type": "markdown",
   "id": "e7bb7aa5-298e-42d2-b409-b4dcb7b5c02b",
   "metadata": {
    "papermill": {
     "duration": 0.026658,
     "end_time": "2022-01-24T20:12:37.031549",
     "exception": false,
     "start_time": "2022-01-24T20:12:37.004891",
     "status": "completed"
    },
    "tags": []
   },
   "source": [
    "## GTEx gene expression sample"
   ]
  },
  {
   "cell_type": "code",
   "execution_count": 12,
   "id": "f7e1f625-9fe5-4b30-9b3c-a33817be7e05",
   "metadata": {
    "execution": {
     "iopub.execute_input": "2022-01-24T20:12:37.089149Z",
     "iopub.status.busy": "2022-01-24T20:12:37.088634Z",
     "iopub.status.idle": "2022-01-24T20:12:37.113267Z",
     "shell.execute_reply": "2022-01-24T20:12:37.113596Z"
    },
    "papermill": {
     "duration": 0.05542,
     "end_time": "2022-01-24T20:12:37.113713",
     "exception": false,
     "start_time": "2022-01-24T20:12:37.058293",
     "status": "completed"
    },
    "tags": []
   },
   "outputs": [
    {
     "data": {
      "text/html": [
       "<div>\n",
       "<style scoped>\n",
       "    .dataframe tbody tr th:only-of-type {\n",
       "        vertical-align: middle;\n",
       "    }\n",
       "\n",
       "    .dataframe tbody tr th {\n",
       "        vertical-align: top;\n",
       "    }\n",
       "\n",
       "    .dataframe thead th {\n",
       "        text-align: right;\n",
       "    }\n",
       "</style>\n",
       "<table border=\"1\" class=\"dataframe\">\n",
       "  <thead>\n",
       "    <tr style=\"text-align: right;\">\n",
       "      <th></th>\n",
       "      <th>GTEX-OIZF-1926-SM-7PBZS</th>\n",
       "      <th>GTEX-P44H-2226-SM-E9U4P</th>\n",
       "      <th>GTEX-QEL4-1826-SM-EZ6KU</th>\n",
       "      <th>GTEX-RN64-2426-SM-EZ6L2</th>\n",
       "      <th>GTEX-RU72-2526-SM-EWRML</th>\n",
       "      <th>GTEX-S32W-1126-SM-4AD5V</th>\n",
       "      <th>GTEX-S33H-1926-SM-EYYVH</th>\n",
       "      <th>GTEX-S3XE-1226-SM-4AD4L</th>\n",
       "      <th>GTEX-S4Q7-0926-SM-4AD5D</th>\n",
       "      <th>GTEX-S4UY-0926-SM-4AD6O</th>\n",
       "      <th>...</th>\n",
       "      <th>GTEX-SE5C-1026-SM-4BRUG</th>\n",
       "      <th>GTEX-SNMC-0826-SM-4DM66</th>\n",
       "      <th>GTEX-SNOS-0526-SM-4DM54</th>\n",
       "      <th>GTEX-T2YK-2326-SM-EZ6LA</th>\n",
       "      <th>GTEX-T5JW-1026-SM-EZ6LR</th>\n",
       "      <th>GTEX-T6MN-2226-SM-EVYAM</th>\n",
       "      <th>GTEX-TMMY-1526-SM-4DXST</th>\n",
       "      <th>GTEX-U3ZM-0826-SM-4DXU6</th>\n",
       "      <th>GTEX-U3ZN-1226-SM-4DXUD</th>\n",
       "      <th>GTEX-U4B1-1226-SM-4DXT7</th>\n",
       "    </tr>\n",
       "    <tr>\n",
       "      <th>gene_ens_id</th>\n",
       "      <th></th>\n",
       "      <th></th>\n",
       "      <th></th>\n",
       "      <th></th>\n",
       "      <th></th>\n",
       "      <th></th>\n",
       "      <th></th>\n",
       "      <th></th>\n",
       "      <th></th>\n",
       "      <th></th>\n",
       "      <th></th>\n",
       "      <th></th>\n",
       "      <th></th>\n",
       "      <th></th>\n",
       "      <th></th>\n",
       "      <th></th>\n",
       "      <th></th>\n",
       "      <th></th>\n",
       "      <th></th>\n",
       "      <th></th>\n",
       "      <th></th>\n",
       "    </tr>\n",
       "  </thead>\n",
       "  <tbody>\n",
       "    <tr>\n",
       "      <th>ENSG00000223972.5</th>\n",
       "      <td>0.01741</td>\n",
       "      <td>0.000</td>\n",
       "      <td>0.00000</td>\n",
       "      <td>0.00000</td>\n",
       "      <td>0.01921</td>\n",
       "      <td>0.000</td>\n",
       "      <td>0.000</td>\n",
       "      <td>0.00000</td>\n",
       "      <td>0.00000</td>\n",
       "      <td>0.000</td>\n",
       "      <td>...</td>\n",
       "      <td>0.02747</td>\n",
       "      <td>0.000</td>\n",
       "      <td>0.00000</td>\n",
       "      <td>0.02358</td>\n",
       "      <td>0.01574</td>\n",
       "      <td>0.00000</td>\n",
       "      <td>0.000</td>\n",
       "      <td>0.000</td>\n",
       "      <td>0.000</td>\n",
       "      <td>0.02943</td>\n",
       "    </tr>\n",
       "    <tr>\n",
       "      <th>ENSG00000227232.5</th>\n",
       "      <td>3.08300</td>\n",
       "      <td>7.071</td>\n",
       "      <td>2.60300</td>\n",
       "      <td>8.50100</td>\n",
       "      <td>1.02600</td>\n",
       "      <td>3.699</td>\n",
       "      <td>2.418</td>\n",
       "      <td>5.45200</td>\n",
       "      <td>5.16400</td>\n",
       "      <td>6.111</td>\n",
       "      <td>...</td>\n",
       "      <td>5.90100</td>\n",
       "      <td>7.256</td>\n",
       "      <td>12.58000</td>\n",
       "      <td>7.55400</td>\n",
       "      <td>3.09500</td>\n",
       "      <td>5.93000</td>\n",
       "      <td>5.136</td>\n",
       "      <td>5.515</td>\n",
       "      <td>3.736</td>\n",
       "      <td>4.02300</td>\n",
       "    </tr>\n",
       "    <tr>\n",
       "      <th>ENSG00000278267.1</th>\n",
       "      <td>0.00000</td>\n",
       "      <td>0.000</td>\n",
       "      <td>0.00000</td>\n",
       "      <td>0.00000</td>\n",
       "      <td>0.00000</td>\n",
       "      <td>0.000</td>\n",
       "      <td>0.000</td>\n",
       "      <td>0.00000</td>\n",
       "      <td>0.00000</td>\n",
       "      <td>0.000</td>\n",
       "      <td>...</td>\n",
       "      <td>0.00000</td>\n",
       "      <td>0.000</td>\n",
       "      <td>0.00000</td>\n",
       "      <td>0.00000</td>\n",
       "      <td>0.00000</td>\n",
       "      <td>0.00000</td>\n",
       "      <td>0.000</td>\n",
       "      <td>0.000</td>\n",
       "      <td>0.000</td>\n",
       "      <td>0.00000</td>\n",
       "    </tr>\n",
       "    <tr>\n",
       "      <th>ENSG00000243485.5</th>\n",
       "      <td>0.03476</td>\n",
       "      <td>0.000</td>\n",
       "      <td>0.03440</td>\n",
       "      <td>0.04011</td>\n",
       "      <td>0.03836</td>\n",
       "      <td>0.000</td>\n",
       "      <td>0.000</td>\n",
       "      <td>0.04644</td>\n",
       "      <td>0.00000</td>\n",
       "      <td>0.000</td>\n",
       "      <td>...</td>\n",
       "      <td>0.00000</td>\n",
       "      <td>0.000</td>\n",
       "      <td>0.07844</td>\n",
       "      <td>0.00000</td>\n",
       "      <td>0.00000</td>\n",
       "      <td>0.00000</td>\n",
       "      <td>0.000</td>\n",
       "      <td>0.000</td>\n",
       "      <td>0.000</td>\n",
       "      <td>0.00000</td>\n",
       "    </tr>\n",
       "    <tr>\n",
       "      <th>ENSG00000237613.2</th>\n",
       "      <td>0.00000</td>\n",
       "      <td>0.000</td>\n",
       "      <td>0.04888</td>\n",
       "      <td>0.02850</td>\n",
       "      <td>0.00000</td>\n",
       "      <td>0.000</td>\n",
       "      <td>0.000</td>\n",
       "      <td>0.00000</td>\n",
       "      <td>0.04808</td>\n",
       "      <td>0.000</td>\n",
       "      <td>...</td>\n",
       "      <td>0.00000</td>\n",
       "      <td>0.000</td>\n",
       "      <td>0.00000</td>\n",
       "      <td>0.00000</td>\n",
       "      <td>0.00000</td>\n",
       "      <td>0.03106</td>\n",
       "      <td>0.000</td>\n",
       "      <td>0.000</td>\n",
       "      <td>0.000</td>\n",
       "      <td>0.00000</td>\n",
       "    </tr>\n",
       "  </tbody>\n",
       "</table>\n",
       "<p>5 rows × 21 columns</p>\n",
       "</div>"
      ],
      "text/plain": [
       "                   GTEX-OIZF-1926-SM-7PBZS  GTEX-P44H-2226-SM-E9U4P  \\\n",
       "gene_ens_id                                                           \n",
       "ENSG00000223972.5                  0.01741                    0.000   \n",
       "ENSG00000227232.5                  3.08300                    7.071   \n",
       "ENSG00000278267.1                  0.00000                    0.000   \n",
       "ENSG00000243485.5                  0.03476                    0.000   \n",
       "ENSG00000237613.2                  0.00000                    0.000   \n",
       "\n",
       "                   GTEX-QEL4-1826-SM-EZ6KU  GTEX-RN64-2426-SM-EZ6L2  \\\n",
       "gene_ens_id                                                           \n",
       "ENSG00000223972.5                  0.00000                  0.00000   \n",
       "ENSG00000227232.5                  2.60300                  8.50100   \n",
       "ENSG00000278267.1                  0.00000                  0.00000   \n",
       "ENSG00000243485.5                  0.03440                  0.04011   \n",
       "ENSG00000237613.2                  0.04888                  0.02850   \n",
       "\n",
       "                   GTEX-RU72-2526-SM-EWRML  GTEX-S32W-1126-SM-4AD5V  \\\n",
       "gene_ens_id                                                           \n",
       "ENSG00000223972.5                  0.01921                    0.000   \n",
       "ENSG00000227232.5                  1.02600                    3.699   \n",
       "ENSG00000278267.1                  0.00000                    0.000   \n",
       "ENSG00000243485.5                  0.03836                    0.000   \n",
       "ENSG00000237613.2                  0.00000                    0.000   \n",
       "\n",
       "                   GTEX-S33H-1926-SM-EYYVH  GTEX-S3XE-1226-SM-4AD4L  \\\n",
       "gene_ens_id                                                           \n",
       "ENSG00000223972.5                    0.000                  0.00000   \n",
       "ENSG00000227232.5                    2.418                  5.45200   \n",
       "ENSG00000278267.1                    0.000                  0.00000   \n",
       "ENSG00000243485.5                    0.000                  0.04644   \n",
       "ENSG00000237613.2                    0.000                  0.00000   \n",
       "\n",
       "                   GTEX-S4Q7-0926-SM-4AD5D  GTEX-S4UY-0926-SM-4AD6O  ...  \\\n",
       "gene_ens_id                                                          ...   \n",
       "ENSG00000223972.5                  0.00000                    0.000  ...   \n",
       "ENSG00000227232.5                  5.16400                    6.111  ...   \n",
       "ENSG00000278267.1                  0.00000                    0.000  ...   \n",
       "ENSG00000243485.5                  0.00000                    0.000  ...   \n",
       "ENSG00000237613.2                  0.04808                    0.000  ...   \n",
       "\n",
       "                   GTEX-SE5C-1026-SM-4BRUG  GTEX-SNMC-0826-SM-4DM66  \\\n",
       "gene_ens_id                                                           \n",
       "ENSG00000223972.5                  0.02747                    0.000   \n",
       "ENSG00000227232.5                  5.90100                    7.256   \n",
       "ENSG00000278267.1                  0.00000                    0.000   \n",
       "ENSG00000243485.5                  0.00000                    0.000   \n",
       "ENSG00000237613.2                  0.00000                    0.000   \n",
       "\n",
       "                   GTEX-SNOS-0526-SM-4DM54  GTEX-T2YK-2326-SM-EZ6LA  \\\n",
       "gene_ens_id                                                           \n",
       "ENSG00000223972.5                  0.00000                  0.02358   \n",
       "ENSG00000227232.5                 12.58000                  7.55400   \n",
       "ENSG00000278267.1                  0.00000                  0.00000   \n",
       "ENSG00000243485.5                  0.07844                  0.00000   \n",
       "ENSG00000237613.2                  0.00000                  0.00000   \n",
       "\n",
       "                   GTEX-T5JW-1026-SM-EZ6LR  GTEX-T6MN-2226-SM-EVYAM  \\\n",
       "gene_ens_id                                                           \n",
       "ENSG00000223972.5                  0.01574                  0.00000   \n",
       "ENSG00000227232.5                  3.09500                  5.93000   \n",
       "ENSG00000278267.1                  0.00000                  0.00000   \n",
       "ENSG00000243485.5                  0.00000                  0.00000   \n",
       "ENSG00000237613.2                  0.00000                  0.03106   \n",
       "\n",
       "                   GTEX-TMMY-1526-SM-4DXST  GTEX-U3ZM-0826-SM-4DXU6  \\\n",
       "gene_ens_id                                                           \n",
       "ENSG00000223972.5                    0.000                    0.000   \n",
       "ENSG00000227232.5                    5.136                    5.515   \n",
       "ENSG00000278267.1                    0.000                    0.000   \n",
       "ENSG00000243485.5                    0.000                    0.000   \n",
       "ENSG00000237613.2                    0.000                    0.000   \n",
       "\n",
       "                   GTEX-U3ZN-1226-SM-4DXUD  GTEX-U4B1-1226-SM-4DXT7  \n",
       "gene_ens_id                                                          \n",
       "ENSG00000223972.5                    0.000                  0.02943  \n",
       "ENSG00000227232.5                    3.736                  4.02300  \n",
       "ENSG00000278267.1                    0.000                  0.00000  \n",
       "ENSG00000243485.5                    0.000                  0.00000  \n",
       "ENSG00000237613.2                    0.000                  0.00000  \n",
       "\n",
       "[5 rows x 21 columns]"
      ]
     },
     "execution_count": 12,
     "metadata": {},
     "output_type": "execute_result"
    }
   ],
   "source": [
    "pd.read_pickle(next(TISSUE_DIR.glob(\"*.pkl\"))).head()"
   ]
  },
  {
   "cell_type": "markdown",
   "id": "85a68693-1bae-4473-bd18-086caf5820eb",
   "metadata": {
    "papermill": {
     "duration": 0.027746,
     "end_time": "2022-01-24T20:12:37.170527",
     "exception": false,
     "start_time": "2022-01-24T20:12:37.142781",
     "status": "completed"
    },
    "tags": []
   },
   "source": [
    "## Gene Ensembl ID -> Symbol mapping"
   ]
  },
  {
   "cell_type": "code",
   "execution_count": 13,
   "id": "3cf14b08-658d-46bc-9581-c9afd70be177",
   "metadata": {
    "execution": {
     "iopub.execute_input": "2022-01-24T20:12:37.230715Z",
     "iopub.status.busy": "2022-01-24T20:12:37.229817Z",
     "iopub.status.idle": "2022-01-24T20:12:37.244268Z",
     "shell.execute_reply": "2022-01-24T20:12:37.243761Z"
    },
    "papermill": {
     "duration": 0.045817,
     "end_time": "2022-01-24T20:12:37.244392",
     "exception": false,
     "start_time": "2022-01-24T20:12:37.198575",
     "status": "completed"
    },
    "tags": []
   },
   "outputs": [],
   "source": [
    "gene_map = pd.read_pickle(conf.GTEX[\"DATA_DIR\"] / \"gtex_gene_id_symbol_mappings.pkl\")"
   ]
  },
  {
   "cell_type": "code",
   "execution_count": 14,
   "id": "a2564d82-f685-4bc4-8ab9-5c09988830ae",
   "metadata": {
    "execution": {
     "iopub.execute_input": "2022-01-24T20:12:37.315304Z",
     "iopub.status.busy": "2022-01-24T20:12:37.303675Z",
     "iopub.status.idle": "2022-01-24T20:12:37.347238Z",
     "shell.execute_reply": "2022-01-24T20:12:37.346769Z"
    },
    "papermill": {
     "duration": 0.074641,
     "end_time": "2022-01-24T20:12:37.347347",
     "exception": false,
     "start_time": "2022-01-24T20:12:37.272706",
     "status": "completed"
    },
    "tags": []
   },
   "outputs": [],
   "source": [
    "gene_map = gene_map.set_index(\"gene_ens_id\")[\"gene_symbol\"].to_dict()"
   ]
  },
  {
   "cell_type": "code",
   "execution_count": 15,
   "id": "ced72294-1843-427e-8dc0-3f57572fd9fd",
   "metadata": {
    "execution": {
     "iopub.execute_input": "2022-01-24T20:12:37.406841Z",
     "iopub.status.busy": "2022-01-24T20:12:37.406380Z",
     "iopub.status.idle": "2022-01-24T20:12:37.408440Z",
     "shell.execute_reply": "2022-01-24T20:12:37.408053Z"
    },
    "papermill": {
     "duration": 0.03323,
     "end_time": "2022-01-24T20:12:37.408535",
     "exception": false,
     "start_time": "2022-01-24T20:12:37.375305",
     "status": "completed"
    },
    "tags": []
   },
   "outputs": [],
   "source": [
    "assert gene_map[\"ENSG00000145309.5\"] == \"CABS1\""
   ]
  },
  {
   "cell_type": "markdown",
   "id": "dd851f15-ad05-4eda-9af8-2cd8d383a45b",
   "metadata": {
    "papermill": {
     "duration": 0.027857,
     "end_time": "2022-01-24T20:12:37.464906",
     "exception": false,
     "start_time": "2022-01-24T20:12:37.437049",
     "status": "completed"
    },
    "tags": []
   },
   "source": [
    "# Get GTEx sample metadata"
   ]
  },
  {
   "cell_type": "code",
   "execution_count": 16,
   "id": "06c8e283-64d6-4be7-8fd3-0de9a1f1d8b0",
   "metadata": {
    "execution": {
     "iopub.execute_input": "2022-01-24T20:12:37.525127Z",
     "iopub.status.busy": "2022-01-24T20:12:37.524562Z",
     "iopub.status.idle": "2022-01-24T20:12:37.527403Z",
     "shell.execute_reply": "2022-01-24T20:12:37.527024Z"
    },
    "papermill": {
     "duration": 0.034473,
     "end_time": "2022-01-24T20:12:37.527497",
     "exception": false,
     "start_time": "2022-01-24T20:12:37.493024",
     "status": "completed"
    },
    "tags": []
   },
   "outputs": [
    {
     "data": {
      "text/plain": [
       "['GTEX-1117F-0003-SM-58Q7G',\n",
       " 'GTEX-1117F-0003-SM-5DWSB',\n",
       " 'GTEX-1117F-0003-SM-6WBT7',\n",
       " 'GTEX-1117F-0011-R10a-SM-AHZ7F',\n",
       " 'GTEX-1117F-0011-R10b-SM-CYKQ8']"
      ]
     },
     "metadata": {},
     "output_type": "display_data"
    }
   ],
   "source": [
    "gtex_samples_ids = gtex_samples.index.to_list()\n",
    "display(gtex_samples_ids[:5])"
   ]
  },
  {
   "cell_type": "code",
   "execution_count": 17,
   "id": "0e1a9f52-96e2-4e71-a8ed-89f667f333bd",
   "metadata": {
    "execution": {
     "iopub.execute_input": "2022-01-24T20:12:37.592780Z",
     "iopub.status.busy": "2022-01-24T20:12:37.589092Z",
     "iopub.status.idle": "2022-01-24T20:12:37.595461Z",
     "shell.execute_reply": "2022-01-24T20:12:37.594949Z"
    },
    "papermill": {
     "duration": 0.039618,
     "end_time": "2022-01-24T20:12:37.595589",
     "exception": false,
     "start_time": "2022-01-24T20:12:37.555971",
     "status": "completed"
    },
    "tags": []
   },
   "outputs": [],
   "source": [
    "gtex_samples_ids = pd.Series(gtex_samples_ids).rename(\"SAMPID\")"
   ]
  },
  {
   "cell_type": "code",
   "execution_count": 18,
   "id": "92c9b73e-12e1-400e-bd5a-fb0ecdc608e1",
   "metadata": {
    "execution": {
     "iopub.execute_input": "2022-01-24T20:12:37.663780Z",
     "iopub.status.busy": "2022-01-24T20:12:37.663255Z",
     "iopub.status.idle": "2022-01-24T20:12:37.665737Z",
     "shell.execute_reply": "2022-01-24T20:12:37.666078Z"
    },
    "papermill": {
     "duration": 0.036765,
     "end_time": "2022-01-24T20:12:37.666197",
     "exception": false,
     "start_time": "2022-01-24T20:12:37.629432",
     "status": "completed"
    },
    "tags": []
   },
   "outputs": [
    {
     "data": {
      "text/plain": [
       "0             GTEX-1117F-0003-SM-58Q7G\n",
       "1             GTEX-1117F-0003-SM-5DWSB\n",
       "2             GTEX-1117F-0003-SM-6WBT7\n",
       "3        GTEX-1117F-0011-R10a-SM-AHZ7F\n",
       "4        GTEX-1117F-0011-R10b-SM-CYKQ8\n",
       "                     ...              \n",
       "22946                   K-562-SM-E9EZC\n",
       "22947                   K-562-SM-E9EZI\n",
       "22948                   K-562-SM-E9EZO\n",
       "22949                   K-562-SM-E9EZT\n",
       "22950                   K-562-SM-E9EZZ\n",
       "Name: SAMPID, Length: 22951, dtype: object"
      ]
     },
     "execution_count": 18,
     "metadata": {},
     "output_type": "execute_result"
    }
   ],
   "source": [
    "gtex_samples_ids"
   ]
  },
  {
   "cell_type": "code",
   "execution_count": 19,
   "id": "a2f4ee60-f5bc-4e68-9289-15fc6c173f77",
   "metadata": {
    "execution": {
     "iopub.execute_input": "2022-01-24T20:12:37.743705Z",
     "iopub.status.busy": "2022-01-24T20:12:37.732857Z",
     "iopub.status.idle": "2022-01-24T20:12:37.757417Z",
     "shell.execute_reply": "2022-01-24T20:12:37.757019Z"
    },
    "papermill": {
     "duration": 0.062288,
     "end_time": "2022-01-24T20:12:37.757516",
     "exception": false,
     "start_time": "2022-01-24T20:12:37.695228",
     "status": "completed"
    },
    "tags": []
   },
   "outputs": [],
   "source": [
    "gtex_subjects_ids = gtex_samples_ids.str.extract(\n",
    "    r\"([\\w\\d]+\\-[\\w\\d]+)\", flags=re.IGNORECASE, expand=True\n",
    ")[0].rename(\"SUBJID\")"
   ]
  },
  {
   "cell_type": "code",
   "execution_count": 20,
   "id": "62428886-05a4-470d-891d-b4405214b8df",
   "metadata": {
    "execution": {
     "iopub.execute_input": "2022-01-24T20:12:37.823082Z",
     "iopub.status.busy": "2022-01-24T20:12:37.822431Z",
     "iopub.status.idle": "2022-01-24T20:12:37.824724Z",
     "shell.execute_reply": "2022-01-24T20:12:37.825086Z"
    },
    "papermill": {
     "duration": 0.037072,
     "end_time": "2022-01-24T20:12:37.825201",
     "exception": false,
     "start_time": "2022-01-24T20:12:37.788129",
     "status": "completed"
    },
    "tags": []
   },
   "outputs": [
    {
     "data": {
      "text/plain": [
       "0        GTEX-1117F\n",
       "1        GTEX-1117F\n",
       "2        GTEX-1117F\n",
       "3        GTEX-1117F\n",
       "4        GTEX-1117F\n",
       "            ...    \n",
       "22946         K-562\n",
       "22947         K-562\n",
       "22948         K-562\n",
       "22949         K-562\n",
       "22950         K-562\n",
       "Name: SUBJID, Length: 22951, dtype: object"
      ]
     },
     "execution_count": 20,
     "metadata": {},
     "output_type": "execute_result"
    }
   ],
   "source": [
    "gtex_subjects_ids"
   ]
  },
  {
   "cell_type": "code",
   "execution_count": 21,
   "id": "099167be-5c93-4f6d-9903-58667691d0db",
   "metadata": {
    "execution": {
     "iopub.execute_input": "2022-01-24T20:12:37.889398Z",
     "iopub.status.busy": "2022-01-24T20:12:37.888943Z",
     "iopub.status.idle": "2022-01-24T20:12:37.890407Z",
     "shell.execute_reply": "2022-01-24T20:12:37.890744Z"
    },
    "papermill": {
     "duration": 0.035331,
     "end_time": "2022-01-24T20:12:37.890863",
     "exception": false,
     "start_time": "2022-01-24T20:12:37.855532",
     "status": "completed"
    },
    "tags": []
   },
   "outputs": [],
   "source": [
    "gtex_metadata = pd.concat([gtex_samples_ids, gtex_subjects_ids], axis=1)"
   ]
  },
  {
   "cell_type": "code",
   "execution_count": 22,
   "id": "6abe8ea5-f25e-4190-8fe3-c6a359772d55",
   "metadata": {
    "execution": {
     "iopub.execute_input": "2022-01-24T20:12:37.958489Z",
     "iopub.status.busy": "2022-01-24T20:12:37.957921Z",
     "iopub.status.idle": "2022-01-24T20:12:37.960930Z",
     "shell.execute_reply": "2022-01-24T20:12:37.960500Z"
    },
    "papermill": {
     "duration": 0.039657,
     "end_time": "2022-01-24T20:12:37.961028",
     "exception": false,
     "start_time": "2022-01-24T20:12:37.921371",
     "status": "completed"
    },
    "tags": []
   },
   "outputs": [
    {
     "data": {
      "text/html": [
       "<div>\n",
       "<style scoped>\n",
       "    .dataframe tbody tr th:only-of-type {\n",
       "        vertical-align: middle;\n",
       "    }\n",
       "\n",
       "    .dataframe tbody tr th {\n",
       "        vertical-align: top;\n",
       "    }\n",
       "\n",
       "    .dataframe thead th {\n",
       "        text-align: right;\n",
       "    }\n",
       "</style>\n",
       "<table border=\"1\" class=\"dataframe\">\n",
       "  <thead>\n",
       "    <tr style=\"text-align: right;\">\n",
       "      <th></th>\n",
       "      <th>SAMPID</th>\n",
       "      <th>SUBJID</th>\n",
       "    </tr>\n",
       "  </thead>\n",
       "  <tbody>\n",
       "    <tr>\n",
       "      <th>0</th>\n",
       "      <td>GTEX-1117F-0003-SM-58Q7G</td>\n",
       "      <td>GTEX-1117F</td>\n",
       "    </tr>\n",
       "    <tr>\n",
       "      <th>1</th>\n",
       "      <td>GTEX-1117F-0003-SM-5DWSB</td>\n",
       "      <td>GTEX-1117F</td>\n",
       "    </tr>\n",
       "    <tr>\n",
       "      <th>2</th>\n",
       "      <td>GTEX-1117F-0003-SM-6WBT7</td>\n",
       "      <td>GTEX-1117F</td>\n",
       "    </tr>\n",
       "    <tr>\n",
       "      <th>3</th>\n",
       "      <td>GTEX-1117F-0011-R10a-SM-AHZ7F</td>\n",
       "      <td>GTEX-1117F</td>\n",
       "    </tr>\n",
       "    <tr>\n",
       "      <th>4</th>\n",
       "      <td>GTEX-1117F-0011-R10b-SM-CYKQ8</td>\n",
       "      <td>GTEX-1117F</td>\n",
       "    </tr>\n",
       "    <tr>\n",
       "      <th>...</th>\n",
       "      <td>...</td>\n",
       "      <td>...</td>\n",
       "    </tr>\n",
       "    <tr>\n",
       "      <th>22946</th>\n",
       "      <td>K-562-SM-E9EZC</td>\n",
       "      <td>K-562</td>\n",
       "    </tr>\n",
       "    <tr>\n",
       "      <th>22947</th>\n",
       "      <td>K-562-SM-E9EZI</td>\n",
       "      <td>K-562</td>\n",
       "    </tr>\n",
       "    <tr>\n",
       "      <th>22948</th>\n",
       "      <td>K-562-SM-E9EZO</td>\n",
       "      <td>K-562</td>\n",
       "    </tr>\n",
       "    <tr>\n",
       "      <th>22949</th>\n",
       "      <td>K-562-SM-E9EZT</td>\n",
       "      <td>K-562</td>\n",
       "    </tr>\n",
       "    <tr>\n",
       "      <th>22950</th>\n",
       "      <td>K-562-SM-E9EZZ</td>\n",
       "      <td>K-562</td>\n",
       "    </tr>\n",
       "  </tbody>\n",
       "</table>\n",
       "<p>22951 rows × 2 columns</p>\n",
       "</div>"
      ],
      "text/plain": [
       "                              SAMPID      SUBJID\n",
       "0           GTEX-1117F-0003-SM-58Q7G  GTEX-1117F\n",
       "1           GTEX-1117F-0003-SM-5DWSB  GTEX-1117F\n",
       "2           GTEX-1117F-0003-SM-6WBT7  GTEX-1117F\n",
       "3      GTEX-1117F-0011-R10a-SM-AHZ7F  GTEX-1117F\n",
       "4      GTEX-1117F-0011-R10b-SM-CYKQ8  GTEX-1117F\n",
       "...                              ...         ...\n",
       "22946                 K-562-SM-E9EZC       K-562\n",
       "22947                 K-562-SM-E9EZI       K-562\n",
       "22948                 K-562-SM-E9EZO       K-562\n",
       "22949                 K-562-SM-E9EZT       K-562\n",
       "22950                 K-562-SM-E9EZZ       K-562\n",
       "\n",
       "[22951 rows x 2 columns]"
      ]
     },
     "execution_count": 22,
     "metadata": {},
     "output_type": "execute_result"
    }
   ],
   "source": [
    "gtex_metadata"
   ]
  },
  {
   "cell_type": "code",
   "execution_count": 23,
   "id": "384ec029-7624-42f2-a2bd-2d452de6b032",
   "metadata": {
    "execution": {
     "iopub.execute_input": "2022-01-24T20:12:38.032867Z",
     "iopub.status.busy": "2022-01-24T20:12:38.032399Z",
     "iopub.status.idle": "2022-01-24T20:12:38.034334Z",
     "shell.execute_reply": "2022-01-24T20:12:38.034747Z"
    },
    "papermill": {
     "duration": 0.043533,
     "end_time": "2022-01-24T20:12:38.034862",
     "exception": false,
     "start_time": "2022-01-24T20:12:37.991329",
     "status": "completed"
    },
    "tags": []
   },
   "outputs": [
    {
     "data": {
      "text/html": [
       "<div>\n",
       "<style scoped>\n",
       "    .dataframe tbody tr th:only-of-type {\n",
       "        vertical-align: middle;\n",
       "    }\n",
       "\n",
       "    .dataframe tbody tr th {\n",
       "        vertical-align: top;\n",
       "    }\n",
       "\n",
       "    .dataframe thead th {\n",
       "        text-align: right;\n",
       "    }\n",
       "</style>\n",
       "<table border=\"1\" class=\"dataframe\">\n",
       "  <thead>\n",
       "    <tr style=\"text-align: right;\">\n",
       "      <th></th>\n",
       "      <th>SUBJID</th>\n",
       "      <th>SEX</th>\n",
       "      <th>AGE</th>\n",
       "      <th>DTHHRDY</th>\n",
       "    </tr>\n",
       "  </thead>\n",
       "  <tbody>\n",
       "    <tr>\n",
       "      <th>0</th>\n",
       "      <td>GTEX-1117F</td>\n",
       "      <td>2</td>\n",
       "      <td>60-69</td>\n",
       "      <td>4.0</td>\n",
       "    </tr>\n",
       "    <tr>\n",
       "      <th>1</th>\n",
       "      <td>GTEX-111CU</td>\n",
       "      <td>1</td>\n",
       "      <td>50-59</td>\n",
       "      <td>0.0</td>\n",
       "    </tr>\n",
       "    <tr>\n",
       "      <th>2</th>\n",
       "      <td>GTEX-111FC</td>\n",
       "      <td>1</td>\n",
       "      <td>60-69</td>\n",
       "      <td>1.0</td>\n",
       "    </tr>\n",
       "    <tr>\n",
       "      <th>3</th>\n",
       "      <td>GTEX-111VG</td>\n",
       "      <td>1</td>\n",
       "      <td>60-69</td>\n",
       "      <td>3.0</td>\n",
       "    </tr>\n",
       "    <tr>\n",
       "      <th>4</th>\n",
       "      <td>GTEX-111YS</td>\n",
       "      <td>1</td>\n",
       "      <td>60-69</td>\n",
       "      <td>0.0</td>\n",
       "    </tr>\n",
       "    <tr>\n",
       "      <th>...</th>\n",
       "      <td>...</td>\n",
       "      <td>...</td>\n",
       "      <td>...</td>\n",
       "      <td>...</td>\n",
       "    </tr>\n",
       "    <tr>\n",
       "      <th>975</th>\n",
       "      <td>GTEX-ZYY3</td>\n",
       "      <td>2</td>\n",
       "      <td>60-69</td>\n",
       "      <td>4.0</td>\n",
       "    </tr>\n",
       "    <tr>\n",
       "      <th>976</th>\n",
       "      <td>GTEX-ZZ64</td>\n",
       "      <td>1</td>\n",
       "      <td>20-29</td>\n",
       "      <td>0.0</td>\n",
       "    </tr>\n",
       "    <tr>\n",
       "      <th>977</th>\n",
       "      <td>GTEX-ZZPT</td>\n",
       "      <td>1</td>\n",
       "      <td>50-59</td>\n",
       "      <td>4.0</td>\n",
       "    </tr>\n",
       "    <tr>\n",
       "      <th>978</th>\n",
       "      <td>GTEX-ZZPU</td>\n",
       "      <td>2</td>\n",
       "      <td>50-59</td>\n",
       "      <td>0.0</td>\n",
       "    </tr>\n",
       "    <tr>\n",
       "      <th>979</th>\n",
       "      <td>K-562</td>\n",
       "      <td>2</td>\n",
       "      <td>50-59</td>\n",
       "      <td>NaN</td>\n",
       "    </tr>\n",
       "  </tbody>\n",
       "</table>\n",
       "<p>980 rows × 4 columns</p>\n",
       "</div>"
      ],
      "text/plain": [
       "         SUBJID  SEX    AGE  DTHHRDY\n",
       "0    GTEX-1117F    2  60-69      4.0\n",
       "1    GTEX-111CU    1  50-59      0.0\n",
       "2    GTEX-111FC    1  60-69      1.0\n",
       "3    GTEX-111VG    1  60-69      3.0\n",
       "4    GTEX-111YS    1  60-69      0.0\n",
       "..          ...  ...    ...      ...\n",
       "975   GTEX-ZYY3    2  60-69      4.0\n",
       "976   GTEX-ZZ64    1  20-29      0.0\n",
       "977   GTEX-ZZPT    1  50-59      4.0\n",
       "978   GTEX-ZZPU    2  50-59      0.0\n",
       "979       K-562    2  50-59      NaN\n",
       "\n",
       "[980 rows x 4 columns]"
      ]
     },
     "execution_count": 23,
     "metadata": {},
     "output_type": "execute_result"
    }
   ],
   "source": [
    "gtex_phenotypes"
   ]
  },
  {
   "cell_type": "code",
   "execution_count": 24,
   "id": "e9ef5701-7bdc-4834-970f-181f2861783b",
   "metadata": {
    "execution": {
     "iopub.execute_input": "2022-01-24T20:12:38.111574Z",
     "iopub.status.busy": "2022-01-24T20:12:38.111104Z",
     "iopub.status.idle": "2022-01-24T20:12:38.120144Z",
     "shell.execute_reply": "2022-01-24T20:12:38.119701Z"
    },
    "papermill": {
     "duration": 0.054268,
     "end_time": "2022-01-24T20:12:38.120247",
     "exception": false,
     "start_time": "2022-01-24T20:12:38.065979",
     "status": "completed"
    },
    "tags": []
   },
   "outputs": [],
   "source": [
    "gtex_metadata = pd.merge(gtex_metadata, gtex_phenotypes).set_index(\"SAMPID\")"
   ]
  },
  {
   "cell_type": "code",
   "execution_count": 25,
   "id": "717bbdad-e15b-4076-9fa2-8fe3c46f1ff6",
   "metadata": {
    "execution": {
     "iopub.execute_input": "2022-01-24T20:12:38.193590Z",
     "iopub.status.busy": "2022-01-24T20:12:38.191327Z",
     "iopub.status.idle": "2022-01-24T20:12:38.195766Z",
     "shell.execute_reply": "2022-01-24T20:12:38.196186Z"
    },
    "papermill": {
     "duration": 0.043888,
     "end_time": "2022-01-24T20:12:38.196305",
     "exception": false,
     "start_time": "2022-01-24T20:12:38.152417",
     "status": "completed"
    },
    "tags": []
   },
   "outputs": [
    {
     "data": {
      "text/html": [
       "<div>\n",
       "<style scoped>\n",
       "    .dataframe tbody tr th:only-of-type {\n",
       "        vertical-align: middle;\n",
       "    }\n",
       "\n",
       "    .dataframe tbody tr th {\n",
       "        vertical-align: top;\n",
       "    }\n",
       "\n",
       "    .dataframe thead th {\n",
       "        text-align: right;\n",
       "    }\n",
       "</style>\n",
       "<table border=\"1\" class=\"dataframe\">\n",
       "  <thead>\n",
       "    <tr style=\"text-align: right;\">\n",
       "      <th></th>\n",
       "      <th>SUBJID</th>\n",
       "      <th>SEX</th>\n",
       "      <th>AGE</th>\n",
       "      <th>DTHHRDY</th>\n",
       "    </tr>\n",
       "    <tr>\n",
       "      <th>SAMPID</th>\n",
       "      <th></th>\n",
       "      <th></th>\n",
       "      <th></th>\n",
       "      <th></th>\n",
       "    </tr>\n",
       "  </thead>\n",
       "  <tbody>\n",
       "    <tr>\n",
       "      <th>GTEX-1117F-0003-SM-58Q7G</th>\n",
       "      <td>GTEX-1117F</td>\n",
       "      <td>2</td>\n",
       "      <td>60-69</td>\n",
       "      <td>4.0</td>\n",
       "    </tr>\n",
       "    <tr>\n",
       "      <th>GTEX-1117F-0003-SM-5DWSB</th>\n",
       "      <td>GTEX-1117F</td>\n",
       "      <td>2</td>\n",
       "      <td>60-69</td>\n",
       "      <td>4.0</td>\n",
       "    </tr>\n",
       "    <tr>\n",
       "      <th>GTEX-1117F-0003-SM-6WBT7</th>\n",
       "      <td>GTEX-1117F</td>\n",
       "      <td>2</td>\n",
       "      <td>60-69</td>\n",
       "      <td>4.0</td>\n",
       "    </tr>\n",
       "    <tr>\n",
       "      <th>GTEX-1117F-0011-R10a-SM-AHZ7F</th>\n",
       "      <td>GTEX-1117F</td>\n",
       "      <td>2</td>\n",
       "      <td>60-69</td>\n",
       "      <td>4.0</td>\n",
       "    </tr>\n",
       "    <tr>\n",
       "      <th>GTEX-1117F-0011-R10b-SM-CYKQ8</th>\n",
       "      <td>GTEX-1117F</td>\n",
       "      <td>2</td>\n",
       "      <td>60-69</td>\n",
       "      <td>4.0</td>\n",
       "    </tr>\n",
       "    <tr>\n",
       "      <th>...</th>\n",
       "      <td>...</td>\n",
       "      <td>...</td>\n",
       "      <td>...</td>\n",
       "      <td>...</td>\n",
       "    </tr>\n",
       "    <tr>\n",
       "      <th>K-562-SM-E9EZC</th>\n",
       "      <td>K-562</td>\n",
       "      <td>2</td>\n",
       "      <td>50-59</td>\n",
       "      <td>NaN</td>\n",
       "    </tr>\n",
       "    <tr>\n",
       "      <th>K-562-SM-E9EZI</th>\n",
       "      <td>K-562</td>\n",
       "      <td>2</td>\n",
       "      <td>50-59</td>\n",
       "      <td>NaN</td>\n",
       "    </tr>\n",
       "    <tr>\n",
       "      <th>K-562-SM-E9EZO</th>\n",
       "      <td>K-562</td>\n",
       "      <td>2</td>\n",
       "      <td>50-59</td>\n",
       "      <td>NaN</td>\n",
       "    </tr>\n",
       "    <tr>\n",
       "      <th>K-562-SM-E9EZT</th>\n",
       "      <td>K-562</td>\n",
       "      <td>2</td>\n",
       "      <td>50-59</td>\n",
       "      <td>NaN</td>\n",
       "    </tr>\n",
       "    <tr>\n",
       "      <th>K-562-SM-E9EZZ</th>\n",
       "      <td>K-562</td>\n",
       "      <td>2</td>\n",
       "      <td>50-59</td>\n",
       "      <td>NaN</td>\n",
       "    </tr>\n",
       "  </tbody>\n",
       "</table>\n",
       "<p>22951 rows × 4 columns</p>\n",
       "</div>"
      ],
      "text/plain": [
       "                                   SUBJID  SEX    AGE  DTHHRDY\n",
       "SAMPID                                                        \n",
       "GTEX-1117F-0003-SM-58Q7G       GTEX-1117F    2  60-69      4.0\n",
       "GTEX-1117F-0003-SM-5DWSB       GTEX-1117F    2  60-69      4.0\n",
       "GTEX-1117F-0003-SM-6WBT7       GTEX-1117F    2  60-69      4.0\n",
       "GTEX-1117F-0011-R10a-SM-AHZ7F  GTEX-1117F    2  60-69      4.0\n",
       "GTEX-1117F-0011-R10b-SM-CYKQ8  GTEX-1117F    2  60-69      4.0\n",
       "...                                   ...  ...    ...      ...\n",
       "K-562-SM-E9EZC                      K-562    2  50-59      NaN\n",
       "K-562-SM-E9EZI                      K-562    2  50-59      NaN\n",
       "K-562-SM-E9EZO                      K-562    2  50-59      NaN\n",
       "K-562-SM-E9EZT                      K-562    2  50-59      NaN\n",
       "K-562-SM-E9EZZ                      K-562    2  50-59      NaN\n",
       "\n",
       "[22951 rows x 4 columns]"
      ]
     },
     "execution_count": 25,
     "metadata": {},
     "output_type": "execute_result"
    }
   ],
   "source": [
    "gtex_metadata"
   ]
  },
  {
   "cell_type": "code",
   "execution_count": 26,
   "id": "4ca7b4fa-0590-4ad5-bff9-4c07f508c86d",
   "metadata": {
    "execution": {
     "iopub.execute_input": "2022-01-24T20:12:38.266997Z",
     "iopub.status.busy": "2022-01-24T20:12:38.266057Z",
     "iopub.status.idle": "2022-01-24T20:12:38.275777Z",
     "shell.execute_reply": "2022-01-24T20:12:38.275402Z"
    },
    "papermill": {
     "duration": 0.047971,
     "end_time": "2022-01-24T20:12:38.275918",
     "exception": false,
     "start_time": "2022-01-24T20:12:38.227947",
     "status": "completed"
    },
    "tags": []
   },
   "outputs": [],
   "source": [
    "gtex_metadata = pd.merge(gtex_metadata, gtex_samples, left_index=True, right_index=True)"
   ]
  },
  {
   "cell_type": "code",
   "execution_count": 27,
   "id": "7470d19a-719c-48df-aeb7-aced945256d4",
   "metadata": {
    "execution": {
     "iopub.execute_input": "2022-01-24T20:12:38.353228Z",
     "iopub.status.busy": "2022-01-24T20:12:38.352728Z",
     "iopub.status.idle": "2022-01-24T20:12:38.375024Z",
     "shell.execute_reply": "2022-01-24T20:12:38.374550Z"
    },
    "papermill": {
     "duration": 0.063776,
     "end_time": "2022-01-24T20:12:38.375125",
     "exception": false,
     "start_time": "2022-01-24T20:12:38.311349",
     "status": "completed"
    },
    "tags": []
   },
   "outputs": [],
   "source": [
    "gtex_metadata = gtex_metadata.replace(\n",
    "    {\n",
    "        \"SEX\": {\n",
    "            1: \"Male\",\n",
    "            2: \"Female\",\n",
    "        }\n",
    "    }\n",
    ")"
   ]
  },
  {
   "cell_type": "code",
   "execution_count": 28,
   "id": "3b5c503c-2968-4093-a367-78809446c42d",
   "metadata": {
    "execution": {
     "iopub.execute_input": "2022-01-24T20:12:38.442590Z",
     "iopub.status.busy": "2022-01-24T20:12:38.442126Z",
     "iopub.status.idle": "2022-01-24T20:12:38.456507Z",
     "shell.execute_reply": "2022-01-24T20:12:38.456038Z"
    },
    "papermill": {
     "duration": 0.04815,
     "end_time": "2022-01-24T20:12:38.456607",
     "exception": false,
     "start_time": "2022-01-24T20:12:38.408457",
     "status": "completed"
    },
    "tags": []
   },
   "outputs": [],
   "source": [
    "gtex_metadata = gtex_metadata.sort_index()"
   ]
  },
  {
   "cell_type": "code",
   "execution_count": 29,
   "id": "a0b4eb60-120b-4700-ae6e-64108e937c1f",
   "metadata": {
    "execution": {
     "iopub.execute_input": "2022-01-24T20:12:38.541628Z",
     "iopub.status.busy": "2022-01-24T20:12:38.540969Z",
     "iopub.status.idle": "2022-01-24T20:12:38.543985Z",
     "shell.execute_reply": "2022-01-24T20:12:38.543487Z"
    },
    "papermill": {
     "duration": 0.054287,
     "end_time": "2022-01-24T20:12:38.544083",
     "exception": false,
     "start_time": "2022-01-24T20:12:38.489796",
     "status": "completed"
    },
    "tags": []
   },
   "outputs": [
    {
     "data": {
      "text/html": [
       "<div>\n",
       "<style scoped>\n",
       "    .dataframe tbody tr th:only-of-type {\n",
       "        vertical-align: middle;\n",
       "    }\n",
       "\n",
       "    .dataframe tbody tr th {\n",
       "        vertical-align: top;\n",
       "    }\n",
       "\n",
       "    .dataframe thead th {\n",
       "        text-align: right;\n",
       "    }\n",
       "</style>\n",
       "<table border=\"1\" class=\"dataframe\">\n",
       "  <thead>\n",
       "    <tr style=\"text-align: right;\">\n",
       "      <th></th>\n",
       "      <th>SUBJID</th>\n",
       "      <th>SEX</th>\n",
       "      <th>AGE</th>\n",
       "      <th>DTHHRDY</th>\n",
       "      <th>SMATSSCR</th>\n",
       "      <th>SMCENTER</th>\n",
       "      <th>SMPTHNTS</th>\n",
       "      <th>SMRIN</th>\n",
       "      <th>SMTS</th>\n",
       "      <th>SMTSD</th>\n",
       "      <th>...</th>\n",
       "      <th>SME1ANTI</th>\n",
       "      <th>SMSPLTRD</th>\n",
       "      <th>SMBSMMRT</th>\n",
       "      <th>SME1SNSE</th>\n",
       "      <th>SME1PCTS</th>\n",
       "      <th>SMRRNART</th>\n",
       "      <th>SME1MPRT</th>\n",
       "      <th>SMNUM5CD</th>\n",
       "      <th>SMDPMPRT</th>\n",
       "      <th>SME2PCTS</th>\n",
       "    </tr>\n",
       "    <tr>\n",
       "      <th>SAMPID</th>\n",
       "      <th></th>\n",
       "      <th></th>\n",
       "      <th></th>\n",
       "      <th></th>\n",
       "      <th></th>\n",
       "      <th></th>\n",
       "      <th></th>\n",
       "      <th></th>\n",
       "      <th></th>\n",
       "      <th></th>\n",
       "      <th></th>\n",
       "      <th></th>\n",
       "      <th></th>\n",
       "      <th></th>\n",
       "      <th></th>\n",
       "      <th></th>\n",
       "      <th></th>\n",
       "      <th></th>\n",
       "      <th></th>\n",
       "      <th></th>\n",
       "      <th></th>\n",
       "    </tr>\n",
       "  </thead>\n",
       "  <tbody>\n",
       "    <tr>\n",
       "      <th>GTEX-1117F-0003-SM-58Q7G</th>\n",
       "      <td>GTEX-1117F</td>\n",
       "      <td>Female</td>\n",
       "      <td>60-69</td>\n",
       "      <td>4.0</td>\n",
       "      <td>NaN</td>\n",
       "      <td>B1</td>\n",
       "      <td>NaN</td>\n",
       "      <td>NaN</td>\n",
       "      <td>Blood</td>\n",
       "      <td>Whole Blood</td>\n",
       "      <td>...</td>\n",
       "      <td>NaN</td>\n",
       "      <td>NaN</td>\n",
       "      <td>NaN</td>\n",
       "      <td>NaN</td>\n",
       "      <td>NaN</td>\n",
       "      <td>NaN</td>\n",
       "      <td>NaN</td>\n",
       "      <td>NaN</td>\n",
       "      <td>NaN</td>\n",
       "      <td>NaN</td>\n",
       "    </tr>\n",
       "    <tr>\n",
       "      <th>GTEX-1117F-0003-SM-5DWSB</th>\n",
       "      <td>GTEX-1117F</td>\n",
       "      <td>Female</td>\n",
       "      <td>60-69</td>\n",
       "      <td>4.0</td>\n",
       "      <td>NaN</td>\n",
       "      <td>B1</td>\n",
       "      <td>NaN</td>\n",
       "      <td>NaN</td>\n",
       "      <td>Blood</td>\n",
       "      <td>Whole Blood</td>\n",
       "      <td>...</td>\n",
       "      <td>NaN</td>\n",
       "      <td>NaN</td>\n",
       "      <td>NaN</td>\n",
       "      <td>NaN</td>\n",
       "      <td>NaN</td>\n",
       "      <td>NaN</td>\n",
       "      <td>NaN</td>\n",
       "      <td>NaN</td>\n",
       "      <td>NaN</td>\n",
       "      <td>NaN</td>\n",
       "    </tr>\n",
       "    <tr>\n",
       "      <th>GTEX-1117F-0003-SM-6WBT7</th>\n",
       "      <td>GTEX-1117F</td>\n",
       "      <td>Female</td>\n",
       "      <td>60-69</td>\n",
       "      <td>4.0</td>\n",
       "      <td>NaN</td>\n",
       "      <td>B1</td>\n",
       "      <td>NaN</td>\n",
       "      <td>NaN</td>\n",
       "      <td>Blood</td>\n",
       "      <td>Whole Blood</td>\n",
       "      <td>...</td>\n",
       "      <td>NaN</td>\n",
       "      <td>NaN</td>\n",
       "      <td>NaN</td>\n",
       "      <td>NaN</td>\n",
       "      <td>NaN</td>\n",
       "      <td>NaN</td>\n",
       "      <td>NaN</td>\n",
       "      <td>NaN</td>\n",
       "      <td>NaN</td>\n",
       "      <td>NaN</td>\n",
       "    </tr>\n",
       "    <tr>\n",
       "      <th>GTEX-1117F-0011-R10a-SM-AHZ7F</th>\n",
       "      <td>GTEX-1117F</td>\n",
       "      <td>Female</td>\n",
       "      <td>60-69</td>\n",
       "      <td>4.0</td>\n",
       "      <td>NaN</td>\n",
       "      <td>B1, A1</td>\n",
       "      <td>NaN</td>\n",
       "      <td>NaN</td>\n",
       "      <td>Brain</td>\n",
       "      <td>Brain - Frontal Cortex (BA9)</td>\n",
       "      <td>...</td>\n",
       "      <td>NaN</td>\n",
       "      <td>NaN</td>\n",
       "      <td>NaN</td>\n",
       "      <td>NaN</td>\n",
       "      <td>NaN</td>\n",
       "      <td>NaN</td>\n",
       "      <td>NaN</td>\n",
       "      <td>NaN</td>\n",
       "      <td>NaN</td>\n",
       "      <td>NaN</td>\n",
       "    </tr>\n",
       "    <tr>\n",
       "      <th>GTEX-1117F-0011-R10b-SM-CYKQ8</th>\n",
       "      <td>GTEX-1117F</td>\n",
       "      <td>Female</td>\n",
       "      <td>60-69</td>\n",
       "      <td>4.0</td>\n",
       "      <td>NaN</td>\n",
       "      <td>B1, A1</td>\n",
       "      <td>NaN</td>\n",
       "      <td>7.2</td>\n",
       "      <td>Brain</td>\n",
       "      <td>Brain - Frontal Cortex (BA9)</td>\n",
       "      <td>...</td>\n",
       "      <td>NaN</td>\n",
       "      <td>NaN</td>\n",
       "      <td>NaN</td>\n",
       "      <td>NaN</td>\n",
       "      <td>NaN</td>\n",
       "      <td>NaN</td>\n",
       "      <td>NaN</td>\n",
       "      <td>NaN</td>\n",
       "      <td>NaN</td>\n",
       "      <td>NaN</td>\n",
       "    </tr>\n",
       "  </tbody>\n",
       "</table>\n",
       "<p>5 rows × 66 columns</p>\n",
       "</div>"
      ],
      "text/plain": [
       "                                   SUBJID     SEX    AGE  DTHHRDY  SMATSSCR  \\\n",
       "SAMPID                                                                        \n",
       "GTEX-1117F-0003-SM-58Q7G       GTEX-1117F  Female  60-69      4.0       NaN   \n",
       "GTEX-1117F-0003-SM-5DWSB       GTEX-1117F  Female  60-69      4.0       NaN   \n",
       "GTEX-1117F-0003-SM-6WBT7       GTEX-1117F  Female  60-69      4.0       NaN   \n",
       "GTEX-1117F-0011-R10a-SM-AHZ7F  GTEX-1117F  Female  60-69      4.0       NaN   \n",
       "GTEX-1117F-0011-R10b-SM-CYKQ8  GTEX-1117F  Female  60-69      4.0       NaN   \n",
       "\n",
       "                              SMCENTER SMPTHNTS  SMRIN   SMTS  \\\n",
       "SAMPID                                                          \n",
       "GTEX-1117F-0003-SM-58Q7G            B1      NaN    NaN  Blood   \n",
       "GTEX-1117F-0003-SM-5DWSB            B1      NaN    NaN  Blood   \n",
       "GTEX-1117F-0003-SM-6WBT7            B1      NaN    NaN  Blood   \n",
       "GTEX-1117F-0011-R10a-SM-AHZ7F   B1, A1      NaN    NaN  Brain   \n",
       "GTEX-1117F-0011-R10b-SM-CYKQ8   B1, A1      NaN    7.2  Brain   \n",
       "\n",
       "                                                      SMTSD  ... SME1ANTI  \\\n",
       "SAMPID                                                       ...            \n",
       "GTEX-1117F-0003-SM-58Q7G                        Whole Blood  ...      NaN   \n",
       "GTEX-1117F-0003-SM-5DWSB                        Whole Blood  ...      NaN   \n",
       "GTEX-1117F-0003-SM-6WBT7                        Whole Blood  ...      NaN   \n",
       "GTEX-1117F-0011-R10a-SM-AHZ7F  Brain - Frontal Cortex (BA9)  ...      NaN   \n",
       "GTEX-1117F-0011-R10b-SM-CYKQ8  Brain - Frontal Cortex (BA9)  ...      NaN   \n",
       "\n",
       "                               SMSPLTRD  SMBSMMRT SME1SNSE SME1PCTS SMRRNART  \\\n",
       "SAMPID                                                                         \n",
       "GTEX-1117F-0003-SM-58Q7G            NaN       NaN      NaN      NaN      NaN   \n",
       "GTEX-1117F-0003-SM-5DWSB            NaN       NaN      NaN      NaN      NaN   \n",
       "GTEX-1117F-0003-SM-6WBT7            NaN       NaN      NaN      NaN      NaN   \n",
       "GTEX-1117F-0011-R10a-SM-AHZ7F       NaN       NaN      NaN      NaN      NaN   \n",
       "GTEX-1117F-0011-R10b-SM-CYKQ8       NaN       NaN      NaN      NaN      NaN   \n",
       "\n",
       "                              SME1MPRT SMNUM5CD SMDPMPRT SME2PCTS  \n",
       "SAMPID                                                             \n",
       "GTEX-1117F-0003-SM-58Q7G           NaN      NaN      NaN      NaN  \n",
       "GTEX-1117F-0003-SM-5DWSB           NaN      NaN      NaN      NaN  \n",
       "GTEX-1117F-0003-SM-6WBT7           NaN      NaN      NaN      NaN  \n",
       "GTEX-1117F-0011-R10a-SM-AHZ7F      NaN      NaN      NaN      NaN  \n",
       "GTEX-1117F-0011-R10b-SM-CYKQ8      NaN      NaN      NaN      NaN  \n",
       "\n",
       "[5 rows x 66 columns]"
      ]
     },
     "execution_count": 29,
     "metadata": {},
     "output_type": "execute_result"
    }
   ],
   "source": [
    "gtex_metadata.head()"
   ]
  },
  {
   "cell_type": "markdown",
   "id": "cccf7fd4-329c-49e0-b6a7-3f449d78a73c",
   "metadata": {
    "papermill": {
     "duration": 0.040982,
     "end_time": "2022-01-24T20:12:38.648611",
     "exception": false,
     "start_time": "2022-01-24T20:12:38.607629",
     "status": "completed"
    },
    "tags": []
   },
   "source": [
    "# Testing"
   ]
  },
  {
   "cell_type": "code",
   "execution_count": 30,
   "id": "1c15685c-ad29-4ec9-b2ab-532b98084e2d",
   "metadata": {
    "execution": {
     "iopub.execute_input": "2022-01-24T20:12:38.718344Z",
     "iopub.status.busy": "2022-01-24T20:12:38.717816Z",
     "iopub.status.idle": "2022-01-24T20:12:38.720455Z",
     "shell.execute_reply": "2022-01-24T20:12:38.720004Z"
    },
    "papermill": {
     "duration": 0.038603,
     "end_time": "2022-01-24T20:12:38.720551",
     "exception": false,
     "start_time": "2022-01-24T20:12:38.681948",
     "status": "completed"
    },
    "tags": []
   },
   "outputs": [
    {
     "data": {
      "text/plain": [
       "(22951, 66)"
      ]
     },
     "execution_count": 30,
     "metadata": {},
     "output_type": "execute_result"
    }
   ],
   "source": [
    "gtex_metadata.shape"
   ]
  },
  {
   "cell_type": "code",
   "execution_count": 31,
   "id": "5a2ea032-ff23-4187-9375-0a1a2d713eeb",
   "metadata": {
    "execution": {
     "iopub.execute_input": "2022-01-24T20:12:38.792744Z",
     "iopub.status.busy": "2022-01-24T20:12:38.792276Z",
     "iopub.status.idle": "2022-01-24T20:12:38.793712Z",
     "shell.execute_reply": "2022-01-24T20:12:38.794050Z"
    },
    "papermill": {
     "duration": 0.039534,
     "end_time": "2022-01-24T20:12:38.794170",
     "exception": false,
     "start_time": "2022-01-24T20:12:38.754636",
     "status": "completed"
    },
    "tags": []
   },
   "outputs": [],
   "source": [
    "assert not gtex_metadata[\"SUBJID\"].isna().any()"
   ]
  },
  {
   "cell_type": "code",
   "execution_count": 32,
   "id": "65dd3a2f-bcd5-4da6-b721-ec6497e69d63",
   "metadata": {
    "execution": {
     "iopub.execute_input": "2022-01-24T20:12:38.866930Z",
     "iopub.status.busy": "2022-01-24T20:12:38.866462Z",
     "iopub.status.idle": "2022-01-24T20:12:38.868073Z",
     "shell.execute_reply": "2022-01-24T20:12:38.868416Z"
    },
    "papermill": {
     "duration": 0.040503,
     "end_time": "2022-01-24T20:12:38.868536",
     "exception": false,
     "start_time": "2022-01-24T20:12:38.828033",
     "status": "completed"
    },
    "tags": []
   },
   "outputs": [],
   "source": [
    "assert not gtex_metadata[\"SMTS\"].isna().any()\n",
    "assert not gtex_metadata[\"SMTSD\"].isna().any()"
   ]
  },
  {
   "cell_type": "code",
   "execution_count": 33,
   "id": "626151f8-4606-4817-883c-fefd1c1c7db1",
   "metadata": {
    "execution": {
     "iopub.execute_input": "2022-01-24T20:12:38.941628Z",
     "iopub.status.busy": "2022-01-24T20:12:38.940291Z",
     "iopub.status.idle": "2022-01-24T20:12:38.944346Z",
     "shell.execute_reply": "2022-01-24T20:12:38.943848Z"
    },
    "papermill": {
     "duration": 0.042328,
     "end_time": "2022-01-24T20:12:38.944440",
     "exception": false,
     "start_time": "2022-01-24T20:12:38.902112",
     "status": "completed"
    },
    "tags": []
   },
   "outputs": [],
   "source": [
    "assert not gtex_metadata[\"SEX\"].isna().any()\n",
    "assert gtex_metadata[\"SEX\"].unique().shape[0] == 2\n",
    "assert set(gtex_metadata[\"SEX\"].unique()) == {\"Female\", \"Male\"}"
   ]
  },
  {
   "cell_type": "markdown",
   "id": "3ae112d5-0b8d-456f-9fd3-b9425c7be8b8",
   "metadata": {
    "papermill": {
     "duration": 0.033894,
     "end_time": "2022-01-24T20:12:39.011070",
     "exception": false,
     "start_time": "2022-01-24T20:12:38.977176",
     "status": "completed"
    },
    "tags": []
   },
   "source": [
    "# Save"
   ]
  },
  {
   "cell_type": "code",
   "execution_count": 34,
   "id": "ff4e5f05-acbf-4c28-86e4-63861f44d24d",
   "metadata": {
    "execution": {
     "iopub.execute_input": "2022-01-24T20:12:39.080737Z",
     "iopub.status.busy": "2022-01-24T20:12:39.080181Z",
     "iopub.status.idle": "2022-01-24T20:12:39.082304Z",
     "shell.execute_reply": "2022-01-24T20:12:39.082669Z"
    },
    "papermill": {
     "duration": 0.038618,
     "end_time": "2022-01-24T20:12:39.082785",
     "exception": false,
     "start_time": "2022-01-24T20:12:39.044167",
     "status": "completed"
    },
    "tags": []
   },
   "outputs": [
    {
     "data": {
      "text/plain": [
       "PosixPath('/opt/data/data/gtex_v8/gtex_v8-sample_metadata.pkl')"
      ]
     },
     "metadata": {},
     "output_type": "display_data"
    }
   ],
   "source": [
    "output_filename = OUTPUT_DIR / \"gtex_v8-sample_metadata.pkl\"\n",
    "display(output_filename)"
   ]
  },
  {
   "cell_type": "code",
   "execution_count": 35,
   "id": "3bfcde76-54ef-40b0-a03b-0f1ae31b61d3",
   "metadata": {
    "execution": {
     "iopub.execute_input": "2022-01-24T20:12:39.152946Z",
     "iopub.status.busy": "2022-01-24T20:12:39.152475Z",
     "iopub.status.idle": "2022-01-24T20:12:39.179138Z",
     "shell.execute_reply": "2022-01-24T20:12:39.178671Z"
    },
    "papermill": {
     "duration": 0.062581,
     "end_time": "2022-01-24T20:12:39.179239",
     "exception": false,
     "start_time": "2022-01-24T20:12:39.116658",
     "status": "completed"
    },
    "tags": []
   },
   "outputs": [],
   "source": [
    "gtex_metadata.to_pickle(output_filename)"
   ]
  },
  {
   "cell_type": "code",
   "execution_count": null,
   "id": "588803c0-0655-4af7-8721-ca8ceba871cf",
   "metadata": {
    "papermill": {
     "duration": 0.033499,
     "end_time": "2022-01-24T20:12:39.247828",
     "exception": false,
     "start_time": "2022-01-24T20:12:39.214329",
     "status": "completed"
    },
    "tags": []
   },
   "outputs": [],
   "source": []
  }
 ],
 "metadata": {
  "jupytext": {
   "cell_metadata_filter": "all,-execution,-papermill,-trusted"
  },
  "kernelspec": {
   "display_name": "Python 3 (ipykernel)",
   "language": "python",
   "name": "python3"
  },
  "language_info": {
   "codemirror_mode": {
    "name": "ipython",
    "version": 3
   },
   "file_extension": ".py",
   "mimetype": "text/x-python",
   "name": "python",
   "nbconvert_exporter": "python",
   "pygments_lexer": "ipython3",
   "version": "3.9.9"
  },
  "papermill": {
   "default_parameters": {},
   "duration": 5.169549,
   "end_time": "2022-01-24T20:12:39.489386",
   "environment_variables": {},
   "exception": null,
   "input_path": "nbs/05_preprocessing/07-gtex_v8-metadata.ipynb",
   "output_path": "nbs/05_preprocessing/07-gtex_v8-metadata.run.ipynb",
   "parameters": {},
   "start_time": "2022-01-24T20:12:34.319837",
   "version": "2.3.3"
  }
 },
 "nbformat": 4,
 "nbformat_minor": 5
}
