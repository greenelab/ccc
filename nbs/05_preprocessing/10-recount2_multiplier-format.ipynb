{
 "cells": [
  {
   "cell_type": "markdown",
   "id": "9525f35c",
   "metadata": {
    "papermill": {
     "duration": 0.024615,
     "end_time": "2021-09-09T14:38:17.306169",
     "exception": false,
     "start_time": "2021-09-09T14:38:17.281554",
     "status": "completed"
    },
    "tags": []
   },
   "source": [
    "# Description"
   ]
  },
  {
   "cell_type": "markdown",
   "id": "7c7a21cf",
   "metadata": {
    "papermill": {
     "duration": 0.023991,
     "end_time": "2021-09-09T14:38:17.354538",
     "exception": false,
     "start_time": "2021-09-09T14:38:17.330547",
     "status": "completed"
    },
    "tags": []
   },
   "source": [
    "This notebook reads 1) the normalized gene expression and 2) pathways from the data processed by\n",
    "MultiPLIER scripts (https://github.com/greenelab/multi-plier) and saves it into a more friendly Python\n",
    "format (Pandas DataFrames as pickle files).\n",
    "\n",
    "For recount2 we will not perform gene selection as in GTEx, since in this dataset (from MUltiPLIER) we only have ~6,700 genes, which is managable enough to compute the similarity matrices."
   ]
  },
  {
   "cell_type": "markdown",
   "id": "aed5444b",
   "metadata": {
    "papermill": {
     "duration": 0.024372,
     "end_time": "2021-09-09T14:38:17.402987",
     "exception": false,
     "start_time": "2021-09-09T14:38:17.378615",
     "status": "completed"
    },
    "tags": []
   },
   "source": [
    "# Modules"
   ]
  },
  {
   "cell_type": "code",
   "execution_count": 1,
   "id": "96058a2b",
   "metadata": {
    "execution": {
     "iopub.execute_input": "2021-09-09T14:38:17.458918Z",
     "iopub.status.busy": "2021-09-09T14:38:17.458444Z",
     "iopub.status.idle": "2021-09-09T14:38:17.988931Z",
     "shell.execute_reply": "2021-09-09T14:38:17.988312Z"
    },
    "papermill": {
     "duration": 0.561987,
     "end_time": "2021-09-09T14:38:17.989039",
     "exception": false,
     "start_time": "2021-09-09T14:38:17.427052",
     "status": "completed"
    },
    "tags": []
   },
   "outputs": [],
   "source": [
    "import sys\n",
    "from pathlib import Path\n",
    "from shutil import copyfile\n",
    "\n",
    "import pandas as pd\n",
    "import rpy2.robjects as ro\n",
    "from rpy2.robjects import pandas2ri\n",
    "from rpy2.robjects.conversion import localconverter\n",
    "\n",
    "from clustermatch import conf"
   ]
  },
  {
   "cell_type": "code",
   "execution_count": 2,
   "id": "7939727e",
   "metadata": {
    "execution": {
     "iopub.execute_input": "2021-09-09T14:38:18.040895Z",
     "iopub.status.busy": "2021-09-09T14:38:18.039263Z",
     "iopub.status.idle": "2021-09-09T14:38:18.043938Z",
     "shell.execute_reply": "2021-09-09T14:38:18.043438Z"
    },
    "papermill": {
     "duration": 0.030914,
     "end_time": "2021-09-09T14:38:18.044037",
     "exception": false,
     "start_time": "2021-09-09T14:38:18.013123",
     "status": "completed"
    },
    "tags": []
   },
   "outputs": [],
   "source": [
    "readRDS = ro.r[\"readRDS\"]"
   ]
  },
  {
   "cell_type": "code",
   "execution_count": 3,
   "id": "c04feb24",
   "metadata": {
    "execution": {
     "iopub.execute_input": "2021-09-09T14:38:18.096596Z",
     "iopub.status.busy": "2021-09-09T14:38:18.096108Z",
     "iopub.status.idle": "2021-09-09T14:38:18.098382Z",
     "shell.execute_reply": "2021-09-09T14:38:18.098007Z"
    },
    "papermill": {
     "duration": 0.029993,
     "end_time": "2021-09-09T14:38:18.098484",
     "exception": false,
     "start_time": "2021-09-09T14:38:18.068491",
     "status": "completed"
    },
    "tags": []
   },
   "outputs": [],
   "source": [
    "saveRDS = ro.r[\"saveRDS\"]"
   ]
  },
  {
   "cell_type": "markdown",
   "id": "eae41b9b",
   "metadata": {
    "papermill": {
     "duration": 0.023971,
     "end_time": "2021-09-09T14:38:18.146918",
     "exception": false,
     "start_time": "2021-09-09T14:38:18.122947",
     "status": "completed"
    },
    "tags": []
   },
   "source": [
    "# Settings"
   ]
  },
  {
   "cell_type": "code",
   "execution_count": 4,
   "id": "5aa92721",
   "metadata": {
    "execution": {
     "iopub.execute_input": "2021-09-09T14:38:18.207990Z",
     "iopub.status.busy": "2021-09-09T14:38:18.206814Z",
     "iopub.status.idle": "2021-09-09T14:38:18.210987Z",
     "shell.execute_reply": "2021-09-09T14:38:18.210592Z"
    },
    "papermill": {
     "duration": 0.03836,
     "end_time": "2021-09-09T14:38:18.211085",
     "exception": false,
     "start_time": "2021-09-09T14:38:18.172725",
     "status": "completed"
    },
    "tags": []
   },
   "outputs": [
    {
     "data": {
      "text/plain": [
       "PosixPath('/opt/data/data/recount2')"
      ]
     },
     "metadata": {},
     "output_type": "display_data"
    }
   ],
   "source": [
    "OUTPUT_DIR = conf.RECOUNT2[\"DATA_RDS_FILE\"].parent\n",
    "OUTPUT_DIR.mkdir(parents=True, exist_ok=True)\n",
    "display(OUTPUT_DIR)"
   ]
  },
  {
   "cell_type": "markdown",
   "id": "f8df9aac",
   "metadata": {
    "papermill": {
     "duration": 0.024418,
     "end_time": "2021-09-09T14:38:18.260259",
     "exception": false,
     "start_time": "2021-09-09T14:38:18.235841",
     "status": "completed"
    },
    "tags": []
   },
   "source": [
    "# Read entire recount data prep file with R"
   ]
  },
  {
   "cell_type": "code",
   "execution_count": 5,
   "id": "f7dc63ca",
   "metadata": {
    "execution": {
     "iopub.execute_input": "2021-09-09T14:38:18.314200Z",
     "iopub.status.busy": "2021-09-09T14:38:18.313675Z",
     "iopub.status.idle": "2021-09-09T14:38:18.315861Z",
     "shell.execute_reply": "2021-09-09T14:38:18.316227Z"
    },
    "papermill": {
     "duration": 0.030881,
     "end_time": "2021-09-09T14:38:18.316352",
     "exception": false,
     "start_time": "2021-09-09T14:38:18.285471",
     "status": "completed"
    },
    "tags": []
   },
   "outputs": [
    {
     "data": {
      "text/plain": [
       "PosixPath('/opt/data/data/recount2/recount_data_prep_PLIER.RDS')"
      ]
     },
     "metadata": {},
     "output_type": "display_data"
    }
   ],
   "source": [
    "display(conf.RECOUNT2[\"DATA_RDS_FILE\"])\n",
    "\n",
    "if not conf.RECOUNT2[\"DATA_RDS_FILE\"].exists():\n",
    "    print(\"Input file does not exist\")\n",
    "    sys.exit(0)"
   ]
  },
  {
   "cell_type": "code",
   "execution_count": 6,
   "id": "0760310e",
   "metadata": {
    "execution": {
     "iopub.execute_input": "2021-09-09T14:38:18.370796Z",
     "iopub.status.busy": "2021-09-09T14:38:18.370322Z",
     "iopub.status.idle": "2021-09-09T14:38:31.202530Z",
     "shell.execute_reply": "2021-09-09T14:38:31.202101Z"
    },
    "papermill": {
     "duration": 12.860508,
     "end_time": "2021-09-09T14:38:31.202630",
     "exception": false,
     "start_time": "2021-09-09T14:38:18.342122",
     "status": "completed"
    },
    "tags": []
   },
   "outputs": [],
   "source": [
    "recount_data_prep = readRDS(str(conf.RECOUNT2[\"DATA_RDS_FILE\"]))"
   ]
  },
  {
   "cell_type": "markdown",
   "id": "9f899380",
   "metadata": {
    "papermill": {
     "duration": 0.024865,
     "end_time": "2021-09-09T14:38:31.252752",
     "exception": false,
     "start_time": "2021-09-09T14:38:31.227887",
     "status": "completed"
    },
    "tags": []
   },
   "source": [
    "# recount2 gene expression data"
   ]
  },
  {
   "cell_type": "markdown",
   "id": "b544a961",
   "metadata": {
    "papermill": {
     "duration": 0.024919,
     "end_time": "2021-09-09T14:38:31.302392",
     "exception": false,
     "start_time": "2021-09-09T14:38:31.277473",
     "status": "completed"
    },
    "tags": []
   },
   "source": [
    "## Load"
   ]
  },
  {
   "cell_type": "code",
   "execution_count": 7,
   "id": "e8c2ca39",
   "metadata": {
    "execution": {
     "iopub.execute_input": "2021-09-09T14:38:31.356059Z",
     "iopub.status.busy": "2021-09-09T14:38:31.354618Z",
     "iopub.status.idle": "2021-09-09T14:38:31.358310Z",
     "shell.execute_reply": "2021-09-09T14:38:31.357907Z"
    },
    "papermill": {
     "duration": 0.031065,
     "end_time": "2021-09-09T14:38:31.358409",
     "exception": false,
     "start_time": "2021-09-09T14:38:31.327344",
     "status": "completed"
    },
    "tags": []
   },
   "outputs": [],
   "source": [
    "recount2_rpkl_cm = recount_data_prep.rx2(\"rpkm.cm\")"
   ]
  },
  {
   "cell_type": "code",
   "execution_count": 8,
   "id": "e4b8ee3f",
   "metadata": {
    "execution": {
     "iopub.execute_input": "2021-09-09T14:38:31.412885Z",
     "iopub.status.busy": "2021-09-09T14:38:31.411291Z",
     "iopub.status.idle": "2021-09-09T14:38:31.421677Z",
     "shell.execute_reply": "2021-09-09T14:38:31.421210Z"
    },
    "papermill": {
     "duration": 0.037502,
     "end_time": "2021-09-09T14:38:31.421776",
     "exception": false,
     "start_time": "2021-09-09T14:38:31.384274",
     "status": "completed"
    },
    "tags": []
   },
   "outputs": [
    {
     "data": {
      "text/html": [
       "\n",
       "        <span>R/rpy2 DataFrame (6750 x 37032)</span>\n",
       "        <table>\n",
       "          <thead>\n",
       "            <tr>\n",
       "              \n",
       "              <th>SRP000599.SRR013549</th>\n",
       "              \n",
       "              <th>SRP000599.SRR013550</th>\n",
       "              \n",
       "              <th>SRP000599.SRR013551</th>\n",
       "              \n",
       "              <th>...</th>\n",
       "              \n",
       "              <th>SRP035599.SRR1139382</th>\n",
       "              \n",
       "              <th>SRP035599.SRR1139356</th>\n",
       "              \n",
       "              <th>SRP035599.SRR1139370</th>\n",
       "              \n",
       "            </tr>\n",
       "          </thead>\n",
       "          <tbody>\n",
       "          \n",
       "          <tr>\n",
       "            \n",
       "            <td>\n",
       "              -0.312500\n",
       "            </td>\n",
       "            \n",
       "            <td>\n",
       "              -0.312931\n",
       "            </td>\n",
       "            \n",
       "            <td>\n",
       "              -0.312931\n",
       "            </td>\n",
       "            \n",
       "            <td>\n",
       "              ...\n",
       "            </td>\n",
       "            \n",
       "            <td>\n",
       "              -0.300220\n",
       "            </td>\n",
       "            \n",
       "            <td>\n",
       "              -0.297667\n",
       "            </td>\n",
       "            \n",
       "            <td>\n",
       "              -0.310151\n",
       "            </td>\n",
       "            \n",
       "          </tr>\n",
       "          \n",
       "          <tr>\n",
       "            \n",
       "            <td>\n",
       "              -0.328279\n",
       "            </td>\n",
       "            \n",
       "            <td>\n",
       "              -0.328279\n",
       "            </td>\n",
       "            \n",
       "            <td>\n",
       "              -0.328279\n",
       "            </td>\n",
       "            \n",
       "            <td>\n",
       "              \n",
       "            </td>\n",
       "            \n",
       "            <td>\n",
       "              -0.326339\n",
       "            </td>\n",
       "            \n",
       "            <td>\n",
       "              -0.322127\n",
       "            </td>\n",
       "            \n",
       "            <td>\n",
       "              -0.327438\n",
       "            </td>\n",
       "            \n",
       "          </tr>\n",
       "          \n",
       "          <tr>\n",
       "            \n",
       "            <td>\n",
       "              -0.286319\n",
       "            </td>\n",
       "            \n",
       "            <td>\n",
       "              -0.286859\n",
       "            </td>\n",
       "            \n",
       "            <td>\n",
       "              -0.286859\n",
       "            </td>\n",
       "            \n",
       "            <td>\n",
       "              \n",
       "            </td>\n",
       "            \n",
       "            <td>\n",
       "              -0.286671\n",
       "            </td>\n",
       "            \n",
       "            <td>\n",
       "              -0.286859\n",
       "            </td>\n",
       "            \n",
       "            <td>\n",
       "              -0.286740\n",
       "            </td>\n",
       "            \n",
       "          </tr>\n",
       "          \n",
       "          <tr>\n",
       "            \n",
       "            <td>\n",
       "              -0.536646\n",
       "            </td>\n",
       "            \n",
       "            <td>\n",
       "              -0.536646\n",
       "            </td>\n",
       "            \n",
       "            <td>\n",
       "              -0.536646\n",
       "            </td>\n",
       "            \n",
       "            <td>\n",
       "              \n",
       "            </td>\n",
       "            \n",
       "            <td>\n",
       "              2.458255\n",
       "            </td>\n",
       "            \n",
       "            <td>\n",
       "              2.919662\n",
       "            </td>\n",
       "            \n",
       "            <td>\n",
       "              1.410846\n",
       "            </td>\n",
       "            \n",
       "          </tr>\n",
       "          \n",
       "          <tr>\n",
       "            \n",
       "            <td>\n",
       "              ...\n",
       "            </td>\n",
       "            \n",
       "            <td>\n",
       "              ...\n",
       "            </td>\n",
       "            \n",
       "            <td>\n",
       "              ...\n",
       "            </td>\n",
       "            \n",
       "            <td>\n",
       "              \n",
       "            </td>\n",
       "            \n",
       "            <td>\n",
       "              ...\n",
       "            </td>\n",
       "            \n",
       "            <td>\n",
       "              ...\n",
       "            </td>\n",
       "            \n",
       "            <td>\n",
       "              ...\n",
       "            </td>\n",
       "            \n",
       "          </tr>\n",
       "          \n",
       "          <tr>\n",
       "            \n",
       "            <td>\n",
       "              -0.142179\n",
       "            </td>\n",
       "            \n",
       "            <td>\n",
       "              -0.142384\n",
       "            </td>\n",
       "            \n",
       "            <td>\n",
       "              -0.140314\n",
       "            </td>\n",
       "            \n",
       "            <td>\n",
       "              \n",
       "            </td>\n",
       "            \n",
       "            <td>\n",
       "              -0.139339\n",
       "            </td>\n",
       "            \n",
       "            <td>\n",
       "              -0.142384\n",
       "            </td>\n",
       "            \n",
       "            <td>\n",
       "              -0.142232\n",
       "            </td>\n",
       "            \n",
       "          </tr>\n",
       "          \n",
       "          <tr>\n",
       "            \n",
       "            <td>\n",
       "              -0.349886\n",
       "            </td>\n",
       "            \n",
       "            <td>\n",
       "              -0.349886\n",
       "            </td>\n",
       "            \n",
       "            <td>\n",
       "              -0.349886\n",
       "            </td>\n",
       "            \n",
       "            <td>\n",
       "              \n",
       "            </td>\n",
       "            \n",
       "            <td>\n",
       "              -0.264224\n",
       "            </td>\n",
       "            \n",
       "            <td>\n",
       "              0.020815\n",
       "            </td>\n",
       "            \n",
       "            <td>\n",
       "              -0.324208\n",
       "            </td>\n",
       "            \n",
       "          </tr>\n",
       "          \n",
       "          <tr>\n",
       "            \n",
       "            <td>\n",
       "              -0.085582\n",
       "            </td>\n",
       "            \n",
       "            <td>\n",
       "              -0.085582\n",
       "            </td>\n",
       "            \n",
       "            <td>\n",
       "              -0.085582\n",
       "            </td>\n",
       "            \n",
       "            <td>\n",
       "              \n",
       "            </td>\n",
       "            \n",
       "            <td>\n",
       "              0.603333\n",
       "            </td>\n",
       "            \n",
       "            <td>\n",
       "              0.915213\n",
       "            </td>\n",
       "            \n",
       "            <td>\n",
       "              1.788489\n",
       "            </td>\n",
       "            \n",
       "          </tr>\n",
       "          \n",
       "          <tr>\n",
       "            \n",
       "            <td>\n",
       "              -0.567112\n",
       "            </td>\n",
       "            \n",
       "            <td>\n",
       "              -0.569146\n",
       "            </td>\n",
       "            \n",
       "            <td>\n",
       "              -0.569146\n",
       "            </td>\n",
       "            \n",
       "            <td>\n",
       "              \n",
       "            </td>\n",
       "            \n",
       "            <td>\n",
       "              -0.455832\n",
       "            </td>\n",
       "            \n",
       "            <td>\n",
       "              -0.378093\n",
       "            </td>\n",
       "            \n",
       "            <td>\n",
       "              -0.491513\n",
       "            </td>\n",
       "            \n",
       "          </tr>\n",
       "          \n",
       "          </tbody>\n",
       "        </table>\n",
       "    "
      ],
      "text/plain": [
       "<rpy2.robjects.vectors.DataFrame object at 0x7f17a27981c0> [RTYPES.VECSXP]\n",
       "R classes: ('data.frame',)\n",
       "[FloatSexp..., FloatSexp..., FloatSexp..., FloatSexp..., ..., FloatSexp..., FloatSexp..., FloatSexp..., FloatSexp...]\n",
       "  SRP000599.SRR013549: <class 'rpy2.robjects.vectors.FloatVector'>\n",
       "  <rpy2.robjects.vectors.FloatVector object at 0x7f17a27807c0> [RTYPES.REALSXP]\n",
       "R classes: ('numeric',)\n",
       "[-0.312500, -0.328279, -0.286319, -0.536646, ..., -0.142179, -0.349886, -0.085582, -0.567112]\n",
       "  SRP000599.SRR013550: <class 'rpy2.robjects.vectors.FloatVector'>\n",
       "  <rpy2.robjects.vectors.FloatVector object at 0x7f176cb01ec0> [RTYPES.REALSXP]\n",
       "R classes: ('numeric',)\n",
       "[-0.312931, -0.328279, -0.286859, -0.536646, ..., -0.142384, -0.349886, -0.085582, -0.569146]\n",
       "  SRP000599.SRR013551: <class 'rpy2.robjects.vectors.FloatVector'>\n",
       "  <rpy2.robjects.vectors.FloatVector object at 0x7f176cab8780> [RTYPES.REALSXP]\n",
       "R classes: ('numeric',)\n",
       "[-0.312931, -0.328279, -0.286859, -0.536646, ..., -0.140314, -0.349886, -0.085582, -0.569146]\n",
       "  SRP000599.SRR013552: <class 'rpy2.robjects.vectors.FloatVector'>\n",
       "  <rpy2.robjects.vectors.FloatVector object at 0x7f176cab8880> [RTYPES.REALSXP]\n",
       "R classes: ('numeric',)\n",
       "[-0.312931, -0.328279, -0.286859, -0.536646, ..., -0.142384, -0.349886, -0.085582, -0.569146]\n",
       "...\n",
       "  SRP000599.SRR013554: <class 'rpy2.robjects.vectors.FloatVector'>\n",
       "  <rpy2.robjects.vectors.FloatVector object at 0x7f176cab85c0> [RTYPES.REALSXP]\n",
       "R classes: ('numeric',)\n",
       "[-0.309599, -0.326375, -0.286859, 1.507099, ..., -0.142304, -0.149655, 1.280258, -0.340927]\n",
       "  SRP000599.SRR013555: <class 'rpy2.robjects.vectors.FloatVector'>\n",
       "  <rpy2.robjects.vectors.FloatVector object at 0x7f176cab87c0> [RTYPES.REALSXP]\n",
       "R classes: ('numeric',)\n",
       "[-0.300220, -0.326339, -0.286671, 2.458255, ..., -0.139339, -0.264224, 0.603333, -0.455832]\n",
       "  SRP000599.SRR013556: <class 'rpy2.robjects.vectors.FloatVector'>\n",
       "  <rpy2.robjects.vectors.FloatVector object at 0x7f176cab8c00> [RTYPES.REALSXP]\n",
       "R classes: ('numeric',)\n",
       "[-0.297667, -0.322127, -0.286859, 2.919662, ..., -0.142384, 0.020815, 0.915213, -0.378093]\n",
       "  SRP000599.SRR013557: <class 'rpy2.robjects.vectors.FloatVector'>\n",
       "  <rpy2.robjects.vectors.FloatVector object at 0x7f176cab8f80> [RTYPES.REALSXP]\n",
       "R classes: ('numeric',)\n",
       "[-0.310151, -0.327438, -0.286740, 1.410846, ..., -0.142232, -0.324208, 1.788489, -0.491513]"
      ]
     },
     "execution_count": 8,
     "metadata": {},
     "output_type": "execute_result"
    }
   ],
   "source": [
    "recount2_rpkl_cm"
   ]
  },
  {
   "cell_type": "code",
   "execution_count": 9,
   "id": "467cc8f7",
   "metadata": {
    "execution": {
     "iopub.execute_input": "2021-09-09T14:38:31.476960Z",
     "iopub.status.busy": "2021-09-09T14:38:31.476483Z",
     "iopub.status.idle": "2021-09-09T14:38:31.479953Z",
     "shell.execute_reply": "2021-09-09T14:38:31.480307Z"
    },
    "papermill": {
     "duration": 0.032701,
     "end_time": "2021-09-09T14:38:31.480432",
     "exception": false,
     "start_time": "2021-09-09T14:38:31.447731",
     "status": "completed"
    },
    "tags": []
   },
   "outputs": [
    {
     "data": {
      "text/html": [
       "\n",
       "        <span>StrVector with 6750 elements.</span>\n",
       "        <table>\n",
       "        <tbody>\n",
       "          <tr>\n",
       "          \n",
       "            <td>\n",
       "            'GAS6'\n",
       "            </td>\n",
       "          \n",
       "            <td>\n",
       "            'MMP14'\n",
       "            </td>\n",
       "          \n",
       "            <td>\n",
       "            'DSP'\n",
       "            </td>\n",
       "          \n",
       "            <td>\n",
       "            ...\n",
       "            </td>\n",
       "          \n",
       "            <td>\n",
       "            'PLEKHG6'\n",
       "            </td>\n",
       "          \n",
       "            <td>\n",
       "            'GNGT2'\n",
       "            </td>\n",
       "          \n",
       "            <td>\n",
       "            'SERPINH1'\n",
       "            </td>\n",
       "          \n",
       "          </tr>\n",
       "        </tbody>\n",
       "        </table>\n",
       "        "
      ],
      "text/plain": [
       "<rpy2.robjects.vectors.StrVector object at 0x7f178c281bc0> [RTYPES.STRSXP]\n",
       "R classes: ('character',)\n",
       "['GAS6', 'MMP14', 'DSP', 'MARCKSL1', ..., 'NFIB', 'PLEKHG6', 'GNGT2', 'SERPINH1']"
      ]
     },
     "execution_count": 9,
     "metadata": {},
     "output_type": "execute_result"
    }
   ],
   "source": [
    "recount2_rpkl_cm.rownames"
   ]
  },
  {
   "cell_type": "code",
   "execution_count": 10,
   "id": "94189ec7",
   "metadata": {
    "execution": {
     "iopub.execute_input": "2021-09-09T14:38:31.540374Z",
     "iopub.status.busy": "2021-09-09T14:38:31.539820Z",
     "iopub.status.idle": "2021-09-09T14:38:31.543858Z",
     "shell.execute_reply": "2021-09-09T14:38:31.544269Z"
    },
    "papermill": {
     "duration": 0.037567,
     "end_time": "2021-09-09T14:38:31.544415",
     "exception": false,
     "start_time": "2021-09-09T14:38:31.506848",
     "status": "completed"
    },
    "tags": []
   },
   "outputs": [
    {
     "data": {
      "text/html": [
       "\n",
       "        <span>StrVector with 37032 elements.</span>\n",
       "        <table>\n",
       "        <tbody>\n",
       "          <tr>\n",
       "          \n",
       "            <td>\n",
       "            'SRP00059...\n",
       "            </td>\n",
       "          \n",
       "            <td>\n",
       "            'SRP00059...\n",
       "            </td>\n",
       "          \n",
       "            <td>\n",
       "            'SRP00059...\n",
       "            </td>\n",
       "          \n",
       "            <td>\n",
       "            ...\n",
       "            </td>\n",
       "          \n",
       "            <td>\n",
       "            'SRP03559...\n",
       "            </td>\n",
       "          \n",
       "            <td>\n",
       "            'SRP03559...\n",
       "            </td>\n",
       "          \n",
       "            <td>\n",
       "            'SRP03559...\n",
       "            </td>\n",
       "          \n",
       "          </tr>\n",
       "        </tbody>\n",
       "        </table>\n",
       "        "
      ],
      "text/plain": [
       "<rpy2.robjects.vectors.StrVector object at 0x7f176ca41400> [RTYPES.STRSXP]\n",
       "R classes: ('character',)\n",
       "['SRP00059..., 'SRP00059..., 'SRP00059..., 'SRP00059..., ..., 'SRP03559..., 'SRP03559..., 'SRP03559..., 'SRP03559...]"
      ]
     },
     "execution_count": 10,
     "metadata": {},
     "output_type": "execute_result"
    }
   ],
   "source": [
    "recount2_rpkl_cm.colnames"
   ]
  },
  {
   "cell_type": "code",
   "execution_count": 11,
   "id": "77d6fdda",
   "metadata": {
    "execution": {
     "iopub.execute_input": "2021-09-09T14:38:31.603950Z",
     "iopub.status.busy": "2021-09-09T14:38:31.603455Z",
     "iopub.status.idle": "2021-09-09T14:38:35.891469Z",
     "shell.execute_reply": "2021-09-09T14:38:35.891062Z"
    },
    "papermill": {
     "duration": 4.31913,
     "end_time": "2021-09-09T14:38:35.891578",
     "exception": false,
     "start_time": "2021-09-09T14:38:31.572448",
     "status": "completed"
    },
    "tags": []
   },
   "outputs": [],
   "source": [
    "with localconverter(ro.default_converter + pandas2ri.converter):\n",
    "    recount2_rpkl_cm = ro.conversion.rpy2py(recount2_rpkl_cm)"
   ]
  },
  {
   "cell_type": "code",
   "execution_count": 12,
   "id": "2d7ba7fd",
   "metadata": {
    "execution": {
     "iopub.execute_input": "2021-09-09T14:38:35.949543Z",
     "iopub.status.busy": "2021-09-09T14:38:35.949084Z",
     "iopub.status.idle": "2021-09-09T14:38:35.951305Z",
     "shell.execute_reply": "2021-09-09T14:38:35.950840Z"
    },
    "papermill": {
     "duration": 0.032256,
     "end_time": "2021-09-09T14:38:35.951404",
     "exception": false,
     "start_time": "2021-09-09T14:38:35.919148",
     "status": "completed"
    },
    "tags": []
   },
   "outputs": [],
   "source": [
    "assert recount2_rpkl_cm.shape == (6750, 37032)"
   ]
  },
  {
   "cell_type": "code",
   "execution_count": 13,
   "id": "db329251",
   "metadata": {
    "execution": {
     "iopub.execute_input": "2021-09-09T14:38:36.008854Z",
     "iopub.status.busy": "2021-09-09T14:38:36.008384Z",
     "iopub.status.idle": "2021-09-09T14:38:36.010445Z",
     "shell.execute_reply": "2021-09-09T14:38:36.010823Z"
    },
    "papermill": {
     "duration": 0.032842,
     "end_time": "2021-09-09T14:38:36.010944",
     "exception": false,
     "start_time": "2021-09-09T14:38:35.978102",
     "status": "completed"
    },
    "tags": []
   },
   "outputs": [
    {
     "data": {
      "text/plain": [
       "(6750, 37032)"
      ]
     },
     "execution_count": 13,
     "metadata": {},
     "output_type": "execute_result"
    }
   ],
   "source": [
    "recount2_rpkl_cm.shape"
   ]
  },
  {
   "cell_type": "code",
   "execution_count": 14,
   "id": "cbf74dbe",
   "metadata": {
    "execution": {
     "iopub.execute_input": "2021-09-09T14:38:36.072099Z",
     "iopub.status.busy": "2021-09-09T14:38:36.071596Z",
     "iopub.status.idle": "2021-09-09T14:38:36.089667Z",
     "shell.execute_reply": "2021-09-09T14:38:36.089237Z"
    },
    "papermill": {
     "duration": 0.051799,
     "end_time": "2021-09-09T14:38:36.089766",
     "exception": false,
     "start_time": "2021-09-09T14:38:36.037967",
     "status": "completed"
    },
    "tags": []
   },
   "outputs": [
    {
     "data": {
      "text/html": [
       "<div>\n",
       "<style scoped>\n",
       "    .dataframe tbody tr th:only-of-type {\n",
       "        vertical-align: middle;\n",
       "    }\n",
       "\n",
       "    .dataframe tbody tr th {\n",
       "        vertical-align: top;\n",
       "    }\n",
       "\n",
       "    .dataframe thead th {\n",
       "        text-align: right;\n",
       "    }\n",
       "</style>\n",
       "<table border=\"1\" class=\"dataframe\">\n",
       "  <thead>\n",
       "    <tr style=\"text-align: right;\">\n",
       "      <th></th>\n",
       "      <th>SRP000599.SRR013549</th>\n",
       "      <th>SRP000599.SRR013550</th>\n",
       "      <th>SRP000599.SRR013551</th>\n",
       "      <th>SRP000599.SRR013552</th>\n",
       "      <th>SRP000599.SRR013553</th>\n",
       "      <th>SRP000599.SRR013554</th>\n",
       "      <th>SRP000599.SRR013555</th>\n",
       "      <th>SRP000599.SRR013556</th>\n",
       "      <th>SRP000599.SRR013557</th>\n",
       "      <th>SRP000599.SRR013558</th>\n",
       "      <th>...</th>\n",
       "      <th>SRP035599.SRR1139372</th>\n",
       "      <th>SRP035599.SRR1139393</th>\n",
       "      <th>SRP035599.SRR1139388</th>\n",
       "      <th>SRP035599.SRR1139378</th>\n",
       "      <th>SRP035599.SRR1139399</th>\n",
       "      <th>SRP035599.SRR1139386</th>\n",
       "      <th>SRP035599.SRR1139375</th>\n",
       "      <th>SRP035599.SRR1139382</th>\n",
       "      <th>SRP035599.SRR1139356</th>\n",
       "      <th>SRP035599.SRR1139370</th>\n",
       "    </tr>\n",
       "  </thead>\n",
       "  <tbody>\n",
       "    <tr>\n",
       "      <th>GAS6</th>\n",
       "      <td>-0.312500</td>\n",
       "      <td>-0.312931</td>\n",
       "      <td>-0.312931</td>\n",
       "      <td>-0.312931</td>\n",
       "      <td>-0.312931</td>\n",
       "      <td>-0.308253</td>\n",
       "      <td>-0.312931</td>\n",
       "      <td>-0.312931</td>\n",
       "      <td>-0.312931</td>\n",
       "      <td>-0.312931</td>\n",
       "      <td>...</td>\n",
       "      <td>-0.301711</td>\n",
       "      <td>-0.305581</td>\n",
       "      <td>-0.303344</td>\n",
       "      <td>-0.297800</td>\n",
       "      <td>-0.307122</td>\n",
       "      <td>-0.285499</td>\n",
       "      <td>-0.309599</td>\n",
       "      <td>-0.300220</td>\n",
       "      <td>-0.297667</td>\n",
       "      <td>-0.310151</td>\n",
       "    </tr>\n",
       "    <tr>\n",
       "      <th>MMP14</th>\n",
       "      <td>-0.328279</td>\n",
       "      <td>-0.328279</td>\n",
       "      <td>-0.328279</td>\n",
       "      <td>-0.328279</td>\n",
       "      <td>-0.328279</td>\n",
       "      <td>-0.328279</td>\n",
       "      <td>-0.328279</td>\n",
       "      <td>-0.328279</td>\n",
       "      <td>-0.328279</td>\n",
       "      <td>-0.325140</td>\n",
       "      <td>...</td>\n",
       "      <td>-0.314587</td>\n",
       "      <td>-0.322952</td>\n",
       "      <td>-0.326439</td>\n",
       "      <td>-0.325994</td>\n",
       "      <td>-0.326272</td>\n",
       "      <td>-0.322523</td>\n",
       "      <td>-0.326375</td>\n",
       "      <td>-0.326339</td>\n",
       "      <td>-0.322127</td>\n",
       "      <td>-0.327438</td>\n",
       "    </tr>\n",
       "    <tr>\n",
       "      <th>DSP</th>\n",
       "      <td>-0.286319</td>\n",
       "      <td>-0.286859</td>\n",
       "      <td>-0.286859</td>\n",
       "      <td>-0.286859</td>\n",
       "      <td>-0.286859</td>\n",
       "      <td>-0.286859</td>\n",
       "      <td>-0.277195</td>\n",
       "      <td>-0.256862</td>\n",
       "      <td>-0.278790</td>\n",
       "      <td>-0.269701</td>\n",
       "      <td>...</td>\n",
       "      <td>-0.286859</td>\n",
       "      <td>-0.286859</td>\n",
       "      <td>-0.286745</td>\n",
       "      <td>-0.286688</td>\n",
       "      <td>-0.286725</td>\n",
       "      <td>-0.286529</td>\n",
       "      <td>-0.286859</td>\n",
       "      <td>-0.286671</td>\n",
       "      <td>-0.286859</td>\n",
       "      <td>-0.286740</td>\n",
       "    </tr>\n",
       "    <tr>\n",
       "      <th>MARCKSL1</th>\n",
       "      <td>-0.536646</td>\n",
       "      <td>-0.536646</td>\n",
       "      <td>-0.536646</td>\n",
       "      <td>-0.536646</td>\n",
       "      <td>-0.536646</td>\n",
       "      <td>-0.536646</td>\n",
       "      <td>-0.536646</td>\n",
       "      <td>-0.536646</td>\n",
       "      <td>-0.536646</td>\n",
       "      <td>-0.536646</td>\n",
       "      <td>...</td>\n",
       "      <td>0.807663</td>\n",
       "      <td>1.294564</td>\n",
       "      <td>1.527655</td>\n",
       "      <td>1.404788</td>\n",
       "      <td>1.047931</td>\n",
       "      <td>0.892119</td>\n",
       "      <td>1.507099</td>\n",
       "      <td>2.458255</td>\n",
       "      <td>2.919662</td>\n",
       "      <td>1.410846</td>\n",
       "    </tr>\n",
       "    <tr>\n",
       "      <th>SPARC</th>\n",
       "      <td>-0.370498</td>\n",
       "      <td>-0.370498</td>\n",
       "      <td>-0.369171</td>\n",
       "      <td>-0.370498</td>\n",
       "      <td>-0.370498</td>\n",
       "      <td>-0.370498</td>\n",
       "      <td>-0.370498</td>\n",
       "      <td>-0.370498</td>\n",
       "      <td>-0.370498</td>\n",
       "      <td>-0.370498</td>\n",
       "      <td>...</td>\n",
       "      <td>-0.345409</td>\n",
       "      <td>-0.310750</td>\n",
       "      <td>-0.348120</td>\n",
       "      <td>-0.356938</td>\n",
       "      <td>-0.355206</td>\n",
       "      <td>-0.366197</td>\n",
       "      <td>-0.351174</td>\n",
       "      <td>-0.363703</td>\n",
       "      <td>-0.350825</td>\n",
       "      <td>-0.360762</td>\n",
       "    </tr>\n",
       "  </tbody>\n",
       "</table>\n",
       "<p>5 rows × 37032 columns</p>\n",
       "</div>"
      ],
      "text/plain": [
       "          SRP000599.SRR013549  SRP000599.SRR013550  SRP000599.SRR013551  \\\n",
       "GAS6                -0.312500            -0.312931            -0.312931   \n",
       "MMP14               -0.328279            -0.328279            -0.328279   \n",
       "DSP                 -0.286319            -0.286859            -0.286859   \n",
       "MARCKSL1            -0.536646            -0.536646            -0.536646   \n",
       "SPARC               -0.370498            -0.370498            -0.369171   \n",
       "\n",
       "          SRP000599.SRR013552  SRP000599.SRR013553  SRP000599.SRR013554  \\\n",
       "GAS6                -0.312931            -0.312931            -0.308253   \n",
       "MMP14               -0.328279            -0.328279            -0.328279   \n",
       "DSP                 -0.286859            -0.286859            -0.286859   \n",
       "MARCKSL1            -0.536646            -0.536646            -0.536646   \n",
       "SPARC               -0.370498            -0.370498            -0.370498   \n",
       "\n",
       "          SRP000599.SRR013555  SRP000599.SRR013556  SRP000599.SRR013557  \\\n",
       "GAS6                -0.312931            -0.312931            -0.312931   \n",
       "MMP14               -0.328279            -0.328279            -0.328279   \n",
       "DSP                 -0.277195            -0.256862            -0.278790   \n",
       "MARCKSL1            -0.536646            -0.536646            -0.536646   \n",
       "SPARC               -0.370498            -0.370498            -0.370498   \n",
       "\n",
       "          SRP000599.SRR013558  ...  SRP035599.SRR1139372  \\\n",
       "GAS6                -0.312931  ...             -0.301711   \n",
       "MMP14               -0.325140  ...             -0.314587   \n",
       "DSP                 -0.269701  ...             -0.286859   \n",
       "MARCKSL1            -0.536646  ...              0.807663   \n",
       "SPARC               -0.370498  ...             -0.345409   \n",
       "\n",
       "          SRP035599.SRR1139393  SRP035599.SRR1139388  SRP035599.SRR1139378  \\\n",
       "GAS6                 -0.305581             -0.303344             -0.297800   \n",
       "MMP14                -0.322952             -0.326439             -0.325994   \n",
       "DSP                  -0.286859             -0.286745             -0.286688   \n",
       "MARCKSL1              1.294564              1.527655              1.404788   \n",
       "SPARC                -0.310750             -0.348120             -0.356938   \n",
       "\n",
       "          SRP035599.SRR1139399  SRP035599.SRR1139386  SRP035599.SRR1139375  \\\n",
       "GAS6                 -0.307122             -0.285499             -0.309599   \n",
       "MMP14                -0.326272             -0.322523             -0.326375   \n",
       "DSP                  -0.286725             -0.286529             -0.286859   \n",
       "MARCKSL1              1.047931              0.892119              1.507099   \n",
       "SPARC                -0.355206             -0.366197             -0.351174   \n",
       "\n",
       "          SRP035599.SRR1139382  SRP035599.SRR1139356  SRP035599.SRR1139370  \n",
       "GAS6                 -0.300220             -0.297667             -0.310151  \n",
       "MMP14                -0.326339             -0.322127             -0.327438  \n",
       "DSP                  -0.286671             -0.286859             -0.286740  \n",
       "MARCKSL1              2.458255              2.919662              1.410846  \n",
       "SPARC                -0.363703             -0.350825             -0.360762  \n",
       "\n",
       "[5 rows x 37032 columns]"
      ]
     },
     "execution_count": 14,
     "metadata": {},
     "output_type": "execute_result"
    }
   ],
   "source": [
    "recount2_rpkl_cm.head()"
   ]
  },
  {
   "cell_type": "markdown",
   "id": "dd6224b2",
   "metadata": {
    "papermill": {
     "duration": 0.027248,
     "end_time": "2021-09-09T14:38:36.144884",
     "exception": false,
     "start_time": "2021-09-09T14:38:36.117636",
     "status": "completed"
    },
    "tags": []
   },
   "source": [
    "## Test"
   ]
  },
  {
   "cell_type": "code",
   "execution_count": 15,
   "id": "857f96a9",
   "metadata": {
    "execution": {
     "iopub.execute_input": "2021-09-09T14:38:36.203218Z",
     "iopub.status.busy": "2021-09-09T14:38:36.202730Z",
     "iopub.status.idle": "2021-09-09T14:38:36.415778Z",
     "shell.execute_reply": "2021-09-09T14:38:36.415356Z"
    },
    "papermill": {
     "duration": 0.243759,
     "end_time": "2021-09-09T14:38:36.415888",
     "exception": false,
     "start_time": "2021-09-09T14:38:36.172129",
     "status": "completed"
    },
    "tags": []
   },
   "outputs": [],
   "source": [
    "assert not recount2_rpkl_cm.isna().any().any()\n",
    "assert recount2_rpkl_cm.index.is_unique\n",
    "assert recount2_rpkl_cm.columns.is_unique"
   ]
  },
  {
   "cell_type": "markdown",
   "id": "57c837d6",
   "metadata": {
    "papermill": {
     "duration": 0.027215,
     "end_time": "2021-09-09T14:38:36.470948",
     "exception": false,
     "start_time": "2021-09-09T14:38:36.443733",
     "status": "completed"
    },
    "tags": []
   },
   "source": [
    "Test whether what I load from a plain R session is the same as in here."
   ]
  },
  {
   "cell_type": "code",
   "execution_count": 16,
   "id": "4f25e496",
   "metadata": {
    "execution": {
     "iopub.execute_input": "2021-09-09T14:38:36.530244Z",
     "iopub.status.busy": "2021-09-09T14:38:36.529741Z",
     "iopub.status.idle": "2021-09-09T14:38:36.532419Z",
     "shell.execute_reply": "2021-09-09T14:38:36.531999Z"
    },
    "papermill": {
     "duration": 0.03416,
     "end_time": "2021-09-09T14:38:36.532517",
     "exception": false,
     "start_time": "2021-09-09T14:38:36.498357",
     "status": "completed"
    },
    "tags": []
   },
   "outputs": [],
   "source": [
    "assert recount2_rpkl_cm.loc[\"GAS6\", \"SRP000599.SRR013549\"].round(4) == -0.3125"
   ]
  },
  {
   "cell_type": "code",
   "execution_count": 17,
   "id": "9d3506fd",
   "metadata": {
    "execution": {
     "iopub.execute_input": "2021-09-09T14:38:36.594491Z",
     "iopub.status.busy": "2021-09-09T14:38:36.593971Z",
     "iopub.status.idle": "2021-09-09T14:38:36.595789Z",
     "shell.execute_reply": "2021-09-09T14:38:36.595364Z"
    },
    "papermill": {
     "duration": 0.03484,
     "end_time": "2021-09-09T14:38:36.595895",
     "exception": false,
     "start_time": "2021-09-09T14:38:36.561055",
     "status": "completed"
    },
    "tags": []
   },
   "outputs": [],
   "source": [
    "assert recount2_rpkl_cm.loc[\"GAS6\", \"SRP045352.SRR1539229\"].round(7) == -0.2843801"
   ]
  },
  {
   "cell_type": "code",
   "execution_count": 18,
   "id": "2fff9cd9",
   "metadata": {
    "execution": {
     "iopub.execute_input": "2021-09-09T14:38:36.654818Z",
     "iopub.status.busy": "2021-09-09T14:38:36.653307Z",
     "iopub.status.idle": "2021-09-09T14:38:36.656745Z",
     "shell.execute_reply": "2021-09-09T14:38:36.657121Z"
    },
    "papermill": {
     "duration": 0.033581,
     "end_time": "2021-09-09T14:38:36.657243",
     "exception": false,
     "start_time": "2021-09-09T14:38:36.623662",
     "status": "completed"
    },
    "tags": []
   },
   "outputs": [],
   "source": [
    "assert recount2_rpkl_cm.loc[\"CFL2\", \"SRP056840.SRR1951636\"].round(7) == -0.3412832"
   ]
  },
  {
   "cell_type": "code",
   "execution_count": 19,
   "id": "3745e06d",
   "metadata": {
    "execution": {
     "iopub.execute_input": "2021-09-09T14:38:36.716717Z",
     "iopub.status.busy": "2021-09-09T14:38:36.716245Z",
     "iopub.status.idle": "2021-09-09T14:38:36.718428Z",
     "shell.execute_reply": "2021-09-09T14:38:36.717978Z"
    },
    "papermill": {
     "duration": 0.032864,
     "end_time": "2021-09-09T14:38:36.718529",
     "exception": false,
     "start_time": "2021-09-09T14:38:36.685665",
     "status": "completed"
    },
    "tags": []
   },
   "outputs": [],
   "source": [
    "assert recount2_rpkl_cm.iloc[9, 16].round(7) == -0.4938852"
   ]
  },
  {
   "cell_type": "markdown",
   "id": "66118367",
   "metadata": {
    "papermill": {
     "duration": 0.027371,
     "end_time": "2021-09-09T14:38:36.773700",
     "exception": false,
     "start_time": "2021-09-09T14:38:36.746329",
     "status": "completed"
    },
    "tags": []
   },
   "source": [
    "## Save"
   ]
  },
  {
   "cell_type": "markdown",
   "id": "4392d44c",
   "metadata": {
    "papermill": {
     "duration": 0.027384,
     "end_time": "2021-09-09T14:38:36.828700",
     "exception": false,
     "start_time": "2021-09-09T14:38:36.801316",
     "status": "completed"
    },
    "tags": []
   },
   "source": [
    "### Pickle format (binary)"
   ]
  },
  {
   "cell_type": "code",
   "execution_count": 20,
   "id": "c8767f9d",
   "metadata": {
    "execution": {
     "iopub.execute_input": "2021-09-09T14:38:36.888250Z",
     "iopub.status.busy": "2021-09-09T14:38:36.887698Z",
     "iopub.status.idle": "2021-09-09T14:38:36.890676Z",
     "shell.execute_reply": "2021-09-09T14:38:36.890215Z"
    },
    "papermill": {
     "duration": 0.034422,
     "end_time": "2021-09-09T14:38:36.890776",
     "exception": false,
     "start_time": "2021-09-09T14:38:36.856354",
     "status": "completed"
    },
    "tags": []
   },
   "outputs": [
    {
     "data": {
      "text/plain": [
       "PosixPath('/opt/data/data/recount2/recount_data_prep_PLIER.pkl')"
      ]
     },
     "metadata": {},
     "output_type": "display_data"
    }
   ],
   "source": [
    "output_filename = conf.RECOUNT2[\"DATA_FILE\"]\n",
    "\n",
    "display(output_filename)"
   ]
  },
  {
   "cell_type": "code",
   "execution_count": 21,
   "id": "32bf407e",
   "metadata": {
    "execution": {
     "iopub.execute_input": "2021-09-09T14:38:36.960764Z",
     "iopub.status.busy": "2021-09-09T14:38:36.950469Z",
     "iopub.status.idle": "2021-09-09T14:38:37.936544Z",
     "shell.execute_reply": "2021-09-09T14:38:37.936109Z"
    },
    "papermill": {
     "duration": 1.017553,
     "end_time": "2021-09-09T14:38:37.936646",
     "exception": false,
     "start_time": "2021-09-09T14:38:36.919093",
     "status": "completed"
    },
    "tags": []
   },
   "outputs": [],
   "source": [
    "recount2_rpkl_cm.to_pickle(output_filename)"
   ]
  },
  {
   "cell_type": "code",
   "execution_count": 22,
   "id": "fa6c3035",
   "metadata": {
    "execution": {
     "iopub.execute_input": "2021-09-09T14:38:37.996194Z",
     "iopub.status.busy": "2021-09-09T14:38:37.995704Z",
     "iopub.status.idle": "2021-09-09T14:38:37.998058Z",
     "shell.execute_reply": "2021-09-09T14:38:37.997670Z"
    },
    "papermill": {
     "duration": 0.033247,
     "end_time": "2021-09-09T14:38:37.998157",
     "exception": false,
     "start_time": "2021-09-09T14:38:37.964910",
     "status": "completed"
    },
    "tags": []
   },
   "outputs": [],
   "source": [
    "# delete the object to save memory\n",
    "del recount2_rpkl_cm"
   ]
  },
  {
   "cell_type": "markdown",
   "id": "7fd6adde",
   "metadata": {
    "papermill": {
     "duration": 0.027858,
     "end_time": "2021-09-09T14:38:38.054233",
     "exception": false,
     "start_time": "2021-09-09T14:38:38.026375",
     "status": "completed"
    },
    "tags": []
   },
   "source": [
    "# recount2 pathways"
   ]
  },
  {
   "cell_type": "markdown",
   "id": "f8ce72e5",
   "metadata": {
    "papermill": {
     "duration": 0.02785,
     "end_time": "2021-09-09T14:38:38.110397",
     "exception": false,
     "start_time": "2021-09-09T14:38:38.082547",
     "status": "completed"
    },
    "tags": []
   },
   "source": [
    "## Load"
   ]
  },
  {
   "cell_type": "code",
   "execution_count": 23,
   "id": "6c581c3a",
   "metadata": {
    "execution": {
     "iopub.execute_input": "2021-09-09T14:38:38.169753Z",
     "iopub.status.busy": "2021-09-09T14:38:38.169275Z",
     "iopub.status.idle": "2021-09-09T14:38:38.171889Z",
     "shell.execute_reply": "2021-09-09T14:38:38.171501Z"
    },
    "papermill": {
     "duration": 0.033612,
     "end_time": "2021-09-09T14:38:38.171993",
     "exception": false,
     "start_time": "2021-09-09T14:38:38.138381",
     "status": "completed"
    },
    "tags": []
   },
   "outputs": [],
   "source": [
    "recount2_all_paths_cm = recount_data_prep.rx2(\"all.paths.cm\")"
   ]
  },
  {
   "cell_type": "code",
   "execution_count": 24,
   "id": "bd38881b",
   "metadata": {
    "execution": {
     "iopub.execute_input": "2021-09-09T14:38:38.232106Z",
     "iopub.status.busy": "2021-09-09T14:38:38.231621Z",
     "iopub.status.idle": "2021-09-09T14:38:38.235586Z",
     "shell.execute_reply": "2021-09-09T14:38:38.235120Z"
    },
    "papermill": {
     "duration": 0.034905,
     "end_time": "2021-09-09T14:38:38.235685",
     "exception": false,
     "start_time": "2021-09-09T14:38:38.200780",
     "status": "completed"
    },
    "tags": []
   },
   "outputs": [
    {
     "data": {
      "text/html": [
       "\n",
       "        <span>FloatMatrix with 4239000 elements.</span>\n",
       "        <table>\n",
       "        <tbody>\n",
       "          <tr>\n",
       "          \n",
       "            <td>\n",
       "            0.000000\n",
       "            </td>\n",
       "          \n",
       "            <td>\n",
       "            0.000000\n",
       "            </td>\n",
       "          \n",
       "            <td>\n",
       "            0.000000\n",
       "            </td>\n",
       "          \n",
       "            <td>\n",
       "            ...\n",
       "            </td>\n",
       "          \n",
       "            <td>\n",
       "            0.000000\n",
       "            </td>\n",
       "          \n",
       "            <td>\n",
       "            0.000000\n",
       "            </td>\n",
       "          \n",
       "            <td>\n",
       "            0.000000\n",
       "            </td>\n",
       "          \n",
       "          </tr>\n",
       "        </tbody>\n",
       "        </table>\n",
       "        "
      ],
      "text/plain": [
       "<rpy2.robjects.vectors.FloatMatrix object at 0x7f176d3f5900> [RTYPES.REALSXP]\n",
       "R classes: ('matrix', 'array')\n",
       "[0.000000, 0.000000, 0.000000, 0.000000, ..., 0.000000, 0.000000, 0.000000, 0.000000]"
      ]
     },
     "execution_count": 24,
     "metadata": {},
     "output_type": "execute_result"
    }
   ],
   "source": [
    "recount2_all_paths_cm"
   ]
  },
  {
   "cell_type": "code",
   "execution_count": 25,
   "id": "48576327",
   "metadata": {
    "execution": {
     "iopub.execute_input": "2021-09-09T14:38:38.296604Z",
     "iopub.status.busy": "2021-09-09T14:38:38.296129Z",
     "iopub.status.idle": "2021-09-09T14:38:38.300450Z",
     "shell.execute_reply": "2021-09-09T14:38:38.299998Z"
    },
    "papermill": {
     "duration": 0.036277,
     "end_time": "2021-09-09T14:38:38.300547",
     "exception": false,
     "start_time": "2021-09-09T14:38:38.264270",
     "status": "completed"
    },
    "tags": []
   },
   "outputs": [
    {
     "data": {
      "text/html": [
       "\n",
       "        <span>StrVector with 6750 elements.</span>\n",
       "        <table>\n",
       "        <tbody>\n",
       "          <tr>\n",
       "          \n",
       "            <td>\n",
       "            'GAS6'\n",
       "            </td>\n",
       "          \n",
       "            <td>\n",
       "            'MMP14'\n",
       "            </td>\n",
       "          \n",
       "            <td>\n",
       "            'DSP'\n",
       "            </td>\n",
       "          \n",
       "            <td>\n",
       "            ...\n",
       "            </td>\n",
       "          \n",
       "            <td>\n",
       "            'PLEKHG6'\n",
       "            </td>\n",
       "          \n",
       "            <td>\n",
       "            'GNGT2'\n",
       "            </td>\n",
       "          \n",
       "            <td>\n",
       "            'SERPINH1'\n",
       "            </td>\n",
       "          \n",
       "          </tr>\n",
       "        </tbody>\n",
       "        </table>\n",
       "        "
      ],
      "text/plain": [
       "<rpy2.robjects.vectors.StrVector object at 0x7f176a994a80> [RTYPES.STRSXP]\n",
       "R classes: ('character',)\n",
       "['GAS6', 'MMP14', 'DSP', 'MARCKSL1', ..., 'NFIB', 'PLEKHG6', 'GNGT2', 'SERPINH1']"
      ]
     },
     "execution_count": 25,
     "metadata": {},
     "output_type": "execute_result"
    }
   ],
   "source": [
    "recount2_all_paths_cm.rownames"
   ]
  },
  {
   "cell_type": "code",
   "execution_count": 26,
   "id": "64a900d2",
   "metadata": {
    "execution": {
     "iopub.execute_input": "2021-09-09T14:38:38.361805Z",
     "iopub.status.busy": "2021-09-09T14:38:38.361347Z",
     "iopub.status.idle": "2021-09-09T14:38:38.365710Z",
     "shell.execute_reply": "2021-09-09T14:38:38.365301Z"
    },
    "papermill": {
     "duration": 0.036549,
     "end_time": "2021-09-09T14:38:38.365811",
     "exception": false,
     "start_time": "2021-09-09T14:38:38.329262",
     "status": "completed"
    },
    "tags": []
   },
   "outputs": [
    {
     "data": {
      "text/html": [
       "\n",
       "        <span>StrVector with 628 elements.</span>\n",
       "        <table>\n",
       "        <tbody>\n",
       "          <tr>\n",
       "          \n",
       "            <td>\n",
       "            'IRIS_Bce...\n",
       "            </td>\n",
       "          \n",
       "            <td>\n",
       "            'IRIS_Bce...\n",
       "            </td>\n",
       "          \n",
       "            <td>\n",
       "            'IRIS_Bce...\n",
       "            </td>\n",
       "          \n",
       "            <td>\n",
       "            ...\n",
       "            </td>\n",
       "          \n",
       "            <td>\n",
       "            'PID_BCR_...\n",
       "            </td>\n",
       "          \n",
       "            <td>\n",
       "            'PID_TELO...\n",
       "            </td>\n",
       "          \n",
       "            <td>\n",
       "            'PID_PI3K...\n",
       "            </td>\n",
       "          \n",
       "          </tr>\n",
       "        </tbody>\n",
       "        </table>\n",
       "        "
      ],
      "text/plain": [
       "<rpy2.robjects.vectors.StrVector object at 0x7f17a2795280> [RTYPES.STRSXP]\n",
       "R classes: ('character',)\n",
       "['IRIS_Bce..., 'IRIS_Bce..., 'IRIS_Bce..., 'IRIS_CD4..., ..., 'REACTOME..., 'PID_BCR_..., 'PID_TELO..., 'PID_PI3K...]"
      ]
     },
     "execution_count": 26,
     "metadata": {},
     "output_type": "execute_result"
    }
   ],
   "source": [
    "recount2_all_paths_cm.colnames"
   ]
  },
  {
   "cell_type": "code",
   "execution_count": 27,
   "id": "ba64e214",
   "metadata": {
    "execution": {
     "iopub.execute_input": "2021-09-09T14:38:38.429417Z",
     "iopub.status.busy": "2021-09-09T14:38:38.428893Z",
     "iopub.status.idle": "2021-09-09T14:38:38.434356Z",
     "shell.execute_reply": "2021-09-09T14:38:38.433903Z"
    },
    "papermill": {
     "duration": 0.038458,
     "end_time": "2021-09-09T14:38:38.434455",
     "exception": false,
     "start_time": "2021-09-09T14:38:38.395997",
     "status": "completed"
    },
    "tags": []
   },
   "outputs": [],
   "source": [
    "with localconverter(ro.default_converter + pandas2ri.converter):\n",
    "    recount2_all_paths_cm_values = ro.conversion.rpy2py(recount2_all_paths_cm)"
   ]
  },
  {
   "cell_type": "code",
   "execution_count": 28,
   "id": "92babf35",
   "metadata": {
    "execution": {
     "iopub.execute_input": "2021-09-09T14:38:38.497243Z",
     "iopub.status.busy": "2021-09-09T14:38:38.494942Z",
     "iopub.status.idle": "2021-09-09T14:38:38.499503Z",
     "shell.execute_reply": "2021-09-09T14:38:38.499857Z"
    },
    "papermill": {
     "duration": 0.036338,
     "end_time": "2021-09-09T14:38:38.499988",
     "exception": false,
     "start_time": "2021-09-09T14:38:38.463650",
     "status": "completed"
    },
    "tags": []
   },
   "outputs": [
    {
     "data": {
      "text/plain": [
       "array([[0., 0., 0., ..., 0., 0., 0.],\n",
       "       [0., 0., 0., ..., 0., 0., 0.],\n",
       "       [0., 0., 1., ..., 0., 0., 0.],\n",
       "       ...,\n",
       "       [0., 0., 0., ..., 0., 0., 0.],\n",
       "       [0., 0., 0., ..., 0., 0., 0.],\n",
       "       [0., 0., 0., ..., 0., 0., 0.]])"
      ]
     },
     "execution_count": 28,
     "metadata": {},
     "output_type": "execute_result"
    }
   ],
   "source": [
    "recount2_all_paths_cm_values"
   ]
  },
  {
   "cell_type": "code",
   "execution_count": 29,
   "id": "5707a034",
   "metadata": {
    "execution": {
     "iopub.execute_input": "2021-09-09T14:38:38.574197Z",
     "iopub.status.busy": "2021-09-09T14:38:38.573603Z",
     "iopub.status.idle": "2021-09-09T14:38:38.609618Z",
     "shell.execute_reply": "2021-09-09T14:38:38.609234Z"
    },
    "papermill": {
     "duration": 0.079248,
     "end_time": "2021-09-09T14:38:38.609719",
     "exception": false,
     "start_time": "2021-09-09T14:38:38.530471",
     "status": "completed"
    },
    "tags": []
   },
   "outputs": [],
   "source": [
    "recount2_all_paths_cm_df = pd.DataFrame(\n",
    "    data=recount2_all_paths_cm_values,\n",
    "    index=recount2_all_paths_cm.rownames,\n",
    "    columns=recount2_all_paths_cm.colnames,\n",
    "    dtype=bool,\n",
    ")"
   ]
  },
  {
   "cell_type": "code",
   "execution_count": 30,
   "id": "2447230d",
   "metadata": {
    "execution": {
     "iopub.execute_input": "2021-09-09T14:38:38.673006Z",
     "iopub.status.busy": "2021-09-09T14:38:38.672531Z",
     "iopub.status.idle": "2021-09-09T14:38:38.674739Z",
     "shell.execute_reply": "2021-09-09T14:38:38.674310Z"
    },
    "papermill": {
     "duration": 0.035285,
     "end_time": "2021-09-09T14:38:38.674841",
     "exception": false,
     "start_time": "2021-09-09T14:38:38.639556",
     "status": "completed"
    },
    "tags": []
   },
   "outputs": [],
   "source": [
    "assert recount2_all_paths_cm_df.shape == (6750, 628)"
   ]
  },
  {
   "cell_type": "code",
   "execution_count": 31,
   "id": "713a5836",
   "metadata": {
    "execution": {
     "iopub.execute_input": "2021-09-09T14:38:38.739276Z",
     "iopub.status.busy": "2021-09-09T14:38:38.738706Z",
     "iopub.status.idle": "2021-09-09T14:38:38.741686Z",
     "shell.execute_reply": "2021-09-09T14:38:38.741218Z"
    },
    "papermill": {
     "duration": 0.036479,
     "end_time": "2021-09-09T14:38:38.741783",
     "exception": false,
     "start_time": "2021-09-09T14:38:38.705304",
     "status": "completed"
    },
    "tags": []
   },
   "outputs": [
    {
     "data": {
      "text/plain": [
       "(6750, 628)"
      ]
     },
     "execution_count": 31,
     "metadata": {},
     "output_type": "execute_result"
    }
   ],
   "source": [
    "recount2_all_paths_cm_df.shape"
   ]
  },
  {
   "cell_type": "code",
   "execution_count": 32,
   "id": "9781e2b3",
   "metadata": {
    "execution": {
     "iopub.execute_input": "2021-09-09T14:38:38.807627Z",
     "iopub.status.busy": "2021-09-09T14:38:38.807048Z",
     "iopub.status.idle": "2021-09-09T14:38:38.810189Z",
     "shell.execute_reply": "2021-09-09T14:38:38.809727Z"
    },
    "papermill": {
     "duration": 0.037772,
     "end_time": "2021-09-09T14:38:38.810287",
     "exception": false,
     "start_time": "2021-09-09T14:38:38.772515",
     "status": "completed"
    },
    "tags": []
   },
   "outputs": [
    {
     "data": {
      "text/plain": [
       "array([dtype('bool')], dtype=object)"
      ]
     },
     "metadata": {},
     "output_type": "display_data"
    }
   ],
   "source": [
    "_tmp = recount2_all_paths_cm_df.dtypes.unique()\n",
    "display(_tmp)\n",
    "assert len(_tmp) == 1"
   ]
  },
  {
   "cell_type": "code",
   "execution_count": 33,
   "id": "ebfd50ce",
   "metadata": {
    "execution": {
     "iopub.execute_input": "2021-09-09T14:38:38.887970Z",
     "iopub.status.busy": "2021-09-09T14:38:38.887423Z",
     "iopub.status.idle": "2021-09-09T14:38:38.890528Z",
     "shell.execute_reply": "2021-09-09T14:38:38.890056Z"
    },
    "papermill": {
     "duration": 0.049659,
     "end_time": "2021-09-09T14:38:38.890629",
     "exception": false,
     "start_time": "2021-09-09T14:38:38.840970",
     "status": "completed"
    },
    "tags": []
   },
   "outputs": [
    {
     "data": {
      "text/html": [
       "<div>\n",
       "<style scoped>\n",
       "    .dataframe tbody tr th:only-of-type {\n",
       "        vertical-align: middle;\n",
       "    }\n",
       "\n",
       "    .dataframe tbody tr th {\n",
       "        vertical-align: top;\n",
       "    }\n",
       "\n",
       "    .dataframe thead th {\n",
       "        text-align: right;\n",
       "    }\n",
       "</style>\n",
       "<table border=\"1\" class=\"dataframe\">\n",
       "  <thead>\n",
       "    <tr style=\"text-align: right;\">\n",
       "      <th></th>\n",
       "      <th>IRIS_Bcell-Memory_IgG_IgA</th>\n",
       "      <th>IRIS_Bcell-Memory_IgM</th>\n",
       "      <th>IRIS_Bcell-naive</th>\n",
       "      <th>IRIS_CD4Tcell-N0</th>\n",
       "      <th>IRIS_CD4Tcell-Th1-restimulated12hour</th>\n",
       "      <th>IRIS_CD4Tcell-Th1-restimulated48hour</th>\n",
       "      <th>IRIS_CD4Tcell-Th2-restimulated12hour</th>\n",
       "      <th>IRIS_CD4Tcell-Th2-restimulated48hour</th>\n",
       "      <th>IRIS_CD8Tcell-N0</th>\n",
       "      <th>IRIS_DendriticCell-Control</th>\n",
       "      <th>...</th>\n",
       "      <th>KEGG_GNRH_SIGNALING_PATHWAY</th>\n",
       "      <th>KEGG_BASAL_TRANSCRIPTION_FACTORS</th>\n",
       "      <th>REACTOME_SYNTHESIS_OF_DNA</th>\n",
       "      <th>KEGG_HEMATOPOIETIC_CELL_LINEAGE</th>\n",
       "      <th>KEGG_T_CELL_RECEPTOR_SIGNALING_PATHWAY</th>\n",
       "      <th>PID_IL4_2PATHWAY</th>\n",
       "      <th>REACTOME_SIGNALING_BY_THE_B_CELL_RECEPTOR_BCR</th>\n",
       "      <th>PID_BCR_5PATHWAY</th>\n",
       "      <th>PID_TELOMERASEPATHWAY</th>\n",
       "      <th>PID_PI3KPLCTRKPATHWAY</th>\n",
       "    </tr>\n",
       "  </thead>\n",
       "  <tbody>\n",
       "    <tr>\n",
       "      <th>GAS6</th>\n",
       "      <td>False</td>\n",
       "      <td>False</td>\n",
       "      <td>False</td>\n",
       "      <td>False</td>\n",
       "      <td>False</td>\n",
       "      <td>False</td>\n",
       "      <td>False</td>\n",
       "      <td>False</td>\n",
       "      <td>False</td>\n",
       "      <td>True</td>\n",
       "      <td>...</td>\n",
       "      <td>False</td>\n",
       "      <td>False</td>\n",
       "      <td>False</td>\n",
       "      <td>False</td>\n",
       "      <td>False</td>\n",
       "      <td>False</td>\n",
       "      <td>False</td>\n",
       "      <td>False</td>\n",
       "      <td>False</td>\n",
       "      <td>False</td>\n",
       "    </tr>\n",
       "    <tr>\n",
       "      <th>MMP14</th>\n",
       "      <td>False</td>\n",
       "      <td>False</td>\n",
       "      <td>False</td>\n",
       "      <td>False</td>\n",
       "      <td>False</td>\n",
       "      <td>False</td>\n",
       "      <td>False</td>\n",
       "      <td>False</td>\n",
       "      <td>False</td>\n",
       "      <td>False</td>\n",
       "      <td>...</td>\n",
       "      <td>True</td>\n",
       "      <td>False</td>\n",
       "      <td>False</td>\n",
       "      <td>False</td>\n",
       "      <td>False</td>\n",
       "      <td>False</td>\n",
       "      <td>False</td>\n",
       "      <td>False</td>\n",
       "      <td>False</td>\n",
       "      <td>False</td>\n",
       "    </tr>\n",
       "    <tr>\n",
       "      <th>DSP</th>\n",
       "      <td>False</td>\n",
       "      <td>False</td>\n",
       "      <td>True</td>\n",
       "      <td>False</td>\n",
       "      <td>False</td>\n",
       "      <td>False</td>\n",
       "      <td>False</td>\n",
       "      <td>False</td>\n",
       "      <td>False</td>\n",
       "      <td>False</td>\n",
       "      <td>...</td>\n",
       "      <td>False</td>\n",
       "      <td>False</td>\n",
       "      <td>False</td>\n",
       "      <td>False</td>\n",
       "      <td>False</td>\n",
       "      <td>False</td>\n",
       "      <td>False</td>\n",
       "      <td>False</td>\n",
       "      <td>False</td>\n",
       "      <td>False</td>\n",
       "    </tr>\n",
       "    <tr>\n",
       "      <th>MARCKSL1</th>\n",
       "      <td>False</td>\n",
       "      <td>False</td>\n",
       "      <td>False</td>\n",
       "      <td>False</td>\n",
       "      <td>False</td>\n",
       "      <td>False</td>\n",
       "      <td>False</td>\n",
       "      <td>False</td>\n",
       "      <td>False</td>\n",
       "      <td>False</td>\n",
       "      <td>...</td>\n",
       "      <td>False</td>\n",
       "      <td>False</td>\n",
       "      <td>False</td>\n",
       "      <td>False</td>\n",
       "      <td>False</td>\n",
       "      <td>False</td>\n",
       "      <td>False</td>\n",
       "      <td>False</td>\n",
       "      <td>False</td>\n",
       "      <td>False</td>\n",
       "    </tr>\n",
       "    <tr>\n",
       "      <th>SPARC</th>\n",
       "      <td>False</td>\n",
       "      <td>False</td>\n",
       "      <td>False</td>\n",
       "      <td>False</td>\n",
       "      <td>False</td>\n",
       "      <td>False</td>\n",
       "      <td>False</td>\n",
       "      <td>False</td>\n",
       "      <td>False</td>\n",
       "      <td>False</td>\n",
       "      <td>...</td>\n",
       "      <td>False</td>\n",
       "      <td>False</td>\n",
       "      <td>False</td>\n",
       "      <td>False</td>\n",
       "      <td>False</td>\n",
       "      <td>False</td>\n",
       "      <td>False</td>\n",
       "      <td>False</td>\n",
       "      <td>False</td>\n",
       "      <td>False</td>\n",
       "    </tr>\n",
       "  </tbody>\n",
       "</table>\n",
       "<p>5 rows × 628 columns</p>\n",
       "</div>"
      ],
      "text/plain": [
       "          IRIS_Bcell-Memory_IgG_IgA  IRIS_Bcell-Memory_IgM  IRIS_Bcell-naive  \\\n",
       "GAS6                          False                  False             False   \n",
       "MMP14                         False                  False             False   \n",
       "DSP                           False                  False              True   \n",
       "MARCKSL1                      False                  False             False   \n",
       "SPARC                         False                  False             False   \n",
       "\n",
       "          IRIS_CD4Tcell-N0  IRIS_CD4Tcell-Th1-restimulated12hour  \\\n",
       "GAS6                 False                                 False   \n",
       "MMP14                False                                 False   \n",
       "DSP                  False                                 False   \n",
       "MARCKSL1             False                                 False   \n",
       "SPARC                False                                 False   \n",
       "\n",
       "          IRIS_CD4Tcell-Th1-restimulated48hour  \\\n",
       "GAS6                                     False   \n",
       "MMP14                                    False   \n",
       "DSP                                      False   \n",
       "MARCKSL1                                 False   \n",
       "SPARC                                    False   \n",
       "\n",
       "          IRIS_CD4Tcell-Th2-restimulated12hour  \\\n",
       "GAS6                                     False   \n",
       "MMP14                                    False   \n",
       "DSP                                      False   \n",
       "MARCKSL1                                 False   \n",
       "SPARC                                    False   \n",
       "\n",
       "          IRIS_CD4Tcell-Th2-restimulated48hour  IRIS_CD8Tcell-N0  \\\n",
       "GAS6                                     False             False   \n",
       "MMP14                                    False             False   \n",
       "DSP                                      False             False   \n",
       "MARCKSL1                                 False             False   \n",
       "SPARC                                    False             False   \n",
       "\n",
       "          IRIS_DendriticCell-Control  ...  KEGG_GNRH_SIGNALING_PATHWAY  \\\n",
       "GAS6                            True  ...                        False   \n",
       "MMP14                          False  ...                         True   \n",
       "DSP                            False  ...                        False   \n",
       "MARCKSL1                       False  ...                        False   \n",
       "SPARC                          False  ...                        False   \n",
       "\n",
       "          KEGG_BASAL_TRANSCRIPTION_FACTORS  REACTOME_SYNTHESIS_OF_DNA  \\\n",
       "GAS6                                 False                      False   \n",
       "MMP14                                False                      False   \n",
       "DSP                                  False                      False   \n",
       "MARCKSL1                             False                      False   \n",
       "SPARC                                False                      False   \n",
       "\n",
       "          KEGG_HEMATOPOIETIC_CELL_LINEAGE  \\\n",
       "GAS6                                False   \n",
       "MMP14                               False   \n",
       "DSP                                 False   \n",
       "MARCKSL1                            False   \n",
       "SPARC                               False   \n",
       "\n",
       "          KEGG_T_CELL_RECEPTOR_SIGNALING_PATHWAY  PID_IL4_2PATHWAY  \\\n",
       "GAS6                                       False             False   \n",
       "MMP14                                      False             False   \n",
       "DSP                                        False             False   \n",
       "MARCKSL1                                   False             False   \n",
       "SPARC                                      False             False   \n",
       "\n",
       "          REACTOME_SIGNALING_BY_THE_B_CELL_RECEPTOR_BCR  PID_BCR_5PATHWAY  \\\n",
       "GAS6                                              False             False   \n",
       "MMP14                                             False             False   \n",
       "DSP                                               False             False   \n",
       "MARCKSL1                                          False             False   \n",
       "SPARC                                             False             False   \n",
       "\n",
       "          PID_TELOMERASEPATHWAY  PID_PI3KPLCTRKPATHWAY  \n",
       "GAS6                      False                  False  \n",
       "MMP14                     False                  False  \n",
       "DSP                       False                  False  \n",
       "MARCKSL1                  False                  False  \n",
       "SPARC                     False                  False  \n",
       "\n",
       "[5 rows x 628 columns]"
      ]
     },
     "execution_count": 33,
     "metadata": {},
     "output_type": "execute_result"
    }
   ],
   "source": [
    "recount2_all_paths_cm_df.head()"
   ]
  },
  {
   "cell_type": "markdown",
   "id": "aeb251a8",
   "metadata": {
    "papermill": {
     "duration": 0.031304,
     "end_time": "2021-09-09T14:38:38.953639",
     "exception": false,
     "start_time": "2021-09-09T14:38:38.922335",
     "status": "completed"
    },
    "tags": []
   },
   "source": [
    "## Test"
   ]
  },
  {
   "cell_type": "code",
   "execution_count": 34,
   "id": "f41ffa08",
   "metadata": {
    "execution": {
     "iopub.execute_input": "2021-09-09T14:38:39.020142Z",
     "iopub.status.busy": "2021-09-09T14:38:39.018179Z",
     "iopub.status.idle": "2021-09-09T14:38:39.022326Z",
     "shell.execute_reply": "2021-09-09T14:38:39.021858Z"
    },
    "papermill": {
     "duration": 0.037368,
     "end_time": "2021-09-09T14:38:39.022427",
     "exception": false,
     "start_time": "2021-09-09T14:38:38.985059",
     "status": "completed"
    },
    "tags": []
   },
   "outputs": [],
   "source": [
    "assert not recount2_all_paths_cm_df.loc[\n",
    "    \"CTSD\", \"REACTOME_SCFSKP2_MEDIATED_DEGRADATION_OF_P27_P21\"\n",
    "]"
   ]
  },
  {
   "cell_type": "code",
   "execution_count": 35,
   "id": "3bd4b1ed",
   "metadata": {
    "execution": {
     "iopub.execute_input": "2021-09-09T14:38:39.088517Z",
     "iopub.status.busy": "2021-09-09T14:38:39.087150Z",
     "iopub.status.idle": "2021-09-09T14:38:39.090703Z",
     "shell.execute_reply": "2021-09-09T14:38:39.090235Z"
    },
    "papermill": {
     "duration": 0.036985,
     "end_time": "2021-09-09T14:38:39.090803",
     "exception": false,
     "start_time": "2021-09-09T14:38:39.053818",
     "status": "completed"
    },
    "tags": []
   },
   "outputs": [],
   "source": [
    "assert recount2_all_paths_cm_df.loc[\"CTSD\", \"PID_P53DOWNSTREAMPATHWAY\"]"
   ]
  },
  {
   "cell_type": "code",
   "execution_count": 36,
   "id": "4e3c95d8",
   "metadata": {
    "execution": {
     "iopub.execute_input": "2021-09-09T14:38:39.156359Z",
     "iopub.status.busy": "2021-09-09T14:38:39.154328Z",
     "iopub.status.idle": "2021-09-09T14:38:39.158556Z",
     "shell.execute_reply": "2021-09-09T14:38:39.158151Z"
    },
    "papermill": {
     "duration": 0.037069,
     "end_time": "2021-09-09T14:38:39.158657",
     "exception": false,
     "start_time": "2021-09-09T14:38:39.121588",
     "status": "completed"
    },
    "tags": []
   },
   "outputs": [],
   "source": [
    "assert recount2_all_paths_cm_df.loc[\"MMP14\", \"PID_HIF2PATHWAY\"]"
   ]
  },
  {
   "cell_type": "markdown",
   "id": "609ca9e7",
   "metadata": {
    "papermill": {
     "duration": 0.031345,
     "end_time": "2021-09-09T14:38:39.221292",
     "exception": false,
     "start_time": "2021-09-09T14:38:39.189947",
     "status": "completed"
    },
    "tags": []
   },
   "source": [
    "## Save"
   ]
  },
  {
   "cell_type": "markdown",
   "id": "4dc689ae",
   "metadata": {
    "papermill": {
     "duration": 0.030983,
     "end_time": "2021-09-09T14:38:39.283186",
     "exception": false,
     "start_time": "2021-09-09T14:38:39.252203",
     "status": "completed"
    },
    "tags": []
   },
   "source": [
    "### Pickle format"
   ]
  },
  {
   "cell_type": "code",
   "execution_count": 37,
   "id": "14cddc16",
   "metadata": {
    "execution": {
     "iopub.execute_input": "2021-09-09T14:38:39.371564Z",
     "iopub.status.busy": "2021-09-09T14:38:39.371006Z",
     "iopub.status.idle": "2021-09-09T14:38:39.374088Z",
     "shell.execute_reply": "2021-09-09T14:38:39.373623Z"
    },
    "papermill": {
     "duration": 0.040392,
     "end_time": "2021-09-09T14:38:39.374188",
     "exception": false,
     "start_time": "2021-09-09T14:38:39.333796",
     "status": "completed"
    },
    "tags": []
   },
   "outputs": [
    {
     "data": {
      "text/plain": [
       "PosixPath('/opt/data/data/recount2/recount_all_paths_cm.pkl')"
      ]
     },
     "metadata": {},
     "output_type": "display_data"
    }
   ],
   "source": [
    "output_filename = conf.RECOUNT2[\"DATA_FILE\"].parent / \"recount_all_paths_cm.pkl\"\n",
    "display(output_filename)"
   ]
  },
  {
   "cell_type": "code",
   "execution_count": 38,
   "id": "787eb54e",
   "metadata": {
    "execution": {
     "iopub.execute_input": "2021-09-09T14:38:39.441361Z",
     "iopub.status.busy": "2021-09-09T14:38:39.440875Z",
     "iopub.status.idle": "2021-09-09T14:38:39.446056Z",
     "shell.execute_reply": "2021-09-09T14:38:39.446443Z"
    },
    "papermill": {
     "duration": 0.040485,
     "end_time": "2021-09-09T14:38:39.446568",
     "exception": false,
     "start_time": "2021-09-09T14:38:39.406083",
     "status": "completed"
    },
    "tags": []
   },
   "outputs": [],
   "source": [
    "recount2_all_paths_cm_df.to_pickle(output_filename)"
   ]
  },
  {
   "cell_type": "markdown",
   "id": "9e33c6f6",
   "metadata": {
    "papermill": {
     "duration": 0.031802,
     "end_time": "2021-09-09T14:38:39.510309",
     "exception": false,
     "start_time": "2021-09-09T14:38:39.478507",
     "status": "completed"
    },
    "tags": []
   },
   "source": [
    "### RDS format"
   ]
  },
  {
   "cell_type": "code",
   "execution_count": 39,
   "id": "83aac030",
   "metadata": {
    "execution": {
     "iopub.execute_input": "2021-09-09T14:38:39.579213Z",
     "iopub.status.busy": "2021-09-09T14:38:39.578695Z",
     "iopub.status.idle": "2021-09-09T14:38:39.581020Z",
     "shell.execute_reply": "2021-09-09T14:38:39.581403Z"
    },
    "papermill": {
     "duration": 0.039349,
     "end_time": "2021-09-09T14:38:39.581537",
     "exception": false,
     "start_time": "2021-09-09T14:38:39.542188",
     "status": "completed"
    },
    "tags": []
   },
   "outputs": [
    {
     "data": {
      "text/plain": [
       "PosixPath('/opt/data/data/recount2/recount_all_paths_cm.rds')"
      ]
     },
     "metadata": {},
     "output_type": "display_data"
    }
   ],
   "source": [
    "output_rds_file = output_filename.with_suffix(\".rds\")\n",
    "display(output_rds_file)"
   ]
  },
  {
   "cell_type": "code",
   "execution_count": 40,
   "id": "f509e045",
   "metadata": {
    "execution": {
     "iopub.execute_input": "2021-09-09T14:38:39.651430Z",
     "iopub.status.busy": "2021-09-09T14:38:39.650963Z",
     "iopub.status.idle": "2021-09-09T14:38:40.001562Z",
     "shell.execute_reply": "2021-09-09T14:38:40.001090Z"
    },
    "papermill": {
     "duration": 0.386225,
     "end_time": "2021-09-09T14:38:40.001662",
     "exception": false,
     "start_time": "2021-09-09T14:38:39.615437",
     "status": "completed"
    },
    "tags": []
   },
   "outputs": [
    {
     "data": {
      "text/plain": [
       "<rpy2.rinterface_lib.sexp.NULLType object at 0x7f176d3f5540> [RTYPES.NILSXP]"
      ]
     },
     "execution_count": 40,
     "metadata": {},
     "output_type": "execute_result"
    }
   ],
   "source": [
    "saveRDS(recount2_all_paths_cm, str(output_rds_file))"
   ]
  },
  {
   "cell_type": "markdown",
   "id": "50838611",
   "metadata": {
    "papermill": {
     "duration": 0.032345,
     "end_time": "2021-09-09T14:38:40.066874",
     "exception": false,
     "start_time": "2021-09-09T14:38:40.034529",
     "status": "completed"
    },
    "tags": []
   },
   "source": [
    "### Text format"
   ]
  },
  {
   "cell_type": "code",
   "execution_count": 41,
   "id": "d0529a7a",
   "metadata": {
    "execution": {
     "iopub.execute_input": "2021-09-09T14:38:40.135617Z",
     "iopub.status.busy": "2021-09-09T14:38:40.135136Z",
     "iopub.status.idle": "2021-09-09T14:38:40.137936Z",
     "shell.execute_reply": "2021-09-09T14:38:40.137552Z"
    },
    "papermill": {
     "duration": 0.039047,
     "end_time": "2021-09-09T14:38:40.138032",
     "exception": false,
     "start_time": "2021-09-09T14:38:40.098985",
     "status": "completed"
    },
    "tags": []
   },
   "outputs": [
    {
     "data": {
      "text/plain": [
       "PosixPath('/opt/data/data/recount2/recount_all_paths_cm.tsv.gz')"
      ]
     },
     "metadata": {},
     "output_type": "display_data"
    }
   ],
   "source": [
    "# tsv format\n",
    "output_text_file = output_filename.with_suffix(\".tsv.gz\")\n",
    "display(output_text_file)"
   ]
  },
  {
   "cell_type": "code",
   "execution_count": 42,
   "id": "c4b1a8dc",
   "metadata": {
    "execution": {
     "iopub.execute_input": "2021-09-09T14:38:40.207113Z",
     "iopub.status.busy": "2021-09-09T14:38:40.206557Z",
     "iopub.status.idle": "2021-09-09T14:38:40.228079Z",
     "shell.execute_reply": "2021-09-09T14:38:40.227652Z"
    },
    "papermill": {
     "duration": 0.057488,
     "end_time": "2021-09-09T14:38:40.228179",
     "exception": false,
     "start_time": "2021-09-09T14:38:40.170691",
     "status": "completed"
    },
    "tags": []
   },
   "outputs": [
    {
     "data": {
      "text/html": [
       "<div>\n",
       "<style scoped>\n",
       "    .dataframe tbody tr th:only-of-type {\n",
       "        vertical-align: middle;\n",
       "    }\n",
       "\n",
       "    .dataframe tbody tr th {\n",
       "        vertical-align: top;\n",
       "    }\n",
       "\n",
       "    .dataframe thead th {\n",
       "        text-align: right;\n",
       "    }\n",
       "</style>\n",
       "<table border=\"1\" class=\"dataframe\">\n",
       "  <thead>\n",
       "    <tr style=\"text-align: right;\">\n",
       "      <th></th>\n",
       "      <th>IRIS_Bcell-Memory_IgG_IgA</th>\n",
       "      <th>IRIS_Bcell-Memory_IgM</th>\n",
       "      <th>IRIS_Bcell-naive</th>\n",
       "      <th>IRIS_CD4Tcell-N0</th>\n",
       "      <th>IRIS_CD4Tcell-Th1-restimulated12hour</th>\n",
       "      <th>IRIS_CD4Tcell-Th1-restimulated48hour</th>\n",
       "      <th>IRIS_CD4Tcell-Th2-restimulated12hour</th>\n",
       "      <th>IRIS_CD4Tcell-Th2-restimulated48hour</th>\n",
       "      <th>IRIS_CD8Tcell-N0</th>\n",
       "      <th>IRIS_DendriticCell-Control</th>\n",
       "      <th>...</th>\n",
       "      <th>KEGG_GNRH_SIGNALING_PATHWAY</th>\n",
       "      <th>KEGG_BASAL_TRANSCRIPTION_FACTORS</th>\n",
       "      <th>REACTOME_SYNTHESIS_OF_DNA</th>\n",
       "      <th>KEGG_HEMATOPOIETIC_CELL_LINEAGE</th>\n",
       "      <th>KEGG_T_CELL_RECEPTOR_SIGNALING_PATHWAY</th>\n",
       "      <th>PID_IL4_2PATHWAY</th>\n",
       "      <th>REACTOME_SIGNALING_BY_THE_B_CELL_RECEPTOR_BCR</th>\n",
       "      <th>PID_BCR_5PATHWAY</th>\n",
       "      <th>PID_TELOMERASEPATHWAY</th>\n",
       "      <th>PID_PI3KPLCTRKPATHWAY</th>\n",
       "    </tr>\n",
       "  </thead>\n",
       "  <tbody>\n",
       "    <tr>\n",
       "      <th>GAS6</th>\n",
       "      <td>0</td>\n",
       "      <td>0</td>\n",
       "      <td>0</td>\n",
       "      <td>0</td>\n",
       "      <td>0</td>\n",
       "      <td>0</td>\n",
       "      <td>0</td>\n",
       "      <td>0</td>\n",
       "      <td>0</td>\n",
       "      <td>1</td>\n",
       "      <td>...</td>\n",
       "      <td>0</td>\n",
       "      <td>0</td>\n",
       "      <td>0</td>\n",
       "      <td>0</td>\n",
       "      <td>0</td>\n",
       "      <td>0</td>\n",
       "      <td>0</td>\n",
       "      <td>0</td>\n",
       "      <td>0</td>\n",
       "      <td>0</td>\n",
       "    </tr>\n",
       "    <tr>\n",
       "      <th>MMP14</th>\n",
       "      <td>0</td>\n",
       "      <td>0</td>\n",
       "      <td>0</td>\n",
       "      <td>0</td>\n",
       "      <td>0</td>\n",
       "      <td>0</td>\n",
       "      <td>0</td>\n",
       "      <td>0</td>\n",
       "      <td>0</td>\n",
       "      <td>0</td>\n",
       "      <td>...</td>\n",
       "      <td>1</td>\n",
       "      <td>0</td>\n",
       "      <td>0</td>\n",
       "      <td>0</td>\n",
       "      <td>0</td>\n",
       "      <td>0</td>\n",
       "      <td>0</td>\n",
       "      <td>0</td>\n",
       "      <td>0</td>\n",
       "      <td>0</td>\n",
       "    </tr>\n",
       "    <tr>\n",
       "      <th>DSP</th>\n",
       "      <td>0</td>\n",
       "      <td>0</td>\n",
       "      <td>1</td>\n",
       "      <td>0</td>\n",
       "      <td>0</td>\n",
       "      <td>0</td>\n",
       "      <td>0</td>\n",
       "      <td>0</td>\n",
       "      <td>0</td>\n",
       "      <td>0</td>\n",
       "      <td>...</td>\n",
       "      <td>0</td>\n",
       "      <td>0</td>\n",
       "      <td>0</td>\n",
       "      <td>0</td>\n",
       "      <td>0</td>\n",
       "      <td>0</td>\n",
       "      <td>0</td>\n",
       "      <td>0</td>\n",
       "      <td>0</td>\n",
       "      <td>0</td>\n",
       "    </tr>\n",
       "    <tr>\n",
       "      <th>MARCKSL1</th>\n",
       "      <td>0</td>\n",
       "      <td>0</td>\n",
       "      <td>0</td>\n",
       "      <td>0</td>\n",
       "      <td>0</td>\n",
       "      <td>0</td>\n",
       "      <td>0</td>\n",
       "      <td>0</td>\n",
       "      <td>0</td>\n",
       "      <td>0</td>\n",
       "      <td>...</td>\n",
       "      <td>0</td>\n",
       "      <td>0</td>\n",
       "      <td>0</td>\n",
       "      <td>0</td>\n",
       "      <td>0</td>\n",
       "      <td>0</td>\n",
       "      <td>0</td>\n",
       "      <td>0</td>\n",
       "      <td>0</td>\n",
       "      <td>0</td>\n",
       "    </tr>\n",
       "    <tr>\n",
       "      <th>SPARC</th>\n",
       "      <td>0</td>\n",
       "      <td>0</td>\n",
       "      <td>0</td>\n",
       "      <td>0</td>\n",
       "      <td>0</td>\n",
       "      <td>0</td>\n",
       "      <td>0</td>\n",
       "      <td>0</td>\n",
       "      <td>0</td>\n",
       "      <td>0</td>\n",
       "      <td>...</td>\n",
       "      <td>0</td>\n",
       "      <td>0</td>\n",
       "      <td>0</td>\n",
       "      <td>0</td>\n",
       "      <td>0</td>\n",
       "      <td>0</td>\n",
       "      <td>0</td>\n",
       "      <td>0</td>\n",
       "      <td>0</td>\n",
       "      <td>0</td>\n",
       "    </tr>\n",
       "  </tbody>\n",
       "</table>\n",
       "<p>5 rows × 628 columns</p>\n",
       "</div>"
      ],
      "text/plain": [
       "          IRIS_Bcell-Memory_IgG_IgA  IRIS_Bcell-Memory_IgM  IRIS_Bcell-naive  \\\n",
       "GAS6                              0                      0                 0   \n",
       "MMP14                             0                      0                 0   \n",
       "DSP                               0                      0                 1   \n",
       "MARCKSL1                          0                      0                 0   \n",
       "SPARC                             0                      0                 0   \n",
       "\n",
       "          IRIS_CD4Tcell-N0  IRIS_CD4Tcell-Th1-restimulated12hour  \\\n",
       "GAS6                     0                                     0   \n",
       "MMP14                    0                                     0   \n",
       "DSP                      0                                     0   \n",
       "MARCKSL1                 0                                     0   \n",
       "SPARC                    0                                     0   \n",
       "\n",
       "          IRIS_CD4Tcell-Th1-restimulated48hour  \\\n",
       "GAS6                                         0   \n",
       "MMP14                                        0   \n",
       "DSP                                          0   \n",
       "MARCKSL1                                     0   \n",
       "SPARC                                        0   \n",
       "\n",
       "          IRIS_CD4Tcell-Th2-restimulated12hour  \\\n",
       "GAS6                                         0   \n",
       "MMP14                                        0   \n",
       "DSP                                          0   \n",
       "MARCKSL1                                     0   \n",
       "SPARC                                        0   \n",
       "\n",
       "          IRIS_CD4Tcell-Th2-restimulated48hour  IRIS_CD8Tcell-N0  \\\n",
       "GAS6                                         0                 0   \n",
       "MMP14                                        0                 0   \n",
       "DSP                                          0                 0   \n",
       "MARCKSL1                                     0                 0   \n",
       "SPARC                                        0                 0   \n",
       "\n",
       "          IRIS_DendriticCell-Control  ...  KEGG_GNRH_SIGNALING_PATHWAY  \\\n",
       "GAS6                               1  ...                            0   \n",
       "MMP14                              0  ...                            1   \n",
       "DSP                                0  ...                            0   \n",
       "MARCKSL1                           0  ...                            0   \n",
       "SPARC                              0  ...                            0   \n",
       "\n",
       "          KEGG_BASAL_TRANSCRIPTION_FACTORS  REACTOME_SYNTHESIS_OF_DNA  \\\n",
       "GAS6                                     0                          0   \n",
       "MMP14                                    0                          0   \n",
       "DSP                                      0                          0   \n",
       "MARCKSL1                                 0                          0   \n",
       "SPARC                                    0                          0   \n",
       "\n",
       "          KEGG_HEMATOPOIETIC_CELL_LINEAGE  \\\n",
       "GAS6                                    0   \n",
       "MMP14                                   0   \n",
       "DSP                                     0   \n",
       "MARCKSL1                                0   \n",
       "SPARC                                   0   \n",
       "\n",
       "          KEGG_T_CELL_RECEPTOR_SIGNALING_PATHWAY  PID_IL4_2PATHWAY  \\\n",
       "GAS6                                           0                 0   \n",
       "MMP14                                          0                 0   \n",
       "DSP                                            0                 0   \n",
       "MARCKSL1                                       0                 0   \n",
       "SPARC                                          0                 0   \n",
       "\n",
       "          REACTOME_SIGNALING_BY_THE_B_CELL_RECEPTOR_BCR  PID_BCR_5PATHWAY  \\\n",
       "GAS6                                                  0                 0   \n",
       "MMP14                                                 0                 0   \n",
       "DSP                                                   0                 0   \n",
       "MARCKSL1                                              0                 0   \n",
       "SPARC                                                 0                 0   \n",
       "\n",
       "          PID_TELOMERASEPATHWAY  PID_PI3KPLCTRKPATHWAY  \n",
       "GAS6                          0                      0  \n",
       "MMP14                         0                      0  \n",
       "DSP                           0                      0  \n",
       "MARCKSL1                      0                      0  \n",
       "SPARC                         0                      0  \n",
       "\n",
       "[5 rows x 628 columns]"
      ]
     },
     "execution_count": 42,
     "metadata": {},
     "output_type": "execute_result"
    }
   ],
   "source": [
    "recount2_all_paths_cm_df.astype(\"int\").head()"
   ]
  },
  {
   "cell_type": "code",
   "execution_count": 43,
   "id": "8c1cb280",
   "metadata": {
    "execution": {
     "iopub.execute_input": "2021-09-09T14:38:40.298742Z",
     "iopub.status.busy": "2021-09-09T14:38:40.298187Z",
     "iopub.status.idle": "2021-09-09T14:38:41.155679Z",
     "shell.execute_reply": "2021-09-09T14:38:41.155038Z"
    },
    "papermill": {
     "duration": 0.8941,
     "end_time": "2021-09-09T14:38:41.155783",
     "exception": false,
     "start_time": "2021-09-09T14:38:40.261683",
     "status": "completed"
    },
    "tags": []
   },
   "outputs": [],
   "source": [
    "recount2_all_paths_cm_df.astype(\"int\").to_csv(output_text_file, sep=\"\\t\", index=True)"
   ]
  },
  {
   "cell_type": "code",
   "execution_count": null,
   "id": "7ad66964-10f5-47f3-9bf7-f70899bd9483",
   "metadata": {
    "papermill": {
     "duration": 0.03321,
     "end_time": "2021-09-09T14:38:41.222359",
     "exception": false,
     "start_time": "2021-09-09T14:38:41.189149",
     "status": "completed"
    },
    "tags": []
   },
   "outputs": [],
   "source": []
  }
 ],
 "metadata": {
  "jupytext": {
   "cell_metadata_filter": "all,-execution,-papermill,-trusted",
   "formats": "ipynb,py//py:percent"
  },
  "kernelspec": {
   "display_name": "Python 3 (ipykernel)",
   "language": "python",
   "name": "python3"
  },
  "language_info": {
   "codemirror_mode": {
    "name": "ipython",
    "version": 3
   },
   "file_extension": ".py",
   "mimetype": "text/x-python",
   "name": "python",
   "nbconvert_exporter": "python",
   "pygments_lexer": "ipython3",
   "version": "3.9.7"
  },
  "papermill": {
   "default_parameters": {},
   "duration": 25.979398,
   "end_time": "2021-09-09T14:38:42.063294",
   "environment_variables": {},
   "exception": null,
   "input_path": "nbs/05_preprocessing/10-recount2_multiplier-format.ipynb",
   "output_path": "nbs/05_preprocessing/10-recount2_multiplier-format.run.ipynb",
   "parameters": {},
   "start_time": "2021-09-09T14:38:16.083896",
   "version": "2.2.2"
  }
 },
 "nbformat": 4,
 "nbformat_minor": 5
}
