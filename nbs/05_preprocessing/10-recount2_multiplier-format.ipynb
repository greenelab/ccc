{
 "cells": [
  {
   "cell_type": "markdown",
   "metadata": {
    "papermill": {
     "duration": 0.028312,
     "end_time": "2021-07-31T02:44:43.844573",
     "exception": false,
     "start_time": "2021-07-31T02:44:43.816261",
     "status": "completed"
    },
    "tags": []
   },
   "source": [
    "# Description"
   ]
  },
  {
   "cell_type": "markdown",
   "metadata": {
    "papermill": {
     "duration": 0.021036,
     "end_time": "2021-07-31T02:44:43.888392",
     "exception": false,
     "start_time": "2021-07-31T02:44:43.867356",
     "status": "completed"
    },
    "tags": []
   },
   "source": [
    "This notebook reads 1) the normalized gene expression and 2) pathways from the data processed by\n",
    "MultiPLIER scripts (https://github.com/greenelab/multi-plier) and saves it into a more friendly Python\n",
    "format (Pandas DataFrames as pickle files)."
   ]
  },
  {
   "cell_type": "markdown",
   "metadata": {
    "papermill": {
     "duration": 0.021103,
     "end_time": "2021-07-31T02:44:43.930581",
     "exception": false,
     "start_time": "2021-07-31T02:44:43.909478",
     "status": "completed"
    },
    "tags": []
   },
   "source": [
    "# Modules"
   ]
  },
  {
   "cell_type": "code",
   "execution_count": 2,
   "metadata": {
    "papermill": {
     "duration": 0.437138,
     "end_time": "2021-07-31T02:44:44.444679",
     "exception": false,
     "start_time": "2021-07-31T02:44:44.007541",
     "status": "completed"
    },
    "tags": []
   },
   "outputs": [],
   "source": [
    "import sys\n",
    "from pathlib import Path\n",
    "from shutil import copyfile\n",
    "\n",
    "import pandas as pd\n",
    "import rpy2.robjects as ro\n",
    "from rpy2.robjects import pandas2ri\n",
    "from rpy2.robjects.conversion import localconverter\n",
    "\n",
    "from clustermatch import conf"
   ]
  },
  {
   "cell_type": "code",
   "execution_count": 3,
   "metadata": {
    "papermill": {
     "duration": 0.032406,
     "end_time": "2021-07-31T02:44:44.498981",
     "exception": false,
     "start_time": "2021-07-31T02:44:44.466575",
     "status": "completed"
    },
    "tags": []
   },
   "outputs": [],
   "source": [
    "readRDS = ro.r[\"readRDS\"]"
   ]
  },
  {
   "cell_type": "code",
   "execution_count": 4,
   "metadata": {
    "papermill": {
     "duration": 0.031723,
     "end_time": "2021-07-31T02:44:44.553118",
     "exception": false,
     "start_time": "2021-07-31T02:44:44.521395",
     "status": "completed"
    },
    "tags": []
   },
   "outputs": [],
   "source": [
    "saveRDS = ro.r[\"saveRDS\"]"
   ]
  },
  {
   "cell_type": "markdown",
   "metadata": {
    "papermill": {
     "duration": 0.021057,
     "end_time": "2021-07-31T02:44:44.595949",
     "exception": false,
     "start_time": "2021-07-31T02:44:44.574892",
     "status": "completed"
    },
    "tags": []
   },
   "source": [
    "# Settings"
   ]
  },
  {
   "cell_type": "code",
   "execution_count": 6,
   "metadata": {
    "papermill": {
     "duration": 0.033301,
     "end_time": "2021-07-31T02:44:44.717183",
     "exception": false,
     "start_time": "2021-07-31T02:44:44.683882",
     "status": "completed"
    },
    "tags": []
   },
   "outputs": [
    {
     "data": {
      "text/plain": [
       "PosixPath('/home/miltondp/projects/labs/greenelab/clustermatch_repos/clustermatch-gene-expr/base/data/recount2')"
      ]
     },
     "metadata": {},
     "output_type": "display_data"
    }
   ],
   "source": [
    "OUTPUT_DIR = conf.RECOUNT2[\"DATA_RDS_FILE\"].parent\n",
    "OUTPUT_DIR.mkdir(parents=True, exist_ok=True)\n",
    "display(OUTPUT_DIR)"
   ]
  },
  {
   "cell_type": "markdown",
   "metadata": {
    "papermill": {
     "duration": 0.021698,
     "end_time": "2021-07-31T02:44:44.761260",
     "exception": false,
     "start_time": "2021-07-31T02:44:44.739562",
     "status": "completed"
    },
    "tags": []
   },
   "source": [
    "# Read entire recount data prep file with R"
   ]
  },
  {
   "cell_type": "code",
   "execution_count": 7,
   "metadata": {
    "papermill": {
     "duration": 0.034664,
     "end_time": "2021-07-31T02:44:44.817090",
     "exception": false,
     "start_time": "2021-07-31T02:44:44.782426",
     "status": "completed"
    },
    "tags": []
   },
   "outputs": [
    {
     "data": {
      "text/plain": [
       "PosixPath('/home/miltondp/projects/labs/greenelab/clustermatch_repos/clustermatch-gene-expr/base/data/recount2/recount_data_prep_PLIER.RDS')"
      ]
     },
     "metadata": {},
     "output_type": "display_data"
    }
   ],
   "source": [
    "display(conf.RECOUNT2[\"DATA_RDS_FILE\"])\n",
    "\n",
    "if not conf.RECOUNT2[\"DATA_RDS_FILE\"].exists():\n",
    "    print(\"Input file does not exist\")\n",
    "    sys.exit(0)"
   ]
  },
  {
   "cell_type": "code",
   "execution_count": 8,
   "metadata": {
    "papermill": {
     "duration": 12.550085,
     "end_time": "2021-07-31T02:44:57.393996",
     "exception": false,
     "start_time": "2021-07-31T02:44:44.843911",
     "status": "completed"
    },
    "tags": []
   },
   "outputs": [],
   "source": [
    "recount_data_prep = readRDS(str(conf.RECOUNT2[\"DATA_RDS_FILE\"]))"
   ]
  },
  {
   "cell_type": "markdown",
   "metadata": {
    "papermill": {
     "duration": 0.021193,
     "end_time": "2021-07-31T02:44:57.438041",
     "exception": false,
     "start_time": "2021-07-31T02:44:57.416848",
     "status": "completed"
    },
    "tags": []
   },
   "source": [
    "# recount2 gene expression data"
   ]
  },
  {
   "cell_type": "markdown",
   "metadata": {
    "papermill": {
     "duration": 0.021193,
     "end_time": "2021-07-31T02:44:57.438041",
     "exception": false,
     "start_time": "2021-07-31T02:44:57.416848",
     "status": "completed"
    },
    "tags": []
   },
   "source": [
    "## Load"
   ]
  },
  {
   "cell_type": "code",
   "execution_count": 9,
   "metadata": {
    "papermill": {
     "duration": 0.031948,
     "end_time": "2021-07-31T02:44:57.491486",
     "exception": false,
     "start_time": "2021-07-31T02:44:57.459538",
     "status": "completed"
    },
    "tags": []
   },
   "outputs": [],
   "source": [
    "recount2_rpkl_cm = recount_data_prep.rx2(\"rpkm.cm\")"
   ]
  },
  {
   "cell_type": "code",
   "execution_count": 10,
   "metadata": {
    "papermill": {
     "duration": 0.036813,
     "end_time": "2021-07-31T02:44:57.550537",
     "exception": false,
     "start_time": "2021-07-31T02:44:57.513724",
     "status": "completed"
    },
    "tags": []
   },
   "outputs": [
    {
     "data": {
      "text/html": [
       "\n",
       "        <span>R/rpy2 DataFrame (6750 x 37032)</span>\n",
       "        <table>\n",
       "          <thead>\n",
       "            <tr>\n",
       "              \n",
       "              <th>SRP000599.SRR013549</th>\n",
       "              \n",
       "              <th>SRP000599.SRR013550</th>\n",
       "              \n",
       "              <th>SRP000599.SRR013551</th>\n",
       "              \n",
       "              <th>...</th>\n",
       "              \n",
       "              <th>SRP035599.SRR1139382</th>\n",
       "              \n",
       "              <th>SRP035599.SRR1139356</th>\n",
       "              \n",
       "              <th>SRP035599.SRR1139370</th>\n",
       "              \n",
       "            </tr>\n",
       "          </thead>\n",
       "          <tbody>\n",
       "          \n",
       "          <tr>\n",
       "            \n",
       "            <td>\n",
       "              -0.312500\n",
       "            </td>\n",
       "            \n",
       "            <td>\n",
       "              -0.312931\n",
       "            </td>\n",
       "            \n",
       "            <td>\n",
       "              -0.312931\n",
       "            </td>\n",
       "            \n",
       "            <td>\n",
       "              ...\n",
       "            </td>\n",
       "            \n",
       "            <td>\n",
       "              -0.300220\n",
       "            </td>\n",
       "            \n",
       "            <td>\n",
       "              -0.297667\n",
       "            </td>\n",
       "            \n",
       "            <td>\n",
       "              -0.310151\n",
       "            </td>\n",
       "            \n",
       "          </tr>\n",
       "          \n",
       "          <tr>\n",
       "            \n",
       "            <td>\n",
       "              -0.328279\n",
       "            </td>\n",
       "            \n",
       "            <td>\n",
       "              -0.328279\n",
       "            </td>\n",
       "            \n",
       "            <td>\n",
       "              -0.328279\n",
       "            </td>\n",
       "            \n",
       "            <td>\n",
       "              \n",
       "            </td>\n",
       "            \n",
       "            <td>\n",
       "              -0.326339\n",
       "            </td>\n",
       "            \n",
       "            <td>\n",
       "              -0.322127\n",
       "            </td>\n",
       "            \n",
       "            <td>\n",
       "              -0.327438\n",
       "            </td>\n",
       "            \n",
       "          </tr>\n",
       "          \n",
       "          <tr>\n",
       "            \n",
       "            <td>\n",
       "              -0.286319\n",
       "            </td>\n",
       "            \n",
       "            <td>\n",
       "              -0.286859\n",
       "            </td>\n",
       "            \n",
       "            <td>\n",
       "              -0.286859\n",
       "            </td>\n",
       "            \n",
       "            <td>\n",
       "              \n",
       "            </td>\n",
       "            \n",
       "            <td>\n",
       "              -0.286671\n",
       "            </td>\n",
       "            \n",
       "            <td>\n",
       "              -0.286859\n",
       "            </td>\n",
       "            \n",
       "            <td>\n",
       "              -0.286740\n",
       "            </td>\n",
       "            \n",
       "          </tr>\n",
       "          \n",
       "          <tr>\n",
       "            \n",
       "            <td>\n",
       "              -0.536646\n",
       "            </td>\n",
       "            \n",
       "            <td>\n",
       "              -0.536646\n",
       "            </td>\n",
       "            \n",
       "            <td>\n",
       "              -0.536646\n",
       "            </td>\n",
       "            \n",
       "            <td>\n",
       "              \n",
       "            </td>\n",
       "            \n",
       "            <td>\n",
       "              2.458255\n",
       "            </td>\n",
       "            \n",
       "            <td>\n",
       "              2.919662\n",
       "            </td>\n",
       "            \n",
       "            <td>\n",
       "              1.410846\n",
       "            </td>\n",
       "            \n",
       "          </tr>\n",
       "          \n",
       "          <tr>\n",
       "            \n",
       "            <td>\n",
       "              ...\n",
       "            </td>\n",
       "            \n",
       "            <td>\n",
       "              ...\n",
       "            </td>\n",
       "            \n",
       "            <td>\n",
       "              ...\n",
       "            </td>\n",
       "            \n",
       "            <td>\n",
       "              \n",
       "            </td>\n",
       "            \n",
       "            <td>\n",
       "              ...\n",
       "            </td>\n",
       "            \n",
       "            <td>\n",
       "              ...\n",
       "            </td>\n",
       "            \n",
       "            <td>\n",
       "              ...\n",
       "            </td>\n",
       "            \n",
       "          </tr>\n",
       "          \n",
       "          <tr>\n",
       "            \n",
       "            <td>\n",
       "              -0.142179\n",
       "            </td>\n",
       "            \n",
       "            <td>\n",
       "              -0.142384\n",
       "            </td>\n",
       "            \n",
       "            <td>\n",
       "              -0.140314\n",
       "            </td>\n",
       "            \n",
       "            <td>\n",
       "              \n",
       "            </td>\n",
       "            \n",
       "            <td>\n",
       "              -0.139339\n",
       "            </td>\n",
       "            \n",
       "            <td>\n",
       "              -0.142384\n",
       "            </td>\n",
       "            \n",
       "            <td>\n",
       "              -0.142232\n",
       "            </td>\n",
       "            \n",
       "          </tr>\n",
       "          \n",
       "          <tr>\n",
       "            \n",
       "            <td>\n",
       "              -0.349886\n",
       "            </td>\n",
       "            \n",
       "            <td>\n",
       "              -0.349886\n",
       "            </td>\n",
       "            \n",
       "            <td>\n",
       "              -0.349886\n",
       "            </td>\n",
       "            \n",
       "            <td>\n",
       "              \n",
       "            </td>\n",
       "            \n",
       "            <td>\n",
       "              -0.264224\n",
       "            </td>\n",
       "            \n",
       "            <td>\n",
       "              0.020815\n",
       "            </td>\n",
       "            \n",
       "            <td>\n",
       "              -0.324208\n",
       "            </td>\n",
       "            \n",
       "          </tr>\n",
       "          \n",
       "          <tr>\n",
       "            \n",
       "            <td>\n",
       "              -0.085582\n",
       "            </td>\n",
       "            \n",
       "            <td>\n",
       "              -0.085582\n",
       "            </td>\n",
       "            \n",
       "            <td>\n",
       "              -0.085582\n",
       "            </td>\n",
       "            \n",
       "            <td>\n",
       "              \n",
       "            </td>\n",
       "            \n",
       "            <td>\n",
       "              0.603333\n",
       "            </td>\n",
       "            \n",
       "            <td>\n",
       "              0.915213\n",
       "            </td>\n",
       "            \n",
       "            <td>\n",
       "              1.788489\n",
       "            </td>\n",
       "            \n",
       "          </tr>\n",
       "          \n",
       "          <tr>\n",
       "            \n",
       "            <td>\n",
       "              -0.567112\n",
       "            </td>\n",
       "            \n",
       "            <td>\n",
       "              -0.569146\n",
       "            </td>\n",
       "            \n",
       "            <td>\n",
       "              -0.569146\n",
       "            </td>\n",
       "            \n",
       "            <td>\n",
       "              \n",
       "            </td>\n",
       "            \n",
       "            <td>\n",
       "              -0.455832\n",
       "            </td>\n",
       "            \n",
       "            <td>\n",
       "              -0.378093\n",
       "            </td>\n",
       "            \n",
       "            <td>\n",
       "              -0.491513\n",
       "            </td>\n",
       "            \n",
       "          </tr>\n",
       "          \n",
       "          </tbody>\n",
       "        </table>\n",
       "    "
      ],
      "text/plain": [
       "<rpy2.robjects.vectors.DataFrame object at 0x7f1a94576540> [RTYPES.VECSXP]\n",
       "R classes: ('data.frame',)\n",
       "[FloatSexp..., FloatSexp..., FloatSexp..., FloatSexp..., ..., FloatSexp..., FloatSexp..., FloatSexp..., FloatSexp...]\n",
       "  SRP000599.SRR013549: <class 'rpy2.robjects.vectors.FloatVector'>\n",
       "  <rpy2.robjects.vectors.FloatVector object at 0x7f1a7d615140> [RTYPES.REALSXP]\n",
       "R classes: ('numeric',)\n",
       "[-0.312500, -0.328279, -0.286319, -0.536646, ..., -0.142179, -0.349886, -0.085582, -0.567112]\n",
       "  SRP000599.SRR013550: <class 'rpy2.robjects.vectors.FloatVector'>\n",
       "  <rpy2.robjects.vectors.FloatVector object at 0x7f1a7d660040> [RTYPES.REALSXP]\n",
       "R classes: ('numeric',)\n",
       "[-0.312931, -0.328279, -0.286859, -0.536646, ..., -0.142384, -0.349886, -0.085582, -0.569146]\n",
       "  SRP000599.SRR013551: <class 'rpy2.robjects.vectors.FloatVector'>\n",
       "  <rpy2.robjects.vectors.FloatVector object at 0x7f1a7d61b2c0> [RTYPES.REALSXP]\n",
       "R classes: ('numeric',)\n",
       "[-0.312931, -0.328279, -0.286859, -0.536646, ..., -0.140314, -0.349886, -0.085582, -0.569146]\n",
       "  SRP000599.SRR013552: <class 'rpy2.robjects.vectors.FloatVector'>\n",
       "  <rpy2.robjects.vectors.FloatVector object at 0x7f1a7d61b280> [RTYPES.REALSXP]\n",
       "R classes: ('numeric',)\n",
       "[-0.312931, -0.328279, -0.286859, -0.536646, ..., -0.142384, -0.349886, -0.085582, -0.569146]\n",
       "...\n",
       "  SRP000599.SRR013554: <class 'rpy2.robjects.vectors.FloatVector'>\n",
       "  <rpy2.robjects.vectors.FloatVector object at 0x7f1a7d61b880> [RTYPES.REALSXP]\n",
       "R classes: ('numeric',)\n",
       "[-0.309599, -0.326375, -0.286859, 1.507099, ..., -0.142304, -0.149655, 1.280258, -0.340927]\n",
       "  SRP000599.SRR013555: <class 'rpy2.robjects.vectors.FloatVector'>\n",
       "  <rpy2.robjects.vectors.FloatVector object at 0x7f1a7d61b740> [RTYPES.REALSXP]\n",
       "R classes: ('numeric',)\n",
       "[-0.300220, -0.326339, -0.286671, 2.458255, ..., -0.139339, -0.264224, 0.603333, -0.455832]\n",
       "  SRP000599.SRR013556: <class 'rpy2.robjects.vectors.FloatVector'>\n",
       "  <rpy2.robjects.vectors.FloatVector object at 0x7f1a7d61bc00> [RTYPES.REALSXP]\n",
       "R classes: ('numeric',)\n",
       "[-0.297667, -0.322127, -0.286859, 2.919662, ..., -0.142384, 0.020815, 0.915213, -0.378093]\n",
       "  SRP000599.SRR013557: <class 'rpy2.robjects.vectors.FloatVector'>\n",
       "  <rpy2.robjects.vectors.FloatVector object at 0x7f1a7d61bf80> [RTYPES.REALSXP]\n",
       "R classes: ('numeric',)\n",
       "[-0.310151, -0.327438, -0.286740, 1.410846, ..., -0.142232, -0.324208, 1.788489, -0.491513]"
      ]
     },
     "execution_count": 10,
     "metadata": {},
     "output_type": "execute_result"
    }
   ],
   "source": [
    "recount2_rpkl_cm"
   ]
  },
  {
   "cell_type": "code",
   "execution_count": 11,
   "metadata": {
    "papermill": {
     "duration": 0.03298,
     "end_time": "2021-07-31T02:44:57.605989",
     "exception": false,
     "start_time": "2021-07-31T02:44:57.573009",
     "status": "completed"
    },
    "tags": []
   },
   "outputs": [
    {
     "data": {
      "text/html": [
       "\n",
       "        <span>StrVector with 6750 elements.</span>\n",
       "        <table>\n",
       "        <tbody>\n",
       "          <tr>\n",
       "          \n",
       "            <td>\n",
       "            'GAS6'\n",
       "            </td>\n",
       "          \n",
       "            <td>\n",
       "            'MMP14'\n",
       "            </td>\n",
       "          \n",
       "            <td>\n",
       "            'DSP'\n",
       "            </td>\n",
       "          \n",
       "            <td>\n",
       "            ...\n",
       "            </td>\n",
       "          \n",
       "            <td>\n",
       "            'PLEKHG6'\n",
       "            </td>\n",
       "          \n",
       "            <td>\n",
       "            'GNGT2'\n",
       "            </td>\n",
       "          \n",
       "            <td>\n",
       "            'SERPINH1'\n",
       "            </td>\n",
       "          \n",
       "          </tr>\n",
       "        </tbody>\n",
       "        </table>\n",
       "        "
      ],
      "text/plain": [
       "<rpy2.robjects.vectors.StrVector object at 0x7f1a7d67ac80> [RTYPES.STRSXP]\n",
       "R classes: ('character',)\n",
       "['GAS6', 'MMP14', 'DSP', 'MARCKSL1', ..., 'NFIB', 'PLEKHG6', 'GNGT2', 'SERPINH1']"
      ]
     },
     "execution_count": 11,
     "metadata": {},
     "output_type": "execute_result"
    }
   ],
   "source": [
    "recount2_rpkl_cm.rownames"
   ]
  },
  {
   "cell_type": "code",
   "execution_count": 12,
   "metadata": {
    "papermill": {
     "duration": 0.033832,
     "end_time": "2021-07-31T02:44:57.663082",
     "exception": false,
     "start_time": "2021-07-31T02:44:57.629250",
     "status": "completed"
    },
    "tags": []
   },
   "outputs": [
    {
     "data": {
      "text/html": [
       "\n",
       "        <span>StrVector with 37032 elements.</span>\n",
       "        <table>\n",
       "        <tbody>\n",
       "          <tr>\n",
       "          \n",
       "            <td>\n",
       "            'SRP00059...\n",
       "            </td>\n",
       "          \n",
       "            <td>\n",
       "            'SRP00059...\n",
       "            </td>\n",
       "          \n",
       "            <td>\n",
       "            'SRP00059...\n",
       "            </td>\n",
       "          \n",
       "            <td>\n",
       "            ...\n",
       "            </td>\n",
       "          \n",
       "            <td>\n",
       "            'SRP03559...\n",
       "            </td>\n",
       "          \n",
       "            <td>\n",
       "            'SRP03559...\n",
       "            </td>\n",
       "          \n",
       "            <td>\n",
       "            'SRP03559...\n",
       "            </td>\n",
       "          \n",
       "          </tr>\n",
       "        </tbody>\n",
       "        </table>\n",
       "        "
      ],
      "text/plain": [
       "<rpy2.robjects.vectors.StrVector object at 0x7f1a94576300> [RTYPES.STRSXP]\n",
       "R classes: ('character',)\n",
       "['SRP00059..., 'SRP00059..., 'SRP00059..., 'SRP00059..., ..., 'SRP03559..., 'SRP03559..., 'SRP03559..., 'SRP03559...]"
      ]
     },
     "execution_count": 12,
     "metadata": {},
     "output_type": "execute_result"
    }
   ],
   "source": [
    "recount2_rpkl_cm.colnames"
   ]
  },
  {
   "cell_type": "code",
   "execution_count": 13,
   "metadata": {
    "papermill": {
     "duration": 4.160097,
     "end_time": "2021-07-31T02:45:01.846455",
     "exception": false,
     "start_time": "2021-07-31T02:44:57.686358",
     "status": "completed"
    },
    "tags": []
   },
   "outputs": [],
   "source": [
    "with localconverter(ro.default_converter + pandas2ri.converter):\n",
    "    recount2_rpkl_cm = ro.conversion.rpy2py(recount2_rpkl_cm)"
   ]
  },
  {
   "cell_type": "code",
   "execution_count": 14,
   "metadata": {
    "papermill": {
     "duration": 0.037696,
     "end_time": "2021-07-31T02:45:01.908603",
     "exception": false,
     "start_time": "2021-07-31T02:45:01.870907",
     "status": "completed"
    },
    "tags": []
   },
   "outputs": [],
   "source": [
    "assert recount2_rpkl_cm.shape == (6750, 37032)"
   ]
  },
  {
   "cell_type": "code",
   "execution_count": 15,
   "metadata": {
    "papermill": {
     "duration": 0.033921,
     "end_time": "2021-07-31T02:45:01.968398",
     "exception": false,
     "start_time": "2021-07-31T02:45:01.934477",
     "status": "completed"
    },
    "tags": []
   },
   "outputs": [
    {
     "data": {
      "text/plain": [
       "(6750, 37032)"
      ]
     },
     "execution_count": 15,
     "metadata": {},
     "output_type": "execute_result"
    }
   ],
   "source": [
    "recount2_rpkl_cm.shape"
   ]
  },
  {
   "cell_type": "code",
   "execution_count": 16,
   "metadata": {
    "papermill": {
     "duration": 0.04848,
     "end_time": "2021-07-31T02:45:02.040359",
     "exception": false,
     "start_time": "2021-07-31T02:45:01.991879",
     "status": "completed"
    },
    "tags": []
   },
   "outputs": [
    {
     "data": {
      "text/html": [
       "<div>\n",
       "<style scoped>\n",
       "    .dataframe tbody tr th:only-of-type {\n",
       "        vertical-align: middle;\n",
       "    }\n",
       "\n",
       "    .dataframe tbody tr th {\n",
       "        vertical-align: top;\n",
       "    }\n",
       "\n",
       "    .dataframe thead th {\n",
       "        text-align: right;\n",
       "    }\n",
       "</style>\n",
       "<table border=\"1\" class=\"dataframe\">\n",
       "  <thead>\n",
       "    <tr style=\"text-align: right;\">\n",
       "      <th></th>\n",
       "      <th>SRP000599.SRR013549</th>\n",
       "      <th>SRP000599.SRR013550</th>\n",
       "      <th>SRP000599.SRR013551</th>\n",
       "      <th>SRP000599.SRR013552</th>\n",
       "      <th>SRP000599.SRR013553</th>\n",
       "      <th>SRP000599.SRR013554</th>\n",
       "      <th>SRP000599.SRR013555</th>\n",
       "      <th>SRP000599.SRR013556</th>\n",
       "      <th>SRP000599.SRR013557</th>\n",
       "      <th>SRP000599.SRR013558</th>\n",
       "      <th>...</th>\n",
       "      <th>SRP035599.SRR1139372</th>\n",
       "      <th>SRP035599.SRR1139393</th>\n",
       "      <th>SRP035599.SRR1139388</th>\n",
       "      <th>SRP035599.SRR1139378</th>\n",
       "      <th>SRP035599.SRR1139399</th>\n",
       "      <th>SRP035599.SRR1139386</th>\n",
       "      <th>SRP035599.SRR1139375</th>\n",
       "      <th>SRP035599.SRR1139382</th>\n",
       "      <th>SRP035599.SRR1139356</th>\n",
       "      <th>SRP035599.SRR1139370</th>\n",
       "    </tr>\n",
       "  </thead>\n",
       "  <tbody>\n",
       "    <tr>\n",
       "      <th>GAS6</th>\n",
       "      <td>-0.312500</td>\n",
       "      <td>-0.312931</td>\n",
       "      <td>-0.312931</td>\n",
       "      <td>-0.312931</td>\n",
       "      <td>-0.312931</td>\n",
       "      <td>-0.308253</td>\n",
       "      <td>-0.312931</td>\n",
       "      <td>-0.312931</td>\n",
       "      <td>-0.312931</td>\n",
       "      <td>-0.312931</td>\n",
       "      <td>...</td>\n",
       "      <td>-0.301711</td>\n",
       "      <td>-0.305581</td>\n",
       "      <td>-0.303344</td>\n",
       "      <td>-0.297800</td>\n",
       "      <td>-0.307122</td>\n",
       "      <td>-0.285499</td>\n",
       "      <td>-0.309599</td>\n",
       "      <td>-0.300220</td>\n",
       "      <td>-0.297667</td>\n",
       "      <td>-0.310151</td>\n",
       "    </tr>\n",
       "    <tr>\n",
       "      <th>MMP14</th>\n",
       "      <td>-0.328279</td>\n",
       "      <td>-0.328279</td>\n",
       "      <td>-0.328279</td>\n",
       "      <td>-0.328279</td>\n",
       "      <td>-0.328279</td>\n",
       "      <td>-0.328279</td>\n",
       "      <td>-0.328279</td>\n",
       "      <td>-0.328279</td>\n",
       "      <td>-0.328279</td>\n",
       "      <td>-0.325140</td>\n",
       "      <td>...</td>\n",
       "      <td>-0.314587</td>\n",
       "      <td>-0.322952</td>\n",
       "      <td>-0.326439</td>\n",
       "      <td>-0.325994</td>\n",
       "      <td>-0.326272</td>\n",
       "      <td>-0.322523</td>\n",
       "      <td>-0.326375</td>\n",
       "      <td>-0.326339</td>\n",
       "      <td>-0.322127</td>\n",
       "      <td>-0.327438</td>\n",
       "    </tr>\n",
       "    <tr>\n",
       "      <th>DSP</th>\n",
       "      <td>-0.286319</td>\n",
       "      <td>-0.286859</td>\n",
       "      <td>-0.286859</td>\n",
       "      <td>-0.286859</td>\n",
       "      <td>-0.286859</td>\n",
       "      <td>-0.286859</td>\n",
       "      <td>-0.277195</td>\n",
       "      <td>-0.256862</td>\n",
       "      <td>-0.278790</td>\n",
       "      <td>-0.269701</td>\n",
       "      <td>...</td>\n",
       "      <td>-0.286859</td>\n",
       "      <td>-0.286859</td>\n",
       "      <td>-0.286745</td>\n",
       "      <td>-0.286688</td>\n",
       "      <td>-0.286725</td>\n",
       "      <td>-0.286529</td>\n",
       "      <td>-0.286859</td>\n",
       "      <td>-0.286671</td>\n",
       "      <td>-0.286859</td>\n",
       "      <td>-0.286740</td>\n",
       "    </tr>\n",
       "    <tr>\n",
       "      <th>MARCKSL1</th>\n",
       "      <td>-0.536646</td>\n",
       "      <td>-0.536646</td>\n",
       "      <td>-0.536646</td>\n",
       "      <td>-0.536646</td>\n",
       "      <td>-0.536646</td>\n",
       "      <td>-0.536646</td>\n",
       "      <td>-0.536646</td>\n",
       "      <td>-0.536646</td>\n",
       "      <td>-0.536646</td>\n",
       "      <td>-0.536646</td>\n",
       "      <td>...</td>\n",
       "      <td>0.807663</td>\n",
       "      <td>1.294564</td>\n",
       "      <td>1.527655</td>\n",
       "      <td>1.404788</td>\n",
       "      <td>1.047931</td>\n",
       "      <td>0.892119</td>\n",
       "      <td>1.507099</td>\n",
       "      <td>2.458255</td>\n",
       "      <td>2.919662</td>\n",
       "      <td>1.410846</td>\n",
       "    </tr>\n",
       "    <tr>\n",
       "      <th>SPARC</th>\n",
       "      <td>-0.370498</td>\n",
       "      <td>-0.370498</td>\n",
       "      <td>-0.369171</td>\n",
       "      <td>-0.370498</td>\n",
       "      <td>-0.370498</td>\n",
       "      <td>-0.370498</td>\n",
       "      <td>-0.370498</td>\n",
       "      <td>-0.370498</td>\n",
       "      <td>-0.370498</td>\n",
       "      <td>-0.370498</td>\n",
       "      <td>...</td>\n",
       "      <td>-0.345409</td>\n",
       "      <td>-0.310750</td>\n",
       "      <td>-0.348120</td>\n",
       "      <td>-0.356938</td>\n",
       "      <td>-0.355206</td>\n",
       "      <td>-0.366197</td>\n",
       "      <td>-0.351174</td>\n",
       "      <td>-0.363703</td>\n",
       "      <td>-0.350825</td>\n",
       "      <td>-0.360762</td>\n",
       "    </tr>\n",
       "  </tbody>\n",
       "</table>\n",
       "<p>5 rows × 37032 columns</p>\n",
       "</div>"
      ],
      "text/plain": [
       "          SRP000599.SRR013549  SRP000599.SRR013550  SRP000599.SRR013551  \\\n",
       "GAS6                -0.312500            -0.312931            -0.312931   \n",
       "MMP14               -0.328279            -0.328279            -0.328279   \n",
       "DSP                 -0.286319            -0.286859            -0.286859   \n",
       "MARCKSL1            -0.536646            -0.536646            -0.536646   \n",
       "SPARC               -0.370498            -0.370498            -0.369171   \n",
       "\n",
       "          SRP000599.SRR013552  SRP000599.SRR013553  SRP000599.SRR013554  \\\n",
       "GAS6                -0.312931            -0.312931            -0.308253   \n",
       "MMP14               -0.328279            -0.328279            -0.328279   \n",
       "DSP                 -0.286859            -0.286859            -0.286859   \n",
       "MARCKSL1            -0.536646            -0.536646            -0.536646   \n",
       "SPARC               -0.370498            -0.370498            -0.370498   \n",
       "\n",
       "          SRP000599.SRR013555  SRP000599.SRR013556  SRP000599.SRR013557  \\\n",
       "GAS6                -0.312931            -0.312931            -0.312931   \n",
       "MMP14               -0.328279            -0.328279            -0.328279   \n",
       "DSP                 -0.277195            -0.256862            -0.278790   \n",
       "MARCKSL1            -0.536646            -0.536646            -0.536646   \n",
       "SPARC               -0.370498            -0.370498            -0.370498   \n",
       "\n",
       "          SRP000599.SRR013558  ...  SRP035599.SRR1139372  \\\n",
       "GAS6                -0.312931  ...             -0.301711   \n",
       "MMP14               -0.325140  ...             -0.314587   \n",
       "DSP                 -0.269701  ...             -0.286859   \n",
       "MARCKSL1            -0.536646  ...              0.807663   \n",
       "SPARC               -0.370498  ...             -0.345409   \n",
       "\n",
       "          SRP035599.SRR1139393  SRP035599.SRR1139388  SRP035599.SRR1139378  \\\n",
       "GAS6                 -0.305581             -0.303344             -0.297800   \n",
       "MMP14                -0.322952             -0.326439             -0.325994   \n",
       "DSP                  -0.286859             -0.286745             -0.286688   \n",
       "MARCKSL1              1.294564              1.527655              1.404788   \n",
       "SPARC                -0.310750             -0.348120             -0.356938   \n",
       "\n",
       "          SRP035599.SRR1139399  SRP035599.SRR1139386  SRP035599.SRR1139375  \\\n",
       "GAS6                 -0.307122             -0.285499             -0.309599   \n",
       "MMP14                -0.326272             -0.322523             -0.326375   \n",
       "DSP                  -0.286725             -0.286529             -0.286859   \n",
       "MARCKSL1              1.047931              0.892119              1.507099   \n",
       "SPARC                -0.355206             -0.366197             -0.351174   \n",
       "\n",
       "          SRP035599.SRR1139382  SRP035599.SRR1139356  SRP035599.SRR1139370  \n",
       "GAS6                 -0.300220             -0.297667             -0.310151  \n",
       "MMP14                -0.326339             -0.322127             -0.327438  \n",
       "DSP                  -0.286671             -0.286859             -0.286740  \n",
       "MARCKSL1              2.458255              2.919662              1.410846  \n",
       "SPARC                -0.363703             -0.350825             -0.360762  \n",
       "\n",
       "[5 rows x 37032 columns]"
      ]
     },
     "execution_count": 16,
     "metadata": {},
     "output_type": "execute_result"
    }
   ],
   "source": [
    "recount2_rpkl_cm.head()"
   ]
  },
  {
   "cell_type": "markdown",
   "metadata": {
    "papermill": {
     "duration": 0.023732,
     "end_time": "2021-07-31T02:45:02.088834",
     "exception": false,
     "start_time": "2021-07-31T02:45:02.065102",
     "status": "completed"
    },
    "tags": []
   },
   "source": [
    "## Test"
   ]
  },
  {
   "cell_type": "code",
   "execution_count": 19,
   "metadata": {},
   "outputs": [],
   "source": [
    "assert not recount2_rpkl_cm.isna().any().any()\n",
    "assert recount2_rpkl_cm.index.is_unique\n",
    "assert recount2_rpkl_cm.columns.is_unique"
   ]
  },
  {
   "cell_type": "markdown",
   "metadata": {
    "papermill": {
     "duration": 0.022906,
     "end_time": "2021-07-31T02:45:02.135075",
     "exception": false,
     "start_time": "2021-07-31T02:45:02.112169",
     "status": "completed"
    },
    "tags": []
   },
   "source": [
    "Test whether what I load from a plain R session is the same as in here."
   ]
  },
  {
   "cell_type": "code",
   "execution_count": 18,
   "metadata": {
    "papermill": {
     "duration": 0.033583,
     "end_time": "2021-07-31T02:45:02.251313",
     "exception": false,
     "start_time": "2021-07-31T02:45:02.217730",
     "status": "completed"
    },
    "tags": []
   },
   "outputs": [],
   "source": [
    "assert recount2_rpkl_cm.loc[\"GAS6\", \"SRP000599.SRR013549\"].round(4) == -0.3125"
   ]
  },
  {
   "cell_type": "code",
   "execution_count": 19,
   "metadata": {
    "papermill": {
     "duration": 0.033359,
     "end_time": "2021-07-31T02:45:02.308421",
     "exception": false,
     "start_time": "2021-07-31T02:45:02.275062",
     "status": "completed"
    },
    "tags": []
   },
   "outputs": [],
   "source": [
    "assert recount2_rpkl_cm.loc[\"GAS6\", \"SRP045352.SRR1539229\"].round(7) == -0.2843801"
   ]
  },
  {
   "cell_type": "code",
   "execution_count": 20,
   "metadata": {
    "papermill": {
     "duration": 0.033325,
     "end_time": "2021-07-31T02:45:02.365042",
     "exception": false,
     "start_time": "2021-07-31T02:45:02.331717",
     "status": "completed"
    },
    "tags": []
   },
   "outputs": [],
   "source": [
    "assert recount2_rpkl_cm.loc[\"CFL2\", \"SRP056840.SRR1951636\"].round(7) == -0.3412832"
   ]
  },
  {
   "cell_type": "code",
   "execution_count": 22,
   "metadata": {
    "papermill": {
     "duration": 0.034118,
     "end_time": "2021-07-31T02:45:02.481967",
     "exception": false,
     "start_time": "2021-07-31T02:45:02.447849",
     "status": "completed"
    },
    "tags": []
   },
   "outputs": [],
   "source": [
    "assert recount2_rpkl_cm.iloc[9, 16].round(7) == -0.4938852"
   ]
  },
  {
   "cell_type": "markdown",
   "metadata": {
    "papermill": {
     "duration": 0.02375,
     "end_time": "2021-07-31T02:45:02.529727",
     "exception": false,
     "start_time": "2021-07-31T02:45:02.505977",
     "status": "completed"
    },
    "tags": []
   },
   "source": [
    "## Save"
   ]
  },
  {
   "cell_type": "markdown",
   "metadata": {
    "papermill": {
     "duration": 0.023272,
     "end_time": "2021-07-31T02:45:02.576239",
     "exception": false,
     "start_time": "2021-07-31T02:45:02.552967",
     "status": "completed"
    },
    "tags": []
   },
   "source": [
    "### Pickle format (binary)"
   ]
  },
  {
   "cell_type": "code",
   "execution_count": 23,
   "metadata": {
    "papermill": {
     "duration": 0.034441,
     "end_time": "2021-07-31T02:45:02.633861",
     "exception": false,
     "start_time": "2021-07-31T02:45:02.599420",
     "status": "completed"
    },
    "tags": []
   },
   "outputs": [
    {
     "data": {
      "text/plain": [
       "PosixPath('/home/miltondp/projects/labs/greenelab/clustermatch_repos/clustermatch-gene-expr/base/data/recount2/recount_data_prep_PLIER.pkl')"
      ]
     },
     "metadata": {},
     "output_type": "display_data"
    }
   ],
   "source": [
    "output_filename = conf.RECOUNT2[\"DATA_FILE\"]\n",
    "\n",
    "display(output_filename)"
   ]
  },
  {
   "cell_type": "code",
   "execution_count": 24,
   "metadata": {
    "papermill": {
     "duration": 12.315919,
     "end_time": "2021-07-31T02:45:14.973790",
     "exception": false,
     "start_time": "2021-07-31T02:45:02.657871",
     "status": "completed"
    },
    "tags": []
   },
   "outputs": [],
   "source": [
    "recount2_rpkl_cm.to_pickle(output_filename)"
   ]
  },
  {
   "cell_type": "code",
   "execution_count": 25,
   "metadata": {
    "papermill": {
     "duration": 0.033053,
     "end_time": "2021-07-31T02:45:15.320216",
     "exception": false,
     "start_time": "2021-07-31T02:45:15.287163",
     "status": "completed"
    },
    "tags": []
   },
   "outputs": [],
   "source": [
    "# delete the object to save memory\n",
    "del recount2_rpkl_cm"
   ]
  },
  {
   "cell_type": "markdown",
   "metadata": {
    "papermill": {
     "duration": 0.042782,
     "end_time": "2021-07-31T02:45:15.387293",
     "exception": false,
     "start_time": "2021-07-31T02:45:15.344511",
     "status": "completed"
    },
    "tags": []
   },
   "source": [
    "# recount2 pathways"
   ]
  },
  {
   "cell_type": "markdown",
   "metadata": {
    "papermill": {
     "duration": 0.042782,
     "end_time": "2021-07-31T02:45:15.387293",
     "exception": false,
     "start_time": "2021-07-31T02:45:15.344511",
     "status": "completed"
    },
    "tags": []
   },
   "source": [
    "## Load"
   ]
  },
  {
   "cell_type": "code",
   "execution_count": 26,
   "metadata": {
    "papermill": {
     "duration": 0.03543,
     "end_time": "2021-07-31T02:45:15.452804",
     "exception": false,
     "start_time": "2021-07-31T02:45:15.417374",
     "status": "completed"
    },
    "tags": []
   },
   "outputs": [],
   "source": [
    "recount2_all_paths_cm = recount_data_prep.rx2(\"all.paths.cm\")"
   ]
  },
  {
   "cell_type": "code",
   "execution_count": 27,
   "metadata": {
    "papermill": {
     "duration": 0.040484,
     "end_time": "2021-07-31T02:45:15.520504",
     "exception": false,
     "start_time": "2021-07-31T02:45:15.480020",
     "status": "completed"
    },
    "tags": []
   },
   "outputs": [
    {
     "data": {
      "text/html": [
       "\n",
       "        <span>FloatMatrix with 4239000 elements.</span>\n",
       "        <table>\n",
       "        <tbody>\n",
       "          <tr>\n",
       "          \n",
       "            <td>\n",
       "            0.000000\n",
       "            </td>\n",
       "          \n",
       "            <td>\n",
       "            0.000000\n",
       "            </td>\n",
       "          \n",
       "            <td>\n",
       "            0.000000\n",
       "            </td>\n",
       "          \n",
       "            <td>\n",
       "            ...\n",
       "            </td>\n",
       "          \n",
       "            <td>\n",
       "            0.000000\n",
       "            </td>\n",
       "          \n",
       "            <td>\n",
       "            0.000000\n",
       "            </td>\n",
       "          \n",
       "            <td>\n",
       "            0.000000\n",
       "            </td>\n",
       "          \n",
       "          </tr>\n",
       "        </tbody>\n",
       "        </table>\n",
       "        "
      ],
      "text/plain": [
       "<rpy2.robjects.vectors.FloatMatrix object at 0x7f47d8f90900> [RTYPES.REALSXP]\n",
       "R classes: ('matrix', 'array')\n",
       "[0.000000, 0.000000, 0.000000, 0.000000, ..., 0.000000, 0.000000, 0.000000, 0.000000]"
      ]
     },
     "execution_count": 27,
     "metadata": {},
     "output_type": "execute_result"
    }
   ],
   "source": [
    "recount2_all_paths_cm"
   ]
  },
  {
   "cell_type": "code",
   "execution_count": 28,
   "metadata": {
    "papermill": {
     "duration": 0.035708,
     "end_time": "2021-07-31T02:45:15.582552",
     "exception": false,
     "start_time": "2021-07-31T02:45:15.546844",
     "status": "completed"
    },
    "tags": []
   },
   "outputs": [
    {
     "data": {
      "text/html": [
       "\n",
       "        <span>StrVector with 6750 elements.</span>\n",
       "        <table>\n",
       "        <tbody>\n",
       "          <tr>\n",
       "          \n",
       "            <td>\n",
       "            'GAS6'\n",
       "            </td>\n",
       "          \n",
       "            <td>\n",
       "            'MMP14'\n",
       "            </td>\n",
       "          \n",
       "            <td>\n",
       "            'DSP'\n",
       "            </td>\n",
       "          \n",
       "            <td>\n",
       "            ...\n",
       "            </td>\n",
       "          \n",
       "            <td>\n",
       "            'PLEKHG6'\n",
       "            </td>\n",
       "          \n",
       "            <td>\n",
       "            'GNGT2'\n",
       "            </td>\n",
       "          \n",
       "            <td>\n",
       "            'SERPINH1'\n",
       "            </td>\n",
       "          \n",
       "          </tr>\n",
       "        </tbody>\n",
       "        </table>\n",
       "        "
      ],
      "text/plain": [
       "<rpy2.robjects.vectors.StrVector object at 0x7f47cfc78cc0> [RTYPES.STRSXP]\n",
       "R classes: ('character',)\n",
       "['GAS6', 'MMP14', 'DSP', 'MARCKSL1', ..., 'NFIB', 'PLEKHG6', 'GNGT2', 'SERPINH1']"
      ]
     },
     "execution_count": 28,
     "metadata": {},
     "output_type": "execute_result"
    }
   ],
   "source": [
    "recount2_all_paths_cm.rownames"
   ]
  },
  {
   "cell_type": "code",
   "execution_count": 29,
   "metadata": {
    "papermill": {
     "duration": 0.035545,
     "end_time": "2021-07-31T02:45:15.645756",
     "exception": false,
     "start_time": "2021-07-31T02:45:15.610211",
     "status": "completed"
    },
    "tags": []
   },
   "outputs": [
    {
     "data": {
      "text/html": [
       "\n",
       "        <span>StrVector with 628 elements.</span>\n",
       "        <table>\n",
       "        <tbody>\n",
       "          <tr>\n",
       "          \n",
       "            <td>\n",
       "            'IRIS_Bce...\n",
       "            </td>\n",
       "          \n",
       "            <td>\n",
       "            'IRIS_Bce...\n",
       "            </td>\n",
       "          \n",
       "            <td>\n",
       "            'IRIS_Bce...\n",
       "            </td>\n",
       "          \n",
       "            <td>\n",
       "            ...\n",
       "            </td>\n",
       "          \n",
       "            <td>\n",
       "            'PID_BCR_...\n",
       "            </td>\n",
       "          \n",
       "            <td>\n",
       "            'PID_TELO...\n",
       "            </td>\n",
       "          \n",
       "            <td>\n",
       "            'PID_PI3K...\n",
       "            </td>\n",
       "          \n",
       "          </tr>\n",
       "        </tbody>\n",
       "        </table>\n",
       "        "
      ],
      "text/plain": [
       "<rpy2.robjects.vectors.StrVector object at 0x7f47d8f93bc0> [RTYPES.STRSXP]\n",
       "R classes: ('character',)\n",
       "['IRIS_Bce..., 'IRIS_Bce..., 'IRIS_Bce..., 'IRIS_CD4..., ..., 'REACTOME..., 'PID_BCR_..., 'PID_TELO..., 'PID_PI3K...]"
      ]
     },
     "execution_count": 29,
     "metadata": {},
     "output_type": "execute_result"
    }
   ],
   "source": [
    "recount2_all_paths_cm.colnames"
   ]
  },
  {
   "cell_type": "code",
   "execution_count": 30,
   "metadata": {
    "papermill": {
     "duration": 0.036962,
     "end_time": "2021-07-31T02:45:15.707676",
     "exception": false,
     "start_time": "2021-07-31T02:45:15.670714",
     "status": "completed"
    },
    "tags": []
   },
   "outputs": [],
   "source": [
    "with localconverter(ro.default_converter + pandas2ri.converter):\n",
    "    recount2_all_paths_cm_values = ro.conversion.rpy2py(recount2_all_paths_cm)"
   ]
  },
  {
   "cell_type": "code",
   "execution_count": 31,
   "metadata": {
    "papermill": {
     "duration": 0.036475,
     "end_time": "2021-07-31T02:45:15.771080",
     "exception": false,
     "start_time": "2021-07-31T02:45:15.734605",
     "status": "completed"
    },
    "tags": []
   },
   "outputs": [
    {
     "data": {
      "text/plain": [
       "array([[0., 0., 0., ..., 0., 0., 0.],\n",
       "       [0., 0., 0., ..., 0., 0., 0.],\n",
       "       [0., 0., 1., ..., 0., 0., 0.],\n",
       "       ...,\n",
       "       [0., 0., 0., ..., 0., 0., 0.],\n",
       "       [0., 0., 0., ..., 0., 0., 0.],\n",
       "       [0., 0., 0., ..., 0., 0., 0.]])"
      ]
     },
     "execution_count": 31,
     "metadata": {},
     "output_type": "execute_result"
    }
   ],
   "source": [
    "recount2_all_paths_cm_values"
   ]
  },
  {
   "cell_type": "code",
   "execution_count": 32,
   "metadata": {
    "papermill": {
     "duration": 0.05741,
     "end_time": "2021-07-31T02:45:15.854505",
     "exception": false,
     "start_time": "2021-07-31T02:45:15.797095",
     "status": "completed"
    },
    "tags": []
   },
   "outputs": [],
   "source": [
    "recount2_all_paths_cm_df = pd.DataFrame(\n",
    "    data=recount2_all_paths_cm_values,\n",
    "    index=recount2_all_paths_cm.rownames,\n",
    "    columns=recount2_all_paths_cm.colnames,\n",
    "    dtype=bool,\n",
    ")"
   ]
  },
  {
   "cell_type": "code",
   "execution_count": 33,
   "metadata": {
    "papermill": {
     "duration": 0.03512,
     "end_time": "2021-07-31T02:45:15.915827",
     "exception": false,
     "start_time": "2021-07-31T02:45:15.880707",
     "status": "completed"
    },
    "tags": []
   },
   "outputs": [],
   "source": [
    "assert recount2_all_paths_cm_df.shape == (6750, 628)"
   ]
  },
  {
   "cell_type": "code",
   "execution_count": 34,
   "metadata": {
    "papermill": {
     "duration": 0.035621,
     "end_time": "2021-07-31T02:45:15.977134",
     "exception": false,
     "start_time": "2021-07-31T02:45:15.941513",
     "status": "completed"
    },
    "tags": []
   },
   "outputs": [
    {
     "data": {
      "text/plain": [
       "(6750, 628)"
      ]
     },
     "execution_count": 34,
     "metadata": {},
     "output_type": "execute_result"
    }
   ],
   "source": [
    "recount2_all_paths_cm_df.shape"
   ]
  },
  {
   "cell_type": "code",
   "execution_count": 37,
   "metadata": {
    "papermill": {
     "duration": 0.035751,
     "end_time": "2021-07-31T02:45:16.039066",
     "exception": false,
     "start_time": "2021-07-31T02:45:16.003315",
     "status": "completed"
    },
    "tags": []
   },
   "outputs": [
    {
     "data": {
      "text/plain": [
       "array([dtype('bool')], dtype=object)"
      ]
     },
     "metadata": {},
     "output_type": "display_data"
    }
   ],
   "source": [
    "_tmp = recount2_all_paths_cm_df.dtypes.unique()\n",
    "display(_tmp)\n",
    "assert len(_tmp) == 1"
   ]
  },
  {
   "cell_type": "code",
   "execution_count": 38,
   "metadata": {
    "papermill": {
     "duration": 0.04761,
     "end_time": "2021-07-31T02:45:16.113436",
     "exception": false,
     "start_time": "2021-07-31T02:45:16.065826",
     "status": "completed"
    },
    "tags": []
   },
   "outputs": [
    {
     "data": {
      "text/html": [
       "<div>\n",
       "<style scoped>\n",
       "    .dataframe tbody tr th:only-of-type {\n",
       "        vertical-align: middle;\n",
       "    }\n",
       "\n",
       "    .dataframe tbody tr th {\n",
       "        vertical-align: top;\n",
       "    }\n",
       "\n",
       "    .dataframe thead th {\n",
       "        text-align: right;\n",
       "    }\n",
       "</style>\n",
       "<table border=\"1\" class=\"dataframe\">\n",
       "  <thead>\n",
       "    <tr style=\"text-align: right;\">\n",
       "      <th></th>\n",
       "      <th>IRIS_Bcell-Memory_IgG_IgA</th>\n",
       "      <th>IRIS_Bcell-Memory_IgM</th>\n",
       "      <th>IRIS_Bcell-naive</th>\n",
       "      <th>IRIS_CD4Tcell-N0</th>\n",
       "      <th>IRIS_CD4Tcell-Th1-restimulated12hour</th>\n",
       "      <th>IRIS_CD4Tcell-Th1-restimulated48hour</th>\n",
       "      <th>IRIS_CD4Tcell-Th2-restimulated12hour</th>\n",
       "      <th>IRIS_CD4Tcell-Th2-restimulated48hour</th>\n",
       "      <th>IRIS_CD8Tcell-N0</th>\n",
       "      <th>IRIS_DendriticCell-Control</th>\n",
       "      <th>...</th>\n",
       "      <th>KEGG_GNRH_SIGNALING_PATHWAY</th>\n",
       "      <th>KEGG_BASAL_TRANSCRIPTION_FACTORS</th>\n",
       "      <th>REACTOME_SYNTHESIS_OF_DNA</th>\n",
       "      <th>KEGG_HEMATOPOIETIC_CELL_LINEAGE</th>\n",
       "      <th>KEGG_T_CELL_RECEPTOR_SIGNALING_PATHWAY</th>\n",
       "      <th>PID_IL4_2PATHWAY</th>\n",
       "      <th>REACTOME_SIGNALING_BY_THE_B_CELL_RECEPTOR_BCR</th>\n",
       "      <th>PID_BCR_5PATHWAY</th>\n",
       "      <th>PID_TELOMERASEPATHWAY</th>\n",
       "      <th>PID_PI3KPLCTRKPATHWAY</th>\n",
       "    </tr>\n",
       "  </thead>\n",
       "  <tbody>\n",
       "    <tr>\n",
       "      <th>GAS6</th>\n",
       "      <td>False</td>\n",
       "      <td>False</td>\n",
       "      <td>False</td>\n",
       "      <td>False</td>\n",
       "      <td>False</td>\n",
       "      <td>False</td>\n",
       "      <td>False</td>\n",
       "      <td>False</td>\n",
       "      <td>False</td>\n",
       "      <td>True</td>\n",
       "      <td>...</td>\n",
       "      <td>False</td>\n",
       "      <td>False</td>\n",
       "      <td>False</td>\n",
       "      <td>False</td>\n",
       "      <td>False</td>\n",
       "      <td>False</td>\n",
       "      <td>False</td>\n",
       "      <td>False</td>\n",
       "      <td>False</td>\n",
       "      <td>False</td>\n",
       "    </tr>\n",
       "    <tr>\n",
       "      <th>MMP14</th>\n",
       "      <td>False</td>\n",
       "      <td>False</td>\n",
       "      <td>False</td>\n",
       "      <td>False</td>\n",
       "      <td>False</td>\n",
       "      <td>False</td>\n",
       "      <td>False</td>\n",
       "      <td>False</td>\n",
       "      <td>False</td>\n",
       "      <td>False</td>\n",
       "      <td>...</td>\n",
       "      <td>True</td>\n",
       "      <td>False</td>\n",
       "      <td>False</td>\n",
       "      <td>False</td>\n",
       "      <td>False</td>\n",
       "      <td>False</td>\n",
       "      <td>False</td>\n",
       "      <td>False</td>\n",
       "      <td>False</td>\n",
       "      <td>False</td>\n",
       "    </tr>\n",
       "    <tr>\n",
       "      <th>DSP</th>\n",
       "      <td>False</td>\n",
       "      <td>False</td>\n",
       "      <td>True</td>\n",
       "      <td>False</td>\n",
       "      <td>False</td>\n",
       "      <td>False</td>\n",
       "      <td>False</td>\n",
       "      <td>False</td>\n",
       "      <td>False</td>\n",
       "      <td>False</td>\n",
       "      <td>...</td>\n",
       "      <td>False</td>\n",
       "      <td>False</td>\n",
       "      <td>False</td>\n",
       "      <td>False</td>\n",
       "      <td>False</td>\n",
       "      <td>False</td>\n",
       "      <td>False</td>\n",
       "      <td>False</td>\n",
       "      <td>False</td>\n",
       "      <td>False</td>\n",
       "    </tr>\n",
       "    <tr>\n",
       "      <th>MARCKSL1</th>\n",
       "      <td>False</td>\n",
       "      <td>False</td>\n",
       "      <td>False</td>\n",
       "      <td>False</td>\n",
       "      <td>False</td>\n",
       "      <td>False</td>\n",
       "      <td>False</td>\n",
       "      <td>False</td>\n",
       "      <td>False</td>\n",
       "      <td>False</td>\n",
       "      <td>...</td>\n",
       "      <td>False</td>\n",
       "      <td>False</td>\n",
       "      <td>False</td>\n",
       "      <td>False</td>\n",
       "      <td>False</td>\n",
       "      <td>False</td>\n",
       "      <td>False</td>\n",
       "      <td>False</td>\n",
       "      <td>False</td>\n",
       "      <td>False</td>\n",
       "    </tr>\n",
       "    <tr>\n",
       "      <th>SPARC</th>\n",
       "      <td>False</td>\n",
       "      <td>False</td>\n",
       "      <td>False</td>\n",
       "      <td>False</td>\n",
       "      <td>False</td>\n",
       "      <td>False</td>\n",
       "      <td>False</td>\n",
       "      <td>False</td>\n",
       "      <td>False</td>\n",
       "      <td>False</td>\n",
       "      <td>...</td>\n",
       "      <td>False</td>\n",
       "      <td>False</td>\n",
       "      <td>False</td>\n",
       "      <td>False</td>\n",
       "      <td>False</td>\n",
       "      <td>False</td>\n",
       "      <td>False</td>\n",
       "      <td>False</td>\n",
       "      <td>False</td>\n",
       "      <td>False</td>\n",
       "    </tr>\n",
       "  </tbody>\n",
       "</table>\n",
       "<p>5 rows × 628 columns</p>\n",
       "</div>"
      ],
      "text/plain": [
       "          IRIS_Bcell-Memory_IgG_IgA  IRIS_Bcell-Memory_IgM  IRIS_Bcell-naive  \\\n",
       "GAS6                          False                  False             False   \n",
       "MMP14                         False                  False             False   \n",
       "DSP                           False                  False              True   \n",
       "MARCKSL1                      False                  False             False   \n",
       "SPARC                         False                  False             False   \n",
       "\n",
       "          IRIS_CD4Tcell-N0  IRIS_CD4Tcell-Th1-restimulated12hour  \\\n",
       "GAS6                 False                                 False   \n",
       "MMP14                False                                 False   \n",
       "DSP                  False                                 False   \n",
       "MARCKSL1             False                                 False   \n",
       "SPARC                False                                 False   \n",
       "\n",
       "          IRIS_CD4Tcell-Th1-restimulated48hour  \\\n",
       "GAS6                                     False   \n",
       "MMP14                                    False   \n",
       "DSP                                      False   \n",
       "MARCKSL1                                 False   \n",
       "SPARC                                    False   \n",
       "\n",
       "          IRIS_CD4Tcell-Th2-restimulated12hour  \\\n",
       "GAS6                                     False   \n",
       "MMP14                                    False   \n",
       "DSP                                      False   \n",
       "MARCKSL1                                 False   \n",
       "SPARC                                    False   \n",
       "\n",
       "          IRIS_CD4Tcell-Th2-restimulated48hour  IRIS_CD8Tcell-N0  \\\n",
       "GAS6                                     False             False   \n",
       "MMP14                                    False             False   \n",
       "DSP                                      False             False   \n",
       "MARCKSL1                                 False             False   \n",
       "SPARC                                    False             False   \n",
       "\n",
       "          IRIS_DendriticCell-Control  ...  KEGG_GNRH_SIGNALING_PATHWAY  \\\n",
       "GAS6                            True  ...                        False   \n",
       "MMP14                          False  ...                         True   \n",
       "DSP                            False  ...                        False   \n",
       "MARCKSL1                       False  ...                        False   \n",
       "SPARC                          False  ...                        False   \n",
       "\n",
       "          KEGG_BASAL_TRANSCRIPTION_FACTORS  REACTOME_SYNTHESIS_OF_DNA  \\\n",
       "GAS6                                 False                      False   \n",
       "MMP14                                False                      False   \n",
       "DSP                                  False                      False   \n",
       "MARCKSL1                             False                      False   \n",
       "SPARC                                False                      False   \n",
       "\n",
       "          KEGG_HEMATOPOIETIC_CELL_LINEAGE  \\\n",
       "GAS6                                False   \n",
       "MMP14                               False   \n",
       "DSP                                 False   \n",
       "MARCKSL1                            False   \n",
       "SPARC                               False   \n",
       "\n",
       "          KEGG_T_CELL_RECEPTOR_SIGNALING_PATHWAY  PID_IL4_2PATHWAY  \\\n",
       "GAS6                                       False             False   \n",
       "MMP14                                      False             False   \n",
       "DSP                                        False             False   \n",
       "MARCKSL1                                   False             False   \n",
       "SPARC                                      False             False   \n",
       "\n",
       "          REACTOME_SIGNALING_BY_THE_B_CELL_RECEPTOR_BCR  PID_BCR_5PATHWAY  \\\n",
       "GAS6                                              False             False   \n",
       "MMP14                                             False             False   \n",
       "DSP                                               False             False   \n",
       "MARCKSL1                                          False             False   \n",
       "SPARC                                             False             False   \n",
       "\n",
       "          PID_TELOMERASEPATHWAY  PID_PI3KPLCTRKPATHWAY  \n",
       "GAS6                      False                  False  \n",
       "MMP14                     False                  False  \n",
       "DSP                       False                  False  \n",
       "MARCKSL1                  False                  False  \n",
       "SPARC                     False                  False  \n",
       "\n",
       "[5 rows x 628 columns]"
      ]
     },
     "execution_count": 38,
     "metadata": {},
     "output_type": "execute_result"
    }
   ],
   "source": [
    "recount2_all_paths_cm_df.head()"
   ]
  },
  {
   "cell_type": "markdown",
   "metadata": {
    "papermill": {
     "duration": 0.025519,
     "end_time": "2021-07-31T02:45:16.165846",
     "exception": false,
     "start_time": "2021-07-31T02:45:16.140327",
     "status": "completed"
    },
    "tags": []
   },
   "source": [
    "## Test"
   ]
  },
  {
   "cell_type": "code",
   "execution_count": 40,
   "metadata": {
    "papermill": {
     "duration": 0.035546,
     "end_time": "2021-07-31T02:45:16.289602",
     "exception": false,
     "start_time": "2021-07-31T02:45:16.254056",
     "status": "completed"
    },
    "tags": []
   },
   "outputs": [],
   "source": [
    "assert not recount2_all_paths_cm_df.loc[\n",
    "    \"CTSD\", \"REACTOME_SCFSKP2_MEDIATED_DEGRADATION_OF_P27_P21\"\n",
    "]"
   ]
  },
  {
   "cell_type": "code",
   "execution_count": 41,
   "metadata": {
    "papermill": {
     "duration": 0.035206,
     "end_time": "2021-07-31T02:45:16.350682",
     "exception": false,
     "start_time": "2021-07-31T02:45:16.315476",
     "status": "completed"
    },
    "tags": []
   },
   "outputs": [],
   "source": [
    "assert recount2_all_paths_cm_df.loc[\"CTSD\", \"PID_P53DOWNSTREAMPATHWAY\"]"
   ]
  },
  {
   "cell_type": "code",
   "execution_count": 42,
   "metadata": {
    "papermill": {
     "duration": 0.035679,
     "end_time": "2021-07-31T02:45:16.412543",
     "exception": false,
     "start_time": "2021-07-31T02:45:16.376864",
     "status": "completed"
    },
    "tags": []
   },
   "outputs": [],
   "source": [
    "assert recount2_all_paths_cm_df.loc[\"MMP14\", \"PID_HIF2PATHWAY\"]"
   ]
  },
  {
   "cell_type": "markdown",
   "metadata": {
    "papermill": {
     "duration": 0.026266,
     "end_time": "2021-07-31T02:45:16.465891",
     "exception": false,
     "start_time": "2021-07-31T02:45:16.439625",
     "status": "completed"
    },
    "tags": []
   },
   "source": [
    "## Save"
   ]
  },
  {
   "cell_type": "markdown",
   "metadata": {
    "papermill": {
     "duration": 0.02515,
     "end_time": "2021-07-31T02:45:16.516697",
     "exception": false,
     "start_time": "2021-07-31T02:45:16.491547",
     "status": "completed"
    },
    "tags": []
   },
   "source": [
    "### Pickle format"
   ]
  },
  {
   "cell_type": "code",
   "execution_count": 43,
   "metadata": {
    "papermill": {
     "duration": 0.036328,
     "end_time": "2021-07-31T02:45:16.578484",
     "exception": false,
     "start_time": "2021-07-31T02:45:16.542156",
     "status": "completed"
    },
    "tags": []
   },
   "outputs": [
    {
     "data": {
      "text/plain": [
       "PosixPath('/home/miltondp/projects/labs/greenelab/clustermatch_repos/clustermatch-gene-expr/base/data/recount2/recount_all_paths_cm.pkl')"
      ]
     },
     "metadata": {},
     "output_type": "display_data"
    }
   ],
   "source": [
    "output_filename = conf.RECOUNT2[\"DATA_FILE\"].parent / \"recount_all_paths_cm.pkl\"\n",
    "display(output_filename)"
   ]
  },
  {
   "cell_type": "code",
   "execution_count": 44,
   "metadata": {
    "papermill": {
     "duration": 0.040513,
     "end_time": "2021-07-31T02:45:16.645910",
     "exception": false,
     "start_time": "2021-07-31T02:45:16.605397",
     "status": "completed"
    },
    "tags": []
   },
   "outputs": [],
   "source": [
    "recount2_all_paths_cm_df.to_pickle(output_filename)"
   ]
  },
  {
   "cell_type": "markdown",
   "metadata": {
    "papermill": {
     "duration": 0.025829,
     "end_time": "2021-07-31T02:45:16.763582",
     "exception": false,
     "start_time": "2021-07-31T02:45:16.737753",
     "status": "completed"
    },
    "tags": []
   },
   "source": [
    "### RDS format"
   ]
  },
  {
   "cell_type": "code",
   "execution_count": 45,
   "metadata": {
    "papermill": {
     "duration": 0.036739,
     "end_time": "2021-07-31T02:45:16.827294",
     "exception": false,
     "start_time": "2021-07-31T02:45:16.790555",
     "status": "completed"
    },
    "tags": []
   },
   "outputs": [
    {
     "data": {
      "text/plain": [
       "PosixPath('/home/miltondp/projects/labs/greenelab/clustermatch_repos/clustermatch-gene-expr/base/data/recount2/recount_all_paths_cm.rds')"
      ]
     },
     "metadata": {},
     "output_type": "display_data"
    }
   ],
   "source": [
    "output_rds_file = output_filename.with_suffix(\".rds\")\n",
    "display(output_rds_file)"
   ]
  },
  {
   "cell_type": "code",
   "execution_count": 46,
   "metadata": {
    "papermill": {
     "duration": 0.306655,
     "end_time": "2021-07-31T02:45:17.160491",
     "exception": false,
     "start_time": "2021-07-31T02:45:16.853836",
     "status": "completed"
    },
    "tags": []
   },
   "outputs": [
    {
     "data": {
      "text/plain": [
       "<rpy2.rinterface_lib.sexp.NULLType object at 0x7f47d9752980> [RTYPES.NILSXP]"
      ]
     },
     "execution_count": 46,
     "metadata": {},
     "output_type": "execute_result"
    }
   ],
   "source": [
    "saveRDS(recount2_all_paths_cm, str(output_rds_file))"
   ]
  },
  {
   "cell_type": "markdown",
   "metadata": {
    "papermill": {
     "duration": 0.026717,
     "end_time": "2021-07-31T02:45:17.277986",
     "exception": false,
     "start_time": "2021-07-31T02:45:17.251269",
     "status": "completed"
    },
    "tags": []
   },
   "source": [
    "### Text format"
   ]
  },
  {
   "cell_type": "code",
   "execution_count": 48,
   "metadata": {
    "papermill": {
     "duration": 0.037402,
     "end_time": "2021-07-31T02:45:17.342145",
     "exception": false,
     "start_time": "2021-07-31T02:45:17.304743",
     "status": "completed"
    },
    "tags": []
   },
   "outputs": [
    {
     "data": {
      "text/plain": [
       "PosixPath('/home/miltondp/projects/labs/greenelab/clustermatch_repos/clustermatch-gene-expr/base/data/recount2/recount_all_paths_cm.tsv.gz')"
      ]
     },
     "metadata": {},
     "output_type": "display_data"
    }
   ],
   "source": [
    "# tsv format\n",
    "output_text_file = output_filename.with_suffix(\".tsv.gz\")\n",
    "display(output_text_file)"
   ]
  },
  {
   "cell_type": "code",
   "execution_count": 49,
   "metadata": {
    "papermill": {
     "duration": 0.048243,
     "end_time": "2021-07-31T02:45:17.418720",
     "exception": false,
     "start_time": "2021-07-31T02:45:17.370477",
     "status": "completed"
    },
    "tags": []
   },
   "outputs": [
    {
     "data": {
      "text/html": [
       "<div>\n",
       "<style scoped>\n",
       "    .dataframe tbody tr th:only-of-type {\n",
       "        vertical-align: middle;\n",
       "    }\n",
       "\n",
       "    .dataframe tbody tr th {\n",
       "        vertical-align: top;\n",
       "    }\n",
       "\n",
       "    .dataframe thead th {\n",
       "        text-align: right;\n",
       "    }\n",
       "</style>\n",
       "<table border=\"1\" class=\"dataframe\">\n",
       "  <thead>\n",
       "    <tr style=\"text-align: right;\">\n",
       "      <th></th>\n",
       "      <th>IRIS_Bcell-Memory_IgG_IgA</th>\n",
       "      <th>IRIS_Bcell-Memory_IgM</th>\n",
       "      <th>IRIS_Bcell-naive</th>\n",
       "      <th>IRIS_CD4Tcell-N0</th>\n",
       "      <th>IRIS_CD4Tcell-Th1-restimulated12hour</th>\n",
       "      <th>IRIS_CD4Tcell-Th1-restimulated48hour</th>\n",
       "      <th>IRIS_CD4Tcell-Th2-restimulated12hour</th>\n",
       "      <th>IRIS_CD4Tcell-Th2-restimulated48hour</th>\n",
       "      <th>IRIS_CD8Tcell-N0</th>\n",
       "      <th>IRIS_DendriticCell-Control</th>\n",
       "      <th>...</th>\n",
       "      <th>KEGG_GNRH_SIGNALING_PATHWAY</th>\n",
       "      <th>KEGG_BASAL_TRANSCRIPTION_FACTORS</th>\n",
       "      <th>REACTOME_SYNTHESIS_OF_DNA</th>\n",
       "      <th>KEGG_HEMATOPOIETIC_CELL_LINEAGE</th>\n",
       "      <th>KEGG_T_CELL_RECEPTOR_SIGNALING_PATHWAY</th>\n",
       "      <th>PID_IL4_2PATHWAY</th>\n",
       "      <th>REACTOME_SIGNALING_BY_THE_B_CELL_RECEPTOR_BCR</th>\n",
       "      <th>PID_BCR_5PATHWAY</th>\n",
       "      <th>PID_TELOMERASEPATHWAY</th>\n",
       "      <th>PID_PI3KPLCTRKPATHWAY</th>\n",
       "    </tr>\n",
       "  </thead>\n",
       "  <tbody>\n",
       "    <tr>\n",
       "      <th>GAS6</th>\n",
       "      <td>0</td>\n",
       "      <td>0</td>\n",
       "      <td>0</td>\n",
       "      <td>0</td>\n",
       "      <td>0</td>\n",
       "      <td>0</td>\n",
       "      <td>0</td>\n",
       "      <td>0</td>\n",
       "      <td>0</td>\n",
       "      <td>1</td>\n",
       "      <td>...</td>\n",
       "      <td>0</td>\n",
       "      <td>0</td>\n",
       "      <td>0</td>\n",
       "      <td>0</td>\n",
       "      <td>0</td>\n",
       "      <td>0</td>\n",
       "      <td>0</td>\n",
       "      <td>0</td>\n",
       "      <td>0</td>\n",
       "      <td>0</td>\n",
       "    </tr>\n",
       "    <tr>\n",
       "      <th>MMP14</th>\n",
       "      <td>0</td>\n",
       "      <td>0</td>\n",
       "      <td>0</td>\n",
       "      <td>0</td>\n",
       "      <td>0</td>\n",
       "      <td>0</td>\n",
       "      <td>0</td>\n",
       "      <td>0</td>\n",
       "      <td>0</td>\n",
       "      <td>0</td>\n",
       "      <td>...</td>\n",
       "      <td>1</td>\n",
       "      <td>0</td>\n",
       "      <td>0</td>\n",
       "      <td>0</td>\n",
       "      <td>0</td>\n",
       "      <td>0</td>\n",
       "      <td>0</td>\n",
       "      <td>0</td>\n",
       "      <td>0</td>\n",
       "      <td>0</td>\n",
       "    </tr>\n",
       "    <tr>\n",
       "      <th>DSP</th>\n",
       "      <td>0</td>\n",
       "      <td>0</td>\n",
       "      <td>1</td>\n",
       "      <td>0</td>\n",
       "      <td>0</td>\n",
       "      <td>0</td>\n",
       "      <td>0</td>\n",
       "      <td>0</td>\n",
       "      <td>0</td>\n",
       "      <td>0</td>\n",
       "      <td>...</td>\n",
       "      <td>0</td>\n",
       "      <td>0</td>\n",
       "      <td>0</td>\n",
       "      <td>0</td>\n",
       "      <td>0</td>\n",
       "      <td>0</td>\n",
       "      <td>0</td>\n",
       "      <td>0</td>\n",
       "      <td>0</td>\n",
       "      <td>0</td>\n",
       "    </tr>\n",
       "    <tr>\n",
       "      <th>MARCKSL1</th>\n",
       "      <td>0</td>\n",
       "      <td>0</td>\n",
       "      <td>0</td>\n",
       "      <td>0</td>\n",
       "      <td>0</td>\n",
       "      <td>0</td>\n",
       "      <td>0</td>\n",
       "      <td>0</td>\n",
       "      <td>0</td>\n",
       "      <td>0</td>\n",
       "      <td>...</td>\n",
       "      <td>0</td>\n",
       "      <td>0</td>\n",
       "      <td>0</td>\n",
       "      <td>0</td>\n",
       "      <td>0</td>\n",
       "      <td>0</td>\n",
       "      <td>0</td>\n",
       "      <td>0</td>\n",
       "      <td>0</td>\n",
       "      <td>0</td>\n",
       "    </tr>\n",
       "    <tr>\n",
       "      <th>SPARC</th>\n",
       "      <td>0</td>\n",
       "      <td>0</td>\n",
       "      <td>0</td>\n",
       "      <td>0</td>\n",
       "      <td>0</td>\n",
       "      <td>0</td>\n",
       "      <td>0</td>\n",
       "      <td>0</td>\n",
       "      <td>0</td>\n",
       "      <td>0</td>\n",
       "      <td>...</td>\n",
       "      <td>0</td>\n",
       "      <td>0</td>\n",
       "      <td>0</td>\n",
       "      <td>0</td>\n",
       "      <td>0</td>\n",
       "      <td>0</td>\n",
       "      <td>0</td>\n",
       "      <td>0</td>\n",
       "      <td>0</td>\n",
       "      <td>0</td>\n",
       "    </tr>\n",
       "  </tbody>\n",
       "</table>\n",
       "<p>5 rows × 628 columns</p>\n",
       "</div>"
      ],
      "text/plain": [
       "          IRIS_Bcell-Memory_IgG_IgA  IRIS_Bcell-Memory_IgM  IRIS_Bcell-naive  \\\n",
       "GAS6                              0                      0                 0   \n",
       "MMP14                             0                      0                 0   \n",
       "DSP                               0                      0                 1   \n",
       "MARCKSL1                          0                      0                 0   \n",
       "SPARC                             0                      0                 0   \n",
       "\n",
       "          IRIS_CD4Tcell-N0  IRIS_CD4Tcell-Th1-restimulated12hour  \\\n",
       "GAS6                     0                                     0   \n",
       "MMP14                    0                                     0   \n",
       "DSP                      0                                     0   \n",
       "MARCKSL1                 0                                     0   \n",
       "SPARC                    0                                     0   \n",
       "\n",
       "          IRIS_CD4Tcell-Th1-restimulated48hour  \\\n",
       "GAS6                                         0   \n",
       "MMP14                                        0   \n",
       "DSP                                          0   \n",
       "MARCKSL1                                     0   \n",
       "SPARC                                        0   \n",
       "\n",
       "          IRIS_CD4Tcell-Th2-restimulated12hour  \\\n",
       "GAS6                                         0   \n",
       "MMP14                                        0   \n",
       "DSP                                          0   \n",
       "MARCKSL1                                     0   \n",
       "SPARC                                        0   \n",
       "\n",
       "          IRIS_CD4Tcell-Th2-restimulated48hour  IRIS_CD8Tcell-N0  \\\n",
       "GAS6                                         0                 0   \n",
       "MMP14                                        0                 0   \n",
       "DSP                                          0                 0   \n",
       "MARCKSL1                                     0                 0   \n",
       "SPARC                                        0                 0   \n",
       "\n",
       "          IRIS_DendriticCell-Control  ...  KEGG_GNRH_SIGNALING_PATHWAY  \\\n",
       "GAS6                               1  ...                            0   \n",
       "MMP14                              0  ...                            1   \n",
       "DSP                                0  ...                            0   \n",
       "MARCKSL1                           0  ...                            0   \n",
       "SPARC                              0  ...                            0   \n",
       "\n",
       "          KEGG_BASAL_TRANSCRIPTION_FACTORS  REACTOME_SYNTHESIS_OF_DNA  \\\n",
       "GAS6                                     0                          0   \n",
       "MMP14                                    0                          0   \n",
       "DSP                                      0                          0   \n",
       "MARCKSL1                                 0                          0   \n",
       "SPARC                                    0                          0   \n",
       "\n",
       "          KEGG_HEMATOPOIETIC_CELL_LINEAGE  \\\n",
       "GAS6                                    0   \n",
       "MMP14                                   0   \n",
       "DSP                                     0   \n",
       "MARCKSL1                                0   \n",
       "SPARC                                   0   \n",
       "\n",
       "          KEGG_T_CELL_RECEPTOR_SIGNALING_PATHWAY  PID_IL4_2PATHWAY  \\\n",
       "GAS6                                           0                 0   \n",
       "MMP14                                          0                 0   \n",
       "DSP                                            0                 0   \n",
       "MARCKSL1                                       0                 0   \n",
       "SPARC                                          0                 0   \n",
       "\n",
       "          REACTOME_SIGNALING_BY_THE_B_CELL_RECEPTOR_BCR  PID_BCR_5PATHWAY  \\\n",
       "GAS6                                                  0                 0   \n",
       "MMP14                                                 0                 0   \n",
       "DSP                                                   0                 0   \n",
       "MARCKSL1                                              0                 0   \n",
       "SPARC                                                 0                 0   \n",
       "\n",
       "          PID_TELOMERASEPATHWAY  PID_PI3KPLCTRKPATHWAY  \n",
       "GAS6                          0                      0  \n",
       "MMP14                         0                      0  \n",
       "DSP                           0                      0  \n",
       "MARCKSL1                      0                      0  \n",
       "SPARC                         0                      0  \n",
       "\n",
       "[5 rows x 628 columns]"
      ]
     },
     "execution_count": 49,
     "metadata": {},
     "output_type": "execute_result"
    }
   ],
   "source": [
    "recount2_all_paths_cm_df.astype(\"int\").head()"
   ]
  },
  {
   "cell_type": "code",
   "execution_count": 50,
   "metadata": {
    "papermill": {
     "duration": 0.74306,
     "end_time": "2021-07-31T02:45:18.194610",
     "exception": false,
     "start_time": "2021-07-31T02:45:17.451550",
     "status": "completed"
    },
    "tags": []
   },
   "outputs": [],
   "source": [
    "recount2_all_paths_cm_df.astype(\"int\").to_csv(output_text_file, sep=\"\\t\", index=True)"
   ]
  },
  {
   "cell_type": "code",
   "execution_count": null,
   "metadata": {
    "papermill": {
     "duration": 0.02695,
     "end_time": "2021-07-31T02:45:18.315645",
     "exception": false,
     "start_time": "2021-07-31T02:45:18.288695",
     "status": "completed"
    },
    "tags": []
   },
   "outputs": [],
   "source": []
  }
 ],
 "metadata": {
  "jupytext": {
   "cell_metadata_filter": "all,-execution,-papermill,-trusted",
   "formats": "ipynb,py//py:percent"
  },
  "kernelspec": {
   "display_name": "Python 3 (ipykernel)",
   "language": "python",
   "name": "python3"
  },
  "language_info": {
   "codemirror_mode": {
    "name": "ipython",
    "version": 3
   },
   "file_extension": ".py",
   "mimetype": "text/x-python",
   "name": "python",
   "nbconvert_exporter": "python",
   "pygments_lexer": "ipython3",
   "version": "3.9.6"
  },
  "papermill": {
   "default_parameters": {},
   "duration": 37.218887,
   "end_time": "2021-07-31T02:45:20.046262",
   "environment_variables": {},
   "exception": null,
   "input_path": "01_preprocessing/005-multiplier_recount2_data.ipynb",
   "output_path": "01_preprocessing/005-multiplier_recount2_data.run.ipynb",
   "parameters": {},
   "start_time": "2021-07-31T02:44:42.827375",
   "version": "2.2.2"
  }
 },
 "nbformat": 4,
 "nbformat_minor": 4
}
