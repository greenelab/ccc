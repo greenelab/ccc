{
 "cells": [
  {
   "cell_type": "markdown",
   "id": "7e4be321-74d6-453d-9215-84c388f35b18",
   "metadata": {
    "papermill": {
     "duration": 0.024615,
     "end_time": "2021-09-09T14:38:17.306169",
     "exception": false,
     "start_time": "2021-09-09T14:38:17.281554",
     "status": "completed"
    },
    "tags": []
   },
   "source": [
    "# Description"
   ]
  },
  {
   "cell_type": "markdown",
   "id": "9ae9e9f5-47df-422f-a298-2a2bf71d3d4e",
   "metadata": {
    "papermill": {
     "duration": 0.023991,
     "end_time": "2021-09-09T14:38:17.354538",
     "exception": false,
     "start_time": "2021-09-09T14:38:17.330547",
     "status": "completed"
    },
    "tags": []
   },
   "source": [
    "This notebook contains code taken from the MultiPLIER repo to download and process recount2 data.\n",
    "The code was taken from [here](https://github.com/greenelab/rheum-plier-data/blob/master/recount2/1-get_all_recount_dataset.R) and [here](https://github.com/greenelab/rheum-plier-data/blob/master/recount2/2-prep_recount_for_plier.R).\n",
    "\n",
    "The output are Python pickle files with a large matrix with genes in rows and samples in columns, and another file with gene ID mappings."
   ]
  },
  {
   "cell_type": "markdown",
   "id": "dc743e44-9475-4ce4-afaa-1908d88cb5aa",
   "metadata": {
    "papermill": {
     "duration": 0.024372,
     "end_time": "2021-09-09T14:38:17.402987",
     "exception": false,
     "start_time": "2021-09-09T14:38:17.378615",
     "status": "completed"
    },
    "tags": []
   },
   "source": [
    "# Modules"
   ]
  },
  {
   "cell_type": "code",
   "execution_count": null,
   "id": "4bd35ce2-eea5-4f2d-acb3-99ab7d384d89",
   "metadata": {
    "papermill": {
     "duration": 0.561987,
     "end_time": "2021-09-09T14:38:17.989039",
     "exception": false,
     "start_time": "2021-09-09T14:38:17.427052",
     "status": "completed"
    },
    "tags": []
   },
   "outputs": [],
   "source": [
    "`%>%` <- dplyr::`%>%`\n",
    "library(recount)\n",
    "library(biomaRt)\n",
    "library(reticulate)"
   ]
  },
  {
   "cell_type": "markdown",
   "id": "47ebf07b-00e9-46e0-8fe7-38ff652a7639",
   "metadata": {
    "papermill": {
     "duration": 0.023971,
     "end_time": "2021-09-09T14:38:18.146918",
     "exception": false,
     "start_time": "2021-09-09T14:38:18.122947",
     "status": "completed"
    },
    "tags": []
   },
   "source": [
    "# Settings"
   ]
  },
  {
   "cell_type": "code",
   "execution_count": null,
   "id": "81e69014-7cd9-4918-8d01-5f357d741d72",
   "metadata": {},
   "outputs": [],
   "source": [
    "recount2full.data.dir <- Sys.getenv(\"CM_RECOUNT2FULL_DATA_DIR\")"
   ]
  },
  {
   "cell_type": "code",
   "execution_count": null,
   "id": "eb0b4df2-11dc-46e3-8270-10247f8190dc",
   "metadata": {},
   "outputs": [],
   "source": [
    "recount2full.data.dir"
   ]
  },
  {
   "cell_type": "code",
   "execution_count": null,
   "id": "3256d542-a820-4c78-8145-4cfab17238de",
   "metadata": {},
   "outputs": [],
   "source": [
    "dir.create(recount2full.data.dir, recursive = TRUE, showWarnings = FALSE)"
   ]
  },
  {
   "cell_type": "code",
   "execution_count": null,
   "id": "cc33e991-0756-4779-9dcb-33a420cb658e",
   "metadata": {},
   "outputs": [],
   "source": [
    "data.dir <- Sys.getenv(\"CM_RECOUNT2FULL_INTERNAL_DATA_DIR\")"
   ]
  },
  {
   "cell_type": "code",
   "execution_count": null,
   "id": "802dab3f-025d-41be-9c83-57a3fb6ed474",
   "metadata": {},
   "outputs": [],
   "source": [
    "data.dir"
   ]
  },
  {
   "cell_type": "code",
   "execution_count": null,
   "id": "ce3bd379-0cd6-45f1-8f7f-89e00cf07ea8",
   "metadata": {
    "papermill": {
     "duration": 0.03836,
     "end_time": "2021-09-09T14:38:18.211085",
     "exception": false,
     "start_time": "2021-09-09T14:38:18.172725",
     "status": "completed"
    },
    "tags": []
   },
   "outputs": [],
   "source": [
    "dir.create(data.dir, recursive = TRUE, showWarnings = FALSE)"
   ]
  },
  {
   "cell_type": "markdown",
   "id": "717c7fb0-97fd-4e0f-a534-dba7fce86253",
   "metadata": {
    "papermill": {
     "duration": 0.024418,
     "end_time": "2021-09-09T14:38:18.260259",
     "exception": false,
     "start_time": "2021-09-09T14:38:18.235841",
     "status": "completed"
    },
    "tags": []
   },
   "source": [
    "# Functions"
   ]
  },
  {
   "cell_type": "code",
   "execution_count": null,
   "id": "4131d758-9cfc-48a2-b029-f19b4ea3a9d8",
   "metadata": {},
   "outputs": [],
   "source": [
    "# Get RPKM value for each gene - adapted from recount package\n",
    "getRPKM <- function(rse, length_var = \"bp_length\", mapped_var = NULL) {\n",
    "  # Computes the RPKM value for each gene in the sample.\n",
    "  #\n",
    "  # Args:\n",
    "  #  rse: A RangedSummarizedExperiment-class object in recount package\n",
    "  #  length_var: A length 1 character vector with the column name from rowData(rse) that has\n",
    "  #              the coding length. For gene level objects from recount this is bp_length. If\n",
    "  #              NULL, then it will use width(rowRanges(rse)) which should be used for exon RSEs.\n",
    "  #  mapped_var: A length 1 character vector with the column name from colData(rse) that has\n",
    "  #              the number of reads mapped. If NULL (default) then it will use the column\n",
    "  #              sums of the counts matrix\n",
    "  # Returns:\n",
    "  #   RPKM value for each sample\n",
    "  if (!is.null(mapped_var)) {\n",
    "    mapped <- colData(rse)[, mapped_var]\n",
    "  } else {\n",
    "    mapped <- colSums(assays(rse)$counts)\n",
    "  }\n",
    "  bg <- matrix(mapped, ncol = ncol(rse), nrow = nrow(rse), byrow = TRUE)\n",
    "  if (!is.null(length_var)) {\n",
    "    len <- rowData(rse)[, length_var]\n",
    "  } else {\n",
    "    len <- width(rowRanges(rse))\n",
    "  }\n",
    "  wid <- matrix(len, nrow = nrow(rse), ncol = ncol(rse), byrow = FALSE)\n",
    "  rpkm <- assays(rse)$counts / (wid / 1000) / (bg / 1e6)\n",
    "  return(rpkm)\n",
    "}"
   ]
  },
  {
   "cell_type": "markdown",
   "id": "0ec58b97-3e38-4b16-abd0-bbc9d247b2ea",
   "metadata": {
    "papermill": {
     "duration": 0.024418,
     "end_time": "2021-09-09T14:38:18.260259",
     "exception": false,
     "start_time": "2021-09-09T14:38:18.235841",
     "status": "completed"
    },
    "tags": []
   },
   "source": [
    "# Download"
   ]
  },
  {
   "cell_type": "code",
   "execution_count": null,
   "id": "8f1a68e5-21f7-4e97-9790-932cc1969674",
   "metadata": {},
   "outputs": [],
   "source": [
    "# Get all samples from recount database\n",
    "metasample.sra <- all_metadata(subset = \"sra\", verbose = TRUE)\n",
    "metasample.sra <- as.data.frame(metasample.sra)"
   ]
  },
  {
   "cell_type": "code",
   "execution_count": null,
   "id": "5c0683d3-172e-49d6-89c4-6c0f6042efd9",
   "metadata": {},
   "outputs": [],
   "source": [
    "# Remove samples without description\n",
    "metadata.nonempty <- metasample.sra[!is.na(metasample.sra$characteristics), ]\n",
    "included.sample.list <- unique(metadata.nonempty$project)"
   ]
  },
  {
   "cell_type": "code",
   "execution_count": null,
   "id": "57c3aad7-027e-4aa3-9775-9ef4725f3beb",
   "metadata": {},
   "outputs": [],
   "source": [
    "# Download all recount2 samples in included.sample.list\n",
    "lapply(\n",
    "  included.sample.list,\n",
    "  function(x) {\n",
    "    download_study(x,\n",
    "      type = \"rse-gene\",\n",
    "      outdir = file.path(data.dir, x)\n",
    "    )\n",
    "  }\n",
    ")"
   ]
  },
  {
   "cell_type": "markdown",
   "id": "c88768e2-533a-42c1-a61f-bece04ce1837",
   "metadata": {
    "papermill": {
     "duration": 0.024418,
     "end_time": "2021-09-09T14:38:18.260259",
     "exception": false,
     "start_time": "2021-09-09T14:38:18.235841",
     "status": "completed"
    },
    "tags": []
   },
   "source": [
    "# Normalize with RPKM"
   ]
  },
  {
   "cell_type": "code",
   "execution_count": null,
   "id": "6b4dbde7-2945-4d26-b8e6-a9ccc15649b7",
   "metadata": {},
   "outputs": [],
   "source": [
    "# get RPKM for each experiment and add to list\n",
    "rpkm.list <- list()\n",
    "for (experiment in included.sample.list) {\n",
    "  load(file.path(data.dir, experiment, \"rse_gene.Rdata\"))\n",
    "  rpkm <- as.data.frame(getRPKM(rse_gene))\n",
    "  rpkm$id <- rownames(rpkm)\n",
    "  rpkm.list[[experiment]] <- rpkm\n",
    "}"
   ]
  },
  {
   "cell_type": "code",
   "execution_count": null,
   "id": "61205606-ae53-46b9-9a2e-bb59a1e4b7af",
   "metadata": {},
   "outputs": [],
   "source": [
    "# combine experiments -- this is the most memory efficient way to go about this\n",
    "# that I've found -- will need to drop extraneous gene id columns\n",
    "rpkm.df <- do.call(base::cbind, c(rpkm.list, by = \"id\"))\n",
    "rpkm.df <- rpkm.df %>% dplyr::select(-dplyr::ends_with(\"id\"))\n",
    "rpkm.df <- tibble::rownames_to_column(rpkm.df, \"ENSG\")\n",
    "# drop last column \"by\" -- information about what was used with base::cbind\n",
    "rpkm.df <- rpkm.df %>% dplyr::select(-by)"
   ]
  },
  {
   "cell_type": "markdown",
   "id": "8133ee2c-dddf-4266-b9fc-ecc61c9e270e",
   "metadata": {
    "papermill": {
     "duration": 0.024418,
     "end_time": "2021-09-09T14:38:18.260259",
     "exception": false,
     "start_time": "2021-09-09T14:38:18.235841",
     "status": "completed"
    },
    "tags": []
   },
   "source": [
    "# Preprocess data"
   ]
  },
  {
   "cell_type": "code",
   "execution_count": null,
   "id": "6f7aabab-37d1-4885-bc0d-a97a0dd051dd",
   "metadata": {},
   "outputs": [],
   "source": [
    "# Transform ensembl id to genesymbol\n",
    "mart <- biomaRt::useDataset(\n",
    "  \"hsapiens_gene_ensembl\",\n",
    "  biomaRt::useMart(\"ensembl\")\n",
    ")\n",
    "genes <- unlist(lapply(strsplit(rpkm.df$ENSG, \"[.]\"), `[[`, 1))\n",
    "rpkm.df$ensembl_gene_id <- unlist(lapply(\n",
    "  strsplit(rpkm.df$ENSG, \"[.]\"),\n",
    "  `[[`, 1\n",
    "))\n",
    "gene.df <- biomaRt::getBM(\n",
    "  filters = \"ensembl_gene_id\",\n",
    "  attributes = c(\"ensembl_gene_id\", \"hgnc_symbol\"),\n",
    "  values = genes,\n",
    "  mart = mart\n",
    ")"
   ]
  },
  {
   "cell_type": "code",
   "execution_count": null,
   "id": "6d4bddf0-6d3b-45b6-848e-a39c6467b61a",
   "metadata": {},
   "outputs": [],
   "source": [
    "# filter to remove genes without a gene symbol\n",
    "gene.df <- gene.df %>% dplyr::filter(complete.cases(.))"
   ]
  },
  {
   "cell_type": "code",
   "execution_count": null,
   "id": "9b90c802-e181-41b2-b590-511b80030154",
   "metadata": {},
   "outputs": [],
   "source": [
    "# add gene symbols to expression df\n",
    "rpkm.df <- dplyr::inner_join(gene.df, rpkm.df,\n",
    "  by = \"ensembl_gene_id\"\n",
    ")"
   ]
  },
  {
   "cell_type": "code",
   "execution_count": null,
   "id": "d7ea6704-13fe-4970-aa5c-f1103d8deb2d",
   "metadata": {},
   "outputs": [],
   "source": [
    "# keep gene mappings\n",
    "gene.df <- rpkm.df %>% dplyr::select(ensembl_gene_id, hgnc_symbol)"
   ]
  },
  {
   "cell_type": "code",
   "execution_count": null,
   "id": "bb4ad15e-1a83-4ce5-a8ea-074cd8011194",
   "metadata": {},
   "outputs": [],
   "source": [
    "dim(gene.df)"
   ]
  },
  {
   "cell_type": "code",
   "execution_count": null,
   "id": "516886a0-1402-43c5-8658-76b8a547d863",
   "metadata": {},
   "outputs": [],
   "source": [
    "head(gene.df)"
   ]
  },
  {
   "cell_type": "code",
   "execution_count": null,
   "id": "ac41dd4e-608d-4cc6-aae5-855e41780be9",
   "metadata": {},
   "outputs": [],
   "source": [
    "# set Ensemble IDs as rownames\n",
    "rownames(rpkm.df) <- make.names(rpkm.df$ensembl_gene_id, unique = TRUE)"
   ]
  },
  {
   "cell_type": "code",
   "execution_count": null,
   "id": "834c05a1-43c1-4a62-98aa-819b7298f465",
   "metadata": {},
   "outputs": [],
   "source": [
    "# remove gene identifier columns\n",
    "rpkm.df <- rpkm.df %>% dplyr::select(-c(ensembl_gene_id:ENSG))"
   ]
  },
  {
   "cell_type": "code",
   "execution_count": null,
   "id": "796d9f84-06ad-4105-810c-d815b1f4b411",
   "metadata": {},
   "outputs": [],
   "source": [
    "dim(rpkm.df)"
   ]
  },
  {
   "cell_type": "code",
   "execution_count": null,
   "id": "1b661012-8ce6-4693-b6c8-eb9d194c0174",
   "metadata": {},
   "outputs": [],
   "source": [
    "head(rpkm.df[, 1:10])"
   ]
  },
  {
   "cell_type": "markdown",
   "id": "b77f89c7-da59-456d-bfa5-eeb3a2d91229",
   "metadata": {
    "papermill": {
     "duration": 0.024418,
     "end_time": "2021-09-09T14:38:18.260259",
     "exception": false,
     "start_time": "2021-09-09T14:38:18.235841",
     "status": "completed"
    },
    "tags": []
   },
   "source": [
    "# Save"
   ]
  },
  {
   "cell_type": "markdown",
   "id": "ddc34f00-8db3-4a8d-a3f0-955201ef5636",
   "metadata": {
    "papermill": {
     "duration": 0.024418,
     "end_time": "2021-09-09T14:38:18.260259",
     "exception": false,
     "start_time": "2021-09-09T14:38:18.235841",
     "status": "completed"
    },
    "tags": []
   },
   "source": [
    "## Gene ID mappings"
   ]
  },
  {
   "cell_type": "code",
   "execution_count": null,
   "id": "8b1d4e9a-167a-40a1-9b06-d64a0746d295",
   "metadata": {},
   "outputs": [],
   "source": [
    "output_filepath <- file.path(recount2full.data.dir, \"recount2_gene_ids_mappings\")"
   ]
  },
  {
   "cell_type": "code",
   "execution_count": null,
   "id": "768aaaba-8636-48c0-8b67-882e62f9c1c7",
   "metadata": {},
   "outputs": [],
   "source": [
    "output_filepath"
   ]
  },
  {
   "cell_type": "code",
   "execution_count": null,
   "id": "2028dbd4-efd1-4312-b896-7e4bf66af446",
   "metadata": {},
   "outputs": [],
   "source": [
    "saveRDS(gene.df, file = paste0(output_filepath, \".rds\"))"
   ]
  },
  {
   "cell_type": "code",
   "execution_count": null,
   "id": "fec6f1f5-2d06-491d-a59f-489fda27dbf0",
   "metadata": {},
   "outputs": [],
   "source": [
    "py_save_object(gene.df, paste0(output_filepath, \".pkl\"))"
   ]
  },
  {
   "cell_type": "markdown",
   "id": "f7d91a58-a302-465e-b465-031e5363d9e1",
   "metadata": {
    "papermill": {
     "duration": 0.024418,
     "end_time": "2021-09-09T14:38:18.260259",
     "exception": false,
     "start_time": "2021-09-09T14:38:18.235841",
     "status": "completed"
    },
    "tags": []
   },
   "source": [
    "## Gene expression data"
   ]
  },
  {
   "cell_type": "code",
   "execution_count": null,
   "id": "d6f2c1a6-f2cd-48e3-9550-061728613783",
   "metadata": {},
   "outputs": [],
   "source": [
    "output_filepath <- file.path(recount2full.data.dir, \"recount2_rpkm\")"
   ]
  },
  {
   "cell_type": "code",
   "execution_count": null,
   "id": "ae25cc13-2d4a-492a-b03e-bf84e44880b3",
   "metadata": {},
   "outputs": [],
   "source": [
    "output_filepath"
   ]
  },
  {
   "cell_type": "code",
   "execution_count": null,
   "id": "d45bd1f4-e608-4dc4-9b33-29b1838a84dd",
   "metadata": {},
   "outputs": [],
   "source": [
    "saveRDS(rpkm.df, file = paste0(output_filepath, \".rds\"))"
   ]
  },
  {
   "cell_type": "code",
   "execution_count": null,
   "id": "fc467f65-0142-4874-af3d-6c4b12fc3cce",
   "metadata": {},
   "outputs": [],
   "source": [
    "py_save_object(rpkm.df, paste0(output_filepath, \".pkl\"))"
   ]
  },
  {
   "cell_type": "code",
   "execution_count": null,
   "id": "f97e4001-6abe-45dd-816f-adb27e79f477",
   "metadata": {},
   "outputs": [],
   "source": []
  }
 ],
 "metadata": {
  "jupytext": {
   "cell_metadata_filter": "all,-execution,-papermill,-trusted",
   "text_representation": {
    "extension": ".py",
    "format_name": "percent",
    "format_version": "1.3",
    "jupytext_version": "1.11.5"
   }
  },
  "kernelspec": {
   "display_name": "R",
   "language": "R",
   "name": "ir"
  },
  "language_info": {
   "codemirror_mode": "r",
   "file_extension": ".r",
   "mimetype": "text/x-r-source",
   "name": "R",
   "pygments_lexer": "r",
   "version": "4.1.1"
  },
  "toc-autonumbering": true
 },
 "nbformat": 4,
 "nbformat_minor": 5
}
