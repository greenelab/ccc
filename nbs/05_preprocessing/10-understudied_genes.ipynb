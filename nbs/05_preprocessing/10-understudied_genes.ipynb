{
 "cells": [
  {
   "cell_type": "markdown",
   "id": "b9c35e72-e087-4511-9899-5da25f3ff7ba",
   "metadata": {
    "papermill": {
     "duration": 0.004425,
     "end_time": "2024-01-03T07:35:39.037948",
     "exception": false,
     "start_time": "2024-01-03T07:35:39.033523",
     "status": "completed"
    },
    "tags": []
   },
   "source": [
    "# Description"
   ]
  },
  {
   "cell_type": "markdown",
   "id": "2422b873-5148-44ef-9884-0dd0fa8e69fa",
   "metadata": {
    "papermill": {
     "duration": 0.003778,
     "end_time": "2024-01-03T07:35:39.052214",
     "exception": false,
     "start_time": "2024-01-03T07:35:39.048436",
     "status": "completed"
    },
    "tags": []
   },
   "source": [
    "This notebook preprocess data about understudied genes from this article: https://doi.org/10.1371/journal.pbio.2006643"
   ]
  },
  {
   "cell_type": "markdown",
   "id": "5d4ae4df-624d-4951-917c-880462cfb658",
   "metadata": {
    "papermill": {
     "duration": 0.003594,
     "end_time": "2024-01-03T07:35:39.059451",
     "exception": false,
     "start_time": "2024-01-03T07:35:39.055857",
     "status": "completed"
    },
    "tags": []
   },
   "source": [
    "# Modules"
   ]
  },
  {
   "cell_type": "code",
   "execution_count": 1,
   "id": "2dcd0e52-236a-44cd-9cd9-71cca1232338",
   "metadata": {
    "execution": {
     "iopub.execute_input": "2024-01-03T07:35:39.074499Z",
     "iopub.status.busy": "2024-01-03T07:35:39.074272Z",
     "iopub.status.idle": "2024-01-03T07:35:39.300397Z",
     "shell.execute_reply": "2024-01-03T07:35:39.299822Z"
    },
    "papermill": {
     "duration": 0.236214,
     "end_time": "2024-01-03T07:35:39.302503",
     "exception": false,
     "start_time": "2024-01-03T07:35:39.066289",
     "status": "completed"
    },
    "tags": []
   },
   "outputs": [],
   "source": [
    "import pandas as pd\n",
    "\n",
    "from ccc import conf"
   ]
  },
  {
   "cell_type": "markdown",
   "id": "e9ef3211-8d35-4b4b-be45-2de384b6fdee",
   "metadata": {
    "papermill": {
     "duration": 0.007517,
     "end_time": "2024-01-03T07:35:39.318086",
     "exception": false,
     "start_time": "2024-01-03T07:35:39.310569",
     "status": "completed"
    },
    "tags": []
   },
   "source": [
    "# Settings"
   ]
  },
  {
   "cell_type": "code",
   "execution_count": null,
   "id": "3e9781c8-faf2-41ec-a5c3-ab84dec6a7fa",
   "metadata": {
    "papermill": {
     "duration": 0.007397,
     "end_time": "2024-01-03T07:35:39.332967",
     "exception": false,
     "start_time": "2024-01-03T07:35:39.325570",
     "status": "completed"
    },
    "tags": []
   },
   "outputs": [],
   "source": []
  },
  {
   "cell_type": "markdown",
   "id": "649a237d-595e-4bd7-a607-7c1773b36cb5",
   "metadata": {
    "papermill": {
     "duration": 0.007373,
     "end_time": "2024-01-03T07:35:39.347821",
     "exception": false,
     "start_time": "2024-01-03T07:35:39.340448",
     "status": "completed"
    },
    "tags": []
   },
   "source": [
    "# Paths"
   ]
  },
  {
   "cell_type": "code",
   "execution_count": 2,
   "id": "f869a719-5302-4c5b-b496-0878617ea3d3",
   "metadata": {
    "execution": {
     "iopub.execute_input": "2024-01-03T07:35:39.364318Z",
     "iopub.status.busy": "2024-01-03T07:35:39.363768Z",
     "iopub.status.idle": "2024-01-03T07:35:39.370299Z",
     "shell.execute_reply": "2024-01-03T07:35:39.369958Z"
    },
    "papermill": {
     "duration": 0.016457,
     "end_time": "2024-01-03T07:35:39.371778",
     "exception": false,
     "start_time": "2024-01-03T07:35:39.355321",
     "status": "completed"
    },
    "tags": []
   },
   "outputs": [
    {
     "data": {
      "text/plain": [
       "PosixPath('/opt/data/data/understudied_genes')"
      ]
     },
     "metadata": {},
     "output_type": "display_data"
    }
   ],
   "source": [
    "OUTPUT_DIR = conf.UNDERSTUDIED_GENES_ARTICLE[\"DATA_DIR\"]\n",
    "OUTPUT_DIR.mkdir(parents=True, exist_ok=True)\n",
    "display(OUTPUT_DIR)"
   ]
  },
  {
   "cell_type": "markdown",
   "id": "35453032-07b1-4e68-9f65-f8ec0d0ebcd1",
   "metadata": {
    "papermill": {
     "duration": 0.007464,
     "end_time": "2024-01-03T07:35:39.387064",
     "exception": false,
     "start_time": "2024-01-03T07:35:39.379600",
     "status": "completed"
    },
    "tags": []
   },
   "source": [
    "# Load data"
   ]
  },
  {
   "cell_type": "markdown",
   "id": "271ea7bc-db16-450a-b8b9-acc476cbc86f",
   "metadata": {
    "papermill": {
     "duration": 0.003675,
     "end_time": "2024-01-03T07:35:39.397186",
     "exception": false,
     "start_time": "2024-01-03T07:35:39.393511",
     "status": "completed"
    },
    "tags": []
   },
   "source": [
    "## S1 Data"
   ]
  },
  {
   "cell_type": "code",
   "execution_count": 3,
   "id": "8a64252f-9b64-4bd1-8d46-b206ab55ba7b",
   "metadata": {
    "execution": {
     "iopub.execute_input": "2024-01-03T07:35:39.405905Z",
     "iopub.status.busy": "2024-01-03T07:35:39.405653Z",
     "iopub.status.idle": "2024-01-03T07:35:39.946856Z",
     "shell.execute_reply": "2024-01-03T07:35:39.946492Z"
    },
    "papermill": {
     "duration": 0.547098,
     "end_time": "2024-01-03T07:35:39.948307",
     "exception": false,
     "start_time": "2024-01-03T07:35:39.401209",
     "status": "completed"
    },
    "tags": []
   },
   "outputs": [],
   "source": [
    "s1_data_1a = pd.read_excel(\n",
    "    conf.UNDERSTUDIED_GENES_ARTICLE[\"S1_DATA_FILE\"], sheet_name=\"1A\"\n",
    ")"
   ]
  },
  {
   "cell_type": "code",
   "execution_count": 4,
   "id": "e0ed6724-a0e1-458a-b30e-95a3e90f4aa4",
   "metadata": {
    "execution": {
     "iopub.execute_input": "2024-01-03T07:35:39.963479Z",
     "iopub.status.busy": "2024-01-03T07:35:39.963382Z",
     "iopub.status.idle": "2024-01-03T07:35:39.966481Z",
     "shell.execute_reply": "2024-01-03T07:35:39.966128Z"
    },
    "papermill": {
     "duration": 0.014803,
     "end_time": "2024-01-03T07:35:39.967228",
     "exception": false,
     "start_time": "2024-01-03T07:35:39.952425",
     "status": "completed"
    },
    "tags": []
   },
   "outputs": [
    {
     "data": {
      "text/plain": [
       "(12948, 3)"
      ]
     },
     "execution_count": 4,
     "metadata": {},
     "output_type": "execute_result"
    }
   ],
   "source": [
    "s1_data_1a.shape"
   ]
  },
  {
   "cell_type": "code",
   "execution_count": 5,
   "id": "fe67999f-1db0-4fcd-b88b-421739554133",
   "metadata": {
    "execution": {
     "iopub.execute_input": "2024-01-03T07:35:39.975370Z",
     "iopub.status.busy": "2024-01-03T07:35:39.975271Z",
     "iopub.status.idle": "2024-01-03T07:35:39.981183Z",
     "shell.execute_reply": "2024-01-03T07:35:39.980837Z"
    },
    "papermill": {
     "duration": 0.010735,
     "end_time": "2024-01-03T07:35:39.981868",
     "exception": false,
     "start_time": "2024-01-03T07:35:39.971133",
     "status": "completed"
    },
    "tags": []
   },
   "outputs": [
    {
     "data": {
      "text/html": [
       "<div>\n",
       "<style scoped>\n",
       "    .dataframe tbody tr th:only-of-type {\n",
       "        vertical-align: middle;\n",
       "    }\n",
       "\n",
       "    .dataframe tbody tr th {\n",
       "        vertical-align: top;\n",
       "    }\n",
       "\n",
       "    .dataframe thead th {\n",
       "        text-align: right;\n",
       "    }\n",
       "</style>\n",
       "<table border=\"1\" class=\"dataframe\">\n",
       "  <thead>\n",
       "    <tr style=\"text-align: right;\">\n",
       "      <th></th>\n",
       "      <th>gene_ncbi</th>\n",
       "      <th>target</th>\n",
       "      <th>predicted</th>\n",
       "    </tr>\n",
       "  </thead>\n",
       "  <tbody>\n",
       "    <tr>\n",
       "      <th>0</th>\n",
       "      <td>1</td>\n",
       "      <td>1.447158</td>\n",
       "      <td>1.852724</td>\n",
       "    </tr>\n",
       "    <tr>\n",
       "      <th>1</th>\n",
       "      <td>10</td>\n",
       "      <td>2.786041</td>\n",
       "      <td>1.300820</td>\n",
       "    </tr>\n",
       "    <tr>\n",
       "      <th>2</th>\n",
       "      <td>13</td>\n",
       "      <td>1.301030</td>\n",
       "      <td>1.638264</td>\n",
       "    </tr>\n",
       "    <tr>\n",
       "      <th>3</th>\n",
       "      <td>14</td>\n",
       "      <td>1.462398</td>\n",
       "      <td>1.663359</td>\n",
       "    </tr>\n",
       "    <tr>\n",
       "      <th>4</th>\n",
       "      <td>15</td>\n",
       "      <td>1.505150</td>\n",
       "      <td>0.837965</td>\n",
       "    </tr>\n",
       "  </tbody>\n",
       "</table>\n",
       "</div>"
      ],
      "text/plain": [
       "   gene_ncbi    target  predicted\n",
       "0          1  1.447158   1.852724\n",
       "1         10  2.786041   1.300820\n",
       "2         13  1.301030   1.638264\n",
       "3         14  1.462398   1.663359\n",
       "4         15  1.505150   0.837965"
      ]
     },
     "execution_count": 5,
     "metadata": {},
     "output_type": "execute_result"
    }
   ],
   "source": [
    "s1_data_1a.head()"
   ]
  },
  {
   "cell_type": "code",
   "execution_count": 6,
   "id": "db336baf-4ed2-4e01-9e4b-57f7e2de4397",
   "metadata": {
    "execution": {
     "iopub.execute_input": "2024-01-03T07:35:39.990371Z",
     "iopub.status.busy": "2024-01-03T07:35:39.990106Z",
     "iopub.status.idle": "2024-01-03T07:35:39.992898Z",
     "shell.execute_reply": "2024-01-03T07:35:39.992525Z"
    },
    "papermill": {
     "duration": 0.007735,
     "end_time": "2024-01-03T07:35:39.993619",
     "exception": false,
     "start_time": "2024-01-03T07:35:39.985884",
     "status": "completed"
    },
    "tags": []
   },
   "outputs": [],
   "source": [
    "s1_data_1a = s1_data_1a.assign(diff=s1_data_1a[\"predicted\"] - s1_data_1a[\"target\"])"
   ]
  },
  {
   "cell_type": "code",
   "execution_count": 7,
   "id": "f9553a9c-2404-4c90-9cf8-24aed5039a77",
   "metadata": {
    "execution": {
     "iopub.execute_input": "2024-01-03T07:35:40.001877Z",
     "iopub.status.busy": "2024-01-03T07:35:40.001794Z",
     "iopub.status.idle": "2024-01-03T07:35:40.004463Z",
     "shell.execute_reply": "2024-01-03T07:35:40.004104Z"
    },
    "papermill": {
     "duration": 0.007628,
     "end_time": "2024-01-03T07:35:40.005221",
     "exception": false,
     "start_time": "2024-01-03T07:35:39.997593",
     "status": "completed"
    },
    "tags": []
   },
   "outputs": [],
   "source": [
    "s1_data_1a = s1_data_1a.set_index(\"gene_ncbi\")"
   ]
  },
  {
   "cell_type": "code",
   "execution_count": 8,
   "id": "f234b357-03f2-4623-890a-ff193bdca13b",
   "metadata": {
    "execution": {
     "iopub.execute_input": "2024-01-03T07:35:40.013569Z",
     "iopub.status.busy": "2024-01-03T07:35:40.013484Z",
     "iopub.status.idle": "2024-01-03T07:35:40.017955Z",
     "shell.execute_reply": "2024-01-03T07:35:40.017611Z"
    },
    "papermill": {
     "duration": 0.009426,
     "end_time": "2024-01-03T07:35:40.018650",
     "exception": false,
     "start_time": "2024-01-03T07:35:40.009224",
     "status": "completed"
    },
    "tags": []
   },
   "outputs": [
    {
     "data": {
      "text/html": [
       "<div>\n",
       "<style scoped>\n",
       "    .dataframe tbody tr th:only-of-type {\n",
       "        vertical-align: middle;\n",
       "    }\n",
       "\n",
       "    .dataframe tbody tr th {\n",
       "        vertical-align: top;\n",
       "    }\n",
       "\n",
       "    .dataframe thead th {\n",
       "        text-align: right;\n",
       "    }\n",
       "</style>\n",
       "<table border=\"1\" class=\"dataframe\">\n",
       "  <thead>\n",
       "    <tr style=\"text-align: right;\">\n",
       "      <th></th>\n",
       "      <th>target</th>\n",
       "      <th>predicted</th>\n",
       "      <th>diff</th>\n",
       "    </tr>\n",
       "    <tr>\n",
       "      <th>gene_ncbi</th>\n",
       "      <th></th>\n",
       "      <th></th>\n",
       "      <th></th>\n",
       "    </tr>\n",
       "  </thead>\n",
       "  <tbody>\n",
       "    <tr>\n",
       "      <th>1</th>\n",
       "      <td>1.447158</td>\n",
       "      <td>1.852724</td>\n",
       "      <td>0.405566</td>\n",
       "    </tr>\n",
       "    <tr>\n",
       "      <th>10</th>\n",
       "      <td>2.786041</td>\n",
       "      <td>1.300820</td>\n",
       "      <td>-1.485221</td>\n",
       "    </tr>\n",
       "    <tr>\n",
       "      <th>13</th>\n",
       "      <td>1.301030</td>\n",
       "      <td>1.638264</td>\n",
       "      <td>0.337234</td>\n",
       "    </tr>\n",
       "    <tr>\n",
       "      <th>14</th>\n",
       "      <td>1.462398</td>\n",
       "      <td>1.663359</td>\n",
       "      <td>0.200961</td>\n",
       "    </tr>\n",
       "    <tr>\n",
       "      <th>15</th>\n",
       "      <td>1.505150</td>\n",
       "      <td>0.837965</td>\n",
       "      <td>-0.667185</td>\n",
       "    </tr>\n",
       "  </tbody>\n",
       "</table>\n",
       "</div>"
      ],
      "text/plain": [
       "             target  predicted      diff\n",
       "gene_ncbi                               \n",
       "1          1.447158   1.852724  0.405566\n",
       "10         2.786041   1.300820 -1.485221\n",
       "13         1.301030   1.638264  0.337234\n",
       "14         1.462398   1.663359  0.200961\n",
       "15         1.505150   0.837965 -0.667185"
      ]
     },
     "execution_count": 8,
     "metadata": {},
     "output_type": "execute_result"
    }
   ],
   "source": [
    "s1_data_1a.head()"
   ]
  },
  {
   "cell_type": "code",
   "execution_count": 9,
   "id": "e4839a37-55c3-44a4-aad1-4700a3428aec",
   "metadata": {
    "execution": {
     "iopub.execute_input": "2024-01-03T07:35:40.027474Z",
     "iopub.status.busy": "2024-01-03T07:35:40.027228Z",
     "iopub.status.idle": "2024-01-03T07:35:40.029286Z",
     "shell.execute_reply": "2024-01-03T07:35:40.028948Z"
    },
    "papermill": {
     "duration": 0.007235,
     "end_time": "2024-01-03T07:35:40.030035",
     "exception": false,
     "start_time": "2024-01-03T07:35:40.022800",
     "status": "completed"
    },
    "tags": []
   },
   "outputs": [],
   "source": [
    "assert s1_data_1a.index.is_unique"
   ]
  },
  {
   "cell_type": "markdown",
   "id": "b71f3d4d-cff0-4868-bf01-e400e7473f18",
   "metadata": {
    "papermill": {
     "duration": 0.023871,
     "end_time": "2024-01-03T07:35:40.058046",
     "exception": false,
     "start_time": "2024-01-03T07:35:40.034175",
     "status": "completed"
    },
    "tags": []
   },
   "source": [
    "## S3 Table"
   ]
  },
  {
   "cell_type": "code",
   "execution_count": 10,
   "id": "f00d3bab-20b4-489f-bbe8-ef449eda9488",
   "metadata": {
    "execution": {
     "iopub.execute_input": "2024-01-03T07:35:40.066912Z",
     "iopub.status.busy": "2024-01-03T07:35:40.066816Z",
     "iopub.status.idle": "2024-01-03T07:35:41.018394Z",
     "shell.execute_reply": "2024-01-03T07:35:41.017972Z"
    },
    "papermill": {
     "duration": 0.957722,
     "end_time": "2024-01-03T07:35:41.020014",
     "exception": false,
     "start_time": "2024-01-03T07:35:40.062292",
     "status": "completed"
    },
    "tags": []
   },
   "outputs": [],
   "source": [
    "s3_table = pd.read_excel(conf.UNDERSTUDIED_GENES_ARTICLE[\"S3_TABLE_FILE\"])"
   ]
  },
  {
   "cell_type": "code",
   "execution_count": 11,
   "id": "5b14ae8b-2d4a-4c51-a72c-1072c0729af9",
   "metadata": {
    "execution": {
     "iopub.execute_input": "2024-01-03T07:35:41.037537Z",
     "iopub.status.busy": "2024-01-03T07:35:41.037434Z",
     "iopub.status.idle": "2024-01-03T07:35:41.040426Z",
     "shell.execute_reply": "2024-01-03T07:35:41.040075Z"
    },
    "papermill": {
     "duration": 0.014779,
     "end_time": "2024-01-03T07:35:41.041185",
     "exception": false,
     "start_time": "2024-01-03T07:35:41.026406",
     "status": "completed"
    },
    "tags": []
   },
   "outputs": [
    {
     "data": {
      "text/plain": [
       "(15056, 6)"
      ]
     },
     "execution_count": 11,
     "metadata": {},
     "output_type": "execute_result"
    }
   ],
   "source": [
    "s3_table.shape"
   ]
  },
  {
   "cell_type": "code",
   "execution_count": 12,
   "id": "d8f632c3-2cb4-464e-a8ad-8a015a81f7bd",
   "metadata": {
    "execution": {
     "iopub.execute_input": "2024-01-03T07:35:41.050000Z",
     "iopub.status.busy": "2024-01-03T07:35:41.049904Z",
     "iopub.status.idle": "2024-01-03T07:35:41.055149Z",
     "shell.execute_reply": "2024-01-03T07:35:41.054808Z"
    },
    "papermill": {
     "duration": 0.010491,
     "end_time": "2024-01-03T07:35:41.055874",
     "exception": false,
     "start_time": "2024-01-03T07:35:41.045383",
     "status": "completed"
    },
    "tags": []
   },
   "outputs": [
    {
     "data": {
      "text/html": [
       "<div>\n",
       "<style scoped>\n",
       "    .dataframe tbody tr th:only-of-type {\n",
       "        vertical-align: middle;\n",
       "    }\n",
       "\n",
       "    .dataframe tbody tr th {\n",
       "        vertical-align: top;\n",
       "    }\n",
       "\n",
       "    .dataframe thead th {\n",
       "        text-align: right;\n",
       "    }\n",
       "</style>\n",
       "<table border=\"1\" class=\"dataframe\">\n",
       "  <thead>\n",
       "    <tr style=\"text-align: right;\">\n",
       "      <th></th>\n",
       "      <th>gene_ncbi</th>\n",
       "      <th>x</th>\n",
       "      <th>y</th>\n",
       "      <th>papers</th>\n",
       "      <th>symbol_ncbi</th>\n",
       "      <th>gene_ensembl</th>\n",
       "    </tr>\n",
       "  </thead>\n",
       "  <tbody>\n",
       "    <tr>\n",
       "      <th>0</th>\n",
       "      <td>1</td>\n",
       "      <td>31.806663</td>\n",
       "      <td>-14.351444</td>\n",
       "      <td>28</td>\n",
       "      <td>A1BG</td>\n",
       "      <td>ENSG00000121410</td>\n",
       "    </tr>\n",
       "    <tr>\n",
       "      <th>1</th>\n",
       "      <td>9</td>\n",
       "      <td>19.067383</td>\n",
       "      <td>-60.613003</td>\n",
       "      <td>211</td>\n",
       "      <td>NAT1</td>\n",
       "      <td>ENSG00000171428</td>\n",
       "    </tr>\n",
       "    <tr>\n",
       "      <th>2</th>\n",
       "      <td>10</td>\n",
       "      <td>35.621129</td>\n",
       "      <td>26.070237</td>\n",
       "      <td>611</td>\n",
       "      <td>NAT2</td>\n",
       "      <td>ENSG00000156006</td>\n",
       "    </tr>\n",
       "    <tr>\n",
       "      <th>3</th>\n",
       "      <td>13</td>\n",
       "      <td>55.748198</td>\n",
       "      <td>-33.739022</td>\n",
       "      <td>20</td>\n",
       "      <td>AADAC</td>\n",
       "      <td>ENSG00000114771</td>\n",
       "    </tr>\n",
       "    <tr>\n",
       "      <th>4</th>\n",
       "      <td>14</td>\n",
       "      <td>-62.698633</td>\n",
       "      <td>-49.267867</td>\n",
       "      <td>29</td>\n",
       "      <td>AAMP</td>\n",
       "      <td>ENSG00000127837</td>\n",
       "    </tr>\n",
       "  </tbody>\n",
       "</table>\n",
       "</div>"
      ],
      "text/plain": [
       "   gene_ncbi          x          y  papers symbol_ncbi     gene_ensembl\n",
       "0          1  31.806663 -14.351444      28        A1BG  ENSG00000121410\n",
       "1          9  19.067383 -60.613003     211        NAT1  ENSG00000171428\n",
       "2         10  35.621129  26.070237     611        NAT2  ENSG00000156006\n",
       "3         13  55.748198 -33.739022      20       AADAC  ENSG00000114771\n",
       "4         14 -62.698633 -49.267867      29        AAMP  ENSG00000127837"
      ]
     },
     "execution_count": 12,
     "metadata": {},
     "output_type": "execute_result"
    }
   ],
   "source": [
    "s3_table.head()"
   ]
  },
  {
   "cell_type": "code",
   "execution_count": 13,
   "id": "832366bf-bc32-4a71-b00f-47027087153c",
   "metadata": {
    "execution": {
     "iopub.execute_input": "2024-01-03T07:35:41.064973Z",
     "iopub.status.busy": "2024-01-03T07:35:41.064877Z",
     "iopub.status.idle": "2024-01-03T07:35:41.067604Z",
     "shell.execute_reply": "2024-01-03T07:35:41.067249Z"
    },
    "papermill": {
     "duration": 0.008219,
     "end_time": "2024-01-03T07:35:41.068418",
     "exception": false,
     "start_time": "2024-01-03T07:35:41.060199",
     "status": "completed"
    },
    "tags": []
   },
   "outputs": [],
   "source": [
    "s3_table = s3_table.set_index(\"gene_ncbi\")"
   ]
  },
  {
   "cell_type": "code",
   "execution_count": 14,
   "id": "3a508ad3-6979-4f46-af69-bcdade8a0817",
   "metadata": {
    "execution": {
     "iopub.execute_input": "2024-01-03T07:35:41.077652Z",
     "iopub.status.busy": "2024-01-03T07:35:41.077532Z",
     "iopub.status.idle": "2024-01-03T07:35:41.084171Z",
     "shell.execute_reply": "2024-01-03T07:35:41.083677Z"
    },
    "papermill": {
     "duration": 0.012204,
     "end_time": "2024-01-03T07:35:41.084989",
     "exception": false,
     "start_time": "2024-01-03T07:35:41.072785",
     "status": "completed"
    },
    "tags": []
   },
   "outputs": [
    {
     "data": {
      "text/html": [
       "<div>\n",
       "<style scoped>\n",
       "    .dataframe tbody tr th:only-of-type {\n",
       "        vertical-align: middle;\n",
       "    }\n",
       "\n",
       "    .dataframe tbody tr th {\n",
       "        vertical-align: top;\n",
       "    }\n",
       "\n",
       "    .dataframe thead th {\n",
       "        text-align: right;\n",
       "    }\n",
       "</style>\n",
       "<table border=\"1\" class=\"dataframe\">\n",
       "  <thead>\n",
       "    <tr style=\"text-align: right;\">\n",
       "      <th></th>\n",
       "      <th>x</th>\n",
       "      <th>y</th>\n",
       "      <th>papers</th>\n",
       "      <th>symbol_ncbi</th>\n",
       "      <th>gene_ensembl</th>\n",
       "    </tr>\n",
       "    <tr>\n",
       "      <th>gene_ncbi</th>\n",
       "      <th></th>\n",
       "      <th></th>\n",
       "      <th></th>\n",
       "      <th></th>\n",
       "      <th></th>\n",
       "    </tr>\n",
       "  </thead>\n",
       "  <tbody>\n",
       "    <tr>\n",
       "      <th>1</th>\n",
       "      <td>31.806663</td>\n",
       "      <td>-14.351444</td>\n",
       "      <td>28</td>\n",
       "      <td>A1BG</td>\n",
       "      <td>ENSG00000121410</td>\n",
       "    </tr>\n",
       "    <tr>\n",
       "      <th>9</th>\n",
       "      <td>19.067383</td>\n",
       "      <td>-60.613003</td>\n",
       "      <td>211</td>\n",
       "      <td>NAT1</td>\n",
       "      <td>ENSG00000171428</td>\n",
       "    </tr>\n",
       "    <tr>\n",
       "      <th>10</th>\n",
       "      <td>35.621129</td>\n",
       "      <td>26.070237</td>\n",
       "      <td>611</td>\n",
       "      <td>NAT2</td>\n",
       "      <td>ENSG00000156006</td>\n",
       "    </tr>\n",
       "    <tr>\n",
       "      <th>13</th>\n",
       "      <td>55.748198</td>\n",
       "      <td>-33.739022</td>\n",
       "      <td>20</td>\n",
       "      <td>AADAC</td>\n",
       "      <td>ENSG00000114771</td>\n",
       "    </tr>\n",
       "    <tr>\n",
       "      <th>14</th>\n",
       "      <td>-62.698633</td>\n",
       "      <td>-49.267867</td>\n",
       "      <td>29</td>\n",
       "      <td>AAMP</td>\n",
       "      <td>ENSG00000127837</td>\n",
       "    </tr>\n",
       "  </tbody>\n",
       "</table>\n",
       "</div>"
      ],
      "text/plain": [
       "                   x          y  papers symbol_ncbi     gene_ensembl\n",
       "gene_ncbi                                                           \n",
       "1          31.806663 -14.351444      28        A1BG  ENSG00000121410\n",
       "9          19.067383 -60.613003     211        NAT1  ENSG00000171428\n",
       "10         35.621129  26.070237     611        NAT2  ENSG00000156006\n",
       "13         55.748198 -33.739022      20       AADAC  ENSG00000114771\n",
       "14        -62.698633 -49.267867      29        AAMP  ENSG00000127837"
      ]
     },
     "execution_count": 14,
     "metadata": {},
     "output_type": "execute_result"
    }
   ],
   "source": [
    "s3_table.head()"
   ]
  },
  {
   "cell_type": "code",
   "execution_count": 15,
   "id": "08dfc924-dc4c-4f9c-a98f-baa13e1eb32c",
   "metadata": {
    "execution": {
     "iopub.execute_input": "2024-01-03T07:35:41.094797Z",
     "iopub.status.busy": "2024-01-03T07:35:41.094410Z",
     "iopub.status.idle": "2024-01-03T07:35:41.097216Z",
     "shell.execute_reply": "2024-01-03T07:35:41.096743Z"
    },
    "papermill": {
     "duration": 0.008505,
     "end_time": "2024-01-03T07:35:41.098005",
     "exception": false,
     "start_time": "2024-01-03T07:35:41.089500",
     "status": "completed"
    },
    "tags": []
   },
   "outputs": [],
   "source": [
    "assert s3_table.index.is_unique"
   ]
  },
  {
   "cell_type": "markdown",
   "id": "3cebfe78-2921-42f9-b30a-ab054b0e5ff9",
   "metadata": {
    "papermill": {
     "duration": 0.00437,
     "end_time": "2024-01-03T07:35:41.106850",
     "exception": false,
     "start_time": "2024-01-03T07:35:41.102480",
     "status": "completed"
    },
    "tags": []
   },
   "source": [
    "## Get gene symbol to Entrez ID map"
   ]
  },
  {
   "cell_type": "code",
   "execution_count": 16,
   "id": "06ca8259-b4e1-45b5-8ffe-1ec767216aa1",
   "metadata": {
    "execution": {
     "iopub.execute_input": "2024-01-03T07:35:41.116634Z",
     "iopub.status.busy": "2024-01-03T07:35:41.116314Z",
     "iopub.status.idle": "2024-01-03T07:35:41.131318Z",
     "shell.execute_reply": "2024-01-03T07:35:41.130817Z"
    },
    "papermill": {
     "duration": 0.020912,
     "end_time": "2024-01-03T07:35:41.132230",
     "exception": false,
     "start_time": "2024-01-03T07:35:41.111318",
     "status": "completed"
    },
    "tags": []
   },
   "outputs": [],
   "source": [
    "gene_id_map = (\n",
    "    s3_table.reset_index()[[\"symbol_ncbi\", \"gene_ncbi\"]]\n",
    "    .set_index(\"symbol_ncbi\")\n",
    "    .squeeze()\n",
    "    .to_dict()\n",
    ")"
   ]
  },
  {
   "cell_type": "code",
   "execution_count": 17,
   "id": "f7f02f7e-8e52-47f9-a1a7-5be9741493cd",
   "metadata": {
    "execution": {
     "iopub.execute_input": "2024-01-03T07:35:41.141953Z",
     "iopub.status.busy": "2024-01-03T07:35:41.141799Z",
     "iopub.status.idle": "2024-01-03T07:35:41.144548Z",
     "shell.execute_reply": "2024-01-03T07:35:41.144091Z"
    },
    "papermill": {
     "duration": 0.008461,
     "end_time": "2024-01-03T07:35:41.145271",
     "exception": false,
     "start_time": "2024-01-03T07:35:41.136810",
     "status": "completed"
    },
    "tags": []
   },
   "outputs": [],
   "source": [
    "assert gene_id_map[\"SDS\"] == 10993"
   ]
  },
  {
   "cell_type": "markdown",
   "id": "0025ee2c-3398-4954-bca0-22e339bcb228",
   "metadata": {
    "papermill": {
     "duration": 0.004443,
     "end_time": "2024-01-03T07:35:41.154254",
     "exception": false,
     "start_time": "2024-01-03T07:35:41.149811",
     "status": "completed"
    },
    "tags": []
   },
   "source": [
    "# Save"
   ]
  },
  {
   "cell_type": "code",
   "execution_count": 18,
   "id": "3e1c4a88-fb7c-47fd-8984-79320152e0af",
   "metadata": {
    "execution": {
     "iopub.execute_input": "2024-01-03T07:35:41.164324Z",
     "iopub.status.busy": "2024-01-03T07:35:41.163842Z",
     "iopub.status.idle": "2024-01-03T07:35:41.167994Z",
     "shell.execute_reply": "2024-01-03T07:35:41.167547Z"
    },
    "papermill": {
     "duration": 0.010057,
     "end_time": "2024-01-03T07:35:41.168869",
     "exception": false,
     "start_time": "2024-01-03T07:35:41.158812",
     "status": "completed"
    },
    "tags": []
   },
   "outputs": [],
   "source": [
    "s1_data_1a.to_pickle(OUTPUT_DIR / \"s1_data_1a.pkl\")"
   ]
  },
  {
   "cell_type": "code",
   "execution_count": 19,
   "id": "c2ecadbd-73f1-40d4-81c6-d9ab835433c4",
   "metadata": {
    "execution": {
     "iopub.execute_input": "2024-01-03T07:35:41.178638Z",
     "iopub.status.busy": "2024-01-03T07:35:41.178486Z",
     "iopub.status.idle": "2024-01-03T07:35:41.189123Z",
     "shell.execute_reply": "2024-01-03T07:35:41.188623Z"
    },
    "papermill": {
     "duration": 0.016478,
     "end_time": "2024-01-03T07:35:41.189920",
     "exception": false,
     "start_time": "2024-01-03T07:35:41.173442",
     "status": "completed"
    },
    "tags": []
   },
   "outputs": [],
   "source": [
    "s3_table.to_pickle(OUTPUT_DIR / \"s3_table.pkl\")"
   ]
  },
  {
   "cell_type": "markdown",
   "id": "a64a1881-e46b-4dde-8735-e5bc04e95ab1",
   "metadata": {
    "papermill": {
     "duration": 0.004451,
     "end_time": "2024-01-03T07:35:41.198962",
     "exception": false,
     "start_time": "2024-01-03T07:35:41.194511",
     "status": "completed"
    },
    "tags": []
   },
   "source": [
    "# Test with some specific genes"
   ]
  },
  {
   "cell_type": "markdown",
   "id": "4d1db8ff-cd7f-4147-b28b-4f3363ed533f",
   "metadata": {
    "papermill": {
     "duration": 0.004469,
     "end_time": "2024-01-03T07:35:41.208008",
     "exception": false,
     "start_time": "2024-01-03T07:35:41.203539",
     "status": "completed"
    },
    "tags": []
   },
   "source": [
    "## SDS"
   ]
  },
  {
   "cell_type": "code",
   "execution_count": 20,
   "id": "a831c8f0-6fb0-4556-aa24-70648327810e",
   "metadata": {
    "execution": {
     "iopub.execute_input": "2024-01-03T07:35:41.218003Z",
     "iopub.status.busy": "2024-01-03T07:35:41.217839Z",
     "iopub.status.idle": "2024-01-03T07:35:41.221679Z",
     "shell.execute_reply": "2024-01-03T07:35:41.221226Z"
    },
    "papermill": {
     "duration": 0.009803,
     "end_time": "2024-01-03T07:35:41.222421",
     "exception": false,
     "start_time": "2024-01-03T07:35:41.212618",
     "status": "completed"
    },
    "tags": []
   },
   "outputs": [
    {
     "data": {
      "text/plain": [
       "10993"
      ]
     },
     "metadata": {},
     "output_type": "display_data"
    }
   ],
   "source": [
    "_gene_symbol = \"SDS\"\n",
    "_gene_id = gene_id_map[_gene_symbol]\n",
    "display(_gene_id)"
   ]
  },
  {
   "cell_type": "code",
   "execution_count": 21,
   "id": "48a08140-6e9b-474d-81a6-6cccc0578b73",
   "metadata": {
    "execution": {
     "iopub.execute_input": "2024-01-03T07:35:41.232616Z",
     "iopub.status.busy": "2024-01-03T07:35:41.232198Z",
     "iopub.status.idle": "2024-01-03T07:35:41.236969Z",
     "shell.execute_reply": "2024-01-03T07:35:41.236454Z"
    },
    "papermill": {
     "duration": 0.010707,
     "end_time": "2024-01-03T07:35:41.237805",
     "exception": false,
     "start_time": "2024-01-03T07:35:41.227098",
     "status": "completed"
    },
    "tags": []
   },
   "outputs": [
    {
     "data": {
      "text/plain": [
       "target       1.176091\n",
       "predicted    1.631851\n",
       "diff         0.455760\n",
       "Name: 10993, dtype: float64"
      ]
     },
     "execution_count": 21,
     "metadata": {},
     "output_type": "execute_result"
    }
   ],
   "source": [
    "s1_data_1a.loc[_gene_id]"
   ]
  },
  {
   "cell_type": "markdown",
   "id": "cd134d5b-3b8a-4233-9c98-62a2cbde0fd1",
   "metadata": {
    "papermill": {
     "duration": 0.004713,
     "end_time": "2024-01-03T07:35:41.247369",
     "exception": false,
     "start_time": "2024-01-03T07:35:41.242656",
     "status": "completed"
    },
    "tags": []
   },
   "source": [
    "Predicted is higher than observed."
   ]
  },
  {
   "cell_type": "code",
   "execution_count": 22,
   "id": "ad617c42-9142-4e92-88c0-19f1e727f829",
   "metadata": {
    "execution": {
     "iopub.execute_input": "2024-01-03T07:35:41.257910Z",
     "iopub.status.busy": "2024-01-03T07:35:41.257627Z",
     "iopub.status.idle": "2024-01-03T07:35:41.261386Z",
     "shell.execute_reply": "2024-01-03T07:35:41.261006Z"
    },
    "papermill": {
     "duration": 0.009967,
     "end_time": "2024-01-03T07:35:41.262127",
     "exception": false,
     "start_time": "2024-01-03T07:35:41.252160",
     "status": "completed"
    },
    "tags": []
   },
   "outputs": [
    {
     "data": {
      "text/plain": [
       "x                     -8.312354\n",
       "y                    -32.875472\n",
       "papers                       15\n",
       "symbol_ncbi                 SDS\n",
       "gene_ensembl    ENSG00000135094\n",
       "Name: 10993, dtype: object"
      ]
     },
     "execution_count": 22,
     "metadata": {},
     "output_type": "execute_result"
    }
   ],
   "source": [
    "s3_table.loc[_gene_id]"
   ]
  },
  {
   "cell_type": "markdown",
   "id": "cab4c733-3df4-44e5-ab63-74a19e75fe56",
   "metadata": {
    "papermill": {
     "duration": 0.004812,
     "end_time": "2024-01-03T07:35:41.271902",
     "exception": false,
     "start_time": "2024-01-03T07:35:41.267090",
     "status": "completed"
    },
    "tags": []
   },
   "source": [
    "Only 15 papers. A search in PubMed of this genes gives... it's hard to find this gene in PubMed since it overlaps with other concepts.\n",
    "But [another paper](https://doi.org/10.7554/eLife.93429.1) also identifies this gene with only 8 publications (see their data in [this GitHub repo](https://github.com/amarallab/fmug_analysis) and specifically [here](https://github.com/amarallab/fmug_analysis/blob/main/data/main_table_with_subject_counts_221116.csv))."
   ]
  },
  {
   "cell_type": "markdown",
   "id": "6a964dec-4b87-47b9-928b-61d9643f4ab1",
   "metadata": {
    "papermill": {
     "duration": 0.004773,
     "end_time": "2024-01-03T07:35:41.281617",
     "exception": false,
     "start_time": "2024-01-03T07:35:41.276844",
     "status": "completed"
    },
    "tags": []
   },
   "source": [
    "## ZDHHC12"
   ]
  },
  {
   "cell_type": "code",
   "execution_count": 23,
   "id": "0d2f5983-a572-47cd-b709-28664be71258",
   "metadata": {
    "execution": {
     "iopub.execute_input": "2024-01-03T07:35:41.292224Z",
     "iopub.status.busy": "2024-01-03T07:35:41.291828Z",
     "iopub.status.idle": "2024-01-03T07:35:41.295750Z",
     "shell.execute_reply": "2024-01-03T07:35:41.295280Z"
    },
    "papermill": {
     "duration": 0.010006,
     "end_time": "2024-01-03T07:35:41.296510",
     "exception": false,
     "start_time": "2024-01-03T07:35:41.286504",
     "status": "completed"
    },
    "tags": []
   },
   "outputs": [
    {
     "data": {
      "text/plain": [
       "84885"
      ]
     },
     "metadata": {},
     "output_type": "display_data"
    }
   ],
   "source": [
    "_gene_symbol = \"ZDHHC12\"\n",
    "_gene_id = gene_id_map[_gene_symbol]\n",
    "display(_gene_id)"
   ]
  },
  {
   "cell_type": "code",
   "execution_count": 24,
   "id": "9a211e51-57a3-4e32-ab4f-435e2048a6e7",
   "metadata": {
    "execution": {
     "iopub.execute_input": "2024-01-03T07:35:41.307245Z",
     "iopub.status.busy": "2024-01-03T07:35:41.306953Z",
     "iopub.status.idle": "2024-01-03T07:35:41.311504Z",
     "shell.execute_reply": "2024-01-03T07:35:41.311047Z"
    },
    "papermill": {
     "duration": 0.010838,
     "end_time": "2024-01-03T07:35:41.312327",
     "exception": false,
     "start_time": "2024-01-03T07:35:41.301489",
     "status": "completed"
    },
    "tags": []
   },
   "outputs": [
    {
     "data": {
      "text/plain": [
       "target       1.041393\n",
       "predicted    1.229045\n",
       "diff         0.187653\n",
       "Name: 84885, dtype: float64"
      ]
     },
     "execution_count": 24,
     "metadata": {},
     "output_type": "execute_result"
    }
   ],
   "source": [
    "s1_data_1a.loc[_gene_id]"
   ]
  },
  {
   "cell_type": "markdown",
   "id": "a2331d85-ab35-4c7a-abd7-ab984137f7b7",
   "metadata": {
    "papermill": {
     "duration": 0.004847,
     "end_time": "2024-01-03T07:35:41.322166",
     "exception": false,
     "start_time": "2024-01-03T07:35:41.317319",
     "status": "completed"
    },
    "tags": []
   },
   "source": [
    "Predicted is higher than observed."
   ]
  },
  {
   "cell_type": "code",
   "execution_count": 25,
   "id": "b096c086-8fcd-4e36-8f25-ea3d4f56f316",
   "metadata": {
    "execution": {
     "iopub.execute_input": "2024-01-03T07:35:41.333020Z",
     "iopub.status.busy": "2024-01-03T07:35:41.332686Z",
     "iopub.status.idle": "2024-01-03T07:35:41.337662Z",
     "shell.execute_reply": "2024-01-03T07:35:41.337129Z"
    },
    "papermill": {
     "duration": 0.011377,
     "end_time": "2024-01-03T07:35:41.338509",
     "exception": false,
     "start_time": "2024-01-03T07:35:41.327132",
     "status": "completed"
    },
    "tags": []
   },
   "outputs": [
    {
     "data": {
      "text/plain": [
       "x                      4.050989\n",
       "y                     -32.66591\n",
       "papers                       11\n",
       "symbol_ncbi             ZDHHC12\n",
       "gene_ensembl    ENSG00000160446\n",
       "Name: 84885, dtype: object"
      ]
     },
     "execution_count": 25,
     "metadata": {},
     "output_type": "execute_result"
    }
   ],
   "source": [
    "s3_table.loc[_gene_id]"
   ]
  },
  {
   "cell_type": "markdown",
   "id": "72422bf6-56db-4d5f-9670-e4dcea471d3c",
   "metadata": {
    "papermill": {
     "duration": 0.004906,
     "end_time": "2024-01-03T07:35:41.348436",
     "exception": false,
     "start_time": "2024-01-03T07:35:41.343530",
     "status": "completed"
    },
    "tags": []
   },
   "source": [
    "Only 11 papers."
   ]
  },
  {
   "cell_type": "markdown",
   "id": "b407cf4c-7e89-43b4-82ba-afa73295fe7c",
   "metadata": {
    "papermill": {
     "duration": 0.004945,
     "end_time": "2024-01-03T07:35:41.358408",
     "exception": false,
     "start_time": "2024-01-03T07:35:41.353463",
     "status": "completed"
    },
    "tags": []
   },
   "source": [
    "## PRSS36"
   ]
  },
  {
   "cell_type": "code",
   "execution_count": 26,
   "id": "47969811-ca02-4560-98ca-41519520cd27",
   "metadata": {
    "execution": {
     "iopub.execute_input": "2024-01-03T07:35:41.369468Z",
     "iopub.status.busy": "2024-01-03T07:35:41.369095Z",
     "iopub.status.idle": "2024-01-03T07:35:41.373326Z",
     "shell.execute_reply": "2024-01-03T07:35:41.372821Z"
    },
    "papermill": {
     "duration": 0.010626,
     "end_time": "2024-01-03T07:35:41.374095",
     "exception": false,
     "start_time": "2024-01-03T07:35:41.363469",
     "status": "completed"
    },
    "tags": []
   },
   "outputs": [
    {
     "data": {
      "text/plain": [
       "146547"
      ]
     },
     "metadata": {},
     "output_type": "display_data"
    }
   ],
   "source": [
    "_gene_symbol = \"PRSS36\"\n",
    "_gene_id = gene_id_map[_gene_symbol]\n",
    "display(_gene_id)"
   ]
  },
  {
   "cell_type": "code",
   "execution_count": 27,
   "id": "b5e080ae-3d21-4737-8678-c23f0398517e",
   "metadata": {
    "execution": {
     "iopub.execute_input": "2024-01-03T07:35:41.385276Z",
     "iopub.status.busy": "2024-01-03T07:35:41.384895Z",
     "iopub.status.idle": "2024-01-03T07:35:41.389713Z",
     "shell.execute_reply": "2024-01-03T07:35:41.389236Z"
    },
    "papermill": {
     "duration": 0.011305,
     "end_time": "2024-01-03T07:35:41.390539",
     "exception": false,
     "start_time": "2024-01-03T07:35:41.379234",
     "status": "completed"
    },
    "tags": []
   },
   "outputs": [
    {
     "data": {
      "text/plain": [
       "target       0.698970\n",
       "predicted    1.038806\n",
       "diff         0.339836\n",
       "Name: 146547, dtype: float64"
      ]
     },
     "execution_count": 27,
     "metadata": {},
     "output_type": "execute_result"
    }
   ],
   "source": [
    "s1_data_1a.loc[_gene_id]"
   ]
  },
  {
   "cell_type": "markdown",
   "id": "e72b4750-fdc1-418f-8690-2849bca97534",
   "metadata": {
    "papermill": {
     "duration": 0.00503,
     "end_time": "2024-01-03T07:35:41.400722",
     "exception": false,
     "start_time": "2024-01-03T07:35:41.395692",
     "status": "completed"
    },
    "tags": []
   },
   "source": [
    "Predicted is higher than observed."
   ]
  },
  {
   "cell_type": "code",
   "execution_count": 28,
   "id": "6f3d5bd1-b9f2-404c-9261-f47ca5daaab2",
   "metadata": {
    "execution": {
     "iopub.execute_input": "2024-01-03T07:35:41.412085Z",
     "iopub.status.busy": "2024-01-03T07:35:41.411781Z",
     "iopub.status.idle": "2024-01-03T07:35:41.416685Z",
     "shell.execute_reply": "2024-01-03T07:35:41.416197Z"
    },
    "papermill": {
     "duration": 0.011544,
     "end_time": "2024-01-03T07:35:41.417533",
     "exception": false,
     "start_time": "2024-01-03T07:35:41.405989",
     "status": "completed"
    },
    "tags": []
   },
   "outputs": [
    {
     "data": {
      "text/plain": [
       "x                     39.420575\n",
       "y                    -35.103885\n",
       "papers                        5\n",
       "symbol_ncbi              PRSS36\n",
       "gene_ensembl    ENSG00000178226\n",
       "Name: 146547, dtype: object"
      ]
     },
     "execution_count": 28,
     "metadata": {},
     "output_type": "execute_result"
    }
   ],
   "source": [
    "s3_table.loc[_gene_id]"
   ]
  },
  {
   "cell_type": "markdown",
   "id": "9d302475-04cb-4104-a660-3635d9413e1f",
   "metadata": {
    "papermill": {
     "duration": 0.005123,
     "end_time": "2024-01-03T07:35:41.427881",
     "exception": false,
     "start_time": "2024-01-03T07:35:41.422758",
     "status": "completed"
    },
    "tags": []
   },
   "source": [
    "Only 5 papers."
   ]
  },
  {
   "cell_type": "markdown",
   "id": "e537502c-6b8d-4a0d-b052-d33482b21e43",
   "metadata": {
    "papermill": {
     "duration": 0.005107,
     "end_time": "2024-01-03T07:35:41.438189",
     "exception": false,
     "start_time": "2024-01-03T07:35:41.433082",
     "status": "completed"
    },
    "tags": []
   },
   "source": [
    "## CYTIP"
   ]
  },
  {
   "cell_type": "code",
   "execution_count": 29,
   "id": "abffaed0-18db-46d0-b936-bf6658598231",
   "metadata": {
    "execution": {
     "iopub.execute_input": "2024-01-03T07:35:41.449510Z",
     "iopub.status.busy": "2024-01-03T07:35:41.449211Z",
     "iopub.status.idle": "2024-01-03T07:35:41.453193Z",
     "shell.execute_reply": "2024-01-03T07:35:41.452698Z"
    },
    "papermill": {
     "duration": 0.0106,
     "end_time": "2024-01-03T07:35:41.454006",
     "exception": false,
     "start_time": "2024-01-03T07:35:41.443406",
     "status": "completed"
    },
    "tags": []
   },
   "outputs": [
    {
     "data": {
      "text/plain": [
       "9595"
      ]
     },
     "metadata": {},
     "output_type": "display_data"
    }
   ],
   "source": [
    "_gene_symbol = \"CYTIP\"\n",
    "_gene_id = gene_id_map[_gene_symbol]\n",
    "display(_gene_id)"
   ]
  },
  {
   "cell_type": "code",
   "execution_count": 30,
   "id": "4a7eb164-b2fc-41ad-b16f-45f7ca57fa11",
   "metadata": {
    "execution": {
     "iopub.execute_input": "2024-01-03T07:35:41.465583Z",
     "iopub.status.busy": "2024-01-03T07:35:41.465190Z",
     "iopub.status.idle": "2024-01-03T07:35:41.470089Z",
     "shell.execute_reply": "2024-01-03T07:35:41.469618Z"
    },
    "papermill": {
     "duration": 0.01154,
     "end_time": "2024-01-03T07:35:41.470898",
     "exception": false,
     "start_time": "2024-01-03T07:35:41.459358",
     "status": "completed"
    },
    "tags": []
   },
   "outputs": [
    {
     "data": {
      "text/plain": [
       "target       1.301030\n",
       "predicted    1.631478\n",
       "diff         0.330448\n",
       "Name: 9595, dtype: float64"
      ]
     },
     "execution_count": 30,
     "metadata": {},
     "output_type": "execute_result"
    }
   ],
   "source": [
    "s1_data_1a.loc[_gene_id]"
   ]
  },
  {
   "cell_type": "code",
   "execution_count": 31,
   "id": "d48f6bb9-f8b9-4b2e-b41b-8d6afb21c294",
   "metadata": {
    "execution": {
     "iopub.execute_input": "2024-01-03T07:35:41.482476Z",
     "iopub.status.busy": "2024-01-03T07:35:41.482116Z",
     "iopub.status.idle": "2024-01-03T07:35:41.486560Z",
     "shell.execute_reply": "2024-01-03T07:35:41.486112Z"
    },
    "papermill": {
     "duration": 0.011126,
     "end_time": "2024-01-03T07:35:41.487384",
     "exception": false,
     "start_time": "2024-01-03T07:35:41.476258",
     "status": "completed"
    },
    "tags": []
   },
   "outputs": [
    {
     "data": {
      "text/plain": [
       "x                    -16.219896\n",
       "y                    -18.785196\n",
       "papers                       20\n",
       "symbol_ncbi               CYTIP\n",
       "gene_ensembl    ENSG00000115165\n",
       "Name: 9595, dtype: object"
      ]
     },
     "execution_count": 31,
     "metadata": {},
     "output_type": "execute_result"
    }
   ],
   "source": [
    "s3_table.loc[_gene_id]"
   ]
  },
  {
   "cell_type": "code",
   "execution_count": null,
   "id": "67bca75e-9aba-4d32-9ad2-35a0d84ad77b",
   "metadata": {
    "papermill": {
     "duration": 0.005314,
     "end_time": "2024-01-03T07:35:41.498146",
     "exception": false,
     "start_time": "2024-01-03T07:35:41.492832",
     "status": "completed"
    },
    "tags": []
   },
   "outputs": [],
   "source": []
  }
 ],
 "metadata": {
  "jupytext": {
   "cell_metadata_filter": "all,-execution,-papermill,-trusted",
   "notebook_metadata_filter": "-jupytext.text_representation.jupytext_version",
   "text_representation": {
    "extension": ".py",
    "format_name": "percent",
    "format_version": "1.3"
   }
  },
  "kernelspec": {
   "display_name": "Python 3 (ipykernel)",
   "language": "python",
   "name": "python3"
  },
  "language_info": {
   "codemirror_mode": {
    "name": "ipython",
    "version": 3
   },
   "file_extension": ".py",
   "mimetype": "text/x-python",
   "name": "python",
   "nbconvert_exporter": "python",
   "pygments_lexer": "ipython3",
   "version": "3.9.12"
  },
  "papermill": {
   "default_parameters": {},
   "duration": 3.591218,
   "end_time": "2024-01-03T07:35:41.719145",
   "environment_variables": {},
   "exception": null,
   "input_path": "nbs/05_preprocessing/10-understudied_genes.ipynb",
   "output_path": "nbs/05_preprocessing/10-understudied_genes.run.ipynb",
   "parameters": {},
   "start_time": "2024-01-03T07:35:38.127927",
   "version": "2.3.4"
  }
 },
 "nbformat": 4,
 "nbformat_minor": 5
}
