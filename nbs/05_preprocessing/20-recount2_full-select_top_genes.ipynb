{
 "cells": [
  {
   "cell_type": "markdown",
   "id": "871d5ed2-95c8-48db-b3b3-394fea7a035b",
   "metadata": {
    "papermill": {
     "duration": 0.008943,
     "end_time": "2021-12-24T05:01:02.496355",
     "exception": false,
     "start_time": "2021-12-24T05:01:02.487412",
     "status": "completed"
    },
    "tags": []
   },
   "source": [
    "# Description"
   ]
  },
  {
   "cell_type": "markdown",
   "id": "06b29f41-a8f0-4274-8f72-a5b7cc19bc4e",
   "metadata": {
    "papermill": {
     "duration": 0.00795,
     "end_time": "2021-12-24T05:01:02.512759",
     "exception": false,
     "start_time": "2021-12-24T05:01:02.504809",
     "status": "completed"
    },
    "tags": []
   },
   "source": [
    "It uses the same strategy for GTEx (`00-gtex_v8-split_by_tissue.ipynb`) to select the top variable genes in recount2."
   ]
  },
  {
   "cell_type": "markdown",
   "id": "d05acbf3-ee34-4e31-b359-58d5ffde4213",
   "metadata": {
    "papermill": {
     "duration": 0.007833,
     "end_time": "2021-12-24T05:01:02.528765",
     "exception": false,
     "start_time": "2021-12-24T05:01:02.520932",
     "status": "completed"
    },
    "tags": []
   },
   "source": [
    "# Modules"
   ]
  },
  {
   "cell_type": "code",
   "execution_count": 1,
   "id": "9e466133-c98a-4ca1-9c62-99a70576aca4",
   "metadata": {
    "execution": {
     "iopub.execute_input": "2021-12-24T05:01:02.552081Z",
     "iopub.status.busy": "2021-12-24T05:01:02.551615Z",
     "iopub.status.idle": "2021-12-24T05:01:03.023757Z",
     "shell.execute_reply": "2021-12-24T05:01:03.024184Z"
    },
    "papermill": {
     "duration": 0.487438,
     "end_time": "2021-12-24T05:01:03.024372",
     "exception": false,
     "start_time": "2021-12-24T05:01:02.536934",
     "status": "completed"
    },
    "tags": []
   },
   "outputs": [],
   "source": [
    "import numpy as np\n",
    "import pandas as pd\n",
    "from tqdm import tqdm\n",
    "\n",
    "from clustermatch import conf"
   ]
  },
  {
   "cell_type": "markdown",
   "id": "4da399b4-f533-4cd0-8de7-a9afde79abb4",
   "metadata": {
    "papermill": {
     "duration": 0.00793,
     "end_time": "2021-12-24T05:01:03.040718",
     "exception": false,
     "start_time": "2021-12-24T05:01:03.032788",
     "status": "completed"
    },
    "tags": []
   },
   "source": [
    "# Settings"
   ]
  },
  {
   "cell_type": "code",
   "execution_count": 2,
   "id": "e08d3edb-96a2-4735-ad26-fbf77deacc3a",
   "metadata": {
    "execution": {
     "iopub.execute_input": "2021-12-24T05:01:03.060785Z",
     "iopub.status.busy": "2021-12-24T05:01:03.059833Z",
     "iopub.status.idle": "2021-12-24T05:01:03.061295Z",
     "shell.execute_reply": "2021-12-24T05:01:03.061664Z"
    },
    "papermill": {
     "duration": 0.012921,
     "end_time": "2021-12-24T05:01:03.061783",
     "exception": false,
     "start_time": "2021-12-24T05:01:03.048862",
     "status": "completed"
    },
    "tags": []
   },
   "outputs": [],
   "source": [
    "N_TOP_GENES_MAX_VARIANCE = 5000"
   ]
  },
  {
   "cell_type": "markdown",
   "id": "79484a9e-8dd9-46b5-bfad-27c257b2b50d",
   "metadata": {
    "papermill": {
     "duration": 0.008078,
     "end_time": "2021-12-24T05:01:03.078185",
     "exception": false,
     "start_time": "2021-12-24T05:01:03.070107",
     "status": "completed"
    },
    "tags": []
   },
   "source": [
    "# Paths"
   ]
  },
  {
   "cell_type": "code",
   "execution_count": 3,
   "id": "f7254449-849e-4bb2-bb02-d52f85589145",
   "metadata": {
    "execution": {
     "iopub.execute_input": "2021-12-24T05:01:03.103916Z",
     "iopub.status.busy": "2021-12-24T05:01:03.103432Z",
     "iopub.status.idle": "2021-12-24T05:01:03.106803Z",
     "shell.execute_reply": "2021-12-24T05:01:03.107182Z"
    },
    "papermill": {
     "duration": 0.020911,
     "end_time": "2021-12-24T05:01:03.107304",
     "exception": false,
     "start_time": "2021-12-24T05:01:03.086393",
     "status": "completed"
    },
    "tags": []
   },
   "outputs": [
    {
     "data": {
      "text/plain": [
       "PosixPath('/opt/data/data/recount2full/recount2_rpkm.pkl')"
      ]
     },
     "metadata": {},
     "output_type": "display_data"
    }
   ],
   "source": [
    "INPUT_FILE_DIR = conf.RECOUNT2FULL[\"DATA_DIR\"] / \"recount2_rpkm.pkl\"\n",
    "display(INPUT_FILE_DIR)"
   ]
  },
  {
   "cell_type": "code",
   "execution_count": 4,
   "id": "0ef4566f-122f-49e8-99be-491308219cc1",
   "metadata": {
    "execution": {
     "iopub.execute_input": "2021-12-24T05:01:03.130912Z",
     "iopub.status.busy": "2021-12-24T05:01:03.130376Z",
     "iopub.status.idle": "2021-12-24T05:01:03.132549Z",
     "shell.execute_reply": "2021-12-24T05:01:03.131349Z"
    },
    "papermill": {
     "duration": 0.016129,
     "end_time": "2021-12-24T05:01:03.132649",
     "exception": false,
     "start_time": "2021-12-24T05:01:03.116520",
     "status": "completed"
    },
    "tags": []
   },
   "outputs": [
    {
     "data": {
      "text/plain": [
       "PosixPath('/opt/data/results/recount2full/gene_selection')"
      ]
     },
     "metadata": {},
     "output_type": "display_data"
    }
   ],
   "source": [
    "OUTPUT_DIR = conf.RECOUNT2FULL[\"GENE_SELECTION_DIR\"]\n",
    "OUTPUT_DIR.mkdir(parents=True, exist_ok=True)\n",
    "display(OUTPUT_DIR)"
   ]
  },
  {
   "cell_type": "markdown",
   "id": "c5b54814-c607-4dbe-bc47-bb4fe058ed93",
   "metadata": {
    "papermill": {
     "duration": 0.009198,
     "end_time": "2021-12-24T05:01:03.151329",
     "exception": false,
     "start_time": "2021-12-24T05:01:03.142131",
     "status": "completed"
    },
    "tags": []
   },
   "source": [
    "# Select top genes"
   ]
  },
  {
   "cell_type": "markdown",
   "id": "8904a4c2-2855-4243-8d53-37d45aacae87",
   "metadata": {
    "papermill": {
     "duration": 0.009066,
     "end_time": "2021-12-24T05:01:03.169829",
     "exception": false,
     "start_time": "2021-12-24T05:01:03.160763",
     "status": "completed"
    },
    "tags": []
   },
   "source": [
    "Based on the previous findings, I select genes with both strategies `var_raw` and `var_pc_log2`.\n",
    "\n",
    "Then I save, for both, the raw data (note that I only use the strategies to select genes, not to log-transform the data)."
   ]
  },
  {
   "cell_type": "code",
   "execution_count": 5,
   "id": "b78c27fe-ad78-497c-97ad-e21d38455a34",
   "metadata": {
    "execution": {
     "iopub.execute_input": "2021-12-24T05:01:03.193630Z",
     "iopub.status.busy": "2021-12-24T05:01:03.193092Z",
     "iopub.status.idle": "2021-12-24T05:01:03.195333Z",
     "shell.execute_reply": "2021-12-24T05:01:03.194063Z"
    },
    "papermill": {
     "duration": 0.016283,
     "end_time": "2021-12-24T05:01:03.195432",
     "exception": false,
     "start_time": "2021-12-24T05:01:03.179149",
     "status": "completed"
    },
    "tags": []
   },
   "outputs": [
    {
     "data": {
      "text/plain": [
       "[PosixPath('/opt/data/data/recount2full/recount2_rpkm.pkl')]"
      ]
     },
     "metadata": {},
     "output_type": "display_data"
    }
   ],
   "source": [
    "input_files = sorted(\n",
    "    [\n",
    "        INPUT_FILE_DIR,\n",
    "    ]\n",
    ")\n",
    "\n",
    "display(input_files[:5])"
   ]
  },
  {
   "cell_type": "markdown",
   "id": "ce8ea183-c567-42dd-abaf-320a9d0ef482",
   "metadata": {
    "papermill": {
     "duration": 0.009664,
     "end_time": "2021-12-24T05:01:03.215022",
     "exception": false,
     "start_time": "2021-12-24T05:01:03.205358",
     "status": "completed"
    },
    "tags": []
   },
   "source": [
    "## Run"
   ]
  },
  {
   "cell_type": "code",
   "execution_count": 6,
   "id": "83685682-4842-44e9-83c1-405365fee395",
   "metadata": {
    "execution": {
     "iopub.execute_input": "2021-12-24T05:01:03.241572Z",
     "iopub.status.busy": "2021-12-24T05:01:03.241105Z",
     "iopub.status.idle": "2021-12-24T06:28:50.973480Z",
     "shell.execute_reply": "2021-12-24T06:28:51.002953Z"
    },
    "papermill": {
     "duration": 5267.779,
     "end_time": "2021-12-24T06:28:51.003808",
     "exception": false,
     "start_time": "2021-12-24T05:01:03.224808",
     "status": "completed"
    },
    "tags": []
   },
   "outputs": [
    {
     "name": "stderr",
     "output_type": "stream",
     "text": [
      "recount2_rpkm: 100%|██████████████████████████████████████████████| 1/1 [1:27:47<00:00, 5267.22s/it]\n"
     ]
    }
   ],
   "source": [
    "pbar = tqdm(input_files, ncols=100)\n",
    "\n",
    "for data_file in pbar:\n",
    "    pbar.set_description(data_file.stem)\n",
    "\n",
    "    data = pd.read_pickle(data_file)\n",
    "\n",
    "    # var_raw\n",
    "    top_genes_var = (\n",
    "        data.var(axis=1).sort_values(ascending=False).head(N_TOP_GENES_MAX_VARIANCE)\n",
    "    )\n",
    "    selected_data = data.loc[top_genes_var.index]\n",
    "\n",
    "    output_filename = f\"{data_file.stem}-var_raw.pkl\"\n",
    "    selected_data.to_pickle(path=OUTPUT_DIR / output_filename)\n",
    "\n",
    "    # var_pc_log2\n",
    "    log2_tissue_data = np.log2(data + 1)\n",
    "\n",
    "    top_genes_var = (\n",
    "        log2_tissue_data.var(axis=1)\n",
    "        .sort_values(ascending=False)\n",
    "        .head(N_TOP_GENES_MAX_VARIANCE)\n",
    "    )\n",
    "    # save the same raw data, but with genes selected by var_pc_log2\n",
    "    selected_data = data.loc[top_genes_var.index]\n",
    "\n",
    "    output_filename = f\"{data_file.stem}-var_pc_log2.pkl\"\n",
    "    selected_data.to_pickle(path=OUTPUT_DIR / output_filename)"
   ]
  },
  {
   "cell_type": "code",
   "execution_count": null,
   "id": "03747a27-4636-48e5-8c1f-3a75fc174a4d",
   "metadata": {
    "papermill": {
     "duration": 0.011716,
     "end_time": "2021-12-24T06:28:51.027275",
     "exception": false,
     "start_time": "2021-12-24T06:28:51.015559",
     "status": "completed"
    },
    "tags": []
   },
   "outputs": [],
   "source": []
  }
 ],
 "metadata": {
  "jupytext": {
   "cell_metadata_filter": "all,-execution,-papermill,-trusted"
  },
  "kernelspec": {
   "display_name": "Python 3 (ipykernel)",
   "language": "python",
   "name": "python3"
  },
  "language_info": {
   "codemirror_mode": {
    "name": "ipython",
    "version": 3
   },
   "file_extension": ".py",
   "mimetype": "text/x-python",
   "name": "python",
   "nbconvert_exporter": "python",
   "pygments_lexer": "ipython3",
   "version": "3.9.9"
  },
  "papermill": {
   "default_parameters": {},
   "duration": 5278.951158,
   "end_time": "2021-12-24T06:29:00.065923",
   "environment_variables": {},
   "exception": null,
   "input_path": "nbs/05_preprocessing/20-recount2_full-select_top_genes.ipynb",
   "output_path": "nbs/05_preprocessing/20-recount2_full-select_top_genes.run.ipynb",
   "parameters": {},
   "start_time": "2021-12-24T05:01:01.114765",
   "version": "2.3.3"
  },
  "toc-autonumbering": true,
  "toc-showcode": false,
  "toc-showmarkdowntxt": false
 },
 "nbformat": 4,
 "nbformat_minor": 5
}
