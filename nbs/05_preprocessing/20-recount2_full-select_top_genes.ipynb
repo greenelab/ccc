{
 "cells": [
  {
   "cell_type": "markdown",
   "id": "871d5ed2-95c8-48db-b3b3-394fea7a035b",
   "metadata": {
    "papermill": {
     "duration": 0.103406,
     "end_time": "2021-08-31T20:08:32.665347",
     "exception": false,
     "start_time": "2021-08-31T20:08:32.561941",
     "status": "completed"
    },
    "tags": []
   },
   "source": [
    "# Description"
   ]
  },
  {
   "cell_type": "markdown",
   "id": "06b29f41-a8f0-4274-8f72-a5b7cc19bc4e",
   "metadata": {
    "papermill": {
     "duration": 0.069811,
     "end_time": "2021-08-31T20:08:32.801536",
     "exception": false,
     "start_time": "2021-08-31T20:08:32.731725",
     "status": "completed"
    },
    "tags": []
   },
   "source": [
    "It uses the same strategy for GTEx (`00-gtex_v8-split_by_tissue.ipynb`) to select the top variable genes in recount2."
   ]
  },
  {
   "cell_type": "markdown",
   "id": "d05acbf3-ee34-4e31-b359-58d5ffde4213",
   "metadata": {
    "papermill": {
     "duration": 0.066674,
     "end_time": "2021-08-31T20:08:32.935244",
     "exception": false,
     "start_time": "2021-08-31T20:08:32.868570",
     "status": "completed"
    },
    "tags": []
   },
   "source": [
    "# Modules"
   ]
  },
  {
   "cell_type": "code",
   "execution_count": null,
   "id": "9e466133-c98a-4ca1-9c62-99a70576aca4",
   "metadata": {
    "papermill": {
     "duration": 1.152551,
     "end_time": "2021-08-31T20:08:34.153957",
     "exception": false,
     "start_time": "2021-08-31T20:08:33.001406",
     "status": "completed"
    },
    "tags": []
   },
   "outputs": [],
   "source": [
    "import numpy as np\n",
    "import pandas as pd\n",
    "from tqdm import tqdm\n",
    "\n",
    "from clustermatch import conf"
   ]
  },
  {
   "cell_type": "markdown",
   "id": "4da399b4-f533-4cd0-8de7-a9afde79abb4",
   "metadata": {
    "papermill": {
     "duration": 0.065555,
     "end_time": "2021-08-31T20:08:34.285806",
     "exception": false,
     "start_time": "2021-08-31T20:08:34.220251",
     "status": "completed"
    },
    "tags": []
   },
   "source": [
    "# Settings"
   ]
  },
  {
   "cell_type": "code",
   "execution_count": null,
   "id": "e08d3edb-96a2-4735-ad26-fbf77deacc3a",
   "metadata": {
    "papermill": {
     "duration": 0.071415,
     "end_time": "2021-08-31T20:08:34.423049",
     "exception": false,
     "start_time": "2021-08-31T20:08:34.351634",
     "status": "completed"
    },
    "tags": []
   },
   "outputs": [],
   "source": [
    "N_TOP_GENES_MAX_VARIANCE = 5000"
   ]
  },
  {
   "cell_type": "markdown",
   "id": "79484a9e-8dd9-46b5-bfad-27c257b2b50d",
   "metadata": {
    "papermill": {
     "duration": 0.066014,
     "end_time": "2021-08-31T20:08:34.555160",
     "exception": false,
     "start_time": "2021-08-31T20:08:34.489146",
     "status": "completed"
    },
    "tags": []
   },
   "source": [
    "# Paths"
   ]
  },
  {
   "cell_type": "code",
   "execution_count": null,
   "id": "f7254449-849e-4bb2-bb02-d52f85589145",
   "metadata": {
    "papermill": {
     "duration": 0.07402,
     "end_time": "2021-08-31T20:08:34.694349",
     "exception": false,
     "start_time": "2021-08-31T20:08:34.620329",
     "status": "completed"
    },
    "tags": []
   },
   "outputs": [],
   "source": [
    "INPUT_FILE_DIR = conf.RECOUNT2FULL[\"DATA_DIR\"] / \"recount2_rpkm.pkl\"\n",
    "display(INPUT_FILE_DIR)"
   ]
  },
  {
   "cell_type": "code",
   "execution_count": null,
   "id": "0ef4566f-122f-49e8-99be-491308219cc1",
   "metadata": {
    "papermill": {
     "duration": 0.076839,
     "end_time": "2021-08-31T20:08:34.838615",
     "exception": false,
     "start_time": "2021-08-31T20:08:34.761776",
     "status": "completed"
    },
    "tags": []
   },
   "outputs": [],
   "source": [
    "OUTPUT_DIR = conf.RECOUNT2FULL[\"GENE_SELECTION_DIR\"]\n",
    "OUTPUT_DIR.mkdir(parents=True, exist_ok=True)\n",
    "display(OUTPUT_DIR)"
   ]
  },
  {
   "cell_type": "markdown",
   "id": "c5b54814-c607-4dbe-bc47-bb4fe058ed93",
   "metadata": {
    "papermill": {
     "duration": 0.113228,
     "end_time": "2021-08-31T20:14:29.328272",
     "exception": false,
     "start_time": "2021-08-31T20:14:29.215044",
     "status": "completed"
    },
    "tags": []
   },
   "source": [
    "# Select top genes"
   ]
  },
  {
   "cell_type": "markdown",
   "id": "8904a4c2-2855-4243-8d53-37d45aacae87",
   "metadata": {
    "papermill": {
     "duration": 0.111732,
     "end_time": "2021-08-31T20:14:29.552605",
     "exception": false,
     "start_time": "2021-08-31T20:14:29.440873",
     "status": "completed"
    },
    "tags": []
   },
   "source": [
    "Based on the previous findings, I select genes with both strategies `var_raw` and `var_pc_log2`.\n",
    "\n",
    "Then I save, for both, the raw data (note that I only use the strategies to select genes, not to log-transform the data)."
   ]
  },
  {
   "cell_type": "code",
   "execution_count": null,
   "id": "b78c27fe-ad78-497c-97ad-e21d38455a34",
   "metadata": {
    "papermill": {
     "duration": 0.144803,
     "end_time": "2021-08-31T20:14:29.808115",
     "exception": false,
     "start_time": "2021-08-31T20:14:29.663312",
     "status": "completed"
    },
    "tags": []
   },
   "outputs": [],
   "source": [
    "input_files = sorted(\n",
    "    [\n",
    "        INPUT_FILE_DIR,\n",
    "    ]\n",
    ")\n",
    "\n",
    "display(input_files[:5])"
   ]
  },
  {
   "cell_type": "markdown",
   "id": "ce8ea183-c567-42dd-abaf-320a9d0ef482",
   "metadata": {
    "papermill": {
     "duration": 0.111884,
     "end_time": "2021-08-31T20:14:30.050593",
     "exception": false,
     "start_time": "2021-08-31T20:14:29.938709",
     "status": "completed"
    },
    "tags": []
   },
   "source": [
    "## Run"
   ]
  },
  {
   "cell_type": "code",
   "execution_count": null,
   "id": "83685682-4842-44e9-83c1-405365fee395",
   "metadata": {
    "papermill": {
     "duration": 46.591065,
     "end_time": "2021-08-31T20:15:16.753478",
     "exception": false,
     "start_time": "2021-08-31T20:14:30.162413",
     "status": "completed"
    },
    "tags": []
   },
   "outputs": [],
   "source": [
    "pbar = tqdm(input_files, ncols=100)\n",
    "\n",
    "for data_file in pbar:\n",
    "    pbar.set_description(data_file.stem)\n",
    "\n",
    "    data = pd.read_pickle(data_file)\n",
    "\n",
    "    # var_raw\n",
    "    top_genes_var = (\n",
    "        data.var(axis=1).sort_values(ascending=False).head(N_TOP_GENES_MAX_VARIANCE)\n",
    "    )\n",
    "    selected_data = data.loc[top_genes_var.index]\n",
    "\n",
    "    output_filename = f\"{data_file.stem}-var_raw.pkl\"\n",
    "    selected_data.to_pickle(path=OUTPUT_DIR / output_filename)\n",
    "\n",
    "    # var_pc_log2\n",
    "    log2_tissue_data = np.log2(data + 1)\n",
    "\n",
    "    top_genes_var = (\n",
    "        log2_tissue_data.var(axis=1)\n",
    "        .sort_values(ascending=False)\n",
    "        .head(N_TOP_GENES_MAX_VARIANCE)\n",
    "    )\n",
    "    # save the same raw data, but with genes selected by var_pc_log2\n",
    "    selected_data = data.loc[top_genes_var.index]\n",
    "\n",
    "    output_filename = f\"{data_file.stem}-var_pc_log2.pkl\"\n",
    "    selected_data.to_pickle(path=OUTPUT_DIR / output_filename)"
   ]
  },
  {
   "cell_type": "code",
   "execution_count": null,
   "id": "03747a27-4636-48e5-8c1f-3a75fc174a4d",
   "metadata": {
    "papermill": {
     "duration": 0.1377,
     "end_time": "2021-08-31T20:15:33.786710",
     "exception": false,
     "start_time": "2021-08-31T20:15:33.649010",
     "status": "completed"
    },
    "tags": []
   },
   "outputs": [],
   "source": []
  }
 ],
 "metadata": {
  "jupytext": {
   "cell_metadata_filter": "all,-execution,-papermill,-trusted"
  },
  "kernelspec": {
   "display_name": "Python 3 (ipykernel)",
   "language": "python",
   "name": "python3"
  },
  "language_info": {
   "codemirror_mode": {
    "name": "ipython",
    "version": 3
   },
   "file_extension": ".py",
   "mimetype": "text/x-python",
   "name": "python",
   "nbconvert_exporter": "python",
   "pygments_lexer": "ipython3",
   "version": "3.9.9"
  },
  "papermill": {
   "default_parameters": {},
   "duration": 425.005839,
   "end_time": "2021-08-31T20:15:36.635614",
   "environment_variables": {},
   "exception": null,
   "input_path": "nbs/05_preprocessing/05-gtex_v8-select_top_genes.ipynb",
   "output_path": "nbs/05_preprocessing/05-gtex_v8-select_top_genes.run.ipynb",
   "parameters": {},
   "start_time": "2021-08-31T20:08:31.629775",
   "version": "2.3.3"
  },
  "toc-autonumbering": true,
  "toc-showcode": false,
  "toc-showmarkdowntxt": false
 },
 "nbformat": 4,
 "nbformat_minor": 5
}
