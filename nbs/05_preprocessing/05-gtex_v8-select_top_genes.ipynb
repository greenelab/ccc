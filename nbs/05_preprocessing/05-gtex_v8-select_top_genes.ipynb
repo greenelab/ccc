{
 "cells": [
  {
   "cell_type": "markdown",
   "id": "871d5ed2-95c8-48db-b3b3-394fea7a035b",
   "metadata": {},
   "source": [
    "# Description"
   ]
  },
  {
   "cell_type": "markdown",
   "id": "06b29f41-a8f0-4274-8f72-a5b7cc19bc4e",
   "metadata": {},
   "source": [
    "It analyzes different strategies to take the genes from GTEx data with the highest variability, being this variability measured with different strategies: variance (`var`), coefficient of variation (`cv`) and mean absolute variation (`mad`) applied on two different versions of the data: 1) the raw TPM-normalized gene expression data (here refered to as `raw`), and 2) the log2-transformed version of the raw data (here refered to as `log2`)."
   ]
  },
  {
   "cell_type": "markdown",
   "id": "d05acbf3-ee34-4e31-b359-58d5ffde4213",
   "metadata": {},
   "source": [
    "# Modules"
   ]
  },
  {
   "cell_type": "code",
   "execution_count": null,
   "id": "9e466133-c98a-4ca1-9c62-99a70576aca4",
   "metadata": {},
   "outputs": [],
   "source": [
    "import numpy as np\n",
    "from scipy.spatial.distance import pdist, squareform\n",
    "import pandas as pd\n",
    "import matplotlib.pyplot as plt\n",
    "import seaborn as sns\n",
    "from sklearn.decomposition import PCA\n",
    "from sklearn.preprocessing import scale\n",
    "from tqdm import tqdm\n",
    "\n",
    "from clustermatch import conf"
   ]
  },
  {
   "cell_type": "markdown",
   "id": "4da399b4-f533-4cd0-8de7-a9afde79abb4",
   "metadata": {},
   "source": [
    "# Settings"
   ]
  },
  {
   "cell_type": "code",
   "execution_count": null,
   "id": "e08d3edb-96a2-4735-ad26-fbf77deacc3a",
   "metadata": {},
   "outputs": [],
   "source": [
    "N_TOP_GENES_MAX_VARIANCE = 5000"
   ]
  },
  {
   "cell_type": "markdown",
   "id": "79484a9e-8dd9-46b5-bfad-27c257b2b50d",
   "metadata": {},
   "source": [
    "# Paths"
   ]
  },
  {
   "cell_type": "code",
   "execution_count": null,
   "id": "f7254449-849e-4bb2-bb02-d52f85589145",
   "metadata": {},
   "outputs": [],
   "source": [
    "INPUT_DIR = conf.GTEX[\"DATA_DIR\"] / \"data_by_tissue\"\n",
    "display(INPUT_DIR)"
   ]
  },
  {
   "cell_type": "code",
   "execution_count": null,
   "id": "0ef4566f-122f-49e8-99be-491308219cc1",
   "metadata": {},
   "outputs": [],
   "source": [
    "OUTPUT_DIR = conf.GTEX[\"GENE_SELECTION_DIR\"]\n",
    "OUTPUT_DIR.mkdir(parents=True, exist_ok=True)\n",
    "display(OUTPUT_DIR)"
   ]
  },
  {
   "cell_type": "markdown",
   "id": "16f23bce-a6f7-4f87-b267-44595c764052",
   "metadata": {},
   "source": [
    "# Functions"
   ]
  },
  {
   "cell_type": "code",
   "execution_count": null,
   "id": "0d703b74-2896-42bf-99bf-f349cd075b4a",
   "metadata": {},
   "outputs": [],
   "source": [
    "PCA_OPTIONS = {\n",
    "    \"n_components\": 5,\n",
    "    \"random_state\": 0,\n",
    "}"
   ]
  },
  {
   "cell_type": "code",
   "execution_count": null,
   "id": "acee6627-134b-454a-a501-9b2f81d92239",
   "metadata": {},
   "outputs": [],
   "source": [
    "def standardize(data):\n",
    "    return pd.DataFrame(\n",
    "        data=scale(data),\n",
    "        index=data.index.copy(),\n",
    "        columns=data.columns.copy(),\n",
    "    )"
   ]
  },
  {
   "cell_type": "code",
   "execution_count": null,
   "id": "973c35bb-952e-4c17-a482-c213f16ca615",
   "metadata": {},
   "outputs": [],
   "source": [
    "def plot_pca(data, std=True):\n",
    "    if std:\n",
    "        data = standardize(data)\n",
    "\n",
    "    clf = PCA(**PCA_OPTIONS)\n",
    "    pca_data = clf.fit_transform(data)\n",
    "\n",
    "    pca_data = pd.DataFrame(\n",
    "        data=pca_data,\n",
    "        index=data.index.copy(),\n",
    "        columns=[f\"PCA{i+1}\" for i in range(pca_data.shape[1])],\n",
    "    )\n",
    "\n",
    "    g = sns.pairplot(data=pca_data)\n",
    "    display(g)"
   ]
  },
  {
   "cell_type": "markdown",
   "id": "752ccc81-3c77-4a3f-b56e-cdbd862a7ba8",
   "metadata": {},
   "source": [
    "# Compare different criteria to select highly variable genes"
   ]
  },
  {
   "cell_type": "code",
   "execution_count": null,
   "id": "59713366-e256-4d52-9a11-28f68c9a25e7",
   "metadata": {},
   "outputs": [],
   "source": [
    "# I will store here the top genes selected by each method\n",
    "top_genes_var = {}"
   ]
  },
  {
   "cell_type": "markdown",
   "id": "e906f610-d6ef-4769-a311-41544088c7d6",
   "metadata": {},
   "source": [
    "## Get test data"
   ]
  },
  {
   "cell_type": "code",
   "execution_count": null,
   "id": "de4109a0-f68e-4713-86c1-919845620733",
   "metadata": {},
   "outputs": [],
   "source": [
    "test_data = pd.read_pickle(INPUT_DIR / \"gtex_v8_data_whole_blood.pkl\")"
   ]
  },
  {
   "cell_type": "code",
   "execution_count": null,
   "id": "e374704f-f4ee-4f31-bc33-0c3ed6377b6a",
   "metadata": {},
   "outputs": [],
   "source": [
    "test_data.shape"
   ]
  },
  {
   "cell_type": "code",
   "execution_count": null,
   "id": "99918a52-c918-48e7-bb77-4d718097609e",
   "metadata": {},
   "outputs": [],
   "source": [
    "test_data.head()"
   ]
  },
  {
   "cell_type": "markdown",
   "id": "c1b023f6-e73f-4dd2-b3d3-a940110a4e31",
   "metadata": {},
   "source": [
    "## Get test data in log2"
   ]
  },
  {
   "cell_type": "code",
   "execution_count": null,
   "id": "08029eb1-0413-414b-9be8-57c194826100",
   "metadata": {},
   "outputs": [],
   "source": [
    "log2_test_data = np.log2(test_data)"
   ]
  },
  {
   "cell_type": "code",
   "execution_count": null,
   "id": "8d136da8-f94f-4b15-b9d0-e2ebd95867c5",
   "metadata": {},
   "outputs": [],
   "source": [
    "log2_test_data.head()"
   ]
  },
  {
   "cell_type": "code",
   "execution_count": null,
   "id": "350169ef-0a49-46cc-86b1-6e5c9693fce5",
   "metadata": {},
   "outputs": [],
   "source": [
    "def replace_by_minimum(sample_data):\n",
    "    \"\"\"Replaces the -np.inf values in a pandas series by [the minimum non-inf value in it] * 1.3.\"\"\"\n",
    "\n",
    "    sample_min_values = sample_data.replace(-np.inf, np.nan).dropna().sort_values()\n",
    "    sample_min = sample_min_values.iloc[0]\n",
    "\n",
    "    return sample_data.replace(-np.inf, sample_min * 1.3)"
   ]
  },
  {
   "cell_type": "code",
   "execution_count": null,
   "id": "1326040f-562c-49ef-b3f4-223ff2f993d1",
   "metadata": {},
   "outputs": [],
   "source": [
    "assert (\n",
    "    log2_test_data.iloc[:, [0]]\n",
    "    .apply(replace_by_minimum)\n",
    "    .squeeze()\n",
    "    .loc[\"ENSG00000278267.1\"]\n",
    "    .round(5)\n",
    "    == -14.76284\n",
    ")"
   ]
  },
  {
   "cell_type": "code",
   "execution_count": null,
   "id": "d6e1e90a-2780-4999-874e-2e9a134399bb",
   "metadata": {},
   "outputs": [],
   "source": [
    "log2_test_data = log2_test_data.apply(replace_by_minimum)"
   ]
  },
  {
   "cell_type": "code",
   "execution_count": null,
   "id": "c9a24ac0-d9d3-4329-b12d-ba5cd1d56feb",
   "metadata": {},
   "outputs": [],
   "source": [
    "log2_test_data.shape"
   ]
  },
  {
   "cell_type": "code",
   "execution_count": null,
   "id": "5b1333f8-e9b1-4edb-ac37-d2d7fcdc6e33",
   "metadata": {},
   "outputs": [],
   "source": [
    "log2_test_data.head()"
   ]
  },
  {
   "cell_type": "code",
   "execution_count": null,
   "id": "7401c6e4-6fe8-4f19-a901-61f006ea8af7",
   "metadata": {},
   "outputs": [],
   "source": [
    "log2_test_data.iloc[:10, :].T.describe()"
   ]
  },
  {
   "cell_type": "markdown",
   "id": "f4003ac5-ef7a-471b-8cde-9491cd59ac9d",
   "metadata": {},
   "source": [
    "## On TPM-normalized data (raw)"
   ]
  },
  {
   "cell_type": "markdown",
   "id": "ebe72a0e-55b9-49e6-aafe-6af2111bcff0",
   "metadata": {},
   "source": [
    "### Variance"
   ]
  },
  {
   "cell_type": "code",
   "execution_count": null,
   "id": "f694e222-0403-4afd-9f32-82b544ed74c1",
   "metadata": {},
   "outputs": [],
   "source": [
    "exp_id = \"var_raw\""
   ]
  },
  {
   "cell_type": "code",
   "execution_count": null,
   "id": "18dde4ef-0b8d-4ec0-a94d-c2464b67336c",
   "metadata": {},
   "outputs": [],
   "source": [
    "top_genes_var[exp_id] = (\n",
    "    test_data.var(axis=1).sort_values(ascending=False).head(N_TOP_GENES_MAX_VARIANCE)\n",
    ")"
   ]
  },
  {
   "cell_type": "code",
   "execution_count": null,
   "id": "6cf3cad1-1cf6-44e2-b810-2709001bbac0",
   "metadata": {},
   "outputs": [],
   "source": [
    "top_genes_var[exp_id]"
   ]
  },
  {
   "cell_type": "code",
   "execution_count": null,
   "id": "d7445fbf-8570-4047-a0dc-6dd12f0d9451",
   "metadata": {},
   "outputs": [],
   "source": [
    "selected_data = test_data.loc[top_genes_var[exp_id].index]"
   ]
  },
  {
   "cell_type": "code",
   "execution_count": null,
   "id": "5ac28c81-bf36-4056-b493-a2e8b0fdd0f8",
   "metadata": {},
   "outputs": [],
   "source": [
    "selected_data.shape"
   ]
  },
  {
   "cell_type": "code",
   "execution_count": null,
   "id": "244e00f8-c157-46ee-bcca-4aa33ced34ba",
   "metadata": {},
   "outputs": [],
   "source": [
    "plot_pca(selected_data)"
   ]
  },
  {
   "cell_type": "markdown",
   "id": "04d25043-6bb5-41ce-91da-e74c14d1be58",
   "metadata": {},
   "source": [
    "### Coefficient of variation"
   ]
  },
  {
   "cell_type": "code",
   "execution_count": null,
   "id": "1c82c033-aab4-4dcf-8e53-d9591d6f9f75",
   "metadata": {},
   "outputs": [],
   "source": [
    "exp_id = \"cv_raw\""
   ]
  },
  {
   "cell_type": "code",
   "execution_count": null,
   "id": "e6b354ef-dae4-4954-a7a6-55b05c3f3e13",
   "metadata": {},
   "outputs": [],
   "source": [
    "top_genes_var[exp_id] = (\n",
    "    (test_data.std(axis=1) / test_data.mean(axis=1))\n",
    "    .sort_values(ascending=False)\n",
    "    .head(N_TOP_GENES_MAX_VARIANCE)\n",
    ")"
   ]
  },
  {
   "cell_type": "code",
   "execution_count": null,
   "id": "aaef9229-cb0d-4b18-b37f-d53b0146982e",
   "metadata": {},
   "outputs": [],
   "source": [
    "top_genes_var[exp_id]"
   ]
  },
  {
   "cell_type": "markdown",
   "id": "302aa6df-598a-46fa-adf3-4aaaabc0e300",
   "metadata": {},
   "source": [
    "### Mean absolute variation"
   ]
  },
  {
   "cell_type": "code",
   "execution_count": null,
   "id": "87b89a06-468a-46b5-90bf-08577f2d812e",
   "metadata": {},
   "outputs": [],
   "source": [
    "exp_id = \"mad_raw\""
   ]
  },
  {
   "cell_type": "code",
   "execution_count": null,
   "id": "cbae5642-2853-44e2-84f2-fc3c0bd10e9b",
   "metadata": {},
   "outputs": [],
   "source": [
    "top_genes_var[exp_id] = (\n",
    "    test_data.mad(axis=1).sort_values(ascending=False).head(N_TOP_GENES_MAX_VARIANCE)\n",
    ")"
   ]
  },
  {
   "cell_type": "code",
   "execution_count": null,
   "id": "18a0480d-2200-4380-b5d6-f60809f524b2",
   "metadata": {},
   "outputs": [],
   "source": [
    "top_genes_var[exp_id]"
   ]
  },
  {
   "cell_type": "markdown",
   "id": "960e7b1d-f5f8-44b7-aed4-3285015f782e",
   "metadata": {},
   "source": [
    "## On log2 TPM-normalized data"
   ]
  },
  {
   "cell_type": "markdown",
   "id": "2c240b98-0061-4c47-8188-32474827e88b",
   "metadata": {},
   "source": [
    "### Variance"
   ]
  },
  {
   "cell_type": "code",
   "execution_count": null,
   "id": "072f8c21-3cfe-4563-8d51-cd3fe82c33a6",
   "metadata": {},
   "outputs": [],
   "source": [
    "exp_id = \"var_log2\""
   ]
  },
  {
   "cell_type": "code",
   "execution_count": null,
   "id": "cc1e1057-7cfa-43cf-a083-4e9b2bb11fba",
   "metadata": {},
   "outputs": [],
   "source": [
    "top_genes_var[exp_id] = (\n",
    "    log2_test_data.var(axis=1)\n",
    "    .sort_values(ascending=False)\n",
    "    .head(N_TOP_GENES_MAX_VARIANCE)\n",
    ")"
   ]
  },
  {
   "cell_type": "code",
   "execution_count": null,
   "id": "42afc45a-5f73-42f2-8f65-a3ac5aabfe52",
   "metadata": {},
   "outputs": [],
   "source": [
    "top_genes_var[exp_id]"
   ]
  },
  {
   "cell_type": "code",
   "execution_count": null,
   "id": "53843e20-505a-48f0-a997-41963346947b",
   "metadata": {},
   "outputs": [],
   "source": [
    "# plot on raw\n",
    "selected_data = test_data.loc[top_genes_var[exp_id].index]"
   ]
  },
  {
   "cell_type": "code",
   "execution_count": null,
   "id": "fcf43370-4260-4a6d-9e4b-cd95fc59eb3f",
   "metadata": {},
   "outputs": [],
   "source": [
    "selected_data.shape"
   ]
  },
  {
   "cell_type": "code",
   "execution_count": null,
   "id": "d482ae89-8a27-42ff-889d-e11aae161803",
   "metadata": {},
   "outputs": [],
   "source": [
    "plot_pca(selected_data)"
   ]
  },
  {
   "cell_type": "code",
   "execution_count": null,
   "id": "3176455c-a01c-4ade-a97c-bb55ed44ceec",
   "metadata": {},
   "outputs": [],
   "source": [
    "# plot on log2\n",
    "selected_data = log2_test_data.loc[top_genes_var[exp_id].index]"
   ]
  },
  {
   "cell_type": "code",
   "execution_count": null,
   "id": "5353e6f1-f9cc-4802-8bc2-a5b021c98e24",
   "metadata": {},
   "outputs": [],
   "source": [
    "selected_data.shape"
   ]
  },
  {
   "cell_type": "code",
   "execution_count": null,
   "id": "96063dc1-be0a-4a29-9901-1ef2d8743314",
   "metadata": {},
   "outputs": [],
   "source": [
    "plot_pca(selected_data)"
   ]
  },
  {
   "cell_type": "markdown",
   "id": "a60dbad7-28c3-4e68-8ff0-9c3cc4510484",
   "metadata": {},
   "source": [
    "### Coefficient of variation"
   ]
  },
  {
   "cell_type": "code",
   "execution_count": null,
   "id": "cb138b6c-99c3-40a9-8c1b-183b8f6232ab",
   "metadata": {},
   "outputs": [],
   "source": [
    "exp_id = \"cv_log2\""
   ]
  },
  {
   "cell_type": "code",
   "execution_count": null,
   "id": "915a1a97-d087-4bfd-851f-7c0143a8b1ce",
   "metadata": {},
   "outputs": [],
   "source": [
    "top_genes_var[exp_id] = (\n",
    "    (log2_test_data.std(axis=1) / log2_test_data.mean(axis=1))\n",
    "    .sort_values(ascending=False)\n",
    "    .head(N_TOP_GENES_MAX_VARIANCE)\n",
    ")"
   ]
  },
  {
   "cell_type": "code",
   "execution_count": null,
   "id": "693e6f2d-2d86-4f89-a0a4-b981a69af7e5",
   "metadata": {},
   "outputs": [],
   "source": [
    "top_genes_var[exp_id]"
   ]
  },
  {
   "cell_type": "markdown",
   "id": "59db78c8-0c70-4b94-8550-c5c972064f24",
   "metadata": {},
   "source": [
    "### Mean absolute variation"
   ]
  },
  {
   "cell_type": "code",
   "execution_count": null,
   "id": "befbbbf7-3b6b-40a6-9e99-7e854315557d",
   "metadata": {},
   "outputs": [],
   "source": [
    "exp_id = \"mad_log2\""
   ]
  },
  {
   "cell_type": "code",
   "execution_count": null,
   "id": "a85c03bb-ad0a-49d6-bb45-e3a838bc7842",
   "metadata": {},
   "outputs": [],
   "source": [
    "top_genes_var[exp_id] = (\n",
    "    log2_test_data.mad(axis=1)\n",
    "    .sort_values(ascending=False)\n",
    "    .head(N_TOP_GENES_MAX_VARIANCE)\n",
    ")"
   ]
  },
  {
   "cell_type": "code",
   "execution_count": null,
   "id": "91b50159-c5e0-405b-a39d-a181998fc506",
   "metadata": {},
   "outputs": [],
   "source": [
    "top_genes_var[exp_id]"
   ]
  },
  {
   "cell_type": "markdown",
   "id": "20c22f94-9336-4325-ba41-135f26c7bfcc",
   "metadata": {},
   "source": [
    "## Do selected genes with different methods overlap?"
   ]
  },
  {
   "cell_type": "code",
   "execution_count": null,
   "id": "baa066af-3b10-4fc8-8ecc-73b58df4cac1",
   "metadata": {},
   "outputs": [],
   "source": [
    "def overlap(x, y):\n",
    "    ov = set(x).intersection(set(y))\n",
    "    return len(ov)"
   ]
  },
  {
   "cell_type": "code",
   "execution_count": null,
   "id": "8f156975-9d94-40ba-89f8-3b5a35bc8d21",
   "metadata": {},
   "outputs": [],
   "source": [
    "assert overlap([1, 2, 3], [4, 5, 6]) == 0\n",
    "assert overlap([1, 2, 3], [2, 3, 4]) == 2"
   ]
  },
  {
   "cell_type": "code",
   "execution_count": null,
   "id": "4bbedd6b-4f16-4e70-a815-59e4f0635c9d",
   "metadata": {},
   "outputs": [],
   "source": [
    "genes_selection_methods = list(top_genes_var.keys())\n",
    "\n",
    "display(genes_selection_methods)\n",
    "assert len(genes_selection_methods) == 6"
   ]
  },
  {
   "cell_type": "code",
   "execution_count": null,
   "id": "20e1db39-fc8e-49e2-b83a-c9d3ec9100cb",
   "metadata": {},
   "outputs": [],
   "source": [
    "_gene_sets = np.array(\n",
    "    [top_genes_var[x].index.tolist() for x in genes_selection_methods]\n",
    ")"
   ]
  },
  {
   "cell_type": "code",
   "execution_count": null,
   "id": "c199a883-2024-415b-abe0-09858329a17e",
   "metadata": {},
   "outputs": [],
   "source": [
    "_gene_sets[:2]"
   ]
  },
  {
   "cell_type": "code",
   "execution_count": null,
   "id": "3b4b13ab-1071-4ac5-b3d0-57689df094cb",
   "metadata": {},
   "outputs": [],
   "source": [
    "assert overlap(_gene_sets[0], _gene_sets[0]) == 5000"
   ]
  },
  {
   "cell_type": "code",
   "execution_count": null,
   "id": "b1f37ffb-6048-4bb6-8610-34ce214a535c",
   "metadata": {},
   "outputs": [],
   "source": [
    "_tmp = squareform(pdist(_gene_sets, metric=overlap))\n",
    "np.fill_diagonal(_tmp, _gene_sets[0].shape[0])\n",
    "_tmp = pd.DataFrame(\n",
    "    _tmp, index=genes_selection_methods, columns=genes_selection_methods\n",
    ")\n",
    "\n",
    "display(_tmp)"
   ]
  },
  {
   "cell_type": "markdown",
   "id": "2400831a-f243-42b1-b3f2-6cb48f4db7c2",
   "metadata": {},
   "source": [
    "Some methods select very different sets of genes, particularly between `cv`, where there is no agreement between the same approach on `log2` and `raw` data.\n",
    "\n",
    "Since they are similar, the largest overlap is between `var_*` anad `mad_*` approaches."
   ]
  },
  {
   "cell_type": "code",
   "execution_count": null,
   "id": "4f88aee6-ef7d-43a0-89b7-b62123f60f6a",
   "metadata": {},
   "outputs": [],
   "source": [
    "# get list of methods that agree more with the rest\n",
    "(_tmp.sum() - 5000).sort_values(ascending=False)"
   ]
  },
  {
   "cell_type": "markdown",
   "id": "7543a2fd-01a3-43db-8381-099198c1cbad",
   "metadata": {},
   "source": [
    "# How different are genes selected by `raw` and `log2`?"
   ]
  },
  {
   "cell_type": "markdown",
   "id": "8425a5ac-1a7f-484b-ba46-e31be8f4de72",
   "metadata": {},
   "source": [
    "Here I focus on `raw` and `log2` with the `var` (variance) method."
   ]
  },
  {
   "cell_type": "code",
   "execution_count": null,
   "id": "6a1a4c94-0018-4a22-8e4c-7fbc2986aa8e",
   "metadata": {},
   "outputs": [],
   "source": [
    "genes_df = pd.DataFrame(top_genes_var)"
   ]
  },
  {
   "cell_type": "code",
   "execution_count": null,
   "id": "1cde9f69-ddb3-47b8-bc61-d5c3ec0ff643",
   "metadata": {},
   "outputs": [],
   "source": [
    "genes_df.shape"
   ]
  },
  {
   "cell_type": "code",
   "execution_count": null,
   "id": "517e0521-2b48-4b44-8ab0-03b61faaf043",
   "metadata": {},
   "outputs": [],
   "source": [
    "genes_df.head()"
   ]
  },
  {
   "cell_type": "code",
   "execution_count": null,
   "id": "66a1a21f-5a0d-4965-b5bd-d006dff3525d",
   "metadata": {},
   "outputs": [],
   "source": [
    "cols = [\"var_raw\", \"var_log2\"]"
   ]
  },
  {
   "cell_type": "markdown",
   "id": "65c4eb38-87e3-4058-b11a-9a5775391253",
   "metadata": {},
   "source": [
    "## Genes select in both raw and log2"
   ]
  },
  {
   "cell_type": "code",
   "execution_count": null,
   "id": "dfb3dccf-15a3-4eee-b75a-47ee1dacc29d",
   "metadata": {},
   "outputs": [],
   "source": [
    "# show top genes selected by both var_raw and var_log2\n",
    "genes_df.loc[\n",
    "    top_genes_var[\"var_raw\"].index.intersection(top_genes_var[\"var_log2\"].index), cols\n",
    "].head()"
   ]
  },
  {
   "cell_type": "code",
   "execution_count": null,
   "id": "52203ae8-6186-4ee7-a878-3fceeb05e9f5",
   "metadata": {},
   "outputs": [],
   "source": [
    "_gene_ids = [\n",
    "    \"ENSG00000163631.16\",  # larger in raw\n",
    "    \"ENSG00000110245.11\",  # larger in log2\n",
    "]"
   ]
  },
  {
   "cell_type": "code",
   "execution_count": null,
   "id": "9cedfcc0-98d2-492f-b09c-30315481b8de",
   "metadata": {},
   "outputs": [],
   "source": [
    "# plot density on raw\n",
    "for gene_id in _gene_ids:\n",
    "    sns.kdeplot(data=test_data.T, x=gene_id, label=gene_id)\n",
    "\n",
    "plt.legend()"
   ]
  },
  {
   "cell_type": "code",
   "execution_count": null,
   "id": "a160fe2c-7210-4a5a-b32f-c142ca2f8e79",
   "metadata": {},
   "outputs": [],
   "source": [
    "# same genes, but plot density on log2\n",
    "for gene_id in _gene_ids:\n",
    "    sns.kdeplot(data=log2_test_data.T, x=gene_id, label=gene_id)\n",
    "\n",
    "plt.legend()"
   ]
  },
  {
   "cell_type": "markdown",
   "id": "996df6bd-6ef2-4d9d-837f-a63fd7a7387f",
   "metadata": {},
   "source": [
    "`var_log2` seems to select genes that tend to be more bimodal (with many cases around no expression and other around highly expressed), whereas `var_raw` selects genes with a unimodal distribution."
   ]
  },
  {
   "cell_type": "markdown",
   "id": "3361d7ec-e10b-49c3-acf1-ca8c3c2fb49a",
   "metadata": {},
   "source": [
    "## Genes selected in raw only"
   ]
  },
  {
   "cell_type": "code",
   "execution_count": null,
   "id": "d731ad2f-5954-4e9d-8199-791bd28ca516",
   "metadata": {},
   "outputs": [],
   "source": [
    "# show top genes selected by var_raw\n",
    "genes_df.loc[top_genes_var[\"var_raw\"].index, cols].head()"
   ]
  },
  {
   "cell_type": "code",
   "execution_count": null,
   "id": "4b44348e-3bd1-4c18-98b5-aa60d9f6cd8f",
   "metadata": {},
   "outputs": [],
   "source": [
    "_gene_ids = [\"ENSG00000244734.3\", \"ENSG00000188536.12\"]"
   ]
  },
  {
   "cell_type": "code",
   "execution_count": null,
   "id": "86c78db2-13ca-406b-a9b2-7b03f4422cd8",
   "metadata": {},
   "outputs": [],
   "source": [
    "# plot density on raw\n",
    "for gene_id in _gene_ids:\n",
    "    sns.kdeplot(data=test_data.T, x=gene_id, label=gene_id)\n",
    "\n",
    "plt.legend()"
   ]
  },
  {
   "cell_type": "code",
   "execution_count": null,
   "id": "f2ea8ec8-d4e4-40cd-b4d3-38d6258c404f",
   "metadata": {},
   "outputs": [],
   "source": [
    "# same genes, but plot density on log2\n",
    "for gene_id in _gene_ids:\n",
    "    sns.kdeplot(data=log2_test_data.T, x=gene_id, label=gene_id)\n",
    "\n",
    "plt.legend()"
   ]
  },
  {
   "cell_type": "markdown",
   "id": "50810453-27de-407a-a3da-16fbea540c84",
   "metadata": {},
   "source": [
    "## Genes selected in log2 only"
   ]
  },
  {
   "cell_type": "code",
   "execution_count": null,
   "id": "f0d1d563-6c4c-4c67-ad73-1e73c1dbb1eb",
   "metadata": {},
   "outputs": [],
   "source": [
    "# show top genes selected by var_log2\n",
    "genes_df.loc[top_genes_var[\"var_log2\"].index, cols].head()"
   ]
  },
  {
   "cell_type": "code",
   "execution_count": null,
   "id": "304cfdd5-1c47-400a-a3dd-7ebf08541fe1",
   "metadata": {},
   "outputs": [],
   "source": [
    "_gene_ids = [\"ENSG00000213058.3\", \"ENSG00000200879.1\", \"ENSG00000211918.1\"]"
   ]
  },
  {
   "cell_type": "code",
   "execution_count": null,
   "id": "cfdbfae6-82b0-4a93-b8e0-0e42d0ff40f3",
   "metadata": {},
   "outputs": [],
   "source": [
    "# plot density on raw\n",
    "for gene_id in _gene_ids:\n",
    "    sns.kdeplot(data=test_data.T, x=gene_id, label=gene_id)\n",
    "\n",
    "plt.legend()"
   ]
  },
  {
   "cell_type": "code",
   "execution_count": null,
   "id": "dab2f854-fbac-4e68-a0f9-758737365072",
   "metadata": {},
   "outputs": [],
   "source": [
    "# same genes, but plot density on log2\n",
    "for gene_id in _gene_ids:\n",
    "    sns.kdeplot(data=log2_test_data.T, x=gene_id, label=gene_id)\n",
    "\n",
    "plt.legend()"
   ]
  },
  {
   "cell_type": "markdown",
   "id": "01dcaf4a-12a7-46e2-ae58-ab5b2b51e7cf",
   "metadata": {},
   "source": [
    "**CONCLUSION:** Both `var_raw` (that is, the strategy that selects the top genes with highest variance on raw TPM-normalized data) and `var_log2` (highest variance on log2-transformed TPM-normalized data) seem to be interesting. `var_raw` seems to select genes that are expressed around a mean, less expressed in some conditions and more expressed in others. `var_log2` tends to select genes that are not expressed (zero expression) in several conditions, and relatively highly expressed in others, which might capture important genes such as transcriptor factors (see https://www.biorxiv.org/content/10.1101/2020.02.13.944777v1)."
   ]
  },
  {
   "cell_type": "markdown",
   "id": "c5b54814-c607-4dbe-bc47-bb4fe058ed93",
   "metadata": {},
   "source": [
    "# Select top genes for each tissue data file"
   ]
  },
  {
   "cell_type": "markdown",
   "id": "8904a4c2-2855-4243-8d53-37d45aacae87",
   "metadata": {},
   "source": [
    "Based on the previous findings, I select genes with both strategies `var_raw` and `var_log2`."
   ]
  },
  {
   "cell_type": "code",
   "execution_count": null,
   "id": "b78c27fe-ad78-497c-97ad-e21d38455a34",
   "metadata": {},
   "outputs": [],
   "source": [
    "input_files = list(INPUT_DIR.glob(\"*.pkl\"))\n",
    "assert len(input_files) == 54, len(input_files)\n",
    "\n",
    "display(input_files[:5])"
   ]
  },
  {
   "cell_type": "markdown",
   "id": "ce8ea183-c567-42dd-abaf-320a9d0ef482",
   "metadata": {},
   "source": [
    "## Run"
   ]
  },
  {
   "cell_type": "code",
   "execution_count": null,
   "id": "83685682-4842-44e9-83c1-405365fee395",
   "metadata": {},
   "outputs": [],
   "source": [
    "pbar = tqdm(input_files, ncols=100)\n",
    "\n",
    "for tissue_data_file in pbar:\n",
    "    pbar.set_description(tissue_data_file.stem)\n",
    "\n",
    "    tissue_data = pd.read_pickle(tissue_data_file)\n",
    "\n",
    "    # select top genes\n",
    "\n",
    "    ## var_raw\n",
    "    top_genes_var = (\n",
    "        tissue_data.var(axis=1)\n",
    "        .sort_values(ascending=False)\n",
    "        .head(N_TOP_GENES_MAX_VARIANCE)\n",
    "    )\n",
    "    selected_tissue_data = tissue_data.loc[top_genes_var.index]\n",
    "\n",
    "    output_filename = f\"{tissue_data_file.stem}-var_raw.pkl\"\n",
    "    selected_tissue_data.to_pickle(path=OUTPUT_DIR / output_filename)\n",
    "\n",
    "    ## var_log2\n",
    "    log2_tissue_data = np.log2(tissue_data)\n",
    "    log2_tissue_data = log2_tissue_data.apply(replace_by_minimum)\n",
    "\n",
    "    top_genes_var = (\n",
    "        log2_tissue_data.var(axis=1)\n",
    "        .sort_values(ascending=False)\n",
    "        .head(N_TOP_GENES_MAX_VARIANCE)\n",
    "    )\n",
    "    selected_tissue_data = tissue_data.loc[top_genes_var.index]\n",
    "\n",
    "    output_filename = f\"{tissue_data_file.stem}-var_log2.pkl\"\n",
    "    selected_tissue_data.to_pickle(path=OUTPUT_DIR / output_filename)"
   ]
  },
  {
   "cell_type": "markdown",
   "id": "34526b2f-dbc9-48a5-8d09-58f418db1e72",
   "metadata": {},
   "source": [
    "## Testing"
   ]
  },
  {
   "cell_type": "code",
   "execution_count": null,
   "id": "5ae77408-e4b1-4a54-942a-61bc402718e3",
   "metadata": {},
   "outputs": [],
   "source": [
    "_tmp_raw = pd.read_pickle(\n",
    "    OUTPUT_DIR / \"gtex_v8_data_brain_nucleus_accumbens_basal_ganglia-var_raw.pkl\"\n",
    ")\n",
    "_tmp_log2 = pd.read_pickle(\n",
    "    OUTPUT_DIR / \"gtex_v8_data_brain_nucleus_accumbens_basal_ganglia-var_log2.pkl\"\n",
    ")"
   ]
  },
  {
   "cell_type": "code",
   "execution_count": null,
   "id": "3573554b-91b1-487c-a1bf-1022d25278b9",
   "metadata": {},
   "outputs": [],
   "source": [
    "display(_tmp_raw.shape)\n",
    "assert _tmp_raw.shape == _tmp_log2.shape"
   ]
  },
  {
   "cell_type": "code",
   "execution_count": null,
   "id": "876d3f6e-b8e4-462a-9d3f-69af2a6b2c4e",
   "metadata": {},
   "outputs": [],
   "source": [
    "_tmp_raw.head()"
   ]
  },
  {
   "cell_type": "code",
   "execution_count": null,
   "id": "e99368bd-6569-4048-8a03-efc5af3655ee",
   "metadata": {},
   "outputs": [],
   "source": [
    "_tmp_desc = _tmp_raw.T.iloc[:, :5].describe()\n",
    "display(_tmp_desc)\n",
    "\n",
    "assert _tmp_desc.loc[\"max\"].min() > 80000\n",
    "assert _tmp_desc.loc[\"max\"].min() < 205000"
   ]
  },
  {
   "cell_type": "code",
   "execution_count": null,
   "id": "83461b4b-fe9f-4219-b5d1-6109cc167bca",
   "metadata": {},
   "outputs": [],
   "source": [
    "_tmp_log2.head()"
   ]
  },
  {
   "cell_type": "code",
   "execution_count": null,
   "id": "d95ea092-6089-4f8b-a2d3-b97c6f07762c",
   "metadata": {},
   "outputs": [],
   "source": [
    "_tmp_desc = _tmp_log2.T.iloc[:, :5].describe()\n",
    "display(_tmp_desc)\n",
    "\n",
    "assert _tmp_desc.loc[\"max\"].min() > 8\n",
    "assert _tmp_desc.loc[\"max\"].min() < 300"
   ]
  },
  {
   "cell_type": "code",
   "execution_count": null,
   "id": "192eefa7-cf9a-4186-ab84-9ba9836b02bb",
   "metadata": {},
   "outputs": [],
   "source": [
    "assert _tmp_raw.columns.tolist() == _tmp_log2.columns.tolist()"
   ]
  },
  {
   "cell_type": "code",
   "execution_count": null,
   "id": "b58e3ef4-e152-4f12-8e7e-1bea1b541a8b",
   "metadata": {},
   "outputs": [],
   "source": [
    "assert len(set(_tmp_raw.index).intersection(set(_tmp_log2.index))) == 23"
   ]
  },
  {
   "cell_type": "code",
   "execution_count": null,
   "id": "03747a27-4636-48e5-8c1f-3a75fc174a4d",
   "metadata": {},
   "outputs": [],
   "source": []
  }
 ],
 "metadata": {
  "jupytext": {
   "cell_metadata_filter": "all,-execution,-papermill,-trusted"
  },
  "kernelspec": {
   "display_name": "Python 3 (ipykernel)",
   "language": "python",
   "name": "python3"
  },
  "language_info": {
   "codemirror_mode": {
    "name": "ipython",
    "version": 3
   },
   "file_extension": ".py",
   "mimetype": "text/x-python",
   "name": "python",
   "nbconvert_exporter": "python",
   "pygments_lexer": "ipython3",
   "version": "3.9.6"
  },
  "toc-autonumbering": true,
  "toc-showcode": false,
  "toc-showmarkdowntxt": false
 },
 "nbformat": 4,
 "nbformat_minor": 5
}
