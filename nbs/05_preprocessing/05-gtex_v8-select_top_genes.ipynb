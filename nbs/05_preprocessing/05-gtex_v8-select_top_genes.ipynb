{
 "cells": [
  {
   "cell_type": "markdown",
   "id": "871d5ed2-95c8-48db-b3b3-394fea7a035b",
   "metadata": {
    "papermill": {
     "duration": 0.070377,
     "end_time": "2021-08-28T03:41:34.157557",
     "exception": false,
     "start_time": "2021-08-28T03:41:34.087180",
     "status": "completed"
    },
    "tags": []
   },
   "source": [
    "# Description"
   ]
  },
  {
   "cell_type": "markdown",
   "id": "06b29f41-a8f0-4274-8f72-a5b7cc19bc4e",
   "metadata": {
    "papermill": {
     "duration": 0.041135,
     "end_time": "2021-08-28T03:41:34.241906",
     "exception": false,
     "start_time": "2021-08-28T03:41:34.200771",
     "status": "completed"
    },
    "tags": []
   },
   "source": [
    "It analyzes different strategies to take the genes from GTEx data with the highest variability, being this variability measured with different strategies: variance (`var`), coefficient of variation (`cv`) and mean absolute variation (`mad`) applied on two different versions of the data: 1) the raw TPM-normalized gene expression data (here refered to as `raw`), and 2) the log2-transformed version of the raw data (here refered to as `log2`)."
   ]
  },
  {
   "cell_type": "markdown",
   "id": "d05acbf3-ee34-4e31-b359-58d5ffde4213",
   "metadata": {
    "papermill": {
     "duration": 0.041319,
     "end_time": "2021-08-28T03:41:34.325403",
     "exception": false,
     "start_time": "2021-08-28T03:41:34.284084",
     "status": "completed"
    },
    "tags": []
   },
   "source": [
    "# Modules"
   ]
  },
  {
   "cell_type": "code",
   "execution_count": null,
   "id": "9e466133-c98a-4ca1-9c62-99a70576aca4",
   "metadata": {
    "papermill": {
     "duration": 1.042993,
     "end_time": "2021-08-28T03:41:35.409729",
     "exception": false,
     "start_time": "2021-08-28T03:41:34.366736",
     "status": "completed"
    },
    "tags": []
   },
   "outputs": [],
   "source": [
    "import numpy as np\n",
    "from scipy.spatial.distance import pdist, squareform\n",
    "import pandas as pd\n",
    "import matplotlib.pyplot as plt\n",
    "import seaborn as sns\n",
    "from sklearn.decomposition import PCA\n",
    "from sklearn.preprocessing import scale\n",
    "from tqdm import tqdm\n",
    "\n",
    "from clustermatch import conf"
   ]
  },
  {
   "cell_type": "markdown",
   "id": "4da399b4-f533-4cd0-8de7-a9afde79abb4",
   "metadata": {
    "papermill": {
     "duration": 0.041497,
     "end_time": "2021-08-28T03:41:35.493961",
     "exception": false,
     "start_time": "2021-08-28T03:41:35.452464",
     "status": "completed"
    },
    "tags": []
   },
   "source": [
    "# Settings"
   ]
  },
  {
   "cell_type": "code",
   "execution_count": null,
   "id": "e08d3edb-96a2-4735-ad26-fbf77deacc3a",
   "metadata": {
    "papermill": {
     "duration": 0.04671,
     "end_time": "2021-08-28T03:41:35.581799",
     "exception": false,
     "start_time": "2021-08-28T03:41:35.535089",
     "status": "completed"
    },
    "tags": []
   },
   "outputs": [],
   "source": [
    "N_TOP_GENES_MAX_VARIANCE = 5000"
   ]
  },
  {
   "cell_type": "markdown",
   "id": "79484a9e-8dd9-46b5-bfad-27c257b2b50d",
   "metadata": {
    "papermill": {
     "duration": 0.040922,
     "end_time": "2021-08-28T03:41:35.664644",
     "exception": false,
     "start_time": "2021-08-28T03:41:35.623722",
     "status": "completed"
    },
    "tags": []
   },
   "source": [
    "# Paths"
   ]
  },
  {
   "cell_type": "code",
   "execution_count": null,
   "id": "f7254449-849e-4bb2-bb02-d52f85589145",
   "metadata": {
    "papermill": {
     "duration": 0.048625,
     "end_time": "2021-08-28T03:41:35.754510",
     "exception": false,
     "start_time": "2021-08-28T03:41:35.705885",
     "status": "completed"
    },
    "tags": []
   },
   "outputs": [],
   "source": [
    "INPUT_DIR = conf.GTEX[\"DATA_DIR\"] / \"data_by_tissue\"\n",
    "display(INPUT_DIR)"
   ]
  },
  {
   "cell_type": "code",
   "execution_count": null,
   "id": "0ef4566f-122f-49e8-99be-491308219cc1",
   "metadata": {
    "papermill": {
     "duration": 0.048722,
     "end_time": "2021-08-28T03:41:35.845461",
     "exception": false,
     "start_time": "2021-08-28T03:41:35.796739",
     "status": "completed"
    },
    "tags": []
   },
   "outputs": [],
   "source": [
    "OUTPUT_DIR = conf.GTEX[\"GENE_SELECTION_DIR\"]\n",
    "OUTPUT_DIR.mkdir(parents=True, exist_ok=True)\n",
    "display(OUTPUT_DIR)"
   ]
  },
  {
   "cell_type": "markdown",
   "id": "16f23bce-a6f7-4f87-b267-44595c764052",
   "metadata": {
    "papermill": {
     "duration": 0.041965,
     "end_time": "2021-08-28T03:41:35.929477",
     "exception": false,
     "start_time": "2021-08-28T03:41:35.887512",
     "status": "completed"
    },
    "tags": []
   },
   "source": [
    "# Functions"
   ]
  },
  {
   "cell_type": "code",
   "execution_count": null,
   "id": "0d703b74-2896-42bf-99bf-f349cd075b4a",
   "metadata": {
    "papermill": {
     "duration": 0.048321,
     "end_time": "2021-08-28T03:41:36.021811",
     "exception": false,
     "start_time": "2021-08-28T03:41:35.973490",
     "status": "completed"
    },
    "tags": []
   },
   "outputs": [],
   "source": [
    "PCA_OPTIONS = {\n",
    "    \"n_components\": 5,\n",
    "    \"random_state\": 0,\n",
    "}"
   ]
  },
  {
   "cell_type": "code",
   "execution_count": null,
   "id": "acee6627-134b-454a-a501-9b2f81d92239",
   "metadata": {
    "papermill": {
     "duration": 0.047592,
     "end_time": "2021-08-28T03:41:36.111416",
     "exception": false,
     "start_time": "2021-08-28T03:41:36.063824",
     "status": "completed"
    },
    "tags": []
   },
   "outputs": [],
   "source": [
    "def standardize(data):\n",
    "    return pd.DataFrame(\n",
    "        data=scale(data),\n",
    "        index=data.index.copy(),\n",
    "        columns=data.columns.copy(),\n",
    "    )"
   ]
  },
  {
   "cell_type": "code",
   "execution_count": null,
   "id": "973c35bb-952e-4c17-a482-c213f16ca615",
   "metadata": {
    "papermill": {
     "duration": 0.049377,
     "end_time": "2021-08-28T03:41:36.203221",
     "exception": false,
     "start_time": "2021-08-28T03:41:36.153844",
     "status": "completed"
    },
    "tags": []
   },
   "outputs": [],
   "source": [
    "def plot_pca(data, std=True):\n",
    "    if std:\n",
    "        data = standardize(data)\n",
    "\n",
    "    clf = PCA(**PCA_OPTIONS)\n",
    "    pca_data = clf.fit_transform(data)\n",
    "\n",
    "    pca_data = pd.DataFrame(\n",
    "        data=pca_data,\n",
    "        index=data.index.copy(),\n",
    "        columns=[f\"PCA{i+1}\" for i in range(pca_data.shape[1])],\n",
    "    )\n",
    "\n",
    "    g = sns.pairplot(data=pca_data)\n",
    "    display(g)"
   ]
  },
  {
   "cell_type": "markdown",
   "id": "752ccc81-3c77-4a3f-b56e-cdbd862a7ba8",
   "metadata": {
    "papermill": {
     "duration": 0.042624,
     "end_time": "2021-08-28T03:41:36.287991",
     "exception": false,
     "start_time": "2021-08-28T03:41:36.245367",
     "status": "completed"
    },
    "tags": []
   },
   "source": [
    "# Compare different criteria to select highly variable genes"
   ]
  },
  {
   "cell_type": "code",
   "execution_count": null,
   "id": "59713366-e256-4d52-9a11-28f68c9a25e7",
   "metadata": {
    "papermill": {
     "duration": 0.047831,
     "end_time": "2021-08-28T03:41:36.378189",
     "exception": false,
     "start_time": "2021-08-28T03:41:36.330358",
     "status": "completed"
    },
    "tags": []
   },
   "outputs": [],
   "source": [
    "# I will store here the top genes selected by each method\n",
    "top_genes_var = {}"
   ]
  },
  {
   "cell_type": "markdown",
   "id": "e906f610-d6ef-4769-a311-41544088c7d6",
   "metadata": {
    "papermill": {
     "duration": 0.042406,
     "end_time": "2021-08-28T03:41:36.463465",
     "exception": false,
     "start_time": "2021-08-28T03:41:36.421059",
     "status": "completed"
    },
    "tags": []
   },
   "source": [
    "## Get test data"
   ]
  },
  {
   "cell_type": "code",
   "execution_count": null,
   "id": "de4109a0-f68e-4713-86c1-919845620733",
   "metadata": {
    "papermill": {
     "duration": 0.206088,
     "end_time": "2021-08-28T03:41:36.711589",
     "exception": false,
     "start_time": "2021-08-28T03:41:36.505501",
     "status": "completed"
    },
    "tags": []
   },
   "outputs": [],
   "source": [
    "test_data = pd.read_pickle(INPUT_DIR / \"gtex_v8_data_whole_blood.pkl\")"
   ]
  },
  {
   "cell_type": "code",
   "execution_count": null,
   "id": "e374704f-f4ee-4f31-bc33-0c3ed6377b6a",
   "metadata": {
    "papermill": {
     "duration": 0.048826,
     "end_time": "2021-08-28T03:41:36.808394",
     "exception": false,
     "start_time": "2021-08-28T03:41:36.759568",
     "status": "completed"
    },
    "tags": []
   },
   "outputs": [],
   "source": [
    "test_data.shape"
   ]
  },
  {
   "cell_type": "code",
   "execution_count": null,
   "id": "99918a52-c918-48e7-bb77-4d718097609e",
   "metadata": {
    "papermill": {
     "duration": 0.064696,
     "end_time": "2021-08-28T03:41:36.915923",
     "exception": false,
     "start_time": "2021-08-28T03:41:36.851227",
     "status": "completed"
    },
    "tags": []
   },
   "outputs": [],
   "source": [
    "test_data.head()"
   ]
  },
  {
   "cell_type": "code",
   "execution_count": null,
   "id": "737c42d1-ed0f-4009-81c5-86366b85ab8b",
   "metadata": {},
   "outputs": [],
   "source": [
    "test_data_desc = pd.Series(test_data.to_numpy().flatten()).describe()\n",
    "display(test_data_desc)\n",
    "\n",
    "assert test_data_desc[\"min\"] == 0.0\n",
    "assert test_data_desc[\"max\"] < 7.5e5"
   ]
  },
  {
   "cell_type": "markdown",
   "id": "c1b023f6-e73f-4dd2-b3d3-a940110a4e31",
   "metadata": {
    "papermill": {
     "duration": 0.047909,
     "end_time": "2021-08-28T03:41:37.007599",
     "exception": false,
     "start_time": "2021-08-28T03:41:36.959690",
     "status": "completed"
    },
    "tags": []
   },
   "source": [
    "## Get test data in log2"
   ]
  },
  {
   "cell_type": "code",
   "execution_count": null,
   "id": "08029eb1-0413-414b-9be8-57c194826100",
   "metadata": {
    "papermill": {
     "duration": 0.492611,
     "end_time": "2021-08-28T03:41:37.549561",
     "exception": false,
     "start_time": "2021-08-28T03:41:37.056950",
     "status": "completed"
    },
    "tags": []
   },
   "outputs": [],
   "source": [
    "# attempt a direct log transformation without any change to the raw data\n",
    "log2_test_data = np.log2(test_data)"
   ]
  },
  {
   "cell_type": "code",
   "execution_count": null,
   "id": "92164082-672f-4925-9c94-59bf8d01ec56",
   "metadata": {
    "papermill": {
     "duration": 0.492611,
     "end_time": "2021-08-28T03:41:37.549561",
     "exception": false,
     "start_time": "2021-08-28T03:41:37.056950",
     "status": "completed"
    },
    "tags": []
   },
   "outputs": [],
   "source": [
    "log2_test_data.shape"
   ]
  },
  {
   "cell_type": "code",
   "execution_count": null,
   "id": "f39d3f1f-6750-4c99-ae79-6de2d3bddf0d",
   "metadata": {
    "papermill": {
     "duration": 0.063111,
     "end_time": "2021-08-28T03:41:37.655956",
     "exception": false,
     "start_time": "2021-08-28T03:41:37.592845",
     "status": "completed"
    },
    "tags": []
   },
   "outputs": [],
   "source": [
    "log2_test_data.head()"
   ]
  },
  {
   "cell_type": "code",
   "execution_count": null,
   "id": "f3f06b64-625d-425a-8641-f8e04d526c20",
   "metadata": {},
   "outputs": [],
   "source": [
    "# get minimum values by removing -np.inf first\n",
    "sample_min_values = pd.Series(log2_test_data.replace(-np.inf, np.nan).to_numpy().flatten()).dropna().sort_values()"
   ]
  },
  {
   "cell_type": "code",
   "execution_count": null,
   "id": "070190b9-462a-40d2-b9d7-25750522da63",
   "metadata": {},
   "outputs": [],
   "source": [
    "sample_min_values.head()"
   ]
  },
  {
   "cell_type": "code",
   "execution_count": null,
   "id": "183a1392-e5a1-49a8-8c1a-48d8264792f5",
   "metadata": {},
   "outputs": [],
   "source": [
    "# get the min value and replace -np.inf by it\n",
    "log2_min_value = sample_min = sample_min_values.iloc[0]\n",
    "display(log2_min_value)\n",
    "assert log2_min_value < -13.0\n",
    "assert log2_min_value > -13.5"
   ]
  },
  {
   "cell_type": "code",
   "execution_count": null,
   "id": "d7181f4d-3a80-48e2-8d03-cde9eb1c3eef",
   "metadata": {},
   "outputs": [],
   "source": [
    "log2_test_data = log2_test_data.replace(-np.inf, log2_min_value * 1.3)"
   ]
  },
  {
   "cell_type": "code",
   "execution_count": null,
   "id": "1f7c921d-4984-4dac-a2e3-84024cdc586b",
   "metadata": {
    "papermill": {
     "duration": 0.050555,
     "end_time": "2021-08-28T03:41:41.870443",
     "exception": false,
     "start_time": "2021-08-28T03:41:41.819888",
     "status": "completed"
    },
    "tags": []
   },
   "outputs": [],
   "source": [
    "log2_test_data.shape"
   ]
  },
  {
   "cell_type": "code",
   "execution_count": null,
   "id": "2e34b9d4-b813-4f30-9da0-9d56f37f4d91",
   "metadata": {},
   "outputs": [],
   "source": [
    "assert (\n",
    "    log2_test_data.iloc[:, [0]]\n",
    "    .squeeze()\n",
    "    .loc[\"ENSG00000278267.1\"]\n",
    "    .round(5)\n",
    "    == -17.28173\n",
    ")"
   ]
  },
  {
   "cell_type": "code",
   "execution_count": null,
   "id": "90db9e7a-9281-45d4-9ed0-6d99971d5f14",
   "metadata": {
    "papermill": {
     "duration": 0.063987,
     "end_time": "2021-08-28T03:41:41.979149",
     "exception": false,
     "start_time": "2021-08-28T03:41:41.915162",
     "status": "completed"
    },
    "tags": []
   },
   "outputs": [],
   "source": [
    "log2_test_data.head()"
   ]
  },
  {
   "cell_type": "code",
   "execution_count": null,
   "id": "46ad24cb-121d-4cdb-b677-6190e9d6bddd",
   "metadata": {
    "papermill": {
     "duration": 0.080756,
     "end_time": "2021-08-28T03:41:42.110254",
     "exception": false,
     "start_time": "2021-08-28T03:41:42.029498",
     "status": "completed"
    },
    "tags": []
   },
   "outputs": [],
   "source": [
    "log2_test_data.iloc[:10, :].T.describe()"
   ]
  },
  {
   "cell_type": "code",
   "execution_count": null,
   "id": "281e468c-e751-4438-a098-408186559f74",
   "metadata": {
    "papermill": {
     "duration": 0.492611,
     "end_time": "2021-08-28T03:41:37.549561",
     "exception": false,
     "start_time": "2021-08-28T03:41:37.056950",
     "status": "completed"
    },
    "tags": []
   },
   "outputs": [],
   "source": [
    "# get some stats\n",
    "log2_test_data_desc = pd.Series(log2_test_data.to_numpy().flatten()).describe()\n",
    "display(log2_test_data_desc)"
   ]
  },
  {
   "cell_type": "markdown",
   "id": "88207f44-0691-4010-8b10-2d55b3d71772",
   "metadata": {
    "papermill": {
     "duration": 0.047909,
     "end_time": "2021-08-28T03:41:37.007599",
     "exception": false,
     "start_time": "2021-08-28T03:41:36.959690",
     "status": "completed"
    },
    "tags": []
   },
   "source": [
    "## Get test data in log2 after pseudocount"
   ]
  },
  {
   "cell_type": "markdown",
   "id": "f55627a4-acfb-467b-b979-71e65f89cf5d",
   "metadata": {},
   "source": [
    "Here I try another approach to log-transform the data by using pseudocounts. See:\n",
    " - https://github.com/greenelab/clustermatch-gene-expr/pull/4#discussion_r698793383"
   ]
  },
  {
   "cell_type": "code",
   "execution_count": null,
   "id": "9b31c44b-5151-4868-b783-390ef3321342",
   "metadata": {},
   "outputs": [],
   "source": [
    "log2_pc_test_data = np.log2(test_data + 1)"
   ]
  },
  {
   "cell_type": "code",
   "execution_count": null,
   "id": "d6d4fd9f-0af1-4298-b225-641a1d5402e1",
   "metadata": {
    "papermill": {
     "duration": 0.492611,
     "end_time": "2021-08-28T03:41:37.549561",
     "exception": false,
     "start_time": "2021-08-28T03:41:37.056950",
     "status": "completed"
    },
    "tags": []
   },
   "outputs": [],
   "source": [
    "log2_pc_test_data.shape"
   ]
  },
  {
   "cell_type": "code",
   "execution_count": null,
   "id": "7a9be180-e446-4617-9d8a-96ff6490e0a4",
   "metadata": {
    "papermill": {
     "duration": 0.492611,
     "end_time": "2021-08-28T03:41:37.549561",
     "exception": false,
     "start_time": "2021-08-28T03:41:37.056950",
     "status": "completed"
    },
    "tags": []
   },
   "outputs": [],
   "source": [
    "# get some stats\n",
    "log2_pc_test_data_desc = pd.Series(log2_pc_test_data.to_numpy().flatten()).describe()\n",
    "display(log2_pc_test_data_desc)"
   ]
  },
  {
   "cell_type": "code",
   "execution_count": null,
   "id": "31da0edd-a054-48b6-8fab-557dfae2a516",
   "metadata": {
    "papermill": {
     "duration": 0.063111,
     "end_time": "2021-08-28T03:41:37.655956",
     "exception": false,
     "start_time": "2021-08-28T03:41:37.592845",
     "status": "completed"
    },
    "tags": []
   },
   "outputs": [],
   "source": [
    "log2_pc_test_data.head()"
   ]
  },
  {
   "cell_type": "markdown",
   "id": "f4003ac5-ef7a-471b-8cde-9491cd59ac9d",
   "metadata": {
    "papermill": {
     "duration": 0.045206,
     "end_time": "2021-08-28T03:41:42.202937",
     "exception": false,
     "start_time": "2021-08-28T03:41:42.157731",
     "status": "completed"
    },
    "tags": []
   },
   "source": [
    "## On TPM-normalized data (raw)"
   ]
  },
  {
   "cell_type": "markdown",
   "id": "ebe72a0e-55b9-49e6-aafe-6af2111bcff0",
   "metadata": {
    "papermill": {
     "duration": 0.045115,
     "end_time": "2021-08-28T03:41:42.292828",
     "exception": false,
     "start_time": "2021-08-28T03:41:42.247713",
     "status": "completed"
    },
    "tags": []
   },
   "source": [
    "### Variance"
   ]
  },
  {
   "cell_type": "code",
   "execution_count": null,
   "id": "f694e222-0403-4afd-9f32-82b544ed74c1",
   "metadata": {
    "papermill": {
     "duration": 0.050145,
     "end_time": "2021-08-28T03:41:42.387627",
     "exception": false,
     "start_time": "2021-08-28T03:41:42.337482",
     "status": "completed"
    },
    "tags": []
   },
   "outputs": [],
   "source": [
    "exp_id = \"var_raw\""
   ]
  },
  {
   "cell_type": "code",
   "execution_count": null,
   "id": "18dde4ef-0b8d-4ec0-a94d-c2464b67336c",
   "metadata": {
    "papermill": {
     "duration": 0.502562,
     "end_time": "2021-08-28T03:41:42.936011",
     "exception": false,
     "start_time": "2021-08-28T03:41:42.433449",
     "status": "completed"
    },
    "tags": []
   },
   "outputs": [],
   "source": [
    "top_genes_var[exp_id] = (\n",
    "    test_data.var(axis=1).sort_values(ascending=False).head(N_TOP_GENES_MAX_VARIANCE)\n",
    ")"
   ]
  },
  {
   "cell_type": "code",
   "execution_count": null,
   "id": "6cf3cad1-1cf6-44e2-b810-2709001bbac0",
   "metadata": {
    "papermill": {
     "duration": 0.058906,
     "end_time": "2021-08-28T03:41:43.062676",
     "exception": false,
     "start_time": "2021-08-28T03:41:43.003770",
     "status": "completed"
    },
    "tags": []
   },
   "outputs": [],
   "source": [
    "top_genes_var[exp_id]"
   ]
  },
  {
   "cell_type": "code",
   "execution_count": null,
   "id": "d7445fbf-8570-4047-a0dc-6dd12f0d9451",
   "metadata": {
    "papermill": {
     "duration": 0.07767,
     "end_time": "2021-08-28T03:41:43.186815",
     "exception": false,
     "start_time": "2021-08-28T03:41:43.109145",
     "status": "completed"
    },
    "tags": []
   },
   "outputs": [],
   "source": [
    "selected_data = test_data.loc[top_genes_var[exp_id].index]"
   ]
  },
  {
   "cell_type": "code",
   "execution_count": null,
   "id": "5ac28c81-bf36-4056-b493-a2e8b0fdd0f8",
   "metadata": {
    "papermill": {
     "duration": 0.052701,
     "end_time": "2021-08-28T03:41:43.297544",
     "exception": false,
     "start_time": "2021-08-28T03:41:43.244843",
     "status": "completed"
    },
    "tags": []
   },
   "outputs": [],
   "source": [
    "selected_data.shape"
   ]
  },
  {
   "cell_type": "code",
   "execution_count": null,
   "id": "244e00f8-c157-46ee-bcca-4aa33ced34ba",
   "metadata": {
    "papermill": {
     "duration": 109.378713,
     "end_time": "2021-08-28T03:43:32.723039",
     "exception": false,
     "start_time": "2021-08-28T03:41:43.344326",
     "status": "completed"
    },
    "tags": []
   },
   "outputs": [],
   "source": [
    "plot_pca(selected_data)"
   ]
  },
  {
   "cell_type": "markdown",
   "id": "04d25043-6bb5-41ce-91da-e74c14d1be58",
   "metadata": {
    "papermill": {
     "duration": 0.04862,
     "end_time": "2021-08-28T03:43:32.819938",
     "exception": false,
     "start_time": "2021-08-28T03:43:32.771318",
     "status": "completed"
    },
    "tags": []
   },
   "source": [
    "### Coefficient of variation"
   ]
  },
  {
   "cell_type": "code",
   "execution_count": null,
   "id": "1c82c033-aab4-4dcf-8e53-d9591d6f9f75",
   "metadata": {
    "papermill": {
     "duration": 0.053312,
     "end_time": "2021-08-28T03:43:32.921774",
     "exception": false,
     "start_time": "2021-08-28T03:43:32.868462",
     "status": "completed"
    },
    "tags": []
   },
   "outputs": [],
   "source": [
    "exp_id = \"cv_raw\""
   ]
  },
  {
   "cell_type": "code",
   "execution_count": null,
   "id": "e6b354ef-dae4-4954-a7a6-55b05c3f3e13",
   "metadata": {
    "papermill": {
     "duration": 0.619727,
     "end_time": "2021-08-28T03:43:33.589612",
     "exception": false,
     "start_time": "2021-08-28T03:43:32.969885",
     "status": "completed"
    },
    "tags": []
   },
   "outputs": [],
   "source": [
    "top_genes_var[exp_id] = (\n",
    "    (test_data.std(axis=1) / test_data.mean(axis=1))\n",
    "    .sort_values(ascending=False)\n",
    "    .head(N_TOP_GENES_MAX_VARIANCE)\n",
    ")"
   ]
  },
  {
   "cell_type": "code",
   "execution_count": null,
   "id": "aaef9229-cb0d-4b18-b37f-d53b0146982e",
   "metadata": {
    "papermill": {
     "duration": 0.059978,
     "end_time": "2021-08-28T03:43:33.704094",
     "exception": false,
     "start_time": "2021-08-28T03:43:33.644116",
     "status": "completed"
    },
    "tags": []
   },
   "outputs": [],
   "source": [
    "top_genes_var[exp_id]"
   ]
  },
  {
   "cell_type": "markdown",
   "id": "302aa6df-598a-46fa-adf3-4aaaabc0e300",
   "metadata": {
    "papermill": {
     "duration": 0.051748,
     "end_time": "2021-08-28T03:43:33.807154",
     "exception": false,
     "start_time": "2021-08-28T03:43:33.755406",
     "status": "completed"
    },
    "tags": []
   },
   "source": [
    "### Mean absolute variation"
   ]
  },
  {
   "cell_type": "code",
   "execution_count": null,
   "id": "87b89a06-468a-46b5-90bf-08577f2d812e",
   "metadata": {
    "papermill": {
     "duration": 0.057122,
     "end_time": "2021-08-28T03:43:33.915856",
     "exception": false,
     "start_time": "2021-08-28T03:43:33.858734",
     "status": "completed"
    },
    "tags": []
   },
   "outputs": [],
   "source": [
    "exp_id = \"mad_raw\""
   ]
  },
  {
   "cell_type": "code",
   "execution_count": null,
   "id": "cbae5642-2853-44e2-84f2-fc3c0bd10e9b",
   "metadata": {
    "papermill": {
     "duration": 0.392873,
     "end_time": "2021-08-28T03:43:34.360370",
     "exception": false,
     "start_time": "2021-08-28T03:43:33.967497",
     "status": "completed"
    },
    "tags": []
   },
   "outputs": [],
   "source": [
    "top_genes_var[exp_id] = (\n",
    "    test_data.mad(axis=1).sort_values(ascending=False).head(N_TOP_GENES_MAX_VARIANCE)\n",
    ")"
   ]
  },
  {
   "cell_type": "code",
   "execution_count": null,
   "id": "18a0480d-2200-4380-b5d6-f60809f524b2",
   "metadata": {
    "papermill": {
     "duration": 0.062033,
     "end_time": "2021-08-28T03:43:34.478554",
     "exception": false,
     "start_time": "2021-08-28T03:43:34.416521",
     "status": "completed"
    },
    "tags": []
   },
   "outputs": [],
   "source": [
    "top_genes_var[exp_id]"
   ]
  },
  {
   "cell_type": "markdown",
   "id": "960e7b1d-f5f8-44b7-aed4-3285015f782e",
   "metadata": {
    "papermill": {
     "duration": 0.052778,
     "end_time": "2021-08-28T03:43:34.583928",
     "exception": false,
     "start_time": "2021-08-28T03:43:34.531150",
     "status": "completed"
    },
    "tags": []
   },
   "source": [
    "## On log2 TPM-normalized data"
   ]
  },
  {
   "cell_type": "markdown",
   "id": "2c240b98-0061-4c47-8188-32474827e88b",
   "metadata": {
    "papermill": {
     "duration": 0.052423,
     "end_time": "2021-08-28T03:43:34.688596",
     "exception": false,
     "start_time": "2021-08-28T03:43:34.636173",
     "status": "completed"
    },
    "tags": []
   },
   "source": [
    "### Variance"
   ]
  },
  {
   "cell_type": "code",
   "execution_count": null,
   "id": "072f8c21-3cfe-4563-8d51-cd3fe82c33a6",
   "metadata": {
    "papermill": {
     "duration": 0.057795,
     "end_time": "2021-08-28T03:43:34.798844",
     "exception": false,
     "start_time": "2021-08-28T03:43:34.741049",
     "status": "completed"
    },
    "tags": []
   },
   "outputs": [],
   "source": [
    "exp_id = \"var_log2\""
   ]
  },
  {
   "cell_type": "code",
   "execution_count": null,
   "id": "cc1e1057-7cfa-43cf-a083-4e9b2bb11fba",
   "metadata": {
    "papermill": {
     "duration": 0.520126,
     "end_time": "2021-08-28T03:43:35.371556",
     "exception": false,
     "start_time": "2021-08-28T03:43:34.851430",
     "status": "completed"
    },
    "tags": []
   },
   "outputs": [],
   "source": [
    "top_genes_var[exp_id] = (\n",
    "    log2_test_data.var(axis=1)\n",
    "    .sort_values(ascending=False)\n",
    "    .head(N_TOP_GENES_MAX_VARIANCE)\n",
    ")"
   ]
  },
  {
   "cell_type": "code",
   "execution_count": null,
   "id": "42afc45a-5f73-42f2-8f65-a3ac5aabfe52",
   "metadata": {
    "papermill": {
     "duration": 0.062421,
     "end_time": "2021-08-28T03:43:35.486133",
     "exception": false,
     "start_time": "2021-08-28T03:43:35.423712",
     "status": "completed"
    },
    "tags": []
   },
   "outputs": [],
   "source": [
    "top_genes_var[exp_id]"
   ]
  },
  {
   "cell_type": "code",
   "execution_count": null,
   "id": "53843e20-505a-48f0-a997-41963346947b",
   "metadata": {
    "papermill": {
     "duration": 0.084997,
     "end_time": "2021-08-28T03:43:35.621881",
     "exception": false,
     "start_time": "2021-08-28T03:43:35.536884",
     "status": "completed"
    },
    "tags": []
   },
   "outputs": [],
   "source": [
    "# plot on raw\n",
    "selected_data = test_data.loc[top_genes_var[exp_id].index]"
   ]
  },
  {
   "cell_type": "code",
   "execution_count": null,
   "id": "fcf43370-4260-4a6d-9e4b-cd95fc59eb3f",
   "metadata": {
    "papermill": {
     "duration": 0.055658,
     "end_time": "2021-08-28T03:43:35.739608",
     "exception": false,
     "start_time": "2021-08-28T03:43:35.683950",
     "status": "completed"
    },
    "tags": []
   },
   "outputs": [],
   "source": [
    "selected_data.shape"
   ]
  },
  {
   "cell_type": "code",
   "execution_count": null,
   "id": "d482ae89-8a27-42ff-889d-e11aae161803",
   "metadata": {
    "papermill": {
     "duration": 83.221331,
     "end_time": "2021-08-28T03:44:59.010993",
     "exception": false,
     "start_time": "2021-08-28T03:43:35.789662",
     "status": "completed"
    },
    "tags": []
   },
   "outputs": [],
   "source": [
    "plot_pca(selected_data)"
   ]
  },
  {
   "cell_type": "code",
   "execution_count": null,
   "id": "3176455c-a01c-4ade-a97c-bb55ed44ceec",
   "metadata": {
    "papermill": {
     "duration": 0.082793,
     "end_time": "2021-08-28T03:44:59.144895",
     "exception": false,
     "start_time": "2021-08-28T03:44:59.062102",
     "status": "completed"
    },
    "tags": []
   },
   "outputs": [],
   "source": [
    "# plot on log2\n",
    "selected_data = log2_test_data.loc[top_genes_var[exp_id].index]"
   ]
  },
  {
   "cell_type": "code",
   "execution_count": null,
   "id": "5353e6f1-f9cc-4802-8bc2-a5b021c98e24",
   "metadata": {
    "papermill": {
     "duration": 0.057802,
     "end_time": "2021-08-28T03:44:59.265286",
     "exception": false,
     "start_time": "2021-08-28T03:44:59.207484",
     "status": "completed"
    },
    "tags": []
   },
   "outputs": [],
   "source": [
    "selected_data.shape"
   ]
  },
  {
   "cell_type": "code",
   "execution_count": null,
   "id": "96063dc1-be0a-4a29-9901-1ef2d8743314",
   "metadata": {
    "papermill": {
     "duration": 5.583686,
     "end_time": "2021-08-28T03:45:04.902113",
     "exception": false,
     "start_time": "2021-08-28T03:44:59.318427",
     "status": "completed"
    },
    "tags": []
   },
   "outputs": [],
   "source": [
    "plot_pca(selected_data)"
   ]
  },
  {
   "cell_type": "markdown",
   "id": "a60dbad7-28c3-4e68-8ff0-9c3cc4510484",
   "metadata": {
    "papermill": {
     "duration": 0.062362,
     "end_time": "2021-08-28T03:45:05.027741",
     "exception": false,
     "start_time": "2021-08-28T03:45:04.965379",
     "status": "completed"
    },
    "tags": []
   },
   "source": [
    "### Coefficient of variation"
   ]
  },
  {
   "cell_type": "code",
   "execution_count": null,
   "id": "cb138b6c-99c3-40a9-8c1b-183b8f6232ab",
   "metadata": {
    "papermill": {
     "duration": 0.067829,
     "end_time": "2021-08-28T03:45:05.157963",
     "exception": false,
     "start_time": "2021-08-28T03:45:05.090134",
     "status": "completed"
    },
    "tags": []
   },
   "outputs": [],
   "source": [
    "exp_id = \"cv_log2\""
   ]
  },
  {
   "cell_type": "code",
   "execution_count": null,
   "id": "915a1a97-d087-4bfd-851f-7c0143a8b1ce",
   "metadata": {
    "papermill": {
     "duration": 0.620266,
     "end_time": "2021-08-28T03:45:05.842377",
     "exception": false,
     "start_time": "2021-08-28T03:45:05.222111",
     "status": "completed"
    },
    "tags": []
   },
   "outputs": [],
   "source": [
    "top_genes_var[exp_id] = (\n",
    "    (log2_test_data.std(axis=1) / log2_test_data.mean(axis=1))\n",
    "    .sort_values(ascending=False)\n",
    "    .head(N_TOP_GENES_MAX_VARIANCE)\n",
    ")"
   ]
  },
  {
   "cell_type": "code",
   "execution_count": null,
   "id": "693e6f2d-2d86-4f89-a0a4-b981a69af7e5",
   "metadata": {
    "papermill": {
     "duration": 0.07095,
     "end_time": "2021-08-28T03:45:05.983265",
     "exception": false,
     "start_time": "2021-08-28T03:45:05.912315",
     "status": "completed"
    },
    "tags": []
   },
   "outputs": [],
   "source": [
    "top_genes_var[exp_id]"
   ]
  },
  {
   "cell_type": "markdown",
   "id": "59db78c8-0c70-4b94-8550-c5c972064f24",
   "metadata": {
    "papermill": {
     "duration": 0.062788,
     "end_time": "2021-08-28T03:45:06.109355",
     "exception": false,
     "start_time": "2021-08-28T03:45:06.046567",
     "status": "completed"
    },
    "tags": []
   },
   "source": [
    "### Mean absolute variation"
   ]
  },
  {
   "cell_type": "code",
   "execution_count": null,
   "id": "befbbbf7-3b6b-40a6-9e99-7e854315557d",
   "metadata": {
    "papermill": {
     "duration": 0.068254,
     "end_time": "2021-08-28T03:45:06.241188",
     "exception": false,
     "start_time": "2021-08-28T03:45:06.172934",
     "status": "completed"
    },
    "tags": []
   },
   "outputs": [],
   "source": [
    "exp_id = \"mad_log2\""
   ]
  },
  {
   "cell_type": "code",
   "execution_count": null,
   "id": "a85c03bb-ad0a-49d6-bb45-e3a838bc7842",
   "metadata": {
    "papermill": {
     "duration": 0.385303,
     "end_time": "2021-08-28T03:45:06.689820",
     "exception": false,
     "start_time": "2021-08-28T03:45:06.304517",
     "status": "completed"
    },
    "tags": []
   },
   "outputs": [],
   "source": [
    "top_genes_var[exp_id] = (\n",
    "    log2_test_data.mad(axis=1)\n",
    "    .sort_values(ascending=False)\n",
    "    .head(N_TOP_GENES_MAX_VARIANCE)\n",
    ")"
   ]
  },
  {
   "cell_type": "code",
   "execution_count": null,
   "id": "91b50159-c5e0-405b-a39d-a181998fc506",
   "metadata": {
    "papermill": {
     "duration": 0.075951,
     "end_time": "2021-08-28T03:45:06.834717",
     "exception": false,
     "start_time": "2021-08-28T03:45:06.758766",
     "status": "completed"
    },
    "tags": []
   },
   "outputs": [],
   "source": [
    "top_genes_var[exp_id]"
   ]
  },
  {
   "cell_type": "markdown",
   "id": "32bb3d27-99ba-4e4a-9807-e178a7eb5a8f",
   "metadata": {
    "papermill": {
     "duration": 0.052778,
     "end_time": "2021-08-28T03:43:34.583928",
     "exception": false,
     "start_time": "2021-08-28T03:43:34.531150",
     "status": "completed"
    },
    "tags": []
   },
   "source": [
    "## On pseudocount/log2 TPM-normalized data"
   ]
  },
  {
   "cell_type": "markdown",
   "id": "1bdeb11a-275e-41e9-a439-fad5dccceb20",
   "metadata": {
    "papermill": {
     "duration": 0.052778,
     "end_time": "2021-08-28T03:43:34.583928",
     "exception": false,
     "start_time": "2021-08-28T03:43:34.531150",
     "status": "completed"
    },
    "tags": []
   },
   "source": [
    "### Variance"
   ]
  },
  {
   "cell_type": "code",
   "execution_count": null,
   "id": "24477011-e653-483e-94db-e97cca6dd2c8",
   "metadata": {
    "papermill": {
     "duration": 0.068254,
     "end_time": "2021-08-28T03:45:06.241188",
     "exception": false,
     "start_time": "2021-08-28T03:45:06.172934",
     "status": "completed"
    },
    "tags": []
   },
   "outputs": [],
   "source": [
    "exp_id = \"var_pc_log2\""
   ]
  },
  {
   "cell_type": "code",
   "execution_count": null,
   "id": "539a5639-6ca4-4095-9fcc-aac756973aeb",
   "metadata": {
    "papermill": {
     "duration": 0.520126,
     "end_time": "2021-08-28T03:43:35.371556",
     "exception": false,
     "start_time": "2021-08-28T03:43:34.851430",
     "status": "completed"
    },
    "tags": []
   },
   "outputs": [],
   "source": [
    "top_genes_var[exp_id] = (\n",
    "    log2_pc_test_data.var(axis=1)\n",
    "    .sort_values(ascending=False)\n",
    "    .head(N_TOP_GENES_MAX_VARIANCE)\n",
    ")"
   ]
  },
  {
   "cell_type": "code",
   "execution_count": null,
   "id": "d9a1584d-9b8d-40eb-aab3-61d9013a1ac3",
   "metadata": {
    "papermill": {
     "duration": 0.062421,
     "end_time": "2021-08-28T03:43:35.486133",
     "exception": false,
     "start_time": "2021-08-28T03:43:35.423712",
     "status": "completed"
    },
    "tags": []
   },
   "outputs": [],
   "source": [
    "top_genes_var[exp_id]"
   ]
  },
  {
   "cell_type": "markdown",
   "id": "8adf9ca9-1e29-43e4-a1ad-8512533e2c85",
   "metadata": {
    "papermill": {
     "duration": 0.052778,
     "end_time": "2021-08-28T03:43:34.583928",
     "exception": false,
     "start_time": "2021-08-28T03:43:34.531150",
     "status": "completed"
    },
    "tags": []
   },
   "source": [
    "### Coefficient of variation"
   ]
  },
  {
   "cell_type": "code",
   "execution_count": null,
   "id": "91fe0447-00ce-4fd9-840b-169b50580f13",
   "metadata": {
    "papermill": {
     "duration": 0.068254,
     "end_time": "2021-08-28T03:45:06.241188",
     "exception": false,
     "start_time": "2021-08-28T03:45:06.172934",
     "status": "completed"
    },
    "tags": []
   },
   "outputs": [],
   "source": [
    "exp_id = \"cv_pc_log2\""
   ]
  },
  {
   "cell_type": "code",
   "execution_count": null,
   "id": "bc6c9980-7b5c-46f5-8ad3-da5692d6f705",
   "metadata": {
    "papermill": {
     "duration": 0.620266,
     "end_time": "2021-08-28T03:45:05.842377",
     "exception": false,
     "start_time": "2021-08-28T03:45:05.222111",
     "status": "completed"
    },
    "tags": []
   },
   "outputs": [],
   "source": [
    "top_genes_var[exp_id] = (\n",
    "    (log2_pc_test_data.std(axis=1) / log2_pc_test_data.mean(axis=1))\n",
    "    .sort_values(ascending=False)\n",
    "    .head(N_TOP_GENES_MAX_VARIANCE)\n",
    ")"
   ]
  },
  {
   "cell_type": "code",
   "execution_count": null,
   "id": "16c33af0-d81a-4e77-9429-7d215eb85ced",
   "metadata": {
    "papermill": {
     "duration": 0.07095,
     "end_time": "2021-08-28T03:45:05.983265",
     "exception": false,
     "start_time": "2021-08-28T03:45:05.912315",
     "status": "completed"
    },
    "tags": []
   },
   "outputs": [],
   "source": [
    "top_genes_var[exp_id]"
   ]
  },
  {
   "cell_type": "markdown",
   "id": "65f1c97e-8174-4af4-bc4a-3c5f59bbba91",
   "metadata": {
    "papermill": {
     "duration": 0.052778,
     "end_time": "2021-08-28T03:43:34.583928",
     "exception": false,
     "start_time": "2021-08-28T03:43:34.531150",
     "status": "completed"
    },
    "tags": []
   },
   "source": [
    "### Mean absolute deviation"
   ]
  },
  {
   "cell_type": "code",
   "execution_count": null,
   "id": "f1dccbcc-1a3c-4ef8-8d8c-d252a54e5e48",
   "metadata": {
    "papermill": {
     "duration": 0.068254,
     "end_time": "2021-08-28T03:45:06.241188",
     "exception": false,
     "start_time": "2021-08-28T03:45:06.172934",
     "status": "completed"
    },
    "tags": []
   },
   "outputs": [],
   "source": [
    "exp_id = \"mad_pc_log2\""
   ]
  },
  {
   "cell_type": "code",
   "execution_count": null,
   "id": "3978602a-cf63-42b4-9f9f-f427b0af4c49",
   "metadata": {
    "papermill": {
     "duration": 0.385303,
     "end_time": "2021-08-28T03:45:06.689820",
     "exception": false,
     "start_time": "2021-08-28T03:45:06.304517",
     "status": "completed"
    },
    "tags": []
   },
   "outputs": [],
   "source": [
    "top_genes_var[exp_id] = (\n",
    "    log2_pc_test_data.mad(axis=1)\n",
    "    .sort_values(ascending=False)\n",
    "    .head(N_TOP_GENES_MAX_VARIANCE)\n",
    ")"
   ]
  },
  {
   "cell_type": "code",
   "execution_count": null,
   "id": "c08039d9-6a5c-46bd-9639-779619ec0435",
   "metadata": {
    "papermill": {
     "duration": 0.075951,
     "end_time": "2021-08-28T03:45:06.834717",
     "exception": false,
     "start_time": "2021-08-28T03:45:06.758766",
     "status": "completed"
    },
    "tags": []
   },
   "outputs": [],
   "source": [
    "top_genes_var[exp_id]"
   ]
  },
  {
   "cell_type": "markdown",
   "id": "20c22f94-9336-4325-ba41-135f26c7bfcc",
   "metadata": {
    "papermill": {
     "duration": 0.063536,
     "end_time": "2021-08-28T03:45:06.964092",
     "exception": false,
     "start_time": "2021-08-28T03:45:06.900556",
     "status": "completed"
    },
    "tags": []
   },
   "source": [
    "## Do selected genes with different methods overlap?"
   ]
  },
  {
   "cell_type": "code",
   "execution_count": null,
   "id": "baa066af-3b10-4fc8-8ecc-73b58df4cac1",
   "metadata": {
    "papermill": {
     "duration": 0.068474,
     "end_time": "2021-08-28T03:45:07.096333",
     "exception": false,
     "start_time": "2021-08-28T03:45:07.027859",
     "status": "completed"
    },
    "tags": []
   },
   "outputs": [],
   "source": [
    "def overlap(x, y):\n",
    "    ov = set(x).intersection(set(y))\n",
    "    return len(ov)"
   ]
  },
  {
   "cell_type": "code",
   "execution_count": null,
   "id": "8f156975-9d94-40ba-89f8-3b5a35bc8d21",
   "metadata": {
    "papermill": {
     "duration": 0.069586,
     "end_time": "2021-08-28T03:45:07.229709",
     "exception": false,
     "start_time": "2021-08-28T03:45:07.160123",
     "status": "completed"
    },
    "tags": []
   },
   "outputs": [],
   "source": [
    "assert overlap([1, 2, 3], [4, 5, 6]) == 0\n",
    "assert overlap([1, 2, 3], [2, 3, 4]) == 2"
   ]
  },
  {
   "cell_type": "code",
   "execution_count": null,
   "id": "4bbedd6b-4f16-4e70-a815-59e4f0635c9d",
   "metadata": {
    "papermill": {
     "duration": 0.071085,
     "end_time": "2021-08-28T03:45:07.365820",
     "exception": false,
     "start_time": "2021-08-28T03:45:07.294735",
     "status": "completed"
    },
    "tags": []
   },
   "outputs": [],
   "source": [
    "genes_selection_methods = list(top_genes_var.keys())\n",
    "\n",
    "display(genes_selection_methods)\n",
    "assert len(genes_selection_methods) == 9"
   ]
  },
  {
   "cell_type": "code",
   "execution_count": null,
   "id": "20e1db39-fc8e-49e2-b83a-c9d3ec9100cb",
   "metadata": {
    "papermill": {
     "duration": 0.075929,
     "end_time": "2021-08-28T03:45:07.506094",
     "exception": false,
     "start_time": "2021-08-28T03:45:07.430165",
     "status": "completed"
    },
    "tags": []
   },
   "outputs": [],
   "source": [
    "_gene_sets = np.array(\n",
    "    [top_genes_var[x].index.tolist() for x in genes_selection_methods]\n",
    ")"
   ]
  },
  {
   "cell_type": "code",
   "execution_count": null,
   "id": "c199a883-2024-415b-abe0-09858329a17e",
   "metadata": {
    "papermill": {
     "duration": 0.070603,
     "end_time": "2021-08-28T03:45:07.641312",
     "exception": false,
     "start_time": "2021-08-28T03:45:07.570709",
     "status": "completed"
    },
    "tags": []
   },
   "outputs": [],
   "source": [
    "_gene_sets[:2]"
   ]
  },
  {
   "cell_type": "code",
   "execution_count": null,
   "id": "3b4b13ab-1071-4ac5-b3d0-57689df094cb",
   "metadata": {
    "papermill": {
     "duration": 0.073646,
     "end_time": "2021-08-28T03:45:07.780018",
     "exception": false,
     "start_time": "2021-08-28T03:45:07.706372",
     "status": "completed"
    },
    "tags": []
   },
   "outputs": [],
   "source": [
    "assert overlap(_gene_sets[0], _gene_sets[0]) == 5000"
   ]
  },
  {
   "cell_type": "code",
   "execution_count": null,
   "id": "b1f37ffb-6048-4bb6-8610-34ce214a535c",
   "metadata": {
    "papermill": {
     "duration": 0.120917,
     "end_time": "2021-08-28T03:45:07.969711",
     "exception": false,
     "start_time": "2021-08-28T03:45:07.848794",
     "status": "completed"
    },
    "tags": []
   },
   "outputs": [],
   "source": [
    "_tmp = squareform(pdist(_gene_sets, metric=overlap))\n",
    "np.fill_diagonal(_tmp, _gene_sets[0].shape[0])\n",
    "_tmp = pd.DataFrame(\n",
    "    _tmp, index=genes_selection_methods, columns=genes_selection_methods\n",
    ")\n",
    "\n",
    "display(_tmp)"
   ]
  },
  {
   "cell_type": "markdown",
   "id": "2400831a-f243-42b1-b3f2-6cb48f4db7c2",
   "metadata": {
    "papermill": {
     "duration": 0.064014,
     "end_time": "2021-08-28T03:45:08.099242",
     "exception": false,
     "start_time": "2021-08-28T03:45:08.035228",
     "status": "completed"
    },
    "tags": []
   },
   "source": [
    "Some methods select very different sets of highly variable genes. `cv_*` methods do not seem to agree much with the rest.\n",
    "\n",
    "`var_*` and `mad_*` are similar, so it is expected their large overlap among the same data version. However, these two approaches (`var` and `mad`) also agree quite a lot between data versions `raw` and `pc_log2`."
   ]
  },
  {
   "cell_type": "code",
   "execution_count": null,
   "id": "4f88aee6-ef7d-43a0-89b7-b62123f60f6a",
   "metadata": {
    "papermill": {
     "duration": 0.073236,
     "end_time": "2021-08-28T03:45:08.237005",
     "exception": false,
     "start_time": "2021-08-28T03:45:08.163769",
     "status": "completed"
    },
    "tags": []
   },
   "outputs": [],
   "source": [
    "# get list of methods that agree more with the rest\n",
    "_tmp_top = (_tmp.sum() - 5000).sort_values(ascending=False)\n",
    "display(_tmp_top)\n",
    "\n",
    "assert _tmp_top.index[:4].tolist() == [\"var_pc_log2\", \"mad_pc_log2\", \"var_raw\", \"mad_raw\"]"
   ]
  },
  {
   "cell_type": "markdown",
   "id": "7543a2fd-01a3-43db-8381-099198c1cbad",
   "metadata": {
    "papermill": {
     "duration": 0.06482,
     "end_time": "2021-08-28T03:45:08.368132",
     "exception": false,
     "start_time": "2021-08-28T03:45:08.303312",
     "status": "completed"
    },
    "tags": []
   },
   "source": [
    "# How different are genes selected by `raw`/`pc_log2` and `log2`?"
   ]
  },
  {
   "cell_type": "markdown",
   "id": "8425a5ac-1a7f-484b-ba46-e31be8f4de72",
   "metadata": {},
   "source": [
    "Here I try to see how different are the expression distribution of genes selected using `raw`/`pc_log2` (which seem similar) with the `log2`."
   ]
  },
  {
   "cell_type": "code",
   "execution_count": null,
   "id": "6a1a4c94-0018-4a22-8e4c-7fbc2986aa8e",
   "metadata": {
    "papermill": {
     "duration": 0.090446,
     "end_time": "2021-08-28T03:45:08.654932",
     "exception": false,
     "start_time": "2021-08-28T03:45:08.564486",
     "status": "completed"
    },
    "tags": []
   },
   "outputs": [],
   "source": [
    "# get the rank for each method for easier comparison\n",
    "genes_df = pd.DataFrame(top_genes_var).rank()"
   ]
  },
  {
   "cell_type": "code",
   "execution_count": null,
   "id": "1cde9f69-ddb3-47b8-bc61-d5c3ec0ff643",
   "metadata": {
    "papermill": {
     "duration": 0.071316,
     "end_time": "2021-08-28T03:45:08.791132",
     "exception": false,
     "start_time": "2021-08-28T03:45:08.719816",
     "status": "completed"
    },
    "tags": []
   },
   "outputs": [],
   "source": [
    "genes_df.shape"
   ]
  },
  {
   "cell_type": "code",
   "execution_count": null,
   "id": "517e0521-2b48-4b44-8ab0-03b61faaf043",
   "metadata": {
    "papermill": {
     "duration": 0.077286,
     "end_time": "2021-08-28T03:45:08.938334",
     "exception": false,
     "start_time": "2021-08-28T03:45:08.861048",
     "status": "completed"
    },
    "tags": []
   },
   "outputs": [],
   "source": [
    "genes_df.head()"
   ]
  },
  {
   "cell_type": "code",
   "execution_count": null,
   "id": "754a2538-7988-40c6-b197-c5c0e4327350",
   "metadata": {},
   "outputs": [],
   "source": [
    "_tmp = genes_df.describe()\n",
    "display(_tmp)\n",
    "\n",
    "assert (_tmp.loc[\"min\"] == 1.0).all()\n",
    "assert (_tmp.loc[\"max\"] == 5000.0).all()"
   ]
  },
  {
   "cell_type": "code",
   "execution_count": null,
   "id": "66a1a21f-5a0d-4965-b5bd-d006dff3525d",
   "metadata": {
    "papermill": {
     "duration": 0.071346,
     "end_time": "2021-08-28T03:45:09.076787",
     "exception": false,
     "start_time": "2021-08-28T03:45:09.005441",
     "status": "completed"
    },
    "tags": []
   },
   "outputs": [],
   "source": [
    "cols = [\"var_raw\", \"var_pc_log2\", \"var_log2\"]"
   ]
  },
  {
   "cell_type": "code",
   "execution_count": null,
   "id": "4f0f6251-9da1-4da7-849d-c5caf723b1eb",
   "metadata": {},
   "outputs": [],
   "source": [
    "def plot_genes_kde(_gene_ids):\n",
    "    fig, axs = plt.subplots(nrows=1, ncols=3, figsize=(15,5))\n",
    "    axs = axs.flatten()\n",
    "\n",
    "    # plot density on raw\n",
    "    ax = axs[0]\n",
    "    for gene_id in _gene_ids:\n",
    "        a = sns.kdeplot(data=test_data.T, x=gene_id, ax=ax, label=gene_id)\n",
    "        a.set_xlabel(None)\n",
    "    ax.set_title(\"raw\")\n",
    "\n",
    "    # same genes, but plot density on log2\n",
    "    ax = axs[1]\n",
    "    for gene_id in _gene_ids:\n",
    "        a = sns.kdeplot(data=log2_test_data.T, x=gene_id, ax=ax, label=gene_id)\n",
    "        a.set_xlabel(None)\n",
    "    ax.set_title(\"log2\")\n",
    "\n",
    "    # same genes, but plot density on pc_log2\n",
    "    ax = axs[2]\n",
    "    for gene_id in _gene_ids:\n",
    "        a = sns.kdeplot(data=log2_pc_test_data.T, x=gene_id, ax=ax, label=gene_id)\n",
    "        a.set_xlabel(None)\n",
    "    ax.set_title(\"pseudocount (pc) log2\")\n",
    "    ax.legend()"
   ]
  },
  {
   "cell_type": "markdown",
   "id": "65c4eb38-87e3-4058-b11a-9a5775391253",
   "metadata": {
    "papermill": {
     "duration": 0.06584,
     "end_time": "2021-08-28T03:45:09.208428",
     "exception": false,
     "start_time": "2021-08-28T03:45:09.142588",
     "status": "completed"
    },
    "tags": []
   },
   "source": [
    "## Genes selected in all raw, pc_log2 and log2"
   ]
  },
  {
   "cell_type": "code",
   "execution_count": null,
   "id": "dfb3dccf-15a3-4eee-b75a-47ee1dacc29d",
   "metadata": {
    "papermill": {
     "duration": 0.078883,
     "end_time": "2021-08-28T03:45:09.353384",
     "exception": false,
     "start_time": "2021-08-28T03:45:09.274501",
     "status": "completed"
    },
    "tags": []
   },
   "outputs": [],
   "source": [
    "# show top genes selected by var_raw, var_pc_log2 and var_log2\n",
    "genes_df.loc[\n",
    "    list(\n",
    "        set(top_genes_var[\"var_raw\"].index) &\n",
    "        set(top_genes_var[\"var_pc_log2\"].index) &\n",
    "        set(top_genes_var[\"var_log2\"].index)\n",
    "    ), cols\n",
    "].sort_values(\"var_raw\", ascending=False).head()"
   ]
  },
  {
   "cell_type": "code",
   "execution_count": null,
   "id": "52203ae8-6186-4ee7-a878-3fceeb05e9f5",
   "metadata": {
    "papermill": {
     "duration": 0.071774,
     "end_time": "2021-08-28T03:45:09.492278",
     "exception": false,
     "start_time": "2021-08-28T03:45:09.420504",
     "status": "completed"
    },
    "tags": []
   },
   "outputs": [],
   "source": [
    "_gene_ids = [\n",
    "    \"ENSG00000110245.11\",  # larger in all\n",
    "    \"ENSG00000206047.2\",  # smaller in log2\n",
    "]"
   ]
  },
  {
   "cell_type": "code",
   "execution_count": null,
   "id": "301a7b76-6c17-466b-8bf6-dd5a7dace0c8",
   "metadata": {},
   "outputs": [],
   "source": [
    "plot_genes_kde(_gene_ids)"
   ]
  },
  {
   "cell_type": "markdown",
   "id": "996df6bd-6ef2-4d9d-837f-a63fd7a7387f",
   "metadata": {
    "papermill": {
     "duration": 0.109004,
     "end_time": "2021-08-28T03:45:10.234923",
     "exception": false,
     "start_time": "2021-08-28T03:45:10.125919",
     "status": "completed"
    },
    "tags": []
   },
   "source": [
    "Since these are two genes selected by all three methods, they have similar distributions. `var_log2` seems to prioritize genes that tend to be more bimodal (with many cases around no expression and many others with higher expression). This will be apparent in the following analyses below."
   ]
  },
  {
   "cell_type": "markdown",
   "id": "3361d7ec-e10b-49c3-acf1-ca8c3c2fb49a",
   "metadata": {
    "papermill": {
     "duration": 0.068975,
     "end_time": "2021-08-28T03:45:10.378107",
     "exception": false,
     "start_time": "2021-08-28T03:45:10.309132",
     "status": "completed"
    },
    "tags": []
   },
   "source": [
    "## Genes selected in raw"
   ]
  },
  {
   "cell_type": "code",
   "execution_count": null,
   "id": "d731ad2f-5954-4e9d-8199-791bd28ca516",
   "metadata": {
    "papermill": {
     "duration": 0.080426,
     "end_time": "2021-08-28T03:45:10.527669",
     "exception": false,
     "start_time": "2021-08-28T03:45:10.447243",
     "status": "completed"
    },
    "tags": []
   },
   "outputs": [],
   "source": [
    "# show top genes selected by var_raw\n",
    "genes_df.loc[top_genes_var[\"var_raw\"].index, cols].head()"
   ]
  },
  {
   "cell_type": "markdown",
   "id": "3c1d89e9-1362-43e6-b1a0-883a177149ab",
   "metadata": {},
   "source": [
    "As we've seen before, here top genes selected by `var_raw` were also selected by `var_pc_log2` (not nan values)."
   ]
  },
  {
   "cell_type": "code",
   "execution_count": null,
   "id": "4b44348e-3bd1-4c18-98b5-aa60d9f6cd8f",
   "metadata": {
    "papermill": {
     "duration": 0.07493,
     "end_time": "2021-08-28T03:45:10.672251",
     "exception": false,
     "start_time": "2021-08-28T03:45:10.597321",
     "status": "completed"
    },
    "tags": []
   },
   "outputs": [],
   "source": [
    "_gene_ids = [\n",
    "    \"ENSG00000244734.3\",  # largest in raw\n",
    "    \"ENSG00000188536.12\",  # lower in pc_log2\n",
    "    \"ENSG00000163220.10\",   # larger in pc_log2\n",
    "]"
   ]
  },
  {
   "cell_type": "code",
   "execution_count": null,
   "id": "8af83327-ef27-4575-a7ed-e04b36e208bb",
   "metadata": {},
   "outputs": [],
   "source": [
    "plot_genes_kde(_gene_ids)"
   ]
  },
  {
   "cell_type": "markdown",
   "id": "cda2dc9a-9f35-4063-b641-5a1bfcaf0255",
   "metadata": {},
   "source": [
    "These are the top three genes selected by `var_raw`. Distributions seem similar with different means."
   ]
  },
  {
   "cell_type": "markdown",
   "id": "f82c64a0-0873-4f60-b952-03f403105e53",
   "metadata": {
    "papermill": {
     "duration": 0.068975,
     "end_time": "2021-08-28T03:45:10.378107",
     "exception": false,
     "start_time": "2021-08-28T03:45:10.309132",
     "status": "completed"
    },
    "tags": []
   },
   "source": [
    "## Genes selected in pc_log2"
   ]
  },
  {
   "cell_type": "code",
   "execution_count": null,
   "id": "05b26297-188e-4b52-b957-e0cc437975e9",
   "metadata": {
    "papermill": {
     "duration": 0.080426,
     "end_time": "2021-08-28T03:45:10.527669",
     "exception": false,
     "start_time": "2021-08-28T03:45:10.447243",
     "status": "completed"
    },
    "tags": []
   },
   "outputs": [],
   "source": [
    "# show top genes selected by var_raw\n",
    "genes_df.loc[top_genes_var[\"var_pc_log2\"].index, cols].head()"
   ]
  },
  {
   "cell_type": "code",
   "execution_count": null,
   "id": "b39f0b98-8798-42a7-ad7b-cd5163539d5b",
   "metadata": {
    "papermill": {
     "duration": 0.07493,
     "end_time": "2021-08-28T03:45:10.672251",
     "exception": false,
     "start_time": "2021-08-28T03:45:10.597321",
     "status": "completed"
    },
    "tags": []
   },
   "outputs": [],
   "source": [
    "_gene_ids = [\n",
    "    \"ENSG00000169429.10\",  # 1st largest in pc_log2\n",
    "    \"ENSG00000135245.9\",  # 2nd largest in pc_log2\n",
    "    \"ENSG00000239839.6\",  # larger in raw\n",
    "]"
   ]
  },
  {
   "cell_type": "code",
   "execution_count": null,
   "id": "ab130372-df9f-4632-abb6-0f2f7c9b4884",
   "metadata": {},
   "outputs": [],
   "source": [
    "plot_genes_kde(_gene_ids)"
   ]
  },
  {
   "cell_type": "markdown",
   "id": "50810453-27de-407a-a3da-16fbea540c84",
   "metadata": {
    "papermill": {
     "duration": 0.07044,
     "end_time": "2021-08-28T03:45:11.360755",
     "exception": false,
     "start_time": "2021-08-28T03:45:11.290315",
     "status": "completed"
    },
    "tags": []
   },
   "source": [
    "## Genes selected in log2"
   ]
  },
  {
   "cell_type": "code",
   "execution_count": null,
   "id": "f0d1d563-6c4c-4c67-ad73-1e73c1dbb1eb",
   "metadata": {
    "papermill": {
     "duration": 0.08329,
     "end_time": "2021-08-28T03:45:11.515565",
     "exception": false,
     "start_time": "2021-08-28T03:45:11.432275",
     "status": "completed"
    },
    "tags": []
   },
   "outputs": [],
   "source": [
    "# show top genes selected by var_log2\n",
    "genes_df.loc[top_genes_var[\"var_log2\"].index, cols].head()"
   ]
  },
  {
   "cell_type": "code",
   "execution_count": null,
   "id": "304cfdd5-1c47-400a-a3dd-7ebf08541fe1",
   "metadata": {
    "papermill": {
     "duration": 0.077139,
     "end_time": "2021-08-28T03:45:11.664225",
     "exception": false,
     "start_time": "2021-08-28T03:45:11.587086",
     "status": "completed"
    },
    "tags": []
   },
   "outputs": [],
   "source": [
    "_gene_ids = [\n",
    "    \"ENSG00000200879.1\",  # 1st largest in log2, high in pc_log2\n",
    "    \"ENSG00000213058.3\",  # selected by all, but large in pc_log2 too\n",
    "]"
   ]
  },
  {
   "cell_type": "code",
   "execution_count": null,
   "id": "02cdcf62-42ff-439f-ae41-9b83768ab4ad",
   "metadata": {},
   "outputs": [],
   "source": [
    "plot_genes_kde(_gene_ids)"
   ]
  },
  {
   "cell_type": "markdown",
   "id": "01dcaf4a-12a7-46e2-ae58-ab5b2b51e7cf",
   "metadata": {
    "papermill": {
     "duration": 0.073716,
     "end_time": "2021-08-28T03:45:12.426196",
     "exception": false,
     "start_time": "2021-08-28T03:45:12.352480",
     "status": "completed"
    },
    "tags": []
   },
   "source": [
    "**CONCLUSION:** Both `var_raw` (that is, the strategy that selects the top genes with highest variance on raw TPM-normalized data) and `var_pc_log2` (highest variance on pseudocount log2-transformed TPM-normalized data) agree on most genes. The difference seem to be that `pc_log2` is more sensitive to genes that are mostly not-expressed and expressed only on some conditions, which might capture important genes such as transcriptor factors (see https://www.biorxiv.org/content/10.1101/2020.02.13.944777v1)."
   ]
  },
  {
   "cell_type": "markdown",
   "id": "c5b54814-c607-4dbe-bc47-bb4fe058ed93",
   "metadata": {
    "papermill": {
     "duration": 0.073409,
     "end_time": "2021-08-28T03:45:12.573815",
     "exception": false,
     "start_time": "2021-08-28T03:45:12.500406",
     "status": "completed"
    },
    "tags": []
   },
   "source": [
    "# Select top genes for each tissue data file"
   ]
  },
  {
   "cell_type": "markdown",
   "id": "8904a4c2-2855-4243-8d53-37d45aacae87",
   "metadata": {
    "papermill": {
     "duration": 0.073483,
     "end_time": "2021-08-28T03:45:12.721424",
     "exception": false,
     "start_time": "2021-08-28T03:45:12.647941",
     "status": "completed"
    },
    "tags": []
   },
   "source": [
    "Based on the previous findings, I select genes with both strategies `var_raw` and `var_log2`."
   ]
  },
  {
   "cell_type": "code",
   "execution_count": null,
   "id": "b78c27fe-ad78-497c-97ad-e21d38455a34",
   "metadata": {
    "papermill": {
     "duration": 0.105096,
     "end_time": "2021-08-28T03:45:12.900446",
     "exception": false,
     "start_time": "2021-08-28T03:45:12.795350",
     "status": "completed"
    },
    "tags": []
   },
   "outputs": [],
   "source": [
    "input_files = list(INPUT_DIR.glob(\"*.pkl\"))\n",
    "assert len(input_files) == 54, len(input_files)\n",
    "\n",
    "display(input_files[:5])"
   ]
  },
  {
   "cell_type": "markdown",
   "id": "ce8ea183-c567-42dd-abaf-320a9d0ef482",
   "metadata": {
    "papermill": {
     "duration": 0.074347,
     "end_time": "2021-08-28T03:45:13.049978",
     "exception": false,
     "start_time": "2021-08-28T03:45:12.975631",
     "status": "completed"
    },
    "tags": []
   },
   "source": [
    "## Run"
   ]
  },
  {
   "cell_type": "code",
   "execution_count": null,
   "id": "83685682-4842-44e9-83c1-405365fee395",
   "metadata": {
    "papermill": {
     "duration": 138.89648,
     "end_time": "2021-08-28T03:47:32.020176",
     "exception": false,
     "start_time": "2021-08-28T03:45:13.123696",
     "status": "completed"
    },
    "tags": []
   },
   "outputs": [],
   "source": [
    "pbar = tqdm(input_files, ncols=100)\n",
    "\n",
    "for tissue_data_file in pbar:\n",
    "    pbar.set_description(tissue_data_file.stem)\n",
    "\n",
    "    tissue_data = pd.read_pickle(tissue_data_file)\n",
    "\n",
    "    # var_raw\n",
    "    top_genes_var = (\n",
    "        tissue_data.var(axis=1)\n",
    "        .sort_values(ascending=False)\n",
    "        .head(N_TOP_GENES_MAX_VARIANCE)\n",
    "    )\n",
    "    selected_tissue_data = tissue_data.loc[top_genes_var.index]\n",
    "\n",
    "    output_filename = f\"{tissue_data_file.stem}-var_raw.pkl\"\n",
    "    selected_tissue_data.to_pickle(path=OUTPUT_DIR / output_filename)\n",
    "\n",
    "    # var_log2\n",
    "    log2_tissue_data = np.log2(tissue_data)\n",
    "    log2_tissue_data = log2_tissue_data.apply(replace_by_minimum)\n",
    "\n",
    "    top_genes_var = (\n",
    "        log2_tissue_data.var(axis=1)\n",
    "        .sort_values(ascending=False)\n",
    "        .head(N_TOP_GENES_MAX_VARIANCE)\n",
    "    )\n",
    "    selected_tissue_data = tissue_data.loc[top_genes_var.index]\n",
    "\n",
    "    output_filename = f\"{tissue_data_file.stem}-var_log2.pkl\"\n",
    "    selected_tissue_data.to_pickle(path=OUTPUT_DIR / output_filename)"
   ]
  },
  {
   "cell_type": "markdown",
   "id": "34526b2f-dbc9-48a5-8d09-58f418db1e72",
   "metadata": {
    "papermill": {
     "duration": 0.096847,
     "end_time": "2021-08-28T03:47:32.220094",
     "exception": false,
     "start_time": "2021-08-28T03:47:32.123247",
     "status": "completed"
    },
    "tags": []
   },
   "source": [
    "## Testing"
   ]
  },
  {
   "cell_type": "code",
   "execution_count": null,
   "id": "5ae77408-e4b1-4a54-942a-61bc402718e3",
   "metadata": {
    "papermill": {
     "duration": 0.110139,
     "end_time": "2021-08-28T03:47:32.426079",
     "exception": false,
     "start_time": "2021-08-28T03:47:32.315940",
     "status": "completed"
    },
    "tags": []
   },
   "outputs": [],
   "source": [
    "_tmp_raw = pd.read_pickle(\n",
    "    OUTPUT_DIR / \"gtex_v8_data_brain_nucleus_accumbens_basal_ganglia-var_raw.pkl\"\n",
    ")\n",
    "_tmp_log2 = pd.read_pickle(\n",
    "    OUTPUT_DIR / \"gtex_v8_data_brain_nucleus_accumbens_basal_ganglia-var_log2.pkl\"\n",
    ")"
   ]
  },
  {
   "cell_type": "code",
   "execution_count": null,
   "id": "3573554b-91b1-487c-a1bf-1022d25278b9",
   "metadata": {
    "papermill": {
     "duration": 0.103675,
     "end_time": "2021-08-28T03:47:32.628206",
     "exception": false,
     "start_time": "2021-08-28T03:47:32.524531",
     "status": "completed"
    },
    "tags": []
   },
   "outputs": [],
   "source": [
    "display(_tmp_raw.shape)\n",
    "assert _tmp_raw.shape == _tmp_log2.shape"
   ]
  },
  {
   "cell_type": "code",
   "execution_count": null,
   "id": "876d3f6e-b8e4-462a-9d3f-69af2a6b2c4e",
   "metadata": {
    "papermill": {
     "duration": 0.121714,
     "end_time": "2021-08-28T03:47:32.847078",
     "exception": false,
     "start_time": "2021-08-28T03:47:32.725364",
     "status": "completed"
    },
    "tags": []
   },
   "outputs": [],
   "source": [
    "_tmp_raw.head()"
   ]
  },
  {
   "cell_type": "code",
   "execution_count": null,
   "id": "e99368bd-6569-4048-8a03-efc5af3655ee",
   "metadata": {
    "papermill": {
     "duration": 0.124946,
     "end_time": "2021-08-28T03:47:33.090838",
     "exception": false,
     "start_time": "2021-08-28T03:47:32.965892",
     "status": "completed"
    },
    "tags": []
   },
   "outputs": [],
   "source": [
    "_tmp_desc = _tmp_raw.T.iloc[:, :5].describe()\n",
    "display(_tmp_desc)\n",
    "\n",
    "assert _tmp_desc.loc[\"max\"].min() > 80000\n",
    "assert _tmp_desc.loc[\"max\"].min() < 205000"
   ]
  },
  {
   "cell_type": "code",
   "execution_count": null,
   "id": "83461b4b-fe9f-4219-b5d1-6109cc167bca",
   "metadata": {
    "papermill": {
     "duration": 0.12104,
     "end_time": "2021-08-28T03:47:33.310982",
     "exception": false,
     "start_time": "2021-08-28T03:47:33.189942",
     "status": "completed"
    },
    "tags": []
   },
   "outputs": [],
   "source": [
    "_tmp_log2.head()"
   ]
  },
  {
   "cell_type": "code",
   "execution_count": null,
   "id": "d95ea092-6089-4f8b-a2d3-b97c6f07762c",
   "metadata": {
    "papermill": {
     "duration": 0.124127,
     "end_time": "2021-08-28T03:47:33.538111",
     "exception": false,
     "start_time": "2021-08-28T03:47:33.413984",
     "status": "completed"
    },
    "tags": []
   },
   "outputs": [],
   "source": [
    "_tmp_desc = _tmp_log2.T.iloc[:, :5].describe()\n",
    "display(_tmp_desc)\n",
    "\n",
    "assert _tmp_desc.loc[\"max\"].min() > 8\n",
    "assert _tmp_desc.loc[\"max\"].min() < 300"
   ]
  },
  {
   "cell_type": "code",
   "execution_count": null,
   "id": "192eefa7-cf9a-4186-ab84-9ba9836b02bb",
   "metadata": {
    "papermill": {
     "duration": 0.105765,
     "end_time": "2021-08-28T03:47:33.746684",
     "exception": false,
     "start_time": "2021-08-28T03:47:33.640919",
     "status": "completed"
    },
    "tags": []
   },
   "outputs": [],
   "source": [
    "assert _tmp_raw.columns.tolist() == _tmp_log2.columns.tolist()"
   ]
  },
  {
   "cell_type": "code",
   "execution_count": null,
   "id": "b58e3ef4-e152-4f12-8e7e-1bea1b541a8b",
   "metadata": {
    "papermill": {
     "duration": 0.107067,
     "end_time": "2021-08-28T03:47:33.953824",
     "exception": false,
     "start_time": "2021-08-28T03:47:33.846757",
     "status": "completed"
    },
    "tags": []
   },
   "outputs": [],
   "source": [
    "assert len(set(_tmp_raw.index).intersection(set(_tmp_log2.index))) == 23"
   ]
  },
  {
   "cell_type": "code",
   "execution_count": null,
   "id": "03747a27-4636-48e5-8c1f-3a75fc174a4d",
   "metadata": {
    "papermill": {
     "duration": 0.09919,
     "end_time": "2021-08-28T03:47:34.153287",
     "exception": false,
     "start_time": "2021-08-28T03:47:34.054097",
     "status": "completed"
    },
    "tags": []
   },
   "outputs": [],
   "source": []
  }
 ],
 "metadata": {
  "jupytext": {
   "cell_metadata_filter": "all,-execution,-papermill,-trusted",
   "text_representation": {
    "extension": ".py",
    "format_name": "percent",
    "format_version": "1.3",
    "jupytext_version": "1.11.4"
   }
  },
  "kernelspec": {
   "display_name": "Python 3 (ipykernel)",
   "language": "python",
   "name": "python3"
  },
  "language_info": {
   "codemirror_mode": {
    "name": "ipython",
    "version": 3
   },
   "file_extension": ".py",
   "mimetype": "text/x-python",
   "name": "python",
   "nbconvert_exporter": "python",
   "pygments_lexer": "ipython3",
   "version": "3.9.6"
  },
  "papermill": {
   "default_parameters": {},
   "duration": 361.467213,
   "end_time": "2021-08-28T03:47:34.664041",
   "environment_variables": {},
   "exception": null,
   "input_path": "nbs/05_preprocessing/05-gtex_v8-select_top_genes.ipynb",
   "output_path": "nbs/05_preprocessing/05-gtex_v8-select_top_genes.run.ipynb",
   "parameters": {},
   "start_time": "2021-08-28T03:41:33.196828",
   "version": "2.3.3"
  },
  "toc-autonumbering": true,
  "toc-showcode": false,
  "toc-showmarkdowntxt": false
 },
 "nbformat": 4,
 "nbformat_minor": 5
}
