{
 "cells": [
  {
   "cell_type": "markdown",
   "id": "4293895f-86e0-4823-a56a-f76b9f557b21",
   "metadata": {
    "papermill": {
     "duration": 0.049905,
     "end_time": "2021-10-03T07:23:32.342930",
     "exception": false,
     "start_time": "2021-10-03T07:23:32.293025",
     "status": "completed"
    },
    "tags": []
   },
   "source": [
    "# Description"
   ]
  },
  {
   "cell_type": "markdown",
   "id": "57d18f9f-04e3-4e2d-81b7-f6e9fe235af0",
   "metadata": {
    "papermill": {
     "duration": 0.014628,
     "end_time": "2021-10-03T07:23:32.374988",
     "exception": false,
     "start_time": "2021-10-03T07:23:32.360360",
     "status": "completed"
    },
    "tags": []
   },
   "source": [
    "TODO"
   ]
  },
  {
   "cell_type": "markdown",
   "id": "73f3a950-7522-4849-b9e2-d3d8666d4698",
   "metadata": {
    "papermill": {
     "duration": 0.014595,
     "end_time": "2021-10-03T07:23:32.404171",
     "exception": false,
     "start_time": "2021-10-03T07:23:32.389576",
     "status": "completed"
    },
    "tags": []
   },
   "source": [
    "# Modules"
   ]
  },
  {
   "cell_type": "code",
   "execution_count": 1,
   "id": "31c60f18-beba-4d9c-aac4-05cb79ef9ab9",
   "metadata": {
    "execution": {
     "iopub.execute_input": "2021-10-03T07:23:32.441218Z",
     "iopub.status.busy": "2021-10-03T07:23:32.440753Z",
     "iopub.status.idle": "2021-10-03T07:23:32.913573Z",
     "shell.execute_reply": "2021-10-03T07:23:32.912915Z"
    },
    "papermill": {
     "duration": 0.494951,
     "end_time": "2021-10-03T07:23:32.913710",
     "exception": false,
     "start_time": "2021-10-03T07:23:32.418759",
     "status": "completed"
    },
    "tags": []
   },
   "outputs": [],
   "source": [
    "import pandas as pd\n",
    "\n",
    "# from tqdm import tqdm\n",
    "from rpy2.robjects.packages import importr\n",
    "from rpy2.robjects import pandas2ri\n",
    "\n",
    "pandas2ri.activate()\n",
    "\n",
    "# from clustermatch.utils import simplify_string\n",
    "from clustermatch import conf"
   ]
  },
  {
   "cell_type": "code",
   "execution_count": 2,
   "id": "7e52a79b-15e9-45ff-a4ac-a34a1fc5c5f9",
   "metadata": {
    "execution": {
     "iopub.execute_input": "2021-10-03T07:23:32.952657Z",
     "iopub.status.busy": "2021-10-03T07:23:32.952196Z",
     "iopub.status.idle": "2021-10-03T07:23:37.954575Z",
     "shell.execute_reply": "2021-10-03T07:23:37.954109Z"
    },
    "papermill": {
     "duration": 5.022146,
     "end_time": "2021-10-03T07:23:37.954677",
     "exception": false,
     "start_time": "2021-10-03T07:23:32.932531",
     "status": "completed"
    },
    "tags": []
   },
   "outputs": [],
   "source": [
    "clusterProfiler = importr(\"clusterProfiler\")"
   ]
  },
  {
   "cell_type": "markdown",
   "id": "7bb25bbd-3f69-4a63-97e1-e0b33f973a15",
   "metadata": {
    "papermill": {
     "duration": 0.014898,
     "end_time": "2021-10-03T07:23:37.984990",
     "exception": false,
     "start_time": "2021-10-03T07:23:37.970092",
     "status": "completed"
    },
    "tags": []
   },
   "source": [
    "# Settings"
   ]
  },
  {
   "cell_type": "code",
   "execution_count": 3,
   "id": "f1a1115c-af2e-47a1-a170-3a35988a634a",
   "metadata": {
    "execution": {
     "iopub.execute_input": "2021-10-03T07:23:38.018533Z",
     "iopub.status.busy": "2021-10-03T07:23:38.018068Z",
     "iopub.status.idle": "2021-10-03T07:23:38.020020Z",
     "shell.execute_reply": "2021-10-03T07:23:38.019617Z"
    },
    "papermill": {
     "duration": 0.020072,
     "end_time": "2021-10-03T07:23:38.020117",
     "exception": false,
     "start_time": "2021-10-03T07:23:38.000045",
     "status": "completed"
    },
    "tags": []
   },
   "outputs": [],
   "source": [
    "# OUTPUT_DIR = conf.GTEX[\"DATA_DIR\"] / \"data_by_tissue\"\n",
    "# OUTPUT_DIR.mkdir(parents=True, exist_ok=True)\n",
    "# display(OUTPUT_DIR)"
   ]
  },
  {
   "cell_type": "markdown",
   "id": "a9d9dce7-3489-4c2b-abf4-6f9e4f6f1c43",
   "metadata": {
    "papermill": {
     "duration": 0.016322,
     "end_time": "2021-10-03T07:23:38.052298",
     "exception": false,
     "start_time": "2021-10-03T07:23:38.035976",
     "status": "completed"
    },
    "tags": []
   },
   "source": [
    "# Data loading"
   ]
  },
  {
   "cell_type": "code",
   "execution_count": 4,
   "id": "9e33a616-bd42-4ad2-a9e4-32ca068db8a4",
   "metadata": {
    "execution": {
     "iopub.execute_input": "2021-10-03T07:23:38.089693Z",
     "iopub.status.busy": "2021-10-03T07:23:38.089248Z",
     "iopub.status.idle": "2021-10-03T07:23:38.093529Z",
     "shell.execute_reply": "2021-10-03T07:23:38.093073Z"
    },
    "papermill": {
     "duration": 0.026381,
     "end_time": "2021-10-03T07:23:38.093623",
     "exception": false,
     "start_time": "2021-10-03T07:23:38.067242",
     "status": "completed"
    },
    "tags": []
   },
   "outputs": [
    {
     "data": {
      "text/plain": [
       "PosixPath('/opt/data/data/gtex_v8/gtex_gene_id_symbol_mappings.pkl')"
      ]
     },
     "metadata": {},
     "output_type": "display_data"
    }
   ],
   "source": [
    "input_filename = conf.GTEX[\"DATA_DIR\"] / \"gtex_gene_id_symbol_mappings.pkl\"\n",
    "display(input_filename)"
   ]
  },
  {
   "cell_type": "code",
   "execution_count": 5,
   "id": "a0cc1f0d-6191-42b0-b242-8c02f64605c8",
   "metadata": {
    "execution": {
     "iopub.execute_input": "2021-10-03T07:23:38.127763Z",
     "iopub.status.busy": "2021-10-03T07:23:38.127324Z",
     "iopub.status.idle": "2021-10-03T07:23:38.172833Z",
     "shell.execute_reply": "2021-10-03T07:23:38.172051Z"
    },
    "papermill": {
     "duration": 0.063889,
     "end_time": "2021-10-03T07:23:38.172994",
     "exception": false,
     "start_time": "2021-10-03T07:23:38.109105",
     "status": "completed"
    },
    "tags": []
   },
   "outputs": [],
   "source": [
    "data = pd.read_pickle(input_filename)"
   ]
  },
  {
   "cell_type": "code",
   "execution_count": 6,
   "id": "32b5d020-6d13-4b2e-b18f-897940004dcb",
   "metadata": {
    "execution": {
     "iopub.execute_input": "2021-10-03T07:23:38.225219Z",
     "iopub.status.busy": "2021-10-03T07:23:38.224753Z",
     "iopub.status.idle": "2021-10-03T07:23:38.226753Z",
     "shell.execute_reply": "2021-10-03T07:23:38.227105Z"
    },
    "papermill": {
     "duration": 0.026897,
     "end_time": "2021-10-03T07:23:38.227218",
     "exception": false,
     "start_time": "2021-10-03T07:23:38.200321",
     "status": "completed"
    },
    "tags": []
   },
   "outputs": [
    {
     "data": {
      "text/plain": [
       "(56200, 2)"
      ]
     },
     "execution_count": 6,
     "metadata": {},
     "output_type": "execute_result"
    }
   ],
   "source": [
    "data.shape"
   ]
  },
  {
   "cell_type": "code",
   "execution_count": 7,
   "id": "6366fe17-dd72-4be6-b84b-75673c109298",
   "metadata": {
    "execution": {
     "iopub.execute_input": "2021-10-03T07:23:38.264732Z",
     "iopub.status.busy": "2021-10-03T07:23:38.262769Z",
     "iopub.status.idle": "2021-10-03T07:23:38.268702Z",
     "shell.execute_reply": "2021-10-03T07:23:38.269069Z"
    },
    "papermill": {
     "duration": 0.026083,
     "end_time": "2021-10-03T07:23:38.269188",
     "exception": false,
     "start_time": "2021-10-03T07:23:38.243105",
     "status": "completed"
    },
    "tags": []
   },
   "outputs": [
    {
     "data": {
      "text/html": [
       "<div>\n",
       "<style scoped>\n",
       "    .dataframe tbody tr th:only-of-type {\n",
       "        vertical-align: middle;\n",
       "    }\n",
       "\n",
       "    .dataframe tbody tr th {\n",
       "        vertical-align: top;\n",
       "    }\n",
       "\n",
       "    .dataframe thead th {\n",
       "        text-align: right;\n",
       "    }\n",
       "</style>\n",
       "<table border=\"1\" class=\"dataframe\">\n",
       "  <thead>\n",
       "    <tr style=\"text-align: right;\">\n",
       "      <th></th>\n",
       "      <th>gene_ens_id</th>\n",
       "      <th>gene_symbol</th>\n",
       "    </tr>\n",
       "  </thead>\n",
       "  <tbody>\n",
       "    <tr>\n",
       "      <th>0</th>\n",
       "      <td>ENSG00000145309.5</td>\n",
       "      <td>CABS1</td>\n",
       "    </tr>\n",
       "    <tr>\n",
       "      <th>1</th>\n",
       "      <td>ENSG00000175820.3</td>\n",
       "      <td>CCDC168</td>\n",
       "    </tr>\n",
       "    <tr>\n",
       "      <th>2</th>\n",
       "      <td>ENSG00000083454.21</td>\n",
       "      <td>P2RX5</td>\n",
       "    </tr>\n",
       "    <tr>\n",
       "      <th>3</th>\n",
       "      <td>ENSG00000071794.15</td>\n",
       "      <td>HLTF</td>\n",
       "    </tr>\n",
       "    <tr>\n",
       "      <th>4</th>\n",
       "      <td>ENSG00000211918.1</td>\n",
       "      <td>IGHD2-15</td>\n",
       "    </tr>\n",
       "  </tbody>\n",
       "</table>\n",
       "</div>"
      ],
      "text/plain": [
       "          gene_ens_id gene_symbol\n",
       "0   ENSG00000145309.5       CABS1\n",
       "1   ENSG00000175820.3     CCDC168\n",
       "2  ENSG00000083454.21       P2RX5\n",
       "3  ENSG00000071794.15        HLTF\n",
       "4   ENSG00000211918.1    IGHD2-15"
      ]
     },
     "execution_count": 7,
     "metadata": {},
     "output_type": "execute_result"
    }
   ],
   "source": [
    "data.head()"
   ]
  },
  {
   "cell_type": "markdown",
   "id": "4662dff3-3c56-415b-b309-db489219b372",
   "metadata": {
    "papermill": {
     "duration": 0.016573,
     "end_time": "2021-10-03T07:23:38.302668",
     "exception": false,
     "start_time": "2021-10-03T07:23:38.286095",
     "status": "completed"
    },
    "tags": []
   },
   "source": [
    "# Add Ensembl IDs without version"
   ]
  },
  {
   "cell_type": "code",
   "execution_count": 8,
   "id": "c6eceaeb-2633-491c-8033-f882f290451e",
   "metadata": {
    "execution": {
     "iopub.execute_input": "2021-10-03T07:23:38.339044Z",
     "iopub.status.busy": "2021-10-03T07:23:38.337459Z",
     "iopub.status.idle": "2021-10-03T07:23:38.341102Z",
     "shell.execute_reply": "2021-10-03T07:23:38.340637Z"
    },
    "papermill": {
     "duration": 0.022501,
     "end_time": "2021-10-03T07:23:38.341201",
     "exception": false,
     "start_time": "2021-10-03T07:23:38.318700",
     "status": "completed"
    },
    "tags": []
   },
   "outputs": [],
   "source": [
    "data = data.rename(columns={\"gene_ens_id\": \"gene_ens_id_v\"})"
   ]
  },
  {
   "cell_type": "code",
   "execution_count": 9,
   "id": "7404e225-1a59-4d12-8791-b8417b3b816e",
   "metadata": {
    "execution": {
     "iopub.execute_input": "2021-10-03T07:23:38.392510Z",
     "iopub.status.busy": "2021-10-03T07:23:38.392004Z",
     "iopub.status.idle": "2021-10-03T07:23:38.396598Z",
     "shell.execute_reply": "2021-10-03T07:23:38.396947Z"
    },
    "papermill": {
     "duration": 0.039086,
     "end_time": "2021-10-03T07:23:38.397071",
     "exception": false,
     "start_time": "2021-10-03T07:23:38.357985",
     "status": "completed"
    },
    "tags": []
   },
   "outputs": [],
   "source": [
    "data = data.assign(gene_ens_id=data[\"gene_ens_id_v\"].apply(lambda x: x.split(\".\")[0]))"
   ]
  },
  {
   "cell_type": "code",
   "execution_count": 10,
   "id": "20d9a590-2606-4bde-bb5b-d13b62cfab5e",
   "metadata": {
    "execution": {
     "iopub.execute_input": "2021-10-03T07:23:38.435240Z",
     "iopub.status.busy": "2021-10-03T07:23:38.434759Z",
     "iopub.status.idle": "2021-10-03T07:23:38.444475Z",
     "shell.execute_reply": "2021-10-03T07:23:38.444040Z"
    },
    "papermill": {
     "duration": 0.030303,
     "end_time": "2021-10-03T07:23:38.444590",
     "exception": false,
     "start_time": "2021-10-03T07:23:38.414287",
     "status": "completed"
    },
    "tags": []
   },
   "outputs": [],
   "source": [
    "data = data[[\"gene_ens_id_v\", \"gene_ens_id\", \"gene_symbol\"]]"
   ]
  },
  {
   "cell_type": "code",
   "execution_count": 11,
   "id": "e9c9e2a0-80ad-489c-8193-6a4fcc75e711",
   "metadata": {
    "execution": {
     "iopub.execute_input": "2021-10-03T07:23:38.486300Z",
     "iopub.status.busy": "2021-10-03T07:23:38.485735Z",
     "iopub.status.idle": "2021-10-03T07:23:38.488284Z",
     "shell.execute_reply": "2021-10-03T07:23:38.488637Z"
    },
    "papermill": {
     "duration": 0.025909,
     "end_time": "2021-10-03T07:23:38.488754",
     "exception": false,
     "start_time": "2021-10-03T07:23:38.462845",
     "status": "completed"
    },
    "tags": []
   },
   "outputs": [
    {
     "data": {
      "text/html": [
       "<div>\n",
       "<style scoped>\n",
       "    .dataframe tbody tr th:only-of-type {\n",
       "        vertical-align: middle;\n",
       "    }\n",
       "\n",
       "    .dataframe tbody tr th {\n",
       "        vertical-align: top;\n",
       "    }\n",
       "\n",
       "    .dataframe thead th {\n",
       "        text-align: right;\n",
       "    }\n",
       "</style>\n",
       "<table border=\"1\" class=\"dataframe\">\n",
       "  <thead>\n",
       "    <tr style=\"text-align: right;\">\n",
       "      <th></th>\n",
       "      <th>gene_ens_id_v</th>\n",
       "      <th>gene_ens_id</th>\n",
       "      <th>gene_symbol</th>\n",
       "    </tr>\n",
       "  </thead>\n",
       "  <tbody>\n",
       "    <tr>\n",
       "      <th>0</th>\n",
       "      <td>ENSG00000145309.5</td>\n",
       "      <td>ENSG00000145309</td>\n",
       "      <td>CABS1</td>\n",
       "    </tr>\n",
       "    <tr>\n",
       "      <th>1</th>\n",
       "      <td>ENSG00000175820.3</td>\n",
       "      <td>ENSG00000175820</td>\n",
       "      <td>CCDC168</td>\n",
       "    </tr>\n",
       "    <tr>\n",
       "      <th>2</th>\n",
       "      <td>ENSG00000083454.21</td>\n",
       "      <td>ENSG00000083454</td>\n",
       "      <td>P2RX5</td>\n",
       "    </tr>\n",
       "    <tr>\n",
       "      <th>3</th>\n",
       "      <td>ENSG00000071794.15</td>\n",
       "      <td>ENSG00000071794</td>\n",
       "      <td>HLTF</td>\n",
       "    </tr>\n",
       "    <tr>\n",
       "      <th>4</th>\n",
       "      <td>ENSG00000211918.1</td>\n",
       "      <td>ENSG00000211918</td>\n",
       "      <td>IGHD2-15</td>\n",
       "    </tr>\n",
       "  </tbody>\n",
       "</table>\n",
       "</div>"
      ],
      "text/plain": [
       "        gene_ens_id_v      gene_ens_id gene_symbol\n",
       "0   ENSG00000145309.5  ENSG00000145309       CABS1\n",
       "1   ENSG00000175820.3  ENSG00000175820     CCDC168\n",
       "2  ENSG00000083454.21  ENSG00000083454       P2RX5\n",
       "3  ENSG00000071794.15  ENSG00000071794        HLTF\n",
       "4   ENSG00000211918.1  ENSG00000211918    IGHD2-15"
      ]
     },
     "execution_count": 11,
     "metadata": {},
     "output_type": "execute_result"
    }
   ],
   "source": [
    "data.head()"
   ]
  },
  {
   "cell_type": "code",
   "execution_count": 12,
   "id": "bba4470e-d524-4fdb-bff1-e69c31d6e3c9",
   "metadata": {
    "execution": {
     "iopub.execute_input": "2021-10-03T07:23:38.529607Z",
     "iopub.status.busy": "2021-10-03T07:23:38.529147Z",
     "iopub.status.idle": "2021-10-03T07:23:38.555721Z",
     "shell.execute_reply": "2021-10-03T07:23:38.555227Z"
    },
    "papermill": {
     "duration": 0.049822,
     "end_time": "2021-10-03T07:23:38.555837",
     "exception": false,
     "start_time": "2021-10-03T07:23:38.506015",
     "status": "completed"
    },
    "tags": []
   },
   "outputs": [],
   "source": [
    "assert data.shape[0] == data.drop_duplicates().shape[0]"
   ]
  },
  {
   "cell_type": "markdown",
   "id": "5dc3ffa7-641c-4198-a87c-6ab5386cc350",
   "metadata": {
    "papermill": {
     "duration": 0.016447,
     "end_time": "2021-10-03T07:23:38.589513",
     "exception": false,
     "start_time": "2021-10-03T07:23:38.573066",
     "status": "completed"
    },
    "tags": []
   },
   "source": [
    "# Add Entrez Gene IDs"
   ]
  },
  {
   "cell_type": "code",
   "execution_count": 13,
   "id": "2131a318-b969-47d5-87c9-cf8f14c10b90",
   "metadata": {
    "execution": {
     "iopub.execute_input": "2021-10-03T07:23:38.628713Z",
     "iopub.status.busy": "2021-10-03T07:23:38.628256Z",
     "iopub.status.idle": "2021-10-03T07:23:38.635703Z",
     "shell.execute_reply": "2021-10-03T07:23:38.635235Z"
    },
    "papermill": {
     "duration": 0.029505,
     "end_time": "2021-10-03T07:23:38.635814",
     "exception": false,
     "start_time": "2021-10-03T07:23:38.606309",
     "status": "completed"
    },
    "tags": []
   },
   "outputs": [],
   "source": [
    "assert data[\"gene_ens_id_v\"].is_unique"
   ]
  },
  {
   "cell_type": "code",
   "execution_count": 14,
   "id": "9d4b8ae9-f64a-4906-ab27-5557464b11bf",
   "metadata": {
    "execution": {
     "iopub.execute_input": "2021-10-03T07:23:38.676461Z",
     "iopub.status.busy": "2021-10-03T07:23:38.675966Z",
     "iopub.status.idle": "2021-10-03T07:23:38.683386Z",
     "shell.execute_reply": "2021-10-03T07:23:38.683730Z"
    },
    "papermill": {
     "duration": 0.030278,
     "end_time": "2021-10-03T07:23:38.683850",
     "exception": false,
     "start_time": "2021-10-03T07:23:38.653572",
     "status": "completed"
    },
    "tags": []
   },
   "outputs": [
    {
     "data": {
      "text/plain": [
       "False"
      ]
     },
     "execution_count": 14,
     "metadata": {},
     "output_type": "execute_result"
    }
   ],
   "source": [
    "data[\"gene_ens_id\"].is_unique"
   ]
  },
  {
   "cell_type": "code",
   "execution_count": 15,
   "id": "ce60ad51-2746-4f40-88a3-6052f84d7714",
   "metadata": {
    "execution": {
     "iopub.execute_input": "2021-10-03T07:23:38.724590Z",
     "iopub.status.busy": "2021-10-03T07:23:38.724132Z",
     "iopub.status.idle": "2021-10-03T07:23:38.731697Z",
     "shell.execute_reply": "2021-10-03T07:23:38.731294Z"
    },
    "papermill": {
     "duration": 0.030398,
     "end_time": "2021-10-03T07:23:38.731799",
     "exception": false,
     "start_time": "2021-10-03T07:23:38.701401",
     "status": "completed"
    },
    "tags": []
   },
   "outputs": [
    {
     "data": {
      "text/plain": [
       "False"
      ]
     },
     "execution_count": 15,
     "metadata": {},
     "output_type": "execute_result"
    }
   ],
   "source": [
    "data[\"gene_symbol\"].is_unique"
   ]
  },
  {
   "cell_type": "markdown",
   "id": "a8fffdd0-8d84-4359-99ab-782e95487383",
   "metadata": {
    "papermill": {
     "duration": 0.017308,
     "end_time": "2021-10-03T07:23:38.767117",
     "exception": false,
     "start_time": "2021-10-03T07:23:38.749809",
     "status": "completed"
    },
    "tags": []
   },
   "source": [
    "Gene Ensembl IDs (without version) and gene symbols by their own are not unique."
   ]
  },
  {
   "cell_type": "code",
   "execution_count": 16,
   "id": "1d19bd8a-e2c2-4413-93b8-5bdad52f5598",
   "metadata": {
    "execution": {
     "iopub.execute_input": "2021-10-03T07:23:38.807736Z",
     "iopub.status.busy": "2021-10-03T07:23:38.807172Z",
     "iopub.status.idle": "2021-10-03T07:23:38.816961Z",
     "shell.execute_reply": "2021-10-03T07:23:38.816554Z"
    },
    "papermill": {
     "duration": 0.032563,
     "end_time": "2021-10-03T07:23:38.817061",
     "exception": false,
     "start_time": "2021-10-03T07:23:38.784498",
     "status": "completed"
    },
    "tags": []
   },
   "outputs": [
    {
     "data": {
      "text/plain": [
       "56156"
      ]
     },
     "metadata": {},
     "output_type": "display_data"
    },
    {
     "data": {
      "text/plain": [
       "['ENSG00000145309',\n",
       " 'ENSG00000175820',\n",
       " 'ENSG00000083454',\n",
       " 'ENSG00000071794',\n",
       " 'ENSG00000211918']"
      ]
     },
     "metadata": {},
     "output_type": "display_data"
    }
   ],
   "source": [
    "gene_ens_ids = data[\"gene_ens_id\"].unique().tolist()\n",
    "display(len(gene_ens_ids))\n",
    "display(gene_ens_ids[:5])"
   ]
  },
  {
   "cell_type": "code",
   "execution_count": 17,
   "id": "1116de78-d961-4453-9e23-aa04a4b1bbf7",
   "metadata": {
    "execution": {
     "iopub.execute_input": "2021-10-03T07:23:38.900484Z",
     "iopub.status.busy": "2021-10-03T07:23:38.865811Z",
     "iopub.status.idle": "2021-10-03T07:23:40.005846Z",
     "shell.execute_reply": "2021-10-03T07:23:40.005389Z"
    },
    "papermill": {
     "duration": 1.170342,
     "end_time": "2021-10-03T07:23:40.005943",
     "exception": false,
     "start_time": "2021-10-03T07:23:38.835601",
     "status": "completed"
    },
    "tags": []
   },
   "outputs": [
    {
     "name": "stderr",
     "output_type": "stream",
     "text": [
      "R[write to console]: Loading required package: org.Hs.eg.db\n",
      "\n",
      "R[write to console]: Loading required package: AnnotationDbi\n",
      "\n",
      "R[write to console]: Loading required package: stats4\n",
      "\n",
      "R[write to console]: Loading required package: BiocGenerics\n",
      "\n",
      "R[write to console]: Loading required package: parallel\n",
      "\n",
      "R[write to console]: \n",
      "Attaching package: ‘BiocGenerics’\n",
      "\n",
      "\n",
      "R[write to console]: The following objects are masked from ‘package:parallel’:\n",
      "\n",
      "    clusterApply, clusterApplyLB, clusterCall, clusterEvalQ,\n",
      "    clusterExport, clusterMap, parApply, parCapply, parLapply,\n",
      "    parLapplyLB, parRapply, parSapply, parSapplyLB\n",
      "\n",
      "\n",
      "R[write to console]: The following objects are masked from ‘package:stats’:\n",
      "\n",
      "    IQR, mad, sd, var, xtabs\n",
      "\n",
      "\n",
      "R[write to console]: The following objects are masked from ‘package:base’:\n",
      "\n",
      "    anyDuplicated, append, as.data.frame, basename, cbind, colnames,\n",
      "    dirname, do.call, duplicated, eval, evalq, Filter, Find, get, grep,\n",
      "    grepl, intersect, is.unsorted, lapply, Map, mapply, match, mget,\n",
      "    order, paste, pmax, pmax.int, pmin, pmin.int, Position, rank,\n",
      "    rbind, Reduce, rownames, sapply, setdiff, sort, table, tapply,\n",
      "    union, unique, unsplit, which.max, which.min\n",
      "\n",
      "\n",
      "R[write to console]: Loading required package: Biobase\n",
      "\n",
      "R[write to console]: Welcome to Bioconductor\n",
      "\n",
      "    Vignettes contain introductory material; view with\n",
      "    'browseVignettes()'. To cite Bioconductor, see\n",
      "    'citation(\"Biobase\")', and for packages 'citation(\"pkgname\")'.\n",
      "\n",
      "\n",
      "R[write to console]: Loading required package: IRanges\n",
      "\n",
      "R[write to console]: Loading required package: S4Vectors\n",
      "\n",
      "R[write to console]: \n",
      "Attaching package: ‘S4Vectors’\n",
      "\n",
      "\n",
      "R[write to console]: The following object is masked from ‘package:clusterProfiler’:\n",
      "\n",
      "    rename\n",
      "\n",
      "\n",
      "R[write to console]: The following objects are masked from ‘package:base’:\n",
      "\n",
      "    expand.grid, I, unname\n",
      "\n",
      "\n",
      "R[write to console]: \n",
      "Attaching package: ‘IRanges’\n",
      "\n",
      "\n",
      "R[write to console]: The following object is masked from ‘package:clusterProfiler’:\n",
      "\n",
      "    slice\n",
      "\n",
      "\n",
      "R[write to console]: \n",
      "Attaching package: ‘AnnotationDbi’\n",
      "\n",
      "\n",
      "R[write to console]: The following object is masked from ‘package:clusterProfiler’:\n",
      "\n",
      "    select\n",
      "\n",
      "\n",
      "R[write to console]: \n",
      "\n",
      "R[write to console]: 'select()' returned 1:many mapping between keys and columns\n",
      "\n"
     ]
    }
   ],
   "source": [
    "entrez_gene_ids = clusterProfiler.bitr(\n",
    "    gene_ens_ids,\n",
    "    fromType=\"ENSEMBL\",\n",
    "    toType=\"ENTREZID\",\n",
    "    OrgDb=\"org.Hs.eg.db\",\n",
    "    drop=True,\n",
    ")"
   ]
  },
  {
   "cell_type": "code",
   "execution_count": 18,
   "id": "ce51f5ac-4274-433e-827a-c8830520e320",
   "metadata": {
    "execution": {
     "iopub.execute_input": "2021-10-03T07:23:40.056860Z",
     "iopub.status.busy": "2021-10-03T07:23:40.056266Z",
     "iopub.status.idle": "2021-10-03T07:23:40.058542Z",
     "shell.execute_reply": "2021-10-03T07:23:40.058908Z"
    },
    "papermill": {
     "duration": 0.029025,
     "end_time": "2021-10-03T07:23:40.059023",
     "exception": false,
     "start_time": "2021-10-03T07:23:40.029998",
     "status": "completed"
    },
    "tags": []
   },
   "outputs": [
    {
     "data": {
      "text/plain": [
       "(34496, 2)"
      ]
     },
     "execution_count": 18,
     "metadata": {},
     "output_type": "execute_result"
    }
   ],
   "source": [
    "entrez_gene_ids.shape"
   ]
  },
  {
   "cell_type": "code",
   "execution_count": 19,
   "id": "051c27a1-ec65-4b0d-a131-01c05e00d52a",
   "metadata": {
    "execution": {
     "iopub.execute_input": "2021-10-03T07:23:40.112166Z",
     "iopub.status.busy": "2021-10-03T07:23:40.111632Z",
     "iopub.status.idle": "2021-10-03T07:23:40.114005Z",
     "shell.execute_reply": "2021-10-03T07:23:40.114368Z"
    },
    "papermill": {
     "duration": 0.031833,
     "end_time": "2021-10-03T07:23:40.114485",
     "exception": false,
     "start_time": "2021-10-03T07:23:40.082652",
     "status": "completed"
    },
    "tags": []
   },
   "outputs": [
    {
     "data": {
      "text/html": [
       "<div>\n",
       "<style scoped>\n",
       "    .dataframe tbody tr th:only-of-type {\n",
       "        vertical-align: middle;\n",
       "    }\n",
       "\n",
       "    .dataframe tbody tr th {\n",
       "        vertical-align: top;\n",
       "    }\n",
       "\n",
       "    .dataframe thead th {\n",
       "        text-align: right;\n",
       "    }\n",
       "</style>\n",
       "<table border=\"1\" class=\"dataframe\">\n",
       "  <thead>\n",
       "    <tr style=\"text-align: right;\">\n",
       "      <th></th>\n",
       "      <th>ENSEMBL</th>\n",
       "      <th>ENTREZID</th>\n",
       "    </tr>\n",
       "  </thead>\n",
       "  <tbody>\n",
       "    <tr>\n",
       "      <th>1</th>\n",
       "      <td>ENSG00000145309</td>\n",
       "      <td>85438</td>\n",
       "    </tr>\n",
       "    <tr>\n",
       "      <th>2</th>\n",
       "      <td>ENSG00000175820</td>\n",
       "      <td>643677</td>\n",
       "    </tr>\n",
       "    <tr>\n",
       "      <th>3</th>\n",
       "      <td>ENSG00000083454</td>\n",
       "      <td>5026</td>\n",
       "    </tr>\n",
       "    <tr>\n",
       "      <th>4</th>\n",
       "      <td>ENSG00000071794</td>\n",
       "      <td>6596</td>\n",
       "    </tr>\n",
       "    <tr>\n",
       "      <th>5</th>\n",
       "      <td>ENSG00000211918</td>\n",
       "      <td>28503</td>\n",
       "    </tr>\n",
       "  </tbody>\n",
       "</table>\n",
       "</div>"
      ],
      "text/plain": [
       "           ENSEMBL ENTREZID\n",
       "1  ENSG00000145309    85438\n",
       "2  ENSG00000175820   643677\n",
       "3  ENSG00000083454     5026\n",
       "4  ENSG00000071794     6596\n",
       "5  ENSG00000211918    28503"
      ]
     },
     "execution_count": 19,
     "metadata": {},
     "output_type": "execute_result"
    }
   ],
   "source": [
    "entrez_gene_ids.head()"
   ]
  },
  {
   "cell_type": "code",
   "execution_count": 20,
   "id": "9711addc-9fa6-450a-a9b8-fcd0ff41415a",
   "metadata": {
    "execution": {
     "iopub.execute_input": "2021-10-03T07:23:40.167634Z",
     "iopub.status.busy": "2021-10-03T07:23:40.167184Z",
     "iopub.status.idle": "2021-10-03T07:23:40.181489Z",
     "shell.execute_reply": "2021-10-03T07:23:40.181024Z"
    },
    "papermill": {
     "duration": 0.042783,
     "end_time": "2021-10-03T07:23:40.181588",
     "exception": false,
     "start_time": "2021-10-03T07:23:40.138805",
     "status": "completed"
    },
    "tags": []
   },
   "outputs": [],
   "source": [
    "assert entrez_gene_ids.shape[0] == entrez_gene_ids.drop_duplicates().shape[0]"
   ]
  },
  {
   "cell_type": "code",
   "execution_count": 21,
   "id": "8068bdbc-88ef-43aa-bb36-9197f27e62d9",
   "metadata": {
    "execution": {
     "iopub.execute_input": "2021-10-03T07:23:40.236543Z",
     "iopub.status.busy": "2021-10-03T07:23:40.235967Z",
     "iopub.status.idle": "2021-10-03T07:23:40.238813Z",
     "shell.execute_reply": "2021-10-03T07:23:40.238444Z"
    },
    "papermill": {
     "duration": 0.033006,
     "end_time": "2021-10-03T07:23:40.238913",
     "exception": false,
     "start_time": "2021-10-03T07:23:40.205907",
     "status": "completed"
    },
    "tags": []
   },
   "outputs": [
    {
     "data": {
      "text/plain": [
       "(34259,)"
      ]
     },
     "execution_count": 21,
     "metadata": {},
     "output_type": "execute_result"
    }
   ],
   "source": [
    "entrez_gene_ids[\"ENSEMBL\"].drop_duplicates().shape"
   ]
  },
  {
   "cell_type": "code",
   "execution_count": 22,
   "id": "cc391ff8-9e67-483c-966c-4d9d8ccdda60",
   "metadata": {
    "execution": {
     "iopub.execute_input": "2021-10-03T07:23:40.294010Z",
     "iopub.status.busy": "2021-10-03T07:23:40.293486Z",
     "iopub.status.idle": "2021-10-03T07:23:40.296237Z",
     "shell.execute_reply": "2021-10-03T07:23:40.295830Z"
    },
    "papermill": {
     "duration": 0.033538,
     "end_time": "2021-10-03T07:23:40.296335",
     "exception": false,
     "start_time": "2021-10-03T07:23:40.262797",
     "status": "completed"
    },
    "tags": []
   },
   "outputs": [
    {
     "data": {
      "text/plain": [
       "(34407,)"
      ]
     },
     "execution_count": 22,
     "metadata": {},
     "output_type": "execute_result"
    }
   ],
   "source": [
    "entrez_gene_ids[\"ENTREZID\"].drop_duplicates().shape"
   ]
  },
  {
   "cell_type": "code",
   "execution_count": 23,
   "id": "fb1989e3-165b-424a-8790-e36b157b595b",
   "metadata": {
    "execution": {
     "iopub.execute_input": "2021-10-03T07:23:40.349380Z",
     "iopub.status.busy": "2021-10-03T07:23:40.348929Z",
     "iopub.status.idle": "2021-10-03T07:23:40.351227Z",
     "shell.execute_reply": "2021-10-03T07:23:40.350792Z"
    },
    "papermill": {
     "duration": 0.03018,
     "end_time": "2021-10-03T07:23:40.351323",
     "exception": false,
     "start_time": "2021-10-03T07:23:40.321143",
     "status": "completed"
    },
    "tags": []
   },
   "outputs": [],
   "source": [
    "entrez_gene_ids = entrez_gene_ids.rename(\n",
    "    columns={\n",
    "        \"ENSEMBL\": \"ensembl_id\",\n",
    "        \"ENTREZID\": \"entrez_id\",\n",
    "    }\n",
    ")"
   ]
  },
  {
   "cell_type": "markdown",
   "id": "77b322dc-03fe-4e1e-99c4-5319f1a196cd",
   "metadata": {
    "papermill": {
     "duration": 0.02407,
     "end_time": "2021-10-03T07:23:40.399397",
     "exception": false,
     "start_time": "2021-10-03T07:23:40.375327",
     "status": "completed"
    },
    "tags": []
   },
   "source": [
    "# Merge"
   ]
  },
  {
   "cell_type": "code",
   "execution_count": 24,
   "id": "8ad264f8-1ded-47e2-a3a2-fc0bfa9e9d4b",
   "metadata": {
    "execution": {
     "iopub.execute_input": "2021-10-03T07:23:40.470216Z",
     "iopub.status.busy": "2021-10-03T07:23:40.469706Z",
     "iopub.status.idle": "2021-10-03T07:23:40.487958Z",
     "shell.execute_reply": "2021-10-03T07:23:40.487368Z"
    },
    "papermill": {
     "duration": 0.062869,
     "end_time": "2021-10-03T07:23:40.488082",
     "exception": false,
     "start_time": "2021-10-03T07:23:40.425213",
     "status": "completed"
    },
    "tags": []
   },
   "outputs": [],
   "source": [
    "gene_mappings = pd.merge(\n",
    "    data[[\"gene_ens_id_v\", \"gene_ens_id\"]],\n",
    "    entrez_gene_ids,\n",
    "    left_on=\"gene_ens_id\",\n",
    "    right_on=\"ensembl_id\",\n",
    "    how=\"inner\",\n",
    ")[[\"gene_ens_id_v\", \"ensembl_id\", \"entrez_id\"]]"
   ]
  },
  {
   "cell_type": "code",
   "execution_count": 25,
   "id": "e669d5cf-c57e-4f6a-803c-62fd7fb5d920",
   "metadata": {
    "execution": {
     "iopub.execute_input": "2021-10-03T07:23:40.545778Z",
     "iopub.status.busy": "2021-10-03T07:23:40.545143Z",
     "iopub.status.idle": "2021-10-03T07:23:40.547571Z",
     "shell.execute_reply": "2021-10-03T07:23:40.547951Z"
    },
    "papermill": {
     "duration": 0.030695,
     "end_time": "2021-10-03T07:23:40.548070",
     "exception": false,
     "start_time": "2021-10-03T07:23:40.517375",
     "status": "completed"
    },
    "tags": []
   },
   "outputs": [
    {
     "data": {
      "text/plain": [
       "(34527, 3)"
      ]
     },
     "execution_count": 25,
     "metadata": {},
     "output_type": "execute_result"
    }
   ],
   "source": [
    "gene_mappings.shape"
   ]
  },
  {
   "cell_type": "code",
   "execution_count": 26,
   "id": "0524883d-b379-4d14-aa33-7b87a06a6c6a",
   "metadata": {
    "execution": {
     "iopub.execute_input": "2021-10-03T07:23:40.606151Z",
     "iopub.status.busy": "2021-10-03T07:23:40.605584Z",
     "iopub.status.idle": "2021-10-03T07:23:40.608393Z",
     "shell.execute_reply": "2021-10-03T07:23:40.607951Z"
    },
    "papermill": {
     "duration": 0.034019,
     "end_time": "2021-10-03T07:23:40.608488",
     "exception": false,
     "start_time": "2021-10-03T07:23:40.574469",
     "status": "completed"
    },
    "tags": []
   },
   "outputs": [
    {
     "data": {
      "text/html": [
       "<div>\n",
       "<style scoped>\n",
       "    .dataframe tbody tr th:only-of-type {\n",
       "        vertical-align: middle;\n",
       "    }\n",
       "\n",
       "    .dataframe tbody tr th {\n",
       "        vertical-align: top;\n",
       "    }\n",
       "\n",
       "    .dataframe thead th {\n",
       "        text-align: right;\n",
       "    }\n",
       "</style>\n",
       "<table border=\"1\" class=\"dataframe\">\n",
       "  <thead>\n",
       "    <tr style=\"text-align: right;\">\n",
       "      <th></th>\n",
       "      <th>gene_ens_id_v</th>\n",
       "      <th>ensembl_id</th>\n",
       "      <th>entrez_id</th>\n",
       "    </tr>\n",
       "  </thead>\n",
       "  <tbody>\n",
       "    <tr>\n",
       "      <th>0</th>\n",
       "      <td>ENSG00000145309.5</td>\n",
       "      <td>ENSG00000145309</td>\n",
       "      <td>85438</td>\n",
       "    </tr>\n",
       "    <tr>\n",
       "      <th>1</th>\n",
       "      <td>ENSG00000175820.3</td>\n",
       "      <td>ENSG00000175820</td>\n",
       "      <td>643677</td>\n",
       "    </tr>\n",
       "    <tr>\n",
       "      <th>2</th>\n",
       "      <td>ENSG00000083454.21</td>\n",
       "      <td>ENSG00000083454</td>\n",
       "      <td>5026</td>\n",
       "    </tr>\n",
       "    <tr>\n",
       "      <th>3</th>\n",
       "      <td>ENSG00000071794.15</td>\n",
       "      <td>ENSG00000071794</td>\n",
       "      <td>6596</td>\n",
       "    </tr>\n",
       "    <tr>\n",
       "      <th>4</th>\n",
       "      <td>ENSG00000211918.1</td>\n",
       "      <td>ENSG00000211918</td>\n",
       "      <td>28503</td>\n",
       "    </tr>\n",
       "  </tbody>\n",
       "</table>\n",
       "</div>"
      ],
      "text/plain": [
       "        gene_ens_id_v       ensembl_id entrez_id\n",
       "0   ENSG00000145309.5  ENSG00000145309     85438\n",
       "1   ENSG00000175820.3  ENSG00000175820    643677\n",
       "2  ENSG00000083454.21  ENSG00000083454      5026\n",
       "3  ENSG00000071794.15  ENSG00000071794      6596\n",
       "4   ENSG00000211918.1  ENSG00000211918     28503"
      ]
     },
     "execution_count": 26,
     "metadata": {},
     "output_type": "execute_result"
    }
   ],
   "source": [
    "gene_mappings.head()"
   ]
  },
  {
   "cell_type": "markdown",
   "id": "493cb8e4-9bd3-4f10-ac8a-f36b3bad1bf5",
   "metadata": {
    "papermill": {
     "duration": 0.024638,
     "end_time": "2021-10-03T07:23:40.658049",
     "exception": false,
     "start_time": "2021-10-03T07:23:40.633411",
     "status": "completed"
    },
    "tags": []
   },
   "source": [
    "# Save"
   ]
  },
  {
   "cell_type": "code",
   "execution_count": 27,
   "id": "4467e8b4-3948-4d2a-8be0-e2d6041cbc7a",
   "metadata": {
    "execution": {
     "iopub.execute_input": "2021-10-03T07:23:40.711612Z",
     "iopub.status.busy": "2021-10-03T07:23:40.711027Z",
     "iopub.status.idle": "2021-10-03T07:23:40.713873Z",
     "shell.execute_reply": "2021-10-03T07:23:40.713433Z"
    },
    "papermill": {
     "duration": 0.031291,
     "end_time": "2021-10-03T07:23:40.713967",
     "exception": false,
     "start_time": "2021-10-03T07:23:40.682676",
     "status": "completed"
    },
    "tags": []
   },
   "outputs": [
    {
     "data": {
      "text/plain": [
       "PosixPath('/opt/data/data/gtex_v8/gtex_entrez_gene_ids_mappings.pkl')"
      ]
     },
     "metadata": {},
     "output_type": "display_data"
    }
   ],
   "source": [
    "output_filename = conf.GTEX[\"DATA_DIR\"] / \"gtex_entrez_gene_ids_mappings.pkl\"\n",
    "display(output_filename)"
   ]
  },
  {
   "cell_type": "code",
   "execution_count": 28,
   "id": "be711a73-6742-4a56-92c2-7aa8e6468b8b",
   "metadata": {
    "execution": {
     "iopub.execute_input": "2021-10-03T07:23:40.768701Z",
     "iopub.status.busy": "2021-10-03T07:23:40.766998Z",
     "iopub.status.idle": "2021-10-03T07:23:40.783661Z",
     "shell.execute_reply": "2021-10-03T07:23:40.783268Z"
    },
    "papermill": {
     "duration": 0.044672,
     "end_time": "2021-10-03T07:23:40.783767",
     "exception": false,
     "start_time": "2021-10-03T07:23:40.739095",
     "status": "completed"
    },
    "tags": []
   },
   "outputs": [],
   "source": [
    "gene_mappings.to_pickle(output_filename)"
   ]
  },
  {
   "cell_type": "code",
   "execution_count": null,
   "id": "46bee88f-44e2-4028-a8a9-95708a6afe39",
   "metadata": {
    "papermill": {
     "duration": 0.025231,
     "end_time": "2021-10-03T07:23:40.836035",
     "exception": false,
     "start_time": "2021-10-03T07:23:40.810804",
     "status": "completed"
    },
    "tags": []
   },
   "outputs": [],
   "source": []
  }
 ],
 "metadata": {
  "jupytext": {
   "cell_metadata_filter": "all,-execution,-papermill,-trusted"
  },
  "kernelspec": {
   "display_name": "Python 3 (ipykernel)",
   "language": "python",
   "name": "python3"
  },
  "language_info": {
   "codemirror_mode": {
    "name": "ipython",
    "version": 3
   },
   "file_extension": ".py",
   "mimetype": "text/x-python",
   "name": "python",
   "nbconvert_exporter": "python",
   "pygments_lexer": "ipython3",
   "version": "3.9.7"
  },
  "papermill": {
   "default_parameters": {},
   "duration": 10.501428,
   "end_time": "2021-10-03T07:23:41.668722",
   "environment_variables": {},
   "exception": null,
   "input_path": "nbs/05_preprocessing/03-gtex_v8-entrez_gene_ids_map.ipynb",
   "output_path": "nbs/05_preprocessing/03-gtex_v8-entrez_gene_ids_map.run.ipynb",
   "parameters": {},
   "start_time": "2021-10-03T07:23:31.167294",
   "version": "2.3.3"
  }
 },
 "nbformat": 4,
 "nbformat_minor": 5
}
