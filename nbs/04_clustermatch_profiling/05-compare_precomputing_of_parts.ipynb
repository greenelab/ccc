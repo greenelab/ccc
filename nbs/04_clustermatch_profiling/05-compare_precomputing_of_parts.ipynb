{
 "cells": [
  {
   "cell_type": "code",
   "execution_count": 1,
   "id": "a75c4496-d379-4668-905d-0e9136981f0c",
   "metadata": {
    "execution": {
     "iopub.execute_input": "2021-09-08T20:24:29.083650Z",
     "iopub.status.busy": "2021-09-08T20:24:29.081694Z",
     "iopub.status.idle": "2021-09-08T20:24:29.498594Z",
     "shell.execute_reply": "2021-09-08T20:24:29.498093Z"
    },
    "papermill": {
     "duration": 0.455052,
     "end_time": "2021-09-08T20:24:29.498709",
     "exception": false,
     "start_time": "2021-09-08T20:24:29.043657",
     "status": "completed"
    },
    "tags": []
   },
   "outputs": [],
   "source": [
    "import numpy as np\n",
    "\n",
    "from clustermatch.coef import cm"
   ]
  },
  {
   "cell_type": "code",
   "execution_count": 2,
   "id": "2316ffcd-a6e4-453f-bb52-779685c5c5bf",
   "metadata": {
    "execution": {
     "iopub.execute_input": "2021-09-08T20:24:29.515753Z",
     "iopub.status.busy": "2021-09-08T20:24:29.515302Z",
     "iopub.status.idle": "2021-09-08T20:24:29.516878Z",
     "shell.execute_reply": "2021-09-08T20:24:29.517221Z"
    },
    "papermill": {
     "duration": 0.011548,
     "end_time": "2021-09-08T20:24:29.517337",
     "exception": false,
     "start_time": "2021-09-08T20:24:29.505789",
     "status": "completed"
    },
    "tags": []
   },
   "outputs": [],
   "source": [
    "n_genes, n_samples = 100, 1000"
   ]
  },
  {
   "cell_type": "code",
   "execution_count": 3,
   "id": "b2f92fb1-113d-479b-8bbf-2be229e26e8f",
   "metadata": {
    "execution": {
     "iopub.execute_input": "2021-09-08T20:24:29.533648Z",
     "iopub.status.busy": "2021-09-08T20:24:29.533201Z",
     "iopub.status.idle": "2021-09-08T20:24:29.534746Z",
     "shell.execute_reply": "2021-09-08T20:24:29.535101Z"
    },
    "papermill": {
     "duration": 0.011168,
     "end_time": "2021-09-08T20:24:29.535225",
     "exception": false,
     "start_time": "2021-09-08T20:24:29.524057",
     "status": "completed"
    },
    "tags": []
   },
   "outputs": [],
   "source": [
    "np.random.seed(0)"
   ]
  },
  {
   "cell_type": "code",
   "execution_count": 4,
   "id": "63638c0b-b436-48a9-93e0-db2adb939a61",
   "metadata": {
    "execution": {
     "iopub.execute_input": "2021-09-08T20:24:29.551551Z",
     "iopub.status.busy": "2021-09-08T20:24:29.551099Z",
     "iopub.status.idle": "2021-09-08T20:24:29.554133Z",
     "shell.execute_reply": "2021-09-08T20:24:29.553689Z"
    },
    "papermill": {
     "duration": 0.01217,
     "end_time": "2021-09-08T20:24:29.554225",
     "exception": false,
     "start_time": "2021-09-08T20:24:29.542055",
     "status": "completed"
    },
    "tags": []
   },
   "outputs": [],
   "source": [
    "data = np.random.rand(n_genes, n_samples)"
   ]
  },
  {
   "cell_type": "code",
   "execution_count": 5,
   "id": "808017ed-9a8a-4bf7-a3dd-42317a39ce8f",
   "metadata": {
    "execution": {
     "iopub.execute_input": "2021-09-08T20:24:29.574919Z",
     "iopub.status.busy": "2021-09-08T20:24:29.574357Z",
     "iopub.status.idle": "2021-09-08T20:24:29.578093Z",
     "shell.execute_reply": "2021-09-08T20:24:29.577643Z"
    },
    "papermill": {
     "duration": 0.017187,
     "end_time": "2021-09-08T20:24:29.578188",
     "exception": false,
     "start_time": "2021-09-08T20:24:29.561001",
     "status": "completed"
    },
    "tags": []
   },
   "outputs": [
    {
     "data": {
      "text/plain": [
       "(100, 1000)"
      ]
     },
     "execution_count": 5,
     "metadata": {},
     "output_type": "execute_result"
    }
   ],
   "source": [
    "data.shape"
   ]
  },
  {
   "cell_type": "markdown",
   "id": "3ecadaeb-8769-492d-b5c8-d69e63c2f857",
   "metadata": {
    "papermill": {
     "duration": 0.007494,
     "end_time": "2021-09-08T20:24:29.593222",
     "exception": false,
     "start_time": "2021-09-08T20:24:29.585728",
     "status": "completed"
    },
    "tags": []
   },
   "source": [
    "# Original implementation (`precompute_parts=False`)"
   ]
  },
  {
   "cell_type": "code",
   "execution_count": 6,
   "id": "c959248e-a451-458f-915e-745c782eb3d0",
   "metadata": {
    "execution": {
     "iopub.execute_input": "2021-09-08T20:24:29.611981Z",
     "iopub.status.busy": "2021-09-08T20:24:29.611469Z",
     "iopub.status.idle": "2021-09-08T20:24:29.613634Z",
     "shell.execute_reply": "2021-09-08T20:24:29.613201Z"
    },
    "papermill": {
     "duration": 0.012842,
     "end_time": "2021-09-08T20:24:29.613726",
     "exception": false,
     "start_time": "2021-09-08T20:24:29.600884",
     "status": "completed"
    },
    "tags": []
   },
   "outputs": [],
   "source": [
    "def func():\n",
    "    return cm(data, internal_n_clusters=range(2, 10 + 1), precompute_parts=False)"
   ]
  },
  {
   "cell_type": "code",
   "execution_count": 7,
   "id": "bb62be43-f64c-44a7-b678-101b029c3644",
   "metadata": {
    "execution": {
     "iopub.execute_input": "2021-09-08T20:24:29.640194Z",
     "iopub.status.busy": "2021-09-08T20:24:29.639700Z",
     "iopub.status.idle": "2021-09-08T22:02:10.175454Z",
     "shell.execute_reply": "2021-09-08T22:02:10.175824Z"
    },
    "papermill": {
     "duration": 5860.55429,
     "end_time": "2021-09-08T22:02:10.175995",
     "exception": false,
     "start_time": "2021-09-08T20:24:29.621705",
     "status": "completed"
    },
    "tags": []
   },
   "outputs": [
    {
     "name": "stdout",
     "output_type": "stream",
     "text": [
      "6min 6s ± 997 ms per loop (mean ± std. dev. of 7 runs, 1 loop each)\n"
     ]
    }
   ],
   "source": [
    "%%timeit func()\n",
    "func()"
   ]
  },
  {
   "cell_type": "code",
   "execution_count": 8,
   "id": "3c413e65-c614-4d25-b98b-c2326c38bf6c",
   "metadata": {
    "execution": {
     "iopub.execute_input": "2021-09-08T22:02:11.134630Z",
     "iopub.status.busy": "2021-09-08T22:02:11.134174Z",
     "iopub.status.idle": "2021-09-08T22:10:34.063523Z",
     "shell.execute_reply": "2021-09-08T22:10:34.063949Z"
    },
    "papermill": {
     "duration": 502.97806,
     "end_time": "2021-09-08T22:10:34.064062",
     "exception": false,
     "start_time": "2021-09-08T22:02:11.086002",
     "status": "completed"
    },
    "tags": []
   },
   "outputs": [
    {
     "name": "stdout",
     "output_type": "stream",
     "text": [
      " "
     ]
    }
   ],
   "source": [
    "%%prun -s cumulative -l 20\n",
    "func()"
   ]
  },
  {
   "cell_type": "markdown",
   "id": "4d4f1d1c-fe34-42e4-a1a8-106a9b3e8bc3",
   "metadata": {
    "papermill": {
     "duration": 0.032422,
     "end_time": "2021-09-08T22:10:35.004728",
     "exception": false,
     "start_time": "2021-09-08T22:10:34.972306",
     "status": "completed"
    },
    "tags": []
   },
   "source": [
    "# Improved implementation (`precompute_parts=True`)"
   ]
  },
  {
   "cell_type": "code",
   "execution_count": 9,
   "id": "e96a58f0-9928-42e6-9e1f-b173d6e42627",
   "metadata": {
    "execution": {
     "iopub.execute_input": "2021-09-08T22:10:35.034106Z",
     "iopub.status.busy": "2021-09-08T22:10:35.033630Z",
     "iopub.status.idle": "2021-09-08T22:10:35.035274Z",
     "shell.execute_reply": "2021-09-08T22:10:35.035618Z"
    },
    "papermill": {
     "duration": 0.014975,
     "end_time": "2021-09-08T22:10:35.035732",
     "exception": false,
     "start_time": "2021-09-08T22:10:35.020757",
     "status": "completed"
    },
    "tags": []
   },
   "outputs": [],
   "source": [
    "def func():\n",
    "    return cm(data, internal_n_clusters=range(2, 10 + 1), precompute_parts=True)"
   ]
  },
  {
   "cell_type": "code",
   "execution_count": 10,
   "id": "0d185b78-c72c-4b38-8b25-e8b36dc8e841",
   "metadata": {
    "execution": {
     "iopub.execute_input": "2021-09-08T22:10:35.055336Z",
     "iopub.status.busy": "2021-09-08T22:10:35.054867Z",
     "iopub.status.idle": "2021-09-08T23:33:39.922187Z",
     "shell.execute_reply": "2021-09-08T23:33:39.922542Z"
    },
    "papermill": {
     "duration": 4984.878908,
     "end_time": "2021-09-08T23:33:39.922655",
     "exception": false,
     "start_time": "2021-09-08T22:10:35.043747",
     "status": "completed"
    },
    "tags": []
   },
   "outputs": [
    {
     "name": "stdout",
     "output_type": "stream",
     "text": [
      "5min 11s ± 219 ms per loop (mean ± std. dev. of 7 runs, 1 loop each)\n"
     ]
    }
   ],
   "source": [
    "%%timeit func()\n",
    "func()"
   ]
  },
  {
   "cell_type": "code",
   "execution_count": 11,
   "id": "d49546cb-e339-4599-8368-59f6c2e8b460",
   "metadata": {
    "execution": {
     "iopub.execute_input": "2021-09-08T23:33:40.850232Z",
     "iopub.status.busy": "2021-09-08T23:33:40.849773Z",
     "iopub.status.idle": "2021-09-08T23:40:52.456451Z",
     "shell.execute_reply": "2021-09-08T23:40:52.456825Z"
    },
    "papermill": {
     "duration": 431.622392,
     "end_time": "2021-09-08T23:40:52.456939",
     "exception": false,
     "start_time": "2021-09-08T23:33:40.834547",
     "status": "completed"
    },
    "tags": []
   },
   "outputs": [
    {
     "name": "stdout",
     "output_type": "stream",
     "text": [
      " "
     ]
    }
   ],
   "source": [
    "%%prun -s cumulative -l 20\n",
    "func()"
   ]
  },
  {
   "cell_type": "code",
   "execution_count": null,
   "id": "46815c91-f269-4c02-b90b-d31d1dffde41",
   "metadata": {
    "papermill": {
     "duration": 0.011471,
     "end_time": "2021-09-08T23:40:53.371192",
     "exception": false,
     "start_time": "2021-09-08T23:40:53.359721",
     "status": "completed"
    },
    "tags": []
   },
   "outputs": [],
   "source": []
  }
 ],
 "metadata": {
  "jupytext": {
   "cell_metadata_filter": "all,-execution,-papermill,-trusted"
  },
  "kernelspec": {
   "display_name": "Python 3 (ipykernel)",
   "language": "python",
   "name": "python3"
  },
  "language_info": {
   "codemirror_mode": {
    "name": "ipython",
    "version": 3
   },
   "file_extension": ".py",
   "mimetype": "text/x-python",
   "name": "python",
   "nbconvert_exporter": "python",
   "pygments_lexer": "ipython3",
   "version": "3.9.6"
  },
  "papermill": {
   "default_parameters": {},
   "duration": 11785.456215,
   "end_time": "2021-09-08T23:40:53.634898",
   "environment_variables": {},
   "exception": null,
   "input_path": "nbs/04_clustermatch_profiling/05-compare_precomputing_of_parts.ipynb",
   "output_path": "nbs/04_clustermatch_profiling/05-compare_precomputing_of_parts.run.ipynb",
   "parameters": {},
   "start_time": "2021-09-08T20:24:28.178683",
   "version": "2.3.3"
  }
 },
 "nbformat": 4,
 "nbformat_minor": 5
}
