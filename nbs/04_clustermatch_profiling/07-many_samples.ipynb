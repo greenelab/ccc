{
 "cells": [
  {
   "cell_type": "markdown",
   "id": "fd52facb-2470-4824-83d4-7c9fd042ecfb",
   "metadata": {},
   "source": [
    "# Description"
   ]
  },
  {
   "cell_type": "markdown",
   "id": "eb211746-d47e-4c32-bfa9-7edd284f8dcf",
   "metadata": {},
   "source": [
    "TODO"
   ]
  },
  {
   "cell_type": "markdown",
   "id": "35a04385-a901-4726-82a6-a01f16281efe",
   "metadata": {},
   "source": [
    "# Modules"
   ]
  },
  {
   "cell_type": "code",
   "execution_count": 1,
   "id": "a75c4496-d379-4668-905d-0e9136981f0c",
   "metadata": {
    "execution": {
     "iopub.execute_input": "2021-09-09T15:18:43.475432Z",
     "iopub.status.busy": "2021-09-09T15:18:43.474941Z",
     "iopub.status.idle": "2021-09-09T15:18:43.960838Z",
     "shell.execute_reply": "2021-09-09T15:18:43.961180Z"
    },
    "papermill": {
     "duration": 0.501818,
     "end_time": "2021-09-09T15:18:43.961366",
     "exception": false,
     "start_time": "2021-09-09T15:18:43.459548",
     "status": "completed"
    },
    "tags": []
   },
   "outputs": [],
   "source": [
    "import numpy as np\n",
    "\n",
    "from clustermatch.coef import cm"
   ]
  },
  {
   "cell_type": "markdown",
   "id": "2c92a1ad-2fc9-4a16-a5f8-fce685246996",
   "metadata": {},
   "source": [
    "# Data"
   ]
  },
  {
   "cell_type": "code",
   "execution_count": 2,
   "id": "2316ffcd-a6e4-453f-bb52-779685c5c5bf",
   "metadata": {
    "execution": {
     "iopub.execute_input": "2021-09-09T15:18:43.974995Z",
     "iopub.status.busy": "2021-09-09T15:18:43.974550Z",
     "iopub.status.idle": "2021-09-09T15:18:43.976631Z",
     "shell.execute_reply": "2021-09-09T15:18:43.976271Z"
    },
    "papermill": {
     "duration": 0.009935,
     "end_time": "2021-09-09T15:18:43.976727",
     "exception": false,
     "start_time": "2021-09-09T15:18:43.966792",
     "status": "completed"
    },
    "tags": []
   },
   "outputs": [],
   "source": [
    "n_genes, n_samples = 10, 30000"
   ]
  },
  {
   "cell_type": "code",
   "execution_count": 3,
   "id": "b2f92fb1-113d-479b-8bbf-2be229e26e8f",
   "metadata": {
    "execution": {
     "iopub.execute_input": "2021-09-09T15:18:43.990368Z",
     "iopub.status.busy": "2021-09-09T15:18:43.989914Z",
     "iopub.status.idle": "2021-09-09T15:18:43.991563Z",
     "shell.execute_reply": "2021-09-09T15:18:43.991922Z"
    },
    "papermill": {
     "duration": 0.010109,
     "end_time": "2021-09-09T15:18:43.992039",
     "exception": false,
     "start_time": "2021-09-09T15:18:43.981930",
     "status": "completed"
    },
    "tags": []
   },
   "outputs": [],
   "source": [
    "np.random.seed(0)"
   ]
  },
  {
   "cell_type": "code",
   "execution_count": 4,
   "id": "63638c0b-b436-48a9-93e0-db2adb939a61",
   "metadata": {
    "execution": {
     "iopub.execute_input": "2021-09-09T15:18:44.005506Z",
     "iopub.status.busy": "2021-09-09T15:18:44.005074Z",
     "iopub.status.idle": "2021-09-09T15:18:44.009992Z",
     "shell.execute_reply": "2021-09-09T15:18:44.009542Z"
    },
    "papermill": {
     "duration": 0.012713,
     "end_time": "2021-09-09T15:18:44.010086",
     "exception": false,
     "start_time": "2021-09-09T15:18:43.997373",
     "status": "completed"
    },
    "tags": []
   },
   "outputs": [],
   "source": [
    "data = np.random.rand(n_genes, n_samples)"
   ]
  },
  {
   "cell_type": "code",
   "execution_count": 5,
   "id": "808017ed-9a8a-4bf7-a3dd-42317a39ce8f",
   "metadata": {
    "execution": {
     "iopub.execute_input": "2021-09-09T15:18:44.027775Z",
     "iopub.status.busy": "2021-09-09T15:18:44.027207Z",
     "iopub.status.idle": "2021-09-09T15:18:44.031476Z",
     "shell.execute_reply": "2021-09-09T15:18:44.031086Z"
    },
    "papermill": {
     "duration": 0.016163,
     "end_time": "2021-09-09T15:18:44.031571",
     "exception": false,
     "start_time": "2021-09-09T15:18:44.015408",
     "status": "completed"
    },
    "tags": []
   },
   "outputs": [
    {
     "data": {
      "text/plain": [
       "(10, 30000)"
      ]
     },
     "execution_count": 5,
     "metadata": {},
     "output_type": "execute_result"
    }
   ],
   "source": [
    "data.shape"
   ]
  },
  {
   "cell_type": "markdown",
   "id": "716e4219-cad5-453b-8331-47d310689e03",
   "metadata": {
    "papermill": {
     "duration": 0.005405,
     "end_time": "2021-09-09T15:18:44.042834",
     "exception": false,
     "start_time": "2021-09-09T15:18:44.037429",
     "status": "completed"
    },
    "tags": []
   },
   "source": [
    "# Profile"
   ]
  },
  {
   "cell_type": "code",
   "execution_count": 6,
   "id": "67807856-f337-4c6e-ae31-cd306577a314",
   "metadata": {
    "execution": {
     "iopub.execute_input": "2021-09-09T15:18:44.057184Z",
     "iopub.status.busy": "2021-09-09T15:18:44.056628Z",
     "iopub.status.idle": "2021-09-09T15:18:44.058759Z",
     "shell.execute_reply": "2021-09-09T15:18:44.058261Z"
    },
    "papermill": {
     "duration": 0.010534,
     "end_time": "2021-09-09T15:18:44.058856",
     "exception": false,
     "start_time": "2021-09-09T15:18:44.048322",
     "status": "completed"
    },
    "tags": []
   },
   "outputs": [],
   "source": [
    "def func():\n",
    "    return cm(data, internal_n_clusters=range(2, 10 + 1), precompute_parts=True)"
   ]
  },
  {
   "cell_type": "code",
   "execution_count": 7,
   "id": "2965a695-5c0c-4e9e-8435-dcbfa610eb81",
   "metadata": {
    "execution": {
     "iopub.execute_input": "2021-09-09T15:18:44.074100Z",
     "iopub.status.busy": "2021-09-09T15:18:44.073587Z",
     "iopub.status.idle": "2021-09-09T15:22:38.667674Z",
     "shell.execute_reply": "2021-09-09T15:22:38.668089Z"
    },
    "papermill": {
     "duration": 234.603607,
     "end_time": "2021-09-09T15:22:38.668206",
     "exception": false,
     "start_time": "2021-09-09T15:18:44.064599",
     "status": "completed"
    },
    "tags": []
   },
   "outputs": [
    {
     "name": "stdout",
     "output_type": "stream",
     "text": [
      "14.4 s ± 295 ms per loop (mean ± std. dev. of 7 runs, 1 loop each)\n"
     ]
    }
   ],
   "source": [
    "%%timeit func()\n",
    "func()"
   ]
  },
  {
   "cell_type": "code",
   "execution_count": 8,
   "id": "51c7a416-064a-4669-a09f-16f837d32475",
   "metadata": {
    "execution": {
     "iopub.execute_input": "2021-09-09T15:22:38.684305Z",
     "iopub.status.busy": "2021-09-09T15:22:38.683771Z",
     "iopub.status.idle": "2021-09-09T15:22:54.060664Z",
     "shell.execute_reply": "2021-09-09T15:22:54.060235Z"
    },
    "papermill": {
     "duration": 15.38646,
     "end_time": "2021-09-09T15:22:54.060759",
     "exception": false,
     "start_time": "2021-09-09T15:22:38.674299",
     "status": "completed"
    },
    "tags": []
   },
   "outputs": [
    {
     "name": "stdout",
     "output_type": "stream",
     "text": [
      " \n",
      "*** Profile printout saved to text file '07-cm_many_samples.txt'. \n"
     ]
    }
   ],
   "source": [
    "%%prun -s cumulative -l 20 -T 07-cm_many_samples.txt\n",
    "func()"
   ]
  },
  {
   "cell_type": "code",
   "execution_count": null,
   "id": "e2556204-1c10-4e01-8c6c-ea63ddb37530",
   "metadata": {
    "papermill": {
     "duration": 0.006417,
     "end_time": "2021-09-09T15:22:54.073754",
     "exception": false,
     "start_time": "2021-09-09T15:22:54.067337",
     "status": "completed"
    },
    "tags": []
   },
   "outputs": [],
   "source": []
  }
 ],
 "metadata": {
  "jupytext": {
   "cell_metadata_filter": "all,-execution,-papermill,-trusted",
   "text_representation": {
    "extension": ".py",
    "format_name": "percent",
    "format_version": "1.3",
    "jupytext_version": "1.11.5"
   }
  },
  "kernelspec": {
   "display_name": "Python 3 (ipykernel)",
   "language": "python",
   "name": "python3"
  },
  "language_info": {
   "codemirror_mode": {
    "name": "ipython",
    "version": 3
   },
   "file_extension": ".py",
   "mimetype": "text/x-python",
   "name": "python",
   "nbconvert_exporter": "python",
   "pygments_lexer": "ipython3",
   "version": "3.9.6"
  },
  "papermill": {
   "default_parameters": {},
   "duration": 252.084027,
   "end_time": "2021-09-09T15:22:54.487203",
   "environment_variables": {},
   "exception": null,
   "input_path": "nbs/04_clustermatch_profiling/07-many_samples.ipynb",
   "output_path": "nbs/04_clustermatch_profiling/07-many_samples.run.ipynb",
   "parameters": {},
   "start_time": "2021-09-09T15:18:42.403176",
   "version": "2.3.3"
  }
 },
 "nbformat": 4,
 "nbformat_minor": 5
}
