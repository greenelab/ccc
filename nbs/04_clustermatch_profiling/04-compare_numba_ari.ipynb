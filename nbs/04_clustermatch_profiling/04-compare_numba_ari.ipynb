{
 "cells": [
  {
   "cell_type": "code",
   "execution_count": null,
   "id": "a75c4496-d379-4668-905d-0e9136981f0c",
   "metadata": {
    "papermill": {
     "duration": 0.455052,
     "end_time": "2021-09-08T20:24:29.498709",
     "exception": false,
     "start_time": "2021-09-08T20:24:29.043657",
     "status": "completed"
    },
    "tags": []
   },
   "outputs": [],
   "source": [
    "import numpy as np\n",
    "\n",
    "from clustermatch import coef"
   ]
  },
  {
   "cell_type": "code",
   "execution_count": null,
   "id": "2316ffcd-a6e4-453f-bb52-779685c5c5bf",
   "metadata": {
    "papermill": {
     "duration": 0.011548,
     "end_time": "2021-09-08T20:24:29.517337",
     "exception": false,
     "start_time": "2021-09-08T20:24:29.505789",
     "status": "completed"
    },
    "tags": []
   },
   "outputs": [],
   "source": [
    "n_genes, n_samples = 100, 1000"
   ]
  },
  {
   "cell_type": "code",
   "execution_count": null,
   "id": "b2f92fb1-113d-479b-8bbf-2be229e26e8f",
   "metadata": {
    "papermill": {
     "duration": 0.011168,
     "end_time": "2021-09-08T20:24:29.535225",
     "exception": false,
     "start_time": "2021-09-08T20:24:29.524057",
     "status": "completed"
    },
    "tags": []
   },
   "outputs": [],
   "source": [
    "np.random.seed(0)"
   ]
  },
  {
   "cell_type": "code",
   "execution_count": null,
   "id": "63638c0b-b436-48a9-93e0-db2adb939a61",
   "metadata": {
    "papermill": {
     "duration": 0.01217,
     "end_time": "2021-09-08T20:24:29.554225",
     "exception": false,
     "start_time": "2021-09-08T20:24:29.542055",
     "status": "completed"
    },
    "tags": []
   },
   "outputs": [],
   "source": [
    "data = np.random.rand(n_genes, n_samples)"
   ]
  },
  {
   "cell_type": "code",
   "execution_count": null,
   "id": "808017ed-9a8a-4bf7-a3dd-42317a39ce8f",
   "metadata": {
    "papermill": {
     "duration": 0.017187,
     "end_time": "2021-09-08T20:24:29.578188",
     "exception": false,
     "start_time": "2021-09-08T20:24:29.561001",
     "status": "completed"
    },
    "tags": []
   },
   "outputs": [],
   "source": [
    "data.shape"
   ]
  },
  {
   "cell_type": "markdown",
   "id": "d3714f75-f5af-46bb-a10f-234a88ddbeb3",
   "metadata": {
    "papermill": {
     "duration": 0.032422,
     "end_time": "2021-09-08T22:10:35.004728",
     "exception": false,
     "start_time": "2021-09-08T22:10:34.972306",
     "status": "completed"
    },
    "tags": []
   },
   "source": [
    "# Improved implementation (ARI implemented in numba)"
   ]
  },
  {
   "cell_type": "code",
   "execution_count": null,
   "id": "ace87b57-029a-4738-ab3c-6cdf18d92743",
   "metadata": {
    "papermill": {
     "duration": 0.014975,
     "end_time": "2021-09-08T22:10:35.035732",
     "exception": false,
     "start_time": "2021-09-08T22:10:35.020757",
     "status": "completed"
    },
    "tags": []
   },
   "outputs": [],
   "source": [
    "def func():\n",
    "    return coef.cm(data, internal_n_clusters=range(2, 10 + 1), precompute_parts=True)"
   ]
  },
  {
   "cell_type": "code",
   "execution_count": null,
   "id": "dcebf353-801a-4598-94e0-5c5e11002650",
   "metadata": {
    "papermill": {
     "duration": 4984.878908,
     "end_time": "2021-09-08T23:33:39.922655",
     "exception": false,
     "start_time": "2021-09-08T22:10:35.043747",
     "status": "completed"
    },
    "tags": []
   },
   "outputs": [],
   "source": [
    "%%timeit func()\n",
    "func()"
   ]
  },
  {
   "cell_type": "code",
   "execution_count": null,
   "id": "31544659-dc3d-4d71-ad1c-ac86eaa5471c",
   "metadata": {
    "papermill": {
     "duration": 431.622392,
     "end_time": "2021-09-08T23:40:52.456939",
     "exception": false,
     "start_time": "2021-09-08T23:33:40.834547",
     "status": "completed"
    },
    "tags": []
   },
   "outputs": [],
   "source": [
    "%%prun -s cumulative -l 20 -T 04-cm_ari_numba.txt\n",
    "func()"
   ]
  },
  {
   "cell_type": "markdown",
   "id": "3ecadaeb-8769-492d-b5c8-d69e63c2f857",
   "metadata": {
    "papermill": {
     "duration": 0.007494,
     "end_time": "2021-09-08T20:24:29.593222",
     "exception": false,
     "start_time": "2021-09-08T20:24:29.585728",
     "status": "completed"
    },
    "tags": []
   },
   "source": [
    "# Original implementation (ARI from sklearn)"
   ]
  },
  {
   "cell_type": "code",
   "execution_count": null,
   "id": "49246e4d-b2cc-41b5-8139-3af8b9794f69",
   "metadata": {},
   "outputs": [],
   "source": [
    "from sklearn.metrics import adjusted_rand_score"
   ]
  },
  {
   "cell_type": "code",
   "execution_count": null,
   "id": "d968d797-969f-4808-a802-e723097c1770",
   "metadata": {},
   "outputs": [],
   "source": [
    "coef.ari = adjusted_rand_score"
   ]
  },
  {
   "cell_type": "code",
   "execution_count": null,
   "id": "c959248e-a451-458f-915e-745c782eb3d0",
   "metadata": {
    "papermill": {
     "duration": 0.012842,
     "end_time": "2021-09-08T20:24:29.613726",
     "exception": false,
     "start_time": "2021-09-08T20:24:29.600884",
     "status": "completed"
    },
    "tags": []
   },
   "outputs": [],
   "source": [
    "def func():\n",
    "    return coef.cm(data, internal_n_clusters=range(2, 10 + 1), precompute_parts=True)"
   ]
  },
  {
   "cell_type": "code",
   "execution_count": null,
   "id": "bb62be43-f64c-44a7-b678-101b029c3644",
   "metadata": {
    "papermill": {
     "duration": 5860.55429,
     "end_time": "2021-09-08T22:02:10.175995",
     "exception": false,
     "start_time": "2021-09-08T20:24:29.621705",
     "status": "completed"
    },
    "tags": []
   },
   "outputs": [],
   "source": [
    "%%timeit func()\n",
    "func()"
   ]
  },
  {
   "cell_type": "code",
   "execution_count": null,
   "id": "3c413e65-c614-4d25-b98b-c2326c38bf6c",
   "metadata": {
    "papermill": {
     "duration": 502.97806,
     "end_time": "2021-09-08T22:10:34.064062",
     "exception": false,
     "start_time": "2021-09-08T22:02:11.086002",
     "status": "completed"
    },
    "tags": []
   },
   "outputs": [],
   "source": [
    "%%prun -s cumulative -l 20 -T 04-cm_ari_sklearn.txt\n",
    "func()"
   ]
  },
  {
   "cell_type": "code",
   "execution_count": null,
   "id": "46815c91-f269-4c02-b90b-d31d1dffde41",
   "metadata": {
    "papermill": {
     "duration": 0.011471,
     "end_time": "2021-09-08T23:40:53.371192",
     "exception": false,
     "start_time": "2021-09-08T23:40:53.359721",
     "status": "completed"
    },
    "tags": []
   },
   "outputs": [],
   "source": []
  }
 ],
 "metadata": {
  "jupytext": {
   "cell_metadata_filter": "all,-execution,-papermill,-trusted",
   "text_representation": {
    "extension": ".py",
    "format_name": "percent",
    "format_version": "1.3",
    "jupytext_version": "1.11.4"
   }
  },
  "kernelspec": {
   "display_name": "Python 3 (ipykernel)",
   "language": "python",
   "name": "python3"
  },
  "language_info": {
   "codemirror_mode": {
    "name": "ipython",
    "version": 3
   },
   "file_extension": ".py",
   "mimetype": "text/x-python",
   "name": "python",
   "nbconvert_exporter": "python",
   "pygments_lexer": "ipython3",
   "version": "3.9.6"
  },
  "papermill": {
   "default_parameters": {},
   "duration": 11785.456215,
   "end_time": "2021-09-08T23:40:53.634898",
   "environment_variables": {},
   "exception": null,
   "input_path": "nbs/04_clustermatch_profiling/05-compare_precomputing_of_parts.ipynb",
   "output_path": "nbs/04_clustermatch_profiling/05-compare_precomputing_of_parts.run.ipynb",
   "parameters": {},
   "start_time": "2021-09-08T20:24:28.178683",
   "version": "2.3.3"
  }
 },
 "nbformat": 4,
 "nbformat_minor": 5
}
