{
 "cells": [
  {
   "cell_type": "markdown",
   "id": "507e9319-381b-4934-987c-2958e7f6ace7",
   "metadata": {
    "tags": []
   },
   "source": [
    "# Description"
   ]
  },
  {
   "cell_type": "markdown",
   "id": "027b493c-76f0-41b9-8e11-962c087cde64",
   "metadata": {},
   "source": [
    "TODO"
   ]
  },
  {
   "cell_type": "markdown",
   "id": "145563a2-3e46-4f62-8191-7444a0b315bb",
   "metadata": {},
   "source": [
    "# Modules"
   ]
  },
  {
   "cell_type": "code",
   "execution_count": null,
   "id": "bea3d48e-8823-403f-90f5-aea8a17b357c",
   "metadata": {},
   "outputs": [],
   "source": [
    "import numpy as np\n",
    "\n",
    "from clustermatch.coef import cm"
   ]
  },
  {
   "cell_type": "markdown",
   "id": "f8399ca8-265e-4e96-b582-54045cb2f9eb",
   "metadata": {},
   "source": [
    "# Data"
   ]
  },
  {
   "cell_type": "code",
   "execution_count": null,
   "id": "a75c4496-d379-4668-905d-0e9136981f0c",
   "metadata": {
    "papermill": {
     "duration": 0.488284,
     "end_time": "2021-09-09T06:46:00.128594",
     "exception": false,
     "start_time": "2021-09-09T06:45:59.640310",
     "status": "completed"
    },
    "tags": []
   },
   "outputs": [],
   "source": [
    "import numpy as np\n",
    "\n",
    "from clustermatch.coef import cm"
   ]
  },
  {
   "cell_type": "code",
   "execution_count": null,
   "id": "2316ffcd-a6e4-453f-bb52-779685c5c5bf",
   "metadata": {
    "papermill": {
     "duration": 0.0101,
     "end_time": "2021-09-09T06:46:00.143947",
     "exception": false,
     "start_time": "2021-09-09T06:46:00.133847",
     "status": "completed"
    },
    "tags": []
   },
   "outputs": [],
   "source": [
    "n_genes, n_samples = 500, 1000"
   ]
  },
  {
   "cell_type": "code",
   "execution_count": null,
   "id": "b2f92fb1-113d-479b-8bbf-2be229e26e8f",
   "metadata": {
    "papermill": {
     "duration": 0.010358,
     "end_time": "2021-09-09T06:46:00.159478",
     "exception": false,
     "start_time": "2021-09-09T06:46:00.149120",
     "status": "completed"
    },
    "tags": []
   },
   "outputs": [],
   "source": [
    "np.random.seed(0)"
   ]
  },
  {
   "cell_type": "code",
   "execution_count": null,
   "id": "63638c0b-b436-48a9-93e0-db2adb939a61",
   "metadata": {
    "papermill": {
     "duration": 0.014094,
     "end_time": "2021-09-09T06:46:00.178975",
     "exception": false,
     "start_time": "2021-09-09T06:46:00.164881",
     "status": "completed"
    },
    "tags": []
   },
   "outputs": [],
   "source": [
    "data = np.random.rand(n_genes, n_samples)"
   ]
  },
  {
   "cell_type": "code",
   "execution_count": null,
   "id": "808017ed-9a8a-4bf7-a3dd-42317a39ce8f",
   "metadata": {
    "papermill": {
     "duration": 0.015432,
     "end_time": "2021-09-09T06:46:00.199689",
     "exception": false,
     "start_time": "2021-09-09T06:46:00.184257",
     "status": "completed"
    },
    "tags": []
   },
   "outputs": [],
   "source": [
    "data.shape"
   ]
  },
  {
   "cell_type": "markdown",
   "id": "716e4219-cad5-453b-8331-47d310689e03",
   "metadata": {
    "papermill": {
     "duration": 0.00656,
     "end_time": "2021-09-09T06:46:00.212232",
     "exception": false,
     "start_time": "2021-09-09T06:46:00.205672",
     "status": "completed"
    },
    "tags": []
   },
   "source": [
    "# Profile"
   ]
  },
  {
   "cell_type": "code",
   "execution_count": null,
   "id": "67807856-f337-4c6e-ae31-cd306577a314",
   "metadata": {
    "papermill": {
     "duration": 0.010657,
     "end_time": "2021-09-09T06:46:00.228553",
     "exception": false,
     "start_time": "2021-09-09T06:46:00.217896",
     "status": "completed"
    },
    "tags": []
   },
   "outputs": [],
   "source": [
    "def func():\n",
    "    n_clust = list(range(2, 10 + 1))\n",
    "    return cm(data, internal_n_clusters=n_clust)"
   ]
  },
  {
   "cell_type": "code",
   "execution_count": null,
   "id": "2965a695-5c0c-4e9e-8435-dcbfa610eb81",
   "metadata": {
    "papermill": {
     "duration": 19914.591787,
     "end_time": "2021-09-09T12:17:54.826036",
     "exception": false,
     "start_time": "2021-09-09T06:46:00.234249",
     "status": "completed"
    },
    "tags": []
   },
   "outputs": [],
   "source": [
    "%%timeit func()\n",
    "func()"
   ]
  },
  {
   "cell_type": "code",
   "execution_count": null,
   "id": "51c7a416-064a-4669-a09f-16f837d32475",
   "metadata": {
    "papermill": {
     "duration": 1263.561177,
     "end_time": "2021-09-09T12:38:58.392805",
     "exception": false,
     "start_time": "2021-09-09T12:17:54.831628",
     "status": "completed"
    },
    "tags": []
   },
   "outputs": [],
   "source": [
    "%%prun -s cumulative -l 50 -T 06-cm_many_genes.txt\n",
    "func()"
   ]
  },
  {
   "cell_type": "code",
   "execution_count": null,
   "id": "e2556204-1c10-4e01-8c6c-ea63ddb37530",
   "metadata": {
    "papermill": {
     "duration": 0.005993,
     "end_time": "2021-09-09T12:38:58.404770",
     "exception": false,
     "start_time": "2021-09-09T12:38:58.398777",
     "status": "completed"
    },
    "tags": []
   },
   "outputs": [],
   "source": []
  }
 ],
 "metadata": {
  "jupytext": {
   "cell_metadata_filter": "all,-execution,-papermill,-trusted",
   "text_representation": {
    "extension": ".py",
    "format_name": "percent",
    "format_version": "1.3",
    "jupytext_version": "1.11.5"
   }
  },
  "kernelspec": {
   "display_name": "Python 3 (ipykernel)",
   "language": "python",
   "name": "python3"
  },
  "language_info": {
   "codemirror_mode": {
    "name": "ipython",
    "version": 3
   },
   "file_extension": ".py",
   "mimetype": "text/x-python",
   "name": "python",
   "nbconvert_exporter": "python",
   "pygments_lexer": "ipython3",
   "version": "3.9.6"
  },
  "papermill": {
   "default_parameters": {},
   "duration": 21180.187543,
   "end_time": "2021-09-09T12:38:58.779719",
   "environment_variables": {},
   "exception": null,
   "input_path": "nbs/04_clustermatch_profiling/06-many_genes.ipynb",
   "output_path": "nbs/04_clustermatch_profiling/06-many_genes.run.ipynb",
   "parameters": {},
   "start_time": "2021-09-09T06:45:58.592176",
   "version": "2.3.3"
  }
 },
 "nbformat": 4,
 "nbformat_minor": 5
}
