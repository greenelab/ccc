{
 "cells": [
  {
   "cell_type": "markdown",
   "id": "fd52facb-2470-4824-83d4-7c9fd042ecfb",
   "metadata": {
    "papermill": {
     "duration": 0.033585,
     "end_time": "2021-09-10T22:57:36.575603",
     "exception": false,
     "start_time": "2021-09-10T22:57:36.542018",
     "status": "completed"
    },
    "tags": []
   },
   "source": [
    "# Description"
   ]
  },
  {
   "cell_type": "markdown",
   "id": "eb211746-d47e-4c32-bfa9-7edd284f8dcf",
   "metadata": {
    "papermill": {
     "duration": 0.009532,
     "end_time": "2021-09-10T22:57:36.600943",
     "exception": false,
     "start_time": "2021-09-10T22:57:36.591411",
     "status": "completed"
    },
    "tags": []
   },
   "source": [
    "TODO"
   ]
  },
  {
   "cell_type": "markdown",
   "id": "35a04385-a901-4726-82a6-a01f16281efe",
   "metadata": {
    "papermill": {
     "duration": 0.006941,
     "end_time": "2021-09-10T22:57:36.615507",
     "exception": false,
     "start_time": "2021-09-10T22:57:36.608566",
     "status": "completed"
    },
    "tags": []
   },
   "source": [
    "# Modules"
   ]
  },
  {
   "cell_type": "code",
   "execution_count": 1,
   "id": "a75c4496-d379-4668-905d-0e9136981f0c",
   "metadata": {
    "execution": {
     "iopub.execute_input": "2021-09-10T22:57:36.636767Z",
     "iopub.status.busy": "2021-09-10T22:57:36.636259Z",
     "iopub.status.idle": "2021-09-10T22:57:36.943124Z",
     "shell.execute_reply": "2021-09-10T22:57:36.942603Z"
    },
    "papermill": {
     "duration": 0.32065,
     "end_time": "2021-09-10T22:57:36.943237",
     "exception": false,
     "start_time": "2021-09-10T22:57:36.622587",
     "status": "completed"
    },
    "tags": []
   },
   "outputs": [],
   "source": [
    "import numpy as np\n",
    "\n",
    "from clustermatch.coef import cm"
   ]
  },
  {
   "cell_type": "markdown",
   "id": "2c92a1ad-2fc9-4a16-a5f8-fce685246996",
   "metadata": {
    "papermill": {
     "duration": 0.008221,
     "end_time": "2021-09-10T22:57:36.959406",
     "exception": false,
     "start_time": "2021-09-10T22:57:36.951185",
     "status": "completed"
    },
    "tags": []
   },
   "source": [
    "# Data"
   ]
  },
  {
   "cell_type": "code",
   "execution_count": 2,
   "id": "2316ffcd-a6e4-453f-bb52-779685c5c5bf",
   "metadata": {
    "execution": {
     "iopub.execute_input": "2021-09-10T22:57:36.977855Z",
     "iopub.status.busy": "2021-09-10T22:57:36.977395Z",
     "iopub.status.idle": "2021-09-10T22:57:36.979342Z",
     "shell.execute_reply": "2021-09-10T22:57:36.978974Z"
    },
    "papermill": {
     "duration": 0.012569,
     "end_time": "2021-09-10T22:57:36.979441",
     "exception": false,
     "start_time": "2021-09-10T22:57:36.966872",
     "status": "completed"
    },
    "tags": []
   },
   "outputs": [],
   "source": [
    "n_genes, n_samples = 10, 30000"
   ]
  },
  {
   "cell_type": "code",
   "execution_count": 3,
   "id": "b2f92fb1-113d-479b-8bbf-2be229e26e8f",
   "metadata": {
    "execution": {
     "iopub.execute_input": "2021-09-10T22:57:36.998268Z",
     "iopub.status.busy": "2021-09-10T22:57:36.997814Z",
     "iopub.status.idle": "2021-09-10T22:57:36.999713Z",
     "shell.execute_reply": "2021-09-10T22:57:36.999325Z"
    },
    "papermill": {
     "duration": 0.012436,
     "end_time": "2021-09-10T22:57:36.999809",
     "exception": false,
     "start_time": "2021-09-10T22:57:36.987373",
     "status": "completed"
    },
    "tags": []
   },
   "outputs": [],
   "source": [
    "np.random.seed(0)"
   ]
  },
  {
   "cell_type": "code",
   "execution_count": 4,
   "id": "63638c0b-b436-48a9-93e0-db2adb939a61",
   "metadata": {
    "execution": {
     "iopub.execute_input": "2021-09-10T22:57:37.018509Z",
     "iopub.status.busy": "2021-09-10T22:57:37.018053Z",
     "iopub.status.idle": "2021-09-10T22:57:37.023064Z",
     "shell.execute_reply": "2021-09-10T22:57:37.022687Z"
    },
    "papermill": {
     "duration": 0.015381,
     "end_time": "2021-09-10T22:57:37.023163",
     "exception": false,
     "start_time": "2021-09-10T22:57:37.007782",
     "status": "completed"
    },
    "tags": []
   },
   "outputs": [],
   "source": [
    "data = np.random.rand(n_genes, n_samples)"
   ]
  },
  {
   "cell_type": "code",
   "execution_count": 5,
   "id": "808017ed-9a8a-4bf7-a3dd-42317a39ce8f",
   "metadata": {
    "execution": {
     "iopub.execute_input": "2021-09-10T22:57:37.047162Z",
     "iopub.status.busy": "2021-09-10T22:57:37.046658Z",
     "iopub.status.idle": "2021-09-10T22:57:37.048950Z",
     "shell.execute_reply": "2021-09-10T22:57:37.049300Z"
    },
    "papermill": {
     "duration": 0.018335,
     "end_time": "2021-09-10T22:57:37.049422",
     "exception": false,
     "start_time": "2021-09-10T22:57:37.031087",
     "status": "completed"
    },
    "tags": []
   },
   "outputs": [
    {
     "data": {
      "text/plain": [
       "(10, 30000)"
      ]
     },
     "execution_count": 5,
     "metadata": {},
     "output_type": "execute_result"
    }
   ],
   "source": [
    "data.shape"
   ]
  },
  {
   "cell_type": "markdown",
   "id": "716e4219-cad5-453b-8331-47d310689e03",
   "metadata": {
    "papermill": {
     "duration": 0.008236,
     "end_time": "2021-09-10T22:57:37.066347",
     "exception": false,
     "start_time": "2021-09-10T22:57:37.058111",
     "status": "completed"
    },
    "tags": []
   },
   "source": [
    "# With default `internal_n_clusters`"
   ]
  },
  {
   "cell_type": "code",
   "execution_count": 6,
   "id": "67807856-f337-4c6e-ae31-cd306577a314",
   "metadata": {
    "execution": {
     "iopub.execute_input": "2021-09-10T22:57:37.086571Z",
     "iopub.status.busy": "2021-09-10T22:57:37.086131Z",
     "iopub.status.idle": "2021-09-10T22:57:37.088427Z",
     "shell.execute_reply": "2021-09-10T22:57:37.087898Z"
    },
    "papermill": {
     "duration": 0.013851,
     "end_time": "2021-09-10T22:57:37.088562",
     "exception": false,
     "start_time": "2021-09-10T22:57:37.074711",
     "status": "completed"
    },
    "tags": []
   },
   "outputs": [],
   "source": [
    "def func():\n",
    "    n_clust = list(range(2, 10 + 1))\n",
    "    return cm(data, internal_n_clusters=n_clust)"
   ]
  },
  {
   "cell_type": "code",
   "execution_count": 7,
   "id": "2965a695-5c0c-4e9e-8435-dcbfa610eb81",
   "metadata": {
    "execution": {
     "iopub.execute_input": "2021-09-10T22:57:37.108828Z",
     "iopub.status.busy": "2021-09-10T22:57:37.108357Z",
     "iopub.status.idle": "2021-09-10T23:00:29.400299Z",
     "shell.execute_reply": "2021-09-10T23:00:29.400650Z"
    },
    "papermill": {
     "duration": 172.304018,
     "end_time": "2021-09-10T23:00:29.400764",
     "exception": false,
     "start_time": "2021-09-10T22:57:37.096746",
     "status": "completed"
    },
    "tags": []
   },
   "outputs": [
    {
     "name": "stdout",
     "output_type": "stream",
     "text": [
      "10.8 s ± 25.5 ms per loop (mean ± std. dev. of 7 runs, 1 loop each)\n"
     ]
    }
   ],
   "source": [
    "%%timeit func()\n",
    "func()"
   ]
  },
  {
   "cell_type": "code",
   "execution_count": 8,
   "id": "51c7a416-064a-4669-a09f-16f837d32475",
   "metadata": {
    "execution": {
     "iopub.execute_input": "2021-09-10T23:00:41.174231Z",
     "iopub.status.busy": "2021-09-10T23:00:30.326474Z",
     "iopub.status.idle": "2021-09-10T23:00:41.177167Z",
     "shell.execute_reply": "2021-09-10T23:00:41.176723Z"
    },
    "papermill": {
     "duration": 10.865236,
     "end_time": "2021-09-10T23:00:41.177263",
     "exception": false,
     "start_time": "2021-09-10T23:00:30.312027",
     "status": "completed"
    },
    "tags": []
   },
   "outputs": [
    {
     "name": "stdout",
     "output_type": "stream",
     "text": [
      " \n",
      "*** Profile printout saved to text file '07-cm_many_samples-default_internal_n_clusters.txt'. \n"
     ]
    }
   ],
   "source": [
    "%%prun -s cumulative -l 50 -T 07-cm_many_samples-default_internal_n_clusters.txt\n",
    "func()"
   ]
  },
  {
   "cell_type": "markdown",
   "id": "025974ff-06d4-4d82-9b05-03f7a84d7211",
   "metadata": {
    "papermill": {
     "duration": 0.008824,
     "end_time": "2021-09-10T23:00:41.194715",
     "exception": false,
     "start_time": "2021-09-10T23:00:41.185891",
     "status": "completed"
    },
    "tags": []
   },
   "source": [
    "# With reduced `internal_n_clusters`"
   ]
  },
  {
   "cell_type": "code",
   "execution_count": 9,
   "id": "c20c4ecf-8060-495e-92b0-eb8e0d0dfbf3",
   "metadata": {
    "execution": {
     "iopub.execute_input": "2021-09-10T23:00:41.215460Z",
     "iopub.status.busy": "2021-09-10T23:00:41.215019Z",
     "iopub.status.idle": "2021-09-10T23:00:41.217373Z",
     "shell.execute_reply": "2021-09-10T23:00:41.216935Z"
    },
    "papermill": {
     "duration": 0.014153,
     "end_time": "2021-09-10T23:00:41.217466",
     "exception": false,
     "start_time": "2021-09-10T23:00:41.203313",
     "status": "completed"
    },
    "tags": []
   },
   "outputs": [],
   "source": [
    "def func():\n",
    "    n_clust = list(range(2, 5 + 1))\n",
    "    return cm(data, internal_n_clusters=n_clust)"
   ]
  },
  {
   "cell_type": "code",
   "execution_count": 10,
   "id": "11259d8c-3bf3-4299-b47b-211556c3bc08",
   "metadata": {
    "execution": {
     "iopub.execute_input": "2021-09-10T23:00:52.623946Z",
     "iopub.status.busy": "2021-09-10T23:00:52.623431Z",
     "iopub.status.idle": "2021-09-10T23:01:11.431006Z",
     "shell.execute_reply": "2021-09-10T23:01:11.431355Z"
    },
    "papermill": {
     "duration": 30.2052,
     "end_time": "2021-09-10T23:01:11.431469",
     "exception": false,
     "start_time": "2021-09-10T23:00:41.226269",
     "status": "completed"
    },
    "tags": []
   },
   "outputs": [
    {
     "name": "stdout",
     "output_type": "stream",
     "text": [
      "1.89 s ± 10 ms per loop (mean ± std. dev. of 7 runs, 1 loop each)\n"
     ]
    }
   ],
   "source": [
    "%%timeit func()\n",
    "func()"
   ]
  },
  {
   "cell_type": "code",
   "execution_count": 11,
   "id": "42d9e6e0-3c01-46e1-a409-52ff26cb78f4",
   "metadata": {
    "execution": {
     "iopub.execute_input": "2021-09-10T23:01:13.366237Z",
     "iopub.status.busy": "2021-09-10T23:01:13.365652Z",
     "iopub.status.idle": "2021-09-10T23:01:13.368827Z",
     "shell.execute_reply": "2021-09-10T23:01:13.368352Z"
    },
    "papermill": {
     "duration": 1.928286,
     "end_time": "2021-09-10T23:01:13.368928",
     "exception": false,
     "start_time": "2021-09-10T23:01:11.440642",
     "status": "completed"
    },
    "tags": []
   },
   "outputs": [
    {
     "name": "stdout",
     "output_type": "stream",
     "text": [
      " \n",
      "*** Profile printout saved to text file '07-cm_many_samples-less_internal_n_clusters.txt'. \n"
     ]
    }
   ],
   "source": [
    "%%prun -s cumulative -l 50 -T 07-cm_many_samples-less_internal_n_clusters.txt\n",
    "func()"
   ]
  },
  {
   "cell_type": "code",
   "execution_count": null,
   "id": "e2556204-1c10-4e01-8c6c-ea63ddb37530",
   "metadata": {
    "papermill": {
     "duration": 0.009409,
     "end_time": "2021-09-10T23:01:13.388346",
     "exception": false,
     "start_time": "2021-09-10T23:01:13.378937",
     "status": "completed"
    },
    "tags": []
   },
   "outputs": [],
   "source": []
  }
 ],
 "metadata": {
  "jupytext": {
   "cell_metadata_filter": "all,-execution,-papermill,-trusted"
  },
  "kernelspec": {
   "display_name": "Python 3 (ipykernel)",
   "language": "python",
   "name": "python3"
  },
  "language_info": {
   "codemirror_mode": {
    "name": "ipython",
    "version": 3
   },
   "file_extension": ".py",
   "mimetype": "text/x-python",
   "name": "python",
   "nbconvert_exporter": "python",
   "pygments_lexer": "ipython3",
   "version": "3.9.7"
  },
  "papermill": {
   "default_parameters": {},
   "duration": 218.227654,
   "end_time": "2021-09-10T23:01:13.707814",
   "environment_variables": {},
   "exception": null,
   "input_path": "nbs/99_clustermatch_profiling/06_cm_optimized1/07-many_samples.ipynb",
   "output_path": "nbs/99_clustermatch_profiling/06_cm_optimized1/07-many_samples.run.ipynb",
   "parameters": {},
   "start_time": "2021-09-10T22:57:35.480160",
   "version": "2.3.3"
  }
 },
 "nbformat": 4,
 "nbformat_minor": 5
}
