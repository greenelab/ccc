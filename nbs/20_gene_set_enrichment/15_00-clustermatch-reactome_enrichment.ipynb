{
 "cells": [
  {
   "cell_type": "markdown",
   "id": "valued-addiction",
   "metadata": {
    "papermill": {
     "duration": 0.01373,
     "end_time": "2021-03-02T14:35:32.461863",
     "exception": false,
     "start_time": "2021-03-02T14:35:32.448133",
     "status": "completed"
    },
    "tags": []
   },
   "source": [
    "# Modules loading"
   ]
  },
  {
   "cell_type": "code",
   "execution_count": 1,
   "id": "incorporate-cigarette",
   "metadata": {
    "execution": {
     "iopub.execute_input": "2021-03-02T14:35:32.488007Z",
     "iopub.status.busy": "2021-03-02T14:35:32.487642Z",
     "iopub.status.idle": "2021-03-02T14:35:32.495496Z",
     "shell.execute_reply": "2021-03-02T14:35:32.495118Z"
    },
    "papermill": {
     "duration": 0.022987,
     "end_time": "2021-03-02T14:35:32.495590",
     "exception": false,
     "start_time": "2021-03-02T14:35:32.472603",
     "status": "completed"
    },
    "tags": []
   },
   "outputs": [],
   "source": [
    "%load_ext autoreload\n",
    "%autoreload 2"
   ]
  },
  {
   "cell_type": "code",
   "execution_count": 2,
   "id": "supposed-avenue",
   "metadata": {
    "execution": {
     "iopub.execute_input": "2021-03-02T14:35:32.529599Z",
     "iopub.status.busy": "2021-03-02T14:35:32.529176Z",
     "iopub.status.idle": "2021-03-02T14:35:32.696519Z",
     "shell.execute_reply": "2021-03-02T14:35:32.696859Z"
    },
    "papermill": {
     "duration": 0.19085,
     "end_time": "2021-03-02T14:35:32.696967",
     "exception": false,
     "start_time": "2021-03-02T14:35:32.506117",
     "status": "completed"
    },
    "tags": []
   },
   "outputs": [],
   "source": [
    "from pathlib import Path\n",
    "\n",
    "import pandas as pd"
   ]
  },
  {
   "cell_type": "markdown",
   "id": "certified-motion",
   "metadata": {
    "papermill": {
     "duration": 0.009693,
     "end_time": "2021-03-02T14:35:32.716909",
     "exception": false,
     "start_time": "2021-03-02T14:35:32.707216",
     "status": "completed"
    },
    "tags": []
   },
   "source": [
    "# Settings"
   ]
  },
  {
   "cell_type": "code",
   "execution_count": 3,
   "id": "pleased-healthcare",
   "metadata": {
    "execution": {
     "iopub.execute_input": "2021-03-02T14:35:32.738749Z",
     "iopub.status.busy": "2021-03-02T14:35:32.738348Z",
     "iopub.status.idle": "2021-03-02T14:35:32.745449Z",
     "shell.execute_reply": "2021-03-02T14:35:32.745132Z"
    },
    "papermill": {
     "duration": 0.018967,
     "end_time": "2021-03-02T14:35:32.745534",
     "exception": false,
     "start_time": "2021-03-02T14:35:32.726567",
     "status": "completed"
    },
    "tags": []
   },
   "outputs": [],
   "source": [
    "METHOD = \"clustermatch\"\n",
    "METHOD_SHORT = \"cm\""
   ]
  },
  {
   "cell_type": "code",
   "execution_count": 4,
   "id": "graphic-helena",
   "metadata": {
    "execution": {
     "iopub.execute_input": "2021-03-02T14:35:32.768435Z",
     "iopub.status.busy": "2021-03-02T14:35:32.768071Z",
     "iopub.status.idle": "2021-03-02T14:35:32.779665Z",
     "shell.execute_reply": "2021-03-02T14:35:32.779360Z"
    },
    "papermill": {
     "duration": 0.023782,
     "end_time": "2021-03-02T14:35:32.779756",
     "exception": false,
     "start_time": "2021-03-02T14:35:32.755974",
     "status": "completed"
    },
    "tags": []
   },
   "outputs": [
    {
     "data": {
      "text/plain": [
       "PosixPath('/home/miltondp/projects/labs/greenelab/cm_gene_expression/base')"
      ]
     },
     "metadata": {},
     "output_type": "display_data"
    }
   ],
   "source": [
    "# BASE_FOLDER = Path(\"..\", \"base\").resolve()\n",
    "BASE_FOLDER = Path(\"base\").resolve()\n",
    "\n",
    "assert BASE_FOLDER.exists()\n",
    "\n",
    "display(BASE_FOLDER)"
   ]
  },
  {
   "cell_type": "code",
   "execution_count": 5,
   "id": "fifth-evolution",
   "metadata": {
    "execution": {
     "iopub.execute_input": "2021-03-02T14:35:32.804000Z",
     "iopub.status.busy": "2021-03-02T14:35:32.803626Z",
     "iopub.status.idle": "2021-03-02T14:35:32.811590Z",
     "shell.execute_reply": "2021-03-02T14:35:32.811212Z"
    },
    "papermill": {
     "duration": 0.020767,
     "end_time": "2021-03-02T14:35:32.811677",
     "exception": false,
     "start_time": "2021-03-02T14:35:32.790910",
     "status": "completed"
    },
    "tags": []
   },
   "outputs": [
    {
     "data": {
      "text/plain": [
       "PosixPath('/home/miltondp/projects/labs/greenelab/cm_gene_expression/base/results/clustermatch/enrichPathway')"
      ]
     },
     "metadata": {},
     "output_type": "display_data"
    }
   ],
   "source": [
    "OUTPUT_DIR = Path(BASE_FOLDER, \"results\", METHOD, \"enrichPathway\").resolve()\n",
    "display(OUTPUT_DIR)\n",
    "\n",
    "OUTPUT_DIR.mkdir(exist_ok=True)"
   ]
  },
  {
   "cell_type": "markdown",
   "id": "distinguished-intersection",
   "metadata": {
    "papermill": {
     "duration": 0.010249,
     "end_time": "2021-03-02T14:35:32.833217",
     "exception": false,
     "start_time": "2021-03-02T14:35:32.822968",
     "status": "completed"
    },
    "tags": []
   },
   "source": [
    "# Load correlations"
   ]
  },
  {
   "cell_type": "code",
   "execution_count": 6,
   "id": "straight-apple",
   "metadata": {
    "execution": {
     "iopub.execute_input": "2021-03-02T14:35:32.856889Z",
     "iopub.status.busy": "2021-03-02T14:35:32.856494Z",
     "iopub.status.idle": "2021-03-02T14:35:32.865380Z",
     "shell.execute_reply": "2021-03-02T14:35:32.865011Z"
    },
    "papermill": {
     "duration": 0.02201,
     "end_time": "2021-03-02T14:35:32.865463",
     "exception": false,
     "start_time": "2021-03-02T14:35:32.843453",
     "status": "completed"
    },
    "tags": []
   },
   "outputs": [
    {
     "data": {
      "text/plain": [
       "PosixPath('/home/miltondp/projects/labs/greenelab/cm_gene_expression/base/results/sim_mat/wb_data_gene_cm.pkl')"
      ]
     },
     "metadata": {},
     "output_type": "display_data"
    },
    {
     "data": {
      "text/plain": [
       "'wb_data_gene_cm'"
      ]
     },
     "metadata": {},
     "output_type": "display_data"
    }
   ],
   "source": [
    "input_filepath = Path(\n",
    "    BASE_FOLDER,\n",
    "    \"results\",\n",
    "    \"sim_mat\",\n",
    "    f\"wb_data_gene_{METHOD_SHORT}.pkl\",\n",
    ").resolve()\n",
    "display(input_filepath)\n",
    "\n",
    "assert input_filepath.exists(), \"Input file does not exist\"\n",
    "\n",
    "input_filepath_stem = input_filepath.stem\n",
    "display(input_filepath_stem)"
   ]
  },
  {
   "cell_type": "code",
   "execution_count": 7,
   "id": "checked-marking",
   "metadata": {
    "execution": {
     "iopub.execute_input": "2021-03-02T14:35:32.890777Z",
     "iopub.status.busy": "2021-03-02T14:35:32.890411Z",
     "iopub.status.idle": "2021-03-02T14:35:33.092715Z",
     "shell.execute_reply": "2021-03-02T14:35:33.092314Z"
    },
    "papermill": {
     "duration": 0.215735,
     "end_time": "2021-03-02T14:35:33.092817",
     "exception": false,
     "start_time": "2021-03-02T14:35:32.877082",
     "status": "completed"
    },
    "tags": []
   },
   "outputs": [],
   "source": [
    "sim_matrix = pd.read_pickle(input_filepath)"
   ]
  },
  {
   "cell_type": "code",
   "execution_count": 8,
   "id": "amateur-heavy",
   "metadata": {
    "execution": {
     "iopub.execute_input": "2021-03-02T14:35:33.120411Z",
     "iopub.status.busy": "2021-03-02T14:35:33.120022Z",
     "iopub.status.idle": "2021-03-02T14:35:33.127923Z",
     "shell.execute_reply": "2021-03-02T14:35:33.128217Z"
    },
    "papermill": {
     "duration": 0.022355,
     "end_time": "2021-03-02T14:35:33.128325",
     "exception": false,
     "start_time": "2021-03-02T14:35:33.105970",
     "status": "completed"
    },
    "tags": []
   },
   "outputs": [
    {
     "data": {
      "text/plain": [
       "(5000, 5000)"
      ]
     },
     "execution_count": 8,
     "metadata": {},
     "output_type": "execute_result"
    }
   ],
   "source": [
    "sim_matrix.shape"
   ]
  },
  {
   "cell_type": "code",
   "execution_count": 9,
   "id": "disturbed-substance",
   "metadata": {
    "execution": {
     "iopub.execute_input": "2021-03-02T14:35:33.154453Z",
     "iopub.status.busy": "2021-03-02T14:35:33.154097Z",
     "iopub.status.idle": "2021-03-02T14:35:33.176126Z",
     "shell.execute_reply": "2021-03-02T14:35:33.175757Z"
    },
    "papermill": {
     "duration": 0.035558,
     "end_time": "2021-03-02T14:35:33.176210",
     "exception": false,
     "start_time": "2021-03-02T14:35:33.140652",
     "status": "completed"
    },
    "tags": []
   },
   "outputs": [
    {
     "data": {
      "text/html": [
       "<div>\n",
       "<style scoped>\n",
       "    .dataframe tbody tr th:only-of-type {\n",
       "        vertical-align: middle;\n",
       "    }\n",
       "\n",
       "    .dataframe tbody tr th {\n",
       "        vertical-align: top;\n",
       "    }\n",
       "\n",
       "    .dataframe thead th {\n",
       "        text-align: right;\n",
       "    }\n",
       "</style>\n",
       "<table border=\"1\" class=\"dataframe\">\n",
       "  <thead>\n",
       "    <tr style=\"text-align: right;\">\n",
       "      <th></th>\n",
       "      <th>ENSG00000244734.3</th>\n",
       "      <th>ENSG00000188536.12</th>\n",
       "      <th>ENSG00000163220.10</th>\n",
       "      <th>ENSG00000206172.8</th>\n",
       "      <th>ENSG00000223609.7</th>\n",
       "      <th>ENSG00000143546.9</th>\n",
       "      <th>ENSG00000087086.14</th>\n",
       "      <th>ENSG00000185201.16</th>\n",
       "      <th>ENSG00000163221.8</th>\n",
       "      <th>ENSG00000234745.10</th>\n",
       "      <th>...</th>\n",
       "      <th>ENSG00000183431.11</th>\n",
       "      <th>ENSG00000119707.13</th>\n",
       "      <th>ENSG00000147649.9</th>\n",
       "      <th>ENSG00000164305.18</th>\n",
       "      <th>ENSG00000267074.1</th>\n",
       "      <th>ENSG00000130517.13</th>\n",
       "      <th>ENSG00000138674.16</th>\n",
       "      <th>ENSG00000065911.11</th>\n",
       "      <th>ENSG00000163297.16</th>\n",
       "      <th>ENSG00000259865.1</th>\n",
       "    </tr>\n",
       "  </thead>\n",
       "  <tbody>\n",
       "    <tr>\n",
       "      <th>ENSG00000244734.3</th>\n",
       "      <td>1.000000</td>\n",
       "      <td>0.362340</td>\n",
       "      <td>0.141355</td>\n",
       "      <td>0.471842</td>\n",
       "      <td>0.579461</td>\n",
       "      <td>0.090792</td>\n",
       "      <td>0.145388</td>\n",
       "      <td>0.202936</td>\n",
       "      <td>0.118336</td>\n",
       "      <td>0.334136</td>\n",
       "      <td>...</td>\n",
       "      <td>0.207756</td>\n",
       "      <td>0.207756</td>\n",
       "      <td>0.207756</td>\n",
       "      <td>0.227599</td>\n",
       "      <td>0.030597</td>\n",
       "      <td>0.179678</td>\n",
       "      <td>0.097727</td>\n",
       "      <td>0.125784</td>\n",
       "      <td>0.275534</td>\n",
       "      <td>0.157825</td>\n",
       "    </tr>\n",
       "    <tr>\n",
       "      <th>ENSG00000188536.12</th>\n",
       "      <td>0.362340</td>\n",
       "      <td>1.000000</td>\n",
       "      <td>0.206590</td>\n",
       "      <td>0.486542</td>\n",
       "      <td>0.312986</td>\n",
       "      <td>0.170768</td>\n",
       "      <td>0.081390</td>\n",
       "      <td>0.184217</td>\n",
       "      <td>0.188812</td>\n",
       "      <td>0.154353</td>\n",
       "      <td>...</td>\n",
       "      <td>0.145388</td>\n",
       "      <td>0.145388</td>\n",
       "      <td>0.217565</td>\n",
       "      <td>0.340305</td>\n",
       "      <td>0.009142</td>\n",
       "      <td>0.066845</td>\n",
       "      <td>0.026119</td>\n",
       "      <td>0.153623</td>\n",
       "      <td>0.292524</td>\n",
       "      <td>0.170768</td>\n",
       "    </tr>\n",
       "    <tr>\n",
       "      <th>ENSG00000163220.10</th>\n",
       "      <td>0.141355</td>\n",
       "      <td>0.206590</td>\n",
       "      <td>1.000000</td>\n",
       "      <td>0.181851</td>\n",
       "      <td>0.133457</td>\n",
       "      <td>0.620566</td>\n",
       "      <td>0.063550</td>\n",
       "      <td>0.415292</td>\n",
       "      <td>0.706993</td>\n",
       "      <td>0.035855</td>\n",
       "      <td>...</td>\n",
       "      <td>0.019123</td>\n",
       "      <td>0.022696</td>\n",
       "      <td>0.038725</td>\n",
       "      <td>0.139359</td>\n",
       "      <td>0.104114</td>\n",
       "      <td>0.014602</td>\n",
       "      <td>0.045561</td>\n",
       "      <td>0.020572</td>\n",
       "      <td>0.324987</td>\n",
       "      <td>0.026507</td>\n",
       "    </tr>\n",
       "    <tr>\n",
       "      <th>ENSG00000206172.8</th>\n",
       "      <td>0.471842</td>\n",
       "      <td>0.486542</td>\n",
       "      <td>0.181851</td>\n",
       "      <td>1.000000</td>\n",
       "      <td>0.318958</td>\n",
       "      <td>0.141355</td>\n",
       "      <td>0.114696</td>\n",
       "      <td>0.198172</td>\n",
       "      <td>0.141355</td>\n",
       "      <td>0.202936</td>\n",
       "      <td>...</td>\n",
       "      <td>0.166398</td>\n",
       "      <td>0.207756</td>\n",
       "      <td>0.232700</td>\n",
       "      <td>0.340305</td>\n",
       "      <td>0.018857</td>\n",
       "      <td>0.125784</td>\n",
       "      <td>0.048843</td>\n",
       "      <td>0.166398</td>\n",
       "      <td>0.275534</td>\n",
       "      <td>0.193464</td>\n",
       "    </tr>\n",
       "    <tr>\n",
       "      <th>ENSG00000223609.7</th>\n",
       "      <td>0.579461</td>\n",
       "      <td>0.312986</td>\n",
       "      <td>0.133457</td>\n",
       "      <td>0.318958</td>\n",
       "      <td>1.000000</td>\n",
       "      <td>0.077353</td>\n",
       "      <td>0.100699</td>\n",
       "      <td>0.184217</td>\n",
       "      <td>0.111113</td>\n",
       "      <td>0.281141</td>\n",
       "      <td>...</td>\n",
       "      <td>0.179678</td>\n",
       "      <td>0.198172</td>\n",
       "      <td>0.170768</td>\n",
       "      <td>0.188812</td>\n",
       "      <td>0.017030</td>\n",
       "      <td>0.166398</td>\n",
       "      <td>0.087602</td>\n",
       "      <td>0.100699</td>\n",
       "      <td>0.264488</td>\n",
       "      <td>0.129593</td>\n",
       "    </tr>\n",
       "  </tbody>\n",
       "</table>\n",
       "<p>5 rows × 5000 columns</p>\n",
       "</div>"
      ],
      "text/plain": [
       "                    ENSG00000244734.3  ENSG00000188536.12  ENSG00000163220.10  \\\n",
       "ENSG00000244734.3            1.000000            0.362340            0.141355   \n",
       "ENSG00000188536.12           0.362340            1.000000            0.206590   \n",
       "ENSG00000163220.10           0.141355            0.206590            1.000000   \n",
       "ENSG00000206172.8            0.471842            0.486542            0.181851   \n",
       "ENSG00000223609.7            0.579461            0.312986            0.133457   \n",
       "\n",
       "                    ENSG00000206172.8  ENSG00000223609.7  ENSG00000143546.9  \\\n",
       "ENSG00000244734.3            0.471842           0.579461           0.090792   \n",
       "ENSG00000188536.12           0.486542           0.312986           0.170768   \n",
       "ENSG00000163220.10           0.181851           0.133457           0.620566   \n",
       "ENSG00000206172.8            1.000000           0.318958           0.141355   \n",
       "ENSG00000223609.7            0.318958           1.000000           0.077353   \n",
       "\n",
       "                    ENSG00000087086.14  ENSG00000185201.16  ENSG00000163221.8  \\\n",
       "ENSG00000244734.3             0.145388            0.202936           0.118336   \n",
       "ENSG00000188536.12            0.081390            0.184217           0.188812   \n",
       "ENSG00000163220.10            0.063550            0.415292           0.706993   \n",
       "ENSG00000206172.8             0.114696            0.198172           0.141355   \n",
       "ENSG00000223609.7             0.100699            0.184217           0.111113   \n",
       "\n",
       "                    ENSG00000234745.10  ...  ENSG00000183431.11  \\\n",
       "ENSG00000244734.3             0.334136  ...            0.207756   \n",
       "ENSG00000188536.12            0.154353  ...            0.145388   \n",
       "ENSG00000163220.10            0.035855  ...            0.019123   \n",
       "ENSG00000206172.8             0.202936  ...            0.166398   \n",
       "ENSG00000223609.7             0.281141  ...            0.179678   \n",
       "\n",
       "                    ENSG00000119707.13  ENSG00000147649.9  ENSG00000164305.18  \\\n",
       "ENSG00000244734.3             0.207756           0.207756            0.227599   \n",
       "ENSG00000188536.12            0.145388           0.217565            0.340305   \n",
       "ENSG00000163220.10            0.022696           0.038725            0.139359   \n",
       "ENSG00000206172.8             0.207756           0.232700            0.340305   \n",
       "ENSG00000223609.7             0.198172           0.170768            0.188812   \n",
       "\n",
       "                    ENSG00000267074.1  ENSG00000130517.13  ENSG00000138674.16  \\\n",
       "ENSG00000244734.3            0.030597            0.179678            0.097727   \n",
       "ENSG00000188536.12           0.009142            0.066845            0.026119   \n",
       "ENSG00000163220.10           0.104114            0.014602            0.045561   \n",
       "ENSG00000206172.8            0.018857            0.125784            0.048843   \n",
       "ENSG00000223609.7            0.017030            0.166398            0.087602   \n",
       "\n",
       "                    ENSG00000065911.11  ENSG00000163297.16  ENSG00000259865.1  \n",
       "ENSG00000244734.3             0.125784            0.275534           0.157825  \n",
       "ENSG00000188536.12            0.153623            0.292524           0.170768  \n",
       "ENSG00000163220.10            0.020572            0.324987           0.026507  \n",
       "ENSG00000206172.8             0.166398            0.275534           0.193464  \n",
       "ENSG00000223609.7             0.100699            0.264488           0.129593  \n",
       "\n",
       "[5 rows x 5000 columns]"
      ]
     },
     "execution_count": 9,
     "metadata": {},
     "output_type": "execute_result"
    }
   ],
   "source": [
    "sim_matrix.head()"
   ]
  },
  {
   "cell_type": "markdown",
   "id": "removable-company",
   "metadata": {
    "papermill": {
     "duration": 0.01155,
     "end_time": "2021-03-02T14:35:33.199944",
     "exception": false,
     "start_time": "2021-03-02T14:35:33.188394",
     "status": "completed"
    },
    "tags": []
   },
   "source": [
    "# Load clustering results"
   ]
  },
  {
   "cell_type": "code",
   "execution_count": 10,
   "id": "authentic-price",
   "metadata": {
    "execution": {
     "iopub.execute_input": "2021-03-02T14:35:33.225624Z",
     "iopub.status.busy": "2021-03-02T14:35:33.225260Z",
     "iopub.status.idle": "2021-03-02T14:35:33.233296Z",
     "shell.execute_reply": "2021-03-02T14:35:33.232969Z"
    },
    "papermill": {
     "duration": 0.021832,
     "end_time": "2021-03-02T14:35:33.233376",
     "exception": false,
     "start_time": "2021-03-02T14:35:33.211544",
     "status": "completed"
    },
    "tags": []
   },
   "outputs": [
    {
     "data": {
      "text/plain": [
       "PosixPath('/home/miltondp/projects/labs/greenelab/cm_gene_expression/base/results')"
      ]
     },
     "metadata": {},
     "output_type": "display_data"
    }
   ],
   "source": [
    "ensemble_folder = Path(\n",
    "    BASE_FOLDER,\n",
    "    \"results\",\n",
    ").resolve()\n",
    "display(ensemble_folder)\n",
    "\n",
    "# ensemble_folder.mkdir(parents=True, exist_ok=True)"
   ]
  },
  {
   "cell_type": "code",
   "execution_count": 11,
   "id": "covered-apple",
   "metadata": {
    "execution": {
     "iopub.execute_input": "2021-03-02T14:35:33.260116Z",
     "iopub.status.busy": "2021-03-02T14:35:33.259760Z",
     "iopub.status.idle": "2021-03-02T14:35:33.267588Z",
     "shell.execute_reply": "2021-03-02T14:35:33.267878Z"
    },
    "papermill": {
     "duration": 0.022427,
     "end_time": "2021-03-02T14:35:33.267976",
     "exception": false,
     "start_time": "2021-03-02T14:35:33.245549",
     "status": "completed"
    },
    "tags": []
   },
   "outputs": [
    {
     "data": {
      "text/plain": [
       "PosixPath('/home/miltondp/projects/labs/greenelab/cm_gene_expression/base/results/clustermatch/ensemble-DELTA_025-KMEANS_N_INIT_50-K_RANGE_2_5_10_15_20_25_30_35_40_45_50_55_60_65_70_75_80_90_95_100_200.pkl')"
      ]
     },
     "metadata": {},
     "output_type": "display_data"
    }
   ],
   "source": [
    "input_filepath = Path(\n",
    "    ensemble_folder,\n",
    "    METHOD,\n",
    "    \"ensemble-DELTA_025-KMEANS_N_INIT_50-K_RANGE_2_5_10_15_20_25_30_35_40_45_50_55_60_65_70_75_80_90_95_100_200.pkl\",\n",
    ").resolve()\n",
    "display(input_filepath)"
   ]
  },
  {
   "cell_type": "code",
   "execution_count": 12,
   "id": "answering-optimum",
   "metadata": {
    "execution": {
     "iopub.execute_input": "2021-03-02T14:35:33.294919Z",
     "iopub.status.busy": "2021-03-02T14:35:33.294555Z",
     "iopub.status.idle": "2021-03-02T14:35:33.302714Z",
     "shell.execute_reply": "2021-03-02T14:35:33.302399Z"
    },
    "papermill": {
     "duration": 0.02253,
     "end_time": "2021-03-02T14:35:33.302796",
     "exception": false,
     "start_time": "2021-03-02T14:35:33.280266",
     "status": "completed"
    },
    "tags": []
   },
   "outputs": [],
   "source": [
    "cm_results = pd.read_pickle(input_filepath)"
   ]
  },
  {
   "cell_type": "code",
   "execution_count": 13,
   "id": "dominican-component",
   "metadata": {
    "execution": {
     "iopub.execute_input": "2021-03-02T14:35:33.329902Z",
     "iopub.status.busy": "2021-03-02T14:35:33.329552Z",
     "iopub.status.idle": "2021-03-02T14:35:33.337453Z",
     "shell.execute_reply": "2021-03-02T14:35:33.337075Z"
    },
    "papermill": {
     "duration": 0.022302,
     "end_time": "2021-03-02T14:35:33.337537",
     "exception": false,
     "start_time": "2021-03-02T14:35:33.315235",
     "status": "completed"
    },
    "tags": []
   },
   "outputs": [
    {
     "data": {
      "text/plain": [
       "(21, 5)"
      ]
     },
     "execution_count": 13,
     "metadata": {},
     "output_type": "execute_result"
    }
   ],
   "source": [
    "cm_results.shape"
   ]
  },
  {
   "cell_type": "code",
   "execution_count": 14,
   "id": "amazing-product",
   "metadata": {
    "execution": {
     "iopub.execute_input": "2021-03-02T14:35:33.365311Z",
     "iopub.status.busy": "2021-03-02T14:35:33.364939Z",
     "iopub.status.idle": "2021-03-02T14:35:33.380577Z",
     "shell.execute_reply": "2021-03-02T14:35:33.380220Z"
    },
    "papermill": {
     "duration": 0.030127,
     "end_time": "2021-03-02T14:35:33.380658",
     "exception": false,
     "start_time": "2021-03-02T14:35:33.350531",
     "status": "completed"
    },
    "tags": []
   },
   "outputs": [
    {
     "data": {
      "text/html": [
       "<div>\n",
       "<style scoped>\n",
       "    .dataframe tbody tr th:only-of-type {\n",
       "        vertical-align: middle;\n",
       "    }\n",
       "\n",
       "    .dataframe tbody tr th {\n",
       "        vertical-align: top;\n",
       "    }\n",
       "\n",
       "    .dataframe thead th {\n",
       "        text-align: right;\n",
       "    }\n",
       "</style>\n",
       "<table border=\"1\" class=\"dataframe\">\n",
       "  <thead>\n",
       "    <tr style=\"text-align: right;\">\n",
       "      <th></th>\n",
       "      <th>clusterer_params</th>\n",
       "      <th>partition</th>\n",
       "      <th>n_clusters</th>\n",
       "      <th>delta</th>\n",
       "      <th>si_score</th>\n",
       "    </tr>\n",
       "    <tr>\n",
       "      <th>clusterer_id</th>\n",
       "      <th></th>\n",
       "      <th></th>\n",
       "      <th></th>\n",
       "      <th></th>\n",
       "      <th></th>\n",
       "    </tr>\n",
       "  </thead>\n",
       "  <tbody>\n",
       "    <tr>\n",
       "      <th>DeltaSpectralClustering #0</th>\n",
       "      <td>{'delta': 0.25}</td>\n",
       "      <td>[0.0, 0.0, 0.0, 0.0, 0.0, 0.0, 0.0, 0.0, 0.0, ...</td>\n",
       "      <td>2</td>\n",
       "      <td>0.25</td>\n",
       "      <td>0.137042</td>\n",
       "    </tr>\n",
       "    <tr>\n",
       "      <th>DeltaSpectralClustering #1</th>\n",
       "      <td>{'delta': 0.25}</td>\n",
       "      <td>[3.0, 0.0, 0.0, 3.0, 3.0, 0.0, 3.0, 0.0, 0.0, ...</td>\n",
       "      <td>5</td>\n",
       "      <td>0.25</td>\n",
       "      <td>0.111130</td>\n",
       "    </tr>\n",
       "    <tr>\n",
       "      <th>DeltaSpectralClustering #2</th>\n",
       "      <td>{'delta': 0.25}</td>\n",
       "      <td>[8.0, 4.0, 4.0, 4.0, 8.0, 4.0, 8.0, 4.0, 4.0, ...</td>\n",
       "      <td>10</td>\n",
       "      <td>0.25</td>\n",
       "      <td>0.096330</td>\n",
       "    </tr>\n",
       "    <tr>\n",
       "      <th>DeltaSpectralClustering #3</th>\n",
       "      <td>{'delta': 0.25}</td>\n",
       "      <td>[5.0, 5.0, 5.0, 5.0, 5.0, 5.0, 5.0, 5.0, 5.0, ...</td>\n",
       "      <td>15</td>\n",
       "      <td>0.25</td>\n",
       "      <td>0.081212</td>\n",
       "    </tr>\n",
       "    <tr>\n",
       "      <th>DeltaSpectralClustering #4</th>\n",
       "      <td>{'delta': 0.25}</td>\n",
       "      <td>[18.0, 0.0, 13.0, 0.0, 18.0, 13.0, 13.0, 13.0,...</td>\n",
       "      <td>20</td>\n",
       "      <td>0.25</td>\n",
       "      <td>0.074854</td>\n",
       "    </tr>\n",
       "  </tbody>\n",
       "</table>\n",
       "</div>"
      ],
      "text/plain": [
       "                           clusterer_params  \\\n",
       "clusterer_id                                  \n",
       "DeltaSpectralClustering #0  {'delta': 0.25}   \n",
       "DeltaSpectralClustering #1  {'delta': 0.25}   \n",
       "DeltaSpectralClustering #2  {'delta': 0.25}   \n",
       "DeltaSpectralClustering #3  {'delta': 0.25}   \n",
       "DeltaSpectralClustering #4  {'delta': 0.25}   \n",
       "\n",
       "                                                                    partition  \\\n",
       "clusterer_id                                                                    \n",
       "DeltaSpectralClustering #0  [0.0, 0.0, 0.0, 0.0, 0.0, 0.0, 0.0, 0.0, 0.0, ...   \n",
       "DeltaSpectralClustering #1  [3.0, 0.0, 0.0, 3.0, 3.0, 0.0, 3.0, 0.0, 0.0, ...   \n",
       "DeltaSpectralClustering #2  [8.0, 4.0, 4.0, 4.0, 8.0, 4.0, 8.0, 4.0, 4.0, ...   \n",
       "DeltaSpectralClustering #3  [5.0, 5.0, 5.0, 5.0, 5.0, 5.0, 5.0, 5.0, 5.0, ...   \n",
       "DeltaSpectralClustering #4  [18.0, 0.0, 13.0, 0.0, 18.0, 13.0, 13.0, 13.0,...   \n",
       "\n",
       "                            n_clusters delta  si_score  \n",
       "clusterer_id                                            \n",
       "DeltaSpectralClustering #0           2  0.25  0.137042  \n",
       "DeltaSpectralClustering #1           5  0.25  0.111130  \n",
       "DeltaSpectralClustering #2          10  0.25  0.096330  \n",
       "DeltaSpectralClustering #3          15  0.25  0.081212  \n",
       "DeltaSpectralClustering #4          20  0.25  0.074854  "
      ]
     },
     "execution_count": 14,
     "metadata": {},
     "output_type": "execute_result"
    }
   ],
   "source": [
    "cm_results.head()"
   ]
  },
  {
   "cell_type": "code",
   "execution_count": 15,
   "id": "written-insertion",
   "metadata": {
    "execution": {
     "iopub.execute_input": "2021-03-02T14:35:33.409335Z",
     "iopub.status.busy": "2021-03-02T14:35:33.408963Z",
     "iopub.status.idle": "2021-03-02T14:35:33.417175Z",
     "shell.execute_reply": "2021-03-02T14:35:33.416861Z"
    },
    "papermill": {
     "duration": 0.0233,
     "end_time": "2021-03-02T14:35:33.417256",
     "exception": false,
     "start_time": "2021-03-02T14:35:33.393956",
     "status": "completed"
    },
    "tags": []
   },
   "outputs": [
    {
     "data": {
      "text/plain": [
       "array([  2,   5,  10,  15,  20,  25,  30,  35,  40,  45,  50,  55,  60,\n",
       "        65,  70,  75,  80,  90,  95, 100, 200])"
      ]
     },
     "execution_count": 15,
     "metadata": {},
     "output_type": "execute_result"
    }
   ],
   "source": [
    "cm_results[\"n_clusters\"].unique()"
   ]
  },
  {
   "cell_type": "markdown",
   "id": "olympic-indie",
   "metadata": {
    "papermill": {
     "duration": 0.012523,
     "end_time": "2021-03-02T14:35:33.443015",
     "exception": false,
     "start_time": "2021-03-02T14:35:33.430492",
     "status": "completed"
    },
    "tags": []
   },
   "source": [
    "# clusterProfiler"
   ]
  },
  {
   "cell_type": "code",
   "execution_count": 16,
   "id": "healthy-access",
   "metadata": {
    "execution": {
     "iopub.execute_input": "2021-03-02T14:35:33.471415Z",
     "iopub.status.busy": "2021-03-02T14:35:33.471051Z",
     "iopub.status.idle": "2021-03-02T14:35:33.701963Z",
     "shell.execute_reply": "2021-03-02T14:35:33.701575Z"
    },
    "papermill": {
     "duration": 0.246173,
     "end_time": "2021-03-02T14:35:33.702049",
     "exception": false,
     "start_time": "2021-03-02T14:35:33.455876",
     "status": "completed"
    },
    "tags": []
   },
   "outputs": [],
   "source": [
    "from rpy2.robjects.packages import importr\n",
    "import rpy2.robjects as robjects\n",
    "from rpy2.robjects import pandas2ri\n",
    "\n",
    "pandas2ri.activate()"
   ]
  },
  {
   "cell_type": "code",
   "execution_count": 17,
   "id": "increased-suspension",
   "metadata": {
    "execution": {
     "iopub.execute_input": "2021-03-02T14:35:33.731559Z",
     "iopub.status.busy": "2021-03-02T14:35:33.731207Z",
     "iopub.status.idle": "2021-03-02T14:35:37.397206Z",
     "shell.execute_reply": "2021-03-02T14:35:37.396890Z"
    },
    "papermill": {
     "duration": 3.681451,
     "end_time": "2021-03-02T14:35:37.397288",
     "exception": false,
     "start_time": "2021-03-02T14:35:33.715837",
     "status": "completed"
    },
    "tags": []
   },
   "outputs": [],
   "source": [
    "rprint = robjects.globalenv.find(\"print\")\n",
    "# dose = importr('DOSE')\n",
    "clusterProfiler = importr(\"clusterProfiler\")\n",
    "reactomePA = importr(\"ReactomePA\")\n",
    "# enrichplot = importr(\"enrichplot\")\n",
    "grdevices = importr(\"grDevices\")"
   ]
  },
  {
   "cell_type": "markdown",
   "id": "hungarian-shield",
   "metadata": {
    "papermill": {
     "duration": 0.012893,
     "end_time": "2021-03-02T14:35:37.424035",
     "exception": false,
     "start_time": "2021-03-02T14:35:37.411142",
     "status": "completed"
    },
    "tags": []
   },
   "source": [
    "## General variables"
   ]
  },
  {
   "cell_type": "code",
   "execution_count": 18,
   "id": "tender-cargo",
   "metadata": {
    "execution": {
     "iopub.execute_input": "2021-03-02T14:35:37.452668Z",
     "iopub.status.busy": "2021-03-02T14:35:37.452314Z",
     "iopub.status.idle": "2021-03-02T14:35:37.460929Z",
     "shell.execute_reply": "2021-03-02T14:35:37.460515Z"
    },
    "papermill": {
     "duration": 0.023979,
     "end_time": "2021-03-02T14:35:37.461010",
     "exception": false,
     "start_time": "2021-03-02T14:35:37.437031",
     "status": "completed"
    },
    "tags": []
   },
   "outputs": [],
   "source": [
    "genes_universe = [g.split(\".\")[0] for g in sim_matrix.index]"
   ]
  },
  {
   "cell_type": "code",
   "execution_count": 19,
   "id": "upper-grove",
   "metadata": {
    "execution": {
     "iopub.execute_input": "2021-03-02T14:35:37.489448Z",
     "iopub.status.busy": "2021-03-02T14:35:37.489092Z",
     "iopub.status.idle": "2021-03-02T14:35:37.497138Z",
     "shell.execute_reply": "2021-03-02T14:35:37.497432Z"
    },
    "papermill": {
     "duration": 0.023426,
     "end_time": "2021-03-02T14:35:37.497534",
     "exception": false,
     "start_time": "2021-03-02T14:35:37.474108",
     "status": "completed"
    },
    "tags": []
   },
   "outputs": [
    {
     "data": {
      "text/plain": [
       "5000"
      ]
     },
     "execution_count": 19,
     "metadata": {},
     "output_type": "execute_result"
    }
   ],
   "source": [
    "len(genes_universe)"
   ]
  },
  {
   "cell_type": "code",
   "execution_count": 20,
   "id": "august-creature",
   "metadata": {
    "execution": {
     "iopub.execute_input": "2021-03-02T14:35:37.527224Z",
     "iopub.status.busy": "2021-03-02T14:35:37.526807Z",
     "iopub.status.idle": "2021-03-02T14:35:38.075545Z",
     "shell.execute_reply": "2021-03-02T14:35:38.075176Z"
    },
    "papermill": {
     "duration": 0.564491,
     "end_time": "2021-03-02T14:35:38.075631",
     "exception": false,
     "start_time": "2021-03-02T14:35:37.511140",
     "status": "completed"
    },
    "tags": []
   },
   "outputs": [
    {
     "name": "stderr",
     "output_type": "stream",
     "text": [
      "R[write to console]: Loading required package: org.Hs.eg.db\n",
      "\n",
      "R[write to console]: Loading required package: AnnotationDbi\n",
      "\n",
      "R[write to console]: Loading required package: stats4\n",
      "\n",
      "R[write to console]: Loading required package: BiocGenerics\n",
      "\n",
      "R[write to console]: Loading required package: parallel\n",
      "\n",
      "R[write to console]: \n",
      "Attaching package: ‘BiocGenerics’\n",
      "\n",
      "\n",
      "R[write to console]: The following objects are masked from ‘package:parallel’:\n",
      "\n",
      "    clusterApply, clusterApplyLB, clusterCall, clusterEvalQ,\n",
      "    clusterExport, clusterMap, parApply, parCapply, parLapply,\n",
      "    parLapplyLB, parRapply, parSapply, parSapplyLB\n",
      "\n",
      "\n",
      "R[write to console]: The following objects are masked from ‘package:stats’:\n",
      "\n",
      "    IQR, mad, sd, var, xtabs\n",
      "\n",
      "\n",
      "R[write to console]: The following objects are masked from ‘package:base’:\n",
      "\n",
      "    anyDuplicated, append, as.data.frame, basename, cbind, colnames,\n",
      "    dirname, do.call, duplicated, eval, evalq, Filter, Find, get, grep,\n",
      "    grepl, intersect, is.unsorted, lapply, Map, mapply, match, mget,\n",
      "    order, paste, pmax, pmax.int, pmin, pmin.int, Position, rank,\n",
      "    rbind, Reduce, rownames, sapply, setdiff, sort, table, tapply,\n",
      "    union, unique, unsplit, which, which.max, which.min\n",
      "\n",
      "\n",
      "R[write to console]: Loading required package: Biobase\n",
      "\n",
      "R[write to console]: Welcome to Bioconductor\n",
      "\n",
      "    Vignettes contain introductory material; view with\n",
      "    'browseVignettes()'. To cite Bioconductor, see\n",
      "    'citation(\"Biobase\")', and for packages 'citation(\"pkgname\")'.\n",
      "\n",
      "\n",
      "R[write to console]: Loading required package: IRanges\n",
      "\n",
      "R[write to console]: Loading required package: S4Vectors\n",
      "\n",
      "R[write to console]: \n",
      "Attaching package: ‘S4Vectors’\n",
      "\n",
      "\n",
      "R[write to console]: The following object is masked from ‘package:base’:\n",
      "\n",
      "    expand.grid\n",
      "\n",
      "\n",
      "R[write to console]: \n",
      "\n",
      "R[write to console]: 'select()' returned 1:many mapping between keys and columns\n",
      "\n"
     ]
    }
   ],
   "source": [
    "# Convert from ENSEMBL TO ENTREZID\n",
    "genes_universe = (\n",
    "    clusterProfiler.bitr(\n",
    "        genes_universe, fromType=\"ENSEMBL\", toType=\"ENTREZID\", OrgDb=\"org.Hs.eg.db\"\n",
    "    )\n",
    "    .drop_duplicates(subset=[\"ENSEMBL\"])[\"ENTREZID\"]\n",
    "    .tolist()\n",
    ")"
   ]
  },
  {
   "cell_type": "markdown",
   "id": "given-description",
   "metadata": {
    "papermill": {
     "duration": 0.016443,
     "end_time": "2021-03-02T14:35:38.108420",
     "exception": false,
     "start_time": "2021-03-02T14:35:38.091977",
     "status": "completed"
    },
    "tags": []
   },
   "source": [
    "## compareClusters"
   ]
  },
  {
   "cell_type": "code",
   "execution_count": 21,
   "id": "executed-gathering",
   "metadata": {
    "execution": {
     "iopub.execute_input": "2021-03-02T14:35:38.143866Z",
     "iopub.status.busy": "2021-03-02T14:35:38.143515Z",
     "iopub.status.idle": "2021-03-02T14:35:38.150739Z",
     "shell.execute_reply": "2021-03-02T14:35:38.150369Z"
    },
    "papermill": {
     "duration": 0.025918,
     "end_time": "2021-03-02T14:35:38.150823",
     "exception": false,
     "start_time": "2021-03-02T14:35:38.124905",
     "status": "completed"
    },
    "tags": []
   },
   "outputs": [],
   "source": [
    "import warnings"
   ]
  },
  {
   "cell_type": "code",
   "execution_count": 22,
   "id": "enclosed-saskatchewan",
   "metadata": {
    "execution": {
     "iopub.execute_input": "2021-03-02T14:35:38.189328Z",
     "iopub.status.busy": "2021-03-02T14:35:38.188950Z",
     "iopub.status.idle": "2021-03-02T14:35:38.196933Z",
     "shell.execute_reply": "2021-03-02T14:35:38.196519Z"
    },
    "papermill": {
     "duration": 0.029002,
     "end_time": "2021-03-02T14:35:38.197016",
     "exception": false,
     "start_time": "2021-03-02T14:35:38.168014",
     "status": "completed"
    },
    "tags": []
   },
   "outputs": [],
   "source": [
    "def run_enrich(filename_prefix, partition):\n",
    "    genes_per_cluster = {}\n",
    "    for c in pd.Series(partition).value_counts().index:\n",
    "        genes_per_cluster[c] = [\n",
    "            g.split(\".\")[0] for g in sim_matrix.index[partition == c]\n",
    "        ]\n",
    "\n",
    "    #     genes_per_cluster_set = {\n",
    "    #         f\"C{k:n}\": list(set(v)) for k, v in genes_per_cluster.items()\n",
    "    #     }\n",
    "    #     gene_clusters = robjects.ListVector(genes_per_cluster_set)\n",
    "\n",
    "    try:\n",
    "        genes_per_cluster_set = {\n",
    "            f\"C{k:n}\": clusterProfiler.bitr(\n",
    "                v, fromType=\"ENSEMBL\", toType=\"ENTREZID\", OrgDb=\"org.Hs.eg.db\"\n",
    "            )\n",
    "            .drop_duplicates(subset=[\"ENSEMBL\"])[\"ENTREZID\"]\n",
    "            .tolist()\n",
    "            for k, v in genes_per_cluster.items()\n",
    "        }\n",
    "        gene_clusters = robjects.ListVector(genes_per_cluster_set)\n",
    "    except:\n",
    "        warnings.warn(f\"Partitions {filename_prefix} failed.\")\n",
    "        return\n",
    "\n",
    "    ck = clusterProfiler.compareCluster(\n",
    "        geneClusters=gene_clusters,\n",
    "        universe=genes_universe,\n",
    "        organism=\"human\",\n",
    "        fun=\"enrichPathway\",\n",
    "        pAdjustMethod=\"fdr\",\n",
    "        pvalueCutoff=0.05,\n",
    "        readable=True,\n",
    "    )\n",
    "\n",
    "    df = ck.slots[\"compareClusterResult\"]\n",
    "    display(f\"    Full results size: {df.shape}\")\n",
    "    df.sort_values(\"p.adjust\").to_pickle(\n",
    "        Path(\n",
    "            OUTPUT_DIR,\n",
    "            f\"{filename_prefix}{METHOD}-enrichPathway-full.pkl\",\n",
    "        )\n",
    "    )"
   ]
  },
  {
   "cell_type": "code",
   "execution_count": 23,
   "id": "elegant-citation",
   "metadata": {
    "execution": {
     "iopub.execute_input": "2021-03-02T14:35:38.233161Z",
     "iopub.status.busy": "2021-03-02T14:35:38.232807Z",
     "iopub.status.idle": "2021-03-02T14:51:33.682474Z",
     "shell.execute_reply": "2021-03-02T14:51:33.682110Z"
    },
    "papermill": {
     "duration": 955.468416,
     "end_time": "2021-03-02T14:51:33.682557",
     "exception": false,
     "start_time": "2021-03-02T14:35:38.214141",
     "status": "completed"
    },
    "tags": []
   },
   "outputs": [
    {
     "data": {
      "text/plain": [
       "'Partition with n_clusters=2'"
      ]
     },
     "metadata": {},
     "output_type": "display_data"
    },
    {
     "name": "stderr",
     "output_type": "stream",
     "text": [
      "R[write to console]: 'select()' returned 1:many mapping between keys and columns\n",
      "\n",
      "R[write to console]: 'select()' returned 1:many mapping between keys and columns\n",
      "\n"
     ]
    },
    {
     "data": {
      "text/plain": [
       "'    Full results size: (524, 10)'"
      ]
     },
     "metadata": {},
     "output_type": "display_data"
    },
    {
     "data": {
      "text/plain": [
       "'Partition with n_clusters=5'"
      ]
     },
     "metadata": {},
     "output_type": "display_data"
    },
    {
     "name": "stderr",
     "output_type": "stream",
     "text": [
      "R[write to console]: 'select()' returned 1:many mapping between keys and columns\n",
      "\n",
      "R[write to console]: 'select()' returned 1:many mapping between keys and columns\n",
      "\n",
      "R[write to console]: 'select()' returned 1:many mapping between keys and columns\n",
      "\n",
      "R[write to console]: 'select()' returned 1:1 mapping between keys and columns\n",
      "\n",
      "R[write to console]: 'select()' returned 1:1 mapping between keys and columns\n",
      "\n"
     ]
    },
    {
     "data": {
      "text/plain": [
       "'    Full results size: (588, 10)'"
      ]
     },
     "metadata": {},
     "output_type": "display_data"
    },
    {
     "data": {
      "text/plain": [
       "'Partition with n_clusters=10'"
      ]
     },
     "metadata": {},
     "output_type": "display_data"
    },
    {
     "name": "stderr",
     "output_type": "stream",
     "text": [
      "R[write to console]: 'select()' returned 1:many mapping between keys and columns\n",
      "\n",
      "R[write to console]: 'select()' returned 1:many mapping between keys and columns\n",
      "\n",
      "R[write to console]: 'select()' returned 1:1 mapping between keys and columns\n",
      "\n",
      "R[write to console]: 'select()' returned 1:many mapping between keys and columns\n",
      "\n",
      "R[write to console]: 'select()' returned 1:1 mapping between keys and columns\n",
      "\n",
      "R[write to console]: 'select()' returned 1:1 mapping between keys and columns\n",
      "\n",
      "R[write to console]: 'select()' returned 1:1 mapping between keys and columns\n",
      "\n",
      "R[write to console]: 'select()' returned 1:1 mapping between keys and columns\n",
      "\n",
      "R[write to console]: 'select()' returned 1:1 mapping between keys and columns\n",
      "\n",
      "R[write to console]: 'select()' returned 1:1 mapping between keys and columns\n",
      "\n"
     ]
    },
    {
     "data": {
      "text/plain": [
       "'    Full results size: (693, 10)'"
      ]
     },
     "metadata": {},
     "output_type": "display_data"
    },
    {
     "data": {
      "text/plain": [
       "'Partition with n_clusters=15'"
      ]
     },
     "metadata": {},
     "output_type": "display_data"
    },
    {
     "name": "stderr",
     "output_type": "stream",
     "text": [
      "R[write to console]: 'select()' returned 1:many mapping between keys and columns\n",
      "\n",
      "R[write to console]: 'select()' returned 1:many mapping between keys and columns\n",
      "\n",
      "R[write to console]: 'select()' returned 1:many mapping between keys and columns\n",
      "\n",
      "R[write to console]: 'select()' returned 1:many mapping between keys and columns\n",
      "\n",
      "R[write to console]: 'select()' returned 1:1 mapping between keys and columns\n",
      "\n",
      "R[write to console]: 'select()' returned 1:many mapping between keys and columns\n",
      "\n",
      "R[write to console]: 'select()' returned 1:1 mapping between keys and columns\n",
      "\n",
      "R[write to console]: 'select()' returned 1:1 mapping between keys and columns\n",
      "\n",
      "R[write to console]: 'select()' returned 1:1 mapping between keys and columns\n",
      "\n",
      "R[write to console]: 'select()' returned 1:1 mapping between keys and columns\n",
      "\n",
      "R[write to console]: 'select()' returned 1:1 mapping between keys and columns\n",
      "\n",
      "R[write to console]: 'select()' returned 1:1 mapping between keys and columns\n",
      "\n",
      "R[write to console]: 'select()' returned 1:1 mapping between keys and columns\n",
      "\n",
      "R[write to console]: 'select()' returned 1:1 mapping between keys and columns\n",
      "\n",
      "R[write to console]: 'select()' returned 1:1 mapping between keys and columns\n",
      "\n"
     ]
    },
    {
     "data": {
      "text/plain": [
       "'    Full results size: (797, 10)'"
      ]
     },
     "metadata": {},
     "output_type": "display_data"
    },
    {
     "data": {
      "text/plain": [
       "'Partition with n_clusters=20'"
      ]
     },
     "metadata": {},
     "output_type": "display_data"
    },
    {
     "name": "stderr",
     "output_type": "stream",
     "text": [
      "R[write to console]: 'select()' returned 1:many mapping between keys and columns\n",
      "\n",
      "R[write to console]: 'select()' returned 1:many mapping between keys and columns\n",
      "\n",
      "R[write to console]: 'select()' returned 1:many mapping between keys and columns\n",
      "\n",
      "R[write to console]: 'select()' returned 1:1 mapping between keys and columns\n",
      "\n",
      "R[write to console]: 'select()' returned 1:many mapping between keys and columns\n",
      "\n",
      "R[write to console]: 'select()' returned 1:many mapping between keys and columns\n",
      "\n",
      "R[write to console]: 'select()' returned 1:many mapping between keys and columns\n",
      "\n",
      "R[write to console]: 'select()' returned 1:1 mapping between keys and columns\n",
      "\n",
      "R[write to console]: 'select()' returned 1:1 mapping between keys and columns\n",
      "\n",
      "R[write to console]: 'select()' returned 1:1 mapping between keys and columns\n",
      "\n",
      "R[write to console]: 'select()' returned 1:1 mapping between keys and columns\n",
      "\n",
      "R[write to console]: 'select()' returned 1:1 mapping between keys and columns\n",
      "\n",
      "R[write to console]: 'select()' returned 1:1 mapping between keys and columns\n",
      "\n",
      "R[write to console]: 'select()' returned 1:1 mapping between keys and columns\n",
      "\n",
      "R[write to console]: 'select()' returned 1:1 mapping between keys and columns\n",
      "\n",
      "R[write to console]: 'select()' returned 1:1 mapping between keys and columns\n",
      "\n",
      "R[write to console]: 'select()' returned 1:1 mapping between keys and columns\n",
      "\n",
      "R[write to console]: 'select()' returned 1:1 mapping between keys and columns\n",
      "\n",
      "R[write to console]: 'select()' returned 1:1 mapping between keys and columns\n",
      "\n",
      "R[write to console]: 'select()' returned 1:1 mapping between keys and columns\n",
      "\n"
     ]
    },
    {
     "data": {
      "text/plain": [
       "'    Full results size: (754, 10)'"
      ]
     },
     "metadata": {},
     "output_type": "display_data"
    },
    {
     "data": {
      "text/plain": [
       "'Partition with n_clusters=25'"
      ]
     },
     "metadata": {},
     "output_type": "display_data"
    },
    {
     "name": "stderr",
     "output_type": "stream",
     "text": [
      "R[write to console]: 'select()' returned 1:many mapping between keys and columns\n",
      "\n",
      "R[write to console]: 'select()' returned 1:many mapping between keys and columns\n",
      "\n",
      "R[write to console]: 'select()' returned 1:many mapping between keys and columns\n",
      "\n",
      "R[write to console]: 'select()' returned 1:many mapping between keys and columns\n",
      "\n",
      "R[write to console]: 'select()' returned 1:1 mapping between keys and columns\n",
      "\n",
      "R[write to console]: 'select()' returned 1:many mapping between keys and columns\n",
      "\n",
      "R[write to console]: 'select()' returned 1:many mapping between keys and columns\n",
      "\n",
      "R[write to console]: 'select()' returned 1:many mapping between keys and columns\n",
      "\n",
      "R[write to console]: 'select()' returned 1:1 mapping between keys and columns\n",
      "\n",
      "R[write to console]: 'select()' returned 1:1 mapping between keys and columns\n",
      "\n",
      "R[write to console]: 'select()' returned 1:1 mapping between keys and columns\n",
      "\n",
      "R[write to console]: 'select()' returned 1:1 mapping between keys and columns\n",
      "\n",
      "R[write to console]: 'select()' returned 1:1 mapping between keys and columns\n",
      "\n",
      "R[write to console]: 'select()' returned 1:1 mapping between keys and columns\n",
      "\n",
      "R[write to console]: 'select()' returned 1:1 mapping between keys and columns\n",
      "\n",
      "R[write to console]: 'select()' returned 1:1 mapping between keys and columns\n",
      "\n",
      "R[write to console]: 'select()' returned 1:1 mapping between keys and columns\n",
      "\n",
      "R[write to console]: 'select()' returned 1:1 mapping between keys and columns\n",
      "\n",
      "R[write to console]: 'select()' returned 1:1 mapping between keys and columns\n",
      "\n",
      "R[write to console]: 'select()' returned 1:1 mapping between keys and columns\n",
      "\n",
      "R[write to console]: 'select()' returned 1:1 mapping between keys and columns\n",
      "\n",
      "R[write to console]: 'select()' returned 1:1 mapping between keys and columns\n",
      "\n",
      "R[write to console]: 'select()' returned 1:1 mapping between keys and columns\n",
      "\n",
      "R[write to console]: 'select()' returned 1:1 mapping between keys and columns\n",
      "\n",
      "R[write to console]: 'select()' returned 1:1 mapping between keys and columns\n",
      "\n"
     ]
    },
    {
     "data": {
      "text/plain": [
       "'    Full results size: (987, 10)'"
      ]
     },
     "metadata": {},
     "output_type": "display_data"
    },
    {
     "data": {
      "text/plain": [
       "'Partition with n_clusters=30'"
      ]
     },
     "metadata": {},
     "output_type": "display_data"
    },
    {
     "name": "stderr",
     "output_type": "stream",
     "text": [
      "R[write to console]: 'select()' returned 1:many mapping between keys and columns\n",
      "\n",
      "R[write to console]: 'select()' returned 1:many mapping between keys and columns\n",
      "\n",
      "R[write to console]: 'select()' returned 1:many mapping between keys and columns\n",
      "\n",
      "R[write to console]: 'select()' returned 1:many mapping between keys and columns\n",
      "\n",
      "R[write to console]: 'select()' returned 1:many mapping between keys and columns\n",
      "\n",
      "R[write to console]: 'select()' returned 1:many mapping between keys and columns\n",
      "\n",
      "R[write to console]: 'select()' returned 1:many mapping between keys and columns\n",
      "\n",
      "R[write to console]: 'select()' returned 1:1 mapping between keys and columns\n",
      "\n",
      "R[write to console]: 'select()' returned 1:many mapping between keys and columns\n",
      "\n",
      "R[write to console]: 'select()' returned 1:many mapping between keys and columns\n",
      "\n",
      "R[write to console]: 'select()' returned 1:many mapping between keys and columns\n",
      "\n",
      "R[write to console]: 'select()' returned 1:1 mapping between keys and columns\n",
      "\n",
      "R[write to console]: 'select()' returned 1:1 mapping between keys and columns\n",
      "\n",
      "R[write to console]: 'select()' returned 1:1 mapping between keys and columns\n",
      "\n",
      "R[write to console]: 'select()' returned 1:1 mapping between keys and columns\n",
      "\n",
      "R[write to console]: 'select()' returned 1:1 mapping between keys and columns\n",
      "\n",
      "R[write to console]: 'select()' returned 1:1 mapping between keys and columns\n",
      "\n",
      "R[write to console]: 'select()' returned 1:1 mapping between keys and columns\n",
      "\n",
      "R[write to console]: 'select()' returned 1:1 mapping between keys and columns\n",
      "\n",
      "R[write to console]: 'select()' returned 1:1 mapping between keys and columns\n",
      "\n",
      "R[write to console]: 'select()' returned 1:1 mapping between keys and columns\n",
      "\n",
      "R[write to console]: 'select()' returned 1:1 mapping between keys and columns\n",
      "\n",
      "R[write to console]: 'select()' returned 1:1 mapping between keys and columns\n",
      "\n",
      "R[write to console]: 'select()' returned 1:1 mapping between keys and columns\n",
      "\n",
      "R[write to console]: 'select()' returned 1:1 mapping between keys and columns\n",
      "\n",
      "R[write to console]: 'select()' returned 1:1 mapping between keys and columns\n",
      "\n",
      "R[write to console]: 'select()' returned 1:1 mapping between keys and columns\n",
      "\n",
      "R[write to console]: 'select()' returned 1:1 mapping between keys and columns\n",
      "\n",
      "R[write to console]: 'select()' returned 1:1 mapping between keys and columns\n",
      "\n",
      "R[write to console]: 'select()' returned 1:1 mapping between keys and columns\n",
      "\n"
     ]
    },
    {
     "data": {
      "text/plain": [
       "'    Full results size: (997, 10)'"
      ]
     },
     "metadata": {},
     "output_type": "display_data"
    },
    {
     "data": {
      "text/plain": [
       "'Partition with n_clusters=35'"
      ]
     },
     "metadata": {},
     "output_type": "display_data"
    },
    {
     "name": "stderr",
     "output_type": "stream",
     "text": [
      "R[write to console]: 'select()' returned 1:many mapping between keys and columns\n",
      "\n",
      "R[write to console]: 'select()' returned 1:many mapping between keys and columns\n",
      "\n",
      "R[write to console]: 'select()' returned 1:many mapping between keys and columns\n",
      "\n",
      "R[write to console]: 'select()' returned 1:many mapping between keys and columns\n",
      "\n",
      "R[write to console]: 'select()' returned 1:1 mapping between keys and columns\n",
      "\n",
      "R[write to console]: 'select()' returned 1:many mapping between keys and columns\n",
      "\n",
      "R[write to console]: 'select()' returned 1:1 mapping between keys and columns\n",
      "\n",
      "R[write to console]: 'select()' returned 1:many mapping between keys and columns\n",
      "\n",
      "R[write to console]: 'select()' returned 1:many mapping between keys and columns\n",
      "\n",
      "R[write to console]: 'select()' returned 1:many mapping between keys and columns\n",
      "\n",
      "R[write to console]: 'select()' returned 1:many mapping between keys and columns\n",
      "\n",
      "R[write to console]: 'select()' returned 1:1 mapping between keys and columns\n",
      "\n",
      "R[write to console]: 'select()' returned 1:1 mapping between keys and columns\n",
      "\n",
      "R[write to console]: 'select()' returned 1:1 mapping between keys and columns\n",
      "\n",
      "R[write to console]: 'select()' returned 1:1 mapping between keys and columns\n",
      "\n",
      "R[write to console]: 'select()' returned 1:1 mapping between keys and columns\n",
      "\n",
      "R[write to console]: 'select()' returned 1:1 mapping between keys and columns\n",
      "\n",
      "R[write to console]: 'select()' returned 1:1 mapping between keys and columns\n",
      "\n",
      "R[write to console]: 'select()' returned 1:1 mapping between keys and columns\n",
      "\n",
      "R[write to console]: 'select()' returned 1:1 mapping between keys and columns\n",
      "\n",
      "R[write to console]: 'select()' returned 1:1 mapping between keys and columns\n",
      "\n",
      "R[write to console]: 'select()' returned 1:1 mapping between keys and columns\n",
      "\n",
      "R[write to console]: 'select()' returned 1:1 mapping between keys and columns\n",
      "\n",
      "R[write to console]: 'select()' returned 1:1 mapping between keys and columns\n",
      "\n",
      "R[write to console]: 'select()' returned 1:1 mapping between keys and columns\n",
      "\n",
      "R[write to console]: 'select()' returned 1:1 mapping between keys and columns\n",
      "\n",
      "R[write to console]: 'select()' returned 1:1 mapping between keys and columns\n",
      "\n",
      "R[write to console]: 'select()' returned 1:1 mapping between keys and columns\n",
      "\n",
      "R[write to console]: 'select()' returned 1:1 mapping between keys and columns\n",
      "\n",
      "R[write to console]: 'select()' returned 1:1 mapping between keys and columns\n",
      "\n",
      "R[write to console]: 'select()' returned 1:1 mapping between keys and columns\n",
      "\n",
      "R[write to console]: 'select()' returned 1:1 mapping between keys and columns\n",
      "\n",
      "R[write to console]: 'select()' returned 1:1 mapping between keys and columns\n",
      "\n",
      "R[write to console]: 'select()' returned 1:1 mapping between keys and columns\n",
      "\n",
      "R[write to console]: 'select()' returned 1:1 mapping between keys and columns\n",
      "\n"
     ]
    },
    {
     "data": {
      "text/plain": [
       "'    Full results size: (1122, 10)'"
      ]
     },
     "metadata": {},
     "output_type": "display_data"
    },
    {
     "data": {
      "text/plain": [
       "'Partition with n_clusters=40'"
      ]
     },
     "metadata": {},
     "output_type": "display_data"
    },
    {
     "name": "stderr",
     "output_type": "stream",
     "text": [
      "R[write to console]: 'select()' returned 1:many mapping between keys and columns\n",
      "\n",
      "R[write to console]: 'select()' returned 1:many mapping between keys and columns\n",
      "\n",
      "R[write to console]: 'select()' returned 1:many mapping between keys and columns\n",
      "\n",
      "R[write to console]: 'select()' returned 1:many mapping between keys and columns\n",
      "\n",
      "R[write to console]: 'select()' returned 1:1 mapping between keys and columns\n",
      "\n",
      "R[write to console]: 'select()' returned 1:many mapping between keys and columns\n",
      "\n",
      "R[write to console]: 'select()' returned 1:many mapping between keys and columns\n",
      "\n",
      "R[write to console]: 'select()' returned 1:1 mapping between keys and columns\n",
      "\n",
      "R[write to console]: 'select()' returned 1:many mapping between keys and columns\n",
      "\n",
      "R[write to console]: 'select()' returned 1:1 mapping between keys and columns\n",
      "\n",
      "R[write to console]: 'select()' returned 1:many mapping between keys and columns\n",
      "\n",
      "R[write to console]: 'select()' returned 1:1 mapping between keys and columns\n",
      "\n",
      "R[write to console]: 'select()' returned 1:many mapping between keys and columns\n",
      "\n",
      "R[write to console]: 'select()' returned 1:1 mapping between keys and columns\n",
      "\n",
      "R[write to console]: 'select()' returned 1:1 mapping between keys and columns\n",
      "\n",
      "R[write to console]: 'select()' returned 1:1 mapping between keys and columns\n",
      "\n",
      "R[write to console]: 'select()' returned 1:1 mapping between keys and columns\n",
      "\n",
      "R[write to console]: Error in .testForValidKeys(x, keys, keytype, fks) : \n",
      "  None of the keys entered are valid keys for 'ENSEMBL'. Please use the keys method to see a listing of valid arguments.\n",
      "\n",
      "R[write to console]: In addition: \n",
      "R[write to console]: There were 50 or more warnings (use warnings() to see the first 50)\n",
      "R[write to console]: \n",
      "\n",
      "<ipython-input-22-7a1c97894055>:22: UserWarning: Partitions k_40- failed.\n",
      "  warnings.warn(f\"Partitions {filename_prefix} failed.\")\n"
     ]
    },
    {
     "data": {
      "text/plain": [
       "'Partition with n_clusters=45'"
      ]
     },
     "metadata": {},
     "output_type": "display_data"
    },
    {
     "name": "stderr",
     "output_type": "stream",
     "text": [
      "R[write to console]: 'select()' returned 1:many mapping between keys and columns\n",
      "\n",
      "R[write to console]: 'select()' returned 1:many mapping between keys and columns\n",
      "\n",
      "R[write to console]: 'select()' returned 1:many mapping between keys and columns\n",
      "\n",
      "R[write to console]: 'select()' returned 1:1 mapping between keys and columns\n",
      "\n",
      "R[write to console]: 'select()' returned 1:many mapping between keys and columns\n",
      "\n",
      "R[write to console]: 'select()' returned 1:1 mapping between keys and columns\n",
      "\n",
      "R[write to console]: 'select()' returned 1:many mapping between keys and columns\n",
      "\n",
      "R[write to console]: 'select()' returned 1:many mapping between keys and columns\n",
      "\n",
      "R[write to console]: 'select()' returned 1:1 mapping between keys and columns\n",
      "\n",
      "R[write to console]: 'select()' returned 1:many mapping between keys and columns\n",
      "\n",
      "R[write to console]: 'select()' returned 1:1 mapping between keys and columns\n",
      "\n",
      "R[write to console]: 'select()' returned 1:1 mapping between keys and columns\n",
      "\n",
      "R[write to console]: 'select()' returned 1:many mapping between keys and columns\n",
      "\n",
      "R[write to console]: 'select()' returned 1:1 mapping between keys and columns\n",
      "\n",
      "R[write to console]: 'select()' returned 1:many mapping between keys and columns\n",
      "\n",
      "R[write to console]: 'select()' returned 1:1 mapping between keys and columns\n",
      "\n",
      "R[write to console]: 'select()' returned 1:1 mapping between keys and columns\n",
      "\n",
      "R[write to console]: 'select()' returned 1:1 mapping between keys and columns\n",
      "\n",
      "R[write to console]: Error in .testForValidKeys(x, keys, keytype, fks) : \n",
      "  None of the keys entered are valid keys for 'ENSEMBL'. Please use the keys method to see a listing of valid arguments.\n",
      "\n",
      "R[write to console]: In addition: \n",
      "R[write to console]: There were 13 warnings (use warnings() to see them)\n",
      "R[write to console]: \n",
      "\n",
      "<ipython-input-22-7a1c97894055>:22: UserWarning: Partitions k_45- failed.\n",
      "  warnings.warn(f\"Partitions {filename_prefix} failed.\")\n"
     ]
    },
    {
     "data": {
      "text/plain": [
       "'Partition with n_clusters=50'"
      ]
     },
     "metadata": {},
     "output_type": "display_data"
    },
    {
     "name": "stderr",
     "output_type": "stream",
     "text": [
      "R[write to console]: 'select()' returned 1:many mapping between keys and columns\n",
      "\n",
      "R[write to console]: 'select()' returned 1:many mapping between keys and columns\n",
      "\n",
      "R[write to console]: 'select()' returned 1:many mapping between keys and columns\n",
      "\n",
      "R[write to console]: 'select()' returned 1:many mapping between keys and columns\n",
      "\n",
      "R[write to console]: 'select()' returned 1:many mapping between keys and columns\n",
      "\n",
      "R[write to console]: 'select()' returned 1:1 mapping between keys and columns\n",
      "\n",
      "R[write to console]: 'select()' returned 1:many mapping between keys and columns\n",
      "\n",
      "R[write to console]: 'select()' returned 1:many mapping between keys and columns\n",
      "\n",
      "R[write to console]: 'select()' returned 1:1 mapping between keys and columns\n",
      "\n",
      "R[write to console]: 'select()' returned 1:many mapping between keys and columns\n",
      "\n",
      "R[write to console]: 'select()' returned 1:1 mapping between keys and columns\n",
      "\n",
      "R[write to console]: 'select()' returned 1:1 mapping between keys and columns\n",
      "\n",
      "R[write to console]: 'select()' returned 1:1 mapping between keys and columns\n",
      "\n",
      "R[write to console]: 'select()' returned 1:many mapping between keys and columns\n",
      "\n",
      "R[write to console]: 'select()' returned 1:1 mapping between keys and columns\n",
      "\n",
      "R[write to console]: 'select()' returned 1:1 mapping between keys and columns\n",
      "\n",
      "R[write to console]: 'select()' returned 1:1 mapping between keys and columns\n",
      "\n",
      "R[write to console]: 'select()' returned 1:many mapping between keys and columns\n",
      "\n",
      "R[write to console]: 'select()' returned 1:1 mapping between keys and columns\n",
      "\n",
      "R[write to console]: Error in .testForValidKeys(x, keys, keytype, fks) : \n",
      "  None of the keys entered are valid keys for 'ENSEMBL'. Please use the keys method to see a listing of valid arguments.\n",
      "\n",
      "R[write to console]: In addition: \n",
      "R[write to console]: There were 14 warnings (use warnings() to see them)\n",
      "R[write to console]: \n",
      "\n",
      "<ipython-input-22-7a1c97894055>:22: UserWarning: Partitions k_50- failed.\n",
      "  warnings.warn(f\"Partitions {filename_prefix} failed.\")\n"
     ]
    },
    {
     "data": {
      "text/plain": [
       "'Partition with n_clusters=55'"
      ]
     },
     "metadata": {},
     "output_type": "display_data"
    },
    {
     "name": "stderr",
     "output_type": "stream",
     "text": [
      "R[write to console]: 'select()' returned 1:many mapping between keys and columns\n",
      "\n",
      "R[write to console]: 'select()' returned 1:many mapping between keys and columns\n",
      "\n",
      "R[write to console]: 'select()' returned 1:many mapping between keys and columns\n",
      "\n",
      "R[write to console]: 'select()' returned 1:1 mapping between keys and columns\n",
      "\n",
      "R[write to console]: 'select()' returned 1:1 mapping between keys and columns\n",
      "\n",
      "R[write to console]: 'select()' returned 1:many mapping between keys and columns\n",
      "\n",
      "R[write to console]: 'select()' returned 1:1 mapping between keys and columns\n",
      "\n",
      "R[write to console]: 'select()' returned 1:1 mapping between keys and columns\n",
      "\n",
      "R[write to console]: 'select()' returned 1:1 mapping between keys and columns\n",
      "\n",
      "R[write to console]: 'select()' returned 1:many mapping between keys and columns\n",
      "\n",
      "R[write to console]: 'select()' returned 1:1 mapping between keys and columns\n",
      "\n",
      "R[write to console]: 'select()' returned 1:many mapping between keys and columns\n",
      "\n",
      "R[write to console]: 'select()' returned 1:1 mapping between keys and columns\n",
      "\n",
      "R[write to console]: 'select()' returned 1:1 mapping between keys and columns\n",
      "\n",
      "R[write to console]: 'select()' returned 1:1 mapping between keys and columns\n",
      "\n",
      "R[write to console]: 'select()' returned 1:many mapping between keys and columns\n",
      "\n",
      "R[write to console]: 'select()' returned 1:1 mapping between keys and columns\n",
      "\n",
      "R[write to console]: 'select()' returned 1:1 mapping between keys and columns\n",
      "\n",
      "R[write to console]: 'select()' returned 1:many mapping between keys and columns\n",
      "\n",
      "R[write to console]: 'select()' returned 1:1 mapping between keys and columns\n",
      "\n",
      "R[write to console]: 'select()' returned 1:1 mapping between keys and columns\n",
      "\n",
      "R[write to console]: Error in .testForValidKeys(x, keys, keytype, fks) : \n",
      "  None of the keys entered are valid keys for 'ENSEMBL'. Please use the keys method to see a listing of valid arguments.\n",
      "\n",
      "R[write to console]: In addition: \n",
      "R[write to console]: There were 15 warnings (use warnings() to see them)\n",
      "R[write to console]: \n",
      "\n",
      "<ipython-input-22-7a1c97894055>:22: UserWarning: Partitions k_55- failed.\n",
      "  warnings.warn(f\"Partitions {filename_prefix} failed.\")\n"
     ]
    },
    {
     "data": {
      "text/plain": [
       "'Partition with n_clusters=60'"
      ]
     },
     "metadata": {},
     "output_type": "display_data"
    },
    {
     "name": "stderr",
     "output_type": "stream",
     "text": [
      "R[write to console]: 'select()' returned 1:many mapping between keys and columns\n",
      "\n",
      "R[write to console]: 'select()' returned 1:many mapping between keys and columns\n",
      "\n",
      "R[write to console]: 'select()' returned 1:many mapping between keys and columns\n",
      "\n",
      "R[write to console]: 'select()' returned 1:many mapping between keys and columns\n",
      "\n",
      "R[write to console]: 'select()' returned 1:1 mapping between keys and columns\n",
      "\n",
      "R[write to console]: 'select()' returned 1:1 mapping between keys and columns\n",
      "\n",
      "R[write to console]: 'select()' returned 1:many mapping between keys and columns\n",
      "\n",
      "R[write to console]: 'select()' returned 1:many mapping between keys and columns\n",
      "\n",
      "R[write to console]: 'select()' returned 1:many mapping between keys and columns\n",
      "\n",
      "R[write to console]: 'select()' returned 1:1 mapping between keys and columns\n",
      "\n",
      "R[write to console]: 'select()' returned 1:1 mapping between keys and columns\n",
      "\n",
      "R[write to console]: 'select()' returned 1:1 mapping between keys and columns\n",
      "\n",
      "R[write to console]: 'select()' returned 1:many mapping between keys and columns\n",
      "\n",
      "R[write to console]: 'select()' returned 1:many mapping between keys and columns\n",
      "\n",
      "R[write to console]: 'select()' returned 1:1 mapping between keys and columns\n",
      "\n",
      "R[write to console]: 'select()' returned 1:1 mapping between keys and columns\n",
      "\n",
      "R[write to console]: 'select()' returned 1:1 mapping between keys and columns\n",
      "\n",
      "R[write to console]: 'select()' returned 1:many mapping between keys and columns\n",
      "\n",
      "R[write to console]: 'select()' returned 1:1 mapping between keys and columns\n",
      "\n",
      "R[write to console]: 'select()' returned 1:1 mapping between keys and columns\n",
      "\n",
      "R[write to console]: 'select()' returned 1:1 mapping between keys and columns\n",
      "\n",
      "R[write to console]: 'select()' returned 1:1 mapping between keys and columns\n",
      "\n",
      "R[write to console]: Error in .testForValidKeys(x, keys, keytype, fks) : \n",
      "  None of the keys entered are valid keys for 'ENSEMBL'. Please use the keys method to see a listing of valid arguments.\n",
      "\n",
      "R[write to console]: In addition: \n",
      "R[write to console]: There were 16 warnings (use warnings() to see them)\n",
      "R[write to console]: \n",
      "\n",
      "<ipython-input-22-7a1c97894055>:22: UserWarning: Partitions k_60- failed.\n",
      "  warnings.warn(f\"Partitions {filename_prefix} failed.\")\n"
     ]
    },
    {
     "data": {
      "text/plain": [
       "'Partition with n_clusters=65'"
      ]
     },
     "metadata": {},
     "output_type": "display_data"
    },
    {
     "name": "stderr",
     "output_type": "stream",
     "text": [
      "R[write to console]: 'select()' returned 1:many mapping between keys and columns\n",
      "\n",
      "R[write to console]: 'select()' returned 1:many mapping between keys and columns\n",
      "\n",
      "R[write to console]: 'select()' returned 1:many mapping between keys and columns\n",
      "\n",
      "R[write to console]: 'select()' returned 1:many mapping between keys and columns\n",
      "\n",
      "R[write to console]: 'select()' returned 1:many mapping between keys and columns\n",
      "\n",
      "R[write to console]: 'select()' returned 1:1 mapping between keys and columns\n",
      "\n",
      "R[write to console]: 'select()' returned 1:many mapping between keys and columns\n",
      "\n",
      "R[write to console]: 'select()' returned 1:many mapping between keys and columns\n",
      "\n",
      "R[write to console]: 'select()' returned 1:1 mapping between keys and columns\n",
      "\n",
      "R[write to console]: 'select()' returned 1:1 mapping between keys and columns\n",
      "\n",
      "R[write to console]: 'select()' returned 1:many mapping between keys and columns\n",
      "\n",
      "R[write to console]: 'select()' returned 1:1 mapping between keys and columns\n",
      "\n",
      "R[write to console]: 'select()' returned 1:many mapping between keys and columns\n",
      "\n",
      "R[write to console]: 'select()' returned 1:1 mapping between keys and columns\n",
      "\n",
      "R[write to console]: 'select()' returned 1:many mapping between keys and columns\n",
      "\n",
      "R[write to console]: 'select()' returned 1:1 mapping between keys and columns\n",
      "\n",
      "R[write to console]: 'select()' returned 1:1 mapping between keys and columns\n",
      "\n",
      "R[write to console]: 'select()' returned 1:1 mapping between keys and columns\n",
      "\n",
      "R[write to console]: 'select()' returned 1:1 mapping between keys and columns\n",
      "\n",
      "R[write to console]: 'select()' returned 1:many mapping between keys and columns\n",
      "\n",
      "R[write to console]: 'select()' returned 1:many mapping between keys and columns\n",
      "\n",
      "R[write to console]: 'select()' returned 1:1 mapping between keys and columns\n",
      "\n",
      "R[write to console]: 'select()' returned 1:1 mapping between keys and columns\n",
      "\n",
      "R[write to console]: 'select()' returned 1:1 mapping between keys and columns\n",
      "\n",
      "R[write to console]: 'select()' returned 1:1 mapping between keys and columns\n",
      "\n",
      "R[write to console]: Error in .testForValidKeys(x, keys, keytype, fks) : \n",
      "  None of the keys entered are valid keys for 'ENSEMBL'. Please use the keys method to see a listing of valid arguments.\n",
      "\n",
      "R[write to console]: In addition: \n",
      "R[write to console]: There were 18 warnings (use warnings() to see them)\n",
      "R[write to console]: \n",
      "\n",
      "<ipython-input-22-7a1c97894055>:22: UserWarning: Partitions k_65- failed.\n",
      "  warnings.warn(f\"Partitions {filename_prefix} failed.\")\n"
     ]
    },
    {
     "data": {
      "text/plain": [
       "'Partition with n_clusters=70'"
      ]
     },
     "metadata": {},
     "output_type": "display_data"
    },
    {
     "name": "stderr",
     "output_type": "stream",
     "text": [
      "R[write to console]: 'select()' returned 1:many mapping between keys and columns\n",
      "\n",
      "R[write to console]: 'select()' returned 1:many mapping between keys and columns\n",
      "\n",
      "R[write to console]: 'select()' returned 1:many mapping between keys and columns\n",
      "\n",
      "R[write to console]: 'select()' returned 1:many mapping between keys and columns\n",
      "\n",
      "R[write to console]: 'select()' returned 1:1 mapping between keys and columns\n",
      "\n",
      "R[write to console]: 'select()' returned 1:1 mapping between keys and columns\n",
      "\n",
      "R[write to console]: 'select()' returned 1:1 mapping between keys and columns\n",
      "\n",
      "R[write to console]: 'select()' returned 1:1 mapping between keys and columns\n",
      "\n",
      "R[write to console]: 'select()' returned 1:1 mapping between keys and columns\n",
      "\n",
      "R[write to console]: 'select()' returned 1:1 mapping between keys and columns\n",
      "\n",
      "R[write to console]: 'select()' returned 1:many mapping between keys and columns\n",
      "\n",
      "R[write to console]: 'select()' returned 1:1 mapping between keys and columns\n",
      "\n",
      "R[write to console]: 'select()' returned 1:many mapping between keys and columns\n",
      "\n",
      "R[write to console]: 'select()' returned 1:1 mapping between keys and columns\n",
      "\n",
      "R[write to console]: 'select()' returned 1:many mapping between keys and columns\n",
      "\n",
      "R[write to console]: 'select()' returned 1:1 mapping between keys and columns\n",
      "\n",
      "R[write to console]: 'select()' returned 1:1 mapping between keys and columns\n",
      "\n",
      "R[write to console]: 'select()' returned 1:1 mapping between keys and columns\n",
      "\n",
      "R[write to console]: 'select()' returned 1:many mapping between keys and columns\n",
      "\n",
      "R[write to console]: 'select()' returned 1:1 mapping between keys and columns\n",
      "\n",
      "R[write to console]: 'select()' returned 1:1 mapping between keys and columns\n",
      "\n",
      "R[write to console]: 'select()' returned 1:1 mapping between keys and columns\n",
      "\n",
      "R[write to console]: 'select()' returned 1:1 mapping between keys and columns\n",
      "\n",
      "R[write to console]: 'select()' returned 1:1 mapping between keys and columns\n",
      "\n",
      "R[write to console]: 'select()' returned 1:many mapping between keys and columns\n",
      "\n",
      "R[write to console]: 'select()' returned 1:1 mapping between keys and columns\n",
      "\n",
      "R[write to console]: Error in .testForValidKeys(x, keys, keytype, fks) : \n",
      "  None of the keys entered are valid keys for 'ENSEMBL'. Please use the keys method to see a listing of valid arguments.\n",
      "\n",
      "R[write to console]: In addition: \n",
      "R[write to console]: There were 18 warnings (use warnings() to see them)\n",
      "R[write to console]: \n",
      "\n",
      "<ipython-input-22-7a1c97894055>:22: UserWarning: Partitions k_70- failed.\n",
      "  warnings.warn(f\"Partitions {filename_prefix} failed.\")\n"
     ]
    },
    {
     "data": {
      "text/plain": [
       "'Partition with n_clusters=75'"
      ]
     },
     "metadata": {},
     "output_type": "display_data"
    },
    {
     "name": "stderr",
     "output_type": "stream",
     "text": [
      "R[write to console]: 'select()' returned 1:many mapping between keys and columns\n",
      "\n",
      "R[write to console]: 'select()' returned 1:many mapping between keys and columns\n",
      "\n",
      "R[write to console]: 'select()' returned 1:many mapping between keys and columns\n",
      "\n",
      "R[write to console]: 'select()' returned 1:many mapping between keys and columns\n",
      "\n",
      "R[write to console]: 'select()' returned 1:many mapping between keys and columns\n",
      "\n",
      "R[write to console]: 'select()' returned 1:many mapping between keys and columns\n",
      "\n",
      "R[write to console]: 'select()' returned 1:1 mapping between keys and columns\n",
      "\n",
      "R[write to console]: 'select()' returned 1:1 mapping between keys and columns\n",
      "\n",
      "R[write to console]: 'select()' returned 1:many mapping between keys and columns\n",
      "\n",
      "R[write to console]: 'select()' returned 1:many mapping between keys and columns\n",
      "\n",
      "R[write to console]: 'select()' returned 1:1 mapping between keys and columns\n",
      "\n",
      "R[write to console]: 'select()' returned 1:1 mapping between keys and columns\n",
      "\n",
      "R[write to console]: 'select()' returned 1:1 mapping between keys and columns\n",
      "\n",
      "R[write to console]: 'select()' returned 1:1 mapping between keys and columns\n",
      "\n",
      "R[write to console]: 'select()' returned 1:many mapping between keys and columns\n",
      "\n",
      "R[write to console]: 'select()' returned 1:1 mapping between keys and columns\n",
      "\n",
      "R[write to console]: 'select()' returned 1:1 mapping between keys and columns\n",
      "\n",
      "R[write to console]: 'select()' returned 1:1 mapping between keys and columns\n",
      "\n",
      "R[write to console]: 'select()' returned 1:many mapping between keys and columns\n",
      "\n",
      "R[write to console]: 'select()' returned 1:1 mapping between keys and columns\n",
      "\n",
      "R[write to console]: 'select()' returned 1:1 mapping between keys and columns\n",
      "\n",
      "R[write to console]: 'select()' returned 1:many mapping between keys and columns\n",
      "\n",
      "R[write to console]: 'select()' returned 1:1 mapping between keys and columns\n",
      "\n",
      "R[write to console]: 'select()' returned 1:1 mapping between keys and columns\n",
      "\n",
      "R[write to console]: 'select()' returned 1:1 mapping between keys and columns\n",
      "\n",
      "R[write to console]: Error in .testForValidKeys(x, keys, keytype, fks) : \n",
      "  None of the keys entered are valid keys for 'ENSEMBL'. Please use the keys method to see a listing of valid arguments.\n",
      "\n",
      "R[write to console]: In addition: \n",
      "R[write to console]: There were 14 warnings (use warnings() to see them)\n",
      "R[write to console]: \n",
      "\n",
      "<ipython-input-22-7a1c97894055>:22: UserWarning: Partitions k_75- failed.\n",
      "  warnings.warn(f\"Partitions {filename_prefix} failed.\")\n"
     ]
    },
    {
     "data": {
      "text/plain": [
       "'Partition with n_clusters=80'"
      ]
     },
     "metadata": {},
     "output_type": "display_data"
    },
    {
     "name": "stderr",
     "output_type": "stream",
     "text": [
      "R[write to console]: 'select()' returned 1:many mapping between keys and columns\n",
      "\n",
      "R[write to console]: 'select()' returned 1:many mapping between keys and columns\n",
      "\n",
      "R[write to console]: 'select()' returned 1:many mapping between keys and columns\n",
      "\n",
      "R[write to console]: 'select()' returned 1:many mapping between keys and columns\n",
      "\n",
      "R[write to console]: 'select()' returned 1:1 mapping between keys and columns\n",
      "\n",
      "R[write to console]: 'select()' returned 1:1 mapping between keys and columns\n",
      "\n",
      "R[write to console]: 'select()' returned 1:many mapping between keys and columns\n",
      "\n",
      "R[write to console]: 'select()' returned 1:many mapping between keys and columns\n",
      "\n",
      "R[write to console]: 'select()' returned 1:1 mapping between keys and columns\n",
      "\n",
      "R[write to console]: 'select()' returned 1:1 mapping between keys and columns\n",
      "\n",
      "R[write to console]: 'select()' returned 1:1 mapping between keys and columns\n",
      "\n",
      "R[write to console]: 'select()' returned 1:1 mapping between keys and columns\n",
      "\n",
      "R[write to console]: 'select()' returned 1:1 mapping between keys and columns\n",
      "\n",
      "R[write to console]: 'select()' returned 1:1 mapping between keys and columns\n",
      "\n",
      "R[write to console]: 'select()' returned 1:1 mapping between keys and columns\n",
      "\n",
      "R[write to console]: 'select()' returned 1:many mapping between keys and columns\n",
      "\n",
      "R[write to console]: 'select()' returned 1:1 mapping between keys and columns\n",
      "\n",
      "R[write to console]: 'select()' returned 1:many mapping between keys and columns\n",
      "\n",
      "R[write to console]: 'select()' returned 1:many mapping between keys and columns\n",
      "\n",
      "R[write to console]: 'select()' returned 1:many mapping between keys and columns\n",
      "\n",
      "R[write to console]: 'select()' returned 1:1 mapping between keys and columns\n",
      "\n",
      "R[write to console]: 'select()' returned 1:1 mapping between keys and columns\n",
      "\n",
      "R[write to console]: Error in .testForValidKeys(x, keys, keytype, fks) : \n",
      "  None of the keys entered are valid keys for 'ENSEMBL'. Please use the keys method to see a listing of valid arguments.\n",
      "\n",
      "R[write to console]: In addition: \n",
      "R[write to console]: There were 14 warnings (use warnings() to see them)\n",
      "R[write to console]: \n",
      "\n",
      "<ipython-input-22-7a1c97894055>:22: UserWarning: Partitions k_80- failed.\n",
      "  warnings.warn(f\"Partitions {filename_prefix} failed.\")\n"
     ]
    },
    {
     "data": {
      "text/plain": [
       "'Partition with n_clusters=90'"
      ]
     },
     "metadata": {},
     "output_type": "display_data"
    },
    {
     "name": "stderr",
     "output_type": "stream",
     "text": [
      "R[write to console]: 'select()' returned 1:many mapping between keys and columns\n",
      "\n",
      "R[write to console]: 'select()' returned 1:many mapping between keys and columns\n",
      "\n",
      "R[write to console]: 'select()' returned 1:many mapping between keys and columns\n",
      "\n",
      "R[write to console]: 'select()' returned 1:many mapping between keys and columns\n",
      "\n",
      "R[write to console]: 'select()' returned 1:many mapping between keys and columns\n",
      "\n",
      "R[write to console]: 'select()' returned 1:1 mapping between keys and columns\n",
      "\n",
      "R[write to console]: 'select()' returned 1:1 mapping between keys and columns\n",
      "\n",
      "R[write to console]: 'select()' returned 1:many mapping between keys and columns\n",
      "\n",
      "R[write to console]: 'select()' returned 1:1 mapping between keys and columns\n",
      "\n",
      "R[write to console]: 'select()' returned 1:1 mapping between keys and columns\n",
      "\n",
      "R[write to console]: 'select()' returned 1:1 mapping between keys and columns\n",
      "\n",
      "R[write to console]: 'select()' returned 1:1 mapping between keys and columns\n",
      "\n",
      "R[write to console]: 'select()' returned 1:1 mapping between keys and columns\n",
      "\n",
      "R[write to console]: 'select()' returned 1:many mapping between keys and columns\n",
      "\n",
      "R[write to console]: 'select()' returned 1:1 mapping between keys and columns\n",
      "\n",
      "R[write to console]: 'select()' returned 1:1 mapping between keys and columns\n",
      "\n",
      "R[write to console]: 'select()' returned 1:1 mapping between keys and columns\n",
      "\n",
      "R[write to console]: 'select()' returned 1:1 mapping between keys and columns\n",
      "\n",
      "R[write to console]: 'select()' returned 1:many mapping between keys and columns\n",
      "\n",
      "R[write to console]: 'select()' returned 1:1 mapping between keys and columns\n",
      "\n",
      "R[write to console]: 'select()' returned 1:many mapping between keys and columns\n",
      "\n",
      "R[write to console]: 'select()' returned 1:1 mapping between keys and columns\n",
      "\n",
      "R[write to console]: 'select()' returned 1:1 mapping between keys and columns\n",
      "\n",
      "R[write to console]: 'select()' returned 1:1 mapping between keys and columns\n",
      "\n",
      "R[write to console]: 'select()' returned 1:many mapping between keys and columns\n",
      "\n",
      "R[write to console]: 'select()' returned 1:1 mapping between keys and columns\n",
      "\n",
      "R[write to console]: 'select()' returned 1:many mapping between keys and columns\n",
      "\n",
      "R[write to console]: 'select()' returned 1:1 mapping between keys and columns\n",
      "\n",
      "R[write to console]: Error in .testForValidKeys(x, keys, keytype, fks) : \n",
      "  None of the keys entered are valid keys for 'ENSEMBL'. Please use the keys method to see a listing of valid arguments.\n",
      "\n",
      "R[write to console]: In addition: \n",
      "R[write to console]: There were 19 warnings (use warnings() to see them)\n",
      "R[write to console]: \n",
      "\n",
      "<ipython-input-22-7a1c97894055>:22: UserWarning: Partitions k_90- failed.\n",
      "  warnings.warn(f\"Partitions {filename_prefix} failed.\")\n"
     ]
    },
    {
     "data": {
      "text/plain": [
       "'Partition with n_clusters=95'"
      ]
     },
     "metadata": {},
     "output_type": "display_data"
    },
    {
     "name": "stderr",
     "output_type": "stream",
     "text": [
      "R[write to console]: 'select()' returned 1:many mapping between keys and columns\n",
      "\n",
      "R[write to console]: 'select()' returned 1:many mapping between keys and columns\n",
      "\n",
      "R[write to console]: 'select()' returned 1:many mapping between keys and columns\n",
      "\n",
      "R[write to console]: 'select()' returned 1:many mapping between keys and columns\n",
      "\n",
      "R[write to console]: 'select()' returned 1:many mapping between keys and columns\n",
      "\n",
      "R[write to console]: 'select()' returned 1:many mapping between keys and columns\n",
      "\n",
      "R[write to console]: 'select()' returned 1:many mapping between keys and columns\n",
      "\n",
      "R[write to console]: 'select()' returned 1:1 mapping between keys and columns\n",
      "\n",
      "R[write to console]: 'select()' returned 1:1 mapping between keys and columns\n",
      "\n",
      "R[write to console]: 'select()' returned 1:1 mapping between keys and columns\n",
      "\n",
      "R[write to console]: 'select()' returned 1:many mapping between keys and columns\n",
      "\n",
      "R[write to console]: 'select()' returned 1:1 mapping between keys and columns\n",
      "\n",
      "R[write to console]: 'select()' returned 1:1 mapping between keys and columns\n",
      "\n",
      "R[write to console]: 'select()' returned 1:1 mapping between keys and columns\n",
      "\n",
      "R[write to console]: 'select()' returned 1:1 mapping between keys and columns\n",
      "\n",
      "R[write to console]: 'select()' returned 1:1 mapping between keys and columns\n",
      "\n",
      "R[write to console]: 'select()' returned 1:1 mapping between keys and columns\n",
      "\n",
      "R[write to console]: 'select()' returned 1:1 mapping between keys and columns\n",
      "\n",
      "R[write to console]: 'select()' returned 1:1 mapping between keys and columns\n",
      "\n",
      "R[write to console]: 'select()' returned 1:1 mapping between keys and columns\n",
      "\n",
      "R[write to console]: 'select()' returned 1:many mapping between keys and columns\n",
      "\n",
      "R[write to console]: 'select()' returned 1:many mapping between keys and columns\n",
      "\n",
      "R[write to console]: 'select()' returned 1:1 mapping between keys and columns\n",
      "\n",
      "R[write to console]: 'select()' returned 1:1 mapping between keys and columns\n",
      "\n",
      "R[write to console]: 'select()' returned 1:1 mapping between keys and columns\n",
      "\n",
      "R[write to console]: 'select()' returned 1:many mapping between keys and columns\n",
      "\n",
      "R[write to console]: 'select()' returned 1:1 mapping between keys and columns\n",
      "\n",
      "R[write to console]: 'select()' returned 1:many mapping between keys and columns\n",
      "\n",
      "R[write to console]: 'select()' returned 1:many mapping between keys and columns\n",
      "\n",
      "R[write to console]: 'select()' returned 1:1 mapping between keys and columns\n",
      "\n",
      "R[write to console]: 'select()' returned 1:1 mapping between keys and columns\n",
      "\n",
      "R[write to console]: Error in .testForValidKeys(x, keys, keytype, fks) : \n",
      "  None of the keys entered are valid keys for 'ENSEMBL'. Please use the keys method to see a listing of valid arguments.\n",
      "\n",
      "R[write to console]: In addition: \n",
      "R[write to console]: There were 18 warnings (use warnings() to see them)\n",
      "R[write to console]: \n",
      "\n",
      "<ipython-input-22-7a1c97894055>:22: UserWarning: Partitions k_95- failed.\n",
      "  warnings.warn(f\"Partitions {filename_prefix} failed.\")\n"
     ]
    },
    {
     "data": {
      "text/plain": [
       "'Partition with n_clusters=100'"
      ]
     },
     "metadata": {},
     "output_type": "display_data"
    },
    {
     "name": "stderr",
     "output_type": "stream",
     "text": [
      "R[write to console]: 'select()' returned 1:many mapping between keys and columns\n",
      "\n",
      "R[write to console]: 'select()' returned 1:many mapping between keys and columns\n",
      "\n",
      "R[write to console]: 'select()' returned 1:many mapping between keys and columns\n",
      "\n",
      "R[write to console]: 'select()' returned 1:many mapping between keys and columns\n",
      "\n",
      "R[write to console]: 'select()' returned 1:1 mapping between keys and columns\n",
      "\n",
      "R[write to console]: 'select()' returned 1:many mapping between keys and columns\n",
      "\n",
      "R[write to console]: 'select()' returned 1:many mapping between keys and columns\n",
      "\n",
      "R[write to console]: 'select()' returned 1:many mapping between keys and columns\n",
      "\n",
      "R[write to console]: 'select()' returned 1:1 mapping between keys and columns\n",
      "\n",
      "R[write to console]: 'select()' returned 1:1 mapping between keys and columns\n",
      "\n",
      "R[write to console]: 'select()' returned 1:1 mapping between keys and columns\n",
      "\n",
      "R[write to console]: 'select()' returned 1:many mapping between keys and columns\n",
      "\n",
      "R[write to console]: 'select()' returned 1:1 mapping between keys and columns\n",
      "\n",
      "R[write to console]: 'select()' returned 1:1 mapping between keys and columns\n",
      "\n",
      "R[write to console]: 'select()' returned 1:1 mapping between keys and columns\n",
      "\n",
      "R[write to console]: 'select()' returned 1:many mapping between keys and columns\n",
      "\n",
      "R[write to console]: 'select()' returned 1:1 mapping between keys and columns\n",
      "\n",
      "R[write to console]: 'select()' returned 1:1 mapping between keys and columns\n",
      "\n",
      "R[write to console]: 'select()' returned 1:1 mapping between keys and columns\n",
      "\n",
      "R[write to console]: 'select()' returned 1:many mapping between keys and columns\n",
      "\n",
      "R[write to console]: 'select()' returned 1:1 mapping between keys and columns\n",
      "\n",
      "R[write to console]: 'select()' returned 1:1 mapping between keys and columns\n",
      "\n",
      "R[write to console]: 'select()' returned 1:many mapping between keys and columns\n",
      "\n",
      "R[write to console]: 'select()' returned 1:many mapping between keys and columns\n",
      "\n",
      "R[write to console]: 'select()' returned 1:1 mapping between keys and columns\n",
      "\n",
      "R[write to console]: 'select()' returned 1:1 mapping between keys and columns\n",
      "\n",
      "R[write to console]: 'select()' returned 1:1 mapping between keys and columns\n",
      "\n",
      "R[write to console]: 'select()' returned 1:1 mapping between keys and columns\n",
      "\n",
      "R[write to console]: Error in .testForValidKeys(x, keys, keytype, fks) : \n",
      "  None of the keys entered are valid keys for 'ENSEMBL'. Please use the keys method to see a listing of valid arguments.\n",
      "\n",
      "R[write to console]: In addition: \n",
      "R[write to console]: There were 17 warnings (use warnings() to see them)\n",
      "R[write to console]: \n",
      "\n",
      "<ipython-input-22-7a1c97894055>:22: UserWarning: Partitions k_100- failed.\n",
      "  warnings.warn(f\"Partitions {filename_prefix} failed.\")\n"
     ]
    },
    {
     "data": {
      "text/plain": [
       "'Partition with n_clusters=200'"
      ]
     },
     "metadata": {},
     "output_type": "display_data"
    },
    {
     "name": "stderr",
     "output_type": "stream",
     "text": [
      "R[write to console]: 'select()' returned 1:many mapping between keys and columns\n",
      "\n",
      "R[write to console]: 'select()' returned 1:1 mapping between keys and columns\n",
      "\n",
      "R[write to console]: 'select()' returned 1:many mapping between keys and columns\n",
      "\n",
      "R[write to console]: 'select()' returned 1:1 mapping between keys and columns\n",
      "\n",
      "R[write to console]: 'select()' returned 1:1 mapping between keys and columns\n",
      "\n",
      "R[write to console]: 'select()' returned 1:1 mapping between keys and columns\n",
      "\n",
      "R[write to console]: 'select()' returned 1:1 mapping between keys and columns\n",
      "\n",
      "R[write to console]: 'select()' returned 1:many mapping between keys and columns\n",
      "\n",
      "R[write to console]: 'select()' returned 1:1 mapping between keys and columns\n",
      "\n",
      "R[write to console]: 'select()' returned 1:1 mapping between keys and columns\n",
      "\n",
      "R[write to console]: 'select()' returned 1:many mapping between keys and columns\n",
      "\n",
      "R[write to console]: 'select()' returned 1:many mapping between keys and columns\n",
      "\n",
      "R[write to console]: 'select()' returned 1:1 mapping between keys and columns\n",
      "\n",
      "R[write to console]: 'select()' returned 1:1 mapping between keys and columns\n",
      "\n",
      "R[write to console]: 'select()' returned 1:1 mapping between keys and columns\n",
      "\n",
      "R[write to console]: 'select()' returned 1:1 mapping between keys and columns\n",
      "\n",
      "R[write to console]: 'select()' returned 1:1 mapping between keys and columns\n",
      "\n",
      "R[write to console]: 'select()' returned 1:1 mapping between keys and columns\n",
      "\n",
      "R[write to console]: 'select()' returned 1:1 mapping between keys and columns\n",
      "\n",
      "R[write to console]: 'select()' returned 1:1 mapping between keys and columns\n",
      "\n",
      "R[write to console]: 'select()' returned 1:1 mapping between keys and columns\n",
      "\n",
      "R[write to console]: 'select()' returned 1:many mapping between keys and columns\n",
      "\n",
      "R[write to console]: 'select()' returned 1:1 mapping between keys and columns\n",
      "\n",
      "R[write to console]: 'select()' returned 1:1 mapping between keys and columns\n",
      "\n",
      "R[write to console]: 'select()' returned 1:1 mapping between keys and columns\n",
      "\n",
      "R[write to console]: 'select()' returned 1:1 mapping between keys and columns\n",
      "\n",
      "R[write to console]: 'select()' returned 1:1 mapping between keys and columns\n",
      "\n",
      "R[write to console]: 'select()' returned 1:1 mapping between keys and columns\n",
      "\n",
      "R[write to console]: 'select()' returned 1:1 mapping between keys and columns\n",
      "\n",
      "R[write to console]: 'select()' returned 1:1 mapping between keys and columns\n",
      "\n",
      "R[write to console]: 'select()' returned 1:many mapping between keys and columns\n",
      "\n",
      "R[write to console]: 'select()' returned 1:1 mapping between keys and columns\n",
      "\n",
      "R[write to console]: 'select()' returned 1:1 mapping between keys and columns\n",
      "\n",
      "R[write to console]: 'select()' returned 1:1 mapping between keys and columns\n",
      "\n",
      "R[write to console]: 'select()' returned 1:many mapping between keys and columns\n",
      "\n",
      "R[write to console]: 'select()' returned 1:1 mapping between keys and columns\n",
      "\n",
      "R[write to console]: 'select()' returned 1:1 mapping between keys and columns\n",
      "\n",
      "R[write to console]: 'select()' returned 1:many mapping between keys and columns\n",
      "\n",
      "R[write to console]: 'select()' returned 1:1 mapping between keys and columns\n",
      "\n",
      "R[write to console]: 'select()' returned 1:1 mapping between keys and columns\n",
      "\n",
      "R[write to console]: 'select()' returned 1:1 mapping between keys and columns\n",
      "\n",
      "R[write to console]: 'select()' returned 1:1 mapping between keys and columns\n",
      "\n",
      "R[write to console]: 'select()' returned 1:1 mapping between keys and columns\n",
      "\n",
      "R[write to console]: 'select()' returned 1:1 mapping between keys and columns\n",
      "\n",
      "R[write to console]: 'select()' returned 1:1 mapping between keys and columns\n",
      "\n",
      "R[write to console]: 'select()' returned 1:1 mapping between keys and columns\n",
      "\n",
      "R[write to console]: 'select()' returned 1:1 mapping between keys and columns\n",
      "\n",
      "R[write to console]: 'select()' returned 1:1 mapping between keys and columns\n",
      "\n",
      "R[write to console]: 'select()' returned 1:1 mapping between keys and columns\n",
      "\n",
      "R[write to console]: 'select()' returned 1:1 mapping between keys and columns\n",
      "\n",
      "R[write to console]: 'select()' returned 1:1 mapping between keys and columns\n",
      "\n",
      "R[write to console]: 'select()' returned 1:1 mapping between keys and columns\n",
      "\n",
      "R[write to console]: 'select()' returned 1:many mapping between keys and columns\n",
      "\n",
      "R[write to console]: 'select()' returned 1:1 mapping between keys and columns\n",
      "\n",
      "R[write to console]: 'select()' returned 1:1 mapping between keys and columns\n",
      "\n",
      "R[write to console]: Error in .testForValidKeys(x, keys, keytype, fks) : \n",
      "  None of the keys entered are valid keys for 'ENSEMBL'. Please use the keys method to see a listing of valid arguments.\n",
      "\n",
      "R[write to console]: In addition: \n",
      "R[write to console]: There were 23 warnings (use warnings() to see them)\n",
      "R[write to console]: \n",
      "\n",
      "<ipython-input-22-7a1c97894055>:22: UserWarning: Partitions k_200- failed.\n",
      "  warnings.warn(f\"Partitions {filename_prefix} failed.\")\n"
     ]
    }
   ],
   "source": [
    "for idx, cr in cm_results.sort_values(\"n_clusters\").iterrows():\n",
    "    display(f\"Partition with n_clusters={cr.n_clusters}\")\n",
    "\n",
    "    prefix = f\"k_{cr.n_clusters}-\"\n",
    "    run_enrich(prefix, cr.partition)"
   ]
  },
  {
   "cell_type": "code",
   "execution_count": null,
   "id": "chicken-institute",
   "metadata": {
    "papermill": {
     "duration": 0.106254,
     "end_time": "2021-03-02T14:51:33.895875",
     "exception": false,
     "start_time": "2021-03-02T14:51:33.789621",
     "status": "completed"
    },
    "tags": []
   },
   "outputs": [],
   "source": []
  }
 ],
 "metadata": {
  "jupytext": {
   "cell_metadata_filter": "all,-execution,-papermill,-trusted"
  },
  "kernelspec": {
   "display_name": "Python 3 (ipykernel)",
   "language": "python",
   "name": "python3"
  },
  "language_info": {
   "codemirror_mode": {
    "name": "ipython",
    "version": 3
   },
   "file_extension": ".py",
   "mimetype": "text/x-python",
   "name": "python",
   "nbconvert_exporter": "python",
   "pygments_lexer": "ipython3",
   "version": "3.9.6"
  },
  "papermill": {
   "default_parameters": {},
   "duration": 963.33891,
   "end_time": "2021-03-02T14:51:34.809011",
   "environment_variables": {},
   "exception": null,
   "input_path": "05_cluster_analysis/15_00-clustermatch-reactome_enrichment.ipynb",
   "output_path": "05_cluster_analysis/15_00-clustermatch-reactome_enrichment.run.ipynb",
   "parameters": {},
   "start_time": "2021-03-02T14:35:31.470101",
   "version": "2.3.2"
  },
  "toc-autonumbering": true
 },
 "nbformat": 4,
 "nbformat_minor": 5
}
