{
 "cells": [
  {
   "cell_type": "markdown",
   "id": "express-petite",
   "metadata": {
    "papermill": {
     "duration": 0.054387,
     "end_time": "2021-03-01T14:47:27.249480",
     "exception": false,
     "start_time": "2021-03-01T14:47:27.195093",
     "status": "completed"
    },
    "tags": []
   },
   "source": [
    "# Modules loading"
   ]
  },
  {
   "cell_type": "code",
   "execution_count": 1,
   "id": "informed-print",
   "metadata": {
    "execution": {
     "iopub.execute_input": "2021-03-01T14:47:27.290028Z",
     "iopub.status.busy": "2021-03-01T14:47:27.289650Z",
     "iopub.status.idle": "2021-03-01T14:47:27.296443Z",
     "shell.execute_reply": "2021-03-01T14:47:27.296801Z"
    },
    "papermill": {
     "duration": 0.029187,
     "end_time": "2021-03-01T14:47:27.296957",
     "exception": false,
     "start_time": "2021-03-01T14:47:27.267770",
     "status": "completed"
    },
    "tags": []
   },
   "outputs": [],
   "source": [
    "%load_ext autoreload\n",
    "%autoreload 2"
   ]
  },
  {
   "cell_type": "code",
   "execution_count": 2,
   "id": "domestic-semiconductor",
   "metadata": {
    "execution": {
     "iopub.execute_input": "2021-03-01T14:47:27.333760Z",
     "iopub.status.busy": "2021-03-01T14:47:27.333379Z",
     "iopub.status.idle": "2021-03-01T14:47:27.510545Z",
     "shell.execute_reply": "2021-03-01T14:47:27.510861Z"
    },
    "papermill": {
     "duration": 0.196563,
     "end_time": "2021-03-01T14:47:27.510969",
     "exception": false,
     "start_time": "2021-03-01T14:47:27.314406",
     "status": "completed"
    },
    "tags": []
   },
   "outputs": [],
   "source": [
    "from pathlib import Path\n",
    "\n",
    "import pandas as pd"
   ]
  },
  {
   "cell_type": "markdown",
   "id": "natural-husband",
   "metadata": {
    "papermill": {
     "duration": 0.01728,
     "end_time": "2021-03-01T14:47:27.545820",
     "exception": false,
     "start_time": "2021-03-01T14:47:27.528540",
     "status": "completed"
    },
    "tags": []
   },
   "source": [
    "# Settings"
   ]
  },
  {
   "cell_type": "code",
   "execution_count": 3,
   "id": "under-suspension",
   "metadata": {
    "execution": {
     "iopub.execute_input": "2021-03-01T14:47:27.581956Z",
     "iopub.status.busy": "2021-03-01T14:47:27.581587Z",
     "iopub.status.idle": "2021-03-01T14:47:27.588788Z",
     "shell.execute_reply": "2021-03-01T14:47:27.588380Z"
    },
    "papermill": {
     "duration": 0.026237,
     "end_time": "2021-03-01T14:47:27.588886",
     "exception": false,
     "start_time": "2021-03-01T14:47:27.562649",
     "status": "completed"
    },
    "tags": []
   },
   "outputs": [],
   "source": [
    "METHOD = \"clustermatch\"\n",
    "METHOD_SHORT = \"cm\""
   ]
  },
  {
   "cell_type": "code",
   "execution_count": 4,
   "id": "dress-comedy",
   "metadata": {
    "execution": {
     "iopub.execute_input": "2021-03-01T14:47:27.625695Z",
     "iopub.status.busy": "2021-03-01T14:47:27.625317Z",
     "iopub.status.idle": "2021-03-01T14:47:27.637058Z",
     "shell.execute_reply": "2021-03-01T14:47:27.636651Z"
    },
    "papermill": {
     "duration": 0.030954,
     "end_time": "2021-03-01T14:47:27.637141",
     "exception": false,
     "start_time": "2021-03-01T14:47:27.606187",
     "status": "completed"
    },
    "tags": []
   },
   "outputs": [
    {
     "data": {
      "text/plain": [
       "PosixPath('/home/miltondp/projects/labs/greenelab/cm_gene_expression/base')"
      ]
     },
     "metadata": {},
     "output_type": "display_data"
    }
   ],
   "source": [
    "# BASE_FOLDER = Path(\"..\", \"base\").resolve()\n",
    "BASE_FOLDER = Path(\"base\").resolve()\n",
    "\n",
    "assert BASE_FOLDER.exists()\n",
    "\n",
    "display(BASE_FOLDER)"
   ]
  },
  {
   "cell_type": "code",
   "execution_count": 5,
   "id": "foreign-carpet",
   "metadata": {
    "execution": {
     "iopub.execute_input": "2021-03-01T14:47:27.675139Z",
     "iopub.status.busy": "2021-03-01T14:47:27.674760Z",
     "iopub.status.idle": "2021-03-01T14:47:27.683009Z",
     "shell.execute_reply": "2021-03-01T14:47:27.682636Z"
    },
    "papermill": {
     "duration": 0.028227,
     "end_time": "2021-03-01T14:47:27.683095",
     "exception": false,
     "start_time": "2021-03-01T14:47:27.654868",
     "status": "completed"
    },
    "tags": []
   },
   "outputs": [
    {
     "data": {
      "text/plain": [
       "PosixPath('/home/miltondp/projects/labs/greenelab/cm_gene_expression/base/results/clustermatch/enrichment')"
      ]
     },
     "metadata": {},
     "output_type": "display_data"
    }
   ],
   "source": [
    "OUTPUT_DIR = Path(BASE_FOLDER, \"results\", METHOD, \"enrichment\").resolve()\n",
    "display(OUTPUT_DIR)\n",
    "\n",
    "OUTPUT_DIR.mkdir(exist_ok=True)"
   ]
  },
  {
   "cell_type": "markdown",
   "id": "coated-roulette",
   "metadata": {
    "papermill": {
     "duration": 0.017233,
     "end_time": "2021-03-01T14:47:27.718329",
     "exception": false,
     "start_time": "2021-03-01T14:47:27.701096",
     "status": "completed"
    },
    "tags": []
   },
   "source": [
    "# Load correlations"
   ]
  },
  {
   "cell_type": "code",
   "execution_count": 6,
   "id": "premium-plenty",
   "metadata": {
    "execution": {
     "iopub.execute_input": "2021-03-01T14:47:27.756157Z",
     "iopub.status.busy": "2021-03-01T14:47:27.755787Z",
     "iopub.status.idle": "2021-03-01T14:47:27.764846Z",
     "shell.execute_reply": "2021-03-01T14:47:27.764482Z"
    },
    "papermill": {
     "duration": 0.029195,
     "end_time": "2021-03-01T14:47:27.764930",
     "exception": false,
     "start_time": "2021-03-01T14:47:27.735735",
     "status": "completed"
    },
    "tags": []
   },
   "outputs": [
    {
     "data": {
      "text/plain": [
       "PosixPath('/home/miltondp/projects/labs/greenelab/cm_gene_expression/base/results/sim_mat/wb_data_gene_cm.pkl')"
      ]
     },
     "metadata": {},
     "output_type": "display_data"
    },
    {
     "data": {
      "text/plain": [
       "'wb_data_gene_cm'"
      ]
     },
     "metadata": {},
     "output_type": "display_data"
    }
   ],
   "source": [
    "input_filepath = Path(\n",
    "    BASE_FOLDER,\n",
    "    \"results\",\n",
    "    \"sim_mat\",\n",
    "    f\"wb_data_gene_{METHOD_SHORT}.pkl\",\n",
    ").resolve()\n",
    "display(input_filepath)\n",
    "\n",
    "assert input_filepath.exists(), \"Input file does not exist\"\n",
    "\n",
    "input_filepath_stem = input_filepath.stem\n",
    "display(input_filepath_stem)"
   ]
  },
  {
   "cell_type": "code",
   "execution_count": 7,
   "id": "assigned-stable",
   "metadata": {
    "execution": {
     "iopub.execute_input": "2021-03-01T14:47:27.803694Z",
     "iopub.status.busy": "2021-03-01T14:47:27.803328Z",
     "iopub.status.idle": "2021-03-01T14:47:28.002495Z",
     "shell.execute_reply": "2021-03-01T14:47:28.002838Z"
    },
    "papermill": {
     "duration": 0.219784,
     "end_time": "2021-03-01T14:47:28.002963",
     "exception": false,
     "start_time": "2021-03-01T14:47:27.783179",
     "status": "completed"
    },
    "tags": []
   },
   "outputs": [],
   "source": [
    "sim_matrix = pd.read_pickle(input_filepath)"
   ]
  },
  {
   "cell_type": "code",
   "execution_count": 8,
   "id": "large-whole",
   "metadata": {
    "execution": {
     "iopub.execute_input": "2021-03-01T14:47:28.044060Z",
     "iopub.status.busy": "2021-03-01T14:47:28.043695Z",
     "iopub.status.idle": "2021-03-01T14:47:28.051434Z",
     "shell.execute_reply": "2021-03-01T14:47:28.051732Z"
    },
    "papermill": {
     "duration": 0.0287,
     "end_time": "2021-03-01T14:47:28.051836",
     "exception": false,
     "start_time": "2021-03-01T14:47:28.023136",
     "status": "completed"
    },
    "tags": []
   },
   "outputs": [
    {
     "data": {
      "text/plain": [
       "(5000, 5000)"
      ]
     },
     "execution_count": 8,
     "metadata": {},
     "output_type": "execute_result"
    }
   ],
   "source": [
    "sim_matrix.shape"
   ]
  },
  {
   "cell_type": "code",
   "execution_count": 9,
   "id": "electric-poland",
   "metadata": {
    "execution": {
     "iopub.execute_input": "2021-03-01T14:47:28.090660Z",
     "iopub.status.busy": "2021-03-01T14:47:28.090296Z",
     "iopub.status.idle": "2021-03-01T14:47:28.112246Z",
     "shell.execute_reply": "2021-03-01T14:47:28.111867Z"
    },
    "papermill": {
     "duration": 0.042005,
     "end_time": "2021-03-01T14:47:28.112333",
     "exception": false,
     "start_time": "2021-03-01T14:47:28.070328",
     "status": "completed"
    },
    "tags": []
   },
   "outputs": [
    {
     "data": {
      "text/html": [
       "<div>\n",
       "<style scoped>\n",
       "    .dataframe tbody tr th:only-of-type {\n",
       "        vertical-align: middle;\n",
       "    }\n",
       "\n",
       "    .dataframe tbody tr th {\n",
       "        vertical-align: top;\n",
       "    }\n",
       "\n",
       "    .dataframe thead th {\n",
       "        text-align: right;\n",
       "    }\n",
       "</style>\n",
       "<table border=\"1\" class=\"dataframe\">\n",
       "  <thead>\n",
       "    <tr style=\"text-align: right;\">\n",
       "      <th></th>\n",
       "      <th>ENSG00000244734.3</th>\n",
       "      <th>ENSG00000188536.12</th>\n",
       "      <th>ENSG00000163220.10</th>\n",
       "      <th>ENSG00000206172.8</th>\n",
       "      <th>ENSG00000223609.7</th>\n",
       "      <th>ENSG00000143546.9</th>\n",
       "      <th>ENSG00000087086.14</th>\n",
       "      <th>ENSG00000185201.16</th>\n",
       "      <th>ENSG00000163221.8</th>\n",
       "      <th>ENSG00000234745.10</th>\n",
       "      <th>...</th>\n",
       "      <th>ENSG00000183431.11</th>\n",
       "      <th>ENSG00000119707.13</th>\n",
       "      <th>ENSG00000147649.9</th>\n",
       "      <th>ENSG00000164305.18</th>\n",
       "      <th>ENSG00000267074.1</th>\n",
       "      <th>ENSG00000130517.13</th>\n",
       "      <th>ENSG00000138674.16</th>\n",
       "      <th>ENSG00000065911.11</th>\n",
       "      <th>ENSG00000163297.16</th>\n",
       "      <th>ENSG00000259865.1</th>\n",
       "    </tr>\n",
       "  </thead>\n",
       "  <tbody>\n",
       "    <tr>\n",
       "      <th>ENSG00000244734.3</th>\n",
       "      <td>1.000000</td>\n",
       "      <td>0.362340</td>\n",
       "      <td>0.141355</td>\n",
       "      <td>0.471842</td>\n",
       "      <td>0.579461</td>\n",
       "      <td>0.090792</td>\n",
       "      <td>0.145388</td>\n",
       "      <td>0.202936</td>\n",
       "      <td>0.118336</td>\n",
       "      <td>0.334136</td>\n",
       "      <td>...</td>\n",
       "      <td>0.207756</td>\n",
       "      <td>0.207756</td>\n",
       "      <td>0.207756</td>\n",
       "      <td>0.227599</td>\n",
       "      <td>0.030597</td>\n",
       "      <td>0.179678</td>\n",
       "      <td>0.097727</td>\n",
       "      <td>0.125784</td>\n",
       "      <td>0.275534</td>\n",
       "      <td>0.157825</td>\n",
       "    </tr>\n",
       "    <tr>\n",
       "      <th>ENSG00000188536.12</th>\n",
       "      <td>0.362340</td>\n",
       "      <td>1.000000</td>\n",
       "      <td>0.206590</td>\n",
       "      <td>0.486542</td>\n",
       "      <td>0.312986</td>\n",
       "      <td>0.170768</td>\n",
       "      <td>0.081390</td>\n",
       "      <td>0.184217</td>\n",
       "      <td>0.188812</td>\n",
       "      <td>0.154353</td>\n",
       "      <td>...</td>\n",
       "      <td>0.145388</td>\n",
       "      <td>0.145388</td>\n",
       "      <td>0.217565</td>\n",
       "      <td>0.340305</td>\n",
       "      <td>0.009142</td>\n",
       "      <td>0.066845</td>\n",
       "      <td>0.026119</td>\n",
       "      <td>0.153623</td>\n",
       "      <td>0.292524</td>\n",
       "      <td>0.170768</td>\n",
       "    </tr>\n",
       "    <tr>\n",
       "      <th>ENSG00000163220.10</th>\n",
       "      <td>0.141355</td>\n",
       "      <td>0.206590</td>\n",
       "      <td>1.000000</td>\n",
       "      <td>0.181851</td>\n",
       "      <td>0.133457</td>\n",
       "      <td>0.620566</td>\n",
       "      <td>0.063550</td>\n",
       "      <td>0.415292</td>\n",
       "      <td>0.706993</td>\n",
       "      <td>0.035855</td>\n",
       "      <td>...</td>\n",
       "      <td>0.019123</td>\n",
       "      <td>0.022696</td>\n",
       "      <td>0.038725</td>\n",
       "      <td>0.139359</td>\n",
       "      <td>0.104114</td>\n",
       "      <td>0.014602</td>\n",
       "      <td>0.045561</td>\n",
       "      <td>0.020572</td>\n",
       "      <td>0.324987</td>\n",
       "      <td>0.026507</td>\n",
       "    </tr>\n",
       "    <tr>\n",
       "      <th>ENSG00000206172.8</th>\n",
       "      <td>0.471842</td>\n",
       "      <td>0.486542</td>\n",
       "      <td>0.181851</td>\n",
       "      <td>1.000000</td>\n",
       "      <td>0.318958</td>\n",
       "      <td>0.141355</td>\n",
       "      <td>0.114696</td>\n",
       "      <td>0.198172</td>\n",
       "      <td>0.141355</td>\n",
       "      <td>0.202936</td>\n",
       "      <td>...</td>\n",
       "      <td>0.166398</td>\n",
       "      <td>0.207756</td>\n",
       "      <td>0.232700</td>\n",
       "      <td>0.340305</td>\n",
       "      <td>0.018857</td>\n",
       "      <td>0.125784</td>\n",
       "      <td>0.048843</td>\n",
       "      <td>0.166398</td>\n",
       "      <td>0.275534</td>\n",
       "      <td>0.193464</td>\n",
       "    </tr>\n",
       "    <tr>\n",
       "      <th>ENSG00000223609.7</th>\n",
       "      <td>0.579461</td>\n",
       "      <td>0.312986</td>\n",
       "      <td>0.133457</td>\n",
       "      <td>0.318958</td>\n",
       "      <td>1.000000</td>\n",
       "      <td>0.077353</td>\n",
       "      <td>0.100699</td>\n",
       "      <td>0.184217</td>\n",
       "      <td>0.111113</td>\n",
       "      <td>0.281141</td>\n",
       "      <td>...</td>\n",
       "      <td>0.179678</td>\n",
       "      <td>0.198172</td>\n",
       "      <td>0.170768</td>\n",
       "      <td>0.188812</td>\n",
       "      <td>0.017030</td>\n",
       "      <td>0.166398</td>\n",
       "      <td>0.087602</td>\n",
       "      <td>0.100699</td>\n",
       "      <td>0.264488</td>\n",
       "      <td>0.129593</td>\n",
       "    </tr>\n",
       "  </tbody>\n",
       "</table>\n",
       "<p>5 rows × 5000 columns</p>\n",
       "</div>"
      ],
      "text/plain": [
       "                    ENSG00000244734.3  ENSG00000188536.12  ENSG00000163220.10  \\\n",
       "ENSG00000244734.3            1.000000            0.362340            0.141355   \n",
       "ENSG00000188536.12           0.362340            1.000000            0.206590   \n",
       "ENSG00000163220.10           0.141355            0.206590            1.000000   \n",
       "ENSG00000206172.8            0.471842            0.486542            0.181851   \n",
       "ENSG00000223609.7            0.579461            0.312986            0.133457   \n",
       "\n",
       "                    ENSG00000206172.8  ENSG00000223609.7  ENSG00000143546.9  \\\n",
       "ENSG00000244734.3            0.471842           0.579461           0.090792   \n",
       "ENSG00000188536.12           0.486542           0.312986           0.170768   \n",
       "ENSG00000163220.10           0.181851           0.133457           0.620566   \n",
       "ENSG00000206172.8            1.000000           0.318958           0.141355   \n",
       "ENSG00000223609.7            0.318958           1.000000           0.077353   \n",
       "\n",
       "                    ENSG00000087086.14  ENSG00000185201.16  ENSG00000163221.8  \\\n",
       "ENSG00000244734.3             0.145388            0.202936           0.118336   \n",
       "ENSG00000188536.12            0.081390            0.184217           0.188812   \n",
       "ENSG00000163220.10            0.063550            0.415292           0.706993   \n",
       "ENSG00000206172.8             0.114696            0.198172           0.141355   \n",
       "ENSG00000223609.7             0.100699            0.184217           0.111113   \n",
       "\n",
       "                    ENSG00000234745.10  ...  ENSG00000183431.11  \\\n",
       "ENSG00000244734.3             0.334136  ...            0.207756   \n",
       "ENSG00000188536.12            0.154353  ...            0.145388   \n",
       "ENSG00000163220.10            0.035855  ...            0.019123   \n",
       "ENSG00000206172.8             0.202936  ...            0.166398   \n",
       "ENSG00000223609.7             0.281141  ...            0.179678   \n",
       "\n",
       "                    ENSG00000119707.13  ENSG00000147649.9  ENSG00000164305.18  \\\n",
       "ENSG00000244734.3             0.207756           0.207756            0.227599   \n",
       "ENSG00000188536.12            0.145388           0.217565            0.340305   \n",
       "ENSG00000163220.10            0.022696           0.038725            0.139359   \n",
       "ENSG00000206172.8             0.207756           0.232700            0.340305   \n",
       "ENSG00000223609.7             0.198172           0.170768            0.188812   \n",
       "\n",
       "                    ENSG00000267074.1  ENSG00000130517.13  ENSG00000138674.16  \\\n",
       "ENSG00000244734.3            0.030597            0.179678            0.097727   \n",
       "ENSG00000188536.12           0.009142            0.066845            0.026119   \n",
       "ENSG00000163220.10           0.104114            0.014602            0.045561   \n",
       "ENSG00000206172.8            0.018857            0.125784            0.048843   \n",
       "ENSG00000223609.7            0.017030            0.166398            0.087602   \n",
       "\n",
       "                    ENSG00000065911.11  ENSG00000163297.16  ENSG00000259865.1  \n",
       "ENSG00000244734.3             0.125784            0.275534           0.157825  \n",
       "ENSG00000188536.12            0.153623            0.292524           0.170768  \n",
       "ENSG00000163220.10            0.020572            0.324987           0.026507  \n",
       "ENSG00000206172.8             0.166398            0.275534           0.193464  \n",
       "ENSG00000223609.7             0.100699            0.264488           0.129593  \n",
       "\n",
       "[5 rows x 5000 columns]"
      ]
     },
     "execution_count": 9,
     "metadata": {},
     "output_type": "execute_result"
    }
   ],
   "source": [
    "sim_matrix.head()"
   ]
  },
  {
   "cell_type": "markdown",
   "id": "tribal-artwork",
   "metadata": {
    "papermill": {
     "duration": 0.018525,
     "end_time": "2021-03-01T14:47:28.149743",
     "exception": false,
     "start_time": "2021-03-01T14:47:28.131218",
     "status": "completed"
    },
    "tags": []
   },
   "source": [
    "# Load clustering results"
   ]
  },
  {
   "cell_type": "code",
   "execution_count": 10,
   "id": "drawn-minute",
   "metadata": {
    "execution": {
     "iopub.execute_input": "2021-03-01T14:47:28.188852Z",
     "iopub.status.busy": "2021-03-01T14:47:28.188409Z",
     "iopub.status.idle": "2021-03-01T14:47:28.196371Z",
     "shell.execute_reply": "2021-03-01T14:47:28.196006Z"
    },
    "papermill": {
     "duration": 0.028551,
     "end_time": "2021-03-01T14:47:28.196454",
     "exception": false,
     "start_time": "2021-03-01T14:47:28.167903",
     "status": "completed"
    },
    "tags": []
   },
   "outputs": [
    {
     "data": {
      "text/plain": [
       "PosixPath('/home/miltondp/projects/labs/greenelab/cm_gene_expression/base/results')"
      ]
     },
     "metadata": {},
     "output_type": "display_data"
    }
   ],
   "source": [
    "ensemble_folder = Path(\n",
    "    BASE_FOLDER,\n",
    "    \"results\",\n",
    ").resolve()\n",
    "display(ensemble_folder)\n",
    "\n",
    "# ensemble_folder.mkdir(parents=True, exist_ok=True)"
   ]
  },
  {
   "cell_type": "code",
   "execution_count": 11,
   "id": "found-black",
   "metadata": {
    "execution": {
     "iopub.execute_input": "2021-03-01T14:47:28.237204Z",
     "iopub.status.busy": "2021-03-01T14:47:28.236833Z",
     "iopub.status.idle": "2021-03-01T14:47:28.244981Z",
     "shell.execute_reply": "2021-03-01T14:47:28.244562Z"
    },
    "papermill": {
     "duration": 0.029299,
     "end_time": "2021-03-01T14:47:28.245067",
     "exception": false,
     "start_time": "2021-03-01T14:47:28.215768",
     "status": "completed"
    },
    "tags": []
   },
   "outputs": [
    {
     "data": {
      "text/plain": [
       "PosixPath('/home/miltondp/projects/labs/greenelab/cm_gene_expression/base/results/clustermatch/ensemble-DELTA_025-KMEANS_N_INIT_50-K_RANGE_2_5_10_15_20_25_30_35_40_45_50_55_60_65_70_75_80_90_95_100_200.pkl')"
      ]
     },
     "metadata": {},
     "output_type": "display_data"
    }
   ],
   "source": [
    "input_filepath = Path(\n",
    "    ensemble_folder,\n",
    "    METHOD,\n",
    "    \"ensemble-DELTA_025-KMEANS_N_INIT_50-K_RANGE_2_5_10_15_20_25_30_35_40_45_50_55_60_65_70_75_80_90_95_100_200.pkl\",\n",
    ").resolve()\n",
    "display(input_filepath)"
   ]
  },
  {
   "cell_type": "code",
   "execution_count": 12,
   "id": "straight-mozambique",
   "metadata": {
    "execution": {
     "iopub.execute_input": "2021-03-01T14:47:28.286296Z",
     "iopub.status.busy": "2021-03-01T14:47:28.285923Z",
     "iopub.status.idle": "2021-03-01T14:47:28.294052Z",
     "shell.execute_reply": "2021-03-01T14:47:28.293720Z"
    },
    "papermill": {
     "duration": 0.029501,
     "end_time": "2021-03-01T14:47:28.294139",
     "exception": false,
     "start_time": "2021-03-01T14:47:28.264638",
     "status": "completed"
    },
    "tags": []
   },
   "outputs": [],
   "source": [
    "cm_results = pd.read_pickle(input_filepath)"
   ]
  },
  {
   "cell_type": "code",
   "execution_count": 13,
   "id": "experimental-price",
   "metadata": {
    "execution": {
     "iopub.execute_input": "2021-03-01T14:47:28.335866Z",
     "iopub.status.busy": "2021-03-01T14:47:28.335505Z",
     "iopub.status.idle": "2021-03-01T14:47:28.342949Z",
     "shell.execute_reply": "2021-03-01T14:47:28.343242Z"
    },
    "papermill": {
     "duration": 0.029073,
     "end_time": "2021-03-01T14:47:28.343344",
     "exception": false,
     "start_time": "2021-03-01T14:47:28.314271",
     "status": "completed"
    },
    "tags": []
   },
   "outputs": [
    {
     "data": {
      "text/plain": [
       "(21, 5)"
      ]
     },
     "execution_count": 13,
     "metadata": {},
     "output_type": "execute_result"
    }
   ],
   "source": [
    "cm_results.shape"
   ]
  },
  {
   "cell_type": "code",
   "execution_count": 14,
   "id": "romantic-catalog",
   "metadata": {
    "execution": {
     "iopub.execute_input": "2021-03-01T14:47:28.384252Z",
     "iopub.status.busy": "2021-03-01T14:47:28.383887Z",
     "iopub.status.idle": "2021-03-01T14:47:28.399724Z",
     "shell.execute_reply": "2021-03-01T14:47:28.399351Z"
    },
    "papermill": {
     "duration": 0.037133,
     "end_time": "2021-03-01T14:47:28.399810",
     "exception": false,
     "start_time": "2021-03-01T14:47:28.362677",
     "status": "completed"
    },
    "tags": []
   },
   "outputs": [
    {
     "data": {
      "text/html": [
       "<div>\n",
       "<style scoped>\n",
       "    .dataframe tbody tr th:only-of-type {\n",
       "        vertical-align: middle;\n",
       "    }\n",
       "\n",
       "    .dataframe tbody tr th {\n",
       "        vertical-align: top;\n",
       "    }\n",
       "\n",
       "    .dataframe thead th {\n",
       "        text-align: right;\n",
       "    }\n",
       "</style>\n",
       "<table border=\"1\" class=\"dataframe\">\n",
       "  <thead>\n",
       "    <tr style=\"text-align: right;\">\n",
       "      <th></th>\n",
       "      <th>clusterer_params</th>\n",
       "      <th>partition</th>\n",
       "      <th>n_clusters</th>\n",
       "      <th>delta</th>\n",
       "      <th>si_score</th>\n",
       "    </tr>\n",
       "    <tr>\n",
       "      <th>clusterer_id</th>\n",
       "      <th></th>\n",
       "      <th></th>\n",
       "      <th></th>\n",
       "      <th></th>\n",
       "      <th></th>\n",
       "    </tr>\n",
       "  </thead>\n",
       "  <tbody>\n",
       "    <tr>\n",
       "      <th>DeltaSpectralClustering #0</th>\n",
       "      <td>{'delta': 0.25}</td>\n",
       "      <td>[0.0, 0.0, 0.0, 0.0, 0.0, 0.0, 0.0, 0.0, 0.0, ...</td>\n",
       "      <td>2</td>\n",
       "      <td>0.25</td>\n",
       "      <td>0.137042</td>\n",
       "    </tr>\n",
       "    <tr>\n",
       "      <th>DeltaSpectralClustering #1</th>\n",
       "      <td>{'delta': 0.25}</td>\n",
       "      <td>[3.0, 0.0, 0.0, 3.0, 3.0, 0.0, 3.0, 0.0, 0.0, ...</td>\n",
       "      <td>5</td>\n",
       "      <td>0.25</td>\n",
       "      <td>0.111130</td>\n",
       "    </tr>\n",
       "    <tr>\n",
       "      <th>DeltaSpectralClustering #2</th>\n",
       "      <td>{'delta': 0.25}</td>\n",
       "      <td>[8.0, 4.0, 4.0, 4.0, 8.0, 4.0, 8.0, 4.0, 4.0, ...</td>\n",
       "      <td>10</td>\n",
       "      <td>0.25</td>\n",
       "      <td>0.096330</td>\n",
       "    </tr>\n",
       "    <tr>\n",
       "      <th>DeltaSpectralClustering #3</th>\n",
       "      <td>{'delta': 0.25}</td>\n",
       "      <td>[5.0, 5.0, 5.0, 5.0, 5.0, 5.0, 5.0, 5.0, 5.0, ...</td>\n",
       "      <td>15</td>\n",
       "      <td>0.25</td>\n",
       "      <td>0.081212</td>\n",
       "    </tr>\n",
       "    <tr>\n",
       "      <th>DeltaSpectralClustering #4</th>\n",
       "      <td>{'delta': 0.25}</td>\n",
       "      <td>[18.0, 0.0, 13.0, 0.0, 18.0, 13.0, 13.0, 13.0,...</td>\n",
       "      <td>20</td>\n",
       "      <td>0.25</td>\n",
       "      <td>0.074854</td>\n",
       "    </tr>\n",
       "  </tbody>\n",
       "</table>\n",
       "</div>"
      ],
      "text/plain": [
       "                           clusterer_params  \\\n",
       "clusterer_id                                  \n",
       "DeltaSpectralClustering #0  {'delta': 0.25}   \n",
       "DeltaSpectralClustering #1  {'delta': 0.25}   \n",
       "DeltaSpectralClustering #2  {'delta': 0.25}   \n",
       "DeltaSpectralClustering #3  {'delta': 0.25}   \n",
       "DeltaSpectralClustering #4  {'delta': 0.25}   \n",
       "\n",
       "                                                                    partition  \\\n",
       "clusterer_id                                                                    \n",
       "DeltaSpectralClustering #0  [0.0, 0.0, 0.0, 0.0, 0.0, 0.0, 0.0, 0.0, 0.0, ...   \n",
       "DeltaSpectralClustering #1  [3.0, 0.0, 0.0, 3.0, 3.0, 0.0, 3.0, 0.0, 0.0, ...   \n",
       "DeltaSpectralClustering #2  [8.0, 4.0, 4.0, 4.0, 8.0, 4.0, 8.0, 4.0, 4.0, ...   \n",
       "DeltaSpectralClustering #3  [5.0, 5.0, 5.0, 5.0, 5.0, 5.0, 5.0, 5.0, 5.0, ...   \n",
       "DeltaSpectralClustering #4  [18.0, 0.0, 13.0, 0.0, 18.0, 13.0, 13.0, 13.0,...   \n",
       "\n",
       "                            n_clusters delta  si_score  \n",
       "clusterer_id                                            \n",
       "DeltaSpectralClustering #0           2  0.25  0.137042  \n",
       "DeltaSpectralClustering #1           5  0.25  0.111130  \n",
       "DeltaSpectralClustering #2          10  0.25  0.096330  \n",
       "DeltaSpectralClustering #3          15  0.25  0.081212  \n",
       "DeltaSpectralClustering #4          20  0.25  0.074854  "
      ]
     },
     "execution_count": 14,
     "metadata": {},
     "output_type": "execute_result"
    }
   ],
   "source": [
    "cm_results.head()"
   ]
  },
  {
   "cell_type": "code",
   "execution_count": 15,
   "id": "handy-sensitivity",
   "metadata": {
    "execution": {
     "iopub.execute_input": "2021-03-01T14:47:28.441990Z",
     "iopub.status.busy": "2021-03-01T14:47:28.441624Z",
     "iopub.status.idle": "2021-03-01T14:47:28.449405Z",
     "shell.execute_reply": "2021-03-01T14:47:28.449687Z"
    },
    "papermill": {
     "duration": 0.029824,
     "end_time": "2021-03-01T14:47:28.449794",
     "exception": false,
     "start_time": "2021-03-01T14:47:28.419970",
     "status": "completed"
    },
    "tags": []
   },
   "outputs": [
    {
     "data": {
      "text/plain": [
       "array([  2,   5,  10,  15,  20,  25,  30,  35,  40,  45,  50,  55,  60,\n",
       "        65,  70,  75,  80,  90,  95, 100, 200])"
      ]
     },
     "execution_count": 15,
     "metadata": {},
     "output_type": "execute_result"
    }
   ],
   "source": [
    "cm_results[\"n_clusters\"].unique()"
   ]
  },
  {
   "cell_type": "markdown",
   "id": "revolutionary-calculator",
   "metadata": {
    "papermill": {
     "duration": 0.019788,
     "end_time": "2021-03-01T14:47:28.489944",
     "exception": false,
     "start_time": "2021-03-01T14:47:28.470156",
     "status": "completed"
    },
    "tags": []
   },
   "source": [
    "# clusterProfiler"
   ]
  },
  {
   "cell_type": "code",
   "execution_count": 16,
   "id": "close-necessity",
   "metadata": {
    "execution": {
     "iopub.execute_input": "2021-03-01T14:47:28.531635Z",
     "iopub.status.busy": "2021-03-01T14:47:28.531262Z",
     "iopub.status.idle": "2021-03-01T14:47:28.748439Z",
     "shell.execute_reply": "2021-03-01T14:47:28.748033Z"
    },
    "papermill": {
     "duration": 0.239045,
     "end_time": "2021-03-01T14:47:28.748530",
     "exception": false,
     "start_time": "2021-03-01T14:47:28.509485",
     "status": "completed"
    },
    "tags": []
   },
   "outputs": [],
   "source": [
    "from rpy2.robjects.packages import importr\n",
    "import rpy2.robjects as robjects\n",
    "from rpy2.robjects import pandas2ri\n",
    "\n",
    "pandas2ri.activate()"
   ]
  },
  {
   "cell_type": "code",
   "execution_count": 17,
   "id": "occasional-trademark",
   "metadata": {
    "execution": {
     "iopub.execute_input": "2021-03-01T14:47:28.790730Z",
     "iopub.status.busy": "2021-03-01T14:47:28.790360Z",
     "iopub.status.idle": "2021-03-01T14:47:32.474806Z",
     "shell.execute_reply": "2021-03-01T14:47:32.474421Z"
    },
    "papermill": {
     "duration": 3.706306,
     "end_time": "2021-03-01T14:47:32.474892",
     "exception": false,
     "start_time": "2021-03-01T14:47:28.768586",
     "status": "completed"
    },
    "tags": []
   },
   "outputs": [],
   "source": [
    "rprint = robjects.globalenv.find(\"print\")\n",
    "# dose = importr('DOSE')\n",
    "clusterProfiler = importr(\"clusterProfiler\")\n",
    "reactomePA = importr(\"ReactomePA\")\n",
    "# enrichplot = importr(\"enrichplot\")\n",
    "grdevices = importr(\"grDevices\")"
   ]
  },
  {
   "cell_type": "markdown",
   "id": "lesbian-traveler",
   "metadata": {
    "papermill": {
     "duration": 0.019038,
     "end_time": "2021-03-01T14:47:32.513464",
     "exception": false,
     "start_time": "2021-03-01T14:47:32.494426",
     "status": "completed"
    },
    "tags": []
   },
   "source": [
    "## General variables"
   ]
  },
  {
   "cell_type": "code",
   "execution_count": 18,
   "id": "transsexual-annual",
   "metadata": {
    "execution": {
     "iopub.execute_input": "2021-03-01T14:47:32.554721Z",
     "iopub.status.busy": "2021-03-01T14:47:32.554351Z",
     "iopub.status.idle": "2021-03-01T14:47:32.563061Z",
     "shell.execute_reply": "2021-03-01T14:47:32.562678Z"
    },
    "papermill": {
     "duration": 0.030632,
     "end_time": "2021-03-01T14:47:32.563149",
     "exception": false,
     "start_time": "2021-03-01T14:47:32.532517",
     "status": "completed"
    },
    "tags": []
   },
   "outputs": [],
   "source": [
    "genes_universe = [g.split(\".\")[0] for g in sim_matrix.index]"
   ]
  },
  {
   "cell_type": "code",
   "execution_count": 19,
   "id": "expensive-montgomery",
   "metadata": {
    "execution": {
     "iopub.execute_input": "2021-03-01T14:47:32.605183Z",
     "iopub.status.busy": "2021-03-01T14:47:32.604813Z",
     "iopub.status.idle": "2021-03-01T14:47:32.613133Z",
     "shell.execute_reply": "2021-03-01T14:47:32.612758Z"
    },
    "papermill": {
     "duration": 0.030185,
     "end_time": "2021-03-01T14:47:32.613218",
     "exception": false,
     "start_time": "2021-03-01T14:47:32.583033",
     "status": "completed"
    },
    "tags": []
   },
   "outputs": [
    {
     "data": {
      "text/plain": [
       "5000"
      ]
     },
     "execution_count": 19,
     "metadata": {},
     "output_type": "execute_result"
    }
   ],
   "source": [
    "len(genes_universe)"
   ]
  },
  {
   "cell_type": "markdown",
   "id": "mechanical-timothy",
   "metadata": {
    "papermill": {
     "duration": 0.020168,
     "end_time": "2021-03-01T14:47:32.653568",
     "exception": false,
     "start_time": "2021-03-01T14:47:32.633400",
     "status": "completed"
    },
    "tags": []
   },
   "source": [
    "## enrichGO"
   ]
  },
  {
   "cell_type": "code",
   "execution_count": 20,
   "id": "specialized-riverside",
   "metadata": {
    "execution": {
     "iopub.execute_input": "2021-03-01T14:47:32.695445Z",
     "iopub.status.busy": "2021-03-01T14:47:32.695076Z",
     "iopub.status.idle": "2021-03-01T14:47:32.702517Z",
     "shell.execute_reply": "2021-03-01T14:47:32.702140Z"
    },
    "papermill": {
     "duration": 0.029349,
     "end_time": "2021-03-01T14:47:32.702605",
     "exception": false,
     "start_time": "2021-03-01T14:47:32.673256",
     "status": "completed"
    },
    "tags": []
   },
   "outputs": [],
   "source": [
    "# ck = clusterProfiler.enrichGO(\n",
    "#     gene=genes_per_cluster[2],\n",
    "#     OrgDb=\"org.Hs.eg.db\",\n",
    "#     keyType='ENSEMBL',\n",
    "#     universe=genes_universe,\n",
    "#     pAdjustMethod='fdr',\n",
    "# #     pAdjustMethod='bonferroni',\n",
    "#     pvalueCutoff=0.05,\n",
    "# #     qvalueCutoff=0.05,\n",
    "#     ont='BP',\n",
    "#     readable=True,\n",
    "# )"
   ]
  },
  {
   "cell_type": "code",
   "execution_count": 21,
   "id": "wound-blackberry",
   "metadata": {
    "execution": {
     "iopub.execute_input": "2021-03-01T14:47:32.744489Z",
     "iopub.status.busy": "2021-03-01T14:47:32.744123Z",
     "iopub.status.idle": "2021-03-01T14:47:32.751585Z",
     "shell.execute_reply": "2021-03-01T14:47:32.751211Z"
    },
    "papermill": {
     "duration": 0.029183,
     "end_time": "2021-03-01T14:47:32.751670",
     "exception": false,
     "start_time": "2021-03-01T14:47:32.722487",
     "status": "completed"
    },
    "tags": []
   },
   "outputs": [],
   "source": [
    "# cks = clusterProfiler.simplify(ck, cutoff=0.3)\n",
    "# cks = ck"
   ]
  },
  {
   "cell_type": "code",
   "execution_count": 22,
   "id": "analyzed-responsibility",
   "metadata": {
    "execution": {
     "iopub.execute_input": "2021-03-01T14:47:32.794670Z",
     "iopub.status.busy": "2021-03-01T14:47:32.794296Z",
     "iopub.status.idle": "2021-03-01T14:47:32.801297Z",
     "shell.execute_reply": "2021-03-01T14:47:32.800982Z"
    },
    "papermill": {
     "duration": 0.029194,
     "end_time": "2021-03-01T14:47:32.801381",
     "exception": false,
     "start_time": "2021-03-01T14:47:32.772187",
     "status": "completed"
    },
    "tags": []
   },
   "outputs": [],
   "source": [
    "# list(cks.slots.keys())"
   ]
  },
  {
   "cell_type": "code",
   "execution_count": 23,
   "id": "blind-infrared",
   "metadata": {
    "execution": {
     "iopub.execute_input": "2021-03-01T14:47:32.843077Z",
     "iopub.status.busy": "2021-03-01T14:47:32.842717Z",
     "iopub.status.idle": "2021-03-01T14:47:32.849902Z",
     "shell.execute_reply": "2021-03-01T14:47:32.849531Z"
    },
    "papermill": {
     "duration": 0.028803,
     "end_time": "2021-03-01T14:47:32.849987",
     "exception": false,
     "start_time": "2021-03-01T14:47:32.821184",
     "status": "completed"
    },
    "tags": []
   },
   "outputs": [],
   "source": [
    "# df = cks.slots['result']"
   ]
  },
  {
   "cell_type": "code",
   "execution_count": 24,
   "id": "damaged-administration",
   "metadata": {
    "execution": {
     "iopub.execute_input": "2021-03-01T14:47:32.891329Z",
     "iopub.status.busy": "2021-03-01T14:47:32.890959Z",
     "iopub.status.idle": "2021-03-01T14:47:32.901321Z",
     "shell.execute_reply": "2021-03-01T14:47:32.900950Z"
    },
    "papermill": {
     "duration": 0.031712,
     "end_time": "2021-03-01T14:47:32.901418",
     "exception": false,
     "start_time": "2021-03-01T14:47:32.869706",
     "status": "completed"
    },
    "tags": []
   },
   "outputs": [],
   "source": [
    "# df.shape"
   ]
  },
  {
   "cell_type": "code",
   "execution_count": 25,
   "id": "stretch-czech",
   "metadata": {
    "execution": {
     "iopub.execute_input": "2021-03-01T14:47:32.945743Z",
     "iopub.status.busy": "2021-03-01T14:47:32.945372Z",
     "iopub.status.idle": "2021-03-01T14:47:32.951938Z",
     "shell.execute_reply": "2021-03-01T14:47:32.952231Z"
    },
    "papermill": {
     "duration": 0.029541,
     "end_time": "2021-03-01T14:47:32.952334",
     "exception": false,
     "start_time": "2021-03-01T14:47:32.922793",
     "status": "completed"
    },
    "tags": []
   },
   "outputs": [],
   "source": [
    "# df.sort_values('p.adjust').head()"
   ]
  },
  {
   "cell_type": "markdown",
   "id": "french-store",
   "metadata": {
    "papermill": {
     "duration": 0.019408,
     "end_time": "2021-03-01T14:47:32.991497",
     "exception": false,
     "start_time": "2021-03-01T14:47:32.972089",
     "status": "completed"
    },
    "tags": []
   },
   "source": [
    "## enrichPathway"
   ]
  },
  {
   "cell_type": "code",
   "execution_count": 26,
   "id": "center-likelihood",
   "metadata": {
    "execution": {
     "iopub.execute_input": "2021-03-01T14:47:33.032553Z",
     "iopub.status.busy": "2021-03-01T14:47:33.032184Z",
     "iopub.status.idle": "2021-03-01T14:47:33.039610Z",
     "shell.execute_reply": "2021-03-01T14:47:33.039232Z"
    },
    "papermill": {
     "duration": 0.028901,
     "end_time": "2021-03-01T14:47:33.039697",
     "exception": false,
     "start_time": "2021-03-01T14:47:33.010796",
     "status": "completed"
    },
    "tags": []
   },
   "outputs": [],
   "source": [
    "# genes_universe_entrez = clusterProfiler.bitr(\n",
    "#     genes_universe, fromType=\"ENSEMBL\", toType=\"ENTREZID\", OrgDb=\"org.Hs.eg.db\"\n",
    "# ).drop_duplicates(subset=['ENSEMBL'])['ENTREZID'].tolist()"
   ]
  },
  {
   "cell_type": "code",
   "execution_count": 27,
   "id": "crazy-absolute",
   "metadata": {
    "execution": {
     "iopub.execute_input": "2021-03-01T14:47:33.082418Z",
     "iopub.status.busy": "2021-03-01T14:47:33.082054Z",
     "iopub.status.idle": "2021-03-01T14:47:33.089136Z",
     "shell.execute_reply": "2021-03-01T14:47:33.088755Z"
    },
    "papermill": {
     "duration": 0.029231,
     "end_time": "2021-03-01T14:47:33.089224",
     "exception": false,
     "start_time": "2021-03-01T14:47:33.059993",
     "status": "completed"
    },
    "tags": []
   },
   "outputs": [],
   "source": [
    "# genes_per_cluster_set_entrez = {\n",
    "#     f'C{k:n}': clusterProfiler.bitr(v, fromType=\"ENSEMBL\", toType=\"ENTREZID\", OrgDb=\"org.Hs.eg.db\").drop_duplicates(subset=['ENSEMBL'])['ENTREZID'].tolist()\n",
    "#     for k, v in genes_per_cluster.items()\n",
    "# }\n",
    "\n",
    "# genes_per_cluster_set_entrez = robjects.ListVector(genes_per_cluster_set_entrez)"
   ]
  },
  {
   "cell_type": "code",
   "execution_count": 28,
   "id": "middle-alfred",
   "metadata": {
    "execution": {
     "iopub.execute_input": "2021-03-01T14:47:33.131912Z",
     "iopub.status.busy": "2021-03-01T14:47:33.131524Z",
     "iopub.status.idle": "2021-03-01T14:47:33.138684Z",
     "shell.execute_reply": "2021-03-01T14:47:33.138997Z"
    },
    "papermill": {
     "duration": 0.02908,
     "end_time": "2021-03-01T14:47:33.139100",
     "exception": false,
     "start_time": "2021-03-01T14:47:33.110020",
     "status": "completed"
    },
    "tags": []
   },
   "outputs": [],
   "source": [
    "# ck = reactomePA.enrichPathway(\n",
    "#     gene=genes_per_cluster_set_entrez[0],\n",
    "#     universe=genes_universe_entrez,\n",
    "#     pAdjustMethod='fdr',\n",
    "# #     pAdjustMethod='bonferroni',\n",
    "#     pvalueCutoff=0.05,\n",
    "# #     qvalueCutoff=0.05,\n",
    "#     readable=True,\n",
    "# )"
   ]
  },
  {
   "cell_type": "code",
   "execution_count": 29,
   "id": "representative-tract",
   "metadata": {
    "execution": {
     "iopub.execute_input": "2021-03-01T14:47:33.180892Z",
     "iopub.status.busy": "2021-03-01T14:47:33.180467Z",
     "iopub.status.idle": "2021-03-01T14:47:33.187908Z",
     "shell.execute_reply": "2021-03-01T14:47:33.187544Z"
    },
    "papermill": {
     "duration": 0.028866,
     "end_time": "2021-03-01T14:47:33.187992",
     "exception": false,
     "start_time": "2021-03-01T14:47:33.159126",
     "status": "completed"
    },
    "tags": []
   },
   "outputs": [],
   "source": [
    "# cks = clusterProfiler.simplify(ck, cutoff=0.3)\n",
    "# cks = ck"
   ]
  },
  {
   "cell_type": "code",
   "execution_count": 30,
   "id": "recovered-shuttle",
   "metadata": {
    "execution": {
     "iopub.execute_input": "2021-03-01T14:47:33.230436Z",
     "iopub.status.busy": "2021-03-01T14:47:33.230071Z",
     "iopub.status.idle": "2021-03-01T14:47:33.237302Z",
     "shell.execute_reply": "2021-03-01T14:47:33.236979Z"
    },
    "papermill": {
     "duration": 0.029289,
     "end_time": "2021-03-01T14:47:33.237388",
     "exception": false,
     "start_time": "2021-03-01T14:47:33.208099",
     "status": "completed"
    },
    "tags": []
   },
   "outputs": [],
   "source": [
    "# list(cks.slots.keys())"
   ]
  },
  {
   "cell_type": "code",
   "execution_count": 31,
   "id": "sitting-roman",
   "metadata": {
    "execution": {
     "iopub.execute_input": "2021-03-01T14:47:33.280247Z",
     "iopub.status.busy": "2021-03-01T14:47:33.279885Z",
     "iopub.status.idle": "2021-03-01T14:47:33.287263Z",
     "shell.execute_reply": "2021-03-01T14:47:33.286878Z"
    },
    "papermill": {
     "duration": 0.029331,
     "end_time": "2021-03-01T14:47:33.287349",
     "exception": false,
     "start_time": "2021-03-01T14:47:33.258018",
     "status": "completed"
    },
    "tags": []
   },
   "outputs": [],
   "source": [
    "# df = cks.slots['result']"
   ]
  },
  {
   "cell_type": "code",
   "execution_count": 32,
   "id": "broadband-window",
   "metadata": {
    "execution": {
     "iopub.execute_input": "2021-03-01T14:47:33.328930Z",
     "iopub.status.busy": "2021-03-01T14:47:33.328461Z",
     "iopub.status.idle": "2021-03-01T14:47:33.336738Z",
     "shell.execute_reply": "2021-03-01T14:47:33.336356Z"
    },
    "papermill": {
     "duration": 0.029532,
     "end_time": "2021-03-01T14:47:33.336825",
     "exception": false,
     "start_time": "2021-03-01T14:47:33.307293",
     "status": "completed"
    },
    "tags": []
   },
   "outputs": [],
   "source": [
    "# df.shape"
   ]
  },
  {
   "cell_type": "code",
   "execution_count": 33,
   "id": "optimum-leonard",
   "metadata": {
    "execution": {
     "iopub.execute_input": "2021-03-01T14:47:33.378510Z",
     "iopub.status.busy": "2021-03-01T14:47:33.378148Z",
     "iopub.status.idle": "2021-03-01T14:47:33.385150Z",
     "shell.execute_reply": "2021-03-01T14:47:33.385449Z"
    },
    "papermill": {
     "duration": 0.029072,
     "end_time": "2021-03-01T14:47:33.385552",
     "exception": false,
     "start_time": "2021-03-01T14:47:33.356480",
     "status": "completed"
    },
    "tags": []
   },
   "outputs": [],
   "source": [
    "# df.sort_values('p.adjust').head()"
   ]
  },
  {
   "cell_type": "markdown",
   "id": "lonely-harvey",
   "metadata": {
    "papermill": {
     "duration": 0.020364,
     "end_time": "2021-03-01T14:47:33.426037",
     "exception": false,
     "start_time": "2021-03-01T14:47:33.405673",
     "status": "completed"
    },
    "tags": []
   },
   "source": [
    "## compareClusters"
   ]
  },
  {
   "cell_type": "code",
   "execution_count": 34,
   "id": "laughing-somewhere",
   "metadata": {
    "execution": {
     "iopub.execute_input": "2021-03-01T14:47:33.470026Z",
     "iopub.status.busy": "2021-03-01T14:47:33.467550Z",
     "iopub.status.idle": "2021-03-01T14:47:33.478259Z",
     "shell.execute_reply": "2021-03-01T14:47:33.477875Z"
    },
    "papermill": {
     "duration": 0.032519,
     "end_time": "2021-03-01T14:47:33.478349",
     "exception": false,
     "start_time": "2021-03-01T14:47:33.445830",
     "status": "completed"
    },
    "tags": []
   },
   "outputs": [],
   "source": [
    "def run_enrich(filename_prefix, partition, ontology):\n",
    "    display(f\"  {ontology}\")\n",
    "\n",
    "    genes_per_cluster = {}\n",
    "    for c in pd.Series(partition).value_counts().index:\n",
    "        genes_per_cluster[c] = [\n",
    "            g.split(\".\")[0] for g in sim_matrix.index[partition == c]\n",
    "        ]\n",
    "\n",
    "    genes_per_cluster_set = {\n",
    "        f\"C{k:n}\": list(set(v)) for k, v in genes_per_cluster.items()\n",
    "    }\n",
    "    gene_clusters = robjects.ListVector(genes_per_cluster_set)\n",
    "\n",
    "    ck = clusterProfiler.compareCluster(\n",
    "        geneClusters=gene_clusters,\n",
    "        OrgDb=\"org.Hs.eg.db\",\n",
    "        keyType=\"ENSEMBL\",\n",
    "        universe=genes_universe,\n",
    "        fun=\"enrichGO\",\n",
    "        pAdjustMethod=\"fdr\",\n",
    "        pvalueCutoff=0.05,\n",
    "        ont=ontology,\n",
    "        readable=True,\n",
    "    )\n",
    "\n",
    "    df = ck.slots[\"compareClusterResult\"]\n",
    "    display(f\"    Full results size: {df.shape}\")\n",
    "    df.sort_values(\"p.adjust\").to_pickle(\n",
    "        Path(\n",
    "            OUTPUT_DIR,\n",
    "            f\"{filename_prefix}{METHOD}-enrichGO-{ontology}-full.pkl\",\n",
    "        )\n",
    "    )\n",
    "\n",
    "    # simplify\n",
    "    ck = clusterProfiler.simplify(ck, cutoff=0.3)\n",
    "    df = ck.slots[\"compareClusterResult\"]\n",
    "    display(f\"    Simplified results size: {df.shape}\")\n",
    "    df.sort_values(\"p.adjust\").to_pickle(\n",
    "        Path(\n",
    "            OUTPUT_DIR,\n",
    "            f\"{filename_prefix}{METHOD}-enrichGO-{ontology}-simplified.pkl\",\n",
    "        )\n",
    "    )"
   ]
  },
  {
   "cell_type": "code",
   "execution_count": 35,
   "id": "intensive-efficiency",
   "metadata": {
    "execution": {
     "iopub.execute_input": "2021-03-01T14:47:33.520263Z",
     "iopub.status.busy": "2021-03-01T14:47:33.519898Z",
     "iopub.status.idle": "2021-03-01T14:47:33.527233Z",
     "shell.execute_reply": "2021-03-01T14:47:33.526864Z"
    },
    "papermill": {
     "duration": 0.028766,
     "end_time": "2021-03-01T14:47:33.527316",
     "exception": false,
     "start_time": "2021-03-01T14:47:33.498550",
     "status": "completed"
    },
    "tags": []
   },
   "outputs": [],
   "source": [
    "# ck = clusterProfiler.compareCluster(\n",
    "#     geneClusters=genes_per_cluster_set_entrez,\n",
    "#     universe=genes_universe_entrez,\n",
    "# #     fun='enrichGO',\n",
    "#     fun='enrichPathway',\n",
    "#     pAdjustMethod='fdr',\n",
    "# #     pAdjustMethod='bonferroni',\n",
    "#     pvalueCutoff=0.05,\n",
    "#     readable=True,\n",
    "# )"
   ]
  },
  {
   "cell_type": "code",
   "execution_count": 36,
   "id": "incredible-pharmaceutical",
   "metadata": {
    "execution": {
     "iopub.execute_input": "2021-03-01T14:47:33.569281Z",
     "iopub.status.busy": "2021-03-01T14:47:33.568898Z",
     "iopub.status.idle": "2021-03-01T19:56:24.014249Z",
     "shell.execute_reply": "2021-03-01T19:56:24.013932Z"
    },
    "papermill": {
     "duration": 18530.467315,
     "end_time": "2021-03-01T19:56:24.014341",
     "exception": false,
     "start_time": "2021-03-01T14:47:33.547026",
     "status": "completed"
    },
    "tags": []
   },
   "outputs": [
    {
     "data": {
      "text/plain": [
       "'Partition with n_clusters=2'"
      ]
     },
     "metadata": {},
     "output_type": "display_data"
    },
    {
     "data": {
      "text/plain": [
       "'  BP'"
      ]
     },
     "metadata": {},
     "output_type": "display_data"
    },
    {
     "data": {
      "text/plain": [
       "'    Full results size: (2310, 10)'"
      ]
     },
     "metadata": {},
     "output_type": "display_data"
    },
    {
     "data": {
      "text/plain": [
       "'    Simplified results size: (45, 10)'"
      ]
     },
     "metadata": {},
     "output_type": "display_data"
    },
    {
     "data": {
      "text/plain": [
       "'  CC'"
      ]
     },
     "metadata": {},
     "output_type": "display_data"
    },
    {
     "data": {
      "text/plain": [
       "'    Full results size: (363, 10)'"
      ]
     },
     "metadata": {},
     "output_type": "display_data"
    },
    {
     "data": {
      "text/plain": [
       "'    Simplified results size: (12, 10)'"
      ]
     },
     "metadata": {},
     "output_type": "display_data"
    },
    {
     "data": {
      "text/plain": [
       "'  MF'"
      ]
     },
     "metadata": {},
     "output_type": "display_data"
    },
    {
     "data": {
      "text/plain": [
       "'    Full results size: (228, 10)'"
      ]
     },
     "metadata": {},
     "output_type": "display_data"
    },
    {
     "data": {
      "text/plain": [
       "'    Simplified results size: (13, 10)'"
      ]
     },
     "metadata": {},
     "output_type": "display_data"
    },
    {
     "data": {
      "text/plain": [
       "'Partition with n_clusters=5'"
      ]
     },
     "metadata": {},
     "output_type": "display_data"
    },
    {
     "data": {
      "text/plain": [
       "'  BP'"
      ]
     },
     "metadata": {},
     "output_type": "display_data"
    },
    {
     "data": {
      "text/plain": [
       "'    Full results size: (2442, 10)'"
      ]
     },
     "metadata": {},
     "output_type": "display_data"
    },
    {
     "data": {
      "text/plain": [
       "'    Simplified results size: (71, 10)'"
      ]
     },
     "metadata": {},
     "output_type": "display_data"
    },
    {
     "data": {
      "text/plain": [
       "'  CC'"
      ]
     },
     "metadata": {},
     "output_type": "display_data"
    },
    {
     "data": {
      "text/plain": [
       "'    Full results size: (394, 10)'"
      ]
     },
     "metadata": {},
     "output_type": "display_data"
    },
    {
     "data": {
      "text/plain": [
       "'    Simplified results size: (22, 10)'"
      ]
     },
     "metadata": {},
     "output_type": "display_data"
    },
    {
     "data": {
      "text/plain": [
       "'  MF'"
      ]
     },
     "metadata": {},
     "output_type": "display_data"
    },
    {
     "data": {
      "text/plain": [
       "'    Full results size: (250, 10)'"
      ]
     },
     "metadata": {},
     "output_type": "display_data"
    },
    {
     "data": {
      "text/plain": [
       "'    Simplified results size: (34, 10)'"
      ]
     },
     "metadata": {},
     "output_type": "display_data"
    },
    {
     "data": {
      "text/plain": [
       "'Partition with n_clusters=10'"
      ]
     },
     "metadata": {},
     "output_type": "display_data"
    },
    {
     "data": {
      "text/plain": [
       "'  BP'"
      ]
     },
     "metadata": {},
     "output_type": "display_data"
    },
    {
     "data": {
      "text/plain": [
       "'    Full results size: (2951, 10)'"
      ]
     },
     "metadata": {},
     "output_type": "display_data"
    },
    {
     "data": {
      "text/plain": [
       "'    Simplified results size: (102, 10)'"
      ]
     },
     "metadata": {},
     "output_type": "display_data"
    },
    {
     "data": {
      "text/plain": [
       "'  CC'"
      ]
     },
     "metadata": {},
     "output_type": "display_data"
    },
    {
     "data": {
      "text/plain": [
       "'    Full results size: (505, 10)'"
      ]
     },
     "metadata": {},
     "output_type": "display_data"
    },
    {
     "data": {
      "text/plain": [
       "'    Simplified results size: (37, 10)'"
      ]
     },
     "metadata": {},
     "output_type": "display_data"
    },
    {
     "data": {
      "text/plain": [
       "'  MF'"
      ]
     },
     "metadata": {},
     "output_type": "display_data"
    },
    {
     "data": {
      "text/plain": [
       "'    Full results size: (307, 10)'"
      ]
     },
     "metadata": {},
     "output_type": "display_data"
    },
    {
     "data": {
      "text/plain": [
       "'    Simplified results size: (56, 10)'"
      ]
     },
     "metadata": {},
     "output_type": "display_data"
    },
    {
     "data": {
      "text/plain": [
       "'Partition with n_clusters=15'"
      ]
     },
     "metadata": {},
     "output_type": "display_data"
    },
    {
     "data": {
      "text/plain": [
       "'  BP'"
      ]
     },
     "metadata": {},
     "output_type": "display_data"
    },
    {
     "data": {
      "text/plain": [
       "'    Full results size: (3361, 10)'"
      ]
     },
     "metadata": {},
     "output_type": "display_data"
    },
    {
     "data": {
      "text/plain": [
       "'    Simplified results size: (130, 10)'"
      ]
     },
     "metadata": {},
     "output_type": "display_data"
    },
    {
     "data": {
      "text/plain": [
       "'  CC'"
      ]
     },
     "metadata": {},
     "output_type": "display_data"
    },
    {
     "data": {
      "text/plain": [
       "'    Full results size: (550, 10)'"
      ]
     },
     "metadata": {},
     "output_type": "display_data"
    },
    {
     "data": {
      "text/plain": [
       "'    Simplified results size: (60, 10)'"
      ]
     },
     "metadata": {},
     "output_type": "display_data"
    },
    {
     "data": {
      "text/plain": [
       "'  MF'"
      ]
     },
     "metadata": {},
     "output_type": "display_data"
    },
    {
     "data": {
      "text/plain": [
       "'    Full results size: (389, 10)'"
      ]
     },
     "metadata": {},
     "output_type": "display_data"
    },
    {
     "data": {
      "text/plain": [
       "'    Simplified results size: (86, 10)'"
      ]
     },
     "metadata": {},
     "output_type": "display_data"
    },
    {
     "data": {
      "text/plain": [
       "'Partition with n_clusters=20'"
      ]
     },
     "metadata": {},
     "output_type": "display_data"
    },
    {
     "data": {
      "text/plain": [
       "'  BP'"
      ]
     },
     "metadata": {},
     "output_type": "display_data"
    },
    {
     "data": {
      "text/plain": [
       "'    Full results size: (3453, 10)'"
      ]
     },
     "metadata": {},
     "output_type": "display_data"
    },
    {
     "data": {
      "text/plain": [
       "'    Simplified results size: (165, 10)'"
      ]
     },
     "metadata": {},
     "output_type": "display_data"
    },
    {
     "data": {
      "text/plain": [
       "'  CC'"
      ]
     },
     "metadata": {},
     "output_type": "display_data"
    },
    {
     "data": {
      "text/plain": [
       "'    Full results size: (610, 10)'"
      ]
     },
     "metadata": {},
     "output_type": "display_data"
    },
    {
     "data": {
      "text/plain": [
       "'    Simplified results size: (72, 10)'"
      ]
     },
     "metadata": {},
     "output_type": "display_data"
    },
    {
     "data": {
      "text/plain": [
       "'  MF'"
      ]
     },
     "metadata": {},
     "output_type": "display_data"
    },
    {
     "data": {
      "text/plain": [
       "'    Full results size: (444, 10)'"
      ]
     },
     "metadata": {},
     "output_type": "display_data"
    },
    {
     "data": {
      "text/plain": [
       "'    Simplified results size: (112, 10)'"
      ]
     },
     "metadata": {},
     "output_type": "display_data"
    },
    {
     "data": {
      "text/plain": [
       "'Partition with n_clusters=25'"
      ]
     },
     "metadata": {},
     "output_type": "display_data"
    },
    {
     "data": {
      "text/plain": [
       "'  BP'"
      ]
     },
     "metadata": {},
     "output_type": "display_data"
    },
    {
     "data": {
      "text/plain": [
       "'    Full results size: (3845, 10)'"
      ]
     },
     "metadata": {},
     "output_type": "display_data"
    },
    {
     "data": {
      "text/plain": [
       "'    Simplified results size: (196, 10)'"
      ]
     },
     "metadata": {},
     "output_type": "display_data"
    },
    {
     "data": {
      "text/plain": [
       "'  CC'"
      ]
     },
     "metadata": {},
     "output_type": "display_data"
    },
    {
     "data": {
      "text/plain": [
       "'    Full results size: (690, 10)'"
      ]
     },
     "metadata": {},
     "output_type": "display_data"
    },
    {
     "data": {
      "text/plain": [
       "'    Simplified results size: (80, 10)'"
      ]
     },
     "metadata": {},
     "output_type": "display_data"
    },
    {
     "data": {
      "text/plain": [
       "'  MF'"
      ]
     },
     "metadata": {},
     "output_type": "display_data"
    },
    {
     "data": {
      "text/plain": [
       "'    Full results size: (481, 10)'"
      ]
     },
     "metadata": {},
     "output_type": "display_data"
    },
    {
     "data": {
      "text/plain": [
       "'    Simplified results size: (137, 10)'"
      ]
     },
     "metadata": {},
     "output_type": "display_data"
    },
    {
     "data": {
      "text/plain": [
       "'Partition with n_clusters=30'"
      ]
     },
     "metadata": {},
     "output_type": "display_data"
    },
    {
     "data": {
      "text/plain": [
       "'  BP'"
      ]
     },
     "metadata": {},
     "output_type": "display_data"
    },
    {
     "data": {
      "text/plain": [
       "'    Full results size: (3684, 10)'"
      ]
     },
     "metadata": {},
     "output_type": "display_data"
    },
    {
     "data": {
      "text/plain": [
       "'    Simplified results size: (217, 10)'"
      ]
     },
     "metadata": {},
     "output_type": "display_data"
    },
    {
     "data": {
      "text/plain": [
       "'  CC'"
      ]
     },
     "metadata": {},
     "output_type": "display_data"
    },
    {
     "data": {
      "text/plain": [
       "'    Full results size: (741, 10)'"
      ]
     },
     "metadata": {},
     "output_type": "display_data"
    },
    {
     "data": {
      "text/plain": [
       "'    Simplified results size: (97, 10)'"
      ]
     },
     "metadata": {},
     "output_type": "display_data"
    },
    {
     "data": {
      "text/plain": [
       "'  MF'"
      ]
     },
     "metadata": {},
     "output_type": "display_data"
    },
    {
     "data": {
      "text/plain": [
       "'    Full results size: (504, 10)'"
      ]
     },
     "metadata": {},
     "output_type": "display_data"
    },
    {
     "data": {
      "text/plain": [
       "'    Simplified results size: (153, 10)'"
      ]
     },
     "metadata": {},
     "output_type": "display_data"
    },
    {
     "data": {
      "text/plain": [
       "'Partition with n_clusters=35'"
      ]
     },
     "metadata": {},
     "output_type": "display_data"
    },
    {
     "data": {
      "text/plain": [
       "'  BP'"
      ]
     },
     "metadata": {},
     "output_type": "display_data"
    },
    {
     "data": {
      "text/plain": [
       "'    Full results size: (4132, 10)'"
      ]
     },
     "metadata": {},
     "output_type": "display_data"
    },
    {
     "data": {
      "text/plain": [
       "'    Simplified results size: (264, 10)'"
      ]
     },
     "metadata": {},
     "output_type": "display_data"
    },
    {
     "data": {
      "text/plain": [
       "'  CC'"
      ]
     },
     "metadata": {},
     "output_type": "display_data"
    },
    {
     "data": {
      "text/plain": [
       "'    Full results size: (785, 10)'"
      ]
     },
     "metadata": {},
     "output_type": "display_data"
    },
    {
     "data": {
      "text/plain": [
       "'    Simplified results size: (118, 10)'"
      ]
     },
     "metadata": {},
     "output_type": "display_data"
    },
    {
     "data": {
      "text/plain": [
       "'  MF'"
      ]
     },
     "metadata": {},
     "output_type": "display_data"
    },
    {
     "data": {
      "text/plain": [
       "'    Full results size: (539, 10)'"
      ]
     },
     "metadata": {},
     "output_type": "display_data"
    },
    {
     "data": {
      "text/plain": [
       "'    Simplified results size: (152, 10)'"
      ]
     },
     "metadata": {},
     "output_type": "display_data"
    },
    {
     "data": {
      "text/plain": [
       "'Partition with n_clusters=40'"
      ]
     },
     "metadata": {},
     "output_type": "display_data"
    },
    {
     "data": {
      "text/plain": [
       "'  BP'"
      ]
     },
     "metadata": {},
     "output_type": "display_data"
    },
    {
     "data": {
      "text/plain": [
       "'    Full results size: (4040, 10)'"
      ]
     },
     "metadata": {},
     "output_type": "display_data"
    },
    {
     "data": {
      "text/plain": [
       "'    Simplified results size: (302, 10)'"
      ]
     },
     "metadata": {},
     "output_type": "display_data"
    },
    {
     "data": {
      "text/plain": [
       "'  CC'"
      ]
     },
     "metadata": {},
     "output_type": "display_data"
    },
    {
     "data": {
      "text/plain": [
       "'    Full results size: (835, 10)'"
      ]
     },
     "metadata": {},
     "output_type": "display_data"
    },
    {
     "data": {
      "text/plain": [
       "'    Simplified results size: (131, 10)'"
      ]
     },
     "metadata": {},
     "output_type": "display_data"
    },
    {
     "data": {
      "text/plain": [
       "'  MF'"
      ]
     },
     "metadata": {},
     "output_type": "display_data"
    },
    {
     "data": {
      "text/plain": [
       "'    Full results size: (546, 10)'"
      ]
     },
     "metadata": {},
     "output_type": "display_data"
    },
    {
     "data": {
      "text/plain": [
       "'    Simplified results size: (162, 10)'"
      ]
     },
     "metadata": {},
     "output_type": "display_data"
    },
    {
     "data": {
      "text/plain": [
       "'Partition with n_clusters=45'"
      ]
     },
     "metadata": {},
     "output_type": "display_data"
    },
    {
     "data": {
      "text/plain": [
       "'  BP'"
      ]
     },
     "metadata": {},
     "output_type": "display_data"
    },
    {
     "data": {
      "text/plain": [
       "'    Full results size: (4123, 10)'"
      ]
     },
     "metadata": {},
     "output_type": "display_data"
    },
    {
     "data": {
      "text/plain": [
       "'    Simplified results size: (309, 10)'"
      ]
     },
     "metadata": {},
     "output_type": "display_data"
    },
    {
     "data": {
      "text/plain": [
       "'  CC'"
      ]
     },
     "metadata": {},
     "output_type": "display_data"
    },
    {
     "data": {
      "text/plain": [
       "'    Full results size: (823, 10)'"
      ]
     },
     "metadata": {},
     "output_type": "display_data"
    },
    {
     "data": {
      "text/plain": [
       "'    Simplified results size: (120, 10)'"
      ]
     },
     "metadata": {},
     "output_type": "display_data"
    },
    {
     "data": {
      "text/plain": [
       "'  MF'"
      ]
     },
     "metadata": {},
     "output_type": "display_data"
    },
    {
     "data": {
      "text/plain": [
       "'    Full results size: (560, 10)'"
      ]
     },
     "metadata": {},
     "output_type": "display_data"
    },
    {
     "data": {
      "text/plain": [
       "'    Simplified results size: (173, 10)'"
      ]
     },
     "metadata": {},
     "output_type": "display_data"
    },
    {
     "data": {
      "text/plain": [
       "'Partition with n_clusters=50'"
      ]
     },
     "metadata": {},
     "output_type": "display_data"
    },
    {
     "data": {
      "text/plain": [
       "'  BP'"
      ]
     },
     "metadata": {},
     "output_type": "display_data"
    },
    {
     "data": {
      "text/plain": [
       "'    Full results size: (4167, 10)'"
      ]
     },
     "metadata": {},
     "output_type": "display_data"
    },
    {
     "data": {
      "text/plain": [
       "'    Simplified results size: (355, 10)'"
      ]
     },
     "metadata": {},
     "output_type": "display_data"
    },
    {
     "data": {
      "text/plain": [
       "'  CC'"
      ]
     },
     "metadata": {},
     "output_type": "display_data"
    },
    {
     "data": {
      "text/plain": [
       "'    Full results size: (861, 10)'"
      ]
     },
     "metadata": {},
     "output_type": "display_data"
    },
    {
     "data": {
      "text/plain": [
       "'    Simplified results size: (141, 10)'"
      ]
     },
     "metadata": {},
     "output_type": "display_data"
    },
    {
     "data": {
      "text/plain": [
       "'  MF'"
      ]
     },
     "metadata": {},
     "output_type": "display_data"
    },
    {
     "data": {
      "text/plain": [
       "'    Full results size: (671, 10)'"
      ]
     },
     "metadata": {},
     "output_type": "display_data"
    },
    {
     "data": {
      "text/plain": [
       "'    Simplified results size: (182, 10)'"
      ]
     },
     "metadata": {},
     "output_type": "display_data"
    },
    {
     "data": {
      "text/plain": [
       "'Partition with n_clusters=55'"
      ]
     },
     "metadata": {},
     "output_type": "display_data"
    },
    {
     "data": {
      "text/plain": [
       "'  BP'"
      ]
     },
     "metadata": {},
     "output_type": "display_data"
    },
    {
     "data": {
      "text/plain": [
       "'    Full results size: (4345, 10)'"
      ]
     },
     "metadata": {},
     "output_type": "display_data"
    },
    {
     "data": {
      "text/plain": [
       "'    Simplified results size: (378, 10)'"
      ]
     },
     "metadata": {},
     "output_type": "display_data"
    },
    {
     "data": {
      "text/plain": [
       "'  CC'"
      ]
     },
     "metadata": {},
     "output_type": "display_data"
    },
    {
     "data": {
      "text/plain": [
       "'    Full results size: (866, 10)'"
      ]
     },
     "metadata": {},
     "output_type": "display_data"
    },
    {
     "data": {
      "text/plain": [
       "'    Simplified results size: (150, 10)'"
      ]
     },
     "metadata": {},
     "output_type": "display_data"
    },
    {
     "data": {
      "text/plain": [
       "'  MF'"
      ]
     },
     "metadata": {},
     "output_type": "display_data"
    },
    {
     "data": {
      "text/plain": [
       "'    Full results size: (706, 10)'"
      ]
     },
     "metadata": {},
     "output_type": "display_data"
    },
    {
     "data": {
      "text/plain": [
       "'    Simplified results size: (210, 10)'"
      ]
     },
     "metadata": {},
     "output_type": "display_data"
    },
    {
     "data": {
      "text/plain": [
       "'Partition with n_clusters=60'"
      ]
     },
     "metadata": {},
     "output_type": "display_data"
    },
    {
     "data": {
      "text/plain": [
       "'  BP'"
      ]
     },
     "metadata": {},
     "output_type": "display_data"
    },
    {
     "data": {
      "text/plain": [
       "'    Full results size: (4600, 10)'"
      ]
     },
     "metadata": {},
     "output_type": "display_data"
    },
    {
     "data": {
      "text/plain": [
       "'    Simplified results size: (446, 10)'"
      ]
     },
     "metadata": {},
     "output_type": "display_data"
    },
    {
     "data": {
      "text/plain": [
       "'  CC'"
      ]
     },
     "metadata": {},
     "output_type": "display_data"
    },
    {
     "data": {
      "text/plain": [
       "'    Full results size: (967, 10)'"
      ]
     },
     "metadata": {},
     "output_type": "display_data"
    },
    {
     "data": {
      "text/plain": [
       "'    Simplified results size: (156, 10)'"
      ]
     },
     "metadata": {},
     "output_type": "display_data"
    },
    {
     "data": {
      "text/plain": [
       "'  MF'"
      ]
     },
     "metadata": {},
     "output_type": "display_data"
    },
    {
     "data": {
      "text/plain": [
       "'    Full results size: (693, 10)'"
      ]
     },
     "metadata": {},
     "output_type": "display_data"
    },
    {
     "data": {
      "text/plain": [
       "'    Simplified results size: (224, 10)'"
      ]
     },
     "metadata": {},
     "output_type": "display_data"
    },
    {
     "data": {
      "text/plain": [
       "'Partition with n_clusters=65'"
      ]
     },
     "metadata": {},
     "output_type": "display_data"
    },
    {
     "data": {
      "text/plain": [
       "'  BP'"
      ]
     },
     "metadata": {},
     "output_type": "display_data"
    },
    {
     "data": {
      "text/plain": [
       "'    Full results size: (4503, 10)'"
      ]
     },
     "metadata": {},
     "output_type": "display_data"
    },
    {
     "data": {
      "text/plain": [
       "'    Simplified results size: (479, 10)'"
      ]
     },
     "metadata": {},
     "output_type": "display_data"
    },
    {
     "data": {
      "text/plain": [
       "'  CC'"
      ]
     },
     "metadata": {},
     "output_type": "display_data"
    },
    {
     "data": {
      "text/plain": [
       "'    Full results size: (925, 10)'"
      ]
     },
     "metadata": {},
     "output_type": "display_data"
    },
    {
     "data": {
      "text/plain": [
       "'    Simplified results size: (164, 10)'"
      ]
     },
     "metadata": {},
     "output_type": "display_data"
    },
    {
     "data": {
      "text/plain": [
       "'  MF'"
      ]
     },
     "metadata": {},
     "output_type": "display_data"
    },
    {
     "data": {
      "text/plain": [
       "'    Full results size: (699, 10)'"
      ]
     },
     "metadata": {},
     "output_type": "display_data"
    },
    {
     "data": {
      "text/plain": [
       "'    Simplified results size: (235, 10)'"
      ]
     },
     "metadata": {},
     "output_type": "display_data"
    },
    {
     "data": {
      "text/plain": [
       "'Partition with n_clusters=70'"
      ]
     },
     "metadata": {},
     "output_type": "display_data"
    },
    {
     "data": {
      "text/plain": [
       "'  BP'"
      ]
     },
     "metadata": {},
     "output_type": "display_data"
    },
    {
     "data": {
      "text/plain": [
       "'    Full results size: (4926, 10)'"
      ]
     },
     "metadata": {},
     "output_type": "display_data"
    },
    {
     "data": {
      "text/plain": [
       "'    Simplified results size: (532, 10)'"
      ]
     },
     "metadata": {},
     "output_type": "display_data"
    },
    {
     "data": {
      "text/plain": [
       "'  CC'"
      ]
     },
     "metadata": {},
     "output_type": "display_data"
    },
    {
     "data": {
      "text/plain": [
       "'    Full results size: (957, 10)'"
      ]
     },
     "metadata": {},
     "output_type": "display_data"
    },
    {
     "data": {
      "text/plain": [
       "'    Simplified results size: (165, 10)'"
      ]
     },
     "metadata": {},
     "output_type": "display_data"
    },
    {
     "data": {
      "text/plain": [
       "'  MF'"
      ]
     },
     "metadata": {},
     "output_type": "display_data"
    },
    {
     "data": {
      "text/plain": [
       "'    Full results size: (731, 10)'"
      ]
     },
     "metadata": {},
     "output_type": "display_data"
    },
    {
     "data": {
      "text/plain": [
       "'    Simplified results size: (254, 10)'"
      ]
     },
     "metadata": {},
     "output_type": "display_data"
    },
    {
     "data": {
      "text/plain": [
       "'Partition with n_clusters=75'"
      ]
     },
     "metadata": {},
     "output_type": "display_data"
    },
    {
     "data": {
      "text/plain": [
       "'  BP'"
      ]
     },
     "metadata": {},
     "output_type": "display_data"
    },
    {
     "data": {
      "text/plain": [
       "'    Full results size: (4779, 10)'"
      ]
     },
     "metadata": {},
     "output_type": "display_data"
    },
    {
     "data": {
      "text/plain": [
       "'    Simplified results size: (539, 10)'"
      ]
     },
     "metadata": {},
     "output_type": "display_data"
    },
    {
     "data": {
      "text/plain": [
       "'  CC'"
      ]
     },
     "metadata": {},
     "output_type": "display_data"
    },
    {
     "data": {
      "text/plain": [
       "'    Full results size: (1037, 10)'"
      ]
     },
     "metadata": {},
     "output_type": "display_data"
    },
    {
     "data": {
      "text/plain": [
       "'    Simplified results size: (176, 10)'"
      ]
     },
     "metadata": {},
     "output_type": "display_data"
    },
    {
     "data": {
      "text/plain": [
       "'  MF'"
      ]
     },
     "metadata": {},
     "output_type": "display_data"
    },
    {
     "data": {
      "text/plain": [
       "'    Full results size: (806, 10)'"
      ]
     },
     "metadata": {},
     "output_type": "display_data"
    },
    {
     "data": {
      "text/plain": [
       "'    Simplified results size: (277, 10)'"
      ]
     },
     "metadata": {},
     "output_type": "display_data"
    },
    {
     "data": {
      "text/plain": [
       "'Partition with n_clusters=80'"
      ]
     },
     "metadata": {},
     "output_type": "display_data"
    },
    {
     "data": {
      "text/plain": [
       "'  BP'"
      ]
     },
     "metadata": {},
     "output_type": "display_data"
    },
    {
     "data": {
      "text/plain": [
       "'    Full results size: (5205, 10)'"
      ]
     },
     "metadata": {},
     "output_type": "display_data"
    },
    {
     "data": {
      "text/plain": [
       "'    Simplified results size: (546, 10)'"
      ]
     },
     "metadata": {},
     "output_type": "display_data"
    },
    {
     "data": {
      "text/plain": [
       "'  CC'"
      ]
     },
     "metadata": {},
     "output_type": "display_data"
    },
    {
     "data": {
      "text/plain": [
       "'    Full results size: (1117, 10)'"
      ]
     },
     "metadata": {},
     "output_type": "display_data"
    },
    {
     "data": {
      "text/plain": [
       "'    Simplified results size: (194, 10)'"
      ]
     },
     "metadata": {},
     "output_type": "display_data"
    },
    {
     "data": {
      "text/plain": [
       "'  MF'"
      ]
     },
     "metadata": {},
     "output_type": "display_data"
    },
    {
     "data": {
      "text/plain": [
       "'    Full results size: (853, 10)'"
      ]
     },
     "metadata": {},
     "output_type": "display_data"
    },
    {
     "data": {
      "text/plain": [
       "'    Simplified results size: (308, 10)'"
      ]
     },
     "metadata": {},
     "output_type": "display_data"
    },
    {
     "data": {
      "text/plain": [
       "'Partition with n_clusters=90'"
      ]
     },
     "metadata": {},
     "output_type": "display_data"
    },
    {
     "data": {
      "text/plain": [
       "'  BP'"
      ]
     },
     "metadata": {},
     "output_type": "display_data"
    },
    {
     "data": {
      "text/plain": [
       "'    Full results size: (5024, 10)'"
      ]
     },
     "metadata": {},
     "output_type": "display_data"
    },
    {
     "data": {
      "text/plain": [
       "'    Simplified results size: (632, 10)'"
      ]
     },
     "metadata": {},
     "output_type": "display_data"
    },
    {
     "data": {
      "text/plain": [
       "'  CC'"
      ]
     },
     "metadata": {},
     "output_type": "display_data"
    },
    {
     "data": {
      "text/plain": [
       "'    Full results size: (1106, 10)'"
      ]
     },
     "metadata": {},
     "output_type": "display_data"
    },
    {
     "data": {
      "text/plain": [
       "'    Simplified results size: (217, 10)'"
      ]
     },
     "metadata": {},
     "output_type": "display_data"
    },
    {
     "data": {
      "text/plain": [
       "'  MF'"
      ]
     },
     "metadata": {},
     "output_type": "display_data"
    },
    {
     "data": {
      "text/plain": [
       "'    Full results size: (764, 10)'"
      ]
     },
     "metadata": {},
     "output_type": "display_data"
    },
    {
     "data": {
      "text/plain": [
       "'    Simplified results size: (274, 10)'"
      ]
     },
     "metadata": {},
     "output_type": "display_data"
    },
    {
     "data": {
      "text/plain": [
       "'Partition with n_clusters=95'"
      ]
     },
     "metadata": {},
     "output_type": "display_data"
    },
    {
     "data": {
      "text/plain": [
       "'  BP'"
      ]
     },
     "metadata": {},
     "output_type": "display_data"
    },
    {
     "data": {
      "text/plain": [
       "'    Full results size: (5177, 10)'"
      ]
     },
     "metadata": {},
     "output_type": "display_data"
    },
    {
     "data": {
      "text/plain": [
       "'    Simplified results size: (627, 10)'"
      ]
     },
     "metadata": {},
     "output_type": "display_data"
    },
    {
     "data": {
      "text/plain": [
       "'  CC'"
      ]
     },
     "metadata": {},
     "output_type": "display_data"
    },
    {
     "data": {
      "text/plain": [
       "'    Full results size: (1147, 10)'"
      ]
     },
     "metadata": {},
     "output_type": "display_data"
    },
    {
     "data": {
      "text/plain": [
       "'    Simplified results size: (210, 10)'"
      ]
     },
     "metadata": {},
     "output_type": "display_data"
    },
    {
     "data": {
      "text/plain": [
       "'  MF'"
      ]
     },
     "metadata": {},
     "output_type": "display_data"
    },
    {
     "data": {
      "text/plain": [
       "'    Full results size: (795, 10)'"
      ]
     },
     "metadata": {},
     "output_type": "display_data"
    },
    {
     "data": {
      "text/plain": [
       "'    Simplified results size: (301, 10)'"
      ]
     },
     "metadata": {},
     "output_type": "display_data"
    },
    {
     "data": {
      "text/plain": [
       "'Partition with n_clusters=100'"
      ]
     },
     "metadata": {},
     "output_type": "display_data"
    },
    {
     "data": {
      "text/plain": [
       "'  BP'"
      ]
     },
     "metadata": {},
     "output_type": "display_data"
    },
    {
     "data": {
      "text/plain": [
       "'    Full results size: (5445, 10)'"
      ]
     },
     "metadata": {},
     "output_type": "display_data"
    },
    {
     "data": {
      "text/plain": [
       "'    Simplified results size: (649, 10)'"
      ]
     },
     "metadata": {},
     "output_type": "display_data"
    },
    {
     "data": {
      "text/plain": [
       "'  CC'"
      ]
     },
     "metadata": {},
     "output_type": "display_data"
    },
    {
     "data": {
      "text/plain": [
       "'    Full results size: (1234, 10)'"
      ]
     },
     "metadata": {},
     "output_type": "display_data"
    },
    {
     "data": {
      "text/plain": [
       "'    Simplified results size: (238, 10)'"
      ]
     },
     "metadata": {},
     "output_type": "display_data"
    },
    {
     "data": {
      "text/plain": [
       "'  MF'"
      ]
     },
     "metadata": {},
     "output_type": "display_data"
    },
    {
     "data": {
      "text/plain": [
       "'    Full results size: (861, 10)'"
      ]
     },
     "metadata": {},
     "output_type": "display_data"
    },
    {
     "data": {
      "text/plain": [
       "'    Simplified results size: (327, 10)'"
      ]
     },
     "metadata": {},
     "output_type": "display_data"
    },
    {
     "data": {
      "text/plain": [
       "'Partition with n_clusters=200'"
      ]
     },
     "metadata": {},
     "output_type": "display_data"
    },
    {
     "data": {
      "text/plain": [
       "'  BP'"
      ]
     },
     "metadata": {},
     "output_type": "display_data"
    },
    {
     "data": {
      "text/plain": [
       "'    Full results size: (8427, 10)'"
      ]
     },
     "metadata": {},
     "output_type": "display_data"
    },
    {
     "data": {
      "text/plain": [
       "'    Simplified results size: (1623, 10)'"
      ]
     },
     "metadata": {},
     "output_type": "display_data"
    },
    {
     "data": {
      "text/plain": [
       "'  CC'"
      ]
     },
     "metadata": {},
     "output_type": "display_data"
    },
    {
     "data": {
      "text/plain": [
       "'    Full results size: (1739, 10)'"
      ]
     },
     "metadata": {},
     "output_type": "display_data"
    },
    {
     "data": {
      "text/plain": [
       "'    Simplified results size: (427, 10)'"
      ]
     },
     "metadata": {},
     "output_type": "display_data"
    },
    {
     "data": {
      "text/plain": [
       "'  MF'"
      ]
     },
     "metadata": {},
     "output_type": "display_data"
    },
    {
     "data": {
      "text/plain": [
       "'    Full results size: (1467, 10)'"
      ]
     },
     "metadata": {},
     "output_type": "display_data"
    },
    {
     "data": {
      "text/plain": [
       "'    Simplified results size: (606, 10)'"
      ]
     },
     "metadata": {},
     "output_type": "display_data"
    }
   ],
   "source": [
    "for idx, cr in cm_results.sort_values(\"n_clusters\").iterrows():\n",
    "    display(f\"Partition with n_clusters={cr.n_clusters}\")\n",
    "\n",
    "    prefix = f\"k_{cr.n_clusters}-\"\n",
    "    run_enrich(prefix, cr.partition, \"BP\")\n",
    "    run_enrich(prefix, cr.partition, \"CC\")\n",
    "    run_enrich(prefix, cr.partition, \"MF\")"
   ]
  },
  {
   "cell_type": "markdown",
   "id": "corrected-template",
   "metadata": {
    "papermill": {
     "duration": 0.060512,
     "end_time": "2021-03-01T19:56:24.136370",
     "exception": false,
     "start_time": "2021-03-01T19:56:24.075858",
     "status": "completed"
    },
    "tags": []
   },
   "source": [
    "## Plot"
   ]
  },
  {
   "cell_type": "code",
   "execution_count": 37,
   "id": "smaller-immunology",
   "metadata": {
    "execution": {
     "iopub.execute_input": "2021-03-01T19:56:24.259936Z",
     "iopub.status.busy": "2021-03-01T19:56:24.259565Z",
     "iopub.status.idle": "2021-03-01T19:56:24.266964Z",
     "shell.execute_reply": "2021-03-01T19:56:24.266591Z"
    },
    "papermill": {
     "duration": 0.070023,
     "end_time": "2021-03-01T19:56:24.267050",
     "exception": false,
     "start_time": "2021-03-01T19:56:24.197027",
     "status": "completed"
    },
    "tags": []
   },
   "outputs": [],
   "source": [
    "# import rpy2.robjects.lib.ggplot2 as ggplot2"
   ]
  },
  {
   "cell_type": "code",
   "execution_count": 38,
   "id": "portable-continuity",
   "metadata": {
    "execution": {
     "iopub.execute_input": "2021-03-01T19:56:24.393561Z",
     "iopub.status.busy": "2021-03-01T19:56:24.393190Z",
     "iopub.status.idle": "2021-03-01T19:56:24.400612Z",
     "shell.execute_reply": "2021-03-01T19:56:24.400234Z"
    },
    "papermill": {
     "duration": 0.071922,
     "end_time": "2021-03-01T19:56:24.400719",
     "exception": false,
     "start_time": "2021-03-01T19:56:24.328797",
     "status": "completed"
    },
    "tags": []
   },
   "outputs": [],
   "source": [
    "# grdevices.pdf(file=os.path.join(OUTPUT_FIGURES_DIR, 'asthma_biclusters_go_enrichment.pdf'), width=13, height=8)\n",
    "# args = {'showCategory': 5, 'font.size': 12}\n",
    "# p = enrichplot.dotplot(cks, **args) + \\\n",
    "#     ggplot2.theme(**{\n",
    "#         'text': ggplot2.element_text(size=20),\n",
    "#         'axis.text.x': ggplot2.element_text(size = 19),\n",
    "#         'axis.text.y': ggplot2.element_text(angle = 0, hjust = 1, size = 18),\n",
    "#         'legend.title.align': 0.5,\n",
    "#     }) + \\\n",
    "#     ggplot2.labs(color = \"p-value\\n(FDR)\", size = 'Gene\\nratio')\n",
    "# rprint(p)\n",
    "# grdevices.dev_off()"
   ]
  },
  {
   "cell_type": "code",
   "execution_count": null,
   "id": "complimentary-gathering",
   "metadata": {
    "papermill": {
     "duration": 0.060723,
     "end_time": "2021-03-01T19:56:24.523453",
     "exception": false,
     "start_time": "2021-03-01T19:56:24.462730",
     "status": "completed"
    },
    "tags": []
   },
   "outputs": [],
   "source": []
  }
 ],
 "metadata": {
  "jupytext": {
   "cell_metadata_filter": "all,-execution,-papermill,-trusted",
   "text_representation": {
    "extension": ".py",
    "format_name": "percent",
    "format_version": "1.3",
    "jupytext_version": "1.11.5"
   }
  },
  "kernelspec": {
   "display_name": "Python 3 (ipykernel)",
   "language": "python",
   "name": "python3"
  },
  "language_info": {
   "codemirror_mode": {
    "name": "ipython",
    "version": 3
   },
   "file_extension": ".py",
   "mimetype": "text/x-python",
   "name": "python",
   "nbconvert_exporter": "python",
   "pygments_lexer": "ipython3",
   "version": "3.9.6"
  },
  "papermill": {
   "default_parameters": {},
   "duration": 18540.654521,
   "end_time": "2021-03-01T19:56:26.867061",
   "environment_variables": {},
   "exception": null,
   "input_path": "05_cluster_analysis/10_00-clustermatch-go_enrichment.ipynb",
   "output_path": "05_cluster_analysis/10_00-clustermatch-go_enrichment.run.ipynb",
   "parameters": {},
   "start_time": "2021-03-01T14:47:26.212540",
   "version": "2.3.2"
  },
  "toc-autonumbering": true
 },
 "nbformat": 4,
 "nbformat_minor": 5
}
