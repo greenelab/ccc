{
 "cells": [
  {
   "cell_type": "markdown",
   "id": "smoking-westminster",
   "metadata": {
    "papermill": {
     "duration": 0.018572,
     "end_time": "2021-03-01T19:56:28.933717",
     "exception": false,
     "start_time": "2021-03-01T19:56:28.915145",
     "status": "completed"
    },
    "tags": []
   },
   "source": [
    "# Modules loading"
   ]
  },
  {
   "cell_type": "code",
   "execution_count": 1,
   "id": "amended-tractor",
   "metadata": {
    "execution": {
     "iopub.execute_input": "2021-03-01T19:56:28.968670Z",
     "iopub.status.busy": "2021-03-01T19:56:28.968290Z",
     "iopub.status.idle": "2021-03-01T19:56:28.975810Z",
     "shell.execute_reply": "2021-03-01T19:56:28.975380Z"
    },
    "papermill": {
     "duration": 0.027619,
     "end_time": "2021-03-01T19:56:28.975902",
     "exception": false,
     "start_time": "2021-03-01T19:56:28.948283",
     "status": "completed"
    },
    "tags": []
   },
   "outputs": [],
   "source": [
    "%load_ext autoreload\n",
    "%autoreload 2"
   ]
  },
  {
   "cell_type": "code",
   "execution_count": 2,
   "id": "impressed-dakota",
   "metadata": {
    "execution": {
     "iopub.execute_input": "2021-03-01T19:56:29.008756Z",
     "iopub.status.busy": "2021-03-01T19:56:29.008361Z",
     "iopub.status.idle": "2021-03-01T19:56:29.186704Z",
     "shell.execute_reply": "2021-03-01T19:56:29.186329Z"
    },
    "papermill": {
     "duration": 0.19523,
     "end_time": "2021-03-01T19:56:29.186791",
     "exception": false,
     "start_time": "2021-03-01T19:56:28.991561",
     "status": "completed"
    },
    "tags": []
   },
   "outputs": [],
   "source": [
    "from pathlib import Path\n",
    "\n",
    "import pandas as pd"
   ]
  },
  {
   "cell_type": "markdown",
   "id": "backed-stewart",
   "metadata": {
    "papermill": {
     "duration": 0.014962,
     "end_time": "2021-03-01T19:56:29.217042",
     "exception": false,
     "start_time": "2021-03-01T19:56:29.202080",
     "status": "completed"
    },
    "tags": []
   },
   "source": [
    "# Settings"
   ]
  },
  {
   "cell_type": "code",
   "execution_count": 3,
   "id": "polished-apple",
   "metadata": {
    "execution": {
     "iopub.execute_input": "2021-03-01T19:56:29.249182Z",
     "iopub.status.busy": "2021-03-01T19:56:29.248821Z",
     "iopub.status.idle": "2021-03-01T19:56:29.256108Z",
     "shell.execute_reply": "2021-03-01T19:56:29.255749Z"
    },
    "papermill": {
     "duration": 0.024337,
     "end_time": "2021-03-01T19:56:29.256190",
     "exception": false,
     "start_time": "2021-03-01T19:56:29.231853",
     "status": "completed"
    },
    "tags": []
   },
   "outputs": [],
   "source": [
    "METHOD = \"pearson\"\n",
    "METHOD_SHORT = \"corr\""
   ]
  },
  {
   "cell_type": "code",
   "execution_count": 4,
   "id": "veterinary-mandate",
   "metadata": {
    "execution": {
     "iopub.execute_input": "2021-03-01T19:56:29.289323Z",
     "iopub.status.busy": "2021-03-01T19:56:29.288963Z",
     "iopub.status.idle": "2021-03-01T19:56:29.301097Z",
     "shell.execute_reply": "2021-03-01T19:56:29.300678Z"
    },
    "papermill": {
     "duration": 0.029648,
     "end_time": "2021-03-01T19:56:29.301181",
     "exception": false,
     "start_time": "2021-03-01T19:56:29.271533",
     "status": "completed"
    },
    "tags": []
   },
   "outputs": [
    {
     "data": {
      "text/plain": [
       "PosixPath('/home/miltondp/projects/labs/greenelab/cm_gene_expression/base')"
      ]
     },
     "metadata": {},
     "output_type": "display_data"
    }
   ],
   "source": [
    "# BASE_FOLDER = Path(\"..\", \"base\").resolve()\n",
    "BASE_FOLDER = Path(\"base\").resolve()\n",
    "\n",
    "assert BASE_FOLDER.exists()\n",
    "\n",
    "display(BASE_FOLDER)"
   ]
  },
  {
   "cell_type": "code",
   "execution_count": 5,
   "id": "incorporated-reward",
   "metadata": {
    "execution": {
     "iopub.execute_input": "2021-03-01T19:56:29.335263Z",
     "iopub.status.busy": "2021-03-01T19:56:29.334903Z",
     "iopub.status.idle": "2021-03-01T19:56:29.343083Z",
     "shell.execute_reply": "2021-03-01T19:56:29.342692Z"
    },
    "papermill": {
     "duration": 0.025969,
     "end_time": "2021-03-01T19:56:29.343167",
     "exception": false,
     "start_time": "2021-03-01T19:56:29.317198",
     "status": "completed"
    },
    "tags": []
   },
   "outputs": [
    {
     "data": {
      "text/plain": [
       "PosixPath('/home/miltondp/projects/labs/greenelab/cm_gene_expression/base/results/pearson/enrichment')"
      ]
     },
     "metadata": {},
     "output_type": "display_data"
    }
   ],
   "source": [
    "OUTPUT_DIR = Path(BASE_FOLDER, \"results\", METHOD, \"enrichment\").resolve()\n",
    "display(OUTPUT_DIR)\n",
    "\n",
    "OUTPUT_DIR.mkdir(exist_ok=True)"
   ]
  },
  {
   "cell_type": "markdown",
   "id": "responsible-gamma",
   "metadata": {
    "papermill": {
     "duration": 0.015713,
     "end_time": "2021-03-01T19:56:29.374763",
     "exception": false,
     "start_time": "2021-03-01T19:56:29.359050",
     "status": "completed"
    },
    "tags": []
   },
   "source": [
    "# Load correlations"
   ]
  },
  {
   "cell_type": "code",
   "execution_count": 6,
   "id": "alive-morgan",
   "metadata": {
    "execution": {
     "iopub.execute_input": "2021-03-01T19:56:29.408881Z",
     "iopub.status.busy": "2021-03-01T19:56:29.408485Z",
     "iopub.status.idle": "2021-03-01T19:56:29.417422Z",
     "shell.execute_reply": "2021-03-01T19:56:29.417075Z"
    },
    "papermill": {
     "duration": 0.026938,
     "end_time": "2021-03-01T19:56:29.417509",
     "exception": false,
     "start_time": "2021-03-01T19:56:29.390571",
     "status": "completed"
    },
    "tags": []
   },
   "outputs": [
    {
     "data": {
      "text/plain": [
       "PosixPath('/home/miltondp/projects/labs/greenelab/cm_gene_expression/base/results/sim_mat/wb_data_gene_corr.pkl')"
      ]
     },
     "metadata": {},
     "output_type": "display_data"
    },
    {
     "data": {
      "text/plain": [
       "'wb_data_gene_corr'"
      ]
     },
     "metadata": {},
     "output_type": "display_data"
    }
   ],
   "source": [
    "input_filepath = Path(\n",
    "    BASE_FOLDER,\n",
    "    \"results\",\n",
    "    \"sim_mat\",\n",
    "    f\"wb_data_gene_{METHOD_SHORT}.pkl\",\n",
    ").resolve()\n",
    "display(input_filepath)\n",
    "\n",
    "assert input_filepath.exists(), \"Input file does not exist\"\n",
    "\n",
    "input_filepath_stem = input_filepath.stem\n",
    "display(input_filepath_stem)"
   ]
  },
  {
   "cell_type": "code",
   "execution_count": 7,
   "id": "minor-trigger",
   "metadata": {
    "execution": {
     "iopub.execute_input": "2021-03-01T19:56:29.453464Z",
     "iopub.status.busy": "2021-03-01T19:56:29.453110Z",
     "iopub.status.idle": "2021-03-01T19:56:29.542224Z",
     "shell.execute_reply": "2021-03-01T19:56:29.542581Z"
    },
    "papermill": {
     "duration": 0.108214,
     "end_time": "2021-03-01T19:56:29.542714",
     "exception": false,
     "start_time": "2021-03-01T19:56:29.434500",
     "status": "completed"
    },
    "tags": []
   },
   "outputs": [],
   "source": [
    "sim_matrix = pd.read_pickle(input_filepath)"
   ]
  },
  {
   "cell_type": "code",
   "execution_count": 8,
   "id": "instructional-winner",
   "metadata": {
    "execution": {
     "iopub.execute_input": "2021-03-01T19:56:29.583672Z",
     "iopub.status.busy": "2021-03-01T19:56:29.583306Z",
     "iopub.status.idle": "2021-03-01T19:56:29.591357Z",
     "shell.execute_reply": "2021-03-01T19:56:29.590965Z"
    },
    "papermill": {
     "duration": 0.028666,
     "end_time": "2021-03-01T19:56:29.591442",
     "exception": false,
     "start_time": "2021-03-01T19:56:29.562776",
     "status": "completed"
    },
    "tags": []
   },
   "outputs": [
    {
     "data": {
      "text/plain": [
       "(5000, 5000)"
      ]
     },
     "execution_count": 8,
     "metadata": {},
     "output_type": "execute_result"
    }
   ],
   "source": [
    "sim_matrix.shape"
   ]
  },
  {
   "cell_type": "code",
   "execution_count": 9,
   "id": "photographic-liabilities",
   "metadata": {
    "execution": {
     "iopub.execute_input": "2021-03-01T19:56:29.629776Z",
     "iopub.status.busy": "2021-03-01T19:56:29.629398Z",
     "iopub.status.idle": "2021-03-01T19:56:29.653361Z",
     "shell.execute_reply": "2021-03-01T19:56:29.653012Z"
    },
    "papermill": {
     "duration": 0.043868,
     "end_time": "2021-03-01T19:56:29.653455",
     "exception": false,
     "start_time": "2021-03-01T19:56:29.609587",
     "status": "completed"
    },
    "tags": []
   },
   "outputs": [
    {
     "data": {
      "text/html": [
       "<div>\n",
       "<style scoped>\n",
       "    .dataframe tbody tr th:only-of-type {\n",
       "        vertical-align: middle;\n",
       "    }\n",
       "\n",
       "    .dataframe tbody tr th {\n",
       "        vertical-align: top;\n",
       "    }\n",
       "\n",
       "    .dataframe thead th {\n",
       "        text-align: right;\n",
       "    }\n",
       "</style>\n",
       "<table border=\"1\" class=\"dataframe\">\n",
       "  <thead>\n",
       "    <tr style=\"text-align: right;\">\n",
       "      <th>Name</th>\n",
       "      <th>ENSG00000244734.3</th>\n",
       "      <th>ENSG00000188536.12</th>\n",
       "      <th>ENSG00000163220.10</th>\n",
       "      <th>ENSG00000206172.8</th>\n",
       "      <th>ENSG00000223609.7</th>\n",
       "      <th>ENSG00000143546.9</th>\n",
       "      <th>ENSG00000087086.14</th>\n",
       "      <th>ENSG00000185201.16</th>\n",
       "      <th>ENSG00000163221.8</th>\n",
       "      <th>ENSG00000234745.10</th>\n",
       "      <th>...</th>\n",
       "      <th>ENSG00000183431.11</th>\n",
       "      <th>ENSG00000119707.13</th>\n",
       "      <th>ENSG00000147649.9</th>\n",
       "      <th>ENSG00000164305.18</th>\n",
       "      <th>ENSG00000267074.1</th>\n",
       "      <th>ENSG00000130517.13</th>\n",
       "      <th>ENSG00000138674.16</th>\n",
       "      <th>ENSG00000065911.11</th>\n",
       "      <th>ENSG00000163297.16</th>\n",
       "      <th>ENSG00000259865.1</th>\n",
       "    </tr>\n",
       "    <tr>\n",
       "      <th>Name</th>\n",
       "      <th></th>\n",
       "      <th></th>\n",
       "      <th></th>\n",
       "      <th></th>\n",
       "      <th></th>\n",
       "      <th></th>\n",
       "      <th></th>\n",
       "      <th></th>\n",
       "      <th></th>\n",
       "      <th></th>\n",
       "      <th></th>\n",
       "      <th></th>\n",
       "      <th></th>\n",
       "      <th></th>\n",
       "      <th></th>\n",
       "      <th></th>\n",
       "      <th></th>\n",
       "      <th></th>\n",
       "      <th></th>\n",
       "      <th></th>\n",
       "      <th></th>\n",
       "    </tr>\n",
       "  </thead>\n",
       "  <tbody>\n",
       "    <tr>\n",
       "      <th>ENSG00000244734.3</th>\n",
       "      <td>1.000000</td>\n",
       "      <td>0.636236</td>\n",
       "      <td>-0.517149</td>\n",
       "      <td>0.781512</td>\n",
       "      <td>0.873917</td>\n",
       "      <td>-0.373188</td>\n",
       "      <td>-0.511014</td>\n",
       "      <td>-0.588842</td>\n",
       "      <td>-0.403123</td>\n",
       "      <td>-0.758224</td>\n",
       "      <td>...</td>\n",
       "      <td>-0.635070</td>\n",
       "      <td>-0.518102</td>\n",
       "      <td>-0.563508</td>\n",
       "      <td>-0.608799</td>\n",
       "      <td>-0.237267</td>\n",
       "      <td>-0.521478</td>\n",
       "      <td>-0.488588</td>\n",
       "      <td>-0.441912</td>\n",
       "      <td>-0.643780</td>\n",
       "      <td>-0.422210</td>\n",
       "    </tr>\n",
       "    <tr>\n",
       "      <th>ENSG00000188536.12</th>\n",
       "      <td>0.636236</td>\n",
       "      <td>1.000000</td>\n",
       "      <td>-0.597514</td>\n",
       "      <td>0.851216</td>\n",
       "      <td>0.598668</td>\n",
       "      <td>-0.484410</td>\n",
       "      <td>-0.318602</td>\n",
       "      <td>-0.518463</td>\n",
       "      <td>-0.472179</td>\n",
       "      <td>-0.520591</td>\n",
       "      <td>...</td>\n",
       "      <td>-0.490134</td>\n",
       "      <td>-0.415882</td>\n",
       "      <td>-0.533757</td>\n",
       "      <td>-0.635469</td>\n",
       "      <td>-0.103706</td>\n",
       "      <td>-0.299885</td>\n",
       "      <td>-0.237291</td>\n",
       "      <td>-0.437212</td>\n",
       "      <td>-0.623296</td>\n",
       "      <td>-0.383124</td>\n",
       "    </tr>\n",
       "    <tr>\n",
       "      <th>ENSG00000163220.10</th>\n",
       "      <td>-0.517149</td>\n",
       "      <td>-0.597514</td>\n",
       "      <td>1.000000</td>\n",
       "      <td>-0.550380</td>\n",
       "      <td>-0.482091</td>\n",
       "      <td>0.862155</td>\n",
       "      <td>0.269060</td>\n",
       "      <td>0.634181</td>\n",
       "      <td>0.897901</td>\n",
       "      <td>0.157961</td>\n",
       "      <td>...</td>\n",
       "      <td>0.059125</td>\n",
       "      <td>-0.069613</td>\n",
       "      <td>0.156748</td>\n",
       "      <td>0.393911</td>\n",
       "      <td>-0.300284</td>\n",
       "      <td>-0.039997</td>\n",
       "      <td>-0.242617</td>\n",
       "      <td>0.109229</td>\n",
       "      <td>0.528421</td>\n",
       "      <td>0.027411</td>\n",
       "    </tr>\n",
       "    <tr>\n",
       "      <th>ENSG00000206172.8</th>\n",
       "      <td>0.781512</td>\n",
       "      <td>0.851216</td>\n",
       "      <td>-0.550380</td>\n",
       "      <td>1.000000</td>\n",
       "      <td>0.594896</td>\n",
       "      <td>-0.426201</td>\n",
       "      <td>-0.427221</td>\n",
       "      <td>-0.542304</td>\n",
       "      <td>-0.423745</td>\n",
       "      <td>-0.619939</td>\n",
       "      <td>...</td>\n",
       "      <td>-0.561988</td>\n",
       "      <td>-0.461928</td>\n",
       "      <td>-0.547395</td>\n",
       "      <td>-0.636742</td>\n",
       "      <td>-0.173265</td>\n",
       "      <td>-0.395801</td>\n",
       "      <td>-0.344709</td>\n",
       "      <td>-0.449663</td>\n",
       "      <td>-0.623293</td>\n",
       "      <td>-0.415837</td>\n",
       "    </tr>\n",
       "    <tr>\n",
       "      <th>ENSG00000223609.7</th>\n",
       "      <td>0.873917</td>\n",
       "      <td>0.598668</td>\n",
       "      <td>-0.482091</td>\n",
       "      <td>0.594896</td>\n",
       "      <td>1.000000</td>\n",
       "      <td>-0.361893</td>\n",
       "      <td>-0.408885</td>\n",
       "      <td>-0.559388</td>\n",
       "      <td>-0.383613</td>\n",
       "      <td>-0.678946</td>\n",
       "      <td>...</td>\n",
       "      <td>-0.541080</td>\n",
       "      <td>-0.467170</td>\n",
       "      <td>-0.501484</td>\n",
       "      <td>-0.536834</td>\n",
       "      <td>-0.184577</td>\n",
       "      <td>-0.458903</td>\n",
       "      <td>-0.399955</td>\n",
       "      <td>-0.382090</td>\n",
       "      <td>-0.593338</td>\n",
       "      <td>-0.351526</td>\n",
       "    </tr>\n",
       "  </tbody>\n",
       "</table>\n",
       "<p>5 rows × 5000 columns</p>\n",
       "</div>"
      ],
      "text/plain": [
       "Name                ENSG00000244734.3  ENSG00000188536.12  ENSG00000163220.10  \\\n",
       "Name                                                                            \n",
       "ENSG00000244734.3            1.000000            0.636236           -0.517149   \n",
       "ENSG00000188536.12           0.636236            1.000000           -0.597514   \n",
       "ENSG00000163220.10          -0.517149           -0.597514            1.000000   \n",
       "ENSG00000206172.8            0.781512            0.851216           -0.550380   \n",
       "ENSG00000223609.7            0.873917            0.598668           -0.482091   \n",
       "\n",
       "Name                ENSG00000206172.8  ENSG00000223609.7  ENSG00000143546.9  \\\n",
       "Name                                                                          \n",
       "ENSG00000244734.3            0.781512           0.873917          -0.373188   \n",
       "ENSG00000188536.12           0.851216           0.598668          -0.484410   \n",
       "ENSG00000163220.10          -0.550380          -0.482091           0.862155   \n",
       "ENSG00000206172.8            1.000000           0.594896          -0.426201   \n",
       "ENSG00000223609.7            0.594896           1.000000          -0.361893   \n",
       "\n",
       "Name                ENSG00000087086.14  ENSG00000185201.16  ENSG00000163221.8  \\\n",
       "Name                                                                            \n",
       "ENSG00000244734.3            -0.511014           -0.588842          -0.403123   \n",
       "ENSG00000188536.12           -0.318602           -0.518463          -0.472179   \n",
       "ENSG00000163220.10            0.269060            0.634181           0.897901   \n",
       "ENSG00000206172.8            -0.427221           -0.542304          -0.423745   \n",
       "ENSG00000223609.7            -0.408885           -0.559388          -0.383613   \n",
       "\n",
       "Name                ENSG00000234745.10  ...  ENSG00000183431.11  \\\n",
       "Name                                    ...                       \n",
       "ENSG00000244734.3            -0.758224  ...           -0.635070   \n",
       "ENSG00000188536.12           -0.520591  ...           -0.490134   \n",
       "ENSG00000163220.10            0.157961  ...            0.059125   \n",
       "ENSG00000206172.8            -0.619939  ...           -0.561988   \n",
       "ENSG00000223609.7            -0.678946  ...           -0.541080   \n",
       "\n",
       "Name                ENSG00000119707.13  ENSG00000147649.9  ENSG00000164305.18  \\\n",
       "Name                                                                            \n",
       "ENSG00000244734.3            -0.518102          -0.563508           -0.608799   \n",
       "ENSG00000188536.12           -0.415882          -0.533757           -0.635469   \n",
       "ENSG00000163220.10           -0.069613           0.156748            0.393911   \n",
       "ENSG00000206172.8            -0.461928          -0.547395           -0.636742   \n",
       "ENSG00000223609.7            -0.467170          -0.501484           -0.536834   \n",
       "\n",
       "Name                ENSG00000267074.1  ENSG00000130517.13  ENSG00000138674.16  \\\n",
       "Name                                                                            \n",
       "ENSG00000244734.3           -0.237267           -0.521478           -0.488588   \n",
       "ENSG00000188536.12          -0.103706           -0.299885           -0.237291   \n",
       "ENSG00000163220.10          -0.300284           -0.039997           -0.242617   \n",
       "ENSG00000206172.8           -0.173265           -0.395801           -0.344709   \n",
       "ENSG00000223609.7           -0.184577           -0.458903           -0.399955   \n",
       "\n",
       "Name                ENSG00000065911.11  ENSG00000163297.16  ENSG00000259865.1  \n",
       "Name                                                                           \n",
       "ENSG00000244734.3            -0.441912           -0.643780          -0.422210  \n",
       "ENSG00000188536.12           -0.437212           -0.623296          -0.383124  \n",
       "ENSG00000163220.10            0.109229            0.528421           0.027411  \n",
       "ENSG00000206172.8            -0.449663           -0.623293          -0.415837  \n",
       "ENSG00000223609.7            -0.382090           -0.593338          -0.351526  \n",
       "\n",
       "[5 rows x 5000 columns]"
      ]
     },
     "execution_count": 9,
     "metadata": {},
     "output_type": "execute_result"
    }
   ],
   "source": [
    "sim_matrix.head()"
   ]
  },
  {
   "cell_type": "markdown",
   "id": "solid-observation",
   "metadata": {
    "papermill": {
     "duration": 0.017883,
     "end_time": "2021-03-01T19:56:29.690478",
     "exception": false,
     "start_time": "2021-03-01T19:56:29.672595",
     "status": "completed"
    },
    "tags": []
   },
   "source": [
    "# Load clustering results"
   ]
  },
  {
   "cell_type": "code",
   "execution_count": 10,
   "id": "intelligent-discrimination",
   "metadata": {
    "execution": {
     "iopub.execute_input": "2021-03-01T19:56:29.726830Z",
     "iopub.status.busy": "2021-03-01T19:56:29.726471Z",
     "iopub.status.idle": "2021-03-01T19:56:29.734589Z",
     "shell.execute_reply": "2021-03-01T19:56:29.734218Z"
    },
    "papermill": {
     "duration": 0.027455,
     "end_time": "2021-03-01T19:56:29.734674",
     "exception": false,
     "start_time": "2021-03-01T19:56:29.707219",
     "status": "completed"
    },
    "tags": []
   },
   "outputs": [
    {
     "data": {
      "text/plain": [
       "PosixPath('/home/miltondp/projects/labs/greenelab/cm_gene_expression/base/results')"
      ]
     },
     "metadata": {},
     "output_type": "display_data"
    }
   ],
   "source": [
    "ensemble_folder = Path(\n",
    "    BASE_FOLDER,\n",
    "    \"results\",\n",
    ").resolve()\n",
    "display(ensemble_folder)\n",
    "\n",
    "# ensemble_folder.mkdir(parents=True, exist_ok=True)"
   ]
  },
  {
   "cell_type": "code",
   "execution_count": 11,
   "id": "korean-independence",
   "metadata": {
    "execution": {
     "iopub.execute_input": "2021-03-01T19:56:29.771588Z",
     "iopub.status.busy": "2021-03-01T19:56:29.771230Z",
     "iopub.status.idle": "2021-03-01T19:56:29.779350Z",
     "shell.execute_reply": "2021-03-01T19:56:29.778980Z"
    },
    "papermill": {
     "duration": 0.027279,
     "end_time": "2021-03-01T19:56:29.779433",
     "exception": false,
     "start_time": "2021-03-01T19:56:29.752154",
     "status": "completed"
    },
    "tags": []
   },
   "outputs": [
    {
     "data": {
      "text/plain": [
       "PosixPath('/home/miltondp/projects/labs/greenelab/cm_gene_expression/base/results/pearson/ensemble-DELTA_035-KMEANS_N_INIT_50-K_RANGE_2_5_10_15_20_25_30_35_40_45_50_55_60_65_70_75_80_90_95_100_200.pkl')"
      ]
     },
     "metadata": {},
     "output_type": "display_data"
    }
   ],
   "source": [
    "input_filepath = Path(\n",
    "    ensemble_folder,\n",
    "    METHOD,\n",
    "    \"ensemble-DELTA_035-KMEANS_N_INIT_50-K_RANGE_2_5_10_15_20_25_30_35_40_45_50_55_60_65_70_75_80_90_95_100_200.pkl\",\n",
    ").resolve()\n",
    "display(input_filepath)"
   ]
  },
  {
   "cell_type": "code",
   "execution_count": 12,
   "id": "eligible-chester",
   "metadata": {
    "execution": {
     "iopub.execute_input": "2021-03-01T19:56:29.817885Z",
     "iopub.status.busy": "2021-03-01T19:56:29.817502Z",
     "iopub.status.idle": "2021-03-01T19:56:29.825988Z",
     "shell.execute_reply": "2021-03-01T19:56:29.825664Z"
    },
    "papermill": {
     "duration": 0.028358,
     "end_time": "2021-03-01T19:56:29.826075",
     "exception": false,
     "start_time": "2021-03-01T19:56:29.797717",
     "status": "completed"
    },
    "tags": []
   },
   "outputs": [],
   "source": [
    "cm_results = pd.read_pickle(input_filepath)"
   ]
  },
  {
   "cell_type": "code",
   "execution_count": 13,
   "id": "general-contrast",
   "metadata": {
    "execution": {
     "iopub.execute_input": "2021-03-01T19:56:29.864461Z",
     "iopub.status.busy": "2021-03-01T19:56:29.864052Z",
     "iopub.status.idle": "2021-03-01T19:56:29.872036Z",
     "shell.execute_reply": "2021-03-01T19:56:29.871670Z"
    },
    "papermill": {
     "duration": 0.027763,
     "end_time": "2021-03-01T19:56:29.872119",
     "exception": false,
     "start_time": "2021-03-01T19:56:29.844356",
     "status": "completed"
    },
    "tags": []
   },
   "outputs": [
    {
     "data": {
      "text/plain": [
       "(21, 5)"
      ]
     },
     "execution_count": 13,
     "metadata": {},
     "output_type": "execute_result"
    }
   ],
   "source": [
    "cm_results.shape"
   ]
  },
  {
   "cell_type": "code",
   "execution_count": 14,
   "id": "alert-techno",
   "metadata": {
    "execution": {
     "iopub.execute_input": "2021-03-01T19:56:29.909657Z",
     "iopub.status.busy": "2021-03-01T19:56:29.909291Z",
     "iopub.status.idle": "2021-03-01T19:56:29.925137Z",
     "shell.execute_reply": "2021-03-01T19:56:29.924819Z"
    },
    "papermill": {
     "duration": 0.035012,
     "end_time": "2021-03-01T19:56:29.925223",
     "exception": false,
     "start_time": "2021-03-01T19:56:29.890211",
     "status": "completed"
    },
    "tags": []
   },
   "outputs": [
    {
     "data": {
      "text/html": [
       "<div>\n",
       "<style scoped>\n",
       "    .dataframe tbody tr th:only-of-type {\n",
       "        vertical-align: middle;\n",
       "    }\n",
       "\n",
       "    .dataframe tbody tr th {\n",
       "        vertical-align: top;\n",
       "    }\n",
       "\n",
       "    .dataframe thead th {\n",
       "        text-align: right;\n",
       "    }\n",
       "</style>\n",
       "<table border=\"1\" class=\"dataframe\">\n",
       "  <thead>\n",
       "    <tr style=\"text-align: right;\">\n",
       "      <th></th>\n",
       "      <th>clusterer_params</th>\n",
       "      <th>partition</th>\n",
       "      <th>n_clusters</th>\n",
       "      <th>delta</th>\n",
       "      <th>si_score</th>\n",
       "    </tr>\n",
       "    <tr>\n",
       "      <th>clusterer_id</th>\n",
       "      <th></th>\n",
       "      <th></th>\n",
       "      <th></th>\n",
       "      <th></th>\n",
       "      <th></th>\n",
       "    </tr>\n",
       "  </thead>\n",
       "  <tbody>\n",
       "    <tr>\n",
       "      <th>DeltaSpectralClustering #0</th>\n",
       "      <td>{'delta': 0.35}</td>\n",
       "      <td>[0.0, 0.0, 1.0, 0.0, 0.0, 1.0, 1.0, 1.0, 1.0, ...</td>\n",
       "      <td>2</td>\n",
       "      <td>0.35</td>\n",
       "      <td>0.342941</td>\n",
       "    </tr>\n",
       "    <tr>\n",
       "      <th>DeltaSpectralClustering #1</th>\n",
       "      <td>{'delta': 0.35}</td>\n",
       "      <td>[1.0, 1.0, 0.0, 1.0, 1.0, 0.0, 0.0, 0.0, 0.0, ...</td>\n",
       "      <td>5</td>\n",
       "      <td>0.35</td>\n",
       "      <td>0.282610</td>\n",
       "    </tr>\n",
       "    <tr>\n",
       "      <th>DeltaSpectralClustering #2</th>\n",
       "      <td>{'delta': 0.35}</td>\n",
       "      <td>[1.0, 1.0, 0.0, 1.0, 1.0, 0.0, 0.0, 0.0, 0.0, ...</td>\n",
       "      <td>10</td>\n",
       "      <td>0.35</td>\n",
       "      <td>0.293882</td>\n",
       "    </tr>\n",
       "    <tr>\n",
       "      <th>DeltaSpectralClustering #3</th>\n",
       "      <td>{'delta': 0.35}</td>\n",
       "      <td>[2.0, 2.0, 1.0, 2.0, 2.0, 1.0, 11.0, 1.0, 1.0,...</td>\n",
       "      <td>15</td>\n",
       "      <td>0.35</td>\n",
       "      <td>0.279952</td>\n",
       "    </tr>\n",
       "    <tr>\n",
       "      <th>DeltaSpectralClustering #4</th>\n",
       "      <td>{'delta': 0.35}</td>\n",
       "      <td>[9.0, 5.0, 0.0, 9.0, 9.0, 0.0, 0.0, 0.0, 0.0, ...</td>\n",
       "      <td>20</td>\n",
       "      <td>0.35</td>\n",
       "      <td>0.137538</td>\n",
       "    </tr>\n",
       "  </tbody>\n",
       "</table>\n",
       "</div>"
      ],
      "text/plain": [
       "                           clusterer_params  \\\n",
       "clusterer_id                                  \n",
       "DeltaSpectralClustering #0  {'delta': 0.35}   \n",
       "DeltaSpectralClustering #1  {'delta': 0.35}   \n",
       "DeltaSpectralClustering #2  {'delta': 0.35}   \n",
       "DeltaSpectralClustering #3  {'delta': 0.35}   \n",
       "DeltaSpectralClustering #4  {'delta': 0.35}   \n",
       "\n",
       "                                                                    partition  \\\n",
       "clusterer_id                                                                    \n",
       "DeltaSpectralClustering #0  [0.0, 0.0, 1.0, 0.0, 0.0, 1.0, 1.0, 1.0, 1.0, ...   \n",
       "DeltaSpectralClustering #1  [1.0, 1.0, 0.0, 1.0, 1.0, 0.0, 0.0, 0.0, 0.0, ...   \n",
       "DeltaSpectralClustering #2  [1.0, 1.0, 0.0, 1.0, 1.0, 0.0, 0.0, 0.0, 0.0, ...   \n",
       "DeltaSpectralClustering #3  [2.0, 2.0, 1.0, 2.0, 2.0, 1.0, 11.0, 1.0, 1.0,...   \n",
       "DeltaSpectralClustering #4  [9.0, 5.0, 0.0, 9.0, 9.0, 0.0, 0.0, 0.0, 0.0, ...   \n",
       "\n",
       "                            n_clusters delta  si_score  \n",
       "clusterer_id                                            \n",
       "DeltaSpectralClustering #0           2  0.35  0.342941  \n",
       "DeltaSpectralClustering #1           5  0.35  0.282610  \n",
       "DeltaSpectralClustering #2          10  0.35  0.293882  \n",
       "DeltaSpectralClustering #3          15  0.35  0.279952  \n",
       "DeltaSpectralClustering #4          20  0.35  0.137538  "
      ]
     },
     "execution_count": 14,
     "metadata": {},
     "output_type": "execute_result"
    }
   ],
   "source": [
    "cm_results.head()"
   ]
  },
  {
   "cell_type": "code",
   "execution_count": 15,
   "id": "independent-norway",
   "metadata": {
    "execution": {
     "iopub.execute_input": "2021-03-01T19:56:29.964359Z",
     "iopub.status.busy": "2021-03-01T19:56:29.964002Z",
     "iopub.status.idle": "2021-03-01T19:56:29.972296Z",
     "shell.execute_reply": "2021-03-01T19:56:29.971923Z"
    },
    "papermill": {
     "duration": 0.028734,
     "end_time": "2021-03-01T19:56:29.972381",
     "exception": false,
     "start_time": "2021-03-01T19:56:29.943647",
     "status": "completed"
    },
    "tags": []
   },
   "outputs": [
    {
     "data": {
      "text/plain": [
       "array([  2,   5,  10,  15,  20,  25,  30,  35,  40,  45,  50,  55,  60,\n",
       "        65,  70,  75,  80,  90,  95, 100, 200])"
      ]
     },
     "execution_count": 15,
     "metadata": {},
     "output_type": "execute_result"
    }
   ],
   "source": [
    "cm_results[\"n_clusters\"].unique()"
   ]
  },
  {
   "cell_type": "markdown",
   "id": "moderate-boards",
   "metadata": {
    "papermill": {
     "duration": 0.018708,
     "end_time": "2021-03-01T19:56:30.010092",
     "exception": false,
     "start_time": "2021-03-01T19:56:29.991384",
     "status": "completed"
    },
    "tags": []
   },
   "source": [
    "# clusterProfiler"
   ]
  },
  {
   "cell_type": "code",
   "execution_count": 16,
   "id": "stuck-digit",
   "metadata": {
    "execution": {
     "iopub.execute_input": "2021-03-01T19:56:30.048137Z",
     "iopub.status.busy": "2021-03-01T19:56:30.047765Z",
     "iopub.status.idle": "2021-03-01T19:56:30.275443Z",
     "shell.execute_reply": "2021-03-01T19:56:30.275050Z"
    },
    "papermill": {
     "duration": 0.247654,
     "end_time": "2021-03-01T19:56:30.275534",
     "exception": false,
     "start_time": "2021-03-01T19:56:30.027880",
     "status": "completed"
    },
    "tags": []
   },
   "outputs": [],
   "source": [
    "from rpy2.robjects.packages import importr\n",
    "import rpy2.robjects as robjects\n",
    "from rpy2.robjects import pandas2ri\n",
    "\n",
    "pandas2ri.activate()"
   ]
  },
  {
   "cell_type": "code",
   "execution_count": 17,
   "id": "worth-education",
   "metadata": {
    "execution": {
     "iopub.execute_input": "2021-03-01T19:56:30.315799Z",
     "iopub.status.busy": "2021-03-01T19:56:30.315443Z",
     "iopub.status.idle": "2021-03-01T19:56:34.003759Z",
     "shell.execute_reply": "2021-03-01T19:56:34.003135Z"
    },
    "papermill": {
     "duration": 3.7092,
     "end_time": "2021-03-01T19:56:34.003845",
     "exception": false,
     "start_time": "2021-03-01T19:56:30.294645",
     "status": "completed"
    },
    "tags": []
   },
   "outputs": [],
   "source": [
    "rprint = robjects.globalenv.find(\"print\")\n",
    "# dose = importr('DOSE')\n",
    "clusterProfiler = importr(\"clusterProfiler\")\n",
    "reactomePA = importr(\"ReactomePA\")\n",
    "# enrichplot = importr(\"enrichplot\")\n",
    "grdevices = importr(\"grDevices\")"
   ]
  },
  {
   "cell_type": "markdown",
   "id": "formal-occasions",
   "metadata": {
    "papermill": {
     "duration": 0.017822,
     "end_time": "2021-03-01T19:56:34.040090",
     "exception": false,
     "start_time": "2021-03-01T19:56:34.022268",
     "status": "completed"
    },
    "tags": []
   },
   "source": [
    "## General variables"
   ]
  },
  {
   "cell_type": "code",
   "execution_count": 18,
   "id": "concerned-narrative",
   "metadata": {
    "execution": {
     "iopub.execute_input": "2021-03-01T19:56:34.078489Z",
     "iopub.status.busy": "2021-03-01T19:56:34.078124Z",
     "iopub.status.idle": "2021-03-01T19:56:34.086998Z",
     "shell.execute_reply": "2021-03-01T19:56:34.086610Z"
    },
    "papermill": {
     "duration": 0.029098,
     "end_time": "2021-03-01T19:56:34.087081",
     "exception": false,
     "start_time": "2021-03-01T19:56:34.057983",
     "status": "completed"
    },
    "tags": []
   },
   "outputs": [],
   "source": [
    "genes_universe = [g.split(\".\")[0] for g in sim_matrix.index]"
   ]
  },
  {
   "cell_type": "code",
   "execution_count": 19,
   "id": "incoming-elizabeth",
   "metadata": {
    "execution": {
     "iopub.execute_input": "2021-03-01T19:56:34.126730Z",
     "iopub.status.busy": "2021-03-01T19:56:34.126378Z",
     "iopub.status.idle": "2021-03-01T19:56:34.134884Z",
     "shell.execute_reply": "2021-03-01T19:56:34.134369Z"
    },
    "papermill": {
     "duration": 0.029035,
     "end_time": "2021-03-01T19:56:34.134968",
     "exception": false,
     "start_time": "2021-03-01T19:56:34.105933",
     "status": "completed"
    },
    "tags": []
   },
   "outputs": [
    {
     "data": {
      "text/plain": [
       "5000"
      ]
     },
     "execution_count": 19,
     "metadata": {},
     "output_type": "execute_result"
    }
   ],
   "source": [
    "len(genes_universe)"
   ]
  },
  {
   "cell_type": "markdown",
   "id": "invisible-rebel",
   "metadata": {
    "papermill": {
     "duration": 0.018121,
     "end_time": "2021-03-01T19:56:34.172013",
     "exception": false,
     "start_time": "2021-03-01T19:56:34.153892",
     "status": "completed"
    },
    "tags": []
   },
   "source": [
    "## enrichGO"
   ]
  },
  {
   "cell_type": "code",
   "execution_count": 20,
   "id": "emerging-mother",
   "metadata": {
    "execution": {
     "iopub.execute_input": "2021-03-01T19:56:34.211664Z",
     "iopub.status.busy": "2021-03-01T19:56:34.211294Z",
     "iopub.status.idle": "2021-03-01T19:56:34.218536Z",
     "shell.execute_reply": "2021-03-01T19:56:34.218180Z"
    },
    "papermill": {
     "duration": 0.027845,
     "end_time": "2021-03-01T19:56:34.218619",
     "exception": false,
     "start_time": "2021-03-01T19:56:34.190774",
     "status": "completed"
    },
    "tags": []
   },
   "outputs": [],
   "source": [
    "# ck = clusterProfiler.enrichGO(\n",
    "#     gene=genes_per_cluster[2],\n",
    "#     OrgDb=\"org.Hs.eg.db\",\n",
    "#     keyType='ENSEMBL',\n",
    "#     universe=genes_universe,\n",
    "#     pAdjustMethod='fdr',\n",
    "# #     pAdjustMethod='bonferroni',\n",
    "#     pvalueCutoff=0.05,\n",
    "# #     qvalueCutoff=0.05,\n",
    "#     ont='BP',\n",
    "#     readable=True,\n",
    "# )"
   ]
  },
  {
   "cell_type": "code",
   "execution_count": 21,
   "id": "threaded-valuable",
   "metadata": {
    "execution": {
     "iopub.execute_input": "2021-03-01T19:56:34.257979Z",
     "iopub.status.busy": "2021-03-01T19:56:34.257610Z",
     "iopub.status.idle": "2021-03-01T19:56:34.265079Z",
     "shell.execute_reply": "2021-03-01T19:56:34.264670Z"
    },
    "papermill": {
     "duration": 0.027904,
     "end_time": "2021-03-01T19:56:34.265159",
     "exception": false,
     "start_time": "2021-03-01T19:56:34.237255",
     "status": "completed"
    },
    "tags": []
   },
   "outputs": [],
   "source": [
    "# cks = clusterProfiler.simplify(ck, cutoff=0.3)\n",
    "# cks = ck"
   ]
  },
  {
   "cell_type": "code",
   "execution_count": 22,
   "id": "grateful-sample",
   "metadata": {
    "execution": {
     "iopub.execute_input": "2021-03-01T19:56:34.305138Z",
     "iopub.status.busy": "2021-03-01T19:56:34.304777Z",
     "iopub.status.idle": "2021-03-01T19:56:34.311909Z",
     "shell.execute_reply": "2021-03-01T19:56:34.311574Z"
    },
    "papermill": {
     "duration": 0.027719,
     "end_time": "2021-03-01T19:56:34.311994",
     "exception": false,
     "start_time": "2021-03-01T19:56:34.284275",
     "status": "completed"
    },
    "tags": []
   },
   "outputs": [],
   "source": [
    "# list(cks.slots.keys())"
   ]
  },
  {
   "cell_type": "code",
   "execution_count": 23,
   "id": "sustainable-product",
   "metadata": {
    "execution": {
     "iopub.execute_input": "2021-03-01T19:56:34.351761Z",
     "iopub.status.busy": "2021-03-01T19:56:34.351411Z",
     "iopub.status.idle": "2021-03-01T19:56:34.358596Z",
     "shell.execute_reply": "2021-03-01T19:56:34.358229Z"
    },
    "papermill": {
     "duration": 0.027845,
     "end_time": "2021-03-01T19:56:34.358679",
     "exception": false,
     "start_time": "2021-03-01T19:56:34.330834",
     "status": "completed"
    },
    "tags": []
   },
   "outputs": [],
   "source": [
    "# df = cks.slots['result']"
   ]
  },
  {
   "cell_type": "code",
   "execution_count": 24,
   "id": "cheap-syndrome",
   "metadata": {
    "execution": {
     "iopub.execute_input": "2021-03-01T19:56:34.399477Z",
     "iopub.status.busy": "2021-03-01T19:56:34.399122Z",
     "iopub.status.idle": "2021-03-01T19:56:34.406454Z",
     "shell.execute_reply": "2021-03-01T19:56:34.406082Z"
    },
    "papermill": {
     "duration": 0.028489,
     "end_time": "2021-03-01T19:56:34.406538",
     "exception": false,
     "start_time": "2021-03-01T19:56:34.378049",
     "status": "completed"
    },
    "tags": []
   },
   "outputs": [],
   "source": [
    "# df.shape"
   ]
  },
  {
   "cell_type": "code",
   "execution_count": 25,
   "id": "signal-brunswick",
   "metadata": {
    "execution": {
     "iopub.execute_input": "2021-03-01T19:56:34.446750Z",
     "iopub.status.busy": "2021-03-01T19:56:34.446397Z",
     "iopub.status.idle": "2021-03-01T19:56:34.453793Z",
     "shell.execute_reply": "2021-03-01T19:56:34.453433Z"
    },
    "papermill": {
     "duration": 0.028238,
     "end_time": "2021-03-01T19:56:34.453878",
     "exception": false,
     "start_time": "2021-03-01T19:56:34.425640",
     "status": "completed"
    },
    "tags": []
   },
   "outputs": [],
   "source": [
    "# df.sort_values('p.adjust').head()"
   ]
  },
  {
   "cell_type": "markdown",
   "id": "stock-symphony",
   "metadata": {
    "papermill": {
     "duration": 0.019018,
     "end_time": "2021-03-01T19:56:34.492542",
     "exception": false,
     "start_time": "2021-03-01T19:56:34.473524",
     "status": "completed"
    },
    "tags": []
   },
   "source": [
    "## enrichPathway"
   ]
  },
  {
   "cell_type": "code",
   "execution_count": 26,
   "id": "adequate-impact",
   "metadata": {
    "execution": {
     "iopub.execute_input": "2021-03-01T19:56:34.532530Z",
     "iopub.status.busy": "2021-03-01T19:56:34.532174Z",
     "iopub.status.idle": "2021-03-01T19:56:34.539547Z",
     "shell.execute_reply": "2021-03-01T19:56:34.539176Z"
    },
    "papermill": {
     "duration": 0.028406,
     "end_time": "2021-03-01T19:56:34.539631",
     "exception": false,
     "start_time": "2021-03-01T19:56:34.511225",
     "status": "completed"
    },
    "tags": []
   },
   "outputs": [],
   "source": [
    "# genes_universe_entrez = clusterProfiler.bitr(\n",
    "#     genes_universe, fromType=\"ENSEMBL\", toType=\"ENTREZID\", OrgDb=\"org.Hs.eg.db\"\n",
    "# ).drop_duplicates(subset=['ENSEMBL'])['ENTREZID'].tolist()"
   ]
  },
  {
   "cell_type": "code",
   "execution_count": 27,
   "id": "unexpected-doubt",
   "metadata": {
    "execution": {
     "iopub.execute_input": "2021-03-01T19:56:34.580523Z",
     "iopub.status.busy": "2021-03-01T19:56:34.580165Z",
     "iopub.status.idle": "2021-03-01T19:56:34.587671Z",
     "shell.execute_reply": "2021-03-01T19:56:34.587303Z"
    },
    "papermill": {
     "duration": 0.028539,
     "end_time": "2021-03-01T19:56:34.587756",
     "exception": false,
     "start_time": "2021-03-01T19:56:34.559217",
     "status": "completed"
    },
    "tags": []
   },
   "outputs": [],
   "source": [
    "# genes_per_cluster_set_entrez = {\n",
    "#     f'C{k:n}': clusterProfiler.bitr(v, fromType=\"ENSEMBL\", toType=\"ENTREZID\", OrgDb=\"org.Hs.eg.db\").drop_duplicates(subset=['ENSEMBL'])['ENTREZID'].tolist()\n",
    "#     for k, v in genes_per_cluster.items()\n",
    "# }\n",
    "\n",
    "# genes_per_cluster_set_entrez = robjects.ListVector(genes_per_cluster_set_entrez)"
   ]
  },
  {
   "cell_type": "code",
   "execution_count": 28,
   "id": "abroad-synthesis",
   "metadata": {
    "execution": {
     "iopub.execute_input": "2021-03-01T19:56:34.632082Z",
     "iopub.status.busy": "2021-03-01T19:56:34.631703Z",
     "iopub.status.idle": "2021-03-01T19:56:34.637788Z",
     "shell.execute_reply": "2021-03-01T19:56:34.637409Z"
    },
    "papermill": {
     "duration": 0.03019,
     "end_time": "2021-03-01T19:56:34.637874",
     "exception": false,
     "start_time": "2021-03-01T19:56:34.607684",
     "status": "completed"
    },
    "tags": []
   },
   "outputs": [],
   "source": [
    "# ck = reactomePA.enrichPathway(\n",
    "#     gene=genes_per_cluster_set_entrez[0],\n",
    "#     universe=genes_universe_entrez,\n",
    "#     pAdjustMethod='fdr',\n",
    "# #     pAdjustMethod='bonferroni',\n",
    "#     pvalueCutoff=0.05,\n",
    "# #     qvalueCutoff=0.05,\n",
    "#     readable=True,\n",
    "# )"
   ]
  },
  {
   "cell_type": "code",
   "execution_count": 29,
   "id": "southeast-thumbnail",
   "metadata": {
    "execution": {
     "iopub.execute_input": "2021-03-01T19:56:34.680351Z",
     "iopub.status.busy": "2021-03-01T19:56:34.679996Z",
     "iopub.status.idle": "2021-03-01T19:56:34.687369Z",
     "shell.execute_reply": "2021-03-01T19:56:34.687001Z"
    },
    "papermill": {
     "duration": 0.029516,
     "end_time": "2021-03-01T19:56:34.687452",
     "exception": false,
     "start_time": "2021-03-01T19:56:34.657936",
     "status": "completed"
    },
    "tags": []
   },
   "outputs": [],
   "source": [
    "# cks = clusterProfiler.simplify(ck, cutoff=0.3)\n",
    "# cks = ck"
   ]
  },
  {
   "cell_type": "code",
   "execution_count": 30,
   "id": "electoral-steam",
   "metadata": {
    "execution": {
     "iopub.execute_input": "2021-03-01T19:56:34.729167Z",
     "iopub.status.busy": "2021-03-01T19:56:34.728811Z",
     "iopub.status.idle": "2021-03-01T19:56:34.735929Z",
     "shell.execute_reply": "2021-03-01T19:56:34.735561Z"
    },
    "papermill": {
     "duration": 0.028565,
     "end_time": "2021-03-01T19:56:34.736014",
     "exception": false,
     "start_time": "2021-03-01T19:56:34.707449",
     "status": "completed"
    },
    "tags": []
   },
   "outputs": [],
   "source": [
    "# list(cks.slots.keys())"
   ]
  },
  {
   "cell_type": "code",
   "execution_count": 31,
   "id": "native-yeast",
   "metadata": {
    "execution": {
     "iopub.execute_input": "2021-03-01T19:56:34.777032Z",
     "iopub.status.busy": "2021-03-01T19:56:34.776621Z",
     "iopub.status.idle": "2021-03-01T19:56:34.784259Z",
     "shell.execute_reply": "2021-03-01T19:56:34.783881Z"
    },
    "papermill": {
     "duration": 0.029119,
     "end_time": "2021-03-01T19:56:34.784345",
     "exception": false,
     "start_time": "2021-03-01T19:56:34.755226",
     "status": "completed"
    },
    "tags": []
   },
   "outputs": [],
   "source": [
    "# df = cks.slots['result']"
   ]
  },
  {
   "cell_type": "code",
   "execution_count": 32,
   "id": "wrong-sydney",
   "metadata": {
    "execution": {
     "iopub.execute_input": "2021-03-01T19:56:34.826285Z",
     "iopub.status.busy": "2021-03-01T19:56:34.825933Z",
     "iopub.status.idle": "2021-03-01T19:56:34.833235Z",
     "shell.execute_reply": "2021-03-01T19:56:34.832861Z"
    },
    "papermill": {
     "duration": 0.028908,
     "end_time": "2021-03-01T19:56:34.833318",
     "exception": false,
     "start_time": "2021-03-01T19:56:34.804410",
     "status": "completed"
    },
    "tags": []
   },
   "outputs": [],
   "source": [
    "# df.shape"
   ]
  },
  {
   "cell_type": "code",
   "execution_count": 33,
   "id": "visible-conservative",
   "metadata": {
    "execution": {
     "iopub.execute_input": "2021-03-01T19:56:34.874899Z",
     "iopub.status.busy": "2021-03-01T19:56:34.874542Z",
     "iopub.status.idle": "2021-03-01T19:56:34.882276Z",
     "shell.execute_reply": "2021-03-01T19:56:34.881913Z"
    },
    "papermill": {
     "duration": 0.029219,
     "end_time": "2021-03-01T19:56:34.882360",
     "exception": false,
     "start_time": "2021-03-01T19:56:34.853141",
     "status": "completed"
    },
    "tags": []
   },
   "outputs": [],
   "source": [
    "# df.sort_values('p.adjust').head()"
   ]
  },
  {
   "cell_type": "markdown",
   "id": "federal-synthesis",
   "metadata": {
    "papermill": {
     "duration": 0.019637,
     "end_time": "2021-03-01T19:56:34.922170",
     "exception": false,
     "start_time": "2021-03-01T19:56:34.902533",
     "status": "completed"
    },
    "tags": []
   },
   "source": [
    "## compareClusters"
   ]
  },
  {
   "cell_type": "code",
   "execution_count": 34,
   "id": "preliminary-sweden",
   "metadata": {
    "execution": {
     "iopub.execute_input": "2021-03-01T19:56:34.965563Z",
     "iopub.status.busy": "2021-03-01T19:56:34.965157Z",
     "iopub.status.idle": "2021-03-01T19:56:34.973547Z",
     "shell.execute_reply": "2021-03-01T19:56:34.973828Z"
    },
    "papermill": {
     "duration": 0.032458,
     "end_time": "2021-03-01T19:56:34.973936",
     "exception": false,
     "start_time": "2021-03-01T19:56:34.941478",
     "status": "completed"
    },
    "tags": []
   },
   "outputs": [],
   "source": [
    "def run_enrich(filename_prefix, partition, ontology):\n",
    "    display(f\"  {ontology}\")\n",
    "\n",
    "    genes_per_cluster = {}\n",
    "    for c in pd.Series(partition).value_counts().index:\n",
    "        genes_per_cluster[c] = [\n",
    "            g.split(\".\")[0] for g in sim_matrix.index[partition == c]\n",
    "        ]\n",
    "\n",
    "    genes_per_cluster_set = {\n",
    "        f\"C{k:n}\": list(set(v)) for k, v in genes_per_cluster.items()\n",
    "    }\n",
    "    gene_clusters = robjects.ListVector(genes_per_cluster_set)\n",
    "\n",
    "    ck = clusterProfiler.compareCluster(\n",
    "        geneClusters=gene_clusters,\n",
    "        OrgDb=\"org.Hs.eg.db\",\n",
    "        keyType=\"ENSEMBL\",\n",
    "        universe=genes_universe,\n",
    "        fun=\"enrichGO\",\n",
    "        pAdjustMethod=\"fdr\",\n",
    "        pvalueCutoff=0.05,\n",
    "        ont=ontology,\n",
    "        readable=True,\n",
    "    )\n",
    "\n",
    "    df = ck.slots[\"compareClusterResult\"]\n",
    "    display(f\"    Full results size: {df.shape}\")\n",
    "    df.sort_values(\"p.adjust\").to_pickle(\n",
    "        Path(\n",
    "            OUTPUT_DIR,\n",
    "            f\"{filename_prefix}{METHOD}-enrichGO-{ontology}-full.pkl\",\n",
    "        )\n",
    "    )\n",
    "\n",
    "    # simplify\n",
    "    ck = clusterProfiler.simplify(ck, cutoff=0.3)\n",
    "    df = ck.slots[\"compareClusterResult\"]\n",
    "    display(f\"    Simplified results size: {df.shape}\")\n",
    "    df.sort_values(\"p.adjust\").to_pickle(\n",
    "        Path(\n",
    "            OUTPUT_DIR,\n",
    "            f\"{filename_prefix}{METHOD}-enrichGO-{ontology}-simplified.pkl\",\n",
    "        )\n",
    "    )"
   ]
  },
  {
   "cell_type": "code",
   "execution_count": 35,
   "id": "mounted-renaissance",
   "metadata": {
    "execution": {
     "iopub.execute_input": "2021-03-01T19:56:35.015609Z",
     "iopub.status.busy": "2021-03-01T19:56:35.015251Z",
     "iopub.status.idle": "2021-03-01T19:56:35.022662Z",
     "shell.execute_reply": "2021-03-01T19:56:35.022304Z"
    },
    "papermill": {
     "duration": 0.028833,
     "end_time": "2021-03-01T19:56:35.022743",
     "exception": false,
     "start_time": "2021-03-01T19:56:34.993910",
     "status": "completed"
    },
    "tags": []
   },
   "outputs": [],
   "source": [
    "# ck = clusterProfiler.compareCluster(\n",
    "#     geneClusters=genes_per_cluster_set_entrez,\n",
    "#     universe=genes_universe_entrez,\n",
    "# #     fun='enrichGO',\n",
    "#     fun='enrichPathway',\n",
    "#     pAdjustMethod='fdr',\n",
    "# #     pAdjustMethod='bonferroni',\n",
    "#     pvalueCutoff=0.05,\n",
    "#     readable=True,\n",
    "# )"
   ]
  },
  {
   "cell_type": "code",
   "execution_count": 36,
   "id": "popular-membrane",
   "metadata": {
    "execution": {
     "iopub.execute_input": "2021-03-01T19:56:35.064904Z",
     "iopub.status.busy": "2021-03-01T19:56:35.064501Z",
     "iopub.status.idle": "2021-03-02T01:33:26.866797Z",
     "shell.execute_reply": "2021-03-02T01:33:26.866417Z"
    },
    "papermill": {
     "duration": 20211.824396,
     "end_time": "2021-03-02T01:33:26.866884",
     "exception": false,
     "start_time": "2021-03-01T19:56:35.042488",
     "status": "completed"
    },
    "tags": []
   },
   "outputs": [
    {
     "data": {
      "text/plain": [
       "'Partition with n_clusters=2'"
      ]
     },
     "metadata": {},
     "output_type": "display_data"
    },
    {
     "data": {
      "text/plain": [
       "'  BP'"
      ]
     },
     "metadata": {},
     "output_type": "display_data"
    },
    {
     "data": {
      "text/plain": [
       "'    Full results size: (2292, 10)'"
      ]
     },
     "metadata": {},
     "output_type": "display_data"
    },
    {
     "data": {
      "text/plain": [
       "'    Simplified results size: (43, 10)'"
      ]
     },
     "metadata": {},
     "output_type": "display_data"
    },
    {
     "data": {
      "text/plain": [
       "'  CC'"
      ]
     },
     "metadata": {},
     "output_type": "display_data"
    },
    {
     "data": {
      "text/plain": [
       "'    Full results size: (361, 10)'"
      ]
     },
     "metadata": {},
     "output_type": "display_data"
    },
    {
     "data": {
      "text/plain": [
       "'    Simplified results size: (12, 10)'"
      ]
     },
     "metadata": {},
     "output_type": "display_data"
    },
    {
     "data": {
      "text/plain": [
       "'  MF'"
      ]
     },
     "metadata": {},
     "output_type": "display_data"
    },
    {
     "data": {
      "text/plain": [
       "'    Full results size: (211, 10)'"
      ]
     },
     "metadata": {},
     "output_type": "display_data"
    },
    {
     "data": {
      "text/plain": [
       "'    Simplified results size: (15, 10)'"
      ]
     },
     "metadata": {},
     "output_type": "display_data"
    },
    {
     "data": {
      "text/plain": [
       "'Partition with n_clusters=5'"
      ]
     },
     "metadata": {},
     "output_type": "display_data"
    },
    {
     "data": {
      "text/plain": [
       "'  BP'"
      ]
     },
     "metadata": {},
     "output_type": "display_data"
    },
    {
     "data": {
      "text/plain": [
       "'    Full results size: (2332, 10)'"
      ]
     },
     "metadata": {},
     "output_type": "display_data"
    },
    {
     "data": {
      "text/plain": [
       "'    Simplified results size: (60, 10)'"
      ]
     },
     "metadata": {},
     "output_type": "display_data"
    },
    {
     "data": {
      "text/plain": [
       "'  CC'"
      ]
     },
     "metadata": {},
     "output_type": "display_data"
    },
    {
     "data": {
      "text/plain": [
       "'    Full results size: (360, 10)'"
      ]
     },
     "metadata": {},
     "output_type": "display_data"
    },
    {
     "data": {
      "text/plain": [
       "'    Simplified results size: (22, 10)'"
      ]
     },
     "metadata": {},
     "output_type": "display_data"
    },
    {
     "data": {
      "text/plain": [
       "'  MF'"
      ]
     },
     "metadata": {},
     "output_type": "display_data"
    },
    {
     "data": {
      "text/plain": [
       "'    Full results size: (316, 10)'"
      ]
     },
     "metadata": {},
     "output_type": "display_data"
    },
    {
     "data": {
      "text/plain": [
       "'    Simplified results size: (25, 10)'"
      ]
     },
     "metadata": {},
     "output_type": "display_data"
    },
    {
     "data": {
      "text/plain": [
       "'Partition with n_clusters=10'"
      ]
     },
     "metadata": {},
     "output_type": "display_data"
    },
    {
     "data": {
      "text/plain": [
       "'  BP'"
      ]
     },
     "metadata": {},
     "output_type": "display_data"
    },
    {
     "data": {
      "text/plain": [
       "'    Full results size: (2849, 10)'"
      ]
     },
     "metadata": {},
     "output_type": "display_data"
    },
    {
     "data": {
      "text/plain": [
       "'    Simplified results size: (114, 10)'"
      ]
     },
     "metadata": {},
     "output_type": "display_data"
    },
    {
     "data": {
      "text/plain": [
       "'  CC'"
      ]
     },
     "metadata": {},
     "output_type": "display_data"
    },
    {
     "data": {
      "text/plain": [
       "'    Full results size: (448, 10)'"
      ]
     },
     "metadata": {},
     "output_type": "display_data"
    },
    {
     "data": {
      "text/plain": [
       "'    Simplified results size: (37, 10)'"
      ]
     },
     "metadata": {},
     "output_type": "display_data"
    },
    {
     "data": {
      "text/plain": [
       "'  MF'"
      ]
     },
     "metadata": {},
     "output_type": "display_data"
    },
    {
     "data": {
      "text/plain": [
       "'    Full results size: (358, 10)'"
      ]
     },
     "metadata": {},
     "output_type": "display_data"
    },
    {
     "data": {
      "text/plain": [
       "'    Simplified results size: (52, 10)'"
      ]
     },
     "metadata": {},
     "output_type": "display_data"
    },
    {
     "data": {
      "text/plain": [
       "'Partition with n_clusters=15'"
      ]
     },
     "metadata": {},
     "output_type": "display_data"
    },
    {
     "data": {
      "text/plain": [
       "'  BP'"
      ]
     },
     "metadata": {},
     "output_type": "display_data"
    },
    {
     "data": {
      "text/plain": [
       "'    Full results size: (3262, 10)'"
      ]
     },
     "metadata": {},
     "output_type": "display_data"
    },
    {
     "data": {
      "text/plain": [
       "'    Simplified results size: (172, 10)'"
      ]
     },
     "metadata": {},
     "output_type": "display_data"
    },
    {
     "data": {
      "text/plain": [
       "'  CC'"
      ]
     },
     "metadata": {},
     "output_type": "display_data"
    },
    {
     "data": {
      "text/plain": [
       "'    Full results size: (515, 10)'"
      ]
     },
     "metadata": {},
     "output_type": "display_data"
    },
    {
     "data": {
      "text/plain": [
       "'    Simplified results size: (49, 10)'"
      ]
     },
     "metadata": {},
     "output_type": "display_data"
    },
    {
     "data": {
      "text/plain": [
       "'  MF'"
      ]
     },
     "metadata": {},
     "output_type": "display_data"
    },
    {
     "data": {
      "text/plain": [
       "'    Full results size: (378, 10)'"
      ]
     },
     "metadata": {},
     "output_type": "display_data"
    },
    {
     "data": {
      "text/plain": [
       "'    Simplified results size: (66, 10)'"
      ]
     },
     "metadata": {},
     "output_type": "display_data"
    },
    {
     "data": {
      "text/plain": [
       "'Partition with n_clusters=20'"
      ]
     },
     "metadata": {},
     "output_type": "display_data"
    },
    {
     "data": {
      "text/plain": [
       "'  BP'"
      ]
     },
     "metadata": {},
     "output_type": "display_data"
    },
    {
     "data": {
      "text/plain": [
       "'    Full results size: (3681, 10)'"
      ]
     },
     "metadata": {},
     "output_type": "display_data"
    },
    {
     "data": {
      "text/plain": [
       "'    Simplified results size: (180, 10)'"
      ]
     },
     "metadata": {},
     "output_type": "display_data"
    },
    {
     "data": {
      "text/plain": [
       "'  CC'"
      ]
     },
     "metadata": {},
     "output_type": "display_data"
    },
    {
     "data": {
      "text/plain": [
       "'    Full results size: (593, 10)'"
      ]
     },
     "metadata": {},
     "output_type": "display_data"
    },
    {
     "data": {
      "text/plain": [
       "'    Simplified results size: (63, 10)'"
      ]
     },
     "metadata": {},
     "output_type": "display_data"
    },
    {
     "data": {
      "text/plain": [
       "'  MF'"
      ]
     },
     "metadata": {},
     "output_type": "display_data"
    },
    {
     "data": {
      "text/plain": [
       "'    Full results size: (468, 10)'"
      ]
     },
     "metadata": {},
     "output_type": "display_data"
    },
    {
     "data": {
      "text/plain": [
       "'    Simplified results size: (98, 10)'"
      ]
     },
     "metadata": {},
     "output_type": "display_data"
    },
    {
     "data": {
      "text/plain": [
       "'Partition with n_clusters=25'"
      ]
     },
     "metadata": {},
     "output_type": "display_data"
    },
    {
     "data": {
      "text/plain": [
       "'  BP'"
      ]
     },
     "metadata": {},
     "output_type": "display_data"
    },
    {
     "data": {
      "text/plain": [
       "'    Full results size: (3711, 10)'"
      ]
     },
     "metadata": {},
     "output_type": "display_data"
    },
    {
     "data": {
      "text/plain": [
       "'    Simplified results size: (223, 10)'"
      ]
     },
     "metadata": {},
     "output_type": "display_data"
    },
    {
     "data": {
      "text/plain": [
       "'  CC'"
      ]
     },
     "metadata": {},
     "output_type": "display_data"
    },
    {
     "data": {
      "text/plain": [
       "'    Full results size: (571, 10)'"
      ]
     },
     "metadata": {},
     "output_type": "display_data"
    },
    {
     "data": {
      "text/plain": [
       "'    Simplified results size: (62, 10)'"
      ]
     },
     "metadata": {},
     "output_type": "display_data"
    },
    {
     "data": {
      "text/plain": [
       "'  MF'"
      ]
     },
     "metadata": {},
     "output_type": "display_data"
    },
    {
     "data": {
      "text/plain": [
       "'    Full results size: (499, 10)'"
      ]
     },
     "metadata": {},
     "output_type": "display_data"
    },
    {
     "data": {
      "text/plain": [
       "'    Simplified results size: (102, 10)'"
      ]
     },
     "metadata": {},
     "output_type": "display_data"
    },
    {
     "data": {
      "text/plain": [
       "'Partition with n_clusters=30'"
      ]
     },
     "metadata": {},
     "output_type": "display_data"
    },
    {
     "data": {
      "text/plain": [
       "'  BP'"
      ]
     },
     "metadata": {},
     "output_type": "display_data"
    },
    {
     "data": {
      "text/plain": [
       "'    Full results size: (3941, 10)'"
      ]
     },
     "metadata": {},
     "output_type": "display_data"
    },
    {
     "data": {
      "text/plain": [
       "'    Simplified results size: (240, 10)'"
      ]
     },
     "metadata": {},
     "output_type": "display_data"
    },
    {
     "data": {
      "text/plain": [
       "'  CC'"
      ]
     },
     "metadata": {},
     "output_type": "display_data"
    },
    {
     "data": {
      "text/plain": [
       "'    Full results size: (604, 10)'"
      ]
     },
     "metadata": {},
     "output_type": "display_data"
    },
    {
     "data": {
      "text/plain": [
       "'    Simplified results size: (86, 10)'"
      ]
     },
     "metadata": {},
     "output_type": "display_data"
    },
    {
     "data": {
      "text/plain": [
       "'  MF'"
      ]
     },
     "metadata": {},
     "output_type": "display_data"
    },
    {
     "data": {
      "text/plain": [
       "'    Full results size: (585, 10)'"
      ]
     },
     "metadata": {},
     "output_type": "display_data"
    },
    {
     "data": {
      "text/plain": [
       "'    Simplified results size: (157, 10)'"
      ]
     },
     "metadata": {},
     "output_type": "display_data"
    },
    {
     "data": {
      "text/plain": [
       "'Partition with n_clusters=35'"
      ]
     },
     "metadata": {},
     "output_type": "display_data"
    },
    {
     "data": {
      "text/plain": [
       "'  BP'"
      ]
     },
     "metadata": {},
     "output_type": "display_data"
    },
    {
     "data": {
      "text/plain": [
       "'    Full results size: (3866, 10)'"
      ]
     },
     "metadata": {},
     "output_type": "display_data"
    },
    {
     "data": {
      "text/plain": [
       "'    Simplified results size: (263, 10)'"
      ]
     },
     "metadata": {},
     "output_type": "display_data"
    },
    {
     "data": {
      "text/plain": [
       "'  CC'"
      ]
     },
     "metadata": {},
     "output_type": "display_data"
    },
    {
     "data": {
      "text/plain": [
       "'    Full results size: (633, 10)'"
      ]
     },
     "metadata": {},
     "output_type": "display_data"
    },
    {
     "data": {
      "text/plain": [
       "'    Simplified results size: (94, 10)'"
      ]
     },
     "metadata": {},
     "output_type": "display_data"
    },
    {
     "data": {
      "text/plain": [
       "'  MF'"
      ]
     },
     "metadata": {},
     "output_type": "display_data"
    },
    {
     "data": {
      "text/plain": [
       "'    Full results size: (641, 10)'"
      ]
     },
     "metadata": {},
     "output_type": "display_data"
    },
    {
     "data": {
      "text/plain": [
       "'    Simplified results size: (165, 10)'"
      ]
     },
     "metadata": {},
     "output_type": "display_data"
    },
    {
     "data": {
      "text/plain": [
       "'Partition with n_clusters=40'"
      ]
     },
     "metadata": {},
     "output_type": "display_data"
    },
    {
     "data": {
      "text/plain": [
       "'  BP'"
      ]
     },
     "metadata": {},
     "output_type": "display_data"
    },
    {
     "data": {
      "text/plain": [
       "'    Full results size: (4358, 10)'"
      ]
     },
     "metadata": {},
     "output_type": "display_data"
    },
    {
     "data": {
      "text/plain": [
       "'    Simplified results size: (388, 10)'"
      ]
     },
     "metadata": {},
     "output_type": "display_data"
    },
    {
     "data": {
      "text/plain": [
       "'  CC'"
      ]
     },
     "metadata": {},
     "output_type": "display_data"
    },
    {
     "data": {
      "text/plain": [
       "'    Full results size: (699, 10)'"
      ]
     },
     "metadata": {},
     "output_type": "display_data"
    },
    {
     "data": {
      "text/plain": [
       "'    Simplified results size: (108, 10)'"
      ]
     },
     "metadata": {},
     "output_type": "display_data"
    },
    {
     "data": {
      "text/plain": [
       "'  MF'"
      ]
     },
     "metadata": {},
     "output_type": "display_data"
    },
    {
     "data": {
      "text/plain": [
       "'    Full results size: (728, 10)'"
      ]
     },
     "metadata": {},
     "output_type": "display_data"
    },
    {
     "data": {
      "text/plain": [
       "'    Simplified results size: (182, 10)'"
      ]
     },
     "metadata": {},
     "output_type": "display_data"
    },
    {
     "data": {
      "text/plain": [
       "'Partition with n_clusters=45'"
      ]
     },
     "metadata": {},
     "output_type": "display_data"
    },
    {
     "data": {
      "text/plain": [
       "'  BP'"
      ]
     },
     "metadata": {},
     "output_type": "display_data"
    },
    {
     "data": {
      "text/plain": [
       "'    Full results size: (4621, 10)'"
      ]
     },
     "metadata": {},
     "output_type": "display_data"
    },
    {
     "data": {
      "text/plain": [
       "'    Simplified results size: (410, 10)'"
      ]
     },
     "metadata": {},
     "output_type": "display_data"
    },
    {
     "data": {
      "text/plain": [
       "'  CC'"
      ]
     },
     "metadata": {},
     "output_type": "display_data"
    },
    {
     "data": {
      "text/plain": [
       "'    Full results size: (717, 10)'"
      ]
     },
     "metadata": {},
     "output_type": "display_data"
    },
    {
     "data": {
      "text/plain": [
       "'    Simplified results size: (136, 10)'"
      ]
     },
     "metadata": {},
     "output_type": "display_data"
    },
    {
     "data": {
      "text/plain": [
       "'  MF'"
      ]
     },
     "metadata": {},
     "output_type": "display_data"
    },
    {
     "data": {
      "text/plain": [
       "'    Full results size: (719, 10)'"
      ]
     },
     "metadata": {},
     "output_type": "display_data"
    },
    {
     "data": {
      "text/plain": [
       "'    Simplified results size: (215, 10)'"
      ]
     },
     "metadata": {},
     "output_type": "display_data"
    },
    {
     "data": {
      "text/plain": [
       "'Partition with n_clusters=50'"
      ]
     },
     "metadata": {},
     "output_type": "display_data"
    },
    {
     "data": {
      "text/plain": [
       "'  BP'"
      ]
     },
     "metadata": {},
     "output_type": "display_data"
    },
    {
     "data": {
      "text/plain": [
       "'    Full results size: (4709, 10)'"
      ]
     },
     "metadata": {},
     "output_type": "display_data"
    },
    {
     "data": {
      "text/plain": [
       "'    Simplified results size: (510, 10)'"
      ]
     },
     "metadata": {},
     "output_type": "display_data"
    },
    {
     "data": {
      "text/plain": [
       "'  CC'"
      ]
     },
     "metadata": {},
     "output_type": "display_data"
    },
    {
     "data": {
      "text/plain": [
       "'    Full results size: (755, 10)'"
      ]
     },
     "metadata": {},
     "output_type": "display_data"
    },
    {
     "data": {
      "text/plain": [
       "'    Simplified results size: (138, 10)'"
      ]
     },
     "metadata": {},
     "output_type": "display_data"
    },
    {
     "data": {
      "text/plain": [
       "'  MF'"
      ]
     },
     "metadata": {},
     "output_type": "display_data"
    },
    {
     "data": {
      "text/plain": [
       "'    Full results size: (788, 10)'"
      ]
     },
     "metadata": {},
     "output_type": "display_data"
    },
    {
     "data": {
      "text/plain": [
       "'    Simplified results size: (226, 10)'"
      ]
     },
     "metadata": {},
     "output_type": "display_data"
    },
    {
     "data": {
      "text/plain": [
       "'Partition with n_clusters=55'"
      ]
     },
     "metadata": {},
     "output_type": "display_data"
    },
    {
     "data": {
      "text/plain": [
       "'  BP'"
      ]
     },
     "metadata": {},
     "output_type": "display_data"
    },
    {
     "data": {
      "text/plain": [
       "'    Full results size: (5060, 10)'"
      ]
     },
     "metadata": {},
     "output_type": "display_data"
    },
    {
     "data": {
      "text/plain": [
       "'    Simplified results size: (681, 10)'"
      ]
     },
     "metadata": {},
     "output_type": "display_data"
    },
    {
     "data": {
      "text/plain": [
       "'  CC'"
      ]
     },
     "metadata": {},
     "output_type": "display_data"
    },
    {
     "data": {
      "text/plain": [
       "'    Full results size: (789, 10)'"
      ]
     },
     "metadata": {},
     "output_type": "display_data"
    },
    {
     "data": {
      "text/plain": [
       "'    Simplified results size: (161, 10)'"
      ]
     },
     "metadata": {},
     "output_type": "display_data"
    },
    {
     "data": {
      "text/plain": [
       "'  MF'"
      ]
     },
     "metadata": {},
     "output_type": "display_data"
    },
    {
     "data": {
      "text/plain": [
       "'    Full results size: (857, 10)'"
      ]
     },
     "metadata": {},
     "output_type": "display_data"
    },
    {
     "data": {
      "text/plain": [
       "'    Simplified results size: (245, 10)'"
      ]
     },
     "metadata": {},
     "output_type": "display_data"
    },
    {
     "data": {
      "text/plain": [
       "'Partition with n_clusters=60'"
      ]
     },
     "metadata": {},
     "output_type": "display_data"
    },
    {
     "data": {
      "text/plain": [
       "'  BP'"
      ]
     },
     "metadata": {},
     "output_type": "display_data"
    },
    {
     "data": {
      "text/plain": [
       "'    Full results size: (5369, 10)'"
      ]
     },
     "metadata": {},
     "output_type": "display_data"
    },
    {
     "data": {
      "text/plain": [
       "'    Simplified results size: (715, 10)'"
      ]
     },
     "metadata": {},
     "output_type": "display_data"
    },
    {
     "data": {
      "text/plain": [
       "'  CC'"
      ]
     },
     "metadata": {},
     "output_type": "display_data"
    },
    {
     "data": {
      "text/plain": [
       "'    Full results size: (844, 10)'"
      ]
     },
     "metadata": {},
     "output_type": "display_data"
    },
    {
     "data": {
      "text/plain": [
       "'    Simplified results size: (160, 10)'"
      ]
     },
     "metadata": {},
     "output_type": "display_data"
    },
    {
     "data": {
      "text/plain": [
       "'  MF'"
      ]
     },
     "metadata": {},
     "output_type": "display_data"
    },
    {
     "data": {
      "text/plain": [
       "'    Full results size: (855, 10)'"
      ]
     },
     "metadata": {},
     "output_type": "display_data"
    },
    {
     "data": {
      "text/plain": [
       "'    Simplified results size: (272, 10)'"
      ]
     },
     "metadata": {},
     "output_type": "display_data"
    },
    {
     "data": {
      "text/plain": [
       "'Partition with n_clusters=65'"
      ]
     },
     "metadata": {},
     "output_type": "display_data"
    },
    {
     "data": {
      "text/plain": [
       "'  BP'"
      ]
     },
     "metadata": {},
     "output_type": "display_data"
    },
    {
     "data": {
      "text/plain": [
       "'    Full results size: (6020, 10)'"
      ]
     },
     "metadata": {},
     "output_type": "display_data"
    },
    {
     "data": {
      "text/plain": [
       "'    Simplified results size: (767, 10)'"
      ]
     },
     "metadata": {},
     "output_type": "display_data"
    },
    {
     "data": {
      "text/plain": [
       "'  CC'"
      ]
     },
     "metadata": {},
     "output_type": "display_data"
    },
    {
     "data": {
      "text/plain": [
       "'    Full results size: (828, 10)'"
      ]
     },
     "metadata": {},
     "output_type": "display_data"
    },
    {
     "data": {
      "text/plain": [
       "'    Simplified results size: (192, 10)'"
      ]
     },
     "metadata": {},
     "output_type": "display_data"
    },
    {
     "data": {
      "text/plain": [
       "'  MF'"
      ]
     },
     "metadata": {},
     "output_type": "display_data"
    },
    {
     "data": {
      "text/plain": [
       "'    Full results size: (862, 10)'"
      ]
     },
     "metadata": {},
     "output_type": "display_data"
    },
    {
     "data": {
      "text/plain": [
       "'    Simplified results size: (243, 10)'"
      ]
     },
     "metadata": {},
     "output_type": "display_data"
    },
    {
     "data": {
      "text/plain": [
       "'Partition with n_clusters=70'"
      ]
     },
     "metadata": {},
     "output_type": "display_data"
    },
    {
     "data": {
      "text/plain": [
       "'  BP'"
      ]
     },
     "metadata": {},
     "output_type": "display_data"
    },
    {
     "data": {
      "text/plain": [
       "'    Full results size: (5555, 10)'"
      ]
     },
     "metadata": {},
     "output_type": "display_data"
    },
    {
     "data": {
      "text/plain": [
       "'    Simplified results size: (772, 10)'"
      ]
     },
     "metadata": {},
     "output_type": "display_data"
    },
    {
     "data": {
      "text/plain": [
       "'  CC'"
      ]
     },
     "metadata": {},
     "output_type": "display_data"
    },
    {
     "data": {
      "text/plain": [
       "'    Full results size: (856, 10)'"
      ]
     },
     "metadata": {},
     "output_type": "display_data"
    },
    {
     "data": {
      "text/plain": [
       "'    Simplified results size: (193, 10)'"
      ]
     },
     "metadata": {},
     "output_type": "display_data"
    },
    {
     "data": {
      "text/plain": [
       "'  MF'"
      ]
     },
     "metadata": {},
     "output_type": "display_data"
    },
    {
     "data": {
      "text/plain": [
       "'    Full results size: (891, 10)'"
      ]
     },
     "metadata": {},
     "output_type": "display_data"
    },
    {
     "data": {
      "text/plain": [
       "'    Simplified results size: (283, 10)'"
      ]
     },
     "metadata": {},
     "output_type": "display_data"
    },
    {
     "data": {
      "text/plain": [
       "'Partition with n_clusters=75'"
      ]
     },
     "metadata": {},
     "output_type": "display_data"
    },
    {
     "data": {
      "text/plain": [
       "'  BP'"
      ]
     },
     "metadata": {},
     "output_type": "display_data"
    },
    {
     "data": {
      "text/plain": [
       "'    Full results size: (6222, 10)'"
      ]
     },
     "metadata": {},
     "output_type": "display_data"
    },
    {
     "data": {
      "text/plain": [
       "'    Simplified results size: (800, 10)'"
      ]
     },
     "metadata": {},
     "output_type": "display_data"
    },
    {
     "data": {
      "text/plain": [
       "'  CC'"
      ]
     },
     "metadata": {},
     "output_type": "display_data"
    },
    {
     "data": {
      "text/plain": [
       "'    Full results size: (891, 10)'"
      ]
     },
     "metadata": {},
     "output_type": "display_data"
    },
    {
     "data": {
      "text/plain": [
       "'    Simplified results size: (193, 10)'"
      ]
     },
     "metadata": {},
     "output_type": "display_data"
    },
    {
     "data": {
      "text/plain": [
       "'  MF'"
      ]
     },
     "metadata": {},
     "output_type": "display_data"
    },
    {
     "data": {
      "text/plain": [
       "'    Full results size: (921, 10)'"
      ]
     },
     "metadata": {},
     "output_type": "display_data"
    },
    {
     "data": {
      "text/plain": [
       "'    Simplified results size: (324, 10)'"
      ]
     },
     "metadata": {},
     "output_type": "display_data"
    },
    {
     "data": {
      "text/plain": [
       "'Partition with n_clusters=80'"
      ]
     },
     "metadata": {},
     "output_type": "display_data"
    },
    {
     "data": {
      "text/plain": [
       "'  BP'"
      ]
     },
     "metadata": {},
     "output_type": "display_data"
    },
    {
     "data": {
      "text/plain": [
       "'    Full results size: (5910, 10)'"
      ]
     },
     "metadata": {},
     "output_type": "display_data"
    },
    {
     "data": {
      "text/plain": [
       "'    Simplified results size: (797, 10)'"
      ]
     },
     "metadata": {},
     "output_type": "display_data"
    },
    {
     "data": {
      "text/plain": [
       "'  CC'"
      ]
     },
     "metadata": {},
     "output_type": "display_data"
    },
    {
     "data": {
      "text/plain": [
       "'    Full results size: (885, 10)'"
      ]
     },
     "metadata": {},
     "output_type": "display_data"
    },
    {
     "data": {
      "text/plain": [
       "'    Simplified results size: (203, 10)'"
      ]
     },
     "metadata": {},
     "output_type": "display_data"
    },
    {
     "data": {
      "text/plain": [
       "'  MF'"
      ]
     },
     "metadata": {},
     "output_type": "display_data"
    },
    {
     "data": {
      "text/plain": [
       "'    Full results size: (933, 10)'"
      ]
     },
     "metadata": {},
     "output_type": "display_data"
    },
    {
     "data": {
      "text/plain": [
       "'    Simplified results size: (315, 10)'"
      ]
     },
     "metadata": {},
     "output_type": "display_data"
    },
    {
     "data": {
      "text/plain": [
       "'Partition with n_clusters=90'"
      ]
     },
     "metadata": {},
     "output_type": "display_data"
    },
    {
     "data": {
      "text/plain": [
       "'  BP'"
      ]
     },
     "metadata": {},
     "output_type": "display_data"
    },
    {
     "data": {
      "text/plain": [
       "'    Full results size: (6535, 10)'"
      ]
     },
     "metadata": {},
     "output_type": "display_data"
    },
    {
     "data": {
      "text/plain": [
       "'    Simplified results size: (831, 10)'"
      ]
     },
     "metadata": {},
     "output_type": "display_data"
    },
    {
     "data": {
      "text/plain": [
       "'  CC'"
      ]
     },
     "metadata": {},
     "output_type": "display_data"
    },
    {
     "data": {
      "text/plain": [
       "'    Full results size: (945, 10)'"
      ]
     },
     "metadata": {},
     "output_type": "display_data"
    },
    {
     "data": {
      "text/plain": [
       "'    Simplified results size: (245, 10)'"
      ]
     },
     "metadata": {},
     "output_type": "display_data"
    },
    {
     "data": {
      "text/plain": [
       "'  MF'"
      ]
     },
     "metadata": {},
     "output_type": "display_data"
    },
    {
     "data": {
      "text/plain": [
       "'    Full results size: (959, 10)'"
      ]
     },
     "metadata": {},
     "output_type": "display_data"
    },
    {
     "data": {
      "text/plain": [
       "'    Simplified results size: (323, 10)'"
      ]
     },
     "metadata": {},
     "output_type": "display_data"
    },
    {
     "data": {
      "text/plain": [
       "'Partition with n_clusters=95'"
      ]
     },
     "metadata": {},
     "output_type": "display_data"
    },
    {
     "data": {
      "text/plain": [
       "'  BP'"
      ]
     },
     "metadata": {},
     "output_type": "display_data"
    },
    {
     "data": {
      "text/plain": [
       "'    Full results size: (6805, 10)'"
      ]
     },
     "metadata": {},
     "output_type": "display_data"
    },
    {
     "data": {
      "text/plain": [
       "'    Simplified results size: (934, 10)'"
      ]
     },
     "metadata": {},
     "output_type": "display_data"
    },
    {
     "data": {
      "text/plain": [
       "'  CC'"
      ]
     },
     "metadata": {},
     "output_type": "display_data"
    },
    {
     "data": {
      "text/plain": [
       "'    Full results size: (991, 10)'"
      ]
     },
     "metadata": {},
     "output_type": "display_data"
    },
    {
     "data": {
      "text/plain": [
       "'    Simplified results size: (249, 10)'"
      ]
     },
     "metadata": {},
     "output_type": "display_data"
    },
    {
     "data": {
      "text/plain": [
       "'  MF'"
      ]
     },
     "metadata": {},
     "output_type": "display_data"
    },
    {
     "data": {
      "text/plain": [
       "'    Full results size: (972, 10)'"
      ]
     },
     "metadata": {},
     "output_type": "display_data"
    },
    {
     "data": {
      "text/plain": [
       "'    Simplified results size: (344, 10)'"
      ]
     },
     "metadata": {},
     "output_type": "display_data"
    },
    {
     "data": {
      "text/plain": [
       "'Partition with n_clusters=100'"
      ]
     },
     "metadata": {},
     "output_type": "display_data"
    },
    {
     "data": {
      "text/plain": [
       "'  BP'"
      ]
     },
     "metadata": {},
     "output_type": "display_data"
    },
    {
     "data": {
      "text/plain": [
       "'    Full results size: (7099, 10)'"
      ]
     },
     "metadata": {},
     "output_type": "display_data"
    },
    {
     "data": {
      "text/plain": [
       "'    Simplified results size: (988, 10)'"
      ]
     },
     "metadata": {},
     "output_type": "display_data"
    },
    {
     "data": {
      "text/plain": [
       "'  CC'"
      ]
     },
     "metadata": {},
     "output_type": "display_data"
    },
    {
     "data": {
      "text/plain": [
       "'    Full results size: (969, 10)'"
      ]
     },
     "metadata": {},
     "output_type": "display_data"
    },
    {
     "data": {
      "text/plain": [
       "'    Simplified results size: (244, 10)'"
      ]
     },
     "metadata": {},
     "output_type": "display_data"
    },
    {
     "data": {
      "text/plain": [
       "'  MF'"
      ]
     },
     "metadata": {},
     "output_type": "display_data"
    },
    {
     "data": {
      "text/plain": [
       "'    Full results size: (997, 10)'"
      ]
     },
     "metadata": {},
     "output_type": "display_data"
    },
    {
     "data": {
      "text/plain": [
       "'    Simplified results size: (328, 10)'"
      ]
     },
     "metadata": {},
     "output_type": "display_data"
    },
    {
     "data": {
      "text/plain": [
       "'Partition with n_clusters=200'"
      ]
     },
     "metadata": {},
     "output_type": "display_data"
    },
    {
     "data": {
      "text/plain": [
       "'  BP'"
      ]
     },
     "metadata": {},
     "output_type": "display_data"
    },
    {
     "data": {
      "text/plain": [
       "'    Full results size: (10889, 10)'"
      ]
     },
     "metadata": {},
     "output_type": "display_data"
    },
    {
     "data": {
      "text/plain": [
       "'    Simplified results size: (1869, 10)'"
      ]
     },
     "metadata": {},
     "output_type": "display_data"
    },
    {
     "data": {
      "text/plain": [
       "'  CC'"
      ]
     },
     "metadata": {},
     "output_type": "display_data"
    },
    {
     "data": {
      "text/plain": [
       "'    Full results size: (1431, 10)'"
      ]
     },
     "metadata": {},
     "output_type": "display_data"
    },
    {
     "data": {
      "text/plain": [
       "'    Simplified results size: (445, 10)'"
      ]
     },
     "metadata": {},
     "output_type": "display_data"
    },
    {
     "data": {
      "text/plain": [
       "'  MF'"
      ]
     },
     "metadata": {},
     "output_type": "display_data"
    },
    {
     "data": {
      "text/plain": [
       "'    Full results size: (1433, 10)'"
      ]
     },
     "metadata": {},
     "output_type": "display_data"
    },
    {
     "data": {
      "text/plain": [
       "'    Simplified results size: (556, 10)'"
      ]
     },
     "metadata": {},
     "output_type": "display_data"
    }
   ],
   "source": [
    "for idx, cr in cm_results.sort_values(\"n_clusters\").iterrows():\n",
    "    display(f\"Partition with n_clusters={cr.n_clusters}\")\n",
    "\n",
    "    prefix = f\"k_{cr.n_clusters}-\"\n",
    "    run_enrich(prefix, cr.partition, \"BP\")\n",
    "    run_enrich(prefix, cr.partition, \"CC\")\n",
    "    run_enrich(prefix, cr.partition, \"MF\")"
   ]
  },
  {
   "cell_type": "markdown",
   "id": "indie-donor",
   "metadata": {
    "papermill": {
     "duration": 0.060351,
     "end_time": "2021-03-02T01:33:26.990299",
     "exception": false,
     "start_time": "2021-03-02T01:33:26.929948",
     "status": "completed"
    },
    "tags": []
   },
   "source": [
    "## Plot"
   ]
  },
  {
   "cell_type": "code",
   "execution_count": 37,
   "id": "parental-horror",
   "metadata": {
    "execution": {
     "iopub.execute_input": "2021-03-02T01:33:27.115219Z",
     "iopub.status.busy": "2021-03-02T01:33:27.114850Z",
     "iopub.status.idle": "2021-03-02T01:33:27.122154Z",
     "shell.execute_reply": "2021-03-02T01:33:27.121785Z"
    },
    "papermill": {
     "duration": 0.070241,
     "end_time": "2021-03-02T01:33:27.122239",
     "exception": false,
     "start_time": "2021-03-02T01:33:27.051998",
     "status": "completed"
    },
    "tags": []
   },
   "outputs": [],
   "source": [
    "# import rpy2.robjects.lib.ggplot2 as ggplot2"
   ]
  },
  {
   "cell_type": "code",
   "execution_count": 38,
   "id": "respective-jacob",
   "metadata": {
    "execution": {
     "iopub.execute_input": "2021-03-02T01:33:27.248080Z",
     "iopub.status.busy": "2021-03-02T01:33:27.247719Z",
     "iopub.status.idle": "2021-03-02T01:33:27.254825Z",
     "shell.execute_reply": "2021-03-02T01:33:27.254505Z"
    },
    "papermill": {
     "duration": 0.070692,
     "end_time": "2021-03-02T01:33:27.254909",
     "exception": false,
     "start_time": "2021-03-02T01:33:27.184217",
     "status": "completed"
    },
    "tags": []
   },
   "outputs": [],
   "source": [
    "# grdevices.pdf(file=os.path.join(OUTPUT_FIGURES_DIR, 'asthma_biclusters_go_enrichment.pdf'), width=13, height=8)\n",
    "# args = {'showCategory': 5, 'font.size': 12}\n",
    "# p = enrichplot.dotplot(cks, **args) + \\\n",
    "#     ggplot2.theme(**{\n",
    "#         'text': ggplot2.element_text(size=20),\n",
    "#         'axis.text.x': ggplot2.element_text(size = 19),\n",
    "#         'axis.text.y': ggplot2.element_text(angle = 0, hjust = 1, size = 18),\n",
    "#         'legend.title.align': 0.5,\n",
    "#     }) + \\\n",
    "#     ggplot2.labs(color = \"p-value\\n(FDR)\", size = 'Gene\\nratio')\n",
    "# rprint(p)\n",
    "# grdevices.dev_off()"
   ]
  },
  {
   "cell_type": "code",
   "execution_count": null,
   "id": "apparent-holmes",
   "metadata": {
    "papermill": {
     "duration": 0.060955,
     "end_time": "2021-03-02T01:33:27.378575",
     "exception": false,
     "start_time": "2021-03-02T01:33:27.317620",
     "status": "completed"
    },
    "tags": []
   },
   "outputs": [],
   "source": []
  }
 ],
 "metadata": {
  "jupytext": {
   "cell_metadata_filter": "all,-execution,-papermill,-trusted",
   "text_representation": {
    "extension": ".py",
    "format_name": "percent",
    "format_version": "1.3",
    "jupytext_version": "1.11.5"
   }
  },
  "kernelspec": {
   "display_name": "Python 3 (ipykernel)",
   "language": "python",
   "name": "python3"
  },
  "language_info": {
   "codemirror_mode": {
    "name": "ipython",
    "version": 3
   },
   "file_extension": ".py",
   "mimetype": "text/x-python",
   "name": "python",
   "nbconvert_exporter": "python",
   "pygments_lexer": "ipython3",
   "version": "3.9.6"
  },
  "papermill": {
   "default_parameters": {},
   "duration": 20221.969232,
   "end_time": "2021-03-02T01:33:29.910363",
   "environment_variables": {},
   "exception": null,
   "input_path": "05_cluster_analysis/10_05-pearson-go_enrichment.ipynb",
   "output_path": "05_cluster_analysis/10_05-pearson-go_enrichment.run.ipynb",
   "parameters": {},
   "start_time": "2021-03-01T19:56:27.941131",
   "version": "2.3.2"
  },
  "toc-autonumbering": true
 },
 "nbformat": 4,
 "nbformat_minor": 5
}
