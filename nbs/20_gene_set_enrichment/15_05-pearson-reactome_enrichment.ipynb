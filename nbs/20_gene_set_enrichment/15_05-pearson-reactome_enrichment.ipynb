{
 "cells": [
  {
   "cell_type": "markdown",
   "id": "liberal-seven",
   "metadata": {
    "papermill": {
     "duration": 0.014207,
     "end_time": "2021-03-03T04:19:44.541060",
     "exception": false,
     "start_time": "2021-03-03T04:19:44.526853",
     "status": "completed"
    },
    "tags": []
   },
   "source": [
    "# Modules loading"
   ]
  },
  {
   "cell_type": "code",
   "execution_count": 1,
   "id": "developed-tuner",
   "metadata": {
    "execution": {
     "iopub.execute_input": "2021-03-03T04:19:44.568558Z",
     "iopub.status.busy": "2021-03-03T04:19:44.568191Z",
     "iopub.status.idle": "2021-03-03T04:19:44.575516Z",
     "shell.execute_reply": "2021-03-03T04:19:44.575167Z"
    },
    "papermill": {
     "duration": 0.023211,
     "end_time": "2021-03-03T04:19:44.575612",
     "exception": false,
     "start_time": "2021-03-03T04:19:44.552401",
     "status": "completed"
    },
    "tags": []
   },
   "outputs": [],
   "source": [
    "%load_ext autoreload\n",
    "%autoreload 2"
   ]
  },
  {
   "cell_type": "code",
   "execution_count": 2,
   "id": "united-bryan",
   "metadata": {
    "execution": {
     "iopub.execute_input": "2021-03-03T04:19:44.598689Z",
     "iopub.status.busy": "2021-03-03T04:19:44.598319Z",
     "iopub.status.idle": "2021-03-03T04:19:44.784947Z",
     "shell.execute_reply": "2021-03-03T04:19:44.784598Z"
    },
    "papermill": {
     "duration": 0.19887,
     "end_time": "2021-03-03T04:19:44.785038",
     "exception": false,
     "start_time": "2021-03-03T04:19:44.586168",
     "status": "completed"
    },
    "tags": []
   },
   "outputs": [],
   "source": [
    "from pathlib import Path\n",
    "\n",
    "import pandas as pd"
   ]
  },
  {
   "cell_type": "markdown",
   "id": "presidential-neighborhood",
   "metadata": {
    "papermill": {
     "duration": 0.009702,
     "end_time": "2021-03-03T04:19:44.805161",
     "exception": false,
     "start_time": "2021-03-03T04:19:44.795459",
     "status": "completed"
    },
    "tags": []
   },
   "source": [
    "# Settings"
   ]
  },
  {
   "cell_type": "code",
   "execution_count": 3,
   "id": "stylish-sudan",
   "metadata": {
    "execution": {
     "iopub.execute_input": "2021-03-03T04:19:44.827243Z",
     "iopub.status.busy": "2021-03-03T04:19:44.826882Z",
     "iopub.status.idle": "2021-03-03T04:19:44.834014Z",
     "shell.execute_reply": "2021-03-03T04:19:44.833651Z"
    },
    "papermill": {
     "duration": 0.019014,
     "end_time": "2021-03-03T04:19:44.834097",
     "exception": false,
     "start_time": "2021-03-03T04:19:44.815083",
     "status": "completed"
    },
    "tags": []
   },
   "outputs": [],
   "source": [
    "METHOD = \"pearson\"\n",
    "METHOD_SHORT = \"corr\""
   ]
  },
  {
   "cell_type": "code",
   "execution_count": 4,
   "id": "written-monaco",
   "metadata": {
    "execution": {
     "iopub.execute_input": "2021-03-03T04:19:44.856147Z",
     "iopub.status.busy": "2021-03-03T04:19:44.855790Z",
     "iopub.status.idle": "2021-03-03T04:19:44.867692Z",
     "shell.execute_reply": "2021-03-03T04:19:44.867304Z"
    },
    "papermill": {
     "duration": 0.023696,
     "end_time": "2021-03-03T04:19:44.867776",
     "exception": false,
     "start_time": "2021-03-03T04:19:44.844080",
     "status": "completed"
    },
    "tags": []
   },
   "outputs": [
    {
     "data": {
      "text/plain": [
       "PosixPath('/home/miltondp/projects/labs/greenelab/cm_gene_expression/base')"
      ]
     },
     "metadata": {},
     "output_type": "display_data"
    }
   ],
   "source": [
    "# BASE_FOLDER = Path(\"..\", \"base\").resolve()\n",
    "BASE_FOLDER = Path(\"base\").resolve()\n",
    "\n",
    "assert BASE_FOLDER.exists()\n",
    "\n",
    "display(BASE_FOLDER)"
   ]
  },
  {
   "cell_type": "code",
   "execution_count": 5,
   "id": "champion-pantyhose",
   "metadata": {
    "execution": {
     "iopub.execute_input": "2021-03-03T04:19:44.891372Z",
     "iopub.status.busy": "2021-03-03T04:19:44.891001Z",
     "iopub.status.idle": "2021-03-03T04:19:44.899195Z",
     "shell.execute_reply": "2021-03-03T04:19:44.898894Z"
    },
    "papermill": {
     "duration": 0.020727,
     "end_time": "2021-03-03T04:19:44.899282",
     "exception": false,
     "start_time": "2021-03-03T04:19:44.878555",
     "status": "completed"
    },
    "tags": []
   },
   "outputs": [
    {
     "data": {
      "text/plain": [
       "PosixPath('/home/miltondp/projects/labs/greenelab/cm_gene_expression/base/results/pearson/enrichPathway')"
      ]
     },
     "metadata": {},
     "output_type": "display_data"
    }
   ],
   "source": [
    "OUTPUT_DIR = Path(BASE_FOLDER, \"results\", METHOD, \"enrichPathway\").resolve()\n",
    "display(OUTPUT_DIR)\n",
    "\n",
    "OUTPUT_DIR.mkdir(exist_ok=True)"
   ]
  },
  {
   "cell_type": "markdown",
   "id": "finished-venice",
   "metadata": {
    "papermill": {
     "duration": 0.010288,
     "end_time": "2021-03-03T04:19:44.920506",
     "exception": false,
     "start_time": "2021-03-03T04:19:44.910218",
     "status": "completed"
    },
    "tags": []
   },
   "source": [
    "# Load correlations"
   ]
  },
  {
   "cell_type": "code",
   "execution_count": 6,
   "id": "frozen-strain",
   "metadata": {
    "execution": {
     "iopub.execute_input": "2021-03-03T04:19:44.944362Z",
     "iopub.status.busy": "2021-03-03T04:19:44.944004Z",
     "iopub.status.idle": "2021-03-03T04:19:44.952995Z",
     "shell.execute_reply": "2021-03-03T04:19:44.952623Z"
    },
    "papermill": {
     "duration": 0.022065,
     "end_time": "2021-03-03T04:19:44.953080",
     "exception": false,
     "start_time": "2021-03-03T04:19:44.931015",
     "status": "completed"
    },
    "tags": []
   },
   "outputs": [
    {
     "data": {
      "text/plain": [
       "PosixPath('/home/miltondp/projects/labs/greenelab/cm_gene_expression/base/results/sim_mat/wb_data_gene_corr.pkl')"
      ]
     },
     "metadata": {},
     "output_type": "display_data"
    },
    {
     "data": {
      "text/plain": [
       "'wb_data_gene_corr'"
      ]
     },
     "metadata": {},
     "output_type": "display_data"
    }
   ],
   "source": [
    "input_filepath = Path(\n",
    "    BASE_FOLDER,\n",
    "    \"results\",\n",
    "    \"sim_mat\",\n",
    "    f\"wb_data_gene_{METHOD_SHORT}.pkl\",\n",
    ").resolve()\n",
    "display(input_filepath)\n",
    "\n",
    "assert input_filepath.exists(), \"Input file does not exist\"\n",
    "\n",
    "input_filepath_stem = input_filepath.stem\n",
    "display(input_filepath_stem)"
   ]
  },
  {
   "cell_type": "code",
   "execution_count": 7,
   "id": "purple-upgrade",
   "metadata": {
    "execution": {
     "iopub.execute_input": "2021-03-03T04:19:44.977712Z",
     "iopub.status.busy": "2021-03-03T04:19:44.977337Z",
     "iopub.status.idle": "2021-03-03T04:19:45.067310Z",
     "shell.execute_reply": "2021-03-03T04:19:45.066832Z"
    },
    "papermill": {
     "duration": 0.103019,
     "end_time": "2021-03-03T04:19:45.067417",
     "exception": false,
     "start_time": "2021-03-03T04:19:44.964398",
     "status": "completed"
    },
    "tags": []
   },
   "outputs": [],
   "source": [
    "sim_matrix = pd.read_pickle(input_filepath)"
   ]
  },
  {
   "cell_type": "code",
   "execution_count": 8,
   "id": "reasonable-joseph",
   "metadata": {
    "execution": {
     "iopub.execute_input": "2021-03-03T04:19:45.098131Z",
     "iopub.status.busy": "2021-03-03T04:19:45.097688Z",
     "iopub.status.idle": "2021-03-03T04:19:45.106734Z",
     "shell.execute_reply": "2021-03-03T04:19:45.106286Z"
    },
    "papermill": {
     "duration": 0.025229,
     "end_time": "2021-03-03T04:19:45.106835",
     "exception": false,
     "start_time": "2021-03-03T04:19:45.081606",
     "status": "completed"
    },
    "tags": []
   },
   "outputs": [
    {
     "data": {
      "text/plain": [
       "(5000, 5000)"
      ]
     },
     "execution_count": 8,
     "metadata": {},
     "output_type": "execute_result"
    }
   ],
   "source": [
    "sim_matrix.shape"
   ]
  },
  {
   "cell_type": "code",
   "execution_count": 9,
   "id": "pending-spotlight",
   "metadata": {
    "execution": {
     "iopub.execute_input": "2021-03-03T04:19:45.133253Z",
     "iopub.status.busy": "2021-03-03T04:19:45.132878Z",
     "iopub.status.idle": "2021-03-03T04:19:45.155769Z",
     "shell.execute_reply": "2021-03-03T04:19:45.155387Z"
    },
    "papermill": {
     "duration": 0.036272,
     "end_time": "2021-03-03T04:19:45.155858",
     "exception": false,
     "start_time": "2021-03-03T04:19:45.119586",
     "status": "completed"
    },
    "tags": []
   },
   "outputs": [
    {
     "data": {
      "text/html": [
       "<div>\n",
       "<style scoped>\n",
       "    .dataframe tbody tr th:only-of-type {\n",
       "        vertical-align: middle;\n",
       "    }\n",
       "\n",
       "    .dataframe tbody tr th {\n",
       "        vertical-align: top;\n",
       "    }\n",
       "\n",
       "    .dataframe thead th {\n",
       "        text-align: right;\n",
       "    }\n",
       "</style>\n",
       "<table border=\"1\" class=\"dataframe\">\n",
       "  <thead>\n",
       "    <tr style=\"text-align: right;\">\n",
       "      <th>Name</th>\n",
       "      <th>ENSG00000244734.3</th>\n",
       "      <th>ENSG00000188536.12</th>\n",
       "      <th>ENSG00000163220.10</th>\n",
       "      <th>ENSG00000206172.8</th>\n",
       "      <th>ENSG00000223609.7</th>\n",
       "      <th>ENSG00000143546.9</th>\n",
       "      <th>ENSG00000087086.14</th>\n",
       "      <th>ENSG00000185201.16</th>\n",
       "      <th>ENSG00000163221.8</th>\n",
       "      <th>ENSG00000234745.10</th>\n",
       "      <th>...</th>\n",
       "      <th>ENSG00000183431.11</th>\n",
       "      <th>ENSG00000119707.13</th>\n",
       "      <th>ENSG00000147649.9</th>\n",
       "      <th>ENSG00000164305.18</th>\n",
       "      <th>ENSG00000267074.1</th>\n",
       "      <th>ENSG00000130517.13</th>\n",
       "      <th>ENSG00000138674.16</th>\n",
       "      <th>ENSG00000065911.11</th>\n",
       "      <th>ENSG00000163297.16</th>\n",
       "      <th>ENSG00000259865.1</th>\n",
       "    </tr>\n",
       "    <tr>\n",
       "      <th>Name</th>\n",
       "      <th></th>\n",
       "      <th></th>\n",
       "      <th></th>\n",
       "      <th></th>\n",
       "      <th></th>\n",
       "      <th></th>\n",
       "      <th></th>\n",
       "      <th></th>\n",
       "      <th></th>\n",
       "      <th></th>\n",
       "      <th></th>\n",
       "      <th></th>\n",
       "      <th></th>\n",
       "      <th></th>\n",
       "      <th></th>\n",
       "      <th></th>\n",
       "      <th></th>\n",
       "      <th></th>\n",
       "      <th></th>\n",
       "      <th></th>\n",
       "      <th></th>\n",
       "    </tr>\n",
       "  </thead>\n",
       "  <tbody>\n",
       "    <tr>\n",
       "      <th>ENSG00000244734.3</th>\n",
       "      <td>1.000000</td>\n",
       "      <td>0.636236</td>\n",
       "      <td>-0.517149</td>\n",
       "      <td>0.781512</td>\n",
       "      <td>0.873917</td>\n",
       "      <td>-0.373188</td>\n",
       "      <td>-0.511014</td>\n",
       "      <td>-0.588842</td>\n",
       "      <td>-0.403123</td>\n",
       "      <td>-0.758224</td>\n",
       "      <td>...</td>\n",
       "      <td>-0.635070</td>\n",
       "      <td>-0.518102</td>\n",
       "      <td>-0.563508</td>\n",
       "      <td>-0.608799</td>\n",
       "      <td>-0.237267</td>\n",
       "      <td>-0.521478</td>\n",
       "      <td>-0.488588</td>\n",
       "      <td>-0.441912</td>\n",
       "      <td>-0.643780</td>\n",
       "      <td>-0.422210</td>\n",
       "    </tr>\n",
       "    <tr>\n",
       "      <th>ENSG00000188536.12</th>\n",
       "      <td>0.636236</td>\n",
       "      <td>1.000000</td>\n",
       "      <td>-0.597514</td>\n",
       "      <td>0.851216</td>\n",
       "      <td>0.598668</td>\n",
       "      <td>-0.484410</td>\n",
       "      <td>-0.318602</td>\n",
       "      <td>-0.518463</td>\n",
       "      <td>-0.472179</td>\n",
       "      <td>-0.520591</td>\n",
       "      <td>...</td>\n",
       "      <td>-0.490134</td>\n",
       "      <td>-0.415882</td>\n",
       "      <td>-0.533757</td>\n",
       "      <td>-0.635469</td>\n",
       "      <td>-0.103706</td>\n",
       "      <td>-0.299885</td>\n",
       "      <td>-0.237291</td>\n",
       "      <td>-0.437212</td>\n",
       "      <td>-0.623296</td>\n",
       "      <td>-0.383124</td>\n",
       "    </tr>\n",
       "    <tr>\n",
       "      <th>ENSG00000163220.10</th>\n",
       "      <td>-0.517149</td>\n",
       "      <td>-0.597514</td>\n",
       "      <td>1.000000</td>\n",
       "      <td>-0.550380</td>\n",
       "      <td>-0.482091</td>\n",
       "      <td>0.862155</td>\n",
       "      <td>0.269060</td>\n",
       "      <td>0.634181</td>\n",
       "      <td>0.897901</td>\n",
       "      <td>0.157961</td>\n",
       "      <td>...</td>\n",
       "      <td>0.059125</td>\n",
       "      <td>-0.069613</td>\n",
       "      <td>0.156748</td>\n",
       "      <td>0.393911</td>\n",
       "      <td>-0.300284</td>\n",
       "      <td>-0.039997</td>\n",
       "      <td>-0.242617</td>\n",
       "      <td>0.109229</td>\n",
       "      <td>0.528421</td>\n",
       "      <td>0.027411</td>\n",
       "    </tr>\n",
       "    <tr>\n",
       "      <th>ENSG00000206172.8</th>\n",
       "      <td>0.781512</td>\n",
       "      <td>0.851216</td>\n",
       "      <td>-0.550380</td>\n",
       "      <td>1.000000</td>\n",
       "      <td>0.594896</td>\n",
       "      <td>-0.426201</td>\n",
       "      <td>-0.427221</td>\n",
       "      <td>-0.542304</td>\n",
       "      <td>-0.423745</td>\n",
       "      <td>-0.619939</td>\n",
       "      <td>...</td>\n",
       "      <td>-0.561988</td>\n",
       "      <td>-0.461928</td>\n",
       "      <td>-0.547395</td>\n",
       "      <td>-0.636742</td>\n",
       "      <td>-0.173265</td>\n",
       "      <td>-0.395801</td>\n",
       "      <td>-0.344709</td>\n",
       "      <td>-0.449663</td>\n",
       "      <td>-0.623293</td>\n",
       "      <td>-0.415837</td>\n",
       "    </tr>\n",
       "    <tr>\n",
       "      <th>ENSG00000223609.7</th>\n",
       "      <td>0.873917</td>\n",
       "      <td>0.598668</td>\n",
       "      <td>-0.482091</td>\n",
       "      <td>0.594896</td>\n",
       "      <td>1.000000</td>\n",
       "      <td>-0.361893</td>\n",
       "      <td>-0.408885</td>\n",
       "      <td>-0.559388</td>\n",
       "      <td>-0.383613</td>\n",
       "      <td>-0.678946</td>\n",
       "      <td>...</td>\n",
       "      <td>-0.541080</td>\n",
       "      <td>-0.467170</td>\n",
       "      <td>-0.501484</td>\n",
       "      <td>-0.536834</td>\n",
       "      <td>-0.184577</td>\n",
       "      <td>-0.458903</td>\n",
       "      <td>-0.399955</td>\n",
       "      <td>-0.382090</td>\n",
       "      <td>-0.593338</td>\n",
       "      <td>-0.351526</td>\n",
       "    </tr>\n",
       "  </tbody>\n",
       "</table>\n",
       "<p>5 rows × 5000 columns</p>\n",
       "</div>"
      ],
      "text/plain": [
       "Name                ENSG00000244734.3  ENSG00000188536.12  ENSG00000163220.10  \\\n",
       "Name                                                                            \n",
       "ENSG00000244734.3            1.000000            0.636236           -0.517149   \n",
       "ENSG00000188536.12           0.636236            1.000000           -0.597514   \n",
       "ENSG00000163220.10          -0.517149           -0.597514            1.000000   \n",
       "ENSG00000206172.8            0.781512            0.851216           -0.550380   \n",
       "ENSG00000223609.7            0.873917            0.598668           -0.482091   \n",
       "\n",
       "Name                ENSG00000206172.8  ENSG00000223609.7  ENSG00000143546.9  \\\n",
       "Name                                                                          \n",
       "ENSG00000244734.3            0.781512           0.873917          -0.373188   \n",
       "ENSG00000188536.12           0.851216           0.598668          -0.484410   \n",
       "ENSG00000163220.10          -0.550380          -0.482091           0.862155   \n",
       "ENSG00000206172.8            1.000000           0.594896          -0.426201   \n",
       "ENSG00000223609.7            0.594896           1.000000          -0.361893   \n",
       "\n",
       "Name                ENSG00000087086.14  ENSG00000185201.16  ENSG00000163221.8  \\\n",
       "Name                                                                            \n",
       "ENSG00000244734.3            -0.511014           -0.588842          -0.403123   \n",
       "ENSG00000188536.12           -0.318602           -0.518463          -0.472179   \n",
       "ENSG00000163220.10            0.269060            0.634181           0.897901   \n",
       "ENSG00000206172.8            -0.427221           -0.542304          -0.423745   \n",
       "ENSG00000223609.7            -0.408885           -0.559388          -0.383613   \n",
       "\n",
       "Name                ENSG00000234745.10  ...  ENSG00000183431.11  \\\n",
       "Name                                    ...                       \n",
       "ENSG00000244734.3            -0.758224  ...           -0.635070   \n",
       "ENSG00000188536.12           -0.520591  ...           -0.490134   \n",
       "ENSG00000163220.10            0.157961  ...            0.059125   \n",
       "ENSG00000206172.8            -0.619939  ...           -0.561988   \n",
       "ENSG00000223609.7            -0.678946  ...           -0.541080   \n",
       "\n",
       "Name                ENSG00000119707.13  ENSG00000147649.9  ENSG00000164305.18  \\\n",
       "Name                                                                            \n",
       "ENSG00000244734.3            -0.518102          -0.563508           -0.608799   \n",
       "ENSG00000188536.12           -0.415882          -0.533757           -0.635469   \n",
       "ENSG00000163220.10           -0.069613           0.156748            0.393911   \n",
       "ENSG00000206172.8            -0.461928          -0.547395           -0.636742   \n",
       "ENSG00000223609.7            -0.467170          -0.501484           -0.536834   \n",
       "\n",
       "Name                ENSG00000267074.1  ENSG00000130517.13  ENSG00000138674.16  \\\n",
       "Name                                                                            \n",
       "ENSG00000244734.3           -0.237267           -0.521478           -0.488588   \n",
       "ENSG00000188536.12          -0.103706           -0.299885           -0.237291   \n",
       "ENSG00000163220.10          -0.300284           -0.039997           -0.242617   \n",
       "ENSG00000206172.8           -0.173265           -0.395801           -0.344709   \n",
       "ENSG00000223609.7           -0.184577           -0.458903           -0.399955   \n",
       "\n",
       "Name                ENSG00000065911.11  ENSG00000163297.16  ENSG00000259865.1  \n",
       "Name                                                                           \n",
       "ENSG00000244734.3            -0.441912           -0.643780          -0.422210  \n",
       "ENSG00000188536.12           -0.437212           -0.623296          -0.383124  \n",
       "ENSG00000163220.10            0.109229            0.528421           0.027411  \n",
       "ENSG00000206172.8            -0.449663           -0.623293          -0.415837  \n",
       "ENSG00000223609.7            -0.382090           -0.593338          -0.351526  \n",
       "\n",
       "[5 rows x 5000 columns]"
      ]
     },
     "execution_count": 9,
     "metadata": {},
     "output_type": "execute_result"
    }
   ],
   "source": [
    "sim_matrix.head()"
   ]
  },
  {
   "cell_type": "markdown",
   "id": "included-scale",
   "metadata": {
    "papermill": {
     "duration": 0.012245,
     "end_time": "2021-03-03T04:19:45.180478",
     "exception": false,
     "start_time": "2021-03-03T04:19:45.168233",
     "status": "completed"
    },
    "tags": []
   },
   "source": [
    "# Load clustering results"
   ]
  },
  {
   "cell_type": "code",
   "execution_count": 10,
   "id": "curious-roots",
   "metadata": {
    "execution": {
     "iopub.execute_input": "2021-03-03T04:19:45.205925Z",
     "iopub.status.busy": "2021-03-03T04:19:45.205570Z",
     "iopub.status.idle": "2021-03-03T04:19:45.213837Z",
     "shell.execute_reply": "2021-03-03T04:19:45.213438Z"
    },
    "papermill": {
     "duration": 0.021885,
     "end_time": "2021-03-03T04:19:45.213922",
     "exception": false,
     "start_time": "2021-03-03T04:19:45.192037",
     "status": "completed"
    },
    "tags": []
   },
   "outputs": [
    {
     "data": {
      "text/plain": [
       "PosixPath('/home/miltondp/projects/labs/greenelab/cm_gene_expression/base/results')"
      ]
     },
     "metadata": {},
     "output_type": "display_data"
    }
   ],
   "source": [
    "ensemble_folder = Path(\n",
    "    BASE_FOLDER,\n",
    "    \"results\",\n",
    ").resolve()\n",
    "display(ensemble_folder)\n",
    "\n",
    "# ensemble_folder.mkdir(parents=True, exist_ok=True)"
   ]
  },
  {
   "cell_type": "code",
   "execution_count": 11,
   "id": "after-south",
   "metadata": {
    "execution": {
     "iopub.execute_input": "2021-03-03T04:19:45.241037Z",
     "iopub.status.busy": "2021-03-03T04:19:45.240634Z",
     "iopub.status.idle": "2021-03-03T04:19:45.248728Z",
     "shell.execute_reply": "2021-03-03T04:19:45.248363Z"
    },
    "papermill": {
     "duration": 0.022356,
     "end_time": "2021-03-03T04:19:45.248828",
     "exception": false,
     "start_time": "2021-03-03T04:19:45.226472",
     "status": "completed"
    },
    "tags": []
   },
   "outputs": [
    {
     "data": {
      "text/plain": [
       "PosixPath('/home/miltondp/projects/labs/greenelab/cm_gene_expression/base/results/pearson/ensemble-DELTA_035-KMEANS_N_INIT_50-K_RANGE_2_5_10_15_20_25_30_35_40_45_50_55_60_65_70_75_80_90_95_100_200.pkl')"
      ]
     },
     "metadata": {},
     "output_type": "display_data"
    }
   ],
   "source": [
    "input_filepath = Path(\n",
    "    ensemble_folder,\n",
    "    METHOD,\n",
    "    \"ensemble-DELTA_035-KMEANS_N_INIT_50-K_RANGE_2_5_10_15_20_25_30_35_40_45_50_55_60_65_70_75_80_90_95_100_200.pkl\",\n",
    ").resolve()\n",
    "display(input_filepath)"
   ]
  },
  {
   "cell_type": "code",
   "execution_count": 12,
   "id": "joined-practitioner",
   "metadata": {
    "execution": {
     "iopub.execute_input": "2021-03-03T04:19:45.276398Z",
     "iopub.status.busy": "2021-03-03T04:19:45.276034Z",
     "iopub.status.idle": "2021-03-03T04:19:45.284535Z",
     "shell.execute_reply": "2021-03-03T04:19:45.284154Z"
    },
    "papermill": {
     "duration": 0.023127,
     "end_time": "2021-03-03T04:19:45.284624",
     "exception": false,
     "start_time": "2021-03-03T04:19:45.261497",
     "status": "completed"
    },
    "tags": []
   },
   "outputs": [],
   "source": [
    "cm_results = pd.read_pickle(input_filepath)"
   ]
  },
  {
   "cell_type": "code",
   "execution_count": 13,
   "id": "different-testing",
   "metadata": {
    "execution": {
     "iopub.execute_input": "2021-03-03T04:19:45.312046Z",
     "iopub.status.busy": "2021-03-03T04:19:45.311682Z",
     "iopub.status.idle": "2021-03-03T04:19:45.319189Z",
     "shell.execute_reply": "2021-03-03T04:19:45.319486Z"
    },
    "papermill": {
     "duration": 0.022128,
     "end_time": "2021-03-03T04:19:45.319587",
     "exception": false,
     "start_time": "2021-03-03T04:19:45.297459",
     "status": "completed"
    },
    "tags": []
   },
   "outputs": [
    {
     "data": {
      "text/plain": [
       "(21, 5)"
      ]
     },
     "execution_count": 13,
     "metadata": {},
     "output_type": "execute_result"
    }
   ],
   "source": [
    "cm_results.shape"
   ]
  },
  {
   "cell_type": "code",
   "execution_count": 14,
   "id": "seasonal-bristol",
   "metadata": {
    "execution": {
     "iopub.execute_input": "2021-03-03T04:19:45.346978Z",
     "iopub.status.busy": "2021-03-03T04:19:45.346623Z",
     "iopub.status.idle": "2021-03-03T04:19:45.363324Z",
     "shell.execute_reply": "2021-03-03T04:19:45.362952Z"
    },
    "papermill": {
     "duration": 0.031161,
     "end_time": "2021-03-03T04:19:45.363411",
     "exception": false,
     "start_time": "2021-03-03T04:19:45.332250",
     "status": "completed"
    },
    "tags": []
   },
   "outputs": [
    {
     "data": {
      "text/html": [
       "<div>\n",
       "<style scoped>\n",
       "    .dataframe tbody tr th:only-of-type {\n",
       "        vertical-align: middle;\n",
       "    }\n",
       "\n",
       "    .dataframe tbody tr th {\n",
       "        vertical-align: top;\n",
       "    }\n",
       "\n",
       "    .dataframe thead th {\n",
       "        text-align: right;\n",
       "    }\n",
       "</style>\n",
       "<table border=\"1\" class=\"dataframe\">\n",
       "  <thead>\n",
       "    <tr style=\"text-align: right;\">\n",
       "      <th></th>\n",
       "      <th>clusterer_params</th>\n",
       "      <th>partition</th>\n",
       "      <th>n_clusters</th>\n",
       "      <th>delta</th>\n",
       "      <th>si_score</th>\n",
       "    </tr>\n",
       "    <tr>\n",
       "      <th>clusterer_id</th>\n",
       "      <th></th>\n",
       "      <th></th>\n",
       "      <th></th>\n",
       "      <th></th>\n",
       "      <th></th>\n",
       "    </tr>\n",
       "  </thead>\n",
       "  <tbody>\n",
       "    <tr>\n",
       "      <th>DeltaSpectralClustering #0</th>\n",
       "      <td>{'delta': 0.35}</td>\n",
       "      <td>[0.0, 0.0, 1.0, 0.0, 0.0, 1.0, 1.0, 1.0, 1.0, ...</td>\n",
       "      <td>2</td>\n",
       "      <td>0.35</td>\n",
       "      <td>0.342941</td>\n",
       "    </tr>\n",
       "    <tr>\n",
       "      <th>DeltaSpectralClustering #1</th>\n",
       "      <td>{'delta': 0.35}</td>\n",
       "      <td>[1.0, 1.0, 0.0, 1.0, 1.0, 0.0, 0.0, 0.0, 0.0, ...</td>\n",
       "      <td>5</td>\n",
       "      <td>0.35</td>\n",
       "      <td>0.282610</td>\n",
       "    </tr>\n",
       "    <tr>\n",
       "      <th>DeltaSpectralClustering #2</th>\n",
       "      <td>{'delta': 0.35}</td>\n",
       "      <td>[1.0, 1.0, 0.0, 1.0, 1.0, 0.0, 0.0, 0.0, 0.0, ...</td>\n",
       "      <td>10</td>\n",
       "      <td>0.35</td>\n",
       "      <td>0.293882</td>\n",
       "    </tr>\n",
       "    <tr>\n",
       "      <th>DeltaSpectralClustering #3</th>\n",
       "      <td>{'delta': 0.35}</td>\n",
       "      <td>[2.0, 2.0, 1.0, 2.0, 2.0, 1.0, 11.0, 1.0, 1.0,...</td>\n",
       "      <td>15</td>\n",
       "      <td>0.35</td>\n",
       "      <td>0.279952</td>\n",
       "    </tr>\n",
       "    <tr>\n",
       "      <th>DeltaSpectralClustering #4</th>\n",
       "      <td>{'delta': 0.35}</td>\n",
       "      <td>[9.0, 5.0, 0.0, 9.0, 9.0, 0.0, 0.0, 0.0, 0.0, ...</td>\n",
       "      <td>20</td>\n",
       "      <td>0.35</td>\n",
       "      <td>0.137538</td>\n",
       "    </tr>\n",
       "  </tbody>\n",
       "</table>\n",
       "</div>"
      ],
      "text/plain": [
       "                           clusterer_params  \\\n",
       "clusterer_id                                  \n",
       "DeltaSpectralClustering #0  {'delta': 0.35}   \n",
       "DeltaSpectralClustering #1  {'delta': 0.35}   \n",
       "DeltaSpectralClustering #2  {'delta': 0.35}   \n",
       "DeltaSpectralClustering #3  {'delta': 0.35}   \n",
       "DeltaSpectralClustering #4  {'delta': 0.35}   \n",
       "\n",
       "                                                                    partition  \\\n",
       "clusterer_id                                                                    \n",
       "DeltaSpectralClustering #0  [0.0, 0.0, 1.0, 0.0, 0.0, 1.0, 1.0, 1.0, 1.0, ...   \n",
       "DeltaSpectralClustering #1  [1.0, 1.0, 0.0, 1.0, 1.0, 0.0, 0.0, 0.0, 0.0, ...   \n",
       "DeltaSpectralClustering #2  [1.0, 1.0, 0.0, 1.0, 1.0, 0.0, 0.0, 0.0, 0.0, ...   \n",
       "DeltaSpectralClustering #3  [2.0, 2.0, 1.0, 2.0, 2.0, 1.0, 11.0, 1.0, 1.0,...   \n",
       "DeltaSpectralClustering #4  [9.0, 5.0, 0.0, 9.0, 9.0, 0.0, 0.0, 0.0, 0.0, ...   \n",
       "\n",
       "                            n_clusters delta  si_score  \n",
       "clusterer_id                                            \n",
       "DeltaSpectralClustering #0           2  0.35  0.342941  \n",
       "DeltaSpectralClustering #1           5  0.35  0.282610  \n",
       "DeltaSpectralClustering #2          10  0.35  0.293882  \n",
       "DeltaSpectralClustering #3          15  0.35  0.279952  \n",
       "DeltaSpectralClustering #4          20  0.35  0.137538  "
      ]
     },
     "execution_count": 14,
     "metadata": {},
     "output_type": "execute_result"
    }
   ],
   "source": [
    "cm_results.head()"
   ]
  },
  {
   "cell_type": "code",
   "execution_count": 15,
   "id": "victorian-africa",
   "metadata": {
    "execution": {
     "iopub.execute_input": "2021-03-03T04:19:45.392224Z",
     "iopub.status.busy": "2021-03-03T04:19:45.391858Z",
     "iopub.status.idle": "2021-03-03T04:19:45.400471Z",
     "shell.execute_reply": "2021-03-03T04:19:45.400112Z"
    },
    "papermill": {
     "duration": 0.023693,
     "end_time": "2021-03-03T04:19:45.400556",
     "exception": false,
     "start_time": "2021-03-03T04:19:45.376863",
     "status": "completed"
    },
    "tags": []
   },
   "outputs": [
    {
     "data": {
      "text/plain": [
       "array([  2,   5,  10,  15,  20,  25,  30,  35,  40,  45,  50,  55,  60,\n",
       "        65,  70,  75,  80,  90,  95, 100, 200])"
      ]
     },
     "execution_count": 15,
     "metadata": {},
     "output_type": "execute_result"
    }
   ],
   "source": [
    "cm_results[\"n_clusters\"].unique()"
   ]
  },
  {
   "cell_type": "markdown",
   "id": "varied-resistance",
   "metadata": {
    "papermill": {
     "duration": 0.012801,
     "end_time": "2021-03-03T04:19:45.426620",
     "exception": false,
     "start_time": "2021-03-03T04:19:45.413819",
     "status": "completed"
    },
    "tags": []
   },
   "source": [
    "# clusterProfiler"
   ]
  },
  {
   "cell_type": "code",
   "execution_count": 16,
   "id": "unknown-bottom",
   "metadata": {
    "execution": {
     "iopub.execute_input": "2021-03-03T04:19:45.455099Z",
     "iopub.status.busy": "2021-03-03T04:19:45.454715Z",
     "iopub.status.idle": "2021-03-03T04:19:45.681456Z",
     "shell.execute_reply": "2021-03-03T04:19:45.682245Z"
    },
    "papermill": {
     "duration": 0.243184,
     "end_time": "2021-03-03T04:19:45.682514",
     "exception": false,
     "start_time": "2021-03-03T04:19:45.439330",
     "status": "completed"
    },
    "tags": []
   },
   "outputs": [],
   "source": [
    "from rpy2.robjects.packages import importr\n",
    "import rpy2.robjects as robjects\n",
    "from rpy2.robjects import pandas2ri\n",
    "\n",
    "pandas2ri.activate()"
   ]
  },
  {
   "cell_type": "code",
   "execution_count": 17,
   "id": "adjacent-dinner",
   "metadata": {
    "execution": {
     "iopub.execute_input": "2021-03-03T04:19:45.720615Z",
     "iopub.status.busy": "2021-03-03T04:19:45.720225Z",
     "iopub.status.idle": "2021-03-03T04:19:49.390017Z",
     "shell.execute_reply": "2021-03-03T04:19:49.389606Z"
    },
    "papermill": {
     "duration": 3.687223,
     "end_time": "2021-03-03T04:19:49.390105",
     "exception": false,
     "start_time": "2021-03-03T04:19:45.702882",
     "status": "completed"
    },
    "tags": []
   },
   "outputs": [],
   "source": [
    "rprint = robjects.globalenv.find(\"print\")\n",
    "# dose = importr('DOSE')\n",
    "clusterProfiler = importr(\"clusterProfiler\")\n",
    "reactomePA = importr(\"ReactomePA\")\n",
    "# enrichplot = importr(\"enrichplot\")\n",
    "grdevices = importr(\"grDevices\")"
   ]
  },
  {
   "cell_type": "markdown",
   "id": "introductory-niagara",
   "metadata": {
    "papermill": {
     "duration": 0.01265,
     "end_time": "2021-03-03T04:19:49.416648",
     "exception": false,
     "start_time": "2021-03-03T04:19:49.403998",
     "status": "completed"
    },
    "tags": []
   },
   "source": [
    "## General variables"
   ]
  },
  {
   "cell_type": "code",
   "execution_count": 18,
   "id": "nasty-contract",
   "metadata": {
    "execution": {
     "iopub.execute_input": "2021-03-03T04:19:49.445141Z",
     "iopub.status.busy": "2021-03-03T04:19:49.444788Z",
     "iopub.status.idle": "2021-03-03T04:19:49.453316Z",
     "shell.execute_reply": "2021-03-03T04:19:49.452957Z"
    },
    "papermill": {
     "duration": 0.023931,
     "end_time": "2021-03-03T04:19:49.453399",
     "exception": false,
     "start_time": "2021-03-03T04:19:49.429468",
     "status": "completed"
    },
    "tags": []
   },
   "outputs": [],
   "source": [
    "genes_universe = [g.split(\".\")[0] for g in sim_matrix.index]"
   ]
  },
  {
   "cell_type": "code",
   "execution_count": 19,
   "id": "maritime-database",
   "metadata": {
    "execution": {
     "iopub.execute_input": "2021-03-03T04:19:49.482224Z",
     "iopub.status.busy": "2021-03-03T04:19:49.481868Z",
     "iopub.status.idle": "2021-03-03T04:19:49.491794Z",
     "shell.execute_reply": "2021-03-03T04:19:49.491401Z"
    },
    "papermill": {
     "duration": 0.025065,
     "end_time": "2021-03-03T04:19:49.491878",
     "exception": false,
     "start_time": "2021-03-03T04:19:49.466813",
     "status": "completed"
    },
    "tags": []
   },
   "outputs": [
    {
     "data": {
      "text/plain": [
       "5000"
      ]
     },
     "execution_count": 19,
     "metadata": {},
     "output_type": "execute_result"
    }
   ],
   "source": [
    "len(genes_universe)"
   ]
  },
  {
   "cell_type": "code",
   "execution_count": 20,
   "id": "abstract-footwear",
   "metadata": {
    "execution": {
     "iopub.execute_input": "2021-03-03T04:19:49.521382Z",
     "iopub.status.busy": "2021-03-03T04:19:49.521016Z",
     "iopub.status.idle": "2021-03-03T04:19:50.073156Z",
     "shell.execute_reply": "2021-03-03T04:19:50.072794Z"
    },
    "papermill": {
     "duration": 0.567835,
     "end_time": "2021-03-03T04:19:50.073240",
     "exception": false,
     "start_time": "2021-03-03T04:19:49.505405",
     "status": "completed"
    },
    "tags": []
   },
   "outputs": [
    {
     "name": "stderr",
     "output_type": "stream",
     "text": [
      "R[write to console]: Loading required package: org.Hs.eg.db\n",
      "\n",
      "R[write to console]: Loading required package: AnnotationDbi\n",
      "\n",
      "R[write to console]: Loading required package: stats4\n",
      "\n",
      "R[write to console]: Loading required package: BiocGenerics\n",
      "\n",
      "R[write to console]: Loading required package: parallel\n",
      "\n",
      "R[write to console]: \n",
      "Attaching package: ‘BiocGenerics’\n",
      "\n",
      "\n",
      "R[write to console]: The following objects are masked from ‘package:parallel’:\n",
      "\n",
      "    clusterApply, clusterApplyLB, clusterCall, clusterEvalQ,\n",
      "    clusterExport, clusterMap, parApply, parCapply, parLapply,\n",
      "    parLapplyLB, parRapply, parSapply, parSapplyLB\n",
      "\n",
      "\n",
      "R[write to console]: The following objects are masked from ‘package:stats’:\n",
      "\n",
      "    IQR, mad, sd, var, xtabs\n",
      "\n",
      "\n",
      "R[write to console]: The following objects are masked from ‘package:base’:\n",
      "\n",
      "    anyDuplicated, append, as.data.frame, basename, cbind, colnames,\n",
      "    dirname, do.call, duplicated, eval, evalq, Filter, Find, get, grep,\n",
      "    grepl, intersect, is.unsorted, lapply, Map, mapply, match, mget,\n",
      "    order, paste, pmax, pmax.int, pmin, pmin.int, Position, rank,\n",
      "    rbind, Reduce, rownames, sapply, setdiff, sort, table, tapply,\n",
      "    union, unique, unsplit, which, which.max, which.min\n",
      "\n",
      "\n",
      "R[write to console]: Loading required package: Biobase\n",
      "\n",
      "R[write to console]: Welcome to Bioconductor\n",
      "\n",
      "    Vignettes contain introductory material; view with\n",
      "    'browseVignettes()'. To cite Bioconductor, see\n",
      "    'citation(\"Biobase\")', and for packages 'citation(\"pkgname\")'.\n",
      "\n",
      "\n",
      "R[write to console]: Loading required package: IRanges\n",
      "\n",
      "R[write to console]: Loading required package: S4Vectors\n",
      "\n",
      "R[write to console]: \n",
      "Attaching package: ‘S4Vectors’\n",
      "\n",
      "\n",
      "R[write to console]: The following object is masked from ‘package:base’:\n",
      "\n",
      "    expand.grid\n",
      "\n",
      "\n",
      "R[write to console]: \n",
      "\n",
      "R[write to console]: 'select()' returned 1:many mapping between keys and columns\n",
      "\n"
     ]
    }
   ],
   "source": [
    "# Convert from ENSEMBL TO ENTREZID\n",
    "genes_universe = (\n",
    "    clusterProfiler.bitr(\n",
    "        genes_universe, fromType=\"ENSEMBL\", toType=\"ENTREZID\", OrgDb=\"org.Hs.eg.db\"\n",
    "    )\n",
    "    .drop_duplicates(subset=[\"ENSEMBL\"])[\"ENTREZID\"]\n",
    "    .tolist()\n",
    ")"
   ]
  },
  {
   "cell_type": "markdown",
   "id": "steady-wonder",
   "metadata": {
    "papermill": {
     "duration": 0.015959,
     "end_time": "2021-03-03T04:19:50.105452",
     "exception": false,
     "start_time": "2021-03-03T04:19:50.089493",
     "status": "completed"
    },
    "tags": []
   },
   "source": [
    "## compareClusters"
   ]
  },
  {
   "cell_type": "code",
   "execution_count": 21,
   "id": "united-midnight",
   "metadata": {
    "execution": {
     "iopub.execute_input": "2021-03-03T04:19:50.139942Z",
     "iopub.status.busy": "2021-03-03T04:19:50.139574Z",
     "iopub.status.idle": "2021-03-03T04:19:50.146522Z",
     "shell.execute_reply": "2021-03-03T04:19:50.146799Z"
    },
    "papermill": {
     "duration": 0.025529,
     "end_time": "2021-03-03T04:19:50.146908",
     "exception": false,
     "start_time": "2021-03-03T04:19:50.121379",
     "status": "completed"
    },
    "tags": []
   },
   "outputs": [],
   "source": [
    "import warnings"
   ]
  },
  {
   "cell_type": "code",
   "execution_count": 22,
   "id": "sustainable-potential",
   "metadata": {
    "execution": {
     "iopub.execute_input": "2021-03-03T04:19:50.184563Z",
     "iopub.status.busy": "2021-03-03T04:19:50.184183Z",
     "iopub.status.idle": "2021-03-03T04:19:50.192288Z",
     "shell.execute_reply": "2021-03-03T04:19:50.191916Z"
    },
    "papermill": {
     "duration": 0.028569,
     "end_time": "2021-03-03T04:19:50.192373",
     "exception": false,
     "start_time": "2021-03-03T04:19:50.163804",
     "status": "completed"
    },
    "tags": []
   },
   "outputs": [],
   "source": [
    "def run_enrich(filename_prefix, partition):\n",
    "    genes_per_cluster = {}\n",
    "    for c in pd.Series(partition).value_counts().index:\n",
    "        genes_per_cluster[c] = [\n",
    "            g.split(\".\")[0] for g in sim_matrix.index[partition == c]\n",
    "        ]\n",
    "\n",
    "    #     genes_per_cluster_set = {\n",
    "    #         f\"C{k:n}\": list(set(v)) for k, v in genes_per_cluster.items()\n",
    "    #     }\n",
    "    #     gene_clusters = robjects.ListVector(genes_per_cluster_set)\n",
    "\n",
    "    try:\n",
    "        genes_per_cluster_set = {\n",
    "            f\"C{k:n}\": clusterProfiler.bitr(\n",
    "                v, fromType=\"ENSEMBL\", toType=\"ENTREZID\", OrgDb=\"org.Hs.eg.db\"\n",
    "            )\n",
    "            .drop_duplicates(subset=[\"ENSEMBL\"])[\"ENTREZID\"]\n",
    "            .tolist()\n",
    "            for k, v in genes_per_cluster.items()\n",
    "        }\n",
    "        gene_clusters = robjects.ListVector(genes_per_cluster_set)\n",
    "    except:\n",
    "        warnings.warn(f\"Partitions {filename_prefix} failed.\")\n",
    "        return\n",
    "\n",
    "    ck = clusterProfiler.compareCluster(\n",
    "        geneClusters=gene_clusters,\n",
    "        universe=genes_universe,\n",
    "        organism=\"human\",\n",
    "        fun=\"enrichPathway\",\n",
    "        pAdjustMethod=\"fdr\",\n",
    "        pvalueCutoff=0.05,\n",
    "        readable=True,\n",
    "    )\n",
    "\n",
    "    df = ck.slots[\"compareClusterResult\"]\n",
    "    display(f\"    Full results size: {df.shape}\")\n",
    "    df.sort_values(\"p.adjust\").to_pickle(\n",
    "        Path(\n",
    "            OUTPUT_DIR,\n",
    "            f\"{filename_prefix}{METHOD}-enrichPathway-full.pkl\",\n",
    "        )\n",
    "    )"
   ]
  },
  {
   "cell_type": "code",
   "execution_count": 23,
   "id": "consistent-turning",
   "metadata": {
    "execution": {
     "iopub.execute_input": "2021-03-03T04:19:50.228888Z",
     "iopub.status.busy": "2021-03-03T04:19:50.228473Z",
     "iopub.status.idle": "2021-03-03T04:28:19.749862Z",
     "shell.execute_reply": "2021-03-03T04:28:19.745107Z"
    },
    "papermill": {
     "duration": 509.540483,
     "end_time": "2021-03-03T04:28:19.749960",
     "exception": false,
     "start_time": "2021-03-03T04:19:50.209477",
     "status": "completed"
    },
    "tags": []
   },
   "outputs": [
    {
     "data": {
      "text/plain": [
       "'Partition with n_clusters=2'"
      ]
     },
     "metadata": {},
     "output_type": "display_data"
    },
    {
     "name": "stderr",
     "output_type": "stream",
     "text": [
      "R[write to console]: 'select()' returned 1:many mapping between keys and columns\n",
      "\n",
      "R[write to console]: 'select()' returned 1:many mapping between keys and columns\n",
      "\n"
     ]
    },
    {
     "data": {
      "text/plain": [
       "'    Full results size: (537, 10)'"
      ]
     },
     "metadata": {},
     "output_type": "display_data"
    },
    {
     "data": {
      "text/plain": [
       "'Partition with n_clusters=5'"
      ]
     },
     "metadata": {},
     "output_type": "display_data"
    },
    {
     "name": "stderr",
     "output_type": "stream",
     "text": [
      "R[write to console]: 'select()' returned 1:many mapping between keys and columns\n",
      "\n",
      "R[write to console]: 'select()' returned 1:1 mapping between keys and columns\n",
      "\n",
      "R[write to console]: 'select()' returned 1:1 mapping between keys and columns\n",
      "\n",
      "R[write to console]: 'select()' returned 1:1 mapping between keys and columns\n",
      "\n",
      "R[write to console]: 'select()' returned 1:1 mapping between keys and columns\n",
      "\n"
     ]
    },
    {
     "data": {
      "text/plain": [
       "'    Full results size: (576, 10)'"
      ]
     },
     "metadata": {},
     "output_type": "display_data"
    },
    {
     "data": {
      "text/plain": [
       "'Partition with n_clusters=10'"
      ]
     },
     "metadata": {},
     "output_type": "display_data"
    },
    {
     "name": "stderr",
     "output_type": "stream",
     "text": [
      "R[write to console]: 'select()' returned 1:many mapping between keys and columns\n",
      "\n",
      "R[write to console]: 'select()' returned 1:many mapping between keys and columns\n",
      "\n",
      "R[write to console]: 'select()' returned 1:1 mapping between keys and columns\n",
      "\n",
      "R[write to console]: 'select()' returned 1:1 mapping between keys and columns\n",
      "\n",
      "R[write to console]: 'select()' returned 1:1 mapping between keys and columns\n",
      "\n",
      "R[write to console]: 'select()' returned 1:1 mapping between keys and columns\n",
      "\n",
      "R[write to console]: 'select()' returned 1:1 mapping between keys and columns\n",
      "\n",
      "R[write to console]: 'select()' returned 1:1 mapping between keys and columns\n",
      "\n",
      "R[write to console]: 'select()' returned 1:1 mapping between keys and columns\n",
      "\n",
      "R[write to console]: 'select()' returned 1:1 mapping between keys and columns\n",
      "\n"
     ]
    },
    {
     "data": {
      "text/plain": [
       "'    Full results size: (615, 10)'"
      ]
     },
     "metadata": {},
     "output_type": "display_data"
    },
    {
     "data": {
      "text/plain": [
       "'Partition with n_clusters=15'"
      ]
     },
     "metadata": {},
     "output_type": "display_data"
    },
    {
     "name": "stderr",
     "output_type": "stream",
     "text": [
      "R[write to console]: 'select()' returned 1:many mapping between keys and columns\n",
      "\n",
      "R[write to console]: 'select()' returned 1:many mapping between keys and columns\n",
      "\n",
      "R[write to console]: 'select()' returned 1:many mapping between keys and columns\n",
      "\n",
      "R[write to console]: 'select()' returned 1:1 mapping between keys and columns\n",
      "\n",
      "R[write to console]: 'select()' returned 1:1 mapping between keys and columns\n",
      "\n",
      "R[write to console]: 'select()' returned 1:1 mapping between keys and columns\n",
      "\n",
      "R[write to console]: 'select()' returned 1:1 mapping between keys and columns\n",
      "\n",
      "R[write to console]: 'select()' returned 1:1 mapping between keys and columns\n",
      "\n",
      "R[write to console]: 'select()' returned 1:1 mapping between keys and columns\n",
      "\n",
      "R[write to console]: 'select()' returned 1:1 mapping between keys and columns\n",
      "\n",
      "R[write to console]: 'select()' returned 1:1 mapping between keys and columns\n",
      "\n",
      "R[write to console]: 'select()' returned 1:1 mapping between keys and columns\n",
      "\n",
      "R[write to console]: 'select()' returned 1:1 mapping between keys and columns\n",
      "\n",
      "R[write to console]: 'select()' returned 1:1 mapping between keys and columns\n",
      "\n",
      "R[write to console]: 'select()' returned 1:1 mapping between keys and columns\n",
      "\n"
     ]
    },
    {
     "data": {
      "text/plain": [
       "'    Full results size: (717, 10)'"
      ]
     },
     "metadata": {},
     "output_type": "display_data"
    },
    {
     "data": {
      "text/plain": [
       "'Partition with n_clusters=20'"
      ]
     },
     "metadata": {},
     "output_type": "display_data"
    },
    {
     "name": "stderr",
     "output_type": "stream",
     "text": [
      "R[write to console]: 'select()' returned 1:many mapping between keys and columns\n",
      "\n",
      "R[write to console]: 'select()' returned 1:many mapping between keys and columns\n",
      "\n",
      "R[write to console]: 'select()' returned 1:many mapping between keys and columns\n",
      "\n",
      "R[write to console]: 'select()' returned 1:many mapping between keys and columns\n",
      "\n",
      "R[write to console]: 'select()' returned 1:1 mapping between keys and columns\n",
      "\n",
      "R[write to console]: 'select()' returned 1:1 mapping between keys and columns\n",
      "\n",
      "R[write to console]: 'select()' returned 1:1 mapping between keys and columns\n",
      "\n",
      "R[write to console]: 'select()' returned 1:1 mapping between keys and columns\n",
      "\n",
      "R[write to console]: 'select()' returned 1:1 mapping between keys and columns\n",
      "\n",
      "R[write to console]: 'select()' returned 1:1 mapping between keys and columns\n",
      "\n",
      "R[write to console]: 'select()' returned 1:1 mapping between keys and columns\n",
      "\n",
      "R[write to console]: 'select()' returned 1:1 mapping between keys and columns\n",
      "\n",
      "R[write to console]: 'select()' returned 1:1 mapping between keys and columns\n",
      "\n",
      "R[write to console]: 'select()' returned 1:1 mapping between keys and columns\n",
      "\n",
      "R[write to console]: 'select()' returned 1:1 mapping between keys and columns\n",
      "\n",
      "R[write to console]: 'select()' returned 1:1 mapping between keys and columns\n",
      "\n",
      "R[write to console]: 'select()' returned 1:1 mapping between keys and columns\n",
      "\n",
      "R[write to console]: 'select()' returned 1:1 mapping between keys and columns\n",
      "\n",
      "R[write to console]: 'select()' returned 1:1 mapping between keys and columns\n",
      "\n",
      "R[write to console]: 'select()' returned 1:1 mapping between keys and columns\n",
      "\n"
     ]
    },
    {
     "data": {
      "text/plain": [
       "'    Full results size: (909, 10)'"
      ]
     },
     "metadata": {},
     "output_type": "display_data"
    },
    {
     "data": {
      "text/plain": [
       "'Partition with n_clusters=25'"
      ]
     },
     "metadata": {},
     "output_type": "display_data"
    },
    {
     "name": "stderr",
     "output_type": "stream",
     "text": [
      "R[write to console]: 'select()' returned 1:many mapping between keys and columns\n",
      "\n",
      "R[write to console]: 'select()' returned 1:many mapping between keys and columns\n",
      "\n",
      "R[write to console]: 'select()' returned 1:many mapping between keys and columns\n",
      "\n",
      "R[write to console]: 'select()' returned 1:1 mapping between keys and columns\n",
      "\n",
      "R[write to console]: 'select()' returned 1:1 mapping between keys and columns\n",
      "\n",
      "R[write to console]: 'select()' returned 1:1 mapping between keys and columns\n",
      "\n",
      "R[write to console]: 'select()' returned 1:1 mapping between keys and columns\n",
      "\n",
      "R[write to console]: 'select()' returned 1:1 mapping between keys and columns\n",
      "\n",
      "R[write to console]: 'select()' returned 1:1 mapping between keys and columns\n",
      "\n",
      "R[write to console]: 'select()' returned 1:1 mapping between keys and columns\n",
      "\n",
      "R[write to console]: 'select()' returned 1:1 mapping between keys and columns\n",
      "\n",
      "R[write to console]: 'select()' returned 1:1 mapping between keys and columns\n",
      "\n",
      "R[write to console]: 'select()' returned 1:1 mapping between keys and columns\n",
      "\n",
      "R[write to console]: 'select()' returned 1:1 mapping between keys and columns\n",
      "\n",
      "R[write to console]: 'select()' returned 1:1 mapping between keys and columns\n",
      "\n",
      "R[write to console]: 'select()' returned 1:1 mapping between keys and columns\n",
      "\n",
      "R[write to console]: 'select()' returned 1:1 mapping between keys and columns\n",
      "\n",
      "R[write to console]: 'select()' returned 1:1 mapping between keys and columns\n",
      "\n",
      "R[write to console]: 'select()' returned 1:1 mapping between keys and columns\n",
      "\n",
      "R[write to console]: 'select()' returned 1:1 mapping between keys and columns\n",
      "\n",
      "R[write to console]: 'select()' returned 1:1 mapping between keys and columns\n",
      "\n",
      "R[write to console]: 'select()' returned 1:1 mapping between keys and columns\n",
      "\n",
      "R[write to console]: 'select()' returned 1:1 mapping between keys and columns\n",
      "\n",
      "R[write to console]: 'select()' returned 1:1 mapping between keys and columns\n",
      "\n",
      "R[write to console]: 'select()' returned 1:1 mapping between keys and columns\n",
      "\n"
     ]
    },
    {
     "data": {
      "text/plain": [
       "'    Full results size: (883, 10)'"
      ]
     },
     "metadata": {},
     "output_type": "display_data"
    },
    {
     "data": {
      "text/plain": [
       "'Partition with n_clusters=30'"
      ]
     },
     "metadata": {},
     "output_type": "display_data"
    },
    {
     "name": "stderr",
     "output_type": "stream",
     "text": [
      "R[write to console]: 'select()' returned 1:many mapping between keys and columns\n",
      "\n",
      "R[write to console]: 'select()' returned 1:many mapping between keys and columns\n",
      "\n",
      "R[write to console]: 'select()' returned 1:many mapping between keys and columns\n",
      "\n",
      "R[write to console]: 'select()' returned 1:1 mapping between keys and columns\n",
      "\n",
      "R[write to console]: 'select()' returned 1:1 mapping between keys and columns\n",
      "\n",
      "R[write to console]: 'select()' returned 1:1 mapping between keys and columns\n",
      "\n",
      "R[write to console]: 'select()' returned 1:1 mapping between keys and columns\n",
      "\n",
      "R[write to console]: 'select()' returned 1:1 mapping between keys and columns\n",
      "\n",
      "R[write to console]: 'select()' returned 1:1 mapping between keys and columns\n",
      "\n",
      "R[write to console]: 'select()' returned 1:1 mapping between keys and columns\n",
      "\n",
      "R[write to console]: 'select()' returned 1:1 mapping between keys and columns\n",
      "\n",
      "R[write to console]: 'select()' returned 1:1 mapping between keys and columns\n",
      "\n",
      "R[write to console]: 'select()' returned 1:1 mapping between keys and columns\n",
      "\n",
      "R[write to console]: 'select()' returned 1:1 mapping between keys and columns\n",
      "\n",
      "R[write to console]: 'select()' returned 1:1 mapping between keys and columns\n",
      "\n",
      "R[write to console]: 'select()' returned 1:1 mapping between keys and columns\n",
      "\n",
      "R[write to console]: 'select()' returned 1:1 mapping between keys and columns\n",
      "\n",
      "R[write to console]: 'select()' returned 1:1 mapping between keys and columns\n",
      "\n",
      "R[write to console]: 'select()' returned 1:1 mapping between keys and columns\n",
      "\n",
      "R[write to console]: 'select()' returned 1:1 mapping between keys and columns\n",
      "\n",
      "R[write to console]: Error in .testForValidKeys(x, keys, keytype, fks) : \n",
      "  None of the keys entered are valid keys for 'ENSEMBL'. Please use the keys method to see a listing of valid arguments.\n",
      "\n",
      "R[write to console]: In addition: \n",
      "R[write to console]: There were 38 warnings (use warnings() to see them)\n",
      "R[write to console]: \n",
      "\n",
      "<ipython-input-22-7a1c97894055>:22: UserWarning: Partitions k_30- failed.\n",
      "  warnings.warn(f\"Partitions {filename_prefix} failed.\")\n"
     ]
    },
    {
     "data": {
      "text/plain": [
       "'Partition with n_clusters=35'"
      ]
     },
     "metadata": {},
     "output_type": "display_data"
    },
    {
     "name": "stderr",
     "output_type": "stream",
     "text": [
      "R[write to console]: 'select()' returned 1:many mapping between keys and columns\n",
      "\n",
      "R[write to console]: 'select()' returned 1:many mapping between keys and columns\n",
      "\n",
      "R[write to console]: 'select()' returned 1:many mapping between keys and columns\n",
      "\n",
      "R[write to console]: Error in .testForValidKeys(x, keys, keytype, fks) : \n",
      "  None of the keys entered are valid keys for 'ENSEMBL'. Please use the keys method to see a listing of valid arguments.\n",
      "\n",
      "R[write to console]: In addition: \n",
      "R[write to console]: Warning messages:\n",
      "\n",
      "R[write to console]: 1: \n",
      "R[write to console]: In (function (geneID, fromType, toType, OrgDb, drop = TRUE)  :\n",
      "R[write to console]: \n",
      " \n",
      "R[write to console]:  3.78% of input gene IDs are fail to map...\n",
      "\n",
      "R[write to console]: 2: \n",
      "R[write to console]: In (function (geneID, fromType, toType, OrgDb, drop = TRUE)  :\n",
      "R[write to console]: \n",
      " \n",
      "R[write to console]:  18.6% of input gene IDs are fail to map...\n",
      "\n",
      "R[write to console]: 3: \n",
      "R[write to console]: In (function (geneID, fromType, toType, OrgDb, drop = TRUE)  :\n",
      "R[write to console]: \n",
      " \n",
      "R[write to console]:  11.72% of input gene IDs are fail to map...\n",
      "\n",
      "<ipython-input-22-7a1c97894055>:22: UserWarning: Partitions k_35- failed.\n",
      "  warnings.warn(f\"Partitions {filename_prefix} failed.\")\n"
     ]
    },
    {
     "data": {
      "text/plain": [
       "'Partition with n_clusters=40'"
      ]
     },
     "metadata": {},
     "output_type": "display_data"
    },
    {
     "name": "stderr",
     "output_type": "stream",
     "text": [
      "R[write to console]: 'select()' returned 1:many mapping between keys and columns\n",
      "\n",
      "R[write to console]: 'select()' returned 1:many mapping between keys and columns\n",
      "\n",
      "R[write to console]: 'select()' returned 1:1 mapping between keys and columns\n",
      "\n",
      "R[write to console]: 'select()' returned 1:1 mapping between keys and columns\n",
      "\n",
      "R[write to console]: Error in .testForValidKeys(x, keys, keytype, fks) : \n",
      "  None of the keys entered are valid keys for 'ENSEMBL'. Please use the keys method to see a listing of valid arguments.\n",
      "\n",
      "R[write to console]: In addition: \n",
      "R[write to console]: Warning messages:\n",
      "\n",
      "R[write to console]: 1: \n",
      "R[write to console]: In (function (geneID, fromType, toType, OrgDb, drop = TRUE)  :\n",
      "R[write to console]: \n",
      " \n",
      "R[write to console]:  3.7% of input gene IDs are fail to map...\n",
      "\n",
      "R[write to console]: 2: \n",
      "R[write to console]: In (function (geneID, fromType, toType, OrgDb, drop = TRUE)  :\n",
      "R[write to console]: \n",
      " \n",
      "R[write to console]:  20.93% of input gene IDs are fail to map...\n",
      "\n",
      "R[write to console]: 3: \n",
      "R[write to console]: In (function (geneID, fromType, toType, OrgDb, drop = TRUE)  :\n",
      "R[write to console]: \n",
      " \n",
      "R[write to console]:  13.01% of input gene IDs are fail to map...\n",
      "\n",
      "R[write to console]: 4: \n",
      "R[write to console]: In (function (geneID, fromType, toType, OrgDb, drop = TRUE)  :\n",
      "R[write to console]: \n",
      " \n",
      "R[write to console]:  1.52% of input gene IDs are fail to map...\n",
      "\n",
      "<ipython-input-22-7a1c97894055>:22: UserWarning: Partitions k_40- failed.\n",
      "  warnings.warn(f\"Partitions {filename_prefix} failed.\")\n"
     ]
    },
    {
     "data": {
      "text/plain": [
       "'Partition with n_clusters=45'"
      ]
     },
     "metadata": {},
     "output_type": "display_data"
    },
    {
     "name": "stderr",
     "output_type": "stream",
     "text": [
      "R[write to console]: 'select()' returned 1:many mapping between keys and columns\n",
      "\n",
      "R[write to console]: 'select()' returned 1:many mapping between keys and columns\n",
      "\n",
      "R[write to console]: 'select()' returned 1:1 mapping between keys and columns\n",
      "\n",
      "R[write to console]: 'select()' returned 1:1 mapping between keys and columns\n",
      "\n",
      "R[write to console]: 'select()' returned 1:1 mapping between keys and columns\n",
      "\n",
      "R[write to console]: Error in .testForValidKeys(x, keys, keytype, fks) : \n",
      "  None of the keys entered are valid keys for 'ENSEMBL'. Please use the keys method to see a listing of valid arguments.\n",
      "\n",
      "R[write to console]: In addition: \n",
      "R[write to console]: Warning messages:\n",
      "\n",
      "R[write to console]: 1: \n",
      "R[write to console]: In (function (geneID, fromType, toType, OrgDb, drop = TRUE)  :\n",
      "R[write to console]: \n",
      " \n",
      "R[write to console]:  4.19% of input gene IDs are fail to map...\n",
      "\n",
      "R[write to console]: 2: \n",
      "R[write to console]: In (function (geneID, fromType, toType, OrgDb, drop = TRUE)  :\n",
      "R[write to console]: \n",
      " \n",
      "R[write to console]:  20.78% of input gene IDs are fail to map...\n",
      "\n",
      "R[write to console]: 3: \n",
      "R[write to console]: In (function (geneID, fromType, toType, OrgDb, drop = TRUE)  :\n",
      "R[write to console]: \n",
      " \n",
      "R[write to console]:  13.64% of input gene IDs are fail to map...\n",
      "\n",
      "R[write to console]: 4: \n",
      "R[write to console]: In (function (geneID, fromType, toType, OrgDb, drop = TRUE)  :\n",
      "R[write to console]: \n",
      " \n",
      "R[write to console]:  6.32% of input gene IDs are fail to map...\n",
      "\n",
      "<ipython-input-22-7a1c97894055>:22: UserWarning: Partitions k_45- failed.\n",
      "  warnings.warn(f\"Partitions {filename_prefix} failed.\")\n"
     ]
    },
    {
     "data": {
      "text/plain": [
       "'Partition with n_clusters=50'"
      ]
     },
     "metadata": {},
     "output_type": "display_data"
    },
    {
     "name": "stderr",
     "output_type": "stream",
     "text": [
      "R[write to console]: 'select()' returned 1:many mapping between keys and columns\n",
      "\n",
      "R[write to console]: 'select()' returned 1:1 mapping between keys and columns\n",
      "\n",
      "R[write to console]: 'select()' returned 1:1 mapping between keys and columns\n",
      "\n",
      "R[write to console]: 'select()' returned 1:1 mapping between keys and columns\n",
      "\n",
      "R[write to console]: Error in .testForValidKeys(x, keys, keytype, fks) : \n",
      "  None of the keys entered are valid keys for 'ENSEMBL'. Please use the keys method to see a listing of valid arguments.\n",
      "\n",
      "R[write to console]: In addition: \n",
      "R[write to console]: Warning messages:\n",
      "\n",
      "R[write to console]: 1: \n",
      "R[write to console]: In (function (geneID, fromType, toType, OrgDb, drop = TRUE)  :\n",
      "R[write to console]: \n",
      " \n",
      "R[write to console]:  3.98% of input gene IDs are fail to map...\n",
      "\n",
      "R[write to console]: 2: \n",
      "R[write to console]: In (function (geneID, fromType, toType, OrgDb, drop = TRUE)  :\n",
      "R[write to console]: \n",
      " \n",
      "R[write to console]:  11.95% of input gene IDs are fail to map...\n",
      "\n",
      "R[write to console]: 3: \n",
      "R[write to console]: In (function (geneID, fromType, toType, OrgDb, drop = TRUE)  :\n",
      "R[write to console]: \n",
      " \n",
      "R[write to console]:  14.29% of input gene IDs are fail to map...\n",
      "\n",
      "R[write to console]: 4: \n",
      "R[write to console]: In (function (geneID, fromType, toType, OrgDb, drop = TRUE)  :\n",
      "R[write to console]: \n",
      " \n",
      "R[write to console]:  65.91% of input gene IDs are fail to map...\n",
      "\n",
      "<ipython-input-22-7a1c97894055>:22: UserWarning: Partitions k_50- failed.\n",
      "  warnings.warn(f\"Partitions {filename_prefix} failed.\")\n"
     ]
    },
    {
     "data": {
      "text/plain": [
       "'Partition with n_clusters=55'"
      ]
     },
     "metadata": {},
     "output_type": "display_data"
    },
    {
     "name": "stderr",
     "output_type": "stream",
     "text": [
      "R[write to console]: 'select()' returned 1:many mapping between keys and columns\n",
      "\n",
      "R[write to console]: 'select()' returned 1:many mapping between keys and columns\n",
      "\n",
      "R[write to console]: 'select()' returned 1:1 mapping between keys and columns\n",
      "\n",
      "R[write to console]: 'select()' returned 1:1 mapping between keys and columns\n",
      "\n",
      "R[write to console]: Error in .testForValidKeys(x, keys, keytype, fks) : \n",
      "  None of the keys entered are valid keys for 'ENSEMBL'. Please use the keys method to see a listing of valid arguments.\n",
      "\n",
      "R[write to console]: In addition: \n",
      "R[write to console]: Warning messages:\n",
      "\n",
      "R[write to console]: 1: \n",
      "R[write to console]: In (function (geneID, fromType, toType, OrgDb, drop = TRUE)  :\n",
      "R[write to console]: \n",
      " \n",
      "R[write to console]:  3.72% of input gene IDs are fail to map...\n",
      "\n",
      "R[write to console]: 2: \n",
      "R[write to console]: In (function (geneID, fromType, toType, OrgDb, drop = TRUE)  :\n",
      "R[write to console]: \n",
      " \n",
      "R[write to console]:  15.51% of input gene IDs are fail to map...\n",
      "\n",
      "R[write to console]: 3: \n",
      "R[write to console]: In (function (geneID, fromType, toType, OrgDb, drop = TRUE)  :\n",
      "R[write to console]: \n",
      " \n",
      "R[write to console]:  14.39% of input gene IDs are fail to map...\n",
      "\n",
      "R[write to console]: 4: \n",
      "R[write to console]: In (function (geneID, fromType, toType, OrgDb, drop = TRUE)  :\n",
      "R[write to console]: \n",
      " \n",
      "R[write to console]:  14.14% of input gene IDs are fail to map...\n",
      "\n",
      "<ipython-input-22-7a1c97894055>:22: UserWarning: Partitions k_55- failed.\n",
      "  warnings.warn(f\"Partitions {filename_prefix} failed.\")\n"
     ]
    },
    {
     "data": {
      "text/plain": [
       "'Partition with n_clusters=60'"
      ]
     },
     "metadata": {},
     "output_type": "display_data"
    },
    {
     "name": "stderr",
     "output_type": "stream",
     "text": [
      "R[write to console]: 'select()' returned 1:many mapping between keys and columns\n",
      "\n",
      "R[write to console]: 'select()' returned 1:many mapping between keys and columns\n",
      "\n",
      "R[write to console]: 'select()' returned 1:many mapping between keys and columns\n",
      "\n",
      "R[write to console]: 'select()' returned 1:1 mapping between keys and columns\n",
      "\n",
      "R[write to console]: 'select()' returned 1:1 mapping between keys and columns\n",
      "\n",
      "R[write to console]: 'select()' returned 1:1 mapping between keys and columns\n",
      "\n",
      "R[write to console]: 'select()' returned 1:1 mapping between keys and columns\n",
      "\n",
      "R[write to console]: Error in .testForValidKeys(x, keys, keytype, fks) : \n",
      "  None of the keys entered are valid keys for 'ENSEMBL'. Please use the keys method to see a listing of valid arguments.\n",
      "\n",
      "R[write to console]: In addition: \n",
      "R[write to console]: Warning messages:\n",
      "\n",
      "R[write to console]: 1: \n",
      "R[write to console]: In (function (geneID, fromType, toType, OrgDb, drop = TRUE)  :\n",
      "R[write to console]: \n",
      " \n",
      "R[write to console]:  3.32% of input gene IDs are fail to map...\n",
      "\n",
      "R[write to console]: 2: \n",
      "R[write to console]: In (function (geneID, fromType, toType, OrgDb, drop = TRUE)  :\n",
      "R[write to console]: \n",
      " \n",
      "R[write to console]:  21.43% of input gene IDs are fail to map...\n",
      "\n",
      "R[write to console]: 3: \n",
      "R[write to console]: In (function (geneID, fromType, toType, OrgDb, drop = TRUE)  :\n",
      "R[write to console]: \n",
      " \n",
      "R[write to console]:  28.89% of input gene IDs are fail to map...\n",
      "\n",
      "R[write to console]: 4: \n",
      "R[write to console]: In (function (geneID, fromType, toType, OrgDb, drop = TRUE)  :\n",
      "R[write to console]: \n",
      " \n",
      "R[write to console]:  8.33% of input gene IDs are fail to map...\n",
      "\n",
      "R[write to console]: 5: \n",
      "R[write to console]: In (function (geneID, fromType, toType, OrgDb, drop = TRUE)  :\n",
      "R[write to console]: \n",
      " \n",
      "R[write to console]:  1.79% of input gene IDs are fail to map...\n",
      "\n",
      "R[write to console]: 6: \n",
      "R[write to console]: In (function (geneID, fromType, toType, OrgDb, drop = TRUE)  :\n",
      "R[write to console]: \n",
      " \n",
      "R[write to console]:  93.33% of input gene IDs are fail to map...\n",
      "\n",
      "<ipython-input-22-7a1c97894055>:22: UserWarning: Partitions k_60- failed.\n",
      "  warnings.warn(f\"Partitions {filename_prefix} failed.\")\n"
     ]
    },
    {
     "data": {
      "text/plain": [
       "'Partition with n_clusters=65'"
      ]
     },
     "metadata": {},
     "output_type": "display_data"
    },
    {
     "name": "stderr",
     "output_type": "stream",
     "text": [
      "R[write to console]: 'select()' returned 1:many mapping between keys and columns\n",
      "\n",
      "R[write to console]: 'select()' returned 1:many mapping between keys and columns\n",
      "\n",
      "R[write to console]: 'select()' returned 1:1 mapping between keys and columns\n",
      "\n",
      "R[write to console]: 'select()' returned 1:1 mapping between keys and columns\n",
      "\n",
      "R[write to console]: 'select()' returned 1:1 mapping between keys and columns\n",
      "\n",
      "R[write to console]: 'select()' returned 1:1 mapping between keys and columns\n",
      "\n",
      "R[write to console]: Error in .testForValidKeys(x, keys, keytype, fks) : \n",
      "  None of the keys entered are valid keys for 'ENSEMBL'. Please use the keys method to see a listing of valid arguments.\n",
      "\n",
      "R[write to console]: In addition: \n",
      "R[write to console]: Warning messages:\n",
      "\n",
      "R[write to console]: 1: \n",
      "R[write to console]: In (function (geneID, fromType, toType, OrgDb, drop = TRUE)  :\n",
      "R[write to console]: \n",
      " \n",
      "R[write to console]:  3.77% of input gene IDs are fail to map...\n",
      "\n",
      "R[write to console]: 2: \n",
      "R[write to console]: In (function (geneID, fromType, toType, OrgDb, drop = TRUE)  :\n",
      "R[write to console]: \n",
      " \n",
      "R[write to console]:  37.27% of input gene IDs are fail to map...\n",
      "\n",
      "R[write to console]: 3: \n",
      "R[write to console]: In (function (geneID, fromType, toType, OrgDb, drop = TRUE)  :\n",
      "R[write to console]: \n",
      " \n",
      "R[write to console]:  1.75% of input gene IDs are fail to map...\n",
      "\n",
      "R[write to console]: 4: \n",
      "R[write to console]: In (function (geneID, fromType, toType, OrgDb, drop = TRUE)  :\n",
      "R[write to console]: \n",
      " \n",
      "R[write to console]:  91.18% of input gene IDs are fail to map...\n",
      "\n",
      "<ipython-input-22-7a1c97894055>:22: UserWarning: Partitions k_65- failed.\n",
      "  warnings.warn(f\"Partitions {filename_prefix} failed.\")\n"
     ]
    },
    {
     "data": {
      "text/plain": [
       "'Partition with n_clusters=70'"
      ]
     },
     "metadata": {},
     "output_type": "display_data"
    },
    {
     "name": "stderr",
     "output_type": "stream",
     "text": [
      "R[write to console]: 'select()' returned 1:many mapping between keys and columns\n",
      "\n",
      "R[write to console]: 'select()' returned 1:many mapping between keys and columns\n",
      "\n",
      "R[write to console]: 'select()' returned 1:1 mapping between keys and columns\n",
      "\n",
      "R[write to console]: 'select()' returned 1:1 mapping between keys and columns\n",
      "\n",
      "R[write to console]: 'select()' returned 1:many mapping between keys and columns\n",
      "\n",
      "R[write to console]: 'select()' returned 1:1 mapping between keys and columns\n",
      "\n",
      "R[write to console]: 'select()' returned 1:1 mapping between keys and columns\n",
      "\n",
      "R[write to console]: 'select()' returned 1:1 mapping between keys and columns\n",
      "\n",
      "R[write to console]: Error in .testForValidKeys(x, keys, keytype, fks) : \n",
      "  None of the keys entered are valid keys for 'ENSEMBL'. Please use the keys method to see a listing of valid arguments.\n",
      "\n",
      "R[write to console]: In addition: \n",
      "R[write to console]: Warning messages:\n",
      "\n",
      "R[write to console]: 1: \n",
      "R[write to console]: In (function (geneID, fromType, toType, OrgDb, drop = TRUE)  :\n",
      "R[write to console]: \n",
      " \n",
      "R[write to console]:  3.92% of input gene IDs are fail to map...\n",
      "\n",
      "R[write to console]: 2: \n",
      "R[write to console]: In (function (geneID, fromType, toType, OrgDb, drop = TRUE)  :\n",
      "R[write to console]: \n",
      " \n",
      "R[write to console]:  8.24% of input gene IDs are fail to map...\n",
      "\n",
      "R[write to console]: 3: \n",
      "R[write to console]: In (function (geneID, fromType, toType, OrgDb, drop = TRUE)  :\n",
      "R[write to console]: \n",
      " \n",
      "R[write to console]:  74.03% of input gene IDs are fail to map...\n",
      "\n",
      "R[write to console]: 4: \n",
      "R[write to console]: In (function (geneID, fromType, toType, OrgDb, drop = TRUE)  :\n",
      "R[write to console]: \n",
      " \n",
      "R[write to console]:  1.69% of input gene IDs are fail to map...\n",
      "\n",
      "R[write to console]: 5: \n",
      "R[write to console]: In (function (geneID, fromType, toType, OrgDb, drop = TRUE)  :\n",
      "R[write to console]: \n",
      " \n",
      "R[write to console]:  60% of input gene IDs are fail to map...\n",
      "\n",
      "R[write to console]: 6: \n",
      "R[write to console]: In (function (geneID, fromType, toType, OrgDb, drop = TRUE)  :\n",
      "R[write to console]: \n",
      " \n",
      "R[write to console]:  93.48% of input gene IDs are fail to map...\n",
      "\n",
      "<ipython-input-22-7a1c97894055>:22: UserWarning: Partitions k_70- failed.\n",
      "  warnings.warn(f\"Partitions {filename_prefix} failed.\")\n"
     ]
    },
    {
     "data": {
      "text/plain": [
       "'Partition with n_clusters=75'"
      ]
     },
     "metadata": {},
     "output_type": "display_data"
    },
    {
     "name": "stderr",
     "output_type": "stream",
     "text": [
      "R[write to console]: 'select()' returned 1:many mapping between keys and columns\n",
      "\n",
      "R[write to console]: 'select()' returned 1:many mapping between keys and columns\n",
      "\n",
      "R[write to console]: 'select()' returned 1:1 mapping between keys and columns\n",
      "\n",
      "R[write to console]: 'select()' returned 1:1 mapping between keys and columns\n",
      "\n",
      "R[write to console]: 'select()' returned 1:1 mapping between keys and columns\n",
      "\n",
      "R[write to console]: 'select()' returned 1:1 mapping between keys and columns\n",
      "\n",
      "R[write to console]: 'select()' returned 1:1 mapping between keys and columns\n",
      "\n",
      "R[write to console]: 'select()' returned 1:1 mapping between keys and columns\n",
      "\n",
      "R[write to console]: 'select()' returned 1:1 mapping between keys and columns\n",
      "\n",
      "R[write to console]: Error in .testForValidKeys(x, keys, keytype, fks) : \n",
      "  None of the keys entered are valid keys for 'ENSEMBL'. Please use the keys method to see a listing of valid arguments.\n",
      "\n",
      "R[write to console]: In addition: \n",
      "R[write to console]: Warning messages:\n",
      "\n",
      "R[write to console]: 1: \n",
      "R[write to console]: In (function (geneID, fromType, toType, OrgDb, drop = TRUE)  :\n",
      "R[write to console]: \n",
      " \n",
      "R[write to console]:  3.9% of input gene IDs are fail to map...\n",
      "\n",
      "R[write to console]: 2: \n",
      "R[write to console]: In (function (geneID, fromType, toType, OrgDb, drop = TRUE)  :\n",
      "R[write to console]: \n",
      " \n",
      "R[write to console]:  3.09% of input gene IDs are fail to map...\n",
      "\n",
      "R[write to console]: 3: \n",
      "R[write to console]: In (function (geneID, fromType, toType, OrgDb, drop = TRUE)  :\n",
      "R[write to console]: \n",
      " \n",
      "R[write to console]:  7.02% of input gene IDs are fail to map...\n",
      "\n",
      "R[write to console]: 4: \n",
      "R[write to console]: In (function (geneID, fromType, toType, OrgDb, drop = TRUE)  :\n",
      "R[write to console]: \n",
      " \n",
      "R[write to console]:  42.71% of input gene IDs are fail to map...\n",
      "\n",
      "R[write to console]: 5: \n",
      "R[write to console]: In (function (geneID, fromType, toType, OrgDb, drop = TRUE)  :\n",
      "R[write to console]: \n",
      " \n",
      "R[write to console]:  79.71% of input gene IDs are fail to map...\n",
      "\n",
      "R[write to console]: 6: \n",
      "R[write to console]: In (function (geneID, fromType, toType, OrgDb, drop = TRUE)  :\n",
      "R[write to console]: \n",
      " \n",
      "R[write to console]:  1.47% of input gene IDs are fail to map...\n",
      "\n",
      "R[write to console]: 7: \n",
      "R[write to console]: In (function (geneID, fromType, toType, OrgDb, drop = TRUE)  :\n",
      "R[write to console]: \n",
      " \n",
      "R[write to console]:  90.91% of input gene IDs are fail to map...\n",
      "\n",
      "<ipython-input-22-7a1c97894055>:22: UserWarning: Partitions k_75- failed.\n",
      "  warnings.warn(f\"Partitions {filename_prefix} failed.\")\n"
     ]
    },
    {
     "data": {
      "text/plain": [
       "'Partition with n_clusters=80'"
      ]
     },
     "metadata": {},
     "output_type": "display_data"
    },
    {
     "name": "stderr",
     "output_type": "stream",
     "text": [
      "R[write to console]: 'select()' returned 1:many mapping between keys and columns\n",
      "\n",
      "R[write to console]: 'select()' returned 1:many mapping between keys and columns\n",
      "\n",
      "R[write to console]: 'select()' returned 1:1 mapping between keys and columns\n",
      "\n",
      "R[write to console]: 'select()' returned 1:1 mapping between keys and columns\n",
      "\n",
      "R[write to console]: 'select()' returned 1:1 mapping between keys and columns\n",
      "\n",
      "R[write to console]: 'select()' returned 1:1 mapping between keys and columns\n",
      "\n",
      "R[write to console]: 'select()' returned 1:1 mapping between keys and columns\n",
      "\n",
      "R[write to console]: Error in .testForValidKeys(x, keys, keytype, fks) : \n",
      "  None of the keys entered are valid keys for 'ENSEMBL'. Please use the keys method to see a listing of valid arguments.\n",
      "\n",
      "R[write to console]: In addition: \n",
      "R[write to console]: Warning messages:\n",
      "\n",
      "R[write to console]: 1: \n",
      "R[write to console]: In (function (geneID, fromType, toType, OrgDb, drop = TRUE)  :\n",
      "R[write to console]: \n",
      " \n",
      "R[write to console]:  3.58% of input gene IDs are fail to map...\n",
      "\n",
      "R[write to console]: 2: \n",
      "R[write to console]: In (function (geneID, fromType, toType, OrgDb, drop = TRUE)  :\n",
      "R[write to console]: \n",
      " \n",
      "R[write to console]:  7.5% of input gene IDs are fail to map...\n",
      "\n",
      "R[write to console]: 3: \n",
      "R[write to console]: In (function (geneID, fromType, toType, OrgDb, drop = TRUE)  :\n",
      "R[write to console]: \n",
      " \n",
      "R[write to console]:  40.91% of input gene IDs are fail to map...\n",
      "\n",
      "R[write to console]: 4: \n",
      "R[write to console]: In (function (geneID, fromType, toType, OrgDb, drop = TRUE)  :\n",
      "R[write to console]: \n",
      " \n",
      "R[write to console]:  78.87% of input gene IDs are fail to map...\n",
      "\n",
      "R[write to console]: 5: \n",
      "R[write to console]: In (function (geneID, fromType, toType, OrgDb, drop = TRUE)  :\n",
      "R[write to console]: \n",
      " \n",
      "R[write to console]:  1.85% of input gene IDs are fail to map...\n",
      "\n",
      "<ipython-input-22-7a1c97894055>:22: UserWarning: Partitions k_80- failed.\n",
      "  warnings.warn(f\"Partitions {filename_prefix} failed.\")\n"
     ]
    },
    {
     "data": {
      "text/plain": [
       "'Partition with n_clusters=90'"
      ]
     },
     "metadata": {},
     "output_type": "display_data"
    },
    {
     "name": "stderr",
     "output_type": "stream",
     "text": [
      "R[write to console]: 'select()' returned 1:many mapping between keys and columns\n",
      "\n",
      "R[write to console]: 'select()' returned 1:many mapping between keys and columns\n",
      "\n",
      "R[write to console]: 'select()' returned 1:1 mapping between keys and columns\n",
      "\n",
      "R[write to console]: 'select()' returned 1:1 mapping between keys and columns\n",
      "\n",
      "R[write to console]: 'select()' returned 1:1 mapping between keys and columns\n",
      "\n",
      "R[write to console]: 'select()' returned 1:1 mapping between keys and columns\n",
      "\n",
      "R[write to console]: 'select()' returned 1:1 mapping between keys and columns\n",
      "\n",
      "R[write to console]: 'select()' returned 1:1 mapping between keys and columns\n",
      "\n",
      "R[write to console]: Error in .testForValidKeys(x, keys, keytype, fks) : \n",
      "  None of the keys entered are valid keys for 'ENSEMBL'. Please use the keys method to see a listing of valid arguments.\n",
      "\n",
      "R[write to console]: In addition: \n",
      "R[write to console]: Warning messages:\n",
      "\n",
      "R[write to console]: 1: \n",
      "R[write to console]: In (function (geneID, fromType, toType, OrgDb, drop = TRUE)  :\n",
      "R[write to console]: \n",
      " \n",
      "R[write to console]:  3.83% of input gene IDs are fail to map...\n",
      "\n",
      "R[write to console]: 2: \n",
      "R[write to console]: In (function (geneID, fromType, toType, OrgDb, drop = TRUE)  :\n",
      "R[write to console]: \n",
      " \n",
      "R[write to console]:  26.46% of input gene IDs are fail to map...\n",
      "\n",
      "R[write to console]: 3: \n",
      "R[write to console]: In (function (geneID, fromType, toType, OrgDb, drop = TRUE)  :\n",
      "R[write to console]: \n",
      " \n",
      "R[write to console]:  8.24% of input gene IDs are fail to map...\n",
      "\n",
      "R[write to console]: 4: \n",
      "R[write to console]: In (function (geneID, fromType, toType, OrgDb, drop = TRUE)  :\n",
      "R[write to console]: \n",
      " \n",
      "R[write to console]:  31.25% of input gene IDs are fail to map...\n",
      "\n",
      "R[write to console]: 5: \n",
      "R[write to console]: In (function (geneID, fromType, toType, OrgDb, drop = TRUE)  :\n",
      "R[write to console]: \n",
      " \n",
      "R[write to console]:  1.85% of input gene IDs are fail to map...\n",
      "\n",
      "R[write to console]: 6: \n",
      "R[write to console]: In (function (geneID, fromType, toType, OrgDb, drop = TRUE)  :\n",
      "R[write to console]: \n",
      " \n",
      "R[write to console]:  92.31% of input gene IDs are fail to map...\n",
      "\n",
      "<ipython-input-22-7a1c97894055>:22: UserWarning: Partitions k_90- failed.\n",
      "  warnings.warn(f\"Partitions {filename_prefix} failed.\")\n"
     ]
    },
    {
     "data": {
      "text/plain": [
       "'Partition with n_clusters=95'"
      ]
     },
     "metadata": {},
     "output_type": "display_data"
    },
    {
     "name": "stderr",
     "output_type": "stream",
     "text": [
      "R[write to console]: 'select()' returned 1:many mapping between keys and columns\n",
      "\n",
      "R[write to console]: 'select()' returned 1:1 mapping between keys and columns\n",
      "\n",
      "R[write to console]: 'select()' returned 1:1 mapping between keys and columns\n",
      "\n",
      "R[write to console]: 'select()' returned 1:1 mapping between keys and columns\n",
      "\n",
      "R[write to console]: 'select()' returned 1:1 mapping between keys and columns\n",
      "\n",
      "R[write to console]: 'select()' returned 1:1 mapping between keys and columns\n",
      "\n",
      "R[write to console]: 'select()' returned 1:1 mapping between keys and columns\n",
      "\n",
      "R[write to console]: 'select()' returned 1:1 mapping between keys and columns\n",
      "\n",
      "R[write to console]: 'select()' returned 1:1 mapping between keys and columns\n",
      "\n",
      "R[write to console]: Error in .testForValidKeys(x, keys, keytype, fks) : \n",
      "  None of the keys entered are valid keys for 'ENSEMBL'. Please use the keys method to see a listing of valid arguments.\n",
      "\n",
      "R[write to console]: In addition: \n",
      "R[write to console]: Warning messages:\n",
      "\n",
      "R[write to console]: 1: \n",
      "R[write to console]: In (function (geneID, fromType, toType, OrgDb, drop = TRUE)  :\n",
      "R[write to console]: \n",
      " \n",
      "R[write to console]:  3.77% of input gene IDs are fail to map...\n",
      "\n",
      "R[write to console]: 2: \n",
      "R[write to console]: In (function (geneID, fromType, toType, OrgDb, drop = TRUE)  :\n",
      "R[write to console]: \n",
      " \n",
      "R[write to console]:  6.7% of input gene IDs are fail to map...\n",
      "\n",
      "R[write to console]: 3: \n",
      "R[write to console]: In (function (geneID, fromType, toType, OrgDb, drop = TRUE)  :\n",
      "R[write to console]: \n",
      " \n",
      "R[write to console]:  5.94% of input gene IDs are fail to map...\n",
      "\n",
      "R[write to console]: 4: \n",
      "R[write to console]: In (function (geneID, fromType, toType, OrgDb, drop = TRUE)  :\n",
      "R[write to console]: \n",
      " \n",
      "R[write to console]:  75% of input gene IDs are fail to map...\n",
      "\n",
      "R[write to console]: 5: \n",
      "R[write to console]: In (function (geneID, fromType, toType, OrgDb, drop = TRUE)  :\n",
      "R[write to console]: \n",
      " \n",
      "R[write to console]:  58.97% of input gene IDs are fail to map...\n",
      "\n",
      "R[write to console]: 6: \n",
      "R[write to console]: In (function (geneID, fromType, toType, OrgDb, drop = TRUE)  :\n",
      "R[write to console]: \n",
      " \n",
      "R[write to console]:  91.43% of input gene IDs are fail to map...\n",
      "\n",
      "R[write to console]: 7: \n",
      "R[write to console]: In (function (geneID, fromType, toType, OrgDb, drop = TRUE)  :\n",
      "R[write to console]: \n",
      " \n",
      "R[write to console]:  3.03% of input gene IDs are fail to map...\n",
      "\n",
      "<ipython-input-22-7a1c97894055>:22: UserWarning: Partitions k_95- failed.\n",
      "  warnings.warn(f\"Partitions {filename_prefix} failed.\")\n"
     ]
    },
    {
     "data": {
      "text/plain": [
       "'Partition with n_clusters=100'"
      ]
     },
     "metadata": {},
     "output_type": "display_data"
    },
    {
     "name": "stderr",
     "output_type": "stream",
     "text": [
      "R[write to console]: 'select()' returned 1:many mapping between keys and columns\n",
      "\n",
      "R[write to console]: 'select()' returned 1:many mapping between keys and columns\n",
      "\n",
      "R[write to console]: 'select()' returned 1:many mapping between keys and columns\n",
      "\n",
      "R[write to console]: 'select()' returned 1:1 mapping between keys and columns\n",
      "\n",
      "R[write to console]: 'select()' returned 1:1 mapping between keys and columns\n",
      "\n",
      "R[write to console]: 'select()' returned 1:1 mapping between keys and columns\n",
      "\n",
      "R[write to console]: 'select()' returned 1:1 mapping between keys and columns\n",
      "\n",
      "R[write to console]: 'select()' returned 1:1 mapping between keys and columns\n",
      "\n",
      "R[write to console]: 'select()' returned 1:1 mapping between keys and columns\n",
      "\n",
      "R[write to console]: 'select()' returned 1:1 mapping between keys and columns\n",
      "\n",
      "R[write to console]: Error in .testForValidKeys(x, keys, keytype, fks) : \n",
      "  None of the keys entered are valid keys for 'ENSEMBL'. Please use the keys method to see a listing of valid arguments.\n",
      "\n",
      "R[write to console]: In addition: \n",
      "R[write to console]: Warning messages:\n",
      "\n",
      "R[write to console]: 1: \n",
      "R[write to console]: In (function (geneID, fromType, toType, OrgDb, drop = TRUE)  :\n",
      "R[write to console]: \n",
      " \n",
      "R[write to console]:  3.49% of input gene IDs are fail to map...\n",
      "\n",
      "R[write to console]: 2: \n",
      "R[write to console]: In (function (geneID, fromType, toType, OrgDb, drop = TRUE)  :\n",
      "R[write to console]: \n",
      " \n",
      "R[write to console]:  13.25% of input gene IDs are fail to map...\n",
      "\n",
      "R[write to console]: 3: \n",
      "R[write to console]: In (function (geneID, fromType, toType, OrgDb, drop = TRUE)  :\n",
      "R[write to console]: \n",
      " \n",
      "R[write to console]:  9.43% of input gene IDs are fail to map...\n",
      "\n",
      "R[write to console]: 4: \n",
      "R[write to console]: In (function (geneID, fromType, toType, OrgDb, drop = TRUE)  :\n",
      "R[write to console]: \n",
      " \n",
      "R[write to console]:  62.92% of input gene IDs are fail to map...\n",
      "\n",
      "R[write to console]: 5: \n",
      "R[write to console]: In (function (geneID, fromType, toType, OrgDb, drop = TRUE)  :\n",
      "R[write to console]: \n",
      " \n",
      "R[write to console]:  52.5% of input gene IDs are fail to map...\n",
      "\n",
      "R[write to console]: 6: \n",
      "R[write to console]: In (function (geneID, fromType, toType, OrgDb, drop = TRUE)  :\n",
      "R[write to console]: \n",
      " \n",
      "R[write to console]:  2.78% of input gene IDs are fail to map...\n",
      "\n",
      "R[write to console]: 7: \n",
      "R[write to console]: In (function (geneID, fromType, toType, OrgDb, drop = TRUE)  :\n",
      "R[write to console]: \n",
      " \n",
      "R[write to console]:  87.5% of input gene IDs are fail to map...\n",
      "\n",
      "R[write to console]: 8: \n",
      "R[write to console]: In (function (geneID, fromType, toType, OrgDb, drop = TRUE)  :\n",
      "R[write to console]: \n",
      " \n",
      "R[write to console]:  5% of input gene IDs are fail to map...\n",
      "\n",
      "<ipython-input-22-7a1c97894055>:22: UserWarning: Partitions k_100- failed.\n",
      "  warnings.warn(f\"Partitions {filename_prefix} failed.\")\n"
     ]
    },
    {
     "data": {
      "text/plain": [
       "'Partition with n_clusters=200'"
      ]
     },
     "metadata": {},
     "output_type": "display_data"
    },
    {
     "name": "stderr",
     "output_type": "stream",
     "text": [
      "R[write to console]: 'select()' returned 1:many mapping between keys and columns\n",
      "\n",
      "R[write to console]: 'select()' returned 1:many mapping between keys and columns\n",
      "\n",
      "R[write to console]: 'select()' returned 1:1 mapping between keys and columns\n",
      "\n",
      "R[write to console]: 'select()' returned 1:1 mapping between keys and columns\n",
      "\n",
      "R[write to console]: 'select()' returned 1:1 mapping between keys and columns\n",
      "\n",
      "R[write to console]: 'select()' returned 1:1 mapping between keys and columns\n",
      "\n",
      "R[write to console]: 'select()' returned 1:many mapping between keys and columns\n",
      "\n",
      "R[write to console]: 'select()' returned 1:1 mapping between keys and columns\n",
      "\n",
      "R[write to console]: 'select()' returned 1:1 mapping between keys and columns\n",
      "\n",
      "R[write to console]: 'select()' returned 1:1 mapping between keys and columns\n",
      "\n",
      "R[write to console]: Error in .testForValidKeys(x, keys, keytype, fks) : \n",
      "  None of the keys entered are valid keys for 'ENSEMBL'. Please use the keys method to see a listing of valid arguments.\n",
      "\n",
      "R[write to console]: In addition: \n",
      "R[write to console]: Warning messages:\n",
      "\n",
      "R[write to console]: 1: \n",
      "R[write to console]: In (function (geneID, fromType, toType, OrgDb, drop = TRUE)  :\n",
      "R[write to console]: \n",
      " \n",
      "R[write to console]:  3.09% of input gene IDs are fail to map...\n",
      "\n",
      "R[write to console]: 2: \n",
      "R[write to console]: In (function (geneID, fromType, toType, OrgDb, drop = TRUE)  :\n",
      "R[write to console]: \n",
      " \n",
      "R[write to console]:  6.44% of input gene IDs are fail to map...\n",
      "\n",
      "R[write to console]: 3: \n",
      "R[write to console]: In (function (geneID, fromType, toType, OrgDb, drop = TRUE)  :\n",
      "R[write to console]: \n",
      " \n",
      "R[write to console]:  4.91% of input gene IDs are fail to map...\n",
      "\n",
      "R[write to console]: 4: \n",
      "R[write to console]: In (function (geneID, fromType, toType, OrgDb, drop = TRUE)  :\n",
      "R[write to console]: \n",
      " \n",
      "R[write to console]:  70.91% of input gene IDs are fail to map...\n",
      "\n",
      "R[write to console]: 5: \n",
      "R[write to console]: In (function (geneID, fromType, toType, OrgDb, drop = TRUE)  :\n",
      "R[write to console]: \n",
      " \n",
      "R[write to console]:  12.77% of input gene IDs are fail to map...\n",
      "\n",
      "R[write to console]: 6: \n",
      "R[write to console]: In (function (geneID, fromType, toType, OrgDb, drop = TRUE)  :\n",
      "R[write to console]: \n",
      " \n",
      "R[write to console]:  44.44% of input gene IDs are fail to map...\n",
      "\n",
      "R[write to console]: 7: \n",
      "R[write to console]: In (function (geneID, fromType, toType, OrgDb, drop = TRUE)  :\n",
      "R[write to console]: \n",
      " \n",
      "R[write to console]:  15.79% of input gene IDs are fail to map...\n",
      "\n",
      "R[write to console]: 8: \n",
      "R[write to console]: In (function (geneID, fromType, toType, OrgDb, drop = TRUE)  :\n",
      "R[write to console]: \n",
      " \n",
      "R[write to console]:  3.12% of input gene IDs are fail to map...\n",
      "\n",
      "R[write to console]: 9: \n",
      "R[write to console]: In (function (geneID, fromType, toType, OrgDb, drop = TRUE)  :\n",
      "R[write to console]: \n",
      " \n",
      "R[write to console]:  80% of input gene IDs are fail to map...\n",
      "\n",
      "<ipython-input-22-7a1c97894055>:22: UserWarning: Partitions k_200- failed.\n",
      "  warnings.warn(f\"Partitions {filename_prefix} failed.\")\n"
     ]
    }
   ],
   "source": [
    "for idx, cr in cm_results.sort_values(\"n_clusters\").iterrows():\n",
    "    display(f\"Partition with n_clusters={cr.n_clusters}\")\n",
    "\n",
    "    prefix = f\"k_{cr.n_clusters}-\"\n",
    "    run_enrich(prefix, cr.partition)"
   ]
  },
  {
   "cell_type": "code",
   "execution_count": null,
   "id": "numerous-network",
   "metadata": {
    "papermill": {
     "duration": 0.108692,
     "end_time": "2021-03-03T04:28:19.970020",
     "exception": false,
     "start_time": "2021-03-03T04:28:19.861328",
     "status": "completed"
    },
    "tags": []
   },
   "outputs": [],
   "source": []
  }
 ],
 "metadata": {
  "jupytext": {
   "cell_metadata_filter": "all,-execution,-papermill,-trusted",
   "text_representation": {
    "extension": ".py",
    "format_name": "percent",
    "format_version": "1.3",
    "jupytext_version": "1.11.5"
   }
  },
  "kernelspec": {
   "display_name": "Python 3 (ipykernel)",
   "language": "python",
   "name": "python3"
  },
  "language_info": {
   "codemirror_mode": {
    "name": "ipython",
    "version": 3
   },
   "file_extension": ".py",
   "mimetype": "text/x-python",
   "name": "python",
   "nbconvert_exporter": "python",
   "pygments_lexer": "ipython3",
   "version": "3.9.6"
  },
  "papermill": {
   "default_parameters": {},
   "duration": 518.302182,
   "end_time": "2021-03-03T04:28:21.846432",
   "environment_variables": {},
   "exception": null,
   "input_path": "05_cluster_analysis/15_05-pearson-reactome_enrichment.ipynb",
   "output_path": "05_cluster_analysis/15_05-pearson-reactome_enrichment.run.ipynb",
   "parameters": {},
   "start_time": "2021-03-03T04:19:43.544250",
   "version": "2.3.2"
  },
  "toc-autonumbering": true
 },
 "nbformat": 4,
 "nbformat_minor": 5
}
