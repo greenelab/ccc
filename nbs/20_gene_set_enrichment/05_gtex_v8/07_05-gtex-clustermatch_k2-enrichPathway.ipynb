{
 "cells": [
  {
   "cell_type": "markdown",
   "id": "dfa1ba1b-d517-4a57-8db0-103ab5bd0a0d",
   "metadata": {
    "papermill": {
     "duration": 0.048364,
     "end_time": "2021-10-03T09:03:39.585320",
     "exception": false,
     "start_time": "2021-10-03T09:03:39.536956",
     "status": "completed"
    },
    "tags": []
   },
   "source": [
    "# Description"
   ]
  },
  {
   "cell_type": "markdown",
   "id": "8944732c-37a0-4af1-b9c1-86c0c2776126",
   "metadata": {
    "papermill": {
     "duration": 0.014867,
     "end_time": "2021-10-03T09:03:39.617514",
     "exception": false,
     "start_time": "2021-10-03T09:03:39.602647",
     "status": "completed"
    },
    "tags": []
   },
   "source": [
    "TODO/UPDATE: It computes gene enrichment on *all* the clustering results obtained using some correlation measure on GTEx v8 (specified under `Settings` below)."
   ]
  },
  {
   "cell_type": "markdown",
   "id": "3334aeb5-41a5-4331-9c28-34ec8f755e98",
   "metadata": {
    "papermill": {
     "duration": 0.014888,
     "end_time": "2021-10-03T09:03:39.647360",
     "exception": false,
     "start_time": "2021-10-03T09:03:39.632472",
     "status": "completed"
    },
    "tags": []
   },
   "source": [
    "# Modules loading"
   ]
  },
  {
   "cell_type": "code",
   "execution_count": 1,
   "id": "2c8cf869-a063-4731-bb75-acc121975426",
   "metadata": {
    "execution": {
     "iopub.execute_input": "2021-10-03T09:03:39.685331Z",
     "iopub.status.busy": "2021-10-03T09:03:39.684861Z",
     "iopub.status.idle": "2021-10-03T09:03:39.922851Z",
     "shell.execute_reply": "2021-10-03T09:03:39.922352Z"
    },
    "papermill": {
     "duration": 0.260237,
     "end_time": "2021-10-03T09:03:39.922968",
     "exception": false,
     "start_time": "2021-10-03T09:03:39.662731",
     "status": "completed"
    },
    "tags": []
   },
   "outputs": [],
   "source": [
    "import re\n",
    "from collections import defaultdict\n",
    "from concurrent.futures import ProcessPoolExecutor, as_completed\n",
    "\n",
    "import numpy as np\n",
    "import pandas as pd\n",
    "from tqdm import tqdm\n",
    "\n",
    "from clustermatch import conf\n",
    "from clustermatch.gene_enrich import run_enrich"
   ]
  },
  {
   "cell_type": "markdown",
   "id": "21f26cf2-d399-470f-94c3-e26dd5b4337d",
   "metadata": {
    "papermill": {
     "duration": 0.015028,
     "end_time": "2021-10-03T09:03:39.954028",
     "exception": false,
     "start_time": "2021-10-03T09:03:39.939000",
     "status": "completed"
    },
    "tags": []
   },
   "source": [
    "# Settings"
   ]
  },
  {
   "cell_type": "code",
   "execution_count": 2,
   "id": "ba4b9af6-32b3-434c-89d6-20d47f52620e",
   "metadata": {
    "execution": {
     "iopub.execute_input": "2021-10-03T09:03:39.988038Z",
     "iopub.status.busy": "2021-10-03T09:03:39.987517Z",
     "iopub.status.idle": "2021-10-03T09:03:39.989510Z",
     "shell.execute_reply": "2021-10-03T09:03:39.989061Z"
    },
    "papermill": {
     "duration": 0.020301,
     "end_time": "2021-10-03T09:03:39.989605",
     "exception": false,
     "start_time": "2021-10-03T09:03:39.969304",
     "status": "completed"
    },
    "tags": []
   },
   "outputs": [],
   "source": [
    "DATASET_CONFIG = conf.GTEX"
   ]
  },
  {
   "cell_type": "code",
   "execution_count": 3,
   "id": "16b1fa39-d18c-4a87-bfcc-8d302941544d",
   "metadata": {
    "execution": {
     "iopub.execute_input": "2021-10-03T09:03:40.024662Z",
     "iopub.status.busy": "2021-10-03T09:03:40.024198Z",
     "iopub.status.idle": "2021-10-03T09:03:40.025845Z",
     "shell.execute_reply": "2021-10-03T09:03:40.026190Z"
    },
    "papermill": {
     "duration": 0.020692,
     "end_time": "2021-10-03T09:03:40.026305",
     "exception": false,
     "start_time": "2021-10-03T09:03:40.005613",
     "status": "completed"
    },
    "tags": []
   },
   "outputs": [],
   "source": [
    "CORRELATION_METHOD_NAME = \"clustermatch_k2\""
   ]
  },
  {
   "cell_type": "code",
   "execution_count": 4,
   "id": "0072fd4d-4b6f-4553-bc17-7bc3d737c7fd",
   "metadata": {
    "execution": {
     "iopub.execute_input": "2021-10-03T09:03:40.060750Z",
     "iopub.status.busy": "2021-10-03T09:03:40.060299Z",
     "iopub.status.idle": "2021-10-03T09:03:40.062440Z",
     "shell.execute_reply": "2021-10-03T09:03:40.062005Z"
    },
    "papermill": {
     "duration": 0.020716,
     "end_time": "2021-10-03T09:03:40.062534",
     "exception": false,
     "start_time": "2021-10-03T09:03:40.041818",
     "status": "completed"
    },
    "tags": []
   },
   "outputs": [],
   "source": [
    "# GENE_SELECTION_STRATEGY = \"var_pc_log2\""
   ]
  },
  {
   "cell_type": "code",
   "execution_count": 5,
   "id": "f4b75296-746d-4f4a-b33b-2b003ff9802f",
   "metadata": {
    "execution": {
     "iopub.execute_input": "2021-10-03T09:03:40.096932Z",
     "iopub.status.busy": "2021-10-03T09:03:40.096483Z",
     "iopub.status.idle": "2021-10-03T09:03:40.097991Z",
     "shell.execute_reply": "2021-10-03T09:03:40.098333Z"
    },
    "papermill": {
     "duration": 0.020153,
     "end_time": "2021-10-03T09:03:40.098448",
     "exception": false,
     "start_time": "2021-10-03T09:03:40.078295",
     "status": "completed"
    },
    "tags": []
   },
   "outputs": [],
   "source": [
    "# clusterProfiler settings\n",
    "ENRICH_FUNCTION = \"enrichPathway\"\n",
    "ENRICH_PARAMS = \"human\""
   ]
  },
  {
   "cell_type": "markdown",
   "id": "fd099196-edbb-4a17-adce-c7079a221057",
   "metadata": {
    "papermill": {
     "duration": 0.015963,
     "end_time": "2021-10-03T09:03:40.130697",
     "exception": false,
     "start_time": "2021-10-03T09:03:40.114734",
     "status": "completed"
    },
    "tags": []
   },
   "source": [
    "# Paths"
   ]
  },
  {
   "cell_type": "code",
   "execution_count": 6,
   "id": "4f2e5aa2-0428-4f1b-8af7-41fd7f8208bb",
   "metadata": {
    "execution": {
     "iopub.execute_input": "2021-10-03T09:03:40.169627Z",
     "iopub.status.busy": "2021-10-03T09:03:40.168365Z",
     "iopub.status.idle": "2021-10-03T09:03:40.172816Z",
     "shell.execute_reply": "2021-10-03T09:03:40.172363Z"
    },
    "papermill": {
     "duration": 0.0267,
     "end_time": "2021-10-03T09:03:40.172913",
     "exception": false,
     "start_time": "2021-10-03T09:03:40.146213",
     "status": "completed"
    },
    "tags": []
   },
   "outputs": [
    {
     "data": {
      "text/plain": [
       "PosixPath('/opt/data/results/gtex_v8/clustering')"
      ]
     },
     "metadata": {},
     "output_type": "display_data"
    }
   ],
   "source": [
    "INPUT_DIR = DATASET_CONFIG[\"CLUSTERING_DIR\"]\n",
    "display(INPUT_DIR)\n",
    "assert INPUT_DIR.exists()"
   ]
  },
  {
   "cell_type": "code",
   "execution_count": 7,
   "id": "28806e98",
   "metadata": {
    "execution": {
     "iopub.execute_input": "2021-10-03T09:03:40.208956Z",
     "iopub.status.busy": "2021-10-03T09:03:40.208387Z",
     "iopub.status.idle": "2021-10-03T09:03:40.211202Z",
     "shell.execute_reply": "2021-10-03T09:03:40.210755Z"
    },
    "papermill": {
     "duration": 0.021854,
     "end_time": "2021-10-03T09:03:40.211301",
     "exception": false,
     "start_time": "2021-10-03T09:03:40.189447",
     "status": "completed"
    },
    "tags": []
   },
   "outputs": [
    {
     "data": {
      "text/plain": [
       "PosixPath('/opt/data/results/gtex_v8/similarity_matrices')"
      ]
     },
     "metadata": {},
     "output_type": "display_data"
    }
   ],
   "source": [
    "# this directory has the input data given to the clustering methods\n",
    "SIMILARITY_MATRICES_DIR = DATASET_CONFIG[\"SIMILARITY_MATRICES_DIR\"]\n",
    "display(SIMILARITY_MATRICES_DIR)"
   ]
  },
  {
   "cell_type": "code",
   "execution_count": 8,
   "id": "7eff043e-9416-486b-ae13-3dcda0e45f7d",
   "metadata": {
    "execution": {
     "iopub.execute_input": "2021-10-03T09:03:40.252710Z",
     "iopub.status.busy": "2021-10-03T09:03:40.252175Z",
     "iopub.status.idle": "2021-10-03T09:03:40.254953Z",
     "shell.execute_reply": "2021-10-03T09:03:40.254418Z"
    },
    "papermill": {
     "duration": 0.026264,
     "end_time": "2021-10-03T09:03:40.255070",
     "exception": false,
     "start_time": "2021-10-03T09:03:40.228806",
     "status": "completed"
    },
    "tags": []
   },
   "outputs": [
    {
     "data": {
      "text/plain": [
       "'gtex_v8_data_{tissue}-{gene_sel_strategy}-{corr_method}.pkl'"
      ]
     },
     "metadata": {},
     "output_type": "display_data"
    }
   ],
   "source": [
    "SIMILARITY_MATRIX_FILENAME_TEMPLATE = DATASET_CONFIG[\n",
    "    \"SIMILARITY_MATRIX_FILENAME_TEMPLATE\"\n",
    "]\n",
    "display(SIMILARITY_MATRIX_FILENAME_TEMPLATE)"
   ]
  },
  {
   "cell_type": "code",
   "execution_count": 9,
   "id": "ae7489d8-c09f-43a8-b52c-a9049266f734",
   "metadata": {
    "execution": {
     "iopub.execute_input": "2021-10-03T09:03:40.295115Z",
     "iopub.status.busy": "2021-10-03T09:03:40.294605Z",
     "iopub.status.idle": "2021-10-03T09:03:40.297279Z",
     "shell.execute_reply": "2021-10-03T09:03:40.296889Z"
    },
    "papermill": {
     "duration": 0.023519,
     "end_time": "2021-10-03T09:03:40.297377",
     "exception": false,
     "start_time": "2021-10-03T09:03:40.273858",
     "status": "completed"
    },
    "tags": []
   },
   "outputs": [
    {
     "data": {
      "text/plain": [
       "PosixPath('/opt/data/results/gtex_v8/gene_set_enrichment')"
      ]
     },
     "metadata": {},
     "output_type": "display_data"
    }
   ],
   "source": [
    "OUTPUT_DIR = DATASET_CONFIG[\"GENE_ENRICHMENT_DIR\"]\n",
    "OUTPUT_DIR.mkdir(parents=True, exist_ok=True)\n",
    "display(OUTPUT_DIR)"
   ]
  },
  {
   "cell_type": "markdown",
   "id": "6e0d3fbd-1090-466c-aa2e-176f7887c4cc",
   "metadata": {
    "papermill": {
     "duration": 0.016695,
     "end_time": "2021-10-03T09:03:40.331353",
     "exception": false,
     "start_time": "2021-10-03T09:03:40.314658",
     "status": "completed"
    },
    "tags": []
   },
   "source": [
    "# Get data files"
   ]
  },
  {
   "cell_type": "code",
   "execution_count": 10,
   "id": "735c38ea-9cb9-4e5f-aa1d-32cf420c45b6",
   "metadata": {
    "execution": {
     "iopub.execute_input": "2021-10-03T09:03:40.368843Z",
     "iopub.status.busy": "2021-10-03T09:03:40.368391Z",
     "iopub.status.idle": "2021-10-03T09:03:40.370310Z",
     "shell.execute_reply": "2021-10-03T09:03:40.369942Z"
    },
    "papermill": {
     "duration": 0.022361,
     "end_time": "2021-10-03T09:03:40.370409",
     "exception": false,
     "start_time": "2021-10-03T09:03:40.348048",
     "status": "completed"
    },
    "tags": []
   },
   "outputs": [],
   "source": [
    "filename_pattern = re.compile(DATASET_CONFIG[\"CLUSTERING_FILENAME_PATTERN\"])"
   ]
  },
  {
   "cell_type": "code",
   "execution_count": 11,
   "id": "0a2c5f50-ec5c-46e8-8918-753cbc941c24",
   "metadata": {
    "execution": {
     "iopub.execute_input": "2021-10-03T09:03:40.411183Z",
     "iopub.status.busy": "2021-10-03T09:03:40.410700Z",
     "iopub.status.idle": "2021-10-03T09:03:40.414683Z",
     "shell.execute_reply": "2021-10-03T09:03:40.414227Z"
    },
    "papermill": {
     "duration": 0.026697,
     "end_time": "2021-10-03T09:03:40.414782",
     "exception": false,
     "start_time": "2021-10-03T09:03:40.388085",
     "status": "completed"
    },
    "tags": []
   },
   "outputs": [
    {
     "data": {
      "text/plain": [
       "5"
      ]
     },
     "metadata": {},
     "output_type": "display_data"
    },
    {
     "data": {
      "text/plain": [
       "[PosixPath('/opt/data/results/gtex_v8/clustering/gtex_v8_data_adipose_subcutaneous-var_pc_log2-clustermatch_k2-SpectralClustering.pkl'),\n",
       " PosixPath('/opt/data/results/gtex_v8/clustering/gtex_v8_data_artery_tibial-var_pc_log2-clustermatch_k2-SpectralClustering.pkl'),\n",
       " PosixPath('/opt/data/results/gtex_v8/clustering/gtex_v8_data_muscle_skeletal-var_pc_log2-clustermatch_k2-SpectralClustering.pkl'),\n",
       " PosixPath('/opt/data/results/gtex_v8/clustering/gtex_v8_data_skin_sun_exposed_lower_leg-var_pc_log2-clustermatch_k2-SpectralClustering.pkl'),\n",
       " PosixPath('/opt/data/results/gtex_v8/clustering/gtex_v8_data_whole_blood-var_pc_log2-clustermatch_k2-SpectralClustering.pkl')]"
      ]
     },
     "metadata": {},
     "output_type": "display_data"
    }
   ],
   "source": [
    "# get input data files according to Settings\n",
    "input_files = sorted(\n",
    "    [\n",
    "        f\n",
    "        for f in INPUT_DIR.iterdir()\n",
    "        if (m := re.search(filename_pattern, str(f))) is not None\n",
    "        and m.group(\"corr_method\") == CORRELATION_METHOD_NAME\n",
    "    ]\n",
    ")\n",
    "display(len(input_files))\n",
    "display(input_files[:5])\n",
    "\n",
    "assert len(input_files) > 0"
   ]
  },
  {
   "cell_type": "markdown",
   "id": "04fe07b3-84e7-41f9-ba5d-09139ef0f69c",
   "metadata": {
    "papermill": {
     "duration": 0.018029,
     "end_time": "2021-10-03T09:03:40.451370",
     "exception": false,
     "start_time": "2021-10-03T09:03:40.433341",
     "status": "completed"
    },
    "tags": []
   },
   "source": [
    "# Preview input data"
   ]
  },
  {
   "cell_type": "markdown",
   "id": "9580f4e4-ca5d-4551-8545-7c8a3dc13d6b",
   "metadata": {
    "papermill": {
     "duration": 0.017273,
     "end_time": "2021-10-03T09:03:40.486259",
     "exception": false,
     "start_time": "2021-10-03T09:03:40.468986",
     "status": "completed"
    },
    "tags": []
   },
   "source": [
    "## Clustering results"
   ]
  },
  {
   "cell_type": "code",
   "execution_count": 12,
   "id": "ce5ee397-714e-430c-90c4-c648cc4780bf",
   "metadata": {
    "execution": {
     "iopub.execute_input": "2021-10-03T09:03:40.525031Z",
     "iopub.status.busy": "2021-10-03T09:03:40.524463Z",
     "iopub.status.idle": "2021-10-03T09:03:40.527624Z",
     "shell.execute_reply": "2021-10-03T09:03:40.527159Z"
    },
    "papermill": {
     "duration": 0.024132,
     "end_time": "2021-10-03T09:03:40.527723",
     "exception": false,
     "start_time": "2021-10-03T09:03:40.503591",
     "status": "completed"
    },
    "tags": []
   },
   "outputs": [],
   "source": [
    "tmp = pd.read_pickle(input_files[0])"
   ]
  },
  {
   "cell_type": "code",
   "execution_count": 13,
   "id": "51ad6d88-77d9-4ff9-ba36-fcefc4454dbe",
   "metadata": {
    "execution": {
     "iopub.execute_input": "2021-10-03T09:03:40.567442Z",
     "iopub.status.busy": "2021-10-03T09:03:40.566956Z",
     "iopub.status.idle": "2021-10-03T09:03:40.569764Z",
     "shell.execute_reply": "2021-10-03T09:03:40.569326Z"
    },
    "papermill": {
     "duration": 0.024199,
     "end_time": "2021-10-03T09:03:40.569858",
     "exception": false,
     "start_time": "2021-10-03T09:03:40.545659",
     "status": "completed"
    },
    "tags": []
   },
   "outputs": [
    {
     "data": {
      "text/plain": [
       "(25, 4)"
      ]
     },
     "execution_count": 13,
     "metadata": {},
     "output_type": "execute_result"
    }
   ],
   "source": [
    "tmp.shape"
   ]
  },
  {
   "cell_type": "code",
   "execution_count": 14,
   "id": "a25a8fe5-f96f-4327-b5af-74845de69074",
   "metadata": {
    "execution": {
     "iopub.execute_input": "2021-10-03T09:03:40.614242Z",
     "iopub.status.busy": "2021-10-03T09:03:40.609761Z",
     "iopub.status.idle": "2021-10-03T09:03:40.621312Z",
     "shell.execute_reply": "2021-10-03T09:03:40.620858Z"
    },
    "papermill": {
     "duration": 0.033426,
     "end_time": "2021-10-03T09:03:40.621410",
     "exception": false,
     "start_time": "2021-10-03T09:03:40.587984",
     "status": "completed"
    },
    "tags": []
   },
   "outputs": [
    {
     "data": {
      "text/html": [
       "<div>\n",
       "<style scoped>\n",
       "    .dataframe tbody tr th:only-of-type {\n",
       "        vertical-align: middle;\n",
       "    }\n",
       "\n",
       "    .dataframe tbody tr th {\n",
       "        vertical-align: top;\n",
       "    }\n",
       "\n",
       "    .dataframe thead th {\n",
       "        text-align: right;\n",
       "    }\n",
       "</style>\n",
       "<table border=\"1\" class=\"dataframe\">\n",
       "  <thead>\n",
       "    <tr style=\"text-align: right;\">\n",
       "      <th></th>\n",
       "      <th>params</th>\n",
       "      <th>partition</th>\n",
       "      <th>n_clusters</th>\n",
       "      <th>si_score</th>\n",
       "    </tr>\n",
       "    <tr>\n",
       "      <th>id</th>\n",
       "      <th></th>\n",
       "      <th></th>\n",
       "      <th></th>\n",
       "      <th></th>\n",
       "    </tr>\n",
       "  </thead>\n",
       "  <tbody>\n",
       "    <tr>\n",
       "      <th>SpectralClustering #0</th>\n",
       "      <td>{\"affinity\": \"precomputed\", \"assign_labels\": \"...</td>\n",
       "      <td>[0, 0, 0, 0, 0, 0, 0, 0, 0, 0, 0, 0, 0, 0, 0, ...</td>\n",
       "      <td>2</td>\n",
       "      <td>0.028595</td>\n",
       "    </tr>\n",
       "    <tr>\n",
       "      <th>SpectralClustering #1</th>\n",
       "      <td>{\"affinity\": \"precomputed\", \"assign_labels\": \"...</td>\n",
       "      <td>[0, 0, 0, 0, 0, 0, 0, 0, 0, 0, 0, 0, 3, 0, 0, ...</td>\n",
       "      <td>5</td>\n",
       "      <td>0.030045</td>\n",
       "    </tr>\n",
       "    <tr>\n",
       "      <th>SpectralClustering #2</th>\n",
       "      <td>{\"affinity\": \"precomputed\", \"assign_labels\": \"...</td>\n",
       "      <td>[9, 5, 0, 5, 9, 9, 5, 9, 9, 9, 5, 5, 2, 0, 9, ...</td>\n",
       "      <td>10</td>\n",
       "      <td>0.030650</td>\n",
       "    </tr>\n",
       "    <tr>\n",
       "      <th>SpectralClustering #3</th>\n",
       "      <td>{\"affinity\": \"precomputed\", \"assign_labels\": \"...</td>\n",
       "      <td>[14, 10, 3, 1, 3, 14, 14, 14, 3, 14, 1, 12, 7,...</td>\n",
       "      <td>15</td>\n",
       "      <td>0.032396</td>\n",
       "    </tr>\n",
       "    <tr>\n",
       "      <th>SpectralClustering #4</th>\n",
       "      <td>{\"affinity\": \"precomputed\", \"assign_labels\": \"...</td>\n",
       "      <td>[10, 18, 7, 2, 7, 7, 7, 7, 7, 10, 2, 14, 11, 7...</td>\n",
       "      <td>20</td>\n",
       "      <td>0.033087</td>\n",
       "    </tr>\n",
       "  </tbody>\n",
       "</table>\n",
       "</div>"
      ],
      "text/plain": [
       "                                                                  params  \\\n",
       "id                                                                         \n",
       "SpectralClustering #0  {\"affinity\": \"precomputed\", \"assign_labels\": \"...   \n",
       "SpectralClustering #1  {\"affinity\": \"precomputed\", \"assign_labels\": \"...   \n",
       "SpectralClustering #2  {\"affinity\": \"precomputed\", \"assign_labels\": \"...   \n",
       "SpectralClustering #3  {\"affinity\": \"precomputed\", \"assign_labels\": \"...   \n",
       "SpectralClustering #4  {\"affinity\": \"precomputed\", \"assign_labels\": \"...   \n",
       "\n",
       "                                                               partition  \\\n",
       "id                                                                         \n",
       "SpectralClustering #0  [0, 0, 0, 0, 0, 0, 0, 0, 0, 0, 0, 0, 0, 0, 0, ...   \n",
       "SpectralClustering #1  [0, 0, 0, 0, 0, 0, 0, 0, 0, 0, 0, 0, 3, 0, 0, ...   \n",
       "SpectralClustering #2  [9, 5, 0, 5, 9, 9, 5, 9, 9, 9, 5, 5, 2, 0, 9, ...   \n",
       "SpectralClustering #3  [14, 10, 3, 1, 3, 14, 14, 14, 3, 14, 1, 12, 7,...   \n",
       "SpectralClustering #4  [10, 18, 7, 2, 7, 7, 7, 7, 7, 10, 2, 14, 11, 7...   \n",
       "\n",
       "                       n_clusters  si_score  \n",
       "id                                           \n",
       "SpectralClustering #0           2  0.028595  \n",
       "SpectralClustering #1           5  0.030045  \n",
       "SpectralClustering #2          10  0.030650  \n",
       "SpectralClustering #3          15  0.032396  \n",
       "SpectralClustering #4          20  0.033087  "
      ]
     },
     "execution_count": 14,
     "metadata": {},
     "output_type": "execute_result"
    }
   ],
   "source": [
    "tmp.head()"
   ]
  },
  {
   "cell_type": "markdown",
   "id": "21ee675e-15d9-442e-8e6f-87c7578e9e6c",
   "metadata": {
    "papermill": {
     "duration": 0.018866,
     "end_time": "2021-10-03T09:03:40.660366",
     "exception": false,
     "start_time": "2021-10-03T09:03:40.641500",
     "status": "completed"
    },
    "tags": []
   },
   "source": [
    "## Similarity matrices (input to clustering methods)"
   ]
  },
  {
   "cell_type": "code",
   "execution_count": 15,
   "id": "9363dc2c-6717-43ac-9448-b6019a1cd28a",
   "metadata": {
    "execution": {
     "iopub.execute_input": "2021-10-03T09:03:40.701720Z",
     "iopub.status.busy": "2021-10-03T09:03:40.701232Z",
     "iopub.status.idle": "2021-10-03T09:03:40.703245Z",
     "shell.execute_reply": "2021-10-03T09:03:40.703612Z"
    },
    "papermill": {
     "duration": 0.024889,
     "end_time": "2021-10-03T09:03:40.703727",
     "exception": false,
     "start_time": "2021-10-03T09:03:40.678838",
     "status": "completed"
    },
    "tags": []
   },
   "outputs": [
    {
     "data": {
      "text/plain": [
       "'gtex_v8_data_adipose_subcutaneous-var_pc_log2-clustermatch_k2.pkl'"
      ]
     },
     "metadata": {},
     "output_type": "display_data"
    }
   ],
   "source": [
    "similarity_matrix_filename = SIMILARITY_MATRIX_FILENAME_TEMPLATE.format(\n",
    "    tissue=\"adipose_subcutaneous\",\n",
    "    gene_sel_strategy=\"var_pc_log2\",\n",
    "    corr_method=CORRELATION_METHOD_NAME.split(\"_\")[0]\n",
    "    if not CORRELATION_METHOD_NAME.startswith(\"clustermatch\")\n",
    "    else CORRELATION_METHOD_NAME,\n",
    ")\n",
    "display(similarity_matrix_filename)"
   ]
  },
  {
   "cell_type": "code",
   "execution_count": 16,
   "id": "b1916d25-8cd2-430f-ab08-de6d80263c17",
   "metadata": {
    "execution": {
     "iopub.execute_input": "2021-10-03T09:03:40.744812Z",
     "iopub.status.busy": "2021-10-03T09:03:40.744347Z",
     "iopub.status.idle": "2021-10-03T09:03:40.836085Z",
     "shell.execute_reply": "2021-10-03T09:03:40.835495Z"
    },
    "papermill": {
     "duration": 0.113478,
     "end_time": "2021-10-03T09:03:40.836210",
     "exception": false,
     "start_time": "2021-10-03T09:03:40.722732",
     "status": "completed"
    },
    "tags": []
   },
   "outputs": [],
   "source": [
    "tmp = pd.read_pickle(SIMILARITY_MATRICES_DIR / similarity_matrix_filename)"
   ]
  },
  {
   "cell_type": "code",
   "execution_count": 17,
   "id": "d29dfd29-1d42-40fb-b19a-09367f3ce2f9",
   "metadata": {
    "execution": {
     "iopub.execute_input": "2021-10-03T09:03:40.884092Z",
     "iopub.status.busy": "2021-10-03T09:03:40.883502Z",
     "iopub.status.idle": "2021-10-03T09:03:40.886461Z",
     "shell.execute_reply": "2021-10-03T09:03:40.886004Z"
    },
    "papermill": {
     "duration": 0.02694,
     "end_time": "2021-10-03T09:03:40.886557",
     "exception": false,
     "start_time": "2021-10-03T09:03:40.859617",
     "status": "completed"
    },
    "tags": []
   },
   "outputs": [
    {
     "data": {
      "text/plain": [
       "(5000, 5000)"
      ]
     },
     "execution_count": 17,
     "metadata": {},
     "output_type": "execute_result"
    }
   ],
   "source": [
    "tmp.shape"
   ]
  },
  {
   "cell_type": "code",
   "execution_count": 18,
   "id": "2681f21b-4bc8-4452-ac6c-437694fc31d3",
   "metadata": {
    "execution": {
     "iopub.execute_input": "2021-10-03T09:03:40.942997Z",
     "iopub.status.busy": "2021-10-03T09:03:40.942349Z",
     "iopub.status.idle": "2021-10-03T09:03:40.945402Z",
     "shell.execute_reply": "2021-10-03T09:03:40.944963Z"
    },
    "papermill": {
     "duration": 0.039736,
     "end_time": "2021-10-03T09:03:40.945498",
     "exception": false,
     "start_time": "2021-10-03T09:03:40.905762",
     "status": "completed"
    },
    "tags": []
   },
   "outputs": [
    {
     "data": {
      "text/html": [
       "<div>\n",
       "<style scoped>\n",
       "    .dataframe tbody tr th:only-of-type {\n",
       "        vertical-align: middle;\n",
       "    }\n",
       "\n",
       "    .dataframe tbody tr th {\n",
       "        vertical-align: top;\n",
       "    }\n",
       "\n",
       "    .dataframe thead th {\n",
       "        text-align: right;\n",
       "    }\n",
       "</style>\n",
       "<table border=\"1\" class=\"dataframe\">\n",
       "  <thead>\n",
       "    <tr style=\"text-align: right;\">\n",
       "      <th>gene_ens_id</th>\n",
       "      <th>ENSG00000129824.15</th>\n",
       "      <th>ENSG00000149968.11</th>\n",
       "      <th>ENSG00000134184.12</th>\n",
       "      <th>ENSG00000224114.1</th>\n",
       "      <th>ENSG00000173432.10</th>\n",
       "      <th>ENSG00000067048.16</th>\n",
       "      <th>ENSG00000229807.10</th>\n",
       "      <th>ENSG00000012817.15</th>\n",
       "      <th>ENSG00000134339.8</th>\n",
       "      <th>ENSG00000175084.11</th>\n",
       "      <th>...</th>\n",
       "      <th>ENSG00000197467.13</th>\n",
       "      <th>ENSG00000279807.1</th>\n",
       "      <th>ENSG00000107742.12</th>\n",
       "      <th>ENSG00000176454.13</th>\n",
       "      <th>ENSG00000212206.1</th>\n",
       "      <th>ENSG00000104611.11</th>\n",
       "      <th>ENSG00000181800.5</th>\n",
       "      <th>ENSG00000171049.8</th>\n",
       "      <th>ENSG00000257671.1</th>\n",
       "      <th>ENSG00000180448.10</th>\n",
       "    </tr>\n",
       "    <tr>\n",
       "      <th>gene_ens_id</th>\n",
       "      <th></th>\n",
       "      <th></th>\n",
       "      <th></th>\n",
       "      <th></th>\n",
       "      <th></th>\n",
       "      <th></th>\n",
       "      <th></th>\n",
       "      <th></th>\n",
       "      <th></th>\n",
       "      <th></th>\n",
       "      <th></th>\n",
       "      <th></th>\n",
       "      <th></th>\n",
       "      <th></th>\n",
       "      <th></th>\n",
       "      <th></th>\n",
       "      <th></th>\n",
       "      <th></th>\n",
       "      <th></th>\n",
       "      <th></th>\n",
       "      <th></th>\n",
       "    </tr>\n",
       "  </thead>\n",
       "  <tbody>\n",
       "    <tr>\n",
       "      <th>ENSG00000129824.15</th>\n",
       "      <td>1.000000</td>\n",
       "      <td>0.092378</td>\n",
       "      <td>-0.001128</td>\n",
       "      <td>-0.000690</td>\n",
       "      <td>0.105775</td>\n",
       "      <td>0.308716</td>\n",
       "      <td>0.216031</td>\n",
       "      <td>0.339720</td>\n",
       "      <td>0.117969</td>\n",
       "      <td>0.037587</td>\n",
       "      <td>...</td>\n",
       "      <td>0.000677</td>\n",
       "      <td>-0.000089</td>\n",
       "      <td>0.011996</td>\n",
       "      <td>0.045078</td>\n",
       "      <td>0.003958</td>\n",
       "      <td>0.000968</td>\n",
       "      <td>0.003101</td>\n",
       "      <td>0.001606</td>\n",
       "      <td>-0.001511</td>\n",
       "      <td>0.002317</td>\n",
       "    </tr>\n",
       "    <tr>\n",
       "      <th>ENSG00000149968.11</th>\n",
       "      <td>0.092378</td>\n",
       "      <td>1.000000</td>\n",
       "      <td>0.000403</td>\n",
       "      <td>0.001278</td>\n",
       "      <td>-0.000508</td>\n",
       "      <td>0.036402</td>\n",
       "      <td>0.063560</td>\n",
       "      <td>0.062029</td>\n",
       "      <td>0.004887</td>\n",
       "      <td>0.005379</td>\n",
       "      <td>...</td>\n",
       "      <td>0.041250</td>\n",
       "      <td>0.023606</td>\n",
       "      <td>0.002317</td>\n",
       "      <td>0.014949</td>\n",
       "      <td>0.023606</td>\n",
       "      <td>-0.001237</td>\n",
       "      <td>0.019925</td>\n",
       "      <td>0.012707</td>\n",
       "      <td>0.030752</td>\n",
       "      <td>-0.000508</td>\n",
       "    </tr>\n",
       "    <tr>\n",
       "      <th>ENSG00000134184.12</th>\n",
       "      <td>-0.001128</td>\n",
       "      <td>0.000403</td>\n",
       "      <td>1.000000</td>\n",
       "      <td>-0.000508</td>\n",
       "      <td>-0.001328</td>\n",
       "      <td>-0.001000</td>\n",
       "      <td>-0.001328</td>\n",
       "      <td>-0.001456</td>\n",
       "      <td>-0.001128</td>\n",
       "      <td>-0.000089</td>\n",
       "      <td>...</td>\n",
       "      <td>0.006418</td>\n",
       "      <td>-0.001000</td>\n",
       "      <td>-0.001401</td>\n",
       "      <td>0.003520</td>\n",
       "      <td>-0.000089</td>\n",
       "      <td>0.000677</td>\n",
       "      <td>0.001606</td>\n",
       "      <td>0.004887</td>\n",
       "      <td>-0.001511</td>\n",
       "      <td>-0.001492</td>\n",
       "    </tr>\n",
       "    <tr>\n",
       "      <th>ENSG00000224114.1</th>\n",
       "      <td>-0.000690</td>\n",
       "      <td>0.001278</td>\n",
       "      <td>-0.000508</td>\n",
       "      <td>1.000000</td>\n",
       "      <td>-0.000690</td>\n",
       "      <td>-0.001000</td>\n",
       "      <td>-0.001511</td>\n",
       "      <td>-0.001237</td>\n",
       "      <td>-0.001000</td>\n",
       "      <td>-0.000854</td>\n",
       "      <td>...</td>\n",
       "      <td>0.003101</td>\n",
       "      <td>-0.000308</td>\n",
       "      <td>-0.001237</td>\n",
       "      <td>-0.001237</td>\n",
       "      <td>-0.000854</td>\n",
       "      <td>-0.001401</td>\n",
       "      <td>-0.001237</td>\n",
       "      <td>0.001278</td>\n",
       "      <td>-0.001237</td>\n",
       "      <td>-0.000854</td>\n",
       "    </tr>\n",
       "    <tr>\n",
       "      <th>ENSG00000173432.10</th>\n",
       "      <td>0.105775</td>\n",
       "      <td>-0.000508</td>\n",
       "      <td>-0.001328</td>\n",
       "      <td>-0.000690</td>\n",
       "      <td>1.000000</td>\n",
       "      <td>0.107761</td>\n",
       "      <td>0.065110</td>\n",
       "      <td>0.105775</td>\n",
       "      <td>0.815978</td>\n",
       "      <td>0.046390</td>\n",
       "      <td>...</td>\n",
       "      <td>0.046390</td>\n",
       "      <td>-0.001511</td>\n",
       "      <td>0.040011</td>\n",
       "      <td>0.126462</td>\n",
       "      <td>-0.001492</td>\n",
       "      <td>0.015732</td>\n",
       "      <td>0.004413</td>\n",
       "      <td>0.024573</td>\n",
       "      <td>-0.001456</td>\n",
       "      <td>0.001278</td>\n",
       "    </tr>\n",
       "  </tbody>\n",
       "</table>\n",
       "<p>5 rows × 5000 columns</p>\n",
       "</div>"
      ],
      "text/plain": [
       "gene_ens_id         ENSG00000129824.15  ENSG00000149968.11  \\\n",
       "gene_ens_id                                                  \n",
       "ENSG00000129824.15            1.000000            0.092378   \n",
       "ENSG00000149968.11            0.092378            1.000000   \n",
       "ENSG00000134184.12           -0.001128            0.000403   \n",
       "ENSG00000224114.1            -0.000690            0.001278   \n",
       "ENSG00000173432.10            0.105775           -0.000508   \n",
       "\n",
       "gene_ens_id         ENSG00000134184.12  ENSG00000224114.1  ENSG00000173432.10  \\\n",
       "gene_ens_id                                                                     \n",
       "ENSG00000129824.15           -0.001128          -0.000690            0.105775   \n",
       "ENSG00000149968.11            0.000403           0.001278           -0.000508   \n",
       "ENSG00000134184.12            1.000000          -0.000508           -0.001328   \n",
       "ENSG00000224114.1            -0.000508           1.000000           -0.000690   \n",
       "ENSG00000173432.10           -0.001328          -0.000690            1.000000   \n",
       "\n",
       "gene_ens_id         ENSG00000067048.16  ENSG00000229807.10  \\\n",
       "gene_ens_id                                                  \n",
       "ENSG00000129824.15            0.308716            0.216031   \n",
       "ENSG00000149968.11            0.036402            0.063560   \n",
       "ENSG00000134184.12           -0.001000           -0.001328   \n",
       "ENSG00000224114.1            -0.001000           -0.001511   \n",
       "ENSG00000173432.10            0.107761            0.065110   \n",
       "\n",
       "gene_ens_id         ENSG00000012817.15  ENSG00000134339.8  ENSG00000175084.11  \\\n",
       "gene_ens_id                                                                     \n",
       "ENSG00000129824.15            0.339720           0.117969            0.037587   \n",
       "ENSG00000149968.11            0.062029           0.004887            0.005379   \n",
       "ENSG00000134184.12           -0.001456          -0.001128           -0.000089   \n",
       "ENSG00000224114.1            -0.001237          -0.001000           -0.000854   \n",
       "ENSG00000173432.10            0.105775           0.815978            0.046390   \n",
       "\n",
       "gene_ens_id         ...  ENSG00000197467.13  ENSG00000279807.1  \\\n",
       "gene_ens_id         ...                                          \n",
       "ENSG00000129824.15  ...            0.000677          -0.000089   \n",
       "ENSG00000149968.11  ...            0.041250           0.023606   \n",
       "ENSG00000134184.12  ...            0.006418          -0.001000   \n",
       "ENSG00000224114.1   ...            0.003101          -0.000308   \n",
       "ENSG00000173432.10  ...            0.046390          -0.001511   \n",
       "\n",
       "gene_ens_id         ENSG00000107742.12  ENSG00000176454.13  ENSG00000212206.1  \\\n",
       "gene_ens_id                                                                     \n",
       "ENSG00000129824.15            0.011996            0.045078           0.003958   \n",
       "ENSG00000149968.11            0.002317            0.014949           0.023606   \n",
       "ENSG00000134184.12           -0.001401            0.003520          -0.000089   \n",
       "ENSG00000224114.1            -0.001237           -0.001237          -0.000854   \n",
       "ENSG00000173432.10            0.040011            0.126462          -0.001492   \n",
       "\n",
       "gene_ens_id         ENSG00000104611.11  ENSG00000181800.5  ENSG00000171049.8  \\\n",
       "gene_ens_id                                                                    \n",
       "ENSG00000129824.15            0.000968           0.003101           0.001606   \n",
       "ENSG00000149968.11           -0.001237           0.019925           0.012707   \n",
       "ENSG00000134184.12            0.000677           0.001606           0.004887   \n",
       "ENSG00000224114.1            -0.001401          -0.001237           0.001278   \n",
       "ENSG00000173432.10            0.015732           0.004413           0.024573   \n",
       "\n",
       "gene_ens_id         ENSG00000257671.1  ENSG00000180448.10  \n",
       "gene_ens_id                                                \n",
       "ENSG00000129824.15          -0.001511            0.002317  \n",
       "ENSG00000149968.11           0.030752           -0.000508  \n",
       "ENSG00000134184.12          -0.001511           -0.001492  \n",
       "ENSG00000224114.1           -0.001237           -0.000854  \n",
       "ENSG00000173432.10          -0.001456            0.001278  \n",
       "\n",
       "[5 rows x 5000 columns]"
      ]
     },
     "execution_count": 18,
     "metadata": {},
     "output_type": "execute_result"
    }
   ],
   "source": [
    "tmp.head()"
   ]
  },
  {
   "cell_type": "markdown",
   "id": "51d7a057-e0d3-4495-a53b-52b4a38f2a94",
   "metadata": {
    "papermill": {
     "duration": 0.019483,
     "end_time": "2021-10-03T09:03:40.985003",
     "exception": false,
     "start_time": "2021-10-03T09:03:40.965520",
     "status": "completed"
    },
    "tags": []
   },
   "source": [
    "### Convert Ensembl Gene IDs to Entrez IDs"
   ]
  },
  {
   "cell_type": "code",
   "execution_count": 19,
   "id": "ca0ed202-4c3d-403e-8ad0-797df5939386",
   "metadata": {
    "execution": {
     "iopub.execute_input": "2021-10-03T09:03:41.027912Z",
     "iopub.status.busy": "2021-10-03T09:03:41.027316Z",
     "iopub.status.idle": "2021-10-03T09:03:41.030353Z",
     "shell.execute_reply": "2021-10-03T09:03:41.029964Z"
    },
    "papermill": {
     "duration": 0.026038,
     "end_time": "2021-10-03T09:03:41.030451",
     "exception": false,
     "start_time": "2021-10-03T09:03:41.004413",
     "status": "completed"
    },
    "tags": []
   },
   "outputs": [
    {
     "data": {
      "text/plain": [
       "PosixPath('/opt/data/data/gtex_v8/gtex_entrez_gene_ids_mappings.pkl')"
      ]
     },
     "metadata": {},
     "output_type": "display_data"
    }
   ],
   "source": [
    "input_filename = conf.GTEX[\"DATA_DIR\"] / \"gtex_entrez_gene_ids_mappings.pkl\"\n",
    "display(input_filename)\n",
    "assert input_filename.exists()"
   ]
  },
  {
   "cell_type": "code",
   "execution_count": 20,
   "id": "a7d2f391-f925-447a-b4b1-f60bc4653daa",
   "metadata": {
    "execution": {
     "iopub.execute_input": "2021-10-03T09:03:41.075212Z",
     "iopub.status.busy": "2021-10-03T09:03:41.074108Z",
     "iopub.status.idle": "2021-10-03T09:03:41.088726Z",
     "shell.execute_reply": "2021-10-03T09:03:41.088258Z"
    },
    "papermill": {
     "duration": 0.037293,
     "end_time": "2021-10-03T09:03:41.088828",
     "exception": false,
     "start_time": "2021-10-03T09:03:41.051535",
     "status": "completed"
    },
    "tags": []
   },
   "outputs": [],
   "source": [
    "gene_ids_mappings = pd.read_pickle(input_filename)"
   ]
  },
  {
   "cell_type": "code",
   "execution_count": 21,
   "id": "b2910fe8-7f7b-4b87-bfbe-d3642f3410b9",
   "metadata": {
    "execution": {
     "iopub.execute_input": "2021-10-03T09:03:41.133426Z",
     "iopub.status.busy": "2021-10-03T09:03:41.132904Z",
     "iopub.status.idle": "2021-10-03T09:03:41.135193Z",
     "shell.execute_reply": "2021-10-03T09:03:41.135560Z"
    },
    "papermill": {
     "duration": 0.026003,
     "end_time": "2021-10-03T09:03:41.135676",
     "exception": false,
     "start_time": "2021-10-03T09:03:41.109673",
     "status": "completed"
    },
    "tags": []
   },
   "outputs": [
    {
     "data": {
      "text/plain": [
       "(34527, 3)"
      ]
     },
     "execution_count": 21,
     "metadata": {},
     "output_type": "execute_result"
    }
   ],
   "source": [
    "gene_ids_mappings.shape"
   ]
  },
  {
   "cell_type": "code",
   "execution_count": 22,
   "id": "dced4328-14c8-40d7-a479-fcd83eb7bb60",
   "metadata": {
    "execution": {
     "iopub.execute_input": "2021-10-03T09:03:41.184599Z",
     "iopub.status.busy": "2021-10-03T09:03:41.184001Z",
     "iopub.status.idle": "2021-10-03T09:03:41.186424Z",
     "shell.execute_reply": "2021-10-03T09:03:41.186794Z"
    },
    "papermill": {
     "duration": 0.029936,
     "end_time": "2021-10-03T09:03:41.186912",
     "exception": false,
     "start_time": "2021-10-03T09:03:41.156976",
     "status": "completed"
    },
    "tags": []
   },
   "outputs": [
    {
     "data": {
      "text/html": [
       "<div>\n",
       "<style scoped>\n",
       "    .dataframe tbody tr th:only-of-type {\n",
       "        vertical-align: middle;\n",
       "    }\n",
       "\n",
       "    .dataframe tbody tr th {\n",
       "        vertical-align: top;\n",
       "    }\n",
       "\n",
       "    .dataframe thead th {\n",
       "        text-align: right;\n",
       "    }\n",
       "</style>\n",
       "<table border=\"1\" class=\"dataframe\">\n",
       "  <thead>\n",
       "    <tr style=\"text-align: right;\">\n",
       "      <th></th>\n",
       "      <th>gene_ens_id_v</th>\n",
       "      <th>ensembl_id</th>\n",
       "      <th>entrez_id</th>\n",
       "    </tr>\n",
       "  </thead>\n",
       "  <tbody>\n",
       "    <tr>\n",
       "      <th>0</th>\n",
       "      <td>ENSG00000145309.5</td>\n",
       "      <td>ENSG00000145309</td>\n",
       "      <td>85438</td>\n",
       "    </tr>\n",
       "    <tr>\n",
       "      <th>1</th>\n",
       "      <td>ENSG00000175820.3</td>\n",
       "      <td>ENSG00000175820</td>\n",
       "      <td>643677</td>\n",
       "    </tr>\n",
       "    <tr>\n",
       "      <th>2</th>\n",
       "      <td>ENSG00000083454.21</td>\n",
       "      <td>ENSG00000083454</td>\n",
       "      <td>5026</td>\n",
       "    </tr>\n",
       "    <tr>\n",
       "      <th>3</th>\n",
       "      <td>ENSG00000071794.15</td>\n",
       "      <td>ENSG00000071794</td>\n",
       "      <td>6596</td>\n",
       "    </tr>\n",
       "    <tr>\n",
       "      <th>4</th>\n",
       "      <td>ENSG00000211918.1</td>\n",
       "      <td>ENSG00000211918</td>\n",
       "      <td>28503</td>\n",
       "    </tr>\n",
       "  </tbody>\n",
       "</table>\n",
       "</div>"
      ],
      "text/plain": [
       "        gene_ens_id_v       ensembl_id entrez_id\n",
       "0   ENSG00000145309.5  ENSG00000145309     85438\n",
       "1   ENSG00000175820.3  ENSG00000175820    643677\n",
       "2  ENSG00000083454.21  ENSG00000083454      5026\n",
       "3  ENSG00000071794.15  ENSG00000071794      6596\n",
       "4   ENSG00000211918.1  ENSG00000211918     28503"
      ]
     },
     "execution_count": 22,
     "metadata": {},
     "output_type": "execute_result"
    }
   ],
   "source": [
    "gene_ids_mappings.head()"
   ]
  },
  {
   "cell_type": "code",
   "execution_count": 23,
   "id": "2dc964bf-d535-4021-b001-a2d0a334985f",
   "metadata": {
    "execution": {
     "iopub.execute_input": "2021-10-03T09:03:41.264095Z",
     "iopub.status.busy": "2021-10-03T09:03:41.249734Z",
     "iopub.status.idle": "2021-10-03T09:03:41.266196Z",
     "shell.execute_reply": "2021-10-03T09:03:41.265666Z"
    },
    "papermill": {
     "duration": 0.057911,
     "end_time": "2021-10-03T09:03:41.266311",
     "exception": false,
     "start_time": "2021-10-03T09:03:41.208400",
     "status": "completed"
    },
    "tags": []
   },
   "outputs": [],
   "source": [
    "gene_id_maps = gene_ids_mappings.set_index(\"gene_ens_id_v\")[\"entrez_id\"].to_dict()"
   ]
  },
  {
   "cell_type": "code",
   "execution_count": 24,
   "id": "838abb9e-19f4-423a-a013-14e56fff6de6",
   "metadata": {
    "execution": {
     "iopub.execute_input": "2021-10-03T09:03:41.319618Z",
     "iopub.status.busy": "2021-10-03T09:03:41.319011Z",
     "iopub.status.idle": "2021-10-03T09:03:41.321925Z",
     "shell.execute_reply": "2021-10-03T09:03:41.322334Z"
    },
    "papermill": {
     "duration": 0.031714,
     "end_time": "2021-10-03T09:03:41.322450",
     "exception": false,
     "start_time": "2021-10-03T09:03:41.290736",
     "status": "completed"
    },
    "tags": []
   },
   "outputs": [
    {
     "data": {
      "text/plain": [
       "{'ENSG00000145309.5': '85438', 'ENSG00000175820.3': '643677'}"
      ]
     },
     "execution_count": 24,
     "metadata": {},
     "output_type": "execute_result"
    }
   ],
   "source": [
    "dict(list(gene_id_maps.items())[0:2])"
   ]
  },
  {
   "cell_type": "code",
   "execution_count": 25,
   "id": "e32ce280-f0cc-4932-8cbb-89e5c5d0430e",
   "metadata": {
    "execution": {
     "iopub.execute_input": "2021-10-03T09:03:41.371098Z",
     "iopub.status.busy": "2021-10-03T09:03:41.370578Z",
     "iopub.status.idle": "2021-10-03T09:03:41.374753Z",
     "shell.execute_reply": "2021-10-03T09:03:41.374283Z"
    },
    "papermill": {
     "duration": 0.031114,
     "end_time": "2021-10-03T09:03:41.374857",
     "exception": false,
     "start_time": "2021-10-03T09:03:41.343743",
     "status": "completed"
    },
    "tags": []
   },
   "outputs": [
    {
     "data": {
      "text/plain": [
       "4201"
      ]
     },
     "metadata": {},
     "output_type": "display_data"
    },
    {
     "data": {
      "text/plain": [
       "['6192', '4314', '2944', '100271063', '6288']"
      ]
     },
     "metadata": {},
     "output_type": "display_data"
    }
   ],
   "source": [
    "# is map from ensembl to entrez unique?\n",
    "_tmp_index = [gene_id_maps[x] for x in tmp.index if x in gene_id_maps]\n",
    "display(len(_tmp_index))\n",
    "display(_tmp_index[:5])"
   ]
  },
  {
   "cell_type": "markdown",
   "id": "ecf4a22e-e93b-48a2-a82f-4a54b7472abf",
   "metadata": {
    "papermill": {
     "duration": 0.021869,
     "end_time": "2021-10-03T09:03:41.419107",
     "exception": false,
     "start_time": "2021-10-03T09:03:41.397238",
     "status": "completed"
    },
    "tags": []
   },
   "source": [
    "# Run"
   ]
  },
  {
   "cell_type": "code",
   "execution_count": 26,
   "id": "fe0e2ed7-42bc-446e-98d5-76f31217c1df",
   "metadata": {
    "execution": {
     "iopub.execute_input": "2021-10-03T09:03:41.466794Z",
     "iopub.status.busy": "2021-10-03T09:03:41.464997Z",
     "iopub.status.idle": "2021-10-03T09:03:41.470043Z",
     "shell.execute_reply": "2021-10-03T09:03:41.470402Z"
    },
    "papermill": {
     "duration": 0.029571,
     "end_time": "2021-10-03T09:03:41.470519",
     "exception": false,
     "start_time": "2021-10-03T09:03:41.440948",
     "status": "completed"
    },
    "tags": []
   },
   "outputs": [
    {
     "data": {
      "text/plain": [
       "25"
      ]
     },
     "metadata": {},
     "output_type": "display_data"
    }
   ],
   "source": [
    "n_partitions_per_file = pd.read_pickle(input_files[0]).shape[0]\n",
    "display(n_partitions_per_file)"
   ]
  },
  {
   "cell_type": "code",
   "execution_count": 27,
   "id": "754836bb-3b1c-4259-882b-07dfa793c13a",
   "metadata": {
    "execution": {
     "iopub.execute_input": "2021-10-03T09:03:41.527062Z",
     "iopub.status.busy": "2021-10-03T09:03:41.526456Z",
     "iopub.status.idle": "2021-10-03T09:08:33.897938Z",
     "shell.execute_reply": "2021-10-03T09:08:33.897371Z"
    },
    "papermill": {
     "duration": 292.404787,
     "end_time": "2021-10-03T09:08:33.898059",
     "exception": false,
     "start_time": "2021-10-03T09:03:41.493272",
     "status": "completed"
    },
    "tags": []
   },
   "outputs": [
    {
     "data": {
      "text/plain": [
       "'number of tasks: 125'"
      ]
     },
     "metadata": {},
     "output_type": "display_data"
    },
    {
     "name": "stderr",
     "output_type": "stream",
     "text": [
      "whole_blood/var_pc_log2/saving: 100%|█████████████████████████████| 125/125 [04:52<00:00,  2.34s/it]\n"
     ]
    }
   ],
   "source": [
    "# the number of tasks is the number of input files times number of partitions per file\n",
    "n_tasks = len(input_files) * n_partitions_per_file\n",
    "n_tasks = int(n_tasks)\n",
    "display(f\"number of tasks: {n_tasks}\")\n",
    "\n",
    "with ProcessPoolExecutor(max_workers=conf.GENERAL[\"N_JOBS\"]) as executor, tqdm(\n",
    "    total=n_tasks, ncols=100\n",
    ") as pbar:\n",
    "    for clustering_filepath in input_files:\n",
    "        # extract from input clustering filename some sections, such as tissue name, etc\n",
    "        m = re.search(filename_pattern, str(clustering_filepath.name))\n",
    "\n",
    "        tissue = m.group(\"tissue\")\n",
    "        gene_sel_strategy = m.group(\"gene_sel_strategy\")\n",
    "        corr_method = m.group(\"corr_method\")\n",
    "\n",
    "        # update pbar description\n",
    "        pbar.set_description(f\"{tissue}/{gene_sel_strategy}\")\n",
    "        #         pbar.set_description(f\"{corr_method}\")\n",
    "\n",
    "        # create output filepath template\n",
    "        full_output_filename_template = (\n",
    "            f\"{clustering_filepath.stem}-{ENRICH_FUNCTION}-{ENRICH_PARAMS}.pkl\"\n",
    "        )\n",
    "\n",
    "        # read clustering results\n",
    "        clustering_df = pd.read_pickle(clustering_filepath)\n",
    "\n",
    "        # get partitions' numbers\n",
    "        tmp_partition = clustering_df.iloc[0].partition\n",
    "        n_genes = tmp_partition.shape[0]\n",
    "        n_clusters = np.unique(tmp_partition).shape[0]\n",
    "\n",
    "        # use those sections to read the list of genes from the input data\n",
    "        # file that the clustering algorithm received\n",
    "        similarity_matrix_filename = SIMILARITY_MATRIX_FILENAME_TEMPLATE.format(\n",
    "            tissue=tissue,\n",
    "            gene_sel_strategy=gene_sel_strategy,\n",
    "            corr_method=corr_method.split(\"_\")[0]\n",
    "            if not corr_method.startswith(\"clustermatch\")\n",
    "            else corr_method,\n",
    "        )\n",
    "\n",
    "        # get the universe of genes\n",
    "        all_gene_ens_ids = pd.read_pickle(\n",
    "            SIMILARITY_MATRICES_DIR / similarity_matrix_filename\n",
    "        ).index.tolist()\n",
    "\n",
    "        # convert gene ensembl ids to entrez and create clustering partition mask\n",
    "        partition_mask = []\n",
    "        all_gene_ids = []\n",
    "        entrez_ids_added = set()  # this is faster\n",
    "\n",
    "        for x in all_gene_ens_ids:\n",
    "            if x not in gene_id_maps:\n",
    "                partition_mask.append(False)\n",
    "                continue\n",
    "\n",
    "            new_entrez_id = gene_id_maps[x]\n",
    "\n",
    "            # TODO: maybe this avoiding of repeated gene ids is not necessary?\n",
    "            # do not add repeated ids\n",
    "            if new_entrez_id in entrez_ids_added:\n",
    "                partition_mask.append(False)\n",
    "                continue\n",
    "\n",
    "            all_gene_ids.append(new_entrez_id)\n",
    "            entrez_ids_added.add(new_entrez_id)\n",
    "            partition_mask.append(True)\n",
    "\n",
    "        partition_mask = np.array(partition_mask, dtype=bool)\n",
    "        all_gene_ids = np.array(all_gene_ids)\n",
    "        assert np.unique(all_gene_ids).shape[0] == all_gene_ids.shape[0]\n",
    "        assert all_gene_ids.shape[0] == np.sum(partition_mask)\n",
    "\n",
    "        # iterate over clustering solutions (partitions) and GO ontologies\n",
    "        futures = [\n",
    "            executor.submit(\n",
    "                run_enrich,\n",
    "                all_gene_ids,\n",
    "                \"ENTREZID\",\n",
    "                cr.partition[partition_mask],\n",
    "                ENRICH_FUNCTION,\n",
    "                ENRICH_PARAMS,\n",
    "            )\n",
    "            for cr_idx, cr in clustering_df.sort_values(\"n_clusters\").iterrows()\n",
    "        ]\n",
    "\n",
    "        # collect results\n",
    "        results_full = []\n",
    "\n",
    "        for task in as_completed(futures):\n",
    "            task_results = task.result()\n",
    "\n",
    "            # continue if no enrichment found\n",
    "            if task_results is None:\n",
    "                pbar.update(1)\n",
    "                continue\n",
    "\n",
    "            results_full.append(task_results[0])\n",
    "\n",
    "            pbar.update(1)\n",
    "\n",
    "        if len(results_full) == 0:\n",
    "            # no significant results, continue\n",
    "            continue\n",
    "\n",
    "        # merge and serve\n",
    "        pbar.set_description(f\"{tissue}/{gene_sel_strategy}/saving\")\n",
    "\n",
    "        # full\n",
    "        results_full_df = pd.concat(results_full, ignore_index=True).sort_values(\n",
    "            [\"n_clusters\", \"pvalue_adjust\"]\n",
    "        )\n",
    "\n",
    "        results_full_df.to_pickle(\n",
    "            OUTPUT_DIR\n",
    "            / f\"{clustering_filepath.stem}-{ENRICH_FUNCTION}-{ENRICH_PARAMS}.pkl\",\n",
    "        )"
   ]
  },
  {
   "cell_type": "code",
   "execution_count": null,
   "id": "complimentary-gathering",
   "metadata": {
    "papermill": {
     "duration": 0.0501,
     "end_time": "2021-10-03T09:08:34.004133",
     "exception": false,
     "start_time": "2021-10-03T09:08:33.954033",
     "status": "completed"
    },
    "tags": []
   },
   "outputs": [],
   "source": []
  }
 ],
 "metadata": {
  "jupytext": {
   "cell_metadata_filter": "all,-execution,-papermill,-trusted"
  },
  "kernelspec": {
   "display_name": "Python 3 (ipykernel)",
   "language": "python",
   "name": "python3"
  },
  "language_info": {
   "codemirror_mode": {
    "name": "ipython",
    "version": 3
   },
   "file_extension": ".py",
   "mimetype": "text/x-python",
   "name": "python",
   "nbconvert_exporter": "python",
   "pygments_lexer": "ipython3",
   "version": "3.9.7"
  },
  "papermill": {
   "default_parameters": {},
   "duration": 295.913574,
   "end_time": "2021-10-03T09:08:34.261057",
   "environment_variables": {},
   "exception": null,
   "input_path": "nbs/20_gene_set_enrichment/05_gtex_v8/07_03-gtex-clustermatch_k2-enrichKEGG.ipynb",
   "output_path": "nbs/20_gene_set_enrichment/05_gtex_v8/07_03-gtex-clustermatch_k2-enrichKEGG.run.ipynb",
   "parameters": {},
   "start_time": "2021-10-03T09:03:38.347483",
   "version": "2.3.2"
  },
  "toc-autonumbering": true
 },
 "nbformat": 4,
 "nbformat_minor": 5
}
