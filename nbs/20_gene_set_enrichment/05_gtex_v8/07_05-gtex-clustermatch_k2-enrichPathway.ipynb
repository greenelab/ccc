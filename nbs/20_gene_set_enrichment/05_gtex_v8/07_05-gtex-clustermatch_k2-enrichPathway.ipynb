{
 "cells": [
  {
   "cell_type": "markdown",
   "id": "dfa1ba1b-d517-4a57-8db0-103ab5bd0a0d",
   "metadata": {
    "papermill": {
     "duration": 0.104679,
     "end_time": "2021-10-04T16:35:16.881475",
     "exception": false,
     "start_time": "2021-10-04T16:35:16.776796",
     "status": "completed"
    },
    "tags": []
   },
   "source": [
    "# Description"
   ]
  },
  {
   "cell_type": "markdown",
   "id": "8944732c-37a0-4af1-b9c1-86c0c2776126",
   "metadata": {
    "papermill": {
     "duration": 0.066458,
     "end_time": "2021-10-04T16:35:17.013890",
     "exception": false,
     "start_time": "2021-10-04T16:35:16.947432",
     "status": "completed"
    },
    "tags": []
   },
   "source": [
    "TODO/UPDATE: It computes gene enrichment on *all* the clustering results obtained using some correlation measure on GTEx v8 (specified under `Settings` below)."
   ]
  },
  {
   "cell_type": "markdown",
   "id": "3334aeb5-41a5-4331-9c28-34ec8f755e98",
   "metadata": {
    "papermill": {
     "duration": 0.06638,
     "end_time": "2021-10-04T16:35:17.152279",
     "exception": false,
     "start_time": "2021-10-04T16:35:17.085899",
     "status": "completed"
    },
    "tags": []
   },
   "source": [
    "# Modules loading"
   ]
  },
  {
   "cell_type": "code",
   "execution_count": 1,
   "id": "2c8cf869-a063-4731-bb75-acc121975426",
   "metadata": {
    "execution": {
     "iopub.execute_input": "2021-10-04T16:35:17.292577Z",
     "iopub.status.busy": "2021-10-04T16:35:17.292112Z",
     "iopub.status.idle": "2021-10-04T16:35:17.528958Z",
     "shell.execute_reply": "2021-10-04T16:35:17.528479Z"
    },
    "papermill": {
     "duration": 0.311241,
     "end_time": "2021-10-04T16:35:17.529074",
     "exception": false,
     "start_time": "2021-10-04T16:35:17.217833",
     "status": "completed"
    },
    "tags": []
   },
   "outputs": [],
   "source": [
    "import re\n",
    "from collections import defaultdict\n",
    "from concurrent.futures import ProcessPoolExecutor, as_completed\n",
    "\n",
    "import numpy as np\n",
    "import pandas as pd\n",
    "from tqdm import tqdm\n",
    "\n",
    "from clustermatch import conf\n",
    "from clustermatch.gene_enrich import run_enrich"
   ]
  },
  {
   "cell_type": "markdown",
   "id": "21f26cf2-d399-470f-94c3-e26dd5b4337d",
   "metadata": {
    "papermill": {
     "duration": 0.06637,
     "end_time": "2021-10-04T16:35:17.662621",
     "exception": false,
     "start_time": "2021-10-04T16:35:17.596251",
     "status": "completed"
    },
    "tags": []
   },
   "source": [
    "# Settings"
   ]
  },
  {
   "cell_type": "code",
   "execution_count": 2,
   "id": "ba4b9af6-32b3-434c-89d6-20d47f52620e",
   "metadata": {
    "execution": {
     "iopub.execute_input": "2021-10-04T16:35:17.798408Z",
     "iopub.status.busy": "2021-10-04T16:35:17.797932Z",
     "iopub.status.idle": "2021-10-04T16:35:17.799612Z",
     "shell.execute_reply": "2021-10-04T16:35:17.799977Z"
    },
    "papermill": {
     "duration": 0.071031,
     "end_time": "2021-10-04T16:35:17.800092",
     "exception": false,
     "start_time": "2021-10-04T16:35:17.729061",
     "status": "completed"
    },
    "tags": []
   },
   "outputs": [],
   "source": [
    "DATASET_CONFIG = conf.GTEX"
   ]
  },
  {
   "cell_type": "code",
   "execution_count": 3,
   "id": "16b1fa39-d18c-4a87-bfcc-8d302941544d",
   "metadata": {
    "execution": {
     "iopub.execute_input": "2021-10-04T16:35:17.935986Z",
     "iopub.status.busy": "2021-10-04T16:35:17.935504Z",
     "iopub.status.idle": "2021-10-04T16:35:17.937976Z",
     "shell.execute_reply": "2021-10-04T16:35:17.937530Z"
    },
    "papermill": {
     "duration": 0.071511,
     "end_time": "2021-10-04T16:35:17.938073",
     "exception": false,
     "start_time": "2021-10-04T16:35:17.866562",
     "status": "completed"
    },
    "tags": []
   },
   "outputs": [],
   "source": [
    "CORRELATION_METHOD_NAME = \"clustermatch_k2\""
   ]
  },
  {
   "cell_type": "code",
   "execution_count": 4,
   "id": "0072fd4d-4b6f-4553-bc17-7bc3d737c7fd",
   "metadata": {
    "execution": {
     "iopub.execute_input": "2021-10-04T16:35:18.080766Z",
     "iopub.status.busy": "2021-10-04T16:35:18.080288Z",
     "iopub.status.idle": "2021-10-04T16:35:18.081754Z",
     "shell.execute_reply": "2021-10-04T16:35:18.082117Z"
    },
    "papermill": {
     "duration": 0.076852,
     "end_time": "2021-10-04T16:35:18.082234",
     "exception": false,
     "start_time": "2021-10-04T16:35:18.005382",
     "status": "completed"
    },
    "tags": []
   },
   "outputs": [],
   "source": [
    "# GENE_SELECTION_STRATEGY = \"var_pc_log2\""
   ]
  },
  {
   "cell_type": "code",
   "execution_count": 5,
   "id": "f4b75296-746d-4f4a-b33b-2b003ff9802f",
   "metadata": {
    "execution": {
     "iopub.execute_input": "2021-10-04T16:35:18.218736Z",
     "iopub.status.busy": "2021-10-04T16:35:18.218289Z",
     "iopub.status.idle": "2021-10-04T16:35:18.219970Z",
     "shell.execute_reply": "2021-10-04T16:35:18.220322Z"
    },
    "papermill": {
     "duration": 0.071493,
     "end_time": "2021-10-04T16:35:18.220433",
     "exception": false,
     "start_time": "2021-10-04T16:35:18.148940",
     "status": "completed"
    },
    "tags": []
   },
   "outputs": [],
   "source": [
    "# clusterProfiler settings\n",
    "ENRICH_FUNCTION = \"enrichPathway\"\n",
    "ENRICH_PARAMS = \"human\""
   ]
  },
  {
   "cell_type": "markdown",
   "id": "fd099196-edbb-4a17-adce-c7079a221057",
   "metadata": {
    "papermill": {
     "duration": 0.065769,
     "end_time": "2021-10-04T16:35:18.352549",
     "exception": false,
     "start_time": "2021-10-04T16:35:18.286780",
     "status": "completed"
    },
    "tags": []
   },
   "source": [
    "# Paths"
   ]
  },
  {
   "cell_type": "code",
   "execution_count": 6,
   "id": "4f2e5aa2-0428-4f1b-8af7-41fd7f8208bb",
   "metadata": {
    "execution": {
     "iopub.execute_input": "2021-10-04T16:35:18.491361Z",
     "iopub.status.busy": "2021-10-04T16:35:18.490192Z",
     "iopub.status.idle": "2021-10-04T16:35:18.494144Z",
     "shell.execute_reply": "2021-10-04T16:35:18.493756Z"
    },
    "papermill": {
     "duration": 0.076338,
     "end_time": "2021-10-04T16:35:18.494243",
     "exception": false,
     "start_time": "2021-10-04T16:35:18.417905",
     "status": "completed"
    },
    "tags": []
   },
   "outputs": [
    {
     "data": {
      "text/plain": [
       "PosixPath('/opt/data/results/gtex_v8/clustering')"
      ]
     },
     "metadata": {},
     "output_type": "display_data"
    }
   ],
   "source": [
    "INPUT_DIR = DATASET_CONFIG[\"CLUSTERING_DIR\"]\n",
    "display(INPUT_DIR)\n",
    "assert INPUT_DIR.exists()"
   ]
  },
  {
   "cell_type": "code",
   "execution_count": 7,
   "id": "28806e98",
   "metadata": {
    "execution": {
     "iopub.execute_input": "2021-10-04T16:35:18.632839Z",
     "iopub.status.busy": "2021-10-04T16:35:18.632330Z",
     "iopub.status.idle": "2021-10-04T16:35:18.634462Z",
     "shell.execute_reply": "2021-10-04T16:35:18.634819Z"
    },
    "papermill": {
     "duration": 0.072914,
     "end_time": "2021-10-04T16:35:18.634936",
     "exception": false,
     "start_time": "2021-10-04T16:35:18.562022",
     "status": "completed"
    },
    "tags": []
   },
   "outputs": [
    {
     "data": {
      "text/plain": [
       "PosixPath('/opt/data/results/gtex_v8/similarity_matrices')"
      ]
     },
     "metadata": {},
     "output_type": "display_data"
    }
   ],
   "source": [
    "# this directory has the input data given to the clustering methods\n",
    "SIMILARITY_MATRICES_DIR = DATASET_CONFIG[\"SIMILARITY_MATRICES_DIR\"]\n",
    "display(SIMILARITY_MATRICES_DIR)"
   ]
  },
  {
   "cell_type": "code",
   "execution_count": 8,
   "id": "7eff043e-9416-486b-ae13-3dcda0e45f7d",
   "metadata": {
    "execution": {
     "iopub.execute_input": "2021-10-04T16:35:18.777790Z",
     "iopub.status.busy": "2021-10-04T16:35:18.776150Z",
     "iopub.status.idle": "2021-10-04T16:35:18.780308Z",
     "shell.execute_reply": "2021-10-04T16:35:18.780650Z"
    },
    "papermill": {
     "duration": 0.076399,
     "end_time": "2021-10-04T16:35:18.780771",
     "exception": false,
     "start_time": "2021-10-04T16:35:18.704372",
     "status": "completed"
    },
    "tags": []
   },
   "outputs": [
    {
     "data": {
      "text/plain": [
       "'gtex_v8_data_{tissue}-{gene_sel_strategy}-{corr_method}.pkl'"
      ]
     },
     "metadata": {},
     "output_type": "display_data"
    }
   ],
   "source": [
    "SIMILARITY_MATRIX_FILENAME_TEMPLATE = DATASET_CONFIG[\n",
    "    \"SIMILARITY_MATRIX_FILENAME_TEMPLATE\"\n",
    "]\n",
    "display(SIMILARITY_MATRIX_FILENAME_TEMPLATE)"
   ]
  },
  {
   "cell_type": "code",
   "execution_count": 9,
   "id": "ae7489d8-c09f-43a8-b52c-a9049266f734",
   "metadata": {
    "execution": {
     "iopub.execute_input": "2021-10-04T16:35:18.926211Z",
     "iopub.status.busy": "2021-10-04T16:35:18.925590Z",
     "iopub.status.idle": "2021-10-04T16:35:18.928599Z",
     "shell.execute_reply": "2021-10-04T16:35:18.928156Z"
    },
    "papermill": {
     "duration": 0.077167,
     "end_time": "2021-10-04T16:35:18.928695",
     "exception": false,
     "start_time": "2021-10-04T16:35:18.851528",
     "status": "completed"
    },
    "tags": []
   },
   "outputs": [
    {
     "data": {
      "text/plain": [
       "PosixPath('/opt/data/results/gtex_v8/gene_set_enrichment')"
      ]
     },
     "metadata": {},
     "output_type": "display_data"
    }
   ],
   "source": [
    "OUTPUT_DIR = DATASET_CONFIG[\"GENE_ENRICHMENT_DIR\"]\n",
    "OUTPUT_DIR.mkdir(parents=True, exist_ok=True)\n",
    "display(OUTPUT_DIR)"
   ]
  },
  {
   "cell_type": "markdown",
   "id": "6e0d3fbd-1090-466c-aa2e-176f7887c4cc",
   "metadata": {
    "papermill": {
     "duration": 0.076015,
     "end_time": "2021-10-04T16:35:19.076549",
     "exception": false,
     "start_time": "2021-10-04T16:35:19.000534",
     "status": "completed"
    },
    "tags": []
   },
   "source": [
    "# Get data files"
   ]
  },
  {
   "cell_type": "code",
   "execution_count": 10,
   "id": "735c38ea-9cb9-4e5f-aa1d-32cf420c45b6",
   "metadata": {
    "execution": {
     "iopub.execute_input": "2021-10-04T16:35:19.224395Z",
     "iopub.status.busy": "2021-10-04T16:35:19.223941Z",
     "iopub.status.idle": "2021-10-04T16:35:19.226102Z",
     "shell.execute_reply": "2021-10-04T16:35:19.225715Z"
    },
    "papermill": {
     "duration": 0.077052,
     "end_time": "2021-10-04T16:35:19.226201",
     "exception": false,
     "start_time": "2021-10-04T16:35:19.149149",
     "status": "completed"
    },
    "tags": []
   },
   "outputs": [],
   "source": [
    "filename_pattern = re.compile(DATASET_CONFIG[\"CLUSTERING_FILENAME_PATTERN\"])"
   ]
  },
  {
   "cell_type": "code",
   "execution_count": 11,
   "id": "0a2c5f50-ec5c-46e8-8918-753cbc941c24",
   "metadata": {
    "execution": {
     "iopub.execute_input": "2021-10-04T16:35:19.375217Z",
     "iopub.status.busy": "2021-10-04T16:35:19.374737Z",
     "iopub.status.idle": "2021-10-04T16:35:19.379291Z",
     "shell.execute_reply": "2021-10-04T16:35:19.379651Z"
    },
    "papermill": {
     "duration": 0.08116,
     "end_time": "2021-10-04T16:35:19.379770",
     "exception": false,
     "start_time": "2021-10-04T16:35:19.298610",
     "status": "completed"
    },
    "tags": []
   },
   "outputs": [
    {
     "data": {
      "text/plain": [
       "5"
      ]
     },
     "metadata": {},
     "output_type": "display_data"
    },
    {
     "data": {
      "text/plain": [
       "[PosixPath('/opt/data/results/gtex_v8/clustering/gtex_v8_data_adipose_subcutaneous-var_pc_log2-clustermatch_k2-SpectralClustering.pkl'),\n",
       " PosixPath('/opt/data/results/gtex_v8/clustering/gtex_v8_data_artery_tibial-var_pc_log2-clustermatch_k2-SpectralClustering.pkl'),\n",
       " PosixPath('/opt/data/results/gtex_v8/clustering/gtex_v8_data_muscle_skeletal-var_pc_log2-clustermatch_k2-SpectralClustering.pkl'),\n",
       " PosixPath('/opt/data/results/gtex_v8/clustering/gtex_v8_data_skin_sun_exposed_lower_leg-var_pc_log2-clustermatch_k2-SpectralClustering.pkl'),\n",
       " PosixPath('/opt/data/results/gtex_v8/clustering/gtex_v8_data_whole_blood-var_pc_log2-clustermatch_k2-SpectralClustering.pkl')]"
      ]
     },
     "metadata": {},
     "output_type": "display_data"
    }
   ],
   "source": [
    "# get input data files according to Settings\n",
    "input_files = sorted(\n",
    "    [\n",
    "        f\n",
    "        for f in INPUT_DIR.iterdir()\n",
    "        if (m := re.search(filename_pattern, str(f))) is not None\n",
    "        and m.group(\"corr_method\") == CORRELATION_METHOD_NAME\n",
    "    ]\n",
    ")\n",
    "display(len(input_files))\n",
    "display(input_files[:5])\n",
    "\n",
    "assert len(input_files) > 0"
   ]
  },
  {
   "cell_type": "markdown",
   "id": "04fe07b3-84e7-41f9-ba5d-09139ef0f69c",
   "metadata": {
    "papermill": {
     "duration": 0.072781,
     "end_time": "2021-10-04T16:35:19.526793",
     "exception": false,
     "start_time": "2021-10-04T16:35:19.454012",
     "status": "completed"
    },
    "tags": []
   },
   "source": [
    "# Preview input data"
   ]
  },
  {
   "cell_type": "markdown",
   "id": "9580f4e4-ca5d-4551-8545-7c8a3dc13d6b",
   "metadata": {
    "papermill": {
     "duration": 0.07308,
     "end_time": "2021-10-04T16:35:19.672708",
     "exception": false,
     "start_time": "2021-10-04T16:35:19.599628",
     "status": "completed"
    },
    "tags": []
   },
   "source": [
    "## Clustering results"
   ]
  },
  {
   "cell_type": "code",
   "execution_count": 12,
   "id": "ce5ee397-714e-430c-90c4-c648cc4780bf",
   "metadata": {
    "execution": {
     "iopub.execute_input": "2021-10-04T16:35:19.822531Z",
     "iopub.status.busy": "2021-10-04T16:35:19.822098Z",
     "iopub.status.idle": "2021-10-04T16:35:19.834293Z",
     "shell.execute_reply": "2021-10-04T16:35:19.833867Z"
    },
    "papermill": {
     "duration": 0.088583,
     "end_time": "2021-10-04T16:35:19.834386",
     "exception": false,
     "start_time": "2021-10-04T16:35:19.745803",
     "status": "completed"
    },
    "tags": []
   },
   "outputs": [],
   "source": [
    "tmp = pd.read_pickle(input_files[0])"
   ]
  },
  {
   "cell_type": "code",
   "execution_count": 13,
   "id": "51ad6d88-77d9-4ff9-ba36-fcefc4454dbe",
   "metadata": {
    "execution": {
     "iopub.execute_input": "2021-10-04T16:35:19.985886Z",
     "iopub.status.busy": "2021-10-04T16:35:19.985384Z",
     "iopub.status.idle": "2021-10-04T16:35:19.987508Z",
     "shell.execute_reply": "2021-10-04T16:35:19.987912Z"
    },
    "papermill": {
     "duration": 0.080342,
     "end_time": "2021-10-04T16:35:19.988040",
     "exception": false,
     "start_time": "2021-10-04T16:35:19.907698",
     "status": "completed"
    },
    "tags": []
   },
   "outputs": [
    {
     "data": {
      "text/plain": [
       "(25, 4)"
      ]
     },
     "execution_count": 13,
     "metadata": {},
     "output_type": "execute_result"
    }
   ],
   "source": [
    "tmp.shape"
   ]
  },
  {
   "cell_type": "code",
   "execution_count": 14,
   "id": "a25a8fe5-f96f-4327-b5af-74845de69074",
   "metadata": {
    "execution": {
     "iopub.execute_input": "2021-10-04T16:35:20.152129Z",
     "iopub.status.busy": "2021-10-04T16:35:20.147230Z",
     "iopub.status.idle": "2021-10-04T16:35:20.158774Z",
     "shell.execute_reply": "2021-10-04T16:35:20.159135Z"
    },
    "papermill": {
     "duration": 0.092054,
     "end_time": "2021-10-04T16:35:20.159256",
     "exception": false,
     "start_time": "2021-10-04T16:35:20.067202",
     "status": "completed"
    },
    "tags": []
   },
   "outputs": [
    {
     "data": {
      "text/html": [
       "<div>\n",
       "<style scoped>\n",
       "    .dataframe tbody tr th:only-of-type {\n",
       "        vertical-align: middle;\n",
       "    }\n",
       "\n",
       "    .dataframe tbody tr th {\n",
       "        vertical-align: top;\n",
       "    }\n",
       "\n",
       "    .dataframe thead th {\n",
       "        text-align: right;\n",
       "    }\n",
       "</style>\n",
       "<table border=\"1\" class=\"dataframe\">\n",
       "  <thead>\n",
       "    <tr style=\"text-align: right;\">\n",
       "      <th></th>\n",
       "      <th>params</th>\n",
       "      <th>partition</th>\n",
       "      <th>n_clusters</th>\n",
       "      <th>si_score</th>\n",
       "    </tr>\n",
       "    <tr>\n",
       "      <th>id</th>\n",
       "      <th></th>\n",
       "      <th></th>\n",
       "      <th></th>\n",
       "      <th></th>\n",
       "    </tr>\n",
       "  </thead>\n",
       "  <tbody>\n",
       "    <tr>\n",
       "      <th>SpectralClustering #0</th>\n",
       "      <td>{\"affinity\": \"precomputed\", \"assign_labels\": \"...</td>\n",
       "      <td>[0, 0, 0, 0, 0, 0, 0, 0, 0, 0, 0, 0, 0, 0, 0, ...</td>\n",
       "      <td>2</td>\n",
       "      <td>0.028595</td>\n",
       "    </tr>\n",
       "    <tr>\n",
       "      <th>SpectralClustering #1</th>\n",
       "      <td>{\"affinity\": \"precomputed\", \"assign_labels\": \"...</td>\n",
       "      <td>[0, 0, 0, 0, 0, 0, 0, 0, 0, 0, 0, 0, 3, 0, 0, ...</td>\n",
       "      <td>5</td>\n",
       "      <td>0.030045</td>\n",
       "    </tr>\n",
       "    <tr>\n",
       "      <th>SpectralClustering #2</th>\n",
       "      <td>{\"affinity\": \"precomputed\", \"assign_labels\": \"...</td>\n",
       "      <td>[9, 5, 0, 5, 9, 9, 5, 9, 9, 9, 5, 5, 2, 0, 9, ...</td>\n",
       "      <td>10</td>\n",
       "      <td>0.030650</td>\n",
       "    </tr>\n",
       "    <tr>\n",
       "      <th>SpectralClustering #3</th>\n",
       "      <td>{\"affinity\": \"precomputed\", \"assign_labels\": \"...</td>\n",
       "      <td>[14, 10, 3, 1, 3, 14, 14, 14, 3, 14, 1, 12, 7,...</td>\n",
       "      <td>15</td>\n",
       "      <td>0.032396</td>\n",
       "    </tr>\n",
       "    <tr>\n",
       "      <th>SpectralClustering #4</th>\n",
       "      <td>{\"affinity\": \"precomputed\", \"assign_labels\": \"...</td>\n",
       "      <td>[10, 18, 7, 2, 7, 7, 7, 7, 7, 10, 2, 14, 11, 7...</td>\n",
       "      <td>20</td>\n",
       "      <td>0.033087</td>\n",
       "    </tr>\n",
       "  </tbody>\n",
       "</table>\n",
       "</div>"
      ],
      "text/plain": [
       "                                                                  params  \\\n",
       "id                                                                         \n",
       "SpectralClustering #0  {\"affinity\": \"precomputed\", \"assign_labels\": \"...   \n",
       "SpectralClustering #1  {\"affinity\": \"precomputed\", \"assign_labels\": \"...   \n",
       "SpectralClustering #2  {\"affinity\": \"precomputed\", \"assign_labels\": \"...   \n",
       "SpectralClustering #3  {\"affinity\": \"precomputed\", \"assign_labels\": \"...   \n",
       "SpectralClustering #4  {\"affinity\": \"precomputed\", \"assign_labels\": \"...   \n",
       "\n",
       "                                                               partition  \\\n",
       "id                                                                         \n",
       "SpectralClustering #0  [0, 0, 0, 0, 0, 0, 0, 0, 0, 0, 0, 0, 0, 0, 0, ...   \n",
       "SpectralClustering #1  [0, 0, 0, 0, 0, 0, 0, 0, 0, 0, 0, 0, 3, 0, 0, ...   \n",
       "SpectralClustering #2  [9, 5, 0, 5, 9, 9, 5, 9, 9, 9, 5, 5, 2, 0, 9, ...   \n",
       "SpectralClustering #3  [14, 10, 3, 1, 3, 14, 14, 14, 3, 14, 1, 12, 7,...   \n",
       "SpectralClustering #4  [10, 18, 7, 2, 7, 7, 7, 7, 7, 10, 2, 14, 11, 7...   \n",
       "\n",
       "                       n_clusters  si_score  \n",
       "id                                           \n",
       "SpectralClustering #0           2  0.028595  \n",
       "SpectralClustering #1           5  0.030045  \n",
       "SpectralClustering #2          10  0.030650  \n",
       "SpectralClustering #3          15  0.032396  \n",
       "SpectralClustering #4          20  0.033087  "
      ]
     },
     "execution_count": 14,
     "metadata": {},
     "output_type": "execute_result"
    }
   ],
   "source": [
    "tmp.head()"
   ]
  },
  {
   "cell_type": "markdown",
   "id": "21ee675e-15d9-442e-8e6f-87c7578e9e6c",
   "metadata": {
    "papermill": {
     "duration": 0.07423,
     "end_time": "2021-10-04T16:35:20.309851",
     "exception": false,
     "start_time": "2021-10-04T16:35:20.235621",
     "status": "completed"
    },
    "tags": []
   },
   "source": [
    "## Similarity matrices (input to clustering methods)"
   ]
  },
  {
   "cell_type": "code",
   "execution_count": 15,
   "id": "9363dc2c-6717-43ac-9448-b6019a1cd28a",
   "metadata": {
    "execution": {
     "iopub.execute_input": "2021-10-04T16:35:20.464790Z",
     "iopub.status.busy": "2021-10-04T16:35:20.464264Z",
     "iopub.status.idle": "2021-10-04T16:35:20.467182Z",
     "shell.execute_reply": "2021-10-04T16:35:20.466752Z"
    },
    "papermill": {
     "duration": 0.082571,
     "end_time": "2021-10-04T16:35:20.467277",
     "exception": false,
     "start_time": "2021-10-04T16:35:20.384706",
     "status": "completed"
    },
    "tags": []
   },
   "outputs": [
    {
     "data": {
      "text/plain": [
       "'gtex_v8_data_adipose_subcutaneous-var_pc_log2-clustermatch_k2.pkl'"
      ]
     },
     "metadata": {},
     "output_type": "display_data"
    }
   ],
   "source": [
    "similarity_matrix_filename = SIMILARITY_MATRIX_FILENAME_TEMPLATE.format(\n",
    "    tissue=\"adipose_subcutaneous\",\n",
    "    gene_sel_strategy=\"var_pc_log2\",\n",
    "    corr_method=CORRELATION_METHOD_NAME.split(\"_\")[0]\n",
    "    if not CORRELATION_METHOD_NAME.startswith(\"clustermatch\")\n",
    "    else CORRELATION_METHOD_NAME,\n",
    ")\n",
    "display(similarity_matrix_filename)"
   ]
  },
  {
   "cell_type": "code",
   "execution_count": 16,
   "id": "b1916d25-8cd2-430f-ab08-de6d80263c17",
   "metadata": {
    "execution": {
     "iopub.execute_input": "2021-10-04T16:35:20.623065Z",
     "iopub.status.busy": "2021-10-04T16:35:20.622599Z",
     "iopub.status.idle": "2021-10-04T16:35:20.765536Z",
     "shell.execute_reply": "2021-10-04T16:35:20.764948Z"
    },
    "papermill": {
     "duration": 0.222421,
     "end_time": "2021-10-04T16:35:20.765662",
     "exception": false,
     "start_time": "2021-10-04T16:35:20.543241",
     "status": "completed"
    },
    "tags": []
   },
   "outputs": [],
   "source": [
    "tmp = pd.read_pickle(SIMILARITY_MATRICES_DIR / similarity_matrix_filename)"
   ]
  },
  {
   "cell_type": "code",
   "execution_count": 17,
   "id": "d29dfd29-1d42-40fb-b19a-09367f3ce2f9",
   "metadata": {
    "execution": {
     "iopub.execute_input": "2021-10-04T16:35:20.934483Z",
     "iopub.status.busy": "2021-10-04T16:35:20.933916Z",
     "iopub.status.idle": "2021-10-04T16:35:20.936129Z",
     "shell.execute_reply": "2021-10-04T16:35:20.936487Z"
    },
    "papermill": {
     "duration": 0.082325,
     "end_time": "2021-10-04T16:35:20.936605",
     "exception": false,
     "start_time": "2021-10-04T16:35:20.854280",
     "status": "completed"
    },
    "tags": []
   },
   "outputs": [
    {
     "data": {
      "text/plain": [
       "(5000, 5000)"
      ]
     },
     "execution_count": 17,
     "metadata": {},
     "output_type": "execute_result"
    }
   ],
   "source": [
    "tmp.shape"
   ]
  },
  {
   "cell_type": "code",
   "execution_count": 18,
   "id": "2681f21b-4bc8-4452-ac6c-437694fc31d3",
   "metadata": {
    "execution": {
     "iopub.execute_input": "2021-10-04T16:35:21.102118Z",
     "iopub.status.busy": "2021-10-04T16:35:21.101648Z",
     "iopub.status.idle": "2021-10-04T16:35:21.117593Z",
     "shell.execute_reply": "2021-10-04T16:35:21.117947Z"
    },
    "papermill": {
     "duration": 0.103674,
     "end_time": "2021-10-04T16:35:21.118065",
     "exception": false,
     "start_time": "2021-10-04T16:35:21.014391",
     "status": "completed"
    },
    "tags": []
   },
   "outputs": [
    {
     "data": {
      "text/html": [
       "<div>\n",
       "<style scoped>\n",
       "    .dataframe tbody tr th:only-of-type {\n",
       "        vertical-align: middle;\n",
       "    }\n",
       "\n",
       "    .dataframe tbody tr th {\n",
       "        vertical-align: top;\n",
       "    }\n",
       "\n",
       "    .dataframe thead th {\n",
       "        text-align: right;\n",
       "    }\n",
       "</style>\n",
       "<table border=\"1\" class=\"dataframe\">\n",
       "  <thead>\n",
       "    <tr style=\"text-align: right;\">\n",
       "      <th>gene_ens_id</th>\n",
       "      <th>ENSG00000129824.15</th>\n",
       "      <th>ENSG00000149968.11</th>\n",
       "      <th>ENSG00000134184.12</th>\n",
       "      <th>ENSG00000224114.1</th>\n",
       "      <th>ENSG00000173432.10</th>\n",
       "      <th>ENSG00000067048.16</th>\n",
       "      <th>ENSG00000229807.10</th>\n",
       "      <th>ENSG00000012817.15</th>\n",
       "      <th>ENSG00000134339.8</th>\n",
       "      <th>ENSG00000175084.11</th>\n",
       "      <th>...</th>\n",
       "      <th>ENSG00000197467.13</th>\n",
       "      <th>ENSG00000279807.1</th>\n",
       "      <th>ENSG00000107742.12</th>\n",
       "      <th>ENSG00000176454.13</th>\n",
       "      <th>ENSG00000212206.1</th>\n",
       "      <th>ENSG00000104611.11</th>\n",
       "      <th>ENSG00000181800.5</th>\n",
       "      <th>ENSG00000171049.8</th>\n",
       "      <th>ENSG00000257671.1</th>\n",
       "      <th>ENSG00000180448.10</th>\n",
       "    </tr>\n",
       "    <tr>\n",
       "      <th>gene_ens_id</th>\n",
       "      <th></th>\n",
       "      <th></th>\n",
       "      <th></th>\n",
       "      <th></th>\n",
       "      <th></th>\n",
       "      <th></th>\n",
       "      <th></th>\n",
       "      <th></th>\n",
       "      <th></th>\n",
       "      <th></th>\n",
       "      <th></th>\n",
       "      <th></th>\n",
       "      <th></th>\n",
       "      <th></th>\n",
       "      <th></th>\n",
       "      <th></th>\n",
       "      <th></th>\n",
       "      <th></th>\n",
       "      <th></th>\n",
       "      <th></th>\n",
       "      <th></th>\n",
       "    </tr>\n",
       "  </thead>\n",
       "  <tbody>\n",
       "    <tr>\n",
       "      <th>ENSG00000129824.15</th>\n",
       "      <td>1.000000</td>\n",
       "      <td>0.092378</td>\n",
       "      <td>-0.001128</td>\n",
       "      <td>-0.000690</td>\n",
       "      <td>0.105775</td>\n",
       "      <td>0.308716</td>\n",
       "      <td>0.216031</td>\n",
       "      <td>0.339720</td>\n",
       "      <td>0.117969</td>\n",
       "      <td>0.037587</td>\n",
       "      <td>...</td>\n",
       "      <td>0.000677</td>\n",
       "      <td>-0.000089</td>\n",
       "      <td>0.011996</td>\n",
       "      <td>0.045078</td>\n",
       "      <td>0.003958</td>\n",
       "      <td>0.000968</td>\n",
       "      <td>0.003101</td>\n",
       "      <td>0.001606</td>\n",
       "      <td>-0.001511</td>\n",
       "      <td>0.002317</td>\n",
       "    </tr>\n",
       "    <tr>\n",
       "      <th>ENSG00000149968.11</th>\n",
       "      <td>0.092378</td>\n",
       "      <td>1.000000</td>\n",
       "      <td>0.000403</td>\n",
       "      <td>0.001278</td>\n",
       "      <td>-0.000508</td>\n",
       "      <td>0.036402</td>\n",
       "      <td>0.063560</td>\n",
       "      <td>0.062029</td>\n",
       "      <td>0.004887</td>\n",
       "      <td>0.005379</td>\n",
       "      <td>...</td>\n",
       "      <td>0.041250</td>\n",
       "      <td>0.023606</td>\n",
       "      <td>0.002317</td>\n",
       "      <td>0.014949</td>\n",
       "      <td>0.023606</td>\n",
       "      <td>-0.001237</td>\n",
       "      <td>0.019925</td>\n",
       "      <td>0.012707</td>\n",
       "      <td>0.030752</td>\n",
       "      <td>-0.000508</td>\n",
       "    </tr>\n",
       "    <tr>\n",
       "      <th>ENSG00000134184.12</th>\n",
       "      <td>-0.001128</td>\n",
       "      <td>0.000403</td>\n",
       "      <td>1.000000</td>\n",
       "      <td>-0.000508</td>\n",
       "      <td>-0.001328</td>\n",
       "      <td>-0.001000</td>\n",
       "      <td>-0.001328</td>\n",
       "      <td>-0.001456</td>\n",
       "      <td>-0.001128</td>\n",
       "      <td>-0.000089</td>\n",
       "      <td>...</td>\n",
       "      <td>0.006418</td>\n",
       "      <td>-0.001000</td>\n",
       "      <td>-0.001401</td>\n",
       "      <td>0.003520</td>\n",
       "      <td>-0.000089</td>\n",
       "      <td>0.000677</td>\n",
       "      <td>0.001606</td>\n",
       "      <td>0.004887</td>\n",
       "      <td>-0.001511</td>\n",
       "      <td>-0.001492</td>\n",
       "    </tr>\n",
       "    <tr>\n",
       "      <th>ENSG00000224114.1</th>\n",
       "      <td>-0.000690</td>\n",
       "      <td>0.001278</td>\n",
       "      <td>-0.000508</td>\n",
       "      <td>1.000000</td>\n",
       "      <td>-0.000690</td>\n",
       "      <td>-0.001000</td>\n",
       "      <td>-0.001511</td>\n",
       "      <td>-0.001237</td>\n",
       "      <td>-0.001000</td>\n",
       "      <td>-0.000854</td>\n",
       "      <td>...</td>\n",
       "      <td>0.003101</td>\n",
       "      <td>-0.000308</td>\n",
       "      <td>-0.001237</td>\n",
       "      <td>-0.001237</td>\n",
       "      <td>-0.000854</td>\n",
       "      <td>-0.001401</td>\n",
       "      <td>-0.001237</td>\n",
       "      <td>0.001278</td>\n",
       "      <td>-0.001237</td>\n",
       "      <td>-0.000854</td>\n",
       "    </tr>\n",
       "    <tr>\n",
       "      <th>ENSG00000173432.10</th>\n",
       "      <td>0.105775</td>\n",
       "      <td>-0.000508</td>\n",
       "      <td>-0.001328</td>\n",
       "      <td>-0.000690</td>\n",
       "      <td>1.000000</td>\n",
       "      <td>0.107761</td>\n",
       "      <td>0.065110</td>\n",
       "      <td>0.105775</td>\n",
       "      <td>0.815978</td>\n",
       "      <td>0.046390</td>\n",
       "      <td>...</td>\n",
       "      <td>0.046390</td>\n",
       "      <td>-0.001511</td>\n",
       "      <td>0.040011</td>\n",
       "      <td>0.126462</td>\n",
       "      <td>-0.001492</td>\n",
       "      <td>0.015732</td>\n",
       "      <td>0.004413</td>\n",
       "      <td>0.024573</td>\n",
       "      <td>-0.001456</td>\n",
       "      <td>0.001278</td>\n",
       "    </tr>\n",
       "  </tbody>\n",
       "</table>\n",
       "<p>5 rows × 5000 columns</p>\n",
       "</div>"
      ],
      "text/plain": [
       "gene_ens_id         ENSG00000129824.15  ENSG00000149968.11  \\\n",
       "gene_ens_id                                                  \n",
       "ENSG00000129824.15            1.000000            0.092378   \n",
       "ENSG00000149968.11            0.092378            1.000000   \n",
       "ENSG00000134184.12           -0.001128            0.000403   \n",
       "ENSG00000224114.1            -0.000690            0.001278   \n",
       "ENSG00000173432.10            0.105775           -0.000508   \n",
       "\n",
       "gene_ens_id         ENSG00000134184.12  ENSG00000224114.1  ENSG00000173432.10  \\\n",
       "gene_ens_id                                                                     \n",
       "ENSG00000129824.15           -0.001128          -0.000690            0.105775   \n",
       "ENSG00000149968.11            0.000403           0.001278           -0.000508   \n",
       "ENSG00000134184.12            1.000000          -0.000508           -0.001328   \n",
       "ENSG00000224114.1            -0.000508           1.000000           -0.000690   \n",
       "ENSG00000173432.10           -0.001328          -0.000690            1.000000   \n",
       "\n",
       "gene_ens_id         ENSG00000067048.16  ENSG00000229807.10  \\\n",
       "gene_ens_id                                                  \n",
       "ENSG00000129824.15            0.308716            0.216031   \n",
       "ENSG00000149968.11            0.036402            0.063560   \n",
       "ENSG00000134184.12           -0.001000           -0.001328   \n",
       "ENSG00000224114.1            -0.001000           -0.001511   \n",
       "ENSG00000173432.10            0.107761            0.065110   \n",
       "\n",
       "gene_ens_id         ENSG00000012817.15  ENSG00000134339.8  ENSG00000175084.11  \\\n",
       "gene_ens_id                                                                     \n",
       "ENSG00000129824.15            0.339720           0.117969            0.037587   \n",
       "ENSG00000149968.11            0.062029           0.004887            0.005379   \n",
       "ENSG00000134184.12           -0.001456          -0.001128           -0.000089   \n",
       "ENSG00000224114.1            -0.001237          -0.001000           -0.000854   \n",
       "ENSG00000173432.10            0.105775           0.815978            0.046390   \n",
       "\n",
       "gene_ens_id         ...  ENSG00000197467.13  ENSG00000279807.1  \\\n",
       "gene_ens_id         ...                                          \n",
       "ENSG00000129824.15  ...            0.000677          -0.000089   \n",
       "ENSG00000149968.11  ...            0.041250           0.023606   \n",
       "ENSG00000134184.12  ...            0.006418          -0.001000   \n",
       "ENSG00000224114.1   ...            0.003101          -0.000308   \n",
       "ENSG00000173432.10  ...            0.046390          -0.001511   \n",
       "\n",
       "gene_ens_id         ENSG00000107742.12  ENSG00000176454.13  ENSG00000212206.1  \\\n",
       "gene_ens_id                                                                     \n",
       "ENSG00000129824.15            0.011996            0.045078           0.003958   \n",
       "ENSG00000149968.11            0.002317            0.014949           0.023606   \n",
       "ENSG00000134184.12           -0.001401            0.003520          -0.000089   \n",
       "ENSG00000224114.1            -0.001237           -0.001237          -0.000854   \n",
       "ENSG00000173432.10            0.040011            0.126462          -0.001492   \n",
       "\n",
       "gene_ens_id         ENSG00000104611.11  ENSG00000181800.5  ENSG00000171049.8  \\\n",
       "gene_ens_id                                                                    \n",
       "ENSG00000129824.15            0.000968           0.003101           0.001606   \n",
       "ENSG00000149968.11           -0.001237           0.019925           0.012707   \n",
       "ENSG00000134184.12            0.000677           0.001606           0.004887   \n",
       "ENSG00000224114.1            -0.001401          -0.001237           0.001278   \n",
       "ENSG00000173432.10            0.015732           0.004413           0.024573   \n",
       "\n",
       "gene_ens_id         ENSG00000257671.1  ENSG00000180448.10  \n",
       "gene_ens_id                                                \n",
       "ENSG00000129824.15          -0.001511            0.002317  \n",
       "ENSG00000149968.11           0.030752           -0.000508  \n",
       "ENSG00000134184.12          -0.001511           -0.001492  \n",
       "ENSG00000224114.1           -0.001237           -0.000854  \n",
       "ENSG00000173432.10          -0.001456            0.001278  \n",
       "\n",
       "[5 rows x 5000 columns]"
      ]
     },
     "execution_count": 18,
     "metadata": {},
     "output_type": "execute_result"
    }
   ],
   "source": [
    "tmp.head()"
   ]
  },
  {
   "cell_type": "markdown",
   "id": "51d7a057-e0d3-4495-a53b-52b4a38f2a94",
   "metadata": {
    "papermill": {
     "duration": 0.077876,
     "end_time": "2021-10-04T16:35:21.275170",
     "exception": false,
     "start_time": "2021-10-04T16:35:21.197294",
     "status": "completed"
    },
    "tags": []
   },
   "source": [
    "### Convert Ensembl Gene IDs to Entrez IDs"
   ]
  },
  {
   "cell_type": "code",
   "execution_count": 19,
   "id": "ca0ed202-4c3d-403e-8ad0-797df5939386",
   "metadata": {
    "execution": {
     "iopub.execute_input": "2021-10-04T16:35:21.435978Z",
     "iopub.status.busy": "2021-10-04T16:35:21.435438Z",
     "iopub.status.idle": "2021-10-04T16:35:21.438179Z",
     "shell.execute_reply": "2021-10-04T16:35:21.437796Z"
    },
    "papermill": {
     "duration": 0.084503,
     "end_time": "2021-10-04T16:35:21.438275",
     "exception": false,
     "start_time": "2021-10-04T16:35:21.353772",
     "status": "completed"
    },
    "tags": []
   },
   "outputs": [
    {
     "data": {
      "text/plain": [
       "PosixPath('/opt/data/data/gtex_v8/gtex_entrez_gene_ids_mappings.pkl')"
      ]
     },
     "metadata": {},
     "output_type": "display_data"
    }
   ],
   "source": [
    "input_filename = conf.GTEX[\"DATA_DIR\"] / \"gtex_entrez_gene_ids_mappings.pkl\"\n",
    "display(input_filename)\n",
    "assert input_filename.exists()"
   ]
  },
  {
   "cell_type": "code",
   "execution_count": 20,
   "id": "a7d2f391-f925-447a-b4b1-f60bc4653daa",
   "metadata": {
    "execution": {
     "iopub.execute_input": "2021-10-04T16:35:21.602403Z",
     "iopub.status.busy": "2021-10-04T16:35:21.601909Z",
     "iopub.status.idle": "2021-10-04T16:35:21.614368Z",
     "shell.execute_reply": "2021-10-04T16:35:21.613945Z"
    },
    "papermill": {
     "duration": 0.097063,
     "end_time": "2021-10-04T16:35:21.614469",
     "exception": false,
     "start_time": "2021-10-04T16:35:21.517406",
     "status": "completed"
    },
    "tags": []
   },
   "outputs": [],
   "source": [
    "gene_ids_mappings = pd.read_pickle(input_filename)"
   ]
  },
  {
   "cell_type": "code",
   "execution_count": 21,
   "id": "b2910fe8-7f7b-4b87-bfbe-d3642f3410b9",
   "metadata": {
    "execution": {
     "iopub.execute_input": "2021-10-04T16:35:21.778638Z",
     "iopub.status.busy": "2021-10-04T16:35:21.778022Z",
     "iopub.status.idle": "2021-10-04T16:35:21.780425Z",
     "shell.execute_reply": "2021-10-04T16:35:21.780782Z"
    },
    "papermill": {
     "duration": 0.08581,
     "end_time": "2021-10-04T16:35:21.780900",
     "exception": false,
     "start_time": "2021-10-04T16:35:21.695090",
     "status": "completed"
    },
    "tags": []
   },
   "outputs": [
    {
     "data": {
      "text/plain": [
       "(34527, 3)"
      ]
     },
     "execution_count": 21,
     "metadata": {},
     "output_type": "execute_result"
    }
   ],
   "source": [
    "gene_ids_mappings.shape"
   ]
  },
  {
   "cell_type": "code",
   "execution_count": 22,
   "id": "dced4328-14c8-40d7-a479-fcd83eb7bb60",
   "metadata": {
    "execution": {
     "iopub.execute_input": "2021-10-04T16:35:21.948035Z",
     "iopub.status.busy": "2021-10-04T16:35:21.947467Z",
     "iopub.status.idle": "2021-10-04T16:35:21.950188Z",
     "shell.execute_reply": "2021-10-04T16:35:21.950591Z"
    },
    "papermill": {
     "duration": 0.089489,
     "end_time": "2021-10-04T16:35:21.950723",
     "exception": false,
     "start_time": "2021-10-04T16:35:21.861234",
     "status": "completed"
    },
    "tags": []
   },
   "outputs": [
    {
     "data": {
      "text/html": [
       "<div>\n",
       "<style scoped>\n",
       "    .dataframe tbody tr th:only-of-type {\n",
       "        vertical-align: middle;\n",
       "    }\n",
       "\n",
       "    .dataframe tbody tr th {\n",
       "        vertical-align: top;\n",
       "    }\n",
       "\n",
       "    .dataframe thead th {\n",
       "        text-align: right;\n",
       "    }\n",
       "</style>\n",
       "<table border=\"1\" class=\"dataframe\">\n",
       "  <thead>\n",
       "    <tr style=\"text-align: right;\">\n",
       "      <th></th>\n",
       "      <th>gene_ens_id_v</th>\n",
       "      <th>ensembl_id</th>\n",
       "      <th>entrez_id</th>\n",
       "    </tr>\n",
       "  </thead>\n",
       "  <tbody>\n",
       "    <tr>\n",
       "      <th>0</th>\n",
       "      <td>ENSG00000145309.5</td>\n",
       "      <td>ENSG00000145309</td>\n",
       "      <td>85438</td>\n",
       "    </tr>\n",
       "    <tr>\n",
       "      <th>1</th>\n",
       "      <td>ENSG00000175820.3</td>\n",
       "      <td>ENSG00000175820</td>\n",
       "      <td>643677</td>\n",
       "    </tr>\n",
       "    <tr>\n",
       "      <th>2</th>\n",
       "      <td>ENSG00000083454.21</td>\n",
       "      <td>ENSG00000083454</td>\n",
       "      <td>5026</td>\n",
       "    </tr>\n",
       "    <tr>\n",
       "      <th>3</th>\n",
       "      <td>ENSG00000071794.15</td>\n",
       "      <td>ENSG00000071794</td>\n",
       "      <td>6596</td>\n",
       "    </tr>\n",
       "    <tr>\n",
       "      <th>4</th>\n",
       "      <td>ENSG00000211918.1</td>\n",
       "      <td>ENSG00000211918</td>\n",
       "      <td>28503</td>\n",
       "    </tr>\n",
       "  </tbody>\n",
       "</table>\n",
       "</div>"
      ],
      "text/plain": [
       "        gene_ens_id_v       ensembl_id entrez_id\n",
       "0   ENSG00000145309.5  ENSG00000145309     85438\n",
       "1   ENSG00000175820.3  ENSG00000175820    643677\n",
       "2  ENSG00000083454.21  ENSG00000083454      5026\n",
       "3  ENSG00000071794.15  ENSG00000071794      6596\n",
       "4   ENSG00000211918.1  ENSG00000211918     28503"
      ]
     },
     "execution_count": 22,
     "metadata": {},
     "output_type": "execute_result"
    }
   ],
   "source": [
    "gene_ids_mappings.head()"
   ]
  },
  {
   "cell_type": "code",
   "execution_count": 23,
   "id": "2dc964bf-d535-4021-b001-a2d0a334985f",
   "metadata": {
    "execution": {
     "iopub.execute_input": "2021-10-04T16:35:22.149182Z",
     "iopub.status.busy": "2021-10-04T16:35:22.131138Z",
     "iopub.status.idle": "2021-10-04T16:35:22.151386Z",
     "shell.execute_reply": "2021-10-04T16:35:22.150955Z"
    },
    "papermill": {
     "duration": 0.119026,
     "end_time": "2021-10-04T16:35:22.151482",
     "exception": false,
     "start_time": "2021-10-04T16:35:22.032456",
     "status": "completed"
    },
    "tags": []
   },
   "outputs": [],
   "source": [
    "gene_id_maps = gene_ids_mappings.set_index(\"gene_ens_id_v\")[\"entrez_id\"].to_dict()"
   ]
  },
  {
   "cell_type": "code",
   "execution_count": 24,
   "id": "838abb9e-19f4-423a-a013-14e56fff6de6",
   "metadata": {
    "execution": {
     "iopub.execute_input": "2021-10-04T16:35:22.320541Z",
     "iopub.status.busy": "2021-10-04T16:35:22.319977Z",
     "iopub.status.idle": "2021-10-04T16:35:22.322843Z",
     "shell.execute_reply": "2021-10-04T16:35:22.323217Z"
    },
    "papermill": {
     "duration": 0.091067,
     "end_time": "2021-10-04T16:35:22.323334",
     "exception": false,
     "start_time": "2021-10-04T16:35:22.232267",
     "status": "completed"
    },
    "tags": []
   },
   "outputs": [
    {
     "data": {
      "text/plain": [
       "{'ENSG00000145309.5': '85438', 'ENSG00000175820.3': '643677'}"
      ]
     },
     "execution_count": 24,
     "metadata": {},
     "output_type": "execute_result"
    }
   ],
   "source": [
    "dict(list(gene_id_maps.items())[0:2])"
   ]
  },
  {
   "cell_type": "code",
   "execution_count": 25,
   "id": "e32ce280-f0cc-4932-8cbb-89e5c5d0430e",
   "metadata": {
    "execution": {
     "iopub.execute_input": "2021-10-04T16:35:22.493832Z",
     "iopub.status.busy": "2021-10-04T16:35:22.493337Z",
     "iopub.status.idle": "2021-10-04T16:35:22.497002Z",
     "shell.execute_reply": "2021-10-04T16:35:22.497364Z"
    },
    "papermill": {
     "duration": 0.092772,
     "end_time": "2021-10-04T16:35:22.497481",
     "exception": false,
     "start_time": "2021-10-04T16:35:22.404709",
     "status": "completed"
    },
    "tags": []
   },
   "outputs": [
    {
     "data": {
      "text/plain": [
       "4201"
      ]
     },
     "metadata": {},
     "output_type": "display_data"
    },
    {
     "data": {
      "text/plain": [
       "['6192', '4314', '2944', '100271063', '6288']"
      ]
     },
     "metadata": {},
     "output_type": "display_data"
    }
   ],
   "source": [
    "# is map from ensembl to entrez unique?\n",
    "_tmp_index = [gene_id_maps[x] for x in tmp.index if x in gene_id_maps]\n",
    "display(len(_tmp_index))\n",
    "display(_tmp_index[:5])"
   ]
  },
  {
   "cell_type": "markdown",
   "id": "ecf4a22e-e93b-48a2-a82f-4a54b7472abf",
   "metadata": {
    "papermill": {
     "duration": 0.084843,
     "end_time": "2021-10-04T16:35:22.667319",
     "exception": false,
     "start_time": "2021-10-04T16:35:22.582476",
     "status": "completed"
    },
    "tags": []
   },
   "source": [
    "# Run"
   ]
  },
  {
   "cell_type": "code",
   "execution_count": 26,
   "id": "fe0e2ed7-42bc-446e-98d5-76f31217c1df",
   "metadata": {
    "execution": {
     "iopub.execute_input": "2021-10-04T16:35:22.840267Z",
     "iopub.status.busy": "2021-10-04T16:35:22.839757Z",
     "iopub.status.idle": "2021-10-04T16:35:22.843799Z",
     "shell.execute_reply": "2021-10-04T16:35:22.843355Z"
    },
    "papermill": {
     "duration": 0.091617,
     "end_time": "2021-10-04T16:35:22.843931",
     "exception": false,
     "start_time": "2021-10-04T16:35:22.752314",
     "status": "completed"
    },
    "tags": []
   },
   "outputs": [
    {
     "data": {
      "text/plain": [
       "25"
      ]
     },
     "metadata": {},
     "output_type": "display_data"
    }
   ],
   "source": [
    "n_partitions_per_file = pd.read_pickle(input_files[0]).shape[0]\n",
    "display(n_partitions_per_file)"
   ]
  },
  {
   "cell_type": "code",
   "execution_count": 27,
   "id": "754836bb-3b1c-4259-882b-07dfa793c13a",
   "metadata": {
    "execution": {
     "iopub.execute_input": "2021-10-04T16:35:23.027938Z",
     "iopub.status.busy": "2021-10-04T16:35:23.027353Z",
     "iopub.status.idle": "2021-10-04T23:46:22.222594Z",
     "shell.execute_reply": "2021-10-04T23:46:22.220720Z"
    },
    "papermill": {
     "duration": 25859.292165,
     "end_time": "2021-10-04T23:46:22.222689",
     "exception": false,
     "start_time": "2021-10-04T16:35:22.930524",
     "status": "completed"
    },
    "tags": []
   },
   "outputs": [
    {
     "data": {
      "text/plain": [
       "'number of tasks: 125'"
      ]
     },
     "metadata": {},
     "output_type": "display_data"
    },
    {
     "name": "stderr",
     "output_type": "stream",
     "text": [
      "whole_blood/var_pc_log2/saving: 100%|██████████████████████████| 125/125 [7:10:59<00:00, 206.87s/it]\n"
     ]
    }
   ],
   "source": [
    "# the number of tasks is the number of input files times number of partitions per file\n",
    "n_tasks = len(input_files) * n_partitions_per_file\n",
    "n_tasks = int(n_tasks)\n",
    "display(f\"number of tasks: {n_tasks}\")\n",
    "\n",
    "with ProcessPoolExecutor(max_workers=conf.GENERAL[\"N_JOBS\"]) as executor, tqdm(\n",
    "    total=n_tasks, ncols=100\n",
    ") as pbar:\n",
    "    for clustering_filepath in input_files:\n",
    "        # extract from input clustering filename some sections, such as tissue name, etc\n",
    "        m = re.search(filename_pattern, str(clustering_filepath.name))\n",
    "\n",
    "        tissue = m.group(\"tissue\")\n",
    "        gene_sel_strategy = m.group(\"gene_sel_strategy\")\n",
    "        corr_method = m.group(\"corr_method\")\n",
    "\n",
    "        # update pbar description\n",
    "        pbar.set_description(f\"{tissue}/{gene_sel_strategy}\")\n",
    "        #         pbar.set_description(f\"{corr_method}\")\n",
    "\n",
    "        # create output filepath template\n",
    "        full_output_filename_template = (\n",
    "            f\"{clustering_filepath.stem}-{ENRICH_FUNCTION}-{ENRICH_PARAMS}.pkl\"\n",
    "        )\n",
    "\n",
    "        # read clustering results\n",
    "        clustering_df = pd.read_pickle(clustering_filepath)\n",
    "\n",
    "        # get partitions' numbers\n",
    "        tmp_partition = clustering_df.iloc[0].partition\n",
    "        n_genes = tmp_partition.shape[0]\n",
    "        n_clusters = np.unique(tmp_partition).shape[0]\n",
    "\n",
    "        # use those sections to read the list of genes from the input data\n",
    "        # file that the clustering algorithm received\n",
    "        similarity_matrix_filename = SIMILARITY_MATRIX_FILENAME_TEMPLATE.format(\n",
    "            tissue=tissue,\n",
    "            gene_sel_strategy=gene_sel_strategy,\n",
    "            corr_method=corr_method.split(\"_\")[0]\n",
    "            if not corr_method.startswith(\"clustermatch\")\n",
    "            else corr_method,\n",
    "        )\n",
    "\n",
    "        # get the universe of genes\n",
    "        all_gene_ens_ids = pd.read_pickle(\n",
    "            SIMILARITY_MATRICES_DIR / similarity_matrix_filename\n",
    "        ).index.tolist()\n",
    "\n",
    "        # convert gene ensembl ids to entrez and create clustering partition mask\n",
    "        partition_mask = []\n",
    "        all_gene_ids = []\n",
    "        entrez_ids_added = set()  # this is faster\n",
    "\n",
    "        for x in all_gene_ens_ids:\n",
    "            if x not in gene_id_maps:\n",
    "                partition_mask.append(False)\n",
    "                continue\n",
    "\n",
    "            new_entrez_id = gene_id_maps[x]\n",
    "\n",
    "            # TODO: maybe this avoiding of repeated gene ids is not necessary?\n",
    "            # do not add repeated ids\n",
    "            if new_entrez_id in entrez_ids_added:\n",
    "                partition_mask.append(False)\n",
    "                continue\n",
    "\n",
    "            all_gene_ids.append(new_entrez_id)\n",
    "            entrez_ids_added.add(new_entrez_id)\n",
    "            partition_mask.append(True)\n",
    "\n",
    "        partition_mask = np.array(partition_mask, dtype=bool)\n",
    "        all_gene_ids = np.array(all_gene_ids)\n",
    "        assert np.unique(all_gene_ids).shape[0] == all_gene_ids.shape[0]\n",
    "        assert all_gene_ids.shape[0] == np.sum(partition_mask)\n",
    "\n",
    "        # iterate over clustering solutions (partitions) and GO ontologies\n",
    "        futures = [\n",
    "            executor.submit(\n",
    "                run_enrich,\n",
    "                all_gene_ids,\n",
    "                \"ENTREZID\",\n",
    "                cr.partition[partition_mask],\n",
    "                ENRICH_FUNCTION,\n",
    "                ENRICH_PARAMS,\n",
    "            )\n",
    "            for cr_idx, cr in clustering_df.sort_values(\"n_clusters\").iterrows()\n",
    "        ]\n",
    "\n",
    "        # collect results\n",
    "        results_full = []\n",
    "\n",
    "        for task in as_completed(futures):\n",
    "            task_results = task.result()\n",
    "\n",
    "            # continue if no enrichment found\n",
    "            if task_results is None:\n",
    "                pbar.update(1)\n",
    "                continue\n",
    "\n",
    "            results_full.append(task_results)\n",
    "\n",
    "            pbar.update(1)\n",
    "\n",
    "        if len(results_full) == 0:\n",
    "            # no significant results, continue\n",
    "            continue\n",
    "\n",
    "        # merge and serve\n",
    "        pbar.set_description(f\"{tissue}/{gene_sel_strategy}/saving\")\n",
    "\n",
    "        # full\n",
    "        results_full_df = pd.concat(results_full, ignore_index=True).sort_values(\n",
    "            [\"n_clusters\", \"pvalue_adjust\"]\n",
    "        )\n",
    "\n",
    "        results_full_df.to_pickle(\n",
    "            OUTPUT_DIR\n",
    "            / f\"{clustering_filepath.stem}-{ENRICH_FUNCTION}-{ENRICH_PARAMS}.pkl\",\n",
    "        )"
   ]
  },
  {
   "cell_type": "code",
   "execution_count": null,
   "id": "complimentary-gathering",
   "metadata": {
    "papermill": {
     "duration": 0.225919,
     "end_time": "2021-10-04T23:46:23.356421",
     "exception": false,
     "start_time": "2021-10-04T23:46:23.130502",
     "status": "completed"
    },
    "tags": []
   },
   "outputs": [],
   "source": []
  }
 ],
 "metadata": {
  "jupytext": {
   "cell_metadata_filter": "all,-execution,-papermill,-trusted"
  },
  "kernelspec": {
   "display_name": "Python 3 (ipykernel)",
   "language": "python",
   "name": "python3"
  },
  "language_info": {
   "codemirror_mode": {
    "name": "ipython",
    "version": 3
   },
   "file_extension": ".py",
   "mimetype": "text/x-python",
   "name": "python",
   "nbconvert_exporter": "python",
   "pygments_lexer": "ipython3",
   "version": "3.9.7"
  },
  "papermill": {
   "default_parameters": {},
   "duration": 25868.252089,
   "end_time": "2021-10-04T23:46:23.792513",
   "environment_variables": {},
   "exception": null,
   "input_path": "nbs/20_gene_set_enrichment/05_gtex_v8/07_05-gtex-clustermatch_k2-enrichPathway.ipynb",
   "output_path": "nbs/20_gene_set_enrichment/05_gtex_v8/07_05-gtex-clustermatch_k2-enrichPathway.run.ipynb",
   "parameters": {},
   "start_time": "2021-10-04T16:35:15.540424",
   "version": "2.3.2"
  },
  "toc-autonumbering": true
 },
 "nbformat": 4,
 "nbformat_minor": 5
}
