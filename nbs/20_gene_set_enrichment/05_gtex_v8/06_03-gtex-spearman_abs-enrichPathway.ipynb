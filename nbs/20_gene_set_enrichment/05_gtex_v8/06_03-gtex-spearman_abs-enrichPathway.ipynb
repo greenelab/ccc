{
 "cells": [
  {
   "cell_type": "markdown",
   "id": "dfa1ba1b-d517-4a57-8db0-103ab5bd0a0d",
   "metadata": {
    "papermill": {
     "duration": 0.100689,
     "end_time": "2021-10-04T01:40:43.911375",
     "exception": false,
     "start_time": "2021-10-04T01:40:43.810686",
     "status": "completed"
    },
    "tags": []
   },
   "source": [
    "# Description"
   ]
  },
  {
   "cell_type": "markdown",
   "id": "8944732c-37a0-4af1-b9c1-86c0c2776126",
   "metadata": {
    "papermill": {
     "duration": 0.066745,
     "end_time": "2021-10-04T01:40:44.044824",
     "exception": false,
     "start_time": "2021-10-04T01:40:43.978079",
     "status": "completed"
    },
    "tags": []
   },
   "source": [
    "TODO/UPDATE: It computes gene enrichment on *all* the clustering results obtained using some correlation measure on GTEx v8 (specified under `Settings` below)."
   ]
  },
  {
   "cell_type": "markdown",
   "id": "3334aeb5-41a5-4331-9c28-34ec8f755e98",
   "metadata": {
    "papermill": {
     "duration": 0.065762,
     "end_time": "2021-10-04T01:40:44.176479",
     "exception": false,
     "start_time": "2021-10-04T01:40:44.110717",
     "status": "completed"
    },
    "tags": []
   },
   "source": [
    "# Modules loading"
   ]
  },
  {
   "cell_type": "code",
   "execution_count": 1,
   "id": "2c8cf869-a063-4731-bb75-acc121975426",
   "metadata": {
    "execution": {
     "iopub.execute_input": "2021-10-04T01:40:44.318677Z",
     "iopub.status.busy": "2021-10-04T01:40:44.318224Z",
     "iopub.status.idle": "2021-10-04T01:40:44.555304Z",
     "shell.execute_reply": "2021-10-04T01:40:44.554849Z"
    },
    "papermill": {
     "duration": 0.312032,
     "end_time": "2021-10-04T01:40:44.555423",
     "exception": false,
     "start_time": "2021-10-04T01:40:44.243391",
     "status": "completed"
    },
    "tags": []
   },
   "outputs": [],
   "source": [
    "import re\n",
    "from collections import defaultdict\n",
    "from concurrent.futures import ProcessPoolExecutor, as_completed\n",
    "\n",
    "import numpy as np\n",
    "import pandas as pd\n",
    "from tqdm import tqdm\n",
    "\n",
    "from clustermatch import conf\n",
    "from clustermatch.gene_enrich import run_enrich"
   ]
  },
  {
   "cell_type": "markdown",
   "id": "21f26cf2-d399-470f-94c3-e26dd5b4337d",
   "metadata": {
    "papermill": {
     "duration": 0.066479,
     "end_time": "2021-10-04T01:40:44.689706",
     "exception": false,
     "start_time": "2021-10-04T01:40:44.623227",
     "status": "completed"
    },
    "tags": []
   },
   "source": [
    "# Settings"
   ]
  },
  {
   "cell_type": "code",
   "execution_count": 2,
   "id": "ba4b9af6-32b3-434c-89d6-20d47f52620e",
   "metadata": {
    "execution": {
     "iopub.execute_input": "2021-10-04T01:40:44.833391Z",
     "iopub.status.busy": "2021-10-04T01:40:44.832950Z",
     "iopub.status.idle": "2021-10-04T01:40:44.835156Z",
     "shell.execute_reply": "2021-10-04T01:40:44.834719Z"
    },
    "papermill": {
     "duration": 0.075668,
     "end_time": "2021-10-04T01:40:44.835248",
     "exception": false,
     "start_time": "2021-10-04T01:40:44.759580",
     "status": "completed"
    },
    "tags": []
   },
   "outputs": [],
   "source": [
    "DATASET_CONFIG = conf.GTEX"
   ]
  },
  {
   "cell_type": "code",
   "execution_count": 3,
   "id": "16b1fa39-d18c-4a87-bfcc-8d302941544d",
   "metadata": {
    "execution": {
     "iopub.execute_input": "2021-10-04T01:40:44.972700Z",
     "iopub.status.busy": "2021-10-04T01:40:44.972249Z",
     "iopub.status.idle": "2021-10-04T01:40:44.973728Z",
     "shell.execute_reply": "2021-10-04T01:40:44.974090Z"
    },
    "papermill": {
     "duration": 0.071617,
     "end_time": "2021-10-04T01:40:44.974206",
     "exception": false,
     "start_time": "2021-10-04T01:40:44.902589",
     "status": "completed"
    },
    "tags": []
   },
   "outputs": [],
   "source": [
    "CORRELATION_METHOD_NAME = \"spearman_abs\""
   ]
  },
  {
   "cell_type": "code",
   "execution_count": 4,
   "id": "0072fd4d-4b6f-4553-bc17-7bc3d737c7fd",
   "metadata": {
    "execution": {
     "iopub.execute_input": "2021-10-04T01:40:45.111997Z",
     "iopub.status.busy": "2021-10-04T01:40:45.111481Z",
     "iopub.status.idle": "2021-10-04T01:40:45.113749Z",
     "shell.execute_reply": "2021-10-04T01:40:45.113300Z"
    },
    "papermill": {
     "duration": 0.071524,
     "end_time": "2021-10-04T01:40:45.113845",
     "exception": false,
     "start_time": "2021-10-04T01:40:45.042321",
     "status": "completed"
    },
    "tags": []
   },
   "outputs": [],
   "source": [
    "# GENE_SELECTION_STRATEGY = \"var_pc_log2\""
   ]
  },
  {
   "cell_type": "code",
   "execution_count": 5,
   "id": "f4b75296-746d-4f4a-b33b-2b003ff9802f",
   "metadata": {
    "execution": {
     "iopub.execute_input": "2021-10-04T01:40:45.251688Z",
     "iopub.status.busy": "2021-10-04T01:40:45.251249Z",
     "iopub.status.idle": "2021-10-04T01:40:45.253193Z",
     "shell.execute_reply": "2021-10-04T01:40:45.253566Z"
    },
    "papermill": {
     "duration": 0.072543,
     "end_time": "2021-10-04T01:40:45.253678",
     "exception": false,
     "start_time": "2021-10-04T01:40:45.181135",
     "status": "completed"
    },
    "tags": []
   },
   "outputs": [],
   "source": [
    "# clusterProfiler settings\n",
    "ENRICH_FUNCTION = \"enrichPathway\"\n",
    "ENRICH_PARAMS = \"human\""
   ]
  },
  {
   "cell_type": "markdown",
   "id": "fd099196-edbb-4a17-adce-c7079a221057",
   "metadata": {
    "papermill": {
     "duration": 0.066206,
     "end_time": "2021-10-04T01:40:45.386852",
     "exception": false,
     "start_time": "2021-10-04T01:40:45.320646",
     "status": "completed"
    },
    "tags": []
   },
   "source": [
    "# Paths"
   ]
  },
  {
   "cell_type": "code",
   "execution_count": 6,
   "id": "4f2e5aa2-0428-4f1b-8af7-41fd7f8208bb",
   "metadata": {
    "execution": {
     "iopub.execute_input": "2021-10-04T01:40:45.527513Z",
     "iopub.status.busy": "2021-10-04T01:40:45.526685Z",
     "iopub.status.idle": "2021-10-04T01:40:45.530643Z",
     "shell.execute_reply": "2021-10-04T01:40:45.530257Z"
    },
    "papermill": {
     "duration": 0.077538,
     "end_time": "2021-10-04T01:40:45.530739",
     "exception": false,
     "start_time": "2021-10-04T01:40:45.453201",
     "status": "completed"
    },
    "tags": []
   },
   "outputs": [
    {
     "data": {
      "text/plain": [
       "PosixPath('/opt/data/results/gtex_v8/clustering')"
      ]
     },
     "metadata": {},
     "output_type": "display_data"
    }
   ],
   "source": [
    "INPUT_DIR = DATASET_CONFIG[\"CLUSTERING_DIR\"]\n",
    "display(INPUT_DIR)\n",
    "assert INPUT_DIR.exists()"
   ]
  },
  {
   "cell_type": "code",
   "execution_count": 7,
   "id": "28806e98",
   "metadata": {
    "execution": {
     "iopub.execute_input": "2021-10-04T01:40:45.672073Z",
     "iopub.status.busy": "2021-10-04T01:40:45.671470Z",
     "iopub.status.idle": "2021-10-04T01:40:45.673808Z",
     "shell.execute_reply": "2021-10-04T01:40:45.674171Z"
    },
    "papermill": {
     "duration": 0.074601,
     "end_time": "2021-10-04T01:40:45.674287",
     "exception": false,
     "start_time": "2021-10-04T01:40:45.599686",
     "status": "completed"
    },
    "tags": []
   },
   "outputs": [
    {
     "data": {
      "text/plain": [
       "PosixPath('/opt/data/results/gtex_v8/similarity_matrices')"
      ]
     },
     "metadata": {},
     "output_type": "display_data"
    }
   ],
   "source": [
    "# this directory has the input data given to the clustering methods\n",
    "SIMILARITY_MATRICES_DIR = DATASET_CONFIG[\"SIMILARITY_MATRICES_DIR\"]\n",
    "display(SIMILARITY_MATRICES_DIR)"
   ]
  },
  {
   "cell_type": "code",
   "execution_count": 8,
   "id": "7eff043e-9416-486b-ae13-3dcda0e45f7d",
   "metadata": {
    "execution": {
     "iopub.execute_input": "2021-10-04T01:40:45.822356Z",
     "iopub.status.busy": "2021-10-04T01:40:45.821879Z",
     "iopub.status.idle": "2021-10-04T01:40:45.823988Z",
     "shell.execute_reply": "2021-10-04T01:40:45.824443Z"
    },
    "papermill": {
     "duration": 0.080436,
     "end_time": "2021-10-04T01:40:45.824562",
     "exception": false,
     "start_time": "2021-10-04T01:40:45.744126",
     "status": "completed"
    },
    "tags": []
   },
   "outputs": [
    {
     "data": {
      "text/plain": [
       "'gtex_v8_data_{tissue}-{gene_sel_strategy}-{corr_method}.pkl'"
      ]
     },
     "metadata": {},
     "output_type": "display_data"
    }
   ],
   "source": [
    "SIMILARITY_MATRIX_FILENAME_TEMPLATE = DATASET_CONFIG[\n",
    "    \"SIMILARITY_MATRIX_FILENAME_TEMPLATE\"\n",
    "]\n",
    "display(SIMILARITY_MATRIX_FILENAME_TEMPLATE)"
   ]
  },
  {
   "cell_type": "code",
   "execution_count": 9,
   "id": "ae7489d8-c09f-43a8-b52c-a9049266f734",
   "metadata": {
    "execution": {
     "iopub.execute_input": "2021-10-04T01:40:45.968683Z",
     "iopub.status.busy": "2021-10-04T01:40:45.968124Z",
     "iopub.status.idle": "2021-10-04T01:40:45.972103Z",
     "shell.execute_reply": "2021-10-04T01:40:45.971595Z"
    },
    "papermill": {
     "duration": 0.077258,
     "end_time": "2021-10-04T01:40:45.972199",
     "exception": false,
     "start_time": "2021-10-04T01:40:45.894941",
     "status": "completed"
    },
    "tags": []
   },
   "outputs": [
    {
     "data": {
      "text/plain": [
       "PosixPath('/opt/data/results/gtex_v8/gene_set_enrichment')"
      ]
     },
     "metadata": {},
     "output_type": "display_data"
    }
   ],
   "source": [
    "OUTPUT_DIR = DATASET_CONFIG[\"GENE_ENRICHMENT_DIR\"]\n",
    "OUTPUT_DIR.mkdir(parents=True, exist_ok=True)\n",
    "display(OUTPUT_DIR)"
   ]
  },
  {
   "cell_type": "markdown",
   "id": "6e0d3fbd-1090-466c-aa2e-176f7887c4cc",
   "metadata": {
    "papermill": {
     "duration": 0.071388,
     "end_time": "2021-10-04T01:40:46.116051",
     "exception": false,
     "start_time": "2021-10-04T01:40:46.044663",
     "status": "completed"
    },
    "tags": []
   },
   "source": [
    "# Get data files"
   ]
  },
  {
   "cell_type": "code",
   "execution_count": 10,
   "id": "735c38ea-9cb9-4e5f-aa1d-32cf420c45b6",
   "metadata": {
    "execution": {
     "iopub.execute_input": "2021-10-04T01:40:46.263844Z",
     "iopub.status.busy": "2021-10-04T01:40:46.263407Z",
     "iopub.status.idle": "2021-10-04T01:40:46.265362Z",
     "shell.execute_reply": "2021-10-04T01:40:46.265002Z"
    },
    "papermill": {
     "duration": 0.076843,
     "end_time": "2021-10-04T01:40:46.265461",
     "exception": false,
     "start_time": "2021-10-04T01:40:46.188618",
     "status": "completed"
    },
    "tags": []
   },
   "outputs": [],
   "source": [
    "filename_pattern = re.compile(DATASET_CONFIG[\"CLUSTERING_FILENAME_PATTERN\"])"
   ]
  },
  {
   "cell_type": "code",
   "execution_count": 11,
   "id": "0a2c5f50-ec5c-46e8-8918-753cbc941c24",
   "metadata": {
    "execution": {
     "iopub.execute_input": "2021-10-04T01:40:46.413160Z",
     "iopub.status.busy": "2021-10-04T01:40:46.412656Z",
     "iopub.status.idle": "2021-10-04T01:40:46.416896Z",
     "shell.execute_reply": "2021-10-04T01:40:46.417259Z"
    },
    "papermill": {
     "duration": 0.080033,
     "end_time": "2021-10-04T01:40:46.417378",
     "exception": false,
     "start_time": "2021-10-04T01:40:46.337345",
     "status": "completed"
    },
    "tags": []
   },
   "outputs": [
    {
     "data": {
      "text/plain": [
       "5"
      ]
     },
     "metadata": {},
     "output_type": "display_data"
    },
    {
     "data": {
      "text/plain": [
       "[PosixPath('/opt/data/results/gtex_v8/clustering/gtex_v8_data_adipose_subcutaneous-var_pc_log2-spearman_abs-SpectralClustering.pkl'),\n",
       " PosixPath('/opt/data/results/gtex_v8/clustering/gtex_v8_data_artery_tibial-var_pc_log2-spearman_abs-SpectralClustering.pkl'),\n",
       " PosixPath('/opt/data/results/gtex_v8/clustering/gtex_v8_data_muscle_skeletal-var_pc_log2-spearman_abs-SpectralClustering.pkl'),\n",
       " PosixPath('/opt/data/results/gtex_v8/clustering/gtex_v8_data_skin_sun_exposed_lower_leg-var_pc_log2-spearman_abs-SpectralClustering.pkl'),\n",
       " PosixPath('/opt/data/results/gtex_v8/clustering/gtex_v8_data_whole_blood-var_pc_log2-spearman_abs-SpectralClustering.pkl')]"
      ]
     },
     "metadata": {},
     "output_type": "display_data"
    }
   ],
   "source": [
    "# get input data files according to Settings\n",
    "input_files = sorted(\n",
    "    [\n",
    "        f\n",
    "        for f in INPUT_DIR.iterdir()\n",
    "        if (m := re.search(filename_pattern, str(f))) is not None\n",
    "        and m.group(\"corr_method\") == CORRELATION_METHOD_NAME\n",
    "    ]\n",
    ")\n",
    "display(len(input_files))\n",
    "display(input_files[:5])\n",
    "\n",
    "assert len(input_files) > 0"
   ]
  },
  {
   "cell_type": "markdown",
   "id": "04fe07b3-84e7-41f9-ba5d-09139ef0f69c",
   "metadata": {
    "papermill": {
     "duration": 0.073737,
     "end_time": "2021-10-04T01:40:46.565897",
     "exception": false,
     "start_time": "2021-10-04T01:40:46.492160",
     "status": "completed"
    },
    "tags": []
   },
   "source": [
    "# Preview input data"
   ]
  },
  {
   "cell_type": "markdown",
   "id": "9580f4e4-ca5d-4551-8545-7c8a3dc13d6b",
   "metadata": {
    "papermill": {
     "duration": 0.073097,
     "end_time": "2021-10-04T01:40:46.713118",
     "exception": false,
     "start_time": "2021-10-04T01:40:46.640021",
     "status": "completed"
    },
    "tags": []
   },
   "source": [
    "## Clustering results"
   ]
  },
  {
   "cell_type": "code",
   "execution_count": 12,
   "id": "ce5ee397-714e-430c-90c4-c648cc4780bf",
   "metadata": {
    "execution": {
     "iopub.execute_input": "2021-10-04T01:40:46.871820Z",
     "iopub.status.busy": "2021-10-04T01:40:46.871312Z",
     "iopub.status.idle": "2021-10-04T01:40:46.873670Z",
     "shell.execute_reply": "2021-10-04T01:40:46.874037Z"
    },
    "papermill": {
     "duration": 0.08138,
     "end_time": "2021-10-04T01:40:46.874156",
     "exception": false,
     "start_time": "2021-10-04T01:40:46.792776",
     "status": "completed"
    },
    "tags": []
   },
   "outputs": [],
   "source": [
    "tmp = pd.read_pickle(input_files[0])"
   ]
  },
  {
   "cell_type": "code",
   "execution_count": 13,
   "id": "51ad6d88-77d9-4ff9-ba36-fcefc4454dbe",
   "metadata": {
    "execution": {
     "iopub.execute_input": "2021-10-04T01:40:47.025052Z",
     "iopub.status.busy": "2021-10-04T01:40:47.024460Z",
     "iopub.status.idle": "2021-10-04T01:40:47.027274Z",
     "shell.execute_reply": "2021-10-04T01:40:47.026828Z"
    },
    "papermill": {
     "duration": 0.079793,
     "end_time": "2021-10-04T01:40:47.027368",
     "exception": false,
     "start_time": "2021-10-04T01:40:46.947575",
     "status": "completed"
    },
    "tags": []
   },
   "outputs": [
    {
     "data": {
      "text/plain": [
       "(25, 4)"
      ]
     },
     "execution_count": 13,
     "metadata": {},
     "output_type": "execute_result"
    }
   ],
   "source": [
    "tmp.shape"
   ]
  },
  {
   "cell_type": "code",
   "execution_count": 14,
   "id": "a25a8fe5-f96f-4327-b5af-74845de69074",
   "metadata": {
    "execution": {
     "iopub.execute_input": "2021-10-04T01:40:47.181799Z",
     "iopub.status.busy": "2021-10-04T01:40:47.181334Z",
     "iopub.status.idle": "2021-10-04T01:40:47.192689Z",
     "shell.execute_reply": "2021-10-04T01:40:47.192238Z"
    },
    "papermill": {
     "duration": 0.089488,
     "end_time": "2021-10-04T01:40:47.192785",
     "exception": false,
     "start_time": "2021-10-04T01:40:47.103297",
     "status": "completed"
    },
    "tags": []
   },
   "outputs": [
    {
     "data": {
      "text/html": [
       "<div>\n",
       "<style scoped>\n",
       "    .dataframe tbody tr th:only-of-type {\n",
       "        vertical-align: middle;\n",
       "    }\n",
       "\n",
       "    .dataframe tbody tr th {\n",
       "        vertical-align: top;\n",
       "    }\n",
       "\n",
       "    .dataframe thead th {\n",
       "        text-align: right;\n",
       "    }\n",
       "</style>\n",
       "<table border=\"1\" class=\"dataframe\">\n",
       "  <thead>\n",
       "    <tr style=\"text-align: right;\">\n",
       "      <th></th>\n",
       "      <th>params</th>\n",
       "      <th>partition</th>\n",
       "      <th>n_clusters</th>\n",
       "      <th>si_score</th>\n",
       "    </tr>\n",
       "    <tr>\n",
       "      <th>id</th>\n",
       "      <th></th>\n",
       "      <th></th>\n",
       "      <th></th>\n",
       "      <th></th>\n",
       "    </tr>\n",
       "  </thead>\n",
       "  <tbody>\n",
       "    <tr>\n",
       "      <th>SpectralClustering #0</th>\n",
       "      <td>{\"affinity\": \"precomputed\", \"assign_labels\": \"...</td>\n",
       "      <td>[0, 0, 0, 0, 0, 0, 1, 0, 0, 0, 1, 0, 1, 0, 0, ...</td>\n",
       "      <td>2</td>\n",
       "      <td>0.097958</td>\n",
       "    </tr>\n",
       "    <tr>\n",
       "      <th>SpectralClustering #1</th>\n",
       "      <td>{\"affinity\": \"precomputed\", \"assign_labels\": \"...</td>\n",
       "      <td>[1, 3, 0, 4, 1, 1, 2, 1, 1, 1, 4, 0, 4, 0, 3, ...</td>\n",
       "      <td>5</td>\n",
       "      <td>0.085897</td>\n",
       "    </tr>\n",
       "    <tr>\n",
       "      <th>SpectralClustering #2</th>\n",
       "      <td>{\"affinity\": \"precomputed\", \"assign_labels\": \"...</td>\n",
       "      <td>[2, 8, 1, 9, 7, 2, 2, 2, 7, 2, 9, 8, 9, 4, 7, ...</td>\n",
       "      <td>10</td>\n",
       "      <td>0.100657</td>\n",
       "    </tr>\n",
       "    <tr>\n",
       "      <th>SpectralClustering #3</th>\n",
       "      <td>{\"affinity\": \"precomputed\", \"assign_labels\": \"...</td>\n",
       "      <td>[2, 13, 10, 5, 3, 2, 2, 2, 3, 2, 1, 1, 5, 3, 8...</td>\n",
       "      <td>15</td>\n",
       "      <td>0.103594</td>\n",
       "    </tr>\n",
       "    <tr>\n",
       "      <th>SpectralClustering #4</th>\n",
       "      <td>{\"affinity\": \"precomputed\", \"assign_labels\": \"...</td>\n",
       "      <td>[5, 1, 17, 4, 9, 5, 9, 5, 9, 5, 4, 15, 4, 9, 3...</td>\n",
       "      <td>20</td>\n",
       "      <td>0.097459</td>\n",
       "    </tr>\n",
       "  </tbody>\n",
       "</table>\n",
       "</div>"
      ],
      "text/plain": [
       "                                                                  params  \\\n",
       "id                                                                         \n",
       "SpectralClustering #0  {\"affinity\": \"precomputed\", \"assign_labels\": \"...   \n",
       "SpectralClustering #1  {\"affinity\": \"precomputed\", \"assign_labels\": \"...   \n",
       "SpectralClustering #2  {\"affinity\": \"precomputed\", \"assign_labels\": \"...   \n",
       "SpectralClustering #3  {\"affinity\": \"precomputed\", \"assign_labels\": \"...   \n",
       "SpectralClustering #4  {\"affinity\": \"precomputed\", \"assign_labels\": \"...   \n",
       "\n",
       "                                                               partition  \\\n",
       "id                                                                         \n",
       "SpectralClustering #0  [0, 0, 0, 0, 0, 0, 1, 0, 0, 0, 1, 0, 1, 0, 0, ...   \n",
       "SpectralClustering #1  [1, 3, 0, 4, 1, 1, 2, 1, 1, 1, 4, 0, 4, 0, 3, ...   \n",
       "SpectralClustering #2  [2, 8, 1, 9, 7, 2, 2, 2, 7, 2, 9, 8, 9, 4, 7, ...   \n",
       "SpectralClustering #3  [2, 13, 10, 5, 3, 2, 2, 2, 3, 2, 1, 1, 5, 3, 8...   \n",
       "SpectralClustering #4  [5, 1, 17, 4, 9, 5, 9, 5, 9, 5, 4, 15, 4, 9, 3...   \n",
       "\n",
       "                       n_clusters  si_score  \n",
       "id                                           \n",
       "SpectralClustering #0           2  0.097958  \n",
       "SpectralClustering #1           5  0.085897  \n",
       "SpectralClustering #2          10  0.100657  \n",
       "SpectralClustering #3          15  0.103594  \n",
       "SpectralClustering #4          20  0.097459  "
      ]
     },
     "execution_count": 14,
     "metadata": {},
     "output_type": "execute_result"
    }
   ],
   "source": [
    "tmp.head()"
   ]
  },
  {
   "cell_type": "markdown",
   "id": "21ee675e-15d9-442e-8e6f-87c7578e9e6c",
   "metadata": {
    "papermill": {
     "duration": 0.075571,
     "end_time": "2021-10-04T01:40:47.344163",
     "exception": false,
     "start_time": "2021-10-04T01:40:47.268592",
     "status": "completed"
    },
    "tags": []
   },
   "source": [
    "## Similarity matrices (input to clustering methods)"
   ]
  },
  {
   "cell_type": "code",
   "execution_count": 15,
   "id": "9363dc2c-6717-43ac-9448-b6019a1cd28a",
   "metadata": {
    "execution": {
     "iopub.execute_input": "2021-10-04T01:40:47.499240Z",
     "iopub.status.busy": "2021-10-04T01:40:47.498610Z",
     "iopub.status.idle": "2021-10-04T01:40:47.501535Z",
     "shell.execute_reply": "2021-10-04T01:40:47.501074Z"
    },
    "papermill": {
     "duration": 0.082638,
     "end_time": "2021-10-04T01:40:47.501633",
     "exception": false,
     "start_time": "2021-10-04T01:40:47.418995",
     "status": "completed"
    },
    "tags": []
   },
   "outputs": [
    {
     "data": {
      "text/plain": [
       "'gtex_v8_data_adipose_subcutaneous-var_pc_log2-spearman.pkl'"
      ]
     },
     "metadata": {},
     "output_type": "display_data"
    }
   ],
   "source": [
    "similarity_matrix_filename = SIMILARITY_MATRIX_FILENAME_TEMPLATE.format(\n",
    "    tissue=\"adipose_subcutaneous\",\n",
    "    gene_sel_strategy=\"var_pc_log2\",\n",
    "    corr_method=CORRELATION_METHOD_NAME.split(\"_\")[0]\n",
    "    if not CORRELATION_METHOD_NAME.startswith(\"clustermatch\")\n",
    "    else CORRELATION_METHOD_NAME,\n",
    ")\n",
    "display(similarity_matrix_filename)"
   ]
  },
  {
   "cell_type": "code",
   "execution_count": 16,
   "id": "b1916d25-8cd2-430f-ab08-de6d80263c17",
   "metadata": {
    "execution": {
     "iopub.execute_input": "2021-10-04T01:40:47.659284Z",
     "iopub.status.busy": "2021-10-04T01:40:47.658828Z",
     "iopub.status.idle": "2021-10-04T01:40:47.740654Z",
     "shell.execute_reply": "2021-10-04T01:40:47.740190Z"
    },
    "papermill": {
     "duration": 0.16212,
     "end_time": "2021-10-04T01:40:47.740769",
     "exception": false,
     "start_time": "2021-10-04T01:40:47.578649",
     "status": "completed"
    },
    "tags": []
   },
   "outputs": [],
   "source": [
    "tmp = pd.read_pickle(SIMILARITY_MATRICES_DIR / similarity_matrix_filename)"
   ]
  },
  {
   "cell_type": "code",
   "execution_count": 17,
   "id": "d29dfd29-1d42-40fb-b19a-09367f3ce2f9",
   "metadata": {
    "execution": {
     "iopub.execute_input": "2021-10-04T01:40:47.909538Z",
     "iopub.status.busy": "2021-10-04T01:40:47.909016Z",
     "iopub.status.idle": "2021-10-04T01:40:47.911475Z",
     "shell.execute_reply": "2021-10-04T01:40:47.911814Z"
    },
    "papermill": {
     "duration": 0.083274,
     "end_time": "2021-10-04T01:40:47.911970",
     "exception": false,
     "start_time": "2021-10-04T01:40:47.828696",
     "status": "completed"
    },
    "tags": []
   },
   "outputs": [
    {
     "data": {
      "text/plain": [
       "(5000, 5000)"
      ]
     },
     "execution_count": 17,
     "metadata": {},
     "output_type": "execute_result"
    }
   ],
   "source": [
    "tmp.shape"
   ]
  },
  {
   "cell_type": "code",
   "execution_count": 18,
   "id": "2681f21b-4bc8-4452-ac6c-437694fc31d3",
   "metadata": {
    "execution": {
     "iopub.execute_input": "2021-10-04T01:40:48.086993Z",
     "iopub.status.busy": "2021-10-04T01:40:48.086197Z",
     "iopub.status.idle": "2021-10-04T01:40:48.089093Z",
     "shell.execute_reply": "2021-10-04T01:40:48.089465Z"
    },
    "papermill": {
     "duration": 0.099568,
     "end_time": "2021-10-04T01:40:48.089587",
     "exception": false,
     "start_time": "2021-10-04T01:40:47.990019",
     "status": "completed"
    },
    "tags": []
   },
   "outputs": [
    {
     "data": {
      "text/html": [
       "<div>\n",
       "<style scoped>\n",
       "    .dataframe tbody tr th:only-of-type {\n",
       "        vertical-align: middle;\n",
       "    }\n",
       "\n",
       "    .dataframe tbody tr th {\n",
       "        vertical-align: top;\n",
       "    }\n",
       "\n",
       "    .dataframe thead th {\n",
       "        text-align: right;\n",
       "    }\n",
       "</style>\n",
       "<table border=\"1\" class=\"dataframe\">\n",
       "  <thead>\n",
       "    <tr style=\"text-align: right;\">\n",
       "      <th>gene_ens_id</th>\n",
       "      <th>ENSG00000129824.15</th>\n",
       "      <th>ENSG00000149968.11</th>\n",
       "      <th>ENSG00000134184.12</th>\n",
       "      <th>ENSG00000224114.1</th>\n",
       "      <th>ENSG00000173432.10</th>\n",
       "      <th>ENSG00000067048.16</th>\n",
       "      <th>ENSG00000229807.10</th>\n",
       "      <th>ENSG00000012817.15</th>\n",
       "      <th>ENSG00000134339.8</th>\n",
       "      <th>ENSG00000175084.11</th>\n",
       "      <th>...</th>\n",
       "      <th>ENSG00000197467.13</th>\n",
       "      <th>ENSG00000279807.1</th>\n",
       "      <th>ENSG00000107742.12</th>\n",
       "      <th>ENSG00000176454.13</th>\n",
       "      <th>ENSG00000212206.1</th>\n",
       "      <th>ENSG00000104611.11</th>\n",
       "      <th>ENSG00000181800.5</th>\n",
       "      <th>ENSG00000171049.8</th>\n",
       "      <th>ENSG00000257671.1</th>\n",
       "      <th>ENSG00000180448.10</th>\n",
       "    </tr>\n",
       "    <tr>\n",
       "      <th>gene_ens_id</th>\n",
       "      <th></th>\n",
       "      <th></th>\n",
       "      <th></th>\n",
       "      <th></th>\n",
       "      <th></th>\n",
       "      <th></th>\n",
       "      <th></th>\n",
       "      <th></th>\n",
       "      <th></th>\n",
       "      <th></th>\n",
       "      <th></th>\n",
       "      <th></th>\n",
       "      <th></th>\n",
       "      <th></th>\n",
       "      <th></th>\n",
       "      <th></th>\n",
       "      <th></th>\n",
       "      <th></th>\n",
       "      <th></th>\n",
       "      <th></th>\n",
       "      <th></th>\n",
       "    </tr>\n",
       "  </thead>\n",
       "  <tbody>\n",
       "    <tr>\n",
       "      <th>ENSG00000129824.15</th>\n",
       "      <td>1.000000</td>\n",
       "      <td>0.404501</td>\n",
       "      <td>0.016874</td>\n",
       "      <td>0.102808</td>\n",
       "      <td>-0.463379</td>\n",
       "      <td>0.710166</td>\n",
       "      <td>-0.649073</td>\n",
       "      <td>0.730501</td>\n",
       "      <td>-0.479843</td>\n",
       "      <td>0.279987</td>\n",
       "      <td>...</td>\n",
       "      <td>0.074034</td>\n",
       "      <td>-0.085351</td>\n",
       "      <td>-0.209944</td>\n",
       "      <td>0.212915</td>\n",
       "      <td>-0.106794</td>\n",
       "      <td>-0.030385</td>\n",
       "      <td>0.048907</td>\n",
       "      <td>-0.077775</td>\n",
       "      <td>-0.000937</td>\n",
       "      <td>-0.093243</td>\n",
       "    </tr>\n",
       "    <tr>\n",
       "      <th>ENSG00000149968.11</th>\n",
       "      <td>0.404501</td>\n",
       "      <td>1.000000</td>\n",
       "      <td>-0.062548</td>\n",
       "      <td>0.063588</td>\n",
       "      <td>-0.064418</td>\n",
       "      <td>0.286312</td>\n",
       "      <td>-0.333030</td>\n",
       "      <td>0.341573</td>\n",
       "      <td>-0.122310</td>\n",
       "      <td>0.153661</td>\n",
       "      <td>...</td>\n",
       "      <td>-0.166098</td>\n",
       "      <td>-0.207672</td>\n",
       "      <td>-0.135442</td>\n",
       "      <td>-0.103594</td>\n",
       "      <td>-0.197815</td>\n",
       "      <td>0.077693</td>\n",
       "      <td>0.177712</td>\n",
       "      <td>0.148204</td>\n",
       "      <td>0.188003</td>\n",
       "      <td>-0.083599</td>\n",
       "    </tr>\n",
       "    <tr>\n",
       "      <th>ENSG00000134184.12</th>\n",
       "      <td>0.016874</td>\n",
       "      <td>-0.062548</td>\n",
       "      <td>1.000000</td>\n",
       "      <td>0.035498</td>\n",
       "      <td>-0.064229</td>\n",
       "      <td>-0.017118</td>\n",
       "      <td>0.053330</td>\n",
       "      <td>0.023757</td>\n",
       "      <td>-0.085841</td>\n",
       "      <td>0.012899</td>\n",
       "      <td>...</td>\n",
       "      <td>0.167310</td>\n",
       "      <td>0.035928</td>\n",
       "      <td>0.001913</td>\n",
       "      <td>0.098022</td>\n",
       "      <td>-0.038101</td>\n",
       "      <td>0.083429</td>\n",
       "      <td>0.064641</td>\n",
       "      <td>-0.140293</td>\n",
       "      <td>0.011012</td>\n",
       "      <td>0.027150</td>\n",
       "    </tr>\n",
       "    <tr>\n",
       "      <th>ENSG00000224114.1</th>\n",
       "      <td>0.102808</td>\n",
       "      <td>0.063588</td>\n",
       "      <td>0.035498</td>\n",
       "      <td>1.000000</td>\n",
       "      <td>-0.009197</td>\n",
       "      <td>0.030979</td>\n",
       "      <td>-0.026245</td>\n",
       "      <td>0.021601</td>\n",
       "      <td>-0.018495</td>\n",
       "      <td>0.025221</td>\n",
       "      <td>...</td>\n",
       "      <td>-0.059515</td>\n",
       "      <td>0.038625</td>\n",
       "      <td>-0.011811</td>\n",
       "      <td>0.026184</td>\n",
       "      <td>-0.072435</td>\n",
       "      <td>0.000165</td>\n",
       "      <td>0.028716</td>\n",
       "      <td>0.094844</td>\n",
       "      <td>0.001404</td>\n",
       "      <td>-0.014584</td>\n",
       "    </tr>\n",
       "    <tr>\n",
       "      <th>ENSG00000173432.10</th>\n",
       "      <td>-0.463379</td>\n",
       "      <td>-0.064418</td>\n",
       "      <td>-0.064229</td>\n",
       "      <td>-0.009197</td>\n",
       "      <td>1.000000</td>\n",
       "      <td>-0.459325</td>\n",
       "      <td>0.344925</td>\n",
       "      <td>-0.454130</td>\n",
       "      <td>0.966881</td>\n",
       "      <td>-0.294052</td>\n",
       "      <td>...</td>\n",
       "      <td>-0.276992</td>\n",
       "      <td>-0.046945</td>\n",
       "      <td>0.274067</td>\n",
       "      <td>-0.423291</td>\n",
       "      <td>0.036829</td>\n",
       "      <td>0.115715</td>\n",
       "      <td>-0.076436</td>\n",
       "      <td>0.239778</td>\n",
       "      <td>0.033209</td>\n",
       "      <td>0.108790</td>\n",
       "    </tr>\n",
       "  </tbody>\n",
       "</table>\n",
       "<p>5 rows × 5000 columns</p>\n",
       "</div>"
      ],
      "text/plain": [
       "gene_ens_id         ENSG00000129824.15  ENSG00000149968.11  \\\n",
       "gene_ens_id                                                  \n",
       "ENSG00000129824.15            1.000000            0.404501   \n",
       "ENSG00000149968.11            0.404501            1.000000   \n",
       "ENSG00000134184.12            0.016874           -0.062548   \n",
       "ENSG00000224114.1             0.102808            0.063588   \n",
       "ENSG00000173432.10           -0.463379           -0.064418   \n",
       "\n",
       "gene_ens_id         ENSG00000134184.12  ENSG00000224114.1  ENSG00000173432.10  \\\n",
       "gene_ens_id                                                                     \n",
       "ENSG00000129824.15            0.016874           0.102808           -0.463379   \n",
       "ENSG00000149968.11           -0.062548           0.063588           -0.064418   \n",
       "ENSG00000134184.12            1.000000           0.035498           -0.064229   \n",
       "ENSG00000224114.1             0.035498           1.000000           -0.009197   \n",
       "ENSG00000173432.10           -0.064229          -0.009197            1.000000   \n",
       "\n",
       "gene_ens_id         ENSG00000067048.16  ENSG00000229807.10  \\\n",
       "gene_ens_id                                                  \n",
       "ENSG00000129824.15            0.710166           -0.649073   \n",
       "ENSG00000149968.11            0.286312           -0.333030   \n",
       "ENSG00000134184.12           -0.017118            0.053330   \n",
       "ENSG00000224114.1             0.030979           -0.026245   \n",
       "ENSG00000173432.10           -0.459325            0.344925   \n",
       "\n",
       "gene_ens_id         ENSG00000012817.15  ENSG00000134339.8  ENSG00000175084.11  \\\n",
       "gene_ens_id                                                                     \n",
       "ENSG00000129824.15            0.730501          -0.479843            0.279987   \n",
       "ENSG00000149968.11            0.341573          -0.122310            0.153661   \n",
       "ENSG00000134184.12            0.023757          -0.085841            0.012899   \n",
       "ENSG00000224114.1             0.021601          -0.018495            0.025221   \n",
       "ENSG00000173432.10           -0.454130           0.966881           -0.294052   \n",
       "\n",
       "gene_ens_id         ...  ENSG00000197467.13  ENSG00000279807.1  \\\n",
       "gene_ens_id         ...                                          \n",
       "ENSG00000129824.15  ...            0.074034          -0.085351   \n",
       "ENSG00000149968.11  ...           -0.166098          -0.207672   \n",
       "ENSG00000134184.12  ...            0.167310           0.035928   \n",
       "ENSG00000224114.1   ...           -0.059515           0.038625   \n",
       "ENSG00000173432.10  ...           -0.276992          -0.046945   \n",
       "\n",
       "gene_ens_id         ENSG00000107742.12  ENSG00000176454.13  ENSG00000212206.1  \\\n",
       "gene_ens_id                                                                     \n",
       "ENSG00000129824.15           -0.209944            0.212915          -0.106794   \n",
       "ENSG00000149968.11           -0.135442           -0.103594          -0.197815   \n",
       "ENSG00000134184.12            0.001913            0.098022          -0.038101   \n",
       "ENSG00000224114.1            -0.011811            0.026184          -0.072435   \n",
       "ENSG00000173432.10            0.274067           -0.423291           0.036829   \n",
       "\n",
       "gene_ens_id         ENSG00000104611.11  ENSG00000181800.5  ENSG00000171049.8  \\\n",
       "gene_ens_id                                                                    \n",
       "ENSG00000129824.15           -0.030385           0.048907          -0.077775   \n",
       "ENSG00000149968.11            0.077693           0.177712           0.148204   \n",
       "ENSG00000134184.12            0.083429           0.064641          -0.140293   \n",
       "ENSG00000224114.1             0.000165           0.028716           0.094844   \n",
       "ENSG00000173432.10            0.115715          -0.076436           0.239778   \n",
       "\n",
       "gene_ens_id         ENSG00000257671.1  ENSG00000180448.10  \n",
       "gene_ens_id                                                \n",
       "ENSG00000129824.15          -0.000937           -0.093243  \n",
       "ENSG00000149968.11           0.188003           -0.083599  \n",
       "ENSG00000134184.12           0.011012            0.027150  \n",
       "ENSG00000224114.1            0.001404           -0.014584  \n",
       "ENSG00000173432.10           0.033209            0.108790  \n",
       "\n",
       "[5 rows x 5000 columns]"
      ]
     },
     "execution_count": 18,
     "metadata": {},
     "output_type": "execute_result"
    }
   ],
   "source": [
    "tmp.head()"
   ]
  },
  {
   "cell_type": "markdown",
   "id": "51d7a057-e0d3-4495-a53b-52b4a38f2a94",
   "metadata": {
    "papermill": {
     "duration": 0.079455,
     "end_time": "2021-10-04T01:40:48.250240",
     "exception": false,
     "start_time": "2021-10-04T01:40:48.170785",
     "status": "completed"
    },
    "tags": []
   },
   "source": [
    "### Convert Ensembl Gene IDs to Entrez IDs"
   ]
  },
  {
   "cell_type": "code",
   "execution_count": 19,
   "id": "ca0ed202-4c3d-403e-8ad0-797df5939386",
   "metadata": {
    "execution": {
     "iopub.execute_input": "2021-10-04T01:40:48.411735Z",
     "iopub.status.busy": "2021-10-04T01:40:48.411129Z",
     "iopub.status.idle": "2021-10-04T01:40:48.414011Z",
     "shell.execute_reply": "2021-10-04T01:40:48.413558Z"
    },
    "papermill": {
     "duration": 0.0852,
     "end_time": "2021-10-04T01:40:48.414106",
     "exception": false,
     "start_time": "2021-10-04T01:40:48.328906",
     "status": "completed"
    },
    "tags": []
   },
   "outputs": [
    {
     "data": {
      "text/plain": [
       "PosixPath('/opt/data/data/gtex_v8/gtex_entrez_gene_ids_mappings.pkl')"
      ]
     },
     "metadata": {},
     "output_type": "display_data"
    }
   ],
   "source": [
    "input_filename = conf.GTEX[\"DATA_DIR\"] / \"gtex_entrez_gene_ids_mappings.pkl\"\n",
    "display(input_filename)\n",
    "assert input_filename.exists()"
   ]
  },
  {
   "cell_type": "code",
   "execution_count": 20,
   "id": "a7d2f391-f925-447a-b4b1-f60bc4653daa",
   "metadata": {
    "execution": {
     "iopub.execute_input": "2021-10-04T01:40:48.578680Z",
     "iopub.status.busy": "2021-10-04T01:40:48.578194Z",
     "iopub.status.idle": "2021-10-04T01:40:48.591498Z",
     "shell.execute_reply": "2021-10-04T01:40:48.591130Z"
    },
    "papermill": {
     "duration": 0.096261,
     "end_time": "2021-10-04T01:40:48.591598",
     "exception": false,
     "start_time": "2021-10-04T01:40:48.495337",
     "status": "completed"
    },
    "tags": []
   },
   "outputs": [],
   "source": [
    "gene_ids_mappings = pd.read_pickle(input_filename)"
   ]
  },
  {
   "cell_type": "code",
   "execution_count": 21,
   "id": "b2910fe8-7f7b-4b87-bfbe-d3642f3410b9",
   "metadata": {
    "execution": {
     "iopub.execute_input": "2021-10-04T01:40:48.756497Z",
     "iopub.status.busy": "2021-10-04T01:40:48.755989Z",
     "iopub.status.idle": "2021-10-04T01:40:48.758367Z",
     "shell.execute_reply": "2021-10-04T01:40:48.758751Z"
    },
    "papermill": {
     "duration": 0.08756,
     "end_time": "2021-10-04T01:40:48.758880",
     "exception": false,
     "start_time": "2021-10-04T01:40:48.671320",
     "status": "completed"
    },
    "tags": []
   },
   "outputs": [
    {
     "data": {
      "text/plain": [
       "(34527, 3)"
      ]
     },
     "execution_count": 21,
     "metadata": {},
     "output_type": "execute_result"
    }
   ],
   "source": [
    "gene_ids_mappings.shape"
   ]
  },
  {
   "cell_type": "code",
   "execution_count": 22,
   "id": "dced4328-14c8-40d7-a479-fcd83eb7bb60",
   "metadata": {
    "execution": {
     "iopub.execute_input": "2021-10-04T01:40:48.936351Z",
     "iopub.status.busy": "2021-10-04T01:40:48.935754Z",
     "iopub.status.idle": "2021-10-04T01:40:48.938377Z",
     "shell.execute_reply": "2021-10-04T01:40:48.938726Z"
    },
    "papermill": {
     "duration": 0.090626,
     "end_time": "2021-10-04T01:40:48.938841",
     "exception": false,
     "start_time": "2021-10-04T01:40:48.848215",
     "status": "completed"
    },
    "tags": []
   },
   "outputs": [
    {
     "data": {
      "text/html": [
       "<div>\n",
       "<style scoped>\n",
       "    .dataframe tbody tr th:only-of-type {\n",
       "        vertical-align: middle;\n",
       "    }\n",
       "\n",
       "    .dataframe tbody tr th {\n",
       "        vertical-align: top;\n",
       "    }\n",
       "\n",
       "    .dataframe thead th {\n",
       "        text-align: right;\n",
       "    }\n",
       "</style>\n",
       "<table border=\"1\" class=\"dataframe\">\n",
       "  <thead>\n",
       "    <tr style=\"text-align: right;\">\n",
       "      <th></th>\n",
       "      <th>gene_ens_id_v</th>\n",
       "      <th>ensembl_id</th>\n",
       "      <th>entrez_id</th>\n",
       "    </tr>\n",
       "  </thead>\n",
       "  <tbody>\n",
       "    <tr>\n",
       "      <th>0</th>\n",
       "      <td>ENSG00000145309.5</td>\n",
       "      <td>ENSG00000145309</td>\n",
       "      <td>85438</td>\n",
       "    </tr>\n",
       "    <tr>\n",
       "      <th>1</th>\n",
       "      <td>ENSG00000175820.3</td>\n",
       "      <td>ENSG00000175820</td>\n",
       "      <td>643677</td>\n",
       "    </tr>\n",
       "    <tr>\n",
       "      <th>2</th>\n",
       "      <td>ENSG00000083454.21</td>\n",
       "      <td>ENSG00000083454</td>\n",
       "      <td>5026</td>\n",
       "    </tr>\n",
       "    <tr>\n",
       "      <th>3</th>\n",
       "      <td>ENSG00000071794.15</td>\n",
       "      <td>ENSG00000071794</td>\n",
       "      <td>6596</td>\n",
       "    </tr>\n",
       "    <tr>\n",
       "      <th>4</th>\n",
       "      <td>ENSG00000211918.1</td>\n",
       "      <td>ENSG00000211918</td>\n",
       "      <td>28503</td>\n",
       "    </tr>\n",
       "  </tbody>\n",
       "</table>\n",
       "</div>"
      ],
      "text/plain": [
       "        gene_ens_id_v       ensembl_id entrez_id\n",
       "0   ENSG00000145309.5  ENSG00000145309     85438\n",
       "1   ENSG00000175820.3  ENSG00000175820    643677\n",
       "2  ENSG00000083454.21  ENSG00000083454      5026\n",
       "3  ENSG00000071794.15  ENSG00000071794      6596\n",
       "4   ENSG00000211918.1  ENSG00000211918     28503"
      ]
     },
     "execution_count": 22,
     "metadata": {},
     "output_type": "execute_result"
    }
   ],
   "source": [
    "gene_ids_mappings.head()"
   ]
  },
  {
   "cell_type": "code",
   "execution_count": 23,
   "id": "2dc964bf-d535-4021-b001-a2d0a334985f",
   "metadata": {
    "execution": {
     "iopub.execute_input": "2021-10-04T01:40:49.106999Z",
     "iopub.status.busy": "2021-10-04T01:40:49.106504Z",
     "iopub.status.idle": "2021-10-04T01:40:49.133505Z",
     "shell.execute_reply": "2021-10-04T01:40:49.133057Z"
    },
    "papermill": {
     "duration": 0.112763,
     "end_time": "2021-10-04T01:40:49.133603",
     "exception": false,
     "start_time": "2021-10-04T01:40:49.020840",
     "status": "completed"
    },
    "tags": []
   },
   "outputs": [],
   "source": [
    "gene_id_maps = gene_ids_mappings.set_index(\"gene_ens_id_v\")[\"entrez_id\"].to_dict()"
   ]
  },
  {
   "cell_type": "code",
   "execution_count": 24,
   "id": "838abb9e-19f4-423a-a013-14e56fff6de6",
   "metadata": {
    "execution": {
     "iopub.execute_input": "2021-10-04T01:40:49.307182Z",
     "iopub.status.busy": "2021-10-04T01:40:49.306527Z",
     "iopub.status.idle": "2021-10-04T01:40:49.310113Z",
     "shell.execute_reply": "2021-10-04T01:40:49.309737Z"
    },
    "papermill": {
     "duration": 0.093809,
     "end_time": "2021-10-04T01:40:49.310208",
     "exception": false,
     "start_time": "2021-10-04T01:40:49.216399",
     "status": "completed"
    },
    "tags": []
   },
   "outputs": [
    {
     "data": {
      "text/plain": [
       "{'ENSG00000145309.5': '85438', 'ENSG00000175820.3': '643677'}"
      ]
     },
     "execution_count": 24,
     "metadata": {},
     "output_type": "execute_result"
    }
   ],
   "source": [
    "dict(list(gene_id_maps.items())[0:2])"
   ]
  },
  {
   "cell_type": "code",
   "execution_count": 25,
   "id": "e32ce280-f0cc-4932-8cbb-89e5c5d0430e",
   "metadata": {
    "execution": {
     "iopub.execute_input": "2021-10-04T01:40:49.482906Z",
     "iopub.status.busy": "2021-10-04T01:40:49.482410Z",
     "iopub.status.idle": "2021-10-04T01:40:49.486560Z",
     "shell.execute_reply": "2021-10-04T01:40:49.486165Z"
    },
    "papermill": {
     "duration": 0.092147,
     "end_time": "2021-10-04T01:40:49.486659",
     "exception": false,
     "start_time": "2021-10-04T01:40:49.394512",
     "status": "completed"
    },
    "tags": []
   },
   "outputs": [
    {
     "data": {
      "text/plain": [
       "4201"
      ]
     },
     "metadata": {},
     "output_type": "display_data"
    },
    {
     "data": {
      "text/plain": [
       "['6192', '4314', '2944', '100271063', '6288']"
      ]
     },
     "metadata": {},
     "output_type": "display_data"
    }
   ],
   "source": [
    "# is map from ensembl to entrez unique?\n",
    "_tmp_index = [gene_id_maps[x] for x in tmp.index if x in gene_id_maps]\n",
    "display(len(_tmp_index))\n",
    "display(_tmp_index[:5])"
   ]
  },
  {
   "cell_type": "markdown",
   "id": "ecf4a22e-e93b-48a2-a82f-4a54b7472abf",
   "metadata": {
    "papermill": {
     "duration": 0.084964,
     "end_time": "2021-10-04T01:40:49.657042",
     "exception": false,
     "start_time": "2021-10-04T01:40:49.572078",
     "status": "completed"
    },
    "tags": []
   },
   "source": [
    "# Run"
   ]
  },
  {
   "cell_type": "code",
   "execution_count": 26,
   "id": "fe0e2ed7-42bc-446e-98d5-76f31217c1df",
   "metadata": {
    "execution": {
     "iopub.execute_input": "2021-10-04T01:40:49.837219Z",
     "iopub.status.busy": "2021-10-04T01:40:49.836732Z",
     "iopub.status.idle": "2021-10-04T01:40:49.839965Z",
     "shell.execute_reply": "2021-10-04T01:40:49.840320Z"
    },
    "papermill": {
     "duration": 0.098334,
     "end_time": "2021-10-04T01:40:49.840437",
     "exception": false,
     "start_time": "2021-10-04T01:40:49.742103",
     "status": "completed"
    },
    "tags": []
   },
   "outputs": [
    {
     "data": {
      "text/plain": [
       "25"
      ]
     },
     "metadata": {},
     "output_type": "display_data"
    }
   ],
   "source": [
    "n_partitions_per_file = pd.read_pickle(input_files[0]).shape[0]\n",
    "display(n_partitions_per_file)"
   ]
  },
  {
   "cell_type": "code",
   "execution_count": 27,
   "id": "754836bb-3b1c-4259-882b-07dfa793c13a",
   "metadata": {
    "execution": {
     "iopub.execute_input": "2021-10-04T01:40:50.024186Z",
     "iopub.status.busy": "2021-10-04T01:40:50.023560Z",
     "iopub.status.idle": "2021-10-04T09:01:16.088190Z",
     "shell.execute_reply": "2021-10-04T09:01:16.086281Z"
    },
    "papermill": {
     "duration": 26426.161889,
     "end_time": "2021-10-04T09:01:16.088284",
     "exception": false,
     "start_time": "2021-10-04T01:40:49.926395",
     "status": "completed"
    },
    "tags": []
   },
   "outputs": [
    {
     "data": {
      "text/plain": [
       "'number of tasks: 125'"
      ]
     },
     "metadata": {},
     "output_type": "display_data"
    },
    {
     "name": "stderr",
     "output_type": "stream",
     "text": [
      "whole_blood/var_pc_log2/saving: 100%|██████████████████████████| 125/125 [7:20:25<00:00, 211.41s/it]\n"
     ]
    }
   ],
   "source": [
    "# the number of tasks is the number of input files times number of partitions per file\n",
    "n_tasks = len(input_files) * n_partitions_per_file\n",
    "n_tasks = int(n_tasks)\n",
    "display(f\"number of tasks: {n_tasks}\")\n",
    "\n",
    "with ProcessPoolExecutor(max_workers=conf.GENERAL[\"N_JOBS\"]) as executor, tqdm(\n",
    "    total=n_tasks, ncols=100\n",
    ") as pbar:\n",
    "    for clustering_filepath in input_files:\n",
    "        # extract from input clustering filename some sections, such as tissue name, etc\n",
    "        m = re.search(filename_pattern, str(clustering_filepath.name))\n",
    "\n",
    "        tissue = m.group(\"tissue\")\n",
    "        gene_sel_strategy = m.group(\"gene_sel_strategy\")\n",
    "        corr_method = m.group(\"corr_method\")\n",
    "\n",
    "        # update pbar description\n",
    "        pbar.set_description(f\"{tissue}/{gene_sel_strategy}\")\n",
    "        #         pbar.set_description(f\"{corr_method}\")\n",
    "\n",
    "        # create output filepath template\n",
    "        full_output_filename_template = (\n",
    "            f\"{clustering_filepath.stem}-{ENRICH_FUNCTION}-{ENRICH_PARAMS}.pkl\"\n",
    "        )\n",
    "\n",
    "        # read clustering results\n",
    "        clustering_df = pd.read_pickle(clustering_filepath)\n",
    "\n",
    "        # get partitions' numbers\n",
    "        tmp_partition = clustering_df.iloc[0].partition\n",
    "        n_genes = tmp_partition.shape[0]\n",
    "        n_clusters = np.unique(tmp_partition).shape[0]\n",
    "\n",
    "        # use those sections to read the list of genes from the input data\n",
    "        # file that the clustering algorithm received\n",
    "        similarity_matrix_filename = SIMILARITY_MATRIX_FILENAME_TEMPLATE.format(\n",
    "            tissue=tissue,\n",
    "            gene_sel_strategy=gene_sel_strategy,\n",
    "            corr_method=corr_method.split(\"_\")[0]\n",
    "            if not corr_method.startswith(\"clustermatch\")\n",
    "            else corr_method,\n",
    "        )\n",
    "\n",
    "        # get the universe of genes\n",
    "        all_gene_ens_ids = pd.read_pickle(\n",
    "            SIMILARITY_MATRICES_DIR / similarity_matrix_filename\n",
    "        ).index.tolist()\n",
    "\n",
    "        # convert gene ensembl ids to entrez and create clustering partition mask\n",
    "        partition_mask = []\n",
    "        all_gene_ids = []\n",
    "        entrez_ids_added = set()  # this is faster\n",
    "\n",
    "        for x in all_gene_ens_ids:\n",
    "            if x not in gene_id_maps:\n",
    "                partition_mask.append(False)\n",
    "                continue\n",
    "\n",
    "            new_entrez_id = gene_id_maps[x]\n",
    "\n",
    "            # TODO: maybe this avoiding of repeated gene ids is not necessary?\n",
    "            # do not add repeated ids\n",
    "            if new_entrez_id in entrez_ids_added:\n",
    "                partition_mask.append(False)\n",
    "                continue\n",
    "\n",
    "            all_gene_ids.append(new_entrez_id)\n",
    "            entrez_ids_added.add(new_entrez_id)\n",
    "            partition_mask.append(True)\n",
    "\n",
    "        partition_mask = np.array(partition_mask, dtype=bool)\n",
    "        all_gene_ids = np.array(all_gene_ids)\n",
    "        assert np.unique(all_gene_ids).shape[0] == all_gene_ids.shape[0]\n",
    "        assert all_gene_ids.shape[0] == np.sum(partition_mask)\n",
    "\n",
    "        # iterate over clustering solutions (partitions) and GO ontologies\n",
    "        futures = [\n",
    "            executor.submit(\n",
    "                run_enrich,\n",
    "                all_gene_ids,\n",
    "                \"ENTREZID\",\n",
    "                cr.partition[partition_mask],\n",
    "                ENRICH_FUNCTION,\n",
    "                ENRICH_PARAMS,\n",
    "            )\n",
    "            for cr_idx, cr in clustering_df.sort_values(\"n_clusters\").iterrows()\n",
    "        ]\n",
    "\n",
    "        # collect results\n",
    "        results_full = []\n",
    "\n",
    "        for task in as_completed(futures):\n",
    "            task_results = task.result()\n",
    "\n",
    "            # continue if no enrichment found\n",
    "            if task_results is None:\n",
    "                pbar.update(1)\n",
    "                continue\n",
    "\n",
    "            results_full.append(task_results)\n",
    "\n",
    "            pbar.update(1)\n",
    "\n",
    "        if len(results_full) == 0:\n",
    "            # no significant results, continue\n",
    "            continue\n",
    "\n",
    "        # merge and serve\n",
    "        pbar.set_description(f\"{tissue}/{gene_sel_strategy}/saving\")\n",
    "\n",
    "        # full\n",
    "        results_full_df = pd.concat(results_full, ignore_index=True).sort_values(\n",
    "            [\"n_clusters\", \"pvalue_adjust\"]\n",
    "        )\n",
    "\n",
    "        results_full_df.to_pickle(\n",
    "            OUTPUT_DIR\n",
    "            / f\"{clustering_filepath.stem}-{ENRICH_FUNCTION}-{ENRICH_PARAMS}.pkl\",\n",
    "        )"
   ]
  },
  {
   "cell_type": "code",
   "execution_count": null,
   "id": "complimentary-gathering",
   "metadata": {
    "papermill": {
     "duration": 0.18978,
     "end_time": "2021-10-04T09:01:17.184953",
     "exception": false,
     "start_time": "2021-10-04T09:01:16.995173",
     "status": "completed"
    },
    "tags": []
   },
   "outputs": [],
   "source": []
  }
 ],
 "metadata": {
  "jupytext": {
   "cell_metadata_filter": "all,-execution,-papermill,-trusted"
  },
  "kernelspec": {
   "display_name": "Python 3 (ipykernel)",
   "language": "python",
   "name": "python3"
  },
  "language_info": {
   "codemirror_mode": {
    "name": "ipython",
    "version": 3
   },
   "file_extension": ".py",
   "mimetype": "text/x-python",
   "name": "python",
   "nbconvert_exporter": "python",
   "pygments_lexer": "ipython3",
   "version": "3.9.7"
  },
  "papermill": {
   "default_parameters": {},
   "duration": 26435.058807,
   "end_time": "2021-10-04T09:01:17.618687",
   "environment_variables": {},
   "exception": null,
   "input_path": "nbs/20_gene_set_enrichment/05_gtex_v8/06_03-gtex-spearman_abs-enrichPathway.ipynb",
   "output_path": "nbs/20_gene_set_enrichment/05_gtex_v8/06_03-gtex-spearman_abs-enrichPathway.run.ipynb",
   "parameters": {},
   "start_time": "2021-10-04T01:40:42.559880",
   "version": "2.3.2"
  },
  "toc-autonumbering": true
 },
 "nbformat": 4,
 "nbformat_minor": 5
}
