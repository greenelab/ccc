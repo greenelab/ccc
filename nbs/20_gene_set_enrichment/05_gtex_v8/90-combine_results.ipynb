{
 "cells": [
  {
   "cell_type": "markdown",
   "id": "4b79d660-2ab1-42c2-a4d5-467d2534e5dc",
   "metadata": {
    "papermill": {
     "duration": 0.026392,
     "end_time": "2021-09-30T04:28:24.187326",
     "exception": false,
     "start_time": "2021-09-30T04:28:24.160934",
     "status": "completed"
    },
    "tags": []
   },
   "source": [
    "# Description"
   ]
  },
  {
   "cell_type": "markdown",
   "id": "9f0b6db4-6f06-4856-a4b8-e24548d0f1d9",
   "metadata": {
    "papermill": {
     "duration": 0.025595,
     "end_time": "2021-09-30T04:28:24.238769",
     "exception": false,
     "start_time": "2021-09-30T04:28:24.213174",
     "status": "completed"
    },
    "tags": []
   },
   "source": [
    "Combines all gene enrichment results found in input directory."
   ]
  },
  {
   "cell_type": "markdown",
   "id": "dfb4a759-748a-4a19-b773-992a23cb9327",
   "metadata": {
    "papermill": {
     "duration": 0.025424,
     "end_time": "2021-09-30T04:28:24.291008",
     "exception": false,
     "start_time": "2021-09-30T04:28:24.265584",
     "status": "completed"
    },
    "tags": []
   },
   "source": [
    "# Modules loading"
   ]
  },
  {
   "cell_type": "code",
   "execution_count": 1,
   "id": "98e28052-34cc-43fc-87f3-a1b61eeb14fc",
   "metadata": {
    "papermill": {
     "duration": 1.038366,
     "end_time": "2021-09-30T04:28:25.354994",
     "exception": false,
     "start_time": "2021-09-30T04:28:24.316628",
     "status": "completed"
    },
    "tags": []
   },
   "outputs": [],
   "source": [
    "import re\n",
    "\n",
    "import numpy as np\n",
    "import pandas as pd\n",
    "from statsmodels.stats.multitest import multipletests\n",
    "import matplotlib.pyplot as plt\n",
    "import seaborn as sns\n",
    "from tqdm import tqdm\n",
    "\n",
    "from clustermatch import conf"
   ]
  },
  {
   "cell_type": "markdown",
   "id": "76fa50d9-680c-4107-b705-009070735d89",
   "metadata": {
    "papermill": {
     "duration": 0.026016,
     "end_time": "2021-09-30T04:28:25.407341",
     "exception": false,
     "start_time": "2021-09-30T04:28:25.381325",
     "status": "completed"
    },
    "tags": []
   },
   "source": [
    "# Settings"
   ]
  },
  {
   "cell_type": "code",
   "execution_count": 2,
   "id": "90dbb8f8-1b7e-4283-9d0a-668045dbe1ae",
   "metadata": {
    "papermill": {
     "duration": 0.017811,
     "end_time": "2021-10-01T23:33:53.549322",
     "exception": false,
     "start_time": "2021-10-01T23:33:53.531511",
     "status": "completed"
    },
    "tags": []
   },
   "outputs": [],
   "source": [
    "DATASET_CONFIG = conf.GTEX"
   ]
  },
  {
   "cell_type": "code",
   "execution_count": 3,
   "id": "7e12ded2-5649-4e35-a946-07c8724ea421",
   "metadata": {
    "papermill": {
     "duration": 0.031191,
     "end_time": "2021-09-30T04:28:25.463977",
     "exception": false,
     "start_time": "2021-09-30T04:28:25.432786",
     "status": "completed"
    },
    "tags": []
   },
   "outputs": [],
   "source": [
    "# ENRICH_FUNCTION = \"enrichGO\""
   ]
  },
  {
   "cell_type": "code",
   "execution_count": 4,
   "id": "f10c4d5f-e737-4066-866a-e4f2404e5922",
   "metadata": {
    "papermill": {
     "duration": 0.031072,
     "end_time": "2021-09-30T04:28:25.521257",
     "exception": false,
     "start_time": "2021-09-30T04:28:25.490185",
     "status": "completed"
    },
    "tags": []
   },
   "outputs": [],
   "source": [
    "# CORRELATION_METHOD_NAME = \"clustermatch\""
   ]
  },
  {
   "cell_type": "code",
   "execution_count": 5,
   "id": "ff5b04ea-1161-499a-9aff-a3f5f0efd7ce",
   "metadata": {
    "papermill": {
     "duration": 0.031072,
     "end_time": "2021-09-30T04:28:25.578581",
     "exception": false,
     "start_time": "2021-09-30T04:28:25.547509",
     "status": "completed"
    },
    "tags": []
   },
   "outputs": [],
   "source": [
    "# GENE_SELECTION_STRATEGY = \"var_pc_log2\""
   ]
  },
  {
   "cell_type": "code",
   "execution_count": 6,
   "id": "c0e27c63-0b49-47f1-8147-6c47b90ea3d9",
   "metadata": {
    "papermill": {
     "duration": 0.030727,
     "end_time": "2021-09-30T04:28:25.635456",
     "exception": false,
     "start_time": "2021-09-30T04:28:25.604729",
     "status": "completed"
    },
    "tags": []
   },
   "outputs": [],
   "source": [
    "# # clusterProfiler settings\n",
    "# ENRICH_FUNCTION = \"enrichGO\"\n",
    "# SIMPLIFY_CUTOFF = 0.7\n",
    "# GO_ONTOLOGIES = (\"BP\", \"CC\", \"MF\")"
   ]
  },
  {
   "cell_type": "code",
   "execution_count": 7,
   "id": "d67b1af4-a310-45f5-a6e9-919df1fd2165",
   "metadata": {
    "papermill": {
     "duration": 0.030707,
     "end_time": "2021-09-30T04:28:25.692294",
     "exception": false,
     "start_time": "2021-09-30T04:28:25.661587",
     "status": "completed"
    },
    "tags": []
   },
   "outputs": [],
   "source": [
    "# SIMILARITY_MATRICES_DIR = conf.GTEX[\"SIMILARITY_MATRICES_DIR\"]\n",
    "# display(SIMILARITY_MATRICES_DIR)"
   ]
  },
  {
   "cell_type": "code",
   "execution_count": 8,
   "id": "22b5ec88-d626-4db3-ada1-81cf48f23579",
   "metadata": {
    "papermill": {
     "duration": 0.030885,
     "end_time": "2021-09-30T04:28:25.749122",
     "exception": false,
     "start_time": "2021-09-30T04:28:25.718237",
     "status": "completed"
    },
    "tags": []
   },
   "outputs": [],
   "source": [
    "# SIMILARITY_MATRIX_FILENAME_TEMPLATE = conf.GTEX[\"SIMILARITY_MATRIX_FILENAME_TEMPLATE\"]\n",
    "# display(SIMILARITY_MATRIX_FILENAME_TEMPLATE)"
   ]
  },
  {
   "cell_type": "markdown",
   "id": "eee530dc-b562-4b54-8bc3-a9c831ac052c",
   "metadata": {
    "papermill": {
     "duration": 0.025875,
     "end_time": "2021-09-30T04:28:25.801400",
     "exception": false,
     "start_time": "2021-09-30T04:28:25.775525",
     "status": "completed"
    },
    "tags": []
   },
   "source": [
    "# Paths"
   ]
  },
  {
   "cell_type": "code",
   "execution_count": 9,
   "id": "09f26fce-9c9b-4ec0-ae25-1b9130b17ab7",
   "metadata": {
    "papermill": {
     "duration": 0.034234,
     "end_time": "2021-09-30T04:28:25.861695",
     "exception": false,
     "start_time": "2021-09-30T04:28:25.827461",
     "status": "completed"
    },
    "tags": []
   },
   "outputs": [
    {
     "data": {
      "text/plain": [
       "PosixPath('/home/miltondp/projects/labs/greenelab/clustermatch_repos/clustermatch-gene-expr/base/results/gtex_v8/gene_set_enrichment')"
      ]
     },
     "metadata": {},
     "output_type": "display_data"
    }
   ],
   "source": [
    "INPUT_DIR = DATASET_CONFIG[\"GENE_ENRICHMENT_DIR\"]\n",
    "display(INPUT_DIR)\n",
    "assert INPUT_DIR.exists()"
   ]
  },
  {
   "cell_type": "code",
   "execution_count": 10,
   "id": "b89c7a90-c325-4557-9107-7ba95e8bf03a",
   "metadata": {
    "papermill": {
     "duration": 0.033872,
     "end_time": "2021-09-30T04:28:25.922586",
     "exception": false,
     "start_time": "2021-09-30T04:28:25.888714",
     "status": "completed"
    },
    "tags": []
   },
   "outputs": [
    {
     "data": {
      "text/plain": [
       "PosixPath('/home/miltondp/projects/labs/greenelab/clustermatch_repos/clustermatch-gene-expr/base/results/gtex_v8/gene_set_enrichment/gtex_v8_data-gene_set_enrichment.pkl')"
      ]
     },
     "metadata": {},
     "output_type": "display_data"
    }
   ],
   "source": [
    "OUTPUT_FILE = DATASET_CONFIG[\"GENE_ENRICHMENT_COMBINED_FILE\"]\n",
    "display(OUTPUT_FILE)\n",
    "\n",
    "OUTPUT_FILE.parent.mkdir(parents=True, exist_ok=True)"
   ]
  },
  {
   "cell_type": "markdown",
   "id": "ec13a933-c48b-412b-9147-6aca9548be9f",
   "metadata": {
    "papermill": {
     "duration": 0.026983,
     "end_time": "2021-09-30T04:28:25.976732",
     "exception": false,
     "start_time": "2021-09-30T04:28:25.949749",
     "status": "completed"
    },
    "tags": []
   },
   "source": [
    "# Get data files"
   ]
  },
  {
   "cell_type": "code",
   "execution_count": 11,
   "id": "da9668d5-9922-42ed-bc4a-aec394343871",
   "metadata": {
    "papermill": {
     "duration": 0.032648,
     "end_time": "2021-09-30T04:28:26.036244",
     "exception": false,
     "start_time": "2021-09-30T04:28:26.003596",
     "status": "completed"
    },
    "tags": []
   },
   "outputs": [],
   "source": [
    "filename_pattern = re.compile(DATASET_CONFIG[\"GENE_ENRICHMENT_FILENAME_PATTERN\"])"
   ]
  },
  {
   "cell_type": "code",
   "execution_count": 12,
   "id": "b356cfbc-a3f5-430e-a90b-05b57bb8289e",
   "metadata": {
    "papermill": {
     "duration": 0.037562,
     "end_time": "2021-09-30T04:28:26.101112",
     "exception": false,
     "start_time": "2021-09-30T04:28:26.063550",
     "status": "completed"
    },
    "tags": []
   },
   "outputs": [
    {
     "data": {
      "text/plain": [
       "20"
      ]
     },
     "metadata": {},
     "output_type": "display_data"
    },
    {
     "data": {
      "text/plain": [
       "[PosixPath('/home/miltondp/projects/labs/greenelab/clustermatch_repos/clustermatch-gene-expr/base/results/gtex_v8/gene_set_enrichment/gtex_v8_data_adipose_subcutaneous-var_pc_log2-clustermatch-SpectralClustering-enrichKEGG-hsa.pkl'),\n",
       " PosixPath('/home/miltondp/projects/labs/greenelab/clustermatch_repos/clustermatch-gene-expr/base/results/gtex_v8/gene_set_enrichment/gtex_v8_data_adipose_subcutaneous-var_pc_log2-clustermatch_k2-SpectralClustering-enrichKEGG-hsa.pkl'),\n",
       " PosixPath('/home/miltondp/projects/labs/greenelab/clustermatch_repos/clustermatch-gene-expr/base/results/gtex_v8/gene_set_enrichment/gtex_v8_data_adipose_subcutaneous-var_pc_log2-pearson_abs-SpectralClustering-enrichKEGG-hsa.pkl'),\n",
       " PosixPath('/home/miltondp/projects/labs/greenelab/clustermatch_repos/clustermatch-gene-expr/base/results/gtex_v8/gene_set_enrichment/gtex_v8_data_adipose_subcutaneous-var_pc_log2-spearman_abs-SpectralClustering-enrichKEGG-hsa.pkl'),\n",
       " PosixPath('/home/miltondp/projects/labs/greenelab/clustermatch_repos/clustermatch-gene-expr/base/results/gtex_v8/gene_set_enrichment/gtex_v8_data_artery_tibial-var_pc_log2-clustermatch-SpectralClustering-enrichKEGG-hsa.pkl')]"
      ]
     },
     "metadata": {},
     "output_type": "display_data"
    }
   ],
   "source": [
    "# get input data files according to Settings\n",
    "input_files = sorted(\n",
    "    [\n",
    "        f\n",
    "        for f in INPUT_DIR.iterdir()\n",
    "        if (m := re.search(filename_pattern, str(f))) is not None\n",
    "    ]\n",
    ")\n",
    "display(len(input_files))\n",
    "display(input_files[:5])\n",
    "\n",
    "assert len(input_files) > 0"
   ]
  },
  {
   "cell_type": "markdown",
   "id": "c8339679-216e-4ea3-a1f5-e2819c0bbf62",
   "metadata": {
    "papermill": {
     "duration": 0.027489,
     "end_time": "2021-09-30T04:28:26.156506",
     "exception": false,
     "start_time": "2021-09-30T04:28:26.129017",
     "status": "completed"
    },
    "tags": []
   },
   "source": [
    "## Preview data"
   ]
  },
  {
   "cell_type": "code",
   "execution_count": 13,
   "id": "2428dee3-38a1-48db-a053-510d95e641ea",
   "metadata": {
    "papermill": {
     "duration": 0.033668,
     "end_time": "2021-09-30T04:28:26.217764",
     "exception": false,
     "start_time": "2021-09-30T04:28:26.184096",
     "status": "completed"
    },
    "tags": []
   },
   "outputs": [
    {
     "data": {
      "text/plain": [
       "PosixPath('/home/miltondp/projects/labs/greenelab/clustermatch_repos/clustermatch-gene-expr/base/results/gtex_v8/gene_set_enrichment/gtex_v8_data_adipose_subcutaneous-var_pc_log2-clustermatch-SpectralClustering-enrichKEGG-hsa.pkl')"
      ]
     },
     "metadata": {},
     "output_type": "display_data"
    }
   ],
   "source": [
    "display(input_files[0])"
   ]
  },
  {
   "cell_type": "code",
   "execution_count": 14,
   "id": "c7c0bf99-4ac6-4a35-b18e-2677719d2239",
   "metadata": {
    "papermill": {
     "duration": 0.070475,
     "end_time": "2021-09-30T04:28:26.316288",
     "exception": false,
     "start_time": "2021-09-30T04:28:26.245813",
     "status": "completed"
    },
    "tags": []
   },
   "outputs": [],
   "source": [
    "_tmp_df = pd.read_pickle(input_files[0])"
   ]
  },
  {
   "cell_type": "code",
   "execution_count": 15,
   "id": "4a84e02e-ba04-43d4-a693-93d632cf6ba0",
   "metadata": {
    "papermill": {
     "duration": 0.034367,
     "end_time": "2021-09-30T04:28:26.379065",
     "exception": false,
     "start_time": "2021-09-30T04:28:26.344698",
     "status": "completed"
    },
    "tags": []
   },
   "outputs": [
    {
     "data": {
      "text/plain": [
       "(4620, 16)"
      ]
     },
     "execution_count": 15,
     "metadata": {},
     "output_type": "execute_result"
    }
   ],
   "source": [
    "_tmp_df.shape"
   ]
  },
  {
   "cell_type": "code",
   "execution_count": 16,
   "id": "b3ef488f-4c8f-4ea3-abb0-d93c3afc6dc4",
   "metadata": {
    "papermill": {
     "duration": 0.05874,
     "end_time": "2021-09-30T04:28:26.466579",
     "exception": false,
     "start_time": "2021-09-30T04:28:26.407839",
     "status": "completed"
    },
    "tags": []
   },
   "outputs": [
    {
     "data": {
      "text/html": [
       "<div>\n",
       "<style scoped>\n",
       "    .dataframe tbody tr th:only-of-type {\n",
       "        vertical-align: middle;\n",
       "    }\n",
       "\n",
       "    .dataframe tbody tr th {\n",
       "        vertical-align: top;\n",
       "    }\n",
       "\n",
       "    .dataframe thead th {\n",
       "        text-align: right;\n",
       "    }\n",
       "</style>\n",
       "<table border=\"1\" class=\"dataframe\">\n",
       "  <thead>\n",
       "    <tr style=\"text-align: right;\">\n",
       "      <th></th>\n",
       "      <th>cluster_id</th>\n",
       "      <th>term_id</th>\n",
       "      <th>term_desc</th>\n",
       "      <th>gene_ratio</th>\n",
       "      <th>bg_ratio</th>\n",
       "      <th>pvalue</th>\n",
       "      <th>pvalue_adjust</th>\n",
       "      <th>qvalue</th>\n",
       "      <th>gene_id</th>\n",
       "      <th>gene_count</th>\n",
       "      <th>n_clusters</th>\n",
       "      <th>gene_total</th>\n",
       "      <th>bg_count</th>\n",
       "      <th>bg_total</th>\n",
       "      <th>rich_factor</th>\n",
       "      <th>fold_enrich</th>\n",
       "    </tr>\n",
       "  </thead>\n",
       "  <tbody>\n",
       "    <tr>\n",
       "      <th>802</th>\n",
       "      <td>C14</td>\n",
       "      <td>hsa05145</td>\n",
       "      <td>Toxoplasmosis</td>\n",
       "      <td>0.049724</td>\n",
       "      <td>0.024803</td>\n",
       "      <td>0.001345</td>\n",
       "      <td>0.022420</td>\n",
       "      <td>0.020768</td>\n",
       "      <td>3118/3127/7043/3119/3117/3111/3109/7042/3115/3...</td>\n",
       "      <td>18</td>\n",
       "      <td>45</td>\n",
       "      <td>362</td>\n",
       "      <td>44</td>\n",
       "      <td>1774</td>\n",
       "      <td>0.409091</td>\n",
       "      <td>2.004771</td>\n",
       "    </tr>\n",
       "    <tr>\n",
       "      <th>2980</th>\n",
       "      <td>C50</td>\n",
       "      <td>hsa04145</td>\n",
       "      <td>Phagosome</td>\n",
       "      <td>0.120000</td>\n",
       "      <td>0.038331</td>\n",
       "      <td>0.001736</td>\n",
       "      <td>0.022971</td>\n",
       "      <td>0.020665</td>\n",
       "      <td>2214/3689/4481/64581/3684/1520/4688/11151/1535</td>\n",
       "      <td>9</td>\n",
       "      <td>95</td>\n",
       "      <td>75</td>\n",
       "      <td>68</td>\n",
       "      <td>1774</td>\n",
       "      <td>0.132353</td>\n",
       "      <td>3.130588</td>\n",
       "    </tr>\n",
       "    <tr>\n",
       "      <th>330</th>\n",
       "      <td>C2</td>\n",
       "      <td>hsa05143</td>\n",
       "      <td>African trypanosomiasis</td>\n",
       "      <td>0.020147</td>\n",
       "      <td>0.009019</td>\n",
       "      <td>0.001890</td>\n",
       "      <td>0.017779</td>\n",
       "      <td>0.014883</td>\n",
       "      <td>3043/6401/3040/3039/4878/7412/3383/3620/5332/3...</td>\n",
       "      <td>11</td>\n",
       "      <td>25</td>\n",
       "      <td>546</td>\n",
       "      <td>16</td>\n",
       "      <td>1774</td>\n",
       "      <td>0.687500</td>\n",
       "      <td>2.233745</td>\n",
       "    </tr>\n",
       "    <tr>\n",
       "      <th>133</th>\n",
       "      <td>C8</td>\n",
       "      <td>hsa05171</td>\n",
       "      <td>Coronavirus disease - COVID-19</td>\n",
       "      <td>0.074468</td>\n",
       "      <td>0.030440</td>\n",
       "      <td>0.000977</td>\n",
       "      <td>0.013061</td>\n",
       "      <td>0.011436</td>\n",
       "      <td>713/2162/714/1536/712/728/717/719/2212/7097/68...</td>\n",
       "      <td>14</td>\n",
       "      <td>10</td>\n",
       "      <td>188</td>\n",
       "      <td>54</td>\n",
       "      <td>1774</td>\n",
       "      <td>0.259259</td>\n",
       "      <td>2.446414</td>\n",
       "    </tr>\n",
       "    <tr>\n",
       "      <th>3934</th>\n",
       "      <td>C24</td>\n",
       "      <td>hsa05202</td>\n",
       "      <td>Transcriptional misregulation in cancer</td>\n",
       "      <td>0.666667</td>\n",
       "      <td>0.034949</td>\n",
       "      <td>0.003526</td>\n",
       "      <td>0.005165</td>\n",
       "      <td>NaN</td>\n",
       "      <td>1668/1669</td>\n",
       "      <td>2</td>\n",
       "      <td>146</td>\n",
       "      <td>3</td>\n",
       "      <td>62</td>\n",
       "      <td>1774</td>\n",
       "      <td>0.032258</td>\n",
       "      <td>19.075269</td>\n",
       "    </tr>\n",
       "  </tbody>\n",
       "</table>\n",
       "</div>"
      ],
      "text/plain": [
       "     cluster_id   term_id                                term_desc  \\\n",
       "802         C14  hsa05145                            Toxoplasmosis   \n",
       "2980        C50  hsa04145                                Phagosome   \n",
       "330          C2  hsa05143                  African trypanosomiasis   \n",
       "133          C8  hsa05171           Coronavirus disease - COVID-19   \n",
       "3934        C24  hsa05202  Transcriptional misregulation in cancer   \n",
       "\n",
       "      gene_ratio  bg_ratio    pvalue  pvalue_adjust    qvalue  \\\n",
       "802     0.049724  0.024803  0.001345       0.022420  0.020768   \n",
       "2980    0.120000  0.038331  0.001736       0.022971  0.020665   \n",
       "330     0.020147  0.009019  0.001890       0.017779  0.014883   \n",
       "133     0.074468  0.030440  0.000977       0.013061  0.011436   \n",
       "3934    0.666667  0.034949  0.003526       0.005165       NaN   \n",
       "\n",
       "                                                gene_id  gene_count  \\\n",
       "802   3118/3127/7043/3119/3117/3111/3109/7042/3115/3...          18   \n",
       "2980     2214/3689/4481/64581/3684/1520/4688/11151/1535           9   \n",
       "330   3043/6401/3040/3039/4878/7412/3383/3620/5332/3...          11   \n",
       "133   713/2162/714/1536/712/728/717/719/2212/7097/68...          14   \n",
       "3934                                          1668/1669           2   \n",
       "\n",
       "      n_clusters  gene_total  bg_count  bg_total  rich_factor  fold_enrich  \n",
       "802           45         362        44      1774     0.409091     2.004771  \n",
       "2980          95          75        68      1774     0.132353     3.130588  \n",
       "330           25         546        16      1774     0.687500     2.233745  \n",
       "133           10         188        54      1774     0.259259     2.446414  \n",
       "3934         146           3        62      1774     0.032258    19.075269  "
      ]
     },
     "execution_count": 16,
     "metadata": {},
     "output_type": "execute_result"
    }
   ],
   "source": [
    "_tmp_df.sample(n=5, random_state=0)"
   ]
  },
  {
   "cell_type": "markdown",
   "id": "f4e3a617-e89c-40b2-8dbd-3bbd5a2d378a",
   "metadata": {
    "papermill": {
     "duration": 0.028978,
     "end_time": "2021-09-30T04:28:26.524915",
     "exception": false,
     "start_time": "2021-09-30T04:28:26.495937",
     "status": "completed"
    },
    "tags": []
   },
   "source": [
    "# Run"
   ]
  },
  {
   "cell_type": "markdown",
   "id": "9bad87b5-0f3e-4138-8d3e-ac50d9431520",
   "metadata": {
    "papermill": {
     "duration": 0.028808,
     "end_time": "2021-09-30T04:28:26.582612",
     "exception": false,
     "start_time": "2021-09-30T04:28:26.553804",
     "status": "completed"
    },
    "tags": []
   },
   "source": [
    "## Read data, convert dtypes, add new metrics"
   ]
  },
  {
   "cell_type": "code",
   "execution_count": 17,
   "id": "4c1d8f26-1a6f-4b3e-8a24-9a03d4e90bd2",
   "metadata": {
    "papermill": {
     "duration": 9.598412,
     "end_time": "2021-09-30T04:28:36.209755",
     "exception": false,
     "start_time": "2021-09-30T04:28:26.611343",
     "status": "completed"
    },
    "tags": []
   },
   "outputs": [
    {
     "name": "stderr",
     "output_type": "stream",
     "text": [
      "100%|██████████████████████████████████████████████████████████████| 20/20 [00:00<00:00, 137.25it/s]\n"
     ]
    }
   ],
   "source": [
    "all_results = []\n",
    "\n",
    "for f_full in tqdm(input_files, ncols=100):\n",
    "    f_name = f_full.name\n",
    "\n",
    "    f_data = pd.read_pickle(f_full)\n",
    "    #     f_data = f_data.rename(\n",
    "    #         columns={\n",
    "    #             \"Count\": \"gene_count\",\n",
    "    #             \"GeneRatio\": \"gene_ratio\",\n",
    "    #             \"BgRatio\": \"bg_ratio\",\n",
    "    #             \"ID\": \"go_term_id\",\n",
    "    #             \"Description\": \"go_term_desc\",\n",
    "    #             \"Cluster\": \"cluster_id\",\n",
    "    #             \"clustering_n_clusters\": \"n_clusters\",\n",
    "    #             \"p.adjust\": \"fdr_per_file\",\n",
    "    #         }\n",
    "    #     )\n",
    "\n",
    "    #     # genes in cluster\n",
    "    #     f_data = f_data.assign(\n",
    "    #         gene_total=f_data[\"gene_ratio\"].apply(lambda x: int(x.split(\"/\")[1]))\n",
    "    #     )\n",
    "\n",
    "    #     # background genes\n",
    "    #     f_data = f_data.assign(\n",
    "    #         bg_count=f_data[\"bg_ratio\"].apply(lambda x: int(x.split(\"/\")[0]))\n",
    "    #     )\n",
    "    #     f_data = f_data.assign(\n",
    "    #         bg_total=f_data[\"bg_ratio\"].apply(lambda x: int(x.split(\"/\")[1]))\n",
    "    #     )\n",
    "\n",
    "    # add metadata\n",
    "    metadata = re.search(filename_pattern, f_name)\n",
    "\n",
    "    f_data = f_data[\n",
    "        [\n",
    "            \"n_clusters\",\n",
    "            \"cluster_id\",\n",
    "            \"term_id\",\n",
    "            \"term_desc\",\n",
    "            \"gene_count\",\n",
    "            \"gene_total\",\n",
    "            \"gene_ratio\",\n",
    "            \"bg_count\",\n",
    "            \"bg_total\",\n",
    "            \"bg_ratio\",\n",
    "            \"pvalue\",\n",
    "            \"pvalue_adjust\",\n",
    "        ]\n",
    "    ]\n",
    "\n",
    "    f_data[\"tissue\"] = metadata.group(\"tissue\")\n",
    "    f_data[\"gene_sel_strategy\"] = metadata.group(\"gene_sel_strategy\")\n",
    "    f_data[\"corr_method\"] = metadata.group(\"corr_method\")\n",
    "    f_data[\"clust_method\"] = metadata.group(\"clust_method\")\n",
    "    f_data[\"enrich_func\"] = metadata.group(\"enrich_func\")\n",
    "    f_data[\"enrich_params\"] = metadata.group(\"enrich_params\")\n",
    "\n",
    "    all_results.append(f_data)"
   ]
  },
  {
   "cell_type": "code",
   "execution_count": 18,
   "id": "dba36444-b52f-4934-8950-786cd0c51a61",
   "metadata": {
    "papermill": {
     "duration": 3.06879,
     "end_time": "2021-09-30T04:28:39.346638",
     "exception": false,
     "start_time": "2021-09-30T04:28:36.277848",
     "status": "completed"
    },
    "tags": []
   },
   "outputs": [],
   "source": [
    "df = pd.concat(all_results, ignore_index=True)\n",
    "\n",
    "# to category dtype\n",
    "df[\"cluster_id\"] = df[\"cluster_id\"].astype(\"category\")\n",
    "df[\"term_id\"] = df[\"term_id\"].astype(\"category\")\n",
    "df[\"term_desc\"] = df[\"term_desc\"].astype(\"category\")\n",
    "df[\"tissue\"] = df[\"tissue\"].astype(\"category\")\n",
    "df[\"gene_sel_strategy\"] = df[\"gene_sel_strategy\"].astype(\"category\")\n",
    "df[\"corr_method\"] = df[\"corr_method\"].astype(\"category\")\n",
    "df[\"clust_method\"] = df[\"clust_method\"].astype(\"category\")\n",
    "df[\"enrich_func\"] = df[\"enrich_func\"].astype(\"category\")\n",
    "df[\"enrich_params\"] = df[\"enrich_params\"].astype(\"category\")\n",
    "\n",
    "# convert to int32\n",
    "df[\"n_clusters\"] = df[\"n_clusters\"].astype(\"int32\")\n",
    "df[\"gene_count\"] = df[\"gene_count\"].astype(\"int32\")\n",
    "df[\"gene_total\"] = df[\"gene_total\"].astype(\"int32\")\n",
    "df[\"bg_count\"] = df[\"bg_count\"].astype(\"int32\")\n",
    "df[\"bg_total\"] = df[\"bg_total\"].astype(\"int32\")\n",
    "\n",
    "# # convert ratios to numbers\n",
    "# df[\"gene_ratio\"] = df[\"gene_count\"].div(df[\"gene_total\"])\n",
    "# df[\"bg_ratio\"] = df[\"bg_count\"].div(df[\"bg_total\"])\n",
    "\n",
    "# # add other metrics\n",
    "# df[\"rich_factor\"] = df[\"gene_count\"].div(df[\"bg_count\"])\n",
    "# df[\"fold_enrich\"] = df[\"gene_ratio\"].div(df[\"bg_ratio\"])"
   ]
  },
  {
   "cell_type": "code",
   "execution_count": 19,
   "id": "b3054d6e-52d4-4edb-ab9c-a8d5cb1783c6",
   "metadata": {},
   "outputs": [],
   "source": [
    "# # adjust for multiple testing across all results\n",
    "# adj_pval = multipletests(df[\"pvalue\"], alpha=0.05, method=\"fdr_bh\")\n",
    "# df = df.assign(fdr=adj_pval[1])"
   ]
  },
  {
   "cell_type": "code",
   "execution_count": 20,
   "id": "840e3a37-4f34-4689-98d3-79f2ee1a9f5b",
   "metadata": {
    "papermill": {
     "duration": 0.049172,
     "end_time": "2021-09-30T04:28:39.441298",
     "exception": false,
     "start_time": "2021-09-30T04:28:39.392126",
     "status": "completed"
    },
    "tags": []
   },
   "outputs": [
    {
     "data": {
      "text/plain": [
       "(84471, 19)"
      ]
     },
     "execution_count": 20,
     "metadata": {},
     "output_type": "execute_result"
    }
   ],
   "source": [
    "df.shape"
   ]
  },
  {
   "cell_type": "code",
   "execution_count": 21,
   "id": "78850cf5-3114-488f-b78d-c92b67e73203",
   "metadata": {
    "papermill": {
     "duration": 0.049172,
     "end_time": "2021-09-30T04:28:39.441298",
     "exception": false,
     "start_time": "2021-09-30T04:28:39.392126",
     "status": "completed"
    },
    "tags": []
   },
   "outputs": [
    {
     "data": {
      "text/html": [
       "<div>\n",
       "<style scoped>\n",
       "    .dataframe tbody tr th:only-of-type {\n",
       "        vertical-align: middle;\n",
       "    }\n",
       "\n",
       "    .dataframe tbody tr th {\n",
       "        vertical-align: top;\n",
       "    }\n",
       "\n",
       "    .dataframe thead th {\n",
       "        text-align: right;\n",
       "    }\n",
       "</style>\n",
       "<table border=\"1\" class=\"dataframe\">\n",
       "  <thead>\n",
       "    <tr style=\"text-align: right;\">\n",
       "      <th></th>\n",
       "      <th>n_clusters</th>\n",
       "      <th>cluster_id</th>\n",
       "      <th>term_id</th>\n",
       "      <th>term_desc</th>\n",
       "      <th>gene_count</th>\n",
       "      <th>gene_total</th>\n",
       "      <th>gene_ratio</th>\n",
       "      <th>bg_count</th>\n",
       "      <th>bg_total</th>\n",
       "      <th>bg_ratio</th>\n",
       "      <th>pvalue</th>\n",
       "      <th>pvalue_adjust</th>\n",
       "      <th>qvalue</th>\n",
       "      <th>tissue</th>\n",
       "      <th>gene_sel_strategy</th>\n",
       "      <th>corr_method</th>\n",
       "      <th>clust_method</th>\n",
       "      <th>enrich_func</th>\n",
       "      <th>enrich_params</th>\n",
       "    </tr>\n",
       "  </thead>\n",
       "  <tbody>\n",
       "    <tr>\n",
       "      <th>0</th>\n",
       "      <td>2</td>\n",
       "      <td>C0</td>\n",
       "      <td>hsa04380</td>\n",
       "      <td>Osteoclast differentiation</td>\n",
       "      <td>27</td>\n",
       "      <td>248</td>\n",
       "      <td>0.108871</td>\n",
       "      <td>51</td>\n",
       "      <td>1774</td>\n",
       "      <td>0.028749</td>\n",
       "      <td>2.376904e-11</td>\n",
       "      <td>5.229189e-09</td>\n",
       "      <td>4.678748e-09</td>\n",
       "      <td>adipose_subcutaneous</td>\n",
       "      <td>var_pc_log2</td>\n",
       "      <td>clustermatch</td>\n",
       "      <td>SpectralClustering</td>\n",
       "      <td>enrichKEGG</td>\n",
       "      <td>hsa</td>\n",
       "    </tr>\n",
       "    <tr>\n",
       "      <th>1</th>\n",
       "      <td>2</td>\n",
       "      <td>C0</td>\n",
       "      <td>hsa04613</td>\n",
       "      <td>Neutrophil extracellular trap formation</td>\n",
       "      <td>25</td>\n",
       "      <td>248</td>\n",
       "      <td>0.100806</td>\n",
       "      <td>50</td>\n",
       "      <td>1774</td>\n",
       "      <td>0.028185</td>\n",
       "      <td>6.975013e-10</td>\n",
       "      <td>7.672515e-08</td>\n",
       "      <td>6.864882e-08</td>\n",
       "      <td>adipose_subcutaneous</td>\n",
       "      <td>var_pc_log2</td>\n",
       "      <td>clustermatch</td>\n",
       "      <td>SpectralClustering</td>\n",
       "      <td>enrichKEGG</td>\n",
       "      <td>hsa</td>\n",
       "    </tr>\n",
       "    <tr>\n",
       "      <th>2</th>\n",
       "      <td>2</td>\n",
       "      <td>C0</td>\n",
       "      <td>hsa04662</td>\n",
       "      <td>B cell receptor signaling pathway</td>\n",
       "      <td>18</td>\n",
       "      <td>248</td>\n",
       "      <td>0.072581</td>\n",
       "      <td>29</td>\n",
       "      <td>1774</td>\n",
       "      <td>0.016347</td>\n",
       "      <td>1.939872e-09</td>\n",
       "      <td>1.422573e-07</td>\n",
       "      <td>1.272828e-07</td>\n",
       "      <td>adipose_subcutaneous</td>\n",
       "      <td>var_pc_log2</td>\n",
       "      <td>clustermatch</td>\n",
       "      <td>SpectralClustering</td>\n",
       "      <td>enrichKEGG</td>\n",
       "      <td>hsa</td>\n",
       "    </tr>\n",
       "    <tr>\n",
       "      <th>3</th>\n",
       "      <td>2</td>\n",
       "      <td>C0</td>\n",
       "      <td>hsa05152</td>\n",
       "      <td>Tuberculosis</td>\n",
       "      <td>25</td>\n",
       "      <td>248</td>\n",
       "      <td>0.100806</td>\n",
       "      <td>58</td>\n",
       "      <td>1774</td>\n",
       "      <td>0.032694</td>\n",
       "      <td>3.349306e-08</td>\n",
       "      <td>1.842118e-06</td>\n",
       "      <td>1.648211e-06</td>\n",
       "      <td>adipose_subcutaneous</td>\n",
       "      <td>var_pc_log2</td>\n",
       "      <td>clustermatch</td>\n",
       "      <td>SpectralClustering</td>\n",
       "      <td>enrichKEGG</td>\n",
       "      <td>hsa</td>\n",
       "    </tr>\n",
       "    <tr>\n",
       "      <th>4</th>\n",
       "      <td>2</td>\n",
       "      <td>C0</td>\n",
       "      <td>hsa04972</td>\n",
       "      <td>Pancreatic secretion</td>\n",
       "      <td>19</td>\n",
       "      <td>248</td>\n",
       "      <td>0.076613</td>\n",
       "      <td>41</td>\n",
       "      <td>1774</td>\n",
       "      <td>0.023112</td>\n",
       "      <td>4.180927e-07</td>\n",
       "      <td>1.839608e-05</td>\n",
       "      <td>1.645965e-05</td>\n",
       "      <td>adipose_subcutaneous</td>\n",
       "      <td>var_pc_log2</td>\n",
       "      <td>clustermatch</td>\n",
       "      <td>SpectralClustering</td>\n",
       "      <td>enrichKEGG</td>\n",
       "      <td>hsa</td>\n",
       "    </tr>\n",
       "  </tbody>\n",
       "</table>\n",
       "</div>"
      ],
      "text/plain": [
       "   n_clusters cluster_id   term_id                                term_desc  \\\n",
       "0           2         C0  hsa04380               Osteoclast differentiation   \n",
       "1           2         C0  hsa04613  Neutrophil extracellular trap formation   \n",
       "2           2         C0  hsa04662        B cell receptor signaling pathway   \n",
       "3           2         C0  hsa05152                             Tuberculosis   \n",
       "4           2         C0  hsa04972                     Pancreatic secretion   \n",
       "\n",
       "   gene_count  gene_total  gene_ratio  bg_count  bg_total  bg_ratio  \\\n",
       "0          27         248    0.108871        51      1774  0.028749   \n",
       "1          25         248    0.100806        50      1774  0.028185   \n",
       "2          18         248    0.072581        29      1774  0.016347   \n",
       "3          25         248    0.100806        58      1774  0.032694   \n",
       "4          19         248    0.076613        41      1774  0.023112   \n",
       "\n",
       "         pvalue  pvalue_adjust        qvalue                tissue  \\\n",
       "0  2.376904e-11   5.229189e-09  4.678748e-09  adipose_subcutaneous   \n",
       "1  6.975013e-10   7.672515e-08  6.864882e-08  adipose_subcutaneous   \n",
       "2  1.939872e-09   1.422573e-07  1.272828e-07  adipose_subcutaneous   \n",
       "3  3.349306e-08   1.842118e-06  1.648211e-06  adipose_subcutaneous   \n",
       "4  4.180927e-07   1.839608e-05  1.645965e-05  adipose_subcutaneous   \n",
       "\n",
       "  gene_sel_strategy   corr_method        clust_method enrich_func  \\\n",
       "0       var_pc_log2  clustermatch  SpectralClustering  enrichKEGG   \n",
       "1       var_pc_log2  clustermatch  SpectralClustering  enrichKEGG   \n",
       "2       var_pc_log2  clustermatch  SpectralClustering  enrichKEGG   \n",
       "3       var_pc_log2  clustermatch  SpectralClustering  enrichKEGG   \n",
       "4       var_pc_log2  clustermatch  SpectralClustering  enrichKEGG   \n",
       "\n",
       "  enrich_params  \n",
       "0           hsa  \n",
       "1           hsa  \n",
       "2           hsa  \n",
       "3           hsa  \n",
       "4           hsa  "
      ]
     },
     "execution_count": 21,
     "metadata": {},
     "output_type": "execute_result"
    }
   ],
   "source": [
    "df.head()"
   ]
  },
  {
   "cell_type": "code",
   "execution_count": 22,
   "id": "e066d3c0-1e6b-42de-8c12-90d0f403c423",
   "metadata": {
    "papermill": {
     "duration": 0.049871,
     "end_time": "2021-09-30T04:28:39.533116",
     "exception": false,
     "start_time": "2021-09-30T04:28:39.483245",
     "status": "completed"
    },
    "tags": []
   },
   "outputs": [
    {
     "data": {
      "text/plain": [
       "n_clusters              int32\n",
       "cluster_id           category\n",
       "term_id              category\n",
       "term_desc            category\n",
       "gene_count              int32\n",
       "gene_total              int32\n",
       "gene_ratio            float64\n",
       "bg_count                int32\n",
       "bg_total                int32\n",
       "bg_ratio              float64\n",
       "pvalue                float64\n",
       "pvalue_adjust         float64\n",
       "qvalue                float64\n",
       "tissue               category\n",
       "gene_sel_strategy    category\n",
       "corr_method          category\n",
       "clust_method         category\n",
       "enrich_func          category\n",
       "enrich_params        category\n",
       "dtype: object"
      ]
     },
     "metadata": {},
     "output_type": "display_data"
    }
   ],
   "source": [
    "display(df.dtypes)\n",
    "assert df.dtypes.loc[\"cluster_id\"] == \"category\""
   ]
  },
  {
   "cell_type": "code",
   "execution_count": 24,
   "id": "a0aec274-c723-4af5-b381-863aada8ce98",
   "metadata": {
    "papermill": {
     "duration": 0.22312,
     "end_time": "2021-09-30T04:28:39.798601",
     "exception": false,
     "start_time": "2021-09-30T04:28:39.575481",
     "status": "completed"
    },
    "tags": []
   },
   "outputs": [
    {
     "data": {
      "text/html": [
       "<div>\n",
       "<style scoped>\n",
       "    .dataframe tbody tr th:only-of-type {\n",
       "        vertical-align: middle;\n",
       "    }\n",
       "\n",
       "    .dataframe tbody tr th {\n",
       "        vertical-align: top;\n",
       "    }\n",
       "\n",
       "    .dataframe thead th {\n",
       "        text-align: right;\n",
       "    }\n",
       "</style>\n",
       "<table border=\"1\" class=\"dataframe\">\n",
       "  <thead>\n",
       "    <tr style=\"text-align: right;\">\n",
       "      <th></th>\n",
       "      <th>n_clusters</th>\n",
       "      <th>cluster_id</th>\n",
       "      <th>term_id</th>\n",
       "      <th>term_desc</th>\n",
       "      <th>gene_count</th>\n",
       "      <th>gene_total</th>\n",
       "      <th>gene_ratio</th>\n",
       "      <th>bg_count</th>\n",
       "      <th>bg_total</th>\n",
       "      <th>bg_ratio</th>\n",
       "      <th>pvalue</th>\n",
       "      <th>pvalue_adjust</th>\n",
       "      <th>qvalue</th>\n",
       "      <th>tissue</th>\n",
       "      <th>gene_sel_strategy</th>\n",
       "      <th>corr_method</th>\n",
       "      <th>clust_method</th>\n",
       "      <th>enrich_func</th>\n",
       "      <th>enrich_params</th>\n",
       "    </tr>\n",
       "  </thead>\n",
       "  <tbody>\n",
       "    <tr>\n",
       "      <th>84207</th>\n",
       "      <td>186</td>\n",
       "      <td>C53</td>\n",
       "      <td>hsa05204</td>\n",
       "      <td>Chemical carcinogenesis - DNA adducts</td>\n",
       "      <td>5</td>\n",
       "      <td>22</td>\n",
       "      <td>0.227273</td>\n",
       "      <td>10</td>\n",
       "      <td>1991</td>\n",
       "      <td>0.005023</td>\n",
       "      <td>2.468158e-08</td>\n",
       "      <td>2.961790e-07</td>\n",
       "      <td>1.299031e-07</td>\n",
       "      <td>whole_blood</td>\n",
       "      <td>var_pc_log2</td>\n",
       "      <td>spearman_abs</td>\n",
       "      <td>SpectralClustering</td>\n",
       "      <td>enrichKEGG</td>\n",
       "      <td>hsa</td>\n",
       "    </tr>\n",
       "    <tr>\n",
       "      <th>29441</th>\n",
       "      <td>89</td>\n",
       "      <td>C86</td>\n",
       "      <td>hsa05016</td>\n",
       "      <td>Huntington disease</td>\n",
       "      <td>6</td>\n",
       "      <td>27</td>\n",
       "      <td>0.222222</td>\n",
       "      <td>35</td>\n",
       "      <td>1576</td>\n",
       "      <td>0.022208</td>\n",
       "      <td>1.629067e-05</td>\n",
       "      <td>1.656218e-04</td>\n",
       "      <td>1.171785e-04</td>\n",
       "      <td>artery_tibial</td>\n",
       "      <td>var_pc_log2</td>\n",
       "      <td>pearson_abs</td>\n",
       "      <td>SpectralClustering</td>\n",
       "      <td>enrichKEGG</td>\n",
       "      <td>hsa</td>\n",
       "    </tr>\n",
       "    <tr>\n",
       "      <th>46892</th>\n",
       "      <td>30</td>\n",
       "      <td>C23</td>\n",
       "      <td>hsa04261</td>\n",
       "      <td>Adrenergic signaling in cardiomyocytes</td>\n",
       "      <td>13</td>\n",
       "      <td>99</td>\n",
       "      <td>0.131313</td>\n",
       "      <td>50</td>\n",
       "      <td>1819</td>\n",
       "      <td>0.027488</td>\n",
       "      <td>1.112786e-06</td>\n",
       "      <td>9.848155e-05</td>\n",
       "      <td>9.077990e-05</td>\n",
       "      <td>muscle_skeletal</td>\n",
       "      <td>var_pc_log2</td>\n",
       "      <td>spearman_abs</td>\n",
       "      <td>SpectralClustering</td>\n",
       "      <td>enrichKEGG</td>\n",
       "      <td>hsa</td>\n",
       "    </tr>\n",
       "    <tr>\n",
       "      <th>76190</th>\n",
       "      <td>30</td>\n",
       "      <td>C15</td>\n",
       "      <td>hsa04218</td>\n",
       "      <td>Cellular senescence</td>\n",
       "      <td>6</td>\n",
       "      <td>29</td>\n",
       "      <td>0.206897</td>\n",
       "      <td>63</td>\n",
       "      <td>1991</td>\n",
       "      <td>0.031642</td>\n",
       "      <td>2.120447e-04</td>\n",
       "      <td>2.162856e-03</td>\n",
       "      <td>1.785640e-03</td>\n",
       "      <td>whole_blood</td>\n",
       "      <td>var_pc_log2</td>\n",
       "      <td>pearson_abs</td>\n",
       "      <td>SpectralClustering</td>\n",
       "      <td>enrichKEGG</td>\n",
       "      <td>hsa</td>\n",
       "    </tr>\n",
       "    <tr>\n",
       "      <th>81494</th>\n",
       "      <td>49</td>\n",
       "      <td>C38</td>\n",
       "      <td>hsa00010</td>\n",
       "      <td>Glycolysis / Gluconeogenesis</td>\n",
       "      <td>4</td>\n",
       "      <td>25</td>\n",
       "      <td>0.160000</td>\n",
       "      <td>25</td>\n",
       "      <td>1991</td>\n",
       "      <td>0.012557</td>\n",
       "      <td>2.050851e-04</td>\n",
       "      <td>8.659150e-04</td>\n",
       "      <td>4.317582e-04</td>\n",
       "      <td>whole_blood</td>\n",
       "      <td>var_pc_log2</td>\n",
       "      <td>spearman_abs</td>\n",
       "      <td>SpectralClustering</td>\n",
       "      <td>enrichKEGG</td>\n",
       "      <td>hsa</td>\n",
       "    </tr>\n",
       "  </tbody>\n",
       "</table>\n",
       "</div>"
      ],
      "text/plain": [
       "       n_clusters cluster_id   term_id  \\\n",
       "84207         186        C53  hsa05204   \n",
       "29441          89        C86  hsa05016   \n",
       "46892          30        C23  hsa04261   \n",
       "76190          30        C15  hsa04218   \n",
       "81494          49        C38  hsa00010   \n",
       "\n",
       "                                    term_desc  gene_count  gene_total  \\\n",
       "84207   Chemical carcinogenesis - DNA adducts           5          22   \n",
       "29441                      Huntington disease           6          27   \n",
       "46892  Adrenergic signaling in cardiomyocytes          13          99   \n",
       "76190                     Cellular senescence           6          29   \n",
       "81494            Glycolysis / Gluconeogenesis           4          25   \n",
       "\n",
       "       gene_ratio  bg_count  bg_total  bg_ratio        pvalue  pvalue_adjust  \\\n",
       "84207    0.227273        10      1991  0.005023  2.468158e-08   2.961790e-07   \n",
       "29441    0.222222        35      1576  0.022208  1.629067e-05   1.656218e-04   \n",
       "46892    0.131313        50      1819  0.027488  1.112786e-06   9.848155e-05   \n",
       "76190    0.206897        63      1991  0.031642  2.120447e-04   2.162856e-03   \n",
       "81494    0.160000        25      1991  0.012557  2.050851e-04   8.659150e-04   \n",
       "\n",
       "             qvalue           tissue gene_sel_strategy   corr_method  \\\n",
       "84207  1.299031e-07      whole_blood       var_pc_log2  spearman_abs   \n",
       "29441  1.171785e-04    artery_tibial       var_pc_log2   pearson_abs   \n",
       "46892  9.077990e-05  muscle_skeletal       var_pc_log2  spearman_abs   \n",
       "76190  1.785640e-03      whole_blood       var_pc_log2   pearson_abs   \n",
       "81494  4.317582e-04      whole_blood       var_pc_log2  spearman_abs   \n",
       "\n",
       "             clust_method enrich_func enrich_params  \n",
       "84207  SpectralClustering  enrichKEGG           hsa  \n",
       "29441  SpectralClustering  enrichKEGG           hsa  \n",
       "46892  SpectralClustering  enrichKEGG           hsa  \n",
       "76190  SpectralClustering  enrichKEGG           hsa  \n",
       "81494  SpectralClustering  enrichKEGG           hsa  "
      ]
     },
     "execution_count": 24,
     "metadata": {},
     "output_type": "execute_result"
    }
   ],
   "source": [
    "df.sample(n=5, random_state=0)"
   ]
  },
  {
   "cell_type": "markdown",
   "id": "cae1ec0b-98c2-44a9-906a-74d716dad777",
   "metadata": {
    "papermill": {
     "duration": 0.042663,
     "end_time": "2021-09-30T04:28:39.884457",
     "exception": false,
     "start_time": "2021-09-30T04:28:39.841794",
     "status": "completed"
    },
    "tags": []
   },
   "source": [
    "## Some stats"
   ]
  },
  {
   "cell_type": "code",
   "execution_count": 25,
   "id": "be827957-e573-485b-aca5-2224157b0979",
   "metadata": {
    "papermill": {
     "duration": 0.142896,
     "end_time": "2021-09-30T04:28:40.069784",
     "exception": false,
     "start_time": "2021-09-30T04:28:39.926888",
     "status": "completed"
    },
    "tags": []
   },
   "outputs": [
    {
     "data": {
      "text/plain": [
       "count    7.294900e+04\n",
       "mean     8.483141e-03\n",
       "std      1.106547e-02\n",
       "min      2.030879e-57\n",
       "25%      1.380923e-04\n",
       "50%      3.181741e-03\n",
       "75%      1.316917e-02\n",
       "max      4.947642e-02\n",
       "Name: qvalue, dtype: float64"
      ]
     },
     "metadata": {},
     "output_type": "display_data"
    }
   ],
   "source": [
    "display(df[\"pvalue_adjust\"].describe())\n",
    "assert df[\"pvalue_adjust\"].min() > 0.0\n",
    "assert df[\"pvalue_adjust\"].max() < 1.0"
   ]
  },
  {
   "cell_type": "code",
   "execution_count": 26,
   "id": "a972063c-92f6-4b90-a4eb-353959f0f4d3",
   "metadata": {
    "papermill": {
     "duration": 0.060702,
     "end_time": "2021-09-30T04:28:40.174195",
     "exception": false,
     "start_time": "2021-09-30T04:28:40.113493",
     "status": "completed"
    },
    "tags": []
   },
   "outputs": [
    {
     "data": {
      "text/plain": [
       "array([  2,   5,  10,  15,  20,  25,  30,  35,  40,  45,  50,  55,  60,\n",
       "        65,  69,  75,  80,  85,  89,  95,  98, 124, 146, 168, 189,  14,\n",
       "        18,  23,  28,  33,  38,  43,  48,  53,  58,  62,  67,  71,  81,\n",
       "        84,  90, 119, 139, 158, 173,  70,  74,  79,  94, 122, 166, 187,\n",
       "        78,  83,  93,  99, 118, 137, 154, 169,  63,  68,  77,  86, 117,\n",
       "       162, 182,  39,  44,  49,  54,  64,  72, 114, 133, 159, 142, 157,\n",
       "        88,  92,  96, 115, 135, 147, 161,  59,  82, 121, 138, 185,  13,\n",
       "        19,  22,  27,  32,  37,  42,  47,  52,  57,  66, 112, 134, 152,\n",
       "       172,  73,  91, 116, 148, 174,  29,  87,  97, 141, 164, 188,  24,\n",
       "        56,  61,  76, 136, 171, 120, 140, 170, 132, 143, 167, 144, 186],\n",
       "      dtype=int32)"
      ]
     },
     "execution_count": 26,
     "metadata": {},
     "output_type": "execute_result"
    }
   ],
   "source": [
    "df[\"n_clusters\"].unique()"
   ]
  },
  {
   "cell_type": "code",
   "execution_count": 27,
   "id": "875a58e1-36d5-4176-a445-f9cbc2eb3771",
   "metadata": {
    "papermill": {
     "duration": 0.061782,
     "end_time": "2021-09-30T04:28:40.279474",
     "exception": false,
     "start_time": "2021-09-30T04:28:40.217692",
     "status": "completed"
    },
    "tags": []
   },
   "outputs": [
    {
     "data": {
      "text/plain": [
       "['adipose_subcutaneous', 'artery_tibial', 'muscle_skeletal', 'skin_sun_exposed_lower_leg', 'whole_blood']\n",
       "Categories (5, object): ['adipose_subcutaneous', 'artery_tibial', 'muscle_skeletal', 'skin_sun_exposed_lower_leg', 'whole_blood']"
      ]
     },
     "execution_count": 27,
     "metadata": {},
     "output_type": "execute_result"
    }
   ],
   "source": [
    "df[\"tissue\"].unique()"
   ]
  },
  {
   "cell_type": "code",
   "execution_count": 28,
   "id": "5bfeb305-7bed-45ff-9b9a-e50acb6cb628",
   "metadata": {
    "papermill": {
     "duration": 0.061902,
     "end_time": "2021-09-30T04:28:40.384871",
     "exception": false,
     "start_time": "2021-09-30T04:28:40.322969",
     "status": "completed"
    },
    "tags": []
   },
   "outputs": [
    {
     "data": {
      "text/plain": [
       "['var_pc_log2']\n",
       "Categories (1, object): ['var_pc_log2']"
      ]
     },
     "execution_count": 28,
     "metadata": {},
     "output_type": "execute_result"
    }
   ],
   "source": [
    "df[\"gene_sel_strategy\"].unique()"
   ]
  },
  {
   "cell_type": "code",
   "execution_count": 29,
   "id": "44e32dfa-c125-4f7b-adfc-ee72ee72b79d",
   "metadata": {
    "papermill": {
     "duration": 0.062556,
     "end_time": "2021-09-30T04:28:40.491752",
     "exception": false,
     "start_time": "2021-09-30T04:28:40.429196",
     "status": "completed"
    },
    "tags": []
   },
   "outputs": [
    {
     "data": {
      "text/plain": [
       "['clustermatch', 'clustermatch_k2', 'pearson_abs', 'spearman_abs']\n",
       "Categories (4, object): ['clustermatch', 'clustermatch_k2', 'pearson_abs', 'spearman_abs']"
      ]
     },
     "execution_count": 29,
     "metadata": {},
     "output_type": "execute_result"
    }
   ],
   "source": [
    "df[\"corr_method\"].unique()"
   ]
  },
  {
   "cell_type": "code",
   "execution_count": 30,
   "id": "a71d840c-b779-4aa6-9bef-89f72d0ccec9",
   "metadata": {
    "papermill": {
     "duration": 0.063449,
     "end_time": "2021-09-30T04:28:40.599566",
     "exception": false,
     "start_time": "2021-09-30T04:28:40.536117",
     "status": "completed"
    },
    "tags": []
   },
   "outputs": [
    {
     "data": {
      "text/plain": [
       "['SpectralClustering']\n",
       "Categories (1, object): ['SpectralClustering']"
      ]
     },
     "execution_count": 30,
     "metadata": {},
     "output_type": "execute_result"
    }
   ],
   "source": [
    "df[\"clust_method\"].unique()"
   ]
  },
  {
   "cell_type": "code",
   "execution_count": 31,
   "id": "960126ba-22b6-469c-9883-3e9bf93c0585",
   "metadata": {
    "papermill": {
     "duration": 0.075416,
     "end_time": "2021-09-30T04:28:40.721252",
     "exception": false,
     "start_time": "2021-09-30T04:28:40.645836",
     "status": "completed"
    },
    "tags": []
   },
   "outputs": [
    {
     "data": {
      "text/plain": [
       "['hsa']\n",
       "Categories (1, object): ['hsa']"
      ]
     },
     "execution_count": 31,
     "metadata": {},
     "output_type": "execute_result"
    }
   ],
   "source": [
    "df[\"enrich_params\"].unique()"
   ]
  },
  {
   "cell_type": "code",
   "execution_count": 32,
   "id": "14fc32be-f703-4db3-9396-ae85ef365eb7",
   "metadata": {
    "papermill": {
     "duration": 0.089893,
     "end_time": "2021-09-30T04:28:40.983928",
     "exception": false,
     "start_time": "2021-09-30T04:28:40.894035",
     "status": "completed"
    },
    "tags": []
   },
   "outputs": [
    {
     "ename": "AssertionError",
     "evalue": "",
     "output_type": "error",
     "traceback": [
      "\u001b[0;31m---------------------------------------------------------------------------\u001b[0m",
      "\u001b[0;31mAssertionError\u001b[0m                            Traceback (most recent call last)",
      "\u001b[0;32m/tmp/ipykernel_114303/39886057.py\u001b[0m in \u001b[0;36m<module>\u001b[0;34m\u001b[0m\n\u001b[0;32m----> 1\u001b[0;31m \u001b[0;32massert\u001b[0m \u001b[0;32mnot\u001b[0m \u001b[0mdf\u001b[0m\u001b[0;34m.\u001b[0m\u001b[0misna\u001b[0m\u001b[0;34m(\u001b[0m\u001b[0;34m)\u001b[0m\u001b[0;34m.\u001b[0m\u001b[0many\u001b[0m\u001b[0;34m(\u001b[0m\u001b[0;34m)\u001b[0m\u001b[0;34m.\u001b[0m\u001b[0many\u001b[0m\u001b[0;34m(\u001b[0m\u001b[0;34m)\u001b[0m\u001b[0;34m\u001b[0m\u001b[0;34m\u001b[0m\u001b[0m\n\u001b[0m",
      "\u001b[0;31mAssertionError\u001b[0m: "
     ]
    }
   ],
   "source": [
    "assert not df.isna().any().any()"
   ]
  },
  {
   "cell_type": "markdown",
   "id": "a0a93db6-b4bc-4d9e-a241-bcc2842f2656",
   "metadata": {
    "papermill": {
     "duration": 0.044938,
     "end_time": "2021-09-30T04:28:41.228770",
     "exception": false,
     "start_time": "2021-09-30T04:28:41.183832",
     "status": "completed"
    },
    "tags": []
   },
   "source": [
    "# Save"
   ]
  },
  {
   "cell_type": "code",
   "execution_count": 31,
   "id": "83d6fae7-eea9-491c-995e-7b9d96b05c11",
   "metadata": {
    "papermill": {
     "duration": 0.538791,
     "end_time": "2021-09-30T04:28:41.812390",
     "exception": false,
     "start_time": "2021-09-30T04:28:41.273599",
     "status": "completed"
    },
    "tags": []
   },
   "outputs": [],
   "source": [
    "import rpy2.robjects as ro\n",
    "from rpy2.robjects import pandas2ri\n",
    "from rpy2.robjects.conversion import localconverter\n",
    "\n",
    "saveRDS = ro.r[\"saveRDS\"]\n",
    "readRDS = ro.r[\"readRDS\"]"
   ]
  },
  {
   "cell_type": "code",
   "execution_count": 32,
   "id": "39125ea1-5691-40c0-8c0e-ceee96112085",
   "metadata": {
    "papermill": {
     "duration": 0.050239,
     "end_time": "2021-09-30T04:28:41.910947",
     "exception": false,
     "start_time": "2021-09-30T04:28:41.860708",
     "status": "completed"
    },
    "tags": []
   },
   "outputs": [],
   "source": [
    "data = df"
   ]
  },
  {
   "cell_type": "markdown",
   "id": "bb392932-2012-444f-8f25-37905c44e7c3",
   "metadata": {
    "papermill": {
     "duration": 0.044965,
     "end_time": "2021-09-30T04:28:42.000699",
     "exception": false,
     "start_time": "2021-09-30T04:28:41.955734",
     "status": "completed"
    },
    "tags": []
   },
   "source": [
    "## Pickle"
   ]
  },
  {
   "cell_type": "code",
   "execution_count": 33,
   "id": "c9c1ef2b-858b-4dfe-8ee7-31b20be691a8",
   "metadata": {
    "papermill": {
     "duration": 0.051495,
     "end_time": "2021-09-30T04:28:42.097175",
     "exception": false,
     "start_time": "2021-09-30T04:28:42.045680",
     "status": "completed"
    },
    "tags": []
   },
   "outputs": [
    {
     "data": {
      "text/plain": [
       "PosixPath('/home/miltondp/projects/labs/greenelab/clustermatch_repos/clustermatch-gene-expr/base/results/gtex_v8/gene_set_enrichment/gtex_v8_data-gene_set_enrichment.pkl')"
      ]
     },
     "metadata": {},
     "output_type": "display_data"
    }
   ],
   "source": [
    "display(OUTPUT_FILE)"
   ]
  },
  {
   "cell_type": "code",
   "execution_count": 34,
   "id": "bed62eb6-8023-46a5-a6b0-dd0329e2d51b",
   "metadata": {
    "papermill": {
     "duration": 0.168824,
     "end_time": "2021-09-30T04:28:42.311597",
     "exception": false,
     "start_time": "2021-09-30T04:28:42.142773",
     "status": "completed"
    },
    "tags": []
   },
   "outputs": [],
   "source": [
    "data.to_pickle(OUTPUT_FILE)"
   ]
  },
  {
   "cell_type": "markdown",
   "id": "83727a87-aebd-47a7-a477-74ad6185accc",
   "metadata": {
    "papermill": {
     "duration": 0.04534,
     "end_time": "2021-09-30T04:28:42.402867",
     "exception": false,
     "start_time": "2021-09-30T04:28:42.357527",
     "status": "completed"
    },
    "tags": []
   },
   "source": [
    "## RDS"
   ]
  },
  {
   "cell_type": "code",
   "execution_count": null,
   "id": "23cfacdb-e131-42b0-a37b-aec899913e32",
   "metadata": {
    "papermill": {
     "duration": 0.052484,
     "end_time": "2021-09-30T04:28:42.501443",
     "exception": false,
     "start_time": "2021-09-30T04:28:42.448959",
     "status": "completed"
    },
    "tags": []
   },
   "outputs": [],
   "source": [
    "output_rds_file = OUTPUT_FILE.with_suffix(\".rds\")\n",
    "display(output_rds_file)"
   ]
  },
  {
   "cell_type": "code",
   "execution_count": null,
   "id": "67e72cd4-cf60-420f-a011-0ec188abf178",
   "metadata": {
    "papermill": {
     "duration": 112.747684,
     "end_time": "2021-09-30T04:30:35.295722",
     "exception": false,
     "start_time": "2021-09-30T04:28:42.548038",
     "status": "completed"
    },
    "tags": []
   },
   "outputs": [],
   "source": [
    "with localconverter(ro.default_converter + pandas2ri.converter):\n",
    "    data_r = ro.conversion.py2rpy(data)"
   ]
  },
  {
   "cell_type": "code",
   "execution_count": null,
   "id": "a6f614b7-d94b-4d91-8774-d60656d19cff",
   "metadata": {
    "papermill": {
     "duration": 0.060807,
     "end_time": "2021-09-30T04:30:35.410864",
     "exception": false,
     "start_time": "2021-09-30T04:30:35.350057",
     "status": "completed"
    },
    "tags": []
   },
   "outputs": [],
   "source": [
    "data_r"
   ]
  },
  {
   "cell_type": "code",
   "execution_count": null,
   "id": "4fbabd33-fec9-46fd-a17f-a53c376078ff",
   "metadata": {
    "papermill": {
     "duration": 12.257437,
     "end_time": "2021-09-30T04:30:47.715018",
     "exception": false,
     "start_time": "2021-09-30T04:30:35.457581",
     "status": "completed"
    },
    "tags": []
   },
   "outputs": [],
   "source": [
    "saveRDS(data_r, str(output_rds_file))"
   ]
  },
  {
   "cell_type": "code",
   "execution_count": null,
   "id": "520b5ed1-01b4-4434-aebc-5a6daa29a00e",
   "metadata": {
    "papermill": {
     "duration": 1.927011,
     "end_time": "2021-09-30T04:30:49.689003",
     "exception": false,
     "start_time": "2021-09-30T04:30:47.761992",
     "status": "completed"
    },
    "tags": []
   },
   "outputs": [],
   "source": [
    "# testing\n",
    "data_r = readRDS(str(output_rds_file))"
   ]
  },
  {
   "cell_type": "code",
   "execution_count": null,
   "id": "64645a31-f003-49f2-8ceb-a1b12c9945d5",
   "metadata": {
    "papermill": {
     "duration": 78.404764,
     "end_time": "2021-09-30T04:32:08.140268",
     "exception": false,
     "start_time": "2021-09-30T04:30:49.735504",
     "status": "completed"
    },
    "tags": []
   },
   "outputs": [],
   "source": [
    "with localconverter(ro.default_converter + pandas2ri.converter):\n",
    "    data_again = ro.conversion.rpy2py(data_r)\n",
    "\n",
    "    # convert index to int, otherwise it's converted to string\n",
    "    data_again.index = data_again.index.astype(int)"
   ]
  },
  {
   "cell_type": "code",
   "execution_count": null,
   "id": "a0c26630-f83e-4928-938a-1061fb39abab",
   "metadata": {
    "papermill": {
     "duration": 0.053482,
     "end_time": "2021-09-30T04:32:08.240908",
     "exception": false,
     "start_time": "2021-09-30T04:32:08.187426",
     "status": "completed"
    },
    "tags": []
   },
   "outputs": [],
   "source": [
    "data_again.shape"
   ]
  },
  {
   "cell_type": "code",
   "execution_count": null,
   "id": "1640e806-1aa5-442f-beb2-b8d3c23ab084",
   "metadata": {
    "papermill": {
     "duration": 0.066801,
     "end_time": "2021-09-30T04:32:08.355520",
     "exception": false,
     "start_time": "2021-09-30T04:32:08.288719",
     "status": "completed"
    },
    "tags": []
   },
   "outputs": [],
   "source": [
    "data_again.head()"
   ]
  },
  {
   "cell_type": "code",
   "execution_count": null,
   "id": "9e968267-09e7-449f-9d14-8203cd6c7bfc",
   "metadata": {
    "papermill": {
     "duration": 176.205636,
     "end_time": "2021-09-30T04:35:04.608955",
     "exception": false,
     "start_time": "2021-09-30T04:32:08.403319",
     "status": "completed"
    },
    "tags": []
   },
   "outputs": [],
   "source": [
    "pd.testing.assert_frame_equal(\n",
    "    data,\n",
    "    data_again,\n",
    "    check_names=False,  # do not check \"name\" attribute of index and column\n",
    "    check_exact=True,  # since this is a binary format, it should match exactly\n",
    ")"
   ]
  },
  {
   "cell_type": "markdown",
   "id": "ee5cd5ae-a935-46fb-bfc7-5d66ff274fe2",
   "metadata": {
    "papermill": {
     "duration": 0.047664,
     "end_time": "2021-09-30T04:35:04.705555",
     "exception": false,
     "start_time": "2021-09-30T04:35:04.657891",
     "status": "completed"
    },
    "tags": []
   },
   "source": [
    "## tsv.gz"
   ]
  },
  {
   "cell_type": "code",
   "execution_count": null,
   "id": "cea96351-64fe-4bbf-a575-5587a22b79ec",
   "metadata": {
    "papermill": {
     "duration": 0.054259,
     "end_time": "2021-09-30T04:35:04.807288",
     "exception": false,
     "start_time": "2021-09-30T04:35:04.753029",
     "status": "completed"
    },
    "tags": []
   },
   "outputs": [],
   "source": [
    "output_text_file = OUTPUT_FILE.with_suffix(\".tsv.gz\")\n",
    "display(output_text_file)"
   ]
  },
  {
   "cell_type": "code",
   "execution_count": null,
   "id": "09330074-7cea-42d4-bc13-6af3131da12e",
   "metadata": {
    "papermill": {
     "duration": 61.434122,
     "end_time": "2021-09-30T04:36:06.289423",
     "exception": false,
     "start_time": "2021-09-30T04:35:04.855301",
     "status": "completed"
    },
    "tags": []
   },
   "outputs": [],
   "source": [
    "data.to_csv(output_text_file, sep=\"\\t\", index=False, float_format=\"%.5e\")"
   ]
  },
  {
   "cell_type": "code",
   "execution_count": null,
   "id": "2f960ae8-d392-4768-9d2f-f7ed267ec60e",
   "metadata": {
    "papermill": {
     "duration": 8.152672,
     "end_time": "2021-09-30T04:36:14.491384",
     "exception": false,
     "start_time": "2021-09-30T04:36:06.338712",
     "status": "completed"
    },
    "tags": []
   },
   "outputs": [],
   "source": [
    "# testing\n",
    "data_again = pd.read_csv(output_text_file, sep=\"\\t\")  # , index_col=0)"
   ]
  },
  {
   "cell_type": "code",
   "execution_count": null,
   "id": "04b581d2-6fc6-42b1-8f62-c166cb70986c",
   "metadata": {
    "papermill": {
     "duration": 0.055715,
     "end_time": "2021-09-30T04:36:14.596947",
     "exception": false,
     "start_time": "2021-09-30T04:36:14.541232",
     "status": "completed"
    },
    "tags": []
   },
   "outputs": [],
   "source": [
    "data_again.shape"
   ]
  },
  {
   "cell_type": "code",
   "execution_count": null,
   "id": "7dc97eb0-dac3-4a23-aaa0-fc2e351dcd15",
   "metadata": {
    "papermill": {
     "duration": 0.066627,
     "end_time": "2021-09-30T04:36:14.712735",
     "exception": false,
     "start_time": "2021-09-30T04:36:14.646108",
     "status": "completed"
    },
    "tags": []
   },
   "outputs": [],
   "source": [
    "data_again.head()"
   ]
  },
  {
   "cell_type": "code",
   "execution_count": null,
   "id": "8e85fff8-dde9-439d-808c-c053374c2785",
   "metadata": {
    "papermill": {
     "duration": 300.089682,
     "end_time": "2021-09-30T04:41:14.851541",
     "exception": false,
     "start_time": "2021-09-30T04:36:14.761859",
     "status": "completed"
    },
    "tags": []
   },
   "outputs": [],
   "source": [
    "pd.testing.assert_frame_equal(\n",
    "    data,\n",
    "    data_again,\n",
    "    check_names=False,  # do not check \"name\" attribute of index and column\n",
    "    check_dtype=False,  # do not check dtypes: do not distinguish between int64 and int32, for instance\n",
    "    check_categorical=False,\n",
    "    check_exact=False,\n",
    "    rtol=1e-5,\n",
    "    atol=5e-5,\n",
    ")"
   ]
  },
  {
   "cell_type": "code",
   "execution_count": null,
   "id": "72a954fe-b9c9-4f68-bca3-7a58e558cc3b",
   "metadata": {
    "papermill": {
     "duration": 0.049435,
     "end_time": "2021-09-30T04:41:14.950989",
     "exception": false,
     "start_time": "2021-09-30T04:41:14.901554",
     "status": "completed"
    },
    "tags": []
   },
   "outputs": [],
   "source": []
  }
 ],
 "metadata": {
  "jupytext": {
   "cell_metadata_filter": "all,-execution,-papermill,-trusted",
   "text_representation": {
    "extension": ".py",
    "format_name": "percent",
    "format_version": "1.3",
    "jupytext_version": "1.11.5"
   }
  },
  "kernelspec": {
   "display_name": "Python 3 (ipykernel)",
   "language": "python",
   "name": "python3"
  },
  "language_info": {
   "codemirror_mode": {
    "name": "ipython",
    "version": 3
   },
   "file_extension": ".py",
   "mimetype": "text/x-python",
   "name": "python",
   "nbconvert_exporter": "python",
   "pygments_lexer": "ipython3",
   "version": "3.9.7"
  },
  "papermill": {
   "default_parameters": {},
   "duration": 773.694602,
   "end_time": "2021-09-30T04:41:16.712071",
   "environment_variables": {},
   "exception": null,
   "input_path": "nbs/20_gene_set_enrichment/05_gtex_v8/90-combine_results.ipynb",
   "output_path": "nbs/20_gene_set_enrichment/05_gtex_v8/90-combine_results.run.ipynb",
   "parameters": {},
   "start_time": "2021-09-30T04:28:23.017469",
   "version": "2.3.3"
  },
  "toc-autonumbering": true
 },
 "nbformat": 4,
 "nbformat_minor": 5
}
