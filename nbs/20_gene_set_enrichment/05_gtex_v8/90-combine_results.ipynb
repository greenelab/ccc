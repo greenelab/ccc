{
 "cells": [
  {
   "cell_type": "markdown",
   "id": "4b79d660-2ab1-42c2-a4d5-467d2534e5dc",
   "metadata": {
    "papermill": {
     "duration": 0.026392,
     "end_time": "2021-09-30T04:28:24.187326",
     "exception": false,
     "start_time": "2021-09-30T04:28:24.160934",
     "status": "completed"
    },
    "tags": []
   },
   "source": [
    "# Description"
   ]
  },
  {
   "cell_type": "markdown",
   "id": "9f0b6db4-6f06-4856-a4b8-e24548d0f1d9",
   "metadata": {
    "papermill": {
     "duration": 0.025595,
     "end_time": "2021-09-30T04:28:24.238769",
     "exception": false,
     "start_time": "2021-09-30T04:28:24.213174",
     "status": "completed"
    },
    "tags": []
   },
   "source": [
    "Combines all gene enrichment results found in input directory."
   ]
  },
  {
   "cell_type": "markdown",
   "id": "dfb4a759-748a-4a19-b773-992a23cb9327",
   "metadata": {
    "papermill": {
     "duration": 0.025424,
     "end_time": "2021-09-30T04:28:24.291008",
     "exception": false,
     "start_time": "2021-09-30T04:28:24.265584",
     "status": "completed"
    },
    "tags": []
   },
   "source": [
    "# Modules loading"
   ]
  },
  {
   "cell_type": "code",
   "execution_count": 1,
   "id": "98e28052-34cc-43fc-87f3-a1b61eeb14fc",
   "metadata": {
    "papermill": {
     "duration": 1.038366,
     "end_time": "2021-09-30T04:28:25.354994",
     "exception": false,
     "start_time": "2021-09-30T04:28:24.316628",
     "status": "completed"
    },
    "tags": []
   },
   "outputs": [],
   "source": [
    "import re\n",
    "\n",
    "import numpy as np\n",
    "import pandas as pd\n",
    "from statsmodels.stats.multitest import multipletests\n",
    "import matplotlib.pyplot as plt\n",
    "import seaborn as sns\n",
    "from tqdm import tqdm\n",
    "\n",
    "from clustermatch import conf"
   ]
  },
  {
   "cell_type": "markdown",
   "id": "76fa50d9-680c-4107-b705-009070735d89",
   "metadata": {
    "papermill": {
     "duration": 0.026016,
     "end_time": "2021-09-30T04:28:25.407341",
     "exception": false,
     "start_time": "2021-09-30T04:28:25.381325",
     "status": "completed"
    },
    "tags": []
   },
   "source": [
    "# Settings"
   ]
  },
  {
   "cell_type": "code",
   "execution_count": null,
   "id": "90dbb8f8-1b7e-4283-9d0a-668045dbe1ae",
   "metadata": {
    "papermill": {
     "duration": 0.017811,
     "end_time": "2021-10-01T23:33:53.549322",
     "exception": false,
     "start_time": "2021-10-01T23:33:53.531511",
     "status": "completed"
    },
    "tags": []
   },
   "outputs": [],
   "source": [
    "DATASET_CONFIG = conf.GTEX"
   ]
  },
  {
   "cell_type": "code",
   "execution_count": 2,
   "id": "7e12ded2-5649-4e35-a946-07c8724ea421",
   "metadata": {
    "papermill": {
     "duration": 0.031191,
     "end_time": "2021-09-30T04:28:25.463977",
     "exception": false,
     "start_time": "2021-09-30T04:28:25.432786",
     "status": "completed"
    },
    "tags": []
   },
   "outputs": [],
   "source": [
    "# ENRICH_FUNCTION = \"enrichGO\""
   ]
  },
  {
   "cell_type": "code",
   "execution_count": 3,
   "id": "f10c4d5f-e737-4066-866a-e4f2404e5922",
   "metadata": {
    "papermill": {
     "duration": 0.031072,
     "end_time": "2021-09-30T04:28:25.521257",
     "exception": false,
     "start_time": "2021-09-30T04:28:25.490185",
     "status": "completed"
    },
    "tags": []
   },
   "outputs": [],
   "source": [
    "# CORRELATION_METHOD_NAME = \"clustermatch\""
   ]
  },
  {
   "cell_type": "code",
   "execution_count": 4,
   "id": "ff5b04ea-1161-499a-9aff-a3f5f0efd7ce",
   "metadata": {
    "papermill": {
     "duration": 0.031072,
     "end_time": "2021-09-30T04:28:25.578581",
     "exception": false,
     "start_time": "2021-09-30T04:28:25.547509",
     "status": "completed"
    },
    "tags": []
   },
   "outputs": [],
   "source": [
    "# GENE_SELECTION_STRATEGY = \"var_pc_log2\""
   ]
  },
  {
   "cell_type": "code",
   "execution_count": 5,
   "id": "c0e27c63-0b49-47f1-8147-6c47b90ea3d9",
   "metadata": {
    "papermill": {
     "duration": 0.030727,
     "end_time": "2021-09-30T04:28:25.635456",
     "exception": false,
     "start_time": "2021-09-30T04:28:25.604729",
     "status": "completed"
    },
    "tags": []
   },
   "outputs": [],
   "source": [
    "# # clusterProfiler settings\n",
    "# ENRICH_FUNCTION = \"enrichGO\"\n",
    "# SIMPLIFY_CUTOFF = 0.7\n",
    "# GO_ONTOLOGIES = (\"BP\", \"CC\", \"MF\")"
   ]
  },
  {
   "cell_type": "code",
   "execution_count": 6,
   "id": "d67b1af4-a310-45f5-a6e9-919df1fd2165",
   "metadata": {
    "papermill": {
     "duration": 0.030707,
     "end_time": "2021-09-30T04:28:25.692294",
     "exception": false,
     "start_time": "2021-09-30T04:28:25.661587",
     "status": "completed"
    },
    "tags": []
   },
   "outputs": [],
   "source": [
    "# SIMILARITY_MATRICES_DIR = conf.GTEX[\"SIMILARITY_MATRICES_DIR\"]\n",
    "# display(SIMILARITY_MATRICES_DIR)"
   ]
  },
  {
   "cell_type": "code",
   "execution_count": 7,
   "id": "22b5ec88-d626-4db3-ada1-81cf48f23579",
   "metadata": {
    "papermill": {
     "duration": 0.030885,
     "end_time": "2021-09-30T04:28:25.749122",
     "exception": false,
     "start_time": "2021-09-30T04:28:25.718237",
     "status": "completed"
    },
    "tags": []
   },
   "outputs": [],
   "source": [
    "# SIMILARITY_MATRIX_FILENAME_TEMPLATE = conf.GTEX[\"SIMILARITY_MATRIX_FILENAME_TEMPLATE\"]\n",
    "# display(SIMILARITY_MATRIX_FILENAME_TEMPLATE)"
   ]
  },
  {
   "cell_type": "markdown",
   "id": "eee530dc-b562-4b54-8bc3-a9c831ac052c",
   "metadata": {
    "papermill": {
     "duration": 0.025875,
     "end_time": "2021-09-30T04:28:25.801400",
     "exception": false,
     "start_time": "2021-09-30T04:28:25.775525",
     "status": "completed"
    },
    "tags": []
   },
   "source": [
    "# Paths"
   ]
  },
  {
   "cell_type": "code",
   "execution_count": 8,
   "id": "09f26fce-9c9b-4ec0-ae25-1b9130b17ab7",
   "metadata": {
    "papermill": {
     "duration": 0.034234,
     "end_time": "2021-09-30T04:28:25.861695",
     "exception": false,
     "start_time": "2021-09-30T04:28:25.827461",
     "status": "completed"
    },
    "tags": []
   },
   "outputs": [
    {
     "data": {
      "text/plain": [
       "PosixPath('/home/miltondp/projects/labs/greenelab/clustermatch_repos/clustermatch-gene-expr/base/results/gtex_v8/gene_set_enrichment')"
      ]
     },
     "metadata": {},
     "output_type": "display_data"
    }
   ],
   "source": [
    "INPUT_DIR = DATASET_CONFIG[\"GENE_ENRICHMENT_DIR\"]\n",
    "display(INPUT_DIR)\n",
    "assert INPUT_DIR.exists()"
   ]
  },
  {
   "cell_type": "code",
   "execution_count": 9,
   "id": "b89c7a90-c325-4557-9107-7ba95e8bf03a",
   "metadata": {
    "papermill": {
     "duration": 0.033872,
     "end_time": "2021-09-30T04:28:25.922586",
     "exception": false,
     "start_time": "2021-09-30T04:28:25.888714",
     "status": "completed"
    },
    "tags": []
   },
   "outputs": [
    {
     "data": {
      "text/plain": [
       "PosixPath('/home/miltondp/projects/labs/greenelab/clustermatch_repos/clustermatch-gene-expr/base/results/gtex_v8/gene_set_enrichment/gtex_v8_data-gene_set_enrichment.pkl')"
      ]
     },
     "metadata": {},
     "output_type": "display_data"
    }
   ],
   "source": [
    "OUTPUT_FILE = DATASET_CONFIG[\"GENE_ENRICHMENT_COMBINED_FILE\"]\n",
    "display(OUTPUT_FILE)\n",
    "\n",
    "OUTPUT_FILE.parent.mkdir(parents=True, exist_ok=True)"
   ]
  },
  {
   "cell_type": "markdown",
   "id": "ec13a933-c48b-412b-9147-6aca9548be9f",
   "metadata": {
    "papermill": {
     "duration": 0.026983,
     "end_time": "2021-09-30T04:28:25.976732",
     "exception": false,
     "start_time": "2021-09-30T04:28:25.949749",
     "status": "completed"
    },
    "tags": []
   },
   "source": [
    "# Get data files"
   ]
  },
  {
   "cell_type": "code",
   "execution_count": 10,
   "id": "da9668d5-9922-42ed-bc4a-aec394343871",
   "metadata": {
    "papermill": {
     "duration": 0.032648,
     "end_time": "2021-09-30T04:28:26.036244",
     "exception": false,
     "start_time": "2021-09-30T04:28:26.003596",
     "status": "completed"
    },
    "tags": []
   },
   "outputs": [],
   "source": [
    "filename_pattern = re.compile(DATASET_CONFIG[\"GENE_ENRICHMENT_FILENAME_PATTERN\"])"
   ]
  },
  {
   "cell_type": "code",
   "execution_count": 11,
   "id": "b356cfbc-a3f5-430e-a90b-05b57bb8289e",
   "metadata": {
    "papermill": {
     "duration": 0.037562,
     "end_time": "2021-09-30T04:28:26.101112",
     "exception": false,
     "start_time": "2021-09-30T04:28:26.063550",
     "status": "completed"
    },
    "tags": []
   },
   "outputs": [
    {
     "data": {
      "text/plain": [
       "180"
      ]
     },
     "metadata": {},
     "output_type": "display_data"
    },
    {
     "data": {
      "text/plain": [
       "[PosixPath('/home/miltondp/projects/labs/greenelab/clustermatch_repos/clustermatch-gene-expr/base/results/gtex_v8/gene_set_enrichment/gtex_v8_data_adipose_subcutaneous-var_pc_log2-clustermatch-SpectralClustering-enrichGO-BP_full.pkl'),\n",
       " PosixPath('/home/miltondp/projects/labs/greenelab/clustermatch_repos/clustermatch-gene-expr/base/results/gtex_v8/gene_set_enrichment/gtex_v8_data_adipose_subcutaneous-var_pc_log2-clustermatch-SpectralClustering-enrichGO-BP_simplified_070.pkl'),\n",
       " PosixPath('/home/miltondp/projects/labs/greenelab/clustermatch_repos/clustermatch-gene-expr/base/results/gtex_v8/gene_set_enrichment/gtex_v8_data_adipose_subcutaneous-var_pc_log2-clustermatch-SpectralClustering-enrichGO-CC_full.pkl'),\n",
       " PosixPath('/home/miltondp/projects/labs/greenelab/clustermatch_repos/clustermatch-gene-expr/base/results/gtex_v8/gene_set_enrichment/gtex_v8_data_adipose_subcutaneous-var_pc_log2-clustermatch-SpectralClustering-enrichGO-CC_simplified_070.pkl'),\n",
       " PosixPath('/home/miltondp/projects/labs/greenelab/clustermatch_repos/clustermatch-gene-expr/base/results/gtex_v8/gene_set_enrichment/gtex_v8_data_adipose_subcutaneous-var_pc_log2-clustermatch-SpectralClustering-enrichGO-MF_full.pkl')]"
      ]
     },
     "metadata": {},
     "output_type": "display_data"
    }
   ],
   "source": [
    "# get input data files according to Settings\n",
    "input_files = sorted(\n",
    "    [\n",
    "        f\n",
    "        for f in INPUT_DIR.iterdir()\n",
    "        if (m := re.search(filename_pattern, str(f))) is not None\n",
    "    ]\n",
    ")\n",
    "display(len(input_files))\n",
    "display(input_files[:5])\n",
    "\n",
    "assert len(input_files) > 0"
   ]
  },
  {
   "cell_type": "markdown",
   "id": "c8339679-216e-4ea3-a1f5-e2819c0bbf62",
   "metadata": {
    "papermill": {
     "duration": 0.027489,
     "end_time": "2021-09-30T04:28:26.156506",
     "exception": false,
     "start_time": "2021-09-30T04:28:26.129017",
     "status": "completed"
    },
    "tags": []
   },
   "source": [
    "## Preview data"
   ]
  },
  {
   "cell_type": "code",
   "execution_count": 12,
   "id": "2428dee3-38a1-48db-a053-510d95e641ea",
   "metadata": {
    "papermill": {
     "duration": 0.033668,
     "end_time": "2021-09-30T04:28:26.217764",
     "exception": false,
     "start_time": "2021-09-30T04:28:26.184096",
     "status": "completed"
    },
    "tags": []
   },
   "outputs": [
    {
     "data": {
      "text/plain": [
       "PosixPath('/home/miltondp/projects/labs/greenelab/clustermatch_repos/clustermatch-gene-expr/base/results/gtex_v8/gene_set_enrichment/gtex_v8_data_adipose_subcutaneous-var_pc_log2-clustermatch-SpectralClustering-enrichGO-BP_full.pkl')"
      ]
     },
     "metadata": {},
     "output_type": "display_data"
    }
   ],
   "source": [
    "display(input_files[0])"
   ]
  },
  {
   "cell_type": "code",
   "execution_count": 13,
   "id": "c7c0bf99-4ac6-4a35-b18e-2677719d2239",
   "metadata": {
    "papermill": {
     "duration": 0.070475,
     "end_time": "2021-09-30T04:28:26.316288",
     "exception": false,
     "start_time": "2021-09-30T04:28:26.245813",
     "status": "completed"
    },
    "tags": []
   },
   "outputs": [],
   "source": [
    "_tmp_df = pd.read_pickle(input_files[0])"
   ]
  },
  {
   "cell_type": "code",
   "execution_count": 14,
   "id": "4a84e02e-ba04-43d4-a693-93d632cf6ba0",
   "metadata": {
    "papermill": {
     "duration": 0.034367,
     "end_time": "2021-09-30T04:28:26.379065",
     "exception": false,
     "start_time": "2021-09-30T04:28:26.344698",
     "status": "completed"
    },
    "tags": []
   },
   "outputs": [
    {
     "data": {
      "text/plain": [
       "(50515, 12)"
      ]
     },
     "execution_count": 14,
     "metadata": {},
     "output_type": "execute_result"
    }
   ],
   "source": [
    "_tmp_df.shape"
   ]
  },
  {
   "cell_type": "code",
   "execution_count": 15,
   "id": "b3ef488f-4c8f-4ea3-abb0-d93c3afc6dc4",
   "metadata": {
    "papermill": {
     "duration": 0.05874,
     "end_time": "2021-09-30T04:28:26.466579",
     "exception": false,
     "start_time": "2021-09-30T04:28:26.407839",
     "status": "completed"
    },
    "tags": []
   },
   "outputs": [
    {
     "data": {
      "text/html": [
       "<div>\n",
       "<style scoped>\n",
       "    .dataframe tbody tr th:only-of-type {\n",
       "        vertical-align: middle;\n",
       "    }\n",
       "\n",
       "    .dataframe tbody tr th {\n",
       "        vertical-align: top;\n",
       "    }\n",
       "\n",
       "    .dataframe thead th {\n",
       "        text-align: right;\n",
       "    }\n",
       "</style>\n",
       "<table border=\"1\" class=\"dataframe\">\n",
       "  <thead>\n",
       "    <tr style=\"text-align: right;\">\n",
       "      <th></th>\n",
       "      <th>Cluster</th>\n",
       "      <th>ID</th>\n",
       "      <th>Description</th>\n",
       "      <th>GeneRatio</th>\n",
       "      <th>BgRatio</th>\n",
       "      <th>pvalue</th>\n",
       "      <th>p.adjust</th>\n",
       "      <th>qvalue</th>\n",
       "      <th>geneID</th>\n",
       "      <th>Count</th>\n",
       "      <th>clustering_id</th>\n",
       "      <th>clustering_n_clusters</th>\n",
       "    </tr>\n",
       "  </thead>\n",
       "  <tbody>\n",
       "    <tr>\n",
       "      <th>17492</th>\n",
       "      <td>C21</td>\n",
       "      <td>GO:0035383</td>\n",
       "      <td>thioester metabolic process</td>\n",
       "      <td>15/329</td>\n",
       "      <td>34/3528</td>\n",
       "      <td>9.214483e-08</td>\n",
       "      <td>6.388708e-06</td>\n",
       "      <td>5.708822e-06</td>\n",
       "      <td>FASN/ACSL1/ACACB/ACOT1/ACSM5/ELOVL5/SLC25A1/AA...</td>\n",
       "      <td>15</td>\n",
       "      <td>SpectralClustering #13</td>\n",
       "      <td>65</td>\n",
       "    </tr>\n",
       "    <tr>\n",
       "      <th>25252</th>\n",
       "      <td>C60</td>\n",
       "      <td>GO:0032103</td>\n",
       "      <td>positive regulation of response to external st...</td>\n",
       "      <td>14/114</td>\n",
       "      <td>170/3528</td>\n",
       "      <td>9.718798e-04</td>\n",
       "      <td>1.609940e-02</td>\n",
       "      <td>1.372641e-02</td>\n",
       "      <td>CD209/CLEC10A/CSF1R/TYROBP/AIF1/CD28/P2RY12/BT...</td>\n",
       "      <td>14</td>\n",
       "      <td>SpectralClustering #16</td>\n",
       "      <td>80</td>\n",
       "    </tr>\n",
       "    <tr>\n",
       "      <th>38316</th>\n",
       "      <td>C1</td>\n",
       "      <td>GO:0071398</td>\n",
       "      <td>cellular response to fatty acid</td>\n",
       "      <td>3/20</td>\n",
       "      <td>19/3528</td>\n",
       "      <td>1.425567e-04</td>\n",
       "      <td>9.785604e-03</td>\n",
       "      <td>8.874987e-03</td>\n",
       "      <td>AKR1C2/AKR1C1/AKR1C3</td>\n",
       "      <td>3</td>\n",
       "      <td>SpectralClustering #21</td>\n",
       "      <td>125</td>\n",
       "    </tr>\n",
       "    <tr>\n",
       "      <th>3849</th>\n",
       "      <td>C3</td>\n",
       "      <td>GO:0045321</td>\n",
       "      <td>leukocyte activation</td>\n",
       "      <td>45/93</td>\n",
       "      <td>490/3528</td>\n",
       "      <td>5.381953e-16</td>\n",
       "      <td>1.085833e-15</td>\n",
       "      <td>5.068876e-16</td>\n",
       "      <td>IGHG2/IGKC/IGLC1/IGHG1/IGHG3/IGHM/IGHA1/IGLC3/...</td>\n",
       "      <td>45</td>\n",
       "      <td>SpectralClustering #4</td>\n",
       "      <td>20</td>\n",
       "    </tr>\n",
       "    <tr>\n",
       "      <th>26471</th>\n",
       "      <td>C36</td>\n",
       "      <td>GO:0060627</td>\n",
       "      <td>regulation of vesicle-mediated transport</td>\n",
       "      <td>3/7</td>\n",
       "      <td>129/3528</td>\n",
       "      <td>1.500944e-03</td>\n",
       "      <td>1.795773e-02</td>\n",
       "      <td>9.874634e-03</td>\n",
       "      <td>FGB/APOC3/FGG</td>\n",
       "      <td>3</td>\n",
       "      <td>SpectralClustering #16</td>\n",
       "      <td>80</td>\n",
       "    </tr>\n",
       "  </tbody>\n",
       "</table>\n",
       "</div>"
      ],
      "text/plain": [
       "      Cluster          ID                                        Description  \\\n",
       "17492     C21  GO:0035383                        thioester metabolic process   \n",
       "25252     C60  GO:0032103  positive regulation of response to external st...   \n",
       "38316      C1  GO:0071398                    cellular response to fatty acid   \n",
       "3849       C3  GO:0045321                               leukocyte activation   \n",
       "26471     C36  GO:0060627           regulation of vesicle-mediated transport   \n",
       "\n",
       "      GeneRatio   BgRatio        pvalue      p.adjust        qvalue  \\\n",
       "17492    15/329   34/3528  9.214483e-08  6.388708e-06  5.708822e-06   \n",
       "25252    14/114  170/3528  9.718798e-04  1.609940e-02  1.372641e-02   \n",
       "38316      3/20   19/3528  1.425567e-04  9.785604e-03  8.874987e-03   \n",
       "3849      45/93  490/3528  5.381953e-16  1.085833e-15  5.068876e-16   \n",
       "26471       3/7  129/3528  1.500944e-03  1.795773e-02  9.874634e-03   \n",
       "\n",
       "                                                  geneID  Count  \\\n",
       "17492  FASN/ACSL1/ACACB/ACOT1/ACSM5/ELOVL5/SLC25A1/AA...     15   \n",
       "25252  CD209/CLEC10A/CSF1R/TYROBP/AIF1/CD28/P2RY12/BT...     14   \n",
       "38316                               AKR1C2/AKR1C1/AKR1C3      3   \n",
       "3849   IGHG2/IGKC/IGLC1/IGHG1/IGHG3/IGHM/IGHA1/IGLC3/...     45   \n",
       "26471                                      FGB/APOC3/FGG      3   \n",
       "\n",
       "                clustering_id  clustering_n_clusters  \n",
       "17492  SpectralClustering #13                     65  \n",
       "25252  SpectralClustering #16                     80  \n",
       "38316  SpectralClustering #21                    125  \n",
       "3849    SpectralClustering #4                     20  \n",
       "26471  SpectralClustering #16                     80  "
      ]
     },
     "execution_count": 15,
     "metadata": {},
     "output_type": "execute_result"
    }
   ],
   "source": [
    "_tmp_df.sample(n=5, random_state=0)"
   ]
  },
  {
   "cell_type": "markdown",
   "id": "f4e3a617-e89c-40b2-8dbd-3bbd5a2d378a",
   "metadata": {
    "papermill": {
     "duration": 0.028978,
     "end_time": "2021-09-30T04:28:26.524915",
     "exception": false,
     "start_time": "2021-09-30T04:28:26.495937",
     "status": "completed"
    },
    "tags": []
   },
   "source": [
    "# Run"
   ]
  },
  {
   "cell_type": "markdown",
   "id": "9bad87b5-0f3e-4138-8d3e-ac50d9431520",
   "metadata": {
    "papermill": {
     "duration": 0.028808,
     "end_time": "2021-09-30T04:28:26.582612",
     "exception": false,
     "start_time": "2021-09-30T04:28:26.553804",
     "status": "completed"
    },
    "tags": []
   },
   "source": [
    "## Read data, convert dtypes, add new metrics"
   ]
  },
  {
   "cell_type": "code",
   "execution_count": 16,
   "id": "4c1d8f26-1a6f-4b3e-8a24-9a03d4e90bd2",
   "metadata": {
    "papermill": {
     "duration": 9.598412,
     "end_time": "2021-09-30T04:28:36.209755",
     "exception": false,
     "start_time": "2021-09-30T04:28:26.611343",
     "status": "completed"
    },
    "tags": []
   },
   "outputs": [
    {
     "name": "stderr",
     "output_type": "stream",
     "text": [
      "100%|█████████████████████████████████████████████████████████████| 180/180 [00:08<00:00, 21.23it/s]\n"
     ]
    }
   ],
   "source": [
    "all_results = []\n",
    "\n",
    "for f_full in tqdm(input_files, ncols=100):\n",
    "    f_name = f_full.name\n",
    "\n",
    "    f_data = pd.read_pickle(f_full)\n",
    "#     f_data = f_data.rename(\n",
    "#         columns={\n",
    "#             \"Count\": \"gene_count\",\n",
    "#             \"GeneRatio\": \"gene_ratio\",\n",
    "#             \"BgRatio\": \"bg_ratio\",\n",
    "#             \"ID\": \"go_term_id\",\n",
    "#             \"Description\": \"go_term_desc\",\n",
    "#             \"Cluster\": \"cluster_id\",\n",
    "#             \"clustering_n_clusters\": \"n_clusters\",\n",
    "#             \"p.adjust\": \"fdr_per_file\",\n",
    "#         }\n",
    "#     )\n",
    "\n",
    "#     # genes in cluster\n",
    "#     f_data = f_data.assign(\n",
    "#         gene_total=f_data[\"gene_ratio\"].apply(lambda x: int(x.split(\"/\")[1]))\n",
    "#     )\n",
    "\n",
    "#     # background genes\n",
    "#     f_data = f_data.assign(\n",
    "#         bg_count=f_data[\"bg_ratio\"].apply(lambda x: int(x.split(\"/\")[0]))\n",
    "#     )\n",
    "#     f_data = f_data.assign(\n",
    "#         bg_total=f_data[\"bg_ratio\"].apply(lambda x: int(x.split(\"/\")[1]))\n",
    "#     )\n",
    "\n",
    "    # add metadata\n",
    "    metadata = re.search(filename_pattern, f_name)\n",
    "\n",
    "    f_data = f_data[\n",
    "        [\n",
    "            \"n_clusters\",\n",
    "            \"cluster_id\",\n",
    "            \"term_id\",\n",
    "            \"term_desc\",\n",
    "            \"gene_count\",\n",
    "            \"gene_total\",\n",
    "            \"gene_ratio\",\n",
    "            \"bg_count\",\n",
    "            \"bg_total\",\n",
    "            \"bg_ratio\",\n",
    "            \"pvalue\",\n",
    "            \"pvalue_adjust\",\n",
    "            \"qvalue\",\n",
    "        ]\n",
    "    ]\n",
    "\n",
    "    f_data[\"tissue\"] = metadata.group(\"tissue\")\n",
    "    f_data[\"gene_sel_strategy\"] = metadata.group(\"gene_sel_strategy\")\n",
    "    f_data[\"corr_method\"] = metadata.group(\"corr_method\")\n",
    "    f_data[\"clust_method\"] = metadata.group(\"clust_method\")\n",
    "    f_data[\"enrich_func\"] = metadata.group(\"enrich_func\")\n",
    "    f_data[\"enrich_params\"] = metadata.group(\"enrich_params\")\n",
    "\n",
    "    all_results.append(f_data)"
   ]
  },
  {
   "cell_type": "code",
   "execution_count": 17,
   "id": "dba36444-b52f-4934-8950-786cd0c51a61",
   "metadata": {
    "papermill": {
     "duration": 3.06879,
     "end_time": "2021-09-30T04:28:39.346638",
     "exception": false,
     "start_time": "2021-09-30T04:28:36.277848",
     "status": "completed"
    },
    "tags": []
   },
   "outputs": [],
   "source": [
    "df = pd.concat(all_results, ignore_index=True)\n",
    "\n",
    "# to category dtype\n",
    "df[\"cluster_id\"] = df[\"cluster_id\"].astype(\"category\")\n",
    "df[\"term_id\"] = df[\"go_term_id\"].astype(\"category\")\n",
    "df[\"term_desc\"] = df[\"go_term_desc\"].astype(\"category\")\n",
    "df[\"tissue\"] = df[\"tissue\"].astype(\"category\")\n",
    "df[\"gene_sel_strategy\"] = df[\"gene_sel_strategy\"].astype(\"category\")\n",
    "df[\"corr_method\"] = df[\"corr_method\"].astype(\"category\")\n",
    "df[\"clust_method\"] = df[\"clust_method\"].astype(\"category\")\n",
    "df[\"enrich_func\"] = df[\"enrich_func\"].astype(\"category\")\n",
    "df[\"enrich_params\"] = df[\"enrich_params\"].astype(\"category\")\n",
    "\n",
    "# convert to int32\n",
    "df[\"n_clusters\"] = df[\"n_clusters\"].astype(\"uint32\")\n",
    "df[\"gene_count\"] = df[\"gene_count\"].astype(\"uint32\")\n",
    "df[\"gene_total\"] = df[\"gene_total\"].astype(\"uint32\")\n",
    "df[\"bg_count\"] = df[\"bg_count\"].astype(\"uint32\")\n",
    "df[\"bg_total\"] = df[\"bg_total\"].astype(\"uint32\")\n",
    "\n",
    "# # convert ratios to numbers\n",
    "# df[\"gene_ratio\"] = df[\"gene_count\"].div(df[\"gene_total\"])\n",
    "# df[\"bg_ratio\"] = df[\"bg_count\"].div(df[\"bg_total\"])\n",
    "\n",
    "# # add other metrics\n",
    "# df[\"rich_factor\"] = df[\"gene_count\"].div(df[\"bg_count\"])\n",
    "# df[\"fold_enrich\"] = df[\"gene_ratio\"].div(df[\"bg_ratio\"])"
   ]
  },
  {
   "cell_type": "code",
   "execution_count": 18,
   "id": "b3054d6e-52d4-4edb-ab9c-a8d5cb1783c6",
   "metadata": {},
   "outputs": [],
   "source": [
    "# # adjust for multiple testing across all results\n",
    "# adj_pval = multipletests(df[\"pvalue\"], alpha=0.05, method=\"fdr_bh\")\n",
    "# df = df.assign(fdr=adj_pval[1])"
   ]
  },
  {
   "cell_type": "code",
   "execution_count": 19,
   "id": "840e3a37-4f34-4689-98d3-79f2ee1a9f5b",
   "metadata": {
    "papermill": {
     "duration": 0.049172,
     "end_time": "2021-09-30T04:28:39.441298",
     "exception": false,
     "start_time": "2021-09-30T04:28:39.392126",
     "status": "completed"
    },
    "tags": []
   },
   "outputs": [
    {
     "data": {
      "text/plain": [
       "(2754014, 21)"
      ]
     },
     "execution_count": 19,
     "metadata": {},
     "output_type": "execute_result"
    }
   ],
   "source": [
    "df.shape"
   ]
  },
  {
   "cell_type": "code",
   "execution_count": 20,
   "id": "e066d3c0-1e6b-42de-8c12-90d0f403c423",
   "metadata": {
    "papermill": {
     "duration": 0.049871,
     "end_time": "2021-09-30T04:28:39.533116",
     "exception": false,
     "start_time": "2021-09-30T04:28:39.483245",
     "status": "completed"
    },
    "tags": []
   },
   "outputs": [
    {
     "data": {
      "text/plain": [
       "n_clusters              int32\n",
       "cluster_id           category\n",
       "go_term_id           category\n",
       "go_term_desc         category\n",
       "gene_count              int32\n",
       "gene_total              int32\n",
       "gene_ratio            float64\n",
       "bg_count                int32\n",
       "bg_total                int32\n",
       "bg_ratio              float64\n",
       "pvalue                float64\n",
       "fdr_per_file          float64\n",
       "tissue               category\n",
       "gene_sel_strategy    category\n",
       "corr_method          category\n",
       "clust_method         category\n",
       "enrich_func          category\n",
       "results_subset       category\n",
       "rich_factor           float64\n",
       "fold_enrich           float64\n",
       "fdr                   float64\n",
       "dtype: object"
      ]
     },
     "metadata": {},
     "output_type": "display_data"
    }
   ],
   "source": [
    "display(df.dtypes)\n",
    "assert df.dtypes.loc[\"cluster_id\"] == \"category\""
   ]
  },
  {
   "cell_type": "code",
   "execution_count": 21,
   "id": "a0aec274-c723-4af5-b381-863aada8ce98",
   "metadata": {
    "papermill": {
     "duration": 0.22312,
     "end_time": "2021-09-30T04:28:39.798601",
     "exception": false,
     "start_time": "2021-09-30T04:28:39.575481",
     "status": "completed"
    },
    "tags": []
   },
   "outputs": [
    {
     "data": {
      "text/html": [
       "<div>\n",
       "<style scoped>\n",
       "    .dataframe tbody tr th:only-of-type {\n",
       "        vertical-align: middle;\n",
       "    }\n",
       "\n",
       "    .dataframe tbody tr th {\n",
       "        vertical-align: top;\n",
       "    }\n",
       "\n",
       "    .dataframe thead th {\n",
       "        text-align: right;\n",
       "    }\n",
       "</style>\n",
       "<table border=\"1\" class=\"dataframe\">\n",
       "  <thead>\n",
       "    <tr style=\"text-align: right;\">\n",
       "      <th></th>\n",
       "      <th>n_clusters</th>\n",
       "      <th>cluster_id</th>\n",
       "      <th>go_term_id</th>\n",
       "      <th>go_term_desc</th>\n",
       "      <th>gene_count</th>\n",
       "      <th>gene_total</th>\n",
       "      <th>gene_ratio</th>\n",
       "      <th>bg_count</th>\n",
       "      <th>bg_total</th>\n",
       "      <th>bg_ratio</th>\n",
       "      <th>...</th>\n",
       "      <th>fdr_per_file</th>\n",
       "      <th>tissue</th>\n",
       "      <th>gene_sel_strategy</th>\n",
       "      <th>corr_method</th>\n",
       "      <th>clust_method</th>\n",
       "      <th>enrich_func</th>\n",
       "      <th>results_subset</th>\n",
       "      <th>rich_factor</th>\n",
       "      <th>fold_enrich</th>\n",
       "      <th>fdr</th>\n",
       "    </tr>\n",
       "  </thead>\n",
       "  <tbody>\n",
       "    <tr>\n",
       "      <th>2682920</th>\n",
       "      <td>150</td>\n",
       "      <td>C2</td>\n",
       "      <td>GO:0030198</td>\n",
       "      <td>extracellular matrix organization</td>\n",
       "      <td>4</td>\n",
       "      <td>10</td>\n",
       "      <td>0.400000</td>\n",
       "      <td>108</td>\n",
       "      <td>4013</td>\n",
       "      <td>0.026913</td>\n",
       "      <td>...</td>\n",
       "      <td>0.001633</td>\n",
       "      <td>whole_blood</td>\n",
       "      <td>var_pc_log2</td>\n",
       "      <td>spearman_full</td>\n",
       "      <td>SpectralClustering</td>\n",
       "      <td>enrichGO</td>\n",
       "      <td>BP_full</td>\n",
       "      <td>0.037037</td>\n",
       "      <td>14.862963</td>\n",
       "      <td>0.000224</td>\n",
       "    </tr>\n",
       "    <tr>\n",
       "      <th>1934389</th>\n",
       "      <td>50</td>\n",
       "      <td>C37</td>\n",
       "      <td>GO:0010959</td>\n",
       "      <td>regulation of metal ion transport</td>\n",
       "      <td>10</td>\n",
       "      <td>133</td>\n",
       "      <td>0.075188</td>\n",
       "      <td>67</td>\n",
       "      <td>3407</td>\n",
       "      <td>0.019665</td>\n",
       "      <td>...</td>\n",
       "      <td>0.007624</td>\n",
       "      <td>skin_sun_exposed_lower_leg</td>\n",
       "      <td>var_pc_log2</td>\n",
       "      <td>spearman_abs</td>\n",
       "      <td>SpectralClustering</td>\n",
       "      <td>enrichGO</td>\n",
       "      <td>BP_full</td>\n",
       "      <td>0.149254</td>\n",
       "      <td>3.823364</td>\n",
       "      <td>0.000448</td>\n",
       "    </tr>\n",
       "    <tr>\n",
       "      <th>671711</th>\n",
       "      <td>10</td>\n",
       "      <td>C9</td>\n",
       "      <td>GO:2000106</td>\n",
       "      <td>regulation of leukocyte apoptotic process</td>\n",
       "      <td>13</td>\n",
       "      <td>642</td>\n",
       "      <td>0.020249</td>\n",
       "      <td>31</td>\n",
       "      <td>3278</td>\n",
       "      <td>0.009457</td>\n",
       "      <td>...</td>\n",
       "      <td>0.029928</td>\n",
       "      <td>artery_tibial</td>\n",
       "      <td>var_pc_log2</td>\n",
       "      <td>clustermatch_k2</td>\n",
       "      <td>SpectralClustering</td>\n",
       "      <td>enrichGO</td>\n",
       "      <td>BP_simplified_070</td>\n",
       "      <td>0.419355</td>\n",
       "      <td>2.141192</td>\n",
       "      <td>0.004232</td>\n",
       "    </tr>\n",
       "    <tr>\n",
       "      <th>1069153</th>\n",
       "      <td>65</td>\n",
       "      <td>C40</td>\n",
       "      <td>GO:0046394</td>\n",
       "      <td>carboxylic acid biosynthetic process</td>\n",
       "      <td>5</td>\n",
       "      <td>32</td>\n",
       "      <td>0.156250</td>\n",
       "      <td>105</td>\n",
       "      <td>3746</td>\n",
       "      <td>0.028030</td>\n",
       "      <td>...</td>\n",
       "      <td>0.043229</td>\n",
       "      <td>muscle_skeletal</td>\n",
       "      <td>var_pc_log2</td>\n",
       "      <td>clustermatch</td>\n",
       "      <td>SpectralClustering</td>\n",
       "      <td>enrichGO</td>\n",
       "      <td>BP_simplified_070</td>\n",
       "      <td>0.047619</td>\n",
       "      <td>5.574405</td>\n",
       "      <td>0.002381</td>\n",
       "    </tr>\n",
       "    <tr>\n",
       "      <th>1217210</th>\n",
       "      <td>25</td>\n",
       "      <td>C7</td>\n",
       "      <td>GO:0051216</td>\n",
       "      <td>cartilage development</td>\n",
       "      <td>22</td>\n",
       "      <td>619</td>\n",
       "      <td>0.035541</td>\n",
       "      <td>76</td>\n",
       "      <td>3746</td>\n",
       "      <td>0.020288</td>\n",
       "      <td>...</td>\n",
       "      <td>0.027969</td>\n",
       "      <td>muscle_skeletal</td>\n",
       "      <td>var_pc_log2</td>\n",
       "      <td>pearson_abs</td>\n",
       "      <td>SpectralClustering</td>\n",
       "      <td>enrichGO</td>\n",
       "      <td>BP_simplified_070</td>\n",
       "      <td>0.289474</td>\n",
       "      <td>1.751807</td>\n",
       "      <td>0.005156</td>\n",
       "    </tr>\n",
       "  </tbody>\n",
       "</table>\n",
       "<p>5 rows × 21 columns</p>\n",
       "</div>"
      ],
      "text/plain": [
       "         n_clusters cluster_id  go_term_id  \\\n",
       "2682920         150         C2  GO:0030198   \n",
       "1934389          50        C37  GO:0010959   \n",
       "671711           10         C9  GO:2000106   \n",
       "1069153          65        C40  GO:0046394   \n",
       "1217210          25         C7  GO:0051216   \n",
       "\n",
       "                                      go_term_desc  gene_count  gene_total  \\\n",
       "2682920          extracellular matrix organization           4          10   \n",
       "1934389          regulation of metal ion transport          10         133   \n",
       "671711   regulation of leukocyte apoptotic process          13         642   \n",
       "1069153       carboxylic acid biosynthetic process           5          32   \n",
       "1217210                      cartilage development          22         619   \n",
       "\n",
       "         gene_ratio  bg_count  bg_total  bg_ratio  ...  fdr_per_file  \\\n",
       "2682920    0.400000       108      4013  0.026913  ...      0.001633   \n",
       "1934389    0.075188        67      3407  0.019665  ...      0.007624   \n",
       "671711     0.020249        31      3278  0.009457  ...      0.029928   \n",
       "1069153    0.156250       105      3746  0.028030  ...      0.043229   \n",
       "1217210    0.035541        76      3746  0.020288  ...      0.027969   \n",
       "\n",
       "                             tissue gene_sel_strategy      corr_method  \\\n",
       "2682920                 whole_blood       var_pc_log2    spearman_full   \n",
       "1934389  skin_sun_exposed_lower_leg       var_pc_log2     spearman_abs   \n",
       "671711                artery_tibial       var_pc_log2  clustermatch_k2   \n",
       "1069153             muscle_skeletal       var_pc_log2     clustermatch   \n",
       "1217210             muscle_skeletal       var_pc_log2      pearson_abs   \n",
       "\n",
       "               clust_method enrich_func     results_subset rich_factor  \\\n",
       "2682920  SpectralClustering    enrichGO            BP_full    0.037037   \n",
       "1934389  SpectralClustering    enrichGO            BP_full    0.149254   \n",
       "671711   SpectralClustering    enrichGO  BP_simplified_070    0.419355   \n",
       "1069153  SpectralClustering    enrichGO  BP_simplified_070    0.047619   \n",
       "1217210  SpectralClustering    enrichGO  BP_simplified_070    0.289474   \n",
       "\n",
       "         fold_enrich       fdr  \n",
       "2682920    14.862963  0.000224  \n",
       "1934389     3.823364  0.000448  \n",
       "671711      2.141192  0.004232  \n",
       "1069153     5.574405  0.002381  \n",
       "1217210     1.751807  0.005156  \n",
       "\n",
       "[5 rows x 21 columns]"
      ]
     },
     "execution_count": 21,
     "metadata": {},
     "output_type": "execute_result"
    }
   ],
   "source": [
    "df.sample(n=5, random_state=0)"
   ]
  },
  {
   "cell_type": "markdown",
   "id": "cae1ec0b-98c2-44a9-906a-74d716dad777",
   "metadata": {
    "papermill": {
     "duration": 0.042663,
     "end_time": "2021-09-30T04:28:39.884457",
     "exception": false,
     "start_time": "2021-09-30T04:28:39.841794",
     "status": "completed"
    },
    "tags": []
   },
   "source": [
    "## Some stats"
   ]
  },
  {
   "cell_type": "code",
   "execution_count": 22,
   "id": "be827957-e573-485b-aca5-2224157b0979",
   "metadata": {
    "papermill": {
     "duration": 0.142896,
     "end_time": "2021-09-30T04:28:40.069784",
     "exception": false,
     "start_time": "2021-09-30T04:28:39.926888",
     "status": "completed"
    },
    "tags": []
   },
   "outputs": [
    {
     "data": {
      "text/plain": [
       "count     2.754014e+06\n",
       "mean      2.496662e-03\n",
       "std       4.778156e-03\n",
       "min      2.403574e-198\n",
       "25%       1.488134e-05\n",
       "50%       5.062089e-04\n",
       "75%       2.745984e-03\n",
       "max       4.998964e-02\n",
       "Name: fdr, dtype: float64"
      ]
     },
     "metadata": {},
     "output_type": "display_data"
    }
   ],
   "source": [
    "display(df[\"qvalue\"].describe())\n",
    "assert df[\"qvalue\"].min() > 0.0\n",
    "assert df[\"qvalue\"].max() < 1.0"
   ]
  },
  {
   "cell_type": "code",
   "execution_count": 23,
   "id": "a972063c-92f6-4b90-a4eb-353959f0f4d3",
   "metadata": {
    "papermill": {
     "duration": 0.060702,
     "end_time": "2021-09-30T04:28:40.174195",
     "exception": false,
     "start_time": "2021-09-30T04:28:40.113493",
     "status": "completed"
    },
    "tags": []
   },
   "outputs": [
    {
     "data": {
      "text/plain": [
       "array([  2,   5,  10,  15,  20,  25,  30,  35,  40,  45,  50,  55,  60,\n",
       "        65,  70,  75,  80,  85,  90,  95, 100, 125, 150, 175, 200],\n",
       "      dtype=int32)"
      ]
     },
     "execution_count": 23,
     "metadata": {},
     "output_type": "execute_result"
    }
   ],
   "source": [
    "df[\"n_clusters\"].unique()"
   ]
  },
  {
   "cell_type": "code",
   "execution_count": 24,
   "id": "875a58e1-36d5-4176-a445-f9cbc2eb3771",
   "metadata": {
    "papermill": {
     "duration": 0.061782,
     "end_time": "2021-09-30T04:28:40.279474",
     "exception": false,
     "start_time": "2021-09-30T04:28:40.217692",
     "status": "completed"
    },
    "tags": []
   },
   "outputs": [
    {
     "data": {
      "text/plain": [
       "['adipose_subcutaneous', 'artery_tibial', 'muscle_skeletal', 'skin_sun_exposed_lower_leg', 'whole_blood']\n",
       "Categories (5, object): ['adipose_subcutaneous', 'artery_tibial', 'muscle_skeletal', 'skin_sun_exposed_lower_leg', 'whole_blood']"
      ]
     },
     "execution_count": 24,
     "metadata": {},
     "output_type": "execute_result"
    }
   ],
   "source": [
    "df[\"tissue\"].unique()"
   ]
  },
  {
   "cell_type": "code",
   "execution_count": 25,
   "id": "5bfeb305-7bed-45ff-9b9a-e50acb6cb628",
   "metadata": {
    "papermill": {
     "duration": 0.061902,
     "end_time": "2021-09-30T04:28:40.384871",
     "exception": false,
     "start_time": "2021-09-30T04:28:40.322969",
     "status": "completed"
    },
    "tags": []
   },
   "outputs": [
    {
     "data": {
      "text/plain": [
       "['var_pc_log2']\n",
       "Categories (1, object): ['var_pc_log2']"
      ]
     },
     "execution_count": 25,
     "metadata": {},
     "output_type": "execute_result"
    }
   ],
   "source": [
    "df[\"gene_sel_strategy\"].unique()"
   ]
  },
  {
   "cell_type": "code",
   "execution_count": 26,
   "id": "44e32dfa-c125-4f7b-adfc-ee72ee72b79d",
   "metadata": {
    "papermill": {
     "duration": 0.062556,
     "end_time": "2021-09-30T04:28:40.491752",
     "exception": false,
     "start_time": "2021-09-30T04:28:40.429196",
     "status": "completed"
    },
    "tags": []
   },
   "outputs": [
    {
     "data": {
      "text/plain": [
       "['clustermatch', 'clustermatch_k2', 'pearson_abs', 'pearson_full', 'spearman_abs', 'spearman_full']\n",
       "Categories (6, object): ['clustermatch', 'clustermatch_k2', 'pearson_abs', 'pearson_full', 'spearman_abs', 'spearman_full']"
      ]
     },
     "execution_count": 26,
     "metadata": {},
     "output_type": "execute_result"
    }
   ],
   "source": [
    "df[\"corr_method\"].unique()"
   ]
  },
  {
   "cell_type": "code",
   "execution_count": 27,
   "id": "a71d840c-b779-4aa6-9bef-89f72d0ccec9",
   "metadata": {
    "papermill": {
     "duration": 0.063449,
     "end_time": "2021-09-30T04:28:40.599566",
     "exception": false,
     "start_time": "2021-09-30T04:28:40.536117",
     "status": "completed"
    },
    "tags": []
   },
   "outputs": [
    {
     "data": {
      "text/plain": [
       "['SpectralClustering']\n",
       "Categories (1, object): ['SpectralClustering']"
      ]
     },
     "execution_count": 27,
     "metadata": {},
     "output_type": "execute_result"
    }
   ],
   "source": [
    "df[\"clust_method\"].unique()"
   ]
  },
  {
   "cell_type": "code",
   "execution_count": 28,
   "id": "960126ba-22b6-469c-9883-3e9bf93c0585",
   "metadata": {
    "papermill": {
     "duration": 0.075416,
     "end_time": "2021-09-30T04:28:40.721252",
     "exception": false,
     "start_time": "2021-09-30T04:28:40.645836",
     "status": "completed"
    },
    "tags": []
   },
   "outputs": [
    {
     "data": {
      "text/plain": [
       "['BP_full', 'BP_simplified_070', 'CC_full', 'CC_simplified_070', 'MF_full', 'MF_simplified_070']\n",
       "Categories (6, object): ['BP_full', 'BP_simplified_070', 'CC_full', 'CC_simplified_070', 'MF_full', 'MF_simplified_070']"
      ]
     },
     "execution_count": 28,
     "metadata": {},
     "output_type": "execute_result"
    }
   ],
   "source": [
    "df[\"enrich_params\"].unique()"
   ]
  },
  {
   "cell_type": "code",
   "execution_count": 29,
   "id": "14fc32be-f703-4db3-9396-ae85ef365eb7",
   "metadata": {
    "papermill": {
     "duration": 0.089893,
     "end_time": "2021-09-30T04:28:40.983928",
     "exception": false,
     "start_time": "2021-09-30T04:28:40.894035",
     "status": "completed"
    },
    "tags": []
   },
   "outputs": [],
   "source": [
    "assert not df.isna().any().any()"
   ]
  },
  {
   "cell_type": "markdown",
   "id": "a0a93db6-b4bc-4d9e-a241-bcc2842f2656",
   "metadata": {
    "papermill": {
     "duration": 0.044938,
     "end_time": "2021-09-30T04:28:41.228770",
     "exception": false,
     "start_time": "2021-09-30T04:28:41.183832",
     "status": "completed"
    },
    "tags": []
   },
   "source": [
    "# Save"
   ]
  },
  {
   "cell_type": "code",
   "execution_count": 31,
   "id": "83d6fae7-eea9-491c-995e-7b9d96b05c11",
   "metadata": {
    "papermill": {
     "duration": 0.538791,
     "end_time": "2021-09-30T04:28:41.812390",
     "exception": false,
     "start_time": "2021-09-30T04:28:41.273599",
     "status": "completed"
    },
    "tags": []
   },
   "outputs": [],
   "source": [
    "import rpy2.robjects as ro\n",
    "from rpy2.robjects import pandas2ri\n",
    "from rpy2.robjects.conversion import localconverter\n",
    "\n",
    "saveRDS = ro.r[\"saveRDS\"]\n",
    "readRDS = ro.r[\"readRDS\"]"
   ]
  },
  {
   "cell_type": "code",
   "execution_count": 32,
   "id": "39125ea1-5691-40c0-8c0e-ceee96112085",
   "metadata": {
    "papermill": {
     "duration": 0.050239,
     "end_time": "2021-09-30T04:28:41.910947",
     "exception": false,
     "start_time": "2021-09-30T04:28:41.860708",
     "status": "completed"
    },
    "tags": []
   },
   "outputs": [],
   "source": [
    "data = df"
   ]
  },
  {
   "cell_type": "markdown",
   "id": "bb392932-2012-444f-8f25-37905c44e7c3",
   "metadata": {
    "papermill": {
     "duration": 0.044965,
     "end_time": "2021-09-30T04:28:42.000699",
     "exception": false,
     "start_time": "2021-09-30T04:28:41.955734",
     "status": "completed"
    },
    "tags": []
   },
   "source": [
    "## Pickle"
   ]
  },
  {
   "cell_type": "code",
   "execution_count": 33,
   "id": "c9c1ef2b-858b-4dfe-8ee7-31b20be691a8",
   "metadata": {
    "papermill": {
     "duration": 0.051495,
     "end_time": "2021-09-30T04:28:42.097175",
     "exception": false,
     "start_time": "2021-09-30T04:28:42.045680",
     "status": "completed"
    },
    "tags": []
   },
   "outputs": [
    {
     "data": {
      "text/plain": [
       "PosixPath('/home/miltondp/projects/labs/greenelab/clustermatch_repos/clustermatch-gene-expr/base/results/gtex_v8/gene_set_enrichment/gtex_v8_data-gene_set_enrichment.pkl')"
      ]
     },
     "metadata": {},
     "output_type": "display_data"
    }
   ],
   "source": [
    "display(OUTPUT_FILE)"
   ]
  },
  {
   "cell_type": "code",
   "execution_count": 34,
   "id": "bed62eb6-8023-46a5-a6b0-dd0329e2d51b",
   "metadata": {
    "papermill": {
     "duration": 0.168824,
     "end_time": "2021-09-30T04:28:42.311597",
     "exception": false,
     "start_time": "2021-09-30T04:28:42.142773",
     "status": "completed"
    },
    "tags": []
   },
   "outputs": [],
   "source": [
    "data.to_pickle(OUTPUT_FILE)"
   ]
  },
  {
   "cell_type": "markdown",
   "id": "83727a87-aebd-47a7-a477-74ad6185accc",
   "metadata": {
    "papermill": {
     "duration": 0.04534,
     "end_time": "2021-09-30T04:28:42.402867",
     "exception": false,
     "start_time": "2021-09-30T04:28:42.357527",
     "status": "completed"
    },
    "tags": []
   },
   "source": [
    "## RDS"
   ]
  },
  {
   "cell_type": "code",
   "execution_count": null,
   "id": "23cfacdb-e131-42b0-a37b-aec899913e32",
   "metadata": {
    "papermill": {
     "duration": 0.052484,
     "end_time": "2021-09-30T04:28:42.501443",
     "exception": false,
     "start_time": "2021-09-30T04:28:42.448959",
     "status": "completed"
    },
    "tags": []
   },
   "outputs": [],
   "source": [
    "output_rds_file = OUTPUT_FILE.with_suffix(\".rds\")\n",
    "display(output_rds_file)"
   ]
  },
  {
   "cell_type": "code",
   "execution_count": null,
   "id": "67e72cd4-cf60-420f-a011-0ec188abf178",
   "metadata": {
    "papermill": {
     "duration": 112.747684,
     "end_time": "2021-09-30T04:30:35.295722",
     "exception": false,
     "start_time": "2021-09-30T04:28:42.548038",
     "status": "completed"
    },
    "tags": []
   },
   "outputs": [],
   "source": [
    "with localconverter(ro.default_converter + pandas2ri.converter):\n",
    "    data_r = ro.conversion.py2rpy(data)"
   ]
  },
  {
   "cell_type": "code",
   "execution_count": null,
   "id": "a6f614b7-d94b-4d91-8774-d60656d19cff",
   "metadata": {
    "papermill": {
     "duration": 0.060807,
     "end_time": "2021-09-30T04:30:35.410864",
     "exception": false,
     "start_time": "2021-09-30T04:30:35.350057",
     "status": "completed"
    },
    "tags": []
   },
   "outputs": [],
   "source": [
    "data_r"
   ]
  },
  {
   "cell_type": "code",
   "execution_count": null,
   "id": "4fbabd33-fec9-46fd-a17f-a53c376078ff",
   "metadata": {
    "papermill": {
     "duration": 12.257437,
     "end_time": "2021-09-30T04:30:47.715018",
     "exception": false,
     "start_time": "2021-09-30T04:30:35.457581",
     "status": "completed"
    },
    "tags": []
   },
   "outputs": [],
   "source": [
    "saveRDS(data_r, str(output_rds_file))"
   ]
  },
  {
   "cell_type": "code",
   "execution_count": null,
   "id": "520b5ed1-01b4-4434-aebc-5a6daa29a00e",
   "metadata": {
    "papermill": {
     "duration": 1.927011,
     "end_time": "2021-09-30T04:30:49.689003",
     "exception": false,
     "start_time": "2021-09-30T04:30:47.761992",
     "status": "completed"
    },
    "tags": []
   },
   "outputs": [],
   "source": [
    "# testing\n",
    "data_r = readRDS(str(output_rds_file))"
   ]
  },
  {
   "cell_type": "code",
   "execution_count": null,
   "id": "64645a31-f003-49f2-8ceb-a1b12c9945d5",
   "metadata": {
    "papermill": {
     "duration": 78.404764,
     "end_time": "2021-09-30T04:32:08.140268",
     "exception": false,
     "start_time": "2021-09-30T04:30:49.735504",
     "status": "completed"
    },
    "tags": []
   },
   "outputs": [],
   "source": [
    "with localconverter(ro.default_converter + pandas2ri.converter):\n",
    "    data_again = ro.conversion.rpy2py(data_r)\n",
    "\n",
    "    # convert index to int, otherwise it's converted to string\n",
    "    data_again.index = data_again.index.astype(int)"
   ]
  },
  {
   "cell_type": "code",
   "execution_count": null,
   "id": "a0c26630-f83e-4928-938a-1061fb39abab",
   "metadata": {
    "papermill": {
     "duration": 0.053482,
     "end_time": "2021-09-30T04:32:08.240908",
     "exception": false,
     "start_time": "2021-09-30T04:32:08.187426",
     "status": "completed"
    },
    "tags": []
   },
   "outputs": [],
   "source": [
    "data_again.shape"
   ]
  },
  {
   "cell_type": "code",
   "execution_count": null,
   "id": "1640e806-1aa5-442f-beb2-b8d3c23ab084",
   "metadata": {
    "papermill": {
     "duration": 0.066801,
     "end_time": "2021-09-30T04:32:08.355520",
     "exception": false,
     "start_time": "2021-09-30T04:32:08.288719",
     "status": "completed"
    },
    "tags": []
   },
   "outputs": [],
   "source": [
    "data_again.head()"
   ]
  },
  {
   "cell_type": "code",
   "execution_count": null,
   "id": "9e968267-09e7-449f-9d14-8203cd6c7bfc",
   "metadata": {
    "papermill": {
     "duration": 176.205636,
     "end_time": "2021-09-30T04:35:04.608955",
     "exception": false,
     "start_time": "2021-09-30T04:32:08.403319",
     "status": "completed"
    },
    "tags": []
   },
   "outputs": [],
   "source": [
    "pd.testing.assert_frame_equal(\n",
    "    data,\n",
    "    data_again,\n",
    "    check_names=False,  # do not check \"name\" attribute of index and column\n",
    "    check_exact=True,  # since this is a binary format, it should match exactly\n",
    ")"
   ]
  },
  {
   "cell_type": "markdown",
   "id": "ee5cd5ae-a935-46fb-bfc7-5d66ff274fe2",
   "metadata": {
    "papermill": {
     "duration": 0.047664,
     "end_time": "2021-09-30T04:35:04.705555",
     "exception": false,
     "start_time": "2021-09-30T04:35:04.657891",
     "status": "completed"
    },
    "tags": []
   },
   "source": [
    "## tsv.gz"
   ]
  },
  {
   "cell_type": "code",
   "execution_count": null,
   "id": "cea96351-64fe-4bbf-a575-5587a22b79ec",
   "metadata": {
    "papermill": {
     "duration": 0.054259,
     "end_time": "2021-09-30T04:35:04.807288",
     "exception": false,
     "start_time": "2021-09-30T04:35:04.753029",
     "status": "completed"
    },
    "tags": []
   },
   "outputs": [],
   "source": [
    "output_text_file = OUTPUT_FILE.with_suffix(\".tsv.gz\")\n",
    "display(output_text_file)"
   ]
  },
  {
   "cell_type": "code",
   "execution_count": null,
   "id": "09330074-7cea-42d4-bc13-6af3131da12e",
   "metadata": {
    "papermill": {
     "duration": 61.434122,
     "end_time": "2021-09-30T04:36:06.289423",
     "exception": false,
     "start_time": "2021-09-30T04:35:04.855301",
     "status": "completed"
    },
    "tags": []
   },
   "outputs": [],
   "source": [
    "data.to_csv(output_text_file, sep=\"\\t\", index=False, float_format=\"%.5e\")"
   ]
  },
  {
   "cell_type": "code",
   "execution_count": null,
   "id": "2f960ae8-d392-4768-9d2f-f7ed267ec60e",
   "metadata": {
    "papermill": {
     "duration": 8.152672,
     "end_time": "2021-09-30T04:36:14.491384",
     "exception": false,
     "start_time": "2021-09-30T04:36:06.338712",
     "status": "completed"
    },
    "tags": []
   },
   "outputs": [],
   "source": [
    "# testing\n",
    "data_again = pd.read_csv(output_text_file, sep=\"\\t\")  # , index_col=0)"
   ]
  },
  {
   "cell_type": "code",
   "execution_count": null,
   "id": "04b581d2-6fc6-42b1-8f62-c166cb70986c",
   "metadata": {
    "papermill": {
     "duration": 0.055715,
     "end_time": "2021-09-30T04:36:14.596947",
     "exception": false,
     "start_time": "2021-09-30T04:36:14.541232",
     "status": "completed"
    },
    "tags": []
   },
   "outputs": [],
   "source": [
    "data_again.shape"
   ]
  },
  {
   "cell_type": "code",
   "execution_count": null,
   "id": "7dc97eb0-dac3-4a23-aaa0-fc2e351dcd15",
   "metadata": {
    "papermill": {
     "duration": 0.066627,
     "end_time": "2021-09-30T04:36:14.712735",
     "exception": false,
     "start_time": "2021-09-30T04:36:14.646108",
     "status": "completed"
    },
    "tags": []
   },
   "outputs": [],
   "source": [
    "data_again.head()"
   ]
  },
  {
   "cell_type": "code",
   "execution_count": null,
   "id": "8e85fff8-dde9-439d-808c-c053374c2785",
   "metadata": {
    "papermill": {
     "duration": 300.089682,
     "end_time": "2021-09-30T04:41:14.851541",
     "exception": false,
     "start_time": "2021-09-30T04:36:14.761859",
     "status": "completed"
    },
    "tags": []
   },
   "outputs": [],
   "source": [
    "pd.testing.assert_frame_equal(\n",
    "    data,\n",
    "    data_again,\n",
    "    check_names=False,  # do not check \"name\" attribute of index and column\n",
    "    check_dtype=False,  # do not check dtypes: do not distinguish between int64 and int32, for instance\n",
    "    check_categorical=False,\n",
    "    check_exact=False,\n",
    "    rtol=1e-5,\n",
    "    atol=5e-5,\n",
    ")"
   ]
  },
  {
   "cell_type": "code",
   "execution_count": null,
   "id": "72a954fe-b9c9-4f68-bca3-7a58e558cc3b",
   "metadata": {
    "papermill": {
     "duration": 0.049435,
     "end_time": "2021-09-30T04:41:14.950989",
     "exception": false,
     "start_time": "2021-09-30T04:41:14.901554",
     "status": "completed"
    },
    "tags": []
   },
   "outputs": [],
   "source": []
  }
 ],
 "metadata": {
  "jupytext": {
   "cell_metadata_filter": "all,-execution,-papermill,-trusted",
   "text_representation": {
    "extension": ".py",
    "format_name": "percent",
    "format_version": "1.3",
    "jupytext_version": "1.11.5"
   }
  },
  "kernelspec": {
   "display_name": "Python 3 (ipykernel)",
   "language": "python",
   "name": "python3"
  },
  "language_info": {
   "codemirror_mode": {
    "name": "ipython",
    "version": 3
   },
   "file_extension": ".py",
   "mimetype": "text/x-python",
   "name": "python",
   "nbconvert_exporter": "python",
   "pygments_lexer": "ipython3",
   "version": "3.9.7"
  },
  "papermill": {
   "default_parameters": {},
   "duration": 773.694602,
   "end_time": "2021-09-30T04:41:16.712071",
   "environment_variables": {},
   "exception": null,
   "input_path": "nbs/20_gene_set_enrichment/05_gtex_v8/90-combine_results.ipynb",
   "output_path": "nbs/20_gene_set_enrichment/05_gtex_v8/90-combine_results.run.ipynb",
   "parameters": {},
   "start_time": "2021-09-30T04:28:23.017469",
   "version": "2.3.3"
  },
  "toc-autonumbering": true
 },
 "nbformat": 4,
 "nbformat_minor": 5
}
