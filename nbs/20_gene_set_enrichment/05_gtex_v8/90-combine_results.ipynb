{
 "cells": [
  {
   "cell_type": "markdown",
   "id": "4b79d660-2ab1-42c2-a4d5-467d2534e5dc",
   "metadata": {
    "papermill": {
     "duration": 0.152654,
     "end_time": "2021-10-05T12:13:43.528972",
     "exception": false,
     "start_time": "2021-10-05T12:13:43.376318",
     "status": "completed"
    },
    "tags": []
   },
   "source": [
    "# Description"
   ]
  },
  {
   "cell_type": "markdown",
   "id": "9f0b6db4-6f06-4856-a4b8-e24548d0f1d9",
   "metadata": {
    "papermill": {
     "duration": 0.113867,
     "end_time": "2021-10-05T12:13:43.757028",
     "exception": false,
     "start_time": "2021-10-05T12:13:43.643161",
     "status": "completed"
    },
    "tags": []
   },
   "source": [
    "Combines all gene enrichment results found in input directory."
   ]
  },
  {
   "cell_type": "markdown",
   "id": "dfb4a759-748a-4a19-b773-992a23cb9327",
   "metadata": {
    "papermill": {
     "duration": 0.112291,
     "end_time": "2021-10-05T12:13:43.983152",
     "exception": false,
     "start_time": "2021-10-05T12:13:43.870861",
     "status": "completed"
    },
    "tags": []
   },
   "source": [
    "# Modules loading"
   ]
  },
  {
   "cell_type": "code",
   "execution_count": 1,
   "id": "98e28052-34cc-43fc-87f3-a1b61eeb14fc",
   "metadata": {
    "execution": {
     "iopub.execute_input": "2021-10-05T12:13:44.214347Z",
     "iopub.status.busy": "2021-10-05T12:13:44.213874Z",
     "iopub.status.idle": "2021-10-05T12:13:45.102144Z",
     "shell.execute_reply": "2021-10-05T12:13:45.101642Z"
    },
    "papermill": {
     "duration": 1.007201,
     "end_time": "2021-10-05T12:13:45.102252",
     "exception": false,
     "start_time": "2021-10-05T12:13:44.095051",
     "status": "completed"
    },
    "tags": []
   },
   "outputs": [],
   "source": [
    "import re\n",
    "\n",
    "import numpy as np\n",
    "import pandas as pd\n",
    "from statsmodels.stats.multitest import multipletests\n",
    "import matplotlib.pyplot as plt\n",
    "import seaborn as sns\n",
    "from tqdm import tqdm\n",
    "\n",
    "from clustermatch import conf"
   ]
  },
  {
   "cell_type": "markdown",
   "id": "76fa50d9-680c-4107-b705-009070735d89",
   "metadata": {
    "papermill": {
     "duration": 0.111899,
     "end_time": "2021-10-05T12:13:45.327640",
     "exception": false,
     "start_time": "2021-10-05T12:13:45.215741",
     "status": "completed"
    },
    "tags": []
   },
   "source": [
    "# Settings"
   ]
  },
  {
   "cell_type": "code",
   "execution_count": 2,
   "id": "90dbb8f8-1b7e-4283-9d0a-668045dbe1ae",
   "metadata": {
    "execution": {
     "iopub.execute_input": "2021-10-05T12:13:45.561115Z",
     "iopub.status.busy": "2021-10-05T12:13:45.560626Z",
     "iopub.status.idle": "2021-10-05T12:13:45.562102Z",
     "shell.execute_reply": "2021-10-05T12:13:45.562461Z"
    },
    "papermill": {
     "duration": 0.122957,
     "end_time": "2021-10-05T12:13:45.562576",
     "exception": false,
     "start_time": "2021-10-05T12:13:45.439619",
     "status": "completed"
    },
    "tags": []
   },
   "outputs": [],
   "source": [
    "DATASET_CONFIG = conf.GTEX"
   ]
  },
  {
   "cell_type": "code",
   "execution_count": 3,
   "id": "7e12ded2-5649-4e35-a946-07c8724ea421",
   "metadata": {
    "execution": {
     "iopub.execute_input": "2021-10-05T12:13:45.795384Z",
     "iopub.status.busy": "2021-10-05T12:13:45.794844Z",
     "iopub.status.idle": "2021-10-05T12:13:45.796389Z",
     "shell.execute_reply": "2021-10-05T12:13:45.796728Z"
    },
    "papermill": {
     "duration": 0.120433,
     "end_time": "2021-10-05T12:13:45.796847",
     "exception": false,
     "start_time": "2021-10-05T12:13:45.676414",
     "status": "completed"
    },
    "tags": []
   },
   "outputs": [],
   "source": [
    "# ENRICH_FUNCTION = \"enrichGO\""
   ]
  },
  {
   "cell_type": "code",
   "execution_count": 4,
   "id": "f10c4d5f-e737-4066-866a-e4f2404e5922",
   "metadata": {
    "execution": {
     "iopub.execute_input": "2021-10-05T12:13:46.034760Z",
     "iopub.status.busy": "2021-10-05T12:13:46.033811Z",
     "iopub.status.idle": "2021-10-05T12:13:46.036481Z",
     "shell.execute_reply": "2021-10-05T12:13:46.036863Z"
    },
    "papermill": {
     "duration": 0.124784,
     "end_time": "2021-10-05T12:13:46.037060",
     "exception": false,
     "start_time": "2021-10-05T12:13:45.912276",
     "status": "completed"
    },
    "tags": []
   },
   "outputs": [],
   "source": [
    "# CORRELATION_METHOD_NAME = \"clustermatch\""
   ]
  },
  {
   "cell_type": "code",
   "execution_count": 5,
   "id": "ff5b04ea-1161-499a-9aff-a3f5f0efd7ce",
   "metadata": {
    "execution": {
     "iopub.execute_input": "2021-10-05T12:13:46.269915Z",
     "iopub.status.busy": "2021-10-05T12:13:46.269474Z",
     "iopub.status.idle": "2021-10-05T12:13:46.271561Z",
     "shell.execute_reply": "2021-10-05T12:13:46.271134Z"
    },
    "papermill": {
     "duration": 0.118769,
     "end_time": "2021-10-05T12:13:46.271656",
     "exception": false,
     "start_time": "2021-10-05T12:13:46.152887",
     "status": "completed"
    },
    "tags": []
   },
   "outputs": [],
   "source": [
    "# GENE_SELECTION_STRATEGY = \"var_pc_log2\""
   ]
  },
  {
   "cell_type": "code",
   "execution_count": 6,
   "id": "c0e27c63-0b49-47f1-8147-6c47b90ea3d9",
   "metadata": {
    "execution": {
     "iopub.execute_input": "2021-10-05T12:13:46.503459Z",
     "iopub.status.busy": "2021-10-05T12:13:46.502891Z",
     "iopub.status.idle": "2021-10-05T12:13:46.505856Z",
     "shell.execute_reply": "2021-10-05T12:13:46.506275Z"
    },
    "papermill": {
     "duration": 0.120604,
     "end_time": "2021-10-05T12:13:46.506446",
     "exception": false,
     "start_time": "2021-10-05T12:13:46.385842",
     "status": "completed"
    },
    "tags": []
   },
   "outputs": [],
   "source": [
    "# # clusterProfiler settings\n",
    "# ENRICH_FUNCTION = \"enrichGO\"\n",
    "# SIMPLIFY_CUTOFF = 0.7\n",
    "# GO_ONTOLOGIES = (\"BP\", \"CC\", \"MF\")"
   ]
  },
  {
   "cell_type": "code",
   "execution_count": 7,
   "id": "d67b1af4-a310-45f5-a6e9-919df1fd2165",
   "metadata": {
    "execution": {
     "iopub.execute_input": "2021-10-05T12:13:46.738073Z",
     "iopub.status.busy": "2021-10-05T12:13:46.737602Z",
     "iopub.status.idle": "2021-10-05T12:13:46.739616Z",
     "shell.execute_reply": "2021-10-05T12:13:46.739181Z"
    },
    "papermill": {
     "duration": 0.116864,
     "end_time": "2021-10-05T12:13:46.739711",
     "exception": false,
     "start_time": "2021-10-05T12:13:46.622847",
     "status": "completed"
    },
    "tags": []
   },
   "outputs": [],
   "source": [
    "# SIMILARITY_MATRICES_DIR = conf.GTEX[\"SIMILARITY_MATRICES_DIR\"]\n",
    "# display(SIMILARITY_MATRICES_DIR)"
   ]
  },
  {
   "cell_type": "code",
   "execution_count": 8,
   "id": "22b5ec88-d626-4db3-ada1-81cf48f23579",
   "metadata": {
    "execution": {
     "iopub.execute_input": "2021-10-05T12:13:46.968045Z",
     "iopub.status.busy": "2021-10-05T12:13:46.967549Z",
     "iopub.status.idle": "2021-10-05T12:13:46.969586Z",
     "shell.execute_reply": "2021-10-05T12:13:46.969219Z"
    },
    "papermill": {
     "duration": 0.116159,
     "end_time": "2021-10-05T12:13:46.969681",
     "exception": false,
     "start_time": "2021-10-05T12:13:46.853522",
     "status": "completed"
    },
    "tags": []
   },
   "outputs": [],
   "source": [
    "# SIMILARITY_MATRIX_FILENAME_TEMPLATE = conf.GTEX[\"SIMILARITY_MATRIX_FILENAME_TEMPLATE\"]\n",
    "# display(SIMILARITY_MATRIX_FILENAME_TEMPLATE)"
   ]
  },
  {
   "cell_type": "markdown",
   "id": "eee530dc-b562-4b54-8bc3-a9c831ac052c",
   "metadata": {
    "papermill": {
     "duration": 0.111665,
     "end_time": "2021-10-05T12:13:47.193189",
     "exception": false,
     "start_time": "2021-10-05T12:13:47.081524",
     "status": "completed"
    },
    "tags": []
   },
   "source": [
    "# Paths"
   ]
  },
  {
   "cell_type": "code",
   "execution_count": 9,
   "id": "09f26fce-9c9b-4ec0-ae25-1b9130b17ab7",
   "metadata": {
    "execution": {
     "iopub.execute_input": "2021-10-05T12:13:47.458912Z",
     "iopub.status.busy": "2021-10-05T12:13:47.455968Z",
     "iopub.status.idle": "2021-10-05T12:13:47.462100Z",
     "shell.execute_reply": "2021-10-05T12:13:47.461709Z"
    },
    "papermill": {
     "duration": 0.131463,
     "end_time": "2021-10-05T12:13:47.462196",
     "exception": false,
     "start_time": "2021-10-05T12:13:47.330733",
     "status": "completed"
    },
    "tags": []
   },
   "outputs": [
    {
     "data": {
      "text/plain": [
       "PosixPath('/opt/data/results/gtex_v8/gene_set_enrichment')"
      ]
     },
     "metadata": {},
     "output_type": "display_data"
    }
   ],
   "source": [
    "INPUT_DIR = DATASET_CONFIG[\"GENE_ENRICHMENT_DIR\"]\n",
    "display(INPUT_DIR)\n",
    "assert INPUT_DIR.exists()"
   ]
  },
  {
   "cell_type": "code",
   "execution_count": 10,
   "id": "b89c7a90-c325-4557-9107-7ba95e8bf03a",
   "metadata": {
    "execution": {
     "iopub.execute_input": "2021-10-05T12:13:47.698832Z",
     "iopub.status.busy": "2021-10-05T12:13:47.698208Z",
     "iopub.status.idle": "2021-10-05T12:13:47.701143Z",
     "shell.execute_reply": "2021-10-05T12:13:47.700697Z"
    },
    "papermill": {
     "duration": 0.12033,
     "end_time": "2021-10-05T12:13:47.701240",
     "exception": false,
     "start_time": "2021-10-05T12:13:47.580910",
     "status": "completed"
    },
    "tags": []
   },
   "outputs": [
    {
     "data": {
      "text/plain": [
       "PosixPath('/opt/data/results/gtex_v8/gene_set_enrichment/gtex_v8_data-gene_set_enrichment.pkl')"
      ]
     },
     "metadata": {},
     "output_type": "display_data"
    }
   ],
   "source": [
    "OUTPUT_FILE = DATASET_CONFIG[\"GENE_ENRICHMENT_COMBINED_FILE\"]\n",
    "display(OUTPUT_FILE)\n",
    "\n",
    "OUTPUT_FILE.parent.mkdir(parents=True, exist_ok=True)"
   ]
  },
  {
   "cell_type": "markdown",
   "id": "ec13a933-c48b-412b-9147-6aca9548be9f",
   "metadata": {
    "papermill": {
     "duration": 0.116388,
     "end_time": "2021-10-05T12:13:47.935345",
     "exception": false,
     "start_time": "2021-10-05T12:13:47.818957",
     "status": "completed"
    },
    "tags": []
   },
   "source": [
    "# Get data files"
   ]
  },
  {
   "cell_type": "code",
   "execution_count": 11,
   "id": "da9668d5-9922-42ed-bc4a-aec394343871",
   "metadata": {
    "execution": {
     "iopub.execute_input": "2021-10-05T12:13:48.167629Z",
     "iopub.status.busy": "2021-10-05T12:13:48.167176Z",
     "iopub.status.idle": "2021-10-05T12:13:48.169243Z",
     "shell.execute_reply": "2021-10-05T12:13:48.168805Z"
    },
    "papermill": {
     "duration": 0.119694,
     "end_time": "2021-10-05T12:13:48.169337",
     "exception": false,
     "start_time": "2021-10-05T12:13:48.049643",
     "status": "completed"
    },
    "tags": []
   },
   "outputs": [],
   "source": [
    "filename_pattern = re.compile(DATASET_CONFIG[\"GENE_ENRICHMENT_FILENAME_PATTERN\"])"
   ]
  },
  {
   "cell_type": "code",
   "execution_count": 12,
   "id": "b356cfbc-a3f5-430e-a90b-05b57bb8289e",
   "metadata": {
    "execution": {
     "iopub.execute_input": "2021-10-05T12:13:48.406564Z",
     "iopub.status.busy": "2021-10-05T12:13:48.406121Z",
     "iopub.status.idle": "2021-10-05T12:13:48.411403Z",
     "shell.execute_reply": "2021-10-05T12:13:48.411764Z"
    },
    "papermill": {
     "duration": 0.124991,
     "end_time": "2021-10-05T12:13:48.411902",
     "exception": false,
     "start_time": "2021-10-05T12:13:48.286911",
     "status": "completed"
    },
    "tags": []
   },
   "outputs": [
    {
     "data": {
      "text/plain": [
       "130"
      ]
     },
     "metadata": {},
     "output_type": "display_data"
    },
    {
     "data": {
      "text/plain": [
       "[PosixPath('/opt/data/results/gtex_v8/gene_set_enrichment/gtex_v8_data_adipose_subcutaneous-var_pc_log2-clustermatch-SpectralClustering-enrichGO-BP_full.pkl'),\n",
       " PosixPath('/opt/data/results/gtex_v8/gene_set_enrichment/gtex_v8_data_adipose_subcutaneous-var_pc_log2-clustermatch-SpectralClustering-enrichGO-CC_full.pkl'),\n",
       " PosixPath('/opt/data/results/gtex_v8/gene_set_enrichment/gtex_v8_data_adipose_subcutaneous-var_pc_log2-clustermatch-SpectralClustering-enrichGO-MF_full.pkl'),\n",
       " PosixPath('/opt/data/results/gtex_v8/gene_set_enrichment/gtex_v8_data_adipose_subcutaneous-var_pc_log2-clustermatch-SpectralClustering-enrichKEGG-hsa.pkl'),\n",
       " PosixPath('/opt/data/results/gtex_v8/gene_set_enrichment/gtex_v8_data_adipose_subcutaneous-var_pc_log2-clustermatch-SpectralClustering-enrichPathway-human.pkl')]"
      ]
     },
     "metadata": {},
     "output_type": "display_data"
    }
   ],
   "source": [
    "# get input data files according to Settings\n",
    "input_files = sorted(\n",
    "    [\n",
    "        f\n",
    "        for f in INPUT_DIR.iterdir()\n",
    "        if (m := re.search(filename_pattern, str(f))) is not None\n",
    "    ]\n",
    ")\n",
    "display(len(input_files))\n",
    "display(input_files[:5])\n",
    "\n",
    "assert len(input_files) > 0"
   ]
  },
  {
   "cell_type": "markdown",
   "id": "c8339679-216e-4ea3-a1f5-e2819c0bbf62",
   "metadata": {
    "papermill": {
     "duration": 0.117698,
     "end_time": "2021-10-05T12:13:48.653202",
     "exception": false,
     "start_time": "2021-10-05T12:13:48.535504",
     "status": "completed"
    },
    "tags": []
   },
   "source": [
    "## Preview data"
   ]
  },
  {
   "cell_type": "code",
   "execution_count": 13,
   "id": "2428dee3-38a1-48db-a053-510d95e641ea",
   "metadata": {
    "execution": {
     "iopub.execute_input": "2021-10-05T12:13:48.893503Z",
     "iopub.status.busy": "2021-10-05T12:13:48.892996Z",
     "iopub.status.idle": "2021-10-05T12:13:48.895321Z",
     "shell.execute_reply": "2021-10-05T12:13:48.895688Z"
    },
    "papermill": {
     "duration": 0.124712,
     "end_time": "2021-10-05T12:13:48.895808",
     "exception": false,
     "start_time": "2021-10-05T12:13:48.771096",
     "status": "completed"
    },
    "tags": []
   },
   "outputs": [
    {
     "data": {
      "text/plain": [
       "PosixPath('/opt/data/results/gtex_v8/gene_set_enrichment/gtex_v8_data_adipose_subcutaneous-var_pc_log2-clustermatch-SpectralClustering-enrichGO-BP_full.pkl')"
      ]
     },
     "metadata": {},
     "output_type": "display_data"
    }
   ],
   "source": [
    "display(input_files[0])"
   ]
  },
  {
   "cell_type": "code",
   "execution_count": 14,
   "id": "c7c0bf99-4ac6-4a35-b18e-2677719d2239",
   "metadata": {
    "execution": {
     "iopub.execute_input": "2021-10-05T12:13:49.136049Z",
     "iopub.status.busy": "2021-10-05T12:13:49.135510Z",
     "iopub.status.idle": "2021-10-05T12:13:49.165320Z",
     "shell.execute_reply": "2021-10-05T12:13:49.164880Z"
    },
    "papermill": {
     "duration": 0.150278,
     "end_time": "2021-10-05T12:13:49.165428",
     "exception": false,
     "start_time": "2021-10-05T12:13:49.015150",
     "status": "completed"
    },
    "tags": []
   },
   "outputs": [],
   "source": [
    "_tmp_df = pd.read_pickle(input_files[0])"
   ]
  },
  {
   "cell_type": "code",
   "execution_count": 15,
   "id": "4a84e02e-ba04-43d4-a693-93d632cf6ba0",
   "metadata": {
    "execution": {
     "iopub.execute_input": "2021-10-05T12:13:49.407888Z",
     "iopub.status.busy": "2021-10-05T12:13:49.407201Z",
     "iopub.status.idle": "2021-10-05T12:13:49.410090Z",
     "shell.execute_reply": "2021-10-05T12:13:49.409707Z"
    },
    "papermill": {
     "duration": 0.125,
     "end_time": "2021-10-05T12:13:49.410185",
     "exception": false,
     "start_time": "2021-10-05T12:13:49.285185",
     "status": "completed"
    },
    "tags": []
   },
   "outputs": [
    {
     "data": {
      "text/plain": [
       "(50515, 17)"
      ]
     },
     "execution_count": 15,
     "metadata": {},
     "output_type": "execute_result"
    }
   ],
   "source": [
    "_tmp_df.shape"
   ]
  },
  {
   "cell_type": "code",
   "execution_count": 16,
   "id": "b3ef488f-4c8f-4ea3-abb0-d93c3afc6dc4",
   "metadata": {
    "execution": {
     "iopub.execute_input": "2021-10-05T12:13:49.660610Z",
     "iopub.status.busy": "2021-10-05T12:13:49.660148Z",
     "iopub.status.idle": "2021-10-05T12:13:49.678002Z",
     "shell.execute_reply": "2021-10-05T12:13:49.677586Z"
    },
    "papermill": {
     "duration": 0.143766,
     "end_time": "2021-10-05T12:13:49.678100",
     "exception": false,
     "start_time": "2021-10-05T12:13:49.534334",
     "status": "completed"
    },
    "tags": []
   },
   "outputs": [
    {
     "data": {
      "text/html": [
       "<div>\n",
       "<style scoped>\n",
       "    .dataframe tbody tr th:only-of-type {\n",
       "        vertical-align: middle;\n",
       "    }\n",
       "\n",
       "    .dataframe tbody tr th {\n",
       "        vertical-align: top;\n",
       "    }\n",
       "\n",
       "    .dataframe thead th {\n",
       "        text-align: right;\n",
       "    }\n",
       "</style>\n",
       "<table border=\"1\" class=\"dataframe\">\n",
       "  <thead>\n",
       "    <tr style=\"text-align: right;\">\n",
       "      <th></th>\n",
       "      <th>cluster_id</th>\n",
       "      <th>term_id</th>\n",
       "      <th>term_desc</th>\n",
       "      <th>gene_ratio</th>\n",
       "      <th>bg_ratio</th>\n",
       "      <th>pvalue</th>\n",
       "      <th>pvalue_adjust</th>\n",
       "      <th>qvalue</th>\n",
       "      <th>gene_id</th>\n",
       "      <th>gene_count</th>\n",
       "      <th>n_clusters</th>\n",
       "      <th>ontology</th>\n",
       "      <th>gene_total</th>\n",
       "      <th>bg_count</th>\n",
       "      <th>bg_total</th>\n",
       "      <th>rich_factor</th>\n",
       "      <th>fold_enrich</th>\n",
       "    </tr>\n",
       "  </thead>\n",
       "  <tbody>\n",
       "    <tr>\n",
       "      <th>17492</th>\n",
       "      <td>C21</td>\n",
       "      <td>GO:0035383</td>\n",
       "      <td>thioester metabolic process</td>\n",
       "      <td>0.045593</td>\n",
       "      <td>0.009637</td>\n",
       "      <td>9.214483e-08</td>\n",
       "      <td>6.388708e-06</td>\n",
       "      <td>5.708822e-06</td>\n",
       "      <td>FASN/ACSL1/ACACB/ACOT1/ACSM5/ELOVL5/SLC25A1/AA...</td>\n",
       "      <td>15</td>\n",
       "      <td>65</td>\n",
       "      <td>BP</td>\n",
       "      <td>329</td>\n",
       "      <td>34</td>\n",
       "      <td>3528</td>\n",
       "      <td>0.441176</td>\n",
       "      <td>4.730914</td>\n",
       "    </tr>\n",
       "    <tr>\n",
       "      <th>25252</th>\n",
       "      <td>C60</td>\n",
       "      <td>GO:0032103</td>\n",
       "      <td>positive regulation of response to external st...</td>\n",
       "      <td>0.122807</td>\n",
       "      <td>0.048186</td>\n",
       "      <td>9.718798e-04</td>\n",
       "      <td>1.609940e-02</td>\n",
       "      <td>1.372641e-02</td>\n",
       "      <td>CD209/CLEC10A/CSF1R/TYROBP/AIF1/CD28/P2RY12/BT...</td>\n",
       "      <td>14</td>\n",
       "      <td>80</td>\n",
       "      <td>BP</td>\n",
       "      <td>114</td>\n",
       "      <td>170</td>\n",
       "      <td>3528</td>\n",
       "      <td>0.082353</td>\n",
       "      <td>2.548607</td>\n",
       "    </tr>\n",
       "    <tr>\n",
       "      <th>38316</th>\n",
       "      <td>C1</td>\n",
       "      <td>GO:0071398</td>\n",
       "      <td>cellular response to fatty acid</td>\n",
       "      <td>0.150000</td>\n",
       "      <td>0.005385</td>\n",
       "      <td>1.425567e-04</td>\n",
       "      <td>9.785604e-03</td>\n",
       "      <td>8.874987e-03</td>\n",
       "      <td>AKR1C2/AKR1C1/AKR1C3</td>\n",
       "      <td>3</td>\n",
       "      <td>125</td>\n",
       "      <td>BP</td>\n",
       "      <td>20</td>\n",
       "      <td>19</td>\n",
       "      <td>3528</td>\n",
       "      <td>0.157895</td>\n",
       "      <td>27.852632</td>\n",
       "    </tr>\n",
       "    <tr>\n",
       "      <th>3849</th>\n",
       "      <td>C3</td>\n",
       "      <td>GO:0045321</td>\n",
       "      <td>leukocyte activation</td>\n",
       "      <td>0.483871</td>\n",
       "      <td>0.138889</td>\n",
       "      <td>5.381953e-16</td>\n",
       "      <td>1.085833e-15</td>\n",
       "      <td>5.068876e-16</td>\n",
       "      <td>IGHG2/IGKC/IGLC1/IGHG1/IGHG3/IGHM/IGHA1/IGLC3/...</td>\n",
       "      <td>45</td>\n",
       "      <td>20</td>\n",
       "      <td>BP</td>\n",
       "      <td>93</td>\n",
       "      <td>490</td>\n",
       "      <td>3528</td>\n",
       "      <td>0.091837</td>\n",
       "      <td>3.483871</td>\n",
       "    </tr>\n",
       "    <tr>\n",
       "      <th>26471</th>\n",
       "      <td>C36</td>\n",
       "      <td>GO:0060627</td>\n",
       "      <td>regulation of vesicle-mediated transport</td>\n",
       "      <td>0.428571</td>\n",
       "      <td>0.036565</td>\n",
       "      <td>1.500944e-03</td>\n",
       "      <td>1.795773e-02</td>\n",
       "      <td>9.874634e-03</td>\n",
       "      <td>FGB/APOC3/FGG</td>\n",
       "      <td>3</td>\n",
       "      <td>80</td>\n",
       "      <td>BP</td>\n",
       "      <td>7</td>\n",
       "      <td>129</td>\n",
       "      <td>3528</td>\n",
       "      <td>0.023256</td>\n",
       "      <td>11.720930</td>\n",
       "    </tr>\n",
       "  </tbody>\n",
       "</table>\n",
       "</div>"
      ],
      "text/plain": [
       "      cluster_id     term_id  \\\n",
       "17492        C21  GO:0035383   \n",
       "25252        C60  GO:0032103   \n",
       "38316         C1  GO:0071398   \n",
       "3849          C3  GO:0045321   \n",
       "26471        C36  GO:0060627   \n",
       "\n",
       "                                               term_desc  gene_ratio  \\\n",
       "17492                        thioester metabolic process    0.045593   \n",
       "25252  positive regulation of response to external st...    0.122807   \n",
       "38316                    cellular response to fatty acid    0.150000   \n",
       "3849                                leukocyte activation    0.483871   \n",
       "26471           regulation of vesicle-mediated transport    0.428571   \n",
       "\n",
       "       bg_ratio        pvalue  pvalue_adjust        qvalue  \\\n",
       "17492  0.009637  9.214483e-08   6.388708e-06  5.708822e-06   \n",
       "25252  0.048186  9.718798e-04   1.609940e-02  1.372641e-02   \n",
       "38316  0.005385  1.425567e-04   9.785604e-03  8.874987e-03   \n",
       "3849   0.138889  5.381953e-16   1.085833e-15  5.068876e-16   \n",
       "26471  0.036565  1.500944e-03   1.795773e-02  9.874634e-03   \n",
       "\n",
       "                                                 gene_id  gene_count  \\\n",
       "17492  FASN/ACSL1/ACACB/ACOT1/ACSM5/ELOVL5/SLC25A1/AA...          15   \n",
       "25252  CD209/CLEC10A/CSF1R/TYROBP/AIF1/CD28/P2RY12/BT...          14   \n",
       "38316                               AKR1C2/AKR1C1/AKR1C3           3   \n",
       "3849   IGHG2/IGKC/IGLC1/IGHG1/IGHG3/IGHM/IGHA1/IGLC3/...          45   \n",
       "26471                                      FGB/APOC3/FGG           3   \n",
       "\n",
       "       n_clusters ontology  gene_total  bg_count  bg_total  rich_factor  \\\n",
       "17492          65       BP         329        34      3528     0.441176   \n",
       "25252          80       BP         114       170      3528     0.082353   \n",
       "38316         125       BP          20        19      3528     0.157895   \n",
       "3849           20       BP          93       490      3528     0.091837   \n",
       "26471          80       BP           7       129      3528     0.023256   \n",
       "\n",
       "       fold_enrich  \n",
       "17492     4.730914  \n",
       "25252     2.548607  \n",
       "38316    27.852632  \n",
       "3849      3.483871  \n",
       "26471    11.720930  "
      ]
     },
     "execution_count": 16,
     "metadata": {},
     "output_type": "execute_result"
    }
   ],
   "source": [
    "_tmp_df.sample(n=5, random_state=0)"
   ]
  },
  {
   "cell_type": "markdown",
   "id": "f4e3a617-e89c-40b2-8dbd-3bbd5a2d378a",
   "metadata": {
    "papermill": {
     "duration": 0.12019,
     "end_time": "2021-10-05T12:13:49.919328",
     "exception": false,
     "start_time": "2021-10-05T12:13:49.799138",
     "status": "completed"
    },
    "tags": []
   },
   "source": [
    "# Run"
   ]
  },
  {
   "cell_type": "markdown",
   "id": "9bad87b5-0f3e-4138-8d3e-ac50d9431520",
   "metadata": {
    "papermill": {
     "duration": 0.119268,
     "end_time": "2021-10-05T12:13:50.158656",
     "exception": false,
     "start_time": "2021-10-05T12:13:50.039388",
     "status": "completed"
    },
    "tags": []
   },
   "source": [
    "## Read data, convert dtypes, add new metrics"
   ]
  },
  {
   "cell_type": "code",
   "execution_count": 17,
   "id": "4c1d8f26-1a6f-4b3e-8a24-9a03d4e90bd2",
   "metadata": {
    "execution": {
     "iopub.execute_input": "2021-10-05T12:13:50.404845Z",
     "iopub.status.busy": "2021-10-05T12:13:50.404308Z",
     "iopub.status.idle": "2021-10-05T12:13:52.388679Z",
     "shell.execute_reply": "2021-10-05T12:13:52.388158Z"
    },
    "papermill": {
     "duration": 2.109891,
     "end_time": "2021-10-05T12:13:52.388792",
     "exception": false,
     "start_time": "2021-10-05T12:13:50.278901",
     "status": "completed"
    },
    "tags": []
   },
   "outputs": [
    {
     "name": "stderr",
     "output_type": "stream",
     "text": [
      "100%|█████████████████████████████████████████████████████████████| 130/130 [00:01<00:00, 65.77it/s]\n"
     ]
    }
   ],
   "source": [
    "all_results = []\n",
    "\n",
    "for f_full in tqdm(input_files, ncols=100):\n",
    "    f_name = f_full.name\n",
    "\n",
    "    f_data = pd.read_pickle(f_full)\n",
    "    #     f_data = f_data.rename(\n",
    "    #         columns={\n",
    "    #             \"Count\": \"gene_count\",\n",
    "    #             \"GeneRatio\": \"gene_ratio\",\n",
    "    #             \"BgRatio\": \"bg_ratio\",\n",
    "    #             \"ID\": \"go_term_id\",\n",
    "    #             \"Description\": \"go_term_desc\",\n",
    "    #             \"Cluster\": \"cluster_id\",\n",
    "    #             \"clustering_n_clusters\": \"n_clusters\",\n",
    "    #             \"p.adjust\": \"fdr_per_file\",\n",
    "    #         }\n",
    "    #     )\n",
    "\n",
    "    #     # genes in cluster\n",
    "    #     f_data = f_data.assign(\n",
    "    #         gene_total=f_data[\"gene_ratio\"].apply(lambda x: int(x.split(\"/\")[1]))\n",
    "    #     )\n",
    "\n",
    "    #     # background genes\n",
    "    #     f_data = f_data.assign(\n",
    "    #         bg_count=f_data[\"bg_ratio\"].apply(lambda x: int(x.split(\"/\")[0]))\n",
    "    #     )\n",
    "    #     f_data = f_data.assign(\n",
    "    #         bg_total=f_data[\"bg_ratio\"].apply(lambda x: int(x.split(\"/\")[1]))\n",
    "    #     )\n",
    "\n",
    "    # add metadata\n",
    "    metadata = re.search(filename_pattern, f_name)\n",
    "\n",
    "    f_data = f_data[\n",
    "        [\n",
    "            \"n_clusters\",\n",
    "            \"cluster_id\",\n",
    "            \"term_id\",\n",
    "            \"term_desc\",\n",
    "            \"gene_count\",\n",
    "            \"gene_total\",\n",
    "            \"gene_ratio\",\n",
    "            \"bg_count\",\n",
    "            \"bg_total\",\n",
    "            \"bg_ratio\",\n",
    "            \"pvalue\",\n",
    "            \"pvalue_adjust\",\n",
    "            \"rich_factor\",\n",
    "            \"fold_enrich\",\n",
    "        ]\n",
    "    ]\n",
    "\n",
    "    f_data[\"tissue\"] = metadata.group(\"tissue\")\n",
    "    f_data[\"gene_sel_strategy\"] = metadata.group(\"gene_sel_strategy\")\n",
    "    f_data[\"corr_method\"] = metadata.group(\"corr_method\")\n",
    "    f_data[\"clust_method\"] = metadata.group(\"clust_method\")\n",
    "    f_data[\"enrich_func\"] = metadata.group(\"enrich_func\")\n",
    "    f_data[\"enrich_params\"] = metadata.group(\"enrich_params\")\n",
    "\n",
    "    all_results.append(f_data)"
   ]
  },
  {
   "cell_type": "code",
   "execution_count": 18,
   "id": "dba36444-b52f-4934-8950-786cd0c51a61",
   "metadata": {
    "execution": {
     "iopub.execute_input": "2021-10-05T12:13:52.693694Z",
     "iopub.status.busy": "2021-10-05T12:13:52.693110Z",
     "iopub.status.idle": "2021-10-05T12:13:54.793793Z",
     "shell.execute_reply": "2021-10-05T12:13:54.793296Z"
    },
    "papermill": {
     "duration": 2.266854,
     "end_time": "2021-10-05T12:13:54.793907",
     "exception": false,
     "start_time": "2021-10-05T12:13:52.527053",
     "status": "completed"
    },
    "tags": []
   },
   "outputs": [],
   "source": [
    "df = pd.concat(all_results, ignore_index=True)\n",
    "\n",
    "# to category dtype\n",
    "df[\"cluster_id\"] = df[\"cluster_id\"].astype(\"category\")\n",
    "df[\"term_id\"] = df[\"term_id\"].astype(\"category\")\n",
    "df[\"term_desc\"] = df[\"term_desc\"].astype(\"category\")\n",
    "df[\"tissue\"] = df[\"tissue\"].astype(\"category\")\n",
    "df[\"gene_sel_strategy\"] = df[\"gene_sel_strategy\"].astype(\"category\")\n",
    "df[\"corr_method\"] = df[\"corr_method\"].astype(\"category\")\n",
    "df[\"clust_method\"] = df[\"clust_method\"].astype(\"category\")\n",
    "df[\"enrich_func\"] = df[\"enrich_func\"].astype(\"category\")\n",
    "df[\"enrich_params\"] = df[\"enrich_params\"].astype(\"category\")\n",
    "\n",
    "# convert to int32\n",
    "df[\"n_clusters\"] = df[\"n_clusters\"].astype(\"int32\")\n",
    "df[\"gene_count\"] = df[\"gene_count\"].astype(\"int32\")\n",
    "df[\"gene_total\"] = df[\"gene_total\"].astype(\"int32\")\n",
    "df[\"bg_count\"] = df[\"bg_count\"].astype(\"int32\")\n",
    "df[\"bg_total\"] = df[\"bg_total\"].astype(\"int32\")\n",
    "\n",
    "# # convert ratios to numbers\n",
    "# df[\"gene_ratio\"] = df[\"gene_count\"].div(df[\"gene_total\"])\n",
    "# df[\"bg_ratio\"] = df[\"bg_count\"].div(df[\"bg_total\"])\n",
    "\n",
    "# # add other metrics\n",
    "# df[\"rich_factor\"] = df[\"gene_count\"].div(df[\"bg_count\"])\n",
    "# df[\"fold_enrich\"] = df[\"gene_ratio\"].div(df[\"bg_ratio\"])"
   ]
  },
  {
   "cell_type": "code",
   "execution_count": 19,
   "id": "b3054d6e-52d4-4edb-ab9c-a8d5cb1783c6",
   "metadata": {
    "execution": {
     "iopub.execute_input": "2021-10-05T12:13:55.068499Z",
     "iopub.status.busy": "2021-10-05T12:13:55.068008Z",
     "iopub.status.idle": "2021-10-05T12:13:55.070012Z",
     "shell.execute_reply": "2021-10-05T12:13:55.069569Z"
    },
    "papermill": {
     "duration": 0.139492,
     "end_time": "2021-10-05T12:13:55.070108",
     "exception": false,
     "start_time": "2021-10-05T12:13:54.930616",
     "status": "completed"
    },
    "tags": []
   },
   "outputs": [],
   "source": [
    "# # adjust for multiple testing across all results\n",
    "# adj_pval = multipletests(df[\"pvalue\"], alpha=0.05, method=\"fdr_bh\")\n",
    "# df = df.assign(fdr=adj_pval[1])"
   ]
  },
  {
   "cell_type": "code",
   "execution_count": 20,
   "id": "840e3a37-4f34-4689-98d3-79f2ee1a9f5b",
   "metadata": {
    "execution": {
     "iopub.execute_input": "2021-10-05T12:13:55.341764Z",
     "iopub.status.busy": "2021-10-05T12:13:55.341241Z",
     "iopub.status.idle": "2021-10-05T12:13:55.344186Z",
     "shell.execute_reply": "2021-10-05T12:13:55.343712Z"
    },
    "papermill": {
     "duration": 0.13977,
     "end_time": "2021-10-05T12:13:55.344286",
     "exception": false,
     "start_time": "2021-10-05T12:13:55.204516",
     "status": "completed"
    },
    "tags": []
   },
   "outputs": [
    {
     "data": {
      "text/plain": [
       "(2187619, 20)"
      ]
     },
     "execution_count": 20,
     "metadata": {},
     "output_type": "execute_result"
    }
   ],
   "source": [
    "df.shape"
   ]
  },
  {
   "cell_type": "code",
   "execution_count": 21,
   "id": "78850cf5-3114-488f-b78d-c92b67e73203",
   "metadata": {
    "execution": {
     "iopub.execute_input": "2021-10-05T12:13:55.635842Z",
     "iopub.status.busy": "2021-10-05T12:13:55.635288Z",
     "iopub.status.idle": "2021-10-05T12:13:55.637956Z",
     "shell.execute_reply": "2021-10-05T12:13:55.638316Z"
    },
    "papermill": {
     "duration": 0.159655,
     "end_time": "2021-10-05T12:13:55.638434",
     "exception": false,
     "start_time": "2021-10-05T12:13:55.478779",
     "status": "completed"
    },
    "tags": []
   },
   "outputs": [
    {
     "data": {
      "text/html": [
       "<div>\n",
       "<style scoped>\n",
       "    .dataframe tbody tr th:only-of-type {\n",
       "        vertical-align: middle;\n",
       "    }\n",
       "\n",
       "    .dataframe tbody tr th {\n",
       "        vertical-align: top;\n",
       "    }\n",
       "\n",
       "    .dataframe thead th {\n",
       "        text-align: right;\n",
       "    }\n",
       "</style>\n",
       "<table border=\"1\" class=\"dataframe\">\n",
       "  <thead>\n",
       "    <tr style=\"text-align: right;\">\n",
       "      <th></th>\n",
       "      <th>n_clusters</th>\n",
       "      <th>cluster_id</th>\n",
       "      <th>term_id</th>\n",
       "      <th>term_desc</th>\n",
       "      <th>gene_count</th>\n",
       "      <th>gene_total</th>\n",
       "      <th>gene_ratio</th>\n",
       "      <th>bg_count</th>\n",
       "      <th>bg_total</th>\n",
       "      <th>bg_ratio</th>\n",
       "      <th>pvalue</th>\n",
       "      <th>pvalue_adjust</th>\n",
       "      <th>rich_factor</th>\n",
       "      <th>fold_enrich</th>\n",
       "      <th>tissue</th>\n",
       "      <th>gene_sel_strategy</th>\n",
       "      <th>corr_method</th>\n",
       "      <th>clust_method</th>\n",
       "      <th>enrich_func</th>\n",
       "      <th>enrich_params</th>\n",
       "    </tr>\n",
       "  </thead>\n",
       "  <tbody>\n",
       "    <tr>\n",
       "      <th>0</th>\n",
       "      <td>2</td>\n",
       "      <td>C0</td>\n",
       "      <td>GO:0002443</td>\n",
       "      <td>leukocyte mediated immunity</td>\n",
       "      <td>182</td>\n",
       "      <td>523</td>\n",
       "      <td>0.347992</td>\n",
       "      <td>357</td>\n",
       "      <td>3528</td>\n",
       "      <td>0.101190</td>\n",
       "      <td>1.930523e-67</td>\n",
       "      <td>5.513573e-64</td>\n",
       "      <td>0.509804</td>\n",
       "      <td>3.438983</td>\n",
       "      <td>adipose_subcutaneous</td>\n",
       "      <td>var_pc_log2</td>\n",
       "      <td>clustermatch</td>\n",
       "      <td>SpectralClustering</td>\n",
       "      <td>enrichGO</td>\n",
       "      <td>BP_full</td>\n",
       "    </tr>\n",
       "    <tr>\n",
       "      <th>1</th>\n",
       "      <td>2</td>\n",
       "      <td>C0</td>\n",
       "      <td>GO:0002250</td>\n",
       "      <td>adaptive immune response</td>\n",
       "      <td>153</td>\n",
       "      <td>523</td>\n",
       "      <td>0.292543</td>\n",
       "      <td>260</td>\n",
       "      <td>3528</td>\n",
       "      <td>0.073696</td>\n",
       "      <td>3.935201e-67</td>\n",
       "      <td>5.619467e-64</td>\n",
       "      <td>0.588462</td>\n",
       "      <td>3.969584</td>\n",
       "      <td>adipose_subcutaneous</td>\n",
       "      <td>var_pc_log2</td>\n",
       "      <td>clustermatch</td>\n",
       "      <td>SpectralClustering</td>\n",
       "      <td>enrichGO</td>\n",
       "      <td>BP_full</td>\n",
       "    </tr>\n",
       "    <tr>\n",
       "      <th>2</th>\n",
       "      <td>2</td>\n",
       "      <td>C0</td>\n",
       "      <td>GO:0002252</td>\n",
       "      <td>immune effector process</td>\n",
       "      <td>210</td>\n",
       "      <td>523</td>\n",
       "      <td>0.401530</td>\n",
       "      <td>478</td>\n",
       "      <td>3528</td>\n",
       "      <td>0.135488</td>\n",
       "      <td>1.994762e-64</td>\n",
       "      <td>1.899014e-61</td>\n",
       "      <td>0.439331</td>\n",
       "      <td>2.963591</td>\n",
       "      <td>adipose_subcutaneous</td>\n",
       "      <td>var_pc_log2</td>\n",
       "      <td>clustermatch</td>\n",
       "      <td>SpectralClustering</td>\n",
       "      <td>enrichGO</td>\n",
       "      <td>BP_full</td>\n",
       "    </tr>\n",
       "    <tr>\n",
       "      <th>3</th>\n",
       "      <td>2</td>\n",
       "      <td>C0</td>\n",
       "      <td>GO:0050776</td>\n",
       "      <td>regulation of immune response</td>\n",
       "      <td>178</td>\n",
       "      <td>523</td>\n",
       "      <td>0.340344</td>\n",
       "      <td>372</td>\n",
       "      <td>3528</td>\n",
       "      <td>0.105442</td>\n",
       "      <td>3.908673e-60</td>\n",
       "      <td>2.790792e-57</td>\n",
       "      <td>0.478495</td>\n",
       "      <td>3.227780</td>\n",
       "      <td>adipose_subcutaneous</td>\n",
       "      <td>var_pc_log2</td>\n",
       "      <td>clustermatch</td>\n",
       "      <td>SpectralClustering</td>\n",
       "      <td>enrichGO</td>\n",
       "      <td>BP_full</td>\n",
       "    </tr>\n",
       "    <tr>\n",
       "      <th>4</th>\n",
       "      <td>2</td>\n",
       "      <td>C0</td>\n",
       "      <td>GO:0006909</td>\n",
       "      <td>phagocytosis</td>\n",
       "      <td>112</td>\n",
       "      <td>523</td>\n",
       "      <td>0.214149</td>\n",
       "      <td>171</td>\n",
       "      <td>3528</td>\n",
       "      <td>0.048469</td>\n",
       "      <td>5.285733e-55</td>\n",
       "      <td>3.019211e-52</td>\n",
       "      <td>0.654971</td>\n",
       "      <td>4.418235</td>\n",
       "      <td>adipose_subcutaneous</td>\n",
       "      <td>var_pc_log2</td>\n",
       "      <td>clustermatch</td>\n",
       "      <td>SpectralClustering</td>\n",
       "      <td>enrichGO</td>\n",
       "      <td>BP_full</td>\n",
       "    </tr>\n",
       "  </tbody>\n",
       "</table>\n",
       "</div>"
      ],
      "text/plain": [
       "   n_clusters cluster_id     term_id                      term_desc  \\\n",
       "0           2         C0  GO:0002443    leukocyte mediated immunity   \n",
       "1           2         C0  GO:0002250       adaptive immune response   \n",
       "2           2         C0  GO:0002252        immune effector process   \n",
       "3           2         C0  GO:0050776  regulation of immune response   \n",
       "4           2         C0  GO:0006909                   phagocytosis   \n",
       "\n",
       "   gene_count  gene_total  gene_ratio  bg_count  bg_total  bg_ratio  \\\n",
       "0         182         523    0.347992       357      3528  0.101190   \n",
       "1         153         523    0.292543       260      3528  0.073696   \n",
       "2         210         523    0.401530       478      3528  0.135488   \n",
       "3         178         523    0.340344       372      3528  0.105442   \n",
       "4         112         523    0.214149       171      3528  0.048469   \n",
       "\n",
       "         pvalue  pvalue_adjust  rich_factor  fold_enrich  \\\n",
       "0  1.930523e-67   5.513573e-64     0.509804     3.438983   \n",
       "1  3.935201e-67   5.619467e-64     0.588462     3.969584   \n",
       "2  1.994762e-64   1.899014e-61     0.439331     2.963591   \n",
       "3  3.908673e-60   2.790792e-57     0.478495     3.227780   \n",
       "4  5.285733e-55   3.019211e-52     0.654971     4.418235   \n",
       "\n",
       "                 tissue gene_sel_strategy   corr_method        clust_method  \\\n",
       "0  adipose_subcutaneous       var_pc_log2  clustermatch  SpectralClustering   \n",
       "1  adipose_subcutaneous       var_pc_log2  clustermatch  SpectralClustering   \n",
       "2  adipose_subcutaneous       var_pc_log2  clustermatch  SpectralClustering   \n",
       "3  adipose_subcutaneous       var_pc_log2  clustermatch  SpectralClustering   \n",
       "4  adipose_subcutaneous       var_pc_log2  clustermatch  SpectralClustering   \n",
       "\n",
       "  enrich_func enrich_params  \n",
       "0    enrichGO       BP_full  \n",
       "1    enrichGO       BP_full  \n",
       "2    enrichGO       BP_full  \n",
       "3    enrichGO       BP_full  \n",
       "4    enrichGO       BP_full  "
      ]
     },
     "execution_count": 21,
     "metadata": {},
     "output_type": "execute_result"
    }
   ],
   "source": [
    "df.head()"
   ]
  },
  {
   "cell_type": "code",
   "execution_count": 22,
   "id": "e066d3c0-1e6b-42de-8c12-90d0f403c423",
   "metadata": {
    "execution": {
     "iopub.execute_input": "2021-10-05T12:13:55.915938Z",
     "iopub.status.busy": "2021-10-05T12:13:55.915410Z",
     "iopub.status.idle": "2021-10-05T12:13:55.918337Z",
     "shell.execute_reply": "2021-10-05T12:13:55.918697Z"
    },
    "papermill": {
     "duration": 0.143244,
     "end_time": "2021-10-05T12:13:55.918815",
     "exception": false,
     "start_time": "2021-10-05T12:13:55.775571",
     "status": "completed"
    },
    "tags": []
   },
   "outputs": [
    {
     "data": {
      "text/plain": [
       "n_clusters              int32\n",
       "cluster_id           category\n",
       "term_id              category\n",
       "term_desc            category\n",
       "gene_count              int32\n",
       "gene_total              int32\n",
       "gene_ratio            float64\n",
       "bg_count                int32\n",
       "bg_total                int32\n",
       "bg_ratio              float64\n",
       "pvalue                float64\n",
       "pvalue_adjust         float64\n",
       "rich_factor           float64\n",
       "fold_enrich           float64\n",
       "tissue               category\n",
       "gene_sel_strategy    category\n",
       "corr_method          category\n",
       "clust_method         category\n",
       "enrich_func          category\n",
       "enrich_params        category\n",
       "dtype: object"
      ]
     },
     "metadata": {},
     "output_type": "display_data"
    }
   ],
   "source": [
    "display(df.dtypes)\n",
    "assert df.dtypes.loc[\"cluster_id\"] == \"category\""
   ]
  },
  {
   "cell_type": "code",
   "execution_count": 23,
   "id": "a0aec274-c723-4af5-b381-863aada8ce98",
   "metadata": {
    "execution": {
     "iopub.execute_input": "2021-10-05T12:13:56.194952Z",
     "iopub.status.busy": "2021-10-05T12:13:56.194482Z",
     "iopub.status.idle": "2021-10-05T12:13:56.336874Z",
     "shell.execute_reply": "2021-10-05T12:13:56.337251Z"
    },
    "papermill": {
     "duration": 0.282425,
     "end_time": "2021-10-05T12:13:56.337375",
     "exception": false,
     "start_time": "2021-10-05T12:13:56.054950",
     "status": "completed"
    },
    "tags": []
   },
   "outputs": [
    {
     "data": {
      "text/html": [
       "<div>\n",
       "<style scoped>\n",
       "    .dataframe tbody tr th:only-of-type {\n",
       "        vertical-align: middle;\n",
       "    }\n",
       "\n",
       "    .dataframe tbody tr th {\n",
       "        vertical-align: top;\n",
       "    }\n",
       "\n",
       "    .dataframe thead th {\n",
       "        text-align: right;\n",
       "    }\n",
       "</style>\n",
       "<table border=\"1\" class=\"dataframe\">\n",
       "  <thead>\n",
       "    <tr style=\"text-align: right;\">\n",
       "      <th></th>\n",
       "      <th>n_clusters</th>\n",
       "      <th>cluster_id</th>\n",
       "      <th>term_id</th>\n",
       "      <th>term_desc</th>\n",
       "      <th>gene_count</th>\n",
       "      <th>gene_total</th>\n",
       "      <th>gene_ratio</th>\n",
       "      <th>bg_count</th>\n",
       "      <th>bg_total</th>\n",
       "      <th>bg_ratio</th>\n",
       "      <th>pvalue</th>\n",
       "      <th>pvalue_adjust</th>\n",
       "      <th>rich_factor</th>\n",
       "      <th>fold_enrich</th>\n",
       "      <th>tissue</th>\n",
       "      <th>gene_sel_strategy</th>\n",
       "      <th>corr_method</th>\n",
       "      <th>clust_method</th>\n",
       "      <th>enrich_func</th>\n",
       "      <th>enrich_params</th>\n",
       "    </tr>\n",
       "  </thead>\n",
       "  <tbody>\n",
       "    <tr>\n",
       "      <th>1123961</th>\n",
       "      <td>80</td>\n",
       "      <td>C61</td>\n",
       "      <td>R-HSA-5688426</td>\n",
       "      <td>Deubiquitination</td>\n",
       "      <td>16</td>\n",
       "      <td>142</td>\n",
       "      <td>0.112676</td>\n",
       "      <td>70</td>\n",
       "      <td>2433</td>\n",
       "      <td>0.028771</td>\n",
       "      <td>0.000001</td>\n",
       "      <td>0.000008</td>\n",
       "      <td>0.228571</td>\n",
       "      <td>3.916298</td>\n",
       "      <td>muscle_skeletal</td>\n",
       "      <td>var_pc_log2</td>\n",
       "      <td>spearman_abs</td>\n",
       "      <td>SpectralClustering</td>\n",
       "      <td>enrichPathway</td>\n",
       "      <td>human</td>\n",
       "    </tr>\n",
       "    <tr>\n",
       "      <th>872084</th>\n",
       "      <td>59</td>\n",
       "      <td>C22</td>\n",
       "      <td>R-HSA-1234176</td>\n",
       "      <td>Oxygen-dependent proline hydroxylation of Hypo...</td>\n",
       "      <td>16</td>\n",
       "      <td>595</td>\n",
       "      <td>0.026891</td>\n",
       "      <td>24</td>\n",
       "      <td>2433</td>\n",
       "      <td>0.009864</td>\n",
       "      <td>0.000013</td>\n",
       "      <td>0.000161</td>\n",
       "      <td>0.666667</td>\n",
       "      <td>2.726050</td>\n",
       "      <td>muscle_skeletal</td>\n",
       "      <td>var_pc_log2</td>\n",
       "      <td>clustermatch</td>\n",
       "      <td>SpectralClustering</td>\n",
       "      <td>enrichPathway</td>\n",
       "      <td>human</td>\n",
       "    </tr>\n",
       "    <tr>\n",
       "      <th>1528835</th>\n",
       "      <td>150</td>\n",
       "      <td>C93</td>\n",
       "      <td>GO:0016817</td>\n",
       "      <td>hydrolase activity, acting on acid anhydrides</td>\n",
       "      <td>8</td>\n",
       "      <td>46</td>\n",
       "      <td>0.173913</td>\n",
       "      <td>143</td>\n",
       "      <td>3341</td>\n",
       "      <td>0.042802</td>\n",
       "      <td>0.000607</td>\n",
       "      <td>0.001855</td>\n",
       "      <td>0.055944</td>\n",
       "      <td>4.063241</td>\n",
       "      <td>skin_sun_exposed_lower_leg</td>\n",
       "      <td>var_pc_log2</td>\n",
       "      <td>pearson_full</td>\n",
       "      <td>SpectralClustering</td>\n",
       "      <td>enrichGO</td>\n",
       "      <td>MF_full</td>\n",
       "    </tr>\n",
       "    <tr>\n",
       "      <th>633906</th>\n",
       "      <td>15</td>\n",
       "      <td>C11</td>\n",
       "      <td>GO:0034122</td>\n",
       "      <td>negative regulation of toll-like receptor sign...</td>\n",
       "      <td>6</td>\n",
       "      <td>414</td>\n",
       "      <td>0.014493</td>\n",
       "      <td>11</td>\n",
       "      <td>3278</td>\n",
       "      <td>0.003356</td>\n",
       "      <td>0.001035</td>\n",
       "      <td>0.007627</td>\n",
       "      <td>0.545455</td>\n",
       "      <td>4.318841</td>\n",
       "      <td>artery_tibial</td>\n",
       "      <td>var_pc_log2</td>\n",
       "      <td>pearson_full</td>\n",
       "      <td>SpectralClustering</td>\n",
       "      <td>enrichGO</td>\n",
       "      <td>BP_full</td>\n",
       "    </tr>\n",
       "    <tr>\n",
       "      <th>1774114</th>\n",
       "      <td>143</td>\n",
       "      <td>C54</td>\n",
       "      <td>R-HSA-2894858</td>\n",
       "      <td>Signaling by NOTCH1 HD+PEST Domain Mutants in ...</td>\n",
       "      <td>5</td>\n",
       "      <td>106</td>\n",
       "      <td>0.047170</td>\n",
       "      <td>20</td>\n",
       "      <td>2694</td>\n",
       "      <td>0.007424</td>\n",
       "      <td>0.000829</td>\n",
       "      <td>0.024885</td>\n",
       "      <td>0.250000</td>\n",
       "      <td>6.353774</td>\n",
       "      <td>whole_blood</td>\n",
       "      <td>var_pc_log2</td>\n",
       "      <td>clustermatch</td>\n",
       "      <td>SpectralClustering</td>\n",
       "      <td>enrichPathway</td>\n",
       "      <td>human</td>\n",
       "    </tr>\n",
       "  </tbody>\n",
       "</table>\n",
       "</div>"
      ],
      "text/plain": [
       "         n_clusters cluster_id        term_id  \\\n",
       "1123961          80        C61  R-HSA-5688426   \n",
       "872084           59        C22  R-HSA-1234176   \n",
       "1528835         150        C93     GO:0016817   \n",
       "633906           15        C11     GO:0034122   \n",
       "1774114         143        C54  R-HSA-2894858   \n",
       "\n",
       "                                                 term_desc  gene_count  \\\n",
       "1123961                                   Deubiquitination          16   \n",
       "872084   Oxygen-dependent proline hydroxylation of Hypo...          16   \n",
       "1528835      hydrolase activity, acting on acid anhydrides           8   \n",
       "633906   negative regulation of toll-like receptor sign...           6   \n",
       "1774114  Signaling by NOTCH1 HD+PEST Domain Mutants in ...           5   \n",
       "\n",
       "         gene_total  gene_ratio  bg_count  bg_total  bg_ratio    pvalue  \\\n",
       "1123961         142    0.112676        70      2433  0.028771  0.000001   \n",
       "872084          595    0.026891        24      2433  0.009864  0.000013   \n",
       "1528835          46    0.173913       143      3341  0.042802  0.000607   \n",
       "633906          414    0.014493        11      3278  0.003356  0.001035   \n",
       "1774114         106    0.047170        20      2694  0.007424  0.000829   \n",
       "\n",
       "         pvalue_adjust  rich_factor  fold_enrich                      tissue  \\\n",
       "1123961       0.000008     0.228571     3.916298             muscle_skeletal   \n",
       "872084        0.000161     0.666667     2.726050             muscle_skeletal   \n",
       "1528835       0.001855     0.055944     4.063241  skin_sun_exposed_lower_leg   \n",
       "633906        0.007627     0.545455     4.318841               artery_tibial   \n",
       "1774114       0.024885     0.250000     6.353774                 whole_blood   \n",
       "\n",
       "        gene_sel_strategy   corr_method        clust_method    enrich_func  \\\n",
       "1123961       var_pc_log2  spearman_abs  SpectralClustering  enrichPathway   \n",
       "872084        var_pc_log2  clustermatch  SpectralClustering  enrichPathway   \n",
       "1528835       var_pc_log2  pearson_full  SpectralClustering       enrichGO   \n",
       "633906        var_pc_log2  pearson_full  SpectralClustering       enrichGO   \n",
       "1774114       var_pc_log2  clustermatch  SpectralClustering  enrichPathway   \n",
       "\n",
       "        enrich_params  \n",
       "1123961         human  \n",
       "872084          human  \n",
       "1528835       MF_full  \n",
       "633906        BP_full  \n",
       "1774114         human  "
      ]
     },
     "execution_count": 23,
     "metadata": {},
     "output_type": "execute_result"
    }
   ],
   "source": [
    "df.sample(n=5, random_state=0)"
   ]
  },
  {
   "cell_type": "markdown",
   "id": "cae1ec0b-98c2-44a9-906a-74d716dad777",
   "metadata": {
    "papermill": {
     "duration": 0.143096,
     "end_time": "2021-10-05T12:13:56.623184",
     "exception": false,
     "start_time": "2021-10-05T12:13:56.480088",
     "status": "completed"
    },
    "tags": []
   },
   "source": [
    "## Some stats"
   ]
  },
  {
   "cell_type": "code",
   "execution_count": 24,
   "id": "be827957-e573-485b-aca5-2224157b0979",
   "metadata": {
    "execution": {
     "iopub.execute_input": "2021-10-05T12:13:56.906886Z",
     "iopub.status.busy": "2021-10-05T12:13:56.906415Z",
     "iopub.status.idle": "2021-10-05T12:13:56.970096Z",
     "shell.execute_reply": "2021-10-05T12:13:56.969578Z"
    },
    "papermill": {
     "duration": 0.205782,
     "end_time": "2021-10-05T12:13:56.970206",
     "exception": false,
     "start_time": "2021-10-05T12:13:56.764424",
     "status": "completed"
    },
    "tags": []
   },
   "outputs": [
    {
     "data": {
      "text/plain": [
       "count     2.187619e+06\n",
       "mean      1.324874e-02\n",
       "std       1.552997e-02\n",
       "min      6.807472e-203\n",
       "25%       1.029856e-04\n",
       "50%       5.434603e-03\n",
       "75%       2.470489e-02\n",
       "max       4.999997e-02\n",
       "Name: pvalue_adjust, dtype: float64"
      ]
     },
     "metadata": {},
     "output_type": "display_data"
    }
   ],
   "source": [
    "display(df[\"pvalue_adjust\"].describe())\n",
    "assert df[\"pvalue_adjust\"].min() > 0.0\n",
    "assert df[\"pvalue_adjust\"].max() < 1.0"
   ]
  },
  {
   "cell_type": "code",
   "execution_count": 25,
   "id": "a972063c-92f6-4b90-a4eb-353959f0f4d3",
   "metadata": {
    "execution": {
     "iopub.execute_input": "2021-10-05T12:13:57.259591Z",
     "iopub.status.busy": "2021-10-05T12:13:57.259147Z",
     "iopub.status.idle": "2021-10-05T12:13:57.270968Z",
     "shell.execute_reply": "2021-10-05T12:13:57.270460Z"
    },
    "papermill": {
     "duration": 0.157118,
     "end_time": "2021-10-05T12:13:57.271061",
     "exception": false,
     "start_time": "2021-10-05T12:13:57.113943",
     "status": "completed"
    },
    "tags": []
   },
   "outputs": [
    {
     "data": {
      "text/plain": [
       "array([  2,   5,  10,  15,  20,  25,  30,  35,  40,  45,  50,  55,  60,\n",
       "        65,  70,  75,  80,  85,  90,  95, 100, 125, 150, 175, 200,  69,\n",
       "        89,  98, 124, 146, 168, 189,  14,  18,  23,  28,  33,  38,  43,\n",
       "        48,  53,  58,  62,  67,  71,  81,  84, 119, 139, 158, 173,  74,\n",
       "        79,  94, 122, 166, 187,  78,  83,  93,  99, 118, 137, 154, 169,\n",
       "        63,  68,  77,  86, 117, 162, 182,  39,  44,  49,  54,  64,  72,\n",
       "       114, 133, 159, 142, 157,  88,  92,  96, 115, 135, 147, 161,  59,\n",
       "        82, 121, 138, 185,  13,  19,  22,  27,  32,  37,  42,  47,  52,\n",
       "        57,  66, 112, 134, 152, 172,  73,  91, 116, 148, 174,  29,  87,\n",
       "        97, 141, 164, 188,  24,  56,  61,  76, 136, 171, 120, 140, 170,\n",
       "       132, 143, 167, 144, 186], dtype=int32)"
      ]
     },
     "execution_count": 25,
     "metadata": {},
     "output_type": "execute_result"
    }
   ],
   "source": [
    "df[\"n_clusters\"].unique()"
   ]
  },
  {
   "cell_type": "code",
   "execution_count": 26,
   "id": "875a58e1-36d5-4176-a445-f9cbc2eb3771",
   "metadata": {
    "execution": {
     "iopub.execute_input": "2021-10-05T12:13:57.558267Z",
     "iopub.status.busy": "2021-10-05T12:13:57.557729Z",
     "iopub.status.idle": "2021-10-05T12:13:57.572128Z",
     "shell.execute_reply": "2021-10-05T12:13:57.571638Z"
    },
    "papermill": {
     "duration": 0.159487,
     "end_time": "2021-10-05T12:13:57.572235",
     "exception": false,
     "start_time": "2021-10-05T12:13:57.412748",
     "status": "completed"
    },
    "tags": []
   },
   "outputs": [
    {
     "data": {
      "text/plain": [
       "['adipose_subcutaneous', 'artery_tibial', 'muscle_skeletal', 'skin_sun_exposed_lower_leg', 'whole_blood']\n",
       "Categories (5, object): ['adipose_subcutaneous', 'artery_tibial', 'muscle_skeletal', 'skin_sun_exposed_lower_leg', 'whole_blood']"
      ]
     },
     "execution_count": 26,
     "metadata": {},
     "output_type": "execute_result"
    }
   ],
   "source": [
    "df[\"tissue\"].unique()"
   ]
  },
  {
   "cell_type": "code",
   "execution_count": 27,
   "id": "5bfeb305-7bed-45ff-9b9a-e50acb6cb628",
   "metadata": {
    "execution": {
     "iopub.execute_input": "2021-10-05T12:13:57.863263Z",
     "iopub.status.busy": "2021-10-05T12:13:57.862811Z",
     "iopub.status.idle": "2021-10-05T12:13:57.876038Z",
     "shell.execute_reply": "2021-10-05T12:13:57.875550Z"
    },
    "papermill": {
     "duration": 0.158673,
     "end_time": "2021-10-05T12:13:57.876136",
     "exception": false,
     "start_time": "2021-10-05T12:13:57.717463",
     "status": "completed"
    },
    "tags": []
   },
   "outputs": [
    {
     "data": {
      "text/plain": [
       "['var_pc_log2']\n",
       "Categories (1, object): ['var_pc_log2']"
      ]
     },
     "execution_count": 27,
     "metadata": {},
     "output_type": "execute_result"
    }
   ],
   "source": [
    "df[\"gene_sel_strategy\"].unique()"
   ]
  },
  {
   "cell_type": "code",
   "execution_count": 28,
   "id": "44e32dfa-c125-4f7b-adfc-ee72ee72b79d",
   "metadata": {
    "execution": {
     "iopub.execute_input": "2021-10-05T12:13:58.163932Z",
     "iopub.status.busy": "2021-10-05T12:13:58.163414Z",
     "iopub.status.idle": "2021-10-05T12:13:58.176464Z",
     "shell.execute_reply": "2021-10-05T12:13:58.175985Z"
    },
    "papermill": {
     "duration": 0.157269,
     "end_time": "2021-10-05T12:13:58.176558",
     "exception": false,
     "start_time": "2021-10-05T12:13:58.019289",
     "status": "completed"
    },
    "tags": []
   },
   "outputs": [
    {
     "data": {
      "text/plain": [
       "['clustermatch', 'clustermatch_k2', 'pearson_abs', 'pearson_full', 'spearman_abs', 'spearman_full']\n",
       "Categories (6, object): ['clustermatch', 'clustermatch_k2', 'pearson_abs', 'pearson_full', 'spearman_abs', 'spearman_full']"
      ]
     },
     "execution_count": 28,
     "metadata": {},
     "output_type": "execute_result"
    }
   ],
   "source": [
    "df[\"corr_method\"].unique()"
   ]
  },
  {
   "cell_type": "code",
   "execution_count": 29,
   "id": "a71d840c-b779-4aa6-9bef-89f72d0ccec9",
   "metadata": {
    "execution": {
     "iopub.execute_input": "2021-10-05T12:13:58.465581Z",
     "iopub.status.busy": "2021-10-05T12:13:58.465136Z",
     "iopub.status.idle": "2021-10-05T12:13:58.477967Z",
     "shell.execute_reply": "2021-10-05T12:13:58.477519Z"
    },
    "papermill": {
     "duration": 0.158592,
     "end_time": "2021-10-05T12:13:58.478063",
     "exception": false,
     "start_time": "2021-10-05T12:13:58.319471",
     "status": "completed"
    },
    "tags": []
   },
   "outputs": [
    {
     "data": {
      "text/plain": [
       "['SpectralClustering']\n",
       "Categories (1, object): ['SpectralClustering']"
      ]
     },
     "execution_count": 29,
     "metadata": {},
     "output_type": "execute_result"
    }
   ],
   "source": [
    "df[\"clust_method\"].unique()"
   ]
  },
  {
   "cell_type": "code",
   "execution_count": 30,
   "id": "960126ba-22b6-469c-9883-3e9bf93c0585",
   "metadata": {
    "execution": {
     "iopub.execute_input": "2021-10-05T12:13:58.780653Z",
     "iopub.status.busy": "2021-10-05T12:13:58.780208Z",
     "iopub.status.idle": "2021-10-05T12:13:58.793110Z",
     "shell.execute_reply": "2021-10-05T12:13:58.792695Z"
    },
    "papermill": {
     "duration": 0.16321,
     "end_time": "2021-10-05T12:13:58.793206",
     "exception": false,
     "start_time": "2021-10-05T12:13:58.629996",
     "status": "completed"
    },
    "tags": []
   },
   "outputs": [
    {
     "data": {
      "text/plain": [
       "['BP_full', 'CC_full', 'MF_full', 'hsa', 'human']\n",
       "Categories (5, object): ['BP_full', 'CC_full', 'MF_full', 'hsa', 'human']"
      ]
     },
     "execution_count": 30,
     "metadata": {},
     "output_type": "execute_result"
    }
   ],
   "source": [
    "df[\"enrich_params\"].unique()"
   ]
  },
  {
   "cell_type": "code",
   "execution_count": 31,
   "id": "14fc32be-f703-4db3-9396-ae85ef365eb7",
   "metadata": {
    "execution": {
     "iopub.execute_input": "2021-10-05T12:13:59.093713Z",
     "iopub.status.busy": "2021-10-05T12:13:59.093230Z",
     "iopub.status.idle": "2021-10-05T12:13:59.111414Z",
     "shell.execute_reply": "2021-10-05T12:13:59.110893Z"
    },
    "papermill": {
     "duration": 0.169287,
     "end_time": "2021-10-05T12:13:59.111526",
     "exception": false,
     "start_time": "2021-10-05T12:13:58.942239",
     "status": "completed"
    },
    "tags": []
   },
   "outputs": [],
   "source": [
    "assert not df.isna().any().any()"
   ]
  },
  {
   "cell_type": "markdown",
   "id": "a0a93db6-b4bc-4d9e-a241-bcc2842f2656",
   "metadata": {
    "papermill": {
     "duration": 0.145223,
     "end_time": "2021-10-05T12:13:59.410154",
     "exception": false,
     "start_time": "2021-10-05T12:13:59.264931",
     "status": "completed"
    },
    "tags": []
   },
   "source": [
    "# Save"
   ]
  },
  {
   "cell_type": "code",
   "execution_count": 32,
   "id": "83d6fae7-eea9-491c-995e-7b9d96b05c11",
   "metadata": {
    "execution": {
     "iopub.execute_input": "2021-10-05T12:13:59.712231Z",
     "iopub.status.busy": "2021-10-05T12:13:59.711701Z",
     "iopub.status.idle": "2021-10-05T12:14:00.056705Z",
     "shell.execute_reply": "2021-10-05T12:14:00.056303Z"
    },
    "papermill": {
     "duration": 0.49948,
     "end_time": "2021-10-05T12:14:00.056806",
     "exception": false,
     "start_time": "2021-10-05T12:13:59.557326",
     "status": "completed"
    },
    "tags": []
   },
   "outputs": [],
   "source": [
    "import rpy2.robjects as ro\n",
    "from rpy2.robjects import pandas2ri\n",
    "from rpy2.robjects.conversion import localconverter\n",
    "\n",
    "saveRDS = ro.r[\"saveRDS\"]\n",
    "readRDS = ro.r[\"readRDS\"]"
   ]
  },
  {
   "cell_type": "code",
   "execution_count": 33,
   "id": "39125ea1-5691-40c0-8c0e-ceee96112085",
   "metadata": {
    "execution": {
     "iopub.execute_input": "2021-10-05T12:14:00.349509Z",
     "iopub.status.busy": "2021-10-05T12:14:00.349020Z",
     "iopub.status.idle": "2021-10-05T12:14:00.350928Z",
     "shell.execute_reply": "2021-10-05T12:14:00.350562Z"
    },
    "papermill": {
     "duration": 0.149418,
     "end_time": "2021-10-05T12:14:00.351025",
     "exception": false,
     "start_time": "2021-10-05T12:14:00.201607",
     "status": "completed"
    },
    "tags": []
   },
   "outputs": [],
   "source": [
    "data = df"
   ]
  },
  {
   "cell_type": "markdown",
   "id": "bb392932-2012-444f-8f25-37905c44e7c3",
   "metadata": {
    "papermill": {
     "duration": 0.149557,
     "end_time": "2021-10-05T12:14:00.645461",
     "exception": false,
     "start_time": "2021-10-05T12:14:00.495904",
     "status": "completed"
    },
    "tags": []
   },
   "source": [
    "## Pickle"
   ]
  },
  {
   "cell_type": "code",
   "execution_count": 34,
   "id": "c9c1ef2b-858b-4dfe-8ee7-31b20be691a8",
   "metadata": {
    "execution": {
     "iopub.execute_input": "2021-10-05T12:14:00.942999Z",
     "iopub.status.busy": "2021-10-05T12:14:00.942338Z",
     "iopub.status.idle": "2021-10-05T12:14:00.945267Z",
     "shell.execute_reply": "2021-10-05T12:14:00.944846Z"
    },
    "papermill": {
     "duration": 0.152531,
     "end_time": "2021-10-05T12:14:00.945365",
     "exception": false,
     "start_time": "2021-10-05T12:14:00.792834",
     "status": "completed"
    },
    "tags": []
   },
   "outputs": [
    {
     "data": {
      "text/plain": [
       "PosixPath('/opt/data/results/gtex_v8/gene_set_enrichment/gtex_v8_data-gene_set_enrichment.pkl')"
      ]
     },
     "metadata": {},
     "output_type": "display_data"
    }
   ],
   "source": [
    "display(OUTPUT_FILE)"
   ]
  },
  {
   "cell_type": "code",
   "execution_count": 35,
   "id": "bed62eb6-8023-46a5-a6b0-dd0329e2d51b",
   "metadata": {
    "execution": {
     "iopub.execute_input": "2021-10-05T12:14:01.237644Z",
     "iopub.status.busy": "2021-10-05T12:14:01.236223Z",
     "iopub.status.idle": "2021-10-05T12:14:01.338351Z",
     "shell.execute_reply": "2021-10-05T12:14:01.337838Z"
    },
    "papermill": {
     "duration": 0.248232,
     "end_time": "2021-10-05T12:14:01.338460",
     "exception": false,
     "start_time": "2021-10-05T12:14:01.090228",
     "status": "completed"
    },
    "tags": []
   },
   "outputs": [],
   "source": [
    "data.to_pickle(OUTPUT_FILE)"
   ]
  },
  {
   "cell_type": "markdown",
   "id": "83727a87-aebd-47a7-a477-74ad6185accc",
   "metadata": {
    "papermill": {
     "duration": 0.14945,
     "end_time": "2021-10-05T12:14:01.633916",
     "exception": false,
     "start_time": "2021-10-05T12:14:01.484466",
     "status": "completed"
    },
    "tags": []
   },
   "source": [
    "## RDS"
   ]
  },
  {
   "cell_type": "code",
   "execution_count": 36,
   "id": "23cfacdb-e131-42b0-a37b-aec899913e32",
   "metadata": {
    "execution": {
     "iopub.execute_input": "2021-10-05T12:14:01.925882Z",
     "iopub.status.busy": "2021-10-05T12:14:01.924300Z",
     "iopub.status.idle": "2021-10-05T12:14:01.928748Z",
     "shell.execute_reply": "2021-10-05T12:14:01.928299Z"
    },
    "papermill": {
     "duration": 0.149827,
     "end_time": "2021-10-05T12:14:01.928845",
     "exception": false,
     "start_time": "2021-10-05T12:14:01.779018",
     "status": "completed"
    },
    "tags": []
   },
   "outputs": [
    {
     "data": {
      "text/plain": [
       "PosixPath('/opt/data/results/gtex_v8/gene_set_enrichment/gtex_v8_data-gene_set_enrichment.rds')"
      ]
     },
     "metadata": {},
     "output_type": "display_data"
    }
   ],
   "source": [
    "output_rds_file = OUTPUT_FILE.with_suffix(\".rds\")\n",
    "display(output_rds_file)"
   ]
  },
  {
   "cell_type": "code",
   "execution_count": 37,
   "id": "67e72cd4-cf60-420f-a011-0ec188abf178",
   "metadata": {
    "execution": {
     "iopub.execute_input": "2021-10-05T12:14:02.226641Z",
     "iopub.status.busy": "2021-10-05T12:14:02.226161Z",
     "iopub.status.idle": "2021-10-05T12:15:30.692970Z",
     "shell.execute_reply": "2021-10-05T12:15:30.692302Z"
    },
    "papermill": {
     "duration": 88.617949,
     "end_time": "2021-10-05T12:15:30.693114",
     "exception": false,
     "start_time": "2021-10-05T12:14:02.075165",
     "status": "completed"
    },
    "tags": []
   },
   "outputs": [],
   "source": [
    "with localconverter(ro.default_converter + pandas2ri.converter):\n",
    "    data_r = ro.conversion.py2rpy(data)"
   ]
  },
  {
   "cell_type": "code",
   "execution_count": 38,
   "id": "a6f614b7-d94b-4d91-8774-d60656d19cff",
   "metadata": {
    "execution": {
     "iopub.execute_input": "2021-10-05T12:15:31.009122Z",
     "iopub.status.busy": "2021-10-05T12:15:31.008653Z",
     "iopub.status.idle": "2021-10-05T12:15:31.019457Z",
     "shell.execute_reply": "2021-10-05T12:15:31.019047Z"
    },
    "papermill": {
     "duration": 0.165799,
     "end_time": "2021-10-05T12:15:31.019552",
     "exception": false,
     "start_time": "2021-10-05T12:15:30.853753",
     "status": "completed"
    },
    "tags": []
   },
   "outputs": [
    {
     "data": {
      "text/html": [
       "\n",
       "        <span>R/rpy2 DataFrame (2187619 x 20)</span>\n",
       "        <table>\n",
       "          <thead>\n",
       "            <tr>\n",
       "              \n",
       "              <th>n_clusters</th>\n",
       "              \n",
       "              <th>cluster_id</th>\n",
       "              \n",
       "              <th>term_id</th>\n",
       "              \n",
       "              <th>...</th>\n",
       "              \n",
       "              <th>clust_method</th>\n",
       "              \n",
       "              <th>enrich_func</th>\n",
       "              \n",
       "              <th>enrich_params</th>\n",
       "              \n",
       "            </tr>\n",
       "          </thead>\n",
       "          <tbody>\n",
       "          \n",
       "          <tr>\n",
       "            \n",
       "            <td>\n",
       "              2\n",
       "            </td>\n",
       "            \n",
       "            <td>\n",
       "              C0\n",
       "            </td>\n",
       "            \n",
       "            <td>\n",
       "              GO:00...\n",
       "            </td>\n",
       "            \n",
       "            <td>\n",
       "              ...\n",
       "            </td>\n",
       "            \n",
       "            <td>\n",
       "              Spect...\n",
       "            </td>\n",
       "            \n",
       "            <td>\n",
       "              enric...\n",
       "            </td>\n",
       "            \n",
       "            <td>\n",
       "              BP_full\n",
       "            </td>\n",
       "            \n",
       "          </tr>\n",
       "          \n",
       "          <tr>\n",
       "            \n",
       "            <td>\n",
       "              2\n",
       "            </td>\n",
       "            \n",
       "            <td>\n",
       "              C0\n",
       "            </td>\n",
       "            \n",
       "            <td>\n",
       "              GO:00...\n",
       "            </td>\n",
       "            \n",
       "            <td>\n",
       "              \n",
       "            </td>\n",
       "            \n",
       "            <td>\n",
       "              Spect...\n",
       "            </td>\n",
       "            \n",
       "            <td>\n",
       "              enric...\n",
       "            </td>\n",
       "            \n",
       "            <td>\n",
       "              BP_full\n",
       "            </td>\n",
       "            \n",
       "          </tr>\n",
       "          \n",
       "          <tr>\n",
       "            \n",
       "            <td>\n",
       "              2\n",
       "            </td>\n",
       "            \n",
       "            <td>\n",
       "              C0\n",
       "            </td>\n",
       "            \n",
       "            <td>\n",
       "              GO:00...\n",
       "            </td>\n",
       "            \n",
       "            <td>\n",
       "              \n",
       "            </td>\n",
       "            \n",
       "            <td>\n",
       "              Spect...\n",
       "            </td>\n",
       "            \n",
       "            <td>\n",
       "              enric...\n",
       "            </td>\n",
       "            \n",
       "            <td>\n",
       "              BP_full\n",
       "            </td>\n",
       "            \n",
       "          </tr>\n",
       "          \n",
       "          <tr>\n",
       "            \n",
       "            <td>\n",
       "              2\n",
       "            </td>\n",
       "            \n",
       "            <td>\n",
       "              C0\n",
       "            </td>\n",
       "            \n",
       "            <td>\n",
       "              GO:00...\n",
       "            </td>\n",
       "            \n",
       "            <td>\n",
       "              \n",
       "            </td>\n",
       "            \n",
       "            <td>\n",
       "              Spect...\n",
       "            </td>\n",
       "            \n",
       "            <td>\n",
       "              enric...\n",
       "            </td>\n",
       "            \n",
       "            <td>\n",
       "              BP_full\n",
       "            </td>\n",
       "            \n",
       "          </tr>\n",
       "          \n",
       "          <tr>\n",
       "            \n",
       "            <td>\n",
       "              ...\n",
       "            </td>\n",
       "            \n",
       "            <td>\n",
       "              ...\n",
       "            </td>\n",
       "            \n",
       "            <td>\n",
       "              ...\n",
       "            </td>\n",
       "            \n",
       "            <td>\n",
       "              \n",
       "            </td>\n",
       "            \n",
       "            <td>\n",
       "              ...\n",
       "            </td>\n",
       "            \n",
       "            <td>\n",
       "              ...\n",
       "            </td>\n",
       "            \n",
       "            <td>\n",
       "              ...\n",
       "            </td>\n",
       "            \n",
       "          </tr>\n",
       "          \n",
       "          <tr>\n",
       "            \n",
       "            <td>\n",
       "              200\n",
       "            </td>\n",
       "            \n",
       "            <td>\n",
       "              C54\n",
       "            </td>\n",
       "            \n",
       "            <td>\n",
       "              GO:00...\n",
       "            </td>\n",
       "            \n",
       "            <td>\n",
       "              \n",
       "            </td>\n",
       "            \n",
       "            <td>\n",
       "              Spect...\n",
       "            </td>\n",
       "            \n",
       "            <td>\n",
       "              enric...\n",
       "            </td>\n",
       "            \n",
       "            <td>\n",
       "              MF_full\n",
       "            </td>\n",
       "            \n",
       "          </tr>\n",
       "          \n",
       "          <tr>\n",
       "            \n",
       "            <td>\n",
       "              200\n",
       "            </td>\n",
       "            \n",
       "            <td>\n",
       "              C47\n",
       "            </td>\n",
       "            \n",
       "            <td>\n",
       "              GO:00...\n",
       "            </td>\n",
       "            \n",
       "            <td>\n",
       "              \n",
       "            </td>\n",
       "            \n",
       "            <td>\n",
       "              Spect...\n",
       "            </td>\n",
       "            \n",
       "            <td>\n",
       "              enric...\n",
       "            </td>\n",
       "            \n",
       "            <td>\n",
       "              MF_full\n",
       "            </td>\n",
       "            \n",
       "          </tr>\n",
       "          \n",
       "          <tr>\n",
       "            \n",
       "            <td>\n",
       "              200\n",
       "            </td>\n",
       "            \n",
       "            <td>\n",
       "              C164\n",
       "            </td>\n",
       "            \n",
       "            <td>\n",
       "              GO:00...\n",
       "            </td>\n",
       "            \n",
       "            <td>\n",
       "              \n",
       "            </td>\n",
       "            \n",
       "            <td>\n",
       "              Spect...\n",
       "            </td>\n",
       "            \n",
       "            <td>\n",
       "              enric...\n",
       "            </td>\n",
       "            \n",
       "            <td>\n",
       "              MF_full\n",
       "            </td>\n",
       "            \n",
       "          </tr>\n",
       "          \n",
       "          <tr>\n",
       "            \n",
       "            <td>\n",
       "              200\n",
       "            </td>\n",
       "            \n",
       "            <td>\n",
       "              C164\n",
       "            </td>\n",
       "            \n",
       "            <td>\n",
       "              GO:00...\n",
       "            </td>\n",
       "            \n",
       "            <td>\n",
       "              \n",
       "            </td>\n",
       "            \n",
       "            <td>\n",
       "              Spect...\n",
       "            </td>\n",
       "            \n",
       "            <td>\n",
       "              enric...\n",
       "            </td>\n",
       "            \n",
       "            <td>\n",
       "              MF_full\n",
       "            </td>\n",
       "            \n",
       "          </tr>\n",
       "          \n",
       "          </tbody>\n",
       "        </table>\n",
       "    "
      ],
      "text/plain": [
       "<rpy2.robjects.vectors.DataFrame object at 0x7f7da51d2940> [RTYPES.VECSXP]\n",
       "R classes: ('data.frame',)\n",
       "[IntSexpVe..., IntSexpVe..., IntSexpVe..., IntSexpVe..., ..., IntSexpVe..., IntSexpVe..., IntSexpVe..., IntSexpVe...]\n",
       "  n_clusters: <class 'rpy2.robjects.vectors.IntVector'>\n",
       "  <rpy2.robjects.vectors.IntVector object at 0x7f7da533aac0> [RTYPES.INTSXP]\n",
       "R classes: ('integer',)\n",
       "[2, 2, 2, 2, ..., 200, 200, 200, 200]\n",
       "  cluster_id: <class 'rpy2.robjects.vectors.FactorVector'>\n",
       "  <rpy2.robjects.vectors.FactorVector object at 0x7f7da5294b80> [RTYPES.INTSXP]\n",
       "R classes: ('factor',)\n",
       "[C0, C0, C0, C0, ..., C54, C47, C164, C164]\n",
       "  term_id: <class 'rpy2.robjects.vectors.FactorVector'>\n",
       "  <rpy2.robjects.vectors.FactorVector object at 0x7f7da52947c0> [RTYPES.INTSXP]\n",
       "R classes: ('factor',)\n",
       "[GO:00..., GO:00..., GO:00..., GO:00..., ..., GO:00..., GO:00..., GO:00..., GO:00...]\n",
       "  term_desc: <class 'rpy2.robjects.vectors.FactorVector'>\n",
       "  <rpy2.robjects.vectors.FactorVector object at 0x7f7da5294680> [RTYPES.INTSXP]\n",
       "R classes: ('factor',)\n",
       "[leuko..., adapt..., immun..., regul..., ..., nucle..., struc..., ATP b..., phosp...]\n",
       "...\n",
       "  gene_total: <class 'rpy2.robjects.vectors.FactorVector'>\n",
       "  <rpy2.robjects.vectors.FactorVector object at 0x7f7da516cec0> [RTYPES.INTSXP]\n",
       "R classes: ('factor',)\n",
       "[clust..., clust..., clust..., clust..., ..., spear..., spear..., spear..., spear...]\n",
       "  gene_ratio: <class 'rpy2.robjects.vectors.FactorVector'>\n",
       "  <rpy2.robjects.vectors.FactorVector object at 0x7f7da52955c0> [RTYPES.INTSXP]\n",
       "R classes: ('factor',)\n",
       "[Spect..., Spect..., Spect..., Spect..., ..., Spect..., Spect..., Spect..., Spect...]\n",
       "  bg_count: <class 'rpy2.robjects.vectors.FactorVector'>\n",
       "  <rpy2.robjects.vectors.FactorVector object at 0x7f7da52959c0> [RTYPES.INTSXP]\n",
       "R classes: ('factor',)\n",
       "[enric..., enric..., enric..., enric..., ..., enric..., enric..., enric..., enric...]\n",
       "  bg_total: <class 'rpy2.robjects.vectors.FactorVector'>\n",
       "  <rpy2.robjects.vectors.FactorVector object at 0x7f7da51d2cc0> [RTYPES.INTSXP]\n",
       "R classes: ('factor',)\n",
       "[BP_full, BP_full, BP_full, BP_full, ..., MF_full, MF_full, MF_full, MF_full]"
      ]
     },
     "execution_count": 38,
     "metadata": {},
     "output_type": "execute_result"
    }
   ],
   "source": [
    "data_r"
   ]
  },
  {
   "cell_type": "code",
   "execution_count": 39,
   "id": "4fbabd33-fec9-46fd-a17f-a53c376078ff",
   "metadata": {
    "execution": {
     "iopub.execute_input": "2021-10-05T12:15:31.321211Z",
     "iopub.status.busy": "2021-10-05T12:15:31.320725Z",
     "iopub.status.idle": "2021-10-05T12:15:41.143057Z",
     "shell.execute_reply": "2021-10-05T12:15:41.142607Z"
    },
    "papermill": {
     "duration": 9.973148,
     "end_time": "2021-10-05T12:15:41.143154",
     "exception": false,
     "start_time": "2021-10-05T12:15:31.170006",
     "status": "completed"
    },
    "tags": []
   },
   "outputs": [
    {
     "data": {
      "text/plain": [
       "<rpy2.rinterface_lib.sexp.NULLType object at 0x7f7da531dbc0> [RTYPES.NILSXP]"
      ]
     },
     "execution_count": 39,
     "metadata": {},
     "output_type": "execute_result"
    }
   ],
   "source": [
    "saveRDS(data_r, str(output_rds_file))"
   ]
  },
  {
   "cell_type": "code",
   "execution_count": 40,
   "id": "520b5ed1-01b4-4434-aebc-5a6daa29a00e",
   "metadata": {
    "execution": {
     "iopub.execute_input": "2021-10-05T12:15:41.443843Z",
     "iopub.status.busy": "2021-10-05T12:15:41.443395Z",
     "iopub.status.idle": "2021-10-05T12:15:42.947638Z",
     "shell.execute_reply": "2021-10-05T12:15:42.947174Z"
    },
    "papermill": {
     "duration": 1.655504,
     "end_time": "2021-10-05T12:15:42.947737",
     "exception": false,
     "start_time": "2021-10-05T12:15:41.292233",
     "status": "completed"
    },
    "tags": []
   },
   "outputs": [],
   "source": [
    "# testing\n",
    "data_r = readRDS(str(output_rds_file))"
   ]
  },
  {
   "cell_type": "code",
   "execution_count": 41,
   "id": "64645a31-f003-49f2-8ceb-a1b12c9945d5",
   "metadata": {
    "execution": {
     "iopub.execute_input": "2021-10-05T12:15:43.256722Z",
     "iopub.status.busy": "2021-10-05T12:15:43.256241Z",
     "iopub.status.idle": "2021-10-05T12:16:42.086515Z",
     "shell.execute_reply": "2021-10-05T12:16:42.085991Z"
    },
    "papermill": {
     "duration": 58.981985,
     "end_time": "2021-10-05T12:16:42.086625",
     "exception": false,
     "start_time": "2021-10-05T12:15:43.104640",
     "status": "completed"
    },
    "tags": []
   },
   "outputs": [],
   "source": [
    "with localconverter(ro.default_converter + pandas2ri.converter):\n",
    "    data_again = ro.conversion.rpy2py(data_r)\n",
    "\n",
    "    # convert index to int, otherwise it's converted to string\n",
    "    data_again.index = data_again.index.astype(int)"
   ]
  },
  {
   "cell_type": "code",
   "execution_count": 42,
   "id": "a0c26630-f83e-4928-938a-1061fb39abab",
   "metadata": {
    "execution": {
     "iopub.execute_input": "2021-10-05T12:16:42.395452Z",
     "iopub.status.busy": "2021-10-05T12:16:42.394977Z",
     "iopub.status.idle": "2021-10-05T12:16:42.397177Z",
     "shell.execute_reply": "2021-10-05T12:16:42.397532Z"
    },
    "papermill": {
     "duration": 0.15471,
     "end_time": "2021-10-05T12:16:42.397646",
     "exception": false,
     "start_time": "2021-10-05T12:16:42.242936",
     "status": "completed"
    },
    "tags": []
   },
   "outputs": [
    {
     "data": {
      "text/plain": [
       "(2187619, 20)"
      ]
     },
     "execution_count": 42,
     "metadata": {},
     "output_type": "execute_result"
    }
   ],
   "source": [
    "data_again.shape"
   ]
  },
  {
   "cell_type": "code",
   "execution_count": 43,
   "id": "1640e806-1aa5-442f-beb2-b8d3c23ab084",
   "metadata": {
    "execution": {
     "iopub.execute_input": "2021-10-05T12:16:42.721279Z",
     "iopub.status.busy": "2021-10-05T12:16:42.720604Z",
     "iopub.status.idle": "2021-10-05T12:16:42.723536Z",
     "shell.execute_reply": "2021-10-05T12:16:42.723936Z"
    },
    "papermill": {
     "duration": 0.171614,
     "end_time": "2021-10-05T12:16:42.724055",
     "exception": false,
     "start_time": "2021-10-05T12:16:42.552441",
     "status": "completed"
    },
    "tags": []
   },
   "outputs": [
    {
     "data": {
      "text/html": [
       "<div>\n",
       "<style scoped>\n",
       "    .dataframe tbody tr th:only-of-type {\n",
       "        vertical-align: middle;\n",
       "    }\n",
       "\n",
       "    .dataframe tbody tr th {\n",
       "        vertical-align: top;\n",
       "    }\n",
       "\n",
       "    .dataframe thead th {\n",
       "        text-align: right;\n",
       "    }\n",
       "</style>\n",
       "<table border=\"1\" class=\"dataframe\">\n",
       "  <thead>\n",
       "    <tr style=\"text-align: right;\">\n",
       "      <th></th>\n",
       "      <th>n_clusters</th>\n",
       "      <th>cluster_id</th>\n",
       "      <th>term_id</th>\n",
       "      <th>term_desc</th>\n",
       "      <th>gene_count</th>\n",
       "      <th>gene_total</th>\n",
       "      <th>gene_ratio</th>\n",
       "      <th>bg_count</th>\n",
       "      <th>bg_total</th>\n",
       "      <th>bg_ratio</th>\n",
       "      <th>pvalue</th>\n",
       "      <th>pvalue_adjust</th>\n",
       "      <th>rich_factor</th>\n",
       "      <th>fold_enrich</th>\n",
       "      <th>tissue</th>\n",
       "      <th>gene_sel_strategy</th>\n",
       "      <th>corr_method</th>\n",
       "      <th>clust_method</th>\n",
       "      <th>enrich_func</th>\n",
       "      <th>enrich_params</th>\n",
       "    </tr>\n",
       "  </thead>\n",
       "  <tbody>\n",
       "    <tr>\n",
       "      <th>0</th>\n",
       "      <td>2</td>\n",
       "      <td>C0</td>\n",
       "      <td>GO:0002443</td>\n",
       "      <td>leukocyte mediated immunity</td>\n",
       "      <td>182</td>\n",
       "      <td>523</td>\n",
       "      <td>0.347992</td>\n",
       "      <td>357</td>\n",
       "      <td>3528</td>\n",
       "      <td>0.101190</td>\n",
       "      <td>1.930523e-67</td>\n",
       "      <td>5.513573e-64</td>\n",
       "      <td>0.509804</td>\n",
       "      <td>3.438983</td>\n",
       "      <td>adipose_subcutaneous</td>\n",
       "      <td>var_pc_log2</td>\n",
       "      <td>clustermatch</td>\n",
       "      <td>SpectralClustering</td>\n",
       "      <td>enrichGO</td>\n",
       "      <td>BP_full</td>\n",
       "    </tr>\n",
       "    <tr>\n",
       "      <th>1</th>\n",
       "      <td>2</td>\n",
       "      <td>C0</td>\n",
       "      <td>GO:0002250</td>\n",
       "      <td>adaptive immune response</td>\n",
       "      <td>153</td>\n",
       "      <td>523</td>\n",
       "      <td>0.292543</td>\n",
       "      <td>260</td>\n",
       "      <td>3528</td>\n",
       "      <td>0.073696</td>\n",
       "      <td>3.935201e-67</td>\n",
       "      <td>5.619467e-64</td>\n",
       "      <td>0.588462</td>\n",
       "      <td>3.969584</td>\n",
       "      <td>adipose_subcutaneous</td>\n",
       "      <td>var_pc_log2</td>\n",
       "      <td>clustermatch</td>\n",
       "      <td>SpectralClustering</td>\n",
       "      <td>enrichGO</td>\n",
       "      <td>BP_full</td>\n",
       "    </tr>\n",
       "    <tr>\n",
       "      <th>2</th>\n",
       "      <td>2</td>\n",
       "      <td>C0</td>\n",
       "      <td>GO:0002252</td>\n",
       "      <td>immune effector process</td>\n",
       "      <td>210</td>\n",
       "      <td>523</td>\n",
       "      <td>0.401530</td>\n",
       "      <td>478</td>\n",
       "      <td>3528</td>\n",
       "      <td>0.135488</td>\n",
       "      <td>1.994762e-64</td>\n",
       "      <td>1.899014e-61</td>\n",
       "      <td>0.439331</td>\n",
       "      <td>2.963591</td>\n",
       "      <td>adipose_subcutaneous</td>\n",
       "      <td>var_pc_log2</td>\n",
       "      <td>clustermatch</td>\n",
       "      <td>SpectralClustering</td>\n",
       "      <td>enrichGO</td>\n",
       "      <td>BP_full</td>\n",
       "    </tr>\n",
       "    <tr>\n",
       "      <th>3</th>\n",
       "      <td>2</td>\n",
       "      <td>C0</td>\n",
       "      <td>GO:0050776</td>\n",
       "      <td>regulation of immune response</td>\n",
       "      <td>178</td>\n",
       "      <td>523</td>\n",
       "      <td>0.340344</td>\n",
       "      <td>372</td>\n",
       "      <td>3528</td>\n",
       "      <td>0.105442</td>\n",
       "      <td>3.908673e-60</td>\n",
       "      <td>2.790792e-57</td>\n",
       "      <td>0.478495</td>\n",
       "      <td>3.227780</td>\n",
       "      <td>adipose_subcutaneous</td>\n",
       "      <td>var_pc_log2</td>\n",
       "      <td>clustermatch</td>\n",
       "      <td>SpectralClustering</td>\n",
       "      <td>enrichGO</td>\n",
       "      <td>BP_full</td>\n",
       "    </tr>\n",
       "    <tr>\n",
       "      <th>4</th>\n",
       "      <td>2</td>\n",
       "      <td>C0</td>\n",
       "      <td>GO:0006909</td>\n",
       "      <td>phagocytosis</td>\n",
       "      <td>112</td>\n",
       "      <td>523</td>\n",
       "      <td>0.214149</td>\n",
       "      <td>171</td>\n",
       "      <td>3528</td>\n",
       "      <td>0.048469</td>\n",
       "      <td>5.285733e-55</td>\n",
       "      <td>3.019211e-52</td>\n",
       "      <td>0.654971</td>\n",
       "      <td>4.418235</td>\n",
       "      <td>adipose_subcutaneous</td>\n",
       "      <td>var_pc_log2</td>\n",
       "      <td>clustermatch</td>\n",
       "      <td>SpectralClustering</td>\n",
       "      <td>enrichGO</td>\n",
       "      <td>BP_full</td>\n",
       "    </tr>\n",
       "  </tbody>\n",
       "</table>\n",
       "</div>"
      ],
      "text/plain": [
       "   n_clusters cluster_id     term_id                      term_desc  \\\n",
       "0           2         C0  GO:0002443    leukocyte mediated immunity   \n",
       "1           2         C0  GO:0002250       adaptive immune response   \n",
       "2           2         C0  GO:0002252        immune effector process   \n",
       "3           2         C0  GO:0050776  regulation of immune response   \n",
       "4           2         C0  GO:0006909                   phagocytosis   \n",
       "\n",
       "   gene_count  gene_total  gene_ratio  bg_count  bg_total  bg_ratio  \\\n",
       "0         182         523    0.347992       357      3528  0.101190   \n",
       "1         153         523    0.292543       260      3528  0.073696   \n",
       "2         210         523    0.401530       478      3528  0.135488   \n",
       "3         178         523    0.340344       372      3528  0.105442   \n",
       "4         112         523    0.214149       171      3528  0.048469   \n",
       "\n",
       "         pvalue  pvalue_adjust  rich_factor  fold_enrich  \\\n",
       "0  1.930523e-67   5.513573e-64     0.509804     3.438983   \n",
       "1  3.935201e-67   5.619467e-64     0.588462     3.969584   \n",
       "2  1.994762e-64   1.899014e-61     0.439331     2.963591   \n",
       "3  3.908673e-60   2.790792e-57     0.478495     3.227780   \n",
       "4  5.285733e-55   3.019211e-52     0.654971     4.418235   \n",
       "\n",
       "                 tissue gene_sel_strategy   corr_method        clust_method  \\\n",
       "0  adipose_subcutaneous       var_pc_log2  clustermatch  SpectralClustering   \n",
       "1  adipose_subcutaneous       var_pc_log2  clustermatch  SpectralClustering   \n",
       "2  adipose_subcutaneous       var_pc_log2  clustermatch  SpectralClustering   \n",
       "3  adipose_subcutaneous       var_pc_log2  clustermatch  SpectralClustering   \n",
       "4  adipose_subcutaneous       var_pc_log2  clustermatch  SpectralClustering   \n",
       "\n",
       "  enrich_func enrich_params  \n",
       "0    enrichGO       BP_full  \n",
       "1    enrichGO       BP_full  \n",
       "2    enrichGO       BP_full  \n",
       "3    enrichGO       BP_full  \n",
       "4    enrichGO       BP_full  "
      ]
     },
     "execution_count": 43,
     "metadata": {},
     "output_type": "execute_result"
    }
   ],
   "source": [
    "data_again.head()"
   ]
  },
  {
   "cell_type": "code",
   "execution_count": 44,
   "id": "9e968267-09e7-449f-9d14-8203cd6c7bfc",
   "metadata": {
    "execution": {
     "iopub.execute_input": "2021-10-05T12:16:43.031211Z",
     "iopub.status.busy": "2021-10-05T12:16:43.030733Z",
     "iopub.status.idle": "2021-10-05T12:18:57.023113Z",
     "shell.execute_reply": "2021-10-05T12:18:57.022663Z"
    },
    "papermill": {
     "duration": 134.146194,
     "end_time": "2021-10-05T12:18:57.023209",
     "exception": false,
     "start_time": "2021-10-05T12:16:42.877015",
     "status": "completed"
    },
    "tags": []
   },
   "outputs": [],
   "source": [
    "pd.testing.assert_frame_equal(\n",
    "    data,\n",
    "    data_again,\n",
    "    check_names=False,  # do not check \"name\" attribute of index and column\n",
    "    check_exact=True,  # since this is a binary format, it should match exactly\n",
    ")"
   ]
  },
  {
   "cell_type": "markdown",
   "id": "ee5cd5ae-a935-46fb-bfc7-5d66ff274fe2",
   "metadata": {
    "papermill": {
     "duration": 0.150507,
     "end_time": "2021-10-05T12:18:57.324444",
     "exception": false,
     "start_time": "2021-10-05T12:18:57.173937",
     "status": "completed"
    },
    "tags": []
   },
   "source": [
    "## tsv.gz"
   ]
  },
  {
   "cell_type": "code",
   "execution_count": 45,
   "id": "cea96351-64fe-4bbf-a575-5587a22b79ec",
   "metadata": {
    "execution": {
     "iopub.execute_input": "2021-10-05T12:18:57.629059Z",
     "iopub.status.busy": "2021-10-05T12:18:57.628422Z",
     "iopub.status.idle": "2021-10-05T12:18:57.631358Z",
     "shell.execute_reply": "2021-10-05T12:18:57.630908Z"
    },
    "papermill": {
     "duration": 0.156293,
     "end_time": "2021-10-05T12:18:57.631455",
     "exception": false,
     "start_time": "2021-10-05T12:18:57.475162",
     "status": "completed"
    },
    "tags": []
   },
   "outputs": [
    {
     "data": {
      "text/plain": [
       "PosixPath('/opt/data/results/gtex_v8/gene_set_enrichment/gtex_v8_data-gene_set_enrichment.tsv.gz')"
      ]
     },
     "metadata": {},
     "output_type": "display_data"
    }
   ],
   "source": [
    "output_text_file = OUTPUT_FILE.with_suffix(\".tsv.gz\")\n",
    "display(output_text_file)"
   ]
  },
  {
   "cell_type": "code",
   "execution_count": 46,
   "id": "09330074-7cea-42d4-bc13-6af3131da12e",
   "metadata": {
    "execution": {
     "iopub.execute_input": "2021-10-05T12:18:57.945785Z",
     "iopub.status.busy": "2021-10-05T12:18:57.945305Z",
     "iopub.status.idle": "2021-10-05T12:19:51.456236Z",
     "shell.execute_reply": "2021-10-05T12:19:51.455720Z"
    },
    "papermill": {
     "duration": 53.666034,
     "end_time": "2021-10-05T12:19:51.456334",
     "exception": false,
     "start_time": "2021-10-05T12:18:57.790300",
     "status": "completed"
    },
    "tags": []
   },
   "outputs": [],
   "source": [
    "data.to_csv(output_text_file, sep=\"\\t\", index=False, float_format=\"%.5e\")"
   ]
  },
  {
   "cell_type": "code",
   "execution_count": 47,
   "id": "2f960ae8-d392-4768-9d2f-f7ed267ec60e",
   "metadata": {
    "execution": {
     "iopub.execute_input": "2021-10-05T12:19:51.766817Z",
     "iopub.status.busy": "2021-10-05T12:19:51.766340Z",
     "iopub.status.idle": "2021-10-05T12:19:58.483948Z",
     "shell.execute_reply": "2021-10-05T12:19:58.483399Z"
    },
    "papermill": {
     "duration": 6.87414,
     "end_time": "2021-10-05T12:19:58.484062",
     "exception": false,
     "start_time": "2021-10-05T12:19:51.609922",
     "status": "completed"
    },
    "tags": []
   },
   "outputs": [],
   "source": [
    "# testing\n",
    "data_again = pd.read_csv(output_text_file, sep=\"\\t\")  # , index_col=0)"
   ]
  },
  {
   "cell_type": "code",
   "execution_count": 48,
   "id": "04b581d2-6fc6-42b1-8f62-c166cb70986c",
   "metadata": {
    "execution": {
     "iopub.execute_input": "2021-10-05T12:19:58.796998Z",
     "iopub.status.busy": "2021-10-05T12:19:58.796478Z",
     "iopub.status.idle": "2021-10-05T12:19:58.798845Z",
     "shell.execute_reply": "2021-10-05T12:19:58.799207Z"
    },
    "papermill": {
     "duration": 0.159292,
     "end_time": "2021-10-05T12:19:58.799322",
     "exception": false,
     "start_time": "2021-10-05T12:19:58.640030",
     "status": "completed"
    },
    "tags": []
   },
   "outputs": [
    {
     "data": {
      "text/plain": [
       "(2187619, 20)"
      ]
     },
     "execution_count": 48,
     "metadata": {},
     "output_type": "execute_result"
    }
   ],
   "source": [
    "data_again.shape"
   ]
  },
  {
   "cell_type": "code",
   "execution_count": 49,
   "id": "7dc97eb0-dac3-4a23-aaa0-fc2e351dcd15",
   "metadata": {
    "execution": {
     "iopub.execute_input": "2021-10-05T12:19:59.122857Z",
     "iopub.status.busy": "2021-10-05T12:19:59.122251Z",
     "iopub.status.idle": "2021-10-05T12:19:59.125053Z",
     "shell.execute_reply": "2021-10-05T12:19:59.125420Z"
    },
    "papermill": {
     "duration": 0.170392,
     "end_time": "2021-10-05T12:19:59.125540",
     "exception": false,
     "start_time": "2021-10-05T12:19:58.955148",
     "status": "completed"
    },
    "tags": []
   },
   "outputs": [
    {
     "data": {
      "text/html": [
       "<div>\n",
       "<style scoped>\n",
       "    .dataframe tbody tr th:only-of-type {\n",
       "        vertical-align: middle;\n",
       "    }\n",
       "\n",
       "    .dataframe tbody tr th {\n",
       "        vertical-align: top;\n",
       "    }\n",
       "\n",
       "    .dataframe thead th {\n",
       "        text-align: right;\n",
       "    }\n",
       "</style>\n",
       "<table border=\"1\" class=\"dataframe\">\n",
       "  <thead>\n",
       "    <tr style=\"text-align: right;\">\n",
       "      <th></th>\n",
       "      <th>n_clusters</th>\n",
       "      <th>cluster_id</th>\n",
       "      <th>term_id</th>\n",
       "      <th>term_desc</th>\n",
       "      <th>gene_count</th>\n",
       "      <th>gene_total</th>\n",
       "      <th>gene_ratio</th>\n",
       "      <th>bg_count</th>\n",
       "      <th>bg_total</th>\n",
       "      <th>bg_ratio</th>\n",
       "      <th>pvalue</th>\n",
       "      <th>pvalue_adjust</th>\n",
       "      <th>rich_factor</th>\n",
       "      <th>fold_enrich</th>\n",
       "      <th>tissue</th>\n",
       "      <th>gene_sel_strategy</th>\n",
       "      <th>corr_method</th>\n",
       "      <th>clust_method</th>\n",
       "      <th>enrich_func</th>\n",
       "      <th>enrich_params</th>\n",
       "    </tr>\n",
       "  </thead>\n",
       "  <tbody>\n",
       "    <tr>\n",
       "      <th>0</th>\n",
       "      <td>2</td>\n",
       "      <td>C0</td>\n",
       "      <td>GO:0002443</td>\n",
       "      <td>leukocyte mediated immunity</td>\n",
       "      <td>182</td>\n",
       "      <td>523</td>\n",
       "      <td>0.347992</td>\n",
       "      <td>357</td>\n",
       "      <td>3528</td>\n",
       "      <td>0.101190</td>\n",
       "      <td>1.930520e-67</td>\n",
       "      <td>5.513570e-64</td>\n",
       "      <td>0.509804</td>\n",
       "      <td>3.43898</td>\n",
       "      <td>adipose_subcutaneous</td>\n",
       "      <td>var_pc_log2</td>\n",
       "      <td>clustermatch</td>\n",
       "      <td>SpectralClustering</td>\n",
       "      <td>enrichGO</td>\n",
       "      <td>BP_full</td>\n",
       "    </tr>\n",
       "    <tr>\n",
       "      <th>1</th>\n",
       "      <td>2</td>\n",
       "      <td>C0</td>\n",
       "      <td>GO:0002250</td>\n",
       "      <td>adaptive immune response</td>\n",
       "      <td>153</td>\n",
       "      <td>523</td>\n",
       "      <td>0.292543</td>\n",
       "      <td>260</td>\n",
       "      <td>3528</td>\n",
       "      <td>0.073696</td>\n",
       "      <td>3.935200e-67</td>\n",
       "      <td>5.619470e-64</td>\n",
       "      <td>0.588462</td>\n",
       "      <td>3.96958</td>\n",
       "      <td>adipose_subcutaneous</td>\n",
       "      <td>var_pc_log2</td>\n",
       "      <td>clustermatch</td>\n",
       "      <td>SpectralClustering</td>\n",
       "      <td>enrichGO</td>\n",
       "      <td>BP_full</td>\n",
       "    </tr>\n",
       "    <tr>\n",
       "      <th>2</th>\n",
       "      <td>2</td>\n",
       "      <td>C0</td>\n",
       "      <td>GO:0002252</td>\n",
       "      <td>immune effector process</td>\n",
       "      <td>210</td>\n",
       "      <td>523</td>\n",
       "      <td>0.401530</td>\n",
       "      <td>478</td>\n",
       "      <td>3528</td>\n",
       "      <td>0.135488</td>\n",
       "      <td>1.994760e-64</td>\n",
       "      <td>1.899010e-61</td>\n",
       "      <td>0.439331</td>\n",
       "      <td>2.96359</td>\n",
       "      <td>adipose_subcutaneous</td>\n",
       "      <td>var_pc_log2</td>\n",
       "      <td>clustermatch</td>\n",
       "      <td>SpectralClustering</td>\n",
       "      <td>enrichGO</td>\n",
       "      <td>BP_full</td>\n",
       "    </tr>\n",
       "    <tr>\n",
       "      <th>3</th>\n",
       "      <td>2</td>\n",
       "      <td>C0</td>\n",
       "      <td>GO:0050776</td>\n",
       "      <td>regulation of immune response</td>\n",
       "      <td>178</td>\n",
       "      <td>523</td>\n",
       "      <td>0.340344</td>\n",
       "      <td>372</td>\n",
       "      <td>3528</td>\n",
       "      <td>0.105442</td>\n",
       "      <td>3.908670e-60</td>\n",
       "      <td>2.790790e-57</td>\n",
       "      <td>0.478495</td>\n",
       "      <td>3.22778</td>\n",
       "      <td>adipose_subcutaneous</td>\n",
       "      <td>var_pc_log2</td>\n",
       "      <td>clustermatch</td>\n",
       "      <td>SpectralClustering</td>\n",
       "      <td>enrichGO</td>\n",
       "      <td>BP_full</td>\n",
       "    </tr>\n",
       "    <tr>\n",
       "      <th>4</th>\n",
       "      <td>2</td>\n",
       "      <td>C0</td>\n",
       "      <td>GO:0006909</td>\n",
       "      <td>phagocytosis</td>\n",
       "      <td>112</td>\n",
       "      <td>523</td>\n",
       "      <td>0.214149</td>\n",
       "      <td>171</td>\n",
       "      <td>3528</td>\n",
       "      <td>0.048469</td>\n",
       "      <td>5.285730e-55</td>\n",
       "      <td>3.019210e-52</td>\n",
       "      <td>0.654971</td>\n",
       "      <td>4.41823</td>\n",
       "      <td>adipose_subcutaneous</td>\n",
       "      <td>var_pc_log2</td>\n",
       "      <td>clustermatch</td>\n",
       "      <td>SpectralClustering</td>\n",
       "      <td>enrichGO</td>\n",
       "      <td>BP_full</td>\n",
       "    </tr>\n",
       "  </tbody>\n",
       "</table>\n",
       "</div>"
      ],
      "text/plain": [
       "   n_clusters cluster_id     term_id                      term_desc  \\\n",
       "0           2         C0  GO:0002443    leukocyte mediated immunity   \n",
       "1           2         C0  GO:0002250       adaptive immune response   \n",
       "2           2         C0  GO:0002252        immune effector process   \n",
       "3           2         C0  GO:0050776  regulation of immune response   \n",
       "4           2         C0  GO:0006909                   phagocytosis   \n",
       "\n",
       "   gene_count  gene_total  gene_ratio  bg_count  bg_total  bg_ratio  \\\n",
       "0         182         523    0.347992       357      3528  0.101190   \n",
       "1         153         523    0.292543       260      3528  0.073696   \n",
       "2         210         523    0.401530       478      3528  0.135488   \n",
       "3         178         523    0.340344       372      3528  0.105442   \n",
       "4         112         523    0.214149       171      3528  0.048469   \n",
       "\n",
       "         pvalue  pvalue_adjust  rich_factor  fold_enrich  \\\n",
       "0  1.930520e-67   5.513570e-64     0.509804      3.43898   \n",
       "1  3.935200e-67   5.619470e-64     0.588462      3.96958   \n",
       "2  1.994760e-64   1.899010e-61     0.439331      2.96359   \n",
       "3  3.908670e-60   2.790790e-57     0.478495      3.22778   \n",
       "4  5.285730e-55   3.019210e-52     0.654971      4.41823   \n",
       "\n",
       "                 tissue gene_sel_strategy   corr_method        clust_method  \\\n",
       "0  adipose_subcutaneous       var_pc_log2  clustermatch  SpectralClustering   \n",
       "1  adipose_subcutaneous       var_pc_log2  clustermatch  SpectralClustering   \n",
       "2  adipose_subcutaneous       var_pc_log2  clustermatch  SpectralClustering   \n",
       "3  adipose_subcutaneous       var_pc_log2  clustermatch  SpectralClustering   \n",
       "4  adipose_subcutaneous       var_pc_log2  clustermatch  SpectralClustering   \n",
       "\n",
       "  enrich_func enrich_params  \n",
       "0    enrichGO       BP_full  \n",
       "1    enrichGO       BP_full  \n",
       "2    enrichGO       BP_full  \n",
       "3    enrichGO       BP_full  \n",
       "4    enrichGO       BP_full  "
      ]
     },
     "execution_count": 49,
     "metadata": {},
     "output_type": "execute_result"
    }
   ],
   "source": [
    "data_again.head()"
   ]
  },
  {
   "cell_type": "code",
   "execution_count": 50,
   "id": "8e85fff8-dde9-439d-808c-c053374c2785",
   "metadata": {
    "execution": {
     "iopub.execute_input": "2021-10-05T12:19:59.437335Z",
     "iopub.status.busy": "2021-10-05T12:19:59.436863Z",
     "iopub.status.idle": "2021-10-05T12:24:22.148397Z",
     "shell.execute_reply": "2021-10-05T12:24:22.147931Z"
    },
    "papermill": {
     "duration": 262.868848,
     "end_time": "2021-10-05T12:24:22.148495",
     "exception": false,
     "start_time": "2021-10-05T12:19:59.279647",
     "status": "completed"
    },
    "tags": []
   },
   "outputs": [],
   "source": [
    "pd.testing.assert_frame_equal(\n",
    "    data,\n",
    "    data_again,\n",
    "    check_names=False,  # do not check \"name\" attribute of index and column\n",
    "    check_dtype=False,  # do not check dtypes: do not distinguish between int64 and int32, for instance\n",
    "    check_categorical=False,\n",
    "    check_exact=False,\n",
    "    rtol=1e-5,\n",
    "    atol=5e-5,\n",
    ")"
   ]
  },
  {
   "cell_type": "code",
   "execution_count": null,
   "id": "72a954fe-b9c9-4f68-bca3-7a58e558cc3b",
   "metadata": {
    "papermill": {
     "duration": 0.908231,
     "end_time": "2021-10-05T12:24:23.211378",
     "exception": false,
     "start_time": "2021-10-05T12:24:22.303147",
     "status": "completed"
    },
    "tags": []
   },
   "outputs": [],
   "source": []
  }
 ],
 "metadata": {
  "jupytext": {
   "cell_metadata_filter": "all,-execution,-papermill,-trusted"
  },
  "kernelspec": {
   "display_name": "Python 3 (ipykernel)",
   "language": "python",
   "name": "python3"
  },
  "language_info": {
   "codemirror_mode": {
    "name": "ipython",
    "version": 3
   },
   "file_extension": ".py",
   "mimetype": "text/x-python",
   "name": "python",
   "nbconvert_exporter": "python",
   "pygments_lexer": "ipython3",
   "version": "3.9.7"
  },
  "papermill": {
   "default_parameters": {},
   "duration": 642.571837,
   "end_time": "2021-10-05T12:24:24.718991",
   "environment_variables": {},
   "exception": null,
   "input_path": "nbs/20_gene_set_enrichment/05_gtex_v8/90-combine_results.ipynb",
   "output_path": "nbs/20_gene_set_enrichment/05_gtex_v8/90-combine_results.run.ipynb",
   "parameters": {},
   "start_time": "2021-10-05T12:13:42.147154",
   "version": "2.3.3"
  },
  "toc-autonumbering": true
 },
 "nbformat": 4,
 "nbformat_minor": 5
}
