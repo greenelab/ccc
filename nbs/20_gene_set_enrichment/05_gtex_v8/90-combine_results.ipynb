{
 "cells": [
  {
   "cell_type": "markdown",
   "id": "4b79d660-2ab1-42c2-a4d5-467d2534e5dc",
   "metadata": {
    "papermill": {
     "duration": 0.05443,
     "end_time": "2021-09-21T01:08:26.664204",
     "exception": false,
     "start_time": "2021-09-21T01:08:26.609774",
     "status": "completed"
    },
    "tags": []
   },
   "source": [
    "# Description"
   ]
  },
  {
   "cell_type": "markdown",
   "id": "9f0b6db4-6f06-4856-a4b8-e24548d0f1d9",
   "metadata": {
    "papermill": {
     "duration": 0.018505,
     "end_time": "2021-09-21T01:08:26.702179",
     "exception": false,
     "start_time": "2021-09-21T01:08:26.683674",
     "status": "completed"
    },
    "tags": []
   },
   "source": [
    "Combines all gene enrichment results found in input directory."
   ]
  },
  {
   "cell_type": "markdown",
   "id": "dfb4a759-748a-4a19-b773-992a23cb9327",
   "metadata": {
    "papermill": {
     "duration": 0.017986,
     "end_time": "2021-09-21T01:08:26.738014",
     "exception": false,
     "start_time": "2021-09-21T01:08:26.720028",
     "status": "completed"
    },
    "tags": []
   },
   "source": [
    "# Modules loading"
   ]
  },
  {
   "cell_type": "code",
   "execution_count": 1,
   "id": "98e28052-34cc-43fc-87f3-a1b61eeb14fc",
   "metadata": {
    "papermill": {
     "duration": 0.98246,
     "end_time": "2021-09-21T01:08:27.738520",
     "exception": false,
     "start_time": "2021-09-21T01:08:26.756060",
     "status": "completed"
    },
    "tags": []
   },
   "outputs": [],
   "source": [
    "import re\n",
    "\n",
    "import numpy as np\n",
    "import pandas as pd\n",
    "import matplotlib.pyplot as plt\n",
    "import seaborn as sns\n",
    "from tqdm import tqdm\n",
    "\n",
    "from clustermatch import conf"
   ]
  },
  {
   "cell_type": "markdown",
   "id": "76fa50d9-680c-4107-b705-009070735d89",
   "metadata": {
    "papermill": {
     "duration": 0.018302,
     "end_time": "2021-09-21T01:08:27.775660",
     "exception": false,
     "start_time": "2021-09-21T01:08:27.757358",
     "status": "completed"
    },
    "tags": []
   },
   "source": [
    "# Settings"
   ]
  },
  {
   "cell_type": "code",
   "execution_count": 2,
   "id": "7e12ded2-5649-4e35-a946-07c8724ea421",
   "metadata": {
    "papermill": {
     "duration": 0.023202,
     "end_time": "2021-09-21T01:08:27.816886",
     "exception": false,
     "start_time": "2021-09-21T01:08:27.793684",
     "status": "completed"
    },
    "tags": []
   },
   "outputs": [],
   "source": [
    "# ENRICH_FUNCTION = \"enrichGO\""
   ]
  },
  {
   "cell_type": "code",
   "execution_count": 3,
   "id": "f10c4d5f-e737-4066-866a-e4f2404e5922",
   "metadata": {
    "papermill": {
     "duration": 0.023202,
     "end_time": "2021-09-21T01:08:27.816886",
     "exception": false,
     "start_time": "2021-09-21T01:08:27.793684",
     "status": "completed"
    },
    "tags": []
   },
   "outputs": [],
   "source": [
    "# CORRELATION_METHOD_NAME = \"clustermatch\""
   ]
  },
  {
   "cell_type": "code",
   "execution_count": 4,
   "id": "ff5b04ea-1161-499a-9aff-a3f5f0efd7ce",
   "metadata": {
    "papermill": {
     "duration": 0.023527,
     "end_time": "2021-09-21T01:08:27.859971",
     "exception": false,
     "start_time": "2021-09-21T01:08:27.836444",
     "status": "completed"
    },
    "tags": []
   },
   "outputs": [],
   "source": [
    "# GENE_SELECTION_STRATEGY = \"var_pc_log2\""
   ]
  },
  {
   "cell_type": "code",
   "execution_count": 5,
   "id": "c0e27c63-0b49-47f1-8147-6c47b90ea3d9",
   "metadata": {},
   "outputs": [],
   "source": [
    "# # clusterProfiler settings\n",
    "# ENRICH_FUNCTION = \"enrichGO\"\n",
    "# SIMPLIFY_CUTOFF = 0.7\n",
    "# GO_ONTOLOGIES = (\"BP\", \"CC\", \"MF\")"
   ]
  },
  {
   "cell_type": "code",
   "execution_count": 6,
   "id": "d67b1af4-a310-45f5-a6e9-919df1fd2165",
   "metadata": {},
   "outputs": [],
   "source": [
    "# SIMILARITY_MATRICES_DIR = conf.GTEX[\"SIMILARITY_MATRICES_DIR\"]\n",
    "# display(SIMILARITY_MATRICES_DIR)"
   ]
  },
  {
   "cell_type": "code",
   "execution_count": 7,
   "id": "22b5ec88-d626-4db3-ada1-81cf48f23579",
   "metadata": {},
   "outputs": [],
   "source": [
    "# SIMILARITY_MATRIX_FILENAME_TEMPLATE = conf.GTEX[\"SIMILARITY_MATRIX_FILENAME_TEMPLATE\"]\n",
    "# display(SIMILARITY_MATRIX_FILENAME_TEMPLATE)"
   ]
  },
  {
   "cell_type": "markdown",
   "id": "eee530dc-b562-4b54-8bc3-a9c831ac052c",
   "metadata": {
    "papermill": {
     "duration": 0.018256,
     "end_time": "2021-09-21T01:08:28.146573",
     "exception": false,
     "start_time": "2021-09-21T01:08:28.128317",
     "status": "completed"
    },
    "tags": []
   },
   "source": [
    "# Paths"
   ]
  },
  {
   "cell_type": "code",
   "execution_count": 8,
   "id": "09f26fce-9c9b-4ec0-ae25-1b9130b17ab7",
   "metadata": {
    "papermill": {
     "duration": 0.025744,
     "end_time": "2021-09-21T01:08:28.190353",
     "exception": false,
     "start_time": "2021-09-21T01:08:28.164609",
     "status": "completed"
    },
    "tags": []
   },
   "outputs": [
    {
     "data": {
      "text/plain": [
       "PosixPath('/home/miltondp/projects/labs/greenelab/clustermatch_repos/clustermatch-gene-expr/base/results/gtex_v8/gene_set_enrichment')"
      ]
     },
     "metadata": {},
     "output_type": "display_data"
    }
   ],
   "source": [
    "INPUT_DIR = conf.GTEX[\"GENE_ENRICHMENT_DIR\"]\n",
    "display(INPUT_DIR)\n",
    "assert INPUT_DIR.exists()"
   ]
  },
  {
   "cell_type": "code",
   "execution_count": 9,
   "id": "b89c7a90-c325-4557-9107-7ba95e8bf03a",
   "metadata": {
    "papermill": {
     "duration": 0.025306,
     "end_time": "2021-09-21T01:08:28.234279",
     "exception": false,
     "start_time": "2021-09-21T01:08:28.208973",
     "status": "completed"
    },
    "tags": []
   },
   "outputs": [
    {
     "data": {
      "text/plain": [
       "PosixPath('/home/miltondp/projects/labs/greenelab/clustermatch_repos/clustermatch-gene-expr/base/results/gtex_v8/gene_set_enrichment/gtex_v8_data-gene_set_enrichment.pkl')"
      ]
     },
     "metadata": {},
     "output_type": "display_data"
    }
   ],
   "source": [
    "OUTPUT_FILE = conf.GTEX[\"GENE_ENRICHMENT_COMBINED_FILE\"]\n",
    "display(OUTPUT_FILE)\n",
    "\n",
    "OUTPUT_FILE.parent.mkdir(parents=True, exist_ok=True)"
   ]
  },
  {
   "cell_type": "markdown",
   "id": "ec13a933-c48b-412b-9147-6aca9548be9f",
   "metadata": {
    "papermill": {
     "duration": 0.019217,
     "end_time": "2021-09-21T01:08:28.355017",
     "exception": false,
     "start_time": "2021-09-21T01:08:28.335800",
     "status": "completed"
    },
    "tags": []
   },
   "source": [
    "# Get data files"
   ]
  },
  {
   "cell_type": "code",
   "execution_count": 10,
   "id": "da9668d5-9922-42ed-bc4a-aec394343871",
   "metadata": {},
   "outputs": [],
   "source": [
    "filename_pattern = re.compile(conf.GTEX[\"GENE_ENRICHMENT_FILENAME_PATTERN\"])"
   ]
  },
  {
   "cell_type": "code",
   "execution_count": 11,
   "id": "b356cfbc-a3f5-430e-a90b-05b57bb8289e",
   "metadata": {
    "papermill": {
     "duration": 0.026976,
     "end_time": "2021-09-21T01:08:28.400716",
     "exception": false,
     "start_time": "2021-09-21T01:08:28.373740",
     "status": "completed"
    },
    "tags": []
   },
   "outputs": [
    {
     "data": {
      "text/plain": [
       "90"
      ]
     },
     "metadata": {},
     "output_type": "display_data"
    },
    {
     "data": {
      "text/plain": [
       "[PosixPath('/home/miltondp/projects/labs/greenelab/clustermatch_repos/clustermatch-gene-expr/base/results/gtex_v8/gene_set_enrichment/gtex_v8_data_adipose_subcutaneous-var_pc_log2-clustermatch-SpectralClustering-enrichGO-BP_full.pkl'),\n",
       " PosixPath('/home/miltondp/projects/labs/greenelab/clustermatch_repos/clustermatch-gene-expr/base/results/gtex_v8/gene_set_enrichment/gtex_v8_data_adipose_subcutaneous-var_pc_log2-clustermatch-SpectralClustering-enrichGO-BP_simplified_070.pkl'),\n",
       " PosixPath('/home/miltondp/projects/labs/greenelab/clustermatch_repos/clustermatch-gene-expr/base/results/gtex_v8/gene_set_enrichment/gtex_v8_data_adipose_subcutaneous-var_pc_log2-clustermatch-SpectralClustering-enrichGO-CC_full.pkl'),\n",
       " PosixPath('/home/miltondp/projects/labs/greenelab/clustermatch_repos/clustermatch-gene-expr/base/results/gtex_v8/gene_set_enrichment/gtex_v8_data_adipose_subcutaneous-var_pc_log2-clustermatch-SpectralClustering-enrichGO-CC_simplified_070.pkl'),\n",
       " PosixPath('/home/miltondp/projects/labs/greenelab/clustermatch_repos/clustermatch-gene-expr/base/results/gtex_v8/gene_set_enrichment/gtex_v8_data_adipose_subcutaneous-var_pc_log2-clustermatch-SpectralClustering-enrichGO-MF_full.pkl')]"
      ]
     },
     "metadata": {},
     "output_type": "display_data"
    }
   ],
   "source": [
    "# get input data files according to Settings\n",
    "input_files = sorted(\n",
    "    [\n",
    "        f\n",
    "        for f in INPUT_DIR.iterdir()\n",
    "        if (m := re.search(filename_pattern, str(f))) is not None\n",
    "        #         and m.group(\"corr_method\") == CORRELATION_METHOD_NAME\n",
    "    ]\n",
    ")\n",
    "display(len(input_files))\n",
    "display(input_files[:5])\n",
    "\n",
    "assert len(input_files) > 0"
   ]
  },
  {
   "cell_type": "markdown",
   "id": "c8339679-216e-4ea3-a1f5-e2819c0bbf62",
   "metadata": {
    "papermill": {
     "duration": 0.019217,
     "end_time": "2021-09-21T01:08:28.355017",
     "exception": false,
     "start_time": "2021-09-21T01:08:28.335800",
     "status": "completed"
    },
    "tags": []
   },
   "source": [
    "## Preview data"
   ]
  },
  {
   "cell_type": "code",
   "execution_count": 12,
   "id": "2428dee3-38a1-48db-a053-510d95e641ea",
   "metadata": {},
   "outputs": [
    {
     "data": {
      "text/plain": [
       "PosixPath('/home/miltondp/projects/labs/greenelab/clustermatch_repos/clustermatch-gene-expr/base/results/gtex_v8/gene_set_enrichment/gtex_v8_data_adipose_subcutaneous-var_pc_log2-clustermatch-SpectralClustering-enrichGO-BP_full.pkl')"
      ]
     },
     "metadata": {},
     "output_type": "display_data"
    }
   ],
   "source": [
    "display(input_files[0])"
   ]
  },
  {
   "cell_type": "code",
   "execution_count": 13,
   "id": "c7c0bf99-4ac6-4a35-b18e-2677719d2239",
   "metadata": {},
   "outputs": [],
   "source": [
    "_tmp_df = pd.read_pickle(input_files[0])"
   ]
  },
  {
   "cell_type": "code",
   "execution_count": 14,
   "id": "4a84e02e-ba04-43d4-a693-93d632cf6ba0",
   "metadata": {},
   "outputs": [
    {
     "data": {
      "text/plain": [
       "(50515, 12)"
      ]
     },
     "execution_count": 14,
     "metadata": {},
     "output_type": "execute_result"
    }
   ],
   "source": [
    "_tmp_df.shape"
   ]
  },
  {
   "cell_type": "code",
   "execution_count": 15,
   "id": "b3ef488f-4c8f-4ea3-abb0-d93c3afc6dc4",
   "metadata": {},
   "outputs": [
    {
     "data": {
      "text/html": [
       "<div>\n",
       "<style scoped>\n",
       "    .dataframe tbody tr th:only-of-type {\n",
       "        vertical-align: middle;\n",
       "    }\n",
       "\n",
       "    .dataframe tbody tr th {\n",
       "        vertical-align: top;\n",
       "    }\n",
       "\n",
       "    .dataframe thead th {\n",
       "        text-align: right;\n",
       "    }\n",
       "</style>\n",
       "<table border=\"1\" class=\"dataframe\">\n",
       "  <thead>\n",
       "    <tr style=\"text-align: right;\">\n",
       "      <th></th>\n",
       "      <th>Cluster</th>\n",
       "      <th>ID</th>\n",
       "      <th>Description</th>\n",
       "      <th>GeneRatio</th>\n",
       "      <th>BgRatio</th>\n",
       "      <th>pvalue</th>\n",
       "      <th>p.adjust</th>\n",
       "      <th>qvalue</th>\n",
       "      <th>geneID</th>\n",
       "      <th>Count</th>\n",
       "      <th>clustering_id</th>\n",
       "      <th>clustering_n_clusters</th>\n",
       "    </tr>\n",
       "  </thead>\n",
       "  <tbody>\n",
       "    <tr>\n",
       "      <th>17492</th>\n",
       "      <td>C21</td>\n",
       "      <td>GO:0035383</td>\n",
       "      <td>thioester metabolic process</td>\n",
       "      <td>15/329</td>\n",
       "      <td>34/3528</td>\n",
       "      <td>9.214483e-08</td>\n",
       "      <td>6.388708e-06</td>\n",
       "      <td>5.708822e-06</td>\n",
       "      <td>FASN/ACSL1/ACACB/ACOT1/ACSM5/ELOVL5/SLC25A1/AA...</td>\n",
       "      <td>15</td>\n",
       "      <td>SpectralClustering #13</td>\n",
       "      <td>65</td>\n",
       "    </tr>\n",
       "    <tr>\n",
       "      <th>25252</th>\n",
       "      <td>C60</td>\n",
       "      <td>GO:0032103</td>\n",
       "      <td>positive regulation of response to external st...</td>\n",
       "      <td>14/114</td>\n",
       "      <td>170/3528</td>\n",
       "      <td>9.718798e-04</td>\n",
       "      <td>1.609940e-02</td>\n",
       "      <td>1.372641e-02</td>\n",
       "      <td>CD209/CLEC10A/CSF1R/TYROBP/AIF1/CD28/P2RY12/BT...</td>\n",
       "      <td>14</td>\n",
       "      <td>SpectralClustering #16</td>\n",
       "      <td>80</td>\n",
       "    </tr>\n",
       "    <tr>\n",
       "      <th>38316</th>\n",
       "      <td>C1</td>\n",
       "      <td>GO:0071398</td>\n",
       "      <td>cellular response to fatty acid</td>\n",
       "      <td>3/20</td>\n",
       "      <td>19/3528</td>\n",
       "      <td>1.425567e-04</td>\n",
       "      <td>9.785604e-03</td>\n",
       "      <td>8.874987e-03</td>\n",
       "      <td>AKR1C2/AKR1C1/AKR1C3</td>\n",
       "      <td>3</td>\n",
       "      <td>SpectralClustering #21</td>\n",
       "      <td>125</td>\n",
       "    </tr>\n",
       "    <tr>\n",
       "      <th>3849</th>\n",
       "      <td>C3</td>\n",
       "      <td>GO:0045321</td>\n",
       "      <td>leukocyte activation</td>\n",
       "      <td>45/93</td>\n",
       "      <td>490/3528</td>\n",
       "      <td>5.381953e-16</td>\n",
       "      <td>1.085833e-15</td>\n",
       "      <td>5.068876e-16</td>\n",
       "      <td>IGHG2/IGKC/IGLC1/IGHG1/IGHG3/IGHM/IGHA1/IGLC3/...</td>\n",
       "      <td>45</td>\n",
       "      <td>SpectralClustering #4</td>\n",
       "      <td>20</td>\n",
       "    </tr>\n",
       "    <tr>\n",
       "      <th>26471</th>\n",
       "      <td>C36</td>\n",
       "      <td>GO:0060627</td>\n",
       "      <td>regulation of vesicle-mediated transport</td>\n",
       "      <td>3/7</td>\n",
       "      <td>129/3528</td>\n",
       "      <td>1.500944e-03</td>\n",
       "      <td>1.795773e-02</td>\n",
       "      <td>9.874634e-03</td>\n",
       "      <td>FGB/APOC3/FGG</td>\n",
       "      <td>3</td>\n",
       "      <td>SpectralClustering #16</td>\n",
       "      <td>80</td>\n",
       "    </tr>\n",
       "  </tbody>\n",
       "</table>\n",
       "</div>"
      ],
      "text/plain": [
       "      Cluster          ID                                        Description  \\\n",
       "17492     C21  GO:0035383                        thioester metabolic process   \n",
       "25252     C60  GO:0032103  positive regulation of response to external st...   \n",
       "38316      C1  GO:0071398                    cellular response to fatty acid   \n",
       "3849       C3  GO:0045321                               leukocyte activation   \n",
       "26471     C36  GO:0060627           regulation of vesicle-mediated transport   \n",
       "\n",
       "      GeneRatio   BgRatio        pvalue      p.adjust        qvalue  \\\n",
       "17492    15/329   34/3528  9.214483e-08  6.388708e-06  5.708822e-06   \n",
       "25252    14/114  170/3528  9.718798e-04  1.609940e-02  1.372641e-02   \n",
       "38316      3/20   19/3528  1.425567e-04  9.785604e-03  8.874987e-03   \n",
       "3849      45/93  490/3528  5.381953e-16  1.085833e-15  5.068876e-16   \n",
       "26471       3/7  129/3528  1.500944e-03  1.795773e-02  9.874634e-03   \n",
       "\n",
       "                                                  geneID  Count  \\\n",
       "17492  FASN/ACSL1/ACACB/ACOT1/ACSM5/ELOVL5/SLC25A1/AA...     15   \n",
       "25252  CD209/CLEC10A/CSF1R/TYROBP/AIF1/CD28/P2RY12/BT...     14   \n",
       "38316                               AKR1C2/AKR1C1/AKR1C3      3   \n",
       "3849   IGHG2/IGKC/IGLC1/IGHG1/IGHG3/IGHM/IGHA1/IGLC3/...     45   \n",
       "26471                                      FGB/APOC3/FGG      3   \n",
       "\n",
       "                clustering_id  clustering_n_clusters  \n",
       "17492  SpectralClustering #13                     65  \n",
       "25252  SpectralClustering #16                     80  \n",
       "38316  SpectralClustering #21                    125  \n",
       "3849    SpectralClustering #4                     20  \n",
       "26471  SpectralClustering #16                     80  "
      ]
     },
     "execution_count": 15,
     "metadata": {},
     "output_type": "execute_result"
    }
   ],
   "source": [
    "_tmp_df.sample(n=5, random_state=0)"
   ]
  },
  {
   "cell_type": "markdown",
   "id": "f4e3a617-e89c-40b2-8dbd-3bbd5a2d378a",
   "metadata": {
    "papermill": {
     "duration": 0.019217,
     "end_time": "2021-09-21T01:08:28.355017",
     "exception": false,
     "start_time": "2021-09-21T01:08:28.335800",
     "status": "completed"
    },
    "tags": []
   },
   "source": [
    "# Run"
   ]
  },
  {
   "cell_type": "markdown",
   "id": "9bad87b5-0f3e-4138-8d3e-ac50d9431520",
   "metadata": {
    "papermill": {
     "duration": 0.019217,
     "end_time": "2021-09-21T01:08:28.355017",
     "exception": false,
     "start_time": "2021-09-21T01:08:28.335800",
     "status": "completed"
    },
    "tags": []
   },
   "source": [
    "## Read data, convert dtypes, add new metrics"
   ]
  },
  {
   "cell_type": "code",
   "execution_count": 16,
   "id": "4c1d8f26-1a6f-4b3e-8a24-9a03d4e90bd2",
   "metadata": {},
   "outputs": [
    {
     "name": "stderr",
     "output_type": "stream",
     "text": [
      "100%|███████████████████████████████████████████████████████████████| 90/90 [00:04<00:00, 21.96it/s]\n"
     ]
    }
   ],
   "source": [
    "all_results = []\n",
    "\n",
    "for f_full in tqdm(input_files, ncols=100):\n",
    "    f_name = f_full.name\n",
    "\n",
    "    f_data = pd.read_pickle(f_full)\n",
    "    f_data = f_data.rename(\n",
    "        columns={\n",
    "            \"Count\": \"gene_count\",\n",
    "            \"GeneRatio\": \"gene_ratio\",\n",
    "            \"BgRatio\": \"bg_ratio\",\n",
    "            \"ID\": \"go_term_id\",\n",
    "            \"Description\": \"go_term_desc\",\n",
    "            \"Cluster\": \"cluster_id\",\n",
    "            \"clustering_n_clusters\": \"n_clusters\",\n",
    "            \"p.adjust\": \"fdr\",\n",
    "        }\n",
    "    )\n",
    "\n",
    "    # genes in cluster\n",
    "    f_data = f_data.assign(\n",
    "        gene_total=f_data[\"gene_ratio\"].apply(lambda x: int(x.split(\"/\")[1]))\n",
    "    )\n",
    "\n",
    "    # background genes\n",
    "    f_data = f_data.assign(\n",
    "        bg_count=f_data[\"bg_ratio\"].apply(lambda x: int(x.split(\"/\")[0]))\n",
    "    )\n",
    "    f_data = f_data.assign(\n",
    "        bg_total=f_data[\"bg_ratio\"].apply(lambda x: int(x.split(\"/\")[1]))\n",
    "    )\n",
    "\n",
    "    # add metadata\n",
    "    metadata = re.search(filename_pattern, f_name)\n",
    "\n",
    "    f_data = f_data[\n",
    "        [\n",
    "            \"n_clusters\",\n",
    "            \"cluster_id\",\n",
    "            \"go_term_id\",\n",
    "            \"go_term_desc\",\n",
    "            \"gene_count\",\n",
    "            \"gene_total\",\n",
    "            \"gene_ratio\",\n",
    "            \"bg_count\",\n",
    "            \"bg_total\",\n",
    "            \"bg_ratio\",\n",
    "            \"fdr\",\n",
    "        ]\n",
    "    ]\n",
    "\n",
    "    f_data[\"tissue\"] = metadata.group(\"tissue\")\n",
    "    f_data[\"gene_sel_strategy\"] = metadata.group(\"gene_sel_strategy\")\n",
    "    f_data[\"corr_method\"] = metadata.group(\"corr_method\")\n",
    "    f_data[\"clust_method\"] = metadata.group(\"clust_method\")\n",
    "    f_data[\"enrich_func\"] = metadata.group(\"enrich_func\")\n",
    "    f_data[\"results_subset\"] = metadata.group(\"results_subset\")\n",
    "\n",
    "    all_results.append(f_data)"
   ]
  },
  {
   "cell_type": "code",
   "execution_count": 17,
   "id": "dba36444-b52f-4934-8950-786cd0c51a61",
   "metadata": {},
   "outputs": [],
   "source": [
    "df = pd.concat(all_results, ignore_index=True)\n",
    "\n",
    "# to category dtype\n",
    "df[\"cluster_id\"] = df[\"cluster_id\"].astype(\"category\")\n",
    "df[\"go_term_id\"] = df[\"go_term_id\"].astype(\"category\")\n",
    "df[\"go_term_desc\"] = df[\"go_term_desc\"].astype(\"category\")\n",
    "df[\"tissue\"] = df[\"tissue\"].astype(\"category\")\n",
    "df[\"gene_sel_strategy\"] = df[\"gene_sel_strategy\"].astype(\"category\")\n",
    "df[\"corr_method\"] = df[\"corr_method\"].astype(\"category\")\n",
    "df[\"clust_method\"] = df[\"clust_method\"].astype(\"category\")\n",
    "df[\"enrich_func\"] = df[\"enrich_func\"].astype(\"category\")\n",
    "df[\"results_subset\"] = df[\"results_subset\"].astype(\"category\")\n",
    "\n",
    "# convert to int32\n",
    "df[\"n_clusters\"] = df[\"n_clusters\"].astype(\"int32\")\n",
    "df[\"gene_count\"] = df[\"gene_count\"].astype(\"int32\")\n",
    "df[\"gene_total\"] = df[\"gene_total\"].astype(\"int32\")\n",
    "df[\"bg_count\"] = df[\"bg_count\"].astype(\"int32\")\n",
    "df[\"bg_total\"] = df[\"bg_total\"].astype(\"int32\")\n",
    "\n",
    "# convert ratios to numbers\n",
    "df[\"gene_ratio\"] = df[\"gene_count\"].div(df[\"gene_total\"])\n",
    "df[\"bg_ratio\"] = df[\"bg_count\"].div(df[\"bg_total\"])\n",
    "\n",
    "# add other metrics\n",
    "df[\"rich_factor\"] = df[\"gene_count\"].div(df[\"bg_count\"])\n",
    "df[\"fold_enrich\"] = df[\"gene_ratio\"].div(df[\"bg_ratio\"])"
   ]
  },
  {
   "cell_type": "code",
   "execution_count": 18,
   "id": "840e3a37-4f34-4689-98d3-79f2ee1a9f5b",
   "metadata": {},
   "outputs": [
    {
     "data": {
      "text/plain": [
       "(1333944, 19)"
      ]
     },
     "execution_count": 18,
     "metadata": {},
     "output_type": "execute_result"
    }
   ],
   "source": [
    "df.shape"
   ]
  },
  {
   "cell_type": "code",
   "execution_count": 19,
   "id": "e066d3c0-1e6b-42de-8c12-90d0f403c423",
   "metadata": {},
   "outputs": [
    {
     "data": {
      "text/plain": [
       "n_clusters              int32\n",
       "cluster_id           category\n",
       "go_term_id           category\n",
       "go_term_desc         category\n",
       "gene_count              int32\n",
       "gene_total              int32\n",
       "gene_ratio            float64\n",
       "bg_count                int32\n",
       "bg_total                int32\n",
       "bg_ratio              float64\n",
       "fdr                   float64\n",
       "tissue               category\n",
       "gene_sel_strategy    category\n",
       "corr_method          category\n",
       "clust_method         category\n",
       "enrich_func          category\n",
       "results_subset       category\n",
       "rich_factor           float64\n",
       "fold_enrich           float64\n",
       "dtype: object"
      ]
     },
     "metadata": {},
     "output_type": "display_data"
    }
   ],
   "source": [
    "display(df.dtypes)\n",
    "assert df.dtypes.loc[\"cluster_id\"] == \"category\""
   ]
  },
  {
   "cell_type": "code",
   "execution_count": 20,
   "id": "a0aec274-c723-4af5-b381-863aada8ce98",
   "metadata": {},
   "outputs": [
    {
     "data": {
      "text/html": [
       "<div>\n",
       "<style scoped>\n",
       "    .dataframe tbody tr th:only-of-type {\n",
       "        vertical-align: middle;\n",
       "    }\n",
       "\n",
       "    .dataframe tbody tr th {\n",
       "        vertical-align: top;\n",
       "    }\n",
       "\n",
       "    .dataframe thead th {\n",
       "        text-align: right;\n",
       "    }\n",
       "</style>\n",
       "<table border=\"1\" class=\"dataframe\">\n",
       "  <thead>\n",
       "    <tr style=\"text-align: right;\">\n",
       "      <th></th>\n",
       "      <th>n_clusters</th>\n",
       "      <th>cluster_id</th>\n",
       "      <th>go_term_id</th>\n",
       "      <th>go_term_desc</th>\n",
       "      <th>gene_count</th>\n",
       "      <th>gene_total</th>\n",
       "      <th>gene_ratio</th>\n",
       "      <th>bg_count</th>\n",
       "      <th>bg_total</th>\n",
       "      <th>bg_ratio</th>\n",
       "      <th>fdr</th>\n",
       "      <th>tissue</th>\n",
       "      <th>gene_sel_strategy</th>\n",
       "      <th>corr_method</th>\n",
       "      <th>clust_method</th>\n",
       "      <th>enrich_func</th>\n",
       "      <th>results_subset</th>\n",
       "      <th>rich_factor</th>\n",
       "      <th>fold_enrich</th>\n",
       "    </tr>\n",
       "  </thead>\n",
       "  <tbody>\n",
       "    <tr>\n",
       "      <th>912872</th>\n",
       "      <td>10</td>\n",
       "      <td>C6</td>\n",
       "      <td>GO:0070161</td>\n",
       "      <td>anchoring junction</td>\n",
       "      <td>112</td>\n",
       "      <td>1124</td>\n",
       "      <td>0.099644</td>\n",
       "      <td>247</td>\n",
       "      <td>3531</td>\n",
       "      <td>0.069952</td>\n",
       "      <td>0.000151</td>\n",
       "      <td>skin_sun_exposed_lower_leg</td>\n",
       "      <td>var_pc_log2</td>\n",
       "      <td>pearson_abs</td>\n",
       "      <td>SpectralClustering</td>\n",
       "      <td>enrichGO</td>\n",
       "      <td>CC_full</td>\n",
       "      <td>0.453441</td>\n",
       "      <td>1.424467</td>\n",
       "    </tr>\n",
       "    <tr>\n",
       "      <th>689045</th>\n",
       "      <td>175</td>\n",
       "      <td>C66</td>\n",
       "      <td>GO:0042509</td>\n",
       "      <td>regulation of tyrosine phosphorylation of STAT...</td>\n",
       "      <td>1</td>\n",
       "      <td>2</td>\n",
       "      <td>0.500000</td>\n",
       "      <td>22</td>\n",
       "      <td>3746</td>\n",
       "      <td>0.005873</td>\n",
       "      <td>0.044128</td>\n",
       "      <td>muscle_skeletal</td>\n",
       "      <td>var_pc_log2</td>\n",
       "      <td>spearman_abs</td>\n",
       "      <td>SpectralClustering</td>\n",
       "      <td>enrichGO</td>\n",
       "      <td>BP_full</td>\n",
       "      <td>0.045455</td>\n",
       "      <td>85.136364</td>\n",
       "    </tr>\n",
       "    <tr>\n",
       "      <th>1025533</th>\n",
       "      <td>50</td>\n",
       "      <td>C5</td>\n",
       "      <td>GO:0005198</td>\n",
       "      <td>structural molecule activity</td>\n",
       "      <td>4</td>\n",
       "      <td>10</td>\n",
       "      <td>0.400000</td>\n",
       "      <td>234</td>\n",
       "      <td>3341</td>\n",
       "      <td>0.070039</td>\n",
       "      <td>0.015242</td>\n",
       "      <td>skin_sun_exposed_lower_leg</td>\n",
       "      <td>var_pc_log2</td>\n",
       "      <td>spearman_abs</td>\n",
       "      <td>SpectralClustering</td>\n",
       "      <td>enrichGO</td>\n",
       "      <td>MF_full</td>\n",
       "      <td>0.017094</td>\n",
       "      <td>5.711111</td>\n",
       "    </tr>\n",
       "    <tr>\n",
       "      <th>116739</th>\n",
       "      <td>70</td>\n",
       "      <td>C32</td>\n",
       "      <td>GO:0019731</td>\n",
       "      <td>antibacterial humoral response</td>\n",
       "      <td>2</td>\n",
       "      <td>12</td>\n",
       "      <td>0.166667</td>\n",
       "      <td>26</td>\n",
       "      <td>3528</td>\n",
       "      <td>0.007370</td>\n",
       "      <td>0.004832</td>\n",
       "      <td>adipose_subcutaneous</td>\n",
       "      <td>var_pc_log2</td>\n",
       "      <td>pearson_abs</td>\n",
       "      <td>SpectralClustering</td>\n",
       "      <td>enrichGO</td>\n",
       "      <td>BP_full</td>\n",
       "      <td>0.076923</td>\n",
       "      <td>22.615385</td>\n",
       "    </tr>\n",
       "    <tr>\n",
       "      <th>160461</th>\n",
       "      <td>85</td>\n",
       "      <td>C15</td>\n",
       "      <td>GO:0019724</td>\n",
       "      <td>B cell mediated immunity</td>\n",
       "      <td>5</td>\n",
       "      <td>7</td>\n",
       "      <td>0.714286</td>\n",
       "      <td>117</td>\n",
       "      <td>3528</td>\n",
       "      <td>0.033163</td>\n",
       "      <td>0.000010</td>\n",
       "      <td>adipose_subcutaneous</td>\n",
       "      <td>var_pc_log2</td>\n",
       "      <td>pearson_abs</td>\n",
       "      <td>SpectralClustering</td>\n",
       "      <td>enrichGO</td>\n",
       "      <td>BP_simplified_070</td>\n",
       "      <td>0.042735</td>\n",
       "      <td>21.538462</td>\n",
       "    </tr>\n",
       "  </tbody>\n",
       "</table>\n",
       "</div>"
      ],
      "text/plain": [
       "         n_clusters cluster_id  go_term_id  \\\n",
       "912872           10         C6  GO:0070161   \n",
       "689045          175        C66  GO:0042509   \n",
       "1025533          50         C5  GO:0005198   \n",
       "116739           70        C32  GO:0019731   \n",
       "160461           85        C15  GO:0019724   \n",
       "\n",
       "                                              go_term_desc  gene_count  \\\n",
       "912872                                  anchoring junction         112   \n",
       "689045   regulation of tyrosine phosphorylation of STAT...           1   \n",
       "1025533                       structural molecule activity           4   \n",
       "116739                      antibacterial humoral response           2   \n",
       "160461                            B cell mediated immunity           5   \n",
       "\n",
       "         gene_total  gene_ratio  bg_count  bg_total  bg_ratio       fdr  \\\n",
       "912872         1124    0.099644       247      3531  0.069952  0.000151   \n",
       "689045            2    0.500000        22      3746  0.005873  0.044128   \n",
       "1025533          10    0.400000       234      3341  0.070039  0.015242   \n",
       "116739           12    0.166667        26      3528  0.007370  0.004832   \n",
       "160461            7    0.714286       117      3528  0.033163  0.000010   \n",
       "\n",
       "                             tissue gene_sel_strategy   corr_method  \\\n",
       "912872   skin_sun_exposed_lower_leg       var_pc_log2   pearson_abs   \n",
       "689045              muscle_skeletal       var_pc_log2  spearman_abs   \n",
       "1025533  skin_sun_exposed_lower_leg       var_pc_log2  spearman_abs   \n",
       "116739         adipose_subcutaneous       var_pc_log2   pearson_abs   \n",
       "160461         adipose_subcutaneous       var_pc_log2   pearson_abs   \n",
       "\n",
       "               clust_method enrich_func     results_subset  rich_factor  \\\n",
       "912872   SpectralClustering    enrichGO            CC_full     0.453441   \n",
       "689045   SpectralClustering    enrichGO            BP_full     0.045455   \n",
       "1025533  SpectralClustering    enrichGO            MF_full     0.017094   \n",
       "116739   SpectralClustering    enrichGO            BP_full     0.076923   \n",
       "160461   SpectralClustering    enrichGO  BP_simplified_070     0.042735   \n",
       "\n",
       "         fold_enrich  \n",
       "912872      1.424467  \n",
       "689045     85.136364  \n",
       "1025533     5.711111  \n",
       "116739     22.615385  \n",
       "160461     21.538462  "
      ]
     },
     "execution_count": 20,
     "metadata": {},
     "output_type": "execute_result"
    }
   ],
   "source": [
    "df.sample(n=5)"
   ]
  },
  {
   "cell_type": "markdown",
   "id": "cae1ec0b-98c2-44a9-906a-74d716dad777",
   "metadata": {},
   "source": [
    "## Some stats"
   ]
  },
  {
   "cell_type": "code",
   "execution_count": 21,
   "id": "be827957-e573-485b-aca5-2224157b0979",
   "metadata": {},
   "outputs": [
    {
     "data": {
      "text/plain": [
       "count     1.333944e+06\n",
       "mean      1.359243e-02\n",
       "std       1.566511e-02\n",
       "min      6.807472e-203\n",
       "25%       1.249015e-04\n",
       "50%       5.882928e-03\n",
       "75%       2.548727e-02\n",
       "max       4.999997e-02\n",
       "Name: fdr, dtype: float64"
      ]
     },
     "metadata": {},
     "output_type": "display_data"
    }
   ],
   "source": [
    "display(df[\"fdr\"].describe())\n",
    "assert df[\"fdr\"].min() > 0.0\n",
    "assert df[\"fdr\"].max() < 1.0"
   ]
  },
  {
   "cell_type": "code",
   "execution_count": 22,
   "id": "a972063c-92f6-4b90-a4eb-353959f0f4d3",
   "metadata": {},
   "outputs": [
    {
     "data": {
      "text/plain": [
       "array([  2,   5,  10,  15,  20,  25,  30,  35,  40,  45,  50,  55,  60,\n",
       "        65,  70,  75,  80,  85,  90,  95, 100, 125, 150, 175, 200],\n",
       "      dtype=int32)"
      ]
     },
     "execution_count": 22,
     "metadata": {},
     "output_type": "execute_result"
    }
   ],
   "source": [
    "df[\"n_clusters\"].unique()"
   ]
  },
  {
   "cell_type": "code",
   "execution_count": 23,
   "id": "875a58e1-36d5-4176-a445-f9cbc2eb3771",
   "metadata": {},
   "outputs": [
    {
     "data": {
      "text/plain": [
       "['adipose_subcutaneous', 'artery_tibial', 'muscle_skeletal', 'skin_sun_exposed_lower_leg', 'whole_blood']\n",
       "Categories (5, object): ['adipose_subcutaneous', 'artery_tibial', 'muscle_skeletal', 'skin_sun_exposed_lower_leg', 'whole_blood']"
      ]
     },
     "execution_count": 23,
     "metadata": {},
     "output_type": "execute_result"
    }
   ],
   "source": [
    "df[\"tissue\"].unique()"
   ]
  },
  {
   "cell_type": "code",
   "execution_count": 24,
   "id": "5bfeb305-7bed-45ff-9b9a-e50acb6cb628",
   "metadata": {},
   "outputs": [
    {
     "data": {
      "text/plain": [
       "['var_pc_log2']\n",
       "Categories (1, object): ['var_pc_log2']"
      ]
     },
     "execution_count": 24,
     "metadata": {},
     "output_type": "execute_result"
    }
   ],
   "source": [
    "df[\"gene_sel_strategy\"].unique()"
   ]
  },
  {
   "cell_type": "code",
   "execution_count": 25,
   "id": "44e32dfa-c125-4f7b-adfc-ee72ee72b79d",
   "metadata": {},
   "outputs": [
    {
     "data": {
      "text/plain": [
       "['clustermatch', 'pearson_abs', 'spearman_abs']\n",
       "Categories (3, object): ['clustermatch', 'pearson_abs', 'spearman_abs']"
      ]
     },
     "execution_count": 25,
     "metadata": {},
     "output_type": "execute_result"
    }
   ],
   "source": [
    "df[\"corr_method\"].unique()"
   ]
  },
  {
   "cell_type": "code",
   "execution_count": 26,
   "id": "a71d840c-b779-4aa6-9bef-89f72d0ccec9",
   "metadata": {},
   "outputs": [
    {
     "data": {
      "text/plain": [
       "['SpectralClustering']\n",
       "Categories (1, object): ['SpectralClustering']"
      ]
     },
     "execution_count": 26,
     "metadata": {},
     "output_type": "execute_result"
    }
   ],
   "source": [
    "df[\"clust_method\"].unique()"
   ]
  },
  {
   "cell_type": "code",
   "execution_count": 27,
   "id": "960126ba-22b6-469c-9883-3e9bf93c0585",
   "metadata": {},
   "outputs": [
    {
     "data": {
      "text/plain": [
       "['BP_full', 'BP_simplified_070', 'CC_full', 'CC_simplified_070', 'MF_full', 'MF_simplified_070']\n",
       "Categories (6, object): ['BP_full', 'BP_simplified_070', 'CC_full', 'CC_simplified_070', 'MF_full', 'MF_simplified_070']"
      ]
     },
     "execution_count": 27,
     "metadata": {},
     "output_type": "execute_result"
    }
   ],
   "source": [
    "df[\"results_subset\"].unique()"
   ]
  },
  {
   "cell_type": "markdown",
   "id": "40b67978-8a8a-4d7a-bb2f-5956778a9fc5",
   "metadata": {},
   "source": [
    "## Testing"
   ]
  },
  {
   "cell_type": "code",
   "execution_count": 28,
   "id": "14fc32be-f703-4db3-9396-ae85ef365eb7",
   "metadata": {},
   "outputs": [],
   "source": [
    "assert not df.isna().any().any()"
   ]
  },
  {
   "cell_type": "code",
   "execution_count": 29,
   "id": "6a2463a7-7d0e-4465-b044-1f6057533150",
   "metadata": {},
   "outputs": [],
   "source": [
    "# test if values are correctly calculated\n",
    "_tmp = df[\n",
    "    (df.go_term_id == \"GO:0035383\")\n",
    "    & (df.n_clusters == 65)\n",
    "    & (df.cluster_id == \"C21\")\n",
    "    & (df.tissue == \"adipose_subcutaneous\")\n",
    "    & (df.gene_sel_strategy == \"var_pc_log2\")\n",
    "    & (df.corr_method == \"clustermatch\")\n",
    "    & (df.clust_method == \"SpectralClustering\")\n",
    "    & (df.enrich_func == \"enrichGO\")\n",
    "    & (df.results_subset == \"BP_full\")\n",
    "]\n",
    "assert _tmp.shape[0] == 1\n",
    "_tmp = _tmp.iloc[0]\n",
    "\n",
    "assert _tmp[\"gene_count\"] == 15\n",
    "assert _tmp[\"gene_total\"] == 329\n",
    "assert _tmp[\"gene_ratio\"] == 15.0 / 329.0\n",
    "assert _tmp[\"bg_count\"] == 34\n",
    "assert _tmp[\"bg_total\"] == 3528\n",
    "assert _tmp[\"bg_ratio\"] == 34.0 / 3528.0\n",
    "assert _tmp[\"rich_factor\"] == 15.0 / 34.0\n",
    "assert _tmp[\"fold_enrich\"] == (15.0 / 329.0) / (34.0 / 3528.0)"
   ]
  },
  {
   "cell_type": "markdown",
   "id": "a0a93db6-b4bc-4d9e-a241-bcc2842f2656",
   "metadata": {},
   "source": [
    "# Save"
   ]
  },
  {
   "cell_type": "code",
   "execution_count": 30,
   "id": "83d6fae7-eea9-491c-995e-7b9d96b05c11",
   "metadata": {},
   "outputs": [],
   "source": [
    "import rpy2.robjects as ro\n",
    "from rpy2.robjects import pandas2ri\n",
    "from rpy2.robjects.conversion import localconverter\n",
    "\n",
    "saveRDS = ro.r[\"saveRDS\"]\n",
    "readRDS = ro.r[\"readRDS\"]"
   ]
  },
  {
   "cell_type": "code",
   "execution_count": 31,
   "id": "39125ea1-5691-40c0-8c0e-ceee96112085",
   "metadata": {},
   "outputs": [],
   "source": [
    "data = df"
   ]
  },
  {
   "cell_type": "markdown",
   "id": "bb392932-2012-444f-8f25-37905c44e7c3",
   "metadata": {},
   "source": [
    "## Pickle"
   ]
  },
  {
   "cell_type": "code",
   "execution_count": 32,
   "id": "c9c1ef2b-858b-4dfe-8ee7-31b20be691a8",
   "metadata": {},
   "outputs": [
    {
     "data": {
      "text/plain": [
       "PosixPath('/home/miltondp/projects/labs/greenelab/clustermatch_repos/clustermatch-gene-expr/base/results/gtex_v8/gene_set_enrichment/gtex_v8_data-gene_set_enrichment.pkl')"
      ]
     },
     "metadata": {},
     "output_type": "display_data"
    }
   ],
   "source": [
    "display(OUTPUT_FILE)"
   ]
  },
  {
   "cell_type": "code",
   "execution_count": 33,
   "id": "bed62eb6-8023-46a5-a6b0-dd0329e2d51b",
   "metadata": {},
   "outputs": [],
   "source": [
    "data.to_pickle(OUTPUT_FILE)"
   ]
  },
  {
   "cell_type": "markdown",
   "id": "83727a87-aebd-47a7-a477-74ad6185accc",
   "metadata": {},
   "source": [
    "## RDS"
   ]
  },
  {
   "cell_type": "code",
   "execution_count": 34,
   "id": "23cfacdb-e131-42b0-a37b-aec899913e32",
   "metadata": {},
   "outputs": [
    {
     "data": {
      "text/plain": [
       "PosixPath('/home/miltondp/projects/labs/greenelab/clustermatch_repos/clustermatch-gene-expr/base/results/gtex_v8/gene_set_enrichment/gtex_v8_data-gene_set_enrichment.rds')"
      ]
     },
     "metadata": {},
     "output_type": "display_data"
    }
   ],
   "source": [
    "output_rds_file = OUTPUT_FILE.with_suffix(\".rds\")\n",
    "display(output_rds_file)"
   ]
  },
  {
   "cell_type": "code",
   "execution_count": 35,
   "id": "67e72cd4-cf60-420f-a011-0ec188abf178",
   "metadata": {},
   "outputs": [],
   "source": [
    "with localconverter(ro.default_converter + pandas2ri.converter):\n",
    "    data_r = ro.conversion.py2rpy(data)"
   ]
  },
  {
   "cell_type": "code",
   "execution_count": 36,
   "id": "a6f614b7-d94b-4d91-8774-d60656d19cff",
   "metadata": {},
   "outputs": [
    {
     "data": {
      "text/html": [
       "\n",
       "        <span>R/rpy2 DataFrame (1333944 x 19)</span>\n",
       "        <table>\n",
       "          <thead>\n",
       "            <tr>\n",
       "              \n",
       "              <th>n_clusters</th>\n",
       "              \n",
       "              <th>cluster_id</th>\n",
       "              \n",
       "              <th>go_term_id</th>\n",
       "              \n",
       "              <th>...</th>\n",
       "              \n",
       "              <th>results_subset</th>\n",
       "              \n",
       "              <th>rich_factor</th>\n",
       "              \n",
       "              <th>fold_enrich</th>\n",
       "              \n",
       "            </tr>\n",
       "          </thead>\n",
       "          <tbody>\n",
       "          \n",
       "          <tr>\n",
       "            \n",
       "            <td>\n",
       "              2\n",
       "            </td>\n",
       "            \n",
       "            <td>\n",
       "              C0\n",
       "            </td>\n",
       "            \n",
       "            <td>\n",
       "              GO:00...\n",
       "            </td>\n",
       "            \n",
       "            <td>\n",
       "              ...\n",
       "            </td>\n",
       "            \n",
       "            <td>\n",
       "              BP_full\n",
       "            </td>\n",
       "            \n",
       "            <td>\n",
       "              0.509804\n",
       "            </td>\n",
       "            \n",
       "            <td>\n",
       "              3.438983\n",
       "            </td>\n",
       "            \n",
       "          </tr>\n",
       "          \n",
       "          <tr>\n",
       "            \n",
       "            <td>\n",
       "              2\n",
       "            </td>\n",
       "            \n",
       "            <td>\n",
       "              C0\n",
       "            </td>\n",
       "            \n",
       "            <td>\n",
       "              GO:00...\n",
       "            </td>\n",
       "            \n",
       "            <td>\n",
       "              \n",
       "            </td>\n",
       "            \n",
       "            <td>\n",
       "              BP_full\n",
       "            </td>\n",
       "            \n",
       "            <td>\n",
       "              0.588462\n",
       "            </td>\n",
       "            \n",
       "            <td>\n",
       "              3.969584\n",
       "            </td>\n",
       "            \n",
       "          </tr>\n",
       "          \n",
       "          <tr>\n",
       "            \n",
       "            <td>\n",
       "              2\n",
       "            </td>\n",
       "            \n",
       "            <td>\n",
       "              C0\n",
       "            </td>\n",
       "            \n",
       "            <td>\n",
       "              GO:00...\n",
       "            </td>\n",
       "            \n",
       "            <td>\n",
       "              \n",
       "            </td>\n",
       "            \n",
       "            <td>\n",
       "              BP_full\n",
       "            </td>\n",
       "            \n",
       "            <td>\n",
       "              0.439331\n",
       "            </td>\n",
       "            \n",
       "            <td>\n",
       "              2.963591\n",
       "            </td>\n",
       "            \n",
       "          </tr>\n",
       "          \n",
       "          <tr>\n",
       "            \n",
       "            <td>\n",
       "              2\n",
       "            </td>\n",
       "            \n",
       "            <td>\n",
       "              C0\n",
       "            </td>\n",
       "            \n",
       "            <td>\n",
       "              GO:00...\n",
       "            </td>\n",
       "            \n",
       "            <td>\n",
       "              \n",
       "            </td>\n",
       "            \n",
       "            <td>\n",
       "              BP_full\n",
       "            </td>\n",
       "            \n",
       "            <td>\n",
       "              0.478495\n",
       "            </td>\n",
       "            \n",
       "            <td>\n",
       "              3.227780\n",
       "            </td>\n",
       "            \n",
       "          </tr>\n",
       "          \n",
       "          <tr>\n",
       "            \n",
       "            <td>\n",
       "              ...\n",
       "            </td>\n",
       "            \n",
       "            <td>\n",
       "              ...\n",
       "            </td>\n",
       "            \n",
       "            <td>\n",
       "              ...\n",
       "            </td>\n",
       "            \n",
       "            <td>\n",
       "              \n",
       "            </td>\n",
       "            \n",
       "            <td>\n",
       "              ...\n",
       "            </td>\n",
       "            \n",
       "            <td>\n",
       "              ...\n",
       "            </td>\n",
       "            \n",
       "            <td>\n",
       "              ...\n",
       "            </td>\n",
       "            \n",
       "          </tr>\n",
       "          \n",
       "          <tr>\n",
       "            \n",
       "            <td>\n",
       "              200\n",
       "            </td>\n",
       "            \n",
       "            <td>\n",
       "              C146\n",
       "            </td>\n",
       "            \n",
       "            <td>\n",
       "              GO:19...\n",
       "            </td>\n",
       "            \n",
       "            <td>\n",
       "              \n",
       "            </td>\n",
       "            \n",
       "            <td>\n",
       "              MF_si...\n",
       "            </td>\n",
       "            \n",
       "            <td>\n",
       "              0.016949\n",
       "            </td>\n",
       "            \n",
       "            <td>\n",
       "              33.347458\n",
       "            </td>\n",
       "            \n",
       "          </tr>\n",
       "          \n",
       "          <tr>\n",
       "            \n",
       "            <td>\n",
       "              200\n",
       "            </td>\n",
       "            \n",
       "            <td>\n",
       "              C126\n",
       "            </td>\n",
       "            \n",
       "            <td>\n",
       "              GO:00...\n",
       "            </td>\n",
       "            \n",
       "            <td>\n",
       "              \n",
       "            </td>\n",
       "            \n",
       "            <td>\n",
       "              MF_si...\n",
       "            </td>\n",
       "            \n",
       "            <td>\n",
       "              0.222222\n",
       "            </td>\n",
       "            \n",
       "            <td>\n",
       "              8.922902\n",
       "            </td>\n",
       "            \n",
       "          </tr>\n",
       "          \n",
       "          <tr>\n",
       "            \n",
       "            <td>\n",
       "              200\n",
       "            </td>\n",
       "            \n",
       "            <td>\n",
       "              C0\n",
       "            </td>\n",
       "            \n",
       "            <td>\n",
       "              GO:00...\n",
       "            </td>\n",
       "            \n",
       "            <td>\n",
       "              \n",
       "            </td>\n",
       "            \n",
       "            <td>\n",
       "              MF_si...\n",
       "            </td>\n",
       "            \n",
       "            <td>\n",
       "              0.009259\n",
       "            </td>\n",
       "            \n",
       "            <td>\n",
       "              36.435185\n",
       "            </td>\n",
       "            \n",
       "          </tr>\n",
       "          \n",
       "          <tr>\n",
       "            \n",
       "            <td>\n",
       "              200\n",
       "            </td>\n",
       "            \n",
       "            <td>\n",
       "              C139\n",
       "            </td>\n",
       "            \n",
       "            <td>\n",
       "              GO:00...\n",
       "            </td>\n",
       "            \n",
       "            <td>\n",
       "              \n",
       "            </td>\n",
       "            \n",
       "            <td>\n",
       "              MF_si...\n",
       "            </td>\n",
       "            \n",
       "            <td>\n",
       "              0.006369\n",
       "            </td>\n",
       "            \n",
       "            <td>\n",
       "              25.063694\n",
       "            </td>\n",
       "            \n",
       "          </tr>\n",
       "          \n",
       "          </tbody>\n",
       "        </table>\n",
       "    "
      ],
      "text/plain": [
       "<rpy2.robjects.vectors.DataFrame object at 0x7fdaaf5cbe00> [RTYPES.VECSXP]\n",
       "R classes: ('data.frame',)\n",
       "[IntSexpVe..., IntSexpVe..., IntSexpVe..., IntSexpVe..., ..., IntSexpVe..., IntSexpVe..., FloatSexp..., FloatSexp...]\n",
       "  n_clusters: <class 'rpy2.robjects.vectors.IntVector'>\n",
       "  <rpy2.robjects.vectors.IntVector object at 0x7fdaaf5c3f80> [RTYPES.INTSXP]\n",
       "R classes: ('integer',)\n",
       "[2, 2, 2, 2, ..., 200, 200, 200, 200]\n",
       "  cluster_id: <class 'rpy2.robjects.vectors.FactorVector'>\n",
       "  <rpy2.robjects.vectors.FactorVector object at 0x7fdb0873ca40> [RTYPES.INTSXP]\n",
       "R classes: ('factor',)\n",
       "[C0, C0, C0, C0, ..., C146, C126, C0, C139]\n",
       "  go_term_id: <class 'rpy2.robjects.vectors.FactorVector'>\n",
       "  <rpy2.robjects.vectors.FactorVector object at 0x7fdaaf5ae980> [RTYPES.INTSXP]\n",
       "R classes: ('factor',)\n",
       "[GO:00..., GO:00..., GO:00..., GO:00..., ..., GO:19..., GO:00..., GO:00..., GO:00...]\n",
       "  go_term_desc: <class 'rpy2.robjects.vectors.FactorVector'>\n",
       "  <rpy2.robjects.vectors.FactorVector object at 0x7fdab2137940> [RTYPES.INTSXP]\n",
       "R classes: ('factor',)\n",
       "[leuko..., adapt..., immun..., regul..., ..., sulfu..., immun..., ubiqu..., calci...]\n",
       "...\n",
       "  gene_total: <class 'rpy2.robjects.vectors.FactorVector'>\n",
       "  <rpy2.robjects.vectors.FactorVector object at 0x7fdaaa3c4940> [RTYPES.INTSXP]\n",
       "R classes: ('factor',)\n",
       "[enric..., enric..., enric..., enric..., ..., enric..., enric..., enric..., enric...]\n",
       "  gene_ratio: <class 'rpy2.robjects.vectors.FactorVector'>\n",
       "  <rpy2.robjects.vectors.FactorVector object at 0x7fdaaa3c4ec0> [RTYPES.INTSXP]\n",
       "R classes: ('factor',)\n",
       "[BP_full, BP_full, BP_full, BP_full, ..., MF_si..., MF_si..., MF_si..., MF_si...]\n",
       "  bg_count: <class 'rpy2.robjects.vectors.FloatVector'>\n",
       "  <rpy2.robjects.vectors.FloatVector object at 0x7fdab2a13400> [RTYPES.REALSXP]\n",
       "R classes: ('numeric',)\n",
       "[0.509804, 0.588462, 0.439331, 0.478495, ..., 0.016949, 0.222222, 0.009259, 0.006369]\n",
       "  bg_total: <class 'rpy2.robjects.vectors.FloatVector'>\n",
       "  <rpy2.robjects.vectors.FloatVector object at 0x7fdace7d8a00> [RTYPES.REALSXP]\n",
       "R classes: ('numeric',)\n",
       "[3.438983, 3.969584, 2.963591, 3.227780, ..., 33.347458, 8.922902, 36.435185, 25.063694]"
      ]
     },
     "execution_count": 36,
     "metadata": {},
     "output_type": "execute_result"
    }
   ],
   "source": [
    "data_r"
   ]
  },
  {
   "cell_type": "code",
   "execution_count": 37,
   "id": "4fbabd33-fec9-46fd-a17f-a53c376078ff",
   "metadata": {},
   "outputs": [
    {
     "data": {
      "text/plain": [
       "<rpy2.rinterface_lib.sexp.NULLType object at 0x7fdab2080d80> [RTYPES.NILSXP]"
      ]
     },
     "execution_count": 37,
     "metadata": {},
     "output_type": "execute_result"
    }
   ],
   "source": [
    "saveRDS(data_r, str(output_rds_file))"
   ]
  },
  {
   "cell_type": "code",
   "execution_count": 38,
   "id": "520b5ed1-01b4-4434-aebc-5a6daa29a00e",
   "metadata": {},
   "outputs": [],
   "source": [
    "# testing\n",
    "data_r = readRDS(str(output_rds_file))"
   ]
  },
  {
   "cell_type": "code",
   "execution_count": 39,
   "id": "64645a31-f003-49f2-8ceb-a1b12c9945d5",
   "metadata": {},
   "outputs": [],
   "source": [
    "with localconverter(ro.default_converter + pandas2ri.converter):\n",
    "    data_again = ro.conversion.rpy2py(data_r)\n",
    "\n",
    "    # convert index to int, otherwise it's converted to string\n",
    "    data_again.index = data_again.index.astype(int)"
   ]
  },
  {
   "cell_type": "code",
   "execution_count": 40,
   "id": "a0c26630-f83e-4928-938a-1061fb39abab",
   "metadata": {},
   "outputs": [
    {
     "data": {
      "text/plain": [
       "(1333944, 19)"
      ]
     },
     "execution_count": 40,
     "metadata": {},
     "output_type": "execute_result"
    }
   ],
   "source": [
    "data_again.shape"
   ]
  },
  {
   "cell_type": "code",
   "execution_count": 41,
   "id": "1640e806-1aa5-442f-beb2-b8d3c23ab084",
   "metadata": {},
   "outputs": [
    {
     "data": {
      "text/html": [
       "<div>\n",
       "<style scoped>\n",
       "    .dataframe tbody tr th:only-of-type {\n",
       "        vertical-align: middle;\n",
       "    }\n",
       "\n",
       "    .dataframe tbody tr th {\n",
       "        vertical-align: top;\n",
       "    }\n",
       "\n",
       "    .dataframe thead th {\n",
       "        text-align: right;\n",
       "    }\n",
       "</style>\n",
       "<table border=\"1\" class=\"dataframe\">\n",
       "  <thead>\n",
       "    <tr style=\"text-align: right;\">\n",
       "      <th></th>\n",
       "      <th>n_clusters</th>\n",
       "      <th>cluster_id</th>\n",
       "      <th>go_term_id</th>\n",
       "      <th>go_term_desc</th>\n",
       "      <th>gene_count</th>\n",
       "      <th>gene_total</th>\n",
       "      <th>gene_ratio</th>\n",
       "      <th>bg_count</th>\n",
       "      <th>bg_total</th>\n",
       "      <th>bg_ratio</th>\n",
       "      <th>fdr</th>\n",
       "      <th>tissue</th>\n",
       "      <th>gene_sel_strategy</th>\n",
       "      <th>corr_method</th>\n",
       "      <th>clust_method</th>\n",
       "      <th>enrich_func</th>\n",
       "      <th>results_subset</th>\n",
       "      <th>rich_factor</th>\n",
       "      <th>fold_enrich</th>\n",
       "    </tr>\n",
       "  </thead>\n",
       "  <tbody>\n",
       "    <tr>\n",
       "      <th>0</th>\n",
       "      <td>2</td>\n",
       "      <td>C0</td>\n",
       "      <td>GO:0002443</td>\n",
       "      <td>leukocyte mediated immunity</td>\n",
       "      <td>182</td>\n",
       "      <td>523</td>\n",
       "      <td>0.347992</td>\n",
       "      <td>357</td>\n",
       "      <td>3528</td>\n",
       "      <td>0.101190</td>\n",
       "      <td>5.513573e-64</td>\n",
       "      <td>adipose_subcutaneous</td>\n",
       "      <td>var_pc_log2</td>\n",
       "      <td>clustermatch</td>\n",
       "      <td>SpectralClustering</td>\n",
       "      <td>enrichGO</td>\n",
       "      <td>BP_full</td>\n",
       "      <td>0.509804</td>\n",
       "      <td>3.438983</td>\n",
       "    </tr>\n",
       "    <tr>\n",
       "      <th>1</th>\n",
       "      <td>2</td>\n",
       "      <td>C0</td>\n",
       "      <td>GO:0002250</td>\n",
       "      <td>adaptive immune response</td>\n",
       "      <td>153</td>\n",
       "      <td>523</td>\n",
       "      <td>0.292543</td>\n",
       "      <td>260</td>\n",
       "      <td>3528</td>\n",
       "      <td>0.073696</td>\n",
       "      <td>5.619467e-64</td>\n",
       "      <td>adipose_subcutaneous</td>\n",
       "      <td>var_pc_log2</td>\n",
       "      <td>clustermatch</td>\n",
       "      <td>SpectralClustering</td>\n",
       "      <td>enrichGO</td>\n",
       "      <td>BP_full</td>\n",
       "      <td>0.588462</td>\n",
       "      <td>3.969584</td>\n",
       "    </tr>\n",
       "    <tr>\n",
       "      <th>2</th>\n",
       "      <td>2</td>\n",
       "      <td>C0</td>\n",
       "      <td>GO:0002252</td>\n",
       "      <td>immune effector process</td>\n",
       "      <td>210</td>\n",
       "      <td>523</td>\n",
       "      <td>0.401530</td>\n",
       "      <td>478</td>\n",
       "      <td>3528</td>\n",
       "      <td>0.135488</td>\n",
       "      <td>1.899014e-61</td>\n",
       "      <td>adipose_subcutaneous</td>\n",
       "      <td>var_pc_log2</td>\n",
       "      <td>clustermatch</td>\n",
       "      <td>SpectralClustering</td>\n",
       "      <td>enrichGO</td>\n",
       "      <td>BP_full</td>\n",
       "      <td>0.439331</td>\n",
       "      <td>2.963591</td>\n",
       "    </tr>\n",
       "    <tr>\n",
       "      <th>3</th>\n",
       "      <td>2</td>\n",
       "      <td>C0</td>\n",
       "      <td>GO:0050776</td>\n",
       "      <td>regulation of immune response</td>\n",
       "      <td>178</td>\n",
       "      <td>523</td>\n",
       "      <td>0.340344</td>\n",
       "      <td>372</td>\n",
       "      <td>3528</td>\n",
       "      <td>0.105442</td>\n",
       "      <td>2.790792e-57</td>\n",
       "      <td>adipose_subcutaneous</td>\n",
       "      <td>var_pc_log2</td>\n",
       "      <td>clustermatch</td>\n",
       "      <td>SpectralClustering</td>\n",
       "      <td>enrichGO</td>\n",
       "      <td>BP_full</td>\n",
       "      <td>0.478495</td>\n",
       "      <td>3.227780</td>\n",
       "    </tr>\n",
       "    <tr>\n",
       "      <th>4</th>\n",
       "      <td>2</td>\n",
       "      <td>C0</td>\n",
       "      <td>GO:0006909</td>\n",
       "      <td>phagocytosis</td>\n",
       "      <td>112</td>\n",
       "      <td>523</td>\n",
       "      <td>0.214149</td>\n",
       "      <td>171</td>\n",
       "      <td>3528</td>\n",
       "      <td>0.048469</td>\n",
       "      <td>3.019211e-52</td>\n",
       "      <td>adipose_subcutaneous</td>\n",
       "      <td>var_pc_log2</td>\n",
       "      <td>clustermatch</td>\n",
       "      <td>SpectralClustering</td>\n",
       "      <td>enrichGO</td>\n",
       "      <td>BP_full</td>\n",
       "      <td>0.654971</td>\n",
       "      <td>4.418235</td>\n",
       "    </tr>\n",
       "  </tbody>\n",
       "</table>\n",
       "</div>"
      ],
      "text/plain": [
       "   n_clusters cluster_id  go_term_id                   go_term_desc  \\\n",
       "0           2         C0  GO:0002443    leukocyte mediated immunity   \n",
       "1           2         C0  GO:0002250       adaptive immune response   \n",
       "2           2         C0  GO:0002252        immune effector process   \n",
       "3           2         C0  GO:0050776  regulation of immune response   \n",
       "4           2         C0  GO:0006909                   phagocytosis   \n",
       "\n",
       "   gene_count  gene_total  gene_ratio  bg_count  bg_total  bg_ratio  \\\n",
       "0         182         523    0.347992       357      3528  0.101190   \n",
       "1         153         523    0.292543       260      3528  0.073696   \n",
       "2         210         523    0.401530       478      3528  0.135488   \n",
       "3         178         523    0.340344       372      3528  0.105442   \n",
       "4         112         523    0.214149       171      3528  0.048469   \n",
       "\n",
       "            fdr                tissue gene_sel_strategy   corr_method  \\\n",
       "0  5.513573e-64  adipose_subcutaneous       var_pc_log2  clustermatch   \n",
       "1  5.619467e-64  adipose_subcutaneous       var_pc_log2  clustermatch   \n",
       "2  1.899014e-61  adipose_subcutaneous       var_pc_log2  clustermatch   \n",
       "3  2.790792e-57  adipose_subcutaneous       var_pc_log2  clustermatch   \n",
       "4  3.019211e-52  adipose_subcutaneous       var_pc_log2  clustermatch   \n",
       "\n",
       "         clust_method enrich_func results_subset  rich_factor  fold_enrich  \n",
       "0  SpectralClustering    enrichGO        BP_full     0.509804     3.438983  \n",
       "1  SpectralClustering    enrichGO        BP_full     0.588462     3.969584  \n",
       "2  SpectralClustering    enrichGO        BP_full     0.439331     2.963591  \n",
       "3  SpectralClustering    enrichGO        BP_full     0.478495     3.227780  \n",
       "4  SpectralClustering    enrichGO        BP_full     0.654971     4.418235  "
      ]
     },
     "execution_count": 41,
     "metadata": {},
     "output_type": "execute_result"
    }
   ],
   "source": [
    "data_again.head()"
   ]
  },
  {
   "cell_type": "code",
   "execution_count": 45,
   "id": "9e968267-09e7-449f-9d14-8203cd6c7bfc",
   "metadata": {},
   "outputs": [],
   "source": [
    "pd.testing.assert_frame_equal(\n",
    "    data,\n",
    "    data_again,\n",
    "    check_names=False,  # do not check \"name\" attribute of index and column\n",
    "    check_exact=True,  # since this is a binary format, it should match exactly\n",
    ")"
   ]
  },
  {
   "cell_type": "markdown",
   "id": "ee5cd5ae-a935-46fb-bfc7-5d66ff274fe2",
   "metadata": {},
   "source": [
    "## tsv.gz"
   ]
  },
  {
   "cell_type": "code",
   "execution_count": 46,
   "id": "cea96351-64fe-4bbf-a575-5587a22b79ec",
   "metadata": {},
   "outputs": [
    {
     "data": {
      "text/plain": [
       "PosixPath('/home/miltondp/projects/labs/greenelab/clustermatch_repos/clustermatch-gene-expr/base/results/gtex_v8/gene_set_enrichment/gtex_v8_data-gene_set_enrichment.tsv.gz')"
      ]
     },
     "metadata": {},
     "output_type": "display_data"
    }
   ],
   "source": [
    "output_text_file = OUTPUT_FILE.with_suffix(\".tsv.gz\")\n",
    "display(output_text_file)"
   ]
  },
  {
   "cell_type": "code",
   "execution_count": null,
   "id": "09330074-7cea-42d4-bc13-6af3131da12e",
   "metadata": {},
   "outputs": [],
   "source": [
    "data.to_csv(output_text_file, sep=\"\\t\", index=False, float_format=\"%.5e\")"
   ]
  },
  {
   "cell_type": "code",
   "execution_count": null,
   "id": "2f960ae8-d392-4768-9d2f-f7ed267ec60e",
   "metadata": {},
   "outputs": [],
   "source": [
    "# testing\n",
    "data_again = pd.read_csv(output_text_file, sep=\"\\t\")  # , index_col=0)"
   ]
  },
  {
   "cell_type": "code",
   "execution_count": null,
   "id": "04b581d2-6fc6-42b1-8f62-c166cb70986c",
   "metadata": {},
   "outputs": [],
   "source": [
    "data_again.shape"
   ]
  },
  {
   "cell_type": "code",
   "execution_count": null,
   "id": "7dc97eb0-dac3-4a23-aaa0-fc2e351dcd15",
   "metadata": {},
   "outputs": [],
   "source": [
    "data_again.head()"
   ]
  },
  {
   "cell_type": "code",
   "execution_count": null,
   "id": "8e85fff8-dde9-439d-808c-c053374c2785",
   "metadata": {},
   "outputs": [],
   "source": [
    "pd.testing.assert_frame_equal(\n",
    "    data,\n",
    "    data_again,\n",
    "    check_names=False,  # do not check \"name\" attribute of index and column\n",
    "    check_dtype=False,  # do not check dtypes: do not distinguish between int64 and int32, for instance\n",
    "    check_categorical=False,\n",
    "    check_exact=False,\n",
    "    rtol=0.0,\n",
    "    atol=5e-4,\n",
    ")"
   ]
  },
  {
   "cell_type": "markdown",
   "id": "7cf895a9-55dc-4cfb-bab0-3b535cb4e6fc",
   "metadata": {},
   "source": [
    "# QQ plot"
   ]
  },
  {
   "cell_type": "code",
   "execution_count": 25,
   "id": "4bd4e9cc-d794-4050-831d-147761a117e0",
   "metadata": {},
   "outputs": [],
   "source": [
    "PERFORMANCE_MEASURE = \"fdr\""
   ]
  },
  {
   "cell_type": "code",
   "execution_count": 26,
   "id": "8303582f-c5d3-4ec0-8268-69dcc5cca9d4",
   "metadata": {},
   "outputs": [
    {
     "data": {
      "text/plain": [
       "array([0.        , 0.00010001, 0.00020002, 0.00030003, 0.00040004,\n",
       "       0.00050005, 0.00060006, 0.00070007, 0.00080008, 0.00090009])"
      ]
     },
     "metadata": {},
     "output_type": "display_data"
    },
    {
     "data": {
      "text/plain": [
       "array([0.99909991, 0.99919992, 0.99929993, 0.99939994, 0.99949995,\n",
       "       0.99959996, 0.99969997, 0.99979998, 0.99989999, 1.        ])"
      ]
     },
     "metadata": {},
     "output_type": "display_data"
    }
   ],
   "source": [
    "QUANTILES = np.linspace(0, 1, 10000)\n",
    "display(QUANTILES[:10])\n",
    "display(QUANTILES[-10:])"
   ]
  },
  {
   "cell_type": "code",
   "execution_count": 27,
   "id": "bfb6baec-c621-4f69-821b-06951a64f79d",
   "metadata": {},
   "outputs": [
    {
     "data": {
      "text/plain": [
       "['BP_full', 'BP_simplified_070', 'CC_full', 'CC_simplified_070', 'MF_full', 'MF_simplified_070']\n",
       "Categories (6, object): ['BP_full', 'BP_simplified_070', 'CC_full', 'CC_simplified_070', 'MF_full', 'MF_simplified_070']"
      ]
     },
     "execution_count": 27,
     "metadata": {},
     "output_type": "execute_result"
    }
   ],
   "source": [
    "df[\"results_subset\"].unique()"
   ]
  },
  {
   "cell_type": "code",
   "execution_count": 28,
   "id": "f6d034a1-a174-400a-8f12-ee0de9752a50",
   "metadata": {},
   "outputs": [],
   "source": [
    "df_subset = df[\n",
    "    #     (df.tissue == \"whole_blood\")\n",
    "    (df.gene_sel_strategy == \"var_pc_log2\")\n",
    "    & (df.clust_method == \"SpectralClustering\")\n",
    "    & (df.enrich_func == \"enrichGO\")\n",
    "    & (df.results_subset == \"BP_simplified_070\")\n",
    "]"
   ]
  },
  {
   "cell_type": "code",
   "execution_count": 29,
   "id": "d48f3a94-3f75-4fb4-aa4b-68ae9a976234",
   "metadata": {},
   "outputs": [
    {
     "data": {
      "text/plain": [
       "(289179, 19)"
      ]
     },
     "execution_count": 29,
     "metadata": {},
     "output_type": "execute_result"
    }
   ],
   "source": [
    "df_subset.shape"
   ]
  },
  {
   "cell_type": "code",
   "execution_count": 30,
   "id": "34e253be-b397-43ad-9cda-01a6d8313b6f",
   "metadata": {},
   "outputs": [
    {
     "data": {
      "text/html": [
       "<div>\n",
       "<style scoped>\n",
       "    .dataframe tbody tr th:only-of-type {\n",
       "        vertical-align: middle;\n",
       "    }\n",
       "\n",
       "    .dataframe tbody tr th {\n",
       "        vertical-align: top;\n",
       "    }\n",
       "\n",
       "    .dataframe thead th {\n",
       "        text-align: right;\n",
       "    }\n",
       "</style>\n",
       "<table border=\"1\" class=\"dataframe\">\n",
       "  <thead>\n",
       "    <tr style=\"text-align: right;\">\n",
       "      <th></th>\n",
       "      <th>n_clusters</th>\n",
       "      <th>cluster_id</th>\n",
       "      <th>go_term_id</th>\n",
       "      <th>go_term_desc</th>\n",
       "      <th>gene_count</th>\n",
       "      <th>gene_total</th>\n",
       "      <th>gene_ratio</th>\n",
       "      <th>bg_count</th>\n",
       "      <th>bg_total</th>\n",
       "      <th>bg_ratio</th>\n",
       "      <th>fdr</th>\n",
       "      <th>tissue</th>\n",
       "      <th>gene_sel_strategy</th>\n",
       "      <th>corr_method</th>\n",
       "      <th>clust_method</th>\n",
       "      <th>enrich_func</th>\n",
       "      <th>results_subset</th>\n",
       "      <th>rich_factor</th>\n",
       "      <th>fold_enrich</th>\n",
       "    </tr>\n",
       "  </thead>\n",
       "  <tbody>\n",
       "    <tr>\n",
       "      <th>50515</th>\n",
       "      <td>2</td>\n",
       "      <td>C0</td>\n",
       "      <td>GO:0002443</td>\n",
       "      <td>leukocyte mediated immunity</td>\n",
       "      <td>182</td>\n",
       "      <td>523</td>\n",
       "      <td>0.347992</td>\n",
       "      <td>357</td>\n",
       "      <td>3528</td>\n",
       "      <td>0.101190</td>\n",
       "      <td>5.513573e-64</td>\n",
       "      <td>adipose_subcutaneous</td>\n",
       "      <td>var_pc_log2</td>\n",
       "      <td>clustermatch</td>\n",
       "      <td>SpectralClustering</td>\n",
       "      <td>enrichGO</td>\n",
       "      <td>BP_simplified_070</td>\n",
       "      <td>0.509804</td>\n",
       "      <td>3.438983</td>\n",
       "    </tr>\n",
       "    <tr>\n",
       "      <th>50516</th>\n",
       "      <td>2</td>\n",
       "      <td>C0</td>\n",
       "      <td>GO:0002250</td>\n",
       "      <td>adaptive immune response</td>\n",
       "      <td>153</td>\n",
       "      <td>523</td>\n",
       "      <td>0.292543</td>\n",
       "      <td>260</td>\n",
       "      <td>3528</td>\n",
       "      <td>0.073696</td>\n",
       "      <td>5.619467e-64</td>\n",
       "      <td>adipose_subcutaneous</td>\n",
       "      <td>var_pc_log2</td>\n",
       "      <td>clustermatch</td>\n",
       "      <td>SpectralClustering</td>\n",
       "      <td>enrichGO</td>\n",
       "      <td>BP_simplified_070</td>\n",
       "      <td>0.588462</td>\n",
       "      <td>3.969584</td>\n",
       "    </tr>\n",
       "    <tr>\n",
       "      <th>50517</th>\n",
       "      <td>2</td>\n",
       "      <td>C0</td>\n",
       "      <td>GO:0050776</td>\n",
       "      <td>regulation of immune response</td>\n",
       "      <td>178</td>\n",
       "      <td>523</td>\n",
       "      <td>0.340344</td>\n",
       "      <td>372</td>\n",
       "      <td>3528</td>\n",
       "      <td>0.105442</td>\n",
       "      <td>2.790792e-57</td>\n",
       "      <td>adipose_subcutaneous</td>\n",
       "      <td>var_pc_log2</td>\n",
       "      <td>clustermatch</td>\n",
       "      <td>SpectralClustering</td>\n",
       "      <td>enrichGO</td>\n",
       "      <td>BP_simplified_070</td>\n",
       "      <td>0.478495</td>\n",
       "      <td>3.227780</td>\n",
       "    </tr>\n",
       "    <tr>\n",
       "      <th>50518</th>\n",
       "      <td>2</td>\n",
       "      <td>C0</td>\n",
       "      <td>GO:0006909</td>\n",
       "      <td>phagocytosis</td>\n",
       "      <td>112</td>\n",
       "      <td>523</td>\n",
       "      <td>0.214149</td>\n",
       "      <td>171</td>\n",
       "      <td>3528</td>\n",
       "      <td>0.048469</td>\n",
       "      <td>3.019211e-52</td>\n",
       "      <td>adipose_subcutaneous</td>\n",
       "      <td>var_pc_log2</td>\n",
       "      <td>clustermatch</td>\n",
       "      <td>SpectralClustering</td>\n",
       "      <td>enrichGO</td>\n",
       "      <td>BP_simplified_070</td>\n",
       "      <td>0.654971</td>\n",
       "      <td>4.418235</td>\n",
       "    </tr>\n",
       "    <tr>\n",
       "      <th>50519</th>\n",
       "      <td>2</td>\n",
       "      <td>C0</td>\n",
       "      <td>GO:0002429</td>\n",
       "      <td>immune response-activating cell surface recept...</td>\n",
       "      <td>116</td>\n",
       "      <td>523</td>\n",
       "      <td>0.221797</td>\n",
       "      <td>187</td>\n",
       "      <td>3528</td>\n",
       "      <td>0.053005</td>\n",
       "      <td>1.120564e-50</td>\n",
       "      <td>adipose_subcutaneous</td>\n",
       "      <td>var_pc_log2</td>\n",
       "      <td>clustermatch</td>\n",
       "      <td>SpectralClustering</td>\n",
       "      <td>enrichGO</td>\n",
       "      <td>BP_simplified_070</td>\n",
       "      <td>0.620321</td>\n",
       "      <td>4.184497</td>\n",
       "    </tr>\n",
       "  </tbody>\n",
       "</table>\n",
       "</div>"
      ],
      "text/plain": [
       "       n_clusters cluster_id  go_term_id  \\\n",
       "50515           2         C0  GO:0002443   \n",
       "50516           2         C0  GO:0002250   \n",
       "50517           2         C0  GO:0050776   \n",
       "50518           2         C0  GO:0006909   \n",
       "50519           2         C0  GO:0002429   \n",
       "\n",
       "                                            go_term_desc  gene_count  \\\n",
       "50515                        leukocyte mediated immunity         182   \n",
       "50516                           adaptive immune response         153   \n",
       "50517                      regulation of immune response         178   \n",
       "50518                                       phagocytosis         112   \n",
       "50519  immune response-activating cell surface recept...         116   \n",
       "\n",
       "       gene_total  gene_ratio  bg_count  bg_total  bg_ratio           fdr  \\\n",
       "50515         523    0.347992       357      3528  0.101190  5.513573e-64   \n",
       "50516         523    0.292543       260      3528  0.073696  5.619467e-64   \n",
       "50517         523    0.340344       372      3528  0.105442  2.790792e-57   \n",
       "50518         523    0.214149       171      3528  0.048469  3.019211e-52   \n",
       "50519         523    0.221797       187      3528  0.053005  1.120564e-50   \n",
       "\n",
       "                     tissue gene_sel_strategy   corr_method  \\\n",
       "50515  adipose_subcutaneous       var_pc_log2  clustermatch   \n",
       "50516  adipose_subcutaneous       var_pc_log2  clustermatch   \n",
       "50517  adipose_subcutaneous       var_pc_log2  clustermatch   \n",
       "50518  adipose_subcutaneous       var_pc_log2  clustermatch   \n",
       "50519  adipose_subcutaneous       var_pc_log2  clustermatch   \n",
       "\n",
       "             clust_method enrich_func     results_subset  rich_factor  \\\n",
       "50515  SpectralClustering    enrichGO  BP_simplified_070     0.509804   \n",
       "50516  SpectralClustering    enrichGO  BP_simplified_070     0.588462   \n",
       "50517  SpectralClustering    enrichGO  BP_simplified_070     0.478495   \n",
       "50518  SpectralClustering    enrichGO  BP_simplified_070     0.654971   \n",
       "50519  SpectralClustering    enrichGO  BP_simplified_070     0.620321   \n",
       "\n",
       "       fold_enrich  \n",
       "50515     3.438983  \n",
       "50516     3.969584  \n",
       "50517     3.227780  \n",
       "50518     4.418235  \n",
       "50519     4.184497  "
      ]
     },
     "execution_count": 30,
     "metadata": {},
     "output_type": "execute_result"
    }
   ],
   "source": [
    "df_subset.head()"
   ]
  },
  {
   "cell_type": "code",
   "execution_count": 31,
   "id": "ff97eb80-229c-45ad-8525-c8ee880c5469",
   "metadata": {},
   "outputs": [
    {
     "data": {
      "text/plain": [
       "['clustermatch', 'pearson_abs', 'spearman_abs']\n",
       "Categories (3, object): ['clustermatch', 'pearson_abs', 'spearman_abs']"
      ]
     },
     "metadata": {},
     "output_type": "display_data"
    }
   ],
   "source": [
    "df_methods = df_subset[\"corr_method\"].unique()\n",
    "display(df_methods)"
   ]
  },
  {
   "cell_type": "code",
   "execution_count": 32,
   "id": "7a1e709f-9af6-45fb-9c58-89dd7c4f0611",
   "metadata": {},
   "outputs": [
    {
     "data": {
      "text/plain": [
       "'clustermatch - 92628'"
      ]
     },
     "metadata": {},
     "output_type": "display_data"
    },
    {
     "data": {
      "text/plain": [
       "'pearson_abs - 106296'"
      ]
     },
     "metadata": {},
     "output_type": "display_data"
    },
    {
     "data": {
      "text/plain": [
       "'spearman_abs - 90255'"
      ]
     },
     "metadata": {},
     "output_type": "display_data"
    }
   ],
   "source": [
    "results_per_method = {}\n",
    "\n",
    "for m in df_methods:\n",
    "    df_values = df_subset[df_subset.corr_method == m][PERFORMANCE_MEASURE].to_numpy()\n",
    "    display(f\"{m} - {df_values.shape[0]}\")\n",
    "\n",
    "    if PERFORMANCE_MEASURE == \"fdr\":\n",
    "        df_values = pd.Series(-np.log10(df_values))\n",
    "\n",
    "    results_per_method[m] = df_values.quantile(QUANTILES)"
   ]
  },
  {
   "cell_type": "code",
   "execution_count": 33,
   "id": "884fd9ec-a020-4732-b540-da18ae16440c",
   "metadata": {},
   "outputs": [],
   "source": [
    "quantiles_df = pd.DataFrame(results_per_method)"
   ]
  },
  {
   "cell_type": "code",
   "execution_count": 34,
   "id": "6f252f89-f965-4aec-a307-d7dbf2e62f9a",
   "metadata": {},
   "outputs": [
    {
     "data": {
      "text/plain": [
       "(10000, 3)"
      ]
     },
     "execution_count": 34,
     "metadata": {},
     "output_type": "execute_result"
    }
   ],
   "source": [
    "quantiles_df.shape"
   ]
  },
  {
   "cell_type": "code",
   "execution_count": 35,
   "id": "56e35241-b6ae-4b6a-9a26-c7925d7c9009",
   "metadata": {},
   "outputs": [
    {
     "data": {
      "text/html": [
       "<div>\n",
       "<style scoped>\n",
       "    .dataframe tbody tr th:only-of-type {\n",
       "        vertical-align: middle;\n",
       "    }\n",
       "\n",
       "    .dataframe tbody tr th {\n",
       "        vertical-align: top;\n",
       "    }\n",
       "\n",
       "    .dataframe thead th {\n",
       "        text-align: right;\n",
       "    }\n",
       "</style>\n",
       "<table border=\"1\" class=\"dataframe\">\n",
       "  <thead>\n",
       "    <tr style=\"text-align: right;\">\n",
       "      <th></th>\n",
       "      <th>clustermatch</th>\n",
       "      <th>pearson_abs</th>\n",
       "      <th>spearman_abs</th>\n",
       "    </tr>\n",
       "  </thead>\n",
       "  <tbody>\n",
       "    <tr>\n",
       "      <th>0.0000</th>\n",
       "      <td>1.301039</td>\n",
       "      <td>1.301030</td>\n",
       "      <td>1.301071</td>\n",
       "    </tr>\n",
       "    <tr>\n",
       "      <th>0.0001</th>\n",
       "      <td>1.301089</td>\n",
       "      <td>1.301134</td>\n",
       "      <td>1.301168</td>\n",
       "    </tr>\n",
       "    <tr>\n",
       "      <th>0.0002</th>\n",
       "      <td>1.301175</td>\n",
       "      <td>1.301377</td>\n",
       "      <td>1.301295</td>\n",
       "    </tr>\n",
       "    <tr>\n",
       "      <th>0.0003</th>\n",
       "      <td>1.301317</td>\n",
       "      <td>1.301514</td>\n",
       "      <td>1.301514</td>\n",
       "    </tr>\n",
       "    <tr>\n",
       "      <th>0.0004</th>\n",
       "      <td>1.301390</td>\n",
       "      <td>1.301548</td>\n",
       "      <td>1.301647</td>\n",
       "    </tr>\n",
       "  </tbody>\n",
       "</table>\n",
       "</div>"
      ],
      "text/plain": [
       "        clustermatch  pearson_abs  spearman_abs\n",
       "0.0000      1.301039     1.301030      1.301071\n",
       "0.0001      1.301089     1.301134      1.301168\n",
       "0.0002      1.301175     1.301377      1.301295\n",
       "0.0003      1.301317     1.301514      1.301514\n",
       "0.0004      1.301390     1.301548      1.301647"
      ]
     },
     "execution_count": 35,
     "metadata": {},
     "output_type": "execute_result"
    }
   ],
   "source": [
    "quantiles_df.head()"
   ]
  },
  {
   "cell_type": "code",
   "execution_count": 36,
   "id": "44e23343-168e-4aaa-ab1b-34917ad6f54c",
   "metadata": {},
   "outputs": [
    {
     "data": {
      "text/html": [
       "<div>\n",
       "<style scoped>\n",
       "    .dataframe tbody tr th:only-of-type {\n",
       "        vertical-align: middle;\n",
       "    }\n",
       "\n",
       "    .dataframe tbody tr th {\n",
       "        vertical-align: top;\n",
       "    }\n",
       "\n",
       "    .dataframe thead th {\n",
       "        text-align: right;\n",
       "    }\n",
       "</style>\n",
       "<table border=\"1\" class=\"dataframe\">\n",
       "  <thead>\n",
       "    <tr style=\"text-align: right;\">\n",
       "      <th></th>\n",
       "      <th>clustermatch</th>\n",
       "      <th>pearson_abs</th>\n",
       "      <th>spearman_abs</th>\n",
       "    </tr>\n",
       "  </thead>\n",
       "  <tbody>\n",
       "    <tr>\n",
       "      <th>count</th>\n",
       "      <td>10000.000000</td>\n",
       "      <td>10000.000000</td>\n",
       "      <td>10000.000000</td>\n",
       "    </tr>\n",
       "    <tr>\n",
       "      <th>mean</th>\n",
       "      <td>4.233728</td>\n",
       "      <td>4.067377</td>\n",
       "      <td>4.320075</td>\n",
       "    </tr>\n",
       "    <tr>\n",
       "      <th>std</th>\n",
       "      <td>7.170558</td>\n",
       "      <td>6.420876</td>\n",
       "      <td>8.528550</td>\n",
       "    </tr>\n",
       "    <tr>\n",
       "      <th>min</th>\n",
       "      <td>1.301039</td>\n",
       "      <td>1.301030</td>\n",
       "      <td>1.301071</td>\n",
       "    </tr>\n",
       "    <tr>\n",
       "      <th>25%</th>\n",
       "      <td>1.550101</td>\n",
       "      <td>1.569726</td>\n",
       "      <td>1.509439</td>\n",
       "    </tr>\n",
       "    <tr>\n",
       "      <th>50%</th>\n",
       "      <td>2.127880</td>\n",
       "      <td>2.172739</td>\n",
       "      <td>2.012239</td>\n",
       "    </tr>\n",
       "    <tr>\n",
       "      <th>75%</th>\n",
       "      <td>3.692332</td>\n",
       "      <td>3.734521</td>\n",
       "      <td>3.460900</td>\n",
       "    </tr>\n",
       "    <tr>\n",
       "      <th>max</th>\n",
       "      <td>116.013495</td>\n",
       "      <td>116.002979</td>\n",
       "      <td>141.840455</td>\n",
       "    </tr>\n",
       "  </tbody>\n",
       "</table>\n",
       "</div>"
      ],
      "text/plain": [
       "       clustermatch   pearson_abs  spearman_abs\n",
       "count  10000.000000  10000.000000  10000.000000\n",
       "mean       4.233728      4.067377      4.320075\n",
       "std        7.170558      6.420876      8.528550\n",
       "min        1.301039      1.301030      1.301071\n",
       "25%        1.550101      1.569726      1.509439\n",
       "50%        2.127880      2.172739      2.012239\n",
       "75%        3.692332      3.734521      3.460900\n",
       "max      116.013495    116.002979    141.840455"
      ]
     },
     "execution_count": 36,
     "metadata": {},
     "output_type": "execute_result"
    }
   ],
   "source": [
    "quantiles_df.describe()"
   ]
  },
  {
   "cell_type": "code",
   "execution_count": 37,
   "id": "673c0ebb-ace2-40c3-b1d4-71ab39df3010",
   "metadata": {},
   "outputs": [
    {
     "data": {
      "text/plain": [
       "Text(0.5, 1.0, 'Gene Ontology (fdr)')"
      ]
     },
     "execution_count": 37,
     "metadata": {},
     "output_type": "execute_result"
    },
    {
     "data": {
      "image/png": "[encoded data removed]",
      "text/plain": [
       "<Figure size 720x576 with 1 Axes>"
      ]
     },
     "metadata": {
      "needs_background": "light"
     },
     "output_type": "display_data"
    }
   ],
   "source": [
    "fig, ax = plt.subplots(figsize=(10, 8))\n",
    "\n",
    "sns.scatterplot(\n",
    "    data=quantiles_df,\n",
    "    x=\"pearson_abs\",\n",
    "    y=\"clustermatch\",\n",
    "    label=\"vs Pearson (abs)\",\n",
    "    ax=ax,\n",
    ")\n",
    "\n",
    "sns.scatterplot(\n",
    "    data=quantiles_df,\n",
    "    x=\"spearman_abs\",\n",
    "    y=\"clustermatch\",\n",
    "    label=\"vs Spearman (abs)\",\n",
    "    ax=ax,\n",
    ")\n",
    "\n",
    "ax.set_xlabel(None)\n",
    "# ax.set_ylabel(None)\n",
    "\n",
    "min_val = min((quantiles_df.iloc[:, 0].min(), quantiles_df.iloc[:, 1].min()))\n",
    "max_val = max((quantiles_df.iloc[:, 0].max(), quantiles_df.iloc[:, 1].max()))\n",
    "ax.plot([min_val, max_val], [min_val, max_val], \"k\", linewidth=0.5)\n",
    "\n",
    "ax.set_title(f\"Gene Ontology ({PERFORMANCE_MEASURE})\")"
   ]
  },
  {
   "cell_type": "markdown",
   "id": "9fed21a5-fbe7-41b8-bb2e-00d5cb340b11",
   "metadata": {},
   "source": [
    "Clustermatch (multi pattern) outperforms pearson (linear and abs), although pearson find most significant associations towards the\n",
    "right end of the distribution.\n",
    "\n",
    "However, Clustermatch does not outperform spearman (monotonic and abs), which provides more significant results across the entire distribution."
   ]
  },
  {
   "cell_type": "code",
   "execution_count": null,
   "id": "72a954fe-b9c9-4f68-bca3-7a58e558cc3b",
   "metadata": {},
   "outputs": [],
   "source": []
  }
 ],
 "metadata": {
  "jupytext": {
   "cell_metadata_filter": "all,-execution,-papermill,-trusted"
  },
  "kernelspec": {
   "display_name": "Python 3 (ipykernel)",
   "language": "python",
   "name": "python3"
  },
  "language_info": {
   "codemirror_mode": {
    "name": "ipython",
    "version": 3
   },
   "file_extension": ".py",
   "mimetype": "text/x-python",
   "name": "python",
   "nbconvert_exporter": "python",
   "pygments_lexer": "ipython3",
   "version": "3.9.7"
  }
 },
 "nbformat": 4,
 "nbformat_minor": 5
}
