{
 "cells": [
  {
   "cell_type": "markdown",
   "id": "4b79d660-2ab1-42c2-a4d5-467d2534e5dc",
   "metadata": {
    "papermill": {
     "duration": 0.061393,
     "end_time": "2021-10-03T09:59:36.728514",
     "exception": false,
     "start_time": "2021-10-03T09:59:36.667121",
     "status": "completed"
    },
    "tags": []
   },
   "source": [
    "# Description"
   ]
  },
  {
   "cell_type": "markdown",
   "id": "9f0b6db4-6f06-4856-a4b8-e24548d0f1d9",
   "metadata": {
    "papermill": {
     "duration": 0.025188,
     "end_time": "2021-10-03T09:59:36.779997",
     "exception": false,
     "start_time": "2021-10-03T09:59:36.754809",
     "status": "completed"
    },
    "tags": []
   },
   "source": [
    "Combines all gene enrichment results found in input directory."
   ]
  },
  {
   "cell_type": "markdown",
   "id": "dfb4a759-748a-4a19-b773-992a23cb9327",
   "metadata": {
    "papermill": {
     "duration": 0.025495,
     "end_time": "2021-10-03T09:59:36.832201",
     "exception": false,
     "start_time": "2021-10-03T09:59:36.806706",
     "status": "completed"
    },
    "tags": []
   },
   "source": [
    "# Modules loading"
   ]
  },
  {
   "cell_type": "code",
   "execution_count": 1,
   "id": "98e28052-34cc-43fc-87f3-a1b61eeb14fc",
   "metadata": {
    "execution": {
     "iopub.execute_input": "2021-10-03T09:59:36.890048Z",
     "iopub.status.busy": "2021-10-03T09:59:36.889568Z",
     "iopub.status.idle": "2021-10-03T09:59:37.776404Z",
     "shell.execute_reply": "2021-10-03T09:59:37.775851Z"
    },
    "papermill": {
     "duration": 0.919182,
     "end_time": "2021-10-03T09:59:37.776510",
     "exception": false,
     "start_time": "2021-10-03T09:59:36.857328",
     "status": "completed"
    },
    "tags": []
   },
   "outputs": [],
   "source": [
    "import re\n",
    "\n",
    "import numpy as np\n",
    "import pandas as pd\n",
    "from statsmodels.stats.multitest import multipletests\n",
    "import matplotlib.pyplot as plt\n",
    "import seaborn as sns\n",
    "from tqdm import tqdm\n",
    "\n",
    "from clustermatch import conf"
   ]
  },
  {
   "cell_type": "markdown",
   "id": "76fa50d9-680c-4107-b705-009070735d89",
   "metadata": {
    "papermill": {
     "duration": 0.025224,
     "end_time": "2021-10-03T09:59:37.827730",
     "exception": false,
     "start_time": "2021-10-03T09:59:37.802506",
     "status": "completed"
    },
    "tags": []
   },
   "source": [
    "# Settings"
   ]
  },
  {
   "cell_type": "code",
   "execution_count": 2,
   "id": "90dbb8f8-1b7e-4283-9d0a-668045dbe1ae",
   "metadata": {
    "execution": {
     "iopub.execute_input": "2021-10-03T09:59:37.883582Z",
     "iopub.status.busy": "2021-10-03T09:59:37.883113Z",
     "iopub.status.idle": "2021-10-03T09:59:37.884773Z",
     "shell.execute_reply": "2021-10-03T09:59:37.885122Z"
    },
    "papermill": {
     "duration": 0.03095,
     "end_time": "2021-10-03T09:59:37.885230",
     "exception": false,
     "start_time": "2021-10-03T09:59:37.854280",
     "status": "completed"
    },
    "tags": []
   },
   "outputs": [],
   "source": [
    "DATASET_CONFIG = conf.GTEX"
   ]
  },
  {
   "cell_type": "code",
   "execution_count": 3,
   "id": "7e12ded2-5649-4e35-a946-07c8724ea421",
   "metadata": {
    "execution": {
     "iopub.execute_input": "2021-10-03T09:59:37.945737Z",
     "iopub.status.busy": "2021-10-03T09:59:37.945258Z",
     "iopub.status.idle": "2021-10-03T09:59:37.946739Z",
     "shell.execute_reply": "2021-10-03T09:59:37.947101Z"
    },
    "papermill": {
     "duration": 0.035435,
     "end_time": "2021-10-03T09:59:37.947223",
     "exception": false,
     "start_time": "2021-10-03T09:59:37.911788",
     "status": "completed"
    },
    "tags": []
   },
   "outputs": [],
   "source": [
    "# ENRICH_FUNCTION = \"enrichGO\""
   ]
  },
  {
   "cell_type": "code",
   "execution_count": 4,
   "id": "f10c4d5f-e737-4066-866a-e4f2404e5922",
   "metadata": {
    "execution": {
     "iopub.execute_input": "2021-10-03T09:59:38.004665Z",
     "iopub.status.busy": "2021-10-03T09:59:38.004190Z",
     "iopub.status.idle": "2021-10-03T09:59:38.006112Z",
     "shell.execute_reply": "2021-10-03T09:59:38.005662Z"
    },
    "papermill": {
     "duration": 0.031367,
     "end_time": "2021-10-03T09:59:38.006207",
     "exception": false,
     "start_time": "2021-10-03T09:59:37.974840",
     "status": "completed"
    },
    "tags": []
   },
   "outputs": [],
   "source": [
    "# CORRELATION_METHOD_NAME = \"clustermatch\""
   ]
  },
  {
   "cell_type": "code",
   "execution_count": 5,
   "id": "ff5b04ea-1161-499a-9aff-a3f5f0efd7ce",
   "metadata": {
    "execution": {
     "iopub.execute_input": "2021-10-03T09:59:38.060880Z",
     "iopub.status.busy": "2021-10-03T09:59:38.060414Z",
     "iopub.status.idle": "2021-10-03T09:59:38.062634Z",
     "shell.execute_reply": "2021-10-03T09:59:38.062197Z"
    },
    "papermill": {
     "duration": 0.030428,
     "end_time": "2021-10-03T09:59:38.062727",
     "exception": false,
     "start_time": "2021-10-03T09:59:38.032299",
     "status": "completed"
    },
    "tags": []
   },
   "outputs": [],
   "source": [
    "# GENE_SELECTION_STRATEGY = \"var_pc_log2\""
   ]
  },
  {
   "cell_type": "code",
   "execution_count": 6,
   "id": "c0e27c63-0b49-47f1-8147-6c47b90ea3d9",
   "metadata": {
    "execution": {
     "iopub.execute_input": "2021-10-03T09:59:38.117312Z",
     "iopub.status.busy": "2021-10-03T09:59:38.116836Z",
     "iopub.status.idle": "2021-10-03T09:59:38.118475Z",
     "shell.execute_reply": "2021-10-03T09:59:38.118843Z"
    },
    "papermill": {
     "duration": 0.030238,
     "end_time": "2021-10-03T09:59:38.118958",
     "exception": false,
     "start_time": "2021-10-03T09:59:38.088720",
     "status": "completed"
    },
    "tags": []
   },
   "outputs": [],
   "source": [
    "# # clusterProfiler settings\n",
    "# ENRICH_FUNCTION = \"enrichGO\"\n",
    "# SIMPLIFY_CUTOFF = 0.7\n",
    "# GO_ONTOLOGIES = (\"BP\", \"CC\", \"MF\")"
   ]
  },
  {
   "cell_type": "code",
   "execution_count": 7,
   "id": "d67b1af4-a310-45f5-a6e9-919df1fd2165",
   "metadata": {
    "execution": {
     "iopub.execute_input": "2021-10-03T09:59:38.173180Z",
     "iopub.status.busy": "2021-10-03T09:59:38.172724Z",
     "iopub.status.idle": "2021-10-03T09:59:38.174269Z",
     "shell.execute_reply": "2021-10-03T09:59:38.174614Z"
    },
    "papermill": {
     "duration": 0.030027,
     "end_time": "2021-10-03T09:59:38.174729",
     "exception": false,
     "start_time": "2021-10-03T09:59:38.144702",
     "status": "completed"
    },
    "tags": []
   },
   "outputs": [],
   "source": [
    "# SIMILARITY_MATRICES_DIR = conf.GTEX[\"SIMILARITY_MATRICES_DIR\"]\n",
    "# display(SIMILARITY_MATRICES_DIR)"
   ]
  },
  {
   "cell_type": "code",
   "execution_count": 8,
   "id": "22b5ec88-d626-4db3-ada1-81cf48f23579",
   "metadata": {
    "execution": {
     "iopub.execute_input": "2021-10-03T09:59:38.230405Z",
     "iopub.status.busy": "2021-10-03T09:59:38.229944Z",
     "iopub.status.idle": "2021-10-03T09:59:38.231527Z",
     "shell.execute_reply": "2021-10-03T09:59:38.231890Z"
    },
    "papermill": {
     "duration": 0.030637,
     "end_time": "2021-10-03T09:59:38.232030",
     "exception": false,
     "start_time": "2021-10-03T09:59:38.201393",
     "status": "completed"
    },
    "tags": []
   },
   "outputs": [],
   "source": [
    "# SIMILARITY_MATRIX_FILENAME_TEMPLATE = conf.GTEX[\"SIMILARITY_MATRIX_FILENAME_TEMPLATE\"]\n",
    "# display(SIMILARITY_MATRIX_FILENAME_TEMPLATE)"
   ]
  },
  {
   "cell_type": "markdown",
   "id": "eee530dc-b562-4b54-8bc3-a9c831ac052c",
   "metadata": {
    "papermill": {
     "duration": 0.025973,
     "end_time": "2021-10-03T09:59:38.284847",
     "exception": false,
     "start_time": "2021-10-03T09:59:38.258874",
     "status": "completed"
    },
    "tags": []
   },
   "source": [
    "# Paths"
   ]
  },
  {
   "cell_type": "code",
   "execution_count": 9,
   "id": "09f26fce-9c9b-4ec0-ae25-1b9130b17ab7",
   "metadata": {
    "execution": {
     "iopub.execute_input": "2021-10-03T09:59:38.341770Z",
     "iopub.status.busy": "2021-10-03T09:59:38.341182Z",
     "iopub.status.idle": "2021-10-03T09:59:38.343770Z",
     "shell.execute_reply": "2021-10-03T09:59:38.344187Z"
    },
    "papermill": {
     "duration": 0.033483,
     "end_time": "2021-10-03T09:59:38.344304",
     "exception": false,
     "start_time": "2021-10-03T09:59:38.310821",
     "status": "completed"
    },
    "tags": []
   },
   "outputs": [
    {
     "data": {
      "text/plain": [
       "PosixPath('/opt/data/results/gtex_v8/gene_set_enrichment')"
      ]
     },
     "metadata": {},
     "output_type": "display_data"
    }
   ],
   "source": [
    "INPUT_DIR = DATASET_CONFIG[\"GENE_ENRICHMENT_DIR\"]\n",
    "display(INPUT_DIR)\n",
    "assert INPUT_DIR.exists()"
   ]
  },
  {
   "cell_type": "code",
   "execution_count": 10,
   "id": "b89c7a90-c325-4557-9107-7ba95e8bf03a",
   "metadata": {
    "execution": {
     "iopub.execute_input": "2021-10-03T09:59:38.401243Z",
     "iopub.status.busy": "2021-10-03T09:59:38.400706Z",
     "iopub.status.idle": "2021-10-03T09:59:38.404094Z",
     "shell.execute_reply": "2021-10-03T09:59:38.403601Z"
    },
    "papermill": {
     "duration": 0.033431,
     "end_time": "2021-10-03T09:59:38.404187",
     "exception": false,
     "start_time": "2021-10-03T09:59:38.370756",
     "status": "completed"
    },
    "tags": []
   },
   "outputs": [
    {
     "data": {
      "text/plain": [
       "PosixPath('/opt/data/results/gtex_v8/gene_set_enrichment/gtex_v8_data-gene_set_enrichment.pkl')"
      ]
     },
     "metadata": {},
     "output_type": "display_data"
    }
   ],
   "source": [
    "OUTPUT_FILE = DATASET_CONFIG[\"GENE_ENRICHMENT_COMBINED_FILE\"]\n",
    "display(OUTPUT_FILE)\n",
    "\n",
    "OUTPUT_FILE.parent.mkdir(parents=True, exist_ok=True)"
   ]
  },
  {
   "cell_type": "markdown",
   "id": "ec13a933-c48b-412b-9147-6aca9548be9f",
   "metadata": {
    "papermill": {
     "duration": 0.026073,
     "end_time": "2021-10-03T09:59:38.457056",
     "exception": false,
     "start_time": "2021-10-03T09:59:38.430983",
     "status": "completed"
    },
    "tags": []
   },
   "source": [
    "# Get data files"
   ]
  },
  {
   "cell_type": "code",
   "execution_count": 11,
   "id": "da9668d5-9922-42ed-bc4a-aec394343871",
   "metadata": {
    "execution": {
     "iopub.execute_input": "2021-10-03T09:59:38.513753Z",
     "iopub.status.busy": "2021-10-03T09:59:38.513303Z",
     "iopub.status.idle": "2021-10-03T09:59:38.515195Z",
     "shell.execute_reply": "2021-10-03T09:59:38.514830Z"
    },
    "papermill": {
     "duration": 0.032053,
     "end_time": "2021-10-03T09:59:38.515292",
     "exception": false,
     "start_time": "2021-10-03T09:59:38.483239",
     "status": "completed"
    },
    "tags": []
   },
   "outputs": [],
   "source": [
    "filename_pattern = re.compile(DATASET_CONFIG[\"GENE_ENRICHMENT_FILENAME_PATTERN\"])"
   ]
  },
  {
   "cell_type": "code",
   "execution_count": 12,
   "id": "b356cfbc-a3f5-430e-a90b-05b57bb8289e",
   "metadata": {
    "execution": {
     "iopub.execute_input": "2021-10-03T09:59:38.573118Z",
     "iopub.status.busy": "2021-10-03T09:59:38.572328Z",
     "iopub.status.idle": "2021-10-03T09:59:38.577147Z",
     "shell.execute_reply": "2021-10-03T09:59:38.576755Z"
    },
    "papermill": {
     "duration": 0.035199,
     "end_time": "2021-10-03T09:59:38.577243",
     "exception": false,
     "start_time": "2021-10-03T09:59:38.542044",
     "status": "completed"
    },
    "tags": []
   },
   "outputs": [
    {
     "data": {
      "text/plain": [
       "20"
      ]
     },
     "metadata": {},
     "output_type": "display_data"
    },
    {
     "data": {
      "text/plain": [
       "[PosixPath('/opt/data/results/gtex_v8/gene_set_enrichment/gtex_v8_data_adipose_subcutaneous-var_pc_log2-clustermatch-SpectralClustering-enrichKEGG-hsa.pkl'),\n",
       " PosixPath('/opt/data/results/gtex_v8/gene_set_enrichment/gtex_v8_data_adipose_subcutaneous-var_pc_log2-clustermatch_k2-SpectralClustering-enrichKEGG-hsa.pkl'),\n",
       " PosixPath('/opt/data/results/gtex_v8/gene_set_enrichment/gtex_v8_data_adipose_subcutaneous-var_pc_log2-pearson_abs-SpectralClustering-enrichKEGG-hsa.pkl'),\n",
       " PosixPath('/opt/data/results/gtex_v8/gene_set_enrichment/gtex_v8_data_adipose_subcutaneous-var_pc_log2-spearman_abs-SpectralClustering-enrichKEGG-hsa.pkl'),\n",
       " PosixPath('/opt/data/results/gtex_v8/gene_set_enrichment/gtex_v8_data_artery_tibial-var_pc_log2-clustermatch-SpectralClustering-enrichKEGG-hsa.pkl')]"
      ]
     },
     "metadata": {},
     "output_type": "display_data"
    }
   ],
   "source": [
    "# get input data files according to Settings\n",
    "input_files = sorted(\n",
    "    [\n",
    "        f\n",
    "        for f in INPUT_DIR.iterdir()\n",
    "        if (m := re.search(filename_pattern, str(f))) is not None\n",
    "    ]\n",
    ")\n",
    "display(len(input_files))\n",
    "display(input_files[:5])\n",
    "\n",
    "assert len(input_files) > 0"
   ]
  },
  {
   "cell_type": "markdown",
   "id": "c8339679-216e-4ea3-a1f5-e2819c0bbf62",
   "metadata": {
    "papermill": {
     "duration": 0.027253,
     "end_time": "2021-10-03T09:59:38.632450",
     "exception": false,
     "start_time": "2021-10-03T09:59:38.605197",
     "status": "completed"
    },
    "tags": []
   },
   "source": [
    "## Preview data"
   ]
  },
  {
   "cell_type": "code",
   "execution_count": 13,
   "id": "2428dee3-38a1-48db-a053-510d95e641ea",
   "metadata": {
    "execution": {
     "iopub.execute_input": "2021-10-03T09:59:38.690672Z",
     "iopub.status.busy": "2021-10-03T09:59:38.690052Z",
     "iopub.status.idle": "2021-10-03T09:59:38.692513Z",
     "shell.execute_reply": "2021-10-03T09:59:38.692876Z"
    },
    "papermill": {
     "duration": 0.033412,
     "end_time": "2021-10-03T09:59:38.692992",
     "exception": false,
     "start_time": "2021-10-03T09:59:38.659580",
     "status": "completed"
    },
    "tags": []
   },
   "outputs": [
    {
     "data": {
      "text/plain": [
       "PosixPath('/opt/data/results/gtex_v8/gene_set_enrichment/gtex_v8_data_adipose_subcutaneous-var_pc_log2-clustermatch-SpectralClustering-enrichKEGG-hsa.pkl')"
      ]
     },
     "metadata": {},
     "output_type": "display_data"
    }
   ],
   "source": [
    "display(input_files[0])"
   ]
  },
  {
   "cell_type": "code",
   "execution_count": 14,
   "id": "c7c0bf99-4ac6-4a35-b18e-2677719d2239",
   "metadata": {
    "execution": {
     "iopub.execute_input": "2021-10-03T09:59:38.754178Z",
     "iopub.status.busy": "2021-10-03T09:59:38.753628Z",
     "iopub.status.idle": "2021-10-03T09:59:38.757914Z",
     "shell.execute_reply": "2021-10-03T09:59:38.757461Z"
    },
    "papermill": {
     "duration": 0.037084,
     "end_time": "2021-10-03T09:59:38.758012",
     "exception": false,
     "start_time": "2021-10-03T09:59:38.720928",
     "status": "completed"
    },
    "tags": []
   },
   "outputs": [],
   "source": [
    "_tmp_df = pd.read_pickle(input_files[0])"
   ]
  },
  {
   "cell_type": "code",
   "execution_count": 15,
   "id": "4a84e02e-ba04-43d4-a693-93d632cf6ba0",
   "metadata": {
    "execution": {
     "iopub.execute_input": "2021-10-03T09:59:38.818203Z",
     "iopub.status.busy": "2021-10-03T09:59:38.817621Z",
     "iopub.status.idle": "2021-10-03T09:59:38.819825Z",
     "shell.execute_reply": "2021-10-03T09:59:38.820230Z"
    },
    "papermill": {
     "duration": 0.034312,
     "end_time": "2021-10-03T09:59:38.820342",
     "exception": false,
     "start_time": "2021-10-03T09:59:38.786030",
     "status": "completed"
    },
    "tags": []
   },
   "outputs": [
    {
     "data": {
      "text/plain": [
       "(4620, 16)"
      ]
     },
     "execution_count": 15,
     "metadata": {},
     "output_type": "execute_result"
    }
   ],
   "source": [
    "_tmp_df.shape"
   ]
  },
  {
   "cell_type": "code",
   "execution_count": 16,
   "id": "b3ef488f-4c8f-4ea3-abb0-d93c3afc6dc4",
   "metadata": {
    "execution": {
     "iopub.execute_input": "2021-10-03T09:59:38.881832Z",
     "iopub.status.busy": "2021-10-03T09:59:38.880977Z",
     "iopub.status.idle": "2021-10-03T09:59:38.896401Z",
     "shell.execute_reply": "2021-10-03T09:59:38.896019Z"
    },
    "papermill": {
     "duration": 0.047324,
     "end_time": "2021-10-03T09:59:38.896496",
     "exception": false,
     "start_time": "2021-10-03T09:59:38.849172",
     "status": "completed"
    },
    "tags": []
   },
   "outputs": [
    {
     "data": {
      "text/html": [
       "<div>\n",
       "<style scoped>\n",
       "    .dataframe tbody tr th:only-of-type {\n",
       "        vertical-align: middle;\n",
       "    }\n",
       "\n",
       "    .dataframe tbody tr th {\n",
       "        vertical-align: top;\n",
       "    }\n",
       "\n",
       "    .dataframe thead th {\n",
       "        text-align: right;\n",
       "    }\n",
       "</style>\n",
       "<table border=\"1\" class=\"dataframe\">\n",
       "  <thead>\n",
       "    <tr style=\"text-align: right;\">\n",
       "      <th></th>\n",
       "      <th>cluster_id</th>\n",
       "      <th>term_id</th>\n",
       "      <th>term_desc</th>\n",
       "      <th>gene_ratio</th>\n",
       "      <th>bg_ratio</th>\n",
       "      <th>pvalue</th>\n",
       "      <th>pvalue_adjust</th>\n",
       "      <th>qvalue</th>\n",
       "      <th>gene_id</th>\n",
       "      <th>gene_count</th>\n",
       "      <th>n_clusters</th>\n",
       "      <th>gene_total</th>\n",
       "      <th>bg_count</th>\n",
       "      <th>bg_total</th>\n",
       "      <th>rich_factor</th>\n",
       "      <th>fold_enrich</th>\n",
       "    </tr>\n",
       "  </thead>\n",
       "  <tbody>\n",
       "    <tr>\n",
       "      <th>802</th>\n",
       "      <td>C14</td>\n",
       "      <td>hsa05145</td>\n",
       "      <td>Toxoplasmosis</td>\n",
       "      <td>0.049724</td>\n",
       "      <td>0.024803</td>\n",
       "      <td>0.001345</td>\n",
       "      <td>0.022420</td>\n",
       "      <td>0.020768</td>\n",
       "      <td>3118/3127/7043/3119/3117/3111/3109/7042/3115/3...</td>\n",
       "      <td>18</td>\n",
       "      <td>45</td>\n",
       "      <td>362</td>\n",
       "      <td>44</td>\n",
       "      <td>1774</td>\n",
       "      <td>0.409091</td>\n",
       "      <td>2.004771</td>\n",
       "    </tr>\n",
       "    <tr>\n",
       "      <th>2980</th>\n",
       "      <td>C50</td>\n",
       "      <td>hsa04145</td>\n",
       "      <td>Phagosome</td>\n",
       "      <td>0.120000</td>\n",
       "      <td>0.038331</td>\n",
       "      <td>0.001736</td>\n",
       "      <td>0.022971</td>\n",
       "      <td>0.020665</td>\n",
       "      <td>2214/3689/4481/64581/3684/1520/4688/11151/1535</td>\n",
       "      <td>9</td>\n",
       "      <td>95</td>\n",
       "      <td>75</td>\n",
       "      <td>68</td>\n",
       "      <td>1774</td>\n",
       "      <td>0.132353</td>\n",
       "      <td>3.130588</td>\n",
       "    </tr>\n",
       "    <tr>\n",
       "      <th>330</th>\n",
       "      <td>C2</td>\n",
       "      <td>hsa05143</td>\n",
       "      <td>African trypanosomiasis</td>\n",
       "      <td>0.020147</td>\n",
       "      <td>0.009019</td>\n",
       "      <td>0.001890</td>\n",
       "      <td>0.017779</td>\n",
       "      <td>0.014883</td>\n",
       "      <td>3043/6401/3040/3039/4878/7412/3383/3620/5332/3...</td>\n",
       "      <td>11</td>\n",
       "      <td>25</td>\n",
       "      <td>546</td>\n",
       "      <td>16</td>\n",
       "      <td>1774</td>\n",
       "      <td>0.687500</td>\n",
       "      <td>2.233745</td>\n",
       "    </tr>\n",
       "    <tr>\n",
       "      <th>133</th>\n",
       "      <td>C8</td>\n",
       "      <td>hsa05171</td>\n",
       "      <td>Coronavirus disease - COVID-19</td>\n",
       "      <td>0.074468</td>\n",
       "      <td>0.030440</td>\n",
       "      <td>0.000977</td>\n",
       "      <td>0.013061</td>\n",
       "      <td>0.011436</td>\n",
       "      <td>713/2162/714/1536/712/728/717/719/2212/7097/68...</td>\n",
       "      <td>14</td>\n",
       "      <td>10</td>\n",
       "      <td>188</td>\n",
       "      <td>54</td>\n",
       "      <td>1774</td>\n",
       "      <td>0.259259</td>\n",
       "      <td>2.446414</td>\n",
       "    </tr>\n",
       "    <tr>\n",
       "      <th>3934</th>\n",
       "      <td>C24</td>\n",
       "      <td>hsa05202</td>\n",
       "      <td>Transcriptional misregulation in cancer</td>\n",
       "      <td>0.666667</td>\n",
       "      <td>0.034949</td>\n",
       "      <td>0.003526</td>\n",
       "      <td>0.005165</td>\n",
       "      <td>NaN</td>\n",
       "      <td>1668/1669</td>\n",
       "      <td>2</td>\n",
       "      <td>146</td>\n",
       "      <td>3</td>\n",
       "      <td>62</td>\n",
       "      <td>1774</td>\n",
       "      <td>0.032258</td>\n",
       "      <td>19.075269</td>\n",
       "    </tr>\n",
       "  </tbody>\n",
       "</table>\n",
       "</div>"
      ],
      "text/plain": [
       "     cluster_id   term_id                                term_desc  \\\n",
       "802         C14  hsa05145                            Toxoplasmosis   \n",
       "2980        C50  hsa04145                                Phagosome   \n",
       "330          C2  hsa05143                  African trypanosomiasis   \n",
       "133          C8  hsa05171           Coronavirus disease - COVID-19   \n",
       "3934        C24  hsa05202  Transcriptional misregulation in cancer   \n",
       "\n",
       "      gene_ratio  bg_ratio    pvalue  pvalue_adjust    qvalue  \\\n",
       "802     0.049724  0.024803  0.001345       0.022420  0.020768   \n",
       "2980    0.120000  0.038331  0.001736       0.022971  0.020665   \n",
       "330     0.020147  0.009019  0.001890       0.017779  0.014883   \n",
       "133     0.074468  0.030440  0.000977       0.013061  0.011436   \n",
       "3934    0.666667  0.034949  0.003526       0.005165       NaN   \n",
       "\n",
       "                                                gene_id  gene_count  \\\n",
       "802   3118/3127/7043/3119/3117/3111/3109/7042/3115/3...          18   \n",
       "2980     2214/3689/4481/64581/3684/1520/4688/11151/1535           9   \n",
       "330   3043/6401/3040/3039/4878/7412/3383/3620/5332/3...          11   \n",
       "133   713/2162/714/1536/712/728/717/719/2212/7097/68...          14   \n",
       "3934                                          1668/1669           2   \n",
       "\n",
       "      n_clusters  gene_total  bg_count  bg_total  rich_factor  fold_enrich  \n",
       "802           45         362        44      1774     0.409091     2.004771  \n",
       "2980          95          75        68      1774     0.132353     3.130588  \n",
       "330           25         546        16      1774     0.687500     2.233745  \n",
       "133           10         188        54      1774     0.259259     2.446414  \n",
       "3934         146           3        62      1774     0.032258    19.075269  "
      ]
     },
     "execution_count": 16,
     "metadata": {},
     "output_type": "execute_result"
    }
   ],
   "source": [
    "_tmp_df.sample(n=5, random_state=0)"
   ]
  },
  {
   "cell_type": "markdown",
   "id": "f4e3a617-e89c-40b2-8dbd-3bbd5a2d378a",
   "metadata": {
    "papermill": {
     "duration": 0.032618,
     "end_time": "2021-10-03T09:59:38.960750",
     "exception": false,
     "start_time": "2021-10-03T09:59:38.928132",
     "status": "completed"
    },
    "tags": []
   },
   "source": [
    "# Run"
   ]
  },
  {
   "cell_type": "markdown",
   "id": "9bad87b5-0f3e-4138-8d3e-ac50d9431520",
   "metadata": {
    "papermill": {
     "duration": 0.035601,
     "end_time": "2021-10-03T09:59:39.050014",
     "exception": false,
     "start_time": "2021-10-03T09:59:39.014413",
     "status": "completed"
    },
    "tags": []
   },
   "source": [
    "## Read data, convert dtypes, add new metrics"
   ]
  },
  {
   "cell_type": "code",
   "execution_count": 17,
   "id": "4c1d8f26-1a6f-4b3e-8a24-9a03d4e90bd2",
   "metadata": {
    "execution": {
     "iopub.execute_input": "2021-10-03T09:59:39.114653Z",
     "iopub.status.busy": "2021-10-03T09:59:39.114101Z",
     "iopub.status.idle": "2021-10-03T09:59:39.219020Z",
     "shell.execute_reply": "2021-10-03T09:59:39.218566Z"
    },
    "papermill": {
     "duration": 0.139844,
     "end_time": "2021-10-03T09:59:39.219118",
     "exception": false,
     "start_time": "2021-10-03T09:59:39.079274",
     "status": "completed"
    },
    "tags": []
   },
   "outputs": [
    {
     "name": "stderr",
     "output_type": "stream",
     "text": [
      "100%|██████████████████████████████████████████████████████████████| 20/20 [00:00<00:00, 204.94it/s]\n"
     ]
    }
   ],
   "source": [
    "all_results = []\n",
    "\n",
    "for f_full in tqdm(input_files, ncols=100):\n",
    "    f_name = f_full.name\n",
    "\n",
    "    f_data = pd.read_pickle(f_full)\n",
    "    #     f_data = f_data.rename(\n",
    "    #         columns={\n",
    "    #             \"Count\": \"gene_count\",\n",
    "    #             \"GeneRatio\": \"gene_ratio\",\n",
    "    #             \"BgRatio\": \"bg_ratio\",\n",
    "    #             \"ID\": \"go_term_id\",\n",
    "    #             \"Description\": \"go_term_desc\",\n",
    "    #             \"Cluster\": \"cluster_id\",\n",
    "    #             \"clustering_n_clusters\": \"n_clusters\",\n",
    "    #             \"p.adjust\": \"fdr_per_file\",\n",
    "    #         }\n",
    "    #     )\n",
    "\n",
    "    #     # genes in cluster\n",
    "    #     f_data = f_data.assign(\n",
    "    #         gene_total=f_data[\"gene_ratio\"].apply(lambda x: int(x.split(\"/\")[1]))\n",
    "    #     )\n",
    "\n",
    "    #     # background genes\n",
    "    #     f_data = f_data.assign(\n",
    "    #         bg_count=f_data[\"bg_ratio\"].apply(lambda x: int(x.split(\"/\")[0]))\n",
    "    #     )\n",
    "    #     f_data = f_data.assign(\n",
    "    #         bg_total=f_data[\"bg_ratio\"].apply(lambda x: int(x.split(\"/\")[1]))\n",
    "    #     )\n",
    "\n",
    "    # add metadata\n",
    "    metadata = re.search(filename_pattern, f_name)\n",
    "\n",
    "    f_data = f_data[\n",
    "        [\n",
    "            \"n_clusters\",\n",
    "            \"cluster_id\",\n",
    "            \"term_id\",\n",
    "            \"term_desc\",\n",
    "            \"gene_count\",\n",
    "            \"gene_total\",\n",
    "            \"gene_ratio\",\n",
    "            \"bg_count\",\n",
    "            \"bg_total\",\n",
    "            \"bg_ratio\",\n",
    "            \"pvalue\",\n",
    "            \"pvalue_adjust\",\n",
    "            \"rich_factor\",\n",
    "            \"fold_enrich\",\n",
    "        ]\n",
    "    ]\n",
    "\n",
    "    f_data[\"tissue\"] = metadata.group(\"tissue\")\n",
    "    f_data[\"gene_sel_strategy\"] = metadata.group(\"gene_sel_strategy\")\n",
    "    f_data[\"corr_method\"] = metadata.group(\"corr_method\")\n",
    "    f_data[\"clust_method\"] = metadata.group(\"clust_method\")\n",
    "    f_data[\"enrich_func\"] = metadata.group(\"enrich_func\")\n",
    "    f_data[\"enrich_params\"] = metadata.group(\"enrich_params\")\n",
    "\n",
    "    all_results.append(f_data)"
   ]
  },
  {
   "cell_type": "code",
   "execution_count": 18,
   "id": "dba36444-b52f-4934-8950-786cd0c51a61",
   "metadata": {
    "execution": {
     "iopub.execute_input": "2021-10-03T09:59:39.287415Z",
     "iopub.status.busy": "2021-10-03T09:59:39.286912Z",
     "iopub.status.idle": "2021-10-03T09:59:39.378159Z",
     "shell.execute_reply": "2021-10-03T09:59:39.377688Z"
    },
    "papermill": {
     "duration": 0.129618,
     "end_time": "2021-10-03T09:59:39.378260",
     "exception": false,
     "start_time": "2021-10-03T09:59:39.248642",
     "status": "completed"
    },
    "tags": []
   },
   "outputs": [],
   "source": [
    "df = pd.concat(all_results, ignore_index=True)\n",
    "\n",
    "# to category dtype\n",
    "df[\"cluster_id\"] = df[\"cluster_id\"].astype(\"category\")\n",
    "df[\"term_id\"] = df[\"term_id\"].astype(\"category\")\n",
    "df[\"term_desc\"] = df[\"term_desc\"].astype(\"category\")\n",
    "df[\"tissue\"] = df[\"tissue\"].astype(\"category\")\n",
    "df[\"gene_sel_strategy\"] = df[\"gene_sel_strategy\"].astype(\"category\")\n",
    "df[\"corr_method\"] = df[\"corr_method\"].astype(\"category\")\n",
    "df[\"clust_method\"] = df[\"clust_method\"].astype(\"category\")\n",
    "df[\"enrich_func\"] = df[\"enrich_func\"].astype(\"category\")\n",
    "df[\"enrich_params\"] = df[\"enrich_params\"].astype(\"category\")\n",
    "\n",
    "# convert to int32\n",
    "df[\"n_clusters\"] = df[\"n_clusters\"].astype(\"int32\")\n",
    "df[\"gene_count\"] = df[\"gene_count\"].astype(\"int32\")\n",
    "df[\"gene_total\"] = df[\"gene_total\"].astype(\"int32\")\n",
    "df[\"bg_count\"] = df[\"bg_count\"].astype(\"int32\")\n",
    "df[\"bg_total\"] = df[\"bg_total\"].astype(\"int32\")\n",
    "\n",
    "# # convert ratios to numbers\n",
    "# df[\"gene_ratio\"] = df[\"gene_count\"].div(df[\"gene_total\"])\n",
    "# df[\"bg_ratio\"] = df[\"bg_count\"].div(df[\"bg_total\"])\n",
    "\n",
    "# # add other metrics\n",
    "# df[\"rich_factor\"] = df[\"gene_count\"].div(df[\"bg_count\"])\n",
    "# df[\"fold_enrich\"] = df[\"gene_ratio\"].div(df[\"bg_ratio\"])"
   ]
  },
  {
   "cell_type": "code",
   "execution_count": 19,
   "id": "b3054d6e-52d4-4edb-ab9c-a8d5cb1783c6",
   "metadata": {
    "execution": {
     "iopub.execute_input": "2021-10-03T09:59:39.440755Z",
     "iopub.status.busy": "2021-10-03T09:59:39.440296Z",
     "iopub.status.idle": "2021-10-03T09:59:39.442008Z",
     "shell.execute_reply": "2021-10-03T09:59:39.442354Z"
    },
    "papermill": {
     "duration": 0.034479,
     "end_time": "2021-10-03T09:59:39.442471",
     "exception": false,
     "start_time": "2021-10-03T09:59:39.407992",
     "status": "completed"
    },
    "tags": []
   },
   "outputs": [],
   "source": [
    "# # adjust for multiple testing across all results\n",
    "# adj_pval = multipletests(df[\"pvalue\"], alpha=0.05, method=\"fdr_bh\")\n",
    "# df = df.assign(fdr=adj_pval[1])"
   ]
  },
  {
   "cell_type": "code",
   "execution_count": 20,
   "id": "840e3a37-4f34-4689-98d3-79f2ee1a9f5b",
   "metadata": {
    "execution": {
     "iopub.execute_input": "2021-10-03T09:59:39.512769Z",
     "iopub.status.busy": "2021-10-03T09:59:39.512203Z",
     "iopub.status.idle": "2021-10-03T09:59:39.515228Z",
     "shell.execute_reply": "2021-10-03T09:59:39.514743Z"
    },
    "papermill": {
     "duration": 0.042924,
     "end_time": "2021-10-03T09:59:39.515399",
     "exception": false,
     "start_time": "2021-10-03T09:59:39.472475",
     "status": "completed"
    },
    "tags": []
   },
   "outputs": [
    {
     "data": {
      "text/plain": [
       "(84471, 18)"
      ]
     },
     "execution_count": 20,
     "metadata": {},
     "output_type": "execute_result"
    }
   ],
   "source": [
    "df.shape"
   ]
  },
  {
   "cell_type": "code",
   "execution_count": 21,
   "id": "78850cf5-3114-488f-b78d-c92b67e73203",
   "metadata": {
    "execution": {
     "iopub.execute_input": "2021-10-03T09:59:39.595083Z",
     "iopub.status.busy": "2021-10-03T09:59:39.594402Z",
     "iopub.status.idle": "2021-10-03T09:59:39.597580Z",
     "shell.execute_reply": "2021-10-03T09:59:39.597125Z"
    },
    "papermill": {
     "duration": 0.049232,
     "end_time": "2021-10-03T09:59:39.597678",
     "exception": false,
     "start_time": "2021-10-03T09:59:39.548446",
     "status": "completed"
    },
    "tags": []
   },
   "outputs": [
    {
     "data": {
      "text/html": [
       "<div>\n",
       "<style scoped>\n",
       "    .dataframe tbody tr th:only-of-type {\n",
       "        vertical-align: middle;\n",
       "    }\n",
       "\n",
       "    .dataframe tbody tr th {\n",
       "        vertical-align: top;\n",
       "    }\n",
       "\n",
       "    .dataframe thead th {\n",
       "        text-align: right;\n",
       "    }\n",
       "</style>\n",
       "<table border=\"1\" class=\"dataframe\">\n",
       "  <thead>\n",
       "    <tr style=\"text-align: right;\">\n",
       "      <th></th>\n",
       "      <th>n_clusters</th>\n",
       "      <th>cluster_id</th>\n",
       "      <th>term_id</th>\n",
       "      <th>term_desc</th>\n",
       "      <th>gene_count</th>\n",
       "      <th>gene_total</th>\n",
       "      <th>gene_ratio</th>\n",
       "      <th>bg_count</th>\n",
       "      <th>bg_total</th>\n",
       "      <th>bg_ratio</th>\n",
       "      <th>pvalue</th>\n",
       "      <th>pvalue_adjust</th>\n",
       "      <th>tissue</th>\n",
       "      <th>gene_sel_strategy</th>\n",
       "      <th>corr_method</th>\n",
       "      <th>clust_method</th>\n",
       "      <th>enrich_func</th>\n",
       "      <th>enrich_params</th>\n",
       "    </tr>\n",
       "  </thead>\n",
       "  <tbody>\n",
       "    <tr>\n",
       "      <th>0</th>\n",
       "      <td>2</td>\n",
       "      <td>C0</td>\n",
       "      <td>hsa04380</td>\n",
       "      <td>Osteoclast differentiation</td>\n",
       "      <td>27</td>\n",
       "      <td>248</td>\n",
       "      <td>0.108871</td>\n",
       "      <td>51</td>\n",
       "      <td>1774</td>\n",
       "      <td>0.028749</td>\n",
       "      <td>2.376904e-11</td>\n",
       "      <td>5.229189e-09</td>\n",
       "      <td>adipose_subcutaneous</td>\n",
       "      <td>var_pc_log2</td>\n",
       "      <td>clustermatch</td>\n",
       "      <td>SpectralClustering</td>\n",
       "      <td>enrichKEGG</td>\n",
       "      <td>hsa</td>\n",
       "    </tr>\n",
       "    <tr>\n",
       "      <th>1</th>\n",
       "      <td>2</td>\n",
       "      <td>C0</td>\n",
       "      <td>hsa04613</td>\n",
       "      <td>Neutrophil extracellular trap formation</td>\n",
       "      <td>25</td>\n",
       "      <td>248</td>\n",
       "      <td>0.100806</td>\n",
       "      <td>50</td>\n",
       "      <td>1774</td>\n",
       "      <td>0.028185</td>\n",
       "      <td>6.975013e-10</td>\n",
       "      <td>7.672515e-08</td>\n",
       "      <td>adipose_subcutaneous</td>\n",
       "      <td>var_pc_log2</td>\n",
       "      <td>clustermatch</td>\n",
       "      <td>SpectralClustering</td>\n",
       "      <td>enrichKEGG</td>\n",
       "      <td>hsa</td>\n",
       "    </tr>\n",
       "    <tr>\n",
       "      <th>2</th>\n",
       "      <td>2</td>\n",
       "      <td>C0</td>\n",
       "      <td>hsa04662</td>\n",
       "      <td>B cell receptor signaling pathway</td>\n",
       "      <td>18</td>\n",
       "      <td>248</td>\n",
       "      <td>0.072581</td>\n",
       "      <td>29</td>\n",
       "      <td>1774</td>\n",
       "      <td>0.016347</td>\n",
       "      <td>1.939872e-09</td>\n",
       "      <td>1.422573e-07</td>\n",
       "      <td>adipose_subcutaneous</td>\n",
       "      <td>var_pc_log2</td>\n",
       "      <td>clustermatch</td>\n",
       "      <td>SpectralClustering</td>\n",
       "      <td>enrichKEGG</td>\n",
       "      <td>hsa</td>\n",
       "    </tr>\n",
       "    <tr>\n",
       "      <th>3</th>\n",
       "      <td>2</td>\n",
       "      <td>C0</td>\n",
       "      <td>hsa05152</td>\n",
       "      <td>Tuberculosis</td>\n",
       "      <td>25</td>\n",
       "      <td>248</td>\n",
       "      <td>0.100806</td>\n",
       "      <td>58</td>\n",
       "      <td>1774</td>\n",
       "      <td>0.032694</td>\n",
       "      <td>3.349306e-08</td>\n",
       "      <td>1.842118e-06</td>\n",
       "      <td>adipose_subcutaneous</td>\n",
       "      <td>var_pc_log2</td>\n",
       "      <td>clustermatch</td>\n",
       "      <td>SpectralClustering</td>\n",
       "      <td>enrichKEGG</td>\n",
       "      <td>hsa</td>\n",
       "    </tr>\n",
       "    <tr>\n",
       "      <th>4</th>\n",
       "      <td>2</td>\n",
       "      <td>C0</td>\n",
       "      <td>hsa04972</td>\n",
       "      <td>Pancreatic secretion</td>\n",
       "      <td>19</td>\n",
       "      <td>248</td>\n",
       "      <td>0.076613</td>\n",
       "      <td>41</td>\n",
       "      <td>1774</td>\n",
       "      <td>0.023112</td>\n",
       "      <td>4.180927e-07</td>\n",
       "      <td>1.839608e-05</td>\n",
       "      <td>adipose_subcutaneous</td>\n",
       "      <td>var_pc_log2</td>\n",
       "      <td>clustermatch</td>\n",
       "      <td>SpectralClustering</td>\n",
       "      <td>enrichKEGG</td>\n",
       "      <td>hsa</td>\n",
       "    </tr>\n",
       "  </tbody>\n",
       "</table>\n",
       "</div>"
      ],
      "text/plain": [
       "   n_clusters cluster_id   term_id                                term_desc  \\\n",
       "0           2         C0  hsa04380               Osteoclast differentiation   \n",
       "1           2         C0  hsa04613  Neutrophil extracellular trap formation   \n",
       "2           2         C0  hsa04662        B cell receptor signaling pathway   \n",
       "3           2         C0  hsa05152                             Tuberculosis   \n",
       "4           2         C0  hsa04972                     Pancreatic secretion   \n",
       "\n",
       "   gene_count  gene_total  gene_ratio  bg_count  bg_total  bg_ratio  \\\n",
       "0          27         248    0.108871        51      1774  0.028749   \n",
       "1          25         248    0.100806        50      1774  0.028185   \n",
       "2          18         248    0.072581        29      1774  0.016347   \n",
       "3          25         248    0.100806        58      1774  0.032694   \n",
       "4          19         248    0.076613        41      1774  0.023112   \n",
       "\n",
       "         pvalue  pvalue_adjust                tissue gene_sel_strategy  \\\n",
       "0  2.376904e-11   5.229189e-09  adipose_subcutaneous       var_pc_log2   \n",
       "1  6.975013e-10   7.672515e-08  adipose_subcutaneous       var_pc_log2   \n",
       "2  1.939872e-09   1.422573e-07  adipose_subcutaneous       var_pc_log2   \n",
       "3  3.349306e-08   1.842118e-06  adipose_subcutaneous       var_pc_log2   \n",
       "4  4.180927e-07   1.839608e-05  adipose_subcutaneous       var_pc_log2   \n",
       "\n",
       "    corr_method        clust_method enrich_func enrich_params  \n",
       "0  clustermatch  SpectralClustering  enrichKEGG           hsa  \n",
       "1  clustermatch  SpectralClustering  enrichKEGG           hsa  \n",
       "2  clustermatch  SpectralClustering  enrichKEGG           hsa  \n",
       "3  clustermatch  SpectralClustering  enrichKEGG           hsa  \n",
       "4  clustermatch  SpectralClustering  enrichKEGG           hsa  "
      ]
     },
     "execution_count": 21,
     "metadata": {},
     "output_type": "execute_result"
    }
   ],
   "source": [
    "df.head()"
   ]
  },
  {
   "cell_type": "code",
   "execution_count": 22,
   "id": "e066d3c0-1e6b-42de-8c12-90d0f403c423",
   "metadata": {
    "execution": {
     "iopub.execute_input": "2021-10-03T09:59:39.666322Z",
     "iopub.status.busy": "2021-10-03T09:59:39.665736Z",
     "iopub.status.idle": "2021-10-03T09:59:39.668231Z",
     "shell.execute_reply": "2021-10-03T09:59:39.668591Z"
    },
    "papermill": {
     "duration": 0.038353,
     "end_time": "2021-10-03T09:59:39.668707",
     "exception": false,
     "start_time": "2021-10-03T09:59:39.630354",
     "status": "completed"
    },
    "tags": []
   },
   "outputs": [
    {
     "data": {
      "text/plain": [
       "n_clusters              int32\n",
       "cluster_id           category\n",
       "term_id              category\n",
       "term_desc            category\n",
       "gene_count              int32\n",
       "gene_total              int32\n",
       "gene_ratio            float64\n",
       "bg_count                int32\n",
       "bg_total                int32\n",
       "bg_ratio              float64\n",
       "pvalue                float64\n",
       "pvalue_adjust         float64\n",
       "tissue               category\n",
       "gene_sel_strategy    category\n",
       "corr_method          category\n",
       "clust_method         category\n",
       "enrich_func          category\n",
       "enrich_params        category\n",
       "dtype: object"
      ]
     },
     "metadata": {},
     "output_type": "display_data"
    }
   ],
   "source": [
    "display(df.dtypes)\n",
    "assert df.dtypes.loc[\"cluster_id\"] == \"category\""
   ]
  },
  {
   "cell_type": "code",
   "execution_count": 23,
   "id": "a0aec274-c723-4af5-b381-863aada8ce98",
   "metadata": {
    "execution": {
     "iopub.execute_input": "2021-10-03T09:59:39.735163Z",
     "iopub.status.busy": "2021-10-03T09:59:39.734041Z",
     "iopub.status.idle": "2021-10-03T09:59:39.753060Z",
     "shell.execute_reply": "2021-10-03T09:59:39.752696Z"
    },
    "papermill": {
     "duration": 0.051932,
     "end_time": "2021-10-03T09:59:39.753158",
     "exception": false,
     "start_time": "2021-10-03T09:59:39.701226",
     "status": "completed"
    },
    "tags": []
   },
   "outputs": [
    {
     "data": {
      "text/html": [
       "<div>\n",
       "<style scoped>\n",
       "    .dataframe tbody tr th:only-of-type {\n",
       "        vertical-align: middle;\n",
       "    }\n",
       "\n",
       "    .dataframe tbody tr th {\n",
       "        vertical-align: top;\n",
       "    }\n",
       "\n",
       "    .dataframe thead th {\n",
       "        text-align: right;\n",
       "    }\n",
       "</style>\n",
       "<table border=\"1\" class=\"dataframe\">\n",
       "  <thead>\n",
       "    <tr style=\"text-align: right;\">\n",
       "      <th></th>\n",
       "      <th>n_clusters</th>\n",
       "      <th>cluster_id</th>\n",
       "      <th>term_id</th>\n",
       "      <th>term_desc</th>\n",
       "      <th>gene_count</th>\n",
       "      <th>gene_total</th>\n",
       "      <th>gene_ratio</th>\n",
       "      <th>bg_count</th>\n",
       "      <th>bg_total</th>\n",
       "      <th>bg_ratio</th>\n",
       "      <th>pvalue</th>\n",
       "      <th>pvalue_adjust</th>\n",
       "      <th>tissue</th>\n",
       "      <th>gene_sel_strategy</th>\n",
       "      <th>corr_method</th>\n",
       "      <th>clust_method</th>\n",
       "      <th>enrich_func</th>\n",
       "      <th>enrich_params</th>\n",
       "    </tr>\n",
       "  </thead>\n",
       "  <tbody>\n",
       "    <tr>\n",
       "      <th>84207</th>\n",
       "      <td>186</td>\n",
       "      <td>C53</td>\n",
       "      <td>hsa05204</td>\n",
       "      <td>Chemical carcinogenesis - DNA adducts</td>\n",
       "      <td>5</td>\n",
       "      <td>22</td>\n",
       "      <td>0.227273</td>\n",
       "      <td>10</td>\n",
       "      <td>1991</td>\n",
       "      <td>0.005023</td>\n",
       "      <td>2.468158e-08</td>\n",
       "      <td>2.961790e-07</td>\n",
       "      <td>whole_blood</td>\n",
       "      <td>var_pc_log2</td>\n",
       "      <td>spearman_abs</td>\n",
       "      <td>SpectralClustering</td>\n",
       "      <td>enrichKEGG</td>\n",
       "      <td>hsa</td>\n",
       "    </tr>\n",
       "    <tr>\n",
       "      <th>29441</th>\n",
       "      <td>89</td>\n",
       "      <td>C86</td>\n",
       "      <td>hsa05016</td>\n",
       "      <td>Huntington disease</td>\n",
       "      <td>6</td>\n",
       "      <td>27</td>\n",
       "      <td>0.222222</td>\n",
       "      <td>35</td>\n",
       "      <td>1576</td>\n",
       "      <td>0.022208</td>\n",
       "      <td>1.629067e-05</td>\n",
       "      <td>1.656218e-04</td>\n",
       "      <td>artery_tibial</td>\n",
       "      <td>var_pc_log2</td>\n",
       "      <td>pearson_abs</td>\n",
       "      <td>SpectralClustering</td>\n",
       "      <td>enrichKEGG</td>\n",
       "      <td>hsa</td>\n",
       "    </tr>\n",
       "    <tr>\n",
       "      <th>46892</th>\n",
       "      <td>30</td>\n",
       "      <td>C23</td>\n",
       "      <td>hsa04261</td>\n",
       "      <td>Adrenergic signaling in cardiomyocytes</td>\n",
       "      <td>13</td>\n",
       "      <td>99</td>\n",
       "      <td>0.131313</td>\n",
       "      <td>50</td>\n",
       "      <td>1819</td>\n",
       "      <td>0.027488</td>\n",
       "      <td>1.112786e-06</td>\n",
       "      <td>9.848155e-05</td>\n",
       "      <td>muscle_skeletal</td>\n",
       "      <td>var_pc_log2</td>\n",
       "      <td>spearman_abs</td>\n",
       "      <td>SpectralClustering</td>\n",
       "      <td>enrichKEGG</td>\n",
       "      <td>hsa</td>\n",
       "    </tr>\n",
       "    <tr>\n",
       "      <th>76190</th>\n",
       "      <td>30</td>\n",
       "      <td>C15</td>\n",
       "      <td>hsa04218</td>\n",
       "      <td>Cellular senescence</td>\n",
       "      <td>6</td>\n",
       "      <td>29</td>\n",
       "      <td>0.206897</td>\n",
       "      <td>63</td>\n",
       "      <td>1991</td>\n",
       "      <td>0.031642</td>\n",
       "      <td>2.120447e-04</td>\n",
       "      <td>2.162856e-03</td>\n",
       "      <td>whole_blood</td>\n",
       "      <td>var_pc_log2</td>\n",
       "      <td>pearson_abs</td>\n",
       "      <td>SpectralClustering</td>\n",
       "      <td>enrichKEGG</td>\n",
       "      <td>hsa</td>\n",
       "    </tr>\n",
       "    <tr>\n",
       "      <th>81494</th>\n",
       "      <td>49</td>\n",
       "      <td>C38</td>\n",
       "      <td>hsa00010</td>\n",
       "      <td>Glycolysis / Gluconeogenesis</td>\n",
       "      <td>4</td>\n",
       "      <td>25</td>\n",
       "      <td>0.160000</td>\n",
       "      <td>25</td>\n",
       "      <td>1991</td>\n",
       "      <td>0.012557</td>\n",
       "      <td>2.050851e-04</td>\n",
       "      <td>8.659150e-04</td>\n",
       "      <td>whole_blood</td>\n",
       "      <td>var_pc_log2</td>\n",
       "      <td>spearman_abs</td>\n",
       "      <td>SpectralClustering</td>\n",
       "      <td>enrichKEGG</td>\n",
       "      <td>hsa</td>\n",
       "    </tr>\n",
       "  </tbody>\n",
       "</table>\n",
       "</div>"
      ],
      "text/plain": [
       "       n_clusters cluster_id   term_id  \\\n",
       "84207         186        C53  hsa05204   \n",
       "29441          89        C86  hsa05016   \n",
       "46892          30        C23  hsa04261   \n",
       "76190          30        C15  hsa04218   \n",
       "81494          49        C38  hsa00010   \n",
       "\n",
       "                                    term_desc  gene_count  gene_total  \\\n",
       "84207   Chemical carcinogenesis - DNA adducts           5          22   \n",
       "29441                      Huntington disease           6          27   \n",
       "46892  Adrenergic signaling in cardiomyocytes          13          99   \n",
       "76190                     Cellular senescence           6          29   \n",
       "81494            Glycolysis / Gluconeogenesis           4          25   \n",
       "\n",
       "       gene_ratio  bg_count  bg_total  bg_ratio        pvalue  pvalue_adjust  \\\n",
       "84207    0.227273        10      1991  0.005023  2.468158e-08   2.961790e-07   \n",
       "29441    0.222222        35      1576  0.022208  1.629067e-05   1.656218e-04   \n",
       "46892    0.131313        50      1819  0.027488  1.112786e-06   9.848155e-05   \n",
       "76190    0.206897        63      1991  0.031642  2.120447e-04   2.162856e-03   \n",
       "81494    0.160000        25      1991  0.012557  2.050851e-04   8.659150e-04   \n",
       "\n",
       "                tissue gene_sel_strategy   corr_method        clust_method  \\\n",
       "84207      whole_blood       var_pc_log2  spearman_abs  SpectralClustering   \n",
       "29441    artery_tibial       var_pc_log2   pearson_abs  SpectralClustering   \n",
       "46892  muscle_skeletal       var_pc_log2  spearman_abs  SpectralClustering   \n",
       "76190      whole_blood       var_pc_log2   pearson_abs  SpectralClustering   \n",
       "81494      whole_blood       var_pc_log2  spearman_abs  SpectralClustering   \n",
       "\n",
       "      enrich_func enrich_params  \n",
       "84207  enrichKEGG           hsa  \n",
       "29441  enrichKEGG           hsa  \n",
       "46892  enrichKEGG           hsa  \n",
       "76190  enrichKEGG           hsa  \n",
       "81494  enrichKEGG           hsa  "
      ]
     },
     "execution_count": 23,
     "metadata": {},
     "output_type": "execute_result"
    }
   ],
   "source": [
    "df.sample(n=5, random_state=0)"
   ]
  },
  {
   "cell_type": "markdown",
   "id": "cae1ec0b-98c2-44a9-906a-74d716dad777",
   "metadata": {
    "papermill": {
     "duration": 0.031604,
     "end_time": "2021-10-03T09:59:39.816362",
     "exception": false,
     "start_time": "2021-10-03T09:59:39.784758",
     "status": "completed"
    },
    "tags": []
   },
   "source": [
    "## Some stats"
   ]
  },
  {
   "cell_type": "code",
   "execution_count": 24,
   "id": "be827957-e573-485b-aca5-2224157b0979",
   "metadata": {
    "execution": {
     "iopub.execute_input": "2021-10-03T09:59:39.883674Z",
     "iopub.status.busy": "2021-10-03T09:59:39.883181Z",
     "iopub.status.idle": "2021-10-03T09:59:39.890958Z",
     "shell.execute_reply": "2021-10-03T09:59:39.891303Z"
    },
    "papermill": {
     "duration": 0.043946,
     "end_time": "2021-10-03T09:59:39.891425",
     "exception": false,
     "start_time": "2021-10-03T09:59:39.847479",
     "status": "completed"
    },
    "tags": []
   },
   "outputs": [
    {
     "data": {
      "text/plain": [
       "count    8.447100e+04\n",
       "mean     1.484899e-02\n",
       "std      1.614677e-02\n",
       "min      2.358076e-57\n",
       "25%      2.544305e-04\n",
       "50%      7.458767e-03\n",
       "75%      2.926530e-02\n",
       "max      4.999289e-02\n",
       "Name: pvalue_adjust, dtype: float64"
      ]
     },
     "metadata": {},
     "output_type": "display_data"
    }
   ],
   "source": [
    "display(df[\"pvalue_adjust\"].describe())\n",
    "assert df[\"pvalue_adjust\"].min() > 0.0\n",
    "assert df[\"pvalue_adjust\"].max() < 1.0"
   ]
  },
  {
   "cell_type": "code",
   "execution_count": 25,
   "id": "a972063c-92f6-4b90-a4eb-353959f0f4d3",
   "metadata": {
    "execution": {
     "iopub.execute_input": "2021-10-03T09:59:39.964884Z",
     "iopub.status.busy": "2021-10-03T09:59:39.964414Z",
     "iopub.status.idle": "2021-10-03T09:59:39.967771Z",
     "shell.execute_reply": "2021-10-03T09:59:39.968142Z"
    },
    "papermill": {
     "duration": 0.043338,
     "end_time": "2021-10-03T09:59:39.968264",
     "exception": false,
     "start_time": "2021-10-03T09:59:39.924926",
     "status": "completed"
    },
    "tags": []
   },
   "outputs": [
    {
     "data": {
      "text/plain": [
       "array([  2,   5,  10,  15,  20,  25,  30,  35,  40,  45,  50,  55,  60,\n",
       "        65,  69,  75,  80,  85,  89,  95,  98, 124, 146, 168, 189,  14,\n",
       "        18,  23,  28,  33,  38,  43,  48,  53,  58,  62,  67,  71,  81,\n",
       "        84,  90, 119, 139, 158, 173,  70,  74,  79,  94, 122, 166, 187,\n",
       "        78,  83,  93,  99, 118, 137, 154, 169,  63,  68,  77,  86, 117,\n",
       "       162, 182,  39,  44,  49,  54,  64,  72, 114, 133, 159, 142, 157,\n",
       "        88,  92,  96, 115, 135, 147, 161,  59,  82, 121, 138, 185,  13,\n",
       "        19,  22,  27,  32,  37,  42,  47,  52,  57,  66, 112, 134, 152,\n",
       "       172,  73,  91, 116, 148, 174,  29,  87,  97, 141, 164, 188,  24,\n",
       "        56,  61,  76, 136, 171, 120, 140, 170, 132, 143, 167, 144, 186],\n",
       "      dtype=int32)"
      ]
     },
     "execution_count": 25,
     "metadata": {},
     "output_type": "execute_result"
    }
   ],
   "source": [
    "df[\"n_clusters\"].unique()"
   ]
  },
  {
   "cell_type": "code",
   "execution_count": 26,
   "id": "875a58e1-36d5-4176-a445-f9cbc2eb3771",
   "metadata": {
    "execution": {
     "iopub.execute_input": "2021-10-03T09:59:40.035936Z",
     "iopub.status.busy": "2021-10-03T09:59:40.035436Z",
     "iopub.status.idle": "2021-10-03T09:59:40.040170Z",
     "shell.execute_reply": "2021-10-03T09:59:40.039692Z"
    },
    "papermill": {
     "duration": 0.03928,
     "end_time": "2021-10-03T09:59:40.040264",
     "exception": false,
     "start_time": "2021-10-03T09:59:40.000984",
     "status": "completed"
    },
    "tags": []
   },
   "outputs": [
    {
     "data": {
      "text/plain": [
       "['adipose_subcutaneous', 'artery_tibial', 'muscle_skeletal', 'skin_sun_exposed_lower_leg', 'whole_blood']\n",
       "Categories (5, object): ['adipose_subcutaneous', 'artery_tibial', 'muscle_skeletal', 'skin_sun_exposed_lower_leg', 'whole_blood']"
      ]
     },
     "execution_count": 26,
     "metadata": {},
     "output_type": "execute_result"
    }
   ],
   "source": [
    "df[\"tissue\"].unique()"
   ]
  },
  {
   "cell_type": "code",
   "execution_count": 27,
   "id": "5bfeb305-7bed-45ff-9b9a-e50acb6cb628",
   "metadata": {
    "execution": {
     "iopub.execute_input": "2021-10-03T09:59:40.107895Z",
     "iopub.status.busy": "2021-10-03T09:59:40.107424Z",
     "iopub.status.idle": "2021-10-03T09:59:40.112211Z",
     "shell.execute_reply": "2021-10-03T09:59:40.111715Z"
    },
    "papermill": {
     "duration": 0.039859,
     "end_time": "2021-10-03T09:59:40.112306",
     "exception": false,
     "start_time": "2021-10-03T09:59:40.072447",
     "status": "completed"
    },
    "tags": []
   },
   "outputs": [
    {
     "data": {
      "text/plain": [
       "['var_pc_log2']\n",
       "Categories (1, object): ['var_pc_log2']"
      ]
     },
     "execution_count": 27,
     "metadata": {},
     "output_type": "execute_result"
    }
   ],
   "source": [
    "df[\"gene_sel_strategy\"].unique()"
   ]
  },
  {
   "cell_type": "code",
   "execution_count": 28,
   "id": "44e32dfa-c125-4f7b-adfc-ee72ee72b79d",
   "metadata": {
    "execution": {
     "iopub.execute_input": "2021-10-03T09:59:40.181441Z",
     "iopub.status.busy": "2021-10-03T09:59:40.180992Z",
     "iopub.status.idle": "2021-10-03T09:59:40.185187Z",
     "shell.execute_reply": "2021-10-03T09:59:40.184731Z"
    },
    "papermill": {
     "duration": 0.039804,
     "end_time": "2021-10-03T09:59:40.185286",
     "exception": false,
     "start_time": "2021-10-03T09:59:40.145482",
     "status": "completed"
    },
    "tags": []
   },
   "outputs": [
    {
     "data": {
      "text/plain": [
       "['clustermatch', 'clustermatch_k2', 'pearson_abs', 'spearman_abs']\n",
       "Categories (4, object): ['clustermatch', 'clustermatch_k2', 'pearson_abs', 'spearman_abs']"
      ]
     },
     "execution_count": 28,
     "metadata": {},
     "output_type": "execute_result"
    }
   ],
   "source": [
    "df[\"corr_method\"].unique()"
   ]
  },
  {
   "cell_type": "code",
   "execution_count": 29,
   "id": "a71d840c-b779-4aa6-9bef-89f72d0ccec9",
   "metadata": {
    "execution": {
     "iopub.execute_input": "2021-10-03T09:59:40.256081Z",
     "iopub.status.busy": "2021-10-03T09:59:40.255559Z",
     "iopub.status.idle": "2021-10-03T09:59:40.260235Z",
     "shell.execute_reply": "2021-10-03T09:59:40.259743Z"
    },
    "papermill": {
     "duration": 0.040468,
     "end_time": "2021-10-03T09:59:40.260329",
     "exception": false,
     "start_time": "2021-10-03T09:59:40.219861",
     "status": "completed"
    },
    "tags": []
   },
   "outputs": [
    {
     "data": {
      "text/plain": [
       "['SpectralClustering']\n",
       "Categories (1, object): ['SpectralClustering']"
      ]
     },
     "execution_count": 29,
     "metadata": {},
     "output_type": "execute_result"
    }
   ],
   "source": [
    "df[\"clust_method\"].unique()"
   ]
  },
  {
   "cell_type": "code",
   "execution_count": 30,
   "id": "960126ba-22b6-469c-9883-3e9bf93c0585",
   "metadata": {
    "execution": {
     "iopub.execute_input": "2021-10-03T09:59:40.330807Z",
     "iopub.status.busy": "2021-10-03T09:59:40.330361Z",
     "iopub.status.idle": "2021-10-03T09:59:40.334856Z",
     "shell.execute_reply": "2021-10-03T09:59:40.334406Z"
    },
    "papermill": {
     "duration": 0.040554,
     "end_time": "2021-10-03T09:59:40.334953",
     "exception": false,
     "start_time": "2021-10-03T09:59:40.294399",
     "status": "completed"
    },
    "tags": []
   },
   "outputs": [
    {
     "data": {
      "text/plain": [
       "['hsa']\n",
       "Categories (1, object): ['hsa']"
      ]
     },
     "execution_count": 30,
     "metadata": {},
     "output_type": "execute_result"
    }
   ],
   "source": [
    "df[\"enrich_params\"].unique()"
   ]
  },
  {
   "cell_type": "code",
   "execution_count": 31,
   "id": "14fc32be-f703-4db3-9396-ae85ef365eb7",
   "metadata": {
    "execution": {
     "iopub.execute_input": "2021-10-03T09:59:40.406572Z",
     "iopub.status.busy": "2021-10-03T09:59:40.406083Z",
     "iopub.status.idle": "2021-10-03T09:59:40.410844Z",
     "shell.execute_reply": "2021-10-03T09:59:40.410382Z"
    },
    "papermill": {
     "duration": 0.041705,
     "end_time": "2021-10-03T09:59:40.410943",
     "exception": false,
     "start_time": "2021-10-03T09:59:40.369238",
     "status": "completed"
    },
    "tags": []
   },
   "outputs": [],
   "source": [
    "assert not df.isna().any().any()"
   ]
  },
  {
   "cell_type": "markdown",
   "id": "a0a93db6-b4bc-4d9e-a241-bcc2842f2656",
   "metadata": {
    "papermill": {
     "duration": 0.033513,
     "end_time": "2021-10-03T09:59:40.478522",
     "exception": false,
     "start_time": "2021-10-03T09:59:40.445009",
     "status": "completed"
    },
    "tags": []
   },
   "source": [
    "# Save"
   ]
  },
  {
   "cell_type": "code",
   "execution_count": 32,
   "id": "83d6fae7-eea9-491c-995e-7b9d96b05c11",
   "metadata": {
    "execution": {
     "iopub.execute_input": "2021-10-03T09:59:40.549629Z",
     "iopub.status.busy": "2021-10-03T09:59:40.549169Z",
     "iopub.status.idle": "2021-10-03T09:59:40.797499Z",
     "shell.execute_reply": "2021-10-03T09:59:40.797021Z"
    },
    "papermill": {
     "duration": 0.284877,
     "end_time": "2021-10-03T09:59:40.797598",
     "exception": false,
     "start_time": "2021-10-03T09:59:40.512721",
     "status": "completed"
    },
    "tags": []
   },
   "outputs": [],
   "source": [
    "import rpy2.robjects as ro\n",
    "from rpy2.robjects import pandas2ri\n",
    "from rpy2.robjects.conversion import localconverter\n",
    "\n",
    "saveRDS = ro.r[\"saveRDS\"]\n",
    "readRDS = ro.r[\"readRDS\"]"
   ]
  },
  {
   "cell_type": "code",
   "execution_count": 33,
   "id": "39125ea1-5691-40c0-8c0e-ceee96112085",
   "metadata": {
    "execution": {
     "iopub.execute_input": "2021-10-03T09:59:40.869183Z",
     "iopub.status.busy": "2021-10-03T09:59:40.868731Z",
     "iopub.status.idle": "2021-10-03T09:59:40.870249Z",
     "shell.execute_reply": "2021-10-03T09:59:40.870595Z"
    },
    "papermill": {
     "duration": 0.038997,
     "end_time": "2021-10-03T09:59:40.870713",
     "exception": false,
     "start_time": "2021-10-03T09:59:40.831716",
     "status": "completed"
    },
    "tags": []
   },
   "outputs": [],
   "source": [
    "data = df"
   ]
  },
  {
   "cell_type": "markdown",
   "id": "bb392932-2012-444f-8f25-37905c44e7c3",
   "metadata": {
    "papermill": {
     "duration": 0.037277,
     "end_time": "2021-10-03T09:59:40.942306",
     "exception": false,
     "start_time": "2021-10-03T09:59:40.905029",
     "status": "completed"
    },
    "tags": []
   },
   "source": [
    "## Pickle"
   ]
  },
  {
   "cell_type": "code",
   "execution_count": 34,
   "id": "c9c1ef2b-858b-4dfe-8ee7-31b20be691a8",
   "metadata": {
    "execution": {
     "iopub.execute_input": "2021-10-03T09:59:41.016722Z",
     "iopub.status.busy": "2021-10-03T09:59:41.015991Z",
     "iopub.status.idle": "2021-10-03T09:59:41.019224Z",
     "shell.execute_reply": "2021-10-03T09:59:41.018831Z"
    },
    "papermill": {
     "duration": 0.041189,
     "end_time": "2021-10-03T09:59:41.019323",
     "exception": false,
     "start_time": "2021-10-03T09:59:40.978134",
     "status": "completed"
    },
    "tags": []
   },
   "outputs": [
    {
     "data": {
      "text/plain": [
       "PosixPath('/opt/data/results/gtex_v8/gene_set_enrichment/gtex_v8_data-gene_set_enrichment.pkl')"
      ]
     },
     "metadata": {},
     "output_type": "display_data"
    }
   ],
   "source": [
    "display(OUTPUT_FILE)"
   ]
  },
  {
   "cell_type": "code",
   "execution_count": 35,
   "id": "bed62eb6-8023-46a5-a6b0-dd0329e2d51b",
   "metadata": {
    "execution": {
     "iopub.execute_input": "2021-10-03T09:59:41.091259Z",
     "iopub.status.busy": "2021-10-03T09:59:41.090800Z",
     "iopub.status.idle": "2021-10-03T09:59:41.097502Z",
     "shell.execute_reply": "2021-10-03T09:59:41.097021Z"
    },
    "papermill": {
     "duration": 0.043697,
     "end_time": "2021-10-03T09:59:41.097605",
     "exception": false,
     "start_time": "2021-10-03T09:59:41.053908",
     "status": "completed"
    },
    "tags": []
   },
   "outputs": [],
   "source": [
    "data.to_pickle(OUTPUT_FILE)"
   ]
  },
  {
   "cell_type": "markdown",
   "id": "83727a87-aebd-47a7-a477-74ad6185accc",
   "metadata": {
    "papermill": {
     "duration": 0.033492,
     "end_time": "2021-10-03T09:59:41.165480",
     "exception": false,
     "start_time": "2021-10-03T09:59:41.131988",
     "status": "completed"
    },
    "tags": []
   },
   "source": [
    "## RDS"
   ]
  },
  {
   "cell_type": "code",
   "execution_count": 36,
   "id": "23cfacdb-e131-42b0-a37b-aec899913e32",
   "metadata": {
    "execution": {
     "iopub.execute_input": "2021-10-03T09:59:41.237224Z",
     "iopub.status.busy": "2021-10-03T09:59:41.236679Z",
     "iopub.status.idle": "2021-10-03T09:59:41.239567Z",
     "shell.execute_reply": "2021-10-03T09:59:41.239101Z"
    },
    "papermill": {
     "duration": 0.039972,
     "end_time": "2021-10-03T09:59:41.239666",
     "exception": false,
     "start_time": "2021-10-03T09:59:41.199694",
     "status": "completed"
    },
    "tags": []
   },
   "outputs": [
    {
     "data": {
      "text/plain": [
       "PosixPath('/opt/data/results/gtex_v8/gene_set_enrichment/gtex_v8_data-gene_set_enrichment.rds')"
      ]
     },
     "metadata": {},
     "output_type": "display_data"
    }
   ],
   "source": [
    "output_rds_file = OUTPUT_FILE.with_suffix(\".rds\")\n",
    "display(output_rds_file)"
   ]
  },
  {
   "cell_type": "code",
   "execution_count": 37,
   "id": "67e72cd4-cf60-420f-a011-0ec188abf178",
   "metadata": {
    "execution": {
     "iopub.execute_input": "2021-10-03T09:59:41.313131Z",
     "iopub.status.busy": "2021-10-03T09:59:41.312683Z",
     "iopub.status.idle": "2021-10-03T09:59:44.233858Z",
     "shell.execute_reply": "2021-10-03T09:59:44.233276Z"
    },
    "papermill": {
     "duration": 2.960331,
     "end_time": "2021-10-03T09:59:44.233980",
     "exception": false,
     "start_time": "2021-10-03T09:59:41.273649",
     "status": "completed"
    },
    "tags": []
   },
   "outputs": [],
   "source": [
    "with localconverter(ro.default_converter + pandas2ri.converter):\n",
    "    data_r = ro.conversion.py2rpy(data)"
   ]
  },
  {
   "cell_type": "code",
   "execution_count": 38,
   "id": "a6f614b7-d94b-4d91-8774-d60656d19cff",
   "metadata": {
    "execution": {
     "iopub.execute_input": "2021-10-03T09:59:44.310858Z",
     "iopub.status.busy": "2021-10-03T09:59:44.310417Z",
     "iopub.status.idle": "2021-10-03T09:59:44.321726Z",
     "shell.execute_reply": "2021-10-03T09:59:44.321282Z"
    },
    "papermill": {
     "duration": 0.049744,
     "end_time": "2021-10-03T09:59:44.321823",
     "exception": false,
     "start_time": "2021-10-03T09:59:44.272079",
     "status": "completed"
    },
    "tags": []
   },
   "outputs": [
    {
     "data": {
      "text/html": [
       "\n",
       "        <span>R/rpy2 DataFrame (84471 x 18)</span>\n",
       "        <table>\n",
       "          <thead>\n",
       "            <tr>\n",
       "              \n",
       "              <th>n_clusters</th>\n",
       "              \n",
       "              <th>cluster_id</th>\n",
       "              \n",
       "              <th>term_id</th>\n",
       "              \n",
       "              <th>...</th>\n",
       "              \n",
       "              <th>clust_method</th>\n",
       "              \n",
       "              <th>enrich_func</th>\n",
       "              \n",
       "              <th>enrich_params</th>\n",
       "              \n",
       "            </tr>\n",
       "          </thead>\n",
       "          <tbody>\n",
       "          \n",
       "          <tr>\n",
       "            \n",
       "            <td>\n",
       "              2\n",
       "            </td>\n",
       "            \n",
       "            <td>\n",
       "              C0\n",
       "            </td>\n",
       "            \n",
       "            <td>\n",
       "              hsa04...\n",
       "            </td>\n",
       "            \n",
       "            <td>\n",
       "              ...\n",
       "            </td>\n",
       "            \n",
       "            <td>\n",
       "              Spect...\n",
       "            </td>\n",
       "            \n",
       "            <td>\n",
       "              enric...\n",
       "            </td>\n",
       "            \n",
       "            <td>\n",
       "              hsa\n",
       "            </td>\n",
       "            \n",
       "          </tr>\n",
       "          \n",
       "          <tr>\n",
       "            \n",
       "            <td>\n",
       "              2\n",
       "            </td>\n",
       "            \n",
       "            <td>\n",
       "              C0\n",
       "            </td>\n",
       "            \n",
       "            <td>\n",
       "              hsa04...\n",
       "            </td>\n",
       "            \n",
       "            <td>\n",
       "              \n",
       "            </td>\n",
       "            \n",
       "            <td>\n",
       "              Spect...\n",
       "            </td>\n",
       "            \n",
       "            <td>\n",
       "              enric...\n",
       "            </td>\n",
       "            \n",
       "            <td>\n",
       "              hsa\n",
       "            </td>\n",
       "            \n",
       "          </tr>\n",
       "          \n",
       "          <tr>\n",
       "            \n",
       "            <td>\n",
       "              2\n",
       "            </td>\n",
       "            \n",
       "            <td>\n",
       "              C0\n",
       "            </td>\n",
       "            \n",
       "            <td>\n",
       "              hsa04...\n",
       "            </td>\n",
       "            \n",
       "            <td>\n",
       "              \n",
       "            </td>\n",
       "            \n",
       "            <td>\n",
       "              Spect...\n",
       "            </td>\n",
       "            \n",
       "            <td>\n",
       "              enric...\n",
       "            </td>\n",
       "            \n",
       "            <td>\n",
       "              hsa\n",
       "            </td>\n",
       "            \n",
       "          </tr>\n",
       "          \n",
       "          <tr>\n",
       "            \n",
       "            <td>\n",
       "              2\n",
       "            </td>\n",
       "            \n",
       "            <td>\n",
       "              C0\n",
       "            </td>\n",
       "            \n",
       "            <td>\n",
       "              hsa05...\n",
       "            </td>\n",
       "            \n",
       "            <td>\n",
       "              \n",
       "            </td>\n",
       "            \n",
       "            <td>\n",
       "              Spect...\n",
       "            </td>\n",
       "            \n",
       "            <td>\n",
       "              enric...\n",
       "            </td>\n",
       "            \n",
       "            <td>\n",
       "              hsa\n",
       "            </td>\n",
       "            \n",
       "          </tr>\n",
       "          \n",
       "          <tr>\n",
       "            \n",
       "            <td>\n",
       "              ...\n",
       "            </td>\n",
       "            \n",
       "            <td>\n",
       "              ...\n",
       "            </td>\n",
       "            \n",
       "            <td>\n",
       "              ...\n",
       "            </td>\n",
       "            \n",
       "            <td>\n",
       "              \n",
       "            </td>\n",
       "            \n",
       "            <td>\n",
       "              ...\n",
       "            </td>\n",
       "            \n",
       "            <td>\n",
       "              ...\n",
       "            </td>\n",
       "            \n",
       "            <td>\n",
       "              ...\n",
       "            </td>\n",
       "            \n",
       "          </tr>\n",
       "          \n",
       "          <tr>\n",
       "            \n",
       "            <td>\n",
       "              186\n",
       "            </td>\n",
       "            \n",
       "            <td>\n",
       "              C112\n",
       "            </td>\n",
       "            \n",
       "            <td>\n",
       "              hsa04...\n",
       "            </td>\n",
       "            \n",
       "            <td>\n",
       "              \n",
       "            </td>\n",
       "            \n",
       "            <td>\n",
       "              Spect...\n",
       "            </td>\n",
       "            \n",
       "            <td>\n",
       "              enric...\n",
       "            </td>\n",
       "            \n",
       "            <td>\n",
       "              hsa\n",
       "            </td>\n",
       "            \n",
       "          </tr>\n",
       "          \n",
       "          <tr>\n",
       "            \n",
       "            <td>\n",
       "              186\n",
       "            </td>\n",
       "            \n",
       "            <td>\n",
       "              C112\n",
       "            </td>\n",
       "            \n",
       "            <td>\n",
       "              hsa04...\n",
       "            </td>\n",
       "            \n",
       "            <td>\n",
       "              \n",
       "            </td>\n",
       "            \n",
       "            <td>\n",
       "              Spect...\n",
       "            </td>\n",
       "            \n",
       "            <td>\n",
       "              enric...\n",
       "            </td>\n",
       "            \n",
       "            <td>\n",
       "              hsa\n",
       "            </td>\n",
       "            \n",
       "          </tr>\n",
       "          \n",
       "          <tr>\n",
       "            \n",
       "            <td>\n",
       "              186\n",
       "            </td>\n",
       "            \n",
       "            <td>\n",
       "              C112\n",
       "            </td>\n",
       "            \n",
       "            <td>\n",
       "              hsa04...\n",
       "            </td>\n",
       "            \n",
       "            <td>\n",
       "              \n",
       "            </td>\n",
       "            \n",
       "            <td>\n",
       "              Spect...\n",
       "            </td>\n",
       "            \n",
       "            <td>\n",
       "              enric...\n",
       "            </td>\n",
       "            \n",
       "            <td>\n",
       "              hsa\n",
       "            </td>\n",
       "            \n",
       "          </tr>\n",
       "          \n",
       "          <tr>\n",
       "            \n",
       "            <td>\n",
       "              186\n",
       "            </td>\n",
       "            \n",
       "            <td>\n",
       "              C120\n",
       "            </td>\n",
       "            \n",
       "            <td>\n",
       "              hsa04...\n",
       "            </td>\n",
       "            \n",
       "            <td>\n",
       "              \n",
       "            </td>\n",
       "            \n",
       "            <td>\n",
       "              Spect...\n",
       "            </td>\n",
       "            \n",
       "            <td>\n",
       "              enric...\n",
       "            </td>\n",
       "            \n",
       "            <td>\n",
       "              hsa\n",
       "            </td>\n",
       "            \n",
       "          </tr>\n",
       "          \n",
       "          </tbody>\n",
       "        </table>\n",
       "    "
      ],
      "text/plain": [
       "<rpy2.robjects.vectors.DataFrame object at 0x7f5997607100> [RTYPES.VECSXP]\n",
       "R classes: ('data.frame',)\n",
       "[IntSexpVe..., IntSexpVe..., IntSexpVe..., IntSexpVe..., ..., IntSexpVe..., IntSexpVe..., IntSexpVe..., IntSexpVe...]\n",
       "  n_clusters: <class 'rpy2.robjects.vectors.IntVector'>\n",
       "  <rpy2.robjects.vectors.IntVector object at 0x7f5997b0f6c0> [RTYPES.INTSXP]\n",
       "R classes: ('integer',)\n",
       "[2, 2, 2, 2, ..., 186, 186, 186, 186]\n",
       "  cluster_id: <class 'rpy2.robjects.vectors.FactorVector'>\n",
       "  <rpy2.robjects.vectors.FactorVector object at 0x7f5997a50b80> [RTYPES.INTSXP]\n",
       "R classes: ('factor',)\n",
       "[C0, C0, C0, C0, ..., C112, C112, C112, C120]\n",
       "  term_id: <class 'rpy2.robjects.vectors.FactorVector'>\n",
       "  <rpy2.robjects.vectors.FactorVector object at 0x7f59975c45c0> [RTYPES.INTSXP]\n",
       "R classes: ('factor',)\n",
       "[hsa04..., hsa04..., hsa04..., hsa05..., ..., hsa04..., hsa04..., hsa04..., hsa04...]\n",
       "  term_desc: <class 'rpy2.robjects.vectors.FactorVector'>\n",
       "  <rpy2.robjects.vectors.FactorVector object at 0x7f599ac61b00> [RTYPES.INTSXP]\n",
       "R classes: ('factor',)\n",
       "[Osteo..., Neutr..., B cel..., Tuber..., ..., Growt..., Neuro..., JAK-S..., Th17 ...]\n",
       "...\n",
       "  gene_total: <class 'rpy2.robjects.vectors.FactorVector'>\n",
       "  <rpy2.robjects.vectors.FactorVector object at 0x7f5997607b40> [RTYPES.INTSXP]\n",
       "R classes: ('factor',)\n",
       "[clust..., clust..., clust..., clust..., ..., spear..., spear..., spear..., spear...]\n",
       "  gene_ratio: <class 'rpy2.robjects.vectors.FactorVector'>\n",
       "  <rpy2.robjects.vectors.FactorVector object at 0x7f5997607e00> [RTYPES.INTSXP]\n",
       "R classes: ('factor',)\n",
       "[Spect..., Spect..., Spect..., Spect..., ..., Spect..., Spect..., Spect..., Spect...]\n",
       "  bg_count: <class 'rpy2.robjects.vectors.FactorVector'>\n",
       "  <rpy2.robjects.vectors.FactorVector object at 0x7f5997688240> [RTYPES.INTSXP]\n",
       "R classes: ('factor',)\n",
       "[enric..., enric..., enric..., enric..., ..., enric..., enric..., enric..., enric...]\n",
       "  bg_total: <class 'rpy2.robjects.vectors.FactorVector'>\n",
       "  <rpy2.robjects.vectors.FactorVector object at 0x7f5997688640> [RTYPES.INTSXP]\n",
       "R classes: ('factor',)\n",
       "[hsa, hsa, hsa, hsa, ..., hsa, hsa, hsa, hsa]"
      ]
     },
     "execution_count": 38,
     "metadata": {},
     "output_type": "execute_result"
    }
   ],
   "source": [
    "data_r"
   ]
  },
  {
   "cell_type": "code",
   "execution_count": 39,
   "id": "4fbabd33-fec9-46fd-a17f-a53c376078ff",
   "metadata": {
    "execution": {
     "iopub.execute_input": "2021-10-03T09:59:44.396089Z",
     "iopub.status.busy": "2021-10-03T09:59:44.395588Z",
     "iopub.status.idle": "2021-10-03T09:59:44.745399Z",
     "shell.execute_reply": "2021-10-03T09:59:44.744953Z"
    },
    "papermill": {
     "duration": 0.387761,
     "end_time": "2021-10-03T09:59:44.745497",
     "exception": false,
     "start_time": "2021-10-03T09:59:44.357736",
     "status": "completed"
    },
    "tags": []
   },
   "outputs": [
    {
     "data": {
      "text/plain": [
       "<rpy2.rinterface_lib.sexp.NULLType object at 0x7f599a932840> [RTYPES.NILSXP]"
      ]
     },
     "execution_count": 39,
     "metadata": {},
     "output_type": "execute_result"
    }
   ],
   "source": [
    "saveRDS(data_r, str(output_rds_file))"
   ]
  },
  {
   "cell_type": "code",
   "execution_count": 40,
   "id": "520b5ed1-01b4-4434-aebc-5a6daa29a00e",
   "metadata": {
    "execution": {
     "iopub.execute_input": "2021-10-03T09:59:44.825010Z",
     "iopub.status.busy": "2021-10-03T09:59:44.824569Z",
     "iopub.status.idle": "2021-10-03T09:59:44.876939Z",
     "shell.execute_reply": "2021-10-03T09:59:44.876481Z"
    },
    "papermill": {
     "duration": 0.091277,
     "end_time": "2021-10-03T09:59:44.877037",
     "exception": false,
     "start_time": "2021-10-03T09:59:44.785760",
     "status": "completed"
    },
    "tags": []
   },
   "outputs": [],
   "source": [
    "# testing\n",
    "data_r = readRDS(str(output_rds_file))"
   ]
  },
  {
   "cell_type": "code",
   "execution_count": 41,
   "id": "64645a31-f003-49f2-8ceb-a1b12c9945d5",
   "metadata": {
    "execution": {
     "iopub.execute_input": "2021-10-03T09:59:44.955030Z",
     "iopub.status.busy": "2021-10-03T09:59:44.954465Z",
     "iopub.status.idle": "2021-10-03T09:59:47.242592Z",
     "shell.execute_reply": "2021-10-03T09:59:47.242123Z"
    },
    "papermill": {
     "duration": 2.329944,
     "end_time": "2021-10-03T09:59:47.242690",
     "exception": false,
     "start_time": "2021-10-03T09:59:44.912746",
     "status": "completed"
    },
    "tags": []
   },
   "outputs": [],
   "source": [
    "with localconverter(ro.default_converter + pandas2ri.converter):\n",
    "    data_again = ro.conversion.rpy2py(data_r)\n",
    "\n",
    "    # convert index to int, otherwise it's converted to string\n",
    "    data_again.index = data_again.index.astype(int)"
   ]
  },
  {
   "cell_type": "code",
   "execution_count": 42,
   "id": "a0c26630-f83e-4928-938a-1061fb39abab",
   "metadata": {
    "execution": {
     "iopub.execute_input": "2021-10-03T09:59:47.318117Z",
     "iopub.status.busy": "2021-10-03T09:59:47.317587Z",
     "iopub.status.idle": "2021-10-03T09:59:47.320342Z",
     "shell.execute_reply": "2021-10-03T09:59:47.319951Z"
    },
    "papermill": {
     "duration": 0.041543,
     "end_time": "2021-10-03T09:59:47.320439",
     "exception": false,
     "start_time": "2021-10-03T09:59:47.278896",
     "status": "completed"
    },
    "tags": []
   },
   "outputs": [
    {
     "data": {
      "text/plain": [
       "(84471, 18)"
      ]
     },
     "execution_count": 42,
     "metadata": {},
     "output_type": "execute_result"
    }
   ],
   "source": [
    "data_again.shape"
   ]
  },
  {
   "cell_type": "code",
   "execution_count": 43,
   "id": "1640e806-1aa5-442f-beb2-b8d3c23ab084",
   "metadata": {
    "execution": {
     "iopub.execute_input": "2021-10-03T09:59:47.408995Z",
     "iopub.status.busy": "2021-10-03T09:59:47.408409Z",
     "iopub.status.idle": "2021-10-03T09:59:47.410740Z",
     "shell.execute_reply": "2021-10-03T09:59:47.411111Z"
    },
    "papermill": {
     "duration": 0.054291,
     "end_time": "2021-10-03T09:59:47.411229",
     "exception": false,
     "start_time": "2021-10-03T09:59:47.356938",
     "status": "completed"
    },
    "tags": []
   },
   "outputs": [
    {
     "data": {
      "text/html": [
       "<div>\n",
       "<style scoped>\n",
       "    .dataframe tbody tr th:only-of-type {\n",
       "        vertical-align: middle;\n",
       "    }\n",
       "\n",
       "    .dataframe tbody tr th {\n",
       "        vertical-align: top;\n",
       "    }\n",
       "\n",
       "    .dataframe thead th {\n",
       "        text-align: right;\n",
       "    }\n",
       "</style>\n",
       "<table border=\"1\" class=\"dataframe\">\n",
       "  <thead>\n",
       "    <tr style=\"text-align: right;\">\n",
       "      <th></th>\n",
       "      <th>n_clusters</th>\n",
       "      <th>cluster_id</th>\n",
       "      <th>term_id</th>\n",
       "      <th>term_desc</th>\n",
       "      <th>gene_count</th>\n",
       "      <th>gene_total</th>\n",
       "      <th>gene_ratio</th>\n",
       "      <th>bg_count</th>\n",
       "      <th>bg_total</th>\n",
       "      <th>bg_ratio</th>\n",
       "      <th>pvalue</th>\n",
       "      <th>pvalue_adjust</th>\n",
       "      <th>tissue</th>\n",
       "      <th>gene_sel_strategy</th>\n",
       "      <th>corr_method</th>\n",
       "      <th>clust_method</th>\n",
       "      <th>enrich_func</th>\n",
       "      <th>enrich_params</th>\n",
       "    </tr>\n",
       "  </thead>\n",
       "  <tbody>\n",
       "    <tr>\n",
       "      <th>0</th>\n",
       "      <td>2</td>\n",
       "      <td>C0</td>\n",
       "      <td>hsa04380</td>\n",
       "      <td>Osteoclast differentiation</td>\n",
       "      <td>27</td>\n",
       "      <td>248</td>\n",
       "      <td>0.108871</td>\n",
       "      <td>51</td>\n",
       "      <td>1774</td>\n",
       "      <td>0.028749</td>\n",
       "      <td>2.376904e-11</td>\n",
       "      <td>5.229189e-09</td>\n",
       "      <td>adipose_subcutaneous</td>\n",
       "      <td>var_pc_log2</td>\n",
       "      <td>clustermatch</td>\n",
       "      <td>SpectralClustering</td>\n",
       "      <td>enrichKEGG</td>\n",
       "      <td>hsa</td>\n",
       "    </tr>\n",
       "    <tr>\n",
       "      <th>1</th>\n",
       "      <td>2</td>\n",
       "      <td>C0</td>\n",
       "      <td>hsa04613</td>\n",
       "      <td>Neutrophil extracellular trap formation</td>\n",
       "      <td>25</td>\n",
       "      <td>248</td>\n",
       "      <td>0.100806</td>\n",
       "      <td>50</td>\n",
       "      <td>1774</td>\n",
       "      <td>0.028185</td>\n",
       "      <td>6.975013e-10</td>\n",
       "      <td>7.672515e-08</td>\n",
       "      <td>adipose_subcutaneous</td>\n",
       "      <td>var_pc_log2</td>\n",
       "      <td>clustermatch</td>\n",
       "      <td>SpectralClustering</td>\n",
       "      <td>enrichKEGG</td>\n",
       "      <td>hsa</td>\n",
       "    </tr>\n",
       "    <tr>\n",
       "      <th>2</th>\n",
       "      <td>2</td>\n",
       "      <td>C0</td>\n",
       "      <td>hsa04662</td>\n",
       "      <td>B cell receptor signaling pathway</td>\n",
       "      <td>18</td>\n",
       "      <td>248</td>\n",
       "      <td>0.072581</td>\n",
       "      <td>29</td>\n",
       "      <td>1774</td>\n",
       "      <td>0.016347</td>\n",
       "      <td>1.939872e-09</td>\n",
       "      <td>1.422573e-07</td>\n",
       "      <td>adipose_subcutaneous</td>\n",
       "      <td>var_pc_log2</td>\n",
       "      <td>clustermatch</td>\n",
       "      <td>SpectralClustering</td>\n",
       "      <td>enrichKEGG</td>\n",
       "      <td>hsa</td>\n",
       "    </tr>\n",
       "    <tr>\n",
       "      <th>3</th>\n",
       "      <td>2</td>\n",
       "      <td>C0</td>\n",
       "      <td>hsa05152</td>\n",
       "      <td>Tuberculosis</td>\n",
       "      <td>25</td>\n",
       "      <td>248</td>\n",
       "      <td>0.100806</td>\n",
       "      <td>58</td>\n",
       "      <td>1774</td>\n",
       "      <td>0.032694</td>\n",
       "      <td>3.349306e-08</td>\n",
       "      <td>1.842118e-06</td>\n",
       "      <td>adipose_subcutaneous</td>\n",
       "      <td>var_pc_log2</td>\n",
       "      <td>clustermatch</td>\n",
       "      <td>SpectralClustering</td>\n",
       "      <td>enrichKEGG</td>\n",
       "      <td>hsa</td>\n",
       "    </tr>\n",
       "    <tr>\n",
       "      <th>4</th>\n",
       "      <td>2</td>\n",
       "      <td>C0</td>\n",
       "      <td>hsa04972</td>\n",
       "      <td>Pancreatic secretion</td>\n",
       "      <td>19</td>\n",
       "      <td>248</td>\n",
       "      <td>0.076613</td>\n",
       "      <td>41</td>\n",
       "      <td>1774</td>\n",
       "      <td>0.023112</td>\n",
       "      <td>4.180927e-07</td>\n",
       "      <td>1.839608e-05</td>\n",
       "      <td>adipose_subcutaneous</td>\n",
       "      <td>var_pc_log2</td>\n",
       "      <td>clustermatch</td>\n",
       "      <td>SpectralClustering</td>\n",
       "      <td>enrichKEGG</td>\n",
       "      <td>hsa</td>\n",
       "    </tr>\n",
       "  </tbody>\n",
       "</table>\n",
       "</div>"
      ],
      "text/plain": [
       "   n_clusters cluster_id   term_id                                term_desc  \\\n",
       "0           2         C0  hsa04380               Osteoclast differentiation   \n",
       "1           2         C0  hsa04613  Neutrophil extracellular trap formation   \n",
       "2           2         C0  hsa04662        B cell receptor signaling pathway   \n",
       "3           2         C0  hsa05152                             Tuberculosis   \n",
       "4           2         C0  hsa04972                     Pancreatic secretion   \n",
       "\n",
       "   gene_count  gene_total  gene_ratio  bg_count  bg_total  bg_ratio  \\\n",
       "0          27         248    0.108871        51      1774  0.028749   \n",
       "1          25         248    0.100806        50      1774  0.028185   \n",
       "2          18         248    0.072581        29      1774  0.016347   \n",
       "3          25         248    0.100806        58      1774  0.032694   \n",
       "4          19         248    0.076613        41      1774  0.023112   \n",
       "\n",
       "         pvalue  pvalue_adjust                tissue gene_sel_strategy  \\\n",
       "0  2.376904e-11   5.229189e-09  adipose_subcutaneous       var_pc_log2   \n",
       "1  6.975013e-10   7.672515e-08  adipose_subcutaneous       var_pc_log2   \n",
       "2  1.939872e-09   1.422573e-07  adipose_subcutaneous       var_pc_log2   \n",
       "3  3.349306e-08   1.842118e-06  adipose_subcutaneous       var_pc_log2   \n",
       "4  4.180927e-07   1.839608e-05  adipose_subcutaneous       var_pc_log2   \n",
       "\n",
       "    corr_method        clust_method enrich_func enrich_params  \n",
       "0  clustermatch  SpectralClustering  enrichKEGG           hsa  \n",
       "1  clustermatch  SpectralClustering  enrichKEGG           hsa  \n",
       "2  clustermatch  SpectralClustering  enrichKEGG           hsa  \n",
       "3  clustermatch  SpectralClustering  enrichKEGG           hsa  \n",
       "4  clustermatch  SpectralClustering  enrichKEGG           hsa  "
      ]
     },
     "execution_count": 43,
     "metadata": {},
     "output_type": "execute_result"
    }
   ],
   "source": [
    "data_again.head()"
   ]
  },
  {
   "cell_type": "code",
   "execution_count": 44,
   "id": "9e968267-09e7-449f-9d14-8203cd6c7bfc",
   "metadata": {
    "execution": {
     "iopub.execute_input": "2021-10-03T09:59:47.487808Z",
     "iopub.status.busy": "2021-10-03T09:59:47.486394Z",
     "iopub.status.idle": "2021-10-03T09:59:52.765638Z",
     "shell.execute_reply": "2021-10-03T09:59:52.765174Z"
    },
    "papermill": {
     "duration": 5.317072,
     "end_time": "2021-10-03T09:59:52.765738",
     "exception": false,
     "start_time": "2021-10-03T09:59:47.448666",
     "status": "completed"
    },
    "tags": []
   },
   "outputs": [],
   "source": [
    "pd.testing.assert_frame_equal(\n",
    "    data,\n",
    "    data_again,\n",
    "    check_names=False,  # do not check \"name\" attribute of index and column\n",
    "    check_exact=True,  # since this is a binary format, it should match exactly\n",
    ")"
   ]
  },
  {
   "cell_type": "markdown",
   "id": "ee5cd5ae-a935-46fb-bfc7-5d66ff274fe2",
   "metadata": {
    "papermill": {
     "duration": 0.03588,
     "end_time": "2021-10-03T09:59:52.838542",
     "exception": false,
     "start_time": "2021-10-03T09:59:52.802662",
     "status": "completed"
    },
    "tags": []
   },
   "source": [
    "## tsv.gz"
   ]
  },
  {
   "cell_type": "code",
   "execution_count": 45,
   "id": "cea96351-64fe-4bbf-a575-5587a22b79ec",
   "metadata": {
    "execution": {
     "iopub.execute_input": "2021-10-03T09:59:52.915500Z",
     "iopub.status.busy": "2021-10-03T09:59:52.914833Z",
     "iopub.status.idle": "2021-10-03T09:59:52.917835Z",
     "shell.execute_reply": "2021-10-03T09:59:52.917430Z"
    },
    "papermill": {
     "duration": 0.043051,
     "end_time": "2021-10-03T09:59:52.917935",
     "exception": false,
     "start_time": "2021-10-03T09:59:52.874884",
     "status": "completed"
    },
    "tags": []
   },
   "outputs": [
    {
     "data": {
      "text/plain": [
       "PosixPath('/opt/data/results/gtex_v8/gene_set_enrichment/gtex_v8_data-gene_set_enrichment.tsv.gz')"
      ]
     },
     "metadata": {},
     "output_type": "display_data"
    }
   ],
   "source": [
    "output_text_file = OUTPUT_FILE.with_suffix(\".tsv.gz\")\n",
    "display(output_text_file)"
   ]
  },
  {
   "cell_type": "code",
   "execution_count": 46,
   "id": "09330074-7cea-42d4-bc13-6af3131da12e",
   "metadata": {
    "execution": {
     "iopub.execute_input": "2021-10-03T09:59:52.999327Z",
     "iopub.status.busy": "2021-10-03T09:59:52.998802Z",
     "iopub.status.idle": "2021-10-03T09:59:54.497005Z",
     "shell.execute_reply": "2021-10-03T09:59:54.496538Z"
    },
    "papermill": {
     "duration": 1.542074,
     "end_time": "2021-10-03T09:59:54.497105",
     "exception": false,
     "start_time": "2021-10-03T09:59:52.955031",
     "status": "completed"
    },
    "tags": []
   },
   "outputs": [],
   "source": [
    "data.to_csv(output_text_file, sep=\"\\t\", index=False, float_format=\"%.5e\")"
   ]
  },
  {
   "cell_type": "code",
   "execution_count": 47,
   "id": "2f960ae8-d392-4768-9d2f-f7ed267ec60e",
   "metadata": {
    "execution": {
     "iopub.execute_input": "2021-10-03T09:59:54.574049Z",
     "iopub.status.busy": "2021-10-03T09:59:54.573589Z",
     "iopub.status.idle": "2021-10-03T09:59:54.768102Z",
     "shell.execute_reply": "2021-10-03T09:59:54.766798Z"
    },
    "papermill": {
     "duration": 0.234624,
     "end_time": "2021-10-03T09:59:54.768301",
     "exception": false,
     "start_time": "2021-10-03T09:59:54.533677",
     "status": "completed"
    },
    "tags": []
   },
   "outputs": [],
   "source": [
    "# testing\n",
    "data_again = pd.read_csv(output_text_file, sep=\"\\t\")  # , index_col=0)"
   ]
  },
  {
   "cell_type": "code",
   "execution_count": 48,
   "id": "04b581d2-6fc6-42b1-8f62-c166cb70986c",
   "metadata": {
    "execution": {
     "iopub.execute_input": "2021-10-03T09:59:54.847780Z",
     "iopub.status.busy": "2021-10-03T09:59:54.847154Z",
     "iopub.status.idle": "2021-10-03T09:59:54.850091Z",
     "shell.execute_reply": "2021-10-03T09:59:54.849639Z"
    },
    "papermill": {
     "duration": 0.042713,
     "end_time": "2021-10-03T09:59:54.850187",
     "exception": false,
     "start_time": "2021-10-03T09:59:54.807474",
     "status": "completed"
    },
    "tags": []
   },
   "outputs": [
    {
     "data": {
      "text/plain": [
       "(84471, 18)"
      ]
     },
     "execution_count": 48,
     "metadata": {},
     "output_type": "execute_result"
    }
   ],
   "source": [
    "data_again.shape"
   ]
  },
  {
   "cell_type": "code",
   "execution_count": 49,
   "id": "7dc97eb0-dac3-4a23-aaa0-fc2e351dcd15",
   "metadata": {
    "execution": {
     "iopub.execute_input": "2021-10-03T09:59:54.940783Z",
     "iopub.status.busy": "2021-10-03T09:59:54.940129Z",
     "iopub.status.idle": "2021-10-03T09:59:54.943024Z",
     "shell.execute_reply": "2021-10-03T09:59:54.942575Z"
    },
    "papermill": {
     "duration": 0.053695,
     "end_time": "2021-10-03T09:59:54.943120",
     "exception": false,
     "start_time": "2021-10-03T09:59:54.889425",
     "status": "completed"
    },
    "tags": []
   },
   "outputs": [
    {
     "data": {
      "text/html": [
       "<div>\n",
       "<style scoped>\n",
       "    .dataframe tbody tr th:only-of-type {\n",
       "        vertical-align: middle;\n",
       "    }\n",
       "\n",
       "    .dataframe tbody tr th {\n",
       "        vertical-align: top;\n",
       "    }\n",
       "\n",
       "    .dataframe thead th {\n",
       "        text-align: right;\n",
       "    }\n",
       "</style>\n",
       "<table border=\"1\" class=\"dataframe\">\n",
       "  <thead>\n",
       "    <tr style=\"text-align: right;\">\n",
       "      <th></th>\n",
       "      <th>n_clusters</th>\n",
       "      <th>cluster_id</th>\n",
       "      <th>term_id</th>\n",
       "      <th>term_desc</th>\n",
       "      <th>gene_count</th>\n",
       "      <th>gene_total</th>\n",
       "      <th>gene_ratio</th>\n",
       "      <th>bg_count</th>\n",
       "      <th>bg_total</th>\n",
       "      <th>bg_ratio</th>\n",
       "      <th>pvalue</th>\n",
       "      <th>pvalue_adjust</th>\n",
       "      <th>tissue</th>\n",
       "      <th>gene_sel_strategy</th>\n",
       "      <th>corr_method</th>\n",
       "      <th>clust_method</th>\n",
       "      <th>enrich_func</th>\n",
       "      <th>enrich_params</th>\n",
       "    </tr>\n",
       "  </thead>\n",
       "  <tbody>\n",
       "    <tr>\n",
       "      <th>0</th>\n",
       "      <td>2</td>\n",
       "      <td>C0</td>\n",
       "      <td>hsa04380</td>\n",
       "      <td>Osteoclast differentiation</td>\n",
       "      <td>27</td>\n",
       "      <td>248</td>\n",
       "      <td>0.108871</td>\n",
       "      <td>51</td>\n",
       "      <td>1774</td>\n",
       "      <td>0.028749</td>\n",
       "      <td>2.376900e-11</td>\n",
       "      <td>5.229190e-09</td>\n",
       "      <td>adipose_subcutaneous</td>\n",
       "      <td>var_pc_log2</td>\n",
       "      <td>clustermatch</td>\n",
       "      <td>SpectralClustering</td>\n",
       "      <td>enrichKEGG</td>\n",
       "      <td>hsa</td>\n",
       "    </tr>\n",
       "    <tr>\n",
       "      <th>1</th>\n",
       "      <td>2</td>\n",
       "      <td>C0</td>\n",
       "      <td>hsa04613</td>\n",
       "      <td>Neutrophil extracellular trap formation</td>\n",
       "      <td>25</td>\n",
       "      <td>248</td>\n",
       "      <td>0.100806</td>\n",
       "      <td>50</td>\n",
       "      <td>1774</td>\n",
       "      <td>0.028185</td>\n",
       "      <td>6.975010e-10</td>\n",
       "      <td>7.672510e-08</td>\n",
       "      <td>adipose_subcutaneous</td>\n",
       "      <td>var_pc_log2</td>\n",
       "      <td>clustermatch</td>\n",
       "      <td>SpectralClustering</td>\n",
       "      <td>enrichKEGG</td>\n",
       "      <td>hsa</td>\n",
       "    </tr>\n",
       "    <tr>\n",
       "      <th>2</th>\n",
       "      <td>2</td>\n",
       "      <td>C0</td>\n",
       "      <td>hsa04662</td>\n",
       "      <td>B cell receptor signaling pathway</td>\n",
       "      <td>18</td>\n",
       "      <td>248</td>\n",
       "      <td>0.072581</td>\n",
       "      <td>29</td>\n",
       "      <td>1774</td>\n",
       "      <td>0.016347</td>\n",
       "      <td>1.939870e-09</td>\n",
       "      <td>1.422570e-07</td>\n",
       "      <td>adipose_subcutaneous</td>\n",
       "      <td>var_pc_log2</td>\n",
       "      <td>clustermatch</td>\n",
       "      <td>SpectralClustering</td>\n",
       "      <td>enrichKEGG</td>\n",
       "      <td>hsa</td>\n",
       "    </tr>\n",
       "    <tr>\n",
       "      <th>3</th>\n",
       "      <td>2</td>\n",
       "      <td>C0</td>\n",
       "      <td>hsa05152</td>\n",
       "      <td>Tuberculosis</td>\n",
       "      <td>25</td>\n",
       "      <td>248</td>\n",
       "      <td>0.100806</td>\n",
       "      <td>58</td>\n",
       "      <td>1774</td>\n",
       "      <td>0.032695</td>\n",
       "      <td>3.349310e-08</td>\n",
       "      <td>1.842120e-06</td>\n",
       "      <td>adipose_subcutaneous</td>\n",
       "      <td>var_pc_log2</td>\n",
       "      <td>clustermatch</td>\n",
       "      <td>SpectralClustering</td>\n",
       "      <td>enrichKEGG</td>\n",
       "      <td>hsa</td>\n",
       "    </tr>\n",
       "    <tr>\n",
       "      <th>4</th>\n",
       "      <td>2</td>\n",
       "      <td>C0</td>\n",
       "      <td>hsa04972</td>\n",
       "      <td>Pancreatic secretion</td>\n",
       "      <td>19</td>\n",
       "      <td>248</td>\n",
       "      <td>0.076613</td>\n",
       "      <td>41</td>\n",
       "      <td>1774</td>\n",
       "      <td>0.023112</td>\n",
       "      <td>4.180930e-07</td>\n",
       "      <td>1.839610e-05</td>\n",
       "      <td>adipose_subcutaneous</td>\n",
       "      <td>var_pc_log2</td>\n",
       "      <td>clustermatch</td>\n",
       "      <td>SpectralClustering</td>\n",
       "      <td>enrichKEGG</td>\n",
       "      <td>hsa</td>\n",
       "    </tr>\n",
       "  </tbody>\n",
       "</table>\n",
       "</div>"
      ],
      "text/plain": [
       "   n_clusters cluster_id   term_id                                term_desc  \\\n",
       "0           2         C0  hsa04380               Osteoclast differentiation   \n",
       "1           2         C0  hsa04613  Neutrophil extracellular trap formation   \n",
       "2           2         C0  hsa04662        B cell receptor signaling pathway   \n",
       "3           2         C0  hsa05152                             Tuberculosis   \n",
       "4           2         C0  hsa04972                     Pancreatic secretion   \n",
       "\n",
       "   gene_count  gene_total  gene_ratio  bg_count  bg_total  bg_ratio  \\\n",
       "0          27         248    0.108871        51      1774  0.028749   \n",
       "1          25         248    0.100806        50      1774  0.028185   \n",
       "2          18         248    0.072581        29      1774  0.016347   \n",
       "3          25         248    0.100806        58      1774  0.032695   \n",
       "4          19         248    0.076613        41      1774  0.023112   \n",
       "\n",
       "         pvalue  pvalue_adjust                tissue gene_sel_strategy  \\\n",
       "0  2.376900e-11   5.229190e-09  adipose_subcutaneous       var_pc_log2   \n",
       "1  6.975010e-10   7.672510e-08  adipose_subcutaneous       var_pc_log2   \n",
       "2  1.939870e-09   1.422570e-07  adipose_subcutaneous       var_pc_log2   \n",
       "3  3.349310e-08   1.842120e-06  adipose_subcutaneous       var_pc_log2   \n",
       "4  4.180930e-07   1.839610e-05  adipose_subcutaneous       var_pc_log2   \n",
       "\n",
       "    corr_method        clust_method enrich_func enrich_params  \n",
       "0  clustermatch  SpectralClustering  enrichKEGG           hsa  \n",
       "1  clustermatch  SpectralClustering  enrichKEGG           hsa  \n",
       "2  clustermatch  SpectralClustering  enrichKEGG           hsa  \n",
       "3  clustermatch  SpectralClustering  enrichKEGG           hsa  \n",
       "4  clustermatch  SpectralClustering  enrichKEGG           hsa  "
      ]
     },
     "execution_count": 49,
     "metadata": {},
     "output_type": "execute_result"
    }
   ],
   "source": [
    "data_again.head()"
   ]
  },
  {
   "cell_type": "code",
   "execution_count": 50,
   "id": "8e85fff8-dde9-439d-808c-c053374c2785",
   "metadata": {
    "execution": {
     "iopub.execute_input": "2021-10-03T09:59:55.030047Z",
     "iopub.status.busy": "2021-10-03T09:59:55.029566Z",
     "iopub.status.idle": "2021-10-03T10:00:02.793263Z",
     "shell.execute_reply": "2021-10-03T10:00:02.792855Z"
    },
    "papermill": {
     "duration": 7.810304,
     "end_time": "2021-10-03T10:00:02.793363",
     "exception": false,
     "start_time": "2021-10-03T09:59:54.983059",
     "status": "completed"
    },
    "tags": []
   },
   "outputs": [],
   "source": [
    "pd.testing.assert_frame_equal(\n",
    "    data,\n",
    "    data_again,\n",
    "    check_names=False,  # do not check \"name\" attribute of index and column\n",
    "    check_dtype=False,  # do not check dtypes: do not distinguish between int64 and int32, for instance\n",
    "    check_categorical=False,\n",
    "    check_exact=False,\n",
    "    rtol=1e-5,\n",
    "    atol=5e-5,\n",
    ")"
   ]
  },
  {
   "cell_type": "code",
   "execution_count": null,
   "id": "72a954fe-b9c9-4f68-bca3-7a58e558cc3b",
   "metadata": {
    "papermill": {
     "duration": 0.037814,
     "end_time": "2021-10-03T10:00:02.869764",
     "exception": false,
     "start_time": "2021-10-03T10:00:02.831950",
     "status": "completed"
    },
    "tags": []
   },
   "outputs": [],
   "source": []
  }
 ],
 "metadata": {
  "jupytext": {
   "cell_metadata_filter": "all,-execution,-papermill,-trusted"
  },
  "kernelspec": {
   "display_name": "Python 3 (ipykernel)",
   "language": "python",
   "name": "python3"
  },
  "language_info": {
   "codemirror_mode": {
    "name": "ipython",
    "version": 3
   },
   "file_extension": ".py",
   "mimetype": "text/x-python",
   "name": "python",
   "nbconvert_exporter": "python",
   "pygments_lexer": "ipython3",
   "version": "3.9.7"
  },
  "papermill": {
   "default_parameters": {},
   "duration": 27.857073,
   "end_time": "2021-10-03T10:00:03.315908",
   "environment_variables": {},
   "exception": null,
   "input_path": "nbs/20_gene_set_enrichment/05_gtex_v8/90-combine_results.ipynb",
   "output_path": "nbs/20_gene_set_enrichment/05_gtex_v8/90-combine_results.run.ipynb",
   "parameters": {},
   "start_time": "2021-10-03T09:59:35.458835",
   "version": "2.3.3"
  },
  "toc-autonumbering": true
 },
 "nbformat": 4,
 "nbformat_minor": 5
}
