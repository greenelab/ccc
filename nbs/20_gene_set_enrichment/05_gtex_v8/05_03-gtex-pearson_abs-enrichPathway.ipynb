{
 "cells": [
  {
   "cell_type": "markdown",
   "id": "dfa1ba1b-d517-4a57-8db0-103ab5bd0a0d",
   "metadata": {
    "papermill": {
     "duration": 0.105595,
     "end_time": "2021-10-03T18:12:30.217325",
     "exception": false,
     "start_time": "2021-10-03T18:12:30.111730",
     "status": "completed"
    },
    "tags": []
   },
   "source": [
    "# Description"
   ]
  },
  {
   "cell_type": "markdown",
   "id": "8944732c-37a0-4af1-b9c1-86c0c2776126",
   "metadata": {
    "papermill": {
     "duration": 0.067022,
     "end_time": "2021-10-03T18:12:30.351960",
     "exception": false,
     "start_time": "2021-10-03T18:12:30.284938",
     "status": "completed"
    },
    "tags": []
   },
   "source": [
    "TODO/UPDATE: It computes gene enrichment on *all* the clustering results obtained using some correlation measure on GTEx v8 (specified under `Settings` below)."
   ]
  },
  {
   "cell_type": "markdown",
   "id": "3334aeb5-41a5-4331-9c28-34ec8f755e98",
   "metadata": {
    "papermill": {
     "duration": 0.066803,
     "end_time": "2021-10-03T18:12:30.485953",
     "exception": false,
     "start_time": "2021-10-03T18:12:30.419150",
     "status": "completed"
    },
    "tags": []
   },
   "source": [
    "# Modules loading"
   ]
  },
  {
   "cell_type": "code",
   "execution_count": 1,
   "id": "2c8cf869-a063-4731-bb75-acc121975426",
   "metadata": {
    "execution": {
     "iopub.execute_input": "2021-10-03T18:12:30.635776Z",
     "iopub.status.busy": "2021-10-03T18:12:30.635316Z",
     "iopub.status.idle": "2021-10-03T18:12:30.874910Z",
     "shell.execute_reply": "2021-10-03T18:12:30.874416Z"
    },
    "papermill": {
     "duration": 0.317268,
     "end_time": "2021-10-03T18:12:30.875024",
     "exception": false,
     "start_time": "2021-10-03T18:12:30.557756",
     "status": "completed"
    },
    "tags": []
   },
   "outputs": [],
   "source": [
    "import re\n",
    "from collections import defaultdict\n",
    "from concurrent.futures import ProcessPoolExecutor, as_completed\n",
    "\n",
    "import numpy as np\n",
    "import pandas as pd\n",
    "from tqdm import tqdm\n",
    "\n",
    "from clustermatch import conf\n",
    "from clustermatch.gene_enrich import run_enrich"
   ]
  },
  {
   "cell_type": "markdown",
   "id": "21f26cf2-d399-470f-94c3-e26dd5b4337d",
   "metadata": {
    "papermill": {
     "duration": 0.067112,
     "end_time": "2021-10-03T18:12:31.009531",
     "exception": false,
     "start_time": "2021-10-03T18:12:30.942419",
     "status": "completed"
    },
    "tags": []
   },
   "source": [
    "# Settings"
   ]
  },
  {
   "cell_type": "code",
   "execution_count": 2,
   "id": "ba4b9af6-32b3-434c-89d6-20d47f52620e",
   "metadata": {
    "execution": {
     "iopub.execute_input": "2021-10-03T18:12:31.147187Z",
     "iopub.status.busy": "2021-10-03T18:12:31.146724Z",
     "iopub.status.idle": "2021-10-03T18:12:31.148749Z",
     "shell.execute_reply": "2021-10-03T18:12:31.148366Z"
    },
    "papermill": {
     "duration": 0.072432,
     "end_time": "2021-10-03T18:12:31.148844",
     "exception": false,
     "start_time": "2021-10-03T18:12:31.076412",
     "status": "completed"
    },
    "tags": []
   },
   "outputs": [],
   "source": [
    "DATASET_CONFIG = conf.GTEX"
   ]
  },
  {
   "cell_type": "code",
   "execution_count": 3,
   "id": "16b1fa39-d18c-4a87-bfcc-8d302941544d",
   "metadata": {
    "execution": {
     "iopub.execute_input": "2021-10-03T18:12:31.287185Z",
     "iopub.status.busy": "2021-10-03T18:12:31.286726Z",
     "iopub.status.idle": "2021-10-03T18:12:31.288531Z",
     "shell.execute_reply": "2021-10-03T18:12:31.288866Z"
    },
    "papermill": {
     "duration": 0.072574,
     "end_time": "2021-10-03T18:12:31.288984",
     "exception": false,
     "start_time": "2021-10-03T18:12:31.216410",
     "status": "completed"
    },
    "tags": []
   },
   "outputs": [],
   "source": [
    "CORRELATION_METHOD_NAME = \"pearson_abs\""
   ]
  },
  {
   "cell_type": "code",
   "execution_count": 4,
   "id": "0072fd4d-4b6f-4553-bc17-7bc3d737c7fd",
   "metadata": {
    "execution": {
     "iopub.execute_input": "2021-10-03T18:12:31.427022Z",
     "iopub.status.busy": "2021-10-03T18:12:31.426573Z",
     "iopub.status.idle": "2021-10-03T18:12:31.428083Z",
     "shell.execute_reply": "2021-10-03T18:12:31.428420Z"
    },
    "papermill": {
     "duration": 0.071908,
     "end_time": "2021-10-03T18:12:31.428538",
     "exception": false,
     "start_time": "2021-10-03T18:12:31.356630",
     "status": "completed"
    },
    "tags": []
   },
   "outputs": [],
   "source": [
    "# GENE_SELECTION_STRATEGY = \"var_pc_log2\""
   ]
  },
  {
   "cell_type": "code",
   "execution_count": 5,
   "id": "f4b75296-746d-4f4a-b33b-2b003ff9802f",
   "metadata": {
    "execution": {
     "iopub.execute_input": "2021-10-03T18:12:31.571051Z",
     "iopub.status.busy": "2021-10-03T18:12:31.570573Z",
     "iopub.status.idle": "2021-10-03T18:12:31.572730Z",
     "shell.execute_reply": "2021-10-03T18:12:31.572341Z"
    },
    "papermill": {
     "duration": 0.077114,
     "end_time": "2021-10-03T18:12:31.572839",
     "exception": false,
     "start_time": "2021-10-03T18:12:31.495725",
     "status": "completed"
    },
    "tags": []
   },
   "outputs": [],
   "source": [
    "# clusterProfiler settings\n",
    "ENRICH_FUNCTION = \"enrichPathway\"\n",
    "ENRICH_PARAMS = \"human\""
   ]
  },
  {
   "cell_type": "markdown",
   "id": "fd099196-edbb-4a17-adce-c7079a221057",
   "metadata": {
    "papermill": {
     "duration": 0.066527,
     "end_time": "2021-10-03T18:12:31.707947",
     "exception": false,
     "start_time": "2021-10-03T18:12:31.641420",
     "status": "completed"
    },
    "tags": []
   },
   "source": [
    "# Paths"
   ]
  },
  {
   "cell_type": "code",
   "execution_count": 6,
   "id": "4f2e5aa2-0428-4f1b-8af7-41fd7f8208bb",
   "metadata": {
    "execution": {
     "iopub.execute_input": "2021-10-03T18:12:31.849212Z",
     "iopub.status.busy": "2021-10-03T18:12:31.848416Z",
     "iopub.status.idle": "2021-10-03T18:12:31.852885Z",
     "shell.execute_reply": "2021-10-03T18:12:31.852440Z"
    },
    "papermill": {
     "duration": 0.078836,
     "end_time": "2021-10-03T18:12:31.852980",
     "exception": false,
     "start_time": "2021-10-03T18:12:31.774144",
     "status": "completed"
    },
    "tags": []
   },
   "outputs": [
    {
     "data": {
      "text/plain": [
       "PosixPath('/opt/data/results/gtex_v8/clustering')"
      ]
     },
     "metadata": {},
     "output_type": "display_data"
    }
   ],
   "source": [
    "INPUT_DIR = DATASET_CONFIG[\"CLUSTERING_DIR\"]\n",
    "display(INPUT_DIR)\n",
    "assert INPUT_DIR.exists()"
   ]
  },
  {
   "cell_type": "code",
   "execution_count": 7,
   "id": "28806e98",
   "metadata": {
    "execution": {
     "iopub.execute_input": "2021-10-03T18:12:31.995008Z",
     "iopub.status.busy": "2021-10-03T18:12:31.994471Z",
     "iopub.status.idle": "2021-10-03T18:12:31.997292Z",
     "shell.execute_reply": "2021-10-03T18:12:31.996864Z"
    },
    "papermill": {
     "duration": 0.075352,
     "end_time": "2021-10-03T18:12:31.997382",
     "exception": false,
     "start_time": "2021-10-03T18:12:31.922030",
     "status": "completed"
    },
    "tags": []
   },
   "outputs": [
    {
     "data": {
      "text/plain": [
       "PosixPath('/opt/data/results/gtex_v8/similarity_matrices')"
      ]
     },
     "metadata": {},
     "output_type": "display_data"
    }
   ],
   "source": [
    "# this directory has the input data given to the clustering methods\n",
    "SIMILARITY_MATRICES_DIR = DATASET_CONFIG[\"SIMILARITY_MATRICES_DIR\"]\n",
    "display(SIMILARITY_MATRICES_DIR)"
   ]
  },
  {
   "cell_type": "code",
   "execution_count": 8,
   "id": "7eff043e-9416-486b-ae13-3dcda0e45f7d",
   "metadata": {
    "execution": {
     "iopub.execute_input": "2021-10-03T18:12:32.139730Z",
     "iopub.status.busy": "2021-10-03T18:12:32.139177Z",
     "iopub.status.idle": "2021-10-03T18:12:32.142112Z",
     "shell.execute_reply": "2021-10-03T18:12:32.141683Z"
    },
    "papermill": {
     "duration": 0.075401,
     "end_time": "2021-10-03T18:12:32.142204",
     "exception": false,
     "start_time": "2021-10-03T18:12:32.066803",
     "status": "completed"
    },
    "tags": []
   },
   "outputs": [
    {
     "data": {
      "text/plain": [
       "'gtex_v8_data_{tissue}-{gene_sel_strategy}-{corr_method}.pkl'"
      ]
     },
     "metadata": {},
     "output_type": "display_data"
    }
   ],
   "source": [
    "SIMILARITY_MATRIX_FILENAME_TEMPLATE = DATASET_CONFIG[\n",
    "    \"SIMILARITY_MATRIX_FILENAME_TEMPLATE\"\n",
    "]\n",
    "display(SIMILARITY_MATRIX_FILENAME_TEMPLATE)"
   ]
  },
  {
   "cell_type": "code",
   "execution_count": 9,
   "id": "ae7489d8-c09f-43a8-b52c-a9049266f734",
   "metadata": {
    "execution": {
     "iopub.execute_input": "2021-10-03T18:12:32.287554Z",
     "iopub.status.busy": "2021-10-03T18:12:32.286906Z",
     "iopub.status.idle": "2021-10-03T18:12:32.289741Z",
     "shell.execute_reply": "2021-10-03T18:12:32.289376Z"
    },
    "papermill": {
     "duration": 0.076669,
     "end_time": "2021-10-03T18:12:32.289832",
     "exception": false,
     "start_time": "2021-10-03T18:12:32.213163",
     "status": "completed"
    },
    "tags": []
   },
   "outputs": [
    {
     "data": {
      "text/plain": [
       "PosixPath('/opt/data/results/gtex_v8/gene_set_enrichment')"
      ]
     },
     "metadata": {},
     "output_type": "display_data"
    }
   ],
   "source": [
    "OUTPUT_DIR = DATASET_CONFIG[\"GENE_ENRICHMENT_DIR\"]\n",
    "OUTPUT_DIR.mkdir(parents=True, exist_ok=True)\n",
    "display(OUTPUT_DIR)"
   ]
  },
  {
   "cell_type": "markdown",
   "id": "6e0d3fbd-1090-466c-aa2e-176f7887c4cc",
   "metadata": {
    "papermill": {
     "duration": 0.071426,
     "end_time": "2021-10-03T18:12:32.432593",
     "exception": false,
     "start_time": "2021-10-03T18:12:32.361167",
     "status": "completed"
    },
    "tags": []
   },
   "source": [
    "# Get data files"
   ]
  },
  {
   "cell_type": "code",
   "execution_count": 10,
   "id": "735c38ea-9cb9-4e5f-aa1d-32cf420c45b6",
   "metadata": {
    "execution": {
     "iopub.execute_input": "2021-10-03T18:12:32.584816Z",
     "iopub.status.busy": "2021-10-03T18:12:32.584370Z",
     "iopub.status.idle": "2021-10-03T18:12:32.586573Z",
     "shell.execute_reply": "2021-10-03T18:12:32.586189Z"
    },
    "papermill": {
     "duration": 0.082632,
     "end_time": "2021-10-03T18:12:32.586670",
     "exception": false,
     "start_time": "2021-10-03T18:12:32.504038",
     "status": "completed"
    },
    "tags": []
   },
   "outputs": [],
   "source": [
    "filename_pattern = re.compile(DATASET_CONFIG[\"CLUSTERING_FILENAME_PATTERN\"])"
   ]
  },
  {
   "cell_type": "code",
   "execution_count": 11,
   "id": "0a2c5f50-ec5c-46e8-8918-753cbc941c24",
   "metadata": {
    "execution": {
     "iopub.execute_input": "2021-10-03T18:12:32.741085Z",
     "iopub.status.busy": "2021-10-03T18:12:32.740540Z",
     "iopub.status.idle": "2021-10-03T18:12:32.745000Z",
     "shell.execute_reply": "2021-10-03T18:12:32.745371Z"
    },
    "papermill": {
     "duration": 0.086965,
     "end_time": "2021-10-03T18:12:32.745494",
     "exception": false,
     "start_time": "2021-10-03T18:12:32.658529",
     "status": "completed"
    },
    "tags": []
   },
   "outputs": [
    {
     "data": {
      "text/plain": [
       "5"
      ]
     },
     "metadata": {},
     "output_type": "display_data"
    },
    {
     "data": {
      "text/plain": [
       "[PosixPath('/opt/data/results/gtex_v8/clustering/gtex_v8_data_adipose_subcutaneous-var_pc_log2-pearson_abs-SpectralClustering.pkl'),\n",
       " PosixPath('/opt/data/results/gtex_v8/clustering/gtex_v8_data_artery_tibial-var_pc_log2-pearson_abs-SpectralClustering.pkl'),\n",
       " PosixPath('/opt/data/results/gtex_v8/clustering/gtex_v8_data_muscle_skeletal-var_pc_log2-pearson_abs-SpectralClustering.pkl'),\n",
       " PosixPath('/opt/data/results/gtex_v8/clustering/gtex_v8_data_skin_sun_exposed_lower_leg-var_pc_log2-pearson_abs-SpectralClustering.pkl'),\n",
       " PosixPath('/opt/data/results/gtex_v8/clustering/gtex_v8_data_whole_blood-var_pc_log2-pearson_abs-SpectralClustering.pkl')]"
      ]
     },
     "metadata": {},
     "output_type": "display_data"
    }
   ],
   "source": [
    "# get input data files according to Settings\n",
    "input_files = sorted(\n",
    "    [\n",
    "        f\n",
    "        for f in INPUT_DIR.iterdir()\n",
    "        if (m := re.search(filename_pattern, str(f))) is not None\n",
    "        and m.group(\"corr_method\") == CORRELATION_METHOD_NAME\n",
    "    ]\n",
    ")\n",
    "display(len(input_files))\n",
    "display(input_files[:5])\n",
    "\n",
    "assert len(input_files) > 0"
   ]
  },
  {
   "cell_type": "markdown",
   "id": "04fe07b3-84e7-41f9-ba5d-09139ef0f69c",
   "metadata": {
    "papermill": {
     "duration": 0.074211,
     "end_time": "2021-10-03T18:12:32.896342",
     "exception": false,
     "start_time": "2021-10-03T18:12:32.822131",
     "status": "completed"
    },
    "tags": []
   },
   "source": [
    "# Preview input data"
   ]
  },
  {
   "cell_type": "markdown",
   "id": "9580f4e4-ca5d-4551-8545-7c8a3dc13d6b",
   "metadata": {
    "papermill": {
     "duration": 0.075088,
     "end_time": "2021-10-03T18:12:33.045825",
     "exception": false,
     "start_time": "2021-10-03T18:12:32.970737",
     "status": "completed"
    },
    "tags": []
   },
   "source": [
    "## Clustering results"
   ]
  },
  {
   "cell_type": "code",
   "execution_count": 12,
   "id": "ce5ee397-714e-430c-90c4-c648cc4780bf",
   "metadata": {
    "execution": {
     "iopub.execute_input": "2021-10-03T18:12:33.198873Z",
     "iopub.status.busy": "2021-10-03T18:12:33.198401Z",
     "iopub.status.idle": "2021-10-03T18:12:33.200759Z",
     "shell.execute_reply": "2021-10-03T18:12:33.201122Z"
    },
    "papermill": {
     "duration": 0.080644,
     "end_time": "2021-10-03T18:12:33.201241",
     "exception": false,
     "start_time": "2021-10-03T18:12:33.120597",
     "status": "completed"
    },
    "tags": []
   },
   "outputs": [],
   "source": [
    "tmp = pd.read_pickle(input_files[0])"
   ]
  },
  {
   "cell_type": "code",
   "execution_count": 13,
   "id": "51ad6d88-77d9-4ff9-ba36-fcefc4454dbe",
   "metadata": {
    "execution": {
     "iopub.execute_input": "2021-10-03T18:12:33.355399Z",
     "iopub.status.busy": "2021-10-03T18:12:33.354897Z",
     "iopub.status.idle": "2021-10-03T18:12:33.357113Z",
     "shell.execute_reply": "2021-10-03T18:12:33.357467Z"
    },
    "papermill": {
     "duration": 0.081244,
     "end_time": "2021-10-03T18:12:33.357582",
     "exception": false,
     "start_time": "2021-10-03T18:12:33.276338",
     "status": "completed"
    },
    "tags": []
   },
   "outputs": [
    {
     "data": {
      "text/plain": [
       "(25, 4)"
      ]
     },
     "execution_count": 13,
     "metadata": {},
     "output_type": "execute_result"
    }
   ],
   "source": [
    "tmp.shape"
   ]
  },
  {
   "cell_type": "code",
   "execution_count": 14,
   "id": "a25a8fe5-f96f-4327-b5af-74845de69074",
   "metadata": {
    "execution": {
     "iopub.execute_input": "2021-10-03T18:12:33.513122Z",
     "iopub.status.busy": "2021-10-03T18:12:33.512666Z",
     "iopub.status.idle": "2021-10-03T18:12:33.524097Z",
     "shell.execute_reply": "2021-10-03T18:12:33.523621Z"
    },
    "papermill": {
     "duration": 0.0906,
     "end_time": "2021-10-03T18:12:33.524194",
     "exception": false,
     "start_time": "2021-10-03T18:12:33.433594",
     "status": "completed"
    },
    "tags": []
   },
   "outputs": [
    {
     "data": {
      "text/html": [
       "<div>\n",
       "<style scoped>\n",
       "    .dataframe tbody tr th:only-of-type {\n",
       "        vertical-align: middle;\n",
       "    }\n",
       "\n",
       "    .dataframe tbody tr th {\n",
       "        vertical-align: top;\n",
       "    }\n",
       "\n",
       "    .dataframe thead th {\n",
       "        text-align: right;\n",
       "    }\n",
       "</style>\n",
       "<table border=\"1\" class=\"dataframe\">\n",
       "  <thead>\n",
       "    <tr style=\"text-align: right;\">\n",
       "      <th></th>\n",
       "      <th>params</th>\n",
       "      <th>partition</th>\n",
       "      <th>n_clusters</th>\n",
       "      <th>si_score</th>\n",
       "    </tr>\n",
       "    <tr>\n",
       "      <th>id</th>\n",
       "      <th></th>\n",
       "      <th></th>\n",
       "      <th></th>\n",
       "      <th></th>\n",
       "    </tr>\n",
       "  </thead>\n",
       "  <tbody>\n",
       "    <tr>\n",
       "      <th>SpectralClustering #0</th>\n",
       "      <td>{\"affinity\": \"precomputed\", \"assign_labels\": \"...</td>\n",
       "      <td>[0, 0, 0, 1, 0, 0, 0, 0, 0, 0, 1, 0, 0, 0, 0, ...</td>\n",
       "      <td>2</td>\n",
       "      <td>0.080422</td>\n",
       "    </tr>\n",
       "    <tr>\n",
       "      <th>SpectralClustering #1</th>\n",
       "      <td>{\"affinity\": \"precomputed\", \"assign_labels\": \"...</td>\n",
       "      <td>[1, 4, 0, 4, 0, 4, 4, 1, 0, 1, 4, 4, 4, 0, 4, ...</td>\n",
       "      <td>5</td>\n",
       "      <td>0.081886</td>\n",
       "    </tr>\n",
       "    <tr>\n",
       "      <th>SpectralClustering #2</th>\n",
       "      <td>{\"affinity\": \"precomputed\", \"assign_labels\": \"...</td>\n",
       "      <td>[6, 7, 7, 7, 6, 6, 7, 9, 6, 9, 7, 5, 7, 6, 6, ...</td>\n",
       "      <td>10</td>\n",
       "      <td>0.102141</td>\n",
       "    </tr>\n",
       "    <tr>\n",
       "      <th>SpectralClustering #3</th>\n",
       "      <td>{\"affinity\": \"precomputed\", \"assign_labels\": \"...</td>\n",
       "      <td>[11, 1, 0, 0, 11, 11, 0, 0, 11, 9, 0, 14, 0, 1...</td>\n",
       "      <td>15</td>\n",
       "      <td>0.117802</td>\n",
       "    </tr>\n",
       "    <tr>\n",
       "      <th>SpectralClustering #4</th>\n",
       "      <td>{\"affinity\": \"precomputed\", \"assign_labels\": \"...</td>\n",
       "      <td>[19, 8, 12, 2, 2, 2, 16, 11, 19, 6, 2, 13, 16,...</td>\n",
       "      <td>20</td>\n",
       "      <td>0.110024</td>\n",
       "    </tr>\n",
       "  </tbody>\n",
       "</table>\n",
       "</div>"
      ],
      "text/plain": [
       "                                                                  params  \\\n",
       "id                                                                         \n",
       "SpectralClustering #0  {\"affinity\": \"precomputed\", \"assign_labels\": \"...   \n",
       "SpectralClustering #1  {\"affinity\": \"precomputed\", \"assign_labels\": \"...   \n",
       "SpectralClustering #2  {\"affinity\": \"precomputed\", \"assign_labels\": \"...   \n",
       "SpectralClustering #3  {\"affinity\": \"precomputed\", \"assign_labels\": \"...   \n",
       "SpectralClustering #4  {\"affinity\": \"precomputed\", \"assign_labels\": \"...   \n",
       "\n",
       "                                                               partition  \\\n",
       "id                                                                         \n",
       "SpectralClustering #0  [0, 0, 0, 1, 0, 0, 0, 0, 0, 0, 1, 0, 0, 0, 0, ...   \n",
       "SpectralClustering #1  [1, 4, 0, 4, 0, 4, 4, 1, 0, 1, 4, 4, 4, 0, 4, ...   \n",
       "SpectralClustering #2  [6, 7, 7, 7, 6, 6, 7, 9, 6, 9, 7, 5, 7, 6, 6, ...   \n",
       "SpectralClustering #3  [11, 1, 0, 0, 11, 11, 0, 0, 11, 9, 0, 14, 0, 1...   \n",
       "SpectralClustering #4  [19, 8, 12, 2, 2, 2, 16, 11, 19, 6, 2, 13, 16,...   \n",
       "\n",
       "                       n_clusters  si_score  \n",
       "id                                           \n",
       "SpectralClustering #0           2  0.080422  \n",
       "SpectralClustering #1           5  0.081886  \n",
       "SpectralClustering #2          10  0.102141  \n",
       "SpectralClustering #3          15  0.117802  \n",
       "SpectralClustering #4          20  0.110024  "
      ]
     },
     "execution_count": 14,
     "metadata": {},
     "output_type": "execute_result"
    }
   ],
   "source": [
    "tmp.head()"
   ]
  },
  {
   "cell_type": "markdown",
   "id": "21ee675e-15d9-442e-8e6f-87c7578e9e6c",
   "metadata": {
    "papermill": {
     "duration": 0.076421,
     "end_time": "2021-10-03T18:12:33.683858",
     "exception": false,
     "start_time": "2021-10-03T18:12:33.607437",
     "status": "completed"
    },
    "tags": []
   },
   "source": [
    "## Similarity matrices (input to clustering methods)"
   ]
  },
  {
   "cell_type": "code",
   "execution_count": 15,
   "id": "9363dc2c-6717-43ac-9448-b6019a1cd28a",
   "metadata": {
    "execution": {
     "iopub.execute_input": "2021-10-03T18:12:33.840549Z",
     "iopub.status.busy": "2021-10-03T18:12:33.839986Z",
     "iopub.status.idle": "2021-10-03T18:12:33.842188Z",
     "shell.execute_reply": "2021-10-03T18:12:33.842554Z"
    },
    "papermill": {
     "duration": 0.082954,
     "end_time": "2021-10-03T18:12:33.842672",
     "exception": false,
     "start_time": "2021-10-03T18:12:33.759718",
     "status": "completed"
    },
    "tags": []
   },
   "outputs": [
    {
     "data": {
      "text/plain": [
       "'gtex_v8_data_adipose_subcutaneous-var_pc_log2-pearson.pkl'"
      ]
     },
     "metadata": {},
     "output_type": "display_data"
    }
   ],
   "source": [
    "similarity_matrix_filename = SIMILARITY_MATRIX_FILENAME_TEMPLATE.format(\n",
    "    tissue=\"adipose_subcutaneous\",\n",
    "    gene_sel_strategy=\"var_pc_log2\",\n",
    "    corr_method=CORRELATION_METHOD_NAME.split(\"_\")[0]\n",
    "    if not CORRELATION_METHOD_NAME.startswith(\"clustermatch\")\n",
    "    else CORRELATION_METHOD_NAME,\n",
    ")\n",
    "display(similarity_matrix_filename)"
   ]
  },
  {
   "cell_type": "code",
   "execution_count": 16,
   "id": "b1916d25-8cd2-430f-ab08-de6d80263c17",
   "metadata": {
    "execution": {
     "iopub.execute_input": "2021-10-03T18:12:34.000923Z",
     "iopub.status.busy": "2021-10-03T18:12:34.000455Z",
     "iopub.status.idle": "2021-10-03T18:12:34.088737Z",
     "shell.execute_reply": "2021-10-03T18:12:34.088161Z"
    },
    "papermill": {
     "duration": 0.169007,
     "end_time": "2021-10-03T18:12:34.088859",
     "exception": false,
     "start_time": "2021-10-03T18:12:33.919852",
     "status": "completed"
    },
    "tags": []
   },
   "outputs": [],
   "source": [
    "tmp = pd.read_pickle(SIMILARITY_MATRICES_DIR / similarity_matrix_filename)"
   ]
  },
  {
   "cell_type": "code",
   "execution_count": 17,
   "id": "d29dfd29-1d42-40fb-b19a-09367f3ce2f9",
   "metadata": {
    "execution": {
     "iopub.execute_input": "2021-10-03T18:12:34.251677Z",
     "iopub.status.busy": "2021-10-03T18:12:34.251019Z",
     "iopub.status.idle": "2021-10-03T18:12:34.254041Z",
     "shell.execute_reply": "2021-10-03T18:12:34.253614Z"
    },
    "papermill": {
     "duration": 0.083051,
     "end_time": "2021-10-03T18:12:34.254133",
     "exception": false,
     "start_time": "2021-10-03T18:12:34.171082",
     "status": "completed"
    },
    "tags": []
   },
   "outputs": [
    {
     "data": {
      "text/plain": [
       "(5000, 5000)"
      ]
     },
     "execution_count": 17,
     "metadata": {},
     "output_type": "execute_result"
    }
   ],
   "source": [
    "tmp.shape"
   ]
  },
  {
   "cell_type": "code",
   "execution_count": 18,
   "id": "2681f21b-4bc8-4452-ac6c-437694fc31d3",
   "metadata": {
    "execution": {
     "iopub.execute_input": "2021-10-03T18:12:34.429603Z",
     "iopub.status.busy": "2021-10-03T18:12:34.428909Z",
     "iopub.status.idle": "2021-10-03T18:12:34.431661Z",
     "shell.execute_reply": "2021-10-03T18:12:34.432037Z"
    },
    "papermill": {
     "duration": 0.098977,
     "end_time": "2021-10-03T18:12:34.432158",
     "exception": false,
     "start_time": "2021-10-03T18:12:34.333181",
     "status": "completed"
    },
    "tags": []
   },
   "outputs": [
    {
     "data": {
      "text/html": [
       "<div>\n",
       "<style scoped>\n",
       "    .dataframe tbody tr th:only-of-type {\n",
       "        vertical-align: middle;\n",
       "    }\n",
       "\n",
       "    .dataframe tbody tr th {\n",
       "        vertical-align: top;\n",
       "    }\n",
       "\n",
       "    .dataframe thead th {\n",
       "        text-align: right;\n",
       "    }\n",
       "</style>\n",
       "<table border=\"1\" class=\"dataframe\">\n",
       "  <thead>\n",
       "    <tr style=\"text-align: right;\">\n",
       "      <th>gene_ens_id</th>\n",
       "      <th>ENSG00000129824.15</th>\n",
       "      <th>ENSG00000149968.11</th>\n",
       "      <th>ENSG00000134184.12</th>\n",
       "      <th>ENSG00000224114.1</th>\n",
       "      <th>ENSG00000173432.10</th>\n",
       "      <th>ENSG00000067048.16</th>\n",
       "      <th>ENSG00000229807.10</th>\n",
       "      <th>ENSG00000012817.15</th>\n",
       "      <th>ENSG00000134339.8</th>\n",
       "      <th>ENSG00000175084.11</th>\n",
       "      <th>...</th>\n",
       "      <th>ENSG00000197467.13</th>\n",
       "      <th>ENSG00000279807.1</th>\n",
       "      <th>ENSG00000107742.12</th>\n",
       "      <th>ENSG00000176454.13</th>\n",
       "      <th>ENSG00000212206.1</th>\n",
       "      <th>ENSG00000104611.11</th>\n",
       "      <th>ENSG00000181800.5</th>\n",
       "      <th>ENSG00000171049.8</th>\n",
       "      <th>ENSG00000257671.1</th>\n",
       "      <th>ENSG00000180448.10</th>\n",
       "    </tr>\n",
       "    <tr>\n",
       "      <th>gene_ens_id</th>\n",
       "      <th></th>\n",
       "      <th></th>\n",
       "      <th></th>\n",
       "      <th></th>\n",
       "      <th></th>\n",
       "      <th></th>\n",
       "      <th></th>\n",
       "      <th></th>\n",
       "      <th></th>\n",
       "      <th></th>\n",
       "      <th></th>\n",
       "      <th></th>\n",
       "      <th></th>\n",
       "      <th></th>\n",
       "      <th></th>\n",
       "      <th></th>\n",
       "      <th></th>\n",
       "      <th></th>\n",
       "      <th></th>\n",
       "      <th></th>\n",
       "      <th></th>\n",
       "    </tr>\n",
       "  </thead>\n",
       "  <tbody>\n",
       "    <tr>\n",
       "      <th>ENSG00000129824.15</th>\n",
       "      <td>1.000000</td>\n",
       "      <td>0.142708</td>\n",
       "      <td>0.044838</td>\n",
       "      <td>0.086169</td>\n",
       "      <td>-0.421258</td>\n",
       "      <td>0.865448</td>\n",
       "      <td>-0.859269</td>\n",
       "      <td>0.865491</td>\n",
       "      <td>-0.367116</td>\n",
       "      <td>0.138336</td>\n",
       "      <td>...</td>\n",
       "      <td>0.059709</td>\n",
       "      <td>-0.064784</td>\n",
       "      <td>-0.187353</td>\n",
       "      <td>0.170236</td>\n",
       "      <td>-0.121441</td>\n",
       "      <td>-0.045449</td>\n",
       "      <td>0.018520</td>\n",
       "      <td>-0.036597</td>\n",
       "      <td>0.020401</td>\n",
       "      <td>-0.080637</td>\n",
       "    </tr>\n",
       "    <tr>\n",
       "      <th>ENSG00000149968.11</th>\n",
       "      <td>0.142708</td>\n",
       "      <td>1.000000</td>\n",
       "      <td>-0.007867</td>\n",
       "      <td>-0.010732</td>\n",
       "      <td>-0.053097</td>\n",
       "      <td>0.093840</td>\n",
       "      <td>-0.117330</td>\n",
       "      <td>0.145575</td>\n",
       "      <td>-0.042243</td>\n",
       "      <td>0.017482</td>\n",
       "      <td>...</td>\n",
       "      <td>0.016968</td>\n",
       "      <td>-0.108133</td>\n",
       "      <td>-0.085922</td>\n",
       "      <td>0.003982</td>\n",
       "      <td>-0.116853</td>\n",
       "      <td>0.084377</td>\n",
       "      <td>0.030756</td>\n",
       "      <td>0.001033</td>\n",
       "      <td>0.081805</td>\n",
       "      <td>-0.016195</td>\n",
       "    </tr>\n",
       "    <tr>\n",
       "      <th>ENSG00000134184.12</th>\n",
       "      <td>0.044838</td>\n",
       "      <td>-0.007867</td>\n",
       "      <td>1.000000</td>\n",
       "      <td>0.048325</td>\n",
       "      <td>-0.060237</td>\n",
       "      <td>-0.003045</td>\n",
       "      <td>0.018880</td>\n",
       "      <td>0.030437</td>\n",
       "      <td>-0.058037</td>\n",
       "      <td>0.013180</td>\n",
       "      <td>...</td>\n",
       "      <td>0.142475</td>\n",
       "      <td>-0.012856</td>\n",
       "      <td>-0.001916</td>\n",
       "      <td>0.055313</td>\n",
       "      <td>-0.065313</td>\n",
       "      <td>0.066425</td>\n",
       "      <td>0.091907</td>\n",
       "      <td>-0.122295</td>\n",
       "      <td>-0.029169</td>\n",
       "      <td>0.038163</td>\n",
       "    </tr>\n",
       "    <tr>\n",
       "      <th>ENSG00000224114.1</th>\n",
       "      <td>0.086169</td>\n",
       "      <td>-0.010732</td>\n",
       "      <td>0.048325</td>\n",
       "      <td>1.000000</td>\n",
       "      <td>-0.013719</td>\n",
       "      <td>0.020956</td>\n",
       "      <td>-0.033068</td>\n",
       "      <td>0.030229</td>\n",
       "      <td>0.002116</td>\n",
       "      <td>0.009568</td>\n",
       "      <td>...</td>\n",
       "      <td>-0.034950</td>\n",
       "      <td>0.002969</td>\n",
       "      <td>-0.026505</td>\n",
       "      <td>0.038772</td>\n",
       "      <td>-0.052049</td>\n",
       "      <td>0.007405</td>\n",
       "      <td>0.022898</td>\n",
       "      <td>0.076558</td>\n",
       "      <td>-0.012262</td>\n",
       "      <td>0.040187</td>\n",
       "    </tr>\n",
       "    <tr>\n",
       "      <th>ENSG00000173432.10</th>\n",
       "      <td>-0.421258</td>\n",
       "      <td>-0.053097</td>\n",
       "      <td>-0.060237</td>\n",
       "      <td>-0.013719</td>\n",
       "      <td>1.000000</td>\n",
       "      <td>-0.415001</td>\n",
       "      <td>0.293888</td>\n",
       "      <td>-0.412644</td>\n",
       "      <td>0.928801</td>\n",
       "      <td>-0.131880</td>\n",
       "      <td>...</td>\n",
       "      <td>-0.106866</td>\n",
       "      <td>-0.067553</td>\n",
       "      <td>0.151411</td>\n",
       "      <td>-0.292238</td>\n",
       "      <td>0.024054</td>\n",
       "      <td>0.075032</td>\n",
       "      <td>-0.114333</td>\n",
       "      <td>0.081625</td>\n",
       "      <td>0.000631</td>\n",
       "      <td>0.009827</td>\n",
       "    </tr>\n",
       "  </tbody>\n",
       "</table>\n",
       "<p>5 rows × 5000 columns</p>\n",
       "</div>"
      ],
      "text/plain": [
       "gene_ens_id         ENSG00000129824.15  ENSG00000149968.11  \\\n",
       "gene_ens_id                                                  \n",
       "ENSG00000129824.15            1.000000            0.142708   \n",
       "ENSG00000149968.11            0.142708            1.000000   \n",
       "ENSG00000134184.12            0.044838           -0.007867   \n",
       "ENSG00000224114.1             0.086169           -0.010732   \n",
       "ENSG00000173432.10           -0.421258           -0.053097   \n",
       "\n",
       "gene_ens_id         ENSG00000134184.12  ENSG00000224114.1  ENSG00000173432.10  \\\n",
       "gene_ens_id                                                                     \n",
       "ENSG00000129824.15            0.044838           0.086169           -0.421258   \n",
       "ENSG00000149968.11           -0.007867          -0.010732           -0.053097   \n",
       "ENSG00000134184.12            1.000000           0.048325           -0.060237   \n",
       "ENSG00000224114.1             0.048325           1.000000           -0.013719   \n",
       "ENSG00000173432.10           -0.060237          -0.013719            1.000000   \n",
       "\n",
       "gene_ens_id         ENSG00000067048.16  ENSG00000229807.10  \\\n",
       "gene_ens_id                                                  \n",
       "ENSG00000129824.15            0.865448           -0.859269   \n",
       "ENSG00000149968.11            0.093840           -0.117330   \n",
       "ENSG00000134184.12           -0.003045            0.018880   \n",
       "ENSG00000224114.1             0.020956           -0.033068   \n",
       "ENSG00000173432.10           -0.415001            0.293888   \n",
       "\n",
       "gene_ens_id         ENSG00000012817.15  ENSG00000134339.8  ENSG00000175084.11  \\\n",
       "gene_ens_id                                                                     \n",
       "ENSG00000129824.15            0.865491          -0.367116            0.138336   \n",
       "ENSG00000149968.11            0.145575          -0.042243            0.017482   \n",
       "ENSG00000134184.12            0.030437          -0.058037            0.013180   \n",
       "ENSG00000224114.1             0.030229           0.002116            0.009568   \n",
       "ENSG00000173432.10           -0.412644           0.928801           -0.131880   \n",
       "\n",
       "gene_ens_id         ...  ENSG00000197467.13  ENSG00000279807.1  \\\n",
       "gene_ens_id         ...                                          \n",
       "ENSG00000129824.15  ...            0.059709          -0.064784   \n",
       "ENSG00000149968.11  ...            0.016968          -0.108133   \n",
       "ENSG00000134184.12  ...            0.142475          -0.012856   \n",
       "ENSG00000224114.1   ...           -0.034950           0.002969   \n",
       "ENSG00000173432.10  ...           -0.106866          -0.067553   \n",
       "\n",
       "gene_ens_id         ENSG00000107742.12  ENSG00000176454.13  ENSG00000212206.1  \\\n",
       "gene_ens_id                                                                     \n",
       "ENSG00000129824.15           -0.187353            0.170236          -0.121441   \n",
       "ENSG00000149968.11           -0.085922            0.003982          -0.116853   \n",
       "ENSG00000134184.12           -0.001916            0.055313          -0.065313   \n",
       "ENSG00000224114.1            -0.026505            0.038772          -0.052049   \n",
       "ENSG00000173432.10            0.151411           -0.292238           0.024054   \n",
       "\n",
       "gene_ens_id         ENSG00000104611.11  ENSG00000181800.5  ENSG00000171049.8  \\\n",
       "gene_ens_id                                                                    \n",
       "ENSG00000129824.15           -0.045449           0.018520          -0.036597   \n",
       "ENSG00000149968.11            0.084377           0.030756           0.001033   \n",
       "ENSG00000134184.12            0.066425           0.091907          -0.122295   \n",
       "ENSG00000224114.1             0.007405           0.022898           0.076558   \n",
       "ENSG00000173432.10            0.075032          -0.114333           0.081625   \n",
       "\n",
       "gene_ens_id         ENSG00000257671.1  ENSG00000180448.10  \n",
       "gene_ens_id                                                \n",
       "ENSG00000129824.15           0.020401           -0.080637  \n",
       "ENSG00000149968.11           0.081805           -0.016195  \n",
       "ENSG00000134184.12          -0.029169            0.038163  \n",
       "ENSG00000224114.1           -0.012262            0.040187  \n",
       "ENSG00000173432.10           0.000631            0.009827  \n",
       "\n",
       "[5 rows x 5000 columns]"
      ]
     },
     "execution_count": 18,
     "metadata": {},
     "output_type": "execute_result"
    }
   ],
   "source": [
    "tmp.head()"
   ]
  },
  {
   "cell_type": "markdown",
   "id": "51d7a057-e0d3-4495-a53b-52b4a38f2a94",
   "metadata": {
    "papermill": {
     "duration": 0.084976,
     "end_time": "2021-10-03T18:12:34.597296",
     "exception": false,
     "start_time": "2021-10-03T18:12:34.512320",
     "status": "completed"
    },
    "tags": []
   },
   "source": [
    "### Convert Ensembl Gene IDs to Entrez IDs"
   ]
  },
  {
   "cell_type": "code",
   "execution_count": 19,
   "id": "ca0ed202-4c3d-403e-8ad0-797df5939386",
   "metadata": {
    "execution": {
     "iopub.execute_input": "2021-10-03T18:12:34.759970Z",
     "iopub.status.busy": "2021-10-03T18:12:34.759406Z",
     "iopub.status.idle": "2021-10-03T18:12:34.762180Z",
     "shell.execute_reply": "2021-10-03T18:12:34.761740Z"
    },
    "papermill": {
     "duration": 0.0856,
     "end_time": "2021-10-03T18:12:34.762274",
     "exception": false,
     "start_time": "2021-10-03T18:12:34.676674",
     "status": "completed"
    },
    "tags": []
   },
   "outputs": [
    {
     "data": {
      "text/plain": [
       "PosixPath('/opt/data/data/gtex_v8/gtex_entrez_gene_ids_mappings.pkl')"
      ]
     },
     "metadata": {},
     "output_type": "display_data"
    }
   ],
   "source": [
    "input_filename = conf.GTEX[\"DATA_DIR\"] / \"gtex_entrez_gene_ids_mappings.pkl\"\n",
    "display(input_filename)\n",
    "assert input_filename.exists()"
   ]
  },
  {
   "cell_type": "code",
   "execution_count": 20,
   "id": "a7d2f391-f925-447a-b4b1-f60bc4653daa",
   "metadata": {
    "execution": {
     "iopub.execute_input": "2021-10-03T18:12:34.940755Z",
     "iopub.status.busy": "2021-10-03T18:12:34.940309Z",
     "iopub.status.idle": "2021-10-03T18:12:34.942281Z",
     "shell.execute_reply": "2021-10-03T18:12:34.941906Z"
    },
    "papermill": {
     "duration": 0.098469,
     "end_time": "2021-10-03T18:12:34.942376",
     "exception": false,
     "start_time": "2021-10-03T18:12:34.843907",
     "status": "completed"
    },
    "tags": []
   },
   "outputs": [],
   "source": [
    "gene_ids_mappings = pd.read_pickle(input_filename)"
   ]
  },
  {
   "cell_type": "code",
   "execution_count": 21,
   "id": "b2910fe8-7f7b-4b87-bfbe-d3642f3410b9",
   "metadata": {
    "execution": {
     "iopub.execute_input": "2021-10-03T18:12:35.106800Z",
     "iopub.status.busy": "2021-10-03T18:12:35.106289Z",
     "iopub.status.idle": "2021-10-03T18:12:35.108451Z",
     "shell.execute_reply": "2021-10-03T18:12:35.108816Z"
    },
    "papermill": {
     "duration": 0.085981,
     "end_time": "2021-10-03T18:12:35.108936",
     "exception": false,
     "start_time": "2021-10-03T18:12:35.022955",
     "status": "completed"
    },
    "tags": []
   },
   "outputs": [
    {
     "data": {
      "text/plain": [
       "(34527, 3)"
      ]
     },
     "execution_count": 21,
     "metadata": {},
     "output_type": "execute_result"
    }
   ],
   "source": [
    "gene_ids_mappings.shape"
   ]
  },
  {
   "cell_type": "code",
   "execution_count": 22,
   "id": "dced4328-14c8-40d7-a479-fcd83eb7bb60",
   "metadata": {
    "execution": {
     "iopub.execute_input": "2021-10-03T18:12:35.278326Z",
     "iopub.status.busy": "2021-10-03T18:12:35.277716Z",
     "iopub.status.idle": "2021-10-03T18:12:35.280220Z",
     "shell.execute_reply": "2021-10-03T18:12:35.280569Z"
    },
    "papermill": {
     "duration": 0.09036,
     "end_time": "2021-10-03T18:12:35.280684",
     "exception": false,
     "start_time": "2021-10-03T18:12:35.190324",
     "status": "completed"
    },
    "tags": []
   },
   "outputs": [
    {
     "data": {
      "text/html": [
       "<div>\n",
       "<style scoped>\n",
       "    .dataframe tbody tr th:only-of-type {\n",
       "        vertical-align: middle;\n",
       "    }\n",
       "\n",
       "    .dataframe tbody tr th {\n",
       "        vertical-align: top;\n",
       "    }\n",
       "\n",
       "    .dataframe thead th {\n",
       "        text-align: right;\n",
       "    }\n",
       "</style>\n",
       "<table border=\"1\" class=\"dataframe\">\n",
       "  <thead>\n",
       "    <tr style=\"text-align: right;\">\n",
       "      <th></th>\n",
       "      <th>gene_ens_id_v</th>\n",
       "      <th>ensembl_id</th>\n",
       "      <th>entrez_id</th>\n",
       "    </tr>\n",
       "  </thead>\n",
       "  <tbody>\n",
       "    <tr>\n",
       "      <th>0</th>\n",
       "      <td>ENSG00000145309.5</td>\n",
       "      <td>ENSG00000145309</td>\n",
       "      <td>85438</td>\n",
       "    </tr>\n",
       "    <tr>\n",
       "      <th>1</th>\n",
       "      <td>ENSG00000175820.3</td>\n",
       "      <td>ENSG00000175820</td>\n",
       "      <td>643677</td>\n",
       "    </tr>\n",
       "    <tr>\n",
       "      <th>2</th>\n",
       "      <td>ENSG00000083454.21</td>\n",
       "      <td>ENSG00000083454</td>\n",
       "      <td>5026</td>\n",
       "    </tr>\n",
       "    <tr>\n",
       "      <th>3</th>\n",
       "      <td>ENSG00000071794.15</td>\n",
       "      <td>ENSG00000071794</td>\n",
       "      <td>6596</td>\n",
       "    </tr>\n",
       "    <tr>\n",
       "      <th>4</th>\n",
       "      <td>ENSG00000211918.1</td>\n",
       "      <td>ENSG00000211918</td>\n",
       "      <td>28503</td>\n",
       "    </tr>\n",
       "  </tbody>\n",
       "</table>\n",
       "</div>"
      ],
      "text/plain": [
       "        gene_ens_id_v       ensembl_id entrez_id\n",
       "0   ENSG00000145309.5  ENSG00000145309     85438\n",
       "1   ENSG00000175820.3  ENSG00000175820    643677\n",
       "2  ENSG00000083454.21  ENSG00000083454      5026\n",
       "3  ENSG00000071794.15  ENSG00000071794      6596\n",
       "4   ENSG00000211918.1  ENSG00000211918     28503"
      ]
     },
     "execution_count": 22,
     "metadata": {},
     "output_type": "execute_result"
    }
   ],
   "source": [
    "gene_ids_mappings.head()"
   ]
  },
  {
   "cell_type": "code",
   "execution_count": 23,
   "id": "2dc964bf-d535-4021-b001-a2d0a334985f",
   "metadata": {
    "execution": {
     "iopub.execute_input": "2021-10-03T18:12:35.473058Z",
     "iopub.status.busy": "2021-10-03T18:12:35.447551Z",
     "iopub.status.idle": "2021-10-03T18:12:35.475266Z",
     "shell.execute_reply": "2021-10-03T18:12:35.474849Z"
    },
    "papermill": {
     "duration": 0.111705,
     "end_time": "2021-10-03T18:12:35.475359",
     "exception": false,
     "start_time": "2021-10-03T18:12:35.363654",
     "status": "completed"
    },
    "tags": []
   },
   "outputs": [],
   "source": [
    "gene_id_maps = gene_ids_mappings.set_index(\"gene_ens_id_v\")[\"entrez_id\"].to_dict()"
   ]
  },
  {
   "cell_type": "code",
   "execution_count": 24,
   "id": "838abb9e-19f4-423a-a013-14e56fff6de6",
   "metadata": {
    "execution": {
     "iopub.execute_input": "2021-10-03T18:12:35.655315Z",
     "iopub.status.busy": "2021-10-03T18:12:35.654724Z",
     "iopub.status.idle": "2021-10-03T18:12:35.658325Z",
     "shell.execute_reply": "2021-10-03T18:12:35.657883Z"
    },
    "papermill": {
     "duration": 0.099303,
     "end_time": "2021-10-03T18:12:35.658422",
     "exception": false,
     "start_time": "2021-10-03T18:12:35.559119",
     "status": "completed"
    },
    "tags": []
   },
   "outputs": [
    {
     "data": {
      "text/plain": [
       "{'ENSG00000145309.5': '85438', 'ENSG00000175820.3': '643677'}"
      ]
     },
     "execution_count": 24,
     "metadata": {},
     "output_type": "execute_result"
    }
   ],
   "source": [
    "dict(list(gene_id_maps.items())[0:2])"
   ]
  },
  {
   "cell_type": "code",
   "execution_count": 25,
   "id": "e32ce280-f0cc-4932-8cbb-89e5c5d0430e",
   "metadata": {
    "execution": {
     "iopub.execute_input": "2021-10-03T18:12:35.832112Z",
     "iopub.status.busy": "2021-10-03T18:12:35.831542Z",
     "iopub.status.idle": "2021-10-03T18:12:35.835277Z",
     "shell.execute_reply": "2021-10-03T18:12:35.835630Z"
    },
    "papermill": {
     "duration": 0.093315,
     "end_time": "2021-10-03T18:12:35.835746",
     "exception": false,
     "start_time": "2021-10-03T18:12:35.742431",
     "status": "completed"
    },
    "tags": []
   },
   "outputs": [
    {
     "data": {
      "text/plain": [
       "4201"
      ]
     },
     "metadata": {},
     "output_type": "display_data"
    },
    {
     "data": {
      "text/plain": [
       "['6192', '4314', '2944', '100271063', '6288']"
      ]
     },
     "metadata": {},
     "output_type": "display_data"
    }
   ],
   "source": [
    "# is map from ensembl to entrez unique?\n",
    "_tmp_index = [gene_id_maps[x] for x in tmp.index if x in gene_id_maps]\n",
    "display(len(_tmp_index))\n",
    "display(_tmp_index[:5])"
   ]
  },
  {
   "cell_type": "markdown",
   "id": "ecf4a22e-e93b-48a2-a82f-4a54b7472abf",
   "metadata": {
    "papermill": {
     "duration": 0.085639,
     "end_time": "2021-10-03T18:12:36.007784",
     "exception": false,
     "start_time": "2021-10-03T18:12:35.922145",
     "status": "completed"
    },
    "tags": []
   },
   "source": [
    "# Run"
   ]
  },
  {
   "cell_type": "code",
   "execution_count": 26,
   "id": "fe0e2ed7-42bc-446e-98d5-76f31217c1df",
   "metadata": {
    "execution": {
     "iopub.execute_input": "2021-10-03T18:12:36.184350Z",
     "iopub.status.busy": "2021-10-03T18:12:36.183798Z",
     "iopub.status.idle": "2021-10-03T18:12:36.187492Z",
     "shell.execute_reply": "2021-10-03T18:12:36.187053Z"
    },
    "papermill": {
     "duration": 0.093398,
     "end_time": "2021-10-03T18:12:36.187589",
     "exception": false,
     "start_time": "2021-10-03T18:12:36.094191",
     "status": "completed"
    },
    "tags": []
   },
   "outputs": [
    {
     "data": {
      "text/plain": [
       "25"
      ]
     },
     "metadata": {},
     "output_type": "display_data"
    }
   ],
   "source": [
    "n_partitions_per_file = pd.read_pickle(input_files[0]).shape[0]\n",
    "display(n_partitions_per_file)"
   ]
  },
  {
   "cell_type": "code",
   "execution_count": 27,
   "id": "754836bb-3b1c-4259-882b-07dfa793c13a",
   "metadata": {
    "execution": {
     "iopub.execute_input": "2021-10-03T18:12:36.373604Z",
     "iopub.status.busy": "2021-10-03T18:12:36.373003Z",
     "iopub.status.idle": "2021-10-04T01:40:37.000709Z",
     "shell.execute_reply": "2021-10-04T01:40:36.998590Z"
    },
    "papermill": {
     "duration": 26880.726209,
     "end_time": "2021-10-04T01:40:37.000816",
     "exception": false,
     "start_time": "2021-10-03T18:12:36.274607",
     "status": "completed"
    },
    "tags": []
   },
   "outputs": [
    {
     "data": {
      "text/plain": [
       "'number of tasks: 125'"
      ]
     },
     "metadata": {},
     "output_type": "display_data"
    },
    {
     "name": "stderr",
     "output_type": "stream",
     "text": [
      "whole_blood/var_pc_log2/saving: 100%|██████████████████████████| 125/125 [7:28:00<00:00, 215.04s/it]\n"
     ]
    }
   ],
   "source": [
    "# the number of tasks is the number of input files times number of partitions per file\n",
    "n_tasks = len(input_files) * n_partitions_per_file\n",
    "n_tasks = int(n_tasks)\n",
    "display(f\"number of tasks: {n_tasks}\")\n",
    "\n",
    "with ProcessPoolExecutor(max_workers=conf.GENERAL[\"N_JOBS\"]) as executor, tqdm(\n",
    "    total=n_tasks, ncols=100\n",
    ") as pbar:\n",
    "    for clustering_filepath in input_files:\n",
    "        # extract from input clustering filename some sections, such as tissue name, etc\n",
    "        m = re.search(filename_pattern, str(clustering_filepath.name))\n",
    "\n",
    "        tissue = m.group(\"tissue\")\n",
    "        gene_sel_strategy = m.group(\"gene_sel_strategy\")\n",
    "        corr_method = m.group(\"corr_method\")\n",
    "\n",
    "        # update pbar description\n",
    "        pbar.set_description(f\"{tissue}/{gene_sel_strategy}\")\n",
    "        #         pbar.set_description(f\"{corr_method}\")\n",
    "\n",
    "        # create output filepath template\n",
    "        full_output_filename_template = (\n",
    "            f\"{clustering_filepath.stem}-{ENRICH_FUNCTION}-{ENRICH_PARAMS}.pkl\"\n",
    "        )\n",
    "\n",
    "        # read clustering results\n",
    "        clustering_df = pd.read_pickle(clustering_filepath)\n",
    "\n",
    "        # get partitions' numbers\n",
    "        tmp_partition = clustering_df.iloc[0].partition\n",
    "        n_genes = tmp_partition.shape[0]\n",
    "        n_clusters = np.unique(tmp_partition).shape[0]\n",
    "\n",
    "        # use those sections to read the list of genes from the input data\n",
    "        # file that the clustering algorithm received\n",
    "        similarity_matrix_filename = SIMILARITY_MATRIX_FILENAME_TEMPLATE.format(\n",
    "            tissue=tissue,\n",
    "            gene_sel_strategy=gene_sel_strategy,\n",
    "            corr_method=corr_method.split(\"_\")[0]\n",
    "            if not corr_method.startswith(\"clustermatch\")\n",
    "            else corr_method,\n",
    "        )\n",
    "\n",
    "        # get the universe of genes\n",
    "        all_gene_ens_ids = pd.read_pickle(\n",
    "            SIMILARITY_MATRICES_DIR / similarity_matrix_filename\n",
    "        ).index.tolist()\n",
    "\n",
    "        # convert gene ensembl ids to entrez and create clustering partition mask\n",
    "        partition_mask = []\n",
    "        all_gene_ids = []\n",
    "        entrez_ids_added = set()  # this is faster\n",
    "\n",
    "        for x in all_gene_ens_ids:\n",
    "            if x not in gene_id_maps:\n",
    "                partition_mask.append(False)\n",
    "                continue\n",
    "\n",
    "            new_entrez_id = gene_id_maps[x]\n",
    "\n",
    "            # TODO: maybe this avoiding of repeated gene ids is not necessary?\n",
    "            # do not add repeated ids\n",
    "            if new_entrez_id in entrez_ids_added:\n",
    "                partition_mask.append(False)\n",
    "                continue\n",
    "\n",
    "            all_gene_ids.append(new_entrez_id)\n",
    "            entrez_ids_added.add(new_entrez_id)\n",
    "            partition_mask.append(True)\n",
    "\n",
    "        partition_mask = np.array(partition_mask, dtype=bool)\n",
    "        all_gene_ids = np.array(all_gene_ids)\n",
    "        assert np.unique(all_gene_ids).shape[0] == all_gene_ids.shape[0]\n",
    "        assert all_gene_ids.shape[0] == np.sum(partition_mask)\n",
    "\n",
    "        # iterate over clustering solutions (partitions) and GO ontologies\n",
    "        futures = [\n",
    "            executor.submit(\n",
    "                run_enrich,\n",
    "                all_gene_ids,\n",
    "                \"ENTREZID\",\n",
    "                cr.partition[partition_mask],\n",
    "                ENRICH_FUNCTION,\n",
    "                ENRICH_PARAMS,\n",
    "            )\n",
    "            for cr_idx, cr in clustering_df.sort_values(\"n_clusters\").iterrows()\n",
    "        ]\n",
    "\n",
    "        # collect results\n",
    "        results_full = []\n",
    "\n",
    "        for task in as_completed(futures):\n",
    "            task_results = task.result()\n",
    "\n",
    "            # continue if no enrichment found\n",
    "            if task_results is None:\n",
    "                pbar.update(1)\n",
    "                continue\n",
    "\n",
    "            results_full.append(task_results)\n",
    "\n",
    "            pbar.update(1)\n",
    "\n",
    "        if len(results_full) == 0:\n",
    "            # no significant results, continue\n",
    "            continue\n",
    "\n",
    "        # merge and serve\n",
    "        pbar.set_description(f\"{tissue}/{gene_sel_strategy}/saving\")\n",
    "\n",
    "        # full\n",
    "        results_full_df = pd.concat(results_full, ignore_index=True).sort_values(\n",
    "            [\"n_clusters\", \"pvalue_adjust\"]\n",
    "        )\n",
    "\n",
    "        results_full_df.to_pickle(\n",
    "            OUTPUT_DIR\n",
    "            / f\"{clustering_filepath.stem}-{ENRICH_FUNCTION}-{ENRICH_PARAMS}.pkl\",\n",
    "        )"
   ]
  },
  {
   "cell_type": "code",
   "execution_count": null,
   "id": "complimentary-gathering",
   "metadata": {
    "papermill": {
     "duration": 0.226764,
     "end_time": "2021-10-04T01:40:38.131167",
     "exception": false,
     "start_time": "2021-10-04T01:40:37.904403",
     "status": "completed"
    },
    "tags": []
   },
   "outputs": [],
   "source": []
  }
 ],
 "metadata": {
  "jupytext": {
   "cell_metadata_filter": "all,-execution,-papermill,-trusted"
  },
  "kernelspec": {
   "display_name": "Python 3 (ipykernel)",
   "language": "python",
   "name": "python3"
  },
  "language_info": {
   "codemirror_mode": {
    "name": "ipython",
    "version": 3
   },
   "file_extension": ".py",
   "mimetype": "text/x-python",
   "name": "python",
   "nbconvert_exporter": "python",
   "pygments_lexer": "ipython3",
   "version": "3.9.7"
  },
  "papermill": {
   "default_parameters": {},
   "duration": 26889.712354,
   "end_time": "2021-10-04T01:40:38.569010",
   "environment_variables": {},
   "exception": null,
   "input_path": "nbs/20_gene_set_enrichment/05_gtex_v8/05_03-gtex-pearson_abs-enrichPathway.ipynb",
   "output_path": "nbs/20_gene_set_enrichment/05_gtex_v8/05_03-gtex-pearson_abs-enrichPathway.run.ipynb",
   "parameters": {},
   "start_time": "2021-10-03T18:12:28.856656",
   "version": "2.3.2"
  },
  "toc-autonumbering": true
 },
 "nbformat": 4,
 "nbformat_minor": 5
}
