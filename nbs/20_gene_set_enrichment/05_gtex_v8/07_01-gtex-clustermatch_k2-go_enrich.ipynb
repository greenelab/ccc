{
 "cells": [
  {
   "cell_type": "markdown",
   "id": "dfa1ba1b-d517-4a57-8db0-103ab5bd0a0d",
   "metadata": {
    "papermill": {
     "duration": 0.010777,
     "end_time": "2021-09-29T20:17:44.672136",
     "exception": false,
     "start_time": "2021-09-29T20:17:44.661359",
     "status": "completed"
    },
    "tags": []
   },
   "source": [
    "# Description"
   ]
  },
  {
   "cell_type": "markdown",
   "id": "8944732c-37a0-4af1-b9c1-86c0c2776126",
   "metadata": {
    "papermill": {
     "duration": 0.010061,
     "end_time": "2021-09-29T20:17:44.692408",
     "exception": false,
     "start_time": "2021-09-29T20:17:44.682347",
     "status": "completed"
    },
    "tags": []
   },
   "source": [
    "It computes gene enrichment on *all* the clustering results obtained using some correlation measure on GTEx v8 (specified under `Settings` below)."
   ]
  },
  {
   "cell_type": "markdown",
   "id": "3334aeb5-41a5-4331-9c28-34ec8f755e98",
   "metadata": {
    "papermill": {
     "duration": 0.010076,
     "end_time": "2021-09-29T20:17:44.712617",
     "exception": false,
     "start_time": "2021-09-29T20:17:44.702541",
     "status": "completed"
    },
    "tags": []
   },
   "source": [
    "# Modules loading"
   ]
  },
  {
   "cell_type": "code",
   "execution_count": 1,
   "id": "2c8cf869-a063-4731-bb75-acc121975426",
   "metadata": {
    "execution": {
     "iopub.execute_input": "2021-09-29T20:17:44.740654Z",
     "iopub.status.busy": "2021-09-29T20:17:44.740150Z",
     "iopub.status.idle": "2021-09-29T20:17:45.018830Z",
     "shell.execute_reply": "2021-09-29T20:17:45.018252Z"
    },
    "papermill": {
     "duration": 0.2962,
     "end_time": "2021-09-29T20:17:45.018946",
     "exception": false,
     "start_time": "2021-09-29T20:17:44.722746",
     "status": "completed"
    },
    "tags": []
   },
   "outputs": [],
   "source": [
    "import re\n",
    "from collections import defaultdict\n",
    "from concurrent.futures import ProcessPoolExecutor, as_completed\n",
    "\n",
    "import numpy as np\n",
    "import pandas as pd\n",
    "from tqdm import tqdm\n",
    "\n",
    "from clustermatch import conf"
   ]
  },
  {
   "cell_type": "markdown",
   "id": "21f26cf2-d399-470f-94c3-e26dd5b4337d",
   "metadata": {
    "papermill": {
     "duration": 0.010354,
     "end_time": "2021-09-29T20:17:45.040019",
     "exception": false,
     "start_time": "2021-09-29T20:17:45.029665",
     "status": "completed"
    },
    "tags": []
   },
   "source": [
    "# Settings"
   ]
  },
  {
   "cell_type": "code",
   "execution_count": 2,
   "id": "16b1fa39-d18c-4a87-bfcc-8d302941544d",
   "metadata": {
    "execution": {
     "iopub.execute_input": "2021-09-29T20:17:45.064791Z",
     "iopub.status.busy": "2021-09-29T20:17:45.064271Z",
     "iopub.status.idle": "2021-09-29T20:17:45.066425Z",
     "shell.execute_reply": "2021-09-29T20:17:45.065958Z"
    },
    "papermill": {
     "duration": 0.016128,
     "end_time": "2021-09-29T20:17:45.066526",
     "exception": false,
     "start_time": "2021-09-29T20:17:45.050398",
     "status": "completed"
    },
    "tags": []
   },
   "outputs": [],
   "source": [
    "CORRELATION_METHOD_NAME = \"clustermatch_k2\""
   ]
  },
  {
   "cell_type": "code",
   "execution_count": 3,
   "id": "0072fd4d-4b6f-4553-bc17-7bc3d737c7fd",
   "metadata": {
    "execution": {
     "iopub.execute_input": "2021-09-29T20:17:45.091295Z",
     "iopub.status.busy": "2021-09-29T20:17:45.090806Z",
     "iopub.status.idle": "2021-09-29T20:17:45.092443Z",
     "shell.execute_reply": "2021-09-29T20:17:45.092793Z"
    },
    "papermill": {
     "duration": 0.015675,
     "end_time": "2021-09-29T20:17:45.092919",
     "exception": false,
     "start_time": "2021-09-29T20:17:45.077244",
     "status": "completed"
    },
    "tags": []
   },
   "outputs": [],
   "source": [
    "# GENE_SELECTION_STRATEGY = \"var_pc_log2\""
   ]
  },
  {
   "cell_type": "code",
   "execution_count": 4,
   "id": "f4b75296-746d-4f4a-b33b-2b003ff9802f",
   "metadata": {
    "execution": {
     "iopub.execute_input": "2021-09-29T20:17:45.118092Z",
     "iopub.status.busy": "2021-09-29T20:17:45.117592Z",
     "iopub.status.idle": "2021-09-29T20:17:45.119760Z",
     "shell.execute_reply": "2021-09-29T20:17:45.119361Z"
    },
    "papermill": {
     "duration": 0.016247,
     "end_time": "2021-09-29T20:17:45.119860",
     "exception": false,
     "start_time": "2021-09-29T20:17:45.103613",
     "status": "completed"
    },
    "tags": []
   },
   "outputs": [],
   "source": [
    "# clusterProfiler settings\n",
    "ENRICH_FUNCTION = \"enrichGO\"\n",
    "SIMPLIFY_CUTOFF = 0.7\n",
    "GO_ONTOLOGIES = (\"BP\", \"CC\", \"MF\")"
   ]
  },
  {
   "cell_type": "markdown",
   "id": "fd099196-edbb-4a17-adce-c7079a221057",
   "metadata": {
    "papermill": {
     "duration": 0.010275,
     "end_time": "2021-09-29T20:17:45.140843",
     "exception": false,
     "start_time": "2021-09-29T20:17:45.130568",
     "status": "completed"
    },
    "tags": []
   },
   "source": [
    "# Paths"
   ]
  },
  {
   "cell_type": "code",
   "execution_count": 5,
   "id": "4f2e5aa2-0428-4f1b-8af7-41fd7f8208bb",
   "metadata": {
    "execution": {
     "iopub.execute_input": "2021-09-29T20:17:45.170893Z",
     "iopub.status.busy": "2021-09-29T20:17:45.164148Z",
     "iopub.status.idle": "2021-09-29T20:17:45.173884Z",
     "shell.execute_reply": "2021-09-29T20:17:45.173476Z"
    },
    "papermill": {
     "duration": 0.022555,
     "end_time": "2021-09-29T20:17:45.173985",
     "exception": false,
     "start_time": "2021-09-29T20:17:45.151430",
     "status": "completed"
    },
    "tags": []
   },
   "outputs": [
    {
     "data": {
      "text/plain": [
       "PosixPath('/opt/data/results/gtex_v8/clustering')"
      ]
     },
     "metadata": {},
     "output_type": "display_data"
    }
   ],
   "source": [
    "INPUT_DIR = conf.GTEX[\"CLUSTERING_DIR\"]\n",
    "display(INPUT_DIR)\n",
    "assert INPUT_DIR.exists()"
   ]
  },
  {
   "cell_type": "code",
   "execution_count": 6,
   "id": "8d3e2013-d5a6-4beb-8ccb-4f92cb7af809",
   "metadata": {
    "execution": {
     "iopub.execute_input": "2021-09-29T20:17:45.200582Z",
     "iopub.status.busy": "2021-09-29T20:17:45.199936Z",
     "iopub.status.idle": "2021-09-29T20:17:45.202569Z",
     "shell.execute_reply": "2021-09-29T20:17:45.202933Z"
    },
    "papermill": {
     "duration": 0.01775,
     "end_time": "2021-09-29T20:17:45.203064",
     "exception": false,
     "start_time": "2021-09-29T20:17:45.185314",
     "status": "completed"
    },
    "tags": []
   },
   "outputs": [
    {
     "data": {
      "text/plain": [
       "PosixPath('/opt/data/results/gtex_v8/similarity_matrices')"
      ]
     },
     "metadata": {},
     "output_type": "display_data"
    }
   ],
   "source": [
    "# this directory has the input data given to the clustering methods\n",
    "SIMILARITY_MATRICES_DIR = conf.GTEX[\"SIMILARITY_MATRICES_DIR\"]\n",
    "display(SIMILARITY_MATRICES_DIR)"
   ]
  },
  {
   "cell_type": "code",
   "execution_count": 7,
   "id": "5c3da77b-99fe-4406-a697-221ea595ba53",
   "metadata": {
    "execution": {
     "iopub.execute_input": "2021-09-29T20:17:45.229547Z",
     "iopub.status.busy": "2021-09-29T20:17:45.227951Z",
     "iopub.status.idle": "2021-09-29T20:17:45.232490Z",
     "shell.execute_reply": "2021-09-29T20:17:45.232070Z"
    },
    "papermill": {
     "duration": 0.01792,
     "end_time": "2021-09-29T20:17:45.232595",
     "exception": false,
     "start_time": "2021-09-29T20:17:45.214675",
     "status": "completed"
    },
    "tags": []
   },
   "outputs": [
    {
     "data": {
      "text/plain": [
       "'gtex_v8_data_{tissue}-{gene_sel_strategy}-{corr_method}.pkl'"
      ]
     },
     "metadata": {},
     "output_type": "display_data"
    }
   ],
   "source": [
    "SIMILARITY_MATRIX_FILENAME_TEMPLATE = conf.GTEX[\"SIMILARITY_MATRIX_FILENAME_TEMPLATE\"]\n",
    "display(SIMILARITY_MATRIX_FILENAME_TEMPLATE)"
   ]
  },
  {
   "cell_type": "code",
   "execution_count": 8,
   "id": "ae7489d8-c09f-43a8-b52c-a9049266f734",
   "metadata": {
    "execution": {
     "iopub.execute_input": "2021-09-29T20:17:45.260641Z",
     "iopub.status.busy": "2021-09-29T20:17:45.259663Z",
     "iopub.status.idle": "2021-09-29T20:17:45.263143Z",
     "shell.execute_reply": "2021-09-29T20:17:45.263527Z"
    },
    "papermill": {
     "duration": 0.019122,
     "end_time": "2021-09-29T20:17:45.263656",
     "exception": false,
     "start_time": "2021-09-29T20:17:45.244534",
     "status": "completed"
    },
    "tags": []
   },
   "outputs": [
    {
     "data": {
      "text/plain": [
       "PosixPath('/opt/data/results/gtex_v8/gene_set_enrichment')"
      ]
     },
     "metadata": {},
     "output_type": "display_data"
    }
   ],
   "source": [
    "OUTPUT_DIR = conf.GTEX[\"GENE_ENRICHMENT_DIR\"]\n",
    "OUTPUT_DIR.mkdir(parents=True, exist_ok=True)\n",
    "display(OUTPUT_DIR)"
   ]
  },
  {
   "cell_type": "markdown",
   "id": "6e0d3fbd-1090-466c-aa2e-176f7887c4cc",
   "metadata": {
    "papermill": {
     "duration": 0.011791,
     "end_time": "2021-09-29T20:17:45.287826",
     "exception": false,
     "start_time": "2021-09-29T20:17:45.276035",
     "status": "completed"
    },
    "tags": []
   },
   "source": [
    "# Get data files"
   ]
  },
  {
   "cell_type": "code",
   "execution_count": 9,
   "id": "735c38ea-9cb9-4e5f-aa1d-32cf420c45b6",
   "metadata": {
    "execution": {
     "iopub.execute_input": "2021-09-29T20:17:45.316456Z",
     "iopub.status.busy": "2021-09-29T20:17:45.315955Z",
     "iopub.status.idle": "2021-09-29T20:17:45.318088Z",
     "shell.execute_reply": "2021-09-29T20:17:45.317679Z"
    },
    "papermill": {
     "duration": 0.018216,
     "end_time": "2021-09-29T20:17:45.318188",
     "exception": false,
     "start_time": "2021-09-29T20:17:45.299972",
     "status": "completed"
    },
    "tags": []
   },
   "outputs": [],
   "source": [
    "filename_pattern = re.compile(conf.GTEX[\"CLUSTERING_FILENAME_PATTERN\"])"
   ]
  },
  {
   "cell_type": "code",
   "execution_count": 10,
   "id": "0a2c5f50-ec5c-46e8-8918-753cbc941c24",
   "metadata": {
    "execution": {
     "iopub.execute_input": "2021-09-29T20:17:45.347848Z",
     "iopub.status.busy": "2021-09-29T20:17:45.347234Z",
     "iopub.status.idle": "2021-09-29T20:17:45.352166Z",
     "shell.execute_reply": "2021-09-29T20:17:45.351717Z"
    },
    "papermill": {
     "duration": 0.021741,
     "end_time": "2021-09-29T20:17:45.352266",
     "exception": false,
     "start_time": "2021-09-29T20:17:45.330525",
     "status": "completed"
    },
    "tags": []
   },
   "outputs": [
    {
     "data": {
      "text/plain": [
       "5"
      ]
     },
     "metadata": {},
     "output_type": "display_data"
    },
    {
     "data": {
      "text/plain": [
       "[PosixPath('/opt/data/results/gtex_v8/clustering/gtex_v8_data_adipose_subcutaneous-var_pc_log2-clustermatch_k2-SpectralClustering.pkl'),\n",
       " PosixPath('/opt/data/results/gtex_v8/clustering/gtex_v8_data_artery_tibial-var_pc_log2-clustermatch_k2-SpectralClustering.pkl'),\n",
       " PosixPath('/opt/data/results/gtex_v8/clustering/gtex_v8_data_muscle_skeletal-var_pc_log2-clustermatch_k2-SpectralClustering.pkl'),\n",
       " PosixPath('/opt/data/results/gtex_v8/clustering/gtex_v8_data_skin_sun_exposed_lower_leg-var_pc_log2-clustermatch_k2-SpectralClustering.pkl'),\n",
       " PosixPath('/opt/data/results/gtex_v8/clustering/gtex_v8_data_whole_blood-var_pc_log2-clustermatch_k2-SpectralClustering.pkl')]"
      ]
     },
     "metadata": {},
     "output_type": "display_data"
    }
   ],
   "source": [
    "# get input data files according to Settings\n",
    "input_files = sorted(\n",
    "    [\n",
    "        f\n",
    "        for f in INPUT_DIR.iterdir()\n",
    "        if (m := re.search(filename_pattern, str(f))) is not None\n",
    "        and m.group(\"corr_method\") == CORRELATION_METHOD_NAME\n",
    "    ]\n",
    ")\n",
    "display(len(input_files))\n",
    "display(input_files[:5])\n",
    "\n",
    "assert len(input_files) > 0"
   ]
  },
  {
   "cell_type": "markdown",
   "id": "ecf4a22e-e93b-48a2-a82f-4a54b7472abf",
   "metadata": {
    "papermill": {
     "duration": 0.012802,
     "end_time": "2021-09-29T20:17:45.378286",
     "exception": false,
     "start_time": "2021-09-29T20:17:45.365484",
     "status": "completed"
    },
    "tags": []
   },
   "source": [
    "# clusterProfiler"
   ]
  },
  {
   "cell_type": "markdown",
   "id": "f17c7222-59f0-470f-993c-9312f64857e9",
   "metadata": {
    "papermill": {
     "duration": 0.013126,
     "end_time": "2021-09-29T20:17:45.404338",
     "exception": false,
     "start_time": "2021-09-29T20:17:45.391212",
     "status": "completed"
    },
    "tags": []
   },
   "source": [
    "## Define functions"
   ]
  },
  {
   "cell_type": "code",
   "execution_count": 11,
   "id": "68c9bf7f-9cea-4ce8-8480-7c4825756d07",
   "metadata": {
    "execution": {
     "iopub.execute_input": "2021-09-29T20:17:45.434200Z",
     "iopub.status.busy": "2021-09-29T20:17:45.433626Z",
     "iopub.status.idle": "2021-09-29T20:17:45.436458Z",
     "shell.execute_reply": "2021-09-29T20:17:45.436037Z"
    },
    "papermill": {
     "duration": 0.019432,
     "end_time": "2021-09-29T20:17:45.436559",
     "exception": false,
     "start_time": "2021-09-29T20:17:45.417127",
     "status": "completed"
    },
    "tags": []
   },
   "outputs": [
    {
     "data": {
      "text/plain": [
       "'070'"
      ]
     },
     "metadata": {},
     "output_type": "display_data"
    }
   ],
   "source": [
    "simplified_cutoff_str = f\"{SIMPLIFY_CUTOFF:.2f}\".replace(\".\", \"\")\n",
    "display(simplified_cutoff_str)"
   ]
  },
  {
   "cell_type": "code",
   "execution_count": 12,
   "id": "a1fe4a0d-06fe-4759-944e-63e398afef34",
   "metadata": {
    "execution": {
     "iopub.execute_input": "2021-09-29T20:17:45.472919Z",
     "iopub.status.busy": "2021-09-29T20:17:45.471038Z",
     "iopub.status.idle": "2021-09-29T20:17:45.475113Z",
     "shell.execute_reply": "2021-09-29T20:17:45.474635Z"
    },
    "papermill": {
     "duration": 0.024928,
     "end_time": "2021-09-29T20:17:45.475214",
     "exception": false,
     "start_time": "2021-09-29T20:17:45.450286",
     "status": "completed"
    },
    "tags": []
   },
   "outputs": [],
   "source": [
    "def run_enrich(\n",
    "    all_gene_ids,\n",
    "    clustering_id,\n",
    "    partition,\n",
    "    enrich_function,\n",
    "    ontology,\n",
    "    simplify_cutoff=None,\n",
    "):\n",
    "    \"\"\"\n",
    "    TODO\n",
    "    \"\"\"\n",
    "    # this modules need to be imported from inside this function (if the function will be\n",
    "    # run in different processes, for instance, using ProcessPoolExecutor). Otherwise,\n",
    "    # rpy2 raises some weird exceptions\n",
    "    from rpy2.robjects.packages import importr\n",
    "    import rpy2.robjects as robjects\n",
    "    from rpy2.robjects import pandas2ri\n",
    "    from rpy2.rinterface_lib.embedded import RRuntimeError\n",
    "\n",
    "    pandas2ri.activate()\n",
    "\n",
    "    clusterProfiler = importr(\"clusterProfiler\")\n",
    "\n",
    "    # get partition numbers\n",
    "    n_genes = partition.shape[0]\n",
    "    n_clusters = np.unique(partition).shape[0]\n",
    "\n",
    "    # create a clusterProfiler-friendly structure to indicate which\n",
    "    # genes belong to each cluster\n",
    "    genes_per_cluster = {}\n",
    "    for c in pd.Series(partition).value_counts().index:\n",
    "        genes_per_cluster[f\"C{c:n}\"] = [\n",
    "            g.split(\".\")[0] for g in all_gene_ids[partition == c]\n",
    "        ]\n",
    "\n",
    "    assert len(genes_per_cluster) == n_clusters\n",
    "    assert sum(map(lambda x: len(set(x)), genes_per_cluster.values())) == n_genes\n",
    "\n",
    "    genes_per_cluster = robjects.ListVector(genes_per_cluster)\n",
    "\n",
    "    # run clusterProfiler\n",
    "    try:\n",
    "        ck = clusterProfiler.compareCluster(\n",
    "            geneClusters=genes_per_cluster,\n",
    "            OrgDb=\"org.Hs.eg.db\",\n",
    "            keyType=\"ENSEMBL\",\n",
    "            universe=all_gene_ids,\n",
    "            fun=enrich_function,\n",
    "            pAdjustMethod=\"BH\",\n",
    "            pvalueCutoff=0.05,\n",
    "            ont=ontology,\n",
    "            readable=True,\n",
    "        )\n",
    "    except RRuntimeError as e:\n",
    "        if \"No enrichment found in any of gene cluster\" not in str(e):\n",
    "            raise\n",
    "\n",
    "        # no enrichment found, return empty tuple\n",
    "        return tuple()\n",
    "\n",
    "    results = []\n",
    "\n",
    "    # save full results (all enriched terms, even if they are very similar)\n",
    "    df = ck.slots[\"compareClusterResult\"]\n",
    "    df[\"clustering_id\"] = clustering_id\n",
    "    df[\"clustering_n_clusters\"] = n_clusters\n",
    "    results.append(df)\n",
    "\n",
    "    # save simplified results\n",
    "    if simplify_cutoff is not None and ENRICH_FUNCTION in (\"enrichGO\", \"gseGO\"):\n",
    "        ck = clusterProfiler.simplify(ck, cutoff=simplify_cutoff)\n",
    "        df = ck.slots[\"compareClusterResult\"]\n",
    "        df[\"clustering_id\"] = clustering_id\n",
    "        df[\"clustering_n_clusters\"] = n_clusters\n",
    "        results.append(df)\n",
    "\n",
    "    return tuple(results)"
   ]
  },
  {
   "cell_type": "markdown",
   "id": "c0d215cb-0ac4-4e56-b61e-affb9de440e1",
   "metadata": {
    "papermill": {
     "duration": 0.01312,
     "end_time": "2021-09-29T20:17:45.501734",
     "exception": false,
     "start_time": "2021-09-29T20:17:45.488614",
     "status": "completed"
    },
    "tags": []
   },
   "source": [
    "## Run"
   ]
  },
  {
   "cell_type": "code",
   "execution_count": 13,
   "id": "ccd7c689-3f48-4f6b-b53d-6444bd823865",
   "metadata": {
    "execution": {
     "iopub.execute_input": "2021-09-29T20:17:45.532164Z",
     "iopub.status.busy": "2021-09-29T20:17:45.531616Z",
     "iopub.status.idle": "2021-09-29T20:17:45.536087Z",
     "shell.execute_reply": "2021-09-29T20:17:45.535589Z"
    },
    "papermill": {
     "duration": 0.021279,
     "end_time": "2021-09-29T20:17:45.536190",
     "exception": false,
     "start_time": "2021-09-29T20:17:45.514911",
     "status": "completed"
    },
    "tags": []
   },
   "outputs": [
    {
     "data": {
      "text/plain": [
       "25"
      ]
     },
     "metadata": {},
     "output_type": "display_data"
    }
   ],
   "source": [
    "n_partitions_per_file = pd.read_pickle(input_files[0]).shape[0]\n",
    "display(n_partitions_per_file)"
   ]
  },
  {
   "cell_type": "code",
   "execution_count": 14,
   "id": "754836bb-3b1c-4259-882b-07dfa793c13a",
   "metadata": {
    "execution": {
     "iopub.execute_input": "2021-09-29T20:17:45.576988Z",
     "iopub.status.busy": "2021-09-29T20:17:45.576412Z",
     "iopub.status.idle": "2021-09-30T04:28:19.945673Z",
     "shell.execute_reply": "2021-09-30T04:28:19.945031Z"
    },
    "papermill": {
     "duration": 29434.396134,
     "end_time": "2021-09-30T04:28:19.945821",
     "exception": false,
     "start_time": "2021-09-29T20:17:45.549687",
     "status": "completed"
    },
    "tags": []
   },
   "outputs": [
    {
     "data": {
      "text/plain": [
       "'number of tasks: 375'"
      ]
     },
     "metadata": {},
     "output_type": "display_data"
    },
    {
     "name": "stderr",
     "output_type": "stream",
     "text": [
      "muscle_skeletal/var_pc_log2:  40%|████████████▉                   | 151/375 [00:25<01:02,  3.59it/s]R[write to console]: Error in (function (geneClusters, fun = \"enrichGO\", data = \"\", ...)  : \n",
      "  No enrichment found in any of gene cluster, please check your input...\n",
      "\n",
      "skin_sun_exposed_lower_leg/var_pc_log2:  60%|█████████      | 225/375 [2:43:26<16:52:39, 405.06s/it]R[write to console]: Error in (function (geneClusters, fun = \"enrichGO\", data = \"\", ...)  : \n",
      "  No enrichment found in any of gene cluster, please check your input...\n",
      "\n",
      "whole_blood/var_pc_log2/saving: 100%|███████████████████████████| 375/375 [8:10:34<00:00, 78.49s/it]\n"
     ]
    }
   ],
   "source": [
    "# the number of tasks is the number of input files times number of partitions per file times 3 (BP, CC, MF)\n",
    "n_tasks = len(input_files) * n_partitions_per_file * 3\n",
    "n_tasks = int(n_tasks)\n",
    "display(f\"number of tasks: {n_tasks}\")\n",
    "\n",
    "with ProcessPoolExecutor(max_workers=conf.GENERAL[\"N_JOBS\"]) as executor, tqdm(\n",
    "    total=n_tasks, ncols=100\n",
    ") as pbar:\n",
    "    for clustering_filepath in input_files:\n",
    "        # extract from input clustering filename some sections, such as tissue name, etc\n",
    "        m = re.search(filename_pattern, str(clustering_filepath.name))\n",
    "\n",
    "        tissue = m.group(\"tissue\")\n",
    "        gene_sel_strategy = m.group(\"gene_sel_strategy\")\n",
    "        corr_method = m.group(\"corr_method\")\n",
    "\n",
    "        # update pbar description\n",
    "        pbar.set_description(f\"{tissue}/{gene_sel_strategy}\")\n",
    "\n",
    "        # create output filepath template\n",
    "        full_output_filename_template = (\n",
    "            f\"{clustering_filepath.stem}-{ENRICH_FUNCTION}-{{ontology}}_full.pkl\"\n",
    "        )\n",
    "        simplified_output_filename_template = f\"{clustering_filepath.stem}-{ENRICH_FUNCTION}-{{ontology}}_simplified_{simplified_cutoff_str}.pkl\"\n",
    "\n",
    "        # read clustering results\n",
    "        clustering_df = pd.read_pickle(clustering_filepath)\n",
    "\n",
    "        # get partitions' numbers\n",
    "        tmp_partition = clustering_df.iloc[0].partition\n",
    "        n_genes = tmp_partition.shape[0]\n",
    "        n_clusters = np.unique(tmp_partition).shape[0]\n",
    "\n",
    "        # use those sections to read the list of genes from the input data\n",
    "        # file that the clustering algorithm received\n",
    "        similarity_matrix_filename = SIMILARITY_MATRIX_FILENAME_TEMPLATE.format(\n",
    "            tissue=tissue,\n",
    "            gene_sel_strategy=gene_sel_strategy,\n",
    "            corr_method=corr_method,\n",
    "        )\n",
    "\n",
    "        # get the universe of genes\n",
    "        all_gene_ids = pd.read_pickle(\n",
    "            SIMILARITY_MATRICES_DIR / similarity_matrix_filename\n",
    "        ).index.tolist()\n",
    "        all_gene_ids = np.array([g.split(\".\")[0] for g in all_gene_ids])\n",
    "        assert all_gene_ids.shape[0] == n_genes\n",
    "\n",
    "        # iterate over clustering solutions (partitions) and GO ontologies\n",
    "        futures = {\n",
    "            executor.submit(\n",
    "                run_enrich,\n",
    "                all_gene_ids,\n",
    "                cr_idx,\n",
    "                cr.partition,\n",
    "                ENRICH_FUNCTION,\n",
    "                ontology,\n",
    "                SIMPLIFY_CUTOFF,\n",
    "            ): ontology\n",
    "            for cr_idx, cr in clustering_df.sort_values(\"n_clusters\").iterrows()\n",
    "            for ontology in GO_ONTOLOGIES\n",
    "            if not (\n",
    "                (\n",
    "                    OUTPUT_DIR / full_output_filename_template.format(ontology=ontology)\n",
    "                ).exists()\n",
    "                and (\n",
    "                    OUTPUT_DIR\n",
    "                    / simplified_output_filename_template.format(ontology=ontology)\n",
    "                ).exists()\n",
    "            )\n",
    "        }\n",
    "\n",
    "        # FIXME: this n_expected here is horrible\n",
    "        #  I leave it here for now\n",
    "        futures_n_expected = int(len(GO_ONTOLOGIES) * clustering_df.shape[0])\n",
    "\n",
    "        futures_diff = futures_n_expected - len(futures)\n",
    "        if futures_diff > 0:\n",
    "            pbar.update(futures_diff)\n",
    "\n",
    "        if futures_diff == futures_n_expected:\n",
    "            continue\n",
    "\n",
    "        # collect results\n",
    "        results_full = defaultdict(list)\n",
    "        results_simplified = defaultdict(list)\n",
    "\n",
    "        for task in as_completed(futures):\n",
    "            ont = futures[task]\n",
    "            task_results = task.result()\n",
    "\n",
    "            # continue if no enrichment found\n",
    "            if len(task_results) == 0:\n",
    "                pbar.update(1)\n",
    "                continue\n",
    "\n",
    "            results_full[ont].append(task_results[0])\n",
    "\n",
    "            if len(task_results) > 1:\n",
    "                results_simplified[ont].append(task_results[1])\n",
    "\n",
    "            pbar.update(1)\n",
    "\n",
    "        # merge and serve\n",
    "        pbar.set_description(f\"{tissue}/{gene_sel_strategy}/saving\")\n",
    "\n",
    "        for ontology in GO_ONTOLOGIES:\n",
    "            # full\n",
    "            results_full_df = pd.concat(\n",
    "                results_full[ontology], ignore_index=True\n",
    "            ).sort_values([\"clustering_n_clusters\", \"p.adjust\"])\n",
    "\n",
    "            results_full_df.to_pickle(\n",
    "                OUTPUT_DIR\n",
    "                / f\"{clustering_filepath.stem}-{ENRICH_FUNCTION}-{ontology}_full.pkl\",\n",
    "            )\n",
    "\n",
    "            # simplified\n",
    "            if len(results_simplified) > 0:\n",
    "                results_simplified_df = pd.concat(\n",
    "                    results_simplified[ontology], ignore_index=True\n",
    "                ).sort_values([\"clustering_n_clusters\", \"p.adjust\"])\n",
    "\n",
    "                results_simplified_df.to_pickle(\n",
    "                    OUTPUT_DIR\n",
    "                    / f\"{clustering_filepath.stem}-{ENRICH_FUNCTION}-{ontology}_simplified_{simplified_cutoff_str}.pkl\",\n",
    "                )"
   ]
  },
  {
   "cell_type": "code",
   "execution_count": null,
   "id": "complimentary-gathering",
   "metadata": {
    "papermill": {
     "duration": 0.078982,
     "end_time": "2021-09-30T04:28:20.110617",
     "exception": false,
     "start_time": "2021-09-30T04:28:20.031635",
     "status": "completed"
    },
    "tags": []
   },
   "outputs": [],
   "source": []
  }
 ],
 "metadata": {
  "jupytext": {
   "cell_metadata_filter": "all,-execution,-papermill,-trusted"
  },
  "kernelspec": {
   "display_name": "Python 3 (ipykernel)",
   "language": "python",
   "name": "python3"
  },
  "language_info": {
   "codemirror_mode": {
    "name": "ipython",
    "version": 3
   },
   "file_extension": ".py",
   "mimetype": "text/x-python",
   "name": "python",
   "nbconvert_exporter": "python",
   "pygments_lexer": "ipython3",
   "version": "3.9.7"
  },
  "papermill": {
   "default_parameters": {},
   "duration": 29437.318986,
   "end_time": "2021-09-30T04:28:20.546082",
   "environment_variables": {},
   "exception": null,
   "input_path": "nbs/20_gene_set_enrichment/05_gtex_v8/07_01-gtex-clustermatch_k2-go_enrich.ipynb",
   "output_path": "nbs/20_gene_set_enrichment/05_gtex_v8/07_01-gtex-clustermatch_k2-go_enrich.run.ipynb",
   "parameters": {},
   "start_time": "2021-09-29T20:17:43.227096",
   "version": "2.3.2"
  },
  "toc-autonumbering": true
 },
 "nbformat": 4,
 "nbformat_minor": 5
}
