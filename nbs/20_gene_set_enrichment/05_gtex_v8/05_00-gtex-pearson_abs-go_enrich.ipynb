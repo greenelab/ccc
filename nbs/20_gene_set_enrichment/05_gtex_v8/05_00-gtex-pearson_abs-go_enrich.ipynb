{
 "cells": [
  {
   "cell_type": "markdown",
   "id": "dfa1ba1b-d517-4a57-8db0-103ab5bd0a0d",
   "metadata": {
    "papermill": {
     "duration": 0.05443,
     "end_time": "2021-09-21T01:08:26.664204",
     "exception": false,
     "start_time": "2021-09-21T01:08:26.609774",
     "status": "completed"
    },
    "tags": []
   },
   "source": [
    "# Description"
   ]
  },
  {
   "cell_type": "markdown",
   "id": "8944732c-37a0-4af1-b9c1-86c0c2776126",
   "metadata": {
    "papermill": {
     "duration": 0.018505,
     "end_time": "2021-09-21T01:08:26.702179",
     "exception": false,
     "start_time": "2021-09-21T01:08:26.683674",
     "status": "completed"
    },
    "tags": []
   },
   "source": [
    "It computes gene enrichment on *all* the clustering results obtained using some correlation measure on GTEx v8 (specified under `Settings` below)."
   ]
  },
  {
   "cell_type": "markdown",
   "id": "3334aeb5-41a5-4331-9c28-34ec8f755e98",
   "metadata": {
    "papermill": {
     "duration": 0.017986,
     "end_time": "2021-09-21T01:08:26.738014",
     "exception": false,
     "start_time": "2021-09-21T01:08:26.720028",
     "status": "completed"
    },
    "tags": []
   },
   "source": [
    "# Modules loading"
   ]
  },
  {
   "cell_type": "code",
   "execution_count": null,
   "id": "2c8cf869-a063-4731-bb75-acc121975426",
   "metadata": {
    "papermill": {
     "duration": 0.98246,
     "end_time": "2021-09-21T01:08:27.738520",
     "exception": false,
     "start_time": "2021-09-21T01:08:26.756060",
     "status": "completed"
    },
    "tags": []
   },
   "outputs": [],
   "source": [
    "import re\n",
    "from concurrent.futures import ProcessPoolExecutor, as_completed\n",
    "\n",
    "import numpy as np\n",
    "import pandas as pd\n",
    "import matplotlib.pyplot as plt\n",
    "import seaborn as sns\n",
    "from tqdm import tqdm\n",
    "\n",
    "from clustermatch import conf\n",
    "from clustermatch.utils import simplify_string"
   ]
  },
  {
   "cell_type": "markdown",
   "id": "21f26cf2-d399-470f-94c3-e26dd5b4337d",
   "metadata": {
    "papermill": {
     "duration": 0.018302,
     "end_time": "2021-09-21T01:08:27.775660",
     "exception": false,
     "start_time": "2021-09-21T01:08:27.757358",
     "status": "completed"
    },
    "tags": []
   },
   "source": [
    "# Settings"
   ]
  },
  {
   "cell_type": "code",
   "execution_count": null,
   "id": "16b1fa39-d18c-4a87-bfcc-8d302941544d",
   "metadata": {
    "papermill": {
     "duration": 0.023202,
     "end_time": "2021-09-21T01:08:27.816886",
     "exception": false,
     "start_time": "2021-09-21T01:08:27.793684",
     "status": "completed"
    },
    "tags": []
   },
   "outputs": [],
   "source": [
    "CORRELATION_METHOD_NAME = \"pearson_abs\""
   ]
  },
  {
   "cell_type": "code",
   "execution_count": null,
   "id": "0072fd4d-4b6f-4553-bc17-7bc3d737c7fd",
   "metadata": {
    "papermill": {
     "duration": 0.023527,
     "end_time": "2021-09-21T01:08:27.859971",
     "exception": false,
     "start_time": "2021-09-21T01:08:27.836444",
     "status": "completed"
    },
    "tags": []
   },
   "outputs": [],
   "source": [
    "# GENE_SELECTION_STRATEGY = \"var_pc_log2\""
   ]
  },
  {
   "cell_type": "code",
   "execution_count": null,
   "id": "f4b75296-746d-4f4a-b33b-2b003ff9802f",
   "metadata": {},
   "outputs": [],
   "source": [
    "# clusterProfiler settings\n",
    "ENRICH_FUNCTION = \"enrichGO\"\n",
    "SIMPLIFY_CUTOFF = 0.7\n",
    "GO_ONTOLOGIES = (\"BP\", \"CC\", \"MF\")"
   ]
  },
  {
   "cell_type": "code",
   "execution_count": null,
   "id": "236dd2cf-b626-4a7c-b8b2-6f514d496347",
   "metadata": {},
   "outputs": [],
   "source": [
    "SIMILARITY_MATRICES_DIR = conf.GTEX[\"SIMILARITY_MATRICES_DIR\"]\n",
    "display(SIMILARITY_MATRICES_DIR)"
   ]
  },
  {
   "cell_type": "code",
   "execution_count": null,
   "id": "7eff043e-9416-486b-ae13-3dcda0e45f7d",
   "metadata": {},
   "outputs": [],
   "source": [
    "SIMILARITY_MATRIX_FILENAME_TEMPLATE = conf.GTEX[\"SIMILARITY_MATRIX_FILENAME_TEMPLATE\"]\n",
    "display(SIMILARITY_MATRIX_FILENAME_TEMPLATE)"
   ]
  },
  {
   "cell_type": "markdown",
   "id": "fd099196-edbb-4a17-adce-c7079a221057",
   "metadata": {
    "papermill": {
     "duration": 0.018256,
     "end_time": "2021-09-21T01:08:28.146573",
     "exception": false,
     "start_time": "2021-09-21T01:08:28.128317",
     "status": "completed"
    },
    "tags": []
   },
   "source": [
    "# Paths"
   ]
  },
  {
   "cell_type": "code",
   "execution_count": null,
   "id": "4f2e5aa2-0428-4f1b-8af7-41fd7f8208bb",
   "metadata": {
    "papermill": {
     "duration": 0.025744,
     "end_time": "2021-09-21T01:08:28.190353",
     "exception": false,
     "start_time": "2021-09-21T01:08:28.164609",
     "status": "completed"
    },
    "tags": []
   },
   "outputs": [],
   "source": [
    "INPUT_DIR = conf.GTEX[\"CLUSTERING_DIR\"]\n",
    "display(INPUT_DIR)\n",
    "assert INPUT_DIR.exists()"
   ]
  },
  {
   "cell_type": "code",
   "execution_count": null,
   "id": "ae7489d8-c09f-43a8-b52c-a9049266f734",
   "metadata": {
    "papermill": {
     "duration": 0.025306,
     "end_time": "2021-09-21T01:08:28.234279",
     "exception": false,
     "start_time": "2021-09-21T01:08:28.208973",
     "status": "completed"
    },
    "tags": []
   },
   "outputs": [],
   "source": [
    "OUTPUT_DIR = conf.GTEX[\"GENE_ENRICHMENT_DIR\"]\n",
    "OUTPUT_DIR.mkdir(parents=True, exist_ok=True)\n",
    "display(OUTPUT_DIR)"
   ]
  },
  {
   "cell_type": "code",
   "execution_count": null,
   "id": "c167c022-da42-4373-9637-60a78f12cef6",
   "metadata": {},
   "outputs": [],
   "source": [
    "OUTPUT_FILENAME_TEMPLATE = f\"\""
   ]
  },
  {
   "cell_type": "markdown",
   "id": "6e0d3fbd-1090-466c-aa2e-176f7887c4cc",
   "metadata": {
    "papermill": {
     "duration": 0.019217,
     "end_time": "2021-09-21T01:08:28.355017",
     "exception": false,
     "start_time": "2021-09-21T01:08:28.335800",
     "status": "completed"
    },
    "tags": []
   },
   "source": [
    "# Get data files"
   ]
  },
  {
   "cell_type": "code",
   "execution_count": null,
   "id": "735c38ea-9cb9-4e5f-aa1d-32cf420c45b6",
   "metadata": {},
   "outputs": [],
   "source": [
    "filename_pattern = re.compile(conf.GTEX[\"CLUSTERING_FILENAME_PATTERN\"])"
   ]
  },
  {
   "cell_type": "code",
   "execution_count": null,
   "id": "0a2c5f50-ec5c-46e8-8918-753cbc941c24",
   "metadata": {
    "papermill": {
     "duration": 0.026976,
     "end_time": "2021-09-21T01:08:28.400716",
     "exception": false,
     "start_time": "2021-09-21T01:08:28.373740",
     "status": "completed"
    },
    "tags": []
   },
   "outputs": [],
   "source": [
    "# get input data files according to Settings\n",
    "input_files = sorted(\n",
    "    [\n",
    "        f\n",
    "        for f in INPUT_DIR.iterdir()\n",
    "        if (m := re.search(filename_pattern, str(f))) is not None\n",
    "        and m.group(\"corr_method\") == CORRELATION_METHOD_NAME\n",
    "    ]\n",
    ")\n",
    "display(len(input_files))\n",
    "display(input_files[:5])\n",
    "\n",
    "assert len(input_files) > 0"
   ]
  },
  {
   "cell_type": "markdown",
   "id": "ecf4a22e-e93b-48a2-a82f-4a54b7472abf",
   "metadata": {
    "papermill": {
     "duration": 0.019788,
     "end_time": "2021-03-01T14:47:28.489944",
     "exception": false,
     "start_time": "2021-03-01T14:47:28.470156",
     "status": "completed"
    },
    "tags": []
   },
   "source": [
    "# clusterProfiler"
   ]
  },
  {
   "cell_type": "code",
   "execution_count": null,
   "id": "e5cb1ce1-8b9d-4194-a581-2e765746d49a",
   "metadata": {
    "papermill": {
     "duration": 3.706306,
     "end_time": "2021-03-01T14:47:32.474892",
     "exception": false,
     "start_time": "2021-03-01T14:47:28.768586",
     "status": "completed"
    },
    "tags": []
   },
   "outputs": [],
   "source": [
    "# rprint = robjects.globalenv.find(\"print\")\n",
    "# dose = importr('DOSE')\n",
    "# clusterProfiler = importr(\"clusterProfiler\")\n",
    "# reactomePA = importr(\"ReactomePA\")\n",
    "# enrichplot = importr(\"enrichplot\")\n",
    "# grdevices = importr(\"grDevices\")"
   ]
  },
  {
   "cell_type": "markdown",
   "id": "f17c7222-59f0-470f-993c-9312f64857e9",
   "metadata": {},
   "source": [
    "## Define functions"
   ]
  },
  {
   "cell_type": "code",
   "execution_count": null,
   "id": "68c9bf7f-9cea-4ce8-8480-7c4825756d07",
   "metadata": {},
   "outputs": [],
   "source": [
    "simplified_cutoff_str = f\"{SIMPLIFY_CUTOFF:.2f}\".replace(\".\", \"\")\n",
    "display(simplified_cutoff_str)"
   ]
  },
  {
   "cell_type": "code",
   "execution_count": null,
   "id": "a1fe4a0d-06fe-4759-944e-63e398afef34",
   "metadata": {
    "papermill": {
     "duration": 0.032519,
     "end_time": "2021-03-01T14:47:33.478349",
     "exception": false,
     "start_time": "2021-03-01T14:47:33.445830",
     "status": "completed"
    },
    "tags": []
   },
   "outputs": [],
   "source": [
    "def run_enrich(\n",
    "    all_gene_ids,\n",
    "    clustering_id,\n",
    "    partition,\n",
    "    enrich_function,\n",
    "    ontology,\n",
    "    simplify_cutoff=None,\n",
    "):\n",
    "    \"\"\"\n",
    "    TODO\n",
    "    \"\"\"\n",
    "    # this modules need to be imported from inside this function (if the function will be\n",
    "    # run in different processes, for instance, using ProcessPoolExecutor). Otherwise,\n",
    "    # rpy2 raises some weird exceptions\n",
    "    from rpy2.robjects.packages import importr\n",
    "    import rpy2.robjects as robjects\n",
    "    from rpy2.robjects import pandas2ri\n",
    "\n",
    "    pandas2ri.activate()\n",
    "\n",
    "    clusterProfiler = importr(\"clusterProfiler\")\n",
    "\n",
    "    # get partition numbers\n",
    "    n_genes = partition.shape[0]\n",
    "    n_clusters = np.unique(partition).shape[0]\n",
    "\n",
    "    # create a clusterProfiler-friendly structure to indicate which\n",
    "    # genes belong to each cluster\n",
    "    genes_per_cluster = {}\n",
    "    for c in pd.Series(partition).value_counts().index:\n",
    "        genes_per_cluster[f\"C{c:n}\"] = [\n",
    "            g.split(\".\")[0] for g in all_gene_ids[partition == c]\n",
    "        ]\n",
    "\n",
    "    assert len(genes_per_cluster) == n_clusters\n",
    "    assert sum(map(lambda x: len(set(x)), genes_per_cluster.values())) == n_genes\n",
    "\n",
    "    genes_per_cluster = robjects.ListVector(genes_per_cluster)\n",
    "\n",
    "    # run clusterProfiler\n",
    "    ck = clusterProfiler.compareCluster(\n",
    "        geneClusters=genes_per_cluster,\n",
    "        OrgDb=\"org.Hs.eg.db\",\n",
    "        keyType=\"ENSEMBL\",\n",
    "        universe=all_gene_ids,\n",
    "        fun=enrich_function,\n",
    "        pAdjustMethod=\"BH\",\n",
    "        pvalueCutoff=0.05,\n",
    "        ont=ontology,\n",
    "        readable=True,\n",
    "    )\n",
    "\n",
    "    results = []\n",
    "\n",
    "    # save full results (all enriched terms, even if they are very similar)\n",
    "    df = ck.slots[\"compareClusterResult\"]\n",
    "    df[\"clustering_id\"] = clustering_id\n",
    "    df[\"clustering_n_clusters\"] = n_clusters\n",
    "    results.append(df)\n",
    "\n",
    "    # save simplified results\n",
    "    if simplify_cutoff is not None and ENRICH_FUNCTION in (\"enrichGO\", \"gseGO\"):\n",
    "        ck = clusterProfiler.simplify(ck, cutoff=simplify_cutoff)\n",
    "        df = ck.slots[\"compareClusterResult\"]\n",
    "        df[\"clustering_id\"] = clustering_id\n",
    "        df[\"clustering_n_clusters\"] = n_clusters\n",
    "        results.append(df)\n",
    "\n",
    "    return tuple(results)"
   ]
  },
  {
   "cell_type": "markdown",
   "id": "c0d215cb-0ac4-4e56-b61e-affb9de440e1",
   "metadata": {},
   "source": [
    "## Run"
   ]
  },
  {
   "cell_type": "code",
   "execution_count": null,
   "id": "fe0e2ed7-42bc-446e-98d5-76f31217c1df",
   "metadata": {},
   "outputs": [],
   "source": [
    "n_partitions_per_file = pd.read_pickle(input_files[0]).shape[0]\n",
    "display(n_partitions_per_file)"
   ]
  },
  {
   "cell_type": "markdown",
   "id": "7c98278c-6ece-4558-88ff-cad7d305a603",
   "metadata": {},
   "source": [
    "## Run"
   ]
  },
  {
   "cell_type": "code",
   "execution_count": null,
   "id": "a9e4469c-f8ca-4b83-ac7a-20d2f9b1da1b",
   "metadata": {},
   "outputs": [],
   "source": [
    "from collections import defaultdict"
   ]
  },
  {
   "cell_type": "code",
   "execution_count": null,
   "id": "754836bb-3b1c-4259-882b-07dfa793c13a",
   "metadata": {},
   "outputs": [],
   "source": [
    "# the number of tasks is the number of input files times number of partitions per file times 3 (BP, CC, MF)\n",
    "n_tasks = len(input_files) * n_partitions_per_file * 3\n",
    "n_tasks = int(n_tasks)\n",
    "display(f\"number of tasks: {n_tasks}\")\n",
    "\n",
    "with ProcessPoolExecutor(max_workers=conf.GENERAL[\"N_JOBS\"]) as executor, tqdm(\n",
    "    total=n_tasks, ncols=100\n",
    ") as pbar:\n",
    "    for clustering_filepath in input_files:\n",
    "        # extract from input clustering filename some sections, such as tissue name, etc\n",
    "        m = re.search(filename_pattern, str(clustering_filepath.name))\n",
    "\n",
    "        tissue = m.group(\"tissue\")\n",
    "        gene_sel_strategy = m.group(\"gene_sel_strategy\")\n",
    "        corr_method = m.group(\"corr_method\")\n",
    "\n",
    "        # update pbar description\n",
    "        pbar.set_description(f\"{tissue}/{gene_sel_strategy}\")\n",
    "\n",
    "        # read clustering results\n",
    "        clustering_df = pd.read_pickle(clustering_filepath)\n",
    "\n",
    "        # get partitions' numbers\n",
    "        tmp_partition = clustering_df.iloc[0].partition\n",
    "        n_genes = tmp_partition.shape[0]\n",
    "        n_clusters = np.unique(tmp_partition).shape[0]\n",
    "\n",
    "        # use those sections to read the list of genes from the input data\n",
    "        # file that the clustering algorithm received\n",
    "        similarity_matrix_filename = SIMILARITY_MATRIX_FILENAME_TEMPLATE.format(\n",
    "            tissue=tissue,\n",
    "            gene_sel_strategy=gene_sel_strategy,\n",
    "            corr_method=corr_method,\n",
    "        )\n",
    "\n",
    "        # get the universe of genes\n",
    "        all_gene_ids = pd.read_pickle(\n",
    "            SIMILARITY_MATRICES_DIR / similarity_matrix_filename\n",
    "        ).index.tolist()\n",
    "        all_gene_ids = np.array([g.split(\".\")[0] for g in all_gene_ids])\n",
    "        assert all_gene_ids.shape[0] == n_genes\n",
    "\n",
    "        # iterate over clustering solutions (partitions) and GO ontologies\n",
    "        futures = {\n",
    "            executor.submit(\n",
    "                run_enrich,\n",
    "                all_gene_ids,\n",
    "                cr_idx,\n",
    "                cr.partition,\n",
    "                ENRICH_FUNCTION,\n",
    "                ont,\n",
    "                SIMPLIFY_CUTOFF,\n",
    "            ): ont\n",
    "            for cr_idx, cr in clustering_df.sort_values(\"n_clusters\").iterrows()\n",
    "            for ont in GO_ONTOLOGIES\n",
    "        }\n",
    "\n",
    "        # collect results\n",
    "        results_full = defaultdict(list)\n",
    "        results_simplified = defaultdict(list)\n",
    "\n",
    "        for task in as_completed(futures):\n",
    "            ont = futures[task]\n",
    "            task_results = task.result()\n",
    "\n",
    "            results_full[ont].append(task_results[0])\n",
    "\n",
    "            if len(task_results) > 1:\n",
    "                results_simplified[ont].append(task_results[1])\n",
    "\n",
    "            pbar.update(1)\n",
    "\n",
    "        # merge and serve\n",
    "        pbar.set_description(f\"{tissue}/{gene_sel_strategy}/saving\")\n",
    "\n",
    "        for ontology in GO_ONTOLOGIES:\n",
    "            # full\n",
    "            results_full_df = pd.concat(\n",
    "                results_full[ontology], ignore_index=True\n",
    "            ).sort_values([\"clustering_n_clusters\", \"p.adjust\"])\n",
    "\n",
    "            results_full_df.to_pickle(\n",
    "                OUTPUT_DIR\n",
    "                / f\"{clustering_filepath.stem}-{ENRICH_FUNCTION}-{ontology}_full.pkl\",\n",
    "            )\n",
    "\n",
    "            # simplified\n",
    "            if len(results_simplified) > 0:\n",
    "                results_simplified_df = pd.concat(\n",
    "                    results_simplified[ontology], ignore_index=True\n",
    "                ).sort_values([\"clustering_n_clusters\", \"p.adjust\"])\n",
    "\n",
    "                results_simplified_df.to_pickle(\n",
    "                    OUTPUT_DIR\n",
    "                    / f\"{clustering_filepath.stem}-{ENRICH_FUNCTION}-{ontology}_simplified_{simplified_cutoff_str}.pkl\",\n",
    "                )"
   ]
  },
  {
   "cell_type": "code",
   "execution_count": null,
   "id": "complimentary-gathering",
   "metadata": {
    "papermill": {
     "duration": 0.060723,
     "end_time": "2021-03-01T19:56:24.523453",
     "exception": false,
     "start_time": "2021-03-01T19:56:24.462730",
     "status": "completed"
    },
    "tags": []
   },
   "outputs": [],
   "source": []
  }
 ],
 "metadata": {
  "jupytext": {
   "cell_metadata_filter": "all,-execution,-papermill,-trusted",
   "text_representation": {
    "extension": ".py",
    "format_name": "percent",
    "format_version": "1.3",
    "jupytext_version": "1.11.5"
   }
  },
  "kernelspec": {
   "display_name": "Python 3 (ipykernel)",
   "language": "python",
   "name": "python3"
  },
  "language_info": {
   "codemirror_mode": {
    "name": "ipython",
    "version": 3
   },
   "file_extension": ".py",
   "mimetype": "text/x-python",
   "name": "python",
   "nbconvert_exporter": "python",
   "pygments_lexer": "ipython3",
   "version": "3.9.7"
  },
  "papermill": {
   "default_parameters": {},
   "duration": 18540.654521,
   "end_time": "2021-03-01T19:56:26.867061",
   "environment_variables": {},
   "exception": null,
   "input_path": "05_cluster_analysis/10_00-clustermatch-go_enrichment.ipynb",
   "output_path": "05_cluster_analysis/10_00-clustermatch-go_enrichment.run.ipynb",
   "parameters": {},
   "start_time": "2021-03-01T14:47:26.212540",
   "version": "2.3.2"
  },
  "toc-autonumbering": true
 },
 "nbformat": 4,
 "nbformat_minor": 5
}
