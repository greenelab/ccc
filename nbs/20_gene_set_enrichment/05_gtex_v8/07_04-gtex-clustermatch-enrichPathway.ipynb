{
 "cells": [
  {
   "cell_type": "markdown",
   "id": "dfa1ba1b-d517-4a57-8db0-103ab5bd0a0d",
   "metadata": {
    "papermill": {
     "duration": 0.102654,
     "end_time": "2021-10-04T09:01:22.924151",
     "exception": false,
     "start_time": "2021-10-04T09:01:22.821497",
     "status": "completed"
    },
    "tags": []
   },
   "source": [
    "# Description"
   ]
  },
  {
   "cell_type": "markdown",
   "id": "8944732c-37a0-4af1-b9c1-86c0c2776126",
   "metadata": {
    "papermill": {
     "duration": 0.065056,
     "end_time": "2021-10-04T09:01:23.054715",
     "exception": false,
     "start_time": "2021-10-04T09:01:22.989659",
     "status": "completed"
    },
    "tags": []
   },
   "source": [
    "TODO/UPDATE: It computes gene enrichment on *all* the clustering results obtained using some correlation measure on GTEx v8 (specified under `Settings` below)."
   ]
  },
  {
   "cell_type": "markdown",
   "id": "3334aeb5-41a5-4331-9c28-34ec8f755e98",
   "metadata": {
    "papermill": {
     "duration": 0.064398,
     "end_time": "2021-10-04T09:01:23.184243",
     "exception": false,
     "start_time": "2021-10-04T09:01:23.119845",
     "status": "completed"
    },
    "tags": []
   },
   "source": [
    "# Modules loading"
   ]
  },
  {
   "cell_type": "code",
   "execution_count": 1,
   "id": "2c8cf869-a063-4731-bb75-acc121975426",
   "metadata": {
    "execution": {
     "iopub.execute_input": "2021-10-04T09:01:23.323814Z",
     "iopub.status.busy": "2021-10-04T09:01:23.323335Z",
     "iopub.status.idle": "2021-10-04T09:01:23.558726Z",
     "shell.execute_reply": "2021-10-04T09:01:23.558247Z"
    },
    "papermill": {
     "duration": 0.309062,
     "end_time": "2021-10-04T09:01:23.558844",
     "exception": false,
     "start_time": "2021-10-04T09:01:23.249782",
     "status": "completed"
    },
    "tags": []
   },
   "outputs": [],
   "source": [
    "import re\n",
    "from collections import defaultdict\n",
    "from concurrent.futures import ProcessPoolExecutor, as_completed\n",
    "\n",
    "import numpy as np\n",
    "import pandas as pd\n",
    "from tqdm import tqdm\n",
    "\n",
    "from clustermatch import conf\n",
    "from clustermatch.gene_enrich import run_enrich"
   ]
  },
  {
   "cell_type": "markdown",
   "id": "21f26cf2-d399-470f-94c3-e26dd5b4337d",
   "metadata": {
    "papermill": {
     "duration": 0.064988,
     "end_time": "2021-10-04T09:01:23.690438",
     "exception": false,
     "start_time": "2021-10-04T09:01:23.625450",
     "status": "completed"
    },
    "tags": []
   },
   "source": [
    "# Settings"
   ]
  },
  {
   "cell_type": "code",
   "execution_count": 2,
   "id": "ba4b9af6-32b3-434c-89d6-20d47f52620e",
   "metadata": {
    "execution": {
     "iopub.execute_input": "2021-10-04T09:01:23.824772Z",
     "iopub.status.busy": "2021-10-04T09:01:23.824280Z",
     "iopub.status.idle": "2021-10-04T09:01:23.825908Z",
     "shell.execute_reply": "2021-10-04T09:01:23.826285Z"
    },
    "papermill": {
     "duration": 0.070995,
     "end_time": "2021-10-04T09:01:23.826401",
     "exception": false,
     "start_time": "2021-10-04T09:01:23.755406",
     "status": "completed"
    },
    "tags": []
   },
   "outputs": [],
   "source": [
    "DATASET_CONFIG = conf.GTEX"
   ]
  },
  {
   "cell_type": "code",
   "execution_count": 3,
   "id": "16b1fa39-d18c-4a87-bfcc-8d302941544d",
   "metadata": {
    "execution": {
     "iopub.execute_input": "2021-10-04T09:01:23.962906Z",
     "iopub.status.busy": "2021-10-04T09:01:23.962448Z",
     "iopub.status.idle": "2021-10-04T09:01:23.964321Z",
     "shell.execute_reply": "2021-10-04T09:01:23.963954Z"
    },
    "papermill": {
     "duration": 0.070574,
     "end_time": "2021-10-04T09:01:23.964417",
     "exception": false,
     "start_time": "2021-10-04T09:01:23.893843",
     "status": "completed"
    },
    "tags": []
   },
   "outputs": [],
   "source": [
    "CORRELATION_METHOD_NAME = \"clustermatch\""
   ]
  },
  {
   "cell_type": "code",
   "execution_count": 4,
   "id": "0072fd4d-4b6f-4553-bc17-7bc3d737c7fd",
   "metadata": {
    "execution": {
     "iopub.execute_input": "2021-10-04T09:01:24.101619Z",
     "iopub.status.busy": "2021-10-04T09:01:24.101175Z",
     "iopub.status.idle": "2021-10-04T09:01:24.103387Z",
     "shell.execute_reply": "2021-10-04T09:01:24.102937Z"
    },
    "papermill": {
     "duration": 0.070972,
     "end_time": "2021-10-04T09:01:24.103480",
     "exception": false,
     "start_time": "2021-10-04T09:01:24.032508",
     "status": "completed"
    },
    "tags": []
   },
   "outputs": [],
   "source": [
    "# GENE_SELECTION_STRATEGY = \"var_pc_log2\""
   ]
  },
  {
   "cell_type": "code",
   "execution_count": 5,
   "id": "f4b75296-746d-4f4a-b33b-2b003ff9802f",
   "metadata": {
    "execution": {
     "iopub.execute_input": "2021-10-04T09:01:24.237989Z",
     "iopub.status.busy": "2021-10-04T09:01:24.237542Z",
     "iopub.status.idle": "2021-10-04T09:01:24.239059Z",
     "shell.execute_reply": "2021-10-04T09:01:24.239397Z"
    },
    "papermill": {
     "duration": 0.070066,
     "end_time": "2021-10-04T09:01:24.239510",
     "exception": false,
     "start_time": "2021-10-04T09:01:24.169444",
     "status": "completed"
    },
    "tags": []
   },
   "outputs": [],
   "source": [
    "# clusterProfiler settings\n",
    "ENRICH_FUNCTION = \"enrichPathway\"\n",
    "ENRICH_PARAMS = \"human\""
   ]
  },
  {
   "cell_type": "markdown",
   "id": "fd099196-edbb-4a17-adce-c7079a221057",
   "metadata": {
    "papermill": {
     "duration": 0.065323,
     "end_time": "2021-10-04T09:01:24.371023",
     "exception": false,
     "start_time": "2021-10-04T09:01:24.305700",
     "status": "completed"
    },
    "tags": []
   },
   "source": [
    "# Paths"
   ]
  },
  {
   "cell_type": "code",
   "execution_count": 6,
   "id": "4f2e5aa2-0428-4f1b-8af7-41fd7f8208bb",
   "metadata": {
    "execution": {
     "iopub.execute_input": "2021-10-04T09:01:24.510365Z",
     "iopub.status.busy": "2021-10-04T09:01:24.509198Z",
     "iopub.status.idle": "2021-10-04T09:01:24.513335Z",
     "shell.execute_reply": "2021-10-04T09:01:24.512969Z"
    },
    "papermill": {
     "duration": 0.077024,
     "end_time": "2021-10-04T09:01:24.513432",
     "exception": false,
     "start_time": "2021-10-04T09:01:24.436408",
     "status": "completed"
    },
    "tags": []
   },
   "outputs": [
    {
     "data": {
      "text/plain": [
       "PosixPath('/opt/data/results/gtex_v8/clustering')"
      ]
     },
     "metadata": {},
     "output_type": "display_data"
    }
   ],
   "source": [
    "INPUT_DIR = DATASET_CONFIG[\"CLUSTERING_DIR\"]\n",
    "display(INPUT_DIR)\n",
    "assert INPUT_DIR.exists()"
   ]
  },
  {
   "cell_type": "code",
   "execution_count": 7,
   "id": "28806e98",
   "metadata": {
    "execution": {
     "iopub.execute_input": "2021-10-04T09:01:24.651585Z",
     "iopub.status.busy": "2021-10-04T09:01:24.650939Z",
     "iopub.status.idle": "2021-10-04T09:01:24.653990Z",
     "shell.execute_reply": "2021-10-04T09:01:24.653543Z"
    },
    "papermill": {
     "duration": 0.073548,
     "end_time": "2021-10-04T09:01:24.654085",
     "exception": false,
     "start_time": "2021-10-04T09:01:24.580537",
     "status": "completed"
    },
    "tags": []
   },
   "outputs": [
    {
     "data": {
      "text/plain": [
       "PosixPath('/opt/data/results/gtex_v8/similarity_matrices')"
      ]
     },
     "metadata": {},
     "output_type": "display_data"
    }
   ],
   "source": [
    "# this directory has the input data given to the clustering methods\n",
    "SIMILARITY_MATRICES_DIR = DATASET_CONFIG[\"SIMILARITY_MATRICES_DIR\"]\n",
    "display(SIMILARITY_MATRICES_DIR)"
   ]
  },
  {
   "cell_type": "code",
   "execution_count": 8,
   "id": "7eff043e-9416-486b-ae13-3dcda0e45f7d",
   "metadata": {
    "execution": {
     "iopub.execute_input": "2021-10-04T09:01:24.792978Z",
     "iopub.status.busy": "2021-10-04T09:01:24.791320Z",
     "iopub.status.idle": "2021-10-04T09:01:24.795859Z",
     "shell.execute_reply": "2021-10-04T09:01:24.795413Z"
    },
    "papermill": {
     "duration": 0.073698,
     "end_time": "2021-10-04T09:01:24.796004",
     "exception": false,
     "start_time": "2021-10-04T09:01:24.722306",
     "status": "completed"
    },
    "tags": []
   },
   "outputs": [
    {
     "data": {
      "text/plain": [
       "'gtex_v8_data_{tissue}-{gene_sel_strategy}-{corr_method}.pkl'"
      ]
     },
     "metadata": {},
     "output_type": "display_data"
    }
   ],
   "source": [
    "SIMILARITY_MATRIX_FILENAME_TEMPLATE = DATASET_CONFIG[\n",
    "    \"SIMILARITY_MATRIX_FILENAME_TEMPLATE\"\n",
    "]\n",
    "display(SIMILARITY_MATRIX_FILENAME_TEMPLATE)"
   ]
  },
  {
   "cell_type": "code",
   "execution_count": 9,
   "id": "ae7489d8-c09f-43a8-b52c-a9049266f734",
   "metadata": {
    "execution": {
     "iopub.execute_input": "2021-10-04T09:01:24.938818Z",
     "iopub.status.busy": "2021-10-04T09:01:24.938242Z",
     "iopub.status.idle": "2021-10-04T09:01:24.940529Z",
     "shell.execute_reply": "2021-10-04T09:01:24.940888Z"
    },
    "papermill": {
     "duration": 0.07553,
     "end_time": "2021-10-04T09:01:24.941003",
     "exception": false,
     "start_time": "2021-10-04T09:01:24.865473",
     "status": "completed"
    },
    "tags": []
   },
   "outputs": [
    {
     "data": {
      "text/plain": [
       "PosixPath('/opt/data/results/gtex_v8/gene_set_enrichment')"
      ]
     },
     "metadata": {},
     "output_type": "display_data"
    }
   ],
   "source": [
    "OUTPUT_DIR = DATASET_CONFIG[\"GENE_ENRICHMENT_DIR\"]\n",
    "OUTPUT_DIR.mkdir(parents=True, exist_ok=True)\n",
    "display(OUTPUT_DIR)"
   ]
  },
  {
   "cell_type": "markdown",
   "id": "6e0d3fbd-1090-466c-aa2e-176f7887c4cc",
   "metadata": {
    "papermill": {
     "duration": 0.069995,
     "end_time": "2021-10-04T09:01:25.082330",
     "exception": false,
     "start_time": "2021-10-04T09:01:25.012335",
     "status": "completed"
    },
    "tags": []
   },
   "source": [
    "# Get data files"
   ]
  },
  {
   "cell_type": "code",
   "execution_count": 10,
   "id": "735c38ea-9cb9-4e5f-aa1d-32cf420c45b6",
   "metadata": {
    "execution": {
     "iopub.execute_input": "2021-10-04T09:01:25.228207Z",
     "iopub.status.busy": "2021-10-04T09:01:25.227659Z",
     "iopub.status.idle": "2021-10-04T09:01:25.229722Z",
     "shell.execute_reply": "2021-10-04T09:01:25.229275Z"
    },
    "papermill": {
     "duration": 0.075996,
     "end_time": "2021-10-04T09:01:25.229816",
     "exception": false,
     "start_time": "2021-10-04T09:01:25.153820",
     "status": "completed"
    },
    "tags": []
   },
   "outputs": [],
   "source": [
    "filename_pattern = re.compile(DATASET_CONFIG[\"CLUSTERING_FILENAME_PATTERN\"])"
   ]
  },
  {
   "cell_type": "code",
   "execution_count": 11,
   "id": "0a2c5f50-ec5c-46e8-8918-753cbc941c24",
   "metadata": {
    "execution": {
     "iopub.execute_input": "2021-10-04T09:01:25.376834Z",
     "iopub.status.busy": "2021-10-04T09:01:25.376276Z",
     "iopub.status.idle": "2021-10-04T09:01:25.380281Z",
     "shell.execute_reply": "2021-10-04T09:01:25.379873Z"
    },
    "papermill": {
     "duration": 0.079346,
     "end_time": "2021-10-04T09:01:25.380374",
     "exception": false,
     "start_time": "2021-10-04T09:01:25.301028",
     "status": "completed"
    },
    "tags": []
   },
   "outputs": [
    {
     "data": {
      "text/plain": [
       "5"
      ]
     },
     "metadata": {},
     "output_type": "display_data"
    },
    {
     "data": {
      "text/plain": [
       "[PosixPath('/opt/data/results/gtex_v8/clustering/gtex_v8_data_adipose_subcutaneous-var_pc_log2-clustermatch-SpectralClustering.pkl'),\n",
       " PosixPath('/opt/data/results/gtex_v8/clustering/gtex_v8_data_artery_tibial-var_pc_log2-clustermatch-SpectralClustering.pkl'),\n",
       " PosixPath('/opt/data/results/gtex_v8/clustering/gtex_v8_data_muscle_skeletal-var_pc_log2-clustermatch-SpectralClustering.pkl'),\n",
       " PosixPath('/opt/data/results/gtex_v8/clustering/gtex_v8_data_skin_sun_exposed_lower_leg-var_pc_log2-clustermatch-SpectralClustering.pkl'),\n",
       " PosixPath('/opt/data/results/gtex_v8/clustering/gtex_v8_data_whole_blood-var_pc_log2-clustermatch-SpectralClustering.pkl')]"
      ]
     },
     "metadata": {},
     "output_type": "display_data"
    }
   ],
   "source": [
    "# get input data files according to Settings\n",
    "input_files = sorted(\n",
    "    [\n",
    "        f\n",
    "        for f in INPUT_DIR.iterdir()\n",
    "        if (m := re.search(filename_pattern, str(f))) is not None\n",
    "        and m.group(\"corr_method\") == CORRELATION_METHOD_NAME\n",
    "    ]\n",
    ")\n",
    "display(len(input_files))\n",
    "display(input_files[:5])\n",
    "\n",
    "assert len(input_files) > 0"
   ]
  },
  {
   "cell_type": "markdown",
   "id": "04fe07b3-84e7-41f9-ba5d-09139ef0f69c",
   "metadata": {
    "papermill": {
     "duration": 0.073068,
     "end_time": "2021-10-04T09:01:25.526986",
     "exception": false,
     "start_time": "2021-10-04T09:01:25.453918",
     "status": "completed"
    },
    "tags": []
   },
   "source": [
    "# Preview input data"
   ]
  },
  {
   "cell_type": "markdown",
   "id": "9580f4e4-ca5d-4551-8545-7c8a3dc13d6b",
   "metadata": {
    "papermill": {
     "duration": 0.072181,
     "end_time": "2021-10-04T09:01:25.671573",
     "exception": false,
     "start_time": "2021-10-04T09:01:25.599392",
     "status": "completed"
    },
    "tags": []
   },
   "source": [
    "## Clustering results"
   ]
  },
  {
   "cell_type": "code",
   "execution_count": 12,
   "id": "ce5ee397-714e-430c-90c4-c648cc4780bf",
   "metadata": {
    "execution": {
     "iopub.execute_input": "2021-10-04T09:01:25.821492Z",
     "iopub.status.busy": "2021-10-04T09:01:25.821036Z",
     "iopub.status.idle": "2021-10-04T09:01:25.831439Z",
     "shell.execute_reply": "2021-10-04T09:01:25.830492Z"
    },
    "papermill": {
     "duration": 0.086887,
     "end_time": "2021-10-04T09:01:25.831633",
     "exception": false,
     "start_time": "2021-10-04T09:01:25.744746",
     "status": "completed"
    },
    "tags": []
   },
   "outputs": [],
   "source": [
    "tmp = pd.read_pickle(input_files[0])"
   ]
  },
  {
   "cell_type": "code",
   "execution_count": 13,
   "id": "51ad6d88-77d9-4ff9-ba36-fcefc4454dbe",
   "metadata": {
    "execution": {
     "iopub.execute_input": "2021-10-04T09:01:25.987595Z",
     "iopub.status.busy": "2021-10-04T09:01:25.987075Z",
     "iopub.status.idle": "2021-10-04T09:01:25.989976Z",
     "shell.execute_reply": "2021-10-04T09:01:25.989530Z"
    },
    "papermill": {
     "duration": 0.078706,
     "end_time": "2021-10-04T09:01:25.990068",
     "exception": false,
     "start_time": "2021-10-04T09:01:25.911362",
     "status": "completed"
    },
    "tags": []
   },
   "outputs": [
    {
     "data": {
      "text/plain": [
       "(25, 4)"
      ]
     },
     "execution_count": 13,
     "metadata": {},
     "output_type": "execute_result"
    }
   ],
   "source": [
    "tmp.shape"
   ]
  },
  {
   "cell_type": "code",
   "execution_count": 14,
   "id": "a25a8fe5-f96f-4327-b5af-74845de69074",
   "metadata": {
    "execution": {
     "iopub.execute_input": "2021-10-04T09:01:26.146578Z",
     "iopub.status.busy": "2021-10-04T09:01:26.140365Z",
     "iopub.status.idle": "2021-10-04T09:01:26.153399Z",
     "shell.execute_reply": "2021-10-04T09:01:26.152951Z"
    },
    "papermill": {
     "duration": 0.088709,
     "end_time": "2021-10-04T09:01:26.153495",
     "exception": false,
     "start_time": "2021-10-04T09:01:26.064786",
     "status": "completed"
    },
    "tags": []
   },
   "outputs": [
    {
     "data": {
      "text/html": [
       "<div>\n",
       "<style scoped>\n",
       "    .dataframe tbody tr th:only-of-type {\n",
       "        vertical-align: middle;\n",
       "    }\n",
       "\n",
       "    .dataframe tbody tr th {\n",
       "        vertical-align: top;\n",
       "    }\n",
       "\n",
       "    .dataframe thead th {\n",
       "        text-align: right;\n",
       "    }\n",
       "</style>\n",
       "<table border=\"1\" class=\"dataframe\">\n",
       "  <thead>\n",
       "    <tr style=\"text-align: right;\">\n",
       "      <th></th>\n",
       "      <th>params</th>\n",
       "      <th>partition</th>\n",
       "      <th>n_clusters</th>\n",
       "      <th>si_score</th>\n",
       "    </tr>\n",
       "    <tr>\n",
       "      <th>id</th>\n",
       "      <th></th>\n",
       "      <th></th>\n",
       "      <th></th>\n",
       "      <th></th>\n",
       "    </tr>\n",
       "  </thead>\n",
       "  <tbody>\n",
       "    <tr>\n",
       "      <th>SpectralClustering #0</th>\n",
       "      <td>{\"affinity\": \"precomputed\", \"assign_labels\": \"...</td>\n",
       "      <td>[1, 1, 1, 1, 1, 1, 1, 1, 1, 1, 1, 1, 1, 1, 1, ...</td>\n",
       "      <td>2</td>\n",
       "      <td>0.025231</td>\n",
       "    </tr>\n",
       "    <tr>\n",
       "      <th>SpectralClustering #1</th>\n",
       "      <td>{\"affinity\": \"precomputed\", \"assign_labels\": \"...</td>\n",
       "      <td>[4, 0, 4, 1, 0, 0, 0, 4, 0, 4, 0, 4, 1, 4, 0, ...</td>\n",
       "      <td>5</td>\n",
       "      <td>0.026704</td>\n",
       "    </tr>\n",
       "    <tr>\n",
       "      <th>SpectralClustering #2</th>\n",
       "      <td>{\"affinity\": \"precomputed\", \"assign_labels\": \"...</td>\n",
       "      <td>[1, 1, 6, 1, 9, 5, 5, 5, 9, 5, 1, 1, 6, 9, 9, ...</td>\n",
       "      <td>10</td>\n",
       "      <td>0.032722</td>\n",
       "    </tr>\n",
       "    <tr>\n",
       "      <th>SpectralClustering #3</th>\n",
       "      <td>{\"affinity\": \"precomputed\", \"assign_labels\": \"...</td>\n",
       "      <td>[0, 0, 13, 10, 1, 10, 13, 10, 14, 12, 13, 10, ...</td>\n",
       "      <td>15</td>\n",
       "      <td>0.032060</td>\n",
       "    </tr>\n",
       "    <tr>\n",
       "      <th>SpectralClustering #4</th>\n",
       "      <td>{\"affinity\": \"precomputed\", \"assign_labels\": \"...</td>\n",
       "      <td>[15, 0, 7, 18, 4, 15, 15, 15, 11, 8, 18, 13, 1...</td>\n",
       "      <td>20</td>\n",
       "      <td>0.033032</td>\n",
       "    </tr>\n",
       "  </tbody>\n",
       "</table>\n",
       "</div>"
      ],
      "text/plain": [
       "                                                                  params  \\\n",
       "id                                                                         \n",
       "SpectralClustering #0  {\"affinity\": \"precomputed\", \"assign_labels\": \"...   \n",
       "SpectralClustering #1  {\"affinity\": \"precomputed\", \"assign_labels\": \"...   \n",
       "SpectralClustering #2  {\"affinity\": \"precomputed\", \"assign_labels\": \"...   \n",
       "SpectralClustering #3  {\"affinity\": \"precomputed\", \"assign_labels\": \"...   \n",
       "SpectralClustering #4  {\"affinity\": \"precomputed\", \"assign_labels\": \"...   \n",
       "\n",
       "                                                               partition  \\\n",
       "id                                                                         \n",
       "SpectralClustering #0  [1, 1, 1, 1, 1, 1, 1, 1, 1, 1, 1, 1, 1, 1, 1, ...   \n",
       "SpectralClustering #1  [4, 0, 4, 1, 0, 0, 0, 4, 0, 4, 0, 4, 1, 4, 0, ...   \n",
       "SpectralClustering #2  [1, 1, 6, 1, 9, 5, 5, 5, 9, 5, 1, 1, 6, 9, 9, ...   \n",
       "SpectralClustering #3  [0, 0, 13, 10, 1, 10, 13, 10, 14, 12, 13, 10, ...   \n",
       "SpectralClustering #4  [15, 0, 7, 18, 4, 15, 15, 15, 11, 8, 18, 13, 1...   \n",
       "\n",
       "                       n_clusters  si_score  \n",
       "id                                           \n",
       "SpectralClustering #0           2  0.025231  \n",
       "SpectralClustering #1           5  0.026704  \n",
       "SpectralClustering #2          10  0.032722  \n",
       "SpectralClustering #3          15  0.032060  \n",
       "SpectralClustering #4          20  0.033032  "
      ]
     },
     "execution_count": 14,
     "metadata": {},
     "output_type": "execute_result"
    }
   ],
   "source": [
    "tmp.head()"
   ]
  },
  {
   "cell_type": "markdown",
   "id": "21ee675e-15d9-442e-8e6f-87c7578e9e6c",
   "metadata": {
    "papermill": {
     "duration": 0.073743,
     "end_time": "2021-10-04T09:01:26.301860",
     "exception": false,
     "start_time": "2021-10-04T09:01:26.228117",
     "status": "completed"
    },
    "tags": []
   },
   "source": [
    "## Similarity matrices (input to clustering methods)"
   ]
  },
  {
   "cell_type": "code",
   "execution_count": 15,
   "id": "9363dc2c-6717-43ac-9448-b6019a1cd28a",
   "metadata": {
    "execution": {
     "iopub.execute_input": "2021-10-04T09:01:26.455717Z",
     "iopub.status.busy": "2021-10-04T09:01:26.455139Z",
     "iopub.status.idle": "2021-10-04T09:01:26.457959Z",
     "shell.execute_reply": "2021-10-04T09:01:26.457515Z"
    },
    "papermill": {
     "duration": 0.081458,
     "end_time": "2021-10-04T09:01:26.458052",
     "exception": false,
     "start_time": "2021-10-04T09:01:26.376594",
     "status": "completed"
    },
    "tags": []
   },
   "outputs": [
    {
     "data": {
      "text/plain": [
       "'gtex_v8_data_adipose_subcutaneous-var_pc_log2-clustermatch.pkl'"
      ]
     },
     "metadata": {},
     "output_type": "display_data"
    }
   ],
   "source": [
    "similarity_matrix_filename = SIMILARITY_MATRIX_FILENAME_TEMPLATE.format(\n",
    "    tissue=\"adipose_subcutaneous\",\n",
    "    gene_sel_strategy=\"var_pc_log2\",\n",
    "    corr_method=CORRELATION_METHOD_NAME.split(\"_\")[0]\n",
    "    if not CORRELATION_METHOD_NAME.startswith(\"clustermatch\")\n",
    "    else CORRELATION_METHOD_NAME,\n",
    ")\n",
    "display(similarity_matrix_filename)"
   ]
  },
  {
   "cell_type": "code",
   "execution_count": 16,
   "id": "b1916d25-8cd2-430f-ab08-de6d80263c17",
   "metadata": {
    "execution": {
     "iopub.execute_input": "2021-10-04T09:01:26.612855Z",
     "iopub.status.busy": "2021-10-04T09:01:26.612390Z",
     "iopub.status.idle": "2021-10-04T09:01:26.940523Z",
     "shell.execute_reply": "2021-10-04T09:01:26.939988Z"
    },
    "papermill": {
     "duration": 0.406636,
     "end_time": "2021-10-04T09:01:26.940637",
     "exception": false,
     "start_time": "2021-10-04T09:01:26.534001",
     "status": "completed"
    },
    "tags": []
   },
   "outputs": [],
   "source": [
    "tmp = pd.read_pickle(SIMILARITY_MATRICES_DIR / similarity_matrix_filename)"
   ]
  },
  {
   "cell_type": "code",
   "execution_count": 17,
   "id": "d29dfd29-1d42-40fb-b19a-09367f3ce2f9",
   "metadata": {
    "execution": {
     "iopub.execute_input": "2021-10-04T09:01:27.100918Z",
     "iopub.status.busy": "2021-10-04T09:01:27.100448Z",
     "iopub.status.idle": "2021-10-04T09:01:27.102541Z",
     "shell.execute_reply": "2021-10-04T09:01:27.102904Z"
    },
    "papermill": {
     "duration": 0.081663,
     "end_time": "2021-10-04T09:01:27.103018",
     "exception": false,
     "start_time": "2021-10-04T09:01:27.021355",
     "status": "completed"
    },
    "tags": []
   },
   "outputs": [
    {
     "data": {
      "text/plain": [
       "(5000, 5000)"
      ]
     },
     "execution_count": 17,
     "metadata": {},
     "output_type": "execute_result"
    }
   ],
   "source": [
    "tmp.shape"
   ]
  },
  {
   "cell_type": "code",
   "execution_count": 18,
   "id": "2681f21b-4bc8-4452-ac6c-437694fc31d3",
   "metadata": {
    "execution": {
     "iopub.execute_input": "2021-10-04T09:01:27.273579Z",
     "iopub.status.busy": "2021-10-04T09:01:27.272896Z",
     "iopub.status.idle": "2021-10-04T09:01:27.276375Z",
     "shell.execute_reply": "2021-10-04T09:01:27.275928Z"
    },
    "papermill": {
     "duration": 0.096595,
     "end_time": "2021-10-04T09:01:27.276471",
     "exception": false,
     "start_time": "2021-10-04T09:01:27.179876",
     "status": "completed"
    },
    "tags": []
   },
   "outputs": [
    {
     "data": {
      "text/html": [
       "<div>\n",
       "<style scoped>\n",
       "    .dataframe tbody tr th:only-of-type {\n",
       "        vertical-align: middle;\n",
       "    }\n",
       "\n",
       "    .dataframe tbody tr th {\n",
       "        vertical-align: top;\n",
       "    }\n",
       "\n",
       "    .dataframe thead th {\n",
       "        text-align: right;\n",
       "    }\n",
       "</style>\n",
       "<table border=\"1\" class=\"dataframe\">\n",
       "  <thead>\n",
       "    <tr style=\"text-align: right;\">\n",
       "      <th>gene_ens_id</th>\n",
       "      <th>ENSG00000129824.15</th>\n",
       "      <th>ENSG00000149968.11</th>\n",
       "      <th>ENSG00000134184.12</th>\n",
       "      <th>ENSG00000224114.1</th>\n",
       "      <th>ENSG00000173432.10</th>\n",
       "      <th>ENSG00000067048.16</th>\n",
       "      <th>ENSG00000229807.10</th>\n",
       "      <th>ENSG00000012817.15</th>\n",
       "      <th>ENSG00000134339.8</th>\n",
       "      <th>ENSG00000175084.11</th>\n",
       "      <th>...</th>\n",
       "      <th>ENSG00000197467.13</th>\n",
       "      <th>ENSG00000279807.1</th>\n",
       "      <th>ENSG00000107742.12</th>\n",
       "      <th>ENSG00000176454.13</th>\n",
       "      <th>ENSG00000212206.1</th>\n",
       "      <th>ENSG00000104611.11</th>\n",
       "      <th>ENSG00000181800.5</th>\n",
       "      <th>ENSG00000171049.8</th>\n",
       "      <th>ENSG00000257671.1</th>\n",
       "      <th>ENSG00000180448.10</th>\n",
       "    </tr>\n",
       "    <tr>\n",
       "      <th>gene_ens_id</th>\n",
       "      <th></th>\n",
       "      <th></th>\n",
       "      <th></th>\n",
       "      <th></th>\n",
       "      <th></th>\n",
       "      <th></th>\n",
       "      <th></th>\n",
       "      <th></th>\n",
       "      <th></th>\n",
       "      <th></th>\n",
       "      <th></th>\n",
       "      <th></th>\n",
       "      <th></th>\n",
       "      <th></th>\n",
       "      <th></th>\n",
       "      <th></th>\n",
       "      <th></th>\n",
       "      <th></th>\n",
       "      <th></th>\n",
       "      <th></th>\n",
       "      <th></th>\n",
       "    </tr>\n",
       "  </thead>\n",
       "  <tbody>\n",
       "    <tr>\n",
       "      <th>ENSG00000129824.15</th>\n",
       "      <td>1.000000</td>\n",
       "      <td>0.092378</td>\n",
       "      <td>0.007262</td>\n",
       "      <td>0.011841</td>\n",
       "      <td>0.105775</td>\n",
       "      <td>0.479273</td>\n",
       "      <td>0.478657</td>\n",
       "      <td>0.483544</td>\n",
       "      <td>0.117969</td>\n",
       "      <td>0.043658</td>\n",
       "      <td>...</td>\n",
       "      <td>0.004467</td>\n",
       "      <td>0.014411</td>\n",
       "      <td>0.014983</td>\n",
       "      <td>0.045078</td>\n",
       "      <td>0.007907</td>\n",
       "      <td>0.009798</td>\n",
       "      <td>0.011161</td>\n",
       "      <td>0.009620</td>\n",
       "      <td>0.003538</td>\n",
       "      <td>0.005812</td>\n",
       "    </tr>\n",
       "    <tr>\n",
       "      <th>ENSG00000149968.11</th>\n",
       "      <td>0.092378</td>\n",
       "      <td>1.000000</td>\n",
       "      <td>0.004570</td>\n",
       "      <td>0.009170</td>\n",
       "      <td>0.015736</td>\n",
       "      <td>0.078307</td>\n",
       "      <td>0.073894</td>\n",
       "      <td>0.074441</td>\n",
       "      <td>0.017325</td>\n",
       "      <td>0.014241</td>\n",
       "      <td>...</td>\n",
       "      <td>0.041250</td>\n",
       "      <td>0.024692</td>\n",
       "      <td>0.008636</td>\n",
       "      <td>0.014949</td>\n",
       "      <td>0.029433</td>\n",
       "      <td>0.001359</td>\n",
       "      <td>0.019925</td>\n",
       "      <td>0.012707</td>\n",
       "      <td>0.030752</td>\n",
       "      <td>0.003618</td>\n",
       "    </tr>\n",
       "    <tr>\n",
       "      <th>ENSG00000134184.12</th>\n",
       "      <td>0.007262</td>\n",
       "      <td>0.004570</td>\n",
       "      <td>1.000000</td>\n",
       "      <td>0.005670</td>\n",
       "      <td>0.005632</td>\n",
       "      <td>0.005024</td>\n",
       "      <td>0.005195</td>\n",
       "      <td>0.006747</td>\n",
       "      <td>0.002646</td>\n",
       "      <td>0.008142</td>\n",
       "      <td>...</td>\n",
       "      <td>0.023497</td>\n",
       "      <td>0.004689</td>\n",
       "      <td>0.005490</td>\n",
       "      <td>0.006992</td>\n",
       "      <td>0.006293</td>\n",
       "      <td>0.008088</td>\n",
       "      <td>0.003917</td>\n",
       "      <td>0.011875</td>\n",
       "      <td>0.001767</td>\n",
       "      <td>0.006450</td>\n",
       "    </tr>\n",
       "    <tr>\n",
       "      <th>ENSG00000224114.1</th>\n",
       "      <td>0.011841</td>\n",
       "      <td>0.009170</td>\n",
       "      <td>0.005670</td>\n",
       "      <td>1.000000</td>\n",
       "      <td>0.007314</td>\n",
       "      <td>0.004420</td>\n",
       "      <td>0.004736</td>\n",
       "      <td>0.002574</td>\n",
       "      <td>0.007253</td>\n",
       "      <td>0.012894</td>\n",
       "      <td>...</td>\n",
       "      <td>0.007156</td>\n",
       "      <td>0.005168</td>\n",
       "      <td>0.002192</td>\n",
       "      <td>0.008732</td>\n",
       "      <td>0.003973</td>\n",
       "      <td>0.003198</td>\n",
       "      <td>0.004628</td>\n",
       "      <td>0.014917</td>\n",
       "      <td>0.001900</td>\n",
       "      <td>0.003556</td>\n",
       "    </tr>\n",
       "    <tr>\n",
       "      <th>ENSG00000173432.10</th>\n",
       "      <td>0.105775</td>\n",
       "      <td>0.015736</td>\n",
       "      <td>0.005632</td>\n",
       "      <td>0.007314</td>\n",
       "      <td>1.000000</td>\n",
       "      <td>0.107761</td>\n",
       "      <td>0.089364</td>\n",
       "      <td>0.105775</td>\n",
       "      <td>0.815978</td>\n",
       "      <td>0.046390</td>\n",
       "      <td>...</td>\n",
       "      <td>0.046390</td>\n",
       "      <td>0.002897</td>\n",
       "      <td>0.040011</td>\n",
       "      <td>0.126462</td>\n",
       "      <td>0.003632</td>\n",
       "      <td>0.015732</td>\n",
       "      <td>0.004559</td>\n",
       "      <td>0.024573</td>\n",
       "      <td>0.008535</td>\n",
       "      <td>0.007710</td>\n",
       "    </tr>\n",
       "  </tbody>\n",
       "</table>\n",
       "<p>5 rows × 5000 columns</p>\n",
       "</div>"
      ],
      "text/plain": [
       "gene_ens_id         ENSG00000129824.15  ENSG00000149968.11  \\\n",
       "gene_ens_id                                                  \n",
       "ENSG00000129824.15            1.000000            0.092378   \n",
       "ENSG00000149968.11            0.092378            1.000000   \n",
       "ENSG00000134184.12            0.007262            0.004570   \n",
       "ENSG00000224114.1             0.011841            0.009170   \n",
       "ENSG00000173432.10            0.105775            0.015736   \n",
       "\n",
       "gene_ens_id         ENSG00000134184.12  ENSG00000224114.1  ENSG00000173432.10  \\\n",
       "gene_ens_id                                                                     \n",
       "ENSG00000129824.15            0.007262           0.011841            0.105775   \n",
       "ENSG00000149968.11            0.004570           0.009170            0.015736   \n",
       "ENSG00000134184.12            1.000000           0.005670            0.005632   \n",
       "ENSG00000224114.1             0.005670           1.000000            0.007314   \n",
       "ENSG00000173432.10            0.005632           0.007314            1.000000   \n",
       "\n",
       "gene_ens_id         ENSG00000067048.16  ENSG00000229807.10  \\\n",
       "gene_ens_id                                                  \n",
       "ENSG00000129824.15            0.479273            0.478657   \n",
       "ENSG00000149968.11            0.078307            0.073894   \n",
       "ENSG00000134184.12            0.005024            0.005195   \n",
       "ENSG00000224114.1             0.004420            0.004736   \n",
       "ENSG00000173432.10            0.107761            0.089364   \n",
       "\n",
       "gene_ens_id         ENSG00000012817.15  ENSG00000134339.8  ENSG00000175084.11  \\\n",
       "gene_ens_id                                                                     \n",
       "ENSG00000129824.15            0.483544           0.117969            0.043658   \n",
       "ENSG00000149968.11            0.074441           0.017325            0.014241   \n",
       "ENSG00000134184.12            0.006747           0.002646            0.008142   \n",
       "ENSG00000224114.1             0.002574           0.007253            0.012894   \n",
       "ENSG00000173432.10            0.105775           0.815978            0.046390   \n",
       "\n",
       "gene_ens_id         ...  ENSG00000197467.13  ENSG00000279807.1  \\\n",
       "gene_ens_id         ...                                          \n",
       "ENSG00000129824.15  ...            0.004467           0.014411   \n",
       "ENSG00000149968.11  ...            0.041250           0.024692   \n",
       "ENSG00000134184.12  ...            0.023497           0.004689   \n",
       "ENSG00000224114.1   ...            0.007156           0.005168   \n",
       "ENSG00000173432.10  ...            0.046390           0.002897   \n",
       "\n",
       "gene_ens_id         ENSG00000107742.12  ENSG00000176454.13  ENSG00000212206.1  \\\n",
       "gene_ens_id                                                                     \n",
       "ENSG00000129824.15            0.014983            0.045078           0.007907   \n",
       "ENSG00000149968.11            0.008636            0.014949           0.029433   \n",
       "ENSG00000134184.12            0.005490            0.006992           0.006293   \n",
       "ENSG00000224114.1             0.002192            0.008732           0.003973   \n",
       "ENSG00000173432.10            0.040011            0.126462           0.003632   \n",
       "\n",
       "gene_ens_id         ENSG00000104611.11  ENSG00000181800.5  ENSG00000171049.8  \\\n",
       "gene_ens_id                                                                    \n",
       "ENSG00000129824.15            0.009798           0.011161           0.009620   \n",
       "ENSG00000149968.11            0.001359           0.019925           0.012707   \n",
       "ENSG00000134184.12            0.008088           0.003917           0.011875   \n",
       "ENSG00000224114.1             0.003198           0.004628           0.014917   \n",
       "ENSG00000173432.10            0.015732           0.004559           0.024573   \n",
       "\n",
       "gene_ens_id         ENSG00000257671.1  ENSG00000180448.10  \n",
       "gene_ens_id                                                \n",
       "ENSG00000129824.15           0.003538            0.005812  \n",
       "ENSG00000149968.11           0.030752            0.003618  \n",
       "ENSG00000134184.12           0.001767            0.006450  \n",
       "ENSG00000224114.1            0.001900            0.003556  \n",
       "ENSG00000173432.10           0.008535            0.007710  \n",
       "\n",
       "[5 rows x 5000 columns]"
      ]
     },
     "execution_count": 18,
     "metadata": {},
     "output_type": "execute_result"
    }
   ],
   "source": [
    "tmp.head()"
   ]
  },
  {
   "cell_type": "markdown",
   "id": "51d7a057-e0d3-4495-a53b-52b4a38f2a94",
   "metadata": {
    "papermill": {
     "duration": 0.077897,
     "end_time": "2021-10-04T09:01:27.432833",
     "exception": false,
     "start_time": "2021-10-04T09:01:27.354936",
     "status": "completed"
    },
    "tags": []
   },
   "source": [
    "### Convert Ensembl Gene IDs to Entrez IDs"
   ]
  },
  {
   "cell_type": "code",
   "execution_count": 19,
   "id": "ca0ed202-4c3d-403e-8ad0-797df5939386",
   "metadata": {
    "execution": {
     "iopub.execute_input": "2021-10-04T09:01:27.594253Z",
     "iopub.status.busy": "2021-10-04T09:01:27.593755Z",
     "iopub.status.idle": "2021-10-04T09:01:27.595850Z",
     "shell.execute_reply": "2021-10-04T09:01:27.596242Z"
    },
    "papermill": {
     "duration": 0.084456,
     "end_time": "2021-10-04T09:01:27.596356",
     "exception": false,
     "start_time": "2021-10-04T09:01:27.511900",
     "status": "completed"
    },
    "tags": []
   },
   "outputs": [
    {
     "data": {
      "text/plain": [
       "PosixPath('/opt/data/data/gtex_v8/gtex_entrez_gene_ids_mappings.pkl')"
      ]
     },
     "metadata": {},
     "output_type": "display_data"
    }
   ],
   "source": [
    "input_filename = conf.GTEX[\"DATA_DIR\"] / \"gtex_entrez_gene_ids_mappings.pkl\"\n",
    "display(input_filename)\n",
    "assert input_filename.exists()"
   ]
  },
  {
   "cell_type": "code",
   "execution_count": 20,
   "id": "a7d2f391-f925-447a-b4b1-f60bc4653daa",
   "metadata": {
    "execution": {
     "iopub.execute_input": "2021-10-04T09:01:27.771807Z",
     "iopub.status.busy": "2021-10-04T09:01:27.771323Z",
     "iopub.status.idle": "2021-10-04T09:01:27.773489Z",
     "shell.execute_reply": "2021-10-04T09:01:27.773039Z"
    },
    "papermill": {
     "duration": 0.097498,
     "end_time": "2021-10-04T09:01:27.773587",
     "exception": false,
     "start_time": "2021-10-04T09:01:27.676089",
     "status": "completed"
    },
    "tags": []
   },
   "outputs": [],
   "source": [
    "gene_ids_mappings = pd.read_pickle(input_filename)"
   ]
  },
  {
   "cell_type": "code",
   "execution_count": 21,
   "id": "b2910fe8-7f7b-4b87-bfbe-d3642f3410b9",
   "metadata": {
    "execution": {
     "iopub.execute_input": "2021-10-04T09:01:27.936102Z",
     "iopub.status.busy": "2021-10-04T09:01:27.935549Z",
     "iopub.status.idle": "2021-10-04T09:01:27.938000Z",
     "shell.execute_reply": "2021-10-04T09:01:27.938345Z"
    },
    "papermill": {
     "duration": 0.084761,
     "end_time": "2021-10-04T09:01:27.938455",
     "exception": false,
     "start_time": "2021-10-04T09:01:27.853694",
     "status": "completed"
    },
    "tags": []
   },
   "outputs": [
    {
     "data": {
      "text/plain": [
       "(34527, 3)"
      ]
     },
     "execution_count": 21,
     "metadata": {},
     "output_type": "execute_result"
    }
   ],
   "source": [
    "gene_ids_mappings.shape"
   ]
  },
  {
   "cell_type": "code",
   "execution_count": 22,
   "id": "dced4328-14c8-40d7-a479-fcd83eb7bb60",
   "metadata": {
    "execution": {
     "iopub.execute_input": "2021-10-04T09:01:28.107222Z",
     "iopub.status.busy": "2021-10-04T09:01:28.106582Z",
     "iopub.status.idle": "2021-10-04T09:01:28.109331Z",
     "shell.execute_reply": "2021-10-04T09:01:28.109681Z"
    },
    "papermill": {
     "duration": 0.091238,
     "end_time": "2021-10-04T09:01:28.109793",
     "exception": false,
     "start_time": "2021-10-04T09:01:28.018555",
     "status": "completed"
    },
    "tags": []
   },
   "outputs": [
    {
     "data": {
      "text/html": [
       "<div>\n",
       "<style scoped>\n",
       "    .dataframe tbody tr th:only-of-type {\n",
       "        vertical-align: middle;\n",
       "    }\n",
       "\n",
       "    .dataframe tbody tr th {\n",
       "        vertical-align: top;\n",
       "    }\n",
       "\n",
       "    .dataframe thead th {\n",
       "        text-align: right;\n",
       "    }\n",
       "</style>\n",
       "<table border=\"1\" class=\"dataframe\">\n",
       "  <thead>\n",
       "    <tr style=\"text-align: right;\">\n",
       "      <th></th>\n",
       "      <th>gene_ens_id_v</th>\n",
       "      <th>ensembl_id</th>\n",
       "      <th>entrez_id</th>\n",
       "    </tr>\n",
       "  </thead>\n",
       "  <tbody>\n",
       "    <tr>\n",
       "      <th>0</th>\n",
       "      <td>ENSG00000145309.5</td>\n",
       "      <td>ENSG00000145309</td>\n",
       "      <td>85438</td>\n",
       "    </tr>\n",
       "    <tr>\n",
       "      <th>1</th>\n",
       "      <td>ENSG00000175820.3</td>\n",
       "      <td>ENSG00000175820</td>\n",
       "      <td>643677</td>\n",
       "    </tr>\n",
       "    <tr>\n",
       "      <th>2</th>\n",
       "      <td>ENSG00000083454.21</td>\n",
       "      <td>ENSG00000083454</td>\n",
       "      <td>5026</td>\n",
       "    </tr>\n",
       "    <tr>\n",
       "      <th>3</th>\n",
       "      <td>ENSG00000071794.15</td>\n",
       "      <td>ENSG00000071794</td>\n",
       "      <td>6596</td>\n",
       "    </tr>\n",
       "    <tr>\n",
       "      <th>4</th>\n",
       "      <td>ENSG00000211918.1</td>\n",
       "      <td>ENSG00000211918</td>\n",
       "      <td>28503</td>\n",
       "    </tr>\n",
       "  </tbody>\n",
       "</table>\n",
       "</div>"
      ],
      "text/plain": [
       "        gene_ens_id_v       ensembl_id entrez_id\n",
       "0   ENSG00000145309.5  ENSG00000145309     85438\n",
       "1   ENSG00000175820.3  ENSG00000175820    643677\n",
       "2  ENSG00000083454.21  ENSG00000083454      5026\n",
       "3  ENSG00000071794.15  ENSG00000071794      6596\n",
       "4   ENSG00000211918.1  ENSG00000211918     28503"
      ]
     },
     "execution_count": 22,
     "metadata": {},
     "output_type": "execute_result"
    }
   ],
   "source": [
    "gene_ids_mappings.head()"
   ]
  },
  {
   "cell_type": "code",
   "execution_count": 23,
   "id": "2dc964bf-d535-4021-b001-a2d0a334985f",
   "metadata": {
    "execution": {
     "iopub.execute_input": "2021-10-04T09:01:28.276515Z",
     "iopub.status.busy": "2021-10-04T09:01:28.276029Z",
     "iopub.status.idle": "2021-10-04T09:01:28.302741Z",
     "shell.execute_reply": "2021-10-04T09:01:28.302291Z"
    },
    "papermill": {
     "duration": 0.111181,
     "end_time": "2021-10-04T09:01:28.302837",
     "exception": false,
     "start_time": "2021-10-04T09:01:28.191656",
     "status": "completed"
    },
    "tags": []
   },
   "outputs": [],
   "source": [
    "gene_id_maps = gene_ids_mappings.set_index(\"gene_ens_id_v\")[\"entrez_id\"].to_dict()"
   ]
  },
  {
   "cell_type": "code",
   "execution_count": 24,
   "id": "838abb9e-19f4-423a-a013-14e56fff6de6",
   "metadata": {
    "execution": {
     "iopub.execute_input": "2021-10-04T09:01:28.473064Z",
     "iopub.status.busy": "2021-10-04T09:01:28.472476Z",
     "iopub.status.idle": "2021-10-04T09:01:28.475714Z",
     "shell.execute_reply": "2021-10-04T09:01:28.475317Z"
    },
    "papermill": {
     "duration": 0.091911,
     "end_time": "2021-10-04T09:01:28.475814",
     "exception": false,
     "start_time": "2021-10-04T09:01:28.383903",
     "status": "completed"
    },
    "tags": []
   },
   "outputs": [
    {
     "data": {
      "text/plain": [
       "{'ENSG00000145309.5': '85438', 'ENSG00000175820.3': '643677'}"
      ]
     },
     "execution_count": 24,
     "metadata": {},
     "output_type": "execute_result"
    }
   ],
   "source": [
    "dict(list(gene_id_maps.items())[0:2])"
   ]
  },
  {
   "cell_type": "code",
   "execution_count": 25,
   "id": "e32ce280-f0cc-4932-8cbb-89e5c5d0430e",
   "metadata": {
    "execution": {
     "iopub.execute_input": "2021-10-04T09:01:28.648173Z",
     "iopub.status.busy": "2021-10-04T09:01:28.647596Z",
     "iopub.status.idle": "2021-10-04T09:01:28.650994Z",
     "shell.execute_reply": "2021-10-04T09:01:28.651356Z"
    },
    "papermill": {
     "duration": 0.092379,
     "end_time": "2021-10-04T09:01:28.651472",
     "exception": false,
     "start_time": "2021-10-04T09:01:28.559093",
     "status": "completed"
    },
    "tags": []
   },
   "outputs": [
    {
     "data": {
      "text/plain": [
       "4201"
      ]
     },
     "metadata": {},
     "output_type": "display_data"
    },
    {
     "data": {
      "text/plain": [
       "['6192', '4314', '2944', '100271063', '6288']"
      ]
     },
     "metadata": {},
     "output_type": "display_data"
    }
   ],
   "source": [
    "# is map from ensembl to entrez unique?\n",
    "_tmp_index = [gene_id_maps[x] for x in tmp.index if x in gene_id_maps]\n",
    "display(len(_tmp_index))\n",
    "display(_tmp_index[:5])"
   ]
  },
  {
   "cell_type": "markdown",
   "id": "ecf4a22e-e93b-48a2-a82f-4a54b7472abf",
   "metadata": {
    "papermill": {
     "duration": 0.084402,
     "end_time": "2021-10-04T09:01:28.821320",
     "exception": false,
     "start_time": "2021-10-04T09:01:28.736918",
     "status": "completed"
    },
    "tags": []
   },
   "source": [
    "# Run"
   ]
  },
  {
   "cell_type": "code",
   "execution_count": 26,
   "id": "fe0e2ed7-42bc-446e-98d5-76f31217c1df",
   "metadata": {
    "execution": {
     "iopub.execute_input": "2021-10-04T09:01:28.995332Z",
     "iopub.status.busy": "2021-10-04T09:01:28.994854Z",
     "iopub.status.idle": "2021-10-04T09:01:28.997996Z",
     "shell.execute_reply": "2021-10-04T09:01:28.998361Z"
    },
    "papermill": {
     "duration": 0.092,
     "end_time": "2021-10-04T09:01:28.998479",
     "exception": false,
     "start_time": "2021-10-04T09:01:28.906479",
     "status": "completed"
    },
    "tags": []
   },
   "outputs": [
    {
     "data": {
      "text/plain": [
       "25"
      ]
     },
     "metadata": {},
     "output_type": "display_data"
    }
   ],
   "source": [
    "n_partitions_per_file = pd.read_pickle(input_files[0]).shape[0]\n",
    "display(n_partitions_per_file)"
   ]
  },
  {
   "cell_type": "code",
   "execution_count": 27,
   "id": "754836bb-3b1c-4259-882b-07dfa793c13a",
   "metadata": {
    "execution": {
     "iopub.execute_input": "2021-10-04T09:01:29.181393Z",
     "iopub.status.busy": "2021-10-04T09:01:29.180821Z",
     "iopub.status.idle": "2021-10-04T16:35:10.043348Z",
     "shell.execute_reply": "2021-10-04T16:35:10.041470Z"
    },
    "papermill": {
     "duration": 27220.958378,
     "end_time": "2021-10-04T16:35:10.043439",
     "exception": false,
     "start_time": "2021-10-04T09:01:29.085061",
     "status": "completed"
    },
    "tags": []
   },
   "outputs": [
    {
     "data": {
      "text/plain": [
       "'number of tasks: 125'"
      ]
     },
     "metadata": {},
     "output_type": "display_data"
    },
    {
     "name": "stderr",
     "output_type": "stream",
     "text": [
      "whole_blood/var_pc_log2/saving: 100%|██████████████████████████| 125/125 [7:33:40<00:00, 217.77s/it]\n"
     ]
    }
   ],
   "source": [
    "# the number of tasks is the number of input files times number of partitions per file\n",
    "n_tasks = len(input_files) * n_partitions_per_file\n",
    "n_tasks = int(n_tasks)\n",
    "display(f\"number of tasks: {n_tasks}\")\n",
    "\n",
    "with ProcessPoolExecutor(max_workers=conf.GENERAL[\"N_JOBS\"]) as executor, tqdm(\n",
    "    total=n_tasks, ncols=100\n",
    ") as pbar:\n",
    "    for clustering_filepath in input_files:\n",
    "        # extract from input clustering filename some sections, such as tissue name, etc\n",
    "        m = re.search(filename_pattern, str(clustering_filepath.name))\n",
    "\n",
    "        tissue = m.group(\"tissue\")\n",
    "        gene_sel_strategy = m.group(\"gene_sel_strategy\")\n",
    "        corr_method = m.group(\"corr_method\")\n",
    "\n",
    "        # update pbar description\n",
    "        pbar.set_description(f\"{tissue}/{gene_sel_strategy}\")\n",
    "        #         pbar.set_description(f\"{corr_method}\")\n",
    "\n",
    "        # create output filepath template\n",
    "        full_output_filename_template = (\n",
    "            f\"{clustering_filepath.stem}-{ENRICH_FUNCTION}-{ENRICH_PARAMS}.pkl\"\n",
    "        )\n",
    "\n",
    "        # read clustering results\n",
    "        clustering_df = pd.read_pickle(clustering_filepath)\n",
    "\n",
    "        # get partitions' numbers\n",
    "        tmp_partition = clustering_df.iloc[0].partition\n",
    "        n_genes = tmp_partition.shape[0]\n",
    "        n_clusters = np.unique(tmp_partition).shape[0]\n",
    "\n",
    "        # use those sections to read the list of genes from the input data\n",
    "        # file that the clustering algorithm received\n",
    "        similarity_matrix_filename = SIMILARITY_MATRIX_FILENAME_TEMPLATE.format(\n",
    "            tissue=tissue,\n",
    "            gene_sel_strategy=gene_sel_strategy,\n",
    "            corr_method=corr_method.split(\"_\")[0]\n",
    "            if not corr_method.startswith(\"clustermatch\")\n",
    "            else corr_method,\n",
    "        )\n",
    "\n",
    "        # get the universe of genes\n",
    "        all_gene_ens_ids = pd.read_pickle(\n",
    "            SIMILARITY_MATRICES_DIR / similarity_matrix_filename\n",
    "        ).index.tolist()\n",
    "\n",
    "        # convert gene ensembl ids to entrez and create clustering partition mask\n",
    "        partition_mask = []\n",
    "        all_gene_ids = []\n",
    "        entrez_ids_added = set()  # this is faster\n",
    "\n",
    "        for x in all_gene_ens_ids:\n",
    "            if x not in gene_id_maps:\n",
    "                partition_mask.append(False)\n",
    "                continue\n",
    "\n",
    "            new_entrez_id = gene_id_maps[x]\n",
    "\n",
    "            # TODO: maybe this avoiding of repeated gene ids is not necessary?\n",
    "            # do not add repeated ids\n",
    "            if new_entrez_id in entrez_ids_added:\n",
    "                partition_mask.append(False)\n",
    "                continue\n",
    "\n",
    "            all_gene_ids.append(new_entrez_id)\n",
    "            entrez_ids_added.add(new_entrez_id)\n",
    "            partition_mask.append(True)\n",
    "\n",
    "        partition_mask = np.array(partition_mask, dtype=bool)\n",
    "        all_gene_ids = np.array(all_gene_ids)\n",
    "        assert np.unique(all_gene_ids).shape[0] == all_gene_ids.shape[0]\n",
    "        assert all_gene_ids.shape[0] == np.sum(partition_mask)\n",
    "\n",
    "        # iterate over clustering solutions (partitions) and GO ontologies\n",
    "        futures = [\n",
    "            executor.submit(\n",
    "                run_enrich,\n",
    "                all_gene_ids,\n",
    "                \"ENTREZID\",\n",
    "                cr.partition[partition_mask],\n",
    "                ENRICH_FUNCTION,\n",
    "                ENRICH_PARAMS,\n",
    "            )\n",
    "            for cr_idx, cr in clustering_df.sort_values(\"n_clusters\").iterrows()\n",
    "        ]\n",
    "\n",
    "        # collect results\n",
    "        results_full = []\n",
    "\n",
    "        for task in as_completed(futures):\n",
    "            task_results = task.result()\n",
    "\n",
    "            # continue if no enrichment found\n",
    "            if task_results is None:\n",
    "                pbar.update(1)\n",
    "                continue\n",
    "\n",
    "            results_full.append(task_results)\n",
    "\n",
    "            pbar.update(1)\n",
    "\n",
    "        if len(results_full) == 0:\n",
    "            # no significant results, continue\n",
    "            continue\n",
    "\n",
    "        # merge and serve\n",
    "        pbar.set_description(f\"{tissue}/{gene_sel_strategy}/saving\")\n",
    "\n",
    "        # full\n",
    "        results_full_df = pd.concat(results_full, ignore_index=True).sort_values(\n",
    "            [\"n_clusters\", \"pvalue_adjust\"]\n",
    "        )\n",
    "\n",
    "        results_full_df.to_pickle(\n",
    "            OUTPUT_DIR\n",
    "            / f\"{clustering_filepath.stem}-{ENRICH_FUNCTION}-{ENRICH_PARAMS}.pkl\",\n",
    "        )"
   ]
  },
  {
   "cell_type": "code",
   "execution_count": null,
   "id": "complimentary-gathering",
   "metadata": {
    "papermill": {
     "duration": 0.201069,
     "end_time": "2021-10-04T16:35:11.143159",
     "exception": false,
     "start_time": "2021-10-04T16:35:10.942090",
     "status": "completed"
    },
    "tags": []
   },
   "outputs": [],
   "source": []
  }
 ],
 "metadata": {
  "jupytext": {
   "cell_metadata_filter": "all,-execution,-papermill,-trusted"
  },
  "kernelspec": {
   "display_name": "Python 3 (ipykernel)",
   "language": "python",
   "name": "python3"
  },
  "language_info": {
   "codemirror_mode": {
    "name": "ipython",
    "version": 3
   },
   "file_extension": ".py",
   "mimetype": "text/x-python",
   "name": "python",
   "nbconvert_exporter": "python",
   "pygments_lexer": "ipython3",
   "version": "3.9.7"
  },
  "papermill": {
   "default_parameters": {},
   "duration": 27229.997426,
   "end_time": "2021-10-04T16:35:11.578303",
   "environment_variables": {},
   "exception": null,
   "input_path": "nbs/20_gene_set_enrichment/05_gtex_v8/07_04-gtex-clustermatch-enrichPathway.ipynb",
   "output_path": "nbs/20_gene_set_enrichment/05_gtex_v8/07_04-gtex-clustermatch-enrichPathway.run.ipynb",
   "parameters": {},
   "start_time": "2021-10-04T09:01:21.580877",
   "version": "2.3.2"
  },
  "toc-autonumbering": true
 },
 "nbformat": 4,
 "nbformat_minor": 5
}
