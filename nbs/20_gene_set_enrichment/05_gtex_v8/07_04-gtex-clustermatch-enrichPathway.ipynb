{
 "cells": [
  {
   "cell_type": "markdown",
   "id": "dfa1ba1b-d517-4a57-8db0-103ab5bd0a0d",
   "metadata": {
    "papermill": {
     "duration": 0.019234,
     "end_time": "2021-10-03T08:58:16.921682",
     "exception": false,
     "start_time": "2021-10-03T08:58:16.902448",
     "status": "completed"
    },
    "tags": []
   },
   "source": [
    "# Description"
   ]
  },
  {
   "cell_type": "markdown",
   "id": "8944732c-37a0-4af1-b9c1-86c0c2776126",
   "metadata": {
    "papermill": {
     "duration": 0.016719,
     "end_time": "2021-10-03T08:58:16.953373",
     "exception": false,
     "start_time": "2021-10-03T08:58:16.936654",
     "status": "completed"
    },
    "tags": []
   },
   "source": [
    "TODO/UPDATE: It computes gene enrichment on *all* the clustering results obtained using some correlation measure on GTEx v8 (specified under `Settings` below)."
   ]
  },
  {
   "cell_type": "markdown",
   "id": "3334aeb5-41a5-4331-9c28-34ec8f755e98",
   "metadata": {
    "papermill": {
     "duration": 0.017231,
     "end_time": "2021-10-03T08:58:16.989592",
     "exception": false,
     "start_time": "2021-10-03T08:58:16.972361",
     "status": "completed"
    },
    "tags": []
   },
   "source": [
    "# Modules loading"
   ]
  },
  {
   "cell_type": "code",
   "execution_count": 1,
   "id": "2c8cf869-a063-4731-bb75-acc121975426",
   "metadata": {
    "execution": {
     "iopub.execute_input": "2021-10-03T08:58:17.028206Z",
     "iopub.status.busy": "2021-10-03T08:58:17.027699Z",
     "iopub.status.idle": "2021-10-03T08:58:17.266751Z",
     "shell.execute_reply": "2021-10-03T08:58:17.266277Z"
    },
    "papermill": {
     "duration": 0.261341,
     "end_time": "2021-10-03T08:58:17.266865",
     "exception": false,
     "start_time": "2021-10-03T08:58:17.005524",
     "status": "completed"
    },
    "tags": []
   },
   "outputs": [],
   "source": [
    "import re\n",
    "from collections import defaultdict\n",
    "from concurrent.futures import ProcessPoolExecutor, as_completed\n",
    "\n",
    "import numpy as np\n",
    "import pandas as pd\n",
    "from tqdm import tqdm\n",
    "\n",
    "from clustermatch import conf\n",
    "from clustermatch.gene_enrich import run_enrich"
   ]
  },
  {
   "cell_type": "markdown",
   "id": "21f26cf2-d399-470f-94c3-e26dd5b4337d",
   "metadata": {
    "papermill": {
     "duration": 0.015251,
     "end_time": "2021-10-03T08:58:17.298292",
     "exception": false,
     "start_time": "2021-10-03T08:58:17.283041",
     "status": "completed"
    },
    "tags": []
   },
   "source": [
    "# Settings"
   ]
  },
  {
   "cell_type": "code",
   "execution_count": 2,
   "id": "ba4b9af6-32b3-434c-89d6-20d47f52620e",
   "metadata": {
    "execution": {
     "iopub.execute_input": "2021-10-03T08:58:17.331900Z",
     "iopub.status.busy": "2021-10-03T08:58:17.331404Z",
     "iopub.status.idle": "2021-10-03T08:58:17.333413Z",
     "shell.execute_reply": "2021-10-03T08:58:17.333046Z"
    },
    "papermill": {
     "duration": 0.020341,
     "end_time": "2021-10-03T08:58:17.333511",
     "exception": false,
     "start_time": "2021-10-03T08:58:17.313170",
     "status": "completed"
    },
    "tags": []
   },
   "outputs": [],
   "source": [
    "DATASET_CONFIG = conf.GTEX"
   ]
  },
  {
   "cell_type": "code",
   "execution_count": 3,
   "id": "16b1fa39-d18c-4a87-bfcc-8d302941544d",
   "metadata": {
    "execution": {
     "iopub.execute_input": "2021-10-03T08:58:17.368628Z",
     "iopub.status.busy": "2021-10-03T08:58:17.368171Z",
     "iopub.status.idle": "2021-10-03T08:58:17.369703Z",
     "shell.execute_reply": "2021-10-03T08:58:17.370066Z"
    },
    "papermill": {
     "duration": 0.020597,
     "end_time": "2021-10-03T08:58:17.370178",
     "exception": false,
     "start_time": "2021-10-03T08:58:17.349581",
     "status": "completed"
    },
    "tags": []
   },
   "outputs": [],
   "source": [
    "CORRELATION_METHOD_NAME = \"clustermatch\""
   ]
  },
  {
   "cell_type": "code",
   "execution_count": 4,
   "id": "0072fd4d-4b6f-4553-bc17-7bc3d737c7fd",
   "metadata": {
    "execution": {
     "iopub.execute_input": "2021-10-03T08:58:17.405641Z",
     "iopub.status.busy": "2021-10-03T08:58:17.405180Z",
     "iopub.status.idle": "2021-10-03T08:58:17.406700Z",
     "shell.execute_reply": "2021-10-03T08:58:17.407042Z"
    },
    "papermill": {
     "duration": 0.020772,
     "end_time": "2021-10-03T08:58:17.407156",
     "exception": false,
     "start_time": "2021-10-03T08:58:17.386384",
     "status": "completed"
    },
    "tags": []
   },
   "outputs": [],
   "source": [
    "# GENE_SELECTION_STRATEGY = \"var_pc_log2\""
   ]
  },
  {
   "cell_type": "code",
   "execution_count": 5,
   "id": "f4b75296-746d-4f4a-b33b-2b003ff9802f",
   "metadata": {
    "execution": {
     "iopub.execute_input": "2021-10-03T08:58:17.442133Z",
     "iopub.status.busy": "2021-10-03T08:58:17.441693Z",
     "iopub.status.idle": "2021-10-03T08:58:17.443505Z",
     "shell.execute_reply": "2021-10-03T08:58:17.443842Z"
    },
    "papermill": {
     "duration": 0.02079,
     "end_time": "2021-10-03T08:58:17.444006",
     "exception": false,
     "start_time": "2021-10-03T08:58:17.423216",
     "status": "completed"
    },
    "tags": []
   },
   "outputs": [],
   "source": [
    "# clusterProfiler settings\n",
    "ENRICH_FUNCTION = \"enrichPathway\"\n",
    "ENRICH_PARAMS = \"human\""
   ]
  },
  {
   "cell_type": "markdown",
   "id": "fd099196-edbb-4a17-adce-c7079a221057",
   "metadata": {
    "papermill": {
     "duration": 0.015314,
     "end_time": "2021-10-03T08:58:17.475055",
     "exception": false,
     "start_time": "2021-10-03T08:58:17.459741",
     "status": "completed"
    },
    "tags": []
   },
   "source": [
    "# Paths"
   ]
  },
  {
   "cell_type": "code",
   "execution_count": 6,
   "id": "4f2e5aa2-0428-4f1b-8af7-41fd7f8208bb",
   "metadata": {
    "execution": {
     "iopub.execute_input": "2021-10-03T08:58:17.514308Z",
     "iopub.status.busy": "2021-10-03T08:58:17.513696Z",
     "iopub.status.idle": "2021-10-03T08:58:17.516260Z",
     "shell.execute_reply": "2021-10-03T08:58:17.516626Z"
    },
    "papermill": {
     "duration": 0.026317,
     "end_time": "2021-10-03T08:58:17.516740",
     "exception": false,
     "start_time": "2021-10-03T08:58:17.490423",
     "status": "completed"
    },
    "tags": []
   },
   "outputs": [
    {
     "data": {
      "text/plain": [
       "PosixPath('/opt/data/results/gtex_v8/clustering')"
      ]
     },
     "metadata": {},
     "output_type": "display_data"
    }
   ],
   "source": [
    "INPUT_DIR = DATASET_CONFIG[\"CLUSTERING_DIR\"]\n",
    "display(INPUT_DIR)\n",
    "assert INPUT_DIR.exists()"
   ]
  },
  {
   "cell_type": "code",
   "execution_count": 7,
   "id": "28806e98",
   "metadata": {
    "execution": {
     "iopub.execute_input": "2021-10-03T08:58:17.553146Z",
     "iopub.status.busy": "2021-10-03T08:58:17.552676Z",
     "iopub.status.idle": "2021-10-03T08:58:17.554598Z",
     "shell.execute_reply": "2021-10-03T08:58:17.554965Z"
    },
    "papermill": {
     "duration": 0.021712,
     "end_time": "2021-10-03T08:58:17.555080",
     "exception": false,
     "start_time": "2021-10-03T08:58:17.533368",
     "status": "completed"
    },
    "tags": []
   },
   "outputs": [
    {
     "data": {
      "text/plain": [
       "PosixPath('/opt/data/results/gtex_v8/similarity_matrices')"
      ]
     },
     "metadata": {},
     "output_type": "display_data"
    }
   ],
   "source": [
    "# this directory has the input data given to the clustering methods\n",
    "SIMILARITY_MATRICES_DIR = DATASET_CONFIG[\"SIMILARITY_MATRICES_DIR\"]\n",
    "display(SIMILARITY_MATRICES_DIR)"
   ]
  },
  {
   "cell_type": "code",
   "execution_count": 8,
   "id": "7eff043e-9416-486b-ae13-3dcda0e45f7d",
   "metadata": {
    "execution": {
     "iopub.execute_input": "2021-10-03T08:58:17.592365Z",
     "iopub.status.busy": "2021-10-03T08:58:17.591787Z",
     "iopub.status.idle": "2021-10-03T08:58:17.594536Z",
     "shell.execute_reply": "2021-10-03T08:58:17.594900Z"
    },
    "papermill": {
     "duration": 0.022613,
     "end_time": "2021-10-03T08:58:17.595017",
     "exception": false,
     "start_time": "2021-10-03T08:58:17.572404",
     "status": "completed"
    },
    "tags": []
   },
   "outputs": [
    {
     "data": {
      "text/plain": [
       "'gtex_v8_data_{tissue}-{gene_sel_strategy}-{corr_method}.pkl'"
      ]
     },
     "metadata": {},
     "output_type": "display_data"
    }
   ],
   "source": [
    "SIMILARITY_MATRIX_FILENAME_TEMPLATE = DATASET_CONFIG[\n",
    "    \"SIMILARITY_MATRIX_FILENAME_TEMPLATE\"\n",
    "]\n",
    "display(SIMILARITY_MATRIX_FILENAME_TEMPLATE)"
   ]
  },
  {
   "cell_type": "code",
   "execution_count": 9,
   "id": "ae7489d8-c09f-43a8-b52c-a9049266f734",
   "metadata": {
    "execution": {
     "iopub.execute_input": "2021-10-03T08:58:17.633075Z",
     "iopub.status.busy": "2021-10-03T08:58:17.632273Z",
     "iopub.status.idle": "2021-10-03T08:58:17.635737Z",
     "shell.execute_reply": "2021-10-03T08:58:17.636139Z"
    },
    "papermill": {
     "duration": 0.023875,
     "end_time": "2021-10-03T08:58:17.636250",
     "exception": false,
     "start_time": "2021-10-03T08:58:17.612375",
     "status": "completed"
    },
    "tags": []
   },
   "outputs": [
    {
     "data": {
      "text/plain": [
       "PosixPath('/opt/data/results/gtex_v8/gene_set_enrichment')"
      ]
     },
     "metadata": {},
     "output_type": "display_data"
    }
   ],
   "source": [
    "OUTPUT_DIR = DATASET_CONFIG[\"GENE_ENRICHMENT_DIR\"]\n",
    "OUTPUT_DIR.mkdir(parents=True, exist_ok=True)\n",
    "display(OUTPUT_DIR)"
   ]
  },
  {
   "cell_type": "markdown",
   "id": "6e0d3fbd-1090-466c-aa2e-176f7887c4cc",
   "metadata": {
    "papermill": {
     "duration": 0.01675,
     "end_time": "2021-10-03T08:58:17.670396",
     "exception": false,
     "start_time": "2021-10-03T08:58:17.653646",
     "status": "completed"
    },
    "tags": []
   },
   "source": [
    "# Get data files"
   ]
  },
  {
   "cell_type": "code",
   "execution_count": 10,
   "id": "735c38ea-9cb9-4e5f-aa1d-32cf420c45b6",
   "metadata": {
    "execution": {
     "iopub.execute_input": "2021-10-03T08:58:17.707779Z",
     "iopub.status.busy": "2021-10-03T08:58:17.707327Z",
     "iopub.status.idle": "2021-10-03T08:58:17.708870Z",
     "shell.execute_reply": "2021-10-03T08:58:17.709232Z"
    },
    "papermill": {
     "duration": 0.022,
     "end_time": "2021-10-03T08:58:17.709345",
     "exception": false,
     "start_time": "2021-10-03T08:58:17.687345",
     "status": "completed"
    },
    "tags": []
   },
   "outputs": [],
   "source": [
    "filename_pattern = re.compile(DATASET_CONFIG[\"CLUSTERING_FILENAME_PATTERN\"])"
   ]
  },
  {
   "cell_type": "code",
   "execution_count": 11,
   "id": "0a2c5f50-ec5c-46e8-8918-753cbc941c24",
   "metadata": {
    "execution": {
     "iopub.execute_input": "2021-10-03T08:58:17.748723Z",
     "iopub.status.busy": "2021-10-03T08:58:17.748233Z",
     "iopub.status.idle": "2021-10-03T08:58:17.752287Z",
     "shell.execute_reply": "2021-10-03T08:58:17.751873Z"
    },
    "papermill": {
     "duration": 0.025668,
     "end_time": "2021-10-03T08:58:17.752387",
     "exception": false,
     "start_time": "2021-10-03T08:58:17.726719",
     "status": "completed"
    },
    "tags": []
   },
   "outputs": [
    {
     "data": {
      "text/plain": [
       "5"
      ]
     },
     "metadata": {},
     "output_type": "display_data"
    },
    {
     "data": {
      "text/plain": [
       "[PosixPath('/opt/data/results/gtex_v8/clustering/gtex_v8_data_adipose_subcutaneous-var_pc_log2-clustermatch-SpectralClustering.pkl'),\n",
       " PosixPath('/opt/data/results/gtex_v8/clustering/gtex_v8_data_artery_tibial-var_pc_log2-clustermatch-SpectralClustering.pkl'),\n",
       " PosixPath('/opt/data/results/gtex_v8/clustering/gtex_v8_data_muscle_skeletal-var_pc_log2-clustermatch-SpectralClustering.pkl'),\n",
       " PosixPath('/opt/data/results/gtex_v8/clustering/gtex_v8_data_skin_sun_exposed_lower_leg-var_pc_log2-clustermatch-SpectralClustering.pkl'),\n",
       " PosixPath('/opt/data/results/gtex_v8/clustering/gtex_v8_data_whole_blood-var_pc_log2-clustermatch-SpectralClustering.pkl')]"
      ]
     },
     "metadata": {},
     "output_type": "display_data"
    }
   ],
   "source": [
    "# get input data files according to Settings\n",
    "input_files = sorted(\n",
    "    [\n",
    "        f\n",
    "        for f in INPUT_DIR.iterdir()\n",
    "        if (m := re.search(filename_pattern, str(f))) is not None\n",
    "        and m.group(\"corr_method\") == CORRELATION_METHOD_NAME\n",
    "    ]\n",
    ")\n",
    "display(len(input_files))\n",
    "display(input_files[:5])\n",
    "\n",
    "assert len(input_files) > 0"
   ]
  },
  {
   "cell_type": "markdown",
   "id": "04fe07b3-84e7-41f9-ba5d-09139ef0f69c",
   "metadata": {
    "papermill": {
     "duration": 0.017461,
     "end_time": "2021-10-03T08:58:17.788073",
     "exception": false,
     "start_time": "2021-10-03T08:58:17.770612",
     "status": "completed"
    },
    "tags": []
   },
   "source": [
    "# Preview input data"
   ]
  },
  {
   "cell_type": "markdown",
   "id": "9580f4e4-ca5d-4551-8545-7c8a3dc13d6b",
   "metadata": {
    "papermill": {
     "duration": 0.017309,
     "end_time": "2021-10-03T08:58:17.822836",
     "exception": false,
     "start_time": "2021-10-03T08:58:17.805527",
     "status": "completed"
    },
    "tags": []
   },
   "source": [
    "## Clustering results"
   ]
  },
  {
   "cell_type": "code",
   "execution_count": 12,
   "id": "ce5ee397-714e-430c-90c4-c648cc4780bf",
   "metadata": {
    "execution": {
     "iopub.execute_input": "2021-10-03T08:58:17.861078Z",
     "iopub.status.busy": "2021-10-03T08:58:17.860617Z",
     "iopub.status.idle": "2021-10-03T08:58:17.862958Z",
     "shell.execute_reply": "2021-10-03T08:58:17.863299Z"
    },
    "papermill": {
     "duration": 0.02322,
     "end_time": "2021-10-03T08:58:17.863417",
     "exception": false,
     "start_time": "2021-10-03T08:58:17.840197",
     "status": "completed"
    },
    "tags": []
   },
   "outputs": [],
   "source": [
    "tmp = pd.read_pickle(input_files[0])"
   ]
  },
  {
   "cell_type": "code",
   "execution_count": 13,
   "id": "51ad6d88-77d9-4ff9-ba36-fcefc4454dbe",
   "metadata": {
    "execution": {
     "iopub.execute_input": "2021-10-03T08:58:17.902704Z",
     "iopub.status.busy": "2021-10-03T08:58:17.902171Z",
     "iopub.status.idle": "2021-10-03T08:58:17.904289Z",
     "shell.execute_reply": "2021-10-03T08:58:17.904651Z"
    },
    "papermill": {
     "duration": 0.0235,
     "end_time": "2021-10-03T08:58:17.904764",
     "exception": false,
     "start_time": "2021-10-03T08:58:17.881264",
     "status": "completed"
    },
    "tags": []
   },
   "outputs": [
    {
     "data": {
      "text/plain": [
       "(25, 4)"
      ]
     },
     "execution_count": 13,
     "metadata": {},
     "output_type": "execute_result"
    }
   ],
   "source": [
    "tmp.shape"
   ]
  },
  {
   "cell_type": "code",
   "execution_count": 14,
   "id": "a25a8fe5-f96f-4327-b5af-74845de69074",
   "metadata": {
    "execution": {
     "iopub.execute_input": "2021-10-03T08:58:17.946001Z",
     "iopub.status.busy": "2021-10-03T08:58:17.945515Z",
     "iopub.status.idle": "2021-10-03T08:58:17.958796Z",
     "shell.execute_reply": "2021-10-03T08:58:17.959233Z"
    },
    "papermill": {
     "duration": 0.035734,
     "end_time": "2021-10-03T08:58:17.959390",
     "exception": false,
     "start_time": "2021-10-03T08:58:17.923656",
     "status": "completed"
    },
    "tags": []
   },
   "outputs": [
    {
     "data": {
      "text/html": [
       "<div>\n",
       "<style scoped>\n",
       "    .dataframe tbody tr th:only-of-type {\n",
       "        vertical-align: middle;\n",
       "    }\n",
       "\n",
       "    .dataframe tbody tr th {\n",
       "        vertical-align: top;\n",
       "    }\n",
       "\n",
       "    .dataframe thead th {\n",
       "        text-align: right;\n",
       "    }\n",
       "</style>\n",
       "<table border=\"1\" class=\"dataframe\">\n",
       "  <thead>\n",
       "    <tr style=\"text-align: right;\">\n",
       "      <th></th>\n",
       "      <th>params</th>\n",
       "      <th>partition</th>\n",
       "      <th>n_clusters</th>\n",
       "      <th>si_score</th>\n",
       "    </tr>\n",
       "    <tr>\n",
       "      <th>id</th>\n",
       "      <th></th>\n",
       "      <th></th>\n",
       "      <th></th>\n",
       "      <th></th>\n",
       "    </tr>\n",
       "  </thead>\n",
       "  <tbody>\n",
       "    <tr>\n",
       "      <th>SpectralClustering #0</th>\n",
       "      <td>{\"affinity\": \"precomputed\", \"assign_labels\": \"...</td>\n",
       "      <td>[1, 1, 1, 1, 1, 1, 1, 1, 1, 1, 1, 1, 1, 1, 1, ...</td>\n",
       "      <td>2</td>\n",
       "      <td>0.025231</td>\n",
       "    </tr>\n",
       "    <tr>\n",
       "      <th>SpectralClustering #1</th>\n",
       "      <td>{\"affinity\": \"precomputed\", \"assign_labels\": \"...</td>\n",
       "      <td>[4, 0, 4, 1, 0, 0, 0, 4, 0, 4, 0, 4, 1, 4, 0, ...</td>\n",
       "      <td>5</td>\n",
       "      <td>0.026704</td>\n",
       "    </tr>\n",
       "    <tr>\n",
       "      <th>SpectralClustering #2</th>\n",
       "      <td>{\"affinity\": \"precomputed\", \"assign_labels\": \"...</td>\n",
       "      <td>[1, 1, 6, 1, 9, 5, 5, 5, 9, 5, 1, 1, 6, 9, 9, ...</td>\n",
       "      <td>10</td>\n",
       "      <td>0.032722</td>\n",
       "    </tr>\n",
       "    <tr>\n",
       "      <th>SpectralClustering #3</th>\n",
       "      <td>{\"affinity\": \"precomputed\", \"assign_labels\": \"...</td>\n",
       "      <td>[0, 0, 13, 10, 1, 10, 13, 10, 14, 12, 13, 10, ...</td>\n",
       "      <td>15</td>\n",
       "      <td>0.032060</td>\n",
       "    </tr>\n",
       "    <tr>\n",
       "      <th>SpectralClustering #4</th>\n",
       "      <td>{\"affinity\": \"precomputed\", \"assign_labels\": \"...</td>\n",
       "      <td>[15, 0, 7, 18, 4, 15, 15, 15, 11, 8, 18, 13, 1...</td>\n",
       "      <td>20</td>\n",
       "      <td>0.033032</td>\n",
       "    </tr>\n",
       "  </tbody>\n",
       "</table>\n",
       "</div>"
      ],
      "text/plain": [
       "                                                                  params  \\\n",
       "id                                                                         \n",
       "SpectralClustering #0  {\"affinity\": \"precomputed\", \"assign_labels\": \"...   \n",
       "SpectralClustering #1  {\"affinity\": \"precomputed\", \"assign_labels\": \"...   \n",
       "SpectralClustering #2  {\"affinity\": \"precomputed\", \"assign_labels\": \"...   \n",
       "SpectralClustering #3  {\"affinity\": \"precomputed\", \"assign_labels\": \"...   \n",
       "SpectralClustering #4  {\"affinity\": \"precomputed\", \"assign_labels\": \"...   \n",
       "\n",
       "                                                               partition  \\\n",
       "id                                                                         \n",
       "SpectralClustering #0  [1, 1, 1, 1, 1, 1, 1, 1, 1, 1, 1, 1, 1, 1, 1, ...   \n",
       "SpectralClustering #1  [4, 0, 4, 1, 0, 0, 0, 4, 0, 4, 0, 4, 1, 4, 0, ...   \n",
       "SpectralClustering #2  [1, 1, 6, 1, 9, 5, 5, 5, 9, 5, 1, 1, 6, 9, 9, ...   \n",
       "SpectralClustering #3  [0, 0, 13, 10, 1, 10, 13, 10, 14, 12, 13, 10, ...   \n",
       "SpectralClustering #4  [15, 0, 7, 18, 4, 15, 15, 15, 11, 8, 18, 13, 1...   \n",
       "\n",
       "                       n_clusters  si_score  \n",
       "id                                           \n",
       "SpectralClustering #0           2  0.025231  \n",
       "SpectralClustering #1           5  0.026704  \n",
       "SpectralClustering #2          10  0.032722  \n",
       "SpectralClustering #3          15  0.032060  \n",
       "SpectralClustering #4          20  0.033032  "
      ]
     },
     "execution_count": 14,
     "metadata": {},
     "output_type": "execute_result"
    }
   ],
   "source": [
    "tmp.head()"
   ]
  },
  {
   "cell_type": "markdown",
   "id": "21ee675e-15d9-442e-8e6f-87c7578e9e6c",
   "metadata": {
    "papermill": {
     "duration": 0.020774,
     "end_time": "2021-10-03T08:58:18.003777",
     "exception": false,
     "start_time": "2021-10-03T08:58:17.983003",
     "status": "completed"
    },
    "tags": []
   },
   "source": [
    "## Similarity matrices (input to clustering methods)"
   ]
  },
  {
   "cell_type": "code",
   "execution_count": 15,
   "id": "9363dc2c-6717-43ac-9448-b6019a1cd28a",
   "metadata": {
    "execution": {
     "iopub.execute_input": "2021-10-03T08:58:18.044849Z",
     "iopub.status.busy": "2021-10-03T08:58:18.044336Z",
     "iopub.status.idle": "2021-10-03T08:58:18.046373Z",
     "shell.execute_reply": "2021-10-03T08:58:18.046731Z"
    },
    "papermill": {
     "duration": 0.024473,
     "end_time": "2021-10-03T08:58:18.046854",
     "exception": false,
     "start_time": "2021-10-03T08:58:18.022381",
     "status": "completed"
    },
    "tags": []
   },
   "outputs": [
    {
     "data": {
      "text/plain": [
       "'gtex_v8_data_adipose_subcutaneous-var_pc_log2-clustermatch.pkl'"
      ]
     },
     "metadata": {},
     "output_type": "display_data"
    }
   ],
   "source": [
    "similarity_matrix_filename = SIMILARITY_MATRIX_FILENAME_TEMPLATE.format(\n",
    "    tissue=\"adipose_subcutaneous\",\n",
    "    gene_sel_strategy=\"var_pc_log2\",\n",
    "    corr_method=CORRELATION_METHOD_NAME.split(\"_\")[0]\n",
    "    if not CORRELATION_METHOD_NAME.startswith(\"clustermatch\")\n",
    "    else CORRELATION_METHOD_NAME,\n",
    ")\n",
    "display(similarity_matrix_filename)"
   ]
  },
  {
   "cell_type": "code",
   "execution_count": 16,
   "id": "b1916d25-8cd2-430f-ab08-de6d80263c17",
   "metadata": {
    "execution": {
     "iopub.execute_input": "2021-10-03T08:58:18.087676Z",
     "iopub.status.busy": "2021-10-03T08:58:18.086599Z",
     "iopub.status.idle": "2021-10-03T08:58:18.174568Z",
     "shell.execute_reply": "2021-10-03T08:58:18.173999Z"
    },
    "papermill": {
     "duration": 0.108634,
     "end_time": "2021-10-03T08:58:18.174685",
     "exception": false,
     "start_time": "2021-10-03T08:58:18.066051",
     "status": "completed"
    },
    "tags": []
   },
   "outputs": [],
   "source": [
    "tmp = pd.read_pickle(SIMILARITY_MATRICES_DIR / similarity_matrix_filename)"
   ]
  },
  {
   "cell_type": "code",
   "execution_count": 17,
   "id": "d29dfd29-1d42-40fb-b19a-09367f3ce2f9",
   "metadata": {
    "execution": {
     "iopub.execute_input": "2021-10-03T08:58:18.220849Z",
     "iopub.status.busy": "2021-10-03T08:58:18.220274Z",
     "iopub.status.idle": "2021-10-03T08:58:18.222542Z",
     "shell.execute_reply": "2021-10-03T08:58:18.222905Z"
    },
    "papermill": {
     "duration": 0.026051,
     "end_time": "2021-10-03T08:58:18.223018",
     "exception": false,
     "start_time": "2021-10-03T08:58:18.196967",
     "status": "completed"
    },
    "tags": []
   },
   "outputs": [
    {
     "data": {
      "text/plain": [
       "(5000, 5000)"
      ]
     },
     "execution_count": 17,
     "metadata": {},
     "output_type": "execute_result"
    }
   ],
   "source": [
    "tmp.shape"
   ]
  },
  {
   "cell_type": "code",
   "execution_count": 18,
   "id": "2681f21b-4bc8-4452-ac6c-437694fc31d3",
   "metadata": {
    "execution": {
     "iopub.execute_input": "2021-10-03T08:58:18.280215Z",
     "iopub.status.busy": "2021-10-03T08:58:18.267358Z",
     "iopub.status.idle": "2021-10-03T08:58:18.283129Z",
     "shell.execute_reply": "2021-10-03T08:58:18.282677Z"
    },
    "papermill": {
     "duration": 0.040197,
     "end_time": "2021-10-03T08:58:18.283226",
     "exception": false,
     "start_time": "2021-10-03T08:58:18.243029",
     "status": "completed"
    },
    "tags": []
   },
   "outputs": [
    {
     "data": {
      "text/html": [
       "<div>\n",
       "<style scoped>\n",
       "    .dataframe tbody tr th:only-of-type {\n",
       "        vertical-align: middle;\n",
       "    }\n",
       "\n",
       "    .dataframe tbody tr th {\n",
       "        vertical-align: top;\n",
       "    }\n",
       "\n",
       "    .dataframe thead th {\n",
       "        text-align: right;\n",
       "    }\n",
       "</style>\n",
       "<table border=\"1\" class=\"dataframe\">\n",
       "  <thead>\n",
       "    <tr style=\"text-align: right;\">\n",
       "      <th>gene_ens_id</th>\n",
       "      <th>ENSG00000129824.15</th>\n",
       "      <th>ENSG00000149968.11</th>\n",
       "      <th>ENSG00000134184.12</th>\n",
       "      <th>ENSG00000224114.1</th>\n",
       "      <th>ENSG00000173432.10</th>\n",
       "      <th>ENSG00000067048.16</th>\n",
       "      <th>ENSG00000229807.10</th>\n",
       "      <th>ENSG00000012817.15</th>\n",
       "      <th>ENSG00000134339.8</th>\n",
       "      <th>ENSG00000175084.11</th>\n",
       "      <th>...</th>\n",
       "      <th>ENSG00000197467.13</th>\n",
       "      <th>ENSG00000279807.1</th>\n",
       "      <th>ENSG00000107742.12</th>\n",
       "      <th>ENSG00000176454.13</th>\n",
       "      <th>ENSG00000212206.1</th>\n",
       "      <th>ENSG00000104611.11</th>\n",
       "      <th>ENSG00000181800.5</th>\n",
       "      <th>ENSG00000171049.8</th>\n",
       "      <th>ENSG00000257671.1</th>\n",
       "      <th>ENSG00000180448.10</th>\n",
       "    </tr>\n",
       "    <tr>\n",
       "      <th>gene_ens_id</th>\n",
       "      <th></th>\n",
       "      <th></th>\n",
       "      <th></th>\n",
       "      <th></th>\n",
       "      <th></th>\n",
       "      <th></th>\n",
       "      <th></th>\n",
       "      <th></th>\n",
       "      <th></th>\n",
       "      <th></th>\n",
       "      <th></th>\n",
       "      <th></th>\n",
       "      <th></th>\n",
       "      <th></th>\n",
       "      <th></th>\n",
       "      <th></th>\n",
       "      <th></th>\n",
       "      <th></th>\n",
       "      <th></th>\n",
       "      <th></th>\n",
       "      <th></th>\n",
       "    </tr>\n",
       "  </thead>\n",
       "  <tbody>\n",
       "    <tr>\n",
       "      <th>ENSG00000129824.15</th>\n",
       "      <td>1.000000</td>\n",
       "      <td>0.092378</td>\n",
       "      <td>0.007262</td>\n",
       "      <td>0.011841</td>\n",
       "      <td>0.105775</td>\n",
       "      <td>0.479273</td>\n",
       "      <td>0.478657</td>\n",
       "      <td>0.483544</td>\n",
       "      <td>0.117969</td>\n",
       "      <td>0.043658</td>\n",
       "      <td>...</td>\n",
       "      <td>0.004467</td>\n",
       "      <td>0.014411</td>\n",
       "      <td>0.014983</td>\n",
       "      <td>0.045078</td>\n",
       "      <td>0.007907</td>\n",
       "      <td>0.009798</td>\n",
       "      <td>0.011161</td>\n",
       "      <td>0.009620</td>\n",
       "      <td>0.003538</td>\n",
       "      <td>0.005812</td>\n",
       "    </tr>\n",
       "    <tr>\n",
       "      <th>ENSG00000149968.11</th>\n",
       "      <td>0.092378</td>\n",
       "      <td>1.000000</td>\n",
       "      <td>0.004570</td>\n",
       "      <td>0.009170</td>\n",
       "      <td>0.015736</td>\n",
       "      <td>0.078307</td>\n",
       "      <td>0.073894</td>\n",
       "      <td>0.074441</td>\n",
       "      <td>0.017325</td>\n",
       "      <td>0.014241</td>\n",
       "      <td>...</td>\n",
       "      <td>0.041250</td>\n",
       "      <td>0.024692</td>\n",
       "      <td>0.008636</td>\n",
       "      <td>0.014949</td>\n",
       "      <td>0.029433</td>\n",
       "      <td>0.001359</td>\n",
       "      <td>0.019925</td>\n",
       "      <td>0.012707</td>\n",
       "      <td>0.030752</td>\n",
       "      <td>0.003618</td>\n",
       "    </tr>\n",
       "    <tr>\n",
       "      <th>ENSG00000134184.12</th>\n",
       "      <td>0.007262</td>\n",
       "      <td>0.004570</td>\n",
       "      <td>1.000000</td>\n",
       "      <td>0.005670</td>\n",
       "      <td>0.005632</td>\n",
       "      <td>0.005024</td>\n",
       "      <td>0.005195</td>\n",
       "      <td>0.006747</td>\n",
       "      <td>0.002646</td>\n",
       "      <td>0.008142</td>\n",
       "      <td>...</td>\n",
       "      <td>0.023497</td>\n",
       "      <td>0.004689</td>\n",
       "      <td>0.005490</td>\n",
       "      <td>0.006992</td>\n",
       "      <td>0.006293</td>\n",
       "      <td>0.008088</td>\n",
       "      <td>0.003917</td>\n",
       "      <td>0.011875</td>\n",
       "      <td>0.001767</td>\n",
       "      <td>0.006450</td>\n",
       "    </tr>\n",
       "    <tr>\n",
       "      <th>ENSG00000224114.1</th>\n",
       "      <td>0.011841</td>\n",
       "      <td>0.009170</td>\n",
       "      <td>0.005670</td>\n",
       "      <td>1.000000</td>\n",
       "      <td>0.007314</td>\n",
       "      <td>0.004420</td>\n",
       "      <td>0.004736</td>\n",
       "      <td>0.002574</td>\n",
       "      <td>0.007253</td>\n",
       "      <td>0.012894</td>\n",
       "      <td>...</td>\n",
       "      <td>0.007156</td>\n",
       "      <td>0.005168</td>\n",
       "      <td>0.002192</td>\n",
       "      <td>0.008732</td>\n",
       "      <td>0.003973</td>\n",
       "      <td>0.003198</td>\n",
       "      <td>0.004628</td>\n",
       "      <td>0.014917</td>\n",
       "      <td>0.001900</td>\n",
       "      <td>0.003556</td>\n",
       "    </tr>\n",
       "    <tr>\n",
       "      <th>ENSG00000173432.10</th>\n",
       "      <td>0.105775</td>\n",
       "      <td>0.015736</td>\n",
       "      <td>0.005632</td>\n",
       "      <td>0.007314</td>\n",
       "      <td>1.000000</td>\n",
       "      <td>0.107761</td>\n",
       "      <td>0.089364</td>\n",
       "      <td>0.105775</td>\n",
       "      <td>0.815978</td>\n",
       "      <td>0.046390</td>\n",
       "      <td>...</td>\n",
       "      <td>0.046390</td>\n",
       "      <td>0.002897</td>\n",
       "      <td>0.040011</td>\n",
       "      <td>0.126462</td>\n",
       "      <td>0.003632</td>\n",
       "      <td>0.015732</td>\n",
       "      <td>0.004559</td>\n",
       "      <td>0.024573</td>\n",
       "      <td>0.008535</td>\n",
       "      <td>0.007710</td>\n",
       "    </tr>\n",
       "  </tbody>\n",
       "</table>\n",
       "<p>5 rows × 5000 columns</p>\n",
       "</div>"
      ],
      "text/plain": [
       "gene_ens_id         ENSG00000129824.15  ENSG00000149968.11  \\\n",
       "gene_ens_id                                                  \n",
       "ENSG00000129824.15            1.000000            0.092378   \n",
       "ENSG00000149968.11            0.092378            1.000000   \n",
       "ENSG00000134184.12            0.007262            0.004570   \n",
       "ENSG00000224114.1             0.011841            0.009170   \n",
       "ENSG00000173432.10            0.105775            0.015736   \n",
       "\n",
       "gene_ens_id         ENSG00000134184.12  ENSG00000224114.1  ENSG00000173432.10  \\\n",
       "gene_ens_id                                                                     \n",
       "ENSG00000129824.15            0.007262           0.011841            0.105775   \n",
       "ENSG00000149968.11            0.004570           0.009170            0.015736   \n",
       "ENSG00000134184.12            1.000000           0.005670            0.005632   \n",
       "ENSG00000224114.1             0.005670           1.000000            0.007314   \n",
       "ENSG00000173432.10            0.005632           0.007314            1.000000   \n",
       "\n",
       "gene_ens_id         ENSG00000067048.16  ENSG00000229807.10  \\\n",
       "gene_ens_id                                                  \n",
       "ENSG00000129824.15            0.479273            0.478657   \n",
       "ENSG00000149968.11            0.078307            0.073894   \n",
       "ENSG00000134184.12            0.005024            0.005195   \n",
       "ENSG00000224114.1             0.004420            0.004736   \n",
       "ENSG00000173432.10            0.107761            0.089364   \n",
       "\n",
       "gene_ens_id         ENSG00000012817.15  ENSG00000134339.8  ENSG00000175084.11  \\\n",
       "gene_ens_id                                                                     \n",
       "ENSG00000129824.15            0.483544           0.117969            0.043658   \n",
       "ENSG00000149968.11            0.074441           0.017325            0.014241   \n",
       "ENSG00000134184.12            0.006747           0.002646            0.008142   \n",
       "ENSG00000224114.1             0.002574           0.007253            0.012894   \n",
       "ENSG00000173432.10            0.105775           0.815978            0.046390   \n",
       "\n",
       "gene_ens_id         ...  ENSG00000197467.13  ENSG00000279807.1  \\\n",
       "gene_ens_id         ...                                          \n",
       "ENSG00000129824.15  ...            0.004467           0.014411   \n",
       "ENSG00000149968.11  ...            0.041250           0.024692   \n",
       "ENSG00000134184.12  ...            0.023497           0.004689   \n",
       "ENSG00000224114.1   ...            0.007156           0.005168   \n",
       "ENSG00000173432.10  ...            0.046390           0.002897   \n",
       "\n",
       "gene_ens_id         ENSG00000107742.12  ENSG00000176454.13  ENSG00000212206.1  \\\n",
       "gene_ens_id                                                                     \n",
       "ENSG00000129824.15            0.014983            0.045078           0.007907   \n",
       "ENSG00000149968.11            0.008636            0.014949           0.029433   \n",
       "ENSG00000134184.12            0.005490            0.006992           0.006293   \n",
       "ENSG00000224114.1             0.002192            0.008732           0.003973   \n",
       "ENSG00000173432.10            0.040011            0.126462           0.003632   \n",
       "\n",
       "gene_ens_id         ENSG00000104611.11  ENSG00000181800.5  ENSG00000171049.8  \\\n",
       "gene_ens_id                                                                    \n",
       "ENSG00000129824.15            0.009798           0.011161           0.009620   \n",
       "ENSG00000149968.11            0.001359           0.019925           0.012707   \n",
       "ENSG00000134184.12            0.008088           0.003917           0.011875   \n",
       "ENSG00000224114.1             0.003198           0.004628           0.014917   \n",
       "ENSG00000173432.10            0.015732           0.004559           0.024573   \n",
       "\n",
       "gene_ens_id         ENSG00000257671.1  ENSG00000180448.10  \n",
       "gene_ens_id                                                \n",
       "ENSG00000129824.15           0.003538            0.005812  \n",
       "ENSG00000149968.11           0.030752            0.003618  \n",
       "ENSG00000134184.12           0.001767            0.006450  \n",
       "ENSG00000224114.1            0.001900            0.003556  \n",
       "ENSG00000173432.10           0.008535            0.007710  \n",
       "\n",
       "[5 rows x 5000 columns]"
      ]
     },
     "execution_count": 18,
     "metadata": {},
     "output_type": "execute_result"
    }
   ],
   "source": [
    "tmp.head()"
   ]
  },
  {
   "cell_type": "markdown",
   "id": "51d7a057-e0d3-4495-a53b-52b4a38f2a94",
   "metadata": {
    "papermill": {
     "duration": 0.019292,
     "end_time": "2021-10-03T08:58:18.322532",
     "exception": false,
     "start_time": "2021-10-03T08:58:18.303240",
     "status": "completed"
    },
    "tags": []
   },
   "source": [
    "### Convert Ensembl Gene IDs to Entrez IDs"
   ]
  },
  {
   "cell_type": "code",
   "execution_count": 19,
   "id": "ca0ed202-4c3d-403e-8ad0-797df5939386",
   "metadata": {
    "execution": {
     "iopub.execute_input": "2021-10-03T08:58:18.366193Z",
     "iopub.status.busy": "2021-10-03T08:58:18.365700Z",
     "iopub.status.idle": "2021-10-03T08:58:18.367767Z",
     "shell.execute_reply": "2021-10-03T08:58:18.368186Z"
    },
    "papermill": {
     "duration": 0.026022,
     "end_time": "2021-10-03T08:58:18.368298",
     "exception": false,
     "start_time": "2021-10-03T08:58:18.342276",
     "status": "completed"
    },
    "tags": []
   },
   "outputs": [
    {
     "data": {
      "text/plain": [
       "PosixPath('/opt/data/data/gtex_v8/gtex_entrez_gene_ids_mappings.pkl')"
      ]
     },
     "metadata": {},
     "output_type": "display_data"
    }
   ],
   "source": [
    "input_filename = conf.GTEX[\"DATA_DIR\"] / \"gtex_entrez_gene_ids_mappings.pkl\"\n",
    "display(input_filename)\n",
    "assert input_filename.exists()"
   ]
  },
  {
   "cell_type": "code",
   "execution_count": 20,
   "id": "a7d2f391-f925-447a-b4b1-f60bc4653daa",
   "metadata": {
    "execution": {
     "iopub.execute_input": "2021-10-03T08:58:18.412732Z",
     "iopub.status.busy": "2021-10-03T08:58:18.411469Z",
     "iopub.status.idle": "2021-10-03T08:58:18.425876Z",
     "shell.execute_reply": "2021-10-03T08:58:18.426239Z"
    },
    "papermill": {
     "duration": 0.037823,
     "end_time": "2021-10-03T08:58:18.426361",
     "exception": false,
     "start_time": "2021-10-03T08:58:18.388538",
     "status": "completed"
    },
    "tags": []
   },
   "outputs": [],
   "source": [
    "gene_ids_mappings = pd.read_pickle(input_filename)"
   ]
  },
  {
   "cell_type": "code",
   "execution_count": 21,
   "id": "b2910fe8-7f7b-4b87-bfbe-d3642f3410b9",
   "metadata": {
    "execution": {
     "iopub.execute_input": "2021-10-03T08:58:18.471664Z",
     "iopub.status.busy": "2021-10-03T08:58:18.471020Z",
     "iopub.status.idle": "2021-10-03T08:58:18.473343Z",
     "shell.execute_reply": "2021-10-03T08:58:18.473722Z"
    },
    "papermill": {
     "duration": 0.026767,
     "end_time": "2021-10-03T08:58:18.473867",
     "exception": false,
     "start_time": "2021-10-03T08:58:18.447100",
     "status": "completed"
    },
    "tags": []
   },
   "outputs": [
    {
     "data": {
      "text/plain": [
       "(34527, 3)"
      ]
     },
     "execution_count": 21,
     "metadata": {},
     "output_type": "execute_result"
    }
   ],
   "source": [
    "gene_ids_mappings.shape"
   ]
  },
  {
   "cell_type": "code",
   "execution_count": 22,
   "id": "dced4328-14c8-40d7-a479-fcd83eb7bb60",
   "metadata": {
    "execution": {
     "iopub.execute_input": "2021-10-03T08:58:18.522759Z",
     "iopub.status.busy": "2021-10-03T08:58:18.522216Z",
     "iopub.status.idle": "2021-10-03T08:58:18.524636Z",
     "shell.execute_reply": "2021-10-03T08:58:18.524185Z"
    },
    "papermill": {
     "duration": 0.029935,
     "end_time": "2021-10-03T08:58:18.524731",
     "exception": false,
     "start_time": "2021-10-03T08:58:18.494796",
     "status": "completed"
    },
    "tags": []
   },
   "outputs": [
    {
     "data": {
      "text/html": [
       "<div>\n",
       "<style scoped>\n",
       "    .dataframe tbody tr th:only-of-type {\n",
       "        vertical-align: middle;\n",
       "    }\n",
       "\n",
       "    .dataframe tbody tr th {\n",
       "        vertical-align: top;\n",
       "    }\n",
       "\n",
       "    .dataframe thead th {\n",
       "        text-align: right;\n",
       "    }\n",
       "</style>\n",
       "<table border=\"1\" class=\"dataframe\">\n",
       "  <thead>\n",
       "    <tr style=\"text-align: right;\">\n",
       "      <th></th>\n",
       "      <th>gene_ens_id_v</th>\n",
       "      <th>ensembl_id</th>\n",
       "      <th>entrez_id</th>\n",
       "    </tr>\n",
       "  </thead>\n",
       "  <tbody>\n",
       "    <tr>\n",
       "      <th>0</th>\n",
       "      <td>ENSG00000145309.5</td>\n",
       "      <td>ENSG00000145309</td>\n",
       "      <td>85438</td>\n",
       "    </tr>\n",
       "    <tr>\n",
       "      <th>1</th>\n",
       "      <td>ENSG00000175820.3</td>\n",
       "      <td>ENSG00000175820</td>\n",
       "      <td>643677</td>\n",
       "    </tr>\n",
       "    <tr>\n",
       "      <th>2</th>\n",
       "      <td>ENSG00000083454.21</td>\n",
       "      <td>ENSG00000083454</td>\n",
       "      <td>5026</td>\n",
       "    </tr>\n",
       "    <tr>\n",
       "      <th>3</th>\n",
       "      <td>ENSG00000071794.15</td>\n",
       "      <td>ENSG00000071794</td>\n",
       "      <td>6596</td>\n",
       "    </tr>\n",
       "    <tr>\n",
       "      <th>4</th>\n",
       "      <td>ENSG00000211918.1</td>\n",
       "      <td>ENSG00000211918</td>\n",
       "      <td>28503</td>\n",
       "    </tr>\n",
       "  </tbody>\n",
       "</table>\n",
       "</div>"
      ],
      "text/plain": [
       "        gene_ens_id_v       ensembl_id entrez_id\n",
       "0   ENSG00000145309.5  ENSG00000145309     85438\n",
       "1   ENSG00000175820.3  ENSG00000175820    643677\n",
       "2  ENSG00000083454.21  ENSG00000083454      5026\n",
       "3  ENSG00000071794.15  ENSG00000071794      6596\n",
       "4   ENSG00000211918.1  ENSG00000211918     28503"
      ]
     },
     "execution_count": 22,
     "metadata": {},
     "output_type": "execute_result"
    }
   ],
   "source": [
    "gene_ids_mappings.head()"
   ]
  },
  {
   "cell_type": "code",
   "execution_count": 23,
   "id": "2dc964bf-d535-4021-b001-a2d0a334985f",
   "metadata": {
    "execution": {
     "iopub.execute_input": "2021-10-03T08:58:18.577682Z",
     "iopub.status.busy": "2021-10-03T08:58:18.577236Z",
     "iopub.status.idle": "2021-10-03T08:58:18.597762Z",
     "shell.execute_reply": "2021-10-03T08:58:18.598102Z"
    },
    "papermill": {
     "duration": 0.051748,
     "end_time": "2021-10-03T08:58:18.598223",
     "exception": false,
     "start_time": "2021-10-03T08:58:18.546475",
     "status": "completed"
    },
    "tags": []
   },
   "outputs": [],
   "source": [
    "gene_id_maps = gene_ids_mappings.set_index(\"gene_ens_id_v\")[\"entrez_id\"].to_dict()"
   ]
  },
  {
   "cell_type": "code",
   "execution_count": 24,
   "id": "838abb9e-19f4-423a-a013-14e56fff6de6",
   "metadata": {
    "execution": {
     "iopub.execute_input": "2021-10-03T08:58:18.648276Z",
     "iopub.status.busy": "2021-10-03T08:58:18.647640Z",
     "iopub.status.idle": "2021-10-03T08:58:18.650240Z",
     "shell.execute_reply": "2021-10-03T08:58:18.650646Z"
    },
    "papermill": {
     "duration": 0.031301,
     "end_time": "2021-10-03T08:58:18.650760",
     "exception": false,
     "start_time": "2021-10-03T08:58:18.619459",
     "status": "completed"
    },
    "tags": []
   },
   "outputs": [
    {
     "data": {
      "text/plain": [
       "{'ENSG00000145309.5': '85438', 'ENSG00000175820.3': '643677'}"
      ]
     },
     "execution_count": 24,
     "metadata": {},
     "output_type": "execute_result"
    }
   ],
   "source": [
    "dict(list(gene_id_maps.items())[0:2])"
   ]
  },
  {
   "cell_type": "code",
   "execution_count": 25,
   "id": "e32ce280-f0cc-4932-8cbb-89e5c5d0430e",
   "metadata": {
    "execution": {
     "iopub.execute_input": "2021-10-03T08:58:18.698925Z",
     "iopub.status.busy": "2021-10-03T08:58:18.695150Z",
     "iopub.status.idle": "2021-10-03T08:58:18.702754Z",
     "shell.execute_reply": "2021-10-03T08:58:18.702344Z"
    },
    "papermill": {
     "duration": 0.030604,
     "end_time": "2021-10-03T08:58:18.702851",
     "exception": false,
     "start_time": "2021-10-03T08:58:18.672247",
     "status": "completed"
    },
    "tags": []
   },
   "outputs": [
    {
     "data": {
      "text/plain": [
       "4201"
      ]
     },
     "metadata": {},
     "output_type": "display_data"
    },
    {
     "data": {
      "text/plain": [
       "['6192', '4314', '2944', '100271063', '6288']"
      ]
     },
     "metadata": {},
     "output_type": "display_data"
    }
   ],
   "source": [
    "# is map from ensembl to entrez unique?\n",
    "_tmp_index = [gene_id_maps[x] for x in tmp.index if x in gene_id_maps]\n",
    "display(len(_tmp_index))\n",
    "display(_tmp_index[:5])"
   ]
  },
  {
   "cell_type": "markdown",
   "id": "ecf4a22e-e93b-48a2-a82f-4a54b7472abf",
   "metadata": {
    "papermill": {
     "duration": 0.021809,
     "end_time": "2021-10-03T08:58:18.747435",
     "exception": false,
     "start_time": "2021-10-03T08:58:18.725626",
     "status": "completed"
    },
    "tags": []
   },
   "source": [
    "# Run"
   ]
  },
  {
   "cell_type": "code",
   "execution_count": 26,
   "id": "fe0e2ed7-42bc-446e-98d5-76f31217c1df",
   "metadata": {
    "execution": {
     "iopub.execute_input": "2021-10-03T08:58:18.794968Z",
     "iopub.status.busy": "2021-10-03T08:58:18.794101Z",
     "iopub.status.idle": "2021-10-03T08:58:18.798371Z",
     "shell.execute_reply": "2021-10-03T08:58:18.798735Z"
    },
    "papermill": {
     "duration": 0.029867,
     "end_time": "2021-10-03T08:58:18.798852",
     "exception": false,
     "start_time": "2021-10-03T08:58:18.768985",
     "status": "completed"
    },
    "tags": []
   },
   "outputs": [
    {
     "data": {
      "text/plain": [
       "25"
      ]
     },
     "metadata": {},
     "output_type": "display_data"
    }
   ],
   "source": [
    "n_partitions_per_file = pd.read_pickle(input_files[0]).shape[0]\n",
    "display(n_partitions_per_file)"
   ]
  },
  {
   "cell_type": "code",
   "execution_count": 27,
   "id": "754836bb-3b1c-4259-882b-07dfa793c13a",
   "metadata": {
    "execution": {
     "iopub.execute_input": "2021-10-03T08:58:18.850517Z",
     "iopub.status.busy": "2021-10-03T08:58:18.845008Z",
     "iopub.status.idle": "2021-10-03T09:03:35.697950Z",
     "shell.execute_reply": "2021-10-03T09:03:35.697465Z"
    },
    "papermill": {
     "duration": 316.877049,
     "end_time": "2021-10-03T09:03:35.698069",
     "exception": false,
     "start_time": "2021-10-03T08:58:18.821020",
     "status": "completed"
    },
    "tags": []
   },
   "outputs": [
    {
     "data": {
      "text/plain": [
       "'number of tasks: 125'"
      ]
     },
     "metadata": {},
     "output_type": "display_data"
    },
    {
     "name": "stderr",
     "output_type": "stream",
     "text": [
      "whole_blood/var_pc_log2/saving: 100%|█████████████████████████████| 125/125 [05:16<00:00,  2.53s/it]\n"
     ]
    }
   ],
   "source": [
    "# the number of tasks is the number of input files times number of partitions per file\n",
    "n_tasks = len(input_files) * n_partitions_per_file\n",
    "n_tasks = int(n_tasks)\n",
    "display(f\"number of tasks: {n_tasks}\")\n",
    "\n",
    "with ProcessPoolExecutor(max_workers=conf.GENERAL[\"N_JOBS\"]) as executor, tqdm(\n",
    "    total=n_tasks, ncols=100\n",
    ") as pbar:\n",
    "    for clustering_filepath in input_files:\n",
    "        # extract from input clustering filename some sections, such as tissue name, etc\n",
    "        m = re.search(filename_pattern, str(clustering_filepath.name))\n",
    "\n",
    "        tissue = m.group(\"tissue\")\n",
    "        gene_sel_strategy = m.group(\"gene_sel_strategy\")\n",
    "        corr_method = m.group(\"corr_method\")\n",
    "\n",
    "        # update pbar description\n",
    "        pbar.set_description(f\"{tissue}/{gene_sel_strategy}\")\n",
    "        #         pbar.set_description(f\"{corr_method}\")\n",
    "\n",
    "        # create output filepath template\n",
    "        full_output_filename_template = (\n",
    "            f\"{clustering_filepath.stem}-{ENRICH_FUNCTION}-{ENRICH_PARAMS}.pkl\"\n",
    "        )\n",
    "\n",
    "        # read clustering results\n",
    "        clustering_df = pd.read_pickle(clustering_filepath)\n",
    "\n",
    "        # get partitions' numbers\n",
    "        tmp_partition = clustering_df.iloc[0].partition\n",
    "        n_genes = tmp_partition.shape[0]\n",
    "        n_clusters = np.unique(tmp_partition).shape[0]\n",
    "\n",
    "        # use those sections to read the list of genes from the input data\n",
    "        # file that the clustering algorithm received\n",
    "        similarity_matrix_filename = SIMILARITY_MATRIX_FILENAME_TEMPLATE.format(\n",
    "            tissue=tissue,\n",
    "            gene_sel_strategy=gene_sel_strategy,\n",
    "            corr_method=corr_method.split(\"_\")[0]\n",
    "            if not corr_method.startswith(\"clustermatch\")\n",
    "            else corr_method,\n",
    "        )\n",
    "\n",
    "        # get the universe of genes\n",
    "        all_gene_ens_ids = pd.read_pickle(\n",
    "            SIMILARITY_MATRICES_DIR / similarity_matrix_filename\n",
    "        ).index.tolist()\n",
    "\n",
    "        # convert gene ensembl ids to entrez and create clustering partition mask\n",
    "        partition_mask = []\n",
    "        all_gene_ids = []\n",
    "        entrez_ids_added = set()  # this is faster\n",
    "\n",
    "        for x in all_gene_ens_ids:\n",
    "            if x not in gene_id_maps:\n",
    "                partition_mask.append(False)\n",
    "                continue\n",
    "\n",
    "            new_entrez_id = gene_id_maps[x]\n",
    "\n",
    "            # TODO: maybe this avoiding of repeated gene ids is not necessary?\n",
    "            # do not add repeated ids\n",
    "            if new_entrez_id in entrez_ids_added:\n",
    "                partition_mask.append(False)\n",
    "                continue\n",
    "\n",
    "            all_gene_ids.append(new_entrez_id)\n",
    "            entrez_ids_added.add(new_entrez_id)\n",
    "            partition_mask.append(True)\n",
    "\n",
    "        partition_mask = np.array(partition_mask, dtype=bool)\n",
    "        all_gene_ids = np.array(all_gene_ids)\n",
    "        assert np.unique(all_gene_ids).shape[0] == all_gene_ids.shape[0]\n",
    "        assert all_gene_ids.shape[0] == np.sum(partition_mask)\n",
    "\n",
    "        # iterate over clustering solutions (partitions) and GO ontologies\n",
    "        futures = [\n",
    "            executor.submit(\n",
    "                run_enrich,\n",
    "                all_gene_ids,\n",
    "                \"ENTREZID\",\n",
    "                cr.partition[partition_mask],\n",
    "                ENRICH_FUNCTION,\n",
    "                ENRICH_PARAMS,\n",
    "            )\n",
    "            for cr_idx, cr in clustering_df.sort_values(\"n_clusters\").iterrows()\n",
    "        ]\n",
    "\n",
    "        # collect results\n",
    "        results_full = []\n",
    "\n",
    "        for task in as_completed(futures):\n",
    "            task_results = task.result()\n",
    "\n",
    "            # continue if no enrichment found\n",
    "            if len(task_results) == 0:\n",
    "                pbar.update(1)\n",
    "                continue\n",
    "\n",
    "            results_full.append(task_results[0])\n",
    "\n",
    "            pbar.update(1)\n",
    "\n",
    "        if len(results_full) == 0:\n",
    "            # no significant results, continue\n",
    "            continue\n",
    "\n",
    "        # merge and serve\n",
    "        pbar.set_description(f\"{tissue}/{gene_sel_strategy}/saving\")\n",
    "\n",
    "        # full\n",
    "        results_full_df = pd.concat(results_full, ignore_index=True).sort_values(\n",
    "            [\"n_clusters\", \"pvalue_adjust\"]\n",
    "        )\n",
    "\n",
    "        results_full_df.to_pickle(\n",
    "            OUTPUT_DIR\n",
    "            / f\"{clustering_filepath.stem}-{ENRICH_FUNCTION}-{ENRICH_PARAMS}.pkl\",\n",
    "        )"
   ]
  },
  {
   "cell_type": "code",
   "execution_count": null,
   "id": "complimentary-gathering",
   "metadata": {
    "papermill": {
     "duration": 0.049703,
     "end_time": "2021-10-03T09:03:35.803606",
     "exception": false,
     "start_time": "2021-10-03T09:03:35.753903",
     "status": "completed"
    },
    "tags": []
   },
   "outputs": [],
   "source": []
  }
 ],
 "metadata": {
  "jupytext": {
   "cell_metadata_filter": "all,-execution,-papermill,-trusted"
  },
  "kernelspec": {
   "display_name": "Python 3 (ipykernel)",
   "language": "python",
   "name": "python3"
  },
  "language_info": {
   "codemirror_mode": {
    "name": "ipython",
    "version": 3
   },
   "file_extension": ".py",
   "mimetype": "text/x-python",
   "name": "python",
   "nbconvert_exporter": "python",
   "pygments_lexer": "ipython3",
   "version": "3.9.7"
  },
  "papermill": {
   "default_parameters": {},
   "duration": 320.432538,
   "end_time": "2021-10-03T09:03:36.060913",
   "environment_variables": {},
   "exception": null,
   "input_path": "nbs/20_gene_set_enrichment/05_gtex_v8/07_02-gtex-clustermatch-enrichKEGG.ipynb",
   "output_path": "nbs/20_gene_set_enrichment/05_gtex_v8/07_02-gtex-clustermatch-enrichKEGG.run.ipynb",
   "parameters": {},
   "start_time": "2021-10-03T08:58:15.628375",
   "version": "2.3.2"
  },
  "toc-autonumbering": true
 },
 "nbformat": 4,
 "nbformat_minor": 5
}
