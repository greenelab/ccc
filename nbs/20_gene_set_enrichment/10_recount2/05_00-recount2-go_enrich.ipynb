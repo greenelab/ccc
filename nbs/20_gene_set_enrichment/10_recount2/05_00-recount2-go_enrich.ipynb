{
 "cells": [
  {
   "cell_type": "markdown",
   "id": "dfa1ba1b-d517-4a57-8db0-103ab5bd0a0d",
   "metadata": {
    "papermill": {
     "duration": 0.038133,
     "end_time": "2021-10-01T23:33:53.138469",
     "exception": false,
     "start_time": "2021-10-01T23:33:53.100336",
     "status": "completed"
    },
    "tags": []
   },
   "source": [
    "# Description"
   ]
  },
  {
   "cell_type": "markdown",
   "id": "8944732c-37a0-4af1-b9c1-86c0c2776126",
   "metadata": {
    "papermill": {
     "duration": 0.013156,
     "end_time": "2021-10-01T23:33:53.164729",
     "exception": false,
     "start_time": "2021-10-01T23:33:53.151573",
     "status": "completed"
    },
    "tags": []
   },
   "source": [
    "It computes gene enrichment on *all* the clustering results (obtained using some correlation measure) on a dataset.\n",
    "All these settings are specified below under `Settings`."
   ]
  },
  {
   "cell_type": "markdown",
   "id": "3334aeb5-41a5-4331-9c28-34ec8f755e98",
   "metadata": {
    "papermill": {
     "duration": 0.012278,
     "end_time": "2021-10-01T23:33:53.189825",
     "exception": false,
     "start_time": "2021-10-01T23:33:53.177547",
     "status": "completed"
    },
    "tags": []
   },
   "source": [
    "# Modules loading"
   ]
  },
  {
   "cell_type": "code",
   "execution_count": 1,
   "id": "2c8cf869-a063-4731-bb75-acc121975426",
   "metadata": {
    "execution": {
     "iopub.execute_input": "2021-10-01T23:33:53.221977Z",
     "iopub.status.busy": "2021-10-01T23:33:53.221504Z",
     "iopub.status.idle": "2021-10-01T23:33:53.489009Z",
     "shell.execute_reply": "2021-10-01T23:33:53.488377Z"
    },
    "papermill": {
     "duration": 0.287049,
     "end_time": "2021-10-01T23:33:53.489139",
     "exception": false,
     "start_time": "2021-10-01T23:33:53.202090",
     "status": "completed"
    },
    "tags": []
   },
   "outputs": [],
   "source": [
    "import re\n",
    "from collections import defaultdict\n",
    "from concurrent.futures import ProcessPoolExecutor, as_completed\n",
    "\n",
    "import numpy as np\n",
    "import pandas as pd\n",
    "from tqdm import tqdm\n",
    "\n",
    "from clustermatch import conf\n",
    "from clustermatch.gene_enrich import run_enrich"
   ]
  },
  {
   "cell_type": "markdown",
   "id": "21f26cf2-d399-470f-94c3-e26dd5b4337d",
   "metadata": {
    "papermill": {
     "duration": 0.013871,
     "end_time": "2021-10-01T23:33:53.518681",
     "exception": false,
     "start_time": "2021-10-01T23:33:53.504810",
     "status": "completed"
    },
    "tags": []
   },
   "source": [
    "# Settings"
   ]
  },
  {
   "cell_type": "code",
   "execution_count": 2,
   "id": "503767f2-9f51-4828-91ff-50be7d5a6079",
   "metadata": {
    "execution": {
     "iopub.execute_input": "2021-10-01T23:33:53.547691Z",
     "iopub.status.busy": "2021-10-01T23:33:53.547236Z",
     "iopub.status.idle": "2021-10-01T23:33:53.549225Z",
     "shell.execute_reply": "2021-10-01T23:33:53.548858Z"
    },
    "papermill": {
     "duration": 0.017811,
     "end_time": "2021-10-01T23:33:53.549322",
     "exception": false,
     "start_time": "2021-10-01T23:33:53.531511",
     "status": "completed"
    },
    "tags": []
   },
   "outputs": [],
   "source": [
    "DATASET_CONFIG = conf.RECOUNT2"
   ]
  },
  {
   "cell_type": "code",
   "execution_count": 3,
   "id": "16b1fa39-d18c-4a87-bfcc-8d302941544d",
   "metadata": {
    "execution": {
     "iopub.execute_input": "2021-10-01T23:33:53.578796Z",
     "iopub.status.busy": "2021-10-01T23:33:53.578340Z",
     "iopub.status.idle": "2021-10-01T23:33:53.580122Z",
     "shell.execute_reply": "2021-10-01T23:33:53.580456Z"
    },
    "papermill": {
     "duration": 0.017908,
     "end_time": "2021-10-01T23:33:53.580569",
     "exception": false,
     "start_time": "2021-10-01T23:33:53.562661",
     "status": "completed"
    },
    "tags": []
   },
   "outputs": [],
   "source": [
    "# we do not need to split by method for recount2\n",
    "# CORRELATION_METHOD_NAME = \"pearson_abs\""
   ]
  },
  {
   "cell_type": "code",
   "execution_count": 4,
   "id": "0072fd4d-4b6f-4553-bc17-7bc3d737c7fd",
   "metadata": {
    "execution": {
     "iopub.execute_input": "2021-10-01T23:33:53.609739Z",
     "iopub.status.busy": "2021-10-01T23:33:53.609287Z",
     "iopub.status.idle": "2021-10-01T23:33:53.611024Z",
     "shell.execute_reply": "2021-10-01T23:33:53.611367Z"
    },
    "papermill": {
     "duration": 0.017876,
     "end_time": "2021-10-01T23:33:53.611482",
     "exception": false,
     "start_time": "2021-10-01T23:33:53.593606",
     "status": "completed"
    },
    "tags": []
   },
   "outputs": [],
   "source": [
    "# GENE_SELECTION_STRATEGY = \"var_pc_log2\""
   ]
  },
  {
   "cell_type": "code",
   "execution_count": 5,
   "id": "f4b75296-746d-4f4a-b33b-2b003ff9802f",
   "metadata": {
    "execution": {
     "iopub.execute_input": "2021-10-01T23:33:53.640969Z",
     "iopub.status.busy": "2021-10-01T23:33:53.640515Z",
     "iopub.status.idle": "2021-10-01T23:33:53.642029Z",
     "shell.execute_reply": "2021-10-01T23:33:53.642373Z"
    },
    "papermill": {
     "duration": 0.017758,
     "end_time": "2021-10-01T23:33:53.642488",
     "exception": false,
     "start_time": "2021-10-01T23:33:53.624730",
     "status": "completed"
    },
    "tags": []
   },
   "outputs": [],
   "source": [
    "# clusterProfiler settings\n",
    "ENRICH_FUNCTION = \"enrichGO\"\n",
    "SIMPLIFY_CUTOFF = 0.7\n",
    "GO_ONTOLOGIES = (\"BP\", \"CC\", \"MF\")"
   ]
  },
  {
   "cell_type": "markdown",
   "id": "fd099196-edbb-4a17-adce-c7079a221057",
   "metadata": {
    "papermill": {
     "duration": 0.012837,
     "end_time": "2021-10-01T23:33:53.668592",
     "exception": false,
     "start_time": "2021-10-01T23:33:53.655755",
     "status": "completed"
    },
    "tags": []
   },
   "source": [
    "# Paths"
   ]
  },
  {
   "cell_type": "code",
   "execution_count": 6,
   "id": "4f2e5aa2-0428-4f1b-8af7-41fd7f8208bb",
   "metadata": {
    "execution": {
     "iopub.execute_input": "2021-10-01T23:33:53.702811Z",
     "iopub.status.busy": "2021-10-01T23:33:53.702076Z",
     "iopub.status.idle": "2021-10-01T23:33:53.704887Z",
     "shell.execute_reply": "2021-10-01T23:33:53.705259Z"
    },
    "papermill": {
     "duration": 0.023918,
     "end_time": "2021-10-01T23:33:53.705377",
     "exception": false,
     "start_time": "2021-10-01T23:33:53.681459",
     "status": "completed"
    },
    "tags": []
   },
   "outputs": [
    {
     "data": {
      "text/plain": [
       "PosixPath('/opt/data/results/recount2/clustering')"
      ]
     },
     "metadata": {},
     "output_type": "display_data"
    }
   ],
   "source": [
    "INPUT_DIR = DATASET_CONFIG[\"CLUSTERING_DIR\"]\n",
    "display(INPUT_DIR)\n",
    "assert INPUT_DIR.exists()"
   ]
  },
  {
   "cell_type": "code",
   "execution_count": 7,
   "id": "28806e98",
   "metadata": {
    "execution": {
     "iopub.execute_input": "2021-10-01T23:33:53.736121Z",
     "iopub.status.busy": "2021-10-01T23:33:53.735583Z",
     "iopub.status.idle": "2021-10-01T23:33:53.738422Z",
     "shell.execute_reply": "2021-10-01T23:33:53.737968Z"
    },
    "papermill": {
     "duration": 0.019313,
     "end_time": "2021-10-01T23:33:53.738516",
     "exception": false,
     "start_time": "2021-10-01T23:33:53.719203",
     "status": "completed"
    },
    "tags": []
   },
   "outputs": [
    {
     "data": {
      "text/plain": [
       "PosixPath('/opt/data/results/recount2/similarity_matrices')"
      ]
     },
     "metadata": {},
     "output_type": "display_data"
    }
   ],
   "source": [
    "# this directory has the input data given to the clustering methods\n",
    "SIMILARITY_MATRICES_DIR = DATASET_CONFIG[\"SIMILARITY_MATRICES_DIR\"]\n",
    "display(SIMILARITY_MATRICES_DIR)"
   ]
  },
  {
   "cell_type": "code",
   "execution_count": 8,
   "id": "7eff043e-9416-486b-ae13-3dcda0e45f7d",
   "metadata": {
    "execution": {
     "iopub.execute_input": "2021-10-01T23:33:53.769950Z",
     "iopub.status.busy": "2021-10-01T23:33:53.769454Z",
     "iopub.status.idle": "2021-10-01T23:33:53.771432Z",
     "shell.execute_reply": "2021-10-01T23:33:53.771776Z"
    },
    "papermill": {
     "duration": 0.019495,
     "end_time": "2021-10-01T23:33:53.771941",
     "exception": false,
     "start_time": "2021-10-01T23:33:53.752446",
     "status": "completed"
    },
    "tags": []
   },
   "outputs": [
    {
     "data": {
      "text/plain": [
       "'recount_data_prep_PLIER-{corr_method}.pkl'"
      ]
     },
     "metadata": {},
     "output_type": "display_data"
    }
   ],
   "source": [
    "SIMILARITY_MATRIX_FILENAME_TEMPLATE = DATASET_CONFIG[\n",
    "    \"SIMILARITY_MATRIX_FILENAME_TEMPLATE\"\n",
    "]\n",
    "display(SIMILARITY_MATRIX_FILENAME_TEMPLATE)"
   ]
  },
  {
   "cell_type": "code",
   "execution_count": 9,
   "id": "ae7489d8-c09f-43a8-b52c-a9049266f734",
   "metadata": {
    "execution": {
     "iopub.execute_input": "2021-10-01T23:33:53.804439Z",
     "iopub.status.busy": "2021-10-01T23:33:53.803853Z",
     "iopub.status.idle": "2021-10-01T23:33:53.807570Z",
     "shell.execute_reply": "2021-10-01T23:33:53.807119Z"
    },
    "papermill": {
     "duration": 0.02118,
     "end_time": "2021-10-01T23:33:53.807665",
     "exception": false,
     "start_time": "2021-10-01T23:33:53.786485",
     "status": "completed"
    },
    "tags": []
   },
   "outputs": [
    {
     "data": {
      "text/plain": [
       "PosixPath('/opt/data/results/recount2/gene_set_enrichment')"
      ]
     },
     "metadata": {},
     "output_type": "display_data"
    }
   ],
   "source": [
    "OUTPUT_DIR = DATASET_CONFIG[\"GENE_ENRICHMENT_DIR\"]\n",
    "OUTPUT_DIR.mkdir(parents=True, exist_ok=True)\n",
    "display(OUTPUT_DIR)"
   ]
  },
  {
   "cell_type": "markdown",
   "id": "6e0d3fbd-1090-466c-aa2e-176f7887c4cc",
   "metadata": {
    "papermill": {
     "duration": 0.01414,
     "end_time": "2021-10-01T23:33:53.836118",
     "exception": false,
     "start_time": "2021-10-01T23:33:53.821978",
     "status": "completed"
    },
    "tags": []
   },
   "source": [
    "# Get data files"
   ]
  },
  {
   "cell_type": "code",
   "execution_count": 10,
   "id": "735c38ea-9cb9-4e5f-aa1d-32cf420c45b6",
   "metadata": {
    "execution": {
     "iopub.execute_input": "2021-10-01T23:33:53.868444Z",
     "iopub.status.busy": "2021-10-01T23:33:53.867954Z",
     "iopub.status.idle": "2021-10-01T23:33:53.870192Z",
     "shell.execute_reply": "2021-10-01T23:33:53.869758Z"
    },
    "papermill": {
     "duration": 0.020127,
     "end_time": "2021-10-01T23:33:53.870285",
     "exception": false,
     "start_time": "2021-10-01T23:33:53.850158",
     "status": "completed"
    },
    "tags": []
   },
   "outputs": [],
   "source": [
    "filename_pattern = re.compile(DATASET_CONFIG[\"CLUSTERING_FILENAME_PATTERN\"])"
   ]
  },
  {
   "cell_type": "code",
   "execution_count": 11,
   "id": "0a2c5f50-ec5c-46e8-8918-753cbc941c24",
   "metadata": {
    "execution": {
     "iopub.execute_input": "2021-10-01T23:33:53.903233Z",
     "iopub.status.busy": "2021-10-01T23:33:53.902523Z",
     "iopub.status.idle": "2021-10-01T23:33:53.907601Z",
     "shell.execute_reply": "2021-10-01T23:33:53.907138Z"
    },
    "papermill": {
     "duration": 0.022953,
     "end_time": "2021-10-01T23:33:53.907700",
     "exception": false,
     "start_time": "2021-10-01T23:33:53.884747",
     "status": "completed"
    },
    "tags": []
   },
   "outputs": [
    {
     "data": {
      "text/plain": [
       "6"
      ]
     },
     "metadata": {},
     "output_type": "display_data"
    },
    {
     "data": {
      "text/plain": [
       "[PosixPath('/opt/data/results/recount2/clustering/recount_data_prep_PLIER-clustermatch_k2-SpectralClustering.pkl'),\n",
       " PosixPath('/opt/data/results/recount2/clustering/recount_data_prep_PLIER-clustermatch_k2to5-SpectralClustering.pkl'),\n",
       " PosixPath('/opt/data/results/recount2/clustering/recount_data_prep_PLIER-pearson_abs-SpectralClustering.pkl'),\n",
       " PosixPath('/opt/data/results/recount2/clustering/recount_data_prep_PLIER-pearson_full-SpectralClustering.pkl'),\n",
       " PosixPath('/opt/data/results/recount2/clustering/recount_data_prep_PLIER-spearman_abs-SpectralClustering.pkl')]"
      ]
     },
     "metadata": {},
     "output_type": "display_data"
    }
   ],
   "source": [
    "# get input data files according to Settings\n",
    "input_files = sorted(\n",
    "    [\n",
    "        f\n",
    "        for f in INPUT_DIR.iterdir()\n",
    "        if (m := re.search(filename_pattern, str(f))) is not None\n",
    "    ]\n",
    ")\n",
    "display(len(input_files))\n",
    "display(input_files[:5])\n",
    "\n",
    "assert len(input_files) > 0"
   ]
  },
  {
   "cell_type": "markdown",
   "id": "cca61334-bd40-49da-92f6-be03cd93fdd8",
   "metadata": {
    "papermill": {
     "duration": 0.015057,
     "end_time": "2021-10-01T23:33:53.938880",
     "exception": false,
     "start_time": "2021-10-01T23:33:53.923823",
     "status": "completed"
    },
    "tags": []
   },
   "source": [
    "# Preview input data"
   ]
  },
  {
   "cell_type": "markdown",
   "id": "dd874286-ec2c-44f4-a616-d31da87e7d7a",
   "metadata": {
    "papermill": {
     "duration": 0.01472,
     "end_time": "2021-10-01T23:33:53.968443",
     "exception": false,
     "start_time": "2021-10-01T23:33:53.953723",
     "status": "completed"
    },
    "tags": []
   },
   "source": [
    "## Clustering results"
   ]
  },
  {
   "cell_type": "code",
   "execution_count": 12,
   "id": "7876f6de-a51a-4fda-8563-ed05df5da3c6",
   "metadata": {
    "execution": {
     "iopub.execute_input": "2021-10-01T23:33:54.002917Z",
     "iopub.status.busy": "2021-10-01T23:33:54.001997Z",
     "iopub.status.idle": "2021-10-01T23:33:54.005065Z",
     "shell.execute_reply": "2021-10-01T23:33:54.004673Z"
    },
    "papermill": {
     "duration": 0.021796,
     "end_time": "2021-10-01T23:33:54.005165",
     "exception": false,
     "start_time": "2021-10-01T23:33:53.983369",
     "status": "completed"
    },
    "tags": []
   },
   "outputs": [],
   "source": [
    "tmp = pd.read_pickle(input_files[0])"
   ]
  },
  {
   "cell_type": "code",
   "execution_count": 13,
   "id": "fc32c3fa-41ca-4d46-8b51-34581cb98777",
   "metadata": {
    "execution": {
     "iopub.execute_input": "2021-10-01T23:33:54.039368Z",
     "iopub.status.busy": "2021-10-01T23:33:54.038769Z",
     "iopub.status.idle": "2021-10-01T23:33:54.040877Z",
     "shell.execute_reply": "2021-10-01T23:33:54.041271Z"
    },
    "papermill": {
     "duration": 0.020735,
     "end_time": "2021-10-01T23:33:54.041386",
     "exception": false,
     "start_time": "2021-10-01T23:33:54.020651",
     "status": "completed"
    },
    "tags": []
   },
   "outputs": [
    {
     "data": {
      "text/plain": [
       "(25, 4)"
      ]
     },
     "execution_count": 13,
     "metadata": {},
     "output_type": "execute_result"
    }
   ],
   "source": [
    "tmp.shape"
   ]
  },
  {
   "cell_type": "code",
   "execution_count": 14,
   "id": "89724114-556b-4766-9364-0167c1b5e071",
   "metadata": {
    "execution": {
     "iopub.execute_input": "2021-10-01T23:33:54.076023Z",
     "iopub.status.busy": "2021-10-01T23:33:54.075514Z",
     "iopub.status.idle": "2021-10-01T23:33:54.086934Z",
     "shell.execute_reply": "2021-10-01T23:33:54.086475Z"
    },
    "papermill": {
     "duration": 0.030065,
     "end_time": "2021-10-01T23:33:54.087031",
     "exception": false,
     "start_time": "2021-10-01T23:33:54.056966",
     "status": "completed"
    },
    "tags": []
   },
   "outputs": [
    {
     "data": {
      "text/html": [
       "<div>\n",
       "<style scoped>\n",
       "    .dataframe tbody tr th:only-of-type {\n",
       "        vertical-align: middle;\n",
       "    }\n",
       "\n",
       "    .dataframe tbody tr th {\n",
       "        vertical-align: top;\n",
       "    }\n",
       "\n",
       "    .dataframe thead th {\n",
       "        text-align: right;\n",
       "    }\n",
       "</style>\n",
       "<table border=\"1\" class=\"dataframe\">\n",
       "  <thead>\n",
       "    <tr style=\"text-align: right;\">\n",
       "      <th></th>\n",
       "      <th>params</th>\n",
       "      <th>partition</th>\n",
       "      <th>n_clusters</th>\n",
       "      <th>si_score</th>\n",
       "    </tr>\n",
       "    <tr>\n",
       "      <th>id</th>\n",
       "      <th></th>\n",
       "      <th></th>\n",
       "      <th></th>\n",
       "      <th></th>\n",
       "    </tr>\n",
       "  </thead>\n",
       "  <tbody>\n",
       "    <tr>\n",
       "      <th>SpectralClustering #0</th>\n",
       "      <td>{\"affinity\": \"precomputed\", \"assign_labels\": \"...</td>\n",
       "      <td>[1, 1, 0, 0, 1, 1, 1, 0, 1, 0, 1, 1, 0, 0, 1, ...</td>\n",
       "      <td>2</td>\n",
       "      <td>0.058329</td>\n",
       "    </tr>\n",
       "    <tr>\n",
       "      <th>SpectralClustering #1</th>\n",
       "      <td>{\"affinity\": \"precomputed\", \"assign_labels\": \"...</td>\n",
       "      <td>[0, 0, 0, 4, 0, 4, 0, 0, 4, 0, 1, 0, 0, 0, 0, ...</td>\n",
       "      <td>5</td>\n",
       "      <td>0.054201</td>\n",
       "    </tr>\n",
       "    <tr>\n",
       "      <th>SpectralClustering #2</th>\n",
       "      <td>{\"affinity\": \"precomputed\", \"assign_labels\": \"...</td>\n",
       "      <td>[3, 3, 3, 7, 3, 7, 3, 3, 7, 3, 3, 3, 3, 3, 3, ...</td>\n",
       "      <td>10</td>\n",
       "      <td>0.038756</td>\n",
       "    </tr>\n",
       "    <tr>\n",
       "      <th>SpectralClustering #3</th>\n",
       "      <td>{\"affinity\": \"precomputed\", \"assign_labels\": \"...</td>\n",
       "      <td>[4, 4, 4, 10, 13, 12, 4, 4, 10, 4, 13, 12, 4, ...</td>\n",
       "      <td>15</td>\n",
       "      <td>0.031417</td>\n",
       "    </tr>\n",
       "    <tr>\n",
       "      <th>SpectralClustering #4</th>\n",
       "      <td>{\"affinity\": \"precomputed\", \"assign_labels\": \"...</td>\n",
       "      <td>[13, 13, 11, 5, 19, 4, 11, 11, 4, 11, 19, 13, ...</td>\n",
       "      <td>20</td>\n",
       "      <td>0.027535</td>\n",
       "    </tr>\n",
       "  </tbody>\n",
       "</table>\n",
       "</div>"
      ],
      "text/plain": [
       "                                                                  params  \\\n",
       "id                                                                         \n",
       "SpectralClustering #0  {\"affinity\": \"precomputed\", \"assign_labels\": \"...   \n",
       "SpectralClustering #1  {\"affinity\": \"precomputed\", \"assign_labels\": \"...   \n",
       "SpectralClustering #2  {\"affinity\": \"precomputed\", \"assign_labels\": \"...   \n",
       "SpectralClustering #3  {\"affinity\": \"precomputed\", \"assign_labels\": \"...   \n",
       "SpectralClustering #4  {\"affinity\": \"precomputed\", \"assign_labels\": \"...   \n",
       "\n",
       "                                                               partition  \\\n",
       "id                                                                         \n",
       "SpectralClustering #0  [1, 1, 0, 0, 1, 1, 1, 0, 1, 0, 1, 1, 0, 0, 1, ...   \n",
       "SpectralClustering #1  [0, 0, 0, 4, 0, 4, 0, 0, 4, 0, 1, 0, 0, 0, 0, ...   \n",
       "SpectralClustering #2  [3, 3, 3, 7, 3, 7, 3, 3, 7, 3, 3, 3, 3, 3, 3, ...   \n",
       "SpectralClustering #3  [4, 4, 4, 10, 13, 12, 4, 4, 10, 4, 13, 12, 4, ...   \n",
       "SpectralClustering #4  [13, 13, 11, 5, 19, 4, 11, 11, 4, 11, 19, 13, ...   \n",
       "\n",
       "                       n_clusters  si_score  \n",
       "id                                           \n",
       "SpectralClustering #0           2  0.058329  \n",
       "SpectralClustering #1           5  0.054201  \n",
       "SpectralClustering #2          10  0.038756  \n",
       "SpectralClustering #3          15  0.031417  \n",
       "SpectralClustering #4          20  0.027535  "
      ]
     },
     "execution_count": 14,
     "metadata": {},
     "output_type": "execute_result"
    }
   ],
   "source": [
    "tmp.head()"
   ]
  },
  {
   "cell_type": "markdown",
   "id": "5afa6e8f-9c72-4fb2-ac53-b87d5ac35736",
   "metadata": {
    "papermill": {
     "duration": 0.015537,
     "end_time": "2021-10-01T23:33:54.118931",
     "exception": false,
     "start_time": "2021-10-01T23:33:54.103394",
     "status": "completed"
    },
    "tags": []
   },
   "source": [
    "## Similarity matrices (input to clustering methods)"
   ]
  },
  {
   "cell_type": "code",
   "execution_count": 15,
   "id": "6a242f40-7fd9-422d-b899-c46dd6432054",
   "metadata": {
    "execution": {
     "iopub.execute_input": "2021-10-01T23:33:54.154727Z",
     "iopub.status.busy": "2021-10-01T23:33:54.154053Z",
     "iopub.status.idle": "2021-10-01T23:33:54.156530Z",
     "shell.execute_reply": "2021-10-01T23:33:54.156911Z"
    },
    "papermill": {
     "duration": 0.022613,
     "end_time": "2021-10-01T23:33:54.157030",
     "exception": false,
     "start_time": "2021-10-01T23:33:54.134417",
     "status": "completed"
    },
    "tags": []
   },
   "outputs": [
    {
     "data": {
      "text/plain": [
       "'recount_data_prep_PLIER-clustermatch_k2.pkl'"
      ]
     },
     "metadata": {},
     "output_type": "display_data"
    }
   ],
   "source": [
    "similarity_matrix_filename = SIMILARITY_MATRIX_FILENAME_TEMPLATE.format(\n",
    "    corr_method=\"clustermatch_k2\",\n",
    ")\n",
    "display(similarity_matrix_filename)"
   ]
  },
  {
   "cell_type": "code",
   "execution_count": 16,
   "id": "21fe1ea9-4555-48c7-a92c-97992de7a14f",
   "metadata": {
    "execution": {
     "iopub.execute_input": "2021-10-01T23:33:54.193027Z",
     "iopub.status.busy": "2021-10-01T23:33:54.192551Z",
     "iopub.status.idle": "2021-10-01T23:33:54.682564Z",
     "shell.execute_reply": "2021-10-01T23:33:54.681980Z"
    },
    "papermill": {
     "duration": 0.509072,
     "end_time": "2021-10-01T23:33:54.682687",
     "exception": false,
     "start_time": "2021-10-01T23:33:54.173615",
     "status": "completed"
    },
    "tags": []
   },
   "outputs": [],
   "source": [
    "tmp = pd.read_pickle(SIMILARITY_MATRICES_DIR / similarity_matrix_filename)"
   ]
  },
  {
   "cell_type": "code",
   "execution_count": 17,
   "id": "fb93496e-1dec-4df7-af2f-6820c1913648",
   "metadata": {
    "execution": {
     "iopub.execute_input": "2021-10-01T23:33:54.722727Z",
     "iopub.status.busy": "2021-10-01T23:33:54.722132Z",
     "iopub.status.idle": "2021-10-01T23:33:54.724951Z",
     "shell.execute_reply": "2021-10-01T23:33:54.724497Z"
    },
    "papermill": {
     "duration": 0.022872,
     "end_time": "2021-10-01T23:33:54.725047",
     "exception": false,
     "start_time": "2021-10-01T23:33:54.702175",
     "status": "completed"
    },
    "tags": []
   },
   "outputs": [
    {
     "data": {
      "text/plain": [
       "(6750, 6750)"
      ]
     },
     "execution_count": 17,
     "metadata": {},
     "output_type": "execute_result"
    }
   ],
   "source": [
    "tmp.shape"
   ]
  },
  {
   "cell_type": "code",
   "execution_count": 18,
   "id": "50c41c60-b828-431c-9e16-8d21395315e5",
   "metadata": {
    "execution": {
     "iopub.execute_input": "2021-10-01T23:33:54.776010Z",
     "iopub.status.busy": "2021-10-01T23:33:54.775452Z",
     "iopub.status.idle": "2021-10-01T23:33:54.777703Z",
     "shell.execute_reply": "2021-10-01T23:33:54.778050Z"
    },
    "papermill": {
     "duration": 0.036132,
     "end_time": "2021-10-01T23:33:54.778169",
     "exception": false,
     "start_time": "2021-10-01T23:33:54.742037",
     "status": "completed"
    },
    "tags": []
   },
   "outputs": [
    {
     "data": {
      "text/html": [
       "<div>\n",
       "<style scoped>\n",
       "    .dataframe tbody tr th:only-of-type {\n",
       "        vertical-align: middle;\n",
       "    }\n",
       "\n",
       "    .dataframe tbody tr th {\n",
       "        vertical-align: top;\n",
       "    }\n",
       "\n",
       "    .dataframe thead th {\n",
       "        text-align: right;\n",
       "    }\n",
       "</style>\n",
       "<table border=\"1\" class=\"dataframe\">\n",
       "  <thead>\n",
       "    <tr style=\"text-align: right;\">\n",
       "      <th></th>\n",
       "      <th>GAS6</th>\n",
       "      <th>MMP14</th>\n",
       "      <th>DSP</th>\n",
       "      <th>MARCKSL1</th>\n",
       "      <th>SPARC</th>\n",
       "      <th>CTSD</th>\n",
       "      <th>EPAS1</th>\n",
       "      <th>PALLD</th>\n",
       "      <th>PHC2</th>\n",
       "      <th>LGALS3BP</th>\n",
       "      <th>...</th>\n",
       "      <th>LDHB</th>\n",
       "      <th>LDHC</th>\n",
       "      <th>ACAP2</th>\n",
       "      <th>ACAP3</th>\n",
       "      <th>CFL2</th>\n",
       "      <th>CFL1</th>\n",
       "      <th>NFIB</th>\n",
       "      <th>PLEKHG6</th>\n",
       "      <th>GNGT2</th>\n",
       "      <th>SERPINH1</th>\n",
       "    </tr>\n",
       "  </thead>\n",
       "  <tbody>\n",
       "    <tr>\n",
       "      <th>GAS6</th>\n",
       "      <td>1.000000</td>\n",
       "      <td>0.359879</td>\n",
       "      <td>0.161606</td>\n",
       "      <td>0.069152</td>\n",
       "      <td>0.179718</td>\n",
       "      <td>0.241732</td>\n",
       "      <td>0.273178</td>\n",
       "      <td>0.240247</td>\n",
       "      <td>0.222990</td>\n",
       "      <td>0.220751</td>\n",
       "      <td>...</td>\n",
       "      <td>0.008947</td>\n",
       "      <td>0.065011</td>\n",
       "      <td>0.020923</td>\n",
       "      <td>0.244929</td>\n",
       "      <td>0.129664</td>\n",
       "      <td>0.067795</td>\n",
       "      <td>0.106808</td>\n",
       "      <td>0.090599</td>\n",
       "      <td>0.099318</td>\n",
       "      <td>0.255519</td>\n",
       "    </tr>\n",
       "    <tr>\n",
       "      <th>MMP14</th>\n",
       "      <td>0.359879</td>\n",
       "      <td>1.000000</td>\n",
       "      <td>0.144209</td>\n",
       "      <td>0.060200</td>\n",
       "      <td>0.271937</td>\n",
       "      <td>0.192011</td>\n",
       "      <td>0.258037</td>\n",
       "      <td>0.207851</td>\n",
       "      <td>0.187494</td>\n",
       "      <td>0.193339</td>\n",
       "      <td>...</td>\n",
       "      <td>0.011178</td>\n",
       "      <td>0.075366</td>\n",
       "      <td>0.033851</td>\n",
       "      <td>0.134849</td>\n",
       "      <td>0.096144</td>\n",
       "      <td>0.051084</td>\n",
       "      <td>0.068585</td>\n",
       "      <td>0.110153</td>\n",
       "      <td>0.111159</td>\n",
       "      <td>0.264664</td>\n",
       "    </tr>\n",
       "    <tr>\n",
       "      <th>DSP</th>\n",
       "      <td>0.161606</td>\n",
       "      <td>0.144209</td>\n",
       "      <td>1.000000</td>\n",
       "      <td>0.042226</td>\n",
       "      <td>0.062718</td>\n",
       "      <td>0.048719</td>\n",
       "      <td>0.207457</td>\n",
       "      <td>0.277144</td>\n",
       "      <td>0.018145</td>\n",
       "      <td>0.147427</td>\n",
       "      <td>...</td>\n",
       "      <td>0.006362</td>\n",
       "      <td>0.060892</td>\n",
       "      <td>0.005772</td>\n",
       "      <td>0.027932</td>\n",
       "      <td>0.135008</td>\n",
       "      <td>0.003201</td>\n",
       "      <td>0.142329</td>\n",
       "      <td>0.143227</td>\n",
       "      <td>-0.000027</td>\n",
       "      <td>0.312919</td>\n",
       "    </tr>\n",
       "    <tr>\n",
       "      <th>MARCKSL1</th>\n",
       "      <td>0.069152</td>\n",
       "      <td>0.060200</td>\n",
       "      <td>0.042226</td>\n",
       "      <td>1.000000</td>\n",
       "      <td>0.041695</td>\n",
       "      <td>0.066842</td>\n",
       "      <td>0.021648</td>\n",
       "      <td>0.039905</td>\n",
       "      <td>0.100069</td>\n",
       "      <td>0.043523</td>\n",
       "      <td>...</td>\n",
       "      <td>0.099796</td>\n",
       "      <td>0.050160</td>\n",
       "      <td>0.036485</td>\n",
       "      <td>0.136520</td>\n",
       "      <td>0.028806</td>\n",
       "      <td>0.131773</td>\n",
       "      <td>0.021840</td>\n",
       "      <td>0.044066</td>\n",
       "      <td>0.057527</td>\n",
       "      <td>0.099114</td>\n",
       "    </tr>\n",
       "    <tr>\n",
       "      <th>SPARC</th>\n",
       "      <td>0.179718</td>\n",
       "      <td>0.271937</td>\n",
       "      <td>0.062718</td>\n",
       "      <td>0.041695</td>\n",
       "      <td>1.000000</td>\n",
       "      <td>0.067178</td>\n",
       "      <td>0.123818</td>\n",
       "      <td>0.169873</td>\n",
       "      <td>0.081537</td>\n",
       "      <td>0.117885</td>\n",
       "      <td>...</td>\n",
       "      <td>0.034611</td>\n",
       "      <td>0.033891</td>\n",
       "      <td>0.003140</td>\n",
       "      <td>0.040078</td>\n",
       "      <td>0.128344</td>\n",
       "      <td>0.009827</td>\n",
       "      <td>0.104421</td>\n",
       "      <td>0.013683</td>\n",
       "      <td>0.072254</td>\n",
       "      <td>0.136840</td>\n",
       "    </tr>\n",
       "  </tbody>\n",
       "</table>\n",
       "<p>5 rows × 6750 columns</p>\n",
       "</div>"
      ],
      "text/plain": [
       "              GAS6     MMP14       DSP  MARCKSL1     SPARC      CTSD  \\\n",
       "GAS6      1.000000  0.359879  0.161606  0.069152  0.179718  0.241732   \n",
       "MMP14     0.359879  1.000000  0.144209  0.060200  0.271937  0.192011   \n",
       "DSP       0.161606  0.144209  1.000000  0.042226  0.062718  0.048719   \n",
       "MARCKSL1  0.069152  0.060200  0.042226  1.000000  0.041695  0.066842   \n",
       "SPARC     0.179718  0.271937  0.062718  0.041695  1.000000  0.067178   \n",
       "\n",
       "             EPAS1     PALLD      PHC2  LGALS3BP  ...      LDHB      LDHC  \\\n",
       "GAS6      0.273178  0.240247  0.222990  0.220751  ...  0.008947  0.065011   \n",
       "MMP14     0.258037  0.207851  0.187494  0.193339  ...  0.011178  0.075366   \n",
       "DSP       0.207457  0.277144  0.018145  0.147427  ...  0.006362  0.060892   \n",
       "MARCKSL1  0.021648  0.039905  0.100069  0.043523  ...  0.099796  0.050160   \n",
       "SPARC     0.123818  0.169873  0.081537  0.117885  ...  0.034611  0.033891   \n",
       "\n",
       "             ACAP2     ACAP3      CFL2      CFL1      NFIB   PLEKHG6  \\\n",
       "GAS6      0.020923  0.244929  0.129664  0.067795  0.106808  0.090599   \n",
       "MMP14     0.033851  0.134849  0.096144  0.051084  0.068585  0.110153   \n",
       "DSP       0.005772  0.027932  0.135008  0.003201  0.142329  0.143227   \n",
       "MARCKSL1  0.036485  0.136520  0.028806  0.131773  0.021840  0.044066   \n",
       "SPARC     0.003140  0.040078  0.128344  0.009827  0.104421  0.013683   \n",
       "\n",
       "             GNGT2  SERPINH1  \n",
       "GAS6      0.099318  0.255519  \n",
       "MMP14     0.111159  0.264664  \n",
       "DSP      -0.000027  0.312919  \n",
       "MARCKSL1  0.057527  0.099114  \n",
       "SPARC     0.072254  0.136840  \n",
       "\n",
       "[5 rows x 6750 columns]"
      ]
     },
     "execution_count": 18,
     "metadata": {},
     "output_type": "execute_result"
    }
   ],
   "source": [
    "tmp.head()"
   ]
  },
  {
   "cell_type": "markdown",
   "id": "c0d215cb-0ac4-4e56-b61e-affb9de440e1",
   "metadata": {
    "papermill": {
     "duration": 0.016844,
     "end_time": "2021-10-01T23:33:54.812916",
     "exception": false,
     "start_time": "2021-10-01T23:33:54.796072",
     "status": "completed"
    },
    "tags": []
   },
   "source": [
    "# Run"
   ]
  },
  {
   "cell_type": "code",
   "execution_count": 19,
   "id": "64fe280a-507d-4bb1-a643-08bab491d01b",
   "metadata": {
    "execution": {
     "iopub.execute_input": "2021-10-01T23:33:54.850679Z",
     "iopub.status.busy": "2021-10-01T23:33:54.850165Z",
     "iopub.status.idle": "2021-10-01T23:33:54.852724Z",
     "shell.execute_reply": "2021-10-01T23:33:54.852330Z"
    },
    "papermill": {
     "duration": 0.023101,
     "end_time": "2021-10-01T23:33:54.852819",
     "exception": false,
     "start_time": "2021-10-01T23:33:54.829718",
     "status": "completed"
    },
    "tags": []
   },
   "outputs": [
    {
     "data": {
      "text/plain": [
       "'070'"
      ]
     },
     "metadata": {},
     "output_type": "display_data"
    }
   ],
   "source": [
    "simplified_cutoff_str = f\"{SIMPLIFY_CUTOFF:.2f}\".replace(\".\", \"\")\n",
    "display(simplified_cutoff_str)"
   ]
  },
  {
   "cell_type": "code",
   "execution_count": 20,
   "id": "fe0e2ed7-42bc-446e-98d5-76f31217c1df",
   "metadata": {
    "execution": {
     "iopub.execute_input": "2021-10-01T23:33:54.891487Z",
     "iopub.status.busy": "2021-10-01T23:33:54.891018Z",
     "iopub.status.idle": "2021-10-01T23:33:54.895357Z",
     "shell.execute_reply": "2021-10-01T23:33:54.894888Z"
    },
    "papermill": {
     "duration": 0.024976,
     "end_time": "2021-10-01T23:33:54.895457",
     "exception": false,
     "start_time": "2021-10-01T23:33:54.870481",
     "status": "completed"
    },
    "tags": []
   },
   "outputs": [
    {
     "data": {
      "text/plain": [
       "25"
      ]
     },
     "metadata": {},
     "output_type": "display_data"
    }
   ],
   "source": [
    "n_partitions_per_file = pd.read_pickle(input_files[0]).shape[0]\n",
    "display(n_partitions_per_file)"
   ]
  },
  {
   "cell_type": "code",
   "execution_count": 21,
   "id": "754836bb-3b1c-4259-882b-07dfa793c13a",
   "metadata": {
    "execution": {
     "iopub.execute_input": "2021-10-01T23:33:54.943821Z",
     "iopub.status.busy": "2021-10-01T23:33:54.943227Z",
     "iopub.status.idle": "2021-10-02T14:07:03.803030Z",
     "shell.execute_reply": "2021-10-02T14:07:03.802440Z"
    },
    "papermill": {
     "duration": 52388.889871,
     "end_time": "2021-10-02T14:07:03.803157",
     "exception": false,
     "start_time": "2021-10-01T23:33:54.913286",
     "status": "completed"
    },
    "tags": []
   },
   "outputs": [
    {
     "data": {
      "text/plain": [
       "'number of tasks: 450'"
      ]
     },
     "metadata": {},
     "output_type": "display_data"
    },
    {
     "name": "stderr",
     "output_type": "stream",
     "text": [
      "spearman_full/saving: 100%|███████████████████████████████████| 450/450 [14:33:08<00:00, 116.42s/it]\n"
     ]
    }
   ],
   "source": [
    "# the number of tasks is the number of input files times number of partitions per file times 3 (BP, CC, MF)\n",
    "n_tasks = len(input_files) * n_partitions_per_file * 3\n",
    "n_tasks = int(n_tasks)\n",
    "display(f\"number of tasks: {n_tasks}\")\n",
    "\n",
    "with ProcessPoolExecutor(max_workers=conf.GENERAL[\"N_JOBS\"]) as executor, tqdm(\n",
    "    total=n_tasks, ncols=100\n",
    ") as pbar:\n",
    "    for clustering_filepath in input_files:\n",
    "        # extract from input clustering filename some sections, such as tissue name, etc\n",
    "        m = re.search(filename_pattern, str(clustering_filepath.name))\n",
    "\n",
    "        #         tissue = m.group(\"tissue\")\n",
    "        #         gene_sel_strategy = m.group(\"gene_sel_strategy\")\n",
    "        corr_method = m.group(\"corr_method\")\n",
    "\n",
    "        # update pbar description\n",
    "        #         pbar.set_description(f\"{tissue}/{gene_sel_strategy}\")\n",
    "        pbar.set_description(f\"{corr_method}\")\n",
    "\n",
    "        # create output filepath template\n",
    "        full_output_filename_template = (\n",
    "            f\"{clustering_filepath.stem}-{ENRICH_FUNCTION}-{{ontology}}_full.pkl\"\n",
    "        )\n",
    "        simplified_output_filename_template = f\"{clustering_filepath.stem}-{ENRICH_FUNCTION}-{{ontology}}_simplified_{simplified_cutoff_str}.pkl\"\n",
    "\n",
    "        # read clustering results\n",
    "        clustering_df = pd.read_pickle(clustering_filepath)\n",
    "\n",
    "        # get partitions' numbers\n",
    "        tmp_partition = clustering_df.iloc[0].partition\n",
    "        n_genes = tmp_partition.shape[0]\n",
    "        n_clusters = np.unique(tmp_partition).shape[0]\n",
    "\n",
    "        # use those sections to read the list of genes from the input data\n",
    "        # file that the clustering algorithm received\n",
    "        similarity_matrix_filename = SIMILARITY_MATRIX_FILENAME_TEMPLATE.format(\n",
    "            #             tissue=tissue,\n",
    "            #             gene_sel_strategy=gene_sel_strategy,\n",
    "            corr_method=corr_method.split(\"_\")[0]\n",
    "            if not corr_method.startswith(\"clustermatch\")\n",
    "            else corr_method,\n",
    "        )\n",
    "\n",
    "        # get the universe of genes\n",
    "        all_gene_ids = pd.read_pickle(\n",
    "            SIMILARITY_MATRICES_DIR / similarity_matrix_filename\n",
    "        ).index.tolist()\n",
    "        all_gene_ids = np.array(all_gene_ids)\n",
    "        assert all_gene_ids.shape[0] == n_genes\n",
    "\n",
    "        # iterate over clustering solutions (partitions) and GO ontologies\n",
    "        futures = {\n",
    "            executor.submit(\n",
    "                run_enrich,\n",
    "                all_gene_ids,\n",
    "                cr.partition,\n",
    "                ENRICH_FUNCTION,\n",
    "                ontology,\n",
    "                key_type=\"SYMBOL\",\n",
    "                simplify_cutoff=SIMPLIFY_CUTOFF,\n",
    "            ): ontology\n",
    "            for cr_idx, cr in clustering_df.sort_values(\"n_clusters\").iterrows()\n",
    "            for ontology in GO_ONTOLOGIES\n",
    "            if not (\n",
    "                (\n",
    "                    OUTPUT_DIR / full_output_filename_template.format(ontology=ontology)\n",
    "                ).exists()\n",
    "                and (\n",
    "                    OUTPUT_DIR\n",
    "                    / simplified_output_filename_template.format(ontology=ontology)\n",
    "                ).exists()\n",
    "            )\n",
    "        }\n",
    "\n",
    "        # FIXME: this n_expected here is horrible\n",
    "        #  I leave it here for now\n",
    "        futures_n_expected = int(len(GO_ONTOLOGIES) * clustering_df.shape[0])\n",
    "\n",
    "        futures_diff = futures_n_expected - len(futures)\n",
    "        if futures_diff > 0:\n",
    "            pbar.update(futures_diff)\n",
    "\n",
    "        if futures_diff == futures_n_expected:\n",
    "            continue\n",
    "\n",
    "        # collect results\n",
    "        results_full = defaultdict(list)\n",
    "        results_simplified = defaultdict(list)\n",
    "\n",
    "        for task in as_completed(futures):\n",
    "            ont = futures[task]\n",
    "            task_results = task.result()\n",
    "\n",
    "            # continue if no enrichment found\n",
    "            if len(task_results) == 0:\n",
    "                pbar.update(1)\n",
    "                continue\n",
    "\n",
    "            results_full[ont].append(task_results[0])\n",
    "\n",
    "            if len(task_results) > 1:\n",
    "                results_simplified[ont].append(task_results[1])\n",
    "\n",
    "            pbar.update(1)\n",
    "\n",
    "        if len(results_full) == 0:\n",
    "            # no significant results, continue\n",
    "            continue\n",
    "\n",
    "        # merge and serve\n",
    "        pbar.set_description(f\"{corr_method}/saving\")\n",
    "\n",
    "        for ontology in GO_ONTOLOGIES:\n",
    "            # full\n",
    "            results_full_df = pd.concat(\n",
    "                results_full[ontology], ignore_index=True\n",
    "            ).sort_values([\"n_clusters\", \"fdr_per_partition\"])\n",
    "\n",
    "            results_full_df.to_pickle(\n",
    "                OUTPUT_DIR\n",
    "                / f\"{clustering_filepath.stem}-{ENRICH_FUNCTION}-{ontology}_full.pkl\",\n",
    "            )\n",
    "\n",
    "            # simplified\n",
    "            if len(results_simplified) > 0:\n",
    "                results_simplified_df = pd.concat(\n",
    "                    results_simplified[ontology], ignore_index=True\n",
    "                ).sort_values([\"n_clusters\", \"fdr_per_partition\"])\n",
    "\n",
    "                results_simplified_df.to_pickle(\n",
    "                    OUTPUT_DIR\n",
    "                    / f\"{clustering_filepath.stem}-{ENRICH_FUNCTION}-{ontology}_simplified_{simplified_cutoff_str}.pkl\",\n",
    "                )"
   ]
  },
  {
   "cell_type": "code",
   "execution_count": null,
   "id": "complimentary-gathering",
   "metadata": {
    "papermill": {
     "duration": 0.109452,
     "end_time": "2021-10-02T14:07:04.032062",
     "exception": false,
     "start_time": "2021-10-02T14:07:03.922610",
     "status": "completed"
    },
    "tags": []
   },
   "outputs": [],
   "source": []
  }
 ],
 "metadata": {
  "jupytext": {
   "cell_metadata_filter": "all,-execution,-papermill,-trusted"
  },
  "kernelspec": {
   "display_name": "Python 3 (ipykernel)",
   "language": "python",
   "name": "python3"
  },
  "language_info": {
   "codemirror_mode": {
    "name": "ipython",
    "version": 3
   },
   "file_extension": ".py",
   "mimetype": "text/x-python",
   "name": "python",
   "nbconvert_exporter": "python",
   "pygments_lexer": "ipython3",
   "version": "3.9.7"
  },
  "papermill": {
   "default_parameters": {},
   "duration": 52392.643195,
   "end_time": "2021-10-02T14:07:04.544658",
   "environment_variables": {},
   "exception": null,
   "input_path": "nbs/20_gene_set_enrichment/10_recount2/05_00-recount2-go_enrich.ipynb",
   "output_path": "nbs/20_gene_set_enrichment/10_recount2/05_00-recount2-go_enrich.run.ipynb",
   "parameters": {},
   "start_time": "2021-10-01T23:33:51.901463",
   "version": "2.3.2"
  },
  "toc-autonumbering": true
 },
 "nbformat": 4,
 "nbformat_minor": 5
}
