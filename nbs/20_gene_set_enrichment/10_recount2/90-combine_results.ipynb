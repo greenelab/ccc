{
 "cells": [
  {
   "cell_type": "markdown",
   "id": "4b79d660-2ab1-42c2-a4d5-467d2534e5dc",
   "metadata": {
    "papermill": {
     "duration": 0.057917,
     "end_time": "2021-10-02T14:22:28.461719",
     "exception": false,
     "start_time": "2021-10-02T14:22:28.403802",
     "status": "completed"
    },
    "tags": []
   },
   "source": [
    "# Description"
   ]
  },
  {
   "cell_type": "markdown",
   "id": "9f0b6db4-6f06-4856-a4b8-e24548d0f1d9",
   "metadata": {
    "papermill": {
     "duration": 0.022519,
     "end_time": "2021-10-02T14:22:28.507525",
     "exception": false,
     "start_time": "2021-10-02T14:22:28.485006",
     "status": "completed"
    },
    "tags": []
   },
   "source": [
    "Combines all gene enrichment results found in input directory."
   ]
  },
  {
   "cell_type": "markdown",
   "id": "dfb4a759-748a-4a19-b773-992a23cb9327",
   "metadata": {
    "papermill": {
     "duration": 0.022604,
     "end_time": "2021-10-02T14:22:28.553609",
     "exception": false,
     "start_time": "2021-10-02T14:22:28.531005",
     "status": "completed"
    },
    "tags": []
   },
   "source": [
    "# Modules loading"
   ]
  },
  {
   "cell_type": "code",
   "execution_count": 1,
   "id": "98e28052-34cc-43fc-87f3-a1b61eeb14fc",
   "metadata": {
    "execution": {
     "iopub.execute_input": "2021-10-02T14:22:28.602779Z",
     "iopub.status.busy": "2021-10-02T14:22:28.602269Z",
     "iopub.status.idle": "2021-10-02T14:22:29.496916Z",
     "shell.execute_reply": "2021-10-02T14:22:29.496463Z"
    },
    "papermill": {
     "duration": 0.92005,
     "end_time": "2021-10-02T14:22:29.497024",
     "exception": false,
     "start_time": "2021-10-02T14:22:28.576974",
     "status": "completed"
    },
    "tags": []
   },
   "outputs": [],
   "source": [
    "import re\n",
    "\n",
    "import numpy as np\n",
    "import pandas as pd\n",
    "from statsmodels.stats.multitest import multipletests\n",
    "import matplotlib.pyplot as plt\n",
    "import seaborn as sns\n",
    "from tqdm import tqdm\n",
    "\n",
    "from clustermatch import conf"
   ]
  },
  {
   "cell_type": "markdown",
   "id": "76fa50d9-680c-4107-b705-009070735d89",
   "metadata": {
    "papermill": {
     "duration": 0.022846,
     "end_time": "2021-10-02T14:22:29.543570",
     "exception": false,
     "start_time": "2021-10-02T14:22:29.520724",
     "status": "completed"
    },
    "tags": []
   },
   "source": [
    "# Settings"
   ]
  },
  {
   "cell_type": "code",
   "execution_count": 2,
   "id": "9ae7af0f-809d-464e-9009-c1b158bb5bd3",
   "metadata": {
    "execution": {
     "iopub.execute_input": "2021-10-02T14:22:29.593542Z",
     "iopub.status.busy": "2021-10-02T14:22:29.593091Z",
     "iopub.status.idle": "2021-10-02T14:22:29.595277Z",
     "shell.execute_reply": "2021-10-02T14:22:29.594830Z"
    },
    "papermill": {
     "duration": 0.029058,
     "end_time": "2021-10-02T14:22:29.595370",
     "exception": false,
     "start_time": "2021-10-02T14:22:29.566312",
     "status": "completed"
    },
    "tags": []
   },
   "outputs": [],
   "source": [
    "DATASET_CONFIG = conf.RECOUNT2"
   ]
  },
  {
   "cell_type": "markdown",
   "id": "eee530dc-b562-4b54-8bc3-a9c831ac052c",
   "metadata": {
    "papermill": {
     "duration": 0.022889,
     "end_time": "2021-10-02T14:22:29.641551",
     "exception": false,
     "start_time": "2021-10-02T14:22:29.618662",
     "status": "completed"
    },
    "tags": []
   },
   "source": [
    "# Paths"
   ]
  },
  {
   "cell_type": "code",
   "execution_count": 3,
   "id": "09f26fce-9c9b-4ec0-ae25-1b9130b17ab7",
   "metadata": {
    "execution": {
     "iopub.execute_input": "2021-10-02T14:22:29.692626Z",
     "iopub.status.busy": "2021-10-02T14:22:29.692037Z",
     "iopub.status.idle": "2021-10-02T14:22:29.694998Z",
     "shell.execute_reply": "2021-10-02T14:22:29.694551Z"
    },
    "papermill": {
     "duration": 0.030786,
     "end_time": "2021-10-02T14:22:29.695094",
     "exception": false,
     "start_time": "2021-10-02T14:22:29.664308",
     "status": "completed"
    },
    "tags": []
   },
   "outputs": [
    {
     "data": {
      "text/plain": [
       "PosixPath('/opt/data/results/recount2/gene_set_enrichment')"
      ]
     },
     "metadata": {},
     "output_type": "display_data"
    }
   ],
   "source": [
    "INPUT_DIR = DATASET_CONFIG[\"GENE_ENRICHMENT_DIR\"]\n",
    "display(INPUT_DIR)\n",
    "assert INPUT_DIR.exists()"
   ]
  },
  {
   "cell_type": "code",
   "execution_count": 4,
   "id": "b89c7a90-c325-4557-9107-7ba95e8bf03a",
   "metadata": {
    "execution": {
     "iopub.execute_input": "2021-10-02T14:22:29.746716Z",
     "iopub.status.busy": "2021-10-02T14:22:29.746206Z",
     "iopub.status.idle": "2021-10-02T14:22:29.748389Z",
     "shell.execute_reply": "2021-10-02T14:22:29.748731Z"
    },
    "papermill": {
     "duration": 0.029649,
     "end_time": "2021-10-02T14:22:29.748851",
     "exception": false,
     "start_time": "2021-10-02T14:22:29.719202",
     "status": "completed"
    },
    "tags": []
   },
   "outputs": [
    {
     "data": {
      "text/plain": [
       "PosixPath('/opt/data/results/recount2/gene_set_enrichment/recount_data_prep_PLIER-gene_set_enrichment.pkl')"
      ]
     },
     "metadata": {},
     "output_type": "display_data"
    }
   ],
   "source": [
    "OUTPUT_FILE = DATASET_CONFIG[\"GENE_ENRICHMENT_COMBINED_FILE\"]\n",
    "display(OUTPUT_FILE)\n",
    "\n",
    "OUTPUT_FILE.parent.mkdir(parents=True, exist_ok=True)"
   ]
  },
  {
   "cell_type": "markdown",
   "id": "ec13a933-c48b-412b-9147-6aca9548be9f",
   "metadata": {
    "papermill": {
     "duration": 0.023331,
     "end_time": "2021-10-02T14:22:29.796118",
     "exception": false,
     "start_time": "2021-10-02T14:22:29.772787",
     "status": "completed"
    },
    "tags": []
   },
   "source": [
    "# Get data files"
   ]
  },
  {
   "cell_type": "code",
   "execution_count": 5,
   "id": "da9668d5-9922-42ed-bc4a-aec394343871",
   "metadata": {
    "execution": {
     "iopub.execute_input": "2021-10-02T14:22:29.847114Z",
     "iopub.status.busy": "2021-10-02T14:22:29.846654Z",
     "iopub.status.idle": "2021-10-02T14:22:29.848241Z",
     "shell.execute_reply": "2021-10-02T14:22:29.848592Z"
    },
    "papermill": {
     "duration": 0.029133,
     "end_time": "2021-10-02T14:22:29.848721",
     "exception": false,
     "start_time": "2021-10-02T14:22:29.819588",
     "status": "completed"
    },
    "tags": []
   },
   "outputs": [],
   "source": [
    "filename_pattern = re.compile(DATASET_CONFIG[\"GENE_ENRICHMENT_FILENAME_PATTERN\"])"
   ]
  },
  {
   "cell_type": "code",
   "execution_count": 6,
   "id": "b356cfbc-a3f5-430e-a90b-05b57bb8289e",
   "metadata": {
    "execution": {
     "iopub.execute_input": "2021-10-02T14:22:29.900238Z",
     "iopub.status.busy": "2021-10-02T14:22:29.899729Z",
     "iopub.status.idle": "2021-10-02T14:22:29.904856Z",
     "shell.execute_reply": "2021-10-02T14:22:29.904407Z"
    },
    "papermill": {
     "duration": 0.031972,
     "end_time": "2021-10-02T14:22:29.904950",
     "exception": false,
     "start_time": "2021-10-02T14:22:29.872978",
     "status": "completed"
    },
    "tags": []
   },
   "outputs": [
    {
     "data": {
      "text/plain": [
       "36"
      ]
     },
     "metadata": {},
     "output_type": "display_data"
    },
    {
     "data": {
      "text/plain": [
       "[PosixPath('/opt/data/results/recount2/gene_set_enrichment/recount_data_prep_PLIER-clustermatch_k2-SpectralClustering-enrichGO-BP_full.pkl'),\n",
       " PosixPath('/opt/data/results/recount2/gene_set_enrichment/recount_data_prep_PLIER-clustermatch_k2-SpectralClustering-enrichGO-BP_simplified_070.pkl'),\n",
       " PosixPath('/opt/data/results/recount2/gene_set_enrichment/recount_data_prep_PLIER-clustermatch_k2-SpectralClustering-enrichGO-CC_full.pkl'),\n",
       " PosixPath('/opt/data/results/recount2/gene_set_enrichment/recount_data_prep_PLIER-clustermatch_k2-SpectralClustering-enrichGO-CC_simplified_070.pkl'),\n",
       " PosixPath('/opt/data/results/recount2/gene_set_enrichment/recount_data_prep_PLIER-clustermatch_k2-SpectralClustering-enrichGO-MF_full.pkl')]"
      ]
     },
     "metadata": {},
     "output_type": "display_data"
    }
   ],
   "source": [
    "# get input data files according to Settings\n",
    "input_files = sorted(\n",
    "    [\n",
    "        f\n",
    "        for f in INPUT_DIR.iterdir()\n",
    "        if (m := re.search(filename_pattern, str(f))) is not None\n",
    "        #         and m.group(\"corr_method\") == CORRELATION_METHOD_NAME\n",
    "    ]\n",
    ")\n",
    "display(len(input_files))\n",
    "display(input_files[:5])\n",
    "\n",
    "assert len(input_files) > 0"
   ]
  },
  {
   "cell_type": "markdown",
   "id": "c8339679-216e-4ea3-a1f5-e2819c0bbf62",
   "metadata": {
    "papermill": {
     "duration": 0.024756,
     "end_time": "2021-10-02T14:22:29.955391",
     "exception": false,
     "start_time": "2021-10-02T14:22:29.930635",
     "status": "completed"
    },
    "tags": []
   },
   "source": [
    "## Preview data"
   ]
  },
  {
   "cell_type": "code",
   "execution_count": 7,
   "id": "2428dee3-38a1-48db-a053-510d95e641ea",
   "metadata": {
    "execution": {
     "iopub.execute_input": "2021-10-02T14:22:30.008672Z",
     "iopub.status.busy": "2021-10-02T14:22:30.008105Z",
     "iopub.status.idle": "2021-10-02T14:22:30.010979Z",
     "shell.execute_reply": "2021-10-02T14:22:30.010534Z"
    },
    "papermill": {
     "duration": 0.031278,
     "end_time": "2021-10-02T14:22:30.011074",
     "exception": false,
     "start_time": "2021-10-02T14:22:29.979796",
     "status": "completed"
    },
    "tags": []
   },
   "outputs": [
    {
     "data": {
      "text/plain": [
       "PosixPath('/opt/data/results/recount2/gene_set_enrichment/recount_data_prep_PLIER-clustermatch_k2-SpectralClustering-enrichGO-BP_full.pkl')"
      ]
     },
     "metadata": {},
     "output_type": "display_data"
    }
   ],
   "source": [
    "display(input_files[0])"
   ]
  },
  {
   "cell_type": "code",
   "execution_count": 8,
   "id": "c7c0bf99-4ac6-4a35-b18e-2677719d2239",
   "metadata": {
    "execution": {
     "iopub.execute_input": "2021-10-02T14:22:30.081013Z",
     "iopub.status.busy": "2021-10-02T14:22:30.065403Z",
     "iopub.status.idle": "2021-10-02T14:22:30.144341Z",
     "shell.execute_reply": "2021-10-02T14:22:30.143803Z"
    },
    "papermill": {
     "duration": 0.107899,
     "end_time": "2021-10-02T14:22:30.144460",
     "exception": false,
     "start_time": "2021-10-02T14:22:30.036561",
     "status": "completed"
    },
    "tags": []
   },
   "outputs": [],
   "source": [
    "_tmp_df = pd.read_pickle(input_files[0])"
   ]
  },
  {
   "cell_type": "code",
   "execution_count": 9,
   "id": "4a84e02e-ba04-43d4-a693-93d632cf6ba0",
   "metadata": {
    "execution": {
     "iopub.execute_input": "2021-10-02T14:22:30.205076Z",
     "iopub.status.busy": "2021-10-02T14:22:30.204532Z",
     "iopub.status.idle": "2021-10-02T14:22:30.207495Z",
     "shell.execute_reply": "2021-10-02T14:22:30.207057Z"
    },
    "papermill": {
     "duration": 0.031663,
     "end_time": "2021-10-02T14:22:30.207589",
     "exception": false,
     "start_time": "2021-10-02T14:22:30.175926",
     "status": "completed"
    },
    "tags": []
   },
   "outputs": [
    {
     "data": {
      "text/plain": [
       "(108849, 11)"
      ]
     },
     "execution_count": 9,
     "metadata": {},
     "output_type": "execute_result"
    }
   ],
   "source": [
    "_tmp_df.shape"
   ]
  },
  {
   "cell_type": "code",
   "execution_count": 10,
   "id": "b3ef488f-4c8f-4ea3-abb0-d93c3afc6dc4",
   "metadata": {
    "execution": {
     "iopub.execute_input": "2021-10-02T14:22:30.287411Z",
     "iopub.status.busy": "2021-10-02T14:22:30.262330Z",
     "iopub.status.idle": "2021-10-02T14:22:30.300199Z",
     "shell.execute_reply": "2021-10-02T14:22:30.299622Z"
    },
    "papermill": {
     "duration": 0.066839,
     "end_time": "2021-10-02T14:22:30.300318",
     "exception": false,
     "start_time": "2021-10-02T14:22:30.233479",
     "status": "completed"
    },
    "tags": []
   },
   "outputs": [
    {
     "data": {
      "text/html": [
       "<div>\n",
       "<style scoped>\n",
       "    .dataframe tbody tr th:only-of-type {\n",
       "        vertical-align: middle;\n",
       "    }\n",
       "\n",
       "    .dataframe tbody tr th {\n",
       "        vertical-align: top;\n",
       "    }\n",
       "\n",
       "    .dataframe thead th {\n",
       "        text-align: right;\n",
       "    }\n",
       "</style>\n",
       "<table border=\"1\" class=\"dataframe\">\n",
       "  <thead>\n",
       "    <tr style=\"text-align: right;\">\n",
       "      <th></th>\n",
       "      <th>cluster_id</th>\n",
       "      <th>go_term_id</th>\n",
       "      <th>go_term_desc</th>\n",
       "      <th>gene_ratio</th>\n",
       "      <th>bg_ratio</th>\n",
       "      <th>pvalue</th>\n",
       "      <th>fdr_per_partition</th>\n",
       "      <th>qvalue</th>\n",
       "      <th>geneID</th>\n",
       "      <th>gene_count</th>\n",
       "      <th>n_clusters</th>\n",
       "    </tr>\n",
       "  </thead>\n",
       "  <tbody>\n",
       "    <tr>\n",
       "      <th>94584</th>\n",
       "      <td>C90</td>\n",
       "      <td>GO:0009636</td>\n",
       "      <td>response to toxic substance</td>\n",
       "      <td>1/1</td>\n",
       "      <td>133/6519</td>\n",
       "      <td>0.020402</td>\n",
       "      <td>0.037203</td>\n",
       "      <td>0.010106</td>\n",
       "      <td>MT2A</td>\n",
       "      <td>1</td>\n",
       "      <td>150</td>\n",
       "    </tr>\n",
       "    <tr>\n",
       "      <th>16957</th>\n",
       "      <td>C26</td>\n",
       "      <td>GO:0048729</td>\n",
       "      <td>tissue morphogenesis</td>\n",
       "      <td>32/260</td>\n",
       "      <td>324/6519</td>\n",
       "      <td>0.000001</td>\n",
       "      <td>0.000134</td>\n",
       "      <td>0.000118</td>\n",
       "      <td>DSP/MDK/JAG1/HOXA5/FZD5/EPHA2/FZD2/VCL/LIF/PLO...</td>\n",
       "      <td>32</td>\n",
       "      <td>30</td>\n",
       "    </tr>\n",
       "    <tr>\n",
       "      <th>52770</th>\n",
       "      <td>C55</td>\n",
       "      <td>GO:0009259</td>\n",
       "      <td>ribonucleotide metabolic process</td>\n",
       "      <td>18/131</td>\n",
       "      <td>270/6519</td>\n",
       "      <td>0.000006</td>\n",
       "      <td>0.000389</td>\n",
       "      <td>0.000343</td>\n",
       "      <td>ELOVL6/ACACA/ACLY/PPAT/AK4/DLAT/GMPS/PDHX/PFKP...</td>\n",
       "      <td>18</td>\n",
       "      <td>75</td>\n",
       "    </tr>\n",
       "    <tr>\n",
       "      <th>24685</th>\n",
       "      <td>C31</td>\n",
       "      <td>GO:0051251</td>\n",
       "      <td>positive regulation of lymphocyte activation</td>\n",
       "      <td>17/210</td>\n",
       "      <td>215/6519</td>\n",
       "      <td>0.000527</td>\n",
       "      <td>0.016359</td>\n",
       "      <td>0.013781</td>\n",
       "      <td>IL18/IL23A/KLRK1/CD40/CD5/LCK/MYB/NOD2/PYCARD/...</td>\n",
       "      <td>17</td>\n",
       "      <td>40</td>\n",
       "    </tr>\n",
       "    <tr>\n",
       "      <th>7933</th>\n",
       "      <td>C4</td>\n",
       "      <td>GO:0099173</td>\n",
       "      <td>postsynapse organization</td>\n",
       "      <td>14/537</td>\n",
       "      <td>80/6519</td>\n",
       "      <td>0.005234</td>\n",
       "      <td>0.041536</td>\n",
       "      <td>0.033806</td>\n",
       "      <td>CDH2/SLC7A11/NRP2/LGMN/ITGA3/NLGN2/SPTBN2/ARHG...</td>\n",
       "      <td>14</td>\n",
       "      <td>15</td>\n",
       "    </tr>\n",
       "  </tbody>\n",
       "</table>\n",
       "</div>"
      ],
      "text/plain": [
       "      cluster_id  go_term_id                                  go_term_desc  \\\n",
       "94584        C90  GO:0009636                   response to toxic substance   \n",
       "16957        C26  GO:0048729                          tissue morphogenesis   \n",
       "52770        C55  GO:0009259              ribonucleotide metabolic process   \n",
       "24685        C31  GO:0051251  positive regulation of lymphocyte activation   \n",
       "7933          C4  GO:0099173                      postsynapse organization   \n",
       "\n",
       "      gene_ratio  bg_ratio    pvalue  fdr_per_partition    qvalue  \\\n",
       "94584        1/1  133/6519  0.020402           0.037203  0.010106   \n",
       "16957     32/260  324/6519  0.000001           0.000134  0.000118   \n",
       "52770     18/131  270/6519  0.000006           0.000389  0.000343   \n",
       "24685     17/210  215/6519  0.000527           0.016359  0.013781   \n",
       "7933      14/537   80/6519  0.005234           0.041536  0.033806   \n",
       "\n",
       "                                                  geneID  gene_count  \\\n",
       "94584                                               MT2A           1   \n",
       "16957  DSP/MDK/JAG1/HOXA5/FZD5/EPHA2/FZD2/VCL/LIF/PLO...          32   \n",
       "52770  ELOVL6/ACACA/ACLY/PPAT/AK4/DLAT/GMPS/PDHX/PFKP...          18   \n",
       "24685  IL18/IL23A/KLRK1/CD40/CD5/LCK/MYB/NOD2/PYCARD/...          17   \n",
       "7933   CDH2/SLC7A11/NRP2/LGMN/ITGA3/NLGN2/SPTBN2/ARHG...          14   \n",
       "\n",
       "       n_clusters  \n",
       "94584         150  \n",
       "16957          30  \n",
       "52770          75  \n",
       "24685          40  \n",
       "7933           15  "
      ]
     },
     "execution_count": 10,
     "metadata": {},
     "output_type": "execute_result"
    }
   ],
   "source": [
    "_tmp_df.sample(n=5, random_state=0)"
   ]
  },
  {
   "cell_type": "markdown",
   "id": "f4e3a617-e89c-40b2-8dbd-3bbd5a2d378a",
   "metadata": {
    "papermill": {
     "duration": 0.025669,
     "end_time": "2021-10-02T14:22:30.355926",
     "exception": false,
     "start_time": "2021-10-02T14:22:30.330257",
     "status": "completed"
    },
    "tags": []
   },
   "source": [
    "# Run"
   ]
  },
  {
   "cell_type": "markdown",
   "id": "9bad87b5-0f3e-4138-8d3e-ac50d9431520",
   "metadata": {
    "papermill": {
     "duration": 0.025255,
     "end_time": "2021-10-02T14:22:30.406955",
     "exception": false,
     "start_time": "2021-10-02T14:22:30.381700",
     "status": "completed"
    },
    "tags": []
   },
   "source": [
    "## Read data, convert dtypes, add new metrics"
   ]
  },
  {
   "cell_type": "code",
   "execution_count": 11,
   "id": "4c1d8f26-1a6f-4b3e-8a24-9a03d4e90bd2",
   "metadata": {
    "execution": {
     "iopub.execute_input": "2021-10-02T14:22:30.465485Z",
     "iopub.status.busy": "2021-10-02T14:22:30.465003Z",
     "iopub.status.idle": "2021-10-02T14:22:34.104494Z",
     "shell.execute_reply": "2021-10-02T14:22:34.104056Z"
    },
    "papermill": {
     "duration": 3.671369,
     "end_time": "2021-10-02T14:22:34.104596",
     "exception": false,
     "start_time": "2021-10-02T14:22:30.433227",
     "status": "completed"
    },
    "tags": []
   },
   "outputs": [
    {
     "name": "stderr",
     "output_type": "stream",
     "text": [
      "100%|███████████████████████████████████████████████████████████████| 36/36 [00:03<00:00,  9.91it/s]\n"
     ]
    }
   ],
   "source": [
    "all_results = []\n",
    "\n",
    "for f_full in tqdm(input_files, ncols=100):\n",
    "    f_name = f_full.name\n",
    "\n",
    "    f_data = pd.read_pickle(f_full)\n",
    "    # f_data = f_data.rename(\n",
    "    # columns={\n",
    "    # \"Count\": \"gene_count\",\n",
    "    # \"GeneRatio\": \"gene_ratio\",\n",
    "    # \"BgRatio\": \"bg_ratio\",\n",
    "    # \"ID\": \"go_term_id\",\n",
    "    # \"Description\": \"go_term_desc\",\n",
    "    # \"Cluster\": \"cluster_id\",\n",
    "    # \"clustering_n_clusters\": \"n_clusters\",\n",
    "    # \"p.adjust\": \"fdr_per_file\",\n",
    "    # }\n",
    "    # )\n",
    "\n",
    "    # genes in cluster\n",
    "    f_data = f_data.assign(\n",
    "        gene_total=f_data[\"gene_ratio\"].apply(lambda x: int(x.split(\"/\")[1]))\n",
    "    )\n",
    "\n",
    "    # background genes\n",
    "    f_data = f_data.assign(\n",
    "        bg_count=f_data[\"bg_ratio\"].apply(lambda x: int(x.split(\"/\")[0]))\n",
    "    )\n",
    "    f_data = f_data.assign(\n",
    "        bg_total=f_data[\"bg_ratio\"].apply(lambda x: int(x.split(\"/\")[1]))\n",
    "    )\n",
    "\n",
    "    # add metadata\n",
    "    metadata = re.search(filename_pattern, f_name)\n",
    "\n",
    "    f_data = f_data[\n",
    "        [\n",
    "            \"n_clusters\",\n",
    "            \"cluster_id\",\n",
    "            \"go_term_id\",\n",
    "            \"go_term_desc\",\n",
    "            \"gene_count\",\n",
    "            \"gene_total\",\n",
    "            \"gene_ratio\",\n",
    "            \"bg_count\",\n",
    "            \"bg_total\",\n",
    "            \"bg_ratio\",\n",
    "            \"pvalue\",\n",
    "            \"fdr_per_partition\",\n",
    "        ]\n",
    "    ]\n",
    "\n",
    "    # f_data[\"tissue\"] = metadata.group(\"tissue\")\n",
    "    # f_data[\"gene_sel_strategy\"] = metadata.group(\"gene_sel_strategy\")\n",
    "    f_data[\"corr_method\"] = metadata.group(\"corr_method\")\n",
    "    f_data[\"clust_method\"] = metadata.group(\"clust_method\")\n",
    "    f_data[\"enrich_func\"] = metadata.group(\"enrich_func\")\n",
    "    f_data[\"enrich_params\"] = metadata.group(\"enrich_params\")\n",
    "\n",
    "    all_results.append(f_data)"
   ]
  },
  {
   "cell_type": "code",
   "execution_count": 12,
   "id": "dba36444-b52f-4934-8950-786cd0c51a61",
   "metadata": {
    "execution": {
     "iopub.execute_input": "2021-10-02T14:22:34.176377Z",
     "iopub.status.busy": "2021-10-02T14:22:34.171532Z",
     "iopub.status.idle": "2021-10-02T14:22:35.316403Z",
     "shell.execute_reply": "2021-10-02T14:22:35.315802Z"
    },
    "papermill": {
     "duration": 1.181254,
     "end_time": "2021-10-02T14:22:35.316523",
     "exception": false,
     "start_time": "2021-10-02T14:22:34.135269",
     "status": "completed"
    },
    "tags": []
   },
   "outputs": [],
   "source": [
    "df = pd.concat(all_results, ignore_index=True)\n",
    "\n",
    "# to category dtype\n",
    "df[\"cluster_id\"] = df[\"cluster_id\"].astype(\"category\")\n",
    "df[\"go_term_id\"] = df[\"go_term_id\"].astype(\"category\")\n",
    "df[\"go_term_desc\"] = df[\"go_term_desc\"].astype(\"category\")\n",
    "# df[\"tissue\"] = df[\"tissue\"].astype(\"category\")\n",
    "# df[\"gene_sel_strategy\"] = df[\"gene_sel_strategy\"].astype(\"category\")\n",
    "df[\"corr_method\"] = df[\"corr_method\"].astype(\"category\")\n",
    "df[\"clust_method\"] = df[\"clust_method\"].astype(\"category\")\n",
    "df[\"enrich_func\"] = df[\"enrich_func\"].astype(\"category\")\n",
    "df[\"enrich_params\"] = df[\"enrich_params\"].astype(\"category\")\n",
    "\n",
    "# convert to int32\n",
    "df[\"n_clusters\"] = df[\"n_clusters\"].astype(\"int32\")\n",
    "df[\"gene_count\"] = df[\"gene_count\"].astype(\"int32\")\n",
    "df[\"gene_total\"] = df[\"gene_total\"].astype(\"int32\")\n",
    "df[\"bg_count\"] = df[\"bg_count\"].astype(\"int32\")\n",
    "df[\"bg_total\"] = df[\"bg_total\"].astype(\"int32\")\n",
    "\n",
    "# convert ratios to numbers\n",
    "df[\"gene_ratio\"] = df[\"gene_count\"].div(df[\"gene_total\"])\n",
    "df[\"bg_ratio\"] = df[\"bg_count\"].div(df[\"bg_total\"])\n",
    "\n",
    "# add other metrics\n",
    "df[\"rich_factor\"] = df[\"gene_count\"].div(df[\"bg_count\"])\n",
    "df[\"fold_enrich\"] = df[\"gene_ratio\"].div(df[\"bg_ratio\"])"
   ]
  },
  {
   "cell_type": "code",
   "execution_count": 13,
   "id": "b3054d6e-52d4-4edb-ab9c-a8d5cb1783c6",
   "metadata": {
    "execution": {
     "iopub.execute_input": "2021-10-02T14:22:35.387035Z",
     "iopub.status.busy": "2021-10-02T14:22:35.386553Z",
     "iopub.status.idle": "2021-10-02T14:22:35.649945Z",
     "shell.execute_reply": "2021-10-02T14:22:35.649447Z"
    },
    "papermill": {
     "duration": 0.296388,
     "end_time": "2021-10-02T14:22:35.650052",
     "exception": false,
     "start_time": "2021-10-02T14:22:35.353664",
     "status": "completed"
    },
    "tags": []
   },
   "outputs": [],
   "source": [
    "# adjust for multiple testing across all results\n",
    "adj_pval = multipletests(df[\"pvalue\"], alpha=0.05, method=\"fdr_bh\")\n",
    "df = df.assign(fdr=adj_pval[1])"
   ]
  },
  {
   "cell_type": "code",
   "execution_count": 14,
   "id": "840e3a37-4f34-4689-98d3-79f2ee1a9f5b",
   "metadata": {
    "execution": {
     "iopub.execute_input": "2021-10-02T14:22:35.716975Z",
     "iopub.status.busy": "2021-10-02T14:22:35.716376Z",
     "iopub.status.idle": "2021-10-02T14:22:35.719170Z",
     "shell.execute_reply": "2021-10-02T14:22:35.718706Z"
    },
    "papermill": {
     "duration": 0.036806,
     "end_time": "2021-10-02T14:22:35.719268",
     "exception": false,
     "start_time": "2021-10-02T14:22:35.682462",
     "status": "completed"
    },
    "tags": []
   },
   "outputs": [
    {
     "data": {
      "text/plain": [
       "(1247015, 19)"
      ]
     },
     "execution_count": 14,
     "metadata": {},
     "output_type": "execute_result"
    }
   ],
   "source": [
    "df.shape"
   ]
  },
  {
   "cell_type": "code",
   "execution_count": 15,
   "id": "e066d3c0-1e6b-42de-8c12-90d0f403c423",
   "metadata": {
    "execution": {
     "iopub.execute_input": "2021-10-02T14:22:35.784254Z",
     "iopub.status.busy": "2021-10-02T14:22:35.783657Z",
     "iopub.status.idle": "2021-10-02T14:22:35.786131Z",
     "shell.execute_reply": "2021-10-02T14:22:35.786474Z"
    },
    "papermill": {
     "duration": 0.036716,
     "end_time": "2021-10-02T14:22:35.786595",
     "exception": false,
     "start_time": "2021-10-02T14:22:35.749879",
     "status": "completed"
    },
    "tags": []
   },
   "outputs": [
    {
     "data": {
      "text/plain": [
       "n_clusters              int32\n",
       "cluster_id           category\n",
       "go_term_id           category\n",
       "go_term_desc         category\n",
       "gene_count              int32\n",
       "gene_total              int32\n",
       "gene_ratio            float64\n",
       "bg_count                int32\n",
       "bg_total                int32\n",
       "bg_ratio              float64\n",
       "pvalue                float64\n",
       "fdr_per_partition     float64\n",
       "corr_method          category\n",
       "clust_method         category\n",
       "enrich_func          category\n",
       "enrich_params        category\n",
       "rich_factor           float64\n",
       "fold_enrich           float64\n",
       "fdr                   float64\n",
       "dtype: object"
      ]
     },
     "metadata": {},
     "output_type": "display_data"
    }
   ],
   "source": [
    "display(df.dtypes)\n",
    "assert df.dtypes.loc[\"cluster_id\"] == \"category\""
   ]
  },
  {
   "cell_type": "code",
   "execution_count": 16,
   "id": "a0aec274-c723-4af5-b381-863aada8ce98",
   "metadata": {
    "execution": {
     "iopub.execute_input": "2021-10-02T14:22:35.850578Z",
     "iopub.status.busy": "2021-10-02T14:22:35.850134Z",
     "iopub.status.idle": "2021-10-02T14:22:35.920249Z",
     "shell.execute_reply": "2021-10-02T14:22:35.919759Z"
    },
    "papermill": {
     "duration": 0.103407,
     "end_time": "2021-10-02T14:22:35.920349",
     "exception": false,
     "start_time": "2021-10-02T14:22:35.816942",
     "status": "completed"
    },
    "tags": []
   },
   "outputs": [
    {
     "data": {
      "text/html": [
       "<div>\n",
       "<style scoped>\n",
       "    .dataframe tbody tr th:only-of-type {\n",
       "        vertical-align: middle;\n",
       "    }\n",
       "\n",
       "    .dataframe tbody tr th {\n",
       "        vertical-align: top;\n",
       "    }\n",
       "\n",
       "    .dataframe thead th {\n",
       "        text-align: right;\n",
       "    }\n",
       "</style>\n",
       "<table border=\"1\" class=\"dataframe\">\n",
       "  <thead>\n",
       "    <tr style=\"text-align: right;\">\n",
       "      <th></th>\n",
       "      <th>n_clusters</th>\n",
       "      <th>cluster_id</th>\n",
       "      <th>go_term_id</th>\n",
       "      <th>go_term_desc</th>\n",
       "      <th>gene_count</th>\n",
       "      <th>gene_total</th>\n",
       "      <th>gene_ratio</th>\n",
       "      <th>bg_count</th>\n",
       "      <th>bg_total</th>\n",
       "      <th>bg_ratio</th>\n",
       "      <th>pvalue</th>\n",
       "      <th>fdr_per_partition</th>\n",
       "      <th>corr_method</th>\n",
       "      <th>clust_method</th>\n",
       "      <th>enrich_func</th>\n",
       "      <th>enrich_params</th>\n",
       "      <th>rich_factor</th>\n",
       "      <th>fold_enrich</th>\n",
       "      <th>fdr</th>\n",
       "    </tr>\n",
       "  </thead>\n",
       "  <tbody>\n",
       "    <tr>\n",
       "      <th>405570</th>\n",
       "      <td>125</td>\n",
       "      <td>C52</td>\n",
       "      <td>GO:0061733</td>\n",
       "      <td>peptide-lysine-N-acetyltransferase activity</td>\n",
       "      <td>3</td>\n",
       "      <td>65</td>\n",
       "      <td>0.046154</td>\n",
       "      <td>18</td>\n",
       "      <td>6524</td>\n",
       "      <td>0.002759</td>\n",
       "      <td>0.000692</td>\n",
       "      <td>0.008004</td>\n",
       "      <td>clustermatch_k2to5</td>\n",
       "      <td>SpectralClustering</td>\n",
       "      <td>enrichGO</td>\n",
       "      <td>MF_full</td>\n",
       "      <td>0.166667</td>\n",
       "      <td>16.728205</td>\n",
       "      <td>0.001085</td>\n",
       "    </tr>\n",
       "    <tr>\n",
       "      <th>99488</th>\n",
       "      <td>175</td>\n",
       "      <td>C44</td>\n",
       "      <td>GO:0050657</td>\n",
       "      <td>nucleic acid transport</td>\n",
       "      <td>7</td>\n",
       "      <td>80</td>\n",
       "      <td>0.087500</td>\n",
       "      <td>112</td>\n",
       "      <td>6519</td>\n",
       "      <td>0.017181</td>\n",
       "      <td>0.000414</td>\n",
       "      <td>0.023512</td>\n",
       "      <td>clustermatch_k2</td>\n",
       "      <td>SpectralClustering</td>\n",
       "      <td>enrichGO</td>\n",
       "      <td>BP_full</td>\n",
       "      <td>0.062500</td>\n",
       "      <td>5.092969</td>\n",
       "      <td>0.000720</td>\n",
       "    </tr>\n",
       "    <tr>\n",
       "      <th>896742</th>\n",
       "      <td>200</td>\n",
       "      <td>C91</td>\n",
       "      <td>GO:0042254</td>\n",
       "      <td>ribosome biogenesis</td>\n",
       "      <td>1</td>\n",
       "      <td>1</td>\n",
       "      <td>1.000000</td>\n",
       "      <td>118</td>\n",
       "      <td>6519</td>\n",
       "      <td>0.018101</td>\n",
       "      <td>0.018101</td>\n",
       "      <td>0.049087</td>\n",
       "      <td>spearman_abs</td>\n",
       "      <td>SpectralClustering</td>\n",
       "      <td>enrichGO</td>\n",
       "      <td>BP_full</td>\n",
       "      <td>0.008475</td>\n",
       "      <td>55.245763</td>\n",
       "      <td>0.018373</td>\n",
       "    </tr>\n",
       "    <tr>\n",
       "      <th>966550</th>\n",
       "      <td>175</td>\n",
       "      <td>C100</td>\n",
       "      <td>GO:0098793</td>\n",
       "      <td>presynapse</td>\n",
       "      <td>11</td>\n",
       "      <td>129</td>\n",
       "      <td>0.085271</td>\n",
       "      <td>222</td>\n",
       "      <td>6555</td>\n",
       "      <td>0.033867</td>\n",
       "      <td>0.004168</td>\n",
       "      <td>0.027095</td>\n",
       "      <td>spearman_abs</td>\n",
       "      <td>SpectralClustering</td>\n",
       "      <td>enrichGO</td>\n",
       "      <td>CC_full</td>\n",
       "      <td>0.049550</td>\n",
       "      <td>2.517809</td>\n",
       "      <td>0.004694</td>\n",
       "    </tr>\n",
       "    <tr>\n",
       "      <th>149404</th>\n",
       "      <td>200</td>\n",
       "      <td>C168</td>\n",
       "      <td>GO:0008285</td>\n",
       "      <td>negative regulation of cell population prolife...</td>\n",
       "      <td>9</td>\n",
       "      <td>36</td>\n",
       "      <td>0.250000</td>\n",
       "      <td>359</td>\n",
       "      <td>6519</td>\n",
       "      <td>0.055070</td>\n",
       "      <td>0.000105</td>\n",
       "      <td>0.002581</td>\n",
       "      <td>clustermatch_k2</td>\n",
       "      <td>SpectralClustering</td>\n",
       "      <td>enrichGO</td>\n",
       "      <td>BP_simplified_070</td>\n",
       "      <td>0.025070</td>\n",
       "      <td>4.539694</td>\n",
       "      <td>0.000239</td>\n",
       "    </tr>\n",
       "  </tbody>\n",
       "</table>\n",
       "</div>"
      ],
      "text/plain": [
       "        n_clusters cluster_id  go_term_id  \\\n",
       "405570         125        C52  GO:0061733   \n",
       "99488          175        C44  GO:0050657   \n",
       "896742         200        C91  GO:0042254   \n",
       "966550         175       C100  GO:0098793   \n",
       "149404         200       C168  GO:0008285   \n",
       "\n",
       "                                             go_term_desc  gene_count  \\\n",
       "405570        peptide-lysine-N-acetyltransferase activity           3   \n",
       "99488                              nucleic acid transport           7   \n",
       "896742                                ribosome biogenesis           1   \n",
       "966550                                         presynapse          11   \n",
       "149404  negative regulation of cell population prolife...           9   \n",
       "\n",
       "        gene_total  gene_ratio  bg_count  bg_total  bg_ratio    pvalue  \\\n",
       "405570          65    0.046154        18      6524  0.002759  0.000692   \n",
       "99488           80    0.087500       112      6519  0.017181  0.000414   \n",
       "896742           1    1.000000       118      6519  0.018101  0.018101   \n",
       "966550         129    0.085271       222      6555  0.033867  0.004168   \n",
       "149404          36    0.250000       359      6519  0.055070  0.000105   \n",
       "\n",
       "        fdr_per_partition         corr_method        clust_method enrich_func  \\\n",
       "405570           0.008004  clustermatch_k2to5  SpectralClustering    enrichGO   \n",
       "99488            0.023512     clustermatch_k2  SpectralClustering    enrichGO   \n",
       "896742           0.049087        spearman_abs  SpectralClustering    enrichGO   \n",
       "966550           0.027095        spearman_abs  SpectralClustering    enrichGO   \n",
       "149404           0.002581     clustermatch_k2  SpectralClustering    enrichGO   \n",
       "\n",
       "            enrich_params  rich_factor  fold_enrich       fdr  \n",
       "405570            MF_full     0.166667    16.728205  0.001085  \n",
       "99488             BP_full     0.062500     5.092969  0.000720  \n",
       "896742            BP_full     0.008475    55.245763  0.018373  \n",
       "966550            CC_full     0.049550     2.517809  0.004694  \n",
       "149404  BP_simplified_070     0.025070     4.539694  0.000239  "
      ]
     },
     "execution_count": 16,
     "metadata": {},
     "output_type": "execute_result"
    }
   ],
   "source": [
    "df.sample(n=5)"
   ]
  },
  {
   "cell_type": "markdown",
   "id": "cae1ec0b-98c2-44a9-906a-74d716dad777",
   "metadata": {
    "papermill": {
     "duration": 0.037674,
     "end_time": "2021-10-02T14:22:36.013588",
     "exception": false,
     "start_time": "2021-10-02T14:22:35.975914",
     "status": "completed"
    },
    "tags": []
   },
   "source": [
    "## Some stats"
   ]
  },
  {
   "cell_type": "code",
   "execution_count": 17,
   "id": "be827957-e573-485b-aca5-2224157b0979",
   "metadata": {
    "execution": {
     "iopub.execute_input": "2021-10-02T14:22:36.079429Z",
     "iopub.status.busy": "2021-10-02T14:22:36.078979Z",
     "iopub.status.idle": "2021-10-02T14:22:36.125667Z",
     "shell.execute_reply": "2021-10-02T14:22:36.125174Z"
    },
    "papermill": {
     "duration": 0.080896,
     "end_time": "2021-10-02T14:22:36.125770",
     "exception": false,
     "start_time": "2021-10-02T14:22:36.044874",
     "status": "completed"
    },
    "tags": []
   },
   "outputs": [
    {
     "data": {
      "text/plain": [
       "count     1.247015e+06\n",
       "mean      1.927088e-03\n",
       "std       4.054476e-03\n",
       "min      6.607322e-144\n",
       "25%       9.933220e-06\n",
       "50%       4.080055e-04\n",
       "75%       2.075541e-03\n",
       "max       4.971338e-02\n",
       "Name: fdr, dtype: float64"
      ]
     },
     "metadata": {},
     "output_type": "display_data"
    }
   ],
   "source": [
    "display(df[\"fdr\"].describe())\n",
    "assert df[\"fdr\"].min() > 0.0\n",
    "assert df[\"fdr\"].max() < 1.0"
   ]
  },
  {
   "cell_type": "code",
   "execution_count": 18,
   "id": "a972063c-92f6-4b90-a4eb-353959f0f4d3",
   "metadata": {
    "execution": {
     "iopub.execute_input": "2021-10-02T14:22:36.192527Z",
     "iopub.status.busy": "2021-10-02T14:22:36.192082Z",
     "iopub.status.idle": "2021-10-02T14:22:36.200474Z",
     "shell.execute_reply": "2021-10-02T14:22:36.200017Z"
    },
    "papermill": {
     "duration": 0.042176,
     "end_time": "2021-10-02T14:22:36.200571",
     "exception": false,
     "start_time": "2021-10-02T14:22:36.158395",
     "status": "completed"
    },
    "tags": []
   },
   "outputs": [
    {
     "data": {
      "text/plain": [
       "array([  2,   5,  10,  15,  20,  25,  30,  35,  40,  45,  50,  55,  60,\n",
       "        65,  70,  75,  80,  85,  90,  95, 100, 125, 150, 175, 200],\n",
       "      dtype=int32)"
      ]
     },
     "execution_count": 18,
     "metadata": {},
     "output_type": "execute_result"
    }
   ],
   "source": [
    "df[\"n_clusters\"].unique()"
   ]
  },
  {
   "cell_type": "code",
   "execution_count": 19,
   "id": "875a58e1-36d5-4176-a445-f9cbc2eb3771",
   "metadata": {
    "execution": {
     "iopub.execute_input": "2021-10-02T14:22:36.267758Z",
     "iopub.status.busy": "2021-10-02T14:22:36.267309Z",
     "iopub.status.idle": "2021-10-02T14:22:36.268967Z",
     "shell.execute_reply": "2021-10-02T14:22:36.269326Z"
    },
    "papermill": {
     "duration": 0.036483,
     "end_time": "2021-10-02T14:22:36.269439",
     "exception": false,
     "start_time": "2021-10-02T14:22:36.232956",
     "status": "completed"
    },
    "tags": []
   },
   "outputs": [],
   "source": [
    "# df[\"tissue\"].unique()"
   ]
  },
  {
   "cell_type": "code",
   "execution_count": 20,
   "id": "5bfeb305-7bed-45ff-9b9a-e50acb6cb628",
   "metadata": {
    "execution": {
     "iopub.execute_input": "2021-10-02T14:22:36.336345Z",
     "iopub.status.busy": "2021-10-02T14:22:36.335836Z",
     "iopub.status.idle": "2021-10-02T14:22:36.337850Z",
     "shell.execute_reply": "2021-10-02T14:22:36.337441Z"
    },
    "papermill": {
     "duration": 0.036383,
     "end_time": "2021-10-02T14:22:36.337946",
     "exception": false,
     "start_time": "2021-10-02T14:22:36.301563",
     "status": "completed"
    },
    "tags": []
   },
   "outputs": [],
   "source": [
    "# df[\"gene_sel_strategy\"].unique()"
   ]
  },
  {
   "cell_type": "code",
   "execution_count": 21,
   "id": "44e32dfa-c125-4f7b-adfc-ee72ee72b79d",
   "metadata": {
    "execution": {
     "iopub.execute_input": "2021-10-02T14:22:36.404968Z",
     "iopub.status.busy": "2021-10-02T14:22:36.404532Z",
     "iopub.status.idle": "2021-10-02T14:22:36.413744Z",
     "shell.execute_reply": "2021-10-02T14:22:36.413349Z"
    },
    "papermill": {
     "duration": 0.043536,
     "end_time": "2021-10-02T14:22:36.413840",
     "exception": false,
     "start_time": "2021-10-02T14:22:36.370304",
     "status": "completed"
    },
    "tags": []
   },
   "outputs": [
    {
     "data": {
      "text/plain": [
       "['clustermatch_k2', 'clustermatch_k2to5', 'pearson_abs', 'pearson_full', 'spearman_abs', 'spearman_full']\n",
       "Categories (6, object): ['clustermatch_k2', 'clustermatch_k2to5', 'pearson_abs', 'pearson_full', 'spearman_abs', 'spearman_full']"
      ]
     },
     "execution_count": 21,
     "metadata": {},
     "output_type": "execute_result"
    }
   ],
   "source": [
    "df[\"corr_method\"].unique()"
   ]
  },
  {
   "cell_type": "code",
   "execution_count": 22,
   "id": "a71d840c-b779-4aa6-9bef-89f72d0ccec9",
   "metadata": {
    "execution": {
     "iopub.execute_input": "2021-10-02T14:22:36.482159Z",
     "iopub.status.busy": "2021-10-02T14:22:36.481718Z",
     "iopub.status.idle": "2021-10-02T14:22:36.490653Z",
     "shell.execute_reply": "2021-10-02T14:22:36.490232Z"
    },
    "papermill": {
     "duration": 0.043425,
     "end_time": "2021-10-02T14:22:36.490751",
     "exception": false,
     "start_time": "2021-10-02T14:22:36.447326",
     "status": "completed"
    },
    "tags": []
   },
   "outputs": [
    {
     "data": {
      "text/plain": [
       "['SpectralClustering']\n",
       "Categories (1, object): ['SpectralClustering']"
      ]
     },
     "execution_count": 22,
     "metadata": {},
     "output_type": "execute_result"
    }
   ],
   "source": [
    "df[\"clust_method\"].unique()"
   ]
  },
  {
   "cell_type": "code",
   "execution_count": 23,
   "id": "960126ba-22b6-469c-9883-3e9bf93c0585",
   "metadata": {
    "execution": {
     "iopub.execute_input": "2021-10-02T14:22:36.559874Z",
     "iopub.status.busy": "2021-10-02T14:22:36.559428Z",
     "iopub.status.idle": "2021-10-02T14:22:36.568737Z",
     "shell.execute_reply": "2021-10-02T14:22:36.568281Z"
    },
    "papermill": {
     "duration": 0.044383,
     "end_time": "2021-10-02T14:22:36.568835",
     "exception": false,
     "start_time": "2021-10-02T14:22:36.524452",
     "status": "completed"
    },
    "tags": []
   },
   "outputs": [
    {
     "data": {
      "text/plain": [
       "['BP_full', 'BP_simplified_070', 'CC_full', 'CC_simplified_070', 'MF_full', 'MF_simplified_070']\n",
       "Categories (6, object): ['BP_full', 'BP_simplified_070', 'CC_full', 'CC_simplified_070', 'MF_full', 'MF_simplified_070']"
      ]
     },
     "execution_count": 23,
     "metadata": {},
     "output_type": "execute_result"
    }
   ],
   "source": [
    "df[\"enrich_params\"].unique()"
   ]
  },
  {
   "cell_type": "markdown",
   "id": "40b67978-8a8a-4d7a-bb2f-5956778a9fc5",
   "metadata": {
    "papermill": {
     "duration": 0.032775,
     "end_time": "2021-10-02T14:22:36.636001",
     "exception": false,
     "start_time": "2021-10-02T14:22:36.603226",
     "status": "completed"
    },
    "tags": []
   },
   "source": [
    "## Testing"
   ]
  },
  {
   "cell_type": "code",
   "execution_count": 24,
   "id": "14fc32be-f703-4db3-9396-ae85ef365eb7",
   "metadata": {
    "execution": {
     "iopub.execute_input": "2021-10-02T14:22:36.705307Z",
     "iopub.status.busy": "2021-10-02T14:22:36.704827Z",
     "iopub.status.idle": "2021-10-02T14:22:36.715311Z",
     "shell.execute_reply": "2021-10-02T14:22:36.715666Z"
    },
    "papermill": {
     "duration": 0.047214,
     "end_time": "2021-10-02T14:22:36.715792",
     "exception": false,
     "start_time": "2021-10-02T14:22:36.668578",
     "status": "completed"
    },
    "tags": []
   },
   "outputs": [],
   "source": [
    "assert not df.isna().any().any()"
   ]
  },
  {
   "cell_type": "code",
   "execution_count": 25,
   "id": "6a2463a7-7d0e-4465-b044-1f6057533150",
   "metadata": {
    "execution": {
     "iopub.execute_input": "2021-10-02T14:22:36.784746Z",
     "iopub.status.busy": "2021-10-02T14:22:36.784287Z",
     "iopub.status.idle": "2021-10-02T14:22:36.785770Z",
     "shell.execute_reply": "2021-10-02T14:22:36.786114Z"
    },
    "papermill": {
     "duration": 0.037434,
     "end_time": "2021-10-02T14:22:36.786231",
     "exception": false,
     "start_time": "2021-10-02T14:22:36.748797",
     "status": "completed"
    },
    "tags": []
   },
   "outputs": [],
   "source": [
    "# test if values are correctly calculated\n",
    "# _tmp = df[\n",
    "#    (df.go_term_id == \"GO:0035383\")\n",
    "#    & (df.n_clusters == 65)\n",
    "#    & (df.cluster_id == \"C21\")\n",
    "#    # & (df.tissue == \"adipose_subcutaneous\")\n",
    "#    # & (df.gene_sel_strategy == \"var_pc_log2\")\n",
    "#    & (df.corr_method == \"clustermatch\")\n",
    "#    & (df.clust_method == \"SpectralClustering\")\n",
    "#    & (df.enrich_func == \"enrichGO\")\n",
    "#    & (df.enrich_params == \"BP_full\")\n",
    "# ]\n",
    "# assert _tmp.shape[0] == 1\n",
    "# _tmp = _tmp.iloc[0]\n",
    "#\n",
    "# assert _tmp[\"gene_count\"] == 15\n",
    "# assert _tmp[\"gene_total\"] == 329\n",
    "# assert _tmp[\"gene_ratio\"] == 15.0 / 329.0\n",
    "# assert _tmp[\"bg_count\"] == 34\n",
    "# assert _tmp[\"bg_total\"] == 3528\n",
    "# assert _tmp[\"bg_ratio\"] == 34.0 / 3528.0\n",
    "# assert _tmp[\"rich_factor\"] == 15.0 / 34.0\n",
    "# assert _tmp[\"fold_enrich\"] == (15.0 / 329.0) / (34.0 / 3528.0)"
   ]
  },
  {
   "cell_type": "markdown",
   "id": "a0a93db6-b4bc-4d9e-a241-bcc2842f2656",
   "metadata": {
    "papermill": {
     "duration": 0.032225,
     "end_time": "2021-10-02T14:22:36.851933",
     "exception": false,
     "start_time": "2021-10-02T14:22:36.819708",
     "status": "completed"
    },
    "tags": []
   },
   "source": [
    "# Save"
   ]
  },
  {
   "cell_type": "code",
   "execution_count": 26,
   "id": "83d6fae7-eea9-491c-995e-7b9d96b05c11",
   "metadata": {
    "execution": {
     "iopub.execute_input": "2021-10-02T14:22:36.920155Z",
     "iopub.status.busy": "2021-10-02T14:22:36.919628Z",
     "iopub.status.idle": "2021-10-02T14:22:37.265104Z",
     "shell.execute_reply": "2021-10-02T14:22:37.264594Z"
    },
    "papermill": {
     "duration": 0.381219,
     "end_time": "2021-10-02T14:22:37.265201",
     "exception": false,
     "start_time": "2021-10-02T14:22:36.883982",
     "status": "completed"
    },
    "tags": []
   },
   "outputs": [],
   "source": [
    "import rpy2.robjects as ro\n",
    "from rpy2.robjects import pandas2ri\n",
    "from rpy2.robjects.conversion import localconverter\n",
    "\n",
    "saveRDS = ro.r[\"saveRDS\"]\n",
    "readRDS = ro.r[\"readRDS\"]"
   ]
  },
  {
   "cell_type": "code",
   "execution_count": 27,
   "id": "39125ea1-5691-40c0-8c0e-ceee96112085",
   "metadata": {
    "execution": {
     "iopub.execute_input": "2021-10-02T14:22:37.334309Z",
     "iopub.status.busy": "2021-10-02T14:22:37.333856Z",
     "iopub.status.idle": "2021-10-02T14:22:37.335295Z",
     "shell.execute_reply": "2021-10-02T14:22:37.335655Z"
    },
    "papermill": {
     "duration": 0.037584,
     "end_time": "2021-10-02T14:22:37.335771",
     "exception": false,
     "start_time": "2021-10-02T14:22:37.298187",
     "status": "completed"
    },
    "tags": []
   },
   "outputs": [],
   "source": [
    "data = df"
   ]
  },
  {
   "cell_type": "markdown",
   "id": "bb392932-2012-444f-8f25-37905c44e7c3",
   "metadata": {
    "papermill": {
     "duration": 0.032552,
     "end_time": "2021-10-02T14:22:37.401484",
     "exception": false,
     "start_time": "2021-10-02T14:22:37.368932",
     "status": "completed"
    },
    "tags": []
   },
   "source": [
    "## Pickle"
   ]
  },
  {
   "cell_type": "code",
   "execution_count": 28,
   "id": "c9c1ef2b-858b-4dfe-8ee7-31b20be691a8",
   "metadata": {
    "execution": {
     "iopub.execute_input": "2021-10-02T14:22:37.470548Z",
     "iopub.status.busy": "2021-10-02T14:22:37.469958Z",
     "iopub.status.idle": "2021-10-02T14:22:37.472791Z",
     "shell.execute_reply": "2021-10-02T14:22:37.472360Z"
    },
    "papermill": {
     "duration": 0.03907,
     "end_time": "2021-10-02T14:22:37.472884",
     "exception": false,
     "start_time": "2021-10-02T14:22:37.433814",
     "status": "completed"
    },
    "tags": []
   },
   "outputs": [
    {
     "data": {
      "text/plain": [
       "PosixPath('/opt/data/results/recount2/gene_set_enrichment/recount_data_prep_PLIER-gene_set_enrichment.pkl')"
      ]
     },
     "metadata": {},
     "output_type": "display_data"
    }
   ],
   "source": [
    "display(OUTPUT_FILE)"
   ]
  },
  {
   "cell_type": "code",
   "execution_count": 29,
   "id": "bed62eb6-8023-46a5-a6b0-dd0329e2d51b",
   "metadata": {
    "execution": {
     "iopub.execute_input": "2021-10-02T14:22:37.543005Z",
     "iopub.status.busy": "2021-10-02T14:22:37.542551Z",
     "iopub.status.idle": "2021-10-02T14:22:37.606327Z",
     "shell.execute_reply": "2021-10-02T14:22:37.605811Z"
    },
    "papermill": {
     "duration": 0.100334,
     "end_time": "2021-10-02T14:22:37.606433",
     "exception": false,
     "start_time": "2021-10-02T14:22:37.506099",
     "status": "completed"
    },
    "tags": []
   },
   "outputs": [],
   "source": [
    "data.to_pickle(OUTPUT_FILE)"
   ]
  },
  {
   "cell_type": "markdown",
   "id": "83727a87-aebd-47a7-a477-74ad6185accc",
   "metadata": {
    "papermill": {
     "duration": 0.033418,
     "end_time": "2021-10-02T14:22:37.675675",
     "exception": false,
     "start_time": "2021-10-02T14:22:37.642257",
     "status": "completed"
    },
    "tags": []
   },
   "source": [
    "## RDS"
   ]
  },
  {
   "cell_type": "code",
   "execution_count": 30,
   "id": "23cfacdb-e131-42b0-a37b-aec899913e32",
   "metadata": {
    "execution": {
     "iopub.execute_input": "2021-10-02T14:22:37.746789Z",
     "iopub.status.busy": "2021-10-02T14:22:37.746240Z",
     "iopub.status.idle": "2021-10-02T14:22:37.749142Z",
     "shell.execute_reply": "2021-10-02T14:22:37.748701Z"
    },
    "papermill": {
     "duration": 0.04006,
     "end_time": "2021-10-02T14:22:37.749235",
     "exception": false,
     "start_time": "2021-10-02T14:22:37.709175",
     "status": "completed"
    },
    "tags": []
   },
   "outputs": [
    {
     "data": {
      "text/plain": [
       "PosixPath('/opt/data/results/recount2/gene_set_enrichment/recount_data_prep_PLIER-gene_set_enrichment.rds')"
      ]
     },
     "metadata": {},
     "output_type": "display_data"
    }
   ],
   "source": [
    "output_rds_file = OUTPUT_FILE.with_suffix(\".rds\")\n",
    "display(output_rds_file)"
   ]
  },
  {
   "cell_type": "code",
   "execution_count": 31,
   "id": "67e72cd4-cf60-420f-a011-0ec188abf178",
   "metadata": {
    "execution": {
     "iopub.execute_input": "2021-10-02T14:22:37.821070Z",
     "iopub.status.busy": "2021-10-02T14:22:37.820563Z",
     "iopub.status.idle": "2021-10-02T14:23:25.145895Z",
     "shell.execute_reply": "2021-10-02T14:23:25.145218Z"
    },
    "papermill": {
     "duration": 47.36304,
     "end_time": "2021-10-02T14:23:25.146035",
     "exception": false,
     "start_time": "2021-10-02T14:22:37.782995",
     "status": "completed"
    },
    "tags": []
   },
   "outputs": [],
   "source": [
    "with localconverter(ro.default_converter + pandas2ri.converter):\n",
    "    data_r = ro.conversion.py2rpy(data)"
   ]
  },
  {
   "cell_type": "code",
   "execution_count": 32,
   "id": "a6f614b7-d94b-4d91-8774-d60656d19cff",
   "metadata": {
    "execution": {
     "iopub.execute_input": "2021-10-02T14:23:25.236378Z",
     "iopub.status.busy": "2021-10-02T14:23:25.235904Z",
     "iopub.status.idle": "2021-10-02T14:23:25.245160Z",
     "shell.execute_reply": "2021-10-02T14:23:25.245518Z"
    },
    "papermill": {
     "duration": 0.053862,
     "end_time": "2021-10-02T14:23:25.245642",
     "exception": false,
     "start_time": "2021-10-02T14:23:25.191780",
     "status": "completed"
    },
    "tags": []
   },
   "outputs": [
    {
     "data": {
      "text/html": [
       "\n",
       "        <span>R/rpy2 DataFrame (1247015 x 19)</span>\n",
       "        <table>\n",
       "          <thead>\n",
       "            <tr>\n",
       "              \n",
       "              <th>n_clusters</th>\n",
       "              \n",
       "              <th>cluster_id</th>\n",
       "              \n",
       "              <th>go_term_id</th>\n",
       "              \n",
       "              <th>...</th>\n",
       "              \n",
       "              <th>rich_factor</th>\n",
       "              \n",
       "              <th>fold_enrich</th>\n",
       "              \n",
       "              <th>fdr</th>\n",
       "              \n",
       "            </tr>\n",
       "          </thead>\n",
       "          <tbody>\n",
       "          \n",
       "          <tr>\n",
       "            \n",
       "            <td>\n",
       "              2\n",
       "            </td>\n",
       "            \n",
       "            <td>\n",
       "              C1\n",
       "            </td>\n",
       "            \n",
       "            <td>\n",
       "              GO:00...\n",
       "            </td>\n",
       "            \n",
       "            <td>\n",
       "              ...\n",
       "            </td>\n",
       "            \n",
       "            <td>\n",
       "              0.803965\n",
       "            </td>\n",
       "            \n",
       "            <td>\n",
       "              1.714441\n",
       "            </td>\n",
       "            \n",
       "            <td>\n",
       "              0.000000\n",
       "            </td>\n",
       "            \n",
       "          </tr>\n",
       "          \n",
       "          <tr>\n",
       "            \n",
       "            <td>\n",
       "              2\n",
       "            </td>\n",
       "            \n",
       "            <td>\n",
       "              C0\n",
       "            </td>\n",
       "            \n",
       "            <td>\n",
       "              GO:00...\n",
       "            </td>\n",
       "            \n",
       "            <td>\n",
       "              \n",
       "            </td>\n",
       "            \n",
       "            <td>\n",
       "              0.872774\n",
       "            </td>\n",
       "            \n",
       "            <td>\n",
       "              1.643446\n",
       "            </td>\n",
       "            \n",
       "            <td>\n",
       "              0.000000\n",
       "            </td>\n",
       "            \n",
       "          </tr>\n",
       "          \n",
       "          <tr>\n",
       "            \n",
       "            <td>\n",
       "              2\n",
       "            </td>\n",
       "            \n",
       "            <td>\n",
       "              C0\n",
       "            </td>\n",
       "            \n",
       "            <td>\n",
       "              GO:00...\n",
       "            </td>\n",
       "            \n",
       "            <td>\n",
       "              \n",
       "            </td>\n",
       "            \n",
       "            <td>\n",
       "              0.856383\n",
       "            </td>\n",
       "            \n",
       "            <td>\n",
       "              1.612583\n",
       "            </td>\n",
       "            \n",
       "            <td>\n",
       "              0.000000\n",
       "            </td>\n",
       "            \n",
       "          </tr>\n",
       "          \n",
       "          <tr>\n",
       "            \n",
       "            <td>\n",
       "              2\n",
       "            </td>\n",
       "            \n",
       "            <td>\n",
       "              C0\n",
       "            </td>\n",
       "            \n",
       "            <td>\n",
       "              GO:00...\n",
       "            </td>\n",
       "            \n",
       "            <td>\n",
       "              \n",
       "            </td>\n",
       "            \n",
       "            <td>\n",
       "              0.843990\n",
       "            </td>\n",
       "            \n",
       "            <td>\n",
       "              1.589246\n",
       "            </td>\n",
       "            \n",
       "            <td>\n",
       "              0.000000\n",
       "            </td>\n",
       "            \n",
       "          </tr>\n",
       "          \n",
       "          <tr>\n",
       "            \n",
       "            <td>\n",
       "              ...\n",
       "            </td>\n",
       "            \n",
       "            <td>\n",
       "              ...\n",
       "            </td>\n",
       "            \n",
       "            <td>\n",
       "              ...\n",
       "            </td>\n",
       "            \n",
       "            <td>\n",
       "              \n",
       "            </td>\n",
       "            \n",
       "            <td>\n",
       "              ...\n",
       "            </td>\n",
       "            \n",
       "            <td>\n",
       "              ...\n",
       "            </td>\n",
       "            \n",
       "            <td>\n",
       "              ...\n",
       "            </td>\n",
       "            \n",
       "          </tr>\n",
       "          \n",
       "          <tr>\n",
       "            \n",
       "            <td>\n",
       "              200\n",
       "            </td>\n",
       "            \n",
       "            <td>\n",
       "              C170\n",
       "            </td>\n",
       "            \n",
       "            <td>\n",
       "              GO:00...\n",
       "            </td>\n",
       "            \n",
       "            <td>\n",
       "              \n",
       "            </td>\n",
       "            \n",
       "            <td>\n",
       "              0.037975\n",
       "            </td>\n",
       "            \n",
       "            <td>\n",
       "              4.346436\n",
       "            </td>\n",
       "            \n",
       "            <td>\n",
       "              0.002953\n",
       "            </td>\n",
       "            \n",
       "          </tr>\n",
       "          \n",
       "          <tr>\n",
       "            \n",
       "            <td>\n",
       "              200\n",
       "            </td>\n",
       "            \n",
       "            <td>\n",
       "              C170\n",
       "            </td>\n",
       "            \n",
       "            <td>\n",
       "              GO:00...\n",
       "            </td>\n",
       "            \n",
       "            <td>\n",
       "              \n",
       "            </td>\n",
       "            \n",
       "            <td>\n",
       "              0.037975\n",
       "            </td>\n",
       "            \n",
       "            <td>\n",
       "              4.346436\n",
       "            </td>\n",
       "            \n",
       "            <td>\n",
       "              0.002953\n",
       "            </td>\n",
       "            \n",
       "          </tr>\n",
       "          \n",
       "          <tr>\n",
       "            \n",
       "            <td>\n",
       "              200\n",
       "            </td>\n",
       "            \n",
       "            <td>\n",
       "              C36\n",
       "            </td>\n",
       "            \n",
       "            <td>\n",
       "              GO:00...\n",
       "            </td>\n",
       "            \n",
       "            <td>\n",
       "              \n",
       "            </td>\n",
       "            \n",
       "            <td>\n",
       "              0.086207\n",
       "            </td>\n",
       "            \n",
       "            <td>\n",
       "              4.197118\n",
       "            </td>\n",
       "            \n",
       "            <td>\n",
       "              0.006950\n",
       "            </td>\n",
       "            \n",
       "          </tr>\n",
       "          \n",
       "          <tr>\n",
       "            \n",
       "            <td>\n",
       "              200\n",
       "            </td>\n",
       "            \n",
       "            <td>\n",
       "              C36\n",
       "            </td>\n",
       "            \n",
       "            <td>\n",
       "              GO:00...\n",
       "            </td>\n",
       "            \n",
       "            <td>\n",
       "              \n",
       "            </td>\n",
       "            \n",
       "            <td>\n",
       "              0.108108\n",
       "            </td>\n",
       "            \n",
       "            <td>\n",
       "              5.263413\n",
       "            </td>\n",
       "            \n",
       "            <td>\n",
       "              0.007094\n",
       "            </td>\n",
       "            \n",
       "          </tr>\n",
       "          \n",
       "          </tbody>\n",
       "        </table>\n",
       "    "
      ],
      "text/plain": [
       "<rpy2.robjects.vectors.DataFrame object at 0x7f83dde4ca40> [RTYPES.VECSXP]\n",
       "R classes: ('data.frame',)\n",
       "[IntSexpVe..., IntSexpVe..., IntSexpVe..., IntSexpVe..., ..., IntSexpVe..., FloatSexp..., FloatSexp..., FloatSexp...]\n",
       "  n_clusters: <class 'rpy2.robjects.vectors.IntVector'>\n",
       "  <rpy2.robjects.vectors.IntVector object at 0x7f8402137cc0> [RTYPES.INTSXP]\n",
       "R classes: ('integer',)\n",
       "[2, 2, 2, 2, ..., 200, 200, 200, 200]\n",
       "  cluster_id: <class 'rpy2.robjects.vectors.FactorVector'>\n",
       "  <rpy2.robjects.vectors.FactorVector object at 0x7f83dde0b340> [RTYPES.INTSXP]\n",
       "R classes: ('factor',)\n",
       "[C1, C0, C0, C0, ..., C170, C170, C36, C36]\n",
       "  go_term_id: <class 'rpy2.robjects.vectors.FactorVector'>\n",
       "  <rpy2.robjects.vectors.FactorVector object at 0x7f83e9991080> [RTYPES.INTSXP]\n",
       "R classes: ('factor',)\n",
       "[GO:00..., GO:00..., GO:00..., GO:00..., ..., GO:00..., GO:00..., GO:00..., GO:00...]\n",
       "  go_term_desc: <class 'rpy2.robjects.vectors.FactorVector'>\n",
       "  <rpy2.robjects.vectors.FactorVector object at 0x7f83e2b33f40> [RTYPES.INTSXP]\n",
       "R classes: ('factor',)\n",
       "[infla..., RNA p..., trans..., pepti..., ..., chann..., passi..., SNARE..., calci...]\n",
       "...\n",
       "  gene_total: <class 'rpy2.robjects.vectors.FactorVector'>\n",
       "  <rpy2.robjects.vectors.FactorVector object at 0x7f83e2ad1c80> [RTYPES.INTSXP]\n",
       "R classes: ('factor',)\n",
       "[BP_full, BP_full, BP_full, BP_full, ..., MF_si..., MF_si..., MF_si..., MF_si...]\n",
       "  gene_ratio: <class 'rpy2.robjects.vectors.FloatVector'>\n",
       "  <rpy2.robjects.vectors.FloatVector object at 0x7f83dde4cf00> [RTYPES.REALSXP]\n",
       "R classes: ('numeric',)\n",
       "[0.803965, 0.872774, 0.856383, 0.843990, ..., 0.037975, 0.037975, 0.086207, 0.108108]\n",
       "  bg_count: <class 'rpy2.robjects.vectors.FloatVector'>\n",
       "  <rpy2.robjects.vectors.FloatVector object at 0x7f83dde8c6c0> [RTYPES.REALSXP]\n",
       "R classes: ('numeric',)\n",
       "[1.714441, 1.643446, 1.612583, 1.589246, ..., 4.346436, 4.346436, 4.197118, 5.263413]\n",
       "  bg_total: <class 'rpy2.robjects.vectors.FloatVector'>\n",
       "  <rpy2.robjects.vectors.FloatVector object at 0x7f83dde8c680> [RTYPES.REALSXP]\n",
       "R classes: ('numeric',)\n",
       "[0.000000, 0.000000, 0.000000, 0.000000, ..., 0.002953, 0.002953, 0.006950, 0.007094]"
      ]
     },
     "execution_count": 32,
     "metadata": {},
     "output_type": "execute_result"
    }
   ],
   "source": [
    "data_r"
   ]
  },
  {
   "cell_type": "code",
   "execution_count": 33,
   "id": "4fbabd33-fec9-46fd-a17f-a53c376078ff",
   "metadata": {
    "execution": {
     "iopub.execute_input": "2021-10-02T14:23:25.319154Z",
     "iopub.status.busy": "2021-10-02T14:23:25.318709Z",
     "iopub.status.idle": "2021-10-02T14:23:31.625706Z",
     "shell.execute_reply": "2021-10-02T14:23:31.625253Z"
    },
    "papermill": {
     "duration": 6.34434,
     "end_time": "2021-10-02T14:23:31.625803",
     "exception": false,
     "start_time": "2021-10-02T14:23:25.281463",
     "status": "completed"
    },
    "tags": []
   },
   "outputs": [
    {
     "data": {
      "text/plain": [
       "<rpy2.rinterface_lib.sexp.NULLType object at 0x7f83e9991680> [RTYPES.NILSXP]"
      ]
     },
     "execution_count": 33,
     "metadata": {},
     "output_type": "execute_result"
    }
   ],
   "source": [
    "saveRDS(data_r, str(output_rds_file))"
   ]
  },
  {
   "cell_type": "code",
   "execution_count": 34,
   "id": "520b5ed1-01b4-4434-aebc-5a6daa29a00e",
   "metadata": {
    "execution": {
     "iopub.execute_input": "2021-10-02T14:23:31.697924Z",
     "iopub.status.busy": "2021-10-02T14:23:31.697454Z",
     "iopub.status.idle": "2021-10-02T14:23:32.587714Z",
     "shell.execute_reply": "2021-10-02T14:23:32.587250Z"
    },
    "papermill": {
     "duration": 0.92747,
     "end_time": "2021-10-02T14:23:32.587813",
     "exception": false,
     "start_time": "2021-10-02T14:23:31.660343",
     "status": "completed"
    },
    "tags": []
   },
   "outputs": [],
   "source": [
    "# testing\n",
    "data_r = readRDS(str(output_rds_file))"
   ]
  },
  {
   "cell_type": "code",
   "execution_count": 35,
   "id": "64645a31-f003-49f2-8ceb-a1b12c9945d5",
   "metadata": {
    "execution": {
     "iopub.execute_input": "2021-10-02T14:23:32.662208Z",
     "iopub.status.busy": "2021-10-02T14:23:32.661717Z",
     "iopub.status.idle": "2021-10-02T14:23:59.609864Z",
     "shell.execute_reply": "2021-10-02T14:23:59.609398Z"
    },
    "papermill": {
     "duration": 26.986533,
     "end_time": "2021-10-02T14:23:59.609971",
     "exception": false,
     "start_time": "2021-10-02T14:23:32.623438",
     "status": "completed"
    },
    "tags": []
   },
   "outputs": [],
   "source": [
    "with localconverter(ro.default_converter + pandas2ri.converter):\n",
    "    data_again = ro.conversion.rpy2py(data_r)\n",
    "\n",
    "    # convert index to int, otherwise it's converted to string\n",
    "    data_again.index = data_again.index.astype(int)"
   ]
  },
  {
   "cell_type": "code",
   "execution_count": 36,
   "id": "a0c26630-f83e-4928-938a-1061fb39abab",
   "metadata": {
    "execution": {
     "iopub.execute_input": "2021-10-02T14:23:59.685366Z",
     "iopub.status.busy": "2021-10-02T14:23:59.684823Z",
     "iopub.status.idle": "2021-10-02T14:23:59.687788Z",
     "shell.execute_reply": "2021-10-02T14:23:59.687339Z"
    },
    "papermill": {
     "duration": 0.041003,
     "end_time": "2021-10-02T14:23:59.687917",
     "exception": false,
     "start_time": "2021-10-02T14:23:59.646914",
     "status": "completed"
    },
    "tags": []
   },
   "outputs": [
    {
     "data": {
      "text/plain": [
       "(1247015, 19)"
      ]
     },
     "execution_count": 36,
     "metadata": {},
     "output_type": "execute_result"
    }
   ],
   "source": [
    "data_again.shape"
   ]
  },
  {
   "cell_type": "code",
   "execution_count": 37,
   "id": "1640e806-1aa5-442f-beb2-b8d3c23ab084",
   "metadata": {
    "execution": {
     "iopub.execute_input": "2021-10-02T14:23:59.776041Z",
     "iopub.status.busy": "2021-10-02T14:23:59.775466Z",
     "iopub.status.idle": "2021-10-02T14:23:59.777846Z",
     "shell.execute_reply": "2021-10-02T14:23:59.778181Z"
    },
    "papermill": {
     "duration": 0.053958,
     "end_time": "2021-10-02T14:23:59.778298",
     "exception": false,
     "start_time": "2021-10-02T14:23:59.724340",
     "status": "completed"
    },
    "tags": []
   },
   "outputs": [
    {
     "data": {
      "text/html": [
       "<div>\n",
       "<style scoped>\n",
       "    .dataframe tbody tr th:only-of-type {\n",
       "        vertical-align: middle;\n",
       "    }\n",
       "\n",
       "    .dataframe tbody tr th {\n",
       "        vertical-align: top;\n",
       "    }\n",
       "\n",
       "    .dataframe thead th {\n",
       "        text-align: right;\n",
       "    }\n",
       "</style>\n",
       "<table border=\"1\" class=\"dataframe\">\n",
       "  <thead>\n",
       "    <tr style=\"text-align: right;\">\n",
       "      <th></th>\n",
       "      <th>n_clusters</th>\n",
       "      <th>cluster_id</th>\n",
       "      <th>go_term_id</th>\n",
       "      <th>go_term_desc</th>\n",
       "      <th>gene_count</th>\n",
       "      <th>gene_total</th>\n",
       "      <th>gene_ratio</th>\n",
       "      <th>bg_count</th>\n",
       "      <th>bg_total</th>\n",
       "      <th>bg_ratio</th>\n",
       "      <th>pvalue</th>\n",
       "      <th>fdr_per_partition</th>\n",
       "      <th>corr_method</th>\n",
       "      <th>clust_method</th>\n",
       "      <th>enrich_func</th>\n",
       "      <th>enrich_params</th>\n",
       "      <th>rich_factor</th>\n",
       "      <th>fold_enrich</th>\n",
       "      <th>fdr</th>\n",
       "    </tr>\n",
       "  </thead>\n",
       "  <tbody>\n",
       "    <tr>\n",
       "      <th>0</th>\n",
       "      <td>2</td>\n",
       "      <td>C1</td>\n",
       "      <td>GO:0006954</td>\n",
       "      <td>inflammatory response</td>\n",
       "      <td>365</td>\n",
       "      <td>3057</td>\n",
       "      <td>0.119398</td>\n",
       "      <td>454</td>\n",
       "      <td>6519</td>\n",
       "      <td>0.069643</td>\n",
       "      <td>3.274320e-52</td>\n",
       "      <td>1.562178e-48</td>\n",
       "      <td>clustermatch_k2</td>\n",
       "      <td>SpectralClustering</td>\n",
       "      <td>enrichGO</td>\n",
       "      <td>BP_full</td>\n",
       "      <td>0.803965</td>\n",
       "      <td>1.714441</td>\n",
       "      <td>6.924073e-50</td>\n",
       "    </tr>\n",
       "    <tr>\n",
       "      <th>1</th>\n",
       "      <td>2</td>\n",
       "      <td>C0</td>\n",
       "      <td>GO:0006396</td>\n",
       "      <td>RNA processing</td>\n",
       "      <td>343</td>\n",
       "      <td>3462</td>\n",
       "      <td>0.099076</td>\n",
       "      <td>393</td>\n",
       "      <td>6519</td>\n",
       "      <td>0.060285</td>\n",
       "      <td>4.199581e-50</td>\n",
       "      <td>2.020839e-46</td>\n",
       "      <td>clustermatch_k2</td>\n",
       "      <td>SpectralClustering</td>\n",
       "      <td>enrichGO</td>\n",
       "      <td>BP_full</td>\n",
       "      <td>0.872774</td>\n",
       "      <td>1.643446</td>\n",
       "      <td>8.120547e-48</td>\n",
       "    </tr>\n",
       "    <tr>\n",
       "      <th>2</th>\n",
       "      <td>2</td>\n",
       "      <td>C0</td>\n",
       "      <td>GO:0006412</td>\n",
       "      <td>translation</td>\n",
       "      <td>322</td>\n",
       "      <td>3462</td>\n",
       "      <td>0.093010</td>\n",
       "      <td>376</td>\n",
       "      <td>6519</td>\n",
       "      <td>0.057678</td>\n",
       "      <td>4.688221e-43</td>\n",
       "      <td>1.127986e-39</td>\n",
       "      <td>clustermatch_k2</td>\n",
       "      <td>SpectralClustering</td>\n",
       "      <td>enrichGO</td>\n",
       "      <td>BP_full</td>\n",
       "      <td>0.856383</td>\n",
       "      <td>1.612583</td>\n",
       "      <td>6.488660e-41</td>\n",
       "    </tr>\n",
       "    <tr>\n",
       "      <th>3</th>\n",
       "      <td>2</td>\n",
       "      <td>C0</td>\n",
       "      <td>GO:0043043</td>\n",
       "      <td>peptide biosynthetic process</td>\n",
       "      <td>330</td>\n",
       "      <td>3462</td>\n",
       "      <td>0.095321</td>\n",
       "      <td>391</td>\n",
       "      <td>6519</td>\n",
       "      <td>0.059979</td>\n",
       "      <td>3.054631e-41</td>\n",
       "      <td>4.899628e-38</td>\n",
       "      <td>clustermatch_k2</td>\n",
       "      <td>SpectralClustering</td>\n",
       "      <td>enrichGO</td>\n",
       "      <td>BP_full</td>\n",
       "      <td>0.843990</td>\n",
       "      <td>1.589246</td>\n",
       "      <td>3.857779e-39</td>\n",
       "    </tr>\n",
       "    <tr>\n",
       "      <th>4</th>\n",
       "      <td>2</td>\n",
       "      <td>C1</td>\n",
       "      <td>GO:0007186</td>\n",
       "      <td>G protein-coupled receptor signaling pathway</td>\n",
       "      <td>322</td>\n",
       "      <td>3057</td>\n",
       "      <td>0.105332</td>\n",
       "      <td>419</td>\n",
       "      <td>6519</td>\n",
       "      <td>0.064274</td>\n",
       "      <td>2.778931e-38</td>\n",
       "      <td>6.629140e-35</td>\n",
       "      <td>clustermatch_k2</td>\n",
       "      <td>SpectralClustering</td>\n",
       "      <td>enrichGO</td>\n",
       "      <td>BP_full</td>\n",
       "      <td>0.768496</td>\n",
       "      <td>1.638805</td>\n",
       "      <td>3.029963e-36</td>\n",
       "    </tr>\n",
       "  </tbody>\n",
       "</table>\n",
       "</div>"
      ],
      "text/plain": [
       "   n_clusters cluster_id  go_term_id  \\\n",
       "0           2         C1  GO:0006954   \n",
       "1           2         C0  GO:0006396   \n",
       "2           2         C0  GO:0006412   \n",
       "3           2         C0  GO:0043043   \n",
       "4           2         C1  GO:0007186   \n",
       "\n",
       "                                   go_term_desc  gene_count  gene_total  \\\n",
       "0                         inflammatory response         365        3057   \n",
       "1                                RNA processing         343        3462   \n",
       "2                                   translation         322        3462   \n",
       "3                  peptide biosynthetic process         330        3462   \n",
       "4  G protein-coupled receptor signaling pathway         322        3057   \n",
       "\n",
       "   gene_ratio  bg_count  bg_total  bg_ratio        pvalue  fdr_per_partition  \\\n",
       "0    0.119398       454      6519  0.069643  3.274320e-52       1.562178e-48   \n",
       "1    0.099076       393      6519  0.060285  4.199581e-50       2.020839e-46   \n",
       "2    0.093010       376      6519  0.057678  4.688221e-43       1.127986e-39   \n",
       "3    0.095321       391      6519  0.059979  3.054631e-41       4.899628e-38   \n",
       "4    0.105332       419      6519  0.064274  2.778931e-38       6.629140e-35   \n",
       "\n",
       "       corr_method        clust_method enrich_func enrich_params  rich_factor  \\\n",
       "0  clustermatch_k2  SpectralClustering    enrichGO       BP_full     0.803965   \n",
       "1  clustermatch_k2  SpectralClustering    enrichGO       BP_full     0.872774   \n",
       "2  clustermatch_k2  SpectralClustering    enrichGO       BP_full     0.856383   \n",
       "3  clustermatch_k2  SpectralClustering    enrichGO       BP_full     0.843990   \n",
       "4  clustermatch_k2  SpectralClustering    enrichGO       BP_full     0.768496   \n",
       "\n",
       "   fold_enrich           fdr  \n",
       "0     1.714441  6.924073e-50  \n",
       "1     1.643446  8.120547e-48  \n",
       "2     1.612583  6.488660e-41  \n",
       "3     1.589246  3.857779e-39  \n",
       "4     1.638805  3.029963e-36  "
      ]
     },
     "execution_count": 37,
     "metadata": {},
     "output_type": "execute_result"
    }
   ],
   "source": [
    "data_again.head()"
   ]
  },
  {
   "cell_type": "code",
   "execution_count": 38,
   "id": "9e968267-09e7-449f-9d14-8203cd6c7bfc",
   "metadata": {
    "execution": {
     "iopub.execute_input": "2021-10-02T14:23:59.852532Z",
     "iopub.status.busy": "2021-10-02T14:23:59.852064Z",
     "iopub.status.idle": "2021-10-02T14:24:57.090967Z",
     "shell.execute_reply": "2021-10-02T14:24:57.090573Z"
    },
    "papermill": {
     "duration": 57.277233,
     "end_time": "2021-10-02T14:24:57.091071",
     "exception": false,
     "start_time": "2021-10-02T14:23:59.813838",
     "status": "completed"
    },
    "tags": []
   },
   "outputs": [],
   "source": [
    "pd.testing.assert_frame_equal(\n",
    "    data,\n",
    "    data_again,\n",
    "    check_names=False,  # do not check \"name\" attribute of index and column\n",
    "    check_exact=True,  # since this is a binary format, it should match exactly\n",
    ")"
   ]
  },
  {
   "cell_type": "markdown",
   "id": "ee5cd5ae-a935-46fb-bfc7-5d66ff274fe2",
   "metadata": {
    "papermill": {
     "duration": 0.03475,
     "end_time": "2021-10-02T14:24:57.162048",
     "exception": false,
     "start_time": "2021-10-02T14:24:57.127298",
     "status": "completed"
    },
    "tags": []
   },
   "source": [
    "## tsv.gz"
   ]
  },
  {
   "cell_type": "code",
   "execution_count": 39,
   "id": "cea96351-64fe-4bbf-a575-5587a22b79ec",
   "metadata": {
    "execution": {
     "iopub.execute_input": "2021-10-02T14:24:57.236137Z",
     "iopub.status.busy": "2021-10-02T14:24:57.235509Z",
     "iopub.status.idle": "2021-10-02T14:24:57.238630Z",
     "shell.execute_reply": "2021-10-02T14:24:57.238182Z"
    },
    "papermill": {
     "duration": 0.041751,
     "end_time": "2021-10-02T14:24:57.238725",
     "exception": false,
     "start_time": "2021-10-02T14:24:57.196974",
     "status": "completed"
    },
    "tags": []
   },
   "outputs": [
    {
     "data": {
      "text/plain": [
       "PosixPath('/opt/data/results/recount2/gene_set_enrichment/recount_data_prep_PLIER-gene_set_enrichment.tsv.gz')"
      ]
     },
     "metadata": {},
     "output_type": "display_data"
    }
   ],
   "source": [
    "output_text_file = OUTPUT_FILE.with_suffix(\".tsv.gz\")\n",
    "display(output_text_file)"
   ]
  },
  {
   "cell_type": "code",
   "execution_count": 40,
   "id": "09330074-7cea-42d4-bc13-6af3131da12e",
   "metadata": {
    "execution": {
     "iopub.execute_input": "2021-10-02T14:24:57.315013Z",
     "iopub.status.busy": "2021-10-02T14:24:57.314548Z",
     "iopub.status.idle": "2021-10-02T14:25:34.321787Z",
     "shell.execute_reply": "2021-10-02T14:25:34.320511Z"
    },
    "papermill": {
     "duration": 37.046388,
     "end_time": "2021-10-02T14:25:34.322036",
     "exception": false,
     "start_time": "2021-10-02T14:24:57.275648",
     "status": "completed"
    },
    "tags": []
   },
   "outputs": [],
   "source": [
    "data.to_csv(output_text_file, sep=\"\\t\", index=False, float_format=\"%.5e\")"
   ]
  },
  {
   "cell_type": "code",
   "execution_count": 41,
   "id": "2f960ae8-d392-4768-9d2f-f7ed267ec60e",
   "metadata": {
    "execution": {
     "iopub.execute_input": "2021-10-02T14:25:34.398976Z",
     "iopub.status.busy": "2021-10-02T14:25:34.398523Z",
     "iopub.status.idle": "2021-10-02T14:25:38.164017Z",
     "shell.execute_reply": "2021-10-02T14:25:38.163561Z"
    },
    "papermill": {
     "duration": 3.805231,
     "end_time": "2021-10-02T14:25:38.164134",
     "exception": false,
     "start_time": "2021-10-02T14:25:34.358903",
     "status": "completed"
    },
    "tags": []
   },
   "outputs": [],
   "source": [
    "# testing\n",
    "data_again = pd.read_csv(output_text_file, sep=\"\\t\")  # , index_col=0)"
   ]
  },
  {
   "cell_type": "code",
   "execution_count": 42,
   "id": "04b581d2-6fc6-42b1-8f62-c166cb70986c",
   "metadata": {
    "execution": {
     "iopub.execute_input": "2021-10-02T14:25:38.242819Z",
     "iopub.status.busy": "2021-10-02T14:25:38.242312Z",
     "iopub.status.idle": "2021-10-02T14:25:38.244753Z",
     "shell.execute_reply": "2021-10-02T14:25:38.244372Z"
    },
    "papermill": {
     "duration": 0.041728,
     "end_time": "2021-10-02T14:25:38.244848",
     "exception": false,
     "start_time": "2021-10-02T14:25:38.203120",
     "status": "completed"
    },
    "tags": []
   },
   "outputs": [
    {
     "data": {
      "text/plain": [
       "(1247015, 19)"
      ]
     },
     "execution_count": 42,
     "metadata": {},
     "output_type": "execute_result"
    }
   ],
   "source": [
    "data_again.shape"
   ]
  },
  {
   "cell_type": "code",
   "execution_count": 43,
   "id": "7dc97eb0-dac3-4a23-aaa0-fc2e351dcd15",
   "metadata": {
    "execution": {
     "iopub.execute_input": "2021-10-02T14:25:38.333167Z",
     "iopub.status.busy": "2021-10-02T14:25:38.332678Z",
     "iopub.status.idle": "2021-10-02T14:25:38.334803Z",
     "shell.execute_reply": "2021-10-02T14:25:38.335169Z"
    },
    "papermill": {
     "duration": 0.053155,
     "end_time": "2021-10-02T14:25:38.335287",
     "exception": false,
     "start_time": "2021-10-02T14:25:38.282132",
     "status": "completed"
    },
    "tags": []
   },
   "outputs": [
    {
     "data": {
      "text/html": [
       "<div>\n",
       "<style scoped>\n",
       "    .dataframe tbody tr th:only-of-type {\n",
       "        vertical-align: middle;\n",
       "    }\n",
       "\n",
       "    .dataframe tbody tr th {\n",
       "        vertical-align: top;\n",
       "    }\n",
       "\n",
       "    .dataframe thead th {\n",
       "        text-align: right;\n",
       "    }\n",
       "</style>\n",
       "<table border=\"1\" class=\"dataframe\">\n",
       "  <thead>\n",
       "    <tr style=\"text-align: right;\">\n",
       "      <th></th>\n",
       "      <th>n_clusters</th>\n",
       "      <th>cluster_id</th>\n",
       "      <th>go_term_id</th>\n",
       "      <th>go_term_desc</th>\n",
       "      <th>gene_count</th>\n",
       "      <th>gene_total</th>\n",
       "      <th>gene_ratio</th>\n",
       "      <th>bg_count</th>\n",
       "      <th>bg_total</th>\n",
       "      <th>bg_ratio</th>\n",
       "      <th>pvalue</th>\n",
       "      <th>fdr_per_partition</th>\n",
       "      <th>corr_method</th>\n",
       "      <th>clust_method</th>\n",
       "      <th>enrich_func</th>\n",
       "      <th>enrich_params</th>\n",
       "      <th>rich_factor</th>\n",
       "      <th>fold_enrich</th>\n",
       "      <th>fdr</th>\n",
       "    </tr>\n",
       "  </thead>\n",
       "  <tbody>\n",
       "    <tr>\n",
       "      <th>0</th>\n",
       "      <td>2</td>\n",
       "      <td>C1</td>\n",
       "      <td>GO:0006954</td>\n",
       "      <td>inflammatory response</td>\n",
       "      <td>365</td>\n",
       "      <td>3057</td>\n",
       "      <td>0.119398</td>\n",
       "      <td>454</td>\n",
       "      <td>6519</td>\n",
       "      <td>0.069643</td>\n",
       "      <td>3.274320e-52</td>\n",
       "      <td>1.562180e-48</td>\n",
       "      <td>clustermatch_k2</td>\n",
       "      <td>SpectralClustering</td>\n",
       "      <td>enrichGO</td>\n",
       "      <td>BP_full</td>\n",
       "      <td>0.803965</td>\n",
       "      <td>1.71444</td>\n",
       "      <td>6.924070e-50</td>\n",
       "    </tr>\n",
       "    <tr>\n",
       "      <th>1</th>\n",
       "      <td>2</td>\n",
       "      <td>C0</td>\n",
       "      <td>GO:0006396</td>\n",
       "      <td>RNA processing</td>\n",
       "      <td>343</td>\n",
       "      <td>3462</td>\n",
       "      <td>0.099076</td>\n",
       "      <td>393</td>\n",
       "      <td>6519</td>\n",
       "      <td>0.060285</td>\n",
       "      <td>4.199580e-50</td>\n",
       "      <td>2.020840e-46</td>\n",
       "      <td>clustermatch_k2</td>\n",
       "      <td>SpectralClustering</td>\n",
       "      <td>enrichGO</td>\n",
       "      <td>BP_full</td>\n",
       "      <td>0.872774</td>\n",
       "      <td>1.64345</td>\n",
       "      <td>8.120550e-48</td>\n",
       "    </tr>\n",
       "    <tr>\n",
       "      <th>2</th>\n",
       "      <td>2</td>\n",
       "      <td>C0</td>\n",
       "      <td>GO:0006412</td>\n",
       "      <td>translation</td>\n",
       "      <td>322</td>\n",
       "      <td>3462</td>\n",
       "      <td>0.093010</td>\n",
       "      <td>376</td>\n",
       "      <td>6519</td>\n",
       "      <td>0.057678</td>\n",
       "      <td>4.688220e-43</td>\n",
       "      <td>1.127990e-39</td>\n",
       "      <td>clustermatch_k2</td>\n",
       "      <td>SpectralClustering</td>\n",
       "      <td>enrichGO</td>\n",
       "      <td>BP_full</td>\n",
       "      <td>0.856383</td>\n",
       "      <td>1.61258</td>\n",
       "      <td>6.488660e-41</td>\n",
       "    </tr>\n",
       "    <tr>\n",
       "      <th>3</th>\n",
       "      <td>2</td>\n",
       "      <td>C0</td>\n",
       "      <td>GO:0043043</td>\n",
       "      <td>peptide biosynthetic process</td>\n",
       "      <td>330</td>\n",
       "      <td>3462</td>\n",
       "      <td>0.095321</td>\n",
       "      <td>391</td>\n",
       "      <td>6519</td>\n",
       "      <td>0.059978</td>\n",
       "      <td>3.054630e-41</td>\n",
       "      <td>4.899630e-38</td>\n",
       "      <td>clustermatch_k2</td>\n",
       "      <td>SpectralClustering</td>\n",
       "      <td>enrichGO</td>\n",
       "      <td>BP_full</td>\n",
       "      <td>0.843990</td>\n",
       "      <td>1.58925</td>\n",
       "      <td>3.857780e-39</td>\n",
       "    </tr>\n",
       "    <tr>\n",
       "      <th>4</th>\n",
       "      <td>2</td>\n",
       "      <td>C1</td>\n",
       "      <td>GO:0007186</td>\n",
       "      <td>G protein-coupled receptor signaling pathway</td>\n",
       "      <td>322</td>\n",
       "      <td>3057</td>\n",
       "      <td>0.105332</td>\n",
       "      <td>419</td>\n",
       "      <td>6519</td>\n",
       "      <td>0.064274</td>\n",
       "      <td>2.778930e-38</td>\n",
       "      <td>6.629140e-35</td>\n",
       "      <td>clustermatch_k2</td>\n",
       "      <td>SpectralClustering</td>\n",
       "      <td>enrichGO</td>\n",
       "      <td>BP_full</td>\n",
       "      <td>0.768496</td>\n",
       "      <td>1.63881</td>\n",
       "      <td>3.029960e-36</td>\n",
       "    </tr>\n",
       "  </tbody>\n",
       "</table>\n",
       "</div>"
      ],
      "text/plain": [
       "   n_clusters cluster_id  go_term_id  \\\n",
       "0           2         C1  GO:0006954   \n",
       "1           2         C0  GO:0006396   \n",
       "2           2         C0  GO:0006412   \n",
       "3           2         C0  GO:0043043   \n",
       "4           2         C1  GO:0007186   \n",
       "\n",
       "                                   go_term_desc  gene_count  gene_total  \\\n",
       "0                         inflammatory response         365        3057   \n",
       "1                                RNA processing         343        3462   \n",
       "2                                   translation         322        3462   \n",
       "3                  peptide biosynthetic process         330        3462   \n",
       "4  G protein-coupled receptor signaling pathway         322        3057   \n",
       "\n",
       "   gene_ratio  bg_count  bg_total  bg_ratio        pvalue  fdr_per_partition  \\\n",
       "0    0.119398       454      6519  0.069643  3.274320e-52       1.562180e-48   \n",
       "1    0.099076       393      6519  0.060285  4.199580e-50       2.020840e-46   \n",
       "2    0.093010       376      6519  0.057678  4.688220e-43       1.127990e-39   \n",
       "3    0.095321       391      6519  0.059978  3.054630e-41       4.899630e-38   \n",
       "4    0.105332       419      6519  0.064274  2.778930e-38       6.629140e-35   \n",
       "\n",
       "       corr_method        clust_method enrich_func enrich_params  rich_factor  \\\n",
       "0  clustermatch_k2  SpectralClustering    enrichGO       BP_full     0.803965   \n",
       "1  clustermatch_k2  SpectralClustering    enrichGO       BP_full     0.872774   \n",
       "2  clustermatch_k2  SpectralClustering    enrichGO       BP_full     0.856383   \n",
       "3  clustermatch_k2  SpectralClustering    enrichGO       BP_full     0.843990   \n",
       "4  clustermatch_k2  SpectralClustering    enrichGO       BP_full     0.768496   \n",
       "\n",
       "   fold_enrich           fdr  \n",
       "0      1.71444  6.924070e-50  \n",
       "1      1.64345  8.120550e-48  \n",
       "2      1.61258  6.488660e-41  \n",
       "3      1.58925  3.857780e-39  \n",
       "4      1.63881  3.029960e-36  "
      ]
     },
     "execution_count": 43,
     "metadata": {},
     "output_type": "execute_result"
    }
   ],
   "source": [
    "data_again.head()"
   ]
  },
  {
   "cell_type": "code",
   "execution_count": 44,
   "id": "8e85fff8-dde9-439d-808c-c053374c2785",
   "metadata": {
    "execution": {
     "iopub.execute_input": "2021-10-02T14:25:38.412827Z",
     "iopub.status.busy": "2021-10-02T14:25:38.412365Z",
     "iopub.status.idle": "2021-10-02T14:28:21.204355Z",
     "shell.execute_reply": "2021-10-02T14:28:21.203872Z"
    },
    "papermill": {
     "duration": 162.831798,
     "end_time": "2021-10-02T14:28:21.204451",
     "exception": false,
     "start_time": "2021-10-02T14:25:38.372653",
     "status": "completed"
    },
    "tags": []
   },
   "outputs": [],
   "source": [
    "pd.testing.assert_frame_equal(\n",
    "    data,\n",
    "    data_again,\n",
    "    check_names=False,  # do not check \"name\" attribute of index and column\n",
    "    check_dtype=False,  # do not check dtypes: do not distinguish between int64 and int32, for instance\n",
    "    check_categorical=False,\n",
    "    check_exact=False,\n",
    "    rtol=1e-5,\n",
    "    atol=5e-5,\n",
    ")"
   ]
  },
  {
   "cell_type": "code",
   "execution_count": null,
   "id": "72a954fe-b9c9-4f68-bca3-7a58e558cc3b",
   "metadata": {
    "papermill": {
     "duration": 0.037082,
     "end_time": "2021-10-02T14:28:21.278440",
     "exception": false,
     "start_time": "2021-10-02T14:28:21.241358",
     "status": "completed"
    },
    "tags": []
   },
   "outputs": [],
   "source": []
  }
 ],
 "metadata": {
  "jupytext": {
   "cell_metadata_filter": "all,-execution,-papermill,-trusted"
  },
  "kernelspec": {
   "display_name": "Python 3 (ipykernel)",
   "language": "python",
   "name": "python3"
  },
  "language_info": {
   "codemirror_mode": {
    "name": "ipython",
    "version": 3
   },
   "file_extension": ".py",
   "mimetype": "text/x-python",
   "name": "python",
   "nbconvert_exporter": "python",
   "pygments_lexer": "ipython3",
   "version": "3.9.7"
  },
  "papermill": {
   "default_parameters": {},
   "duration": 355.031951,
   "end_time": "2021-10-02T14:28:22.227567",
   "environment_variables": {},
   "exception": null,
   "input_path": "nbs/20_gene_set_enrichment/10_recount2/90-combine_results.ipynb",
   "output_path": "nbs/20_gene_set_enrichment/10_recount2/90-combine_results.run.ipynb",
   "parameters": {},
   "start_time": "2021-10-02T14:22:27.195616",
   "version": "2.3.3"
  },
  "toc-autonumbering": true
 },
 "nbformat": 4,
 "nbformat_minor": 5
}
