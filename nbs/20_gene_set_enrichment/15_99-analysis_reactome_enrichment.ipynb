{
 "cells": [
  {
   "cell_type": "markdown",
   "id": "lovely-efficiency",
   "metadata": {
    "papermill": {
     "duration": 0.054387,
     "end_time": "2021-03-01T14:47:27.249480",
     "exception": false,
     "start_time": "2021-03-01T14:47:27.195093",
     "status": "completed"
    },
    "tags": []
   },
   "source": [
    "# Modules loading"
   ]
  },
  {
   "cell_type": "code",
   "execution_count": 1,
   "id": "sitting-stevens",
   "metadata": {
    "papermill": {
     "duration": 0.029187,
     "end_time": "2021-03-01T14:47:27.296957",
     "exception": false,
     "start_time": "2021-03-01T14:47:27.267770",
     "status": "completed"
    },
    "tags": []
   },
   "outputs": [],
   "source": [
    "%load_ext autoreload\n",
    "%autoreload 2"
   ]
  },
  {
   "cell_type": "code",
   "execution_count": 2,
   "id": "fallen-house",
   "metadata": {
    "papermill": {
     "duration": 0.196563,
     "end_time": "2021-03-01T14:47:27.510969",
     "exception": false,
     "start_time": "2021-03-01T14:47:27.314406",
     "status": "completed"
    },
    "tags": []
   },
   "outputs": [],
   "source": [
    "from pathlib import Path\n",
    "\n",
    "import numpy as np\n",
    "import pandas as pd\n",
    "import matplotlib.pyplot as plt\n",
    "import seaborn as sns"
   ]
  },
  {
   "cell_type": "markdown",
   "id": "continuous-toner",
   "metadata": {
    "papermill": {
     "duration": 0.01728,
     "end_time": "2021-03-01T14:47:27.545820",
     "exception": false,
     "start_time": "2021-03-01T14:47:27.528540",
     "status": "completed"
    },
    "tags": []
   },
   "source": [
    "# Settings"
   ]
  },
  {
   "cell_type": "code",
   "execution_count": 3,
   "id": "expressed-pattern",
   "metadata": {},
   "outputs": [
    {
     "data": {
      "text/plain": [
       "array([0.        , 0.00010001, 0.00020002, 0.00030003, 0.00040004,\n",
       "       0.00050005, 0.00060006, 0.00070007, 0.00080008, 0.00090009])"
      ]
     },
     "metadata": {},
     "output_type": "display_data"
    },
    {
     "data": {
      "text/plain": [
       "array([0.99909991, 0.99919992, 0.99929993, 0.99939994, 0.99949995,\n",
       "       0.99959996, 0.99969997, 0.99979998, 0.99989999, 1.        ])"
      ]
     },
     "metadata": {},
     "output_type": "display_data"
    }
   ],
   "source": [
    "QUANTILES = np.linspace(0, 1, 10000)\n",
    "display(QUANTILES[:10])\n",
    "display(QUANTILES[-10:])"
   ]
  },
  {
   "cell_type": "code",
   "execution_count": 4,
   "id": "spare-configuration",
   "metadata": {
    "papermill": {
     "duration": 0.030954,
     "end_time": "2021-03-01T14:47:27.637141",
     "exception": false,
     "start_time": "2021-03-01T14:47:27.606187",
     "status": "completed"
    },
    "tags": []
   },
   "outputs": [
    {
     "data": {
      "text/plain": [
       "PosixPath('/home/miltondp/projects/labs/greenelab/clustermatch_gene_modules/base')"
      ]
     },
     "metadata": {},
     "output_type": "display_data"
    }
   ],
   "source": [
    "BASE_FOLDER = Path(\"..\", \"base\").resolve()\n",
    "# BASE_FOLDER = Path(\"base\").resolve()\n",
    "\n",
    "assert BASE_FOLDER.exists()\n",
    "\n",
    "display(BASE_FOLDER)"
   ]
  },
  {
   "cell_type": "code",
   "execution_count": 5,
   "id": "ideal-improvement",
   "metadata": {
    "papermill": {
     "duration": 0.028227,
     "end_time": "2021-03-01T14:47:27.683095",
     "exception": false,
     "start_time": "2021-03-01T14:47:27.654868",
     "status": "completed"
    },
    "tags": []
   },
   "outputs": [
    {
     "data": {
      "text/plain": [
       "PosixPath('/home/miltondp/projects/labs/greenelab/clustermatch_gene_modules/base/results/clustermatch/enrichPathway')"
      ]
     },
     "metadata": {},
     "output_type": "display_data"
    }
   ],
   "source": [
    "OUTPUT_DIR_CM = Path(BASE_FOLDER, \"results\", \"clustermatch\", \"enrichPathway\").resolve()\n",
    "display(OUTPUT_DIR_CM)\n",
    "assert OUTPUT_DIR_CM.exists()"
   ]
  },
  {
   "cell_type": "code",
   "execution_count": 6,
   "id": "written-dictionary",
   "metadata": {
    "papermill": {
     "duration": 0.028227,
     "end_time": "2021-03-01T14:47:27.683095",
     "exception": false,
     "start_time": "2021-03-01T14:47:27.654868",
     "status": "completed"
    },
    "tags": []
   },
   "outputs": [
    {
     "data": {
      "text/plain": [
       "PosixPath('/home/miltondp/projects/labs/greenelab/clustermatch_gene_modules/base/results/pearson/enrichPathway')"
      ]
     },
     "metadata": {},
     "output_type": "display_data"
    }
   ],
   "source": [
    "OUTPUT_DIR_PE = Path(BASE_FOLDER, \"results\", \"pearson\", \"enrichPathway\").resolve()\n",
    "display(OUTPUT_DIR_PE)\n",
    "assert OUTPUT_DIR_PE.exists()"
   ]
  },
  {
   "cell_type": "markdown",
   "id": "intellectual-above",
   "metadata": {},
   "source": [
    "# Load enrichment results"
   ]
  },
  {
   "cell_type": "code",
   "execution_count": 7,
   "id": "becoming-price",
   "metadata": {},
   "outputs": [],
   "source": [
    "all_files = list(OUTPUT_DIR_CM.glob(\"*.pkl\")) + list(OUTPUT_DIR_PE.glob(\"*.pkl\"))"
   ]
  },
  {
   "cell_type": "code",
   "execution_count": 8,
   "id": "statistical-namibia",
   "metadata": {},
   "outputs": [
    {
     "data": {
      "text/plain": [
       "14"
      ]
     },
     "metadata": {},
     "output_type": "display_data"
    }
   ],
   "source": [
    "display(len(all_files))\n",
    "# assert len(all_files) == int(2 * 126)"
   ]
  },
  {
   "cell_type": "code",
   "execution_count": 9,
   "id": "absent-combining",
   "metadata": {},
   "outputs": [],
   "source": [
    "all_results = []\n",
    "\n",
    "for f_full in all_files:\n",
    "    #     print(f)\n",
    "\n",
    "    f = f_full.name\n",
    "\n",
    "    fsplit = str(f).split(\"-\")\n",
    "    k = int(fsplit[0].split(\"_\")[1])\n",
    "    method = fsplit[1]\n",
    "    gene_sets = fsplit[2]\n",
    "    results_type = fsplit[3].split(\".\")[0]\n",
    "\n",
    "    data = pd.read_pickle(f_full)\n",
    "\n",
    "    data = data.assign(\n",
    "        **{\n",
    "            \"k\": k,\n",
    "            \"method\": method,\n",
    "            \"gene_sets\": gene_sets,\n",
    "            \"results_type\": results_type,\n",
    "        }\n",
    "    )\n",
    "\n",
    "    data[\"Cluster\"] = data[\"Cluster\"].astype(\"category\")\n",
    "    data[\"k\"] = data[\"k\"].astype(\"category\")\n",
    "    data[\"method\"] = data[\"method\"].astype(\"category\")\n",
    "    data[\"gene_sets\"] = data[\"gene_sets\"].astype(\"category\")\n",
    "    data[\"results_type\"] = data[\"results_type\"].astype(\"category\")\n",
    "\n",
    "    all_results.append(data)"
   ]
  },
  {
   "cell_type": "code",
   "execution_count": 10,
   "id": "timely-round",
   "metadata": {},
   "outputs": [
    {
     "data": {
      "text/plain": [
       "14"
      ]
     },
     "execution_count": 10,
     "metadata": {},
     "output_type": "execute_result"
    }
   ],
   "source": [
    "len(all_results)"
   ]
  },
  {
   "cell_type": "code",
   "execution_count": 11,
   "id": "medieval-registrar",
   "metadata": {},
   "outputs": [],
   "source": [
    "all_results_df = pd.concat(all_results, ignore_index=True)"
   ]
  },
  {
   "cell_type": "code",
   "execution_count": 12,
   "id": "narrative-ethnic",
   "metadata": {},
   "outputs": [
    {
     "data": {
      "text/plain": [
       "(10699, 14)"
      ]
     },
     "execution_count": 12,
     "metadata": {},
     "output_type": "execute_result"
    }
   ],
   "source": [
    "all_results_df.shape"
   ]
  },
  {
   "cell_type": "code",
   "execution_count": 13,
   "id": "wooden-increase",
   "metadata": {},
   "outputs": [
    {
     "data": {
      "text/html": [
       "<div>\n",
       "<style scoped>\n",
       "    .dataframe tbody tr th:only-of-type {\n",
       "        vertical-align: middle;\n",
       "    }\n",
       "\n",
       "    .dataframe tbody tr th {\n",
       "        vertical-align: top;\n",
       "    }\n",
       "\n",
       "    .dataframe thead th {\n",
       "        text-align: right;\n",
       "    }\n",
       "</style>\n",
       "<table border=\"1\" class=\"dataframe\">\n",
       "  <thead>\n",
       "    <tr style=\"text-align: right;\">\n",
       "      <th></th>\n",
       "      <th>Cluster</th>\n",
       "      <th>ID</th>\n",
       "      <th>Description</th>\n",
       "      <th>GeneRatio</th>\n",
       "      <th>BgRatio</th>\n",
       "      <th>pvalue</th>\n",
       "      <th>p.adjust</th>\n",
       "      <th>qvalue</th>\n",
       "      <th>geneID</th>\n",
       "      <th>Count</th>\n",
       "      <th>k</th>\n",
       "      <th>method</th>\n",
       "      <th>gene_sets</th>\n",
       "      <th>results_type</th>\n",
       "    </tr>\n",
       "  </thead>\n",
       "  <tbody>\n",
       "    <tr>\n",
       "      <th>0</th>\n",
       "      <td>C23</td>\n",
       "      <td>R-HSA-156842</td>\n",
       "      <td>Eukaryotic Translation Elongation</td>\n",
       "      <td>48/51</td>\n",
       "      <td>93/10654</td>\n",
       "      <td>1.056902e-101</td>\n",
       "      <td>3.783709e-99</td>\n",
       "      <td>3.571216e-99</td>\n",
       "      <td>RPL10/RPL13A/RPS11/EEF1A1/RPLP2/RPLP1/RPL19/RP...</td>\n",
       "      <td>48</td>\n",
       "      <td>30</td>\n",
       "      <td>clustermatch</td>\n",
       "      <td>enrichPathway</td>\n",
       "      <td>full</td>\n",
       "    </tr>\n",
       "    <tr>\n",
       "      <th>1</th>\n",
       "      <td>C23</td>\n",
       "      <td>R-HSA-156902</td>\n",
       "      <td>Peptide chain elongation</td>\n",
       "      <td>47/51</td>\n",
       "      <td>89/10654</td>\n",
       "      <td>1.629540e-99</td>\n",
       "      <td>2.916877e-97</td>\n",
       "      <td>2.753065e-97</td>\n",
       "      <td>RPL10/RPL13A/RPS11/EEF1A1/RPLP2/RPLP1/RPL19/RP...</td>\n",
       "      <td>47</td>\n",
       "      <td>30</td>\n",
       "      <td>clustermatch</td>\n",
       "      <td>enrichPathway</td>\n",
       "      <td>full</td>\n",
       "    </tr>\n",
       "    <tr>\n",
       "      <th>2</th>\n",
       "      <td>C23</td>\n",
       "      <td>R-HSA-192823</td>\n",
       "      <td>Viral mRNA Translation</td>\n",
       "      <td>46/51</td>\n",
       "      <td>89/10654</td>\n",
       "      <td>3.762476e-96</td>\n",
       "      <td>4.489888e-94</td>\n",
       "      <td>4.237736e-94</td>\n",
       "      <td>RPL10/RPL13A/RPS11/RPLP2/RPLP1/RPL19/RPS2/RPL3...</td>\n",
       "      <td>46</td>\n",
       "      <td>30</td>\n",
       "      <td>clustermatch</td>\n",
       "      <td>enrichPathway</td>\n",
       "      <td>full</td>\n",
       "    </tr>\n",
       "    <tr>\n",
       "      <th>3</th>\n",
       "      <td>C23</td>\n",
       "      <td>R-HSA-2408557</td>\n",
       "      <td>Selenocysteine synthesis</td>\n",
       "      <td>46/51</td>\n",
       "      <td>93/10654</td>\n",
       "      <td>6.147558e-95</td>\n",
       "      <td>4.401652e-93</td>\n",
       "      <td>4.154455e-93</td>\n",
       "      <td>RPL10/RPL13A/RPS11/RPLP2/RPLP1/RPL19/RPS2/RPL3...</td>\n",
       "      <td>46</td>\n",
       "      <td>30</td>\n",
       "      <td>clustermatch</td>\n",
       "      <td>enrichPathway</td>\n",
       "      <td>full</td>\n",
       "    </tr>\n",
       "    <tr>\n",
       "      <th>4</th>\n",
       "      <td>C23</td>\n",
       "      <td>R-HSA-72764</td>\n",
       "      <td>Eukaryotic Translation Termination</td>\n",
       "      <td>46/51</td>\n",
       "      <td>93/10654</td>\n",
       "      <td>6.147558e-95</td>\n",
       "      <td>4.401652e-93</td>\n",
       "      <td>4.154455e-93</td>\n",
       "      <td>RPL10/RPL13A/RPS11/RPLP2/RPLP1/RPL19/RPS2/RPL3...</td>\n",
       "      <td>46</td>\n",
       "      <td>30</td>\n",
       "      <td>clustermatch</td>\n",
       "      <td>enrichPathway</td>\n",
       "      <td>full</td>\n",
       "    </tr>\n",
       "  </tbody>\n",
       "</table>\n",
       "</div>"
      ],
      "text/plain": [
       "  Cluster             ID                         Description GeneRatio  \\\n",
       "0     C23   R-HSA-156842   Eukaryotic Translation Elongation     48/51   \n",
       "1     C23   R-HSA-156902            Peptide chain elongation     47/51   \n",
       "2     C23   R-HSA-192823              Viral mRNA Translation     46/51   \n",
       "3     C23  R-HSA-2408557            Selenocysteine synthesis     46/51   \n",
       "4     C23    R-HSA-72764  Eukaryotic Translation Termination     46/51   \n",
       "\n",
       "    BgRatio         pvalue      p.adjust        qvalue  \\\n",
       "0  93/10654  1.056902e-101  3.783709e-99  3.571216e-99   \n",
       "1  89/10654   1.629540e-99  2.916877e-97  2.753065e-97   \n",
       "2  89/10654   3.762476e-96  4.489888e-94  4.237736e-94   \n",
       "3  93/10654   6.147558e-95  4.401652e-93  4.154455e-93   \n",
       "4  93/10654   6.147558e-95  4.401652e-93  4.154455e-93   \n",
       "\n",
       "                                              geneID  Count   k        method  \\\n",
       "0  RPL10/RPL13A/RPS11/EEF1A1/RPLP2/RPLP1/RPL19/RP...     48  30  clustermatch   \n",
       "1  RPL10/RPL13A/RPS11/EEF1A1/RPLP2/RPLP1/RPL19/RP...     47  30  clustermatch   \n",
       "2  RPL10/RPL13A/RPS11/RPLP2/RPLP1/RPL19/RPS2/RPL3...     46  30  clustermatch   \n",
       "3  RPL10/RPL13A/RPS11/RPLP2/RPLP1/RPL19/RPS2/RPL3...     46  30  clustermatch   \n",
       "4  RPL10/RPL13A/RPS11/RPLP2/RPLP1/RPL19/RPS2/RPL3...     46  30  clustermatch   \n",
       "\n",
       "       gene_sets results_type  \n",
       "0  enrichPathway         full  \n",
       "1  enrichPathway         full  \n",
       "2  enrichPathway         full  \n",
       "3  enrichPathway         full  \n",
       "4  enrichPathway         full  "
      ]
     },
     "execution_count": 13,
     "metadata": {},
     "output_type": "execute_result"
    }
   ],
   "source": [
    "all_results_df.head()"
   ]
  },
  {
   "cell_type": "code",
   "execution_count": 14,
   "id": "continental-movement",
   "metadata": {},
   "outputs": [],
   "source": [
    "assert all_results_df[\"results_type\"].unique().shape[0] == 1"
   ]
  },
  {
   "cell_type": "markdown",
   "id": "adequate-reynolds",
   "metadata": {},
   "source": [
    "# QQ-plot of $p$-values"
   ]
  },
  {
   "cell_type": "code",
   "execution_count": 15,
   "id": "trained-california",
   "metadata": {},
   "outputs": [],
   "source": [
    "_df_common = all_results_df  # [all_results_df[\"results_type\"] == \"full\"]\n",
    "_clustermatch_values = _df_common[_df_common[\"method\"] == \"clustermatch\"][\"p.adjust\"]\n",
    "_pearson_values = _df_common[_df_common[\"method\"] == \"pearson\"][\"p.adjust\"]"
   ]
  },
  {
   "cell_type": "code",
   "execution_count": 16,
   "id": "designed-cricket",
   "metadata": {},
   "outputs": [],
   "source": [
    "# quantiles_df = pd.DataFrame(\n",
    "#     {\n",
    "#         \"clustermatch\": -np.log10(_clustermatch_values.quantile(QUANTILES)),\n",
    "#         \"pearson\": -np.log10(_pearson_values.quantile(QUANTILES)),\n",
    "#     }\n",
    "# )"
   ]
  },
  {
   "cell_type": "code",
   "execution_count": 17,
   "id": "given-newcastle",
   "metadata": {},
   "outputs": [],
   "source": [
    "quantiles_df = pd.DataFrame(\n",
    "    {\n",
    "        \"clustermatch\": pd.Series(-np.log10(_clustermatch_values)).quantile(QUANTILES),\n",
    "        \"pearson\": pd.Series(-np.log10(_pearson_values)).quantile(QUANTILES),\n",
    "    }\n",
    ")"
   ]
  },
  {
   "cell_type": "code",
   "execution_count": 18,
   "id": "dress-hamilton",
   "metadata": {},
   "outputs": [
    {
     "data": {
      "text/plain": [
       "(10000, 2)"
      ]
     },
     "execution_count": 18,
     "metadata": {},
     "output_type": "execute_result"
    }
   ],
   "source": [
    "quantiles_df.shape"
   ]
  },
  {
   "cell_type": "code",
   "execution_count": 19,
   "id": "closed-commercial",
   "metadata": {},
   "outputs": [
    {
     "data": {
      "text/html": [
       "<div>\n",
       "<style scoped>\n",
       "    .dataframe tbody tr th:only-of-type {\n",
       "        vertical-align: middle;\n",
       "    }\n",
       "\n",
       "    .dataframe tbody tr th {\n",
       "        vertical-align: top;\n",
       "    }\n",
       "\n",
       "    .dataframe thead th {\n",
       "        text-align: right;\n",
       "    }\n",
       "</style>\n",
       "<table border=\"1\" class=\"dataframe\">\n",
       "  <thead>\n",
       "    <tr style=\"text-align: right;\">\n",
       "      <th></th>\n",
       "      <th>clustermatch</th>\n",
       "      <th>pearson</th>\n",
       "    </tr>\n",
       "  </thead>\n",
       "  <tbody>\n",
       "    <tr>\n",
       "      <th>0.0000</th>\n",
       "      <td>1.301039</td>\n",
       "      <td>1.301542</td>\n",
       "    </tr>\n",
       "    <tr>\n",
       "      <th>0.0001</th>\n",
       "      <td>1.301166</td>\n",
       "      <td>1.301812</td>\n",
       "    </tr>\n",
       "    <tr>\n",
       "      <th>0.0002</th>\n",
       "      <td>1.301236</td>\n",
       "      <td>1.302082</td>\n",
       "    </tr>\n",
       "    <tr>\n",
       "      <th>0.0003</th>\n",
       "      <td>1.301236</td>\n",
       "      <td>1.302251</td>\n",
       "    </tr>\n",
       "    <tr>\n",
       "      <th>0.0004</th>\n",
       "      <td>1.301248</td>\n",
       "      <td>1.302363</td>\n",
       "    </tr>\n",
       "  </tbody>\n",
       "</table>\n",
       "</div>"
      ],
      "text/plain": [
       "        clustermatch   pearson\n",
       "0.0000      1.301039  1.301542\n",
       "0.0001      1.301166  1.301812\n",
       "0.0002      1.301236  1.302082\n",
       "0.0003      1.301236  1.302251\n",
       "0.0004      1.301248  1.302363"
      ]
     },
     "execution_count": 19,
     "metadata": {},
     "output_type": "execute_result"
    }
   ],
   "source": [
    "quantiles_df.head()"
   ]
  },
  {
   "cell_type": "code",
   "execution_count": 20,
   "id": "committed-effectiveness",
   "metadata": {},
   "outputs": [
    {
     "data": {
      "text/plain": [
       "Text(0.5, 1.0, 'Reactome')"
      ]
     },
     "execution_count": 20,
     "metadata": {},
     "output_type": "execute_result"
    },
    {
     "data": {
      "image/png": "[encoded data removed]",
      "text/plain": [
       "<Figure size 720x576 with 1 Axes>"
      ]
     },
     "metadata": {
      "needs_background": "light"
     },
     "output_type": "display_data"
    }
   ],
   "source": [
    "fig, ax = plt.subplots(figsize=(10, 8))\n",
    "\n",
    "sns.scatterplot(\n",
    "    data=quantiles_df,\n",
    "    x=\"pearson\",\n",
    "    y=\"clustermatch\",\n",
    "    ax=ax,\n",
    ")\n",
    "\n",
    "# ax.set_xlabel(None)\n",
    "# ax.set_ylabel(None)\n",
    "\n",
    "min_val = min((quantiles_df.iloc[:, 0].min(), quantiles_df.iloc[:, 1].min()))\n",
    "max_val = max((quantiles_df.iloc[:, 0].max(), quantiles_df.iloc[:, 1].max()))\n",
    "ax.plot([min_val, max_val], [min_val, max_val], \"k\", linewidth=0.5)\n",
    "\n",
    "ax.set_title(\"Reactome\")\n",
    "\n",
    "# plt.legend()"
   ]
  },
  {
   "cell_type": "markdown",
   "id": "appreciated-particle",
   "metadata": {},
   "source": [
    "# Plot unique Reactome terms"
   ]
  },
  {
   "cell_type": "code",
   "execution_count": 21,
   "id": "differential-mirror",
   "metadata": {},
   "outputs": [],
   "source": [
    "plot_df = (\n",
    "    all_results_df.groupby([\"method\", \"k\", \"results_type\"])[\"ID\"]\n",
    "    .nunique()\n",
    "    .rename(\"count\")\n",
    "    .reset_index()\n",
    ")"
   ]
  },
  {
   "cell_type": "code",
   "execution_count": 22,
   "id": "alleged-gross",
   "metadata": {},
   "outputs": [
    {
     "data": {
      "text/plain": [
       "(16, 4)"
      ]
     },
     "execution_count": 22,
     "metadata": {},
     "output_type": "execute_result"
    }
   ],
   "source": [
    "plot_df.shape"
   ]
  },
  {
   "cell_type": "code",
   "execution_count": 23,
   "id": "elect-concord",
   "metadata": {},
   "outputs": [
    {
     "data": {
      "text/html": [
       "<div>\n",
       "<style scoped>\n",
       "    .dataframe tbody tr th:only-of-type {\n",
       "        vertical-align: middle;\n",
       "    }\n",
       "\n",
       "    .dataframe tbody tr th {\n",
       "        vertical-align: top;\n",
       "    }\n",
       "\n",
       "    .dataframe thead th {\n",
       "        text-align: right;\n",
       "    }\n",
       "</style>\n",
       "<table border=\"1\" class=\"dataframe\">\n",
       "  <thead>\n",
       "    <tr style=\"text-align: right;\">\n",
       "      <th></th>\n",
       "      <th>method</th>\n",
       "      <th>k</th>\n",
       "      <th>results_type</th>\n",
       "      <th>count</th>\n",
       "    </tr>\n",
       "  </thead>\n",
       "  <tbody>\n",
       "    <tr>\n",
       "      <th>0</th>\n",
       "      <td>clustermatch</td>\n",
       "      <td>2</td>\n",
       "      <td>full</td>\n",
       "      <td>495</td>\n",
       "    </tr>\n",
       "    <tr>\n",
       "      <th>1</th>\n",
       "      <td>clustermatch</td>\n",
       "      <td>5</td>\n",
       "      <td>full</td>\n",
       "      <td>438</td>\n",
       "    </tr>\n",
       "    <tr>\n",
       "      <th>2</th>\n",
       "      <td>clustermatch</td>\n",
       "      <td>10</td>\n",
       "      <td>full</td>\n",
       "      <td>502</td>\n",
       "    </tr>\n",
       "    <tr>\n",
       "      <th>3</th>\n",
       "      <td>clustermatch</td>\n",
       "      <td>15</td>\n",
       "      <td>full</td>\n",
       "      <td>549</td>\n",
       "    </tr>\n",
       "    <tr>\n",
       "      <th>4</th>\n",
       "      <td>clustermatch</td>\n",
       "      <td>20</td>\n",
       "      <td>full</td>\n",
       "      <td>465</td>\n",
       "    </tr>\n",
       "  </tbody>\n",
       "</table>\n",
       "</div>"
      ],
      "text/plain": [
       "         method   k results_type  count\n",
       "0  clustermatch   2         full    495\n",
       "1  clustermatch   5         full    438\n",
       "2  clustermatch  10         full    502\n",
       "3  clustermatch  15         full    549\n",
       "4  clustermatch  20         full    465"
      ]
     },
     "execution_count": 23,
     "metadata": {},
     "output_type": "execute_result"
    }
   ],
   "source": [
    "plot_df.head()"
   ]
  },
  {
   "cell_type": "code",
   "execution_count": 24,
   "id": "resistant-queens",
   "metadata": {},
   "outputs": [
    {
     "data": {
      "text/plain": [
       "<seaborn.axisgrid.FacetGrid at 0x7f77a95ca5b0>"
      ]
     },
     "execution_count": 24,
     "metadata": {},
     "output_type": "execute_result"
    },
    {
     "data": {
      "image/png": "[encoded data removed]",
      "text/plain": [
       "<Figure size 461.5x360 with 1 Axes>"
      ]
     },
     "metadata": {
      "needs_background": "light"
     },
     "output_type": "display_data"
    }
   ],
   "source": [
    "# fig, ax = plt.subplots(figsize=(10, 8))\n",
    "\n",
    "sns.catplot(\n",
    "    data=plot_df,\n",
    "    x=\"k\",\n",
    "    y=\"count\",\n",
    "    hue=\"method\",\n",
    "    #     ax=ax,\n",
    ")\n",
    "\n",
    "# ax.set_xlabel(None)\n",
    "# ax.set_ylabel(None)\n",
    "\n",
    "# min_val = min((quantiles_df.iloc[:, 0].min(), quantiles_df.iloc[:, 1].min()))\n",
    "# max_val = max((quantiles_df.iloc[:, 0].max(), quantiles_df.iloc[:, 1].max()))\n",
    "# ax.plot([min_val, max_val], [min_val, max_val], \"k\", linewidth=0.5)\n",
    "\n",
    "# plt.legend()"
   ]
  },
  {
   "cell_type": "markdown",
   "id": "dominant-karma",
   "metadata": {},
   "source": [
    "# Intersection of terms"
   ]
  },
  {
   "cell_type": "code",
   "execution_count": 262,
   "id": "thirty-wisdom",
   "metadata": {},
   "outputs": [],
   "source": [
    "from upsetplot import UpSet"
   ]
  },
  {
   "cell_type": "code",
   "execution_count": 263,
   "id": "labeled-muscle",
   "metadata": {},
   "outputs": [
    {
     "data": {
      "text/plain": [
       "\u001b[0;31mInit signature:\u001b[0m\n",
       "\u001b[0mUpSet\u001b[0m\u001b[0;34m(\u001b[0m\u001b[0;34m\u001b[0m\n",
       "\u001b[0;34m\u001b[0m    \u001b[0mdata\u001b[0m\u001b[0;34m,\u001b[0m\u001b[0;34m\u001b[0m\n",
       "\u001b[0;34m\u001b[0m    \u001b[0morientation\u001b[0m\u001b[0;34m=\u001b[0m\u001b[0;34m'horizontal'\u001b[0m\u001b[0;34m,\u001b[0m\u001b[0;34m\u001b[0m\n",
       "\u001b[0;34m\u001b[0m    \u001b[0msort_by\u001b[0m\u001b[0;34m=\u001b[0m\u001b[0;34m'degree'\u001b[0m\u001b[0;34m,\u001b[0m\u001b[0;34m\u001b[0m\n",
       "\u001b[0;34m\u001b[0m    \u001b[0msort_categories_by\u001b[0m\u001b[0;34m=\u001b[0m\u001b[0;34m'cardinality'\u001b[0m\u001b[0;34m,\u001b[0m\u001b[0;34m\u001b[0m\n",
       "\u001b[0;34m\u001b[0m    \u001b[0msubset_size\u001b[0m\u001b[0;34m=\u001b[0m\u001b[0;34m'auto'\u001b[0m\u001b[0;34m,\u001b[0m\u001b[0;34m\u001b[0m\n",
       "\u001b[0;34m\u001b[0m    \u001b[0msum_over\u001b[0m\u001b[0;34m=\u001b[0m\u001b[0;32mNone\u001b[0m\u001b[0;34m,\u001b[0m\u001b[0;34m\u001b[0m\n",
       "\u001b[0;34m\u001b[0m    \u001b[0mfacecolor\u001b[0m\u001b[0;34m=\u001b[0m\u001b[0;34m'black'\u001b[0m\u001b[0;34m,\u001b[0m\u001b[0;34m\u001b[0m\n",
       "\u001b[0;34m\u001b[0m    \u001b[0mwith_lines\u001b[0m\u001b[0;34m=\u001b[0m\u001b[0;32mTrue\u001b[0m\u001b[0;34m,\u001b[0m\u001b[0;34m\u001b[0m\n",
       "\u001b[0;34m\u001b[0m    \u001b[0melement_size\u001b[0m\u001b[0;34m=\u001b[0m\u001b[0;36m32\u001b[0m\u001b[0;34m,\u001b[0m\u001b[0;34m\u001b[0m\n",
       "\u001b[0;34m\u001b[0m    \u001b[0mintersection_plot_elements\u001b[0m\u001b[0;34m=\u001b[0m\u001b[0;36m6\u001b[0m\u001b[0;34m,\u001b[0m\u001b[0;34m\u001b[0m\n",
       "\u001b[0;34m\u001b[0m    \u001b[0mtotals_plot_elements\u001b[0m\u001b[0;34m=\u001b[0m\u001b[0;36m2\u001b[0m\u001b[0;34m,\u001b[0m\u001b[0;34m\u001b[0m\n",
       "\u001b[0;34m\u001b[0m    \u001b[0mshow_counts\u001b[0m\u001b[0;34m=\u001b[0m\u001b[0;34m''\u001b[0m\u001b[0;34m,\u001b[0m\u001b[0;34m\u001b[0m\n",
       "\u001b[0;34m\u001b[0m    \u001b[0mshow_percentages\u001b[0m\u001b[0;34m=\u001b[0m\u001b[0;32mFalse\u001b[0m\u001b[0;34m,\u001b[0m\u001b[0;34m\u001b[0m\n",
       "\u001b[0;34m\u001b[0m\u001b[0;34m)\u001b[0m\u001b[0;34m\u001b[0m\u001b[0;34m\u001b[0m\u001b[0m\n",
       "\u001b[0;31mDocstring:\u001b[0m     \n",
       "Manage the data and drawing for a basic UpSet plot\n",
       "\n",
       "Primary public method is :meth:`plot`.\n",
       "\n",
       "Parameters\n",
       "----------\n",
       "data : pandas.Series or pandas.DataFrame\n",
       "    Elements associated with categories (a DataFrame), or the size of each\n",
       "    subset of categories (a Series).\n",
       "    Should have MultiIndex where each level is binary,\n",
       "    corresponding to category membership.\n",
       "    If a DataFrame, `sum_over` must be a string or False.\n",
       "orientation : {'horizontal' (default), 'vertical'}\n",
       "    If horizontal, intersections are listed from left to right.\n",
       "sort_by : {'cardinality', 'degree'}\n",
       "    If 'cardinality', subset are listed from largest to smallest.\n",
       "    If 'degree', they are listed in order of the number of categories\n",
       "    intersected.\n",
       "sort_categories_by : {'cardinality', None}\n",
       "    Whether to sort the categories by total cardinality, or leave them\n",
       "    in the provided order.\n",
       "\n",
       "    .. versionadded: 0.3\n",
       "subset_size : {'auto', 'count', 'sum'}\n",
       "    Configures how to calculate the size of a subset. Choices are:\n",
       "\n",
       "    'auto' (default)\n",
       "        If `data` is a DataFrame, count the number of rows in each group,\n",
       "        unless `sum_over` is specified.\n",
       "        If `data` is a Series with at most one row for each group, use\n",
       "        the value of the Series. If `data` is a Series with more than one\n",
       "        row per group, raise a ValueError.\n",
       "    'count'\n",
       "        Count the number of rows in each group.\n",
       "    'sum'\n",
       "        Sum the value of the `data` Series, or the DataFrame field\n",
       "        specified by `sum_over`.\n",
       "sum_over : str or None\n",
       "    If `subset_size='sum'` or `'auto'`, then the intersection size is the\n",
       "    sum of the specified field in the `data` DataFrame. If a Series, only\n",
       "    None is supported and its value is summed.\n",
       "facecolor : str\n",
       "    Color for bar charts and dots.\n",
       "with_lines : bool\n",
       "    Whether to show lines joining dots in the matrix, to mark multiple\n",
       "    categories being intersected.\n",
       "element_size : float or None\n",
       "    Side length in pt. If None, size is estimated to fit figure\n",
       "intersection_plot_elements : int\n",
       "    The intersections plot should be large enough to fit this many matrix\n",
       "    elements. Set to 0 to disable intersection size bars.\n",
       "\n",
       "    .. versionchanged: 0.4\n",
       "        Setting to 0 is handled.\n",
       "totals_plot_elements : int\n",
       "    The totals plot should be large enough to fit this many matrix\n",
       "    elements.\n",
       "show_counts : bool or str, default=False\n",
       "    Whether to label the intersection size bars with the cardinality\n",
       "    of the intersection. When a string, this formats the number.\n",
       "    For example, '%d' is equivalent to True.\n",
       "show_percentages : bool, default=False\n",
       "    Whether to label the intersection size bars with the percentage\n",
       "    of the intersection relative to the total dataset.\n",
       "    This may be applied with or without show_counts.\n",
       "\n",
       "    .. versionadded: 0.4\n",
       "\u001b[0;31mFile:\u001b[0m           ~/software/miniconda3/envs/cm_gene_modules/lib/python3.8/site-packages/upsetplot/plotting.py\n",
       "\u001b[0;31mType:\u001b[0m           type\n",
       "\u001b[0;31mSubclasses:\u001b[0m     \n"
      ]
     },
     "metadata": {},
     "output_type": "display_data"
    }
   ],
   "source": [
    "UpSet?"
   ]
  },
  {
   "cell_type": "code",
   "execution_count": 260,
   "id": "brazilian-hawaii",
   "metadata": {},
   "outputs": [],
   "source": [
    "_df_common = all_results_df[(all_results_df[\"results_type\"] == \"simplified\")]"
   ]
  },
  {
   "cell_type": "code",
   "execution_count": 264,
   "id": "compound-bulgarian",
   "metadata": {},
   "outputs": [],
   "source": [
    "plot_df = pd.DataFrame(\n",
    "    {\n",
    "        \"clustermatch\": _df_common[\"method\"] == \"clustermatch\",\n",
    "        \"clustermatch\": _df_common[\"method\"] == \"pearson\",\n",
    "    }\n",
    ")"
   ]
  },
  {
   "cell_type": "code",
   "execution_count": 265,
   "id": "framed-asian",
   "metadata": {},
   "outputs": [
    {
     "data": {
      "text/html": [
       "<div>\n",
       "<style scoped>\n",
       "    .dataframe tbody tr th:only-of-type {\n",
       "        vertical-align: middle;\n",
       "    }\n",
       "\n",
       "    .dataframe tbody tr th {\n",
       "        vertical-align: top;\n",
       "    }\n",
       "\n",
       "    .dataframe thead th {\n",
       "        text-align: right;\n",
       "    }\n",
       "</style>\n",
       "<table border=\"1\" class=\"dataframe\">\n",
       "  <thead>\n",
       "    <tr style=\"text-align: right;\">\n",
       "      <th></th>\n",
       "      <th>clustermatch</th>\n",
       "    </tr>\n",
       "  </thead>\n",
       "  <tbody>\n",
       "    <tr>\n",
       "      <th>13126</th>\n",
       "      <td>True</td>\n",
       "    </tr>\n",
       "    <tr>\n",
       "      <th>13127</th>\n",
       "      <td>True</td>\n",
       "    </tr>\n",
       "    <tr>\n",
       "      <th>13128</th>\n",
       "      <td>True</td>\n",
       "    </tr>\n",
       "    <tr>\n",
       "      <th>13129</th>\n",
       "      <td>True</td>\n",
       "    </tr>\n",
       "    <tr>\n",
       "      <th>13130</th>\n",
       "      <td>True</td>\n",
       "    </tr>\n",
       "    <tr>\n",
       "      <th>...</th>\n",
       "      <td>...</td>\n",
       "    </tr>\n",
       "    <tr>\n",
       "      <th>292986</th>\n",
       "      <td>False</td>\n",
       "    </tr>\n",
       "    <tr>\n",
       "      <th>292987</th>\n",
       "      <td>False</td>\n",
       "    </tr>\n",
       "    <tr>\n",
       "      <th>292988</th>\n",
       "      <td>False</td>\n",
       "    </tr>\n",
       "    <tr>\n",
       "      <th>292989</th>\n",
       "      <td>False</td>\n",
       "    </tr>\n",
       "    <tr>\n",
       "      <th>292990</th>\n",
       "      <td>False</td>\n",
       "    </tr>\n",
       "  </tbody>\n",
       "</table>\n",
       "<p>35255 rows × 1 columns</p>\n",
       "</div>"
      ],
      "text/plain": [
       "        clustermatch\n",
       "13126           True\n",
       "13127           True\n",
       "13128           True\n",
       "13129           True\n",
       "13130           True\n",
       "...              ...\n",
       "292986         False\n",
       "292987         False\n",
       "292988         False\n",
       "292989         False\n",
       "292990         False\n",
       "\n",
       "[35255 rows x 1 columns]"
      ]
     },
     "execution_count": 265,
     "metadata": {},
     "output_type": "execute_result"
    }
   ],
   "source": [
    "plot_df"
   ]
  },
  {
   "cell_type": "code",
   "execution_count": 116,
   "id": "desirable-finger",
   "metadata": {},
   "outputs": [
    {
     "data": {
      "text/html": [
       "<div>\n",
       "<style scoped>\n",
       "    .dataframe tbody tr th:only-of-type {\n",
       "        vertical-align: middle;\n",
       "    }\n",
       "\n",
       "    .dataframe tbody tr th {\n",
       "        vertical-align: top;\n",
       "    }\n",
       "\n",
       "    .dataframe thead th {\n",
       "        text-align: right;\n",
       "    }\n",
       "</style>\n",
       "<table border=\"1\" class=\"dataframe\">\n",
       "  <thead>\n",
       "    <tr style=\"text-align: right;\">\n",
       "      <th>ont</th>\n",
       "      <th>BP</th>\n",
       "      <th>CC</th>\n",
       "      <th>MF</th>\n",
       "    </tr>\n",
       "    <tr>\n",
       "      <th>method</th>\n",
       "      <th></th>\n",
       "      <th></th>\n",
       "      <th></th>\n",
       "    </tr>\n",
       "  </thead>\n",
       "  <tbody>\n",
       "    <tr>\n",
       "      <th>clustermatch</th>\n",
       "      <td>99546</td>\n",
       "      <td>21239</td>\n",
       "      <td>17570</td>\n",
       "    </tr>\n",
       "    <tr>\n",
       "      <th>pearson</th>\n",
       "      <td>116843</td>\n",
       "      <td>18777</td>\n",
       "      <td>19907</td>\n",
       "    </tr>\n",
       "  </tbody>\n",
       "</table>\n",
       "</div>"
      ],
      "text/plain": [
       "ont               BP     CC     MF\n",
       "method                            \n",
       "clustermatch   99546  21239  17570\n",
       "pearson       116843  18777  19907"
      ]
     },
     "execution_count": 116,
     "metadata": {},
     "output_type": "execute_result"
    }
   ],
   "source": [
    "plot_df.unstack()"
   ]
  },
  {
   "cell_type": "code",
   "execution_count": 114,
   "id": "secure-utilization",
   "metadata": {},
   "outputs": [
    {
     "ename": "ValueError",
     "evalue": "The DataFrame has values in its index that are not boolean",
     "output_type": "error",
     "traceback": [
      "\u001b[0;31m---------------------------------------------------------------------------\u001b[0m",
      "\u001b[0;31mValueError\u001b[0m                                Traceback (most recent call last)",
      "\u001b[0;32m<ipython-input-114-cd54469029f7>\u001b[0m in \u001b[0;36m<module>\u001b[0;34m\u001b[0m\n\u001b[0;32m----> 1\u001b[0;31m \u001b[0mplot\u001b[0m\u001b[0;34m(\u001b[0m\u001b[0mplot_df\u001b[0m\u001b[0;34m)\u001b[0m\u001b[0;34m\u001b[0m\u001b[0;34m\u001b[0m\u001b[0m\n\u001b[0m",
      "\u001b[0;32m~/software/miniconda3/envs/cm_gene_modules/lib/python3.8/site-packages/upsetplot/plotting.py\u001b[0m in \u001b[0;36mplot\u001b[0;34m(data, fig, **kwargs)\u001b[0m\n\u001b[1;32m    644\u001b[0m         \u001b[0mKeys\u001b[0m \u001b[0mare\u001b[0m \u001b[0;34m'matrix'\u001b[0m\u001b[0;34m,\u001b[0m \u001b[0;34m'intersections'\u001b[0m\u001b[0;34m,\u001b[0m \u001b[0;34m'totals'\u001b[0m\u001b[0;34m,\u001b[0m \u001b[0;34m'shading'\u001b[0m\u001b[0;34m\u001b[0m\u001b[0;34m\u001b[0m\u001b[0m\n\u001b[1;32m    645\u001b[0m     \"\"\"\n\u001b[0;32m--> 646\u001b[0;31m     \u001b[0;32mreturn\u001b[0m \u001b[0mUpSet\u001b[0m\u001b[0;34m(\u001b[0m\u001b[0mdata\u001b[0m\u001b[0;34m,\u001b[0m \u001b[0;34m**\u001b[0m\u001b[0mkwargs\u001b[0m\u001b[0;34m)\u001b[0m\u001b[0;34m.\u001b[0m\u001b[0mplot\u001b[0m\u001b[0;34m(\u001b[0m\u001b[0mfig\u001b[0m\u001b[0;34m)\u001b[0m\u001b[0;34m\u001b[0m\u001b[0;34m\u001b[0m\u001b[0m\n\u001b[0m",
      "\u001b[0;32m~/software/miniconda3/envs/cm_gene_modules/lib/python3.8/site-packages/upsetplot/plotting.py\u001b[0m in \u001b[0;36m__init__\u001b[0;34m(self, data, orientation, sort_by, sort_categories_by, subset_size, sum_over, facecolor, with_lines, element_size, intersection_plot_elements, totals_plot_elements, show_counts, show_percentages)\u001b[0m\n\u001b[1;32m    283\u001b[0m \u001b[0;34m\u001b[0m\u001b[0m\n\u001b[1;32m    284\u001b[0m         (self.total, self._df, self.intersections,\n\u001b[0;32m--> 285\u001b[0;31m          \u001b[0mself\u001b[0m\u001b[0;34m.\u001b[0m\u001b[0mtotals\u001b[0m\u001b[0;34m)\u001b[0m \u001b[0;34m=\u001b[0m \u001b[0m_process_data\u001b[0m\u001b[0;34m(\u001b[0m\u001b[0mdata\u001b[0m\u001b[0;34m,\u001b[0m\u001b[0;34m\u001b[0m\u001b[0;34m\u001b[0m\u001b[0m\n\u001b[0m\u001b[1;32m    286\u001b[0m                                       \u001b[0msort_by\u001b[0m\u001b[0;34m=\u001b[0m\u001b[0msort_by\u001b[0m\u001b[0;34m,\u001b[0m\u001b[0;34m\u001b[0m\u001b[0;34m\u001b[0m\u001b[0m\n\u001b[1;32m    287\u001b[0m                                       \u001b[0msort_categories_by\u001b[0m\u001b[0;34m=\u001b[0m\u001b[0msort_categories_by\u001b[0m\u001b[0;34m,\u001b[0m\u001b[0;34m\u001b[0m\u001b[0;34m\u001b[0m\u001b[0m\n",
      "\u001b[0;32m~/software/miniconda3/envs/cm_gene_modules/lib/python3.8/site-packages/upsetplot/plotting.py\u001b[0m in \u001b[0;36m_process_data\u001b[0;34m(df, sort_by, sort_categories_by, subset_size, sum_over)\u001b[0m\n\u001b[1;32m     91\u001b[0m     \u001b[0mdf\u001b[0m\u001b[0;34m,\u001b[0m \u001b[0magg\u001b[0m \u001b[0;34m=\u001b[0m \u001b[0m_aggregate_data\u001b[0m\u001b[0;34m(\u001b[0m\u001b[0mdf\u001b[0m\u001b[0;34m,\u001b[0m \u001b[0msubset_size\u001b[0m\u001b[0;34m,\u001b[0m \u001b[0msum_over\u001b[0m\u001b[0;34m)\u001b[0m\u001b[0;34m\u001b[0m\u001b[0;34m\u001b[0m\u001b[0m\n\u001b[1;32m     92\u001b[0m     \u001b[0mtotal\u001b[0m \u001b[0;34m=\u001b[0m \u001b[0magg\u001b[0m\u001b[0;34m.\u001b[0m\u001b[0msum\u001b[0m\u001b[0;34m(\u001b[0m\u001b[0;34m)\u001b[0m\u001b[0;34m\u001b[0m\u001b[0;34m\u001b[0m\u001b[0m\n\u001b[0;32m---> 93\u001b[0;31m     \u001b[0mdf\u001b[0m \u001b[0;34m=\u001b[0m \u001b[0m_check_index\u001b[0m\u001b[0;34m(\u001b[0m\u001b[0mdf\u001b[0m\u001b[0;34m)\u001b[0m\u001b[0;34m\u001b[0m\u001b[0;34m\u001b[0m\u001b[0m\n\u001b[0m\u001b[1;32m     94\u001b[0m \u001b[0;34m\u001b[0m\u001b[0m\n\u001b[1;32m     95\u001b[0m     totals = [agg[agg.index.get_level_values(name).values.astype(bool)].sum()\n",
      "\u001b[0;32m~/software/miniconda3/envs/cm_gene_modules/lib/python3.8/site-packages/upsetplot/plotting.py\u001b[0m in \u001b[0;36m_check_index\u001b[0;34m(df)\u001b[0m\n\u001b[1;32m     72\u001b[0m     if not all(set([True, False]) >= set(level)\n\u001b[1;32m     73\u001b[0m                for level in df.index.levels):\n\u001b[0;32m---> 74\u001b[0;31m         raise ValueError('The DataFrame has values in its index that are not '\n\u001b[0m\u001b[1;32m     75\u001b[0m                          'boolean')\n\u001b[1;32m     76\u001b[0m     \u001b[0mdf\u001b[0m \u001b[0;34m=\u001b[0m \u001b[0mdf\u001b[0m\u001b[0;34m.\u001b[0m\u001b[0mcopy\u001b[0m\u001b[0;34m(\u001b[0m\u001b[0mdeep\u001b[0m\u001b[0;34m=\u001b[0m\u001b[0;32mFalse\u001b[0m\u001b[0;34m)\u001b[0m\u001b[0;34m\u001b[0m\u001b[0;34m\u001b[0m\u001b[0m\n",
      "\u001b[0;31mValueError\u001b[0m: The DataFrame has values in its index that are not boolean"
     ]
    }
   ],
   "source": [
    "plot(plot_df)"
   ]
  },
  {
   "cell_type": "code",
   "execution_count": 109,
   "id": "armed-dream",
   "metadata": {},
   "outputs": [],
   "source": [
    "df = all_results_df[all_results_df[\"results_type\"] == \"full\"][[\"method\", \"ont\"]]"
   ]
  },
  {
   "cell_type": "code",
   "execution_count": 103,
   "id": "romantic-telling",
   "metadata": {},
   "outputs": [
    {
     "data": {
      "text/plain": [
       "(258627, 2)"
      ]
     },
     "execution_count": 103,
     "metadata": {},
     "output_type": "execute_result"
    }
   ],
   "source": [
    "df.shape"
   ]
  },
  {
   "cell_type": "code",
   "execution_count": 104,
   "id": "generic-territory",
   "metadata": {},
   "outputs": [
    {
     "data": {
      "text/html": [
       "<div>\n",
       "<style scoped>\n",
       "    .dataframe tbody tr th:only-of-type {\n",
       "        vertical-align: middle;\n",
       "    }\n",
       "\n",
       "    .dataframe tbody tr th {\n",
       "        vertical-align: top;\n",
       "    }\n",
       "\n",
       "    .dataframe thead th {\n",
       "        text-align: right;\n",
       "    }\n",
       "</style>\n",
       "<table border=\"1\" class=\"dataframe\">\n",
       "  <thead>\n",
       "    <tr style=\"text-align: right;\">\n",
       "      <th></th>\n",
       "      <th>method</th>\n",
       "      <th>ont</th>\n",
       "    </tr>\n",
       "  </thead>\n",
       "  <tbody>\n",
       "    <tr>\n",
       "      <th>0</th>\n",
       "      <td>clustermatch</td>\n",
       "      <td>BP</td>\n",
       "    </tr>\n",
       "    <tr>\n",
       "      <th>1</th>\n",
       "      <td>clustermatch</td>\n",
       "      <td>BP</td>\n",
       "    </tr>\n",
       "    <tr>\n",
       "      <th>2</th>\n",
       "      <td>clustermatch</td>\n",
       "      <td>BP</td>\n",
       "    </tr>\n",
       "    <tr>\n",
       "      <th>3</th>\n",
       "      <td>clustermatch</td>\n",
       "      <td>BP</td>\n",
       "    </tr>\n",
       "    <tr>\n",
       "      <th>4</th>\n",
       "      <td>clustermatch</td>\n",
       "      <td>BP</td>\n",
       "    </tr>\n",
       "  </tbody>\n",
       "</table>\n",
       "</div>"
      ],
      "text/plain": [
       "         method ont\n",
       "0  clustermatch  BP\n",
       "1  clustermatch  BP\n",
       "2  clustermatch  BP\n",
       "3  clustermatch  BP\n",
       "4  clustermatch  BP"
      ]
     },
     "execution_count": 104,
     "metadata": {},
     "output_type": "execute_result"
    }
   ],
   "source": [
    "df.head()"
   ]
  },
  {
   "cell_type": "code",
   "execution_count": null,
   "id": "driven-genre",
   "metadata": {},
   "outputs": [],
   "source": []
  }
 ],
 "metadata": {
  "jupytext": {
   "cell_metadata_filter": "all,-execution,-papermill,-trusted"
  },
  "kernelspec": {
   "display_name": "Python 3 (ipykernel)",
   "language": "python",
   "name": "python3"
  },
  "language_info": {
   "codemirror_mode": {
    "name": "ipython",
    "version": 3
   },
   "file_extension": ".py",
   "mimetype": "text/x-python",
   "name": "python",
   "nbconvert_exporter": "python",
   "pygments_lexer": "ipython3",
   "version": "3.9.6"
  },
  "papermill": {
   "default_parameters": {},
   "duration": 18540.654521,
   "end_time": "2021-03-01T19:56:26.867061",
   "environment_variables": {},
   "exception": null,
   "input_path": "05_cluster_analysis/10_00-clustermatch-go_enrichment.ipynb",
   "output_path": "05_cluster_analysis/10_00-clustermatch-go_enrichment.run.ipynb",
   "parameters": {},
   "start_time": "2021-03-01T14:47:26.212540",
   "version": "2.3.2"
  },
  "toc-autonumbering": true
 },
 "nbformat": 4,
 "nbformat_minor": 5
}
