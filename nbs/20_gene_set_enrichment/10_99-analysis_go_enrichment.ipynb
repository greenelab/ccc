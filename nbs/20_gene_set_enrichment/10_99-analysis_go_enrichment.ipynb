{
 "cells": [
  {
   "cell_type": "markdown",
   "id": "historic-affiliation",
   "metadata": {
    "papermill": {
     "duration": 0.054387,
     "end_time": "2021-03-01T14:47:27.249480",
     "exception": false,
     "start_time": "2021-03-01T14:47:27.195093",
     "status": "completed"
    },
    "tags": []
   },
   "source": [
    "# Modules loading"
   ]
  },
  {
   "cell_type": "code",
   "execution_count": 1,
   "id": "trying-miami",
   "metadata": {
    "papermill": {
     "duration": 0.029187,
     "end_time": "2021-03-01T14:47:27.296957",
     "exception": false,
     "start_time": "2021-03-01T14:47:27.267770",
     "status": "completed"
    },
    "tags": []
   },
   "outputs": [],
   "source": [
    "%load_ext autoreload\n",
    "%autoreload 2"
   ]
  },
  {
   "cell_type": "code",
   "execution_count": 2,
   "id": "statutory-steel",
   "metadata": {
    "papermill": {
     "duration": 0.196563,
     "end_time": "2021-03-01T14:47:27.510969",
     "exception": false,
     "start_time": "2021-03-01T14:47:27.314406",
     "status": "completed"
    },
    "tags": []
   },
   "outputs": [],
   "source": [
    "from pathlib import Path\n",
    "\n",
    "import numpy as np\n",
    "import pandas as pd\n",
    "import matplotlib.pyplot as plt\n",
    "import seaborn as sns"
   ]
  },
  {
   "cell_type": "markdown",
   "id": "strategic-collective",
   "metadata": {
    "papermill": {
     "duration": 0.01728,
     "end_time": "2021-03-01T14:47:27.545820",
     "exception": false,
     "start_time": "2021-03-01T14:47:27.528540",
     "status": "completed"
    },
    "tags": []
   },
   "source": [
    "# Settings"
   ]
  },
  {
   "cell_type": "code",
   "execution_count": 3,
   "id": "returning-murder",
   "metadata": {},
   "outputs": [
    {
     "data": {
      "text/plain": [
       "array([0.        , 0.00010001, 0.00020002, 0.00030003, 0.00040004,\n",
       "       0.00050005, 0.00060006, 0.00070007, 0.00080008, 0.00090009])"
      ]
     },
     "metadata": {},
     "output_type": "display_data"
    },
    {
     "data": {
      "text/plain": [
       "array([0.99909991, 0.99919992, 0.99929993, 0.99939994, 0.99949995,\n",
       "       0.99959996, 0.99969997, 0.99979998, 0.99989999, 1.        ])"
      ]
     },
     "metadata": {},
     "output_type": "display_data"
    }
   ],
   "source": [
    "QUANTILES = np.linspace(0, 1, 10000)\n",
    "display(QUANTILES[:10])\n",
    "display(QUANTILES[-10:])"
   ]
  },
  {
   "cell_type": "code",
   "execution_count": 4,
   "id": "varying-dialogue",
   "metadata": {
    "papermill": {
     "duration": 0.030954,
     "end_time": "2021-03-01T14:47:27.637141",
     "exception": false,
     "start_time": "2021-03-01T14:47:27.606187",
     "status": "completed"
    },
    "tags": []
   },
   "outputs": [
    {
     "data": {
      "text/plain": [
       "PosixPath('/home/miltondp/projects/labs/greenelab/clustermatch_gene_modules/base')"
      ]
     },
     "metadata": {},
     "output_type": "display_data"
    }
   ],
   "source": [
    "BASE_FOLDER = Path(\"..\", \"base\").resolve()\n",
    "# BASE_FOLDER = Path(\"base\").resolve()\n",
    "\n",
    "assert BASE_FOLDER.exists()\n",
    "\n",
    "display(BASE_FOLDER)"
   ]
  },
  {
   "cell_type": "code",
   "execution_count": 5,
   "id": "built-horse",
   "metadata": {
    "papermill": {
     "duration": 0.028227,
     "end_time": "2021-03-01T14:47:27.683095",
     "exception": false,
     "start_time": "2021-03-01T14:47:27.654868",
     "status": "completed"
    },
    "tags": []
   },
   "outputs": [
    {
     "data": {
      "text/plain": [
       "PosixPath('/home/miltondp/projects/labs/greenelab/clustermatch_gene_modules/base/results/clustermatch/enrichment')"
      ]
     },
     "metadata": {},
     "output_type": "display_data"
    }
   ],
   "source": [
    "OUTPUT_DIR_CM = Path(BASE_FOLDER, \"results\", \"clustermatch\", \"enrichment\").resolve()\n",
    "display(OUTPUT_DIR_CM)\n",
    "assert OUTPUT_DIR_CM.exists()"
   ]
  },
  {
   "cell_type": "code",
   "execution_count": 6,
   "id": "accepting-classroom",
   "metadata": {
    "papermill": {
     "duration": 0.028227,
     "end_time": "2021-03-01T14:47:27.683095",
     "exception": false,
     "start_time": "2021-03-01T14:47:27.654868",
     "status": "completed"
    },
    "tags": []
   },
   "outputs": [
    {
     "data": {
      "text/plain": [
       "PosixPath('/home/miltondp/projects/labs/greenelab/clustermatch_gene_modules/base/results/pearson/enrichment')"
      ]
     },
     "metadata": {},
     "output_type": "display_data"
    }
   ],
   "source": [
    "OUTPUT_DIR_PE = Path(BASE_FOLDER, \"results\", \"pearson\", \"enrichment\").resolve()\n",
    "display(OUTPUT_DIR_PE)\n",
    "assert OUTPUT_DIR_PE.exists()"
   ]
  },
  {
   "cell_type": "markdown",
   "id": "original-tablet",
   "metadata": {},
   "source": [
    "# Load enrichment results"
   ]
  },
  {
   "cell_type": "code",
   "execution_count": 7,
   "id": "attended-meaning",
   "metadata": {},
   "outputs": [],
   "source": [
    "all_files = list(OUTPUT_DIR_CM.glob(\"*.pkl\")) + list(OUTPUT_DIR_PE.glob(\"*.pkl\"))"
   ]
  },
  {
   "cell_type": "code",
   "execution_count": 8,
   "id": "addressed-functionality",
   "metadata": {},
   "outputs": [
    {
     "data": {
      "text/plain": [
       "252"
      ]
     },
     "metadata": {},
     "output_type": "display_data"
    }
   ],
   "source": [
    "display(len(all_files))\n",
    "assert len(all_files) == int(2 * 126)"
   ]
  },
  {
   "cell_type": "code",
   "execution_count": 9,
   "id": "ongoing-checkout",
   "metadata": {},
   "outputs": [],
   "source": [
    "all_results = []\n",
    "\n",
    "for f_full in all_files:\n",
    "#     print(f)\n",
    "    \n",
    "    f = f_full.name\n",
    "    \n",
    "    fsplit = str(f).split(\"-\")\n",
    "    k = int(fsplit[0].split(\"_\")[1])\n",
    "    method = fsplit[1]\n",
    "    gene_sets = fsplit[2]\n",
    "    gene_sets_ont = fsplit[3]\n",
    "    results_type = fsplit[4].split(\".\")[0]\n",
    "    \n",
    "    data = pd.read_pickle(f_full)\n",
    "    \n",
    "    data = data.assign(**{\n",
    "        \"k\": k,\n",
    "        \"method\": method,\n",
    "        \"gene_sets\": gene_sets,\n",
    "        \"ont\": gene_sets_ont,\n",
    "        \"results_type\": results_type,\n",
    "    })\n",
    "    \n",
    "    data[\"Cluster\"] = data[\"Cluster\"].astype(\"category\")\n",
    "    data[\"k\"] = data[\"k\"].astype(\"category\")\n",
    "    data[\"method\"] = data[\"method\"].astype(\"category\")\n",
    "    data[\"gene_sets\"] = data[\"gene_sets\"].astype(\"category\")\n",
    "    data[\"ont\"] = data[\"ont\"].astype(\"category\")\n",
    "    data[\"results_type\"] = data[\"results_type\"].astype(\"category\")\n",
    "    \n",
    "    all_results.append(data)"
   ]
  },
  {
   "cell_type": "code",
   "execution_count": 10,
   "id": "cordless-combining",
   "metadata": {},
   "outputs": [
    {
     "data": {
      "text/plain": [
       "252"
      ]
     },
     "execution_count": 10,
     "metadata": {},
     "output_type": "execute_result"
    }
   ],
   "source": [
    "len(all_results)"
   ]
  },
  {
   "cell_type": "code",
   "execution_count": 11,
   "id": "cardiovascular-lawrence",
   "metadata": {},
   "outputs": [],
   "source": [
    "all_results_df = pd.concat(all_results, ignore_index=True)"
   ]
  },
  {
   "cell_type": "code",
   "execution_count": 12,
   "id": "transsexual-fifty",
   "metadata": {},
   "outputs": [
    {
     "data": {
      "text/plain": [
       "(293882, 15)"
      ]
     },
     "execution_count": 12,
     "metadata": {},
     "output_type": "execute_result"
    }
   ],
   "source": [
    "all_results_df.shape"
   ]
  },
  {
   "cell_type": "code",
   "execution_count": 13,
   "id": "ceramic-divorce",
   "metadata": {},
   "outputs": [
    {
     "data": {
      "text/html": [
       "<div>\n",
       "<style scoped>\n",
       "    .dataframe tbody tr th:only-of-type {\n",
       "        vertical-align: middle;\n",
       "    }\n",
       "\n",
       "    .dataframe tbody tr th {\n",
       "        vertical-align: top;\n",
       "    }\n",
       "\n",
       "    .dataframe thead th {\n",
       "        text-align: right;\n",
       "    }\n",
       "</style>\n",
       "<table border=\"1\" class=\"dataframe\">\n",
       "  <thead>\n",
       "    <tr style=\"text-align: right;\">\n",
       "      <th></th>\n",
       "      <th>Cluster</th>\n",
       "      <th>ID</th>\n",
       "      <th>Description</th>\n",
       "      <th>GeneRatio</th>\n",
       "      <th>BgRatio</th>\n",
       "      <th>pvalue</th>\n",
       "      <th>p.adjust</th>\n",
       "      <th>qvalue</th>\n",
       "      <th>geneID</th>\n",
       "      <th>Count</th>\n",
       "      <th>k</th>\n",
       "      <th>method</th>\n",
       "      <th>gene_sets</th>\n",
       "      <th>ont</th>\n",
       "      <th>results_type</th>\n",
       "    </tr>\n",
       "  </thead>\n",
       "  <tbody>\n",
       "    <tr>\n",
       "      <th>0</th>\n",
       "      <td>C68</td>\n",
       "      <td>GO:0006614</td>\n",
       "      <td>SRP-dependent cotranslational protein targetin...</td>\n",
       "      <td>28/31</td>\n",
       "      <td>120/20610</td>\n",
       "      <td>3.903985e-61</td>\n",
       "      <td>9.994202e-59</td>\n",
       "      <td>7.684687e-59</td>\n",
       "      <td>RPL32/RPL12/RPS19/RPL36/RPL28/RPL13A/RPL19/RPS...</td>\n",
       "      <td>28</td>\n",
       "      <td>90</td>\n",
       "      <td>clustermatch</td>\n",
       "      <td>enrichGO</td>\n",
       "      <td>BP</td>\n",
       "      <td>full</td>\n",
       "    </tr>\n",
       "    <tr>\n",
       "      <th>1</th>\n",
       "      <td>C68</td>\n",
       "      <td>GO:0006613</td>\n",
       "      <td>cotranslational protein targeting to membrane</td>\n",
       "      <td>28/31</td>\n",
       "      <td>124/20610</td>\n",
       "      <td>1.101866e-60</td>\n",
       "      <td>1.410389e-58</td>\n",
       "      <td>1.084469e-58</td>\n",
       "      <td>RPL32/RPL12/RPS19/RPL36/RPL28/RPL13A/RPL19/RPS...</td>\n",
       "      <td>28</td>\n",
       "      <td>90</td>\n",
       "      <td>clustermatch</td>\n",
       "      <td>enrichGO</td>\n",
       "      <td>BP</td>\n",
       "      <td>full</td>\n",
       "    </tr>\n",
       "    <tr>\n",
       "      <th>2</th>\n",
       "      <td>C68</td>\n",
       "      <td>GO:0045047</td>\n",
       "      <td>protein targeting to ER</td>\n",
       "      <td>28/31</td>\n",
       "      <td>134/20610</td>\n",
       "      <td>1.259574e-59</td>\n",
       "      <td>1.074836e-57</td>\n",
       "      <td>8.264570e-58</td>\n",
       "      <td>RPL32/RPL12/RPS19/RPL36/RPL28/RPL13A/RPL19/RPS...</td>\n",
       "      <td>28</td>\n",
       "      <td>90</td>\n",
       "      <td>clustermatch</td>\n",
       "      <td>enrichGO</td>\n",
       "      <td>BP</td>\n",
       "      <td>full</td>\n",
       "    </tr>\n",
       "    <tr>\n",
       "      <th>3</th>\n",
       "      <td>C68</td>\n",
       "      <td>GO:0072599</td>\n",
       "      <td>establishment of protein localization to endop...</td>\n",
       "      <td>28/31</td>\n",
       "      <td>138/20610</td>\n",
       "      <td>3.153722e-59</td>\n",
       "      <td>2.018382e-57</td>\n",
       "      <td>1.551963e-57</td>\n",
       "      <td>RPL32/RPL12/RPS19/RPL36/RPL28/RPL13A/RPL19/RPS...</td>\n",
       "      <td>28</td>\n",
       "      <td>90</td>\n",
       "      <td>clustermatch</td>\n",
       "      <td>enrichGO</td>\n",
       "      <td>BP</td>\n",
       "      <td>full</td>\n",
       "    </tr>\n",
       "    <tr>\n",
       "      <th>4</th>\n",
       "      <td>C68</td>\n",
       "      <td>GO:0000184</td>\n",
       "      <td>nuclear-transcribed mRNA catabolic process, no...</td>\n",
       "      <td>28/31</td>\n",
       "      <td>145/20610</td>\n",
       "      <td>1.466372e-58</td>\n",
       "      <td>7.507824e-57</td>\n",
       "      <td>5.772874e-57</td>\n",
       "      <td>RPL32/RPL12/RPS19/RPL36/RPL28/RPL13A/RPL19/RPS...</td>\n",
       "      <td>28</td>\n",
       "      <td>90</td>\n",
       "      <td>clustermatch</td>\n",
       "      <td>enrichGO</td>\n",
       "      <td>BP</td>\n",
       "      <td>full</td>\n",
       "    </tr>\n",
       "  </tbody>\n",
       "</table>\n",
       "</div>"
      ],
      "text/plain": [
       "  Cluster          ID                                        Description  \\\n",
       "0     C68  GO:0006614  SRP-dependent cotranslational protein targetin...   \n",
       "1     C68  GO:0006613      cotranslational protein targeting to membrane   \n",
       "2     C68  GO:0045047                            protein targeting to ER   \n",
       "3     C68  GO:0072599  establishment of protein localization to endop...   \n",
       "4     C68  GO:0000184  nuclear-transcribed mRNA catabolic process, no...   \n",
       "\n",
       "  GeneRatio    BgRatio        pvalue      p.adjust        qvalue  \\\n",
       "0     28/31  120/20610  3.903985e-61  9.994202e-59  7.684687e-59   \n",
       "1     28/31  124/20610  1.101866e-60  1.410389e-58  1.084469e-58   \n",
       "2     28/31  134/20610  1.259574e-59  1.074836e-57  8.264570e-58   \n",
       "3     28/31  138/20610  3.153722e-59  2.018382e-57  1.551963e-57   \n",
       "4     28/31  145/20610  1.466372e-58  7.507824e-57  5.772874e-57   \n",
       "\n",
       "                                              geneID  Count   k        method  \\\n",
       "0  RPL32/RPL12/RPS19/RPL36/RPL28/RPL13A/RPL19/RPS...     28  90  clustermatch   \n",
       "1  RPL32/RPL12/RPS19/RPL36/RPL28/RPL13A/RPL19/RPS...     28  90  clustermatch   \n",
       "2  RPL32/RPL12/RPS19/RPL36/RPL28/RPL13A/RPL19/RPS...     28  90  clustermatch   \n",
       "3  RPL32/RPL12/RPS19/RPL36/RPL28/RPL13A/RPL19/RPS...     28  90  clustermatch   \n",
       "4  RPL32/RPL12/RPS19/RPL36/RPL28/RPL13A/RPL19/RPS...     28  90  clustermatch   \n",
       "\n",
       "  gene_sets ont results_type  \n",
       "0  enrichGO  BP         full  \n",
       "1  enrichGO  BP         full  \n",
       "2  enrichGO  BP         full  \n",
       "3  enrichGO  BP         full  \n",
       "4  enrichGO  BP         full  "
      ]
     },
     "execution_count": 13,
     "metadata": {},
     "output_type": "execute_result"
    }
   ],
   "source": [
    "all_results_df.head()"
   ]
  },
  {
   "cell_type": "markdown",
   "id": "afraid-mechanism",
   "metadata": {},
   "source": [
    "# QQ-plot of $p$-values TESTING"
   ]
  },
  {
   "cell_type": "code",
   "execution_count": 14,
   "id": "consolidated-handling",
   "metadata": {},
   "outputs": [],
   "source": [
    "# def get_quantiles(data):\n",
    "#     return pd.Series(-np.log10(data[\"p.adjust\"])).quantile(QUANTILES).rename(\"quantile\")"
   ]
  },
  {
   "cell_type": "code",
   "execution_count": 15,
   "id": "exciting-integer",
   "metadata": {},
   "outputs": [],
   "source": [
    "# plot_df = all_results_df.groupby([\"method\", \"k\", \"ont\", \"results_type\"]).apply(get_quantiles).stack().rename(\"p.adjust\").reset_index()"
   ]
  },
  {
   "cell_type": "code",
   "execution_count": 16,
   "id": "coated-charge",
   "metadata": {},
   "outputs": [],
   "source": [
    "# plot_df.shape"
   ]
  },
  {
   "cell_type": "code",
   "execution_count": 17,
   "id": "average-production",
   "metadata": {},
   "outputs": [],
   "source": [
    "# plot_df.head()"
   ]
  },
  {
   "cell_type": "code",
   "execution_count": 18,
   "id": "competent-moral",
   "metadata": {},
   "outputs": [],
   "source": [
    "# fig, ax = plt.subplots(figsize=(10, 8))\n",
    "\n",
    "# sns.scatterplot(\n",
    "#     data=plot_df[plot_df[\"ont\"] == \"BP\"],\n",
    "#     x=\"quantile\",\n",
    "#     y=\"p.adjust\",\n",
    "#     hue=\"method\",\n",
    "#     ax=ax,\n",
    "# )\n",
    "\n",
    "# # ax.set_xlabel(None)\n",
    "# # ax.set_ylabel(None)\n",
    "\n",
    "# # min_val = min((quantiles_df.iloc[:, 0].min(), quantiles_df.iloc[:, 1].min()))\n",
    "# # max_val = max((quantiles_df.iloc[:, 0].max(), quantiles_df.iloc[:, 1].max()))\n",
    "# # ax.plot([min_val, max_val], [min_val, max_val], \"k\", linewidth=0.5)\n",
    "\n",
    "# # plt.legend()"
   ]
  },
  {
   "cell_type": "markdown",
   "id": "random-picking",
   "metadata": {},
   "source": [
    "# QQ-plot of $p$-values (full set)"
   ]
  },
  {
   "cell_type": "code",
   "execution_count": 19,
   "id": "pending-footage",
   "metadata": {},
   "outputs": [],
   "source": [
    "_df_common = all_results_df[all_results_df[\"results_type\"] == \"full\"]\n",
    "_clustermatch_values = _df_common[_df_common[\"method\"] == \"clustermatch\"][\"p.adjust\"]\n",
    "_pearson_values = _df_common[_df_common[\"method\"] == \"pearson\"][\"p.adjust\"]"
   ]
  },
  {
   "cell_type": "code",
   "execution_count": 20,
   "id": "fallen-values",
   "metadata": {},
   "outputs": [],
   "source": [
    "# quantiles_df = pd.DataFrame(\n",
    "#     {\n",
    "#         \"clustermatch\": -np.log10(_clustermatch_values.quantile(QUANTILES)),\n",
    "#         \"pearson\": -np.log10(_pearson_values.quantile(QUANTILES)),\n",
    "#     }\n",
    "# )"
   ]
  },
  {
   "cell_type": "code",
   "execution_count": 21,
   "id": "executed-cylinder",
   "metadata": {},
   "outputs": [],
   "source": [
    "quantiles_df = pd.DataFrame(\n",
    "    {\n",
    "        \"clustermatch\": pd.Series(-np.log10(_clustermatch_values)).quantile(QUANTILES),\n",
    "        \"pearson\": pd.Series(-np.log10(_pearson_values)).quantile(QUANTILES),\n",
    "    }\n",
    ")"
   ]
  },
  {
   "cell_type": "code",
   "execution_count": 22,
   "id": "ordered-craft",
   "metadata": {},
   "outputs": [
    {
     "data": {
      "text/plain": [
       "(10000, 2)"
      ]
     },
     "execution_count": 22,
     "metadata": {},
     "output_type": "execute_result"
    }
   ],
   "source": [
    "quantiles_df.shape"
   ]
  },
  {
   "cell_type": "code",
   "execution_count": 23,
   "id": "bright-partition",
   "metadata": {},
   "outputs": [
    {
     "data": {
      "text/html": [
       "<div>\n",
       "<style scoped>\n",
       "    .dataframe tbody tr th:only-of-type {\n",
       "        vertical-align: middle;\n",
       "    }\n",
       "\n",
       "    .dataframe tbody tr th {\n",
       "        vertical-align: top;\n",
       "    }\n",
       "\n",
       "    .dataframe thead th {\n",
       "        text-align: right;\n",
       "    }\n",
       "</style>\n",
       "<table border=\"1\" class=\"dataframe\">\n",
       "  <thead>\n",
       "    <tr style=\"text-align: right;\">\n",
       "      <th></th>\n",
       "      <th>clustermatch</th>\n",
       "      <th>pearson</th>\n",
       "    </tr>\n",
       "  </thead>\n",
       "  <tbody>\n",
       "    <tr>\n",
       "      <th>0.0000</th>\n",
       "      <td>1.301034</td>\n",
       "      <td>1.301042</td>\n",
       "    </tr>\n",
       "    <tr>\n",
       "      <th>0.0001</th>\n",
       "      <td>1.301046</td>\n",
       "      <td>1.301129</td>\n",
       "    </tr>\n",
       "    <tr>\n",
       "      <th>0.0002</th>\n",
       "      <td>1.301052</td>\n",
       "      <td>1.301259</td>\n",
       "    </tr>\n",
       "    <tr>\n",
       "      <th>0.0003</th>\n",
       "      <td>1.301140</td>\n",
       "      <td>1.301347</td>\n",
       "    </tr>\n",
       "    <tr>\n",
       "      <th>0.0004</th>\n",
       "      <td>1.301273</td>\n",
       "      <td>1.301363</td>\n",
       "    </tr>\n",
       "  </tbody>\n",
       "</table>\n",
       "</div>"
      ],
      "text/plain": [
       "        clustermatch   pearson\n",
       "0.0000      1.301034  1.301042\n",
       "0.0001      1.301046  1.301129\n",
       "0.0002      1.301052  1.301259\n",
       "0.0003      1.301140  1.301347\n",
       "0.0004      1.301273  1.301363"
      ]
     },
     "execution_count": 23,
     "metadata": {},
     "output_type": "execute_result"
    }
   ],
   "source": [
    "quantiles_df.head()"
   ]
  },
  {
   "cell_type": "code",
   "execution_count": 24,
   "id": "average-fundamentals",
   "metadata": {},
   "outputs": [
    {
     "data": {
      "text/plain": [
       "Text(0.5, 1.0, 'Gene Ontology (full)')"
      ]
     },
     "execution_count": 24,
     "metadata": {},
     "output_type": "execute_result"
    },
    {
     "data": {
      "image/png": "[encoded data removed]",
      "text/plain": [
       "<Figure size 720x576 with 1 Axes>"
      ]
     },
     "metadata": {
      "needs_background": "light"
     },
     "output_type": "display_data"
    }
   ],
   "source": [
    "fig, ax = plt.subplots(figsize=(10, 8))\n",
    "\n",
    "sns.scatterplot(\n",
    "    data=quantiles_df,\n",
    "    x=\"pearson\",\n",
    "    y=\"clustermatch\",\n",
    "    ax=ax,\n",
    ")\n",
    "\n",
    "# ax.set_xlabel(None)\n",
    "# ax.set_ylabel(None)\n",
    "\n",
    "min_val = min((quantiles_df.iloc[:, 0].min(), quantiles_df.iloc[:, 1].min()))\n",
    "max_val = max((quantiles_df.iloc[:, 0].max(), quantiles_df.iloc[:, 1].max()))\n",
    "ax.plot([min_val, max_val], [min_val, max_val], \"k\", linewidth=0.5)\n",
    "\n",
    "ax.set_title(\"Gene Ontology (full)\")\n",
    "\n",
    "# plt.legend()"
   ]
  },
  {
   "cell_type": "markdown",
   "id": "pharmaceutical-audio",
   "metadata": {},
   "source": [
    "# QQ-plot of $p$-values (simplified set)"
   ]
  },
  {
   "cell_type": "code",
   "execution_count": 25,
   "id": "multiple-alaska",
   "metadata": {},
   "outputs": [],
   "source": [
    "_df_common = all_results_df[all_results_df[\"results_type\"] == \"simplified\"]\n",
    "_clustermatch_values = _df_common[_df_common[\"method\"] == \"clustermatch\"][\"p.adjust\"]\n",
    "_pearson_values = _df_common[_df_common[\"method\"] == \"pearson\"][\"p.adjust\"]"
   ]
  },
  {
   "cell_type": "code",
   "execution_count": 26,
   "id": "cellular-quick",
   "metadata": {},
   "outputs": [],
   "source": [
    "# quantiles_df = pd.DataFrame(\n",
    "#     {\n",
    "#         \"clustermatch\": -np.log10(_clustermatch_values.quantile(QUANTILES)),\n",
    "#         \"pearson\": -np.log10(_pearson_values.quantile(QUANTILES)),\n",
    "#     }\n",
    "# )"
   ]
  },
  {
   "cell_type": "code",
   "execution_count": 27,
   "id": "warming-adelaide",
   "metadata": {},
   "outputs": [],
   "source": [
    "quantiles_df = pd.DataFrame(\n",
    "    {\n",
    "        \"clustermatch\": pd.Series(-np.log10(_clustermatch_values)).quantile(QUANTILES),\n",
    "        \"pearson\": pd.Series(-np.log10(_pearson_values)).quantile(QUANTILES),\n",
    "    }\n",
    ")"
   ]
  },
  {
   "cell_type": "code",
   "execution_count": 28,
   "id": "controversial-immune",
   "metadata": {},
   "outputs": [],
   "source": [
    "# quantiles_df[quantiles_df > 5] = np.nan"
   ]
  },
  {
   "cell_type": "code",
   "execution_count": 29,
   "id": "geological-corporation",
   "metadata": {},
   "outputs": [
    {
     "data": {
      "text/plain": [
       "(10000, 2)"
      ]
     },
     "execution_count": 29,
     "metadata": {},
     "output_type": "execute_result"
    }
   ],
   "source": [
    "quantiles_df.shape"
   ]
  },
  {
   "cell_type": "code",
   "execution_count": 30,
   "id": "monetary-county",
   "metadata": {},
   "outputs": [
    {
     "data": {
      "text/html": [
       "<div>\n",
       "<style scoped>\n",
       "    .dataframe tbody tr th:only-of-type {\n",
       "        vertical-align: middle;\n",
       "    }\n",
       "\n",
       "    .dataframe tbody tr th {\n",
       "        vertical-align: top;\n",
       "    }\n",
       "\n",
       "    .dataframe thead th {\n",
       "        text-align: right;\n",
       "    }\n",
       "</style>\n",
       "<table border=\"1\" class=\"dataframe\">\n",
       "  <thead>\n",
       "    <tr style=\"text-align: right;\">\n",
       "      <th></th>\n",
       "      <th>clustermatch</th>\n",
       "      <th>pearson</th>\n",
       "    </tr>\n",
       "  </thead>\n",
       "  <tbody>\n",
       "    <tr>\n",
       "      <th>0.0000</th>\n",
       "      <td>1.301039</td>\n",
       "      <td>1.301108</td>\n",
       "    </tr>\n",
       "    <tr>\n",
       "      <th>0.0001</th>\n",
       "      <td>1.301106</td>\n",
       "      <td>1.301334</td>\n",
       "    </tr>\n",
       "    <tr>\n",
       "      <th>0.0002</th>\n",
       "      <td>1.301202</td>\n",
       "      <td>1.301347</td>\n",
       "    </tr>\n",
       "    <tr>\n",
       "      <th>0.0003</th>\n",
       "      <td>1.301218</td>\n",
       "      <td>1.301347</td>\n",
       "    </tr>\n",
       "    <tr>\n",
       "      <th>0.0004</th>\n",
       "      <td>1.301630</td>\n",
       "      <td>1.301347</td>\n",
       "    </tr>\n",
       "  </tbody>\n",
       "</table>\n",
       "</div>"
      ],
      "text/plain": [
       "        clustermatch   pearson\n",
       "0.0000      1.301039  1.301108\n",
       "0.0001      1.301106  1.301334\n",
       "0.0002      1.301202  1.301347\n",
       "0.0003      1.301218  1.301347\n",
       "0.0004      1.301630  1.301347"
      ]
     },
     "execution_count": 30,
     "metadata": {},
     "output_type": "execute_result"
    }
   ],
   "source": [
    "quantiles_df.head()"
   ]
  },
  {
   "cell_type": "code",
   "execution_count": 31,
   "id": "civilian-question",
   "metadata": {},
   "outputs": [
    {
     "data": {
      "text/plain": [
       "Text(0.5, 1.0, 'Gene Ontology (simplified)')"
      ]
     },
     "execution_count": 31,
     "metadata": {},
     "output_type": "execute_result"
    },
    {
     "data": {
      "image/png": "[encoded data removed]",
      "text/plain": [
       "<Figure size 720x576 with 1 Axes>"
      ]
     },
     "metadata": {
      "needs_background": "light"
     },
     "output_type": "display_data"
    }
   ],
   "source": [
    "fig, ax = plt.subplots(figsize=(10, 8))\n",
    "\n",
    "sns.scatterplot(\n",
    "    data=quantiles_df,\n",
    "    x=\"pearson\",\n",
    "    y=\"clustermatch\",\n",
    "    ax=ax,\n",
    ")\n",
    "\n",
    "# ax.set_xlabel(None)\n",
    "# ax.set_ylabel(None)\n",
    "\n",
    "min_val = min((quantiles_df.iloc[:, 0].min(), quantiles_df.iloc[:, 1].min()))\n",
    "max_val = max((quantiles_df.iloc[:, 0].max(), quantiles_df.iloc[:, 1].max()))\n",
    "ax.plot([min_val, max_val], [min_val, max_val], \"k\", linewidth=0.5)\n",
    "\n",
    "ax.set_title(\"Gene Ontology (simplified)\")\n",
    "\n",
    "# plt.legend()"
   ]
  },
  {
   "cell_type": "markdown",
   "id": "vital-airplane",
   "metadata": {},
   "source": [
    "# QQ-plot of $p$-values (simplified set + BP)"
   ]
  },
  {
   "cell_type": "code",
   "execution_count": 32,
   "id": "communist-myanmar",
   "metadata": {},
   "outputs": [],
   "source": [
    "_df_common = all_results_df[\n",
    "    (all_results_df[\"results_type\"] == \"simplified\")\n",
    "    & (all_results_df[\"ont\"] == \"BP\")\n",
    "]\n",
    "_clustermatch_values = _df_common[_df_common[\"method\"] == \"clustermatch\"][\"p.adjust\"]\n",
    "_pearson_values = _df_common[_df_common[\"method\"] == \"pearson\"][\"p.adjust\"]"
   ]
  },
  {
   "cell_type": "code",
   "execution_count": 33,
   "id": "parallel-benjamin",
   "metadata": {},
   "outputs": [],
   "source": [
    "quantiles_df = pd.DataFrame(\n",
    "    {\n",
    "        \"clustermatch\": pd.Series(-np.log10(_clustermatch_values)).quantile(QUANTILES),\n",
    "        \"pearson\": pd.Series(-np.log10(_pearson_values)).quantile(QUANTILES),\n",
    "    }\n",
    ")"
   ]
  },
  {
   "cell_type": "code",
   "execution_count": 34,
   "id": "respective-houston",
   "metadata": {},
   "outputs": [],
   "source": [
    "# quantiles_df[quantiles_df > 5] = np.nan"
   ]
  },
  {
   "cell_type": "code",
   "execution_count": 35,
   "id": "therapeutic-documentation",
   "metadata": {},
   "outputs": [
    {
     "data": {
      "text/plain": [
       "(10000, 2)"
      ]
     },
     "execution_count": 35,
     "metadata": {},
     "output_type": "execute_result"
    }
   ],
   "source": [
    "quantiles_df.shape"
   ]
  },
  {
   "cell_type": "code",
   "execution_count": 36,
   "id": "restricted-small",
   "metadata": {},
   "outputs": [
    {
     "data": {
      "text/html": [
       "<div>\n",
       "<style scoped>\n",
       "    .dataframe tbody tr th:only-of-type {\n",
       "        vertical-align: middle;\n",
       "    }\n",
       "\n",
       "    .dataframe tbody tr th {\n",
       "        vertical-align: top;\n",
       "    }\n",
       "\n",
       "    .dataframe thead th {\n",
       "        text-align: right;\n",
       "    }\n",
       "</style>\n",
       "<table border=\"1\" class=\"dataframe\">\n",
       "  <thead>\n",
       "    <tr style=\"text-align: right;\">\n",
       "      <th></th>\n",
       "      <th>clustermatch</th>\n",
       "      <th>pearson</th>\n",
       "    </tr>\n",
       "  </thead>\n",
       "  <tbody>\n",
       "    <tr>\n",
       "      <th>0.0000</th>\n",
       "      <td>1.301153</td>\n",
       "      <td>1.301137</td>\n",
       "    </tr>\n",
       "    <tr>\n",
       "      <th>0.0001</th>\n",
       "      <td>1.301195</td>\n",
       "      <td>1.302032</td>\n",
       "    </tr>\n",
       "    <tr>\n",
       "      <th>0.0002</th>\n",
       "      <td>1.301202</td>\n",
       "      <td>1.302561</td>\n",
       "    </tr>\n",
       "    <tr>\n",
       "      <th>0.0003</th>\n",
       "      <td>1.301442</td>\n",
       "      <td>1.302907</td>\n",
       "    </tr>\n",
       "    <tr>\n",
       "      <th>0.0004</th>\n",
       "      <td>1.301692</td>\n",
       "      <td>1.303297</td>\n",
       "    </tr>\n",
       "  </tbody>\n",
       "</table>\n",
       "</div>"
      ],
      "text/plain": [
       "        clustermatch   pearson\n",
       "0.0000      1.301153  1.301137\n",
       "0.0001      1.301195  1.302032\n",
       "0.0002      1.301202  1.302561\n",
       "0.0003      1.301442  1.302907\n",
       "0.0004      1.301692  1.303297"
      ]
     },
     "execution_count": 36,
     "metadata": {},
     "output_type": "execute_result"
    }
   ],
   "source": [
    "quantiles_df.head()"
   ]
  },
  {
   "cell_type": "code",
   "execution_count": 37,
   "id": "critical-reduction",
   "metadata": {},
   "outputs": [
    {
     "data": {
      "text/plain": [
       "Text(0.5, 1.0, 'Gene Ontology (simplified + BP)')"
      ]
     },
     "execution_count": 37,
     "metadata": {},
     "output_type": "execute_result"
    },
    {
     "data": {
      "image/png": "[encoded data removed]",
      "text/plain": [
       "<Figure size 720x576 with 1 Axes>"
      ]
     },
     "metadata": {
      "needs_background": "light"
     },
     "output_type": "display_data"
    }
   ],
   "source": [
    "fig, ax = plt.subplots(figsize=(10, 8))\n",
    "\n",
    "sns.scatterplot(\n",
    "    data=quantiles_df,\n",
    "    x=\"pearson\",\n",
    "    y=\"clustermatch\",\n",
    "    ax=ax,\n",
    ")\n",
    "\n",
    "# ax.set_xlabel(None)\n",
    "# ax.set_ylabel(None)\n",
    "\n",
    "min_val = min((quantiles_df.iloc[:, 0].min(), quantiles_df.iloc[:, 1].min()))\n",
    "max_val = max((quantiles_df.iloc[:, 0].max(), quantiles_df.iloc[:, 1].max()))\n",
    "ax.plot([min_val, max_val], [min_val, max_val], \"k\", linewidth=0.5)\n",
    "\n",
    "ax.set_title(\"Gene Ontology (simplified + BP)\")\n",
    "\n",
    "# plt.legend()"
   ]
  },
  {
   "cell_type": "markdown",
   "id": "leading-doubt",
   "metadata": {},
   "source": [
    "# QQ-plot of $p$-values (simplified set + CC)"
   ]
  },
  {
   "cell_type": "code",
   "execution_count": 38,
   "id": "infrared-serbia",
   "metadata": {},
   "outputs": [],
   "source": [
    "_df_common = all_results_df[\n",
    "    (all_results_df[\"results_type\"] == \"simplified\")\n",
    "    & (all_results_df[\"ont\"] == \"CC\")\n",
    "]\n",
    "_clustermatch_values = _df_common[_df_common[\"method\"] == \"clustermatch\"][\"p.adjust\"]\n",
    "_pearson_values = _df_common[_df_common[\"method\"] == \"pearson\"][\"p.adjust\"]"
   ]
  },
  {
   "cell_type": "code",
   "execution_count": 39,
   "id": "documentary-bouquet",
   "metadata": {},
   "outputs": [],
   "source": [
    "quantiles_df = pd.DataFrame(\n",
    "    {\n",
    "        \"clustermatch\": pd.Series(-np.log10(_clustermatch_values)).quantile(QUANTILES),\n",
    "        \"pearson\": pd.Series(-np.log10(_pearson_values)).quantile(QUANTILES),\n",
    "    }\n",
    ")"
   ]
  },
  {
   "cell_type": "code",
   "execution_count": 40,
   "id": "consistent-routine",
   "metadata": {},
   "outputs": [],
   "source": [
    "# quantiles_df[quantiles_df > 5] = np.nan"
   ]
  },
  {
   "cell_type": "code",
   "execution_count": 41,
   "id": "labeled-blake",
   "metadata": {},
   "outputs": [
    {
     "data": {
      "text/plain": [
       "(10000, 2)"
      ]
     },
     "execution_count": 41,
     "metadata": {},
     "output_type": "execute_result"
    }
   ],
   "source": [
    "quantiles_df.shape"
   ]
  },
  {
   "cell_type": "code",
   "execution_count": 42,
   "id": "controversial-meaning",
   "metadata": {},
   "outputs": [
    {
     "data": {
      "text/html": [
       "<div>\n",
       "<style scoped>\n",
       "    .dataframe tbody tr th:only-of-type {\n",
       "        vertical-align: middle;\n",
       "    }\n",
       "\n",
       "    .dataframe tbody tr th {\n",
       "        vertical-align: top;\n",
       "    }\n",
       "\n",
       "    .dataframe thead th {\n",
       "        text-align: right;\n",
       "    }\n",
       "</style>\n",
       "<table border=\"1\" class=\"dataframe\">\n",
       "  <thead>\n",
       "    <tr style=\"text-align: right;\">\n",
       "      <th></th>\n",
       "      <th>clustermatch</th>\n",
       "      <th>pearson</th>\n",
       "    </tr>\n",
       "  </thead>\n",
       "  <tbody>\n",
       "    <tr>\n",
       "      <th>0.0000</th>\n",
       "      <td>1.301039</td>\n",
       "      <td>1.301108</td>\n",
       "    </tr>\n",
       "    <tr>\n",
       "      <th>0.0001</th>\n",
       "      <td>1.301039</td>\n",
       "      <td>1.301520</td>\n",
       "    </tr>\n",
       "    <tr>\n",
       "      <th>0.0002</th>\n",
       "      <td>1.301039</td>\n",
       "      <td>1.301932</td>\n",
       "    </tr>\n",
       "    <tr>\n",
       "      <th>0.0003</th>\n",
       "      <td>1.301039</td>\n",
       "      <td>1.302344</td>\n",
       "    </tr>\n",
       "    <tr>\n",
       "      <th>0.0004</th>\n",
       "      <td>1.301160</td>\n",
       "      <td>1.303568</td>\n",
       "    </tr>\n",
       "  </tbody>\n",
       "</table>\n",
       "</div>"
      ],
      "text/plain": [
       "        clustermatch   pearson\n",
       "0.0000      1.301039  1.301108\n",
       "0.0001      1.301039  1.301520\n",
       "0.0002      1.301039  1.301932\n",
       "0.0003      1.301039  1.302344\n",
       "0.0004      1.301160  1.303568"
      ]
     },
     "execution_count": 42,
     "metadata": {},
     "output_type": "execute_result"
    }
   ],
   "source": [
    "quantiles_df.head()"
   ]
  },
  {
   "cell_type": "code",
   "execution_count": 43,
   "id": "corrected-loading",
   "metadata": {},
   "outputs": [
    {
     "data": {
      "text/plain": [
       "Text(0.5, 1.0, 'Gene Ontology (simplified + CC)')"
      ]
     },
     "execution_count": 43,
     "metadata": {},
     "output_type": "execute_result"
    },
    {
     "data": {
      "image/png": "[encoded data removed]",
      "text/plain": [
       "<Figure size 720x576 with 1 Axes>"
      ]
     },
     "metadata": {
      "needs_background": "light"
     },
     "output_type": "display_data"
    }
   ],
   "source": [
    "fig, ax = plt.subplots(figsize=(10, 8))\n",
    "\n",
    "sns.scatterplot(\n",
    "    data=quantiles_df,\n",
    "    x=\"pearson\",\n",
    "    y=\"clustermatch\",\n",
    "    ax=ax,\n",
    ")\n",
    "\n",
    "# ax.set_xlabel(None)\n",
    "# ax.set_ylabel(None)\n",
    "\n",
    "min_val = min((quantiles_df.iloc[:, 0].min(), quantiles_df.iloc[:, 1].min()))\n",
    "max_val = max((quantiles_df.iloc[:, 0].max(), quantiles_df.iloc[:, 1].max()))\n",
    "ax.plot([min_val, max_val], [min_val, max_val], \"k\", linewidth=0.5)\n",
    "\n",
    "ax.set_title(\"Gene Ontology (simplified + CC)\")\n",
    "\n",
    "# plt.legend()"
   ]
  },
  {
   "cell_type": "markdown",
   "id": "unknown-concentrate",
   "metadata": {},
   "source": [
    "# QQ-plot of $p$-values (simplified set + MF)"
   ]
  },
  {
   "cell_type": "code",
   "execution_count": 44,
   "id": "enormous-wrestling",
   "metadata": {},
   "outputs": [],
   "source": [
    "_df_common = all_results_df[\n",
    "    (all_results_df[\"results_type\"] == \"simplified\")\n",
    "    & (all_results_df[\"ont\"] == \"MF\")\n",
    "]\n",
    "_clustermatch_values = _df_common[_df_common[\"method\"] == \"clustermatch\"][\"p.adjust\"]\n",
    "_pearson_values = _df_common[_df_common[\"method\"] == \"pearson\"][\"p.adjust\"]"
   ]
  },
  {
   "cell_type": "code",
   "execution_count": 45,
   "id": "horizontal-enzyme",
   "metadata": {},
   "outputs": [],
   "source": [
    "quantiles_df = pd.DataFrame(\n",
    "    {\n",
    "        \"clustermatch\": pd.Series(-np.log10(_clustermatch_values)).quantile(QUANTILES),\n",
    "        \"pearson\": pd.Series(-np.log10(_pearson_values)).quantile(QUANTILES),\n",
    "    }\n",
    ")"
   ]
  },
  {
   "cell_type": "code",
   "execution_count": 46,
   "id": "every-madagascar",
   "metadata": {},
   "outputs": [],
   "source": [
    "# quantiles_df[quantiles_df > 5] = np.nan"
   ]
  },
  {
   "cell_type": "code",
   "execution_count": 47,
   "id": "smart-hollow",
   "metadata": {},
   "outputs": [
    {
     "data": {
      "text/plain": [
       "(10000, 2)"
      ]
     },
     "execution_count": 47,
     "metadata": {},
     "output_type": "execute_result"
    }
   ],
   "source": [
    "quantiles_df.shape"
   ]
  },
  {
   "cell_type": "code",
   "execution_count": 48,
   "id": "romantic-stephen",
   "metadata": {},
   "outputs": [
    {
     "data": {
      "text/html": [
       "<div>\n",
       "<style scoped>\n",
       "    .dataframe tbody tr th:only-of-type {\n",
       "        vertical-align: middle;\n",
       "    }\n",
       "\n",
       "    .dataframe tbody tr th {\n",
       "        vertical-align: top;\n",
       "    }\n",
       "\n",
       "    .dataframe thead th {\n",
       "        text-align: right;\n",
       "    }\n",
       "</style>\n",
       "<table border=\"1\" class=\"dataframe\">\n",
       "  <thead>\n",
       "    <tr style=\"text-align: right;\">\n",
       "      <th></th>\n",
       "      <th>clustermatch</th>\n",
       "      <th>pearson</th>\n",
       "    </tr>\n",
       "  </thead>\n",
       "  <tbody>\n",
       "    <tr>\n",
       "      <th>0.0000</th>\n",
       "      <td>1.301222</td>\n",
       "      <td>1.301347</td>\n",
       "    </tr>\n",
       "    <tr>\n",
       "      <th>0.0001</th>\n",
       "      <td>1.301536</td>\n",
       "      <td>1.301347</td>\n",
       "    </tr>\n",
       "    <tr>\n",
       "      <th>0.0002</th>\n",
       "      <td>1.301849</td>\n",
       "      <td>1.301347</td>\n",
       "    </tr>\n",
       "    <tr>\n",
       "      <th>0.0003</th>\n",
       "      <td>1.302114</td>\n",
       "      <td>1.301347</td>\n",
       "    </tr>\n",
       "    <tr>\n",
       "      <th>0.0004</th>\n",
       "      <td>1.302356</td>\n",
       "      <td>1.301347</td>\n",
       "    </tr>\n",
       "  </tbody>\n",
       "</table>\n",
       "</div>"
      ],
      "text/plain": [
       "        clustermatch   pearson\n",
       "0.0000      1.301222  1.301347\n",
       "0.0001      1.301536  1.301347\n",
       "0.0002      1.301849  1.301347\n",
       "0.0003      1.302114  1.301347\n",
       "0.0004      1.302356  1.301347"
      ]
     },
     "execution_count": 48,
     "metadata": {},
     "output_type": "execute_result"
    }
   ],
   "source": [
    "quantiles_df.head()"
   ]
  },
  {
   "cell_type": "code",
   "execution_count": 49,
   "id": "starting-nelson",
   "metadata": {},
   "outputs": [
    {
     "data": {
      "text/plain": [
       "Text(0.5, 1.0, 'Gene Ontology (simplified + MF)')"
      ]
     },
     "execution_count": 49,
     "metadata": {},
     "output_type": "execute_result"
    },
    {
     "data": {
      "image/png": "[encoded data removed]",
      "text/plain": [
       "<Figure size 720x576 with 1 Axes>"
      ]
     },
     "metadata": {
      "needs_background": "light"
     },
     "output_type": "display_data"
    }
   ],
   "source": [
    "fig, ax = plt.subplots(figsize=(10, 8))\n",
    "\n",
    "sns.scatterplot(\n",
    "    data=quantiles_df,\n",
    "    x=\"pearson\",\n",
    "    y=\"clustermatch\",\n",
    "    ax=ax,\n",
    ")\n",
    "\n",
    "# ax.set_xlabel(None)\n",
    "# ax.set_ylabel(None)\n",
    "\n",
    "min_val = min((quantiles_df.iloc[:, 0].min(), quantiles_df.iloc[:, 1].min()))\n",
    "max_val = max((quantiles_df.iloc[:, 0].max(), quantiles_df.iloc[:, 1].max()))\n",
    "ax.plot([min_val, max_val], [min_val, max_val], \"k\", linewidth=0.5)\n",
    "\n",
    "ax.set_title(\"Gene Ontology (simplified + MF)\")\n",
    "\n",
    "# plt.legend()"
   ]
  },
  {
   "cell_type": "markdown",
   "id": "labeled-trader",
   "metadata": {},
   "source": [
    "# Plot unique GO terms"
   ]
  },
  {
   "cell_type": "code",
   "execution_count": 53,
   "id": "finished-cause",
   "metadata": {},
   "outputs": [],
   "source": [
    "plot_df = all_results_df.groupby([\"method\", \"k\", \"results_type\"])['ID'].nunique().rename(\"count\").reset_index()"
   ]
  },
  {
   "cell_type": "code",
   "execution_count": 54,
   "id": "massive-complex",
   "metadata": {},
   "outputs": [
    {
     "data": {
      "text/plain": [
       "(84, 4)"
      ]
     },
     "execution_count": 54,
     "metadata": {},
     "output_type": "execute_result"
    }
   ],
   "source": [
    "plot_df.shape"
   ]
  },
  {
   "cell_type": "code",
   "execution_count": 55,
   "id": "accessory-basement",
   "metadata": {},
   "outputs": [
    {
     "data": {
      "text/html": [
       "<div>\n",
       "<style scoped>\n",
       "    .dataframe tbody tr th:only-of-type {\n",
       "        vertical-align: middle;\n",
       "    }\n",
       "\n",
       "    .dataframe tbody tr th {\n",
       "        vertical-align: top;\n",
       "    }\n",
       "\n",
       "    .dataframe thead th {\n",
       "        text-align: right;\n",
       "    }\n",
       "</style>\n",
       "<table border=\"1\" class=\"dataframe\">\n",
       "  <thead>\n",
       "    <tr style=\"text-align: right;\">\n",
       "      <th></th>\n",
       "      <th>method</th>\n",
       "      <th>k</th>\n",
       "      <th>results_type</th>\n",
       "      <th>count</th>\n",
       "    </tr>\n",
       "  </thead>\n",
       "  <tbody>\n",
       "    <tr>\n",
       "      <th>0</th>\n",
       "      <td>clustermatch</td>\n",
       "      <td>2</td>\n",
       "      <td>full</td>\n",
       "      <td>2459</td>\n",
       "    </tr>\n",
       "    <tr>\n",
       "      <th>1</th>\n",
       "      <td>clustermatch</td>\n",
       "      <td>2</td>\n",
       "      <td>simplified</td>\n",
       "      <td>67</td>\n",
       "    </tr>\n",
       "    <tr>\n",
       "      <th>2</th>\n",
       "      <td>clustermatch</td>\n",
       "      <td>5</td>\n",
       "      <td>full</td>\n",
       "      <td>2285</td>\n",
       "    </tr>\n",
       "    <tr>\n",
       "      <th>3</th>\n",
       "      <td>clustermatch</td>\n",
       "      <td>5</td>\n",
       "      <td>simplified</td>\n",
       "      <td>113</td>\n",
       "    </tr>\n",
       "    <tr>\n",
       "      <th>4</th>\n",
       "      <td>clustermatch</td>\n",
       "      <td>10</td>\n",
       "      <td>full</td>\n",
       "      <td>2629</td>\n",
       "    </tr>\n",
       "  </tbody>\n",
       "</table>\n",
       "</div>"
      ],
      "text/plain": [
       "         method   k results_type  count\n",
       "0  clustermatch   2         full   2459\n",
       "1  clustermatch   2   simplified     67\n",
       "2  clustermatch   5         full   2285\n",
       "3  clustermatch   5   simplified    113\n",
       "4  clustermatch  10         full   2629"
      ]
     },
     "execution_count": 55,
     "metadata": {},
     "output_type": "execute_result"
    }
   ],
   "source": [
    "plot_df.head()"
   ]
  },
  {
   "cell_type": "code",
   "execution_count": 56,
   "id": "interior-exclusion",
   "metadata": {},
   "outputs": [
    {
     "data": {
      "text/plain": [
       "<seaborn.axisgrid.FacetGrid at 0x7f271a3641c0>"
      ]
     },
     "execution_count": 56,
     "metadata": {},
     "output_type": "execute_result"
    },
    {
     "data": {
      "image/png": "[encoded data removed]",
      "text/plain": [
       "<Figure size 821.5x360 with 2 Axes>"
      ]
     },
     "metadata": {
      "needs_background": "light"
     },
     "output_type": "display_data"
    }
   ],
   "source": [
    "# fig, ax = plt.subplots(figsize=(10, 8))\n",
    "\n",
    "sns.catplot(\n",
    "    data=plot_df,\n",
    "    x=\"k\",\n",
    "    y=\"count\",\n",
    "    hue=\"method\",\n",
    "    col=\"results_type\",\n",
    "#     ax=ax,\n",
    ")\n",
    "\n",
    "# ax.set_xlabel(None)\n",
    "# ax.set_ylabel(None)\n",
    "\n",
    "# min_val = min((quantiles_df.iloc[:, 0].min(), quantiles_df.iloc[:, 1].min()))\n",
    "# max_val = max((quantiles_df.iloc[:, 0].max(), quantiles_df.iloc[:, 1].max()))\n",
    "# ax.plot([min_val, max_val], [min_val, max_val], \"k\", linewidth=0.5)\n",
    "\n",
    "# plt.legend()"
   ]
  },
  {
   "cell_type": "markdown",
   "id": "jewish-profit",
   "metadata": {},
   "source": [
    "# Intersection of terms"
   ]
  },
  {
   "cell_type": "code",
   "execution_count": 54,
   "id": "radio-sewing",
   "metadata": {},
   "outputs": [],
   "source": [
    "from upsetplot import UpSet"
   ]
  },
  {
   "cell_type": "code",
   "execution_count": 263,
   "id": "charitable-phrase",
   "metadata": {},
   "outputs": [
    {
     "data": {
      "text/plain": [
       "\u001b[0;31mInit signature:\u001b[0m\n",
       "\u001b[0mUpSet\u001b[0m\u001b[0;34m(\u001b[0m\u001b[0;34m\u001b[0m\n",
       "\u001b[0;34m\u001b[0m    \u001b[0mdata\u001b[0m\u001b[0;34m,\u001b[0m\u001b[0;34m\u001b[0m\n",
       "\u001b[0;34m\u001b[0m    \u001b[0morientation\u001b[0m\u001b[0;34m=\u001b[0m\u001b[0;34m'horizontal'\u001b[0m\u001b[0;34m,\u001b[0m\u001b[0;34m\u001b[0m\n",
       "\u001b[0;34m\u001b[0m    \u001b[0msort_by\u001b[0m\u001b[0;34m=\u001b[0m\u001b[0;34m'degree'\u001b[0m\u001b[0;34m,\u001b[0m\u001b[0;34m\u001b[0m\n",
       "\u001b[0;34m\u001b[0m    \u001b[0msort_categories_by\u001b[0m\u001b[0;34m=\u001b[0m\u001b[0;34m'cardinality'\u001b[0m\u001b[0;34m,\u001b[0m\u001b[0;34m\u001b[0m\n",
       "\u001b[0;34m\u001b[0m    \u001b[0msubset_size\u001b[0m\u001b[0;34m=\u001b[0m\u001b[0;34m'auto'\u001b[0m\u001b[0;34m,\u001b[0m\u001b[0;34m\u001b[0m\n",
       "\u001b[0;34m\u001b[0m    \u001b[0msum_over\u001b[0m\u001b[0;34m=\u001b[0m\u001b[0;32mNone\u001b[0m\u001b[0;34m,\u001b[0m\u001b[0;34m\u001b[0m\n",
       "\u001b[0;34m\u001b[0m    \u001b[0mfacecolor\u001b[0m\u001b[0;34m=\u001b[0m\u001b[0;34m'black'\u001b[0m\u001b[0;34m,\u001b[0m\u001b[0;34m\u001b[0m\n",
       "\u001b[0;34m\u001b[0m    \u001b[0mwith_lines\u001b[0m\u001b[0;34m=\u001b[0m\u001b[0;32mTrue\u001b[0m\u001b[0;34m,\u001b[0m\u001b[0;34m\u001b[0m\n",
       "\u001b[0;34m\u001b[0m    \u001b[0melement_size\u001b[0m\u001b[0;34m=\u001b[0m\u001b[0;36m32\u001b[0m\u001b[0;34m,\u001b[0m\u001b[0;34m\u001b[0m\n",
       "\u001b[0;34m\u001b[0m    \u001b[0mintersection_plot_elements\u001b[0m\u001b[0;34m=\u001b[0m\u001b[0;36m6\u001b[0m\u001b[0;34m,\u001b[0m\u001b[0;34m\u001b[0m\n",
       "\u001b[0;34m\u001b[0m    \u001b[0mtotals_plot_elements\u001b[0m\u001b[0;34m=\u001b[0m\u001b[0;36m2\u001b[0m\u001b[0;34m,\u001b[0m\u001b[0;34m\u001b[0m\n",
       "\u001b[0;34m\u001b[0m    \u001b[0mshow_counts\u001b[0m\u001b[0;34m=\u001b[0m\u001b[0;34m''\u001b[0m\u001b[0;34m,\u001b[0m\u001b[0;34m\u001b[0m\n",
       "\u001b[0;34m\u001b[0m    \u001b[0mshow_percentages\u001b[0m\u001b[0;34m=\u001b[0m\u001b[0;32mFalse\u001b[0m\u001b[0;34m,\u001b[0m\u001b[0;34m\u001b[0m\n",
       "\u001b[0;34m\u001b[0m\u001b[0;34m)\u001b[0m\u001b[0;34m\u001b[0m\u001b[0;34m\u001b[0m\u001b[0m\n",
       "\u001b[0;31mDocstring:\u001b[0m     \n",
       "Manage the data and drawing for a basic UpSet plot\n",
       "\n",
       "Primary public method is :meth:`plot`.\n",
       "\n",
       "Parameters\n",
       "----------\n",
       "data : pandas.Series or pandas.DataFrame\n",
       "    Elements associated with categories (a DataFrame), or the size of each\n",
       "    subset of categories (a Series).\n",
       "    Should have MultiIndex where each level is binary,\n",
       "    corresponding to category membership.\n",
       "    If a DataFrame, `sum_over` must be a string or False.\n",
       "orientation : {'horizontal' (default), 'vertical'}\n",
       "    If horizontal, intersections are listed from left to right.\n",
       "sort_by : {'cardinality', 'degree'}\n",
       "    If 'cardinality', subset are listed from largest to smallest.\n",
       "    If 'degree', they are listed in order of the number of categories\n",
       "    intersected.\n",
       "sort_categories_by : {'cardinality', None}\n",
       "    Whether to sort the categories by total cardinality, or leave them\n",
       "    in the provided order.\n",
       "\n",
       "    .. versionadded: 0.3\n",
       "subset_size : {'auto', 'count', 'sum'}\n",
       "    Configures how to calculate the size of a subset. Choices are:\n",
       "\n",
       "    'auto' (default)\n",
       "        If `data` is a DataFrame, count the number of rows in each group,\n",
       "        unless `sum_over` is specified.\n",
       "        If `data` is a Series with at most one row for each group, use\n",
       "        the value of the Series. If `data` is a Series with more than one\n",
       "        row per group, raise a ValueError.\n",
       "    'count'\n",
       "        Count the number of rows in each group.\n",
       "    'sum'\n",
       "        Sum the value of the `data` Series, or the DataFrame field\n",
       "        specified by `sum_over`.\n",
       "sum_over : str or None\n",
       "    If `subset_size='sum'` or `'auto'`, then the intersection size is the\n",
       "    sum of the specified field in the `data` DataFrame. If a Series, only\n",
       "    None is supported and its value is summed.\n",
       "facecolor : str\n",
       "    Color for bar charts and dots.\n",
       "with_lines : bool\n",
       "    Whether to show lines joining dots in the matrix, to mark multiple\n",
       "    categories being intersected.\n",
       "element_size : float or None\n",
       "    Side length in pt. If None, size is estimated to fit figure\n",
       "intersection_plot_elements : int\n",
       "    The intersections plot should be large enough to fit this many matrix\n",
       "    elements. Set to 0 to disable intersection size bars.\n",
       "\n",
       "    .. versionchanged: 0.4\n",
       "        Setting to 0 is handled.\n",
       "totals_plot_elements : int\n",
       "    The totals plot should be large enough to fit this many matrix\n",
       "    elements.\n",
       "show_counts : bool or str, default=False\n",
       "    Whether to label the intersection size bars with the cardinality\n",
       "    of the intersection. When a string, this formats the number.\n",
       "    For example, '%d' is equivalent to True.\n",
       "show_percentages : bool, default=False\n",
       "    Whether to label the intersection size bars with the percentage\n",
       "    of the intersection relative to the total dataset.\n",
       "    This may be applied with or without show_counts.\n",
       "\n",
       "    .. versionadded: 0.4\n",
       "\u001b[0;31mFile:\u001b[0m           ~/software/miniconda3/envs/cm_gene_modules/lib/python3.8/site-packages/upsetplot/plotting.py\n",
       "\u001b[0;31mType:\u001b[0m           type\n",
       "\u001b[0;31mSubclasses:\u001b[0m     \n"
      ]
     },
     "metadata": {},
     "output_type": "display_data"
    }
   ],
   "source": [
    "UpSet?"
   ]
  },
  {
   "cell_type": "code",
   "execution_count": 260,
   "id": "interested-treasurer",
   "metadata": {},
   "outputs": [],
   "source": [
    "_df_common = all_results_df[\n",
    "    (all_results_df[\"results_type\"] == \"simplified\")\n",
    "]"
   ]
  },
  {
   "cell_type": "code",
   "execution_count": 264,
   "id": "swedish-count",
   "metadata": {},
   "outputs": [],
   "source": [
    "plot_df = pd.DataFrame({\n",
    "    \"clustermatch\": _df_common[\"method\"] == \"clustermatch\",\n",
    "    \"clustermatch\": _df_common[\"method\"] == \"pearson\",\n",
    "})"
   ]
  },
  {
   "cell_type": "code",
   "execution_count": 265,
   "id": "negative-suggestion",
   "metadata": {},
   "outputs": [
    {
     "data": {
      "text/html": [
       "<div>\n",
       "<style scoped>\n",
       "    .dataframe tbody tr th:only-of-type {\n",
       "        vertical-align: middle;\n",
       "    }\n",
       "\n",
       "    .dataframe tbody tr th {\n",
       "        vertical-align: top;\n",
       "    }\n",
       "\n",
       "    .dataframe thead th {\n",
       "        text-align: right;\n",
       "    }\n",
       "</style>\n",
       "<table border=\"1\" class=\"dataframe\">\n",
       "  <thead>\n",
       "    <tr style=\"text-align: right;\">\n",
       "      <th></th>\n",
       "      <th>clustermatch</th>\n",
       "    </tr>\n",
       "  </thead>\n",
       "  <tbody>\n",
       "    <tr>\n",
       "      <th>13126</th>\n",
       "      <td>True</td>\n",
       "    </tr>\n",
       "    <tr>\n",
       "      <th>13127</th>\n",
       "      <td>True</td>\n",
       "    </tr>\n",
       "    <tr>\n",
       "      <th>13128</th>\n",
       "      <td>True</td>\n",
       "    </tr>\n",
       "    <tr>\n",
       "      <th>13129</th>\n",
       "      <td>True</td>\n",
       "    </tr>\n",
       "    <tr>\n",
       "      <th>13130</th>\n",
       "      <td>True</td>\n",
       "    </tr>\n",
       "    <tr>\n",
       "      <th>...</th>\n",
       "      <td>...</td>\n",
       "    </tr>\n",
       "    <tr>\n",
       "      <th>292986</th>\n",
       "      <td>False</td>\n",
       "    </tr>\n",
       "    <tr>\n",
       "      <th>292987</th>\n",
       "      <td>False</td>\n",
       "    </tr>\n",
       "    <tr>\n",
       "      <th>292988</th>\n",
       "      <td>False</td>\n",
       "    </tr>\n",
       "    <tr>\n",
       "      <th>292989</th>\n",
       "      <td>False</td>\n",
       "    </tr>\n",
       "    <tr>\n",
       "      <th>292990</th>\n",
       "      <td>False</td>\n",
       "    </tr>\n",
       "  </tbody>\n",
       "</table>\n",
       "<p>35255 rows × 1 columns</p>\n",
       "</div>"
      ],
      "text/plain": [
       "        clustermatch\n",
       "13126           True\n",
       "13127           True\n",
       "13128           True\n",
       "13129           True\n",
       "13130           True\n",
       "...              ...\n",
       "292986         False\n",
       "292987         False\n",
       "292988         False\n",
       "292989         False\n",
       "292990         False\n",
       "\n",
       "[35255 rows x 1 columns]"
      ]
     },
     "execution_count": 265,
     "metadata": {},
     "output_type": "execute_result"
    }
   ],
   "source": [
    "plot_df"
   ]
  },
  {
   "cell_type": "code",
   "execution_count": 116,
   "id": "everyday-secretary",
   "metadata": {},
   "outputs": [
    {
     "data": {
      "text/html": [
       "<div>\n",
       "<style scoped>\n",
       "    .dataframe tbody tr th:only-of-type {\n",
       "        vertical-align: middle;\n",
       "    }\n",
       "\n",
       "    .dataframe tbody tr th {\n",
       "        vertical-align: top;\n",
       "    }\n",
       "\n",
       "    .dataframe thead th {\n",
       "        text-align: right;\n",
       "    }\n",
       "</style>\n",
       "<table border=\"1\" class=\"dataframe\">\n",
       "  <thead>\n",
       "    <tr style=\"text-align: right;\">\n",
       "      <th>ont</th>\n",
       "      <th>BP</th>\n",
       "      <th>CC</th>\n",
       "      <th>MF</th>\n",
       "    </tr>\n",
       "    <tr>\n",
       "      <th>method</th>\n",
       "      <th></th>\n",
       "      <th></th>\n",
       "      <th></th>\n",
       "    </tr>\n",
       "  </thead>\n",
       "  <tbody>\n",
       "    <tr>\n",
       "      <th>clustermatch</th>\n",
       "      <td>99546</td>\n",
       "      <td>21239</td>\n",
       "      <td>17570</td>\n",
       "    </tr>\n",
       "    <tr>\n",
       "      <th>pearson</th>\n",
       "      <td>116843</td>\n",
       "      <td>18777</td>\n",
       "      <td>19907</td>\n",
       "    </tr>\n",
       "  </tbody>\n",
       "</table>\n",
       "</div>"
      ],
      "text/plain": [
       "ont               BP     CC     MF\n",
       "method                            \n",
       "clustermatch   99546  21239  17570\n",
       "pearson       116843  18777  19907"
      ]
     },
     "execution_count": 116,
     "metadata": {},
     "output_type": "execute_result"
    }
   ],
   "source": [
    "plot_df.unstack()"
   ]
  },
  {
   "cell_type": "code",
   "execution_count": 114,
   "id": "returning-completion",
   "metadata": {},
   "outputs": [
    {
     "ename": "ValueError",
     "evalue": "The DataFrame has values in its index that are not boolean",
     "output_type": "error",
     "traceback": [
      "\u001b[0;31m---------------------------------------------------------------------------\u001b[0m",
      "\u001b[0;31mValueError\u001b[0m                                Traceback (most recent call last)",
      "\u001b[0;32m<ipython-input-114-cd54469029f7>\u001b[0m in \u001b[0;36m<module>\u001b[0;34m\u001b[0m\n\u001b[0;32m----> 1\u001b[0;31m \u001b[0mplot\u001b[0m\u001b[0;34m(\u001b[0m\u001b[0mplot_df\u001b[0m\u001b[0;34m)\u001b[0m\u001b[0;34m\u001b[0m\u001b[0;34m\u001b[0m\u001b[0m\n\u001b[0m",
      "\u001b[0;32m~/software/miniconda3/envs/cm_gene_modules/lib/python3.8/site-packages/upsetplot/plotting.py\u001b[0m in \u001b[0;36mplot\u001b[0;34m(data, fig, **kwargs)\u001b[0m\n\u001b[1;32m    644\u001b[0m         \u001b[0mKeys\u001b[0m \u001b[0mare\u001b[0m \u001b[0;34m'matrix'\u001b[0m\u001b[0;34m,\u001b[0m \u001b[0;34m'intersections'\u001b[0m\u001b[0;34m,\u001b[0m \u001b[0;34m'totals'\u001b[0m\u001b[0;34m,\u001b[0m \u001b[0;34m'shading'\u001b[0m\u001b[0;34m\u001b[0m\u001b[0;34m\u001b[0m\u001b[0m\n\u001b[1;32m    645\u001b[0m     \"\"\"\n\u001b[0;32m--> 646\u001b[0;31m     \u001b[0;32mreturn\u001b[0m \u001b[0mUpSet\u001b[0m\u001b[0;34m(\u001b[0m\u001b[0mdata\u001b[0m\u001b[0;34m,\u001b[0m \u001b[0;34m**\u001b[0m\u001b[0mkwargs\u001b[0m\u001b[0;34m)\u001b[0m\u001b[0;34m.\u001b[0m\u001b[0mplot\u001b[0m\u001b[0;34m(\u001b[0m\u001b[0mfig\u001b[0m\u001b[0;34m)\u001b[0m\u001b[0;34m\u001b[0m\u001b[0;34m\u001b[0m\u001b[0m\n\u001b[0m",
      "\u001b[0;32m~/software/miniconda3/envs/cm_gene_modules/lib/python3.8/site-packages/upsetplot/plotting.py\u001b[0m in \u001b[0;36m__init__\u001b[0;34m(self, data, orientation, sort_by, sort_categories_by, subset_size, sum_over, facecolor, with_lines, element_size, intersection_plot_elements, totals_plot_elements, show_counts, show_percentages)\u001b[0m\n\u001b[1;32m    283\u001b[0m \u001b[0;34m\u001b[0m\u001b[0m\n\u001b[1;32m    284\u001b[0m         (self.total, self._df, self.intersections,\n\u001b[0;32m--> 285\u001b[0;31m          \u001b[0mself\u001b[0m\u001b[0;34m.\u001b[0m\u001b[0mtotals\u001b[0m\u001b[0;34m)\u001b[0m \u001b[0;34m=\u001b[0m \u001b[0m_process_data\u001b[0m\u001b[0;34m(\u001b[0m\u001b[0mdata\u001b[0m\u001b[0;34m,\u001b[0m\u001b[0;34m\u001b[0m\u001b[0;34m\u001b[0m\u001b[0m\n\u001b[0m\u001b[1;32m    286\u001b[0m                                       \u001b[0msort_by\u001b[0m\u001b[0;34m=\u001b[0m\u001b[0msort_by\u001b[0m\u001b[0;34m,\u001b[0m\u001b[0;34m\u001b[0m\u001b[0;34m\u001b[0m\u001b[0m\n\u001b[1;32m    287\u001b[0m                                       \u001b[0msort_categories_by\u001b[0m\u001b[0;34m=\u001b[0m\u001b[0msort_categories_by\u001b[0m\u001b[0;34m,\u001b[0m\u001b[0;34m\u001b[0m\u001b[0;34m\u001b[0m\u001b[0m\n",
      "\u001b[0;32m~/software/miniconda3/envs/cm_gene_modules/lib/python3.8/site-packages/upsetplot/plotting.py\u001b[0m in \u001b[0;36m_process_data\u001b[0;34m(df, sort_by, sort_categories_by, subset_size, sum_over)\u001b[0m\n\u001b[1;32m     91\u001b[0m     \u001b[0mdf\u001b[0m\u001b[0;34m,\u001b[0m \u001b[0magg\u001b[0m \u001b[0;34m=\u001b[0m \u001b[0m_aggregate_data\u001b[0m\u001b[0;34m(\u001b[0m\u001b[0mdf\u001b[0m\u001b[0;34m,\u001b[0m \u001b[0msubset_size\u001b[0m\u001b[0;34m,\u001b[0m \u001b[0msum_over\u001b[0m\u001b[0;34m)\u001b[0m\u001b[0;34m\u001b[0m\u001b[0;34m\u001b[0m\u001b[0m\n\u001b[1;32m     92\u001b[0m     \u001b[0mtotal\u001b[0m \u001b[0;34m=\u001b[0m \u001b[0magg\u001b[0m\u001b[0;34m.\u001b[0m\u001b[0msum\u001b[0m\u001b[0;34m(\u001b[0m\u001b[0;34m)\u001b[0m\u001b[0;34m\u001b[0m\u001b[0;34m\u001b[0m\u001b[0m\n\u001b[0;32m---> 93\u001b[0;31m     \u001b[0mdf\u001b[0m \u001b[0;34m=\u001b[0m \u001b[0m_check_index\u001b[0m\u001b[0;34m(\u001b[0m\u001b[0mdf\u001b[0m\u001b[0;34m)\u001b[0m\u001b[0;34m\u001b[0m\u001b[0;34m\u001b[0m\u001b[0m\n\u001b[0m\u001b[1;32m     94\u001b[0m \u001b[0;34m\u001b[0m\u001b[0m\n\u001b[1;32m     95\u001b[0m     totals = [agg[agg.index.get_level_values(name).values.astype(bool)].sum()\n",
      "\u001b[0;32m~/software/miniconda3/envs/cm_gene_modules/lib/python3.8/site-packages/upsetplot/plotting.py\u001b[0m in \u001b[0;36m_check_index\u001b[0;34m(df)\u001b[0m\n\u001b[1;32m     72\u001b[0m     if not all(set([True, False]) >= set(level)\n\u001b[1;32m     73\u001b[0m                for level in df.index.levels):\n\u001b[0;32m---> 74\u001b[0;31m         raise ValueError('The DataFrame has values in its index that are not '\n\u001b[0m\u001b[1;32m     75\u001b[0m                          'boolean')\n\u001b[1;32m     76\u001b[0m     \u001b[0mdf\u001b[0m \u001b[0;34m=\u001b[0m \u001b[0mdf\u001b[0m\u001b[0;34m.\u001b[0m\u001b[0mcopy\u001b[0m\u001b[0;34m(\u001b[0m\u001b[0mdeep\u001b[0m\u001b[0;34m=\u001b[0m\u001b[0;32mFalse\u001b[0m\u001b[0;34m)\u001b[0m\u001b[0;34m\u001b[0m\u001b[0;34m\u001b[0m\u001b[0m\n",
      "\u001b[0;31mValueError\u001b[0m: The DataFrame has values in its index that are not boolean"
     ]
    }
   ],
   "source": [
    "plot(plot_df)"
   ]
  },
  {
   "cell_type": "code",
   "execution_count": 109,
   "id": "three-cycle",
   "metadata": {},
   "outputs": [],
   "source": [
    "df = all_results_df[all_results_df[\"results_type\"] == \"full\"][[\"method\", \"ont\"]]"
   ]
  },
  {
   "cell_type": "code",
   "execution_count": 103,
   "id": "accepting-basketball",
   "metadata": {},
   "outputs": [
    {
     "data": {
      "text/plain": [
       "(258627, 2)"
      ]
     },
     "execution_count": 103,
     "metadata": {},
     "output_type": "execute_result"
    }
   ],
   "source": [
    "df.shape"
   ]
  },
  {
   "cell_type": "code",
   "execution_count": 104,
   "id": "filled-filling",
   "metadata": {},
   "outputs": [
    {
     "data": {
      "text/html": [
       "<div>\n",
       "<style scoped>\n",
       "    .dataframe tbody tr th:only-of-type {\n",
       "        vertical-align: middle;\n",
       "    }\n",
       "\n",
       "    .dataframe tbody tr th {\n",
       "        vertical-align: top;\n",
       "    }\n",
       "\n",
       "    .dataframe thead th {\n",
       "        text-align: right;\n",
       "    }\n",
       "</style>\n",
       "<table border=\"1\" class=\"dataframe\">\n",
       "  <thead>\n",
       "    <tr style=\"text-align: right;\">\n",
       "      <th></th>\n",
       "      <th>method</th>\n",
       "      <th>ont</th>\n",
       "    </tr>\n",
       "  </thead>\n",
       "  <tbody>\n",
       "    <tr>\n",
       "      <th>0</th>\n",
       "      <td>clustermatch</td>\n",
       "      <td>BP</td>\n",
       "    </tr>\n",
       "    <tr>\n",
       "      <th>1</th>\n",
       "      <td>clustermatch</td>\n",
       "      <td>BP</td>\n",
       "    </tr>\n",
       "    <tr>\n",
       "      <th>2</th>\n",
       "      <td>clustermatch</td>\n",
       "      <td>BP</td>\n",
       "    </tr>\n",
       "    <tr>\n",
       "      <th>3</th>\n",
       "      <td>clustermatch</td>\n",
       "      <td>BP</td>\n",
       "    </tr>\n",
       "    <tr>\n",
       "      <th>4</th>\n",
       "      <td>clustermatch</td>\n",
       "      <td>BP</td>\n",
       "    </tr>\n",
       "  </tbody>\n",
       "</table>\n",
       "</div>"
      ],
      "text/plain": [
       "         method ont\n",
       "0  clustermatch  BP\n",
       "1  clustermatch  BP\n",
       "2  clustermatch  BP\n",
       "3  clustermatch  BP\n",
       "4  clustermatch  BP"
      ]
     },
     "execution_count": 104,
     "metadata": {},
     "output_type": "execute_result"
    }
   ],
   "source": [
    "df.head()"
   ]
  },
  {
   "cell_type": "code",
   "execution_count": null,
   "id": "northern-prior",
   "metadata": {},
   "outputs": [],
   "source": []
  }
 ],
 "metadata": {
  "jupytext": {
   "cell_metadata_filter": "all,-execution,-papermill,-trusted",
   "text_representation": {
    "extension": ".py",
    "format_name": "percent",
    "format_version": "1.3",
    "jupytext_version": "1.11.5"
   }
  },
  "kernelspec": {
   "display_name": "Python 3 (ipykernel)",
   "language": "python",
   "name": "python3"
  },
  "language_info": {
   "codemirror_mode": {
    "name": "ipython",
    "version": 3
   },
   "file_extension": ".py",
   "mimetype": "text/x-python",
   "name": "python",
   "nbconvert_exporter": "python",
   "pygments_lexer": "ipython3",
   "version": "3.9.6"
  },
  "papermill": {
   "default_parameters": {},
   "duration": 18540.654521,
   "end_time": "2021-03-01T19:56:26.867061",
   "environment_variables": {},
   "exception": null,
   "input_path": "05_cluster_analysis/10_00-clustermatch-go_enrichment.ipynb",
   "output_path": "05_cluster_analysis/10_00-clustermatch-go_enrichment.run.ipynb",
   "parameters": {},
   "start_time": "2021-03-01T14:47:26.212540",
   "version": "2.3.2"
  },
  "toc-autonumbering": true
 },
 "nbformat": 4,
 "nbformat_minor": 5
}
