{
 "cells": [
  {
   "cell_type": "markdown",
   "id": "87e0ce1b-7ce6-4499-9342-5ded05307598",
   "metadata": {
    "papermill": {
     "duration": 0.013109,
     "end_time": "2024-01-05T00:05:20.763207",
     "exception": false,
     "start_time": "2024-01-05T00:05:20.750098",
     "status": "completed"
    },
    "tags": []
   },
   "source": [
    "# Description"
   ]
  },
  {
   "cell_type": "markdown",
   "id": "4bfc7115-350a-441b-9a19-7626a948a694",
   "metadata": {
    "papermill": {
     "duration": 0.011397,
     "end_time": "2024-01-05T00:05:20.786245",
     "exception": false,
     "start_time": "2024-01-05T00:05:20.774848",
     "status": "completed"
    },
    "tags": []
   },
   "source": [
    "Creates **Supplementary File 1**.\n",
    "\n",
    "*Description*: Classification and correlations of gene pairs used in Figure 3a (top 5,000 most variable genes in GTEx v8 whole blood). P-values are only included for a subset of gene pairs, as explained in the Methods section of the manuscript."
   ]
  },
  {
   "cell_type": "markdown",
   "id": "e020c781-238b-43c2-8cad-2722b8a240e2",
   "metadata": {
    "papermill": {
     "duration": 0.011349,
     "end_time": "2024-01-05T00:05:20.809151",
     "exception": false,
     "start_time": "2024-01-05T00:05:20.797802",
     "status": "completed"
    },
    "tags": []
   },
   "source": [
    "# Modules"
   ]
  },
  {
   "cell_type": "code",
   "execution_count": 1,
   "id": "a819bfbc-5009-4c68-ba8d-37d0979d368f",
   "metadata": {
    "execution": {
     "iopub.execute_input": "2024-01-05T00:05:20.833033Z",
     "iopub.status.busy": "2024-01-05T00:05:20.832840Z",
     "iopub.status.idle": "2024-01-05T00:05:21.232022Z",
     "shell.execute_reply": "2024-01-05T00:05:21.231555Z"
    },
    "papermill": {
     "duration": 0.412654,
     "end_time": "2024-01-05T00:05:21.233844",
     "exception": false,
     "start_time": "2024-01-05T00:05:20.821190",
     "status": "completed"
    },
    "tags": []
   },
   "outputs": [],
   "source": [
    "import pandas as pd\n",
    "import numpy as np\n",
    "import rpy2.robjects as ro\n",
    "from rpy2.robjects import pandas2ri\n",
    "from rpy2.robjects.conversion import localconverter\n",
    "\n",
    "from ccc import conf"
   ]
  },
  {
   "cell_type": "code",
   "execution_count": 2,
   "id": "860ff6ef-dba1-4647-b77d-ca289cffa36b",
   "metadata": {
    "execution": {
     "iopub.execute_input": "2024-01-05T00:05:21.257948Z",
     "iopub.status.busy": "2024-01-05T00:05:21.257853Z",
     "iopub.status.idle": "2024-01-05T00:05:21.261160Z",
     "shell.execute_reply": "2024-01-05T00:05:21.260695Z"
    },
    "papermill": {
     "duration": 0.016658,
     "end_time": "2024-01-05T00:05:21.262400",
     "exception": false,
     "start_time": "2024-01-05T00:05:21.245742",
     "status": "completed"
    },
    "tags": []
   },
   "outputs": [],
   "source": [
    "readRDS = ro.r[\"readRDS\"]"
   ]
  },
  {
   "cell_type": "code",
   "execution_count": 3,
   "id": "8b82561e-ea69-4e57-ac22-8c026b34b022",
   "metadata": {
    "execution": {
     "iopub.execute_input": "2024-01-05T00:05:21.285872Z",
     "iopub.status.busy": "2024-01-05T00:05:21.285774Z",
     "iopub.status.idle": "2024-01-05T00:05:21.288600Z",
     "shell.execute_reply": "2024-01-05T00:05:21.288156Z"
    },
    "papermill": {
     "duration": 0.015881,
     "end_time": "2024-01-05T00:05:21.289889",
     "exception": false,
     "start_time": "2024-01-05T00:05:21.274008",
     "status": "completed"
    },
    "tags": []
   },
   "outputs": [],
   "source": [
    "saveRDS = ro.r[\"saveRDS\"]"
   ]
  },
  {
   "cell_type": "markdown",
   "id": "b4834387-58ff-468c-b326-85c408bc5feb",
   "metadata": {
    "papermill": {
     "duration": 0.011508,
     "end_time": "2024-01-05T00:05:21.313004",
     "exception": false,
     "start_time": "2024-01-05T00:05:21.301496",
     "status": "completed"
    },
    "tags": []
   },
   "source": [
    "# Settings"
   ]
  },
  {
   "cell_type": "code",
   "execution_count": 4,
   "id": "765e820a-4518-4bbc-a00f-14c9cea03821",
   "metadata": {
    "execution": {
     "iopub.execute_input": "2024-01-05T00:05:21.334041Z",
     "iopub.status.busy": "2024-01-05T00:05:21.333503Z",
     "iopub.status.idle": "2024-01-05T00:05:21.336599Z",
     "shell.execute_reply": "2024-01-05T00:05:21.336134Z"
    },
    "papermill": {
     "duration": 0.012906,
     "end_time": "2024-01-05T00:05:21.337460",
     "exception": false,
     "start_time": "2024-01-05T00:05:21.324554",
     "status": "completed"
    },
    "tags": []
   },
   "outputs": [],
   "source": [
    "DATASET_CONFIG = conf.GTEX\n",
    "GTEX_TISSUE = \"whole_blood\"\n",
    "GENE_SEL_STRATEGY = \"var_pc_log2\""
   ]
  },
  {
   "cell_type": "markdown",
   "id": "a1159982-5dd1-4494-97d4-0674eeead1c3",
   "metadata": {
    "papermill": {
     "duration": 0.006332,
     "end_time": "2024-01-05T00:05:21.350152",
     "exception": false,
     "start_time": "2024-01-05T00:05:21.343820",
     "status": "completed"
    },
    "tags": []
   },
   "source": [
    "# Paths"
   ]
  },
  {
   "cell_type": "code",
   "execution_count": 5,
   "id": "d50e29a6-0e18-4c3d-b933-f21a17abf831",
   "metadata": {
    "execution": {
     "iopub.execute_input": "2024-01-05T00:05:21.385098Z",
     "iopub.status.busy": "2024-01-05T00:05:21.384604Z",
     "iopub.status.idle": "2024-01-05T00:05:21.387779Z",
     "shell.execute_reply": "2024-01-05T00:05:21.387315Z"
    },
    "papermill": {
     "duration": 0.03212,
     "end_time": "2024-01-05T00:05:21.388635",
     "exception": false,
     "start_time": "2024-01-05T00:05:21.356515",
     "status": "completed"
    },
    "tags": []
   },
   "outputs": [],
   "source": [
    "assert (\n",
    "    conf.MANUSCRIPT[\"BASE_DIR\"] is not None and conf.MANUSCRIPT[\"BASE_DIR\"].exists()\n",
    "), \"Manuscript dir not set\""
   ]
  },
  {
   "cell_type": "code",
   "execution_count": 10,
   "id": "30cce6f5-ca1b-438c-859d-31903a42d4c6",
   "metadata": {
    "execution": {
     "iopub.execute_input": "2024-01-05T00:05:21.478965Z",
     "iopub.status.busy": "2024-01-05T00:05:21.478622Z",
     "iopub.status.idle": "2024-01-05T00:05:21.482801Z",
     "shell.execute_reply": "2024-01-05T00:05:21.482356Z"
    },
    "papermill": {
     "duration": 0.012417,
     "end_time": "2024-01-05T00:05:21.483644",
     "exception": false,
     "start_time": "2024-01-05T00:05:21.471227",
     "status": "completed"
    },
    "tags": []
   },
   "outputs": [
    {
     "data": {
      "text/plain": [
       "PosixPath('/opt/data/results/gtex_v8/gene_pair_intersections/gene_pair_intersections-gtex_v8-whole_blood-var_pc_log2.pkl')"
      ]
     },
     "metadata": {},
     "output_type": "display_data"
    }
   ],
   "source": [
    "INPUT_GENE_PAIRS_INTERSECTIONS_FILE = (\n",
    "    DATASET_CONFIG[\"GENE_PAIR_INTERSECTIONS\"]\n",
    "    / f\"gene_pair_intersections-gtex_v8-{GTEX_TISSUE}-{GENE_SEL_STRATEGY}.pkl\"\n",
    ")\n",
    "display(INPUT_GENE_PAIRS_INTERSECTIONS_FILE)\n",
    "\n",
    "assert INPUT_GENE_PAIRS_INTERSECTIONS_FILE.exists()"
   ]
  },
  {
   "cell_type": "code",
   "execution_count": 11,
   "id": "1a0c5e20-8578-455d-8a06-e54a43673efc",
   "metadata": {
    "execution": {
     "iopub.execute_input": "2024-01-05T00:05:21.498159Z",
     "iopub.status.busy": "2024-01-05T00:05:21.497809Z",
     "iopub.status.idle": "2024-01-05T00:05:21.501921Z",
     "shell.execute_reply": "2024-01-05T00:05:21.501475Z"
    },
    "papermill": {
     "duration": 0.012165,
     "end_time": "2024-01-05T00:05:21.502697",
     "exception": false,
     "start_time": "2024-01-05T00:05:21.490532",
     "status": "completed"
    },
    "tags": []
   },
   "outputs": [
    {
     "data": {
      "text/plain": [
       "PosixPath('/opt/data/results/gtex_v8/gene_pair_intersections/pvalues/gene_pair-samples-pvalues-fdr.pkl')"
      ]
     },
     "metadata": {},
     "output_type": "display_data"
    }
   ],
   "source": [
    "INPUT_PVALUES_FILE = (\n",
    "    DATASET_CONFIG[\"GENE_PAIR_INTERSECTIONS\"]\n",
    "    / \"pvalues\"\n",
    "    / \"gene_pair-samples-pvalues-fdr.pkl\"\n",
    ")\n",
    "display(INPUT_PVALUES_FILE)\n",
    "assert INPUT_PVALUES_FILE.exists()"
   ]
  },
  {
   "cell_type": "code",
   "execution_count": 7,
   "id": "523c6a4e-87ec-44bf-bad3-e912b8aa0482",
   "metadata": {
    "execution": {
     "iopub.execute_input": "2024-01-05T00:05:21.419495Z",
     "iopub.status.busy": "2024-01-05T00:05:21.419042Z",
     "iopub.status.idle": "2024-01-05T00:05:21.429163Z",
     "shell.execute_reply": "2024-01-05T00:05:21.428682Z"
    },
    "papermill": {
     "duration": 0.018065,
     "end_time": "2024-01-05T00:05:21.430018",
     "exception": false,
     "start_time": "2024-01-05T00:05:21.411953",
     "status": "completed"
    },
    "tags": []
   },
   "outputs": [
    {
     "data": {
      "text/plain": [
       "PosixPath('/opt/data/supplementary_material')"
      ]
     },
     "metadata": {},
     "output_type": "display_data"
    }
   ],
   "source": [
    "OUTPUT_DIR = conf.MANUSCRIPT[\"SUPPLEMENTARY_MATERIAL_DIR\"]\n",
    "OUTPUT_DIR.mkdir(parents=True, exist_ok=True)\n",
    "display(OUTPUT_DIR)"
   ]
  },
  {
   "cell_type": "code",
   "execution_count": 8,
   "id": "8fefcf66-4c68-4086-bf23-7f52c6fd2291",
   "metadata": {
    "execution": {
     "iopub.execute_input": "2024-01-05T00:05:21.444369Z",
     "iopub.status.busy": "2024-01-05T00:05:21.443870Z",
     "iopub.status.idle": "2024-01-05T00:05:21.446646Z",
     "shell.execute_reply": "2024-01-05T00:05:21.446189Z"
    },
    "papermill": {
     "duration": 0.010683,
     "end_time": "2024-01-05T00:05:21.447471",
     "exception": false,
     "start_time": "2024-01-05T00:05:21.436788",
     "status": "completed"
    },
    "tags": []
   },
   "outputs": [],
   "source": [
    "OUTPUT_FILENAME = \"Supplementary_File_01-Gene_pair_intersections\""
   ]
  },
  {
   "cell_type": "markdown",
   "id": "f6d3322b-c8bb-4fc2-97b6-5bb1793b1577",
   "metadata": {
    "papermill": {
     "duration": 0.006738,
     "end_time": "2024-01-05T00:05:21.516249",
     "exception": false,
     "start_time": "2024-01-05T00:05:21.509511",
     "status": "completed"
    },
    "tags": []
   },
   "source": [
    "# Data"
   ]
  },
  {
   "cell_type": "markdown",
   "id": "e8416e00-7eeb-4712-b45c-d0c2efe449dd",
   "metadata": {
    "papermill": {
     "duration": 0.006699,
     "end_time": "2024-01-05T00:05:21.529651",
     "exception": false,
     "start_time": "2024-01-05T00:05:21.522952",
     "status": "completed"
    },
    "tags": []
   },
   "source": [
    "## Gene Ensembl ID -> Symbol mapping"
   ]
  },
  {
   "cell_type": "code",
   "execution_count": 12,
   "id": "2e490073-be50-486e-a215-0e1fda74a03a",
   "metadata": {
    "execution": {
     "iopub.execute_input": "2024-01-05T00:05:21.544229Z",
     "iopub.status.busy": "2024-01-05T00:05:21.543798Z",
     "iopub.status.idle": "2024-01-05T00:05:21.564471Z",
     "shell.execute_reply": "2024-01-05T00:05:21.563946Z"
    },
    "papermill": {
     "duration": 0.028854,
     "end_time": "2024-01-05T00:05:21.565291",
     "exception": false,
     "start_time": "2024-01-05T00:05:21.536437",
     "status": "completed"
    },
    "tags": []
   },
   "outputs": [],
   "source": [
    "gene_map = pd.read_pickle(\n",
    "    DATASET_CONFIG[\"DATA_DIR\"] / \"gtex_gene_id_symbol_mappings.pkl\"\n",
    ")"
   ]
  },
  {
   "cell_type": "code",
   "execution_count": 13,
   "id": "3aae3ef4-5beb-4848-86e2-58bc62f2fe3b",
   "metadata": {
    "execution": {
     "iopub.execute_input": "2024-01-05T00:05:21.579192Z",
     "iopub.status.busy": "2024-01-05T00:05:21.578701Z",
     "iopub.status.idle": "2024-01-05T00:05:21.632656Z",
     "shell.execute_reply": "2024-01-05T00:05:21.632114Z"
    },
    "papermill": {
     "duration": 0.061778,
     "end_time": "2024-01-05T00:05:21.633491",
     "exception": false,
     "start_time": "2024-01-05T00:05:21.571713",
     "status": "completed"
    },
    "tags": []
   },
   "outputs": [],
   "source": [
    "gene_map = gene_map.set_index(\"gene_ens_id\")[\"gene_symbol\"].to_dict()"
   ]
  },
  {
   "cell_type": "code",
   "execution_count": 14,
   "id": "deda184e-bb5a-424b-80e8-2b4cefbdb923",
   "metadata": {
    "execution": {
     "iopub.execute_input": "2024-01-05T00:05:21.654621Z",
     "iopub.status.busy": "2024-01-05T00:05:21.654361Z",
     "iopub.status.idle": "2024-01-05T00:05:21.657149Z",
     "shell.execute_reply": "2024-01-05T00:05:21.656778Z"
    },
    "papermill": {
     "duration": 0.011977,
     "end_time": "2024-01-05T00:05:21.657919",
     "exception": false,
     "start_time": "2024-01-05T00:05:21.645942",
     "status": "completed"
    },
    "tags": []
   },
   "outputs": [],
   "source": [
    "assert gene_map[\"ENSG00000145309.5\"] == \"CABS1\""
   ]
  },
  {
   "cell_type": "markdown",
   "id": "b030f506-2fe9-4895-a8a1-51374e88c496",
   "metadata": {
    "papermill": {
     "duration": 0.006907,
     "end_time": "2024-01-05T00:05:21.733425",
     "exception": false,
     "start_time": "2024-01-05T00:05:21.726518",
     "status": "completed"
    },
    "tags": []
   },
   "source": [
    "## Gene pairs intersection"
   ]
  },
  {
   "cell_type": "code",
   "execution_count": 18,
   "id": "da1d768a-fbfb-40e8-8fbb-790d1a94aa83",
   "metadata": {
    "execution": {
     "iopub.execute_input": "2024-01-05T00:05:21.747174Z",
     "iopub.status.busy": "2024-01-05T00:05:21.747044Z",
     "iopub.status.idle": "2024-01-05T00:05:24.399742Z",
     "shell.execute_reply": "2024-01-05T00:05:24.399231Z"
    },
    "papermill": {
     "duration": 2.661347,
     "end_time": "2024-01-05T00:05:24.401349",
     "exception": false,
     "start_time": "2024-01-05T00:05:21.740002",
     "status": "completed"
    },
    "tags": []
   },
   "outputs": [],
   "source": [
    "gene_pair_intersections = (\n",
    "    pd.read_pickle(INPUT_GENE_PAIRS_INTERSECTIONS_FILE)\n",
    "    .rename_axis((\"gene0_id\", \"gene1_id\"))\n",
    "    .sort_index()\n",
    ")"
   ]
  },
  {
   "cell_type": "code",
   "execution_count": 19,
   "id": "6123d474-0c0d-4771-9678-248ce89424ce",
   "metadata": {
    "execution": {
     "iopub.execute_input": "2024-01-05T00:05:24.427077Z",
     "iopub.status.busy": "2024-01-05T00:05:24.426977Z",
     "iopub.status.idle": "2024-01-05T00:05:24.430058Z",
     "shell.execute_reply": "2024-01-05T00:05:24.429709Z"
    },
    "papermill": {
     "duration": 0.017295,
     "end_time": "2024-01-05T00:05:24.431355",
     "exception": false,
     "start_time": "2024-01-05T00:05:24.414060",
     "status": "completed"
    },
    "tags": []
   },
   "outputs": [
    {
     "data": {
      "text/plain": [
       "(12497500, 9)"
      ]
     },
     "execution_count": 19,
     "metadata": {},
     "output_type": "execute_result"
    }
   ],
   "source": [
    "gene_pair_intersections.shape"
   ]
  },
  {
   "cell_type": "code",
   "execution_count": 20,
   "id": "b028abd8-c5b1-48c2-aa5e-cb1b49c943a4",
   "metadata": {
    "execution": {
     "iopub.execute_input": "2024-01-05T00:05:24.457048Z",
     "iopub.status.busy": "2024-01-05T00:05:24.456954Z",
     "iopub.status.idle": "2024-01-05T00:05:24.465231Z",
     "shell.execute_reply": "2024-01-05T00:05:24.464814Z"
    },
    "papermill": {
     "duration": 0.022511,
     "end_time": "2024-01-05T00:05:24.466498",
     "exception": false,
     "start_time": "2024-01-05T00:05:24.443987",
     "status": "completed"
    },
    "tags": []
   },
   "outputs": [
    {
     "data": {
      "text/html": [
       "<div>\n",
       "<style scoped>\n",
       "    .dataframe tbody tr th:only-of-type {\n",
       "        vertical-align: middle;\n",
       "    }\n",
       "\n",
       "    .dataframe tbody tr th {\n",
       "        vertical-align: top;\n",
       "    }\n",
       "\n",
       "    .dataframe thead th {\n",
       "        text-align: right;\n",
       "    }\n",
       "</style>\n",
       "<table border=\"1\" class=\"dataframe\">\n",
       "  <thead>\n",
       "    <tr style=\"text-align: right;\">\n",
       "      <th></th>\n",
       "      <th></th>\n",
       "      <th>Pearson (high)</th>\n",
       "      <th>Pearson (low)</th>\n",
       "      <th>Spearman (high)</th>\n",
       "      <th>Spearman (low)</th>\n",
       "      <th>Clustermatch (high)</th>\n",
       "      <th>Clustermatch (low)</th>\n",
       "      <th>ccc</th>\n",
       "      <th>pearson</th>\n",
       "      <th>spearman</th>\n",
       "    </tr>\n",
       "    <tr>\n",
       "      <th>gene0_id</th>\n",
       "      <th>gene1_id</th>\n",
       "      <th></th>\n",
       "      <th></th>\n",
       "      <th></th>\n",
       "      <th></th>\n",
       "      <th></th>\n",
       "      <th></th>\n",
       "      <th></th>\n",
       "      <th></th>\n",
       "      <th></th>\n",
       "    </tr>\n",
       "  </thead>\n",
       "  <tbody>\n",
       "    <tr>\n",
       "      <th rowspan=\"5\" valign=\"top\">ENSG00000000419.12</th>\n",
       "      <th>ENSG00000002834.17</th>\n",
       "      <td>True</td>\n",
       "      <td>False</td>\n",
       "      <td>True</td>\n",
       "      <td>False</td>\n",
       "      <td>True</td>\n",
       "      <td>False</td>\n",
       "      <td>0.418721</td>\n",
       "      <td>0.681847</td>\n",
       "      <td>0.786595</td>\n",
       "    </tr>\n",
       "    <tr>\n",
       "      <th>ENSG00000002919.14</th>\n",
       "      <td>True</td>\n",
       "      <td>False</td>\n",
       "      <td>True</td>\n",
       "      <td>False</td>\n",
       "      <td>True</td>\n",
       "      <td>False</td>\n",
       "      <td>0.405090</td>\n",
       "      <td>0.734699</td>\n",
       "      <td>0.816991</td>\n",
       "    </tr>\n",
       "    <tr>\n",
       "      <th>ENSG00000002933.7</th>\n",
       "      <td>False</td>\n",
       "      <td>True</td>\n",
       "      <td>False</td>\n",
       "      <td>True</td>\n",
       "      <td>False</td>\n",
       "      <td>True</td>\n",
       "      <td>0.007466</td>\n",
       "      <td>0.013825</td>\n",
       "      <td>0.004128</td>\n",
       "    </tr>\n",
       "    <tr>\n",
       "      <th>ENSG00000003402.19</th>\n",
       "      <td>True</td>\n",
       "      <td>False</td>\n",
       "      <td>True</td>\n",
       "      <td>False</td>\n",
       "      <td>True</td>\n",
       "      <td>False</td>\n",
       "      <td>0.391683</td>\n",
       "      <td>0.727347</td>\n",
       "      <td>0.803653</td>\n",
       "    </tr>\n",
       "    <tr>\n",
       "      <th>ENSG00000004478.7</th>\n",
       "      <td>False</td>\n",
       "      <td>True</td>\n",
       "      <td>False</td>\n",
       "      <td>False</td>\n",
       "      <td>False</td>\n",
       "      <td>False</td>\n",
       "      <td>0.099013</td>\n",
       "      <td>0.094147</td>\n",
       "      <td>0.231269</td>\n",
       "    </tr>\n",
       "  </tbody>\n",
       "</table>\n",
       "</div>"
      ],
      "text/plain": [
       "                                       Pearson (high)  Pearson (low)  \\\n",
       "gene0_id           gene1_id                                            \n",
       "ENSG00000000419.12 ENSG00000002834.17            True          False   \n",
       "                   ENSG00000002919.14            True          False   \n",
       "                   ENSG00000002933.7            False           True   \n",
       "                   ENSG00000003402.19            True          False   \n",
       "                   ENSG00000004478.7            False           True   \n",
       "\n",
       "                                       Spearman (high)  Spearman (low)  \\\n",
       "gene0_id           gene1_id                                              \n",
       "ENSG00000000419.12 ENSG00000002834.17             True           False   \n",
       "                   ENSG00000002919.14             True           False   \n",
       "                   ENSG00000002933.7             False            True   \n",
       "                   ENSG00000003402.19             True           False   \n",
       "                   ENSG00000004478.7             False           False   \n",
       "\n",
       "                                       Clustermatch (high)  \\\n",
       "gene0_id           gene1_id                                  \n",
       "ENSG00000000419.12 ENSG00000002834.17                 True   \n",
       "                   ENSG00000002919.14                 True   \n",
       "                   ENSG00000002933.7                 False   \n",
       "                   ENSG00000003402.19                 True   \n",
       "                   ENSG00000004478.7                 False   \n",
       "\n",
       "                                       Clustermatch (low)       ccc   pearson  \\\n",
       "gene0_id           gene1_id                                                     \n",
       "ENSG00000000419.12 ENSG00000002834.17               False  0.418721  0.681847   \n",
       "                   ENSG00000002919.14               False  0.405090  0.734699   \n",
       "                   ENSG00000002933.7                 True  0.007466  0.013825   \n",
       "                   ENSG00000003402.19               False  0.391683  0.727347   \n",
       "                   ENSG00000004478.7                False  0.099013  0.094147   \n",
       "\n",
       "                                       spearman  \n",
       "gene0_id           gene1_id                      \n",
       "ENSG00000000419.12 ENSG00000002834.17  0.786595  \n",
       "                   ENSG00000002919.14  0.816991  \n",
       "                   ENSG00000002933.7   0.004128  \n",
       "                   ENSG00000003402.19  0.803653  \n",
       "                   ENSG00000004478.7   0.231269  "
      ]
     },
     "execution_count": 20,
     "metadata": {},
     "output_type": "execute_result"
    }
   ],
   "source": [
    "gene_pair_intersections.head()"
   ]
  },
  {
   "cell_type": "markdown",
   "id": "f13ea28a-1ec6-41fa-9e69-8d776164338f",
   "metadata": {
    "papermill": {
     "duration": 0.012911,
     "end_time": "2024-01-05T00:05:24.492490",
     "exception": false,
     "start_time": "2024-01-05T00:05:24.479579",
     "status": "completed"
    },
    "tags": []
   },
   "source": [
    "## p-values"
   ]
  },
  {
   "cell_type": "code",
   "execution_count": 21,
   "id": "ad049eee-78de-4d15-8e3e-46aea9c4f4e7",
   "metadata": {
    "execution": {
     "iopub.execute_input": "2024-01-05T00:05:24.512381Z",
     "iopub.status.busy": "2024-01-05T00:05:24.512283Z",
     "iopub.status.idle": "2024-01-05T00:05:24.521213Z",
     "shell.execute_reply": "2024-01-05T00:05:24.520658Z"
    },
    "papermill": {
     "duration": 0.017403,
     "end_time": "2024-01-05T00:05:24.522089",
     "exception": false,
     "start_time": "2024-01-05T00:05:24.504686",
     "status": "completed"
    },
    "tags": []
   },
   "outputs": [],
   "source": [
    "df_pvalues = (\n",
    "    pd.read_pickle(INPUT_PVALUES_FILE)\n",
    "    .rename_axis((\"gene0_id\", \"gene1_id\"))\n",
    "    .sort_index()\n",
    ")"
   ]
  },
  {
   "cell_type": "code",
   "execution_count": 22,
   "id": "16e02608-ce83-4c96-923b-7576da15ab19",
   "metadata": {
    "execution": {
     "iopub.execute_input": "2024-01-05T00:05:24.536558Z",
     "iopub.status.busy": "2024-01-05T00:05:24.536131Z",
     "iopub.status.idle": "2024-01-05T00:05:24.539795Z",
     "shell.execute_reply": "2024-01-05T00:05:24.539343Z"
    },
    "papermill": {
     "duration": 0.011745,
     "end_time": "2024-01-05T00:05:24.540577",
     "exception": false,
     "start_time": "2024-01-05T00:05:24.528832",
     "status": "completed"
    },
    "tags": []
   },
   "outputs": [
    {
     "data": {
      "text/plain": [
       "(12116, 10)"
      ]
     },
     "execution_count": 22,
     "metadata": {},
     "output_type": "execute_result"
    }
   ],
   "source": [
    "df_pvalues.shape"
   ]
  },
  {
   "cell_type": "code",
   "execution_count": 23,
   "id": "6999e2d5-b89d-41e1-8380-f8c56334a24d",
   "metadata": {
    "execution": {
     "iopub.execute_input": "2024-01-05T00:05:24.555352Z",
     "iopub.status.busy": "2024-01-05T00:05:24.554904Z",
     "iopub.status.idle": "2024-01-05T00:05:24.567652Z",
     "shell.execute_reply": "2024-01-05T00:05:24.567200Z"
    },
    "papermill": {
     "duration": 0.021011,
     "end_time": "2024-01-05T00:05:24.568489",
     "exception": false,
     "start_time": "2024-01-05T00:05:24.547478",
     "status": "completed"
    },
    "tags": []
   },
   "outputs": [
    {
     "data": {
      "text/html": [
       "<div>\n",
       "<style scoped>\n",
       "    .dataframe tbody tr th:only-of-type {\n",
       "        vertical-align: middle;\n",
       "    }\n",
       "\n",
       "    .dataframe tbody tr th {\n",
       "        vertical-align: top;\n",
       "    }\n",
       "\n",
       "    .dataframe thead th {\n",
       "        text-align: right;\n",
       "    }\n",
       "</style>\n",
       "<table border=\"1\" class=\"dataframe\">\n",
       "  <thead>\n",
       "    <tr style=\"text-align: right;\">\n",
       "      <th></th>\n",
       "      <th></th>\n",
       "      <th>group</th>\n",
       "      <th>ccc</th>\n",
       "      <th>ccc_fdr</th>\n",
       "      <th>ccc_pvalue</th>\n",
       "      <th>pearson</th>\n",
       "      <th>pearson_fdr</th>\n",
       "      <th>pearson_pvalue</th>\n",
       "      <th>spearman</th>\n",
       "      <th>spearman_fdr</th>\n",
       "      <th>spearman_pvalue</th>\n",
       "    </tr>\n",
       "    <tr>\n",
       "      <th>gene0_id</th>\n",
       "      <th>gene1_id</th>\n",
       "      <th></th>\n",
       "      <th></th>\n",
       "      <th></th>\n",
       "      <th></th>\n",
       "      <th></th>\n",
       "      <th></th>\n",
       "      <th></th>\n",
       "      <th></th>\n",
       "      <th></th>\n",
       "      <th></th>\n",
       "    </tr>\n",
       "  </thead>\n",
       "  <tbody>\n",
       "    <tr>\n",
       "      <th rowspan=\"2\" valign=\"top\">ENSG00000000938.12</th>\n",
       "      <th>ENSG00000128342.4</th>\n",
       "      <td>ccc_high_and_pearson_low-top_pearson</td>\n",
       "      <td>0.232700</td>\n",
       "      <td>0.000001</td>\n",
       "      <td>9.999990e-07</td>\n",
       "      <td>-0.116906</td>\n",
       "      <td>0.002597</td>\n",
       "      <td>0.001291</td>\n",
       "      <td>-0.473951</td>\n",
       "      <td>2.787320e-43</td>\n",
       "      <td>1.534672e-43</td>\n",
       "    </tr>\n",
       "    <tr>\n",
       "      <th>ENSG00000249138.1</th>\n",
       "      <td>ccc_high_and_pearson_low-random</td>\n",
       "      <td>0.198172</td>\n",
       "      <td>0.000001</td>\n",
       "      <td>9.999990e-07</td>\n",
       "      <td>-0.093076</td>\n",
       "      <td>0.015275</td>\n",
       "      <td>0.010503</td>\n",
       "      <td>-0.308136</td>\n",
       "      <td>7.175155e-18</td>\n",
       "      <td>4.538519e-18</td>\n",
       "    </tr>\n",
       "    <tr>\n",
       "      <th rowspan=\"2\" valign=\"top\">ENSG00000001167.14</th>\n",
       "      <th>ENSG00000119862.12</th>\n",
       "      <td>all_low-top_ccc</td>\n",
       "      <td>0.034955</td>\n",
       "      <td>0.000001</td>\n",
       "      <td>9.999990e-07</td>\n",
       "      <td>0.024366</td>\n",
       "      <td>0.532093</td>\n",
       "      <td>0.503820</td>\n",
       "      <td>0.091169</td>\n",
       "      <td>1.377640e-02</td>\n",
       "      <td>1.220580e-02</td>\n",
       "    </tr>\n",
       "    <tr>\n",
       "      <th>ENSG00000131475.6</th>\n",
       "      <td>all_low-top_pearson</td>\n",
       "      <td>0.028636</td>\n",
       "      <td>0.000004</td>\n",
       "      <td>2.999997e-06</td>\n",
       "      <td>-0.117799</td>\n",
       "      <td>0.002597</td>\n",
       "      <td>0.001184</td>\n",
       "      <td>-0.046469</td>\n",
       "      <td>2.136647e-01</td>\n",
       "      <td>2.021593e-01</td>\n",
       "    </tr>\n",
       "    <tr>\n",
       "      <th>ENSG00000001561.6</th>\n",
       "      <th>ENSG00000086730.16</th>\n",
       "      <td>all_low-random</td>\n",
       "      <td>0.018550</td>\n",
       "      <td>0.000149</td>\n",
       "      <td>1.289999e-04</td>\n",
       "      <td>-0.002443</td>\n",
       "      <td>0.951313</td>\n",
       "      <td>0.946568</td>\n",
       "      <td>0.059267</td>\n",
       "      <td>1.116711e-01</td>\n",
       "      <td>1.036914e-01</td>\n",
       "    </tr>\n",
       "  </tbody>\n",
       "</table>\n",
       "</div>"
      ],
      "text/plain": [
       "                                                                      group  \\\n",
       "gene0_id           gene1_id                                                   \n",
       "ENSG00000000938.12 ENSG00000128342.4   ccc_high_and_pearson_low-top_pearson   \n",
       "                   ENSG00000249138.1        ccc_high_and_pearson_low-random   \n",
       "ENSG00000001167.14 ENSG00000119862.12                       all_low-top_ccc   \n",
       "                   ENSG00000131475.6                    all_low-top_pearson   \n",
       "ENSG00000001561.6  ENSG00000086730.16                        all_low-random   \n",
       "\n",
       "                                            ccc   ccc_fdr    ccc_pvalue  \\\n",
       "gene0_id           gene1_id                                               \n",
       "ENSG00000000938.12 ENSG00000128342.4   0.232700  0.000001  9.999990e-07   \n",
       "                   ENSG00000249138.1   0.198172  0.000001  9.999990e-07   \n",
       "ENSG00000001167.14 ENSG00000119862.12  0.034955  0.000001  9.999990e-07   \n",
       "                   ENSG00000131475.6   0.028636  0.000004  2.999997e-06   \n",
       "ENSG00000001561.6  ENSG00000086730.16  0.018550  0.000149  1.289999e-04   \n",
       "\n",
       "                                        pearson  pearson_fdr  pearson_pvalue  \\\n",
       "gene0_id           gene1_id                                                    \n",
       "ENSG00000000938.12 ENSG00000128342.4  -0.116906     0.002597        0.001291   \n",
       "                   ENSG00000249138.1  -0.093076     0.015275        0.010503   \n",
       "ENSG00000001167.14 ENSG00000119862.12  0.024366     0.532093        0.503820   \n",
       "                   ENSG00000131475.6  -0.117799     0.002597        0.001184   \n",
       "ENSG00000001561.6  ENSG00000086730.16 -0.002443     0.951313        0.946568   \n",
       "\n",
       "                                       spearman  spearman_fdr  spearman_pvalue  \n",
       "gene0_id           gene1_id                                                     \n",
       "ENSG00000000938.12 ENSG00000128342.4  -0.473951  2.787320e-43     1.534672e-43  \n",
       "                   ENSG00000249138.1  -0.308136  7.175155e-18     4.538519e-18  \n",
       "ENSG00000001167.14 ENSG00000119862.12  0.091169  1.377640e-02     1.220580e-02  \n",
       "                   ENSG00000131475.6  -0.046469  2.136647e-01     2.021593e-01  \n",
       "ENSG00000001561.6  ENSG00000086730.16  0.059267  1.116711e-01     1.036914e-01  "
      ]
     },
     "execution_count": 23,
     "metadata": {},
     "output_type": "execute_result"
    }
   ],
   "source": [
    "df_pvalues.head()"
   ]
  },
  {
   "cell_type": "code",
   "execution_count": 24,
   "id": "a719d668-300b-4c9a-99b1-b06bd927957b",
   "metadata": {
    "execution": {
     "iopub.execute_input": "2024-01-05T00:05:24.583409Z",
     "iopub.status.busy": "2024-01-05T00:05:24.583076Z",
     "iopub.status.idle": "2024-01-05T00:05:24.586923Z",
     "shell.execute_reply": "2024-01-05T00:05:24.586461Z"
    },
    "papermill": {
     "duration": 0.012239,
     "end_time": "2024-01-05T00:05:24.587758",
     "exception": false,
     "start_time": "2024-01-05T00:05:24.575519",
     "status": "completed"
    },
    "tags": []
   },
   "outputs": [],
   "source": [
    "# remove duplicated gene pairs\n",
    "df_pvalues = df_pvalues[~df_pvalues.index.duplicated(keep=\"first\")]"
   ]
  },
  {
   "cell_type": "markdown",
   "id": "125d247a-62e0-47de-9f13-b500dba3106e",
   "metadata": {
    "papermill": {
     "duration": 0.007055,
     "end_time": "2024-01-05T00:05:24.601868",
     "exception": false,
     "start_time": "2024-01-05T00:05:24.594813",
     "status": "completed"
    },
    "tags": []
   },
   "source": [
    "**Note**: Here the \"group\" column specifies the categories in Figure 3a, followed by `top_[coef]`, where for the same category I sorted gene pairs by `coef`. This allows me, for instance, to take the gene pairs where Pearson is high and CCC is low, and sort by any of those coefficient values."
   ]
  },
  {
   "cell_type": "markdown",
   "id": "7a7f1ec6-3865-4899-9206-9b261d0238ff",
   "metadata": {
    "papermill": {
     "duration": 0.006951,
     "end_time": "2024-01-05T00:05:24.615825",
     "exception": false,
     "start_time": "2024-01-05T00:05:24.608874",
     "status": "completed"
    },
    "tags": []
   },
   "source": [
    "# Combine data"
   ]
  },
  {
   "cell_type": "code",
   "execution_count": 25,
   "id": "b1c9d0b8-83f3-4a82-941b-b0005658ebba",
   "metadata": {
    "execution": {
     "iopub.execute_input": "2024-01-05T00:05:24.630880Z",
     "iopub.status.busy": "2024-01-05T00:05:24.630421Z",
     "iopub.status.idle": "2024-01-05T00:05:30.163934Z",
     "shell.execute_reply": "2024-01-05T00:05:30.163424Z"
    },
    "papermill": {
     "duration": 5.542796,
     "end_time": "2024-01-05T00:05:30.165656",
     "exception": false,
     "start_time": "2024-01-05T00:05:24.622860",
     "status": "completed"
    },
    "tags": []
   },
   "outputs": [],
   "source": [
    "df_full = gene_pair_intersections.rename(\n",
    "    columns={\n",
    "        \"ccc\": \"ccc_coef\",\n",
    "        \"pearson\": \"pearson_coef\",\n",
    "        \"spearman\": \"spearman_coef\",\n",
    "    }\n",
    ").join(df_pvalues[\"ccc_fdr pearson_fdr spearman_fdr\".split()], how=\"left\")"
   ]
  },
  {
   "cell_type": "code",
   "execution_count": 26,
   "id": "8f7eff6d-b08e-4741-9003-95df5f3001bb",
   "metadata": {
    "execution": {
     "iopub.execute_input": "2024-01-05T00:05:30.193618Z",
     "iopub.status.busy": "2024-01-05T00:05:30.193516Z",
     "iopub.status.idle": "2024-01-05T00:05:30.196577Z",
     "shell.execute_reply": "2024-01-05T00:05:30.196227Z"
    },
    "papermill": {
     "duration": 0.018385,
     "end_time": "2024-01-05T00:05:30.197887",
     "exception": false,
     "start_time": "2024-01-05T00:05:30.179502",
     "status": "completed"
    },
    "tags": []
   },
   "outputs": [
    {
     "data": {
      "text/plain": [
       "(12497500, 12)"
      ]
     },
     "metadata": {},
     "output_type": "display_data"
    }
   ],
   "source": [
    "assert gene_pair_intersections.shape[0] == df_full.shape[0]\n",
    "display(df_full.shape)"
   ]
  },
  {
   "cell_type": "code",
   "execution_count": 27,
   "id": "02f7baaf-6bee-4182-8952-d52e7b02aa6b",
   "metadata": {
    "execution": {
     "iopub.execute_input": "2024-01-05T00:05:30.225679Z",
     "iopub.status.busy": "2024-01-05T00:05:30.225585Z",
     "iopub.status.idle": "2024-01-05T00:05:30.233286Z",
     "shell.execute_reply": "2024-01-05T00:05:30.232939Z"
    },
    "papermill": {
     "duration": 0.023042,
     "end_time": "2024-01-05T00:05:30.234651",
     "exception": false,
     "start_time": "2024-01-05T00:05:30.211609",
     "status": "completed"
    },
    "tags": []
   },
   "outputs": [
    {
     "data": {
      "text/html": [
       "<div>\n",
       "<style scoped>\n",
       "    .dataframe tbody tr th:only-of-type {\n",
       "        vertical-align: middle;\n",
       "    }\n",
       "\n",
       "    .dataframe tbody tr th {\n",
       "        vertical-align: top;\n",
       "    }\n",
       "\n",
       "    .dataframe thead th {\n",
       "        text-align: right;\n",
       "    }\n",
       "</style>\n",
       "<table border=\"1\" class=\"dataframe\">\n",
       "  <thead>\n",
       "    <tr style=\"text-align: right;\">\n",
       "      <th></th>\n",
       "      <th></th>\n",
       "      <th>Pearson (high)</th>\n",
       "      <th>Pearson (low)</th>\n",
       "      <th>Spearman (high)</th>\n",
       "      <th>Spearman (low)</th>\n",
       "      <th>Clustermatch (high)</th>\n",
       "      <th>Clustermatch (low)</th>\n",
       "      <th>ccc_coef</th>\n",
       "      <th>pearson_coef</th>\n",
       "      <th>spearman_coef</th>\n",
       "      <th>ccc_fdr</th>\n",
       "      <th>pearson_fdr</th>\n",
       "      <th>spearman_fdr</th>\n",
       "    </tr>\n",
       "    <tr>\n",
       "      <th>gene0_id</th>\n",
       "      <th>gene1_id</th>\n",
       "      <th></th>\n",
       "      <th></th>\n",
       "      <th></th>\n",
       "      <th></th>\n",
       "      <th></th>\n",
       "      <th></th>\n",
       "      <th></th>\n",
       "      <th></th>\n",
       "      <th></th>\n",
       "      <th></th>\n",
       "      <th></th>\n",
       "      <th></th>\n",
       "    </tr>\n",
       "  </thead>\n",
       "  <tbody>\n",
       "    <tr>\n",
       "      <th rowspan=\"5\" valign=\"top\">ENSG00000000419.12</th>\n",
       "      <th>ENSG00000002834.17</th>\n",
       "      <td>True</td>\n",
       "      <td>False</td>\n",
       "      <td>True</td>\n",
       "      <td>False</td>\n",
       "      <td>True</td>\n",
       "      <td>False</td>\n",
       "      <td>0.418721</td>\n",
       "      <td>0.681847</td>\n",
       "      <td>0.786595</td>\n",
       "      <td>NaN</td>\n",
       "      <td>NaN</td>\n",
       "      <td>NaN</td>\n",
       "    </tr>\n",
       "    <tr>\n",
       "      <th>ENSG00000002919.14</th>\n",
       "      <td>True</td>\n",
       "      <td>False</td>\n",
       "      <td>True</td>\n",
       "      <td>False</td>\n",
       "      <td>True</td>\n",
       "      <td>False</td>\n",
       "      <td>0.405090</td>\n",
       "      <td>0.734699</td>\n",
       "      <td>0.816991</td>\n",
       "      <td>NaN</td>\n",
       "      <td>NaN</td>\n",
       "      <td>NaN</td>\n",
       "    </tr>\n",
       "    <tr>\n",
       "      <th>ENSG00000002933.7</th>\n",
       "      <td>False</td>\n",
       "      <td>True</td>\n",
       "      <td>False</td>\n",
       "      <td>True</td>\n",
       "      <td>False</td>\n",
       "      <td>True</td>\n",
       "      <td>0.007466</td>\n",
       "      <td>0.013825</td>\n",
       "      <td>0.004128</td>\n",
       "      <td>NaN</td>\n",
       "      <td>NaN</td>\n",
       "      <td>NaN</td>\n",
       "    </tr>\n",
       "    <tr>\n",
       "      <th>ENSG00000003402.19</th>\n",
       "      <td>True</td>\n",
       "      <td>False</td>\n",
       "      <td>True</td>\n",
       "      <td>False</td>\n",
       "      <td>True</td>\n",
       "      <td>False</td>\n",
       "      <td>0.391683</td>\n",
       "      <td>0.727347</td>\n",
       "      <td>0.803653</td>\n",
       "      <td>NaN</td>\n",
       "      <td>NaN</td>\n",
       "      <td>NaN</td>\n",
       "    </tr>\n",
       "    <tr>\n",
       "      <th>ENSG00000004478.7</th>\n",
       "      <td>False</td>\n",
       "      <td>True</td>\n",
       "      <td>False</td>\n",
       "      <td>False</td>\n",
       "      <td>False</td>\n",
       "      <td>False</td>\n",
       "      <td>0.099013</td>\n",
       "      <td>0.094147</td>\n",
       "      <td>0.231269</td>\n",
       "      <td>NaN</td>\n",
       "      <td>NaN</td>\n",
       "      <td>NaN</td>\n",
       "    </tr>\n",
       "  </tbody>\n",
       "</table>\n",
       "</div>"
      ],
      "text/plain": [
       "                                       Pearson (high)  Pearson (low)  \\\n",
       "gene0_id           gene1_id                                            \n",
       "ENSG00000000419.12 ENSG00000002834.17            True          False   \n",
       "                   ENSG00000002919.14            True          False   \n",
       "                   ENSG00000002933.7            False           True   \n",
       "                   ENSG00000003402.19            True          False   \n",
       "                   ENSG00000004478.7            False           True   \n",
       "\n",
       "                                       Spearman (high)  Spearman (low)  \\\n",
       "gene0_id           gene1_id                                              \n",
       "ENSG00000000419.12 ENSG00000002834.17             True           False   \n",
       "                   ENSG00000002919.14             True           False   \n",
       "                   ENSG00000002933.7             False            True   \n",
       "                   ENSG00000003402.19             True           False   \n",
       "                   ENSG00000004478.7             False           False   \n",
       "\n",
       "                                       Clustermatch (high)  \\\n",
       "gene0_id           gene1_id                                  \n",
       "ENSG00000000419.12 ENSG00000002834.17                 True   \n",
       "                   ENSG00000002919.14                 True   \n",
       "                   ENSG00000002933.7                 False   \n",
       "                   ENSG00000003402.19                 True   \n",
       "                   ENSG00000004478.7                 False   \n",
       "\n",
       "                                       Clustermatch (low)  ccc_coef  \\\n",
       "gene0_id           gene1_id                                           \n",
       "ENSG00000000419.12 ENSG00000002834.17               False  0.418721   \n",
       "                   ENSG00000002919.14               False  0.405090   \n",
       "                   ENSG00000002933.7                 True  0.007466   \n",
       "                   ENSG00000003402.19               False  0.391683   \n",
       "                   ENSG00000004478.7                False  0.099013   \n",
       "\n",
       "                                       pearson_coef  spearman_coef  ccc_fdr  \\\n",
       "gene0_id           gene1_id                                                   \n",
       "ENSG00000000419.12 ENSG00000002834.17      0.681847       0.786595      NaN   \n",
       "                   ENSG00000002919.14      0.734699       0.816991      NaN   \n",
       "                   ENSG00000002933.7       0.013825       0.004128      NaN   \n",
       "                   ENSG00000003402.19      0.727347       0.803653      NaN   \n",
       "                   ENSG00000004478.7       0.094147       0.231269      NaN   \n",
       "\n",
       "                                       pearson_fdr  spearman_fdr  \n",
       "gene0_id           gene1_id                                       \n",
       "ENSG00000000419.12 ENSG00000002834.17          NaN           NaN  \n",
       "                   ENSG00000002919.14          NaN           NaN  \n",
       "                   ENSG00000002933.7           NaN           NaN  \n",
       "                   ENSG00000003402.19          NaN           NaN  \n",
       "                   ENSG00000004478.7           NaN           NaN  "
      ]
     },
     "execution_count": 27,
     "metadata": {},
     "output_type": "execute_result"
    }
   ],
   "source": [
    "df_full.head()"
   ]
  },
  {
   "cell_type": "markdown",
   "id": "19fcd029-208a-420f-bb4e-ecef9041c293",
   "metadata": {
    "papermill": {
     "duration": 0.013667,
     "end_time": "2024-01-05T00:05:30.262236",
     "exception": false,
     "start_time": "2024-01-05T00:05:30.248569",
     "status": "completed"
    },
    "tags": []
   },
   "source": [
    "## Add gene symbols"
   ]
  },
  {
   "cell_type": "code",
   "execution_count": 28,
   "id": "1cd14e69-5adb-48d6-98a1-9b7567a24ea3",
   "metadata": {
    "execution": {
     "iopub.execute_input": "2024-01-05T00:05:30.280737Z",
     "iopub.status.busy": "2024-01-05T00:05:30.280328Z",
     "iopub.status.idle": "2024-01-05T00:06:44.062444Z",
     "shell.execute_reply": "2024-01-05T00:06:44.061980Z"
    },
    "papermill": {
     "duration": 73.791466,
     "end_time": "2024-01-05T00:06:44.063999",
     "exception": false,
     "start_time": "2024-01-05T00:05:30.272533",
     "status": "completed"
    },
    "tags": []
   },
   "outputs": [],
   "source": [
    "df_full = df_full.assign(\n",
    "    gene0_symbol=df_full.apply(lambda x: gene_map[x.name[0]], axis=1),\n",
    "    gene1_symbol=df_full.apply(lambda x: gene_map[x.name[1]], axis=1),\n",
    ")"
   ]
  },
  {
   "cell_type": "code",
   "execution_count": 29,
   "id": "64ba0908-bf16-429d-b821-9302a1262f07",
   "metadata": {
    "execution": {
     "iopub.execute_input": "2024-01-05T00:06:44.092892Z",
     "iopub.status.busy": "2024-01-05T00:06:44.092786Z",
     "iopub.status.idle": "2024-01-05T00:06:44.095910Z",
     "shell.execute_reply": "2024-01-05T00:06:44.095454Z"
    },
    "papermill": {
     "duration": 0.018785,
     "end_time": "2024-01-05T00:06:44.097176",
     "exception": false,
     "start_time": "2024-01-05T00:06:44.078391",
     "status": "completed"
    },
    "tags": []
   },
   "outputs": [
    {
     "data": {
      "text/plain": [
       "(12497500, 14)"
      ]
     },
     "execution_count": 29,
     "metadata": {},
     "output_type": "execute_result"
    }
   ],
   "source": [
    "df_full.shape"
   ]
  },
  {
   "cell_type": "code",
   "execution_count": 30,
   "id": "91ce40a3-eecd-44b4-9314-c2516a582ae3",
   "metadata": {
    "execution": {
     "iopub.execute_input": "2024-01-05T00:06:44.125767Z",
     "iopub.status.busy": "2024-01-05T00:06:44.125625Z",
     "iopub.status.idle": "2024-01-05T00:06:44.321221Z",
     "shell.execute_reply": "2024-01-05T00:06:44.320778Z"
    },
    "papermill": {
     "duration": 0.21116,
     "end_time": "2024-01-05T00:06:44.322539",
     "exception": false,
     "start_time": "2024-01-05T00:06:44.111379",
     "status": "completed"
    },
    "tags": []
   },
   "outputs": [],
   "source": [
    "# reorder columns\n",
    "col_name = \"gene1_symbol\"\n",
    "col = df_full.pop(col_name)\n",
    "df_full.insert(0, col_name, col)\n",
    "\n",
    "col_name = \"gene0_symbol\"\n",
    "col = df_full.pop(col_name)\n",
    "df_full.insert(0, col_name, col)"
   ]
  },
  {
   "cell_type": "code",
   "execution_count": 31,
   "id": "c987121a-79b2-4134-8282-fb6900a9a446",
   "metadata": {
    "execution": {
     "iopub.execute_input": "2024-01-05T00:06:44.351179Z",
     "iopub.status.busy": "2024-01-05T00:06:44.351090Z",
     "iopub.status.idle": "2024-01-05T00:06:44.359367Z",
     "shell.execute_reply": "2024-01-05T00:06:44.359008Z"
    },
    "papermill": {
     "duration": 0.024039,
     "end_time": "2024-01-05T00:06:44.360720",
     "exception": false,
     "start_time": "2024-01-05T00:06:44.336681",
     "status": "completed"
    },
    "tags": []
   },
   "outputs": [
    {
     "data": {
      "text/html": [
       "<div>\n",
       "<style scoped>\n",
       "    .dataframe tbody tr th:only-of-type {\n",
       "        vertical-align: middle;\n",
       "    }\n",
       "\n",
       "    .dataframe tbody tr th {\n",
       "        vertical-align: top;\n",
       "    }\n",
       "\n",
       "    .dataframe thead th {\n",
       "        text-align: right;\n",
       "    }\n",
       "</style>\n",
       "<table border=\"1\" class=\"dataframe\">\n",
       "  <thead>\n",
       "    <tr style=\"text-align: right;\">\n",
       "      <th></th>\n",
       "      <th></th>\n",
       "      <th>gene0_symbol</th>\n",
       "      <th>gene1_symbol</th>\n",
       "      <th>Pearson (high)</th>\n",
       "      <th>Pearson (low)</th>\n",
       "      <th>Spearman (high)</th>\n",
       "      <th>Spearman (low)</th>\n",
       "      <th>Clustermatch (high)</th>\n",
       "      <th>Clustermatch (low)</th>\n",
       "      <th>ccc_coef</th>\n",
       "      <th>pearson_coef</th>\n",
       "      <th>spearman_coef</th>\n",
       "      <th>ccc_fdr</th>\n",
       "      <th>pearson_fdr</th>\n",
       "      <th>spearman_fdr</th>\n",
       "    </tr>\n",
       "    <tr>\n",
       "      <th>gene0_id</th>\n",
       "      <th>gene1_id</th>\n",
       "      <th></th>\n",
       "      <th></th>\n",
       "      <th></th>\n",
       "      <th></th>\n",
       "      <th></th>\n",
       "      <th></th>\n",
       "      <th></th>\n",
       "      <th></th>\n",
       "      <th></th>\n",
       "      <th></th>\n",
       "      <th></th>\n",
       "      <th></th>\n",
       "      <th></th>\n",
       "      <th></th>\n",
       "    </tr>\n",
       "  </thead>\n",
       "  <tbody>\n",
       "    <tr>\n",
       "      <th rowspan=\"5\" valign=\"top\">ENSG00000000419.12</th>\n",
       "      <th>ENSG00000002834.17</th>\n",
       "      <td>DPM1</td>\n",
       "      <td>LASP1</td>\n",
       "      <td>True</td>\n",
       "      <td>False</td>\n",
       "      <td>True</td>\n",
       "      <td>False</td>\n",
       "      <td>True</td>\n",
       "      <td>False</td>\n",
       "      <td>0.418721</td>\n",
       "      <td>0.681847</td>\n",
       "      <td>0.786595</td>\n",
       "      <td>NaN</td>\n",
       "      <td>NaN</td>\n",
       "      <td>NaN</td>\n",
       "    </tr>\n",
       "    <tr>\n",
       "      <th>ENSG00000002919.14</th>\n",
       "      <td>DPM1</td>\n",
       "      <td>SNX11</td>\n",
       "      <td>True</td>\n",
       "      <td>False</td>\n",
       "      <td>True</td>\n",
       "      <td>False</td>\n",
       "      <td>True</td>\n",
       "      <td>False</td>\n",
       "      <td>0.405090</td>\n",
       "      <td>0.734699</td>\n",
       "      <td>0.816991</td>\n",
       "      <td>NaN</td>\n",
       "      <td>NaN</td>\n",
       "      <td>NaN</td>\n",
       "    </tr>\n",
       "    <tr>\n",
       "      <th>ENSG00000002933.7</th>\n",
       "      <td>DPM1</td>\n",
       "      <td>TMEM176A</td>\n",
       "      <td>False</td>\n",
       "      <td>True</td>\n",
       "      <td>False</td>\n",
       "      <td>True</td>\n",
       "      <td>False</td>\n",
       "      <td>True</td>\n",
       "      <td>0.007466</td>\n",
       "      <td>0.013825</td>\n",
       "      <td>0.004128</td>\n",
       "      <td>NaN</td>\n",
       "      <td>NaN</td>\n",
       "      <td>NaN</td>\n",
       "    </tr>\n",
       "    <tr>\n",
       "      <th>ENSG00000003402.19</th>\n",
       "      <td>DPM1</td>\n",
       "      <td>CFLAR</td>\n",
       "      <td>True</td>\n",
       "      <td>False</td>\n",
       "      <td>True</td>\n",
       "      <td>False</td>\n",
       "      <td>True</td>\n",
       "      <td>False</td>\n",
       "      <td>0.391683</td>\n",
       "      <td>0.727347</td>\n",
       "      <td>0.803653</td>\n",
       "      <td>NaN</td>\n",
       "      <td>NaN</td>\n",
       "      <td>NaN</td>\n",
       "    </tr>\n",
       "    <tr>\n",
       "      <th>ENSG00000004478.7</th>\n",
       "      <td>DPM1</td>\n",
       "      <td>FKBP4</td>\n",
       "      <td>False</td>\n",
       "      <td>True</td>\n",
       "      <td>False</td>\n",
       "      <td>False</td>\n",
       "      <td>False</td>\n",
       "      <td>False</td>\n",
       "      <td>0.099013</td>\n",
       "      <td>0.094147</td>\n",
       "      <td>0.231269</td>\n",
       "      <td>NaN</td>\n",
       "      <td>NaN</td>\n",
       "      <td>NaN</td>\n",
       "    </tr>\n",
       "  </tbody>\n",
       "</table>\n",
       "</div>"
      ],
      "text/plain": [
       "                                      gene0_symbol gene1_symbol  \\\n",
       "gene0_id           gene1_id                                       \n",
       "ENSG00000000419.12 ENSG00000002834.17         DPM1        LASP1   \n",
       "                   ENSG00000002919.14         DPM1        SNX11   \n",
       "                   ENSG00000002933.7          DPM1     TMEM176A   \n",
       "                   ENSG00000003402.19         DPM1        CFLAR   \n",
       "                   ENSG00000004478.7          DPM1        FKBP4   \n",
       "\n",
       "                                       Pearson (high)  Pearson (low)  \\\n",
       "gene0_id           gene1_id                                            \n",
       "ENSG00000000419.12 ENSG00000002834.17            True          False   \n",
       "                   ENSG00000002919.14            True          False   \n",
       "                   ENSG00000002933.7            False           True   \n",
       "                   ENSG00000003402.19            True          False   \n",
       "                   ENSG00000004478.7            False           True   \n",
       "\n",
       "                                       Spearman (high)  Spearman (low)  \\\n",
       "gene0_id           gene1_id                                              \n",
       "ENSG00000000419.12 ENSG00000002834.17             True           False   \n",
       "                   ENSG00000002919.14             True           False   \n",
       "                   ENSG00000002933.7             False            True   \n",
       "                   ENSG00000003402.19             True           False   \n",
       "                   ENSG00000004478.7             False           False   \n",
       "\n",
       "                                       Clustermatch (high)  \\\n",
       "gene0_id           gene1_id                                  \n",
       "ENSG00000000419.12 ENSG00000002834.17                 True   \n",
       "                   ENSG00000002919.14                 True   \n",
       "                   ENSG00000002933.7                 False   \n",
       "                   ENSG00000003402.19                 True   \n",
       "                   ENSG00000004478.7                 False   \n",
       "\n",
       "                                       Clustermatch (low)  ccc_coef  \\\n",
       "gene0_id           gene1_id                                           \n",
       "ENSG00000000419.12 ENSG00000002834.17               False  0.418721   \n",
       "                   ENSG00000002919.14               False  0.405090   \n",
       "                   ENSG00000002933.7                 True  0.007466   \n",
       "                   ENSG00000003402.19               False  0.391683   \n",
       "                   ENSG00000004478.7                False  0.099013   \n",
       "\n",
       "                                       pearson_coef  spearman_coef  ccc_fdr  \\\n",
       "gene0_id           gene1_id                                                   \n",
       "ENSG00000000419.12 ENSG00000002834.17      0.681847       0.786595      NaN   \n",
       "                   ENSG00000002919.14      0.734699       0.816991      NaN   \n",
       "                   ENSG00000002933.7       0.013825       0.004128      NaN   \n",
       "                   ENSG00000003402.19      0.727347       0.803653      NaN   \n",
       "                   ENSG00000004478.7       0.094147       0.231269      NaN   \n",
       "\n",
       "                                       pearson_fdr  spearman_fdr  \n",
       "gene0_id           gene1_id                                       \n",
       "ENSG00000000419.12 ENSG00000002834.17          NaN           NaN  \n",
       "                   ENSG00000002919.14          NaN           NaN  \n",
       "                   ENSG00000002933.7           NaN           NaN  \n",
       "                   ENSG00000003402.19          NaN           NaN  \n",
       "                   ENSG00000004478.7           NaN           NaN  "
      ]
     },
     "execution_count": 31,
     "metadata": {},
     "output_type": "execute_result"
    }
   ],
   "source": [
    "df_full.head()"
   ]
  },
  {
   "cell_type": "markdown",
   "id": "df7b813d-bb70-479e-ab7e-d3141dd602a3",
   "metadata": {
    "papermill": {
     "duration": 0.014205,
     "end_time": "2024-01-05T00:06:44.389460",
     "exception": false,
     "start_time": "2024-01-05T00:06:44.375255",
     "status": "completed"
    },
    "tags": []
   },
   "source": [
    "## Optimize DataFrame dtypes"
   ]
  },
  {
   "cell_type": "code",
   "execution_count": 32,
   "id": "8340de98-4e34-4347-99d6-5cd8d220a25f",
   "metadata": {
    "execution": {
     "iopub.execute_input": "2024-01-05T00:06:44.417486Z",
     "iopub.status.busy": "2024-01-05T00:06:44.417390Z",
     "iopub.status.idle": "2024-01-05T00:06:44.419654Z",
     "shell.execute_reply": "2024-01-05T00:06:44.419183Z"
    },
    "papermill": {
     "duration": 0.016563,
     "end_time": "2024-01-05T00:06:44.420386",
     "exception": false,
     "start_time": "2024-01-05T00:06:44.403823",
     "status": "completed"
    },
    "tags": []
   },
   "outputs": [],
   "source": [
    "df_full_orig = df_full"
   ]
  },
  {
   "cell_type": "code",
   "execution_count": 33,
   "id": "d62198c3-09dd-4db7-a786-36f9309f8775",
   "metadata": {
    "execution": {
     "iopub.execute_input": "2024-01-05T00:06:44.436254Z",
     "iopub.status.busy": "2024-01-05T00:06:44.435914Z",
     "iopub.status.idle": "2024-01-05T00:06:44.443502Z",
     "shell.execute_reply": "2024-01-05T00:06:44.443038Z"
    },
    "papermill": {
     "duration": 0.016412,
     "end_time": "2024-01-05T00:06:44.444319",
     "exception": false,
     "start_time": "2024-01-05T00:06:44.427907",
     "status": "completed"
    },
    "tags": []
   },
   "outputs": [
    {
     "data": {
      "text/plain": [
       "Index                  320867034\n",
       "gene0_symbol            99980000\n",
       "gene1_symbol            99980000\n",
       "Pearson (high)          12497500\n",
       "Pearson (low)           12497500\n",
       "Spearman (high)         12497500\n",
       "Spearman (low)          12497500\n",
       "Clustermatch (high)     12497500\n",
       "Clustermatch (low)      12497500\n",
       "ccc_coef                99980000\n",
       "pearson_coef            99980000\n",
       "spearman_coef           99980000\n",
       "ccc_fdr                 99980000\n",
       "pearson_fdr             99980000\n",
       "spearman_fdr            99980000\n",
       "dtype: int64"
      ]
     },
     "metadata": {},
     "output_type": "display_data"
    },
    {
     "data": {
      "text/plain": [
       "'1,195,692,034'"
      ]
     },
     "metadata": {},
     "output_type": "display_data"
    }
   ],
   "source": [
    "display(df_full.memory_usage())\n",
    "display(f\"{df_full.memory_usage().sum():,}\")"
   ]
  },
  {
   "cell_type": "markdown",
   "id": "48bc6140-0a85-4960-9a27-d4c06994bced",
   "metadata": {
    "papermill": {
     "duration": 0.007581,
     "end_time": "2024-01-05T00:06:44.459589",
     "exception": false,
     "start_time": "2024-01-05T00:06:44.452008",
     "status": "completed"
    },
    "tags": []
   },
   "source": [
    "### Remove MultiIndex"
   ]
  },
  {
   "cell_type": "markdown",
   "id": "a9e4f167-6f8b-447c-a5f3-6da6dda7b555",
   "metadata": {
    "papermill": {
     "duration": 0.007571,
     "end_time": "2024-01-05T00:06:44.474841",
     "exception": false,
     "start_time": "2024-01-05T00:06:44.467270",
     "status": "completed"
    },
    "tags": []
   },
   "source": [
    "A MultiIndex is not necessary for a supplementary file."
   ]
  },
  {
   "cell_type": "code",
   "execution_count": 34,
   "id": "d88b2968-3a9e-4a8d-8d2e-2a24d995c685",
   "metadata": {
    "execution": {
     "iopub.execute_input": "2024-01-05T00:06:44.491138Z",
     "iopub.status.busy": "2024-01-05T00:06:44.490713Z",
     "iopub.status.idle": "2024-01-05T00:06:44.496551Z",
     "shell.execute_reply": "2024-01-05T00:06:44.496103Z"
    },
    "papermill": {
     "duration": 0.014795,
     "end_time": "2024-01-05T00:06:44.497324",
     "exception": false,
     "start_time": "2024-01-05T00:06:44.482529",
     "status": "completed"
    },
    "tags": []
   },
   "outputs": [
    {
     "data": {
      "text/plain": [
       "dtype('O')"
      ]
     },
     "metadata": {},
     "output_type": "display_data"
    },
    {
     "data": {
      "text/plain": [
       "MultiIndex([('ENSG00000000419.12', 'ENSG00000002834.17'),\n",
       "            ('ENSG00000000419.12', 'ENSG00000002919.14'),\n",
       "            ('ENSG00000000419.12',  'ENSG00000002933.7'),\n",
       "            ('ENSG00000000419.12', 'ENSG00000003402.19'),\n",
       "            ('ENSG00000000419.12',  'ENSG00000004478.7'),\n",
       "            ('ENSG00000000419.12', 'ENSG00000004660.14'),\n",
       "            ('ENSG00000000419.12',  'ENSG00000004799.7'),\n",
       "            ('ENSG00000000419.12', 'ENSG00000004939.13'),\n",
       "            ('ENSG00000000419.12', 'ENSG00000005020.12'),\n",
       "            ('ENSG00000000419.12', 'ENSG00000005302.17'),\n",
       "            ...\n",
       "            ( 'ENSG00000284574.1',  'ENSG00000282416.1'),\n",
       "            ( 'ENSG00000284574.1',  'ENSG00000282420.1'),\n",
       "            ( 'ENSG00000284574.1',  'ENSG00000282499.1'),\n",
       "            ( 'ENSG00000284574.1',  'ENSG00000282572.2'),\n",
       "            ( 'ENSG00000284574.1',  'ENSG00000282639.1'),\n",
       "            ( 'ENSG00000284574.1',  'ENSG00000282651.2'),\n",
       "            ( 'ENSG00000284574.1',  'ENSG00000282780.1'),\n",
       "            ( 'ENSG00000284574.1',  'ENSG00000282939.1'),\n",
       "            ( 'ENSG00000284574.1',  'ENSG00000283063.1'),\n",
       "            ( 'ENSG00000284574.1',  'ENSG00000283602.1')],\n",
       "           names=['gene0_id', 'gene1_id'], length=12497500)"
      ]
     },
     "metadata": {},
     "output_type": "display_data"
    }
   ],
   "source": [
    "display(df_full.index.dtype)\n",
    "display(df_full.index)"
   ]
  },
  {
   "cell_type": "code",
   "execution_count": 35,
   "id": "233a3c04-c571-44d3-8fcc-e8578bb42c3c",
   "metadata": {
    "execution": {
     "iopub.execute_input": "2024-01-05T00:06:44.513801Z",
     "iopub.status.busy": "2024-01-05T00:06:44.513466Z",
     "iopub.status.idle": "2024-01-05T00:06:45.687562Z",
     "shell.execute_reply": "2024-01-05T00:06:45.687112Z"
    },
    "papermill": {
     "duration": 1.18396,
     "end_time": "2024-01-05T00:06:45.689146",
     "exception": false,
     "start_time": "2024-01-05T00:06:44.505186",
     "status": "completed"
    },
    "tags": []
   },
   "outputs": [],
   "source": [
    "df_full = df_full.reset_index()"
   ]
  },
  {
   "cell_type": "code",
   "execution_count": 36,
   "id": "5b669377-e22d-4604-aa0c-b3b2b90d8334",
   "metadata": {
    "execution": {
     "iopub.execute_input": "2024-01-05T00:06:45.719911Z",
     "iopub.status.busy": "2024-01-05T00:06:45.719827Z",
     "iopub.status.idle": "2024-01-05T00:06:45.728226Z",
     "shell.execute_reply": "2024-01-05T00:06:45.727864Z"
    },
    "papermill": {
     "duration": 0.025097,
     "end_time": "2024-01-05T00:06:45.729574",
     "exception": false,
     "start_time": "2024-01-05T00:06:45.704477",
     "status": "completed"
    },
    "tags": []
   },
   "outputs": [
    {
     "data": {
      "text/html": [
       "<div>\n",
       "<style scoped>\n",
       "    .dataframe tbody tr th:only-of-type {\n",
       "        vertical-align: middle;\n",
       "    }\n",
       "\n",
       "    .dataframe tbody tr th {\n",
       "        vertical-align: top;\n",
       "    }\n",
       "\n",
       "    .dataframe thead th {\n",
       "        text-align: right;\n",
       "    }\n",
       "</style>\n",
       "<table border=\"1\" class=\"dataframe\">\n",
       "  <thead>\n",
       "    <tr style=\"text-align: right;\">\n",
       "      <th></th>\n",
       "      <th>gene0_id</th>\n",
       "      <th>gene1_id</th>\n",
       "      <th>gene0_symbol</th>\n",
       "      <th>gene1_symbol</th>\n",
       "      <th>Pearson (high)</th>\n",
       "      <th>Pearson (low)</th>\n",
       "      <th>Spearman (high)</th>\n",
       "      <th>Spearman (low)</th>\n",
       "      <th>Clustermatch (high)</th>\n",
       "      <th>Clustermatch (low)</th>\n",
       "      <th>ccc_coef</th>\n",
       "      <th>pearson_coef</th>\n",
       "      <th>spearman_coef</th>\n",
       "      <th>ccc_fdr</th>\n",
       "      <th>pearson_fdr</th>\n",
       "      <th>spearman_fdr</th>\n",
       "    </tr>\n",
       "  </thead>\n",
       "  <tbody>\n",
       "    <tr>\n",
       "      <th>0</th>\n",
       "      <td>ENSG00000000419.12</td>\n",
       "      <td>ENSG00000002834.17</td>\n",
       "      <td>DPM1</td>\n",
       "      <td>LASP1</td>\n",
       "      <td>True</td>\n",
       "      <td>False</td>\n",
       "      <td>True</td>\n",
       "      <td>False</td>\n",
       "      <td>True</td>\n",
       "      <td>False</td>\n",
       "      <td>0.418721</td>\n",
       "      <td>0.681847</td>\n",
       "      <td>0.786595</td>\n",
       "      <td>NaN</td>\n",
       "      <td>NaN</td>\n",
       "      <td>NaN</td>\n",
       "    </tr>\n",
       "    <tr>\n",
       "      <th>1</th>\n",
       "      <td>ENSG00000000419.12</td>\n",
       "      <td>ENSG00000002919.14</td>\n",
       "      <td>DPM1</td>\n",
       "      <td>SNX11</td>\n",
       "      <td>True</td>\n",
       "      <td>False</td>\n",
       "      <td>True</td>\n",
       "      <td>False</td>\n",
       "      <td>True</td>\n",
       "      <td>False</td>\n",
       "      <td>0.405090</td>\n",
       "      <td>0.734699</td>\n",
       "      <td>0.816991</td>\n",
       "      <td>NaN</td>\n",
       "      <td>NaN</td>\n",
       "      <td>NaN</td>\n",
       "    </tr>\n",
       "    <tr>\n",
       "      <th>2</th>\n",
       "      <td>ENSG00000000419.12</td>\n",
       "      <td>ENSG00000002933.7</td>\n",
       "      <td>DPM1</td>\n",
       "      <td>TMEM176A</td>\n",
       "      <td>False</td>\n",
       "      <td>True</td>\n",
       "      <td>False</td>\n",
       "      <td>True</td>\n",
       "      <td>False</td>\n",
       "      <td>True</td>\n",
       "      <td>0.007466</td>\n",
       "      <td>0.013825</td>\n",
       "      <td>0.004128</td>\n",
       "      <td>NaN</td>\n",
       "      <td>NaN</td>\n",
       "      <td>NaN</td>\n",
       "    </tr>\n",
       "    <tr>\n",
       "      <th>3</th>\n",
       "      <td>ENSG00000000419.12</td>\n",
       "      <td>ENSG00000003402.19</td>\n",
       "      <td>DPM1</td>\n",
       "      <td>CFLAR</td>\n",
       "      <td>True</td>\n",
       "      <td>False</td>\n",
       "      <td>True</td>\n",
       "      <td>False</td>\n",
       "      <td>True</td>\n",
       "      <td>False</td>\n",
       "      <td>0.391683</td>\n",
       "      <td>0.727347</td>\n",
       "      <td>0.803653</td>\n",
       "      <td>NaN</td>\n",
       "      <td>NaN</td>\n",
       "      <td>NaN</td>\n",
       "    </tr>\n",
       "    <tr>\n",
       "      <th>4</th>\n",
       "      <td>ENSG00000000419.12</td>\n",
       "      <td>ENSG00000004478.7</td>\n",
       "      <td>DPM1</td>\n",
       "      <td>FKBP4</td>\n",
       "      <td>False</td>\n",
       "      <td>True</td>\n",
       "      <td>False</td>\n",
       "      <td>False</td>\n",
       "      <td>False</td>\n",
       "      <td>False</td>\n",
       "      <td>0.099013</td>\n",
       "      <td>0.094147</td>\n",
       "      <td>0.231269</td>\n",
       "      <td>NaN</td>\n",
       "      <td>NaN</td>\n",
       "      <td>NaN</td>\n",
       "    </tr>\n",
       "  </tbody>\n",
       "</table>\n",
       "</div>"
      ],
      "text/plain": [
       "             gene0_id            gene1_id gene0_symbol gene1_symbol  \\\n",
       "0  ENSG00000000419.12  ENSG00000002834.17         DPM1        LASP1   \n",
       "1  ENSG00000000419.12  ENSG00000002919.14         DPM1        SNX11   \n",
       "2  ENSG00000000419.12   ENSG00000002933.7         DPM1     TMEM176A   \n",
       "3  ENSG00000000419.12  ENSG00000003402.19         DPM1        CFLAR   \n",
       "4  ENSG00000000419.12   ENSG00000004478.7         DPM1        FKBP4   \n",
       "\n",
       "   Pearson (high)  Pearson (low)  Spearman (high)  Spearman (low)  \\\n",
       "0            True          False             True           False   \n",
       "1            True          False             True           False   \n",
       "2           False           True            False            True   \n",
       "3            True          False             True           False   \n",
       "4           False           True            False           False   \n",
       "\n",
       "   Clustermatch (high)  Clustermatch (low)  ccc_coef  pearson_coef  \\\n",
       "0                 True               False  0.418721      0.681847   \n",
       "1                 True               False  0.405090      0.734699   \n",
       "2                False                True  0.007466      0.013825   \n",
       "3                 True               False  0.391683      0.727347   \n",
       "4                False               False  0.099013      0.094147   \n",
       "\n",
       "   spearman_coef  ccc_fdr  pearson_fdr  spearman_fdr  \n",
       "0       0.786595      NaN          NaN           NaN  \n",
       "1       0.816991      NaN          NaN           NaN  \n",
       "2       0.004128      NaN          NaN           NaN  \n",
       "3       0.803653      NaN          NaN           NaN  \n",
       "4       0.231269      NaN          NaN           NaN  "
      ]
     },
     "execution_count": 36,
     "metadata": {},
     "output_type": "execute_result"
    }
   ],
   "source": [
    "df_full.head()"
   ]
  },
  {
   "cell_type": "code",
   "execution_count": 37,
   "id": "af54416e-9471-477b-9aa4-3873a18354f2",
   "metadata": {
    "execution": {
     "iopub.execute_input": "2024-01-05T00:06:45.760938Z",
     "iopub.status.busy": "2024-01-05T00:06:45.760856Z",
     "iopub.status.idle": "2024-01-05T00:06:45.764293Z",
     "shell.execute_reply": "2024-01-05T00:06:45.763941Z"
    },
    "papermill": {
     "duration": 0.020558,
     "end_time": "2024-01-05T00:06:45.765477",
     "exception": false,
     "start_time": "2024-01-05T00:06:45.744919",
     "status": "completed"
    },
    "tags": []
   },
   "outputs": [
    {
     "data": {
      "text/plain": [
       "dtype('int64')"
      ]
     },
     "metadata": {},
     "output_type": "display_data"
    },
    {
     "data": {
      "text/plain": [
       "RangeIndex(start=0, stop=12497500, step=1)"
      ]
     },
     "metadata": {},
     "output_type": "display_data"
    }
   ],
   "source": [
    "display(df_full.index.dtype)\n",
    "display(df_full.index)"
   ]
  },
  {
   "cell_type": "code",
   "execution_count": 38,
   "id": "1dfe4a93-fe34-4ddf-af7b-ca5b11454cb8",
   "metadata": {
    "execution": {
     "iopub.execute_input": "2024-01-05T00:06:45.793365Z",
     "iopub.status.busy": "2024-01-05T00:06:45.793268Z",
     "iopub.status.idle": "2024-01-05T00:06:45.799239Z",
     "shell.execute_reply": "2024-01-05T00:06:45.798767Z"
    },
    "papermill": {
     "duration": 0.018762,
     "end_time": "2024-01-05T00:06:45.799977",
     "exception": false,
     "start_time": "2024-01-05T00:06:45.781215",
     "status": "completed"
    },
    "tags": []
   },
   "outputs": [
    {
     "data": {
      "text/plain": [
       "Index                       128\n",
       "gene0_id               99980000\n",
       "gene1_id               99980000\n",
       "gene0_symbol           99980000\n",
       "gene1_symbol           99980000\n",
       "Pearson (high)         12497500\n",
       "Pearson (low)          12497500\n",
       "Spearman (high)        12497500\n",
       "Spearman (low)         12497500\n",
       "Clustermatch (high)    12497500\n",
       "Clustermatch (low)     12497500\n",
       "ccc_coef               99980000\n",
       "pearson_coef           99980000\n",
       "spearman_coef          99980000\n",
       "ccc_fdr                99980000\n",
       "pearson_fdr            99980000\n",
       "spearman_fdr           99980000\n",
       "dtype: int64"
      ]
     },
     "metadata": {},
     "output_type": "display_data"
    },
    {
     "data": {
      "text/plain": [
       "'1,074,785,128'"
      ]
     },
     "metadata": {},
     "output_type": "display_data"
    }
   ],
   "source": [
    "display(df_full.memory_usage())\n",
    "display(f\"{df_full.memory_usage().sum():,}\")"
   ]
  },
  {
   "cell_type": "markdown",
   "id": "b6a8fa84-69d7-42ff-ad8b-1405bdfa4299",
   "metadata": {
    "papermill": {
     "duration": 0.008242,
     "end_time": "2024-01-05T00:06:45.816502",
     "exception": false,
     "start_time": "2024-01-05T00:06:45.808260",
     "status": "completed"
    },
    "tags": []
   },
   "source": [
    "### Downcast dtypes"
   ]
  },
  {
   "cell_type": "code",
   "execution_count": 39,
   "id": "204f3d83-440b-4656-82f7-31dfc1671472",
   "metadata": {
    "execution": {
     "iopub.execute_input": "2024-01-05T00:06:45.833887Z",
     "iopub.status.busy": "2024-01-05T00:06:45.833737Z",
     "iopub.status.idle": "2024-01-05T00:06:45.838415Z",
     "shell.execute_reply": "2024-01-05T00:06:45.837956Z"
    },
    "papermill": {
     "duration": 0.014353,
     "end_time": "2024-01-05T00:06:45.839220",
     "exception": false,
     "start_time": "2024-01-05T00:06:45.824867",
     "status": "completed"
    },
    "tags": []
   },
   "outputs": [
    {
     "data": {
      "text/plain": [
       "gene0_id                object\n",
       "gene1_id                object\n",
       "gene0_symbol            object\n",
       "gene1_symbol            object\n",
       "Pearson (high)            bool\n",
       "Pearson (low)             bool\n",
       "Spearman (high)           bool\n",
       "Spearman (low)            bool\n",
       "Clustermatch (high)       bool\n",
       "Clustermatch (low)        bool\n",
       "ccc_coef               float64\n",
       "pearson_coef           float64\n",
       "spearman_coef          float64\n",
       "ccc_fdr                float64\n",
       "pearson_fdr            float64\n",
       "spearman_fdr           float64\n",
       "dtype: object"
      ]
     },
     "execution_count": 39,
     "metadata": {},
     "output_type": "execute_result"
    }
   ],
   "source": [
    "df_full.dtypes"
   ]
  },
  {
   "cell_type": "code",
   "execution_count": 40,
   "id": "bd1083cf-4676-420a-9c61-24b32c409d8d",
   "metadata": {
    "execution": {
     "iopub.execute_input": "2024-01-05T00:06:45.856886Z",
     "iopub.status.busy": "2024-01-05T00:06:45.856514Z",
     "iopub.status.idle": "2024-01-05T00:06:48.738146Z",
     "shell.execute_reply": "2024-01-05T00:06:48.737697Z"
    },
    "papermill": {
     "duration": 2.892165,
     "end_time": "2024-01-05T00:06:48.739770",
     "exception": false,
     "start_time": "2024-01-05T00:06:45.847605",
     "status": "completed"
    },
    "tags": []
   },
   "outputs": [],
   "source": [
    "# categorical values\n",
    "for _col in (\"gene0_id\", \"gene1_id\", \"gene0_symbol\", \"gene1_symbol\"):\n",
    "    df_full[_col] = df_full[_col].astype(\"category\")"
   ]
  },
  {
   "cell_type": "code",
   "execution_count": 41,
   "id": "8bf49a74-a991-47ee-80e2-fa9b31fc64b4",
   "metadata": {
    "execution": {
     "iopub.execute_input": "2024-01-05T00:06:48.773413Z",
     "iopub.status.busy": "2024-01-05T00:06:48.773305Z",
     "iopub.status.idle": "2024-01-05T00:06:48.777116Z",
     "shell.execute_reply": "2024-01-05T00:06:48.776661Z"
    },
    "papermill": {
     "duration": 0.021964,
     "end_time": "2024-01-05T00:06:48.778422",
     "exception": false,
     "start_time": "2024-01-05T00:06:48.756458",
     "status": "completed"
    },
    "tags": []
   },
   "outputs": [
    {
     "data": {
      "text/plain": [
       "gene0_id               category\n",
       "gene1_id               category\n",
       "gene0_symbol           category\n",
       "gene1_symbol           category\n",
       "Pearson (high)             bool\n",
       "Pearson (low)              bool\n",
       "Spearman (high)            bool\n",
       "Spearman (low)             bool\n",
       "Clustermatch (high)        bool\n",
       "Clustermatch (low)         bool\n",
       "ccc_coef                float64\n",
       "pearson_coef            float64\n",
       "spearman_coef           float64\n",
       "ccc_fdr                 float64\n",
       "pearson_fdr             float64\n",
       "spearman_fdr            float64\n",
       "dtype: object"
      ]
     },
     "execution_count": 41,
     "metadata": {},
     "output_type": "execute_result"
    }
   ],
   "source": [
    "df_full.dtypes"
   ]
  },
  {
   "cell_type": "code",
   "execution_count": 42,
   "id": "c01b8406-7312-4217-bfdd-1c9984903006",
   "metadata": {
    "execution": {
     "iopub.execute_input": "2024-01-05T00:06:48.811901Z",
     "iopub.status.busy": "2024-01-05T00:06:48.811605Z",
     "iopub.status.idle": "2024-01-05T00:06:48.817836Z",
     "shell.execute_reply": "2024-01-05T00:06:48.817415Z"
    },
    "papermill": {
     "duration": 0.02425,
     "end_time": "2024-01-05T00:06:48.819129",
     "exception": false,
     "start_time": "2024-01-05T00:06:48.794879",
     "status": "completed"
    },
    "tags": []
   },
   "outputs": [
    {
     "data": {
      "text/plain": [
       "Index                       128\n",
       "gene0_id               25167128\n",
       "gene1_id               25167128\n",
       "gene0_symbol           25167112\n",
       "gene1_symbol           25167112\n",
       "Pearson (high)         12497500\n",
       "Pearson (low)          12497500\n",
       "Spearman (high)        12497500\n",
       "Spearman (low)         12497500\n",
       "Clustermatch (high)    12497500\n",
       "Clustermatch (low)     12497500\n",
       "ccc_coef               99980000\n",
       "pearson_coef           99980000\n",
       "spearman_coef          99980000\n",
       "ccc_fdr                99980000\n",
       "pearson_fdr            99980000\n",
       "spearman_fdr           99980000\n",
       "dtype: int64"
      ]
     },
     "metadata": {},
     "output_type": "display_data"
    },
    {
     "data": {
      "text/plain": [
       "'775,533,608'"
      ]
     },
     "metadata": {},
     "output_type": "display_data"
    }
   ],
   "source": [
    "display(df_full.memory_usage())\n",
    "display(f\"{df_full.memory_usage().sum():,}\")"
   ]
  },
  {
   "cell_type": "code",
   "execution_count": 43,
   "id": "b496b16b-9452-4bdf-a110-cad51339e11b",
   "metadata": {
    "execution": {
     "iopub.execute_input": "2024-01-05T00:06:48.847008Z",
     "iopub.status.busy": "2024-01-05T00:06:48.846890Z",
     "iopub.status.idle": "2024-01-05T00:06:49.064257Z",
     "shell.execute_reply": "2024-01-05T00:06:49.063809Z"
    },
    "papermill": {
     "duration": 0.229785,
     "end_time": "2024-01-05T00:06:49.065519",
     "exception": false,
     "start_time": "2024-01-05T00:06:48.835734",
     "status": "completed"
    },
    "tags": []
   },
   "outputs": [],
   "source": [
    "# float\n",
    "for _col in (\"ccc_coef\", \"pearson_coef\", \"spearman_coef\"):\n",
    "    df_full[_col] = pd.to_numeric(df_full[_col], downcast=\"float\")"
   ]
  },
  {
   "cell_type": "code",
   "execution_count": 44,
   "id": "ebfe7ae2-1851-48ad-83ca-37a2845ef206",
   "metadata": {
    "execution": {
     "iopub.execute_input": "2024-01-05T00:06:49.084816Z",
     "iopub.status.busy": "2024-01-05T00:06:49.084686Z",
     "iopub.status.idle": "2024-01-05T00:06:49.088421Z",
     "shell.execute_reply": "2024-01-05T00:06:49.088045Z"
    },
    "papermill": {
     "duration": 0.013595,
     "end_time": "2024-01-05T00:06:49.089214",
     "exception": false,
     "start_time": "2024-01-05T00:06:49.075619",
     "status": "completed"
    },
    "tags": []
   },
   "outputs": [
    {
     "data": {
      "text/plain": [
       "gene0_id               category\n",
       "gene1_id               category\n",
       "gene0_symbol           category\n",
       "gene1_symbol           category\n",
       "Pearson (high)             bool\n",
       "Pearson (low)              bool\n",
       "Spearman (high)            bool\n",
       "Spearman (low)             bool\n",
       "Clustermatch (high)        bool\n",
       "Clustermatch (low)         bool\n",
       "ccc_coef                float32\n",
       "pearson_coef            float32\n",
       "spearman_coef           float32\n",
       "ccc_fdr                 float64\n",
       "pearson_fdr             float64\n",
       "spearman_fdr            float64\n",
       "dtype: object"
      ]
     },
     "execution_count": 44,
     "metadata": {},
     "output_type": "execute_result"
    }
   ],
   "source": [
    "df_full.dtypes"
   ]
  },
  {
   "cell_type": "code",
   "execution_count": 45,
   "id": "ffee866b-061d-4ab2-9cdd-0e8254747b54",
   "metadata": {
    "execution": {
     "iopub.execute_input": "2024-01-05T00:06:49.107000Z",
     "iopub.status.busy": "2024-01-05T00:06:49.106918Z",
     "iopub.status.idle": "2024-01-05T00:06:49.111810Z",
     "shell.execute_reply": "2024-01-05T00:06:49.111446Z"
    },
    "papermill": {
     "duration": 0.01466,
     "end_time": "2024-01-05T00:06:49.112574",
     "exception": false,
     "start_time": "2024-01-05T00:06:49.097914",
     "status": "completed"
    },
    "tags": []
   },
   "outputs": [
    {
     "data": {
      "text/plain": [
       "Index                       128\n",
       "gene0_id               25167128\n",
       "gene1_id               25167128\n",
       "gene0_symbol           25167112\n",
       "gene1_symbol           25167112\n",
       "Pearson (high)         12497500\n",
       "Pearson (low)          12497500\n",
       "Spearman (high)        12497500\n",
       "Spearman (low)         12497500\n",
       "Clustermatch (high)    12497500\n",
       "Clustermatch (low)     12497500\n",
       "ccc_coef               49990000\n",
       "pearson_coef           49990000\n",
       "spearman_coef          49990000\n",
       "ccc_fdr                99980000\n",
       "pearson_fdr            99980000\n",
       "spearman_fdr           99980000\n",
       "dtype: int64"
      ]
     },
     "metadata": {},
     "output_type": "display_data"
    },
    {
     "data": {
      "text/plain": [
       "'625,563,608'"
      ]
     },
     "metadata": {},
     "output_type": "display_data"
    }
   ],
   "source": [
    "display(df_full.memory_usage())\n",
    "display(f\"{df_full.memory_usage().sum():,}\")"
   ]
  },
  {
   "cell_type": "markdown",
   "id": "b5f7f3f3-ca0b-4e37-a15b-0076a8d1f701",
   "metadata": {
    "papermill": {
     "duration": 0.008761,
     "end_time": "2024-01-05T00:06:49.130179",
     "exception": false,
     "start_time": "2024-01-05T00:06:49.121418",
     "status": "completed"
    },
    "tags": []
   },
   "source": [
    "### Check results"
   ]
  },
  {
   "cell_type": "code",
   "execution_count": 46,
   "id": "eba6f164-5f88-47ad-b11b-80fc010a7d7d",
   "metadata": {
    "execution": {
     "iopub.execute_input": "2024-01-05T00:06:49.148311Z",
     "iopub.status.busy": "2024-01-05T00:06:49.148213Z",
     "iopub.status.idle": "2024-01-05T00:06:49.151183Z",
     "shell.execute_reply": "2024-01-05T00:06:49.150772Z"
    },
    "papermill": {
     "duration": 0.012935,
     "end_time": "2024-01-05T00:06:49.152006",
     "exception": false,
     "start_time": "2024-01-05T00:06:49.139071",
     "status": "completed"
    },
    "tags": []
   },
   "outputs": [
    {
     "data": {
      "text/plain": [
       "(12497500, 16)"
      ]
     },
     "execution_count": 46,
     "metadata": {},
     "output_type": "execute_result"
    }
   ],
   "source": [
    "df_full.shape"
   ]
  },
  {
   "cell_type": "code",
   "execution_count": 47,
   "id": "03b8f744-d6f3-41fe-874d-c4fa823a9c99",
   "metadata": {
    "execution": {
     "iopub.execute_input": "2024-01-05T00:06:49.170567Z",
     "iopub.status.busy": "2024-01-05T00:06:49.170198Z",
     "iopub.status.idle": "2024-01-05T00:06:49.184663Z",
     "shell.execute_reply": "2024-01-05T00:06:49.184197Z"
    },
    "papermill": {
     "duration": 0.024677,
     "end_time": "2024-01-05T00:06:49.185544",
     "exception": false,
     "start_time": "2024-01-05T00:06:49.160867",
     "status": "completed"
    },
    "tags": []
   },
   "outputs": [
    {
     "data": {
      "text/html": [
       "<div>\n",
       "<style scoped>\n",
       "    .dataframe tbody tr th:only-of-type {\n",
       "        vertical-align: middle;\n",
       "    }\n",
       "\n",
       "    .dataframe tbody tr th {\n",
       "        vertical-align: top;\n",
       "    }\n",
       "\n",
       "    .dataframe thead th {\n",
       "        text-align: right;\n",
       "    }\n",
       "</style>\n",
       "<table border=\"1\" class=\"dataframe\">\n",
       "  <thead>\n",
       "    <tr style=\"text-align: right;\">\n",
       "      <th></th>\n",
       "      <th>gene0_id</th>\n",
       "      <th>gene1_id</th>\n",
       "      <th>gene0_symbol</th>\n",
       "      <th>gene1_symbol</th>\n",
       "      <th>Pearson (high)</th>\n",
       "      <th>Pearson (low)</th>\n",
       "      <th>Spearman (high)</th>\n",
       "      <th>Spearman (low)</th>\n",
       "      <th>Clustermatch (high)</th>\n",
       "      <th>Clustermatch (low)</th>\n",
       "      <th>ccc_coef</th>\n",
       "      <th>pearson_coef</th>\n",
       "      <th>spearman_coef</th>\n",
       "      <th>ccc_fdr</th>\n",
       "      <th>pearson_fdr</th>\n",
       "      <th>spearman_fdr</th>\n",
       "    </tr>\n",
       "  </thead>\n",
       "  <tbody>\n",
       "    <tr>\n",
       "      <th>0</th>\n",
       "      <td>ENSG00000000419.12</td>\n",
       "      <td>ENSG00000002834.17</td>\n",
       "      <td>DPM1</td>\n",
       "      <td>LASP1</td>\n",
       "      <td>True</td>\n",
       "      <td>False</td>\n",
       "      <td>True</td>\n",
       "      <td>False</td>\n",
       "      <td>True</td>\n",
       "      <td>False</td>\n",
       "      <td>0.418721</td>\n",
       "      <td>0.681847</td>\n",
       "      <td>0.786595</td>\n",
       "      <td>NaN</td>\n",
       "      <td>NaN</td>\n",
       "      <td>NaN</td>\n",
       "    </tr>\n",
       "    <tr>\n",
       "      <th>1</th>\n",
       "      <td>ENSG00000000419.12</td>\n",
       "      <td>ENSG00000002919.14</td>\n",
       "      <td>DPM1</td>\n",
       "      <td>SNX11</td>\n",
       "      <td>True</td>\n",
       "      <td>False</td>\n",
       "      <td>True</td>\n",
       "      <td>False</td>\n",
       "      <td>True</td>\n",
       "      <td>False</td>\n",
       "      <td>0.405090</td>\n",
       "      <td>0.734699</td>\n",
       "      <td>0.816991</td>\n",
       "      <td>NaN</td>\n",
       "      <td>NaN</td>\n",
       "      <td>NaN</td>\n",
       "    </tr>\n",
       "    <tr>\n",
       "      <th>2</th>\n",
       "      <td>ENSG00000000419.12</td>\n",
       "      <td>ENSG00000002933.7</td>\n",
       "      <td>DPM1</td>\n",
       "      <td>TMEM176A</td>\n",
       "      <td>False</td>\n",
       "      <td>True</td>\n",
       "      <td>False</td>\n",
       "      <td>True</td>\n",
       "      <td>False</td>\n",
       "      <td>True</td>\n",
       "      <td>0.007466</td>\n",
       "      <td>0.013825</td>\n",
       "      <td>0.004128</td>\n",
       "      <td>NaN</td>\n",
       "      <td>NaN</td>\n",
       "      <td>NaN</td>\n",
       "    </tr>\n",
       "    <tr>\n",
       "      <th>3</th>\n",
       "      <td>ENSG00000000419.12</td>\n",
       "      <td>ENSG00000003402.19</td>\n",
       "      <td>DPM1</td>\n",
       "      <td>CFLAR</td>\n",
       "      <td>True</td>\n",
       "      <td>False</td>\n",
       "      <td>True</td>\n",
       "      <td>False</td>\n",
       "      <td>True</td>\n",
       "      <td>False</td>\n",
       "      <td>0.391683</td>\n",
       "      <td>0.727347</td>\n",
       "      <td>0.803653</td>\n",
       "      <td>NaN</td>\n",
       "      <td>NaN</td>\n",
       "      <td>NaN</td>\n",
       "    </tr>\n",
       "    <tr>\n",
       "      <th>4</th>\n",
       "      <td>ENSG00000000419.12</td>\n",
       "      <td>ENSG00000004478.7</td>\n",
       "      <td>DPM1</td>\n",
       "      <td>FKBP4</td>\n",
       "      <td>False</td>\n",
       "      <td>True</td>\n",
       "      <td>False</td>\n",
       "      <td>False</td>\n",
       "      <td>False</td>\n",
       "      <td>False</td>\n",
       "      <td>0.099013</td>\n",
       "      <td>0.094147</td>\n",
       "      <td>0.231269</td>\n",
       "      <td>NaN</td>\n",
       "      <td>NaN</td>\n",
       "      <td>NaN</td>\n",
       "    </tr>\n",
       "  </tbody>\n",
       "</table>\n",
       "</div>"
      ],
      "text/plain": [
       "             gene0_id            gene1_id gene0_symbol gene1_symbol  \\\n",
       "0  ENSG00000000419.12  ENSG00000002834.17         DPM1        LASP1   \n",
       "1  ENSG00000000419.12  ENSG00000002919.14         DPM1        SNX11   \n",
       "2  ENSG00000000419.12   ENSG00000002933.7         DPM1     TMEM176A   \n",
       "3  ENSG00000000419.12  ENSG00000003402.19         DPM1        CFLAR   \n",
       "4  ENSG00000000419.12   ENSG00000004478.7         DPM1        FKBP4   \n",
       "\n",
       "   Pearson (high)  Pearson (low)  Spearman (high)  Spearman (low)  \\\n",
       "0            True          False             True           False   \n",
       "1            True          False             True           False   \n",
       "2           False           True            False            True   \n",
       "3            True          False             True           False   \n",
       "4           False           True            False           False   \n",
       "\n",
       "   Clustermatch (high)  Clustermatch (low)  ccc_coef  pearson_coef  \\\n",
       "0                 True               False  0.418721      0.681847   \n",
       "1                 True               False  0.405090      0.734699   \n",
       "2                False                True  0.007466      0.013825   \n",
       "3                 True               False  0.391683      0.727347   \n",
       "4                False               False  0.099013      0.094147   \n",
       "\n",
       "   spearman_coef  ccc_fdr  pearson_fdr  spearman_fdr  \n",
       "0       0.786595      NaN          NaN           NaN  \n",
       "1       0.816991      NaN          NaN           NaN  \n",
       "2       0.004128      NaN          NaN           NaN  \n",
       "3       0.803653      NaN          NaN           NaN  \n",
       "4       0.231269      NaN          NaN           NaN  "
      ]
     },
     "execution_count": 47,
     "metadata": {},
     "output_type": "execute_result"
    }
   ],
   "source": [
    "df_full.head()"
   ]
  },
  {
   "cell_type": "code",
   "execution_count": 48,
   "id": "7055a27d-ad11-44d4-91e7-085da3636251",
   "metadata": {
    "execution": {
     "iopub.execute_input": "2024-01-05T00:06:49.204418Z",
     "iopub.status.busy": "2024-01-05T00:06:49.203940Z",
     "iopub.status.idle": "2024-01-05T00:15:50.343939Z",
     "shell.execute_reply": "2024-01-05T00:15:50.343412Z"
    },
    "papermill": {
     "duration": 541.151234,
     "end_time": "2024-01-05T00:15:50.345720",
     "exception": false,
     "start_time": "2024-01-05T00:06:49.194486",
     "status": "completed"
    },
    "tags": []
   },
   "outputs": [],
   "source": [
    "# testing\n",
    "pd.testing.assert_frame_equal(\n",
    "    df_full_orig.reset_index(),\n",
    "    df_full,\n",
    "    check_categorical=False,\n",
    "    check_dtype=False,\n",
    ")"
   ]
  },
  {
   "cell_type": "code",
   "execution_count": 49,
   "id": "c1fe7972-8c68-4006-9ce9-e8649de57e65",
   "metadata": {
    "execution": {
     "iopub.execute_input": "2024-01-05T00:15:50.381678Z",
     "iopub.status.busy": "2024-01-05T00:15:50.381591Z",
     "iopub.status.idle": "2024-01-05T00:15:50.383934Z",
     "shell.execute_reply": "2024-01-05T00:15:50.383580Z"
    },
    "papermill": {
     "duration": 0.021482,
     "end_time": "2024-01-05T00:15:50.385164",
     "exception": false,
     "start_time": "2024-01-05T00:15:50.363682",
     "status": "completed"
    },
    "tags": []
   },
   "outputs": [],
   "source": [
    "del df_full_orig"
   ]
  },
  {
   "cell_type": "markdown",
   "id": "3893f4f3-f0c5-464a-ab43-a5d0de0f2ea8",
   "metadata": {
    "papermill": {
     "duration": 0.018344,
     "end_time": "2024-01-05T00:15:50.421298",
     "exception": false,
     "start_time": "2024-01-05T00:15:50.402954",
     "status": "completed"
    },
    "tags": []
   },
   "source": [
    "# Save"
   ]
  },
  {
   "cell_type": "code",
   "execution_count": 50,
   "id": "dc6d6873-cc91-4fb9-b4d6-9b9607f0100e",
   "metadata": {
    "execution": {
     "iopub.execute_input": "2024-01-05T00:15:50.446254Z",
     "iopub.status.busy": "2024-01-05T00:15:50.446159Z",
     "iopub.status.idle": "2024-01-05T00:15:50.448337Z",
     "shell.execute_reply": "2024-01-05T00:15:50.447985Z"
    },
    "papermill": {
     "duration": 0.012909,
     "end_time": "2024-01-05T00:15:50.449127",
     "exception": false,
     "start_time": "2024-01-05T00:15:50.436218",
     "status": "completed"
    },
    "tags": []
   },
   "outputs": [],
   "source": [
    "data = df_full"
   ]
  },
  {
   "cell_type": "code",
   "execution_count": 51,
   "id": "9773177e-a637-41cb-b66b-42a4ffd15a33",
   "metadata": {
    "execution": {
     "iopub.execute_input": "2024-01-05T00:15:50.467849Z",
     "iopub.status.busy": "2024-01-05T00:15:50.467756Z",
     "iopub.status.idle": "2024-01-05T00:15:50.470383Z",
     "shell.execute_reply": "2024-01-05T00:15:50.469921Z"
    },
    "papermill": {
     "duration": 0.012949,
     "end_time": "2024-01-05T00:15:50.471224",
     "exception": false,
     "start_time": "2024-01-05T00:15:50.458275",
     "status": "completed"
    },
    "tags": []
   },
   "outputs": [],
   "source": [
    "# reset index to avoid problems with MultiIndex in Pandas\n",
    "if isinstance(data.index, pd.MultiIndex):\n",
    "    display(\"MultiIndex\")\n",
    "    data = data.reset_index()"
   ]
  },
  {
   "cell_type": "markdown",
   "id": "e5d04700-54cb-40c5-be15-39bc76eafd2f",
   "metadata": {
    "papermill": {
     "duration": 0.009604,
     "end_time": "2024-01-05T00:15:50.490153",
     "exception": false,
     "start_time": "2024-01-05T00:15:50.480549",
     "status": "completed"
    },
    "tags": []
   },
   "source": [
    "## Pickle"
   ]
  },
  {
   "cell_type": "code",
   "execution_count": 52,
   "id": "cda6751b-a78d-4164-b678-cd329a895011",
   "metadata": {
    "execution": {
     "iopub.execute_input": "2024-01-05T00:15:50.510319Z",
     "iopub.status.busy": "2024-01-05T00:15:50.509948Z",
     "iopub.status.idle": "2024-01-05T00:18:27.534493Z",
     "shell.execute_reply": "2024-01-05T00:18:27.534043Z"
    },
    "papermill": {
     "duration": 157.036571,
     "end_time": "2024-01-05T00:18:27.536182",
     "exception": false,
     "start_time": "2024-01-05T00:15:50.499611",
     "status": "completed"
    },
    "tags": []
   },
   "outputs": [],
   "source": [
    "data.to_pickle(OUTPUT_DIR / f\"{OUTPUT_FILENAME}.pkl.gz\")"
   ]
  },
  {
   "cell_type": "markdown",
   "id": "025e09a9-bd4f-4bc5-a69d-248d7ea8aacb",
   "metadata": {
    "papermill": {
     "duration": 0.017287,
     "end_time": "2024-01-05T00:18:27.571718",
     "exception": false,
     "start_time": "2024-01-05T00:18:27.554431",
     "status": "completed"
    },
    "tags": []
   },
   "source": [
    "## RDS"
   ]
  },
  {
   "cell_type": "code",
   "execution_count": 53,
   "id": "c850c34d-ccf3-49ef-b737-0cf040ca77fb",
   "metadata": {
    "execution": {
     "iopub.execute_input": "2024-01-05T00:18:27.607484Z",
     "iopub.status.busy": "2024-01-05T00:18:27.607346Z",
     "iopub.status.idle": "2024-01-05T00:18:27.610691Z",
     "shell.execute_reply": "2024-01-05T00:18:27.610419Z"
    },
    "papermill": {
     "duration": 0.022824,
     "end_time": "2024-01-05T00:18:27.612021",
     "exception": false,
     "start_time": "2024-01-05T00:18:27.589197",
     "status": "completed"
    },
    "tags": []
   },
   "outputs": [
    {
     "data": {
      "text/plain": [
       "PosixPath('/opt/data/supplementary_material/Supplementary_File_01-Gene_pair_intersections.rds')"
      ]
     },
     "metadata": {},
     "output_type": "display_data"
    }
   ],
   "source": [
    "output_file = OUTPUT_DIR / f\"{OUTPUT_FILENAME}.rds\"\n",
    "display(output_file)"
   ]
  },
  {
   "cell_type": "code",
   "execution_count": 54,
   "id": "33c565ae-2710-4816-91d1-4376ee36a8a3",
   "metadata": {
    "execution": {
     "iopub.execute_input": "2024-01-05T00:18:27.639709Z",
     "iopub.status.busy": "2024-01-05T00:18:27.639291Z",
     "iopub.status.idle": "2024-01-05T00:25:16.195218Z",
     "shell.execute_reply": "2024-01-05T00:25:16.194771Z"
    },
    "papermill": {
     "duration": 408.567733,
     "end_time": "2024-01-05T00:25:16.196972",
     "exception": false,
     "start_time": "2024-01-05T00:18:27.629239",
     "status": "completed"
    },
    "tags": []
   },
   "outputs": [],
   "source": [
    "with localconverter(ro.default_converter + pandas2ri.converter):\n",
    "    data_r = ro.conversion.py2rpy(data)"
   ]
  },
  {
   "cell_type": "code",
   "execution_count": 55,
   "id": "91cfc710-343a-410d-9782-91eb5ca4623e",
   "metadata": {
    "execution": {
     "iopub.execute_input": "2024-01-05T00:25:16.233568Z",
     "iopub.status.busy": "2024-01-05T00:25:16.233481Z",
     "iopub.status.idle": "2024-01-05T00:25:16.240919Z",
     "shell.execute_reply": "2024-01-05T00:25:16.240552Z"
    },
    "papermill": {
     "duration": 0.026588,
     "end_time": "2024-01-05T00:25:16.242112",
     "exception": false,
     "start_time": "2024-01-05T00:25:16.215524",
     "status": "completed"
    },
    "tags": []
   },
   "outputs": [
    {
     "data": {
      "text/html": [
       "\n",
       "        <span>R/rpy2 DataFrame (12497500 x 16)</span>\n",
       "        <table>\n",
       "          <thead>\n",
       "            <tr>\n",
       "              \n",
       "              <th>gene0_id</th>\n",
       "              \n",
       "              <th>gene1_id</th>\n",
       "              \n",
       "              <th>gene0_symbol</th>\n",
       "              \n",
       "              <th>...</th>\n",
       "              \n",
       "              <th>ccc_fdr</th>\n",
       "              \n",
       "              <th>pearson_fdr</th>\n",
       "              \n",
       "              <th>spearman_fdr</th>\n",
       "              \n",
       "            </tr>\n",
       "          </thead>\n",
       "          <tbody>\n",
       "          \n",
       "          <tr>\n",
       "            \n",
       "            <td>\n",
       "              ENSG0...\n",
       "            </td>\n",
       "            \n",
       "            <td>\n",
       "              ENSG0...\n",
       "            </td>\n",
       "            \n",
       "            <td>\n",
       "              DPM1\n",
       "            </td>\n",
       "            \n",
       "            <td>\n",
       "              ...\n",
       "            </td>\n",
       "            \n",
       "            <td>\n",
       "                   nan\n",
       "            </td>\n",
       "            \n",
       "            <td>\n",
       "                   nan\n",
       "            </td>\n",
       "            \n",
       "            <td>\n",
       "                   nan\n",
       "            </td>\n",
       "            \n",
       "          </tr>\n",
       "          \n",
       "          <tr>\n",
       "            \n",
       "            <td>\n",
       "              ENSG0...\n",
       "            </td>\n",
       "            \n",
       "            <td>\n",
       "              ENSG0...\n",
       "            </td>\n",
       "            \n",
       "            <td>\n",
       "              DPM1\n",
       "            </td>\n",
       "            \n",
       "            <td>\n",
       "              \n",
       "            </td>\n",
       "            \n",
       "            <td>\n",
       "                   nan\n",
       "            </td>\n",
       "            \n",
       "            <td>\n",
       "                   nan\n",
       "            </td>\n",
       "            \n",
       "            <td>\n",
       "                   nan\n",
       "            </td>\n",
       "            \n",
       "          </tr>\n",
       "          \n",
       "          <tr>\n",
       "            \n",
       "            <td>\n",
       "              ENSG0...\n",
       "            </td>\n",
       "            \n",
       "            <td>\n",
       "              ENSG0...\n",
       "            </td>\n",
       "            \n",
       "            <td>\n",
       "              DPM1\n",
       "            </td>\n",
       "            \n",
       "            <td>\n",
       "              \n",
       "            </td>\n",
       "            \n",
       "            <td>\n",
       "                   nan\n",
       "            </td>\n",
       "            \n",
       "            <td>\n",
       "                   nan\n",
       "            </td>\n",
       "            \n",
       "            <td>\n",
       "                   nan\n",
       "            </td>\n",
       "            \n",
       "          </tr>\n",
       "          \n",
       "          <tr>\n",
       "            \n",
       "            <td>\n",
       "              ENSG0...\n",
       "            </td>\n",
       "            \n",
       "            <td>\n",
       "              ENSG0...\n",
       "            </td>\n",
       "            \n",
       "            <td>\n",
       "              DPM1\n",
       "            </td>\n",
       "            \n",
       "            <td>\n",
       "              \n",
       "            </td>\n",
       "            \n",
       "            <td>\n",
       "                   nan\n",
       "            </td>\n",
       "            \n",
       "            <td>\n",
       "                   nan\n",
       "            </td>\n",
       "            \n",
       "            <td>\n",
       "                   nan\n",
       "            </td>\n",
       "            \n",
       "          </tr>\n",
       "          \n",
       "          <tr>\n",
       "            \n",
       "            <td>\n",
       "              ...\n",
       "            </td>\n",
       "            \n",
       "            <td>\n",
       "              ...\n",
       "            </td>\n",
       "            \n",
       "            <td>\n",
       "              ...\n",
       "            </td>\n",
       "            \n",
       "            <td>\n",
       "              \n",
       "            </td>\n",
       "            \n",
       "            <td>\n",
       "              ...\n",
       "            </td>\n",
       "            \n",
       "            <td>\n",
       "              ...\n",
       "            </td>\n",
       "            \n",
       "            <td>\n",
       "              ...\n",
       "            </td>\n",
       "            \n",
       "          </tr>\n",
       "          \n",
       "          <tr>\n",
       "            \n",
       "            <td>\n",
       "              ENSG0...\n",
       "            </td>\n",
       "            \n",
       "            <td>\n",
       "              ENSG0...\n",
       "            </td>\n",
       "            \n",
       "            <td>\n",
       "              MIR6787\n",
       "            </td>\n",
       "            \n",
       "            <td>\n",
       "              \n",
       "            </td>\n",
       "            \n",
       "            <td>\n",
       "                   nan\n",
       "            </td>\n",
       "            \n",
       "            <td>\n",
       "                   nan\n",
       "            </td>\n",
       "            \n",
       "            <td>\n",
       "                   nan\n",
       "            </td>\n",
       "            \n",
       "          </tr>\n",
       "          \n",
       "          <tr>\n",
       "            \n",
       "            <td>\n",
       "              ENSG0...\n",
       "            </td>\n",
       "            \n",
       "            <td>\n",
       "              ENSG0...\n",
       "            </td>\n",
       "            \n",
       "            <td>\n",
       "              MIR6787\n",
       "            </td>\n",
       "            \n",
       "            <td>\n",
       "              \n",
       "            </td>\n",
       "            \n",
       "            <td>\n",
       "                   nan\n",
       "            </td>\n",
       "            \n",
       "            <td>\n",
       "                   nan\n",
       "            </td>\n",
       "            \n",
       "            <td>\n",
       "                   nan\n",
       "            </td>\n",
       "            \n",
       "          </tr>\n",
       "          \n",
       "          <tr>\n",
       "            \n",
       "            <td>\n",
       "              ENSG0...\n",
       "            </td>\n",
       "            \n",
       "            <td>\n",
       "              ENSG0...\n",
       "            </td>\n",
       "            \n",
       "            <td>\n",
       "              MIR6787\n",
       "            </td>\n",
       "            \n",
       "            <td>\n",
       "              \n",
       "            </td>\n",
       "            \n",
       "            <td>\n",
       "                   nan\n",
       "            </td>\n",
       "            \n",
       "            <td>\n",
       "                   nan\n",
       "            </td>\n",
       "            \n",
       "            <td>\n",
       "                   nan\n",
       "            </td>\n",
       "            \n",
       "          </tr>\n",
       "          \n",
       "          <tr>\n",
       "            \n",
       "            <td>\n",
       "              ENSG0...\n",
       "            </td>\n",
       "            \n",
       "            <td>\n",
       "              ENSG0...\n",
       "            </td>\n",
       "            \n",
       "            <td>\n",
       "              MIR6787\n",
       "            </td>\n",
       "            \n",
       "            <td>\n",
       "              \n",
       "            </td>\n",
       "            \n",
       "            <td>\n",
       "                   nan\n",
       "            </td>\n",
       "            \n",
       "            <td>\n",
       "                   nan\n",
       "            </td>\n",
       "            \n",
       "            <td>\n",
       "                   nan\n",
       "            </td>\n",
       "            \n",
       "          </tr>\n",
       "          \n",
       "          </tbody>\n",
       "        </table>\n",
       "    "
      ],
      "text/plain": [
       "<rpy2.robjects.vectors.DataFrame object at 0x732e94518d80> [RTYPES.VECSXP]\n",
       "R classes: ('data.frame',)\n",
       "[IntSexpVe..., IntSexpVe..., IntSexpVe..., IntSexpVe..., ..., FloatSexp..., FloatSexp..., FloatSexp..., FloatSexp...]\n",
       "  gene0_id: <class 'rpy2.robjects.vectors.FactorVector'>\n",
       "  <rpy2.robjects.vectors.FactorVector object at 0x732fbf32b880> [RTYPES.INTSXP]\n",
       "R classes: ('factor',)\n",
       "[ENSG0..., ENSG0..., ENSG0..., ENSG0..., ..., ENSG0..., ENSG0..., ENSG0..., ENSG0...]\n",
       "  gene1_id: <class 'rpy2.robjects.vectors.FactorVector'>\n",
       "  <rpy2.robjects.vectors.FactorVector object at 0x732e4666afc0> [RTYPES.INTSXP]\n",
       "R classes: ('factor',)\n",
       "[ENSG0..., ENSG0..., ENSG0..., ENSG0..., ..., ENSG0..., ENSG0..., ENSG0..., ENSG0...]\n",
       "  gene0_symbol: <class 'rpy2.robjects.vectors.FactorVector'>\n",
       "  <rpy2.robjects.vectors.FactorVector object at 0x732e4665ed40> [RTYPES.INTSXP]\n",
       "R classes: ('factor',)\n",
       "[DPM1, DPM1, DPM1, DPM1, ..., MIR6787, MIR6787, MIR6787, MIR6787]\n",
       "  gene1_symbol: <class 'rpy2.robjects.vectors.FactorVector'>\n",
       "  <rpy2.robjects.vectors.FactorVector object at 0x732e4666c080> [RTYPES.INTSXP]\n",
       "R classes: ('factor',)\n",
       "[LASP1, SNX11, TMEM1..., CFLAR, ..., TRBJ1-6, TRBV7-2, TRBV6-2, AC011...]\n",
       "...\n",
       "  Pearson (low): <class 'rpy2.robjects.vectors.FloatVector'>\n",
       "  <rpy2.robjects.vectors.FloatVector object at 0x732e94518440> [RTYPES.REALSXP]\n",
       "R classes: ('numeric',)\n",
       "[0.786595, 0.816991, 0.004128, 0.803653, ..., 0.018411, 0.104518, 0.096159, 0.053928]\n",
       "  Spearman (high): <class 'rpy2.robjects.vectors.FloatVector'>\n",
       "  <rpy2.robjects.vectors.FloatVector object at 0x732e885b17c0> [RTYPES.REALSXP]\n",
       "R classes: ('numeric',)\n",
       "[     nan,      nan,      nan,      nan, ...,      nan,      nan,      nan,      nan]\n",
       "  Spearman (low): <class 'rpy2.robjects.vectors.FloatVector'>\n",
       "  <rpy2.robjects.vectors.FloatVector object at 0x732e885b16c0> [RTYPES.REALSXP]\n",
       "R classes: ('numeric',)\n",
       "[     nan,      nan,      nan,      nan, ...,      nan,      nan,      nan,      nan]\n",
       "  Clustermatch (high): <class 'rpy2.robjects.vectors.FloatVector'>\n",
       "  <rpy2.robjects.vectors.FloatVector object at 0x732e885b1b00> [RTYPES.REALSXP]\n",
       "R classes: ('numeric',)\n",
       "[     nan,      nan,      nan,      nan, ...,      nan,      nan,      nan,      nan]"
      ]
     },
     "execution_count": 55,
     "metadata": {},
     "output_type": "execute_result"
    }
   ],
   "source": [
    "data_r"
   ]
  },
  {
   "cell_type": "code",
   "execution_count": 56,
   "id": "a41d10b1-8cc3-4043-a8e5-9aa8b2bdd8b0",
   "metadata": {
    "execution": {
     "iopub.execute_input": "2024-01-05T00:25:16.278490Z",
     "iopub.status.busy": "2024-01-05T00:25:16.278396Z",
     "iopub.status.idle": "2024-01-05T00:26:02.400286Z",
     "shell.execute_reply": "2024-01-05T00:26:02.399977Z"
    },
    "papermill": {
     "duration": 46.160163,
     "end_time": "2024-01-05T00:26:02.420225",
     "exception": false,
     "start_time": "2024-01-05T00:25:16.260062",
     "status": "completed"
    },
    "tags": []
   },
   "outputs": [
    {
     "data": {
      "text/plain": [
       "<rpy2.rinterface_lib.sexp.NULLType object at 0x7330d5def940> [RTYPES.NILSXP]"
      ]
     },
     "execution_count": 56,
     "metadata": {},
     "output_type": "execute_result"
    }
   ],
   "source": [
    "saveRDS(data_r, str(output_file))"
   ]
  },
  {
   "cell_type": "code",
   "execution_count": 57,
   "id": "18a5dfc2-97dd-4460-9ff0-0b924556d804",
   "metadata": {
    "execution": {
     "iopub.execute_input": "2024-01-05T00:26:02.457281Z",
     "iopub.status.busy": "2024-01-05T00:26:02.457198Z",
     "iopub.status.idle": "2024-01-05T00:26:08.548088Z",
     "shell.execute_reply": "2024-01-05T00:26:08.547742Z"
    },
    "papermill": {
     "duration": 6.110974,
     "end_time": "2024-01-05T00:26:08.549685",
     "exception": false,
     "start_time": "2024-01-05T00:26:02.438711",
     "status": "completed"
    },
    "tags": []
   },
   "outputs": [],
   "source": [
    "# testing: load the rds file again\n",
    "data_r = readRDS(str(output_file))"
   ]
  },
  {
   "cell_type": "code",
   "execution_count": 58,
   "id": "e70a4d0a-4439-47c6-b422-6ae58e0ea3da",
   "metadata": {
    "execution": {
     "iopub.execute_input": "2024-01-05T00:26:08.586857Z",
     "iopub.status.busy": "2024-01-05T00:26:08.586775Z",
     "iopub.status.idle": "2024-01-05T00:28:58.719493Z",
     "shell.execute_reply": "2024-01-05T00:28:58.719022Z"
    },
    "papermill": {
     "duration": 170.153055,
     "end_time": "2024-01-05T00:28:58.721220",
     "exception": false,
     "start_time": "2024-01-05T00:26:08.568165",
     "status": "completed"
    },
    "tags": []
   },
   "outputs": [],
   "source": [
    "with localconverter(ro.default_converter + pandas2ri.converter):\n",
    "    data_again = ro.conversion.rpy2py(data_r)\n",
    "    data_again.index = data_again.index.astype(int)"
   ]
  },
  {
   "cell_type": "code",
   "execution_count": 59,
   "id": "6e423577-e429-4ffb-b5d5-01968026c1f6",
   "metadata": {
    "execution": {
     "iopub.execute_input": "2024-01-05T00:28:58.758574Z",
     "iopub.status.busy": "2024-01-05T00:28:58.758485Z",
     "iopub.status.idle": "2024-01-05T00:28:58.761645Z",
     "shell.execute_reply": "2024-01-05T00:28:58.761248Z"
    },
    "papermill": {
     "duration": 0.023079,
     "end_time": "2024-01-05T00:28:58.762907",
     "exception": false,
     "start_time": "2024-01-05T00:28:58.739828",
     "status": "completed"
    },
    "tags": []
   },
   "outputs": [
    {
     "data": {
      "text/plain": [
       "(12497500, 16)"
      ]
     },
     "execution_count": 59,
     "metadata": {},
     "output_type": "execute_result"
    }
   ],
   "source": [
    "data_again.shape"
   ]
  },
  {
   "cell_type": "code",
   "execution_count": 60,
   "id": "2c7aa161-a499-4df3-aca0-2cbee5cbfa5d",
   "metadata": {
    "execution": {
     "iopub.execute_input": "2024-01-05T00:28:58.800078Z",
     "iopub.status.busy": "2024-01-05T00:28:58.799983Z",
     "iopub.status.idle": "2024-01-05T00:28:58.808526Z",
     "shell.execute_reply": "2024-01-05T00:28:58.808048Z"
    },
    "papermill": {
     "duration": 0.028506,
     "end_time": "2024-01-05T00:28:58.809888",
     "exception": false,
     "start_time": "2024-01-05T00:28:58.781382",
     "status": "completed"
    },
    "tags": []
   },
   "outputs": [
    {
     "data": {
      "text/html": [
       "<div>\n",
       "<style scoped>\n",
       "    .dataframe tbody tr th:only-of-type {\n",
       "        vertical-align: middle;\n",
       "    }\n",
       "\n",
       "    .dataframe tbody tr th {\n",
       "        vertical-align: top;\n",
       "    }\n",
       "\n",
       "    .dataframe thead th {\n",
       "        text-align: right;\n",
       "    }\n",
       "</style>\n",
       "<table border=\"1\" class=\"dataframe\">\n",
       "  <thead>\n",
       "    <tr style=\"text-align: right;\">\n",
       "      <th></th>\n",
       "      <th>gene0_id</th>\n",
       "      <th>gene1_id</th>\n",
       "      <th>gene0_symbol</th>\n",
       "      <th>gene1_symbol</th>\n",
       "      <th>Pearson (high)</th>\n",
       "      <th>Pearson (low)</th>\n",
       "      <th>Spearman (high)</th>\n",
       "      <th>Spearman (low)</th>\n",
       "      <th>Clustermatch (high)</th>\n",
       "      <th>Clustermatch (low)</th>\n",
       "      <th>ccc_coef</th>\n",
       "      <th>pearson_coef</th>\n",
       "      <th>spearman_coef</th>\n",
       "      <th>ccc_fdr</th>\n",
       "      <th>pearson_fdr</th>\n",
       "      <th>spearman_fdr</th>\n",
       "    </tr>\n",
       "  </thead>\n",
       "  <tbody>\n",
       "    <tr>\n",
       "      <th>0</th>\n",
       "      <td>ENSG00000000419.12</td>\n",
       "      <td>ENSG00000002834.17</td>\n",
       "      <td>DPM1</td>\n",
       "      <td>LASP1</td>\n",
       "      <td>1</td>\n",
       "      <td>0</td>\n",
       "      <td>1</td>\n",
       "      <td>0</td>\n",
       "      <td>1</td>\n",
       "      <td>0</td>\n",
       "      <td>0.418721</td>\n",
       "      <td>0.681847</td>\n",
       "      <td>0.786595</td>\n",
       "      <td>NaN</td>\n",
       "      <td>NaN</td>\n",
       "      <td>NaN</td>\n",
       "    </tr>\n",
       "    <tr>\n",
       "      <th>1</th>\n",
       "      <td>ENSG00000000419.12</td>\n",
       "      <td>ENSG00000002919.14</td>\n",
       "      <td>DPM1</td>\n",
       "      <td>SNX11</td>\n",
       "      <td>1</td>\n",
       "      <td>0</td>\n",
       "      <td>1</td>\n",
       "      <td>0</td>\n",
       "      <td>1</td>\n",
       "      <td>0</td>\n",
       "      <td>0.405090</td>\n",
       "      <td>0.734699</td>\n",
       "      <td>0.816991</td>\n",
       "      <td>NaN</td>\n",
       "      <td>NaN</td>\n",
       "      <td>NaN</td>\n",
       "    </tr>\n",
       "    <tr>\n",
       "      <th>2</th>\n",
       "      <td>ENSG00000000419.12</td>\n",
       "      <td>ENSG00000002933.7</td>\n",
       "      <td>DPM1</td>\n",
       "      <td>TMEM176A</td>\n",
       "      <td>0</td>\n",
       "      <td>1</td>\n",
       "      <td>0</td>\n",
       "      <td>1</td>\n",
       "      <td>0</td>\n",
       "      <td>1</td>\n",
       "      <td>0.007466</td>\n",
       "      <td>0.013825</td>\n",
       "      <td>0.004128</td>\n",
       "      <td>NaN</td>\n",
       "      <td>NaN</td>\n",
       "      <td>NaN</td>\n",
       "    </tr>\n",
       "    <tr>\n",
       "      <th>3</th>\n",
       "      <td>ENSG00000000419.12</td>\n",
       "      <td>ENSG00000003402.19</td>\n",
       "      <td>DPM1</td>\n",
       "      <td>CFLAR</td>\n",
       "      <td>1</td>\n",
       "      <td>0</td>\n",
       "      <td>1</td>\n",
       "      <td>0</td>\n",
       "      <td>1</td>\n",
       "      <td>0</td>\n",
       "      <td>0.391683</td>\n",
       "      <td>0.727347</td>\n",
       "      <td>0.803653</td>\n",
       "      <td>NaN</td>\n",
       "      <td>NaN</td>\n",
       "      <td>NaN</td>\n",
       "    </tr>\n",
       "    <tr>\n",
       "      <th>4</th>\n",
       "      <td>ENSG00000000419.12</td>\n",
       "      <td>ENSG00000004478.7</td>\n",
       "      <td>DPM1</td>\n",
       "      <td>FKBP4</td>\n",
       "      <td>0</td>\n",
       "      <td>1</td>\n",
       "      <td>0</td>\n",
       "      <td>0</td>\n",
       "      <td>0</td>\n",
       "      <td>0</td>\n",
       "      <td>0.099013</td>\n",
       "      <td>0.094147</td>\n",
       "      <td>0.231269</td>\n",
       "      <td>NaN</td>\n",
       "      <td>NaN</td>\n",
       "      <td>NaN</td>\n",
       "    </tr>\n",
       "  </tbody>\n",
       "</table>\n",
       "</div>"
      ],
      "text/plain": [
       "             gene0_id            gene1_id gene0_symbol gene1_symbol  \\\n",
       "0  ENSG00000000419.12  ENSG00000002834.17         DPM1        LASP1   \n",
       "1  ENSG00000000419.12  ENSG00000002919.14         DPM1        SNX11   \n",
       "2  ENSG00000000419.12   ENSG00000002933.7         DPM1     TMEM176A   \n",
       "3  ENSG00000000419.12  ENSG00000003402.19         DPM1        CFLAR   \n",
       "4  ENSG00000000419.12   ENSG00000004478.7         DPM1        FKBP4   \n",
       "\n",
       "   Pearson (high)  Pearson (low)  Spearman (high)  Spearman (low)  \\\n",
       "0               1              0                1               0   \n",
       "1               1              0                1               0   \n",
       "2               0              1                0               1   \n",
       "3               1              0                1               0   \n",
       "4               0              1                0               0   \n",
       "\n",
       "   Clustermatch (high)  Clustermatch (low)  ccc_coef  pearson_coef  \\\n",
       "0                    1                   0  0.418721      0.681847   \n",
       "1                    1                   0  0.405090      0.734699   \n",
       "2                    0                   1  0.007466      0.013825   \n",
       "3                    1                   0  0.391683      0.727347   \n",
       "4                    0                   0  0.099013      0.094147   \n",
       "\n",
       "   spearman_coef  ccc_fdr  pearson_fdr  spearman_fdr  \n",
       "0       0.786595      NaN          NaN           NaN  \n",
       "1       0.816991      NaN          NaN           NaN  \n",
       "2       0.004128      NaN          NaN           NaN  \n",
       "3       0.803653      NaN          NaN           NaN  \n",
       "4       0.231269      NaN          NaN           NaN  "
      ]
     },
     "execution_count": 60,
     "metadata": {},
     "output_type": "execute_result"
    }
   ],
   "source": [
    "data_again.head()"
   ]
  },
  {
   "cell_type": "code",
   "execution_count": 61,
   "id": "efa7326e-69d6-4fa4-b6eb-5fa0b502cbb2",
   "metadata": {
    "execution": {
     "iopub.execute_input": "2024-01-05T00:28:58.842485Z",
     "iopub.status.busy": "2024-01-05T00:28:58.842332Z",
     "iopub.status.idle": "2024-01-05T00:33:08.245517Z",
     "shell.execute_reply": "2024-01-05T00:33:08.245075Z"
    },
    "papermill": {
     "duration": 249.418645,
     "end_time": "2024-01-05T00:33:08.247113",
     "exception": false,
     "start_time": "2024-01-05T00:28:58.828468",
     "status": "completed"
    },
    "tags": []
   },
   "outputs": [],
   "source": [
    "# testing\n",
    "pd.testing.assert_frame_equal(\n",
    "    data,\n",
    "    data_again,\n",
    "    check_dtype=False,\n",
    ")"
   ]
  },
  {
   "cell_type": "markdown",
   "id": "50b97893-b49b-42a3-a798-3c94030ab0cf",
   "metadata": {
    "papermill": {
     "duration": 0.018863,
     "end_time": "2024-01-05T00:33:08.285484",
     "exception": false,
     "start_time": "2024-01-05T00:33:08.266621",
     "status": "completed"
    },
    "tags": []
   },
   "source": [
    "## Text"
   ]
  },
  {
   "cell_type": "code",
   "execution_count": 62,
   "id": "d548aff3-b850-4050-a21d-6f00b78c280b",
   "metadata": {
    "execution": {
     "iopub.execute_input": "2024-01-05T00:33:08.323739Z",
     "iopub.status.busy": "2024-01-05T00:33:08.323638Z",
     "iopub.status.idle": "2024-01-05T00:33:08.326886Z",
     "shell.execute_reply": "2024-01-05T00:33:08.326538Z"
    },
    "papermill": {
     "duration": 0.02387,
     "end_time": "2024-01-05T00:33:08.328155",
     "exception": false,
     "start_time": "2024-01-05T00:33:08.304285",
     "status": "completed"
    },
    "tags": []
   },
   "outputs": [
    {
     "data": {
      "text/plain": [
       "PosixPath('/opt/data/supplementary_material/Supplementary_File_01-Gene_pair_intersections.tsv.gz')"
      ]
     },
     "metadata": {},
     "output_type": "display_data"
    }
   ],
   "source": [
    "# tsv format\n",
    "output_file = OUTPUT_DIR / f\"{OUTPUT_FILENAME}.tsv.gz\"\n",
    "display(output_file)"
   ]
  },
  {
   "cell_type": "code",
   "execution_count": 63,
   "id": "19a7cc7d-924b-49be-b11e-e782a601ba28",
   "metadata": {
    "execution": {
     "iopub.execute_input": "2024-01-05T00:33:08.352432Z",
     "iopub.status.busy": "2024-01-05T00:33:08.352340Z",
     "iopub.status.idle": "2024-01-05T00:36:11.835602Z",
     "shell.execute_reply": "2024-01-05T00:36:11.835078Z"
    },
    "papermill": {
     "duration": 183.495239,
     "end_time": "2024-01-05T00:36:11.837266",
     "exception": false,
     "start_time": "2024-01-05T00:33:08.342027",
     "status": "completed"
    },
    "tags": []
   },
   "outputs": [],
   "source": [
    "data.to_csv(output_file, sep=\"\\t\", index=False, float_format=\"%.5e\")"
   ]
  },
  {
   "cell_type": "code",
   "execution_count": 64,
   "id": "84321ddb-8e26-4d5e-93e1-7e1fdfaefefb",
   "metadata": {
    "execution": {
     "iopub.execute_input": "2024-01-05T00:36:11.876259Z",
     "iopub.status.busy": "2024-01-05T00:36:11.876167Z",
     "iopub.status.idle": "2024-01-05T00:36:30.674647Z",
     "shell.execute_reply": "2024-01-05T00:36:30.674278Z"
    },
    "papermill": {
     "duration": 18.819229,
     "end_time": "2024-01-05T00:36:30.676276",
     "exception": false,
     "start_time": "2024-01-05T00:36:11.857047",
     "status": "completed"
    },
    "tags": []
   },
   "outputs": [],
   "source": [
    "# testing\n",
    "data2 = data.copy()\n",
    "data2.index = list(range(0, data2.shape[0]))\n",
    "\n",
    "data_again = pd.read_csv(output_file, sep=\"\\t\")\n",
    "data_again.index = list(data_again.index)"
   ]
  },
  {
   "cell_type": "code",
   "execution_count": 65,
   "id": "388715f6-edd4-42a4-b1df-2aad3f580d0b",
   "metadata": {
    "execution": {
     "iopub.execute_input": "2024-01-05T00:36:30.714403Z",
     "iopub.status.busy": "2024-01-05T00:36:30.714320Z",
     "iopub.status.idle": "2024-01-05T00:36:30.717205Z",
     "shell.execute_reply": "2024-01-05T00:36:30.716876Z"
    },
    "papermill": {
     "duration": 0.023251,
     "end_time": "2024-01-05T00:36:30.718525",
     "exception": false,
     "start_time": "2024-01-05T00:36:30.695274",
     "status": "completed"
    },
    "tags": []
   },
   "outputs": [
    {
     "data": {
      "text/plain": [
       "(12497500, 16)"
      ]
     },
     "execution_count": 65,
     "metadata": {},
     "output_type": "execute_result"
    }
   ],
   "source": [
    "data_again.shape"
   ]
  },
  {
   "cell_type": "code",
   "execution_count": 66,
   "id": "42224f4a-523d-48f2-b78c-a131b35766bc",
   "metadata": {
    "execution": {
     "iopub.execute_input": "2024-01-05T00:36:30.757623Z",
     "iopub.status.busy": "2024-01-05T00:36:30.757212Z",
     "iopub.status.idle": "2024-01-05T00:36:30.770858Z",
     "shell.execute_reply": "2024-01-05T00:36:30.770461Z"
    },
    "papermill": {
     "duration": 0.034008,
     "end_time": "2024-01-05T00:36:30.771663",
     "exception": false,
     "start_time": "2024-01-05T00:36:30.737655",
     "status": "completed"
    },
    "tags": []
   },
   "outputs": [
    {
     "data": {
      "text/html": [
       "<div>\n",
       "<style scoped>\n",
       "    .dataframe tbody tr th:only-of-type {\n",
       "        vertical-align: middle;\n",
       "    }\n",
       "\n",
       "    .dataframe tbody tr th {\n",
       "        vertical-align: top;\n",
       "    }\n",
       "\n",
       "    .dataframe thead th {\n",
       "        text-align: right;\n",
       "    }\n",
       "</style>\n",
       "<table border=\"1\" class=\"dataframe\">\n",
       "  <thead>\n",
       "    <tr style=\"text-align: right;\">\n",
       "      <th></th>\n",
       "      <th>gene0_id</th>\n",
       "      <th>gene1_id</th>\n",
       "      <th>gene0_symbol</th>\n",
       "      <th>gene1_symbol</th>\n",
       "      <th>Pearson (high)</th>\n",
       "      <th>Pearson (low)</th>\n",
       "      <th>Spearman (high)</th>\n",
       "      <th>Spearman (low)</th>\n",
       "      <th>Clustermatch (high)</th>\n",
       "      <th>Clustermatch (low)</th>\n",
       "      <th>ccc_coef</th>\n",
       "      <th>pearson_coef</th>\n",
       "      <th>spearman_coef</th>\n",
       "      <th>ccc_fdr</th>\n",
       "      <th>pearson_fdr</th>\n",
       "      <th>spearman_fdr</th>\n",
       "    </tr>\n",
       "  </thead>\n",
       "  <tbody>\n",
       "    <tr>\n",
       "      <th>0</th>\n",
       "      <td>ENSG00000000419.12</td>\n",
       "      <td>ENSG00000002834.17</td>\n",
       "      <td>DPM1</td>\n",
       "      <td>LASP1</td>\n",
       "      <td>True</td>\n",
       "      <td>False</td>\n",
       "      <td>True</td>\n",
       "      <td>False</td>\n",
       "      <td>True</td>\n",
       "      <td>False</td>\n",
       "      <td>0.418721</td>\n",
       "      <td>0.681847</td>\n",
       "      <td>0.786595</td>\n",
       "      <td>NaN</td>\n",
       "      <td>NaN</td>\n",
       "      <td>NaN</td>\n",
       "    </tr>\n",
       "    <tr>\n",
       "      <th>1</th>\n",
       "      <td>ENSG00000000419.12</td>\n",
       "      <td>ENSG00000002919.14</td>\n",
       "      <td>DPM1</td>\n",
       "      <td>SNX11</td>\n",
       "      <td>True</td>\n",
       "      <td>False</td>\n",
       "      <td>True</td>\n",
       "      <td>False</td>\n",
       "      <td>True</td>\n",
       "      <td>False</td>\n",
       "      <td>0.405090</td>\n",
       "      <td>0.734699</td>\n",
       "      <td>0.816991</td>\n",
       "      <td>NaN</td>\n",
       "      <td>NaN</td>\n",
       "      <td>NaN</td>\n",
       "    </tr>\n",
       "    <tr>\n",
       "      <th>2</th>\n",
       "      <td>ENSG00000000419.12</td>\n",
       "      <td>ENSG00000002933.7</td>\n",
       "      <td>DPM1</td>\n",
       "      <td>TMEM176A</td>\n",
       "      <td>False</td>\n",
       "      <td>True</td>\n",
       "      <td>False</td>\n",
       "      <td>True</td>\n",
       "      <td>False</td>\n",
       "      <td>True</td>\n",
       "      <td>0.007466</td>\n",
       "      <td>0.013825</td>\n",
       "      <td>0.004128</td>\n",
       "      <td>NaN</td>\n",
       "      <td>NaN</td>\n",
       "      <td>NaN</td>\n",
       "    </tr>\n",
       "    <tr>\n",
       "      <th>3</th>\n",
       "      <td>ENSG00000000419.12</td>\n",
       "      <td>ENSG00000003402.19</td>\n",
       "      <td>DPM1</td>\n",
       "      <td>CFLAR</td>\n",
       "      <td>True</td>\n",
       "      <td>False</td>\n",
       "      <td>True</td>\n",
       "      <td>False</td>\n",
       "      <td>True</td>\n",
       "      <td>False</td>\n",
       "      <td>0.391683</td>\n",
       "      <td>0.727347</td>\n",
       "      <td>0.803653</td>\n",
       "      <td>NaN</td>\n",
       "      <td>NaN</td>\n",
       "      <td>NaN</td>\n",
       "    </tr>\n",
       "    <tr>\n",
       "      <th>4</th>\n",
       "      <td>ENSG00000000419.12</td>\n",
       "      <td>ENSG00000004478.7</td>\n",
       "      <td>DPM1</td>\n",
       "      <td>FKBP4</td>\n",
       "      <td>False</td>\n",
       "      <td>True</td>\n",
       "      <td>False</td>\n",
       "      <td>False</td>\n",
       "      <td>False</td>\n",
       "      <td>False</td>\n",
       "      <td>0.099013</td>\n",
       "      <td>0.094147</td>\n",
       "      <td>0.231269</td>\n",
       "      <td>NaN</td>\n",
       "      <td>NaN</td>\n",
       "      <td>NaN</td>\n",
       "    </tr>\n",
       "  </tbody>\n",
       "</table>\n",
       "</div>"
      ],
      "text/plain": [
       "             gene0_id            gene1_id gene0_symbol gene1_symbol  \\\n",
       "0  ENSG00000000419.12  ENSG00000002834.17         DPM1        LASP1   \n",
       "1  ENSG00000000419.12  ENSG00000002919.14         DPM1        SNX11   \n",
       "2  ENSG00000000419.12   ENSG00000002933.7         DPM1     TMEM176A   \n",
       "3  ENSG00000000419.12  ENSG00000003402.19         DPM1        CFLAR   \n",
       "4  ENSG00000000419.12   ENSG00000004478.7         DPM1        FKBP4   \n",
       "\n",
       "   Pearson (high)  Pearson (low)  Spearman (high)  Spearman (low)  \\\n",
       "0            True          False             True           False   \n",
       "1            True          False             True           False   \n",
       "2           False           True            False            True   \n",
       "3            True          False             True           False   \n",
       "4           False           True            False           False   \n",
       "\n",
       "   Clustermatch (high)  Clustermatch (low)  ccc_coef  pearson_coef  \\\n",
       "0                 True               False  0.418721      0.681847   \n",
       "1                 True               False  0.405090      0.734699   \n",
       "2                False                True  0.007466      0.013825   \n",
       "3                 True               False  0.391683      0.727347   \n",
       "4                False               False  0.099013      0.094147   \n",
       "\n",
       "   spearman_coef  ccc_fdr  pearson_fdr  spearman_fdr  \n",
       "0       0.786595      NaN          NaN           NaN  \n",
       "1       0.816991      NaN          NaN           NaN  \n",
       "2       0.004128      NaN          NaN           NaN  \n",
       "3       0.803653      NaN          NaN           NaN  \n",
       "4       0.231269      NaN          NaN           NaN  "
      ]
     },
     "execution_count": 66,
     "metadata": {},
     "output_type": "execute_result"
    }
   ],
   "source": [
    "data_again.head()"
   ]
  },
  {
   "cell_type": "code",
   "execution_count": 67,
   "id": "d69f9e89-c489-441b-884c-7260165292db",
   "metadata": {
    "execution": {
     "iopub.execute_input": "2024-01-05T00:36:30.811847Z",
     "iopub.status.busy": "2024-01-05T00:36:30.811455Z",
     "iopub.status.idle": "2024-01-05T00:47:07.128795Z",
     "shell.execute_reply": "2024-01-05T00:47:07.128319Z"
    },
    "papermill": {
     "duration": 636.348877,
     "end_time": "2024-01-05T00:47:07.130587",
     "exception": false,
     "start_time": "2024-01-05T00:36:30.781710",
     "status": "completed"
    },
    "tags": []
   },
   "outputs": [],
   "source": [
    "# testing\n",
    "pd.testing.assert_frame_equal(\n",
    "    data2,\n",
    "    data_again,\n",
    "    check_categorical=False,\n",
    "    check_dtype=False,\n",
    ")"
   ]
  },
  {
   "cell_type": "code",
   "execution_count": null,
   "id": "25663d89-6720-40d8-946b-3bbb809f00df",
   "metadata": {
    "papermill": {
     "duration": 0.020731,
     "end_time": "2024-01-05T00:47:07.172807",
     "exception": false,
     "start_time": "2024-01-05T00:47:07.152076",
     "status": "completed"
    },
    "tags": []
   },
   "outputs": [],
   "source": []
  }
 ],
 "metadata": {
  "jupytext": {
   "cell_metadata_filter": "all,-execution,-papermill,-trusted",
   "notebook_metadata_filter": "-jupytext.text_representation.jupytext_version",
   "text_representation": {
    "extension": ".py",
    "format_name": "percent",
    "format_version": "1.3"
   }
  },
  "kernelspec": {
   "display_name": "Python 3 (ipykernel)",
   "language": "python",
   "name": "python3"
  },
  "language_info": {
   "codemirror_mode": {
    "name": "ipython",
    "version": 3
   },
   "file_extension": ".py",
   "mimetype": "text/x-python",
   "name": "python",
   "nbconvert_exporter": "python",
   "pygments_lexer": "ipython3",
   "version": "3.9.12"
  },
  "papermill": {
   "default_parameters": {},
   "duration": 2510.172691,
   "end_time": "2024-01-05T00:47:10.013865",
   "environment_variables": {},
   "exception": null,
   "input_path": "nbs/99_manuscript/supplementary_files/00-supplementary_file1.ipynb",
   "output_path": "nbs/99_manuscript/supplementary_files/00-supplementary_file1.run.ipynb",
   "parameters": {},
   "start_time": "2024-01-05T00:05:19.841174",
   "version": "2.3.4"
  },
  "toc-autonumbering": true
 },
 "nbformat": 4,
 "nbformat_minor": 5
}
