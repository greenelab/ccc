{
 "cells": [
  {
   "cell_type": "markdown",
   "id": "87e0ce1b-7ce6-4499-9342-5ded05307598",
   "metadata": {
    "papermill": {
     "duration": 0.008768,
     "end_time": "2024-01-05T17:20:33.306991",
     "exception": false,
     "start_time": "2024-01-05T17:20:33.298223",
     "status": "completed"
    },
    "tags": []
   },
   "source": [
    "# Description"
   ]
  },
  {
   "cell_type": "markdown",
   "id": "c9e288bf-415c-44b7-84a4-7999c21af777",
   "metadata": {
    "papermill": {
     "duration": 0.006041,
     "end_time": "2024-01-05T17:20:33.323491",
     "exception": false,
     "start_time": "2024-01-05T17:20:33.317450",
     "status": "completed"
    },
    "tags": []
   },
   "source": [
    "Creates **Supplementary File 2**.\n",
    "\n",
    "*Description*: Percentiles for Pearson, Spearman and CCC computed on Supplementary File 1."
   ]
  },
  {
   "cell_type": "markdown",
   "id": "e020c781-238b-43c2-8cad-2722b8a240e2",
   "metadata": {
    "papermill": {
     "duration": 0.006072,
     "end_time": "2024-01-05T17:20:33.335792",
     "exception": false,
     "start_time": "2024-01-05T17:20:33.329720",
     "status": "completed"
    },
    "tags": []
   },
   "source": [
    "# Modules"
   ]
  },
  {
   "cell_type": "code",
   "execution_count": 1,
   "id": "a819bfbc-5009-4c68-ba8d-37d0979d368f",
   "metadata": {
    "execution": {
     "iopub.execute_input": "2024-01-05T17:20:33.349513Z",
     "iopub.status.busy": "2024-01-05T17:20:33.349033Z",
     "iopub.status.idle": "2024-01-05T17:20:33.731946Z",
     "shell.execute_reply": "2024-01-05T17:20:33.731468Z"
    },
    "papermill": {
     "duration": 0.391815,
     "end_time": "2024-01-05T17:20:33.733792",
     "exception": false,
     "start_time": "2024-01-05T17:20:33.341977",
     "status": "completed"
    },
    "tags": []
   },
   "outputs": [],
   "source": [
    "import pandas as pd\n",
    "import numpy as np\n",
    "import rpy2.robjects as ro\n",
    "from rpy2.robjects import pandas2ri\n",
    "from rpy2.robjects.conversion import localconverter\n",
    "\n",
    "from ccc import conf"
   ]
  },
  {
   "cell_type": "code",
   "execution_count": 2,
   "id": "860ff6ef-dba1-4647-b77d-ca289cffa36b",
   "metadata": {
    "execution": {
     "iopub.execute_input": "2024-01-05T17:20:33.751570Z",
     "iopub.status.busy": "2024-01-05T17:20:33.751458Z",
     "iopub.status.idle": "2024-01-05T17:20:33.754580Z",
     "shell.execute_reply": "2024-01-05T17:20:33.754198Z"
    },
    "papermill": {
     "duration": 0.015627,
     "end_time": "2024-01-05T17:20:33.755814",
     "exception": false,
     "start_time": "2024-01-05T17:20:33.740187",
     "status": "completed"
    },
    "tags": []
   },
   "outputs": [],
   "source": [
    "readRDS = ro.r[\"readRDS\"]"
   ]
  },
  {
   "cell_type": "code",
   "execution_count": 3,
   "id": "8b82561e-ea69-4e57-ac22-8c026b34b022",
   "metadata": {
    "execution": {
     "iopub.execute_input": "2024-01-05T17:20:33.768736Z",
     "iopub.status.busy": "2024-01-05T17:20:33.768630Z",
     "iopub.status.idle": "2024-01-05T17:20:33.771133Z",
     "shell.execute_reply": "2024-01-05T17:20:33.770771Z"
    },
    "papermill": {
     "duration": 0.010293,
     "end_time": "2024-01-05T17:20:33.772358",
     "exception": false,
     "start_time": "2024-01-05T17:20:33.762065",
     "status": "completed"
    },
    "tags": []
   },
   "outputs": [],
   "source": [
    "saveRDS = ro.r[\"saveRDS\"]"
   ]
  },
  {
   "cell_type": "markdown",
   "id": "b4834387-58ff-468c-b326-85c408bc5feb",
   "metadata": {
    "papermill": {
     "duration": 0.00619,
     "end_time": "2024-01-05T17:20:33.784798",
     "exception": false,
     "start_time": "2024-01-05T17:20:33.778608",
     "status": "completed"
    },
    "tags": []
   },
   "source": [
    "# Settings"
   ]
  },
  {
   "cell_type": "code",
   "execution_count": 4,
   "id": "765e820a-4518-4bbc-a00f-14c9cea03821",
   "metadata": {
    "execution": {
     "iopub.execute_input": "2024-01-05T17:20:33.797830Z",
     "iopub.status.busy": "2024-01-05T17:20:33.797730Z",
     "iopub.status.idle": "2024-01-05T17:20:33.799906Z",
     "shell.execute_reply": "2024-01-05T17:20:33.799523Z"
    },
    "papermill": {
     "duration": 0.010032,
     "end_time": "2024-01-05T17:20:33.801117",
     "exception": false,
     "start_time": "2024-01-05T17:20:33.791085",
     "status": "completed"
    },
    "tags": []
   },
   "outputs": [],
   "source": [
    "DATASET_CONFIG = conf.GTEX\n",
    "GTEX_TISSUE = \"whole_blood\"\n",
    "GENE_SEL_STRATEGY = \"var_pc_log2\""
   ]
  },
  {
   "cell_type": "markdown",
   "id": "a1159982-5dd1-4494-97d4-0674eeead1c3",
   "metadata": {
    "papermill": {
     "duration": 0.006175,
     "end_time": "2024-01-05T17:20:33.813587",
     "exception": false,
     "start_time": "2024-01-05T17:20:33.807412",
     "status": "completed"
    },
    "tags": []
   },
   "source": [
    "# Paths"
   ]
  },
  {
   "cell_type": "code",
   "execution_count": 5,
   "id": "d50e29a6-0e18-4c3d-b933-f21a17abf831",
   "metadata": {
    "execution": {
     "iopub.execute_input": "2024-01-05T17:20:33.827349Z",
     "iopub.status.busy": "2024-01-05T17:20:33.826830Z",
     "iopub.status.idle": "2024-01-05T17:20:33.829981Z",
     "shell.execute_reply": "2024-01-05T17:20:33.829505Z"
    },
    "papermill": {
     "duration": 0.011385,
     "end_time": "2024-01-05T17:20:33.831310",
     "exception": false,
     "start_time": "2024-01-05T17:20:33.819925",
     "status": "completed"
    },
    "tags": []
   },
   "outputs": [],
   "source": [
    "assert (\n",
    "    conf.MANUSCRIPT[\"BASE_DIR\"] is not None and conf.MANUSCRIPT[\"BASE_DIR\"].exists()\n",
    "), \"Manuscript dir not set\""
   ]
  },
  {
   "cell_type": "code",
   "execution_count": 6,
   "id": "30cce6f5-ca1b-438c-859d-31903a42d4c6",
   "metadata": {
    "execution": {
     "iopub.execute_input": "2024-01-05T17:20:33.844671Z",
     "iopub.status.busy": "2024-01-05T17:20:33.844348Z",
     "iopub.status.idle": "2024-01-05T17:20:33.854354Z",
     "shell.execute_reply": "2024-01-05T17:20:33.853879Z"
    },
    "papermill": {
     "duration": 0.017443,
     "end_time": "2024-01-05T17:20:33.855198",
     "exception": false,
     "start_time": "2024-01-05T17:20:33.837755",
     "status": "completed"
    },
    "tags": []
   },
   "outputs": [
    {
     "data": {
      "text/plain": [
       "PosixPath('/opt/data/results/gtex_v8/gene_pair_intersections/gene_pair_intersections-gtex_v8-whole_blood-var_pc_log2.pkl')"
      ]
     },
     "metadata": {},
     "output_type": "display_data"
    }
   ],
   "source": [
    "INPUT_GENE_PAIRS_INTERSECTIONS_FILE = (\n",
    "    DATASET_CONFIG[\"GENE_PAIR_INTERSECTIONS\"]\n",
    "    / f\"gene_pair_intersections-gtex_v8-{GTEX_TISSUE}-{GENE_SEL_STRATEGY}.pkl\"\n",
    ")\n",
    "display(INPUT_GENE_PAIRS_INTERSECTIONS_FILE)\n",
    "\n",
    "assert INPUT_GENE_PAIRS_INTERSECTIONS_FILE.exists()"
   ]
  },
  {
   "cell_type": "code",
   "execution_count": 7,
   "id": "523c6a4e-87ec-44bf-bad3-e912b8aa0482",
   "metadata": {
    "execution": {
     "iopub.execute_input": "2024-01-05T17:20:33.863050Z",
     "iopub.status.busy": "2024-01-05T17:20:33.862691Z",
     "iopub.status.idle": "2024-01-05T17:20:33.866978Z",
     "shell.execute_reply": "2024-01-05T17:20:33.866487Z"
    },
    "papermill": {
     "duration": 0.009,
     "end_time": "2024-01-05T17:20:33.867716",
     "exception": false,
     "start_time": "2024-01-05T17:20:33.858716",
     "status": "completed"
    },
    "tags": []
   },
   "outputs": [
    {
     "data": {
      "text/plain": [
       "PosixPath('/opt/data/supplementary_material')"
      ]
     },
     "metadata": {},
     "output_type": "display_data"
    }
   ],
   "source": [
    "OUTPUT_DIR = conf.MANUSCRIPT[\"SUPPLEMENTARY_MATERIAL_DIR\"]\n",
    "OUTPUT_DIR.mkdir(parents=True, exist_ok=True)\n",
    "display(OUTPUT_DIR)"
   ]
  },
  {
   "cell_type": "code",
   "execution_count": 8,
   "id": "8fefcf66-4c68-4086-bf23-7f52c6fd2291",
   "metadata": {
    "execution": {
     "iopub.execute_input": "2024-01-05T17:20:33.875632Z",
     "iopub.status.busy": "2024-01-05T17:20:33.875257Z",
     "iopub.status.idle": "2024-01-05T17:20:33.878016Z",
     "shell.execute_reply": "2024-01-05T17:20:33.877544Z"
    },
    "papermill": {
     "duration": 0.007597,
     "end_time": "2024-01-05T17:20:33.878808",
     "exception": false,
     "start_time": "2024-01-05T17:20:33.871211",
     "status": "completed"
    },
    "tags": []
   },
   "outputs": [],
   "source": [
    "OUTPUT_FILENAME = \"Supplementary_File_02-Coefficients_percentiles_GTEx_whole_blood\""
   ]
  },
  {
   "cell_type": "markdown",
   "id": "f6d3322b-c8bb-4fc2-97b6-5bb1793b1577",
   "metadata": {
    "papermill": {
     "duration": 0.003417,
     "end_time": "2024-01-05T17:20:33.885710",
     "exception": false,
     "start_time": "2024-01-05T17:20:33.882293",
     "status": "completed"
    },
    "tags": []
   },
   "source": [
    "# Data"
   ]
  },
  {
   "cell_type": "markdown",
   "id": "b030f506-2fe9-4895-a8a1-51374e88c496",
   "metadata": {
    "papermill": {
     "duration": 0.00338,
     "end_time": "2024-01-05T17:20:33.892534",
     "exception": false,
     "start_time": "2024-01-05T17:20:33.889154",
     "status": "completed"
    },
    "tags": []
   },
   "source": [
    "## Gene pairs intersection"
   ]
  },
  {
   "cell_type": "code",
   "execution_count": 9,
   "id": "da1d768a-fbfb-40e8-8fbb-790d1a94aa83",
   "metadata": {
    "execution": {
     "iopub.execute_input": "2024-01-05T17:20:33.900475Z",
     "iopub.status.busy": "2024-01-05T17:20:33.899994Z",
     "iopub.status.idle": "2024-01-05T17:20:36.604782Z",
     "shell.execute_reply": "2024-01-05T17:20:36.604295Z"
    },
    "papermill": {
     "duration": 2.710428,
     "end_time": "2024-01-05T17:20:36.606402",
     "exception": false,
     "start_time": "2024-01-05T17:20:33.895974",
     "status": "completed"
    },
    "tags": []
   },
   "outputs": [],
   "source": [
    "gene_pair_intersections = (\n",
    "    pd.read_pickle(INPUT_GENE_PAIRS_INTERSECTIONS_FILE)\n",
    "    .rename_axis((\"gene0_id\", \"gene1_id\"))\n",
    "    .sort_index()\n",
    ")"
   ]
  },
  {
   "cell_type": "code",
   "execution_count": 10,
   "id": "6123d474-0c0d-4771-9678-248ce89424ce",
   "metadata": {
    "execution": {
     "iopub.execute_input": "2024-01-05T17:20:36.624542Z",
     "iopub.status.busy": "2024-01-05T17:20:36.624454Z",
     "iopub.status.idle": "2024-01-05T17:20:36.627751Z",
     "shell.execute_reply": "2024-01-05T17:20:36.627366Z"
    },
    "papermill": {
     "duration": 0.015716,
     "end_time": "2024-01-05T17:20:36.629009",
     "exception": false,
     "start_time": "2024-01-05T17:20:36.613293",
     "status": "completed"
    },
    "tags": []
   },
   "outputs": [
    {
     "data": {
      "text/plain": [
       "(12497500, 9)"
      ]
     },
     "execution_count": 10,
     "metadata": {},
     "output_type": "execute_result"
    }
   ],
   "source": [
    "gene_pair_intersections.shape"
   ]
  },
  {
   "cell_type": "code",
   "execution_count": 11,
   "id": "b028abd8-c5b1-48c2-aa5e-cb1b49c943a4",
   "metadata": {
    "execution": {
     "iopub.execute_input": "2024-01-05T17:20:36.643123Z",
     "iopub.status.busy": "2024-01-05T17:20:36.643024Z",
     "iopub.status.idle": "2024-01-05T17:20:36.651294Z",
     "shell.execute_reply": "2024-01-05T17:20:36.650917Z"
    },
    "papermill": {
     "duration": 0.016629,
     "end_time": "2024-01-05T17:20:36.652456",
     "exception": false,
     "start_time": "2024-01-05T17:20:36.635827",
     "status": "completed"
    },
    "tags": []
   },
   "outputs": [
    {
     "data": {
      "text/html": [
       "<div>\n",
       "<style scoped>\n",
       "    .dataframe tbody tr th:only-of-type {\n",
       "        vertical-align: middle;\n",
       "    }\n",
       "\n",
       "    .dataframe tbody tr th {\n",
       "        vertical-align: top;\n",
       "    }\n",
       "\n",
       "    .dataframe thead th {\n",
       "        text-align: right;\n",
       "    }\n",
       "</style>\n",
       "<table border=\"1\" class=\"dataframe\">\n",
       "  <thead>\n",
       "    <tr style=\"text-align: right;\">\n",
       "      <th></th>\n",
       "      <th></th>\n",
       "      <th>Pearson (high)</th>\n",
       "      <th>Pearson (low)</th>\n",
       "      <th>Spearman (high)</th>\n",
       "      <th>Spearman (low)</th>\n",
       "      <th>Clustermatch (high)</th>\n",
       "      <th>Clustermatch (low)</th>\n",
       "      <th>ccc</th>\n",
       "      <th>pearson</th>\n",
       "      <th>spearman</th>\n",
       "    </tr>\n",
       "    <tr>\n",
       "      <th>gene0_id</th>\n",
       "      <th>gene1_id</th>\n",
       "      <th></th>\n",
       "      <th></th>\n",
       "      <th></th>\n",
       "      <th></th>\n",
       "      <th></th>\n",
       "      <th></th>\n",
       "      <th></th>\n",
       "      <th></th>\n",
       "      <th></th>\n",
       "    </tr>\n",
       "  </thead>\n",
       "  <tbody>\n",
       "    <tr>\n",
       "      <th rowspan=\"5\" valign=\"top\">ENSG00000000419.12</th>\n",
       "      <th>ENSG00000002834.17</th>\n",
       "      <td>True</td>\n",
       "      <td>False</td>\n",
       "      <td>True</td>\n",
       "      <td>False</td>\n",
       "      <td>True</td>\n",
       "      <td>False</td>\n",
       "      <td>0.418721</td>\n",
       "      <td>0.681847</td>\n",
       "      <td>0.786595</td>\n",
       "    </tr>\n",
       "    <tr>\n",
       "      <th>ENSG00000002919.14</th>\n",
       "      <td>True</td>\n",
       "      <td>False</td>\n",
       "      <td>True</td>\n",
       "      <td>False</td>\n",
       "      <td>True</td>\n",
       "      <td>False</td>\n",
       "      <td>0.405090</td>\n",
       "      <td>0.734699</td>\n",
       "      <td>0.816991</td>\n",
       "    </tr>\n",
       "    <tr>\n",
       "      <th>ENSG00000002933.7</th>\n",
       "      <td>False</td>\n",
       "      <td>True</td>\n",
       "      <td>False</td>\n",
       "      <td>True</td>\n",
       "      <td>False</td>\n",
       "      <td>True</td>\n",
       "      <td>0.007466</td>\n",
       "      <td>0.013825</td>\n",
       "      <td>0.004128</td>\n",
       "    </tr>\n",
       "    <tr>\n",
       "      <th>ENSG00000003402.19</th>\n",
       "      <td>True</td>\n",
       "      <td>False</td>\n",
       "      <td>True</td>\n",
       "      <td>False</td>\n",
       "      <td>True</td>\n",
       "      <td>False</td>\n",
       "      <td>0.391683</td>\n",
       "      <td>0.727347</td>\n",
       "      <td>0.803653</td>\n",
       "    </tr>\n",
       "    <tr>\n",
       "      <th>ENSG00000004478.7</th>\n",
       "      <td>False</td>\n",
       "      <td>True</td>\n",
       "      <td>False</td>\n",
       "      <td>False</td>\n",
       "      <td>False</td>\n",
       "      <td>False</td>\n",
       "      <td>0.099013</td>\n",
       "      <td>0.094147</td>\n",
       "      <td>0.231269</td>\n",
       "    </tr>\n",
       "  </tbody>\n",
       "</table>\n",
       "</div>"
      ],
      "text/plain": [
       "                                       Pearson (high)  Pearson (low)  \\\n",
       "gene0_id           gene1_id                                            \n",
       "ENSG00000000419.12 ENSG00000002834.17            True          False   \n",
       "                   ENSG00000002919.14            True          False   \n",
       "                   ENSG00000002933.7            False           True   \n",
       "                   ENSG00000003402.19            True          False   \n",
       "                   ENSG00000004478.7            False           True   \n",
       "\n",
       "                                       Spearman (high)  Spearman (low)  \\\n",
       "gene0_id           gene1_id                                              \n",
       "ENSG00000000419.12 ENSG00000002834.17             True           False   \n",
       "                   ENSG00000002919.14             True           False   \n",
       "                   ENSG00000002933.7             False            True   \n",
       "                   ENSG00000003402.19             True           False   \n",
       "                   ENSG00000004478.7             False           False   \n",
       "\n",
       "                                       Clustermatch (high)  \\\n",
       "gene0_id           gene1_id                                  \n",
       "ENSG00000000419.12 ENSG00000002834.17                 True   \n",
       "                   ENSG00000002919.14                 True   \n",
       "                   ENSG00000002933.7                 False   \n",
       "                   ENSG00000003402.19                 True   \n",
       "                   ENSG00000004478.7                 False   \n",
       "\n",
       "                                       Clustermatch (low)       ccc   pearson  \\\n",
       "gene0_id           gene1_id                                                     \n",
       "ENSG00000000419.12 ENSG00000002834.17               False  0.418721  0.681847   \n",
       "                   ENSG00000002919.14               False  0.405090  0.734699   \n",
       "                   ENSG00000002933.7                 True  0.007466  0.013825   \n",
       "                   ENSG00000003402.19               False  0.391683  0.727347   \n",
       "                   ENSG00000004478.7                False  0.099013  0.094147   \n",
       "\n",
       "                                       spearman  \n",
       "gene0_id           gene1_id                      \n",
       "ENSG00000000419.12 ENSG00000002834.17  0.786595  \n",
       "                   ENSG00000002919.14  0.816991  \n",
       "                   ENSG00000002933.7   0.004128  \n",
       "                   ENSG00000003402.19  0.803653  \n",
       "                   ENSG00000004478.7   0.231269  "
      ]
     },
     "execution_count": 11,
     "metadata": {},
     "output_type": "execute_result"
    }
   ],
   "source": [
    "gene_pair_intersections.head()"
   ]
  },
  {
   "cell_type": "markdown",
   "id": "7a7f1ec6-3865-4899-9206-9b261d0238ff",
   "metadata": {
    "papermill": {
     "duration": 0.007156,
     "end_time": "2024-01-05T17:20:36.666733",
     "exception": false,
     "start_time": "2024-01-05T17:20:36.659577",
     "status": "completed"
    },
    "tags": []
   },
   "source": [
    "# Compute percentiles"
   ]
  },
  {
   "cell_type": "code",
   "execution_count": 12,
   "id": "80cfe5ae-ecef-4619-8640-ab74279a5d52",
   "metadata": {
    "execution": {
     "iopub.execute_input": "2024-01-05T17:20:36.681267Z",
     "iopub.status.busy": "2024-01-05T17:20:36.681182Z",
     "iopub.status.idle": "2024-01-05T17:20:38.429036Z",
     "shell.execute_reply": "2024-01-05T17:20:38.428502Z"
    },
    "papermill": {
     "duration": 1.756879,
     "end_time": "2024-01-05T17:20:38.430662",
     "exception": false,
     "start_time": "2024-01-05T17:20:36.673783",
     "status": "completed"
    },
    "tags": []
   },
   "outputs": [],
   "source": [
    "percentiles = (\n",
    "    gene_pair_intersections[[\"ccc\", \"pearson\", \"spearman\"]]\n",
    "    .quantile(np.arange(0.00, 1.01, 0.01))\n",
    "    .rename_axis(\"percentile\")\n",
    ")"
   ]
  },
  {
   "cell_type": "code",
   "execution_count": 13,
   "id": "9673032f-6799-4f85-850d-b23eeb6f1687",
   "metadata": {
    "execution": {
     "iopub.execute_input": "2024-01-05T17:20:38.449365Z",
     "iopub.status.busy": "2024-01-05T17:20:38.449269Z",
     "iopub.status.idle": "2024-01-05T17:20:38.452807Z",
     "shell.execute_reply": "2024-01-05T17:20:38.452410Z"
    },
    "papermill": {
     "duration": 0.015955,
     "end_time": "2024-01-05T17:20:38.454046",
     "exception": false,
     "start_time": "2024-01-05T17:20:38.438091",
     "status": "completed"
    },
    "tags": []
   },
   "outputs": [
    {
     "data": {
      "text/plain": [
       "Index(['0.00', '0.01', '0.02', '0.03', '0.04', '0.05', '0.06', '0.07', '0.08',\n",
       "       '0.09',\n",
       "       ...\n",
       "       '0.91', '0.92', '0.93', '0.94', '0.95', '0.96', '0.97', '0.98', '0.99',\n",
       "       '1.00'],\n",
       "      dtype='object', name='percentile', length=101)"
      ]
     },
     "metadata": {},
     "output_type": "display_data"
    }
   ],
   "source": [
    "# convert index to string\n",
    "percentiles.index = percentiles.index.map(lambda x: f\"{x:.2f}\")\n",
    "display(percentiles.index)"
   ]
  },
  {
   "cell_type": "code",
   "execution_count": 14,
   "id": "f7a8e012-0720-48d7-8e1e-f64f90c96c38",
   "metadata": {
    "execution": {
     "iopub.execute_input": "2024-01-05T17:20:38.468976Z",
     "iopub.status.busy": "2024-01-05T17:20:38.468877Z",
     "iopub.status.idle": "2024-01-05T17:20:38.480028Z",
     "shell.execute_reply": "2024-01-05T17:20:38.479668Z"
    },
    "papermill": {
     "duration": 0.019985,
     "end_time": "2024-01-05T17:20:38.481273",
     "exception": false,
     "start_time": "2024-01-05T17:20:38.461288",
     "status": "completed"
    },
    "tags": []
   },
   "outputs": [
    {
     "data": {
      "text/html": [
       "<div>\n",
       "<style scoped>\n",
       "    .dataframe tbody tr th:only-of-type {\n",
       "        vertical-align: middle;\n",
       "    }\n",
       "\n",
       "    .dataframe tbody tr th {\n",
       "        vertical-align: top;\n",
       "    }\n",
       "\n",
       "    .dataframe thead th {\n",
       "        text-align: right;\n",
       "    }\n",
       "</style>\n",
       "<table border=\"1\" class=\"dataframe\">\n",
       "  <thead>\n",
       "    <tr style=\"text-align: right;\">\n",
       "      <th></th>\n",
       "      <th>ccc</th>\n",
       "      <th>pearson</th>\n",
       "      <th>spearman</th>\n",
       "    </tr>\n",
       "    <tr>\n",
       "      <th>percentile</th>\n",
       "      <th></th>\n",
       "      <th></th>\n",
       "      <th></th>\n",
       "    </tr>\n",
       "  </thead>\n",
       "  <tbody>\n",
       "    <tr>\n",
       "      <th>0.00</th>\n",
       "      <td>0.000000</td>\n",
       "      <td>1.507747e-08</td>\n",
       "      <td>1.394156e-08</td>\n",
       "    </tr>\n",
       "    <tr>\n",
       "      <th>0.01</th>\n",
       "      <td>0.003946</td>\n",
       "      <td>3.388963e-03</td>\n",
       "      <td>6.152752e-03</td>\n",
       "    </tr>\n",
       "    <tr>\n",
       "      <th>0.02</th>\n",
       "      <td>0.005268</td>\n",
       "      <td>6.768538e-03</td>\n",
       "      <td>1.227735e-02</td>\n",
       "    </tr>\n",
       "    <tr>\n",
       "      <th>0.03</th>\n",
       "      <td>0.006380</td>\n",
       "      <td>1.013848e-02</td>\n",
       "      <td>1.844244e-02</td>\n",
       "    </tr>\n",
       "    <tr>\n",
       "      <th>0.04</th>\n",
       "      <td>0.007398</td>\n",
       "      <td>1.352140e-02</td>\n",
       "      <td>2.461349e-02</td>\n",
       "    </tr>\n",
       "    <tr>\n",
       "      <th>0.05</th>\n",
       "      <td>0.008373</td>\n",
       "      <td>1.693231e-02</td>\n",
       "      <td>3.080856e-02</td>\n",
       "    </tr>\n",
       "    <tr>\n",
       "      <th>0.06</th>\n",
       "      <td>0.009316</td>\n",
       "      <td>2.036774e-02</td>\n",
       "      <td>3.698643e-02</td>\n",
       "    </tr>\n",
       "    <tr>\n",
       "      <th>0.07</th>\n",
       "      <td>0.010252</td>\n",
       "      <td>2.383742e-02</td>\n",
       "      <td>4.323740e-02</td>\n",
       "    </tr>\n",
       "    <tr>\n",
       "      <th>0.08</th>\n",
       "      <td>0.011229</td>\n",
       "      <td>2.732681e-02</td>\n",
       "      <td>4.952070e-02</td>\n",
       "    </tr>\n",
       "    <tr>\n",
       "      <th>0.09</th>\n",
       "      <td>0.012138</td>\n",
       "      <td>3.085061e-02</td>\n",
       "      <td>5.588410e-02</td>\n",
       "    </tr>\n",
       "    <tr>\n",
       "      <th>0.10</th>\n",
       "      <td>0.013101</td>\n",
       "      <td>3.443775e-02</td>\n",
       "      <td>6.224037e-02</td>\n",
       "    </tr>\n",
       "    <tr>\n",
       "      <th>0.11</th>\n",
       "      <td>0.013985</td>\n",
       "      <td>3.805936e-02</td>\n",
       "      <td>6.862239e-02</td>\n",
       "    </tr>\n",
       "    <tr>\n",
       "      <th>0.12</th>\n",
       "      <td>0.014947</td>\n",
       "      <td>4.174866e-02</td>\n",
       "      <td>7.507420e-02</td>\n",
       "    </tr>\n",
       "    <tr>\n",
       "      <th>0.13</th>\n",
       "      <td>0.015889</td>\n",
       "      <td>4.546350e-02</td>\n",
       "      <td>8.155162e-02</td>\n",
       "    </tr>\n",
       "    <tr>\n",
       "      <th>0.14</th>\n",
       "      <td>0.016805</td>\n",
       "      <td>4.923200e-02</td>\n",
       "      <td>8.806279e-02</td>\n",
       "    </tr>\n",
       "    <tr>\n",
       "      <th>0.15</th>\n",
       "      <td>0.017790</td>\n",
       "      <td>5.305959e-02</td>\n",
       "      <td>9.463231e-02</td>\n",
       "    </tr>\n",
       "    <tr>\n",
       "      <th>0.16</th>\n",
       "      <td>0.018784</td>\n",
       "      <td>5.692663e-02</td>\n",
       "      <td>1.012363e-01</td>\n",
       "    </tr>\n",
       "    <tr>\n",
       "      <th>0.17</th>\n",
       "      <td>0.019682</td>\n",
       "      <td>6.085459e-02</td>\n",
       "      <td>1.078945e-01</td>\n",
       "    </tr>\n",
       "    <tr>\n",
       "      <th>0.18</th>\n",
       "      <td>0.020730</td>\n",
       "      <td>6.483695e-02</td>\n",
       "      <td>1.146225e-01</td>\n",
       "    </tr>\n",
       "    <tr>\n",
       "      <th>0.19</th>\n",
       "      <td>0.021771</td>\n",
       "      <td>6.886047e-02</td>\n",
       "      <td>1.213975e-01</td>\n",
       "    </tr>\n",
       "    <tr>\n",
       "      <th>0.20</th>\n",
       "      <td>0.022719</td>\n",
       "      <td>7.293984e-02</td>\n",
       "      <td>1.281975e-01</td>\n",
       "    </tr>\n",
       "    <tr>\n",
       "      <th>0.21</th>\n",
       "      <td>0.023833</td>\n",
       "      <td>7.709103e-02</td>\n",
       "      <td>1.350640e-01</td>\n",
       "    </tr>\n",
       "    <tr>\n",
       "      <th>0.22</th>\n",
       "      <td>0.024954</td>\n",
       "      <td>8.131579e-02</td>\n",
       "      <td>1.419196e-01</td>\n",
       "    </tr>\n",
       "    <tr>\n",
       "      <th>0.23</th>\n",
       "      <td>0.026119</td>\n",
       "      <td>8.559667e-02</td>\n",
       "      <td>1.489061e-01</td>\n",
       "    </tr>\n",
       "    <tr>\n",
       "      <th>0.24</th>\n",
       "      <td>0.027164</td>\n",
       "      <td>8.995717e-02</td>\n",
       "      <td>1.559086e-01</td>\n",
       "    </tr>\n",
       "    <tr>\n",
       "      <th>0.25</th>\n",
       "      <td>0.028405</td>\n",
       "      <td>9.442322e-02</td>\n",
       "      <td>1.629740e-01</td>\n",
       "    </tr>\n",
       "    <tr>\n",
       "      <th>0.26</th>\n",
       "      <td>0.029732</td>\n",
       "      <td>9.893882e-02</td>\n",
       "      <td>1.701249e-01</td>\n",
       "    </tr>\n",
       "    <tr>\n",
       "      <th>0.27</th>\n",
       "      <td>0.030826</td>\n",
       "      <td>1.035284e-01</td>\n",
       "      <td>1.773078e-01</td>\n",
       "    </tr>\n",
       "    <tr>\n",
       "      <th>0.28</th>\n",
       "      <td>0.032234</td>\n",
       "      <td>1.082030e-01</td>\n",
       "      <td>1.845915e-01</td>\n",
       "    </tr>\n",
       "    <tr>\n",
       "      <th>0.29</th>\n",
       "      <td>0.033596</td>\n",
       "      <td>1.129788e-01</td>\n",
       "      <td>1.919254e-01</td>\n",
       "    </tr>\n",
       "    <tr>\n",
       "      <th>0.30</th>\n",
       "      <td>0.034958</td>\n",
       "      <td>1.178352e-01</td>\n",
       "      <td>1.993565e-01</td>\n",
       "    </tr>\n",
       "    <tr>\n",
       "      <th>0.31</th>\n",
       "      <td>0.036590</td>\n",
       "      <td>1.228012e-01</td>\n",
       "      <td>2.068996e-01</td>\n",
       "    </tr>\n",
       "    <tr>\n",
       "      <th>0.32</th>\n",
       "      <td>0.037878</td>\n",
       "      <td>1.278366e-01</td>\n",
       "      <td>2.145340e-01</td>\n",
       "    </tr>\n",
       "    <tr>\n",
       "      <th>0.33</th>\n",
       "      <td>0.039706</td>\n",
       "      <td>1.329847e-01</td>\n",
       "      <td>2.222892e-01</td>\n",
       "    </tr>\n",
       "    <tr>\n",
       "      <th>0.34</th>\n",
       "      <td>0.041154</td>\n",
       "      <td>1.382293e-01</td>\n",
       "      <td>2.301573e-01</td>\n",
       "    </tr>\n",
       "    <tr>\n",
       "      <th>0.35</th>\n",
       "      <td>0.043082</td>\n",
       "      <td>1.435835e-01</td>\n",
       "      <td>2.381064e-01</td>\n",
       "    </tr>\n",
       "    <tr>\n",
       "      <th>0.36</th>\n",
       "      <td>0.044737</td>\n",
       "      <td>1.490184e-01</td>\n",
       "      <td>2.461645e-01</td>\n",
       "    </tr>\n",
       "    <tr>\n",
       "      <th>0.37</th>\n",
       "      <td>0.046496</td>\n",
       "      <td>1.545894e-01</td>\n",
       "      <td>2.543013e-01</td>\n",
       "    </tr>\n",
       "    <tr>\n",
       "      <th>0.38</th>\n",
       "      <td>0.048831</td>\n",
       "      <td>1.602484e-01</td>\n",
       "      <td>2.625742e-01</td>\n",
       "    </tr>\n",
       "    <tr>\n",
       "      <th>0.39</th>\n",
       "      <td>0.050700</td>\n",
       "      <td>1.660308e-01</td>\n",
       "      <td>2.709242e-01</td>\n",
       "    </tr>\n",
       "    <tr>\n",
       "      <th>0.40</th>\n",
       "      <td>0.052617</td>\n",
       "      <td>1.719363e-01</td>\n",
       "      <td>2.793984e-01</td>\n",
       "    </tr>\n",
       "    <tr>\n",
       "      <th>0.41</th>\n",
       "      <td>0.054956</td>\n",
       "      <td>1.779695e-01</td>\n",
       "      <td>2.879003e-01</td>\n",
       "    </tr>\n",
       "    <tr>\n",
       "      <th>0.42</th>\n",
       "      <td>0.057500</td>\n",
       "      <td>1.841459e-01</td>\n",
       "      <td>2.964298e-01</td>\n",
       "    </tr>\n",
       "    <tr>\n",
       "      <th>0.43</th>\n",
       "      <td>0.060100</td>\n",
       "      <td>1.904132e-01</td>\n",
       "      <td>3.050767e-01</td>\n",
       "    </tr>\n",
       "    <tr>\n",
       "      <th>0.44</th>\n",
       "      <td>0.062756</td>\n",
       "      <td>1.968574e-01</td>\n",
       "      <td>3.137574e-01</td>\n",
       "    </tr>\n",
       "    <tr>\n",
       "      <th>0.45</th>\n",
       "      <td>0.065468</td>\n",
       "      <td>2.034435e-01</td>\n",
       "      <td>3.225428e-01</td>\n",
       "    </tr>\n",
       "    <tr>\n",
       "      <th>0.46</th>\n",
       "      <td>0.068237</td>\n",
       "      <td>2.101637e-01</td>\n",
       "      <td>3.314192e-01</td>\n",
       "    </tr>\n",
       "    <tr>\n",
       "      <th>0.47</th>\n",
       "      <td>0.071061</td>\n",
       "      <td>2.170523e-01</td>\n",
       "      <td>3.403767e-01</td>\n",
       "    </tr>\n",
       "    <tr>\n",
       "      <th>0.48</th>\n",
       "      <td>0.073942</td>\n",
       "      <td>2.241373e-01</td>\n",
       "      <td>3.493088e-01</td>\n",
       "    </tr>\n",
       "    <tr>\n",
       "      <th>0.49</th>\n",
       "      <td>0.077068</td>\n",
       "      <td>2.314217e-01</td>\n",
       "      <td>3.584093e-01</td>\n",
       "    </tr>\n",
       "    <tr>\n",
       "      <th>0.50</th>\n",
       "      <td>0.081111</td>\n",
       "      <td>2.388613e-01</td>\n",
       "      <td>3.675595e-01</td>\n",
       "    </tr>\n",
       "    <tr>\n",
       "      <th>0.51</th>\n",
       "      <td>0.084468</td>\n",
       "      <td>2.464779e-01</td>\n",
       "      <td>3.767548e-01</td>\n",
       "    </tr>\n",
       "    <tr>\n",
       "      <th>0.52</th>\n",
       "      <td>0.087789</td>\n",
       "      <td>2.542708e-01</td>\n",
       "      <td>3.859879e-01</td>\n",
       "    </tr>\n",
       "    <tr>\n",
       "      <th>0.53</th>\n",
       "      <td>0.092408</td>\n",
       "      <td>2.622951e-01</td>\n",
       "      <td>3.953283e-01</td>\n",
       "    </tr>\n",
       "    <tr>\n",
       "      <th>0.54</th>\n",
       "      <td>0.095682</td>\n",
       "      <td>2.705355e-01</td>\n",
       "      <td>4.047363e-01</td>\n",
       "    </tr>\n",
       "    <tr>\n",
       "      <th>0.55</th>\n",
       "      <td>0.100023</td>\n",
       "      <td>2.789973e-01</td>\n",
       "      <td>4.141564e-01</td>\n",
       "    </tr>\n",
       "    <tr>\n",
       "      <th>0.56</th>\n",
       "      <td>0.104114</td>\n",
       "      <td>2.876954e-01</td>\n",
       "      <td>4.236603e-01</td>\n",
       "    </tr>\n",
       "    <tr>\n",
       "      <th>0.57</th>\n",
       "      <td>0.109342</td>\n",
       "      <td>2.965756e-01</td>\n",
       "      <td>4.331967e-01</td>\n",
       "    </tr>\n",
       "    <tr>\n",
       "      <th>0.58</th>\n",
       "      <td>0.112897</td>\n",
       "      <td>3.057414e-01</td>\n",
       "      <td>4.427413e-01</td>\n",
       "    </tr>\n",
       "    <tr>\n",
       "      <th>0.59</th>\n",
       "      <td>0.118336</td>\n",
       "      <td>3.151408e-01</td>\n",
       "      <td>4.523948e-01</td>\n",
       "    </tr>\n",
       "    <tr>\n",
       "      <th>0.60</th>\n",
       "      <td>0.123816</td>\n",
       "      <td>3.247931e-01</td>\n",
       "      <td>4.621020e-01</td>\n",
       "    </tr>\n",
       "    <tr>\n",
       "      <th>0.61</th>\n",
       "      <td>0.127681</td>\n",
       "      <td>3.347349e-01</td>\n",
       "      <td>4.718914e-01</td>\n",
       "    </tr>\n",
       "    <tr>\n",
       "      <th>0.62</th>\n",
       "      <td>0.133457</td>\n",
       "      <td>3.449283e-01</td>\n",
       "      <td>4.816924e-01</td>\n",
       "    </tr>\n",
       "    <tr>\n",
       "      <th>0.63</th>\n",
       "      <td>0.139359</td>\n",
       "      <td>3.553262e-01</td>\n",
       "      <td>4.916339e-01</td>\n",
       "    </tr>\n",
       "    <tr>\n",
       "      <th>0.64</th>\n",
       "      <td>0.143365</td>\n",
       "      <td>3.660068e-01</td>\n",
       "      <td>5.016459e-01</td>\n",
       "    </tr>\n",
       "    <tr>\n",
       "      <th>0.65</th>\n",
       "      <td>0.149478</td>\n",
       "      <td>3.769644e-01</td>\n",
       "      <td>5.116565e-01</td>\n",
       "    </tr>\n",
       "    <tr>\n",
       "      <th>0.66</th>\n",
       "      <td>0.155717</td>\n",
       "      <td>3.881439e-01</td>\n",
       "      <td>5.217727e-01</td>\n",
       "    </tr>\n",
       "    <tr>\n",
       "      <th>0.67</th>\n",
       "      <td>0.160869</td>\n",
       "      <td>3.994928e-01</td>\n",
       "      <td>5.319233e-01</td>\n",
       "    </tr>\n",
       "    <tr>\n",
       "      <th>0.68</th>\n",
       "      <td>0.168576</td>\n",
       "      <td>4.110843e-01</td>\n",
       "      <td>5.421622e-01</td>\n",
       "    </tr>\n",
       "    <tr>\n",
       "      <th>0.69</th>\n",
       "      <td>0.172974</td>\n",
       "      <td>4.228260e-01</td>\n",
       "      <td>5.524414e-01</td>\n",
       "    </tr>\n",
       "    <tr>\n",
       "      <th>0.70</th>\n",
       "      <td>0.181940</td>\n",
       "      <td>4.347110e-01</td>\n",
       "      <td>5.627397e-01</td>\n",
       "    </tr>\n",
       "    <tr>\n",
       "      <th>0.71</th>\n",
       "      <td>0.186508</td>\n",
       "      <td>4.467239e-01</td>\n",
       "      <td>5.730518e-01</td>\n",
       "    </tr>\n",
       "    <tr>\n",
       "      <th>0.72</th>\n",
       "      <td>0.195811</td>\n",
       "      <td>4.587997e-01</td>\n",
       "      <td>5.834871e-01</td>\n",
       "    </tr>\n",
       "    <tr>\n",
       "      <th>0.73</th>\n",
       "      <td>0.200547</td>\n",
       "      <td>4.709572e-01</td>\n",
       "      <td>5.939409e-01</td>\n",
       "    </tr>\n",
       "    <tr>\n",
       "      <th>0.74</th>\n",
       "      <td>0.210187</td>\n",
       "      <td>4.831537e-01</td>\n",
       "      <td>6.044067e-01</td>\n",
       "    </tr>\n",
       "    <tr>\n",
       "      <th>0.75</th>\n",
       "      <td>0.216720</td>\n",
       "      <td>4.953854e-01</td>\n",
       "      <td>6.148954e-01</td>\n",
       "    </tr>\n",
       "    <tr>\n",
       "      <th>0.76</th>\n",
       "      <td>0.225069</td>\n",
       "      <td>5.076232e-01</td>\n",
       "      <td>6.254595e-01</td>\n",
       "    </tr>\n",
       "    <tr>\n",
       "      <th>0.77</th>\n",
       "      <td>0.232700</td>\n",
       "      <td>5.198984e-01</td>\n",
       "      <td>6.359649e-01</td>\n",
       "    </tr>\n",
       "    <tr>\n",
       "      <th>0.78</th>\n",
       "      <td>0.240458</td>\n",
       "      <td>5.322109e-01</td>\n",
       "      <td>6.464666e-01</td>\n",
       "    </tr>\n",
       "    <tr>\n",
       "      <th>0.79</th>\n",
       "      <td>0.250997</td>\n",
       "      <td>5.445336e-01</td>\n",
       "      <td>6.568646e-01</td>\n",
       "    </tr>\n",
       "    <tr>\n",
       "      <th>0.80</th>\n",
       "      <td>0.259050</td>\n",
       "      <td>5.568510e-01</td>\n",
       "      <td>6.672815e-01</td>\n",
       "    </tr>\n",
       "    <tr>\n",
       "      <th>0.81</th>\n",
       "      <td>0.267229</td>\n",
       "      <td>5.691704e-01</td>\n",
       "      <td>6.776410e-01</td>\n",
       "    </tr>\n",
       "    <tr>\n",
       "      <th>0.82</th>\n",
       "      <td>0.278331</td>\n",
       "      <td>5.815003e-01</td>\n",
       "      <td>6.879698e-01</td>\n",
       "    </tr>\n",
       "    <tr>\n",
       "      <th>0.83</th>\n",
       "      <td>0.289657</td>\n",
       "      <td>5.939314e-01</td>\n",
       "      <td>6.982808e-01</td>\n",
       "    </tr>\n",
       "    <tr>\n",
       "      <th>0.84</th>\n",
       "      <td>0.298300</td>\n",
       "      <td>6.064093e-01</td>\n",
       "      <td>7.085818e-01</td>\n",
       "    </tr>\n",
       "    <tr>\n",
       "      <th>0.85</th>\n",
       "      <td>0.307069</td>\n",
       "      <td>6.190427e-01</td>\n",
       "      <td>7.188334e-01</td>\n",
       "    </tr>\n",
       "    <tr>\n",
       "      <th>0.86</th>\n",
       "      <td>0.318958</td>\n",
       "      <td>6.317649e-01</td>\n",
       "      <td>7.290938e-01</td>\n",
       "    </tr>\n",
       "    <tr>\n",
       "      <th>0.87</th>\n",
       "      <td>0.331072</td>\n",
       "      <td>6.446022e-01</td>\n",
       "      <td>7.393882e-01</td>\n",
       "    </tr>\n",
       "    <tr>\n",
       "      <th>0.88</th>\n",
       "      <td>0.343411</td>\n",
       "      <td>6.577476e-01</td>\n",
       "      <td>7.497125e-01</td>\n",
       "    </tr>\n",
       "    <tr>\n",
       "      <th>0.89</th>\n",
       "      <td>0.355974</td>\n",
       "      <td>6.710517e-01</td>\n",
       "      <td>7.601104e-01</td>\n",
       "    </tr>\n",
       "    <tr>\n",
       "      <th>0.90</th>\n",
       "      <td>0.368762</td>\n",
       "      <td>6.845774e-01</td>\n",
       "      <td>7.706748e-01</td>\n",
       "    </tr>\n",
       "    <tr>\n",
       "      <th>0.91</th>\n",
       "      <td>0.381776</td>\n",
       "      <td>6.985623e-01</td>\n",
       "      <td>7.813354e-01</td>\n",
       "    </tr>\n",
       "    <tr>\n",
       "      <th>0.92</th>\n",
       "      <td>0.395014</td>\n",
       "      <td>7.128288e-01</td>\n",
       "      <td>7.922802e-01</td>\n",
       "    </tr>\n",
       "    <tr>\n",
       "      <th>0.93</th>\n",
       "      <td>0.411877</td>\n",
       "      <td>7.277492e-01</td>\n",
       "      <td>8.036007e-01</td>\n",
       "    </tr>\n",
       "    <tr>\n",
       "      <th>0.94</th>\n",
       "      <td>0.429092</td>\n",
       "      <td>7.434507e-01</td>\n",
       "      <td>8.154572e-01</td>\n",
       "    </tr>\n",
       "    <tr>\n",
       "      <th>0.95</th>\n",
       "      <td>0.450214</td>\n",
       "      <td>7.601761e-01</td>\n",
       "      <td>8.279074e-01</td>\n",
       "    </tr>\n",
       "    <tr>\n",
       "      <th>0.96</th>\n",
       "      <td>0.471842</td>\n",
       "      <td>7.784421e-01</td>\n",
       "      <td>8.412722e-01</td>\n",
       "    </tr>\n",
       "    <tr>\n",
       "      <th>0.97</th>\n",
       "      <td>0.493976</td>\n",
       "      <td>7.987897e-01</td>\n",
       "      <td>8.561070e-01</td>\n",
       "    </tr>\n",
       "    <tr>\n",
       "      <th>0.98</th>\n",
       "      <td>0.524274</td>\n",
       "      <td>8.225626e-01</td>\n",
       "      <td>8.734379e-01</td>\n",
       "    </tr>\n",
       "    <tr>\n",
       "      <th>0.99</th>\n",
       "      <td>0.571408</td>\n",
       "      <td>8.541118e-01</td>\n",
       "      <td>8.960495e-01</td>\n",
       "    </tr>\n",
       "    <tr>\n",
       "      <th>1.00</th>\n",
       "      <td>0.916918</td>\n",
       "      <td>9.948780e-01</td>\n",
       "      <td>9.867424e-01</td>\n",
       "    </tr>\n",
       "  </tbody>\n",
       "</table>\n",
       "</div>"
      ],
      "text/plain": [
       "                 ccc       pearson      spearman\n",
       "percentile                                      \n",
       "0.00        0.000000  1.507747e-08  1.394156e-08\n",
       "0.01        0.003946  3.388963e-03  6.152752e-03\n",
       "0.02        0.005268  6.768538e-03  1.227735e-02\n",
       "0.03        0.006380  1.013848e-02  1.844244e-02\n",
       "0.04        0.007398  1.352140e-02  2.461349e-02\n",
       "0.05        0.008373  1.693231e-02  3.080856e-02\n",
       "0.06        0.009316  2.036774e-02  3.698643e-02\n",
       "0.07        0.010252  2.383742e-02  4.323740e-02\n",
       "0.08        0.011229  2.732681e-02  4.952070e-02\n",
       "0.09        0.012138  3.085061e-02  5.588410e-02\n",
       "0.10        0.013101  3.443775e-02  6.224037e-02\n",
       "0.11        0.013985  3.805936e-02  6.862239e-02\n",
       "0.12        0.014947  4.174866e-02  7.507420e-02\n",
       "0.13        0.015889  4.546350e-02  8.155162e-02\n",
       "0.14        0.016805  4.923200e-02  8.806279e-02\n",
       "0.15        0.017790  5.305959e-02  9.463231e-02\n",
       "0.16        0.018784  5.692663e-02  1.012363e-01\n",
       "0.17        0.019682  6.085459e-02  1.078945e-01\n",
       "0.18        0.020730  6.483695e-02  1.146225e-01\n",
       "0.19        0.021771  6.886047e-02  1.213975e-01\n",
       "0.20        0.022719  7.293984e-02  1.281975e-01\n",
       "0.21        0.023833  7.709103e-02  1.350640e-01\n",
       "0.22        0.024954  8.131579e-02  1.419196e-01\n",
       "0.23        0.026119  8.559667e-02  1.489061e-01\n",
       "0.24        0.027164  8.995717e-02  1.559086e-01\n",
       "0.25        0.028405  9.442322e-02  1.629740e-01\n",
       "0.26        0.029732  9.893882e-02  1.701249e-01\n",
       "0.27        0.030826  1.035284e-01  1.773078e-01\n",
       "0.28        0.032234  1.082030e-01  1.845915e-01\n",
       "0.29        0.033596  1.129788e-01  1.919254e-01\n",
       "0.30        0.034958  1.178352e-01  1.993565e-01\n",
       "0.31        0.036590  1.228012e-01  2.068996e-01\n",
       "0.32        0.037878  1.278366e-01  2.145340e-01\n",
       "0.33        0.039706  1.329847e-01  2.222892e-01\n",
       "0.34        0.041154  1.382293e-01  2.301573e-01\n",
       "0.35        0.043082  1.435835e-01  2.381064e-01\n",
       "0.36        0.044737  1.490184e-01  2.461645e-01\n",
       "0.37        0.046496  1.545894e-01  2.543013e-01\n",
       "0.38        0.048831  1.602484e-01  2.625742e-01\n",
       "0.39        0.050700  1.660308e-01  2.709242e-01\n",
       "0.40        0.052617  1.719363e-01  2.793984e-01\n",
       "0.41        0.054956  1.779695e-01  2.879003e-01\n",
       "0.42        0.057500  1.841459e-01  2.964298e-01\n",
       "0.43        0.060100  1.904132e-01  3.050767e-01\n",
       "0.44        0.062756  1.968574e-01  3.137574e-01\n",
       "0.45        0.065468  2.034435e-01  3.225428e-01\n",
       "0.46        0.068237  2.101637e-01  3.314192e-01\n",
       "0.47        0.071061  2.170523e-01  3.403767e-01\n",
       "0.48        0.073942  2.241373e-01  3.493088e-01\n",
       "0.49        0.077068  2.314217e-01  3.584093e-01\n",
       "0.50        0.081111  2.388613e-01  3.675595e-01\n",
       "0.51        0.084468  2.464779e-01  3.767548e-01\n",
       "0.52        0.087789  2.542708e-01  3.859879e-01\n",
       "0.53        0.092408  2.622951e-01  3.953283e-01\n",
       "0.54        0.095682  2.705355e-01  4.047363e-01\n",
       "0.55        0.100023  2.789973e-01  4.141564e-01\n",
       "0.56        0.104114  2.876954e-01  4.236603e-01\n",
       "0.57        0.109342  2.965756e-01  4.331967e-01\n",
       "0.58        0.112897  3.057414e-01  4.427413e-01\n",
       "0.59        0.118336  3.151408e-01  4.523948e-01\n",
       "0.60        0.123816  3.247931e-01  4.621020e-01\n",
       "0.61        0.127681  3.347349e-01  4.718914e-01\n",
       "0.62        0.133457  3.449283e-01  4.816924e-01\n",
       "0.63        0.139359  3.553262e-01  4.916339e-01\n",
       "0.64        0.143365  3.660068e-01  5.016459e-01\n",
       "0.65        0.149478  3.769644e-01  5.116565e-01\n",
       "0.66        0.155717  3.881439e-01  5.217727e-01\n",
       "0.67        0.160869  3.994928e-01  5.319233e-01\n",
       "0.68        0.168576  4.110843e-01  5.421622e-01\n",
       "0.69        0.172974  4.228260e-01  5.524414e-01\n",
       "0.70        0.181940  4.347110e-01  5.627397e-01\n",
       "0.71        0.186508  4.467239e-01  5.730518e-01\n",
       "0.72        0.195811  4.587997e-01  5.834871e-01\n",
       "0.73        0.200547  4.709572e-01  5.939409e-01\n",
       "0.74        0.210187  4.831537e-01  6.044067e-01\n",
       "0.75        0.216720  4.953854e-01  6.148954e-01\n",
       "0.76        0.225069  5.076232e-01  6.254595e-01\n",
       "0.77        0.232700  5.198984e-01  6.359649e-01\n",
       "0.78        0.240458  5.322109e-01  6.464666e-01\n",
       "0.79        0.250997  5.445336e-01  6.568646e-01\n",
       "0.80        0.259050  5.568510e-01  6.672815e-01\n",
       "0.81        0.267229  5.691704e-01  6.776410e-01\n",
       "0.82        0.278331  5.815003e-01  6.879698e-01\n",
       "0.83        0.289657  5.939314e-01  6.982808e-01\n",
       "0.84        0.298300  6.064093e-01  7.085818e-01\n",
       "0.85        0.307069  6.190427e-01  7.188334e-01\n",
       "0.86        0.318958  6.317649e-01  7.290938e-01\n",
       "0.87        0.331072  6.446022e-01  7.393882e-01\n",
       "0.88        0.343411  6.577476e-01  7.497125e-01\n",
       "0.89        0.355974  6.710517e-01  7.601104e-01\n",
       "0.90        0.368762  6.845774e-01  7.706748e-01\n",
       "0.91        0.381776  6.985623e-01  7.813354e-01\n",
       "0.92        0.395014  7.128288e-01  7.922802e-01\n",
       "0.93        0.411877  7.277492e-01  8.036007e-01\n",
       "0.94        0.429092  7.434507e-01  8.154572e-01\n",
       "0.95        0.450214  7.601761e-01  8.279074e-01\n",
       "0.96        0.471842  7.784421e-01  8.412722e-01\n",
       "0.97        0.493976  7.987897e-01  8.561070e-01\n",
       "0.98        0.524274  8.225626e-01  8.734379e-01\n",
       "0.99        0.571408  8.541118e-01  8.960495e-01\n",
       "1.00        0.916918  9.948780e-01  9.867424e-01"
      ]
     },
     "metadata": {},
     "output_type": "display_data"
    }
   ],
   "source": [
    "with pd.option_context(\"display.max_rows\", None):\n",
    "    display(percentiles)"
   ]
  },
  {
   "cell_type": "markdown",
   "id": "3893f4f3-f0c5-464a-ab43-a5d0de0f2ea8",
   "metadata": {
    "papermill": {
     "duration": 0.007864,
     "end_time": "2024-01-05T17:20:38.497331",
     "exception": false,
     "start_time": "2024-01-05T17:20:38.489467",
     "status": "completed"
    },
    "tags": []
   },
   "source": [
    "# Save"
   ]
  },
  {
   "cell_type": "code",
   "execution_count": 15,
   "id": "dc6d6873-cc91-4fb9-b4d6-9b9607f0100e",
   "metadata": {
    "execution": {
     "iopub.execute_input": "2024-01-05T17:20:38.513896Z",
     "iopub.status.busy": "2024-01-05T17:20:38.513798Z",
     "iopub.status.idle": "2024-01-05T17:20:38.515883Z",
     "shell.execute_reply": "2024-01-05T17:20:38.515534Z"
    },
    "papermill": {
     "duration": 0.011764,
     "end_time": "2024-01-05T17:20:38.517168",
     "exception": false,
     "start_time": "2024-01-05T17:20:38.505404",
     "status": "completed"
    },
    "tags": []
   },
   "outputs": [],
   "source": [
    "data = percentiles"
   ]
  },
  {
   "cell_type": "code",
   "execution_count": 16,
   "id": "9773177e-a637-41cb-b66b-42a4ffd15a33",
   "metadata": {
    "execution": {
     "iopub.execute_input": "2024-01-05T17:20:38.534187Z",
     "iopub.status.busy": "2024-01-05T17:20:38.533855Z",
     "iopub.status.idle": "2024-01-05T17:20:38.536936Z",
     "shell.execute_reply": "2024-01-05T17:20:38.536456Z"
    },
    "papermill": {
     "duration": 0.013027,
     "end_time": "2024-01-05T17:20:38.538202",
     "exception": false,
     "start_time": "2024-01-05T17:20:38.525175",
     "status": "completed"
    },
    "tags": []
   },
   "outputs": [],
   "source": [
    "# reset index to avoid problems with MultiIndex in Pandas\n",
    "if isinstance(data.index, pd.MultiIndex):\n",
    "    display(\"MultiIndex\")\n",
    "    data = data.reset_index()"
   ]
  },
  {
   "cell_type": "markdown",
   "id": "e5d04700-54cb-40c5-be15-39bc76eafd2f",
   "metadata": {
    "papermill": {
     "duration": 0.030518,
     "end_time": "2024-01-05T17:20:38.576732",
     "exception": false,
     "start_time": "2024-01-05T17:20:38.546214",
     "status": "completed"
    },
    "tags": []
   },
   "source": [
    "## Pickle"
   ]
  },
  {
   "cell_type": "code",
   "execution_count": 17,
   "id": "cda6751b-a78d-4164-b678-cd329a895011",
   "metadata": {
    "execution": {
     "iopub.execute_input": "2024-01-05T17:20:38.586364Z",
     "iopub.status.busy": "2024-01-05T17:20:38.585976Z",
     "iopub.status.idle": "2024-01-05T17:20:38.589591Z",
     "shell.execute_reply": "2024-01-05T17:20:38.589086Z"
    },
    "papermill": {
     "duration": 0.009406,
     "end_time": "2024-01-05T17:20:38.590478",
     "exception": false,
     "start_time": "2024-01-05T17:20:38.581072",
     "status": "completed"
    },
    "tags": []
   },
   "outputs": [],
   "source": [
    "data.to_pickle(OUTPUT_DIR / f\"{OUTPUT_FILENAME}.pkl.gz\")"
   ]
  },
  {
   "cell_type": "markdown",
   "id": "025e09a9-bd4f-4bc5-a69d-248d7ea8aacb",
   "metadata": {
    "papermill": {
     "duration": 0.004186,
     "end_time": "2024-01-05T17:20:38.598924",
     "exception": false,
     "start_time": "2024-01-05T17:20:38.594738",
     "status": "completed"
    },
    "tags": []
   },
   "source": [
    "## RDS"
   ]
  },
  {
   "cell_type": "code",
   "execution_count": 18,
   "id": "c850c34d-ccf3-49ef-b737-0cf040ca77fb",
   "metadata": {
    "execution": {
     "iopub.execute_input": "2024-01-05T17:20:38.608264Z",
     "iopub.status.busy": "2024-01-05T17:20:38.607959Z",
     "iopub.status.idle": "2024-01-05T17:20:38.611679Z",
     "shell.execute_reply": "2024-01-05T17:20:38.611192Z"
    },
    "papermill": {
     "duration": 0.009259,
     "end_time": "2024-01-05T17:20:38.612448",
     "exception": false,
     "start_time": "2024-01-05T17:20:38.603189",
     "status": "completed"
    },
    "tags": []
   },
   "outputs": [
    {
     "data": {
      "text/plain": [
       "PosixPath('/opt/data/supplementary_material/Supplementary_File_02-Coefficients_percentiles_GTEx_whole_blood.rds')"
      ]
     },
     "metadata": {},
     "output_type": "display_data"
    }
   ],
   "source": [
    "output_file = OUTPUT_DIR / f\"{OUTPUT_FILENAME}.rds\"\n",
    "display(output_file)"
   ]
  },
  {
   "cell_type": "code",
   "execution_count": 19,
   "id": "33c565ae-2710-4816-91d1-4376ee36a8a3",
   "metadata": {
    "execution": {
     "iopub.execute_input": "2024-01-05T17:20:38.621937Z",
     "iopub.status.busy": "2024-01-05T17:20:38.621662Z",
     "iopub.status.idle": "2024-01-05T17:20:38.629073Z",
     "shell.execute_reply": "2024-01-05T17:20:38.628569Z"
    },
    "papermill": {
     "duration": 0.013018,
     "end_time": "2024-01-05T17:20:38.629825",
     "exception": false,
     "start_time": "2024-01-05T17:20:38.616807",
     "status": "completed"
    },
    "tags": []
   },
   "outputs": [],
   "source": [
    "with localconverter(ro.default_converter + pandas2ri.converter):\n",
    "    data_r = ro.conversion.py2rpy(data)"
   ]
  },
  {
   "cell_type": "code",
   "execution_count": 20,
   "id": "91cfc710-343a-410d-9782-91eb5ca4623e",
   "metadata": {
    "execution": {
     "iopub.execute_input": "2024-01-05T17:20:38.639412Z",
     "iopub.status.busy": "2024-01-05T17:20:38.639071Z",
     "iopub.status.idle": "2024-01-05T17:20:38.643895Z",
     "shell.execute_reply": "2024-01-05T17:20:38.643422Z"
    },
    "papermill": {
     "duration": 0.01048,
     "end_time": "2024-01-05T17:20:38.644708",
     "exception": false,
     "start_time": "2024-01-05T17:20:38.634228",
     "status": "completed"
    },
    "tags": []
   },
   "outputs": [
    {
     "data": {
      "text/html": [
       "\n",
       "        <span>R/rpy2 DataFrame (101 x 3)</span>\n",
       "        <table>\n",
       "          <thead>\n",
       "            <tr>\n",
       "              \n",
       "              <th>ccc</th>\n",
       "              \n",
       "              <th>pearson</th>\n",
       "              \n",
       "              <th>spearman</th>\n",
       "              \n",
       "            </tr>\n",
       "          </thead>\n",
       "          <tbody>\n",
       "          \n",
       "          <tr>\n",
       "            \n",
       "            <td>\n",
       "              ...\n",
       "            </td>\n",
       "            \n",
       "            <td>\n",
       "              ...\n",
       "            </td>\n",
       "            \n",
       "            <td>\n",
       "              ...\n",
       "            </td>\n",
       "            \n",
       "          </tr>\n",
       "          \n",
       "          </tbody>\n",
       "        </table>\n",
       "    "
      ],
      "text/plain": [
       "<rpy2.robjects.vectors.DataFrame object at 0x78b08470bbc0> [RTYPES.VECSXP]\n",
       "R classes: ('data.frame',)\n",
       "[FloatSexpVector, FloatSexpVector, FloatSexpVector]\n",
       "  ccc: <class 'rpy2.rinterface.FloatSexpVector'>\n",
       "  <rpy2.rinterface.FloatSexpVector object at 0x78b08470b200> [RTYPES.REALSXP]\n",
       "  pearson: <class 'rpy2.rinterface.FloatSexpVector'>\n",
       "  <rpy2.rinterface.FloatSexpVector object at 0x78b0846ef300> [RTYPES.REALSXP]\n",
       "  spearman: <class 'rpy2.rinterface.FloatSexpVector'>\n",
       "  <rpy2.rinterface.FloatSexpVector object at 0x78b08470b600> [RTYPES.REALSXP]"
      ]
     },
     "execution_count": 20,
     "metadata": {},
     "output_type": "execute_result"
    }
   ],
   "source": [
    "data_r"
   ]
  },
  {
   "cell_type": "code",
   "execution_count": 21,
   "id": "a41d10b1-8cc3-4043-a8e5-9aa8b2bdd8b0",
   "metadata": {
    "execution": {
     "iopub.execute_input": "2024-01-05T17:20:38.654469Z",
     "iopub.status.busy": "2024-01-05T17:20:38.654191Z",
     "iopub.status.idle": "2024-01-05T17:20:38.658535Z",
     "shell.execute_reply": "2024-01-05T17:20:38.658067Z"
    },
    "papermill": {
     "duration": 0.010135,
     "end_time": "2024-01-05T17:20:38.659312",
     "exception": false,
     "start_time": "2024-01-05T17:20:38.649177",
     "status": "completed"
    },
    "tags": []
   },
   "outputs": [
    {
     "data": {
      "text/plain": [
       "<rpy2.rinterface_lib.sexp.NULLType object at 0x78b08513d800> [RTYPES.NILSXP]"
      ]
     },
     "execution_count": 21,
     "metadata": {},
     "output_type": "execute_result"
    }
   ],
   "source": [
    "saveRDS(data_r, str(output_file))"
   ]
  },
  {
   "cell_type": "code",
   "execution_count": 22,
   "id": "18a5dfc2-97dd-4460-9ff0-0b924556d804",
   "metadata": {
    "execution": {
     "iopub.execute_input": "2024-01-05T17:20:38.669300Z",
     "iopub.status.busy": "2024-01-05T17:20:38.669017Z",
     "iopub.status.idle": "2024-01-05T17:20:38.672087Z",
     "shell.execute_reply": "2024-01-05T17:20:38.671586Z"
    },
    "papermill": {
     "duration": 0.008995,
     "end_time": "2024-01-05T17:20:38.672826",
     "exception": false,
     "start_time": "2024-01-05T17:20:38.663831",
     "status": "completed"
    },
    "tags": []
   },
   "outputs": [],
   "source": [
    "# testing: load the rds file again\n",
    "data_r = readRDS(str(output_file))"
   ]
  },
  {
   "cell_type": "code",
   "execution_count": 23,
   "id": "e70a4d0a-4439-47c6-b422-6ae58e0ea3da",
   "metadata": {
    "execution": {
     "iopub.execute_input": "2024-01-05T17:20:38.682699Z",
     "iopub.status.busy": "2024-01-05T17:20:38.682422Z",
     "iopub.status.idle": "2024-01-05T17:20:38.687359Z",
     "shell.execute_reply": "2024-01-05T17:20:38.686883Z"
    },
    "papermill": {
     "duration": 0.010653,
     "end_time": "2024-01-05T17:20:38.688074",
     "exception": false,
     "start_time": "2024-01-05T17:20:38.677421",
     "status": "completed"
    },
    "tags": []
   },
   "outputs": [],
   "source": [
    "with localconverter(ro.default_converter + pandas2ri.converter):\n",
    "    data_again = ro.conversion.rpy2py(data_r)\n",
    "    # data_again.index = data_again.index.astype(int)"
   ]
  },
  {
   "cell_type": "code",
   "execution_count": 24,
   "id": "6e423577-e429-4ffb-b5d5-01968026c1f6",
   "metadata": {
    "execution": {
     "iopub.execute_input": "2024-01-05T17:20:38.698072Z",
     "iopub.status.busy": "2024-01-05T17:20:38.697759Z",
     "iopub.status.idle": "2024-01-05T17:20:38.701298Z",
     "shell.execute_reply": "2024-01-05T17:20:38.700814Z"
    },
    "papermill": {
     "duration": 0.009387,
     "end_time": "2024-01-05T17:20:38.702095",
     "exception": false,
     "start_time": "2024-01-05T17:20:38.692708",
     "status": "completed"
    },
    "tags": []
   },
   "outputs": [
    {
     "data": {
      "text/plain": [
       "(101, 3)"
      ]
     },
     "execution_count": 24,
     "metadata": {},
     "output_type": "execute_result"
    }
   ],
   "source": [
    "data_again.shape"
   ]
  },
  {
   "cell_type": "code",
   "execution_count": 25,
   "id": "2c7aa161-a499-4df3-aca0-2cbee5cbfa5d",
   "metadata": {
    "execution": {
     "iopub.execute_input": "2024-01-05T17:20:38.712159Z",
     "iopub.status.busy": "2024-01-05T17:20:38.711890Z",
     "iopub.status.idle": "2024-01-05T17:20:38.719431Z",
     "shell.execute_reply": "2024-01-05T17:20:38.718958Z"
    },
    "papermill": {
     "duration": 0.013411,
     "end_time": "2024-01-05T17:20:38.720203",
     "exception": false,
     "start_time": "2024-01-05T17:20:38.706792",
     "status": "completed"
    },
    "tags": []
   },
   "outputs": [
    {
     "data": {
      "text/html": [
       "<div>\n",
       "<style scoped>\n",
       "    .dataframe tbody tr th:only-of-type {\n",
       "        vertical-align: middle;\n",
       "    }\n",
       "\n",
       "    .dataframe tbody tr th {\n",
       "        vertical-align: top;\n",
       "    }\n",
       "\n",
       "    .dataframe thead th {\n",
       "        text-align: right;\n",
       "    }\n",
       "</style>\n",
       "<table border=\"1\" class=\"dataframe\">\n",
       "  <thead>\n",
       "    <tr style=\"text-align: right;\">\n",
       "      <th></th>\n",
       "      <th>ccc</th>\n",
       "      <th>pearson</th>\n",
       "      <th>spearman</th>\n",
       "    </tr>\n",
       "  </thead>\n",
       "  <tbody>\n",
       "    <tr>\n",
       "      <th>0.00</th>\n",
       "      <td>0.000000</td>\n",
       "      <td>1.507747e-08</td>\n",
       "      <td>1.394156e-08</td>\n",
       "    </tr>\n",
       "    <tr>\n",
       "      <th>0.01</th>\n",
       "      <td>0.003946</td>\n",
       "      <td>3.388963e-03</td>\n",
       "      <td>6.152752e-03</td>\n",
       "    </tr>\n",
       "    <tr>\n",
       "      <th>0.02</th>\n",
       "      <td>0.005268</td>\n",
       "      <td>6.768538e-03</td>\n",
       "      <td>1.227735e-02</td>\n",
       "    </tr>\n",
       "    <tr>\n",
       "      <th>0.03</th>\n",
       "      <td>0.006380</td>\n",
       "      <td>1.013848e-02</td>\n",
       "      <td>1.844244e-02</td>\n",
       "    </tr>\n",
       "    <tr>\n",
       "      <th>0.04</th>\n",
       "      <td>0.007398</td>\n",
       "      <td>1.352140e-02</td>\n",
       "      <td>2.461349e-02</td>\n",
       "    </tr>\n",
       "  </tbody>\n",
       "</table>\n",
       "</div>"
      ],
      "text/plain": [
       "           ccc       pearson      spearman\n",
       "0.00  0.000000  1.507747e-08  1.394156e-08\n",
       "0.01  0.003946  3.388963e-03  6.152752e-03\n",
       "0.02  0.005268  6.768538e-03  1.227735e-02\n",
       "0.03  0.006380  1.013848e-02  1.844244e-02\n",
       "0.04  0.007398  1.352140e-02  2.461349e-02"
      ]
     },
     "execution_count": 25,
     "metadata": {},
     "output_type": "execute_result"
    }
   ],
   "source": [
    "data_again.head()"
   ]
  },
  {
   "cell_type": "code",
   "execution_count": 26,
   "id": "efa7326e-69d6-4fa4-b6eb-5fa0b502cbb2",
   "metadata": {
    "execution": {
     "iopub.execute_input": "2024-01-05T17:20:38.730522Z",
     "iopub.status.busy": "2024-01-05T17:20:38.730241Z",
     "iopub.status.idle": "2024-01-05T17:20:38.734859Z",
     "shell.execute_reply": "2024-01-05T17:20:38.734386Z"
    },
    "papermill": {
     "duration": 0.010629,
     "end_time": "2024-01-05T17:20:38.735650",
     "exception": false,
     "start_time": "2024-01-05T17:20:38.725021",
     "status": "completed"
    },
    "tags": []
   },
   "outputs": [],
   "source": [
    "# testing\n",
    "pd.testing.assert_frame_equal(\n",
    "    data,\n",
    "    data_again.rename_axis(\"percentile\"),\n",
    "    check_dtype=False,\n",
    ")"
   ]
  },
  {
   "cell_type": "markdown",
   "id": "50b97893-b49b-42a3-a798-3c94030ab0cf",
   "metadata": {
    "papermill": {
     "duration": 0.004663,
     "end_time": "2024-01-05T17:20:38.745084",
     "exception": false,
     "start_time": "2024-01-05T17:20:38.740421",
     "status": "completed"
    },
    "tags": []
   },
   "source": [
    "## Text"
   ]
  },
  {
   "cell_type": "code",
   "execution_count": 27,
   "id": "d548aff3-b850-4050-a21d-6f00b78c280b",
   "metadata": {
    "execution": {
     "iopub.execute_input": "2024-01-05T17:20:38.755377Z",
     "iopub.status.busy": "2024-01-05T17:20:38.755079Z",
     "iopub.status.idle": "2024-01-05T17:20:38.758742Z",
     "shell.execute_reply": "2024-01-05T17:20:38.758286Z"
    },
    "papermill": {
     "duration": 0.009625,
     "end_time": "2024-01-05T17:20:38.759476",
     "exception": false,
     "start_time": "2024-01-05T17:20:38.749851",
     "status": "completed"
    },
    "tags": []
   },
   "outputs": [
    {
     "data": {
      "text/plain": [
       "PosixPath('/opt/data/supplementary_material/Supplementary_File_02-Coefficients_percentiles_GTEx_whole_blood.tsv')"
      ]
     },
     "metadata": {},
     "output_type": "display_data"
    }
   ],
   "source": [
    "# tsv format\n",
    "output_file = OUTPUT_DIR / f\"{OUTPUT_FILENAME}.tsv\"\n",
    "display(output_file)"
   ]
  },
  {
   "cell_type": "code",
   "execution_count": 28,
   "id": "19a7cc7d-924b-49be-b11e-e782a601ba28",
   "metadata": {
    "execution": {
     "iopub.execute_input": "2024-01-05T17:20:38.769913Z",
     "iopub.status.busy": "2024-01-05T17:20:38.769634Z",
     "iopub.status.idle": "2024-01-05T17:20:38.774861Z",
     "shell.execute_reply": "2024-01-05T17:20:38.774369Z"
    },
    "papermill": {
     "duration": 0.01129,
     "end_time": "2024-01-05T17:20:38.775613",
     "exception": false,
     "start_time": "2024-01-05T17:20:38.764323",
     "status": "completed"
    },
    "tags": []
   },
   "outputs": [],
   "source": [
    "data.to_csv(output_file, sep=\"\\t\", index=True, float_format=\"%.5e\")"
   ]
  },
  {
   "cell_type": "code",
   "execution_count": 29,
   "id": "84321ddb-8e26-4d5e-93e1-7e1fdfaefefb",
   "metadata": {
    "execution": {
     "iopub.execute_input": "2024-01-05T17:20:38.786158Z",
     "iopub.status.busy": "2024-01-05T17:20:38.785856Z",
     "iopub.status.idle": "2024-01-05T17:20:38.791506Z",
     "shell.execute_reply": "2024-01-05T17:20:38.790994Z"
    },
    "papermill": {
     "duration": 0.011946,
     "end_time": "2024-01-05T17:20:38.792393",
     "exception": false,
     "start_time": "2024-01-05T17:20:38.780447",
     "status": "completed"
    },
    "tags": []
   },
   "outputs": [],
   "source": [
    "# testing\n",
    "data2 = data  # .copy()\n",
    "# data2.index = list(range(0, data2.shape[0]))\n",
    "\n",
    "data_again = pd.read_csv(output_file, sep=\"\\t\", index_col=\"percentile\")\n",
    "data_again.index = data_again.index.map(lambda x: f\"{x:.2f}\")"
   ]
  },
  {
   "cell_type": "code",
   "execution_count": 30,
   "id": "388715f6-edd4-42a4-b1df-2aad3f580d0b",
   "metadata": {
    "execution": {
     "iopub.execute_input": "2024-01-05T17:20:38.802964Z",
     "iopub.status.busy": "2024-01-05T17:20:38.802686Z",
     "iopub.status.idle": "2024-01-05T17:20:38.806282Z",
     "shell.execute_reply": "2024-01-05T17:20:38.805804Z"
    },
    "papermill": {
     "duration": 0.009757,
     "end_time": "2024-01-05T17:20:38.807076",
     "exception": false,
     "start_time": "2024-01-05T17:20:38.797319",
     "status": "completed"
    },
    "tags": []
   },
   "outputs": [
    {
     "data": {
      "text/plain": [
       "(101, 3)"
      ]
     },
     "execution_count": 30,
     "metadata": {},
     "output_type": "execute_result"
    }
   ],
   "source": [
    "data_again.shape"
   ]
  },
  {
   "cell_type": "code",
   "execution_count": 31,
   "id": "42224f4a-523d-48f2-b78c-a131b35766bc",
   "metadata": {
    "execution": {
     "iopub.execute_input": "2024-01-05T17:20:38.817783Z",
     "iopub.status.busy": "2024-01-05T17:20:38.817491Z",
     "iopub.status.idle": "2024-01-05T17:20:38.824775Z",
     "shell.execute_reply": "2024-01-05T17:20:38.824294Z"
    },
    "papermill": {
     "duration": 0.01355,
     "end_time": "2024-01-05T17:20:38.825568",
     "exception": false,
     "start_time": "2024-01-05T17:20:38.812018",
     "status": "completed"
    },
    "tags": []
   },
   "outputs": [
    {
     "data": {
      "text/html": [
       "<div>\n",
       "<style scoped>\n",
       "    .dataframe tbody tr th:only-of-type {\n",
       "        vertical-align: middle;\n",
       "    }\n",
       "\n",
       "    .dataframe tbody tr th {\n",
       "        vertical-align: top;\n",
       "    }\n",
       "\n",
       "    .dataframe thead th {\n",
       "        text-align: right;\n",
       "    }\n",
       "</style>\n",
       "<table border=\"1\" class=\"dataframe\">\n",
       "  <thead>\n",
       "    <tr style=\"text-align: right;\">\n",
       "      <th></th>\n",
       "      <th>ccc</th>\n",
       "      <th>pearson</th>\n",
       "      <th>spearman</th>\n",
       "    </tr>\n",
       "    <tr>\n",
       "      <th>percentile</th>\n",
       "      <th></th>\n",
       "      <th></th>\n",
       "      <th></th>\n",
       "    </tr>\n",
       "  </thead>\n",
       "  <tbody>\n",
       "    <tr>\n",
       "      <th>0.00</th>\n",
       "      <td>0.000000</td>\n",
       "      <td>1.507750e-08</td>\n",
       "      <td>1.394160e-08</td>\n",
       "    </tr>\n",
       "    <tr>\n",
       "      <th>0.01</th>\n",
       "      <td>0.003946</td>\n",
       "      <td>3.388960e-03</td>\n",
       "      <td>6.152750e-03</td>\n",
       "    </tr>\n",
       "    <tr>\n",
       "      <th>0.02</th>\n",
       "      <td>0.005268</td>\n",
       "      <td>6.768540e-03</td>\n",
       "      <td>1.227740e-02</td>\n",
       "    </tr>\n",
       "    <tr>\n",
       "      <th>0.03</th>\n",
       "      <td>0.006380</td>\n",
       "      <td>1.013850e-02</td>\n",
       "      <td>1.844240e-02</td>\n",
       "    </tr>\n",
       "    <tr>\n",
       "      <th>0.04</th>\n",
       "      <td>0.007398</td>\n",
       "      <td>1.352140e-02</td>\n",
       "      <td>2.461350e-02</td>\n",
       "    </tr>\n",
       "  </tbody>\n",
       "</table>\n",
       "</div>"
      ],
      "text/plain": [
       "                 ccc       pearson      spearman\n",
       "percentile                                      \n",
       "0.00        0.000000  1.507750e-08  1.394160e-08\n",
       "0.01        0.003946  3.388960e-03  6.152750e-03\n",
       "0.02        0.005268  6.768540e-03  1.227740e-02\n",
       "0.03        0.006380  1.013850e-02  1.844240e-02\n",
       "0.04        0.007398  1.352140e-02  2.461350e-02"
      ]
     },
     "execution_count": 31,
     "metadata": {},
     "output_type": "execute_result"
    }
   ],
   "source": [
    "data_again.head()"
   ]
  },
  {
   "cell_type": "code",
   "execution_count": 32,
   "id": "d69f9e89-c489-441b-884c-7260165292db",
   "metadata": {
    "execution": {
     "iopub.execute_input": "2024-01-05T17:20:38.836610Z",
     "iopub.status.busy": "2024-01-05T17:20:38.836231Z",
     "iopub.status.idle": "2024-01-05T17:20:38.846940Z",
     "shell.execute_reply": "2024-01-05T17:20:38.846459Z"
    },
    "papermill": {
     "duration": 0.017054,
     "end_time": "2024-01-05T17:20:38.847713",
     "exception": false,
     "start_time": "2024-01-05T17:20:38.830659",
     "status": "completed"
    },
    "tags": []
   },
   "outputs": [],
   "source": [
    "# testing\n",
    "pd.testing.assert_frame_equal(\n",
    "    data2,\n",
    "    data_again,\n",
    "    check_categorical=False,\n",
    "    check_dtype=False,\n",
    ")"
   ]
  },
  {
   "cell_type": "code",
   "execution_count": null,
   "id": "25663d89-6720-40d8-946b-3bbb809f00df",
   "metadata": {
    "papermill": {
     "duration": 0.004936,
     "end_time": "2024-01-05T17:20:38.857699",
     "exception": false,
     "start_time": "2024-01-05T17:20:38.852763",
     "status": "completed"
    },
    "tags": []
   },
   "outputs": [],
   "source": []
  }
 ],
 "metadata": {
  "jupytext": {
   "cell_metadata_filter": "all,-execution,-papermill,-trusted",
   "notebook_metadata_filter": "-jupytext.text_representation.jupytext_version",
   "text_representation": {
    "extension": ".py",
    "format_name": "percent",
    "format_version": "1.3"
   }
  },
  "kernelspec": {
   "display_name": "Python 3 (ipykernel)",
   "language": "python",
   "name": "python3"
  },
  "language_info": {
   "codemirror_mode": {
    "name": "ipython",
    "version": 3
   },
   "file_extension": ".py",
   "mimetype": "text/x-python",
   "name": "python",
   "nbconvert_exporter": "python",
   "pygments_lexer": "ipython3",
   "version": "3.9.12"
  },
  "papermill": {
   "default_parameters": {},
   "duration": 6.682816,
   "end_time": "2024-01-05T17:20:39.077291",
   "environment_variables": {},
   "exception": null,
   "input_path": "nbs/99_manuscript/supplementary_files/01-supplementary_file2.ipynb",
   "output_path": "nbs/99_manuscript/supplementary_files/01-supplementary_file2.run.ipynb",
   "parameters": {},
   "start_time": "2024-01-05T17:20:32.394475",
   "version": "2.3.4"
  },
  "toc-autonumbering": true
 },
 "nbformat": 4,
 "nbformat_minor": 5
}
