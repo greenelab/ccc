{
 "cells": [
  {
   "cell_type": "markdown",
   "id": "c1948eb4-fb63-4fad-8243-bcd57b98def3",
   "metadata": {
    "papermill": {
     "duration": 0.043688,
     "end_time": "2022-01-28T21:06:31.001528",
     "exception": false,
     "start_time": "2022-01-28T21:06:30.957840",
     "status": "completed"
    },
    "tags": []
   },
   "source": [
    "# Description"
   ]
  },
  {
   "cell_type": "markdown",
   "id": "0abb1d73-c786-4c6d-9dc2-b9243e5183e2",
   "metadata": {
    "papermill": {
     "duration": 0.036913,
     "end_time": "2022-01-28T21:06:31.075451",
     "exception": false,
     "start_time": "2022-01-28T21:06:31.038538",
     "status": "completed"
    },
    "tags": []
   },
   "source": [
    "TODO"
   ]
  },
  {
   "cell_type": "markdown",
   "id": "d6252b4c-6d56-4cf0-aecd-5d8c769a3609",
   "metadata": {
    "papermill": {
     "duration": 0.036915,
     "end_time": "2022-01-28T21:06:31.149476",
     "exception": false,
     "start_time": "2022-01-28T21:06:31.112561",
     "status": "completed"
    },
    "tags": []
   },
   "source": [
    "# Modules loading"
   ]
  },
  {
   "cell_type": "code",
   "execution_count": 1,
   "id": "77e9d29d-5307-4b4a-b103-7d1fbd6a7e56",
   "metadata": {
    "papermill": {
     "duration": 0.300189,
     "end_time": "2022-01-28T21:06:31.486761",
     "exception": false,
     "start_time": "2022-01-28T21:06:31.186572",
     "status": "completed"
    },
    "tags": []
   },
   "outputs": [],
   "source": [
    "import numpy as np\n",
    "import pandas as pd\n",
    "import matplotlib.pyplot as plt\n",
    "import seaborn as sns\n",
    "\n",
    "from clustermatch import conf"
   ]
  },
  {
   "cell_type": "markdown",
   "id": "262eb535-3e5d-43d7-9efd-bd6cfdac9190",
   "metadata": {
    "papermill": {
     "duration": 0.03715,
     "end_time": "2022-01-28T21:06:31.562453",
     "exception": false,
     "start_time": "2022-01-28T21:06:31.525303",
     "status": "completed"
    },
    "tags": []
   },
   "source": [
    "# Settings"
   ]
  },
  {
   "cell_type": "code",
   "execution_count": 2,
   "id": "6efda92a-579a-49e2-893f-ec3a40db8a26",
   "metadata": {},
   "outputs": [],
   "source": [
    "INPUT_FILENAME_TEMPLATE = \"time_test-ccc_p_s\""
   ]
  },
  {
   "cell_type": "markdown",
   "id": "eec9bb6d-4ba2-4817-9b36-bc8e68a2beae",
   "metadata": {
    "papermill": {
     "duration": 0.037221,
     "end_time": "2022-01-28T21:06:31.718740",
     "exception": false,
     "start_time": "2022-01-28T21:06:31.681519",
     "status": "completed"
    },
    "tags": []
   },
   "source": [
    "# Paths"
   ]
  },
  {
   "cell_type": "code",
   "execution_count": 3,
   "id": "413010af-a3b0-45a0-adb8-8559c06d228c",
   "metadata": {
    "papermill": {
     "duration": 0.085709,
     "end_time": "2021-12-21T20:13:39.269702",
     "exception": false,
     "start_time": "2021-12-21T20:13:39.183993",
     "status": "completed"
    },
    "tags": []
   },
   "outputs": [],
   "source": [
    "assert (\n",
    "    conf.MANUSCRIPT[\"BASE_DIR\"] is not None and conf.MANUSCRIPT[\"BASE_DIR\"].exists()\n",
    "), \"Manuscript dir not set\""
   ]
  },
  {
   "cell_type": "code",
   "execution_count": 4,
   "id": "456e7f20-5950-4cbf-8652-cf6e37fb6231",
   "metadata": {
    "papermill": {
     "duration": 0.086622,
     "end_time": "2021-12-21T20:13:39.436193",
     "exception": false,
     "start_time": "2021-12-21T20:13:39.349571",
     "status": "completed"
    },
    "tags": []
   },
   "outputs": [
    {
     "data": {
      "text/plain": [
       "PosixPath('/opt/manuscript/content/images/coefs_comp/time_test')"
      ]
     },
     "metadata": {},
     "output_type": "display_data"
    }
   ],
   "source": [
    "OUTPUT_FIGURE_DIR = (\n",
    "    conf.MANUSCRIPT[\"FIGURES_DIR\"] / \"coefs_comp\" / \"time_test\"\n",
    ")\n",
    "OUTPUT_FIGURE_DIR.mkdir(parents=True, exist_ok=True)\n",
    "display(OUTPUT_FIGURE_DIR)"
   ]
  },
  {
   "cell_type": "code",
   "execution_count": 5,
   "id": "0b5ba2a4-54a7-4853-b804-cd2e5c476466",
   "metadata": {
    "papermill": {
     "duration": 0.086622,
     "end_time": "2021-12-21T20:13:39.436193",
     "exception": false,
     "start_time": "2021-12-21T20:13:39.349571",
     "status": "completed"
    },
    "tags": []
   },
   "outputs": [
    {
     "data": {
      "text/plain": [
       "PosixPath('/opt/data/results/time_test')"
      ]
     },
     "metadata": {},
     "output_type": "display_data"
    }
   ],
   "source": [
    "INPUT_DIR = (\n",
    "    conf.RESULTS_DIR / \"time_test\"\n",
    ")\n",
    "display(INPUT_DIR)"
   ]
  },
  {
   "cell_type": "markdown",
   "id": "5b6ca2cf-6d86-48d8-aa42-5beaf6e0932b",
   "metadata": {
    "papermill": {
     "duration": 0.045283,
     "end_time": "2022-01-28T21:08:16.089335",
     "exception": false,
     "start_time": "2022-01-28T21:08:16.044052",
     "status": "completed"
    },
    "tags": []
   },
   "source": [
    "# Load results"
   ]
  },
  {
   "cell_type": "code",
   "execution_count": 6,
   "id": "d98986f3-badc-4760-8eed-e24b00ce2696",
   "metadata": {},
   "outputs": [],
   "source": [
    "time_results = pd.read_pickle(INPUT_DIR / f\"{INPUT_FILENAME_TEMPLATE}.pkl\")"
   ]
  },
  {
   "cell_type": "code",
   "execution_count": 7,
   "id": "69511566-f1cd-4d19-ab2d-48d64b1e5055",
   "metadata": {},
   "outputs": [
    {
     "data": {
      "text/plain": [
       "(210, 4)"
      ]
     },
     "execution_count": 7,
     "metadata": {},
     "output_type": "execute_result"
    }
   ],
   "source": [
    "time_results.shape"
   ]
  },
  {
   "cell_type": "code",
   "execution_count": 8,
   "id": "6fc64cc3-264e-49a7-bbf9-af255e151118",
   "metadata": {},
   "outputs": [
    {
     "data": {
      "text/html": [
       "<div>\n",
       "<style scoped>\n",
       "    .dataframe tbody tr th:only-of-type {\n",
       "        vertical-align: middle;\n",
       "    }\n",
       "\n",
       "    .dataframe tbody tr th {\n",
       "        vertical-align: top;\n",
       "    }\n",
       "\n",
       "    .dataframe thead th {\n",
       "        text-align: right;\n",
       "    }\n",
       "</style>\n",
       "<table border=\"1\" class=\"dataframe\">\n",
       "  <thead>\n",
       "    <tr style=\"text-align: right;\">\n",
       "      <th></th>\n",
       "      <th>data_size</th>\n",
       "      <th>method</th>\n",
       "      <th>time</th>\n",
       "      <th>sim</th>\n",
       "    </tr>\n",
       "  </thead>\n",
       "  <tbody>\n",
       "    <tr>\n",
       "      <th>0</th>\n",
       "      <td>100</td>\n",
       "      <td>p</td>\n",
       "      <td>0.000824</td>\n",
       "      <td>-0.066107</td>\n",
       "    </tr>\n",
       "    <tr>\n",
       "      <th>1</th>\n",
       "      <td>100</td>\n",
       "      <td>p</td>\n",
       "      <td>0.000433</td>\n",
       "      <td>-0.115117</td>\n",
       "    </tr>\n",
       "    <tr>\n",
       "      <th>2</th>\n",
       "      <td>100</td>\n",
       "      <td>p</td>\n",
       "      <td>0.000494</td>\n",
       "      <td>-0.050567</td>\n",
       "    </tr>\n",
       "    <tr>\n",
       "      <th>3</th>\n",
       "      <td>100</td>\n",
       "      <td>p</td>\n",
       "      <td>0.000284</td>\n",
       "      <td>0.215785</td>\n",
       "    </tr>\n",
       "    <tr>\n",
       "      <th>4</th>\n",
       "      <td>100</td>\n",
       "      <td>p</td>\n",
       "      <td>0.000248</td>\n",
       "      <td>0.020045</td>\n",
       "    </tr>\n",
       "  </tbody>\n",
       "</table>\n",
       "</div>"
      ],
      "text/plain": [
       "  data_size method      time       sim\n",
       "0       100      p  0.000824 -0.066107\n",
       "1       100      p  0.000433 -0.115117\n",
       "2       100      p  0.000494 -0.050567\n",
       "3       100      p  0.000284  0.215785\n",
       "4       100      p  0.000248  0.020045"
      ]
     },
     "execution_count": 8,
     "metadata": {},
     "output_type": "execute_result"
    }
   ],
   "source": [
    "time_results.head()"
   ]
  },
  {
   "cell_type": "markdown",
   "id": "c2fdf161-71ea-4943-96af-a13612e11736",
   "metadata": {
    "papermill": {
     "duration": 0.045283,
     "end_time": "2022-01-28T21:08:16.089335",
     "exception": false,
     "start_time": "2022-01-28T21:08:16.044052",
     "status": "completed"
    },
    "tags": []
   },
   "source": [
    "# Processing"
   ]
  },
  {
   "cell_type": "code",
   "execution_count": 9,
   "id": "81703394-a7f1-48d6-974a-b987b4dd4c4d",
   "metadata": {},
   "outputs": [],
   "source": [
    "time_results = time_results.replace(\n",
    "    {\n",
    "        \"method\": {\n",
    "            \"p\": \"Pearson\",\n",
    "            \"s\": \"Spearman\",\n",
    "            \"cm\": \"CCC\",\n",
    "            \"mic\": \"MIC\",\n",
    "        }\n",
    "    }\n",
    ")"
   ]
  },
  {
   "cell_type": "code",
   "execution_count": 10,
   "id": "e8b96624-7b6c-4ce7-a1c7-d8f2cabab649",
   "metadata": {},
   "outputs": [
    {
     "data": {
      "text/plain": [
       "(210, 4)"
      ]
     },
     "execution_count": 10,
     "metadata": {},
     "output_type": "execute_result"
    }
   ],
   "source": [
    "time_results.shape"
   ]
  },
  {
   "cell_type": "code",
   "execution_count": 11,
   "id": "6d49c62c-1fcb-4caa-b1f4-e7a224bd3c9b",
   "metadata": {},
   "outputs": [
    {
     "data": {
      "text/html": [
       "<div>\n",
       "<style scoped>\n",
       "    .dataframe tbody tr th:only-of-type {\n",
       "        vertical-align: middle;\n",
       "    }\n",
       "\n",
       "    .dataframe tbody tr th {\n",
       "        vertical-align: top;\n",
       "    }\n",
       "\n",
       "    .dataframe thead th {\n",
       "        text-align: right;\n",
       "    }\n",
       "</style>\n",
       "<table border=\"1\" class=\"dataframe\">\n",
       "  <thead>\n",
       "    <tr style=\"text-align: right;\">\n",
       "      <th></th>\n",
       "      <th>data_size</th>\n",
       "      <th>method</th>\n",
       "      <th>time</th>\n",
       "      <th>sim</th>\n",
       "    </tr>\n",
       "  </thead>\n",
       "  <tbody>\n",
       "    <tr>\n",
       "      <th>0</th>\n",
       "      <td>100</td>\n",
       "      <td>Pearson</td>\n",
       "      <td>0.000824</td>\n",
       "      <td>-0.066107</td>\n",
       "    </tr>\n",
       "    <tr>\n",
       "      <th>1</th>\n",
       "      <td>100</td>\n",
       "      <td>Pearson</td>\n",
       "      <td>0.000433</td>\n",
       "      <td>-0.115117</td>\n",
       "    </tr>\n",
       "    <tr>\n",
       "      <th>2</th>\n",
       "      <td>100</td>\n",
       "      <td>Pearson</td>\n",
       "      <td>0.000494</td>\n",
       "      <td>-0.050567</td>\n",
       "    </tr>\n",
       "    <tr>\n",
       "      <th>3</th>\n",
       "      <td>100</td>\n",
       "      <td>Pearson</td>\n",
       "      <td>0.000284</td>\n",
       "      <td>0.215785</td>\n",
       "    </tr>\n",
       "    <tr>\n",
       "      <th>4</th>\n",
       "      <td>100</td>\n",
       "      <td>Pearson</td>\n",
       "      <td>0.000248</td>\n",
       "      <td>0.020045</td>\n",
       "    </tr>\n",
       "  </tbody>\n",
       "</table>\n",
       "</div>"
      ],
      "text/plain": [
       "  data_size   method      time       sim\n",
       "0       100  Pearson  0.000824 -0.066107\n",
       "1       100  Pearson  0.000433 -0.115117\n",
       "2       100  Pearson  0.000494 -0.050567\n",
       "3       100  Pearson  0.000284  0.215785\n",
       "4       100  Pearson  0.000248  0.020045"
      ]
     },
     "execution_count": 11,
     "metadata": {},
     "output_type": "execute_result"
    }
   ],
   "source": [
    "time_results.head()"
   ]
  },
  {
   "cell_type": "code",
   "execution_count": 12,
   "id": "e1279b36-295c-45d2-a2f1-0388161c724f",
   "metadata": {},
   "outputs": [
    {
     "data": {
      "text/html": [
       "<div>\n",
       "<style scoped>\n",
       "    .dataframe tbody tr th:only-of-type {\n",
       "        vertical-align: middle;\n",
       "    }\n",
       "\n",
       "    .dataframe tbody tr th {\n",
       "        vertical-align: top;\n",
       "    }\n",
       "\n",
       "    .dataframe thead th {\n",
       "        text-align: right;\n",
       "    }\n",
       "</style>\n",
       "<table border=\"1\" class=\"dataframe\">\n",
       "  <thead>\n",
       "    <tr style=\"text-align: right;\">\n",
       "      <th></th>\n",
       "      <th></th>\n",
       "      <th>count</th>\n",
       "      <th>mean</th>\n",
       "      <th>std</th>\n",
       "      <th>min</th>\n",
       "      <th>25%</th>\n",
       "      <th>50%</th>\n",
       "      <th>75%</th>\n",
       "      <th>max</th>\n",
       "    </tr>\n",
       "    <tr>\n",
       "      <th>data_size</th>\n",
       "      <th>method</th>\n",
       "      <th></th>\n",
       "      <th></th>\n",
       "      <th></th>\n",
       "      <th></th>\n",
       "      <th></th>\n",
       "      <th></th>\n",
       "      <th></th>\n",
       "      <th></th>\n",
       "    </tr>\n",
       "  </thead>\n",
       "  <tbody>\n",
       "    <tr>\n",
       "      <th rowspan=\"3\" valign=\"top\">100</th>\n",
       "      <th>CCC</th>\n",
       "      <td>10.0</td>\n",
       "      <td>0.021479</td>\n",
       "      <td>0.056003</td>\n",
       "      <td>0.003410</td>\n",
       "      <td>0.003717</td>\n",
       "      <td>0.003795</td>\n",
       "      <td>0.003904</td>\n",
       "      <td>0.180865</td>\n",
       "    </tr>\n",
       "    <tr>\n",
       "      <th>Pearson</th>\n",
       "      <td>10.0</td>\n",
       "      <td>0.000361</td>\n",
       "      <td>0.000189</td>\n",
       "      <td>0.000166</td>\n",
       "      <td>0.000254</td>\n",
       "      <td>0.000286</td>\n",
       "      <td>0.000413</td>\n",
       "      <td>0.000824</td>\n",
       "    </tr>\n",
       "    <tr>\n",
       "      <th>Spearman</th>\n",
       "      <td>10.0</td>\n",
       "      <td>0.001643</td>\n",
       "      <td>0.000689</td>\n",
       "      <td>0.000819</td>\n",
       "      <td>0.001099</td>\n",
       "      <td>0.001508</td>\n",
       "      <td>0.002136</td>\n",
       "      <td>0.002830</td>\n",
       "    </tr>\n",
       "    <tr>\n",
       "      <th rowspan=\"3\" valign=\"top\">500</th>\n",
       "      <th>CCC</th>\n",
       "      <td>10.0</td>\n",
       "      <td>0.008128</td>\n",
       "      <td>0.001000</td>\n",
       "      <td>0.007262</td>\n",
       "      <td>0.007491</td>\n",
       "      <td>0.007801</td>\n",
       "      <td>0.008234</td>\n",
       "      <td>0.010565</td>\n",
       "    </tr>\n",
       "    <tr>\n",
       "      <th>Pearson</th>\n",
       "      <td>10.0</td>\n",
       "      <td>0.000121</td>\n",
       "      <td>0.000036</td>\n",
       "      <td>0.000093</td>\n",
       "      <td>0.000095</td>\n",
       "      <td>0.000099</td>\n",
       "      <td>0.000148</td>\n",
       "      <td>0.000193</td>\n",
       "    </tr>\n",
       "    <tr>\n",
       "      <th>Spearman</th>\n",
       "      <td>10.0</td>\n",
       "      <td>0.000768</td>\n",
       "      <td>0.000127</td>\n",
       "      <td>0.000686</td>\n",
       "      <td>0.000689</td>\n",
       "      <td>0.000702</td>\n",
       "      <td>0.000781</td>\n",
       "      <td>0.001057</td>\n",
       "    </tr>\n",
       "    <tr>\n",
       "      <th rowspan=\"3\" valign=\"top\">1000</th>\n",
       "      <th>CCC</th>\n",
       "      <td>10.0</td>\n",
       "      <td>0.011695</td>\n",
       "      <td>0.001009</td>\n",
       "      <td>0.010720</td>\n",
       "      <td>0.010854</td>\n",
       "      <td>0.011662</td>\n",
       "      <td>0.012069</td>\n",
       "      <td>0.013989</td>\n",
       "    </tr>\n",
       "    <tr>\n",
       "      <th>Pearson</th>\n",
       "      <td>10.0</td>\n",
       "      <td>0.000143</td>\n",
       "      <td>0.000024</td>\n",
       "      <td>0.000092</td>\n",
       "      <td>0.000134</td>\n",
       "      <td>0.000142</td>\n",
       "      <td>0.000156</td>\n",
       "      <td>0.000185</td>\n",
       "    </tr>\n",
       "    <tr>\n",
       "      <th>Spearman</th>\n",
       "      <td>10.0</td>\n",
       "      <td>0.000904</td>\n",
       "      <td>0.000266</td>\n",
       "      <td>0.000716</td>\n",
       "      <td>0.000720</td>\n",
       "      <td>0.000809</td>\n",
       "      <td>0.000975</td>\n",
       "      <td>0.001571</td>\n",
       "    </tr>\n",
       "    <tr>\n",
       "      <th rowspan=\"3\" valign=\"top\">5000</th>\n",
       "      <th>CCC</th>\n",
       "      <td>10.0</td>\n",
       "      <td>0.047750</td>\n",
       "      <td>0.004024</td>\n",
       "      <td>0.042189</td>\n",
       "      <td>0.043563</td>\n",
       "      <td>0.049462</td>\n",
       "      <td>0.051099</td>\n",
       "      <td>0.052273</td>\n",
       "    </tr>\n",
       "    <tr>\n",
       "      <th>Pearson</th>\n",
       "      <td>10.0</td>\n",
       "      <td>0.000127</td>\n",
       "      <td>0.000045</td>\n",
       "      <td>0.000101</td>\n",
       "      <td>0.000102</td>\n",
       "      <td>0.000103</td>\n",
       "      <td>0.000132</td>\n",
       "      <td>0.000240</td>\n",
       "    </tr>\n",
       "    <tr>\n",
       "      <th>Spearman</th>\n",
       "      <td>10.0</td>\n",
       "      <td>0.001208</td>\n",
       "      <td>0.000109</td>\n",
       "      <td>0.001105</td>\n",
       "      <td>0.001124</td>\n",
       "      <td>0.001186</td>\n",
       "      <td>0.001239</td>\n",
       "      <td>0.001441</td>\n",
       "    </tr>\n",
       "    <tr>\n",
       "      <th rowspan=\"3\" valign=\"top\">10000</th>\n",
       "      <th>CCC</th>\n",
       "      <td>10.0</td>\n",
       "      <td>0.100912</td>\n",
       "      <td>0.009143</td>\n",
       "      <td>0.087460</td>\n",
       "      <td>0.097435</td>\n",
       "      <td>0.101225</td>\n",
       "      <td>0.105010</td>\n",
       "      <td>0.117794</td>\n",
       "    </tr>\n",
       "    <tr>\n",
       "      <th>Pearson</th>\n",
       "      <td>10.0</td>\n",
       "      <td>0.000158</td>\n",
       "      <td>0.000036</td>\n",
       "      <td>0.000125</td>\n",
       "      <td>0.000134</td>\n",
       "      <td>0.000149</td>\n",
       "      <td>0.000158</td>\n",
       "      <td>0.000236</td>\n",
       "    </tr>\n",
       "    <tr>\n",
       "      <th>Spearman</th>\n",
       "      <td>10.0</td>\n",
       "      <td>0.002388</td>\n",
       "      <td>0.000108</td>\n",
       "      <td>0.002227</td>\n",
       "      <td>0.002303</td>\n",
       "      <td>0.002371</td>\n",
       "      <td>0.002471</td>\n",
       "      <td>0.002571</td>\n",
       "    </tr>\n",
       "    <tr>\n",
       "      <th rowspan=\"3\" valign=\"top\">100000</th>\n",
       "      <th>CCC</th>\n",
       "      <td>10.0</td>\n",
       "      <td>1.106167</td>\n",
       "      <td>0.073614</td>\n",
       "      <td>1.026618</td>\n",
       "      <td>1.054651</td>\n",
       "      <td>1.082907</td>\n",
       "      <td>1.126543</td>\n",
       "      <td>1.241909</td>\n",
       "    </tr>\n",
       "    <tr>\n",
       "      <th>Pearson</th>\n",
       "      <td>10.0</td>\n",
       "      <td>0.001521</td>\n",
       "      <td>0.000243</td>\n",
       "      <td>0.001315</td>\n",
       "      <td>0.001342</td>\n",
       "      <td>0.001441</td>\n",
       "      <td>0.001638</td>\n",
       "      <td>0.002097</td>\n",
       "    </tr>\n",
       "    <tr>\n",
       "      <th>Spearman</th>\n",
       "      <td>10.0</td>\n",
       "      <td>0.029060</td>\n",
       "      <td>0.002711</td>\n",
       "      <td>0.025162</td>\n",
       "      <td>0.028210</td>\n",
       "      <td>0.028706</td>\n",
       "      <td>0.030770</td>\n",
       "      <td>0.033448</td>\n",
       "    </tr>\n",
       "    <tr>\n",
       "      <th rowspan=\"3\" valign=\"top\">1000000</th>\n",
       "      <th>CCC</th>\n",
       "      <td>10.0</td>\n",
       "      <td>13.359596</td>\n",
       "      <td>0.449312</td>\n",
       "      <td>12.391216</td>\n",
       "      <td>13.150147</td>\n",
       "      <td>13.425279</td>\n",
       "      <td>13.625976</td>\n",
       "      <td>13.931165</td>\n",
       "    </tr>\n",
       "    <tr>\n",
       "      <th>Pearson</th>\n",
       "      <td>10.0</td>\n",
       "      <td>0.014881</td>\n",
       "      <td>0.001366</td>\n",
       "      <td>0.013062</td>\n",
       "      <td>0.013667</td>\n",
       "      <td>0.014961</td>\n",
       "      <td>0.015683</td>\n",
       "      <td>0.017308</td>\n",
       "    </tr>\n",
       "    <tr>\n",
       "      <th>Spearman</th>\n",
       "      <td>10.0</td>\n",
       "      <td>0.381825</td>\n",
       "      <td>0.022766</td>\n",
       "      <td>0.354489</td>\n",
       "      <td>0.365370</td>\n",
       "      <td>0.373809</td>\n",
       "      <td>0.394252</td>\n",
       "      <td>0.422251</td>\n",
       "    </tr>\n",
       "  </tbody>\n",
       "</table>\n",
       "</div>"
      ],
      "text/plain": [
       "                    count       mean       std        min        25%  \\\n",
       "data_size method                                                       \n",
       "100       CCC        10.0   0.021479  0.056003   0.003410   0.003717   \n",
       "          Pearson    10.0   0.000361  0.000189   0.000166   0.000254   \n",
       "          Spearman   10.0   0.001643  0.000689   0.000819   0.001099   \n",
       "500       CCC        10.0   0.008128  0.001000   0.007262   0.007491   \n",
       "          Pearson    10.0   0.000121  0.000036   0.000093   0.000095   \n",
       "          Spearman   10.0   0.000768  0.000127   0.000686   0.000689   \n",
       "1000      CCC        10.0   0.011695  0.001009   0.010720   0.010854   \n",
       "          Pearson    10.0   0.000143  0.000024   0.000092   0.000134   \n",
       "          Spearman   10.0   0.000904  0.000266   0.000716   0.000720   \n",
       "5000      CCC        10.0   0.047750  0.004024   0.042189   0.043563   \n",
       "          Pearson    10.0   0.000127  0.000045   0.000101   0.000102   \n",
       "          Spearman   10.0   0.001208  0.000109   0.001105   0.001124   \n",
       "10000     CCC        10.0   0.100912  0.009143   0.087460   0.097435   \n",
       "          Pearson    10.0   0.000158  0.000036   0.000125   0.000134   \n",
       "          Spearman   10.0   0.002388  0.000108   0.002227   0.002303   \n",
       "100000    CCC        10.0   1.106167  0.073614   1.026618   1.054651   \n",
       "          Pearson    10.0   0.001521  0.000243   0.001315   0.001342   \n",
       "          Spearman   10.0   0.029060  0.002711   0.025162   0.028210   \n",
       "1000000   CCC        10.0  13.359596  0.449312  12.391216  13.150147   \n",
       "          Pearson    10.0   0.014881  0.001366   0.013062   0.013667   \n",
       "          Spearman   10.0   0.381825  0.022766   0.354489   0.365370   \n",
       "\n",
       "                          50%        75%        max  \n",
       "data_size method                                     \n",
       "100       CCC        0.003795   0.003904   0.180865  \n",
       "          Pearson    0.000286   0.000413   0.000824  \n",
       "          Spearman   0.001508   0.002136   0.002830  \n",
       "500       CCC        0.007801   0.008234   0.010565  \n",
       "          Pearson    0.000099   0.000148   0.000193  \n",
       "          Spearman   0.000702   0.000781   0.001057  \n",
       "1000      CCC        0.011662   0.012069   0.013989  \n",
       "          Pearson    0.000142   0.000156   0.000185  \n",
       "          Spearman   0.000809   0.000975   0.001571  \n",
       "5000      CCC        0.049462   0.051099   0.052273  \n",
       "          Pearson    0.000103   0.000132   0.000240  \n",
       "          Spearman   0.001186   0.001239   0.001441  \n",
       "10000     CCC        0.101225   0.105010   0.117794  \n",
       "          Pearson    0.000149   0.000158   0.000236  \n",
       "          Spearman   0.002371   0.002471   0.002571  \n",
       "100000    CCC        1.082907   1.126543   1.241909  \n",
       "          Pearson    0.001441   0.001638   0.002097  \n",
       "          Spearman   0.028706   0.030770   0.033448  \n",
       "1000000   CCC       13.425279  13.625976  13.931165  \n",
       "          Pearson    0.014961   0.015683   0.017308  \n",
       "          Spearman   0.373809   0.394252   0.422251  "
      ]
     },
     "execution_count": 12,
     "metadata": {},
     "output_type": "execute_result"
    }
   ],
   "source": [
    "time_results.groupby([\"data_size\", \"method\"])[\"time\"].describe()"
   ]
  },
  {
   "cell_type": "markdown",
   "id": "772f2cd8-22b9-4106-93e2-1c8063370356",
   "metadata": {},
   "source": [
    "# Plot"
   ]
  },
  {
   "cell_type": "code",
   "execution_count": 13,
   "id": "3b4ffedd-661b-40da-b323-4d29f38c3b72",
   "metadata": {},
   "outputs": [],
   "source": [
    "hue_order = [\"CCC\", \"Pearson\", \"Spearman\"]"
   ]
  },
  {
   "cell_type": "code",
   "execution_count": 14,
   "id": "e3c79816-6703-4236-b55a-c6dc38d4d600",
   "metadata": {},
   "outputs": [
    {
     "data": {
      "text/html": [
       "<svg  width=\"550\" height=\"55\"><rect x=\"0\" y=\"0\" width=\"55\" height=\"55\" style=\"fill:#4c72b0;stroke-width:2;stroke:rgb(255,255,255)\"/><rect x=\"55\" y=\"0\" width=\"55\" height=\"55\" style=\"fill:#dd8452;stroke-width:2;stroke:rgb(255,255,255)\"/><rect x=\"110\" y=\"0\" width=\"55\" height=\"55\" style=\"fill:#55a868;stroke-width:2;stroke:rgb(255,255,255)\"/><rect x=\"165\" y=\"0\" width=\"55\" height=\"55\" style=\"fill:#c44e52;stroke-width:2;stroke:rgb(255,255,255)\"/><rect x=\"220\" y=\"0\" width=\"55\" height=\"55\" style=\"fill:#8172b3;stroke-width:2;stroke:rgb(255,255,255)\"/><rect x=\"275\" y=\"0\" width=\"55\" height=\"55\" style=\"fill:#937860;stroke-width:2;stroke:rgb(255,255,255)\"/><rect x=\"330\" y=\"0\" width=\"55\" height=\"55\" style=\"fill:#da8bc3;stroke-width:2;stroke:rgb(255,255,255)\"/><rect x=\"385\" y=\"0\" width=\"55\" height=\"55\" style=\"fill:#8c8c8c;stroke-width:2;stroke:rgb(255,255,255)\"/><rect x=\"440\" y=\"0\" width=\"55\" height=\"55\" style=\"fill:#ccb974;stroke-width:2;stroke:rgb(255,255,255)\"/><rect x=\"495\" y=\"0\" width=\"55\" height=\"55\" style=\"fill:#64b5cd;stroke-width:2;stroke:rgb(255,255,255)\"/></svg>"
      ],
      "text/plain": [
       "[(0.2980392156862745, 0.4470588235294118, 0.6901960784313725),\n",
       " (0.8666666666666667, 0.5176470588235295, 0.3215686274509804),\n",
       " (0.3333333333333333, 0.6588235294117647, 0.40784313725490196),\n",
       " (0.7686274509803922, 0.3058823529411765, 0.3215686274509804),\n",
       " (0.5058823529411764, 0.4470588235294118, 0.7019607843137254),\n",
       " (0.5764705882352941, 0.47058823529411764, 0.3764705882352941),\n",
       " (0.8549019607843137, 0.5450980392156862, 0.7647058823529411),\n",
       " (0.5490196078431373, 0.5490196078431373, 0.5490196078431373),\n",
       " (0.8, 0.7254901960784313, 0.4549019607843137),\n",
       " (0.39215686274509803, 0.7098039215686275, 0.803921568627451)]"
      ]
     },
     "metadata": {},
     "output_type": "display_data"
    }
   ],
   "source": [
    "deep_colors = sns.color_palette(\"deep\")\n",
    "display(deep_colors)"
   ]
  },
  {
   "cell_type": "code",
   "execution_count": 15,
   "id": "a510ec86-d961-4b38-a3f9-d624de97c4cd",
   "metadata": {},
   "outputs": [],
   "source": [
    "colors = {\n",
    "    \"CCC\": deep_colors[0],\n",
    "    \"Pearson\": deep_colors[1],\n",
    "    \"Spearman\": deep_colors[2],\n",
    "}"
   ]
  },
  {
   "cell_type": "code",
   "execution_count": 16,
   "id": "71137712-79ce-4406-b292-a7acf3709c4d",
   "metadata": {},
   "outputs": [],
   "source": [
    "plot_data = time_results[time_results[\"data_size\"] >= 1000]"
   ]
  },
  {
   "cell_type": "code",
   "execution_count": 17,
   "id": "59249512-0a19-4868-b5a0-5dc4e271c8af",
   "metadata": {},
   "outputs": [],
   "source": [
    "plot_data = plot_data.assign(\n",
    "    data_size=plot_data[\"data_size\"].apply(lambda x: f\"{int(x/1000)}k\" if x < 1000000 else f\"{int(x/1000000)}m\")\n",
    ")"
   ]
  },
  {
   "cell_type": "code",
   "execution_count": 18,
   "id": "09151d37-4dd2-4c1f-ab4a-94b4d3e79018",
   "metadata": {},
   "outputs": [
    {
     "data": {
      "image/png": "[encoded data removed]",
      "text/plain": [
       "<Figure size 432x288 with 1 Axes>"
      ]
     },
     "metadata": {
      "needs_background": "light"
     },
     "output_type": "display_data"
    }
   ],
   "source": [
    "with sns.plotting_context('paper', font_scale=1.5):\n",
    "    ax = sns.pointplot(\n",
    "        data=plot_data,\n",
    "        x='data_size',\n",
    "        y='time',\n",
    "        hue='method',\n",
    "        hue_order=hue_order,\n",
    "        palette=colors,\n",
    "        legend=False\n",
    "    )\n",
    "    sns.despine()\n",
    "    plt.legend(loc='best')\n",
    "    plt.xlabel('Number of measured objects')\n",
    "    plt.ylabel('Time (seconds)')\n",
    "    plt.tight_layout()\n",
    "    plt.savefig(\n",
    "        OUTPUT_FIGURE_DIR / f'{INPUT_FILENAME_TEMPLATE}.svg',\n",
    "        bbox_inches=\"tight\",\n",
    "        facecolor=\"white\",\n",
    "    )\n",
    "    # ax.set_yscale('log')"
   ]
  },
  {
   "cell_type": "code",
   "execution_count": 19,
   "id": "c651024b-eb30-4d50-b71c-8eaa17704acd",
   "metadata": {},
   "outputs": [
    {
     "data": {
      "image/png": "[encoded data removed]",
      "text/plain": [
       "<Figure size 432x288 with 1 Axes>"
      ]
     },
     "metadata": {
      "needs_background": "light"
     },
     "output_type": "display_data"
    }
   ],
   "source": [
    "with sns.plotting_context('paper', font_scale=1.5):\n",
    "    ax = sns.pointplot(\n",
    "        data=plot_data,\n",
    "        x='data_size',\n",
    "        y='time',\n",
    "        hue='method',\n",
    "        hue_order=hue_order,\n",
    "        palette=colors,\n",
    "        legend=False,\n",
    "    )\n",
    "    sns.despine()\n",
    "    plt.legend([],[], frameon=False)\n",
    "    plt.xlabel('Number of measured objects')\n",
    "    plt.ylabel('Time (seconds) in log scale')\n",
    "    plt.tight_layout()\n",
    "    plt.savefig(\n",
    "        OUTPUT_FIGURE_DIR / f'{INPUT_FILENAME_TEMPLATE}-log.svg',\n",
    "        bbox_inches=\"tight\",\n",
    "        facecolor=\"white\",\n",
    "    )\n",
    "    ax.set_yscale('log')"
   ]
  },
  {
   "cell_type": "code",
   "execution_count": null,
   "id": "161c5ed9-f147-4c60-9b71-251694b2c005",
   "metadata": {},
   "outputs": [],
   "source": []
  }
 ],
 "metadata": {
  "jupytext": {
   "cell_metadata_filter": "all,-execution,-papermill,-trusted",
   "text_representation": {
    "extension": ".py",
    "format_name": "percent",
    "format_version": "1.3",
    "jupytext_version": "1.11.5"
   }
  },
  "kernelspec": {
   "display_name": "Python 3 (ipykernel)",
   "language": "python",
   "name": "python3"
  },
  "language_info": {
   "codemirror_mode": {
    "name": "ipython",
    "version": 3
   },
   "file_extension": ".py",
   "mimetype": "text/x-python",
   "name": "python",
   "nbconvert_exporter": "python",
   "pygments_lexer": "ipython3",
   "version": "3.9.9"
  },
  "papermill": {
   "default_parameters": {},
   "duration": 106.874189,
   "end_time": "2022-01-28T21:08:16.453452",
   "environment_variables": {},
   "exception": null,
   "input_path": "nbs/20_comparison_others/50-combine_all.ipynb",
   "output_path": "nbs/20_comparison_others/50-combine_all.run.ipynb",
   "parameters": {
    "GTEX_TISSUE": "skin_sun_exposed_lower_leg"
   },
   "start_time": "2022-01-28T21:06:29.579263",
   "version": "2.3.3"
  }
 },
 "nbformat": 4,
 "nbformat_minor": 5
}
