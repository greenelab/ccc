{
 "cells": [
  {
   "cell_type": "markdown",
   "id": "c1948eb4-fb63-4fad-8243-bcd57b98def3",
   "metadata": {
    "papermill": {
     "duration": 0.043688,
     "end_time": "2022-01-28T21:06:31.001528",
     "exception": false,
     "start_time": "2022-01-28T21:06:30.957840",
     "status": "completed"
    },
    "tags": []
   },
   "source": [
    "# Description"
   ]
  },
  {
   "cell_type": "markdown",
   "id": "0abb1d73-c786-4c6d-9dc2-b9243e5183e2",
   "metadata": {
    "papermill": {
     "duration": 0.036913,
     "end_time": "2022-01-28T21:06:31.075451",
     "exception": false,
     "start_time": "2022-01-28T21:06:31.038538",
     "status": "completed"
    },
    "tags": []
   },
   "source": [
    "TODO"
   ]
  },
  {
   "cell_type": "markdown",
   "id": "d6252b4c-6d56-4cf0-aecd-5d8c769a3609",
   "metadata": {
    "papermill": {
     "duration": 0.036915,
     "end_time": "2022-01-28T21:06:31.149476",
     "exception": false,
     "start_time": "2022-01-28T21:06:31.112561",
     "status": "completed"
    },
    "tags": []
   },
   "source": [
    "# Modules loading"
   ]
  },
  {
   "cell_type": "code",
   "execution_count": 1,
   "id": "77e9d29d-5307-4b4a-b103-7d1fbd6a7e56",
   "metadata": {
    "papermill": {
     "duration": 0.300189,
     "end_time": "2022-01-28T21:06:31.486761",
     "exception": false,
     "start_time": "2022-01-28T21:06:31.186572",
     "status": "completed"
    },
    "tags": []
   },
   "outputs": [],
   "source": [
    "import numpy as np\n",
    "import pandas as pd\n",
    "import matplotlib.pyplot as plt\n",
    "import seaborn as sns\n",
    "\n",
    "from clustermatch import conf"
   ]
  },
  {
   "cell_type": "markdown",
   "id": "262eb535-3e5d-43d7-9efd-bd6cfdac9190",
   "metadata": {
    "papermill": {
     "duration": 0.03715,
     "end_time": "2022-01-28T21:06:31.562453",
     "exception": false,
     "start_time": "2022-01-28T21:06:31.525303",
     "status": "completed"
    },
    "tags": []
   },
   "source": [
    "# Settings"
   ]
  },
  {
   "cell_type": "code",
   "execution_count": 2,
   "id": "6efda92a-579a-49e2-893f-ec3a40db8a26",
   "metadata": {},
   "outputs": [],
   "source": [
    "INPUT_FILENAME_TEMPLATE = \"time_test\""
   ]
  },
  {
   "cell_type": "markdown",
   "id": "eec9bb6d-4ba2-4817-9b36-bc8e68a2beae",
   "metadata": {
    "papermill": {
     "duration": 0.037221,
     "end_time": "2022-01-28T21:06:31.718740",
     "exception": false,
     "start_time": "2022-01-28T21:06:31.681519",
     "status": "completed"
    },
    "tags": []
   },
   "source": [
    "# Paths"
   ]
  },
  {
   "cell_type": "code",
   "execution_count": 3,
   "id": "413010af-a3b0-45a0-adb8-8559c06d228c",
   "metadata": {
    "papermill": {
     "duration": 0.085709,
     "end_time": "2021-12-21T20:13:39.269702",
     "exception": false,
     "start_time": "2021-12-21T20:13:39.183993",
     "status": "completed"
    },
    "tags": []
   },
   "outputs": [],
   "source": [
    "assert (\n",
    "    conf.MANUSCRIPT[\"BASE_DIR\"] is not None and conf.MANUSCRIPT[\"BASE_DIR\"].exists()\n",
    "), \"Manuscript dir not set\""
   ]
  },
  {
   "cell_type": "code",
   "execution_count": 4,
   "id": "456e7f20-5950-4cbf-8652-cf6e37fb6231",
   "metadata": {
    "papermill": {
     "duration": 0.086622,
     "end_time": "2021-12-21T20:13:39.436193",
     "exception": false,
     "start_time": "2021-12-21T20:13:39.349571",
     "status": "completed"
    },
    "tags": []
   },
   "outputs": [
    {
     "data": {
      "text/plain": [
       "PosixPath('/opt/manuscript/content/images/coefs_comp/time_test')"
      ]
     },
     "metadata": {},
     "output_type": "display_data"
    }
   ],
   "source": [
    "OUTPUT_FIGURE_DIR = conf.MANUSCRIPT[\"FIGURES_DIR\"] / \"coefs_comp\" / \"time_test\"\n",
    "OUTPUT_FIGURE_DIR.mkdir(parents=True, exist_ok=True)\n",
    "display(OUTPUT_FIGURE_DIR)"
   ]
  },
  {
   "cell_type": "code",
   "execution_count": 5,
   "id": "0b5ba2a4-54a7-4853-b804-cd2e5c476466",
   "metadata": {
    "papermill": {
     "duration": 0.086622,
     "end_time": "2021-12-21T20:13:39.436193",
     "exception": false,
     "start_time": "2021-12-21T20:13:39.349571",
     "status": "completed"
    },
    "tags": []
   },
   "outputs": [
    {
     "data": {
      "text/plain": [
       "PosixPath('/opt/data/results/time_test')"
      ]
     },
     "metadata": {},
     "output_type": "display_data"
    }
   ],
   "source": [
    "INPUT_DIR = conf.RESULTS_DIR / \"time_test\"\n",
    "display(INPUT_DIR)"
   ]
  },
  {
   "cell_type": "markdown",
   "id": "5b6ca2cf-6d86-48d8-aa42-5beaf6e0932b",
   "metadata": {
    "papermill": {
     "duration": 0.045283,
     "end_time": "2022-01-28T21:08:16.089335",
     "exception": false,
     "start_time": "2022-01-28T21:08:16.044052",
     "status": "completed"
    },
    "tags": []
   },
   "source": [
    "# Load results"
   ]
  },
  {
   "cell_type": "code",
   "execution_count": 6,
   "id": "d98986f3-badc-4760-8eed-e24b00ce2696",
   "metadata": {},
   "outputs": [],
   "source": [
    "time_results = pd.read_pickle(INPUT_DIR / f\"{INPUT_FILENAME_TEMPLATE}.pkl\")"
   ]
  },
  {
   "cell_type": "code",
   "execution_count": 7,
   "id": "69511566-f1cd-4d19-ab2d-48d64b1e5055",
   "metadata": {},
   "outputs": [
    {
     "data": {
      "text/plain": [
       "(8440, 4)"
      ]
     },
     "execution_count": 7,
     "metadata": {},
     "output_type": "execute_result"
    }
   ],
   "source": [
    "time_results.shape"
   ]
  },
  {
   "cell_type": "code",
   "execution_count": 8,
   "id": "6fc64cc3-264e-49a7-bbf9-af255e151118",
   "metadata": {},
   "outputs": [
    {
     "data": {
      "text/html": [
       "<div>\n",
       "<style scoped>\n",
       "    .dataframe tbody tr th:only-of-type {\n",
       "        vertical-align: middle;\n",
       "    }\n",
       "\n",
       "    .dataframe tbody tr th {\n",
       "        vertical-align: top;\n",
       "    }\n",
       "\n",
       "    .dataframe thead th {\n",
       "        text-align: right;\n",
       "    }\n",
       "</style>\n",
       "<table border=\"1\" class=\"dataframe\">\n",
       "  <thead>\n",
       "    <tr style=\"text-align: right;\">\n",
       "      <th></th>\n",
       "      <th>data_size</th>\n",
       "      <th>method</th>\n",
       "      <th>time</th>\n",
       "      <th>sim</th>\n",
       "    </tr>\n",
       "  </thead>\n",
       "  <tbody>\n",
       "    <tr>\n",
       "      <th>0</th>\n",
       "      <td>100</td>\n",
       "      <td>p-1</td>\n",
       "      <td>0.000224</td>\n",
       "      <td>-0.115117</td>\n",
       "    </tr>\n",
       "    <tr>\n",
       "      <th>1</th>\n",
       "      <td>100</td>\n",
       "      <td>p-1</td>\n",
       "      <td>0.000099</td>\n",
       "      <td>-0.050567</td>\n",
       "    </tr>\n",
       "    <tr>\n",
       "      <th>2</th>\n",
       "      <td>100</td>\n",
       "      <td>p-1</td>\n",
       "      <td>0.000090</td>\n",
       "      <td>0.215785</td>\n",
       "    </tr>\n",
       "    <tr>\n",
       "      <th>3</th>\n",
       "      <td>100</td>\n",
       "      <td>p-1</td>\n",
       "      <td>0.000087</td>\n",
       "      <td>0.020045</td>\n",
       "    </tr>\n",
       "    <tr>\n",
       "      <th>4</th>\n",
       "      <td>100</td>\n",
       "      <td>p-1</td>\n",
       "      <td>0.000131</td>\n",
       "      <td>0.053343</td>\n",
       "    </tr>\n",
       "  </tbody>\n",
       "</table>\n",
       "</div>"
      ],
      "text/plain": [
       "  data_size method      time       sim\n",
       "0       100    p-1  0.000224 -0.115117\n",
       "1       100    p-1  0.000099 -0.050567\n",
       "2       100    p-1  0.000090  0.215785\n",
       "3       100    p-1  0.000087  0.020045\n",
       "4       100    p-1  0.000131  0.053343"
      ]
     },
     "execution_count": 8,
     "metadata": {},
     "output_type": "execute_result"
    }
   ],
   "source": [
    "time_results.head()"
   ]
  },
  {
   "cell_type": "code",
   "execution_count": 9,
   "id": "511fbab5-e6a0-47a0-8ab6-329f65719a83",
   "metadata": {},
   "outputs": [
    {
     "data": {
      "text/plain": [
       "array(['p-1', 's-1', 'cm-1', 'mic-1', 'p-3', 's-3', 'cm-3', 'mic-3'],\n",
       "      dtype=object)"
      ]
     },
     "execution_count": 9,
     "metadata": {},
     "output_type": "execute_result"
    }
   ],
   "source": [
    "time_results[\"method\"].unique()"
   ]
  },
  {
   "cell_type": "markdown",
   "id": "c2fdf161-71ea-4943-96af-a13612e11736",
   "metadata": {
    "papermill": {
     "duration": 0.045283,
     "end_time": "2022-01-28T21:08:16.089335",
     "exception": false,
     "start_time": "2022-01-28T21:08:16.044052",
     "status": "completed"
    },
    "tags": []
   },
   "source": [
    "# Processing"
   ]
  },
  {
   "cell_type": "code",
   "execution_count": 10,
   "id": "81703394-a7f1-48d6-974a-b987b4dd4c4d",
   "metadata": {},
   "outputs": [],
   "source": [
    "time_results = time_results.replace(\n",
    "    {\n",
    "        \"method\": {\n",
    "            \"p-1\": \"Pearson (1 core)\",\n",
    "            \"s-1\": \"Spearman (1 core)\",\n",
    "            \"cm-1\": \"CCC (1 core)\",\n",
    "            \"mic-1\": \"MIC (1 core)\",\n",
    "            \"p-3\": \"Pearson (3 cores)\",\n",
    "            \"s-3\": \"Spearman (3 cores)\",\n",
    "            \"cm-3\": \"CCC (3 cores)\",\n",
    "            \"mic-3\": \"MIC (3 cores)\",\n",
    "        }\n",
    "    }\n",
    ")"
   ]
  },
  {
   "cell_type": "code",
   "execution_count": 11,
   "id": "e8b96624-7b6c-4ce7-a1c7-d8f2cabab649",
   "metadata": {},
   "outputs": [
    {
     "data": {
      "text/plain": [
       "(8440, 4)"
      ]
     },
     "execution_count": 11,
     "metadata": {},
     "output_type": "execute_result"
    }
   ],
   "source": [
    "time_results.shape"
   ]
  },
  {
   "cell_type": "code",
   "execution_count": 12,
   "id": "6d49c62c-1fcb-4caa-b1f4-e7a224bd3c9b",
   "metadata": {},
   "outputs": [
    {
     "data": {
      "text/html": [
       "<div>\n",
       "<style scoped>\n",
       "    .dataframe tbody tr th:only-of-type {\n",
       "        vertical-align: middle;\n",
       "    }\n",
       "\n",
       "    .dataframe tbody tr th {\n",
       "        vertical-align: top;\n",
       "    }\n",
       "\n",
       "    .dataframe thead th {\n",
       "        text-align: right;\n",
       "    }\n",
       "</style>\n",
       "<table border=\"1\" class=\"dataframe\">\n",
       "  <thead>\n",
       "    <tr style=\"text-align: right;\">\n",
       "      <th></th>\n",
       "      <th>data_size</th>\n",
       "      <th>method</th>\n",
       "      <th>time</th>\n",
       "      <th>sim</th>\n",
       "    </tr>\n",
       "  </thead>\n",
       "  <tbody>\n",
       "    <tr>\n",
       "      <th>0</th>\n",
       "      <td>100</td>\n",
       "      <td>Pearson (1 core)</td>\n",
       "      <td>0.000224</td>\n",
       "      <td>-0.115117</td>\n",
       "    </tr>\n",
       "    <tr>\n",
       "      <th>1</th>\n",
       "      <td>100</td>\n",
       "      <td>Pearson (1 core)</td>\n",
       "      <td>0.000099</td>\n",
       "      <td>-0.050567</td>\n",
       "    </tr>\n",
       "    <tr>\n",
       "      <th>2</th>\n",
       "      <td>100</td>\n",
       "      <td>Pearson (1 core)</td>\n",
       "      <td>0.000090</td>\n",
       "      <td>0.215785</td>\n",
       "    </tr>\n",
       "    <tr>\n",
       "      <th>3</th>\n",
       "      <td>100</td>\n",
       "      <td>Pearson (1 core)</td>\n",
       "      <td>0.000087</td>\n",
       "      <td>0.020045</td>\n",
       "    </tr>\n",
       "    <tr>\n",
       "      <th>4</th>\n",
       "      <td>100</td>\n",
       "      <td>Pearson (1 core)</td>\n",
       "      <td>0.000131</td>\n",
       "      <td>0.053343</td>\n",
       "    </tr>\n",
       "  </tbody>\n",
       "</table>\n",
       "</div>"
      ],
      "text/plain": [
       "  data_size            method      time       sim\n",
       "0       100  Pearson (1 core)  0.000224 -0.115117\n",
       "1       100  Pearson (1 core)  0.000099 -0.050567\n",
       "2       100  Pearson (1 core)  0.000090  0.215785\n",
       "3       100  Pearson (1 core)  0.000087  0.020045\n",
       "4       100  Pearson (1 core)  0.000131  0.053343"
      ]
     },
     "execution_count": 12,
     "metadata": {},
     "output_type": "execute_result"
    }
   ],
   "source": [
    "time_results.head()"
   ]
  },
  {
   "cell_type": "markdown",
   "id": "8b183907-359e-473a-ac51-cb6c388c2595",
   "metadata": {},
   "source": [
    "# Run numbers"
   ]
  },
  {
   "cell_type": "code",
   "execution_count": 13,
   "id": "3eafa2a7-c008-46b9-9119-a745fe873535",
   "metadata": {},
   "outputs": [],
   "source": [
    "plot_data = time_results  # [time_results[\"data_size\"] >= 500]"
   ]
  },
  {
   "cell_type": "code",
   "execution_count": 14,
   "id": "e1279b36-295c-45d2-a2f1-0388161c724f",
   "metadata": {},
   "outputs": [
    {
     "data": {
      "text/html": [
       "<div>\n",
       "<style scoped>\n",
       "    .dataframe tbody tr th:only-of-type {\n",
       "        vertical-align: middle;\n",
       "    }\n",
       "\n",
       "    .dataframe tbody tr th {\n",
       "        vertical-align: top;\n",
       "    }\n",
       "\n",
       "    .dataframe thead th {\n",
       "        text-align: right;\n",
       "    }\n",
       "</style>\n",
       "<table border=\"1\" class=\"dataframe\">\n",
       "  <thead>\n",
       "    <tr style=\"text-align: right;\">\n",
       "      <th></th>\n",
       "      <th></th>\n",
       "      <th>count</th>\n",
       "      <th>mean</th>\n",
       "      <th>std</th>\n",
       "      <th>min</th>\n",
       "      <th>25%</th>\n",
       "      <th>50%</th>\n",
       "      <th>75%</th>\n",
       "      <th>max</th>\n",
       "    </tr>\n",
       "    <tr>\n",
       "      <th>data_size</th>\n",
       "      <th>method</th>\n",
       "      <th></th>\n",
       "      <th></th>\n",
       "      <th></th>\n",
       "      <th></th>\n",
       "      <th></th>\n",
       "      <th></th>\n",
       "      <th></th>\n",
       "      <th></th>\n",
       "    </tr>\n",
       "  </thead>\n",
       "  <tbody>\n",
       "    <tr>\n",
       "      <th rowspan=\"8\" valign=\"top\">100</th>\n",
       "      <th>CCC (1 core)</th>\n",
       "      <td>1000.0</td>\n",
       "      <td>0.003682</td>\n",
       "      <td>0.000218</td>\n",
       "      <td>0.003000</td>\n",
       "      <td>0.003583</td>\n",
       "      <td>0.003697</td>\n",
       "      <td>0.003825</td>\n",
       "      <td>0.005808</td>\n",
       "    </tr>\n",
       "    <tr>\n",
       "      <th>CCC (3 cores)</th>\n",
       "      <td>1000.0</td>\n",
       "      <td>0.002889</td>\n",
       "      <td>0.000355</td>\n",
       "      <td>0.002627</td>\n",
       "      <td>0.002786</td>\n",
       "      <td>0.002854</td>\n",
       "      <td>0.002938</td>\n",
       "      <td>0.012065</td>\n",
       "    </tr>\n",
       "    <tr>\n",
       "      <th>MIC (1 core)</th>\n",
       "      <td>1000.0</td>\n",
       "      <td>0.003202</td>\n",
       "      <td>0.000145</td>\n",
       "      <td>0.002826</td>\n",
       "      <td>0.003110</td>\n",
       "      <td>0.003195</td>\n",
       "      <td>0.003290</td>\n",
       "      <td>0.004131</td>\n",
       "    </tr>\n",
       "    <tr>\n",
       "      <th>MIC (3 cores)</th>\n",
       "      <td>1000.0</td>\n",
       "      <td>0.003217</td>\n",
       "      <td>0.000139</td>\n",
       "      <td>0.002839</td>\n",
       "      <td>0.003126</td>\n",
       "      <td>0.003215</td>\n",
       "      <td>0.003305</td>\n",
       "      <td>0.004138</td>\n",
       "    </tr>\n",
       "    <tr>\n",
       "      <th>Pearson (1 core)</th>\n",
       "      <td>1000.0</td>\n",
       "      <td>0.000077</td>\n",
       "      <td>0.000008</td>\n",
       "      <td>0.000073</td>\n",
       "      <td>0.000075</td>\n",
       "      <td>0.000075</td>\n",
       "      <td>0.000076</td>\n",
       "      <td>0.000224</td>\n",
       "    </tr>\n",
       "    <tr>\n",
       "      <th>Pearson (3 cores)</th>\n",
       "      <td>1000.0</td>\n",
       "      <td>0.000075</td>\n",
       "      <td>0.000009</td>\n",
       "      <td>0.000072</td>\n",
       "      <td>0.000073</td>\n",
       "      <td>0.000074</td>\n",
       "      <td>0.000074</td>\n",
       "      <td>0.000296</td>\n",
       "    </tr>\n",
       "    <tr>\n",
       "      <th>Spearman (1 core)</th>\n",
       "      <td>1000.0</td>\n",
       "      <td>0.000514</td>\n",
       "      <td>0.000233</td>\n",
       "      <td>0.000492</td>\n",
       "      <td>0.000498</td>\n",
       "      <td>0.000501</td>\n",
       "      <td>0.000505</td>\n",
       "      <td>0.007831</td>\n",
       "    </tr>\n",
       "    <tr>\n",
       "      <th>Spearman (3 cores)</th>\n",
       "      <td>1000.0</td>\n",
       "      <td>0.000506</td>\n",
       "      <td>0.000024</td>\n",
       "      <td>0.000492</td>\n",
       "      <td>0.000498</td>\n",
       "      <td>0.000500</td>\n",
       "      <td>0.000504</td>\n",
       "      <td>0.000828</td>\n",
       "    </tr>\n",
       "    <tr>\n",
       "      <th rowspan=\"8\" valign=\"top\">500</th>\n",
       "      <th>CCC (1 core)</th>\n",
       "      <td>10.0</td>\n",
       "      <td>0.007030</td>\n",
       "      <td>0.000167</td>\n",
       "      <td>0.006799</td>\n",
       "      <td>0.006940</td>\n",
       "      <td>0.006995</td>\n",
       "      <td>0.007055</td>\n",
       "      <td>0.007327</td>\n",
       "    </tr>\n",
       "    <tr>\n",
       "      <th>CCC (3 cores)</th>\n",
       "      <td>10.0</td>\n",
       "      <td>0.004333</td>\n",
       "      <td>0.000601</td>\n",
       "      <td>0.003629</td>\n",
       "      <td>0.003831</td>\n",
       "      <td>0.004320</td>\n",
       "      <td>0.004794</td>\n",
       "      <td>0.005375</td>\n",
       "    </tr>\n",
       "    <tr>\n",
       "      <th>MIC (1 core)</th>\n",
       "      <td>10.0</td>\n",
       "      <td>0.047231</td>\n",
       "      <td>0.000604</td>\n",
       "      <td>0.046002</td>\n",
       "      <td>0.046931</td>\n",
       "      <td>0.047248</td>\n",
       "      <td>0.047597</td>\n",
       "      <td>0.048228</td>\n",
       "    </tr>\n",
       "    <tr>\n",
       "      <th>MIC (3 cores)</th>\n",
       "      <td>10.0</td>\n",
       "      <td>0.047760</td>\n",
       "      <td>0.000945</td>\n",
       "      <td>0.045975</td>\n",
       "      <td>0.047369</td>\n",
       "      <td>0.047708</td>\n",
       "      <td>0.048311</td>\n",
       "      <td>0.049088</td>\n",
       "    </tr>\n",
       "    <tr>\n",
       "      <th>Pearson (1 core)</th>\n",
       "      <td>10.0</td>\n",
       "      <td>0.000084</td>\n",
       "      <td>0.000012</td>\n",
       "      <td>0.000079</td>\n",
       "      <td>0.000079</td>\n",
       "      <td>0.000080</td>\n",
       "      <td>0.000081</td>\n",
       "      <td>0.000117</td>\n",
       "    </tr>\n",
       "    <tr>\n",
       "      <th>Pearson (3 cores)</th>\n",
       "      <td>10.0</td>\n",
       "      <td>0.000083</td>\n",
       "      <td>0.000016</td>\n",
       "      <td>0.000076</td>\n",
       "      <td>0.000077</td>\n",
       "      <td>0.000077</td>\n",
       "      <td>0.000078</td>\n",
       "      <td>0.000129</td>\n",
       "    </tr>\n",
       "    <tr>\n",
       "      <th>Spearman (1 core)</th>\n",
       "      <td>10.0</td>\n",
       "      <td>0.000612</td>\n",
       "      <td>0.000034</td>\n",
       "      <td>0.000591</td>\n",
       "      <td>0.000592</td>\n",
       "      <td>0.000592</td>\n",
       "      <td>0.000624</td>\n",
       "      <td>0.000681</td>\n",
       "    </tr>\n",
       "    <tr>\n",
       "      <th>Spearman (3 cores)</th>\n",
       "      <td>10.0</td>\n",
       "      <td>0.000598</td>\n",
       "      <td>0.000029</td>\n",
       "      <td>0.000583</td>\n",
       "      <td>0.000585</td>\n",
       "      <td>0.000589</td>\n",
       "      <td>0.000594</td>\n",
       "      <td>0.000681</td>\n",
       "    </tr>\n",
       "    <tr>\n",
       "      <th rowspan=\"8\" valign=\"top\">1000</th>\n",
       "      <th>CCC (1 core)</th>\n",
       "      <td>10.0</td>\n",
       "      <td>0.012405</td>\n",
       "      <td>0.000245</td>\n",
       "      <td>0.011982</td>\n",
       "      <td>0.012299</td>\n",
       "      <td>0.012410</td>\n",
       "      <td>0.012534</td>\n",
       "      <td>0.012820</td>\n",
       "    </tr>\n",
       "    <tr>\n",
       "      <th>CCC (3 cores)</th>\n",
       "      <td>10.0</td>\n",
       "      <td>0.006082</td>\n",
       "      <td>0.000393</td>\n",
       "      <td>0.005641</td>\n",
       "      <td>0.005748</td>\n",
       "      <td>0.006018</td>\n",
       "      <td>0.006314</td>\n",
       "      <td>0.006779</td>\n",
       "    </tr>\n",
       "    <tr>\n",
       "      <th>MIC (1 core)</th>\n",
       "      <td>10.0</td>\n",
       "      <td>0.141399</td>\n",
       "      <td>0.001922</td>\n",
       "      <td>0.138580</td>\n",
       "      <td>0.139886</td>\n",
       "      <td>0.141466</td>\n",
       "      <td>0.142516</td>\n",
       "      <td>0.144969</td>\n",
       "    </tr>\n",
       "    <tr>\n",
       "      <th>MIC (3 cores)</th>\n",
       "      <td>10.0</td>\n",
       "      <td>0.142042</td>\n",
       "      <td>0.001968</td>\n",
       "      <td>0.139816</td>\n",
       "      <td>0.140596</td>\n",
       "      <td>0.141789</td>\n",
       "      <td>0.142807</td>\n",
       "      <td>0.146412</td>\n",
       "    </tr>\n",
       "    <tr>\n",
       "      <th>Pearson (1 core)</th>\n",
       "      <td>10.0</td>\n",
       "      <td>0.000089</td>\n",
       "      <td>0.000012</td>\n",
       "      <td>0.000083</td>\n",
       "      <td>0.000084</td>\n",
       "      <td>0.000085</td>\n",
       "      <td>0.000085</td>\n",
       "      <td>0.000123</td>\n",
       "    </tr>\n",
       "    <tr>\n",
       "      <th>Pearson (3 cores)</th>\n",
       "      <td>10.0</td>\n",
       "      <td>0.000087</td>\n",
       "      <td>0.000013</td>\n",
       "      <td>0.000081</td>\n",
       "      <td>0.000082</td>\n",
       "      <td>0.000082</td>\n",
       "      <td>0.000083</td>\n",
       "      <td>0.000124</td>\n",
       "    </tr>\n",
       "    <tr>\n",
       "      <th>Spearman (1 core)</th>\n",
       "      <td>10.0</td>\n",
       "      <td>0.000684</td>\n",
       "      <td>0.000028</td>\n",
       "      <td>0.000667</td>\n",
       "      <td>0.000670</td>\n",
       "      <td>0.000673</td>\n",
       "      <td>0.000679</td>\n",
       "      <td>0.000756</td>\n",
       "    </tr>\n",
       "    <tr>\n",
       "      <th>Spearman (3 cores)</th>\n",
       "      <td>10.0</td>\n",
       "      <td>0.000680</td>\n",
       "      <td>0.000028</td>\n",
       "      <td>0.000664</td>\n",
       "      <td>0.000664</td>\n",
       "      <td>0.000669</td>\n",
       "      <td>0.000675</td>\n",
       "      <td>0.000748</td>\n",
       "    </tr>\n",
       "    <tr>\n",
       "      <th rowspan=\"8\" valign=\"top\">5000</th>\n",
       "      <th>CCC (1 core)</th>\n",
       "      <td>10.0</td>\n",
       "      <td>0.051438</td>\n",
       "      <td>0.000752</td>\n",
       "      <td>0.050590</td>\n",
       "      <td>0.051015</td>\n",
       "      <td>0.051283</td>\n",
       "      <td>0.051557</td>\n",
       "      <td>0.053360</td>\n",
       "    </tr>\n",
       "    <tr>\n",
       "      <th>CCC (3 cores)</th>\n",
       "      <td>10.0</td>\n",
       "      <td>0.021173</td>\n",
       "      <td>0.000564</td>\n",
       "      <td>0.020683</td>\n",
       "      <td>0.020861</td>\n",
       "      <td>0.021063</td>\n",
       "      <td>0.021191</td>\n",
       "      <td>0.022687</td>\n",
       "    </tr>\n",
       "    <tr>\n",
       "      <th>MIC (1 core)</th>\n",
       "      <td>10.0</td>\n",
       "      <td>1.642672</td>\n",
       "      <td>0.004757</td>\n",
       "      <td>1.635538</td>\n",
       "      <td>1.640202</td>\n",
       "      <td>1.642140</td>\n",
       "      <td>1.645581</td>\n",
       "      <td>1.650725</td>\n",
       "    </tr>\n",
       "    <tr>\n",
       "      <th>MIC (3 cores)</th>\n",
       "      <td>10.0</td>\n",
       "      <td>1.663788</td>\n",
       "      <td>0.005535</td>\n",
       "      <td>1.656867</td>\n",
       "      <td>1.660203</td>\n",
       "      <td>1.662745</td>\n",
       "      <td>1.667078</td>\n",
       "      <td>1.674023</td>\n",
       "    </tr>\n",
       "    <tr>\n",
       "      <th>Pearson (1 core)</th>\n",
       "      <td>10.0</td>\n",
       "      <td>0.000112</td>\n",
       "      <td>0.000013</td>\n",
       "      <td>0.000107</td>\n",
       "      <td>0.000107</td>\n",
       "      <td>0.000107</td>\n",
       "      <td>0.000110</td>\n",
       "      <td>0.000150</td>\n",
       "    </tr>\n",
       "    <tr>\n",
       "      <th>Pearson (3 cores)</th>\n",
       "      <td>10.0</td>\n",
       "      <td>0.000109</td>\n",
       "      <td>0.000009</td>\n",
       "      <td>0.000105</td>\n",
       "      <td>0.000106</td>\n",
       "      <td>0.000106</td>\n",
       "      <td>0.000107</td>\n",
       "      <td>0.000134</td>\n",
       "    </tr>\n",
       "    <tr>\n",
       "      <th>Spearman (1 core)</th>\n",
       "      <td>10.0</td>\n",
       "      <td>0.001318</td>\n",
       "      <td>0.000040</td>\n",
       "      <td>0.001283</td>\n",
       "      <td>0.001297</td>\n",
       "      <td>0.001304</td>\n",
       "      <td>0.001323</td>\n",
       "      <td>0.001423</td>\n",
       "    </tr>\n",
       "    <tr>\n",
       "      <th>Spearman (3 cores)</th>\n",
       "      <td>10.0</td>\n",
       "      <td>0.001319</td>\n",
       "      <td>0.000030</td>\n",
       "      <td>0.001283</td>\n",
       "      <td>0.001293</td>\n",
       "      <td>0.001320</td>\n",
       "      <td>0.001335</td>\n",
       "      <td>0.001382</td>\n",
       "    </tr>\n",
       "    <tr>\n",
       "      <th rowspan=\"8\" valign=\"top\">10000</th>\n",
       "      <th>CCC (1 core)</th>\n",
       "      <td>10.0</td>\n",
       "      <td>0.102987</td>\n",
       "      <td>0.001128</td>\n",
       "      <td>0.101346</td>\n",
       "      <td>0.102421</td>\n",
       "      <td>0.102665</td>\n",
       "      <td>0.103533</td>\n",
       "      <td>0.105501</td>\n",
       "    </tr>\n",
       "    <tr>\n",
       "      <th>CCC (3 cores)</th>\n",
       "      <td>10.0</td>\n",
       "      <td>0.040957</td>\n",
       "      <td>0.000513</td>\n",
       "      <td>0.040298</td>\n",
       "      <td>0.040712</td>\n",
       "      <td>0.040865</td>\n",
       "      <td>0.041120</td>\n",
       "      <td>0.042143</td>\n",
       "    </tr>\n",
       "    <tr>\n",
       "      <th>MIC (1 core)</th>\n",
       "      <td>10.0</td>\n",
       "      <td>6.314721</td>\n",
       "      <td>0.019199</td>\n",
       "      <td>6.294895</td>\n",
       "      <td>6.300676</td>\n",
       "      <td>6.310921</td>\n",
       "      <td>6.324007</td>\n",
       "      <td>6.357097</td>\n",
       "    </tr>\n",
       "    <tr>\n",
       "      <th>MIC (3 cores)</th>\n",
       "      <td>10.0</td>\n",
       "      <td>6.323273</td>\n",
       "      <td>0.012966</td>\n",
       "      <td>6.299281</td>\n",
       "      <td>6.315811</td>\n",
       "      <td>6.324697</td>\n",
       "      <td>6.329564</td>\n",
       "      <td>6.347138</td>\n",
       "    </tr>\n",
       "    <tr>\n",
       "      <th>Pearson (1 core)</th>\n",
       "      <td>10.0</td>\n",
       "      <td>0.000137</td>\n",
       "      <td>0.000011</td>\n",
       "      <td>0.000132</td>\n",
       "      <td>0.000134</td>\n",
       "      <td>0.000134</td>\n",
       "      <td>0.000134</td>\n",
       "      <td>0.000167</td>\n",
       "    </tr>\n",
       "    <tr>\n",
       "      <th>Pearson (3 cores)</th>\n",
       "      <td>10.0</td>\n",
       "      <td>0.000139</td>\n",
       "      <td>0.000012</td>\n",
       "      <td>0.000133</td>\n",
       "      <td>0.000134</td>\n",
       "      <td>0.000135</td>\n",
       "      <td>0.000136</td>\n",
       "      <td>0.000172</td>\n",
       "    </tr>\n",
       "    <tr>\n",
       "      <th>Spearman (1 core)</th>\n",
       "      <td>10.0</td>\n",
       "      <td>0.002249</td>\n",
       "      <td>0.000044</td>\n",
       "      <td>0.002214</td>\n",
       "      <td>0.002227</td>\n",
       "      <td>0.002233</td>\n",
       "      <td>0.002256</td>\n",
       "      <td>0.002364</td>\n",
       "    </tr>\n",
       "    <tr>\n",
       "      <th>Spearman (3 cores)</th>\n",
       "      <td>10.0</td>\n",
       "      <td>0.002243</td>\n",
       "      <td>0.000037</td>\n",
       "      <td>0.002211</td>\n",
       "      <td>0.002224</td>\n",
       "      <td>0.002227</td>\n",
       "      <td>0.002256</td>\n",
       "      <td>0.002331</td>\n",
       "    </tr>\n",
       "    <tr>\n",
       "      <th rowspan=\"6\" valign=\"top\">100000</th>\n",
       "      <th>CCC (1 core)</th>\n",
       "      <td>10.0</td>\n",
       "      <td>1.128666</td>\n",
       "      <td>0.011489</td>\n",
       "      <td>1.116345</td>\n",
       "      <td>1.124394</td>\n",
       "      <td>1.124801</td>\n",
       "      <td>1.129572</td>\n",
       "      <td>1.156777</td>\n",
       "    </tr>\n",
       "    <tr>\n",
       "      <th>CCC (3 cores)</th>\n",
       "      <td>10.0</td>\n",
       "      <td>0.443672</td>\n",
       "      <td>0.005100</td>\n",
       "      <td>0.439134</td>\n",
       "      <td>0.441135</td>\n",
       "      <td>0.441752</td>\n",
       "      <td>0.444092</td>\n",
       "      <td>0.456187</td>\n",
       "    </tr>\n",
       "    <tr>\n",
       "      <th>Pearson (1 core)</th>\n",
       "      <td>10.0</td>\n",
       "      <td>0.002849</td>\n",
       "      <td>0.003499</td>\n",
       "      <td>0.001438</td>\n",
       "      <td>0.001448</td>\n",
       "      <td>0.001803</td>\n",
       "      <td>0.001957</td>\n",
       "      <td>0.012762</td>\n",
       "    </tr>\n",
       "    <tr>\n",
       "      <th>Pearson (3 cores)</th>\n",
       "      <td>10.0</td>\n",
       "      <td>0.001473</td>\n",
       "      <td>0.000350</td>\n",
       "      <td>0.001016</td>\n",
       "      <td>0.001171</td>\n",
       "      <td>0.001529</td>\n",
       "      <td>0.001543</td>\n",
       "      <td>0.002071</td>\n",
       "    </tr>\n",
       "    <tr>\n",
       "      <th>Spearman (1 core)</th>\n",
       "      <td>10.0</td>\n",
       "      <td>0.026674</td>\n",
       "      <td>0.000415</td>\n",
       "      <td>0.026268</td>\n",
       "      <td>0.026408</td>\n",
       "      <td>0.026549</td>\n",
       "      <td>0.026804</td>\n",
       "      <td>0.027672</td>\n",
       "    </tr>\n",
       "    <tr>\n",
       "      <th>Spearman (3 cores)</th>\n",
       "      <td>10.0</td>\n",
       "      <td>0.027076</td>\n",
       "      <td>0.000677</td>\n",
       "      <td>0.026350</td>\n",
       "      <td>0.026644</td>\n",
       "      <td>0.026857</td>\n",
       "      <td>0.027236</td>\n",
       "      <td>0.028367</td>\n",
       "    </tr>\n",
       "    <tr>\n",
       "      <th rowspan=\"6\" valign=\"top\">1000000</th>\n",
       "      <th>CCC (1 core)</th>\n",
       "      <td>10.0</td>\n",
       "      <td>13.898166</td>\n",
       "      <td>0.080063</td>\n",
       "      <td>13.850638</td>\n",
       "      <td>13.859761</td>\n",
       "      <td>13.868045</td>\n",
       "      <td>13.891719</td>\n",
       "      <td>14.114815</td>\n",
       "    </tr>\n",
       "    <tr>\n",
       "      <th>CCC (3 cores)</th>\n",
       "      <td>10.0</td>\n",
       "      <td>6.316510</td>\n",
       "      <td>0.032474</td>\n",
       "      <td>6.260043</td>\n",
       "      <td>6.297013</td>\n",
       "      <td>6.319687</td>\n",
       "      <td>6.346162</td>\n",
       "      <td>6.354711</td>\n",
       "    </tr>\n",
       "    <tr>\n",
       "      <th>Pearson (1 core)</th>\n",
       "      <td>10.0</td>\n",
       "      <td>0.013941</td>\n",
       "      <td>0.000957</td>\n",
       "      <td>0.013055</td>\n",
       "      <td>0.013179</td>\n",
       "      <td>0.013459</td>\n",
       "      <td>0.014738</td>\n",
       "      <td>0.015409</td>\n",
       "    </tr>\n",
       "    <tr>\n",
       "      <th>Pearson (3 cores)</th>\n",
       "      <td>10.0</td>\n",
       "      <td>0.013042</td>\n",
       "      <td>0.000807</td>\n",
       "      <td>0.012566</td>\n",
       "      <td>0.012620</td>\n",
       "      <td>0.012655</td>\n",
       "      <td>0.012801</td>\n",
       "      <td>0.014791</td>\n",
       "    </tr>\n",
       "    <tr>\n",
       "      <th>Spearman (1 core)</th>\n",
       "      <td>10.0</td>\n",
       "      <td>0.377482</td>\n",
       "      <td>0.003798</td>\n",
       "      <td>0.372549</td>\n",
       "      <td>0.374435</td>\n",
       "      <td>0.376711</td>\n",
       "      <td>0.381051</td>\n",
       "      <td>0.382761</td>\n",
       "    </tr>\n",
       "    <tr>\n",
       "      <th>Spearman (3 cores)</th>\n",
       "      <td>10.0</td>\n",
       "      <td>0.377317</td>\n",
       "      <td>0.003872</td>\n",
       "      <td>0.372952</td>\n",
       "      <td>0.373607</td>\n",
       "      <td>0.377087</td>\n",
       "      <td>0.380375</td>\n",
       "      <td>0.382877</td>\n",
       "    </tr>\n",
       "  </tbody>\n",
       "</table>\n",
       "</div>"
      ],
      "text/plain": [
       "                               count       mean       std        min  \\\n",
       "data_size method                                                       \n",
       "100       CCC (1 core)        1000.0   0.003682  0.000218   0.003000   \n",
       "          CCC (3 cores)       1000.0   0.002889  0.000355   0.002627   \n",
       "          MIC (1 core)        1000.0   0.003202  0.000145   0.002826   \n",
       "          MIC (3 cores)       1000.0   0.003217  0.000139   0.002839   \n",
       "          Pearson (1 core)    1000.0   0.000077  0.000008   0.000073   \n",
       "          Pearson (3 cores)   1000.0   0.000075  0.000009   0.000072   \n",
       "          Spearman (1 core)   1000.0   0.000514  0.000233   0.000492   \n",
       "          Spearman (3 cores)  1000.0   0.000506  0.000024   0.000492   \n",
       "500       CCC (1 core)          10.0   0.007030  0.000167   0.006799   \n",
       "          CCC (3 cores)         10.0   0.004333  0.000601   0.003629   \n",
       "          MIC (1 core)          10.0   0.047231  0.000604   0.046002   \n",
       "          MIC (3 cores)         10.0   0.047760  0.000945   0.045975   \n",
       "          Pearson (1 core)      10.0   0.000084  0.000012   0.000079   \n",
       "          Pearson (3 cores)     10.0   0.000083  0.000016   0.000076   \n",
       "          Spearman (1 core)     10.0   0.000612  0.000034   0.000591   \n",
       "          Spearman (3 cores)    10.0   0.000598  0.000029   0.000583   \n",
       "1000      CCC (1 core)          10.0   0.012405  0.000245   0.011982   \n",
       "          CCC (3 cores)         10.0   0.006082  0.000393   0.005641   \n",
       "          MIC (1 core)          10.0   0.141399  0.001922   0.138580   \n",
       "          MIC (3 cores)         10.0   0.142042  0.001968   0.139816   \n",
       "          Pearson (1 core)      10.0   0.000089  0.000012   0.000083   \n",
       "          Pearson (3 cores)     10.0   0.000087  0.000013   0.000081   \n",
       "          Spearman (1 core)     10.0   0.000684  0.000028   0.000667   \n",
       "          Spearman (3 cores)    10.0   0.000680  0.000028   0.000664   \n",
       "5000      CCC (1 core)          10.0   0.051438  0.000752   0.050590   \n",
       "          CCC (3 cores)         10.0   0.021173  0.000564   0.020683   \n",
       "          MIC (1 core)          10.0   1.642672  0.004757   1.635538   \n",
       "          MIC (3 cores)         10.0   1.663788  0.005535   1.656867   \n",
       "          Pearson (1 core)      10.0   0.000112  0.000013   0.000107   \n",
       "          Pearson (3 cores)     10.0   0.000109  0.000009   0.000105   \n",
       "          Spearman (1 core)     10.0   0.001318  0.000040   0.001283   \n",
       "          Spearman (3 cores)    10.0   0.001319  0.000030   0.001283   \n",
       "10000     CCC (1 core)          10.0   0.102987  0.001128   0.101346   \n",
       "          CCC (3 cores)         10.0   0.040957  0.000513   0.040298   \n",
       "          MIC (1 core)          10.0   6.314721  0.019199   6.294895   \n",
       "          MIC (3 cores)         10.0   6.323273  0.012966   6.299281   \n",
       "          Pearson (1 core)      10.0   0.000137  0.000011   0.000132   \n",
       "          Pearson (3 cores)     10.0   0.000139  0.000012   0.000133   \n",
       "          Spearman (1 core)     10.0   0.002249  0.000044   0.002214   \n",
       "          Spearman (3 cores)    10.0   0.002243  0.000037   0.002211   \n",
       "100000    CCC (1 core)          10.0   1.128666  0.011489   1.116345   \n",
       "          CCC (3 cores)         10.0   0.443672  0.005100   0.439134   \n",
       "          Pearson (1 core)      10.0   0.002849  0.003499   0.001438   \n",
       "          Pearson (3 cores)     10.0   0.001473  0.000350   0.001016   \n",
       "          Spearman (1 core)     10.0   0.026674  0.000415   0.026268   \n",
       "          Spearman (3 cores)    10.0   0.027076  0.000677   0.026350   \n",
       "1000000   CCC (1 core)          10.0  13.898166  0.080063  13.850638   \n",
       "          CCC (3 cores)         10.0   6.316510  0.032474   6.260043   \n",
       "          Pearson (1 core)      10.0   0.013941  0.000957   0.013055   \n",
       "          Pearson (3 cores)     10.0   0.013042  0.000807   0.012566   \n",
       "          Spearman (1 core)     10.0   0.377482  0.003798   0.372549   \n",
       "          Spearman (3 cores)    10.0   0.377317  0.003872   0.372952   \n",
       "\n",
       "                                    25%        50%        75%        max  \n",
       "data_size method                                                          \n",
       "100       CCC (1 core)         0.003583   0.003697   0.003825   0.005808  \n",
       "          CCC (3 cores)        0.002786   0.002854   0.002938   0.012065  \n",
       "          MIC (1 core)         0.003110   0.003195   0.003290   0.004131  \n",
       "          MIC (3 cores)        0.003126   0.003215   0.003305   0.004138  \n",
       "          Pearson (1 core)     0.000075   0.000075   0.000076   0.000224  \n",
       "          Pearson (3 cores)    0.000073   0.000074   0.000074   0.000296  \n",
       "          Spearman (1 core)    0.000498   0.000501   0.000505   0.007831  \n",
       "          Spearman (3 cores)   0.000498   0.000500   0.000504   0.000828  \n",
       "500       CCC (1 core)         0.006940   0.006995   0.007055   0.007327  \n",
       "          CCC (3 cores)        0.003831   0.004320   0.004794   0.005375  \n",
       "          MIC (1 core)         0.046931   0.047248   0.047597   0.048228  \n",
       "          MIC (3 cores)        0.047369   0.047708   0.048311   0.049088  \n",
       "          Pearson (1 core)     0.000079   0.000080   0.000081   0.000117  \n",
       "          Pearson (3 cores)    0.000077   0.000077   0.000078   0.000129  \n",
       "          Spearman (1 core)    0.000592   0.000592   0.000624   0.000681  \n",
       "          Spearman (3 cores)   0.000585   0.000589   0.000594   0.000681  \n",
       "1000      CCC (1 core)         0.012299   0.012410   0.012534   0.012820  \n",
       "          CCC (3 cores)        0.005748   0.006018   0.006314   0.006779  \n",
       "          MIC (1 core)         0.139886   0.141466   0.142516   0.144969  \n",
       "          MIC (3 cores)        0.140596   0.141789   0.142807   0.146412  \n",
       "          Pearson (1 core)     0.000084   0.000085   0.000085   0.000123  \n",
       "          Pearson (3 cores)    0.000082   0.000082   0.000083   0.000124  \n",
       "          Spearman (1 core)    0.000670   0.000673   0.000679   0.000756  \n",
       "          Spearman (3 cores)   0.000664   0.000669   0.000675   0.000748  \n",
       "5000      CCC (1 core)         0.051015   0.051283   0.051557   0.053360  \n",
       "          CCC (3 cores)        0.020861   0.021063   0.021191   0.022687  \n",
       "          MIC (1 core)         1.640202   1.642140   1.645581   1.650725  \n",
       "          MIC (3 cores)        1.660203   1.662745   1.667078   1.674023  \n",
       "          Pearson (1 core)     0.000107   0.000107   0.000110   0.000150  \n",
       "          Pearson (3 cores)    0.000106   0.000106   0.000107   0.000134  \n",
       "          Spearman (1 core)    0.001297   0.001304   0.001323   0.001423  \n",
       "          Spearman (3 cores)   0.001293   0.001320   0.001335   0.001382  \n",
       "10000     CCC (1 core)         0.102421   0.102665   0.103533   0.105501  \n",
       "          CCC (3 cores)        0.040712   0.040865   0.041120   0.042143  \n",
       "          MIC (1 core)         6.300676   6.310921   6.324007   6.357097  \n",
       "          MIC (3 cores)        6.315811   6.324697   6.329564   6.347138  \n",
       "          Pearson (1 core)     0.000134   0.000134   0.000134   0.000167  \n",
       "          Pearson (3 cores)    0.000134   0.000135   0.000136   0.000172  \n",
       "          Spearman (1 core)    0.002227   0.002233   0.002256   0.002364  \n",
       "          Spearman (3 cores)   0.002224   0.002227   0.002256   0.002331  \n",
       "100000    CCC (1 core)         1.124394   1.124801   1.129572   1.156777  \n",
       "          CCC (3 cores)        0.441135   0.441752   0.444092   0.456187  \n",
       "          Pearson (1 core)     0.001448   0.001803   0.001957   0.012762  \n",
       "          Pearson (3 cores)    0.001171   0.001529   0.001543   0.002071  \n",
       "          Spearman (1 core)    0.026408   0.026549   0.026804   0.027672  \n",
       "          Spearman (3 cores)   0.026644   0.026857   0.027236   0.028367  \n",
       "1000000   CCC (1 core)        13.859761  13.868045  13.891719  14.114815  \n",
       "          CCC (3 cores)        6.297013   6.319687   6.346162   6.354711  \n",
       "          Pearson (1 core)     0.013179   0.013459   0.014738   0.015409  \n",
       "          Pearson (3 cores)    0.012620   0.012655   0.012801   0.014791  \n",
       "          Spearman (1 core)    0.374435   0.376711   0.381051   0.382761  \n",
       "          Spearman (3 cores)   0.373607   0.377087   0.380375   0.382877  "
      ]
     },
     "metadata": {},
     "output_type": "display_data"
    }
   ],
   "source": [
    "run_numbers = plot_data.groupby([\"data_size\", \"method\"])[\"time\"].describe()\n",
    "display(run_numbers)"
   ]
  },
  {
   "cell_type": "markdown",
   "id": "772f2cd8-22b9-4106-93e2-1c8063370356",
   "metadata": {},
   "source": [
    "# Plot"
   ]
  },
  {
   "cell_type": "code",
   "execution_count": 15,
   "id": "3b4ffedd-661b-40da-b323-4d29f38c3b72",
   "metadata": {},
   "outputs": [],
   "source": [
    "hue_order = None  # [\"CCC\", \"MIC\", \"Pearson\", \"Spearman\"]"
   ]
  },
  {
   "cell_type": "code",
   "execution_count": 16,
   "id": "e3c79816-6703-4236-b55a-c6dc38d4d600",
   "metadata": {},
   "outputs": [
    {
     "data": {
      "text/html": [
       "<svg  width=\"550\" height=\"55\"><rect x=\"0\" y=\"0\" width=\"55\" height=\"55\" style=\"fill:#4c72b0;stroke-width:2;stroke:rgb(255,255,255)\"/><rect x=\"55\" y=\"0\" width=\"55\" height=\"55\" style=\"fill:#dd8452;stroke-width:2;stroke:rgb(255,255,255)\"/><rect x=\"110\" y=\"0\" width=\"55\" height=\"55\" style=\"fill:#55a868;stroke-width:2;stroke:rgb(255,255,255)\"/><rect x=\"165\" y=\"0\" width=\"55\" height=\"55\" style=\"fill:#c44e52;stroke-width:2;stroke:rgb(255,255,255)\"/><rect x=\"220\" y=\"0\" width=\"55\" height=\"55\" style=\"fill:#8172b3;stroke-width:2;stroke:rgb(255,255,255)\"/><rect x=\"275\" y=\"0\" width=\"55\" height=\"55\" style=\"fill:#937860;stroke-width:2;stroke:rgb(255,255,255)\"/><rect x=\"330\" y=\"0\" width=\"55\" height=\"55\" style=\"fill:#da8bc3;stroke-width:2;stroke:rgb(255,255,255)\"/><rect x=\"385\" y=\"0\" width=\"55\" height=\"55\" style=\"fill:#8c8c8c;stroke-width:2;stroke:rgb(255,255,255)\"/><rect x=\"440\" y=\"0\" width=\"55\" height=\"55\" style=\"fill:#ccb974;stroke-width:2;stroke:rgb(255,255,255)\"/><rect x=\"495\" y=\"0\" width=\"55\" height=\"55\" style=\"fill:#64b5cd;stroke-width:2;stroke:rgb(255,255,255)\"/></svg>"
      ],
      "text/plain": [
       "[(0.2980392156862745, 0.4470588235294118, 0.6901960784313725),\n",
       " (0.8666666666666667, 0.5176470588235295, 0.3215686274509804),\n",
       " (0.3333333333333333, 0.6588235294117647, 0.40784313725490196),\n",
       " (0.7686274509803922, 0.3058823529411765, 0.3215686274509804),\n",
       " (0.5058823529411764, 0.4470588235294118, 0.7019607843137254),\n",
       " (0.5764705882352941, 0.47058823529411764, 0.3764705882352941),\n",
       " (0.8549019607843137, 0.5450980392156862, 0.7647058823529411),\n",
       " (0.5490196078431373, 0.5490196078431373, 0.5490196078431373),\n",
       " (0.8, 0.7254901960784313, 0.4549019607843137),\n",
       " (0.39215686274509803, 0.7098039215686275, 0.803921568627451)]"
      ]
     },
     "metadata": {},
     "output_type": "display_data"
    }
   ],
   "source": [
    "deep_colors = sns.color_palette(\"deep\")\n",
    "display(deep_colors)"
   ]
  },
  {
   "cell_type": "code",
   "execution_count": 17,
   "id": "a510ec86-d961-4b38-a3f9-d624de97c4cd",
   "metadata": {},
   "outputs": [],
   "source": [
    "# colors = {\n",
    "#     \"CCC\": deep_colors[0],\n",
    "#     \"Pearson\": deep_colors[1],\n",
    "#     \"Spearman\": deep_colors[2],\n",
    "# }"
   ]
  },
  {
   "cell_type": "code",
   "execution_count": 18,
   "id": "59249512-0a19-4868-b5a0-5dc4e271c8af",
   "metadata": {},
   "outputs": [],
   "source": [
    "def format_data_size(x):\n",
    "    if x < 1000:\n",
    "        return f\"{int(x)}\"\n",
    "    elif x < 1000000:\n",
    "        return f\"{int(x/1000)}k\"\n",
    "\n",
    "    return f\"{int(x/1000000)}m\"\n",
    "\n",
    "\n",
    "plot_data = plot_data.assign(data_size=plot_data[\"data_size\"].apply(format_data_size))"
   ]
  },
  {
   "cell_type": "markdown",
   "id": "c581b4df-26fe-43e2-ba23-3595534c7ea2",
   "metadata": {},
   "source": [
    "## First analysis"
   ]
  },
  {
   "cell_type": "markdown",
   "id": "5fcb16ca-07a6-41b9-aa18-f22b84194e71",
   "metadata": {},
   "source": [
    "Here I take a look if using more than 1 core benefits methods."
   ]
  },
  {
   "cell_type": "code",
   "execution_count": 19,
   "id": "09151d37-4dd2-4c1f-ab4a-94b4d3e79018",
   "metadata": {},
   "outputs": [
    {
     "data": {
      "image/png": "[encoded data removed]",
      "text/plain": [
       "<Figure size 432x288 with 1 Axes>"
      ]
     },
     "metadata": {
      "needs_background": "light"
     },
     "output_type": "display_data"
    }
   ],
   "source": [
    "with sns.plotting_context(\"paper\", font_scale=1.5):\n",
    "    ax = sns.pointplot(\n",
    "        data=plot_data,\n",
    "        x=\"data_size\",\n",
    "        y=\"time\",\n",
    "        hue=\"method\",\n",
    "        hue_order=hue_order,\n",
    "        palette=deep_colors,\n",
    "        legend=False,\n",
    "    )\n",
    "    sns.despine()\n",
    "    plt.legend(loc=\"best\")\n",
    "    plt.xlabel(\"Number of measured objects\")\n",
    "    plt.ylabel(\"Time (seconds)\")\n",
    "    plt.tight_layout()\n",
    "    # plt.savefig(\n",
    "    #     OUTPUT_FIGURE_DIR / f\"{INPUT_FILENAME_TEMPLATE}.svg\",\n",
    "    #     bbox_inches=\"tight\",\n",
    "    #     facecolor=\"white\",\n",
    "    # )\n",
    "    # ax.set_yscale('log')"
   ]
  },
  {
   "cell_type": "code",
   "execution_count": 20,
   "id": "c651024b-eb30-4d50-b71c-8eaa17704acd",
   "metadata": {},
   "outputs": [
    {
     "data": {
      "image/png": "[encoded data removed]",
      "text/plain": [
       "<Figure size 432x288 with 1 Axes>"
      ]
     },
     "metadata": {
      "needs_background": "light"
     },
     "output_type": "display_data"
    }
   ],
   "source": [
    "with sns.plotting_context(\"paper\", font_scale=1.5):\n",
    "    ax = sns.pointplot(\n",
    "        data=plot_data,\n",
    "        x=\"data_size\",\n",
    "        y=\"time\",\n",
    "        hue=\"method\",\n",
    "        hue_order=hue_order,\n",
    "        palette=deep_colors,\n",
    "        legend=False,\n",
    "    )\n",
    "    sns.despine()\n",
    "    plt.legend([], [], frameon=False)\n",
    "    plt.xlabel(\"Number of measured objects\")\n",
    "    plt.ylabel(\"Time (seconds) in log scale\")\n",
    "    plt.tight_layout()\n",
    "    # plt.savefig(\n",
    "    #     OUTPUT_FIGURE_DIR / f\"{INPUT_FILENAME_TEMPLATE}-log.svg\",\n",
    "    #     bbox_inches=\"tight\",\n",
    "    #     facecolor=\"white\",\n",
    "    # )\n",
    "    ax.set_yscale(\"log\")"
   ]
  },
  {
   "cell_type": "markdown",
   "id": "d526030a-11a3-4084-bcc3-cd268d2b0599",
   "metadata": {},
   "source": [
    "Only CCC is really taking advantage of more than 1 core, so I'll remove the rest below."
   ]
  },
  {
   "cell_type": "markdown",
   "id": "610e0cef-d404-4db2-9e88-f26451e0dd87",
   "metadata": {},
   "source": [
    "# Final analysis"
   ]
  },
  {
   "cell_type": "code",
   "execution_count": 21,
   "id": "f7b788fe-666d-43ee-92d9-358c8451ada4",
   "metadata": {},
   "outputs": [],
   "source": [
    "# select runs with 3 cores for the other methods\n",
    "plot_data = plot_data.replace(\n",
    "    {\n",
    "        \"method\": {\n",
    "            \"Pearson (3 cores)\": \"Pearson\",\n",
    "            \"Spearman (3 cores)\": \"Spearman\",\n",
    "            \"MIC (3 cores)\": \"MIC\",\n",
    "        }\n",
    "    }\n",
    ")"
   ]
  },
  {
   "cell_type": "code",
   "execution_count": 22,
   "id": "c0c8b101-25bb-4891-8a6a-f6d50870f13c",
   "metadata": {},
   "outputs": [
    {
     "data": {
      "text/plain": [
       "array(['Pearson (1 core)', 'Spearman (1 core)', 'CCC (1 core)',\n",
       "       'MIC (1 core)', 'Pearson', 'Spearman', 'CCC (3 cores)', 'MIC'],\n",
       "      dtype=object)"
      ]
     },
     "execution_count": 22,
     "metadata": {},
     "output_type": "execute_result"
    }
   ],
   "source": [
    "plot_data[\"method\"].unique()"
   ]
  },
  {
   "cell_type": "code",
   "execution_count": 23,
   "id": "10d6b353-a3a8-4d69-9695-2e5a9311be86",
   "metadata": {},
   "outputs": [],
   "source": [
    "hue_order = [\"MIC\", \"CCC (1 core)\", \"CCC (3 cores)\", \"Spearman\", \"Pearson\"]"
   ]
  },
  {
   "cell_type": "code",
   "execution_count": 24,
   "id": "35488a38-3d38-48a0-8039-3cb0605e4fe1",
   "metadata": {},
   "outputs": [
    {
     "data": {
      "image/png": "[encoded data removed]",
      "text/plain": [
       "<Figure size 432x288 with 1 Axes>"
      ]
     },
     "metadata": {
      "needs_background": "light"
     },
     "output_type": "display_data"
    }
   ],
   "source": [
    "with sns.plotting_context(\"paper\", font_scale=1.5):\n",
    "    ax = sns.pointplot(\n",
    "        data=plot_data,\n",
    "        x=\"data_size\",\n",
    "        y=\"time\",\n",
    "        hue=\"method\",\n",
    "        hue_order=hue_order,\n",
    "        palette=deep_colors,\n",
    "        legend=False,\n",
    "    )\n",
    "    sns.despine()\n",
    "    plt.legend(loc=\"best\")\n",
    "    plt.xlabel(\"Number of measured objects\")\n",
    "    plt.ylabel(\"Time (seconds)\")\n",
    "    plt.tight_layout()\n",
    "    plt.savefig(\n",
    "        OUTPUT_FIGURE_DIR / f\"{INPUT_FILENAME_TEMPLATE}.svg\",\n",
    "        bbox_inches=\"tight\",\n",
    "        facecolor=\"white\",\n",
    "    )"
   ]
  },
  {
   "cell_type": "code",
   "execution_count": 25,
   "id": "f6f35635-3125-41ff-9e16-1b6b78314d20",
   "metadata": {},
   "outputs": [
    {
     "data": {
      "image/png": "[encoded data removed]",
      "text/plain": [
       "<Figure size 432x288 with 1 Axes>"
      ]
     },
     "metadata": {
      "needs_background": "light"
     },
     "output_type": "display_data"
    }
   ],
   "source": [
    "with sns.plotting_context(\"paper\", font_scale=1.5):\n",
    "    ax = sns.pointplot(\n",
    "        data=plot_data,\n",
    "        x=\"data_size\",\n",
    "        y=\"time\",\n",
    "        hue=\"method\",\n",
    "        hue_order=hue_order,\n",
    "        palette=deep_colors,\n",
    "        legend=False,\n",
    "    )\n",
    "    sns.despine()\n",
    "    plt.legend([], [], frameon=False)\n",
    "    plt.xlabel(\"Number of measured objects\")\n",
    "    plt.ylabel(\"Time (seconds) in log scale\")\n",
    "    plt.tight_layout()\n",
    "    ax.set_yscale(\"log\")\n",
    "    plt.savefig(\n",
    "        OUTPUT_FIGURE_DIR / f\"{INPUT_FILENAME_TEMPLATE}-log.svg\",\n",
    "        bbox_inches=\"tight\",\n",
    "        facecolor=\"white\",\n",
    "    )"
   ]
  },
  {
   "cell_type": "markdown",
   "id": "7725ab7d-0cfd-41d2-a537-8e96e09cfcf5",
   "metadata": {
    "papermill": {
     "duration": 0.114019,
     "end_time": "2021-12-21T20:27:03.073018",
     "exception": false,
     "start_time": "2021-12-21T20:27:02.958999",
     "status": "completed"
    },
    "tags": []
   },
   "source": [
    "# Create final figure"
   ]
  },
  {
   "cell_type": "code",
   "execution_count": 27,
   "id": "80f45a4f-c990-4204-96dc-cab0e5c6b416",
   "metadata": {},
   "outputs": [],
   "source": [
    "from svgutils.compose import Figure, SVG, Panel, Text"
   ]
  },
  {
   "cell_type": "code",
   "execution_count": 32,
   "id": "b828ba84-8ffc-419c-bc03-d993c8c76623",
   "metadata": {},
   "outputs": [],
   "source": [
    "Figure(\n",
    "    \"434.7513cm\",\n",
    "    \"135.00382cm\",\n",
    "    SVG(OUTPUT_FIGURE_DIR / \"time_test.svg\").scale(0.5),\n",
    "    SVG(OUTPUT_FIGURE_DIR / \"time_test-log.svg\").scale(0.5).move(220, 0),\n",
    ").save(OUTPUT_FIGURE_DIR / \"time_test-main.svg\")"
   ]
  },
  {
   "cell_type": "markdown",
   "id": "4a263aab-e38f-485a-92d0-f099b2dafc9d",
   "metadata": {},
   "source": [
    "Now open the file, reside to fit drawing to page, and add a white rectangle to the background."
   ]
  },
  {
   "cell_type": "markdown",
   "id": "370cc156-bcda-4b9d-a788-20a79c41847b",
   "metadata": {},
   "source": [
    "I think it's important to open the file with Inkscape and save it, just to make sure the content is right.\n",
    "Because sometimes Inkscape crashed when opening it."
   ]
  },
  {
   "cell_type": "code",
   "execution_count": null,
   "id": "4dd9bb5d-3376-4c74-8d04-5999db50509f",
   "metadata": {},
   "outputs": [],
   "source": []
  }
 ],
 "metadata": {
  "jupytext": {
   "cell_metadata_filter": "all,-execution,-papermill,-trusted"
  },
  "kernelspec": {
   "display_name": "Python 3 (ipykernel)",
   "language": "python",
   "name": "python3"
  },
  "language_info": {
   "codemirror_mode": {
    "name": "ipython",
    "version": 3
   },
   "file_extension": ".py",
   "mimetype": "text/x-python",
   "name": "python",
   "nbconvert_exporter": "python",
   "pygments_lexer": "ipython3",
   "version": "3.9.9"
  },
  "papermill": {
   "default_parameters": {},
   "duration": 106.874189,
   "end_time": "2022-01-28T21:08:16.453452",
   "environment_variables": {},
   "exception": null,
   "input_path": "nbs/20_comparison_others/50-combine_all.ipynb",
   "output_path": "nbs/20_comparison_others/50-combine_all.run.ipynb",
   "parameters": {
    "GTEX_TISSUE": "skin_sun_exposed_lower_leg"
   },
   "start_time": "2022-01-28T21:06:29.579263",
   "version": "2.3.3"
  }
 },
 "nbformat": 4,
 "nbformat_minor": 5
}
