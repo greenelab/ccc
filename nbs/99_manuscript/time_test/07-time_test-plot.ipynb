{
 "cells": [
  {
   "cell_type": "markdown",
   "id": "c1948eb4-fb63-4fad-8243-bcd57b98def3",
   "metadata": {
    "papermill": {
     "duration": 0.007387,
     "end_time": "2023-09-11T14:41:55.160315",
     "exception": false,
     "start_time": "2023-09-11T14:41:55.152928",
     "status": "completed"
    },
    "tags": []
   },
   "source": [
    "# Description"
   ]
  },
  {
   "cell_type": "markdown",
   "id": "0abb1d73-c786-4c6d-9dc2-b9243e5183e2",
   "metadata": {
    "papermill": {
     "duration": 0.007252,
     "end_time": "2023-09-11T14:41:55.177573",
     "exception": false,
     "start_time": "2023-09-11T14:41:55.170321",
     "status": "completed"
    },
    "tags": []
   },
   "source": [
    "Make plots to show the computational complexity results comparing all coefficients."
   ]
  },
  {
   "cell_type": "markdown",
   "id": "d6252b4c-6d56-4cf0-aecd-5d8c769a3609",
   "metadata": {
    "papermill": {
     "duration": 0.002813,
     "end_time": "2023-09-11T14:41:55.184904",
     "exception": false,
     "start_time": "2023-09-11T14:41:55.182091",
     "status": "completed"
    },
    "tags": []
   },
   "source": [
    "# Modules loading"
   ]
  },
  {
   "cell_type": "code",
   "execution_count": 1,
   "id": "77e9d29d-5307-4b4a-b103-7d1fbd6a7e56",
   "metadata": {
    "papermill": {
     "duration": 0.289439,
     "end_time": "2023-09-11T14:41:55.476659",
     "exception": false,
     "start_time": "2023-09-11T14:41:55.187220",
     "status": "completed"
    },
    "tags": []
   },
   "outputs": [],
   "source": [
    "import pandas as pd\n",
    "import matplotlib.pyplot as plt\n",
    "import seaborn as sns\n",
    "\n",
    "from ccc import conf"
   ]
  },
  {
   "cell_type": "markdown",
   "id": "262eb535-3e5d-43d7-9efd-bd6cfdac9190",
   "metadata": {
    "papermill": {
     "duration": 0.009772,
     "end_time": "2023-09-11T14:41:55.488764",
     "exception": false,
     "start_time": "2023-09-11T14:41:55.478992",
     "status": "completed"
    },
    "tags": []
   },
   "source": [
    "# Settings"
   ]
  },
  {
   "cell_type": "code",
   "execution_count": 2,
   "id": "6efda92a-579a-49e2-893f-ec3a40db8a26",
   "metadata": {
    "papermill": {
     "duration": 0.005213,
     "end_time": "2023-09-11T14:41:55.496697",
     "exception": false,
     "start_time": "2023-09-11T14:41:55.491484",
     "status": "completed"
    },
    "tags": []
   },
   "outputs": [],
   "source": [
    "INPUT_FILENAME_TEMPLATE = \"time_test\""
   ]
  },
  {
   "cell_type": "markdown",
   "id": "eec9bb6d-4ba2-4817-9b36-bc8e68a2beae",
   "metadata": {
    "papermill": {
     "duration": 0.001952,
     "end_time": "2023-09-11T14:41:55.500650",
     "exception": false,
     "start_time": "2023-09-11T14:41:55.498698",
     "status": "completed"
    },
    "tags": []
   },
   "source": [
    "# Paths"
   ]
  },
  {
   "cell_type": "code",
   "execution_count": 3,
   "id": "413010af-a3b0-45a0-adb8-8559c06d228c",
   "metadata": {
    "papermill": {
     "duration": 0.004166,
     "end_time": "2023-09-11T14:41:55.506776",
     "exception": false,
     "start_time": "2023-09-11T14:41:55.502610",
     "status": "completed"
    },
    "tags": []
   },
   "outputs": [],
   "source": [
    "assert (\n",
    "    conf.MANUSCRIPT[\"BASE_DIR\"] is not None and conf.MANUSCRIPT[\"BASE_DIR\"].exists()\n",
    "), \"Manuscript dir not set\""
   ]
  },
  {
   "cell_type": "code",
   "execution_count": 4,
   "id": "456e7f20-5950-4cbf-8652-cf6e37fb6231",
   "metadata": {
    "papermill": {
     "duration": 0.005116,
     "end_time": "2023-09-11T14:41:55.513851",
     "exception": false,
     "start_time": "2023-09-11T14:41:55.508735",
     "status": "completed"
    },
    "tags": []
   },
   "outputs": [
    {
     "data": {
      "text/plain": [
       "PosixPath('/opt/manuscript/content/images/coefs_comp')"
      ]
     },
     "metadata": {},
     "output_type": "display_data"
    }
   ],
   "source": [
    "COEF_COMP_DIR = conf.MANUSCRIPT[\"FIGURES_DIR\"] / \"coefs_comp\"\n",
    "COEF_COMP_DIR.mkdir(parents=True, exist_ok=True)\n",
    "display(COEF_COMP_DIR)"
   ]
  },
  {
   "cell_type": "code",
   "execution_count": 5,
   "id": "2404761b-2931-4394-914e-e2cae9990d5c",
   "metadata": {
    "papermill": {
     "duration": 0.004463,
     "end_time": "2023-09-11T14:41:55.520334",
     "exception": false,
     "start_time": "2023-09-11T14:41:55.515871",
     "status": "completed"
    },
    "tags": []
   },
   "outputs": [
    {
     "data": {
      "text/plain": [
       "PosixPath('/opt/manuscript/content/images/coefs_comp/time_test')"
      ]
     },
     "metadata": {},
     "output_type": "display_data"
    }
   ],
   "source": [
    "OUTPUT_FIGURE_DIR = COEF_COMP_DIR / \"time_test\"\n",
    "OUTPUT_FIGURE_DIR.mkdir(parents=True, exist_ok=True)\n",
    "display(OUTPUT_FIGURE_DIR)"
   ]
  },
  {
   "cell_type": "code",
   "execution_count": 6,
   "id": "0b5ba2a4-54a7-4853-b804-cd2e5c476466",
   "metadata": {
    "papermill": {
     "duration": 0.004351,
     "end_time": "2023-09-11T14:41:55.526672",
     "exception": false,
     "start_time": "2023-09-11T14:41:55.522321",
     "status": "completed"
    },
    "tags": []
   },
   "outputs": [
    {
     "data": {
      "text/plain": [
       "PosixPath('/opt/data/results/time_test')"
      ]
     },
     "metadata": {},
     "output_type": "display_data"
    }
   ],
   "source": [
    "INPUT_DIR = conf.RESULTS_DIR / \"time_test\"\n",
    "display(INPUT_DIR)"
   ]
  },
  {
   "cell_type": "markdown",
   "id": "5b6ca2cf-6d86-48d8-aa42-5beaf6e0932b",
   "metadata": {
    "papermill": {
     "duration": 0.001954,
     "end_time": "2023-09-11T14:41:55.530644",
     "exception": false,
     "start_time": "2023-09-11T14:41:55.528690",
     "status": "completed"
    },
    "tags": []
   },
   "source": [
    "# Load results"
   ]
  },
  {
   "cell_type": "code",
   "execution_count": 7,
   "id": "d98986f3-badc-4760-8eed-e24b00ce2696",
   "metadata": {
    "papermill": {
     "duration": 0.004893,
     "end_time": "2023-09-11T14:41:55.537517",
     "exception": false,
     "start_time": "2023-09-11T14:41:55.532624",
     "status": "completed"
    },
    "tags": []
   },
   "outputs": [],
   "source": [
    "time_results = pd.read_pickle(INPUT_DIR / f\"{INPUT_FILENAME_TEMPLATE}.pkl\")"
   ]
  },
  {
   "cell_type": "code",
   "execution_count": 8,
   "id": "69511566-f1cd-4d19-ab2d-48d64b1e5055",
   "metadata": {
    "papermill": {
     "duration": 0.004268,
     "end_time": "2023-09-11T14:41:55.543816",
     "exception": false,
     "start_time": "2023-09-11T14:41:55.539548",
     "status": "completed"
    },
    "tags": []
   },
   "outputs": [
    {
     "data": {
      "text/plain": [
       "(10660, 4)"
      ]
     },
     "execution_count": 8,
     "metadata": {},
     "output_type": "execute_result"
    }
   ],
   "source": [
    "time_results.shape"
   ]
  },
  {
   "cell_type": "code",
   "execution_count": 9,
   "id": "6fc64cc3-264e-49a7-bbf9-af255e151118",
   "metadata": {
    "papermill": {
     "duration": 0.006185,
     "end_time": "2023-09-11T14:41:55.552053",
     "exception": false,
     "start_time": "2023-09-11T14:41:55.545868",
     "status": "completed"
    },
    "tags": []
   },
   "outputs": [
    {
     "data": {
      "text/html": [
       "<div>\n",
       "<style scoped>\n",
       "    .dataframe tbody tr th:only-of-type {\n",
       "        vertical-align: middle;\n",
       "    }\n",
       "\n",
       "    .dataframe tbody tr th {\n",
       "        vertical-align: top;\n",
       "    }\n",
       "\n",
       "    .dataframe thead th {\n",
       "        text-align: right;\n",
       "    }\n",
       "</style>\n",
       "<table border=\"1\" class=\"dataframe\">\n",
       "  <thead>\n",
       "    <tr style=\"text-align: right;\">\n",
       "      <th></th>\n",
       "      <th>data_size</th>\n",
       "      <th>method</th>\n",
       "      <th>time</th>\n",
       "      <th>sim</th>\n",
       "    </tr>\n",
       "  </thead>\n",
       "  <tbody>\n",
       "    <tr>\n",
       "      <th>0</th>\n",
       "      <td>100</td>\n",
       "      <td>p-1</td>\n",
       "      <td>0.000098</td>\n",
       "      <td>-0.085291</td>\n",
       "    </tr>\n",
       "    <tr>\n",
       "      <th>1</th>\n",
       "      <td>100</td>\n",
       "      <td>p-1</td>\n",
       "      <td>0.000035</td>\n",
       "      <td>-0.174309</td>\n",
       "    </tr>\n",
       "    <tr>\n",
       "      <th>2</th>\n",
       "      <td>100</td>\n",
       "      <td>p-1</td>\n",
       "      <td>0.000037</td>\n",
       "      <td>0.004494</td>\n",
       "    </tr>\n",
       "    <tr>\n",
       "      <th>3</th>\n",
       "      <td>100</td>\n",
       "      <td>p-1</td>\n",
       "      <td>0.000031</td>\n",
       "      <td>-0.035394</td>\n",
       "    </tr>\n",
       "    <tr>\n",
       "      <th>4</th>\n",
       "      <td>100</td>\n",
       "      <td>p-1</td>\n",
       "      <td>0.000030</td>\n",
       "      <td>0.066687</td>\n",
       "    </tr>\n",
       "  </tbody>\n",
       "</table>\n",
       "</div>"
      ],
      "text/plain": [
       "  data_size method      time       sim\n",
       "0       100    p-1  0.000098 -0.085291\n",
       "1       100    p-1  0.000035 -0.174309\n",
       "2       100    p-1  0.000037  0.004494\n",
       "3       100    p-1  0.000031 -0.035394\n",
       "4       100    p-1  0.000030  0.066687"
      ]
     },
     "execution_count": 9,
     "metadata": {},
     "output_type": "execute_result"
    }
   ],
   "source": [
    "time_results.head()"
   ]
  },
  {
   "cell_type": "code",
   "execution_count": 10,
   "id": "511fbab5-e6a0-47a0-8ab6-329f65719a83",
   "metadata": {
    "papermill": {
     "duration": 0.004724,
     "end_time": "2023-09-11T14:41:55.558865",
     "exception": false,
     "start_time": "2023-09-11T14:41:55.554141",
     "status": "completed"
    },
    "tags": []
   },
   "outputs": [
    {
     "data": {
      "text/plain": [
       "array(['p-1', 's-1', 'cm-1', 'mic_e-1', 'mic-1', 'p-3', 's-3', 'cm-3',\n",
       "       'mic_e-3', 'mic-3'], dtype=object)"
      ]
     },
     "execution_count": 10,
     "metadata": {},
     "output_type": "execute_result"
    }
   ],
   "source": [
    "time_results[\"method\"].unique()"
   ]
  },
  {
   "cell_type": "markdown",
   "id": "c2fdf161-71ea-4943-96af-a13612e11736",
   "metadata": {
    "papermill": {
     "duration": 0.002086,
     "end_time": "2023-09-11T14:41:55.563067",
     "exception": false,
     "start_time": "2023-09-11T14:41:55.560981",
     "status": "completed"
    },
    "tags": []
   },
   "source": [
    "# Processing"
   ]
  },
  {
   "cell_type": "code",
   "execution_count": 11,
   "id": "81703394-a7f1-48d6-974a-b987b4dd4c4d",
   "metadata": {
    "papermill": {
     "duration": 0.006496,
     "end_time": "2023-09-11T14:41:55.571718",
     "exception": false,
     "start_time": "2023-09-11T14:41:55.565222",
     "status": "completed"
    },
    "tags": []
   },
   "outputs": [],
   "source": [
    "time_results = time_results.replace(\n",
    "    {\n",
    "        \"method\": {\n",
    "            \"p-1\": \"Pearson (1 core)\",\n",
    "            \"s-1\": \"Spearman (1 core)\",\n",
    "            \"cm-1\": \"CCC (1 core)\",\n",
    "            \"mic-1\": \"MIC (1 core)\",\n",
    "            \"mic_e-1\": \"MICe (1 core)\",\n",
    "            \"p-3\": \"Pearson (3 cores)\",\n",
    "            \"s-3\": \"Spearman (3 cores)\",\n",
    "            \"cm-3\": \"CCC (3 cores)\",\n",
    "            \"mic-3\": \"MIC (3 cores)\",\n",
    "            \"mic_e-3\": \"MICe (3 cores)\",\n",
    "        }\n",
    "    }\n",
    ")"
   ]
  },
  {
   "cell_type": "code",
   "execution_count": 12,
   "id": "e8b96624-7b6c-4ce7-a1c7-d8f2cabab649",
   "metadata": {
    "papermill": {
     "duration": 0.00431,
     "end_time": "2023-09-11T14:41:55.578160",
     "exception": false,
     "start_time": "2023-09-11T14:41:55.573850",
     "status": "completed"
    },
    "tags": []
   },
   "outputs": [
    {
     "data": {
      "text/plain": [
       "(10660, 4)"
      ]
     },
     "execution_count": 12,
     "metadata": {},
     "output_type": "execute_result"
    }
   ],
   "source": [
    "time_results.shape"
   ]
  },
  {
   "cell_type": "code",
   "execution_count": 13,
   "id": "6d49c62c-1fcb-4caa-b1f4-e7a224bd3c9b",
   "metadata": {
    "papermill": {
     "duration": 0.018941,
     "end_time": "2023-09-11T14:41:55.599209",
     "exception": false,
     "start_time": "2023-09-11T14:41:55.580268",
     "status": "completed"
    },
    "tags": []
   },
   "outputs": [
    {
     "data": {
      "text/html": [
       "<div>\n",
       "<style scoped>\n",
       "    .dataframe tbody tr th:only-of-type {\n",
       "        vertical-align: middle;\n",
       "    }\n",
       "\n",
       "    .dataframe tbody tr th {\n",
       "        vertical-align: top;\n",
       "    }\n",
       "\n",
       "    .dataframe thead th {\n",
       "        text-align: right;\n",
       "    }\n",
       "</style>\n",
       "<table border=\"1\" class=\"dataframe\">\n",
       "  <thead>\n",
       "    <tr style=\"text-align: right;\">\n",
       "      <th></th>\n",
       "      <th>data_size</th>\n",
       "      <th>method</th>\n",
       "      <th>time</th>\n",
       "      <th>sim</th>\n",
       "    </tr>\n",
       "  </thead>\n",
       "  <tbody>\n",
       "    <tr>\n",
       "      <th>0</th>\n",
       "      <td>100</td>\n",
       "      <td>Pearson (1 core)</td>\n",
       "      <td>0.000098</td>\n",
       "      <td>-0.085291</td>\n",
       "    </tr>\n",
       "    <tr>\n",
       "      <th>1</th>\n",
       "      <td>100</td>\n",
       "      <td>Pearson (1 core)</td>\n",
       "      <td>0.000035</td>\n",
       "      <td>-0.174309</td>\n",
       "    </tr>\n",
       "    <tr>\n",
       "      <th>2</th>\n",
       "      <td>100</td>\n",
       "      <td>Pearson (1 core)</td>\n",
       "      <td>0.000037</td>\n",
       "      <td>0.004494</td>\n",
       "    </tr>\n",
       "    <tr>\n",
       "      <th>3</th>\n",
       "      <td>100</td>\n",
       "      <td>Pearson (1 core)</td>\n",
       "      <td>0.000031</td>\n",
       "      <td>-0.035394</td>\n",
       "    </tr>\n",
       "    <tr>\n",
       "      <th>4</th>\n",
       "      <td>100</td>\n",
       "      <td>Pearson (1 core)</td>\n",
       "      <td>0.000030</td>\n",
       "      <td>0.066687</td>\n",
       "    </tr>\n",
       "  </tbody>\n",
       "</table>\n",
       "</div>"
      ],
      "text/plain": [
       "  data_size            method      time       sim\n",
       "0       100  Pearson (1 core)  0.000098 -0.085291\n",
       "1       100  Pearson (1 core)  0.000035 -0.174309\n",
       "2       100  Pearson (1 core)  0.000037  0.004494\n",
       "3       100  Pearson (1 core)  0.000031 -0.035394\n",
       "4       100  Pearson (1 core)  0.000030  0.066687"
      ]
     },
     "execution_count": 13,
     "metadata": {},
     "output_type": "execute_result"
    }
   ],
   "source": [
    "time_results.head()"
   ]
  },
  {
   "cell_type": "markdown",
   "id": "8b183907-359e-473a-ac51-cb6c388c2595",
   "metadata": {
    "papermill": {
     "duration": 0.002228,
     "end_time": "2023-09-11T14:41:55.603654",
     "exception": false,
     "start_time": "2023-09-11T14:41:55.601426",
     "status": "completed"
    },
    "tags": []
   },
   "source": [
    "# Run numbers"
   ]
  },
  {
   "cell_type": "code",
   "execution_count": 14,
   "id": "3eafa2a7-c008-46b9-9119-a745fe873535",
   "metadata": {
    "papermill": {
     "duration": 0.004096,
     "end_time": "2023-09-11T14:41:55.609966",
     "exception": false,
     "start_time": "2023-09-11T14:41:55.605870",
     "status": "completed"
    },
    "tags": []
   },
   "outputs": [],
   "source": [
    "plot_data = time_results"
   ]
  },
  {
   "cell_type": "code",
   "execution_count": 15,
   "id": "e1279b36-295c-45d2-a2f1-0388161c724f",
   "metadata": {
    "papermill": {
     "duration": 0.04498,
     "end_time": "2023-09-11T14:41:55.657149",
     "exception": false,
     "start_time": "2023-09-11T14:41:55.612169",
     "status": "completed"
    },
    "tags": []
   },
   "outputs": [
    {
     "data": {
      "text/html": [
       "<div>\n",
       "<style scoped>\n",
       "    .dataframe tbody tr th:only-of-type {\n",
       "        vertical-align: middle;\n",
       "    }\n",
       "\n",
       "    .dataframe tbody tr th {\n",
       "        vertical-align: top;\n",
       "    }\n",
       "\n",
       "    .dataframe thead th {\n",
       "        text-align: right;\n",
       "    }\n",
       "</style>\n",
       "<table border=\"1\" class=\"dataframe\">\n",
       "  <thead>\n",
       "    <tr style=\"text-align: right;\">\n",
       "      <th></th>\n",
       "      <th></th>\n",
       "      <th>count</th>\n",
       "      <th>mean</th>\n",
       "      <th>std</th>\n",
       "      <th>min</th>\n",
       "      <th>25%</th>\n",
       "      <th>50%</th>\n",
       "      <th>75%</th>\n",
       "      <th>max</th>\n",
       "    </tr>\n",
       "    <tr>\n",
       "      <th>data_size</th>\n",
       "      <th>method</th>\n",
       "      <th></th>\n",
       "      <th></th>\n",
       "      <th></th>\n",
       "      <th></th>\n",
       "      <th></th>\n",
       "      <th></th>\n",
       "      <th></th>\n",
       "      <th></th>\n",
       "    </tr>\n",
       "  </thead>\n",
       "  <tbody>\n",
       "    <tr>\n",
       "      <th rowspan=\"6\" valign=\"top\">100</th>\n",
       "      <th>CCC (1 core)</th>\n",
       "      <td>1000.0</td>\n",
       "      <td>0.000641</td>\n",
       "      <td>0.000025</td>\n",
       "      <td>0.000623</td>\n",
       "      <td>0.000631</td>\n",
       "      <td>0.000635</td>\n",
       "      <td>0.000640</td>\n",
       "      <td>0.001048</td>\n",
       "    </tr>\n",
       "    <tr>\n",
       "      <th>CCC (3 cores)</th>\n",
       "      <td>1000.0</td>\n",
       "      <td>0.001110</td>\n",
       "      <td>0.000416</td>\n",
       "      <td>0.000853</td>\n",
       "      <td>0.000913</td>\n",
       "      <td>0.000944</td>\n",
       "      <td>0.001109</td>\n",
       "      <td>0.004993</td>\n",
       "    </tr>\n",
       "    <tr>\n",
       "      <th>MIC (1 core)</th>\n",
       "      <td>1000.0</td>\n",
       "      <td>0.000724</td>\n",
       "      <td>0.000026</td>\n",
       "      <td>0.000635</td>\n",
       "      <td>0.000707</td>\n",
       "      <td>0.000723</td>\n",
       "      <td>0.000741</td>\n",
       "      <td>0.000879</td>\n",
       "    </tr>\n",
       "    <tr>\n",
       "      <th>MICe (1 core)</th>\n",
       "      <td>1000.0</td>\n",
       "      <td>0.000675</td>\n",
       "      <td>0.000022</td>\n",
       "      <td>0.000604</td>\n",
       "      <td>0.000659</td>\n",
       "      <td>0.000676</td>\n",
       "      <td>0.000691</td>\n",
       "      <td>0.000740</td>\n",
       "    </tr>\n",
       "    <tr>\n",
       "      <th>Pearson (1 core)</th>\n",
       "      <td>1000.0</td>\n",
       "      <td>0.000031</td>\n",
       "      <td>0.000002</td>\n",
       "      <td>0.000028</td>\n",
       "      <td>0.000030</td>\n",
       "      <td>0.000031</td>\n",
       "      <td>0.000031</td>\n",
       "      <td>0.000098</td>\n",
       "    </tr>\n",
       "    <tr>\n",
       "      <th>Spearman (1 core)</th>\n",
       "      <td>1000.0</td>\n",
       "      <td>0.000217</td>\n",
       "      <td>0.000017</td>\n",
       "      <td>0.000205</td>\n",
       "      <td>0.000213</td>\n",
       "      <td>0.000215</td>\n",
       "      <td>0.000218</td>\n",
       "      <td>0.000483</td>\n",
       "    </tr>\n",
       "    <tr>\n",
       "      <th rowspan=\"6\" valign=\"top\">500</th>\n",
       "      <th>CCC (1 core)</th>\n",
       "      <td>10.0</td>\n",
       "      <td>0.000932</td>\n",
       "      <td>0.000034</td>\n",
       "      <td>0.000911</td>\n",
       "      <td>0.000918</td>\n",
       "      <td>0.000921</td>\n",
       "      <td>0.000927</td>\n",
       "      <td>0.001028</td>\n",
       "    </tr>\n",
       "    <tr>\n",
       "      <th>CCC (3 cores)</th>\n",
       "      <td>10.0</td>\n",
       "      <td>0.001258</td>\n",
       "      <td>0.000292</td>\n",
       "      <td>0.001080</td>\n",
       "      <td>0.001103</td>\n",
       "      <td>0.001132</td>\n",
       "      <td>0.001268</td>\n",
       "      <td>0.002005</td>\n",
       "    </tr>\n",
       "    <tr>\n",
       "      <th>MIC (1 core)</th>\n",
       "      <td>10.0</td>\n",
       "      <td>0.011612</td>\n",
       "      <td>0.000258</td>\n",
       "      <td>0.011189</td>\n",
       "      <td>0.011426</td>\n",
       "      <td>0.011671</td>\n",
       "      <td>0.011797</td>\n",
       "      <td>0.011964</td>\n",
       "    </tr>\n",
       "    <tr>\n",
       "      <th>MICe (1 core)</th>\n",
       "      <td>10.0</td>\n",
       "      <td>0.008890</td>\n",
       "      <td>0.000098</td>\n",
       "      <td>0.008685</td>\n",
       "      <td>0.008851</td>\n",
       "      <td>0.008900</td>\n",
       "      <td>0.008963</td>\n",
       "      <td>0.008996</td>\n",
       "    </tr>\n",
       "    <tr>\n",
       "      <th>Pearson (1 core)</th>\n",
       "      <td>10.0</td>\n",
       "      <td>0.000041</td>\n",
       "      <td>0.000013</td>\n",
       "      <td>0.000033</td>\n",
       "      <td>0.000034</td>\n",
       "      <td>0.000035</td>\n",
       "      <td>0.000042</td>\n",
       "      <td>0.000075</td>\n",
       "    </tr>\n",
       "    <tr>\n",
       "      <th>Spearman (1 core)</th>\n",
       "      <td>10.0</td>\n",
       "      <td>0.000273</td>\n",
       "      <td>0.000023</td>\n",
       "      <td>0.000260</td>\n",
       "      <td>0.000264</td>\n",
       "      <td>0.000266</td>\n",
       "      <td>0.000268</td>\n",
       "      <td>0.000336</td>\n",
       "    </tr>\n",
       "    <tr>\n",
       "      <th rowspan=\"6\" valign=\"top\">1000</th>\n",
       "      <th>CCC (1 core)</th>\n",
       "      <td>10.0</td>\n",
       "      <td>0.001398</td>\n",
       "      <td>0.000047</td>\n",
       "      <td>0.001332</td>\n",
       "      <td>0.001362</td>\n",
       "      <td>0.001389</td>\n",
       "      <td>0.001438</td>\n",
       "      <td>0.001465</td>\n",
       "    </tr>\n",
       "    <tr>\n",
       "      <th>CCC (3 cores)</th>\n",
       "      <td>10.0</td>\n",
       "      <td>0.001564</td>\n",
       "      <td>0.000341</td>\n",
       "      <td>0.001332</td>\n",
       "      <td>0.001383</td>\n",
       "      <td>0.001409</td>\n",
       "      <td>0.001685</td>\n",
       "      <td>0.002411</td>\n",
       "    </tr>\n",
       "    <tr>\n",
       "      <th>MIC (1 core)</th>\n",
       "      <td>10.0</td>\n",
       "      <td>0.037072</td>\n",
       "      <td>0.000457</td>\n",
       "      <td>0.036463</td>\n",
       "      <td>0.036848</td>\n",
       "      <td>0.036995</td>\n",
       "      <td>0.037238</td>\n",
       "      <td>0.037937</td>\n",
       "    </tr>\n",
       "    <tr>\n",
       "      <th>MICe (1 core)</th>\n",
       "      <td>10.0</td>\n",
       "      <td>0.024851</td>\n",
       "      <td>0.000125</td>\n",
       "      <td>0.024646</td>\n",
       "      <td>0.024754</td>\n",
       "      <td>0.024871</td>\n",
       "      <td>0.024943</td>\n",
       "      <td>0.025019</td>\n",
       "    </tr>\n",
       "    <tr>\n",
       "      <th>Pearson (1 core)</th>\n",
       "      <td>10.0</td>\n",
       "      <td>0.000040</td>\n",
       "      <td>0.000017</td>\n",
       "      <td>0.000033</td>\n",
       "      <td>0.000034</td>\n",
       "      <td>0.000035</td>\n",
       "      <td>0.000035</td>\n",
       "      <td>0.000087</td>\n",
       "    </tr>\n",
       "    <tr>\n",
       "      <th>Spearman (1 core)</th>\n",
       "      <td>10.0</td>\n",
       "      <td>0.000319</td>\n",
       "      <td>0.000024</td>\n",
       "      <td>0.000301</td>\n",
       "      <td>0.000304</td>\n",
       "      <td>0.000310</td>\n",
       "      <td>0.000321</td>\n",
       "      <td>0.000376</td>\n",
       "    </tr>\n",
       "    <tr>\n",
       "      <th rowspan=\"6\" valign=\"top\">5000</th>\n",
       "      <th>CCC (1 core)</th>\n",
       "      <td>10.0</td>\n",
       "      <td>0.006685</td>\n",
       "      <td>0.000091</td>\n",
       "      <td>0.006585</td>\n",
       "      <td>0.006639</td>\n",
       "      <td>0.006668</td>\n",
       "      <td>0.006692</td>\n",
       "      <td>0.006896</td>\n",
       "    </tr>\n",
       "    <tr>\n",
       "      <th>CCC (3 cores)</th>\n",
       "      <td>10.0</td>\n",
       "      <td>0.004830</td>\n",
       "      <td>0.001123</td>\n",
       "      <td>0.003883</td>\n",
       "      <td>0.004018</td>\n",
       "      <td>0.004404</td>\n",
       "      <td>0.005185</td>\n",
       "      <td>0.007427</td>\n",
       "    </tr>\n",
       "    <tr>\n",
       "      <th>MIC (1 core)</th>\n",
       "      <td>10.0</td>\n",
       "      <td>0.510705</td>\n",
       "      <td>0.001836</td>\n",
       "      <td>0.507880</td>\n",
       "      <td>0.509280</td>\n",
       "      <td>0.510705</td>\n",
       "      <td>0.512287</td>\n",
       "      <td>0.513345</td>\n",
       "    </tr>\n",
       "    <tr>\n",
       "      <th>MICe (1 core)</th>\n",
       "      <td>10.0</td>\n",
       "      <td>0.228000</td>\n",
       "      <td>0.000698</td>\n",
       "      <td>0.227258</td>\n",
       "      <td>0.227605</td>\n",
       "      <td>0.227923</td>\n",
       "      <td>0.228074</td>\n",
       "      <td>0.229758</td>\n",
       "    </tr>\n",
       "    <tr>\n",
       "      <th>Pearson (1 core)</th>\n",
       "      <td>10.0</td>\n",
       "      <td>0.000050</td>\n",
       "      <td>0.000012</td>\n",
       "      <td>0.000044</td>\n",
       "      <td>0.000045</td>\n",
       "      <td>0.000046</td>\n",
       "      <td>0.000049</td>\n",
       "      <td>0.000084</td>\n",
       "    </tr>\n",
       "    <tr>\n",
       "      <th>Spearman (1 core)</th>\n",
       "      <td>10.0</td>\n",
       "      <td>0.000661</td>\n",
       "      <td>0.000026</td>\n",
       "      <td>0.000634</td>\n",
       "      <td>0.000651</td>\n",
       "      <td>0.000657</td>\n",
       "      <td>0.000660</td>\n",
       "      <td>0.000731</td>\n",
       "    </tr>\n",
       "    <tr>\n",
       "      <th rowspan=\"6\" valign=\"top\">10000</th>\n",
       "      <th>CCC (1 core)</th>\n",
       "      <td>10.0</td>\n",
       "      <td>0.014375</td>\n",
       "      <td>0.000187</td>\n",
       "      <td>0.014085</td>\n",
       "      <td>0.014274</td>\n",
       "      <td>0.014354</td>\n",
       "      <td>0.014452</td>\n",
       "      <td>0.014767</td>\n",
       "    </tr>\n",
       "    <tr>\n",
       "      <th>CCC (3 cores)</th>\n",
       "      <td>10.0</td>\n",
       "      <td>0.008727</td>\n",
       "      <td>0.001044</td>\n",
       "      <td>0.007567</td>\n",
       "      <td>0.008029</td>\n",
       "      <td>0.008367</td>\n",
       "      <td>0.009145</td>\n",
       "      <td>0.010723</td>\n",
       "    </tr>\n",
       "    <tr>\n",
       "      <th>MIC (1 core)</th>\n",
       "      <td>10.0</td>\n",
       "      <td>1.592554</td>\n",
       "      <td>0.010670</td>\n",
       "      <td>1.575866</td>\n",
       "      <td>1.587393</td>\n",
       "      <td>1.593111</td>\n",
       "      <td>1.599259</td>\n",
       "      <td>1.610753</td>\n",
       "    </tr>\n",
       "    <tr>\n",
       "      <th>MICe (1 core)</th>\n",
       "      <td>10.0</td>\n",
       "      <td>0.572581</td>\n",
       "      <td>0.001167</td>\n",
       "      <td>0.570966</td>\n",
       "      <td>0.571873</td>\n",
       "      <td>0.572358</td>\n",
       "      <td>0.573227</td>\n",
       "      <td>0.574736</td>\n",
       "    </tr>\n",
       "    <tr>\n",
       "      <th>Pearson (1 core)</th>\n",
       "      <td>10.0</td>\n",
       "      <td>0.000064</td>\n",
       "      <td>0.000015</td>\n",
       "      <td>0.000056</td>\n",
       "      <td>0.000058</td>\n",
       "      <td>0.000059</td>\n",
       "      <td>0.000063</td>\n",
       "      <td>0.000106</td>\n",
       "    </tr>\n",
       "    <tr>\n",
       "      <th>Spearman (1 core)</th>\n",
       "      <td>10.0</td>\n",
       "      <td>0.001158</td>\n",
       "      <td>0.000027</td>\n",
       "      <td>0.001128</td>\n",
       "      <td>0.001147</td>\n",
       "      <td>0.001153</td>\n",
       "      <td>0.001155</td>\n",
       "      <td>0.001231</td>\n",
       "    </tr>\n",
       "    <tr>\n",
       "      <th rowspan=\"5\" valign=\"top\">50000</th>\n",
       "      <th>CCC (1 core)</th>\n",
       "      <td>10.0</td>\n",
       "      <td>0.082006</td>\n",
       "      <td>0.000460</td>\n",
       "      <td>0.081297</td>\n",
       "      <td>0.081652</td>\n",
       "      <td>0.082052</td>\n",
       "      <td>0.082178</td>\n",
       "      <td>0.082773</td>\n",
       "    </tr>\n",
       "    <tr>\n",
       "      <th>CCC (3 cores)</th>\n",
       "      <td>10.0</td>\n",
       "      <td>0.043132</td>\n",
       "      <td>0.000550</td>\n",
       "      <td>0.042416</td>\n",
       "      <td>0.042617</td>\n",
       "      <td>0.043109</td>\n",
       "      <td>0.043533</td>\n",
       "      <td>0.043936</td>\n",
       "    </tr>\n",
       "    <tr>\n",
       "      <th>MICe (1 core)</th>\n",
       "      <td>10.0</td>\n",
       "      <td>4.843016</td>\n",
       "      <td>0.005246</td>\n",
       "      <td>4.832381</td>\n",
       "      <td>4.842152</td>\n",
       "      <td>4.843082</td>\n",
       "      <td>4.846897</td>\n",
       "      <td>4.849092</td>\n",
       "    </tr>\n",
       "    <tr>\n",
       "      <th>Pearson (1 core)</th>\n",
       "      <td>10.0</td>\n",
       "      <td>0.000182</td>\n",
       "      <td>0.000026</td>\n",
       "      <td>0.000163</td>\n",
       "      <td>0.000165</td>\n",
       "      <td>0.000169</td>\n",
       "      <td>0.000190</td>\n",
       "      <td>0.000248</td>\n",
       "    </tr>\n",
       "    <tr>\n",
       "      <th>Spearman (1 core)</th>\n",
       "      <td>10.0</td>\n",
       "      <td>0.006136</td>\n",
       "      <td>0.000160</td>\n",
       "      <td>0.005979</td>\n",
       "      <td>0.006003</td>\n",
       "      <td>0.006108</td>\n",
       "      <td>0.006233</td>\n",
       "      <td>0.006459</td>\n",
       "    </tr>\n",
       "    <tr>\n",
       "      <th rowspan=\"4\" valign=\"top\">100000</th>\n",
       "      <th>CCC (1 core)</th>\n",
       "      <td>10.0</td>\n",
       "      <td>0.175137</td>\n",
       "      <td>0.000671</td>\n",
       "      <td>0.174232</td>\n",
       "      <td>0.174719</td>\n",
       "      <td>0.175010</td>\n",
       "      <td>0.175541</td>\n",
       "      <td>0.176207</td>\n",
       "    </tr>\n",
       "    <tr>\n",
       "      <th>CCC (3 cores)</th>\n",
       "      <td>10.0</td>\n",
       "      <td>0.090907</td>\n",
       "      <td>0.001929</td>\n",
       "      <td>0.088514</td>\n",
       "      <td>0.089994</td>\n",
       "      <td>0.090318</td>\n",
       "      <td>0.091081</td>\n",
       "      <td>0.095571</td>\n",
       "    </tr>\n",
       "    <tr>\n",
       "      <th>Pearson (1 core)</th>\n",
       "      <td>10.0</td>\n",
       "      <td>0.000417</td>\n",
       "      <td>0.000249</td>\n",
       "      <td>0.000313</td>\n",
       "      <td>0.000318</td>\n",
       "      <td>0.000320</td>\n",
       "      <td>0.000336</td>\n",
       "      <td>0.001109</td>\n",
       "    </tr>\n",
       "    <tr>\n",
       "      <th>Spearman (1 core)</th>\n",
       "      <td>10.0</td>\n",
       "      <td>0.011882</td>\n",
       "      <td>0.000409</td>\n",
       "      <td>0.011642</td>\n",
       "      <td>0.011671</td>\n",
       "      <td>0.011746</td>\n",
       "      <td>0.011826</td>\n",
       "      <td>0.012993</td>\n",
       "    </tr>\n",
       "    <tr>\n",
       "      <th rowspan=\"4\" valign=\"top\">1000000</th>\n",
       "      <th>CCC (1 core)</th>\n",
       "      <td>10.0</td>\n",
       "      <td>2.296490</td>\n",
       "      <td>0.065356</td>\n",
       "      <td>2.219242</td>\n",
       "      <td>2.255166</td>\n",
       "      <td>2.270925</td>\n",
       "      <td>2.352809</td>\n",
       "      <td>2.407563</td>\n",
       "    </tr>\n",
       "    <tr>\n",
       "      <th>CCC (3 cores)</th>\n",
       "      <td>10.0</td>\n",
       "      <td>1.275980</td>\n",
       "      <td>0.008927</td>\n",
       "      <td>1.265975</td>\n",
       "      <td>1.268516</td>\n",
       "      <td>1.273530</td>\n",
       "      <td>1.282357</td>\n",
       "      <td>1.291811</td>\n",
       "    </tr>\n",
       "    <tr>\n",
       "      <th>Pearson (1 core)</th>\n",
       "      <td>10.0</td>\n",
       "      <td>0.007408</td>\n",
       "      <td>0.001242</td>\n",
       "      <td>0.006026</td>\n",
       "      <td>0.006245</td>\n",
       "      <td>0.007732</td>\n",
       "      <td>0.007757</td>\n",
       "      <td>0.009899</td>\n",
       "    </tr>\n",
       "    <tr>\n",
       "      <th>Spearman (1 core)</th>\n",
       "      <td>10.0</td>\n",
       "      <td>0.172611</td>\n",
       "      <td>0.001251</td>\n",
       "      <td>0.170362</td>\n",
       "      <td>0.171784</td>\n",
       "      <td>0.172625</td>\n",
       "      <td>0.173215</td>\n",
       "      <td>0.174503</td>\n",
       "    </tr>\n",
       "    <tr>\n",
       "      <th rowspan=\"4\" valign=\"top\">10000000</th>\n",
       "      <th>CCC (1 core)</th>\n",
       "      <td>10.0</td>\n",
       "      <td>40.157600</td>\n",
       "      <td>0.173438</td>\n",
       "      <td>39.843292</td>\n",
       "      <td>40.088204</td>\n",
       "      <td>40.151353</td>\n",
       "      <td>40.259280</td>\n",
       "      <td>40.429066</td>\n",
       "    </tr>\n",
       "    <tr>\n",
       "      <th>CCC (3 cores)</th>\n",
       "      <td>10.0</td>\n",
       "      <td>21.885837</td>\n",
       "      <td>0.103896</td>\n",
       "      <td>21.705721</td>\n",
       "      <td>21.845108</td>\n",
       "      <td>21.876476</td>\n",
       "      <td>21.949155</td>\n",
       "      <td>22.039508</td>\n",
       "    </tr>\n",
       "    <tr>\n",
       "      <th>Pearson (1 core)</th>\n",
       "      <td>10.0</td>\n",
       "      <td>0.094267</td>\n",
       "      <td>0.000529</td>\n",
       "      <td>0.093734</td>\n",
       "      <td>0.093855</td>\n",
       "      <td>0.094105</td>\n",
       "      <td>0.094493</td>\n",
       "      <td>0.095369</td>\n",
       "    </tr>\n",
       "    <tr>\n",
       "      <th>Spearman (1 core)</th>\n",
       "      <td>10.0</td>\n",
       "      <td>2.954011</td>\n",
       "      <td>0.010732</td>\n",
       "      <td>2.941881</td>\n",
       "      <td>2.946117</td>\n",
       "      <td>2.951748</td>\n",
       "      <td>2.962198</td>\n",
       "      <td>2.971911</td>\n",
       "    </tr>\n",
       "  </tbody>\n",
       "</table>\n",
       "</div>"
      ],
      "text/plain": [
       "                              count       mean       std        min  \\\n",
       "data_size method                                                      \n",
       "100       CCC (1 core)       1000.0   0.000641  0.000025   0.000623   \n",
       "          CCC (3 cores)      1000.0   0.001110  0.000416   0.000853   \n",
       "          MIC (1 core)       1000.0   0.000724  0.000026   0.000635   \n",
       "          MICe (1 core)      1000.0   0.000675  0.000022   0.000604   \n",
       "          Pearson (1 core)   1000.0   0.000031  0.000002   0.000028   \n",
       "          Spearman (1 core)  1000.0   0.000217  0.000017   0.000205   \n",
       "500       CCC (1 core)         10.0   0.000932  0.000034   0.000911   \n",
       "          CCC (3 cores)        10.0   0.001258  0.000292   0.001080   \n",
       "          MIC (1 core)         10.0   0.011612  0.000258   0.011189   \n",
       "          MICe (1 core)        10.0   0.008890  0.000098   0.008685   \n",
       "          Pearson (1 core)     10.0   0.000041  0.000013   0.000033   \n",
       "          Spearman (1 core)    10.0   0.000273  0.000023   0.000260   \n",
       "1000      CCC (1 core)         10.0   0.001398  0.000047   0.001332   \n",
       "          CCC (3 cores)        10.0   0.001564  0.000341   0.001332   \n",
       "          MIC (1 core)         10.0   0.037072  0.000457   0.036463   \n",
       "          MICe (1 core)        10.0   0.024851  0.000125   0.024646   \n",
       "          Pearson (1 core)     10.0   0.000040  0.000017   0.000033   \n",
       "          Spearman (1 core)    10.0   0.000319  0.000024   0.000301   \n",
       "5000      CCC (1 core)         10.0   0.006685  0.000091   0.006585   \n",
       "          CCC (3 cores)        10.0   0.004830  0.001123   0.003883   \n",
       "          MIC (1 core)         10.0   0.510705  0.001836   0.507880   \n",
       "          MICe (1 core)        10.0   0.228000  0.000698   0.227258   \n",
       "          Pearson (1 core)     10.0   0.000050  0.000012   0.000044   \n",
       "          Spearman (1 core)    10.0   0.000661  0.000026   0.000634   \n",
       "10000     CCC (1 core)         10.0   0.014375  0.000187   0.014085   \n",
       "          CCC (3 cores)        10.0   0.008727  0.001044   0.007567   \n",
       "          MIC (1 core)         10.0   1.592554  0.010670   1.575866   \n",
       "          MICe (1 core)        10.0   0.572581  0.001167   0.570966   \n",
       "          Pearson (1 core)     10.0   0.000064  0.000015   0.000056   \n",
       "          Spearman (1 core)    10.0   0.001158  0.000027   0.001128   \n",
       "50000     CCC (1 core)         10.0   0.082006  0.000460   0.081297   \n",
       "          CCC (3 cores)        10.0   0.043132  0.000550   0.042416   \n",
       "          MICe (1 core)        10.0   4.843016  0.005246   4.832381   \n",
       "          Pearson (1 core)     10.0   0.000182  0.000026   0.000163   \n",
       "          Spearman (1 core)    10.0   0.006136  0.000160   0.005979   \n",
       "100000    CCC (1 core)         10.0   0.175137  0.000671   0.174232   \n",
       "          CCC (3 cores)        10.0   0.090907  0.001929   0.088514   \n",
       "          Pearson (1 core)     10.0   0.000417  0.000249   0.000313   \n",
       "          Spearman (1 core)    10.0   0.011882  0.000409   0.011642   \n",
       "1000000   CCC (1 core)         10.0   2.296490  0.065356   2.219242   \n",
       "          CCC (3 cores)        10.0   1.275980  0.008927   1.265975   \n",
       "          Pearson (1 core)     10.0   0.007408  0.001242   0.006026   \n",
       "          Spearman (1 core)    10.0   0.172611  0.001251   0.170362   \n",
       "10000000  CCC (1 core)         10.0  40.157600  0.173438  39.843292   \n",
       "          CCC (3 cores)        10.0  21.885837  0.103896  21.705721   \n",
       "          Pearson (1 core)     10.0   0.094267  0.000529   0.093734   \n",
       "          Spearman (1 core)    10.0   2.954011  0.010732   2.941881   \n",
       "\n",
       "                                   25%        50%        75%        max  \n",
       "data_size method                                                         \n",
       "100       CCC (1 core)        0.000631   0.000635   0.000640   0.001048  \n",
       "          CCC (3 cores)       0.000913   0.000944   0.001109   0.004993  \n",
       "          MIC (1 core)        0.000707   0.000723   0.000741   0.000879  \n",
       "          MICe (1 core)       0.000659   0.000676   0.000691   0.000740  \n",
       "          Pearson (1 core)    0.000030   0.000031   0.000031   0.000098  \n",
       "          Spearman (1 core)   0.000213   0.000215   0.000218   0.000483  \n",
       "500       CCC (1 core)        0.000918   0.000921   0.000927   0.001028  \n",
       "          CCC (3 cores)       0.001103   0.001132   0.001268   0.002005  \n",
       "          MIC (1 core)        0.011426   0.011671   0.011797   0.011964  \n",
       "          MICe (1 core)       0.008851   0.008900   0.008963   0.008996  \n",
       "          Pearson (1 core)    0.000034   0.000035   0.000042   0.000075  \n",
       "          Spearman (1 core)   0.000264   0.000266   0.000268   0.000336  \n",
       "1000      CCC (1 core)        0.001362   0.001389   0.001438   0.001465  \n",
       "          CCC (3 cores)       0.001383   0.001409   0.001685   0.002411  \n",
       "          MIC (1 core)        0.036848   0.036995   0.037238   0.037937  \n",
       "          MICe (1 core)       0.024754   0.024871   0.024943   0.025019  \n",
       "          Pearson (1 core)    0.000034   0.000035   0.000035   0.000087  \n",
       "          Spearman (1 core)   0.000304   0.000310   0.000321   0.000376  \n",
       "5000      CCC (1 core)        0.006639   0.006668   0.006692   0.006896  \n",
       "          CCC (3 cores)       0.004018   0.004404   0.005185   0.007427  \n",
       "          MIC (1 core)        0.509280   0.510705   0.512287   0.513345  \n",
       "          MICe (1 core)       0.227605   0.227923   0.228074   0.229758  \n",
       "          Pearson (1 core)    0.000045   0.000046   0.000049   0.000084  \n",
       "          Spearman (1 core)   0.000651   0.000657   0.000660   0.000731  \n",
       "10000     CCC (1 core)        0.014274   0.014354   0.014452   0.014767  \n",
       "          CCC (3 cores)       0.008029   0.008367   0.009145   0.010723  \n",
       "          MIC (1 core)        1.587393   1.593111   1.599259   1.610753  \n",
       "          MICe (1 core)       0.571873   0.572358   0.573227   0.574736  \n",
       "          Pearson (1 core)    0.000058   0.000059   0.000063   0.000106  \n",
       "          Spearman (1 core)   0.001147   0.001153   0.001155   0.001231  \n",
       "50000     CCC (1 core)        0.081652   0.082052   0.082178   0.082773  \n",
       "          CCC (3 cores)       0.042617   0.043109   0.043533   0.043936  \n",
       "          MICe (1 core)       4.842152   4.843082   4.846897   4.849092  \n",
       "          Pearson (1 core)    0.000165   0.000169   0.000190   0.000248  \n",
       "          Spearman (1 core)   0.006003   0.006108   0.006233   0.006459  \n",
       "100000    CCC (1 core)        0.174719   0.175010   0.175541   0.176207  \n",
       "          CCC (3 cores)       0.089994   0.090318   0.091081   0.095571  \n",
       "          Pearson (1 core)    0.000318   0.000320   0.000336   0.001109  \n",
       "          Spearman (1 core)   0.011671   0.011746   0.011826   0.012993  \n",
       "1000000   CCC (1 core)        2.255166   2.270925   2.352809   2.407563  \n",
       "          CCC (3 cores)       1.268516   1.273530   1.282357   1.291811  \n",
       "          Pearson (1 core)    0.006245   0.007732   0.007757   0.009899  \n",
       "          Spearman (1 core)   0.171784   0.172625   0.173215   0.174503  \n",
       "10000000  CCC (1 core)       40.088204  40.151353  40.259280  40.429066  \n",
       "          CCC (3 cores)      21.845108  21.876476  21.949155  22.039508  \n",
       "          Pearson (1 core)    0.093855   0.094105   0.094493   0.095369  \n",
       "          Spearman (1 core)   2.946117   2.951748   2.962198   2.971911  "
      ]
     },
     "metadata": {},
     "output_type": "display_data"
    }
   ],
   "source": [
    "run_numbers = (\n",
    "    plot_data[\n",
    "        plot_data[\"method\"].str.contains(\"1 core\", regex=False)\n",
    "        | plot_data[\"method\"].str.contains(\"CCC (3 cores)\", regex=False)\n",
    "    ]\n",
    "    .groupby([\"data_size\", \"method\"])[\"time\"]\n",
    "    .describe()\n",
    ")\n",
    "display(run_numbers)"
   ]
  },
  {
   "cell_type": "code",
   "execution_count": 29,
   "id": "ffb6a620-e832-4b8e-bfe2-e211a381000e",
   "metadata": {},
   "outputs": [],
   "source": [
    "# this is necessary to make sure we did not mix results when running the time test notebooks\n",
    "# that could happen if the notebooks are run separately without running them all together\n",
    "assert run_numbers[\"count\"].unique().shape[0] == 2"
   ]
  },
  {
   "cell_type": "markdown",
   "id": "772f2cd8-22b9-4106-93e2-1c8063370356",
   "metadata": {
    "papermill": {
     "duration": 0.002476,
     "end_time": "2023-09-11T14:41:55.662125",
     "exception": false,
     "start_time": "2023-09-11T14:41:55.659649",
     "status": "completed"
    },
    "tags": []
   },
   "source": [
    "# Plot"
   ]
  },
  {
   "cell_type": "code",
   "execution_count": 16,
   "id": "3b4ffedd-661b-40da-b323-4d29f38c3b72",
   "metadata": {
    "papermill": {
     "duration": 0.004783,
     "end_time": "2023-09-11T14:41:55.669379",
     "exception": false,
     "start_time": "2023-09-11T14:41:55.664596",
     "status": "completed"
    },
    "tags": []
   },
   "outputs": [],
   "source": [
    "hue_order = sorted(time_results[\"method\"].unique())"
   ]
  },
  {
   "cell_type": "code",
   "execution_count": 17,
   "id": "cc263e22-bbc0-4d20-953f-ec6fd0a624b8",
   "metadata": {
    "papermill": {
     "duration": 0.004689,
     "end_time": "2023-09-11T14:41:55.676431",
     "exception": false,
     "start_time": "2023-09-11T14:41:55.671742",
     "status": "completed"
    },
    "tags": []
   },
   "outputs": [
    {
     "data": {
      "text/plain": [
       "['CCC (1 core)',\n",
       " 'CCC (3 cores)',\n",
       " 'MIC (1 core)',\n",
       " 'MIC (3 cores)',\n",
       " 'MICe (1 core)',\n",
       " 'MICe (3 cores)',\n",
       " 'Pearson (1 core)',\n",
       " 'Pearson (3 cores)',\n",
       " 'Spearman (1 core)',\n",
       " 'Spearman (3 cores)']"
      ]
     },
     "execution_count": 17,
     "metadata": {},
     "output_type": "execute_result"
    }
   ],
   "source": [
    "hue_order"
   ]
  },
  {
   "cell_type": "code",
   "execution_count": 18,
   "id": "e3c79816-6703-4236-b55a-c6dc38d4d600",
   "metadata": {
    "papermill": {
     "duration": 0.005063,
     "end_time": "2023-09-11T14:41:55.683918",
     "exception": false,
     "start_time": "2023-09-11T14:41:55.678855",
     "status": "completed"
    },
    "tags": []
   },
   "outputs": [
    {
     "data": {
      "text/html": [
       "<svg  width=\"660\" height=\"55\"><rect x=\"0\" y=\"0\" width=\"55\" height=\"55\" style=\"fill:#a6cee3;stroke-width:2;stroke:rgb(255,255,255)\"/><rect x=\"55\" y=\"0\" width=\"55\" height=\"55\" style=\"fill:#1f78b4;stroke-width:2;stroke:rgb(255,255,255)\"/><rect x=\"110\" y=\"0\" width=\"55\" height=\"55\" style=\"fill:#b2df8a;stroke-width:2;stroke:rgb(255,255,255)\"/><rect x=\"165\" y=\"0\" width=\"55\" height=\"55\" style=\"fill:#33a02c;stroke-width:2;stroke:rgb(255,255,255)\"/><rect x=\"220\" y=\"0\" width=\"55\" height=\"55\" style=\"fill:#fb9a99;stroke-width:2;stroke:rgb(255,255,255)\"/><rect x=\"275\" y=\"0\" width=\"55\" height=\"55\" style=\"fill:#e31a1c;stroke-width:2;stroke:rgb(255,255,255)\"/><rect x=\"330\" y=\"0\" width=\"55\" height=\"55\" style=\"fill:#fdbf6f;stroke-width:2;stroke:rgb(255,255,255)\"/><rect x=\"385\" y=\"0\" width=\"55\" height=\"55\" style=\"fill:#ff7f00;stroke-width:2;stroke:rgb(255,255,255)\"/><rect x=\"440\" y=\"0\" width=\"55\" height=\"55\" style=\"fill:#cab2d6;stroke-width:2;stroke:rgb(255,255,255)\"/><rect x=\"495\" y=\"0\" width=\"55\" height=\"55\" style=\"fill:#6a3d9a;stroke-width:2;stroke:rgb(255,255,255)\"/><rect x=\"550\" y=\"0\" width=\"55\" height=\"55\" style=\"fill:#ffff99;stroke-width:2;stroke:rgb(255,255,255)\"/><rect x=\"605\" y=\"0\" width=\"55\" height=\"55\" style=\"fill:#b15928;stroke-width:2;stroke:rgb(255,255,255)\"/></svg>"
      ],
      "text/plain": [
       "[(0.6509803921568628, 0.807843137254902, 0.8901960784313725),\n",
       " (0.12156862745098039, 0.47058823529411764, 0.7058823529411765),\n",
       " (0.6980392156862745, 0.8745098039215686, 0.5411764705882353),\n",
       " (0.2, 0.6274509803921569, 0.17254901960784313),\n",
       " (0.984313725490196, 0.6039215686274509, 0.6),\n",
       " (0.8901960784313725, 0.10196078431372549, 0.10980392156862745),\n",
       " (0.9921568627450981, 0.7490196078431373, 0.43529411764705883),\n",
       " (1.0, 0.4980392156862745, 0.0),\n",
       " (0.792156862745098, 0.6980392156862745, 0.8392156862745098),\n",
       " (0.41568627450980394, 0.23921568627450981, 0.6039215686274509),\n",
       " (1.0, 1.0, 0.6),\n",
       " (0.6941176470588235, 0.34901960784313724, 0.1568627450980392)]"
      ]
     },
     "metadata": {},
     "output_type": "display_data"
    }
   ],
   "source": [
    "deep_colors = sns.color_palette(\"Paired\")\n",
    "display(deep_colors)"
   ]
  },
  {
   "cell_type": "code",
   "execution_count": 19,
   "id": "59249512-0a19-4868-b5a0-5dc4e271c8af",
   "metadata": {
    "papermill": {
     "duration": 0.006262,
     "end_time": "2023-09-11T14:41:55.692678",
     "exception": false,
     "start_time": "2023-09-11T14:41:55.686416",
     "status": "completed"
    },
    "tags": []
   },
   "outputs": [],
   "source": [
    "def format_data_size(x):\n",
    "    if x < 1000:\n",
    "        return f\"{int(x)}\"\n",
    "    elif x < 1000000:\n",
    "        return f\"{int(x/1000)}k\"\n",
    "\n",
    "    return f\"{int(x/1000000)}m\"\n",
    "\n",
    "\n",
    "plot_data = plot_data.assign(data_size=plot_data[\"data_size\"].apply(format_data_size))"
   ]
  },
  {
   "cell_type": "markdown",
   "id": "c581b4df-26fe-43e2-ba23-3595534c7ea2",
   "metadata": {
    "papermill": {
     "duration": 0.002402,
     "end_time": "2023-09-11T14:41:55.697550",
     "exception": false,
     "start_time": "2023-09-11T14:41:55.695148",
     "status": "completed"
    },
    "tags": []
   },
   "source": [
    "## First analysis"
   ]
  },
  {
   "cell_type": "markdown",
   "id": "5fcb16ca-07a6-41b9-aa18-f22b84194e71",
   "metadata": {
    "papermill": {
     "duration": 0.002429,
     "end_time": "2023-09-11T14:41:55.702447",
     "exception": false,
     "start_time": "2023-09-11T14:41:55.700018",
     "status": "completed"
    },
    "tags": []
   },
   "source": [
    "Here I take a look if using more than 1 core benefits methods."
   ]
  },
  {
   "cell_type": "code",
   "execution_count": 20,
   "id": "09151d37-4dd2-4c1f-ab4a-94b4d3e79018",
   "metadata": {
    "papermill": {
     "duration": 0.661136,
     "end_time": "2023-09-11T14:41:56.366016",
     "exception": false,
     "start_time": "2023-09-11T14:41:55.704880",
     "status": "completed"
    },
    "tags": []
   },
   "outputs": [
    {
     "data": {
      "image/png": "[encoded data removed]",
      "text/plain": [
       "<Figure size 682.395x360 with 1 Axes>"
      ]
     },
     "metadata": {
      "needs_background": "light"
     },
     "output_type": "display_data"
    }
   ],
   "source": [
    "with sns.plotting_context(\"paper\", font_scale=1.5):\n",
    "    g = sns.catplot(\n",
    "        kind=\"point\",\n",
    "        data=plot_data,\n",
    "        x=\"data_size\",\n",
    "        y=\"time\",\n",
    "        hue=\"method\",\n",
    "        hue_order=hue_order,\n",
    "        palette=deep_colors,\n",
    "        height=5,\n",
    "        aspect=1.4,\n",
    "    )\n",
    "\n",
    "    plt.xlabel(\"Number of measured objects\")\n",
    "    plt.ylabel(\"Time (seconds)\")"
   ]
  },
  {
   "cell_type": "code",
   "execution_count": 21,
   "id": "c651024b-eb30-4d50-b71c-8eaa17704acd",
   "metadata": {
    "papermill": {
     "duration": 0.817556,
     "end_time": "2023-09-11T14:41:57.186660",
     "exception": false,
     "start_time": "2023-09-11T14:41:56.369104",
     "status": "completed"
    },
    "tags": []
   },
   "outputs": [
    {
     "data": {
      "image/png": "[encoded data removed]",
      "text/plain": [
       "<Figure size 682.395x360 with 1 Axes>"
      ]
     },
     "metadata": {
      "needs_background": "light"
     },
     "output_type": "display_data"
    }
   ],
   "source": [
    "with sns.plotting_context(\"paper\", font_scale=1.5):\n",
    "    g = sns.catplot(\n",
    "        kind=\"point\",\n",
    "        data=plot_data,\n",
    "        x=\"data_size\",\n",
    "        y=\"time\",\n",
    "        hue=\"method\",\n",
    "        hue_order=hue_order,\n",
    "        palette=deep_colors,\n",
    "        height=5,\n",
    "        aspect=1.4,\n",
    "    )\n",
    "\n",
    "    plt.xlabel(\"Number of measured objects\")\n",
    "    plt.ylabel(\"Time (seconds) in log scale\")\n",
    "\n",
    "    g.ax.set_yscale(\"log\")"
   ]
  },
  {
   "cell_type": "markdown",
   "id": "d526030a-11a3-4084-bcc3-cd268d2b0599",
   "metadata": {
    "papermill": {
     "duration": 0.003043,
     "end_time": "2023-09-11T14:41:57.193139",
     "exception": false,
     "start_time": "2023-09-11T14:41:57.190096",
     "status": "completed"
    },
    "tags": []
   },
   "source": [
    "Only CCC is really taking advantage of more than 1 core, so I'll remove the rest below."
   ]
  },
  {
   "cell_type": "markdown",
   "id": "610e0cef-d404-4db2-9e88-f26451e0dd87",
   "metadata": {
    "papermill": {
     "duration": 0.002877,
     "end_time": "2023-09-11T14:41:57.198990",
     "exception": false,
     "start_time": "2023-09-11T14:41:57.196113",
     "status": "completed"
    },
    "tags": []
   },
   "source": [
    "# Final analysis"
   ]
  },
  {
   "cell_type": "code",
   "execution_count": 22,
   "id": "f7b788fe-666d-43ee-92d9-358c8451ada4",
   "metadata": {
    "papermill": {
     "duration": 0.006961,
     "end_time": "2023-09-11T14:41:57.208888",
     "exception": false,
     "start_time": "2023-09-11T14:41:57.201927",
     "status": "completed"
    },
    "tags": []
   },
   "outputs": [],
   "source": [
    "# select runs with 3 cores for the other methods\n",
    "plot_data = plot_data.replace(\n",
    "    {\n",
    "        \"method\": {\n",
    "            \"Pearson (3 cores)\": \"Pearson\",\n",
    "            \"Spearman (3 cores)\": \"Spearman\",\n",
    "            \"MIC (3 cores)\": \"MIC\",\n",
    "            \"MICe (3 cores)\": r\"$\\mathregular{MIC_e}$\",\n",
    "        }\n",
    "    }\n",
    ")"
   ]
  },
  {
   "cell_type": "code",
   "execution_count": 23,
   "id": "c0c8b101-25bb-4891-8a6a-f6d50870f13c",
   "metadata": {
    "papermill": {
     "duration": 0.005682,
     "end_time": "2023-09-11T14:41:57.217549",
     "exception": false,
     "start_time": "2023-09-11T14:41:57.211867",
     "status": "completed"
    },
    "tags": []
   },
   "outputs": [
    {
     "data": {
      "text/plain": [
       "array(['Pearson (1 core)', 'Spearman (1 core)', 'CCC (1 core)',\n",
       "       'MICe (1 core)', 'MIC (1 core)', 'Pearson', 'Spearman',\n",
       "       'CCC (3 cores)', '$\\\\mathregular{MIC_e}$', 'MIC'], dtype=object)"
      ]
     },
     "execution_count": 23,
     "metadata": {},
     "output_type": "execute_result"
    }
   ],
   "source": [
    "plot_data[\"method\"].unique()"
   ]
  },
  {
   "cell_type": "code",
   "execution_count": 24,
   "id": "10d6b353-a3a8-4d69-9695-2e5a9311be86",
   "metadata": {
    "papermill": {
     "duration": 0.004985,
     "end_time": "2023-09-11T14:41:57.225499",
     "exception": false,
     "start_time": "2023-09-11T14:41:57.220514",
     "status": "completed"
    },
    "tags": []
   },
   "outputs": [],
   "source": [
    "hue_order = [\n",
    "    \"MIC\",\n",
    "    r\"$\\mathregular{MIC_e}$\",\n",
    "    \"CCC (1 core)\",\n",
    "    \"CCC (3 cores)\",\n",
    "    \"Spearman\",\n",
    "    \"Pearson\",\n",
    "]"
   ]
  },
  {
   "cell_type": "code",
   "execution_count": 25,
   "id": "35488a38-3d38-48a0-8039-3cb0605e4fe1",
   "metadata": {
    "papermill": {
     "duration": 0.564665,
     "end_time": "2023-09-11T14:41:57.793157",
     "exception": false,
     "start_time": "2023-09-11T14:41:57.228492",
     "status": "completed"
    },
    "tags": []
   },
   "outputs": [
    {
     "data": {
      "image/png": "[encoded data removed]",
      "text/plain": [
       "<Figure size 396x360 with 1 Axes>"
      ]
     },
     "metadata": {
      "needs_background": "light"
     },
     "output_type": "display_data"
    }
   ],
   "source": [
    "with sns.plotting_context(\"paper\", font_scale=1.5):\n",
    "    g = sns.catplot(\n",
    "        kind=\"point\",\n",
    "        data=plot_data,\n",
    "        x=\"data_size\",\n",
    "        y=\"time\",\n",
    "        hue=\"method\",\n",
    "        hue_order=hue_order,\n",
    "        palette=deep_colors,\n",
    "        height=5,\n",
    "        aspect=1.1,\n",
    "        legend=False,\n",
    "    )\n",
    "\n",
    "    plt.legend(loc=\"best\")\n",
    "    plt.xlabel(\"Number of measured objects\")\n",
    "    plt.ylabel(\"Time (seconds)\")\n",
    "\n",
    "    plt.savefig(\n",
    "        OUTPUT_FIGURE_DIR / f\"{INPUT_FILENAME_TEMPLATE}.svg\",\n",
    "        bbox_inches=\"tight\",\n",
    "        facecolor=\"white\",\n",
    "    )"
   ]
  },
  {
   "cell_type": "code",
   "execution_count": 26,
   "id": "f6f35635-3125-41ff-9e16-1b6b78314d20",
   "metadata": {
    "papermill": {
     "duration": 0.837293,
     "end_time": "2023-09-11T14:41:58.633864",
     "exception": false,
     "start_time": "2023-09-11T14:41:57.796571",
     "status": "completed"
    },
    "tags": []
   },
   "outputs": [
    {
     "data": {
      "image/png": "[encoded data removed]",
      "text/plain": [
       "<Figure size 396x360 with 1 Axes>"
      ]
     },
     "metadata": {
      "needs_background": "light"
     },
     "output_type": "display_data"
    }
   ],
   "source": [
    "with sns.plotting_context(\"paper\", font_scale=1.5):\n",
    "    g = sns.catplot(\n",
    "        kind=\"point\",\n",
    "        data=plot_data,\n",
    "        x=\"data_size\",\n",
    "        y=\"time\",\n",
    "        hue=\"method\",\n",
    "        hue_order=hue_order,\n",
    "        palette=deep_colors,\n",
    "        height=5,\n",
    "        aspect=1.1,\n",
    "        legend=False,\n",
    "    )\n",
    "\n",
    "    plt.legend(loc=\"best\", fontsize=\"small\", framealpha=0.5)\n",
    "    plt.xlabel(\"Number of objects\")\n",
    "    plt.ylabel(\"Time (seconds) in log scale\")\n",
    "    g.ax.set_yscale(\"log\")\n",
    "\n",
    "    plt.savefig(\n",
    "        OUTPUT_FIGURE_DIR / f\"{INPUT_FILENAME_TEMPLATE}-log.svg\",\n",
    "        bbox_inches=\"tight\",\n",
    "        facecolor=\"white\",\n",
    "    )"
   ]
  },
  {
   "cell_type": "markdown",
   "id": "7725ab7d-0cfd-41d2-a537-8e96e09cfcf5",
   "metadata": {
    "papermill": {
     "duration": 0.009823,
     "end_time": "2023-09-11T14:41:58.647513",
     "exception": false,
     "start_time": "2023-09-11T14:41:58.637690",
     "status": "completed"
    },
    "tags": []
   },
   "source": [
    "# Create final figure"
   ]
  },
  {
   "cell_type": "code",
   "execution_count": 27,
   "id": "80f45a4f-c990-4204-96dc-cab0e5c6b416",
   "metadata": {
    "papermill": {
     "duration": 0.01141,
     "end_time": "2023-09-11T14:41:58.662528",
     "exception": false,
     "start_time": "2023-09-11T14:41:58.651118",
     "status": "completed"
    },
    "tags": []
   },
   "outputs": [],
   "source": [
    "from svgutils.compose import Figure, SVG"
   ]
  },
  {
   "cell_type": "code",
   "execution_count": 28,
   "id": "b828ba84-8ffc-419c-bc03-d993c8c76623",
   "metadata": {
    "papermill": {
     "duration": 0.007449,
     "end_time": "2023-09-11T14:41:58.673688",
     "exception": false,
     "start_time": "2023-09-11T14:41:58.666239",
     "status": "completed"
    },
    "tags": []
   },
   "outputs": [],
   "source": [
    "Figure(\n",
    "    \"19.79335cm\",\n",
    "    \"17.09335cm\",\n",
    "    # white background\n",
    "    SVG(COEF_COMP_DIR / \"white_background.svg\").scale(0.5).move(0, 0),\n",
    "    # SVG(OUTPUT_FIGURE_DIR / \"time_test.svg\").scale(0.05),\n",
    "    SVG(OUTPUT_FIGURE_DIR / \"time_test-log.svg\").scale(0.05),\n",
    ").save(OUTPUT_FIGURE_DIR / \"time_test-main.svg\")"
   ]
  },
  {
   "cell_type": "markdown",
   "id": "c575367b-efad-4ad6-90b2-7aedcfdc83cb",
   "metadata": {
    "papermill": {
     "duration": 0.003316,
     "end_time": "2023-09-11T14:41:58.680344",
     "exception": false,
     "start_time": "2023-09-11T14:41:58.677028",
     "status": "completed"
    },
    "tags": []
   },
   "source": [
    "Compile the manuscript with manubot and make sure the image has a white background and displays properly."
   ]
  },
  {
   "cell_type": "code",
   "execution_count": null,
   "id": "4dd9bb5d-3376-4c74-8d04-5999db50509f",
   "metadata": {
    "papermill": {
     "duration": 0.003276,
     "end_time": "2023-09-11T14:41:58.686975",
     "exception": false,
     "start_time": "2023-09-11T14:41:58.683699",
     "status": "completed"
    },
    "tags": []
   },
   "outputs": [],
   "source": []
  }
 ],
 "metadata": {
  "jupytext": {
   "cell_metadata_filter": "all,-execution,-papermill,-trusted",
   "notebook_metadata_filter": "-jupytext.text_representation.jupytext_version",
   "text_representation": {
    "extension": ".py",
    "format_name": "percent",
    "format_version": "1.3"
   }
  },
  "kernelspec": {
   "display_name": "Python 3 (ipykernel)",
   "language": "python",
   "name": "python3"
  },
  "language_info": {
   "codemirror_mode": {
    "name": "ipython",
    "version": 3
   },
   "file_extension": ".py",
   "mimetype": "text/x-python",
   "name": "python",
   "nbconvert_exporter": "python",
   "pygments_lexer": "ipython3",
   "version": "3.9.12"
  },
  "papermill": {
   "default_parameters": {},
   "duration": 4.565652,
   "end_time": "2023-09-11T14:41:58.906450",
   "environment_variables": {},
   "exception": null,
   "input_path": "nbs/99_manuscript/time_test/07-time_test-plot.ipynb",
   "output_path": "nbs/99_manuscript/time_test/07-time_test-plot.run.ipynb",
   "parameters": {
    "GTEX_TISSUE": "skin_sun_exposed_lower_leg"
   },
   "start_time": "2023-09-11T14:41:54.340798",
   "version": "2.3.3"
  }
 },
 "nbformat": 4,
 "nbformat_minor": 5
}
