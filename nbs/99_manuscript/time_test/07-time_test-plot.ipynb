{
 "cells": [
  {
   "cell_type": "markdown",
   "id": "c1948eb4-fb63-4fad-8243-bcd57b98def3",
   "metadata": {
    "papermill": {
     "duration": 0.043688,
     "end_time": "2022-01-28T21:06:31.001528",
     "exception": false,
     "start_time": "2022-01-28T21:06:30.957840",
     "status": "completed"
    },
    "tags": []
   },
   "source": [
    "# Description"
   ]
  },
  {
   "cell_type": "markdown",
   "id": "0abb1d73-c786-4c6d-9dc2-b9243e5183e2",
   "metadata": {
    "papermill": {
     "duration": 0.036913,
     "end_time": "2022-01-28T21:06:31.075451",
     "exception": false,
     "start_time": "2022-01-28T21:06:31.038538",
     "status": "completed"
    },
    "tags": []
   },
   "source": [
    "TODO"
   ]
  },
  {
   "cell_type": "markdown",
   "id": "d6252b4c-6d56-4cf0-aecd-5d8c769a3609",
   "metadata": {
    "papermill": {
     "duration": 0.036915,
     "end_time": "2022-01-28T21:06:31.149476",
     "exception": false,
     "start_time": "2022-01-28T21:06:31.112561",
     "status": "completed"
    },
    "tags": []
   },
   "source": [
    "# Modules loading"
   ]
  },
  {
   "cell_type": "code",
   "execution_count": 1,
   "id": "77e9d29d-5307-4b4a-b103-7d1fbd6a7e56",
   "metadata": {
    "papermill": {
     "duration": 0.300189,
     "end_time": "2022-01-28T21:06:31.486761",
     "exception": false,
     "start_time": "2022-01-28T21:06:31.186572",
     "status": "completed"
    },
    "tags": []
   },
   "outputs": [],
   "source": [
    "import numpy as np\n",
    "import pandas as pd\n",
    "import matplotlib.pyplot as plt\n",
    "import seaborn as sns\n",
    "\n",
    "from clustermatch import conf"
   ]
  },
  {
   "cell_type": "markdown",
   "id": "262eb535-3e5d-43d7-9efd-bd6cfdac9190",
   "metadata": {
    "papermill": {
     "duration": 0.03715,
     "end_time": "2022-01-28T21:06:31.562453",
     "exception": false,
     "start_time": "2022-01-28T21:06:31.525303",
     "status": "completed"
    },
    "tags": []
   },
   "source": [
    "# Settings"
   ]
  },
  {
   "cell_type": "code",
   "execution_count": 2,
   "id": "6efda92a-579a-49e2-893f-ec3a40db8a26",
   "metadata": {},
   "outputs": [],
   "source": [
    "INPUT_FILENAME_TEMPLATE = \"time_test\""
   ]
  },
  {
   "cell_type": "markdown",
   "id": "eec9bb6d-4ba2-4817-9b36-bc8e68a2beae",
   "metadata": {
    "papermill": {
     "duration": 0.037221,
     "end_time": "2022-01-28T21:06:31.718740",
     "exception": false,
     "start_time": "2022-01-28T21:06:31.681519",
     "status": "completed"
    },
    "tags": []
   },
   "source": [
    "# Paths"
   ]
  },
  {
   "cell_type": "code",
   "execution_count": 3,
   "id": "413010af-a3b0-45a0-adb8-8559c06d228c",
   "metadata": {
    "papermill": {
     "duration": 0.085709,
     "end_time": "2021-12-21T20:13:39.269702",
     "exception": false,
     "start_time": "2021-12-21T20:13:39.183993",
     "status": "completed"
    },
    "tags": []
   },
   "outputs": [],
   "source": [
    "assert (\n",
    "    conf.MANUSCRIPT[\"BASE_DIR\"] is not None and conf.MANUSCRIPT[\"BASE_DIR\"].exists()\n",
    "), \"Manuscript dir not set\""
   ]
  },
  {
   "cell_type": "code",
   "execution_count": 4,
   "id": "456e7f20-5950-4cbf-8652-cf6e37fb6231",
   "metadata": {
    "papermill": {
     "duration": 0.086622,
     "end_time": "2021-12-21T20:13:39.436193",
     "exception": false,
     "start_time": "2021-12-21T20:13:39.349571",
     "status": "completed"
    },
    "tags": []
   },
   "outputs": [
    {
     "data": {
      "text/plain": [
       "PosixPath('/opt/manuscript/content/images/coefs_comp/time_test')"
      ]
     },
     "metadata": {},
     "output_type": "display_data"
    }
   ],
   "source": [
    "OUTPUT_FIGURE_DIR = conf.MANUSCRIPT[\"FIGURES_DIR\"] / \"coefs_comp\" / \"time_test\"\n",
    "OUTPUT_FIGURE_DIR.mkdir(parents=True, exist_ok=True)\n",
    "display(OUTPUT_FIGURE_DIR)"
   ]
  },
  {
   "cell_type": "code",
   "execution_count": 5,
   "id": "0b5ba2a4-54a7-4853-b804-cd2e5c476466",
   "metadata": {
    "papermill": {
     "duration": 0.086622,
     "end_time": "2021-12-21T20:13:39.436193",
     "exception": false,
     "start_time": "2021-12-21T20:13:39.349571",
     "status": "completed"
    },
    "tags": []
   },
   "outputs": [
    {
     "data": {
      "text/plain": [
       "PosixPath('/opt/data/results/time_test')"
      ]
     },
     "metadata": {},
     "output_type": "display_data"
    }
   ],
   "source": [
    "INPUT_DIR = conf.RESULTS_DIR / \"time_test\"\n",
    "display(INPUT_DIR)"
   ]
  },
  {
   "cell_type": "markdown",
   "id": "5b6ca2cf-6d86-48d8-aa42-5beaf6e0932b",
   "metadata": {
    "papermill": {
     "duration": 0.045283,
     "end_time": "2022-01-28T21:08:16.089335",
     "exception": false,
     "start_time": "2022-01-28T21:08:16.044052",
     "status": "completed"
    },
    "tags": []
   },
   "source": [
    "# Load results"
   ]
  },
  {
   "cell_type": "code",
   "execution_count": 6,
   "id": "d98986f3-badc-4760-8eed-e24b00ce2696",
   "metadata": {},
   "outputs": [],
   "source": [
    "time_results = pd.read_pickle(INPUT_DIR / f\"{INPUT_FILENAME_TEMPLATE}.pkl\")"
   ]
  },
  {
   "cell_type": "code",
   "execution_count": 7,
   "id": "69511566-f1cd-4d19-ab2d-48d64b1e5055",
   "metadata": {},
   "outputs": [
    {
     "data": {
      "text/plain": [
       "(8440, 4)"
      ]
     },
     "execution_count": 7,
     "metadata": {},
     "output_type": "execute_result"
    }
   ],
   "source": [
    "time_results.shape"
   ]
  },
  {
   "cell_type": "code",
   "execution_count": 8,
   "id": "6fc64cc3-264e-49a7-bbf9-af255e151118",
   "metadata": {},
   "outputs": [
    {
     "data": {
      "text/html": [
       "<div>\n",
       "<style scoped>\n",
       "    .dataframe tbody tr th:only-of-type {\n",
       "        vertical-align: middle;\n",
       "    }\n",
       "\n",
       "    .dataframe tbody tr th {\n",
       "        vertical-align: top;\n",
       "    }\n",
       "\n",
       "    .dataframe thead th {\n",
       "        text-align: right;\n",
       "    }\n",
       "</style>\n",
       "<table border=\"1\" class=\"dataframe\">\n",
       "  <thead>\n",
       "    <tr style=\"text-align: right;\">\n",
       "      <th></th>\n",
       "      <th>data_size</th>\n",
       "      <th>method</th>\n",
       "      <th>time</th>\n",
       "      <th>sim</th>\n",
       "    </tr>\n",
       "  </thead>\n",
       "  <tbody>\n",
       "    <tr>\n",
       "      <th>0</th>\n",
       "      <td>100</td>\n",
       "      <td>p-1</td>\n",
       "      <td>0.000636</td>\n",
       "      <td>-0.115117</td>\n",
       "    </tr>\n",
       "    <tr>\n",
       "      <th>1</th>\n",
       "      <td>100</td>\n",
       "      <td>p-1</td>\n",
       "      <td>0.000231</td>\n",
       "      <td>-0.050567</td>\n",
       "    </tr>\n",
       "    <tr>\n",
       "      <th>2</th>\n",
       "      <td>100</td>\n",
       "      <td>p-1</td>\n",
       "      <td>0.000383</td>\n",
       "      <td>0.215785</td>\n",
       "    </tr>\n",
       "    <tr>\n",
       "      <th>3</th>\n",
       "      <td>100</td>\n",
       "      <td>p-1</td>\n",
       "      <td>0.000319</td>\n",
       "      <td>0.020045</td>\n",
       "    </tr>\n",
       "    <tr>\n",
       "      <th>4</th>\n",
       "      <td>100</td>\n",
       "      <td>p-1</td>\n",
       "      <td>0.000437</td>\n",
       "      <td>0.053343</td>\n",
       "    </tr>\n",
       "  </tbody>\n",
       "</table>\n",
       "</div>"
      ],
      "text/plain": [
       "  data_size method      time       sim\n",
       "0       100    p-1  0.000636 -0.115117\n",
       "1       100    p-1  0.000231 -0.050567\n",
       "2       100    p-1  0.000383  0.215785\n",
       "3       100    p-1  0.000319  0.020045\n",
       "4       100    p-1  0.000437  0.053343"
      ]
     },
     "execution_count": 8,
     "metadata": {},
     "output_type": "execute_result"
    }
   ],
   "source": [
    "time_results.head()"
   ]
  },
  {
   "cell_type": "code",
   "execution_count": 9,
   "id": "511fbab5-e6a0-47a0-8ab6-329f65719a83",
   "metadata": {},
   "outputs": [
    {
     "data": {
      "text/plain": [
       "array(['p-1', 's-1', 'cm-1', 'mic-1', 'p-3', 's-3', 'cm-3', 'mic-3'],\n",
       "      dtype=object)"
      ]
     },
     "execution_count": 9,
     "metadata": {},
     "output_type": "execute_result"
    }
   ],
   "source": [
    "time_results[\"method\"].unique()"
   ]
  },
  {
   "cell_type": "markdown",
   "id": "c2fdf161-71ea-4943-96af-a13612e11736",
   "metadata": {
    "papermill": {
     "duration": 0.045283,
     "end_time": "2022-01-28T21:08:16.089335",
     "exception": false,
     "start_time": "2022-01-28T21:08:16.044052",
     "status": "completed"
    },
    "tags": []
   },
   "source": [
    "# Processing"
   ]
  },
  {
   "cell_type": "code",
   "execution_count": 10,
   "id": "81703394-a7f1-48d6-974a-b987b4dd4c4d",
   "metadata": {},
   "outputs": [],
   "source": [
    "time_results = time_results.replace(\n",
    "    {\n",
    "        \"method\": {\n",
    "            \"p-1\": \"Pearson (1 core)\",\n",
    "            \"s-1\": \"Spearman (1 core)\",\n",
    "            \"cm-1\": \"CCC (1 core)\",\n",
    "            \"mic-1\": \"MIC (1 core)\",\n",
    "            \"p-3\": \"Pearson (3 cores)\",\n",
    "            \"s-3\": \"Spearman (3 cores)\",\n",
    "            \"cm-3\": \"CCC (3 cores)\",\n",
    "            \"mic-3\": \"MIC (3 cores)\",\n",
    "        }\n",
    "    }\n",
    ")"
   ]
  },
  {
   "cell_type": "code",
   "execution_count": 11,
   "id": "e8b96624-7b6c-4ce7-a1c7-d8f2cabab649",
   "metadata": {},
   "outputs": [
    {
     "data": {
      "text/plain": [
       "(8440, 4)"
      ]
     },
     "execution_count": 11,
     "metadata": {},
     "output_type": "execute_result"
    }
   ],
   "source": [
    "time_results.shape"
   ]
  },
  {
   "cell_type": "code",
   "execution_count": 12,
   "id": "6d49c62c-1fcb-4caa-b1f4-e7a224bd3c9b",
   "metadata": {},
   "outputs": [
    {
     "data": {
      "text/html": [
       "<div>\n",
       "<style scoped>\n",
       "    .dataframe tbody tr th:only-of-type {\n",
       "        vertical-align: middle;\n",
       "    }\n",
       "\n",
       "    .dataframe tbody tr th {\n",
       "        vertical-align: top;\n",
       "    }\n",
       "\n",
       "    .dataframe thead th {\n",
       "        text-align: right;\n",
       "    }\n",
       "</style>\n",
       "<table border=\"1\" class=\"dataframe\">\n",
       "  <thead>\n",
       "    <tr style=\"text-align: right;\">\n",
       "      <th></th>\n",
       "      <th>data_size</th>\n",
       "      <th>method</th>\n",
       "      <th>time</th>\n",
       "      <th>sim</th>\n",
       "    </tr>\n",
       "  </thead>\n",
       "  <tbody>\n",
       "    <tr>\n",
       "      <th>0</th>\n",
       "      <td>100</td>\n",
       "      <td>Pearson (1 core)</td>\n",
       "      <td>0.000636</td>\n",
       "      <td>-0.115117</td>\n",
       "    </tr>\n",
       "    <tr>\n",
       "      <th>1</th>\n",
       "      <td>100</td>\n",
       "      <td>Pearson (1 core)</td>\n",
       "      <td>0.000231</td>\n",
       "      <td>-0.050567</td>\n",
       "    </tr>\n",
       "    <tr>\n",
       "      <th>2</th>\n",
       "      <td>100</td>\n",
       "      <td>Pearson (1 core)</td>\n",
       "      <td>0.000383</td>\n",
       "      <td>0.215785</td>\n",
       "    </tr>\n",
       "    <tr>\n",
       "      <th>3</th>\n",
       "      <td>100</td>\n",
       "      <td>Pearson (1 core)</td>\n",
       "      <td>0.000319</td>\n",
       "      <td>0.020045</td>\n",
       "    </tr>\n",
       "    <tr>\n",
       "      <th>4</th>\n",
       "      <td>100</td>\n",
       "      <td>Pearson (1 core)</td>\n",
       "      <td>0.000437</td>\n",
       "      <td>0.053343</td>\n",
       "    </tr>\n",
       "  </tbody>\n",
       "</table>\n",
       "</div>"
      ],
      "text/plain": [
       "  data_size            method      time       sim\n",
       "0       100  Pearson (1 core)  0.000636 -0.115117\n",
       "1       100  Pearson (1 core)  0.000231 -0.050567\n",
       "2       100  Pearson (1 core)  0.000383  0.215785\n",
       "3       100  Pearson (1 core)  0.000319  0.020045\n",
       "4       100  Pearson (1 core)  0.000437  0.053343"
      ]
     },
     "execution_count": 12,
     "metadata": {},
     "output_type": "execute_result"
    }
   ],
   "source": [
    "time_results.head()"
   ]
  },
  {
   "cell_type": "markdown",
   "id": "8b183907-359e-473a-ac51-cb6c388c2595",
   "metadata": {},
   "source": [
    "# Run numbers"
   ]
  },
  {
   "cell_type": "code",
   "execution_count": 13,
   "id": "3eafa2a7-c008-46b9-9119-a745fe873535",
   "metadata": {},
   "outputs": [],
   "source": [
    "plot_data = time_results  # [time_results[\"data_size\"] >= 500]"
   ]
  },
  {
   "cell_type": "code",
   "execution_count": 14,
   "id": "e1279b36-295c-45d2-a2f1-0388161c724f",
   "metadata": {},
   "outputs": [
    {
     "data": {
      "text/html": [
       "<div>\n",
       "<style scoped>\n",
       "    .dataframe tbody tr th:only-of-type {\n",
       "        vertical-align: middle;\n",
       "    }\n",
       "\n",
       "    .dataframe tbody tr th {\n",
       "        vertical-align: top;\n",
       "    }\n",
       "\n",
       "    .dataframe thead th {\n",
       "        text-align: right;\n",
       "    }\n",
       "</style>\n",
       "<table border=\"1\" class=\"dataframe\">\n",
       "  <thead>\n",
       "    <tr style=\"text-align: right;\">\n",
       "      <th></th>\n",
       "      <th></th>\n",
       "      <th>count</th>\n",
       "      <th>mean</th>\n",
       "      <th>std</th>\n",
       "      <th>min</th>\n",
       "      <th>25%</th>\n",
       "      <th>50%</th>\n",
       "      <th>75%</th>\n",
       "      <th>max</th>\n",
       "    </tr>\n",
       "    <tr>\n",
       "      <th>data_size</th>\n",
       "      <th>method</th>\n",
       "      <th></th>\n",
       "      <th></th>\n",
       "      <th></th>\n",
       "      <th></th>\n",
       "      <th></th>\n",
       "      <th></th>\n",
       "      <th></th>\n",
       "      <th></th>\n",
       "    </tr>\n",
       "  </thead>\n",
       "  <tbody>\n",
       "    <tr>\n",
       "      <th rowspan=\"8\" valign=\"top\">100</th>\n",
       "      <th>CCC (1 core)</th>\n",
       "      <td>1000.0</td>\n",
       "      <td>0.003710</td>\n",
       "      <td>0.000421</td>\n",
       "      <td>0.002508</td>\n",
       "      <td>0.003394</td>\n",
       "      <td>0.003677</td>\n",
       "      <td>0.003989</td>\n",
       "      <td>0.006010</td>\n",
       "    </tr>\n",
       "    <tr>\n",
       "      <th>CCC (3 cores)</th>\n",
       "      <td>1000.0</td>\n",
       "      <td>0.003542</td>\n",
       "      <td>0.000609</td>\n",
       "      <td>0.002872</td>\n",
       "      <td>0.003256</td>\n",
       "      <td>0.003397</td>\n",
       "      <td>0.003614</td>\n",
       "      <td>0.009357</td>\n",
       "    </tr>\n",
       "    <tr>\n",
       "      <th>MIC (1 core)</th>\n",
       "      <td>1000.0</td>\n",
       "      <td>0.003010</td>\n",
       "      <td>0.000208</td>\n",
       "      <td>0.002575</td>\n",
       "      <td>0.002885</td>\n",
       "      <td>0.002974</td>\n",
       "      <td>0.003085</td>\n",
       "      <td>0.004453</td>\n",
       "    </tr>\n",
       "    <tr>\n",
       "      <th>MIC (3 cores)</th>\n",
       "      <td>1000.0</td>\n",
       "      <td>0.003469</td>\n",
       "      <td>0.000330</td>\n",
       "      <td>0.002772</td>\n",
       "      <td>0.003239</td>\n",
       "      <td>0.003422</td>\n",
       "      <td>0.003659</td>\n",
       "      <td>0.005357</td>\n",
       "    </tr>\n",
       "    <tr>\n",
       "      <th>Pearson (1 core)</th>\n",
       "      <td>1000.0</td>\n",
       "      <td>0.000079</td>\n",
       "      <td>0.000039</td>\n",
       "      <td>0.000062</td>\n",
       "      <td>0.000064</td>\n",
       "      <td>0.000067</td>\n",
       "      <td>0.000081</td>\n",
       "      <td>0.000636</td>\n",
       "    </tr>\n",
       "    <tr>\n",
       "      <th>Pearson (3 cores)</th>\n",
       "      <td>1000.0</td>\n",
       "      <td>0.000091</td>\n",
       "      <td>0.000032</td>\n",
       "      <td>0.000066</td>\n",
       "      <td>0.000074</td>\n",
       "      <td>0.000082</td>\n",
       "      <td>0.000097</td>\n",
       "      <td>0.000544</td>\n",
       "    </tr>\n",
       "    <tr>\n",
       "      <th>Spearman (1 core)</th>\n",
       "      <td>1000.0</td>\n",
       "      <td>0.000447</td>\n",
       "      <td>0.000068</td>\n",
       "      <td>0.000412</td>\n",
       "      <td>0.000416</td>\n",
       "      <td>0.000419</td>\n",
       "      <td>0.000445</td>\n",
       "      <td>0.001068</td>\n",
       "    </tr>\n",
       "    <tr>\n",
       "      <th>Spearman (3 cores)</th>\n",
       "      <td>1000.0</td>\n",
       "      <td>0.000528</td>\n",
       "      <td>0.000097</td>\n",
       "      <td>0.000419</td>\n",
       "      <td>0.000461</td>\n",
       "      <td>0.000495</td>\n",
       "      <td>0.000560</td>\n",
       "      <td>0.001082</td>\n",
       "    </tr>\n",
       "    <tr>\n",
       "      <th rowspan=\"8\" valign=\"top\">500</th>\n",
       "      <th>CCC (1 core)</th>\n",
       "      <td>10.0</td>\n",
       "      <td>0.005987</td>\n",
       "      <td>0.000187</td>\n",
       "      <td>0.005709</td>\n",
       "      <td>0.005864</td>\n",
       "      <td>0.006031</td>\n",
       "      <td>0.006140</td>\n",
       "      <td>0.006191</td>\n",
       "    </tr>\n",
       "    <tr>\n",
       "      <th>CCC (3 cores)</th>\n",
       "      <td>10.0</td>\n",
       "      <td>0.004925</td>\n",
       "      <td>0.000766</td>\n",
       "      <td>0.003986</td>\n",
       "      <td>0.004402</td>\n",
       "      <td>0.004639</td>\n",
       "      <td>0.005369</td>\n",
       "      <td>0.006448</td>\n",
       "    </tr>\n",
       "    <tr>\n",
       "      <th>MIC (1 core)</th>\n",
       "      <td>10.0</td>\n",
       "      <td>0.046226</td>\n",
       "      <td>0.003265</td>\n",
       "      <td>0.042793</td>\n",
       "      <td>0.043525</td>\n",
       "      <td>0.045603</td>\n",
       "      <td>0.048163</td>\n",
       "      <td>0.053079</td>\n",
       "    </tr>\n",
       "    <tr>\n",
       "      <th>MIC (3 cores)</th>\n",
       "      <td>10.0</td>\n",
       "      <td>0.049948</td>\n",
       "      <td>0.001890</td>\n",
       "      <td>0.047017</td>\n",
       "      <td>0.048448</td>\n",
       "      <td>0.050371</td>\n",
       "      <td>0.051383</td>\n",
       "      <td>0.052536</td>\n",
       "    </tr>\n",
       "    <tr>\n",
       "      <th>Pearson (1 core)</th>\n",
       "      <td>10.0</td>\n",
       "      <td>0.000082</td>\n",
       "      <td>0.000019</td>\n",
       "      <td>0.000066</td>\n",
       "      <td>0.000068</td>\n",
       "      <td>0.000078</td>\n",
       "      <td>0.000084</td>\n",
       "      <td>0.000118</td>\n",
       "    </tr>\n",
       "    <tr>\n",
       "      <th>Pearson (3 cores)</th>\n",
       "      <td>10.0</td>\n",
       "      <td>0.000083</td>\n",
       "      <td>0.000012</td>\n",
       "      <td>0.000072</td>\n",
       "      <td>0.000075</td>\n",
       "      <td>0.000077</td>\n",
       "      <td>0.000091</td>\n",
       "      <td>0.000110</td>\n",
       "    </tr>\n",
       "    <tr>\n",
       "      <th>Spearman (1 core)</th>\n",
       "      <td>10.0</td>\n",
       "      <td>0.000550</td>\n",
       "      <td>0.000073</td>\n",
       "      <td>0.000490</td>\n",
       "      <td>0.000497</td>\n",
       "      <td>0.000553</td>\n",
       "      <td>0.000560</td>\n",
       "      <td>0.000737</td>\n",
       "    </tr>\n",
       "    <tr>\n",
       "      <th>Spearman (3 cores)</th>\n",
       "      <td>10.0</td>\n",
       "      <td>0.000610</td>\n",
       "      <td>0.000096</td>\n",
       "      <td>0.000535</td>\n",
       "      <td>0.000544</td>\n",
       "      <td>0.000567</td>\n",
       "      <td>0.000636</td>\n",
       "      <td>0.000786</td>\n",
       "    </tr>\n",
       "    <tr>\n",
       "      <th rowspan=\"8\" valign=\"top\">1000</th>\n",
       "      <th>CCC (1 core)</th>\n",
       "      <td>10.0</td>\n",
       "      <td>0.011192</td>\n",
       "      <td>0.000983</td>\n",
       "      <td>0.009629</td>\n",
       "      <td>0.010399</td>\n",
       "      <td>0.011299</td>\n",
       "      <td>0.012101</td>\n",
       "      <td>0.012245</td>\n",
       "    </tr>\n",
       "    <tr>\n",
       "      <th>CCC (3 cores)</th>\n",
       "      <td>10.0</td>\n",
       "      <td>0.007026</td>\n",
       "      <td>0.000534</td>\n",
       "      <td>0.006073</td>\n",
       "      <td>0.006657</td>\n",
       "      <td>0.007135</td>\n",
       "      <td>0.007353</td>\n",
       "      <td>0.007740</td>\n",
       "    </tr>\n",
       "    <tr>\n",
       "      <th>MIC (1 core)</th>\n",
       "      <td>10.0</td>\n",
       "      <td>0.134945</td>\n",
       "      <td>0.007211</td>\n",
       "      <td>0.128702</td>\n",
       "      <td>0.129927</td>\n",
       "      <td>0.132321</td>\n",
       "      <td>0.135914</td>\n",
       "      <td>0.149583</td>\n",
       "    </tr>\n",
       "    <tr>\n",
       "      <th>MIC (3 cores)</th>\n",
       "      <td>10.0</td>\n",
       "      <td>0.197101</td>\n",
       "      <td>0.035714</td>\n",
       "      <td>0.152836</td>\n",
       "      <td>0.172889</td>\n",
       "      <td>0.197958</td>\n",
       "      <td>0.207694</td>\n",
       "      <td>0.271949</td>\n",
       "    </tr>\n",
       "    <tr>\n",
       "      <th>Pearson (1 core)</th>\n",
       "      <td>10.0</td>\n",
       "      <td>0.000074</td>\n",
       "      <td>0.000008</td>\n",
       "      <td>0.000070</td>\n",
       "      <td>0.000071</td>\n",
       "      <td>0.000071</td>\n",
       "      <td>0.000072</td>\n",
       "      <td>0.000097</td>\n",
       "    </tr>\n",
       "    <tr>\n",
       "      <th>Pearson (3 cores)</th>\n",
       "      <td>10.0</td>\n",
       "      <td>0.000099</td>\n",
       "      <td>0.000028</td>\n",
       "      <td>0.000077</td>\n",
       "      <td>0.000079</td>\n",
       "      <td>0.000087</td>\n",
       "      <td>0.000115</td>\n",
       "      <td>0.000162</td>\n",
       "    </tr>\n",
       "    <tr>\n",
       "      <th>Spearman (1 core)</th>\n",
       "      <td>10.0</td>\n",
       "      <td>0.000603</td>\n",
       "      <td>0.000075</td>\n",
       "      <td>0.000556</td>\n",
       "      <td>0.000559</td>\n",
       "      <td>0.000571</td>\n",
       "      <td>0.000605</td>\n",
       "      <td>0.000795</td>\n",
       "    </tr>\n",
       "    <tr>\n",
       "      <th>Spearman (3 cores)</th>\n",
       "      <td>10.0</td>\n",
       "      <td>0.000702</td>\n",
       "      <td>0.000091</td>\n",
       "      <td>0.000628</td>\n",
       "      <td>0.000640</td>\n",
       "      <td>0.000661</td>\n",
       "      <td>0.000720</td>\n",
       "      <td>0.000885</td>\n",
       "    </tr>\n",
       "    <tr>\n",
       "      <th rowspan=\"8\" valign=\"top\">5000</th>\n",
       "      <th>CCC (1 core)</th>\n",
       "      <td>10.0</td>\n",
       "      <td>0.050882</td>\n",
       "      <td>0.005271</td>\n",
       "      <td>0.044040</td>\n",
       "      <td>0.046477</td>\n",
       "      <td>0.050584</td>\n",
       "      <td>0.054997</td>\n",
       "      <td>0.059477</td>\n",
       "    </tr>\n",
       "    <tr>\n",
       "      <th>CCC (3 cores)</th>\n",
       "      <td>10.0</td>\n",
       "      <td>0.024470</td>\n",
       "      <td>0.002186</td>\n",
       "      <td>0.022335</td>\n",
       "      <td>0.023116</td>\n",
       "      <td>0.023975</td>\n",
       "      <td>0.024521</td>\n",
       "      <td>0.029718</td>\n",
       "    </tr>\n",
       "    <tr>\n",
       "      <th>MIC (1 core)</th>\n",
       "      <td>10.0</td>\n",
       "      <td>1.659988</td>\n",
       "      <td>0.092347</td>\n",
       "      <td>1.548927</td>\n",
       "      <td>1.585324</td>\n",
       "      <td>1.645656</td>\n",
       "      <td>1.732935</td>\n",
       "      <td>1.822094</td>\n",
       "    </tr>\n",
       "    <tr>\n",
       "      <th>MIC (3 cores)</th>\n",
       "      <td>10.0</td>\n",
       "      <td>1.780787</td>\n",
       "      <td>0.066017</td>\n",
       "      <td>1.726806</td>\n",
       "      <td>1.742041</td>\n",
       "      <td>1.752689</td>\n",
       "      <td>1.811211</td>\n",
       "      <td>1.926541</td>\n",
       "    </tr>\n",
       "    <tr>\n",
       "      <th>Pearson (1 core)</th>\n",
       "      <td>10.0</td>\n",
       "      <td>0.000102</td>\n",
       "      <td>0.000016</td>\n",
       "      <td>0.000092</td>\n",
       "      <td>0.000093</td>\n",
       "      <td>0.000096</td>\n",
       "      <td>0.000100</td>\n",
       "      <td>0.000137</td>\n",
       "    </tr>\n",
       "    <tr>\n",
       "      <th>Pearson (3 cores)</th>\n",
       "      <td>10.0</td>\n",
       "      <td>0.000130</td>\n",
       "      <td>0.000029</td>\n",
       "      <td>0.000105</td>\n",
       "      <td>0.000108</td>\n",
       "      <td>0.000117</td>\n",
       "      <td>0.000139</td>\n",
       "      <td>0.000182</td>\n",
       "    </tr>\n",
       "    <tr>\n",
       "      <th>Spearman (1 core)</th>\n",
       "      <td>10.0</td>\n",
       "      <td>0.001312</td>\n",
       "      <td>0.000117</td>\n",
       "      <td>0.001117</td>\n",
       "      <td>0.001260</td>\n",
       "      <td>0.001312</td>\n",
       "      <td>0.001372</td>\n",
       "      <td>0.001516</td>\n",
       "    </tr>\n",
       "    <tr>\n",
       "      <th>Spearman (3 cores)</th>\n",
       "      <td>10.0</td>\n",
       "      <td>0.001437</td>\n",
       "      <td>0.000221</td>\n",
       "      <td>0.001273</td>\n",
       "      <td>0.001307</td>\n",
       "      <td>0.001355</td>\n",
       "      <td>0.001503</td>\n",
       "      <td>0.002000</td>\n",
       "    </tr>\n",
       "    <tr>\n",
       "      <th rowspan=\"8\" valign=\"top\">10000</th>\n",
       "      <th>CCC (1 core)</th>\n",
       "      <td>10.0</td>\n",
       "      <td>0.088035</td>\n",
       "      <td>0.003254</td>\n",
       "      <td>0.085421</td>\n",
       "      <td>0.086108</td>\n",
       "      <td>0.087026</td>\n",
       "      <td>0.088138</td>\n",
       "      <td>0.096442</td>\n",
       "    </tr>\n",
       "    <tr>\n",
       "      <th>CCC (3 cores)</th>\n",
       "      <td>10.0</td>\n",
       "      <td>0.046904</td>\n",
       "      <td>0.004826</td>\n",
       "      <td>0.044204</td>\n",
       "      <td>0.044859</td>\n",
       "      <td>0.045003</td>\n",
       "      <td>0.046514</td>\n",
       "      <td>0.060374</td>\n",
       "    </tr>\n",
       "    <tr>\n",
       "      <th>MIC (1 core)</th>\n",
       "      <td>10.0</td>\n",
       "      <td>8.502117</td>\n",
       "      <td>2.861815</td>\n",
       "      <td>6.262207</td>\n",
       "      <td>6.800140</td>\n",
       "      <td>7.383278</td>\n",
       "      <td>8.313417</td>\n",
       "      <td>15.216221</td>\n",
       "    </tr>\n",
       "    <tr>\n",
       "      <th>MIC (3 cores)</th>\n",
       "      <td>10.0</td>\n",
       "      <td>6.865010</td>\n",
       "      <td>0.133076</td>\n",
       "      <td>6.668336</td>\n",
       "      <td>6.793396</td>\n",
       "      <td>6.847381</td>\n",
       "      <td>6.928616</td>\n",
       "      <td>7.123973</td>\n",
       "    </tr>\n",
       "    <tr>\n",
       "      <th>Pearson (1 core)</th>\n",
       "      <td>10.0</td>\n",
       "      <td>0.000141</td>\n",
       "      <td>0.000047</td>\n",
       "      <td>0.000115</td>\n",
       "      <td>0.000117</td>\n",
       "      <td>0.000119</td>\n",
       "      <td>0.000144</td>\n",
       "      <td>0.000265</td>\n",
       "    </tr>\n",
       "    <tr>\n",
       "      <th>Pearson (3 cores)</th>\n",
       "      <td>10.0</td>\n",
       "      <td>0.000173</td>\n",
       "      <td>0.000044</td>\n",
       "      <td>0.000126</td>\n",
       "      <td>0.000150</td>\n",
       "      <td>0.000153</td>\n",
       "      <td>0.000198</td>\n",
       "      <td>0.000270</td>\n",
       "    </tr>\n",
       "    <tr>\n",
       "      <th>Spearman (1 core)</th>\n",
       "      <td>10.0</td>\n",
       "      <td>0.001980</td>\n",
       "      <td>0.000115</td>\n",
       "      <td>0.001915</td>\n",
       "      <td>0.001918</td>\n",
       "      <td>0.001944</td>\n",
       "      <td>0.001981</td>\n",
       "      <td>0.002295</td>\n",
       "    </tr>\n",
       "    <tr>\n",
       "      <th>Spearman (3 cores)</th>\n",
       "      <td>10.0</td>\n",
       "      <td>0.002410</td>\n",
       "      <td>0.000218</td>\n",
       "      <td>0.002213</td>\n",
       "      <td>0.002257</td>\n",
       "      <td>0.002379</td>\n",
       "      <td>0.002454</td>\n",
       "      <td>0.002959</td>\n",
       "    </tr>\n",
       "    <tr>\n",
       "      <th rowspan=\"6\" valign=\"top\">100000</th>\n",
       "      <th>CCC (1 core)</th>\n",
       "      <td>10.0</td>\n",
       "      <td>1.266635</td>\n",
       "      <td>0.159049</td>\n",
       "      <td>1.118050</td>\n",
       "      <td>1.158667</td>\n",
       "      <td>1.239431</td>\n",
       "      <td>1.305414</td>\n",
       "      <td>1.656237</td>\n",
       "    </tr>\n",
       "    <tr>\n",
       "      <th>CCC (3 cores)</th>\n",
       "      <td>10.0</td>\n",
       "      <td>0.493088</td>\n",
       "      <td>0.012828</td>\n",
       "      <td>0.482153</td>\n",
       "      <td>0.484958</td>\n",
       "      <td>0.489226</td>\n",
       "      <td>0.496788</td>\n",
       "      <td>0.525398</td>\n",
       "    </tr>\n",
       "    <tr>\n",
       "      <th>Pearson (1 core)</th>\n",
       "      <td>10.0</td>\n",
       "      <td>0.002834</td>\n",
       "      <td>0.000835</td>\n",
       "      <td>0.002021</td>\n",
       "      <td>0.002217</td>\n",
       "      <td>0.002613</td>\n",
       "      <td>0.003215</td>\n",
       "      <td>0.004723</td>\n",
       "    </tr>\n",
       "    <tr>\n",
       "      <th>Pearson (3 cores)</th>\n",
       "      <td>10.0</td>\n",
       "      <td>0.002012</td>\n",
       "      <td>0.000798</td>\n",
       "      <td>0.001006</td>\n",
       "      <td>0.001331</td>\n",
       "      <td>0.002001</td>\n",
       "      <td>0.002671</td>\n",
       "      <td>0.003115</td>\n",
       "    </tr>\n",
       "    <tr>\n",
       "      <th>Spearman (1 core)</th>\n",
       "      <td>10.0</td>\n",
       "      <td>0.036235</td>\n",
       "      <td>0.006507</td>\n",
       "      <td>0.032540</td>\n",
       "      <td>0.033244</td>\n",
       "      <td>0.034301</td>\n",
       "      <td>0.035461</td>\n",
       "      <td>0.054418</td>\n",
       "    </tr>\n",
       "    <tr>\n",
       "      <th>Spearman (3 cores)</th>\n",
       "      <td>10.0</td>\n",
       "      <td>0.031381</td>\n",
       "      <td>0.003025</td>\n",
       "      <td>0.028488</td>\n",
       "      <td>0.029323</td>\n",
       "      <td>0.030855</td>\n",
       "      <td>0.031982</td>\n",
       "      <td>0.038642</td>\n",
       "    </tr>\n",
       "    <tr>\n",
       "      <th rowspan=\"6\" valign=\"top\">1000000</th>\n",
       "      <th>CCC (1 core)</th>\n",
       "      <td>10.0</td>\n",
       "      <td>15.155038</td>\n",
       "      <td>0.753912</td>\n",
       "      <td>14.302512</td>\n",
       "      <td>14.747827</td>\n",
       "      <td>15.028576</td>\n",
       "      <td>15.098214</td>\n",
       "      <td>16.890542</td>\n",
       "    </tr>\n",
       "    <tr>\n",
       "      <th>CCC (3 cores)</th>\n",
       "      <td>10.0</td>\n",
       "      <td>6.878873</td>\n",
       "      <td>0.077737</td>\n",
       "      <td>6.794439</td>\n",
       "      <td>6.798586</td>\n",
       "      <td>6.880340</td>\n",
       "      <td>6.938041</td>\n",
       "      <td>6.994992</td>\n",
       "    </tr>\n",
       "    <tr>\n",
       "      <th>Pearson (1 core)</th>\n",
       "      <td>10.0</td>\n",
       "      <td>0.015348</td>\n",
       "      <td>0.001186</td>\n",
       "      <td>0.013513</td>\n",
       "      <td>0.014531</td>\n",
       "      <td>0.015425</td>\n",
       "      <td>0.016209</td>\n",
       "      <td>0.016860</td>\n",
       "    </tr>\n",
       "    <tr>\n",
       "      <th>Pearson (3 cores)</th>\n",
       "      <td>10.0</td>\n",
       "      <td>0.015459</td>\n",
       "      <td>0.000846</td>\n",
       "      <td>0.014365</td>\n",
       "      <td>0.014794</td>\n",
       "      <td>0.015369</td>\n",
       "      <td>0.015948</td>\n",
       "      <td>0.017230</td>\n",
       "    </tr>\n",
       "    <tr>\n",
       "      <th>Spearman (1 core)</th>\n",
       "      <td>10.0</td>\n",
       "      <td>0.482582</td>\n",
       "      <td>0.008343</td>\n",
       "      <td>0.470313</td>\n",
       "      <td>0.477137</td>\n",
       "      <td>0.483206</td>\n",
       "      <td>0.488659</td>\n",
       "      <td>0.495587</td>\n",
       "    </tr>\n",
       "    <tr>\n",
       "      <th>Spearman (3 cores)</th>\n",
       "      <td>10.0</td>\n",
       "      <td>0.397964</td>\n",
       "      <td>0.022290</td>\n",
       "      <td>0.378316</td>\n",
       "      <td>0.389388</td>\n",
       "      <td>0.391391</td>\n",
       "      <td>0.396095</td>\n",
       "      <td>0.457016</td>\n",
       "    </tr>\n",
       "  </tbody>\n",
       "</table>\n",
       "</div>"
      ],
      "text/plain": [
       "                               count       mean       std        min  \\\n",
       "data_size method                                                       \n",
       "100       CCC (1 core)        1000.0   0.003710  0.000421   0.002508   \n",
       "          CCC (3 cores)       1000.0   0.003542  0.000609   0.002872   \n",
       "          MIC (1 core)        1000.0   0.003010  0.000208   0.002575   \n",
       "          MIC (3 cores)       1000.0   0.003469  0.000330   0.002772   \n",
       "          Pearson (1 core)    1000.0   0.000079  0.000039   0.000062   \n",
       "          Pearson (3 cores)   1000.0   0.000091  0.000032   0.000066   \n",
       "          Spearman (1 core)   1000.0   0.000447  0.000068   0.000412   \n",
       "          Spearman (3 cores)  1000.0   0.000528  0.000097   0.000419   \n",
       "500       CCC (1 core)          10.0   0.005987  0.000187   0.005709   \n",
       "          CCC (3 cores)         10.0   0.004925  0.000766   0.003986   \n",
       "          MIC (1 core)          10.0   0.046226  0.003265   0.042793   \n",
       "          MIC (3 cores)         10.0   0.049948  0.001890   0.047017   \n",
       "          Pearson (1 core)      10.0   0.000082  0.000019   0.000066   \n",
       "          Pearson (3 cores)     10.0   0.000083  0.000012   0.000072   \n",
       "          Spearman (1 core)     10.0   0.000550  0.000073   0.000490   \n",
       "          Spearman (3 cores)    10.0   0.000610  0.000096   0.000535   \n",
       "1000      CCC (1 core)          10.0   0.011192  0.000983   0.009629   \n",
       "          CCC (3 cores)         10.0   0.007026  0.000534   0.006073   \n",
       "          MIC (1 core)          10.0   0.134945  0.007211   0.128702   \n",
       "          MIC (3 cores)         10.0   0.197101  0.035714   0.152836   \n",
       "          Pearson (1 core)      10.0   0.000074  0.000008   0.000070   \n",
       "          Pearson (3 cores)     10.0   0.000099  0.000028   0.000077   \n",
       "          Spearman (1 core)     10.0   0.000603  0.000075   0.000556   \n",
       "          Spearman (3 cores)    10.0   0.000702  0.000091   0.000628   \n",
       "5000      CCC (1 core)          10.0   0.050882  0.005271   0.044040   \n",
       "          CCC (3 cores)         10.0   0.024470  0.002186   0.022335   \n",
       "          MIC (1 core)          10.0   1.659988  0.092347   1.548927   \n",
       "          MIC (3 cores)         10.0   1.780787  0.066017   1.726806   \n",
       "          Pearson (1 core)      10.0   0.000102  0.000016   0.000092   \n",
       "          Pearson (3 cores)     10.0   0.000130  0.000029   0.000105   \n",
       "          Spearman (1 core)     10.0   0.001312  0.000117   0.001117   \n",
       "          Spearman (3 cores)    10.0   0.001437  0.000221   0.001273   \n",
       "10000     CCC (1 core)          10.0   0.088035  0.003254   0.085421   \n",
       "          CCC (3 cores)         10.0   0.046904  0.004826   0.044204   \n",
       "          MIC (1 core)          10.0   8.502117  2.861815   6.262207   \n",
       "          MIC (3 cores)         10.0   6.865010  0.133076   6.668336   \n",
       "          Pearson (1 core)      10.0   0.000141  0.000047   0.000115   \n",
       "          Pearson (3 cores)     10.0   0.000173  0.000044   0.000126   \n",
       "          Spearman (1 core)     10.0   0.001980  0.000115   0.001915   \n",
       "          Spearman (3 cores)    10.0   0.002410  0.000218   0.002213   \n",
       "100000    CCC (1 core)          10.0   1.266635  0.159049   1.118050   \n",
       "          CCC (3 cores)         10.0   0.493088  0.012828   0.482153   \n",
       "          Pearson (1 core)      10.0   0.002834  0.000835   0.002021   \n",
       "          Pearson (3 cores)     10.0   0.002012  0.000798   0.001006   \n",
       "          Spearman (1 core)     10.0   0.036235  0.006507   0.032540   \n",
       "          Spearman (3 cores)    10.0   0.031381  0.003025   0.028488   \n",
       "1000000   CCC (1 core)          10.0  15.155038  0.753912  14.302512   \n",
       "          CCC (3 cores)         10.0   6.878873  0.077737   6.794439   \n",
       "          Pearson (1 core)      10.0   0.015348  0.001186   0.013513   \n",
       "          Pearson (3 cores)     10.0   0.015459  0.000846   0.014365   \n",
       "          Spearman (1 core)     10.0   0.482582  0.008343   0.470313   \n",
       "          Spearman (3 cores)    10.0   0.397964  0.022290   0.378316   \n",
       "\n",
       "                                    25%        50%        75%        max  \n",
       "data_size method                                                          \n",
       "100       CCC (1 core)         0.003394   0.003677   0.003989   0.006010  \n",
       "          CCC (3 cores)        0.003256   0.003397   0.003614   0.009357  \n",
       "          MIC (1 core)         0.002885   0.002974   0.003085   0.004453  \n",
       "          MIC (3 cores)        0.003239   0.003422   0.003659   0.005357  \n",
       "          Pearson (1 core)     0.000064   0.000067   0.000081   0.000636  \n",
       "          Pearson (3 cores)    0.000074   0.000082   0.000097   0.000544  \n",
       "          Spearman (1 core)    0.000416   0.000419   0.000445   0.001068  \n",
       "          Spearman (3 cores)   0.000461   0.000495   0.000560   0.001082  \n",
       "500       CCC (1 core)         0.005864   0.006031   0.006140   0.006191  \n",
       "          CCC (3 cores)        0.004402   0.004639   0.005369   0.006448  \n",
       "          MIC (1 core)         0.043525   0.045603   0.048163   0.053079  \n",
       "          MIC (3 cores)        0.048448   0.050371   0.051383   0.052536  \n",
       "          Pearson (1 core)     0.000068   0.000078   0.000084   0.000118  \n",
       "          Pearson (3 cores)    0.000075   0.000077   0.000091   0.000110  \n",
       "          Spearman (1 core)    0.000497   0.000553   0.000560   0.000737  \n",
       "          Spearman (3 cores)   0.000544   0.000567   0.000636   0.000786  \n",
       "1000      CCC (1 core)         0.010399   0.011299   0.012101   0.012245  \n",
       "          CCC (3 cores)        0.006657   0.007135   0.007353   0.007740  \n",
       "          MIC (1 core)         0.129927   0.132321   0.135914   0.149583  \n",
       "          MIC (3 cores)        0.172889   0.197958   0.207694   0.271949  \n",
       "          Pearson (1 core)     0.000071   0.000071   0.000072   0.000097  \n",
       "          Pearson (3 cores)    0.000079   0.000087   0.000115   0.000162  \n",
       "          Spearman (1 core)    0.000559   0.000571   0.000605   0.000795  \n",
       "          Spearman (3 cores)   0.000640   0.000661   0.000720   0.000885  \n",
       "5000      CCC (1 core)         0.046477   0.050584   0.054997   0.059477  \n",
       "          CCC (3 cores)        0.023116   0.023975   0.024521   0.029718  \n",
       "          MIC (1 core)         1.585324   1.645656   1.732935   1.822094  \n",
       "          MIC (3 cores)        1.742041   1.752689   1.811211   1.926541  \n",
       "          Pearson (1 core)     0.000093   0.000096   0.000100   0.000137  \n",
       "          Pearson (3 cores)    0.000108   0.000117   0.000139   0.000182  \n",
       "          Spearman (1 core)    0.001260   0.001312   0.001372   0.001516  \n",
       "          Spearman (3 cores)   0.001307   0.001355   0.001503   0.002000  \n",
       "10000     CCC (1 core)         0.086108   0.087026   0.088138   0.096442  \n",
       "          CCC (3 cores)        0.044859   0.045003   0.046514   0.060374  \n",
       "          MIC (1 core)         6.800140   7.383278   8.313417  15.216221  \n",
       "          MIC (3 cores)        6.793396   6.847381   6.928616   7.123973  \n",
       "          Pearson (1 core)     0.000117   0.000119   0.000144   0.000265  \n",
       "          Pearson (3 cores)    0.000150   0.000153   0.000198   0.000270  \n",
       "          Spearman (1 core)    0.001918   0.001944   0.001981   0.002295  \n",
       "          Spearman (3 cores)   0.002257   0.002379   0.002454   0.002959  \n",
       "100000    CCC (1 core)         1.158667   1.239431   1.305414   1.656237  \n",
       "          CCC (3 cores)        0.484958   0.489226   0.496788   0.525398  \n",
       "          Pearson (1 core)     0.002217   0.002613   0.003215   0.004723  \n",
       "          Pearson (3 cores)    0.001331   0.002001   0.002671   0.003115  \n",
       "          Spearman (1 core)    0.033244   0.034301   0.035461   0.054418  \n",
       "          Spearman (3 cores)   0.029323   0.030855   0.031982   0.038642  \n",
       "1000000   CCC (1 core)        14.747827  15.028576  15.098214  16.890542  \n",
       "          CCC (3 cores)        6.798586   6.880340   6.938041   6.994992  \n",
       "          Pearson (1 core)     0.014531   0.015425   0.016209   0.016860  \n",
       "          Pearson (3 cores)    0.014794   0.015369   0.015948   0.017230  \n",
       "          Spearman (1 core)    0.477137   0.483206   0.488659   0.495587  \n",
       "          Spearman (3 cores)   0.389388   0.391391   0.396095   0.457016  "
      ]
     },
     "metadata": {},
     "output_type": "display_data"
    }
   ],
   "source": [
    "run_numbers = plot_data.groupby([\"data_size\", \"method\"])[\"time\"].describe()\n",
    "display(run_numbers)"
   ]
  },
  {
   "cell_type": "markdown",
   "id": "772f2cd8-22b9-4106-93e2-1c8063370356",
   "metadata": {},
   "source": [
    "# Plot#"
   ]
  },
  {
   "cell_type": "code",
   "execution_count": 15,
   "id": "3b4ffedd-661b-40da-b323-4d29f38c3b72",
   "metadata": {},
   "outputs": [],
   "source": [
    "hue_order = None  # [\"CCC\", \"MIC\", \"Pearson\", \"Spearman\"]"
   ]
  },
  {
   "cell_type": "code",
   "execution_count": 16,
   "id": "e3c79816-6703-4236-b55a-c6dc38d4d600",
   "metadata": {},
   "outputs": [
    {
     "data": {
      "text/html": [
       "<svg  width=\"550\" height=\"55\"><rect x=\"0\" y=\"0\" width=\"55\" height=\"55\" style=\"fill:#4c72b0;stroke-width:2;stroke:rgb(255,255,255)\"/><rect x=\"55\" y=\"0\" width=\"55\" height=\"55\" style=\"fill:#dd8452;stroke-width:2;stroke:rgb(255,255,255)\"/><rect x=\"110\" y=\"0\" width=\"55\" height=\"55\" style=\"fill:#55a868;stroke-width:2;stroke:rgb(255,255,255)\"/><rect x=\"165\" y=\"0\" width=\"55\" height=\"55\" style=\"fill:#c44e52;stroke-width:2;stroke:rgb(255,255,255)\"/><rect x=\"220\" y=\"0\" width=\"55\" height=\"55\" style=\"fill:#8172b3;stroke-width:2;stroke:rgb(255,255,255)\"/><rect x=\"275\" y=\"0\" width=\"55\" height=\"55\" style=\"fill:#937860;stroke-width:2;stroke:rgb(255,255,255)\"/><rect x=\"330\" y=\"0\" width=\"55\" height=\"55\" style=\"fill:#da8bc3;stroke-width:2;stroke:rgb(255,255,255)\"/><rect x=\"385\" y=\"0\" width=\"55\" height=\"55\" style=\"fill:#8c8c8c;stroke-width:2;stroke:rgb(255,255,255)\"/><rect x=\"440\" y=\"0\" width=\"55\" height=\"55\" style=\"fill:#ccb974;stroke-width:2;stroke:rgb(255,255,255)\"/><rect x=\"495\" y=\"0\" width=\"55\" height=\"55\" style=\"fill:#64b5cd;stroke-width:2;stroke:rgb(255,255,255)\"/></svg>"
      ],
      "text/plain": [
       "[(0.2980392156862745, 0.4470588235294118, 0.6901960784313725),\n",
       " (0.8666666666666667, 0.5176470588235295, 0.3215686274509804),\n",
       " (0.3333333333333333, 0.6588235294117647, 0.40784313725490196),\n",
       " (0.7686274509803922, 0.3058823529411765, 0.3215686274509804),\n",
       " (0.5058823529411764, 0.4470588235294118, 0.7019607843137254),\n",
       " (0.5764705882352941, 0.47058823529411764, 0.3764705882352941),\n",
       " (0.8549019607843137, 0.5450980392156862, 0.7647058823529411),\n",
       " (0.5490196078431373, 0.5490196078431373, 0.5490196078431373),\n",
       " (0.8, 0.7254901960784313, 0.4549019607843137),\n",
       " (0.39215686274509803, 0.7098039215686275, 0.803921568627451)]"
      ]
     },
     "metadata": {},
     "output_type": "display_data"
    }
   ],
   "source": [
    "deep_colors = sns.color_palette(\"deep\")\n",
    "display(deep_colors)"
   ]
  },
  {
   "cell_type": "code",
   "execution_count": 17,
   "id": "a510ec86-d961-4b38-a3f9-d624de97c4cd",
   "metadata": {},
   "outputs": [],
   "source": [
    "# colors = {\n",
    "#     \"CCC\": deep_colors[0],\n",
    "#     \"Pearson\": deep_colors[1],\n",
    "#     \"Spearman\": deep_colors[2],\n",
    "# }"
   ]
  },
  {
   "cell_type": "code",
   "execution_count": 18,
   "id": "59249512-0a19-4868-b5a0-5dc4e271c8af",
   "metadata": {},
   "outputs": [],
   "source": [
    "def format_data_size(x):\n",
    "    if x < 1000:\n",
    "        return f\"{int(x)}\"\n",
    "    elif x < 1000000:\n",
    "        return f\"{int(x/1000)}k\"\n",
    "\n",
    "    return f\"{int(x/1000000)}m\"\n",
    "\n",
    "\n",
    "plot_data = plot_data.assign(data_size=plot_data[\"data_size\"].apply(format_data_size))"
   ]
  },
  {
   "cell_type": "markdown",
   "id": "c581b4df-26fe-43e2-ba23-3595534c7ea2",
   "metadata": {},
   "source": [
    "## First analysis"
   ]
  },
  {
   "cell_type": "markdown",
   "id": "5fcb16ca-07a6-41b9-aa18-f22b84194e71",
   "metadata": {},
   "source": [
    "Here I take a look if using more than 1 core benefits methods."
   ]
  },
  {
   "cell_type": "code",
   "execution_count": 19,
   "id": "09151d37-4dd2-4c1f-ab4a-94b4d3e79018",
   "metadata": {},
   "outputs": [
    {
     "data": {
      "image/png": "[encoded data removed]",
      "text/plain": [
       "<Figure size 432x288 with 1 Axes>"
      ]
     },
     "metadata": {
      "needs_background": "light"
     },
     "output_type": "display_data"
    }
   ],
   "source": [
    "with sns.plotting_context(\"paper\", font_scale=1.5):\n",
    "    ax = sns.pointplot(\n",
    "        data=plot_data,\n",
    "        x=\"data_size\",\n",
    "        y=\"time\",\n",
    "        hue=\"method\",\n",
    "        hue_order=hue_order,\n",
    "        palette=deep_colors,\n",
    "        legend=False,\n",
    "    )\n",
    "    sns.despine()\n",
    "    plt.legend(loc=\"best\")\n",
    "    plt.xlabel(\"Number of measured objects\")\n",
    "    plt.ylabel(\"Time (seconds)\")\n",
    "    plt.tight_layout()\n",
    "    # plt.savefig(\n",
    "    #     OUTPUT_FIGURE_DIR / f\"{INPUT_FILENAME_TEMPLATE}.svg\",\n",
    "    #     bbox_inches=\"tight\",\n",
    "    #     facecolor=\"white\",\n",
    "    # )\n",
    "    # ax.set_yscale('log')"
   ]
  },
  {
   "cell_type": "code",
   "execution_count": 20,
   "id": "c651024b-eb30-4d50-b71c-8eaa17704acd",
   "metadata": {},
   "outputs": [
    {
     "data": {
      "image/png": "[encoded data removed]",
      "text/plain": [
       "<Figure size 432x288 with 1 Axes>"
      ]
     },
     "metadata": {
      "needs_background": "light"
     },
     "output_type": "display_data"
    }
   ],
   "source": [
    "with sns.plotting_context(\"paper\", font_scale=1.5):\n",
    "    ax = sns.pointplot(\n",
    "        data=plot_data,\n",
    "        x=\"data_size\",\n",
    "        y=\"time\",\n",
    "        hue=\"method\",\n",
    "        hue_order=hue_order,\n",
    "        palette=deep_colors,\n",
    "        legend=False,\n",
    "    )\n",
    "    sns.despine()\n",
    "    plt.legend([], [], frameon=False)\n",
    "    plt.xlabel(\"Number of measured objects\")\n",
    "    plt.ylabel(\"Time (seconds) in log scale\")\n",
    "    plt.tight_layout()\n",
    "    # plt.savefig(\n",
    "    #     OUTPUT_FIGURE_DIR / f\"{INPUT_FILENAME_TEMPLATE}-log.svg\",\n",
    "    #     bbox_inches=\"tight\",\n",
    "    #     facecolor=\"white\",\n",
    "    # )\n",
    "    ax.set_yscale(\"log\")"
   ]
  },
  {
   "cell_type": "markdown",
   "id": "d526030a-11a3-4084-bcc3-cd268d2b0599",
   "metadata": {},
   "source": [
    "Only CCC is really taking advantage of more than 1 core, so I'll remove the rest below."
   ]
  },
  {
   "cell_type": "markdown",
   "id": "610e0cef-d404-4db2-9e88-f26451e0dd87",
   "metadata": {},
   "source": [
    "# Final analysis"
   ]
  },
  {
   "cell_type": "code",
   "execution_count": 25,
   "id": "f7b788fe-666d-43ee-92d9-358c8451ada4",
   "metadata": {},
   "outputs": [],
   "source": [
    "plot_data = plot_data.replace(\n",
    "    {\n",
    "        \"method\": {\n",
    "            \"Pearson (3 cores)\": \"Pearson\",\n",
    "            \"Spearman (3 cores)\": \"Spearman\",\n",
    "            \"MIC (3 cores)\": \"MIC\",\n",
    "        }\n",
    "    }\n",
    ")"
   ]
  },
  {
   "cell_type": "code",
   "execution_count": 26,
   "id": "c0c8b101-25bb-4891-8a6a-f6d50870f13c",
   "metadata": {},
   "outputs": [
    {
     "data": {
      "text/plain": [
       "array(['Pearson (1 core)', 'Spearman (1 core)', 'CCC (1 core)',\n",
       "       'MIC (1 core)', 'Pearson', 'Spearman', 'CCC (3 cores)', 'MIC'],\n",
       "      dtype=object)"
      ]
     },
     "execution_count": 26,
     "metadata": {},
     "output_type": "execute_result"
    }
   ],
   "source": [
    "plot_data[\"method\"].unique()"
   ]
  },
  {
   "cell_type": "code",
   "execution_count": 32,
   "id": "10d6b353-a3a8-4d69-9695-2e5a9311be86",
   "metadata": {},
   "outputs": [],
   "source": [
    "hue_order = [\"MIC\", \"CCC (1 core)\", \"CCC (3 cores)\", \"Spearman\", \"Pearson\"]"
   ]
  },
  {
   "cell_type": "code",
   "execution_count": 33,
   "id": "35488a38-3d38-48a0-8039-3cb0605e4fe1",
   "metadata": {},
   "outputs": [
    {
     "data": {
      "image/png": "[encoded data removed]",
      "text/plain": [
       "<Figure size 432x288 with 1 Axes>"
      ]
     },
     "metadata": {
      "needs_background": "light"
     },
     "output_type": "display_data"
    }
   ],
   "source": [
    "with sns.plotting_context(\"paper\", font_scale=1.5):\n",
    "    ax = sns.pointplot(\n",
    "        data=plot_data,\n",
    "        x=\"data_size\",\n",
    "        y=\"time\",\n",
    "        hue=\"method\",\n",
    "        hue_order=hue_order,\n",
    "        palette=deep_colors,\n",
    "        legend=False,\n",
    "    )\n",
    "    sns.despine()\n",
    "    plt.legend(loc=\"best\")\n",
    "    plt.xlabel(\"Number of measured objects\")\n",
    "    plt.ylabel(\"Time (seconds)\")\n",
    "    plt.tight_layout()\n",
    "    plt.savefig(\n",
    "        OUTPUT_FIGURE_DIR / f\"{INPUT_FILENAME_TEMPLATE}.svg\",\n",
    "        bbox_inches=\"tight\",\n",
    "        facecolor=\"white\",\n",
    "    )"
   ]
  },
  {
   "cell_type": "code",
   "execution_count": 34,
   "id": "f6f35635-3125-41ff-9e16-1b6b78314d20",
   "metadata": {},
   "outputs": [
    {
     "data": {
      "image/png": "[encoded data removed]",
      "text/plain": [
       "<Figure size 432x288 with 1 Axes>"
      ]
     },
     "metadata": {
      "needs_background": "light"
     },
     "output_type": "display_data"
    }
   ],
   "source": [
    "with sns.plotting_context(\"paper\", font_scale=1.5):\n",
    "    ax = sns.pointplot(\n",
    "        data=plot_data,\n",
    "        x=\"data_size\",\n",
    "        y=\"time\",\n",
    "        hue=\"method\",\n",
    "        hue_order=hue_order,\n",
    "        palette=deep_colors,\n",
    "        legend=False,\n",
    "    )\n",
    "    sns.despine()\n",
    "    plt.legend([], [], frameon=False)\n",
    "    plt.xlabel(\"Number of measured objects\")\n",
    "    plt.ylabel(\"Time (seconds) in log scale\")\n",
    "    plt.tight_layout()\n",
    "    ax.set_yscale(\"log\")\n",
    "    plt.savefig(\n",
    "        OUTPUT_FIGURE_DIR / f\"{INPUT_FILENAME_TEMPLATE}-log.svg\",\n",
    "        bbox_inches=\"tight\",\n",
    "        facecolor=\"white\",\n",
    "    )"
   ]
  },
  {
   "cell_type": "code",
   "execution_count": null,
   "id": "bc4bc24f-72e9-422d-bfdf-2450a3fac902",
   "metadata": {},
   "outputs": [],
   "source": []
  }
 ],
 "metadata": {
  "jupytext": {
   "cell_metadata_filter": "all,-execution,-papermill,-trusted"
  },
  "kernelspec": {
   "display_name": "Python 3 (ipykernel)",
   "language": "python",
   "name": "python3"
  },
  "language_info": {
   "codemirror_mode": {
    "name": "ipython",
    "version": 3
   },
   "file_extension": ".py",
   "mimetype": "text/x-python",
   "name": "python",
   "nbconvert_exporter": "python",
   "pygments_lexer": "ipython3",
   "version": "3.9.9"
  },
  "papermill": {
   "default_parameters": {},
   "duration": 106.874189,
   "end_time": "2022-01-28T21:08:16.453452",
   "environment_variables": {},
   "exception": null,
   "input_path": "nbs/20_comparison_others/50-combine_all.ipynb",
   "output_path": "nbs/20_comparison_others/50-combine_all.run.ipynb",
   "parameters": {
    "GTEX_TISSUE": "skin_sun_exposed_lower_leg"
   },
   "start_time": "2022-01-28T21:06:29.579263",
   "version": "2.3.3"
  }
 },
 "nbformat": 4,
 "nbformat_minor": 5
}
