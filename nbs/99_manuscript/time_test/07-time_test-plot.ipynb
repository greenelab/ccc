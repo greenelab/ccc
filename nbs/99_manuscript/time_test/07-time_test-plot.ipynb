{
 "cells": [
  {
   "cell_type": "markdown",
   "id": "c1948eb4-fb63-4fad-8243-bcd57b98def3",
   "metadata": {
    "papermill": {
     "duration": 0.007387,
     "end_time": "2023-09-11T14:41:55.160315",
     "exception": false,
     "start_time": "2023-09-11T14:41:55.152928",
     "status": "completed"
    },
    "tags": []
   },
   "source": [
    "# Description"
   ]
  },
  {
   "cell_type": "markdown",
   "id": "0abb1d73-c786-4c6d-9dc2-b9243e5183e2",
   "metadata": {
    "papermill": {
     "duration": 0.007252,
     "end_time": "2023-09-11T14:41:55.177573",
     "exception": false,
     "start_time": "2023-09-11T14:41:55.170321",
     "status": "completed"
    },
    "tags": []
   },
   "source": [
    "Make plots to show the computational complexity results comparing all coefficients."
   ]
  },
  {
   "cell_type": "markdown",
   "id": "d6252b4c-6d56-4cf0-aecd-5d8c769a3609",
   "metadata": {
    "papermill": {
     "duration": 0.002813,
     "end_time": "2023-09-11T14:41:55.184904",
     "exception": false,
     "start_time": "2023-09-11T14:41:55.182091",
     "status": "completed"
    },
    "tags": []
   },
   "source": [
    "# Modules loading"
   ]
  },
  {
   "cell_type": "code",
   "execution_count": 1,
   "id": "77e9d29d-5307-4b4a-b103-7d1fbd6a7e56",
   "metadata": {
    "execution": {
     "iopub.execute_input": "2023-09-11T14:41:55.190096Z",
     "iopub.status.busy": "2023-09-11T14:41:55.189754Z",
     "iopub.status.idle": "2023-09-11T14:41:55.475757Z",
     "shell.execute_reply": "2023-09-11T14:41:55.475491Z"
    },
    "papermill": {
     "duration": 0.289439,
     "end_time": "2023-09-11T14:41:55.476659",
     "exception": false,
     "start_time": "2023-09-11T14:41:55.187220",
     "status": "completed"
    },
    "tags": []
   },
   "outputs": [],
   "source": [
    "import pandas as pd\n",
    "import matplotlib.pyplot as plt\n",
    "import seaborn as sns\n",
    "\n",
    "from ccc import conf"
   ]
  },
  {
   "cell_type": "markdown",
   "id": "262eb535-3e5d-43d7-9efd-bd6cfdac9190",
   "metadata": {
    "papermill": {
     "duration": 0.009772,
     "end_time": "2023-09-11T14:41:55.488764",
     "exception": false,
     "start_time": "2023-09-11T14:41:55.478992",
     "status": "completed"
    },
    "tags": []
   },
   "source": [
    "# Settings"
   ]
  },
  {
   "cell_type": "code",
   "execution_count": 2,
   "id": "6efda92a-579a-49e2-893f-ec3a40db8a26",
   "metadata": {
    "execution": {
     "iopub.execute_input": "2023-09-11T14:41:55.494078Z",
     "iopub.status.busy": "2023-09-11T14:41:55.493996Z",
     "iopub.status.idle": "2023-09-11T14:41:55.496166Z",
     "shell.execute_reply": "2023-09-11T14:41:55.495801Z"
    },
    "papermill": {
     "duration": 0.005213,
     "end_time": "2023-09-11T14:41:55.496697",
     "exception": false,
     "start_time": "2023-09-11T14:41:55.491484",
     "status": "completed"
    },
    "tags": []
   },
   "outputs": [],
   "source": [
    "INPUT_FILENAME_TEMPLATE = \"time_test\""
   ]
  },
  {
   "cell_type": "markdown",
   "id": "eec9bb6d-4ba2-4817-9b36-bc8e68a2beae",
   "metadata": {
    "papermill": {
     "duration": 0.001952,
     "end_time": "2023-09-11T14:41:55.500650",
     "exception": false,
     "start_time": "2023-09-11T14:41:55.498698",
     "status": "completed"
    },
    "tags": []
   },
   "source": [
    "# Paths"
   ]
  },
  {
   "cell_type": "code",
   "execution_count": 3,
   "id": "413010af-a3b0-45a0-adb8-8559c06d228c",
   "metadata": {
    "execution": {
     "iopub.execute_input": "2023-09-11T14:41:55.504959Z",
     "iopub.status.busy": "2023-09-11T14:41:55.504898Z",
     "iopub.status.idle": "2023-09-11T14:41:55.506282Z",
     "shell.execute_reply": "2023-09-11T14:41:55.506148Z"
    },
    "papermill": {
     "duration": 0.004166,
     "end_time": "2023-09-11T14:41:55.506776",
     "exception": false,
     "start_time": "2023-09-11T14:41:55.502610",
     "status": "completed"
    },
    "tags": []
   },
   "outputs": [],
   "source": [
    "assert (\n",
    "    conf.MANUSCRIPT[\"BASE_DIR\"] is not None and conf.MANUSCRIPT[\"BASE_DIR\"].exists()\n",
    "), \"Manuscript dir not set\""
   ]
  },
  {
   "cell_type": "code",
   "execution_count": 4,
   "id": "456e7f20-5950-4cbf-8652-cf6e37fb6231",
   "metadata": {
    "execution": {
     "iopub.execute_input": "2023-09-11T14:41:55.511029Z",
     "iopub.status.busy": "2023-09-11T14:41:55.510980Z",
     "iopub.status.idle": "2023-09-11T14:41:55.513355Z",
     "shell.execute_reply": "2023-09-11T14:41:55.513222Z"
    },
    "papermill": {
     "duration": 0.005116,
     "end_time": "2023-09-11T14:41:55.513851",
     "exception": false,
     "start_time": "2023-09-11T14:41:55.508735",
     "status": "completed"
    },
    "tags": []
   },
   "outputs": [
    {
     "data": {
      "text/plain": [
       "PosixPath('/opt/manuscript/content/images/coefs_comp')"
      ]
     },
     "metadata": {},
     "output_type": "display_data"
    }
   ],
   "source": [
    "COEF_COMP_DIR = conf.MANUSCRIPT[\"FIGURES_DIR\"] / \"coefs_comp\"\n",
    "COEF_COMP_DIR.mkdir(parents=True, exist_ok=True)\n",
    "display(COEF_COMP_DIR)"
   ]
  },
  {
   "cell_type": "code",
   "execution_count": 5,
   "id": "2404761b-2931-4394-914e-e2cae9990d5c",
   "metadata": {
    "execution": {
     "iopub.execute_input": "2023-09-11T14:41:55.518288Z",
     "iopub.status.busy": "2023-09-11T14:41:55.518180Z",
     "iopub.status.idle": "2023-09-11T14:41:55.519861Z",
     "shell.execute_reply": "2023-09-11T14:41:55.519735Z"
    },
    "papermill": {
     "duration": 0.004463,
     "end_time": "2023-09-11T14:41:55.520334",
     "exception": false,
     "start_time": "2023-09-11T14:41:55.515871",
     "status": "completed"
    },
    "tags": []
   },
   "outputs": [
    {
     "data": {
      "text/plain": [
       "PosixPath('/opt/manuscript/content/images/coefs_comp/time_test')"
      ]
     },
     "metadata": {},
     "output_type": "display_data"
    }
   ],
   "source": [
    "OUTPUT_FIGURE_DIR = COEF_COMP_DIR / \"time_test\"\n",
    "OUTPUT_FIGURE_DIR.mkdir(parents=True, exist_ok=True)\n",
    "display(OUTPUT_FIGURE_DIR)"
   ]
  },
  {
   "cell_type": "code",
   "execution_count": 6,
   "id": "0b5ba2a4-54a7-4853-b804-cd2e5c476466",
   "metadata": {
    "execution": {
     "iopub.execute_input": "2023-09-11T14:41:55.524673Z",
     "iopub.status.busy": "2023-09-11T14:41:55.524580Z",
     "iopub.status.idle": "2023-09-11T14:41:55.526064Z",
     "shell.execute_reply": "2023-09-11T14:41:55.525941Z"
    },
    "papermill": {
     "duration": 0.004351,
     "end_time": "2023-09-11T14:41:55.526672",
     "exception": false,
     "start_time": "2023-09-11T14:41:55.522321",
     "status": "completed"
    },
    "tags": []
   },
   "outputs": [
    {
     "data": {
      "text/plain": [
       "PosixPath('/opt/data/results/time_test')"
      ]
     },
     "metadata": {},
     "output_type": "display_data"
    }
   ],
   "source": [
    "INPUT_DIR = conf.RESULTS_DIR / \"time_test\"\n",
    "display(INPUT_DIR)"
   ]
  },
  {
   "cell_type": "markdown",
   "id": "5b6ca2cf-6d86-48d8-aa42-5beaf6e0932b",
   "metadata": {
    "papermill": {
     "duration": 0.001954,
     "end_time": "2023-09-11T14:41:55.530644",
     "exception": false,
     "start_time": "2023-09-11T14:41:55.528690",
     "status": "completed"
    },
    "tags": []
   },
   "source": [
    "# Load results"
   ]
  },
  {
   "cell_type": "code",
   "execution_count": 7,
   "id": "d98986f3-badc-4760-8eed-e24b00ce2696",
   "metadata": {
    "execution": {
     "iopub.execute_input": "2023-09-11T14:41:55.534990Z",
     "iopub.status.busy": "2023-09-11T14:41:55.534900Z",
     "iopub.status.idle": "2023-09-11T14:41:55.537015Z",
     "shell.execute_reply": "2023-09-11T14:41:55.536852Z"
    },
    "papermill": {
     "duration": 0.004893,
     "end_time": "2023-09-11T14:41:55.537517",
     "exception": false,
     "start_time": "2023-09-11T14:41:55.532624",
     "status": "completed"
    },
    "tags": []
   },
   "outputs": [],
   "source": [
    "time_results = pd.read_pickle(INPUT_DIR / f\"{INPUT_FILENAME_TEMPLATE}.pkl\")"
   ]
  },
  {
   "cell_type": "code",
   "execution_count": 8,
   "id": "69511566-f1cd-4d19-ab2d-48d64b1e5055",
   "metadata": {
    "execution": {
     "iopub.execute_input": "2023-09-11T14:41:55.541957Z",
     "iopub.status.busy": "2023-09-11T14:41:55.541866Z",
     "iopub.status.idle": "2023-09-11T14:41:55.543394Z",
     "shell.execute_reply": "2023-09-11T14:41:55.543268Z"
    },
    "papermill": {
     "duration": 0.004268,
     "end_time": "2023-09-11T14:41:55.543816",
     "exception": false,
     "start_time": "2023-09-11T14:41:55.539548",
     "status": "completed"
    },
    "tags": []
   },
   "outputs": [
    {
     "data": {
      "text/plain": [
       "(15960, 4)"
      ]
     },
     "execution_count": 8,
     "metadata": {},
     "output_type": "execute_result"
    }
   ],
   "source": [
    "time_results.shape"
   ]
  },
  {
   "cell_type": "code",
   "execution_count": 9,
   "id": "6fc64cc3-264e-49a7-bbf9-af255e151118",
   "metadata": {
    "execution": {
     "iopub.execute_input": "2023-09-11T14:41:55.548234Z",
     "iopub.status.busy": "2023-09-11T14:41:55.548148Z",
     "iopub.status.idle": "2023-09-11T14:41:55.551615Z",
     "shell.execute_reply": "2023-09-11T14:41:55.551488Z"
    },
    "papermill": {
     "duration": 0.006185,
     "end_time": "2023-09-11T14:41:55.552053",
     "exception": false,
     "start_time": "2023-09-11T14:41:55.545868",
     "status": "completed"
    },
    "tags": []
   },
   "outputs": [
    {
     "data": {
      "text/html": [
       "<div>\n",
       "<style scoped>\n",
       "    .dataframe tbody tr th:only-of-type {\n",
       "        vertical-align: middle;\n",
       "    }\n",
       "\n",
       "    .dataframe tbody tr th {\n",
       "        vertical-align: top;\n",
       "    }\n",
       "\n",
       "    .dataframe thead th {\n",
       "        text-align: right;\n",
       "    }\n",
       "</style>\n",
       "<table border=\"1\" class=\"dataframe\">\n",
       "  <thead>\n",
       "    <tr style=\"text-align: right;\">\n",
       "      <th></th>\n",
       "      <th>data_size</th>\n",
       "      <th>method</th>\n",
       "      <th>time</th>\n",
       "      <th>sim</th>\n",
       "    </tr>\n",
       "  </thead>\n",
       "  <tbody>\n",
       "    <tr>\n",
       "      <th>0</th>\n",
       "      <td>100</td>\n",
       "      <td>p-1</td>\n",
       "      <td>0.000090</td>\n",
       "      <td>-0.002969</td>\n",
       "    </tr>\n",
       "    <tr>\n",
       "      <th>1</th>\n",
       "      <td>100</td>\n",
       "      <td>p-1</td>\n",
       "      <td>0.000064</td>\n",
       "      <td>0.043811</td>\n",
       "    </tr>\n",
       "    <tr>\n",
       "      <th>2</th>\n",
       "      <td>100</td>\n",
       "      <td>p-1</td>\n",
       "      <td>0.000031</td>\n",
       "      <td>0.001142</td>\n",
       "    </tr>\n",
       "    <tr>\n",
       "      <th>3</th>\n",
       "      <td>100</td>\n",
       "      <td>p-1</td>\n",
       "      <td>0.000085</td>\n",
       "      <td>0.258282</td>\n",
       "    </tr>\n",
       "    <tr>\n",
       "      <th>4</th>\n",
       "      <td>100</td>\n",
       "      <td>p-1</td>\n",
       "      <td>0.000031</td>\n",
       "      <td>0.041389</td>\n",
       "    </tr>\n",
       "  </tbody>\n",
       "</table>\n",
       "</div>"
      ],
      "text/plain": [
       "  data_size method      time       sim\n",
       "0       100    p-1  0.000090 -0.002969\n",
       "1       100    p-1  0.000064  0.043811\n",
       "2       100    p-1  0.000031  0.001142\n",
       "3       100    p-1  0.000085  0.258282\n",
       "4       100    p-1  0.000031  0.041389"
      ]
     },
     "execution_count": 9,
     "metadata": {},
     "output_type": "execute_result"
    }
   ],
   "source": [
    "time_results.head()"
   ]
  },
  {
   "cell_type": "code",
   "execution_count": 10,
   "id": "511fbab5-e6a0-47a0-8ab6-329f65719a83",
   "metadata": {
    "execution": {
     "iopub.execute_input": "2023-09-11T14:41:55.556510Z",
     "iopub.status.busy": "2023-09-11T14:41:55.556456Z",
     "iopub.status.idle": "2023-09-11T14:41:55.558426Z",
     "shell.execute_reply": "2023-09-11T14:41:55.558299Z"
    },
    "papermill": {
     "duration": 0.004724,
     "end_time": "2023-09-11T14:41:55.558865",
     "exception": false,
     "start_time": "2023-09-11T14:41:55.554141",
     "status": "completed"
    },
    "tags": []
   },
   "outputs": [
    {
     "data": {
      "text/plain": [
       "array(['p-1', 's-1', 'cm-1', 'mic_e-1', 'mic-1', 'p-3', 's-3', 'cm-3',\n",
       "       'mic_e-3', 'mic-3'], dtype=object)"
      ]
     },
     "execution_count": 10,
     "metadata": {},
     "output_type": "execute_result"
    }
   ],
   "source": [
    "time_results[\"method\"].unique()"
   ]
  },
  {
   "cell_type": "markdown",
   "id": "c2fdf161-71ea-4943-96af-a13612e11736",
   "metadata": {
    "papermill": {
     "duration": 0.002086,
     "end_time": "2023-09-11T14:41:55.563067",
     "exception": false,
     "start_time": "2023-09-11T14:41:55.560981",
     "status": "completed"
    },
    "tags": []
   },
   "source": [
    "# Processing"
   ]
  },
  {
   "cell_type": "code",
   "execution_count": 11,
   "id": "81703394-a7f1-48d6-974a-b987b4dd4c4d",
   "metadata": {
    "execution": {
     "iopub.execute_input": "2023-09-11T14:41:55.567677Z",
     "iopub.status.busy": "2023-09-11T14:41:55.567572Z",
     "iopub.status.idle": "2023-09-11T14:41:55.571293Z",
     "shell.execute_reply": "2023-09-11T14:41:55.571152Z"
    },
    "papermill": {
     "duration": 0.006496,
     "end_time": "2023-09-11T14:41:55.571718",
     "exception": false,
     "start_time": "2023-09-11T14:41:55.565222",
     "status": "completed"
    },
    "tags": []
   },
   "outputs": [],
   "source": [
    "time_results = time_results.replace(\n",
    "    {\n",
    "        \"method\": {\n",
    "            \"p-1\": \"Pearson (1 core)\",\n",
    "            \"s-1\": \"Spearman (1 core)\",\n",
    "            \"cm-1\": \"CCC (1 core)\",\n",
    "            \"mic-1\": \"MIC (1 core)\",\n",
    "            \"mic_e-1\": \"MICe (1 core)\",\n",
    "            \"p-3\": \"Pearson (3 cores)\",\n",
    "            \"s-3\": \"Spearman (3 cores)\",\n",
    "            \"cm-3\": \"CCC (3 cores)\",\n",
    "            \"mic-3\": \"MIC (3 cores)\",\n",
    "            \"mic_e-3\": \"MICe (3 cores)\",\n",
    "        }\n",
    "    }\n",
    ")"
   ]
  },
  {
   "cell_type": "code",
   "execution_count": 12,
   "id": "e8b96624-7b6c-4ce7-a1c7-d8f2cabab649",
   "metadata": {
    "execution": {
     "iopub.execute_input": "2023-09-11T14:41:55.576326Z",
     "iopub.status.busy": "2023-09-11T14:41:55.576240Z",
     "iopub.status.idle": "2023-09-11T14:41:55.577700Z",
     "shell.execute_reply": "2023-09-11T14:41:55.577572Z"
    },
    "papermill": {
     "duration": 0.00431,
     "end_time": "2023-09-11T14:41:55.578160",
     "exception": false,
     "start_time": "2023-09-11T14:41:55.573850",
     "status": "completed"
    },
    "tags": []
   },
   "outputs": [
    {
     "data": {
      "text/plain": [
       "(15960, 4)"
      ]
     },
     "execution_count": 12,
     "metadata": {},
     "output_type": "execute_result"
    }
   ],
   "source": [
    "time_results.shape"
   ]
  },
  {
   "cell_type": "code",
   "execution_count": 13,
   "id": "6d49c62c-1fcb-4caa-b1f4-e7a224bd3c9b",
   "metadata": {
    "execution": {
     "iopub.execute_input": "2023-09-11T14:41:55.595483Z",
     "iopub.status.busy": "2023-09-11T14:41:55.595365Z",
     "iopub.status.idle": "2023-09-11T14:41:55.598779Z",
     "shell.execute_reply": "2023-09-11T14:41:55.598633Z"
    },
    "papermill": {
     "duration": 0.018941,
     "end_time": "2023-09-11T14:41:55.599209",
     "exception": false,
     "start_time": "2023-09-11T14:41:55.580268",
     "status": "completed"
    },
    "tags": []
   },
   "outputs": [
    {
     "data": {
      "text/html": [
       "<div>\n",
       "<style scoped>\n",
       "    .dataframe tbody tr th:only-of-type {\n",
       "        vertical-align: middle;\n",
       "    }\n",
       "\n",
       "    .dataframe tbody tr th {\n",
       "        vertical-align: top;\n",
       "    }\n",
       "\n",
       "    .dataframe thead th {\n",
       "        text-align: right;\n",
       "    }\n",
       "</style>\n",
       "<table border=\"1\" class=\"dataframe\">\n",
       "  <thead>\n",
       "    <tr style=\"text-align: right;\">\n",
       "      <th></th>\n",
       "      <th>data_size</th>\n",
       "      <th>method</th>\n",
       "      <th>time</th>\n",
       "      <th>sim</th>\n",
       "    </tr>\n",
       "  </thead>\n",
       "  <tbody>\n",
       "    <tr>\n",
       "      <th>0</th>\n",
       "      <td>100</td>\n",
       "      <td>Pearson (1 core)</td>\n",
       "      <td>0.000090</td>\n",
       "      <td>-0.002969</td>\n",
       "    </tr>\n",
       "    <tr>\n",
       "      <th>1</th>\n",
       "      <td>100</td>\n",
       "      <td>Pearson (1 core)</td>\n",
       "      <td>0.000064</td>\n",
       "      <td>0.043811</td>\n",
       "    </tr>\n",
       "    <tr>\n",
       "      <th>2</th>\n",
       "      <td>100</td>\n",
       "      <td>Pearson (1 core)</td>\n",
       "      <td>0.000031</td>\n",
       "      <td>0.001142</td>\n",
       "    </tr>\n",
       "    <tr>\n",
       "      <th>3</th>\n",
       "      <td>100</td>\n",
       "      <td>Pearson (1 core)</td>\n",
       "      <td>0.000085</td>\n",
       "      <td>0.258282</td>\n",
       "    </tr>\n",
       "    <tr>\n",
       "      <th>4</th>\n",
       "      <td>100</td>\n",
       "      <td>Pearson (1 core)</td>\n",
       "      <td>0.000031</td>\n",
       "      <td>0.041389</td>\n",
       "    </tr>\n",
       "  </tbody>\n",
       "</table>\n",
       "</div>"
      ],
      "text/plain": [
       "  data_size            method      time       sim\n",
       "0       100  Pearson (1 core)  0.000090 -0.002969\n",
       "1       100  Pearson (1 core)  0.000064  0.043811\n",
       "2       100  Pearson (1 core)  0.000031  0.001142\n",
       "3       100  Pearson (1 core)  0.000085  0.258282\n",
       "4       100  Pearson (1 core)  0.000031  0.041389"
      ]
     },
     "execution_count": 13,
     "metadata": {},
     "output_type": "execute_result"
    }
   ],
   "source": [
    "time_results.head()"
   ]
  },
  {
   "cell_type": "markdown",
   "id": "8b183907-359e-473a-ac51-cb6c388c2595",
   "metadata": {
    "papermill": {
     "duration": 0.002228,
     "end_time": "2023-09-11T14:41:55.603654",
     "exception": false,
     "start_time": "2023-09-11T14:41:55.601426",
     "status": "completed"
    },
    "tags": []
   },
   "source": [
    "# Run numbers"
   ]
  },
  {
   "cell_type": "code",
   "execution_count": 14,
   "id": "3eafa2a7-c008-46b9-9119-a745fe873535",
   "metadata": {
    "execution": {
     "iopub.execute_input": "2023-09-11T14:41:55.608408Z",
     "iopub.status.busy": "2023-09-11T14:41:55.608301Z",
     "iopub.status.idle": "2023-09-11T14:41:55.609543Z",
     "shell.execute_reply": "2023-09-11T14:41:55.609409Z"
    },
    "papermill": {
     "duration": 0.004096,
     "end_time": "2023-09-11T14:41:55.609966",
     "exception": false,
     "start_time": "2023-09-11T14:41:55.605870",
     "status": "completed"
    },
    "tags": []
   },
   "outputs": [],
   "source": [
    "plot_data = time_results"
   ]
  },
  {
   "cell_type": "code",
   "execution_count": 15,
   "id": "e1279b36-295c-45d2-a2f1-0388161c724f",
   "metadata": {
    "execution": {
     "iopub.execute_input": "2023-09-11T14:41:55.614664Z",
     "iopub.status.busy": "2023-09-11T14:41:55.614566Z",
     "iopub.status.idle": "2023-09-11T14:41:55.656546Z",
     "shell.execute_reply": "2023-09-11T14:41:55.656410Z"
    },
    "papermill": {
     "duration": 0.04498,
     "end_time": "2023-09-11T14:41:55.657149",
     "exception": false,
     "start_time": "2023-09-11T14:41:55.612169",
     "status": "completed"
    },
    "tags": []
   },
   "outputs": [
    {
     "data": {
      "text/html": [
       "<div>\n",
       "<style scoped>\n",
       "    .dataframe tbody tr th:only-of-type {\n",
       "        vertical-align: middle;\n",
       "    }\n",
       "\n",
       "    .dataframe tbody tr th {\n",
       "        vertical-align: top;\n",
       "    }\n",
       "\n",
       "    .dataframe thead th {\n",
       "        text-align: right;\n",
       "    }\n",
       "</style>\n",
       "<table border=\"1\" class=\"dataframe\">\n",
       "  <thead>\n",
       "    <tr style=\"text-align: right;\">\n",
       "      <th></th>\n",
       "      <th></th>\n",
       "      <th>count</th>\n",
       "      <th>mean</th>\n",
       "      <th>std</th>\n",
       "      <th>min</th>\n",
       "      <th>25%</th>\n",
       "      <th>50%</th>\n",
       "      <th>75%</th>\n",
       "      <th>max</th>\n",
       "    </tr>\n",
       "    <tr>\n",
       "      <th>data_size</th>\n",
       "      <th>method</th>\n",
       "      <th></th>\n",
       "      <th></th>\n",
       "      <th></th>\n",
       "      <th></th>\n",
       "      <th></th>\n",
       "      <th></th>\n",
       "      <th></th>\n",
       "      <th></th>\n",
       "    </tr>\n",
       "  </thead>\n",
       "  <tbody>\n",
       "    <tr>\n",
       "      <th rowspan=\"6\" valign=\"top\">100</th>\n",
       "      <th>CCC (1 core)</th>\n",
       "      <td>1000.0</td>\n",
       "      <td>0.000638</td>\n",
       "      <td>0.000030</td>\n",
       "      <td>0.000616</td>\n",
       "      <td>0.000628</td>\n",
       "      <td>0.000632</td>\n",
       "      <td>0.000637</td>\n",
       "      <td>0.001261</td>\n",
       "    </tr>\n",
       "    <tr>\n",
       "      <th>CCC (3 cores)</th>\n",
       "      <td>2000.0</td>\n",
       "      <td>0.000864</td>\n",
       "      <td>0.000336</td>\n",
       "      <td>0.000620</td>\n",
       "      <td>0.000635</td>\n",
       "      <td>0.000870</td>\n",
       "      <td>0.000950</td>\n",
       "      <td>0.005126</td>\n",
       "    </tr>\n",
       "    <tr>\n",
       "      <th>MIC (1 core)</th>\n",
       "      <td>1000.0</td>\n",
       "      <td>0.000725</td>\n",
       "      <td>0.000027</td>\n",
       "      <td>0.000642</td>\n",
       "      <td>0.000706</td>\n",
       "      <td>0.000725</td>\n",
       "      <td>0.000744</td>\n",
       "      <td>0.000810</td>\n",
       "    </tr>\n",
       "    <tr>\n",
       "      <th>MICe (1 core)</th>\n",
       "      <td>1000.0</td>\n",
       "      <td>0.000676</td>\n",
       "      <td>0.000027</td>\n",
       "      <td>0.000594</td>\n",
       "      <td>0.000660</td>\n",
       "      <td>0.000677</td>\n",
       "      <td>0.000691</td>\n",
       "      <td>0.001160</td>\n",
       "    </tr>\n",
       "    <tr>\n",
       "      <th>Pearson (1 core)</th>\n",
       "      <td>1000.0</td>\n",
       "      <td>0.000030</td>\n",
       "      <td>0.000003</td>\n",
       "      <td>0.000028</td>\n",
       "      <td>0.000030</td>\n",
       "      <td>0.000030</td>\n",
       "      <td>0.000031</td>\n",
       "      <td>0.000090</td>\n",
       "    </tr>\n",
       "    <tr>\n",
       "      <th>Spearman (1 core)</th>\n",
       "      <td>1000.0</td>\n",
       "      <td>0.000214</td>\n",
       "      <td>0.000012</td>\n",
       "      <td>0.000200</td>\n",
       "      <td>0.000211</td>\n",
       "      <td>0.000213</td>\n",
       "      <td>0.000216</td>\n",
       "      <td>0.000489</td>\n",
       "    </tr>\n",
       "    <tr>\n",
       "      <th rowspan=\"6\" valign=\"top\">500</th>\n",
       "      <th>CCC (1 core)</th>\n",
       "      <td>10.0</td>\n",
       "      <td>0.000945</td>\n",
       "      <td>0.000049</td>\n",
       "      <td>0.000917</td>\n",
       "      <td>0.000920</td>\n",
       "      <td>0.000930</td>\n",
       "      <td>0.000945</td>\n",
       "      <td>0.001080</td>\n",
       "    </tr>\n",
       "    <tr>\n",
       "      <th>CCC (3 cores)</th>\n",
       "      <td>20.0</td>\n",
       "      <td>0.001081</td>\n",
       "      <td>0.000244</td>\n",
       "      <td>0.000916</td>\n",
       "      <td>0.000925</td>\n",
       "      <td>0.001053</td>\n",
       "      <td>0.001110</td>\n",
       "      <td>0.001951</td>\n",
       "    </tr>\n",
       "    <tr>\n",
       "      <th>MIC (1 core)</th>\n",
       "      <td>10.0</td>\n",
       "      <td>0.011626</td>\n",
       "      <td>0.000200</td>\n",
       "      <td>0.011318</td>\n",
       "      <td>0.011462</td>\n",
       "      <td>0.011678</td>\n",
       "      <td>0.011781</td>\n",
       "      <td>0.011859</td>\n",
       "    </tr>\n",
       "    <tr>\n",
       "      <th>MICe (1 core)</th>\n",
       "      <td>10.0</td>\n",
       "      <td>0.008861</td>\n",
       "      <td>0.000099</td>\n",
       "      <td>0.008698</td>\n",
       "      <td>0.008783</td>\n",
       "      <td>0.008898</td>\n",
       "      <td>0.008920</td>\n",
       "      <td>0.009018</td>\n",
       "    </tr>\n",
       "    <tr>\n",
       "      <th>Pearson (1 core)</th>\n",
       "      <td>10.0</td>\n",
       "      <td>0.000039</td>\n",
       "      <td>0.000013</td>\n",
       "      <td>0.000031</td>\n",
       "      <td>0.000033</td>\n",
       "      <td>0.000033</td>\n",
       "      <td>0.000035</td>\n",
       "      <td>0.000073</td>\n",
       "    </tr>\n",
       "    <tr>\n",
       "      <th>Spearman (1 core)</th>\n",
       "      <td>10.0</td>\n",
       "      <td>0.000272</td>\n",
       "      <td>0.000024</td>\n",
       "      <td>0.000259</td>\n",
       "      <td>0.000261</td>\n",
       "      <td>0.000265</td>\n",
       "      <td>0.000268</td>\n",
       "      <td>0.000339</td>\n",
       "    </tr>\n",
       "    <tr>\n",
       "      <th rowspan=\"6\" valign=\"top\">1000</th>\n",
       "      <th>CCC (1 core)</th>\n",
       "      <td>10.0</td>\n",
       "      <td>0.001411</td>\n",
       "      <td>0.000045</td>\n",
       "      <td>0.001352</td>\n",
       "      <td>0.001381</td>\n",
       "      <td>0.001394</td>\n",
       "      <td>0.001442</td>\n",
       "      <td>0.001476</td>\n",
       "    </tr>\n",
       "    <tr>\n",
       "      <th>CCC (3 cores)</th>\n",
       "      <td>20.0</td>\n",
       "      <td>0.001423</td>\n",
       "      <td>0.000197</td>\n",
       "      <td>0.001305</td>\n",
       "      <td>0.001358</td>\n",
       "      <td>0.001394</td>\n",
       "      <td>0.001403</td>\n",
       "      <td>0.002239</td>\n",
       "    </tr>\n",
       "    <tr>\n",
       "      <th>MIC (1 core)</th>\n",
       "      <td>10.0</td>\n",
       "      <td>0.037035</td>\n",
       "      <td>0.000359</td>\n",
       "      <td>0.036555</td>\n",
       "      <td>0.036795</td>\n",
       "      <td>0.036971</td>\n",
       "      <td>0.037363</td>\n",
       "      <td>0.037545</td>\n",
       "    </tr>\n",
       "    <tr>\n",
       "      <th>MICe (1 core)</th>\n",
       "      <td>10.0</td>\n",
       "      <td>0.024683</td>\n",
       "      <td>0.000105</td>\n",
       "      <td>0.024500</td>\n",
       "      <td>0.024657</td>\n",
       "      <td>0.024675</td>\n",
       "      <td>0.024751</td>\n",
       "      <td>0.024867</td>\n",
       "    </tr>\n",
       "    <tr>\n",
       "      <th>Pearson (1 core)</th>\n",
       "      <td>10.0</td>\n",
       "      <td>0.000040</td>\n",
       "      <td>0.000018</td>\n",
       "      <td>0.000032</td>\n",
       "      <td>0.000034</td>\n",
       "      <td>0.000034</td>\n",
       "      <td>0.000035</td>\n",
       "      <td>0.000090</td>\n",
       "    </tr>\n",
       "    <tr>\n",
       "      <th>Spearman (1 core)</th>\n",
       "      <td>10.0</td>\n",
       "      <td>0.000318</td>\n",
       "      <td>0.000029</td>\n",
       "      <td>0.000294</td>\n",
       "      <td>0.000302</td>\n",
       "      <td>0.000307</td>\n",
       "      <td>0.000320</td>\n",
       "      <td>0.000391</td>\n",
       "    </tr>\n",
       "    <tr>\n",
       "      <th rowspan=\"6\" valign=\"top\">5000</th>\n",
       "      <th>CCC (1 core)</th>\n",
       "      <td>10.0</td>\n",
       "      <td>0.006699</td>\n",
       "      <td>0.000153</td>\n",
       "      <td>0.006540</td>\n",
       "      <td>0.006617</td>\n",
       "      <td>0.006644</td>\n",
       "      <td>0.006757</td>\n",
       "      <td>0.007074</td>\n",
       "    </tr>\n",
       "    <tr>\n",
       "      <th>CCC (3 cores)</th>\n",
       "      <td>20.0</td>\n",
       "      <td>0.005661</td>\n",
       "      <td>0.001280</td>\n",
       "      <td>0.003849</td>\n",
       "      <td>0.004153</td>\n",
       "      <td>0.006480</td>\n",
       "      <td>0.006716</td>\n",
       "      <td>0.006952</td>\n",
       "    </tr>\n",
       "    <tr>\n",
       "      <th>MIC (1 core)</th>\n",
       "      <td>10.0</td>\n",
       "      <td>0.509760</td>\n",
       "      <td>0.001702</td>\n",
       "      <td>0.506530</td>\n",
       "      <td>0.508632</td>\n",
       "      <td>0.509907</td>\n",
       "      <td>0.511210</td>\n",
       "      <td>0.511696</td>\n",
       "    </tr>\n",
       "    <tr>\n",
       "      <th>MICe (1 core)</th>\n",
       "      <td>10.0</td>\n",
       "      <td>0.227899</td>\n",
       "      <td>0.000712</td>\n",
       "      <td>0.226766</td>\n",
       "      <td>0.227390</td>\n",
       "      <td>0.227958</td>\n",
       "      <td>0.228420</td>\n",
       "      <td>0.228829</td>\n",
       "    </tr>\n",
       "    <tr>\n",
       "      <th>Pearson (1 core)</th>\n",
       "      <td>10.0</td>\n",
       "      <td>0.000051</td>\n",
       "      <td>0.000013</td>\n",
       "      <td>0.000044</td>\n",
       "      <td>0.000046</td>\n",
       "      <td>0.000047</td>\n",
       "      <td>0.000049</td>\n",
       "      <td>0.000089</td>\n",
       "    </tr>\n",
       "    <tr>\n",
       "      <th>Spearman (1 core)</th>\n",
       "      <td>10.0</td>\n",
       "      <td>0.000660</td>\n",
       "      <td>0.000025</td>\n",
       "      <td>0.000633</td>\n",
       "      <td>0.000648</td>\n",
       "      <td>0.000654</td>\n",
       "      <td>0.000668</td>\n",
       "      <td>0.000718</td>\n",
       "    </tr>\n",
       "    <tr>\n",
       "      <th rowspan=\"6\" valign=\"top\">10000</th>\n",
       "      <th>CCC (1 core)</th>\n",
       "      <td>10.0</td>\n",
       "      <td>0.014376</td>\n",
       "      <td>0.000156</td>\n",
       "      <td>0.014089</td>\n",
       "      <td>0.014248</td>\n",
       "      <td>0.014449</td>\n",
       "      <td>0.014489</td>\n",
       "      <td>0.014554</td>\n",
       "    </tr>\n",
       "    <tr>\n",
       "      <th>CCC (3 cores)</th>\n",
       "      <td>20.0</td>\n",
       "      <td>0.011748</td>\n",
       "      <td>0.002949</td>\n",
       "      <td>0.007434</td>\n",
       "      <td>0.008944</td>\n",
       "      <td>0.013191</td>\n",
       "      <td>0.014381</td>\n",
       "      <td>0.014911</td>\n",
       "    </tr>\n",
       "    <tr>\n",
       "      <th>MIC (1 core)</th>\n",
       "      <td>10.0</td>\n",
       "      <td>1.593811</td>\n",
       "      <td>0.005953</td>\n",
       "      <td>1.586504</td>\n",
       "      <td>1.589123</td>\n",
       "      <td>1.593626</td>\n",
       "      <td>1.597724</td>\n",
       "      <td>1.605012</td>\n",
       "    </tr>\n",
       "    <tr>\n",
       "      <th>MICe (1 core)</th>\n",
       "      <td>10.0</td>\n",
       "      <td>0.572184</td>\n",
       "      <td>0.000891</td>\n",
       "      <td>0.571086</td>\n",
       "      <td>0.571555</td>\n",
       "      <td>0.572045</td>\n",
       "      <td>0.572602</td>\n",
       "      <td>0.574120</td>\n",
       "    </tr>\n",
       "    <tr>\n",
       "      <th>Pearson (1 core)</th>\n",
       "      <td>10.0</td>\n",
       "      <td>0.000064</td>\n",
       "      <td>0.000015</td>\n",
       "      <td>0.000056</td>\n",
       "      <td>0.000057</td>\n",
       "      <td>0.000057</td>\n",
       "      <td>0.000060</td>\n",
       "      <td>0.000103</td>\n",
       "    </tr>\n",
       "    <tr>\n",
       "      <th>Spearman (1 core)</th>\n",
       "      <td>10.0</td>\n",
       "      <td>0.001148</td>\n",
       "      <td>0.000021</td>\n",
       "      <td>0.001127</td>\n",
       "      <td>0.001132</td>\n",
       "      <td>0.001143</td>\n",
       "      <td>0.001154</td>\n",
       "      <td>0.001189</td>\n",
       "    </tr>\n",
       "    <tr>\n",
       "      <th rowspan=\"5\" valign=\"top\">50000</th>\n",
       "      <th>CCC (1 core)</th>\n",
       "      <td>10.0</td>\n",
       "      <td>0.081954</td>\n",
       "      <td>0.000460</td>\n",
       "      <td>0.081520</td>\n",
       "      <td>0.081645</td>\n",
       "      <td>0.081771</td>\n",
       "      <td>0.082033</td>\n",
       "      <td>0.082827</td>\n",
       "    </tr>\n",
       "    <tr>\n",
       "      <th>CCC (3 cores)</th>\n",
       "      <td>20.0</td>\n",
       "      <td>0.062749</td>\n",
       "      <td>0.020206</td>\n",
       "      <td>0.042135</td>\n",
       "      <td>0.042986</td>\n",
       "      <td>0.062657</td>\n",
       "      <td>0.082565</td>\n",
       "      <td>0.083035</td>\n",
       "    </tr>\n",
       "    <tr>\n",
       "      <th>MICe (1 core)</th>\n",
       "      <td>10.0</td>\n",
       "      <td>4.840202</td>\n",
       "      <td>0.005833</td>\n",
       "      <td>4.833923</td>\n",
       "      <td>4.836959</td>\n",
       "      <td>4.838884</td>\n",
       "      <td>4.841126</td>\n",
       "      <td>4.853696</td>\n",
       "    </tr>\n",
       "    <tr>\n",
       "      <th>Pearson (1 core)</th>\n",
       "      <td>10.0</td>\n",
       "      <td>0.000175</td>\n",
       "      <td>0.000023</td>\n",
       "      <td>0.000162</td>\n",
       "      <td>0.000165</td>\n",
       "      <td>0.000167</td>\n",
       "      <td>0.000174</td>\n",
       "      <td>0.000237</td>\n",
       "    </tr>\n",
       "    <tr>\n",
       "      <th>Spearman (1 core)</th>\n",
       "      <td>10.0</td>\n",
       "      <td>0.006281</td>\n",
       "      <td>0.000192</td>\n",
       "      <td>0.005967</td>\n",
       "      <td>0.006173</td>\n",
       "      <td>0.006371</td>\n",
       "      <td>0.006404</td>\n",
       "      <td>0.006503</td>\n",
       "    </tr>\n",
       "    <tr>\n",
       "      <th rowspan=\"4\" valign=\"top\">100000</th>\n",
       "      <th>CCC (1 core)</th>\n",
       "      <td>10.0</td>\n",
       "      <td>0.174698</td>\n",
       "      <td>0.000853</td>\n",
       "      <td>0.172981</td>\n",
       "      <td>0.174516</td>\n",
       "      <td>0.174820</td>\n",
       "      <td>0.175171</td>\n",
       "      <td>0.175800</td>\n",
       "    </tr>\n",
       "    <tr>\n",
       "      <th>CCC (3 cores)</th>\n",
       "      <td>20.0</td>\n",
       "      <td>0.132427</td>\n",
       "      <td>0.043216</td>\n",
       "      <td>0.089384</td>\n",
       "      <td>0.090450</td>\n",
       "      <td>0.131798</td>\n",
       "      <td>0.174557</td>\n",
       "      <td>0.175795</td>\n",
       "    </tr>\n",
       "    <tr>\n",
       "      <th>Pearson (1 core)</th>\n",
       "      <td>10.0</td>\n",
       "      <td>0.000419</td>\n",
       "      <td>0.000261</td>\n",
       "      <td>0.000310</td>\n",
       "      <td>0.000311</td>\n",
       "      <td>0.000323</td>\n",
       "      <td>0.000356</td>\n",
       "      <td>0.001154</td>\n",
       "    </tr>\n",
       "    <tr>\n",
       "      <th>Spearman (1 core)</th>\n",
       "      <td>10.0</td>\n",
       "      <td>0.011976</td>\n",
       "      <td>0.000482</td>\n",
       "      <td>0.011688</td>\n",
       "      <td>0.011717</td>\n",
       "      <td>0.011878</td>\n",
       "      <td>0.011939</td>\n",
       "      <td>0.013306</td>\n",
       "    </tr>\n",
       "    <tr>\n",
       "      <th rowspan=\"4\" valign=\"top\">1000000</th>\n",
       "      <th>CCC (1 core)</th>\n",
       "      <td>10.0</td>\n",
       "      <td>2.300074</td>\n",
       "      <td>0.059685</td>\n",
       "      <td>2.243103</td>\n",
       "      <td>2.258527</td>\n",
       "      <td>2.273946</td>\n",
       "      <td>2.339997</td>\n",
       "      <td>2.399963</td>\n",
       "    </tr>\n",
       "    <tr>\n",
       "      <th>CCC (3 cores)</th>\n",
       "      <td>20.0</td>\n",
       "      <td>1.835366</td>\n",
       "      <td>0.568365</td>\n",
       "      <td>1.263928</td>\n",
       "      <td>1.282314</td>\n",
       "      <td>1.833785</td>\n",
       "      <td>2.391098</td>\n",
       "      <td>2.400922</td>\n",
       "    </tr>\n",
       "    <tr>\n",
       "      <th>Pearson (1 core)</th>\n",
       "      <td>10.0</td>\n",
       "      <td>0.007424</td>\n",
       "      <td>0.001050</td>\n",
       "      <td>0.006337</td>\n",
       "      <td>0.006783</td>\n",
       "      <td>0.007136</td>\n",
       "      <td>0.007777</td>\n",
       "      <td>0.010026</td>\n",
       "    </tr>\n",
       "    <tr>\n",
       "      <th>Spearman (1 core)</th>\n",
       "      <td>10.0</td>\n",
       "      <td>0.175983</td>\n",
       "      <td>0.002461</td>\n",
       "      <td>0.172887</td>\n",
       "      <td>0.174187</td>\n",
       "      <td>0.175113</td>\n",
       "      <td>0.178249</td>\n",
       "      <td>0.179481</td>\n",
       "    </tr>\n",
       "    <tr>\n",
       "      <th rowspan=\"4\" valign=\"top\">10000000</th>\n",
       "      <th>CCC (1 core)</th>\n",
       "      <td>10.0</td>\n",
       "      <td>40.130216</td>\n",
       "      <td>0.064422</td>\n",
       "      <td>40.028379</td>\n",
       "      <td>40.077354</td>\n",
       "      <td>40.150630</td>\n",
       "      <td>40.173642</td>\n",
       "      <td>40.222978</td>\n",
       "    </tr>\n",
       "    <tr>\n",
       "      <th>CCC (3 cores)</th>\n",
       "      <td>10.0</td>\n",
       "      <td>21.846361</td>\n",
       "      <td>0.102418</td>\n",
       "      <td>21.685791</td>\n",
       "      <td>21.766874</td>\n",
       "      <td>21.877272</td>\n",
       "      <td>21.905696</td>\n",
       "      <td>22.008292</td>\n",
       "    </tr>\n",
       "    <tr>\n",
       "      <th>Pearson (1 core)</th>\n",
       "      <td>10.0</td>\n",
       "      <td>0.094118</td>\n",
       "      <td>0.000621</td>\n",
       "      <td>0.092937</td>\n",
       "      <td>0.093898</td>\n",
       "      <td>0.094109</td>\n",
       "      <td>0.094618</td>\n",
       "      <td>0.094927</td>\n",
       "    </tr>\n",
       "    <tr>\n",
       "      <th>Spearman (1 core)</th>\n",
       "      <td>10.0</td>\n",
       "      <td>2.943287</td>\n",
       "      <td>0.005418</td>\n",
       "      <td>2.932472</td>\n",
       "      <td>2.940585</td>\n",
       "      <td>2.943117</td>\n",
       "      <td>2.947067</td>\n",
       "      <td>2.951497</td>\n",
       "    </tr>\n",
       "  </tbody>\n",
       "</table>\n",
       "</div>"
      ],
      "text/plain": [
       "                              count       mean       std        min  \\\n",
       "data_size method                                                      \n",
       "100       CCC (1 core)       1000.0   0.000638  0.000030   0.000616   \n",
       "          CCC (3 cores)      2000.0   0.000864  0.000336   0.000620   \n",
       "          MIC (1 core)       1000.0   0.000725  0.000027   0.000642   \n",
       "          MICe (1 core)      1000.0   0.000676  0.000027   0.000594   \n",
       "          Pearson (1 core)   1000.0   0.000030  0.000003   0.000028   \n",
       "          Spearman (1 core)  1000.0   0.000214  0.000012   0.000200   \n",
       "500       CCC (1 core)         10.0   0.000945  0.000049   0.000917   \n",
       "          CCC (3 cores)        20.0   0.001081  0.000244   0.000916   \n",
       "          MIC (1 core)         10.0   0.011626  0.000200   0.011318   \n",
       "          MICe (1 core)        10.0   0.008861  0.000099   0.008698   \n",
       "          Pearson (1 core)     10.0   0.000039  0.000013   0.000031   \n",
       "          Spearman (1 core)    10.0   0.000272  0.000024   0.000259   \n",
       "1000      CCC (1 core)         10.0   0.001411  0.000045   0.001352   \n",
       "          CCC (3 cores)        20.0   0.001423  0.000197   0.001305   \n",
       "          MIC (1 core)         10.0   0.037035  0.000359   0.036555   \n",
       "          MICe (1 core)        10.0   0.024683  0.000105   0.024500   \n",
       "          Pearson (1 core)     10.0   0.000040  0.000018   0.000032   \n",
       "          Spearman (1 core)    10.0   0.000318  0.000029   0.000294   \n",
       "5000      CCC (1 core)         10.0   0.006699  0.000153   0.006540   \n",
       "          CCC (3 cores)        20.0   0.005661  0.001280   0.003849   \n",
       "          MIC (1 core)         10.0   0.509760  0.001702   0.506530   \n",
       "          MICe (1 core)        10.0   0.227899  0.000712   0.226766   \n",
       "          Pearson (1 core)     10.0   0.000051  0.000013   0.000044   \n",
       "          Spearman (1 core)    10.0   0.000660  0.000025   0.000633   \n",
       "10000     CCC (1 core)         10.0   0.014376  0.000156   0.014089   \n",
       "          CCC (3 cores)        20.0   0.011748  0.002949   0.007434   \n",
       "          MIC (1 core)         10.0   1.593811  0.005953   1.586504   \n",
       "          MICe (1 core)        10.0   0.572184  0.000891   0.571086   \n",
       "          Pearson (1 core)     10.0   0.000064  0.000015   0.000056   \n",
       "          Spearman (1 core)    10.0   0.001148  0.000021   0.001127   \n",
       "50000     CCC (1 core)         10.0   0.081954  0.000460   0.081520   \n",
       "          CCC (3 cores)        20.0   0.062749  0.020206   0.042135   \n",
       "          MICe (1 core)        10.0   4.840202  0.005833   4.833923   \n",
       "          Pearson (1 core)     10.0   0.000175  0.000023   0.000162   \n",
       "          Spearman (1 core)    10.0   0.006281  0.000192   0.005967   \n",
       "100000    CCC (1 core)         10.0   0.174698  0.000853   0.172981   \n",
       "          CCC (3 cores)        20.0   0.132427  0.043216   0.089384   \n",
       "          Pearson (1 core)     10.0   0.000419  0.000261   0.000310   \n",
       "          Spearman (1 core)    10.0   0.011976  0.000482   0.011688   \n",
       "1000000   CCC (1 core)         10.0   2.300074  0.059685   2.243103   \n",
       "          CCC (3 cores)        20.0   1.835366  0.568365   1.263928   \n",
       "          Pearson (1 core)     10.0   0.007424  0.001050   0.006337   \n",
       "          Spearman (1 core)    10.0   0.175983  0.002461   0.172887   \n",
       "10000000  CCC (1 core)         10.0  40.130216  0.064422  40.028379   \n",
       "          CCC (3 cores)        10.0  21.846361  0.102418  21.685791   \n",
       "          Pearson (1 core)     10.0   0.094118  0.000621   0.092937   \n",
       "          Spearman (1 core)    10.0   2.943287  0.005418   2.932472   \n",
       "\n",
       "                                   25%        50%        75%        max  \n",
       "data_size method                                                         \n",
       "100       CCC (1 core)        0.000628   0.000632   0.000637   0.001261  \n",
       "          CCC (3 cores)       0.000635   0.000870   0.000950   0.005126  \n",
       "          MIC (1 core)        0.000706   0.000725   0.000744   0.000810  \n",
       "          MICe (1 core)       0.000660   0.000677   0.000691   0.001160  \n",
       "          Pearson (1 core)    0.000030   0.000030   0.000031   0.000090  \n",
       "          Spearman (1 core)   0.000211   0.000213   0.000216   0.000489  \n",
       "500       CCC (1 core)        0.000920   0.000930   0.000945   0.001080  \n",
       "          CCC (3 cores)       0.000925   0.001053   0.001110   0.001951  \n",
       "          MIC (1 core)        0.011462   0.011678   0.011781   0.011859  \n",
       "          MICe (1 core)       0.008783   0.008898   0.008920   0.009018  \n",
       "          Pearson (1 core)    0.000033   0.000033   0.000035   0.000073  \n",
       "          Spearman (1 core)   0.000261   0.000265   0.000268   0.000339  \n",
       "1000      CCC (1 core)        0.001381   0.001394   0.001442   0.001476  \n",
       "          CCC (3 cores)       0.001358   0.001394   0.001403   0.002239  \n",
       "          MIC (1 core)        0.036795   0.036971   0.037363   0.037545  \n",
       "          MICe (1 core)       0.024657   0.024675   0.024751   0.024867  \n",
       "          Pearson (1 core)    0.000034   0.000034   0.000035   0.000090  \n",
       "          Spearman (1 core)   0.000302   0.000307   0.000320   0.000391  \n",
       "5000      CCC (1 core)        0.006617   0.006644   0.006757   0.007074  \n",
       "          CCC (3 cores)       0.004153   0.006480   0.006716   0.006952  \n",
       "          MIC (1 core)        0.508632   0.509907   0.511210   0.511696  \n",
       "          MICe (1 core)       0.227390   0.227958   0.228420   0.228829  \n",
       "          Pearson (1 core)    0.000046   0.000047   0.000049   0.000089  \n",
       "          Spearman (1 core)   0.000648   0.000654   0.000668   0.000718  \n",
       "10000     CCC (1 core)        0.014248   0.014449   0.014489   0.014554  \n",
       "          CCC (3 cores)       0.008944   0.013191   0.014381   0.014911  \n",
       "          MIC (1 core)        1.589123   1.593626   1.597724   1.605012  \n",
       "          MICe (1 core)       0.571555   0.572045   0.572602   0.574120  \n",
       "          Pearson (1 core)    0.000057   0.000057   0.000060   0.000103  \n",
       "          Spearman (1 core)   0.001132   0.001143   0.001154   0.001189  \n",
       "50000     CCC (1 core)        0.081645   0.081771   0.082033   0.082827  \n",
       "          CCC (3 cores)       0.042986   0.062657   0.082565   0.083035  \n",
       "          MICe (1 core)       4.836959   4.838884   4.841126   4.853696  \n",
       "          Pearson (1 core)    0.000165   0.000167   0.000174   0.000237  \n",
       "          Spearman (1 core)   0.006173   0.006371   0.006404   0.006503  \n",
       "100000    CCC (1 core)        0.174516   0.174820   0.175171   0.175800  \n",
       "          CCC (3 cores)       0.090450   0.131798   0.174557   0.175795  \n",
       "          Pearson (1 core)    0.000311   0.000323   0.000356   0.001154  \n",
       "          Spearman (1 core)   0.011717   0.011878   0.011939   0.013306  \n",
       "1000000   CCC (1 core)        2.258527   2.273946   2.339997   2.399963  \n",
       "          CCC (3 cores)       1.282314   1.833785   2.391098   2.400922  \n",
       "          Pearson (1 core)    0.006783   0.007136   0.007777   0.010026  \n",
       "          Spearman (1 core)   0.174187   0.175113   0.178249   0.179481  \n",
       "10000000  CCC (1 core)       40.077354  40.150630  40.173642  40.222978  \n",
       "          CCC (3 cores)      21.766874  21.877272  21.905696  22.008292  \n",
       "          Pearson (1 core)    0.093898   0.094109   0.094618   0.094927  \n",
       "          Spearman (1 core)   2.940585   2.943117   2.947067   2.951497  "
      ]
     },
     "metadata": {},
     "output_type": "display_data"
    }
   ],
   "source": [
    "run_numbers = (\n",
    "    plot_data[\n",
    "        plot_data[\"method\"].str.contains(\"1 core\", regex=False)\n",
    "        | plot_data[\"method\"].str.contains(\"CCC (3 cores)\", regex=False)\n",
    "    ]\n",
    "    .groupby([\"data_size\", \"method\"])[\"time\"]\n",
    "    .describe()\n",
    ")\n",
    "display(run_numbers)"
   ]
  },
  {
   "cell_type": "markdown",
   "id": "772f2cd8-22b9-4106-93e2-1c8063370356",
   "metadata": {
    "papermill": {
     "duration": 0.002476,
     "end_time": "2023-09-11T14:41:55.662125",
     "exception": false,
     "start_time": "2023-09-11T14:41:55.659649",
     "status": "completed"
    },
    "tags": []
   },
   "source": [
    "# Plot"
   ]
  },
  {
   "cell_type": "code",
   "execution_count": 16,
   "id": "3b4ffedd-661b-40da-b323-4d29f38c3b72",
   "metadata": {
    "execution": {
     "iopub.execute_input": "2023-09-11T14:41:55.667314Z",
     "iopub.status.busy": "2023-09-11T14:41:55.667241Z",
     "iopub.status.idle": "2023-09-11T14:41:55.668841Z",
     "shell.execute_reply": "2023-09-11T14:41:55.668704Z"
    },
    "papermill": {
     "duration": 0.004783,
     "end_time": "2023-09-11T14:41:55.669379",
     "exception": false,
     "start_time": "2023-09-11T14:41:55.664596",
     "status": "completed"
    },
    "tags": []
   },
   "outputs": [],
   "source": [
    "hue_order = sorted(time_results[\"method\"].unique())"
   ]
  },
  {
   "cell_type": "code",
   "execution_count": 17,
   "id": "cc263e22-bbc0-4d20-953f-ec6fd0a624b8",
   "metadata": {
    "execution": {
     "iopub.execute_input": "2023-09-11T14:41:55.674502Z",
     "iopub.status.busy": "2023-09-11T14:41:55.674393Z",
     "iopub.status.idle": "2023-09-11T14:41:55.675878Z",
     "shell.execute_reply": "2023-09-11T14:41:55.675755Z"
    },
    "papermill": {
     "duration": 0.004689,
     "end_time": "2023-09-11T14:41:55.676431",
     "exception": false,
     "start_time": "2023-09-11T14:41:55.671742",
     "status": "completed"
    },
    "tags": []
   },
   "outputs": [
    {
     "data": {
      "text/plain": [
       "['CCC (1 core)',\n",
       " 'CCC (3 cores)',\n",
       " 'MIC (1 core)',\n",
       " 'MIC (3 cores)',\n",
       " 'MICe (1 core)',\n",
       " 'MICe (3 cores)',\n",
       " 'Pearson (1 core)',\n",
       " 'Pearson (3 cores)',\n",
       " 'Spearman (1 core)',\n",
       " 'Spearman (3 cores)']"
      ]
     },
     "execution_count": 17,
     "metadata": {},
     "output_type": "execute_result"
    }
   ],
   "source": [
    "hue_order"
   ]
  },
  {
   "cell_type": "code",
   "execution_count": 18,
   "id": "e3c79816-6703-4236-b55a-c6dc38d4d600",
   "metadata": {
    "execution": {
     "iopub.execute_input": "2023-09-11T14:41:55.681560Z",
     "iopub.status.busy": "2023-09-11T14:41:55.681458Z",
     "iopub.status.idle": "2023-09-11T14:41:55.683376Z",
     "shell.execute_reply": "2023-09-11T14:41:55.683254Z"
    },
    "papermill": {
     "duration": 0.005063,
     "end_time": "2023-09-11T14:41:55.683918",
     "exception": false,
     "start_time": "2023-09-11T14:41:55.678855",
     "status": "completed"
    },
    "tags": []
   },
   "outputs": [
    {
     "data": {
      "text/html": [
       "<svg  width=\"660\" height=\"55\"><rect x=\"0\" y=\"0\" width=\"55\" height=\"55\" style=\"fill:#a6cee3;stroke-width:2;stroke:rgb(255,255,255)\"/><rect x=\"55\" y=\"0\" width=\"55\" height=\"55\" style=\"fill:#1f78b4;stroke-width:2;stroke:rgb(255,255,255)\"/><rect x=\"110\" y=\"0\" width=\"55\" height=\"55\" style=\"fill:#b2df8a;stroke-width:2;stroke:rgb(255,255,255)\"/><rect x=\"165\" y=\"0\" width=\"55\" height=\"55\" style=\"fill:#33a02c;stroke-width:2;stroke:rgb(255,255,255)\"/><rect x=\"220\" y=\"0\" width=\"55\" height=\"55\" style=\"fill:#fb9a99;stroke-width:2;stroke:rgb(255,255,255)\"/><rect x=\"275\" y=\"0\" width=\"55\" height=\"55\" style=\"fill:#e31a1c;stroke-width:2;stroke:rgb(255,255,255)\"/><rect x=\"330\" y=\"0\" width=\"55\" height=\"55\" style=\"fill:#fdbf6f;stroke-width:2;stroke:rgb(255,255,255)\"/><rect x=\"385\" y=\"0\" width=\"55\" height=\"55\" style=\"fill:#ff7f00;stroke-width:2;stroke:rgb(255,255,255)\"/><rect x=\"440\" y=\"0\" width=\"55\" height=\"55\" style=\"fill:#cab2d6;stroke-width:2;stroke:rgb(255,255,255)\"/><rect x=\"495\" y=\"0\" width=\"55\" height=\"55\" style=\"fill:#6a3d9a;stroke-width:2;stroke:rgb(255,255,255)\"/><rect x=\"550\" y=\"0\" width=\"55\" height=\"55\" style=\"fill:#ffff99;stroke-width:2;stroke:rgb(255,255,255)\"/><rect x=\"605\" y=\"0\" width=\"55\" height=\"55\" style=\"fill:#b15928;stroke-width:2;stroke:rgb(255,255,255)\"/></svg>"
      ],
      "text/plain": [
       "[(0.6509803921568628, 0.807843137254902, 0.8901960784313725),\n",
       " (0.12156862745098039, 0.47058823529411764, 0.7058823529411765),\n",
       " (0.6980392156862745, 0.8745098039215686, 0.5411764705882353),\n",
       " (0.2, 0.6274509803921569, 0.17254901960784313),\n",
       " (0.984313725490196, 0.6039215686274509, 0.6),\n",
       " (0.8901960784313725, 0.10196078431372549, 0.10980392156862745),\n",
       " (0.9921568627450981, 0.7490196078431373, 0.43529411764705883),\n",
       " (1.0, 0.4980392156862745, 0.0),\n",
       " (0.792156862745098, 0.6980392156862745, 0.8392156862745098),\n",
       " (0.41568627450980394, 0.23921568627450981, 0.6039215686274509),\n",
       " (1.0, 1.0, 0.6),\n",
       " (0.6941176470588235, 0.34901960784313724, 0.1568627450980392)]"
      ]
     },
     "metadata": {},
     "output_type": "display_data"
    }
   ],
   "source": [
    "deep_colors = sns.color_palette(\"Paired\")\n",
    "display(deep_colors)"
   ]
  },
  {
   "cell_type": "code",
   "execution_count": 19,
   "id": "59249512-0a19-4868-b5a0-5dc4e271c8af",
   "metadata": {
    "execution": {
     "iopub.execute_input": "2023-09-11T14:41:55.689211Z",
     "iopub.status.busy": "2023-09-11T14:41:55.689116Z",
     "iopub.status.idle": "2023-09-11T14:41:55.692291Z",
     "shell.execute_reply": "2023-09-11T14:41:55.692134Z"
    },
    "papermill": {
     "duration": 0.006262,
     "end_time": "2023-09-11T14:41:55.692678",
     "exception": false,
     "start_time": "2023-09-11T14:41:55.686416",
     "status": "completed"
    },
    "tags": []
   },
   "outputs": [],
   "source": [
    "def format_data_size(x):\n",
    "    if x < 1000:\n",
    "        return f\"{int(x)}\"\n",
    "    elif x < 1000000:\n",
    "        return f\"{int(x/1000)}k\"\n",
    "\n",
    "    return f\"{int(x/1000000)}m\"\n",
    "\n",
    "\n",
    "plot_data = plot_data.assign(data_size=plot_data[\"data_size\"].apply(format_data_size))"
   ]
  },
  {
   "cell_type": "markdown",
   "id": "c581b4df-26fe-43e2-ba23-3595534c7ea2",
   "metadata": {
    "papermill": {
     "duration": 0.002402,
     "end_time": "2023-09-11T14:41:55.697550",
     "exception": false,
     "start_time": "2023-09-11T14:41:55.695148",
     "status": "completed"
    },
    "tags": []
   },
   "source": [
    "## First analysis"
   ]
  },
  {
   "cell_type": "markdown",
   "id": "5fcb16ca-07a6-41b9-aa18-f22b84194e71",
   "metadata": {
    "papermill": {
     "duration": 0.002429,
     "end_time": "2023-09-11T14:41:55.702447",
     "exception": false,
     "start_time": "2023-09-11T14:41:55.700018",
     "status": "completed"
    },
    "tags": []
   },
   "source": [
    "Here I take a look if using more than 1 core benefits methods."
   ]
  },
  {
   "cell_type": "code",
   "execution_count": 20,
   "id": "09151d37-4dd2-4c1f-ab4a-94b4d3e79018",
   "metadata": {
    "execution": {
     "iopub.execute_input": "2023-09-11T14:41:55.707659Z",
     "iopub.status.busy": "2023-09-11T14:41:55.707547Z",
     "iopub.status.idle": "2023-09-11T14:41:56.365293Z",
     "shell.execute_reply": "2023-09-11T14:41:56.365106Z"
    },
    "papermill": {
     "duration": 0.661136,
     "end_time": "2023-09-11T14:41:56.366016",
     "exception": false,
     "start_time": "2023-09-11T14:41:55.704880",
     "status": "completed"
    },
    "tags": []
   },
   "outputs": [
    {
     "data": {
      "image/png": "[encoded data removed]",
      "text/plain": [
       "<Figure size 682.395x360 with 1 Axes>"
      ]
     },
     "metadata": {
      "needs_background": "light"
     },
     "output_type": "display_data"
    }
   ],
   "source": [
    "with sns.plotting_context(\"paper\", font_scale=1.5):\n",
    "    g = sns.catplot(\n",
    "        kind=\"point\",\n",
    "        data=plot_data,\n",
    "        x=\"data_size\",\n",
    "        y=\"time\",\n",
    "        hue=\"method\",\n",
    "        hue_order=hue_order,\n",
    "        palette=deep_colors,\n",
    "        height=5,\n",
    "        aspect=1.4,\n",
    "    )\n",
    "\n",
    "    plt.xlabel(\"Number of measured objects\")\n",
    "    plt.ylabel(\"Time (seconds)\")"
   ]
  },
  {
   "cell_type": "code",
   "execution_count": 21,
   "id": "c651024b-eb30-4d50-b71c-8eaa17704acd",
   "metadata": {
    "execution": {
     "iopub.execute_input": "2023-09-11T14:41:56.379476Z",
     "iopub.status.busy": "2023-09-11T14:41:56.379420Z",
     "iopub.status.idle": "2023-09-11T14:41:57.186004Z",
     "shell.execute_reply": "2023-09-11T14:41:57.185710Z"
    },
    "papermill": {
     "duration": 0.817556,
     "end_time": "2023-09-11T14:41:57.186660",
     "exception": false,
     "start_time": "2023-09-11T14:41:56.369104",
     "status": "completed"
    },
    "tags": []
   },
   "outputs": [
    {
     "data": {
      "image/png": "[encoded data removed]",
      "text/plain": [
       "<Figure size 682.395x360 with 1 Axes>"
      ]
     },
     "metadata": {
      "needs_background": "light"
     },
     "output_type": "display_data"
    }
   ],
   "source": [
    "with sns.plotting_context(\"paper\", font_scale=1.5):\n",
    "    g = sns.catplot(\n",
    "        kind=\"point\",\n",
    "        data=plot_data,\n",
    "        x=\"data_size\",\n",
    "        y=\"time\",\n",
    "        hue=\"method\",\n",
    "        hue_order=hue_order,\n",
    "        palette=deep_colors,\n",
    "        height=5,\n",
    "        aspect=1.4,\n",
    "    )\n",
    "\n",
    "    plt.xlabel(\"Number of measured objects\")\n",
    "    plt.ylabel(\"Time (seconds) in log scale\")\n",
    "\n",
    "    g.ax.set_yscale(\"log\")"
   ]
  },
  {
   "cell_type": "markdown",
   "id": "d526030a-11a3-4084-bcc3-cd268d2b0599",
   "metadata": {
    "papermill": {
     "duration": 0.003043,
     "end_time": "2023-09-11T14:41:57.193139",
     "exception": false,
     "start_time": "2023-09-11T14:41:57.190096",
     "status": "completed"
    },
    "tags": []
   },
   "source": [
    "Only CCC is really taking advantage of more than 1 core, so I'll remove the rest below."
   ]
  },
  {
   "cell_type": "markdown",
   "id": "610e0cef-d404-4db2-9e88-f26451e0dd87",
   "metadata": {
    "papermill": {
     "duration": 0.002877,
     "end_time": "2023-09-11T14:41:57.198990",
     "exception": false,
     "start_time": "2023-09-11T14:41:57.196113",
     "status": "completed"
    },
    "tags": []
   },
   "source": [
    "# Final analysis"
   ]
  },
  {
   "cell_type": "code",
   "execution_count": 22,
   "id": "f7b788fe-666d-43ee-92d9-358c8451ada4",
   "metadata": {
    "execution": {
     "iopub.execute_input": "2023-09-11T14:41:57.205285Z",
     "iopub.status.busy": "2023-09-11T14:41:57.205220Z",
     "iopub.status.idle": "2023-09-11T14:41:57.208309Z",
     "shell.execute_reply": "2023-09-11T14:41:57.208157Z"
    },
    "papermill": {
     "duration": 0.006961,
     "end_time": "2023-09-11T14:41:57.208888",
     "exception": false,
     "start_time": "2023-09-11T14:41:57.201927",
     "status": "completed"
    },
    "tags": []
   },
   "outputs": [],
   "source": [
    "# select runs with 3 cores for the other methods\n",
    "plot_data = plot_data.replace(\n",
    "    {\n",
    "        \"method\": {\n",
    "            \"Pearson (3 cores)\": \"Pearson\",\n",
    "            \"Spearman (3 cores)\": \"Spearman\",\n",
    "            \"MIC (3 cores)\": \"MIC\",\n",
    "            \"MICe (3 cores)\": r\"$\\mathregular{MIC_e}$\",\n",
    "        }\n",
    "    }\n",
    ")"
   ]
  },
  {
   "cell_type": "code",
   "execution_count": 23,
   "id": "c0c8b101-25bb-4891-8a6a-f6d50870f13c",
   "metadata": {
    "execution": {
     "iopub.execute_input": "2023-09-11T14:41:57.215165Z",
     "iopub.status.busy": "2023-09-11T14:41:57.215052Z",
     "iopub.status.idle": "2023-09-11T14:41:57.217123Z",
     "shell.execute_reply": "2023-09-11T14:41:57.216987Z"
    },
    "papermill": {
     "duration": 0.005682,
     "end_time": "2023-09-11T14:41:57.217549",
     "exception": false,
     "start_time": "2023-09-11T14:41:57.211867",
     "status": "completed"
    },
    "tags": []
   },
   "outputs": [
    {
     "data": {
      "text/plain": [
       "array(['Pearson (1 core)', 'Spearman (1 core)', 'CCC (1 core)',\n",
       "       'MICe (1 core)', 'MIC (1 core)', 'Pearson', 'Spearman',\n",
       "       'CCC (3 cores)', '$\\\\mathregular{MIC_e}$', 'MIC'], dtype=object)"
      ]
     },
     "execution_count": 23,
     "metadata": {},
     "output_type": "execute_result"
    }
   ],
   "source": [
    "plot_data[\"method\"].unique()"
   ]
  },
  {
   "cell_type": "code",
   "execution_count": 24,
   "id": "10d6b353-a3a8-4d69-9695-2e5a9311be86",
   "metadata": {
    "execution": {
     "iopub.execute_input": "2023-09-11T14:41:57.223803Z",
     "iopub.status.busy": "2023-09-11T14:41:57.223692Z",
     "iopub.status.idle": "2023-09-11T14:41:57.225041Z",
     "shell.execute_reply": "2023-09-11T14:41:57.224856Z"
    },
    "papermill": {
     "duration": 0.004985,
     "end_time": "2023-09-11T14:41:57.225499",
     "exception": false,
     "start_time": "2023-09-11T14:41:57.220514",
     "status": "completed"
    },
    "tags": []
   },
   "outputs": [],
   "source": [
    "hue_order = [\n",
    "    \"MIC\",\n",
    "    r\"$\\mathregular{MIC_e}$\",\n",
    "    \"CCC (1 core)\",\n",
    "    \"CCC (3 cores)\",\n",
    "    \"Spearman\",\n",
    "    \"Pearson\",\n",
    "]"
   ]
  },
  {
   "cell_type": "code",
   "execution_count": 25,
   "id": "35488a38-3d38-48a0-8039-3cb0605e4fe1",
   "metadata": {
    "execution": {
     "iopub.execute_input": "2023-09-11T14:41:57.231830Z",
     "iopub.status.busy": "2023-09-11T14:41:57.231736Z",
     "iopub.status.idle": "2023-09-11T14:41:57.792458Z",
     "shell.execute_reply": "2023-09-11T14:41:57.792297Z"
    },
    "papermill": {
     "duration": 0.564665,
     "end_time": "2023-09-11T14:41:57.793157",
     "exception": false,
     "start_time": "2023-09-11T14:41:57.228492",
     "status": "completed"
    },
    "tags": []
   },
   "outputs": [
    {
     "data": {
      "image/png": "[encoded data removed]",
      "text/plain": [
       "<Figure size 396x360 with 1 Axes>"
      ]
     },
     "metadata": {
      "needs_background": "light"
     },
     "output_type": "display_data"
    }
   ],
   "source": [
    "with sns.plotting_context(\"paper\", font_scale=1.5):\n",
    "    g = sns.catplot(\n",
    "        kind=\"point\",\n",
    "        data=plot_data,\n",
    "        x=\"data_size\",\n",
    "        y=\"time\",\n",
    "        hue=\"method\",\n",
    "        hue_order=hue_order,\n",
    "        palette=deep_colors,\n",
    "        height=5,\n",
    "        aspect=1.1,\n",
    "        legend=False,\n",
    "    )\n",
    "\n",
    "    plt.legend(loc=\"best\")\n",
    "    plt.xlabel(\"Number of measured objects\")\n",
    "    plt.ylabel(\"Time (seconds)\")\n",
    "\n",
    "    plt.savefig(\n",
    "        OUTPUT_FIGURE_DIR / f\"{INPUT_FILENAME_TEMPLATE}.svg\",\n",
    "        bbox_inches=\"tight\",\n",
    "        facecolor=\"white\",\n",
    "    )"
   ]
  },
  {
   "cell_type": "code",
   "execution_count": 26,
   "id": "f6f35635-3125-41ff-9e16-1b6b78314d20",
   "metadata": {
    "execution": {
     "iopub.execute_input": "2023-09-11T14:41:57.800488Z",
     "iopub.status.busy": "2023-09-11T14:41:57.800423Z",
     "iopub.status.idle": "2023-09-11T14:41:58.633209Z",
     "shell.execute_reply": "2023-09-11T14:41:58.632958Z"
    },
    "papermill": {
     "duration": 0.837293,
     "end_time": "2023-09-11T14:41:58.633864",
     "exception": false,
     "start_time": "2023-09-11T14:41:57.796571",
     "status": "completed"
    },
    "tags": []
   },
   "outputs": [
    {
     "data": {
      "image/png": "[encoded data removed]",
      "text/plain": [
       "<Figure size 396x360 with 1 Axes>"
      ]
     },
     "metadata": {
      "needs_background": "light"
     },
     "output_type": "display_data"
    }
   ],
   "source": [
    "with sns.plotting_context(\"paper\", font_scale=1.5):\n",
    "    g = sns.catplot(\n",
    "        kind=\"point\",\n",
    "        data=plot_data,\n",
    "        x=\"data_size\",\n",
    "        y=\"time\",\n",
    "        hue=\"method\",\n",
    "        hue_order=hue_order,\n",
    "        palette=deep_colors,\n",
    "        height=5,\n",
    "        aspect=1.1,\n",
    "        legend=False,\n",
    "    )\n",
    "\n",
    "    plt.legend(loc=\"best\", fontsize=\"small\", framealpha=0.5)\n",
    "    plt.xlabel(\"Number of objects\")\n",
    "    plt.ylabel(\"Time (seconds) in log scale\")\n",
    "    g.ax.set_yscale(\"log\")\n",
    "\n",
    "    plt.savefig(\n",
    "        OUTPUT_FIGURE_DIR / f\"{INPUT_FILENAME_TEMPLATE}-log.svg\",\n",
    "        bbox_inches=\"tight\",\n",
    "        facecolor=\"white\",\n",
    "    )"
   ]
  },
  {
   "cell_type": "markdown",
   "id": "7725ab7d-0cfd-41d2-a537-8e96e09cfcf5",
   "metadata": {
    "papermill": {
     "duration": 0.009823,
     "end_time": "2023-09-11T14:41:58.647513",
     "exception": false,
     "start_time": "2023-09-11T14:41:58.637690",
     "status": "completed"
    },
    "tags": []
   },
   "source": [
    "# Create final figure"
   ]
  },
  {
   "cell_type": "code",
   "execution_count": 27,
   "id": "80f45a4f-c990-4204-96dc-cab0e5c6b416",
   "metadata": {
    "execution": {
     "iopub.execute_input": "2023-09-11T14:41:58.655933Z",
     "iopub.status.busy": "2023-09-11T14:41:58.655860Z",
     "iopub.status.idle": "2023-09-11T14:41:58.661952Z",
     "shell.execute_reply": "2023-09-11T14:41:58.661775Z"
    },
    "papermill": {
     "duration": 0.01141,
     "end_time": "2023-09-11T14:41:58.662528",
     "exception": false,
     "start_time": "2023-09-11T14:41:58.651118",
     "status": "completed"
    },
    "tags": []
   },
   "outputs": [],
   "source": [
    "from svgutils.compose import Figure, SVG"
   ]
  },
  {
   "cell_type": "code",
   "execution_count": 28,
   "id": "b828ba84-8ffc-419c-bc03-d993c8c76623",
   "metadata": {
    "execution": {
     "iopub.execute_input": "2023-09-11T14:41:58.670065Z",
     "iopub.status.busy": "2023-09-11T14:41:58.669992Z",
     "iopub.status.idle": "2023-09-11T14:41:58.673145Z",
     "shell.execute_reply": "2023-09-11T14:41:58.673007Z"
    },
    "papermill": {
     "duration": 0.007449,
     "end_time": "2023-09-11T14:41:58.673688",
     "exception": false,
     "start_time": "2023-09-11T14:41:58.666239",
     "status": "completed"
    },
    "tags": []
   },
   "outputs": [],
   "source": [
    "Figure(\n",
    "    \"19.79335cm\",\n",
    "    \"17.09335cm\",\n",
    "    # white background\n",
    "    SVG(COEF_COMP_DIR / \"white_background.svg\").scale(0.5).move(0, 0),\n",
    "    # SVG(OUTPUT_FIGURE_DIR / \"time_test.svg\").scale(0.05),\n",
    "    SVG(OUTPUT_FIGURE_DIR / \"time_test-log.svg\").scale(0.05),\n",
    ").save(OUTPUT_FIGURE_DIR / \"time_test-main.svg\")"
   ]
  },
  {
   "cell_type": "markdown",
   "id": "c575367b-efad-4ad6-90b2-7aedcfdc83cb",
   "metadata": {
    "papermill": {
     "duration": 0.003316,
     "end_time": "2023-09-11T14:41:58.680344",
     "exception": false,
     "start_time": "2023-09-11T14:41:58.677028",
     "status": "completed"
    },
    "tags": []
   },
   "source": [
    "Compile the manuscript with manubot and make sure the image has a white background and displays properly."
   ]
  },
  {
   "cell_type": "code",
   "execution_count": null,
   "id": "4dd9bb5d-3376-4c74-8d04-5999db50509f",
   "metadata": {
    "papermill": {
     "duration": 0.003276,
     "end_time": "2023-09-11T14:41:58.686975",
     "exception": false,
     "start_time": "2023-09-11T14:41:58.683699",
     "status": "completed"
    },
    "tags": []
   },
   "outputs": [],
   "source": []
  }
 ],
 "metadata": {
  "jupytext": {
   "cell_metadata_filter": "all,-execution,-papermill,-trusted",
   "notebook_metadata_filter": "-jupytext.text_representation.jupytext_version"
  },
  "kernelspec": {
   "display_name": "Python 3 (ipykernel)",
   "language": "python",
   "name": "python3"
  },
  "language_info": {
   "codemirror_mode": {
    "name": "ipython",
    "version": 3
   },
   "file_extension": ".py",
   "mimetype": "text/x-python",
   "name": "python",
   "nbconvert_exporter": "python",
   "pygments_lexer": "ipython3",
   "version": "3.9.12"
  },
  "papermill": {
   "default_parameters": {},
   "duration": 4.565652,
   "end_time": "2023-09-11T14:41:58.906450",
   "environment_variables": {},
   "exception": null,
   "input_path": "nbs/99_manuscript/time_test/07-time_test-plot.ipynb",
   "output_path": "nbs/99_manuscript/time_test/07-time_test-plot.run.ipynb",
   "parameters": {
    "GTEX_TISSUE": "skin_sun_exposed_lower_leg"
   },
   "start_time": "2023-09-11T14:41:54.340798",
   "version": "2.3.3"
  }
 },
 "nbformat": 4,
 "nbformat_minor": 5
}
