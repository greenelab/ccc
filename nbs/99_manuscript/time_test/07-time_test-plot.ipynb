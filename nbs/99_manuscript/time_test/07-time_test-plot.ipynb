{
 "cells": [
  {
   "cell_type": "markdown",
   "id": "c1948eb4-fb63-4fad-8243-bcd57b98def3",
   "metadata": {
    "papermill": {
     "duration": 0.043688,
     "end_time": "2022-01-28T21:06:31.001528",
     "exception": false,
     "start_time": "2022-01-28T21:06:30.957840",
     "status": "completed"
    },
    "tags": []
   },
   "source": [
    "# Description"
   ]
  },
  {
   "cell_type": "markdown",
   "id": "0abb1d73-c786-4c6d-9dc2-b9243e5183e2",
   "metadata": {
    "papermill": {
     "duration": 0.036913,
     "end_time": "2022-01-28T21:06:31.075451",
     "exception": false,
     "start_time": "2022-01-28T21:06:31.038538",
     "status": "completed"
    },
    "tags": []
   },
   "source": [
    "Make plots to show the computational complexity results comparing all coefficients."
   ]
  },
  {
   "cell_type": "markdown",
   "id": "d6252b4c-6d56-4cf0-aecd-5d8c769a3609",
   "metadata": {
    "papermill": {
     "duration": 0.036915,
     "end_time": "2022-01-28T21:06:31.149476",
     "exception": false,
     "start_time": "2022-01-28T21:06:31.112561",
     "status": "completed"
    },
    "tags": []
   },
   "source": [
    "# Modules loading"
   ]
  },
  {
   "cell_type": "code",
   "execution_count": 1,
   "id": "77e9d29d-5307-4b4a-b103-7d1fbd6a7e56",
   "metadata": {
    "papermill": {
     "duration": 0.300189,
     "end_time": "2022-01-28T21:06:31.486761",
     "exception": false,
     "start_time": "2022-01-28T21:06:31.186572",
     "status": "completed"
    },
    "tags": []
   },
   "outputs": [],
   "source": [
    "import pandas as pd\n",
    "import matplotlib.pyplot as plt\n",
    "import seaborn as sns\n",
    "\n",
    "from clustermatch import conf"
   ]
  },
  {
   "cell_type": "markdown",
   "id": "262eb535-3e5d-43d7-9efd-bd6cfdac9190",
   "metadata": {
    "papermill": {
     "duration": 0.03715,
     "end_time": "2022-01-28T21:06:31.562453",
     "exception": false,
     "start_time": "2022-01-28T21:06:31.525303",
     "status": "completed"
    },
    "tags": []
   },
   "source": [
    "# Settings"
   ]
  },
  {
   "cell_type": "code",
   "execution_count": 2,
   "id": "6efda92a-579a-49e2-893f-ec3a40db8a26",
   "metadata": {},
   "outputs": [],
   "source": [
    "INPUT_FILENAME_TEMPLATE = \"time_test\""
   ]
  },
  {
   "cell_type": "markdown",
   "id": "eec9bb6d-4ba2-4817-9b36-bc8e68a2beae",
   "metadata": {
    "papermill": {
     "duration": 0.037221,
     "end_time": "2022-01-28T21:06:31.718740",
     "exception": false,
     "start_time": "2022-01-28T21:06:31.681519",
     "status": "completed"
    },
    "tags": []
   },
   "source": [
    "# Paths"
   ]
  },
  {
   "cell_type": "code",
   "execution_count": 3,
   "id": "413010af-a3b0-45a0-adb8-8559c06d228c",
   "metadata": {
    "papermill": {
     "duration": 0.085709,
     "end_time": "2021-12-21T20:13:39.269702",
     "exception": false,
     "start_time": "2021-12-21T20:13:39.183993",
     "status": "completed"
    },
    "tags": []
   },
   "outputs": [],
   "source": [
    "assert (\n",
    "    conf.MANUSCRIPT[\"BASE_DIR\"] is not None and conf.MANUSCRIPT[\"BASE_DIR\"].exists()\n",
    "), \"Manuscript dir not set\""
   ]
  },
  {
   "cell_type": "code",
   "execution_count": 4,
   "id": "456e7f20-5950-4cbf-8652-cf6e37fb6231",
   "metadata": {
    "papermill": {
     "duration": 0.086622,
     "end_time": "2021-12-21T20:13:39.436193",
     "exception": false,
     "start_time": "2021-12-21T20:13:39.349571",
     "status": "completed"
    },
    "tags": []
   },
   "outputs": [
    {
     "data": {
      "text/plain": [
       "PosixPath('/opt/manuscript/content/images/coefs_comp/time_test')"
      ]
     },
     "metadata": {},
     "output_type": "display_data"
    }
   ],
   "source": [
    "OUTPUT_FIGURE_DIR = conf.MANUSCRIPT[\"FIGURES_DIR\"] / \"coefs_comp\" / \"time_test\"\n",
    "OUTPUT_FIGURE_DIR.mkdir(parents=True, exist_ok=True)\n",
    "display(OUTPUT_FIGURE_DIR)"
   ]
  },
  {
   "cell_type": "code",
   "execution_count": 5,
   "id": "0b5ba2a4-54a7-4853-b804-cd2e5c476466",
   "metadata": {
    "papermill": {
     "duration": 0.086622,
     "end_time": "2021-12-21T20:13:39.436193",
     "exception": false,
     "start_time": "2021-12-21T20:13:39.349571",
     "status": "completed"
    },
    "tags": []
   },
   "outputs": [
    {
     "data": {
      "text/plain": [
       "PosixPath('/opt/data/results/time_test')"
      ]
     },
     "metadata": {},
     "output_type": "display_data"
    }
   ],
   "source": [
    "INPUT_DIR = conf.RESULTS_DIR / \"time_test\"\n",
    "display(INPUT_DIR)"
   ]
  },
  {
   "cell_type": "markdown",
   "id": "5b6ca2cf-6d86-48d8-aa42-5beaf6e0932b",
   "metadata": {
    "papermill": {
     "duration": 0.045283,
     "end_time": "2022-01-28T21:08:16.089335",
     "exception": false,
     "start_time": "2022-01-28T21:08:16.044052",
     "status": "completed"
    },
    "tags": []
   },
   "source": [
    "# Load results"
   ]
  },
  {
   "cell_type": "code",
   "execution_count": 6,
   "id": "d98986f3-badc-4760-8eed-e24b00ce2696",
   "metadata": {},
   "outputs": [],
   "source": [
    "time_results = pd.read_pickle(INPUT_DIR / f\"{INPUT_FILENAME_TEMPLATE}.pkl\")"
   ]
  },
  {
   "cell_type": "code",
   "execution_count": 7,
   "id": "69511566-f1cd-4d19-ab2d-48d64b1e5055",
   "metadata": {},
   "outputs": [
    {
     "data": {
      "text/plain": [
       "(10600, 4)"
      ]
     },
     "execution_count": 7,
     "metadata": {},
     "output_type": "execute_result"
    }
   ],
   "source": [
    "time_results.shape"
   ]
  },
  {
   "cell_type": "code",
   "execution_count": 8,
   "id": "6fc64cc3-264e-49a7-bbf9-af255e151118",
   "metadata": {},
   "outputs": [
    {
     "data": {
      "text/html": [
       "<div>\n",
       "<style scoped>\n",
       "    .dataframe tbody tr th:only-of-type {\n",
       "        vertical-align: middle;\n",
       "    }\n",
       "\n",
       "    .dataframe tbody tr th {\n",
       "        vertical-align: top;\n",
       "    }\n",
       "\n",
       "    .dataframe thead th {\n",
       "        text-align: right;\n",
       "    }\n",
       "</style>\n",
       "<table border=\"1\" class=\"dataframe\">\n",
       "  <thead>\n",
       "    <tr style=\"text-align: right;\">\n",
       "      <th></th>\n",
       "      <th>data_size</th>\n",
       "      <th>method</th>\n",
       "      <th>time</th>\n",
       "      <th>sim</th>\n",
       "    </tr>\n",
       "  </thead>\n",
       "  <tbody>\n",
       "    <tr>\n",
       "      <th>0</th>\n",
       "      <td>100</td>\n",
       "      <td>p-1</td>\n",
       "      <td>0.000177</td>\n",
       "      <td>-0.115117</td>\n",
       "    </tr>\n",
       "    <tr>\n",
       "      <th>1</th>\n",
       "      <td>100</td>\n",
       "      <td>p-1</td>\n",
       "      <td>0.000096</td>\n",
       "      <td>-0.050567</td>\n",
       "    </tr>\n",
       "    <tr>\n",
       "      <th>2</th>\n",
       "      <td>100</td>\n",
       "      <td>p-1</td>\n",
       "      <td>0.000089</td>\n",
       "      <td>0.215785</td>\n",
       "    </tr>\n",
       "    <tr>\n",
       "      <th>3</th>\n",
       "      <td>100</td>\n",
       "      <td>p-1</td>\n",
       "      <td>0.000078</td>\n",
       "      <td>0.020045</td>\n",
       "    </tr>\n",
       "    <tr>\n",
       "      <th>4</th>\n",
       "      <td>100</td>\n",
       "      <td>p-1</td>\n",
       "      <td>0.000075</td>\n",
       "      <td>0.053343</td>\n",
       "    </tr>\n",
       "  </tbody>\n",
       "</table>\n",
       "</div>"
      ],
      "text/plain": [
       "  data_size method      time       sim\n",
       "0       100    p-1  0.000177 -0.115117\n",
       "1       100    p-1  0.000096 -0.050567\n",
       "2       100    p-1  0.000089  0.215785\n",
       "3       100    p-1  0.000078  0.020045\n",
       "4       100    p-1  0.000075  0.053343"
      ]
     },
     "execution_count": 8,
     "metadata": {},
     "output_type": "execute_result"
    }
   ],
   "source": [
    "time_results.head()"
   ]
  },
  {
   "cell_type": "code",
   "execution_count": 9,
   "id": "511fbab5-e6a0-47a0-8ab6-329f65719a83",
   "metadata": {},
   "outputs": [
    {
     "data": {
      "text/plain": [
       "array(['p-1', 's-1', 'cm-1', 'mic_e-1', 'mic-1', 'p-3', 's-3', 'cm-3',\n",
       "       'mic_e-3', 'mic-3'], dtype=object)"
      ]
     },
     "execution_count": 9,
     "metadata": {},
     "output_type": "execute_result"
    }
   ],
   "source": [
    "time_results[\"method\"].unique()"
   ]
  },
  {
   "cell_type": "markdown",
   "id": "c2fdf161-71ea-4943-96af-a13612e11736",
   "metadata": {
    "papermill": {
     "duration": 0.045283,
     "end_time": "2022-01-28T21:08:16.089335",
     "exception": false,
     "start_time": "2022-01-28T21:08:16.044052",
     "status": "completed"
    },
    "tags": []
   },
   "source": [
    "# Processing"
   ]
  },
  {
   "cell_type": "code",
   "execution_count": 10,
   "id": "81703394-a7f1-48d6-974a-b987b4dd4c4d",
   "metadata": {},
   "outputs": [],
   "source": [
    "time_results = time_results.replace(\n",
    "    {\n",
    "        \"method\": {\n",
    "            \"p-1\": \"Pearson (1 core)\",\n",
    "            \"s-1\": \"Spearman (1 core)\",\n",
    "            \"cm-1\": \"CCC (1 core)\",\n",
    "            \"mic-1\": \"MIC (1 core)\",\n",
    "            \"mic_e-1\": \"MICe (1 core)\",\n",
    "            \"p-3\": \"Pearson (3 cores)\",\n",
    "            \"s-3\": \"Spearman (3 cores)\",\n",
    "            \"cm-3\": \"CCC (3 cores)\",\n",
    "            \"mic-3\": \"MIC (3 cores)\",\n",
    "            \"mic_e-3\": \"MICe (3 cores)\",\n",
    "        }\n",
    "    }\n",
    ")"
   ]
  },
  {
   "cell_type": "code",
   "execution_count": 11,
   "id": "e8b96624-7b6c-4ce7-a1c7-d8f2cabab649",
   "metadata": {},
   "outputs": [
    {
     "data": {
      "text/plain": [
       "(10600, 4)"
      ]
     },
     "execution_count": 11,
     "metadata": {},
     "output_type": "execute_result"
    }
   ],
   "source": [
    "time_results.shape"
   ]
  },
  {
   "cell_type": "code",
   "execution_count": 12,
   "id": "6d49c62c-1fcb-4caa-b1f4-e7a224bd3c9b",
   "metadata": {},
   "outputs": [
    {
     "data": {
      "text/html": [
       "<div>\n",
       "<style scoped>\n",
       "    .dataframe tbody tr th:only-of-type {\n",
       "        vertical-align: middle;\n",
       "    }\n",
       "\n",
       "    .dataframe tbody tr th {\n",
       "        vertical-align: top;\n",
       "    }\n",
       "\n",
       "    .dataframe thead th {\n",
       "        text-align: right;\n",
       "    }\n",
       "</style>\n",
       "<table border=\"1\" class=\"dataframe\">\n",
       "  <thead>\n",
       "    <tr style=\"text-align: right;\">\n",
       "      <th></th>\n",
       "      <th>data_size</th>\n",
       "      <th>method</th>\n",
       "      <th>time</th>\n",
       "      <th>sim</th>\n",
       "    </tr>\n",
       "  </thead>\n",
       "  <tbody>\n",
       "    <tr>\n",
       "      <th>0</th>\n",
       "      <td>100</td>\n",
       "      <td>Pearson (1 core)</td>\n",
       "      <td>0.000177</td>\n",
       "      <td>-0.115117</td>\n",
       "    </tr>\n",
       "    <tr>\n",
       "      <th>1</th>\n",
       "      <td>100</td>\n",
       "      <td>Pearson (1 core)</td>\n",
       "      <td>0.000096</td>\n",
       "      <td>-0.050567</td>\n",
       "    </tr>\n",
       "    <tr>\n",
       "      <th>2</th>\n",
       "      <td>100</td>\n",
       "      <td>Pearson (1 core)</td>\n",
       "      <td>0.000089</td>\n",
       "      <td>0.215785</td>\n",
       "    </tr>\n",
       "    <tr>\n",
       "      <th>3</th>\n",
       "      <td>100</td>\n",
       "      <td>Pearson (1 core)</td>\n",
       "      <td>0.000078</td>\n",
       "      <td>0.020045</td>\n",
       "    </tr>\n",
       "    <tr>\n",
       "      <th>4</th>\n",
       "      <td>100</td>\n",
       "      <td>Pearson (1 core)</td>\n",
       "      <td>0.000075</td>\n",
       "      <td>0.053343</td>\n",
       "    </tr>\n",
       "  </tbody>\n",
       "</table>\n",
       "</div>"
      ],
      "text/plain": [
       "  data_size            method      time       sim\n",
       "0       100  Pearson (1 core)  0.000177 -0.115117\n",
       "1       100  Pearson (1 core)  0.000096 -0.050567\n",
       "2       100  Pearson (1 core)  0.000089  0.215785\n",
       "3       100  Pearson (1 core)  0.000078  0.020045\n",
       "4       100  Pearson (1 core)  0.000075  0.053343"
      ]
     },
     "execution_count": 12,
     "metadata": {},
     "output_type": "execute_result"
    }
   ],
   "source": [
    "time_results.head()"
   ]
  },
  {
   "cell_type": "markdown",
   "id": "8b183907-359e-473a-ac51-cb6c388c2595",
   "metadata": {},
   "source": [
    "# Run numbers"
   ]
  },
  {
   "cell_type": "code",
   "execution_count": 13,
   "id": "3eafa2a7-c008-46b9-9119-a745fe873535",
   "metadata": {},
   "outputs": [],
   "source": [
    "plot_data = time_results"
   ]
  },
  {
   "cell_type": "code",
   "execution_count": 14,
   "id": "e1279b36-295c-45d2-a2f1-0388161c724f",
   "metadata": {},
   "outputs": [
    {
     "data": {
      "text/html": [
       "<div>\n",
       "<style scoped>\n",
       "    .dataframe tbody tr th:only-of-type {\n",
       "        vertical-align: middle;\n",
       "    }\n",
       "\n",
       "    .dataframe tbody tr th {\n",
       "        vertical-align: top;\n",
       "    }\n",
       "\n",
       "    .dataframe thead th {\n",
       "        text-align: right;\n",
       "    }\n",
       "</style>\n",
       "<table border=\"1\" class=\"dataframe\">\n",
       "  <thead>\n",
       "    <tr style=\"text-align: right;\">\n",
       "      <th></th>\n",
       "      <th></th>\n",
       "      <th>count</th>\n",
       "      <th>mean</th>\n",
       "      <th>std</th>\n",
       "      <th>min</th>\n",
       "      <th>25%</th>\n",
       "      <th>50%</th>\n",
       "      <th>75%</th>\n",
       "      <th>max</th>\n",
       "    </tr>\n",
       "    <tr>\n",
       "      <th>data_size</th>\n",
       "      <th>method</th>\n",
       "      <th></th>\n",
       "      <th></th>\n",
       "      <th></th>\n",
       "      <th></th>\n",
       "      <th></th>\n",
       "      <th></th>\n",
       "      <th></th>\n",
       "      <th></th>\n",
       "    </tr>\n",
       "  </thead>\n",
       "  <tbody>\n",
       "    <tr>\n",
       "      <th rowspan=\"6\" valign=\"top\">100</th>\n",
       "      <th>CCC (1 core)</th>\n",
       "      <td>1000.0</td>\n",
       "      <td>0.003231</td>\n",
       "      <td>0.000197</td>\n",
       "      <td>0.002865</td>\n",
       "      <td>0.003123</td>\n",
       "      <td>0.003199</td>\n",
       "      <td>0.003332</td>\n",
       "      <td>0.006627</td>\n",
       "    </tr>\n",
       "    <tr>\n",
       "      <th>CCC (3 cores)</th>\n",
       "      <td>1000.0</td>\n",
       "      <td>0.002883</td>\n",
       "      <td>0.000247</td>\n",
       "      <td>0.002668</td>\n",
       "      <td>0.002787</td>\n",
       "      <td>0.002853</td>\n",
       "      <td>0.002935</td>\n",
       "      <td>0.008305</td>\n",
       "    </tr>\n",
       "    <tr>\n",
       "      <th>MIC (1 core)</th>\n",
       "      <td>1000.0</td>\n",
       "      <td>0.001581</td>\n",
       "      <td>0.000077</td>\n",
       "      <td>0.001359</td>\n",
       "      <td>0.001534</td>\n",
       "      <td>0.001574</td>\n",
       "      <td>0.001622</td>\n",
       "      <td>0.002155</td>\n",
       "    </tr>\n",
       "    <tr>\n",
       "      <th>MICe (1 core)</th>\n",
       "      <td>1000.0</td>\n",
       "      <td>0.001499</td>\n",
       "      <td>0.000066</td>\n",
       "      <td>0.001318</td>\n",
       "      <td>0.001456</td>\n",
       "      <td>0.001495</td>\n",
       "      <td>0.001535</td>\n",
       "      <td>0.001828</td>\n",
       "    </tr>\n",
       "    <tr>\n",
       "      <th>Pearson (1 core)</th>\n",
       "      <td>1000.0</td>\n",
       "      <td>0.000074</td>\n",
       "      <td>0.000011</td>\n",
       "      <td>0.000070</td>\n",
       "      <td>0.000071</td>\n",
       "      <td>0.000072</td>\n",
       "      <td>0.000072</td>\n",
       "      <td>0.000177</td>\n",
       "    </tr>\n",
       "    <tr>\n",
       "      <th>Spearman (1 core)</th>\n",
       "      <td>1000.0</td>\n",
       "      <td>0.000494</td>\n",
       "      <td>0.000032</td>\n",
       "      <td>0.000479</td>\n",
       "      <td>0.000484</td>\n",
       "      <td>0.000486</td>\n",
       "      <td>0.000490</td>\n",
       "      <td>0.001001</td>\n",
       "    </tr>\n",
       "    <tr>\n",
       "      <th rowspan=\"6\" valign=\"top\">500</th>\n",
       "      <th>CCC (1 core)</th>\n",
       "      <td>10.0</td>\n",
       "      <td>0.006589</td>\n",
       "      <td>0.000180</td>\n",
       "      <td>0.006302</td>\n",
       "      <td>0.006444</td>\n",
       "      <td>0.006611</td>\n",
       "      <td>0.006731</td>\n",
       "      <td>0.006809</td>\n",
       "    </tr>\n",
       "    <tr>\n",
       "      <th>CCC (3 cores)</th>\n",
       "      <td>10.0</td>\n",
       "      <td>0.004248</td>\n",
       "      <td>0.000548</td>\n",
       "      <td>0.003514</td>\n",
       "      <td>0.003892</td>\n",
       "      <td>0.004152</td>\n",
       "      <td>0.004506</td>\n",
       "      <td>0.005321</td>\n",
       "    </tr>\n",
       "    <tr>\n",
       "      <th>MIC (1 core)</th>\n",
       "      <td>10.0</td>\n",
       "      <td>0.025197</td>\n",
       "      <td>0.000473</td>\n",
       "      <td>0.024591</td>\n",
       "      <td>0.024858</td>\n",
       "      <td>0.025222</td>\n",
       "      <td>0.025401</td>\n",
       "      <td>0.026221</td>\n",
       "    </tr>\n",
       "    <tr>\n",
       "      <th>MICe (1 core)</th>\n",
       "      <td>10.0</td>\n",
       "      <td>0.020957</td>\n",
       "      <td>0.000297</td>\n",
       "      <td>0.020407</td>\n",
       "      <td>0.020900</td>\n",
       "      <td>0.020943</td>\n",
       "      <td>0.021081</td>\n",
       "      <td>0.021488</td>\n",
       "    </tr>\n",
       "    <tr>\n",
       "      <th>Pearson (1 core)</th>\n",
       "      <td>10.0</td>\n",
       "      <td>0.000086</td>\n",
       "      <td>0.000017</td>\n",
       "      <td>0.000076</td>\n",
       "      <td>0.000077</td>\n",
       "      <td>0.000078</td>\n",
       "      <td>0.000085</td>\n",
       "      <td>0.000127</td>\n",
       "    </tr>\n",
       "    <tr>\n",
       "      <th>Spearman (1 core)</th>\n",
       "      <td>10.0</td>\n",
       "      <td>0.000593</td>\n",
       "      <td>0.000038</td>\n",
       "      <td>0.000574</td>\n",
       "      <td>0.000576</td>\n",
       "      <td>0.000577</td>\n",
       "      <td>0.000583</td>\n",
       "      <td>0.000695</td>\n",
       "    </tr>\n",
       "    <tr>\n",
       "      <th rowspan=\"6\" valign=\"top\">1000</th>\n",
       "      <th>CCC (1 core)</th>\n",
       "      <td>10.0</td>\n",
       "      <td>0.011690</td>\n",
       "      <td>0.000369</td>\n",
       "      <td>0.011288</td>\n",
       "      <td>0.011479</td>\n",
       "      <td>0.011565</td>\n",
       "      <td>0.011774</td>\n",
       "      <td>0.012584</td>\n",
       "    </tr>\n",
       "    <tr>\n",
       "      <th>CCC (3 cores)</th>\n",
       "      <td>10.0</td>\n",
       "      <td>0.005821</td>\n",
       "      <td>0.000453</td>\n",
       "      <td>0.005463</td>\n",
       "      <td>0.005506</td>\n",
       "      <td>0.005704</td>\n",
       "      <td>0.005895</td>\n",
       "      <td>0.006955</td>\n",
       "    </tr>\n",
       "    <tr>\n",
       "      <th>MIC (1 core)</th>\n",
       "      <td>10.0</td>\n",
       "      <td>0.078974</td>\n",
       "      <td>0.000911</td>\n",
       "      <td>0.077212</td>\n",
       "      <td>0.078571</td>\n",
       "      <td>0.078941</td>\n",
       "      <td>0.079466</td>\n",
       "      <td>0.080520</td>\n",
       "    </tr>\n",
       "    <tr>\n",
       "      <th>MICe (1 core)</th>\n",
       "      <td>10.0</td>\n",
       "      <td>0.059360</td>\n",
       "      <td>0.000462</td>\n",
       "      <td>0.058623</td>\n",
       "      <td>0.059135</td>\n",
       "      <td>0.059328</td>\n",
       "      <td>0.059440</td>\n",
       "      <td>0.060416</td>\n",
       "    </tr>\n",
       "    <tr>\n",
       "      <th>Pearson (1 core)</th>\n",
       "      <td>10.0</td>\n",
       "      <td>0.000084</td>\n",
       "      <td>0.000008</td>\n",
       "      <td>0.000080</td>\n",
       "      <td>0.000081</td>\n",
       "      <td>0.000081</td>\n",
       "      <td>0.000082</td>\n",
       "      <td>0.000107</td>\n",
       "    </tr>\n",
       "    <tr>\n",
       "      <th>Spearman (1 core)</th>\n",
       "      <td>10.0</td>\n",
       "      <td>0.000664</td>\n",
       "      <td>0.000020</td>\n",
       "      <td>0.000653</td>\n",
       "      <td>0.000654</td>\n",
       "      <td>0.000656</td>\n",
       "      <td>0.000660</td>\n",
       "      <td>0.000719</td>\n",
       "    </tr>\n",
       "    <tr>\n",
       "      <th rowspan=\"6\" valign=\"top\">5000</th>\n",
       "      <th>CCC (1 core)</th>\n",
       "      <td>10.0</td>\n",
       "      <td>0.048023</td>\n",
       "      <td>0.000837</td>\n",
       "      <td>0.047308</td>\n",
       "      <td>0.047597</td>\n",
       "      <td>0.047845</td>\n",
       "      <td>0.048038</td>\n",
       "      <td>0.050257</td>\n",
       "    </tr>\n",
       "    <tr>\n",
       "      <th>CCC (3 cores)</th>\n",
       "      <td>10.0</td>\n",
       "      <td>0.021543</td>\n",
       "      <td>0.000691</td>\n",
       "      <td>0.020875</td>\n",
       "      <td>0.021093</td>\n",
       "      <td>0.021254</td>\n",
       "      <td>0.021861</td>\n",
       "      <td>0.022931</td>\n",
       "    </tr>\n",
       "    <tr>\n",
       "      <th>MIC (1 core)</th>\n",
       "      <td>10.0</td>\n",
       "      <td>1.124038</td>\n",
       "      <td>0.004541</td>\n",
       "      <td>1.117191</td>\n",
       "      <td>1.120723</td>\n",
       "      <td>1.124427</td>\n",
       "      <td>1.127942</td>\n",
       "      <td>1.130258</td>\n",
       "    </tr>\n",
       "    <tr>\n",
       "      <th>MICe (1 core)</th>\n",
       "      <td>10.0</td>\n",
       "      <td>0.555641</td>\n",
       "      <td>0.001436</td>\n",
       "      <td>0.553521</td>\n",
       "      <td>0.554788</td>\n",
       "      <td>0.555646</td>\n",
       "      <td>0.556917</td>\n",
       "      <td>0.557309</td>\n",
       "    </tr>\n",
       "    <tr>\n",
       "      <th>Pearson (1 core)</th>\n",
       "      <td>10.0</td>\n",
       "      <td>0.000107</td>\n",
       "      <td>0.000008</td>\n",
       "      <td>0.000103</td>\n",
       "      <td>0.000104</td>\n",
       "      <td>0.000104</td>\n",
       "      <td>0.000106</td>\n",
       "      <td>0.000129</td>\n",
       "    </tr>\n",
       "    <tr>\n",
       "      <th>Spearman (1 core)</th>\n",
       "      <td>10.0</td>\n",
       "      <td>0.001300</td>\n",
       "      <td>0.000021</td>\n",
       "      <td>0.001280</td>\n",
       "      <td>0.001285</td>\n",
       "      <td>0.001292</td>\n",
       "      <td>0.001308</td>\n",
       "      <td>0.001350</td>\n",
       "    </tr>\n",
       "    <tr>\n",
       "      <th rowspan=\"6\" valign=\"top\">10000</th>\n",
       "      <th>CCC (1 core)</th>\n",
       "      <td>10.0</td>\n",
       "      <td>0.095480</td>\n",
       "      <td>0.000823</td>\n",
       "      <td>0.094737</td>\n",
       "      <td>0.094917</td>\n",
       "      <td>0.095287</td>\n",
       "      <td>0.095680</td>\n",
       "      <td>0.097494</td>\n",
       "    </tr>\n",
       "    <tr>\n",
       "      <th>CCC (3 cores)</th>\n",
       "      <td>10.0</td>\n",
       "      <td>0.040703</td>\n",
       "      <td>0.000321</td>\n",
       "      <td>0.040158</td>\n",
       "      <td>0.040464</td>\n",
       "      <td>0.040820</td>\n",
       "      <td>0.040832</td>\n",
       "      <td>0.041137</td>\n",
       "    </tr>\n",
       "    <tr>\n",
       "      <th>MIC (1 core)</th>\n",
       "      <td>10.0</td>\n",
       "      <td>5.042935</td>\n",
       "      <td>0.012380</td>\n",
       "      <td>5.014734</td>\n",
       "      <td>5.038231</td>\n",
       "      <td>5.044615</td>\n",
       "      <td>5.051956</td>\n",
       "      <td>5.057371</td>\n",
       "    </tr>\n",
       "    <tr>\n",
       "      <th>MICe (1 core)</th>\n",
       "      <td>10.0</td>\n",
       "      <td>1.395035</td>\n",
       "      <td>0.002338</td>\n",
       "      <td>1.391148</td>\n",
       "      <td>1.393020</td>\n",
       "      <td>1.395672</td>\n",
       "      <td>1.396578</td>\n",
       "      <td>1.398712</td>\n",
       "    </tr>\n",
       "    <tr>\n",
       "      <th>Pearson (1 core)</th>\n",
       "      <td>10.0</td>\n",
       "      <td>0.000134</td>\n",
       "      <td>0.000010</td>\n",
       "      <td>0.000129</td>\n",
       "      <td>0.000130</td>\n",
       "      <td>0.000130</td>\n",
       "      <td>0.000131</td>\n",
       "      <td>0.000163</td>\n",
       "    </tr>\n",
       "    <tr>\n",
       "      <th>Spearman (1 core)</th>\n",
       "      <td>10.0</td>\n",
       "      <td>0.002233</td>\n",
       "      <td>0.000035</td>\n",
       "      <td>0.002184</td>\n",
       "      <td>0.002211</td>\n",
       "      <td>0.002228</td>\n",
       "      <td>0.002251</td>\n",
       "      <td>0.002312</td>\n",
       "    </tr>\n",
       "    <tr>\n",
       "      <th rowspan=\"5\" valign=\"top\">50000</th>\n",
       "      <th>CCC (1 core)</th>\n",
       "      <td>10.0</td>\n",
       "      <td>0.506397</td>\n",
       "      <td>0.002459</td>\n",
       "      <td>0.503453</td>\n",
       "      <td>0.503999</td>\n",
       "      <td>0.506463</td>\n",
       "      <td>0.508790</td>\n",
       "      <td>0.509189</td>\n",
       "    </tr>\n",
       "    <tr>\n",
       "      <th>CCC (3 cores)</th>\n",
       "      <td>10.0</td>\n",
       "      <td>0.211346</td>\n",
       "      <td>0.001107</td>\n",
       "      <td>0.210140</td>\n",
       "      <td>0.210344</td>\n",
       "      <td>0.211115</td>\n",
       "      <td>0.212355</td>\n",
       "      <td>0.212912</td>\n",
       "    </tr>\n",
       "    <tr>\n",
       "      <th>MICe (1 core)</th>\n",
       "      <td>10.0</td>\n",
       "      <td>11.928481</td>\n",
       "      <td>0.035568</td>\n",
       "      <td>11.894316</td>\n",
       "      <td>11.903574</td>\n",
       "      <td>11.914398</td>\n",
       "      <td>11.938105</td>\n",
       "      <td>12.006341</td>\n",
       "    </tr>\n",
       "    <tr>\n",
       "      <th>Pearson (1 core)</th>\n",
       "      <td>10.0</td>\n",
       "      <td>0.000453</td>\n",
       "      <td>0.000228</td>\n",
       "      <td>0.000360</td>\n",
       "      <td>0.000366</td>\n",
       "      <td>0.000369</td>\n",
       "      <td>0.000380</td>\n",
       "      <td>0.001093</td>\n",
       "    </tr>\n",
       "    <tr>\n",
       "      <th>Spearman (1 core)</th>\n",
       "      <td>10.0</td>\n",
       "      <td>0.012361</td>\n",
       "      <td>0.000286</td>\n",
       "      <td>0.011905</td>\n",
       "      <td>0.012130</td>\n",
       "      <td>0.012503</td>\n",
       "      <td>0.012532</td>\n",
       "      <td>0.012727</td>\n",
       "    </tr>\n",
       "    <tr>\n",
       "      <th rowspan=\"4\" valign=\"top\">100000</th>\n",
       "      <th>CCC (1 core)</th>\n",
       "      <td>10.0</td>\n",
       "      <td>1.057679</td>\n",
       "      <td>0.010312</td>\n",
       "      <td>1.049425</td>\n",
       "      <td>1.052281</td>\n",
       "      <td>1.053733</td>\n",
       "      <td>1.059870</td>\n",
       "      <td>1.084872</td>\n",
       "    </tr>\n",
       "    <tr>\n",
       "      <th>CCC (3 cores)</th>\n",
       "      <td>10.0</td>\n",
       "      <td>0.443641</td>\n",
       "      <td>0.005619</td>\n",
       "      <td>0.438929</td>\n",
       "      <td>0.441092</td>\n",
       "      <td>0.442586</td>\n",
       "      <td>0.443746</td>\n",
       "      <td>0.458666</td>\n",
       "    </tr>\n",
       "    <tr>\n",
       "      <th>Pearson (1 core)</th>\n",
       "      <td>10.0</td>\n",
       "      <td>0.000772</td>\n",
       "      <td>0.000186</td>\n",
       "      <td>0.000697</td>\n",
       "      <td>0.000705</td>\n",
       "      <td>0.000707</td>\n",
       "      <td>0.000727</td>\n",
       "      <td>0.001299</td>\n",
       "    </tr>\n",
       "    <tr>\n",
       "      <th>Spearman (1 core)</th>\n",
       "      <td>10.0</td>\n",
       "      <td>0.026782</td>\n",
       "      <td>0.000256</td>\n",
       "      <td>0.026476</td>\n",
       "      <td>0.026599</td>\n",
       "      <td>0.026756</td>\n",
       "      <td>0.026942</td>\n",
       "      <td>0.027284</td>\n",
       "    </tr>\n",
       "    <tr>\n",
       "      <th rowspan=\"4\" valign=\"top\">1000000</th>\n",
       "      <th>CCC (1 core)</th>\n",
       "      <td>10.0</td>\n",
       "      <td>13.264790</td>\n",
       "      <td>0.053575</td>\n",
       "      <td>13.194549</td>\n",
       "      <td>13.223894</td>\n",
       "      <td>13.274605</td>\n",
       "      <td>13.289677</td>\n",
       "      <td>13.368395</td>\n",
       "    </tr>\n",
       "    <tr>\n",
       "      <th>CCC (3 cores)</th>\n",
       "      <td>10.0</td>\n",
       "      <td>6.345232</td>\n",
       "      <td>0.045706</td>\n",
       "      <td>6.274803</td>\n",
       "      <td>6.312320</td>\n",
       "      <td>6.343961</td>\n",
       "      <td>6.377811</td>\n",
       "      <td>6.421771</td>\n",
       "    </tr>\n",
       "    <tr>\n",
       "      <th>Pearson (1 core)</th>\n",
       "      <td>10.0</td>\n",
       "      <td>0.013408</td>\n",
       "      <td>0.000969</td>\n",
       "      <td>0.012498</td>\n",
       "      <td>0.012684</td>\n",
       "      <td>0.012817</td>\n",
       "      <td>0.014312</td>\n",
       "      <td>0.014824</td>\n",
       "    </tr>\n",
       "    <tr>\n",
       "      <th>Spearman (1 core)</th>\n",
       "      <td>10.0</td>\n",
       "      <td>0.379020</td>\n",
       "      <td>0.002932</td>\n",
       "      <td>0.373437</td>\n",
       "      <td>0.377156</td>\n",
       "      <td>0.379475</td>\n",
       "      <td>0.381180</td>\n",
       "      <td>0.382586</td>\n",
       "    </tr>\n",
       "  </tbody>\n",
       "</table>\n",
       "</div>"
      ],
      "text/plain": [
       "                              count       mean       std        min  \\\n",
       "data_size method                                                      \n",
       "100       CCC (1 core)       1000.0   0.003231  0.000197   0.002865   \n",
       "          CCC (3 cores)      1000.0   0.002883  0.000247   0.002668   \n",
       "          MIC (1 core)       1000.0   0.001581  0.000077   0.001359   \n",
       "          MICe (1 core)      1000.0   0.001499  0.000066   0.001318   \n",
       "          Pearson (1 core)   1000.0   0.000074  0.000011   0.000070   \n",
       "          Spearman (1 core)  1000.0   0.000494  0.000032   0.000479   \n",
       "500       CCC (1 core)         10.0   0.006589  0.000180   0.006302   \n",
       "          CCC (3 cores)        10.0   0.004248  0.000548   0.003514   \n",
       "          MIC (1 core)         10.0   0.025197  0.000473   0.024591   \n",
       "          MICe (1 core)        10.0   0.020957  0.000297   0.020407   \n",
       "          Pearson (1 core)     10.0   0.000086  0.000017   0.000076   \n",
       "          Spearman (1 core)    10.0   0.000593  0.000038   0.000574   \n",
       "1000      CCC (1 core)         10.0   0.011690  0.000369   0.011288   \n",
       "          CCC (3 cores)        10.0   0.005821  0.000453   0.005463   \n",
       "          MIC (1 core)         10.0   0.078974  0.000911   0.077212   \n",
       "          MICe (1 core)        10.0   0.059360  0.000462   0.058623   \n",
       "          Pearson (1 core)     10.0   0.000084  0.000008   0.000080   \n",
       "          Spearman (1 core)    10.0   0.000664  0.000020   0.000653   \n",
       "5000      CCC (1 core)         10.0   0.048023  0.000837   0.047308   \n",
       "          CCC (3 cores)        10.0   0.021543  0.000691   0.020875   \n",
       "          MIC (1 core)         10.0   1.124038  0.004541   1.117191   \n",
       "          MICe (1 core)        10.0   0.555641  0.001436   0.553521   \n",
       "          Pearson (1 core)     10.0   0.000107  0.000008   0.000103   \n",
       "          Spearman (1 core)    10.0   0.001300  0.000021   0.001280   \n",
       "10000     CCC (1 core)         10.0   0.095480  0.000823   0.094737   \n",
       "          CCC (3 cores)        10.0   0.040703  0.000321   0.040158   \n",
       "          MIC (1 core)         10.0   5.042935  0.012380   5.014734   \n",
       "          MICe (1 core)        10.0   1.395035  0.002338   1.391148   \n",
       "          Pearson (1 core)     10.0   0.000134  0.000010   0.000129   \n",
       "          Spearman (1 core)    10.0   0.002233  0.000035   0.002184   \n",
       "50000     CCC (1 core)         10.0   0.506397  0.002459   0.503453   \n",
       "          CCC (3 cores)        10.0   0.211346  0.001107   0.210140   \n",
       "          MICe (1 core)        10.0  11.928481  0.035568  11.894316   \n",
       "          Pearson (1 core)     10.0   0.000453  0.000228   0.000360   \n",
       "          Spearman (1 core)    10.0   0.012361  0.000286   0.011905   \n",
       "100000    CCC (1 core)         10.0   1.057679  0.010312   1.049425   \n",
       "          CCC (3 cores)        10.0   0.443641  0.005619   0.438929   \n",
       "          Pearson (1 core)     10.0   0.000772  0.000186   0.000697   \n",
       "          Spearman (1 core)    10.0   0.026782  0.000256   0.026476   \n",
       "1000000   CCC (1 core)         10.0  13.264790  0.053575  13.194549   \n",
       "          CCC (3 cores)        10.0   6.345232  0.045706   6.274803   \n",
       "          Pearson (1 core)     10.0   0.013408  0.000969   0.012498   \n",
       "          Spearman (1 core)    10.0   0.379020  0.002932   0.373437   \n",
       "\n",
       "                                   25%        50%        75%        max  \n",
       "data_size method                                                         \n",
       "100       CCC (1 core)        0.003123   0.003199   0.003332   0.006627  \n",
       "          CCC (3 cores)       0.002787   0.002853   0.002935   0.008305  \n",
       "          MIC (1 core)        0.001534   0.001574   0.001622   0.002155  \n",
       "          MICe (1 core)       0.001456   0.001495   0.001535   0.001828  \n",
       "          Pearson (1 core)    0.000071   0.000072   0.000072   0.000177  \n",
       "          Spearman (1 core)   0.000484   0.000486   0.000490   0.001001  \n",
       "500       CCC (1 core)        0.006444   0.006611   0.006731   0.006809  \n",
       "          CCC (3 cores)       0.003892   0.004152   0.004506   0.005321  \n",
       "          MIC (1 core)        0.024858   0.025222   0.025401   0.026221  \n",
       "          MICe (1 core)       0.020900   0.020943   0.021081   0.021488  \n",
       "          Pearson (1 core)    0.000077   0.000078   0.000085   0.000127  \n",
       "          Spearman (1 core)   0.000576   0.000577   0.000583   0.000695  \n",
       "1000      CCC (1 core)        0.011479   0.011565   0.011774   0.012584  \n",
       "          CCC (3 cores)       0.005506   0.005704   0.005895   0.006955  \n",
       "          MIC (1 core)        0.078571   0.078941   0.079466   0.080520  \n",
       "          MICe (1 core)       0.059135   0.059328   0.059440   0.060416  \n",
       "          Pearson (1 core)    0.000081   0.000081   0.000082   0.000107  \n",
       "          Spearman (1 core)   0.000654   0.000656   0.000660   0.000719  \n",
       "5000      CCC (1 core)        0.047597   0.047845   0.048038   0.050257  \n",
       "          CCC (3 cores)       0.021093   0.021254   0.021861   0.022931  \n",
       "          MIC (1 core)        1.120723   1.124427   1.127942   1.130258  \n",
       "          MICe (1 core)       0.554788   0.555646   0.556917   0.557309  \n",
       "          Pearson (1 core)    0.000104   0.000104   0.000106   0.000129  \n",
       "          Spearman (1 core)   0.001285   0.001292   0.001308   0.001350  \n",
       "10000     CCC (1 core)        0.094917   0.095287   0.095680   0.097494  \n",
       "          CCC (3 cores)       0.040464   0.040820   0.040832   0.041137  \n",
       "          MIC (1 core)        5.038231   5.044615   5.051956   5.057371  \n",
       "          MICe (1 core)       1.393020   1.395672   1.396578   1.398712  \n",
       "          Pearson (1 core)    0.000130   0.000130   0.000131   0.000163  \n",
       "          Spearman (1 core)   0.002211   0.002228   0.002251   0.002312  \n",
       "50000     CCC (1 core)        0.503999   0.506463   0.508790   0.509189  \n",
       "          CCC (3 cores)       0.210344   0.211115   0.212355   0.212912  \n",
       "          MICe (1 core)      11.903574  11.914398  11.938105  12.006341  \n",
       "          Pearson (1 core)    0.000366   0.000369   0.000380   0.001093  \n",
       "          Spearman (1 core)   0.012130   0.012503   0.012532   0.012727  \n",
       "100000    CCC (1 core)        1.052281   1.053733   1.059870   1.084872  \n",
       "          CCC (3 cores)       0.441092   0.442586   0.443746   0.458666  \n",
       "          Pearson (1 core)    0.000705   0.000707   0.000727   0.001299  \n",
       "          Spearman (1 core)   0.026599   0.026756   0.026942   0.027284  \n",
       "1000000   CCC (1 core)       13.223894  13.274605  13.289677  13.368395  \n",
       "          CCC (3 cores)       6.312320   6.343961   6.377811   6.421771  \n",
       "          Pearson (1 core)    0.012684   0.012817   0.014312   0.014824  \n",
       "          Spearman (1 core)   0.377156   0.379475   0.381180   0.382586  "
      ]
     },
     "metadata": {},
     "output_type": "display_data"
    }
   ],
   "source": [
    "run_numbers = (\n",
    "    plot_data[\n",
    "        plot_data[\"method\"].str.contains(\"1 core\", regex=False)\n",
    "        | plot_data[\"method\"].str.contains(\"CCC (3 cores)\", regex=False)\n",
    "    ]\n",
    "    .groupby([\"data_size\", \"method\"])[\"time\"]\n",
    "    .describe()\n",
    ")\n",
    "display(run_numbers)"
   ]
  },
  {
   "cell_type": "markdown",
   "id": "772f2cd8-22b9-4106-93e2-1c8063370356",
   "metadata": {},
   "source": [
    "# Plot"
   ]
  },
  {
   "cell_type": "code",
   "execution_count": 15,
   "id": "3b4ffedd-661b-40da-b323-4d29f38c3b72",
   "metadata": {},
   "outputs": [],
   "source": [
    "hue_order = sorted(time_results[\"method\"].unique())"
   ]
  },
  {
   "cell_type": "code",
   "execution_count": 16,
   "id": "cc263e22-bbc0-4d20-953f-ec6fd0a624b8",
   "metadata": {},
   "outputs": [
    {
     "data": {
      "text/plain": [
       "['CCC (1 core)',\n",
       " 'CCC (3 cores)',\n",
       " 'MIC (1 core)',\n",
       " 'MIC (3 cores)',\n",
       " 'MICe (1 core)',\n",
       " 'MICe (3 cores)',\n",
       " 'Pearson (1 core)',\n",
       " 'Pearson (3 cores)',\n",
       " 'Spearman (1 core)',\n",
       " 'Spearman (3 cores)']"
      ]
     },
     "execution_count": 16,
     "metadata": {},
     "output_type": "execute_result"
    }
   ],
   "source": [
    "hue_order"
   ]
  },
  {
   "cell_type": "code",
   "execution_count": 17,
   "id": "e3c79816-6703-4236-b55a-c6dc38d4d600",
   "metadata": {},
   "outputs": [
    {
     "data": {
      "text/html": [
       "<svg  width=\"550\" height=\"55\"><rect x=\"0\" y=\"0\" width=\"55\" height=\"55\" style=\"fill:#4c72b0;stroke-width:2;stroke:rgb(255,255,255)\"/><rect x=\"55\" y=\"0\" width=\"55\" height=\"55\" style=\"fill:#dd8452;stroke-width:2;stroke:rgb(255,255,255)\"/><rect x=\"110\" y=\"0\" width=\"55\" height=\"55\" style=\"fill:#55a868;stroke-width:2;stroke:rgb(255,255,255)\"/><rect x=\"165\" y=\"0\" width=\"55\" height=\"55\" style=\"fill:#c44e52;stroke-width:2;stroke:rgb(255,255,255)\"/><rect x=\"220\" y=\"0\" width=\"55\" height=\"55\" style=\"fill:#8172b3;stroke-width:2;stroke:rgb(255,255,255)\"/><rect x=\"275\" y=\"0\" width=\"55\" height=\"55\" style=\"fill:#937860;stroke-width:2;stroke:rgb(255,255,255)\"/><rect x=\"330\" y=\"0\" width=\"55\" height=\"55\" style=\"fill:#da8bc3;stroke-width:2;stroke:rgb(255,255,255)\"/><rect x=\"385\" y=\"0\" width=\"55\" height=\"55\" style=\"fill:#8c8c8c;stroke-width:2;stroke:rgb(255,255,255)\"/><rect x=\"440\" y=\"0\" width=\"55\" height=\"55\" style=\"fill:#ccb974;stroke-width:2;stroke:rgb(255,255,255)\"/><rect x=\"495\" y=\"0\" width=\"55\" height=\"55\" style=\"fill:#64b5cd;stroke-width:2;stroke:rgb(255,255,255)\"/></svg>"
      ],
      "text/plain": [
       "[(0.2980392156862745, 0.4470588235294118, 0.6901960784313725),\n",
       " (0.8666666666666667, 0.5176470588235295, 0.3215686274509804),\n",
       " (0.3333333333333333, 0.6588235294117647, 0.40784313725490196),\n",
       " (0.7686274509803922, 0.3058823529411765, 0.3215686274509804),\n",
       " (0.5058823529411764, 0.4470588235294118, 0.7019607843137254),\n",
       " (0.5764705882352941, 0.47058823529411764, 0.3764705882352941),\n",
       " (0.8549019607843137, 0.5450980392156862, 0.7647058823529411),\n",
       " (0.5490196078431373, 0.5490196078431373, 0.5490196078431373),\n",
       " (0.8, 0.7254901960784313, 0.4549019607843137),\n",
       " (0.39215686274509803, 0.7098039215686275, 0.803921568627451)]"
      ]
     },
     "metadata": {},
     "output_type": "display_data"
    }
   ],
   "source": [
    "deep_colors = sns.color_palette(\"deep\")\n",
    "display(deep_colors)"
   ]
  },
  {
   "cell_type": "code",
   "execution_count": 18,
   "id": "59249512-0a19-4868-b5a0-5dc4e271c8af",
   "metadata": {},
   "outputs": [],
   "source": [
    "def format_data_size(x):\n",
    "    if x < 1000:\n",
    "        return f\"{int(x)}\"\n",
    "    elif x < 1000000:\n",
    "        return f\"{int(x/1000)}k\"\n",
    "\n",
    "    return f\"{int(x/1000000)}m\"\n",
    "\n",
    "\n",
    "plot_data = plot_data.assign(data_size=plot_data[\"data_size\"].apply(format_data_size))"
   ]
  },
  {
   "cell_type": "markdown",
   "id": "c581b4df-26fe-43e2-ba23-3595534c7ea2",
   "metadata": {},
   "source": [
    "## First analysis"
   ]
  },
  {
   "cell_type": "markdown",
   "id": "5fcb16ca-07a6-41b9-aa18-f22b84194e71",
   "metadata": {},
   "source": [
    "Here I take a look if using more than 1 core benefits methods."
   ]
  },
  {
   "cell_type": "code",
   "execution_count": 19,
   "id": "09151d37-4dd2-4c1f-ab4a-94b4d3e79018",
   "metadata": {},
   "outputs": [
    {
     "data": {
      "image/png": "[encoded data removed]",
      "text/plain": [
       "<Figure size 682.395x360 with 1 Axes>"
      ]
     },
     "metadata": {
      "needs_background": "light"
     },
     "output_type": "display_data"
    }
   ],
   "source": [
    "with sns.plotting_context(\"paper\", font_scale=1.5):\n",
    "    g = sns.catplot(\n",
    "        kind=\"point\",\n",
    "        data=plot_data,\n",
    "        x=\"data_size\",\n",
    "        y=\"time\",\n",
    "        hue=\"method\",\n",
    "        hue_order=hue_order,\n",
    "        palette=deep_colors,\n",
    "        height=5,\n",
    "        aspect=1.4,\n",
    "    )\n",
    "\n",
    "    plt.xlabel(\"Number of measured objects\")\n",
    "    plt.ylabel(\"Time (seconds)\")"
   ]
  },
  {
   "cell_type": "code",
   "execution_count": 20,
   "id": "c651024b-eb30-4d50-b71c-8eaa17704acd",
   "metadata": {},
   "outputs": [
    {
     "data": {
      "image/png": "[encoded data removed]",
      "text/plain": [
       "<Figure size 682.395x360 with 1 Axes>"
      ]
     },
     "metadata": {
      "needs_background": "light"
     },
     "output_type": "display_data"
    }
   ],
   "source": [
    "with sns.plotting_context(\"paper\", font_scale=1.5):\n",
    "    g = sns.catplot(\n",
    "        kind=\"point\",\n",
    "        data=plot_data,\n",
    "        x=\"data_size\",\n",
    "        y=\"time\",\n",
    "        hue=\"method\",\n",
    "        hue_order=hue_order,\n",
    "        palette=deep_colors,\n",
    "        height=5,\n",
    "        aspect=1.4,\n",
    "    )\n",
    "\n",
    "    plt.xlabel(\"Number of measured objects\")\n",
    "    plt.ylabel(\"Time (seconds) in log scale\")\n",
    "\n",
    "    g.ax.set_yscale(\"log\")"
   ]
  },
  {
   "cell_type": "markdown",
   "id": "d526030a-11a3-4084-bcc3-cd268d2b0599",
   "metadata": {},
   "source": [
    "Only CCC is really taking advantage of more than 1 core, so I'll remove the rest below."
   ]
  },
  {
   "cell_type": "markdown",
   "id": "610e0cef-d404-4db2-9e88-f26451e0dd87",
   "metadata": {},
   "source": [
    "# Final analysis"
   ]
  },
  {
   "cell_type": "code",
   "execution_count": 21,
   "id": "f7b788fe-666d-43ee-92d9-358c8451ada4",
   "metadata": {},
   "outputs": [],
   "source": [
    "# select runs with 3 cores for the other methods\n",
    "plot_data = plot_data.replace(\n",
    "    {\n",
    "        \"method\": {\n",
    "            \"Pearson (3 cores)\": \"Pearson\",\n",
    "            \"Spearman (3 cores)\": \"Spearman\",\n",
    "            \"MIC (3 cores)\": \"MIC\",\n",
    "            \"MICe (3 cores)\": r\"$\\mathregular{MIC_e}$\",\n",
    "        }\n",
    "    }\n",
    ")"
   ]
  },
  {
   "cell_type": "code",
   "execution_count": 22,
   "id": "c0c8b101-25bb-4891-8a6a-f6d50870f13c",
   "metadata": {},
   "outputs": [
    {
     "data": {
      "text/plain": [
       "array(['Pearson (1 core)', 'Spearman (1 core)', 'CCC (1 core)',\n",
       "       'MICe (1 core)', 'MIC (1 core)', 'Pearson', 'Spearman',\n",
       "       'CCC (3 cores)', '$\\\\mathregular{MIC_e}$', 'MIC'], dtype=object)"
      ]
     },
     "execution_count": 22,
     "metadata": {},
     "output_type": "execute_result"
    }
   ],
   "source": [
    "plot_data[\"method\"].unique()"
   ]
  },
  {
   "cell_type": "code",
   "execution_count": 23,
   "id": "10d6b353-a3a8-4d69-9695-2e5a9311be86",
   "metadata": {},
   "outputs": [],
   "source": [
    "hue_order = [\n",
    "    \"MIC\",\n",
    "    r\"$\\mathregular{MIC_e}$\",\n",
    "    \"CCC (1 core)\",\n",
    "    \"CCC (3 cores)\",\n",
    "    \"Spearman\",\n",
    "    \"Pearson\",\n",
    "]"
   ]
  },
  {
   "cell_type": "code",
   "execution_count": 24,
   "id": "35488a38-3d38-48a0-8039-3cb0605e4fe1",
   "metadata": {},
   "outputs": [
    {
     "data": {
      "image/png": "[encoded data removed]",
      "text/plain": [
       "<Figure size 396x360 with 1 Axes>"
      ]
     },
     "metadata": {
      "needs_background": "light"
     },
     "output_type": "display_data"
    }
   ],
   "source": [
    "with sns.plotting_context(\"paper\", font_scale=1.5):\n",
    "    g = sns.catplot(\n",
    "        kind=\"point\",\n",
    "        data=plot_data,\n",
    "        x=\"data_size\",\n",
    "        y=\"time\",\n",
    "        hue=\"method\",\n",
    "        hue_order=hue_order,\n",
    "        palette=deep_colors,\n",
    "        height=5,\n",
    "        aspect=1.1,\n",
    "        legend=False,\n",
    "    )\n",
    "\n",
    "    plt.legend(loc=\"best\")\n",
    "    plt.xlabel(\"Number of measured objects\")\n",
    "    plt.ylabel(\"Time (seconds)\")\n",
    "\n",
    "    plt.savefig(\n",
    "        OUTPUT_FIGURE_DIR / f\"{INPUT_FILENAME_TEMPLATE}.svg\",\n",
    "        bbox_inches=\"tight\",\n",
    "        facecolor=\"white\",\n",
    "    )"
   ]
  },
  {
   "cell_type": "code",
   "execution_count": 25,
   "id": "f6f35635-3125-41ff-9e16-1b6b78314d20",
   "metadata": {},
   "outputs": [
    {
     "data": {
      "image/png": "[encoded data removed]",
      "text/plain": [
       "<Figure size 396x360 with 1 Axes>"
      ]
     },
     "metadata": {
      "needs_background": "light"
     },
     "output_type": "display_data"
    }
   ],
   "source": [
    "with sns.plotting_context(\"paper\", font_scale=1.5):\n",
    "    g = sns.catplot(\n",
    "        kind=\"point\",\n",
    "        data=plot_data,\n",
    "        x=\"data_size\",\n",
    "        y=\"time\",\n",
    "        hue=\"method\",\n",
    "        hue_order=hue_order,\n",
    "        palette=deep_colors,\n",
    "        height=5,\n",
    "        aspect=1.1,\n",
    "        legend=False,\n",
    "    )\n",
    "\n",
    "    plt.xlabel(\"Number of measured objects\")\n",
    "    plt.ylabel(\"Time (seconds) in log scale\")\n",
    "    g.ax.set_yscale(\"log\")\n",
    "\n",
    "    plt.savefig(\n",
    "        OUTPUT_FIGURE_DIR / f\"{INPUT_FILENAME_TEMPLATE}-log.svg\",\n",
    "        bbox_inches=\"tight\",\n",
    "        facecolor=\"white\",\n",
    "    )"
   ]
  },
  {
   "cell_type": "markdown",
   "id": "7725ab7d-0cfd-41d2-a537-8e96e09cfcf5",
   "metadata": {
    "papermill": {
     "duration": 0.114019,
     "end_time": "2021-12-21T20:27:03.073018",
     "exception": false,
     "start_time": "2021-12-21T20:27:02.958999",
     "status": "completed"
    },
    "tags": []
   },
   "source": [
    "# Create final figure"
   ]
  },
  {
   "cell_type": "code",
   "execution_count": 26,
   "id": "80f45a4f-c990-4204-96dc-cab0e5c6b416",
   "metadata": {},
   "outputs": [],
   "source": [
    "from svgutils.compose import Figure, SVG"
   ]
  },
  {
   "cell_type": "code",
   "execution_count": 27,
   "id": "b828ba84-8ffc-419c-bc03-d993c8c76623",
   "metadata": {},
   "outputs": [],
   "source": [
    "Figure(\n",
    "    \"396.75125cm\",\n",
    "    \"170.93350cm\",\n",
    "    SVG(OUTPUT_FIGURE_DIR / \"time_test.svg\").scale(0.5),\n",
    "    SVG(OUTPUT_FIGURE_DIR / \"time_test-log.svg\").scale(0.5).move(200, 0),\n",
    ").save(OUTPUT_FIGURE_DIR / \"time_test-main.svg\")"
   ]
  },
  {
   "cell_type": "markdown",
   "id": "4a263aab-e38f-485a-92d0-f099b2dafc9d",
   "metadata": {},
   "source": [
    "**Now open the file**, reside to fit drawing to page, and add a white rectangle to the background."
   ]
  },
  {
   "cell_type": "code",
   "execution_count": null,
   "id": "4dd9bb5d-3376-4c74-8d04-5999db50509f",
   "metadata": {},
   "outputs": [],
   "source": []
  }
 ],
 "metadata": {
  "jupytext": {
   "cell_metadata_filter": "all,-execution,-papermill,-trusted",
   "text_representation": {
    "extension": ".py",
    "format_name": "percent",
    "format_version": "1.3",
    "jupytext_version": "1.11.5"
   }
  },
  "kernelspec": {
   "display_name": "Python 3 (ipykernel)",
   "language": "python",
   "name": "python3"
  },
  "language_info": {
   "codemirror_mode": {
    "name": "ipython",
    "version": 3
   },
   "file_extension": ".py",
   "mimetype": "text/x-python",
   "name": "python",
   "nbconvert_exporter": "python",
   "pygments_lexer": "ipython3",
   "version": "3.9.12"
  },
  "papermill": {
   "default_parameters": {},
   "duration": 106.874189,
   "end_time": "2022-01-28T21:08:16.453452",
   "environment_variables": {},
   "exception": null,
   "input_path": "nbs/20_comparison_others/50-combine_all.ipynb",
   "output_path": "nbs/20_comparison_others/50-combine_all.run.ipynb",
   "parameters": {
    "GTEX_TISSUE": "skin_sun_exposed_lower_leg"
   },
   "start_time": "2022-01-28T21:06:29.579263",
   "version": "2.3.3"
  }
 },
 "nbformat": 4,
 "nbformat_minor": 5
}
