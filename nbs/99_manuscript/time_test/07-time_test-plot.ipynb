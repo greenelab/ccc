{
 "cells": [
  {
   "cell_type": "markdown",
   "id": "c1948eb4-fb63-4fad-8243-bcd57b98def3",
   "metadata": {
    "papermill": {
     "duration": 0.002667,
     "end_time": "2023-09-11T17:28:47.611522",
     "exception": false,
     "start_time": "2023-09-11T17:28:47.608855",
     "status": "completed"
    },
    "tags": []
   },
   "source": [
    "# Description"
   ]
  },
  {
   "cell_type": "markdown",
   "id": "0abb1d73-c786-4c6d-9dc2-b9243e5183e2",
   "metadata": {
    "papermill": {
     "duration": 0.002749,
     "end_time": "2023-09-11T17:28:47.623973",
     "exception": false,
     "start_time": "2023-09-11T17:28:47.621224",
     "status": "completed"
    },
    "tags": []
   },
   "source": [
    "Make plots to show the computational complexity results comparing all coefficients."
   ]
  },
  {
   "cell_type": "markdown",
   "id": "d6252b4c-6d56-4cf0-aecd-5d8c769a3609",
   "metadata": {
    "papermill": {
     "duration": 0.002018,
     "end_time": "2023-09-11T17:28:47.628096",
     "exception": false,
     "start_time": "2023-09-11T17:28:47.626078",
     "status": "completed"
    },
    "tags": []
   },
   "source": [
    "# Modules loading"
   ]
  },
  {
   "cell_type": "code",
   "execution_count": 1,
   "id": "77e9d29d-5307-4b4a-b103-7d1fbd6a7e56",
   "metadata": {
    "execution": {
     "iopub.execute_input": "2023-09-11T17:28:47.633096Z",
     "iopub.status.busy": "2023-09-11T17:28:47.632952Z",
     "iopub.status.idle": "2023-09-11T17:28:47.922592Z",
     "shell.execute_reply": "2023-09-11T17:28:47.922305Z"
    },
    "papermill": {
     "duration": 0.293162,
     "end_time": "2023-09-11T17:28:47.923526",
     "exception": false,
     "start_time": "2023-09-11T17:28:47.630364",
     "status": "completed"
    },
    "tags": []
   },
   "outputs": [],
   "source": [
    "import pandas as pd\n",
    "import matplotlib.pyplot as plt\n",
    "import seaborn as sns\n",
    "\n",
    "from ccc import conf"
   ]
  },
  {
   "cell_type": "markdown",
   "id": "262eb535-3e5d-43d7-9efd-bd6cfdac9190",
   "metadata": {
    "papermill": {
     "duration": 0.009575,
     "end_time": "2023-09-11T17:28:47.935439",
     "exception": false,
     "start_time": "2023-09-11T17:28:47.925864",
     "status": "completed"
    },
    "tags": []
   },
   "source": [
    "# Settings"
   ]
  },
  {
   "cell_type": "code",
   "execution_count": 2,
   "id": "6efda92a-579a-49e2-893f-ec3a40db8a26",
   "metadata": {
    "execution": {
     "iopub.execute_input": "2023-09-11T17:28:47.943142Z",
     "iopub.status.busy": "2023-09-11T17:28:47.943034Z",
     "iopub.status.idle": "2023-09-11T17:28:47.945063Z",
     "shell.execute_reply": "2023-09-11T17:28:47.944849Z"
    },
    "papermill": {
     "duration": 0.007434,
     "end_time": "2023-09-11T17:28:47.945801",
     "exception": false,
     "start_time": "2023-09-11T17:28:47.938367",
     "status": "completed"
    },
    "tags": []
   },
   "outputs": [],
   "source": [
    "INPUT_FILENAME_TEMPLATE = \"time_test\""
   ]
  },
  {
   "cell_type": "markdown",
   "id": "eec9bb6d-4ba2-4817-9b36-bc8e68a2beae",
   "metadata": {
    "papermill": {
     "duration": 0.003673,
     "end_time": "2023-09-11T17:28:47.953340",
     "exception": false,
     "start_time": "2023-09-11T17:28:47.949667",
     "status": "completed"
    },
    "tags": []
   },
   "source": [
    "# Paths"
   ]
  },
  {
   "cell_type": "code",
   "execution_count": 3,
   "id": "413010af-a3b0-45a0-adb8-8559c06d228c",
   "metadata": {
    "execution": {
     "iopub.execute_input": "2023-09-11T17:28:47.961094Z",
     "iopub.status.busy": "2023-09-11T17:28:47.960975Z",
     "iopub.status.idle": "2023-09-11T17:28:47.962390Z",
     "shell.execute_reply": "2023-09-11T17:28:47.962235Z"
    },
    "papermill": {
     "duration": 0.006274,
     "end_time": "2023-09-11T17:28:47.963301",
     "exception": false,
     "start_time": "2023-09-11T17:28:47.957027",
     "status": "completed"
    },
    "tags": []
   },
   "outputs": [],
   "source": [
    "assert (\n",
    "    conf.MANUSCRIPT[\"BASE_DIR\"] is not None and conf.MANUSCRIPT[\"BASE_DIR\"].exists()\n",
    "), \"Manuscript dir not set\""
   ]
  },
  {
   "cell_type": "code",
   "execution_count": 4,
   "id": "456e7f20-5950-4cbf-8652-cf6e37fb6231",
   "metadata": {
    "execution": {
     "iopub.execute_input": "2023-09-11T17:28:47.971181Z",
     "iopub.status.busy": "2023-09-11T17:28:47.971083Z",
     "iopub.status.idle": "2023-09-11T17:28:47.973273Z",
     "shell.execute_reply": "2023-09-11T17:28:47.973149Z"
    },
    "papermill": {
     "duration": 0.007404,
     "end_time": "2023-09-11T17:28:47.974561",
     "exception": false,
     "start_time": "2023-09-11T17:28:47.967157",
     "status": "completed"
    },
    "tags": []
   },
   "outputs": [
    {
     "data": {
      "text/plain": [
       "PosixPath('/opt/manuscript/content/images/coefs_comp')"
      ]
     },
     "metadata": {},
     "output_type": "display_data"
    }
   ],
   "source": [
    "COEF_COMP_DIR = conf.MANUSCRIPT[\"FIGURES_DIR\"] / \"coefs_comp\"\n",
    "COEF_COMP_DIR.mkdir(parents=True, exist_ok=True)\n",
    "display(COEF_COMP_DIR)"
   ]
  },
  {
   "cell_type": "code",
   "execution_count": 5,
   "id": "2404761b-2931-4394-914e-e2cae9990d5c",
   "metadata": {
    "execution": {
     "iopub.execute_input": "2023-09-11T17:28:47.982575Z",
     "iopub.status.busy": "2023-09-11T17:28:47.982490Z",
     "iopub.status.idle": "2023-09-11T17:28:47.984059Z",
     "shell.execute_reply": "2023-09-11T17:28:47.983938Z"
    },
    "papermill": {
     "duration": 0.006345,
     "end_time": "2023-09-11T17:28:47.984767",
     "exception": false,
     "start_time": "2023-09-11T17:28:47.978422",
     "status": "completed"
    },
    "tags": []
   },
   "outputs": [
    {
     "data": {
      "text/plain": [
       "PosixPath('/opt/manuscript/content/images/coefs_comp/time_test')"
      ]
     },
     "metadata": {},
     "output_type": "display_data"
    }
   ],
   "source": [
    "OUTPUT_FIGURE_DIR = COEF_COMP_DIR / \"time_test\"\n",
    "OUTPUT_FIGURE_DIR.mkdir(parents=True, exist_ok=True)\n",
    "display(OUTPUT_FIGURE_DIR)"
   ]
  },
  {
   "cell_type": "code",
   "execution_count": 6,
   "id": "0b5ba2a4-54a7-4853-b804-cd2e5c476466",
   "metadata": {
    "execution": {
     "iopub.execute_input": "2023-09-11T17:28:47.990019Z",
     "iopub.status.busy": "2023-09-11T17:28:47.989937Z",
     "iopub.status.idle": "2023-09-11T17:28:47.991402Z",
     "shell.execute_reply": "2023-09-11T17:28:47.991280Z"
    },
    "papermill": {
     "duration": 0.004296,
     "end_time": "2023-09-11T17:28:47.991836",
     "exception": false,
     "start_time": "2023-09-11T17:28:47.987540",
     "status": "completed"
    },
    "tags": []
   },
   "outputs": [
    {
     "data": {
      "text/plain": [
       "PosixPath('/opt/data/results/time_test')"
      ]
     },
     "metadata": {},
     "output_type": "display_data"
    }
   ],
   "source": [
    "INPUT_DIR = conf.RESULTS_DIR / \"time_test\"\n",
    "display(INPUT_DIR)"
   ]
  },
  {
   "cell_type": "markdown",
   "id": "5b6ca2cf-6d86-48d8-aa42-5beaf6e0932b",
   "metadata": {
    "papermill": {
     "duration": 0.002032,
     "end_time": "2023-09-11T17:28:47.995940",
     "exception": false,
     "start_time": "2023-09-11T17:28:47.993908",
     "status": "completed"
    },
    "tags": []
   },
   "source": [
    "# Load results"
   ]
  },
  {
   "cell_type": "code",
   "execution_count": 7,
   "id": "d98986f3-badc-4760-8eed-e24b00ce2696",
   "metadata": {
    "execution": {
     "iopub.execute_input": "2023-09-11T17:28:48.000489Z",
     "iopub.status.busy": "2023-09-11T17:28:48.000399Z",
     "iopub.status.idle": "2023-09-11T17:28:48.002568Z",
     "shell.execute_reply": "2023-09-11T17:28:48.002431Z"
    },
    "papermill": {
     "duration": 0.005,
     "end_time": "2023-09-11T17:28:48.003001",
     "exception": false,
     "start_time": "2023-09-11T17:28:47.998001",
     "status": "completed"
    },
    "tags": []
   },
   "outputs": [],
   "source": [
    "time_results = pd.read_pickle(INPUT_DIR / f\"{INPUT_FILENAME_TEMPLATE}.pkl\")"
   ]
  },
  {
   "cell_type": "code",
   "execution_count": 8,
   "id": "69511566-f1cd-4d19-ab2d-48d64b1e5055",
   "metadata": {
    "execution": {
     "iopub.execute_input": "2023-09-11T17:28:48.007528Z",
     "iopub.status.busy": "2023-09-11T17:28:48.007438Z",
     "iopub.status.idle": "2023-09-11T17:28:48.008989Z",
     "shell.execute_reply": "2023-09-11T17:28:48.008859Z"
    },
    "papermill": {
     "duration": 0.004358,
     "end_time": "2023-09-11T17:28:48.009461",
     "exception": false,
     "start_time": "2023-09-11T17:28:48.005103",
     "status": "completed"
    },
    "tags": []
   },
   "outputs": [
    {
     "data": {
      "text/plain": [
       "(15990, 4)"
      ]
     },
     "execution_count": 8,
     "metadata": {},
     "output_type": "execute_result"
    }
   ],
   "source": [
    "time_results.shape"
   ]
  },
  {
   "cell_type": "code",
   "execution_count": 9,
   "id": "6fc64cc3-264e-49a7-bbf9-af255e151118",
   "metadata": {
    "execution": {
     "iopub.execute_input": "2023-09-11T17:28:48.014027Z",
     "iopub.status.busy": "2023-09-11T17:28:48.013932Z",
     "iopub.status.idle": "2023-09-11T17:28:48.017477Z",
     "shell.execute_reply": "2023-09-11T17:28:48.017346Z"
    },
    "papermill": {
     "duration": 0.006314,
     "end_time": "2023-09-11T17:28:48.017882",
     "exception": false,
     "start_time": "2023-09-11T17:28:48.011568",
     "status": "completed"
    },
    "tags": []
   },
   "outputs": [
    {
     "data": {
      "text/html": [
       "<div>\n",
       "<style scoped>\n",
       "    .dataframe tbody tr th:only-of-type {\n",
       "        vertical-align: middle;\n",
       "    }\n",
       "\n",
       "    .dataframe tbody tr th {\n",
       "        vertical-align: top;\n",
       "    }\n",
       "\n",
       "    .dataframe thead th {\n",
       "        text-align: right;\n",
       "    }\n",
       "</style>\n",
       "<table border=\"1\" class=\"dataframe\">\n",
       "  <thead>\n",
       "    <tr style=\"text-align: right;\">\n",
       "      <th></th>\n",
       "      <th>data_size</th>\n",
       "      <th>method</th>\n",
       "      <th>time</th>\n",
       "      <th>sim</th>\n",
       "    </tr>\n",
       "  </thead>\n",
       "  <tbody>\n",
       "    <tr>\n",
       "      <th>0</th>\n",
       "      <td>100</td>\n",
       "      <td>p-1</td>\n",
       "      <td>0.000096</td>\n",
       "      <td>-0.014058</td>\n",
       "    </tr>\n",
       "    <tr>\n",
       "      <th>1</th>\n",
       "      <td>100</td>\n",
       "      <td>p-1</td>\n",
       "      <td>0.000038</td>\n",
       "      <td>-0.019761</td>\n",
       "    </tr>\n",
       "    <tr>\n",
       "      <th>2</th>\n",
       "      <td>100</td>\n",
       "      <td>p-1</td>\n",
       "      <td>0.000041</td>\n",
       "      <td>-0.274154</td>\n",
       "    </tr>\n",
       "    <tr>\n",
       "      <th>3</th>\n",
       "      <td>100</td>\n",
       "      <td>p-1</td>\n",
       "      <td>0.000034</td>\n",
       "      <td>-0.071098</td>\n",
       "    </tr>\n",
       "    <tr>\n",
       "      <th>4</th>\n",
       "      <td>100</td>\n",
       "      <td>p-1</td>\n",
       "      <td>0.000032</td>\n",
       "      <td>0.016989</td>\n",
       "    </tr>\n",
       "  </tbody>\n",
       "</table>\n",
       "</div>"
      ],
      "text/plain": [
       "  data_size method      time       sim\n",
       "0       100    p-1  0.000096 -0.014058\n",
       "1       100    p-1  0.000038 -0.019761\n",
       "2       100    p-1  0.000041 -0.274154\n",
       "3       100    p-1  0.000034 -0.071098\n",
       "4       100    p-1  0.000032  0.016989"
      ]
     },
     "execution_count": 9,
     "metadata": {},
     "output_type": "execute_result"
    }
   ],
   "source": [
    "time_results.head()"
   ]
  },
  {
   "cell_type": "code",
   "execution_count": 10,
   "id": "511fbab5-e6a0-47a0-8ab6-329f65719a83",
   "metadata": {
    "execution": {
     "iopub.execute_input": "2023-09-11T17:28:48.022543Z",
     "iopub.status.busy": "2023-09-11T17:28:48.022436Z",
     "iopub.status.idle": "2023-09-11T17:28:48.024428Z",
     "shell.execute_reply": "2023-09-11T17:28:48.024302Z"
    },
    "papermill": {
     "duration": 0.004826,
     "end_time": "2023-09-11T17:28:48.024865",
     "exception": false,
     "start_time": "2023-09-11T17:28:48.020039",
     "status": "completed"
    },
    "tags": []
   },
   "outputs": [
    {
     "data": {
      "text/plain": [
       "array(['p-1', 's-1', 'cm-1', 'mic_e-1', 'mic-1', 'p-3', 's-3', 'cm-3',\n",
       "       'mic_e-3', 'mic-3', 'p-6', 's-6', 'cm-6', 'mic_e-6', 'mic-6'],\n",
       "      dtype=object)"
      ]
     },
     "execution_count": 10,
     "metadata": {},
     "output_type": "execute_result"
    }
   ],
   "source": [
    "time_results[\"method\"].unique()"
   ]
  },
  {
   "cell_type": "markdown",
   "id": "c2fdf161-71ea-4943-96af-a13612e11736",
   "metadata": {
    "papermill": {
     "duration": 0.002187,
     "end_time": "2023-09-11T17:28:48.029281",
     "exception": false,
     "start_time": "2023-09-11T17:28:48.027094",
     "status": "completed"
    },
    "tags": []
   },
   "source": [
    "# Processing"
   ]
  },
  {
   "cell_type": "code",
   "execution_count": 11,
   "id": "81703394-a7f1-48d6-974a-b987b4dd4c4d",
   "metadata": {
    "execution": {
     "iopub.execute_input": "2023-09-11T17:28:48.034069Z",
     "iopub.status.busy": "2023-09-11T17:28:48.033934Z",
     "iopub.status.idle": "2023-09-11T17:28:48.038341Z",
     "shell.execute_reply": "2023-09-11T17:28:48.038200Z"
    },
    "papermill": {
     "duration": 0.007482,
     "end_time": "2023-09-11T17:28:48.038931",
     "exception": false,
     "start_time": "2023-09-11T17:28:48.031449",
     "status": "completed"
    },
    "tags": []
   },
   "outputs": [],
   "source": [
    "time_results = time_results.replace(\n",
    "    {\n",
    "        \"method\": {\n",
    "            \"p-1\": \"Pearson (1 core)\",\n",
    "            \"s-1\": \"Spearman (1 core)\",\n",
    "            \"cm-1\": \"CCC (1 core)\",\n",
    "            \"mic-1\": \"MIC (1 core)\",\n",
    "            \"mic_e-1\": \"MICe (1 core)\",\n",
    "            \"p-3\": \"Pearson (3 cores)\",\n",
    "            \"s-3\": \"Spearman (3 cores)\",\n",
    "            \"cm-3\": \"CCC (3 cores)\",\n",
    "            \"mic-3\": \"MIC (3 cores)\",\n",
    "            \"mic_e-3\": \"MICe (3 cores)\",\n",
    "            \"p-6\": \"Pearson (6 cores)\",\n",
    "            \"s-6\": \"Spearman (6 cores)\",\n",
    "            \"cm-6\": \"CCC (6 cores)\",\n",
    "            \"mic-6\": \"MIC (6 cores)\",\n",
    "            \"mic_e-6\": \"MICe (6 cores)\",\n",
    "        }\n",
    "    }\n",
    ")"
   ]
  },
  {
   "cell_type": "code",
   "execution_count": 12,
   "id": "e8b96624-7b6c-4ce7-a1c7-d8f2cabab649",
   "metadata": {
    "execution": {
     "iopub.execute_input": "2023-09-11T17:28:48.043670Z",
     "iopub.status.busy": "2023-09-11T17:28:48.043579Z",
     "iopub.status.idle": "2023-09-11T17:28:48.045007Z",
     "shell.execute_reply": "2023-09-11T17:28:48.044885Z"
    },
    "papermill": {
     "duration": 0.004309,
     "end_time": "2023-09-11T17:28:48.045458",
     "exception": false,
     "start_time": "2023-09-11T17:28:48.041149",
     "status": "completed"
    },
    "tags": []
   },
   "outputs": [
    {
     "data": {
      "text/plain": [
       "(15990, 4)"
      ]
     },
     "execution_count": 12,
     "metadata": {},
     "output_type": "execute_result"
    }
   ],
   "source": [
    "time_results.shape"
   ]
  },
  {
   "cell_type": "code",
   "execution_count": 13,
   "id": "6d49c62c-1fcb-4caa-b1f4-e7a224bd3c9b",
   "metadata": {
    "execution": {
     "iopub.execute_input": "2023-09-11T17:28:48.062131Z",
     "iopub.status.busy": "2023-09-11T17:28:48.062030Z",
     "iopub.status.idle": "2023-09-11T17:28:48.065462Z",
     "shell.execute_reply": "2023-09-11T17:28:48.065325Z"
    },
    "papermill": {
     "duration": 0.018272,
     "end_time": "2023-09-11T17:28:48.065905",
     "exception": false,
     "start_time": "2023-09-11T17:28:48.047633",
     "status": "completed"
    },
    "tags": []
   },
   "outputs": [
    {
     "data": {
      "text/html": [
       "<div>\n",
       "<style scoped>\n",
       "    .dataframe tbody tr th:only-of-type {\n",
       "        vertical-align: middle;\n",
       "    }\n",
       "\n",
       "    .dataframe tbody tr th {\n",
       "        vertical-align: top;\n",
       "    }\n",
       "\n",
       "    .dataframe thead th {\n",
       "        text-align: right;\n",
       "    }\n",
       "</style>\n",
       "<table border=\"1\" class=\"dataframe\">\n",
       "  <thead>\n",
       "    <tr style=\"text-align: right;\">\n",
       "      <th></th>\n",
       "      <th>data_size</th>\n",
       "      <th>method</th>\n",
       "      <th>time</th>\n",
       "      <th>sim</th>\n",
       "    </tr>\n",
       "  </thead>\n",
       "  <tbody>\n",
       "    <tr>\n",
       "      <th>0</th>\n",
       "      <td>100</td>\n",
       "      <td>Pearson (1 core)</td>\n",
       "      <td>0.000096</td>\n",
       "      <td>-0.014058</td>\n",
       "    </tr>\n",
       "    <tr>\n",
       "      <th>1</th>\n",
       "      <td>100</td>\n",
       "      <td>Pearson (1 core)</td>\n",
       "      <td>0.000038</td>\n",
       "      <td>-0.019761</td>\n",
       "    </tr>\n",
       "    <tr>\n",
       "      <th>2</th>\n",
       "      <td>100</td>\n",
       "      <td>Pearson (1 core)</td>\n",
       "      <td>0.000041</td>\n",
       "      <td>-0.274154</td>\n",
       "    </tr>\n",
       "    <tr>\n",
       "      <th>3</th>\n",
       "      <td>100</td>\n",
       "      <td>Pearson (1 core)</td>\n",
       "      <td>0.000034</td>\n",
       "      <td>-0.071098</td>\n",
       "    </tr>\n",
       "    <tr>\n",
       "      <th>4</th>\n",
       "      <td>100</td>\n",
       "      <td>Pearson (1 core)</td>\n",
       "      <td>0.000032</td>\n",
       "      <td>0.016989</td>\n",
       "    </tr>\n",
       "  </tbody>\n",
       "</table>\n",
       "</div>"
      ],
      "text/plain": [
       "  data_size            method      time       sim\n",
       "0       100  Pearson (1 core)  0.000096 -0.014058\n",
       "1       100  Pearson (1 core)  0.000038 -0.019761\n",
       "2       100  Pearson (1 core)  0.000041 -0.274154\n",
       "3       100  Pearson (1 core)  0.000034 -0.071098\n",
       "4       100  Pearson (1 core)  0.000032  0.016989"
      ]
     },
     "execution_count": 13,
     "metadata": {},
     "output_type": "execute_result"
    }
   ],
   "source": [
    "time_results.head()"
   ]
  },
  {
   "cell_type": "markdown",
   "id": "8b183907-359e-473a-ac51-cb6c388c2595",
   "metadata": {
    "papermill": {
     "duration": 0.002225,
     "end_time": "2023-09-11T17:28:48.070579",
     "exception": false,
     "start_time": "2023-09-11T17:28:48.068354",
     "status": "completed"
    },
    "tags": []
   },
   "source": [
    "# Run numbers"
   ]
  },
  {
   "cell_type": "code",
   "execution_count": 14,
   "id": "3eafa2a7-c008-46b9-9119-a745fe873535",
   "metadata": {
    "execution": {
     "iopub.execute_input": "2023-09-11T17:28:48.075562Z",
     "iopub.status.busy": "2023-09-11T17:28:48.075481Z",
     "iopub.status.idle": "2023-09-11T17:28:48.076854Z",
     "shell.execute_reply": "2023-09-11T17:28:48.076707Z"
    },
    "papermill": {
     "duration": 0.004353,
     "end_time": "2023-09-11T17:28:48.077291",
     "exception": false,
     "start_time": "2023-09-11T17:28:48.072938",
     "status": "completed"
    },
    "tags": []
   },
   "outputs": [],
   "source": [
    "plot_data = time_results"
   ]
  },
  {
   "cell_type": "code",
   "execution_count": 15,
   "id": "e1279b36-295c-45d2-a2f1-0388161c724f",
   "metadata": {
    "execution": {
     "iopub.execute_input": "2023-09-11T17:28:48.082121Z",
     "iopub.status.busy": "2023-09-11T17:28:48.082034Z",
     "iopub.status.idle": "2023-09-11T17:28:48.132615Z",
     "shell.execute_reply": "2023-09-11T17:28:48.132405Z"
    },
    "papermill": {
     "duration": 0.05359,
     "end_time": "2023-09-11T17:28:48.133198",
     "exception": false,
     "start_time": "2023-09-11T17:28:48.079608",
     "status": "completed"
    },
    "tags": []
   },
   "outputs": [
    {
     "data": {
      "text/html": [
       "<div>\n",
       "<style scoped>\n",
       "    .dataframe tbody tr th:only-of-type {\n",
       "        vertical-align: middle;\n",
       "    }\n",
       "\n",
       "    .dataframe tbody tr th {\n",
       "        vertical-align: top;\n",
       "    }\n",
       "\n",
       "    .dataframe thead th {\n",
       "        text-align: right;\n",
       "    }\n",
       "</style>\n",
       "<table border=\"1\" class=\"dataframe\">\n",
       "  <thead>\n",
       "    <tr style=\"text-align: right;\">\n",
       "      <th></th>\n",
       "      <th></th>\n",
       "      <th>count</th>\n",
       "      <th>mean</th>\n",
       "      <th>std</th>\n",
       "      <th>min</th>\n",
       "      <th>25%</th>\n",
       "      <th>50%</th>\n",
       "      <th>75%</th>\n",
       "      <th>max</th>\n",
       "    </tr>\n",
       "    <tr>\n",
       "      <th>data_size</th>\n",
       "      <th>method</th>\n",
       "      <th></th>\n",
       "      <th></th>\n",
       "      <th></th>\n",
       "      <th></th>\n",
       "      <th></th>\n",
       "      <th></th>\n",
       "      <th></th>\n",
       "      <th></th>\n",
       "    </tr>\n",
       "  </thead>\n",
       "  <tbody>\n",
       "    <tr>\n",
       "      <th rowspan=\"7\" valign=\"top\">100</th>\n",
       "      <th>CCC (1 core)</th>\n",
       "      <td>1000.0</td>\n",
       "      <td>0.000700</td>\n",
       "      <td>0.000022</td>\n",
       "      <td>0.000681</td>\n",
       "      <td>0.000690</td>\n",
       "      <td>0.000693</td>\n",
       "      <td>0.000700</td>\n",
       "      <td>0.000963</td>\n",
       "    </tr>\n",
       "    <tr>\n",
       "      <th>CCC (3 cores)</th>\n",
       "      <td>1000.0</td>\n",
       "      <td>0.001244</td>\n",
       "      <td>0.000507</td>\n",
       "      <td>0.000927</td>\n",
       "      <td>0.000983</td>\n",
       "      <td>0.001027</td>\n",
       "      <td>0.001304</td>\n",
       "      <td>0.006013</td>\n",
       "    </tr>\n",
       "    <tr>\n",
       "      <th>CCC (6 cores)</th>\n",
       "      <td>1000.0</td>\n",
       "      <td>0.002549</td>\n",
       "      <td>0.001363</td>\n",
       "      <td>0.001193</td>\n",
       "      <td>0.001497</td>\n",
       "      <td>0.002142</td>\n",
       "      <td>0.003099</td>\n",
       "      <td>0.007773</td>\n",
       "    </tr>\n",
       "    <tr>\n",
       "      <th>MIC (1 core)</th>\n",
       "      <td>1000.0</td>\n",
       "      <td>0.000723</td>\n",
       "      <td>0.000027</td>\n",
       "      <td>0.000652</td>\n",
       "      <td>0.000704</td>\n",
       "      <td>0.000723</td>\n",
       "      <td>0.000743</td>\n",
       "      <td>0.000821</td>\n",
       "    </tr>\n",
       "    <tr>\n",
       "      <th>MICe (1 core)</th>\n",
       "      <td>1000.0</td>\n",
       "      <td>0.000674</td>\n",
       "      <td>0.000022</td>\n",
       "      <td>0.000620</td>\n",
       "      <td>0.000659</td>\n",
       "      <td>0.000673</td>\n",
       "      <td>0.000689</td>\n",
       "      <td>0.000756</td>\n",
       "    </tr>\n",
       "    <tr>\n",
       "      <th>Pearson (1 core)</th>\n",
       "      <td>1000.0</td>\n",
       "      <td>0.000033</td>\n",
       "      <td>0.000005</td>\n",
       "      <td>0.000030</td>\n",
       "      <td>0.000031</td>\n",
       "      <td>0.000032</td>\n",
       "      <td>0.000033</td>\n",
       "      <td>0.000145</td>\n",
       "    </tr>\n",
       "    <tr>\n",
       "      <th>Spearman (1 core)</th>\n",
       "      <td>1000.0</td>\n",
       "      <td>0.000228</td>\n",
       "      <td>0.000011</td>\n",
       "      <td>0.000217</td>\n",
       "      <td>0.000224</td>\n",
       "      <td>0.000226</td>\n",
       "      <td>0.000229</td>\n",
       "      <td>0.000393</td>\n",
       "    </tr>\n",
       "    <tr>\n",
       "      <th rowspan=\"7\" valign=\"top\">500</th>\n",
       "      <th>CCC (1 core)</th>\n",
       "      <td>10.0</td>\n",
       "      <td>0.001014</td>\n",
       "      <td>0.000037</td>\n",
       "      <td>0.000985</td>\n",
       "      <td>0.000997</td>\n",
       "      <td>0.001006</td>\n",
       "      <td>0.001010</td>\n",
       "      <td>0.001116</td>\n",
       "    </tr>\n",
       "    <tr>\n",
       "      <th>CCC (3 cores)</th>\n",
       "      <td>10.0</td>\n",
       "      <td>0.001573</td>\n",
       "      <td>0.000316</td>\n",
       "      <td>0.001127</td>\n",
       "      <td>0.001449</td>\n",
       "      <td>0.001490</td>\n",
       "      <td>0.001747</td>\n",
       "      <td>0.002150</td>\n",
       "    </tr>\n",
       "    <tr>\n",
       "      <th>CCC (6 cores)</th>\n",
       "      <td>10.0</td>\n",
       "      <td>0.001548</td>\n",
       "      <td>0.000512</td>\n",
       "      <td>0.001313</td>\n",
       "      <td>0.001332</td>\n",
       "      <td>0.001356</td>\n",
       "      <td>0.001383</td>\n",
       "      <td>0.002961</td>\n",
       "    </tr>\n",
       "    <tr>\n",
       "      <th>MIC (1 core)</th>\n",
       "      <td>10.0</td>\n",
       "      <td>0.011557</td>\n",
       "      <td>0.000165</td>\n",
       "      <td>0.011262</td>\n",
       "      <td>0.011459</td>\n",
       "      <td>0.011552</td>\n",
       "      <td>0.011663</td>\n",
       "      <td>0.011803</td>\n",
       "    </tr>\n",
       "    <tr>\n",
       "      <th>MICe (1 core)</th>\n",
       "      <td>10.0</td>\n",
       "      <td>0.008868</td>\n",
       "      <td>0.000115</td>\n",
       "      <td>0.008696</td>\n",
       "      <td>0.008778</td>\n",
       "      <td>0.008870</td>\n",
       "      <td>0.008926</td>\n",
       "      <td>0.009037</td>\n",
       "    </tr>\n",
       "    <tr>\n",
       "      <th>Pearson (1 core)</th>\n",
       "      <td>10.0</td>\n",
       "      <td>0.000039</td>\n",
       "      <td>0.000014</td>\n",
       "      <td>0.000033</td>\n",
       "      <td>0.000034</td>\n",
       "      <td>0.000035</td>\n",
       "      <td>0.000036</td>\n",
       "      <td>0.000079</td>\n",
       "    </tr>\n",
       "    <tr>\n",
       "      <th>Spearman (1 core)</th>\n",
       "      <td>10.0</td>\n",
       "      <td>0.000280</td>\n",
       "      <td>0.000022</td>\n",
       "      <td>0.000266</td>\n",
       "      <td>0.000271</td>\n",
       "      <td>0.000272</td>\n",
       "      <td>0.000278</td>\n",
       "      <td>0.000340</td>\n",
       "    </tr>\n",
       "    <tr>\n",
       "      <th rowspan=\"7\" valign=\"top\">1000</th>\n",
       "      <th>CCC (1 core)</th>\n",
       "      <td>10.0</td>\n",
       "      <td>0.001520</td>\n",
       "      <td>0.000021</td>\n",
       "      <td>0.001473</td>\n",
       "      <td>0.001508</td>\n",
       "      <td>0.001526</td>\n",
       "      <td>0.001532</td>\n",
       "      <td>0.001544</td>\n",
       "    </tr>\n",
       "    <tr>\n",
       "      <th>CCC (3 cores)</th>\n",
       "      <td>10.0</td>\n",
       "      <td>0.001457</td>\n",
       "      <td>0.000246</td>\n",
       "      <td>0.001307</td>\n",
       "      <td>0.001323</td>\n",
       "      <td>0.001328</td>\n",
       "      <td>0.001477</td>\n",
       "      <td>0.002081</td>\n",
       "    </tr>\n",
       "    <tr>\n",
       "      <th>CCC (6 cores)</th>\n",
       "      <td>10.0</td>\n",
       "      <td>0.001665</td>\n",
       "      <td>0.000511</td>\n",
       "      <td>0.001367</td>\n",
       "      <td>0.001426</td>\n",
       "      <td>0.001455</td>\n",
       "      <td>0.001562</td>\n",
       "      <td>0.003018</td>\n",
       "    </tr>\n",
       "    <tr>\n",
       "      <th>MIC (1 core)</th>\n",
       "      <td>10.0</td>\n",
       "      <td>0.037375</td>\n",
       "      <td>0.000440</td>\n",
       "      <td>0.036806</td>\n",
       "      <td>0.037103</td>\n",
       "      <td>0.037231</td>\n",
       "      <td>0.037689</td>\n",
       "      <td>0.038242</td>\n",
       "    </tr>\n",
       "    <tr>\n",
       "      <th>MICe (1 core)</th>\n",
       "      <td>10.0</td>\n",
       "      <td>0.024938</td>\n",
       "      <td>0.000247</td>\n",
       "      <td>0.024583</td>\n",
       "      <td>0.024758</td>\n",
       "      <td>0.024965</td>\n",
       "      <td>0.025059</td>\n",
       "      <td>0.025344</td>\n",
       "    </tr>\n",
       "    <tr>\n",
       "      <th>Pearson (1 core)</th>\n",
       "      <td>10.0</td>\n",
       "      <td>0.000041</td>\n",
       "      <td>0.000013</td>\n",
       "      <td>0.000035</td>\n",
       "      <td>0.000036</td>\n",
       "      <td>0.000037</td>\n",
       "      <td>0.000037</td>\n",
       "      <td>0.000077</td>\n",
       "    </tr>\n",
       "    <tr>\n",
       "      <th>Spearman (1 core)</th>\n",
       "      <td>10.0</td>\n",
       "      <td>0.000318</td>\n",
       "      <td>0.000009</td>\n",
       "      <td>0.000310</td>\n",
       "      <td>0.000312</td>\n",
       "      <td>0.000313</td>\n",
       "      <td>0.000323</td>\n",
       "      <td>0.000337</td>\n",
       "    </tr>\n",
       "    <tr>\n",
       "      <th rowspan=\"7\" valign=\"top\">5000</th>\n",
       "      <th>CCC (1 core)</th>\n",
       "      <td>10.0</td>\n",
       "      <td>0.006788</td>\n",
       "      <td>0.000060</td>\n",
       "      <td>0.006672</td>\n",
       "      <td>0.006755</td>\n",
       "      <td>0.006799</td>\n",
       "      <td>0.006819</td>\n",
       "      <td>0.006884</td>\n",
       "    </tr>\n",
       "    <tr>\n",
       "      <th>CCC (3 cores)</th>\n",
       "      <td>10.0</td>\n",
       "      <td>0.003255</td>\n",
       "      <td>0.000450</td>\n",
       "      <td>0.002939</td>\n",
       "      <td>0.003033</td>\n",
       "      <td>0.003085</td>\n",
       "      <td>0.003135</td>\n",
       "      <td>0.004291</td>\n",
       "    </tr>\n",
       "    <tr>\n",
       "      <th>CCC (6 cores)</th>\n",
       "      <td>10.0</td>\n",
       "      <td>0.002966</td>\n",
       "      <td>0.000383</td>\n",
       "      <td>0.002287</td>\n",
       "      <td>0.002790</td>\n",
       "      <td>0.002943</td>\n",
       "      <td>0.003094</td>\n",
       "      <td>0.003766</td>\n",
       "    </tr>\n",
       "    <tr>\n",
       "      <th>MIC (1 core)</th>\n",
       "      <td>10.0</td>\n",
       "      <td>0.511068</td>\n",
       "      <td>0.002535</td>\n",
       "      <td>0.508058</td>\n",
       "      <td>0.509063</td>\n",
       "      <td>0.511166</td>\n",
       "      <td>0.511689</td>\n",
       "      <td>0.516697</td>\n",
       "    </tr>\n",
       "    <tr>\n",
       "      <th>MICe (1 core)</th>\n",
       "      <td>10.0</td>\n",
       "      <td>0.228089</td>\n",
       "      <td>0.000724</td>\n",
       "      <td>0.226995</td>\n",
       "      <td>0.227600</td>\n",
       "      <td>0.227992</td>\n",
       "      <td>0.228596</td>\n",
       "      <td>0.229304</td>\n",
       "    </tr>\n",
       "    <tr>\n",
       "      <th>Pearson (1 core)</th>\n",
       "      <td>10.0</td>\n",
       "      <td>0.000052</td>\n",
       "      <td>0.000013</td>\n",
       "      <td>0.000045</td>\n",
       "      <td>0.000046</td>\n",
       "      <td>0.000047</td>\n",
       "      <td>0.000051</td>\n",
       "      <td>0.000088</td>\n",
       "    </tr>\n",
       "    <tr>\n",
       "      <th>Spearman (1 core)</th>\n",
       "      <td>10.0</td>\n",
       "      <td>0.000672</td>\n",
       "      <td>0.000034</td>\n",
       "      <td>0.000647</td>\n",
       "      <td>0.000657</td>\n",
       "      <td>0.000661</td>\n",
       "      <td>0.000673</td>\n",
       "      <td>0.000766</td>\n",
       "    </tr>\n",
       "    <tr>\n",
       "      <th rowspan=\"7\" valign=\"top\">10000</th>\n",
       "      <th>CCC (1 core)</th>\n",
       "      <td>10.0</td>\n",
       "      <td>0.013911</td>\n",
       "      <td>0.000139</td>\n",
       "      <td>0.013680</td>\n",
       "      <td>0.013838</td>\n",
       "      <td>0.013906</td>\n",
       "      <td>0.014009</td>\n",
       "      <td>0.014104</td>\n",
       "    </tr>\n",
       "    <tr>\n",
       "      <th>CCC (3 cores)</th>\n",
       "      <td>10.0</td>\n",
       "      <td>0.006295</td>\n",
       "      <td>0.000917</td>\n",
       "      <td>0.005360</td>\n",
       "      <td>0.005587</td>\n",
       "      <td>0.006078</td>\n",
       "      <td>0.006806</td>\n",
       "      <td>0.008178</td>\n",
       "    </tr>\n",
       "    <tr>\n",
       "      <th>CCC (6 cores)</th>\n",
       "      <td>10.0</td>\n",
       "      <td>0.003929</td>\n",
       "      <td>0.000618</td>\n",
       "      <td>0.003467</td>\n",
       "      <td>0.003497</td>\n",
       "      <td>0.003648</td>\n",
       "      <td>0.004185</td>\n",
       "      <td>0.005180</td>\n",
       "    </tr>\n",
       "    <tr>\n",
       "      <th>MIC (1 core)</th>\n",
       "      <td>10.0</td>\n",
       "      <td>1.604225</td>\n",
       "      <td>0.005336</td>\n",
       "      <td>1.594926</td>\n",
       "      <td>1.600615</td>\n",
       "      <td>1.606042</td>\n",
       "      <td>1.607014</td>\n",
       "      <td>1.610589</td>\n",
       "    </tr>\n",
       "    <tr>\n",
       "      <th>MICe (1 core)</th>\n",
       "      <td>10.0</td>\n",
       "      <td>0.571711</td>\n",
       "      <td>0.001157</td>\n",
       "      <td>0.569632</td>\n",
       "      <td>0.570982</td>\n",
       "      <td>0.571727</td>\n",
       "      <td>0.572616</td>\n",
       "      <td>0.573363</td>\n",
       "    </tr>\n",
       "    <tr>\n",
       "      <th>Pearson (1 core)</th>\n",
       "      <td>10.0</td>\n",
       "      <td>0.000066</td>\n",
       "      <td>0.000015</td>\n",
       "      <td>0.000058</td>\n",
       "      <td>0.000059</td>\n",
       "      <td>0.000060</td>\n",
       "      <td>0.000062</td>\n",
       "      <td>0.000106</td>\n",
       "    </tr>\n",
       "    <tr>\n",
       "      <th>Spearman (1 core)</th>\n",
       "      <td>10.0</td>\n",
       "      <td>0.001157</td>\n",
       "      <td>0.000035</td>\n",
       "      <td>0.001128</td>\n",
       "      <td>0.001146</td>\n",
       "      <td>0.001149</td>\n",
       "      <td>0.001152</td>\n",
       "      <td>0.001253</td>\n",
       "    </tr>\n",
       "    <tr>\n",
       "      <th rowspan=\"6\" valign=\"top\">50000</th>\n",
       "      <th>CCC (1 core)</th>\n",
       "      <td>10.0</td>\n",
       "      <td>0.080398</td>\n",
       "      <td>0.001983</td>\n",
       "      <td>0.079082</td>\n",
       "      <td>0.079508</td>\n",
       "      <td>0.079843</td>\n",
       "      <td>0.080196</td>\n",
       "      <td>0.085907</td>\n",
       "    </tr>\n",
       "    <tr>\n",
       "      <th>CCC (3 cores)</th>\n",
       "      <td>10.0</td>\n",
       "      <td>0.028311</td>\n",
       "      <td>0.000604</td>\n",
       "      <td>0.027584</td>\n",
       "      <td>0.027964</td>\n",
       "      <td>0.028092</td>\n",
       "      <td>0.028674</td>\n",
       "      <td>0.029486</td>\n",
       "    </tr>\n",
       "    <tr>\n",
       "      <th>CCC (6 cores)</th>\n",
       "      <td>10.0</td>\n",
       "      <td>0.016299</td>\n",
       "      <td>0.001369</td>\n",
       "      <td>0.015058</td>\n",
       "      <td>0.015353</td>\n",
       "      <td>0.015880</td>\n",
       "      <td>0.016453</td>\n",
       "      <td>0.019071</td>\n",
       "    </tr>\n",
       "    <tr>\n",
       "      <th>MICe (1 core)</th>\n",
       "      <td>10.0</td>\n",
       "      <td>4.869085</td>\n",
       "      <td>0.007489</td>\n",
       "      <td>4.855632</td>\n",
       "      <td>4.865442</td>\n",
       "      <td>4.869943</td>\n",
       "      <td>4.874358</td>\n",
       "      <td>4.877798</td>\n",
       "    </tr>\n",
       "    <tr>\n",
       "      <th>Pearson (1 core)</th>\n",
       "      <td>10.0</td>\n",
       "      <td>0.000216</td>\n",
       "      <td>0.000107</td>\n",
       "      <td>0.000164</td>\n",
       "      <td>0.000168</td>\n",
       "      <td>0.000181</td>\n",
       "      <td>0.000200</td>\n",
       "      <td>0.000515</td>\n",
       "    </tr>\n",
       "    <tr>\n",
       "      <th>Spearman (1 core)</th>\n",
       "      <td>10.0</td>\n",
       "      <td>0.006197</td>\n",
       "      <td>0.000197</td>\n",
       "      <td>0.005992</td>\n",
       "      <td>0.006033</td>\n",
       "      <td>0.006152</td>\n",
       "      <td>0.006320</td>\n",
       "      <td>0.006609</td>\n",
       "    </tr>\n",
       "    <tr>\n",
       "      <th rowspan=\"5\" valign=\"top\">100000</th>\n",
       "      <th>CCC (1 core)</th>\n",
       "      <td>10.0</td>\n",
       "      <td>0.169880</td>\n",
       "      <td>0.004015</td>\n",
       "      <td>0.166682</td>\n",
       "      <td>0.168021</td>\n",
       "      <td>0.168410</td>\n",
       "      <td>0.170365</td>\n",
       "      <td>0.180720</td>\n",
       "    </tr>\n",
       "    <tr>\n",
       "      <th>CCC (3 cores)</th>\n",
       "      <td>10.0</td>\n",
       "      <td>0.059719</td>\n",
       "      <td>0.001602</td>\n",
       "      <td>0.057553</td>\n",
       "      <td>0.058915</td>\n",
       "      <td>0.059804</td>\n",
       "      <td>0.060159</td>\n",
       "      <td>0.063151</td>\n",
       "    </tr>\n",
       "    <tr>\n",
       "      <th>CCC (6 cores)</th>\n",
       "      <td>10.0</td>\n",
       "      <td>0.032267</td>\n",
       "      <td>0.001531</td>\n",
       "      <td>0.031124</td>\n",
       "      <td>0.031255</td>\n",
       "      <td>0.031849</td>\n",
       "      <td>0.032394</td>\n",
       "      <td>0.036092</td>\n",
       "    </tr>\n",
       "    <tr>\n",
       "      <th>Pearson (1 core)</th>\n",
       "      <td>10.0</td>\n",
       "      <td>0.000487</td>\n",
       "      <td>0.000159</td>\n",
       "      <td>0.000307</td>\n",
       "      <td>0.000354</td>\n",
       "      <td>0.000430</td>\n",
       "      <td>0.000628</td>\n",
       "      <td>0.000748</td>\n",
       "    </tr>\n",
       "    <tr>\n",
       "      <th>Spearman (1 core)</th>\n",
       "      <td>10.0</td>\n",
       "      <td>0.013500</td>\n",
       "      <td>0.000201</td>\n",
       "      <td>0.013329</td>\n",
       "      <td>0.013438</td>\n",
       "      <td>0.013453</td>\n",
       "      <td>0.013498</td>\n",
       "      <td>0.014044</td>\n",
       "    </tr>\n",
       "    <tr>\n",
       "      <th rowspan=\"5\" valign=\"top\">1000000</th>\n",
       "      <th>CCC (1 core)</th>\n",
       "      <td>10.0</td>\n",
       "      <td>2.374975</td>\n",
       "      <td>0.028419</td>\n",
       "      <td>2.312148</td>\n",
       "      <td>2.365298</td>\n",
       "      <td>2.373448</td>\n",
       "      <td>2.391214</td>\n",
       "      <td>2.421613</td>\n",
       "    </tr>\n",
       "    <tr>\n",
       "      <th>CCC (3 cores)</th>\n",
       "      <td>10.0</td>\n",
       "      <td>0.908605</td>\n",
       "      <td>0.005742</td>\n",
       "      <td>0.900301</td>\n",
       "      <td>0.904757</td>\n",
       "      <td>0.906894</td>\n",
       "      <td>0.912644</td>\n",
       "      <td>0.917324</td>\n",
       "    </tr>\n",
       "    <tr>\n",
       "      <th>CCC (6 cores)</th>\n",
       "      <td>10.0</td>\n",
       "      <td>0.536444</td>\n",
       "      <td>0.003756</td>\n",
       "      <td>0.531334</td>\n",
       "      <td>0.534186</td>\n",
       "      <td>0.536558</td>\n",
       "      <td>0.538229</td>\n",
       "      <td>0.543839</td>\n",
       "    </tr>\n",
       "    <tr>\n",
       "      <th>Pearson (1 core)</th>\n",
       "      <td>10.0</td>\n",
       "      <td>0.008685</td>\n",
       "      <td>0.001105</td>\n",
       "      <td>0.007643</td>\n",
       "      <td>0.007773</td>\n",
       "      <td>0.008315</td>\n",
       "      <td>0.009787</td>\n",
       "      <td>0.010285</td>\n",
       "    </tr>\n",
       "    <tr>\n",
       "      <th>Spearman (1 core)</th>\n",
       "      <td>10.0</td>\n",
       "      <td>0.175823</td>\n",
       "      <td>0.003502</td>\n",
       "      <td>0.171767</td>\n",
       "      <td>0.173853</td>\n",
       "      <td>0.175242</td>\n",
       "      <td>0.176227</td>\n",
       "      <td>0.183476</td>\n",
       "    </tr>\n",
       "    <tr>\n",
       "      <th rowspan=\"5\" valign=\"top\">10000000</th>\n",
       "      <th>CCC (1 core)</th>\n",
       "      <td>10.0</td>\n",
       "      <td>42.292236</td>\n",
       "      <td>0.110967</td>\n",
       "      <td>42.121878</td>\n",
       "      <td>42.227472</td>\n",
       "      <td>42.277608</td>\n",
       "      <td>42.331981</td>\n",
       "      <td>42.507820</td>\n",
       "    </tr>\n",
       "    <tr>\n",
       "      <th>CCC (3 cores)</th>\n",
       "      <td>10.0</td>\n",
       "      <td>15.907279</td>\n",
       "      <td>0.039598</td>\n",
       "      <td>15.831335</td>\n",
       "      <td>15.897137</td>\n",
       "      <td>15.911772</td>\n",
       "      <td>15.932641</td>\n",
       "      <td>15.959610</td>\n",
       "    </tr>\n",
       "    <tr>\n",
       "      <th>CCC (6 cores)</th>\n",
       "      <td>10.0</td>\n",
       "      <td>9.102648</td>\n",
       "      <td>0.049330</td>\n",
       "      <td>8.999230</td>\n",
       "      <td>9.080815</td>\n",
       "      <td>9.099392</td>\n",
       "      <td>9.143470</td>\n",
       "      <td>9.161670</td>\n",
       "    </tr>\n",
       "    <tr>\n",
       "      <th>Pearson (1 core)</th>\n",
       "      <td>10.0</td>\n",
       "      <td>0.094251</td>\n",
       "      <td>0.000763</td>\n",
       "      <td>0.093191</td>\n",
       "      <td>0.093785</td>\n",
       "      <td>0.094238</td>\n",
       "      <td>0.094759</td>\n",
       "      <td>0.095648</td>\n",
       "    </tr>\n",
       "    <tr>\n",
       "      <th>Spearman (1 core)</th>\n",
       "      <td>10.0</td>\n",
       "      <td>2.952096</td>\n",
       "      <td>0.007759</td>\n",
       "      <td>2.937117</td>\n",
       "      <td>2.950214</td>\n",
       "      <td>2.952338</td>\n",
       "      <td>2.954561</td>\n",
       "      <td>2.967408</td>\n",
       "    </tr>\n",
       "  </tbody>\n",
       "</table>\n",
       "</div>"
      ],
      "text/plain": [
       "                              count       mean       std        min  \\\n",
       "data_size method                                                      \n",
       "100       CCC (1 core)       1000.0   0.000700  0.000022   0.000681   \n",
       "          CCC (3 cores)      1000.0   0.001244  0.000507   0.000927   \n",
       "          CCC (6 cores)      1000.0   0.002549  0.001363   0.001193   \n",
       "          MIC (1 core)       1000.0   0.000723  0.000027   0.000652   \n",
       "          MICe (1 core)      1000.0   0.000674  0.000022   0.000620   \n",
       "          Pearson (1 core)   1000.0   0.000033  0.000005   0.000030   \n",
       "          Spearman (1 core)  1000.0   0.000228  0.000011   0.000217   \n",
       "500       CCC (1 core)         10.0   0.001014  0.000037   0.000985   \n",
       "          CCC (3 cores)        10.0   0.001573  0.000316   0.001127   \n",
       "          CCC (6 cores)        10.0   0.001548  0.000512   0.001313   \n",
       "          MIC (1 core)         10.0   0.011557  0.000165   0.011262   \n",
       "          MICe (1 core)        10.0   0.008868  0.000115   0.008696   \n",
       "          Pearson (1 core)     10.0   0.000039  0.000014   0.000033   \n",
       "          Spearman (1 core)    10.0   0.000280  0.000022   0.000266   \n",
       "1000      CCC (1 core)         10.0   0.001520  0.000021   0.001473   \n",
       "          CCC (3 cores)        10.0   0.001457  0.000246   0.001307   \n",
       "          CCC (6 cores)        10.0   0.001665  0.000511   0.001367   \n",
       "          MIC (1 core)         10.0   0.037375  0.000440   0.036806   \n",
       "          MICe (1 core)        10.0   0.024938  0.000247   0.024583   \n",
       "          Pearson (1 core)     10.0   0.000041  0.000013   0.000035   \n",
       "          Spearman (1 core)    10.0   0.000318  0.000009   0.000310   \n",
       "5000      CCC (1 core)         10.0   0.006788  0.000060   0.006672   \n",
       "          CCC (3 cores)        10.0   0.003255  0.000450   0.002939   \n",
       "          CCC (6 cores)        10.0   0.002966  0.000383   0.002287   \n",
       "          MIC (1 core)         10.0   0.511068  0.002535   0.508058   \n",
       "          MICe (1 core)        10.0   0.228089  0.000724   0.226995   \n",
       "          Pearson (1 core)     10.0   0.000052  0.000013   0.000045   \n",
       "          Spearman (1 core)    10.0   0.000672  0.000034   0.000647   \n",
       "10000     CCC (1 core)         10.0   0.013911  0.000139   0.013680   \n",
       "          CCC (3 cores)        10.0   0.006295  0.000917   0.005360   \n",
       "          CCC (6 cores)        10.0   0.003929  0.000618   0.003467   \n",
       "          MIC (1 core)         10.0   1.604225  0.005336   1.594926   \n",
       "          MICe (1 core)        10.0   0.571711  0.001157   0.569632   \n",
       "          Pearson (1 core)     10.0   0.000066  0.000015   0.000058   \n",
       "          Spearman (1 core)    10.0   0.001157  0.000035   0.001128   \n",
       "50000     CCC (1 core)         10.0   0.080398  0.001983   0.079082   \n",
       "          CCC (3 cores)        10.0   0.028311  0.000604   0.027584   \n",
       "          CCC (6 cores)        10.0   0.016299  0.001369   0.015058   \n",
       "          MICe (1 core)        10.0   4.869085  0.007489   4.855632   \n",
       "          Pearson (1 core)     10.0   0.000216  0.000107   0.000164   \n",
       "          Spearman (1 core)    10.0   0.006197  0.000197   0.005992   \n",
       "100000    CCC (1 core)         10.0   0.169880  0.004015   0.166682   \n",
       "          CCC (3 cores)        10.0   0.059719  0.001602   0.057553   \n",
       "          CCC (6 cores)        10.0   0.032267  0.001531   0.031124   \n",
       "          Pearson (1 core)     10.0   0.000487  0.000159   0.000307   \n",
       "          Spearman (1 core)    10.0   0.013500  0.000201   0.013329   \n",
       "1000000   CCC (1 core)         10.0   2.374975  0.028419   2.312148   \n",
       "          CCC (3 cores)        10.0   0.908605  0.005742   0.900301   \n",
       "          CCC (6 cores)        10.0   0.536444  0.003756   0.531334   \n",
       "          Pearson (1 core)     10.0   0.008685  0.001105   0.007643   \n",
       "          Spearman (1 core)    10.0   0.175823  0.003502   0.171767   \n",
       "10000000  CCC (1 core)         10.0  42.292236  0.110967  42.121878   \n",
       "          CCC (3 cores)        10.0  15.907279  0.039598  15.831335   \n",
       "          CCC (6 cores)        10.0   9.102648  0.049330   8.999230   \n",
       "          Pearson (1 core)     10.0   0.094251  0.000763   0.093191   \n",
       "          Spearman (1 core)    10.0   2.952096  0.007759   2.937117   \n",
       "\n",
       "                                   25%        50%        75%        max  \n",
       "data_size method                                                         \n",
       "100       CCC (1 core)        0.000690   0.000693   0.000700   0.000963  \n",
       "          CCC (3 cores)       0.000983   0.001027   0.001304   0.006013  \n",
       "          CCC (6 cores)       0.001497   0.002142   0.003099   0.007773  \n",
       "          MIC (1 core)        0.000704   0.000723   0.000743   0.000821  \n",
       "          MICe (1 core)       0.000659   0.000673   0.000689   0.000756  \n",
       "          Pearson (1 core)    0.000031   0.000032   0.000033   0.000145  \n",
       "          Spearman (1 core)   0.000224   0.000226   0.000229   0.000393  \n",
       "500       CCC (1 core)        0.000997   0.001006   0.001010   0.001116  \n",
       "          CCC (3 cores)       0.001449   0.001490   0.001747   0.002150  \n",
       "          CCC (6 cores)       0.001332   0.001356   0.001383   0.002961  \n",
       "          MIC (1 core)        0.011459   0.011552   0.011663   0.011803  \n",
       "          MICe (1 core)       0.008778   0.008870   0.008926   0.009037  \n",
       "          Pearson (1 core)    0.000034   0.000035   0.000036   0.000079  \n",
       "          Spearman (1 core)   0.000271   0.000272   0.000278   0.000340  \n",
       "1000      CCC (1 core)        0.001508   0.001526   0.001532   0.001544  \n",
       "          CCC (3 cores)       0.001323   0.001328   0.001477   0.002081  \n",
       "          CCC (6 cores)       0.001426   0.001455   0.001562   0.003018  \n",
       "          MIC (1 core)        0.037103   0.037231   0.037689   0.038242  \n",
       "          MICe (1 core)       0.024758   0.024965   0.025059   0.025344  \n",
       "          Pearson (1 core)    0.000036   0.000037   0.000037   0.000077  \n",
       "          Spearman (1 core)   0.000312   0.000313   0.000323   0.000337  \n",
       "5000      CCC (1 core)        0.006755   0.006799   0.006819   0.006884  \n",
       "          CCC (3 cores)       0.003033   0.003085   0.003135   0.004291  \n",
       "          CCC (6 cores)       0.002790   0.002943   0.003094   0.003766  \n",
       "          MIC (1 core)        0.509063   0.511166   0.511689   0.516697  \n",
       "          MICe (1 core)       0.227600   0.227992   0.228596   0.229304  \n",
       "          Pearson (1 core)    0.000046   0.000047   0.000051   0.000088  \n",
       "          Spearman (1 core)   0.000657   0.000661   0.000673   0.000766  \n",
       "10000     CCC (1 core)        0.013838   0.013906   0.014009   0.014104  \n",
       "          CCC (3 cores)       0.005587   0.006078   0.006806   0.008178  \n",
       "          CCC (6 cores)       0.003497   0.003648   0.004185   0.005180  \n",
       "          MIC (1 core)        1.600615   1.606042   1.607014   1.610589  \n",
       "          MICe (1 core)       0.570982   0.571727   0.572616   0.573363  \n",
       "          Pearson (1 core)    0.000059   0.000060   0.000062   0.000106  \n",
       "          Spearman (1 core)   0.001146   0.001149   0.001152   0.001253  \n",
       "50000     CCC (1 core)        0.079508   0.079843   0.080196   0.085907  \n",
       "          CCC (3 cores)       0.027964   0.028092   0.028674   0.029486  \n",
       "          CCC (6 cores)       0.015353   0.015880   0.016453   0.019071  \n",
       "          MICe (1 core)       4.865442   4.869943   4.874358   4.877798  \n",
       "          Pearson (1 core)    0.000168   0.000181   0.000200   0.000515  \n",
       "          Spearman (1 core)   0.006033   0.006152   0.006320   0.006609  \n",
       "100000    CCC (1 core)        0.168021   0.168410   0.170365   0.180720  \n",
       "          CCC (3 cores)       0.058915   0.059804   0.060159   0.063151  \n",
       "          CCC (6 cores)       0.031255   0.031849   0.032394   0.036092  \n",
       "          Pearson (1 core)    0.000354   0.000430   0.000628   0.000748  \n",
       "          Spearman (1 core)   0.013438   0.013453   0.013498   0.014044  \n",
       "1000000   CCC (1 core)        2.365298   2.373448   2.391214   2.421613  \n",
       "          CCC (3 cores)       0.904757   0.906894   0.912644   0.917324  \n",
       "          CCC (6 cores)       0.534186   0.536558   0.538229   0.543839  \n",
       "          Pearson (1 core)    0.007773   0.008315   0.009787   0.010285  \n",
       "          Spearman (1 core)   0.173853   0.175242   0.176227   0.183476  \n",
       "10000000  CCC (1 core)       42.227472  42.277608  42.331981  42.507820  \n",
       "          CCC (3 cores)      15.897137  15.911772  15.932641  15.959610  \n",
       "          CCC (6 cores)       9.080815   9.099392   9.143470   9.161670  \n",
       "          Pearson (1 core)    0.093785   0.094238   0.094759   0.095648  \n",
       "          Spearman (1 core)   2.950214   2.952338   2.954561   2.967408  "
      ]
     },
     "metadata": {},
     "output_type": "display_data"
    }
   ],
   "source": [
    "run_numbers = (\n",
    "    plot_data[\n",
    "        plot_data[\"method\"].str.contains(\"1 core\", regex=False)\n",
    "        | plot_data[\"method\"].str.contains(\"CCC (3 cores)\", regex=False)\n",
    "        | plot_data[\"method\"].str.contains(\"CCC (6 cores)\", regex=False)\n",
    "    ]\n",
    "    .groupby([\"data_size\", \"method\"])[\"time\"]\n",
    "    .describe()\n",
    ")\n",
    "display(run_numbers)"
   ]
  },
  {
   "cell_type": "code",
   "execution_count": 16,
   "id": "ffb6a620-e832-4b8e-bfe2-e211a381000e",
   "metadata": {
    "execution": {
     "iopub.execute_input": "2023-09-11T17:28:48.139005Z",
     "iopub.status.busy": "2023-09-11T17:28:48.138877Z",
     "iopub.status.idle": "2023-09-11T17:28:48.140296Z",
     "shell.execute_reply": "2023-09-11T17:28:48.140169Z"
    },
    "papermill": {
     "duration": 0.00487,
     "end_time": "2023-09-11T17:28:48.140852",
     "exception": false,
     "start_time": "2023-09-11T17:28:48.135982",
     "status": "completed"
    },
    "tags": []
   },
   "outputs": [],
   "source": [
    "# this is necessary to make sure we did not mix results when running the time test notebooks\n",
    "# that could happen if the notebooks are run separately without running them all together\n",
    "assert run_numbers[\"count\"].unique().shape[0] == 2"
   ]
  },
  {
   "cell_type": "markdown",
   "id": "772f2cd8-22b9-4106-93e2-1c8063370356",
   "metadata": {
    "papermill": {
     "duration": 0.002383,
     "end_time": "2023-09-11T17:28:48.145748",
     "exception": false,
     "start_time": "2023-09-11T17:28:48.143365",
     "status": "completed"
    },
    "tags": []
   },
   "source": [
    "# Plot"
   ]
  },
  {
   "cell_type": "code",
   "execution_count": 17,
   "id": "3b4ffedd-661b-40da-b323-4d29f38c3b72",
   "metadata": {
    "execution": {
     "iopub.execute_input": "2023-09-11T17:28:48.151034Z",
     "iopub.status.busy": "2023-09-11T17:28:48.150919Z",
     "iopub.status.idle": "2023-09-11T17:28:48.152531Z",
     "shell.execute_reply": "2023-09-11T17:28:48.152405Z"
    },
    "papermill": {
     "duration": 0.004754,
     "end_time": "2023-09-11T17:28:48.153036",
     "exception": false,
     "start_time": "2023-09-11T17:28:48.148282",
     "status": "completed"
    },
    "tags": []
   },
   "outputs": [],
   "source": [
    "hue_order = sorted(time_results[\"method\"].unique())"
   ]
  },
  {
   "cell_type": "code",
   "execution_count": 18,
   "id": "cc263e22-bbc0-4d20-953f-ec6fd0a624b8",
   "metadata": {
    "execution": {
     "iopub.execute_input": "2023-09-11T17:28:48.158303Z",
     "iopub.status.busy": "2023-09-11T17:28:48.158201Z",
     "iopub.status.idle": "2023-09-11T17:28:48.159715Z",
     "shell.execute_reply": "2023-09-11T17:28:48.159592Z"
    },
    "papermill": {
     "duration": 0.004683,
     "end_time": "2023-09-11T17:28:48.160221",
     "exception": false,
     "start_time": "2023-09-11T17:28:48.155538",
     "status": "completed"
    },
    "tags": []
   },
   "outputs": [
    {
     "data": {
      "text/plain": [
       "['CCC (1 core)',\n",
       " 'CCC (3 cores)',\n",
       " 'CCC (6 cores)',\n",
       " 'MIC (1 core)',\n",
       " 'MIC (3 cores)',\n",
       " 'MIC (6 cores)',\n",
       " 'MICe (1 core)',\n",
       " 'MICe (3 cores)',\n",
       " 'MICe (6 cores)',\n",
       " 'Pearson (1 core)',\n",
       " 'Pearson (3 cores)',\n",
       " 'Pearson (6 cores)',\n",
       " 'Spearman (1 core)',\n",
       " 'Spearman (3 cores)',\n",
       " 'Spearman (6 cores)']"
      ]
     },
     "execution_count": 18,
     "metadata": {},
     "output_type": "execute_result"
    }
   ],
   "source": [
    "hue_order"
   ]
  },
  {
   "cell_type": "code",
   "execution_count": 19,
   "id": "e3c79816-6703-4236-b55a-c6dc38d4d600",
   "metadata": {
    "execution": {
     "iopub.execute_input": "2023-09-11T17:28:48.165472Z",
     "iopub.status.busy": "2023-09-11T17:28:48.165391Z",
     "iopub.status.idle": "2023-09-11T17:28:48.167382Z",
     "shell.execute_reply": "2023-09-11T17:28:48.167260Z"
    },
    "papermill": {
     "duration": 0.005015,
     "end_time": "2023-09-11T17:28:48.167768",
     "exception": false,
     "start_time": "2023-09-11T17:28:48.162753",
     "status": "completed"
    },
    "tags": []
   },
   "outputs": [
    {
     "data": {
      "text/html": [
       "<svg  width=\"660\" height=\"55\"><rect x=\"0\" y=\"0\" width=\"55\" height=\"55\" style=\"fill:#a6cee3;stroke-width:2;stroke:rgb(255,255,255)\"/><rect x=\"55\" y=\"0\" width=\"55\" height=\"55\" style=\"fill:#1f78b4;stroke-width:2;stroke:rgb(255,255,255)\"/><rect x=\"110\" y=\"0\" width=\"55\" height=\"55\" style=\"fill:#b2df8a;stroke-width:2;stroke:rgb(255,255,255)\"/><rect x=\"165\" y=\"0\" width=\"55\" height=\"55\" style=\"fill:#33a02c;stroke-width:2;stroke:rgb(255,255,255)\"/><rect x=\"220\" y=\"0\" width=\"55\" height=\"55\" style=\"fill:#fb9a99;stroke-width:2;stroke:rgb(255,255,255)\"/><rect x=\"275\" y=\"0\" width=\"55\" height=\"55\" style=\"fill:#e31a1c;stroke-width:2;stroke:rgb(255,255,255)\"/><rect x=\"330\" y=\"0\" width=\"55\" height=\"55\" style=\"fill:#fdbf6f;stroke-width:2;stroke:rgb(255,255,255)\"/><rect x=\"385\" y=\"0\" width=\"55\" height=\"55\" style=\"fill:#ff7f00;stroke-width:2;stroke:rgb(255,255,255)\"/><rect x=\"440\" y=\"0\" width=\"55\" height=\"55\" style=\"fill:#cab2d6;stroke-width:2;stroke:rgb(255,255,255)\"/><rect x=\"495\" y=\"0\" width=\"55\" height=\"55\" style=\"fill:#6a3d9a;stroke-width:2;stroke:rgb(255,255,255)\"/><rect x=\"550\" y=\"0\" width=\"55\" height=\"55\" style=\"fill:#ffff99;stroke-width:2;stroke:rgb(255,255,255)\"/><rect x=\"605\" y=\"0\" width=\"55\" height=\"55\" style=\"fill:#b15928;stroke-width:2;stroke:rgb(255,255,255)\"/></svg>"
      ],
      "text/plain": [
       "[(0.6509803921568628, 0.807843137254902, 0.8901960784313725),\n",
       " (0.12156862745098039, 0.47058823529411764, 0.7058823529411765),\n",
       " (0.6980392156862745, 0.8745098039215686, 0.5411764705882353),\n",
       " (0.2, 0.6274509803921569, 0.17254901960784313),\n",
       " (0.984313725490196, 0.6039215686274509, 0.6),\n",
       " (0.8901960784313725, 0.10196078431372549, 0.10980392156862745),\n",
       " (0.9921568627450981, 0.7490196078431373, 0.43529411764705883),\n",
       " (1.0, 0.4980392156862745, 0.0),\n",
       " (0.792156862745098, 0.6980392156862745, 0.8392156862745098),\n",
       " (0.41568627450980394, 0.23921568627450981, 0.6039215686274509),\n",
       " (1.0, 1.0, 0.6),\n",
       " (0.6941176470588235, 0.34901960784313724, 0.1568627450980392)]"
      ]
     },
     "metadata": {},
     "output_type": "display_data"
    }
   ],
   "source": [
    "deep_colors = sns.color_palette(\"Paired\")\n",
    "display(deep_colors)"
   ]
  },
  {
   "cell_type": "code",
   "execution_count": 20,
   "id": "59249512-0a19-4868-b5a0-5dc4e271c8af",
   "metadata": {
    "execution": {
     "iopub.execute_input": "2023-09-11T17:28:48.173097Z",
     "iopub.status.busy": "2023-09-11T17:28:48.173050Z",
     "iopub.status.idle": "2023-09-11T17:28:48.176105Z",
     "shell.execute_reply": "2023-09-11T17:28:48.175969Z"
    },
    "papermill": {
     "duration": 0.006171,
     "end_time": "2023-09-11T17:28:48.176484",
     "exception": false,
     "start_time": "2023-09-11T17:28:48.170313",
     "status": "completed"
    },
    "tags": []
   },
   "outputs": [],
   "source": [
    "def format_data_size(x):\n",
    "    if x < 1000:\n",
    "        return f\"{int(x)}\"\n",
    "    elif x < 1000000:\n",
    "        return f\"{int(x/1000)}k\"\n",
    "\n",
    "    return f\"{int(x/1000000)}m\"\n",
    "\n",
    "\n",
    "plot_data = plot_data.assign(data_size=plot_data[\"data_size\"].apply(format_data_size))"
   ]
  },
  {
   "cell_type": "markdown",
   "id": "c581b4df-26fe-43e2-ba23-3595534c7ea2",
   "metadata": {
    "papermill": {
     "duration": 0.002467,
     "end_time": "2023-09-11T17:28:48.181543",
     "exception": false,
     "start_time": "2023-09-11T17:28:48.179076",
     "status": "completed"
    },
    "tags": []
   },
   "source": [
    "## First analysis"
   ]
  },
  {
   "cell_type": "markdown",
   "id": "5fcb16ca-07a6-41b9-aa18-f22b84194e71",
   "metadata": {
    "papermill": {
     "duration": 0.002486,
     "end_time": "2023-09-11T17:28:48.186599",
     "exception": false,
     "start_time": "2023-09-11T17:28:48.184113",
     "status": "completed"
    },
    "tags": []
   },
   "source": [
    "Here I take a look if using more than 1 core benefits methods."
   ]
  },
  {
   "cell_type": "code",
   "execution_count": 21,
   "id": "09151d37-4dd2-4c1f-ab4a-94b4d3e79018",
   "metadata": {
    "execution": {
     "iopub.execute_input": "2023-09-11T17:28:48.191895Z",
     "iopub.status.busy": "2023-09-11T17:28:48.191845Z",
     "iopub.status.idle": "2023-09-11T17:28:49.105140Z",
     "shell.execute_reply": "2023-09-11T17:28:49.104904Z"
    },
    "papermill": {
     "duration": 0.916625,
     "end_time": "2023-09-11T17:28:49.105757",
     "exception": false,
     "start_time": "2023-09-11T17:28:48.189132",
     "status": "completed"
    },
    "tags": []
   },
   "outputs": [
    {
     "data": {
      "image/png": "[encoded data removed]",
      "text/plain": [
       "<Figure size 682.395x360 with 1 Axes>"
      ]
     },
     "metadata": {
      "needs_background": "light"
     },
     "output_type": "display_data"
    }
   ],
   "source": [
    "with sns.plotting_context(\"paper\", font_scale=1.5):\n",
    "    g = sns.catplot(\n",
    "        kind=\"point\",\n",
    "        data=plot_data,\n",
    "        x=\"data_size\",\n",
    "        y=\"time\",\n",
    "        hue=\"method\",\n",
    "        hue_order=hue_order,\n",
    "        palette=deep_colors,\n",
    "        height=5,\n",
    "        aspect=1.4,\n",
    "    )\n",
    "\n",
    "    plt.xlabel(\"Number of objects\")\n",
    "    plt.ylabel(\"Time (seconds)\")"
   ]
  },
  {
   "cell_type": "code",
   "execution_count": 22,
   "id": "c651024b-eb30-4d50-b71c-8eaa17704acd",
   "metadata": {
    "execution": {
     "iopub.execute_input": "2023-09-11T17:28:49.119537Z",
     "iopub.status.busy": "2023-09-11T17:28:49.119470Z",
     "iopub.status.idle": "2023-09-11T17:28:50.198895Z",
     "shell.execute_reply": "2023-09-11T17:28:50.198667Z"
    },
    "papermill": {
     "duration": 1.090522,
     "end_time": "2023-09-11T17:28:50.199538",
     "exception": false,
     "start_time": "2023-09-11T17:28:49.109016",
     "status": "completed"
    },
    "tags": []
   },
   "outputs": [
    {
     "data": {
      "image/png": "[encoded data removed]",
      "text/plain": [
       "<Figure size 682.395x360 with 1 Axes>"
      ]
     },
     "metadata": {
      "needs_background": "light"
     },
     "output_type": "display_data"
    }
   ],
   "source": [
    "with sns.plotting_context(\"paper\", font_scale=1.5):\n",
    "    g = sns.catplot(\n",
    "        kind=\"point\",\n",
    "        data=plot_data,\n",
    "        x=\"data_size\",\n",
    "        y=\"time\",\n",
    "        hue=\"method\",\n",
    "        hue_order=hue_order,\n",
    "        palette=deep_colors,\n",
    "        height=5,\n",
    "        aspect=1.4,\n",
    "    )\n",
    "\n",
    "    plt.xlabel(\"Number of objects\")\n",
    "    plt.ylabel(\"Time (seconds) in log scale\")\n",
    "\n",
    "    g.ax.set_yscale(\"log\")"
   ]
  },
  {
   "cell_type": "markdown",
   "id": "d526030a-11a3-4084-bcc3-cd268d2b0599",
   "metadata": {
    "papermill": {
     "duration": 0.01022,
     "end_time": "2023-09-11T17:28:50.213493",
     "exception": false,
     "start_time": "2023-09-11T17:28:50.203273",
     "status": "completed"
    },
    "tags": []
   },
   "source": [
    "Only CCC is really taking advantage of more than 1 core, so I'll remove the rest below."
   ]
  },
  {
   "cell_type": "markdown",
   "id": "610e0cef-d404-4db2-9e88-f26451e0dd87",
   "metadata": {
    "papermill": {
     "duration": 0.003885,
     "end_time": "2023-09-11T17:28:50.220670",
     "exception": false,
     "start_time": "2023-09-11T17:28:50.216785",
     "status": "completed"
    },
    "tags": []
   },
   "source": [
    "# Final analysis"
   ]
  },
  {
   "cell_type": "code",
   "execution_count": 23,
   "id": "f7b788fe-666d-43ee-92d9-358c8451ada4",
   "metadata": {
    "execution": {
     "iopub.execute_input": "2023-09-11T17:28:50.227660Z",
     "iopub.status.busy": "2023-09-11T17:28:50.227597Z",
     "iopub.status.idle": "2023-09-11T17:28:50.230843Z",
     "shell.execute_reply": "2023-09-11T17:28:50.230677Z"
    },
    "papermill": {
     "duration": 0.007351,
     "end_time": "2023-09-11T17:28:50.231447",
     "exception": false,
     "start_time": "2023-09-11T17:28:50.224096",
     "status": "completed"
    },
    "tags": []
   },
   "outputs": [],
   "source": [
    "# select runs with 3 cores for the other methods\n",
    "plot_data = plot_data.replace(\n",
    "    {\n",
    "        \"method\": {\n",
    "            \"Pearson (6 cores)\": \"Pearson\",\n",
    "            \"Spearman (6 cores)\": \"Spearman\",\n",
    "            \"MIC (6 cores)\": \"MIC\",\n",
    "            \"MICe (6 cores)\": r\"$\\mathregular{MIC_e}$\",\n",
    "        }\n",
    "    }\n",
    ")"
   ]
  },
  {
   "cell_type": "code",
   "execution_count": 24,
   "id": "c0c8b101-25bb-4891-8a6a-f6d50870f13c",
   "metadata": {
    "execution": {
     "iopub.execute_input": "2023-09-11T17:28:50.238332Z",
     "iopub.status.busy": "2023-09-11T17:28:50.238221Z",
     "iopub.status.idle": "2023-09-11T17:28:50.240418Z",
     "shell.execute_reply": "2023-09-11T17:28:50.240293Z"
    },
    "papermill": {
     "duration": 0.006182,
     "end_time": "2023-09-11T17:28:50.240887",
     "exception": false,
     "start_time": "2023-09-11T17:28:50.234705",
     "status": "completed"
    },
    "tags": []
   },
   "outputs": [
    {
     "data": {
      "text/plain": [
       "array(['Pearson (1 core)', 'Spearman (1 core)', 'CCC (1 core)',\n",
       "       'MICe (1 core)', 'MIC (1 core)', 'Pearson (3 cores)',\n",
       "       'Spearman (3 cores)', 'CCC (3 cores)', 'MICe (3 cores)',\n",
       "       'MIC (3 cores)', 'Pearson', 'Spearman', 'CCC (6 cores)',\n",
       "       '$\\\\mathregular{MIC_e}$', 'MIC'], dtype=object)"
      ]
     },
     "execution_count": 24,
     "metadata": {},
     "output_type": "execute_result"
    }
   ],
   "source": [
    "plot_data[\"method\"].unique()"
   ]
  },
  {
   "cell_type": "code",
   "execution_count": 25,
   "id": "10d6b353-a3a8-4d69-9695-2e5a9311be86",
   "metadata": {
    "execution": {
     "iopub.execute_input": "2023-09-11T17:28:50.247853Z",
     "iopub.status.busy": "2023-09-11T17:28:50.247800Z",
     "iopub.status.idle": "2023-09-11T17:28:50.249136Z",
     "shell.execute_reply": "2023-09-11T17:28:50.248997Z"
    },
    "papermill": {
     "duration": 0.005383,
     "end_time": "2023-09-11T17:28:50.249565",
     "exception": false,
     "start_time": "2023-09-11T17:28:50.244182",
     "status": "completed"
    },
    "tags": []
   },
   "outputs": [],
   "source": [
    "hue_order = [\n",
    "    \"MIC\",\n",
    "    r\"$\\mathregular{MIC_e}$\",\n",
    "    \"CCC (1 core)\",\n",
    "    \"CCC (3 cores)\",\n",
    "    \"CCC (6 cores)\",\n",
    "    \"Spearman\",\n",
    "    \"Pearson\",\n",
    "]"
   ]
  },
  {
   "cell_type": "code",
   "execution_count": 26,
   "id": "35488a38-3d38-48a0-8039-3cb0605e4fe1",
   "metadata": {
    "execution": {
     "iopub.execute_input": "2023-09-11T17:28:50.256299Z",
     "iopub.status.busy": "2023-09-11T17:28:50.256227Z",
     "iopub.status.idle": "2023-09-11T17:28:50.920004Z",
     "shell.execute_reply": "2023-09-11T17:28:50.919652Z"
    },
    "papermill": {
     "duration": 0.667974,
     "end_time": "2023-09-11T17:28:50.920753",
     "exception": false,
     "start_time": "2023-09-11T17:28:50.252779",
     "status": "completed"
    },
    "tags": []
   },
   "outputs": [
    {
     "data": {
      "image/png": "[encoded data removed]",
      "text/plain": [
       "<Figure size 396x360 with 1 Axes>"
      ]
     },
     "metadata": {
      "needs_background": "light"
     },
     "output_type": "display_data"
    }
   ],
   "source": [
    "with sns.plotting_context(\"paper\", font_scale=1.5):\n",
    "    g = sns.catplot(\n",
    "        kind=\"point\",\n",
    "        data=plot_data,\n",
    "        x=\"data_size\",\n",
    "        y=\"time\",\n",
    "        hue=\"method\",\n",
    "        hue_order=hue_order,\n",
    "        palette=deep_colors,\n",
    "        height=5,\n",
    "        aspect=1.1,\n",
    "        legend=False,\n",
    "    )\n",
    "\n",
    "    plt.legend(loc=\"best\")\n",
    "    plt.xlabel(\"Number of objects\")\n",
    "    plt.ylabel(\"Time (seconds)\")\n",
    "\n",
    "    plt.savefig(\n",
    "        OUTPUT_FIGURE_DIR / f\"{INPUT_FILENAME_TEMPLATE}.svg\",\n",
    "        bbox_inches=\"tight\",\n",
    "        facecolor=\"white\",\n",
    "    )"
   ]
  },
  {
   "cell_type": "code",
   "execution_count": 27,
   "id": "f6f35635-3125-41ff-9e16-1b6b78314d20",
   "metadata": {
    "execution": {
     "iopub.execute_input": "2023-09-11T17:28:50.935142Z",
     "iopub.status.busy": "2023-09-11T17:28:50.935074Z",
     "iopub.status.idle": "2023-09-11T17:28:51.807489Z",
     "shell.execute_reply": "2023-09-11T17:28:51.807238Z"
    },
    "papermill": {
     "duration": 0.883579,
     "end_time": "2023-09-11T17:28:51.808236",
     "exception": false,
     "start_time": "2023-09-11T17:28:50.924657",
     "status": "completed"
    },
    "tags": []
   },
   "outputs": [
    {
     "data": {
      "image/png": "[encoded data removed]",
      "text/plain": [
       "<Figure size 396x360 with 1 Axes>"
      ]
     },
     "metadata": {
      "needs_background": "light"
     },
     "output_type": "display_data"
    }
   ],
   "source": [
    "with sns.plotting_context(\"paper\", font_scale=1.5):\n",
    "    g = sns.catplot(\n",
    "        kind=\"point\",\n",
    "        data=plot_data,\n",
    "        x=\"data_size\",\n",
    "        y=\"time\",\n",
    "        hue=\"method\",\n",
    "        hue_order=hue_order,\n",
    "        palette=deep_colors,\n",
    "        height=5,\n",
    "        aspect=1.1,\n",
    "        legend=False,\n",
    "    )\n",
    "\n",
    "    plt.legend(loc=\"best\", fontsize=\"small\", framealpha=0.5)\n",
    "    plt.xlabel(\"Number of objects\")\n",
    "    plt.ylabel(\"Time (seconds) in log scale\")\n",
    "    g.ax.set_yscale(\"log\")\n",
    "\n",
    "    plt.savefig(\n",
    "        OUTPUT_FIGURE_DIR / f\"{INPUT_FILENAME_TEMPLATE}-log.svg\",\n",
    "        bbox_inches=\"tight\",\n",
    "        facecolor=\"white\",\n",
    "    )"
   ]
  },
  {
   "cell_type": "markdown",
   "id": "7725ab7d-0cfd-41d2-a537-8e96e09cfcf5",
   "metadata": {
    "papermill": {
     "duration": 0.003687,
     "end_time": "2023-09-11T17:28:51.816050",
     "exception": false,
     "start_time": "2023-09-11T17:28:51.812363",
     "status": "completed"
    },
    "tags": []
   },
   "source": [
    "# Create final figure"
   ]
  },
  {
   "cell_type": "code",
   "execution_count": 28,
   "id": "80f45a4f-c990-4204-96dc-cab0e5c6b416",
   "metadata": {
    "execution": {
     "iopub.execute_input": "2023-09-11T17:28:51.823720Z",
     "iopub.status.busy": "2023-09-11T17:28:51.823636Z",
     "iopub.status.idle": "2023-09-11T17:28:51.829206Z",
     "shell.execute_reply": "2023-09-11T17:28:51.829044Z"
    },
    "papermill": {
     "duration": 0.010099,
     "end_time": "2023-09-11T17:28:51.829753",
     "exception": false,
     "start_time": "2023-09-11T17:28:51.819654",
     "status": "completed"
    },
    "tags": []
   },
   "outputs": [],
   "source": [
    "from svgutils.compose import Figure, SVG"
   ]
  },
  {
   "cell_type": "code",
   "execution_count": 29,
   "id": "b828ba84-8ffc-419c-bc03-d993c8c76623",
   "metadata": {
    "execution": {
     "iopub.execute_input": "2023-09-11T17:28:51.837773Z",
     "iopub.status.busy": "2023-09-11T17:28:51.837665Z",
     "iopub.status.idle": "2023-09-11T17:28:51.840735Z",
     "shell.execute_reply": "2023-09-11T17:28:51.840591Z"
    },
    "papermill": {
     "duration": 0.007571,
     "end_time": "2023-09-11T17:28:51.841333",
     "exception": false,
     "start_time": "2023-09-11T17:28:51.833762",
     "status": "completed"
    },
    "tags": []
   },
   "outputs": [],
   "source": [
    "Figure(\n",
    "    \"19.79335cm\",\n",
    "    \"17.09335cm\",\n",
    "    # white background\n",
    "    SVG(COEF_COMP_DIR / \"white_background.svg\").scale(0.5).move(0, 0),\n",
    "    # SVG(OUTPUT_FIGURE_DIR / \"time_test.svg\").scale(0.05),\n",
    "    SVG(OUTPUT_FIGURE_DIR / \"time_test-log.svg\").scale(0.05),\n",
    ").save(OUTPUT_FIGURE_DIR / \"time_test-main.svg\")"
   ]
  },
  {
   "cell_type": "markdown",
   "id": "c575367b-efad-4ad6-90b2-7aedcfdc83cb",
   "metadata": {
    "papermill": {
     "duration": 0.003593,
     "end_time": "2023-09-11T17:28:51.848543",
     "exception": false,
     "start_time": "2023-09-11T17:28:51.844950",
     "status": "completed"
    },
    "tags": []
   },
   "source": [
    "Compile the manuscript with manubot and make sure the image has a white background and displays properly."
   ]
  },
  {
   "cell_type": "code",
   "execution_count": null,
   "id": "4dd9bb5d-3376-4c74-8d04-5999db50509f",
   "metadata": {
    "papermill": {
     "duration": 0.003538,
     "end_time": "2023-09-11T17:28:51.855692",
     "exception": false,
     "start_time": "2023-09-11T17:28:51.852154",
     "status": "completed"
    },
    "tags": []
   },
   "outputs": [],
   "source": []
  }
 ],
 "metadata": {
  "jupytext": {
   "cell_metadata_filter": "all,-execution,-papermill,-trusted",
   "notebook_metadata_filter": "-jupytext.text_representation.jupytext_version"
  },
  "kernelspec": {
   "display_name": "Python 3 (ipykernel)",
   "language": "python",
   "name": "python3"
  },
  "language_info": {
   "codemirror_mode": {
    "name": "ipython",
    "version": 3
   },
   "file_extension": ".py",
   "mimetype": "text/x-python",
   "name": "python",
   "nbconvert_exporter": "python",
   "pygments_lexer": "ipython3",
   "version": "3.9.12"
  },
  "papermill": {
   "default_parameters": {},
   "duration": 5.133113,
   "end_time": "2023-09-11T17:28:52.076036",
   "environment_variables": {},
   "exception": null,
   "input_path": "nbs/99_manuscript/time_test/07-time_test-plot.ipynb",
   "output_path": "nbs/99_manuscript/time_test/07-time_test-plot.run.ipynb",
   "parameters": {
    "GTEX_TISSUE": "skin_sun_exposed_lower_leg"
   },
   "start_time": "2023-09-11T17:28:46.942923",
   "version": "2.3.3"
  }
 },
 "nbformat": 4,
 "nbformat_minor": 5
}
