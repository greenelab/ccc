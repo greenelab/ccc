{
 "cells": [
  {
   "cell_type": "markdown",
   "id": "c1948eb4-fb63-4fad-8243-bcd57b98def3",
   "metadata": {
    "papermill": {
     "duration": 0.008846,
     "end_time": "2023-10-04T20:30:26.611540",
     "exception": false,
     "start_time": "2023-10-04T20:30:26.602694",
     "status": "completed"
    },
    "tags": []
   },
   "source": [
    "# Description"
   ]
  },
  {
   "cell_type": "markdown",
   "id": "0abb1d73-c786-4c6d-9dc2-b9243e5183e2",
   "metadata": {
    "papermill": {
     "duration": 0.008019,
     "end_time": "2023-10-04T20:30:26.629955",
     "exception": false,
     "start_time": "2023-10-04T20:30:26.621936",
     "status": "completed"
    },
    "tags": []
   },
   "source": [
    "Make plots to show the computational complexity results comparing all coefficients."
   ]
  },
  {
   "cell_type": "markdown",
   "id": "d6252b4c-6d56-4cf0-aecd-5d8c769a3609",
   "metadata": {
    "papermill": {
     "duration": 0.007608,
     "end_time": "2023-10-04T20:30:26.644906",
     "exception": false,
     "start_time": "2023-10-04T20:30:26.637298",
     "status": "completed"
    },
    "tags": []
   },
   "source": [
    "# Modules loading"
   ]
  },
  {
   "cell_type": "code",
   "execution_count": 1,
   "id": "77e9d29d-5307-4b4a-b103-7d1fbd6a7e56",
   "metadata": {
    "execution": {
     "iopub.execute_input": "2023-10-04T20:30:26.662486Z",
     "iopub.status.busy": "2023-10-04T20:30:26.662261Z",
     "iopub.status.idle": "2023-10-04T20:30:27.695260Z",
     "shell.execute_reply": "2023-10-04T20:30:27.694768Z"
    },
    "papermill": {
     "duration": 1.043459,
     "end_time": "2023-10-04T20:30:27.696967",
     "exception": false,
     "start_time": "2023-10-04T20:30:26.653508",
     "status": "completed"
    },
    "tags": []
   },
   "outputs": [],
   "source": [
    "import pandas as pd\n",
    "import matplotlib.pyplot as plt\n",
    "import seaborn as sns\n",
    "\n",
    "from ccc import conf"
   ]
  },
  {
   "cell_type": "markdown",
   "id": "262eb535-3e5d-43d7-9efd-bd6cfdac9190",
   "metadata": {
    "papermill": {
     "duration": 0.007847,
     "end_time": "2023-10-04T20:30:27.713603",
     "exception": false,
     "start_time": "2023-10-04T20:30:27.705756",
     "status": "completed"
    },
    "tags": []
   },
   "source": [
    "# Settings"
   ]
  },
  {
   "cell_type": "code",
   "execution_count": 2,
   "id": "6efda92a-579a-49e2-893f-ec3a40db8a26",
   "metadata": {
    "execution": {
     "iopub.execute_input": "2023-10-04T20:30:27.729590Z",
     "iopub.status.busy": "2023-10-04T20:30:27.729487Z",
     "iopub.status.idle": "2023-10-04T20:30:27.731838Z",
     "shell.execute_reply": "2023-10-04T20:30:27.731485Z"
    },
    "papermill": {
     "duration": 0.012222,
     "end_time": "2023-10-04T20:30:27.733235",
     "exception": false,
     "start_time": "2023-10-04T20:30:27.721013",
     "status": "completed"
    },
    "tags": []
   },
   "outputs": [],
   "source": [
    "INPUT_FILENAME_TEMPLATE = \"time_test\""
   ]
  },
  {
   "cell_type": "markdown",
   "id": "eec9bb6d-4ba2-4817-9b36-bc8e68a2beae",
   "metadata": {
    "papermill": {
     "duration": 0.007857,
     "end_time": "2023-10-04T20:30:27.749730",
     "exception": false,
     "start_time": "2023-10-04T20:30:27.741873",
     "status": "completed"
    },
    "tags": []
   },
   "source": [
    "# Paths"
   ]
  },
  {
   "cell_type": "code",
   "execution_count": 3,
   "id": "413010af-a3b0-45a0-adb8-8559c06d228c",
   "metadata": {
    "execution": {
     "iopub.execute_input": "2023-10-04T20:30:27.765938Z",
     "iopub.status.busy": "2023-10-04T20:30:27.765780Z",
     "iopub.status.idle": "2023-10-04T20:30:27.768857Z",
     "shell.execute_reply": "2023-10-04T20:30:27.768384Z"
    },
    "papermill": {
     "duration": 0.012712,
     "end_time": "2023-10-04T20:30:27.770172",
     "exception": false,
     "start_time": "2023-10-04T20:30:27.757460",
     "status": "completed"
    },
    "tags": []
   },
   "outputs": [],
   "source": [
    "assert (\n",
    "    conf.MANUSCRIPT[\"BASE_DIR\"] is not None and conf.MANUSCRIPT[\"BASE_DIR\"].exists()\n",
    "), \"Manuscript dir not set\""
   ]
  },
  {
   "cell_type": "code",
   "execution_count": 4,
   "id": "456e7f20-5950-4cbf-8652-cf6e37fb6231",
   "metadata": {
    "execution": {
     "iopub.execute_input": "2023-10-04T20:30:27.787451Z",
     "iopub.status.busy": "2023-10-04T20:30:27.787025Z",
     "iopub.status.idle": "2023-10-04T20:30:27.793102Z",
     "shell.execute_reply": "2023-10-04T20:30:27.792583Z"
    },
    "papermill": {
     "duration": 0.016466,
     "end_time": "2023-10-04T20:30:27.794378",
     "exception": false,
     "start_time": "2023-10-04T20:30:27.777912",
     "status": "completed"
    },
    "tags": []
   },
   "outputs": [
    {
     "data": {
      "text/plain": [
       "PosixPath('/opt/manuscript/content/images/coefs_comp')"
      ]
     },
     "metadata": {},
     "output_type": "display_data"
    }
   ],
   "source": [
    "COEF_COMP_DIR = conf.MANUSCRIPT[\"FIGURES_DIR\"] / \"coefs_comp\"\n",
    "COEF_COMP_DIR.mkdir(parents=True, exist_ok=True)\n",
    "display(COEF_COMP_DIR)"
   ]
  },
  {
   "cell_type": "code",
   "execution_count": 5,
   "id": "2404761b-2931-4394-914e-e2cae9990d5c",
   "metadata": {
    "execution": {
     "iopub.execute_input": "2023-10-04T20:30:27.808628Z",
     "iopub.status.busy": "2023-10-04T20:30:27.808175Z",
     "iopub.status.idle": "2023-10-04T20:30:27.812318Z",
     "shell.execute_reply": "2023-10-04T20:30:27.811867Z"
    },
    "papermill": {
     "duration": 0.011813,
     "end_time": "2023-10-04T20:30:27.813133",
     "exception": false,
     "start_time": "2023-10-04T20:30:27.801320",
     "status": "completed"
    },
    "tags": []
   },
   "outputs": [
    {
     "data": {
      "text/plain": [
       "PosixPath('/opt/manuscript/content/images/coefs_comp/time_test')"
      ]
     },
     "metadata": {},
     "output_type": "display_data"
    }
   ],
   "source": [
    "OUTPUT_FIGURE_DIR = COEF_COMP_DIR / \"time_test\"\n",
    "OUTPUT_FIGURE_DIR.mkdir(parents=True, exist_ok=True)\n",
    "display(OUTPUT_FIGURE_DIR)"
   ]
  },
  {
   "cell_type": "code",
   "execution_count": 6,
   "id": "0b5ba2a4-54a7-4853-b804-cd2e5c476466",
   "metadata": {
    "execution": {
     "iopub.execute_input": "2023-10-04T20:30:27.821837Z",
     "iopub.status.busy": "2023-10-04T20:30:27.821483Z",
     "iopub.status.idle": "2023-10-04T20:30:27.825343Z",
     "shell.execute_reply": "2023-10-04T20:30:27.824884Z"
    },
    "papermill": {
     "duration": 0.009088,
     "end_time": "2023-10-04T20:30:27.826127",
     "exception": false,
     "start_time": "2023-10-04T20:30:27.817039",
     "status": "completed"
    },
    "tags": []
   },
   "outputs": [
    {
     "data": {
      "text/plain": [
       "PosixPath('/opt/data/results/time_test')"
      ]
     },
     "metadata": {},
     "output_type": "display_data"
    }
   ],
   "source": [
    "INPUT_DIR = conf.RESULTS_DIR / \"time_test\"\n",
    "display(INPUT_DIR)"
   ]
  },
  {
   "cell_type": "markdown",
   "id": "5b6ca2cf-6d86-48d8-aa42-5beaf6e0932b",
   "metadata": {
    "papermill": {
     "duration": 0.003932,
     "end_time": "2023-10-04T20:30:27.834025",
     "exception": false,
     "start_time": "2023-10-04T20:30:27.830093",
     "status": "completed"
    },
    "tags": []
   },
   "source": [
    "# Load results"
   ]
  },
  {
   "cell_type": "code",
   "execution_count": 7,
   "id": "d98986f3-badc-4760-8eed-e24b00ce2696",
   "metadata": {
    "execution": {
     "iopub.execute_input": "2023-10-04T20:30:27.842795Z",
     "iopub.status.busy": "2023-10-04T20:30:27.842642Z",
     "iopub.status.idle": "2023-10-04T20:30:27.848694Z",
     "shell.execute_reply": "2023-10-04T20:30:27.848341Z"
    },
    "papermill": {
     "duration": 0.011374,
     "end_time": "2023-10-04T20:30:27.849499",
     "exception": false,
     "start_time": "2023-10-04T20:30:27.838125",
     "status": "completed"
    },
    "tags": []
   },
   "outputs": [],
   "source": [
    "time_results = pd.read_pickle(INPUT_DIR / f\"{INPUT_FILENAME_TEMPLATE}.pkl\")"
   ]
  },
  {
   "cell_type": "code",
   "execution_count": 8,
   "id": "69511566-f1cd-4d19-ab2d-48d64b1e5055",
   "metadata": {
    "execution": {
     "iopub.execute_input": "2023-10-04T20:30:27.857967Z",
     "iopub.status.busy": "2023-10-04T20:30:27.857871Z",
     "iopub.status.idle": "2023-10-04T20:30:27.860683Z",
     "shell.execute_reply": "2023-10-04T20:30:27.860336Z"
    },
    "papermill": {
     "duration": 0.007913,
     "end_time": "2023-10-04T20:30:27.861481",
     "exception": false,
     "start_time": "2023-10-04T20:30:27.853568",
     "status": "completed"
    },
    "tags": []
   },
   "outputs": [
    {
     "data": {
      "text/plain": [
       "(15990, 4)"
      ]
     },
     "execution_count": 8,
     "metadata": {},
     "output_type": "execute_result"
    }
   ],
   "source": [
    "time_results.shape"
   ]
  },
  {
   "cell_type": "code",
   "execution_count": 9,
   "id": "6fc64cc3-264e-49a7-bbf9-af255e151118",
   "metadata": {
    "execution": {
     "iopub.execute_input": "2023-10-04T20:30:27.870123Z",
     "iopub.status.busy": "2023-10-04T20:30:27.870026Z",
     "iopub.status.idle": "2023-10-04T20:30:27.877996Z",
     "shell.execute_reply": "2023-10-04T20:30:27.877636Z"
    },
    "papermill": {
     "duration": 0.013242,
     "end_time": "2023-10-04T20:30:27.878795",
     "exception": false,
     "start_time": "2023-10-04T20:30:27.865553",
     "status": "completed"
    },
    "tags": []
   },
   "outputs": [
    {
     "data": {
      "text/html": [
       "<div>\n",
       "<style scoped>\n",
       "    .dataframe tbody tr th:only-of-type {\n",
       "        vertical-align: middle;\n",
       "    }\n",
       "\n",
       "    .dataframe tbody tr th {\n",
       "        vertical-align: top;\n",
       "    }\n",
       "\n",
       "    .dataframe thead th {\n",
       "        text-align: right;\n",
       "    }\n",
       "</style>\n",
       "<table border=\"1\" class=\"dataframe\">\n",
       "  <thead>\n",
       "    <tr style=\"text-align: right;\">\n",
       "      <th></th>\n",
       "      <th>data_size</th>\n",
       "      <th>method</th>\n",
       "      <th>time</th>\n",
       "      <th>sim</th>\n",
       "    </tr>\n",
       "  </thead>\n",
       "  <tbody>\n",
       "    <tr>\n",
       "      <th>0</th>\n",
       "      <td>100</td>\n",
       "      <td>p-1</td>\n",
       "      <td>0.000118</td>\n",
       "      <td>0.025538</td>\n",
       "    </tr>\n",
       "    <tr>\n",
       "      <th>1</th>\n",
       "      <td>100</td>\n",
       "      <td>p-1</td>\n",
       "      <td>0.000057</td>\n",
       "      <td>-0.151557</td>\n",
       "    </tr>\n",
       "    <tr>\n",
       "      <th>2</th>\n",
       "      <td>100</td>\n",
       "      <td>p-1</td>\n",
       "      <td>0.000057</td>\n",
       "      <td>-0.057741</td>\n",
       "    </tr>\n",
       "    <tr>\n",
       "      <th>3</th>\n",
       "      <td>100</td>\n",
       "      <td>p-1</td>\n",
       "      <td>0.000054</td>\n",
       "      <td>-0.015025</td>\n",
       "    </tr>\n",
       "    <tr>\n",
       "      <th>4</th>\n",
       "      <td>100</td>\n",
       "      <td>p-1</td>\n",
       "      <td>0.000056</td>\n",
       "      <td>0.061830</td>\n",
       "    </tr>\n",
       "  </tbody>\n",
       "</table>\n",
       "</div>"
      ],
      "text/plain": [
       "  data_size method      time       sim\n",
       "0       100    p-1  0.000118  0.025538\n",
       "1       100    p-1  0.000057 -0.151557\n",
       "2       100    p-1  0.000057 -0.057741\n",
       "3       100    p-1  0.000054 -0.015025\n",
       "4       100    p-1  0.000056  0.061830"
      ]
     },
     "execution_count": 9,
     "metadata": {},
     "output_type": "execute_result"
    }
   ],
   "source": [
    "time_results.head()"
   ]
  },
  {
   "cell_type": "code",
   "execution_count": 10,
   "id": "511fbab5-e6a0-47a0-8ab6-329f65719a83",
   "metadata": {
    "execution": {
     "iopub.execute_input": "2023-10-04T20:30:27.887597Z",
     "iopub.status.busy": "2023-10-04T20:30:27.887512Z",
     "iopub.status.idle": "2023-10-04T20:30:27.893098Z",
     "shell.execute_reply": "2023-10-04T20:30:27.892752Z"
    },
    "papermill": {
     "duration": 0.010889,
     "end_time": "2023-10-04T20:30:27.893874",
     "exception": false,
     "start_time": "2023-10-04T20:30:27.882985",
     "status": "completed"
    },
    "tags": []
   },
   "outputs": [
    {
     "data": {
      "text/plain": [
       "array(['p-1', 's-1', 'cm-1', 'mic_e-1', 'mic-1', 'p-3', 's-3', 'cm-3',\n",
       "       'mic_e-3', 'mic-3', 'p-6', 's-6', 'cm-6', 'mic_e-6', 'mic-6'],\n",
       "      dtype=object)"
      ]
     },
     "execution_count": 10,
     "metadata": {},
     "output_type": "execute_result"
    }
   ],
   "source": [
    "time_results[\"method\"].unique()"
   ]
  },
  {
   "cell_type": "markdown",
   "id": "c2fdf161-71ea-4943-96af-a13612e11736",
   "metadata": {
    "papermill": {
     "duration": 0.004145,
     "end_time": "2023-10-04T20:30:27.902135",
     "exception": false,
     "start_time": "2023-10-04T20:30:27.897990",
     "status": "completed"
    },
    "tags": []
   },
   "source": [
    "# Processing"
   ]
  },
  {
   "cell_type": "code",
   "execution_count": 11,
   "id": "81703394-a7f1-48d6-974a-b987b4dd4c4d",
   "metadata": {
    "execution": {
     "iopub.execute_input": "2023-10-04T20:30:27.911226Z",
     "iopub.status.busy": "2023-10-04T20:30:27.911126Z",
     "iopub.status.idle": "2023-10-04T20:30:27.925796Z",
     "shell.execute_reply": "2023-10-04T20:30:27.925325Z"
    },
    "papermill": {
     "duration": 0.020164,
     "end_time": "2023-10-04T20:30:27.926703",
     "exception": false,
     "start_time": "2023-10-04T20:30:27.906539",
     "status": "completed"
    },
    "tags": []
   },
   "outputs": [],
   "source": [
    "time_results = time_results.replace(\n",
    "    {\n",
    "        \"method\": {\n",
    "            \"p-1\": \"Pearson (1 core)\",\n",
    "            \"s-1\": \"Spearman (1 core)\",\n",
    "            \"cm-1\": \"CCC (1 core)\",\n",
    "            \"mic-1\": \"MIC (1 core)\",\n",
    "            \"mic_e-1\": \"MICe (1 core)\",\n",
    "            \"p-3\": \"Pearson (3 cores)\",\n",
    "            \"s-3\": \"Spearman (3 cores)\",\n",
    "            \"cm-3\": \"CCC (3 cores)\",\n",
    "            \"mic-3\": \"MIC (3 cores)\",\n",
    "            \"mic_e-3\": \"MICe (3 cores)\",\n",
    "            \"p-6\": \"Pearson (6 cores)\",\n",
    "            \"s-6\": \"Spearman (6 cores)\",\n",
    "            \"cm-6\": \"CCC (6 cores)\",\n",
    "            \"mic-6\": \"MIC (6 cores)\",\n",
    "            \"mic_e-6\": \"MICe (6 cores)\",\n",
    "        }\n",
    "    }\n",
    ")"
   ]
  },
  {
   "cell_type": "code",
   "execution_count": 12,
   "id": "e8b96624-7b6c-4ce7-a1c7-d8f2cabab649",
   "metadata": {
    "execution": {
     "iopub.execute_input": "2023-10-04T20:30:27.935986Z",
     "iopub.status.busy": "2023-10-04T20:30:27.935670Z",
     "iopub.status.idle": "2023-10-04T20:30:27.939206Z",
     "shell.execute_reply": "2023-10-04T20:30:27.938743Z"
    },
    "papermill": {
     "duration": 0.009069,
     "end_time": "2023-10-04T20:30:27.940036",
     "exception": false,
     "start_time": "2023-10-04T20:30:27.930967",
     "status": "completed"
    },
    "tags": []
   },
   "outputs": [
    {
     "data": {
      "text/plain": [
       "(15990, 4)"
      ]
     },
     "execution_count": 12,
     "metadata": {},
     "output_type": "execute_result"
    }
   ],
   "source": [
    "time_results.shape"
   ]
  },
  {
   "cell_type": "code",
   "execution_count": 13,
   "id": "6d49c62c-1fcb-4caa-b1f4-e7a224bd3c9b",
   "metadata": {
    "execution": {
     "iopub.execute_input": "2023-10-04T20:30:27.969397Z",
     "iopub.status.busy": "2023-10-04T20:30:27.968956Z",
     "iopub.status.idle": "2023-10-04T20:30:27.982482Z",
     "shell.execute_reply": "2023-10-04T20:30:27.981702Z"
    },
    "papermill": {
     "duration": 0.039092,
     "end_time": "2023-10-04T20:30:27.983541",
     "exception": false,
     "start_time": "2023-10-04T20:30:27.944449",
     "status": "completed"
    },
    "tags": []
   },
   "outputs": [
    {
     "data": {
      "text/html": [
       "<div>\n",
       "<style scoped>\n",
       "    .dataframe tbody tr th:only-of-type {\n",
       "        vertical-align: middle;\n",
       "    }\n",
       "\n",
       "    .dataframe tbody tr th {\n",
       "        vertical-align: top;\n",
       "    }\n",
       "\n",
       "    .dataframe thead th {\n",
       "        text-align: right;\n",
       "    }\n",
       "</style>\n",
       "<table border=\"1\" class=\"dataframe\">\n",
       "  <thead>\n",
       "    <tr style=\"text-align: right;\">\n",
       "      <th></th>\n",
       "      <th>data_size</th>\n",
       "      <th>method</th>\n",
       "      <th>time</th>\n",
       "      <th>sim</th>\n",
       "    </tr>\n",
       "  </thead>\n",
       "  <tbody>\n",
       "    <tr>\n",
       "      <th>0</th>\n",
       "      <td>100</td>\n",
       "      <td>Pearson (1 core)</td>\n",
       "      <td>0.000118</td>\n",
       "      <td>0.025538</td>\n",
       "    </tr>\n",
       "    <tr>\n",
       "      <th>1</th>\n",
       "      <td>100</td>\n",
       "      <td>Pearson (1 core)</td>\n",
       "      <td>0.000057</td>\n",
       "      <td>-0.151557</td>\n",
       "    </tr>\n",
       "    <tr>\n",
       "      <th>2</th>\n",
       "      <td>100</td>\n",
       "      <td>Pearson (1 core)</td>\n",
       "      <td>0.000057</td>\n",
       "      <td>-0.057741</td>\n",
       "    </tr>\n",
       "    <tr>\n",
       "      <th>3</th>\n",
       "      <td>100</td>\n",
       "      <td>Pearson (1 core)</td>\n",
       "      <td>0.000054</td>\n",
       "      <td>-0.015025</td>\n",
       "    </tr>\n",
       "    <tr>\n",
       "      <th>4</th>\n",
       "      <td>100</td>\n",
       "      <td>Pearson (1 core)</td>\n",
       "      <td>0.000056</td>\n",
       "      <td>0.061830</td>\n",
       "    </tr>\n",
       "  </tbody>\n",
       "</table>\n",
       "</div>"
      ],
      "text/plain": [
       "  data_size            method      time       sim\n",
       "0       100  Pearson (1 core)  0.000118  0.025538\n",
       "1       100  Pearson (1 core)  0.000057 -0.151557\n",
       "2       100  Pearson (1 core)  0.000057 -0.057741\n",
       "3       100  Pearson (1 core)  0.000054 -0.015025\n",
       "4       100  Pearson (1 core)  0.000056  0.061830"
      ]
     },
     "execution_count": 13,
     "metadata": {},
     "output_type": "execute_result"
    }
   ],
   "source": [
    "time_results.head()"
   ]
  },
  {
   "cell_type": "markdown",
   "id": "8b183907-359e-473a-ac51-cb6c388c2595",
   "metadata": {
    "papermill": {
     "duration": 0.004346,
     "end_time": "2023-10-04T20:30:27.993540",
     "exception": false,
     "start_time": "2023-10-04T20:30:27.989194",
     "status": "completed"
    },
    "tags": []
   },
   "source": [
    "# Run numbers"
   ]
  },
  {
   "cell_type": "code",
   "execution_count": 14,
   "id": "3eafa2a7-c008-46b9-9119-a745fe873535",
   "metadata": {
    "execution": {
     "iopub.execute_input": "2023-10-04T20:30:28.003323Z",
     "iopub.status.busy": "2023-10-04T20:30:28.003219Z",
     "iopub.status.idle": "2023-10-04T20:30:28.005208Z",
     "shell.execute_reply": "2023-10-04T20:30:28.004927Z"
    },
    "papermill": {
     "duration": 0.007995,
     "end_time": "2023-10-04T20:30:28.005931",
     "exception": false,
     "start_time": "2023-10-04T20:30:27.997936",
     "status": "completed"
    },
    "tags": []
   },
   "outputs": [],
   "source": [
    "plot_data = time_results"
   ]
  },
  {
   "cell_type": "code",
   "execution_count": 15,
   "id": "e1279b36-295c-45d2-a2f1-0388161c724f",
   "metadata": {
    "execution": {
     "iopub.execute_input": "2023-10-04T20:30:28.015258Z",
     "iopub.status.busy": "2023-10-04T20:30:28.015163Z",
     "iopub.status.idle": "2023-10-04T20:30:28.101793Z",
     "shell.execute_reply": "2023-10-04T20:30:28.101423Z"
    },
    "papermill": {
     "duration": 0.09279,
     "end_time": "2023-10-04T20:30:28.103165",
     "exception": false,
     "start_time": "2023-10-04T20:30:28.010375",
     "status": "completed"
    },
    "tags": []
   },
   "outputs": [
    {
     "data": {
      "text/html": [
       "<div>\n",
       "<style scoped>\n",
       "    .dataframe tbody tr th:only-of-type {\n",
       "        vertical-align: middle;\n",
       "    }\n",
       "\n",
       "    .dataframe tbody tr th {\n",
       "        vertical-align: top;\n",
       "    }\n",
       "\n",
       "    .dataframe thead th {\n",
       "        text-align: right;\n",
       "    }\n",
       "</style>\n",
       "<table border=\"1\" class=\"dataframe\">\n",
       "  <thead>\n",
       "    <tr style=\"text-align: right;\">\n",
       "      <th></th>\n",
       "      <th></th>\n",
       "      <th>count</th>\n",
       "      <th>mean</th>\n",
       "      <th>std</th>\n",
       "      <th>min</th>\n",
       "      <th>25%</th>\n",
       "      <th>50%</th>\n",
       "      <th>75%</th>\n",
       "      <th>max</th>\n",
       "    </tr>\n",
       "    <tr>\n",
       "      <th>data_size</th>\n",
       "      <th>method</th>\n",
       "      <th></th>\n",
       "      <th></th>\n",
       "      <th></th>\n",
       "      <th></th>\n",
       "      <th></th>\n",
       "      <th></th>\n",
       "      <th></th>\n",
       "      <th></th>\n",
       "    </tr>\n",
       "  </thead>\n",
       "  <tbody>\n",
       "    <tr>\n",
       "      <th rowspan=\"7\" valign=\"top\">100</th>\n",
       "      <th>CCC (1 core)</th>\n",
       "      <td>1000.0</td>\n",
       "      <td>0.000666</td>\n",
       "      <td>0.000023</td>\n",
       "      <td>0.000646</td>\n",
       "      <td>0.000655</td>\n",
       "      <td>0.000659</td>\n",
       "      <td>0.000665</td>\n",
       "      <td>0.000934</td>\n",
       "    </tr>\n",
       "    <tr>\n",
       "      <th>CCC (3 cores)</th>\n",
       "      <td>1000.0</td>\n",
       "      <td>0.001180</td>\n",
       "      <td>0.000431</td>\n",
       "      <td>0.000924</td>\n",
       "      <td>0.000986</td>\n",
       "      <td>0.001018</td>\n",
       "      <td>0.001178</td>\n",
       "      <td>0.005432</td>\n",
       "    </tr>\n",
       "    <tr>\n",
       "      <th>CCC (6 cores)</th>\n",
       "      <td>1000.0</td>\n",
       "      <td>0.002905</td>\n",
       "      <td>0.001565</td>\n",
       "      <td>0.001199</td>\n",
       "      <td>0.001655</td>\n",
       "      <td>0.002460</td>\n",
       "      <td>0.003683</td>\n",
       "      <td>0.008550</td>\n",
       "    </tr>\n",
       "    <tr>\n",
       "      <th>MIC (1 core)</th>\n",
       "      <td>1000.0</td>\n",
       "      <td>0.000727</td>\n",
       "      <td>0.000026</td>\n",
       "      <td>0.000653</td>\n",
       "      <td>0.000710</td>\n",
       "      <td>0.000727</td>\n",
       "      <td>0.000745</td>\n",
       "      <td>0.000808</td>\n",
       "    </tr>\n",
       "    <tr>\n",
       "      <th>MICe (1 core)</th>\n",
       "      <td>1000.0</td>\n",
       "      <td>0.000677</td>\n",
       "      <td>0.000023</td>\n",
       "      <td>0.000612</td>\n",
       "      <td>0.000661</td>\n",
       "      <td>0.000677</td>\n",
       "      <td>0.000694</td>\n",
       "      <td>0.000838</td>\n",
       "    </tr>\n",
       "    <tr>\n",
       "      <th>Pearson (1 core)</th>\n",
       "      <td>1000.0</td>\n",
       "      <td>0.000030</td>\n",
       "      <td>0.000004</td>\n",
       "      <td>0.000027</td>\n",
       "      <td>0.000029</td>\n",
       "      <td>0.000030</td>\n",
       "      <td>0.000031</td>\n",
       "      <td>0.000118</td>\n",
       "    </tr>\n",
       "    <tr>\n",
       "      <th>Spearman (1 core)</th>\n",
       "      <td>1000.0</td>\n",
       "      <td>0.000214</td>\n",
       "      <td>0.000009</td>\n",
       "      <td>0.000203</td>\n",
       "      <td>0.000210</td>\n",
       "      <td>0.000212</td>\n",
       "      <td>0.000215</td>\n",
       "      <td>0.000350</td>\n",
       "    </tr>\n",
       "    <tr>\n",
       "      <th rowspan=\"7\" valign=\"top\">500</th>\n",
       "      <th>CCC (1 core)</th>\n",
       "      <td>10.0</td>\n",
       "      <td>0.000996</td>\n",
       "      <td>0.000033</td>\n",
       "      <td>0.000957</td>\n",
       "      <td>0.000973</td>\n",
       "      <td>0.000985</td>\n",
       "      <td>0.001015</td>\n",
       "      <td>0.001062</td>\n",
       "    </tr>\n",
       "    <tr>\n",
       "      <th>CCC (3 cores)</th>\n",
       "      <td>10.0</td>\n",
       "      <td>0.001274</td>\n",
       "      <td>0.000284</td>\n",
       "      <td>0.001109</td>\n",
       "      <td>0.001122</td>\n",
       "      <td>0.001147</td>\n",
       "      <td>0.001194</td>\n",
       "      <td>0.001899</td>\n",
       "    </tr>\n",
       "    <tr>\n",
       "      <th>CCC (6 cores)</th>\n",
       "      <td>10.0</td>\n",
       "      <td>0.001447</td>\n",
       "      <td>0.000290</td>\n",
       "      <td>0.001295</td>\n",
       "      <td>0.001322</td>\n",
       "      <td>0.001350</td>\n",
       "      <td>0.001375</td>\n",
       "      <td>0.002254</td>\n",
       "    </tr>\n",
       "    <tr>\n",
       "      <th>MIC (1 core)</th>\n",
       "      <td>10.0</td>\n",
       "      <td>0.011661</td>\n",
       "      <td>0.000251</td>\n",
       "      <td>0.011321</td>\n",
       "      <td>0.011450</td>\n",
       "      <td>0.011652</td>\n",
       "      <td>0.011824</td>\n",
       "      <td>0.012024</td>\n",
       "    </tr>\n",
       "    <tr>\n",
       "      <th>MICe (1 core)</th>\n",
       "      <td>10.0</td>\n",
       "      <td>0.008910</td>\n",
       "      <td>0.000108</td>\n",
       "      <td>0.008762</td>\n",
       "      <td>0.008828</td>\n",
       "      <td>0.008900</td>\n",
       "      <td>0.008960</td>\n",
       "      <td>0.009083</td>\n",
       "    </tr>\n",
       "    <tr>\n",
       "      <th>Pearson (1 core)</th>\n",
       "      <td>10.0</td>\n",
       "      <td>0.000039</td>\n",
       "      <td>0.000019</td>\n",
       "      <td>0.000031</td>\n",
       "      <td>0.000032</td>\n",
       "      <td>0.000032</td>\n",
       "      <td>0.000033</td>\n",
       "      <td>0.000093</td>\n",
       "    </tr>\n",
       "    <tr>\n",
       "      <th>Spearman (1 core)</th>\n",
       "      <td>10.0</td>\n",
       "      <td>0.000268</td>\n",
       "      <td>0.000021</td>\n",
       "      <td>0.000253</td>\n",
       "      <td>0.000259</td>\n",
       "      <td>0.000259</td>\n",
       "      <td>0.000264</td>\n",
       "      <td>0.000324</td>\n",
       "    </tr>\n",
       "    <tr>\n",
       "      <th rowspan=\"7\" valign=\"top\">1000</th>\n",
       "      <th>CCC (1 core)</th>\n",
       "      <td>10.0</td>\n",
       "      <td>0.001497</td>\n",
       "      <td>0.000044</td>\n",
       "      <td>0.001446</td>\n",
       "      <td>0.001470</td>\n",
       "      <td>0.001495</td>\n",
       "      <td>0.001505</td>\n",
       "      <td>0.001604</td>\n",
       "    </tr>\n",
       "    <tr>\n",
       "      <th>CCC (3 cores)</th>\n",
       "      <td>10.0</td>\n",
       "      <td>0.001365</td>\n",
       "      <td>0.000128</td>\n",
       "      <td>0.001276</td>\n",
       "      <td>0.001284</td>\n",
       "      <td>0.001306</td>\n",
       "      <td>0.001377</td>\n",
       "      <td>0.001657</td>\n",
       "    </tr>\n",
       "    <tr>\n",
       "      <th>CCC (6 cores)</th>\n",
       "      <td>10.0</td>\n",
       "      <td>0.001611</td>\n",
       "      <td>0.000476</td>\n",
       "      <td>0.001371</td>\n",
       "      <td>0.001397</td>\n",
       "      <td>0.001405</td>\n",
       "      <td>0.001527</td>\n",
       "      <td>0.002923</td>\n",
       "    </tr>\n",
       "    <tr>\n",
       "      <th>MIC (1 core)</th>\n",
       "      <td>10.0</td>\n",
       "      <td>0.037298</td>\n",
       "      <td>0.000363</td>\n",
       "      <td>0.036865</td>\n",
       "      <td>0.037020</td>\n",
       "      <td>0.037245</td>\n",
       "      <td>0.037452</td>\n",
       "      <td>0.038009</td>\n",
       "    </tr>\n",
       "    <tr>\n",
       "      <th>MICe (1 core)</th>\n",
       "      <td>10.0</td>\n",
       "      <td>0.024814</td>\n",
       "      <td>0.000147</td>\n",
       "      <td>0.024626</td>\n",
       "      <td>0.024708</td>\n",
       "      <td>0.024785</td>\n",
       "      <td>0.024910</td>\n",
       "      <td>0.025089</td>\n",
       "    </tr>\n",
       "    <tr>\n",
       "      <th>Pearson (1 core)</th>\n",
       "      <td>10.0</td>\n",
       "      <td>0.000037</td>\n",
       "      <td>0.000008</td>\n",
       "      <td>0.000033</td>\n",
       "      <td>0.000034</td>\n",
       "      <td>0.000035</td>\n",
       "      <td>0.000035</td>\n",
       "      <td>0.000061</td>\n",
       "    </tr>\n",
       "    <tr>\n",
       "      <th>Spearman (1 core)</th>\n",
       "      <td>10.0</td>\n",
       "      <td>0.000310</td>\n",
       "      <td>0.000024</td>\n",
       "      <td>0.000299</td>\n",
       "      <td>0.000301</td>\n",
       "      <td>0.000302</td>\n",
       "      <td>0.000305</td>\n",
       "      <td>0.000379</td>\n",
       "    </tr>\n",
       "    <tr>\n",
       "      <th rowspan=\"7\" valign=\"top\">5000</th>\n",
       "      <th>CCC (1 core)</th>\n",
       "      <td>10.0</td>\n",
       "      <td>0.006793</td>\n",
       "      <td>0.000063</td>\n",
       "      <td>0.006712</td>\n",
       "      <td>0.006765</td>\n",
       "      <td>0.006775</td>\n",
       "      <td>0.006829</td>\n",
       "      <td>0.006928</td>\n",
       "    </tr>\n",
       "    <tr>\n",
       "      <th>CCC (3 cores)</th>\n",
       "      <td>10.0</td>\n",
       "      <td>0.003262</td>\n",
       "      <td>0.000390</td>\n",
       "      <td>0.002975</td>\n",
       "      <td>0.003026</td>\n",
       "      <td>0.003065</td>\n",
       "      <td>0.003399</td>\n",
       "      <td>0.004204</td>\n",
       "    </tr>\n",
       "    <tr>\n",
       "      <th>CCC (6 cores)</th>\n",
       "      <td>10.0</td>\n",
       "      <td>0.002539</td>\n",
       "      <td>0.000460</td>\n",
       "      <td>0.002175</td>\n",
       "      <td>0.002208</td>\n",
       "      <td>0.002308</td>\n",
       "      <td>0.002678</td>\n",
       "      <td>0.003393</td>\n",
       "    </tr>\n",
       "    <tr>\n",
       "      <th>MIC (1 core)</th>\n",
       "      <td>10.0</td>\n",
       "      <td>0.511349</td>\n",
       "      <td>0.002060</td>\n",
       "      <td>0.507993</td>\n",
       "      <td>0.509668</td>\n",
       "      <td>0.511725</td>\n",
       "      <td>0.512740</td>\n",
       "      <td>0.514248</td>\n",
       "    </tr>\n",
       "    <tr>\n",
       "      <th>MICe (1 core)</th>\n",
       "      <td>10.0</td>\n",
       "      <td>0.228765</td>\n",
       "      <td>0.000574</td>\n",
       "      <td>0.228005</td>\n",
       "      <td>0.228221</td>\n",
       "      <td>0.228935</td>\n",
       "      <td>0.229103</td>\n",
       "      <td>0.229720</td>\n",
       "    </tr>\n",
       "    <tr>\n",
       "      <th>Pearson (1 core)</th>\n",
       "      <td>10.0</td>\n",
       "      <td>0.000052</td>\n",
       "      <td>0.000018</td>\n",
       "      <td>0.000044</td>\n",
       "      <td>0.000045</td>\n",
       "      <td>0.000046</td>\n",
       "      <td>0.000048</td>\n",
       "      <td>0.000103</td>\n",
       "    </tr>\n",
       "    <tr>\n",
       "      <th>Spearman (1 core)</th>\n",
       "      <td>10.0</td>\n",
       "      <td>0.000659</td>\n",
       "      <td>0.000021</td>\n",
       "      <td>0.000637</td>\n",
       "      <td>0.000648</td>\n",
       "      <td>0.000653</td>\n",
       "      <td>0.000664</td>\n",
       "      <td>0.000710</td>\n",
       "    </tr>\n",
       "    <tr>\n",
       "      <th rowspan=\"7\" valign=\"top\">10000</th>\n",
       "      <th>CCC (1 core)</th>\n",
       "      <td>10.0</td>\n",
       "      <td>0.013926</td>\n",
       "      <td>0.000147</td>\n",
       "      <td>0.013725</td>\n",
       "      <td>0.013791</td>\n",
       "      <td>0.013957</td>\n",
       "      <td>0.014004</td>\n",
       "      <td>0.014183</td>\n",
       "    </tr>\n",
       "    <tr>\n",
       "      <th>CCC (3 cores)</th>\n",
       "      <td>10.0</td>\n",
       "      <td>0.005708</td>\n",
       "      <td>0.000460</td>\n",
       "      <td>0.005355</td>\n",
       "      <td>0.005407</td>\n",
       "      <td>0.005513</td>\n",
       "      <td>0.005857</td>\n",
       "      <td>0.006720</td>\n",
       "    </tr>\n",
       "    <tr>\n",
       "      <th>CCC (6 cores)</th>\n",
       "      <td>10.0</td>\n",
       "      <td>0.003717</td>\n",
       "      <td>0.000440</td>\n",
       "      <td>0.003421</td>\n",
       "      <td>0.003458</td>\n",
       "      <td>0.003479</td>\n",
       "      <td>0.003778</td>\n",
       "      <td>0.004629</td>\n",
       "    </tr>\n",
       "    <tr>\n",
       "      <th>MIC (1 core)</th>\n",
       "      <td>10.0</td>\n",
       "      <td>1.599225</td>\n",
       "      <td>0.007866</td>\n",
       "      <td>1.589486</td>\n",
       "      <td>1.592898</td>\n",
       "      <td>1.598954</td>\n",
       "      <td>1.602274</td>\n",
       "      <td>1.614192</td>\n",
       "    </tr>\n",
       "    <tr>\n",
       "      <th>MICe (1 core)</th>\n",
       "      <td>10.0</td>\n",
       "      <td>0.573671</td>\n",
       "      <td>0.001753</td>\n",
       "      <td>0.570994</td>\n",
       "      <td>0.572642</td>\n",
       "      <td>0.573382</td>\n",
       "      <td>0.574477</td>\n",
       "      <td>0.576731</td>\n",
       "    </tr>\n",
       "    <tr>\n",
       "      <th>Pearson (1 core)</th>\n",
       "      <td>10.0</td>\n",
       "      <td>0.000064</td>\n",
       "      <td>0.000015</td>\n",
       "      <td>0.000056</td>\n",
       "      <td>0.000057</td>\n",
       "      <td>0.000059</td>\n",
       "      <td>0.000060</td>\n",
       "      <td>0.000106</td>\n",
       "    </tr>\n",
       "    <tr>\n",
       "      <th>Spearman (1 core)</th>\n",
       "      <td>10.0</td>\n",
       "      <td>0.001155</td>\n",
       "      <td>0.000044</td>\n",
       "      <td>0.001117</td>\n",
       "      <td>0.001134</td>\n",
       "      <td>0.001137</td>\n",
       "      <td>0.001160</td>\n",
       "      <td>0.001269</td>\n",
       "    </tr>\n",
       "    <tr>\n",
       "      <th rowspan=\"6\" valign=\"top\">50000</th>\n",
       "      <th>CCC (1 core)</th>\n",
       "      <td>10.0</td>\n",
       "      <td>0.080076</td>\n",
       "      <td>0.000550</td>\n",
       "      <td>0.079234</td>\n",
       "      <td>0.079672</td>\n",
       "      <td>0.080013</td>\n",
       "      <td>0.080354</td>\n",
       "      <td>0.080988</td>\n",
       "    </tr>\n",
       "    <tr>\n",
       "      <th>CCC (3 cores)</th>\n",
       "      <td>10.0</td>\n",
       "      <td>0.028608</td>\n",
       "      <td>0.000566</td>\n",
       "      <td>0.028075</td>\n",
       "      <td>0.028203</td>\n",
       "      <td>0.028290</td>\n",
       "      <td>0.029134</td>\n",
       "      <td>0.029519</td>\n",
       "    </tr>\n",
       "    <tr>\n",
       "      <th>CCC (6 cores)</th>\n",
       "      <td>10.0</td>\n",
       "      <td>0.015810</td>\n",
       "      <td>0.001452</td>\n",
       "      <td>0.014696</td>\n",
       "      <td>0.014856</td>\n",
       "      <td>0.015215</td>\n",
       "      <td>0.016154</td>\n",
       "      <td>0.018974</td>\n",
       "    </tr>\n",
       "    <tr>\n",
       "      <th>MICe (1 core)</th>\n",
       "      <td>10.0</td>\n",
       "      <td>4.864497</td>\n",
       "      <td>0.006380</td>\n",
       "      <td>4.850308</td>\n",
       "      <td>4.861545</td>\n",
       "      <td>4.866688</td>\n",
       "      <td>4.868495</td>\n",
       "      <td>4.871700</td>\n",
       "    </tr>\n",
       "    <tr>\n",
       "      <th>Pearson (1 core)</th>\n",
       "      <td>10.0</td>\n",
       "      <td>0.000203</td>\n",
       "      <td>0.000119</td>\n",
       "      <td>0.000161</td>\n",
       "      <td>0.000163</td>\n",
       "      <td>0.000164</td>\n",
       "      <td>0.000166</td>\n",
       "      <td>0.000540</td>\n",
       "    </tr>\n",
       "    <tr>\n",
       "      <th>Spearman (1 core)</th>\n",
       "      <td>10.0</td>\n",
       "      <td>0.006219</td>\n",
       "      <td>0.000161</td>\n",
       "      <td>0.005955</td>\n",
       "      <td>0.006125</td>\n",
       "      <td>0.006252</td>\n",
       "      <td>0.006295</td>\n",
       "      <td>0.006465</td>\n",
       "    </tr>\n",
       "    <tr>\n",
       "      <th rowspan=\"5\" valign=\"top\">100000</th>\n",
       "      <th>CCC (1 core)</th>\n",
       "      <td>10.0</td>\n",
       "      <td>0.170097</td>\n",
       "      <td>0.003155</td>\n",
       "      <td>0.167927</td>\n",
       "      <td>0.169018</td>\n",
       "      <td>0.169151</td>\n",
       "      <td>0.169565</td>\n",
       "      <td>0.178941</td>\n",
       "    </tr>\n",
       "    <tr>\n",
       "      <th>CCC (3 cores)</th>\n",
       "      <td>10.0</td>\n",
       "      <td>0.059770</td>\n",
       "      <td>0.001582</td>\n",
       "      <td>0.058275</td>\n",
       "      <td>0.058881</td>\n",
       "      <td>0.059308</td>\n",
       "      <td>0.060158</td>\n",
       "      <td>0.063790</td>\n",
       "    </tr>\n",
       "    <tr>\n",
       "      <th>CCC (6 cores)</th>\n",
       "      <td>10.0</td>\n",
       "      <td>0.032998</td>\n",
       "      <td>0.002454</td>\n",
       "      <td>0.030348</td>\n",
       "      <td>0.031832</td>\n",
       "      <td>0.032132</td>\n",
       "      <td>0.033526</td>\n",
       "      <td>0.038858</td>\n",
       "    </tr>\n",
       "    <tr>\n",
       "      <th>Pearson (1 core)</th>\n",
       "      <td>10.0</td>\n",
       "      <td>0.000366</td>\n",
       "      <td>0.000182</td>\n",
       "      <td>0.000305</td>\n",
       "      <td>0.000307</td>\n",
       "      <td>0.000308</td>\n",
       "      <td>0.000311</td>\n",
       "      <td>0.000884</td>\n",
       "    </tr>\n",
       "    <tr>\n",
       "      <th>Spearman (1 core)</th>\n",
       "      <td>10.0</td>\n",
       "      <td>0.013535</td>\n",
       "      <td>0.000294</td>\n",
       "      <td>0.013243</td>\n",
       "      <td>0.013410</td>\n",
       "      <td>0.013445</td>\n",
       "      <td>0.013620</td>\n",
       "      <td>0.014261</td>\n",
       "    </tr>\n",
       "    <tr>\n",
       "      <th rowspan=\"5\" valign=\"top\">1000000</th>\n",
       "      <th>CCC (1 core)</th>\n",
       "      <td>10.0</td>\n",
       "      <td>2.372261</td>\n",
       "      <td>0.020208</td>\n",
       "      <td>2.342887</td>\n",
       "      <td>2.353920</td>\n",
       "      <td>2.375304</td>\n",
       "      <td>2.384286</td>\n",
       "      <td>2.399567</td>\n",
       "    </tr>\n",
       "    <tr>\n",
       "      <th>CCC (3 cores)</th>\n",
       "      <td>10.0</td>\n",
       "      <td>0.905189</td>\n",
       "      <td>0.008474</td>\n",
       "      <td>0.890630</td>\n",
       "      <td>0.902639</td>\n",
       "      <td>0.905078</td>\n",
       "      <td>0.909522</td>\n",
       "      <td>0.919601</td>\n",
       "    </tr>\n",
       "    <tr>\n",
       "      <th>CCC (6 cores)</th>\n",
       "      <td>10.0</td>\n",
       "      <td>0.530131</td>\n",
       "      <td>0.004317</td>\n",
       "      <td>0.523327</td>\n",
       "      <td>0.528355</td>\n",
       "      <td>0.530512</td>\n",
       "      <td>0.533296</td>\n",
       "      <td>0.536659</td>\n",
       "    </tr>\n",
       "    <tr>\n",
       "      <th>Pearson (1 core)</th>\n",
       "      <td>10.0</td>\n",
       "      <td>0.008773</td>\n",
       "      <td>0.000673</td>\n",
       "      <td>0.007965</td>\n",
       "      <td>0.008258</td>\n",
       "      <td>0.008672</td>\n",
       "      <td>0.009222</td>\n",
       "      <td>0.009776</td>\n",
       "    </tr>\n",
       "    <tr>\n",
       "      <th>Spearman (1 core)</th>\n",
       "      <td>10.0</td>\n",
       "      <td>0.173665</td>\n",
       "      <td>0.002054</td>\n",
       "      <td>0.171339</td>\n",
       "      <td>0.172453</td>\n",
       "      <td>0.173316</td>\n",
       "      <td>0.173888</td>\n",
       "      <td>0.178616</td>\n",
       "    </tr>\n",
       "    <tr>\n",
       "      <th rowspan=\"5\" valign=\"top\">10000000</th>\n",
       "      <th>CCC (1 core)</th>\n",
       "      <td>10.0</td>\n",
       "      <td>42.193259</td>\n",
       "      <td>0.063420</td>\n",
       "      <td>42.062988</td>\n",
       "      <td>42.182212</td>\n",
       "      <td>42.203911</td>\n",
       "      <td>42.239484</td>\n",
       "      <td>42.264917</td>\n",
       "    </tr>\n",
       "    <tr>\n",
       "      <th>CCC (3 cores)</th>\n",
       "      <td>10.0</td>\n",
       "      <td>15.931200</td>\n",
       "      <td>0.056833</td>\n",
       "      <td>15.842030</td>\n",
       "      <td>15.904740</td>\n",
       "      <td>15.936955</td>\n",
       "      <td>15.943822</td>\n",
       "      <td>16.022609</td>\n",
       "    </tr>\n",
       "    <tr>\n",
       "      <th>CCC (6 cores)</th>\n",
       "      <td>10.0</td>\n",
       "      <td>9.127771</td>\n",
       "      <td>0.038662</td>\n",
       "      <td>9.079449</td>\n",
       "      <td>9.098720</td>\n",
       "      <td>9.134821</td>\n",
       "      <td>9.141066</td>\n",
       "      <td>9.206474</td>\n",
       "    </tr>\n",
       "    <tr>\n",
       "      <th>Pearson (1 core)</th>\n",
       "      <td>10.0</td>\n",
       "      <td>0.094113</td>\n",
       "      <td>0.000407</td>\n",
       "      <td>0.093457</td>\n",
       "      <td>0.093811</td>\n",
       "      <td>0.094069</td>\n",
       "      <td>0.094484</td>\n",
       "      <td>0.094678</td>\n",
       "    </tr>\n",
       "    <tr>\n",
       "      <th>Spearman (1 core)</th>\n",
       "      <td>10.0</td>\n",
       "      <td>2.944272</td>\n",
       "      <td>0.007667</td>\n",
       "      <td>2.931134</td>\n",
       "      <td>2.939322</td>\n",
       "      <td>2.942643</td>\n",
       "      <td>2.951746</td>\n",
       "      <td>2.954069</td>\n",
       "    </tr>\n",
       "  </tbody>\n",
       "</table>\n",
       "</div>"
      ],
      "text/plain": [
       "                              count       mean       std        min  \\\n",
       "data_size method                                                      \n",
       "100       CCC (1 core)       1000.0   0.000666  0.000023   0.000646   \n",
       "          CCC (3 cores)      1000.0   0.001180  0.000431   0.000924   \n",
       "          CCC (6 cores)      1000.0   0.002905  0.001565   0.001199   \n",
       "          MIC (1 core)       1000.0   0.000727  0.000026   0.000653   \n",
       "          MICe (1 core)      1000.0   0.000677  0.000023   0.000612   \n",
       "          Pearson (1 core)   1000.0   0.000030  0.000004   0.000027   \n",
       "          Spearman (1 core)  1000.0   0.000214  0.000009   0.000203   \n",
       "500       CCC (1 core)         10.0   0.000996  0.000033   0.000957   \n",
       "          CCC (3 cores)        10.0   0.001274  0.000284   0.001109   \n",
       "          CCC (6 cores)        10.0   0.001447  0.000290   0.001295   \n",
       "          MIC (1 core)         10.0   0.011661  0.000251   0.011321   \n",
       "          MICe (1 core)        10.0   0.008910  0.000108   0.008762   \n",
       "          Pearson (1 core)     10.0   0.000039  0.000019   0.000031   \n",
       "          Spearman (1 core)    10.0   0.000268  0.000021   0.000253   \n",
       "1000      CCC (1 core)         10.0   0.001497  0.000044   0.001446   \n",
       "          CCC (3 cores)        10.0   0.001365  0.000128   0.001276   \n",
       "          CCC (6 cores)        10.0   0.001611  0.000476   0.001371   \n",
       "          MIC (1 core)         10.0   0.037298  0.000363   0.036865   \n",
       "          MICe (1 core)        10.0   0.024814  0.000147   0.024626   \n",
       "          Pearson (1 core)     10.0   0.000037  0.000008   0.000033   \n",
       "          Spearman (1 core)    10.0   0.000310  0.000024   0.000299   \n",
       "5000      CCC (1 core)         10.0   0.006793  0.000063   0.006712   \n",
       "          CCC (3 cores)        10.0   0.003262  0.000390   0.002975   \n",
       "          CCC (6 cores)        10.0   0.002539  0.000460   0.002175   \n",
       "          MIC (1 core)         10.0   0.511349  0.002060   0.507993   \n",
       "          MICe (1 core)        10.0   0.228765  0.000574   0.228005   \n",
       "          Pearson (1 core)     10.0   0.000052  0.000018   0.000044   \n",
       "          Spearman (1 core)    10.0   0.000659  0.000021   0.000637   \n",
       "10000     CCC (1 core)         10.0   0.013926  0.000147   0.013725   \n",
       "          CCC (3 cores)        10.0   0.005708  0.000460   0.005355   \n",
       "          CCC (6 cores)        10.0   0.003717  0.000440   0.003421   \n",
       "          MIC (1 core)         10.0   1.599225  0.007866   1.589486   \n",
       "          MICe (1 core)        10.0   0.573671  0.001753   0.570994   \n",
       "          Pearson (1 core)     10.0   0.000064  0.000015   0.000056   \n",
       "          Spearman (1 core)    10.0   0.001155  0.000044   0.001117   \n",
       "50000     CCC (1 core)         10.0   0.080076  0.000550   0.079234   \n",
       "          CCC (3 cores)        10.0   0.028608  0.000566   0.028075   \n",
       "          CCC (6 cores)        10.0   0.015810  0.001452   0.014696   \n",
       "          MICe (1 core)        10.0   4.864497  0.006380   4.850308   \n",
       "          Pearson (1 core)     10.0   0.000203  0.000119   0.000161   \n",
       "          Spearman (1 core)    10.0   0.006219  0.000161   0.005955   \n",
       "100000    CCC (1 core)         10.0   0.170097  0.003155   0.167927   \n",
       "          CCC (3 cores)        10.0   0.059770  0.001582   0.058275   \n",
       "          CCC (6 cores)        10.0   0.032998  0.002454   0.030348   \n",
       "          Pearson (1 core)     10.0   0.000366  0.000182   0.000305   \n",
       "          Spearman (1 core)    10.0   0.013535  0.000294   0.013243   \n",
       "1000000   CCC (1 core)         10.0   2.372261  0.020208   2.342887   \n",
       "          CCC (3 cores)        10.0   0.905189  0.008474   0.890630   \n",
       "          CCC (6 cores)        10.0   0.530131  0.004317   0.523327   \n",
       "          Pearson (1 core)     10.0   0.008773  0.000673   0.007965   \n",
       "          Spearman (1 core)    10.0   0.173665  0.002054   0.171339   \n",
       "10000000  CCC (1 core)         10.0  42.193259  0.063420  42.062988   \n",
       "          CCC (3 cores)        10.0  15.931200  0.056833  15.842030   \n",
       "          CCC (6 cores)        10.0   9.127771  0.038662   9.079449   \n",
       "          Pearson (1 core)     10.0   0.094113  0.000407   0.093457   \n",
       "          Spearman (1 core)    10.0   2.944272  0.007667   2.931134   \n",
       "\n",
       "                                   25%        50%        75%        max  \n",
       "data_size method                                                         \n",
       "100       CCC (1 core)        0.000655   0.000659   0.000665   0.000934  \n",
       "          CCC (3 cores)       0.000986   0.001018   0.001178   0.005432  \n",
       "          CCC (6 cores)       0.001655   0.002460   0.003683   0.008550  \n",
       "          MIC (1 core)        0.000710   0.000727   0.000745   0.000808  \n",
       "          MICe (1 core)       0.000661   0.000677   0.000694   0.000838  \n",
       "          Pearson (1 core)    0.000029   0.000030   0.000031   0.000118  \n",
       "          Spearman (1 core)   0.000210   0.000212   0.000215   0.000350  \n",
       "500       CCC (1 core)        0.000973   0.000985   0.001015   0.001062  \n",
       "          CCC (3 cores)       0.001122   0.001147   0.001194   0.001899  \n",
       "          CCC (6 cores)       0.001322   0.001350   0.001375   0.002254  \n",
       "          MIC (1 core)        0.011450   0.011652   0.011824   0.012024  \n",
       "          MICe (1 core)       0.008828   0.008900   0.008960   0.009083  \n",
       "          Pearson (1 core)    0.000032   0.000032   0.000033   0.000093  \n",
       "          Spearman (1 core)   0.000259   0.000259   0.000264   0.000324  \n",
       "1000      CCC (1 core)        0.001470   0.001495   0.001505   0.001604  \n",
       "          CCC (3 cores)       0.001284   0.001306   0.001377   0.001657  \n",
       "          CCC (6 cores)       0.001397   0.001405   0.001527   0.002923  \n",
       "          MIC (1 core)        0.037020   0.037245   0.037452   0.038009  \n",
       "          MICe (1 core)       0.024708   0.024785   0.024910   0.025089  \n",
       "          Pearson (1 core)    0.000034   0.000035   0.000035   0.000061  \n",
       "          Spearman (1 core)   0.000301   0.000302   0.000305   0.000379  \n",
       "5000      CCC (1 core)        0.006765   0.006775   0.006829   0.006928  \n",
       "          CCC (3 cores)       0.003026   0.003065   0.003399   0.004204  \n",
       "          CCC (6 cores)       0.002208   0.002308   0.002678   0.003393  \n",
       "          MIC (1 core)        0.509668   0.511725   0.512740   0.514248  \n",
       "          MICe (1 core)       0.228221   0.228935   0.229103   0.229720  \n",
       "          Pearson (1 core)    0.000045   0.000046   0.000048   0.000103  \n",
       "          Spearman (1 core)   0.000648   0.000653   0.000664   0.000710  \n",
       "10000     CCC (1 core)        0.013791   0.013957   0.014004   0.014183  \n",
       "          CCC (3 cores)       0.005407   0.005513   0.005857   0.006720  \n",
       "          CCC (6 cores)       0.003458   0.003479   0.003778   0.004629  \n",
       "          MIC (1 core)        1.592898   1.598954   1.602274   1.614192  \n",
       "          MICe (1 core)       0.572642   0.573382   0.574477   0.576731  \n",
       "          Pearson (1 core)    0.000057   0.000059   0.000060   0.000106  \n",
       "          Spearman (1 core)   0.001134   0.001137   0.001160   0.001269  \n",
       "50000     CCC (1 core)        0.079672   0.080013   0.080354   0.080988  \n",
       "          CCC (3 cores)       0.028203   0.028290   0.029134   0.029519  \n",
       "          CCC (6 cores)       0.014856   0.015215   0.016154   0.018974  \n",
       "          MICe (1 core)       4.861545   4.866688   4.868495   4.871700  \n",
       "          Pearson (1 core)    0.000163   0.000164   0.000166   0.000540  \n",
       "          Spearman (1 core)   0.006125   0.006252   0.006295   0.006465  \n",
       "100000    CCC (1 core)        0.169018   0.169151   0.169565   0.178941  \n",
       "          CCC (3 cores)       0.058881   0.059308   0.060158   0.063790  \n",
       "          CCC (6 cores)       0.031832   0.032132   0.033526   0.038858  \n",
       "          Pearson (1 core)    0.000307   0.000308   0.000311   0.000884  \n",
       "          Spearman (1 core)   0.013410   0.013445   0.013620   0.014261  \n",
       "1000000   CCC (1 core)        2.353920   2.375304   2.384286   2.399567  \n",
       "          CCC (3 cores)       0.902639   0.905078   0.909522   0.919601  \n",
       "          CCC (6 cores)       0.528355   0.530512   0.533296   0.536659  \n",
       "          Pearson (1 core)    0.008258   0.008672   0.009222   0.009776  \n",
       "          Spearman (1 core)   0.172453   0.173316   0.173888   0.178616  \n",
       "10000000  CCC (1 core)       42.182212  42.203911  42.239484  42.264917  \n",
       "          CCC (3 cores)      15.904740  15.936955  15.943822  16.022609  \n",
       "          CCC (6 cores)       9.098720   9.134821   9.141066   9.206474  \n",
       "          Pearson (1 core)    0.093811   0.094069   0.094484   0.094678  \n",
       "          Spearman (1 core)   2.939322   2.942643   2.951746   2.954069  "
      ]
     },
     "metadata": {},
     "output_type": "display_data"
    }
   ],
   "source": [
    "run_numbers = (\n",
    "    plot_data[\n",
    "        plot_data[\"method\"].str.contains(\"1 core\", regex=False)\n",
    "        | plot_data[\"method\"].str.contains(\"CCC (3 cores)\", regex=False)\n",
    "        | plot_data[\"method\"].str.contains(\"CCC (6 cores)\", regex=False)\n",
    "    ]\n",
    "    .groupby([\"data_size\", \"method\"])[\"time\"]\n",
    "    .describe()\n",
    ")\n",
    "display(run_numbers)"
   ]
  },
  {
   "cell_type": "code",
   "execution_count": 16,
   "id": "ffb6a620-e832-4b8e-bfe2-e211a381000e",
   "metadata": {
    "execution": {
     "iopub.execute_input": "2023-10-04T20:30:28.123003Z",
     "iopub.status.busy": "2023-10-04T20:30:28.122901Z",
     "iopub.status.idle": "2023-10-04T20:30:28.125701Z",
     "shell.execute_reply": "2023-10-04T20:30:28.125338Z"
    },
    "papermill": {
     "duration": 0.013754,
     "end_time": "2023-10-04T20:30:28.127169",
     "exception": false,
     "start_time": "2023-10-04T20:30:28.113415",
     "status": "completed"
    },
    "tags": []
   },
   "outputs": [],
   "source": [
    "# this is necessary to make sure we did not mix results when running the time test notebooks\n",
    "# that could happen if the notebooks are run separately without running them all together\n",
    "assert run_numbers[\"count\"].unique().shape[0] == 2"
   ]
  },
  {
   "cell_type": "markdown",
   "id": "772f2cd8-22b9-4106-93e2-1c8063370356",
   "metadata": {
    "papermill": {
     "duration": 0.009655,
     "end_time": "2023-10-04T20:30:28.146402",
     "exception": false,
     "start_time": "2023-10-04T20:30:28.136747",
     "status": "completed"
    },
    "tags": []
   },
   "source": [
    "# Plot"
   ]
  },
  {
   "cell_type": "code",
   "execution_count": 17,
   "id": "3b4ffedd-661b-40da-b323-4d29f38c3b72",
   "metadata": {
    "execution": {
     "iopub.execute_input": "2023-10-04T20:30:28.166586Z",
     "iopub.status.busy": "2023-10-04T20:30:28.166488Z",
     "iopub.status.idle": "2023-10-04T20:30:28.169110Z",
     "shell.execute_reply": "2023-10-04T20:30:28.168708Z"
    },
    "papermill": {
     "duration": 0.013973,
     "end_time": "2023-10-04T20:30:28.170363",
     "exception": false,
     "start_time": "2023-10-04T20:30:28.156390",
     "status": "completed"
    },
    "tags": []
   },
   "outputs": [],
   "source": [
    "hue_order = sorted(time_results[\"method\"].unique())"
   ]
  },
  {
   "cell_type": "code",
   "execution_count": 18,
   "id": "cc263e22-bbc0-4d20-953f-ec6fd0a624b8",
   "metadata": {
    "execution": {
     "iopub.execute_input": "2023-10-04T20:30:28.189337Z",
     "iopub.status.busy": "2023-10-04T20:30:28.189056Z",
     "iopub.status.idle": "2023-10-04T20:30:28.192393Z",
     "shell.execute_reply": "2023-10-04T20:30:28.191941Z"
    },
    "papermill": {
     "duration": 0.013367,
     "end_time": "2023-10-04T20:30:28.193199",
     "exception": false,
     "start_time": "2023-10-04T20:30:28.179832",
     "status": "completed"
    },
    "tags": []
   },
   "outputs": [
    {
     "data": {
      "text/plain": [
       "['CCC (1 core)',\n",
       " 'CCC (3 cores)',\n",
       " 'CCC (6 cores)',\n",
       " 'MIC (1 core)',\n",
       " 'MIC (3 cores)',\n",
       " 'MIC (6 cores)',\n",
       " 'MICe (1 core)',\n",
       " 'MICe (3 cores)',\n",
       " 'MICe (6 cores)',\n",
       " 'Pearson (1 core)',\n",
       " 'Pearson (3 cores)',\n",
       " 'Pearson (6 cores)',\n",
       " 'Spearman (1 core)',\n",
       " 'Spearman (3 cores)',\n",
       " 'Spearman (6 cores)']"
      ]
     },
     "execution_count": 18,
     "metadata": {},
     "output_type": "execute_result"
    }
   ],
   "source": [
    "hue_order"
   ]
  },
  {
   "cell_type": "code",
   "execution_count": 19,
   "id": "e3c79816-6703-4236-b55a-c6dc38d4d600",
   "metadata": {
    "execution": {
     "iopub.execute_input": "2023-10-04T20:30:28.203791Z",
     "iopub.status.busy": "2023-10-04T20:30:28.203431Z",
     "iopub.status.idle": "2023-10-04T20:30:28.208275Z",
     "shell.execute_reply": "2023-10-04T20:30:28.207823Z"
    },
    "papermill": {
     "duration": 0.011117,
     "end_time": "2023-10-04T20:30:28.209095",
     "exception": false,
     "start_time": "2023-10-04T20:30:28.197978",
     "status": "completed"
    },
    "tags": []
   },
   "outputs": [
    {
     "data": {
      "text/html": [
       "<svg  width=\"660\" height=\"55\"><rect x=\"0\" y=\"0\" width=\"55\" height=\"55\" style=\"fill:#a6cee3;stroke-width:2;stroke:rgb(255,255,255)\"/><rect x=\"55\" y=\"0\" width=\"55\" height=\"55\" style=\"fill:#1f78b4;stroke-width:2;stroke:rgb(255,255,255)\"/><rect x=\"110\" y=\"0\" width=\"55\" height=\"55\" style=\"fill:#b2df8a;stroke-width:2;stroke:rgb(255,255,255)\"/><rect x=\"165\" y=\"0\" width=\"55\" height=\"55\" style=\"fill:#33a02c;stroke-width:2;stroke:rgb(255,255,255)\"/><rect x=\"220\" y=\"0\" width=\"55\" height=\"55\" style=\"fill:#fb9a99;stroke-width:2;stroke:rgb(255,255,255)\"/><rect x=\"275\" y=\"0\" width=\"55\" height=\"55\" style=\"fill:#e31a1c;stroke-width:2;stroke:rgb(255,255,255)\"/><rect x=\"330\" y=\"0\" width=\"55\" height=\"55\" style=\"fill:#fdbf6f;stroke-width:2;stroke:rgb(255,255,255)\"/><rect x=\"385\" y=\"0\" width=\"55\" height=\"55\" style=\"fill:#ff7f00;stroke-width:2;stroke:rgb(255,255,255)\"/><rect x=\"440\" y=\"0\" width=\"55\" height=\"55\" style=\"fill:#cab2d6;stroke-width:2;stroke:rgb(255,255,255)\"/><rect x=\"495\" y=\"0\" width=\"55\" height=\"55\" style=\"fill:#6a3d9a;stroke-width:2;stroke:rgb(255,255,255)\"/><rect x=\"550\" y=\"0\" width=\"55\" height=\"55\" style=\"fill:#ffff99;stroke-width:2;stroke:rgb(255,255,255)\"/><rect x=\"605\" y=\"0\" width=\"55\" height=\"55\" style=\"fill:#b15928;stroke-width:2;stroke:rgb(255,255,255)\"/></svg>"
      ],
      "text/plain": [
       "[(0.6509803921568628, 0.807843137254902, 0.8901960784313725),\n",
       " (0.12156862745098039, 0.47058823529411764, 0.7058823529411765),\n",
       " (0.6980392156862745, 0.8745098039215686, 0.5411764705882353),\n",
       " (0.2, 0.6274509803921569, 0.17254901960784313),\n",
       " (0.984313725490196, 0.6039215686274509, 0.6),\n",
       " (0.8901960784313725, 0.10196078431372549, 0.10980392156862745),\n",
       " (0.9921568627450981, 0.7490196078431373, 0.43529411764705883),\n",
       " (1.0, 0.4980392156862745, 0.0),\n",
       " (0.792156862745098, 0.6980392156862745, 0.8392156862745098),\n",
       " (0.41568627450980394, 0.23921568627450981, 0.6039215686274509),\n",
       " (1.0, 1.0, 0.6),\n",
       " (0.6941176470588235, 0.34901960784313724, 0.1568627450980392)]"
      ]
     },
     "metadata": {},
     "output_type": "display_data"
    }
   ],
   "source": [
    "deep_colors = sns.color_palette(\"Paired\")\n",
    "display(deep_colors)"
   ]
  },
  {
   "cell_type": "code",
   "execution_count": 20,
   "id": "59249512-0a19-4868-b5a0-5dc4e271c8af",
   "metadata": {
    "execution": {
     "iopub.execute_input": "2023-10-04T20:30:28.221414Z",
     "iopub.status.busy": "2023-10-04T20:30:28.221263Z",
     "iopub.status.idle": "2023-10-04T20:30:28.231200Z",
     "shell.execute_reply": "2023-10-04T20:30:28.230730Z"
    },
    "papermill": {
     "duration": 0.016925,
     "end_time": "2023-10-04T20:30:28.232042",
     "exception": false,
     "start_time": "2023-10-04T20:30:28.215117",
     "status": "completed"
    },
    "tags": []
   },
   "outputs": [],
   "source": [
    "def format_data_size(x):\n",
    "    if x < 1000:\n",
    "        return f\"{int(x)}\"\n",
    "    elif x < 1000000:\n",
    "        return f\"{int(x/1000)}k\"\n",
    "\n",
    "    return f\"{int(x/1000000)}m\"\n",
    "\n",
    "\n",
    "plot_data = plot_data.assign(data_size=plot_data[\"data_size\"].apply(format_data_size))"
   ]
  },
  {
   "cell_type": "markdown",
   "id": "c581b4df-26fe-43e2-ba23-3595534c7ea2",
   "metadata": {
    "papermill": {
     "duration": 0.004799,
     "end_time": "2023-10-04T20:30:28.241964",
     "exception": false,
     "start_time": "2023-10-04T20:30:28.237165",
     "status": "completed"
    },
    "tags": []
   },
   "source": [
    "## First analysis"
   ]
  },
  {
   "cell_type": "markdown",
   "id": "5fcb16ca-07a6-41b9-aa18-f22b84194e71",
   "metadata": {
    "papermill": {
     "duration": 0.004816,
     "end_time": "2023-10-04T20:30:28.251761",
     "exception": false,
     "start_time": "2023-10-04T20:30:28.246945",
     "status": "completed"
    },
    "tags": []
   },
   "source": [
    "Here I take a look if using more than 1 core benefits methods."
   ]
  },
  {
   "cell_type": "code",
   "execution_count": 21,
   "id": "09151d37-4dd2-4c1f-ab4a-94b4d3e79018",
   "metadata": {
    "execution": {
     "iopub.execute_input": "2023-10-04T20:30:28.262586Z",
     "iopub.status.busy": "2023-10-04T20:30:28.262152Z",
     "iopub.status.idle": "2023-10-04T20:30:30.217834Z",
     "shell.execute_reply": "2023-10-04T20:30:30.217435Z"
    },
    "papermill": {
     "duration": 1.963004,
     "end_time": "2023-10-04T20:30:30.219702",
     "exception": false,
     "start_time": "2023-10-04T20:30:28.256698",
     "status": "completed"
    },
    "tags": []
   },
   "outputs": [
    {
     "data": {
      "image/png": "[encoded data removed]",
      "text/plain": [
       "<Figure size 682.395x360 with 1 Axes>"
      ]
     },
     "metadata": {
      "needs_background": "light"
     },
     "output_type": "display_data"
    }
   ],
   "source": [
    "with sns.plotting_context(\"paper\", font_scale=1.5):\n",
    "    g = sns.catplot(\n",
    "        kind=\"point\",\n",
    "        data=plot_data,\n",
    "        x=\"data_size\",\n",
    "        y=\"time\",\n",
    "        hue=\"method\",\n",
    "        hue_order=hue_order,\n",
    "        palette=deep_colors,\n",
    "        height=5,\n",
    "        aspect=1.4,\n",
    "    )\n",
    "\n",
    "    plt.xlabel(\"Number of objects\")\n",
    "    plt.ylabel(\"Time (seconds)\")"
   ]
  },
  {
   "cell_type": "code",
   "execution_count": 22,
   "id": "c651024b-eb30-4d50-b71c-8eaa17704acd",
   "metadata": {
    "execution": {
     "iopub.execute_input": "2023-10-04T20:30:30.242638Z",
     "iopub.status.busy": "2023-10-04T20:30:30.242533Z",
     "iopub.status.idle": "2023-10-04T20:30:32.456140Z",
     "shell.execute_reply": "2023-10-04T20:30:32.455732Z"
    },
    "papermill": {
     "duration": 2.226635,
     "end_time": "2023-10-04T20:30:32.458022",
     "exception": false,
     "start_time": "2023-10-04T20:30:30.231387",
     "status": "completed"
    },
    "tags": []
   },
   "outputs": [
    {
     "data": {
      "image/png": "[encoded data removed]",
      "text/plain": [
       "<Figure size 682.395x360 with 1 Axes>"
      ]
     },
     "metadata": {
      "needs_background": "light"
     },
     "output_type": "display_data"
    }
   ],
   "source": [
    "with sns.plotting_context(\"paper\", font_scale=1.5):\n",
    "    g = sns.catplot(\n",
    "        kind=\"point\",\n",
    "        data=plot_data,\n",
    "        x=\"data_size\",\n",
    "        y=\"time\",\n",
    "        hue=\"method\",\n",
    "        hue_order=hue_order,\n",
    "        palette=deep_colors,\n",
    "        height=5,\n",
    "        aspect=1.4,\n",
    "    )\n",
    "\n",
    "    plt.xlabel(\"Number of objects\")\n",
    "    plt.ylabel(\"Time (seconds) in log scale\")\n",
    "\n",
    "    g.ax.set_yscale(\"log\")"
   ]
  },
  {
   "cell_type": "markdown",
   "id": "d526030a-11a3-4084-bcc3-cd268d2b0599",
   "metadata": {
    "papermill": {
     "duration": 0.011877,
     "end_time": "2023-10-04T20:30:32.482941",
     "exception": false,
     "start_time": "2023-10-04T20:30:32.471064",
     "status": "completed"
    },
    "tags": []
   },
   "source": [
    "Only CCC is really taking advantage of more than 1 core, so I'll remove the rest below."
   ]
  },
  {
   "cell_type": "markdown",
   "id": "610e0cef-d404-4db2-9e88-f26451e0dd87",
   "metadata": {
    "papermill": {
     "duration": 0.011242,
     "end_time": "2023-10-04T20:30:32.506040",
     "exception": false,
     "start_time": "2023-10-04T20:30:32.494798",
     "status": "completed"
    },
    "tags": []
   },
   "source": [
    "# Final analysis"
   ]
  },
  {
   "cell_type": "code",
   "execution_count": 23,
   "id": "f7b788fe-666d-43ee-92d9-358c8451ada4",
   "metadata": {
    "execution": {
     "iopub.execute_input": "2023-10-04T20:30:32.532297Z",
     "iopub.status.busy": "2023-10-04T20:30:32.532127Z",
     "iopub.status.idle": "2023-10-04T20:30:32.538674Z",
     "shell.execute_reply": "2023-10-04T20:30:32.538227Z"
    },
    "papermill": {
     "duration": 0.020915,
     "end_time": "2023-10-04T20:30:32.539933",
     "exception": false,
     "start_time": "2023-10-04T20:30:32.519018",
     "status": "completed"
    },
    "tags": []
   },
   "outputs": [],
   "source": [
    "# select runs with 3 cores for the other methods\n",
    "plot_data = plot_data.replace(\n",
    "    {\n",
    "        \"method\": {\n",
    "            \"Pearson (6 cores)\": \"Pearson\",\n",
    "            \"Spearman (6 cores)\": \"Spearman\",\n",
    "            \"MIC (6 cores)\": \"MIC\",\n",
    "            \"MICe (6 cores)\": r\"$\\mathregular{MIC_e}$\",\n",
    "        }\n",
    "    }\n",
    ")"
   ]
  },
  {
   "cell_type": "code",
   "execution_count": 24,
   "id": "c0c8b101-25bb-4891-8a6a-f6d50870f13c",
   "metadata": {
    "execution": {
     "iopub.execute_input": "2023-10-04T20:30:32.563898Z",
     "iopub.status.busy": "2023-10-04T20:30:32.563771Z",
     "iopub.status.idle": "2023-10-04T20:30:32.568633Z",
     "shell.execute_reply": "2023-10-04T20:30:32.568172Z"
    },
    "papermill": {
     "duration": 0.016622,
     "end_time": "2023-10-04T20:30:32.569429",
     "exception": false,
     "start_time": "2023-10-04T20:30:32.552807",
     "status": "completed"
    },
    "tags": []
   },
   "outputs": [
    {
     "data": {
      "text/plain": [
       "array(['Pearson (1 core)', 'Spearman (1 core)', 'CCC (1 core)',\n",
       "       'MICe (1 core)', 'MIC (1 core)', 'Pearson (3 cores)',\n",
       "       'Spearman (3 cores)', 'CCC (3 cores)', 'MICe (3 cores)',\n",
       "       'MIC (3 cores)', 'Pearson', 'Spearman', 'CCC (6 cores)',\n",
       "       '$\\\\mathregular{MIC_e}$', 'MIC'], dtype=object)"
      ]
     },
     "execution_count": 24,
     "metadata": {},
     "output_type": "execute_result"
    }
   ],
   "source": [
    "plot_data[\"method\"].unique()"
   ]
  },
  {
   "cell_type": "code",
   "execution_count": 25,
   "id": "10d6b353-a3a8-4d69-9695-2e5a9311be86",
   "metadata": {
    "execution": {
     "iopub.execute_input": "2023-10-04T20:30:32.582471Z",
     "iopub.status.busy": "2023-10-04T20:30:32.582094Z",
     "iopub.status.idle": "2023-10-04T20:30:32.585108Z",
     "shell.execute_reply": "2023-10-04T20:30:32.584590Z"
    },
    "papermill": {
     "duration": 0.010402,
     "end_time": "2023-10-04T20:30:32.585913",
     "exception": false,
     "start_time": "2023-10-04T20:30:32.575511",
     "status": "completed"
    },
    "tags": []
   },
   "outputs": [],
   "source": [
    "hue_order = [\n",
    "    \"MIC\",\n",
    "    r\"$\\mathregular{MIC_e}$\",\n",
    "    \"CCC (1 core)\",\n",
    "    \"CCC (3 cores)\",\n",
    "    \"Spearman\",\n",
    "    \"Pearson\",\n",
    "]"
   ]
  },
  {
   "cell_type": "code",
   "execution_count": 26,
   "id": "35488a38-3d38-48a0-8039-3cb0605e4fe1",
   "metadata": {
    "execution": {
     "iopub.execute_input": "2023-10-04T20:30:32.599040Z",
     "iopub.status.busy": "2023-10-04T20:30:32.598734Z",
     "iopub.status.idle": "2023-10-04T20:30:33.753036Z",
     "shell.execute_reply": "2023-10-04T20:30:33.752582Z"
    },
    "papermill": {
     "duration": 1.162236,
     "end_time": "2023-10-04T20:30:33.754320",
     "exception": false,
     "start_time": "2023-10-04T20:30:32.592084",
     "status": "completed"
    },
    "tags": []
   },
   "outputs": [
    {
     "data": {
      "image/png": "[encoded data removed]",
      "text/plain": [
       "<Figure size 396x360 with 1 Axes>"
      ]
     },
     "metadata": {
      "needs_background": "light"
     },
     "output_type": "display_data"
    }
   ],
   "source": [
    "with sns.plotting_context(\"paper\", font_scale=1.5):\n",
    "    g = sns.catplot(\n",
    "        kind=\"point\",\n",
    "        data=plot_data,\n",
    "        x=\"data_size\",\n",
    "        y=\"time\",\n",
    "        hue=\"method\",\n",
    "        hue_order=hue_order,\n",
    "        palette=deep_colors,\n",
    "        height=5,\n",
    "        aspect=1.1,\n",
    "        legend=False,\n",
    "    )\n",
    "\n",
    "    plt.legend(loc=\"best\")\n",
    "    plt.xlabel(\"Number of objects\")\n",
    "    plt.ylabel(\"Time (seconds)\")\n",
    "\n",
    "    plt.savefig(\n",
    "        OUTPUT_FIGURE_DIR / f\"{INPUT_FILENAME_TEMPLATE}.svg\",\n",
    "        bbox_inches=\"tight\",\n",
    "        facecolor=\"white\",\n",
    "    )"
   ]
  },
  {
   "cell_type": "code",
   "execution_count": 27,
   "id": "f6f35635-3125-41ff-9e16-1b6b78314d20",
   "metadata": {
    "execution": {
     "iopub.execute_input": "2023-10-04T20:30:33.780733Z",
     "iopub.status.busy": "2023-10-04T20:30:33.780644Z",
     "iopub.status.idle": "2023-10-04T20:30:35.387836Z",
     "shell.execute_reply": "2023-10-04T20:30:35.387444Z"
    },
    "papermill": {
     "duration": 1.621945,
     "end_time": "2023-10-04T20:30:35.389536",
     "exception": false,
     "start_time": "2023-10-04T20:30:33.767591",
     "status": "completed"
    },
    "tags": []
   },
   "outputs": [
    {
     "data": {
      "image/png": "[encoded data removed]",
      "text/plain": [
       "<Figure size 396x360 with 1 Axes>"
      ]
     },
     "metadata": {
      "needs_background": "light"
     },
     "output_type": "display_data"
    }
   ],
   "source": [
    "with sns.plotting_context(\"paper\", font_scale=1.5):\n",
    "    g = sns.catplot(\n",
    "        kind=\"point\",\n",
    "        data=plot_data,\n",
    "        x=\"data_size\",\n",
    "        y=\"time\",\n",
    "        hue=\"method\",\n",
    "        hue_order=hue_order,\n",
    "        palette=deep_colors,\n",
    "        height=5,\n",
    "        aspect=1.1,\n",
    "        legend=False,\n",
    "    )\n",
    "\n",
    "    plt.legend(loc=\"best\", fontsize=\"small\", framealpha=0.5)\n",
    "    plt.xlabel(\"Number of objects\")\n",
    "    plt.ylabel(\"Time (seconds) in log scale\")\n",
    "    g.ax.set_yscale(\"log\")\n",
    "\n",
    "    plt.savefig(\n",
    "        OUTPUT_FIGURE_DIR / f\"{INPUT_FILENAME_TEMPLATE}-log.svg\",\n",
    "        bbox_inches=\"tight\",\n",
    "        facecolor=\"white\",\n",
    "    )"
   ]
  },
  {
   "cell_type": "markdown",
   "id": "7725ab7d-0cfd-41d2-a537-8e96e09cfcf5",
   "metadata": {
    "papermill": {
     "duration": 0.012888,
     "end_time": "2023-10-04T20:30:35.416663",
     "exception": false,
     "start_time": "2023-10-04T20:30:35.403775",
     "status": "completed"
    },
    "tags": []
   },
   "source": [
    "# Create final figure"
   ]
  },
  {
   "cell_type": "code",
   "execution_count": 28,
   "id": "80f45a4f-c990-4204-96dc-cab0e5c6b416",
   "metadata": {
    "execution": {
     "iopub.execute_input": "2023-10-04T20:30:35.444377Z",
     "iopub.status.busy": "2023-10-04T20:30:35.444273Z",
     "iopub.status.idle": "2023-10-04T20:30:35.453786Z",
     "shell.execute_reply": "2023-10-04T20:30:35.453412Z"
    },
    "papermill": {
     "duration": 0.0248,
     "end_time": "2023-10-04T20:30:35.455033",
     "exception": false,
     "start_time": "2023-10-04T20:30:35.430233",
     "status": "completed"
    },
    "tags": []
   },
   "outputs": [],
   "source": [
    "from svgutils.compose import Figure, SVG"
   ]
  },
  {
   "cell_type": "code",
   "execution_count": 29,
   "id": "b828ba84-8ffc-419c-bc03-d993c8c76623",
   "metadata": {
    "execution": {
     "iopub.execute_input": "2023-10-04T20:30:35.482263Z",
     "iopub.status.busy": "2023-10-04T20:30:35.482174Z",
     "iopub.status.idle": "2023-10-04T20:30:35.488259Z",
     "shell.execute_reply": "2023-10-04T20:30:35.487758Z"
    },
    "papermill": {
     "duration": 0.020694,
     "end_time": "2023-10-04T20:30:35.489563",
     "exception": false,
     "start_time": "2023-10-04T20:30:35.468869",
     "status": "completed"
    },
    "tags": []
   },
   "outputs": [],
   "source": [
    "Figure(\n",
    "    \"19.79335cm\",\n",
    "    \"17.09335cm\",\n",
    "    # white background\n",
    "    SVG(COEF_COMP_DIR / \"white_background.svg\").scale(0.5).move(0, 0),\n",
    "    # SVG(OUTPUT_FIGURE_DIR / \"time_test.svg\").scale(0.05),\n",
    "    SVG(OUTPUT_FIGURE_DIR / \"time_test-log.svg\").scale(0.05),\n",
    ").save(OUTPUT_FIGURE_DIR / \"time_test-main.svg\")"
   ]
  },
  {
   "cell_type": "markdown",
   "id": "c575367b-efad-4ad6-90b2-7aedcfdc83cb",
   "metadata": {
    "papermill": {
     "duration": 0.011777,
     "end_time": "2023-10-04T20:30:35.514349",
     "exception": false,
     "start_time": "2023-10-04T20:30:35.502572",
     "status": "completed"
    },
    "tags": []
   },
   "source": [
    "Compile the manuscript with manubot and make sure the image has a white background and displays properly."
   ]
  },
  {
   "cell_type": "code",
   "execution_count": null,
   "id": "4dd9bb5d-3376-4c74-8d04-5999db50509f",
   "metadata": {
    "papermill": {
     "duration": 0.006623,
     "end_time": "2023-10-04T20:30:35.527934",
     "exception": false,
     "start_time": "2023-10-04T20:30:35.521311",
     "status": "completed"
    },
    "tags": []
   },
   "outputs": [],
   "source": []
  }
 ],
 "metadata": {
  "jupytext": {
   "cell_metadata_filter": "all,-execution,-papermill,-trusted",
   "notebook_metadata_filter": "-jupytext.text_representation.jupytext_version"
  },
  "kernelspec": {
   "display_name": "Python 3 (ipykernel)",
   "language": "python",
   "name": "python3"
  },
  "language_info": {
   "codemirror_mode": {
    "name": "ipython",
    "version": 3
   },
   "file_extension": ".py",
   "mimetype": "text/x-python",
   "name": "python",
   "nbconvert_exporter": "python",
   "pygments_lexer": "ipython3",
   "version": "3.9.12"
  },
  "papermill": {
   "default_parameters": {},
   "duration": 10.265832,
   "end_time": "2023-10-04T20:30:35.850428",
   "environment_variables": {},
   "exception": null,
   "input_path": "nbs/99_manuscript/time_test/07-time_test-plot.ipynb",
   "output_path": "nbs/99_manuscript/time_test/07-time_test-plot.run.ipynb",
   "parameters": {
    "GTEX_TISSUE": "skin_sun_exposed_lower_leg"
   },
   "start_time": "2023-10-04T20:30:25.584596",
   "version": "2.3.3"
  }
 },
 "nbformat": 4,
 "nbformat_minor": 5
}
