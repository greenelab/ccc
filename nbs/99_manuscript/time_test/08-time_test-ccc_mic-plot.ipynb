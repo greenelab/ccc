{
 "cells": [
  {
   "cell_type": "markdown",
   "id": "c1948eb4-fb63-4fad-8243-bcd57b98def3",
   "metadata": {
    "papermill": {
     "duration": 0.043688,
     "end_time": "2022-01-28T21:06:31.001528",
     "exception": false,
     "start_time": "2022-01-28T21:06:30.957840",
     "status": "completed"
    },
    "tags": []
   },
   "source": [
    "# Description"
   ]
  },
  {
   "cell_type": "markdown",
   "id": "0abb1d73-c786-4c6d-9dc2-b9243e5183e2",
   "metadata": {
    "papermill": {
     "duration": 0.036913,
     "end_time": "2022-01-28T21:06:31.075451",
     "exception": false,
     "start_time": "2022-01-28T21:06:31.038538",
     "status": "completed"
    },
    "tags": []
   },
   "source": [
    "TODO"
   ]
  },
  {
   "cell_type": "markdown",
   "id": "d6252b4c-6d56-4cf0-aecd-5d8c769a3609",
   "metadata": {
    "papermill": {
     "duration": 0.036915,
     "end_time": "2022-01-28T21:06:31.149476",
     "exception": false,
     "start_time": "2022-01-28T21:06:31.112561",
     "status": "completed"
    },
    "tags": []
   },
   "source": [
    "# Modules loading"
   ]
  },
  {
   "cell_type": "code",
   "execution_count": 1,
   "id": "77e9d29d-5307-4b4a-b103-7d1fbd6a7e56",
   "metadata": {
    "papermill": {
     "duration": 0.300189,
     "end_time": "2022-01-28T21:06:31.486761",
     "exception": false,
     "start_time": "2022-01-28T21:06:31.186572",
     "status": "completed"
    },
    "tags": []
   },
   "outputs": [],
   "source": [
    "import numpy as np\n",
    "import pandas as pd\n",
    "import matplotlib.pyplot as plt\n",
    "import seaborn as sns\n",
    "\n",
    "from clustermatch import conf"
   ]
  },
  {
   "cell_type": "markdown",
   "id": "262eb535-3e5d-43d7-9efd-bd6cfdac9190",
   "metadata": {
    "papermill": {
     "duration": 0.03715,
     "end_time": "2022-01-28T21:06:31.562453",
     "exception": false,
     "start_time": "2022-01-28T21:06:31.525303",
     "status": "completed"
    },
    "tags": []
   },
   "source": [
    "# Settings"
   ]
  },
  {
   "cell_type": "code",
   "execution_count": 2,
   "id": "6efda92a-579a-49e2-893f-ec3a40db8a26",
   "metadata": {},
   "outputs": [],
   "source": [
    "INPUT_FILENAME_TEMPLATE = \"time_test-ccc_mic\""
   ]
  },
  {
   "cell_type": "markdown",
   "id": "eec9bb6d-4ba2-4817-9b36-bc8e68a2beae",
   "metadata": {
    "papermill": {
     "duration": 0.037221,
     "end_time": "2022-01-28T21:06:31.718740",
     "exception": false,
     "start_time": "2022-01-28T21:06:31.681519",
     "status": "completed"
    },
    "tags": []
   },
   "source": [
    "# Paths"
   ]
  },
  {
   "cell_type": "code",
   "execution_count": 3,
   "id": "413010af-a3b0-45a0-adb8-8559c06d228c",
   "metadata": {
    "papermill": {
     "duration": 0.085709,
     "end_time": "2021-12-21T20:13:39.269702",
     "exception": false,
     "start_time": "2021-12-21T20:13:39.183993",
     "status": "completed"
    },
    "tags": []
   },
   "outputs": [],
   "source": [
    "assert (\n",
    "    conf.MANUSCRIPT[\"BASE_DIR\"] is not None and conf.MANUSCRIPT[\"BASE_DIR\"].exists()\n",
    "), \"Manuscript dir not set\""
   ]
  },
  {
   "cell_type": "code",
   "execution_count": 4,
   "id": "456e7f20-5950-4cbf-8652-cf6e37fb6231",
   "metadata": {
    "papermill": {
     "duration": 0.086622,
     "end_time": "2021-12-21T20:13:39.436193",
     "exception": false,
     "start_time": "2021-12-21T20:13:39.349571",
     "status": "completed"
    },
    "tags": []
   },
   "outputs": [
    {
     "data": {
      "text/plain": [
       "PosixPath('/opt/manuscript/content/images/coefs_comp/time_test')"
      ]
     },
     "metadata": {},
     "output_type": "display_data"
    }
   ],
   "source": [
    "OUTPUT_FIGURE_DIR = (\n",
    "    conf.MANUSCRIPT[\"FIGURES_DIR\"] / \"coefs_comp\" / \"time_test\"\n",
    ")\n",
    "OUTPUT_FIGURE_DIR.mkdir(parents=True, exist_ok=True)\n",
    "display(OUTPUT_FIGURE_DIR)"
   ]
  },
  {
   "cell_type": "code",
   "execution_count": 5,
   "id": "0b5ba2a4-54a7-4853-b804-cd2e5c476466",
   "metadata": {
    "papermill": {
     "duration": 0.086622,
     "end_time": "2021-12-21T20:13:39.436193",
     "exception": false,
     "start_time": "2021-12-21T20:13:39.349571",
     "status": "completed"
    },
    "tags": []
   },
   "outputs": [
    {
     "data": {
      "text/plain": [
       "PosixPath('/opt/data/results/time_test')"
      ]
     },
     "metadata": {},
     "output_type": "display_data"
    }
   ],
   "source": [
    "INPUT_DIR = (\n",
    "    conf.RESULTS_DIR / \"time_test\"\n",
    ")\n",
    "display(INPUT_DIR)"
   ]
  },
  {
   "cell_type": "markdown",
   "id": "5b6ca2cf-6d86-48d8-aa42-5beaf6e0932b",
   "metadata": {
    "papermill": {
     "duration": 0.045283,
     "end_time": "2022-01-28T21:08:16.089335",
     "exception": false,
     "start_time": "2022-01-28T21:08:16.044052",
     "status": "completed"
    },
    "tags": []
   },
   "source": [
    "# Load results"
   ]
  },
  {
   "cell_type": "code",
   "execution_count": 6,
   "id": "d98986f3-badc-4760-8eed-e24b00ce2696",
   "metadata": {},
   "outputs": [],
   "source": [
    "time_results = pd.read_pickle(INPUT_DIR / f\"{INPUT_FILENAME_TEMPLATE}.pkl\")"
   ]
  },
  {
   "cell_type": "code",
   "execution_count": 7,
   "id": "69511566-f1cd-4d19-ab2d-48d64b1e5055",
   "metadata": {},
   "outputs": [
    {
     "data": {
      "text/plain": [
       "(100, 4)"
      ]
     },
     "execution_count": 7,
     "metadata": {},
     "output_type": "execute_result"
    }
   ],
   "source": [
    "time_results.shape"
   ]
  },
  {
   "cell_type": "code",
   "execution_count": 8,
   "id": "6fc64cc3-264e-49a7-bbf9-af255e151118",
   "metadata": {},
   "outputs": [
    {
     "data": {
      "text/html": [
       "<div>\n",
       "<style scoped>\n",
       "    .dataframe tbody tr th:only-of-type {\n",
       "        vertical-align: middle;\n",
       "    }\n",
       "\n",
       "    .dataframe tbody tr th {\n",
       "        vertical-align: top;\n",
       "    }\n",
       "\n",
       "    .dataframe thead th {\n",
       "        text-align: right;\n",
       "    }\n",
       "</style>\n",
       "<table border=\"1\" class=\"dataframe\">\n",
       "  <thead>\n",
       "    <tr style=\"text-align: right;\">\n",
       "      <th></th>\n",
       "      <th>data_size</th>\n",
       "      <th>method</th>\n",
       "      <th>time</th>\n",
       "      <th>sim</th>\n",
       "    </tr>\n",
       "  </thead>\n",
       "  <tbody>\n",
       "    <tr>\n",
       "      <th>0</th>\n",
       "      <td>100</td>\n",
       "      <td>cm</td>\n",
       "      <td>0.290372</td>\n",
       "      <td>0.020470</td>\n",
       "    </tr>\n",
       "    <tr>\n",
       "      <th>1</th>\n",
       "      <td>100</td>\n",
       "      <td>cm</td>\n",
       "      <td>0.003474</td>\n",
       "      <td>0.015353</td>\n",
       "    </tr>\n",
       "    <tr>\n",
       "      <th>2</th>\n",
       "      <td>100</td>\n",
       "      <td>cm</td>\n",
       "      <td>0.003409</td>\n",
       "      <td>0.067422</td>\n",
       "    </tr>\n",
       "    <tr>\n",
       "      <th>3</th>\n",
       "      <td>100</td>\n",
       "      <td>cm</td>\n",
       "      <td>0.003314</td>\n",
       "      <td>0.058579</td>\n",
       "    </tr>\n",
       "    <tr>\n",
       "      <th>4</th>\n",
       "      <td>100</td>\n",
       "      <td>cm</td>\n",
       "      <td>0.003159</td>\n",
       "      <td>0.054949</td>\n",
       "    </tr>\n",
       "  </tbody>\n",
       "</table>\n",
       "</div>"
      ],
      "text/plain": [
       "  data_size method      time       sim\n",
       "0       100     cm  0.290372  0.020470\n",
       "1       100     cm  0.003474  0.015353\n",
       "2       100     cm  0.003409  0.067422\n",
       "3       100     cm  0.003314  0.058579\n",
       "4       100     cm  0.003159  0.054949"
      ]
     },
     "execution_count": 8,
     "metadata": {},
     "output_type": "execute_result"
    }
   ],
   "source": [
    "time_results.head()"
   ]
  },
  {
   "cell_type": "markdown",
   "id": "c2fdf161-71ea-4943-96af-a13612e11736",
   "metadata": {
    "papermill": {
     "duration": 0.045283,
     "end_time": "2022-01-28T21:08:16.089335",
     "exception": false,
     "start_time": "2022-01-28T21:08:16.044052",
     "status": "completed"
    },
    "tags": []
   },
   "source": [
    "# Processing"
   ]
  },
  {
   "cell_type": "code",
   "execution_count": 9,
   "id": "81703394-a7f1-48d6-974a-b987b4dd4c4d",
   "metadata": {},
   "outputs": [],
   "source": [
    "time_results = time_results.replace(\n",
    "    {\n",
    "        \"method\": {\n",
    "            \"p\": \"Pearson\",\n",
    "            \"s\": \"Spearman\",\n",
    "            \"cm\": \"CCC\",\n",
    "            \"mic\": \"MIC\",\n",
    "        }\n",
    "    }\n",
    ")"
   ]
  },
  {
   "cell_type": "code",
   "execution_count": 10,
   "id": "e8b96624-7b6c-4ce7-a1c7-d8f2cabab649",
   "metadata": {},
   "outputs": [
    {
     "data": {
      "text/plain": [
       "(100, 4)"
      ]
     },
     "execution_count": 10,
     "metadata": {},
     "output_type": "execute_result"
    }
   ],
   "source": [
    "time_results.shape"
   ]
  },
  {
   "cell_type": "code",
   "execution_count": 11,
   "id": "6d49c62c-1fcb-4caa-b1f4-e7a224bd3c9b",
   "metadata": {},
   "outputs": [
    {
     "data": {
      "text/html": [
       "<div>\n",
       "<style scoped>\n",
       "    .dataframe tbody tr th:only-of-type {\n",
       "        vertical-align: middle;\n",
       "    }\n",
       "\n",
       "    .dataframe tbody tr th {\n",
       "        vertical-align: top;\n",
       "    }\n",
       "\n",
       "    .dataframe thead th {\n",
       "        text-align: right;\n",
       "    }\n",
       "</style>\n",
       "<table border=\"1\" class=\"dataframe\">\n",
       "  <thead>\n",
       "    <tr style=\"text-align: right;\">\n",
       "      <th></th>\n",
       "      <th>data_size</th>\n",
       "      <th>method</th>\n",
       "      <th>time</th>\n",
       "      <th>sim</th>\n",
       "    </tr>\n",
       "  </thead>\n",
       "  <tbody>\n",
       "    <tr>\n",
       "      <th>0</th>\n",
       "      <td>100</td>\n",
       "      <td>CCC</td>\n",
       "      <td>0.290372</td>\n",
       "      <td>0.020470</td>\n",
       "    </tr>\n",
       "    <tr>\n",
       "      <th>1</th>\n",
       "      <td>100</td>\n",
       "      <td>CCC</td>\n",
       "      <td>0.003474</td>\n",
       "      <td>0.015353</td>\n",
       "    </tr>\n",
       "    <tr>\n",
       "      <th>2</th>\n",
       "      <td>100</td>\n",
       "      <td>CCC</td>\n",
       "      <td>0.003409</td>\n",
       "      <td>0.067422</td>\n",
       "    </tr>\n",
       "    <tr>\n",
       "      <th>3</th>\n",
       "      <td>100</td>\n",
       "      <td>CCC</td>\n",
       "      <td>0.003314</td>\n",
       "      <td>0.058579</td>\n",
       "    </tr>\n",
       "    <tr>\n",
       "      <th>4</th>\n",
       "      <td>100</td>\n",
       "      <td>CCC</td>\n",
       "      <td>0.003159</td>\n",
       "      <td>0.054949</td>\n",
       "    </tr>\n",
       "  </tbody>\n",
       "</table>\n",
       "</div>"
      ],
      "text/plain": [
       "  data_size method      time       sim\n",
       "0       100    CCC  0.290372  0.020470\n",
       "1       100    CCC  0.003474  0.015353\n",
       "2       100    CCC  0.003409  0.067422\n",
       "3       100    CCC  0.003314  0.058579\n",
       "4       100    CCC  0.003159  0.054949"
      ]
     },
     "execution_count": 11,
     "metadata": {},
     "output_type": "execute_result"
    }
   ],
   "source": [
    "time_results.head()"
   ]
  },
  {
   "cell_type": "code",
   "execution_count": 12,
   "id": "e1279b36-295c-45d2-a2f1-0388161c724f",
   "metadata": {},
   "outputs": [
    {
     "data": {
      "text/html": [
       "<div>\n",
       "<style scoped>\n",
       "    .dataframe tbody tr th:only-of-type {\n",
       "        vertical-align: middle;\n",
       "    }\n",
       "\n",
       "    .dataframe tbody tr th {\n",
       "        vertical-align: top;\n",
       "    }\n",
       "\n",
       "    .dataframe thead th {\n",
       "        text-align: right;\n",
       "    }\n",
       "</style>\n",
       "<table border=\"1\" class=\"dataframe\">\n",
       "  <thead>\n",
       "    <tr style=\"text-align: right;\">\n",
       "      <th></th>\n",
       "      <th></th>\n",
       "      <th>count</th>\n",
       "      <th>mean</th>\n",
       "      <th>std</th>\n",
       "      <th>min</th>\n",
       "      <th>25%</th>\n",
       "      <th>50%</th>\n",
       "      <th>75%</th>\n",
       "      <th>max</th>\n",
       "    </tr>\n",
       "    <tr>\n",
       "      <th>data_size</th>\n",
       "      <th>method</th>\n",
       "      <th></th>\n",
       "      <th></th>\n",
       "      <th></th>\n",
       "      <th></th>\n",
       "      <th></th>\n",
       "      <th></th>\n",
       "      <th></th>\n",
       "      <th></th>\n",
       "    </tr>\n",
       "  </thead>\n",
       "  <tbody>\n",
       "    <tr>\n",
       "      <th rowspan=\"2\" valign=\"top\">100</th>\n",
       "      <th>CCC</th>\n",
       "      <td>10.0</td>\n",
       "      <td>0.031897</td>\n",
       "      <td>0.090819</td>\n",
       "      <td>0.002944</td>\n",
       "      <td>0.003016</td>\n",
       "      <td>0.003211</td>\n",
       "      <td>0.003385</td>\n",
       "      <td>0.290372</td>\n",
       "    </tr>\n",
       "    <tr>\n",
       "      <th>MIC</th>\n",
       "      <td>10.0</td>\n",
       "      <td>0.004556</td>\n",
       "      <td>0.000554</td>\n",
       "      <td>0.003587</td>\n",
       "      <td>0.004301</td>\n",
       "      <td>0.004687</td>\n",
       "      <td>0.004878</td>\n",
       "      <td>0.005318</td>\n",
       "    </tr>\n",
       "    <tr>\n",
       "      <th rowspan=\"2\" valign=\"top\">500</th>\n",
       "      <th>CCC</th>\n",
       "      <td>10.0</td>\n",
       "      <td>0.008187</td>\n",
       "      <td>0.000794</td>\n",
       "      <td>0.006714</td>\n",
       "      <td>0.007627</td>\n",
       "      <td>0.008443</td>\n",
       "      <td>0.008599</td>\n",
       "      <td>0.009187</td>\n",
       "    </tr>\n",
       "    <tr>\n",
       "      <th>MIC</th>\n",
       "      <td>10.0</td>\n",
       "      <td>0.054541</td>\n",
       "      <td>0.004373</td>\n",
       "      <td>0.049693</td>\n",
       "      <td>0.051152</td>\n",
       "      <td>0.052135</td>\n",
       "      <td>0.058821</td>\n",
       "      <td>0.060448</td>\n",
       "    </tr>\n",
       "    <tr>\n",
       "      <th rowspan=\"2\" valign=\"top\">1000</th>\n",
       "      <th>CCC</th>\n",
       "      <td>10.0</td>\n",
       "      <td>0.011954</td>\n",
       "      <td>0.000626</td>\n",
       "      <td>0.011399</td>\n",
       "      <td>0.011647</td>\n",
       "      <td>0.011769</td>\n",
       "      <td>0.011875</td>\n",
       "      <td>0.013585</td>\n",
       "    </tr>\n",
       "    <tr>\n",
       "      <th>MIC</th>\n",
       "      <td>10.0</td>\n",
       "      <td>0.159975</td>\n",
       "      <td>0.006683</td>\n",
       "      <td>0.152865</td>\n",
       "      <td>0.156375</td>\n",
       "      <td>0.159312</td>\n",
       "      <td>0.160282</td>\n",
       "      <td>0.177050</td>\n",
       "    </tr>\n",
       "    <tr>\n",
       "      <th rowspan=\"2\" valign=\"top\">5000</th>\n",
       "      <th>CCC</th>\n",
       "      <td>10.0</td>\n",
       "      <td>0.053320</td>\n",
       "      <td>0.005862</td>\n",
       "      <td>0.047850</td>\n",
       "      <td>0.049858</td>\n",
       "      <td>0.050585</td>\n",
       "      <td>0.056264</td>\n",
       "      <td>0.066658</td>\n",
       "    </tr>\n",
       "    <tr>\n",
       "      <th>MIC</th>\n",
       "      <td>10.0</td>\n",
       "      <td>1.974016</td>\n",
       "      <td>0.103306</td>\n",
       "      <td>1.849772</td>\n",
       "      <td>1.908819</td>\n",
       "      <td>1.946344</td>\n",
       "      <td>2.022819</td>\n",
       "      <td>2.196259</td>\n",
       "    </tr>\n",
       "    <tr>\n",
       "      <th rowspan=\"2\" valign=\"top\">10000</th>\n",
       "      <th>CCC</th>\n",
       "      <td>10.0</td>\n",
       "      <td>0.134413</td>\n",
       "      <td>0.046743</td>\n",
       "      <td>0.103280</td>\n",
       "      <td>0.106101</td>\n",
       "      <td>0.110183</td>\n",
       "      <td>0.151916</td>\n",
       "      <td>0.241261</td>\n",
       "    </tr>\n",
       "    <tr>\n",
       "      <th>MIC</th>\n",
       "      <td>10.0</td>\n",
       "      <td>7.571482</td>\n",
       "      <td>0.694893</td>\n",
       "      <td>6.748206</td>\n",
       "      <td>7.174231</td>\n",
       "      <td>7.281321</td>\n",
       "      <td>7.993260</td>\n",
       "      <td>8.698138</td>\n",
       "    </tr>\n",
       "  </tbody>\n",
       "</table>\n",
       "</div>"
      ],
      "text/plain": [
       "                  count      mean       std       min       25%       50%  \\\n",
       "data_size method                                                            \n",
       "100       CCC      10.0  0.031897  0.090819  0.002944  0.003016  0.003211   \n",
       "          MIC      10.0  0.004556  0.000554  0.003587  0.004301  0.004687   \n",
       "500       CCC      10.0  0.008187  0.000794  0.006714  0.007627  0.008443   \n",
       "          MIC      10.0  0.054541  0.004373  0.049693  0.051152  0.052135   \n",
       "1000      CCC      10.0  0.011954  0.000626  0.011399  0.011647  0.011769   \n",
       "          MIC      10.0  0.159975  0.006683  0.152865  0.156375  0.159312   \n",
       "5000      CCC      10.0  0.053320  0.005862  0.047850  0.049858  0.050585   \n",
       "          MIC      10.0  1.974016  0.103306  1.849772  1.908819  1.946344   \n",
       "10000     CCC      10.0  0.134413  0.046743  0.103280  0.106101  0.110183   \n",
       "          MIC      10.0  7.571482  0.694893  6.748206  7.174231  7.281321   \n",
       "\n",
       "                       75%       max  \n",
       "data_size method                      \n",
       "100       CCC     0.003385  0.290372  \n",
       "          MIC     0.004878  0.005318  \n",
       "500       CCC     0.008599  0.009187  \n",
       "          MIC     0.058821  0.060448  \n",
       "1000      CCC     0.011875  0.013585  \n",
       "          MIC     0.160282  0.177050  \n",
       "5000      CCC     0.056264  0.066658  \n",
       "          MIC     2.022819  2.196259  \n",
       "10000     CCC     0.151916  0.241261  \n",
       "          MIC     7.993260  8.698138  "
      ]
     },
     "execution_count": 12,
     "metadata": {},
     "output_type": "execute_result"
    }
   ],
   "source": [
    "time_results.groupby([\"data_size\", \"method\"])[\"time\"].describe()"
   ]
  },
  {
   "cell_type": "markdown",
   "id": "772f2cd8-22b9-4106-93e2-1c8063370356",
   "metadata": {},
   "source": [
    "# Plot"
   ]
  },
  {
   "cell_type": "code",
   "execution_count": 13,
   "id": "ce845931-ddbd-4c12-bc41-9e06ebd49617",
   "metadata": {},
   "outputs": [],
   "source": [
    "hue_order = [\"CCC\", \"MIC\"]"
   ]
  },
  {
   "cell_type": "code",
   "execution_count": 14,
   "id": "25094f48-7b48-4c9e-8cd5-76d72551717b",
   "metadata": {},
   "outputs": [
    {
     "data": {
      "text/html": [
       "<svg  width=\"550\" height=\"55\"><rect x=\"0\" y=\"0\" width=\"55\" height=\"55\" style=\"fill:#4c72b0;stroke-width:2;stroke:rgb(255,255,255)\"/><rect x=\"55\" y=\"0\" width=\"55\" height=\"55\" style=\"fill:#dd8452;stroke-width:2;stroke:rgb(255,255,255)\"/><rect x=\"110\" y=\"0\" width=\"55\" height=\"55\" style=\"fill:#55a868;stroke-width:2;stroke:rgb(255,255,255)\"/><rect x=\"165\" y=\"0\" width=\"55\" height=\"55\" style=\"fill:#c44e52;stroke-width:2;stroke:rgb(255,255,255)\"/><rect x=\"220\" y=\"0\" width=\"55\" height=\"55\" style=\"fill:#8172b3;stroke-width:2;stroke:rgb(255,255,255)\"/><rect x=\"275\" y=\"0\" width=\"55\" height=\"55\" style=\"fill:#937860;stroke-width:2;stroke:rgb(255,255,255)\"/><rect x=\"330\" y=\"0\" width=\"55\" height=\"55\" style=\"fill:#da8bc3;stroke-width:2;stroke:rgb(255,255,255)\"/><rect x=\"385\" y=\"0\" width=\"55\" height=\"55\" style=\"fill:#8c8c8c;stroke-width:2;stroke:rgb(255,255,255)\"/><rect x=\"440\" y=\"0\" width=\"55\" height=\"55\" style=\"fill:#ccb974;stroke-width:2;stroke:rgb(255,255,255)\"/><rect x=\"495\" y=\"0\" width=\"55\" height=\"55\" style=\"fill:#64b5cd;stroke-width:2;stroke:rgb(255,255,255)\"/></svg>"
      ],
      "text/plain": [
       "[(0.2980392156862745, 0.4470588235294118, 0.6901960784313725),\n",
       " (0.8666666666666667, 0.5176470588235295, 0.3215686274509804),\n",
       " (0.3333333333333333, 0.6588235294117647, 0.40784313725490196),\n",
       " (0.7686274509803922, 0.3058823529411765, 0.3215686274509804),\n",
       " (0.5058823529411764, 0.4470588235294118, 0.7019607843137254),\n",
       " (0.5764705882352941, 0.47058823529411764, 0.3764705882352941),\n",
       " (0.8549019607843137, 0.5450980392156862, 0.7647058823529411),\n",
       " (0.5490196078431373, 0.5490196078431373, 0.5490196078431373),\n",
       " (0.8, 0.7254901960784313, 0.4549019607843137),\n",
       " (0.39215686274509803, 0.7098039215686275, 0.803921568627451)]"
      ]
     },
     "metadata": {},
     "output_type": "display_data"
    }
   ],
   "source": [
    "deep_colors = sns.color_palette(\"deep\")\n",
    "display(deep_colors)"
   ]
  },
  {
   "cell_type": "code",
   "execution_count": 15,
   "id": "b9063009-d2f1-4173-8866-1da85a21f447",
   "metadata": {},
   "outputs": [],
   "source": [
    "colors = {\n",
    "    \"CCC\": deep_colors[0],\n",
    "    \"MIC\": deep_colors[3],\n",
    "}"
   ]
  },
  {
   "cell_type": "code",
   "execution_count": 16,
   "id": "71137712-79ce-4406-b292-a7acf3709c4d",
   "metadata": {},
   "outputs": [],
   "source": [
    "plot_data = time_results[time_results[\"data_size\"] >= 500]"
   ]
  },
  {
   "cell_type": "code",
   "execution_count": 17,
   "id": "59249512-0a19-4868-b5a0-5dc4e271c8af",
   "metadata": {},
   "outputs": [],
   "source": [
    "# plot_data = plot_data.assign(\n",
    "#     data_size=plot_data[\"data_size\"].apply(lambda x: f\"{int(x/1000)}k\" if x < 1000000 else f\"{int(x/1000000)}m\")\n",
    "# )"
   ]
  },
  {
   "cell_type": "code",
   "execution_count": 18,
   "id": "09151d37-4dd2-4c1f-ab4a-94b4d3e79018",
   "metadata": {},
   "outputs": [
    {
     "data": {
      "image/png": "[encoded data removed]",
      "text/plain": [
       "<Figure size 432x288 with 1 Axes>"
      ]
     },
     "metadata": {
      "needs_background": "light"
     },
     "output_type": "display_data"
    }
   ],
   "source": [
    "with sns.plotting_context('paper', font_scale=1.5):\n",
    "    ax = sns.pointplot(\n",
    "        data=plot_data,\n",
    "        x='data_size',\n",
    "        y='time',\n",
    "        hue='method',\n",
    "        hue_order=hue_order,\n",
    "        palette=colors,\n",
    "        legend=False\n",
    "    )\n",
    "    sns.despine()\n",
    "    plt.legend(loc='best')\n",
    "    plt.xlabel('Number of measured objects')\n",
    "    plt.ylabel('Time (seconds)')\n",
    "    plt.tight_layout()\n",
    "    plt.savefig(\n",
    "        OUTPUT_FIGURE_DIR / f'{INPUT_FILENAME_TEMPLATE}.svg',\n",
    "        bbox_inches=\"tight\",\n",
    "        facecolor=\"white\",\n",
    "    )\n",
    "    # ax.set_yscale('log')"
   ]
  },
  {
   "cell_type": "code",
   "execution_count": 19,
   "id": "c651024b-eb30-4d50-b71c-8eaa17704acd",
   "metadata": {},
   "outputs": [
    {
     "data": {
      "image/png": "[encoded data removed]",
      "text/plain": [
       "<Figure size 432x288 with 1 Axes>"
      ]
     },
     "metadata": {
      "needs_background": "light"
     },
     "output_type": "display_data"
    }
   ],
   "source": [
    "with sns.plotting_context('paper', font_scale=1.5):\n",
    "    ax = sns.pointplot(\n",
    "        data=plot_data,\n",
    "        x='data_size',\n",
    "        y='time',\n",
    "        hue='method',\n",
    "        hue_order=hue_order,\n",
    "        palette=colors,\n",
    "        legend=False,\n",
    "    )\n",
    "    sns.despine()\n",
    "    plt.legend([],[], frameon=False)\n",
    "    plt.xlabel('Number of measured objects')\n",
    "    plt.ylabel('Time (seconds) in log scale')\n",
    "    plt.tight_layout()\n",
    "    plt.savefig(\n",
    "        OUTPUT_FIGURE_DIR / f'{INPUT_FILENAME_TEMPLATE}-log.svg',\n",
    "        bbox_inches=\"tight\",\n",
    "        facecolor=\"white\",\n",
    "    )\n",
    "    ax.set_yscale('log')"
   ]
  },
  {
   "cell_type": "code",
   "execution_count": null,
   "id": "161c5ed9-f147-4c60-9b71-251694b2c005",
   "metadata": {},
   "outputs": [],
   "source": []
  }
 ],
 "metadata": {
  "jupytext": {
   "cell_metadata_filter": "all,-execution,-papermill,-trusted",
   "text_representation": {
    "extension": ".py",
    "format_name": "percent",
    "format_version": "1.3",
    "jupytext_version": "1.11.5"
   }
  },
  "kernelspec": {
   "display_name": "Python 3 (ipykernel)",
   "language": "python",
   "name": "python3"
  },
  "language_info": {
   "codemirror_mode": {
    "name": "ipython",
    "version": 3
   },
   "file_extension": ".py",
   "mimetype": "text/x-python",
   "name": "python",
   "nbconvert_exporter": "python",
   "pygments_lexer": "ipython3",
   "version": "3.9.9"
  },
  "papermill": {
   "default_parameters": {},
   "duration": 106.874189,
   "end_time": "2022-01-28T21:08:16.453452",
   "environment_variables": {},
   "exception": null,
   "input_path": "nbs/20_comparison_others/50-combine_all.ipynb",
   "output_path": "nbs/20_comparison_others/50-combine_all.run.ipynb",
   "parameters": {
    "GTEX_TISSUE": "skin_sun_exposed_lower_leg"
   },
   "start_time": "2022-01-28T21:06:29.579263",
   "version": "2.3.3"
  }
 },
 "nbformat": 4,
 "nbformat_minor": 5
}
