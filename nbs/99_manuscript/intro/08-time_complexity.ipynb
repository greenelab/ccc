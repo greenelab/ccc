{
 "cells": [
  {
   "cell_type": "markdown",
   "id": "4efdf9ad-f1b0-40a4-a033-4bf93f7ad030",
   "metadata": {
    "papermill": {
     "duration": 0.030646,
     "end_time": "2021-08-31T17:43:02.777584",
     "exception": false,
     "start_time": "2021-08-31T17:43:02.746938",
     "status": "completed"
    },
    "tags": []
   },
   "source": [
    "# Description"
   ]
  },
  {
   "cell_type": "markdown",
   "id": "c8e1cfb2-bb21-40ab-9fd9-03c3458c0ab4",
   "metadata": {
    "papermill": {
     "duration": 0.027077,
     "end_time": "2021-08-31T17:43:02.831653",
     "exception": false,
     "start_time": "2021-08-31T17:43:02.804576",
     "status": "completed"
    },
    "tags": []
   },
   "source": [
    "TODO"
   ]
  },
  {
   "cell_type": "markdown",
   "id": "8b7de09b-03ff-445a-b460-9a32fe7c70ad",
   "metadata": {
    "papermill": {
     "duration": 0.0269,
     "end_time": "2021-08-31T17:43:02.885882",
     "exception": false,
     "start_time": "2021-08-31T17:43:02.858982",
     "status": "completed"
    },
    "tags": []
   },
   "source": [
    "# Modules"
   ]
  },
  {
   "cell_type": "markdown",
   "id": "b37cf252-0a15-4e99-ab41-5fe6dced4fc3",
   "metadata": {},
   "source": [
    "Make sure we are not using multiple cores for this comparison."
   ]
  },
  {
   "cell_type": "code",
   "execution_count": 1,
   "id": "d2b773e7-458b-4203-8876-c7ac164ed34b",
   "metadata": {},
   "outputs": [],
   "source": [
    "# %env NUMBA_NUM_THREADS=1\n",
    "# %env MKL_NUM_THREADS=1\n",
    "# %env OPEN_BLAS_NUM_THREADS=1\n",
    "# %env NUMEXPR_NUM_THREADS=1\n",
    "# %env OMP_NUM_THREADS=1"
   ]
  },
  {
   "cell_type": "code",
   "execution_count": 2,
   "id": "e63984b9-d85c-4ec2-854a-eea10d9f2cad",
   "metadata": {
    "papermill": {
     "duration": 0.262562,
     "end_time": "2021-08-31T17:43:03.175527",
     "exception": false,
     "start_time": "2021-08-31T17:43:02.912965",
     "status": "completed"
    },
    "tags": []
   },
   "outputs": [],
   "source": [
    "from timeit import timeit\n",
    "\n",
    "import numpy as np\n",
    "import pandas as pd\n",
    "from scipy.stats import pearsonr\n",
    "import matplotlib.pyplot as plt\n",
    "import seaborn as sns\n",
    "\n",
    "from clustermatch import conf\n",
    "from clustermatch.coef import cm\n",
    "from clustermatch.methods import mic, distcorr"
   ]
  },
  {
   "cell_type": "markdown",
   "id": "0619629b-09ba-462b-be5b-ad48ff7e8ffa",
   "metadata": {
    "papermill": {
     "duration": 0.029714,
     "end_time": "2021-08-31T17:43:03.235108",
     "exception": false,
     "start_time": "2021-08-31T17:43:03.205394",
     "status": "completed"
    },
    "tags": []
   },
   "source": [
    "# Settings"
   ]
  },
  {
   "cell_type": "code",
   "execution_count": 3,
   "id": "7d460b7c-67cc-4d2a-992f-60d0177f9c25",
   "metadata": {},
   "outputs": [],
   "source": [
    "N_REPS = 10\n",
    "N_SAMPLES_LIST = [10, 50, 100, 500, 1000, 5000, 10000, 50000, 100000]"
   ]
  },
  {
   "cell_type": "markdown",
   "id": "3a0e4fdc-ab98-43f7-b82e-2a6b688bcd95",
   "metadata": {
    "papermill": {
     "duration": 0.029714,
     "end_time": "2021-08-31T17:43:03.235108",
     "exception": false,
     "start_time": "2021-08-31T17:43:03.205394",
     "status": "completed"
    },
    "tags": []
   },
   "source": [
    "# Paths"
   ]
  },
  {
   "cell_type": "code",
   "execution_count": 4,
   "id": "1dbdd918-9637-40a5-89d7-f40a741d681a",
   "metadata": {},
   "outputs": [],
   "source": [
    "assert (\n",
    "    conf.MANUSCRIPT[\"BASE_DIR\"] is not None and conf.MANUSCRIPT[\"BASE_DIR\"].exists()\n",
    "), \"Manuscript dir not set\""
   ]
  },
  {
   "cell_type": "code",
   "execution_count": 5,
   "id": "0328bab2-98c9-4578-9349-3d281792de1a",
   "metadata": {
    "papermill": {
     "duration": 0.038628,
     "end_time": "2021-08-31T17:43:03.301048",
     "exception": false,
     "start_time": "2021-08-31T17:43:03.262420",
     "status": "completed"
    },
    "tags": []
   },
   "outputs": [
    {
     "data": {
      "text/plain": [
       "PosixPath('/opt/manuscript/content/images/intro')"
      ]
     },
     "metadata": {},
     "output_type": "display_data"
    }
   ],
   "source": [
    "OUTPUT_FIGURE_DIR = conf.MANUSCRIPT[\"FIGURES_DIR\"] / \"intro\"\n",
    "OUTPUT_FIGURE_DIR.mkdir(parents=True, exist_ok=True)\n",
    "display(OUTPUT_FIGURE_DIR)"
   ]
  },
  {
   "cell_type": "markdown",
   "id": "8a2c4b73-af23-44c8-8b30-b297ed3530e2",
   "metadata": {},
   "source": [
    "# Setup code"
   ]
  },
  {
   "cell_type": "code",
   "execution_count": 6,
   "id": "bb1496c8-4f19-45b8-9f0a-cd446192ac86",
   "metadata": {},
   "outputs": [],
   "source": [
    "x = np.random.rand(100)\n",
    "y = np.random.rand(100)"
   ]
  },
  {
   "cell_type": "code",
   "execution_count": 7,
   "id": "ea92e0c6-d182-4803-97f6-cb68848e9b27",
   "metadata": {},
   "outputs": [
    {
     "data": {
      "text/plain": [
       "0.02099062474072845"
      ]
     },
     "execution_count": 7,
     "metadata": {},
     "output_type": "execute_result"
    }
   ],
   "source": [
    "cm(x, y)"
   ]
  },
  {
   "cell_type": "code",
   "execution_count": 8,
   "id": "1010adae-ba1f-4b0d-b52e-22e07cc40df6",
   "metadata": {},
   "outputs": [
    {
     "data": {
      "text/plain": [
       "0.22556049118383528"
      ]
     },
     "execution_count": 8,
     "metadata": {},
     "output_type": "execute_result"
    }
   ],
   "source": [
    "mic(x, y)"
   ]
  },
  {
   "cell_type": "code",
   "execution_count": 9,
   "id": "acec0ed3-a304-4afd-a0d7-da045b6da1c9",
   "metadata": {},
   "outputs": [
    {
     "data": {
      "text/plain": [
       "0.11137011253035166"
      ]
     },
     "execution_count": 9,
     "metadata": {},
     "output_type": "execute_result"
    }
   ],
   "source": [
    "distcorr(x, y)"
   ]
  },
  {
   "cell_type": "code",
   "execution_count": 10,
   "id": "377506b7-cf40-4a88-83d2-0cd0a65ab321",
   "metadata": {},
   "outputs": [],
   "source": [
    "def run_timeit(corr_func, x, y):\n",
    "    results = []\n",
    "    for i in range(N_REPS):\n",
    "        results.append(timeit(lambda: corr_func(x, y), number=1))\n",
    "    return results"
   ]
  },
  {
   "cell_type": "markdown",
   "id": "ab6144c6-cdce-480e-b7d5-a91a255ac92c",
   "metadata": {},
   "source": [
    "# Run"
   ]
  },
  {
   "cell_type": "code",
   "execution_count": 11,
   "id": "6ae478fd-58e1-4083-bad2-a7601fcf83f5",
   "metadata": {},
   "outputs": [],
   "source": [
    "n_samples_list = []\n",
    "\n",
    "cm_times = []\n",
    "mic_times = []\n",
    "distcorr_times = []"
   ]
  },
  {
   "cell_type": "code",
   "execution_count": 12,
   "id": "7b71e8a4-c4ef-4d4c-ab4c-18978ec41548",
   "metadata": {},
   "outputs": [],
   "source": [
    "for i, n_samples in enumerate(N_SAMPLES_LIST):\n",
    "    x = np.random.rand(n_samples)\n",
    "    y = np.random.rand(n_samples)\n",
    "\n",
    "    cm_times.extend(run_timeit(cm, x, y))\n",
    "    distcorr_times.extend(run_timeit(distcorr, x, y))\n",
    "\n",
    "    if n_samples <= 10000:\n",
    "        mic_times.extend(run_timeit(mic, x, y))\n",
    "    else:\n",
    "        mic_times.extend([np.nan] * N_REPS)\n",
    "\n",
    "    n_samples_list.extend([n_samples] * N_REPS)"
   ]
  },
  {
   "cell_type": "code",
   "execution_count": 13,
   "id": "ed8a1471-5d3f-4cd5-855b-8fe002ee1034",
   "metadata": {},
   "outputs": [],
   "source": [
    "res = pd.DataFrame(\n",
    "    {\n",
    "        \"n_samples\": n_samples_list,\n",
    "        \"cm\": cm_times,\n",
    "        \"dcor\": distcorr_times,\n",
    "        \"mic\": mic_times,\n",
    "    }\n",
    ")"
   ]
  },
  {
   "cell_type": "code",
   "execution_count": 14,
   "id": "aed9ba44-d0bb-4f23-b9ae-0bb48697855a",
   "metadata": {},
   "outputs": [
    {
     "data": {
      "text/plain": [
       "(90, 4)"
      ]
     },
     "execution_count": 14,
     "metadata": {},
     "output_type": "execute_result"
    }
   ],
   "source": [
    "res.shape"
   ]
  },
  {
   "cell_type": "code",
   "execution_count": 15,
   "id": "cc7e0fc6-048e-4a30-9151-ddb85090356c",
   "metadata": {},
   "outputs": [
    {
     "data": {
      "text/html": [
       "<div>\n",
       "<style scoped>\n",
       "    .dataframe tbody tr th:only-of-type {\n",
       "        vertical-align: middle;\n",
       "    }\n",
       "\n",
       "    .dataframe tbody tr th {\n",
       "        vertical-align: top;\n",
       "    }\n",
       "\n",
       "    .dataframe thead th {\n",
       "        text-align: right;\n",
       "    }\n",
       "</style>\n",
       "<table border=\"1\" class=\"dataframe\">\n",
       "  <thead>\n",
       "    <tr style=\"text-align: right;\">\n",
       "      <th></th>\n",
       "      <th>n_samples</th>\n",
       "      <th>cm</th>\n",
       "      <th>dcor</th>\n",
       "      <th>mic</th>\n",
       "    </tr>\n",
       "  </thead>\n",
       "  <tbody>\n",
       "    <tr>\n",
       "      <th>0</th>\n",
       "      <td>10</td>\n",
       "      <td>0.008294</td>\n",
       "      <td>0.000556</td>\n",
       "      <td>0.000192</td>\n",
       "    </tr>\n",
       "    <tr>\n",
       "      <th>1</th>\n",
       "      <td>10</td>\n",
       "      <td>0.000289</td>\n",
       "      <td>0.000367</td>\n",
       "      <td>0.000060</td>\n",
       "    </tr>\n",
       "    <tr>\n",
       "      <th>2</th>\n",
       "      <td>10</td>\n",
       "      <td>0.000273</td>\n",
       "      <td>0.000493</td>\n",
       "      <td>0.000053</td>\n",
       "    </tr>\n",
       "    <tr>\n",
       "      <th>3</th>\n",
       "      <td>10</td>\n",
       "      <td>0.000243</td>\n",
       "      <td>0.000525</td>\n",
       "      <td>0.000051</td>\n",
       "    </tr>\n",
       "    <tr>\n",
       "      <th>4</th>\n",
       "      <td>10</td>\n",
       "      <td>0.000299</td>\n",
       "      <td>0.000525</td>\n",
       "      <td>0.000050</td>\n",
       "    </tr>\n",
       "  </tbody>\n",
       "</table>\n",
       "</div>"
      ],
      "text/plain": [
       "   n_samples        cm      dcor       mic\n",
       "0         10  0.008294  0.000556  0.000192\n",
       "1         10  0.000289  0.000367  0.000060\n",
       "2         10  0.000273  0.000493  0.000053\n",
       "3         10  0.000243  0.000525  0.000051\n",
       "4         10  0.000299  0.000525  0.000050"
      ]
     },
     "execution_count": 15,
     "metadata": {},
     "output_type": "execute_result"
    }
   ],
   "source": [
    "res.head()"
   ]
  },
  {
   "cell_type": "code",
   "execution_count": 16,
   "id": "d295abb0-2639-4e18-b4a0-0753d3e05006",
   "metadata": {},
   "outputs": [],
   "source": [
    "res = pd.melt(res, id_vars=[\"n_samples\"], var_name=\"method\", value_name=\"time\")"
   ]
  },
  {
   "cell_type": "code",
   "execution_count": 17,
   "id": "dcee802d-56f1-4bb1-9465-9d50bdcc7ea3",
   "metadata": {},
   "outputs": [
    {
     "data": {
      "text/html": [
       "<div>\n",
       "<style scoped>\n",
       "    .dataframe tbody tr th:only-of-type {\n",
       "        vertical-align: middle;\n",
       "    }\n",
       "\n",
       "    .dataframe tbody tr th {\n",
       "        vertical-align: top;\n",
       "    }\n",
       "\n",
       "    .dataframe thead th {\n",
       "        text-align: right;\n",
       "    }\n",
       "</style>\n",
       "<table border=\"1\" class=\"dataframe\">\n",
       "  <thead>\n",
       "    <tr style=\"text-align: right;\">\n",
       "      <th></th>\n",
       "      <th>n_samples</th>\n",
       "      <th>method</th>\n",
       "      <th>time</th>\n",
       "    </tr>\n",
       "  </thead>\n",
       "  <tbody>\n",
       "    <tr>\n",
       "      <th>0</th>\n",
       "      <td>10</td>\n",
       "      <td>cm</td>\n",
       "      <td>0.008294</td>\n",
       "    </tr>\n",
       "    <tr>\n",
       "      <th>1</th>\n",
       "      <td>10</td>\n",
       "      <td>cm</td>\n",
       "      <td>0.000289</td>\n",
       "    </tr>\n",
       "    <tr>\n",
       "      <th>2</th>\n",
       "      <td>10</td>\n",
       "      <td>cm</td>\n",
       "      <td>0.000273</td>\n",
       "    </tr>\n",
       "    <tr>\n",
       "      <th>3</th>\n",
       "      <td>10</td>\n",
       "      <td>cm</td>\n",
       "      <td>0.000243</td>\n",
       "    </tr>\n",
       "    <tr>\n",
       "      <th>4</th>\n",
       "      <td>10</td>\n",
       "      <td>cm</td>\n",
       "      <td>0.000299</td>\n",
       "    </tr>\n",
       "  </tbody>\n",
       "</table>\n",
       "</div>"
      ],
      "text/plain": [
       "   n_samples method      time\n",
       "0         10     cm  0.008294\n",
       "1         10     cm  0.000289\n",
       "2         10     cm  0.000273\n",
       "3         10     cm  0.000243\n",
       "4         10     cm  0.000299"
      ]
     },
     "execution_count": 17,
     "metadata": {},
     "output_type": "execute_result"
    }
   ],
   "source": [
    "res.head()"
   ]
  },
  {
   "cell_type": "markdown",
   "id": "d8bd1d09-6d4b-4d0c-9f95-10e32838f739",
   "metadata": {},
   "source": [
    "# Plot"
   ]
  },
  {
   "cell_type": "markdown",
   "id": "2439da59-0964-4c9c-a304-8803f6ac0936",
   "metadata": {},
   "source": [
    "## Point plot"
   ]
  },
  {
   "cell_type": "code",
   "execution_count": 18,
   "id": "582059f1-7962-4d81-893a-7932f9b11d50",
   "metadata": {},
   "outputs": [
    {
     "data": {
      "image/png": "[encoded data removed]",
      "text/plain": [
       "<Figure size 540x360 with 1 Axes>"
      ]
     },
     "metadata": {
      "needs_background": "light"
     },
     "output_type": "display_data"
    }
   ],
   "source": [
    "with sns.plotting_context(\"paper\", font_scale=1.3):\n",
    "    g = sns.catplot(\n",
    "        data=res,\n",
    "        x=\"n_samples\",\n",
    "        y=\"time\",\n",
    "        hue=\"method\",\n",
    "        kind=\"point\",\n",
    "        height=5,\n",
    "        aspect=1.5,\n",
    "        legend_out=False,\n",
    "    )\n",
    "    g.ax.set_xlabel(\"Number of samples\")\n",
    "    g.ax.set_ylabel(\"Average time (seconds)\")\n",
    "    g.legend.set_title(\"Method\")"
   ]
  },
  {
   "cell_type": "markdown",
   "id": "2132ade5-7971-490a-8314-d4f50233dd80",
   "metadata": {},
   "source": [
    "## Line plot"
   ]
  },
  {
   "cell_type": "code",
   "execution_count": 19,
   "id": "517242f0-51bd-41fd-b022-f16cffd2991e",
   "metadata": {},
   "outputs": [
    {
     "data": {
      "image/png": "[encoded data removed]",
      "text/plain": [
       "<Figure size 576x360 with 1 Axes>"
      ]
     },
     "metadata": {
      "needs_background": "light"
     },
     "output_type": "display_data"
    }
   ],
   "source": [
    "with sns.plotting_context(\"paper\", font_scale=1.3):\n",
    "    res_thin = res[~res[\"method\"].isin((\"mic\",))]\n",
    "\n",
    "    fig, ax = plt.subplots(figsize=(8, 5))\n",
    "    ax = sns.lineplot(data=res_thin, x=\"n_samples\", y=\"time\", hue=\"method\", legend=True)\n",
    "    sns.despine()\n",
    "    ax.set_xlabel(\"Number of samples\")\n",
    "    ax.set_ylabel(\"Average time (seconds)\")\n",
    "    ax.legend_.set_title(\"Method\")\n",
    "    # ax.legend_._loc = 0"
   ]
  },
  {
   "cell_type": "code",
   "execution_count": null,
   "id": "7519316e-8444-4425-8cc7-ecf5c7db5097",
   "metadata": {},
   "outputs": [],
   "source": []
  }
 ],
 "metadata": {
  "jupytext": {
   "cell_metadata_filter": "all,-execution,-papermill,-trusted",
   "text_representation": {
    "extension": ".py",
    "format_name": "percent",
    "format_version": "1.3",
    "jupytext_version": "1.11.5"
   }
  },
  "kernelspec": {
   "display_name": "Python 3 (ipykernel)",
   "language": "python",
   "name": "python3"
  },
  "language_info": {
   "codemirror_mode": {
    "name": "ipython",
    "version": 3
   },
   "file_extension": ".py",
   "mimetype": "text/x-python",
   "name": "python",
   "nbconvert_exporter": "python",
   "pygments_lexer": "ipython3",
   "version": "3.9.7"
  },
  "toc-autonumbering": true
 },
 "nbformat": 4,
 "nbformat_minor": 5
}
