{
 "cells": [
  {
   "cell_type": "markdown",
   "id": "4efdf9ad-f1b0-40a4-a033-4bf93f7ad030",
   "metadata": {
    "papermill": {
     "duration": 0.030646,
     "end_time": "2021-08-31T17:43:02.777584",
     "exception": false,
     "start_time": "2021-08-31T17:43:02.746938",
     "status": "completed"
    },
    "tags": []
   },
   "source": [
    "# Description"
   ]
  },
  {
   "cell_type": "markdown",
   "id": "c8e1cfb2-bb21-40ab-9fd9-03c3458c0ab4",
   "metadata": {
    "papermill": {
     "duration": 0.027077,
     "end_time": "2021-08-31T17:43:02.831653",
     "exception": false,
     "start_time": "2021-08-31T17:43:02.804576",
     "status": "completed"
    },
    "tags": []
   },
   "source": [
    "TODO"
   ]
  },
  {
   "cell_type": "markdown",
   "id": "8b7de09b-03ff-445a-b460-9a32fe7c70ad",
   "metadata": {
    "papermill": {
     "duration": 0.0269,
     "end_time": "2021-08-31T17:43:02.885882",
     "exception": false,
     "start_time": "2021-08-31T17:43:02.858982",
     "status": "completed"
    },
    "tags": []
   },
   "source": [
    "# Modules"
   ]
  },
  {
   "cell_type": "markdown",
   "id": "b37cf252-0a15-4e99-ab41-5fe6dced4fc3",
   "metadata": {},
   "source": [
    "Make sure we are not using multiple cores for this comparison."
   ]
  },
  {
   "cell_type": "code",
   "execution_count": 1,
   "id": "d2b773e7-458b-4203-8876-c7ac164ed34b",
   "metadata": {},
   "outputs": [],
   "source": [
    "# %env NUMBA_NUM_THREADS=1\n",
    "# %env MKL_NUM_THREADS=1\n",
    "# %env OPEN_BLAS_NUM_THREADS=1\n",
    "# %env NUMEXPR_NUM_THREADS=1\n",
    "# %env OMP_NUM_THREADS=1"
   ]
  },
  {
   "cell_type": "code",
   "execution_count": 2,
   "id": "e63984b9-d85c-4ec2-854a-eea10d9f2cad",
   "metadata": {
    "papermill": {
     "duration": 0.262562,
     "end_time": "2021-08-31T17:43:03.175527",
     "exception": false,
     "start_time": "2021-08-31T17:43:02.912965",
     "status": "completed"
    },
    "tags": []
   },
   "outputs": [],
   "source": [
    "from timeit import timeit\n",
    "import numpy as np\n",
    "from scipy.stats import pearsonr\n",
    "import matplotlib.pyplot as plt\n",
    "import seaborn as sns\n",
    "\n",
    "# from sklearn.preprocessing import minmax_scale\n",
    "\n",
    "from clustermatch import conf\n",
    "from clustermatch.coef import cm\n",
    "from clustermatch.methods import mic, distcorr"
   ]
  },
  {
   "cell_type": "markdown",
   "id": "0619629b-09ba-462b-be5b-ad48ff7e8ffa",
   "metadata": {
    "papermill": {
     "duration": 0.029714,
     "end_time": "2021-08-31T17:43:03.235108",
     "exception": false,
     "start_time": "2021-08-31T17:43:03.205394",
     "status": "completed"
    },
    "tags": []
   },
   "source": [
    "# Settings"
   ]
  },
  {
   "cell_type": "code",
   "execution_count": 3,
   "id": "7d460b7c-67cc-4d2a-992f-60d0177f9c25",
   "metadata": {},
   "outputs": [],
   "source": [
    "N_REPS = 10\n",
    "N_SAMPLES_LIST = [10, 50, 100, 500, 1000, 5000, 10000, 50000, 100000]"
   ]
  },
  {
   "cell_type": "markdown",
   "id": "3a0e4fdc-ab98-43f7-b82e-2a6b688bcd95",
   "metadata": {
    "papermill": {
     "duration": 0.029714,
     "end_time": "2021-08-31T17:43:03.235108",
     "exception": false,
     "start_time": "2021-08-31T17:43:03.205394",
     "status": "completed"
    },
    "tags": []
   },
   "source": [
    "# Paths"
   ]
  },
  {
   "cell_type": "code",
   "execution_count": 4,
   "id": "1dbdd918-9637-40a5-89d7-f40a741d681a",
   "metadata": {},
   "outputs": [],
   "source": [
    "assert (\n",
    "    conf.MANUSCRIPT[\"BASE_DIR\"] is not None and conf.MANUSCRIPT[\"BASE_DIR\"].exists()\n",
    "), \"Manuscript dir not set\""
   ]
  },
  {
   "cell_type": "code",
   "execution_count": 5,
   "id": "0328bab2-98c9-4578-9349-3d281792de1a",
   "metadata": {
    "papermill": {
     "duration": 0.038628,
     "end_time": "2021-08-31T17:43:03.301048",
     "exception": false,
     "start_time": "2021-08-31T17:43:03.262420",
     "status": "completed"
    },
    "tags": []
   },
   "outputs": [
    {
     "data": {
      "text/plain": [
       "PosixPath('/opt/manuscript/content/images/intro')"
      ]
     },
     "metadata": {},
     "output_type": "display_data"
    }
   ],
   "source": [
    "OUTPUT_FIGURE_DIR = conf.MANUSCRIPT[\"FIGURES_DIR\"] / \"intro\"\n",
    "OUTPUT_FIGURE_DIR.mkdir(parents=True, exist_ok=True)\n",
    "display(OUTPUT_FIGURE_DIR)"
   ]
  },
  {
   "cell_type": "markdown",
   "id": "8a2c4b73-af23-44c8-8b30-b297ed3530e2",
   "metadata": {},
   "source": [
    "# Setup code"
   ]
  },
  {
   "cell_type": "code",
   "execution_count": 6,
   "id": "bb1496c8-4f19-45b8-9f0a-cd446192ac86",
   "metadata": {},
   "outputs": [],
   "source": [
    "x = np.random.rand(100)\n",
    "y = np.random.rand(100)"
   ]
  },
  {
   "cell_type": "code",
   "execution_count": 7,
   "id": "ea92e0c6-d182-4803-97f6-cb68848e9b27",
   "metadata": {},
   "outputs": [
    {
     "data": {
      "text/plain": [
       "0.05350308008213552"
      ]
     },
     "execution_count": 7,
     "metadata": {},
     "output_type": "execute_result"
    }
   ],
   "source": [
    "cm(x, y)"
   ]
  },
  {
   "cell_type": "code",
   "execution_count": 8,
   "id": "1010adae-ba1f-4b0d-b52e-22e07cc40df6",
   "metadata": {},
   "outputs": [
    {
     "data": {
      "text/plain": [
       "0.2846506152806376"
      ]
     },
     "execution_count": 8,
     "metadata": {},
     "output_type": "execute_result"
    }
   ],
   "source": [
    "mic(x, y)"
   ]
  },
  {
   "cell_type": "code",
   "execution_count": 9,
   "id": "acec0ed3-a304-4afd-a0d7-da045b6da1c9",
   "metadata": {},
   "outputs": [
    {
     "data": {
      "text/plain": [
       "0.17141391711212872"
      ]
     },
     "execution_count": 9,
     "metadata": {},
     "output_type": "execute_result"
    }
   ],
   "source": [
    "distcorr(x, y)"
   ]
  },
  {
   "cell_type": "code",
   "execution_count": 10,
   "id": "377506b7-cf40-4a88-83d2-0cd0a65ab321",
   "metadata": {},
   "outputs": [],
   "source": [
    "def run_timeit(corr_func, x, y, **kwargs):\n",
    "    return timeit(lambda: corr_func(x, y), **kwargs)"
   ]
  },
  {
   "cell_type": "markdown",
   "id": "ab6144c6-cdce-480e-b7d5-a91a255ac92c",
   "metadata": {},
   "source": [
    "# Run"
   ]
  },
  {
   "cell_type": "code",
   "execution_count": 11,
   "id": "6ae478fd-58e1-4083-bad2-a7601fcf83f5",
   "metadata": {},
   "outputs": [],
   "source": [
    "n_samples_list = []\n",
    "\n",
    "cm_times = []\n",
    "mic_times = []\n",
    "distcorr_times = []"
   ]
  },
  {
   "cell_type": "code",
   "execution_count": 12,
   "id": "7b71e8a4-c4ef-4d4c-ab4c-18978ec41548",
   "metadata": {},
   "outputs": [],
   "source": [
    "for i, n_samples in enumerate(N_SAMPLES_LIST):\n",
    "    x = np.random.rand(n_samples)\n",
    "    y = np.random.rand(n_samples)\n",
    "\n",
    "    n_samples_list.append(n_samples)\n",
    "\n",
    "    cm_times.append(run_timeit(cm, x, y, number=N_REPS))\n",
    "    distcorr_times.append(run_timeit(distcorr, x, y, number=N_REPS))\n",
    "\n",
    "    if n_samples <= 1000:\n",
    "        mic_times.append(run_timeit(mic, x, y, number=N_REPS))\n",
    "    else:\n",
    "        mic_times.append(np.nan)"
   ]
  },
  {
   "cell_type": "code",
   "execution_count": 13,
   "id": "582059f1-7962-4d81-893a-7932f9b11d50",
   "metadata": {},
   "outputs": [
    {
     "data": {
      "image/png": "[encoded data removed]",
      "text/plain": [
       "<Figure size 432x288 with 1 Axes>"
      ]
     },
     "metadata": {
      "needs_background": "light"
     },
     "output_type": "display_data"
    }
   ],
   "source": [
    "plt.title(\"Distance covariance performance comparison\")\n",
    "plt.xlabel(\"Number of samples\")\n",
    "plt.ylabel(\"Time (seconds)\")\n",
    "plt.plot(N_SAMPLES_LIST, cm_times, label=\"cm\")\n",
    "plt.plot(N_SAMPLES_LIST, mic_times, label=\"mic\")\n",
    "plt.plot(N_SAMPLES_LIST, distcorr_times, label=\"distcorr\")\n",
    "plt.legend()\n",
    "plt.show()"
   ]
  },
  {
   "cell_type": "code",
   "execution_count": null,
   "id": "b23a78c4-1eb9-4ede-b977-b29a64bd95a9",
   "metadata": {},
   "outputs": [],
   "source": []
  },
  {
   "cell_type": "markdown",
   "id": "ccdbece8-a297-4262-88f0-662a7450fe32",
   "metadata": {},
   "source": [
    "Multiple CPU, cdist_parts parallel attempt #1\n",
    "* it's a weird, almost no improvement"
   ]
  },
  {
   "cell_type": "code",
   "execution_count": 13,
   "id": "95c6e1de-b4e5-4dac-b1d6-56e69fcf35aa",
   "metadata": {},
   "outputs": [
    {
     "data": {
      "image/png": "[encoded data removed]",
      "text/plain": [
       "<Figure size 432x288 with 1 Axes>"
      ]
     },
     "metadata": {
      "needs_background": "light"
     },
     "output_type": "display_data"
    }
   ],
   "source": [
    "plt.title(\"Distance covariance performance comparison\")\n",
    "plt.xlabel(\"Number of samples\")\n",
    "plt.ylabel(\"Time (seconds)\")\n",
    "plt.plot(N_SAMPLES_LIST, cm_times, label=\"cm\")\n",
    "plt.plot(N_SAMPLES_LIST, mic_times, label=\"mic\")\n",
    "plt.plot(N_SAMPLES_LIST, distcorr_times, label=\"distcorr\")\n",
    "plt.legend()\n",
    "plt.show()"
   ]
  },
  {
   "cell_type": "code",
   "execution_count": null,
   "id": "11c90373-d8a3-4ce5-8075-8016e447fdbd",
   "metadata": {},
   "outputs": [],
   "source": []
  },
  {
   "cell_type": "markdown",
   "id": "1909878d-594e-4cad-a56d-74e2a38e5caa",
   "metadata": {},
   "source": [
    "Results with multiple CPU enabled, current clustermatch versino with no extra optimization (should be the same as single CPU):"
   ]
  },
  {
   "cell_type": "code",
   "execution_count": 13,
   "id": "6009b81e-287b-4d86-9d41-dadaa3e971a0",
   "metadata": {},
   "outputs": [
    {
     "data": {
      "image/png": "[encoded data removed]",
      "text/plain": [
       "<Figure size 432x288 with 1 Axes>"
      ]
     },
     "metadata": {
      "needs_background": "light"
     },
     "output_type": "display_data"
    }
   ],
   "source": [
    "plt.title(\"Distance covariance performance comparison\")\n",
    "plt.xlabel(\"Number of samples\")\n",
    "plt.ylabel(\"Time (seconds)\")\n",
    "plt.plot(N_SAMPLES_LIST, cm_times, label=\"cm\")\n",
    "plt.plot(N_SAMPLES_LIST, mic_times, label=\"mic\")\n",
    "plt.plot(N_SAMPLES_LIST, distcorr_times, label=\"distcorr\")\n",
    "plt.legend()\n",
    "plt.show()"
   ]
  },
  {
   "cell_type": "code",
   "execution_count": null,
   "id": "209e5d98-6733-4c88-acf5-d9581f5aaea0",
   "metadata": {},
   "outputs": [],
   "source": []
  },
  {
   "cell_type": "markdown",
   "id": "5e4bd3d1-0af6-4397-b2c7-bf34b8846261",
   "metadata": {},
   "source": [
    "Results with only one CPU core:"
   ]
  },
  {
   "cell_type": "code",
   "execution_count": 13,
   "id": "f22076ba-cbce-4eff-a8be-07d49f23d3bd",
   "metadata": {},
   "outputs": [
    {
     "data": {
      "image/png": "[encoded data removed]",
      "text/plain": [
       "<Figure size 432x288 with 1 Axes>"
      ]
     },
     "metadata": {
      "needs_background": "light"
     },
     "output_type": "display_data"
    }
   ],
   "source": [
    "plt.title(\"Distance covariance performance comparison\")\n",
    "plt.xlabel(\"Number of samples\")\n",
    "plt.ylabel(\"Time (seconds)\")\n",
    "plt.plot(N_SAMPLES_LIST, cm_times, label=\"cm\")\n",
    "plt.plot(N_SAMPLES_LIST, mic_times, label=\"mic\")\n",
    "plt.plot(N_SAMPLES_LIST, distcorr_times, label=\"distcorr\")\n",
    "plt.legend()\n",
    "plt.show()"
   ]
  },
  {
   "cell_type": "code",
   "execution_count": null,
   "id": "ae9d4951-c5ed-4345-9cf2-e7a3d6919dbc",
   "metadata": {},
   "outputs": [],
   "source": []
  }
 ],
 "metadata": {
  "jupytext": {
   "cell_metadata_filter": "all,-execution,-papermill,-trusted"
  },
  "kernelspec": {
   "display_name": "Python 3 (ipykernel)",
   "language": "python",
   "name": "python3"
  },
  "language_info": {
   "codemirror_mode": {
    "name": "ipython",
    "version": 3
   },
   "file_extension": ".py",
   "mimetype": "text/x-python",
   "name": "python",
   "nbconvert_exporter": "python",
   "pygments_lexer": "ipython3",
   "version": "3.9.7"
  },
  "toc-autonumbering": true
 },
 "nbformat": 4,
 "nbformat_minor": 5
}
