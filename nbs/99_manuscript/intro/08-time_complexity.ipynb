{
 "cells": [
  {
   "cell_type": "markdown",
   "id": "4efdf9ad-f1b0-40a4-a033-4bf93f7ad030",
   "metadata": {
    "papermill": {
     "duration": 0.058011,
     "end_time": "2021-11-19T21:33:01.704734",
     "exception": false,
     "start_time": "2021-11-19T21:33:01.646723",
     "status": "completed"
    },
    "tags": []
   },
   "source": [
    "# Description"
   ]
  },
  {
   "cell_type": "markdown",
   "id": "c8e1cfb2-bb21-40ab-9fd9-03c3458c0ab4",
   "metadata": {
    "papermill": {
     "duration": 0.05306,
     "end_time": "2021-11-19T21:33:01.809599",
     "exception": false,
     "start_time": "2021-11-19T21:33:01.756539",
     "status": "completed"
    },
    "tags": []
   },
   "source": [
    "TODO"
   ]
  },
  {
   "cell_type": "markdown",
   "id": "8b7de09b-03ff-445a-b460-9a32fe7c70ad",
   "metadata": {
    "papermill": {
     "duration": 0.052258,
     "end_time": "2021-11-19T21:33:01.915261",
     "exception": false,
     "start_time": "2021-11-19T21:33:01.863003",
     "status": "completed"
    },
    "tags": []
   },
   "source": [
    "# Modules"
   ]
  },
  {
   "cell_type": "markdown",
   "id": "b37cf252-0a15-4e99-ab41-5fe6dced4fc3",
   "metadata": {
    "papermill": {
     "duration": 0.052473,
     "end_time": "2021-11-19T21:33:02.020650",
     "exception": false,
     "start_time": "2021-11-19T21:33:01.968177",
     "status": "completed"
    },
    "tags": []
   },
   "source": [
    "Make sure we are not using multiple cores for this comparison."
   ]
  },
  {
   "cell_type": "code",
   "execution_count": 1,
   "id": "d2b773e7-458b-4203-8876-c7ac164ed34b",
   "metadata": {
    "execution": {
     "iopub.execute_input": "2021-11-19T21:33:02.129174Z",
     "iopub.status.busy": "2021-11-19T21:33:02.128714Z",
     "iopub.status.idle": "2021-11-19T21:33:02.130875Z",
     "shell.execute_reply": "2021-11-19T21:33:02.130450Z"
    },
    "papermill": {
     "duration": 0.057966,
     "end_time": "2021-11-19T21:33:02.130984",
     "exception": false,
     "start_time": "2021-11-19T21:33:02.073018",
     "status": "completed"
    },
    "tags": []
   },
   "outputs": [],
   "source": [
    "# %env NUMBA_NUM_THREADS=1\n",
    "# %env MKL_NUM_THREADS=1\n",
    "# %env OPEN_BLAS_NUM_THREADS=1\n",
    "# %env NUMEXPR_NUM_THREADS=1\n",
    "# %env OMP_NUM_THREADS=1"
   ]
  },
  {
   "cell_type": "code",
   "execution_count": 2,
   "id": "e63984b9-d85c-4ec2-854a-eea10d9f2cad",
   "metadata": {
    "execution": {
     "iopub.execute_input": "2021-11-19T21:33:02.243744Z",
     "iopub.status.busy": "2021-11-19T21:33:02.243256Z",
     "iopub.status.idle": "2021-11-19T21:33:05.024736Z",
     "shell.execute_reply": "2021-11-19T21:33:05.024266Z"
    },
    "papermill": {
     "duration": 2.840905,
     "end_time": "2021-11-19T21:33:05.024833",
     "exception": false,
     "start_time": "2021-11-19T21:33:02.183928",
     "status": "completed"
    },
    "tags": []
   },
   "outputs": [],
   "source": [
    "from timeit import timeit\n",
    "\n",
    "import numpy as np\n",
    "import pandas as pd\n",
    "from scipy.stats import pearsonr\n",
    "import matplotlib.pyplot as plt\n",
    "import seaborn as sns\n",
    "\n",
    "from clustermatch import conf\n",
    "from clustermatch.coef import cm\n",
    "from clustermatch.methods import mic, distcorr"
   ]
  },
  {
   "cell_type": "markdown",
   "id": "0619629b-09ba-462b-be5b-ad48ff7e8ffa",
   "metadata": {
    "papermill": {
     "duration": 0.052938,
     "end_time": "2021-11-19T21:33:05.131758",
     "exception": false,
     "start_time": "2021-11-19T21:33:05.078820",
     "status": "completed"
    },
    "tags": []
   },
   "source": [
    "# Settings"
   ]
  },
  {
   "cell_type": "code",
   "execution_count": 3,
   "id": "7d460b7c-67cc-4d2a-992f-60d0177f9c25",
   "metadata": {
    "execution": {
     "iopub.execute_input": "2021-11-19T21:33:05.240216Z",
     "iopub.status.busy": "2021-11-19T21:33:05.239651Z",
     "iopub.status.idle": "2021-11-19T21:33:05.241800Z",
     "shell.execute_reply": "2021-11-19T21:33:05.241342Z"
    },
    "papermill": {
     "duration": 0.057762,
     "end_time": "2021-11-19T21:33:05.241897",
     "exception": false,
     "start_time": "2021-11-19T21:33:05.184135",
     "status": "completed"
    },
    "tags": []
   },
   "outputs": [],
   "source": [
    "N_REPS = 10\n",
    "N_SAMPLES_LIST = [10, 50, 100, 500, 1000, 5000, 10000, 50000, 100000]"
   ]
  },
  {
   "cell_type": "code",
   "execution_count": 4,
   "id": "184a94e1-a331-479a-a006-a898155e9f08",
   "metadata": {
    "execution": {
     "iopub.execute_input": "2021-11-19T21:33:05.351802Z",
     "iopub.status.busy": "2021-11-19T21:33:05.351343Z",
     "iopub.status.idle": "2021-11-19T21:33:05.352952Z",
     "shell.execute_reply": "2021-11-19T21:33:05.353294Z"
    },
    "papermill": {
     "duration": 0.057642,
     "end_time": "2021-11-19T21:33:05.353411",
     "exception": false,
     "start_time": "2021-11-19T21:33:05.295769",
     "status": "completed"
    },
    "tags": []
   },
   "outputs": [],
   "source": [
    "np.random.seed(0)"
   ]
  },
  {
   "cell_type": "markdown",
   "id": "3a0e4fdc-ab98-43f7-b82e-2a6b688bcd95",
   "metadata": {
    "papermill": {
     "duration": 0.053095,
     "end_time": "2021-11-19T21:33:05.460388",
     "exception": false,
     "start_time": "2021-11-19T21:33:05.407293",
     "status": "completed"
    },
    "tags": []
   },
   "source": [
    "# Paths"
   ]
  },
  {
   "cell_type": "code",
   "execution_count": 5,
   "id": "1dbdd918-9637-40a5-89d7-f40a741d681a",
   "metadata": {
    "execution": {
     "iopub.execute_input": "2021-11-19T21:33:05.576125Z",
     "iopub.status.busy": "2021-11-19T21:33:05.575593Z",
     "iopub.status.idle": "2021-11-19T21:33:05.578016Z",
     "shell.execute_reply": "2021-11-19T21:33:05.577577Z"
    },
    "papermill": {
     "duration": 0.059035,
     "end_time": "2021-11-19T21:33:05.578110",
     "exception": false,
     "start_time": "2021-11-19T21:33:05.519075",
     "status": "completed"
    },
    "tags": []
   },
   "outputs": [],
   "source": [
    "assert (\n",
    "    conf.MANUSCRIPT[\"BASE_DIR\"] is not None and conf.MANUSCRIPT[\"BASE_DIR\"].exists()\n",
    "), \"Manuscript dir not set\""
   ]
  },
  {
   "cell_type": "code",
   "execution_count": 6,
   "id": "0328bab2-98c9-4578-9349-3d281792de1a",
   "metadata": {
    "execution": {
     "iopub.execute_input": "2021-11-19T21:33:05.690171Z",
     "iopub.status.busy": "2021-11-19T21:33:05.689614Z",
     "iopub.status.idle": "2021-11-19T21:33:05.692059Z",
     "shell.execute_reply": "2021-11-19T21:33:05.692405Z"
    },
    "papermill": {
     "duration": 0.060741,
     "end_time": "2021-11-19T21:33:05.692517",
     "exception": false,
     "start_time": "2021-11-19T21:33:05.631776",
     "status": "completed"
    },
    "tags": []
   },
   "outputs": [
    {
     "data": {
      "text/plain": [
       "PosixPath('/opt/manuscript/content/images/intro')"
      ]
     },
     "metadata": {},
     "output_type": "display_data"
    }
   ],
   "source": [
    "OUTPUT_FIGURE_DIR = conf.MANUSCRIPT[\"FIGURES_DIR\"] / \"intro\"\n",
    "OUTPUT_FIGURE_DIR.mkdir(parents=True, exist_ok=True)\n",
    "display(OUTPUT_FIGURE_DIR)"
   ]
  },
  {
   "cell_type": "markdown",
   "id": "8a2c4b73-af23-44c8-8b30-b297ed3530e2",
   "metadata": {
    "papermill": {
     "duration": 0.053661,
     "end_time": "2021-11-19T21:33:05.800285",
     "exception": false,
     "start_time": "2021-11-19T21:33:05.746624",
     "status": "completed"
    },
    "tags": []
   },
   "source": [
    "# Setup code"
   ]
  },
  {
   "cell_type": "code",
   "execution_count": 7,
   "id": "bb1496c8-4f19-45b8-9f0a-cd446192ac86",
   "metadata": {
    "execution": {
     "iopub.execute_input": "2021-11-19T21:33:05.911598Z",
     "iopub.status.busy": "2021-11-19T21:33:05.911162Z",
     "iopub.status.idle": "2021-11-19T21:33:05.913648Z",
     "shell.execute_reply": "2021-11-19T21:33:05.913204Z"
    },
    "papermill": {
     "duration": 0.059292,
     "end_time": "2021-11-19T21:33:05.913743",
     "exception": false,
     "start_time": "2021-11-19T21:33:05.854451",
     "status": "completed"
    },
    "tags": []
   },
   "outputs": [],
   "source": [
    "x = np.random.rand(100)\n",
    "y = np.random.rand(100)"
   ]
  },
  {
   "cell_type": "code",
   "execution_count": 8,
   "id": "ea92e0c6-d182-4803-97f6-cb68848e9b27",
   "metadata": {
    "execution": {
     "iopub.execute_input": "2021-11-19T21:33:06.024938Z",
     "iopub.status.busy": "2021-11-19T21:33:06.024495Z",
     "iopub.status.idle": "2021-11-19T21:33:06.065769Z",
     "shell.execute_reply": "2021-11-19T21:33:06.065343Z"
    },
    "papermill": {
     "duration": 0.09853,
     "end_time": "2021-11-19T21:33:06.065887",
     "exception": false,
     "start_time": "2021-11-19T21:33:05.967357",
     "status": "completed"
    },
    "tags": []
   },
   "outputs": [
    {
     "data": {
      "text/plain": [
       "0.02047038824894002"
      ]
     },
     "execution_count": 8,
     "metadata": {},
     "output_type": "execute_result"
    }
   ],
   "source": [
    "cm(x, y)"
   ]
  },
  {
   "cell_type": "code",
   "execution_count": 9,
   "id": "1010adae-ba1f-4b0d-b52e-22e07cc40df6",
   "metadata": {
    "execution": {
     "iopub.execute_input": "2021-11-19T21:33:06.178455Z",
     "iopub.status.busy": "2021-11-19T21:33:06.177572Z",
     "iopub.status.idle": "2021-11-19T21:33:06.185120Z",
     "shell.execute_reply": "2021-11-19T21:33:06.184729Z"
    },
    "papermill": {
     "duration": 0.064059,
     "end_time": "2021-11-19T21:33:06.185219",
     "exception": false,
     "start_time": "2021-11-19T21:33:06.121160",
     "status": "completed"
    },
    "tags": []
   },
   "outputs": [
    {
     "data": {
      "text/plain": [
       "0.24659336787668185"
      ]
     },
     "execution_count": 9,
     "metadata": {},
     "output_type": "execute_result"
    }
   ],
   "source": [
    "mic(x, y)"
   ]
  },
  {
   "cell_type": "code",
   "execution_count": 10,
   "id": "acec0ed3-a304-4afd-a0d7-da045b6da1c9",
   "metadata": {
    "execution": {
     "iopub.execute_input": "2021-11-19T21:33:06.300878Z",
     "iopub.status.busy": "2021-11-19T21:33:06.300203Z",
     "iopub.status.idle": "2021-11-19T21:33:06.302759Z",
     "shell.execute_reply": "2021-11-19T21:33:06.303135Z"
    },
    "papermill": {
     "duration": 0.062473,
     "end_time": "2021-11-19T21:33:06.303248",
     "exception": false,
     "start_time": "2021-11-19T21:33:06.240775",
     "status": "completed"
    },
    "tags": []
   },
   "outputs": [
    {
     "data": {
      "text/plain": [
       "0.14483916338600375"
      ]
     },
     "execution_count": 10,
     "metadata": {},
     "output_type": "execute_result"
    }
   ],
   "source": [
    "distcorr(x, y)"
   ]
  },
  {
   "cell_type": "code",
   "execution_count": 11,
   "id": "377506b7-cf40-4a88-83d2-0cd0a65ab321",
   "metadata": {
    "execution": {
     "iopub.execute_input": "2021-11-19T21:33:06.420074Z",
     "iopub.status.busy": "2021-11-19T21:33:06.419588Z",
     "iopub.status.idle": "2021-11-19T21:33:06.421507Z",
     "shell.execute_reply": "2021-11-19T21:33:06.421072Z"
    },
    "papermill": {
     "duration": 0.062183,
     "end_time": "2021-11-19T21:33:06.421603",
     "exception": false,
     "start_time": "2021-11-19T21:33:06.359420",
     "status": "completed"
    },
    "tags": []
   },
   "outputs": [],
   "source": [
    "def run_timeit(corr_func, x, y):\n",
    "    results = []\n",
    "    for i in range(N_REPS):\n",
    "        results.append(timeit(lambda: corr_func(x, y), number=1))\n",
    "    return results"
   ]
  },
  {
   "cell_type": "markdown",
   "id": "ab6144c6-cdce-480e-b7d5-a91a255ac92c",
   "metadata": {
    "papermill": {
     "duration": 0.059572,
     "end_time": "2021-11-19T21:33:06.540729",
     "exception": false,
     "start_time": "2021-11-19T21:33:06.481157",
     "status": "completed"
    },
    "tags": []
   },
   "source": [
    "# Run"
   ]
  },
  {
   "cell_type": "code",
   "execution_count": 12,
   "id": "6ae478fd-58e1-4083-bad2-a7601fcf83f5",
   "metadata": {
    "execution": {
     "iopub.execute_input": "2021-11-19T21:33:06.658013Z",
     "iopub.status.busy": "2021-11-19T21:33:06.657572Z",
     "iopub.status.idle": "2021-11-19T21:33:06.659952Z",
     "shell.execute_reply": "2021-11-19T21:33:06.659463Z"
    },
    "papermill": {
     "duration": 0.062634,
     "end_time": "2021-11-19T21:33:06.660045",
     "exception": false,
     "start_time": "2021-11-19T21:33:06.597411",
     "status": "completed"
    },
    "tags": []
   },
   "outputs": [],
   "source": [
    "n_samples_list = []\n",
    "\n",
    "cm_times = []\n",
    "mic_times = []\n",
    "distcorr_times = []"
   ]
  },
  {
   "cell_type": "code",
   "execution_count": 13,
   "id": "7b71e8a4-c4ef-4d4c-ab4c-18978ec41548",
   "metadata": {
    "execution": {
     "iopub.execute_input": "2021-11-19T21:33:06.781951Z",
     "iopub.status.busy": "2021-11-19T21:33:06.781467Z",
     "iopub.status.idle": "2021-11-19T21:34:49.775558Z",
     "shell.execute_reply": "2021-11-19T21:34:49.775147Z"
    },
    "papermill": {
     "duration": 103.057659,
     "end_time": "2021-11-19T21:34:49.775656",
     "exception": false,
     "start_time": "2021-11-19T21:33:06.717997",
     "status": "completed"
    },
    "tags": []
   },
   "outputs": [],
   "source": [
    "for i, n_samples in enumerate(N_SAMPLES_LIST):\n",
    "    x = np.random.rand(n_samples)\n",
    "    y = np.random.rand(n_samples)\n",
    "\n",
    "    cm_times.extend(run_timeit(cm, x, y))\n",
    "    distcorr_times.extend(run_timeit(distcorr, x, y))\n",
    "\n",
    "    if n_samples <= 10000:\n",
    "        mic_times.extend(run_timeit(mic, x, y))\n",
    "    else:\n",
    "        mic_times.extend([np.nan] * N_REPS)\n",
    "\n",
    "    n_samples_list.extend([n_samples] * N_REPS)"
   ]
  },
  {
   "cell_type": "code",
   "execution_count": 14,
   "id": "ed8a1471-5d3f-4cd5-855b-8fe002ee1034",
   "metadata": {
    "execution": {
     "iopub.execute_input": "2021-11-19T21:34:49.896856Z",
     "iopub.status.busy": "2021-11-19T21:34:49.896312Z",
     "iopub.status.idle": "2021-11-19T21:34:49.898501Z",
     "shell.execute_reply": "2021-11-19T21:34:49.897967Z"
    },
    "papermill": {
     "duration": 0.066251,
     "end_time": "2021-11-19T21:34:49.898615",
     "exception": false,
     "start_time": "2021-11-19T21:34:49.832364",
     "status": "completed"
    },
    "tags": []
   },
   "outputs": [],
   "source": [
    "res = pd.DataFrame(\n",
    "    {\n",
    "        \"n_samples\": n_samples_list,\n",
    "        \"cm\": cm_times,\n",
    "        \"dcor\": distcorr_times,\n",
    "        \"mic\": mic_times,\n",
    "    }\n",
    ")"
   ]
  },
  {
   "cell_type": "code",
   "execution_count": 15,
   "id": "aed9ba44-d0bb-4f23-b9ae-0bb48697855a",
   "metadata": {
    "execution": {
     "iopub.execute_input": "2021-11-19T21:34:50.017518Z",
     "iopub.status.busy": "2021-11-19T21:34:50.016918Z",
     "iopub.status.idle": "2021-11-19T21:34:50.019810Z",
     "shell.execute_reply": "2021-11-19T21:34:50.019358Z"
    },
    "papermill": {
     "duration": 0.062215,
     "end_time": "2021-11-19T21:34:50.019954",
     "exception": false,
     "start_time": "2021-11-19T21:34:49.957739",
     "status": "completed"
    },
    "tags": []
   },
   "outputs": [
    {
     "data": {
      "text/plain": [
       "(90, 4)"
      ]
     },
     "execution_count": 15,
     "metadata": {},
     "output_type": "execute_result"
    }
   ],
   "source": [
    "res.shape"
   ]
  },
  {
   "cell_type": "code",
   "execution_count": 16,
   "id": "cc7e0fc6-048e-4a30-9151-ddb85090356c",
   "metadata": {
    "execution": {
     "iopub.execute_input": "2021-11-19T21:34:50.139515Z",
     "iopub.status.busy": "2021-11-19T21:34:50.139058Z",
     "iopub.status.idle": "2021-11-19T21:34:50.146131Z",
     "shell.execute_reply": "2021-11-19T21:34:50.145737Z"
    },
    "papermill": {
     "duration": 0.0681,
     "end_time": "2021-11-19T21:34:50.146226",
     "exception": false,
     "start_time": "2021-11-19T21:34:50.078126",
     "status": "completed"
    },
    "tags": []
   },
   "outputs": [
    {
     "data": {
      "text/html": [
       "<div>\n",
       "<style scoped>\n",
       "    .dataframe tbody tr th:only-of-type {\n",
       "        vertical-align: middle;\n",
       "    }\n",
       "\n",
       "    .dataframe tbody tr th {\n",
       "        vertical-align: top;\n",
       "    }\n",
       "\n",
       "    .dataframe thead th {\n",
       "        text-align: right;\n",
       "    }\n",
       "</style>\n",
       "<table border=\"1\" class=\"dataframe\">\n",
       "  <thead>\n",
       "    <tr style=\"text-align: right;\">\n",
       "      <th></th>\n",
       "      <th>n_samples</th>\n",
       "      <th>cm</th>\n",
       "      <th>dcor</th>\n",
       "      <th>mic</th>\n",
       "    </tr>\n",
       "  </thead>\n",
       "  <tbody>\n",
       "    <tr>\n",
       "      <th>0</th>\n",
       "      <td>10</td>\n",
       "      <td>0.009944</td>\n",
       "      <td>0.000267</td>\n",
       "      <td>0.000047</td>\n",
       "    </tr>\n",
       "    <tr>\n",
       "      <th>1</th>\n",
       "      <td>10</td>\n",
       "      <td>0.000317</td>\n",
       "      <td>0.000200</td>\n",
       "      <td>0.000029</td>\n",
       "    </tr>\n",
       "    <tr>\n",
       "      <th>2</th>\n",
       "      <td>10</td>\n",
       "      <td>0.003539</td>\n",
       "      <td>0.000408</td>\n",
       "      <td>0.000027</td>\n",
       "    </tr>\n",
       "    <tr>\n",
       "      <th>3</th>\n",
       "      <td>10</td>\n",
       "      <td>0.000295</td>\n",
       "      <td>0.000198</td>\n",
       "      <td>0.000025</td>\n",
       "    </tr>\n",
       "    <tr>\n",
       "      <th>4</th>\n",
       "      <td>10</td>\n",
       "      <td>0.000307</td>\n",
       "      <td>0.000196</td>\n",
       "      <td>0.000025</td>\n",
       "    </tr>\n",
       "  </tbody>\n",
       "</table>\n",
       "</div>"
      ],
      "text/plain": [
       "   n_samples        cm      dcor       mic\n",
       "0         10  0.009944  0.000267  0.000047\n",
       "1         10  0.000317  0.000200  0.000029\n",
       "2         10  0.003539  0.000408  0.000027\n",
       "3         10  0.000295  0.000198  0.000025\n",
       "4         10  0.000307  0.000196  0.000025"
      ]
     },
     "execution_count": 16,
     "metadata": {},
     "output_type": "execute_result"
    }
   ],
   "source": [
    "res.head()"
   ]
  },
  {
   "cell_type": "code",
   "execution_count": 17,
   "id": "d295abb0-2639-4e18-b4a0-0753d3e05006",
   "metadata": {
    "execution": {
     "iopub.execute_input": "2021-11-19T21:34:50.267806Z",
     "iopub.status.busy": "2021-11-19T21:34:50.267339Z",
     "iopub.status.idle": "2021-11-19T21:34:50.269337Z",
     "shell.execute_reply": "2021-11-19T21:34:50.268886Z"
    },
    "papermill": {
     "duration": 0.065218,
     "end_time": "2021-11-19T21:34:50.269436",
     "exception": false,
     "start_time": "2021-11-19T21:34:50.204218",
     "status": "completed"
    },
    "tags": []
   },
   "outputs": [],
   "source": [
    "res = pd.melt(res, id_vars=[\"n_samples\"], var_name=\"method\", value_name=\"time\")"
   ]
  },
  {
   "cell_type": "code",
   "execution_count": 18,
   "id": "dcee802d-56f1-4bb1-9465-9d50bdcc7ea3",
   "metadata": {
    "execution": {
     "iopub.execute_input": "2021-11-19T21:34:50.392037Z",
     "iopub.status.busy": "2021-11-19T21:34:50.391460Z",
     "iopub.status.idle": "2021-11-19T21:34:50.394007Z",
     "shell.execute_reply": "2021-11-19T21:34:50.394368Z"
    },
    "papermill": {
     "duration": 0.066371,
     "end_time": "2021-11-19T21:34:50.394484",
     "exception": false,
     "start_time": "2021-11-19T21:34:50.328113",
     "status": "completed"
    },
    "tags": []
   },
   "outputs": [
    {
     "data": {
      "text/html": [
       "<div>\n",
       "<style scoped>\n",
       "    .dataframe tbody tr th:only-of-type {\n",
       "        vertical-align: middle;\n",
       "    }\n",
       "\n",
       "    .dataframe tbody tr th {\n",
       "        vertical-align: top;\n",
       "    }\n",
       "\n",
       "    .dataframe thead th {\n",
       "        text-align: right;\n",
       "    }\n",
       "</style>\n",
       "<table border=\"1\" class=\"dataframe\">\n",
       "  <thead>\n",
       "    <tr style=\"text-align: right;\">\n",
       "      <th></th>\n",
       "      <th>n_samples</th>\n",
       "      <th>method</th>\n",
       "      <th>time</th>\n",
       "    </tr>\n",
       "  </thead>\n",
       "  <tbody>\n",
       "    <tr>\n",
       "      <th>0</th>\n",
       "      <td>10</td>\n",
       "      <td>cm</td>\n",
       "      <td>0.009944</td>\n",
       "    </tr>\n",
       "    <tr>\n",
       "      <th>1</th>\n",
       "      <td>10</td>\n",
       "      <td>cm</td>\n",
       "      <td>0.000317</td>\n",
       "    </tr>\n",
       "    <tr>\n",
       "      <th>2</th>\n",
       "      <td>10</td>\n",
       "      <td>cm</td>\n",
       "      <td>0.003539</td>\n",
       "    </tr>\n",
       "    <tr>\n",
       "      <th>3</th>\n",
       "      <td>10</td>\n",
       "      <td>cm</td>\n",
       "      <td>0.000295</td>\n",
       "    </tr>\n",
       "    <tr>\n",
       "      <th>4</th>\n",
       "      <td>10</td>\n",
       "      <td>cm</td>\n",
       "      <td>0.000307</td>\n",
       "    </tr>\n",
       "  </tbody>\n",
       "</table>\n",
       "</div>"
      ],
      "text/plain": [
       "   n_samples method      time\n",
       "0         10     cm  0.009944\n",
       "1         10     cm  0.000317\n",
       "2         10     cm  0.003539\n",
       "3         10     cm  0.000295\n",
       "4         10     cm  0.000307"
      ]
     },
     "execution_count": 18,
     "metadata": {},
     "output_type": "execute_result"
    }
   ],
   "source": [
    "res.head()"
   ]
  },
  {
   "cell_type": "markdown",
   "id": "d8bd1d09-6d4b-4d0c-9f95-10e32838f739",
   "metadata": {
    "papermill": {
     "duration": 0.059846,
     "end_time": "2021-11-19T21:34:50.513483",
     "exception": false,
     "start_time": "2021-11-19T21:34:50.453637",
     "status": "completed"
    },
    "tags": []
   },
   "source": [
    "# Plot"
   ]
  },
  {
   "cell_type": "markdown",
   "id": "2439da59-0964-4c9c-a304-8803f6ac0936",
   "metadata": {
    "papermill": {
     "duration": 0.058264,
     "end_time": "2021-11-19T21:34:50.630548",
     "exception": false,
     "start_time": "2021-11-19T21:34:50.572284",
     "status": "completed"
    },
    "tags": []
   },
   "source": [
    "## Point plot"
   ]
  },
  {
   "cell_type": "code",
   "execution_count": 19,
   "id": "582059f1-7962-4d81-893a-7932f9b11d50",
   "metadata": {
    "execution": {
     "iopub.execute_input": "2021-11-19T21:34:50.762386Z",
     "iopub.status.busy": "2021-11-19T21:34:50.756523Z",
     "iopub.status.idle": "2021-11-19T21:34:51.680048Z",
     "shell.execute_reply": "2021-11-19T21:34:51.680506Z"
    },
    "papermill": {
     "duration": 0.991375,
     "end_time": "2021-11-19T21:34:51.680648",
     "exception": false,
     "start_time": "2021-11-19T21:34:50.689273",
     "status": "completed"
    },
    "tags": []
   },
   "outputs": [
    {
     "data": {
      "image/png": "[encoded data removed]",
      "text/plain": [
       "<Figure size 540x360 with 1 Axes>"
      ]
     },
     "metadata": {
      "needs_background": "light"
     },
     "output_type": "display_data"
    }
   ],
   "source": [
    "with sns.plotting_context(\"paper\", font_scale=1.3):\n",
    "    g = sns.catplot(\n",
    "        data=res,\n",
    "        x=\"n_samples\",\n",
    "        y=\"time\",\n",
    "        hue=\"method\",\n",
    "        kind=\"point\",\n",
    "        height=5,\n",
    "        aspect=1.5,\n",
    "        legend_out=False,\n",
    "    )\n",
    "    g.ax.set_xlabel(\"Number of samples\")\n",
    "    g.ax.set_ylabel(\"Average time (seconds)\")\n",
    "    g.legend.set_title(\"Method\")\n",
    "\n",
    "    plt.savefig(\n",
    "        OUTPUT_FIGURE_DIR / \"time-point_plot.svg\",\n",
    "        # rasterized=True,\n",
    "        # dpi=300,\n",
    "        bbox_inches=\"tight\",\n",
    "        facecolor=\"white\",\n",
    "    )"
   ]
  },
  {
   "cell_type": "markdown",
   "id": "2132ade5-7971-490a-8314-d4f50233dd80",
   "metadata": {
    "papermill": {
     "duration": 0.060446,
     "end_time": "2021-11-19T21:34:51.809660",
     "exception": false,
     "start_time": "2021-11-19T21:34:51.749214",
     "status": "completed"
    },
    "tags": []
   },
   "source": [
    "## Line plot"
   ]
  },
  {
   "cell_type": "code",
   "execution_count": 20,
   "id": "517242f0-51bd-41fd-b022-f16cffd2991e",
   "metadata": {
    "execution": {
     "iopub.execute_input": "2021-11-19T21:34:51.966723Z",
     "iopub.status.busy": "2021-11-19T21:34:51.966246Z",
     "iopub.status.idle": "2021-11-19T21:34:52.475355Z",
     "shell.execute_reply": "2021-11-19T21:34:52.475719Z"
    },
    "papermill": {
     "duration": 0.605011,
     "end_time": "2021-11-19T21:34:52.475837",
     "exception": false,
     "start_time": "2021-11-19T21:34:51.870826",
     "status": "completed"
    },
    "tags": []
   },
   "outputs": [
    {
     "data": {
      "image/png": "[encoded data removed]",
      "text/plain": [
       "<Figure size 576x360 with 1 Axes>"
      ]
     },
     "metadata": {
      "needs_background": "light"
     },
     "output_type": "display_data"
    }
   ],
   "source": [
    "with sns.plotting_context(\"paper\", font_scale=1.3):\n",
    "    res_thin = res[~res[\"method\"].isin((\"mic\",))]\n",
    "\n",
    "    fig, ax = plt.subplots(figsize=(8, 5))\n",
    "    ax = sns.lineplot(data=res_thin, x=\"n_samples\", y=\"time\", hue=\"method\", legend=True)\n",
    "    sns.despine()\n",
    "    ax.set_xlabel(\"Number of samples\")\n",
    "    ax.set_ylabel(\"Average time (seconds)\")\n",
    "    ax.legend_.set_title(\"Method\")\n",
    "\n",
    "    plt.savefig(\n",
    "        OUTPUT_FIGURE_DIR / \"time-line_plot.svg\",\n",
    "        # rasterized=True,\n",
    "        # dpi=300,\n",
    "        bbox_inches=\"tight\",\n",
    "        facecolor=\"white\",\n",
    "    )"
   ]
  },
  {
   "cell_type": "code",
   "execution_count": null,
   "id": "7519316e-8444-4425-8cc7-ecf5c7db5097",
   "metadata": {
    "papermill": {
     "duration": 0.062631,
     "end_time": "2021-11-19T21:34:52.602028",
     "exception": false,
     "start_time": "2021-11-19T21:34:52.539397",
     "status": "completed"
    },
    "tags": []
   },
   "outputs": [],
   "source": []
  }
 ],
 "metadata": {
  "jupytext": {
   "cell_metadata_filter": "all,-execution,-papermill,-trusted"
  },
  "kernelspec": {
   "display_name": "Python 3 (ipykernel)",
   "language": "python",
   "name": "python3"
  },
  "language_info": {
   "codemirror_mode": {
    "name": "ipython",
    "version": 3
   },
   "file_extension": ".py",
   "mimetype": "text/x-python",
   "name": "python",
   "nbconvert_exporter": "python",
   "pygments_lexer": "ipython3",
   "version": "3.9.7"
  },
  "papermill": {
   "default_parameters": {},
   "duration": 112.6726,
   "end_time": "2021-11-19T21:34:53.073258",
   "environment_variables": {},
   "exception": null,
   "input_path": "nbs/99_manuscript/intro/08-time_complexity.ipynb",
   "output_path": "nbs/99_manuscript/intro/08-time_complexity.run.ipynb",
   "parameters": {},
   "start_time": "2021-11-19T21:33:00.400658",
   "version": "2.3.3"
  },
  "toc-autonumbering": true
 },
 "nbformat": 4,
 "nbformat_minor": 5
}
