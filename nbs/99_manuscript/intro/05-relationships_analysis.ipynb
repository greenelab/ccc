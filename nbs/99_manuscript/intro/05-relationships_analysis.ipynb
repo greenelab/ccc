{
 "cells": [
  {
   "cell_type": "markdown",
   "id": "4efdf9ad-f1b0-40a4-a033-4bf93f7ad030",
   "metadata": {
    "papermill": {
     "duration": 0.012313,
     "end_time": "2024-01-04T08:12:40.644846",
     "exception": false,
     "start_time": "2024-01-04T08:12:40.632533",
     "status": "completed"
    },
    "tags": []
   },
   "source": [
    "# Description"
   ]
  },
  {
   "cell_type": "markdown",
   "id": "c8e1cfb2-bb21-40ab-9fd9-03c3458c0ab4",
   "metadata": {
    "papermill": {
     "duration": 0.010089,
     "end_time": "2024-01-04T08:12:40.665589",
     "exception": false,
     "start_time": "2024-01-04T08:12:40.655500",
     "status": "completed"
    },
    "tags": []
   },
   "source": [
    "It generates datasets showing different relationship types between pairs of variables (for instance, a linear or quadratic pattern) and then compares different correlation coefficients."
   ]
  },
  {
   "cell_type": "markdown",
   "id": "8b7de09b-03ff-445a-b460-9a32fe7c70ad",
   "metadata": {
    "papermill": {
     "duration": 0.011739,
     "end_time": "2024-01-04T08:12:40.688154",
     "exception": false,
     "start_time": "2024-01-04T08:12:40.676415",
     "status": "completed"
    },
    "tags": []
   },
   "source": [
    "# Modules"
   ]
  },
  {
   "cell_type": "code",
   "execution_count": 1,
   "id": "e63984b9-d85c-4ec2-854a-eea10d9f2cad",
   "metadata": {
    "execution": {
     "iopub.execute_input": "2024-01-04T08:12:40.710175Z",
     "iopub.status.busy": "2024-01-04T08:12:40.709812Z",
     "iopub.status.idle": "2024-01-04T08:12:41.528473Z",
     "shell.execute_reply": "2024-01-04T08:12:41.528021Z"
    },
    "papermill": {
     "duration": 0.832168,
     "end_time": "2024-01-04T08:12:41.530292",
     "exception": false,
     "start_time": "2024-01-04T08:12:40.698124",
     "status": "completed"
    },
    "tags": []
   },
   "outputs": [],
   "source": [
    "import pandas as pd\n",
    "import numpy as np\n",
    "from scipy.stats import pearsonr, spearmanr\n",
    "import matplotlib.pyplot as plt\n",
    "import seaborn as sns\n",
    "from sklearn.preprocessing import minmax_scale\n",
    "\n",
    "from ccc import conf\n",
    "from ccc.coef import ccc"
   ]
  },
  {
   "cell_type": "code",
   "execution_count": 2,
   "id": "18bb0c93-55f7-433e-8358-d076df5e4124",
   "metadata": {
    "execution": {
     "iopub.execute_input": "2024-01-04T08:12:41.552054Z",
     "iopub.status.busy": "2024-01-04T08:12:41.551934Z",
     "iopub.status.idle": "2024-01-04T08:12:41.555324Z",
     "shell.execute_reply": "2024-01-04T08:12:41.554931Z"
    },
    "papermill": {
     "duration": 0.016063,
     "end_time": "2024-01-04T08:12:41.556668",
     "exception": false,
     "start_time": "2024-01-04T08:12:41.540605",
     "status": "completed"
    },
    "tags": []
   },
   "outputs": [],
   "source": [
    "import matplotlib\n",
    "\n",
    "# matplotlib.rcParams['font.family'] = 'monospace'\n",
    "matplotlib.rcParams[\"mathtext.fontset\"] = \"custom\"\n",
    "matplotlib.rcParams[\"mathtext.rm\"] = \"monospace\"\n",
    "matplotlib.rcParams[\"mathtext.it\"] = \"monospace:italic\"\n",
    "matplotlib.rcParams[\"mathtext.bf\"] = \"monospace:bold\""
   ]
  },
  {
   "cell_type": "markdown",
   "id": "0619629b-09ba-462b-be5b-ad48ff7e8ffa",
   "metadata": {
    "papermill": {
     "duration": 0.013537,
     "end_time": "2024-01-04T08:12:41.581843",
     "exception": false,
     "start_time": "2024-01-04T08:12:41.568306",
     "status": "completed"
    },
    "tags": []
   },
   "source": [
    "# Settings"
   ]
  },
  {
   "cell_type": "code",
   "execution_count": 3,
   "id": "950a4c5b-b29c-4db3-8fdf-605a412fb069",
   "metadata": {
    "execution": {
     "iopub.execute_input": "2024-01-04T08:12:41.604217Z",
     "iopub.status.busy": "2024-01-04T08:12:41.604025Z",
     "iopub.status.idle": "2024-01-04T08:12:41.606370Z",
     "shell.execute_reply": "2024-01-04T08:12:41.605985Z"
    },
    "papermill": {
     "duration": 0.014616,
     "end_time": "2024-01-04T08:12:41.607819",
     "exception": false,
     "start_time": "2024-01-04T08:12:41.593203",
     "status": "completed"
    },
    "tags": []
   },
   "outputs": [],
   "source": [
    "PVALUE_N_PERMS = 10000"
   ]
  },
  {
   "cell_type": "markdown",
   "id": "a629452d-4419-4114-b7a2-176d99eaad5c",
   "metadata": {
    "papermill": {
     "duration": 0.008343,
     "end_time": "2024-01-04T08:12:41.626157",
     "exception": false,
     "start_time": "2024-01-04T08:12:41.617814",
     "status": "completed"
    },
    "tags": []
   },
   "source": [
    "# Paths"
   ]
  },
  {
   "cell_type": "code",
   "execution_count": 4,
   "id": "1dbdd918-9637-40a5-89d7-f40a741d681a",
   "metadata": {
    "execution": {
     "iopub.execute_input": "2024-01-04T08:12:41.637383Z",
     "iopub.status.busy": "2024-01-04T08:12:41.637259Z",
     "iopub.status.idle": "2024-01-04T08:12:41.640101Z",
     "shell.execute_reply": "2024-01-04T08:12:41.639634Z"
    },
    "papermill": {
     "duration": 0.009656,
     "end_time": "2024-01-04T08:12:41.641173",
     "exception": false,
     "start_time": "2024-01-04T08:12:41.631517",
     "status": "completed"
    },
    "tags": []
   },
   "outputs": [],
   "source": [
    "assert (\n",
    "    conf.MANUSCRIPT[\"BASE_DIR\"] is not None and conf.MANUSCRIPT[\"BASE_DIR\"].exists()\n",
    "), \"Manuscript dir not set\""
   ]
  },
  {
   "cell_type": "code",
   "execution_count": 5,
   "id": "0328bab2-98c9-4578-9349-3d281792de1a",
   "metadata": {
    "execution": {
     "iopub.execute_input": "2024-01-04T08:12:41.654084Z",
     "iopub.status.busy": "2024-01-04T08:12:41.653892Z",
     "iopub.status.idle": "2024-01-04T08:12:41.660863Z",
     "shell.execute_reply": "2024-01-04T08:12:41.660382Z"
    },
    "papermill": {
     "duration": 0.01466,
     "end_time": "2024-01-04T08:12:41.661704",
     "exception": false,
     "start_time": "2024-01-04T08:12:41.647044",
     "status": "completed"
    },
    "tags": []
   },
   "outputs": [
    {
     "data": {
      "text/plain": [
       "PosixPath('/opt/manuscript/content/images/intro')"
      ]
     },
     "metadata": {},
     "output_type": "display_data"
    }
   ],
   "source": [
    "OUTPUT_FIGURE_DIR = conf.MANUSCRIPT[\"FIGURES_DIR\"] / \"intro\"\n",
    "OUTPUT_FIGURE_DIR.mkdir(parents=True, exist_ok=True)\n",
    "display(OUTPUT_FIGURE_DIR)"
   ]
  },
  {
   "cell_type": "markdown",
   "id": "8a2c4b73-af23-44c8-8b30-b297ed3530e2",
   "metadata": {
    "papermill": {
     "duration": 0.005236,
     "end_time": "2024-01-04T08:12:41.672322",
     "exception": false,
     "start_time": "2024-01-04T08:12:41.667086",
     "status": "completed"
    },
    "tags": []
   },
   "source": [
    "# Numerical datasets"
   ]
  },
  {
   "cell_type": "markdown",
   "id": "c785968f-e38f-4c53-b853-f3d686ad363c",
   "metadata": {
    "papermill": {
     "duration": 0.00526,
     "end_time": "2024-01-04T08:12:41.682903",
     "exception": false,
     "start_time": "2024-01-04T08:12:41.677643",
     "status": "completed"
    },
    "tags": []
   },
   "source": [
    "## Anscombe dataset"
   ]
  },
  {
   "cell_type": "code",
   "execution_count": 6,
   "id": "87900265-e80f-44ea-9803-671b3bc692e2",
   "metadata": {
    "execution": {
     "iopub.execute_input": "2024-01-04T08:12:41.714813Z",
     "iopub.status.busy": "2024-01-04T08:12:41.714459Z",
     "iopub.status.idle": "2024-01-04T08:12:41.720116Z",
     "shell.execute_reply": "2024-01-04T08:12:41.719649Z"
    },
    "papermill": {
     "duration": 0.012636,
     "end_time": "2024-01-04T08:12:41.721093",
     "exception": false,
     "start_time": "2024-01-04T08:12:41.708457",
     "status": "completed"
    },
    "tags": []
   },
   "outputs": [],
   "source": [
    "datasets_df = sns.load_dataset(\"anscombe\")"
   ]
  },
  {
   "cell_type": "code",
   "execution_count": 7,
   "id": "a20cf193-ebd6-4af5-a0ff-fdff19d05146",
   "metadata": {
    "execution": {
     "iopub.execute_input": "2024-01-04T08:12:41.732661Z",
     "iopub.status.busy": "2024-01-04T08:12:41.732306Z",
     "iopub.status.idle": "2024-01-04T08:12:41.736564Z",
     "shell.execute_reply": "2024-01-04T08:12:41.736058Z"
    },
    "papermill": {
     "duration": 0.011015,
     "end_time": "2024-01-04T08:12:41.737447",
     "exception": false,
     "start_time": "2024-01-04T08:12:41.726432",
     "status": "completed"
    },
    "tags": []
   },
   "outputs": [
    {
     "data": {
      "text/plain": [
       "(44, 3)"
      ]
     },
     "execution_count": 7,
     "metadata": {},
     "output_type": "execute_result"
    }
   ],
   "source": [
    "datasets_df.shape"
   ]
  },
  {
   "cell_type": "code",
   "execution_count": 8,
   "id": "322bb7eb-24e8-4976-b740-9af3bdf5c9f0",
   "metadata": {
    "execution": {
     "iopub.execute_input": "2024-01-04T08:12:41.749278Z",
     "iopub.status.busy": "2024-01-04T08:12:41.748850Z",
     "iopub.status.idle": "2024-01-04T08:12:41.758390Z",
     "shell.execute_reply": "2024-01-04T08:12:41.757899Z"
    },
    "papermill": {
     "duration": 0.016335,
     "end_time": "2024-01-04T08:12:41.759180",
     "exception": false,
     "start_time": "2024-01-04T08:12:41.742845",
     "status": "completed"
    },
    "tags": []
   },
   "outputs": [
    {
     "data": {
      "text/html": [
       "<div>\n",
       "<style scoped>\n",
       "    .dataframe tbody tr th:only-of-type {\n",
       "        vertical-align: middle;\n",
       "    }\n",
       "\n",
       "    .dataframe tbody tr th {\n",
       "        vertical-align: top;\n",
       "    }\n",
       "\n",
       "    .dataframe thead th {\n",
       "        text-align: right;\n",
       "    }\n",
       "</style>\n",
       "<table border=\"1\" class=\"dataframe\">\n",
       "  <thead>\n",
       "    <tr style=\"text-align: right;\">\n",
       "      <th></th>\n",
       "      <th>dataset</th>\n",
       "      <th>x</th>\n",
       "      <th>y</th>\n",
       "    </tr>\n",
       "  </thead>\n",
       "  <tbody>\n",
       "    <tr>\n",
       "      <th>0</th>\n",
       "      <td>I</td>\n",
       "      <td>10.0</td>\n",
       "      <td>8.04</td>\n",
       "    </tr>\n",
       "    <tr>\n",
       "      <th>1</th>\n",
       "      <td>I</td>\n",
       "      <td>8.0</td>\n",
       "      <td>6.95</td>\n",
       "    </tr>\n",
       "    <tr>\n",
       "      <th>2</th>\n",
       "      <td>I</td>\n",
       "      <td>13.0</td>\n",
       "      <td>7.58</td>\n",
       "    </tr>\n",
       "    <tr>\n",
       "      <th>3</th>\n",
       "      <td>I</td>\n",
       "      <td>9.0</td>\n",
       "      <td>8.81</td>\n",
       "    </tr>\n",
       "    <tr>\n",
       "      <th>4</th>\n",
       "      <td>I</td>\n",
       "      <td>11.0</td>\n",
       "      <td>8.33</td>\n",
       "    </tr>\n",
       "  </tbody>\n",
       "</table>\n",
       "</div>"
      ],
      "text/plain": [
       "  dataset     x     y\n",
       "0       I  10.0  8.04\n",
       "1       I   8.0  6.95\n",
       "2       I  13.0  7.58\n",
       "3       I   9.0  8.81\n",
       "4       I  11.0  8.33"
      ]
     },
     "execution_count": 8,
     "metadata": {},
     "output_type": "execute_result"
    }
   ],
   "source": [
    "datasets_df.head()"
   ]
  },
  {
   "cell_type": "code",
   "execution_count": 9,
   "id": "148acbe5-e354-4c36-98d9-57f66e6742f7",
   "metadata": {
    "execution": {
     "iopub.execute_input": "2024-01-04T08:12:41.771039Z",
     "iopub.status.busy": "2024-01-04T08:12:41.770639Z",
     "iopub.status.idle": "2024-01-04T08:12:41.774489Z",
     "shell.execute_reply": "2024-01-04T08:12:41.773972Z"
    },
    "papermill": {
     "duration": 0.010637,
     "end_time": "2024-01-04T08:12:41.775283",
     "exception": false,
     "start_time": "2024-01-04T08:12:41.764646",
     "status": "completed"
    },
    "tags": []
   },
   "outputs": [],
   "source": [
    "datasets_df = datasets_df.assign(\n",
    "    dataset=datasets_df[\"dataset\"].apply(lambda x: f\"Anscombe {x}\")\n",
    ")"
   ]
  },
  {
   "cell_type": "code",
   "execution_count": 10,
   "id": "b32b2f78-5052-448b-beda-38f424d9875f",
   "metadata": {
    "execution": {
     "iopub.execute_input": "2024-01-04T08:12:41.787114Z",
     "iopub.status.busy": "2024-01-04T08:12:41.786758Z",
     "iopub.status.idle": "2024-01-04T08:12:41.799930Z",
     "shell.execute_reply": "2024-01-04T08:12:41.799451Z"
    },
    "papermill": {
     "duration": 0.019993,
     "end_time": "2024-01-04T08:12:41.800711",
     "exception": false,
     "start_time": "2024-01-04T08:12:41.780718",
     "status": "completed"
    },
    "tags": []
   },
   "outputs": [
    {
     "data": {
      "text/html": [
       "<div>\n",
       "<style scoped>\n",
       "    .dataframe tbody tr th:only-of-type {\n",
       "        vertical-align: middle;\n",
       "    }\n",
       "\n",
       "    .dataframe tbody tr th {\n",
       "        vertical-align: top;\n",
       "    }\n",
       "\n",
       "    .dataframe thead th {\n",
       "        text-align: right;\n",
       "    }\n",
       "</style>\n",
       "<table border=\"1\" class=\"dataframe\">\n",
       "  <thead>\n",
       "    <tr style=\"text-align: right;\">\n",
       "      <th></th>\n",
       "      <th>x</th>\n",
       "      <th>y</th>\n",
       "    </tr>\n",
       "  </thead>\n",
       "  <tbody>\n",
       "    <tr>\n",
       "      <th>count</th>\n",
       "      <td>44.000000</td>\n",
       "      <td>44.000000</td>\n",
       "    </tr>\n",
       "    <tr>\n",
       "      <th>mean</th>\n",
       "      <td>9.000000</td>\n",
       "      <td>7.500682</td>\n",
       "    </tr>\n",
       "    <tr>\n",
       "      <th>std</th>\n",
       "      <td>3.198837</td>\n",
       "      <td>1.958925</td>\n",
       "    </tr>\n",
       "    <tr>\n",
       "      <th>min</th>\n",
       "      <td>4.000000</td>\n",
       "      <td>3.100000</td>\n",
       "    </tr>\n",
       "    <tr>\n",
       "      <th>25%</th>\n",
       "      <td>7.000000</td>\n",
       "      <td>6.117500</td>\n",
       "    </tr>\n",
       "    <tr>\n",
       "      <th>50%</th>\n",
       "      <td>8.000000</td>\n",
       "      <td>7.520000</td>\n",
       "    </tr>\n",
       "    <tr>\n",
       "      <th>75%</th>\n",
       "      <td>11.000000</td>\n",
       "      <td>8.747500</td>\n",
       "    </tr>\n",
       "    <tr>\n",
       "      <th>max</th>\n",
       "      <td>19.000000</td>\n",
       "      <td>12.740000</td>\n",
       "    </tr>\n",
       "  </tbody>\n",
       "</table>\n",
       "</div>"
      ],
      "text/plain": [
       "               x          y\n",
       "count  44.000000  44.000000\n",
       "mean    9.000000   7.500682\n",
       "std     3.198837   1.958925\n",
       "min     4.000000   3.100000\n",
       "25%     7.000000   6.117500\n",
       "50%     8.000000   7.520000\n",
       "75%    11.000000   8.747500\n",
       "max    19.000000  12.740000"
      ]
     },
     "execution_count": 10,
     "metadata": {},
     "output_type": "execute_result"
    }
   ],
   "source": [
    "datasets_df.describe()"
   ]
  },
  {
   "cell_type": "code",
   "execution_count": 11,
   "id": "95a9db8b-29e9-4c59-9826-c728c7b9180b",
   "metadata": {
    "execution": {
     "iopub.execute_input": "2024-01-04T08:12:41.812824Z",
     "iopub.status.busy": "2024-01-04T08:12:41.812405Z",
     "iopub.status.idle": "2024-01-04T08:12:41.815582Z",
     "shell.execute_reply": "2024-01-04T08:12:41.815083Z"
    },
    "papermill": {
     "duration": 0.010137,
     "end_time": "2024-01-04T08:12:41.816408",
     "exception": false,
     "start_time": "2024-01-04T08:12:41.806271",
     "status": "completed"
    },
    "tags": []
   },
   "outputs": [],
   "source": [
    "x_lim = (3, 20)\n",
    "y_lim = (3, 13)"
   ]
  },
  {
   "cell_type": "markdown",
   "id": "df0bea14-821a-4f07-b2a0-e956ae138c09",
   "metadata": {
    "papermill": {
     "duration": 0.005471,
     "end_time": "2024-01-04T08:12:41.827459",
     "exception": false,
     "start_time": "2024-01-04T08:12:41.821988",
     "status": "completed"
    },
    "tags": []
   },
   "source": [
    "## Quadratic"
   ]
  },
  {
   "cell_type": "code",
   "execution_count": 12,
   "id": "912943d2-a487-48f5-9b92-83242fa2f8c2",
   "metadata": {
    "execution": {
     "iopub.execute_input": "2024-01-04T08:12:41.839478Z",
     "iopub.status.busy": "2024-01-04T08:12:41.839150Z",
     "iopub.status.idle": "2024-01-04T08:12:41.841845Z",
     "shell.execute_reply": "2024-01-04T08:12:41.841383Z"
    },
    "papermill": {
     "duration": 0.009633,
     "end_time": "2024-01-04T08:12:41.842662",
     "exception": false,
     "start_time": "2024-01-04T08:12:41.833029",
     "status": "completed"
    },
    "tags": []
   },
   "outputs": [],
   "source": [
    "rel_name = \"Quadratic\""
   ]
  },
  {
   "cell_type": "code",
   "execution_count": 13,
   "id": "7b79e345-3dd0-48cf-9dee-2fb45822b074",
   "metadata": {
    "execution": {
     "iopub.execute_input": "2024-01-04T08:12:41.854966Z",
     "iopub.status.busy": "2024-01-04T08:12:41.854476Z",
     "iopub.status.idle": "2024-01-04T08:12:41.870879Z",
     "shell.execute_reply": "2024-01-04T08:12:41.870191Z"
    },
    "papermill": {
     "duration": 0.0237,
     "end_time": "2024-01-04T08:12:41.871927",
     "exception": false,
     "start_time": "2024-01-04T08:12:41.848227",
     "status": "completed"
    },
    "tags": []
   },
   "outputs": [],
   "source": [
    "np.random.seed(0)\n",
    "\n",
    "x = minmax_scale(np.random.rand(100), (-10, 10))\n",
    "y = np.power(x, 2.0)\n",
    "\n",
    "x = minmax_scale(x, (0, x_lim[1]))\n",
    "x = x + np.random.normal(0, 0.5, x.shape[0])\n",
    "y = minmax_scale(y, y_lim)\n",
    "y = y + np.random.normal(0, 0.5, y.shape[0])\n",
    "\n",
    "datasets_df = datasets_df[~datasets_df[\"dataset\"].isin((rel_name,))]\n",
    "datasets_df = datasets_df.append(\n",
    "    pd.DataFrame(\n",
    "        {\n",
    "            \"dataset\": rel_name,\n",
    "            \"x\": x,\n",
    "            \"y\": y,\n",
    "        }\n",
    "    ),\n",
    "    ignore_index=True,\n",
    ")"
   ]
  },
  {
   "cell_type": "markdown",
   "id": "869da4d1-0816-4ded-940f-8eada4532490",
   "metadata": {
    "papermill": {
     "duration": 0.005563,
     "end_time": "2024-01-04T08:12:41.883484",
     "exception": false,
     "start_time": "2024-01-04T08:12:41.877921",
     "status": "completed"
    },
    "tags": []
   },
   "source": [
    "## Non-coexistence"
   ]
  },
  {
   "cell_type": "code",
   "execution_count": 14,
   "id": "c7f7a4aa-d9eb-4917-beb8-59d91947b97f",
   "metadata": {
    "execution": {
     "iopub.execute_input": "2024-01-04T08:12:41.896018Z",
     "iopub.status.busy": "2024-01-04T08:12:41.895723Z",
     "iopub.status.idle": "2024-01-04T08:12:41.898787Z",
     "shell.execute_reply": "2024-01-04T08:12:41.898330Z"
    },
    "papermill": {
     "duration": 0.010359,
     "end_time": "2024-01-04T08:12:41.899569",
     "exception": false,
     "start_time": "2024-01-04T08:12:41.889210",
     "status": "completed"
    },
    "tags": []
   },
   "outputs": [],
   "source": [
    "rel_name = \"Non-coexistence\""
   ]
  },
  {
   "cell_type": "code",
   "execution_count": 15,
   "id": "d345cc0c-3e75-4fcb-9556-f8369b734449",
   "metadata": {
    "execution": {
     "iopub.execute_input": "2024-01-04T08:12:41.911643Z",
     "iopub.status.busy": "2024-01-04T08:12:41.911286Z",
     "iopub.status.idle": "2024-01-04T08:12:41.921892Z",
     "shell.execute_reply": "2024-01-04T08:12:41.921465Z"
    },
    "papermill": {
     "duration": 0.017563,
     "end_time": "2024-01-04T08:12:41.922686",
     "exception": false,
     "start_time": "2024-01-04T08:12:41.905123",
     "status": "completed"
    },
    "tags": []
   },
   "outputs": [],
   "source": [
    "np.random.seed(5)\n",
    "\n",
    "# x = minmax_scale(np.random.beta(0.5, 0.5, 50), (0.05, 20))\n",
    "# y = np.power(0.05, x) # np.log(x) / np.log(1/10.)\n",
    "\n",
    "x = minmax_scale(np.random.rand(50), (0, x_lim[1]))\n",
    "y = minmax_scale(np.random.rand(50), (2, 2 + 0.5))\n",
    "\n",
    "x2 = minmax_scale(np.random.rand(50), (0, 0 + 0.5))\n",
    "y2 = minmax_scale(np.random.rand(50), (2, y_lim[1]))\n",
    "x = np.append(x, x2)\n",
    "y = np.append(y, y2)\n",
    "\n",
    "# x = minmax_scale(x, (0, 20))\n",
    "x = x + np.random.normal(0, 0.05, x.shape[0])\n",
    "# y = minmax_scale(y, (3, 12))\n",
    "y = y + np.random.normal(0, 0.05, y.shape[0])\n",
    "\n",
    "datasets_df = datasets_df[~datasets_df[\"dataset\"].isin((rel_name,))]\n",
    "datasets_df = datasets_df.append(\n",
    "    pd.DataFrame(\n",
    "        {\n",
    "            \"dataset\": rel_name,\n",
    "            \"x\": x,\n",
    "            \"y\": y,\n",
    "        }\n",
    "    ),\n",
    "    ignore_index=True,\n",
    ")"
   ]
  },
  {
   "cell_type": "markdown",
   "id": "689579f3-f2cb-40d4-b913-378217f94acb",
   "metadata": {
    "papermill": {
     "duration": 0.005492,
     "end_time": "2024-01-04T08:12:41.933781",
     "exception": false,
     "start_time": "2024-01-04T08:12:41.928289",
     "status": "completed"
    },
    "tags": []
   },
   "source": [
    "## Two-lines"
   ]
  },
  {
   "cell_type": "code",
   "execution_count": 16,
   "id": "df0553e7-3d19-4fcb-b294-69c5a2292e9c",
   "metadata": {
    "execution": {
     "iopub.execute_input": "2024-01-04T08:12:41.946007Z",
     "iopub.status.busy": "2024-01-04T08:12:41.945692Z",
     "iopub.status.idle": "2024-01-04T08:12:41.948252Z",
     "shell.execute_reply": "2024-01-04T08:12:41.947852Z"
    },
    "papermill": {
     "duration": 0.009676,
     "end_time": "2024-01-04T08:12:41.949051",
     "exception": false,
     "start_time": "2024-01-04T08:12:41.939375",
     "status": "completed"
    },
    "tags": []
   },
   "outputs": [],
   "source": [
    "rel_name = \"Two-lines\""
   ]
  },
  {
   "cell_type": "code",
   "execution_count": 17,
   "id": "545070ae-9722-4ed4-a4e7-48faf33c912d",
   "metadata": {
    "execution": {
     "iopub.execute_input": "2024-01-04T08:12:41.961113Z",
     "iopub.status.busy": "2024-01-04T08:12:41.960725Z",
     "iopub.status.idle": "2024-01-04T08:12:41.969932Z",
     "shell.execute_reply": "2024-01-04T08:12:41.969517Z"
    },
    "papermill": {
     "duration": 0.016083,
     "end_time": "2024-01-04T08:12:41.970729",
     "exception": false,
     "start_time": "2024-01-04T08:12:41.954646",
     "status": "completed"
    },
    "tags": []
   },
   "outputs": [],
   "source": [
    "np.random.seed(5)\n",
    "\n",
    "x = minmax_scale(np.random.rand(50), x_lim)\n",
    "y = 0.3 * x\n",
    "\n",
    "x2 = minmax_scale(np.random.rand(50), (0, 5))\n",
    "y2 = 3.5 * x2\n",
    "x = np.append(x, x2)\n",
    "y = np.append(y, y2)\n",
    "\n",
    "# x = minmax_scale(x, (0, 20))\n",
    "x = x + np.random.normal(0, 0.5, x.shape[0])\n",
    "y = minmax_scale(y, y_lim)\n",
    "y = y + np.random.normal(0, 0.5, y.shape[0])\n",
    "\n",
    "datasets_df = datasets_df[~datasets_df[\"dataset\"].isin((rel_name,))]\n",
    "datasets_df = datasets_df.append(\n",
    "    pd.DataFrame(\n",
    "        {\n",
    "            \"dataset\": rel_name,\n",
    "            \"x\": x,\n",
    "            \"y\": y,\n",
    "        }\n",
    "    ),\n",
    "    ignore_index=True,\n",
    ")"
   ]
  },
  {
   "cell_type": "markdown",
   "id": "16c45c61-8ad7-4fea-9853-c41f60baf976",
   "metadata": {
    "papermill": {
     "duration": 0.005457,
     "end_time": "2024-01-04T08:12:41.981814",
     "exception": false,
     "start_time": "2024-01-04T08:12:41.976357",
     "status": "completed"
    },
    "tags": []
   },
   "source": [
    "## Random / independent"
   ]
  },
  {
   "cell_type": "code",
   "execution_count": 18,
   "id": "d066318e-1f1c-4032-87c8-cf2557a62230",
   "metadata": {
    "execution": {
     "iopub.execute_input": "2024-01-04T08:12:41.993927Z",
     "iopub.status.busy": "2024-01-04T08:12:41.993578Z",
     "iopub.status.idle": "2024-01-04T08:12:41.996208Z",
     "shell.execute_reply": "2024-01-04T08:12:41.995804Z"
    },
    "papermill": {
     "duration": 0.009648,
     "end_time": "2024-01-04T08:12:41.997010",
     "exception": false,
     "start_time": "2024-01-04T08:12:41.987362",
     "status": "completed"
    },
    "tags": []
   },
   "outputs": [],
   "source": [
    "rel_name = \"Random / independent\""
   ]
  },
  {
   "cell_type": "code",
   "execution_count": 19,
   "id": "beb68af6-dd8a-4da3-a532-7477aa0c6fbc",
   "metadata": {
    "execution": {
     "iopub.execute_input": "2024-01-04T08:12:42.009067Z",
     "iopub.status.busy": "2024-01-04T08:12:42.008919Z",
     "iopub.status.idle": "2024-01-04T08:12:42.015367Z",
     "shell.execute_reply": "2024-01-04T08:12:42.014962Z"
    },
    "papermill": {
     "duration": 0.01332,
     "end_time": "2024-01-04T08:12:42.016147",
     "exception": false,
     "start_time": "2024-01-04T08:12:42.002827",
     "status": "completed"
    },
    "tags": []
   },
   "outputs": [],
   "source": [
    "np.random.seed(10)\n",
    "\n",
    "x = np.random.rand(100)\n",
    "y = np.random.rand(100)\n",
    "\n",
    "x = minmax_scale(x, (0, x_lim[1]))\n",
    "y = minmax_scale(y, y_lim)\n",
    "\n",
    "datasets_df = datasets_df[~datasets_df[\"dataset\"].isin((rel_name,))]\n",
    "datasets_df = datasets_df.append(\n",
    "    pd.DataFrame(\n",
    "        {\n",
    "            \"dataset\": rel_name,\n",
    "            \"x\": x,\n",
    "            \"y\": y,\n",
    "        }\n",
    "    ),\n",
    "    ignore_index=True,\n",
    ")"
   ]
  },
  {
   "cell_type": "markdown",
   "id": "c51eaf1c-4bff-40ef-9c76-fcea77ca90c5",
   "metadata": {
    "papermill": {
     "duration": 0.005469,
     "end_time": "2024-01-04T08:12:42.027184",
     "exception": false,
     "start_time": "2024-01-04T08:12:42.021715",
     "status": "completed"
    },
    "tags": []
   },
   "source": [
    "Create a dictionary with easier access to datasets"
   ]
  },
  {
   "cell_type": "code",
   "execution_count": 20,
   "id": "9328a89b-dbd7-4faf-adeb-8a9a3a60af9e",
   "metadata": {
    "execution": {
     "iopub.execute_input": "2024-01-04T08:12:42.039065Z",
     "iopub.status.busy": "2024-01-04T08:12:42.038915Z",
     "iopub.status.idle": "2024-01-04T08:12:42.046013Z",
     "shell.execute_reply": "2024-01-04T08:12:42.045610Z"
    },
    "papermill": {
     "duration": 0.01402,
     "end_time": "2024-01-04T08:12:42.046797",
     "exception": false,
     "start_time": "2024-01-04T08:12:42.032777",
     "status": "completed"
    },
    "tags": []
   },
   "outputs": [],
   "source": [
    "datasets = {\n",
    "    idx: df.drop(columns=\"dataset\") for idx, df in datasets_df.groupby(\"dataset\")\n",
    "}"
   ]
  },
  {
   "cell_type": "markdown",
   "id": "555a7d7c-2ea1-471a-8ada-77fce5837bf7",
   "metadata": {
    "papermill": {
     "duration": 0.005533,
     "end_time": "2024-01-04T08:12:42.057935",
     "exception": false,
     "start_time": "2024-01-04T08:12:42.052402",
     "status": "completed"
    },
    "tags": []
   },
   "source": [
    "## Create dataset dictionary"
   ]
  },
  {
   "cell_type": "markdown",
   "id": "d1589084-f27a-44b6-a064-e22093d2a351",
   "metadata": {
    "papermill": {
     "duration": 0.005452,
     "end_time": "2024-01-04T08:12:42.068936",
     "exception": false,
     "start_time": "2024-01-04T08:12:42.063484",
     "status": "completed"
    },
    "tags": []
   },
   "source": [
    "Create a dictionary with easier access to datasets"
   ]
  },
  {
   "cell_type": "code",
   "execution_count": 21,
   "id": "e6c54042-e751-4fd7-96db-5274cd7d8eb1",
   "metadata": {
    "execution": {
     "iopub.execute_input": "2024-01-04T08:12:42.081143Z",
     "iopub.status.busy": "2024-01-04T08:12:42.080658Z",
     "iopub.status.idle": "2024-01-04T08:12:42.087775Z",
     "shell.execute_reply": "2024-01-04T08:12:42.087366Z"
    },
    "papermill": {
     "duration": 0.014062,
     "end_time": "2024-01-04T08:12:42.088587",
     "exception": false,
     "start_time": "2024-01-04T08:12:42.074525",
     "status": "completed"
    },
    "tags": []
   },
   "outputs": [],
   "source": [
    "datasets = {\n",
    "    idx: df.drop(columns=\"dataset\") for idx, df in datasets_df.groupby(\"dataset\")\n",
    "}"
   ]
  },
  {
   "cell_type": "markdown",
   "id": "e9110ac9-5968-405f-9070-eca3f9389a54",
   "metadata": {
    "papermill": {
     "duration": 0.00545,
     "end_time": "2024-01-04T08:12:42.099904",
     "exception": false,
     "start_time": "2024-01-04T08:12:42.094454",
     "status": "completed"
    },
    "tags": []
   },
   "source": [
    "## Plot"
   ]
  },
  {
   "cell_type": "code",
   "execution_count": 22,
   "id": "0109f1d9-22ff-42fd-8bf8-ab84f449cbbd",
   "metadata": {
    "execution": {
     "iopub.execute_input": "2024-01-04T08:12:42.111901Z",
     "iopub.status.busy": "2024-01-04T08:12:42.111566Z",
     "iopub.status.idle": "2024-01-04T08:12:42.119638Z",
     "shell.execute_reply": "2024-01-04T08:12:42.119224Z"
    },
    "papermill": {
     "duration": 0.014956,
     "end_time": "2024-01-04T08:12:42.120420",
     "exception": false,
     "start_time": "2024-01-04T08:12:42.105464",
     "status": "completed"
    },
    "tags": []
   },
   "outputs": [],
   "source": [
    "def get_cm_line_points(x, y, max_parts, parts):\n",
    "    \"\"\"\n",
    "    Given two data vectors (x and y) and the max_parts and parts\n",
    "    returned from calling cm, this function returns two arrays with\n",
    "    scalars to draw the lines that separates clusters in x and y.\n",
    "    \"\"\"\n",
    "    # get the ccc partitions that maximize the coefficient\n",
    "    x_max_part = parts[0][max_parts[0]]\n",
    "    x_unique_k = {}\n",
    "    for k in np.unique(x_max_part):\n",
    "        data = x[x_max_part == k]\n",
    "        x_unique_k[k] = data.min(), data.max()\n",
    "    x_unique_k = sorted(x_unique_k.items(), key=lambda x: x[1][0])\n",
    "\n",
    "    y_max_part = parts[1][max_parts[1]]\n",
    "    y_unique_k = {}\n",
    "    for k in np.unique(y_max_part):\n",
    "        data = y[y_max_part == k]\n",
    "        y_unique_k[k] = data.min(), data.max()\n",
    "    y_unique_k = sorted(y_unique_k.items(), key=lambda x: x[1][0])\n",
    "\n",
    "    x_line_points, y_line_points = [], []\n",
    "\n",
    "    for idx in range(len(x_unique_k) - 1):\n",
    "        k, (k_min, k_max) = x_unique_k[idx]\n",
    "        nk, (nk_min, nk_max) = x_unique_k[idx + 1]\n",
    "\n",
    "        x_line_points.append((k_max + nk_min) / 2.0)\n",
    "\n",
    "    for idx in range(len(y_unique_k) - 1):\n",
    "        k, (k_min, k_max) = y_unique_k[idx]\n",
    "        nk, (nk_min, nk_max) = y_unique_k[idx + 1]\n",
    "\n",
    "        y_line_points.append((k_max + nk_min) / 2.0)\n",
    "\n",
    "    return x_line_points, y_line_points"
   ]
  },
  {
   "cell_type": "code",
   "execution_count": 23,
   "id": "8201a1b3-a455-41ac-913f-98b3ba9363d8",
   "metadata": {
    "execution": {
     "iopub.execute_input": "2024-01-04T08:12:42.132228Z",
     "iopub.status.busy": "2024-01-04T08:12:42.132075Z",
     "iopub.status.idle": "2024-01-04T08:12:42.135326Z",
     "shell.execute_reply": "2024-01-04T08:12:42.134911Z"
    },
    "papermill": {
     "duration": 0.010096,
     "end_time": "2024-01-04T08:12:42.136093",
     "exception": false,
     "start_time": "2024-01-04T08:12:42.125997",
     "status": "completed"
    },
    "tags": []
   },
   "outputs": [],
   "source": [
    "def pvalue_to_star(pvalue):\n",
    "    s = \"   \"\n",
    "    if pvalue < 0.001:\n",
    "        s = \"***\"\n",
    "    elif pvalue < 0.01:\n",
    "        s = \"** \"\n",
    "    elif pvalue < 0.05:\n",
    "        s = \"*  \"\n",
    "\n",
    "    return s"
   ]
  },
  {
   "cell_type": "code",
   "execution_count": 24,
   "id": "bbd15cd4-c9ea-40a7-a08c-c2a15781ce4e",
   "metadata": {
    "execution": {
     "iopub.execute_input": "2024-01-04T08:12:42.148155Z",
     "iopub.status.busy": "2024-01-04T08:12:42.147782Z",
     "iopub.status.idle": "2024-01-04T08:12:42.151272Z",
     "shell.execute_reply": "2024-01-04T08:12:42.150866Z"
    },
    "papermill": {
     "duration": 0.010335,
     "end_time": "2024-01-04T08:12:42.152056",
     "exception": false,
     "start_time": "2024-01-04T08:12:42.141721",
     "status": "completed"
    },
    "tags": []
   },
   "outputs": [],
   "source": [
    "assert pvalue_to_star(0.06) == \"   \"\n",
    "assert pvalue_to_star(0.04) == \"*  \"\n",
    "assert pvalue_to_star(0.02) == \"*  \"\n",
    "assert pvalue_to_star(0.01) == \"*  \"\n",
    "assert pvalue_to_star(0.005) == \"** \"\n",
    "assert pvalue_to_star(0.001) == \"** \"\n",
    "assert pvalue_to_star(0.0001) == \"***\""
   ]
  },
  {
   "cell_type": "code",
   "execution_count": 25,
   "id": "55ecad23-cf11-4ed5-a81d-c7faa16ad8b9",
   "metadata": {
    "execution": {
     "iopub.execute_input": "2024-01-04T08:12:42.164056Z",
     "iopub.status.busy": "2024-01-04T08:12:42.163732Z",
     "iopub.status.idle": "2024-01-04T08:13:07.098399Z",
     "shell.execute_reply": "2024-01-04T08:13:07.097965Z"
    },
    "papermill": {
     "duration": 24.943006,
     "end_time": "2024-01-04T08:13:07.100650",
     "exception": false,
     "start_time": "2024-01-04T08:12:42.157644",
     "status": "completed"
    },
    "tags": []
   },
   "outputs": [
    {
     "data": {
      "image/png": "[encoded data removed]",
      "text/plain": [
       "<Figure size 1440x720 with 8 Axes>"
      ]
     },
     "metadata": {
      "needs_background": "light"
     },
     "output_type": "display_data"
    }
   ],
   "source": [
    "with sns.plotting_context(\"paper\", font_scale=1.8):\n",
    "    g = sns.FacetGrid(\n",
    "        data=datasets_df,\n",
    "        col=\"dataset\",\n",
    "        col_order=[\n",
    "            \"Anscombe I\",\n",
    "            \"Anscombe II\",\n",
    "            \"Anscombe III\",\n",
    "            \"Anscombe IV\",\n",
    "            \"Random / independent\",\n",
    "            \"Non-coexistence\",\n",
    "            \"Quadratic\",\n",
    "            \"Two-lines\",\n",
    "        ],\n",
    "        col_wrap=4,\n",
    "        height=5,\n",
    "        sharey=False,\n",
    "        sharex=False,\n",
    "    )\n",
    "    g.map(sns.scatterplot, \"x\", \"y\", s=50, alpha=1)\n",
    "    g.set_titles(row_template=\"{row_name}\", col_template=\"{col_name}\")\n",
    "    g.set_xticklabels([])\n",
    "    g.set_yticklabels([])\n",
    "\n",
    "    for ax_idx, ax in enumerate(g.axes):\n",
    "        ax.set_xlabel(\"$x$\")\n",
    "\n",
    "        if ax_idx == 0:\n",
    "            ax.text(\n",
    "                -0.10,\n",
    "                1.02,\n",
    "                \"a)\",\n",
    "                fontweight=\"semibold\",\n",
    "                fontsize=20,\n",
    "                transform=ax.transAxes,\n",
    "                horizontalalignment=\"left\",\n",
    "            )\n",
    "        elif ax_idx == 4:\n",
    "            ax.text(\n",
    "                -0.10,\n",
    "                1.02,\n",
    "                \"b)\",\n",
    "                fontweight=\"semibold\",\n",
    "                fontsize=20,\n",
    "                transform=ax.transAxes,\n",
    "                horizontalalignment=\"left\",\n",
    "            )\n",
    "\n",
    "        if ax_idx in (0, 4):\n",
    "            ax.set_ylabel(\"$y$\")\n",
    "            continue\n",
    "\n",
    "        sns.despine(ax=ax, left=True)\n",
    "        ax.yaxis.set_tick_params(left=False)\n",
    "\n",
    "    mono = {\"family\": \"monospace\"}\n",
    "\n",
    "    for ds, ax in g.axes_dict.items():\n",
    "        df = datasets[ds].to_numpy()\n",
    "        x, y = df[:, 0], df[:, 1]\n",
    "\n",
    "        # pearson and spearman\n",
    "        r, r_p = pearsonr(x, y)\n",
    "        rs, rs_p = spearmanr(x, y)\n",
    "\n",
    "        # ccc\n",
    "        (c, c_p), max_parts, parts = ccc(\n",
    "            x, y, return_parts=True, pvalue_n_perms=PVALUE_N_PERMS\n",
    "        )\n",
    "\n",
    "        x_line_points, y_line_points = get_cm_line_points(x, y, max_parts, parts)\n",
    "        for yp in y_line_points:\n",
    "            ax.hlines(y=yp, xmin=-0.5, xmax=20, color=\"r\", alpha=0.5)\n",
    "\n",
    "        for xp in x_line_points:\n",
    "            ax.vlines(x=xp, ymin=1.5, ymax=14, color=\"r\", alpha=0.5)\n",
    "\n",
    "        # add text box for the statistics\n",
    "        stats = (\n",
    "            f\"$\\it{{p}}$ ={r: .2f}{pvalue_to_star(r_p)}\\n\"\n",
    "            f\"$\\it{{s}}$ ={rs: .2f}{pvalue_to_star(rs_p)}\\n\"\n",
    "            f\"$\\it{{c}}$ ={c: .2f}{pvalue_to_star(c_p)}\"\n",
    "        )\n",
    "        bbox = dict(boxstyle=\"round\", fc=\"white\", ec=\"black\", alpha=0.75)\n",
    "        ax.text(\n",
    "            0.69,\n",
    "            0.07,\n",
    "            stats,\n",
    "            fontsize=14,\n",
    "            fontdict=mono,\n",
    "            bbox=bbox,\n",
    "            transform=ax.transAxes,\n",
    "            horizontalalignment=\"left\",\n",
    "            linespacing=1.1,\n",
    "        )\n",
    "\n",
    "    plt.subplots_adjust(hspace=0.2)\n",
    "\n",
    "    plt.savefig(\n",
    "        OUTPUT_FIGURE_DIR / \"numerical_relationships.svg\",\n",
    "        # rasterized=True,\n",
    "        # dpi=300,\n",
    "        bbox_inches=\"tight\",\n",
    "        facecolor=\"white\",\n",
    "    )"
   ]
  },
  {
   "cell_type": "markdown",
   "id": "385c9fdb-823b-4eda-a551-dcdbe62e0943",
   "metadata": {
    "papermill": {
     "duration": 0.011159,
     "end_time": "2024-01-04T08:13:07.123639",
     "exception": false,
     "start_time": "2024-01-04T08:13:07.112480",
     "status": "completed"
    },
    "tags": []
   },
   "source": [
    "**Takeaways**:\n",
    "\n",
    "A more detailed explanation of this figure is present in this PR: https://github.com/greenelab/ccc-manuscript/pull/3\n",
    "\n",
    "Some points:\n",
    "\n",
    "1. When the number of internal clusters (separated by red lines) is higher, CCC is able to capture more complex relationships.\n",
    "1. With two internal clusters (Anscombe I, II and III) for each variable pair, CCC seems to capture linear relationships. However, two clusters also capture non-coexistence relationships."
   ]
  },
  {
   "cell_type": "markdown",
   "id": "5026f8e5-dc07-43ff-9596-76093dae779b",
   "metadata": {
    "papermill": {
     "duration": 0.006172,
     "end_time": "2024-01-04T08:13:07.136794",
     "exception": false,
     "start_time": "2024-01-04T08:13:07.130622",
     "status": "completed"
    },
    "tags": []
   },
   "source": [
    "# Categorical datasets"
   ]
  },
  {
   "cell_type": "markdown",
   "id": "2de70ce2-3d93-411c-8b3b-a61fb6b57c1a",
   "metadata": {
    "papermill": {
     "duration": 0.006188,
     "end_time": "2024-01-04T08:13:07.149577",
     "exception": false,
     "start_time": "2024-01-04T08:13:07.143389",
     "status": "completed"
    },
    "tags": []
   },
   "source": [
    "## Independent Two-Categorical"
   ]
  },
  {
   "cell_type": "code",
   "execution_count": 26,
   "id": "a6811486-7838-4454-9441-97c1929808a3",
   "metadata": {
    "execution": {
     "iopub.execute_input": "2024-01-04T08:13:07.168691Z",
     "iopub.status.busy": "2024-01-04T08:13:07.168423Z",
     "iopub.status.idle": "2024-01-04T08:13:07.171405Z",
     "shell.execute_reply": "2024-01-04T08:13:07.170965Z"
    },
    "papermill": {
     "duration": 0.017214,
     "end_time": "2024-01-04T08:13:07.173257",
     "exception": false,
     "start_time": "2024-01-04T08:13:07.156043",
     "status": "completed"
    },
    "tags": []
   },
   "outputs": [],
   "source": [
    "rel_name = \"Two-Categorical I\""
   ]
  },
  {
   "cell_type": "code",
   "execution_count": 27,
   "id": "68fe500f-22a3-4661-b727-a9372279ce53",
   "metadata": {
    "execution": {
     "iopub.execute_input": "2024-01-04T08:13:07.193657Z",
     "iopub.status.busy": "2024-01-04T08:13:07.193111Z",
     "iopub.status.idle": "2024-01-04T08:13:07.198340Z",
     "shell.execute_reply": "2024-01-04T08:13:07.197786Z"
    },
    "papermill": {
     "duration": 0.016171,
     "end_time": "2024-01-04T08:13:07.199124",
     "exception": false,
     "start_time": "2024-01-04T08:13:07.182953",
     "status": "completed"
    },
    "tags": []
   },
   "outputs": [],
   "source": [
    "np.random.seed(4)\n",
    "\n",
    "x = np.random.choice([\"A\", \"B\", \"C\"], 100)\n",
    "y = np.random.choice([\"Orange\", \"Blue\"], 100)\n",
    "\n",
    "cat_datasets_df = pd.DataFrame(\n",
    "    {\n",
    "        \"dataset\": rel_name,\n",
    "        \"x\": x,\n",
    "        \"y\": y,\n",
    "    }\n",
    ")"
   ]
  },
  {
   "cell_type": "markdown",
   "id": "998b963a-fa66-4d45-a38e-536a39a32286",
   "metadata": {
    "papermill": {
     "duration": 0.006511,
     "end_time": "2024-01-04T08:13:07.211942",
     "exception": false,
     "start_time": "2024-01-04T08:13:07.205431",
     "status": "completed"
    },
    "tags": []
   },
   "source": [
    "## Two-Categorical"
   ]
  },
  {
   "cell_type": "code",
   "execution_count": 28,
   "id": "5f0b47d9-be00-4d30-beb2-667f5a12e847",
   "metadata": {
    "execution": {
     "iopub.execute_input": "2024-01-04T08:13:07.225488Z",
     "iopub.status.busy": "2024-01-04T08:13:07.225237Z",
     "iopub.status.idle": "2024-01-04T08:13:07.228078Z",
     "shell.execute_reply": "2024-01-04T08:13:07.227597Z"
    },
    "papermill": {
     "duration": 0.010618,
     "end_time": "2024-01-04T08:13:07.228844",
     "exception": false,
     "start_time": "2024-01-04T08:13:07.218226",
     "status": "completed"
    },
    "tags": []
   },
   "outputs": [],
   "source": [
    "rel_name = \"Two-Categorical II\""
   ]
  },
  {
   "cell_type": "code",
   "execution_count": 29,
   "id": "2b28f3fa-883d-45b8-82cb-6c766b2998a1",
   "metadata": {
    "execution": {
     "iopub.execute_input": "2024-01-04T08:13:07.242644Z",
     "iopub.status.busy": "2024-01-04T08:13:07.242241Z",
     "iopub.status.idle": "2024-01-04T08:13:07.251663Z",
     "shell.execute_reply": "2024-01-04T08:13:07.251160Z"
    },
    "papermill": {
     "duration": 0.017316,
     "end_time": "2024-01-04T08:13:07.252462",
     "exception": false,
     "start_time": "2024-01-04T08:13:07.235146",
     "status": "completed"
    },
    "tags": []
   },
   "outputs": [],
   "source": [
    "np.random.seed(0)\n",
    "\n",
    "x = np.random.choice([\"A\", \"B\", \"C\"], 100)\n",
    "y = np.random.choice([\"Orange\", \"Blue\"], 100)\n",
    "\n",
    "_df = pd.DataFrame(\n",
    "    {\n",
    "        \"dataset\": rel_name,\n",
    "        \"x\": x,\n",
    "        \"y\": y,\n",
    "    }\n",
    ")\n",
    "\n",
    "_df.loc[_df[_df[\"x\"] == \"A\"].sample(frac=0.50).index, \"y\"] = \"Blue\"\n",
    "_df.loc[_df[_df[\"x\"] == \"B\"].sample(frac=0.75).index, \"y\"] = \"Orange\"\n",
    "\n",
    "cat_datasets_df = cat_datasets_df[~cat_datasets_df[\"dataset\"].isin((rel_name,))]\n",
    "cat_datasets_df = cat_datasets_df.append(\n",
    "    _df,\n",
    "    ignore_index=True,\n",
    ")"
   ]
  },
  {
   "cell_type": "markdown",
   "id": "555497ee-42ee-45cf-acbc-5f9e2dbe95d0",
   "metadata": {
    "papermill": {
     "duration": 0.007351,
     "end_time": "2024-01-04T08:13:07.266416",
     "exception": false,
     "start_time": "2024-01-04T08:13:07.259065",
     "status": "completed"
    },
    "tags": []
   },
   "source": [
    "## Independent Two-Categorical-One-Numerical"
   ]
  },
  {
   "cell_type": "code",
   "execution_count": 30,
   "id": "1460089c-4615-48be-819a-e8c9087291fd",
   "metadata": {
    "execution": {
     "iopub.execute_input": "2024-01-04T08:13:07.280190Z",
     "iopub.status.busy": "2024-01-04T08:13:07.279799Z",
     "iopub.status.idle": "2024-01-04T08:13:07.282674Z",
     "shell.execute_reply": "2024-01-04T08:13:07.282209Z"
    },
    "papermill": {
     "duration": 0.010715,
     "end_time": "2024-01-04T08:13:07.283496",
     "exception": false,
     "start_time": "2024-01-04T08:13:07.272781",
     "status": "completed"
    },
    "tags": []
   },
   "outputs": [],
   "source": [
    "rel_name = \"Categorical-Numerical I\""
   ]
  },
  {
   "cell_type": "code",
   "execution_count": 31,
   "id": "d981cfbb-989a-4ea9-9be3-4f26f63f20ce",
   "metadata": {
    "execution": {
     "iopub.execute_input": "2024-01-04T08:13:07.297872Z",
     "iopub.status.busy": "2024-01-04T08:13:07.297390Z",
     "iopub.status.idle": "2024-01-04T08:13:07.304697Z",
     "shell.execute_reply": "2024-01-04T08:13:07.304207Z"
    },
    "papermill": {
     "duration": 0.015514,
     "end_time": "2024-01-04T08:13:07.305522",
     "exception": false,
     "start_time": "2024-01-04T08:13:07.290008",
     "status": "completed"
    },
    "tags": []
   },
   "outputs": [],
   "source": [
    "np.random.seed(10)\n",
    "\n",
    "x = np.random.choice([\"A\", \"B\", \"C\"], 100)\n",
    "y = np.random.rand(100)\n",
    "y = minmax_scale(y, y_lim)\n",
    "\n",
    "cat_datasets_df = cat_datasets_df[~cat_datasets_df[\"dataset\"].isin((rel_name,))]\n",
    "cat_datasets_df = cat_datasets_df.append(\n",
    "    pd.DataFrame(\n",
    "        {\n",
    "            \"dataset\": rel_name,\n",
    "            \"x\": x,\n",
    "            \"y\": y,\n",
    "        }\n",
    "    ),\n",
    "    ignore_index=True,\n",
    ")"
   ]
  },
  {
   "cell_type": "markdown",
   "id": "5a54ea55-fbb0-45e5-877a-411cd0e7db8a",
   "metadata": {
    "papermill": {
     "duration": 0.006371,
     "end_time": "2024-01-04T08:13:07.318775",
     "exception": false,
     "start_time": "2024-01-04T08:13:07.312404",
     "status": "completed"
    },
    "tags": []
   },
   "source": [
    "## Two-Categorical-One-Numerical"
   ]
  },
  {
   "cell_type": "code",
   "execution_count": 32,
   "id": "f102d770-4c21-40b2-8b5f-e47f93b8eebc",
   "metadata": {
    "execution": {
     "iopub.execute_input": "2024-01-04T08:13:07.332874Z",
     "iopub.status.busy": "2024-01-04T08:13:07.332548Z",
     "iopub.status.idle": "2024-01-04T08:13:07.335620Z",
     "shell.execute_reply": "2024-01-04T08:13:07.335147Z"
    },
    "papermill": {
     "duration": 0.010963,
     "end_time": "2024-01-04T08:13:07.336423",
     "exception": false,
     "start_time": "2024-01-04T08:13:07.325460",
     "status": "completed"
    },
    "tags": []
   },
   "outputs": [],
   "source": [
    "rel_name = \"Categorical-Numerical II\""
   ]
  },
  {
   "cell_type": "code",
   "execution_count": 33,
   "id": "5e3ca2d6-d9af-4164-9636-d3116bec8122",
   "metadata": {
    "execution": {
     "iopub.execute_input": "2024-01-04T08:13:07.350196Z",
     "iopub.status.busy": "2024-01-04T08:13:07.349865Z",
     "iopub.status.idle": "2024-01-04T08:13:07.362836Z",
     "shell.execute_reply": "2024-01-04T08:13:07.362261Z"
    },
    "papermill": {
     "duration": 0.020718,
     "end_time": "2024-01-04T08:13:07.363683",
     "exception": false,
     "start_time": "2024-01-04T08:13:07.342965",
     "status": "completed"
    },
    "tags": []
   },
   "outputs": [],
   "source": [
    "np.random.seed(0)\n",
    "\n",
    "x = np.random.choice([\"A\", \"B\", \"C\"], 100)\n",
    "y = np.nan\n",
    "\n",
    "_df = pd.DataFrame(\n",
    "    {\n",
    "        \"dataset\": rel_name,\n",
    "        \"x\": x,\n",
    "        \"y\": y,\n",
    "    }\n",
    ")\n",
    "\n",
    "_idx = _df[_df[\"x\"] == \"A\"].index  # .sample(frac=0.50).index\n",
    "_df.loc[_idx, \"y\"] = np.random.normal(0, 0.50, _idx.shape[0])\n",
    "\n",
    "_idx = _df[_df[\"x\"] == \"B\"].index  # sample(frac=0.75).index\n",
    "_df.loc[_idx, \"y\"] = np.random.normal(1, 0.25, _idx.shape[0])\n",
    "\n",
    "_idx = _df[_df[\"x\"] == \"C\"].index  # sample(frac=0.75).index\n",
    "_df.loc[_idx, \"y\"] = np.random.normal(1, 0.75, _idx.shape[0])\n",
    "\n",
    "_df[\"y\"] = minmax_scale(_df[\"y\"], y_lim)\n",
    "\n",
    "# _idx = _df[_df[\"x\"] == \"B\"].sample(frac=0.75).index\n",
    "# _df.loc[_idx, \"y\"] = np.random.normal(0, 1, _idx.shape[0])\n",
    "\n",
    "cat_datasets_df = cat_datasets_df[~cat_datasets_df[\"dataset\"].isin((rel_name,))]\n",
    "cat_datasets_df = cat_datasets_df.append(\n",
    "    _df,\n",
    "    ignore_index=True,\n",
    ")"
   ]
  },
  {
   "cell_type": "markdown",
   "id": "6e772c48-9f23-4986-a1f1-d4dfe7347a34",
   "metadata": {
    "papermill": {
     "duration": 0.006672,
     "end_time": "2024-01-04T08:13:07.376930",
     "exception": false,
     "start_time": "2024-01-04T08:13:07.370258",
     "status": "completed"
    },
    "tags": []
   },
   "source": [
    "## Create dataset dictionary"
   ]
  },
  {
   "cell_type": "markdown",
   "id": "e6a136ac-cde2-45ab-8513-9219adf0e25e",
   "metadata": {
    "papermill": {
     "duration": 0.006454,
     "end_time": "2024-01-04T08:13:07.389775",
     "exception": false,
     "start_time": "2024-01-04T08:13:07.383321",
     "status": "completed"
    },
    "tags": []
   },
   "source": [
    "Create a dictionary with easier access to datasets"
   ]
  },
  {
   "cell_type": "code",
   "execution_count": 34,
   "id": "6f05696d-aca7-4325-9e67-35cc698dabbc",
   "metadata": {
    "execution": {
     "iopub.execute_input": "2024-01-04T08:13:07.403611Z",
     "iopub.status.busy": "2024-01-04T08:13:07.403365Z",
     "iopub.status.idle": "2024-01-04T08:13:07.409416Z",
     "shell.execute_reply": "2024-01-04T08:13:07.408935Z"
    },
    "papermill": {
     "duration": 0.013946,
     "end_time": "2024-01-04T08:13:07.410173",
     "exception": false,
     "start_time": "2024-01-04T08:13:07.396227",
     "status": "completed"
    },
    "tags": []
   },
   "outputs": [],
   "source": [
    "categorical_datasets = {\n",
    "    idx: df.drop(columns=\"dataset\") for idx, df in cat_datasets_df.groupby(\"dataset\")\n",
    "}"
   ]
  },
  {
   "cell_type": "markdown",
   "id": "0c8e5e42-b157-41b1-9fb3-89c8aede99b2",
   "metadata": {
    "papermill": {
     "duration": 0.006395,
     "end_time": "2024-01-04T08:13:07.423046",
     "exception": false,
     "start_time": "2024-01-04T08:13:07.416651",
     "status": "completed"
    },
    "tags": []
   },
   "source": [
    "## Plot"
   ]
  },
  {
   "cell_type": "code",
   "execution_count": 35,
   "id": "fb3a70a0-6325-486b-986b-b76c639c1298",
   "metadata": {
    "execution": {
     "iopub.execute_input": "2024-01-04T08:13:07.436962Z",
     "iopub.status.busy": "2024-01-04T08:13:07.436586Z",
     "iopub.status.idle": "2024-01-04T08:13:07.445238Z",
     "shell.execute_reply": "2024-01-04T08:13:07.444759Z"
    },
    "papermill": {
     "duration": 0.016448,
     "end_time": "2024-01-04T08:13:07.446016",
     "exception": false,
     "start_time": "2024-01-04T08:13:07.429568",
     "status": "completed"
    },
    "tags": []
   },
   "outputs": [
    {
     "data": {
      "text/html": [
       "<div>\n",
       "<style scoped>\n",
       "    .dataframe tbody tr th:only-of-type {\n",
       "        vertical-align: middle;\n",
       "    }\n",
       "\n",
       "    .dataframe tbody tr th {\n",
       "        vertical-align: top;\n",
       "    }\n",
       "\n",
       "    .dataframe thead th {\n",
       "        text-align: right;\n",
       "    }\n",
       "</style>\n",
       "<table border=\"1\" class=\"dataframe\">\n",
       "  <thead>\n",
       "    <tr style=\"text-align: right;\">\n",
       "      <th></th>\n",
       "      <th>dataset</th>\n",
       "      <th>x</th>\n",
       "      <th>y</th>\n",
       "    </tr>\n",
       "  </thead>\n",
       "  <tbody>\n",
       "    <tr>\n",
       "      <th>0</th>\n",
       "      <td>Two-Categorical I</td>\n",
       "      <td>C</td>\n",
       "      <td>Orange</td>\n",
       "    </tr>\n",
       "    <tr>\n",
       "      <th>1</th>\n",
       "      <td>Two-Categorical I</td>\n",
       "      <td>C</td>\n",
       "      <td>Orange</td>\n",
       "    </tr>\n",
       "    <tr>\n",
       "      <th>2</th>\n",
       "      <td>Two-Categorical I</td>\n",
       "      <td>B</td>\n",
       "      <td>Blue</td>\n",
       "    </tr>\n",
       "    <tr>\n",
       "      <th>3</th>\n",
       "      <td>Two-Categorical I</td>\n",
       "      <td>B</td>\n",
       "      <td>Blue</td>\n",
       "    </tr>\n",
       "    <tr>\n",
       "      <th>4</th>\n",
       "      <td>Two-Categorical I</td>\n",
       "      <td>A</td>\n",
       "      <td>Blue</td>\n",
       "    </tr>\n",
       "    <tr>\n",
       "      <th>...</th>\n",
       "      <td>...</td>\n",
       "      <td>...</td>\n",
       "      <td>...</td>\n",
       "    </tr>\n",
       "    <tr>\n",
       "      <th>395</th>\n",
       "      <td>Categorical-Numerical II</td>\n",
       "      <td>A</td>\n",
       "      <td>7.029552</td>\n",
       "    </tr>\n",
       "    <tr>\n",
       "      <th>396</th>\n",
       "      <td>Categorical-Numerical II</td>\n",
       "      <td>C</td>\n",
       "      <td>10.915389</td>\n",
       "    </tr>\n",
       "    <tr>\n",
       "      <th>397</th>\n",
       "      <td>Categorical-Numerical II</td>\n",
       "      <td>A</td>\n",
       "      <td>8.293415</td>\n",
       "    </tr>\n",
       "    <tr>\n",
       "      <th>398</th>\n",
       "      <td>Categorical-Numerical II</td>\n",
       "      <td>B</td>\n",
       "      <td>9.111649</td>\n",
       "    </tr>\n",
       "    <tr>\n",
       "      <th>399</th>\n",
       "      <td>Categorical-Numerical II</td>\n",
       "      <td>C</td>\n",
       "      <td>8.893113</td>\n",
       "    </tr>\n",
       "  </tbody>\n",
       "</table>\n",
       "<p>400 rows × 3 columns</p>\n",
       "</div>"
      ],
      "text/plain": [
       "                      dataset  x          y\n",
       "0           Two-Categorical I  C     Orange\n",
       "1           Two-Categorical I  C     Orange\n",
       "2           Two-Categorical I  B       Blue\n",
       "3           Two-Categorical I  B       Blue\n",
       "4           Two-Categorical I  A       Blue\n",
       "..                        ... ..        ...\n",
       "395  Categorical-Numerical II  A   7.029552\n",
       "396  Categorical-Numerical II  C  10.915389\n",
       "397  Categorical-Numerical II  A   8.293415\n",
       "398  Categorical-Numerical II  B   9.111649\n",
       "399  Categorical-Numerical II  C   8.893113\n",
       "\n",
       "[400 rows x 3 columns]"
      ]
     },
     "execution_count": 35,
     "metadata": {},
     "output_type": "execute_result"
    }
   ],
   "source": [
    "cat_datasets_df"
   ]
  },
  {
   "cell_type": "code",
   "execution_count": 36,
   "id": "506ff63d-c1f8-43f0-9261-4b491077c64b",
   "metadata": {
    "execution": {
     "iopub.execute_input": "2024-01-04T08:13:07.460801Z",
     "iopub.status.busy": "2024-01-04T08:13:07.460307Z",
     "iopub.status.idle": "2024-01-04T08:13:07.465973Z",
     "shell.execute_reply": "2024-01-04T08:13:07.465504Z"
    },
    "papermill": {
     "duration": 0.014039,
     "end_time": "2024-01-04T08:13:07.466813",
     "exception": false,
     "start_time": "2024-01-04T08:13:07.452774",
     "status": "completed"
    },
    "tags": []
   },
   "outputs": [],
   "source": [
    "def get_cm_line_points(y, max_parts, parts):\n",
    "    \"\"\"\n",
    "    Similar to previous function definition of same name, but only takes one variable.\n",
    "    \"\"\"\n",
    "    y_max_part = parts[1][max_parts[1]]\n",
    "    y_unique_k = {}\n",
    "    for k in np.unique(y_max_part):\n",
    "        data = y[y_max_part == k]\n",
    "        y_unique_k[k] = data.min(), data.max()\n",
    "    y_unique_k = sorted(y_unique_k.items(), key=lambda x: x[1][0])\n",
    "\n",
    "    # x_line_points, y_line_points = [], []\n",
    "    y_line_points = []\n",
    "\n",
    "    for idx in range(len(y_unique_k) - 1):\n",
    "        k, (k_min, k_max) = y_unique_k[idx]\n",
    "        nk, (nk_min, nk_max) = y_unique_k[idx + 1]\n",
    "\n",
    "        y_line_points.append((k_max + nk_min) / 2.0)\n",
    "\n",
    "    return y_line_points"
   ]
  },
  {
   "cell_type": "code",
   "execution_count": 37,
   "id": "6492c42b-41ed-4cc4-abd7-251642434de0",
   "metadata": {
    "execution": {
     "iopub.execute_input": "2024-01-04T08:13:07.481724Z",
     "iopub.status.busy": "2024-01-04T08:13:07.481356Z",
     "iopub.status.idle": "2024-01-04T08:13:07.486323Z",
     "shell.execute_reply": "2024-01-04T08:13:07.485839Z"
    },
    "papermill": {
     "duration": 0.013412,
     "end_time": "2024-01-04T08:13:07.487095",
     "exception": false,
     "start_time": "2024-01-04T08:13:07.473683",
     "status": "completed"
    },
    "tags": []
   },
   "outputs": [],
   "source": [
    "def plot_internal(x, y, **kwargs):\n",
    "    x = pd.to_numeric(x, errors=\"ignore\")\n",
    "    y = pd.to_numeric(y, errors=\"ignore\")\n",
    "\n",
    "    x_is_num = pd.api.types.is_numeric_dtype(x.dtype)\n",
    "    y_is_num = pd.api.types.is_numeric_dtype(y.dtype)\n",
    "\n",
    "    if not x_is_num and not y_is_num:\n",
    "        sns.countplot(x=x, hue=y, order=[\"A\", \"B\", \"C\"], hue_order=[\"Blue\", \"Orange\"])\n",
    "    elif not x_is_num and y_is_num:\n",
    "        sns.swarmplot(x=x, y=y, order=[\"A\", \"B\", \"C\"])"
   ]
  },
  {
   "cell_type": "code",
   "execution_count": 38,
   "id": "8fb2bace-ba2f-4f61-b394-adf4b7cd8d71",
   "metadata": {
    "execution": {
     "iopub.execute_input": "2024-01-04T08:13:07.502083Z",
     "iopub.status.busy": "2024-01-04T08:13:07.501672Z",
     "iopub.status.idle": "2024-01-04T08:13:10.740964Z",
     "shell.execute_reply": "2024-01-04T08:13:10.740544Z"
    },
    "papermill": {
     "duration": 3.247458,
     "end_time": "2024-01-04T08:13:10.741751",
     "exception": false,
     "start_time": "2024-01-04T08:13:07.494293",
     "status": "completed"
    },
    "tags": []
   },
   "outputs": [
    {
     "data": {
      "image/png": "[encoded data removed]",
      "text/plain": [
       "<Figure size 1440x360 with 4 Axes>"
      ]
     },
     "metadata": {
      "needs_background": "light"
     },
     "output_type": "display_data"
    }
   ],
   "source": [
    "with sns.plotting_context(\"paper\", font_scale=1.8):\n",
    "    g = sns.FacetGrid(\n",
    "        data=cat_datasets_df,\n",
    "        col=\"dataset\",\n",
    "        col_order=[\n",
    "            \"Two-Categorical I\",\n",
    "            \"Two-Categorical II\",\n",
    "            \"Categorical-Numerical I\",\n",
    "            \"Categorical-Numerical II\",\n",
    "        ],\n",
    "        col_wrap=4,\n",
    "        height=5,\n",
    "        legend_out=False,\n",
    "        sharex=False,\n",
    "        sharey=False,\n",
    "    )\n",
    "    g.map(plot_internal, \"x\", \"y\", s=1, alpha=1)\n",
    "    g.set_titles(row_template=\"{row_name}\", col_template=\"{col_name}\")\n",
    "    g.add_legend()\n",
    "    # g.set_xticklabels([])\n",
    "    g.set_yticklabels([])\n",
    "\n",
    "    for ax_idx, ax in enumerate(g.axes):\n",
    "        if ax_idx in (1, 3):\n",
    "            sns.despine(ax=ax, left=True)\n",
    "            ax.yaxis.set_tick_params(left=False)\n",
    "\n",
    "        if ax_idx in (0,):\n",
    "            ax.set(ylabel=\"$w$\", xlabel=\"$z$\")\n",
    "\n",
    "            ax.text(\n",
    "                -0.10,\n",
    "                1.02,\n",
    "                \"c)\",\n",
    "                fontweight=\"semibold\",\n",
    "                fontsize=20,\n",
    "                transform=ax.transAxes,\n",
    "                horizontalalignment=\"left\",\n",
    "            )\n",
    "\n",
    "        if ax_idx in (1,):\n",
    "            ax.set(xlabel=\"$z$\")\n",
    "\n",
    "        if ax_idx in (2,):\n",
    "            ax.set(ylabel=\"$y$\", xlabel=\"$z$\")\n",
    "\n",
    "            ax.text(\n",
    "                -0.10,\n",
    "                1.02,\n",
    "                \"d)\",\n",
    "                fontweight=\"semibold\",\n",
    "                fontsize=20,\n",
    "                transform=ax.transAxes,\n",
    "                horizontalalignment=\"left\",\n",
    "            )\n",
    "\n",
    "        if ax_idx in (3,):\n",
    "            ax.set(xlabel=\"$z$\")\n",
    "\n",
    "    mono = {\"family\": \"monospace\"}\n",
    "\n",
    "    for ds, ax in g.axes_dict.items():\n",
    "        df = categorical_datasets[ds]\n",
    "        x, y = df[\"x\"], df[\"y\"]\n",
    "        x = pd.to_numeric(x, errors=\"ignore\").to_numpy()\n",
    "        y = pd.to_numeric(y, errors=\"ignore\").to_numpy()\n",
    "\n",
    "        x_is_num = pd.api.types.is_numeric_dtype(x.dtype)\n",
    "        y_is_num = pd.api.types.is_numeric_dtype(y.dtype)\n",
    "\n",
    "        # ccc\n",
    "        (c, c_p), max_parts, parts = ccc(\n",
    "            x, y, return_parts=True, pvalue_n_perms=PVALUE_N_PERMS\n",
    "        )\n",
    "\n",
    "        if y_is_num:\n",
    "            y_line_points = get_cm_line_points(y, max_parts, parts)\n",
    "            for yp in y_line_points:\n",
    "                ax.hlines(y=yp, xmin=-0.5, xmax=20, color=\"r\", alpha=0.5)\n",
    "\n",
    "        # add text box for the statistics\n",
    "        stats = f\"$\\it{{c}}$ ={c: .2f}{pvalue_to_star(c_p)}\"\n",
    "        bbox = dict(boxstyle=\"round\", fc=\"white\", ec=\"black\", alpha=0.75)\n",
    "        ax.text(\n",
    "            0.69,\n",
    "            0.07,\n",
    "            stats,\n",
    "            fontsize=14,\n",
    "            fontdict=mono,\n",
    "            bbox=bbox,\n",
    "            transform=ax.transAxes,\n",
    "            horizontalalignment=\"left\",\n",
    "            linespacing=1.1,\n",
    "        )\n",
    "\n",
    "    plt.savefig(\n",
    "        OUTPUT_FIGURE_DIR / \"categorical_relationships.svg\",\n",
    "        # rasterized=True,\n",
    "        # dpi=300,\n",
    "        bbox_inches=\"tight\",\n",
    "        facecolor=\"white\",\n",
    "    )"
   ]
  },
  {
   "cell_type": "markdown",
   "id": "c4b46cc0-86ac-4801-89e9-fd145ac0bdc1",
   "metadata": {
    "papermill": {
     "duration": 0.011166,
     "end_time": "2024-01-04T08:13:10.760357",
     "exception": false,
     "start_time": "2024-01-04T08:13:10.749191",
     "status": "completed"
    },
    "tags": []
   },
   "source": [
    "# Create final figure"
   ]
  },
  {
   "cell_type": "code",
   "execution_count": 39,
   "id": "57090b29-80c6-4ae5-8d2e-a1f256f8a58c",
   "metadata": {
    "execution": {
     "iopub.execute_input": "2024-01-04T08:13:10.784321Z",
     "iopub.status.busy": "2024-01-04T08:13:10.784158Z",
     "iopub.status.idle": "2024-01-04T08:13:10.793460Z",
     "shell.execute_reply": "2024-01-04T08:13:10.793072Z"
    },
    "papermill": {
     "duration": 0.024855,
     "end_time": "2024-01-04T08:13:10.794268",
     "exception": false,
     "start_time": "2024-01-04T08:13:10.769413",
     "status": "completed"
    },
    "tags": []
   },
   "outputs": [],
   "source": [
    "from svgutils.compose import Figure, SVG, Panel"
   ]
  },
  {
   "cell_type": "code",
   "execution_count": 40,
   "id": "e5a39467-e448-43a9-a9ba-9f947bfff1ed",
   "metadata": {
    "execution": {
     "iopub.execute_input": "2024-01-04T08:13:10.809565Z",
     "iopub.status.busy": "2024-01-04T08:13:10.809477Z",
     "iopub.status.idle": "2024-01-04T08:13:10.817833Z",
     "shell.execute_reply": "2024-01-04T08:13:10.817479Z"
    },
    "papermill": {
     "duration": 0.016932,
     "end_time": "2024-01-04T08:13:10.818624",
     "exception": false,
     "start_time": "2024-01-04T08:13:10.801692",
     "status": "completed"
    },
    "tags": []
   },
   "outputs": [],
   "source": [
    "Figure(\n",
    "    \"8.0cm\",\n",
    "    \"6.5cm\",\n",
    "    Panel(\n",
    "        SVG(OUTPUT_FIGURE_DIR / \"numerical_relationships.svg\").scale(0.005),\n",
    "    ),\n",
    "    Panel(\n",
    "        SVG(OUTPUT_FIGURE_DIR / \"categorical_relationships.svg\").scale(0.005),\n",
    "    ).move(0, 3.45),\n",
    ").save(OUTPUT_FIGURE_DIR / f\"relationships.svg\")"
   ]
  },
  {
   "cell_type": "markdown",
   "id": "25237272-7e8a-4e3b-8958-d1660ddcb6b0",
   "metadata": {
    "papermill": {
     "duration": 0.007052,
     "end_time": "2024-01-04T08:13:10.833316",
     "exception": false,
     "start_time": "2024-01-04T08:13:10.826264",
     "status": "completed"
    },
    "tags": []
   },
   "source": [
    "Now open the file, reside to fit drawing to page, and add a white rectangle to the background."
   ]
  },
  {
   "cell_type": "code",
   "execution_count": null,
   "id": "1853d043-2f41-448a-8609-6c3eb8f83b7c",
   "metadata": {
    "papermill": {
     "duration": 0.007065,
     "end_time": "2024-01-04T08:13:10.847486",
     "exception": false,
     "start_time": "2024-01-04T08:13:10.840421",
     "status": "completed"
    },
    "tags": []
   },
   "outputs": [],
   "source": []
  }
 ],
 "metadata": {
  "jupytext": {
   "cell_metadata_filter": "all,-execution,-papermill,-trusted",
   "notebook_metadata_filter": "-jupytext.text_representation.jupytext_version"
  },
  "kernelspec": {
   "display_name": "Python 3 (ipykernel)",
   "language": "python",
   "name": "python3"
  },
  "language_info": {
   "codemirror_mode": {
    "name": "ipython",
    "version": 3
   },
   "file_extension": ".py",
   "mimetype": "text/x-python",
   "name": "python",
   "nbconvert_exporter": "python",
   "pygments_lexer": "ipython3",
   "version": "3.9.12"
  },
  "papermill": {
   "default_parameters": {},
   "duration": 31.557573,
   "end_time": "2024-01-04T08:13:11.273592",
   "environment_variables": {},
   "exception": null,
   "input_path": "nbs/99_manuscript/intro/05-relationships_analysis.ipynb",
   "output_path": "nbs/99_manuscript/intro/05-relationships_analysis.run.ipynb",
   "parameters": {},
   "start_time": "2024-01-04T08:12:39.716019",
   "version": "2.3.3"
  },
  "toc-autonumbering": true
 },
 "nbformat": 4,
 "nbformat_minor": 5
}
