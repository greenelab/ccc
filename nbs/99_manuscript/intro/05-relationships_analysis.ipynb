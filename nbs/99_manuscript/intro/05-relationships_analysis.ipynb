{
 "cells": [
  {
   "cell_type": "markdown",
   "id": "4efdf9ad-f1b0-40a4-a033-4bf93f7ad030",
   "metadata": {
    "papermill": {
     "duration": 0.007677,
     "end_time": "2023-12-04T18:41:43.832846",
     "exception": false,
     "start_time": "2023-12-04T18:41:43.825169",
     "status": "completed"
    },
    "tags": []
   },
   "source": [
    "# Description"
   ]
  },
  {
   "cell_type": "markdown",
   "id": "c8e1cfb2-bb21-40ab-9fd9-03c3458c0ab4",
   "metadata": {
    "papermill": {
     "duration": 0.007517,
     "end_time": "2023-12-04T18:41:43.850875",
     "exception": false,
     "start_time": "2023-12-04T18:41:43.843358",
     "status": "completed"
    },
    "tags": []
   },
   "source": [
    "It generates datasets showing different relationship types between pairs of variables (for instance, a linear or quadratic pattern) and then compares different correlation coefficients."
   ]
  },
  {
   "cell_type": "markdown",
   "id": "8b7de09b-03ff-445a-b460-9a32fe7c70ad",
   "metadata": {
    "papermill": {
     "duration": 0.00619,
     "end_time": "2023-12-04T18:41:43.863421",
     "exception": false,
     "start_time": "2023-12-04T18:41:43.857231",
     "status": "completed"
    },
    "tags": []
   },
   "source": [
    "# Modules"
   ]
  },
  {
   "cell_type": "code",
   "execution_count": 1,
   "id": "e63984b9-d85c-4ec2-854a-eea10d9f2cad",
   "metadata": {
    "execution": {
     "iopub.execute_input": "2023-12-04T18:41:43.877292Z",
     "iopub.status.busy": "2023-12-04T18:41:43.877068Z",
     "iopub.status.idle": "2023-12-04T18:41:44.675411Z",
     "shell.execute_reply": "2023-12-04T18:41:44.674973Z"
    },
    "papermill": {
     "duration": 0.807389,
     "end_time": "2023-12-04T18:41:44.677165",
     "exception": false,
     "start_time": "2023-12-04T18:41:43.869776",
     "status": "completed"
    },
    "tags": []
   },
   "outputs": [],
   "source": [
    "import pandas as pd\n",
    "import numpy as np\n",
    "from scipy.stats import pearsonr, spearmanr\n",
    "import matplotlib.pyplot as plt\n",
    "import seaborn as sns\n",
    "from sklearn.preprocessing import minmax_scale\n",
    "\n",
    "from ccc import conf\n",
    "from ccc.coef import ccc"
   ]
  },
  {
   "cell_type": "code",
   "execution_count": 2,
   "id": "18bb0c93-55f7-433e-8358-d076df5e4124",
   "metadata": {
    "execution": {
     "iopub.execute_input": "2023-12-04T18:41:44.691458Z",
     "iopub.status.busy": "2023-12-04T18:41:44.691351Z",
     "iopub.status.idle": "2023-12-04T18:41:44.694470Z",
     "shell.execute_reply": "2023-12-04T18:41:44.694095Z"
    },
    "papermill": {
     "duration": 0.011612,
     "end_time": "2023-12-04T18:41:44.695737",
     "exception": false,
     "start_time": "2023-12-04T18:41:44.684125",
     "status": "completed"
    },
    "tags": []
   },
   "outputs": [],
   "source": [
    "import matplotlib\n",
    "\n",
    "# matplotlib.rcParams['font.family'] = 'monospace'\n",
    "matplotlib.rcParams[\"mathtext.fontset\"] = \"custom\"\n",
    "matplotlib.rcParams[\"mathtext.rm\"] = \"monospace\"\n",
    "matplotlib.rcParams[\"mathtext.it\"] = \"monospace:italic\"\n",
    "matplotlib.rcParams[\"mathtext.bf\"] = \"monospace:bold\""
   ]
  },
  {
   "cell_type": "markdown",
   "id": "0619629b-09ba-462b-be5b-ad48ff7e8ffa",
   "metadata": {
    "papermill": {
     "duration": 0.006635,
     "end_time": "2023-12-04T18:41:44.709108",
     "exception": false,
     "start_time": "2023-12-04T18:41:44.702473",
     "status": "completed"
    },
    "tags": []
   },
   "source": [
    "# Settings"
   ]
  },
  {
   "cell_type": "markdown",
   "id": "a629452d-4419-4114-b7a2-176d99eaad5c",
   "metadata": {
    "papermill": {
     "duration": 0.006592,
     "end_time": "2023-12-04T18:41:44.722355",
     "exception": false,
     "start_time": "2023-12-04T18:41:44.715763",
     "status": "completed"
    },
    "tags": []
   },
   "source": [
    "# Paths"
   ]
  },
  {
   "cell_type": "code",
   "execution_count": 3,
   "id": "1dbdd918-9637-40a5-89d7-f40a741d681a",
   "metadata": {
    "execution": {
     "iopub.execute_input": "2023-12-04T18:41:44.736209Z",
     "iopub.status.busy": "2023-12-04T18:41:44.736107Z",
     "iopub.status.idle": "2023-12-04T18:41:44.738507Z",
     "shell.execute_reply": "2023-12-04T18:41:44.738116Z"
    },
    "papermill": {
     "duration": 0.010721,
     "end_time": "2023-12-04T18:41:44.739755",
     "exception": false,
     "start_time": "2023-12-04T18:41:44.729034",
     "status": "completed"
    },
    "tags": []
   },
   "outputs": [],
   "source": [
    "assert (\n",
    "    conf.MANUSCRIPT[\"BASE_DIR\"] is not None and conf.MANUSCRIPT[\"BASE_DIR\"].exists()\n",
    "), \"Manuscript dir not set\""
   ]
  },
  {
   "cell_type": "code",
   "execution_count": 4,
   "id": "0328bab2-98c9-4578-9349-3d281792de1a",
   "metadata": {
    "execution": {
     "iopub.execute_input": "2023-12-04T18:41:44.753520Z",
     "iopub.status.busy": "2023-12-04T18:41:44.753131Z",
     "iopub.status.idle": "2023-12-04T18:41:44.759145Z",
     "shell.execute_reply": "2023-12-04T18:41:44.758656Z"
    },
    "papermill": {
     "duration": 0.014186,
     "end_time": "2023-12-04T18:41:44.760411",
     "exception": false,
     "start_time": "2023-12-04T18:41:44.746225",
     "status": "completed"
    },
    "tags": []
   },
   "outputs": [
    {
     "data": {
      "text/plain": [
       "PosixPath('/opt/manuscript/content/images/intro')"
      ]
     },
     "metadata": {},
     "output_type": "display_data"
    }
   ],
   "source": [
    "OUTPUT_FIGURE_DIR = conf.MANUSCRIPT[\"FIGURES_DIR\"] / \"intro\"\n",
    "OUTPUT_FIGURE_DIR.mkdir(parents=True, exist_ok=True)\n",
    "display(OUTPUT_FIGURE_DIR)"
   ]
  },
  {
   "cell_type": "markdown",
   "id": "8a2c4b73-af23-44c8-8b30-b297ed3530e2",
   "metadata": {
    "papermill": {
     "duration": 0.006261,
     "end_time": "2023-12-04T18:41:44.773278",
     "exception": false,
     "start_time": "2023-12-04T18:41:44.767017",
     "status": "completed"
    },
    "tags": []
   },
   "source": [
    "# Generate datasets"
   ]
  },
  {
   "cell_type": "markdown",
   "id": "c785968f-e38f-4c53-b853-f3d686ad363c",
   "metadata": {
    "papermill": {
     "duration": 0.004646,
     "end_time": "2023-12-04T18:41:44.784368",
     "exception": false,
     "start_time": "2023-12-04T18:41:44.779722",
     "status": "completed"
    },
    "tags": []
   },
   "source": [
    "## Anscombe dataset"
   ]
  },
  {
   "cell_type": "code",
   "execution_count": 5,
   "id": "87900265-e80f-44ea-9803-671b3bc692e2",
   "metadata": {
    "execution": {
     "iopub.execute_input": "2023-12-04T18:41:44.792089Z",
     "iopub.status.busy": "2023-12-04T18:41:44.791688Z",
     "iopub.status.idle": "2023-12-04T18:41:44.797303Z",
     "shell.execute_reply": "2023-12-04T18:41:44.796815Z"
    },
    "papermill": {
     "duration": 0.010373,
     "end_time": "2023-12-04T18:41:44.798126",
     "exception": false,
     "start_time": "2023-12-04T18:41:44.787753",
     "status": "completed"
    },
    "tags": []
   },
   "outputs": [],
   "source": [
    "datasets_df = sns.load_dataset(\"anscombe\")"
   ]
  },
  {
   "cell_type": "code",
   "execution_count": 6,
   "id": "a20cf193-ebd6-4af5-a0ff-fdff19d05146",
   "metadata": {
    "execution": {
     "iopub.execute_input": "2023-12-04T18:41:44.805992Z",
     "iopub.status.busy": "2023-12-04T18:41:44.805615Z",
     "iopub.status.idle": "2023-12-04T18:41:44.809484Z",
     "shell.execute_reply": "2023-12-04T18:41:44.809023Z"
    },
    "papermill": {
     "duration": 0.008677,
     "end_time": "2023-12-04T18:41:44.810285",
     "exception": false,
     "start_time": "2023-12-04T18:41:44.801608",
     "status": "completed"
    },
    "tags": []
   },
   "outputs": [
    {
     "data": {
      "text/plain": [
       "(44, 3)"
      ]
     },
     "execution_count": 6,
     "metadata": {},
     "output_type": "execute_result"
    }
   ],
   "source": [
    "datasets_df.shape"
   ]
  },
  {
   "cell_type": "code",
   "execution_count": 7,
   "id": "322bb7eb-24e8-4976-b740-9af3bdf5c9f0",
   "metadata": {
    "execution": {
     "iopub.execute_input": "2023-12-04T18:41:44.818162Z",
     "iopub.status.busy": "2023-12-04T18:41:44.817749Z",
     "iopub.status.idle": "2023-12-04T18:41:44.826754Z",
     "shell.execute_reply": "2023-12-04T18:41:44.826265Z"
    },
    "papermill": {
     "duration": 0.013819,
     "end_time": "2023-12-04T18:41:44.827562",
     "exception": false,
     "start_time": "2023-12-04T18:41:44.813743",
     "status": "completed"
    },
    "tags": []
   },
   "outputs": [
    {
     "data": {
      "text/html": [
       "<div>\n",
       "<style scoped>\n",
       "    .dataframe tbody tr th:only-of-type {\n",
       "        vertical-align: middle;\n",
       "    }\n",
       "\n",
       "    .dataframe tbody tr th {\n",
       "        vertical-align: top;\n",
       "    }\n",
       "\n",
       "    .dataframe thead th {\n",
       "        text-align: right;\n",
       "    }\n",
       "</style>\n",
       "<table border=\"1\" class=\"dataframe\">\n",
       "  <thead>\n",
       "    <tr style=\"text-align: right;\">\n",
       "      <th></th>\n",
       "      <th>dataset</th>\n",
       "      <th>x</th>\n",
       "      <th>y</th>\n",
       "    </tr>\n",
       "  </thead>\n",
       "  <tbody>\n",
       "    <tr>\n",
       "      <th>0</th>\n",
       "      <td>I</td>\n",
       "      <td>10.0</td>\n",
       "      <td>8.04</td>\n",
       "    </tr>\n",
       "    <tr>\n",
       "      <th>1</th>\n",
       "      <td>I</td>\n",
       "      <td>8.0</td>\n",
       "      <td>6.95</td>\n",
       "    </tr>\n",
       "    <tr>\n",
       "      <th>2</th>\n",
       "      <td>I</td>\n",
       "      <td>13.0</td>\n",
       "      <td>7.58</td>\n",
       "    </tr>\n",
       "    <tr>\n",
       "      <th>3</th>\n",
       "      <td>I</td>\n",
       "      <td>9.0</td>\n",
       "      <td>8.81</td>\n",
       "    </tr>\n",
       "    <tr>\n",
       "      <th>4</th>\n",
       "      <td>I</td>\n",
       "      <td>11.0</td>\n",
       "      <td>8.33</td>\n",
       "    </tr>\n",
       "  </tbody>\n",
       "</table>\n",
       "</div>"
      ],
      "text/plain": [
       "  dataset     x     y\n",
       "0       I  10.0  8.04\n",
       "1       I   8.0  6.95\n",
       "2       I  13.0  7.58\n",
       "3       I   9.0  8.81\n",
       "4       I  11.0  8.33"
      ]
     },
     "execution_count": 7,
     "metadata": {},
     "output_type": "execute_result"
    }
   ],
   "source": [
    "datasets_df.head()"
   ]
  },
  {
   "cell_type": "code",
   "execution_count": 8,
   "id": "148acbe5-e354-4c36-98d9-57f66e6742f7",
   "metadata": {
    "execution": {
     "iopub.execute_input": "2023-12-04T18:41:44.835820Z",
     "iopub.status.busy": "2023-12-04T18:41:44.835366Z",
     "iopub.status.idle": "2023-12-04T18:41:44.839525Z",
     "shell.execute_reply": "2023-12-04T18:41:44.839031Z"
    },
    "papermill": {
     "duration": 0.009232,
     "end_time": "2023-12-04T18:41:44.840343",
     "exception": false,
     "start_time": "2023-12-04T18:41:44.831111",
     "status": "completed"
    },
    "tags": []
   },
   "outputs": [],
   "source": [
    "datasets_df = datasets_df.assign(\n",
    "    dataset=datasets_df[\"dataset\"].apply(lambda x: f\"Anscombe {x}\")\n",
    ")"
   ]
  },
  {
   "cell_type": "code",
   "execution_count": 9,
   "id": "b32b2f78-5052-448b-beda-38f424d9875f",
   "metadata": {
    "execution": {
     "iopub.execute_input": "2023-12-04T18:41:44.848851Z",
     "iopub.status.busy": "2023-12-04T18:41:44.848514Z",
     "iopub.status.idle": "2023-12-04T18:41:44.862392Z",
     "shell.execute_reply": "2023-12-04T18:41:44.861883Z"
    },
    "papermill": {
     "duration": 0.019103,
     "end_time": "2023-12-04T18:41:44.863256",
     "exception": false,
     "start_time": "2023-12-04T18:41:44.844153",
     "status": "completed"
    },
    "tags": []
   },
   "outputs": [
    {
     "data": {
      "text/html": [
       "<div>\n",
       "<style scoped>\n",
       "    .dataframe tbody tr th:only-of-type {\n",
       "        vertical-align: middle;\n",
       "    }\n",
       "\n",
       "    .dataframe tbody tr th {\n",
       "        vertical-align: top;\n",
       "    }\n",
       "\n",
       "    .dataframe thead th {\n",
       "        text-align: right;\n",
       "    }\n",
       "</style>\n",
       "<table border=\"1\" class=\"dataframe\">\n",
       "  <thead>\n",
       "    <tr style=\"text-align: right;\">\n",
       "      <th></th>\n",
       "      <th>x</th>\n",
       "      <th>y</th>\n",
       "    </tr>\n",
       "  </thead>\n",
       "  <tbody>\n",
       "    <tr>\n",
       "      <th>count</th>\n",
       "      <td>44.000000</td>\n",
       "      <td>44.000000</td>\n",
       "    </tr>\n",
       "    <tr>\n",
       "      <th>mean</th>\n",
       "      <td>9.000000</td>\n",
       "      <td>7.500682</td>\n",
       "    </tr>\n",
       "    <tr>\n",
       "      <th>std</th>\n",
       "      <td>3.198837</td>\n",
       "      <td>1.958925</td>\n",
       "    </tr>\n",
       "    <tr>\n",
       "      <th>min</th>\n",
       "      <td>4.000000</td>\n",
       "      <td>3.100000</td>\n",
       "    </tr>\n",
       "    <tr>\n",
       "      <th>25%</th>\n",
       "      <td>7.000000</td>\n",
       "      <td>6.117500</td>\n",
       "    </tr>\n",
       "    <tr>\n",
       "      <th>50%</th>\n",
       "      <td>8.000000</td>\n",
       "      <td>7.520000</td>\n",
       "    </tr>\n",
       "    <tr>\n",
       "      <th>75%</th>\n",
       "      <td>11.000000</td>\n",
       "      <td>8.747500</td>\n",
       "    </tr>\n",
       "    <tr>\n",
       "      <th>max</th>\n",
       "      <td>19.000000</td>\n",
       "      <td>12.740000</td>\n",
       "    </tr>\n",
       "  </tbody>\n",
       "</table>\n",
       "</div>"
      ],
      "text/plain": [
       "               x          y\n",
       "count  44.000000  44.000000\n",
       "mean    9.000000   7.500682\n",
       "std     3.198837   1.958925\n",
       "min     4.000000   3.100000\n",
       "25%     7.000000   6.117500\n",
       "50%     8.000000   7.520000\n",
       "75%    11.000000   8.747500\n",
       "max    19.000000  12.740000"
      ]
     },
     "execution_count": 9,
     "metadata": {},
     "output_type": "execute_result"
    }
   ],
   "source": [
    "datasets_df.describe()"
   ]
  },
  {
   "cell_type": "code",
   "execution_count": 10,
   "id": "95a9db8b-29e9-4c59-9826-c728c7b9180b",
   "metadata": {
    "execution": {
     "iopub.execute_input": "2023-12-04T18:41:44.871658Z",
     "iopub.status.busy": "2023-12-04T18:41:44.871238Z",
     "iopub.status.idle": "2023-12-04T18:41:44.874189Z",
     "shell.execute_reply": "2023-12-04T18:41:44.873720Z"
    },
    "papermill": {
     "duration": 0.007947,
     "end_time": "2023-12-04T18:41:44.874996",
     "exception": false,
     "start_time": "2023-12-04T18:41:44.867049",
     "status": "completed"
    },
    "tags": []
   },
   "outputs": [],
   "source": [
    "x_lim = (3, 20)\n",
    "y_lim = (3, 13)"
   ]
  },
  {
   "cell_type": "markdown",
   "id": "df0bea14-821a-4f07-b2a0-e956ae138c09",
   "metadata": {
    "papermill": {
     "duration": 0.003541,
     "end_time": "2023-12-04T18:41:44.882155",
     "exception": false,
     "start_time": "2023-12-04T18:41:44.878614",
     "status": "completed"
    },
    "tags": []
   },
   "source": [
    "## Quadratic"
   ]
  },
  {
   "cell_type": "code",
   "execution_count": 11,
   "id": "912943d2-a487-48f5-9b92-83242fa2f8c2",
   "metadata": {
    "execution": {
     "iopub.execute_input": "2023-12-04T18:41:44.890260Z",
     "iopub.status.busy": "2023-12-04T18:41:44.889926Z",
     "iopub.status.idle": "2023-12-04T18:41:44.892630Z",
     "shell.execute_reply": "2023-12-04T18:41:44.892159Z"
    },
    "papermill": {
     "duration": 0.007637,
     "end_time": "2023-12-04T18:41:44.893430",
     "exception": false,
     "start_time": "2023-12-04T18:41:44.885793",
     "status": "completed"
    },
    "tags": []
   },
   "outputs": [],
   "source": [
    "rel_name = \"Quadratic\""
   ]
  },
  {
   "cell_type": "code",
   "execution_count": 12,
   "id": "7b79e345-3dd0-48cf-9dee-2fb45822b074",
   "metadata": {
    "execution": {
     "iopub.execute_input": "2023-12-04T18:41:44.901548Z",
     "iopub.status.busy": "2023-12-04T18:41:44.901223Z",
     "iopub.status.idle": "2023-12-04T18:41:44.910192Z",
     "shell.execute_reply": "2023-12-04T18:41:44.909665Z"
    },
    "papermill": {
     "duration": 0.014111,
     "end_time": "2023-12-04T18:41:44.911192",
     "exception": false,
     "start_time": "2023-12-04T18:41:44.897081",
     "status": "completed"
    },
    "tags": []
   },
   "outputs": [],
   "source": [
    "np.random.seed(0)\n",
    "\n",
    "x = minmax_scale(np.random.rand(100), (-10, 10))\n",
    "y = np.power(x, 2.0)\n",
    "\n",
    "x = minmax_scale(x, (0, x_lim[1]))\n",
    "x = x + np.random.normal(0, 0.5, x.shape[0])\n",
    "y = minmax_scale(y, y_lim)\n",
    "y = y + np.random.normal(0, 0.5, y.shape[0])\n",
    "\n",
    "datasets_df = datasets_df[~datasets_df[\"dataset\"].isin((rel_name,))]\n",
    "datasets_df = datasets_df.append(\n",
    "    pd.DataFrame(\n",
    "        {\n",
    "            \"dataset\": rel_name,\n",
    "            \"x\": x,\n",
    "            \"y\": y,\n",
    "        }\n",
    "    ),\n",
    "    ignore_index=True,\n",
    ")"
   ]
  },
  {
   "cell_type": "markdown",
   "id": "869da4d1-0816-4ded-940f-8eada4532490",
   "metadata": {
    "papermill": {
     "duration": 0.003497,
     "end_time": "2023-12-04T18:41:44.918558",
     "exception": false,
     "start_time": "2023-12-04T18:41:44.915061",
     "status": "completed"
    },
    "tags": []
   },
   "source": [
    "## Non-coexistence"
   ]
  },
  {
   "cell_type": "code",
   "execution_count": 13,
   "id": "c7f7a4aa-d9eb-4917-beb8-59d91947b97f",
   "metadata": {
    "execution": {
     "iopub.execute_input": "2023-12-04T18:41:44.926919Z",
     "iopub.status.busy": "2023-12-04T18:41:44.926545Z",
     "iopub.status.idle": "2023-12-04T18:41:44.929416Z",
     "shell.execute_reply": "2023-12-04T18:41:44.928940Z"
    },
    "papermill": {
     "duration": 0.008054,
     "end_time": "2023-12-04T18:41:44.930237",
     "exception": false,
     "start_time": "2023-12-04T18:41:44.922183",
     "status": "completed"
    },
    "tags": []
   },
   "outputs": [],
   "source": [
    "rel_name = \"Non-coexistence\""
   ]
  },
  {
   "cell_type": "code",
   "execution_count": 14,
   "id": "d345cc0c-3e75-4fcb-9556-f8369b734449",
   "metadata": {
    "execution": {
     "iopub.execute_input": "2023-12-04T18:41:44.938520Z",
     "iopub.status.busy": "2023-12-04T18:41:44.938191Z",
     "iopub.status.idle": "2023-12-04T18:41:44.948149Z",
     "shell.execute_reply": "2023-12-04T18:41:44.947609Z"
    },
    "papermill": {
     "duration": 0.015181,
     "end_time": "2023-12-04T18:41:44.949200",
     "exception": false,
     "start_time": "2023-12-04T18:41:44.934019",
     "status": "completed"
    },
    "tags": []
   },
   "outputs": [],
   "source": [
    "np.random.seed(5)\n",
    "\n",
    "# x = minmax_scale(np.random.beta(0.5, 0.5, 50), (0.05, 20))\n",
    "# y = np.power(0.05, x) # np.log(x) / np.log(1/10.)\n",
    "\n",
    "x = minmax_scale(np.random.rand(50), (0, x_lim[1]))\n",
    "y = minmax_scale(np.random.rand(50), (2, 2 + 0.5))\n",
    "\n",
    "x2 = minmax_scale(np.random.rand(50), (0, 0 + 0.5))\n",
    "y2 = minmax_scale(np.random.rand(50), (2, y_lim[1]))\n",
    "x = np.append(x, x2)\n",
    "y = np.append(y, y2)\n",
    "\n",
    "# x = minmax_scale(x, (0, 20))\n",
    "x = x + np.random.normal(0, 0.05, x.shape[0])\n",
    "# y = minmax_scale(y, (3, 12))\n",
    "y = y + np.random.normal(0, 0.05, y.shape[0])\n",
    "\n",
    "datasets_df = datasets_df[~datasets_df[\"dataset\"].isin((rel_name,))]\n",
    "datasets_df = datasets_df.append(\n",
    "    pd.DataFrame(\n",
    "        {\n",
    "            \"dataset\": rel_name,\n",
    "            \"x\": x,\n",
    "            \"y\": y,\n",
    "        }\n",
    "    ),\n",
    "    ignore_index=True,\n",
    ")"
   ]
  },
  {
   "cell_type": "markdown",
   "id": "689579f3-f2cb-40d4-b913-378217f94acb",
   "metadata": {
    "papermill": {
     "duration": 0.003493,
     "end_time": "2023-12-04T18:41:44.956712",
     "exception": false,
     "start_time": "2023-12-04T18:41:44.953219",
     "status": "completed"
    },
    "tags": []
   },
   "source": [
    "## Two-lines"
   ]
  },
  {
   "cell_type": "code",
   "execution_count": 15,
   "id": "df0553e7-3d19-4fcb-b294-69c5a2292e9c",
   "metadata": {
    "execution": {
     "iopub.execute_input": "2023-12-04T18:41:44.964899Z",
     "iopub.status.busy": "2023-12-04T18:41:44.964532Z",
     "iopub.status.idle": "2023-12-04T18:41:44.967322Z",
     "shell.execute_reply": "2023-12-04T18:41:44.966839Z"
    },
    "papermill": {
     "duration": 0.007795,
     "end_time": "2023-12-04T18:41:44.968127",
     "exception": false,
     "start_time": "2023-12-04T18:41:44.960332",
     "status": "completed"
    },
    "tags": []
   },
   "outputs": [],
   "source": [
    "rel_name = \"Two-lines\""
   ]
  },
  {
   "cell_type": "code",
   "execution_count": 16,
   "id": "545070ae-9722-4ed4-a4e7-48faf33c912d",
   "metadata": {
    "execution": {
     "iopub.execute_input": "2023-12-04T18:41:44.976314Z",
     "iopub.status.busy": "2023-12-04T18:41:44.975930Z",
     "iopub.status.idle": "2023-12-04T18:41:44.984832Z",
     "shell.execute_reply": "2023-12-04T18:41:44.984351Z"
    },
    "papermill": {
     "duration": 0.013807,
     "end_time": "2023-12-04T18:41:44.985601",
     "exception": false,
     "start_time": "2023-12-04T18:41:44.971794",
     "status": "completed"
    },
    "tags": []
   },
   "outputs": [],
   "source": [
    "np.random.seed(5)\n",
    "\n",
    "x = minmax_scale(np.random.rand(50), x_lim)\n",
    "y = 0.3 * x\n",
    "\n",
    "x2 = minmax_scale(np.random.rand(50), (0, 5))\n",
    "y2 = 3.5 * x2\n",
    "x = np.append(x, x2)\n",
    "y = np.append(y, y2)\n",
    "\n",
    "# x = minmax_scale(x, (0, 20))\n",
    "x = x + np.random.normal(0, 0.5, x.shape[0])\n",
    "y = minmax_scale(y, y_lim)\n",
    "y = y + np.random.normal(0, 0.5, y.shape[0])\n",
    "\n",
    "datasets_df = datasets_df[~datasets_df[\"dataset\"].isin((rel_name,))]\n",
    "datasets_df = datasets_df.append(\n",
    "    pd.DataFrame(\n",
    "        {\n",
    "            \"dataset\": rel_name,\n",
    "            \"x\": x,\n",
    "            \"y\": y,\n",
    "        }\n",
    "    ),\n",
    "    ignore_index=True,\n",
    ")"
   ]
  },
  {
   "cell_type": "markdown",
   "id": "16c45c61-8ad7-4fea-9853-c41f60baf976",
   "metadata": {
    "papermill": {
     "duration": 0.003491,
     "end_time": "2023-12-04T18:41:44.992790",
     "exception": false,
     "start_time": "2023-12-04T18:41:44.989299",
     "status": "completed"
    },
    "tags": []
   },
   "source": [
    "## Random / independent"
   ]
  },
  {
   "cell_type": "code",
   "execution_count": 17,
   "id": "d066318e-1f1c-4032-87c8-cf2557a62230",
   "metadata": {
    "execution": {
     "iopub.execute_input": "2023-12-04T18:41:45.000891Z",
     "iopub.status.busy": "2023-12-04T18:41:45.000544Z",
     "iopub.status.idle": "2023-12-04T18:41:45.003241Z",
     "shell.execute_reply": "2023-12-04T18:41:45.002763Z"
    },
    "papermill": {
     "duration": 0.00766,
     "end_time": "2023-12-04T18:41:45.004040",
     "exception": false,
     "start_time": "2023-12-04T18:41:44.996380",
     "status": "completed"
    },
    "tags": []
   },
   "outputs": [],
   "source": [
    "rel_name = \"Random / independent\""
   ]
  },
  {
   "cell_type": "code",
   "execution_count": 18,
   "id": "beb68af6-dd8a-4da3-a532-7477aa0c6fbc",
   "metadata": {
    "execution": {
     "iopub.execute_input": "2023-12-04T18:41:45.012218Z",
     "iopub.status.busy": "2023-12-04T18:41:45.011802Z",
     "iopub.status.idle": "2023-12-04T18:41:45.026217Z",
     "shell.execute_reply": "2023-12-04T18:41:45.025444Z"
    },
    "papermill": {
     "duration": 0.019741,
     "end_time": "2023-12-04T18:41:45.027430",
     "exception": false,
     "start_time": "2023-12-04T18:41:45.007689",
     "status": "completed"
    },
    "tags": []
   },
   "outputs": [],
   "source": [
    "np.random.seed(10)\n",
    "\n",
    "x = np.random.rand(100)\n",
    "y = np.random.rand(100)\n",
    "\n",
    "x = minmax_scale(x, (0, x_lim[1]))\n",
    "y = minmax_scale(y, y_lim)\n",
    "\n",
    "datasets_df = datasets_df[~datasets_df[\"dataset\"].isin((rel_name,))]\n",
    "datasets_df = datasets_df.append(\n",
    "    pd.DataFrame(\n",
    "        {\n",
    "            \"dataset\": rel_name,\n",
    "            \"x\": x,\n",
    "            \"y\": y,\n",
    "        }\n",
    "    ),\n",
    "    ignore_index=True,\n",
    ")"
   ]
  },
  {
   "cell_type": "markdown",
   "id": "c51eaf1c-4bff-40ef-9c76-fcea77ca90c5",
   "metadata": {
    "papermill": {
     "duration": 0.003683,
     "end_time": "2023-12-04T18:41:45.055546",
     "exception": false,
     "start_time": "2023-12-04T18:41:45.051863",
     "status": "completed"
    },
    "tags": []
   },
   "source": [
    "Create a dictionary with easier access to datasets"
   ]
  },
  {
   "cell_type": "code",
   "execution_count": 19,
   "id": "9328a89b-dbd7-4faf-adeb-8a9a3a60af9e",
   "metadata": {
    "execution": {
     "iopub.execute_input": "2023-12-04T18:41:45.063643Z",
     "iopub.status.busy": "2023-12-04T18:41:45.063451Z",
     "iopub.status.idle": "2023-12-04T18:41:45.068616Z",
     "shell.execute_reply": "2023-12-04T18:41:45.068217Z"
    },
    "papermill": {
     "duration": 0.010164,
     "end_time": "2023-12-04T18:41:45.069340",
     "exception": false,
     "start_time": "2023-12-04T18:41:45.059176",
     "status": "completed"
    },
    "tags": []
   },
   "outputs": [],
   "source": [
    "datasets = {\n",
    "    idx: df.drop(columns=\"dataset\") for idx, df in datasets_df.groupby(\"dataset\")\n",
    "}"
   ]
  },
  {
   "cell_type": "markdown",
   "id": "e9110ac9-5968-405f-9070-eca3f9389a54",
   "metadata": {
    "papermill": {
     "duration": 0.003585,
     "end_time": "2023-12-04T18:41:45.076607",
     "exception": false,
     "start_time": "2023-12-04T18:41:45.073022",
     "status": "completed"
    },
    "tags": []
   },
   "source": [
    "# Plot"
   ]
  },
  {
   "cell_type": "code",
   "execution_count": 20,
   "id": "0109f1d9-22ff-42fd-8bf8-ab84f449cbbd",
   "metadata": {
    "execution": {
     "iopub.execute_input": "2023-12-04T18:41:45.084391Z",
     "iopub.status.busy": "2023-12-04T18:41:45.084301Z",
     "iopub.status.idle": "2023-12-04T18:41:45.089433Z",
     "shell.execute_reply": "2023-12-04T18:41:45.089056Z"
    },
    "papermill": {
     "duration": 0.009929,
     "end_time": "2023-12-04T18:41:45.090158",
     "exception": false,
     "start_time": "2023-12-04T18:41:45.080229",
     "status": "completed"
    },
    "tags": []
   },
   "outputs": [],
   "source": [
    "def get_cm_line_points(x, y, max_parts, parts):\n",
    "    \"\"\"\n",
    "    Given two data vectors (x and y) and the max_parts and parts\n",
    "    returned from calling cm, this function returns two arrays with\n",
    "    scalars to draw the lines that separates clusters in x and y.\n",
    "    \"\"\"\n",
    "    # get the ccc partitions that maximize the coefficient\n",
    "    x_max_part = parts[0][max_parts[0]]\n",
    "    x_unique_k = {}\n",
    "    for k in np.unique(x_max_part):\n",
    "        data = x[x_max_part == k]\n",
    "        x_unique_k[k] = data.min(), data.max()\n",
    "    x_unique_k = sorted(x_unique_k.items(), key=lambda x: x[1][0])\n",
    "\n",
    "    y_max_part = parts[1][max_parts[1]]\n",
    "    y_unique_k = {}\n",
    "    for k in np.unique(y_max_part):\n",
    "        data = y[y_max_part == k]\n",
    "        y_unique_k[k] = data.min(), data.max()\n",
    "    y_unique_k = sorted(y_unique_k.items(), key=lambda x: x[1][0])\n",
    "\n",
    "    x_line_points, y_line_points = [], []\n",
    "\n",
    "    for idx in range(len(x_unique_k) - 1):\n",
    "        k, (k_min, k_max) = x_unique_k[idx]\n",
    "        nk, (nk_min, nk_max) = x_unique_k[idx + 1]\n",
    "\n",
    "        x_line_points.append((k_max + nk_min) / 2.0)\n",
    "\n",
    "    for idx in range(len(y_unique_k) - 1):\n",
    "        k, (k_min, k_max) = y_unique_k[idx]\n",
    "        nk, (nk_min, nk_max) = y_unique_k[idx + 1]\n",
    "\n",
    "        y_line_points.append((k_max + nk_min) / 2.0)\n",
    "\n",
    "    return x_line_points, y_line_points"
   ]
  },
  {
   "cell_type": "code",
   "execution_count": 21,
   "id": "8201a1b3-a455-41ac-913f-98b3ba9363d8",
   "metadata": {
    "execution": {
     "iopub.execute_input": "2023-12-04T18:41:45.098358Z",
     "iopub.status.busy": "2023-12-04T18:41:45.098020Z",
     "iopub.status.idle": "2023-12-04T18:41:45.101537Z",
     "shell.execute_reply": "2023-12-04T18:41:45.101060Z"
    },
    "papermill": {
     "duration": 0.008542,
     "end_time": "2023-12-04T18:41:45.102363",
     "exception": false,
     "start_time": "2023-12-04T18:41:45.093821",
     "status": "completed"
    },
    "tags": []
   },
   "outputs": [],
   "source": [
    "def pvalue_to_star(pvalue):\n",
    "    s = \"   \"\n",
    "    if pvalue < 0.001:\n",
    "        s = \"***\"\n",
    "    elif pvalue < 0.01:\n",
    "        s = \"** \"\n",
    "    elif pvalue < 0.05:\n",
    "        s = \"*  \"\n",
    "\n",
    "    return s"
   ]
  },
  {
   "cell_type": "code",
   "execution_count": 22,
   "id": "bbd15cd4-c9ea-40a7-a08c-c2a15781ce4e",
   "metadata": {
    "execution": {
     "iopub.execute_input": "2023-12-04T18:41:45.110622Z",
     "iopub.status.busy": "2023-12-04T18:41:45.110294Z",
     "iopub.status.idle": "2023-12-04T18:41:45.114063Z",
     "shell.execute_reply": "2023-12-04T18:41:45.113590Z"
    },
    "papermill": {
     "duration": 0.008765,
     "end_time": "2023-12-04T18:41:45.114869",
     "exception": false,
     "start_time": "2023-12-04T18:41:45.106104",
     "status": "completed"
    },
    "tags": []
   },
   "outputs": [],
   "source": [
    "assert pvalue_to_star(0.06) == \"   \"\n",
    "assert pvalue_to_star(0.04) == \"*  \"\n",
    "assert pvalue_to_star(0.02) == \"*  \"\n",
    "assert pvalue_to_star(0.01) == \"*  \"\n",
    "assert pvalue_to_star(0.005) == \"** \"\n",
    "assert pvalue_to_star(0.001) == \"** \"\n",
    "assert pvalue_to_star(0.0001) == \"***\""
   ]
  },
  {
   "cell_type": "code",
   "execution_count": 23,
   "id": "55ecad23-cf11-4ed5-a81d-c7faa16ad8b9",
   "metadata": {
    "execution": {
     "iopub.execute_input": "2023-12-04T18:41:45.123092Z",
     "iopub.status.busy": "2023-12-04T18:41:45.122673Z",
     "iopub.status.idle": "2023-12-04T18:42:09.576208Z",
     "shell.execute_reply": "2023-12-04T18:42:09.575801Z"
    },
    "papermill": {
     "duration": 24.459916,
     "end_time": "2023-12-04T18:42:09.578416",
     "exception": false,
     "start_time": "2023-12-04T18:41:45.118500",
     "status": "completed"
    },
    "tags": []
   },
   "outputs": [
    {
     "data": {
      "image/png": "[encoded data removed]",
      "text/plain": [
       "<Figure size 1440x720 with 8 Axes>"
      ]
     },
     "metadata": {
      "needs_background": "light"
     },
     "output_type": "display_data"
    }
   ],
   "source": [
    "with sns.plotting_context(\"paper\", font_scale=1.8):\n",
    "    g = sns.FacetGrid(\n",
    "        data=datasets_df,\n",
    "        col=\"dataset\",\n",
    "        col_order=[\n",
    "            \"Anscombe I\",\n",
    "            \"Anscombe II\",\n",
    "            \"Anscombe III\",\n",
    "            \"Anscombe IV\",\n",
    "            \"Random / independent\",\n",
    "            \"Non-coexistence\",\n",
    "            \"Quadratic\",\n",
    "            \"Two-lines\",\n",
    "        ],\n",
    "        col_wrap=4,\n",
    "        height=5,\n",
    "    )\n",
    "    g.map(sns.scatterplot, \"x\", \"y\", s=50, alpha=1)\n",
    "    g.set_titles(row_template=\"{row_name}\", col_template=\"{col_name}\")\n",
    "\n",
    "    mono = {\"family\": \"monospace\"}\n",
    "\n",
    "    for ds, ax in g.axes_dict.items():\n",
    "        df = datasets[ds].to_numpy()\n",
    "        x, y = df[:, 0], df[:, 1]\n",
    "\n",
    "        # pearson and spearman\n",
    "        r, r_p = pearsonr(x, y)\n",
    "        rs, rs_p = spearmanr(x, y)\n",
    "\n",
    "        # ccc\n",
    "        c, max_parts, parts = ccc(x, y, return_parts=True)\n",
    "        c, c_p = ccc(x, y, pvalue_n_perms=10000)\n",
    "\n",
    "        x_line_points, y_line_points = get_cm_line_points(x, y, max_parts, parts)\n",
    "        for yp in y_line_points:\n",
    "            ax.hlines(y=yp, xmin=-0.5, xmax=20, color=\"r\", alpha=0.5)\n",
    "\n",
    "        for xp in x_line_points:\n",
    "            ax.vlines(x=xp, ymin=1.5, ymax=14, color=\"r\", alpha=0.5)\n",
    "\n",
    "        # add text box for the statistics\n",
    "        stats = (\n",
    "            f\"$\\it{{p}}$ ={r: .2f}{pvalue_to_star(r_p)}\\n\"\n",
    "            f\"$\\it{{s}}$ ={rs: .2f}{pvalue_to_star(rs_p)}\\n\"\n",
    "            f\"$\\it{{c}}$ ={c: .2f}{pvalue_to_star(c_p)}\"\n",
    "        )\n",
    "        bbox = dict(boxstyle=\"round\", fc=\"white\", ec=\"black\", alpha=0.75)\n",
    "        ax.text(\n",
    "            0.69,\n",
    "            0.07,\n",
    "            stats,\n",
    "            fontsize=14,\n",
    "            fontdict=mono,\n",
    "            bbox=bbox,\n",
    "            transform=ax.transAxes,\n",
    "            horizontalalignment=\"left\",\n",
    "            linespacing=1.1,\n",
    "        )\n",
    "\n",
    "    plt.savefig(\n",
    "        OUTPUT_FIGURE_DIR / \"relationships.svg\",\n",
    "        # rasterized=True,\n",
    "        # dpi=300,\n",
    "        bbox_inches=\"tight\",\n",
    "        facecolor=\"white\",\n",
    "    )"
   ]
  },
  {
   "cell_type": "markdown",
   "id": "385c9fdb-823b-4eda-a551-dcdbe62e0943",
   "metadata": {
    "papermill": {
     "duration": 0.008003,
     "end_time": "2023-12-04T18:42:09.594882",
     "exception": false,
     "start_time": "2023-12-04T18:42:09.586879",
     "status": "completed"
    },
    "tags": []
   },
   "source": [
    "**Takeaways**:\n",
    "\n",
    "A more detailed explanation of this figure is present in this PR: https://github.com/greenelab/ccc-manuscript/pull/3\n",
    "\n",
    "Some points:\n",
    "\n",
    "1. When the number of internal clusters (separated by red lines) is higher, CCC is able to capture more complex relationships.\n",
    "1. With two internal clusters (Anscombe I, II and III) for each variable pair, CCC seems to capture linear relationships. However, two clusters also capture non-coexistence relationships."
   ]
  },
  {
   "cell_type": "code",
   "execution_count": null,
   "id": "1853d043-2f41-448a-8609-6c3eb8f83b7c",
   "metadata": {
    "papermill": {
     "duration": 0.008003,
     "end_time": "2023-12-04T18:42:09.611043",
     "exception": false,
     "start_time": "2023-12-04T18:42:09.603040",
     "status": "completed"
    },
    "tags": []
   },
   "outputs": [],
   "source": []
  }
 ],
 "metadata": {
  "jupytext": {
   "cell_metadata_filter": "all,-execution,-papermill,-trusted",
   "notebook_metadata_filter": "-jupytext.text_representation.jupytext_version"
  },
  "kernelspec": {
   "display_name": "Python 3 (ipykernel)",
   "language": "python",
   "name": "python3"
  },
  "language_info": {
   "codemirror_mode": {
    "name": "ipython",
    "version": 3
   },
   "file_extension": ".py",
   "mimetype": "text/x-python",
   "name": "python",
   "nbconvert_exporter": "python",
   "pygments_lexer": "ipython3",
   "version": "3.9.12"
  },
  "papermill": {
   "default_parameters": {},
   "duration": 27.127077,
   "end_time": "2023-12-04T18:42:10.036390",
   "environment_variables": {},
   "exception": null,
   "input_path": "nbs/99_manuscript/intro/05-relationships_analysis.ipynb",
   "output_path": "nbs/99_manuscript/intro/05-relationships_analysis.run.ipynb",
   "parameters": {},
   "start_time": "2023-12-04T18:41:42.909313",
   "version": "2.3.3"
  },
  "toc-autonumbering": true
 },
 "nbformat": 4,
 "nbformat_minor": 5
}
