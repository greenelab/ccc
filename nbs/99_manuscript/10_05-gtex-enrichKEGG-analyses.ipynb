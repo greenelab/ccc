{
 "cells": [
  {
   "cell_type": "markdown",
   "id": "4b79d660-2ab1-42c2-a4d5-467d2534e5dc",
   "metadata": {
    "papermill": {
     "duration": 0.05443,
     "end_time": "2021-09-21T01:08:26.664204",
     "exception": false,
     "start_time": "2021-09-21T01:08:26.609774",
     "status": "completed"
    },
    "tags": []
   },
   "source": [
    "# Description"
   ]
  },
  {
   "cell_type": "markdown",
   "id": "9f0b6db4-6f06-4856-a4b8-e24548d0f1d9",
   "metadata": {
    "papermill": {
     "duration": 0.018505,
     "end_time": "2021-09-21T01:08:26.702179",
     "exception": false,
     "start_time": "2021-09-21T01:08:26.683674",
     "status": "completed"
    },
    "tags": []
   },
   "source": [
    "TODO"
   ]
  },
  {
   "cell_type": "markdown",
   "id": "dfb4a759-748a-4a19-b773-992a23cb9327",
   "metadata": {
    "papermill": {
     "duration": 0.017986,
     "end_time": "2021-09-21T01:08:26.738014",
     "exception": false,
     "start_time": "2021-09-21T01:08:26.720028",
     "status": "completed"
    },
    "tags": []
   },
   "source": [
    "# Modules loading"
   ]
  },
  {
   "cell_type": "code",
   "execution_count": 1,
   "id": "98e28052-34cc-43fc-87f3-a1b61eeb14fc",
   "metadata": {
    "papermill": {
     "duration": 0.98246,
     "end_time": "2021-09-21T01:08:27.738520",
     "exception": false,
     "start_time": "2021-09-21T01:08:26.756060",
     "status": "completed"
    },
    "tags": []
   },
   "outputs": [],
   "source": [
    "import re\n",
    "\n",
    "import numpy as np\n",
    "import pandas as pd\n",
    "import matplotlib.pyplot as plt\n",
    "import seaborn as sns\n",
    "from tqdm import tqdm\n",
    "\n",
    "from clustermatch import conf"
   ]
  },
  {
   "cell_type": "markdown",
   "id": "76fa50d9-680c-4107-b705-009070735d89",
   "metadata": {
    "papermill": {
     "duration": 0.018302,
     "end_time": "2021-09-21T01:08:27.775660",
     "exception": false,
     "start_time": "2021-09-21T01:08:27.757358",
     "status": "completed"
    },
    "tags": []
   },
   "source": [
    "# Settings"
   ]
  },
  {
   "cell_type": "code",
   "execution_count": 2,
   "id": "ec5b3505-a17a-4bca-85c3-87adede4d410",
   "metadata": {},
   "outputs": [],
   "source": [
    "DATASET_CONFIG = conf.GTEX"
   ]
  },
  {
   "cell_type": "code",
   "execution_count": 3,
   "id": "7e12ded2-5649-4e35-a946-07c8724ea421",
   "metadata": {
    "papermill": {
     "duration": 0.023202,
     "end_time": "2021-09-21T01:08:27.816886",
     "exception": false,
     "start_time": "2021-09-21T01:08:27.793684",
     "status": "completed"
    },
    "tags": []
   },
   "outputs": [],
   "source": [
    "# ENRICH_FUNCTION = \"enrichGO\""
   ]
  },
  {
   "cell_type": "code",
   "execution_count": 4,
   "id": "f10c4d5f-e737-4066-866a-e4f2404e5922",
   "metadata": {
    "papermill": {
     "duration": 0.023202,
     "end_time": "2021-09-21T01:08:27.816886",
     "exception": false,
     "start_time": "2021-09-21T01:08:27.793684",
     "status": "completed"
    },
    "tags": []
   },
   "outputs": [],
   "source": [
    "# CORRELATION_METHOD_NAME = \"clustermatch\""
   ]
  },
  {
   "cell_type": "code",
   "execution_count": 5,
   "id": "ff5b04ea-1161-499a-9aff-a3f5f0efd7ce",
   "metadata": {
    "papermill": {
     "duration": 0.023527,
     "end_time": "2021-09-21T01:08:27.859971",
     "exception": false,
     "start_time": "2021-09-21T01:08:27.836444",
     "status": "completed"
    },
    "tags": []
   },
   "outputs": [],
   "source": [
    "# GENE_SELECTION_STRATEGY = \"var_pc_log2\""
   ]
  },
  {
   "cell_type": "code",
   "execution_count": 6,
   "id": "c0e27c63-0b49-47f1-8147-6c47b90ea3d9",
   "metadata": {},
   "outputs": [],
   "source": [
    "# # clusterProfiler settings\n",
    "# ENRICH_FUNCTION = \"enrichGO\"\n",
    "# SIMPLIFY_CUTOFF = 0.7\n",
    "# GO_ONTOLOGIES = (\"BP\", \"CC\", \"MF\")"
   ]
  },
  {
   "cell_type": "code",
   "execution_count": 7,
   "id": "d67b1af4-a310-45f5-a6e9-919df1fd2165",
   "metadata": {},
   "outputs": [],
   "source": [
    "# SIMILARITY_MATRICES_DIR = DATASET_CONFIG[\"SIMILARITY_MATRICES_DIR\"]\n",
    "# display(SIMILARITY_MATRICES_DIR)"
   ]
  },
  {
   "cell_type": "code",
   "execution_count": 8,
   "id": "22b5ec88-d626-4db3-ada1-81cf48f23579",
   "metadata": {},
   "outputs": [],
   "source": [
    "# SIMILARITY_MATRIX_FILENAME_TEMPLATE = DATASET_CONFIG[\"SIMILARITY_MATRIX_FILENAME_TEMPLATE\"]\n",
    "# display(SIMILARITY_MATRIX_FILENAME_TEMPLATE)"
   ]
  },
  {
   "cell_type": "markdown",
   "id": "eee530dc-b562-4b54-8bc3-a9c831ac052c",
   "metadata": {
    "papermill": {
     "duration": 0.018256,
     "end_time": "2021-09-21T01:08:28.146573",
     "exception": false,
     "start_time": "2021-09-21T01:08:28.128317",
     "status": "completed"
    },
    "tags": []
   },
   "source": [
    "# Paths"
   ]
  },
  {
   "cell_type": "code",
   "execution_count": 9,
   "id": "b89c7a90-c325-4557-9107-7ba95e8bf03a",
   "metadata": {
    "papermill": {
     "duration": 0.025306,
     "end_time": "2021-09-21T01:08:28.234279",
     "exception": false,
     "start_time": "2021-09-21T01:08:28.208973",
     "status": "completed"
    },
    "tags": []
   },
   "outputs": [
    {
     "data": {
      "text/plain": [
       "PosixPath('/home/miltondp/projects/labs/greenelab/clustermatch_repos/clustermatch-gene-expr/base/results/gtex_v8/gene_set_enrichment/gtex_v8_data-gene_set_enrichment.pkl')"
      ]
     },
     "metadata": {},
     "output_type": "display_data"
    }
   ],
   "source": [
    "INPUT_FILE = DATASET_CONFIG[\"GENE_ENRICHMENT_COMBINED_FILE\"]\n",
    "display(INPUT_FILE)\n",
    "assert INPUT_FILE.exists()"
   ]
  },
  {
   "cell_type": "markdown",
   "id": "ec13a933-c48b-412b-9147-6aca9548be9f",
   "metadata": {
    "papermill": {
     "duration": 0.019217,
     "end_time": "2021-09-21T01:08:28.355017",
     "exception": false,
     "start_time": "2021-09-21T01:08:28.335800",
     "status": "completed"
    },
    "tags": []
   },
   "source": [
    "# Load data"
   ]
  },
  {
   "cell_type": "code",
   "execution_count": 10,
   "id": "dba36444-b52f-4934-8950-786cd0c51a61",
   "metadata": {},
   "outputs": [],
   "source": [
    "df = pd.read_pickle(INPUT_FILE)"
   ]
  },
  {
   "cell_type": "code",
   "execution_count": 11,
   "id": "840e3a37-4f34-4689-98d3-79f2ee1a9f5b",
   "metadata": {},
   "outputs": [
    {
     "data": {
      "text/plain": [
       "(84471, 20)"
      ]
     },
     "execution_count": 11,
     "metadata": {},
     "output_type": "execute_result"
    }
   ],
   "source": [
    "df.shape"
   ]
  },
  {
   "cell_type": "code",
   "execution_count": 12,
   "id": "13210110-8c3a-411c-9ce8-012423b1006e",
   "metadata": {},
   "outputs": [
    {
     "data": {
      "text/plain": [
       "Index(['n_clusters', 'cluster_id', 'term_id', 'term_desc', 'gene_count',\n",
       "       'gene_total', 'gene_ratio', 'bg_count', 'bg_total', 'bg_ratio',\n",
       "       'pvalue', 'pvalue_adjust', 'rich_factor', 'fold_enrich', 'tissue',\n",
       "       'gene_sel_strategy', 'corr_method', 'clust_method', 'enrich_func',\n",
       "       'enrich_params'],\n",
       "      dtype='object')"
      ]
     },
     "execution_count": 12,
     "metadata": {},
     "output_type": "execute_result"
    }
   ],
   "source": [
    "df.columns"
   ]
  },
  {
   "cell_type": "code",
   "execution_count": 13,
   "id": "a0aec274-c723-4af5-b381-863aada8ce98",
   "metadata": {},
   "outputs": [
    {
     "data": {
      "text/html": [
       "<div>\n",
       "<style scoped>\n",
       "    .dataframe tbody tr th:only-of-type {\n",
       "        vertical-align: middle;\n",
       "    }\n",
       "\n",
       "    .dataframe tbody tr th {\n",
       "        vertical-align: top;\n",
       "    }\n",
       "\n",
       "    .dataframe thead th {\n",
       "        text-align: right;\n",
       "    }\n",
       "</style>\n",
       "<table border=\"1\" class=\"dataframe\">\n",
       "  <thead>\n",
       "    <tr style=\"text-align: right;\">\n",
       "      <th></th>\n",
       "      <th>n_clusters</th>\n",
       "      <th>cluster_id</th>\n",
       "      <th>term_id</th>\n",
       "      <th>term_desc</th>\n",
       "      <th>gene_count</th>\n",
       "      <th>gene_total</th>\n",
       "      <th>gene_ratio</th>\n",
       "      <th>bg_count</th>\n",
       "      <th>bg_total</th>\n",
       "      <th>bg_ratio</th>\n",
       "      <th>pvalue</th>\n",
       "      <th>pvalue_adjust</th>\n",
       "      <th>rich_factor</th>\n",
       "      <th>fold_enrich</th>\n",
       "      <th>tissue</th>\n",
       "      <th>gene_sel_strategy</th>\n",
       "      <th>corr_method</th>\n",
       "      <th>clust_method</th>\n",
       "      <th>enrich_func</th>\n",
       "      <th>enrich_params</th>\n",
       "    </tr>\n",
       "  </thead>\n",
       "  <tbody>\n",
       "    <tr>\n",
       "      <th>0</th>\n",
       "      <td>2</td>\n",
       "      <td>C0</td>\n",
       "      <td>hsa04380</td>\n",
       "      <td>Osteoclast differentiation</td>\n",
       "      <td>27</td>\n",
       "      <td>248</td>\n",
       "      <td>0.108871</td>\n",
       "      <td>51</td>\n",
       "      <td>1774</td>\n",
       "      <td>0.028749</td>\n",
       "      <td>2.376904e-11</td>\n",
       "      <td>5.229189e-09</td>\n",
       "      <td>0.529412</td>\n",
       "      <td>3.787002</td>\n",
       "      <td>adipose_subcutaneous</td>\n",
       "      <td>var_pc_log2</td>\n",
       "      <td>clustermatch</td>\n",
       "      <td>SpectralClustering</td>\n",
       "      <td>enrichKEGG</td>\n",
       "      <td>hsa</td>\n",
       "    </tr>\n",
       "    <tr>\n",
       "      <th>1</th>\n",
       "      <td>2</td>\n",
       "      <td>C0</td>\n",
       "      <td>hsa04613</td>\n",
       "      <td>Neutrophil extracellular trap formation</td>\n",
       "      <td>25</td>\n",
       "      <td>248</td>\n",
       "      <td>0.100806</td>\n",
       "      <td>50</td>\n",
       "      <td>1774</td>\n",
       "      <td>0.028185</td>\n",
       "      <td>6.975013e-10</td>\n",
       "      <td>7.672515e-08</td>\n",
       "      <td>0.500000</td>\n",
       "      <td>3.576613</td>\n",
       "      <td>adipose_subcutaneous</td>\n",
       "      <td>var_pc_log2</td>\n",
       "      <td>clustermatch</td>\n",
       "      <td>SpectralClustering</td>\n",
       "      <td>enrichKEGG</td>\n",
       "      <td>hsa</td>\n",
       "    </tr>\n",
       "    <tr>\n",
       "      <th>2</th>\n",
       "      <td>2</td>\n",
       "      <td>C0</td>\n",
       "      <td>hsa04662</td>\n",
       "      <td>B cell receptor signaling pathway</td>\n",
       "      <td>18</td>\n",
       "      <td>248</td>\n",
       "      <td>0.072581</td>\n",
       "      <td>29</td>\n",
       "      <td>1774</td>\n",
       "      <td>0.016347</td>\n",
       "      <td>1.939872e-09</td>\n",
       "      <td>1.422573e-07</td>\n",
       "      <td>0.620690</td>\n",
       "      <td>4.439933</td>\n",
       "      <td>adipose_subcutaneous</td>\n",
       "      <td>var_pc_log2</td>\n",
       "      <td>clustermatch</td>\n",
       "      <td>SpectralClustering</td>\n",
       "      <td>enrichKEGG</td>\n",
       "      <td>hsa</td>\n",
       "    </tr>\n",
       "    <tr>\n",
       "      <th>3</th>\n",
       "      <td>2</td>\n",
       "      <td>C0</td>\n",
       "      <td>hsa05152</td>\n",
       "      <td>Tuberculosis</td>\n",
       "      <td>25</td>\n",
       "      <td>248</td>\n",
       "      <td>0.100806</td>\n",
       "      <td>58</td>\n",
       "      <td>1774</td>\n",
       "      <td>0.032694</td>\n",
       "      <td>3.349306e-08</td>\n",
       "      <td>1.842118e-06</td>\n",
       "      <td>0.431034</td>\n",
       "      <td>3.083287</td>\n",
       "      <td>adipose_subcutaneous</td>\n",
       "      <td>var_pc_log2</td>\n",
       "      <td>clustermatch</td>\n",
       "      <td>SpectralClustering</td>\n",
       "      <td>enrichKEGG</td>\n",
       "      <td>hsa</td>\n",
       "    </tr>\n",
       "    <tr>\n",
       "      <th>4</th>\n",
       "      <td>2</td>\n",
       "      <td>C0</td>\n",
       "      <td>hsa04972</td>\n",
       "      <td>Pancreatic secretion</td>\n",
       "      <td>19</td>\n",
       "      <td>248</td>\n",
       "      <td>0.076613</td>\n",
       "      <td>41</td>\n",
       "      <td>1774</td>\n",
       "      <td>0.023112</td>\n",
       "      <td>4.180927e-07</td>\n",
       "      <td>1.839608e-05</td>\n",
       "      <td>0.463415</td>\n",
       "      <td>3.314910</td>\n",
       "      <td>adipose_subcutaneous</td>\n",
       "      <td>var_pc_log2</td>\n",
       "      <td>clustermatch</td>\n",
       "      <td>SpectralClustering</td>\n",
       "      <td>enrichKEGG</td>\n",
       "      <td>hsa</td>\n",
       "    </tr>\n",
       "  </tbody>\n",
       "</table>\n",
       "</div>"
      ],
      "text/plain": [
       "   n_clusters cluster_id   term_id                                term_desc  \\\n",
       "0           2         C0  hsa04380               Osteoclast differentiation   \n",
       "1           2         C0  hsa04613  Neutrophil extracellular trap formation   \n",
       "2           2         C0  hsa04662        B cell receptor signaling pathway   \n",
       "3           2         C0  hsa05152                             Tuberculosis   \n",
       "4           2         C0  hsa04972                     Pancreatic secretion   \n",
       "\n",
       "   gene_count  gene_total  gene_ratio  bg_count  bg_total  bg_ratio  \\\n",
       "0          27         248    0.108871        51      1774  0.028749   \n",
       "1          25         248    0.100806        50      1774  0.028185   \n",
       "2          18         248    0.072581        29      1774  0.016347   \n",
       "3          25         248    0.100806        58      1774  0.032694   \n",
       "4          19         248    0.076613        41      1774  0.023112   \n",
       "\n",
       "         pvalue  pvalue_adjust  rich_factor  fold_enrich  \\\n",
       "0  2.376904e-11   5.229189e-09     0.529412     3.787002   \n",
       "1  6.975013e-10   7.672515e-08     0.500000     3.576613   \n",
       "2  1.939872e-09   1.422573e-07     0.620690     4.439933   \n",
       "3  3.349306e-08   1.842118e-06     0.431034     3.083287   \n",
       "4  4.180927e-07   1.839608e-05     0.463415     3.314910   \n",
       "\n",
       "                 tissue gene_sel_strategy   corr_method        clust_method  \\\n",
       "0  adipose_subcutaneous       var_pc_log2  clustermatch  SpectralClustering   \n",
       "1  adipose_subcutaneous       var_pc_log2  clustermatch  SpectralClustering   \n",
       "2  adipose_subcutaneous       var_pc_log2  clustermatch  SpectralClustering   \n",
       "3  adipose_subcutaneous       var_pc_log2  clustermatch  SpectralClustering   \n",
       "4  adipose_subcutaneous       var_pc_log2  clustermatch  SpectralClustering   \n",
       "\n",
       "  enrich_func enrich_params  \n",
       "0  enrichKEGG           hsa  \n",
       "1  enrichKEGG           hsa  \n",
       "2  enrichKEGG           hsa  \n",
       "3  enrichKEGG           hsa  \n",
       "4  enrichKEGG           hsa  "
      ]
     },
     "metadata": {},
     "output_type": "display_data"
    }
   ],
   "source": [
    "with pd.option_context(\n",
    "    \"display.max_rows\", None, \"display.max_columns\", None, \"display.max_colwidth\", None\n",
    "):\n",
    "    tmp = df.head()\n",
    "    display(tmp)"
   ]
  },
  {
   "cell_type": "markdown",
   "id": "7cf895a9-55dc-4cfb-bab0-3b535cb4e6fc",
   "metadata": {},
   "source": [
    "# QQ plot"
   ]
  },
  {
   "cell_type": "code",
   "execution_count": 145,
   "id": "4bd4e9cc-d794-4050-831d-147761a117e0",
   "metadata": {},
   "outputs": [],
   "source": [
    "CLUSTERMATCH_METHOD = \"clustermatch_k2\"\n",
    "# CLUSTERMATCH_METHOD = \"clustermatch\""
   ]
  },
  {
   "cell_type": "code",
   "execution_count": 146,
   "id": "c80855b9-acce-4a48-96f0-e0dc850de4a7",
   "metadata": {},
   "outputs": [],
   "source": [
    "PERFORMANCE_MEASURE = \"pvalue_adjust\"\n",
    "# PERFORMANCE_MEASURE = \"rich_factor\"\n",
    "# PERFORMANCE_MEASURE = \"fold_enrich\""
   ]
  },
  {
   "cell_type": "code",
   "execution_count": 147,
   "id": "8303582f-c5d3-4ec0-8268-69dcc5cca9d4",
   "metadata": {},
   "outputs": [
    {
     "data": {
      "text/plain": [
       "array([0.        , 0.00010001, 0.00020002, 0.00030003, 0.00040004,\n",
       "       0.00050005, 0.00060006, 0.00070007, 0.00080008, 0.00090009])"
      ]
     },
     "metadata": {},
     "output_type": "display_data"
    },
    {
     "data": {
      "text/plain": [
       "array([0.99909991, 0.99919992, 0.99929993, 0.99939994, 0.99949995,\n",
       "       0.99959996, 0.99969997, 0.99979998, 0.99989999, 1.        ])"
      ]
     },
     "metadata": {},
     "output_type": "display_data"
    }
   ],
   "source": [
    "QUANTILES = np.linspace(0, 1, 10000)\n",
    "display(QUANTILES[:10])\n",
    "display(QUANTILES[-10:])"
   ]
  },
  {
   "cell_type": "code",
   "execution_count": 148,
   "id": "bfb6baec-c621-4f69-821b-06951a64f79d",
   "metadata": {},
   "outputs": [
    {
     "data": {
      "text/plain": [
       "['hsa']\n",
       "Categories (1, object): ['hsa']"
      ]
     },
     "execution_count": 148,
     "metadata": {},
     "output_type": "execute_result"
    }
   ],
   "source": [
    "df[\"enrich_params\"].unique()"
   ]
  },
  {
   "cell_type": "code",
   "execution_count": 149,
   "id": "f6d034a1-a174-400a-8f12-ee0de9752a50",
   "metadata": {},
   "outputs": [],
   "source": [
    "df_subset = df[\n",
    "    (np.ones(df.shape[0]).astype(bool))\n",
    "    & (df.pvalue_adjust < 0.05)  # only significant results\n",
    "    #     & (df.tissue == \"adipose_subcutaneous\")\n",
    "    & (df.gene_sel_strategy == \"var_pc_log2\")\n",
    "    & (df.clust_method == \"SpectralClustering\")\n",
    "    & (df.enrich_func == \"enrichKEGG\")\n",
    "#     & (df.enrich_params.str.contains(\"_full\"))\n",
    "]"
   ]
  },
  {
   "cell_type": "code",
   "execution_count": 150,
   "id": "1f975a74-99ae-467b-9e33-5abeca2ddc71",
   "metadata": {},
   "outputs": [],
   "source": [
    "assert df_subset[\"pvalue_adjust\"].max() < 0.05"
   ]
  },
  {
   "cell_type": "code",
   "execution_count": 151,
   "id": "d48f3a94-3f75-4fb4-aa4b-68ae9a976234",
   "metadata": {},
   "outputs": [
    {
     "data": {
      "text/plain": [
       "(84471, 20)"
      ]
     },
     "execution_count": 151,
     "metadata": {},
     "output_type": "execute_result"
    }
   ],
   "source": [
    "df_subset.shape"
   ]
  },
  {
   "cell_type": "code",
   "execution_count": 152,
   "id": "34e253be-b397-43ad-9cda-01a6d8313b6f",
   "metadata": {},
   "outputs": [
    {
     "data": {
      "text/html": [
       "<div>\n",
       "<style scoped>\n",
       "    .dataframe tbody tr th:only-of-type {\n",
       "        vertical-align: middle;\n",
       "    }\n",
       "\n",
       "    .dataframe tbody tr th {\n",
       "        vertical-align: top;\n",
       "    }\n",
       "\n",
       "    .dataframe thead th {\n",
       "        text-align: right;\n",
       "    }\n",
       "</style>\n",
       "<table border=\"1\" class=\"dataframe\">\n",
       "  <thead>\n",
       "    <tr style=\"text-align: right;\">\n",
       "      <th></th>\n",
       "      <th>n_clusters</th>\n",
       "      <th>cluster_id</th>\n",
       "      <th>term_id</th>\n",
       "      <th>term_desc</th>\n",
       "      <th>gene_count</th>\n",
       "      <th>gene_total</th>\n",
       "      <th>gene_ratio</th>\n",
       "      <th>bg_count</th>\n",
       "      <th>bg_total</th>\n",
       "      <th>bg_ratio</th>\n",
       "      <th>pvalue</th>\n",
       "      <th>pvalue_adjust</th>\n",
       "      <th>rich_factor</th>\n",
       "      <th>fold_enrich</th>\n",
       "      <th>tissue</th>\n",
       "      <th>gene_sel_strategy</th>\n",
       "      <th>corr_method</th>\n",
       "      <th>clust_method</th>\n",
       "      <th>enrich_func</th>\n",
       "      <th>enrich_params</th>\n",
       "    </tr>\n",
       "  </thead>\n",
       "  <tbody>\n",
       "    <tr>\n",
       "      <th>0</th>\n",
       "      <td>2</td>\n",
       "      <td>C0</td>\n",
       "      <td>hsa04380</td>\n",
       "      <td>Osteoclast differentiation</td>\n",
       "      <td>27</td>\n",
       "      <td>248</td>\n",
       "      <td>0.108871</td>\n",
       "      <td>51</td>\n",
       "      <td>1774</td>\n",
       "      <td>0.028749</td>\n",
       "      <td>2.376904e-11</td>\n",
       "      <td>5.229189e-09</td>\n",
       "      <td>0.529412</td>\n",
       "      <td>3.787002</td>\n",
       "      <td>adipose_subcutaneous</td>\n",
       "      <td>var_pc_log2</td>\n",
       "      <td>clustermatch</td>\n",
       "      <td>SpectralClustering</td>\n",
       "      <td>enrichKEGG</td>\n",
       "      <td>hsa</td>\n",
       "    </tr>\n",
       "    <tr>\n",
       "      <th>1</th>\n",
       "      <td>2</td>\n",
       "      <td>C0</td>\n",
       "      <td>hsa04613</td>\n",
       "      <td>Neutrophil extracellular trap formation</td>\n",
       "      <td>25</td>\n",
       "      <td>248</td>\n",
       "      <td>0.100806</td>\n",
       "      <td>50</td>\n",
       "      <td>1774</td>\n",
       "      <td>0.028185</td>\n",
       "      <td>6.975013e-10</td>\n",
       "      <td>7.672515e-08</td>\n",
       "      <td>0.500000</td>\n",
       "      <td>3.576613</td>\n",
       "      <td>adipose_subcutaneous</td>\n",
       "      <td>var_pc_log2</td>\n",
       "      <td>clustermatch</td>\n",
       "      <td>SpectralClustering</td>\n",
       "      <td>enrichKEGG</td>\n",
       "      <td>hsa</td>\n",
       "    </tr>\n",
       "    <tr>\n",
       "      <th>2</th>\n",
       "      <td>2</td>\n",
       "      <td>C0</td>\n",
       "      <td>hsa04662</td>\n",
       "      <td>B cell receptor signaling pathway</td>\n",
       "      <td>18</td>\n",
       "      <td>248</td>\n",
       "      <td>0.072581</td>\n",
       "      <td>29</td>\n",
       "      <td>1774</td>\n",
       "      <td>0.016347</td>\n",
       "      <td>1.939872e-09</td>\n",
       "      <td>1.422573e-07</td>\n",
       "      <td>0.620690</td>\n",
       "      <td>4.439933</td>\n",
       "      <td>adipose_subcutaneous</td>\n",
       "      <td>var_pc_log2</td>\n",
       "      <td>clustermatch</td>\n",
       "      <td>SpectralClustering</td>\n",
       "      <td>enrichKEGG</td>\n",
       "      <td>hsa</td>\n",
       "    </tr>\n",
       "    <tr>\n",
       "      <th>3</th>\n",
       "      <td>2</td>\n",
       "      <td>C0</td>\n",
       "      <td>hsa05152</td>\n",
       "      <td>Tuberculosis</td>\n",
       "      <td>25</td>\n",
       "      <td>248</td>\n",
       "      <td>0.100806</td>\n",
       "      <td>58</td>\n",
       "      <td>1774</td>\n",
       "      <td>0.032694</td>\n",
       "      <td>3.349306e-08</td>\n",
       "      <td>1.842118e-06</td>\n",
       "      <td>0.431034</td>\n",
       "      <td>3.083287</td>\n",
       "      <td>adipose_subcutaneous</td>\n",
       "      <td>var_pc_log2</td>\n",
       "      <td>clustermatch</td>\n",
       "      <td>SpectralClustering</td>\n",
       "      <td>enrichKEGG</td>\n",
       "      <td>hsa</td>\n",
       "    </tr>\n",
       "    <tr>\n",
       "      <th>4</th>\n",
       "      <td>2</td>\n",
       "      <td>C0</td>\n",
       "      <td>hsa04972</td>\n",
       "      <td>Pancreatic secretion</td>\n",
       "      <td>19</td>\n",
       "      <td>248</td>\n",
       "      <td>0.076613</td>\n",
       "      <td>41</td>\n",
       "      <td>1774</td>\n",
       "      <td>0.023112</td>\n",
       "      <td>4.180927e-07</td>\n",
       "      <td>1.839608e-05</td>\n",
       "      <td>0.463415</td>\n",
       "      <td>3.314910</td>\n",
       "      <td>adipose_subcutaneous</td>\n",
       "      <td>var_pc_log2</td>\n",
       "      <td>clustermatch</td>\n",
       "      <td>SpectralClustering</td>\n",
       "      <td>enrichKEGG</td>\n",
       "      <td>hsa</td>\n",
       "    </tr>\n",
       "  </tbody>\n",
       "</table>\n",
       "</div>"
      ],
      "text/plain": [
       "   n_clusters cluster_id   term_id                                term_desc  \\\n",
       "0           2         C0  hsa04380               Osteoclast differentiation   \n",
       "1           2         C0  hsa04613  Neutrophil extracellular trap formation   \n",
       "2           2         C0  hsa04662        B cell receptor signaling pathway   \n",
       "3           2         C0  hsa05152                             Tuberculosis   \n",
       "4           2         C0  hsa04972                     Pancreatic secretion   \n",
       "\n",
       "   gene_count  gene_total  gene_ratio  bg_count  bg_total  bg_ratio  \\\n",
       "0          27         248    0.108871        51      1774  0.028749   \n",
       "1          25         248    0.100806        50      1774  0.028185   \n",
       "2          18         248    0.072581        29      1774  0.016347   \n",
       "3          25         248    0.100806        58      1774  0.032694   \n",
       "4          19         248    0.076613        41      1774  0.023112   \n",
       "\n",
       "         pvalue  pvalue_adjust  rich_factor  fold_enrich  \\\n",
       "0  2.376904e-11   5.229189e-09     0.529412     3.787002   \n",
       "1  6.975013e-10   7.672515e-08     0.500000     3.576613   \n",
       "2  1.939872e-09   1.422573e-07     0.620690     4.439933   \n",
       "3  3.349306e-08   1.842118e-06     0.431034     3.083287   \n",
       "4  4.180927e-07   1.839608e-05     0.463415     3.314910   \n",
       "\n",
       "                 tissue gene_sel_strategy   corr_method        clust_method  \\\n",
       "0  adipose_subcutaneous       var_pc_log2  clustermatch  SpectralClustering   \n",
       "1  adipose_subcutaneous       var_pc_log2  clustermatch  SpectralClustering   \n",
       "2  adipose_subcutaneous       var_pc_log2  clustermatch  SpectralClustering   \n",
       "3  adipose_subcutaneous       var_pc_log2  clustermatch  SpectralClustering   \n",
       "4  adipose_subcutaneous       var_pc_log2  clustermatch  SpectralClustering   \n",
       "\n",
       "  enrich_func enrich_params  \n",
       "0  enrichKEGG           hsa  \n",
       "1  enrichKEGG           hsa  \n",
       "2  enrichKEGG           hsa  \n",
       "3  enrichKEGG           hsa  \n",
       "4  enrichKEGG           hsa  "
      ]
     },
     "execution_count": 152,
     "metadata": {},
     "output_type": "execute_result"
    }
   ],
   "source": [
    "df_subset.head()"
   ]
  },
  {
   "cell_type": "code",
   "execution_count": 153,
   "id": "ff97eb80-229c-45ad-8525-c8ee880c5469",
   "metadata": {},
   "outputs": [
    {
     "data": {
      "text/plain": [
       "['clustermatch', 'clustermatch_k2', 'pearson_abs', 'spearman_abs']\n",
       "Categories (4, object): ['clustermatch', 'clustermatch_k2', 'pearson_abs', 'spearman_abs']"
      ]
     },
     "metadata": {},
     "output_type": "display_data"
    }
   ],
   "source": [
    "df_methods = df_subset[\"corr_method\"].unique()\n",
    "display(df_methods)"
   ]
  },
  {
   "cell_type": "code",
   "execution_count": 154,
   "id": "7a1e709f-9af6-45fb-9c58-89dd7c4f0611",
   "metadata": {},
   "outputs": [
    {
     "data": {
      "text/plain": [
       "'clustermatch - 21264'"
      ]
     },
     "metadata": {},
     "output_type": "display_data"
    },
    {
     "data": {
      "text/plain": [
       "'clustermatch_k2 - 17980'"
      ]
     },
     "metadata": {},
     "output_type": "display_data"
    },
    {
     "data": {
      "text/plain": [
       "'pearson_abs - 24117'"
      ]
     },
     "metadata": {},
     "output_type": "display_data"
    },
    {
     "data": {
      "text/plain": [
       "'spearman_abs - 21110'"
      ]
     },
     "metadata": {},
     "output_type": "display_data"
    }
   ],
   "source": [
    "results_per_method = {}\n",
    "\n",
    "for m in df_methods:\n",
    "    df_values = df_subset[df_subset.corr_method == m][PERFORMANCE_MEASURE]\n",
    "    display(f\"{m} - {df_values.shape[0]}\")\n",
    "\n",
    "    if PERFORMANCE_MEASURE == \"pvalue_adjust\":\n",
    "        df_values = -np.log10(df_values)\n",
    "\n",
    "    results_per_method[m] = df_values.quantile(QUANTILES).to_numpy()"
   ]
  },
  {
   "cell_type": "code",
   "execution_count": 155,
   "id": "884fd9ec-a020-4732-b540-da18ae16440c",
   "metadata": {},
   "outputs": [],
   "source": [
    "quantiles_df = pd.DataFrame(results_per_method)"
   ]
  },
  {
   "cell_type": "code",
   "execution_count": 156,
   "id": "6f252f89-f965-4aec-a307-d7dbf2e62f9a",
   "metadata": {},
   "outputs": [
    {
     "data": {
      "text/plain": [
       "(10000, 4)"
      ]
     },
     "execution_count": 156,
     "metadata": {},
     "output_type": "execute_result"
    }
   ],
   "source": [
    "quantiles_df.shape"
   ]
  },
  {
   "cell_type": "code",
   "execution_count": 157,
   "id": "56e35241-b6ae-4b6a-9a26-c7925d7c9009",
   "metadata": {},
   "outputs": [
    {
     "data": {
      "text/html": [
       "<div>\n",
       "<style scoped>\n",
       "    .dataframe tbody tr th:only-of-type {\n",
       "        vertical-align: middle;\n",
       "    }\n",
       "\n",
       "    .dataframe tbody tr th {\n",
       "        vertical-align: top;\n",
       "    }\n",
       "\n",
       "    .dataframe thead th {\n",
       "        text-align: right;\n",
       "    }\n",
       "</style>\n",
       "<table border=\"1\" class=\"dataframe\">\n",
       "  <thead>\n",
       "    <tr style=\"text-align: right;\">\n",
       "      <th></th>\n",
       "      <th>clustermatch</th>\n",
       "      <th>clustermatch_k2</th>\n",
       "      <th>pearson_abs</th>\n",
       "      <th>spearman_abs</th>\n",
       "    </tr>\n",
       "  </thead>\n",
       "  <tbody>\n",
       "    <tr>\n",
       "      <th>0</th>\n",
       "      <td>1.301106</td>\n",
       "      <td>1.301247</td>\n",
       "      <td>1.301092</td>\n",
       "      <td>1.301247</td>\n",
       "    </tr>\n",
       "    <tr>\n",
       "      <th>1</th>\n",
       "      <td>1.301306</td>\n",
       "      <td>1.301306</td>\n",
       "      <td>1.301159</td>\n",
       "      <td>1.301306</td>\n",
       "    </tr>\n",
       "    <tr>\n",
       "      <th>2</th>\n",
       "      <td>1.301306</td>\n",
       "      <td>1.301306</td>\n",
       "      <td>1.301306</td>\n",
       "      <td>1.301306</td>\n",
       "    </tr>\n",
       "    <tr>\n",
       "      <th>3</th>\n",
       "      <td>1.301306</td>\n",
       "      <td>1.301431</td>\n",
       "      <td>1.301306</td>\n",
       "      <td>1.301306</td>\n",
       "    </tr>\n",
       "    <tr>\n",
       "      <th>4</th>\n",
       "      <td>1.301306</td>\n",
       "      <td>1.302114</td>\n",
       "      <td>1.301954</td>\n",
       "      <td>1.301306</td>\n",
       "    </tr>\n",
       "  </tbody>\n",
       "</table>\n",
       "</div>"
      ],
      "text/plain": [
       "   clustermatch  clustermatch_k2  pearson_abs  spearman_abs\n",
       "0      1.301106         1.301247     1.301092      1.301247\n",
       "1      1.301306         1.301306     1.301159      1.301306\n",
       "2      1.301306         1.301306     1.301306      1.301306\n",
       "3      1.301306         1.301431     1.301306      1.301306\n",
       "4      1.301306         1.302114     1.301954      1.301306"
      ]
     },
     "execution_count": 157,
     "metadata": {},
     "output_type": "execute_result"
    }
   ],
   "source": [
    "quantiles_df.head()"
   ]
  },
  {
   "cell_type": "code",
   "execution_count": 158,
   "id": "cd5e33be-0d32-4f7a-9d7c-1b19b3c0e9cc",
   "metadata": {},
   "outputs": [
    {
     "data": {
      "text/html": [
       "<div>\n",
       "<style scoped>\n",
       "    .dataframe tbody tr th:only-of-type {\n",
       "        vertical-align: middle;\n",
       "    }\n",
       "\n",
       "    .dataframe tbody tr th {\n",
       "        vertical-align: top;\n",
       "    }\n",
       "\n",
       "    .dataframe thead th {\n",
       "        text-align: right;\n",
       "    }\n",
       "</style>\n",
       "<table border=\"1\" class=\"dataframe\">\n",
       "  <thead>\n",
       "    <tr style=\"text-align: right;\">\n",
       "      <th></th>\n",
       "      <th>clustermatch</th>\n",
       "      <th>clustermatch_k2</th>\n",
       "      <th>pearson_abs</th>\n",
       "      <th>spearman_abs</th>\n",
       "    </tr>\n",
       "  </thead>\n",
       "  <tbody>\n",
       "    <tr>\n",
       "      <th>9995</th>\n",
       "      <td>40.541479</td>\n",
       "      <td>42.237956</td>\n",
       "      <td>32.408073</td>\n",
       "      <td>32.947575</td>\n",
       "    </tr>\n",
       "    <tr>\n",
       "      <th>9996</th>\n",
       "      <td>41.499252</td>\n",
       "      <td>42.454071</td>\n",
       "      <td>34.352475</td>\n",
       "      <td>33.087955</td>\n",
       "    </tr>\n",
       "    <tr>\n",
       "      <th>9997</th>\n",
       "      <td>42.275761</td>\n",
       "      <td>43.445205</td>\n",
       "      <td>35.076274</td>\n",
       "      <td>35.229129</td>\n",
       "    </tr>\n",
       "    <tr>\n",
       "      <th>9998</th>\n",
       "      <td>43.445205</td>\n",
       "      <td>43.445205</td>\n",
       "      <td>43.566673</td>\n",
       "      <td>37.388189</td>\n",
       "    </tr>\n",
       "    <tr>\n",
       "      <th>9999</th>\n",
       "      <td>43.445205</td>\n",
       "      <td>47.409032</td>\n",
       "      <td>56.627442</td>\n",
       "      <td>44.656563</td>\n",
       "    </tr>\n",
       "  </tbody>\n",
       "</table>\n",
       "</div>"
      ],
      "text/plain": [
       "      clustermatch  clustermatch_k2  pearson_abs  spearman_abs\n",
       "9995     40.541479        42.237956    32.408073     32.947575\n",
       "9996     41.499252        42.454071    34.352475     33.087955\n",
       "9997     42.275761        43.445205    35.076274     35.229129\n",
       "9998     43.445205        43.445205    43.566673     37.388189\n",
       "9999     43.445205        47.409032    56.627442     44.656563"
      ]
     },
     "execution_count": 158,
     "metadata": {},
     "output_type": "execute_result"
    }
   ],
   "source": [
    "quantiles_df.tail()"
   ]
  },
  {
   "cell_type": "code",
   "execution_count": 159,
   "id": "44e23343-168e-4aaa-ab1b-34917ad6f54c",
   "metadata": {},
   "outputs": [
    {
     "data": {
      "text/html": [
       "<div>\n",
       "<style scoped>\n",
       "    .dataframe tbody tr th:only-of-type {\n",
       "        vertical-align: middle;\n",
       "    }\n",
       "\n",
       "    .dataframe tbody tr th {\n",
       "        vertical-align: top;\n",
       "    }\n",
       "\n",
       "    .dataframe thead th {\n",
       "        text-align: right;\n",
       "    }\n",
       "</style>\n",
       "<table border=\"1\" class=\"dataframe\">\n",
       "  <thead>\n",
       "    <tr style=\"text-align: right;\">\n",
       "      <th></th>\n",
       "      <th>clustermatch</th>\n",
       "      <th>clustermatch_k2</th>\n",
       "      <th>pearson_abs</th>\n",
       "      <th>spearman_abs</th>\n",
       "    </tr>\n",
       "  </thead>\n",
       "  <tbody>\n",
       "    <tr>\n",
       "      <th>count</th>\n",
       "      <td>10000.000000</td>\n",
       "      <td>10000.000000</td>\n",
       "      <td>10000.000000</td>\n",
       "      <td>10000.000000</td>\n",
       "    </tr>\n",
       "    <tr>\n",
       "      <th>mean</th>\n",
       "      <td>3.471792</td>\n",
       "      <td>3.081553</td>\n",
       "      <td>3.349616</td>\n",
       "      <td>3.383197</td>\n",
       "    </tr>\n",
       "    <tr>\n",
       "      <th>std</th>\n",
       "      <td>3.436233</td>\n",
       "      <td>3.073310</td>\n",
       "      <td>3.061549</td>\n",
       "      <td>3.197146</td>\n",
       "    </tr>\n",
       "    <tr>\n",
       "      <th>min</th>\n",
       "      <td>1.301106</td>\n",
       "      <td>1.301247</td>\n",
       "      <td>1.301092</td>\n",
       "      <td>1.301247</td>\n",
       "    </tr>\n",
       "    <tr>\n",
       "      <th>25%</th>\n",
       "      <td>1.544344</td>\n",
       "      <td>1.484574</td>\n",
       "      <td>1.612324</td>\n",
       "      <td>1.528479</td>\n",
       "    </tr>\n",
       "    <tr>\n",
       "      <th>50%</th>\n",
       "      <td>2.190138</td>\n",
       "      <td>1.917410</td>\n",
       "      <td>2.242515</td>\n",
       "      <td>2.110971</td>\n",
       "    </tr>\n",
       "    <tr>\n",
       "      <th>75%</th>\n",
       "      <td>3.675507</td>\n",
       "      <td>3.131334</td>\n",
       "      <td>3.799357</td>\n",
       "      <td>3.660866</td>\n",
       "    </tr>\n",
       "    <tr>\n",
       "      <th>max</th>\n",
       "      <td>43.445205</td>\n",
       "      <td>47.409032</td>\n",
       "      <td>56.627442</td>\n",
       "      <td>44.656563</td>\n",
       "    </tr>\n",
       "  </tbody>\n",
       "</table>\n",
       "</div>"
      ],
      "text/plain": [
       "       clustermatch  clustermatch_k2   pearson_abs  spearman_abs\n",
       "count  10000.000000     10000.000000  10000.000000  10000.000000\n",
       "mean       3.471792         3.081553      3.349616      3.383197\n",
       "std        3.436233         3.073310      3.061549      3.197146\n",
       "min        1.301106         1.301247      1.301092      1.301247\n",
       "25%        1.544344         1.484574      1.612324      1.528479\n",
       "50%        2.190138         1.917410      2.242515      2.110971\n",
       "75%        3.675507         3.131334      3.799357      3.660866\n",
       "max       43.445205        47.409032     56.627442     44.656563"
      ]
     },
     "execution_count": 159,
     "metadata": {},
     "output_type": "execute_result"
    }
   ],
   "source": [
    "quantiles_df.describe()"
   ]
  },
  {
   "cell_type": "code",
   "execution_count": 160,
   "id": "673c0ebb-ace2-40c3-b1d4-71ab39df3010",
   "metadata": {},
   "outputs": [],
   "source": [
    "# fig, ax = plt.subplots(figsize=(10, 8))\n",
    "\n",
    "# sns.scatterplot(\n",
    "#     data=quantiles_df,\n",
    "#     x=\"pearson_full\",\n",
    "#     y=CLUSTERMATCH_METHOD,\n",
    "#     label=\"vs Pearson (full)\",\n",
    "#     ax=ax,\n",
    "# )\n",
    "\n",
    "# sns.scatterplot(\n",
    "#     data=quantiles_df,\n",
    "#     x=\"spearman_full\",\n",
    "#     y=CLUSTERMATCH_METHOD,\n",
    "#     label=\"vs Spearman (full)\",\n",
    "#     ax=ax,\n",
    "# )\n",
    "\n",
    "# ax.set_xlabel(None)\n",
    "# # ax.set_ylabel(None)\n",
    "\n",
    "# min_val = min((quantiles_df.iloc[:, 0].min(), quantiles_df.iloc[:, 1].min()))\n",
    "# max_val = max((quantiles_df.iloc[:, 0].max(), quantiles_df.iloc[:, 1].max()))\n",
    "# ax.plot([min_val, max_val], [min_val, max_val], \"k\", linewidth=0.5)\n",
    "\n",
    "# ax.set_title(f\"KEGG ({PERFORMANCE_MEASURE})\")"
   ]
  },
  {
   "cell_type": "code",
   "execution_count": 161,
   "id": "210dd3ea-17aa-4c77-8851-ea414210f486",
   "metadata": {},
   "outputs": [
    {
     "data": {
      "text/plain": [
       "Text(0.5, 1.0, 'KEGG (pvalue_adjust)')"
      ]
     },
     "execution_count": 161,
     "metadata": {},
     "output_type": "execute_result"
    },
    {
     "data": {
      "image/png": "[encoded data removed]",
      "text/plain": [
       "<Figure size 720x576 with 1 Axes>"
      ]
     },
     "metadata": {
      "needs_background": "light"
     },
     "output_type": "display_data"
    }
   ],
   "source": [
    "fig, ax = plt.subplots(figsize=(10, 8))\n",
    "\n",
    "sns.scatterplot(\n",
    "    data=quantiles_df,\n",
    "    x=\"pearson_abs\",\n",
    "    y=CLUSTERMATCH_METHOD,\n",
    "    label=\"vs Pearson (abs)\",\n",
    "    ax=ax,\n",
    ")\n",
    "\n",
    "sns.scatterplot(\n",
    "    data=quantiles_df,\n",
    "    x=\"spearman_abs\",\n",
    "    y=CLUSTERMATCH_METHOD,\n",
    "    label=\"vs Spearman (abs)\",\n",
    "    ax=ax,\n",
    ")\n",
    "\n",
    "ax.set_xlabel(None)\n",
    "# ax.set_ylabel(None)\n",
    "\n",
    "min_val = min((quantiles_df.iloc[:, 0].min(), quantiles_df.iloc[:, 1].min()))\n",
    "max_val = max((quantiles_df.iloc[:, 0].max(), quantiles_df.iloc[:, 1].max()))\n",
    "ax.plot([min_val, max_val], [min_val, max_val], \"k\", linewidth=0.5)\n",
    "\n",
    "ax.set_title(f\"KEGG ({PERFORMANCE_MEASURE})\")"
   ]
  },
  {
   "cell_type": "markdown",
   "id": "9fed21a5-fbe7-41b8-bb2e-00d5cb340b11",
   "metadata": {},
   "source": [
    "**UPDATE**\n",
    "\n",
    "Clustermatch (multi pattern) outperforms pearson (linear and abs), although pearson find most significant associations towards the\n",
    "right end of the distribution.\n",
    "\n",
    "However, Clustermatch does not outperform spearman (monotonic and abs), which provides more significant results across the entire distribution."
   ]
  },
  {
   "cell_type": "code",
   "execution_count": null,
   "id": "72a954fe-b9c9-4f68-bca3-7a58e558cc3b",
   "metadata": {},
   "outputs": [],
   "source": []
  }
 ],
 "metadata": {
  "jupytext": {
   "cell_metadata_filter": "all,-execution,-papermill,-trusted",
   "text_representation": {
    "extension": ".py",
    "format_name": "percent",
    "format_version": "1.3",
    "jupytext_version": "1.11.5"
   }
  },
  "kernelspec": {
   "display_name": "Python 3 (ipykernel)",
   "language": "python",
   "name": "python3"
  },
  "language_info": {
   "codemirror_mode": {
    "name": "ipython",
    "version": 3
   },
   "file_extension": ".py",
   "mimetype": "text/x-python",
   "name": "python",
   "nbconvert_exporter": "python",
   "pygments_lexer": "ipython3",
   "version": "3.9.7"
  }
 },
 "nbformat": 4,
 "nbformat_minor": 5
}
