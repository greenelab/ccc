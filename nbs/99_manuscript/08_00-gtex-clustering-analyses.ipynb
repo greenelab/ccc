{
 "cells": [
  {
   "cell_type": "markdown",
   "id": "d85fcd4a-eef2-4f93-ba7f-568dec3cff7d",
   "metadata": {
    "papermill": {
     "duration": 0.05443,
     "end_time": "2021-09-21T01:08:26.664204",
     "exception": false,
     "start_time": "2021-09-21T01:08:26.609774",
     "status": "completed"
    },
    "tags": []
   },
   "source": [
    "# Description"
   ]
  },
  {
   "cell_type": "markdown",
   "id": "537e1b84-a321-41d8-8572-517e6b16fdd7",
   "metadata": {
    "papermill": {
     "duration": 0.018505,
     "end_time": "2021-09-21T01:08:26.702179",
     "exception": false,
     "start_time": "2021-09-21T01:08:26.683674",
     "status": "completed"
    },
    "tags": []
   },
   "source": [
    "TODO"
   ]
  },
  {
   "cell_type": "markdown",
   "id": "d3686a4f-5cbe-4605-b4b8-e14e6b21ab47",
   "metadata": {
    "papermill": {
     "duration": 0.017986,
     "end_time": "2021-09-21T01:08:26.738014",
     "exception": false,
     "start_time": "2021-09-21T01:08:26.720028",
     "status": "completed"
    },
    "tags": []
   },
   "source": [
    "# Modules loading"
   ]
  },
  {
   "cell_type": "code",
   "execution_count": 1,
   "id": "b9a239fa-b58f-458f-908c-2d11ef6d05ca",
   "metadata": {
    "papermill": {
     "duration": 0.98246,
     "end_time": "2021-09-21T01:08:27.738520",
     "exception": false,
     "start_time": "2021-09-21T01:08:26.756060",
     "status": "completed"
    },
    "tags": []
   },
   "outputs": [],
   "source": [
    "import re\n",
    "\n",
    "import numpy as np\n",
    "import pandas as pd\n",
    "import matplotlib.pyplot as plt\n",
    "import seaborn as sns\n",
    "from tqdm import tqdm\n",
    "\n",
    "from clustermatch import conf"
   ]
  },
  {
   "cell_type": "markdown",
   "id": "6624b42c-a9be-4e96-911e-5663002fba78",
   "metadata": {
    "papermill": {
     "duration": 0.018302,
     "end_time": "2021-09-21T01:08:27.775660",
     "exception": false,
     "start_time": "2021-09-21T01:08:27.757358",
     "status": "completed"
    },
    "tags": []
   },
   "source": [
    "# Settings"
   ]
  },
  {
   "cell_type": "code",
   "execution_count": null,
   "id": "fe81cb09-db06-4562-8105-555d3f207335",
   "metadata": {},
   "outputs": [],
   "source": [
    "DATASET_CONFIG = conf.GTEX"
   ]
  },
  {
   "cell_type": "code",
   "execution_count": 2,
   "id": "4cf374b4-b9e3-4679-b7b5-9786113f8365",
   "metadata": {
    "papermill": {
     "duration": 0.023202,
     "end_time": "2021-09-21T01:08:27.816886",
     "exception": false,
     "start_time": "2021-09-21T01:08:27.793684",
     "status": "completed"
    },
    "tags": []
   },
   "outputs": [],
   "source": [
    "# ENRICH_FUNCTION = \"enrichGO\""
   ]
  },
  {
   "cell_type": "code",
   "execution_count": 3,
   "id": "182ddcd3-f315-495d-be69-b0fd6ee4b855",
   "metadata": {
    "papermill": {
     "duration": 0.023202,
     "end_time": "2021-09-21T01:08:27.816886",
     "exception": false,
     "start_time": "2021-09-21T01:08:27.793684",
     "status": "completed"
    },
    "tags": []
   },
   "outputs": [],
   "source": [
    "# CORRELATION_METHOD_NAME = \"clustermatch\""
   ]
  },
  {
   "cell_type": "code",
   "execution_count": 4,
   "id": "510c8476-ba4f-4b64-b65c-5668973e02e4",
   "metadata": {
    "papermill": {
     "duration": 0.023527,
     "end_time": "2021-09-21T01:08:27.859971",
     "exception": false,
     "start_time": "2021-09-21T01:08:27.836444",
     "status": "completed"
    },
    "tags": []
   },
   "outputs": [],
   "source": [
    "# GENE_SELECTION_STRATEGY = \"var_pc_log2\""
   ]
  },
  {
   "cell_type": "code",
   "execution_count": 5,
   "id": "cf3bb63a-24e7-42c3-8c7a-4ea031b8ec55",
   "metadata": {},
   "outputs": [],
   "source": [
    "# # clusterProfiler settings\n",
    "# ENRICH_FUNCTION = \"enrichGO\"\n",
    "# SIMPLIFY_CUTOFF = 0.7\n",
    "# GO_ONTOLOGIES = (\"BP\", \"CC\", \"MF\")"
   ]
  },
  {
   "cell_type": "code",
   "execution_count": 6,
   "id": "9332a4ee-666e-42ec-83ab-b6f1d95dc559",
   "metadata": {},
   "outputs": [],
   "source": [
    "# SIMILARITY_MATRICES_DIR = conf.GTEX[\"SIMILARITY_MATRICES_DIR\"]\n",
    "# display(SIMILARITY_MATRICES_DIR)"
   ]
  },
  {
   "cell_type": "code",
   "execution_count": 7,
   "id": "b68ba348-b36c-4cbd-9f5b-e7205f94dce4",
   "metadata": {},
   "outputs": [],
   "source": [
    "# SIMILARITY_MATRIX_FILENAME_TEMPLATE = conf.GTEX[\"SIMILARITY_MATRIX_FILENAME_TEMPLATE\"]\n",
    "# display(SIMILARITY_MATRIX_FILENAME_TEMPLATE)"
   ]
  },
  {
   "cell_type": "markdown",
   "id": "a61369fb-d25e-4eee-8790-0e62e21787fd",
   "metadata": {
    "papermill": {
     "duration": 0.018256,
     "end_time": "2021-09-21T01:08:28.146573",
     "exception": false,
     "start_time": "2021-09-21T01:08:28.128317",
     "status": "completed"
    },
    "tags": []
   },
   "source": [
    "# Paths"
   ]
  },
  {
   "cell_type": "code",
   "execution_count": 8,
   "id": "bf94c46c-2548-4027-8c18-1b305faea219",
   "metadata": {
    "papermill": {
     "duration": 0.025306,
     "end_time": "2021-09-21T01:08:28.234279",
     "exception": false,
     "start_time": "2021-09-21T01:08:28.208973",
     "status": "completed"
    },
    "tags": []
   },
   "outputs": [
    {
     "data": {
      "text/plain": [
       "PosixPath('/home/miltondp/projects/labs/greenelab/clustermatch_repos/clustermatch-gene-expr/base/results/gtex_v8/clustering/gtex_v8_data-clustering.pkl')"
      ]
     },
     "metadata": {},
     "output_type": "display_data"
    }
   ],
   "source": [
    "INPUT_FILE = DATASET_CONFIG[\"CLUSTERING_COMBINED_FILE\"]\n",
    "display(INPUT_FILE)\n",
    "assert INPUT_FILE.exists()"
   ]
  },
  {
   "cell_type": "markdown",
   "id": "dd12d27c-38b9-4485-8750-6ee66a28a2ea",
   "metadata": {
    "papermill": {
     "duration": 0.019217,
     "end_time": "2021-09-21T01:08:28.355017",
     "exception": false,
     "start_time": "2021-09-21T01:08:28.335800",
     "status": "completed"
    },
    "tags": []
   },
   "source": [
    "# Load data"
   ]
  },
  {
   "cell_type": "code",
   "execution_count": 9,
   "id": "ca98225a-8864-4add-8832-22c3b6d4603a",
   "metadata": {},
   "outputs": [],
   "source": [
    "df = pd.read_pickle(INPUT_FILE)"
   ]
  },
  {
   "cell_type": "code",
   "execution_count": 10,
   "id": "9b1559ec-4005-4064-bfe2-a0fda4fd87ee",
   "metadata": {},
   "outputs": [
    {
     "data": {
      "text/plain": [
       "(750, 8)"
      ]
     },
     "execution_count": 10,
     "metadata": {},
     "output_type": "execute_result"
    }
   ],
   "source": [
    "df.shape"
   ]
  },
  {
   "cell_type": "code",
   "execution_count": 11,
   "id": "a1fecd4f-3059-4c06-b52b-29405ab7c843",
   "metadata": {},
   "outputs": [
    {
     "data": {
      "text/plain": [
       "['adipose_subcutaneous', 'artery_tibial', 'muscle_skeletal', 'skin_sun_exposed_lower_leg', 'whole_blood']\n",
       "Categories (5, object): ['adipose_subcutaneous', 'artery_tibial', 'muscle_skeletal', 'skin_sun_exposed_lower_leg', 'whole_blood']"
      ]
     },
     "execution_count": 11,
     "metadata": {},
     "output_type": "execute_result"
    }
   ],
   "source": [
    "df[\"tissue\"].unique()"
   ]
  },
  {
   "cell_type": "code",
   "execution_count": 12,
   "id": "15065a25-5d9d-4c02-b7af-481bf3cccdce",
   "metadata": {},
   "outputs": [
    {
     "data": {
      "text/plain": [
       "['clustermatch', 'clustermatch_k2', 'pearson_abs', 'pearson_full', 'spearman_abs', 'spearman_full']\n",
       "Categories (6, object): ['clustermatch', 'clustermatch_k2', 'pearson_abs', 'pearson_full', 'spearman_abs', 'spearman_full']"
      ]
     },
     "execution_count": 12,
     "metadata": {},
     "output_type": "execute_result"
    }
   ],
   "source": [
    "df[\"corr_method\"].unique()"
   ]
  },
  {
   "cell_type": "code",
   "execution_count": 13,
   "id": "32eb22d9-ce37-40e1-a756-439a6fe4edca",
   "metadata": {},
   "outputs": [
    {
     "data": {
      "text/plain": [
       "750"
      ]
     },
     "execution_count": 13,
     "metadata": {},
     "output_type": "execute_result"
    }
   ],
   "source": [
    "5 * 6 * 25"
   ]
  },
  {
   "cell_type": "code",
   "execution_count": 14,
   "id": "585662d3-c224-4d80-a61f-21169899d785",
   "metadata": {},
   "outputs": [
    {
     "data": {
      "text/html": [
       "<div>\n",
       "<style scoped>\n",
       "    .dataframe tbody tr th:only-of-type {\n",
       "        vertical-align: middle;\n",
       "    }\n",
       "\n",
       "    .dataframe tbody tr th {\n",
       "        vertical-align: top;\n",
       "    }\n",
       "\n",
       "    .dataframe thead th {\n",
       "        text-align: right;\n",
       "    }\n",
       "</style>\n",
       "<table border=\"1\" class=\"dataframe\">\n",
       "  <thead>\n",
       "    <tr style=\"text-align: right;\">\n",
       "      <th></th>\n",
       "      <th>id</th>\n",
       "      <th>n_clusters</th>\n",
       "      <th>partition</th>\n",
       "      <th>si_score</th>\n",
       "      <th>tissue</th>\n",
       "      <th>gene_sel_strategy</th>\n",
       "      <th>corr_method</th>\n",
       "      <th>clust_method</th>\n",
       "    </tr>\n",
       "  </thead>\n",
       "  <tbody>\n",
       "    <tr>\n",
       "      <th>0</th>\n",
       "      <td>SpectralClustering #0</td>\n",
       "      <td>2</td>\n",
       "      <td>[1, 1, 1, 1, 1, 1, 1, 1, 1, 1, 1, 1, 1, 1, 1, 1, 0, 0, 0, 0, 1, 0, 1, 1, 1, 1, 1, 0, 1, 0, 0, 1, 1, 1, 1, 1, 1, 0, 1, 1, 0, 1, 1, 1, 0, 1, 0, 0, 0, 1, 1, 0, 1, 1, 1, 0, 0, 0, 1, 1, 0, 1, 0, 0, 1, 1, 1, 1, 1, 1, 1, 1, 1, 1, 0, 0, 0, 1, 1, 1, 1, 1, 0, 1, 1, 0, 1, 0, 1, 0, 0, 1, 0, 1, 1, 1, 1, 1, 0, 1, ...]</td>\n",
       "      <td>0.025231</td>\n",
       "      <td>adipose_subcutaneous</td>\n",
       "      <td>var_pc_log2</td>\n",
       "      <td>clustermatch</td>\n",
       "      <td>SpectralClustering</td>\n",
       "    </tr>\n",
       "    <tr>\n",
       "      <th>1</th>\n",
       "      <td>SpectralClustering #1</td>\n",
       "      <td>5</td>\n",
       "      <td>[4, 0, 4, 1, 0, 0, 0, 4, 0, 4, 0, 4, 1, 4, 0, 4, 3, 3, 3, 3, 1, 3, 0, 4, 4, 0, 0, 3, 4, 2, 3, 0, 4, 0, 4, 4, 0, 2, 4, 4, 3, 4, 4, 0, 3, 0, 3, 3, 3, 0, 0, 3, 4, 4, 0, 3, 3, 3, 0, 0, 3, 4, 3, 3, 4, 4, 0, 0, 4, 0, 4, 0, 0, 4, 3, 3, 2, 0, 4, 0, 0, 4, 3, 0, 4, 3, 4, 3, 0, 3, 3, 0, 2, 0, 1, 0, 4, 0, 3, 4, ...]</td>\n",
       "      <td>0.026704</td>\n",
       "      <td>adipose_subcutaneous</td>\n",
       "      <td>var_pc_log2</td>\n",
       "      <td>clustermatch</td>\n",
       "      <td>SpectralClustering</td>\n",
       "    </tr>\n",
       "    <tr>\n",
       "      <th>2</th>\n",
       "      <td>SpectralClustering #2</td>\n",
       "      <td>10</td>\n",
       "      <td>[1, 1, 6, 1, 9, 5, 5, 5, 9, 5, 1, 1, 6, 9, 9, 1, 2, 2, 2, 2, 0, 8, 9, 1, 5, 9, 9, 2, 6, 3, 8, 9, 6, 6, 5, 6, 6, 3, 6, 5, 2, 1, 6, 1, 2, 1, 2, 2, 2, 1, 1, 2, 5, 6, 6, 2, 2, 8, 6, 9, 2, 6, 2, 2, 5, 5, 6, 6, 5, 9, 6, 9, 1, 6, 2, 2, 3, 9, 6, 6, 1, 6, 2, 9, 6, 8, 5, 2, 1, 2, 8, 9, 3, 1, 7, 6, 5, 9, 2, 6, ...]</td>\n",
       "      <td>0.032722</td>\n",
       "      <td>adipose_subcutaneous</td>\n",
       "      <td>var_pc_log2</td>\n",
       "      <td>clustermatch</td>\n",
       "      <td>SpectralClustering</td>\n",
       "    </tr>\n",
       "    <tr>\n",
       "      <th>3</th>\n",
       "      <td>SpectralClustering #3</td>\n",
       "      <td>15</td>\n",
       "      <td>[0, 0, 13, 10, 1, 10, 13, 10, 14, 12, 13, 10, 10, 1, 14, 1, 2, 2, 2, 2, 6, 9, 1, 5, 12, 1, 14, 2, 1, 3, 9, 14, 10, 1, 12, 1, 1, 3, 1, 1, 2, 13, 1, 10, 2, 14, 2, 2, 2, 0, 13, 2, 10, 1, 1, 2, 2, 11, 1, 8, 2, 1, 2, 2, 12, 12, 10, 10, 1, 14, 10, 14, 13, 1, 2, 2, 3, 8, 1, 1, 8, 1, 2, 1, 10, 9, 12, 2, 13, 2, 9, 1, 3, 0, 6, 1, 12, 8, 2, 1, ...]</td>\n",
       "      <td>0.032060</td>\n",
       "      <td>adipose_subcutaneous</td>\n",
       "      <td>var_pc_log2</td>\n",
       "      <td>clustermatch</td>\n",
       "      <td>SpectralClustering</td>\n",
       "    </tr>\n",
       "    <tr>\n",
       "      <th>4</th>\n",
       "      <td>SpectralClustering #4</td>\n",
       "      <td>20</td>\n",
       "      <td>[15, 0, 7, 18, 4, 15, 15, 15, 11, 8, 18, 13, 18, 4, 11, 4, 3, 3, 3, 3, 17, 10, 4, 7, 8, 4, 11, 3, 4, 2, 10, 11, 4, 4, 8, 4, 4, 2, 4, 4, 3, 9, 4, 18, 3, 11, 3, 3, 3, 0, 18, 3, 15, 4, 4, 3, 3, 19, 4, 6, 3, 4, 3, 3, 8, 8, 18, 18, 7, 18, 15, 11, 15, 4, 3, 3, 2, 6, 4, 4, 6, 4, 3, 4, 18, 10, 8, 3, 18, 3, 10, 4, 2, 0, 17, 4, 8, 6, 3, 4, ...]</td>\n",
       "      <td>0.033032</td>\n",
       "      <td>adipose_subcutaneous</td>\n",
       "      <td>var_pc_log2</td>\n",
       "      <td>clustermatch</td>\n",
       "      <td>SpectralClustering</td>\n",
       "    </tr>\n",
       "  </tbody>\n",
       "</table>\n",
       "</div>"
      ],
      "text/plain": [
       "                      id  n_clusters  \\\n",
       "0  SpectralClustering #0           2   \n",
       "1  SpectralClustering #1           5   \n",
       "2  SpectralClustering #2          10   \n",
       "3  SpectralClustering #3          15   \n",
       "4  SpectralClustering #4          20   \n",
       "\n",
       "                                                                                                                                                                                                                                                                                                                                             partition  \\\n",
       "0                                    [1, 1, 1, 1, 1, 1, 1, 1, 1, 1, 1, 1, 1, 1, 1, 1, 0, 0, 0, 0, 1, 0, 1, 1, 1, 1, 1, 0, 1, 0, 0, 1, 1, 1, 1, 1, 1, 0, 1, 1, 0, 1, 1, 1, 0, 1, 0, 0, 0, 1, 1, 0, 1, 1, 1, 0, 0, 0, 1, 1, 0, 1, 0, 0, 1, 1, 1, 1, 1, 1, 1, 1, 1, 1, 0, 0, 0, 1, 1, 1, 1, 1, 0, 1, 1, 0, 1, 0, 1, 0, 0, 1, 0, 1, 1, 1, 1, 1, 0, 1, ...]   \n",
       "1                                    [4, 0, 4, 1, 0, 0, 0, 4, 0, 4, 0, 4, 1, 4, 0, 4, 3, 3, 3, 3, 1, 3, 0, 4, 4, 0, 0, 3, 4, 2, 3, 0, 4, 0, 4, 4, 0, 2, 4, 4, 3, 4, 4, 0, 3, 0, 3, 3, 3, 0, 0, 3, 4, 4, 0, 3, 3, 3, 0, 0, 3, 4, 3, 3, 4, 4, 0, 0, 4, 0, 4, 0, 0, 4, 3, 3, 2, 0, 4, 0, 0, 4, 3, 0, 4, 3, 4, 3, 0, 3, 3, 0, 2, 0, 1, 0, 4, 0, 3, 4, ...]   \n",
       "2                                    [1, 1, 6, 1, 9, 5, 5, 5, 9, 5, 1, 1, 6, 9, 9, 1, 2, 2, 2, 2, 0, 8, 9, 1, 5, 9, 9, 2, 6, 3, 8, 9, 6, 6, 5, 6, 6, 3, 6, 5, 2, 1, 6, 1, 2, 1, 2, 2, 2, 1, 1, 2, 5, 6, 6, 2, 2, 8, 6, 9, 2, 6, 2, 2, 5, 5, 6, 6, 5, 9, 6, 9, 1, 6, 2, 2, 3, 9, 6, 6, 1, 6, 2, 9, 6, 8, 5, 2, 1, 2, 8, 9, 3, 1, 7, 6, 5, 9, 2, 6, ...]   \n",
       "3  [0, 0, 13, 10, 1, 10, 13, 10, 14, 12, 13, 10, 10, 1, 14, 1, 2, 2, 2, 2, 6, 9, 1, 5, 12, 1, 14, 2, 1, 3, 9, 14, 10, 1, 12, 1, 1, 3, 1, 1, 2, 13, 1, 10, 2, 14, 2, 2, 2, 0, 13, 2, 10, 1, 1, 2, 2, 11, 1, 8, 2, 1, 2, 2, 12, 12, 10, 10, 1, 14, 10, 14, 13, 1, 2, 2, 3, 8, 1, 1, 8, 1, 2, 1, 10, 9, 12, 2, 13, 2, 9, 1, 3, 0, 6, 1, 12, 8, 2, 1, ...]   \n",
       "4     [15, 0, 7, 18, 4, 15, 15, 15, 11, 8, 18, 13, 18, 4, 11, 4, 3, 3, 3, 3, 17, 10, 4, 7, 8, 4, 11, 3, 4, 2, 10, 11, 4, 4, 8, 4, 4, 2, 4, 4, 3, 9, 4, 18, 3, 11, 3, 3, 3, 0, 18, 3, 15, 4, 4, 3, 3, 19, 4, 6, 3, 4, 3, 3, 8, 8, 18, 18, 7, 18, 15, 11, 15, 4, 3, 3, 2, 6, 4, 4, 6, 4, 3, 4, 18, 10, 8, 3, 18, 3, 10, 4, 2, 0, 17, 4, 8, 6, 3, 4, ...]   \n",
       "\n",
       "   si_score                tissue gene_sel_strategy   corr_method  \\\n",
       "0  0.025231  adipose_subcutaneous       var_pc_log2  clustermatch   \n",
       "1  0.026704  adipose_subcutaneous       var_pc_log2  clustermatch   \n",
       "2  0.032722  adipose_subcutaneous       var_pc_log2  clustermatch   \n",
       "3  0.032060  adipose_subcutaneous       var_pc_log2  clustermatch   \n",
       "4  0.033032  adipose_subcutaneous       var_pc_log2  clustermatch   \n",
       "\n",
       "         clust_method  \n",
       "0  SpectralClustering  \n",
       "1  SpectralClustering  \n",
       "2  SpectralClustering  \n",
       "3  SpectralClustering  \n",
       "4  SpectralClustering  "
      ]
     },
     "metadata": {},
     "output_type": "display_data"
    }
   ],
   "source": [
    "with pd.option_context(\n",
    "    \"display.max_rows\", None, \"display.max_columns\", None, \"display.max_colwidth\", None\n",
    "):\n",
    "    tmp = df.head()\n",
    "    display(tmp)"
   ]
  },
  {
   "cell_type": "markdown",
   "id": "65895598-4c35-47ba-935f-5f5c28b480e2",
   "metadata": {},
   "source": [
    "# SI score by method"
   ]
  },
  {
   "cell_type": "code",
   "execution_count": 15,
   "id": "04e2dd43-121e-4f07-ab12-9d75f61a3d97",
   "metadata": {},
   "outputs": [],
   "source": [
    "# plot_data = df.groupby([\"n_clusters\", \"corr_method\", \"gene_sel_strategy\", \"clust_method\"])[\"si_score\"].mean().reset_index()"
   ]
  },
  {
   "cell_type": "code",
   "execution_count": 16,
   "id": "776c9b7a-748d-4b17-bc44-ff7b6652f869",
   "metadata": {},
   "outputs": [],
   "source": [
    "# plot_data.shape"
   ]
  },
  {
   "cell_type": "code",
   "execution_count": 17,
   "id": "fa4bd201-627d-4963-860d-c396112e5cf4",
   "metadata": {},
   "outputs": [],
   "source": [
    "# plot_data.sort_values([\"n_clusters\", \"corr_method\"]).head(20)"
   ]
  },
  {
   "cell_type": "code",
   "execution_count": 28,
   "id": "84dc7fee-b623-4a80-b77e-508cad521bac",
   "metadata": {},
   "outputs": [],
   "source": [
    "selected_corr_methods = [\n",
    "    \"clustermatch\",\n",
    "    \"clustermatch_k2\",\n",
    "    \"spearman_abs\",\n",
    "    \"pearson_abs\",\n",
    "]\n",
    "\n",
    "plot_data = df[\n",
    "    (np.ones(df.shape[0]).astype(bool)) & (df.corr_method.isin(selected_corr_methods))\n",
    "]"
   ]
  },
  {
   "cell_type": "code",
   "execution_count": 29,
   "id": "3b5322c6-7382-4cb3-8b6b-0b9a8e0e7902",
   "metadata": {},
   "outputs": [
    {
     "data": {
      "text/plain": [
       "(500, 8)"
      ]
     },
     "execution_count": 29,
     "metadata": {},
     "output_type": "execute_result"
    }
   ],
   "source": [
    "plot_data.shape"
   ]
  },
  {
   "cell_type": "code",
   "execution_count": 30,
   "id": "d81543b3-5a22-4564-9aa0-da231c9c5dfe",
   "metadata": {},
   "outputs": [
    {
     "data": {
      "text/plain": [
       "['clustermatch', 'clustermatch_k2', 'pearson_abs', 'spearman_abs']\n",
       "Categories (6, object): ['clustermatch', 'clustermatch_k2', 'pearson_abs', 'pearson_full', 'spearman_abs', 'spearman_full']"
      ]
     },
     "execution_count": 30,
     "metadata": {},
     "output_type": "execute_result"
    }
   ],
   "source": [
    "plot_data.corr_method.unique()"
   ]
  },
  {
   "cell_type": "code",
   "execution_count": 31,
   "id": "4e30fce5-944e-40a6-9b09-a638444efb5a",
   "metadata": {},
   "outputs": [],
   "source": [
    "PERFORMANCE_MEASURE = \"si_score\"\n",
    "# PERFORMANCE_MEASURE = \"rich_factor\"\n",
    "# PERFORMANCE_MEASURE = \"fold_enrich\""
   ]
  },
  {
   "cell_type": "code",
   "execution_count": 32,
   "id": "a6241206-5e61-41bb-80f0-cb040137269f",
   "metadata": {},
   "outputs": [
    {
     "data": {
      "text/plain": [
       "<seaborn.axisgrid.FacetGrid at 0x7f003b040bb0>"
      ]
     },
     "execution_count": 32,
     "metadata": {},
     "output_type": "execute_result"
    },
    {
     "data": {
      "image/png": "[encoded data removed]",
      "text/plain": [
       "<Figure size 838.625x360 with 1 Axes>"
      ]
     },
     "metadata": {
      "needs_background": "light"
     },
     "output_type": "display_data"
    }
   ],
   "source": [
    "# fig, ax = plt.subplots(figsize=(10, 8))\n",
    "\n",
    "sns.catplot(\n",
    "    data=plot_data,\n",
    "    x=\"n_clusters\",\n",
    "    y=\"si_score\",\n",
    "    hue=\"corr_method\",\n",
    "    hue_order=selected_corr_methods,\n",
    "    kind=\"point\",\n",
    "    height=5,\n",
    "    aspect=2,\n",
    "    #     ax=ax,\n",
    ")\n",
    "\n",
    "# ax.set_xlabel(None)\n",
    "# # ax.set_ylabel(None)\n",
    "\n",
    "# min_val = min((quantiles_df.iloc[:, 0].min(), quantiles_df.iloc[:, 1].min()))\n",
    "# max_val = max((quantiles_df.iloc[:, 0].max(), quantiles_df.iloc[:, 1].max()))\n",
    "# ax.plot([min_val, max_val], [min_val, max_val], \"k\", linewidth=0.5)\n",
    "\n",
    "# ax.set_title(f\"Gene Ontology ({PERFORMANCE_MEASURE})\")"
   ]
  },
  {
   "cell_type": "markdown",
   "id": "7c5b8a32-6053-4c6e-a879-288e9f80545e",
   "metadata": {},
   "source": [
    "# Size of clusters"
   ]
  },
  {
   "cell_type": "code",
   "execution_count": 33,
   "id": "1daba1cc-46ef-4ba3-9a66-c6998bfaf2f6",
   "metadata": {},
   "outputs": [],
   "source": [
    "# plot_data = df.groupby([\"n_clusters\", \"corr_method\", \"gene_sel_strategy\", \"clust_method\"])[\"si_score\"].mean().reset_index()"
   ]
  },
  {
   "cell_type": "code",
   "execution_count": 34,
   "id": "658e3c07-3e11-496a-8565-79eadfcddf07",
   "metadata": {},
   "outputs": [],
   "source": [
    "# plot_data.shape"
   ]
  },
  {
   "cell_type": "code",
   "execution_count": 35,
   "id": "fd6941b2-0c42-4ab2-9c8a-16a80b1720aa",
   "metadata": {},
   "outputs": [],
   "source": [
    "# plot_data.sort_values([\"n_clusters\", \"corr_method\"]).head(20)"
   ]
  },
  {
   "cell_type": "code",
   "execution_count": 53,
   "id": "11e363ed-a041-4c3e-9e20-455c49f87fee",
   "metadata": {},
   "outputs": [],
   "source": [
    "plot_data = df[\n",
    "    (np.ones(df.shape[0]).astype(bool)) & (df.corr_method.isin(selected_corr_methods))\n",
    "]"
   ]
  },
  {
   "cell_type": "code",
   "execution_count": 54,
   "id": "2cb2a80e-0e8c-4b39-9d26-e7e21846d8fe",
   "metadata": {},
   "outputs": [
    {
     "data": {
      "text/plain": [
       "(500, 8)"
      ]
     },
     "execution_count": 54,
     "metadata": {},
     "output_type": "execute_result"
    }
   ],
   "source": [
    "plot_data.shape"
   ]
  },
  {
   "cell_type": "code",
   "execution_count": 55,
   "id": "d1e02fed-e439-46f1-9784-87e7bd482e67",
   "metadata": {},
   "outputs": [
    {
     "data": {
      "text/html": [
       "<div>\n",
       "<style scoped>\n",
       "    .dataframe tbody tr th:only-of-type {\n",
       "        vertical-align: middle;\n",
       "    }\n",
       "\n",
       "    .dataframe tbody tr th {\n",
       "        vertical-align: top;\n",
       "    }\n",
       "\n",
       "    .dataframe thead th {\n",
       "        text-align: right;\n",
       "    }\n",
       "</style>\n",
       "<table border=\"1\" class=\"dataframe\">\n",
       "  <thead>\n",
       "    <tr style=\"text-align: right;\">\n",
       "      <th></th>\n",
       "      <th>id</th>\n",
       "      <th>n_clusters</th>\n",
       "      <th>partition</th>\n",
       "      <th>si_score</th>\n",
       "      <th>tissue</th>\n",
       "      <th>gene_sel_strategy</th>\n",
       "      <th>corr_method</th>\n",
       "      <th>clust_method</th>\n",
       "    </tr>\n",
       "  </thead>\n",
       "  <tbody>\n",
       "    <tr>\n",
       "      <th>0</th>\n",
       "      <td>SpectralClustering #0</td>\n",
       "      <td>2</td>\n",
       "      <td>[1, 1, 1, 1, 1, 1, 1, 1, 1, 1, 1, 1, 1, 1, 1, ...</td>\n",
       "      <td>0.025231</td>\n",
       "      <td>adipose_subcutaneous</td>\n",
       "      <td>var_pc_log2</td>\n",
       "      <td>clustermatch</td>\n",
       "      <td>SpectralClustering</td>\n",
       "    </tr>\n",
       "    <tr>\n",
       "      <th>1</th>\n",
       "      <td>SpectralClustering #1</td>\n",
       "      <td>5</td>\n",
       "      <td>[4, 0, 4, 1, 0, 0, 0, 4, 0, 4, 0, 4, 1, 4, 0, ...</td>\n",
       "      <td>0.026704</td>\n",
       "      <td>adipose_subcutaneous</td>\n",
       "      <td>var_pc_log2</td>\n",
       "      <td>clustermatch</td>\n",
       "      <td>SpectralClustering</td>\n",
       "    </tr>\n",
       "    <tr>\n",
       "      <th>2</th>\n",
       "      <td>SpectralClustering #2</td>\n",
       "      <td>10</td>\n",
       "      <td>[1, 1, 6, 1, 9, 5, 5, 5, 9, 5, 1, 1, 6, 9, 9, ...</td>\n",
       "      <td>0.032722</td>\n",
       "      <td>adipose_subcutaneous</td>\n",
       "      <td>var_pc_log2</td>\n",
       "      <td>clustermatch</td>\n",
       "      <td>SpectralClustering</td>\n",
       "    </tr>\n",
       "    <tr>\n",
       "      <th>3</th>\n",
       "      <td>SpectralClustering #3</td>\n",
       "      <td>15</td>\n",
       "      <td>[0, 0, 13, 10, 1, 10, 13, 10, 14, 12, 13, 10, ...</td>\n",
       "      <td>0.032060</td>\n",
       "      <td>adipose_subcutaneous</td>\n",
       "      <td>var_pc_log2</td>\n",
       "      <td>clustermatch</td>\n",
       "      <td>SpectralClustering</td>\n",
       "    </tr>\n",
       "    <tr>\n",
       "      <th>4</th>\n",
       "      <td>SpectralClustering #4</td>\n",
       "      <td>20</td>\n",
       "      <td>[15, 0, 7, 18, 4, 15, 15, 15, 11, 8, 18, 13, 1...</td>\n",
       "      <td>0.033032</td>\n",
       "      <td>adipose_subcutaneous</td>\n",
       "      <td>var_pc_log2</td>\n",
       "      <td>clustermatch</td>\n",
       "      <td>SpectralClustering</td>\n",
       "    </tr>\n",
       "  </tbody>\n",
       "</table>\n",
       "</div>"
      ],
      "text/plain": [
       "                      id  n_clusters  \\\n",
       "0  SpectralClustering #0           2   \n",
       "1  SpectralClustering #1           5   \n",
       "2  SpectralClustering #2          10   \n",
       "3  SpectralClustering #3          15   \n",
       "4  SpectralClustering #4          20   \n",
       "\n",
       "                                           partition  si_score  \\\n",
       "0  [1, 1, 1, 1, 1, 1, 1, 1, 1, 1, 1, 1, 1, 1, 1, ...  0.025231   \n",
       "1  [4, 0, 4, 1, 0, 0, 0, 4, 0, 4, 0, 4, 1, 4, 0, ...  0.026704   \n",
       "2  [1, 1, 6, 1, 9, 5, 5, 5, 9, 5, 1, 1, 6, 9, 9, ...  0.032722   \n",
       "3  [0, 0, 13, 10, 1, 10, 13, 10, 14, 12, 13, 10, ...  0.032060   \n",
       "4  [15, 0, 7, 18, 4, 15, 15, 15, 11, 8, 18, 13, 1...  0.033032   \n",
       "\n",
       "                 tissue gene_sel_strategy   corr_method        clust_method  \n",
       "0  adipose_subcutaneous       var_pc_log2  clustermatch  SpectralClustering  \n",
       "1  adipose_subcutaneous       var_pc_log2  clustermatch  SpectralClustering  \n",
       "2  adipose_subcutaneous       var_pc_log2  clustermatch  SpectralClustering  \n",
       "3  adipose_subcutaneous       var_pc_log2  clustermatch  SpectralClustering  \n",
       "4  adipose_subcutaneous       var_pc_log2  clustermatch  SpectralClustering  "
      ]
     },
     "execution_count": 55,
     "metadata": {},
     "output_type": "execute_result"
    }
   ],
   "source": [
    "plot_data.head()"
   ]
  },
  {
   "cell_type": "code",
   "execution_count": 56,
   "id": "19086af8-fcd6-4cbf-8f89-67343853435d",
   "metadata": {},
   "outputs": [
    {
     "data": {
      "text/plain": [
       "{1: 4364, 0: 636}"
      ]
     },
     "execution_count": 56,
     "metadata": {},
     "output_type": "execute_result"
    }
   ],
   "source": [
    "pd.Series(plot_data.iloc[0][\"partition\"]).value_counts().to_dict()"
   ]
  },
  {
   "cell_type": "code",
   "execution_count": 60,
   "id": "d0e9ca99-f223-487d-aff9-f727ebc6d8ba",
   "metadata": {},
   "outputs": [],
   "source": [
    "from scipy.stats import entropy"
   ]
  },
  {
   "cell_type": "code",
   "execution_count": 61,
   "id": "3a51a7d0-fee7-417e-b381-b24f3959d068",
   "metadata": {},
   "outputs": [
    {
     "data": {
      "text/plain": [
       "0.3810291481388292"
      ]
     },
     "execution_count": 61,
     "metadata": {},
     "output_type": "execute_result"
    }
   ],
   "source": [
    "entropy([4364, 636])"
   ]
  },
  {
   "cell_type": "code",
   "execution_count": 64,
   "id": "bfcf7958-d3f7-4d56-b239-4729bbf2f7e1",
   "metadata": {},
   "outputs": [
    {
     "data": {
      "text/plain": [
       "0.046594424222104566"
      ]
     },
     "execution_count": 64,
     "metadata": {},
     "output_type": "execute_result"
    }
   ],
   "source": [
    "entropy([4960, 40])"
   ]
  },
  {
   "cell_type": "code",
   "execution_count": 71,
   "id": "622972b7-f926-4d8c-86bd-87b2c59e0618",
   "metadata": {},
   "outputs": [
    {
     "data": {
      "text/plain": [
       "0.6931471805599453"
      ]
     },
     "execution_count": 71,
     "metadata": {},
     "output_type": "execute_result"
    }
   ],
   "source": [
    "entropy([1 / 2, 1 / 2])"
   ]
  },
  {
   "cell_type": "code",
   "execution_count": 69,
   "id": "ed8f9b9e-5184-4779-87b2-b426682b95f0",
   "metadata": {},
   "outputs": [
    {
     "data": {
      "text/plain": [
       "0.6931471805599453"
      ]
     },
     "execution_count": 69,
     "metadata": {},
     "output_type": "execute_result"
    }
   ],
   "source": [
    "entropy([2500, 2500])"
   ]
  },
  {
   "cell_type": "code",
   "execution_count": 76,
   "id": "b70ef504-b103-4cf6-84c8-6b0a2c6c233c",
   "metadata": {},
   "outputs": [
    {
     "data": {
      "text/plain": [
       "0.3810291481388292"
      ]
     },
     "execution_count": 76,
     "metadata": {},
     "output_type": "execute_result"
    }
   ],
   "source": [
    "entropy([4364, 636])"
   ]
  },
  {
   "cell_type": "code",
   "execution_count": 77,
   "id": "953234d4-c206-47d3-b6b1-bee15e7a4f73",
   "metadata": {},
   "outputs": [
    {
     "data": {
      "text/plain": [
       "0.6931471805599453"
      ]
     },
     "execution_count": 77,
     "metadata": {},
     "output_type": "execute_result"
    }
   ],
   "source": [
    "_get_max_entropy([4364, 636])"
   ]
  },
  {
   "cell_type": "code",
   "execution_count": 78,
   "id": "ae9929ca-af06-4665-b103-e195059bbab1",
   "metadata": {},
   "outputs": [
    {
     "data": {
      "text/plain": [
       "0.5497088624540352"
      ]
     },
     "execution_count": 78,
     "metadata": {},
     "output_type": "execute_result"
    }
   ],
   "source": [
    "_compute_score([4364, 636])"
   ]
  },
  {
   "cell_type": "code",
   "execution_count": 79,
   "id": "36d05a4e-fd44-4630-a749-841279fc9586",
   "metadata": {},
   "outputs": [],
   "source": [
    "def _get_partition_stats(part):\n",
    "    return pd.Series(part).value_counts().to_numpy()\n",
    "\n",
    "\n",
    "def _get_max_entropy(part_stats):\n",
    "    n_clusters = len(part_stats)\n",
    "    return entropy([1 / n_clusters for i in range(n_clusters)])\n",
    "\n",
    "\n",
    "def _compute_score(part_stats):\n",
    "    return entropy(part_stats) / _get_max_entropy(part_stats)\n",
    "\n",
    "\n",
    "plot_data = plot_data.assign(\n",
    "    partition_stats=plot_data[\"partition\"].apply(_get_partition_stats)\n",
    ")\n",
    "plot_data = plot_data.assign(\n",
    "    cluster_score=plot_data[\"partition_stats\"].apply(_compute_score)\n",
    ")"
   ]
  },
  {
   "cell_type": "code",
   "execution_count": 82,
   "id": "eba1748a-b72c-40f5-8525-f4b31b399a10",
   "metadata": {},
   "outputs": [
    {
     "data": {
      "text/plain": [
       "count    500.000000\n",
       "mean       0.756652\n",
       "std        0.138835\n",
       "min        0.031130\n",
       "25%        0.678384\n",
       "50%        0.794837\n",
       "75%        0.850499\n",
       "max        0.999993\n",
       "Name: cluster_score, dtype: float64"
      ]
     },
     "execution_count": 82,
     "metadata": {},
     "output_type": "execute_result"
    }
   ],
   "source": [
    "plot_data[\"cluster_score\"].describe()"
   ]
  },
  {
   "cell_type": "code",
   "execution_count": 81,
   "id": "b7e6fbf9-cc72-422d-ab21-1e3f0e113928",
   "metadata": {},
   "outputs": [],
   "source": [
    "# plot_data.sort_values([\"n_clusters\", \"corr_method\"]).head(20)"
   ]
  },
  {
   "cell_type": "code",
   "execution_count": 86,
   "id": "94fc1af3-73d4-4b95-b5b2-5f71e71dfda2",
   "metadata": {},
   "outputs": [
    {
     "data": {
      "text/plain": [
       "<seaborn.axisgrid.FacetGrid at 0x7f0031ee5e50>"
      ]
     },
     "execution_count": 86,
     "metadata": {},
     "output_type": "execute_result"
    },
    {
     "data": {
      "image/png": "[encoded data removed]",
      "text/plain": [
       "<Figure size 838.625x360 with 1 Axes>"
      ]
     },
     "metadata": {
      "needs_background": "light"
     },
     "output_type": "display_data"
    }
   ],
   "source": [
    "# fig, ax = plt.subplots(figsize=(10, 8))\n",
    "\n",
    "sns.catplot(\n",
    "    data=plot_data,\n",
    "    x=\"n_clusters\",\n",
    "    y=\"cluster_score\",\n",
    "    hue=\"corr_method\",\n",
    "    hue_order=selected_corr_methods,\n",
    "    kind=\"point\",\n",
    "    height=5,\n",
    "    aspect=2,\n",
    "    #     ax=ax,\n",
    ")\n",
    "\n",
    "# ax.set_xlabel(None)\n",
    "# # ax.set_ylabel(None)\n",
    "\n",
    "# min_val = min((quantiles_df.iloc[:, 0].min(), quantiles_df.iloc[:, 1].min()))\n",
    "# max_val = max((quantiles_df.iloc[:, 0].max(), quantiles_df.iloc[:, 1].max()))\n",
    "# ax.plot([min_val, max_val], [min_val, max_val], \"k\", linewidth=0.5)\n",
    "\n",
    "# ax.set_title(f\"Gene Ontology ({PERFORMANCE_MEASURE})\")"
   ]
  },
  {
   "cell_type": "code",
   "execution_count": null,
   "id": "562af679-01b6-47cd-9ea0-d46068ea1b7e",
   "metadata": {},
   "outputs": [],
   "source": []
  }
 ],
 "metadata": {
  "jupytext": {
   "cell_metadata_filter": "all,-execution,-papermill,-trusted",
   "text_representation": {
    "extension": ".py",
    "format_name": "percent",
    "format_version": "1.3",
    "jupytext_version": "1.11.5"
   }
  },
  "kernelspec": {
   "display_name": "Python 3 (ipykernel)",
   "language": "python",
   "name": "python3"
  },
  "language_info": {
   "codemirror_mode": {
    "name": "ipython",
    "version": 3
   },
   "file_extension": ".py",
   "mimetype": "text/x-python",
   "name": "python",
   "nbconvert_exporter": "python",
   "pygments_lexer": "ipython3",
   "version": "3.9.7"
  }
 },
 "nbformat": 4,
 "nbformat_minor": 5
}
