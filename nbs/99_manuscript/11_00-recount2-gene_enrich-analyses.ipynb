{
 "cells": [
  {
   "cell_type": "markdown",
   "id": "4b79d660-2ab1-42c2-a4d5-467d2534e5dc",
   "metadata": {
    "papermill": {
     "duration": 0.05443,
     "end_time": "2021-09-21T01:08:26.664204",
     "exception": false,
     "start_time": "2021-09-21T01:08:26.609774",
     "status": "completed"
    },
    "tags": []
   },
   "source": [
    "# Description"
   ]
  },
  {
   "cell_type": "markdown",
   "id": "9f0b6db4-6f06-4856-a4b8-e24548d0f1d9",
   "metadata": {
    "papermill": {
     "duration": 0.018505,
     "end_time": "2021-09-21T01:08:26.702179",
     "exception": false,
     "start_time": "2021-09-21T01:08:26.683674",
     "status": "completed"
    },
    "tags": []
   },
   "source": [
    "TODO"
   ]
  },
  {
   "cell_type": "markdown",
   "id": "dfb4a759-748a-4a19-b773-992a23cb9327",
   "metadata": {
    "papermill": {
     "duration": 0.017986,
     "end_time": "2021-09-21T01:08:26.738014",
     "exception": false,
     "start_time": "2021-09-21T01:08:26.720028",
     "status": "completed"
    },
    "tags": []
   },
   "source": [
    "# Modules loading"
   ]
  },
  {
   "cell_type": "code",
   "execution_count": 1,
   "id": "98e28052-34cc-43fc-87f3-a1b61eeb14fc",
   "metadata": {
    "papermill": {
     "duration": 0.98246,
     "end_time": "2021-09-21T01:08:27.738520",
     "exception": false,
     "start_time": "2021-09-21T01:08:26.756060",
     "status": "completed"
    },
    "tags": []
   },
   "outputs": [],
   "source": [
    "import re\n",
    "\n",
    "import numpy as np\n",
    "import pandas as pd\n",
    "import matplotlib.pyplot as plt\n",
    "import seaborn as sns\n",
    "from tqdm import tqdm\n",
    "\n",
    "from clustermatch import conf"
   ]
  },
  {
   "cell_type": "markdown",
   "id": "76fa50d9-680c-4107-b705-009070735d89",
   "metadata": {
    "papermill": {
     "duration": 0.018302,
     "end_time": "2021-09-21T01:08:27.775660",
     "exception": false,
     "start_time": "2021-09-21T01:08:27.757358",
     "status": "completed"
    },
    "tags": []
   },
   "source": [
    "# Settings"
   ]
  },
  {
   "cell_type": "code",
   "execution_count": 2,
   "id": "bb27ea36-f330-46b0-94e9-eb8bc2f8c53d",
   "metadata": {},
   "outputs": [],
   "source": [
    "DATASET_CONFIG = conf.RECOUNT2"
   ]
  },
  {
   "cell_type": "code",
   "execution_count": 3,
   "id": "7e12ded2-5649-4e35-a946-07c8724ea421",
   "metadata": {
    "papermill": {
     "duration": 0.023202,
     "end_time": "2021-09-21T01:08:27.816886",
     "exception": false,
     "start_time": "2021-09-21T01:08:27.793684",
     "status": "completed"
    },
    "tags": []
   },
   "outputs": [],
   "source": [
    "# ENRICH_FUNCTION = \"enrichGO\""
   ]
  },
  {
   "cell_type": "code",
   "execution_count": 4,
   "id": "f10c4d5f-e737-4066-866a-e4f2404e5922",
   "metadata": {
    "papermill": {
     "duration": 0.023202,
     "end_time": "2021-09-21T01:08:27.816886",
     "exception": false,
     "start_time": "2021-09-21T01:08:27.793684",
     "status": "completed"
    },
    "tags": []
   },
   "outputs": [],
   "source": [
    "# CORRELATION_METHOD_NAME = \"clustermatch\""
   ]
  },
  {
   "cell_type": "code",
   "execution_count": 5,
   "id": "ff5b04ea-1161-499a-9aff-a3f5f0efd7ce",
   "metadata": {
    "papermill": {
     "duration": 0.023527,
     "end_time": "2021-09-21T01:08:27.859971",
     "exception": false,
     "start_time": "2021-09-21T01:08:27.836444",
     "status": "completed"
    },
    "tags": []
   },
   "outputs": [],
   "source": [
    "# GENE_SELECTION_STRATEGY = \"var_pc_log2\""
   ]
  },
  {
   "cell_type": "code",
   "execution_count": 6,
   "id": "c0e27c63-0b49-47f1-8147-6c47b90ea3d9",
   "metadata": {},
   "outputs": [],
   "source": [
    "# # clusterProfiler settings\n",
    "# ENRICH_FUNCTION = \"enrichGO\"\n",
    "# SIMPLIFY_CUTOFF = 0.7\n",
    "# GO_ONTOLOGIES = (\"BP\", \"CC\", \"MF\")"
   ]
  },
  {
   "cell_type": "code",
   "execution_count": 7,
   "id": "d67b1af4-a310-45f5-a6e9-919df1fd2165",
   "metadata": {},
   "outputs": [],
   "source": [
    "# SIMILARITY_MATRICES_DIR = DATASET_CONFIG[\"SIMILARITY_MATRICES_DIR\"]\n",
    "# display(SIMILARITY_MATRICES_DIR)"
   ]
  },
  {
   "cell_type": "code",
   "execution_count": 8,
   "id": "22b5ec88-d626-4db3-ada1-81cf48f23579",
   "metadata": {},
   "outputs": [],
   "source": [
    "# SIMILARITY_MATRIX_FILENAME_TEMPLATE = DATASET_CONFIG[\"SIMILARITY_MATRIX_FILENAME_TEMPLATE\"]\n",
    "# display(SIMILARITY_MATRIX_FILENAME_TEMPLATE)"
   ]
  },
  {
   "cell_type": "markdown",
   "id": "eee530dc-b562-4b54-8bc3-a9c831ac052c",
   "metadata": {
    "papermill": {
     "duration": 0.018256,
     "end_time": "2021-09-21T01:08:28.146573",
     "exception": false,
     "start_time": "2021-09-21T01:08:28.128317",
     "status": "completed"
    },
    "tags": []
   },
   "source": [
    "# Paths"
   ]
  },
  {
   "cell_type": "code",
   "execution_count": 9,
   "id": "b89c7a90-c325-4557-9107-7ba95e8bf03a",
   "metadata": {
    "papermill": {
     "duration": 0.025306,
     "end_time": "2021-09-21T01:08:28.234279",
     "exception": false,
     "start_time": "2021-09-21T01:08:28.208973",
     "status": "completed"
    },
    "tags": []
   },
   "outputs": [
    {
     "data": {
      "text/plain": [
       "PosixPath('/home/miltondp/projects/labs/greenelab/clustermatch_repos/clustermatch-gene-expr/base/results/recount2/gene_set_enrichment/recount_data_prep_PLIER-gene_set_enrichment.pkl')"
      ]
     },
     "metadata": {},
     "output_type": "display_data"
    }
   ],
   "source": [
    "INPUT_FILE = DATASET_CONFIG[\"GENE_ENRICHMENT_COMBINED_FILE\"]\n",
    "display(INPUT_FILE)\n",
    "assert INPUT_FILE.exists()"
   ]
  },
  {
   "cell_type": "markdown",
   "id": "ec13a933-c48b-412b-9147-6aca9548be9f",
   "metadata": {
    "papermill": {
     "duration": 0.019217,
     "end_time": "2021-09-21T01:08:28.355017",
     "exception": false,
     "start_time": "2021-09-21T01:08:28.335800",
     "status": "completed"
    },
    "tags": []
   },
   "source": [
    "# Load data"
   ]
  },
  {
   "cell_type": "code",
   "execution_count": 10,
   "id": "dba36444-b52f-4934-8950-786cd0c51a61",
   "metadata": {},
   "outputs": [],
   "source": [
    "df = pd.read_pickle(INPUT_FILE)"
   ]
  },
  {
   "cell_type": "code",
   "execution_count": 11,
   "id": "840e3a37-4f34-4689-98d3-79f2ee1a9f5b",
   "metadata": {},
   "outputs": [
    {
     "data": {
      "text/plain": [
       "(1247015, 19)"
      ]
     },
     "execution_count": 11,
     "metadata": {},
     "output_type": "execute_result"
    }
   ],
   "source": [
    "df.shape"
   ]
  },
  {
   "cell_type": "code",
   "execution_count": 12,
   "id": "13210110-8c3a-411c-9ce8-012423b1006e",
   "metadata": {},
   "outputs": [
    {
     "data": {
      "text/plain": [
       "Index(['n_clusters', 'cluster_id', 'go_term_id', 'go_term_desc', 'gene_count',\n",
       "       'gene_total', 'gene_ratio', 'bg_count', 'bg_total', 'bg_ratio',\n",
       "       'pvalue', 'fdr_per_partition', 'corr_method', 'clust_method',\n",
       "       'enrich_func', 'enrich_params', 'rich_factor', 'fold_enrich', 'fdr'],\n",
       "      dtype='object')"
      ]
     },
     "execution_count": 12,
     "metadata": {},
     "output_type": "execute_result"
    }
   ],
   "source": [
    "df.columns"
   ]
  },
  {
   "cell_type": "code",
   "execution_count": 13,
   "id": "a0aec274-c723-4af5-b381-863aada8ce98",
   "metadata": {},
   "outputs": [
    {
     "data": {
      "text/html": [
       "<div>\n",
       "<style scoped>\n",
       "    .dataframe tbody tr th:only-of-type {\n",
       "        vertical-align: middle;\n",
       "    }\n",
       "\n",
       "    .dataframe tbody tr th {\n",
       "        vertical-align: top;\n",
       "    }\n",
       "\n",
       "    .dataframe thead th {\n",
       "        text-align: right;\n",
       "    }\n",
       "</style>\n",
       "<table border=\"1\" class=\"dataframe\">\n",
       "  <thead>\n",
       "    <tr style=\"text-align: right;\">\n",
       "      <th></th>\n",
       "      <th>n_clusters</th>\n",
       "      <th>cluster_id</th>\n",
       "      <th>go_term_id</th>\n",
       "      <th>go_term_desc</th>\n",
       "      <th>gene_count</th>\n",
       "      <th>gene_total</th>\n",
       "      <th>gene_ratio</th>\n",
       "      <th>bg_count</th>\n",
       "      <th>bg_total</th>\n",
       "      <th>bg_ratio</th>\n",
       "      <th>pvalue</th>\n",
       "      <th>fdr_per_partition</th>\n",
       "      <th>corr_method</th>\n",
       "      <th>clust_method</th>\n",
       "      <th>enrich_func</th>\n",
       "      <th>enrich_params</th>\n",
       "      <th>rich_factor</th>\n",
       "      <th>fold_enrich</th>\n",
       "      <th>fdr</th>\n",
       "    </tr>\n",
       "  </thead>\n",
       "  <tbody>\n",
       "    <tr>\n",
       "      <th>0</th>\n",
       "      <td>2</td>\n",
       "      <td>C1</td>\n",
       "      <td>GO:0006954</td>\n",
       "      <td>inflammatory response</td>\n",
       "      <td>365</td>\n",
       "      <td>3057</td>\n",
       "      <td>0.119398</td>\n",
       "      <td>454</td>\n",
       "      <td>6519</td>\n",
       "      <td>0.069643</td>\n",
       "      <td>3.274320e-52</td>\n",
       "      <td>1.562178e-48</td>\n",
       "      <td>clustermatch_k2</td>\n",
       "      <td>SpectralClustering</td>\n",
       "      <td>enrichGO</td>\n",
       "      <td>BP_full</td>\n",
       "      <td>0.803965</td>\n",
       "      <td>1.714441</td>\n",
       "      <td>6.924073e-50</td>\n",
       "    </tr>\n",
       "    <tr>\n",
       "      <th>1</th>\n",
       "      <td>2</td>\n",
       "      <td>C0</td>\n",
       "      <td>GO:0006396</td>\n",
       "      <td>RNA processing</td>\n",
       "      <td>343</td>\n",
       "      <td>3462</td>\n",
       "      <td>0.099076</td>\n",
       "      <td>393</td>\n",
       "      <td>6519</td>\n",
       "      <td>0.060285</td>\n",
       "      <td>4.199581e-50</td>\n",
       "      <td>2.020839e-46</td>\n",
       "      <td>clustermatch_k2</td>\n",
       "      <td>SpectralClustering</td>\n",
       "      <td>enrichGO</td>\n",
       "      <td>BP_full</td>\n",
       "      <td>0.872774</td>\n",
       "      <td>1.643446</td>\n",
       "      <td>8.120547e-48</td>\n",
       "    </tr>\n",
       "    <tr>\n",
       "      <th>2</th>\n",
       "      <td>2</td>\n",
       "      <td>C0</td>\n",
       "      <td>GO:0006412</td>\n",
       "      <td>translation</td>\n",
       "      <td>322</td>\n",
       "      <td>3462</td>\n",
       "      <td>0.093010</td>\n",
       "      <td>376</td>\n",
       "      <td>6519</td>\n",
       "      <td>0.057678</td>\n",
       "      <td>4.688221e-43</td>\n",
       "      <td>1.127986e-39</td>\n",
       "      <td>clustermatch_k2</td>\n",
       "      <td>SpectralClustering</td>\n",
       "      <td>enrichGO</td>\n",
       "      <td>BP_full</td>\n",
       "      <td>0.856383</td>\n",
       "      <td>1.612583</td>\n",
       "      <td>6.488660e-41</td>\n",
       "    </tr>\n",
       "    <tr>\n",
       "      <th>3</th>\n",
       "      <td>2</td>\n",
       "      <td>C0</td>\n",
       "      <td>GO:0043043</td>\n",
       "      <td>peptide biosynthetic process</td>\n",
       "      <td>330</td>\n",
       "      <td>3462</td>\n",
       "      <td>0.095321</td>\n",
       "      <td>391</td>\n",
       "      <td>6519</td>\n",
       "      <td>0.059979</td>\n",
       "      <td>3.054631e-41</td>\n",
       "      <td>4.899628e-38</td>\n",
       "      <td>clustermatch_k2</td>\n",
       "      <td>SpectralClustering</td>\n",
       "      <td>enrichGO</td>\n",
       "      <td>BP_full</td>\n",
       "      <td>0.843990</td>\n",
       "      <td>1.589246</td>\n",
       "      <td>3.857779e-39</td>\n",
       "    </tr>\n",
       "    <tr>\n",
       "      <th>4</th>\n",
       "      <td>2</td>\n",
       "      <td>C1</td>\n",
       "      <td>GO:0007186</td>\n",
       "      <td>G protein-coupled receptor signaling pathway</td>\n",
       "      <td>322</td>\n",
       "      <td>3057</td>\n",
       "      <td>0.105332</td>\n",
       "      <td>419</td>\n",
       "      <td>6519</td>\n",
       "      <td>0.064274</td>\n",
       "      <td>2.778931e-38</td>\n",
       "      <td>6.629140e-35</td>\n",
       "      <td>clustermatch_k2</td>\n",
       "      <td>SpectralClustering</td>\n",
       "      <td>enrichGO</td>\n",
       "      <td>BP_full</td>\n",
       "      <td>0.768496</td>\n",
       "      <td>1.638805</td>\n",
       "      <td>3.029963e-36</td>\n",
       "    </tr>\n",
       "  </tbody>\n",
       "</table>\n",
       "</div>"
      ],
      "text/plain": [
       "   n_clusters cluster_id  go_term_id  \\\n",
       "0           2         C1  GO:0006954   \n",
       "1           2         C0  GO:0006396   \n",
       "2           2         C0  GO:0006412   \n",
       "3           2         C0  GO:0043043   \n",
       "4           2         C1  GO:0007186   \n",
       "\n",
       "                                   go_term_desc  gene_count  gene_total  \\\n",
       "0                         inflammatory response         365        3057   \n",
       "1                                RNA processing         343        3462   \n",
       "2                                   translation         322        3462   \n",
       "3                  peptide biosynthetic process         330        3462   \n",
       "4  G protein-coupled receptor signaling pathway         322        3057   \n",
       "\n",
       "   gene_ratio  bg_count  bg_total  bg_ratio        pvalue  fdr_per_partition  \\\n",
       "0    0.119398       454      6519  0.069643  3.274320e-52       1.562178e-48   \n",
       "1    0.099076       393      6519  0.060285  4.199581e-50       2.020839e-46   \n",
       "2    0.093010       376      6519  0.057678  4.688221e-43       1.127986e-39   \n",
       "3    0.095321       391      6519  0.059979  3.054631e-41       4.899628e-38   \n",
       "4    0.105332       419      6519  0.064274  2.778931e-38       6.629140e-35   \n",
       "\n",
       "       corr_method        clust_method enrich_func enrich_params  rich_factor  \\\n",
       "0  clustermatch_k2  SpectralClustering    enrichGO       BP_full     0.803965   \n",
       "1  clustermatch_k2  SpectralClustering    enrichGO       BP_full     0.872774   \n",
       "2  clustermatch_k2  SpectralClustering    enrichGO       BP_full     0.856383   \n",
       "3  clustermatch_k2  SpectralClustering    enrichGO       BP_full     0.843990   \n",
       "4  clustermatch_k2  SpectralClustering    enrichGO       BP_full     0.768496   \n",
       "\n",
       "   fold_enrich           fdr  \n",
       "0     1.714441  6.924073e-50  \n",
       "1     1.643446  8.120547e-48  \n",
       "2     1.612583  6.488660e-41  \n",
       "3     1.589246  3.857779e-39  \n",
       "4     1.638805  3.029963e-36  "
      ]
     },
     "metadata": {},
     "output_type": "display_data"
    }
   ],
   "source": [
    "with pd.option_context(\n",
    "    \"display.max_rows\", None, \"display.max_columns\", None, \"display.max_colwidth\", None\n",
    "):\n",
    "    tmp = df.head()\n",
    "    display(tmp)"
   ]
  },
  {
   "cell_type": "markdown",
   "id": "7cf895a9-55dc-4cfb-bab0-3b535cb4e6fc",
   "metadata": {},
   "source": [
    "# QQ plot"
   ]
  },
  {
   "cell_type": "code",
   "execution_count": 14,
   "id": "4bd4e9cc-d794-4050-831d-147761a117e0",
   "metadata": {},
   "outputs": [],
   "source": [
    "# CLUSTERMATCH_METHOD = \"clustermatch_k2\"\n",
    "CLUSTERMATCH_METHOD = \"clustermatch_k2to5\""
   ]
  },
  {
   "cell_type": "code",
   "execution_count": 15,
   "id": "c80855b9-acce-4a48-96f0-e0dc850de4a7",
   "metadata": {},
   "outputs": [],
   "source": [
    "PERFORMANCE_MEASURE = \"fdr\"\n",
    "# PERFORMANCE_MEASURE = \"rich_factor\"\n",
    "# PERFORMANCE_MEASURE = \"fold_enrich\"\n",
    "# PERFORMANCE_MEASURE = \"gene_ratio\""
   ]
  },
  {
   "cell_type": "code",
   "execution_count": 16,
   "id": "8303582f-c5d3-4ec0-8268-69dcc5cca9d4",
   "metadata": {},
   "outputs": [
    {
     "data": {
      "text/plain": [
       "array([0.        , 0.00010001, 0.00020002, 0.00030003, 0.00040004,\n",
       "       0.00050005, 0.00060006, 0.00070007, 0.00080008, 0.00090009])"
      ]
     },
     "metadata": {},
     "output_type": "display_data"
    },
    {
     "data": {
      "text/plain": [
       "array([0.99909991, 0.99919992, 0.99929993, 0.99939994, 0.99949995,\n",
       "       0.99959996, 0.99969997, 0.99979998, 0.99989999, 1.        ])"
      ]
     },
     "metadata": {},
     "output_type": "display_data"
    }
   ],
   "source": [
    "QUANTILES = np.linspace(0, 1, 10000)\n",
    "display(QUANTILES[:10])\n",
    "display(QUANTILES[-10:])"
   ]
  },
  {
   "cell_type": "code",
   "execution_count": 17,
   "id": "bfb6baec-c621-4f69-821b-06951a64f79d",
   "metadata": {},
   "outputs": [
    {
     "data": {
      "text/plain": [
       "['BP_full', 'BP_simplified_070', 'CC_full', 'CC_simplified_070', 'MF_full', 'MF_simplified_070']\n",
       "Categories (6, object): ['BP_full', 'BP_simplified_070', 'CC_full', 'CC_simplified_070', 'MF_full', 'MF_simplified_070']"
      ]
     },
     "execution_count": 17,
     "metadata": {},
     "output_type": "execute_result"
    }
   ],
   "source": [
    "df[\"enrich_params\"].unique()"
   ]
  },
  {
   "cell_type": "code",
   "execution_count": 18,
   "id": "f6d034a1-a174-400a-8f12-ee0de9752a50",
   "metadata": {},
   "outputs": [],
   "source": [
    "df_subset = df[\n",
    "    (np.ones(df.shape[0]).astype(bool))\n",
    "    & (df.fdr < 0.05)  # only significant results\n",
    "    #     & (df.tissue == \"adipose_subcutaneous\")\n",
    "    & (df.clust_method == \"SpectralClustering\")\n",
    "    & (df.enrich_func == \"enrichGO\")\n",
    "    & (df.enrich_params.str.contains(\"_full\"))\n",
    "]"
   ]
  },
  {
   "cell_type": "code",
   "execution_count": 19,
   "id": "1f975a74-99ae-467b-9e33-5abeca2ddc71",
   "metadata": {},
   "outputs": [],
   "source": [
    "assert df_subset[\"fdr\"].max() < 0.05"
   ]
  },
  {
   "cell_type": "code",
   "execution_count": 20,
   "id": "d48f3a94-3f75-4fb4-aa4b-68ae9a976234",
   "metadata": {},
   "outputs": [
    {
     "data": {
      "text/plain": [
       "(881424, 19)"
      ]
     },
     "execution_count": 20,
     "metadata": {},
     "output_type": "execute_result"
    }
   ],
   "source": [
    "df_subset.shape"
   ]
  },
  {
   "cell_type": "code",
   "execution_count": 21,
   "id": "34e253be-b397-43ad-9cda-01a6d8313b6f",
   "metadata": {},
   "outputs": [
    {
     "data": {
      "text/html": [
       "<div>\n",
       "<style scoped>\n",
       "    .dataframe tbody tr th:only-of-type {\n",
       "        vertical-align: middle;\n",
       "    }\n",
       "\n",
       "    .dataframe tbody tr th {\n",
       "        vertical-align: top;\n",
       "    }\n",
       "\n",
       "    .dataframe thead th {\n",
       "        text-align: right;\n",
       "    }\n",
       "</style>\n",
       "<table border=\"1\" class=\"dataframe\">\n",
       "  <thead>\n",
       "    <tr style=\"text-align: right;\">\n",
       "      <th></th>\n",
       "      <th>n_clusters</th>\n",
       "      <th>cluster_id</th>\n",
       "      <th>go_term_id</th>\n",
       "      <th>go_term_desc</th>\n",
       "      <th>gene_count</th>\n",
       "      <th>gene_total</th>\n",
       "      <th>gene_ratio</th>\n",
       "      <th>bg_count</th>\n",
       "      <th>bg_total</th>\n",
       "      <th>bg_ratio</th>\n",
       "      <th>pvalue</th>\n",
       "      <th>fdr_per_partition</th>\n",
       "      <th>corr_method</th>\n",
       "      <th>clust_method</th>\n",
       "      <th>enrich_func</th>\n",
       "      <th>enrich_params</th>\n",
       "      <th>rich_factor</th>\n",
       "      <th>fold_enrich</th>\n",
       "      <th>fdr</th>\n",
       "    </tr>\n",
       "  </thead>\n",
       "  <tbody>\n",
       "    <tr>\n",
       "      <th>0</th>\n",
       "      <td>2</td>\n",
       "      <td>C1</td>\n",
       "      <td>GO:0006954</td>\n",
       "      <td>inflammatory response</td>\n",
       "      <td>365</td>\n",
       "      <td>3057</td>\n",
       "      <td>0.119398</td>\n",
       "      <td>454</td>\n",
       "      <td>6519</td>\n",
       "      <td>0.069643</td>\n",
       "      <td>3.274320e-52</td>\n",
       "      <td>1.562178e-48</td>\n",
       "      <td>clustermatch_k2</td>\n",
       "      <td>SpectralClustering</td>\n",
       "      <td>enrichGO</td>\n",
       "      <td>BP_full</td>\n",
       "      <td>0.803965</td>\n",
       "      <td>1.714441</td>\n",
       "      <td>6.924073e-50</td>\n",
       "    </tr>\n",
       "    <tr>\n",
       "      <th>1</th>\n",
       "      <td>2</td>\n",
       "      <td>C0</td>\n",
       "      <td>GO:0006396</td>\n",
       "      <td>RNA processing</td>\n",
       "      <td>343</td>\n",
       "      <td>3462</td>\n",
       "      <td>0.099076</td>\n",
       "      <td>393</td>\n",
       "      <td>6519</td>\n",
       "      <td>0.060285</td>\n",
       "      <td>4.199581e-50</td>\n",
       "      <td>2.020839e-46</td>\n",
       "      <td>clustermatch_k2</td>\n",
       "      <td>SpectralClustering</td>\n",
       "      <td>enrichGO</td>\n",
       "      <td>BP_full</td>\n",
       "      <td>0.872774</td>\n",
       "      <td>1.643446</td>\n",
       "      <td>8.120547e-48</td>\n",
       "    </tr>\n",
       "    <tr>\n",
       "      <th>2</th>\n",
       "      <td>2</td>\n",
       "      <td>C0</td>\n",
       "      <td>GO:0006412</td>\n",
       "      <td>translation</td>\n",
       "      <td>322</td>\n",
       "      <td>3462</td>\n",
       "      <td>0.093010</td>\n",
       "      <td>376</td>\n",
       "      <td>6519</td>\n",
       "      <td>0.057678</td>\n",
       "      <td>4.688221e-43</td>\n",
       "      <td>1.127986e-39</td>\n",
       "      <td>clustermatch_k2</td>\n",
       "      <td>SpectralClustering</td>\n",
       "      <td>enrichGO</td>\n",
       "      <td>BP_full</td>\n",
       "      <td>0.856383</td>\n",
       "      <td>1.612583</td>\n",
       "      <td>6.488660e-41</td>\n",
       "    </tr>\n",
       "    <tr>\n",
       "      <th>3</th>\n",
       "      <td>2</td>\n",
       "      <td>C0</td>\n",
       "      <td>GO:0043043</td>\n",
       "      <td>peptide biosynthetic process</td>\n",
       "      <td>330</td>\n",
       "      <td>3462</td>\n",
       "      <td>0.095321</td>\n",
       "      <td>391</td>\n",
       "      <td>6519</td>\n",
       "      <td>0.059979</td>\n",
       "      <td>3.054631e-41</td>\n",
       "      <td>4.899628e-38</td>\n",
       "      <td>clustermatch_k2</td>\n",
       "      <td>SpectralClustering</td>\n",
       "      <td>enrichGO</td>\n",
       "      <td>BP_full</td>\n",
       "      <td>0.843990</td>\n",
       "      <td>1.589246</td>\n",
       "      <td>3.857779e-39</td>\n",
       "    </tr>\n",
       "    <tr>\n",
       "      <th>4</th>\n",
       "      <td>2</td>\n",
       "      <td>C1</td>\n",
       "      <td>GO:0007186</td>\n",
       "      <td>G protein-coupled receptor signaling pathway</td>\n",
       "      <td>322</td>\n",
       "      <td>3057</td>\n",
       "      <td>0.105332</td>\n",
       "      <td>419</td>\n",
       "      <td>6519</td>\n",
       "      <td>0.064274</td>\n",
       "      <td>2.778931e-38</td>\n",
       "      <td>6.629140e-35</td>\n",
       "      <td>clustermatch_k2</td>\n",
       "      <td>SpectralClustering</td>\n",
       "      <td>enrichGO</td>\n",
       "      <td>BP_full</td>\n",
       "      <td>0.768496</td>\n",
       "      <td>1.638805</td>\n",
       "      <td>3.029963e-36</td>\n",
       "    </tr>\n",
       "  </tbody>\n",
       "</table>\n",
       "</div>"
      ],
      "text/plain": [
       "   n_clusters cluster_id  go_term_id  \\\n",
       "0           2         C1  GO:0006954   \n",
       "1           2         C0  GO:0006396   \n",
       "2           2         C0  GO:0006412   \n",
       "3           2         C0  GO:0043043   \n",
       "4           2         C1  GO:0007186   \n",
       "\n",
       "                                   go_term_desc  gene_count  gene_total  \\\n",
       "0                         inflammatory response         365        3057   \n",
       "1                                RNA processing         343        3462   \n",
       "2                                   translation         322        3462   \n",
       "3                  peptide biosynthetic process         330        3462   \n",
       "4  G protein-coupled receptor signaling pathway         322        3057   \n",
       "\n",
       "   gene_ratio  bg_count  bg_total  bg_ratio        pvalue  fdr_per_partition  \\\n",
       "0    0.119398       454      6519  0.069643  3.274320e-52       1.562178e-48   \n",
       "1    0.099076       393      6519  0.060285  4.199581e-50       2.020839e-46   \n",
       "2    0.093010       376      6519  0.057678  4.688221e-43       1.127986e-39   \n",
       "3    0.095321       391      6519  0.059979  3.054631e-41       4.899628e-38   \n",
       "4    0.105332       419      6519  0.064274  2.778931e-38       6.629140e-35   \n",
       "\n",
       "       corr_method        clust_method enrich_func enrich_params  rich_factor  \\\n",
       "0  clustermatch_k2  SpectralClustering    enrichGO       BP_full     0.803965   \n",
       "1  clustermatch_k2  SpectralClustering    enrichGO       BP_full     0.872774   \n",
       "2  clustermatch_k2  SpectralClustering    enrichGO       BP_full     0.856383   \n",
       "3  clustermatch_k2  SpectralClustering    enrichGO       BP_full     0.843990   \n",
       "4  clustermatch_k2  SpectralClustering    enrichGO       BP_full     0.768496   \n",
       "\n",
       "   fold_enrich           fdr  \n",
       "0     1.714441  6.924073e-50  \n",
       "1     1.643446  8.120547e-48  \n",
       "2     1.612583  6.488660e-41  \n",
       "3     1.589246  3.857779e-39  \n",
       "4     1.638805  3.029963e-36  "
      ]
     },
     "execution_count": 21,
     "metadata": {},
     "output_type": "execute_result"
    }
   ],
   "source": [
    "df_subset.head()"
   ]
  },
  {
   "cell_type": "code",
   "execution_count": 22,
   "id": "ff97eb80-229c-45ad-8525-c8ee880c5469",
   "metadata": {},
   "outputs": [
    {
     "data": {
      "text/plain": [
       "['clustermatch_k2', 'clustermatch_k2to5', 'pearson_abs', 'pearson_full', 'spearman_abs', 'spearman_full']\n",
       "Categories (6, object): ['clustermatch_k2', 'clustermatch_k2to5', 'pearson_abs', 'pearson_full', 'spearman_abs', 'spearman_full']"
      ]
     },
     "metadata": {},
     "output_type": "display_data"
    }
   ],
   "source": [
    "df_methods = df_subset[\"corr_method\"].unique()\n",
    "display(df_methods)"
   ]
  },
  {
   "cell_type": "code",
   "execution_count": 23,
   "id": "7a1e709f-9af6-45fb-9c58-89dd7c4f0611",
   "metadata": {},
   "outputs": [
    {
     "data": {
      "text/plain": [
       "'clustermatch_k2 - 150536'"
      ]
     },
     "metadata": {},
     "output_type": "display_data"
    },
    {
     "data": {
      "text/plain": [
       "'clustermatch_k2to5 - 144471'"
      ]
     },
     "metadata": {},
     "output_type": "display_data"
    },
    {
     "data": {
      "text/plain": [
       "'pearson_abs - 126803'"
      ]
     },
     "metadata": {},
     "output_type": "display_data"
    },
    {
     "data": {
      "text/plain": [
       "'pearson_full - 124406'"
      ]
     },
     "metadata": {},
     "output_type": "display_data"
    },
    {
     "data": {
      "text/plain": [
       "'spearman_abs - 167116'"
      ]
     },
     "metadata": {},
     "output_type": "display_data"
    },
    {
     "data": {
      "text/plain": [
       "'spearman_full - 168092'"
      ]
     },
     "metadata": {},
     "output_type": "display_data"
    }
   ],
   "source": [
    "results_per_method = {}\n",
    "\n",
    "for m in df_methods:\n",
    "    df_values = df_subset[df_subset.corr_method == m][PERFORMANCE_MEASURE]\n",
    "    display(f\"{m} - {df_values.shape[0]}\")\n",
    "\n",
    "    if PERFORMANCE_MEASURE == \"fdr\":\n",
    "        df_values = -np.log10(df_values)\n",
    "\n",
    "    results_per_method[m] = df_values.quantile(QUANTILES).to_numpy()"
   ]
  },
  {
   "cell_type": "code",
   "execution_count": 24,
   "id": "884fd9ec-a020-4732-b540-da18ae16440c",
   "metadata": {},
   "outputs": [],
   "source": [
    "quantiles_df = pd.DataFrame(results_per_method)"
   ]
  },
  {
   "cell_type": "code",
   "execution_count": 25,
   "id": "6f252f89-f965-4aec-a307-d7dbf2e62f9a",
   "metadata": {},
   "outputs": [
    {
     "data": {
      "text/plain": [
       "(10000, 6)"
      ]
     },
     "execution_count": 25,
     "metadata": {},
     "output_type": "execute_result"
    }
   ],
   "source": [
    "quantiles_df.shape"
   ]
  },
  {
   "cell_type": "code",
   "execution_count": 26,
   "id": "56e35241-b6ae-4b6a-9a26-c7925d7c9009",
   "metadata": {},
   "outputs": [
    {
     "data": {
      "text/html": [
       "<div>\n",
       "<style scoped>\n",
       "    .dataframe tbody tr th:only-of-type {\n",
       "        vertical-align: middle;\n",
       "    }\n",
       "\n",
       "    .dataframe tbody tr th {\n",
       "        vertical-align: top;\n",
       "    }\n",
       "\n",
       "    .dataframe thead th {\n",
       "        text-align: right;\n",
       "    }\n",
       "</style>\n",
       "<table border=\"1\" class=\"dataframe\">\n",
       "  <thead>\n",
       "    <tr style=\"text-align: right;\">\n",
       "      <th></th>\n",
       "      <th>clustermatch_k2</th>\n",
       "      <th>clustermatch_k2to5</th>\n",
       "      <th>pearson_abs</th>\n",
       "      <th>pearson_full</th>\n",
       "      <th>spearman_abs</th>\n",
       "      <th>spearman_full</th>\n",
       "    </tr>\n",
       "  </thead>\n",
       "  <tbody>\n",
       "    <tr>\n",
       "      <th>0</th>\n",
       "      <td>1.316879</td>\n",
       "      <td>1.315865</td>\n",
       "      <td>1.303527</td>\n",
       "      <td>1.389099</td>\n",
       "      <td>1.315865</td>\n",
       "      <td>1.306657</td>\n",
       "    </tr>\n",
       "    <tr>\n",
       "      <th>1</th>\n",
       "      <td>1.342333</td>\n",
       "      <td>1.363826</td>\n",
       "      <td>1.342333</td>\n",
       "      <td>1.470911</td>\n",
       "      <td>1.338827</td>\n",
       "      <td>1.371290</td>\n",
       "    </tr>\n",
       "    <tr>\n",
       "      <th>2</th>\n",
       "      <td>1.352631</td>\n",
       "      <td>1.408733</td>\n",
       "      <td>1.355959</td>\n",
       "      <td>1.499058</td>\n",
       "      <td>1.342333</td>\n",
       "      <td>1.408215</td>\n",
       "    </tr>\n",
       "    <tr>\n",
       "      <th>3</th>\n",
       "      <td>1.359514</td>\n",
       "      <td>1.427183</td>\n",
       "      <td>1.363183</td>\n",
       "      <td>1.515980</td>\n",
       "      <td>1.352631</td>\n",
       "      <td>1.426436</td>\n",
       "    </tr>\n",
       "    <tr>\n",
       "      <th>4</th>\n",
       "      <td>1.363183</td>\n",
       "      <td>1.437181</td>\n",
       "      <td>1.363183</td>\n",
       "      <td>1.524627</td>\n",
       "      <td>1.360794</td>\n",
       "      <td>1.436179</td>\n",
       "    </tr>\n",
       "  </tbody>\n",
       "</table>\n",
       "</div>"
      ],
      "text/plain": [
       "   clustermatch_k2  clustermatch_k2to5  pearson_abs  pearson_full  \\\n",
       "0         1.316879            1.315865     1.303527      1.389099   \n",
       "1         1.342333            1.363826     1.342333      1.470911   \n",
       "2         1.352631            1.408733     1.355959      1.499058   \n",
       "3         1.359514            1.427183     1.363183      1.515980   \n",
       "4         1.363183            1.437181     1.363183      1.524627   \n",
       "\n",
       "   spearman_abs  spearman_full  \n",
       "0      1.315865       1.306657  \n",
       "1      1.338827       1.371290  \n",
       "2      1.342333       1.408215  \n",
       "3      1.352631       1.426436  \n",
       "4      1.360794       1.436179  "
      ]
     },
     "execution_count": 26,
     "metadata": {},
     "output_type": "execute_result"
    }
   ],
   "source": [
    "quantiles_df.head()"
   ]
  },
  {
   "cell_type": "code",
   "execution_count": 27,
   "id": "cd5e33be-0d32-4f7a-9d7c-1b19b3c0e9cc",
   "metadata": {},
   "outputs": [
    {
     "data": {
      "text/html": [
       "<div>\n",
       "<style scoped>\n",
       "    .dataframe tbody tr th:only-of-type {\n",
       "        vertical-align: middle;\n",
       "    }\n",
       "\n",
       "    .dataframe tbody tr th {\n",
       "        vertical-align: top;\n",
       "    }\n",
       "\n",
       "    .dataframe thead th {\n",
       "        text-align: right;\n",
       "    }\n",
       "</style>\n",
       "<table border=\"1\" class=\"dataframe\">\n",
       "  <thead>\n",
       "    <tr style=\"text-align: right;\">\n",
       "      <th></th>\n",
       "      <th>clustermatch_k2</th>\n",
       "      <th>clustermatch_k2to5</th>\n",
       "      <th>pearson_abs</th>\n",
       "      <th>pearson_full</th>\n",
       "      <th>spearman_abs</th>\n",
       "      <th>spearman_full</th>\n",
       "    </tr>\n",
       "  </thead>\n",
       "  <tbody>\n",
       "    <tr>\n",
       "      <th>9995</th>\n",
       "      <td>123.707862</td>\n",
       "      <td>123.765100</td>\n",
       "      <td>62.128069</td>\n",
       "      <td>79.006764</td>\n",
       "      <td>122.878907</td>\n",
       "      <td>122.626842</td>\n",
       "    </tr>\n",
       "    <tr>\n",
       "      <th>9996</th>\n",
       "      <td>125.754251</td>\n",
       "      <td>125.464313</td>\n",
       "      <td>65.794823</td>\n",
       "      <td>80.223720</td>\n",
       "      <td>128.162785</td>\n",
       "      <td>125.321263</td>\n",
       "    </tr>\n",
       "    <tr>\n",
       "      <th>9997</th>\n",
       "      <td>128.346136</td>\n",
       "      <td>128.389321</td>\n",
       "      <td>69.625604</td>\n",
       "      <td>82.151326</td>\n",
       "      <td>131.298506</td>\n",
       "      <td>128.283693</td>\n",
       "    </tr>\n",
       "    <tr>\n",
       "      <th>9998</th>\n",
       "      <td>132.210236</td>\n",
       "      <td>130.577864</td>\n",
       "      <td>77.173810</td>\n",
       "      <td>87.480989</td>\n",
       "      <td>134.385895</td>\n",
       "      <td>131.388490</td>\n",
       "    </tr>\n",
       "    <tr>\n",
       "      <th>9999</th>\n",
       "      <td>139.434650</td>\n",
       "      <td>136.204876</td>\n",
       "      <td>86.145928</td>\n",
       "      <td>98.682503</td>\n",
       "      <td>143.179975</td>\n",
       "      <td>138.845413</td>\n",
       "    </tr>\n",
       "  </tbody>\n",
       "</table>\n",
       "</div>"
      ],
      "text/plain": [
       "      clustermatch_k2  clustermatch_k2to5  pearson_abs  pearson_full  \\\n",
       "9995       123.707862          123.765100    62.128069     79.006764   \n",
       "9996       125.754251          125.464313    65.794823     80.223720   \n",
       "9997       128.346136          128.389321    69.625604     82.151326   \n",
       "9998       132.210236          130.577864    77.173810     87.480989   \n",
       "9999       139.434650          136.204876    86.145928     98.682503   \n",
       "\n",
       "      spearman_abs  spearman_full  \n",
       "9995    122.878907     122.626842  \n",
       "9996    128.162785     125.321263  \n",
       "9997    131.298506     128.283693  \n",
       "9998    134.385895     131.388490  \n",
       "9999    143.179975     138.845413  "
      ]
     },
     "execution_count": 27,
     "metadata": {},
     "output_type": "execute_result"
    }
   ],
   "source": [
    "quantiles_df.tail()"
   ]
  },
  {
   "cell_type": "code",
   "execution_count": 28,
   "id": "44e23343-168e-4aaa-ab1b-34917ad6f54c",
   "metadata": {},
   "outputs": [
    {
     "data": {
      "text/html": [
       "<div>\n",
       "<style scoped>\n",
       "    .dataframe tbody tr th:only-of-type {\n",
       "        vertical-align: middle;\n",
       "    }\n",
       "\n",
       "    .dataframe tbody tr th {\n",
       "        vertical-align: top;\n",
       "    }\n",
       "\n",
       "    .dataframe thead th {\n",
       "        text-align: right;\n",
       "    }\n",
       "</style>\n",
       "<table border=\"1\" class=\"dataframe\">\n",
       "  <thead>\n",
       "    <tr style=\"text-align: right;\">\n",
       "      <th></th>\n",
       "      <th>clustermatch_k2</th>\n",
       "      <th>clustermatch_k2to5</th>\n",
       "      <th>pearson_abs</th>\n",
       "      <th>pearson_full</th>\n",
       "      <th>spearman_abs</th>\n",
       "      <th>spearman_full</th>\n",
       "    </tr>\n",
       "  </thead>\n",
       "  <tbody>\n",
       "    <tr>\n",
       "      <th>count</th>\n",
       "      <td>10000.000000</td>\n",
       "      <td>10000.000000</td>\n",
       "      <td>10000.000000</td>\n",
       "      <td>10000.000000</td>\n",
       "      <td>10000.000000</td>\n",
       "      <td>10000.000000</td>\n",
       "    </tr>\n",
       "    <tr>\n",
       "      <th>mean</th>\n",
       "      <td>5.218684</td>\n",
       "      <td>5.327228</td>\n",
       "      <td>4.899812</td>\n",
       "      <td>4.882185</td>\n",
       "      <td>5.123292</td>\n",
       "      <td>5.493006</td>\n",
       "    </tr>\n",
       "    <tr>\n",
       "      <th>std</th>\n",
       "      <td>7.370727</td>\n",
       "      <td>7.492985</td>\n",
       "      <td>4.957156</td>\n",
       "      <td>5.420245</td>\n",
       "      <td>7.485166</td>\n",
       "      <td>7.527746</td>\n",
       "    </tr>\n",
       "    <tr>\n",
       "      <th>min</th>\n",
       "      <td>1.316879</td>\n",
       "      <td>1.315865</td>\n",
       "      <td>1.303527</td>\n",
       "      <td>1.389099</td>\n",
       "      <td>1.315865</td>\n",
       "      <td>1.306657</td>\n",
       "    </tr>\n",
       "    <tr>\n",
       "      <th>25%</th>\n",
       "      <td>2.674241</td>\n",
       "      <td>2.746342</td>\n",
       "      <td>2.587625</td>\n",
       "      <td>2.738079</td>\n",
       "      <td>2.617015</td>\n",
       "      <td>2.736493</td>\n",
       "    </tr>\n",
       "    <tr>\n",
       "      <th>50%</th>\n",
       "      <td>3.361470</td>\n",
       "      <td>3.429076</td>\n",
       "      <td>3.319317</td>\n",
       "      <td>3.393728</td>\n",
       "      <td>3.321313</td>\n",
       "      <td>3.464268</td>\n",
       "    </tr>\n",
       "    <tr>\n",
       "      <th>75%</th>\n",
       "      <td>4.973952</td>\n",
       "      <td>5.012177</td>\n",
       "      <td>4.996307</td>\n",
       "      <td>4.860546</td>\n",
       "      <td>4.850492</td>\n",
       "      <td>5.250299</td>\n",
       "    </tr>\n",
       "    <tr>\n",
       "      <th>max</th>\n",
       "      <td>139.434650</td>\n",
       "      <td>136.204876</td>\n",
       "      <td>86.145928</td>\n",
       "      <td>98.682503</td>\n",
       "      <td>143.179975</td>\n",
       "      <td>138.845413</td>\n",
       "    </tr>\n",
       "  </tbody>\n",
       "</table>\n",
       "</div>"
      ],
      "text/plain": [
       "       clustermatch_k2  clustermatch_k2to5   pearson_abs  pearson_full  \\\n",
       "count     10000.000000        10000.000000  10000.000000  10000.000000   \n",
       "mean          5.218684            5.327228      4.899812      4.882185   \n",
       "std           7.370727            7.492985      4.957156      5.420245   \n",
       "min           1.316879            1.315865      1.303527      1.389099   \n",
       "25%           2.674241            2.746342      2.587625      2.738079   \n",
       "50%           3.361470            3.429076      3.319317      3.393728   \n",
       "75%           4.973952            5.012177      4.996307      4.860546   \n",
       "max         139.434650          136.204876     86.145928     98.682503   \n",
       "\n",
       "       spearman_abs  spearman_full  \n",
       "count  10000.000000   10000.000000  \n",
       "mean       5.123292       5.493006  \n",
       "std        7.485166       7.527746  \n",
       "min        1.315865       1.306657  \n",
       "25%        2.617015       2.736493  \n",
       "50%        3.321313       3.464268  \n",
       "75%        4.850492       5.250299  \n",
       "max      143.179975     138.845413  "
      ]
     },
     "execution_count": 28,
     "metadata": {},
     "output_type": "execute_result"
    }
   ],
   "source": [
    "quantiles_df.describe()"
   ]
  },
  {
   "cell_type": "code",
   "execution_count": 29,
   "id": "673c0ebb-ace2-40c3-b1d4-71ab39df3010",
   "metadata": {},
   "outputs": [
    {
     "data": {
      "text/plain": [
       "Text(0.5, 1.0, 'Gene Ontology (fdr)')"
      ]
     },
     "execution_count": 29,
     "metadata": {},
     "output_type": "execute_result"
    },
    {
     "data": {
      "image/png": "[encoded data removed]",
      "text/plain": [
       "<Figure size 720x576 with 1 Axes>"
      ]
     },
     "metadata": {
      "needs_background": "light"
     },
     "output_type": "display_data"
    }
   ],
   "source": [
    "fig, ax = plt.subplots(figsize=(10, 8))\n",
    "\n",
    "sns.scatterplot(\n",
    "    data=quantiles_df,\n",
    "    x=\"pearson_full\",\n",
    "    y=CLUSTERMATCH_METHOD,\n",
    "    label=\"vs Pearson (full)\",\n",
    "    ax=ax,\n",
    ")\n",
    "\n",
    "sns.scatterplot(\n",
    "    data=quantiles_df,\n",
    "    x=\"spearman_full\",\n",
    "    y=CLUSTERMATCH_METHOD,\n",
    "    label=\"vs Spearman (full)\",\n",
    "    ax=ax,\n",
    ")\n",
    "\n",
    "ax.set_xlabel(None)\n",
    "# ax.set_ylabel(None)\n",
    "\n",
    "min_val = min((quantiles_df.iloc[:, 0].min(), quantiles_df.iloc[:, 1].min()))\n",
    "max_val = max((quantiles_df.iloc[:, 0].max(), quantiles_df.iloc[:, 1].max()))\n",
    "ax.plot([min_val, max_val], [min_val, max_val], \"k\", linewidth=0.5)\n",
    "\n",
    "ax.set_title(f\"Gene Ontology ({PERFORMANCE_MEASURE})\")"
   ]
  },
  {
   "cell_type": "code",
   "execution_count": 30,
   "id": "210dd3ea-17aa-4c77-8851-ea414210f486",
   "metadata": {},
   "outputs": [
    {
     "data": {
      "text/plain": [
       "Text(0.5, 1.0, 'Gene Ontology (fdr)')"
      ]
     },
     "execution_count": 30,
     "metadata": {},
     "output_type": "execute_result"
    },
    {
     "data": {
      "image/png": "[encoded data removed]",
      "text/plain": [
       "<Figure size 720x576 with 1 Axes>"
      ]
     },
     "metadata": {
      "needs_background": "light"
     },
     "output_type": "display_data"
    }
   ],
   "source": [
    "fig, ax = plt.subplots(figsize=(10, 8))\n",
    "\n",
    "sns.scatterplot(\n",
    "    data=quantiles_df,\n",
    "    x=\"pearson_abs\",\n",
    "    y=CLUSTERMATCH_METHOD,\n",
    "    label=\"vs Pearson (abs)\",\n",
    "    ax=ax,\n",
    ")\n",
    "\n",
    "sns.scatterplot(\n",
    "    data=quantiles_df,\n",
    "    x=\"spearman_abs\",\n",
    "    y=CLUSTERMATCH_METHOD,\n",
    "    label=\"vs Spearman (abs)\",\n",
    "    ax=ax,\n",
    ")\n",
    "\n",
    "ax.set_xlabel(None)\n",
    "# ax.set_ylabel(None)\n",
    "\n",
    "min_val = min((quantiles_df.iloc[:, 0].min(), quantiles_df.iloc[:, 1].min()))\n",
    "max_val = max((quantiles_df.iloc[:, 0].max(), quantiles_df.iloc[:, 1].max()))\n",
    "ax.plot([min_val, max_val], [min_val, max_val], \"k\", linewidth=0.5)\n",
    "\n",
    "ax.set_title(f\"Gene Ontology ({PERFORMANCE_MEASURE})\")"
   ]
  },
  {
   "cell_type": "markdown",
   "id": "9fed21a5-fbe7-41b8-bb2e-00d5cb340b11",
   "metadata": {},
   "source": [
    "**UPDATE**\n",
    "\n",
    "Clustermatch (multi pattern) outperforms pearson (linear and abs), although pearson find most significant associations towards the\n",
    "right end of the distribution.\n",
    "\n",
    "However, Clustermatch does not outperform spearman (monotonic and abs), which provides more significant results across the entire distribution."
   ]
  },
  {
   "cell_type": "code",
   "execution_count": null,
   "id": "72a954fe-b9c9-4f68-bca3-7a58e558cc3b",
   "metadata": {},
   "outputs": [],
   "source": []
  }
 ],
 "metadata": {
  "jupytext": {
   "cell_metadata_filter": "all,-execution,-papermill,-trusted"
  },
  "kernelspec": {
   "display_name": "Python 3 (ipykernel)",
   "language": "python",
   "name": "python3"
  },
  "language_info": {
   "codemirror_mode": {
    "name": "ipython",
    "version": 3
   },
   "file_extension": ".py",
   "mimetype": "text/x-python",
   "name": "python",
   "nbconvert_exporter": "python",
   "pygments_lexer": "ipython3",
   "version": "3.9.7"
  }
 },
 "nbformat": 4,
 "nbformat_minor": 5
}
