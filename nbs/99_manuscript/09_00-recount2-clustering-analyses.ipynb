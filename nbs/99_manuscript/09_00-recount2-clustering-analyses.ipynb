{
 "cells": [
  {
   "cell_type": "markdown",
   "id": "d85fcd4a-eef2-4f93-ba7f-568dec3cff7d",
   "metadata": {
    "papermill": {
     "duration": 0.05443,
     "end_time": "2021-09-21T01:08:26.664204",
     "exception": false,
     "start_time": "2021-09-21T01:08:26.609774",
     "status": "completed"
    },
    "tags": []
   },
   "source": [
    "# Description"
   ]
  },
  {
   "cell_type": "markdown",
   "id": "537e1b84-a321-41d8-8572-517e6b16fdd7",
   "metadata": {
    "papermill": {
     "duration": 0.018505,
     "end_time": "2021-09-21T01:08:26.702179",
     "exception": false,
     "start_time": "2021-09-21T01:08:26.683674",
     "status": "completed"
    },
    "tags": []
   },
   "source": [
    "TODO"
   ]
  },
  {
   "cell_type": "markdown",
   "id": "d3686a4f-5cbe-4605-b4b8-e14e6b21ab47",
   "metadata": {
    "papermill": {
     "duration": 0.017986,
     "end_time": "2021-09-21T01:08:26.738014",
     "exception": false,
     "start_time": "2021-09-21T01:08:26.720028",
     "status": "completed"
    },
    "tags": []
   },
   "source": [
    "# Modules loading"
   ]
  },
  {
   "cell_type": "code",
   "execution_count": 1,
   "id": "b9a239fa-b58f-458f-908c-2d11ef6d05ca",
   "metadata": {
    "papermill": {
     "duration": 0.98246,
     "end_time": "2021-09-21T01:08:27.738520",
     "exception": false,
     "start_time": "2021-09-21T01:08:26.756060",
     "status": "completed"
    },
    "tags": []
   },
   "outputs": [],
   "source": [
    "import re\n",
    "\n",
    "import numpy as np\n",
    "import pandas as pd\n",
    "import matplotlib.pyplot as plt\n",
    "import seaborn as sns\n",
    "from tqdm import tqdm\n",
    "\n",
    "from clustermatch import conf"
   ]
  },
  {
   "cell_type": "markdown",
   "id": "6624b42c-a9be-4e96-911e-5663002fba78",
   "metadata": {
    "papermill": {
     "duration": 0.018302,
     "end_time": "2021-09-21T01:08:27.775660",
     "exception": false,
     "start_time": "2021-09-21T01:08:27.757358",
     "status": "completed"
    },
    "tags": []
   },
   "source": [
    "# Settings"
   ]
  },
  {
   "cell_type": "code",
   "execution_count": 2,
   "id": "8b7eaaf0-2acd-48d1-8ee6-7e9800e5be76",
   "metadata": {},
   "outputs": [],
   "source": [
    "DATASET_CONFIG = conf.RECOUNT2"
   ]
  },
  {
   "cell_type": "code",
   "execution_count": 3,
   "id": "4cf374b4-b9e3-4679-b7b5-9786113f8365",
   "metadata": {
    "papermill": {
     "duration": 0.023202,
     "end_time": "2021-09-21T01:08:27.816886",
     "exception": false,
     "start_time": "2021-09-21T01:08:27.793684",
     "status": "completed"
    },
    "tags": []
   },
   "outputs": [],
   "source": [
    "# ENRICH_FUNCTION = \"enrichGO\""
   ]
  },
  {
   "cell_type": "code",
   "execution_count": 4,
   "id": "182ddcd3-f315-495d-be69-b0fd6ee4b855",
   "metadata": {
    "papermill": {
     "duration": 0.023202,
     "end_time": "2021-09-21T01:08:27.816886",
     "exception": false,
     "start_time": "2021-09-21T01:08:27.793684",
     "status": "completed"
    },
    "tags": []
   },
   "outputs": [],
   "source": [
    "# CORRELATION_METHOD_NAME = \"clustermatch\""
   ]
  },
  {
   "cell_type": "code",
   "execution_count": 5,
   "id": "510c8476-ba4f-4b64-b65c-5668973e02e4",
   "metadata": {
    "papermill": {
     "duration": 0.023527,
     "end_time": "2021-09-21T01:08:27.859971",
     "exception": false,
     "start_time": "2021-09-21T01:08:27.836444",
     "status": "completed"
    },
    "tags": []
   },
   "outputs": [],
   "source": [
    "# GENE_SELECTION_STRATEGY = \"var_pc_log2\""
   ]
  },
  {
   "cell_type": "code",
   "execution_count": 6,
   "id": "cf3bb63a-24e7-42c3-8c7a-4ea031b8ec55",
   "metadata": {},
   "outputs": [],
   "source": [
    "# # clusterProfiler settings\n",
    "# ENRICH_FUNCTION = \"enrichGO\"\n",
    "# SIMPLIFY_CUTOFF = 0.7\n",
    "# GO_ONTOLOGIES = (\"BP\", \"CC\", \"MF\")"
   ]
  },
  {
   "cell_type": "code",
   "execution_count": 7,
   "id": "9332a4ee-666e-42ec-83ab-b6f1d95dc559",
   "metadata": {},
   "outputs": [],
   "source": [
    "# SIMILARITY_MATRICES_DIR = conf.GTEX[\"SIMILARITY_MATRICES_DIR\"]\n",
    "# display(SIMILARITY_MATRICES_DIR)"
   ]
  },
  {
   "cell_type": "code",
   "execution_count": 8,
   "id": "b68ba348-b36c-4cbd-9f5b-e7205f94dce4",
   "metadata": {},
   "outputs": [],
   "source": [
    "# SIMILARITY_MATRIX_FILENAME_TEMPLATE = conf.GTEX[\"SIMILARITY_MATRIX_FILENAME_TEMPLATE\"]\n",
    "# display(SIMILARITY_MATRIX_FILENAME_TEMPLATE)"
   ]
  },
  {
   "cell_type": "markdown",
   "id": "a61369fb-d25e-4eee-8790-0e62e21787fd",
   "metadata": {
    "papermill": {
     "duration": 0.018256,
     "end_time": "2021-09-21T01:08:28.146573",
     "exception": false,
     "start_time": "2021-09-21T01:08:28.128317",
     "status": "completed"
    },
    "tags": []
   },
   "source": [
    "# Paths"
   ]
  },
  {
   "cell_type": "code",
   "execution_count": 9,
   "id": "bf94c46c-2548-4027-8c18-1b305faea219",
   "metadata": {
    "papermill": {
     "duration": 0.025306,
     "end_time": "2021-09-21T01:08:28.234279",
     "exception": false,
     "start_time": "2021-09-21T01:08:28.208973",
     "status": "completed"
    },
    "tags": []
   },
   "outputs": [
    {
     "data": {
      "text/plain": [
       "PosixPath('/home/miltondp/projects/labs/greenelab/clustermatch_repos/clustermatch-gene-expr/base/results/recount2/clustering/recount_data_prep_PLIER-clustering.pkl')"
      ]
     },
     "metadata": {},
     "output_type": "display_data"
    }
   ],
   "source": [
    "INPUT_FILE = DATASET_CONFIG[\"CLUSTERING_COMBINED_FILE\"]\n",
    "display(INPUT_FILE)\n",
    "assert INPUT_FILE.exists()"
   ]
  },
  {
   "cell_type": "markdown",
   "id": "dd12d27c-38b9-4485-8750-6ee66a28a2ea",
   "metadata": {
    "papermill": {
     "duration": 0.019217,
     "end_time": "2021-09-21T01:08:28.355017",
     "exception": false,
     "start_time": "2021-09-21T01:08:28.335800",
     "status": "completed"
    },
    "tags": []
   },
   "source": [
    "# Load data"
   ]
  },
  {
   "cell_type": "code",
   "execution_count": 10,
   "id": "ca98225a-8864-4add-8832-22c3b6d4603a",
   "metadata": {},
   "outputs": [],
   "source": [
    "df = pd.read_pickle(INPUT_FILE)"
   ]
  },
  {
   "cell_type": "code",
   "execution_count": 11,
   "id": "9b1559ec-4005-4064-bfe2-a0fda4fd87ee",
   "metadata": {},
   "outputs": [
    {
     "data": {
      "text/plain": [
       "(150, 6)"
      ]
     },
     "execution_count": 11,
     "metadata": {},
     "output_type": "execute_result"
    }
   ],
   "source": [
    "df.shape"
   ]
  },
  {
   "cell_type": "code",
   "execution_count": 12,
   "id": "15065a25-5d9d-4c02-b7af-481bf3cccdce",
   "metadata": {},
   "outputs": [
    {
     "data": {
      "text/plain": [
       "['clustermatch_k2', 'clustermatch_k2to5', 'pearson_abs', 'pearson_full', 'spearman_abs', 'spearman_full']\n",
       "Categories (6, object): ['clustermatch_k2', 'clustermatch_k2to5', 'pearson_abs', 'pearson_full', 'spearman_abs', 'spearman_full']"
      ]
     },
     "execution_count": 12,
     "metadata": {},
     "output_type": "execute_result"
    }
   ],
   "source": [
    "df[\"corr_method\"].unique()"
   ]
  },
  {
   "cell_type": "code",
   "execution_count": 13,
   "id": "585662d3-c224-4d80-a61f-21169899d785",
   "metadata": {},
   "outputs": [
    {
     "data": {
      "text/html": [
       "<div>\n",
       "<style scoped>\n",
       "    .dataframe tbody tr th:only-of-type {\n",
       "        vertical-align: middle;\n",
       "    }\n",
       "\n",
       "    .dataframe tbody tr th {\n",
       "        vertical-align: top;\n",
       "    }\n",
       "\n",
       "    .dataframe thead th {\n",
       "        text-align: right;\n",
       "    }\n",
       "</style>\n",
       "<table border=\"1\" class=\"dataframe\">\n",
       "  <thead>\n",
       "    <tr style=\"text-align: right;\">\n",
       "      <th></th>\n",
       "      <th>id</th>\n",
       "      <th>n_clusters</th>\n",
       "      <th>partition</th>\n",
       "      <th>si_score</th>\n",
       "      <th>corr_method</th>\n",
       "      <th>clust_method</th>\n",
       "    </tr>\n",
       "  </thead>\n",
       "  <tbody>\n",
       "    <tr>\n",
       "      <th>0</th>\n",
       "      <td>SpectralClustering #0</td>\n",
       "      <td>2</td>\n",
       "      <td>[1, 1, 0, 0, 1, 1, 1, 0, 1, 0, 1, 1, 0, 0, 1, 1, 1, 0, 1, 0, 1, 1, 1, 1, 0, 1, 0, 1, 0, 0, 0, 0, 0, 0, 0, 1, 0, 0, 0, 1, 0, 1, 1, 0, 1, 1, 1, 0, 1, 0, 1, 1, 1, 1, 0, 0, 0, 1, 0, 1, 1, 1, 1, 0, 0, 0, 0, 1, 0, 1, 1, 0, 1, 1, 1, 1, 0, 1, 0, 1, 1, 0, 1, 0, 1, 1, 1, 1, 0, 1, 1, 1, 1, 1, 0, 1, 1, 1, 0, 0, ...]</td>\n",
       "      <td>0.058329</td>\n",
       "      <td>clustermatch_k2</td>\n",
       "      <td>SpectralClustering</td>\n",
       "    </tr>\n",
       "    <tr>\n",
       "      <th>1</th>\n",
       "      <td>SpectralClustering #1</td>\n",
       "      <td>5</td>\n",
       "      <td>[0, 0, 0, 4, 0, 4, 0, 0, 4, 0, 1, 0, 0, 0, 0, 0, 4, 4, 0, 0, 0, 4, 0, 4, 0, 0, 4, 0, 0, 2, 0, 2, 4, 0, 0, 1, 3, 0, 3, 2, 3, 0, 1, 0, 0, 4, 1, 3, 4, 0, 4, 4, 0, 4, 2, 4, 0, 0, 0, 4, 1, 4, 4, 0, 3, 4, 3, 0, 0, 0, 0, 0, 4, 4, 1, 1, 0, 4, 0, 0, 1, 0, 1, 4, 0, 1, 1, 4, 0, 0, 0, 1, 4, 0, 0, 4, 1, 1, 0, 0, ...]</td>\n",
       "      <td>0.054201</td>\n",
       "      <td>clustermatch_k2</td>\n",
       "      <td>SpectralClustering</td>\n",
       "    </tr>\n",
       "    <tr>\n",
       "      <th>2</th>\n",
       "      <td>SpectralClustering #2</td>\n",
       "      <td>10</td>\n",
       "      <td>[3, 3, 3, 7, 3, 7, 3, 3, 7, 3, 3, 3, 3, 3, 3, 3, 5, 0, 3, 3, 3, 5, 3, 7, 3, 3, 7, 3, 3, 9, 3, 9, 7, 3, 5, 1, 6, 3, 6, 5, 0, 3, 1, 3, 3, 7, 1, 6, 9, 3, 7, 7, 3, 5, 0, 7, 3, 1, 5, 7, 3, 7, 1, 3, 6, 5, 6, 3, 3, 3, 3, 3, 7, 5, 1, 1, 5, 1, 3, 3, 1, 3, 1, 9, 3, 5, 5, 7, 3, 5, 3, 1, 5, 1, 3, 7, 5, 1, 3, 3, ...]</td>\n",
       "      <td>0.038756</td>\n",
       "      <td>clustermatch_k2</td>\n",
       "      <td>SpectralClustering</td>\n",
       "    </tr>\n",
       "    <tr>\n",
       "      <th>3</th>\n",
       "      <td>SpectralClustering #3</td>\n",
       "      <td>15</td>\n",
       "      <td>[4, 4, 4, 10, 13, 12, 4, 4, 10, 4, 13, 12, 4, 4, 4, 4, 12, 0, 4, 4, 4, 12, 4, 12, 4, 13, 10, 12, 4, 8, 12, 0, 0, 4, 3, 12, 10, 4, 11, 12, 0, 13, 12, 4, 13, 10, 1, 11, 0, 4, 10, 12, 13, 12, 14, 0, 4, 12, 4, 12, 13, 10, 0, 4, 11, 12, 11, 13, 4, 13, 4, 13, 10, 0, 1, 12, 12, 12, 4, 0, 1, 4, 1, 0, 10, 12, 13, 12, 4, 12, 13, 1, 12, 3, 13, 12, 12, 1, 4, 4, ...]</td>\n",
       "      <td>0.031417</td>\n",
       "      <td>clustermatch_k2</td>\n",
       "      <td>SpectralClustering</td>\n",
       "    </tr>\n",
       "    <tr>\n",
       "      <th>4</th>\n",
       "      <td>SpectralClustering #4</td>\n",
       "      <td>20</td>\n",
       "      <td>[13, 13, 11, 5, 19, 4, 11, 11, 4, 11, 19, 13, 11, 11, 13, 11, 10, 17, 13, 11, 13, 13, 11, 13, 11, 19, 5, 13, 11, 0, 10, 1, 13, 11, 9, 13, 5, 11, 18, 10, 1, 19, 9, 11, 19, 10, 16, 18, 10, 11, 4, 17, 19, 9, 10, 1, 11, 13, 9, 4, 13, 10, 17, 11, 18, 5, 18, 19, 1, 19, 11, 19, 4, 9, 16, 13, 9, 13, 11, 13, 16, 11, 16, 13, 4, 13, 9, 4, 11, 9, 13, 16, 9, 13, 13, 13, 9, 16, 11, 11, ...]</td>\n",
       "      <td>0.027535</td>\n",
       "      <td>clustermatch_k2</td>\n",
       "      <td>SpectralClustering</td>\n",
       "    </tr>\n",
       "  </tbody>\n",
       "</table>\n",
       "</div>"
      ],
      "text/plain": [
       "                      id  n_clusters  \\\n",
       "0  SpectralClustering #0           2   \n",
       "1  SpectralClustering #1           5   \n",
       "2  SpectralClustering #2          10   \n",
       "3  SpectralClustering #3          15   \n",
       "4  SpectralClustering #4          20   \n",
       "\n",
       "                                                                                                                                                                                                                                                                                                                                                                                     partition  \\\n",
       "0                                                                            [1, 1, 0, 0, 1, 1, 1, 0, 1, 0, 1, 1, 0, 0, 1, 1, 1, 0, 1, 0, 1, 1, 1, 1, 0, 1, 0, 1, 0, 0, 0, 0, 0, 0, 0, 1, 0, 0, 0, 1, 0, 1, 1, 0, 1, 1, 1, 0, 1, 0, 1, 1, 1, 1, 0, 0, 0, 1, 0, 1, 1, 1, 1, 0, 0, 0, 0, 1, 0, 1, 1, 0, 1, 1, 1, 1, 0, 1, 0, 1, 1, 0, 1, 0, 1, 1, 1, 1, 0, 1, 1, 1, 1, 1, 0, 1, 1, 1, 0, 0, ...]   \n",
       "1                                                                            [0, 0, 0, 4, 0, 4, 0, 0, 4, 0, 1, 0, 0, 0, 0, 0, 4, 4, 0, 0, 0, 4, 0, 4, 0, 0, 4, 0, 0, 2, 0, 2, 4, 0, 0, 1, 3, 0, 3, 2, 3, 0, 1, 0, 0, 4, 1, 3, 4, 0, 4, 4, 0, 4, 2, 4, 0, 0, 0, 4, 1, 4, 4, 0, 3, 4, 3, 0, 0, 0, 0, 0, 4, 4, 1, 1, 0, 4, 0, 0, 1, 0, 1, 4, 0, 1, 1, 4, 0, 0, 0, 1, 4, 0, 0, 4, 1, 1, 0, 0, ...]   \n",
       "2                                                                            [3, 3, 3, 7, 3, 7, 3, 3, 7, 3, 3, 3, 3, 3, 3, 3, 5, 0, 3, 3, 3, 5, 3, 7, 3, 3, 7, 3, 3, 9, 3, 9, 7, 3, 5, 1, 6, 3, 6, 5, 0, 3, 1, 3, 3, 7, 1, 6, 9, 3, 7, 7, 3, 5, 0, 7, 3, 1, 5, 7, 3, 7, 1, 3, 6, 5, 6, 3, 3, 3, 3, 3, 7, 5, 1, 1, 5, 1, 3, 3, 1, 3, 1, 9, 3, 5, 5, 7, 3, 5, 3, 1, 5, 1, 3, 7, 5, 1, 3, 3, ...]   \n",
       "3                         [4, 4, 4, 10, 13, 12, 4, 4, 10, 4, 13, 12, 4, 4, 4, 4, 12, 0, 4, 4, 4, 12, 4, 12, 4, 13, 10, 12, 4, 8, 12, 0, 0, 4, 3, 12, 10, 4, 11, 12, 0, 13, 12, 4, 13, 10, 1, 11, 0, 4, 10, 12, 13, 12, 14, 0, 4, 12, 4, 12, 13, 10, 0, 4, 11, 12, 11, 13, 4, 13, 4, 13, 10, 0, 1, 12, 12, 12, 4, 0, 1, 4, 1, 0, 10, 12, 13, 12, 4, 12, 13, 1, 12, 3, 13, 12, 12, 1, 4, 4, ...]   \n",
       "4  [13, 13, 11, 5, 19, 4, 11, 11, 4, 11, 19, 13, 11, 11, 13, 11, 10, 17, 13, 11, 13, 13, 11, 13, 11, 19, 5, 13, 11, 0, 10, 1, 13, 11, 9, 13, 5, 11, 18, 10, 1, 19, 9, 11, 19, 10, 16, 18, 10, 11, 4, 17, 19, 9, 10, 1, 11, 13, 9, 4, 13, 10, 17, 11, 18, 5, 18, 19, 1, 19, 11, 19, 4, 9, 16, 13, 9, 13, 11, 13, 16, 11, 16, 13, 4, 13, 9, 4, 11, 9, 13, 16, 9, 13, 13, 13, 9, 16, 11, 11, ...]   \n",
       "\n",
       "   si_score      corr_method        clust_method  \n",
       "0  0.058329  clustermatch_k2  SpectralClustering  \n",
       "1  0.054201  clustermatch_k2  SpectralClustering  \n",
       "2  0.038756  clustermatch_k2  SpectralClustering  \n",
       "3  0.031417  clustermatch_k2  SpectralClustering  \n",
       "4  0.027535  clustermatch_k2  SpectralClustering  "
      ]
     },
     "metadata": {},
     "output_type": "display_data"
    }
   ],
   "source": [
    "with pd.option_context(\n",
    "    \"display.max_rows\", None, \"display.max_columns\", None, \"display.max_colwidth\", None\n",
    "):\n",
    "    tmp = df.head()\n",
    "    display(tmp)"
   ]
  },
  {
   "cell_type": "markdown",
   "id": "65895598-4c35-47ba-935f-5f5c28b480e2",
   "metadata": {},
   "source": [
    "# SI score by method"
   ]
  },
  {
   "cell_type": "code",
   "execution_count": 14,
   "id": "04e2dd43-121e-4f07-ab12-9d75f61a3d97",
   "metadata": {},
   "outputs": [],
   "source": [
    "# plot_data = df.groupby([\"n_clusters\", \"corr_method\", \"gene_sel_strategy\", \"clust_method\"])[\"si_score\"].mean().reset_index()"
   ]
  },
  {
   "cell_type": "code",
   "execution_count": 15,
   "id": "776c9b7a-748d-4b17-bc44-ff7b6652f869",
   "metadata": {},
   "outputs": [],
   "source": [
    "# plot_data.shape"
   ]
  },
  {
   "cell_type": "code",
   "execution_count": 16,
   "id": "fa4bd201-627d-4963-860d-c396112e5cf4",
   "metadata": {},
   "outputs": [],
   "source": [
    "# plot_data.sort_values([\"n_clusters\", \"corr_method\"]).head(20)"
   ]
  },
  {
   "cell_type": "code",
   "execution_count": 17,
   "id": "84dc7fee-b623-4a80-b77e-508cad521bac",
   "metadata": {},
   "outputs": [],
   "source": [
    "selected_corr_methods = [\n",
    "    \"clustermatch_k2to5\",\n",
    "    \"clustermatch_k2\",\n",
    "    \"spearman_abs\",\n",
    "    \"pearson_abs\",\n",
    "]\n",
    "\n",
    "plot_data = df[\n",
    "    (np.ones(df.shape[0]).astype(bool)) & (df.corr_method.isin(selected_corr_methods))\n",
    "]"
   ]
  },
  {
   "cell_type": "code",
   "execution_count": 18,
   "id": "3b5322c6-7382-4cb3-8b6b-0b9a8e0e7902",
   "metadata": {},
   "outputs": [
    {
     "data": {
      "text/plain": [
       "(100, 6)"
      ]
     },
     "execution_count": 18,
     "metadata": {},
     "output_type": "execute_result"
    }
   ],
   "source": [
    "plot_data.shape"
   ]
  },
  {
   "cell_type": "code",
   "execution_count": 19,
   "id": "d81543b3-5a22-4564-9aa0-da231c9c5dfe",
   "metadata": {},
   "outputs": [
    {
     "data": {
      "text/plain": [
       "['clustermatch_k2', 'clustermatch_k2to5', 'pearson_abs', 'spearman_abs']\n",
       "Categories (6, object): ['clustermatch_k2', 'clustermatch_k2to5', 'pearson_abs', 'pearson_full', 'spearman_abs', 'spearman_full']"
      ]
     },
     "execution_count": 19,
     "metadata": {},
     "output_type": "execute_result"
    }
   ],
   "source": [
    "plot_data.corr_method.unique()"
   ]
  },
  {
   "cell_type": "code",
   "execution_count": 20,
   "id": "4e30fce5-944e-40a6-9b09-a638444efb5a",
   "metadata": {},
   "outputs": [],
   "source": [
    "PERFORMANCE_MEASURE = \"si_score\"\n",
    "# PERFORMANCE_MEASURE = \"rich_factor\"\n",
    "# PERFORMANCE_MEASURE = \"fold_enrich\""
   ]
  },
  {
   "cell_type": "code",
   "execution_count": 21,
   "id": "a6241206-5e61-41bb-80f0-cb040137269f",
   "metadata": {},
   "outputs": [
    {
     "data": {
      "text/plain": [
       "<seaborn.axisgrid.FacetGrid at 0x7f85e5174220>"
      ]
     },
     "execution_count": 21,
     "metadata": {},
     "output_type": "execute_result"
    },
    {
     "data": {
      "image/png": "[encoded data removed]",
      "text/plain": [
       "<Figure size 854.875x360 with 1 Axes>"
      ]
     },
     "metadata": {
      "needs_background": "light"
     },
     "output_type": "display_data"
    }
   ],
   "source": [
    "# fig, ax = plt.subplots(figsize=(10, 8))\n",
    "\n",
    "sns.catplot(\n",
    "    data=plot_data,\n",
    "    x=\"n_clusters\",\n",
    "    y=\"si_score\",\n",
    "    hue=\"corr_method\",\n",
    "    hue_order=selected_corr_methods,\n",
    "    kind=\"point\",\n",
    "    height=5,\n",
    "    aspect=2,\n",
    "    #     ax=ax,\n",
    ")\n",
    "\n",
    "# ax.set_xlabel(None)\n",
    "# # ax.set_ylabel(None)\n",
    "\n",
    "# min_val = min((quantiles_df.iloc[:, 0].min(), quantiles_df.iloc[:, 1].min()))\n",
    "# max_val = max((quantiles_df.iloc[:, 0].max(), quantiles_df.iloc[:, 1].max()))\n",
    "# ax.plot([min_val, max_val], [min_val, max_val], \"k\", linewidth=0.5)\n",
    "\n",
    "# ax.set_title(f\"Gene Ontology ({PERFORMANCE_MEASURE})\")"
   ]
  },
  {
   "cell_type": "markdown",
   "id": "7c5b8a32-6053-4c6e-a879-288e9f80545e",
   "metadata": {},
   "source": [
    "# Size of clusters"
   ]
  },
  {
   "cell_type": "code",
   "execution_count": 22,
   "id": "1daba1cc-46ef-4ba3-9a66-c6998bfaf2f6",
   "metadata": {},
   "outputs": [],
   "source": [
    "# plot_data = df.groupby([\"n_clusters\", \"corr_method\", \"gene_sel_strategy\", \"clust_method\"])[\"si_score\"].mean().reset_index()"
   ]
  },
  {
   "cell_type": "code",
   "execution_count": 23,
   "id": "658e3c07-3e11-496a-8565-79eadfcddf07",
   "metadata": {},
   "outputs": [],
   "source": [
    "# plot_data.shape"
   ]
  },
  {
   "cell_type": "code",
   "execution_count": 24,
   "id": "fd6941b2-0c42-4ab2-9c8a-16a80b1720aa",
   "metadata": {},
   "outputs": [],
   "source": [
    "# plot_data.sort_values([\"n_clusters\", \"corr_method\"]).head(20)"
   ]
  },
  {
   "cell_type": "code",
   "execution_count": 25,
   "id": "11e363ed-a041-4c3e-9e20-455c49f87fee",
   "metadata": {},
   "outputs": [],
   "source": [
    "plot_data = df[\n",
    "    (np.ones(df.shape[0]).astype(bool)) & (df.corr_method.isin(selected_corr_methods))\n",
    "]"
   ]
  },
  {
   "cell_type": "code",
   "execution_count": 26,
   "id": "2cb2a80e-0e8c-4b39-9d26-e7e21846d8fe",
   "metadata": {},
   "outputs": [
    {
     "data": {
      "text/plain": [
       "(100, 6)"
      ]
     },
     "execution_count": 26,
     "metadata": {},
     "output_type": "execute_result"
    }
   ],
   "source": [
    "plot_data.shape"
   ]
  },
  {
   "cell_type": "code",
   "execution_count": 27,
   "id": "d1e02fed-e439-46f1-9784-87e7bd482e67",
   "metadata": {},
   "outputs": [
    {
     "data": {
      "text/html": [
       "<div>\n",
       "<style scoped>\n",
       "    .dataframe tbody tr th:only-of-type {\n",
       "        vertical-align: middle;\n",
       "    }\n",
       "\n",
       "    .dataframe tbody tr th {\n",
       "        vertical-align: top;\n",
       "    }\n",
       "\n",
       "    .dataframe thead th {\n",
       "        text-align: right;\n",
       "    }\n",
       "</style>\n",
       "<table border=\"1\" class=\"dataframe\">\n",
       "  <thead>\n",
       "    <tr style=\"text-align: right;\">\n",
       "      <th></th>\n",
       "      <th>id</th>\n",
       "      <th>n_clusters</th>\n",
       "      <th>partition</th>\n",
       "      <th>si_score</th>\n",
       "      <th>corr_method</th>\n",
       "      <th>clust_method</th>\n",
       "    </tr>\n",
       "  </thead>\n",
       "  <tbody>\n",
       "    <tr>\n",
       "      <th>0</th>\n",
       "      <td>SpectralClustering #0</td>\n",
       "      <td>2</td>\n",
       "      <td>[1, 1, 0, 0, 1, 1, 1, 0, 1, 0, 1, 1, 0, 0, 1, ...</td>\n",
       "      <td>0.058329</td>\n",
       "      <td>clustermatch_k2</td>\n",
       "      <td>SpectralClustering</td>\n",
       "    </tr>\n",
       "    <tr>\n",
       "      <th>1</th>\n",
       "      <td>SpectralClustering #1</td>\n",
       "      <td>5</td>\n",
       "      <td>[0, 0, 0, 4, 0, 4, 0, 0, 4, 0, 1, 0, 0, 0, 0, ...</td>\n",
       "      <td>0.054201</td>\n",
       "      <td>clustermatch_k2</td>\n",
       "      <td>SpectralClustering</td>\n",
       "    </tr>\n",
       "    <tr>\n",
       "      <th>2</th>\n",
       "      <td>SpectralClustering #2</td>\n",
       "      <td>10</td>\n",
       "      <td>[3, 3, 3, 7, 3, 7, 3, 3, 7, 3, 3, 3, 3, 3, 3, ...</td>\n",
       "      <td>0.038756</td>\n",
       "      <td>clustermatch_k2</td>\n",
       "      <td>SpectralClustering</td>\n",
       "    </tr>\n",
       "    <tr>\n",
       "      <th>3</th>\n",
       "      <td>SpectralClustering #3</td>\n",
       "      <td>15</td>\n",
       "      <td>[4, 4, 4, 10, 13, 12, 4, 4, 10, 4, 13, 12, 4, ...</td>\n",
       "      <td>0.031417</td>\n",
       "      <td>clustermatch_k2</td>\n",
       "      <td>SpectralClustering</td>\n",
       "    </tr>\n",
       "    <tr>\n",
       "      <th>4</th>\n",
       "      <td>SpectralClustering #4</td>\n",
       "      <td>20</td>\n",
       "      <td>[13, 13, 11, 5, 19, 4, 11, 11, 4, 11, 19, 13, ...</td>\n",
       "      <td>0.027535</td>\n",
       "      <td>clustermatch_k2</td>\n",
       "      <td>SpectralClustering</td>\n",
       "    </tr>\n",
       "  </tbody>\n",
       "</table>\n",
       "</div>"
      ],
      "text/plain": [
       "                      id  n_clusters  \\\n",
       "0  SpectralClustering #0           2   \n",
       "1  SpectralClustering #1           5   \n",
       "2  SpectralClustering #2          10   \n",
       "3  SpectralClustering #3          15   \n",
       "4  SpectralClustering #4          20   \n",
       "\n",
       "                                           partition  si_score  \\\n",
       "0  [1, 1, 0, 0, 1, 1, 1, 0, 1, 0, 1, 1, 0, 0, 1, ...  0.058329   \n",
       "1  [0, 0, 0, 4, 0, 4, 0, 0, 4, 0, 1, 0, 0, 0, 0, ...  0.054201   \n",
       "2  [3, 3, 3, 7, 3, 7, 3, 3, 7, 3, 3, 3, 3, 3, 3, ...  0.038756   \n",
       "3  [4, 4, 4, 10, 13, 12, 4, 4, 10, 4, 13, 12, 4, ...  0.031417   \n",
       "4  [13, 13, 11, 5, 19, 4, 11, 11, 4, 11, 19, 13, ...  0.027535   \n",
       "\n",
       "       corr_method        clust_method  \n",
       "0  clustermatch_k2  SpectralClustering  \n",
       "1  clustermatch_k2  SpectralClustering  \n",
       "2  clustermatch_k2  SpectralClustering  \n",
       "3  clustermatch_k2  SpectralClustering  \n",
       "4  clustermatch_k2  SpectralClustering  "
      ]
     },
     "execution_count": 27,
     "metadata": {},
     "output_type": "execute_result"
    }
   ],
   "source": [
    "plot_data.head()"
   ]
  },
  {
   "cell_type": "code",
   "execution_count": 28,
   "id": "19086af8-fcd6-4cbf-8f89-67343853435d",
   "metadata": {},
   "outputs": [
    {
     "data": {
      "text/plain": [
       "{0: 3558, 1: 3192}"
      ]
     },
     "execution_count": 28,
     "metadata": {},
     "output_type": "execute_result"
    }
   ],
   "source": [
    "pd.Series(plot_data.iloc[0][\"partition\"]).value_counts().to_dict()"
   ]
  },
  {
   "cell_type": "code",
   "execution_count": 29,
   "id": "d0e9ca99-f223-487d-aff9-f727ebc6d8ba",
   "metadata": {},
   "outputs": [],
   "source": [
    "from scipy.stats import entropy"
   ]
  },
  {
   "cell_type": "code",
   "execution_count": 30,
   "id": "36d05a4e-fd44-4630-a749-841279fc9586",
   "metadata": {},
   "outputs": [],
   "source": [
    "def _get_partition_stats(part):\n",
    "    return pd.Series(part).value_counts().to_numpy()\n",
    "\n",
    "\n",
    "def _get_max_entropy(part_stats):\n",
    "    n_clusters = len(part_stats)\n",
    "    return entropy([1 / n_clusters for i in range(n_clusters)])\n",
    "\n",
    "\n",
    "def _compute_score(part_stats):\n",
    "    return entropy(part_stats) / _get_max_entropy(part_stats)\n",
    "\n",
    "\n",
    "plot_data = plot_data.assign(\n",
    "    partition_stats=plot_data[\"partition\"].apply(_get_partition_stats)\n",
    ")\n",
    "plot_data = plot_data.assign(\n",
    "    cluster_score=plot_data[\"partition_stats\"].apply(_compute_score)\n",
    ")"
   ]
  },
  {
   "cell_type": "code",
   "execution_count": 31,
   "id": "d7b7ec97-2902-4816-9d62-c3b33ec43fc2",
   "metadata": {},
   "outputs": [
    {
     "data": {
      "text/plain": [
       "0.3810291481388292"
      ]
     },
     "execution_count": 31,
     "metadata": {},
     "output_type": "execute_result"
    }
   ],
   "source": [
    "entropy([4364, 636])"
   ]
  },
  {
   "cell_type": "code",
   "execution_count": 32,
   "id": "daf1ff34-573e-4ad1-b401-a523eca8fde4",
   "metadata": {},
   "outputs": [
    {
     "data": {
      "text/plain": [
       "0.046594424222104566"
      ]
     },
     "execution_count": 32,
     "metadata": {},
     "output_type": "execute_result"
    }
   ],
   "source": [
    "entropy([4960, 40])"
   ]
  },
  {
   "cell_type": "code",
   "execution_count": 33,
   "id": "116b4a95-8a96-4b88-b6a2-5be837dc8659",
   "metadata": {},
   "outputs": [
    {
     "data": {
      "text/plain": [
       "0.6931471805599453"
      ]
     },
     "execution_count": 33,
     "metadata": {},
     "output_type": "execute_result"
    }
   ],
   "source": [
    "entropy([1 / 2, 1 / 2])"
   ]
  },
  {
   "cell_type": "code",
   "execution_count": 34,
   "id": "215b0805-8e71-49bd-92ef-7c9c8610406e",
   "metadata": {},
   "outputs": [
    {
     "data": {
      "text/plain": [
       "0.6931471805599453"
      ]
     },
     "execution_count": 34,
     "metadata": {},
     "output_type": "execute_result"
    }
   ],
   "source": [
    "entropy([2500, 2500])"
   ]
  },
  {
   "cell_type": "code",
   "execution_count": 35,
   "id": "badac3e0-05ae-4a40-8a21-6578add80638",
   "metadata": {},
   "outputs": [
    {
     "data": {
      "text/plain": [
       "0.3810291481388292"
      ]
     },
     "execution_count": 35,
     "metadata": {},
     "output_type": "execute_result"
    }
   ],
   "source": [
    "entropy([4364, 636])"
   ]
  },
  {
   "cell_type": "code",
   "execution_count": 36,
   "id": "fe9ca0bc-8fd8-4117-ae05-66b4c2d34e64",
   "metadata": {},
   "outputs": [
    {
     "data": {
      "text/plain": [
       "0.6931471805599453"
      ]
     },
     "execution_count": 36,
     "metadata": {},
     "output_type": "execute_result"
    }
   ],
   "source": [
    "_get_max_entropy([4364, 636])"
   ]
  },
  {
   "cell_type": "code",
   "execution_count": 37,
   "id": "0ff1970a-b38c-4d4a-8ff7-41b6b9322b49",
   "metadata": {},
   "outputs": [
    {
     "data": {
      "text/plain": [
       "0.5497088624540352"
      ]
     },
     "execution_count": 37,
     "metadata": {},
     "output_type": "execute_result"
    }
   ],
   "source": [
    "_compute_score([4364, 636])"
   ]
  },
  {
   "cell_type": "code",
   "execution_count": 38,
   "id": "eba1748a-b72c-40f5-8525-f4b31b399a10",
   "metadata": {},
   "outputs": [
    {
     "data": {
      "text/plain": [
       "count    100.000000\n",
       "mean       0.862558\n",
       "std        0.097838\n",
       "min        0.581886\n",
       "25%        0.839512\n",
       "50%        0.896351\n",
       "75%        0.920734\n",
       "max        0.999698\n",
       "Name: cluster_score, dtype: float64"
      ]
     },
     "execution_count": 38,
     "metadata": {},
     "output_type": "execute_result"
    }
   ],
   "source": [
    "plot_data[\"cluster_score\"].describe()"
   ]
  },
  {
   "cell_type": "code",
   "execution_count": 39,
   "id": "b7e6fbf9-cc72-422d-ab21-1e3f0e113928",
   "metadata": {},
   "outputs": [],
   "source": [
    "# plot_data.sort_values([\"n_clusters\", \"corr_method\"]).head(20)"
   ]
  },
  {
   "cell_type": "code",
   "execution_count": 40,
   "id": "94fc1af3-73d4-4b95-b5b2-5f71e71dfda2",
   "metadata": {},
   "outputs": [
    {
     "data": {
      "text/plain": [
       "<seaborn.axisgrid.FacetGrid at 0x7f85dce64dc0>"
      ]
     },
     "execution_count": 40,
     "metadata": {},
     "output_type": "execute_result"
    },
    {
     "data": {
      "image/png": "[encoded data removed]",
      "text/plain": [
       "<Figure size 854.875x360 with 1 Axes>"
      ]
     },
     "metadata": {
      "needs_background": "light"
     },
     "output_type": "display_data"
    }
   ],
   "source": [
    "# fig, ax = plt.subplots(figsize=(10, 8))\n",
    "\n",
    "sns.catplot(\n",
    "    data=plot_data,\n",
    "    x=\"n_clusters\",\n",
    "    y=\"cluster_score\",\n",
    "    hue=\"corr_method\",\n",
    "    hue_order=selected_corr_methods,\n",
    "    kind=\"point\",\n",
    "    height=5,\n",
    "    aspect=2,\n",
    "    #     ax=ax,\n",
    ")\n",
    "\n",
    "# ax.set_xlabel(None)\n",
    "# # ax.set_ylabel(None)\n",
    "\n",
    "# min_val = min((quantiles_df.iloc[:, 0].min(), quantiles_df.iloc[:, 1].min()))\n",
    "# max_val = max((quantiles_df.iloc[:, 0].max(), quantiles_df.iloc[:, 1].max()))\n",
    "# ax.plot([min_val, max_val], [min_val, max_val], \"k\", linewidth=0.5)\n",
    "\n",
    "# ax.set_title(f\"Gene Ontology ({PERFORMANCE_MEASURE})\")"
   ]
  },
  {
   "cell_type": "markdown",
   "id": "3d23538a-5068-4961-9a78-9cb5d4036674",
   "metadata": {},
   "source": [
    "# Compare different corr methods"
   ]
  },
  {
   "cell_type": "code",
   "execution_count": 41,
   "id": "28575b5a-f4d9-46f3-90f4-ff09c898f328",
   "metadata": {},
   "outputs": [],
   "source": [
    "from collections import defaultdict\n",
    "from sklearn.metrics import adjusted_rand_score as ari"
   ]
  },
  {
   "cell_type": "code",
   "execution_count": 42,
   "id": "92c7e059-95d8-4353-9183-c6ec1dccd7d9",
   "metadata": {},
   "outputs": [
    {
     "data": {
      "text/plain": [
       "array([1, 1, 0, ..., 1, 1, 0], dtype=int32)"
      ]
     },
     "execution_count": 42,
     "metadata": {},
     "output_type": "execute_result"
    }
   ],
   "source": [
    "df[(df[\"corr_method\"] == \"clustermatch_k2\") & (df[\"n_clusters\"] == 2)].iloc[0][\n",
    "    \"partition\"\n",
    "]"
   ]
  },
  {
   "cell_type": "code",
   "execution_count": 43,
   "id": "bcb40a22-fd51-43f6-9666-d1c6b79ff439",
   "metadata": {},
   "outputs": [
    {
     "data": {
      "text/html": [
       "<div>\n",
       "<style scoped>\n",
       "    .dataframe tbody tr th:only-of-type {\n",
       "        vertical-align: middle;\n",
       "    }\n",
       "\n",
       "    .dataframe tbody tr th {\n",
       "        vertical-align: top;\n",
       "    }\n",
       "\n",
       "    .dataframe thead th {\n",
       "        text-align: right;\n",
       "    }\n",
       "</style>\n",
       "<table border=\"1\" class=\"dataframe\">\n",
       "  <thead>\n",
       "    <tr style=\"text-align: right;\">\n",
       "      <th></th>\n",
       "      <th>id</th>\n",
       "      <th>n_clusters</th>\n",
       "      <th>partition</th>\n",
       "      <th>si_score</th>\n",
       "      <th>corr_method</th>\n",
       "      <th>clust_method</th>\n",
       "    </tr>\n",
       "  </thead>\n",
       "  <tbody>\n",
       "    <tr>\n",
       "      <th>0</th>\n",
       "      <td>SpectralClustering #0</td>\n",
       "      <td>2</td>\n",
       "      <td>[1, 1, 0, 0, 1, 1, 1, 0, 1, 0, 1, 1, 0, 0, 1, ...</td>\n",
       "      <td>0.058329</td>\n",
       "      <td>clustermatch_k2</td>\n",
       "      <td>SpectralClustering</td>\n",
       "    </tr>\n",
       "    <tr>\n",
       "      <th>1</th>\n",
       "      <td>SpectralClustering #1</td>\n",
       "      <td>5</td>\n",
       "      <td>[0, 0, 0, 4, 0, 4, 0, 0, 4, 0, 1, 0, 0, 0, 0, ...</td>\n",
       "      <td>0.054201</td>\n",
       "      <td>clustermatch_k2</td>\n",
       "      <td>SpectralClustering</td>\n",
       "    </tr>\n",
       "    <tr>\n",
       "      <th>2</th>\n",
       "      <td>SpectralClustering #2</td>\n",
       "      <td>10</td>\n",
       "      <td>[3, 3, 3, 7, 3, 7, 3, 3, 7, 3, 3, 3, 3, 3, 3, ...</td>\n",
       "      <td>0.038756</td>\n",
       "      <td>clustermatch_k2</td>\n",
       "      <td>SpectralClustering</td>\n",
       "    </tr>\n",
       "    <tr>\n",
       "      <th>3</th>\n",
       "      <td>SpectralClustering #3</td>\n",
       "      <td>15</td>\n",
       "      <td>[4, 4, 4, 10, 13, 12, 4, 4, 10, 4, 13, 12, 4, ...</td>\n",
       "      <td>0.031417</td>\n",
       "      <td>clustermatch_k2</td>\n",
       "      <td>SpectralClustering</td>\n",
       "    </tr>\n",
       "    <tr>\n",
       "      <th>4</th>\n",
       "      <td>SpectralClustering #4</td>\n",
       "      <td>20</td>\n",
       "      <td>[13, 13, 11, 5, 19, 4, 11, 11, 4, 11, 19, 13, ...</td>\n",
       "      <td>0.027535</td>\n",
       "      <td>clustermatch_k2</td>\n",
       "      <td>SpectralClustering</td>\n",
       "    </tr>\n",
       "  </tbody>\n",
       "</table>\n",
       "</div>"
      ],
      "text/plain": [
       "                      id  n_clusters  \\\n",
       "0  SpectralClustering #0           2   \n",
       "1  SpectralClustering #1           5   \n",
       "2  SpectralClustering #2          10   \n",
       "3  SpectralClustering #3          15   \n",
       "4  SpectralClustering #4          20   \n",
       "\n",
       "                                           partition  si_score  \\\n",
       "0  [1, 1, 0, 0, 1, 1, 1, 0, 1, 0, 1, 1, 0, 0, 1, ...  0.058329   \n",
       "1  [0, 0, 0, 4, 0, 4, 0, 0, 4, 0, 1, 0, 0, 0, 0, ...  0.054201   \n",
       "2  [3, 3, 3, 7, 3, 7, 3, 3, 7, 3, 3, 3, 3, 3, 3, ...  0.038756   \n",
       "3  [4, 4, 4, 10, 13, 12, 4, 4, 10, 4, 13, 12, 4, ...  0.031417   \n",
       "4  [13, 13, 11, 5, 19, 4, 11, 11, 4, 11, 19, 13, ...  0.027535   \n",
       "\n",
       "       corr_method        clust_method  \n",
       "0  clustermatch_k2  SpectralClustering  \n",
       "1  clustermatch_k2  SpectralClustering  \n",
       "2  clustermatch_k2  SpectralClustering  \n",
       "3  clustermatch_k2  SpectralClustering  \n",
       "4  clustermatch_k2  SpectralClustering  "
      ]
     },
     "execution_count": 43,
     "metadata": {},
     "output_type": "execute_result"
    }
   ],
   "source": [
    "df.head()"
   ]
  },
  {
   "cell_type": "code",
   "execution_count": 44,
   "id": "d26e3e6f-d645-4a00-951f-3280ba91274c",
   "metadata": {},
   "outputs": [
    {
     "data": {
      "text/plain": [
       "0.35635738418472257"
      ]
     },
     "execution_count": 44,
     "metadata": {},
     "output_type": "execute_result"
    }
   ],
   "source": [
    "x = df[(df[\"corr_method\"] == \"clustermatch_k2\") & (df[\"n_clusters\"] == 2)].iloc[0][\n",
    "    \"partition\"\n",
    "]\n",
    "\n",
    "y = df[(df[\"corr_method\"] == \"pearson_abs\") & (df[\"n_clusters\"] == 2)].iloc[0][\n",
    "    \"partition\"\n",
    "]\n",
    "\n",
    "ari(x, y)"
   ]
  },
  {
   "cell_type": "code",
   "execution_count": 45,
   "id": "9adc2397-d637-4ca7-86b1-c7009a089c6b",
   "metadata": {},
   "outputs": [
    {
     "data": {
      "text/plain": [
       "['clustermatch_k2', 'clustermatch_k2to5', 'pearson_abs', 'pearson_full', 'spearman_abs', 'spearman_full']\n",
       "Categories (6, object): ['clustermatch_k2', 'clustermatch_k2to5', 'pearson_abs', 'pearson_full', 'spearman_abs', 'spearman_full']"
      ]
     },
     "metadata": {},
     "output_type": "display_data"
    }
   ],
   "source": [
    "all_methods = df[\"corr_method\"].unique()\n",
    "display(all_methods)"
   ]
  },
  {
   "cell_type": "code",
   "execution_count": 46,
   "id": "ad468874-a007-4026-9041-4ce51bf8ed7b",
   "metadata": {},
   "outputs": [
    {
     "data": {
      "text/plain": [
       "['clustermatch_k2', 'clustermatch_k2to5', 'pearson_abs', 'pearson_full', 'spearman_abs', 'spearman_full']\n",
       "Categories (6, object): ['clustermatch_k2', 'clustermatch_k2to5', 'pearson_abs', 'pearson_full', 'spearman_abs', 'spearman_full']"
      ]
     },
     "metadata": {},
     "output_type": "display_data"
    }
   ],
   "source": [
    "all_k_values = df[\"n_clusters\"].unique()\n",
    "display(all_methods)"
   ]
  },
  {
   "cell_type": "code",
   "execution_count": 47,
   "id": "cfa545d4-a23e-4140-8809-f2b9048b626e",
   "metadata": {},
   "outputs": [],
   "source": [
    "data = df.set_index([\"corr_method\", \"n_clusters\"]).sort_index()"
   ]
  },
  {
   "cell_type": "code",
   "execution_count": 50,
   "id": "379d9d99-0c80-46e5-976d-d83936ac50b2",
   "metadata": {},
   "outputs": [
    {
     "data": {
      "text/plain": [
       "array([1, 1, 0, ..., 1, 1, 0], dtype=int32)"
      ]
     },
     "execution_count": 50,
     "metadata": {},
     "output_type": "execute_result"
    }
   ],
   "source": [
    "data.loc[(\"clustermatch_k2\", 2), \"partition\"]"
   ]
  },
  {
   "cell_type": "code",
   "execution_count": 51,
   "id": "850289aa-3ad3-4b18-9b08-dbe92b5da09d",
   "metadata": {},
   "outputs": [],
   "source": [
    "def _get_part(method_name, k):\n",
    "    tmp = data.loc[(method_name, k), \"partition\"]\n",
    "    #     assert tmp.shape[0] == 1\n",
    "    return tmp  # .iloc[0][\"partition\"]"
   ]
  },
  {
   "cell_type": "code",
   "execution_count": 55,
   "id": "de61b180-0aac-4348-a514-581e6d79e433",
   "metadata": {},
   "outputs": [],
   "source": [
    "sim_mat = defaultdict(list)\n",
    "\n",
    "for k in all_k_values:\n",
    "    for i in range(len(all_methods) - 1):\n",
    "        mi = all_methods[i]\n",
    "        mi_part = _get_part(mi, k)\n",
    "\n",
    "        for j in range(i + 1, len(all_methods)):\n",
    "            mj = all_methods[j]\n",
    "            mj_part = _get_part(mj, k)\n",
    "\n",
    "            sim_mat[k].append(ari(mi_part, mj_part))"
   ]
  },
  {
   "cell_type": "code",
   "execution_count": 56,
   "id": "50605cae-239c-48b1-88b7-1866f6cc933e",
   "metadata": {},
   "outputs": [],
   "source": [
    "from scipy.spatial.distance import squareform"
   ]
  },
  {
   "cell_type": "code",
   "execution_count": 76,
   "id": "9364ad6b-1dff-4ee7-8bb4-4587a1c9f287",
   "metadata": {},
   "outputs": [
    {
     "data": {
      "text/plain": [
       "[]"
      ]
     },
     "execution_count": 76,
     "metadata": {},
     "output_type": "execute_result"
    }
   ],
   "source": [
    "sim_mat[3]"
   ]
  },
  {
   "cell_type": "code",
   "execution_count": 89,
   "id": "beb24dfd-f38f-4ed8-a3c1-b7ceb945074f",
   "metadata": {},
   "outputs": [],
   "source": [
    "k = 2\n",
    "\n",
    "smat = squareform(sim_mat[k])\n",
    "np.fill_diagonal(smat, 1.0)\n",
    "smat = pd.DataFrame(smat, index=all_methods, columns=all_methods)"
   ]
  },
  {
   "cell_type": "code",
   "execution_count": 90,
   "id": "0b625d45-afe6-4a5b-b2ee-6cbbdcdd7d0d",
   "metadata": {},
   "outputs": [
    {
     "data": {
      "image/png": "[encoded data removed]",
      "text/plain": [
       "<Figure size 720x720 with 4 Axes>"
      ]
     },
     "metadata": {
      "needs_background": "light"
     },
     "output_type": "display_data"
    }
   ],
   "source": [
    "g = sns.clustermap(smat, annot=True)\n",
    "g.fig.suptitle(f\"$k$={k}\")\n",
    "g.fig.subplots_adjust(top=0.9)"
   ]
  },
  {
   "cell_type": "code",
   "execution_count": null,
   "id": "5e8ae6eb-6a48-4660-996e-d4e9508c2142",
   "metadata": {},
   "outputs": [],
   "source": []
  }
 ],
 "metadata": {
  "jupytext": {
   "cell_metadata_filter": "all,-execution,-papermill,-trusted"
  },
  "kernelspec": {
   "display_name": "Python 3 (ipykernel)",
   "language": "python",
   "name": "python3"
  },
  "language_info": {
   "codemirror_mode": {
    "name": "ipython",
    "version": 3
   },
   "file_extension": ".py",
   "mimetype": "text/x-python",
   "name": "python",
   "nbconvert_exporter": "python",
   "pygments_lexer": "ipython3",
   "version": "3.9.7"
  }
 },
 "nbformat": 4,
 "nbformat_minor": 5
}
