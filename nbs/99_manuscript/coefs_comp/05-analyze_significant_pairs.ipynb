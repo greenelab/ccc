{
 "cells": [
  {
   "cell_type": "markdown",
   "id": "ec52faa3-656f-483e-9617-d7ec0f7d818c",
   "metadata": {
    "papermill": {
     "duration": 0.009853,
     "end_time": "2024-01-03T06:26:45.256300",
     "exception": false,
     "start_time": "2024-01-03T06:26:45.246447",
     "status": "completed"
    },
    "tags": []
   },
   "source": [
    "# Description"
   ]
  },
  {
   "cell_type": "markdown",
   "id": "51102f42-fcd9-4a58-9c8d-dfcd3d2d464e",
   "metadata": {
    "papermill": {
     "duration": 0.008351,
     "end_time": "2024-01-03T06:26:45.275183",
     "exception": false,
     "start_time": "2024-01-03T06:26:45.266832",
     "status": "completed"
    },
    "tags": []
   },
   "source": [
    "After the manuscript revision, here I analyze each gene pair in Figure 3b to see which one can be replaced taking into account the significance of the correlation coefficients."
   ]
  },
  {
   "cell_type": "markdown",
   "id": "7006ceeb-2651-407d-bfa1-1039727649ef",
   "metadata": {
    "papermill": {
     "duration": 0.008318,
     "end_time": "2024-01-03T06:26:45.292036",
     "exception": false,
     "start_time": "2024-01-03T06:26:45.283718",
     "status": "completed"
    },
    "tags": []
   },
   "source": [
    "# Modules loading"
   ]
  },
  {
   "cell_type": "code",
   "execution_count": 1,
   "id": "1ffa1a96-7545-40b9-ac8b-8627e13de8d4",
   "metadata": {
    "execution": {
     "iopub.execute_input": "2024-01-03T06:26:45.310240Z",
     "iopub.status.busy": "2024-01-03T06:26:45.309728Z",
     "iopub.status.idle": "2024-01-03T06:26:45.845713Z",
     "shell.execute_reply": "2024-01-03T06:26:45.845283Z"
    },
    "papermill": {
     "duration": 0.546832,
     "end_time": "2024-01-03T06:26:45.847325",
     "exception": false,
     "start_time": "2024-01-03T06:26:45.300493",
     "status": "completed"
    },
    "tags": []
   },
   "outputs": [],
   "source": [
    "import numpy as np\n",
    "import pandas as pd\n",
    "\n",
    "import matplotlib.pyplot as plt\n",
    "import seaborn as sns\n",
    "\n",
    "from ccc import conf"
   ]
  },
  {
   "cell_type": "markdown",
   "id": "0d3cc810-4b17-4213-8f03-6fe7e97a0fe3",
   "metadata": {
    "papermill": {
     "duration": 0.010657,
     "end_time": "2024-01-03T06:26:45.866726",
     "exception": false,
     "start_time": "2024-01-03T06:26:45.856069",
     "status": "completed"
    },
    "tags": []
   },
   "source": [
    "# Settings"
   ]
  },
  {
   "cell_type": "code",
   "execution_count": 2,
   "id": "9a154623-c787-4a31-871a-cad173f0eb9f",
   "metadata": {
    "execution": {
     "iopub.execute_input": "2024-01-03T06:26:45.884294Z",
     "iopub.status.busy": "2024-01-03T06:26:45.884190Z",
     "iopub.status.idle": "2024-01-03T06:26:45.886665Z",
     "shell.execute_reply": "2024-01-03T06:26:45.886288Z"
    },
    "papermill": {
     "duration": 0.012706,
     "end_time": "2024-01-03T06:26:45.887900",
     "exception": false,
     "start_time": "2024-01-03T06:26:45.875194",
     "status": "completed"
    },
    "tags": []
   },
   "outputs": [],
   "source": [
    "DATASET_CONFIG = conf.GTEX\n",
    "GTEX_TISSUE = \"whole_blood\"\n",
    "GENE_SEL_STRATEGY = \"var_pc_log2\""
   ]
  },
  {
   "cell_type": "markdown",
   "id": "5b09ff83-5377-49a9-b24b-65c6c90277d6",
   "metadata": {
    "papermill": {
     "duration": 0.008483,
     "end_time": "2024-01-03T06:26:45.904927",
     "exception": false,
     "start_time": "2024-01-03T06:26:45.896444",
     "status": "completed"
    },
    "tags": []
   },
   "source": [
    "# Paths"
   ]
  },
  {
   "cell_type": "code",
   "execution_count": 3,
   "id": "3ca43a02-8b27-4869-8f61-9d9f21d8dd76",
   "metadata": {
    "execution": {
     "iopub.execute_input": "2024-01-03T06:26:45.922508Z",
     "iopub.status.busy": "2024-01-03T06:26:45.922423Z",
     "iopub.status.idle": "2024-01-03T06:26:45.924773Z",
     "shell.execute_reply": "2024-01-03T06:26:45.924320Z"
    },
    "papermill": {
     "duration": 0.012596,
     "end_time": "2024-01-03T06:26:45.926078",
     "exception": false,
     "start_time": "2024-01-03T06:26:45.913482",
     "status": "completed"
    },
    "tags": []
   },
   "outputs": [],
   "source": [
    "assert (\n",
    "    conf.MANUSCRIPT[\"BASE_DIR\"] is not None and conf.MANUSCRIPT[\"BASE_DIR\"].exists()\n",
    "), \"Manuscript dir not set\""
   ]
  },
  {
   "cell_type": "code",
   "execution_count": 4,
   "id": "1cb9377d-c826-444b-8ee1-fc209b336e60",
   "metadata": {
    "execution": {
     "iopub.execute_input": "2024-01-03T06:26:45.943659Z",
     "iopub.status.busy": "2024-01-03T06:26:45.943293Z",
     "iopub.status.idle": "2024-01-03T06:26:45.948929Z",
     "shell.execute_reply": "2024-01-03T06:26:45.948428Z"
    },
    "papermill": {
     "duration": 0.015186,
     "end_time": "2024-01-03T06:26:45.949823",
     "exception": false,
     "start_time": "2024-01-03T06:26:45.934637",
     "status": "completed"
    },
    "tags": []
   },
   "outputs": [
    {
     "data": {
      "text/plain": [
       "PosixPath('/opt/data/results/gtex_v8/gene_pair_intersections')"
      ]
     },
     "metadata": {},
     "output_type": "display_data"
    }
   ],
   "source": [
    "OUTPUT_DATA_DIR = DATASET_CONFIG[\"GENE_PAIR_INTERSECTIONS\"]\n",
    "assert OUTPUT_DATA_DIR.exists()\n",
    "display(OUTPUT_DATA_DIR)"
   ]
  },
  {
   "cell_type": "code",
   "execution_count": 5,
   "id": "641ebf93-b420-4420-98d4-c8b00da79071",
   "metadata": {
    "execution": {
     "iopub.execute_input": "2024-01-03T06:26:45.960132Z",
     "iopub.status.busy": "2024-01-03T06:26:45.959623Z",
     "iopub.status.idle": "2024-01-03T06:26:45.964051Z",
     "shell.execute_reply": "2024-01-03T06:26:45.963595Z"
    },
    "papermill": {
     "duration": 0.01052,
     "end_time": "2024-01-03T06:26:45.964928",
     "exception": false,
     "start_time": "2024-01-03T06:26:45.954408",
     "status": "completed"
    },
    "tags": []
   },
   "outputs": [
    {
     "data": {
      "text/plain": [
       "PosixPath('/opt/manuscript/content/images/coefs_comp/gtex_whole_blood')"
      ]
     },
     "metadata": {},
     "output_type": "display_data"
    }
   ],
   "source": [
    "OUTPUT_FIGURE_DIR = (\n",
    "    conf.MANUSCRIPT[\"FIGURES_DIR\"] / \"coefs_comp\" / f\"gtex_{GTEX_TISSUE}\"\n",
    ")\n",
    "OUTPUT_FIGURE_DIR.mkdir(parents=True, exist_ok=True)\n",
    "display(OUTPUT_FIGURE_DIR)"
   ]
  },
  {
   "cell_type": "code",
   "execution_count": 6,
   "id": "2741f7c5-a427-4f35-9cda-954d22778894",
   "metadata": {
    "execution": {
     "iopub.execute_input": "2024-01-03T06:26:45.975080Z",
     "iopub.status.busy": "2024-01-03T06:26:45.974758Z",
     "iopub.status.idle": "2024-01-03T06:26:45.978891Z",
     "shell.execute_reply": "2024-01-03T06:26:45.978428Z"
    },
    "papermill": {
     "duration": 0.010205,
     "end_time": "2024-01-03T06:26:45.979759",
     "exception": false,
     "start_time": "2024-01-03T06:26:45.969554",
     "status": "completed"
    },
    "tags": []
   },
   "outputs": [
    {
     "data": {
      "text/plain": [
       "PosixPath('/opt/data/results/gtex_v8/gene_selection/gtex_v8_data_whole_blood-var_pc_log2.pkl')"
      ]
     },
     "metadata": {},
     "output_type": "display_data"
    }
   ],
   "source": [
    "INPUT_GENE_EXPR_FILE = (\n",
    "    DATASET_CONFIG[\"GENE_SELECTION_DIR\"]\n",
    "    / f\"gtex_v8_data_{GTEX_TISSUE}-{GENE_SEL_STRATEGY}.pkl\"\n",
    ")\n",
    "display(INPUT_GENE_EXPR_FILE)\n",
    "\n",
    "assert INPUT_GENE_EXPR_FILE.exists()"
   ]
  },
  {
   "cell_type": "code",
   "execution_count": 7,
   "id": "3d1c2867-089c-4af0-8828-286e59834d0f",
   "metadata": {
    "execution": {
     "iopub.execute_input": "2024-01-03T06:26:46.010426Z",
     "iopub.status.busy": "2024-01-03T06:26:46.010047Z",
     "iopub.status.idle": "2024-01-03T06:26:46.014291Z",
     "shell.execute_reply": "2024-01-03T06:26:46.013827Z"
    },
    "papermill": {
     "duration": 0.010566,
     "end_time": "2024-01-03T06:26:46.015159",
     "exception": false,
     "start_time": "2024-01-03T06:26:46.004593",
     "status": "completed"
    },
    "tags": []
   },
   "outputs": [
    {
     "data": {
      "text/plain": [
       "PosixPath('/opt/data/results/gtex_v8/gene_pair_intersections/gene_pair_intersections-gtex_v8-whole_blood-var_pc_log2.pkl')"
      ]
     },
     "metadata": {},
     "output_type": "display_data"
    }
   ],
   "source": [
    "INPUT_GENE_PAIRS_INTERSECTIONS_FILE = (\n",
    "    DATASET_CONFIG[\"GENE_PAIR_INTERSECTIONS\"]\n",
    "    / f\"gene_pair_intersections-gtex_v8-{GTEX_TISSUE}-{GENE_SEL_STRATEGY}.pkl\"\n",
    ")\n",
    "display(INPUT_GENE_PAIRS_INTERSECTIONS_FILE)\n",
    "\n",
    "assert INPUT_GENE_PAIRS_INTERSECTIONS_FILE.exists()"
   ]
  },
  {
   "cell_type": "code",
   "execution_count": 8,
   "id": "45d6a9c4-d35b-4727-aa4e-bd28fed9ceea",
   "metadata": {
    "execution": {
     "iopub.execute_input": "2024-01-03T06:26:46.025610Z",
     "iopub.status.busy": "2024-01-03T06:26:46.025254Z",
     "iopub.status.idle": "2024-01-03T06:26:46.029433Z",
     "shell.execute_reply": "2024-01-03T06:26:46.028948Z"
    },
    "papermill": {
     "duration": 0.010388,
     "end_time": "2024-01-03T06:26:46.030308",
     "exception": false,
     "start_time": "2024-01-03T06:26:46.019920",
     "status": "completed"
    },
    "tags": []
   },
   "outputs": [
    {
     "data": {
      "text/plain": [
       "PosixPath('/opt/data/results/gtex_v8/gene_pair_intersections/pvalues/gene_pair-samples-pvalues-fdr.pkl')"
      ]
     },
     "metadata": {},
     "output_type": "display_data"
    }
   ],
   "source": [
    "INPUT_PVALUES_FILE = (\n",
    "    DATASET_CONFIG[\"GENE_PAIR_INTERSECTIONS\"]\n",
    "    / \"pvalues\"\n",
    "    / \"gene_pair-samples-pvalues-fdr.pkl\"\n",
    ")\n",
    "display(INPUT_PVALUES_FILE)\n",
    "assert INPUT_PVALUES_FILE.exists()"
   ]
  },
  {
   "cell_type": "markdown",
   "id": "3d014f0c-d442-48ab-add8-ac338ad15b27",
   "metadata": {
    "papermill": {
     "duration": 0.004779,
     "end_time": "2024-01-03T06:26:46.039953",
     "exception": false,
     "start_time": "2024-01-03T06:26:46.035174",
     "status": "completed"
    },
    "tags": []
   },
   "source": [
    "# Data"
   ]
  },
  {
   "cell_type": "markdown",
   "id": "b67ff245-f8ae-45f2-8b36-bb628e193e16",
   "metadata": {
    "papermill": {
     "duration": 0.005093,
     "end_time": "2024-01-03T06:26:46.049898",
     "exception": false,
     "start_time": "2024-01-03T06:26:46.044805",
     "status": "completed"
    },
    "tags": []
   },
   "source": [
    "## Gene Ensembl ID -> Symbol mapping"
   ]
  },
  {
   "cell_type": "code",
   "execution_count": 9,
   "id": "ec07802f-7834-4b8d-9361-8c31b85e302a",
   "metadata": {
    "execution": {
     "iopub.execute_input": "2024-01-03T06:26:46.060673Z",
     "iopub.status.busy": "2024-01-03T06:26:46.060273Z",
     "iopub.status.idle": "2024-01-03T06:26:46.080649Z",
     "shell.execute_reply": "2024-01-03T06:26:46.080086Z"
    },
    "papermill": {
     "duration": 0.026842,
     "end_time": "2024-01-03T06:26:46.081625",
     "exception": false,
     "start_time": "2024-01-03T06:26:46.054783",
     "status": "completed"
    },
    "tags": []
   },
   "outputs": [],
   "source": [
    "gene_map = pd.read_pickle(\n",
    "    DATASET_CONFIG[\"DATA_DIR\"] / \"gtex_gene_id_symbol_mappings.pkl\"\n",
    ")"
   ]
  },
  {
   "cell_type": "code",
   "execution_count": 10,
   "id": "5278e2ac-3ca4-4404-9512-76659b4dc240",
   "metadata": {
    "execution": {
     "iopub.execute_input": "2024-01-03T06:26:46.092418Z",
     "iopub.status.busy": "2024-01-03T06:26:46.092117Z",
     "iopub.status.idle": "2024-01-03T06:26:46.146651Z",
     "shell.execute_reply": "2024-01-03T06:26:46.146066Z"
    },
    "papermill": {
     "duration": 0.061,
     "end_time": "2024-01-03T06:26:46.147580",
     "exception": false,
     "start_time": "2024-01-03T06:26:46.086580",
     "status": "completed"
    },
    "tags": []
   },
   "outputs": [],
   "source": [
    "gene_map = gene_map.set_index(\"gene_ens_id\")[\"gene_symbol\"].to_dict()"
   ]
  },
  {
   "cell_type": "code",
   "execution_count": 11,
   "id": "f4b76b56-6c3b-48ce-9eea-1297b053cc22",
   "metadata": {
    "execution": {
     "iopub.execute_input": "2024-01-03T06:26:46.158231Z",
     "iopub.status.busy": "2024-01-03T06:26:46.158070Z",
     "iopub.status.idle": "2024-01-03T06:26:46.161049Z",
     "shell.execute_reply": "2024-01-03T06:26:46.160562Z"
    },
    "papermill": {
     "duration": 0.009514,
     "end_time": "2024-01-03T06:26:46.161958",
     "exception": false,
     "start_time": "2024-01-03T06:26:46.152444",
     "status": "completed"
    },
    "tags": []
   },
   "outputs": [],
   "source": [
    "assert gene_map[\"ENSG00000145309.5\"] == \"CABS1\""
   ]
  },
  {
   "cell_type": "markdown",
   "id": "1ee64945-176f-4faa-a083-0784c1ad98e6",
   "metadata": {
    "papermill": {
     "duration": 0.004855,
     "end_time": "2024-01-03T06:26:46.171819",
     "exception": false,
     "start_time": "2024-01-03T06:26:46.166964",
     "status": "completed"
    },
    "tags": []
   },
   "source": [
    "## Gene expression"
   ]
  },
  {
   "cell_type": "code",
   "execution_count": 12,
   "id": "949308e7-b734-4bb8-ad36-22f40e369cbb",
   "metadata": {
    "execution": {
     "iopub.execute_input": "2024-01-03T06:26:46.182586Z",
     "iopub.status.busy": "2024-01-03T06:26:46.182272Z",
     "iopub.status.idle": "2024-01-03T06:26:46.211146Z",
     "shell.execute_reply": "2024-01-03T06:26:46.210585Z"
    },
    "papermill": {
     "duration": 0.03523,
     "end_time": "2024-01-03T06:26:46.211982",
     "exception": false,
     "start_time": "2024-01-03T06:26:46.176752",
     "status": "completed"
    },
    "tags": []
   },
   "outputs": [],
   "source": [
    "gene_expr_df = pd.read_pickle(INPUT_GENE_EXPR_FILE)"
   ]
  },
  {
   "cell_type": "code",
   "execution_count": 13,
   "id": "1261ec25-1edc-4d01-8a8e-f45866c030db",
   "metadata": {
    "execution": {
     "iopub.execute_input": "2024-01-03T06:26:46.222794Z",
     "iopub.status.busy": "2024-01-03T06:26:46.222499Z",
     "iopub.status.idle": "2024-01-03T06:26:46.226354Z",
     "shell.execute_reply": "2024-01-03T06:26:46.225875Z"
    },
    "papermill": {
     "duration": 0.010348,
     "end_time": "2024-01-03T06:26:46.227223",
     "exception": false,
     "start_time": "2024-01-03T06:26:46.216875",
     "status": "completed"
    },
    "tags": []
   },
   "outputs": [
    {
     "data": {
      "text/plain": [
       "(5000, 755)"
      ]
     },
     "execution_count": 13,
     "metadata": {},
     "output_type": "execute_result"
    }
   ],
   "source": [
    "gene_expr_df.shape"
   ]
  },
  {
   "cell_type": "code",
   "execution_count": 14,
   "id": "6db4e1ba-24f5-4710-99e4-1eafe47122fc",
   "metadata": {
    "execution": {
     "iopub.execute_input": "2024-01-03T06:26:46.238074Z",
     "iopub.status.busy": "2024-01-03T06:26:46.237794Z",
     "iopub.status.idle": "2024-01-03T06:26:46.260723Z",
     "shell.execute_reply": "2024-01-03T06:26:46.260251Z"
    },
    "papermill": {
     "duration": 0.029428,
     "end_time": "2024-01-03T06:26:46.261650",
     "exception": false,
     "start_time": "2024-01-03T06:26:46.232222",
     "status": "completed"
    },
    "tags": []
   },
   "outputs": [
    {
     "data": {
      "text/html": [
       "<div>\n",
       "<style scoped>\n",
       "    .dataframe tbody tr th:only-of-type {\n",
       "        vertical-align: middle;\n",
       "    }\n",
       "\n",
       "    .dataframe tbody tr th {\n",
       "        vertical-align: top;\n",
       "    }\n",
       "\n",
       "    .dataframe thead th {\n",
       "        text-align: right;\n",
       "    }\n",
       "</style>\n",
       "<table border=\"1\" class=\"dataframe\">\n",
       "  <thead>\n",
       "    <tr style=\"text-align: right;\">\n",
       "      <th></th>\n",
       "      <th>GTEX-111YS-0006-SM-5NQBE</th>\n",
       "      <th>GTEX-1122O-0005-SM-5O99J</th>\n",
       "      <th>GTEX-1128S-0005-SM-5P9HI</th>\n",
       "      <th>GTEX-113IC-0006-SM-5NQ9C</th>\n",
       "      <th>GTEX-113JC-0006-SM-5O997</th>\n",
       "      <th>GTEX-117XS-0005-SM-5PNU6</th>\n",
       "      <th>GTEX-117YW-0005-SM-5NQ8Z</th>\n",
       "      <th>GTEX-1192W-0005-SM-5NQBQ</th>\n",
       "      <th>GTEX-1192X-0005-SM-5NQC3</th>\n",
       "      <th>GTEX-11DXW-0006-SM-5NQ7Y</th>\n",
       "      <th>...</th>\n",
       "      <th>GTEX-ZVE2-0006-SM-51MRW</th>\n",
       "      <th>GTEX-ZVP2-0005-SM-51MRK</th>\n",
       "      <th>GTEX-ZVT2-0005-SM-57WBW</th>\n",
       "      <th>GTEX-ZVT3-0006-SM-51MT9</th>\n",
       "      <th>GTEX-ZVT4-0006-SM-57WB8</th>\n",
       "      <th>GTEX-ZVTK-0006-SM-57WBK</th>\n",
       "      <th>GTEX-ZVZP-0006-SM-51MSW</th>\n",
       "      <th>GTEX-ZVZQ-0006-SM-51MR8</th>\n",
       "      <th>GTEX-ZXES-0005-SM-57WCB</th>\n",
       "      <th>GTEX-ZXG5-0005-SM-57WCN</th>\n",
       "    </tr>\n",
       "    <tr>\n",
       "      <th>gene_ens_id</th>\n",
       "      <th></th>\n",
       "      <th></th>\n",
       "      <th></th>\n",
       "      <th></th>\n",
       "      <th></th>\n",
       "      <th></th>\n",
       "      <th></th>\n",
       "      <th></th>\n",
       "      <th></th>\n",
       "      <th></th>\n",
       "      <th></th>\n",
       "      <th></th>\n",
       "      <th></th>\n",
       "      <th></th>\n",
       "      <th></th>\n",
       "      <th></th>\n",
       "      <th></th>\n",
       "      <th></th>\n",
       "      <th></th>\n",
       "      <th></th>\n",
       "      <th></th>\n",
       "    </tr>\n",
       "  </thead>\n",
       "  <tbody>\n",
       "    <tr>\n",
       "      <th>ENSG00000169429.10</th>\n",
       "      <td>0.5623</td>\n",
       "      <td>0.8067</td>\n",
       "      <td>116.90000</td>\n",
       "      <td>4.047</td>\n",
       "      <td>211.0</td>\n",
       "      <td>58.110</td>\n",
       "      <td>68.38</td>\n",
       "      <td>249.50</td>\n",
       "      <td>5.095</td>\n",
       "      <td>295.9</td>\n",
       "      <td>...</td>\n",
       "      <td>39.960</td>\n",
       "      <td>0.1393</td>\n",
       "      <td>0.22380</td>\n",
       "      <td>245.0</td>\n",
       "      <td>513.6</td>\n",
       "      <td>1626.00</td>\n",
       "      <td>0.5633</td>\n",
       "      <td>515.70</td>\n",
       "      <td>1.19400</td>\n",
       "      <td>1163.00</td>\n",
       "    </tr>\n",
       "    <tr>\n",
       "      <th>ENSG00000135245.9</th>\n",
       "      <td>0.6529</td>\n",
       "      <td>1.3850</td>\n",
       "      <td>199.20000</td>\n",
       "      <td>2.266</td>\n",
       "      <td>116.7</td>\n",
       "      <td>192.300</td>\n",
       "      <td>161.50</td>\n",
       "      <td>263.50</td>\n",
       "      <td>23.540</td>\n",
       "      <td>251.9</td>\n",
       "      <td>...</td>\n",
       "      <td>114.300</td>\n",
       "      <td>1.8330</td>\n",
       "      <td>0.41150</td>\n",
       "      <td>149.0</td>\n",
       "      <td>935.3</td>\n",
       "      <td>233.60</td>\n",
       "      <td>0.8882</td>\n",
       "      <td>134.00</td>\n",
       "      <td>1.12000</td>\n",
       "      <td>295.70</td>\n",
       "    </tr>\n",
       "    <tr>\n",
       "      <th>ENSG00000163631.16</th>\n",
       "      <td>1.8480</td>\n",
       "      <td>0.2503</td>\n",
       "      <td>0.08429</td>\n",
       "      <td>1.251</td>\n",
       "      <td>1348.0</td>\n",
       "      <td>9.971</td>\n",
       "      <td>101.30</td>\n",
       "      <td>95.09</td>\n",
       "      <td>1.264</td>\n",
       "      <td>119.3</td>\n",
       "      <td>...</td>\n",
       "      <td>2.092</td>\n",
       "      <td>2.1100</td>\n",
       "      <td>0.03588</td>\n",
       "      <td>171.8</td>\n",
       "      <td>107.1</td>\n",
       "      <td>71.25</td>\n",
       "      <td>1.7720</td>\n",
       "      <td>309.60</td>\n",
       "      <td>0.07361</td>\n",
       "      <td>17.75</td>\n",
       "    </tr>\n",
       "    <tr>\n",
       "      <th>ENSG00000277632.1</th>\n",
       "      <td>1.6960</td>\n",
       "      <td>1.3450</td>\n",
       "      <td>235.10000</td>\n",
       "      <td>11.770</td>\n",
       "      <td>141.7</td>\n",
       "      <td>199.100</td>\n",
       "      <td>525.50</td>\n",
       "      <td>659.90</td>\n",
       "      <td>10.910</td>\n",
       "      <td>209.3</td>\n",
       "      <td>...</td>\n",
       "      <td>61.340</td>\n",
       "      <td>2.2500</td>\n",
       "      <td>0.72310</td>\n",
       "      <td>261.2</td>\n",
       "      <td>400.0</td>\n",
       "      <td>288.50</td>\n",
       "      <td>2.6960</td>\n",
       "      <td>287.50</td>\n",
       "      <td>3.32300</td>\n",
       "      <td>618.90</td>\n",
       "    </tr>\n",
       "    <tr>\n",
       "      <th>ENSG00000239839.6</th>\n",
       "      <td>185.2000</td>\n",
       "      <td>1.7790</td>\n",
       "      <td>694.30000</td>\n",
       "      <td>23.840</td>\n",
       "      <td>297.3</td>\n",
       "      <td>3122.000</td>\n",
       "      <td>2521.00</td>\n",
       "      <td>1504.00</td>\n",
       "      <td>80.060</td>\n",
       "      <td>652.0</td>\n",
       "      <td>...</td>\n",
       "      <td>1010.000</td>\n",
       "      <td>253.8000</td>\n",
       "      <td>94.52000</td>\n",
       "      <td>6083.0</td>\n",
       "      <td>2768.0</td>\n",
       "      <td>52.06</td>\n",
       "      <td>34.5700</td>\n",
       "      <td>17.36</td>\n",
       "      <td>352.30000</td>\n",
       "      <td>63.85</td>\n",
       "    </tr>\n",
       "  </tbody>\n",
       "</table>\n",
       "<p>5 rows × 755 columns</p>\n",
       "</div>"
      ],
      "text/plain": [
       "                    GTEX-111YS-0006-SM-5NQBE  GTEX-1122O-0005-SM-5O99J  \\\n",
       "gene_ens_id                                                              \n",
       "ENSG00000169429.10                    0.5623                    0.8067   \n",
       "ENSG00000135245.9                     0.6529                    1.3850   \n",
       "ENSG00000163631.16                    1.8480                    0.2503   \n",
       "ENSG00000277632.1                     1.6960                    1.3450   \n",
       "ENSG00000239839.6                   185.2000                    1.7790   \n",
       "\n",
       "                    GTEX-1128S-0005-SM-5P9HI  GTEX-113IC-0006-SM-5NQ9C  \\\n",
       "gene_ens_id                                                              \n",
       "ENSG00000169429.10                 116.90000                     4.047   \n",
       "ENSG00000135245.9                  199.20000                     2.266   \n",
       "ENSG00000163631.16                   0.08429                     1.251   \n",
       "ENSG00000277632.1                  235.10000                    11.770   \n",
       "ENSG00000239839.6                  694.30000                    23.840   \n",
       "\n",
       "                    GTEX-113JC-0006-SM-5O997  GTEX-117XS-0005-SM-5PNU6  \\\n",
       "gene_ens_id                                                              \n",
       "ENSG00000169429.10                     211.0                    58.110   \n",
       "ENSG00000135245.9                      116.7                   192.300   \n",
       "ENSG00000163631.16                    1348.0                     9.971   \n",
       "ENSG00000277632.1                      141.7                   199.100   \n",
       "ENSG00000239839.6                      297.3                  3122.000   \n",
       "\n",
       "                    GTEX-117YW-0005-SM-5NQ8Z  GTEX-1192W-0005-SM-5NQBQ  \\\n",
       "gene_ens_id                                                              \n",
       "ENSG00000169429.10                     68.38                    249.50   \n",
       "ENSG00000135245.9                     161.50                    263.50   \n",
       "ENSG00000163631.16                    101.30                     95.09   \n",
       "ENSG00000277632.1                     525.50                    659.90   \n",
       "ENSG00000239839.6                    2521.00                   1504.00   \n",
       "\n",
       "                    GTEX-1192X-0005-SM-5NQC3  GTEX-11DXW-0006-SM-5NQ7Y  ...  \\\n",
       "gene_ens_id                                                             ...   \n",
       "ENSG00000169429.10                     5.095                     295.9  ...   \n",
       "ENSG00000135245.9                     23.540                     251.9  ...   \n",
       "ENSG00000163631.16                     1.264                     119.3  ...   \n",
       "ENSG00000277632.1                     10.910                     209.3  ...   \n",
       "ENSG00000239839.6                     80.060                     652.0  ...   \n",
       "\n",
       "                    GTEX-ZVE2-0006-SM-51MRW  GTEX-ZVP2-0005-SM-51MRK  \\\n",
       "gene_ens_id                                                            \n",
       "ENSG00000169429.10                   39.960                   0.1393   \n",
       "ENSG00000135245.9                   114.300                   1.8330   \n",
       "ENSG00000163631.16                    2.092                   2.1100   \n",
       "ENSG00000277632.1                    61.340                   2.2500   \n",
       "ENSG00000239839.6                  1010.000                 253.8000   \n",
       "\n",
       "                    GTEX-ZVT2-0005-SM-57WBW  GTEX-ZVT3-0006-SM-51MT9  \\\n",
       "gene_ens_id                                                            \n",
       "ENSG00000169429.10                  0.22380                    245.0   \n",
       "ENSG00000135245.9                   0.41150                    149.0   \n",
       "ENSG00000163631.16                  0.03588                    171.8   \n",
       "ENSG00000277632.1                   0.72310                    261.2   \n",
       "ENSG00000239839.6                  94.52000                   6083.0   \n",
       "\n",
       "                    GTEX-ZVT4-0006-SM-57WB8  GTEX-ZVTK-0006-SM-57WBK  \\\n",
       "gene_ens_id                                                            \n",
       "ENSG00000169429.10                    513.6                  1626.00   \n",
       "ENSG00000135245.9                     935.3                   233.60   \n",
       "ENSG00000163631.16                    107.1                    71.25   \n",
       "ENSG00000277632.1                     400.0                   288.50   \n",
       "ENSG00000239839.6                    2768.0                    52.06   \n",
       "\n",
       "                    GTEX-ZVZP-0006-SM-51MSW  GTEX-ZVZQ-0006-SM-51MR8  \\\n",
       "gene_ens_id                                                            \n",
       "ENSG00000169429.10                   0.5633                   515.70   \n",
       "ENSG00000135245.9                    0.8882                   134.00   \n",
       "ENSG00000163631.16                   1.7720                   309.60   \n",
       "ENSG00000277632.1                    2.6960                   287.50   \n",
       "ENSG00000239839.6                   34.5700                    17.36   \n",
       "\n",
       "                    GTEX-ZXES-0005-SM-57WCB  GTEX-ZXG5-0005-SM-57WCN  \n",
       "gene_ens_id                                                           \n",
       "ENSG00000169429.10                  1.19400                  1163.00  \n",
       "ENSG00000135245.9                   1.12000                   295.70  \n",
       "ENSG00000163631.16                  0.07361                    17.75  \n",
       "ENSG00000277632.1                   3.32300                   618.90  \n",
       "ENSG00000239839.6                 352.30000                    63.85  \n",
       "\n",
       "[5 rows x 755 columns]"
      ]
     },
     "execution_count": 14,
     "metadata": {},
     "output_type": "execute_result"
    }
   ],
   "source": [
    "gene_expr_df.head()"
   ]
  },
  {
   "cell_type": "markdown",
   "id": "e28a6fac-468b-4c03-bb77-be503ffacd68",
   "metadata": {
    "papermill": {
     "duration": 0.010329,
     "end_time": "2024-01-03T06:26:48.935882",
     "exception": false,
     "start_time": "2024-01-03T06:26:48.925553",
     "status": "completed"
    },
    "tags": []
   },
   "source": [
    "## p-values"
   ]
  },
  {
   "cell_type": "code",
   "execution_count": 18,
   "id": "053b5498-4b2d-445c-a16a-57f65efe586c",
   "metadata": {
    "execution": {
     "iopub.execute_input": "2024-01-03T06:26:48.957276Z",
     "iopub.status.busy": "2024-01-03T06:26:48.957151Z",
     "iopub.status.idle": "2024-01-03T06:26:48.967129Z",
     "shell.execute_reply": "2024-01-03T06:26:48.966425Z"
    },
    "papermill": {
     "duration": 0.021863,
     "end_time": "2024-01-03T06:26:48.968236",
     "exception": false,
     "start_time": "2024-01-03T06:26:48.946373",
     "status": "completed"
    },
    "tags": []
   },
   "outputs": [],
   "source": [
    "df_pvalues = pd.read_pickle(INPUT_PVALUES_FILE).sort_index()"
   ]
  },
  {
   "cell_type": "code",
   "execution_count": 19,
   "id": "ef92461e-27c9-441e-8eda-a93af98e4aea",
   "metadata": {
    "execution": {
     "iopub.execute_input": "2024-01-03T06:26:48.981051Z",
     "iopub.status.busy": "2024-01-03T06:26:48.980473Z",
     "iopub.status.idle": "2024-01-03T06:26:48.985378Z",
     "shell.execute_reply": "2024-01-03T06:26:48.984730Z"
    },
    "papermill": {
     "duration": 0.012438,
     "end_time": "2024-01-03T06:26:48.986314",
     "exception": false,
     "start_time": "2024-01-03T06:26:48.973876",
     "status": "completed"
    },
    "tags": []
   },
   "outputs": [
    {
     "data": {
      "text/plain": [
       "(12116, 10)"
      ]
     },
     "execution_count": 19,
     "metadata": {},
     "output_type": "execute_result"
    }
   ],
   "source": [
    "df_pvalues.shape"
   ]
  },
  {
   "cell_type": "code",
   "execution_count": 20,
   "id": "94596df3-65d0-414a-98ab-4cb33502171c",
   "metadata": {
    "execution": {
     "iopub.execute_input": "2024-01-03T06:26:48.998597Z",
     "iopub.status.busy": "2024-01-03T06:26:48.998245Z",
     "iopub.status.idle": "2024-01-03T06:26:49.011838Z",
     "shell.execute_reply": "2024-01-03T06:26:49.011347Z"
    },
    "papermill": {
     "duration": 0.020755,
     "end_time": "2024-01-03T06:26:49.012706",
     "exception": false,
     "start_time": "2024-01-03T06:26:48.991951",
     "status": "completed"
    },
    "tags": []
   },
   "outputs": [
    {
     "data": {
      "text/html": [
       "<div>\n",
       "<style scoped>\n",
       "    .dataframe tbody tr th:only-of-type {\n",
       "        vertical-align: middle;\n",
       "    }\n",
       "\n",
       "    .dataframe tbody tr th {\n",
       "        vertical-align: top;\n",
       "    }\n",
       "\n",
       "    .dataframe thead th {\n",
       "        text-align: right;\n",
       "    }\n",
       "</style>\n",
       "<table border=\"1\" class=\"dataframe\">\n",
       "  <thead>\n",
       "    <tr style=\"text-align: right;\">\n",
       "      <th></th>\n",
       "      <th></th>\n",
       "      <th>group</th>\n",
       "      <th>ccc</th>\n",
       "      <th>ccc_fdr</th>\n",
       "      <th>ccc_pvalue</th>\n",
       "      <th>pearson</th>\n",
       "      <th>pearson_fdr</th>\n",
       "      <th>pearson_pvalue</th>\n",
       "      <th>spearman</th>\n",
       "      <th>spearman_fdr</th>\n",
       "      <th>spearman_pvalue</th>\n",
       "    </tr>\n",
       "    <tr>\n",
       "      <th>gene0</th>\n",
       "      <th>gene1</th>\n",
       "      <th></th>\n",
       "      <th></th>\n",
       "      <th></th>\n",
       "      <th></th>\n",
       "      <th></th>\n",
       "      <th></th>\n",
       "      <th></th>\n",
       "      <th></th>\n",
       "      <th></th>\n",
       "      <th></th>\n",
       "    </tr>\n",
       "  </thead>\n",
       "  <tbody>\n",
       "    <tr>\n",
       "      <th rowspan=\"2\" valign=\"top\">ENSG00000000938.12</th>\n",
       "      <th>ENSG00000128342.4</th>\n",
       "      <td>ccc_high_and_pearson_low-top_pearson</td>\n",
       "      <td>0.232700</td>\n",
       "      <td>0.000001</td>\n",
       "      <td>9.999990e-07</td>\n",
       "      <td>-0.116906</td>\n",
       "      <td>0.002597</td>\n",
       "      <td>0.001291</td>\n",
       "      <td>-0.473951</td>\n",
       "      <td>2.787320e-43</td>\n",
       "      <td>1.534672e-43</td>\n",
       "    </tr>\n",
       "    <tr>\n",
       "      <th>ENSG00000249138.1</th>\n",
       "      <td>ccc_high_and_pearson_low-random</td>\n",
       "      <td>0.198172</td>\n",
       "      <td>0.000001</td>\n",
       "      <td>9.999990e-07</td>\n",
       "      <td>-0.093076</td>\n",
       "      <td>0.015275</td>\n",
       "      <td>0.010503</td>\n",
       "      <td>-0.308136</td>\n",
       "      <td>7.175155e-18</td>\n",
       "      <td>4.538519e-18</td>\n",
       "    </tr>\n",
       "    <tr>\n",
       "      <th rowspan=\"2\" valign=\"top\">ENSG00000001167.14</th>\n",
       "      <th>ENSG00000119862.12</th>\n",
       "      <td>all_low-top_ccc</td>\n",
       "      <td>0.034955</td>\n",
       "      <td>0.000001</td>\n",
       "      <td>9.999990e-07</td>\n",
       "      <td>0.024366</td>\n",
       "      <td>0.532093</td>\n",
       "      <td>0.503820</td>\n",
       "      <td>0.091169</td>\n",
       "      <td>1.377640e-02</td>\n",
       "      <td>1.220580e-02</td>\n",
       "    </tr>\n",
       "    <tr>\n",
       "      <th>ENSG00000131475.6</th>\n",
       "      <td>all_low-top_pearson</td>\n",
       "      <td>0.028636</td>\n",
       "      <td>0.000004</td>\n",
       "      <td>2.999997e-06</td>\n",
       "      <td>-0.117799</td>\n",
       "      <td>0.002597</td>\n",
       "      <td>0.001184</td>\n",
       "      <td>-0.046469</td>\n",
       "      <td>2.136647e-01</td>\n",
       "      <td>2.021593e-01</td>\n",
       "    </tr>\n",
       "    <tr>\n",
       "      <th>ENSG00000001561.6</th>\n",
       "      <th>ENSG00000086730.16</th>\n",
       "      <td>all_low-random</td>\n",
       "      <td>0.018550</td>\n",
       "      <td>0.000149</td>\n",
       "      <td>1.289999e-04</td>\n",
       "      <td>-0.002443</td>\n",
       "      <td>0.951313</td>\n",
       "      <td>0.946568</td>\n",
       "      <td>0.059267</td>\n",
       "      <td>1.116711e-01</td>\n",
       "      <td>1.036914e-01</td>\n",
       "    </tr>\n",
       "  </tbody>\n",
       "</table>\n",
       "</div>"
      ],
      "text/plain": [
       "                                                                      group  \\\n",
       "gene0              gene1                                                      \n",
       "ENSG00000000938.12 ENSG00000128342.4   ccc_high_and_pearson_low-top_pearson   \n",
       "                   ENSG00000249138.1        ccc_high_and_pearson_low-random   \n",
       "ENSG00000001167.14 ENSG00000119862.12                       all_low-top_ccc   \n",
       "                   ENSG00000131475.6                    all_low-top_pearson   \n",
       "ENSG00000001561.6  ENSG00000086730.16                        all_low-random   \n",
       "\n",
       "                                            ccc   ccc_fdr    ccc_pvalue  \\\n",
       "gene0              gene1                                                  \n",
       "ENSG00000000938.12 ENSG00000128342.4   0.232700  0.000001  9.999990e-07   \n",
       "                   ENSG00000249138.1   0.198172  0.000001  9.999990e-07   \n",
       "ENSG00000001167.14 ENSG00000119862.12  0.034955  0.000001  9.999990e-07   \n",
       "                   ENSG00000131475.6   0.028636  0.000004  2.999997e-06   \n",
       "ENSG00000001561.6  ENSG00000086730.16  0.018550  0.000149  1.289999e-04   \n",
       "\n",
       "                                        pearson  pearson_fdr  pearson_pvalue  \\\n",
       "gene0              gene1                                                       \n",
       "ENSG00000000938.12 ENSG00000128342.4  -0.116906     0.002597        0.001291   \n",
       "                   ENSG00000249138.1  -0.093076     0.015275        0.010503   \n",
       "ENSG00000001167.14 ENSG00000119862.12  0.024366     0.532093        0.503820   \n",
       "                   ENSG00000131475.6  -0.117799     0.002597        0.001184   \n",
       "ENSG00000001561.6  ENSG00000086730.16 -0.002443     0.951313        0.946568   \n",
       "\n",
       "                                       spearman  spearman_fdr  spearman_pvalue  \n",
       "gene0              gene1                                                        \n",
       "ENSG00000000938.12 ENSG00000128342.4  -0.473951  2.787320e-43     1.534672e-43  \n",
       "                   ENSG00000249138.1  -0.308136  7.175155e-18     4.538519e-18  \n",
       "ENSG00000001167.14 ENSG00000119862.12  0.091169  1.377640e-02     1.220580e-02  \n",
       "                   ENSG00000131475.6  -0.046469  2.136647e-01     2.021593e-01  \n",
       "ENSG00000001561.6  ENSG00000086730.16  0.059267  1.116711e-01     1.036914e-01  "
      ]
     },
     "execution_count": 20,
     "metadata": {},
     "output_type": "execute_result"
    }
   ],
   "source": [
    "df_pvalues.head()"
   ]
  },
  {
   "cell_type": "code",
   "execution_count": 21,
   "id": "dd0578c8-1771-4a41-b8f3-194a0cf60e78",
   "metadata": {
    "execution": {
     "iopub.execute_input": "2024-01-03T06:26:49.025297Z",
     "iopub.status.busy": "2024-01-03T06:26:49.024854Z",
     "iopub.status.idle": "2024-01-03T06:26:49.028878Z",
     "shell.execute_reply": "2024-01-03T06:26:49.028364Z"
    },
    "papermill": {
     "duration": 0.01125,
     "end_time": "2024-01-03T06:26:49.029780",
     "exception": false,
     "start_time": "2024-01-03T06:26:49.018530",
     "status": "completed"
    },
    "tags": []
   },
   "outputs": [],
   "source": [
    "# remove duplicated gene pairs\n",
    "df_pvalues = df_pvalues[~df_pvalues.index.duplicated(keep=\"first\")]"
   ]
  },
  {
   "cell_type": "markdown",
   "id": "2599d1eb-a1d2-4b08-b017-ec8bf525aa2a",
   "metadata": {
    "papermill": {
     "duration": 0.005718,
     "end_time": "2024-01-03T06:26:49.041226",
     "exception": false,
     "start_time": "2024-01-03T06:26:49.035508",
     "status": "completed"
    },
    "tags": []
   },
   "source": [
    "**Note**: Here the \"group\" column specifies the categories in Figure 3a, followed by `top_[coef]`, where for the same category I sorted gene pairs by `coef`. This allows me, for instance, to take the gene pairs where Pearson is high and CCC is low, and sort by any of those coefficient values."
   ]
  },
  {
   "cell_type": "markdown",
   "id": "1b373319-185e-47f6-939a-97dd3a936d63",
   "metadata": {
    "papermill": {
     "duration": 0.005838,
     "end_time": "2024-01-03T06:26:49.052914",
     "exception": false,
     "start_time": "2024-01-03T06:26:49.047076",
     "status": "completed"
    },
    "tags": []
   },
   "source": [
    "## Functions"
   ]
  },
  {
   "cell_type": "code",
   "execution_count": 22,
   "id": "caf59565-f1f7-4ae6-9902-76ed8c0201aa",
   "metadata": {
    "execution": {
     "iopub.execute_input": "2024-01-03T06:26:49.065421Z",
     "iopub.status.busy": "2024-01-03T06:26:49.065110Z",
     "iopub.status.idle": "2024-01-03T06:26:49.073265Z",
     "shell.execute_reply": "2024-01-03T06:26:49.072766Z"
    },
    "papermill": {
     "duration": 0.015466,
     "end_time": "2024-01-03T06:26:49.074095",
     "exception": false,
     "start_time": "2024-01-03T06:26:49.058629",
     "status": "completed"
    },
    "tags": []
   },
   "outputs": [],
   "source": [
    "def plot_gene_pair(top_pairs_df, idx, bins=\"log\", plot_gene_ids=True):\n",
    "    \"\"\"\n",
    "    It plots a gene pair using a hexbin plot. The idea of this function is\n",
    "    to quickly have an idea of the patterns (if any) present in a couple genes.\n",
    "\n",
    "    Args:\n",
    "        top_pairs_df: a dataframe with a preselected group of genes pairs (for instance,\n",
    "            those where pearson is high and ccc is low. Each row is a gene pair.\n",
    "            It is the output of function get_gene_pairs.\n",
    "        idx: an integer that indicates which row in top_pairs_df you want to plot.\n",
    "        bins: the \"bins\" parameter of seaborn's jointplot.\n",
    "        plot_gene_ids: it adds genes' Ensembl IDs to the x and y labels.\n",
    "\n",
    "    Returns:\n",
    "        The JointGrid object returned by seaborn.jointplot.\n",
    "    \"\"\"\n",
    "    gene0, gene1 = top_pairs_df.iloc[idx].name\n",
    "    display((gene0, gene1))\n",
    "\n",
    "    gene0_symbol, gene1_symbol = gene_map[gene0], gene_map[gene1]\n",
    "    display((gene0_symbol, gene1_symbol))\n",
    "\n",
    "    _pearson, _pearson_fdr, _spearman, _spearman_fdr, _ccc, _ccc_fdr = top_pairs_df.loc[\n",
    "        (gene0, gene1),\n",
    "        [\"pearson\", \"pearson_fdr\", \"spearman\", \"spearman_fdr\", \"ccc\", \"ccc_fdr\"],\n",
    "    ].tolist()\n",
    "\n",
    "    p = sns.jointplot(\n",
    "        data=gene_expr_df.T,\n",
    "        x=gene0,\n",
    "        y=gene1,\n",
    "        kind=\"hex\",\n",
    "        bins=bins,\n",
    "        # ylim=(0, 500),\n",
    "    )\n",
    "\n",
    "    gene_x_id = p.ax_joint.get_xlabel()\n",
    "    gene_x_symbol = gene_map[gene_x_id]\n",
    "\n",
    "    gene_y_id = p.ax_joint.get_ylabel()\n",
    "    gene_y_symbol = gene_map[gene_y_id]\n",
    "\n",
    "    if plot_gene_ids:\n",
    "        p.ax_joint.set_xlabel(f\"{gene_x_id}\\n{gene_x_symbol}\")\n",
    "        p.ax_joint.set_ylabel(f\"{gene_y_id}\\n{gene_y_symbol}\")\n",
    "    else:\n",
    "        p.ax_joint.set_xlabel(f\"{gene_x_symbol}\", fontstyle=\"italic\")\n",
    "        p.ax_joint.set_ylabel(f\"{gene_y_symbol}\", fontstyle=\"italic\")\n",
    "\n",
    "    _title = f\"$c={_ccc:.2f}$ (${_ccc_fdr:.2e}$)  $p={_pearson:.2f}$ (${_pearson_fdr:.2e}$)    $s={_spearman:.2f}$ (${_spearman_fdr:.2e}$)\"\n",
    "    p.fig.suptitle(_title)\n",
    "\n",
    "    return p"
   ]
  },
  {
   "cell_type": "markdown",
   "id": "5414e2d4-b4c5-48d9-9dd4-d9ff1585f341",
   "metadata": {
    "papermill": {
     "duration": 0.005732,
     "end_time": "2024-01-03T06:26:49.085647",
     "exception": false,
     "start_time": "2024-01-03T06:26:49.079915",
     "status": "completed"
    },
    "tags": []
   },
   "source": [
    "# Analyze current gene pairs in Figure 3b (before manuscript revision)"
   ]
  },
  {
   "cell_type": "markdown",
   "id": "d9e50cd1-a5af-4d46-a7b0-2266626cee96",
   "metadata": {
    "papermill": {
     "duration": 0.005761,
     "end_time": "2024-01-03T06:26:49.097196",
     "exception": false,
     "start_time": "2024-01-03T06:26:49.091435",
     "status": "completed"
    },
    "tags": []
   },
   "source": [
    "Here I look at all the current gene pairs in Figure 3b. We have to decide on whether keep them or remove them.\n",
    "This is bacause after doing the p-value analysis and looking for significant gene pairs across all correlation coefficients, we want to keep some pairs where, for example, CCC is high and significant and Pearson is low but also nonsignificant.\n",
    "Also, if possible and does not affect the conclusions, we want to keep those gene pairs that we are already discussing in the manuscript.\n",
    "\n",
    "Here I look at the current gene pairs, and then I also use notebook `nbs/99_manuscript/coefs_comp/08_05-gtex_whole_blood-intersections_plots.ipynb` to sort gene pairs considering *both* the coefficient value and p-values.\n",
    "I write down here the decision on each gene pair (keep or replace) and the reasons."
   ]
  },
  {
   "cell_type": "markdown",
   "id": "bfc57faf-83ce-4add-8dfb-7b531c2fcdc7",
   "metadata": {
    "papermill": {
     "duration": 0.005814,
     "end_time": "2024-01-03T06:26:49.108855",
     "exception": false,
     "start_time": "2024-01-03T06:26:49.103041",
     "status": "completed"
    },
    "tags": []
   },
   "source": [
    "## IFNG vs SDS"
   ]
  },
  {
   "cell_type": "markdown",
   "id": "42a9d066-aeb7-41d9-a422-dbead08fb42b",
   "metadata": {
    "papermill": {
     "duration": 0.005809,
     "end_time": "2024-01-03T06:26:49.120567",
     "exception": false,
     "start_time": "2024-01-03T06:26:49.114758",
     "status": "completed"
    },
    "tags": []
   },
   "source": [
    "**Decision:** Keep, because:\n",
    "* Very high CCC value, although Pearson is significant also.\n",
    "* *SDS* is a gene with fewer publications than expected, we are mentioning this argument in the manuscript."
   ]
  },
  {
   "cell_type": "code",
   "execution_count": 23,
   "id": "58d0b699-7ecc-4f0a-b6e8-ccf9288658f8",
   "metadata": {
    "execution": {
     "iopub.execute_input": "2024-01-03T06:26:49.132911Z",
     "iopub.status.busy": "2024-01-03T06:26:49.132717Z",
     "iopub.status.idle": "2024-01-03T06:26:49.789972Z",
     "shell.execute_reply": "2024-01-03T06:26:49.789519Z"
    },
    "papermill": {
     "duration": 0.664908,
     "end_time": "2024-01-03T06:26:49.791292",
     "exception": false,
     "start_time": "2024-01-03T06:26:49.126384",
     "status": "completed"
    },
    "tags": []
   },
   "outputs": [
    {
     "data": {
      "text/html": [
       "<div>\n",
       "<style scoped>\n",
       "    .dataframe tbody tr th:only-of-type {\n",
       "        vertical-align: middle;\n",
       "    }\n",
       "\n",
       "    .dataframe tbody tr th {\n",
       "        vertical-align: top;\n",
       "    }\n",
       "\n",
       "    .dataframe thead th {\n",
       "        text-align: right;\n",
       "    }\n",
       "</style>\n",
       "<table border=\"1\" class=\"dataframe\">\n",
       "  <thead>\n",
       "    <tr style=\"text-align: right;\">\n",
       "      <th></th>\n",
       "      <th></th>\n",
       "      <th>group</th>\n",
       "      <th>ccc</th>\n",
       "      <th>ccc_fdr</th>\n",
       "      <th>ccc_pvalue</th>\n",
       "      <th>pearson</th>\n",
       "      <th>pearson_fdr</th>\n",
       "      <th>pearson_pvalue</th>\n",
       "      <th>spearman</th>\n",
       "      <th>spearman_fdr</th>\n",
       "      <th>spearman_pvalue</th>\n",
       "    </tr>\n",
       "    <tr>\n",
       "      <th>gene0</th>\n",
       "      <th>gene1</th>\n",
       "      <th></th>\n",
       "      <th></th>\n",
       "      <th></th>\n",
       "      <th></th>\n",
       "      <th></th>\n",
       "      <th></th>\n",
       "      <th></th>\n",
       "      <th></th>\n",
       "      <th></th>\n",
       "      <th></th>\n",
       "    </tr>\n",
       "  </thead>\n",
       "  <tbody>\n",
       "    <tr>\n",
       "      <th>ENSG00000135094.10</th>\n",
       "      <th>ENSG00000111537.4</th>\n",
       "      <td>ccc_spearman_high_and_pearson_low-top_ccc</td>\n",
       "      <td>0.706993</td>\n",
       "      <td>0.000001</td>\n",
       "      <td>9.999990e-07</td>\n",
       "      <td>0.090451</td>\n",
       "      <td>0.018398</td>\n",
       "      <td>0.012907</td>\n",
       "      <td>0.765177</td>\n",
       "      <td>2.423418e-145</td>\n",
       "      <td>3.793991e-146</td>\n",
       "    </tr>\n",
       "  </tbody>\n",
       "</table>\n",
       "</div>"
      ],
      "text/plain": [
       "                                                                          group  \\\n",
       "gene0              gene1                                                          \n",
       "ENSG00000135094.10 ENSG00000111537.4  ccc_spearman_high_and_pearson_low-top_ccc   \n",
       "\n",
       "                                           ccc   ccc_fdr    ccc_pvalue  \\\n",
       "gene0              gene1                                                 \n",
       "ENSG00000135094.10 ENSG00000111537.4  0.706993  0.000001  9.999990e-07   \n",
       "\n",
       "                                       pearson  pearson_fdr  pearson_pvalue  \\\n",
       "gene0              gene1                                                      \n",
       "ENSG00000135094.10 ENSG00000111537.4  0.090451     0.018398        0.012907   \n",
       "\n",
       "                                      spearman   spearman_fdr  spearman_pvalue  \n",
       "gene0              gene1                                                        \n",
       "ENSG00000135094.10 ENSG00000111537.4  0.765177  2.423418e-145    3.793991e-146  "
      ]
     },
     "metadata": {},
     "output_type": "display_data"
    },
    {
     "data": {
      "text/plain": [
       "('ENSG00000135094.10', 'ENSG00000111537.4')"
      ]
     },
     "metadata": {},
     "output_type": "display_data"
    },
    {
     "data": {
      "text/plain": [
       "('SDS', 'IFNG')"
      ]
     },
     "metadata": {},
     "output_type": "display_data"
    },
    {
     "data": {
      "text/plain": [
       "<seaborn.axisgrid.JointGrid at 0x72d5a4d126d0>"
      ]
     },
     "metadata": {},
     "output_type": "display_data"
    },
    {
     "data": {
      "image/png": "[encoded data removed]",
      "text/plain": [
       "<Figure size 432x432 with 3 Axes>"
      ]
     },
     "metadata": {
      "needs_background": "light"
     },
     "output_type": "display_data"
    }
   ],
   "source": [
    "gene0_id = \"ENSG00000135094.10\"\n",
    "gene1_id = \"ENSG00000111537.4\"\n",
    "\n",
    "_tmp = df_pvalues.loc[[(gene0_id, gene1_id)]]\n",
    "display(_tmp)\n",
    "\n",
    "p = plot_gene_pair(_tmp, 0)\n",
    "display(p)"
   ]
  },
  {
   "cell_type": "markdown",
   "id": "29e6da19-1627-42ee-b229-5ac6c2121010",
   "metadata": {
    "papermill": {
     "duration": 0.011868,
     "end_time": "2024-01-03T06:26:49.815337",
     "exception": false,
     "start_time": "2024-01-03T06:26:49.803469",
     "status": "completed"
    },
    "tags": []
   },
   "source": [
    "## ~JUN vs APOC1~"
   ]
  },
  {
   "cell_type": "markdown",
   "id": "c8da6838-3353-4039-833a-7f3797ae6de6",
   "metadata": {
    "papermill": {
     "duration": 0.011643,
     "end_time": "2024-01-03T06:26:49.838791",
     "exception": false,
     "start_time": "2024-01-03T06:26:49.827148",
     "status": "completed"
    },
    "tags": []
   },
   "source": [
    "**Decision:** Remove and do not replace, because:\n",
    "* Very high CCC value, but Pearson is significant also.\n",
    "* And we do not discuss any of these genes in the manuscript.\n",
    "* And we do not need another example of this category."
   ]
  },
  {
   "cell_type": "code",
   "execution_count": 24,
   "id": "6e16ae59-b443-4fa0-b439-267805ac6d03",
   "metadata": {
    "execution": {
     "iopub.execute_input": "2024-01-03T06:26:49.863433Z",
     "iopub.status.busy": "2024-01-03T06:26:49.863270Z",
     "iopub.status.idle": "2024-01-03T06:26:50.924548Z",
     "shell.execute_reply": "2024-01-03T06:26:50.924149Z"
    },
    "papermill": {
     "duration": 1.075164,
     "end_time": "2024-01-03T06:26:50.925863",
     "exception": false,
     "start_time": "2024-01-03T06:26:49.850699",
     "status": "completed"
    },
    "tags": []
   },
   "outputs": [
    {
     "data": {
      "text/html": [
       "<div>\n",
       "<style scoped>\n",
       "    .dataframe tbody tr th:only-of-type {\n",
       "        vertical-align: middle;\n",
       "    }\n",
       "\n",
       "    .dataframe tbody tr th {\n",
       "        vertical-align: top;\n",
       "    }\n",
       "\n",
       "    .dataframe thead th {\n",
       "        text-align: right;\n",
       "    }\n",
       "</style>\n",
       "<table border=\"1\" class=\"dataframe\">\n",
       "  <thead>\n",
       "    <tr style=\"text-align: right;\">\n",
       "      <th></th>\n",
       "      <th></th>\n",
       "      <th>group</th>\n",
       "      <th>ccc</th>\n",
       "      <th>ccc_fdr</th>\n",
       "      <th>ccc_pvalue</th>\n",
       "      <th>pearson</th>\n",
       "      <th>pearson_fdr</th>\n",
       "      <th>pearson_pvalue</th>\n",
       "      <th>spearman</th>\n",
       "      <th>spearman_fdr</th>\n",
       "      <th>spearman_pvalue</th>\n",
       "    </tr>\n",
       "    <tr>\n",
       "      <th>gene0</th>\n",
       "      <th>gene1</th>\n",
       "      <th></th>\n",
       "      <th></th>\n",
       "      <th></th>\n",
       "      <th></th>\n",
       "      <th></th>\n",
       "      <th></th>\n",
       "      <th></th>\n",
       "      <th></th>\n",
       "      <th></th>\n",
       "      <th></th>\n",
       "    </tr>\n",
       "  </thead>\n",
       "  <tbody>\n",
       "    <tr>\n",
       "      <th>ENSG00000130208.9</th>\n",
       "      <th>ENSG00000177606.6</th>\n",
       "      <td>ccc_spearman_high_and_pearson_low-top_ccc</td>\n",
       "      <td>0.612233</td>\n",
       "      <td>0.000001</td>\n",
       "      <td>9.999990e-07</td>\n",
       "      <td>0.084623</td>\n",
       "      <td>0.027326</td>\n",
       "      <td>0.020044</td>\n",
       "      <td>0.748265</td>\n",
       "      <td>1.466894e-135</td>\n",
       "      <td>2.430887e-136</td>\n",
       "    </tr>\n",
       "  </tbody>\n",
       "</table>\n",
       "</div>"
      ],
      "text/plain": [
       "                                                                         group  \\\n",
       "gene0             gene1                                                          \n",
       "ENSG00000130208.9 ENSG00000177606.6  ccc_spearman_high_and_pearson_low-top_ccc   \n",
       "\n",
       "                                          ccc   ccc_fdr    ccc_pvalue  \\\n",
       "gene0             gene1                                                 \n",
       "ENSG00000130208.9 ENSG00000177606.6  0.612233  0.000001  9.999990e-07   \n",
       "\n",
       "                                      pearson  pearson_fdr  pearson_pvalue  \\\n",
       "gene0             gene1                                                      \n",
       "ENSG00000130208.9 ENSG00000177606.6  0.084623     0.027326        0.020044   \n",
       "\n",
       "                                     spearman   spearman_fdr  spearman_pvalue  \n",
       "gene0             gene1                                                        \n",
       "ENSG00000130208.9 ENSG00000177606.6  0.748265  1.466894e-135    2.430887e-136  "
      ]
     },
     "metadata": {},
     "output_type": "display_data"
    },
    {
     "data": {
      "text/plain": [
       "('ENSG00000130208.9', 'ENSG00000177606.6')"
      ]
     },
     "metadata": {},
     "output_type": "display_data"
    },
    {
     "data": {
      "text/plain": [
       "('APOC1', 'JUN')"
      ]
     },
     "metadata": {},
     "output_type": "display_data"
    },
    {
     "data": {
      "text/plain": [
       "<seaborn.axisgrid.JointGrid at 0x72d67c68e2e0>"
      ]
     },
     "metadata": {},
     "output_type": "display_data"
    },
    {
     "data": {
      "image/png": "[encoded data removed]",
      "text/plain": [
       "<Figure size 432x432 with 3 Axes>"
      ]
     },
     "metadata": {
      "needs_background": "light"
     },
     "output_type": "display_data"
    }
   ],
   "source": [
    "gene0_id = \"ENSG00000130208.9\"\n",
    "gene1_id = \"ENSG00000177606.6\"\n",
    "\n",
    "_tmp = df_pvalues.loc[[(gene0_id, gene1_id)]]\n",
    "display(_tmp)\n",
    "\n",
    "p = plot_gene_pair(_tmp, 0)\n",
    "display(p)"
   ]
  },
  {
   "cell_type": "code",
   "execution_count": 1,
   "id": "abf95820-76fe-4db8-9fdf-2dfe4d68704b",
   "metadata": {
    "papermill": {
     "duration": 1.174699,
     "end_time": "2024-01-03T06:26:52.113761",
     "exception": false,
     "start_time": "2024-01-03T06:26:50.939062",
     "status": "completed"
    },
    "tags": []
   },
   "outputs": [],
   "source": [
    "# Initially, I though in replacing it by LIF vs APOC1\n",
    "\n",
    "# gene0_id = \"ENSG00000130208.9\"\n",
    "# gene1_id = \"ENSG00000128342.4\"\n",
    "\n",
    "# _tmp = df_pvalues.loc[[(gene0_id, gene1_id)]]\n",
    "# display(_tmp)\n",
    "\n",
    "# p = plot_gene_pair(_tmp, 0)\n",
    "# display(p)"
   ]
  },
  {
   "cell_type": "markdown",
   "id": "ab0dfed5-1701-426b-a99c-c8ee1f80ceee",
   "metadata": {
    "papermill": {
     "duration": 0.013626,
     "end_time": "2024-01-03T06:26:52.141445",
     "exception": false,
     "start_time": "2024-01-03T06:26:52.127819",
     "status": "completed"
    },
    "tags": []
   },
   "source": [
    "## ~ZDHHC12 vs CCL18~ CCL18 vs PRSS36"
   ]
  },
  {
   "cell_type": "markdown",
   "id": "5889861a-d8f6-4cd0-8781-94d66ee57df8",
   "metadata": {
    "papermill": {
     "duration": 0.013698,
     "end_time": "2024-01-03T06:26:52.168867",
     "exception": false,
     "start_time": "2024-01-03T06:26:52.155169",
     "status": "completed"
    },
    "tags": []
   },
   "source": [
    "**Decision:** Replace, because:\n",
    "* Significant in all coefficients.\n",
    "* Although we discuss ZDHHC12 as a little studied gene, the ZDHHC family has more studies.\n",
    "* Not strong link of ZDHHC12 to the rest of the network: https://hb.flatironinstitute.org/gene/84885+6362\n",
    "\n",
    "*Replaced by:* CCL18 vs PRSS36\n",
    "\n",
    "* High CCC, low Pearson and not significant, although still significant with Spearman.\n",
    "* Predicted to be expressed in macrophage in GIANT: https://hb.flatironinstitute.org/gene/6362+146547"
   ]
  },
  {
   "cell_type": "code",
   "execution_count": 26,
   "id": "9f861dcd-e758-4344-8a13-5b408ece993e",
   "metadata": {
    "execution": {
     "iopub.execute_input": "2024-01-03T06:26:52.196287Z",
     "iopub.status.busy": "2024-01-03T06:26:52.196184Z",
     "iopub.status.idle": "2024-01-03T06:26:53.175420Z",
     "shell.execute_reply": "2024-01-03T06:26:53.175021Z"
    },
    "papermill": {
     "duration": 0.994106,
     "end_time": "2024-01-03T06:26:53.176693",
     "exception": false,
     "start_time": "2024-01-03T06:26:52.182587",
     "status": "completed"
    },
    "tags": []
   },
   "outputs": [
    {
     "data": {
      "text/html": [
       "<div>\n",
       "<style scoped>\n",
       "    .dataframe tbody tr th:only-of-type {\n",
       "        vertical-align: middle;\n",
       "    }\n",
       "\n",
       "    .dataframe tbody tr th {\n",
       "        vertical-align: top;\n",
       "    }\n",
       "\n",
       "    .dataframe thead th {\n",
       "        text-align: right;\n",
       "    }\n",
       "</style>\n",
       "<table border=\"1\" class=\"dataframe\">\n",
       "  <thead>\n",
       "    <tr style=\"text-align: right;\">\n",
       "      <th></th>\n",
       "      <th></th>\n",
       "      <th>group</th>\n",
       "      <th>ccc</th>\n",
       "      <th>ccc_fdr</th>\n",
       "      <th>ccc_pvalue</th>\n",
       "      <th>pearson</th>\n",
       "      <th>pearson_fdr</th>\n",
       "      <th>pearson_pvalue</th>\n",
       "      <th>spearman</th>\n",
       "      <th>spearman_fdr</th>\n",
       "      <th>spearman_pvalue</th>\n",
       "    </tr>\n",
       "    <tr>\n",
       "      <th>gene0</th>\n",
       "      <th>gene1</th>\n",
       "      <th></th>\n",
       "      <th></th>\n",
       "      <th></th>\n",
       "      <th></th>\n",
       "      <th></th>\n",
       "      <th></th>\n",
       "      <th></th>\n",
       "      <th></th>\n",
       "      <th></th>\n",
       "      <th></th>\n",
       "    </tr>\n",
       "  </thead>\n",
       "  <tbody>\n",
       "    <tr>\n",
       "      <th>ENSG00000275385.1</th>\n",
       "      <th>ENSG00000160446.18</th>\n",
       "      <td>ccc_high_and_pearson_low-top_ccc</td>\n",
       "      <td>0.446659</td>\n",
       "      <td>0.000001</td>\n",
       "      <td>9.999990e-07</td>\n",
       "      <td>-0.099853</td>\n",
       "      <td>0.009325</td>\n",
       "      <td>0.006033</td>\n",
       "      <td>-0.560171</td>\n",
       "      <td>3.237273e-63</td>\n",
       "      <td>1.379070e-63</td>\n",
       "    </tr>\n",
       "  </tbody>\n",
       "</table>\n",
       "</div>"
      ],
      "text/plain": [
       "                                                                 group  \\\n",
       "gene0             gene1                                                  \n",
       "ENSG00000275385.1 ENSG00000160446.18  ccc_high_and_pearson_low-top_ccc   \n",
       "\n",
       "                                           ccc   ccc_fdr    ccc_pvalue  \\\n",
       "gene0             gene1                                                  \n",
       "ENSG00000275385.1 ENSG00000160446.18  0.446659  0.000001  9.999990e-07   \n",
       "\n",
       "                                       pearson  pearson_fdr  pearson_pvalue  \\\n",
       "gene0             gene1                                                       \n",
       "ENSG00000275385.1 ENSG00000160446.18 -0.099853     0.009325        0.006033   \n",
       "\n",
       "                                      spearman  spearman_fdr  spearman_pvalue  \n",
       "gene0             gene1                                                        \n",
       "ENSG00000275385.1 ENSG00000160446.18 -0.560171  3.237273e-63     1.379070e-63  "
      ]
     },
     "metadata": {},
     "output_type": "display_data"
    },
    {
     "data": {
      "text/plain": [
       "('ENSG00000275385.1', 'ENSG00000160446.18')"
      ]
     },
     "metadata": {},
     "output_type": "display_data"
    },
    {
     "data": {
      "text/plain": [
       "('CCL18', 'ZDHHC12')"
      ]
     },
     "metadata": {},
     "output_type": "display_data"
    },
    {
     "data": {
      "text/plain": [
       "<seaborn.axisgrid.JointGrid at 0x72d59cb5b1f0>"
      ]
     },
     "metadata": {},
     "output_type": "display_data"
    },
    {
     "data": {
      "image/png": "[encoded data removed]",
      "text/plain": [
       "<Figure size 432x432 with 3 Axes>"
      ]
     },
     "metadata": {
      "needs_background": "light"
     },
     "output_type": "display_data"
    }
   ],
   "source": [
    "gene0_id = \"ENSG00000275385.1\"\n",
    "gene1_id = \"ENSG00000160446.18\"\n",
    "\n",
    "_tmp = df_pvalues.loc[[(gene0_id, gene1_id)]]\n",
    "display(_tmp)\n",
    "\n",
    "p = plot_gene_pair(_tmp, 0)\n",
    "display(p)"
   ]
  },
  {
   "cell_type": "code",
   "execution_count": 27,
   "id": "aeb7c385-22fa-4209-b392-f5de57a11fbc",
   "metadata": {
    "execution": {
     "iopub.execute_input": "2024-01-03T06:26:53.206877Z",
     "iopub.status.busy": "2024-01-03T06:26:53.206789Z",
     "iopub.status.idle": "2024-01-03T06:26:54.165331Z",
     "shell.execute_reply": "2024-01-03T06:26:54.164900Z"
    },
    "papermill": {
     "duration": 0.975274,
     "end_time": "2024-01-03T06:26:54.166956",
     "exception": false,
     "start_time": "2024-01-03T06:26:53.191682",
     "status": "completed"
    },
    "tags": []
   },
   "outputs": [
    {
     "data": {
      "text/html": [
       "<div>\n",
       "<style scoped>\n",
       "    .dataframe tbody tr th:only-of-type {\n",
       "        vertical-align: middle;\n",
       "    }\n",
       "\n",
       "    .dataframe tbody tr th {\n",
       "        vertical-align: top;\n",
       "    }\n",
       "\n",
       "    .dataframe thead th {\n",
       "        text-align: right;\n",
       "    }\n",
       "</style>\n",
       "<table border=\"1\" class=\"dataframe\">\n",
       "  <thead>\n",
       "    <tr style=\"text-align: right;\">\n",
       "      <th></th>\n",
       "      <th></th>\n",
       "      <th>group</th>\n",
       "      <th>ccc</th>\n",
       "      <th>ccc_fdr</th>\n",
       "      <th>ccc_pvalue</th>\n",
       "      <th>pearson</th>\n",
       "      <th>pearson_fdr</th>\n",
       "      <th>pearson_pvalue</th>\n",
       "      <th>spearman</th>\n",
       "      <th>spearman_fdr</th>\n",
       "      <th>spearman_pvalue</th>\n",
       "    </tr>\n",
       "    <tr>\n",
       "      <th>gene0</th>\n",
       "      <th>gene1</th>\n",
       "      <th></th>\n",
       "      <th></th>\n",
       "      <th></th>\n",
       "      <th></th>\n",
       "      <th></th>\n",
       "      <th></th>\n",
       "      <th></th>\n",
       "      <th></th>\n",
       "      <th></th>\n",
       "      <th></th>\n",
       "    </tr>\n",
       "  </thead>\n",
       "  <tbody>\n",
       "    <tr>\n",
       "      <th>ENSG00000275385.1</th>\n",
       "      <th>ENSG00000178226.10</th>\n",
       "      <td>ccc_high_and_pearson_low-top_ccc</td>\n",
       "      <td>0.40509</td>\n",
       "      <td>0.000001</td>\n",
       "      <td>9.999990e-07</td>\n",
       "      <td>-0.068103</td>\n",
       "      <td>0.075887</td>\n",
       "      <td>0.061434</td>\n",
       "      <td>-0.561804</td>\n",
       "      <td>1.264726e-63</td>\n",
       "      <td>5.024660e-64</td>\n",
       "    </tr>\n",
       "  </tbody>\n",
       "</table>\n",
       "</div>"
      ],
      "text/plain": [
       "                                                                 group  \\\n",
       "gene0             gene1                                                  \n",
       "ENSG00000275385.1 ENSG00000178226.10  ccc_high_and_pearson_low-top_ccc   \n",
       "\n",
       "                                          ccc   ccc_fdr    ccc_pvalue  \\\n",
       "gene0             gene1                                                 \n",
       "ENSG00000275385.1 ENSG00000178226.10  0.40509  0.000001  9.999990e-07   \n",
       "\n",
       "                                       pearson  pearson_fdr  pearson_pvalue  \\\n",
       "gene0             gene1                                                       \n",
       "ENSG00000275385.1 ENSG00000178226.10 -0.068103     0.075887        0.061434   \n",
       "\n",
       "                                      spearman  spearman_fdr  spearman_pvalue  \n",
       "gene0             gene1                                                        \n",
       "ENSG00000275385.1 ENSG00000178226.10 -0.561804  1.264726e-63     5.024660e-64  "
      ]
     },
     "metadata": {},
     "output_type": "display_data"
    },
    {
     "data": {
      "text/plain": [
       "('ENSG00000275385.1', 'ENSG00000178226.10')"
      ]
     },
     "metadata": {},
     "output_type": "display_data"
    },
    {
     "data": {
      "text/plain": [
       "('CCL18', 'PRSS36')"
      ]
     },
     "metadata": {},
     "output_type": "display_data"
    },
    {
     "data": {
      "text/plain": [
       "<seaborn.axisgrid.JointGrid at 0x72d59becea00>"
      ]
     },
     "metadata": {},
     "output_type": "display_data"
    },
    {
     "data": {
      "image/png": "[encoded data removed]",
      "text/plain": [
       "<Figure size 432x432 with 3 Axes>"
      ]
     },
     "metadata": {
      "needs_background": "light"
     },
     "output_type": "display_data"
    }
   ],
   "source": [
    "gene0_id = \"ENSG00000275385.1\"\n",
    "gene1_id = \"ENSG00000178226.10\"\n",
    "\n",
    "_tmp = df_pvalues.loc[[(gene0_id, gene1_id)]]\n",
    "display(_tmp)\n",
    "\n",
    "p = plot_gene_pair(_tmp, 0)\n",
    "display(p)"
   ]
  },
  {
   "cell_type": "markdown",
   "id": "90bbfd8d-7231-4e44-99a6-9ac73381418d",
   "metadata": {
    "papermill": {
     "duration": 0.01679,
     "end_time": "2024-01-03T06:26:54.200490",
     "exception": false,
     "start_time": "2024-01-03T06:26:54.183700",
     "status": "completed"
    },
    "tags": []
   },
   "source": [
    "## UTY vs KDM6A"
   ]
  },
  {
   "cell_type": "markdown",
   "id": "fc99cfb2-aeb9-4f3d-97de-75193b6bc112",
   "metadata": {
    "papermill": {
     "duration": 0.015259,
     "end_time": "2024-01-03T06:26:54.231872",
     "exception": false,
     "start_time": "2024-01-03T06:26:54.216613",
     "status": "completed"
    },
    "tags": []
   },
   "source": [
    "**Decision:** Keep, because:\n",
    "* They are genes in the sex chromosomes.\n",
    "* Figure 4 is about them.\n",
    "* A drawback is that all coefficients are significant. However, in other GTEx tissues (Figure 4) it is possible to see that only CCC captures this pattern consistently."
   ]
  },
  {
   "cell_type": "code",
   "execution_count": 28,
   "id": "b4fed9d8-e6a0-4e11-85e8-75f475df2379",
   "metadata": {
    "execution": {
     "iopub.execute_input": "2024-01-03T06:26:54.254526Z",
     "iopub.status.busy": "2024-01-03T06:26:54.254368Z",
     "iopub.status.idle": "2024-01-03T06:26:54.499399Z",
     "shell.execute_reply": "2024-01-03T06:26:54.499010Z"
    },
    "papermill": {
     "duration": 0.254901,
     "end_time": "2024-01-03T06:26:54.500813",
     "exception": false,
     "start_time": "2024-01-03T06:26:54.245912",
     "status": "completed"
    },
    "tags": []
   },
   "outputs": [
    {
     "data": {
      "text/html": [
       "<div>\n",
       "<style scoped>\n",
       "    .dataframe tbody tr th:only-of-type {\n",
       "        vertical-align: middle;\n",
       "    }\n",
       "\n",
       "    .dataframe tbody tr th {\n",
       "        vertical-align: top;\n",
       "    }\n",
       "\n",
       "    .dataframe thead th {\n",
       "        text-align: right;\n",
       "    }\n",
       "</style>\n",
       "<table border=\"1\" class=\"dataframe\">\n",
       "  <thead>\n",
       "    <tr style=\"text-align: right;\">\n",
       "      <th></th>\n",
       "      <th></th>\n",
       "      <th>group</th>\n",
       "      <th>ccc</th>\n",
       "      <th>ccc_fdr</th>\n",
       "      <th>ccc_pvalue</th>\n",
       "      <th>pearson</th>\n",
       "      <th>pearson_fdr</th>\n",
       "      <th>pearson_pvalue</th>\n",
       "      <th>spearman</th>\n",
       "      <th>spearman_fdr</th>\n",
       "      <th>spearman_pvalue</th>\n",
       "    </tr>\n",
       "    <tr>\n",
       "      <th>gene0</th>\n",
       "      <th>gene1</th>\n",
       "      <th></th>\n",
       "      <th></th>\n",
       "      <th></th>\n",
       "      <th></th>\n",
       "      <th></th>\n",
       "      <th></th>\n",
       "      <th></th>\n",
       "      <th></th>\n",
       "      <th></th>\n",
       "      <th></th>\n",
       "    </tr>\n",
       "  </thead>\n",
       "  <tbody>\n",
       "    <tr>\n",
       "      <th>ENSG00000147050.14</th>\n",
       "      <th>ENSG00000183878.15</th>\n",
       "      <td>ccc_high_and_spearman_low-top_ccc</td>\n",
       "      <td>0.294391</td>\n",
       "      <td>0.000001</td>\n",
       "      <td>9.999990e-07</td>\n",
       "      <td>0.23987</td>\n",
       "      <td>6.547223e-11</td>\n",
       "      <td>2.425885e-11</td>\n",
       "      <td>0.100621</td>\n",
       "      <td>0.006483</td>\n",
       "      <td>0.005653</td>\n",
       "    </tr>\n",
       "  </tbody>\n",
       "</table>\n",
       "</div>"
      ],
      "text/plain": [
       "                                                                   group  \\\n",
       "gene0              gene1                                                   \n",
       "ENSG00000147050.14 ENSG00000183878.15  ccc_high_and_spearman_low-top_ccc   \n",
       "\n",
       "                                            ccc   ccc_fdr    ccc_pvalue  \\\n",
       "gene0              gene1                                                  \n",
       "ENSG00000147050.14 ENSG00000183878.15  0.294391  0.000001  9.999990e-07   \n",
       "\n",
       "                                       pearson   pearson_fdr  pearson_pvalue  \\\n",
       "gene0              gene1                                                       \n",
       "ENSG00000147050.14 ENSG00000183878.15  0.23987  6.547223e-11    2.425885e-11   \n",
       "\n",
       "                                       spearman  spearman_fdr  spearman_pvalue  \n",
       "gene0              gene1                                                        \n",
       "ENSG00000147050.14 ENSG00000183878.15  0.100621      0.006483         0.005653  "
      ]
     },
     "metadata": {},
     "output_type": "display_data"
    },
    {
     "data": {
      "text/plain": [
       "('ENSG00000147050.14', 'ENSG00000183878.15')"
      ]
     },
     "metadata": {},
     "output_type": "display_data"
    },
    {
     "data": {
      "text/plain": [
       "('KDM6A', 'UTY')"
      ]
     },
     "metadata": {},
     "output_type": "display_data"
    },
    {
     "data": {
      "text/plain": [
       "<seaborn.axisgrid.JointGrid at 0x72d59bea3b80>"
      ]
     },
     "metadata": {},
     "output_type": "display_data"
    },
    {
     "data": {
      "image/png": "[encoded data removed]",
      "text/plain": [
       "<Figure size 432x432 with 3 Axes>"
      ]
     },
     "metadata": {
      "needs_background": "light"
     },
     "output_type": "display_data"
    }
   ],
   "source": [
    "gene0_id = \"ENSG00000147050.14\"\n",
    "gene1_id = \"ENSG00000183878.15\"\n",
    "\n",
    "_tmp = df_pvalues.loc[[(gene0_id, gene1_id)]]\n",
    "display(_tmp)\n",
    "\n",
    "p = plot_gene_pair(_tmp, 0)\n",
    "display(p)"
   ]
  },
  {
   "cell_type": "markdown",
   "id": "2bf15520-8c82-49de-852f-1adc4e0d2dd5",
   "metadata": {
    "papermill": {
     "duration": 0.016983,
     "end_time": "2024-01-03T06:26:54.535451",
     "exception": false,
     "start_time": "2024-01-03T06:26:54.518468",
     "status": "completed"
    },
    "tags": []
   },
   "source": [
    "## RASSF2 vs CYTIP + KDM6A vs DDX3Y"
   ]
  },
  {
   "cell_type": "markdown",
   "id": "56f25b2e-346a-41c2-b825-9b5d16cffa3d",
   "metadata": {
    "papermill": {
     "duration": 0.016929,
     "end_time": "2024-01-03T06:26:54.569446",
     "exception": false,
     "start_time": "2024-01-03T06:26:54.552517",
     "status": "completed"
    },
    "tags": []
   },
   "source": [
    "**Decision:** Keep and add another, because:\n",
    "* Nice example of two embedded linear relationships.\n",
    "* Although all coefficients are significant, we can add another example in this category (KDM6A vs DDX3Y) where spearman is not significant.\n",
    "* Predicted to be expressed in leukocytes in GIANT: https://hb.flatironinstitute.org/gene/9770+9595\n",
    "\n",
    "*Add another pair:* KDM6A vs DDX3Y"
   ]
  },
  {
   "cell_type": "code",
   "execution_count": 29,
   "id": "ea8fd2e4-995e-4eb4-92a8-a72ef0c27d67",
   "metadata": {
    "execution": {
     "iopub.execute_input": "2024-01-03T06:26:54.588826Z",
     "iopub.status.busy": "2024-01-03T06:26:54.588530Z",
     "iopub.status.idle": "2024-01-03T06:26:54.849251Z",
     "shell.execute_reply": "2024-01-03T06:26:54.848860Z"
    },
    "papermill": {
     "duration": 0.271207,
     "end_time": "2024-01-03T06:26:54.850634",
     "exception": false,
     "start_time": "2024-01-03T06:26:54.579427",
     "status": "completed"
    },
    "tags": []
   },
   "outputs": [
    {
     "data": {
      "text/html": [
       "<div>\n",
       "<style scoped>\n",
       "    .dataframe tbody tr th:only-of-type {\n",
       "        vertical-align: middle;\n",
       "    }\n",
       "\n",
       "    .dataframe tbody tr th {\n",
       "        vertical-align: top;\n",
       "    }\n",
       "\n",
       "    .dataframe thead th {\n",
       "        text-align: right;\n",
       "    }\n",
       "</style>\n",
       "<table border=\"1\" class=\"dataframe\">\n",
       "  <thead>\n",
       "    <tr style=\"text-align: right;\">\n",
       "      <th></th>\n",
       "      <th></th>\n",
       "      <th>group</th>\n",
       "      <th>ccc</th>\n",
       "      <th>ccc_fdr</th>\n",
       "      <th>ccc_pvalue</th>\n",
       "      <th>pearson</th>\n",
       "      <th>pearson_fdr</th>\n",
       "      <th>pearson_pvalue</th>\n",
       "      <th>spearman</th>\n",
       "      <th>spearman_fdr</th>\n",
       "      <th>spearman_pvalue</th>\n",
       "    </tr>\n",
       "    <tr>\n",
       "      <th>gene0</th>\n",
       "      <th>gene1</th>\n",
       "      <th></th>\n",
       "      <th></th>\n",
       "      <th></th>\n",
       "      <th></th>\n",
       "      <th></th>\n",
       "      <th></th>\n",
       "      <th></th>\n",
       "      <th></th>\n",
       "      <th></th>\n",
       "      <th></th>\n",
       "    </tr>\n",
       "  </thead>\n",
       "  <tbody>\n",
       "    <tr>\n",
       "      <th>ENSG00000115165.9</th>\n",
       "      <th>ENSG00000101265.15</th>\n",
       "      <td>ccc_high_and_spearman_low-top_ccc</td>\n",
       "      <td>0.201962</td>\n",
       "      <td>0.000001</td>\n",
       "      <td>9.999990e-07</td>\n",
       "      <td>-0.15606</td>\n",
       "      <td>0.000043</td>\n",
       "      <td>0.000017</td>\n",
       "      <td>-0.107882</td>\n",
       "      <td>0.00347</td>\n",
       "      <td>0.002997</td>\n",
       "    </tr>\n",
       "  </tbody>\n",
       "</table>\n",
       "</div>"
      ],
      "text/plain": [
       "                                                                  group  \\\n",
       "gene0             gene1                                                   \n",
       "ENSG00000115165.9 ENSG00000101265.15  ccc_high_and_spearman_low-top_ccc   \n",
       "\n",
       "                                           ccc   ccc_fdr    ccc_pvalue  \\\n",
       "gene0             gene1                                                  \n",
       "ENSG00000115165.9 ENSG00000101265.15  0.201962  0.000001  9.999990e-07   \n",
       "\n",
       "                                      pearson  pearson_fdr  pearson_pvalue  \\\n",
       "gene0             gene1                                                      \n",
       "ENSG00000115165.9 ENSG00000101265.15 -0.15606     0.000043        0.000017   \n",
       "\n",
       "                                      spearman  spearman_fdr  spearman_pvalue  \n",
       "gene0             gene1                                                        \n",
       "ENSG00000115165.9 ENSG00000101265.15 -0.107882       0.00347         0.002997  "
      ]
     },
     "metadata": {},
     "output_type": "display_data"
    },
    {
     "data": {
      "text/plain": [
       "('ENSG00000115165.9', 'ENSG00000101265.15')"
      ]
     },
     "metadata": {},
     "output_type": "display_data"
    },
    {
     "data": {
      "text/plain": [
       "('CYTIP', 'RASSF2')"
      ]
     },
     "metadata": {},
     "output_type": "display_data"
    },
    {
     "data": {
      "text/plain": [
       "<seaborn.axisgrid.JointGrid at 0x72d59c87a0d0>"
      ]
     },
     "metadata": {},
     "output_type": "display_data"
    },
    {
     "data": {
      "image/png": "[encoded data removed]",
      "text/plain": [
       "<Figure size 432x432 with 3 Axes>"
      ]
     },
     "metadata": {
      "needs_background": "light"
     },
     "output_type": "display_data"
    }
   ],
   "source": [
    "gene0_id = \"ENSG00000115165.9\"\n",
    "gene1_id = \"ENSG00000101265.15\"\n",
    "\n",
    "_tmp = df_pvalues.loc[[(gene0_id, gene1_id)]]\n",
    "display(_tmp)\n",
    "\n",
    "p = plot_gene_pair(_tmp, 0)\n",
    "display(p)"
   ]
  },
  {
   "cell_type": "code",
   "execution_count": 30,
   "id": "bae73829-5667-48a0-b85f-edca96b4155d",
   "metadata": {
    "execution": {
     "iopub.execute_input": "2024-01-03T06:26:54.889107Z",
     "iopub.status.busy": "2024-01-03T06:26:54.889010Z",
     "iopub.status.idle": "2024-01-03T06:26:55.147337Z",
     "shell.execute_reply": "2024-01-03T06:26:55.146946Z"
    },
    "papermill": {
     "duration": 0.278792,
     "end_time": "2024-01-03T06:26:55.148664",
     "exception": false,
     "start_time": "2024-01-03T06:26:54.869872",
     "status": "completed"
    },
    "tags": []
   },
   "outputs": [
    {
     "data": {
      "text/html": [
       "<div>\n",
       "<style scoped>\n",
       "    .dataframe tbody tr th:only-of-type {\n",
       "        vertical-align: middle;\n",
       "    }\n",
       "\n",
       "    .dataframe tbody tr th {\n",
       "        vertical-align: top;\n",
       "    }\n",
       "\n",
       "    .dataframe thead th {\n",
       "        text-align: right;\n",
       "    }\n",
       "</style>\n",
       "<table border=\"1\" class=\"dataframe\">\n",
       "  <thead>\n",
       "    <tr style=\"text-align: right;\">\n",
       "      <th></th>\n",
       "      <th></th>\n",
       "      <th>group</th>\n",
       "      <th>ccc</th>\n",
       "      <th>ccc_fdr</th>\n",
       "      <th>ccc_pvalue</th>\n",
       "      <th>pearson</th>\n",
       "      <th>pearson_fdr</th>\n",
       "      <th>pearson_pvalue</th>\n",
       "      <th>spearman</th>\n",
       "      <th>spearman_fdr</th>\n",
       "      <th>spearman_pvalue</th>\n",
       "    </tr>\n",
       "    <tr>\n",
       "      <th>gene0</th>\n",
       "      <th>gene1</th>\n",
       "      <th></th>\n",
       "      <th></th>\n",
       "      <th></th>\n",
       "      <th></th>\n",
       "      <th></th>\n",
       "      <th></th>\n",
       "      <th></th>\n",
       "      <th></th>\n",
       "      <th></th>\n",
       "      <th></th>\n",
       "    </tr>\n",
       "  </thead>\n",
       "  <tbody>\n",
       "    <tr>\n",
       "      <th>ENSG00000147050.14</th>\n",
       "      <th>ENSG00000067048.16</th>\n",
       "      <td>ccc_high_and_spearman_low-top_ccc</td>\n",
       "      <td>0.193557</td>\n",
       "      <td>0.000001</td>\n",
       "      <td>9.999990e-07</td>\n",
       "      <td>0.237462</td>\n",
       "      <td>1.045469e-10</td>\n",
       "      <td>3.875814e-11</td>\n",
       "      <td>0.03535</td>\n",
       "      <td>0.346752</td>\n",
       "      <td>0.332033</td>\n",
       "    </tr>\n",
       "  </tbody>\n",
       "</table>\n",
       "</div>"
      ],
      "text/plain": [
       "                                                                   group  \\\n",
       "gene0              gene1                                                   \n",
       "ENSG00000147050.14 ENSG00000067048.16  ccc_high_and_spearman_low-top_ccc   \n",
       "\n",
       "                                            ccc   ccc_fdr    ccc_pvalue  \\\n",
       "gene0              gene1                                                  \n",
       "ENSG00000147050.14 ENSG00000067048.16  0.193557  0.000001  9.999990e-07   \n",
       "\n",
       "                                        pearson   pearson_fdr  pearson_pvalue  \\\n",
       "gene0              gene1                                                        \n",
       "ENSG00000147050.14 ENSG00000067048.16  0.237462  1.045469e-10    3.875814e-11   \n",
       "\n",
       "                                       spearman  spearman_fdr  spearman_pvalue  \n",
       "gene0              gene1                                                        \n",
       "ENSG00000147050.14 ENSG00000067048.16   0.03535      0.346752         0.332033  "
      ]
     },
     "metadata": {},
     "output_type": "display_data"
    },
    {
     "data": {
      "text/plain": [
       "('ENSG00000147050.14', 'ENSG00000067048.16')"
      ]
     },
     "metadata": {},
     "output_type": "display_data"
    },
    {
     "data": {
      "text/plain": [
       "('KDM6A', 'DDX3Y')"
      ]
     },
     "metadata": {},
     "output_type": "display_data"
    },
    {
     "data": {
      "text/plain": [
       "<seaborn.axisgrid.JointGrid at 0x72d5a4c6ae50>"
      ]
     },
     "metadata": {},
     "output_type": "display_data"
    },
    {
     "data": {
      "image/png": "[encoded data removed]",
      "text/plain": [
       "<Figure size 432x432 with 3 Axes>"
      ]
     },
     "metadata": {
      "needs_background": "light"
     },
     "output_type": "display_data"
    }
   ],
   "source": [
    "gene0_id = \"ENSG00000147050.14\"\n",
    "gene1_id = \"ENSG00000067048.16\"\n",
    "\n",
    "_tmp = df_pvalues.loc[[(gene0_id, gene1_id)]]\n",
    "display(_tmp)\n",
    "\n",
    "p = plot_gene_pair(_tmp, 0)\n",
    "display(p)"
   ]
  },
  {
   "cell_type": "markdown",
   "id": "612bd060-20e3-4d9a-a6f2-3b553e33cf3d",
   "metadata": {
    "papermill": {
     "duration": 0.019597,
     "end_time": "2024-01-03T06:26:55.188776",
     "exception": false,
     "start_time": "2024-01-03T06:26:55.169179",
     "status": "completed"
    },
    "tags": []
   },
   "source": [
    "## AC068580.6 vs KLHL21"
   ]
  },
  {
   "cell_type": "markdown",
   "id": "6eabf099-7356-42eb-b4e2-5c54f3acef54",
   "metadata": {
    "papermill": {
     "duration": 0.019375,
     "end_time": "2024-01-03T06:26:55.228219",
     "exception": false,
     "start_time": "2024-01-03T06:26:55.208844",
     "status": "completed"
    },
    "tags": []
   },
   "source": [
    "**Decision:** Keep, because:\n",
    "* We already talk about this gene pair in the text (about KLHL21).\n",
    "* Pearson is not significant.\n",
    "* Although spearman is significant, all the other gene pairs in this category are also significant in Spearman. The other gene pair that is less significant for Spearman is C17orf53 vs TPX2 (but not worth replacing).\n",
    "* Predicted to be expressed in XXX in GIANT: URL_HERE"
   ]
  },
  {
   "cell_type": "code",
   "execution_count": 31,
   "id": "bf7b0fd7-0170-4363-bb3d-9e9d1ed5af2c",
   "metadata": {
    "execution": {
     "iopub.execute_input": "2024-01-03T06:26:55.248840Z",
     "iopub.status.busy": "2024-01-03T06:26:55.248699Z",
     "iopub.status.idle": "2024-01-03T06:26:55.656890Z",
     "shell.execute_reply": "2024-01-03T06:26:55.656467Z"
    },
    "papermill": {
     "duration": 0.419789,
     "end_time": "2024-01-03T06:26:55.658225",
     "exception": false,
     "start_time": "2024-01-03T06:26:55.238436",
     "status": "completed"
    },
    "tags": []
   },
   "outputs": [
    {
     "data": {
      "text/html": [
       "<div>\n",
       "<style scoped>\n",
       "    .dataframe tbody tr th:only-of-type {\n",
       "        vertical-align: middle;\n",
       "    }\n",
       "\n",
       "    .dataframe tbody tr th {\n",
       "        vertical-align: top;\n",
       "    }\n",
       "\n",
       "    .dataframe thead th {\n",
       "        text-align: right;\n",
       "    }\n",
       "</style>\n",
       "<table border=\"1\" class=\"dataframe\">\n",
       "  <thead>\n",
       "    <tr style=\"text-align: right;\">\n",
       "      <th></th>\n",
       "      <th></th>\n",
       "      <th>group</th>\n",
       "      <th>ccc</th>\n",
       "      <th>ccc_fdr</th>\n",
       "      <th>ccc_pvalue</th>\n",
       "      <th>pearson</th>\n",
       "      <th>pearson_fdr</th>\n",
       "      <th>pearson_pvalue</th>\n",
       "      <th>spearman</th>\n",
       "      <th>spearman_fdr</th>\n",
       "      <th>spearman_pvalue</th>\n",
       "    </tr>\n",
       "    <tr>\n",
       "      <th>gene0</th>\n",
       "      <th>gene1</th>\n",
       "      <th></th>\n",
       "      <th></th>\n",
       "      <th></th>\n",
       "      <th></th>\n",
       "      <th></th>\n",
       "      <th></th>\n",
       "      <th></th>\n",
       "      <th></th>\n",
       "      <th></th>\n",
       "      <th></th>\n",
       "    </tr>\n",
       "  </thead>\n",
       "  <tbody>\n",
       "    <tr>\n",
       "      <th>ENSG00000162413.16</th>\n",
       "      <th>ENSG00000235027.1</th>\n",
       "      <td>ccc_high_and_spearman_pearson_low-top_ccc</td>\n",
       "      <td>0.184217</td>\n",
       "      <td>0.000001</td>\n",
       "      <td>9.999990e-07</td>\n",
       "      <td>0.062875</td>\n",
       "      <td>0.101362</td>\n",
       "      <td>0.084264</td>\n",
       "      <td>-0.186421</td>\n",
       "      <td>3.193013e-07</td>\n",
       "      <td>2.480890e-07</td>\n",
       "    </tr>\n",
       "  </tbody>\n",
       "</table>\n",
       "</div>"
      ],
      "text/plain": [
       "                                                                          group  \\\n",
       "gene0              gene1                                                          \n",
       "ENSG00000162413.16 ENSG00000235027.1  ccc_high_and_spearman_pearson_low-top_ccc   \n",
       "\n",
       "                                           ccc   ccc_fdr    ccc_pvalue  \\\n",
       "gene0              gene1                                                 \n",
       "ENSG00000162413.16 ENSG00000235027.1  0.184217  0.000001  9.999990e-07   \n",
       "\n",
       "                                       pearson  pearson_fdr  pearson_pvalue  \\\n",
       "gene0              gene1                                                      \n",
       "ENSG00000162413.16 ENSG00000235027.1  0.062875     0.101362        0.084264   \n",
       "\n",
       "                                      spearman  spearman_fdr  spearman_pvalue  \n",
       "gene0              gene1                                                       \n",
       "ENSG00000162413.16 ENSG00000235027.1 -0.186421  3.193013e-07     2.480890e-07  "
      ]
     },
     "metadata": {},
     "output_type": "display_data"
    },
    {
     "data": {
      "text/plain": [
       "('ENSG00000162413.16', 'ENSG00000235027.1')"
      ]
     },
     "metadata": {},
     "output_type": "display_data"
    },
    {
     "data": {
      "text/plain": [
       "('KLHL21', 'AC068580.6')"
      ]
     },
     "metadata": {},
     "output_type": "display_data"
    },
    {
     "data": {
      "text/plain": [
       "<seaborn.axisgrid.JointGrid at 0x72d59c8a3fd0>"
      ]
     },
     "metadata": {},
     "output_type": "display_data"
    },
    {
     "data": {
      "image/png": "[encoded data removed]",
      "text/plain": [
       "<Figure size 432x432 with 3 Axes>"
      ]
     },
     "metadata": {
      "needs_background": "light"
     },
     "output_type": "display_data"
    }
   ],
   "source": [
    "gene0_id = \"ENSG00000162413.16\"\n",
    "gene1_id = \"ENSG00000235027.1\"\n",
    "\n",
    "_tmp = df_pvalues.loc[[(gene0_id, gene1_id)]]\n",
    "display(_tmp)\n",
    "\n",
    "p = plot_gene_pair(_tmp, 0)\n",
    "display(p)"
   ]
  },
  {
   "cell_type": "markdown",
   "id": "ca70636b-70ab-42c9-bdce-925a51640f49",
   "metadata": {
    "papermill": {
     "duration": 0.020798,
     "end_time": "2024-01-03T06:26:55.700404",
     "exception": false,
     "start_time": "2024-01-03T06:26:55.679606",
     "status": "completed"
    },
    "tags": []
   },
   "source": [
    "## MYOZ1 vs TNNI2"
   ]
  },
  {
   "cell_type": "markdown",
   "id": "4410d9e6-b3ad-4080-8ceb-b06046fa077b",
   "metadata": {
    "papermill": {
     "duration": 0.013807,
     "end_time": "2024-01-03T06:26:55.734486",
     "exception": false,
     "start_time": "2024-01-03T06:26:55.720679",
     "status": "completed"
    },
    "tags": []
   },
   "source": [
    "**Decision:** Keep, because:\n",
    "* We are already analyzing these gene pair: it's included in Figure 5.\n",
    "* Pearson value is very high.\n",
    "* However, all other coefficients are significant.\n",
    "* Predicted to be expressed in skeletal muscle in GIANT: https://hb.flatironinstitute.org/gene/58529+7136"
   ]
  },
  {
   "cell_type": "code",
   "execution_count": 32,
   "id": "f5f08abc-e439-4601-9c88-411e90c9929c",
   "metadata": {
    "execution": {
     "iopub.execute_input": "2024-01-03T06:26:55.755899Z",
     "iopub.status.busy": "2024-01-03T06:26:55.755722Z",
     "iopub.status.idle": "2024-01-03T06:26:59.353022Z",
     "shell.execute_reply": "2024-01-03T06:26:59.352605Z"
    },
    "papermill": {
     "duration": 3.60967,
     "end_time": "2024-01-03T06:26:59.354420",
     "exception": false,
     "start_time": "2024-01-03T06:26:55.744750",
     "status": "completed"
    },
    "tags": []
   },
   "outputs": [
    {
     "data": {
      "text/html": [
       "<div>\n",
       "<style scoped>\n",
       "    .dataframe tbody tr th:only-of-type {\n",
       "        vertical-align: middle;\n",
       "    }\n",
       "\n",
       "    .dataframe tbody tr th {\n",
       "        vertical-align: top;\n",
       "    }\n",
       "\n",
       "    .dataframe thead th {\n",
       "        text-align: right;\n",
       "    }\n",
       "</style>\n",
       "<table border=\"1\" class=\"dataframe\">\n",
       "  <thead>\n",
       "    <tr style=\"text-align: right;\">\n",
       "      <th></th>\n",
       "      <th></th>\n",
       "      <th>group</th>\n",
       "      <th>ccc</th>\n",
       "      <th>ccc_fdr</th>\n",
       "      <th>ccc_pvalue</th>\n",
       "      <th>pearson</th>\n",
       "      <th>pearson_fdr</th>\n",
       "      <th>pearson_pvalue</th>\n",
       "      <th>spearman</th>\n",
       "      <th>spearman_fdr</th>\n",
       "      <th>spearman_pvalue</th>\n",
       "    </tr>\n",
       "    <tr>\n",
       "      <th>gene0</th>\n",
       "      <th>gene1</th>\n",
       "      <th></th>\n",
       "      <th></th>\n",
       "      <th></th>\n",
       "      <th></th>\n",
       "      <th></th>\n",
       "      <th></th>\n",
       "      <th></th>\n",
       "      <th></th>\n",
       "      <th></th>\n",
       "      <th></th>\n",
       "    </tr>\n",
       "  </thead>\n",
       "  <tbody>\n",
       "    <tr>\n",
       "      <th>ENSG00000130598.15</th>\n",
       "      <th>ENSG00000177791.11</th>\n",
       "      <td>pearson_high_and_ccc_low-top_ccc</td>\n",
       "      <td>0.034593</td>\n",
       "      <td>0.000001</td>\n",
       "      <td>9.999990e-07</td>\n",
       "      <td>0.967834</td>\n",
       "      <td>0.0</td>\n",
       "      <td>0.0</td>\n",
       "      <td>0.284206</td>\n",
       "      <td>2.583831e-15</td>\n",
       "      <td>1.706422e-15</td>\n",
       "    </tr>\n",
       "  </tbody>\n",
       "</table>\n",
       "</div>"
      ],
      "text/plain": [
       "                                                                  group  \\\n",
       "gene0              gene1                                                  \n",
       "ENSG00000130598.15 ENSG00000177791.11  pearson_high_and_ccc_low-top_ccc   \n",
       "\n",
       "                                            ccc   ccc_fdr    ccc_pvalue  \\\n",
       "gene0              gene1                                                  \n",
       "ENSG00000130598.15 ENSG00000177791.11  0.034593  0.000001  9.999990e-07   \n",
       "\n",
       "                                        pearson  pearson_fdr  pearson_pvalue  \\\n",
       "gene0              gene1                                                       \n",
       "ENSG00000130598.15 ENSG00000177791.11  0.967834          0.0             0.0   \n",
       "\n",
       "                                       spearman  spearman_fdr  spearman_pvalue  \n",
       "gene0              gene1                                                        \n",
       "ENSG00000130598.15 ENSG00000177791.11  0.284206  2.583831e-15     1.706422e-15  "
      ]
     },
     "metadata": {},
     "output_type": "display_data"
    },
    {
     "data": {
      "text/plain": [
       "('ENSG00000130598.15', 'ENSG00000177791.11')"
      ]
     },
     "metadata": {},
     "output_type": "display_data"
    },
    {
     "data": {
      "text/plain": [
       "('TNNI2', 'MYOZ1')"
      ]
     },
     "metadata": {},
     "output_type": "display_data"
    },
    {
     "data": {
      "text/plain": [
       "<seaborn.axisgrid.JointGrid at 0x72d59bd342e0>"
      ]
     },
     "metadata": {},
     "output_type": "display_data"
    },
    {
     "data": {
      "image/png": "[encoded data removed]",
      "text/plain": [
       "<Figure size 432x432 with 3 Axes>"
      ]
     },
     "metadata": {
      "needs_background": "light"
     },
     "output_type": "display_data"
    }
   ],
   "source": [
    "gene0_id = \"ENSG00000130598.15\"\n",
    "gene1_id = \"ENSG00000177791.11\"\n",
    "\n",
    "_tmp = df_pvalues.loc[[(gene0_id, gene1_id)]]\n",
    "display(_tmp)\n",
    "\n",
    "p = plot_gene_pair(_tmp, 0)\n",
    "display(p)"
   ]
  },
  {
   "cell_type": "markdown",
   "id": "cc7f8a7a-d768-4470-a996-2d38687074df",
   "metadata": {
    "papermill": {
     "duration": 0.023596,
     "end_time": "2024-01-03T06:26:59.400313",
     "exception": false,
     "start_time": "2024-01-03T06:26:59.376717",
     "status": "completed"
    },
    "tags": []
   },
   "source": [
    "## ~PYGM vs TPM2~ C19orf33 vs SCGB3A1"
   ]
  },
  {
   "cell_type": "markdown",
   "id": "cfade976-da3d-4d12-b3fe-1a42f493f6df",
   "metadata": {
    "papermill": {
     "duration": 0.010724,
     "end_time": "2024-01-03T06:26:59.432548",
     "exception": false,
     "start_time": "2024-01-03T06:26:59.421824",
     "status": "completed"
    },
    "tags": []
   },
   "source": [
    "**Decision:** Replace, because:\n",
    "* It's significant in all coefficients.\n",
    "* Predicted to be expressed in skeletal muscle in GIANT: https://hb.flatironinstitute.org/gene/5837+7169\n",
    "\n",
    "*Replaced by:* C19orf33 vs SCGB3A1:\n",
    "* Only significant in Pearson\n",
    "* Predicted to be expressed in the placenta in GIANT: https://hb.flatironinstitute.org/gene/64073+92304"
   ]
  },
  {
   "cell_type": "code",
   "execution_count": 33,
   "id": "8e77566d-d2a9-48ee-a659-026053f2fed9",
   "metadata": {
    "execution": {
     "iopub.execute_input": "2024-01-03T06:26:59.455153Z",
     "iopub.status.busy": "2024-01-03T06:26:59.454968Z",
     "iopub.status.idle": "2024-01-03T06:27:00.476174Z",
     "shell.execute_reply": "2024-01-03T06:27:00.475778Z"
    },
    "papermill": {
     "duration": 1.034067,
     "end_time": "2024-01-03T06:27:00.477527",
     "exception": false,
     "start_time": "2024-01-03T06:26:59.443460",
     "status": "completed"
    },
    "tags": []
   },
   "outputs": [
    {
     "data": {
      "text/html": [
       "<div>\n",
       "<style scoped>\n",
       "    .dataframe tbody tr th:only-of-type {\n",
       "        vertical-align: middle;\n",
       "    }\n",
       "\n",
       "    .dataframe tbody tr th {\n",
       "        vertical-align: top;\n",
       "    }\n",
       "\n",
       "    .dataframe thead th {\n",
       "        text-align: right;\n",
       "    }\n",
       "</style>\n",
       "<table border=\"1\" class=\"dataframe\">\n",
       "  <thead>\n",
       "    <tr style=\"text-align: right;\">\n",
       "      <th></th>\n",
       "      <th></th>\n",
       "      <th>group</th>\n",
       "      <th>ccc</th>\n",
       "      <th>ccc_fdr</th>\n",
       "      <th>ccc_pvalue</th>\n",
       "      <th>pearson</th>\n",
       "      <th>pearson_fdr</th>\n",
       "      <th>pearson_pvalue</th>\n",
       "      <th>spearman</th>\n",
       "      <th>spearman_fdr</th>\n",
       "      <th>spearman_pvalue</th>\n",
       "    </tr>\n",
       "    <tr>\n",
       "      <th>gene0</th>\n",
       "      <th>gene1</th>\n",
       "      <th></th>\n",
       "      <th></th>\n",
       "      <th></th>\n",
       "      <th></th>\n",
       "      <th></th>\n",
       "      <th></th>\n",
       "      <th></th>\n",
       "      <th></th>\n",
       "      <th></th>\n",
       "      <th></th>\n",
       "    </tr>\n",
       "  </thead>\n",
       "  <tbody>\n",
       "    <tr>\n",
       "      <th>ENSG00000198467.13</th>\n",
       "      <th>ENSG00000068976.13</th>\n",
       "      <td>pearson_high_and_ccc_spearman_low-top_ccc</td>\n",
       "      <td>0.034912</td>\n",
       "      <td>0.000001</td>\n",
       "      <td>9.999990e-07</td>\n",
       "      <td>0.94443</td>\n",
       "      <td>0.0</td>\n",
       "      <td>0.0</td>\n",
       "      <td>0.029852</td>\n",
       "      <td>0.42768</td>\n",
       "      <td>0.412748</td>\n",
       "    </tr>\n",
       "  </tbody>\n",
       "</table>\n",
       "</div>"
      ],
      "text/plain": [
       "                                                                           group  \\\n",
       "gene0              gene1                                                           \n",
       "ENSG00000198467.13 ENSG00000068976.13  pearson_high_and_ccc_spearman_low-top_ccc   \n",
       "\n",
       "                                            ccc   ccc_fdr    ccc_pvalue  \\\n",
       "gene0              gene1                                                  \n",
       "ENSG00000198467.13 ENSG00000068976.13  0.034912  0.000001  9.999990e-07   \n",
       "\n",
       "                                       pearson  pearson_fdr  pearson_pvalue  \\\n",
       "gene0              gene1                                                      \n",
       "ENSG00000198467.13 ENSG00000068976.13  0.94443          0.0             0.0   \n",
       "\n",
       "                                       spearman  spearman_fdr  spearman_pvalue  \n",
       "gene0              gene1                                                        \n",
       "ENSG00000198467.13 ENSG00000068976.13  0.029852       0.42768         0.412748  "
      ]
     },
     "metadata": {},
     "output_type": "display_data"
    },
    {
     "data": {
      "text/plain": [
       "('ENSG00000198467.13', 'ENSG00000068976.13')"
      ]
     },
     "metadata": {},
     "output_type": "display_data"
    },
    {
     "data": {
      "text/plain": [
       "('TPM2', 'PYGM')"
      ]
     },
     "metadata": {},
     "output_type": "display_data"
    },
    {
     "data": {
      "text/plain": [
       "<seaborn.axisgrid.JointGrid at 0x72d59bb698b0>"
      ]
     },
     "metadata": {},
     "output_type": "display_data"
    },
    {
     "data": {
      "image/png": "[encoded data removed]",
      "text/plain": [
       "<Figure size 432x432 with 3 Axes>"
      ]
     },
     "metadata": {
      "needs_background": "light"
     },
     "output_type": "display_data"
    }
   ],
   "source": [
    "gene0_id = \"ENSG00000198467.13\"\n",
    "gene1_id = \"ENSG00000068976.13\"\n",
    "\n",
    "_tmp = df_pvalues.loc[[(gene0_id, gene1_id)]]\n",
    "display(_tmp)\n",
    "\n",
    "p = plot_gene_pair(_tmp, 0)\n",
    "display(p)"
   ]
  },
  {
   "cell_type": "code",
   "execution_count": 34,
   "id": "31e3e6ec-b606-4124-9773-805cdc61c833",
   "metadata": {
    "execution": {
     "iopub.execute_input": "2024-01-03T06:27:00.523928Z",
     "iopub.status.busy": "2024-01-03T06:27:00.523786Z",
     "iopub.status.idle": "2024-01-03T06:27:08.816519Z",
     "shell.execute_reply": "2024-01-03T06:27:08.816121Z"
    },
    "papermill": {
     "duration": 8.317221,
     "end_time": "2024-01-03T06:27:08.817824",
     "exception": false,
     "start_time": "2024-01-03T06:27:00.500603",
     "status": "completed"
    },
    "tags": []
   },
   "outputs": [
    {
     "data": {
      "text/html": [
       "<div>\n",
       "<style scoped>\n",
       "    .dataframe tbody tr th:only-of-type {\n",
       "        vertical-align: middle;\n",
       "    }\n",
       "\n",
       "    .dataframe tbody tr th {\n",
       "        vertical-align: top;\n",
       "    }\n",
       "\n",
       "    .dataframe thead th {\n",
       "        text-align: right;\n",
       "    }\n",
       "</style>\n",
       "<table border=\"1\" class=\"dataframe\">\n",
       "  <thead>\n",
       "    <tr style=\"text-align: right;\">\n",
       "      <th></th>\n",
       "      <th></th>\n",
       "      <th>group</th>\n",
       "      <th>ccc</th>\n",
       "      <th>ccc_fdr</th>\n",
       "      <th>ccc_pvalue</th>\n",
       "      <th>pearson</th>\n",
       "      <th>pearson_fdr</th>\n",
       "      <th>pearson_pvalue</th>\n",
       "      <th>spearman</th>\n",
       "      <th>spearman_fdr</th>\n",
       "      <th>spearman_pvalue</th>\n",
       "    </tr>\n",
       "    <tr>\n",
       "      <th>gene0</th>\n",
       "      <th>gene1</th>\n",
       "      <th></th>\n",
       "      <th></th>\n",
       "      <th></th>\n",
       "      <th></th>\n",
       "      <th></th>\n",
       "      <th></th>\n",
       "      <th></th>\n",
       "      <th></th>\n",
       "      <th></th>\n",
       "      <th></th>\n",
       "    </tr>\n",
       "  </thead>\n",
       "  <tbody>\n",
       "    <tr>\n",
       "      <th>ENSG00000167644.11</th>\n",
       "      <th>ENSG00000161055.3</th>\n",
       "      <td>pearson_high_and_ccc_spearman_low-top_pearson</td>\n",
       "      <td>0.002391</td>\n",
       "      <td>0.755996</td>\n",
       "      <td>0.755303</td>\n",
       "      <td>0.786861</td>\n",
       "      <td>4.046680e-159</td>\n",
       "      <td>5.260190e-160</td>\n",
       "      <td>0.001743</td>\n",
       "      <td>0.964032</td>\n",
       "      <td>0.961873</td>\n",
       "    </tr>\n",
       "  </tbody>\n",
       "</table>\n",
       "</div>"
      ],
      "text/plain": [
       "                                                                              group  \\\n",
       "gene0              gene1                                                              \n",
       "ENSG00000167644.11 ENSG00000161055.3  pearson_high_and_ccc_spearman_low-top_pearson   \n",
       "\n",
       "                                           ccc   ccc_fdr  ccc_pvalue  \\\n",
       "gene0              gene1                                               \n",
       "ENSG00000167644.11 ENSG00000161055.3  0.002391  0.755996    0.755303   \n",
       "\n",
       "                                       pearson    pearson_fdr  pearson_pvalue  \\\n",
       "gene0              gene1                                                        \n",
       "ENSG00000167644.11 ENSG00000161055.3  0.786861  4.046680e-159   5.260190e-160   \n",
       "\n",
       "                                      spearman  spearman_fdr  spearman_pvalue  \n",
       "gene0              gene1                                                       \n",
       "ENSG00000167644.11 ENSG00000161055.3  0.001743      0.964032         0.961873  "
      ]
     },
     "metadata": {},
     "output_type": "display_data"
    },
    {
     "data": {
      "text/plain": [
       "('ENSG00000167644.11', 'ENSG00000161055.3')"
      ]
     },
     "metadata": {},
     "output_type": "display_data"
    },
    {
     "data": {
      "text/plain": [
       "('C19orf33', 'SCGB3A1')"
      ]
     },
     "metadata": {},
     "output_type": "display_data"
    },
    {
     "data": {
      "text/plain": [
       "<seaborn.axisgrid.JointGrid at 0x72d59cc224f0>"
      ]
     },
     "metadata": {},
     "output_type": "display_data"
    },
    {
     "data": {
      "image/png": "[encoded data removed]",
      "text/plain": [
       "<Figure size 432x432 with 3 Axes>"
      ]
     },
     "metadata": {
      "needs_background": "light"
     },
     "output_type": "display_data"
    }
   ],
   "source": [
    "gene0_id = \"ENSG00000167644.11\"\n",
    "gene1_id = \"ENSG00000161055.3\"\n",
    "\n",
    "_tmp = df_pvalues.loc[[(gene0_id, gene1_id)]]\n",
    "display(_tmp)\n",
    "\n",
    "p = plot_gene_pair(_tmp, 0)\n",
    "display(p)"
   ]
  },
  {
   "cell_type": "code",
   "execution_count": null,
   "id": "46cff789-6c90-42c5-9328-21ee7bd70851",
   "metadata": {
    "papermill": {
     "duration": 0.022193,
     "end_time": "2024-01-03T06:27:08.862951",
     "exception": false,
     "start_time": "2024-01-03T06:27:08.840758",
     "status": "completed"
    },
    "tags": []
   },
   "outputs": [],
   "source": []
  }
 ],
 "metadata": {
  "jupytext": {
   "cell_metadata_filter": "all,-execution,-papermill,-trusted",
   "notebook_metadata_filter": "-jupytext.text_representation.jupytext_version",
   "text_representation": {
    "extension": ".py",
    "format_name": "percent",
    "format_version": "1.3"
   }
  },
  "kernelspec": {
   "display_name": "Python 3 (ipykernel)",
   "language": "python",
   "name": "python3"
  },
  "language_info": {
   "codemirror_mode": {
    "name": "ipython",
    "version": 3
   },
   "file_extension": ".py",
   "mimetype": "text/x-python",
   "name": "python",
   "nbconvert_exporter": "python",
   "pygments_lexer": "ipython3",
   "version": "3.9.12"
  },
  "papermill": {
   "default_parameters": {},
   "duration": 25.362038,
   "end_time": "2024-01-03T06:27:09.704528",
   "environment_variables": {},
   "exception": null,
   "input_path": "nbs/99_manuscript/coefs_comp/05-analyze_significant_pairs.ipynb",
   "output_path": "nbs/99_manuscript/coefs_comp/05-analyze_significant_pairs.run.ipynb",
   "parameters": {},
   "start_time": "2024-01-03T06:26:44.342490",
   "version": "2.3.4"
  }
 },
 "nbformat": 4,
 "nbformat_minor": 5
}
