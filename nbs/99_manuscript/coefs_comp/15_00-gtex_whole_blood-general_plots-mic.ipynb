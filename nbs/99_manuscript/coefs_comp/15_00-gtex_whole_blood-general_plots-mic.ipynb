{
 "cells": [
  {
   "cell_type": "markdown",
   "id": "87e0ce1b-7ce6-4499-9342-5ded05307598",
   "metadata": {
    "papermill": {
     "duration": 0.105156,
     "end_time": "2021-12-21T20:13:36.669733",
     "exception": false,
     "start_time": "2021-12-21T20:13:36.564577",
     "status": "completed"
    },
    "tags": []
   },
   "source": [
    "# Description"
   ]
  },
  {
   "cell_type": "markdown",
   "id": "4bfc7115-350a-441b-9a19-7626a948a694",
   "metadata": {
    "papermill": {
     "duration": 0.077358,
     "end_time": "2021-12-21T20:13:36.824140",
     "exception": false,
     "start_time": "2021-12-21T20:13:36.746782",
     "status": "completed"
    },
    "tags": []
   },
   "source": [
    "It generates different general plots to compare coefficient values from Pearson, Spearman, Clustermatch and Maximal Information Coefficient (MIC), such as their distribution. This notebook focuses on MIC.\n",
    "\n",
    "In `Settings` below, the data set and other options (such as tissue for GTEx) are specified."
   ]
  },
  {
   "cell_type": "markdown",
   "id": "e020c781-238b-43c2-8cad-2722b8a240e2",
   "metadata": {
    "papermill": {
     "duration": 0.078359,
     "end_time": "2021-12-21T20:13:36.980950",
     "exception": false,
     "start_time": "2021-12-21T20:13:36.902591",
     "status": "completed"
    },
    "tags": []
   },
   "source": [
    "# Modules"
   ]
  },
  {
   "cell_type": "code",
   "execution_count": 1,
   "id": "a819bfbc-5009-4c68-ba8d-37d0979d368f",
   "metadata": {
    "papermill": {
     "duration": 1.400218,
     "end_time": "2021-12-21T20:13:38.460171",
     "exception": false,
     "start_time": "2021-12-21T20:13:37.059953",
     "status": "completed"
    },
    "tags": []
   },
   "outputs": [],
   "source": [
    "import pandas as pd\n",
    "from scipy import stats\n",
    "import seaborn as sns\n",
    "\n",
    "from clustermatch.plots import plot_histogram, plot_cumulative_histogram, jointplot\n",
    "from clustermatch import conf"
   ]
  },
  {
   "cell_type": "markdown",
   "id": "b4834387-58ff-468c-b326-85c408bc5feb",
   "metadata": {
    "papermill": {
     "duration": 0.079144,
     "end_time": "2021-12-21T20:13:38.626394",
     "exception": false,
     "start_time": "2021-12-21T20:13:38.547250",
     "status": "completed"
    },
    "tags": []
   },
   "source": [
    "# Settings"
   ]
  },
  {
   "cell_type": "code",
   "execution_count": 2,
   "id": "765e820a-4518-4bbc-a00f-14c9cea03821",
   "metadata": {
    "papermill": {
     "duration": 0.083094,
     "end_time": "2021-12-21T20:13:38.788297",
     "exception": false,
     "start_time": "2021-12-21T20:13:38.705203",
     "status": "completed"
    },
    "tags": []
   },
   "outputs": [],
   "source": [
    "DATASET_CONFIG = conf.GTEX\n",
    "GTEX_TISSUE = \"whole_blood\"\n",
    "GENE_SEL_STRATEGY = \"var_pc_log2\""
   ]
  },
  {
   "cell_type": "code",
   "execution_count": 3,
   "id": "c598102c-b0e9-417b-bfa5-fc55d508fa51",
   "metadata": {
    "papermill": {
     "duration": 0.083667,
     "end_time": "2021-12-21T20:13:38.949957",
     "exception": false,
     "start_time": "2021-12-21T20:13:38.866290",
     "status": "completed"
    },
    "tags": []
   },
   "outputs": [],
   "source": [
    "# this is used for the cumulative histogram\n",
    "GENE_PAIRS_PERCENT = 0.70"
   ]
  },
  {
   "cell_type": "code",
   "execution_count": 4,
   "id": "3a75be6c",
   "metadata": {},
   "outputs": [],
   "source": [
    "CLUSTERMATCH_LABEL = \"CCC\"\n",
    "PEARSON_LABEL = \"Pearson\"\n",
    "SPEARMAN_LABEL = \"Spearman\"\n",
    "MIC_LABEL = \"MIC\""
   ]
  },
  {
   "cell_type": "markdown",
   "id": "a1159982-5dd1-4494-97d4-0674eeead1c3",
   "metadata": {
    "papermill": {
     "duration": 0.077617,
     "end_time": "2021-12-21T20:13:39.105285",
     "exception": false,
     "start_time": "2021-12-21T20:13:39.027668",
     "status": "completed"
    },
    "tags": []
   },
   "source": [
    "# Paths"
   ]
  },
  {
   "cell_type": "code",
   "execution_count": 5,
   "id": "d50e29a6-0e18-4c3d-b933-f21a17abf831",
   "metadata": {
    "papermill": {
     "duration": 0.085709,
     "end_time": "2021-12-21T20:13:39.269702",
     "exception": false,
     "start_time": "2021-12-21T20:13:39.183993",
     "status": "completed"
    },
    "tags": []
   },
   "outputs": [],
   "source": [
    "assert (\n",
    "    conf.MANUSCRIPT[\"BASE_DIR\"] is not None and conf.MANUSCRIPT[\"BASE_DIR\"].exists()\n",
    "), \"Manuscript dir not set\""
   ]
  },
  {
   "cell_type": "code",
   "execution_count": 6,
   "id": "523c6a4e-87ec-44bf-bad3-e912b8aa0482",
   "metadata": {
    "papermill": {
     "duration": 0.086622,
     "end_time": "2021-12-21T20:13:39.436193",
     "exception": false,
     "start_time": "2021-12-21T20:13:39.349571",
     "status": "completed"
    },
    "tags": []
   },
   "outputs": [
    {
     "data": {
      "text/plain": [
       "PosixPath('/opt/manuscript/content/images/coefs_comp/gtex_whole_blood/mic')"
      ]
     },
     "metadata": {},
     "output_type": "display_data"
    }
   ],
   "source": [
    "OUTPUT_FIGURE_DIR = (\n",
    "    conf.MANUSCRIPT[\"FIGURES_DIR\"] / \"coefs_comp\" / f\"gtex_{GTEX_TISSUE}\" / \"mic\"\n",
    ")\n",
    "OUTPUT_FIGURE_DIR.mkdir(parents=True, exist_ok=True)\n",
    "display(OUTPUT_FIGURE_DIR)"
   ]
  },
  {
   "cell_type": "code",
   "execution_count": 7,
   "id": "b2a11c64-76a1-4fdc-898e-fcc2c1aeabb0",
   "metadata": {
    "papermill": {
     "duration": 0.031746,
     "end_time": "2022-01-27T19:06:51.853243",
     "exception": false,
     "start_time": "2022-01-27T19:06:51.821497",
     "status": "completed"
    },
    "tags": []
   },
   "outputs": [
    {
     "data": {
      "text/plain": [
       "PosixPath('/opt/data/results/gtex_v8/comparison_others')"
      ]
     },
     "metadata": {},
     "output_type": "display_data"
    }
   ],
   "source": [
    "COMPARISONS_DIR = DATASET_CONFIG[\"RESULTS_DIR\"] / \"comparison_others\"\n",
    "display(COMPARISONS_DIR)"
   ]
  },
  {
   "cell_type": "code",
   "execution_count": 8,
   "id": "30cce6f5-ca1b-438c-859d-31903a42d4c6",
   "metadata": {
    "papermill": {
     "duration": 0.088947,
     "end_time": "2021-12-21T20:13:39.799072",
     "exception": false,
     "start_time": "2021-12-21T20:13:39.710125",
     "status": "completed"
    },
    "tags": []
   },
   "outputs": [
    {
     "data": {
      "text/plain": [
       "PosixPath('/opt/data/results/gtex_v8/comparison_others/gtex_v8_data_whole_blood-var_pc_log2-all.pkl')"
      ]
     },
     "metadata": {},
     "output_type": "display_data"
    }
   ],
   "source": [
    "INPUT_FILE = COMPARISONS_DIR / f\"gtex_v8_data_{GTEX_TISSUE}-{GENE_SEL_STRATEGY}-all.pkl\"\n",
    "display(INPUT_FILE)\n",
    "\n",
    "assert INPUT_FILE.exists()"
   ]
  },
  {
   "cell_type": "markdown",
   "id": "f6d3322b-c8bb-4fc2-97b6-5bb1793b1577",
   "metadata": {
    "papermill": {
     "duration": 0.090574,
     "end_time": "2021-12-21T20:13:39.974552",
     "exception": false,
     "start_time": "2021-12-21T20:13:39.883978",
     "status": "completed"
    },
    "tags": []
   },
   "source": [
    "# Data"
   ]
  },
  {
   "cell_type": "code",
   "execution_count": 9,
   "id": "da1d768a-fbfb-40e8-8fbb-790d1a94aa83",
   "metadata": {
    "papermill": {
     "duration": 0.535501,
     "end_time": "2021-12-21T20:13:40.599447",
     "exception": false,
     "start_time": "2021-12-21T20:13:40.063946",
     "status": "completed"
    },
    "tags": []
   },
   "outputs": [],
   "source": [
    "corrs_df = pd.read_pickle(INPUT_FILE).rename(\n",
    "    columns={\n",
    "        \"clustermatch\": CLUSTERMATCH_LABEL,\n",
    "        \"pearson\": PEARSON_LABEL,\n",
    "        \"spearman\": SPEARMAN_LABEL,\n",
    "        \"mic\": MIC_LABEL,\n",
    "    }\n",
    ")"
   ]
  },
  {
   "cell_type": "code",
   "execution_count": 10,
   "id": "6123d474-0c0d-4771-9678-248ce89424ce",
   "metadata": {
    "papermill": {
     "duration": 0.090971,
     "end_time": "2021-12-21T20:13:40.778120",
     "exception": false,
     "start_time": "2021-12-21T20:13:40.687149",
     "status": "completed"
    },
    "tags": []
   },
   "outputs": [
    {
     "data": {
      "text/plain": [
       "(100000, 5)"
      ]
     },
     "execution_count": 10,
     "metadata": {},
     "output_type": "execute_result"
    }
   ],
   "source": [
    "corrs_df.shape"
   ]
  },
  {
   "cell_type": "code",
   "execution_count": 11,
   "id": "b028abd8-c5b1-48c2-aa5e-cb1b49c943a4",
   "metadata": {
    "papermill": {
     "duration": 0.099671,
     "end_time": "2021-12-21T20:13:40.964649",
     "exception": false,
     "start_time": "2021-12-21T20:13:40.864978",
     "status": "completed"
    },
    "tags": []
   },
   "outputs": [
    {
     "data": {
      "text/html": [
       "<div>\n",
       "<style scoped>\n",
       "    .dataframe tbody tr th:only-of-type {\n",
       "        vertical-align: middle;\n",
       "    }\n",
       "\n",
       "    .dataframe tbody tr th {\n",
       "        vertical-align: top;\n",
       "    }\n",
       "\n",
       "    .dataframe thead th {\n",
       "        text-align: right;\n",
       "    }\n",
       "</style>\n",
       "<table border=\"1\" class=\"dataframe\">\n",
       "  <thead>\n",
       "    <tr style=\"text-align: right;\">\n",
       "      <th></th>\n",
       "      <th></th>\n",
       "      <th>CCC</th>\n",
       "      <th>Pearson</th>\n",
       "      <th>Spearman</th>\n",
       "      <th>MIC</th>\n",
       "      <th>mic_subset</th>\n",
       "    </tr>\n",
       "  </thead>\n",
       "  <tbody>\n",
       "    <tr>\n",
       "      <th rowspan=\"5\" valign=\"top\">ENSG00000000419.12</th>\n",
       "      <th>ENSG00000103335.21</th>\n",
       "      <td>0.026871</td>\n",
       "      <td>0.019368</td>\n",
       "      <td>0.001063</td>\n",
       "      <td>0.190166</td>\n",
       "      <td>all</td>\n",
       "    </tr>\n",
       "    <tr>\n",
       "      <th>ENSG00000118515.11</th>\n",
       "      <td>0.044350</td>\n",
       "      <td>0.159679</td>\n",
       "      <td>0.298670</td>\n",
       "      <td>0.202427</td>\n",
       "      <td>all</td>\n",
       "    </tr>\n",
       "    <tr>\n",
       "      <th>ENSG00000119013.8</th>\n",
       "      <td>0.411877</td>\n",
       "      <td>0.731489</td>\n",
       "      <td>0.800159</td>\n",
       "      <td>0.569112</td>\n",
       "      <td>all</td>\n",
       "    </tr>\n",
       "    <tr>\n",
       "      <th>ENSG00000126262.4</th>\n",
       "      <td>0.253667</td>\n",
       "      <td>0.525495</td>\n",
       "      <td>0.649911</td>\n",
       "      <td>0.391753</td>\n",
       "      <td>all</td>\n",
       "    </tr>\n",
       "    <tr>\n",
       "      <th>ENSG00000134686.18</th>\n",
       "      <td>0.184217</td>\n",
       "      <td>0.467763</td>\n",
       "      <td>0.548222</td>\n",
       "      <td>0.319649</td>\n",
       "      <td>all</td>\n",
       "    </tr>\n",
       "  </tbody>\n",
       "</table>\n",
       "</div>"
      ],
      "text/plain": [
       "                                            CCC   Pearson  Spearman       MIC  \\\n",
       "ENSG00000000419.12 ENSG00000103335.21  0.026871  0.019368  0.001063  0.190166   \n",
       "                   ENSG00000118515.11  0.044350  0.159679  0.298670  0.202427   \n",
       "                   ENSG00000119013.8   0.411877  0.731489  0.800159  0.569112   \n",
       "                   ENSG00000126262.4   0.253667  0.525495  0.649911  0.391753   \n",
       "                   ENSG00000134686.18  0.184217  0.467763  0.548222  0.319649   \n",
       "\n",
       "                                      mic_subset  \n",
       "ENSG00000000419.12 ENSG00000103335.21        all  \n",
       "                   ENSG00000118515.11        all  \n",
       "                   ENSG00000119013.8         all  \n",
       "                   ENSG00000126262.4         all  \n",
       "                   ENSG00000134686.18        all  "
      ]
     },
     "execution_count": 11,
     "metadata": {},
     "output_type": "execute_result"
    }
   ],
   "source": [
    "corrs_df.head()"
   ]
  },
  {
   "cell_type": "markdown",
   "id": "abf04dd3-2769-43cd-9568-6d6c86088489",
   "metadata": {
    "papermill": {
     "duration": 0.085824,
     "end_time": "2021-12-21T20:13:41.138222",
     "exception": false,
     "start_time": "2021-12-21T20:13:41.052398",
     "status": "completed"
    },
    "tags": []
   },
   "source": [
    "## Data stats"
   ]
  },
  {
   "cell_type": "code",
   "execution_count": 12,
   "id": "e36c1883-167c-4668-a061-41396076a645",
   "metadata": {
    "papermill": {
     "duration": 1.667499,
     "end_time": "2021-12-21T20:13:42.894369",
     "exception": false,
     "start_time": "2021-12-21T20:13:41.226870",
     "status": "completed"
    },
    "tags": []
   },
   "outputs": [
    {
     "data": {
      "text/html": [
       "<div>\n",
       "<style scoped>\n",
       "    .dataframe tbody tr th:only-of-type {\n",
       "        vertical-align: middle;\n",
       "    }\n",
       "\n",
       "    .dataframe tbody tr th {\n",
       "        vertical-align: top;\n",
       "    }\n",
       "\n",
       "    .dataframe thead th {\n",
       "        text-align: right;\n",
       "    }\n",
       "</style>\n",
       "<table border=\"1\" class=\"dataframe\">\n",
       "  <thead>\n",
       "    <tr style=\"text-align: right;\">\n",
       "      <th></th>\n",
       "      <th>CCC</th>\n",
       "      <th>Pearson</th>\n",
       "      <th>Spearman</th>\n",
       "      <th>MIC</th>\n",
       "    </tr>\n",
       "  </thead>\n",
       "  <tbody>\n",
       "    <tr>\n",
       "      <th>count</th>\n",
       "      <td>100000.0</td>\n",
       "      <td>100000.0</td>\n",
       "      <td>100000.0</td>\n",
       "      <td>100000.0</td>\n",
       "    </tr>\n",
       "    <tr>\n",
       "      <th>mean</th>\n",
       "      <td>0.1407573472700409</td>\n",
       "      <td>0.3054003338769138</td>\n",
       "      <td>0.39461127472960383</td>\n",
       "      <td>0.3002206242462508</td>\n",
       "    </tr>\n",
       "    <tr>\n",
       "      <th>std</th>\n",
       "      <td>0.1445228187514837</td>\n",
       "      <td>0.24286207737020646</td>\n",
       "      <td>0.2591538271543309</td>\n",
       "      <td>0.14840760816593887</td>\n",
       "    </tr>\n",
       "    <tr>\n",
       "      <th>min</th>\n",
       "      <td>0.0</td>\n",
       "      <td>2.5438786227516275e-06</td>\n",
       "      <td>2.6762936711222096e-07</td>\n",
       "      <td>0.11223625535959839</td>\n",
       "    </tr>\n",
       "    <tr>\n",
       "      <th>25%</th>\n",
       "      <td>0.028484755003948113</td>\n",
       "      <td>0.09499704677583418</td>\n",
       "      <td>0.16381764549263292</td>\n",
       "      <td>0.18518310095624893</td>\n",
       "    </tr>\n",
       "    <tr>\n",
       "      <th>50%</th>\n",
       "      <td>0.08139034659660288</td>\n",
       "      <td>0.23843562607277313</td>\n",
       "      <td>0.36676860664661387</td>\n",
       "      <td>0.24605328088573442</td>\n",
       "    </tr>\n",
       "    <tr>\n",
       "      <th>75%</th>\n",
       "      <td>0.21756498428043292</td>\n",
       "      <td>0.49421120022916165</td>\n",
       "      <td>0.6151301369201667</td>\n",
       "      <td>0.38138246339648574</td>\n",
       "    </tr>\n",
       "    <tr>\n",
       "      <th>max</th>\n",
       "      <td>0.7801812505004676</td>\n",
       "      <td>0.9796111936678367</td>\n",
       "      <td>0.970189167999527</td>\n",
       "      <td>0.9111602214105493</td>\n",
       "    </tr>\n",
       "  </tbody>\n",
       "</table>\n",
       "</div>"
      ],
      "text/plain": [
       "                        CCC                 Pearson                Spearman  \\\n",
       "count              100000.0                100000.0                100000.0   \n",
       "mean     0.1407573472700409      0.3054003338769138     0.39461127472960383   \n",
       "std      0.1445228187514837     0.24286207737020646      0.2591538271543309   \n",
       "min                     0.0  2.5438786227516275e-06  2.6762936711222096e-07   \n",
       "25%    0.028484755003948113     0.09499704677583418     0.16381764549263292   \n",
       "50%     0.08139034659660288     0.23843562607277313     0.36676860664661387   \n",
       "75%     0.21756498428043292     0.49421120022916165      0.6151301369201667   \n",
       "max      0.7801812505004676      0.9796111936678367       0.970189167999527   \n",
       "\n",
       "                       MIC  \n",
       "count             100000.0  \n",
       "mean    0.3002206242462508  \n",
       "std    0.14840760816593887  \n",
       "min    0.11223625535959839  \n",
       "25%    0.18518310095624893  \n",
       "50%    0.24605328088573442  \n",
       "75%    0.38138246339648574  \n",
       "max     0.9111602214105493  "
      ]
     },
     "execution_count": 12,
     "metadata": {},
     "output_type": "execute_result"
    }
   ],
   "source": [
    "corrs_df.describe().applymap(str)"
   ]
  },
  {
   "cell_type": "code",
   "execution_count": 13,
   "id": "b0b9a677-b163-4189-9792-2d7e39157e3f",
   "metadata": {
    "papermill": {
     "duration": 0.599528,
     "end_time": "2021-12-21T20:13:43.593646",
     "exception": false,
     "start_time": "2021-12-21T20:13:42.994118",
     "status": "completed"
    },
    "tags": []
   },
   "outputs": [
    {
     "data": {
      "text/plain": [
       "CCC         1.280476\n",
       "Pearson     0.622770\n",
       "Spearman    0.243201\n",
       "MIC         1.163338\n",
       "dtype: float64"
      ]
     },
     "execution_count": 13,
     "metadata": {},
     "output_type": "execute_result"
    }
   ],
   "source": [
    "# skewness\n",
    "corrs_df.drop(columns=[\"mic_subset\"]).apply(lambda x: stats.skew(x))"
   ]
  },
  {
   "cell_type": "markdown",
   "id": "5dff4511-b585-4b2a-bdbf-3c4a363f954c",
   "metadata": {},
   "source": [
    "# MIC subset: all gene pairs"
   ]
  },
  {
   "cell_type": "code",
   "execution_count": 14,
   "id": "4a84cafb-40bc-4fa9-8057-660690763985",
   "metadata": {},
   "outputs": [],
   "source": [
    "# this is supposed to be one of the values of column \"mic_subset\"\n",
    "mic_subset = \"all\""
   ]
  },
  {
   "cell_type": "markdown",
   "id": "f3caaa09-f390-4dbb-a093-0be372811035",
   "metadata": {
    "papermill": {
     "duration": 0.085824,
     "end_time": "2021-12-21T20:13:41.138222",
     "exception": false,
     "start_time": "2021-12-21T20:13:41.052398",
     "status": "completed"
    },
    "tags": []
   },
   "source": [
    "## Select MIC subset"
   ]
  },
  {
   "cell_type": "code",
   "execution_count": 15,
   "id": "b7eeafcd-85a5-4b40-a834-2141f47afd7a",
   "metadata": {},
   "outputs": [],
   "source": [
    "df = corrs_df[corrs_df[\"mic_subset\"].isin((mic_subset,))].drop(columns=[\"mic_subset\"])"
   ]
  },
  {
   "cell_type": "code",
   "execution_count": 16,
   "id": "83759731-42eb-487b-a2dc-037f029cf9ca",
   "metadata": {},
   "outputs": [
    {
     "data": {
      "text/plain": [
       "(100000, 4)"
      ]
     },
     "execution_count": 16,
     "metadata": {},
     "output_type": "execute_result"
    }
   ],
   "source": [
    "df.shape"
   ]
  },
  {
   "cell_type": "code",
   "execution_count": 17,
   "id": "e3720315-ffae-4f55-93d1-b6c060da164d",
   "metadata": {},
   "outputs": [
    {
     "data": {
      "text/html": [
       "<div>\n",
       "<style scoped>\n",
       "    .dataframe tbody tr th:only-of-type {\n",
       "        vertical-align: middle;\n",
       "    }\n",
       "\n",
       "    .dataframe tbody tr th {\n",
       "        vertical-align: top;\n",
       "    }\n",
       "\n",
       "    .dataframe thead th {\n",
       "        text-align: right;\n",
       "    }\n",
       "</style>\n",
       "<table border=\"1\" class=\"dataframe\">\n",
       "  <thead>\n",
       "    <tr style=\"text-align: right;\">\n",
       "      <th></th>\n",
       "      <th></th>\n",
       "      <th>CCC</th>\n",
       "      <th>Pearson</th>\n",
       "      <th>Spearman</th>\n",
       "      <th>MIC</th>\n",
       "    </tr>\n",
       "  </thead>\n",
       "  <tbody>\n",
       "    <tr>\n",
       "      <th rowspan=\"5\" valign=\"top\">ENSG00000000419.12</th>\n",
       "      <th>ENSG00000103335.21</th>\n",
       "      <td>0.026871</td>\n",
       "      <td>0.019368</td>\n",
       "      <td>0.001063</td>\n",
       "      <td>0.190166</td>\n",
       "    </tr>\n",
       "    <tr>\n",
       "      <th>ENSG00000118515.11</th>\n",
       "      <td>0.044350</td>\n",
       "      <td>0.159679</td>\n",
       "      <td>0.298670</td>\n",
       "      <td>0.202427</td>\n",
       "    </tr>\n",
       "    <tr>\n",
       "      <th>ENSG00000119013.8</th>\n",
       "      <td>0.411877</td>\n",
       "      <td>0.731489</td>\n",
       "      <td>0.800159</td>\n",
       "      <td>0.569112</td>\n",
       "    </tr>\n",
       "    <tr>\n",
       "      <th>ENSG00000126262.4</th>\n",
       "      <td>0.253667</td>\n",
       "      <td>0.525495</td>\n",
       "      <td>0.649911</td>\n",
       "      <td>0.391753</td>\n",
       "    </tr>\n",
       "    <tr>\n",
       "      <th>ENSG00000134686.18</th>\n",
       "      <td>0.184217</td>\n",
       "      <td>0.467763</td>\n",
       "      <td>0.548222</td>\n",
       "      <td>0.319649</td>\n",
       "    </tr>\n",
       "  </tbody>\n",
       "</table>\n",
       "</div>"
      ],
      "text/plain": [
       "                                            CCC   Pearson  Spearman       MIC\n",
       "ENSG00000000419.12 ENSG00000103335.21  0.026871  0.019368  0.001063  0.190166\n",
       "                   ENSG00000118515.11  0.044350  0.159679  0.298670  0.202427\n",
       "                   ENSG00000119013.8   0.411877  0.731489  0.800159  0.569112\n",
       "                   ENSG00000126262.4   0.253667  0.525495  0.649911  0.391753\n",
       "                   ENSG00000134686.18  0.184217  0.467763  0.548222  0.319649"
      ]
     },
     "execution_count": 17,
     "metadata": {},
     "output_type": "execute_result"
    }
   ],
   "source": [
    "df.head()"
   ]
  },
  {
   "cell_type": "markdown",
   "id": "287861aa-46b5-4abf-aed3-5df1c8af9227",
   "metadata": {
    "papermill": {
     "duration": 0.093769,
     "end_time": "2021-12-21T20:13:43.785990",
     "exception": false,
     "start_time": "2021-12-21T20:13:43.692221",
     "status": "completed"
    },
    "tags": []
   },
   "source": [
    "## Histogram plot"
   ]
  },
  {
   "cell_type": "code",
   "execution_count": 18,
   "id": "bc593c70-3bbd-407c-998a-5ad944b19384",
   "metadata": {
    "papermill": {
     "duration": 308.905538,
     "end_time": "2021-12-21T20:18:52.789300",
     "exception": false,
     "start_time": "2021-12-21T20:13:43.883762",
     "status": "completed"
    },
    "tags": []
   },
   "outputs": [
    {
     "data": {
      "image/png": "[encoded data removed]",
      "text/plain": [
       "<Figure size 720x504 with 1 Axes>"
      ]
     },
     "metadata": {
      "needs_background": "light"
     },
     "output_type": "display_data"
    }
   ],
   "source": [
    "with sns.plotting_context(\"talk\", font_scale=1.0):\n",
    "    plot_histogram(df, output_dir=OUTPUT_FIGURE_DIR, fill=False)"
   ]
  },
  {
   "cell_type": "markdown",
   "id": "75824b4c-7903-4db3-aeb1-356b088590dd",
   "metadata": {
    "papermill": {
     "duration": 0.102123,
     "end_time": "2021-12-21T20:18:52.997204",
     "exception": false,
     "start_time": "2021-12-21T20:18:52.895081",
     "status": "completed"
    },
    "tags": []
   },
   "source": [
    "The distribution of CCC and MIC are very similar"
   ]
  },
  {
   "cell_type": "markdown",
   "id": "34796f64-99d4-48b0-8a7f-c7c44c2a7770",
   "metadata": {
    "papermill": {
     "duration": 0.102175,
     "end_time": "2021-12-21T20:18:53.202156",
     "exception": false,
     "start_time": "2021-12-21T20:18:53.099981",
     "status": "completed"
    },
    "tags": []
   },
   "source": [
    "## Cumulative histogram plot"
   ]
  },
  {
   "cell_type": "markdown",
   "id": "b0faafd6-58d9-4562-9253-1e99dd7de74e",
   "metadata": {
    "papermill": {
     "duration": 0.111882,
     "end_time": "2021-12-21T20:18:53.417918",
     "exception": false,
     "start_time": "2021-12-21T20:18:53.306036",
     "status": "completed"
    },
    "tags": []
   },
   "source": [
    "I include also a cumulative histogram without specifying `bins`."
   ]
  },
  {
   "cell_type": "code",
   "execution_count": 19,
   "id": "1f509e89-14f5-4bb3-8edd-bf1780678df2",
   "metadata": {
    "papermill": {
     "duration": 76.234452,
     "end_time": "2021-12-21T20:20:09.753682",
     "exception": false,
     "start_time": "2021-12-21T20:18:53.519230",
     "status": "completed"
    },
    "tags": []
   },
   "outputs": [
    {
     "data": {
      "text/plain": [
       "CCC         0.181713\n",
       "MIC         0.344996\n",
       "Pearson     0.433716\n",
       "Spearman    0.563060\n",
       "Name: 0.7, dtype: float64"
      ]
     },
     "metadata": {},
     "output_type": "display_data"
    },
    {
     "data": {
      "image/png": "[encoded data removed]",
      "text/plain": [
       "<Figure size 720x504 with 1 Axes>"
      ]
     },
     "metadata": {
      "needs_background": "light"
     },
     "output_type": "display_data"
    }
   ],
   "source": [
    "with sns.plotting_context(\"talk\", font_scale=1.0):\n",
    "    plot_cumulative_histogram(df, GENE_PAIRS_PERCENT, output_dir=OUTPUT_FIGURE_DIR)"
   ]
  },
  {
   "cell_type": "markdown",
   "id": "a8ba503f-b3a4-4c1f-bf28-6be7cf3458db",
   "metadata": {
    "papermill": {
     "duration": 0.105637,
     "end_time": "2021-12-21T20:20:09.962232",
     "exception": false,
     "start_time": "2021-12-21T20:20:09.856595",
     "status": "completed"
    },
    "tags": []
   },
   "source": [
    "## Joint plots comparing each coefficient"
   ]
  },
  {
   "cell_type": "code",
   "execution_count": 20,
   "id": "26acc169-7508-445e-9e5e-a86c0fba85a3",
   "metadata": {
    "papermill": {
     "duration": 137.171305,
     "end_time": "2021-12-21T20:22:27.236373",
     "exception": false,
     "start_time": "2021-12-21T20:20:10.065068",
     "status": "completed"
    },
    "tags": []
   },
   "outputs": [
    {
     "data": {
      "image/png": "[encoded data removed]",
      "text/plain": [
       "<Figure size 432x432 with 3 Axes>"
      ]
     },
     "metadata": {
      "needs_background": "light"
     },
     "output_type": "display_data"
    }
   ],
   "source": [
    "with sns.plotting_context(\"talk\", font_scale=1.0):\n",
    "    jointplot(\n",
    "        data=df,\n",
    "        x=PEARSON_LABEL,\n",
    "        y=MIC_LABEL,\n",
    "        add_corr_coefs=False,\n",
    "        output_dir=OUTPUT_FIGURE_DIR,\n",
    "    )"
   ]
  },
  {
   "cell_type": "code",
   "execution_count": 21,
   "id": "c37b88a3-915f-45b5-842d-7507a151865d",
   "metadata": {
    "papermill": {
     "duration": 127.360134,
     "end_time": "2021-12-21T20:24:34.708723",
     "exception": false,
     "start_time": "2021-12-21T20:22:27.348589",
     "status": "completed"
    },
    "tags": []
   },
   "outputs": [
    {
     "data": {
      "image/png": "[encoded data removed]",
      "text/plain": [
       "<Figure size 432x432 with 3 Axes>"
      ]
     },
     "metadata": {
      "needs_background": "light"
     },
     "output_type": "display_data"
    }
   ],
   "source": [
    "with sns.plotting_context(\"talk\", font_scale=1.0):\n",
    "    x, y = SPEARMAN_LABEL, MIC_LABEL\n",
    "\n",
    "    g = jointplot(\n",
    "        data=df,\n",
    "        x=x,\n",
    "        y=y,\n",
    "        add_corr_coefs=False,\n",
    "    )\n",
    "\n",
    "    sns.despine(ax=g.ax_joint, left=True)\n",
    "    g.ax_joint.set_yticks([])\n",
    "    g.ax_joint.set_ylabel(None)\n",
    "\n",
    "    g.savefig(\n",
    "        OUTPUT_FIGURE_DIR / f\"dist-{x.lower()}_vs_{y.lower()}.svg\",\n",
    "        bbox_inches=\"tight\",\n",
    "        dpi=300,\n",
    "        facecolor=\"white\",\n",
    "    )"
   ]
  },
  {
   "cell_type": "code",
   "execution_count": 22,
   "id": "c519b987-f050-4238-935b-5e7c1b2b90ed",
   "metadata": {
    "papermill": {
     "duration": 148.029502,
     "end_time": "2021-12-21T20:27:02.845739",
     "exception": false,
     "start_time": "2021-12-21T20:24:34.816237",
     "status": "completed"
    },
    "tags": []
   },
   "outputs": [
    {
     "data": {
      "image/png": "[encoded data removed]",
      "text/plain": [
       "<Figure size 432x432 with 3 Axes>"
      ]
     },
     "metadata": {
      "needs_background": "light"
     },
     "output_type": "display_data"
    }
   ],
   "source": [
    "with sns.plotting_context(\"talk\", font_scale=1.0):\n",
    "    x, y = CLUSTERMATCH_LABEL, MIC_LABEL\n",
    "\n",
    "    g = jointplot(\n",
    "        data=df,\n",
    "        x=x,\n",
    "        y=y,\n",
    "        add_corr_coefs=False,\n",
    "    )\n",
    "\n",
    "    sns.despine(ax=g.ax_joint, left=True)\n",
    "    g.ax_joint.set_yticks([])\n",
    "    g.ax_joint.set_ylabel(None)\n",
    "\n",
    "    g.savefig(\n",
    "        OUTPUT_FIGURE_DIR / f\"dist-{x.lower()}_vs_{y.lower()}.svg\",\n",
    "        bbox_inches=\"tight\",\n",
    "        dpi=300,\n",
    "        facecolor=\"white\",\n",
    "    )"
   ]
  },
  {
   "cell_type": "markdown",
   "id": "4c75c0f5-c408-4d43-92f2-0de45a0df3a9",
   "metadata": {
    "papermill": {
     "duration": 0.114019,
     "end_time": "2021-12-21T20:27:03.073018",
     "exception": false,
     "start_time": "2021-12-21T20:27:02.958999",
     "status": "completed"
    },
    "tags": []
   },
   "source": [
    "## Compute correlations"
   ]
  },
  {
   "cell_type": "markdown",
   "id": "c050e97a-ddfb-4b93-bcf1-dab9fec4e1ee",
   "metadata": {
    "papermill": {
     "duration": 0.114019,
     "end_time": "2021-12-21T20:27:03.073018",
     "exception": false,
     "start_time": "2021-12-21T20:27:02.958999",
     "status": "completed"
    },
    "tags": []
   },
   "source": [
    "These are the correlation between the correlation values (!). The idea is to see how coefficient match."
   ]
  },
  {
   "cell_type": "code",
   "execution_count": 23,
   "id": "8a68aafe-343f-4cdf-9a61-c49853807105",
   "metadata": {},
   "outputs": [
    {
     "data": {
      "text/html": [
       "<div>\n",
       "<style scoped>\n",
       "    .dataframe tbody tr th:only-of-type {\n",
       "        vertical-align: middle;\n",
       "    }\n",
       "\n",
       "    .dataframe tbody tr th {\n",
       "        vertical-align: top;\n",
       "    }\n",
       "\n",
       "    .dataframe thead th {\n",
       "        text-align: right;\n",
       "    }\n",
       "</style>\n",
       "<table border=\"1\" class=\"dataframe\">\n",
       "  <thead>\n",
       "    <tr style=\"text-align: right;\">\n",
       "      <th></th>\n",
       "      <th>CCC</th>\n",
       "      <th>Pearson</th>\n",
       "      <th>Spearman</th>\n",
       "      <th>MIC</th>\n",
       "    </tr>\n",
       "  </thead>\n",
       "  <tbody>\n",
       "    <tr>\n",
       "      <th>CCC</th>\n",
       "      <td>1.000000</td>\n",
       "      <td>0.879654</td>\n",
       "      <td>0.904655</td>\n",
       "      <td>0.987270</td>\n",
       "    </tr>\n",
       "    <tr>\n",
       "      <th>Pearson</th>\n",
       "      <td>0.879654</td>\n",
       "      <td>1.000000</td>\n",
       "      <td>0.932339</td>\n",
       "      <td>0.903975</td>\n",
       "    </tr>\n",
       "    <tr>\n",
       "      <th>Spearman</th>\n",
       "      <td>0.904655</td>\n",
       "      <td>0.932339</td>\n",
       "      <td>1.000000</td>\n",
       "      <td>0.915571</td>\n",
       "    </tr>\n",
       "    <tr>\n",
       "      <th>MIC</th>\n",
       "      <td>0.987270</td>\n",
       "      <td>0.903975</td>\n",
       "      <td>0.915571</td>\n",
       "      <td>1.000000</td>\n",
       "    </tr>\n",
       "  </tbody>\n",
       "</table>\n",
       "</div>"
      ],
      "text/plain": [
       "               CCC   Pearson  Spearman       MIC\n",
       "CCC       1.000000  0.879654  0.904655  0.987270\n",
       "Pearson   0.879654  1.000000  0.932339  0.903975\n",
       "Spearman  0.904655  0.932339  1.000000  0.915571\n",
       "MIC       0.987270  0.903975  0.915571  1.000000"
      ]
     },
     "execution_count": 23,
     "metadata": {},
     "output_type": "execute_result"
    }
   ],
   "source": [
    "df.corr()"
   ]
  },
  {
   "cell_type": "code",
   "execution_count": 24,
   "id": "94e67c53-1d7e-40a3-9847-83f0608652f9",
   "metadata": {},
   "outputs": [
    {
     "data": {
      "text/html": [
       "<div>\n",
       "<style scoped>\n",
       "    .dataframe tbody tr th:only-of-type {\n",
       "        vertical-align: middle;\n",
       "    }\n",
       "\n",
       "    .dataframe tbody tr th {\n",
       "        vertical-align: top;\n",
       "    }\n",
       "\n",
       "    .dataframe thead th {\n",
       "        text-align: right;\n",
       "    }\n",
       "</style>\n",
       "<table border=\"1\" class=\"dataframe\">\n",
       "  <thead>\n",
       "    <tr style=\"text-align: right;\">\n",
       "      <th></th>\n",
       "      <th>CCC</th>\n",
       "      <th>Pearson</th>\n",
       "      <th>Spearman</th>\n",
       "      <th>MIC</th>\n",
       "    </tr>\n",
       "  </thead>\n",
       "  <tbody>\n",
       "    <tr>\n",
       "      <th>CCC</th>\n",
       "      <td>1.000000</td>\n",
       "      <td>0.868458</td>\n",
       "      <td>0.943065</td>\n",
       "      <td>0.978154</td>\n",
       "    </tr>\n",
       "    <tr>\n",
       "      <th>Pearson</th>\n",
       "      <td>0.868458</td>\n",
       "      <td>1.000000</td>\n",
       "      <td>0.917422</td>\n",
       "      <td>0.877446</td>\n",
       "    </tr>\n",
       "    <tr>\n",
       "      <th>Spearman</th>\n",
       "      <td>0.943065</td>\n",
       "      <td>0.917422</td>\n",
       "      <td>1.000000</td>\n",
       "      <td>0.928203</td>\n",
       "    </tr>\n",
       "    <tr>\n",
       "      <th>MIC</th>\n",
       "      <td>0.978154</td>\n",
       "      <td>0.877446</td>\n",
       "      <td>0.928203</td>\n",
       "      <td>1.000000</td>\n",
       "    </tr>\n",
       "  </tbody>\n",
       "</table>\n",
       "</div>"
      ],
      "text/plain": [
       "               CCC   Pearson  Spearman       MIC\n",
       "CCC       1.000000  0.868458  0.943065  0.978154\n",
       "Pearson   0.868458  1.000000  0.917422  0.877446\n",
       "Spearman  0.943065  0.917422  1.000000  0.928203\n",
       "MIC       0.978154  0.877446  0.928203  1.000000"
      ]
     },
     "execution_count": 24,
     "metadata": {},
     "output_type": "execute_result"
    }
   ],
   "source": [
    "df.corr(\"spearman\")"
   ]
  },
  {
   "cell_type": "markdown",
   "id": "b5f47bbc",
   "metadata": {
    "tags": []
   },
   "source": [
    "# Create final figure"
   ]
  },
  {
   "cell_type": "code",
   "execution_count": 25,
   "id": "11e742f4",
   "metadata": {},
   "outputs": [],
   "source": [
    "from svgutils.compose import Figure, SVG, Panel, Text"
   ]
  },
  {
   "cell_type": "code",
   "execution_count": 28,
   "id": "d04e9d55",
   "metadata": {},
   "outputs": [],
   "source": [
    "Figure(\n",
    "    \"643.71cm\",\n",
    "    \"427.66cm\",\n",
    "    Panel(\n",
    "        SVG(OUTPUT_FIGURE_DIR / \"dist-histograms.svg\").scale(0.5),\n",
    "        Text(\"a)\", 2, 10, size=9, weight=\"bold\"),\n",
    "    ),\n",
    "    Panel(\n",
    "        SVG(OUTPUT_FIGURE_DIR / \"dist-cum_histograms.svg\").scale(0.5),\n",
    "        Text(\"b)\", 2, 10, size=9, weight=\"bold\"),\n",
    "    ).move(320, 0),\n",
    "    Panel(\n",
    "        SVG(OUTPUT_FIGURE_DIR / \"dist-pearson_vs_mic.svg\").scale(0.595),\n",
    "        Panel(\n",
    "            SVG(OUTPUT_FIGURE_DIR / \"dist-spearman_vs_mic.svg\")\n",
    "            .scale(0.595)\n",
    "            .move(215, 0)\n",
    "        ),\n",
    "        Panel(SVG(OUTPUT_FIGURE_DIR / \"dist-ccc_vs_mic.svg\").scale(0.595).move(460, 0)),\n",
    "        Text(\"c)\", 2, 10, size=9, weight=\"bold\"),\n",
    "    ).move(0, 220),\n",
    ").save(OUTPUT_FIGURE_DIR / \"dist-main.svg\")"
   ]
  },
  {
   "cell_type": "markdown",
   "id": "99119c1f",
   "metadata": {},
   "source": [
    "Now open `dist-main.svg`, reside to fit drawing to page, and add a white rectangle to the background."
   ]
  },
  {
   "cell_type": "code",
   "execution_count": null,
   "id": "1d651339-ba83-42dd-8c9f-2e5f1b977624",
   "metadata": {},
   "outputs": [],
   "source": []
  }
 ],
 "metadata": {
  "jupytext": {
   "cell_metadata_filter": "all,-execution,-papermill,-trusted"
  },
  "kernelspec": {
   "display_name": "Python 3 (ipykernel)",
   "language": "python",
   "name": "python3"
  },
  "language_info": {
   "codemirror_mode": {
    "name": "ipython",
    "version": 3
   },
   "file_extension": ".py",
   "mimetype": "text/x-python",
   "name": "python",
   "nbconvert_exporter": "python",
   "pygments_lexer": "ipython3",
   "version": "3.9.12"
  },
  "papermill": {
   "default_parameters": {},
   "duration": 808.744828,
   "end_time": "2021-12-21T20:27:03.803437",
   "environment_variables": {},
   "exception": null,
   "input_path": "nbs/99_manuscript/coefs_comp/05-gtex_whole_blood-general_plots.ipynb",
   "output_path": "nbs/99_manuscript/coefs_comp/05-gtex_whole_blood-general_plots.run.ipynb",
   "parameters": {},
   "start_time": "2021-12-21T20:13:35.058609",
   "version": "2.3.3"
  },
  "toc-autonumbering": true
 },
 "nbformat": 4,
 "nbformat_minor": 5
}
