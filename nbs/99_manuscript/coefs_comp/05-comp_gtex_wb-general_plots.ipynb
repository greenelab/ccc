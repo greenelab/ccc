{
 "cells": [
  {
   "cell_type": "markdown",
   "id": "87e0ce1b-7ce6-4499-9342-5ded05307598",
   "metadata": {
    "papermill": {
     "duration": 0.063205,
     "end_time": "2021-11-19T21:18:45.499332",
     "exception": false,
     "start_time": "2021-11-19T21:18:45.436127",
     "status": "completed"
    },
    "tags": []
   },
   "source": [
    "# Description"
   ]
  },
  {
   "cell_type": "markdown",
   "id": "4bfc7115-350a-441b-9a19-7626a948a694",
   "metadata": {
    "papermill": {
     "duration": 0.06281,
     "end_time": "2021-11-19T21:18:45.625288",
     "exception": false,
     "start_time": "2021-11-19T21:18:45.562478",
     "status": "completed"
    },
    "tags": []
   },
   "source": [
    "It generates different general plots to compare coefficient values from Pearson, Spearman and Clustermatch, such as their distribution."
   ]
  },
  {
   "cell_type": "markdown",
   "id": "e020c781-238b-43c2-8cad-2722b8a240e2",
   "metadata": {
    "papermill": {
     "duration": 0.069529,
     "end_time": "2021-11-19T21:18:45.762225",
     "exception": false,
     "start_time": "2021-11-19T21:18:45.692696",
     "status": "completed"
    },
    "tags": []
   },
   "source": [
    "# Modules"
   ]
  },
  {
   "cell_type": "code",
   "execution_count": 1,
   "id": "a819bfbc-5009-4c68-ba8d-37d0979d368f",
   "metadata": {
    "papermill": {
     "duration": 1.222566,
     "end_time": "2021-11-19T21:18:47.051114",
     "exception": false,
     "start_time": "2021-11-19T21:18:45.828548",
     "status": "completed"
    },
    "tags": []
   },
   "outputs": [],
   "source": [
    "import pandas as pd\n",
    "import numpy as np\n",
    "from scipy import stats\n",
    "import matplotlib.pyplot as plt\n",
    "import seaborn as sns\n",
    "\n",
    "from clustermatch.coef import cm\n",
    "from clustermatch import conf"
   ]
  },
  {
   "cell_type": "markdown",
   "id": "b4834387-58ff-468c-b326-85c408bc5feb",
   "metadata": {
    "papermill": {
     "duration": 0.062667,
     "end_time": "2021-11-19T21:18:47.176897",
     "exception": false,
     "start_time": "2021-11-19T21:18:47.114230",
     "status": "completed"
    },
    "tags": []
   },
   "source": [
    "# Settings"
   ]
  },
  {
   "cell_type": "code",
   "execution_count": 2,
   "id": "765e820a-4518-4bbc-a00f-14c9cea03821",
   "metadata": {},
   "outputs": [],
   "source": [
    "DATASET_CONFIG = conf.GTEX\n",
    "GTEX_TISSUE = \"whole_blood\"\n",
    "GENE_SEL_STRATEGY = \"var_pc_log2\""
   ]
  },
  {
   "cell_type": "markdown",
   "id": "a1159982-5dd1-4494-97d4-0674eeead1c3",
   "metadata": {
    "papermill": {
     "duration": 0.062778,
     "end_time": "2021-11-19T21:18:47.303614",
     "exception": false,
     "start_time": "2021-11-19T21:18:47.240836",
     "status": "completed"
    },
    "tags": []
   },
   "source": [
    "# Paths"
   ]
  },
  {
   "cell_type": "code",
   "execution_count": 3,
   "id": "d50e29a6-0e18-4c3d-b933-f21a17abf831",
   "metadata": {
    "papermill": {
     "duration": 0.068311,
     "end_time": "2021-11-19T21:18:47.433932",
     "exception": false,
     "start_time": "2021-11-19T21:18:47.365621",
     "status": "completed"
    },
    "tags": []
   },
   "outputs": [],
   "source": [
    "assert (\n",
    "    conf.MANUSCRIPT[\"BASE_DIR\"] is not None and conf.MANUSCRIPT[\"BASE_DIR\"].exists()\n",
    "), \"Manuscript dir not set\""
   ]
  },
  {
   "cell_type": "code",
   "execution_count": 4,
   "id": "523c6a4e-87ec-44bf-bad3-e912b8aa0482",
   "metadata": {
    "papermill": {
     "duration": 0.071148,
     "end_time": "2021-11-19T21:18:47.566820",
     "exception": false,
     "start_time": "2021-11-19T21:18:47.495672",
     "status": "completed"
    },
    "tags": []
   },
   "outputs": [
    {
     "data": {
      "text/plain": [
       "PosixPath('/opt/manuscript/content/images/coefs_comp')"
      ]
     },
     "metadata": {},
     "output_type": "display_data"
    }
   ],
   "source": [
    "OUTPUT_FIGURE_DIR = conf.MANUSCRIPT[\"FIGURES_DIR\"] / \"coefs_comp\"\n",
    "OUTPUT_FIGURE_DIR.mkdir(parents=True, exist_ok=True)\n",
    "display(OUTPUT_FIGURE_DIR)"
   ]
  },
  {
   "cell_type": "code",
   "execution_count": 5,
   "id": "edf17c92-2894-45b5-82ee-cd0170dda995",
   "metadata": {
    "papermill": {
     "duration": 0.025306,
     "end_time": "2021-09-21T01:08:28.234279",
     "exception": false,
     "start_time": "2021-09-21T01:08:28.208973",
     "status": "completed"
    },
    "tags": []
   },
   "outputs": [
    {
     "data": {
      "text/plain": [
       "PosixPath('/opt/data/results/gtex_v8/similarity_matrices/gtex_v8_data_{tissue}-{gene_sel_strategy}-{corr_method}.pkl')"
      ]
     },
     "metadata": {},
     "output_type": "display_data"
    }
   ],
   "source": [
    "INPUT_CORR_FILE_TEMPLATE = (\n",
    "    DATASET_CONFIG[\"SIMILARITY_MATRICES_DIR\"]\n",
    "    / DATASET_CONFIG[\"SIMILARITY_MATRIX_FILENAME_TEMPLATE\"]\n",
    ")\n",
    "display(INPUT_CORR_FILE_TEMPLATE)"
   ]
  },
  {
   "cell_type": "code",
   "execution_count": 6,
   "id": "30cce6f5-ca1b-438c-859d-31903a42d4c6",
   "metadata": {
    "tags": []
   },
   "outputs": [
    {
     "data": {
      "text/plain": [
       "PosixPath('/opt/data/results/gtex_v8/similarity_matrices/gtex_v8_data_whole_blood-var_pc_log2-all.pkl')"
      ]
     },
     "metadata": {},
     "output_type": "display_data"
    }
   ],
   "source": [
    "INPUT_FILE = DATASET_CONFIG[\"SIMILARITY_MATRICES_DIR\"] / str(\n",
    "    INPUT_CORR_FILE_TEMPLATE\n",
    ").format(\n",
    "    tissue=GTEX_TISSUE,\n",
    "    gene_sel_strategy=GENE_SEL_STRATEGY,\n",
    "    corr_method=\"all\",\n",
    ")\n",
    "display(INPUT_FILE)\n",
    "\n",
    "assert INPUT_FILE.exists()"
   ]
  },
  {
   "cell_type": "markdown",
   "id": "f6d3322b-c8bb-4fc2-97b6-5bb1793b1577",
   "metadata": {
    "papermill": {
     "duration": 0.062778,
     "end_time": "2021-11-19T21:18:47.303614",
     "exception": false,
     "start_time": "2021-11-19T21:18:47.240836",
     "status": "completed"
    },
    "tags": []
   },
   "source": [
    "# Data"
   ]
  },
  {
   "cell_type": "code",
   "execution_count": 7,
   "id": "da1d768a-fbfb-40e8-8fbb-790d1a94aa83",
   "metadata": {},
   "outputs": [],
   "source": [
    "df = pd.read_pickle(INPUT_FILE)"
   ]
  },
  {
   "cell_type": "code",
   "execution_count": 8,
   "id": "6123d474-0c0d-4771-9678-248ce89424ce",
   "metadata": {},
   "outputs": [
    {
     "data": {
      "text/plain": [
       "(12497500, 3)"
      ]
     },
     "execution_count": 8,
     "metadata": {},
     "output_type": "execute_result"
    }
   ],
   "source": [
    "df.shape"
   ]
  },
  {
   "cell_type": "code",
   "execution_count": 9,
   "id": "b028abd8-c5b1-48c2-aa5e-cb1b49c943a4",
   "metadata": {},
   "outputs": [
    {
     "data": {
      "text/html": [
       "<div>\n",
       "<style scoped>\n",
       "    .dataframe tbody tr th:only-of-type {\n",
       "        vertical-align: middle;\n",
       "    }\n",
       "\n",
       "    .dataframe tbody tr th {\n",
       "        vertical-align: top;\n",
       "    }\n",
       "\n",
       "    .dataframe thead th {\n",
       "        text-align: right;\n",
       "    }\n",
       "</style>\n",
       "<table border=\"1\" class=\"dataframe\">\n",
       "  <thead>\n",
       "    <tr style=\"text-align: right;\">\n",
       "      <th></th>\n",
       "      <th></th>\n",
       "      <th>clustermatch</th>\n",
       "      <th>pearson</th>\n",
       "      <th>spearman</th>\n",
       "    </tr>\n",
       "  </thead>\n",
       "  <tbody>\n",
       "    <tr>\n",
       "      <th rowspan=\"5\" valign=\"top\">ENSG00000000419.12</th>\n",
       "      <th>ENSG00000002834.17</th>\n",
       "      <td>0.418721</td>\n",
       "      <td>0.681847</td>\n",
       "      <td>0.786595</td>\n",
       "    </tr>\n",
       "    <tr>\n",
       "      <th>ENSG00000002919.14</th>\n",
       "      <td>0.405090</td>\n",
       "      <td>0.734699</td>\n",
       "      <td>0.816991</td>\n",
       "    </tr>\n",
       "    <tr>\n",
       "      <th>ENSG00000002933.7</th>\n",
       "      <td>0.007466</td>\n",
       "      <td>0.013825</td>\n",
       "      <td>0.004128</td>\n",
       "    </tr>\n",
       "    <tr>\n",
       "      <th>ENSG00000003402.19</th>\n",
       "      <td>0.391683</td>\n",
       "      <td>0.727347</td>\n",
       "      <td>0.803653</td>\n",
       "    </tr>\n",
       "    <tr>\n",
       "      <th>ENSG00000004478.7</th>\n",
       "      <td>0.099013</td>\n",
       "      <td>0.094147</td>\n",
       "      <td>0.231269</td>\n",
       "    </tr>\n",
       "  </tbody>\n",
       "</table>\n",
       "</div>"
      ],
      "text/plain": [
       "                                       clustermatch   pearson  spearman\n",
       "ENSG00000000419.12 ENSG00000002834.17      0.418721  0.681847  0.786595\n",
       "                   ENSG00000002919.14      0.405090  0.734699  0.816991\n",
       "                   ENSG00000002933.7       0.007466  0.013825  0.004128\n",
       "                   ENSG00000003402.19      0.391683  0.727347  0.803653\n",
       "                   ENSG00000004478.7       0.099013  0.094147  0.231269"
      ]
     },
     "execution_count": 9,
     "metadata": {},
     "output_type": "execute_result"
    }
   ],
   "source": [
    "df.head()"
   ]
  },
  {
   "cell_type": "markdown",
   "id": "1e68e2bc-6770-4c66-87e8-e7ec440c34ce",
   "metadata": {
    "papermill": {
     "duration": 0.062778,
     "end_time": "2021-11-19T21:18:47.303614",
     "exception": false,
     "start_time": "2021-11-19T21:18:47.240836",
     "status": "completed"
    },
    "tags": []
   },
   "source": [
    "## Data stats"
   ]
  },
  {
   "cell_type": "code",
   "execution_count": 10,
   "id": "e36c1883-167c-4668-a061-41396076a645",
   "metadata": {},
   "outputs": [
    {
     "data": {
      "text/html": [
       "<div>\n",
       "<style scoped>\n",
       "    .dataframe tbody tr th:only-of-type {\n",
       "        vertical-align: middle;\n",
       "    }\n",
       "\n",
       "    .dataframe tbody tr th {\n",
       "        vertical-align: top;\n",
       "    }\n",
       "\n",
       "    .dataframe thead th {\n",
       "        text-align: right;\n",
       "    }\n",
       "</style>\n",
       "<table border=\"1\" class=\"dataframe\">\n",
       "  <thead>\n",
       "    <tr style=\"text-align: right;\">\n",
       "      <th></th>\n",
       "      <th>clustermatch</th>\n",
       "      <th>pearson</th>\n",
       "      <th>spearman</th>\n",
       "    </tr>\n",
       "  </thead>\n",
       "  <tbody>\n",
       "    <tr>\n",
       "      <th>count</th>\n",
       "      <td>12497500.0</td>\n",
       "      <td>12497500.0</td>\n",
       "      <td>12497500.0</td>\n",
       "    </tr>\n",
       "    <tr>\n",
       "      <th>mean</th>\n",
       "      <td>0.1407816158473381</td>\n",
       "      <td>0.3055270339582277</td>\n",
       "      <td>0.39444206469877185</td>\n",
       "    </tr>\n",
       "    <tr>\n",
       "      <th>std</th>\n",
       "      <td>0.14482154890702095</td>\n",
       "      <td>0.24329624620596305</td>\n",
       "      <td>0.2595310853531984</td>\n",
       "    </tr>\n",
       "    <tr>\n",
       "      <th>min</th>\n",
       "      <td>-0.0010015912473193929</td>\n",
       "      <td>1.5077467052648785e-08</td>\n",
       "      <td>1.3941559573460438e-08</td>\n",
       "    </tr>\n",
       "    <tr>\n",
       "      <th>25%</th>\n",
       "      <td>0.02840489656767938</td>\n",
       "      <td>0.09442322140732318</td>\n",
       "      <td>0.16297401304506182</td>\n",
       "    </tr>\n",
       "    <tr>\n",
       "      <th>50%</th>\n",
       "      <td>0.0811105958507932</td>\n",
       "      <td>0.23886133272185917</td>\n",
       "      <td>0.3675595119633454</td>\n",
       "    </tr>\n",
       "    <tr>\n",
       "      <th>75%</th>\n",
       "      <td>0.2167198284523933</td>\n",
       "      <td>0.4953853540480224</td>\n",
       "      <td>0.6148954029591087</td>\n",
       "    </tr>\n",
       "    <tr>\n",
       "      <th>max</th>\n",
       "      <td>0.9169180125916612</td>\n",
       "      <td>0.9948779504715451</td>\n",
       "      <td>0.9867424080828916</td>\n",
       "    </tr>\n",
       "  </tbody>\n",
       "</table>\n",
       "</div>"
      ],
      "text/plain": [
       "                 clustermatch                 pearson                spearman\n",
       "count              12497500.0              12497500.0              12497500.0\n",
       "mean       0.1407816158473381      0.3055270339582277     0.39444206469877185\n",
       "std       0.14482154890702095     0.24329624620596305      0.2595310853531984\n",
       "min    -0.0010015912473193929  1.5077467052648785e-08  1.3941559573460438e-08\n",
       "25%       0.02840489656767938     0.09442322140732318     0.16297401304506182\n",
       "50%        0.0811105958507932     0.23886133272185917      0.3675595119633454\n",
       "75%        0.2167198284523933      0.4953853540480224      0.6148954029591087\n",
       "max        0.9169180125916612      0.9948779504715451      0.9867424080828916"
      ]
     },
     "execution_count": 10,
     "metadata": {},
     "output_type": "execute_result"
    }
   ],
   "source": [
    "df.describe().applymap(str)"
   ]
  },
  {
   "cell_type": "code",
   "execution_count": 11,
   "id": "b0b9a677-b163-4189-9792-2d7e39157e3f",
   "metadata": {},
   "outputs": [
    {
     "data": {
      "text/plain": [
       "clustermatch    1.283771\n",
       "pearson         0.622893\n",
       "spearman        0.245173\n",
       "dtype: float64"
      ]
     },
     "execution_count": 11,
     "metadata": {},
     "output_type": "execute_result"
    }
   ],
   "source": [
    "# skewness\n",
    "df.apply(lambda x: stats.skew(x))"
   ]
  },
  {
   "cell_type": "markdown",
   "id": "287861aa-46b5-4abf-aed3-5df1c8af9227",
   "metadata": {},
   "source": [
    "# Histogram plot"
   ]
  },
  {
   "cell_type": "code",
   "execution_count": null,
   "id": "9c9d9b01-c8bf-4b2d-8b50-011564910aef",
   "metadata": {},
   "outputs": [],
   "source": [
    "with sns.plotting_context(\"talk\", font_scale=1.0):\n",
    "    fig, ax = plt.subplots(figsize=(10, 7))\n",
    "\n",
    "    ax = sns.histplot(\n",
    "        data=df,\n",
    "        stat=\"density\",\n",
    "        bins=100,\n",
    "        common_bins=True,\n",
    "        common_norm=False,\n",
    "        kde=True,\n",
    "        ax=ax,\n",
    "    )\n",
    "    sns.despine(ax=ax)\n",
    "\n",
    "    ax.set_xticks(np.linspace(0, 1, 10 + 1))\n",
    "\n",
    "    plt.savefig(\n",
    "        OUTPUT_FIGURE_DIR / \"dist-histograms.svg\",\n",
    "        bbox_inches=\"tight\",\n",
    "        facecolor=\"white\",\n",
    "    )"
   ]
  },
  {
   "cell_type": "markdown",
   "id": "75824b4c-7903-4db3-aeb1-356b088590dd",
   "metadata": {},
   "source": [
    "Coefficients' values distribute very differently. Clustermatch is skewed to the left, whereas Pearson and specially Spearman seem more uniform."
   ]
  },
  {
   "cell_type": "markdown",
   "id": "34796f64-99d4-48b0-8a7f-c7c44c2a7770",
   "metadata": {},
   "source": [
    "# Cumulative histogram plot"
   ]
  },
  {
   "cell_type": "markdown",
   "id": "b0faafd6-58d9-4562-9253-1e99dd7de74e",
   "metadata": {},
   "source": [
    "I include also a cumulative histogram without specifying `bins`."
   ]
  },
  {
   "cell_type": "code",
   "execution_count": null,
   "id": "88a6578e-f60f-4ffe-a2d5-a777885d07d0",
   "metadata": {},
   "outputs": [],
   "source": [
    "_percent = 0.70\n",
    "_coef_at_percent = df.quantile(_percent)\n",
    "display(_coef_at_percent)"
   ]
  },
  {
   "cell_type": "code",
   "execution_count": null,
   "id": "484eafeb-3054-477e-ae26-71f6f5f7b363",
   "metadata": {},
   "outputs": [],
   "source": [
    "with sns.plotting_context(\"talk\", font_scale=1.1):\n",
    "    fig, ax = plt.subplots(figsize=(10, 7))\n",
    "\n",
    "    ax = sns.histplot(\n",
    "        data=df,\n",
    "        element=\"step\",\n",
    "        fill=False,\n",
    "        stat=\"percent\",\n",
    "        common_norm=False,\n",
    "        cumulative=True,\n",
    "        legend=False,\n",
    "        ax=ax,\n",
    "    )\n",
    "    sns.despine(ax=ax)\n",
    "\n",
    "    ax.set_xticks(np.linspace(0, 1, 10 + 1))\n",
    "    ax.set_yticks(np.linspace(0, 100, 10 + 1))\n",
    "    \n",
    "    ax.set_ylabel(\"Percent of gene pairs\")\n",
    "\n",
    "    x_lim = ax.get_xlim()\n",
    "    ax.hlines(\n",
    "        y=_percent * 100,\n",
    "        xmin=x_lim[0],\n",
    "        xmax=_coef_at_percent[\"spearman\"],\n",
    "        color=\"gray\",\n",
    "        linestyle=\"dotted\",\n",
    "    )\n",
    "    ax.vlines(\n",
    "        x=_coef_at_percent[\"clustermatch\"],\n",
    "        ymin=0,\n",
    "        ymax=_percent * 100,\n",
    "        color=\"gray\",\n",
    "        linestyle=\"dotted\",\n",
    "    )\n",
    "    ax.vlines(\n",
    "        x=_coef_at_percent[\"pearson\"],\n",
    "        ymin=0,\n",
    "        ymax=_percent * 100,\n",
    "        color=\"gray\",\n",
    "        linestyle=\"dotted\",\n",
    "    )\n",
    "    ax.vlines(\n",
    "        x=_coef_at_percent[\"spearman\"],\n",
    "        ymin=0,\n",
    "        ymax=_percent * 100,\n",
    "        color=\"gray\",\n",
    "        linestyle=\"dotted\",\n",
    "    )\n",
    "\n",
    "    ax.set_xlim(x_lim)\n",
    "\n",
    "    plt.savefig(\n",
    "        OUTPUT_FIGURE_DIR / \"dist-cum_histograms.svg\",\n",
    "        bbox_inches=\"tight\",\n",
    "        facecolor=\"white\",\n",
    "    )"
   ]
  },
  {
   "cell_type": "markdown",
   "id": "a8ba503f-b3a4-4c1f-bf28-6be7cf3458db",
   "metadata": {},
   "source": [
    "# Joint plots comparing each coefficient"
   ]
  },
  {
   "cell_type": "code",
   "execution_count": null,
   "id": "a9e9dfaa-5882-4630-ba23-61fc8b061e1c",
   "metadata": {},
   "outputs": [],
   "source": [
    "import matplotlib as mpl\n",
    "from matplotlib.colors import LogNorm\n",
    "from seaborn.distributions import _freedman_diaconis_bins"
   ]
  },
  {
   "cell_type": "code",
   "execution_count": null,
   "id": "980c6b50-e66a-469f-b361-2c42f79289ad",
   "metadata": {},
   "outputs": [],
   "source": [
    "def jointplot(data, x, y, bins=None):\n",
    "    \"\"\"\n",
    "    Function based on Seaborn's jointplot, but without marginal plots.\n",
    "    \"\"\"\n",
    "\n",
    "    # compute correlations\n",
    "    x_values = df[x].to_numpy()\n",
    "    y_values = df[y].to_numpy()\n",
    "    r = stats.pearsonr(x_values, y_values)[0]\n",
    "    rs = stats.spearmanr(x_values, y_values)[0]\n",
    "    c = cm(x_values, y_values)\n",
    "    xy_corr = {\n",
    "        \"pearson\": r,\n",
    "        \"spearman\": rs,\n",
    "        \"clustermatch\": c,\n",
    "    }\n",
    "    \n",
    "    grid = sns.JointGrid(\n",
    "        data=data,\n",
    "        x=x,\n",
    "        y=y,\n",
    "    )\n",
    "\n",
    "    color = \"C0\"\n",
    "    color_rgb = mpl.colors.colorConverter.to_rgb(color)\n",
    "    colors = [sns.utils.set_hls_values(color_rgb, l=l) for l in np.linspace(1, 0, 12)]\n",
    "    cmap = sns.palettes.blend_palette(colors, as_cmap=True)\n",
    "\n",
    "    x_bins = min(_freedman_diaconis_bins(grid.x), 50)\n",
    "    y_bins = min(_freedman_diaconis_bins(grid.y), 50)\n",
    "    gridsize = int(np.mean([x_bins, y_bins]))\n",
    "\n",
    "    joint_kws = {\n",
    "        \"bins\": bins,\n",
    "    }\n",
    "\n",
    "    joint_kws.setdefault(\"gridsize\", gridsize)\n",
    "    joint_kws.setdefault(\"cmap\", cmap)\n",
    "    joint_kws.setdefault(\"rasterized\", True)\n",
    "\n",
    "    grid.plot_joint(\n",
    "        plt.hexbin,\n",
    "        **joint_kws,\n",
    "    )\n",
    "\n",
    "    # remove marginal axes\n",
    "    grid.ax_marg_x.set_visible(False)\n",
    "    grid.ax_marg_y.set_visible(False)\n",
    "    \n",
    "    # add text box for the statistics\n",
    "    ax = grid.ax_joint\n",
    "    stats = f\"$r$ = {r:.2f}\\n\" f\"$r_s$ = {rs:.2f}\\n\" f\"$c$ = {c:.2f}\"\n",
    "    bbox = dict(boxstyle=\"round\", fc=\"white\", ec=\"black\", alpha=0.15)\n",
    "    ax.text(\n",
    "        0.25,\n",
    "        0.80,\n",
    "        stats,\n",
    "        fontsize=12,\n",
    "        bbox=bbox,\n",
    "        transform=ax.transAxes,\n",
    "        horizontalalignment=\"right\",\n",
    "    )\n",
    "\n",
    "    return grid"
   ]
  },
  {
   "cell_type": "code",
   "execution_count": null,
   "id": "26acc169-7508-445e-9e5e-a86c0fba85a3",
   "metadata": {},
   "outputs": [],
   "source": [
    "with sns.plotting_context(\"talk\", font_scale=1.0):\n",
    "    g = jointplot(\n",
    "        data=df,\n",
    "        x=\"pearson\",\n",
    "        y=\"clustermatch\",\n",
    "        bins=\"log\",\n",
    "    )\n",
    "\n",
    "    g.savefig(\n",
    "        OUTPUT_FIGURE_DIR / \"dist-clustermatch_vs_pearson.svg\",\n",
    "        bbox_inches=\"tight\",\n",
    "        dpi=300,\n",
    "        facecolor=\"white\",\n",
    "    )"
   ]
  },
  {
   "cell_type": "code",
   "execution_count": null,
   "id": "c37b88a3-915f-45b5-842d-7507a151865d",
   "metadata": {},
   "outputs": [],
   "source": [
    "with sns.plotting_context(\"talk\", font_scale=1.0):\n",
    "    g = jointplot(\n",
    "        data=df,\n",
    "        x=\"spearman\",\n",
    "        y=\"clustermatch\",\n",
    "        bins=\"log\",\n",
    "    )\n",
    "\n",
    "    sns.despine(ax=g.ax_joint, left=True)\n",
    "    g.ax_joint.set_yticks([])\n",
    "    g.ax_joint.set_ylabel(None)\n",
    "\n",
    "    g.savefig(\n",
    "        OUTPUT_FIGURE_DIR / \"dist-clustermatch_vs_spearman.svg\",\n",
    "        bbox_inches=\"tight\",\n",
    "        dpi=300,\n",
    "        facecolor=\"white\",\n",
    "    )"
   ]
  },
  {
   "cell_type": "code",
   "execution_count": null,
   "id": "c519b987-f050-4238-935b-5e7c1b2b90ed",
   "metadata": {},
   "outputs": [],
   "source": [
    "with sns.plotting_context(\"talk\", font_scale=1.0):\n",
    "    g = jointplot(\n",
    "        data=df,\n",
    "        x=\"spearman\",\n",
    "        y=\"pearson\",\n",
    "        bins=\"log\",\n",
    "    )\n",
    "\n",
    "    g.savefig(\n",
    "        OUTPUT_FIGURE_DIR / \"dist-spearman_vs_pearson.svg\",\n",
    "        bbox_inches=\"tight\",\n",
    "        dpi=300,\n",
    "        facecolor=\"white\",\n",
    "    )"
   ]
  },
  {
   "cell_type": "markdown",
   "id": "c08e5c3e-c1cd-4b42-8368-3a7c6128b115",
   "metadata": {},
   "source": [
    "## Correlations between coefficient values"
   ]
  },
  {
   "cell_type": "code",
   "execution_count": null,
   "id": "5b8de986-9513-4439-915e-eaeb74c3ea86",
   "metadata": {},
   "outputs": [],
   "source": [
    "from scipy.spatial.distance import squareform"
   ]
  },
  {
   "cell_type": "code",
   "execution_count": null,
   "id": "aab3086e-73f9-45f1-928b-a3e266f693f3",
   "metadata": {},
   "outputs": [],
   "source": [
    "df.corr()"
   ]
  },
  {
   "cell_type": "code",
   "execution_count": null,
   "id": "8e5a66de-3238-492c-8bc8-216c34b23d61",
   "metadata": {},
   "outputs": [],
   "source": [
    "df.corr(\"spearman\")"
   ]
  },
  {
   "cell_type": "code",
   "execution_count": null,
   "id": "fa8e348f-c1be-41a1-b2bc-a8e563bb6c58",
   "metadata": {},
   "outputs": [],
   "source": [
    "_tmp = squareform(cm(df.T))\n",
    "np.fill_diagonal(_tmp, 1.0)"
   ]
  },
  {
   "cell_type": "code",
   "execution_count": null,
   "id": "12f66c3e-31ba-41ae-8be4-b34910cf7475",
   "metadata": {},
   "outputs": [],
   "source": [
    "pd.DataFrame(\n",
    "    data=_tmp,\n",
    "    index=df.columns.copy(),\n",
    "    columns=df.columns.copy(),\n",
    ")"
   ]
  },
  {
   "cell_type": "markdown",
   "id": "0dd4a975-9a98-40c5-9c38-a0f651cd013a",
   "metadata": {},
   "source": [
    "If we correlate coefficients' values with each other (using the three coefficients, as shown above), Clustermatch and Spearman agree more between them."
   ]
  },
  {
   "cell_type": "code",
   "execution_count": null,
   "id": "88484f32-6039-4537-8ab9-0c17230ed496",
   "metadata": {},
   "outputs": [],
   "source": []
  }
 ],
 "metadata": {
  "jupytext": {
   "cell_metadata_filter": "all,-execution,-papermill,-trusted",
   "text_representation": {
    "extension": ".py",
    "format_name": "percent",
    "format_version": "1.3",
    "jupytext_version": "1.11.5"
   }
  },
  "kernelspec": {
   "display_name": "Python 3 (ipykernel)",
   "language": "python",
   "name": "python3"
  },
  "language_info": {
   "codemirror_mode": {
    "name": "ipython",
    "version": 3
   },
   "file_extension": ".py",
   "mimetype": "text/x-python",
   "name": "python",
   "nbconvert_exporter": "python",
   "pygments_lexer": "ipython3",
   "version": "3.9.7"
  },
  "toc-autonumbering": true
 },
 "nbformat": 4,
 "nbformat_minor": 5
}
