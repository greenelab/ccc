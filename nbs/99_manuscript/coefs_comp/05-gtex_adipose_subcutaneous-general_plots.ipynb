{
 "cells": [
  {
   "cell_type": "markdown",
   "id": "87e0ce1b-7ce6-4499-9342-5ded05307598",
   "metadata": {
    "papermill": {
     "duration": 0.063205,
     "end_time": "2021-11-19T21:18:45.499332",
     "exception": false,
     "start_time": "2021-11-19T21:18:45.436127",
     "status": "completed"
    },
    "tags": []
   },
   "source": [
    "# Description"
   ]
  },
  {
   "cell_type": "markdown",
   "id": "4bfc7115-350a-441b-9a19-7626a948a694",
   "metadata": {
    "papermill": {
     "duration": 0.06281,
     "end_time": "2021-11-19T21:18:45.625288",
     "exception": false,
     "start_time": "2021-11-19T21:18:45.562478",
     "status": "completed"
    },
    "tags": []
   },
   "source": [
    "It generates different general plots to compare coefficient values from Pearson, Spearman and Clustermatch, such as their distribution.\n",
    "\n",
    "In `Settings` below, the data set and other options (such as tissue for GTEx) are specified."
   ]
  },
  {
   "cell_type": "markdown",
   "id": "e020c781-238b-43c2-8cad-2722b8a240e2",
   "metadata": {
    "papermill": {
     "duration": 0.069529,
     "end_time": "2021-11-19T21:18:45.762225",
     "exception": false,
     "start_time": "2021-11-19T21:18:45.692696",
     "status": "completed"
    },
    "tags": []
   },
   "source": [
    "# Modules"
   ]
  },
  {
   "cell_type": "code",
   "execution_count": 1,
   "id": "a819bfbc-5009-4c68-ba8d-37d0979d368f",
   "metadata": {
    "papermill": {
     "duration": 1.222566,
     "end_time": "2021-11-19T21:18:47.051114",
     "exception": false,
     "start_time": "2021-11-19T21:18:45.828548",
     "status": "completed"
    },
    "tags": []
   },
   "outputs": [],
   "source": [
    "import pandas as pd\n",
    "from scipy import stats\n",
    "import seaborn as sns\n",
    "\n",
    "from clustermatch.plots import plot_histogram, plot_cumulative_histogram, jointplot\n",
    "from clustermatch import conf"
   ]
  },
  {
   "cell_type": "markdown",
   "id": "b4834387-58ff-468c-b326-85c408bc5feb",
   "metadata": {
    "papermill": {
     "duration": 0.062667,
     "end_time": "2021-11-19T21:18:47.176897",
     "exception": false,
     "start_time": "2021-11-19T21:18:47.114230",
     "status": "completed"
    },
    "tags": []
   },
   "source": [
    "# Settings"
   ]
  },
  {
   "cell_type": "code",
   "execution_count": 2,
   "id": "765e820a-4518-4bbc-a00f-14c9cea03821",
   "metadata": {},
   "outputs": [],
   "source": [
    "DATASET_CONFIG = conf.GTEX\n",
    "GTEX_TISSUE = \"adipose_subcutaneous\"\n",
    "GENE_SEL_STRATEGY = \"var_pc_log2\""
   ]
  },
  {
   "cell_type": "code",
   "execution_count": 3,
   "id": "c598102c-b0e9-417b-bfa5-fc55d508fa51",
   "metadata": {},
   "outputs": [],
   "source": [
    "# this is used for the cumulative histogram\n",
    "GENE_PAIRS_PERCENT = 0.70"
   ]
  },
  {
   "cell_type": "markdown",
   "id": "a1159982-5dd1-4494-97d4-0674eeead1c3",
   "metadata": {
    "papermill": {
     "duration": 0.062778,
     "end_time": "2021-11-19T21:18:47.303614",
     "exception": false,
     "start_time": "2021-11-19T21:18:47.240836",
     "status": "completed"
    },
    "tags": []
   },
   "source": [
    "# Paths"
   ]
  },
  {
   "cell_type": "code",
   "execution_count": 4,
   "id": "d50e29a6-0e18-4c3d-b933-f21a17abf831",
   "metadata": {
    "papermill": {
     "duration": 0.068311,
     "end_time": "2021-11-19T21:18:47.433932",
     "exception": false,
     "start_time": "2021-11-19T21:18:47.365621",
     "status": "completed"
    },
    "tags": []
   },
   "outputs": [],
   "source": [
    "assert (\n",
    "    conf.MANUSCRIPT[\"BASE_DIR\"] is not None and conf.MANUSCRIPT[\"BASE_DIR\"].exists()\n",
    "), \"Manuscript dir not set\""
   ]
  },
  {
   "cell_type": "code",
   "execution_count": 5,
   "id": "523c6a4e-87ec-44bf-bad3-e912b8aa0482",
   "metadata": {
    "papermill": {
     "duration": 0.071148,
     "end_time": "2021-11-19T21:18:47.566820",
     "exception": false,
     "start_time": "2021-11-19T21:18:47.495672",
     "status": "completed"
    },
    "tags": []
   },
   "outputs": [
    {
     "data": {
      "text/plain": [
       "PosixPath('/opt/manuscript/content/images/coefs_comp/gtex_adipose_subcutaneous')"
      ]
     },
     "metadata": {},
     "output_type": "display_data"
    }
   ],
   "source": [
    "OUTPUT_FIGURE_DIR = (\n",
    "    conf.MANUSCRIPT[\"FIGURES_DIR\"] / \"coefs_comp\" / f\"gtex_{GTEX_TISSUE}\"\n",
    ")\n",
    "OUTPUT_FIGURE_DIR.mkdir(parents=True, exist_ok=True)\n",
    "display(OUTPUT_FIGURE_DIR)"
   ]
  },
  {
   "cell_type": "code",
   "execution_count": 6,
   "id": "edf17c92-2894-45b5-82ee-cd0170dda995",
   "metadata": {
    "papermill": {
     "duration": 0.025306,
     "end_time": "2021-09-21T01:08:28.234279",
     "exception": false,
     "start_time": "2021-09-21T01:08:28.208973",
     "status": "completed"
    },
    "tags": []
   },
   "outputs": [
    {
     "data": {
      "text/plain": [
       "PosixPath('/opt/data/results/gtex_v8/similarity_matrices/gtex_v8_data_{tissue}-{gene_sel_strategy}-{corr_method}.pkl')"
      ]
     },
     "metadata": {},
     "output_type": "display_data"
    }
   ],
   "source": [
    "INPUT_CORR_FILE_TEMPLATE = (\n",
    "    DATASET_CONFIG[\"SIMILARITY_MATRICES_DIR\"]\n",
    "    / DATASET_CONFIG[\"SIMILARITY_MATRIX_FILENAME_TEMPLATE\"]\n",
    ")\n",
    "display(INPUT_CORR_FILE_TEMPLATE)"
   ]
  },
  {
   "cell_type": "code",
   "execution_count": 7,
   "id": "30cce6f5-ca1b-438c-859d-31903a42d4c6",
   "metadata": {
    "tags": []
   },
   "outputs": [
    {
     "data": {
      "text/plain": [
       "PosixPath('/opt/data/results/gtex_v8/similarity_matrices/gtex_v8_data_adipose_subcutaneous-var_pc_log2-all.pkl')"
      ]
     },
     "metadata": {},
     "output_type": "display_data"
    }
   ],
   "source": [
    "INPUT_FILE = DATASET_CONFIG[\"SIMILARITY_MATRICES_DIR\"] / str(\n",
    "    INPUT_CORR_FILE_TEMPLATE\n",
    ").format(\n",
    "    tissue=GTEX_TISSUE,\n",
    "    gene_sel_strategy=GENE_SEL_STRATEGY,\n",
    "    corr_method=\"all\",\n",
    ")\n",
    "display(INPUT_FILE)\n",
    "\n",
    "assert INPUT_FILE.exists()"
   ]
  },
  {
   "cell_type": "markdown",
   "id": "f6d3322b-c8bb-4fc2-97b6-5bb1793b1577",
   "metadata": {
    "papermill": {
     "duration": 0.062778,
     "end_time": "2021-11-19T21:18:47.303614",
     "exception": false,
     "start_time": "2021-11-19T21:18:47.240836",
     "status": "completed"
    },
    "tags": []
   },
   "source": [
    "# Data"
   ]
  },
  {
   "cell_type": "code",
   "execution_count": 8,
   "id": "da1d768a-fbfb-40e8-8fbb-790d1a94aa83",
   "metadata": {},
   "outputs": [],
   "source": [
    "df = pd.read_pickle(INPUT_FILE)"
   ]
  },
  {
   "cell_type": "code",
   "execution_count": 9,
   "id": "6123d474-0c0d-4771-9678-248ce89424ce",
   "metadata": {},
   "outputs": [
    {
     "data": {
      "text/plain": [
       "(12497500, 3)"
      ]
     },
     "execution_count": 9,
     "metadata": {},
     "output_type": "execute_result"
    }
   ],
   "source": [
    "df.shape"
   ]
  },
  {
   "cell_type": "code",
   "execution_count": 10,
   "id": "b028abd8-c5b1-48c2-aa5e-cb1b49c943a4",
   "metadata": {},
   "outputs": [
    {
     "data": {
      "text/html": [
       "<div>\n",
       "<style scoped>\n",
       "    .dataframe tbody tr th:only-of-type {\n",
       "        vertical-align: middle;\n",
       "    }\n",
       "\n",
       "    .dataframe tbody tr th {\n",
       "        vertical-align: top;\n",
       "    }\n",
       "\n",
       "    .dataframe thead th {\n",
       "        text-align: right;\n",
       "    }\n",
       "</style>\n",
       "<table border=\"1\" class=\"dataframe\">\n",
       "  <thead>\n",
       "    <tr style=\"text-align: right;\">\n",
       "      <th></th>\n",
       "      <th></th>\n",
       "      <th>clustermatch</th>\n",
       "      <th>pearson</th>\n",
       "      <th>spearman</th>\n",
       "    </tr>\n",
       "  </thead>\n",
       "  <tbody>\n",
       "    <tr>\n",
       "      <th rowspan=\"5\" valign=\"top\">ENSG00000000005.5</th>\n",
       "      <th>ENSG00000004799.7</th>\n",
       "      <td>0.006100</td>\n",
       "      <td>0.044570</td>\n",
       "      <td>0.027140</td>\n",
       "    </tr>\n",
       "    <tr>\n",
       "      <th>ENSG00000005249.12</th>\n",
       "      <td>0.010580</td>\n",
       "      <td>0.014012</td>\n",
       "      <td>0.082621</td>\n",
       "    </tr>\n",
       "    <tr>\n",
       "      <th>ENSG00000006016.10</th>\n",
       "      <td>0.020024</td>\n",
       "      <td>0.137942</td>\n",
       "      <td>0.209348</td>\n",
       "    </tr>\n",
       "    <tr>\n",
       "      <th>ENSG00000006210.6</th>\n",
       "      <td>0.009973</td>\n",
       "      <td>0.000314</td>\n",
       "      <td>0.060059</td>\n",
       "    </tr>\n",
       "    <tr>\n",
       "      <th>ENSG00000007264.14</th>\n",
       "      <td>0.008715</td>\n",
       "      <td>0.033056</td>\n",
       "      <td>0.061616</td>\n",
       "    </tr>\n",
       "  </tbody>\n",
       "</table>\n",
       "</div>"
      ],
      "text/plain": [
       "                                      clustermatch   pearson  spearman\n",
       "ENSG00000000005.5 ENSG00000004799.7       0.006100  0.044570  0.027140\n",
       "                  ENSG00000005249.12      0.010580  0.014012  0.082621\n",
       "                  ENSG00000006016.10      0.020024  0.137942  0.209348\n",
       "                  ENSG00000006210.6       0.009973  0.000314  0.060059\n",
       "                  ENSG00000007264.14      0.008715  0.033056  0.061616"
      ]
     },
     "execution_count": 10,
     "metadata": {},
     "output_type": "execute_result"
    }
   ],
   "source": [
    "df.head()"
   ]
  },
  {
   "cell_type": "markdown",
   "id": "1e68e2bc-6770-4c66-87e8-e7ec440c34ce",
   "metadata": {
    "papermill": {
     "duration": 0.062778,
     "end_time": "2021-11-19T21:18:47.303614",
     "exception": false,
     "start_time": "2021-11-19T21:18:47.240836",
     "status": "completed"
    },
    "tags": []
   },
   "source": [
    "## Data stats"
   ]
  },
  {
   "cell_type": "code",
   "execution_count": 11,
   "id": "e36c1883-167c-4668-a061-41396076a645",
   "metadata": {},
   "outputs": [
    {
     "data": {
      "text/html": [
       "<div>\n",
       "<style scoped>\n",
       "    .dataframe tbody tr th:only-of-type {\n",
       "        vertical-align: middle;\n",
       "    }\n",
       "\n",
       "    .dataframe tbody tr th {\n",
       "        vertical-align: top;\n",
       "    }\n",
       "\n",
       "    .dataframe thead th {\n",
       "        text-align: right;\n",
       "    }\n",
       "</style>\n",
       "<table border=\"1\" class=\"dataframe\">\n",
       "  <thead>\n",
       "    <tr style=\"text-align: right;\">\n",
       "      <th></th>\n",
       "      <th>clustermatch</th>\n",
       "      <th>pearson</th>\n",
       "      <th>spearman</th>\n",
       "    </tr>\n",
       "  </thead>\n",
       "  <tbody>\n",
       "    <tr>\n",
       "      <th>count</th>\n",
       "      <td>12497500.0</td>\n",
       "      <td>12497500.0</td>\n",
       "      <td>12497500.0</td>\n",
       "    </tr>\n",
       "    <tr>\n",
       "      <th>mean</th>\n",
       "      <td>0.03163082073615615</td>\n",
       "      <td>0.13106771228203254</td>\n",
       "      <td>0.1733311883208274</td>\n",
       "    </tr>\n",
       "    <tr>\n",
       "      <th>std</th>\n",
       "      <td>0.047519846705421774</td>\n",
       "      <td>0.12880939694114235</td>\n",
       "      <td>0.14986825710162893</td>\n",
       "    </tr>\n",
       "    <tr>\n",
       "      <th>min</th>\n",
       "      <td>-0.0382835506681071</td>\n",
       "      <td>1.5801882913279997e-08</td>\n",
       "      <td>1.0293950358786219e-08</td>\n",
       "    </tr>\n",
       "    <tr>\n",
       "      <th>25%</th>\n",
       "      <td>0.005909680821882849</td>\n",
       "      <td>0.036257213186679016</td>\n",
       "      <td>0.055760562967799354</td>\n",
       "    </tr>\n",
       "    <tr>\n",
       "      <th>50%</th>\n",
       "      <td>0.012515544498534389</td>\n",
       "      <td>0.09004118878300754</td>\n",
       "      <td>0.13086253195908293</td>\n",
       "    </tr>\n",
       "    <tr>\n",
       "      <th>75%</th>\n",
       "      <td>0.03524011795337485</td>\n",
       "      <td>0.18547087564151898</td>\n",
       "      <td>0.2527181870503161</td>\n",
       "    </tr>\n",
       "    <tr>\n",
       "      <th>max</th>\n",
       "      <td>0.8941912262553193</td>\n",
       "      <td>0.9998969476837449</td>\n",
       "      <td>0.9797527595195248</td>\n",
       "    </tr>\n",
       "  </tbody>\n",
       "</table>\n",
       "</div>"
      ],
      "text/plain": [
       "               clustermatch                 pearson                spearman\n",
       "count            12497500.0              12497500.0              12497500.0\n",
       "mean    0.03163082073615615     0.13106771228203254      0.1733311883208274\n",
       "std    0.047519846705421774     0.12880939694114235     0.14986825710162893\n",
       "min     -0.0382835506681071  1.5801882913279997e-08  1.0293950358786219e-08\n",
       "25%    0.005909680821882849    0.036257213186679016    0.055760562967799354\n",
       "50%    0.012515544498534389     0.09004118878300754     0.13086253195908293\n",
       "75%     0.03524011795337485     0.18547087564151898      0.2527181870503161\n",
       "max      0.8941912262553193      0.9998969476837449      0.9797527595195248"
      ]
     },
     "execution_count": 11,
     "metadata": {},
     "output_type": "execute_result"
    }
   ],
   "source": [
    "df.describe().applymap(str)"
   ]
  },
  {
   "cell_type": "code",
   "execution_count": 12,
   "id": "b0b9a677-b163-4189-9792-2d7e39157e3f",
   "metadata": {},
   "outputs": [
    {
     "data": {
      "text/plain": [
       "clustermatch    3.230185\n",
       "pearson         1.698108\n",
       "spearman        1.198015\n",
       "dtype: float64"
      ]
     },
     "execution_count": 12,
     "metadata": {},
     "output_type": "execute_result"
    }
   ],
   "source": [
    "# skewness\n",
    "df.apply(lambda x: stats.skew(x))"
   ]
  },
  {
   "cell_type": "markdown",
   "id": "287861aa-46b5-4abf-aed3-5df1c8af9227",
   "metadata": {},
   "source": [
    "# Histogram plot"
   ]
  },
  {
   "cell_type": "code",
   "execution_count": null,
   "id": "bc593c70-3bbd-407c-998a-5ad944b19384",
   "metadata": {},
   "outputs": [],
   "source": [
    "with sns.plotting_context(\"talk\", font_scale=1.0):\n",
    "    plot_histogram(df, output_dir=OUTPUT_FIGURE_DIR)"
   ]
  },
  {
   "cell_type": "markdown",
   "id": "75824b4c-7903-4db3-aeb1-356b088590dd",
   "metadata": {},
   "source": [
    "Coefficients' values distribute very differently. Clustermatch is skewed to the left, whereas Pearson and specially Spearman seem more uniform."
   ]
  },
  {
   "cell_type": "markdown",
   "id": "34796f64-99d4-48b0-8a7f-c7c44c2a7770",
   "metadata": {},
   "source": [
    "# Cumulative histogram plot"
   ]
  },
  {
   "cell_type": "markdown",
   "id": "b0faafd6-58d9-4562-9253-1e99dd7de74e",
   "metadata": {},
   "source": [
    "I include also a cumulative histogram without specifying `bins`."
   ]
  },
  {
   "cell_type": "code",
   "execution_count": null,
   "id": "1f509e89-14f5-4bb3-8edd-bf1780678df2",
   "metadata": {},
   "outputs": [],
   "source": [
    "with sns.plotting_context(\"talk\", font_scale=1.0):\n",
    "    plot_cumulative_histogram(df, GENE_PAIRS_PERCENT, output_dir=OUTPUT_FIGURE_DIR)"
   ]
  },
  {
   "cell_type": "markdown",
   "id": "a8ba503f-b3a4-4c1f-bf28-6be7cf3458db",
   "metadata": {},
   "source": [
    "# Joint plots comparing each coefficient"
   ]
  },
  {
   "cell_type": "code",
   "execution_count": null,
   "id": "26acc169-7508-445e-9e5e-a86c0fba85a3",
   "metadata": {},
   "outputs": [],
   "source": [
    "with sns.plotting_context(\"talk\", font_scale=1.0):\n",
    "    jointplot(\n",
    "        data=df,\n",
    "        x=\"pearson\",\n",
    "        y=\"clustermatch\",\n",
    "    )"
   ]
  },
  {
   "cell_type": "code",
   "execution_count": null,
   "id": "c37b88a3-915f-45b5-842d-7507a151865d",
   "metadata": {},
   "outputs": [],
   "source": [
    "with sns.plotting_context(\"talk\", font_scale=1.0):\n",
    "    x, y = \"spearman\", \"clustermatch\"\n",
    "\n",
    "    g = jointplot(\n",
    "        data=df,\n",
    "        x=x,\n",
    "        y=y,\n",
    "    )\n",
    "\n",
    "    sns.despine(ax=g.ax_joint, left=True)\n",
    "    g.ax_joint.set_yticks([])\n",
    "    g.ax_joint.set_ylabel(None)\n",
    "\n",
    "    g.savefig(\n",
    "        OUTPUT_FIGURE_DIR / f\"dist-{x}_vs_{y}.svg\",\n",
    "        bbox_inches=\"tight\",\n",
    "        dpi=300,\n",
    "        facecolor=\"white\",\n",
    "    )"
   ]
  },
  {
   "cell_type": "code",
   "execution_count": null,
   "id": "c519b987-f050-4238-935b-5e7c1b2b90ed",
   "metadata": {},
   "outputs": [],
   "source": [
    "with sns.plotting_context(\"talk\", font_scale=1.0):\n",
    "    jointplot(\n",
    "        data=df,\n",
    "        x=\"spearman\",\n",
    "        y=\"pearson\",\n",
    "    )"
   ]
  },
  {
   "cell_type": "code",
   "execution_count": null,
   "id": "88484f32-6039-4537-8ab9-0c17230ed496",
   "metadata": {},
   "outputs": [],
   "source": []
  }
 ],
 "metadata": {
  "jupytext": {
   "cell_metadata_filter": "all,-execution,-papermill,-trusted",
   "text_representation": {
    "extension": ".py",
    "format_name": "percent",
    "format_version": "1.3",
    "jupytext_version": "1.11.5"
   }
  },
  "kernelspec": {
   "display_name": "Python 3 (ipykernel)",
   "language": "python",
   "name": "python3"
  },
  "language_info": {
   "codemirror_mode": {
    "name": "ipython",
    "version": 3
   },
   "file_extension": ".py",
   "mimetype": "text/x-python",
   "name": "python",
   "nbconvert_exporter": "python",
   "pygments_lexer": "ipython3",
   "version": "3.9.7"
  },
  "toc-autonumbering": true
 },
 "nbformat": 4,
 "nbformat_minor": 5
}
