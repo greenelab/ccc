{
 "cells": [
  {
   "cell_type": "markdown",
   "id": "b9c35e72-e087-4511-9899-5da25f3ff7ba",
   "metadata": {
    "papermill": {
     "duration": 0.013796,
     "end_time": "2023-11-20T08:55:56.439073",
     "exception": false,
     "start_time": "2023-11-20T08:55:56.425277",
     "status": "completed"
    },
    "tags": []
   },
   "source": [
    "# Description"
   ]
  },
  {
   "cell_type": "markdown",
   "id": "2422b873-5148-44ef-9884-0dd0fa8e69fa",
   "metadata": {
    "papermill": {
     "duration": 0.013051,
     "end_time": "2023-11-20T08:55:56.465902",
     "exception": false,
     "start_time": "2023-11-20T08:55:56.452851",
     "status": "completed"
    },
    "tags": []
   },
   "source": [
    "This notebooks analyzes more closely the pattern between gene pair *UTY* / *KDM6A*. The analyses are focused on the Reviewer 2's comment:\n",
    "\n",
    "```\n",
    "In Figure 4, while there is a visible difference between the correlation of male samples, the CCC values are still quite close. For example, this can be observed in Brain Cerebellum and Small Intestine Terminal Ileum. Please address this.\n",
    "```"
   ]
  },
  {
   "cell_type": "markdown",
   "id": "5d4ae4df-624d-4951-917c-880462cfb658",
   "metadata": {
    "papermill": {
     "duration": 0.012554,
     "end_time": "2023-11-20T08:55:56.490793",
     "exception": false,
     "start_time": "2023-11-20T08:55:56.478239",
     "status": "completed"
    },
    "tags": []
   },
   "source": [
    "# Modules"
   ]
  },
  {
   "cell_type": "code",
   "execution_count": 1,
   "id": "2dcd0e52-236a-44cd-9cd9-71cca1232338",
   "metadata": {
    "execution": {
     "iopub.execute_input": "2023-11-20T08:55:56.512994Z",
     "iopub.status.busy": "2023-11-20T08:55:56.512464Z",
     "iopub.status.idle": "2023-11-20T08:55:57.280770Z",
     "shell.execute_reply": "2023-11-20T08:55:57.280425Z"
    },
    "papermill": {
     "duration": 0.778767,
     "end_time": "2023-11-20T08:55:57.282390",
     "exception": false,
     "start_time": "2023-11-20T08:55:56.503623",
     "status": "completed"
    },
    "tags": []
   },
   "outputs": [],
   "source": [
    "import pandas as pd\n",
    "\n",
    "from scipy.stats import pearsonr, spearmanr\n",
    "import matplotlib.pyplot as plt\n",
    "import seaborn as sns\n",
    "import numpy as np\n",
    "\n",
    "from ccc import conf\n",
    "from ccc.coef import ccc"
   ]
  },
  {
   "cell_type": "markdown",
   "id": "e9ef3211-8d35-4b4b-be45-2de384b6fdee",
   "metadata": {
    "papermill": {
     "duration": 0.010558,
     "end_time": "2023-11-20T08:55:57.300232",
     "exception": false,
     "start_time": "2023-11-20T08:55:57.289674",
     "status": "completed"
    },
    "tags": []
   },
   "source": [
    "# Settings"
   ]
  },
  {
   "cell_type": "code",
   "execution_count": 2,
   "id": "3e9781c8-faf2-41ec-a5c3-ab84dec6a7fa",
   "metadata": {
    "execution": {
     "iopub.execute_input": "2023-11-20T08:55:57.313597Z",
     "iopub.status.busy": "2023-11-20T08:55:57.313511Z",
     "iopub.status.idle": "2023-11-20T08:55:57.315760Z",
     "shell.execute_reply": "2023-11-20T08:55:57.315469Z"
    },
    "papermill": {
     "duration": 0.009823,
     "end_time": "2023-11-20T08:55:57.316518",
     "exception": false,
     "start_time": "2023-11-20T08:55:57.306695",
     "status": "completed"
    },
    "tags": []
   },
   "outputs": [],
   "source": [
    "# this gene pair was originally found with ccc on whole blood\n",
    "# interesting: https://clincancerres.aacrjournals.org/content/26/21/5567.figures-only\n",
    "gene0_id, gene1_id = \"ENSG00000147050.14\", \"ENSG00000183878.15\"\n",
    "gene0_symbol, gene1_symbol = \"KDM6A\", \"UTY\""
   ]
  },
  {
   "cell_type": "markdown",
   "id": "649a237d-595e-4bd7-a607-7c1773b36cb5",
   "metadata": {
    "papermill": {
     "duration": 0.026613,
     "end_time": "2023-11-20T08:55:57.349663",
     "exception": false,
     "start_time": "2023-11-20T08:55:57.323050",
     "status": "completed"
    },
    "tags": []
   },
   "source": [
    "# Paths"
   ]
  },
  {
   "cell_type": "code",
   "execution_count": 3,
   "id": "1ea8a834-34dd-480f-b85f-5706aa4db334",
   "metadata": {
    "execution": {
     "iopub.execute_input": "2023-11-20T08:55:57.363287Z",
     "iopub.status.busy": "2023-11-20T08:55:57.363162Z",
     "iopub.status.idle": "2023-11-20T08:55:57.365443Z",
     "shell.execute_reply": "2023-11-20T08:55:57.365163Z"
    },
    "papermill": {
     "duration": 0.009932,
     "end_time": "2023-11-20T08:55:57.366200",
     "exception": false,
     "start_time": "2023-11-20T08:55:57.356268",
     "status": "completed"
    },
    "tags": []
   },
   "outputs": [],
   "source": [
    "TISSUE_DIR = conf.GTEX[\"DATA_DIR\"] / \"data_by_tissue\"\n",
    "assert TISSUE_DIR.exists()"
   ]
  },
  {
   "cell_type": "code",
   "execution_count": 4,
   "id": "f869a719-5302-4c5b-b496-0878617ea3d3",
   "metadata": {
    "execution": {
     "iopub.execute_input": "2023-11-20T08:55:57.379862Z",
     "iopub.status.busy": "2023-11-20T08:55:57.379650Z",
     "iopub.status.idle": "2023-11-20T08:55:57.383787Z",
     "shell.execute_reply": "2023-11-20T08:55:57.383383Z"
    },
    "papermill": {
     "duration": 0.011846,
     "end_time": "2023-11-20T08:55:57.384630",
     "exception": false,
     "start_time": "2023-11-20T08:55:57.372784",
     "status": "completed"
    },
    "tags": []
   },
   "outputs": [
    {
     "data": {
      "text/plain": [
       "PosixPath('/opt/manuscript/content/images/coefs_comp/kdm6a_vs_uty')"
      ]
     },
     "metadata": {},
     "output_type": "display_data"
    }
   ],
   "source": [
    "OUTPUT_FIGURE_DIR = (\n",
    "    conf.MANUSCRIPT[\"FIGURES_DIR\"]\n",
    "    / \"coefs_comp\"\n",
    "    / f\"{gene0_symbol.lower()}_vs_{gene1_symbol.lower()}\"\n",
    ")\n",
    "OUTPUT_FIGURE_DIR.mkdir(parents=True, exist_ok=True)\n",
    "display(OUTPUT_FIGURE_DIR)"
   ]
  },
  {
   "cell_type": "markdown",
   "id": "35453032-07b1-4e68-9f65-f8ec0d0ebcd1",
   "metadata": {
    "papermill": {
     "duration": 0.006516,
     "end_time": "2023-11-20T08:55:57.397804",
     "exception": false,
     "start_time": "2023-11-20T08:55:57.391288",
     "status": "completed"
    },
    "tags": []
   },
   "source": [
    "# Data"
   ]
  },
  {
   "cell_type": "markdown",
   "id": "76b3390f-360a-45e8-b38d-f14f92823125",
   "metadata": {
    "papermill": {
     "duration": 0.006556,
     "end_time": "2023-11-20T08:55:57.410974",
     "exception": false,
     "start_time": "2023-11-20T08:55:57.404418",
     "status": "completed"
    },
    "tags": []
   },
   "source": [
    "## GTEx metadata"
   ]
  },
  {
   "cell_type": "code",
   "execution_count": 5,
   "id": "e2dffcd4-3280-4f2e-8e5b-1797c6333894",
   "metadata": {
    "execution": {
     "iopub.execute_input": "2023-11-20T08:55:57.425110Z",
     "iopub.status.busy": "2023-11-20T08:55:57.424812Z",
     "iopub.status.idle": "2023-11-20T08:55:57.460560Z",
     "shell.execute_reply": "2023-11-20T08:55:57.460088Z"
    },
    "papermill": {
     "duration": 0.043947,
     "end_time": "2023-11-20T08:55:57.461533",
     "exception": false,
     "start_time": "2023-11-20T08:55:57.417586",
     "status": "completed"
    },
    "tags": []
   },
   "outputs": [],
   "source": [
    "gtex_metadata = pd.read_pickle(conf.GTEX[\"DATA_DIR\"] / \"gtex_v8-sample_metadata.pkl\")"
   ]
  },
  {
   "cell_type": "code",
   "execution_count": 6,
   "id": "f762c76d-31b6-46e3-9660-3352112c9326",
   "metadata": {
    "execution": {
     "iopub.execute_input": "2023-11-20T08:55:57.475718Z",
     "iopub.status.busy": "2023-11-20T08:55:57.475409Z",
     "iopub.status.idle": "2023-11-20T08:55:57.479139Z",
     "shell.execute_reply": "2023-11-20T08:55:57.478744Z"
    },
    "papermill": {
     "duration": 0.011791,
     "end_time": "2023-11-20T08:55:57.479973",
     "exception": false,
     "start_time": "2023-11-20T08:55:57.468182",
     "status": "completed"
    },
    "tags": []
   },
   "outputs": [
    {
     "data": {
      "text/plain": [
       "(22951, 66)"
      ]
     },
     "execution_count": 6,
     "metadata": {},
     "output_type": "execute_result"
    }
   ],
   "source": [
    "gtex_metadata.shape"
   ]
  },
  {
   "cell_type": "code",
   "execution_count": 7,
   "id": "870baa0e-4f5b-44c7-b32d-f3763f74a2b7",
   "metadata": {
    "execution": {
     "iopub.execute_input": "2023-11-20T08:55:57.494199Z",
     "iopub.status.busy": "2023-11-20T08:55:57.493904Z",
     "iopub.status.idle": "2023-11-20T08:55:57.515276Z",
     "shell.execute_reply": "2023-11-20T08:55:57.514837Z"
    },
    "papermill": {
     "duration": 0.029424,
     "end_time": "2023-11-20T08:55:57.516109",
     "exception": false,
     "start_time": "2023-11-20T08:55:57.486685",
     "status": "completed"
    },
    "tags": []
   },
   "outputs": [
    {
     "data": {
      "text/html": [
       "<div>\n",
       "<style scoped>\n",
       "    .dataframe tbody tr th:only-of-type {\n",
       "        vertical-align: middle;\n",
       "    }\n",
       "\n",
       "    .dataframe tbody tr th {\n",
       "        vertical-align: top;\n",
       "    }\n",
       "\n",
       "    .dataframe thead th {\n",
       "        text-align: right;\n",
       "    }\n",
       "</style>\n",
       "<table border=\"1\" class=\"dataframe\">\n",
       "  <thead>\n",
       "    <tr style=\"text-align: right;\">\n",
       "      <th></th>\n",
       "      <th>SUBJID</th>\n",
       "      <th>SEX</th>\n",
       "      <th>AGE</th>\n",
       "      <th>DTHHRDY</th>\n",
       "      <th>SMATSSCR</th>\n",
       "      <th>SMCENTER</th>\n",
       "      <th>SMPTHNTS</th>\n",
       "      <th>SMRIN</th>\n",
       "      <th>SMTS</th>\n",
       "      <th>SMTSD</th>\n",
       "      <th>...</th>\n",
       "      <th>SME1ANTI</th>\n",
       "      <th>SMSPLTRD</th>\n",
       "      <th>SMBSMMRT</th>\n",
       "      <th>SME1SNSE</th>\n",
       "      <th>SME1PCTS</th>\n",
       "      <th>SMRRNART</th>\n",
       "      <th>SME1MPRT</th>\n",
       "      <th>SMNUM5CD</th>\n",
       "      <th>SMDPMPRT</th>\n",
       "      <th>SME2PCTS</th>\n",
       "    </tr>\n",
       "    <tr>\n",
       "      <th>SAMPID</th>\n",
       "      <th></th>\n",
       "      <th></th>\n",
       "      <th></th>\n",
       "      <th></th>\n",
       "      <th></th>\n",
       "      <th></th>\n",
       "      <th></th>\n",
       "      <th></th>\n",
       "      <th></th>\n",
       "      <th></th>\n",
       "      <th></th>\n",
       "      <th></th>\n",
       "      <th></th>\n",
       "      <th></th>\n",
       "      <th></th>\n",
       "      <th></th>\n",
       "      <th></th>\n",
       "      <th></th>\n",
       "      <th></th>\n",
       "      <th></th>\n",
       "      <th></th>\n",
       "    </tr>\n",
       "  </thead>\n",
       "  <tbody>\n",
       "    <tr>\n",
       "      <th>GTEX-1117F-0003-SM-58Q7G</th>\n",
       "      <td>GTEX-1117F</td>\n",
       "      <td>Female</td>\n",
       "      <td>60-69</td>\n",
       "      <td>4.0</td>\n",
       "      <td>NaN</td>\n",
       "      <td>B1</td>\n",
       "      <td>NaN</td>\n",
       "      <td>NaN</td>\n",
       "      <td>Blood</td>\n",
       "      <td>Whole Blood</td>\n",
       "      <td>...</td>\n",
       "      <td>NaN</td>\n",
       "      <td>NaN</td>\n",
       "      <td>NaN</td>\n",
       "      <td>NaN</td>\n",
       "      <td>NaN</td>\n",
       "      <td>NaN</td>\n",
       "      <td>NaN</td>\n",
       "      <td>NaN</td>\n",
       "      <td>NaN</td>\n",
       "      <td>NaN</td>\n",
       "    </tr>\n",
       "    <tr>\n",
       "      <th>GTEX-1117F-0003-SM-5DWSB</th>\n",
       "      <td>GTEX-1117F</td>\n",
       "      <td>Female</td>\n",
       "      <td>60-69</td>\n",
       "      <td>4.0</td>\n",
       "      <td>NaN</td>\n",
       "      <td>B1</td>\n",
       "      <td>NaN</td>\n",
       "      <td>NaN</td>\n",
       "      <td>Blood</td>\n",
       "      <td>Whole Blood</td>\n",
       "      <td>...</td>\n",
       "      <td>NaN</td>\n",
       "      <td>NaN</td>\n",
       "      <td>NaN</td>\n",
       "      <td>NaN</td>\n",
       "      <td>NaN</td>\n",
       "      <td>NaN</td>\n",
       "      <td>NaN</td>\n",
       "      <td>NaN</td>\n",
       "      <td>NaN</td>\n",
       "      <td>NaN</td>\n",
       "    </tr>\n",
       "    <tr>\n",
       "      <th>GTEX-1117F-0003-SM-6WBT7</th>\n",
       "      <td>GTEX-1117F</td>\n",
       "      <td>Female</td>\n",
       "      <td>60-69</td>\n",
       "      <td>4.0</td>\n",
       "      <td>NaN</td>\n",
       "      <td>B1</td>\n",
       "      <td>NaN</td>\n",
       "      <td>NaN</td>\n",
       "      <td>Blood</td>\n",
       "      <td>Whole Blood</td>\n",
       "      <td>...</td>\n",
       "      <td>NaN</td>\n",
       "      <td>NaN</td>\n",
       "      <td>NaN</td>\n",
       "      <td>NaN</td>\n",
       "      <td>NaN</td>\n",
       "      <td>NaN</td>\n",
       "      <td>NaN</td>\n",
       "      <td>NaN</td>\n",
       "      <td>NaN</td>\n",
       "      <td>NaN</td>\n",
       "    </tr>\n",
       "    <tr>\n",
       "      <th>GTEX-1117F-0011-R10a-SM-AHZ7F</th>\n",
       "      <td>GTEX-1117F</td>\n",
       "      <td>Female</td>\n",
       "      <td>60-69</td>\n",
       "      <td>4.0</td>\n",
       "      <td>NaN</td>\n",
       "      <td>B1, A1</td>\n",
       "      <td>NaN</td>\n",
       "      <td>NaN</td>\n",
       "      <td>Brain</td>\n",
       "      <td>Brain - Frontal Cortex (BA9)</td>\n",
       "      <td>...</td>\n",
       "      <td>NaN</td>\n",
       "      <td>NaN</td>\n",
       "      <td>NaN</td>\n",
       "      <td>NaN</td>\n",
       "      <td>NaN</td>\n",
       "      <td>NaN</td>\n",
       "      <td>NaN</td>\n",
       "      <td>NaN</td>\n",
       "      <td>NaN</td>\n",
       "      <td>NaN</td>\n",
       "    </tr>\n",
       "    <tr>\n",
       "      <th>GTEX-1117F-0011-R10b-SM-CYKQ8</th>\n",
       "      <td>GTEX-1117F</td>\n",
       "      <td>Female</td>\n",
       "      <td>60-69</td>\n",
       "      <td>4.0</td>\n",
       "      <td>NaN</td>\n",
       "      <td>B1, A1</td>\n",
       "      <td>NaN</td>\n",
       "      <td>7.2</td>\n",
       "      <td>Brain</td>\n",
       "      <td>Brain - Frontal Cortex (BA9)</td>\n",
       "      <td>...</td>\n",
       "      <td>NaN</td>\n",
       "      <td>NaN</td>\n",
       "      <td>NaN</td>\n",
       "      <td>NaN</td>\n",
       "      <td>NaN</td>\n",
       "      <td>NaN</td>\n",
       "      <td>NaN</td>\n",
       "      <td>NaN</td>\n",
       "      <td>NaN</td>\n",
       "      <td>NaN</td>\n",
       "    </tr>\n",
       "  </tbody>\n",
       "</table>\n",
       "<p>5 rows × 66 columns</p>\n",
       "</div>"
      ],
      "text/plain": [
       "                                   SUBJID     SEX    AGE  DTHHRDY  SMATSSCR  \\\n",
       "SAMPID                                                                        \n",
       "GTEX-1117F-0003-SM-58Q7G       GTEX-1117F  Female  60-69      4.0       NaN   \n",
       "GTEX-1117F-0003-SM-5DWSB       GTEX-1117F  Female  60-69      4.0       NaN   \n",
       "GTEX-1117F-0003-SM-6WBT7       GTEX-1117F  Female  60-69      4.0       NaN   \n",
       "GTEX-1117F-0011-R10a-SM-AHZ7F  GTEX-1117F  Female  60-69      4.0       NaN   \n",
       "GTEX-1117F-0011-R10b-SM-CYKQ8  GTEX-1117F  Female  60-69      4.0       NaN   \n",
       "\n",
       "                              SMCENTER SMPTHNTS  SMRIN   SMTS  \\\n",
       "SAMPID                                                          \n",
       "GTEX-1117F-0003-SM-58Q7G            B1      NaN    NaN  Blood   \n",
       "GTEX-1117F-0003-SM-5DWSB            B1      NaN    NaN  Blood   \n",
       "GTEX-1117F-0003-SM-6WBT7            B1      NaN    NaN  Blood   \n",
       "GTEX-1117F-0011-R10a-SM-AHZ7F   B1, A1      NaN    NaN  Brain   \n",
       "GTEX-1117F-0011-R10b-SM-CYKQ8   B1, A1      NaN    7.2  Brain   \n",
       "\n",
       "                                                      SMTSD  ... SME1ANTI  \\\n",
       "SAMPID                                                       ...            \n",
       "GTEX-1117F-0003-SM-58Q7G                        Whole Blood  ...      NaN   \n",
       "GTEX-1117F-0003-SM-5DWSB                        Whole Blood  ...      NaN   \n",
       "GTEX-1117F-0003-SM-6WBT7                        Whole Blood  ...      NaN   \n",
       "GTEX-1117F-0011-R10a-SM-AHZ7F  Brain - Frontal Cortex (BA9)  ...      NaN   \n",
       "GTEX-1117F-0011-R10b-SM-CYKQ8  Brain - Frontal Cortex (BA9)  ...      NaN   \n",
       "\n",
       "                               SMSPLTRD  SMBSMMRT SME1SNSE SME1PCTS SMRRNART  \\\n",
       "SAMPID                                                                         \n",
       "GTEX-1117F-0003-SM-58Q7G            NaN       NaN      NaN      NaN      NaN   \n",
       "GTEX-1117F-0003-SM-5DWSB            NaN       NaN      NaN      NaN      NaN   \n",
       "GTEX-1117F-0003-SM-6WBT7            NaN       NaN      NaN      NaN      NaN   \n",
       "GTEX-1117F-0011-R10a-SM-AHZ7F       NaN       NaN      NaN      NaN      NaN   \n",
       "GTEX-1117F-0011-R10b-SM-CYKQ8       NaN       NaN      NaN      NaN      NaN   \n",
       "\n",
       "                              SME1MPRT SMNUM5CD SMDPMPRT SME2PCTS  \n",
       "SAMPID                                                             \n",
       "GTEX-1117F-0003-SM-58Q7G           NaN      NaN      NaN      NaN  \n",
       "GTEX-1117F-0003-SM-5DWSB           NaN      NaN      NaN      NaN  \n",
       "GTEX-1117F-0003-SM-6WBT7           NaN      NaN      NaN      NaN  \n",
       "GTEX-1117F-0011-R10a-SM-AHZ7F      NaN      NaN      NaN      NaN  \n",
       "GTEX-1117F-0011-R10b-SM-CYKQ8      NaN      NaN      NaN      NaN  \n",
       "\n",
       "[5 rows x 66 columns]"
      ]
     },
     "execution_count": 7,
     "metadata": {},
     "output_type": "execute_result"
    }
   ],
   "source": [
    "gtex_metadata.head()"
   ]
  },
  {
   "cell_type": "markdown",
   "id": "85a68693-1bae-4473-bd18-086caf5820eb",
   "metadata": {
    "papermill": {
     "duration": 0.006772,
     "end_time": "2023-11-20T08:55:57.529828",
     "exception": false,
     "start_time": "2023-11-20T08:55:57.523056",
     "status": "completed"
    },
    "tags": []
   },
   "source": [
    "## Gene Ensembl ID -> Symbol mapping"
   ]
  },
  {
   "cell_type": "code",
   "execution_count": 8,
   "id": "3cf14b08-658d-46bc-9581-c9afd70be177",
   "metadata": {
    "execution": {
     "iopub.execute_input": "2023-11-20T08:55:57.544600Z",
     "iopub.status.busy": "2023-11-20T08:55:57.544199Z",
     "iopub.status.idle": "2023-11-20T08:55:57.562921Z",
     "shell.execute_reply": "2023-11-20T08:55:57.562384Z"
    },
    "papermill": {
     "duration": 0.027167,
     "end_time": "2023-11-20T08:55:57.563910",
     "exception": false,
     "start_time": "2023-11-20T08:55:57.536743",
     "status": "completed"
    },
    "tags": []
   },
   "outputs": [],
   "source": [
    "gene_map = pd.read_pickle(conf.GTEX[\"DATA_DIR\"] / \"gtex_gene_id_symbol_mappings.pkl\")"
   ]
  },
  {
   "cell_type": "code",
   "execution_count": 9,
   "id": "a2564d82-f685-4bc4-8ab9-5c09988830ae",
   "metadata": {
    "execution": {
     "iopub.execute_input": "2023-11-20T08:55:57.579072Z",
     "iopub.status.busy": "2023-11-20T08:55:57.578653Z",
     "iopub.status.idle": "2023-11-20T08:55:57.634878Z",
     "shell.execute_reply": "2023-11-20T08:55:57.634425Z"
    },
    "papermill": {
     "duration": 0.064994,
     "end_time": "2023-11-20T08:55:57.635818",
     "exception": false,
     "start_time": "2023-11-20T08:55:57.570824",
     "status": "completed"
    },
    "tags": []
   },
   "outputs": [],
   "source": [
    "gene_map = gene_map.set_index(\"gene_ens_id\")[\"gene_symbol\"].to_dict()"
   ]
  },
  {
   "cell_type": "code",
   "execution_count": 10,
   "id": "ced72294-1843-427e-8dc0-3f57572fd9fd",
   "metadata": {
    "execution": {
     "iopub.execute_input": "2023-11-20T08:55:57.650500Z",
     "iopub.status.busy": "2023-11-20T08:55:57.650207Z",
     "iopub.status.idle": "2023-11-20T08:55:57.652491Z",
     "shell.execute_reply": "2023-11-20T08:55:57.652119Z"
    },
    "papermill": {
     "duration": 0.010461,
     "end_time": "2023-11-20T08:55:57.653268",
     "exception": false,
     "start_time": "2023-11-20T08:55:57.642807",
     "status": "completed"
    },
    "tags": []
   },
   "outputs": [],
   "source": [
    "assert gene_map[\"ENSG00000145309.5\"] == \"CABS1\""
   ]
  },
  {
   "cell_type": "code",
   "execution_count": 11,
   "id": "e7d49359-73b7-4e13-b404-24bbcce77172",
   "metadata": {
    "execution": {
     "iopub.execute_input": "2023-11-20T08:55:57.667993Z",
     "iopub.status.busy": "2023-11-20T08:55:57.667737Z",
     "iopub.status.idle": "2023-11-20T08:55:57.670315Z",
     "shell.execute_reply": "2023-11-20T08:55:57.669870Z"
    },
    "papermill": {
     "duration": 0.010763,
     "end_time": "2023-11-20T08:55:57.671152",
     "exception": false,
     "start_time": "2023-11-20T08:55:57.660389",
     "status": "completed"
    },
    "tags": []
   },
   "outputs": [],
   "source": [
    "assert gene_map[gene0_id] == gene0_symbol\n",
    "assert gene_map[gene1_id] == gene1_symbol"
   ]
  },
  {
   "cell_type": "markdown",
   "id": "80037782-e5d0-4bf3-a7bf-ee6cb22e064e",
   "metadata": {
    "papermill": {
     "duration": 0.006923,
     "end_time": "2023-11-20T08:55:57.685112",
     "exception": false,
     "start_time": "2023-11-20T08:55:57.678189",
     "status": "completed"
    },
    "tags": []
   },
   "source": [
    "## Get male/females sample IDs"
   ]
  },
  {
   "cell_type": "code",
   "execution_count": 12,
   "id": "5122cc00-b5da-4327-a0e3-d0d4829b1986",
   "metadata": {
    "execution": {
     "iopub.execute_input": "2023-11-20T08:55:57.700015Z",
     "iopub.status.busy": "2023-11-20T08:55:57.699725Z",
     "iopub.status.idle": "2023-11-20T08:55:57.707873Z",
     "shell.execute_reply": "2023-11-20T08:55:57.707403Z"
    },
    "papermill": {
     "duration": 0.016514,
     "end_time": "2023-11-20T08:55:57.708660",
     "exception": false,
     "start_time": "2023-11-20T08:55:57.692146",
     "status": "completed"
    },
    "tags": []
   },
   "outputs": [
    {
     "data": {
      "text/plain": [
       "count     22951\n",
       "unique        2\n",
       "top        Male\n",
       "freq      15046\n",
       "Name: SEX, dtype: object"
      ]
     },
     "execution_count": 12,
     "metadata": {},
     "output_type": "execute_result"
    }
   ],
   "source": [
    "gtex_metadata[\"SEX\"].describe()"
   ]
  },
  {
   "cell_type": "code",
   "execution_count": 13,
   "id": "a31f26d7-91dc-468d-81b1-f6e563d7b88d",
   "metadata": {
    "execution": {
     "iopub.execute_input": "2023-11-20T08:55:57.723690Z",
     "iopub.status.busy": "2023-11-20T08:55:57.723392Z",
     "iopub.status.idle": "2023-11-20T08:55:57.734583Z",
     "shell.execute_reply": "2023-11-20T08:55:57.734034Z"
    },
    "papermill": {
     "duration": 0.019757,
     "end_time": "2023-11-20T08:55:57.735493",
     "exception": false,
     "start_time": "2023-11-20T08:55:57.715736",
     "status": "completed"
    },
    "tags": []
   },
   "outputs": [],
   "source": [
    "male_samples = gtex_metadata[gtex_metadata[\"SEX\"] == \"Male\"].index.tolist()"
   ]
  },
  {
   "cell_type": "code",
   "execution_count": 14,
   "id": "275350ae-f69f-4351-9a3e-0363a423487c",
   "metadata": {
    "execution": {
     "iopub.execute_input": "2023-11-20T08:55:57.750681Z",
     "iopub.status.busy": "2023-11-20T08:55:57.750313Z",
     "iopub.status.idle": "2023-11-20T08:55:57.754061Z",
     "shell.execute_reply": "2023-11-20T08:55:57.753594Z"
    },
    "papermill": {
     "duration": 0.012315,
     "end_time": "2023-11-20T08:55:57.754893",
     "exception": false,
     "start_time": "2023-11-20T08:55:57.742578",
     "status": "completed"
    },
    "tags": []
   },
   "outputs": [
    {
     "data": {
      "text/plain": [
       "15046"
      ]
     },
     "execution_count": 14,
     "metadata": {},
     "output_type": "execute_result"
    }
   ],
   "source": [
    "len(male_samples)"
   ]
  },
  {
   "cell_type": "code",
   "execution_count": 15,
   "id": "7f9ddb05-4328-4a98-921d-16c3bdff1c67",
   "metadata": {
    "execution": {
     "iopub.execute_input": "2023-11-20T08:55:57.769965Z",
     "iopub.status.busy": "2023-11-20T08:55:57.769676Z",
     "iopub.status.idle": "2023-11-20T08:55:57.773333Z",
     "shell.execute_reply": "2023-11-20T08:55:57.772871Z"
    },
    "papermill": {
     "duration": 0.012109,
     "end_time": "2023-11-20T08:55:57.774177",
     "exception": false,
     "start_time": "2023-11-20T08:55:57.762068",
     "status": "completed"
    },
    "tags": []
   },
   "outputs": [
    {
     "data": {
      "text/plain": [
       "['GTEX-111CU-0003-SM-58Q95',\n",
       " 'GTEX-111CU-0003-SM-5DWTR',\n",
       " 'GTEX-111CU-0003-SM-6WBUD',\n",
       " 'GTEX-111CU-0126-SM-5GZWZ',\n",
       " 'GTEX-111CU-0226-SM-5GZXC']"
      ]
     },
     "execution_count": 15,
     "metadata": {},
     "output_type": "execute_result"
    }
   ],
   "source": [
    "male_samples[:5]"
   ]
  },
  {
   "cell_type": "code",
   "execution_count": 16,
   "id": "dede5dad-0df7-40a1-8ea5-eab06fc3b9af",
   "metadata": {
    "execution": {
     "iopub.execute_input": "2023-11-20T08:55:57.789526Z",
     "iopub.status.busy": "2023-11-20T08:55:57.789169Z",
     "iopub.status.idle": "2023-11-20T08:55:57.797293Z",
     "shell.execute_reply": "2023-11-20T08:55:57.796743Z"
    },
    "papermill": {
     "duration": 0.016816,
     "end_time": "2023-11-20T08:55:57.798240",
     "exception": false,
     "start_time": "2023-11-20T08:55:57.781424",
     "status": "completed"
    },
    "tags": []
   },
   "outputs": [],
   "source": [
    "female_samples = gtex_metadata[gtex_metadata[\"SEX\"] == \"Female\"].index.tolist()"
   ]
  },
  {
   "cell_type": "code",
   "execution_count": 17,
   "id": "57609f27-8bb6-4377-827b-ae9d55537be1",
   "metadata": {
    "execution": {
     "iopub.execute_input": "2023-11-20T08:55:57.813663Z",
     "iopub.status.busy": "2023-11-20T08:55:57.813372Z",
     "iopub.status.idle": "2023-11-20T08:55:57.817067Z",
     "shell.execute_reply": "2023-11-20T08:55:57.816608Z"
    },
    "papermill": {
     "duration": 0.012367,
     "end_time": "2023-11-20T08:55:57.817919",
     "exception": false,
     "start_time": "2023-11-20T08:55:57.805552",
     "status": "completed"
    },
    "tags": []
   },
   "outputs": [
    {
     "data": {
      "text/plain": [
       "7905"
      ]
     },
     "execution_count": 17,
     "metadata": {},
     "output_type": "execute_result"
    }
   ],
   "source": [
    "len(female_samples)"
   ]
  },
  {
   "cell_type": "code",
   "execution_count": 18,
   "id": "e8fea00b-9119-440b-b33a-fadbc2131210",
   "metadata": {
    "execution": {
     "iopub.execute_input": "2023-11-20T08:55:57.833423Z",
     "iopub.status.busy": "2023-11-20T08:55:57.833136Z",
     "iopub.status.idle": "2023-11-20T08:55:57.836776Z",
     "shell.execute_reply": "2023-11-20T08:55:57.836311Z"
    },
    "papermill": {
     "duration": 0.012323,
     "end_time": "2023-11-20T08:55:57.837601",
     "exception": false,
     "start_time": "2023-11-20T08:55:57.825278",
     "status": "completed"
    },
    "tags": []
   },
   "outputs": [
    {
     "data": {
      "text/plain": [
       "['GTEX-1117F-0003-SM-58Q7G',\n",
       " 'GTEX-1117F-0003-SM-5DWSB',\n",
       " 'GTEX-1117F-0003-SM-6WBT7',\n",
       " 'GTEX-1117F-0011-R10a-SM-AHZ7F',\n",
       " 'GTEX-1117F-0011-R10b-SM-CYKQ8']"
      ]
     },
     "execution_count": 18,
     "metadata": {},
     "output_type": "execute_result"
    }
   ],
   "source": [
    "female_samples[:5]"
   ]
  },
  {
   "cell_type": "markdown",
   "id": "e5e52d3d-2d87-488a-ab48-d105b85fe46b",
   "metadata": {
    "papermill": {
     "duration": 0.007277,
     "end_time": "2023-11-20T08:55:57.852283",
     "exception": false,
     "start_time": "2023-11-20T08:55:57.845006",
     "status": "completed"
    },
    "tags": []
   },
   "source": [
    "# Brain cerebellum"
   ]
  },
  {
   "cell_type": "code",
   "execution_count": 19,
   "id": "137ce1ba-751a-4758-91dc-2ad1e2fb57d6",
   "metadata": {
    "execution": {
     "iopub.execute_input": "2023-11-20T08:55:57.868126Z",
     "iopub.status.busy": "2023-11-20T08:55:57.867764Z",
     "iopub.status.idle": "2023-11-20T08:55:57.971907Z",
     "shell.execute_reply": "2023-11-20T08:55:57.971473Z"
    },
    "papermill": {
     "duration": 0.11334,
     "end_time": "2023-11-20T08:55:57.973180",
     "exception": false,
     "start_time": "2023-11-20T08:55:57.859840",
     "status": "completed"
    },
    "tags": []
   },
   "outputs": [],
   "source": [
    "brain_cerebellum = (\n",
    "    pd.read_pickle(TISSUE_DIR / \"gtex_v8_data_brain_cerebellum.pkl\")\n",
    "    .loc[[gene0_id, gene1_id]]\n",
    "    .T.rename_axis(\"sample_id\")\n",
    ")"
   ]
  },
  {
   "cell_type": "code",
   "execution_count": 20,
   "id": "6e2eb857-c33c-4a65-a401-db3ced529623",
   "metadata": {
    "execution": {
     "iopub.execute_input": "2023-11-20T08:55:57.989734Z",
     "iopub.status.busy": "2023-11-20T08:55:57.989634Z",
     "iopub.status.idle": "2023-11-20T08:55:57.992488Z",
     "shell.execute_reply": "2023-11-20T08:55:57.992134Z"
    },
    "papermill": {
     "duration": 0.011606,
     "end_time": "2023-11-20T08:55:57.993202",
     "exception": false,
     "start_time": "2023-11-20T08:55:57.981596",
     "status": "completed"
    },
    "tags": []
   },
   "outputs": [
    {
     "data": {
      "text/plain": [
       "(241, 2)"
      ]
     },
     "execution_count": 20,
     "metadata": {},
     "output_type": "execute_result"
    }
   ],
   "source": [
    "brain_cerebellum.shape"
   ]
  },
  {
   "cell_type": "code",
   "execution_count": 21,
   "id": "61a489c4-de22-46ec-b795-8199d68123ae",
   "metadata": {
    "execution": {
     "iopub.execute_input": "2023-11-20T08:55:58.008703Z",
     "iopub.status.busy": "2023-11-20T08:55:58.008476Z",
     "iopub.status.idle": "2023-11-20T08:55:58.012908Z",
     "shell.execute_reply": "2023-11-20T08:55:58.012553Z"
    },
    "papermill": {
     "duration": 0.012911,
     "end_time": "2023-11-20T08:55:58.013590",
     "exception": false,
     "start_time": "2023-11-20T08:55:58.000679",
     "status": "completed"
    },
    "tags": []
   },
   "outputs": [
    {
     "data": {
      "text/html": [
       "<div>\n",
       "<style scoped>\n",
       "    .dataframe tbody tr th:only-of-type {\n",
       "        vertical-align: middle;\n",
       "    }\n",
       "\n",
       "    .dataframe tbody tr th {\n",
       "        vertical-align: top;\n",
       "    }\n",
       "\n",
       "    .dataframe thead th {\n",
       "        text-align: right;\n",
       "    }\n",
       "</style>\n",
       "<table border=\"1\" class=\"dataframe\">\n",
       "  <thead>\n",
       "    <tr style=\"text-align: right;\">\n",
       "      <th>gene_ens_id</th>\n",
       "      <th>ENSG00000147050.14</th>\n",
       "      <th>ENSG00000183878.15</th>\n",
       "    </tr>\n",
       "    <tr>\n",
       "      <th>sample_id</th>\n",
       "      <th></th>\n",
       "      <th></th>\n",
       "    </tr>\n",
       "  </thead>\n",
       "  <tbody>\n",
       "    <tr>\n",
       "      <th>GTEX-111FC-3326-SM-5GZYV</th>\n",
       "      <td>9.268</td>\n",
       "      <td>6.988</td>\n",
       "    </tr>\n",
       "    <tr>\n",
       "      <th>GTEX-1128S-2826-SM-5N9DI</th>\n",
       "      <td>12.930</td>\n",
       "      <td>0.000</td>\n",
       "    </tr>\n",
       "    <tr>\n",
       "      <th>GTEX-117XS-3126-SM-5GIDP</th>\n",
       "      <td>10.840</td>\n",
       "      <td>7.389</td>\n",
       "    </tr>\n",
       "    <tr>\n",
       "      <th>GTEX-1192X-3226-SM-5987D</th>\n",
       "      <td>10.780</td>\n",
       "      <td>5.132</td>\n",
       "    </tr>\n",
       "    <tr>\n",
       "      <th>GTEX-11DXW-1026-SM-5H11K</th>\n",
       "      <td>10.060</td>\n",
       "      <td>7.823</td>\n",
       "    </tr>\n",
       "  </tbody>\n",
       "</table>\n",
       "</div>"
      ],
      "text/plain": [
       "gene_ens_id               ENSG00000147050.14  ENSG00000183878.15\n",
       "sample_id                                                       \n",
       "GTEX-111FC-3326-SM-5GZYV               9.268               6.988\n",
       "GTEX-1128S-2826-SM-5N9DI              12.930               0.000\n",
       "GTEX-117XS-3126-SM-5GIDP              10.840               7.389\n",
       "GTEX-1192X-3226-SM-5987D              10.780               5.132\n",
       "GTEX-11DXW-1026-SM-5H11K              10.060               7.823"
      ]
     },
     "execution_count": 21,
     "metadata": {},
     "output_type": "execute_result"
    }
   ],
   "source": [
    "brain_cerebellum.head()"
   ]
  },
  {
   "cell_type": "code",
   "execution_count": 22,
   "id": "23a5e80d-afbf-4780-b84d-ba4553421f8b",
   "metadata": {
    "execution": {
     "iopub.execute_input": "2023-11-20T08:55:58.029435Z",
     "iopub.status.busy": "2023-11-20T08:55:58.029164Z",
     "iopub.status.idle": "2023-11-20T08:55:58.034801Z",
     "shell.execute_reply": "2023-11-20T08:55:58.034365Z"
    },
    "papermill": {
     "duration": 0.014433,
     "end_time": "2023-11-20T08:55:58.035617",
     "exception": false,
     "start_time": "2023-11-20T08:55:58.021184",
     "status": "completed"
    },
    "tags": []
   },
   "outputs": [],
   "source": [
    "brain_cerebellum_males = brain_cerebellum.loc[\n",
    "    brain_cerebellum.index.intersection(male_samples)\n",
    "]"
   ]
  },
  {
   "cell_type": "code",
   "execution_count": 23,
   "id": "38730891-f083-4c34-8530-30f511003abc",
   "metadata": {
    "execution": {
     "iopub.execute_input": "2023-11-20T08:55:58.051552Z",
     "iopub.status.busy": "2023-11-20T08:55:58.051264Z",
     "iopub.status.idle": "2023-11-20T08:55:58.054819Z",
     "shell.execute_reply": "2023-11-20T08:55:58.054358Z"
    },
    "papermill": {
     "duration": 0.012427,
     "end_time": "2023-11-20T08:55:58.055626",
     "exception": false,
     "start_time": "2023-11-20T08:55:58.043199",
     "status": "completed"
    },
    "tags": []
   },
   "outputs": [
    {
     "data": {
      "text/plain": [
       "(174, 2)"
      ]
     },
     "execution_count": 23,
     "metadata": {},
     "output_type": "execute_result"
    }
   ],
   "source": [
    "brain_cerebellum_males.shape"
   ]
  },
  {
   "cell_type": "code",
   "execution_count": 24,
   "id": "2081927d-7970-4805-891c-c8bc76a2351f",
   "metadata": {
    "execution": {
     "iopub.execute_input": "2023-11-20T08:55:58.071750Z",
     "iopub.status.busy": "2023-11-20T08:55:58.071458Z",
     "iopub.status.idle": "2023-11-20T08:55:58.076640Z",
     "shell.execute_reply": "2023-11-20T08:55:58.076155Z"
    },
    "papermill": {
     "duration": 0.014105,
     "end_time": "2023-11-20T08:55:58.077423",
     "exception": false,
     "start_time": "2023-11-20T08:55:58.063318",
     "status": "completed"
    },
    "tags": []
   },
   "outputs": [],
   "source": [
    "brain_cerebellum_females = brain_cerebellum.loc[\n",
    "    brain_cerebellum.index.intersection(female_samples)\n",
    "]"
   ]
  },
  {
   "cell_type": "code",
   "execution_count": 25,
   "id": "23e75a4b-0c77-470d-9a7b-4d07909be735",
   "metadata": {
    "execution": {
     "iopub.execute_input": "2023-11-20T08:55:58.097064Z",
     "iopub.status.busy": "2023-11-20T08:55:58.096854Z",
     "iopub.status.idle": "2023-11-20T08:55:58.105749Z",
     "shell.execute_reply": "2023-11-20T08:55:58.105289Z"
    },
    "papermill": {
     "duration": 0.021495,
     "end_time": "2023-11-20T08:55:58.106610",
     "exception": false,
     "start_time": "2023-11-20T08:55:58.085115",
     "status": "completed"
    },
    "tags": []
   },
   "outputs": [
    {
     "data": {
      "text/plain": [
       "(67, 2)"
      ]
     },
     "execution_count": 25,
     "metadata": {},
     "output_type": "execute_result"
    }
   ],
   "source": [
    "brain_cerebellum_females.shape"
   ]
  },
  {
   "cell_type": "markdown",
   "id": "47ed8fc3-e037-405a-bd25-010665c91132",
   "metadata": {
    "papermill": {
     "duration": 0.007803,
     "end_time": "2023-11-20T08:55:58.122565",
     "exception": false,
     "start_time": "2023-11-20T08:55:58.114762",
     "status": "completed"
    },
    "tags": []
   },
   "source": [
    "# Small intestine (terminal ileum)"
   ]
  },
  {
   "cell_type": "code",
   "execution_count": 26,
   "id": "695487c0-35c7-4a5e-b91c-4e8ee47b0295",
   "metadata": {
    "execution": {
     "iopub.execute_input": "2023-11-20T08:55:58.139576Z",
     "iopub.status.busy": "2023-11-20T08:55:58.139132Z",
     "iopub.status.idle": "2023-11-20T08:55:58.230646Z",
     "shell.execute_reply": "2023-11-20T08:55:58.230353Z"
    },
    "papermill": {
     "duration": 0.100976,
     "end_time": "2023-11-20T08:55:58.231502",
     "exception": false,
     "start_time": "2023-11-20T08:55:58.130526",
     "status": "completed"
    },
    "tags": []
   },
   "outputs": [],
   "source": [
    "small_intestine = (\n",
    "    pd.read_pickle(TISSUE_DIR / \"gtex_v8_data_small_intestine_terminal_ileum.pkl\")\n",
    "    .loc[[gene0_id, gene1_id]]\n",
    "    .T.rename_axis(\"sample_id\")\n",
    ")"
   ]
  },
  {
   "cell_type": "code",
   "execution_count": 27,
   "id": "a84a00a6-b51f-4a79-b056-0f515f526c95",
   "metadata": {
    "execution": {
     "iopub.execute_input": "2023-11-20T08:55:58.247529Z",
     "iopub.status.busy": "2023-11-20T08:55:58.247442Z",
     "iopub.status.idle": "2023-11-20T08:55:58.250183Z",
     "shell.execute_reply": "2023-11-20T08:55:58.249901Z"
    },
    "papermill": {
     "duration": 0.011604,
     "end_time": "2023-11-20T08:55:58.250884",
     "exception": false,
     "start_time": "2023-11-20T08:55:58.239280",
     "status": "completed"
    },
    "tags": []
   },
   "outputs": [
    {
     "data": {
      "text/plain": [
       "(187, 2)"
      ]
     },
     "execution_count": 27,
     "metadata": {},
     "output_type": "execute_result"
    }
   ],
   "source": [
    "small_intestine.shape"
   ]
  },
  {
   "cell_type": "code",
   "execution_count": 28,
   "id": "d9ef287c-3f2a-46da-99a8-2b6688379fc8",
   "metadata": {
    "execution": {
     "iopub.execute_input": "2023-11-20T08:55:58.267183Z",
     "iopub.status.busy": "2023-11-20T08:55:58.267093Z",
     "iopub.status.idle": "2023-11-20T08:55:58.271467Z",
     "shell.execute_reply": "2023-11-20T08:55:58.271146Z"
    },
    "papermill": {
     "duration": 0.013258,
     "end_time": "2023-11-20T08:55:58.272186",
     "exception": false,
     "start_time": "2023-11-20T08:55:58.258928",
     "status": "completed"
    },
    "tags": []
   },
   "outputs": [
    {
     "data": {
      "text/html": [
       "<div>\n",
       "<style scoped>\n",
       "    .dataframe tbody tr th:only-of-type {\n",
       "        vertical-align: middle;\n",
       "    }\n",
       "\n",
       "    .dataframe tbody tr th {\n",
       "        vertical-align: top;\n",
       "    }\n",
       "\n",
       "    .dataframe thead th {\n",
       "        text-align: right;\n",
       "    }\n",
       "</style>\n",
       "<table border=\"1\" class=\"dataframe\">\n",
       "  <thead>\n",
       "    <tr style=\"text-align: right;\">\n",
       "      <th>gene_ens_id</th>\n",
       "      <th>ENSG00000147050.14</th>\n",
       "      <th>ENSG00000183878.15</th>\n",
       "    </tr>\n",
       "    <tr>\n",
       "      <th>sample_id</th>\n",
       "      <th></th>\n",
       "      <th></th>\n",
       "    </tr>\n",
       "  </thead>\n",
       "  <tbody>\n",
       "    <tr>\n",
       "      <th>GTEX-111CU-1326-SM-5NQ8L</th>\n",
       "      <td>7.586</td>\n",
       "      <td>4.0370</td>\n",
       "    </tr>\n",
       "    <tr>\n",
       "      <th>GTEX-111YS-1426-SM-5GID8</th>\n",
       "      <td>13.500</td>\n",
       "      <td>3.3700</td>\n",
       "    </tr>\n",
       "    <tr>\n",
       "      <th>GTEX-1122O-1326-SM-5H11F</th>\n",
       "      <td>21.680</td>\n",
       "      <td>0.0309</td>\n",
       "    </tr>\n",
       "    <tr>\n",
       "      <th>GTEX-117YX-0326-SM-5GICL</th>\n",
       "      <td>8.964</td>\n",
       "      <td>5.2350</td>\n",
       "    </tr>\n",
       "    <tr>\n",
       "      <th>GTEX-1192X-2526-SM-59868</th>\n",
       "      <td>10.010</td>\n",
       "      <td>6.3990</td>\n",
       "    </tr>\n",
       "  </tbody>\n",
       "</table>\n",
       "</div>"
      ],
      "text/plain": [
       "gene_ens_id               ENSG00000147050.14  ENSG00000183878.15\n",
       "sample_id                                                       \n",
       "GTEX-111CU-1326-SM-5NQ8L               7.586              4.0370\n",
       "GTEX-111YS-1426-SM-5GID8              13.500              3.3700\n",
       "GTEX-1122O-1326-SM-5H11F              21.680              0.0309\n",
       "GTEX-117YX-0326-SM-5GICL               8.964              5.2350\n",
       "GTEX-1192X-2526-SM-59868              10.010              6.3990"
      ]
     },
     "execution_count": 28,
     "metadata": {},
     "output_type": "execute_result"
    }
   ],
   "source": [
    "small_intestine.head()"
   ]
  },
  {
   "cell_type": "code",
   "execution_count": 29,
   "id": "e485ed5e-6d56-4432-8fcb-dd2956dbe605",
   "metadata": {
    "execution": {
     "iopub.execute_input": "2023-11-20T08:55:58.288638Z",
     "iopub.status.busy": "2023-11-20T08:55:58.288544Z",
     "iopub.status.idle": "2023-11-20T08:55:58.293896Z",
     "shell.execute_reply": "2023-11-20T08:55:58.293520Z"
    },
    "papermill": {
     "duration": 0.014431,
     "end_time": "2023-11-20T08:55:58.294649",
     "exception": false,
     "start_time": "2023-11-20T08:55:58.280218",
     "status": "completed"
    },
    "tags": []
   },
   "outputs": [],
   "source": [
    "small_intestine_males = small_intestine.loc[\n",
    "    small_intestine.index.intersection(male_samples)\n",
    "]"
   ]
  },
  {
   "cell_type": "code",
   "execution_count": 30,
   "id": "558a0a54-558a-4af6-baec-4dd1189909cc",
   "metadata": {
    "execution": {
     "iopub.execute_input": "2023-11-20T08:55:58.311601Z",
     "iopub.status.busy": "2023-11-20T08:55:58.311263Z",
     "iopub.status.idle": "2023-11-20T08:55:58.314724Z",
     "shell.execute_reply": "2023-11-20T08:55:58.314331Z"
    },
    "papermill": {
     "duration": 0.01288,
     "end_time": "2023-11-20T08:55:58.315541",
     "exception": false,
     "start_time": "2023-11-20T08:55:58.302661",
     "status": "completed"
    },
    "tags": []
   },
   "outputs": [
    {
     "data": {
      "text/plain": [
       "(120, 2)"
      ]
     },
     "execution_count": 30,
     "metadata": {},
     "output_type": "execute_result"
    }
   ],
   "source": [
    "small_intestine_males.shape"
   ]
  },
  {
   "cell_type": "code",
   "execution_count": 31,
   "id": "5094eb5e-7d8d-408f-9e7e-3f73fa8e91ed",
   "metadata": {
    "execution": {
     "iopub.execute_input": "2023-11-20T08:55:58.332677Z",
     "iopub.status.busy": "2023-11-20T08:55:58.332302Z",
     "iopub.status.idle": "2023-11-20T08:55:58.337054Z",
     "shell.execute_reply": "2023-11-20T08:55:58.336655Z"
    },
    "papermill": {
     "duration": 0.01416,
     "end_time": "2023-11-20T08:55:58.337830",
     "exception": false,
     "start_time": "2023-11-20T08:55:58.323670",
     "status": "completed"
    },
    "tags": []
   },
   "outputs": [],
   "source": [
    "small_intestine_females = small_intestine.loc[\n",
    "    small_intestine.index.intersection(female_samples)\n",
    "]"
   ]
  },
  {
   "cell_type": "code",
   "execution_count": 32,
   "id": "81168021-bd56-45f8-9acc-0d6e5a1c7ba5",
   "metadata": {
    "execution": {
     "iopub.execute_input": "2023-11-20T08:55:58.354948Z",
     "iopub.status.busy": "2023-11-20T08:55:58.354661Z",
     "iopub.status.idle": "2023-11-20T08:55:58.358062Z",
     "shell.execute_reply": "2023-11-20T08:55:58.357659Z"
    },
    "papermill": {
     "duration": 0.012847,
     "end_time": "2023-11-20T08:55:58.358878",
     "exception": false,
     "start_time": "2023-11-20T08:55:58.346031",
     "status": "completed"
    },
    "tags": []
   },
   "outputs": [
    {
     "data": {
      "text/plain": [
       "(67, 2)"
      ]
     },
     "execution_count": 32,
     "metadata": {},
     "output_type": "execute_result"
    }
   ],
   "source": [
    "small_intestine_females.shape"
   ]
  },
  {
   "cell_type": "markdown",
   "id": "67e48d49-8a28-45b1-b8bd-0fd85db559b6",
   "metadata": {
    "papermill": {
     "duration": 0.008076,
     "end_time": "2023-11-20T08:55:58.375169",
     "exception": false,
     "start_time": "2023-11-20T08:55:58.367093",
     "status": "completed"
    },
    "tags": []
   },
   "source": [
    "# Compute correlation"
   ]
  },
  {
   "cell_type": "markdown",
   "id": "cfabd8a6-ac3b-4ba0-963e-689236871151",
   "metadata": {
    "papermill": {
     "duration": 0.008133,
     "end_time": "2023-11-20T08:55:58.391481",
     "exception": false,
     "start_time": "2023-11-20T08:55:58.383348",
     "status": "completed"
    },
    "tags": []
   },
   "source": [
    "## Brain cerebellum"
   ]
  },
  {
   "cell_type": "markdown",
   "id": "44e81899-ebee-4625-ba7f-7ce82dc25eca",
   "metadata": {
    "papermill": {
     "duration": 0.008075,
     "end_time": "2023-11-20T08:55:58.407755",
     "exception": false,
     "start_time": "2023-11-20T08:55:58.399680",
     "status": "completed"
    },
    "tags": []
   },
   "source": [
    "### CCC"
   ]
  },
  {
   "cell_type": "code",
   "execution_count": 33,
   "id": "0adc0cb7-6a22-49be-aafc-894aebb42dde",
   "metadata": {
    "execution": {
     "iopub.execute_input": "2023-11-20T08:55:58.424934Z",
     "iopub.status.busy": "2023-11-20T08:55:58.424612Z",
     "iopub.status.idle": "2023-11-20T08:55:59.027926Z",
     "shell.execute_reply": "2023-11-20T08:55:59.027542Z"
    },
    "papermill": {
     "duration": 0.613147,
     "end_time": "2023-11-20T08:55:59.029090",
     "exception": false,
     "start_time": "2023-11-20T08:55:58.415943",
     "status": "completed"
    },
    "tags": []
   },
   "outputs": [
    {
     "data": {
      "text/plain": [
       "(0.3674627535203262, 0.000999000999000999)"
      ]
     },
     "execution_count": 33,
     "metadata": {},
     "output_type": "execute_result"
    }
   ],
   "source": [
    "ccc(brain_cerebellum_males, pvalue_n_perms=1000)"
   ]
  },
  {
   "cell_type": "code",
   "execution_count": 34,
   "id": "2d8d145a-f9bd-42eb-89ae-beee42621083",
   "metadata": {
    "execution": {
     "iopub.execute_input": "2023-11-20T08:55:59.049822Z",
     "iopub.status.busy": "2023-11-20T08:55:59.049738Z",
     "iopub.status.idle": "2023-11-20T08:55:59.386803Z",
     "shell.execute_reply": "2023-11-20T08:55:59.386444Z"
    },
    "papermill": {
     "duration": 0.349521,
     "end_time": "2023-11-20T08:55:59.388102",
     "exception": false,
     "start_time": "2023-11-20T08:55:59.038581",
     "status": "completed"
    },
    "tags": []
   },
   "outputs": [
    {
     "data": {
      "text/plain": [
       "(0.10427807486631016, 0.015984015984015984)"
      ]
     },
     "execution_count": 34,
     "metadata": {},
     "output_type": "execute_result"
    }
   ],
   "source": [
    "ccc(brain_cerebellum_females, pvalue_n_perms=1000)"
   ]
  },
  {
   "cell_type": "markdown",
   "id": "439a1bce-e610-47b8-aa63-d49c5402c727",
   "metadata": {
    "papermill": {
     "duration": 0.015606,
     "end_time": "2023-11-20T08:55:59.419596",
     "exception": false,
     "start_time": "2023-11-20T08:55:59.403990",
     "status": "completed"
    },
    "tags": []
   },
   "source": [
    "### Pearson"
   ]
  },
  {
   "cell_type": "code",
   "execution_count": 35,
   "id": "d7ef4ad5-afbe-4365-9d90-3fecd0f382cc",
   "metadata": {
    "execution": {
     "iopub.execute_input": "2023-11-20T08:55:59.453572Z",
     "iopub.status.busy": "2023-11-20T08:55:59.453491Z",
     "iopub.status.idle": "2023-11-20T08:55:59.456801Z",
     "shell.execute_reply": "2023-11-20T08:55:59.456505Z"
    },
    "papermill": {
     "duration": 0.022649,
     "end_time": "2023-11-20T08:55:59.458058",
     "exception": false,
     "start_time": "2023-11-20T08:55:59.435409",
     "status": "completed"
    },
    "tags": []
   },
   "outputs": [
    {
     "data": {
      "text/plain": [
       "(0.8570928082720543, 2.0135444417639445e-51)"
      ]
     },
     "execution_count": 35,
     "metadata": {},
     "output_type": "execute_result"
    }
   ],
   "source": [
    "pearsonr(brain_cerebellum_males.iloc[:, 0], brain_cerebellum_males.iloc[:, 1])"
   ]
  },
  {
   "cell_type": "code",
   "execution_count": 36,
   "id": "4b4bb182-418b-4ef6-997d-0a7569a794c4",
   "metadata": {
    "execution": {
     "iopub.execute_input": "2023-11-20T08:55:59.483075Z",
     "iopub.status.busy": "2023-11-20T08:55:59.482995Z",
     "iopub.status.idle": "2023-11-20T08:55:59.486455Z",
     "shell.execute_reply": "2023-11-20T08:55:59.486022Z"
    },
    "papermill": {
     "duration": 0.01374,
     "end_time": "2023-11-20T08:55:59.487298",
     "exception": false,
     "start_time": "2023-11-20T08:55:59.473558",
     "status": "completed"
    },
    "tags": []
   },
   "outputs": [
    {
     "data": {
      "text/plain": [
       "(0.21500691975584293, 0.08058770847518525)"
      ]
     },
     "execution_count": 36,
     "metadata": {},
     "output_type": "execute_result"
    }
   ],
   "source": [
    "pearsonr(brain_cerebellum_females.iloc[:, 0], brain_cerebellum_females.iloc[:, 1])"
   ]
  },
  {
   "cell_type": "markdown",
   "id": "105fd413-62ed-4fcf-baf6-35adfd5de8c6",
   "metadata": {
    "papermill": {
     "duration": 0.008299,
     "end_time": "2023-11-20T08:55:59.504020",
     "exception": false,
     "start_time": "2023-11-20T08:55:59.495721",
     "status": "completed"
    },
    "tags": []
   },
   "source": [
    "### Spearman"
   ]
  },
  {
   "cell_type": "code",
   "execution_count": 37,
   "id": "e5712802-eb2c-4779-987f-ccd4817c6070",
   "metadata": {
    "execution": {
     "iopub.execute_input": "2023-11-20T08:55:59.521582Z",
     "iopub.status.busy": "2023-11-20T08:55:59.521432Z",
     "iopub.status.idle": "2023-11-20T08:55:59.526539Z",
     "shell.execute_reply": "2023-11-20T08:55:59.526078Z"
    },
    "papermill": {
     "duration": 0.014912,
     "end_time": "2023-11-20T08:55:59.527335",
     "exception": false,
     "start_time": "2023-11-20T08:55:59.512423",
     "status": "completed"
    },
    "tags": []
   },
   "outputs": [
    {
     "data": {
      "text/plain": [
       "SpearmanrResult(correlation=0.7909406514931421, pvalue=1.5562774794999233e-38)"
      ]
     },
     "execution_count": 37,
     "metadata": {},
     "output_type": "execute_result"
    }
   ],
   "source": [
    "spearmanr(brain_cerebellum_males.iloc[:, 0], brain_cerebellum_males.iloc[:, 1])"
   ]
  },
  {
   "cell_type": "code",
   "execution_count": 38,
   "id": "290b1ebf-91cc-4032-a0d8-fa147d39aaeb",
   "metadata": {
    "execution": {
     "iopub.execute_input": "2023-11-20T08:55:59.545195Z",
     "iopub.status.busy": "2023-11-20T08:55:59.544867Z",
     "iopub.status.idle": "2023-11-20T08:55:59.549626Z",
     "shell.execute_reply": "2023-11-20T08:55:59.549230Z"
    },
    "papermill": {
     "duration": 0.014564,
     "end_time": "2023-11-20T08:55:59.550412",
     "exception": false,
     "start_time": "2023-11-20T08:55:59.535848",
     "status": "completed"
    },
    "tags": []
   },
   "outputs": [
    {
     "data": {
      "text/plain": [
       "SpearmanrResult(correlation=0.2225445085313031, pvalue=0.07028065513936946)"
      ]
     },
     "execution_count": 38,
     "metadata": {},
     "output_type": "execute_result"
    }
   ],
   "source": [
    "spearmanr(brain_cerebellum_females.iloc[:, 0], brain_cerebellum_females.iloc[:, 1])"
   ]
  },
  {
   "cell_type": "markdown",
   "id": "a1d1d5c7-dbc0-440a-8eec-31aa252868e6",
   "metadata": {
    "papermill": {
     "duration": 0.008566,
     "end_time": "2023-11-20T08:55:59.567627",
     "exception": false,
     "start_time": "2023-11-20T08:55:59.559061",
     "status": "completed"
    },
    "tags": []
   },
   "source": [
    "## Small intestine (terminal ileum)"
   ]
  },
  {
   "cell_type": "markdown",
   "id": "6fc2d04e-39fb-4d55-919b-3f2f830386a0",
   "metadata": {
    "papermill": {
     "duration": 0.008572,
     "end_time": "2023-11-20T08:55:59.584887",
     "exception": false,
     "start_time": "2023-11-20T08:55:59.576315",
     "status": "completed"
    },
    "tags": []
   },
   "source": [
    "### CCC"
   ]
  },
  {
   "cell_type": "code",
   "execution_count": 39,
   "id": "ebe913d2-d02e-4515-9742-a9303f527395",
   "metadata": {
    "execution": {
     "iopub.execute_input": "2023-11-20T08:55:59.603192Z",
     "iopub.status.busy": "2023-11-20T08:55:59.602834Z",
     "iopub.status.idle": "2023-11-20T08:56:00.192183Z",
     "shell.execute_reply": "2023-11-20T08:56:00.191803Z"
    },
    "papermill": {
     "duration": 0.599662,
     "end_time": "2023-11-20T08:56:00.193244",
     "exception": false,
     "start_time": "2023-11-20T08:55:59.593582",
     "status": "completed"
    },
    "tags": []
   },
   "outputs": [
    {
     "data": {
      "text/plain": [
       "(0.13137865911237015, 0.000999000999000999)"
      ]
     },
     "execution_count": 39,
     "metadata": {},
     "output_type": "execute_result"
    }
   ],
   "source": [
    "ccc(small_intestine_males, pvalue_n_perms=1000)"
   ]
  },
  {
   "cell_type": "code",
   "execution_count": 40,
   "id": "f173bde0-9cf2-47fa-af40-739845d16247",
   "metadata": {
    "execution": {
     "iopub.execute_input": "2023-11-20T08:56:00.214571Z",
     "iopub.status.busy": "2023-11-20T08:56:00.214489Z",
     "iopub.status.idle": "2023-11-20T08:56:00.557902Z",
     "shell.execute_reply": "2023-11-20T08:56:00.557502Z"
    },
    "papermill": {
     "duration": 0.355935,
     "end_time": "2023-11-20T08:56:00.559121",
     "exception": false,
     "start_time": "2023-11-20T08:56:00.203186",
     "status": "completed"
    },
    "tags": []
   },
   "outputs": [
    {
     "data": {
      "text/plain": [
       "(0.04191990815775257, 0.35264735264735264)"
      ]
     },
     "execution_count": 40,
     "metadata": {},
     "output_type": "execute_result"
    }
   ],
   "source": [
    "ccc(small_intestine_females, pvalue_n_perms=1000)"
   ]
  },
  {
   "cell_type": "markdown",
   "id": "867e5576-5224-46fe-ab7a-0366b8019b7b",
   "metadata": {
    "papermill": {
     "duration": 0.016368,
     "end_time": "2023-11-20T08:56:00.592088",
     "exception": false,
     "start_time": "2023-11-20T08:56:00.575720",
     "status": "completed"
    },
    "tags": []
   },
   "source": [
    "### Pearson"
   ]
  },
  {
   "cell_type": "code",
   "execution_count": 41,
   "id": "75f54397-bfb4-467d-b329-fb159d87ba77",
   "metadata": {
    "execution": {
     "iopub.execute_input": "2023-11-20T08:56:00.625863Z",
     "iopub.status.busy": "2023-11-20T08:56:00.625776Z",
     "iopub.status.idle": "2023-11-20T08:56:00.629256Z",
     "shell.execute_reply": "2023-11-20T08:56:00.628844Z"
    },
    "papermill": {
     "duration": 0.021756,
     "end_time": "2023-11-20T08:56:00.630532",
     "exception": false,
     "start_time": "2023-11-20T08:56:00.608776",
     "status": "completed"
    },
    "tags": []
   },
   "outputs": [
    {
     "data": {
      "text/plain": [
       "(0.5401927091270222, 1.918887071018949e-10)"
      ]
     },
     "execution_count": 41,
     "metadata": {},
     "output_type": "execute_result"
    }
   ],
   "source": [
    "pearsonr(small_intestine_males.iloc[:, 0], small_intestine_males.iloc[:, 1])"
   ]
  },
  {
   "cell_type": "code",
   "execution_count": 42,
   "id": "181af358-ac4a-400e-bc46-5213cf866c50",
   "metadata": {
    "execution": {
     "iopub.execute_input": "2023-11-20T08:56:00.658608Z",
     "iopub.status.busy": "2023-11-20T08:56:00.658303Z",
     "iopub.status.idle": "2023-11-20T08:56:00.662418Z",
     "shell.execute_reply": "2023-11-20T08:56:00.662026Z"
    },
    "papermill": {
     "duration": 0.015931,
     "end_time": "2023-11-20T08:56:00.663236",
     "exception": false,
     "start_time": "2023-11-20T08:56:00.647305",
     "status": "completed"
    },
    "tags": []
   },
   "outputs": [
    {
     "data": {
      "text/plain": [
       "(-0.12377555020943821, 0.3183161563369864)"
      ]
     },
     "execution_count": 42,
     "metadata": {},
     "output_type": "execute_result"
    }
   ],
   "source": [
    "pearsonr(small_intestine_females.iloc[:, 0], small_intestine_females.iloc[:, 1])"
   ]
  },
  {
   "cell_type": "markdown",
   "id": "f21bd584-c23b-4026-8caa-fcec19f7752e",
   "metadata": {
    "papermill": {
     "duration": 0.008623,
     "end_time": "2023-11-20T08:56:00.680667",
     "exception": false,
     "start_time": "2023-11-20T08:56:00.672044",
     "status": "completed"
    },
    "tags": []
   },
   "source": [
    "### Spearman"
   ]
  },
  {
   "cell_type": "code",
   "execution_count": 43,
   "id": "f3eef972-8259-4a03-8b1e-24cb05cf7c57",
   "metadata": {
    "execution": {
     "iopub.execute_input": "2023-11-20T08:56:00.699282Z",
     "iopub.status.busy": "2023-11-20T08:56:00.698900Z",
     "iopub.status.idle": "2023-11-20T08:56:00.703998Z",
     "shell.execute_reply": "2023-11-20T08:56:00.703548Z"
    },
    "papermill": {
     "duration": 0.015248,
     "end_time": "2023-11-20T08:56:00.704802",
     "exception": false,
     "start_time": "2023-11-20T08:56:00.689554",
     "status": "completed"
    },
    "tags": []
   },
   "outputs": [
    {
     "data": {
      "text/plain": [
       "SpearmanrResult(correlation=0.46555777415724725, pvalue=8.417733469299811e-08)"
      ]
     },
     "execution_count": 43,
     "metadata": {},
     "output_type": "execute_result"
    }
   ],
   "source": [
    "spearmanr(small_intestine_males.iloc[:, 0], small_intestine_males.iloc[:, 1])"
   ]
  },
  {
   "cell_type": "code",
   "execution_count": 44,
   "id": "9dfdbf5a-fca2-4a80-a8af-fe5fa3887c66",
   "metadata": {
    "execution": {
     "iopub.execute_input": "2023-11-20T08:56:00.723658Z",
     "iopub.status.busy": "2023-11-20T08:56:00.723226Z",
     "iopub.status.idle": "2023-11-20T08:56:00.727952Z",
     "shell.execute_reply": "2023-11-20T08:56:00.727552Z"
    },
    "papermill": {
     "duration": 0.014948,
     "end_time": "2023-11-20T08:56:00.728742",
     "exception": false,
     "start_time": "2023-11-20T08:56:00.713794",
     "status": "completed"
    },
    "tags": []
   },
   "outputs": [
    {
     "data": {
      "text/plain": [
       "SpearmanrResult(correlation=0.1041356321278035, pvalue=0.40167737622824995)"
      ]
     },
     "execution_count": 44,
     "metadata": {},
     "output_type": "execute_result"
    }
   ],
   "source": [
    "spearmanr(small_intestine_females.iloc[:, 0], small_intestine_females.iloc[:, 1])"
   ]
  },
  {
   "cell_type": "markdown",
   "id": "ecd455af-8f12-484d-9338-140f69aedb75",
   "metadata": {
    "papermill": {
     "duration": 0.008966,
     "end_time": "2023-11-20T08:56:00.746800",
     "exception": false,
     "start_time": "2023-11-20T08:56:00.737834",
     "status": "completed"
    },
    "tags": []
   },
   "source": [
    "# Compute correlation on all tissues, males only"
   ]
  },
  {
   "cell_type": "code",
   "execution_count": 45,
   "id": "8b86aa69-c53b-4906-b8fd-fa97b9f90462",
   "metadata": {
    "execution": {
     "iopub.execute_input": "2023-11-20T08:56:00.765779Z",
     "iopub.status.busy": "2023-11-20T08:56:00.765437Z",
     "iopub.status.idle": "2023-11-20T08:56:05.764878Z",
     "shell.execute_reply": "2023-11-20T08:56:05.764531Z"
    },
    "papermill": {
     "duration": 5.01057,
     "end_time": "2023-11-20T08:56:05.766475",
     "exception": false,
     "start_time": "2023-11-20T08:56:00.755905",
     "status": "completed"
    },
    "tags": []
   },
   "outputs": [],
   "source": [
    "res_all_males = pd.DataFrame(\n",
    "    {\n",
    "        f.stem.split(\"_data_\")[1]: {\n",
    "            \"ccc\": ccc(data[gene0_id], data[gene1_id]),\n",
    "            \"pearson\": pearsonr(data[gene0_id], data[gene1_id])[0],\n",
    "            \"spearman\": spearmanr(data[gene0_id], data[gene1_id])[0],\n",
    "        }\n",
    "        for f in TISSUE_DIR.glob(\"*.pkl\")\n",
    "        if (\n",
    "            data := pd.read_pickle(f)\n",
    "            .T[[gene0_id, gene1_id]]\n",
    "            .reindex(male_samples)\n",
    "            .dropna()\n",
    "        )\n",
    "        is not None\n",
    "        and data.shape[0] > 10\n",
    "    }\n",
    ").T.abs()"
   ]
  },
  {
   "cell_type": "code",
   "execution_count": 46,
   "id": "93b8e40d-a049-4272-81b0-6c4f45fa1df6",
   "metadata": {
    "execution": {
     "iopub.execute_input": "2023-11-20T08:56:05.801558Z",
     "iopub.status.busy": "2023-11-20T08:56:05.801475Z",
     "iopub.status.idle": "2023-11-20T08:56:05.804294Z",
     "shell.execute_reply": "2023-11-20T08:56:05.804009Z"
    },
    "papermill": {
     "duration": 0.021576,
     "end_time": "2023-11-20T08:56:05.805494",
     "exception": false,
     "start_time": "2023-11-20T08:56:05.783918",
     "status": "completed"
    },
    "tags": []
   },
   "outputs": [
    {
     "data": {
      "text/plain": [
       "(47, 3)"
      ]
     },
     "execution_count": 46,
     "metadata": {},
     "output_type": "execute_result"
    }
   ],
   "source": [
    "res_all_males.shape"
   ]
  },
  {
   "cell_type": "code",
   "execution_count": 47,
   "id": "52c86cee-59b3-41a7-ac71-8a000d9c472f",
   "metadata": {
    "execution": {
     "iopub.execute_input": "2023-11-20T08:56:05.840469Z",
     "iopub.status.busy": "2023-11-20T08:56:05.840392Z",
     "iopub.status.idle": "2023-11-20T08:56:05.844909Z",
     "shell.execute_reply": "2023-11-20T08:56:05.844558Z"
    },
    "papermill": {
     "duration": 0.023309,
     "end_time": "2023-11-20T08:56:05.846180",
     "exception": false,
     "start_time": "2023-11-20T08:56:05.822871",
     "status": "completed"
    },
    "tags": []
   },
   "outputs": [
    {
     "data": {
      "text/html": [
       "<div>\n",
       "<style scoped>\n",
       "    .dataframe tbody tr th:only-of-type {\n",
       "        vertical-align: middle;\n",
       "    }\n",
       "\n",
       "    .dataframe tbody tr th {\n",
       "        vertical-align: top;\n",
       "    }\n",
       "\n",
       "    .dataframe thead th {\n",
       "        text-align: right;\n",
       "    }\n",
       "</style>\n",
       "<table border=\"1\" class=\"dataframe\">\n",
       "  <thead>\n",
       "    <tr style=\"text-align: right;\">\n",
       "      <th></th>\n",
       "      <th>ccc</th>\n",
       "      <th>pearson</th>\n",
       "      <th>spearman</th>\n",
       "    </tr>\n",
       "  </thead>\n",
       "  <tbody>\n",
       "    <tr>\n",
       "      <th>colon_transverse</th>\n",
       "      <td>0.237485</td>\n",
       "      <td>0.704703</td>\n",
       "      <td>0.691430</td>\n",
       "    </tr>\n",
       "    <tr>\n",
       "      <th>brain_amygdala</th>\n",
       "      <td>0.540782</td>\n",
       "      <td>0.880306</td>\n",
       "      <td>0.914251</td>\n",
       "    </tr>\n",
       "    <tr>\n",
       "      <th>artery_coronary</th>\n",
       "      <td>0.410458</td>\n",
       "      <td>0.861073</td>\n",
       "      <td>0.801901</td>\n",
       "    </tr>\n",
       "    <tr>\n",
       "      <th>artery_aorta</th>\n",
       "      <td>0.428166</td>\n",
       "      <td>0.814962</td>\n",
       "      <td>0.810471</td>\n",
       "    </tr>\n",
       "    <tr>\n",
       "      <th>adrenal_gland</th>\n",
       "      <td>0.261443</td>\n",
       "      <td>0.657966</td>\n",
       "      <td>0.682019</td>\n",
       "    </tr>\n",
       "  </tbody>\n",
       "</table>\n",
       "</div>"
      ],
      "text/plain": [
       "                       ccc   pearson  spearman\n",
       "colon_transverse  0.237485  0.704703  0.691430\n",
       "brain_amygdala    0.540782  0.880306  0.914251\n",
       "artery_coronary   0.410458  0.861073  0.801901\n",
       "artery_aorta      0.428166  0.814962  0.810471\n",
       "adrenal_gland     0.261443  0.657966  0.682019"
      ]
     },
     "execution_count": 47,
     "metadata": {},
     "output_type": "execute_result"
    }
   ],
   "source": [
    "res_all_males.head()"
   ]
  },
  {
   "cell_type": "code",
   "execution_count": 48,
   "id": "58840394-da1e-499d-b3a3-4c2292a57fbe",
   "metadata": {
    "execution": {
     "iopub.execute_input": "2023-11-20T08:56:05.873387Z",
     "iopub.status.busy": "2023-11-20T08:56:05.873052Z",
     "iopub.status.idle": "2023-11-20T08:56:05.884369Z",
     "shell.execute_reply": "2023-11-20T08:56:05.883923Z"
    },
    "papermill": {
     "duration": 0.022072,
     "end_time": "2023-11-20T08:56:05.885172",
     "exception": false,
     "start_time": "2023-11-20T08:56:05.863100",
     "status": "completed"
    },
    "tags": []
   },
   "outputs": [
    {
     "data": {
      "text/html": [
       "<div>\n",
       "<style scoped>\n",
       "    .dataframe tbody tr th:only-of-type {\n",
       "        vertical-align: middle;\n",
       "    }\n",
       "\n",
       "    .dataframe tbody tr th {\n",
       "        vertical-align: top;\n",
       "    }\n",
       "\n",
       "    .dataframe thead th {\n",
       "        text-align: right;\n",
       "    }\n",
       "</style>\n",
       "<table border=\"1\" class=\"dataframe\">\n",
       "  <thead>\n",
       "    <tr style=\"text-align: right;\">\n",
       "      <th></th>\n",
       "      <th>ccc</th>\n",
       "      <th>pearson</th>\n",
       "      <th>spearman</th>\n",
       "    </tr>\n",
       "  </thead>\n",
       "  <tbody>\n",
       "    <tr>\n",
       "      <th>small_intestine_terminal_ileum</th>\n",
       "      <td>0.131379</td>\n",
       "      <td>0.540193</td>\n",
       "      <td>0.465558</td>\n",
       "    </tr>\n",
       "    <tr>\n",
       "      <th>stomach</th>\n",
       "      <td>0.186605</td>\n",
       "      <td>0.546008</td>\n",
       "      <td>0.631823</td>\n",
       "    </tr>\n",
       "    <tr>\n",
       "      <th>liver</th>\n",
       "      <td>0.189274</td>\n",
       "      <td>0.619830</td>\n",
       "      <td>0.618370</td>\n",
       "    </tr>\n",
       "    <tr>\n",
       "      <th>muscle_skeletal</th>\n",
       "      <td>0.205450</td>\n",
       "      <td>0.648536</td>\n",
       "      <td>0.658019</td>\n",
       "    </tr>\n",
       "    <tr>\n",
       "      <th>testis</th>\n",
       "      <td>0.206704</td>\n",
       "      <td>0.692661</td>\n",
       "      <td>0.690990</td>\n",
       "    </tr>\n",
       "    <tr>\n",
       "      <th>pituitary</th>\n",
       "      <td>0.217599</td>\n",
       "      <td>0.629830</td>\n",
       "      <td>0.643730</td>\n",
       "    </tr>\n",
       "    <tr>\n",
       "      <th>colon_transverse</th>\n",
       "      <td>0.237485</td>\n",
       "      <td>0.704703</td>\n",
       "      <td>0.691430</td>\n",
       "    </tr>\n",
       "    <tr>\n",
       "      <th>thyroid</th>\n",
       "      <td>0.255240</td>\n",
       "      <td>0.675918</td>\n",
       "      <td>0.697297</td>\n",
       "    </tr>\n",
       "    <tr>\n",
       "      <th>adrenal_gland</th>\n",
       "      <td>0.261443</td>\n",
       "      <td>0.657966</td>\n",
       "      <td>0.682019</td>\n",
       "    </tr>\n",
       "    <tr>\n",
       "      <th>colon_sigmoid</th>\n",
       "      <td>0.301971</td>\n",
       "      <td>0.784019</td>\n",
       "      <td>0.769884</td>\n",
       "    </tr>\n",
       "    <tr>\n",
       "      <th>nerve_tibial</th>\n",
       "      <td>0.323745</td>\n",
       "      <td>0.819943</td>\n",
       "      <td>0.772638</td>\n",
       "    </tr>\n",
       "    <tr>\n",
       "      <th>artery_tibial</th>\n",
       "      <td>0.336675</td>\n",
       "      <td>0.782014</td>\n",
       "      <td>0.776460</td>\n",
       "    </tr>\n",
       "    <tr>\n",
       "      <th>prostate</th>\n",
       "      <td>0.347597</td>\n",
       "      <td>0.804046</td>\n",
       "      <td>0.799923</td>\n",
       "    </tr>\n",
       "    <tr>\n",
       "      <th>cells_ebvtransformed_lymphocytes</th>\n",
       "      <td>0.362883</td>\n",
       "      <td>0.875265</td>\n",
       "      <td>0.827843</td>\n",
       "    </tr>\n",
       "    <tr>\n",
       "      <th>brain_cerebellum</th>\n",
       "      <td>0.367463</td>\n",
       "      <td>0.857093</td>\n",
       "      <td>0.790941</td>\n",
       "    </tr>\n",
       "    <tr>\n",
       "      <th>adipose_subcutaneous</th>\n",
       "      <td>0.380501</td>\n",
       "      <td>0.826960</td>\n",
       "      <td>0.807961</td>\n",
       "    </tr>\n",
       "    <tr>\n",
       "      <th>lung</th>\n",
       "      <td>0.383148</td>\n",
       "      <td>0.777688</td>\n",
       "      <td>0.767171</td>\n",
       "    </tr>\n",
       "    <tr>\n",
       "      <th>skin_sun_exposed_lower_leg</th>\n",
       "      <td>0.397742</td>\n",
       "      <td>0.806817</td>\n",
       "      <td>0.799174</td>\n",
       "    </tr>\n",
       "    <tr>\n",
       "      <th>esophagus_mucosa</th>\n",
       "      <td>0.403310</td>\n",
       "      <td>0.843500</td>\n",
       "      <td>0.850711</td>\n",
       "    </tr>\n",
       "    <tr>\n",
       "      <th>esophagus_muscularis</th>\n",
       "      <td>0.406628</td>\n",
       "      <td>0.859394</td>\n",
       "      <td>0.849154</td>\n",
       "    </tr>\n",
       "    <tr>\n",
       "      <th>brain_cerebellar_hemisphere</th>\n",
       "      <td>0.410069</td>\n",
       "      <td>0.881902</td>\n",
       "      <td>0.862051</td>\n",
       "    </tr>\n",
       "    <tr>\n",
       "      <th>artery_coronary</th>\n",
       "      <td>0.410458</td>\n",
       "      <td>0.861073</td>\n",
       "      <td>0.801901</td>\n",
       "    </tr>\n",
       "    <tr>\n",
       "      <th>esophagus_gastroesophageal_junction</th>\n",
       "      <td>0.419401</td>\n",
       "      <td>0.849706</td>\n",
       "      <td>0.843063</td>\n",
       "    </tr>\n",
       "    <tr>\n",
       "      <th>minor_salivary_gland</th>\n",
       "      <td>0.420246</td>\n",
       "      <td>0.805288</td>\n",
       "      <td>0.804937</td>\n",
       "    </tr>\n",
       "    <tr>\n",
       "      <th>brain_anterior_cingulate_cortex_ba24</th>\n",
       "      <td>0.426146</td>\n",
       "      <td>0.835251</td>\n",
       "      <td>0.874480</td>\n",
       "    </tr>\n",
       "    <tr>\n",
       "      <th>adipose_visceral_omentum</th>\n",
       "      <td>0.427460</td>\n",
       "      <td>0.877532</td>\n",
       "      <td>0.863902</td>\n",
       "    </tr>\n",
       "    <tr>\n",
       "      <th>artery_aorta</th>\n",
       "      <td>0.428166</td>\n",
       "      <td>0.814962</td>\n",
       "      <td>0.810471</td>\n",
       "    </tr>\n",
       "    <tr>\n",
       "      <th>brain_frontal_cortex_ba9</th>\n",
       "      <td>0.432036</td>\n",
       "      <td>0.854144</td>\n",
       "      <td>0.876284</td>\n",
       "    </tr>\n",
       "    <tr>\n",
       "      <th>cells_cultured_fibroblasts</th>\n",
       "      <td>0.434682</td>\n",
       "      <td>0.772410</td>\n",
       "      <td>0.791284</td>\n",
       "    </tr>\n",
       "    <tr>\n",
       "      <th>brain_cortex</th>\n",
       "      <td>0.443814</td>\n",
       "      <td>0.884841</td>\n",
       "      <td>0.889380</td>\n",
       "    </tr>\n",
       "    <tr>\n",
       "      <th>pancreas</th>\n",
       "      <td>0.461364</td>\n",
       "      <td>0.896896</td>\n",
       "      <td>0.871488</td>\n",
       "    </tr>\n",
       "    <tr>\n",
       "      <th>heart_atrial_appendage</th>\n",
       "      <td>0.487768</td>\n",
       "      <td>0.835058</td>\n",
       "      <td>0.833513</td>\n",
       "    </tr>\n",
       "    <tr>\n",
       "      <th>spleen</th>\n",
       "      <td>0.506982</td>\n",
       "      <td>0.807828</td>\n",
       "      <td>0.858734</td>\n",
       "    </tr>\n",
       "    <tr>\n",
       "      <th>skin_not_sun_exposed_suprapubic</th>\n",
       "      <td>0.528096</td>\n",
       "      <td>0.855796</td>\n",
       "      <td>0.859677</td>\n",
       "    </tr>\n",
       "    <tr>\n",
       "      <th>brain_caudate_basal_ganglia</th>\n",
       "      <td>0.536427</td>\n",
       "      <td>0.862235</td>\n",
       "      <td>0.894522</td>\n",
       "    </tr>\n",
       "    <tr>\n",
       "      <th>brain_amygdala</th>\n",
       "      <td>0.540782</td>\n",
       "      <td>0.880306</td>\n",
       "      <td>0.914251</td>\n",
       "    </tr>\n",
       "    <tr>\n",
       "      <th>brain_putamen_basal_ganglia</th>\n",
       "      <td>0.550023</td>\n",
       "      <td>0.915380</td>\n",
       "      <td>0.929241</td>\n",
       "    </tr>\n",
       "    <tr>\n",
       "      <th>brain_hippocampus</th>\n",
       "      <td>0.599705</td>\n",
       "      <td>0.899903</td>\n",
       "      <td>0.916020</td>\n",
       "    </tr>\n",
       "    <tr>\n",
       "      <th>brain_nucleus_accumbens_basal_ganglia</th>\n",
       "      <td>0.606569</td>\n",
       "      <td>0.920563</td>\n",
       "      <td>0.941653</td>\n",
       "    </tr>\n",
       "    <tr>\n",
       "      <th>brain_hypothalamus</th>\n",
       "      <td>0.609338</td>\n",
       "      <td>0.928625</td>\n",
       "      <td>0.946419</td>\n",
       "    </tr>\n",
       "    <tr>\n",
       "      <th>whole_blood</th>\n",
       "      <td>0.614561</td>\n",
       "      <td>0.911354</td>\n",
       "      <td>0.929595</td>\n",
       "    </tr>\n",
       "    <tr>\n",
       "      <th>bladder</th>\n",
       "      <td>0.623077</td>\n",
       "      <td>0.947606</td>\n",
       "      <td>0.898901</td>\n",
       "    </tr>\n",
       "    <tr>\n",
       "      <th>heart_left_ventricle</th>\n",
       "      <td>0.632231</td>\n",
       "      <td>0.924407</td>\n",
       "      <td>0.923212</td>\n",
       "    </tr>\n",
       "    <tr>\n",
       "      <th>brain_substantia_nigra</th>\n",
       "      <td>0.639569</td>\n",
       "      <td>0.904160</td>\n",
       "      <td>0.922021</td>\n",
       "    </tr>\n",
       "    <tr>\n",
       "      <th>kidney_cortex</th>\n",
       "      <td>0.664256</td>\n",
       "      <td>0.933545</td>\n",
       "      <td>0.927273</td>\n",
       "    </tr>\n",
       "    <tr>\n",
       "      <th>brain_spinal_cord_cervical_c1</th>\n",
       "      <td>0.707989</td>\n",
       "      <td>0.924438</td>\n",
       "      <td>0.923254</td>\n",
       "    </tr>\n",
       "    <tr>\n",
       "      <th>breast_mammary_tissue</th>\n",
       "      <td>0.719490</td>\n",
       "      <td>0.913081</td>\n",
       "      <td>0.937118</td>\n",
       "    </tr>\n",
       "  </tbody>\n",
       "</table>\n",
       "</div>"
      ],
      "text/plain": [
       "                                            ccc   pearson  spearman\n",
       "small_intestine_terminal_ileum         0.131379  0.540193  0.465558\n",
       "stomach                                0.186605  0.546008  0.631823\n",
       "liver                                  0.189274  0.619830  0.618370\n",
       "muscle_skeletal                        0.205450  0.648536  0.658019\n",
       "testis                                 0.206704  0.692661  0.690990\n",
       "pituitary                              0.217599  0.629830  0.643730\n",
       "colon_transverse                       0.237485  0.704703  0.691430\n",
       "thyroid                                0.255240  0.675918  0.697297\n",
       "adrenal_gland                          0.261443  0.657966  0.682019\n",
       "colon_sigmoid                          0.301971  0.784019  0.769884\n",
       "nerve_tibial                           0.323745  0.819943  0.772638\n",
       "artery_tibial                          0.336675  0.782014  0.776460\n",
       "prostate                               0.347597  0.804046  0.799923\n",
       "cells_ebvtransformed_lymphocytes       0.362883  0.875265  0.827843\n",
       "brain_cerebellum                       0.367463  0.857093  0.790941\n",
       "adipose_subcutaneous                   0.380501  0.826960  0.807961\n",
       "lung                                   0.383148  0.777688  0.767171\n",
       "skin_sun_exposed_lower_leg             0.397742  0.806817  0.799174\n",
       "esophagus_mucosa                       0.403310  0.843500  0.850711\n",
       "esophagus_muscularis                   0.406628  0.859394  0.849154\n",
       "brain_cerebellar_hemisphere            0.410069  0.881902  0.862051\n",
       "artery_coronary                        0.410458  0.861073  0.801901\n",
       "esophagus_gastroesophageal_junction    0.419401  0.849706  0.843063\n",
       "minor_salivary_gland                   0.420246  0.805288  0.804937\n",
       "brain_anterior_cingulate_cortex_ba24   0.426146  0.835251  0.874480\n",
       "adipose_visceral_omentum               0.427460  0.877532  0.863902\n",
       "artery_aorta                           0.428166  0.814962  0.810471\n",
       "brain_frontal_cortex_ba9               0.432036  0.854144  0.876284\n",
       "cells_cultured_fibroblasts             0.434682  0.772410  0.791284\n",
       "brain_cortex                           0.443814  0.884841  0.889380\n",
       "pancreas                               0.461364  0.896896  0.871488\n",
       "heart_atrial_appendage                 0.487768  0.835058  0.833513\n",
       "spleen                                 0.506982  0.807828  0.858734\n",
       "skin_not_sun_exposed_suprapubic        0.528096  0.855796  0.859677\n",
       "brain_caudate_basal_ganglia            0.536427  0.862235  0.894522\n",
       "brain_amygdala                         0.540782  0.880306  0.914251\n",
       "brain_putamen_basal_ganglia            0.550023  0.915380  0.929241\n",
       "brain_hippocampus                      0.599705  0.899903  0.916020\n",
       "brain_nucleus_accumbens_basal_ganglia  0.606569  0.920563  0.941653\n",
       "brain_hypothalamus                     0.609338  0.928625  0.946419\n",
       "whole_blood                            0.614561  0.911354  0.929595\n",
       "bladder                                0.623077  0.947606  0.898901\n",
       "heart_left_ventricle                   0.632231  0.924407  0.923212\n",
       "brain_substantia_nigra                 0.639569  0.904160  0.922021\n",
       "kidney_cortex                          0.664256  0.933545  0.927273\n",
       "brain_spinal_cord_cervical_c1          0.707989  0.924438  0.923254\n",
       "breast_mammary_tissue                  0.719490  0.913081  0.937118"
      ]
     },
     "execution_count": 48,
     "metadata": {},
     "output_type": "execute_result"
    }
   ],
   "source": [
    "res_all_males.sort_values(\"ccc\")"
   ]
  },
  {
   "cell_type": "code",
   "execution_count": 49,
   "id": "21684890-5dc8-4ad4-a7bc-693caccb386e",
   "metadata": {
    "execution": {
     "iopub.execute_input": "2023-11-20T08:56:05.904956Z",
     "iopub.status.busy": "2023-11-20T08:56:05.904807Z",
     "iopub.status.idle": "2023-11-20T08:56:05.915624Z",
     "shell.execute_reply": "2023-11-20T08:56:05.915230Z"
    },
    "papermill": {
     "duration": 0.021518,
     "end_time": "2023-11-20T08:56:05.916408",
     "exception": false,
     "start_time": "2023-11-20T08:56:05.894890",
     "status": "completed"
    },
    "tags": []
   },
   "outputs": [
    {
     "data": {
      "text/html": [
       "<div>\n",
       "<style scoped>\n",
       "    .dataframe tbody tr th:only-of-type {\n",
       "        vertical-align: middle;\n",
       "    }\n",
       "\n",
       "    .dataframe tbody tr th {\n",
       "        vertical-align: top;\n",
       "    }\n",
       "\n",
       "    .dataframe thead th {\n",
       "        text-align: right;\n",
       "    }\n",
       "</style>\n",
       "<table border=\"1\" class=\"dataframe\">\n",
       "  <thead>\n",
       "    <tr style=\"text-align: right;\">\n",
       "      <th></th>\n",
       "      <th>ccc</th>\n",
       "      <th>pearson</th>\n",
       "      <th>spearman</th>\n",
       "    </tr>\n",
       "  </thead>\n",
       "  <tbody>\n",
       "    <tr>\n",
       "      <th>small_intestine_terminal_ileum</th>\n",
       "      <td>0.131379</td>\n",
       "      <td>0.540193</td>\n",
       "      <td>0.465558</td>\n",
       "    </tr>\n",
       "    <tr>\n",
       "      <th>stomach</th>\n",
       "      <td>0.186605</td>\n",
       "      <td>0.546008</td>\n",
       "      <td>0.631823</td>\n",
       "    </tr>\n",
       "    <tr>\n",
       "      <th>liver</th>\n",
       "      <td>0.189274</td>\n",
       "      <td>0.619830</td>\n",
       "      <td>0.618370</td>\n",
       "    </tr>\n",
       "    <tr>\n",
       "      <th>pituitary</th>\n",
       "      <td>0.217599</td>\n",
       "      <td>0.629830</td>\n",
       "      <td>0.643730</td>\n",
       "    </tr>\n",
       "    <tr>\n",
       "      <th>muscle_skeletal</th>\n",
       "      <td>0.205450</td>\n",
       "      <td>0.648536</td>\n",
       "      <td>0.658019</td>\n",
       "    </tr>\n",
       "    <tr>\n",
       "      <th>adrenal_gland</th>\n",
       "      <td>0.261443</td>\n",
       "      <td>0.657966</td>\n",
       "      <td>0.682019</td>\n",
       "    </tr>\n",
       "    <tr>\n",
       "      <th>thyroid</th>\n",
       "      <td>0.255240</td>\n",
       "      <td>0.675918</td>\n",
       "      <td>0.697297</td>\n",
       "    </tr>\n",
       "    <tr>\n",
       "      <th>testis</th>\n",
       "      <td>0.206704</td>\n",
       "      <td>0.692661</td>\n",
       "      <td>0.690990</td>\n",
       "    </tr>\n",
       "    <tr>\n",
       "      <th>colon_transverse</th>\n",
       "      <td>0.237485</td>\n",
       "      <td>0.704703</td>\n",
       "      <td>0.691430</td>\n",
       "    </tr>\n",
       "    <tr>\n",
       "      <th>cells_cultured_fibroblasts</th>\n",
       "      <td>0.434682</td>\n",
       "      <td>0.772410</td>\n",
       "      <td>0.791284</td>\n",
       "    </tr>\n",
       "    <tr>\n",
       "      <th>lung</th>\n",
       "      <td>0.383148</td>\n",
       "      <td>0.777688</td>\n",
       "      <td>0.767171</td>\n",
       "    </tr>\n",
       "    <tr>\n",
       "      <th>artery_tibial</th>\n",
       "      <td>0.336675</td>\n",
       "      <td>0.782014</td>\n",
       "      <td>0.776460</td>\n",
       "    </tr>\n",
       "    <tr>\n",
       "      <th>colon_sigmoid</th>\n",
       "      <td>0.301971</td>\n",
       "      <td>0.784019</td>\n",
       "      <td>0.769884</td>\n",
       "    </tr>\n",
       "    <tr>\n",
       "      <th>prostate</th>\n",
       "      <td>0.347597</td>\n",
       "      <td>0.804046</td>\n",
       "      <td>0.799923</td>\n",
       "    </tr>\n",
       "    <tr>\n",
       "      <th>minor_salivary_gland</th>\n",
       "      <td>0.420246</td>\n",
       "      <td>0.805288</td>\n",
       "      <td>0.804937</td>\n",
       "    </tr>\n",
       "    <tr>\n",
       "      <th>skin_sun_exposed_lower_leg</th>\n",
       "      <td>0.397742</td>\n",
       "      <td>0.806817</td>\n",
       "      <td>0.799174</td>\n",
       "    </tr>\n",
       "    <tr>\n",
       "      <th>spleen</th>\n",
       "      <td>0.506982</td>\n",
       "      <td>0.807828</td>\n",
       "      <td>0.858734</td>\n",
       "    </tr>\n",
       "    <tr>\n",
       "      <th>artery_aorta</th>\n",
       "      <td>0.428166</td>\n",
       "      <td>0.814962</td>\n",
       "      <td>0.810471</td>\n",
       "    </tr>\n",
       "    <tr>\n",
       "      <th>nerve_tibial</th>\n",
       "      <td>0.323745</td>\n",
       "      <td>0.819943</td>\n",
       "      <td>0.772638</td>\n",
       "    </tr>\n",
       "    <tr>\n",
       "      <th>adipose_subcutaneous</th>\n",
       "      <td>0.380501</td>\n",
       "      <td>0.826960</td>\n",
       "      <td>0.807961</td>\n",
       "    </tr>\n",
       "    <tr>\n",
       "      <th>heart_atrial_appendage</th>\n",
       "      <td>0.487768</td>\n",
       "      <td>0.835058</td>\n",
       "      <td>0.833513</td>\n",
       "    </tr>\n",
       "    <tr>\n",
       "      <th>brain_anterior_cingulate_cortex_ba24</th>\n",
       "      <td>0.426146</td>\n",
       "      <td>0.835251</td>\n",
       "      <td>0.874480</td>\n",
       "    </tr>\n",
       "    <tr>\n",
       "      <th>esophagus_mucosa</th>\n",
       "      <td>0.403310</td>\n",
       "      <td>0.843500</td>\n",
       "      <td>0.850711</td>\n",
       "    </tr>\n",
       "    <tr>\n",
       "      <th>esophagus_gastroesophageal_junction</th>\n",
       "      <td>0.419401</td>\n",
       "      <td>0.849706</td>\n",
       "      <td>0.843063</td>\n",
       "    </tr>\n",
       "    <tr>\n",
       "      <th>brain_frontal_cortex_ba9</th>\n",
       "      <td>0.432036</td>\n",
       "      <td>0.854144</td>\n",
       "      <td>0.876284</td>\n",
       "    </tr>\n",
       "    <tr>\n",
       "      <th>skin_not_sun_exposed_suprapubic</th>\n",
       "      <td>0.528096</td>\n",
       "      <td>0.855796</td>\n",
       "      <td>0.859677</td>\n",
       "    </tr>\n",
       "    <tr>\n",
       "      <th>brain_cerebellum</th>\n",
       "      <td>0.367463</td>\n",
       "      <td>0.857093</td>\n",
       "      <td>0.790941</td>\n",
       "    </tr>\n",
       "    <tr>\n",
       "      <th>esophagus_muscularis</th>\n",
       "      <td>0.406628</td>\n",
       "      <td>0.859394</td>\n",
       "      <td>0.849154</td>\n",
       "    </tr>\n",
       "    <tr>\n",
       "      <th>artery_coronary</th>\n",
       "      <td>0.410458</td>\n",
       "      <td>0.861073</td>\n",
       "      <td>0.801901</td>\n",
       "    </tr>\n",
       "    <tr>\n",
       "      <th>brain_caudate_basal_ganglia</th>\n",
       "      <td>0.536427</td>\n",
       "      <td>0.862235</td>\n",
       "      <td>0.894522</td>\n",
       "    </tr>\n",
       "    <tr>\n",
       "      <th>cells_ebvtransformed_lymphocytes</th>\n",
       "      <td>0.362883</td>\n",
       "      <td>0.875265</td>\n",
       "      <td>0.827843</td>\n",
       "    </tr>\n",
       "    <tr>\n",
       "      <th>adipose_visceral_omentum</th>\n",
       "      <td>0.427460</td>\n",
       "      <td>0.877532</td>\n",
       "      <td>0.863902</td>\n",
       "    </tr>\n",
       "    <tr>\n",
       "      <th>brain_amygdala</th>\n",
       "      <td>0.540782</td>\n",
       "      <td>0.880306</td>\n",
       "      <td>0.914251</td>\n",
       "    </tr>\n",
       "    <tr>\n",
       "      <th>brain_cerebellar_hemisphere</th>\n",
       "      <td>0.410069</td>\n",
       "      <td>0.881902</td>\n",
       "      <td>0.862051</td>\n",
       "    </tr>\n",
       "    <tr>\n",
       "      <th>brain_cortex</th>\n",
       "      <td>0.443814</td>\n",
       "      <td>0.884841</td>\n",
       "      <td>0.889380</td>\n",
       "    </tr>\n",
       "    <tr>\n",
       "      <th>pancreas</th>\n",
       "      <td>0.461364</td>\n",
       "      <td>0.896896</td>\n",
       "      <td>0.871488</td>\n",
       "    </tr>\n",
       "    <tr>\n",
       "      <th>brain_hippocampus</th>\n",
       "      <td>0.599705</td>\n",
       "      <td>0.899903</td>\n",
       "      <td>0.916020</td>\n",
       "    </tr>\n",
       "    <tr>\n",
       "      <th>brain_substantia_nigra</th>\n",
       "      <td>0.639569</td>\n",
       "      <td>0.904160</td>\n",
       "      <td>0.922021</td>\n",
       "    </tr>\n",
       "    <tr>\n",
       "      <th>whole_blood</th>\n",
       "      <td>0.614561</td>\n",
       "      <td>0.911354</td>\n",
       "      <td>0.929595</td>\n",
       "    </tr>\n",
       "    <tr>\n",
       "      <th>breast_mammary_tissue</th>\n",
       "      <td>0.719490</td>\n",
       "      <td>0.913081</td>\n",
       "      <td>0.937118</td>\n",
       "    </tr>\n",
       "    <tr>\n",
       "      <th>brain_putamen_basal_ganglia</th>\n",
       "      <td>0.550023</td>\n",
       "      <td>0.915380</td>\n",
       "      <td>0.929241</td>\n",
       "    </tr>\n",
       "    <tr>\n",
       "      <th>brain_nucleus_accumbens_basal_ganglia</th>\n",
       "      <td>0.606569</td>\n",
       "      <td>0.920563</td>\n",
       "      <td>0.941653</td>\n",
       "    </tr>\n",
       "    <tr>\n",
       "      <th>heart_left_ventricle</th>\n",
       "      <td>0.632231</td>\n",
       "      <td>0.924407</td>\n",
       "      <td>0.923212</td>\n",
       "    </tr>\n",
       "    <tr>\n",
       "      <th>brain_spinal_cord_cervical_c1</th>\n",
       "      <td>0.707989</td>\n",
       "      <td>0.924438</td>\n",
       "      <td>0.923254</td>\n",
       "    </tr>\n",
       "    <tr>\n",
       "      <th>brain_hypothalamus</th>\n",
       "      <td>0.609338</td>\n",
       "      <td>0.928625</td>\n",
       "      <td>0.946419</td>\n",
       "    </tr>\n",
       "    <tr>\n",
       "      <th>kidney_cortex</th>\n",
       "      <td>0.664256</td>\n",
       "      <td>0.933545</td>\n",
       "      <td>0.927273</td>\n",
       "    </tr>\n",
       "    <tr>\n",
       "      <th>bladder</th>\n",
       "      <td>0.623077</td>\n",
       "      <td>0.947606</td>\n",
       "      <td>0.898901</td>\n",
       "    </tr>\n",
       "  </tbody>\n",
       "</table>\n",
       "</div>"
      ],
      "text/plain": [
       "                                            ccc   pearson  spearman\n",
       "small_intestine_terminal_ileum         0.131379  0.540193  0.465558\n",
       "stomach                                0.186605  0.546008  0.631823\n",
       "liver                                  0.189274  0.619830  0.618370\n",
       "pituitary                              0.217599  0.629830  0.643730\n",
       "muscle_skeletal                        0.205450  0.648536  0.658019\n",
       "adrenal_gland                          0.261443  0.657966  0.682019\n",
       "thyroid                                0.255240  0.675918  0.697297\n",
       "testis                                 0.206704  0.692661  0.690990\n",
       "colon_transverse                       0.237485  0.704703  0.691430\n",
       "cells_cultured_fibroblasts             0.434682  0.772410  0.791284\n",
       "lung                                   0.383148  0.777688  0.767171\n",
       "artery_tibial                          0.336675  0.782014  0.776460\n",
       "colon_sigmoid                          0.301971  0.784019  0.769884\n",
       "prostate                               0.347597  0.804046  0.799923\n",
       "minor_salivary_gland                   0.420246  0.805288  0.804937\n",
       "skin_sun_exposed_lower_leg             0.397742  0.806817  0.799174\n",
       "spleen                                 0.506982  0.807828  0.858734\n",
       "artery_aorta                           0.428166  0.814962  0.810471\n",
       "nerve_tibial                           0.323745  0.819943  0.772638\n",
       "adipose_subcutaneous                   0.380501  0.826960  0.807961\n",
       "heart_atrial_appendage                 0.487768  0.835058  0.833513\n",
       "brain_anterior_cingulate_cortex_ba24   0.426146  0.835251  0.874480\n",
       "esophagus_mucosa                       0.403310  0.843500  0.850711\n",
       "esophagus_gastroesophageal_junction    0.419401  0.849706  0.843063\n",
       "brain_frontal_cortex_ba9               0.432036  0.854144  0.876284\n",
       "skin_not_sun_exposed_suprapubic        0.528096  0.855796  0.859677\n",
       "brain_cerebellum                       0.367463  0.857093  0.790941\n",
       "esophagus_muscularis                   0.406628  0.859394  0.849154\n",
       "artery_coronary                        0.410458  0.861073  0.801901\n",
       "brain_caudate_basal_ganglia            0.536427  0.862235  0.894522\n",
       "cells_ebvtransformed_lymphocytes       0.362883  0.875265  0.827843\n",
       "adipose_visceral_omentum               0.427460  0.877532  0.863902\n",
       "brain_amygdala                         0.540782  0.880306  0.914251\n",
       "brain_cerebellar_hemisphere            0.410069  0.881902  0.862051\n",
       "brain_cortex                           0.443814  0.884841  0.889380\n",
       "pancreas                               0.461364  0.896896  0.871488\n",
       "brain_hippocampus                      0.599705  0.899903  0.916020\n",
       "brain_substantia_nigra                 0.639569  0.904160  0.922021\n",
       "whole_blood                            0.614561  0.911354  0.929595\n",
       "breast_mammary_tissue                  0.719490  0.913081  0.937118\n",
       "brain_putamen_basal_ganglia            0.550023  0.915380  0.929241\n",
       "brain_nucleus_accumbens_basal_ganglia  0.606569  0.920563  0.941653\n",
       "heart_left_ventricle                   0.632231  0.924407  0.923212\n",
       "brain_spinal_cord_cervical_c1          0.707989  0.924438  0.923254\n",
       "brain_hypothalamus                     0.609338  0.928625  0.946419\n",
       "kidney_cortex                          0.664256  0.933545  0.927273\n",
       "bladder                                0.623077  0.947606  0.898901"
      ]
     },
     "execution_count": 49,
     "metadata": {},
     "output_type": "execute_result"
    }
   ],
   "source": [
    "res_all_males.sort_values(\"pearson\")"
   ]
  },
  {
   "cell_type": "code",
   "execution_count": 50,
   "id": "65fda98a-ebcb-421b-a286-3a89dd369b38",
   "metadata": {
    "execution": {
     "iopub.execute_input": "2023-11-20T08:56:05.936868Z",
     "iopub.status.busy": "2023-11-20T08:56:05.936719Z",
     "iopub.status.idle": "2023-11-20T08:56:05.947502Z",
     "shell.execute_reply": "2023-11-20T08:56:05.947098Z"
    },
    "papermill": {
     "duration": 0.021826,
     "end_time": "2023-11-20T08:56:05.948275",
     "exception": false,
     "start_time": "2023-11-20T08:56:05.926449",
     "status": "completed"
    },
    "tags": []
   },
   "outputs": [
    {
     "data": {
      "text/html": [
       "<div>\n",
       "<style scoped>\n",
       "    .dataframe tbody tr th:only-of-type {\n",
       "        vertical-align: middle;\n",
       "    }\n",
       "\n",
       "    .dataframe tbody tr th {\n",
       "        vertical-align: top;\n",
       "    }\n",
       "\n",
       "    .dataframe thead th {\n",
       "        text-align: right;\n",
       "    }\n",
       "</style>\n",
       "<table border=\"1\" class=\"dataframe\">\n",
       "  <thead>\n",
       "    <tr style=\"text-align: right;\">\n",
       "      <th></th>\n",
       "      <th>ccc</th>\n",
       "      <th>pearson</th>\n",
       "      <th>spearman</th>\n",
       "    </tr>\n",
       "  </thead>\n",
       "  <tbody>\n",
       "    <tr>\n",
       "      <th>small_intestine_terminal_ileum</th>\n",
       "      <td>0.131379</td>\n",
       "      <td>0.540193</td>\n",
       "      <td>0.465558</td>\n",
       "    </tr>\n",
       "    <tr>\n",
       "      <th>liver</th>\n",
       "      <td>0.189274</td>\n",
       "      <td>0.619830</td>\n",
       "      <td>0.618370</td>\n",
       "    </tr>\n",
       "    <tr>\n",
       "      <th>stomach</th>\n",
       "      <td>0.186605</td>\n",
       "      <td>0.546008</td>\n",
       "      <td>0.631823</td>\n",
       "    </tr>\n",
       "    <tr>\n",
       "      <th>pituitary</th>\n",
       "      <td>0.217599</td>\n",
       "      <td>0.629830</td>\n",
       "      <td>0.643730</td>\n",
       "    </tr>\n",
       "    <tr>\n",
       "      <th>muscle_skeletal</th>\n",
       "      <td>0.205450</td>\n",
       "      <td>0.648536</td>\n",
       "      <td>0.658019</td>\n",
       "    </tr>\n",
       "    <tr>\n",
       "      <th>adrenal_gland</th>\n",
       "      <td>0.261443</td>\n",
       "      <td>0.657966</td>\n",
       "      <td>0.682019</td>\n",
       "    </tr>\n",
       "    <tr>\n",
       "      <th>testis</th>\n",
       "      <td>0.206704</td>\n",
       "      <td>0.692661</td>\n",
       "      <td>0.690990</td>\n",
       "    </tr>\n",
       "    <tr>\n",
       "      <th>colon_transverse</th>\n",
       "      <td>0.237485</td>\n",
       "      <td>0.704703</td>\n",
       "      <td>0.691430</td>\n",
       "    </tr>\n",
       "    <tr>\n",
       "      <th>thyroid</th>\n",
       "      <td>0.255240</td>\n",
       "      <td>0.675918</td>\n",
       "      <td>0.697297</td>\n",
       "    </tr>\n",
       "    <tr>\n",
       "      <th>lung</th>\n",
       "      <td>0.383148</td>\n",
       "      <td>0.777688</td>\n",
       "      <td>0.767171</td>\n",
       "    </tr>\n",
       "    <tr>\n",
       "      <th>colon_sigmoid</th>\n",
       "      <td>0.301971</td>\n",
       "      <td>0.784019</td>\n",
       "      <td>0.769884</td>\n",
       "    </tr>\n",
       "    <tr>\n",
       "      <th>nerve_tibial</th>\n",
       "      <td>0.323745</td>\n",
       "      <td>0.819943</td>\n",
       "      <td>0.772638</td>\n",
       "    </tr>\n",
       "    <tr>\n",
       "      <th>artery_tibial</th>\n",
       "      <td>0.336675</td>\n",
       "      <td>0.782014</td>\n",
       "      <td>0.776460</td>\n",
       "    </tr>\n",
       "    <tr>\n",
       "      <th>brain_cerebellum</th>\n",
       "      <td>0.367463</td>\n",
       "      <td>0.857093</td>\n",
       "      <td>0.790941</td>\n",
       "    </tr>\n",
       "    <tr>\n",
       "      <th>cells_cultured_fibroblasts</th>\n",
       "      <td>0.434682</td>\n",
       "      <td>0.772410</td>\n",
       "      <td>0.791284</td>\n",
       "    </tr>\n",
       "    <tr>\n",
       "      <th>skin_sun_exposed_lower_leg</th>\n",
       "      <td>0.397742</td>\n",
       "      <td>0.806817</td>\n",
       "      <td>0.799174</td>\n",
       "    </tr>\n",
       "    <tr>\n",
       "      <th>prostate</th>\n",
       "      <td>0.347597</td>\n",
       "      <td>0.804046</td>\n",
       "      <td>0.799923</td>\n",
       "    </tr>\n",
       "    <tr>\n",
       "      <th>artery_coronary</th>\n",
       "      <td>0.410458</td>\n",
       "      <td>0.861073</td>\n",
       "      <td>0.801901</td>\n",
       "    </tr>\n",
       "    <tr>\n",
       "      <th>minor_salivary_gland</th>\n",
       "      <td>0.420246</td>\n",
       "      <td>0.805288</td>\n",
       "      <td>0.804937</td>\n",
       "    </tr>\n",
       "    <tr>\n",
       "      <th>adipose_subcutaneous</th>\n",
       "      <td>0.380501</td>\n",
       "      <td>0.826960</td>\n",
       "      <td>0.807961</td>\n",
       "    </tr>\n",
       "    <tr>\n",
       "      <th>artery_aorta</th>\n",
       "      <td>0.428166</td>\n",
       "      <td>0.814962</td>\n",
       "      <td>0.810471</td>\n",
       "    </tr>\n",
       "    <tr>\n",
       "      <th>cells_ebvtransformed_lymphocytes</th>\n",
       "      <td>0.362883</td>\n",
       "      <td>0.875265</td>\n",
       "      <td>0.827843</td>\n",
       "    </tr>\n",
       "    <tr>\n",
       "      <th>heart_atrial_appendage</th>\n",
       "      <td>0.487768</td>\n",
       "      <td>0.835058</td>\n",
       "      <td>0.833513</td>\n",
       "    </tr>\n",
       "    <tr>\n",
       "      <th>esophagus_gastroesophageal_junction</th>\n",
       "      <td>0.419401</td>\n",
       "      <td>0.849706</td>\n",
       "      <td>0.843063</td>\n",
       "    </tr>\n",
       "    <tr>\n",
       "      <th>esophagus_muscularis</th>\n",
       "      <td>0.406628</td>\n",
       "      <td>0.859394</td>\n",
       "      <td>0.849154</td>\n",
       "    </tr>\n",
       "    <tr>\n",
       "      <th>esophagus_mucosa</th>\n",
       "      <td>0.403310</td>\n",
       "      <td>0.843500</td>\n",
       "      <td>0.850711</td>\n",
       "    </tr>\n",
       "    <tr>\n",
       "      <th>spleen</th>\n",
       "      <td>0.506982</td>\n",
       "      <td>0.807828</td>\n",
       "      <td>0.858734</td>\n",
       "    </tr>\n",
       "    <tr>\n",
       "      <th>skin_not_sun_exposed_suprapubic</th>\n",
       "      <td>0.528096</td>\n",
       "      <td>0.855796</td>\n",
       "      <td>0.859677</td>\n",
       "    </tr>\n",
       "    <tr>\n",
       "      <th>brain_cerebellar_hemisphere</th>\n",
       "      <td>0.410069</td>\n",
       "      <td>0.881902</td>\n",
       "      <td>0.862051</td>\n",
       "    </tr>\n",
       "    <tr>\n",
       "      <th>adipose_visceral_omentum</th>\n",
       "      <td>0.427460</td>\n",
       "      <td>0.877532</td>\n",
       "      <td>0.863902</td>\n",
       "    </tr>\n",
       "    <tr>\n",
       "      <th>pancreas</th>\n",
       "      <td>0.461364</td>\n",
       "      <td>0.896896</td>\n",
       "      <td>0.871488</td>\n",
       "    </tr>\n",
       "    <tr>\n",
       "      <th>brain_anterior_cingulate_cortex_ba24</th>\n",
       "      <td>0.426146</td>\n",
       "      <td>0.835251</td>\n",
       "      <td>0.874480</td>\n",
       "    </tr>\n",
       "    <tr>\n",
       "      <th>brain_frontal_cortex_ba9</th>\n",
       "      <td>0.432036</td>\n",
       "      <td>0.854144</td>\n",
       "      <td>0.876284</td>\n",
       "    </tr>\n",
       "    <tr>\n",
       "      <th>brain_cortex</th>\n",
       "      <td>0.443814</td>\n",
       "      <td>0.884841</td>\n",
       "      <td>0.889380</td>\n",
       "    </tr>\n",
       "    <tr>\n",
       "      <th>brain_caudate_basal_ganglia</th>\n",
       "      <td>0.536427</td>\n",
       "      <td>0.862235</td>\n",
       "      <td>0.894522</td>\n",
       "    </tr>\n",
       "    <tr>\n",
       "      <th>bladder</th>\n",
       "      <td>0.623077</td>\n",
       "      <td>0.947606</td>\n",
       "      <td>0.898901</td>\n",
       "    </tr>\n",
       "    <tr>\n",
       "      <th>brain_amygdala</th>\n",
       "      <td>0.540782</td>\n",
       "      <td>0.880306</td>\n",
       "      <td>0.914251</td>\n",
       "    </tr>\n",
       "    <tr>\n",
       "      <th>brain_hippocampus</th>\n",
       "      <td>0.599705</td>\n",
       "      <td>0.899903</td>\n",
       "      <td>0.916020</td>\n",
       "    </tr>\n",
       "    <tr>\n",
       "      <th>brain_substantia_nigra</th>\n",
       "      <td>0.639569</td>\n",
       "      <td>0.904160</td>\n",
       "      <td>0.922021</td>\n",
       "    </tr>\n",
       "    <tr>\n",
       "      <th>heart_left_ventricle</th>\n",
       "      <td>0.632231</td>\n",
       "      <td>0.924407</td>\n",
       "      <td>0.923212</td>\n",
       "    </tr>\n",
       "    <tr>\n",
       "      <th>brain_spinal_cord_cervical_c1</th>\n",
       "      <td>0.707989</td>\n",
       "      <td>0.924438</td>\n",
       "      <td>0.923254</td>\n",
       "    </tr>\n",
       "    <tr>\n",
       "      <th>kidney_cortex</th>\n",
       "      <td>0.664256</td>\n",
       "      <td>0.933545</td>\n",
       "      <td>0.927273</td>\n",
       "    </tr>\n",
       "    <tr>\n",
       "      <th>brain_putamen_basal_ganglia</th>\n",
       "      <td>0.550023</td>\n",
       "      <td>0.915380</td>\n",
       "      <td>0.929241</td>\n",
       "    </tr>\n",
       "    <tr>\n",
       "      <th>whole_blood</th>\n",
       "      <td>0.614561</td>\n",
       "      <td>0.911354</td>\n",
       "      <td>0.929595</td>\n",
       "    </tr>\n",
       "    <tr>\n",
       "      <th>breast_mammary_tissue</th>\n",
       "      <td>0.719490</td>\n",
       "      <td>0.913081</td>\n",
       "      <td>0.937118</td>\n",
       "    </tr>\n",
       "    <tr>\n",
       "      <th>brain_nucleus_accumbens_basal_ganglia</th>\n",
       "      <td>0.606569</td>\n",
       "      <td>0.920563</td>\n",
       "      <td>0.941653</td>\n",
       "    </tr>\n",
       "    <tr>\n",
       "      <th>brain_hypothalamus</th>\n",
       "      <td>0.609338</td>\n",
       "      <td>0.928625</td>\n",
       "      <td>0.946419</td>\n",
       "    </tr>\n",
       "  </tbody>\n",
       "</table>\n",
       "</div>"
      ],
      "text/plain": [
       "                                            ccc   pearson  spearman\n",
       "small_intestine_terminal_ileum         0.131379  0.540193  0.465558\n",
       "liver                                  0.189274  0.619830  0.618370\n",
       "stomach                                0.186605  0.546008  0.631823\n",
       "pituitary                              0.217599  0.629830  0.643730\n",
       "muscle_skeletal                        0.205450  0.648536  0.658019\n",
       "adrenal_gland                          0.261443  0.657966  0.682019\n",
       "testis                                 0.206704  0.692661  0.690990\n",
       "colon_transverse                       0.237485  0.704703  0.691430\n",
       "thyroid                                0.255240  0.675918  0.697297\n",
       "lung                                   0.383148  0.777688  0.767171\n",
       "colon_sigmoid                          0.301971  0.784019  0.769884\n",
       "nerve_tibial                           0.323745  0.819943  0.772638\n",
       "artery_tibial                          0.336675  0.782014  0.776460\n",
       "brain_cerebellum                       0.367463  0.857093  0.790941\n",
       "cells_cultured_fibroblasts             0.434682  0.772410  0.791284\n",
       "skin_sun_exposed_lower_leg             0.397742  0.806817  0.799174\n",
       "prostate                               0.347597  0.804046  0.799923\n",
       "artery_coronary                        0.410458  0.861073  0.801901\n",
       "minor_salivary_gland                   0.420246  0.805288  0.804937\n",
       "adipose_subcutaneous                   0.380501  0.826960  0.807961\n",
       "artery_aorta                           0.428166  0.814962  0.810471\n",
       "cells_ebvtransformed_lymphocytes       0.362883  0.875265  0.827843\n",
       "heart_atrial_appendage                 0.487768  0.835058  0.833513\n",
       "esophagus_gastroesophageal_junction    0.419401  0.849706  0.843063\n",
       "esophagus_muscularis                   0.406628  0.859394  0.849154\n",
       "esophagus_mucosa                       0.403310  0.843500  0.850711\n",
       "spleen                                 0.506982  0.807828  0.858734\n",
       "skin_not_sun_exposed_suprapubic        0.528096  0.855796  0.859677\n",
       "brain_cerebellar_hemisphere            0.410069  0.881902  0.862051\n",
       "adipose_visceral_omentum               0.427460  0.877532  0.863902\n",
       "pancreas                               0.461364  0.896896  0.871488\n",
       "brain_anterior_cingulate_cortex_ba24   0.426146  0.835251  0.874480\n",
       "brain_frontal_cortex_ba9               0.432036  0.854144  0.876284\n",
       "brain_cortex                           0.443814  0.884841  0.889380\n",
       "brain_caudate_basal_ganglia            0.536427  0.862235  0.894522\n",
       "bladder                                0.623077  0.947606  0.898901\n",
       "brain_amygdala                         0.540782  0.880306  0.914251\n",
       "brain_hippocampus                      0.599705  0.899903  0.916020\n",
       "brain_substantia_nigra                 0.639569  0.904160  0.922021\n",
       "heart_left_ventricle                   0.632231  0.924407  0.923212\n",
       "brain_spinal_cord_cervical_c1          0.707989  0.924438  0.923254\n",
       "kidney_cortex                          0.664256  0.933545  0.927273\n",
       "brain_putamen_basal_ganglia            0.550023  0.915380  0.929241\n",
       "whole_blood                            0.614561  0.911354  0.929595\n",
       "breast_mammary_tissue                  0.719490  0.913081  0.937118\n",
       "brain_nucleus_accumbens_basal_ganglia  0.606569  0.920563  0.941653\n",
       "brain_hypothalamus                     0.609338  0.928625  0.946419"
      ]
     },
     "execution_count": 50,
     "metadata": {},
     "output_type": "execute_result"
    }
   ],
   "source": [
    "res_all_males.sort_values(\"spearman\")"
   ]
  },
  {
   "cell_type": "markdown",
   "id": "cccf7fd4-329c-49e0-b6a7-3f449d78a73c",
   "metadata": {
    "papermill": {
     "duration": 0.010108,
     "end_time": "2023-11-20T08:56:05.968664",
     "exception": false,
     "start_time": "2023-11-20T08:56:05.958556",
     "status": "completed"
    },
    "tags": []
   },
   "source": [
    "# Plot of male samples"
   ]
  },
  {
   "cell_type": "code",
   "execution_count": 51,
   "id": "37979e0a-5a5d-40d7-8071-1ecc54a11c06",
   "metadata": {
    "execution": {
     "iopub.execute_input": "2023-11-20T08:56:05.989605Z",
     "iopub.status.busy": "2023-11-20T08:56:05.989454Z",
     "iopub.status.idle": "2023-11-20T08:56:05.993475Z",
     "shell.execute_reply": "2023-11-20T08:56:05.993079Z"
    },
    "papermill": {
     "duration": 0.015537,
     "end_time": "2023-11-20T08:56:05.994253",
     "exception": false,
     "start_time": "2023-11-20T08:56:05.978716",
     "status": "completed"
    },
    "tags": []
   },
   "outputs": [],
   "source": [
    "def get_tissue_file(name):\n",
    "    \"\"\"\n",
    "    Given a part of a tissue name, it returns a file path to the\n",
    "    expression data for that tissue in GTEx. It fails if more than\n",
    "    one files are found.\n",
    "\n",
    "    Args:\n",
    "        name: a string with the tissue name (or a part of it).\n",
    "\n",
    "    Returns:\n",
    "        A Path object pointing to the gene expression file for the\n",
    "        given tissue.\n",
    "    \"\"\"\n",
    "    tissue_files = []\n",
    "    for f in TISSUE_DIR.glob(\"*.pkl\"):\n",
    "        if name in f.name:\n",
    "            tissue_files.append(f)\n",
    "\n",
    "    assert len(tissue_files) == 1\n",
    "    return tissue_files[0]"
   ]
  },
  {
   "cell_type": "code",
   "execution_count": 52,
   "id": "08d2da77-49d4-471b-9e6c-c1d27fc5b13b",
   "metadata": {
    "execution": {
     "iopub.execute_input": "2023-11-20T08:56:06.015399Z",
     "iopub.status.busy": "2023-11-20T08:56:06.015248Z",
     "iopub.status.idle": "2023-11-20T08:56:06.018280Z",
     "shell.execute_reply": "2023-11-20T08:56:06.017885Z"
    },
    "papermill": {
     "duration": 0.014842,
     "end_time": "2023-11-20T08:56:06.019182",
     "exception": false,
     "start_time": "2023-11-20T08:56:06.004340",
     "status": "completed"
    },
    "tags": []
   },
   "outputs": [],
   "source": [
    "# testing\n",
    "_tmp = get_tissue_file(\"whole_blood\")\n",
    "assert _tmp.exists()"
   ]
  },
  {
   "cell_type": "code",
   "execution_count": 53,
   "id": "0d04139a-2fd5-4f09-81c7-8f7b6b87d478",
   "metadata": {
    "execution": {
     "iopub.execute_input": "2023-11-20T08:56:06.040472Z",
     "iopub.status.busy": "2023-11-20T08:56:06.040325Z",
     "iopub.status.idle": "2023-11-20T08:56:06.043073Z",
     "shell.execute_reply": "2023-11-20T08:56:06.042681Z"
    },
    "papermill": {
     "duration": 0.014423,
     "end_time": "2023-11-20T08:56:06.043873",
     "exception": false,
     "start_time": "2023-11-20T08:56:06.029450",
     "status": "completed"
    },
    "tags": []
   },
   "outputs": [],
   "source": [
    "def simplify_tissue_name(tissue_name):\n",
    "    return f\"{tissue_name[0].upper()}{tissue_name[1:].replace('_', ' ')}\""
   ]
  },
  {
   "cell_type": "code",
   "execution_count": 54,
   "id": "5e0026f0-e25f-4058-bba8-810887f523f5",
   "metadata": {
    "execution": {
     "iopub.execute_input": "2023-11-20T08:56:06.065222Z",
     "iopub.status.busy": "2023-11-20T08:56:06.064825Z",
     "iopub.status.idle": "2023-11-20T08:56:06.067504Z",
     "shell.execute_reply": "2023-11-20T08:56:06.067101Z"
    },
    "papermill": {
     "duration": 0.014174,
     "end_time": "2023-11-20T08:56:06.068318",
     "exception": false,
     "start_time": "2023-11-20T08:56:06.054144",
     "status": "completed"
    },
    "tags": []
   },
   "outputs": [],
   "source": [
    "assert simplify_tissue_name(\"whole_blood\") == \"Whole blood\"\n",
    "assert simplify_tissue_name(\"uterus\") == \"Uterus\""
   ]
  },
  {
   "cell_type": "code",
   "execution_count": 55,
   "id": "30becd4a-14ad-467d-b462-54429c61008a",
   "metadata": {
    "execution": {
     "iopub.execute_input": "2023-11-20T08:56:06.089570Z",
     "iopub.status.busy": "2023-11-20T08:56:06.089169Z",
     "iopub.status.idle": "2023-11-20T08:56:06.099591Z",
     "shell.execute_reply": "2023-11-20T08:56:06.099184Z"
    },
    "papermill": {
     "duration": 0.021749,
     "end_time": "2023-11-20T08:56:06.100320",
     "exception": false,
     "start_time": "2023-11-20T08:56:06.078571",
     "status": "completed"
    },
    "tags": []
   },
   "outputs": [],
   "source": [
    "def plot_gene_pair(\n",
    "    tissue_name,\n",
    "    gene0,\n",
    "    gene1,\n",
    "    hue=None,\n",
    "    kind=\"hex\",\n",
    "    ylim=None,\n",
    "    bins=\"log\",\n",
    "    samples=None,\n",
    "    filename_suffix=\"\",\n",
    "):\n",
    "    \"\"\"\n",
    "    It plots (joint plot) a gene pair from the given tissue. It saves the plot\n",
    "    for the manuscript.\n",
    "    \"\"\"\n",
    "    # merge gene expression with metadata\n",
    "    tissue_file = get_tissue_file(tissue_name)\n",
    "    if samples is not None:\n",
    "        tissue_data = (\n",
    "            pd.read_pickle(tissue_file).T[[gene0, gene1]].reindex(samples).dropna()\n",
    "        )\n",
    "    else:\n",
    "        tissue_data = pd.read_pickle(tissue_file).T[[gene0, gene1]]\n",
    "\n",
    "    tissue_data = pd.merge(\n",
    "        tissue_data,\n",
    "        gtex_metadata,\n",
    "        how=\"inner\",\n",
    "        left_index=True,\n",
    "        right_index=True,\n",
    "        validate=\"one_to_one\",\n",
    "    )\n",
    "\n",
    "    # get gene symbols\n",
    "    gene0_symbol, gene1_symbol = gene_map[gene0], gene_map[gene1]\n",
    "    display((gene0_symbol, gene1_symbol))\n",
    "\n",
    "    # compute correlations for this gene pair\n",
    "    _clustermatch = ccc(tissue_data[gene0], tissue_data[gene1])\n",
    "    _pearson = pearsonr(tissue_data[gene0], tissue_data[gene1])[0]\n",
    "    _spearman = spearmanr(tissue_data[gene0], tissue_data[gene1])[0]\n",
    "\n",
    "    _title = f\"{simplify_tissue_name(tissue_name)}\\n$c={_clustermatch:.2f}$  $p={_pearson:.2f}$  $s={_spearman:.2f}$\"\n",
    "\n",
    "    other_args = {\n",
    "        \"kind\": kind,  # if hue is None else \"scatter\",\n",
    "        \"rasterized\": True,\n",
    "    }\n",
    "    if hue is None:\n",
    "        other_args[\"hue_order\"] = None\n",
    "    else:\n",
    "        other_args[\"hue_order\"] = [\"Male\", \"Female\"]\n",
    "\n",
    "    with sns.plotting_context(\"paper\", font_scale=1.5):\n",
    "        p = sns.jointplot(\n",
    "            data=tissue_data,\n",
    "            x=gene0,\n",
    "            y=gene1,\n",
    "            hue=hue,\n",
    "            **other_args,\n",
    "            # ylim=(0, 500),\n",
    "        )\n",
    "\n",
    "        # if samples is not None:\n",
    "        #     p.ax_joint.legend_.remove()\n",
    "\n",
    "        if ylim is not None:\n",
    "            p.ax_joint.set_ylim(ylim)\n",
    "\n",
    "        gene_x_id = p.ax_joint.get_xlabel()\n",
    "        gene_x_symbol = gene_map[gene_x_id]\n",
    "        p.ax_joint.set_xlabel(f\"{gene_x_symbol}\", fontstyle=\"italic\")\n",
    "\n",
    "        gene_y_id = p.ax_joint.get_ylabel()\n",
    "        gene_y_symbol = gene_map[gene_y_id]\n",
    "        p.ax_joint.set_ylabel(f\"{gene_y_symbol}\", fontstyle=\"italic\")\n",
    "\n",
    "        p.fig.suptitle(_title)\n",
    "\n",
    "        # save\n",
    "        output_file = (\n",
    "            OUTPUT_FIGURE_DIR\n",
    "            / f\"gtex_{tissue_name}-{gene_x_symbol}_vs_{gene_y_symbol}{filename_suffix}.svg\"\n",
    "        )\n",
    "        display(output_file)\n",
    "\n",
    "        plt.savefig(\n",
    "            output_file,\n",
    "            bbox_inches=\"tight\",\n",
    "            dpi=300,\n",
    "            facecolor=\"white\",\n",
    "        )\n",
    "\n",
    "    return tissue_data"
   ]
  },
  {
   "cell_type": "markdown",
   "id": "a1203a1b-9192-43ee-8715-476aa7048ce6",
   "metadata": {
    "papermill": {
     "duration": 0.010275,
     "end_time": "2023-11-20T08:56:06.120691",
     "exception": false,
     "start_time": "2023-11-20T08:56:06.110416",
     "status": "completed"
    },
    "tags": []
   },
   "source": [
    "## Brain cerebellum (males)"
   ]
  },
  {
   "cell_type": "code",
   "execution_count": 56,
   "id": "ad7a21de-2d8e-423e-8044-38d6f3b43808",
   "metadata": {
    "execution": {
     "iopub.execute_input": "2023-11-20T08:56:06.141871Z",
     "iopub.status.busy": "2023-11-20T08:56:06.141469Z",
     "iopub.status.idle": "2023-11-20T08:56:06.815437Z",
     "shell.execute_reply": "2023-11-20T08:56:06.815120Z"
    },
    "papermill": {
     "duration": 0.686272,
     "end_time": "2023-11-20T08:56:06.817129",
     "exception": false,
     "start_time": "2023-11-20T08:56:06.130857",
     "status": "completed"
    },
    "tags": []
   },
   "outputs": [
    {
     "data": {
      "text/plain": [
       "('KDM6A', 'UTY')"
      ]
     },
     "metadata": {},
     "output_type": "display_data"
    },
    {
     "data": {
      "text/plain": [
       "PosixPath('/opt/manuscript/content/images/coefs_comp/kdm6a_vs_uty/gtex_brain_cerebellum-KDM6A_vs_UTY-all.svg')"
      ]
     },
     "metadata": {},
     "output_type": "display_data"
    },
    {
     "data": {
      "image/png": "[encoded data removed]",
      "text/plain": [
       "<Figure size 432x432 with 3 Axes>"
      ]
     },
     "metadata": {
      "needs_background": "light"
     },
     "output_type": "display_data"
    }
   ],
   "source": [
    "_tissue_data = plot_gene_pair(\n",
    "    \"brain_cerebellum\",\n",
    "    gene0_id,\n",
    "    gene1_id,\n",
    "    hue=\"SEX\",\n",
    "    kind=\"scatter\",\n",
    "    samples=None,\n",
    "    filename_suffix=\"-all\",\n",
    ")"
   ]
  },
  {
   "cell_type": "code",
   "execution_count": 57,
   "id": "f009b03f-b276-42ac-8f76-5377aac04b82",
   "metadata": {
    "execution": {
     "iopub.execute_input": "2023-11-20T08:56:06.858869Z",
     "iopub.status.busy": "2023-11-20T08:56:06.858782Z",
     "iopub.status.idle": "2023-11-20T08:56:07.380845Z",
     "shell.execute_reply": "2023-11-20T08:56:07.380537Z"
    },
    "papermill": {
     "duration": 0.544177,
     "end_time": "2023-11-20T08:56:07.382358",
     "exception": false,
     "start_time": "2023-11-20T08:56:06.838181",
     "status": "completed"
    },
    "tags": []
   },
   "outputs": [
    {
     "data": {
      "text/plain": [
       "('KDM6A', 'UTY')"
      ]
     },
     "metadata": {},
     "output_type": "display_data"
    },
    {
     "data": {
      "text/plain": [
       "PosixPath('/opt/manuscript/content/images/coefs_comp/kdm6a_vs_uty/gtex_brain_cerebellum-KDM6A_vs_UTY-males.svg')"
      ]
     },
     "metadata": {},
     "output_type": "display_data"
    },
    {
     "data": {
      "image/png": "[encoded data removed]",
      "text/plain": [
       "<Figure size 432x432 with 3 Axes>"
      ]
     },
     "metadata": {
      "needs_background": "light"
     },
     "output_type": "display_data"
    }
   ],
   "source": [
    "_tissue_data = plot_gene_pair(\n",
    "    \"brain_cerebellum\",\n",
    "    gene0_id,\n",
    "    gene1_id,\n",
    "    hue=\"SEX\",\n",
    "    kind=\"scatter\",\n",
    "    samples=male_samples,\n",
    "    filename_suffix=\"-males\",\n",
    ")"
   ]
  },
  {
   "cell_type": "markdown",
   "id": "a3e88e70-6c2b-4a41-95f8-3e7d3214c307",
   "metadata": {
    "papermill": {
     "duration": 0.021029,
     "end_time": "2023-11-20T08:56:07.424778",
     "exception": false,
     "start_time": "2023-11-20T08:56:07.403749",
     "status": "completed"
    },
    "tags": []
   },
   "source": [
    "## Smalle intestine (males)"
   ]
  },
  {
   "cell_type": "code",
   "execution_count": 58,
   "id": "4b35981a-a86c-4bca-afc2-d426d899f38e",
   "metadata": {
    "execution": {
     "iopub.execute_input": "2023-11-20T08:56:07.466017Z",
     "iopub.status.busy": "2023-11-20T08:56:07.465857Z",
     "iopub.status.idle": "2023-11-20T08:56:07.951425Z",
     "shell.execute_reply": "2023-11-20T08:56:07.951103Z"
    },
    "papermill": {
     "duration": 0.507235,
     "end_time": "2023-11-20T08:56:07.953195",
     "exception": false,
     "start_time": "2023-11-20T08:56:07.445960",
     "status": "completed"
    },
    "tags": []
   },
   "outputs": [
    {
     "data": {
      "text/plain": [
       "('KDM6A', 'UTY')"
      ]
     },
     "metadata": {},
     "output_type": "display_data"
    },
    {
     "data": {
      "text/plain": [
       "PosixPath('/opt/manuscript/content/images/coefs_comp/kdm6a_vs_uty/gtex_small_intestine_terminal_ileum-KDM6A_vs_UTY-all.svg')"
      ]
     },
     "metadata": {},
     "output_type": "display_data"
    },
    {
     "data": {
      "image/png": "[encoded data removed]",
      "text/plain": [
       "<Figure size 432x432 with 3 Axes>"
      ]
     },
     "metadata": {
      "needs_background": "light"
     },
     "output_type": "display_data"
    }
   ],
   "source": [
    "_tissue_data = plot_gene_pair(\n",
    "    \"small_intestine_terminal_ileum\",\n",
    "    gene0_id,\n",
    "    gene1_id,\n",
    "    hue=\"SEX\",\n",
    "    kind=\"scatter\",\n",
    "    samples=None,\n",
    "    filename_suffix=\"-all\",\n",
    ")"
   ]
  },
  {
   "cell_type": "code",
   "execution_count": 59,
   "id": "193939bb-4af0-4995-af74-ab3d0ccd86b5",
   "metadata": {
    "execution": {
     "iopub.execute_input": "2023-11-20T08:56:07.998867Z",
     "iopub.status.busy": "2023-11-20T08:56:07.998697Z",
     "iopub.status.idle": "2023-11-20T08:56:08.457065Z",
     "shell.execute_reply": "2023-11-20T08:56:08.456756Z"
    },
    "papermill": {
     "duration": 0.481924,
     "end_time": "2023-11-20T08:56:08.458042",
     "exception": false,
     "start_time": "2023-11-20T08:56:07.976118",
     "status": "completed"
    },
    "tags": []
   },
   "outputs": [
    {
     "data": {
      "text/plain": [
       "('KDM6A', 'UTY')"
      ]
     },
     "metadata": {},
     "output_type": "display_data"
    },
    {
     "data": {
      "text/plain": [
       "PosixPath('/opt/manuscript/content/images/coefs_comp/kdm6a_vs_uty/gtex_small_intestine_terminal_ileum-KDM6A_vs_UTY-males.svg')"
      ]
     },
     "metadata": {},
     "output_type": "display_data"
    },
    {
     "data": {
      "image/png": "[encoded data removed]",
      "text/plain": [
       "<Figure size 432x432 with 3 Axes>"
      ]
     },
     "metadata": {
      "needs_background": "light"
     },
     "output_type": "display_data"
    }
   ],
   "source": [
    "_tissue_data = plot_gene_pair(\n",
    "    \"small_intestine_terminal_ileum\",\n",
    "    gene0_id,\n",
    "    gene1_id,\n",
    "    hue=\"SEX\",\n",
    "    kind=\"scatter\",\n",
    "    samples=male_samples,\n",
    "    filename_suffix=\"-males\",\n",
    ")"
   ]
  },
  {
   "cell_type": "markdown",
   "id": "dafb2823-fdd8-40e0-919e-9bab0ead9f4d",
   "metadata": {
    "papermill": {
     "duration": 0.023055,
     "end_time": "2023-11-20T08:56:08.504159",
     "exception": false,
     "start_time": "2023-11-20T08:56:08.481104",
     "status": "completed"
    },
    "tags": []
   },
   "source": [
    "# Create final figure"
   ]
  },
  {
   "cell_type": "code",
   "execution_count": 60,
   "id": "57090b29-80c6-4ae5-8d2e-a1f256f8a58c",
   "metadata": {
    "execution": {
     "iopub.execute_input": "2023-11-20T08:56:08.545680Z",
     "iopub.status.busy": "2023-11-20T08:56:08.545550Z",
     "iopub.status.idle": "2023-11-20T08:56:08.557139Z",
     "shell.execute_reply": "2023-11-20T08:56:08.556741Z"
    },
    "papermill": {
     "duration": 0.030886,
     "end_time": "2023-11-20T08:56:08.557999",
     "exception": false,
     "start_time": "2023-11-20T08:56:08.527113",
     "status": "completed"
    },
    "tags": []
   },
   "outputs": [],
   "source": [
    "from svgutils.compose import Figure, SVG, Panel"
   ]
  },
  {
   "cell_type": "code",
   "execution_count": 61,
   "id": "e5a39467-e448-43a9-a9ba-9f947bfff1ed",
   "metadata": {
    "execution": {
     "iopub.execute_input": "2023-11-20T08:56:08.582763Z",
     "iopub.status.busy": "2023-11-20T08:56:08.582635Z",
     "iopub.status.idle": "2023-11-20T08:56:08.592221Z",
     "shell.execute_reply": "2023-11-20T08:56:08.591831Z"
    },
    "papermill": {
     "duration": 0.022872,
     "end_time": "2023-11-20T08:56:08.592942",
     "exception": false,
     "start_time": "2023-11-20T08:56:08.570070",
     "status": "completed"
    },
    "tags": []
   },
   "outputs": [],
   "source": [
    "Figure(\n",
    "    \"6.0767480cm\",\n",
    "    \"8.7045984cm\",\n",
    "    # Panel(\n",
    "    #     SVG(OUTPUT_FIGURE_DIR / \"gtex_brain_cerebellum-KDM6A_vs_UTY-all.svg\").scale(0.005),\n",
    "    #     SVG(OUTPUT_FIGURE_DIR / \"gtex_small_intestine-KDM6A_vs_UTY-all.svg\").scale(0.005).move(2, 0),\n",
    "    # ),\n",
    "    Panel(\n",
    "        SVG(OUTPUT_FIGURE_DIR / \"gtex_brain_cerebellum-KDM6A_vs_UTY-males.svg\").scale(\n",
    "            0.005\n",
    "        ),\n",
    "        SVG(\n",
    "            OUTPUT_FIGURE_DIR\n",
    "            / \"gtex_small_intestine_terminal_ileum-KDM6A_vs_UTY-males.svg\"\n",
    "        )\n",
    "        .scale(0.005)\n",
    "        .move(2, 0),\n",
    "    ).move(0, 2.20),\n",
    ").save(\n",
    "    OUTPUT_FIGURE_DIR\n",
    "    / \"gtex-KDM6A_vs_UTY-brain_cerebellum_and_small_intestine_terminal_ileum-males.svg\"\n",
    ")"
   ]
  },
  {
   "cell_type": "markdown",
   "id": "5f462b54-b10e-4392-9dc8-719f84a9bff3",
   "metadata": {
    "papermill": {
     "duration": 0.012083,
     "end_time": "2023-11-20T08:56:08.617210",
     "exception": false,
     "start_time": "2023-11-20T08:56:08.605127",
     "status": "completed"
    },
    "tags": []
   },
   "source": [
    "Now open the file, reside to fit drawing to page, and add a white rectangle to the background."
   ]
  },
  {
   "cell_type": "markdown",
   "id": "84fb982b-1dce-4985-99b2-86c74d1d7f33",
   "metadata": {
    "papermill": {
     "duration": 0.012069,
     "end_time": "2023-11-20T08:56:08.641484",
     "exception": false,
     "start_time": "2023-11-20T08:56:08.629415",
     "status": "completed"
    },
    "tags": []
   },
   "source": [
    "# Understand how CCC divides samples"
   ]
  },
  {
   "cell_type": "markdown",
   "id": "4d78acde-d32c-4660-bab4-30aa89222298",
   "metadata": {
    "papermill": {
     "duration": 0.01217,
     "end_time": "2023-11-20T08:56:08.665891",
     "exception": false,
     "start_time": "2023-11-20T08:56:08.653721",
     "status": "completed"
    },
    "tags": []
   },
   "source": [
    "## Prepare datasets"
   ]
  },
  {
   "cell_type": "code",
   "execution_count": 62,
   "id": "bc5680c7-18d2-45ca-a7d4-3c0cb1d8b8f9",
   "metadata": {
    "execution": {
     "iopub.execute_input": "2023-11-20T08:56:08.691974Z",
     "iopub.status.busy": "2023-11-20T08:56:08.691490Z",
     "iopub.status.idle": "2023-11-20T08:56:08.701524Z",
     "shell.execute_reply": "2023-11-20T08:56:08.701168Z"
    },
    "papermill": {
     "duration": 0.023909,
     "end_time": "2023-11-20T08:56:08.702252",
     "exception": false,
     "start_time": "2023-11-20T08:56:08.678343",
     "status": "completed"
    },
    "tags": []
   },
   "outputs": [],
   "source": [
    "datasets_df = pd.DataFrame(\n",
    "    {\n",
    "        \"dataset\": \"Brain cerebellum (all)\",\n",
    "        \"x\": brain_cerebellum.iloc[:, 0],\n",
    "        \"y\": brain_cerebellum.iloc[:, 1],\n",
    "    }\n",
    ")\n",
    "\n",
    "datasets_df = datasets_df.append(\n",
    "    pd.DataFrame(\n",
    "        {\n",
    "            \"dataset\": \"Small intestine (terminal ileum) (all)\",\n",
    "            \"x\": small_intestine.iloc[:, 0],\n",
    "            \"y\": small_intestine.iloc[:, 1],\n",
    "        }\n",
    "    ),\n",
    "    ignore_index=True,\n",
    ")\n",
    "\n",
    "datasets_df = datasets_df.append(\n",
    "    pd.DataFrame(\n",
    "        {\n",
    "            \"dataset\": \"Brain cerebellum (males)\",\n",
    "            \"x\": brain_cerebellum_males.iloc[:, 0],\n",
    "            \"y\": brain_cerebellum_males.iloc[:, 1],\n",
    "        }\n",
    "    ),\n",
    "    ignore_index=True,\n",
    ")\n",
    "\n",
    "datasets_df = datasets_df.append(\n",
    "    pd.DataFrame(\n",
    "        {\n",
    "            \"dataset\": \"Small intestine (terminal ileum) (males)\",\n",
    "            \"x\": small_intestine_males.iloc[:, 0],\n",
    "            \"y\": small_intestine_males.iloc[:, 1],\n",
    "        }\n",
    "    ),\n",
    "    ignore_index=True,\n",
    ")"
   ]
  },
  {
   "cell_type": "code",
   "execution_count": 63,
   "id": "603dae3d-0fbe-4fe0-8639-181ba6f13a20",
   "metadata": {
    "execution": {
     "iopub.execute_input": "2023-11-20T08:56:08.727410Z",
     "iopub.status.busy": "2023-11-20T08:56:08.727248Z",
     "iopub.status.idle": "2023-11-20T08:56:08.732824Z",
     "shell.execute_reply": "2023-11-20T08:56:08.732470Z"
    },
    "papermill": {
     "duration": 0.019325,
     "end_time": "2023-11-20T08:56:08.733558",
     "exception": false,
     "start_time": "2023-11-20T08:56:08.714233",
     "status": "completed"
    },
    "tags": []
   },
   "outputs": [],
   "source": [
    "datasets = {\n",
    "    idx: df.drop(columns=\"dataset\") for idx, df in datasets_df.groupby(\"dataset\")\n",
    "}"
   ]
  },
  {
   "cell_type": "markdown",
   "id": "79a733f1-c41f-41b7-a5d4-3341014176d8",
   "metadata": {
    "papermill": {
     "duration": 0.012121,
     "end_time": "2023-11-20T08:56:08.757944",
     "exception": false,
     "start_time": "2023-11-20T08:56:08.745823",
     "status": "completed"
    },
    "tags": []
   },
   "source": [
    "## Plot"
   ]
  },
  {
   "cell_type": "code",
   "execution_count": 64,
   "id": "0109f1d9-22ff-42fd-8bf8-ab84f449cbbd",
   "metadata": {
    "execution": {
     "iopub.execute_input": "2023-11-20T08:56:08.783470Z",
     "iopub.status.busy": "2023-11-20T08:56:08.783036Z",
     "iopub.status.idle": "2023-11-20T08:56:08.790958Z",
     "shell.execute_reply": "2023-11-20T08:56:08.790544Z"
    },
    "papermill": {
     "duration": 0.021517,
     "end_time": "2023-11-20T08:56:08.791733",
     "exception": false,
     "start_time": "2023-11-20T08:56:08.770216",
     "status": "completed"
    },
    "tags": []
   },
   "outputs": [],
   "source": [
    "def get_cm_line_points(x, y, max_parts, parts):\n",
    "    \"\"\"\n",
    "    Given two data vectors (x and y) and the max_parts and parts\n",
    "    returned from calling cm, this function returns two arrays with\n",
    "    scalars to draw the lines that separates clusters in x and y.\n",
    "    \"\"\"\n",
    "    # get the ccc partitions that maximize the coefficient\n",
    "    x_max_part = parts[0][max_parts[0]]\n",
    "    x_unique_k = {}\n",
    "    for k in np.unique(x_max_part):\n",
    "        data = x[x_max_part == k]\n",
    "        x_unique_k[k] = data.min(), data.max()\n",
    "    x_unique_k = sorted(x_unique_k.items(), key=lambda x: x[1][0])\n",
    "\n",
    "    y_max_part = parts[1][max_parts[1]]\n",
    "    y_unique_k = {}\n",
    "    for k in np.unique(y_max_part):\n",
    "        data = y[y_max_part == k]\n",
    "        y_unique_k[k] = data.min(), data.max()\n",
    "    y_unique_k = sorted(y_unique_k.items(), key=lambda x: x[1][0])\n",
    "\n",
    "    x_line_points, y_line_points = [], []\n",
    "\n",
    "    for idx in range(len(x_unique_k) - 1):\n",
    "        k, (k_min, k_max) = x_unique_k[idx]\n",
    "        nk, (nk_min, nk_max) = x_unique_k[idx + 1]\n",
    "\n",
    "        x_line_points.append((k_max + nk_min) / 2.0)\n",
    "\n",
    "    for idx in range(len(y_unique_k) - 1):\n",
    "        k, (k_min, k_max) = y_unique_k[idx]\n",
    "        nk, (nk_min, nk_max) = y_unique_k[idx + 1]\n",
    "\n",
    "        y_line_points.append((k_max + nk_min) / 2.0)\n",
    "\n",
    "    return x_line_points, y_line_points"
   ]
  },
  {
   "cell_type": "code",
   "execution_count": 65,
   "id": "55ecad23-cf11-4ed5-a81d-c7faa16ad8b9",
   "metadata": {
    "execution": {
     "iopub.execute_input": "2023-11-20T08:56:08.817173Z",
     "iopub.status.busy": "2023-11-20T08:56:08.817019Z",
     "iopub.status.idle": "2023-11-20T08:56:09.300155Z",
     "shell.execute_reply": "2023-11-20T08:56:09.299832Z"
    },
    "papermill": {
     "duration": 0.497529,
     "end_time": "2023-11-20T08:56:09.301630",
     "exception": false,
     "start_time": "2023-11-20T08:56:08.804101",
     "status": "completed"
    },
    "tags": []
   },
   "outputs": [
    {
     "data": {
      "image/png": "[encoded data removed]",
      "text/plain": [
       "<Figure size 720x360 with 2 Axes>"
      ]
     },
     "metadata": {
      "needs_background": "light"
     },
     "output_type": "display_data"
    }
   ],
   "source": [
    "with sns.plotting_context(\"paper\", font_scale=1.8):\n",
    "    g = sns.FacetGrid(\n",
    "        data=datasets_df,\n",
    "        col=\"dataset\",\n",
    "        col_order=[\n",
    "            # \"Brain cerebellum (all)\",\n",
    "            # \"Small intestine (terminal ileum) (all)\",\n",
    "            \"Brain cerebellum (males)\",\n",
    "            \"Small intestine (terminal ileum) (males)\",\n",
    "        ],\n",
    "        col_wrap=2,\n",
    "        height=5,\n",
    "    )\n",
    "    g.map(sns.scatterplot, \"x\", \"y\", s=50, alpha=1)\n",
    "    g.set_titles(row_template=\"{row_name}\", col_template=\"{col_name}\")\n",
    "\n",
    "    for ds, ax in g.axes_dict.items():\n",
    "        df = datasets[ds].to_numpy()\n",
    "        x, y = df[:, 0], df[:, 1]\n",
    "\n",
    "        # pearson and spearman\n",
    "        r = pearsonr(x, y)[0]\n",
    "        rs = spearmanr(x, y)[0]\n",
    "\n",
    "        # ccc\n",
    "        c, max_parts, parts = ccc(x, y, return_parts=True)\n",
    "        c = ccc(x, y)\n",
    "\n",
    "        x_line_points, y_line_points = get_cm_line_points(x, y, max_parts, parts)\n",
    "        for yp in y_line_points:\n",
    "            ax.hlines(y=yp, xmin=-0.5, xmax=30, color=\"r\", alpha=0.5)\n",
    "\n",
    "        for xp in x_line_points:\n",
    "            ax.vlines(x=xp, ymin=-0.5, ymax=18, color=\"r\", alpha=0.5)\n",
    "\n",
    "        # add text box for the statistics\n",
    "        stats = f\"$c$ = {c:.2f}\"\n",
    "        bbox = dict(boxstyle=\"round\", fc=\"white\", ec=\"black\", alpha=0.75)\n",
    "        ax.text(\n",
    "            0.95,\n",
    "            0.90,\n",
    "            stats,\n",
    "            fontsize=14,\n",
    "            bbox=bbox,\n",
    "            transform=ax.transAxes,\n",
    "            horizontalalignment=\"right\",\n",
    "        )\n",
    "\n",
    "    plt.savefig(\n",
    "        OUTPUT_FIGURE_DIR\n",
    "        / \"gtex-KDM6A_vs_UTY-brain_cerebellum_and_small_intestine_terminal_ileum-clusters-males.png\",\n",
    "        # rasterized=True,\n",
    "        dpi=300,\n",
    "        bbox_inches=\"tight\",\n",
    "        facecolor=\"white\",\n",
    "    )"
   ]
  },
  {
   "cell_type": "code",
   "execution_count": 66,
   "id": "65d1355b-5793-491f-9da6-436f9676accc",
   "metadata": {
    "execution": {
     "iopub.execute_input": "2023-11-20T08:56:09.386253Z",
     "iopub.status.busy": "2023-11-20T08:56:09.386119Z",
     "iopub.status.idle": "2023-11-20T08:56:09.861742Z",
     "shell.execute_reply": "2023-11-20T08:56:09.861241Z"
    },
    "papermill": {
     "duration": 0.537138,
     "end_time": "2023-11-20T08:56:09.862842",
     "exception": false,
     "start_time": "2023-11-20T08:56:09.325704",
     "status": "completed"
    },
    "tags": []
   },
   "outputs": [
    {
     "data": {
      "image/png": "[encoded data removed]",
      "text/plain": [
       "<Figure size 720x360 with 2 Axes>"
      ]
     },
     "metadata": {
      "needs_background": "light"
     },
     "output_type": "display_data"
    }
   ],
   "source": [
    "with sns.plotting_context(\"paper\", font_scale=1.8):\n",
    "    g = sns.FacetGrid(\n",
    "        data=datasets_df,\n",
    "        col=\"dataset\",\n",
    "        col_order=[\n",
    "            \"Brain cerebellum (all)\",\n",
    "            \"Small intestine (terminal ileum) (all)\",\n",
    "            # \"Brain cerebellum (males)\",\n",
    "            # \"Small intestine (terminal ileum) (males)\",\n",
    "        ],\n",
    "        col_wrap=2,\n",
    "        height=5,\n",
    "    )\n",
    "    g.map(sns.scatterplot, \"x\", \"y\", s=50, alpha=1)\n",
    "    g.set_titles(row_template=\"{row_name}\", col_template=\"{col_name}\")\n",
    "\n",
    "    for ds, ax in g.axes_dict.items():\n",
    "        df = datasets[ds].to_numpy()\n",
    "        x, y = df[:, 0], df[:, 1]\n",
    "\n",
    "        # pearson and spearman\n",
    "        r = pearsonr(x, y)[0]\n",
    "        rs = spearmanr(x, y)[0]\n",
    "\n",
    "        # ccc\n",
    "        c, max_parts, parts = ccc(x, y, return_parts=True)\n",
    "        c = ccc(x, y)\n",
    "\n",
    "        x_line_points, y_line_points = get_cm_line_points(x, y, max_parts, parts)\n",
    "        for yp in y_line_points:\n",
    "            ax.hlines(y=yp, xmin=-0.5, xmax=30, color=\"r\", alpha=0.5)\n",
    "\n",
    "        for xp in x_line_points:\n",
    "            ax.vlines(x=xp, ymin=-0.5, ymax=18, color=\"r\", alpha=0.5)\n",
    "\n",
    "        # add text box for the statistics\n",
    "        stats = f\"$c$ = {c:.2f}\"\n",
    "        bbox = dict(boxstyle=\"round\", fc=\"white\", ec=\"black\", alpha=0.75)\n",
    "        ax.text(\n",
    "            0.95,\n",
    "            0.90,\n",
    "            stats,\n",
    "            fontsize=14,\n",
    "            bbox=bbox,\n",
    "            transform=ax.transAxes,\n",
    "            horizontalalignment=\"right\",\n",
    "        )\n",
    "\n",
    "    plt.savefig(\n",
    "        OUTPUT_FIGURE_DIR\n",
    "        / \"gtex-KDM6A_vs_UTY-brain_cerebellum_and_small_intestine_terminal_ileum-clusters-all.png\",\n",
    "        # rasterized=True,\n",
    "        dpi=300,\n",
    "        bbox_inches=\"tight\",\n",
    "        facecolor=\"white\",\n",
    "    )"
   ]
  },
  {
   "cell_type": "code",
   "execution_count": null,
   "id": "f00d3bab-20b4-489f-bbe8-ef449eda9488",
   "metadata": {
    "papermill": {
     "duration": 0.019825,
     "end_time": "2023-11-20T08:56:09.902585",
     "exception": false,
     "start_time": "2023-11-20T08:56:09.882760",
     "status": "completed"
    },
    "tags": []
   },
   "outputs": [],
   "source": []
  }
 ],
 "metadata": {
  "jupytext": {
   "cell_metadata_filter": "all,-execution,-papermill,-trusted",
   "notebook_metadata_filter": "-jupytext.text_representation.jupytext_version"
  },
  "kernelspec": {
   "display_name": "Python 3 (ipykernel)",
   "language": "python",
   "name": "python3"
  },
  "language_info": {
   "codemirror_mode": {
    "name": "ipython",
    "version": 3
   },
   "file_extension": ".py",
   "mimetype": "text/x-python",
   "name": "python",
   "nbconvert_exporter": "python",
   "pygments_lexer": "ipython3",
   "version": "3.9.12"
  },
  "papermill": {
   "default_parameters": {},
   "duration": 14.836242,
   "end_time": "2023-11-20T08:56:10.343797",
   "environment_variables": {},
   "exception": null,
   "input_path": "nbs/99_manuscript/coefs_comp/20_00-gtex_whole_blood-UTY_KDM6A.ipynb",
   "output_path": "nbs/99_manuscript/coefs_comp/20_00-gtex_whole_blood-UTY_KDM6A.run.ipynb",
   "parameters": {},
   "start_time": "2023-11-20T08:55:55.507555",
   "version": "2.3.4"
  }
 },
 "nbformat": 4,
 "nbformat_minor": 5
}
