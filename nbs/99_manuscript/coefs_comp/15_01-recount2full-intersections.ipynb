{
 "cells": [
  {
   "cell_type": "markdown",
   "id": "87e0ce1b-7ce6-4499-9342-5ded05307598",
   "metadata": {
    "papermill": {
     "duration": 0.063205,
     "end_time": "2021-11-19T21:18:45.499332",
     "exception": false,
     "start_time": "2021-11-19T21:18:45.436127",
     "status": "completed"
    },
    "tags": []
   },
   "source": [
    "# Description"
   ]
  },
  {
   "cell_type": "markdown",
   "id": "4bfc7115-350a-441b-9a19-7626a948a694",
   "metadata": {
    "papermill": {
     "duration": 0.06281,
     "end_time": "2021-11-19T21:18:45.625288",
     "exception": false,
     "start_time": "2021-11-19T21:18:45.562478",
     "status": "completed"
    },
    "tags": []
   },
   "source": [
    "It analyzes how correlation coefficients intersect on different gene pairs. Basically, I take the top gene pairs with the maximum correlation coefficient according to Pearson, Spearman and Clustermatch, and also the equivalent set with the minimum coefficient values, and then compare how these sets intersect each other.\n",
    "\n",
    "After identifying different intersection sets, I plot some gene pairs to see what's being captured or not by each coefficient."
   ]
  },
  {
   "cell_type": "markdown",
   "id": "e020c781-238b-43c2-8cad-2722b8a240e2",
   "metadata": {
    "papermill": {
     "duration": 0.069529,
     "end_time": "2021-11-19T21:18:45.762225",
     "exception": false,
     "start_time": "2021-11-19T21:18:45.692696",
     "status": "completed"
    },
    "tags": []
   },
   "source": [
    "# Modules"
   ]
  },
  {
   "cell_type": "code",
   "execution_count": 1,
   "id": "a819bfbc-5009-4c68-ba8d-37d0979d368f",
   "metadata": {
    "papermill": {
     "duration": 1.222566,
     "end_time": "2021-11-19T21:18:47.051114",
     "exception": false,
     "start_time": "2021-11-19T21:18:45.828548",
     "status": "completed"
    },
    "tags": []
   },
   "outputs": [],
   "source": [
    "import pandas as pd\n",
    "import numpy as np\n",
    "\n",
    "import matplotlib.pyplot as plt\n",
    "import seaborn as sns\n",
    "from upsetplot import plot, from_indicators\n",
    "\n",
    "from clustermatch.plots import MyUpSet\n",
    "from clustermatch import conf"
   ]
  },
  {
   "cell_type": "markdown",
   "id": "b4834387-58ff-468c-b326-85c408bc5feb",
   "metadata": {
    "papermill": {
     "duration": 0.062667,
     "end_time": "2021-11-19T21:18:47.176897",
     "exception": false,
     "start_time": "2021-11-19T21:18:47.114230",
     "status": "completed"
    },
    "tags": []
   },
   "source": [
    "# Settings"
   ]
  },
  {
   "cell_type": "code",
   "execution_count": 2,
   "id": "765e820a-4518-4bbc-a00f-14c9cea03821",
   "metadata": {},
   "outputs": [],
   "source": [
    "DATASET_CONFIG = conf.RECOUNT2FULL\n",
    "# GTEX_TISSUE = \"whole_blood\"\n",
    "GENE_SEL_STRATEGY = \"var_pc_log2\""
   ]
  },
  {
   "cell_type": "code",
   "execution_count": 3,
   "id": "ffcd0ae1-829d-4eda-befe-ace40371babf",
   "metadata": {},
   "outputs": [],
   "source": [
    "# this specificies the threshold to compare coefficients (see below).\n",
    "# it basically takes the top Q_DIFF coefficient values for gene pairs\n",
    "# and compare with the bottom Q_DIFF of the other coefficients\n",
    "Q_DIFF = 0.30"
   ]
  },
  {
   "cell_type": "markdown",
   "id": "a1159982-5dd1-4494-97d4-0674eeead1c3",
   "metadata": {
    "papermill": {
     "duration": 0.062778,
     "end_time": "2021-11-19T21:18:47.303614",
     "exception": false,
     "start_time": "2021-11-19T21:18:47.240836",
     "status": "completed"
    },
    "tags": []
   },
   "source": [
    "# Paths"
   ]
  },
  {
   "cell_type": "code",
   "execution_count": 4,
   "id": "52858e25-20a8-40b7-8749-0a2173d0819b",
   "metadata": {},
   "outputs": [
    {
     "data": {
      "text/plain": [
       "'recount2full'"
      ]
     },
     "metadata": {},
     "output_type": "display_data"
    }
   ],
   "source": [
    "dataset_name = DATASET_CONFIG[\"RESULTS_DIR\"].name\n",
    "display(dataset_name)"
   ]
  },
  {
   "cell_type": "code",
   "execution_count": 5,
   "id": "d50e29a6-0e18-4c3d-b933-f21a17abf831",
   "metadata": {
    "papermill": {
     "duration": 0.068311,
     "end_time": "2021-11-19T21:18:47.433932",
     "exception": false,
     "start_time": "2021-11-19T21:18:47.365621",
     "status": "completed"
    },
    "tags": []
   },
   "outputs": [],
   "source": [
    "assert (\n",
    "    conf.MANUSCRIPT[\"BASE_DIR\"] is not None and conf.MANUSCRIPT[\"BASE_DIR\"].exists()\n",
    "), \"Manuscript dir not set\""
   ]
  },
  {
   "cell_type": "code",
   "execution_count": 6,
   "id": "523c6a4e-87ec-44bf-bad3-e912b8aa0482",
   "metadata": {
    "papermill": {
     "duration": 0.071148,
     "end_time": "2021-11-19T21:18:47.566820",
     "exception": false,
     "start_time": "2021-11-19T21:18:47.495672",
     "status": "completed"
    },
    "tags": []
   },
   "outputs": [
    {
     "data": {
      "text/plain": [
       "PosixPath('/opt/manuscript/content/images/coefs_comp/recount2full')"
      ]
     },
     "metadata": {},
     "output_type": "display_data"
    }
   ],
   "source": [
    "OUTPUT_FIGURE_DIR = (\n",
    "    conf.MANUSCRIPT[\"FIGURES_DIR\"] / \"coefs_comp\" / dataset_name\n",
    ")\n",
    "OUTPUT_FIGURE_DIR.mkdir(parents=True, exist_ok=True)\n",
    "display(OUTPUT_FIGURE_DIR)"
   ]
  },
  {
   "cell_type": "code",
   "execution_count": 7,
   "id": "c6f73068-fa38-44be-bd0c-708f6ff450ea",
   "metadata": {
    "papermill": {
     "duration": 0.025306,
     "end_time": "2021-09-21T01:08:28.234279",
     "exception": false,
     "start_time": "2021-09-21T01:08:28.208973",
     "status": "completed"
    },
    "tags": []
   },
   "outputs": [
    {
     "data": {
      "text/plain": [
       "PosixPath('/opt/data/data/recount2full/recount2_rpkm.pkl')"
      ]
     },
     "metadata": {},
     "output_type": "display_data"
    }
   ],
   "source": [
    "INPUT_GENE_EXPR_FILE = DATASET_CONFIG[\"DATA_DIR\"] / \"recount2_rpkm.pkl\"\n",
    "display(INPUT_GENE_EXPR_FILE)\n",
    "\n",
    "assert INPUT_GENE_EXPR_FILE.exists()"
   ]
  },
  {
   "cell_type": "code",
   "execution_count": 8,
   "id": "edf17c92-2894-45b5-82ee-cd0170dda995",
   "metadata": {
    "papermill": {
     "duration": 0.025306,
     "end_time": "2021-09-21T01:08:28.234279",
     "exception": false,
     "start_time": "2021-09-21T01:08:28.208973",
     "status": "completed"
    },
    "tags": []
   },
   "outputs": [
    {
     "data": {
      "text/plain": [
       "PosixPath('/opt/data/results/recount2full/similarity_matrices/recount2_rpkm-{gene_sel_strategy}-{corr_method}.pkl')"
      ]
     },
     "metadata": {},
     "output_type": "display_data"
    }
   ],
   "source": [
    "INPUT_CORR_FILE_TEMPLATE = (\n",
    "    DATASET_CONFIG[\"SIMILARITY_MATRICES_DIR\"]\n",
    "    / DATASET_CONFIG[\"SIMILARITY_MATRIX_FILENAME_TEMPLATE\"]\n",
    ")\n",
    "display(INPUT_CORR_FILE_TEMPLATE)"
   ]
  },
  {
   "cell_type": "code",
   "execution_count": 9,
   "id": "30cce6f5-ca1b-438c-859d-31903a42d4c6",
   "metadata": {
    "tags": []
   },
   "outputs": [
    {
     "data": {
      "text/plain": [
       "PosixPath('/opt/data/results/recount2full/similarity_matrices/recount2_rpkm-var_pc_log2-all.pkl')"
      ]
     },
     "metadata": {},
     "output_type": "display_data"
    }
   ],
   "source": [
    "INPUT_CORR_FILE = DATASET_CONFIG[\"SIMILARITY_MATRICES_DIR\"] / str(\n",
    "    INPUT_CORR_FILE_TEMPLATE\n",
    ").format(\n",
    "    gene_sel_strategy=GENE_SEL_STRATEGY,\n",
    "    corr_method=\"all\",\n",
    ")\n",
    "display(INPUT_CORR_FILE)\n",
    "\n",
    "assert INPUT_CORR_FILE.exists()"
   ]
  },
  {
   "cell_type": "markdown",
   "id": "f6d3322b-c8bb-4fc2-97b6-5bb1793b1577",
   "metadata": {
    "papermill": {
     "duration": 0.062778,
     "end_time": "2021-11-19T21:18:47.303614",
     "exception": false,
     "start_time": "2021-11-19T21:18:47.240836",
     "status": "completed"
    },
    "tags": []
   },
   "source": [
    "# Data"
   ]
  },
  {
   "cell_type": "markdown",
   "id": "0aa486d7-b624-4d20-a730-a9eb224bef6a",
   "metadata": {
    "papermill": {
     "duration": 0.019217,
     "end_time": "2021-09-21T01:08:28.355017",
     "exception": false,
     "start_time": "2021-09-21T01:08:28.335800",
     "status": "completed"
    },
    "tags": []
   },
   "source": [
    "## Gene expression"
   ]
  },
  {
   "cell_type": "code",
   "execution_count": 10,
   "id": "f73ca2b7-f7ff-47bc-90b0-32e0cfdb5ea6",
   "metadata": {},
   "outputs": [],
   "source": [
    "gene_expr_df = pd.read_pickle(INPUT_GENE_EXPR_FILE)"
   ]
  },
  {
   "cell_type": "code",
   "execution_count": 11,
   "id": "3cba499a-e737-4da2-9841-f9a03719b3aa",
   "metadata": {},
   "outputs": [
    {
     "data": {
      "text/plain": [
       "(57096, 37032)"
      ]
     },
     "execution_count": 11,
     "metadata": {},
     "output_type": "execute_result"
    }
   ],
   "source": [
    "gene_expr_df.shape"
   ]
  },
  {
   "cell_type": "code",
   "execution_count": 12,
   "id": "df66fe70-9fe9-4351-9d30-f8dcc97725de",
   "metadata": {},
   "outputs": [
    {
     "data": {
      "text/html": [
       "<div>\n",
       "<style scoped>\n",
       "    .dataframe tbody tr th:only-of-type {\n",
       "        vertical-align: middle;\n",
       "    }\n",
       "\n",
       "    .dataframe tbody tr th {\n",
       "        vertical-align: top;\n",
       "    }\n",
       "\n",
       "    .dataframe thead th {\n",
       "        text-align: right;\n",
       "    }\n",
       "</style>\n",
       "<table border=\"1\" class=\"dataframe\">\n",
       "  <thead>\n",
       "    <tr style=\"text-align: right;\">\n",
       "      <th></th>\n",
       "      <th>SRP000599.SRR013549</th>\n",
       "      <th>SRP000599.SRR013550</th>\n",
       "      <th>SRP000599.SRR013551</th>\n",
       "      <th>SRP000599.SRR013552</th>\n",
       "      <th>SRP000599.SRR013553</th>\n",
       "      <th>SRP000599.SRR013554</th>\n",
       "      <th>SRP000599.SRR013555</th>\n",
       "      <th>SRP000599.SRR013556</th>\n",
       "      <th>SRP000599.SRR013557</th>\n",
       "      <th>SRP000599.SRR013558</th>\n",
       "      <th>...</th>\n",
       "      <th>SRP035599.SRR1139372</th>\n",
       "      <th>SRP035599.SRR1139393</th>\n",
       "      <th>SRP035599.SRR1139388</th>\n",
       "      <th>SRP035599.SRR1139378</th>\n",
       "      <th>SRP035599.SRR1139399</th>\n",
       "      <th>SRP035599.SRR1139386</th>\n",
       "      <th>SRP035599.SRR1139375</th>\n",
       "      <th>SRP035599.SRR1139382</th>\n",
       "      <th>SRP035599.SRR1139356</th>\n",
       "      <th>SRP035599.SRR1139370</th>\n",
       "    </tr>\n",
       "  </thead>\n",
       "  <tbody>\n",
       "    <tr>\n",
       "      <th>ENSG00000000003</th>\n",
       "      <td>0.000000</td>\n",
       "      <td>0.0</td>\n",
       "      <td>0.000000</td>\n",
       "      <td>0.0</td>\n",
       "      <td>0.0</td>\n",
       "      <td>0.0</td>\n",
       "      <td>0.929351</td>\n",
       "      <td>1.175312</td>\n",
       "      <td>0.459859</td>\n",
       "      <td>1.254482</td>\n",
       "      <td>...</td>\n",
       "      <td>0.017900</td>\n",
       "      <td>0.029771</td>\n",
       "      <td>0.081792</td>\n",
       "      <td>0.000000</td>\n",
       "      <td>0.064336</td>\n",
       "      <td>0.408565</td>\n",
       "      <td>0.000000</td>\n",
       "      <td>0.010008</td>\n",
       "      <td>0.000000</td>\n",
       "      <td>0.027440</td>\n",
       "    </tr>\n",
       "    <tr>\n",
       "      <th>ENSG00000000005</th>\n",
       "      <td>0.000000</td>\n",
       "      <td>0.0</td>\n",
       "      <td>0.000000</td>\n",
       "      <td>0.0</td>\n",
       "      <td>0.0</td>\n",
       "      <td>0.0</td>\n",
       "      <td>0.000000</td>\n",
       "      <td>0.000000</td>\n",
       "      <td>0.000000</td>\n",
       "      <td>0.000000</td>\n",
       "      <td>...</td>\n",
       "      <td>0.000000</td>\n",
       "      <td>0.000000</td>\n",
       "      <td>0.000000</td>\n",
       "      <td>0.000000</td>\n",
       "      <td>0.011364</td>\n",
       "      <td>0.000000</td>\n",
       "      <td>0.000000</td>\n",
       "      <td>0.000000</td>\n",
       "      <td>0.000000</td>\n",
       "      <td>0.000000</td>\n",
       "    </tr>\n",
       "    <tr>\n",
       "      <th>ENSG00000000419</th>\n",
       "      <td>0.000000</td>\n",
       "      <td>0.0</td>\n",
       "      <td>0.000000</td>\n",
       "      <td>0.0</td>\n",
       "      <td>0.0</td>\n",
       "      <td>0.0</td>\n",
       "      <td>0.000000</td>\n",
       "      <td>0.000000</td>\n",
       "      <td>5.561367</td>\n",
       "      <td>2.945875</td>\n",
       "      <td>...</td>\n",
       "      <td>29.761841</td>\n",
       "      <td>37.385839</td>\n",
       "      <td>20.649367</td>\n",
       "      <td>30.926951</td>\n",
       "      <td>23.025321</td>\n",
       "      <td>24.162726</td>\n",
       "      <td>11.302146</td>\n",
       "      <td>30.588071</td>\n",
       "      <td>20.268225</td>\n",
       "      <td>14.817692</td>\n",
       "    </tr>\n",
       "    <tr>\n",
       "      <th>ENSG00000000457</th>\n",
       "      <td>0.000000</td>\n",
       "      <td>0.0</td>\n",
       "      <td>0.000000</td>\n",
       "      <td>0.0</td>\n",
       "      <td>0.0</td>\n",
       "      <td>0.0</td>\n",
       "      <td>0.000000</td>\n",
       "      <td>0.000000</td>\n",
       "      <td>0.000000</td>\n",
       "      <td>0.262267</td>\n",
       "      <td>...</td>\n",
       "      <td>3.886637</td>\n",
       "      <td>4.945604</td>\n",
       "      <td>2.421947</td>\n",
       "      <td>4.127070</td>\n",
       "      <td>2.597540</td>\n",
       "      <td>2.692441</td>\n",
       "      <td>3.784122</td>\n",
       "      <td>2.715137</td>\n",
       "      <td>3.255437</td>\n",
       "      <td>2.210011</td>\n",
       "    </tr>\n",
       "    <tr>\n",
       "      <th>ENSG00000000460</th>\n",
       "      <td>0.084565</td>\n",
       "      <td>0.0</td>\n",
       "      <td>0.497083</td>\n",
       "      <td>0.0</td>\n",
       "      <td>0.0</td>\n",
       "      <td>0.0</td>\n",
       "      <td>1.177199</td>\n",
       "      <td>0.000000</td>\n",
       "      <td>0.000000</td>\n",
       "      <td>0.000000</td>\n",
       "      <td>...</td>\n",
       "      <td>2.585671</td>\n",
       "      <td>3.580650</td>\n",
       "      <td>1.800513</td>\n",
       "      <td>3.013335</td>\n",
       "      <td>2.352776</td>\n",
       "      <td>1.680907</td>\n",
       "      <td>2.413180</td>\n",
       "      <td>2.202502</td>\n",
       "      <td>1.720274</td>\n",
       "      <td>2.199518</td>\n",
       "    </tr>\n",
       "  </tbody>\n",
       "</table>\n",
       "<p>5 rows × 37032 columns</p>\n",
       "</div>"
      ],
      "text/plain": [
       "                 SRP000599.SRR013549  SRP000599.SRR013550  \\\n",
       "ENSG00000000003             0.000000                  0.0   \n",
       "ENSG00000000005             0.000000                  0.0   \n",
       "ENSG00000000419             0.000000                  0.0   \n",
       "ENSG00000000457             0.000000                  0.0   \n",
       "ENSG00000000460             0.084565                  0.0   \n",
       "\n",
       "                 SRP000599.SRR013551  SRP000599.SRR013552  \\\n",
       "ENSG00000000003             0.000000                  0.0   \n",
       "ENSG00000000005             0.000000                  0.0   \n",
       "ENSG00000000419             0.000000                  0.0   \n",
       "ENSG00000000457             0.000000                  0.0   \n",
       "ENSG00000000460             0.497083                  0.0   \n",
       "\n",
       "                 SRP000599.SRR013553  SRP000599.SRR013554  \\\n",
       "ENSG00000000003                  0.0                  0.0   \n",
       "ENSG00000000005                  0.0                  0.0   \n",
       "ENSG00000000419                  0.0                  0.0   \n",
       "ENSG00000000457                  0.0                  0.0   \n",
       "ENSG00000000460                  0.0                  0.0   \n",
       "\n",
       "                 SRP000599.SRR013555  SRP000599.SRR013556  \\\n",
       "ENSG00000000003             0.929351             1.175312   \n",
       "ENSG00000000005             0.000000             0.000000   \n",
       "ENSG00000000419             0.000000             0.000000   \n",
       "ENSG00000000457             0.000000             0.000000   \n",
       "ENSG00000000460             1.177199             0.000000   \n",
       "\n",
       "                 SRP000599.SRR013557  SRP000599.SRR013558  ...  \\\n",
       "ENSG00000000003             0.459859             1.254482  ...   \n",
       "ENSG00000000005             0.000000             0.000000  ...   \n",
       "ENSG00000000419             5.561367             2.945875  ...   \n",
       "ENSG00000000457             0.000000             0.262267  ...   \n",
       "ENSG00000000460             0.000000             0.000000  ...   \n",
       "\n",
       "                 SRP035599.SRR1139372  SRP035599.SRR1139393  \\\n",
       "ENSG00000000003              0.017900              0.029771   \n",
       "ENSG00000000005              0.000000              0.000000   \n",
       "ENSG00000000419             29.761841             37.385839   \n",
       "ENSG00000000457              3.886637              4.945604   \n",
       "ENSG00000000460              2.585671              3.580650   \n",
       "\n",
       "                 SRP035599.SRR1139388  SRP035599.SRR1139378  \\\n",
       "ENSG00000000003              0.081792              0.000000   \n",
       "ENSG00000000005              0.000000              0.000000   \n",
       "ENSG00000000419             20.649367             30.926951   \n",
       "ENSG00000000457              2.421947              4.127070   \n",
       "ENSG00000000460              1.800513              3.013335   \n",
       "\n",
       "                 SRP035599.SRR1139399  SRP035599.SRR1139386  \\\n",
       "ENSG00000000003              0.064336              0.408565   \n",
       "ENSG00000000005              0.011364              0.000000   \n",
       "ENSG00000000419             23.025321             24.162726   \n",
       "ENSG00000000457              2.597540              2.692441   \n",
       "ENSG00000000460              2.352776              1.680907   \n",
       "\n",
       "                 SRP035599.SRR1139375  SRP035599.SRR1139382  \\\n",
       "ENSG00000000003              0.000000              0.010008   \n",
       "ENSG00000000005              0.000000              0.000000   \n",
       "ENSG00000000419             11.302146             30.588071   \n",
       "ENSG00000000457              3.784122              2.715137   \n",
       "ENSG00000000460              2.413180              2.202502   \n",
       "\n",
       "                 SRP035599.SRR1139356  SRP035599.SRR1139370  \n",
       "ENSG00000000003              0.000000              0.027440  \n",
       "ENSG00000000005              0.000000              0.000000  \n",
       "ENSG00000000419             20.268225             14.817692  \n",
       "ENSG00000000457              3.255437              2.210011  \n",
       "ENSG00000000460              1.720274              2.199518  \n",
       "\n",
       "[5 rows x 37032 columns]"
      ]
     },
     "execution_count": 12,
     "metadata": {},
     "output_type": "execute_result"
    }
   ],
   "source": [
    "gene_expr_df.head()"
   ]
  },
  {
   "cell_type": "markdown",
   "id": "b030f506-2fe9-4895-a8a1-51374e88c496",
   "metadata": {
    "papermill": {
     "duration": 0.019217,
     "end_time": "2021-09-21T01:08:28.355017",
     "exception": false,
     "start_time": "2021-09-21T01:08:28.335800",
     "status": "completed"
    },
    "tags": []
   },
   "source": [
    "## Correlation"
   ]
  },
  {
   "cell_type": "code",
   "execution_count": 13,
   "id": "da1d768a-fbfb-40e8-8fbb-790d1a94aa83",
   "metadata": {},
   "outputs": [],
   "source": [
    "df = pd.read_pickle(INPUT_CORR_FILE)"
   ]
  },
  {
   "cell_type": "code",
   "execution_count": 14,
   "id": "6123d474-0c0d-4771-9678-248ce89424ce",
   "metadata": {},
   "outputs": [
    {
     "data": {
      "text/plain": [
       "(12497500, 3)"
      ]
     },
     "execution_count": 14,
     "metadata": {},
     "output_type": "execute_result"
    }
   ],
   "source": [
    "df.shape"
   ]
  },
  {
   "cell_type": "code",
   "execution_count": 15,
   "id": "b028abd8-c5b1-48c2-aa5e-cb1b49c943a4",
   "metadata": {},
   "outputs": [
    {
     "data": {
      "text/html": [
       "<div>\n",
       "<style scoped>\n",
       "    .dataframe tbody tr th:only-of-type {\n",
       "        vertical-align: middle;\n",
       "    }\n",
       "\n",
       "    .dataframe tbody tr th {\n",
       "        vertical-align: top;\n",
       "    }\n",
       "\n",
       "    .dataframe thead th {\n",
       "        text-align: right;\n",
       "    }\n",
       "</style>\n",
       "<table border=\"1\" class=\"dataframe\">\n",
       "  <thead>\n",
       "    <tr style=\"text-align: right;\">\n",
       "      <th></th>\n",
       "      <th></th>\n",
       "      <th>clustermatch</th>\n",
       "      <th>pearson</th>\n",
       "      <th>spearman</th>\n",
       "    </tr>\n",
       "  </thead>\n",
       "  <tbody>\n",
       "    <tr>\n",
       "      <th rowspan=\"5\" valign=\"top\">ENSG00000000003</th>\n",
       "      <th>ENSG00000000419</th>\n",
       "      <td>0.163960</td>\n",
       "      <td>0.130873</td>\n",
       "      <td>0.471673</td>\n",
       "    </tr>\n",
       "    <tr>\n",
       "      <th>ENSG00000000938</th>\n",
       "      <td>0.083831</td>\n",
       "      <td>0.107588</td>\n",
       "      <td>0.178042</td>\n",
       "    </tr>\n",
       "    <tr>\n",
       "      <th>ENSG00000001036</th>\n",
       "      <td>0.274535</td>\n",
       "      <td>0.047559</td>\n",
       "      <td>0.494995</td>\n",
       "    </tr>\n",
       "    <tr>\n",
       "      <th>ENSG00000001630</th>\n",
       "      <td>0.194099</td>\n",
       "      <td>0.226343</td>\n",
       "      <td>0.547457</td>\n",
       "    </tr>\n",
       "    <tr>\n",
       "      <th>ENSG00000002586</th>\n",
       "      <td>0.067899</td>\n",
       "      <td>0.011981</td>\n",
       "      <td>0.204876</td>\n",
       "    </tr>\n",
       "  </tbody>\n",
       "</table>\n",
       "</div>"
      ],
      "text/plain": [
       "                                 clustermatch   pearson  spearman\n",
       "ENSG00000000003 ENSG00000000419      0.163960  0.130873  0.471673\n",
       "                ENSG00000000938      0.083831  0.107588  0.178042\n",
       "                ENSG00000001036      0.274535  0.047559  0.494995\n",
       "                ENSG00000001630      0.194099  0.226343  0.547457\n",
       "                ENSG00000002586      0.067899  0.011981  0.204876"
      ]
     },
     "execution_count": 15,
     "metadata": {},
     "output_type": "execute_result"
    }
   ],
   "source": [
    "df.head()"
   ]
  },
  {
   "cell_type": "code",
   "execution_count": 16,
   "id": "d46d8fa8-9316-4ef9-ba36-52e6294c546a",
   "metadata": {},
   "outputs": [
    {
     "data": {
      "text/html": [
       "<div>\n",
       "<style scoped>\n",
       "    .dataframe tbody tr th:only-of-type {\n",
       "        vertical-align: middle;\n",
       "    }\n",
       "\n",
       "    .dataframe tbody tr th {\n",
       "        vertical-align: top;\n",
       "    }\n",
       "\n",
       "    .dataframe thead th {\n",
       "        text-align: right;\n",
       "    }\n",
       "</style>\n",
       "<table border=\"1\" class=\"dataframe\">\n",
       "  <thead>\n",
       "    <tr style=\"text-align: right;\">\n",
       "      <th></th>\n",
       "      <th>clustermatch</th>\n",
       "      <th>pearson</th>\n",
       "      <th>spearman</th>\n",
       "    </tr>\n",
       "  </thead>\n",
       "  <tbody>\n",
       "    <tr>\n",
       "      <th>0.200000</th>\n",
       "      <td>0.043123</td>\n",
       "      <td>0.010266</td>\n",
       "      <td>0.117181</td>\n",
       "    </tr>\n",
       "    <tr>\n",
       "      <th>0.242105</th>\n",
       "      <td>0.050383</td>\n",
       "      <td>0.012494</td>\n",
       "      <td>0.140243</td>\n",
       "    </tr>\n",
       "    <tr>\n",
       "      <th>0.284211</th>\n",
       "      <td>0.057064</td>\n",
       "      <td>0.014813</td>\n",
       "      <td>0.162699</td>\n",
       "    </tr>\n",
       "    <tr>\n",
       "      <th>0.326316</th>\n",
       "      <td>0.063160</td>\n",
       "      <td>0.017263</td>\n",
       "      <td>0.184437</td>\n",
       "    </tr>\n",
       "    <tr>\n",
       "      <th>0.368421</th>\n",
       "      <td>0.068828</td>\n",
       "      <td>0.019866</td>\n",
       "      <td>0.205521</td>\n",
       "    </tr>\n",
       "    <tr>\n",
       "      <th>0.410526</th>\n",
       "      <td>0.074245</td>\n",
       "      <td>0.022672</td>\n",
       "      <td>0.226145</td>\n",
       "    </tr>\n",
       "    <tr>\n",
       "      <th>0.452632</th>\n",
       "      <td>0.079615</td>\n",
       "      <td>0.025700</td>\n",
       "      <td>0.246302</td>\n",
       "    </tr>\n",
       "    <tr>\n",
       "      <th>0.494737</th>\n",
       "      <td>0.085087</td>\n",
       "      <td>0.029010</td>\n",
       "      <td>0.266180</td>\n",
       "    </tr>\n",
       "    <tr>\n",
       "      <th>0.536842</th>\n",
       "      <td>0.090757</td>\n",
       "      <td>0.032677</td>\n",
       "      <td>0.286041</td>\n",
       "    </tr>\n",
       "    <tr>\n",
       "      <th>0.578947</th>\n",
       "      <td>0.096683</td>\n",
       "      <td>0.036766</td>\n",
       "      <td>0.306200</td>\n",
       "    </tr>\n",
       "    <tr>\n",
       "      <th>0.621053</th>\n",
       "      <td>0.102886</td>\n",
       "      <td>0.041430</td>\n",
       "      <td>0.327079</td>\n",
       "    </tr>\n",
       "    <tr>\n",
       "      <th>0.663158</th>\n",
       "      <td>0.109501</td>\n",
       "      <td>0.046821</td>\n",
       "      <td>0.349091</td>\n",
       "    </tr>\n",
       "    <tr>\n",
       "      <th>0.705263</th>\n",
       "      <td>0.116722</td>\n",
       "      <td>0.053238</td>\n",
       "      <td>0.372813</td>\n",
       "    </tr>\n",
       "    <tr>\n",
       "      <th>0.747368</th>\n",
       "      <td>0.124916</td>\n",
       "      <td>0.061070</td>\n",
       "      <td>0.398693</td>\n",
       "    </tr>\n",
       "    <tr>\n",
       "      <th>0.789474</th>\n",
       "      <td>0.134691</td>\n",
       "      <td>0.070974</td>\n",
       "      <td>0.427287</td>\n",
       "    </tr>\n",
       "    <tr>\n",
       "      <th>0.831579</th>\n",
       "      <td>0.147144</td>\n",
       "      <td>0.084127</td>\n",
       "      <td>0.459115</td>\n",
       "    </tr>\n",
       "    <tr>\n",
       "      <th>0.873684</th>\n",
       "      <td>0.164215</td>\n",
       "      <td>0.102914</td>\n",
       "      <td>0.495417</td>\n",
       "    </tr>\n",
       "    <tr>\n",
       "      <th>0.915789</th>\n",
       "      <td>0.190320</td>\n",
       "      <td>0.132851</td>\n",
       "      <td>0.539781</td>\n",
       "    </tr>\n",
       "    <tr>\n",
       "      <th>0.957895</th>\n",
       "      <td>0.240247</td>\n",
       "      <td>0.190480</td>\n",
       "      <td>0.603103</td>\n",
       "    </tr>\n",
       "    <tr>\n",
       "      <th>1.000000</th>\n",
       "      <td>0.998504</td>\n",
       "      <td>1.000000</td>\n",
       "      <td>0.999995</td>\n",
       "    </tr>\n",
       "  </tbody>\n",
       "</table>\n",
       "</div>"
      ],
      "text/plain": [
       "          clustermatch   pearson  spearman\n",
       "0.200000      0.043123  0.010266  0.117181\n",
       "0.242105      0.050383  0.012494  0.140243\n",
       "0.284211      0.057064  0.014813  0.162699\n",
       "0.326316      0.063160  0.017263  0.184437\n",
       "0.368421      0.068828  0.019866  0.205521\n",
       "0.410526      0.074245  0.022672  0.226145\n",
       "0.452632      0.079615  0.025700  0.246302\n",
       "0.494737      0.085087  0.029010  0.266180\n",
       "0.536842      0.090757  0.032677  0.286041\n",
       "0.578947      0.096683  0.036766  0.306200\n",
       "0.621053      0.102886  0.041430  0.327079\n",
       "0.663158      0.109501  0.046821  0.349091\n",
       "0.705263      0.116722  0.053238  0.372813\n",
       "0.747368      0.124916  0.061070  0.398693\n",
       "0.789474      0.134691  0.070974  0.427287\n",
       "0.831579      0.147144  0.084127  0.459115\n",
       "0.873684      0.164215  0.102914  0.495417\n",
       "0.915789      0.190320  0.132851  0.539781\n",
       "0.957895      0.240247  0.190480  0.603103\n",
       "1.000000      0.998504  1.000000  0.999995"
      ]
     },
     "execution_count": 16,
     "metadata": {},
     "output_type": "execute_result"
    }
   ],
   "source": [
    "# show quantiles\n",
    "df.apply(lambda x: x.quantile(np.linspace(0.20, 1.0, 20)))"
   ]
  },
  {
   "cell_type": "markdown",
   "id": "2b3613bb-0ee8-4b93-b045-6c2fbbeb61e0",
   "metadata": {},
   "source": [
    "# Prepare data for plotting"
   ]
  },
  {
   "cell_type": "code",
   "execution_count": 17,
   "id": "056ac421-1bea-45f6-b3cb-933927cc88cd",
   "metadata": {},
   "outputs": [],
   "source": [
    "def get_lower_upper_quantile(method_name, q):\n",
    "    return df[method_name].quantile([q, 1 - q])"
   ]
  },
  {
   "cell_type": "code",
   "execution_count": 18,
   "id": "1f4a64ab-e15e-42fd-9d59-fc5dff6c571b",
   "metadata": {},
   "outputs": [
    {
     "data": {
      "text/plain": [
       "0.2    0.043123\n",
       "0.8    0.137485\n",
       "Name: clustermatch, dtype: float64"
      ]
     },
     "metadata": {},
     "output_type": "display_data"
    },
    {
     "data": {
      "text/plain": [
       "(0.04312262638172756, 0.13748539947404223)"
      ]
     },
     "metadata": {},
     "output_type": "display_data"
    }
   ],
   "source": [
    "# test\n",
    "_tmp = get_lower_upper_quantile(\"clustermatch\", 0.20)\n",
    "display(_tmp)\n",
    "\n",
    "_tmp0, _tmp1 = _tmp\n",
    "display((_tmp0, _tmp1))\n",
    "\n",
    "assert _tmp0 == _tmp.iloc[0]\n",
    "assert _tmp1 == _tmp.iloc[1]"
   ]
  },
  {
   "cell_type": "code",
   "execution_count": 19,
   "id": "5bc002ff-a591-4017-8229-b9cc07f7fae1",
   "metadata": {},
   "outputs": [
    {
     "data": {
      "text/plain": [
       "(0.059407414520353446, 0.11578220263694407)"
      ]
     },
     "metadata": {},
     "output_type": "display_data"
    },
    {
     "data": {
      "text/plain": [
       "(0.015718068271912643, 0.05236733091059872)"
      ]
     },
     "metadata": {},
     "output_type": "display_data"
    },
    {
     "data": {
      "text/plain": [
       "(0.1709306151554558, 0.36973936939313695)"
      ]
     },
     "metadata": {},
     "output_type": "display_data"
    }
   ],
   "source": [
    "clustermatch_lq, clustermatch_hq = get_lower_upper_quantile(\"clustermatch\", Q_DIFF)\n",
    "display((clustermatch_lq, clustermatch_hq))\n",
    "\n",
    "pearson_lq, pearson_hq = get_lower_upper_quantile(\"pearson\", Q_DIFF)\n",
    "display((pearson_lq, pearson_hq))\n",
    "\n",
    "spearman_lq, spearman_hq = get_lower_upper_quantile(\"spearman\", Q_DIFF)\n",
    "display((spearman_lq, spearman_hq))"
   ]
  },
  {
   "cell_type": "code",
   "execution_count": 20,
   "id": "b7151e86-845d-4c89-8298-c8636f70566b",
   "metadata": {},
   "outputs": [
    {
     "data": {
      "text/plain": [
       "3749250"
      ]
     },
     "metadata": {},
     "output_type": "display_data"
    },
    {
     "data": {
      "text/plain": [
       "3749250"
      ]
     },
     "metadata": {},
     "output_type": "display_data"
    }
   ],
   "source": [
    "pearson_higher = df[\"pearson\"] >= pearson_hq\n",
    "display(pearson_higher.sum())\n",
    "\n",
    "pearson_lower = df[\"pearson\"] <= pearson_lq\n",
    "display(pearson_lower.sum())"
   ]
  },
  {
   "cell_type": "code",
   "execution_count": 21,
   "id": "bde230a6-b84a-4dfe-a122-05b5d5cbd98b",
   "metadata": {},
   "outputs": [
    {
     "data": {
      "text/plain": [
       "3749250"
      ]
     },
     "metadata": {},
     "output_type": "display_data"
    },
    {
     "data": {
      "text/plain": [
       "3749250"
      ]
     },
     "metadata": {},
     "output_type": "display_data"
    }
   ],
   "source": [
    "spearman_higher = df[\"spearman\"] >= spearman_hq\n",
    "display(spearman_higher.sum())\n",
    "\n",
    "spearman_lower = df[\"spearman\"] <= spearman_lq\n",
    "display(spearman_lower.sum())"
   ]
  },
  {
   "cell_type": "code",
   "execution_count": 22,
   "id": "69a647b9-53bd-4f40-aab3-8274bdcfa90c",
   "metadata": {},
   "outputs": [
    {
     "data": {
      "text/plain": [
       "3749250"
      ]
     },
     "metadata": {},
     "output_type": "display_data"
    },
    {
     "data": {
      "text/plain": [
       "3749250"
      ]
     },
     "metadata": {},
     "output_type": "display_data"
    }
   ],
   "source": [
    "clustermatch_higher = df[\"clustermatch\"] >= clustermatch_hq\n",
    "display(clustermatch_higher.sum())\n",
    "\n",
    "clustermatch_lower = df[\"clustermatch\"] <= clustermatch_lq\n",
    "display(clustermatch_lower.sum())"
   ]
  },
  {
   "cell_type": "markdown",
   "id": "7f3682d5-c043-4c16-9871-7babc5a307a2",
   "metadata": {},
   "source": [
    "# UpSet plot"
   ]
  },
  {
   "cell_type": "code",
   "execution_count": 23,
   "id": "ed0bd3b6-f858-469f-bbeb-c187f720cd01",
   "metadata": {},
   "outputs": [],
   "source": [
    "df_plot = pd.DataFrame(\n",
    "    {\n",
    "        \"pearson_higher\": pearson_higher,\n",
    "        \"pearson_lower\": pearson_lower,\n",
    "        \"spearman_higher\": spearman_higher,\n",
    "        \"spearman_lower\": spearman_lower,\n",
    "        \"clustermatch_higher\": clustermatch_higher,\n",
    "        \"clustermatch_lower\": clustermatch_lower,\n",
    "    }\n",
    ")"
   ]
  },
  {
   "cell_type": "code",
   "execution_count": 24,
   "id": "d29af679-bd5e-4e5a-b6f8-55ae09fea9ca",
   "metadata": {},
   "outputs": [],
   "source": [
    "df_plot = pd.concat([df_plot, df], axis=1)"
   ]
  },
  {
   "cell_type": "code",
   "execution_count": 25,
   "id": "af2b7c35-e338-44a0-b54b-22464ae41a16",
   "metadata": {},
   "outputs": [
    {
     "data": {
      "text/html": [
       "<div>\n",
       "<style scoped>\n",
       "    .dataframe tbody tr th:only-of-type {\n",
       "        vertical-align: middle;\n",
       "    }\n",
       "\n",
       "    .dataframe tbody tr th {\n",
       "        vertical-align: top;\n",
       "    }\n",
       "\n",
       "    .dataframe thead th {\n",
       "        text-align: right;\n",
       "    }\n",
       "</style>\n",
       "<table border=\"1\" class=\"dataframe\">\n",
       "  <thead>\n",
       "    <tr style=\"text-align: right;\">\n",
       "      <th></th>\n",
       "      <th></th>\n",
       "      <th>pearson_higher</th>\n",
       "      <th>pearson_lower</th>\n",
       "      <th>spearman_higher</th>\n",
       "      <th>spearman_lower</th>\n",
       "      <th>clustermatch_higher</th>\n",
       "      <th>clustermatch_lower</th>\n",
       "      <th>clustermatch</th>\n",
       "      <th>pearson</th>\n",
       "      <th>spearman</th>\n",
       "    </tr>\n",
       "  </thead>\n",
       "  <tbody>\n",
       "    <tr>\n",
       "      <th rowspan=\"5\" valign=\"top\">ENSG00000000003</th>\n",
       "      <th>ENSG00000000419</th>\n",
       "      <td>True</td>\n",
       "      <td>False</td>\n",
       "      <td>True</td>\n",
       "      <td>False</td>\n",
       "      <td>True</td>\n",
       "      <td>False</td>\n",
       "      <td>0.163960</td>\n",
       "      <td>0.130873</td>\n",
       "      <td>0.471673</td>\n",
       "    </tr>\n",
       "    <tr>\n",
       "      <th>ENSG00000000938</th>\n",
       "      <td>True</td>\n",
       "      <td>False</td>\n",
       "      <td>False</td>\n",
       "      <td>False</td>\n",
       "      <td>False</td>\n",
       "      <td>False</td>\n",
       "      <td>0.083831</td>\n",
       "      <td>0.107588</td>\n",
       "      <td>0.178042</td>\n",
       "    </tr>\n",
       "    <tr>\n",
       "      <th>ENSG00000001036</th>\n",
       "      <td>False</td>\n",
       "      <td>False</td>\n",
       "      <td>True</td>\n",
       "      <td>False</td>\n",
       "      <td>True</td>\n",
       "      <td>False</td>\n",
       "      <td>0.274535</td>\n",
       "      <td>0.047559</td>\n",
       "      <td>0.494995</td>\n",
       "    </tr>\n",
       "    <tr>\n",
       "      <th>ENSG00000001630</th>\n",
       "      <td>True</td>\n",
       "      <td>False</td>\n",
       "      <td>True</td>\n",
       "      <td>False</td>\n",
       "      <td>True</td>\n",
       "      <td>False</td>\n",
       "      <td>0.194099</td>\n",
       "      <td>0.226343</td>\n",
       "      <td>0.547457</td>\n",
       "    </tr>\n",
       "    <tr>\n",
       "      <th>ENSG00000002586</th>\n",
       "      <td>False</td>\n",
       "      <td>True</td>\n",
       "      <td>False</td>\n",
       "      <td>False</td>\n",
       "      <td>False</td>\n",
       "      <td>False</td>\n",
       "      <td>0.067899</td>\n",
       "      <td>0.011981</td>\n",
       "      <td>0.204876</td>\n",
       "    </tr>\n",
       "    <tr>\n",
       "      <th>...</th>\n",
       "      <th>...</th>\n",
       "      <td>...</td>\n",
       "      <td>...</td>\n",
       "      <td>...</td>\n",
       "      <td>...</td>\n",
       "      <td>...</td>\n",
       "      <td>...</td>\n",
       "      <td>...</td>\n",
       "      <td>...</td>\n",
       "      <td>...</td>\n",
       "    </tr>\n",
       "    <tr>\n",
       "      <th rowspan=\"5\" valign=\"top\">ENSG00000283696</th>\n",
       "      <th>ENSG00000283534</th>\n",
       "      <td>False</td>\n",
       "      <td>True</td>\n",
       "      <td>True</td>\n",
       "      <td>False</td>\n",
       "      <td>True</td>\n",
       "      <td>False</td>\n",
       "      <td>0.163422</td>\n",
       "      <td>0.014953</td>\n",
       "      <td>0.414759</td>\n",
       "    </tr>\n",
       "    <tr>\n",
       "      <th>ENSG00000283551</th>\n",
       "      <td>False</td>\n",
       "      <td>True</td>\n",
       "      <td>True</td>\n",
       "      <td>False</td>\n",
       "      <td>True</td>\n",
       "      <td>False</td>\n",
       "      <td>0.215277</td>\n",
       "      <td>0.014696</td>\n",
       "      <td>0.462265</td>\n",
       "    </tr>\n",
       "    <tr>\n",
       "      <th>ENSG00000283604</th>\n",
       "      <td>False</td>\n",
       "      <td>True</td>\n",
       "      <td>True</td>\n",
       "      <td>False</td>\n",
       "      <td>False</td>\n",
       "      <td>True</td>\n",
       "      <td>0.058451</td>\n",
       "      <td>0.012938</td>\n",
       "      <td>0.396307</td>\n",
       "    </tr>\n",
       "    <tr>\n",
       "      <th>ENSG00000283612</th>\n",
       "      <td>False</td>\n",
       "      <td>False</td>\n",
       "      <td>True</td>\n",
       "      <td>False</td>\n",
       "      <td>False</td>\n",
       "      <td>True</td>\n",
       "      <td>0.059039</td>\n",
       "      <td>0.017648</td>\n",
       "      <td>0.423558</td>\n",
       "    </tr>\n",
       "    <tr>\n",
       "      <th>ENSG00000283638</th>\n",
       "      <td>True</td>\n",
       "      <td>False</td>\n",
       "      <td>False</td>\n",
       "      <td>False</td>\n",
       "      <td>False</td>\n",
       "      <td>False</td>\n",
       "      <td>0.112061</td>\n",
       "      <td>0.053365</td>\n",
       "      <td>0.358252</td>\n",
       "    </tr>\n",
       "  </tbody>\n",
       "</table>\n",
       "<p>12497500 rows × 9 columns</p>\n",
       "</div>"
      ],
      "text/plain": [
       "                                 pearson_higher  pearson_lower  \\\n",
       "ENSG00000000003 ENSG00000000419            True          False   \n",
       "                ENSG00000000938            True          False   \n",
       "                ENSG00000001036           False          False   \n",
       "                ENSG00000001630            True          False   \n",
       "                ENSG00000002586           False           True   \n",
       "...                                         ...            ...   \n",
       "ENSG00000283696 ENSG00000283534           False           True   \n",
       "                ENSG00000283551           False           True   \n",
       "                ENSG00000283604           False           True   \n",
       "                ENSG00000283612           False          False   \n",
       "                ENSG00000283638            True          False   \n",
       "\n",
       "                                 spearman_higher  spearman_lower  \\\n",
       "ENSG00000000003 ENSG00000000419             True           False   \n",
       "                ENSG00000000938            False           False   \n",
       "                ENSG00000001036             True           False   \n",
       "                ENSG00000001630             True           False   \n",
       "                ENSG00000002586            False           False   \n",
       "...                                          ...             ...   \n",
       "ENSG00000283696 ENSG00000283534             True           False   \n",
       "                ENSG00000283551             True           False   \n",
       "                ENSG00000283604             True           False   \n",
       "                ENSG00000283612             True           False   \n",
       "                ENSG00000283638            False           False   \n",
       "\n",
       "                                 clustermatch_higher  clustermatch_lower  \\\n",
       "ENSG00000000003 ENSG00000000419                 True               False   \n",
       "                ENSG00000000938                False               False   \n",
       "                ENSG00000001036                 True               False   \n",
       "                ENSG00000001630                 True               False   \n",
       "                ENSG00000002586                False               False   \n",
       "...                                              ...                 ...   \n",
       "ENSG00000283696 ENSG00000283534                 True               False   \n",
       "                ENSG00000283551                 True               False   \n",
       "                ENSG00000283604                False                True   \n",
       "                ENSG00000283612                False                True   \n",
       "                ENSG00000283638                False               False   \n",
       "\n",
       "                                 clustermatch   pearson  spearman  \n",
       "ENSG00000000003 ENSG00000000419      0.163960  0.130873  0.471673  \n",
       "                ENSG00000000938      0.083831  0.107588  0.178042  \n",
       "                ENSG00000001036      0.274535  0.047559  0.494995  \n",
       "                ENSG00000001630      0.194099  0.226343  0.547457  \n",
       "                ENSG00000002586      0.067899  0.011981  0.204876  \n",
       "...                                       ...       ...       ...  \n",
       "ENSG00000283696 ENSG00000283534      0.163422  0.014953  0.414759  \n",
       "                ENSG00000283551      0.215277  0.014696  0.462265  \n",
       "                ENSG00000283604      0.058451  0.012938  0.396307  \n",
       "                ENSG00000283612      0.059039  0.017648  0.423558  \n",
       "                ENSG00000283638      0.112061  0.053365  0.358252  \n",
       "\n",
       "[12497500 rows x 9 columns]"
      ]
     },
     "execution_count": 25,
     "metadata": {},
     "output_type": "execute_result"
    }
   ],
   "source": [
    "df_plot"
   ]
  },
  {
   "cell_type": "code",
   "execution_count": 26,
   "id": "97ee6d16-09e4-4d3b-80e1-41cccfb7ba5b",
   "metadata": {},
   "outputs": [],
   "source": [
    "assert not df_plot.isna().any().any()"
   ]
  },
  {
   "cell_type": "code",
   "execution_count": 27,
   "id": "0f2182f1-7b78-443e-9b72-5bb83f23a89b",
   "metadata": {},
   "outputs": [],
   "source": [
    "df_plot = df_plot.rename(\n",
    "    columns={\n",
    "        \"pearson_higher\": \"Pearson (high)\",\n",
    "        \"pearson_lower\": \"Pearson (low)\",\n",
    "        \"spearman_higher\": \"Spearman (high)\",\n",
    "        \"spearman_lower\": \"Spearman (low)\",\n",
    "        \"clustermatch_higher\": \"Clustermatch (high)\",\n",
    "        \"clustermatch_lower\": \"Clustermatch (low)\",\n",
    "    }\n",
    ")"
   ]
  },
  {
   "cell_type": "code",
   "execution_count": 28,
   "id": "49db6735-8369-4c12-8a1a-c22c91cafcb2",
   "metadata": {},
   "outputs": [],
   "source": [
    "categories = sorted(\n",
    "    [x for x in df_plot.columns if \" (\" in x],\n",
    "    reverse=True,\n",
    "    key=lambda x: x.split(\" (\")[1] + \" (\" + x.split(\" (\")[0],\n",
    ")"
   ]
  },
  {
   "cell_type": "code",
   "execution_count": 29,
   "id": "b842b23d-11ea-444c-88c1-ec3cc3e1a58a",
   "metadata": {},
   "outputs": [
    {
     "data": {
      "text/plain": [
       "['Spearman (low)',\n",
       " 'Pearson (low)',\n",
       " 'Clustermatch (low)',\n",
       " 'Spearman (high)',\n",
       " 'Pearson (high)',\n",
       " 'Clustermatch (high)']"
      ]
     },
     "execution_count": 29,
     "metadata": {},
     "output_type": "execute_result"
    }
   ],
   "source": [
    "categories"
   ]
  },
  {
   "cell_type": "markdown",
   "id": "e0d69585-80a1-48cc-b7b9-3c63bb120b87",
   "metadata": {},
   "source": [
    "## All subsets (original full plot)"
   ]
  },
  {
   "cell_type": "code",
   "execution_count": 30,
   "id": "0ad38eb1-66cf-404a-880e-095718d6f26e",
   "metadata": {},
   "outputs": [],
   "source": [
    "df_r_data = df_plot"
   ]
  },
  {
   "cell_type": "code",
   "execution_count": 31,
   "id": "3c5147ec-e0e0-42c5-a6ad-f634ade88ed4",
   "metadata": {},
   "outputs": [
    {
     "data": {
      "text/plain": [
       "(12497500, 9)"
      ]
     },
     "execution_count": 31,
     "metadata": {},
     "output_type": "execute_result"
    }
   ],
   "source": [
    "df_r_data.shape"
   ]
  },
  {
   "cell_type": "code",
   "execution_count": 32,
   "id": "d1a63eb4-beeb-4747-922e-d852eeadf50f",
   "metadata": {},
   "outputs": [],
   "source": [
    "gene_pairs_by_cats = from_indicators(categories, data=df_r_data)"
   ]
  },
  {
   "cell_type": "code",
   "execution_count": 33,
   "id": "b60440f2-65d0-4e97-8db5-7f5f99a9beb0",
   "metadata": {},
   "outputs": [
    {
     "data": {
      "text/html": [
       "<div>\n",
       "<style scoped>\n",
       "    .dataframe tbody tr th:only-of-type {\n",
       "        vertical-align: middle;\n",
       "    }\n",
       "\n",
       "    .dataframe tbody tr th {\n",
       "        vertical-align: top;\n",
       "    }\n",
       "\n",
       "    .dataframe thead th {\n",
       "        text-align: right;\n",
       "    }\n",
       "</style>\n",
       "<table border=\"1\" class=\"dataframe\">\n",
       "  <thead>\n",
       "    <tr style=\"text-align: right;\">\n",
       "      <th></th>\n",
       "      <th></th>\n",
       "      <th></th>\n",
       "      <th></th>\n",
       "      <th></th>\n",
       "      <th></th>\n",
       "      <th>Pearson (high)</th>\n",
       "      <th>Pearson (low)</th>\n",
       "      <th>Spearman (high)</th>\n",
       "      <th>Spearman (low)</th>\n",
       "      <th>Clustermatch (high)</th>\n",
       "      <th>Clustermatch (low)</th>\n",
       "      <th>clustermatch</th>\n",
       "      <th>pearson</th>\n",
       "      <th>spearman</th>\n",
       "    </tr>\n",
       "    <tr>\n",
       "      <th>Spearman (low)</th>\n",
       "      <th>Pearson (low)</th>\n",
       "      <th>Clustermatch (low)</th>\n",
       "      <th>Spearman (high)</th>\n",
       "      <th>Pearson (high)</th>\n",
       "      <th>Clustermatch (high)</th>\n",
       "      <th></th>\n",
       "      <th></th>\n",
       "      <th></th>\n",
       "      <th></th>\n",
       "      <th></th>\n",
       "      <th></th>\n",
       "      <th></th>\n",
       "      <th></th>\n",
       "      <th></th>\n",
       "    </tr>\n",
       "  </thead>\n",
       "  <tbody>\n",
       "    <tr>\n",
       "      <th rowspan=\"11\" valign=\"top\">False</th>\n",
       "      <th rowspan=\"4\" valign=\"top\">False</th>\n",
       "      <th rowspan=\"4\" valign=\"top\">False</th>\n",
       "      <th>True</th>\n",
       "      <th>True</th>\n",
       "      <th>True</th>\n",
       "      <td>True</td>\n",
       "      <td>False</td>\n",
       "      <td>True</td>\n",
       "      <td>False</td>\n",
       "      <td>True</td>\n",
       "      <td>False</td>\n",
       "      <td>0.163960</td>\n",
       "      <td>0.130873</td>\n",
       "      <td>0.471673</td>\n",
       "    </tr>\n",
       "    <tr>\n",
       "      <th>False</th>\n",
       "      <th>True</th>\n",
       "      <th>False</th>\n",
       "      <td>True</td>\n",
       "      <td>False</td>\n",
       "      <td>False</td>\n",
       "      <td>False</td>\n",
       "      <td>False</td>\n",
       "      <td>False</td>\n",
       "      <td>0.083831</td>\n",
       "      <td>0.107588</td>\n",
       "      <td>0.178042</td>\n",
       "    </tr>\n",
       "    <tr>\n",
       "      <th rowspan=\"2\" valign=\"top\">True</th>\n",
       "      <th>False</th>\n",
       "      <th>True</th>\n",
       "      <td>False</td>\n",
       "      <td>False</td>\n",
       "      <td>True</td>\n",
       "      <td>False</td>\n",
       "      <td>True</td>\n",
       "      <td>False</td>\n",
       "      <td>0.274535</td>\n",
       "      <td>0.047559</td>\n",
       "      <td>0.494995</td>\n",
       "    </tr>\n",
       "    <tr>\n",
       "      <th>True</th>\n",
       "      <th>True</th>\n",
       "      <td>True</td>\n",
       "      <td>False</td>\n",
       "      <td>True</td>\n",
       "      <td>False</td>\n",
       "      <td>True</td>\n",
       "      <td>False</td>\n",
       "      <td>0.194099</td>\n",
       "      <td>0.226343</td>\n",
       "      <td>0.547457</td>\n",
       "    </tr>\n",
       "    <tr>\n",
       "      <th rowspan=\"5\" valign=\"top\">True</th>\n",
       "      <th rowspan=\"4\" valign=\"top\">False</th>\n",
       "      <th>False</th>\n",
       "      <th>False</th>\n",
       "      <th>False</th>\n",
       "      <td>False</td>\n",
       "      <td>True</td>\n",
       "      <td>False</td>\n",
       "      <td>False</td>\n",
       "      <td>False</td>\n",
       "      <td>False</td>\n",
       "      <td>0.067899</td>\n",
       "      <td>0.011981</td>\n",
       "      <td>0.204876</td>\n",
       "    </tr>\n",
       "    <tr>\n",
       "      <th>...</th>\n",
       "      <th>...</th>\n",
       "      <th>...</th>\n",
       "      <td>...</td>\n",
       "      <td>...</td>\n",
       "      <td>...</td>\n",
       "      <td>...</td>\n",
       "      <td>...</td>\n",
       "      <td>...</td>\n",
       "      <td>...</td>\n",
       "      <td>...</td>\n",
       "      <td>...</td>\n",
       "    </tr>\n",
       "    <tr>\n",
       "      <th rowspan=\"2\" valign=\"top\">True</th>\n",
       "      <th rowspan=\"2\" valign=\"top\">False</th>\n",
       "      <th>True</th>\n",
       "      <td>False</td>\n",
       "      <td>True</td>\n",
       "      <td>True</td>\n",
       "      <td>False</td>\n",
       "      <td>True</td>\n",
       "      <td>False</td>\n",
       "      <td>0.163422</td>\n",
       "      <td>0.014953</td>\n",
       "      <td>0.414759</td>\n",
       "    </tr>\n",
       "    <tr>\n",
       "      <th>True</th>\n",
       "      <td>False</td>\n",
       "      <td>True</td>\n",
       "      <td>True</td>\n",
       "      <td>False</td>\n",
       "      <td>True</td>\n",
       "      <td>False</td>\n",
       "      <td>0.215277</td>\n",
       "      <td>0.014696</td>\n",
       "      <td>0.462265</td>\n",
       "    </tr>\n",
       "    <tr>\n",
       "      <th>True</th>\n",
       "      <th>True</th>\n",
       "      <th>False</th>\n",
       "      <th>False</th>\n",
       "      <td>False</td>\n",
       "      <td>True</td>\n",
       "      <td>True</td>\n",
       "      <td>False</td>\n",
       "      <td>False</td>\n",
       "      <td>True</td>\n",
       "      <td>0.058451</td>\n",
       "      <td>0.012938</td>\n",
       "      <td>0.396307</td>\n",
       "    </tr>\n",
       "    <tr>\n",
       "      <th rowspan=\"2\" valign=\"top\">False</th>\n",
       "      <th>True</th>\n",
       "      <th>True</th>\n",
       "      <th>False</th>\n",
       "      <th>False</th>\n",
       "      <td>False</td>\n",
       "      <td>False</td>\n",
       "      <td>True</td>\n",
       "      <td>False</td>\n",
       "      <td>False</td>\n",
       "      <td>True</td>\n",
       "      <td>0.059039</td>\n",
       "      <td>0.017648</td>\n",
       "      <td>0.423558</td>\n",
       "    </tr>\n",
       "    <tr>\n",
       "      <th>False</th>\n",
       "      <th>False</th>\n",
       "      <th>True</th>\n",
       "      <th>False</th>\n",
       "      <td>True</td>\n",
       "      <td>False</td>\n",
       "      <td>False</td>\n",
       "      <td>False</td>\n",
       "      <td>False</td>\n",
       "      <td>False</td>\n",
       "      <td>0.112061</td>\n",
       "      <td>0.053365</td>\n",
       "      <td>0.358252</td>\n",
       "    </tr>\n",
       "  </tbody>\n",
       "</table>\n",
       "<p>12497500 rows × 9 columns</p>\n",
       "</div>"
      ],
      "text/plain": [
       "                                                                                                    Pearson (high)  \\\n",
       "Spearman (low) Pearson (low) Clustermatch (low) Spearman (high) Pearson (high) Clustermatch (high)                   \n",
       "False          False         False              True            True           True                           True   \n",
       "                                                False           True           False                          True   \n",
       "                                                True            False          True                          False   \n",
       "                                                                True           True                           True   \n",
       "               True          False              False           False          False                         False   \n",
       "...                                                                                                            ...   \n",
       "                                                True            False          True                          False   \n",
       "                                                                               True                          False   \n",
       "                             True               True            False          False                         False   \n",
       "               False         True               True            False          False                         False   \n",
       "                             False              False           True           False                          True   \n",
       "\n",
       "                                                                                                    Pearson (low)  \\\n",
       "Spearman (low) Pearson (low) Clustermatch (low) Spearman (high) Pearson (high) Clustermatch (high)                  \n",
       "False          False         False              True            True           True                         False   \n",
       "                                                False           True           False                        False   \n",
       "                                                True            False          True                         False   \n",
       "                                                                True           True                         False   \n",
       "               True          False              False           False          False                         True   \n",
       "...                                                                                                           ...   \n",
       "                                                True            False          True                          True   \n",
       "                                                                               True                          True   \n",
       "                             True               True            False          False                         True   \n",
       "               False         True               True            False          False                        False   \n",
       "                             False              False           True           False                        False   \n",
       "\n",
       "                                                                                                    Spearman (high)  \\\n",
       "Spearman (low) Pearson (low) Clustermatch (low) Spearman (high) Pearson (high) Clustermatch (high)                    \n",
       "False          False         False              True            True           True                            True   \n",
       "                                                False           True           False                          False   \n",
       "                                                True            False          True                            True   \n",
       "                                                                True           True                            True   \n",
       "               True          False              False           False          False                          False   \n",
       "...                                                                                                             ...   \n",
       "                                                True            False          True                            True   \n",
       "                                                                               True                            True   \n",
       "                             True               True            False          False                           True   \n",
       "               False         True               True            False          False                           True   \n",
       "                             False              False           True           False                          False   \n",
       "\n",
       "                                                                                                    Spearman (low)  \\\n",
       "Spearman (low) Pearson (low) Clustermatch (low) Spearman (high) Pearson (high) Clustermatch (high)                   \n",
       "False          False         False              True            True           True                          False   \n",
       "                                                False           True           False                         False   \n",
       "                                                True            False          True                          False   \n",
       "                                                                True           True                          False   \n",
       "               True          False              False           False          False                         False   \n",
       "...                                                                                                            ...   \n",
       "                                                True            False          True                          False   \n",
       "                                                                               True                          False   \n",
       "                             True               True            False          False                         False   \n",
       "               False         True               True            False          False                         False   \n",
       "                             False              False           True           False                         False   \n",
       "\n",
       "                                                                                                    Clustermatch (high)  \\\n",
       "Spearman (low) Pearson (low) Clustermatch (low) Spearman (high) Pearson (high) Clustermatch (high)                        \n",
       "False          False         False              True            True           True                                True   \n",
       "                                                False           True           False                              False   \n",
       "                                                True            False          True                                True   \n",
       "                                                                True           True                                True   \n",
       "               True          False              False           False          False                              False   \n",
       "...                                                                                                                 ...   \n",
       "                                                True            False          True                                True   \n",
       "                                                                               True                                True   \n",
       "                             True               True            False          False                              False   \n",
       "               False         True               True            False          False                              False   \n",
       "                             False              False           True           False                              False   \n",
       "\n",
       "                                                                                                    Clustermatch (low)  \\\n",
       "Spearman (low) Pearson (low) Clustermatch (low) Spearman (high) Pearson (high) Clustermatch (high)                       \n",
       "False          False         False              True            True           True                              False   \n",
       "                                                False           True           False                             False   \n",
       "                                                True            False          True                              False   \n",
       "                                                                True           True                              False   \n",
       "               True          False              False           False          False                             False   \n",
       "...                                                                                                                ...   \n",
       "                                                True            False          True                              False   \n",
       "                                                                               True                              False   \n",
       "                             True               True            False          False                              True   \n",
       "               False         True               True            False          False                              True   \n",
       "                             False              False           True           False                             False   \n",
       "\n",
       "                                                                                                    clustermatch  \\\n",
       "Spearman (low) Pearson (low) Clustermatch (low) Spearman (high) Pearson (high) Clustermatch (high)                 \n",
       "False          False         False              True            True           True                     0.163960   \n",
       "                                                False           True           False                    0.083831   \n",
       "                                                True            False          True                     0.274535   \n",
       "                                                                True           True                     0.194099   \n",
       "               True          False              False           False          False                    0.067899   \n",
       "...                                                                                                          ...   \n",
       "                                                True            False          True                     0.163422   \n",
       "                                                                               True                     0.215277   \n",
       "                             True               True            False          False                    0.058451   \n",
       "               False         True               True            False          False                    0.059039   \n",
       "                             False              False           True           False                    0.112061   \n",
       "\n",
       "                                                                                                     pearson  \\\n",
       "Spearman (low) Pearson (low) Clustermatch (low) Spearman (high) Pearson (high) Clustermatch (high)             \n",
       "False          False         False              True            True           True                 0.130873   \n",
       "                                                False           True           False                0.107588   \n",
       "                                                True            False          True                 0.047559   \n",
       "                                                                True           True                 0.226343   \n",
       "               True          False              False           False          False                0.011981   \n",
       "...                                                                                                      ...   \n",
       "                                                True            False          True                 0.014953   \n",
       "                                                                               True                 0.014696   \n",
       "                             True               True            False          False                0.012938   \n",
       "               False         True               True            False          False                0.017648   \n",
       "                             False              False           True           False                0.053365   \n",
       "\n",
       "                                                                                                    spearman  \n",
       "Spearman (low) Pearson (low) Clustermatch (low) Spearman (high) Pearson (high) Clustermatch (high)            \n",
       "False          False         False              True            True           True                 0.471673  \n",
       "                                                False           True           False                0.178042  \n",
       "                                                True            False          True                 0.494995  \n",
       "                                                                True           True                 0.547457  \n",
       "               True          False              False           False          False                0.204876  \n",
       "...                                                                                                      ...  \n",
       "                                                True            False          True                 0.414759  \n",
       "                                                                               True                 0.462265  \n",
       "                             True               True            False          False                0.396307  \n",
       "               False         True               True            False          False                0.423558  \n",
       "                             False              False           True           False                0.358252  \n",
       "\n",
       "[12497500 rows x 9 columns]"
      ]
     },
     "execution_count": 33,
     "metadata": {},
     "output_type": "execute_result"
    }
   ],
   "source": [
    "gene_pairs_by_cats"
   ]
  },
  {
   "cell_type": "code",
   "execution_count": 34,
   "id": "953e9835-d94f-4e97-855d-2af93f41fd1f",
   "metadata": {},
   "outputs": [
    {
     "data": {
      "image/png": "[encoded data removed]",
      "text/plain": [
       "<Figure size 1296x360 with 4 Axes>"
      ]
     },
     "metadata": {
      "needs_background": "light"
     },
     "output_type": "display_data"
    }
   ],
   "source": [
    "fig = plt.figure(figsize=(18, 5))\n",
    "\n",
    "g = plot(\n",
    "    gene_pairs_by_cats,\n",
    "    show_counts=True,\n",
    "    sort_categories_by=None,\n",
    "    element_size=None,\n",
    "    fig=fig,\n",
    ")"
   ]
  },
  {
   "cell_type": "markdown",
   "id": "bcba1e8c-eb11-43be-9e8d-3b3e511bc5c0",
   "metadata": {},
   "source": [
    "## Sort by categories of subsets"
   ]
  },
  {
   "cell_type": "code",
   "execution_count": 35,
   "id": "6b7a5b4c-fcee-4a2f-ab87-d3ae46ba3ea6",
   "metadata": {},
   "outputs": [],
   "source": [
    "df_r_data = df_plot"
   ]
  },
  {
   "cell_type": "code",
   "execution_count": 36,
   "id": "242ff72e-3ec8-41ec-a11a-7b2e80217399",
   "metadata": {},
   "outputs": [
    {
     "data": {
      "text/plain": [
       "(12497500, 9)"
      ]
     },
     "execution_count": 36,
     "metadata": {},
     "output_type": "execute_result"
    }
   ],
   "source": [
    "df_r_data.shape"
   ]
  },
  {
   "cell_type": "code",
   "execution_count": 37,
   "id": "95fa3efe-10d6-401d-8038-92b5c7c4a503",
   "metadata": {},
   "outputs": [],
   "source": [
    "gene_pairs_by_cats = from_indicators(categories, data=df_r_data)"
   ]
  },
  {
   "cell_type": "code",
   "execution_count": 38,
   "id": "526dbc50-67d5-4721-aa5c-dd2c62f74c8d",
   "metadata": {},
   "outputs": [
    {
     "data": {
      "text/html": [
       "<div>\n",
       "<style scoped>\n",
       "    .dataframe tbody tr th:only-of-type {\n",
       "        vertical-align: middle;\n",
       "    }\n",
       "\n",
       "    .dataframe tbody tr th {\n",
       "        vertical-align: top;\n",
       "    }\n",
       "\n",
       "    .dataframe thead th {\n",
       "        text-align: right;\n",
       "    }\n",
       "</style>\n",
       "<table border=\"1\" class=\"dataframe\">\n",
       "  <thead>\n",
       "    <tr style=\"text-align: right;\">\n",
       "      <th></th>\n",
       "      <th></th>\n",
       "      <th></th>\n",
       "      <th></th>\n",
       "      <th></th>\n",
       "      <th></th>\n",
       "      <th>Pearson (high)</th>\n",
       "      <th>Pearson (low)</th>\n",
       "      <th>Spearman (high)</th>\n",
       "      <th>Spearman (low)</th>\n",
       "      <th>Clustermatch (high)</th>\n",
       "      <th>Clustermatch (low)</th>\n",
       "      <th>clustermatch</th>\n",
       "      <th>pearson</th>\n",
       "      <th>spearman</th>\n",
       "    </tr>\n",
       "    <tr>\n",
       "      <th>Spearman (low)</th>\n",
       "      <th>Pearson (low)</th>\n",
       "      <th>Clustermatch (low)</th>\n",
       "      <th>Spearman (high)</th>\n",
       "      <th>Pearson (high)</th>\n",
       "      <th>Clustermatch (high)</th>\n",
       "      <th></th>\n",
       "      <th></th>\n",
       "      <th></th>\n",
       "      <th></th>\n",
       "      <th></th>\n",
       "      <th></th>\n",
       "      <th></th>\n",
       "      <th></th>\n",
       "      <th></th>\n",
       "    </tr>\n",
       "  </thead>\n",
       "  <tbody>\n",
       "    <tr>\n",
       "      <th rowspan=\"11\" valign=\"top\">False</th>\n",
       "      <th rowspan=\"4\" valign=\"top\">False</th>\n",
       "      <th rowspan=\"4\" valign=\"top\">False</th>\n",
       "      <th>True</th>\n",
       "      <th>True</th>\n",
       "      <th>True</th>\n",
       "      <td>True</td>\n",
       "      <td>False</td>\n",
       "      <td>True</td>\n",
       "      <td>False</td>\n",
       "      <td>True</td>\n",
       "      <td>False</td>\n",
       "      <td>0.163960</td>\n",
       "      <td>0.130873</td>\n",
       "      <td>0.471673</td>\n",
       "    </tr>\n",
       "    <tr>\n",
       "      <th>False</th>\n",
       "      <th>True</th>\n",
       "      <th>False</th>\n",
       "      <td>True</td>\n",
       "      <td>False</td>\n",
       "      <td>False</td>\n",
       "      <td>False</td>\n",
       "      <td>False</td>\n",
       "      <td>False</td>\n",
       "      <td>0.083831</td>\n",
       "      <td>0.107588</td>\n",
       "      <td>0.178042</td>\n",
       "    </tr>\n",
       "    <tr>\n",
       "      <th rowspan=\"2\" valign=\"top\">True</th>\n",
       "      <th>False</th>\n",
       "      <th>True</th>\n",
       "      <td>False</td>\n",
       "      <td>False</td>\n",
       "      <td>True</td>\n",
       "      <td>False</td>\n",
       "      <td>True</td>\n",
       "      <td>False</td>\n",
       "      <td>0.274535</td>\n",
       "      <td>0.047559</td>\n",
       "      <td>0.494995</td>\n",
       "    </tr>\n",
       "    <tr>\n",
       "      <th>True</th>\n",
       "      <th>True</th>\n",
       "      <td>True</td>\n",
       "      <td>False</td>\n",
       "      <td>True</td>\n",
       "      <td>False</td>\n",
       "      <td>True</td>\n",
       "      <td>False</td>\n",
       "      <td>0.194099</td>\n",
       "      <td>0.226343</td>\n",
       "      <td>0.547457</td>\n",
       "    </tr>\n",
       "    <tr>\n",
       "      <th rowspan=\"5\" valign=\"top\">True</th>\n",
       "      <th rowspan=\"4\" valign=\"top\">False</th>\n",
       "      <th>False</th>\n",
       "      <th>False</th>\n",
       "      <th>False</th>\n",
       "      <td>False</td>\n",
       "      <td>True</td>\n",
       "      <td>False</td>\n",
       "      <td>False</td>\n",
       "      <td>False</td>\n",
       "      <td>False</td>\n",
       "      <td>0.067899</td>\n",
       "      <td>0.011981</td>\n",
       "      <td>0.204876</td>\n",
       "    </tr>\n",
       "    <tr>\n",
       "      <th>...</th>\n",
       "      <th>...</th>\n",
       "      <th>...</th>\n",
       "      <td>...</td>\n",
       "      <td>...</td>\n",
       "      <td>...</td>\n",
       "      <td>...</td>\n",
       "      <td>...</td>\n",
       "      <td>...</td>\n",
       "      <td>...</td>\n",
       "      <td>...</td>\n",
       "      <td>...</td>\n",
       "    </tr>\n",
       "    <tr>\n",
       "      <th rowspan=\"2\" valign=\"top\">True</th>\n",
       "      <th rowspan=\"2\" valign=\"top\">False</th>\n",
       "      <th>True</th>\n",
       "      <td>False</td>\n",
       "      <td>True</td>\n",
       "      <td>True</td>\n",
       "      <td>False</td>\n",
       "      <td>True</td>\n",
       "      <td>False</td>\n",
       "      <td>0.163422</td>\n",
       "      <td>0.014953</td>\n",
       "      <td>0.414759</td>\n",
       "    </tr>\n",
       "    <tr>\n",
       "      <th>True</th>\n",
       "      <td>False</td>\n",
       "      <td>True</td>\n",
       "      <td>True</td>\n",
       "      <td>False</td>\n",
       "      <td>True</td>\n",
       "      <td>False</td>\n",
       "      <td>0.215277</td>\n",
       "      <td>0.014696</td>\n",
       "      <td>0.462265</td>\n",
       "    </tr>\n",
       "    <tr>\n",
       "      <th>True</th>\n",
       "      <th>True</th>\n",
       "      <th>False</th>\n",
       "      <th>False</th>\n",
       "      <td>False</td>\n",
       "      <td>True</td>\n",
       "      <td>True</td>\n",
       "      <td>False</td>\n",
       "      <td>False</td>\n",
       "      <td>True</td>\n",
       "      <td>0.058451</td>\n",
       "      <td>0.012938</td>\n",
       "      <td>0.396307</td>\n",
       "    </tr>\n",
       "    <tr>\n",
       "      <th rowspan=\"2\" valign=\"top\">False</th>\n",
       "      <th>True</th>\n",
       "      <th>True</th>\n",
       "      <th>False</th>\n",
       "      <th>False</th>\n",
       "      <td>False</td>\n",
       "      <td>False</td>\n",
       "      <td>True</td>\n",
       "      <td>False</td>\n",
       "      <td>False</td>\n",
       "      <td>True</td>\n",
       "      <td>0.059039</td>\n",
       "      <td>0.017648</td>\n",
       "      <td>0.423558</td>\n",
       "    </tr>\n",
       "    <tr>\n",
       "      <th>False</th>\n",
       "      <th>False</th>\n",
       "      <th>True</th>\n",
       "      <th>False</th>\n",
       "      <td>True</td>\n",
       "      <td>False</td>\n",
       "      <td>False</td>\n",
       "      <td>False</td>\n",
       "      <td>False</td>\n",
       "      <td>False</td>\n",
       "      <td>0.112061</td>\n",
       "      <td>0.053365</td>\n",
       "      <td>0.358252</td>\n",
       "    </tr>\n",
       "  </tbody>\n",
       "</table>\n",
       "<p>12497500 rows × 9 columns</p>\n",
       "</div>"
      ],
      "text/plain": [
       "                                                                                                    Pearson (high)  \\\n",
       "Spearman (low) Pearson (low) Clustermatch (low) Spearman (high) Pearson (high) Clustermatch (high)                   \n",
       "False          False         False              True            True           True                           True   \n",
       "                                                False           True           False                          True   \n",
       "                                                True            False          True                          False   \n",
       "                                                                True           True                           True   \n",
       "               True          False              False           False          False                         False   \n",
       "...                                                                                                            ...   \n",
       "                                                True            False          True                          False   \n",
       "                                                                               True                          False   \n",
       "                             True               True            False          False                         False   \n",
       "               False         True               True            False          False                         False   \n",
       "                             False              False           True           False                          True   \n",
       "\n",
       "                                                                                                    Pearson (low)  \\\n",
       "Spearman (low) Pearson (low) Clustermatch (low) Spearman (high) Pearson (high) Clustermatch (high)                  \n",
       "False          False         False              True            True           True                         False   \n",
       "                                                False           True           False                        False   \n",
       "                                                True            False          True                         False   \n",
       "                                                                True           True                         False   \n",
       "               True          False              False           False          False                         True   \n",
       "...                                                                                                           ...   \n",
       "                                                True            False          True                          True   \n",
       "                                                                               True                          True   \n",
       "                             True               True            False          False                         True   \n",
       "               False         True               True            False          False                        False   \n",
       "                             False              False           True           False                        False   \n",
       "\n",
       "                                                                                                    Spearman (high)  \\\n",
       "Spearman (low) Pearson (low) Clustermatch (low) Spearman (high) Pearson (high) Clustermatch (high)                    \n",
       "False          False         False              True            True           True                            True   \n",
       "                                                False           True           False                          False   \n",
       "                                                True            False          True                            True   \n",
       "                                                                True           True                            True   \n",
       "               True          False              False           False          False                          False   \n",
       "...                                                                                                             ...   \n",
       "                                                True            False          True                            True   \n",
       "                                                                               True                            True   \n",
       "                             True               True            False          False                           True   \n",
       "               False         True               True            False          False                           True   \n",
       "                             False              False           True           False                          False   \n",
       "\n",
       "                                                                                                    Spearman (low)  \\\n",
       "Spearman (low) Pearson (low) Clustermatch (low) Spearman (high) Pearson (high) Clustermatch (high)                   \n",
       "False          False         False              True            True           True                          False   \n",
       "                                                False           True           False                         False   \n",
       "                                                True            False          True                          False   \n",
       "                                                                True           True                          False   \n",
       "               True          False              False           False          False                         False   \n",
       "...                                                                                                            ...   \n",
       "                                                True            False          True                          False   \n",
       "                                                                               True                          False   \n",
       "                             True               True            False          False                         False   \n",
       "               False         True               True            False          False                         False   \n",
       "                             False              False           True           False                         False   \n",
       "\n",
       "                                                                                                    Clustermatch (high)  \\\n",
       "Spearman (low) Pearson (low) Clustermatch (low) Spearman (high) Pearson (high) Clustermatch (high)                        \n",
       "False          False         False              True            True           True                                True   \n",
       "                                                False           True           False                              False   \n",
       "                                                True            False          True                                True   \n",
       "                                                                True           True                                True   \n",
       "               True          False              False           False          False                              False   \n",
       "...                                                                                                                 ...   \n",
       "                                                True            False          True                                True   \n",
       "                                                                               True                                True   \n",
       "                             True               True            False          False                              False   \n",
       "               False         True               True            False          False                              False   \n",
       "                             False              False           True           False                              False   \n",
       "\n",
       "                                                                                                    Clustermatch (low)  \\\n",
       "Spearman (low) Pearson (low) Clustermatch (low) Spearman (high) Pearson (high) Clustermatch (high)                       \n",
       "False          False         False              True            True           True                              False   \n",
       "                                                False           True           False                             False   \n",
       "                                                True            False          True                              False   \n",
       "                                                                True           True                              False   \n",
       "               True          False              False           False          False                             False   \n",
       "...                                                                                                                ...   \n",
       "                                                True            False          True                              False   \n",
       "                                                                               True                              False   \n",
       "                             True               True            False          False                              True   \n",
       "               False         True               True            False          False                              True   \n",
       "                             False              False           True           False                             False   \n",
       "\n",
       "                                                                                                    clustermatch  \\\n",
       "Spearman (low) Pearson (low) Clustermatch (low) Spearman (high) Pearson (high) Clustermatch (high)                 \n",
       "False          False         False              True            True           True                     0.163960   \n",
       "                                                False           True           False                    0.083831   \n",
       "                                                True            False          True                     0.274535   \n",
       "                                                                True           True                     0.194099   \n",
       "               True          False              False           False          False                    0.067899   \n",
       "...                                                                                                          ...   \n",
       "                                                True            False          True                     0.163422   \n",
       "                                                                               True                     0.215277   \n",
       "                             True               True            False          False                    0.058451   \n",
       "               False         True               True            False          False                    0.059039   \n",
       "                             False              False           True           False                    0.112061   \n",
       "\n",
       "                                                                                                     pearson  \\\n",
       "Spearman (low) Pearson (low) Clustermatch (low) Spearman (high) Pearson (high) Clustermatch (high)             \n",
       "False          False         False              True            True           True                 0.130873   \n",
       "                                                False           True           False                0.107588   \n",
       "                                                True            False          True                 0.047559   \n",
       "                                                                True           True                 0.226343   \n",
       "               True          False              False           False          False                0.011981   \n",
       "...                                                                                                      ...   \n",
       "                                                True            False          True                 0.014953   \n",
       "                                                                               True                 0.014696   \n",
       "                             True               True            False          False                0.012938   \n",
       "               False         True               True            False          False                0.017648   \n",
       "                             False              False           True           False                0.053365   \n",
       "\n",
       "                                                                                                    spearman  \n",
       "Spearman (low) Pearson (low) Clustermatch (low) Spearman (high) Pearson (high) Clustermatch (high)            \n",
       "False          False         False              True            True           True                 0.471673  \n",
       "                                                False           True           False                0.178042  \n",
       "                                                True            False          True                 0.494995  \n",
       "                                                                True           True                 0.547457  \n",
       "               True          False              False           False          False                0.204876  \n",
       "...                                                                                                      ...  \n",
       "                                                True            False          True                 0.414759  \n",
       "                                                                               True                 0.462265  \n",
       "                             True               True            False          False                0.396307  \n",
       "               False         True               True            False          False                0.423558  \n",
       "                             False              False           True           False                0.358252  \n",
       "\n",
       "[12497500 rows x 9 columns]"
      ]
     },
     "execution_count": 38,
     "metadata": {},
     "output_type": "execute_result"
    }
   ],
   "source": [
    "gene_pairs_by_cats"
   ]
  },
  {
   "cell_type": "code",
   "execution_count": 39,
   "id": "340b9a40-ec90-4388-ab1c-0a8bcc2bb0b1",
   "metadata": {},
   "outputs": [],
   "source": [
    "gene_pairs_by_cats = gene_pairs_by_cats.sort_index()"
   ]
  },
  {
   "cell_type": "code",
   "execution_count": 40,
   "id": "6c583d89-4140-4cb6-aee8-18a1bd0427d1",
   "metadata": {},
   "outputs": [
    {
     "data": {
      "text/html": [
       "<div>\n",
       "<style scoped>\n",
       "    .dataframe tbody tr th:only-of-type {\n",
       "        vertical-align: middle;\n",
       "    }\n",
       "\n",
       "    .dataframe tbody tr th {\n",
       "        vertical-align: top;\n",
       "    }\n",
       "\n",
       "    .dataframe thead th {\n",
       "        text-align: right;\n",
       "    }\n",
       "</style>\n",
       "<table border=\"1\" class=\"dataframe\">\n",
       "  <thead>\n",
       "    <tr style=\"text-align: right;\">\n",
       "      <th></th>\n",
       "      <th>Spearman (low)</th>\n",
       "      <th>Pearson (low)</th>\n",
       "      <th>Clustermatch (low)</th>\n",
       "      <th>Spearman (high)</th>\n",
       "      <th>Pearson (high)</th>\n",
       "      <th>Clustermatch (high)</th>\n",
       "    </tr>\n",
       "  </thead>\n",
       "  <tbody>\n",
       "    <tr>\n",
       "      <th>0</th>\n",
       "      <td>False</td>\n",
       "      <td>False</td>\n",
       "      <td>False</td>\n",
       "      <td>False</td>\n",
       "      <td>False</td>\n",
       "      <td>False</td>\n",
       "    </tr>\n",
       "    <tr>\n",
       "      <th>1</th>\n",
       "      <td>False</td>\n",
       "      <td>False</td>\n",
       "      <td>False</td>\n",
       "      <td>False</td>\n",
       "      <td>False</td>\n",
       "      <td>True</td>\n",
       "    </tr>\n",
       "    <tr>\n",
       "      <th>2</th>\n",
       "      <td>False</td>\n",
       "      <td>False</td>\n",
       "      <td>False</td>\n",
       "      <td>False</td>\n",
       "      <td>True</td>\n",
       "      <td>False</td>\n",
       "    </tr>\n",
       "    <tr>\n",
       "      <th>3</th>\n",
       "      <td>False</td>\n",
       "      <td>False</td>\n",
       "      <td>False</td>\n",
       "      <td>False</td>\n",
       "      <td>True</td>\n",
       "      <td>True</td>\n",
       "    </tr>\n",
       "    <tr>\n",
       "      <th>4</th>\n",
       "      <td>False</td>\n",
       "      <td>False</td>\n",
       "      <td>False</td>\n",
       "      <td>True</td>\n",
       "      <td>False</td>\n",
       "      <td>False</td>\n",
       "    </tr>\n",
       "    <tr>\n",
       "      <th>5</th>\n",
       "      <td>False</td>\n",
       "      <td>False</td>\n",
       "      <td>False</td>\n",
       "      <td>True</td>\n",
       "      <td>False</td>\n",
       "      <td>True</td>\n",
       "    </tr>\n",
       "    <tr>\n",
       "      <th>6</th>\n",
       "      <td>False</td>\n",
       "      <td>False</td>\n",
       "      <td>False</td>\n",
       "      <td>True</td>\n",
       "      <td>True</td>\n",
       "      <td>False</td>\n",
       "    </tr>\n",
       "    <tr>\n",
       "      <th>7</th>\n",
       "      <td>False</td>\n",
       "      <td>False</td>\n",
       "      <td>False</td>\n",
       "      <td>True</td>\n",
       "      <td>True</td>\n",
       "      <td>True</td>\n",
       "    </tr>\n",
       "    <tr>\n",
       "      <th>8</th>\n",
       "      <td>False</td>\n",
       "      <td>False</td>\n",
       "      <td>True</td>\n",
       "      <td>False</td>\n",
       "      <td>False</td>\n",
       "      <td>False</td>\n",
       "    </tr>\n",
       "    <tr>\n",
       "      <th>9</th>\n",
       "      <td>False</td>\n",
       "      <td>False</td>\n",
       "      <td>True</td>\n",
       "      <td>False</td>\n",
       "      <td>True</td>\n",
       "      <td>False</td>\n",
       "    </tr>\n",
       "    <tr>\n",
       "      <th>10</th>\n",
       "      <td>False</td>\n",
       "      <td>False</td>\n",
       "      <td>True</td>\n",
       "      <td>True</td>\n",
       "      <td>False</td>\n",
       "      <td>False</td>\n",
       "    </tr>\n",
       "    <tr>\n",
       "      <th>11</th>\n",
       "      <td>False</td>\n",
       "      <td>False</td>\n",
       "      <td>True</td>\n",
       "      <td>True</td>\n",
       "      <td>True</td>\n",
       "      <td>False</td>\n",
       "    </tr>\n",
       "    <tr>\n",
       "      <th>12</th>\n",
       "      <td>False</td>\n",
       "      <td>True</td>\n",
       "      <td>False</td>\n",
       "      <td>False</td>\n",
       "      <td>False</td>\n",
       "      <td>False</td>\n",
       "    </tr>\n",
       "    <tr>\n",
       "      <th>13</th>\n",
       "      <td>False</td>\n",
       "      <td>True</td>\n",
       "      <td>False</td>\n",
       "      <td>False</td>\n",
       "      <td>False</td>\n",
       "      <td>True</td>\n",
       "    </tr>\n",
       "    <tr>\n",
       "      <th>14</th>\n",
       "      <td>False</td>\n",
       "      <td>True</td>\n",
       "      <td>False</td>\n",
       "      <td>True</td>\n",
       "      <td>False</td>\n",
       "      <td>False</td>\n",
       "    </tr>\n",
       "    <tr>\n",
       "      <th>15</th>\n",
       "      <td>False</td>\n",
       "      <td>True</td>\n",
       "      <td>False</td>\n",
       "      <td>True</td>\n",
       "      <td>False</td>\n",
       "      <td>True</td>\n",
       "    </tr>\n",
       "    <tr>\n",
       "      <th>16</th>\n",
       "      <td>False</td>\n",
       "      <td>True</td>\n",
       "      <td>True</td>\n",
       "      <td>False</td>\n",
       "      <td>False</td>\n",
       "      <td>False</td>\n",
       "    </tr>\n",
       "    <tr>\n",
       "      <th>17</th>\n",
       "      <td>False</td>\n",
       "      <td>True</td>\n",
       "      <td>True</td>\n",
       "      <td>True</td>\n",
       "      <td>False</td>\n",
       "      <td>False</td>\n",
       "    </tr>\n",
       "    <tr>\n",
       "      <th>18</th>\n",
       "      <td>True</td>\n",
       "      <td>False</td>\n",
       "      <td>False</td>\n",
       "      <td>False</td>\n",
       "      <td>False</td>\n",
       "      <td>False</td>\n",
       "    </tr>\n",
       "    <tr>\n",
       "      <th>19</th>\n",
       "      <td>True</td>\n",
       "      <td>False</td>\n",
       "      <td>False</td>\n",
       "      <td>False</td>\n",
       "      <td>False</td>\n",
       "      <td>True</td>\n",
       "    </tr>\n",
       "    <tr>\n",
       "      <th>20</th>\n",
       "      <td>True</td>\n",
       "      <td>False</td>\n",
       "      <td>False</td>\n",
       "      <td>False</td>\n",
       "      <td>True</td>\n",
       "      <td>False</td>\n",
       "    </tr>\n",
       "    <tr>\n",
       "      <th>21</th>\n",
       "      <td>True</td>\n",
       "      <td>False</td>\n",
       "      <td>False</td>\n",
       "      <td>False</td>\n",
       "      <td>True</td>\n",
       "      <td>True</td>\n",
       "    </tr>\n",
       "    <tr>\n",
       "      <th>22</th>\n",
       "      <td>True</td>\n",
       "      <td>False</td>\n",
       "      <td>True</td>\n",
       "      <td>False</td>\n",
       "      <td>False</td>\n",
       "      <td>False</td>\n",
       "    </tr>\n",
       "    <tr>\n",
       "      <th>23</th>\n",
       "      <td>True</td>\n",
       "      <td>False</td>\n",
       "      <td>True</td>\n",
       "      <td>False</td>\n",
       "      <td>True</td>\n",
       "      <td>False</td>\n",
       "    </tr>\n",
       "    <tr>\n",
       "      <th>24</th>\n",
       "      <td>True</td>\n",
       "      <td>True</td>\n",
       "      <td>False</td>\n",
       "      <td>False</td>\n",
       "      <td>False</td>\n",
       "      <td>False</td>\n",
       "    </tr>\n",
       "    <tr>\n",
       "      <th>25</th>\n",
       "      <td>True</td>\n",
       "      <td>True</td>\n",
       "      <td>False</td>\n",
       "      <td>False</td>\n",
       "      <td>False</td>\n",
       "      <td>True</td>\n",
       "    </tr>\n",
       "    <tr>\n",
       "      <th>26</th>\n",
       "      <td>True</td>\n",
       "      <td>True</td>\n",
       "      <td>True</td>\n",
       "      <td>False</td>\n",
       "      <td>False</td>\n",
       "      <td>False</td>\n",
       "    </tr>\n",
       "  </tbody>\n",
       "</table>\n",
       "</div>"
      ],
      "text/plain": [
       "   Spearman (low) Pearson (low) Clustermatch (low) Spearman (high)  \\\n",
       "0           False         False              False           False   \n",
       "1           False         False              False           False   \n",
       "2           False         False              False           False   \n",
       "3           False         False              False           False   \n",
       "4           False         False              False            True   \n",
       "5           False         False              False            True   \n",
       "6           False         False              False            True   \n",
       "7           False         False              False            True   \n",
       "8           False         False               True           False   \n",
       "9           False         False               True           False   \n",
       "10          False         False               True            True   \n",
       "11          False         False               True            True   \n",
       "12          False          True              False           False   \n",
       "13          False          True              False           False   \n",
       "14          False          True              False            True   \n",
       "15          False          True              False            True   \n",
       "16          False          True               True           False   \n",
       "17          False          True               True            True   \n",
       "18           True         False              False           False   \n",
       "19           True         False              False           False   \n",
       "20           True         False              False           False   \n",
       "21           True         False              False           False   \n",
       "22           True         False               True           False   \n",
       "23           True         False               True           False   \n",
       "24           True          True              False           False   \n",
       "25           True          True              False           False   \n",
       "26           True          True               True           False   \n",
       "\n",
       "   Pearson (high) Clustermatch (high)  \n",
       "0           False               False  \n",
       "1           False                True  \n",
       "2            True               False  \n",
       "3            True                True  \n",
       "4           False               False  \n",
       "5           False                True  \n",
       "6            True               False  \n",
       "7            True                True  \n",
       "8           False               False  \n",
       "9            True               False  \n",
       "10          False               False  \n",
       "11           True               False  \n",
       "12          False               False  \n",
       "13          False                True  \n",
       "14          False               False  \n",
       "15          False                True  \n",
       "16          False               False  \n",
       "17          False               False  \n",
       "18          False               False  \n",
       "19          False                True  \n",
       "20           True               False  \n",
       "21           True                True  \n",
       "22          False               False  \n",
       "23           True               False  \n",
       "24          False               False  \n",
       "25          False                True  \n",
       "26          False               False  "
      ]
     },
     "metadata": {},
     "output_type": "display_data"
    }
   ],
   "source": [
    "_tmp_index = gene_pairs_by_cats.index.unique().to_frame(False)\n",
    "display(_tmp_index)"
   ]
  },
  {
   "cell_type": "code",
   "execution_count": 41,
   "id": "137afe3a-2936-4270-a14c-00d9ac542b50",
   "metadata": {},
   "outputs": [
    {
     "data": {
      "text/html": [
       "<div>\n",
       "<style scoped>\n",
       "    .dataframe tbody tr th:only-of-type {\n",
       "        vertical-align: middle;\n",
       "    }\n",
       "\n",
       "    .dataframe tbody tr th {\n",
       "        vertical-align: top;\n",
       "    }\n",
       "\n",
       "    .dataframe thead th {\n",
       "        text-align: right;\n",
       "    }\n",
       "</style>\n",
       "<table border=\"1\" class=\"dataframe\">\n",
       "  <thead>\n",
       "    <tr style=\"text-align: right;\">\n",
       "      <th></th>\n",
       "      <th>Spearman (low)</th>\n",
       "      <th>Pearson (low)</th>\n",
       "      <th>Clustermatch (low)</th>\n",
       "      <th>Spearman (high)</th>\n",
       "      <th>Pearson (high)</th>\n",
       "      <th>Clustermatch (high)</th>\n",
       "    </tr>\n",
       "  </thead>\n",
       "  <tbody>\n",
       "    <tr>\n",
       "      <th>7</th>\n",
       "      <td>False</td>\n",
       "      <td>False</td>\n",
       "      <td>False</td>\n",
       "      <td>True</td>\n",
       "      <td>True</td>\n",
       "      <td>True</td>\n",
       "    </tr>\n",
       "    <tr>\n",
       "      <th>11</th>\n",
       "      <td>False</td>\n",
       "      <td>False</td>\n",
       "      <td>True</td>\n",
       "      <td>True</td>\n",
       "      <td>True</td>\n",
       "      <td>False</td>\n",
       "    </tr>\n",
       "    <tr>\n",
       "      <th>15</th>\n",
       "      <td>False</td>\n",
       "      <td>True</td>\n",
       "      <td>False</td>\n",
       "      <td>True</td>\n",
       "      <td>False</td>\n",
       "      <td>True</td>\n",
       "    </tr>\n",
       "    <tr>\n",
       "      <th>17</th>\n",
       "      <td>False</td>\n",
       "      <td>True</td>\n",
       "      <td>True</td>\n",
       "      <td>True</td>\n",
       "      <td>False</td>\n",
       "      <td>False</td>\n",
       "    </tr>\n",
       "    <tr>\n",
       "      <th>21</th>\n",
       "      <td>True</td>\n",
       "      <td>False</td>\n",
       "      <td>False</td>\n",
       "      <td>False</td>\n",
       "      <td>True</td>\n",
       "      <td>True</td>\n",
       "    </tr>\n",
       "    <tr>\n",
       "      <th>23</th>\n",
       "      <td>True</td>\n",
       "      <td>False</td>\n",
       "      <td>True</td>\n",
       "      <td>False</td>\n",
       "      <td>True</td>\n",
       "      <td>False</td>\n",
       "    </tr>\n",
       "    <tr>\n",
       "      <th>25</th>\n",
       "      <td>True</td>\n",
       "      <td>True</td>\n",
       "      <td>False</td>\n",
       "      <td>False</td>\n",
       "      <td>False</td>\n",
       "      <td>True</td>\n",
       "    </tr>\n",
       "    <tr>\n",
       "      <th>26</th>\n",
       "      <td>True</td>\n",
       "      <td>True</td>\n",
       "      <td>True</td>\n",
       "      <td>False</td>\n",
       "      <td>False</td>\n",
       "      <td>False</td>\n",
       "    </tr>\n",
       "  </tbody>\n",
       "</table>\n",
       "</div>"
      ],
      "text/plain": [
       "   Spearman (low) Pearson (low) Clustermatch (low) Spearman (high)  \\\n",
       "7           False         False              False            True   \n",
       "11          False         False               True            True   \n",
       "15          False          True              False            True   \n",
       "17          False          True               True            True   \n",
       "21           True         False              False           False   \n",
       "23           True         False               True           False   \n",
       "25           True          True              False           False   \n",
       "26           True          True               True           False   \n",
       "\n",
       "   Pearson (high) Clustermatch (high)  \n",
       "7            True                True  \n",
       "11           True               False  \n",
       "15          False                True  \n",
       "17          False               False  \n",
       "21           True                True  \n",
       "23           True               False  \n",
       "25          False                True  \n",
       "26          False               False  "
      ]
     },
     "execution_count": 41,
     "metadata": {},
     "output_type": "execute_result"
    }
   ],
   "source": [
    "_tmp_index[_tmp_index.sum(axis=1) == 3]"
   ]
  },
  {
   "cell_type": "code",
   "execution_count": 42,
   "id": "ab2a49ff-700b-48c1-b8c1-428b1061ce5a",
   "metadata": {},
   "outputs": [
    {
     "data": {
      "text/plain": [
       "0      True\n",
       "1      True\n",
       "2      True\n",
       "3      True\n",
       "4      True\n",
       "5      True\n",
       "6      True\n",
       "7      True\n",
       "8     False\n",
       "9     False\n",
       "10    False\n",
       "11    False\n",
       "12    False\n",
       "13    False\n",
       "14    False\n",
       "15    False\n",
       "16    False\n",
       "17    False\n",
       "18    False\n",
       "19    False\n",
       "20    False\n",
       "21    False\n",
       "22    False\n",
       "23    False\n",
       "24    False\n",
       "25    False\n",
       "26    False\n",
       "dtype: bool"
      ]
     },
     "execution_count": 42,
     "metadata": {},
     "output_type": "execute_result"
    }
   ],
   "source": [
    "_tmp_index.apply(lambda x: x[0:3].sum() == 0, axis=1)"
   ]
  },
  {
   "cell_type": "code",
   "execution_count": 43,
   "id": "3008a6b3-8803-40f3-a09c-45ca94131327",
   "metadata": {},
   "outputs": [
    {
     "data": {
      "text/plain": [
       "array([(False, False, False, False, True, True),\n",
       "       (False, False, False, True, False, True),\n",
       "       (False, False, False, True, True, False)], dtype=object)"
      ]
     },
     "execution_count": 43,
     "metadata": {},
     "output_type": "execute_result"
    }
   ],
   "source": [
    "# agreements on top\n",
    "_tmp_index.loc[\n",
    "    _tmp_index[\n",
    "        _tmp_index.apply(lambda x: x.sum() > 1, axis=1)\n",
    "        & _tmp_index.apply(lambda x: x[0:3].sum() == 0, axis=1)\n",
    "        & _tmp_index.apply(lambda x: 3 > x[3:].sum() > 1, axis=1)\n",
    "    ].index\n",
    "].apply(tuple, axis=1).to_numpy()"
   ]
  },
  {
   "cell_type": "code",
   "execution_count": 44,
   "id": "556b8016-3a64-4e95-adb6-705a3e8854c7",
   "metadata": {},
   "outputs": [
    {
     "data": {
      "text/plain": [
       "array([(False, True, True, False, False, False),\n",
       "       (True, False, True, False, False, False),\n",
       "       (True, True, False, False, False, False)], dtype=object)"
      ]
     },
     "execution_count": 44,
     "metadata": {},
     "output_type": "execute_result"
    }
   ],
   "source": [
    "# agreements on bottom\n",
    "_tmp_index.loc[\n",
    "    _tmp_index[\n",
    "        _tmp_index.apply(lambda x: x.sum() > 1, axis=1)\n",
    "        & _tmp_index.apply(lambda x: 3 > x[0:3].sum() > 1, axis=1)\n",
    "        & _tmp_index.apply(lambda x: x[3:].sum() == 0, axis=1)\n",
    "    ].index\n",
    "].apply(tuple, axis=1).to_numpy()"
   ]
  },
  {
   "cell_type": "code",
   "execution_count": 45,
   "id": "4cd4c428-510a-497a-9c9c-4af16e9c254b",
   "metadata": {},
   "outputs": [
    {
     "data": {
      "text/plain": [
       "array([(False, False, True, False, True, False),\n",
       "       (False, False, True, True, False, False),\n",
       "       (False, False, True, True, True, False),\n",
       "       (False, True, False, False, False, True),\n",
       "       (False, True, False, True, False, False),\n",
       "       (False, True, False, True, False, True),\n",
       "       (False, True, True, True, False, False),\n",
       "       (True, False, False, False, False, True),\n",
       "       (True, False, False, False, True, False),\n",
       "       (True, False, False, False, True, True),\n",
       "       (True, False, True, False, True, False),\n",
       "       (True, True, False, False, False, True)], dtype=object)"
      ]
     },
     "execution_count": 45,
     "metadata": {},
     "output_type": "execute_result"
    }
   ],
   "source": [
    "# diagreements\n",
    "_tmp_index.loc[\n",
    "    _tmp_index[\n",
    "        _tmp_index.apply(lambda x: x.sum() > 1, axis=1)\n",
    "        & _tmp_index.apply(lambda x: x[0:3].sum() > 0, axis=1)\n",
    "        & _tmp_index.apply(lambda x: x[3:].sum() > 0, axis=1)\n",
    "    ].index\n",
    "].apply(tuple, axis=1).to_numpy()"
   ]
  },
  {
   "cell_type": "code",
   "execution_count": 46,
   "id": "14911f01-eace-4982-8d82-3f45bcf65e76",
   "metadata": {},
   "outputs": [],
   "source": [
    "# order subsets\n",
    "gene_pairs_by_cats = gene_pairs_by_cats.loc[\n",
    "    [\n",
    "        # pairs not included in categories:\n",
    "        # (False, False, False, False, False, False),\n",
    "        # full agreements on high:\n",
    "        (False, False, False, True, True, True),\n",
    "        # agreements on top\n",
    "        (False, False, False, False, True, True),\n",
    "        (False, False, False, True, False, True),\n",
    "        (False, False, False, True, True, False),\n",
    "        # agreements on bottom\n",
    "        (False, True, True, False, False, False),\n",
    "        (True, False, True, False, False, False),\n",
    "        (True, True, False, False, False, False),\n",
    "        # full agreements on low:\n",
    "        (True, True, True, False, False, False),\n",
    "        # diagreements\n",
    "        ## clustermatch\n",
    "        (True, False, False, False, True, True),\n",
    "        (False, True, False, True, False, True),\n",
    "        (False, True, False, False, False, True),\n",
    "        (True, False, False, False, False, True),\n",
    "        (True, True, False, False, False, True),\n",
    "        ## pearson\n",
    "        (False, False, True, False, True, False),\n",
    "        (True, False, False, False, True, False),\n",
    "        (True, False, True, False, True, False),\n",
    "        (False, False, True, True, True, False),\n",
    "        ## spearman\n",
    "        (False, False, True, True, False, False),\n",
    "        (False, True, False, True, False, False),\n",
    "        (False, True, True, True, False, False),\n",
    "    ]\n",
    "]"
   ]
  },
  {
   "cell_type": "code",
   "execution_count": 47,
   "id": "a7934759-1223-42c6-88c1-179714e12c08",
   "metadata": {},
   "outputs": [
    {
     "data": {
      "image/png": "[encoded data removed]",
      "text/plain": [
       "<Figure size 1008x360 with 3 Axes>"
      ]
     },
     "metadata": {
      "needs_background": "light"
     },
     "output_type": "display_data"
    }
   ],
   "source": [
    "fig = plt.figure(figsize=(14, 5))\n",
    "\n",
    "# g = plot(\n",
    "g = MyUpSet(\n",
    "    gene_pairs_by_cats,\n",
    "    show_counts=True,\n",
    "    sort_categories_by=None,\n",
    "    sort_by=None,\n",
    "    show_percentages=True,\n",
    "    # min_subset_size=2,\n",
    "    element_size=None,\n",
    "    # fig=fig,\n",
    ").plot(fig)\n",
    "\n",
    "g[\"totals\"].remove()  # set_visible(False)\n",
    "\n",
    "# display(fig.get_size_inches())\n",
    "# fig.set_size_inches(12, 5)\n",
    "\n",
    "plt.savefig(\n",
    "    OUTPUT_FIGURE_DIR / \"upsetplot.svg\",\n",
    "    bbox_inches=\"tight\",\n",
    "    facecolor=\"white\",\n",
    ")\n",
    "\n",
    "# plt.margins(x=-0.4)"
   ]
  },
  {
   "cell_type": "markdown",
   "id": "363880b2-67e5-447d-9f0b-c0a3f0fda026",
   "metadata": {},
   "source": [
    "This plot has the sets that represent agreements on the left, and disagreements on the right. The plot shown here is not the final one for the manuscript."
   ]
  },
  {
   "cell_type": "markdown",
   "id": "fa2ca99e",
   "metadata": {},
   "source": [
    "# Save groups of gene pairs in each subset"
   ]
  },
  {
   "cell_type": "code",
   "execution_count": 48,
   "id": "323c73be",
   "metadata": {},
   "outputs": [
    {
     "data": {
      "text/plain": [
       "(12497500, 9)"
      ]
     },
     "metadata": {},
     "output_type": "display_data"
    },
    {
     "data": {
      "text/html": [
       "<div>\n",
       "<style scoped>\n",
       "    .dataframe tbody tr th:only-of-type {\n",
       "        vertical-align: middle;\n",
       "    }\n",
       "\n",
       "    .dataframe tbody tr th {\n",
       "        vertical-align: top;\n",
       "    }\n",
       "\n",
       "    .dataframe thead th {\n",
       "        text-align: right;\n",
       "    }\n",
       "</style>\n",
       "<table border=\"1\" class=\"dataframe\">\n",
       "  <thead>\n",
       "    <tr style=\"text-align: right;\">\n",
       "      <th></th>\n",
       "      <th></th>\n",
       "      <th>Pearson (high)</th>\n",
       "      <th>Pearson (low)</th>\n",
       "      <th>Spearman (high)</th>\n",
       "      <th>Spearman (low)</th>\n",
       "      <th>Clustermatch (high)</th>\n",
       "      <th>Clustermatch (low)</th>\n",
       "      <th>clustermatch</th>\n",
       "      <th>pearson</th>\n",
       "      <th>spearman</th>\n",
       "    </tr>\n",
       "  </thead>\n",
       "  <tbody>\n",
       "    <tr>\n",
       "      <th rowspan=\"5\" valign=\"top\">ENSG00000000003</th>\n",
       "      <th>ENSG00000000419</th>\n",
       "      <td>True</td>\n",
       "      <td>False</td>\n",
       "      <td>True</td>\n",
       "      <td>False</td>\n",
       "      <td>True</td>\n",
       "      <td>False</td>\n",
       "      <td>0.163960</td>\n",
       "      <td>0.130873</td>\n",
       "      <td>0.471673</td>\n",
       "    </tr>\n",
       "    <tr>\n",
       "      <th>ENSG00000000938</th>\n",
       "      <td>True</td>\n",
       "      <td>False</td>\n",
       "      <td>False</td>\n",
       "      <td>False</td>\n",
       "      <td>False</td>\n",
       "      <td>False</td>\n",
       "      <td>0.083831</td>\n",
       "      <td>0.107588</td>\n",
       "      <td>0.178042</td>\n",
       "    </tr>\n",
       "    <tr>\n",
       "      <th>ENSG00000001036</th>\n",
       "      <td>False</td>\n",
       "      <td>False</td>\n",
       "      <td>True</td>\n",
       "      <td>False</td>\n",
       "      <td>True</td>\n",
       "      <td>False</td>\n",
       "      <td>0.274535</td>\n",
       "      <td>0.047559</td>\n",
       "      <td>0.494995</td>\n",
       "    </tr>\n",
       "    <tr>\n",
       "      <th>ENSG00000001630</th>\n",
       "      <td>True</td>\n",
       "      <td>False</td>\n",
       "      <td>True</td>\n",
       "      <td>False</td>\n",
       "      <td>True</td>\n",
       "      <td>False</td>\n",
       "      <td>0.194099</td>\n",
       "      <td>0.226343</td>\n",
       "      <td>0.547457</td>\n",
       "    </tr>\n",
       "    <tr>\n",
       "      <th>ENSG00000002586</th>\n",
       "      <td>False</td>\n",
       "      <td>True</td>\n",
       "      <td>False</td>\n",
       "      <td>False</td>\n",
       "      <td>False</td>\n",
       "      <td>False</td>\n",
       "      <td>0.067899</td>\n",
       "      <td>0.011981</td>\n",
       "      <td>0.204876</td>\n",
       "    </tr>\n",
       "  </tbody>\n",
       "</table>\n",
       "</div>"
      ],
      "text/plain": [
       "                                 Pearson (high)  Pearson (low)  \\\n",
       "ENSG00000000003 ENSG00000000419            True          False   \n",
       "                ENSG00000000938            True          False   \n",
       "                ENSG00000001036           False          False   \n",
       "                ENSG00000001630            True          False   \n",
       "                ENSG00000002586           False           True   \n",
       "\n",
       "                                 Spearman (high)  Spearman (low)  \\\n",
       "ENSG00000000003 ENSG00000000419             True           False   \n",
       "                ENSG00000000938            False           False   \n",
       "                ENSG00000001036             True           False   \n",
       "                ENSG00000001630             True           False   \n",
       "                ENSG00000002586            False           False   \n",
       "\n",
       "                                 Clustermatch (high)  Clustermatch (low)  \\\n",
       "ENSG00000000003 ENSG00000000419                 True               False   \n",
       "                ENSG00000000938                False               False   \n",
       "                ENSG00000001036                 True               False   \n",
       "                ENSG00000001630                 True               False   \n",
       "                ENSG00000002586                False               False   \n",
       "\n",
       "                                 clustermatch   pearson  spearman  \n",
       "ENSG00000000003 ENSG00000000419      0.163960  0.130873  0.471673  \n",
       "                ENSG00000000938      0.083831  0.107588  0.178042  \n",
       "                ENSG00000001036      0.274535  0.047559  0.494995  \n",
       "                ENSG00000001630      0.194099  0.226343  0.547457  \n",
       "                ENSG00000002586      0.067899  0.011981  0.204876  "
      ]
     },
     "metadata": {},
     "output_type": "display_data"
    }
   ],
   "source": [
    "display(df_plot.shape)\n",
    "display(df_plot.head())"
   ]
  },
  {
   "cell_type": "code",
   "execution_count": 49,
   "id": "e4559e42",
   "metadata": {},
   "outputs": [],
   "source": [
    "conf.RECOUNT2FULL[\"GENE_PAIR_INTERSECTIONS\"].mkdir(parents=True, exist_ok=True)"
   ]
  },
  {
   "cell_type": "code",
   "execution_count": 50,
   "id": "037a94a9",
   "metadata": {},
   "outputs": [
    {
     "data": {
      "text/plain": [
       "PosixPath('/opt/data/results/recount2full/gene_pair_intersections/gene_pair_intersections-recount2full-var_pc_log2.pkl')"
      ]
     },
     "metadata": {},
     "output_type": "display_data"
    }
   ],
   "source": [
    "output_file = (\n",
    "    conf.RECOUNT2FULL[\"GENE_PAIR_INTERSECTIONS\"]\n",
    "    / f\"gene_pair_intersections-{dataset_name}-{GENE_SEL_STRATEGY}.pkl\"\n",
    ")\n",
    "display(output_file)"
   ]
  },
  {
   "cell_type": "code",
   "execution_count": 51,
   "id": "c5796726",
   "metadata": {},
   "outputs": [],
   "source": [
    "df_plot.to_pickle(output_file)"
   ]
  },
  {
   "cell_type": "code",
   "execution_count": 52,
   "id": "e2bfdaf9-c395-41df-82d8-5a1778a261d2",
   "metadata": {
    "lines_to_next_cell": 2
   },
   "outputs": [],
   "source": [
    "# DELETE ALL BELOW"
   ]
  },
  {
   "cell_type": "code",
   "execution_count": null,
   "id": "51f3ea4b-b6da-436f-a838-e23298fdedbf",
   "metadata": {},
   "outputs": [],
   "source": []
  },
  {
   "cell_type": "code",
   "execution_count": null,
   "id": "e971b09b-8187-4595-b35b-e875d67d6838",
   "metadata": {},
   "outputs": [],
   "source": []
  },
  {
   "cell_type": "code",
   "execution_count": null,
   "id": "adf143bd-c4fb-48be-b85c-594d1ce145c4",
   "metadata": {},
   "outputs": [],
   "source": []
  },
  {
   "cell_type": "code",
   "execution_count": null,
   "id": "0c371847-0de6-4649-86fc-d256605f01a1",
   "metadata": {},
   "outputs": [],
   "source": []
  },
  {
   "cell_type": "code",
   "execution_count": null,
   "id": "98895a3d-bb7e-4fd9-a453-8475d408663e",
   "metadata": {},
   "outputs": [],
   "source": []
  },
  {
   "cell_type": "markdown",
   "id": "29c6ba73-93a9-4d97-be9e-89e7812bc651",
   "metadata": {},
   "source": [
    "# Look at specific gene pair cases"
   ]
  },
  {
   "cell_type": "code",
   "execution_count": null,
   "id": "3e39f208-393f-436c-afa4-392d50a92753",
   "metadata": {},
   "outputs": [],
   "source": [
    "def plot_gene_pair(top_pairs_df, idx, bins=\"log\"):\n",
    "    gene0, gene1 = top_pairs_df.iloc[idx].name\n",
    "    display((gene0, gene1))\n",
    "\n",
    "    # gene0_symbol, gene1_symbol = gene_map[gene0], gene_map[gene1]\n",
    "    # display((gene0_symbol, gene1_symbol))\n",
    "\n",
    "    _pearson, _spearman, _clustermatch = top_pairs_df.loc[\n",
    "        (gene0, gene1), [\"pearson\", \"spearman\", \"clustermatch\"]\n",
    "    ].tolist()\n",
    "\n",
    "    _title = f\"Clustermatch: {_clustermatch:.2f}\\nPearson/Spearman: {_pearson:.2f}/{_spearman:.2f}\"\n",
    "\n",
    "    # displot DOES SUPPORT HUE!\n",
    "    p = sns.jointplot(\n",
    "        data=gene_expr_df.T,\n",
    "        x=gene0,\n",
    "        y=gene1,\n",
    "        kind=\"hex\",\n",
    "        bins=bins,\n",
    "        # ylim=(0, 500),\n",
    "    )\n",
    "\n",
    "    gene_x_id = p.ax_joint.get_xlabel()\n",
    "    # gene_x_symbol = gene_map[gene_x_id]\n",
    "    p.ax_joint.set_xlabel(f\"{gene_x_id}\")\n",
    "\n",
    "    gene_y_id = p.ax_joint.get_ylabel()\n",
    "    # gene_y_symbol = gene_map[gene_y_id]\n",
    "    p.ax_joint.set_ylabel(f\"{gene_y_id}\")\n",
    "\n",
    "    p.fig.suptitle(_title)\n",
    "\n",
    "    return p"
   ]
  },
  {
   "cell_type": "code",
   "execution_count": null,
   "id": "5f8deb23-3642-4682-8c1c-5fb89545d860",
   "metadata": {},
   "outputs": [],
   "source": [
    "# add columns with ranks\n",
    "df_r_data = pd.concat(\n",
    "    [\n",
    "        df_r_data,\n",
    "        df_r_data[[\"clustermatch\", \"pearson\", \"spearman\"]]\n",
    "        .rank()\n",
    "        .rename(\n",
    "            columns={\n",
    "                \"clustermatch\": \"clustermatch_rank\",\n",
    "                \"pearson\": \"pearson_rank\",\n",
    "                \"spearman\": \"spearman_rank\",\n",
    "            }\n",
    "        ),\n",
    "    ],\n",
    "    axis=1,\n",
    ")"
   ]
  },
  {
   "cell_type": "code",
   "execution_count": null,
   "id": "ea2639bf-f74c-4aed-936a-ac6a3d54dc4a",
   "metadata": {},
   "outputs": [],
   "source": [
    "df_r_data.head()"
   ]
  },
  {
   "cell_type": "markdown",
   "id": "f08ab1e7-de5c-41a7-b9e1-f55c05926870",
   "metadata": {
    "tags": []
   },
   "source": [
    "## Clustermatch vs Spearman"
   ]
  },
  {
   "cell_type": "code",
   "execution_count": null,
   "id": "4ec59ec3-be52-4fe5-8b06-9e16972e0d17",
   "metadata": {},
   "outputs": [],
   "source": [
    "first_coef = \"clustermatch\"\n",
    "second_coef = \"spearman\""
   ]
  },
  {
   "cell_type": "code",
   "execution_count": null,
   "id": "4e262f86-e729-432e-a2f9-6feaae0f694e",
   "metadata": {},
   "outputs": [],
   "source": [
    "_tmp_df = df_r_data[\n",
    "    (df_r_data[\"Clustermatch (high)\"])\n",
    "    & ~(df_r_data[\"Spearman (high)\"])\n",
    "    & ~(df_r_data[\"Pearson (high)\"])\n",
    "    & ~(df_r_data[\"Clustermatch (low)\"])\n",
    "    & (df_r_data[\"Spearman (low)\"])\n",
    "    & ~(df_r_data[\"Pearson (low)\"])\n",
    "]\n",
    "\n",
    "_tmp_df = _tmp_df.assign(\n",
    "    rank_diff=_tmp_df[f\"{first_coef}_rank\"].sub(_tmp_df[f\"{second_coef}_rank\"])\n",
    ")\n",
    "\n",
    "# show this just to make sure of the groups\n",
    "# display(_tmp_df.head())\n",
    "\n",
    "# sort by rank_diff\n",
    "_tmp_df = _tmp_df[[x for x in _tmp_df.columns if \" (\" not in x]].sort_values(\n",
    "    \"rank_diff\", ascending=False\n",
    ")\n",
    "\n",
    "# sort by firt_coef value\n",
    "# _tmp_df = _tmp_df[[x for x in df_r_data.columns if \"_\" not in x]].sort_values(\n",
    "#     first_coef, ascending=False\n",
    "# )\n",
    "\n",
    "# display(_tmp_df.shape)\n",
    "display(_tmp_df)"
   ]
  },
  {
   "cell_type": "code",
   "execution_count": null,
   "id": "58710fc6-844f-4179-9dbc-80a7f42aa9e6",
   "metadata": {},
   "outputs": [],
   "source": [
    "for i in range(10):\n",
    "    display(f\"Index: {i}\")\n",
    "    p = plot_gene_pair(_tmp_df, i)\n",
    "    display(p.fig)\n",
    "    plt.close(p.fig)"
   ]
  },
  {
   "cell_type": "code",
   "execution_count": null,
   "id": "fc4fc860-c5fd-44a0-8796-7bc581b57f04",
   "metadata": {},
   "outputs": [],
   "source": [
    "# reverse order\n",
    "for i in range(1, 3):\n",
    "    i = -i\n",
    "    display(f\"Index: {i}\")\n",
    "    p = plot_gene_pair(_tmp_df, i)\n",
    "    display(p.fig)\n",
    "    plt.close(p.fig)"
   ]
  },
  {
   "cell_type": "markdown",
   "id": "1d2747dd-e17a-47b4-b661-e4e57b7fff8f",
   "metadata": {
    "tags": []
   },
   "source": [
    "## Clustermatch vs Pearson"
   ]
  },
  {
   "cell_type": "code",
   "execution_count": null,
   "id": "9e86f9a0-1278-4f2b-8931-63fb90227d71",
   "metadata": {},
   "outputs": [],
   "source": [
    "first_coef = \"clustermatch\"\n",
    "second_coef = \"pearson\""
   ]
  },
  {
   "cell_type": "code",
   "execution_count": null,
   "id": "3aa38089-800d-4549-9e76-d3325ef8d97a",
   "metadata": {},
   "outputs": [],
   "source": [
    "_tmp_df = df_r_data[\n",
    "    (df_r_data[\"Clustermatch (high)\"])\n",
    "    & ~(df_r_data[\"Spearman (high)\"])\n",
    "    & ~(df_r_data[\"Pearson (high)\"])\n",
    "    & ~(df_r_data[\"Clustermatch (low)\"])\n",
    "    & ~(df_r_data[\"Spearman (low)\"])\n",
    "    & (df_r_data[\"Pearson (low)\"])\n",
    "]\n",
    "\n",
    "_tmp_df = _tmp_df.assign(\n",
    "    rank_diff=_tmp_df[f\"{first_coef}_rank\"].sub(_tmp_df[f\"{second_coef}_rank\"])\n",
    ")\n",
    "\n",
    "# show this just to make sure of the groups\n",
    "# display(_tmp_df.head())\n",
    "\n",
    "# sort by rank_diff\n",
    "_tmp_df = _tmp_df[[x for x in _tmp_df.columns if \" (\" not in x]].sort_values(\n",
    "    \"rank_diff\", ascending=False\n",
    ")\n",
    "\n",
    "# sort by firt_coef value\n",
    "# _tmp_df = _tmp_df[[x for x in df_r_data.columns if \"_\" not in x]].sort_values(\n",
    "#     first_coef, ascending=False\n",
    "# )\n",
    "\n",
    "# display(_tmp_df.shape)\n",
    "display(_tmp_df)"
   ]
  },
  {
   "cell_type": "code",
   "execution_count": null,
   "id": "b7374410-e1d6-4ccc-a71e-aeb647180d1a",
   "metadata": {},
   "outputs": [],
   "source": [
    "for i in range(10):\n",
    "    display(f\"Index: {i}\")\n",
    "    p = plot_gene_pair(_tmp_df, i)\n",
    "    display(p.fig)\n",
    "    plt.close(p.fig)"
   ]
  },
  {
   "cell_type": "code",
   "execution_count": null,
   "id": "a0b02661-593f-4786-bfd7-ef7d7d3f604b",
   "metadata": {},
   "outputs": [],
   "source": [
    "# reverse order\n",
    "for i in range(1, 5):\n",
    "    i = -i\n",
    "    display(f\"Index: {i}\")\n",
    "    p = plot_gene_pair(_tmp_df, i)\n",
    "    display(p.fig)\n",
    "    plt.close(p.fig)"
   ]
  },
  {
   "cell_type": "markdown",
   "id": "1ef37ea8-d10f-46be-9e97-ef61d90f2c59",
   "metadata": {
    "tags": []
   },
   "source": [
    "## Clustermatch vs Spearman/Pearson"
   ]
  },
  {
   "cell_type": "code",
   "execution_count": null,
   "id": "ddd29e64-b4c5-4664-aa5a-5454b59e2106",
   "metadata": {},
   "outputs": [],
   "source": [
    "first_coef = \"clustermatch\"\n",
    "second_coef = \"pearson\"\n",
    "second_1_coef = \"spearman\""
   ]
  },
  {
   "cell_type": "code",
   "execution_count": null,
   "id": "786e5244-2b80-49dd-b2ef-eef649d1e230",
   "metadata": {},
   "outputs": [],
   "source": [
    "_tmp_df = df_r_data[\n",
    "    (df_r_data[\"Clustermatch (high)\"])\n",
    "    & ~(df_r_data[\"Spearman (high)\"])\n",
    "    & ~(df_r_data[\"Pearson (high)\"])\n",
    "    & ~(df_r_data[\"Clustermatch (low)\"])\n",
    "    & (df_r_data[\"Spearman (low)\"])\n",
    "    & (df_r_data[\"Pearson (low)\"])\n",
    "]\n",
    "\n",
    "_tmp_df = _tmp_df.assign(\n",
    "    rank_diff=_tmp_df[f\"{first_coef}_rank\"].sub(\n",
    "        _tmp_df[f\"{second_coef}_rank\"].add(_tmp_df[f\"{second_1_coef}_rank\"])\n",
    "    )\n",
    ")\n",
    "\n",
    "# show this just to make sure of the groups\n",
    "# display(_tmp_df.head())\n",
    "\n",
    "# sort by rank_diff\n",
    "_tmp_df = _tmp_df[[x for x in _tmp_df.columns if \" (\" not in x]].sort_values(\n",
    "    \"rank_diff\", ascending=False\n",
    ")\n",
    "\n",
    "# sort by firt_coef value\n",
    "# _tmp_df = _tmp_df[[x for x in df_r_data.columns if \"_\" not in x]].sort_values(\n",
    "#     first_coef, ascending=False\n",
    "# )\n",
    "\n",
    "# display(_tmp_df.shape)\n",
    "display(_tmp_df)"
   ]
  },
  {
   "cell_type": "code",
   "execution_count": null,
   "id": "d8834d91-f673-495f-b85f-a1f378fc84b7",
   "metadata": {},
   "outputs": [],
   "source": [
    "for i in range(5):\n",
    "    display(f\"Index: {i}\")\n",
    "    p = plot_gene_pair(_tmp_df, i)\n",
    "    display(p.fig)\n",
    "    plt.close(p.fig)"
   ]
  },
  {
   "cell_type": "code",
   "execution_count": null,
   "id": "5113c340-656e-4d18-929e-338d07b640c2",
   "metadata": {},
   "outputs": [],
   "source": [
    "# reverse order\n",
    "for i in range(1, 5):\n",
    "    i = -i\n",
    "    display(f\"Index: {i}\")\n",
    "    p = plot_gene_pair(_tmp_df, i)\n",
    "    display(p.fig)\n",
    "    plt.close(p.fig)"
   ]
  },
  {
   "cell_type": "code",
   "execution_count": null,
   "id": "b1a9eca3-b407-4032-9c3e-50588020c29d",
   "metadata": {},
   "outputs": [],
   "source": []
  },
  {
   "cell_type": "code",
   "execution_count": null,
   "id": "6092dbe1-b0c6-4fb7-8e57-5e034cf13884",
   "metadata": {},
   "outputs": [],
   "source": []
  },
  {
   "cell_type": "code",
   "execution_count": null,
   "id": "7f338e0a-6f88-41b4-8b77-638b95d14460",
   "metadata": {},
   "outputs": [],
   "source": [
    "# I NEED TO CHANGE THE CODE BELOW TO UPDATE IT WITH THE ONE ABOVE"
   ]
  },
  {
   "cell_type": "markdown",
   "id": "ad9d2817-03ae-4d13-a4ef-ec37685f1b38",
   "metadata": {
    "tags": []
   },
   "source": [
    "## Clustermatch/Spearman vs Pearson"
   ]
  },
  {
   "cell_type": "code",
   "execution_count": null,
   "id": "cafa3a38-e6fb-40da-9dfa-5a0d447acaf7",
   "metadata": {},
   "outputs": [],
   "source": [
    "_tmp_df = df_r_data[\n",
    "    (df_r_data[\"clustermatch_higher\"])\n",
    "    & (df_r_data[\"spearman_higher\"])\n",
    "    & ~(df_r_data[\"pearson_higher\"])\n",
    "    & ~(df_r_data[\"clustermatch_lower\"])\n",
    "    & ~(df_r_data[\"spearman_lower\"])\n",
    "    & (df_r_data[\"pearson_lower\"])\n",
    "]\n",
    "\n",
    "# show this just to make sure of the groups\n",
    "# display(_tmp_df.head())\n",
    "\n",
    "_tmp_df = _tmp_df[[x for x in df_r_data.columns if \"_\" not in x]].sort_values(\n",
    "    \"clustermatch\", ascending=False\n",
    ")\n",
    "\n",
    "display(_tmp_df.shape)\n",
    "display(_tmp_df)"
   ]
  },
  {
   "cell_type": "code",
   "execution_count": null,
   "id": "155611aa-5154-4cd0-96eb-0c8cbc6540a9",
   "metadata": {},
   "outputs": [],
   "source": [
    "plot_gene_pair(_tmp_df, 0)"
   ]
  },
  {
   "cell_type": "code",
   "execution_count": null,
   "id": "935ab137-c709-4578-90e7-1b62e72e0776",
   "metadata": {},
   "outputs": [],
   "source": [
    "plot_gene_pair(_tmp_df, 1)"
   ]
  },
  {
   "cell_type": "code",
   "execution_count": null,
   "id": "2d97089a-8f47-410f-b276-c72daff12c20",
   "metadata": {},
   "outputs": [],
   "source": [
    "plot_gene_pair(_tmp_df, 2)"
   ]
  },
  {
   "cell_type": "markdown",
   "id": "b3d579a2-62b5-48ec-82f8-95e7569b9268",
   "metadata": {
    "tags": []
   },
   "source": [
    "## Pearson vs Spearman"
   ]
  },
  {
   "cell_type": "code",
   "execution_count": null,
   "id": "f720f2ec-7618-44ce-bb05-085541cdc2a5",
   "metadata": {},
   "outputs": [],
   "source": [
    "_tmp_df = df_r_data[\n",
    "    ~(df_r_data[\"clustermatch_higher\"])\n",
    "    & ~(df_r_data[\"spearman_higher\"])\n",
    "    & (df_r_data[\"pearson_higher\"])\n",
    "    & ~(df_r_data[\"clustermatch_lower\"])\n",
    "    & (df_r_data[\"spearman_lower\"])\n",
    "    & ~(df_r_data[\"pearson_lower\"])\n",
    "]\n",
    "\n",
    "# show this just to make sure of the groups\n",
    "# display(_tmp_df.head())\n",
    "\n",
    "_tmp_df = _tmp_df[[x for x in df_r_data.columns if \"_\" not in x]].sort_values(\n",
    "    \"pearson\", ascending=False\n",
    ")\n",
    "\n",
    "display(_tmp_df.shape)\n",
    "display(_tmp_df)"
   ]
  },
  {
   "cell_type": "code",
   "execution_count": null,
   "id": "2b551dbd-befd-49cd-a6a3-c111d6a2b722",
   "metadata": {},
   "outputs": [],
   "source": [
    "plot_gene_pair(_tmp_df, 0)"
   ]
  },
  {
   "cell_type": "code",
   "execution_count": null,
   "id": "4f0ec8eb-2e32-4465-892a-d1ec41fb3753",
   "metadata": {},
   "outputs": [],
   "source": [
    "plot_gene_pair(_tmp_df, 1)"
   ]
  },
  {
   "cell_type": "code",
   "execution_count": null,
   "id": "28c949c0-f774-4b17-b830-9ca882fb8ba6",
   "metadata": {},
   "outputs": [],
   "source": [
    "plot_gene_pair(_tmp_df, 2)"
   ]
  },
  {
   "cell_type": "markdown",
   "id": "50380020-52e4-43eb-8e4f-7799f570681c",
   "metadata": {
    "tags": []
   },
   "source": [
    "## Spearman vs Pearson"
   ]
  },
  {
   "cell_type": "code",
   "execution_count": null,
   "id": "d9a9aa32-8cae-4788-ae35-4e4df4843460",
   "metadata": {},
   "outputs": [],
   "source": [
    "_tmp_df = df_r_data[\n",
    "    ~(df_r_data[\"clustermatch_higher\"])\n",
    "    & (df_r_data[\"spearman_higher\"])\n",
    "    & ~(df_r_data[\"pearson_higher\"])\n",
    "    & ~(df_r_data[\"clustermatch_lower\"])\n",
    "    & ~(df_r_data[\"spearman_lower\"])\n",
    "    & (df_r_data[\"pearson_lower\"])\n",
    "]\n",
    "\n",
    "# show this just to make sure of the groups\n",
    "# display(_tmp_df.head())\n",
    "\n",
    "_tmp_df = _tmp_df[[x for x in df_r_data.columns if \"_\" not in x]].sort_values(\n",
    "    \"pearson\", ascending=False\n",
    ")\n",
    "\n",
    "display(_tmp_df.shape)\n",
    "display(_tmp_df)"
   ]
  },
  {
   "cell_type": "code",
   "execution_count": null,
   "id": "3f09815a-4d08-49b4-be8f-f747c305ecaf",
   "metadata": {},
   "outputs": [],
   "source": [
    "plot_gene_pair(_tmp_df, 0)"
   ]
  },
  {
   "cell_type": "code",
   "execution_count": null,
   "id": "56f17b6c-45d5-44f5-8fb4-2f938b85ef66",
   "metadata": {},
   "outputs": [],
   "source": [
    "plot_gene_pair(_tmp_df, 1)"
   ]
  },
  {
   "cell_type": "markdown",
   "id": "e4a0600b-51f0-484a-97d2-6fc856b8ce19",
   "metadata": {
    "tags": []
   },
   "source": [
    "## Pearson vs Spearman/Clustermatch"
   ]
  },
  {
   "cell_type": "code",
   "execution_count": null,
   "id": "e1095677-d0d5-40a8-b0fe-bcc8362cadb1",
   "metadata": {},
   "outputs": [],
   "source": [
    "_tmp_df = df_r_data[\n",
    "    ~(df_r_data[\"clustermatch_higher\"])\n",
    "    & ~(df_r_data[\"spearman_higher\"])\n",
    "    & (df_r_data[\"pearson_higher\"])\n",
    "    & (df_r_data[\"clustermatch_lower\"])\n",
    "    & (df_r_data[\"spearman_lower\"])\n",
    "    & ~(df_r_data[\"pearson_lower\"])\n",
    "]\n",
    "\n",
    "# show this just to make sure of the groups\n",
    "# display(_tmp_df.head())\n",
    "\n",
    "_tmp_df = _tmp_df[[x for x in df_r_data.columns if \"_\" not in x]].sort_values(\n",
    "    \"pearson\", ascending=False\n",
    ")\n",
    "\n",
    "display(_tmp_df.shape)\n",
    "display(_tmp_df)"
   ]
  },
  {
   "cell_type": "code",
   "execution_count": null,
   "id": "e4ca9080-7aa1-45d0-93ad-5c8873d5d25c",
   "metadata": {},
   "outputs": [],
   "source": [
    "plot_gene_pair(_tmp_df, 0)"
   ]
  },
  {
   "cell_type": "code",
   "execution_count": null,
   "id": "65bc92d4-9c23-456f-a362-17b820fccf0f",
   "metadata": {},
   "outputs": [],
   "source": [
    "plot_gene_pair(_tmp_df, 1)"
   ]
  },
  {
   "cell_type": "markdown",
   "id": "a2820e0e-bd5e-41a6-9514-aa461eb8db63",
   "metadata": {
    "tags": []
   },
   "source": [
    "## Pearson vs Clustermatch"
   ]
  },
  {
   "cell_type": "code",
   "execution_count": null,
   "id": "cf2cea26-c53e-4a61-8965-ad3c7daa042b",
   "metadata": {},
   "outputs": [],
   "source": [
    "_tmp_df = df_r_data[\n",
    "    ~(df_r_data[\"clustermatch_higher\"])\n",
    "    & ~(df_r_data[\"spearman_higher\"])\n",
    "    & (df_r_data[\"pearson_higher\"])\n",
    "    & (df_r_data[\"clustermatch_lower\"])\n",
    "    & ~(df_r_data[\"spearman_lower\"])\n",
    "    & ~(df_r_data[\"pearson_lower\"])\n",
    "]\n",
    "\n",
    "# show this just to make sure of the groups\n",
    "# display(_tmp_df.head())\n",
    "\n",
    "_tmp_df = _tmp_df[[x for x in df_r_data.columns if \"_\" not in x]].sort_values(\n",
    "    \"pearson\", ascending=False\n",
    ")\n",
    "\n",
    "display(_tmp_df.shape)\n",
    "display(_tmp_df)"
   ]
  },
  {
   "cell_type": "code",
   "execution_count": null,
   "id": "39145e85-12f7-4386-bdca-27b0915482ba",
   "metadata": {},
   "outputs": [],
   "source": [
    "plot_gene_pair(_tmp_df, 0)"
   ]
  },
  {
   "cell_type": "code",
   "execution_count": null,
   "id": "5794daf4-8ac8-4eb8-80da-f303e55bee66",
   "metadata": {},
   "outputs": [],
   "source": [
    "gene0, gene1 = (\n",
    "    gene_expr_df.loc[\"ENSG00000130598.15\"].copy(),\n",
    "    gene_expr_df.loc[\"ENSG00000177791.11\"].copy(),\n",
    ")"
   ]
  },
  {
   "cell_type": "code",
   "execution_count": null,
   "id": "07198f9f-dd36-4913-9c07-d8a575d75e84",
   "metadata": {},
   "outputs": [],
   "source": [
    "cm(gene0, gene1)"
   ]
  },
  {
   "cell_type": "code",
   "execution_count": null,
   "id": "a089f51e-8fab-4244-bf79-0a930dbb9545",
   "metadata": {},
   "outputs": [],
   "source": [
    "q = 0.75\n",
    "gene0[gene0 <= gene0.quantile(q)] = 0\n",
    "gene0[gene0 > gene0.quantile(q)] = 1\n",
    "\n",
    "gene1[gene1 <= gene1.quantile(q)] = 0\n",
    "gene1[gene1 > gene1.quantile(q)] = 1\n",
    "\n",
    "cm(gene0, gene1)"
   ]
  },
  {
   "cell_type": "code",
   "execution_count": null,
   "id": "9866da64-3273-4f1b-86f9-c474039c6e76",
   "metadata": {},
   "outputs": [],
   "source": [
    "plot_gene_pair(_tmp_df, 500)"
   ]
  },
  {
   "cell_type": "code",
   "execution_count": null,
   "id": "821c09de-b683-4024-a3ff-a4166ef99790",
   "metadata": {},
   "outputs": [],
   "source": [
    "gene0, gene1 = (\n",
    "    gene_expr_df.loc[\"ENSG00000177409.11\"].copy(),\n",
    "    gene_expr_df.loc[\"ENSG00000149131.15\"].copy(),\n",
    ")"
   ]
  },
  {
   "cell_type": "code",
   "execution_count": null,
   "id": "a14f16ad-7455-4f48-bbe4-682c71f7db8f",
   "metadata": {},
   "outputs": [],
   "source": [
    "cm(gene0, gene1)"
   ]
  },
  {
   "cell_type": "code",
   "execution_count": null,
   "id": "08a9d562-361b-4150-900c-781c57ff0255",
   "metadata": {},
   "outputs": [],
   "source": [
    "q = 0.75\n",
    "gene0[gene0 <= gene0.quantile(q)] = 0\n",
    "gene0[gene0 > gene0.quantile(q)] = 1\n",
    "\n",
    "gene1[gene1 <= gene1.quantile(q)] = 0\n",
    "gene1[gene1 > gene1.quantile(q)] = 1\n",
    "\n",
    "cm(gene0, gene1)"
   ]
  },
  {
   "cell_type": "code",
   "execution_count": null,
   "id": "2e96eaa5",
   "metadata": {},
   "outputs": [],
   "source": []
  }
 ],
 "metadata": {
  "jupytext": {
   "cell_metadata_filter": "all,-execution,-papermill,-trusted",
   "text_representation": {
    "extension": ".py",
    "format_name": "percent",
    "format_version": "1.3",
    "jupytext_version": "1.11.5"
   }
  },
  "kernelspec": {
   "display_name": "Python 3 (ipykernel)",
   "language": "python",
   "name": "python3"
  },
  "language_info": {
   "codemirror_mode": {
    "name": "ipython",
    "version": 3
   },
   "file_extension": ".py",
   "mimetype": "text/x-python",
   "name": "python",
   "nbconvert_exporter": "python",
   "pygments_lexer": "ipython3",
   "version": "3.9.9"
  }
 },
 "nbformat": 4,
 "nbformat_minor": 5
}
