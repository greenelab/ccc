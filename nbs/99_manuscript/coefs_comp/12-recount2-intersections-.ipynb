{
 "cells": [
  {
   "cell_type": "markdown",
   "id": "87e0ce1b-7ce6-4499-9342-5ded05307598",
   "metadata": {
    "papermill": {
     "duration": 0.063205,
     "end_time": "2021-11-19T21:18:45.499332",
     "exception": false,
     "start_time": "2021-11-19T21:18:45.436127",
     "status": "completed"
    },
    "tags": []
   },
   "source": [
    "# Description"
   ]
  },
  {
   "cell_type": "markdown",
   "id": "4bfc7115-350a-441b-9a19-7626a948a694",
   "metadata": {
    "papermill": {
     "duration": 0.06281,
     "end_time": "2021-11-19T21:18:45.625288",
     "exception": false,
     "start_time": "2021-11-19T21:18:45.562478",
     "status": "completed"
    },
    "tags": []
   },
   "source": [
    "It analyzes how correlation coefficients intersect on different gene pairs. Basically, I take the top gene pairs with the maximum correlation coefficient according to Pearson, Spearman and Clustermatch, and also the equivalent set with the minimum coefficient values, and then compare how these sets intersect each other.\n",
    "\n",
    "After identifying different intersection sets, I plot some gene pairs to see what's being captured or not by each coefficient."
   ]
  },
  {
   "cell_type": "markdown",
   "id": "e020c781-238b-43c2-8cad-2722b8a240e2",
   "metadata": {
    "papermill": {
     "duration": 0.069529,
     "end_time": "2021-11-19T21:18:45.762225",
     "exception": false,
     "start_time": "2021-11-19T21:18:45.692696",
     "status": "completed"
    },
    "tags": []
   },
   "source": [
    "# Modules"
   ]
  },
  {
   "cell_type": "code",
   "execution_count": 1,
   "id": "a819bfbc-5009-4c68-ba8d-37d0979d368f",
   "metadata": {
    "papermill": {
     "duration": 1.222566,
     "end_time": "2021-11-19T21:18:47.051114",
     "exception": false,
     "start_time": "2021-11-19T21:18:45.828548",
     "status": "completed"
    },
    "tags": []
   },
   "outputs": [],
   "source": [
    "import pandas as pd\n",
    "import numpy as np\n",
    "\n",
    "import matplotlib.pyplot as plt\n",
    "import seaborn as sns\n",
    "from upsetplot import plot, from_indicators\n",
    "\n",
    "from clustermatch.plots import MyUpSet\n",
    "from clustermatch import conf"
   ]
  },
  {
   "cell_type": "markdown",
   "id": "b4834387-58ff-468c-b326-85c408bc5feb",
   "metadata": {
    "papermill": {
     "duration": 0.062667,
     "end_time": "2021-11-19T21:18:47.176897",
     "exception": false,
     "start_time": "2021-11-19T21:18:47.114230",
     "status": "completed"
    },
    "tags": []
   },
   "source": [
    "# Settings"
   ]
  },
  {
   "cell_type": "code",
   "execution_count": 2,
   "id": "765e820a-4518-4bbc-a00f-14c9cea03821",
   "metadata": {},
   "outputs": [],
   "source": [
    "DATASET_CONFIG = conf.RECOUNT2\n",
    "# GTEX_TISSUE = \"whole_blood\"\n",
    "# GENE_SEL_STRATEGY = \"var_pc_log2\""
   ]
  },
  {
   "cell_type": "code",
   "execution_count": 3,
   "id": "ffcd0ae1-829d-4eda-befe-ace40371babf",
   "metadata": {},
   "outputs": [],
   "source": [
    "# this specificies the threshold to compare coefficients (see below).\n",
    "# it basically takes the top Q_DIFF coefficient values for gene pairs\n",
    "# and compare with the bottom Q_DIFF of the other coefficients\n",
    "Q_DIFF = 0.30"
   ]
  },
  {
   "cell_type": "markdown",
   "id": "a1159982-5dd1-4494-97d4-0674eeead1c3",
   "metadata": {
    "papermill": {
     "duration": 0.062778,
     "end_time": "2021-11-19T21:18:47.303614",
     "exception": false,
     "start_time": "2021-11-19T21:18:47.240836",
     "status": "completed"
    },
    "tags": []
   },
   "source": [
    "# Paths"
   ]
  },
  {
   "cell_type": "code",
   "execution_count": 4,
   "id": "d50e29a6-0e18-4c3d-b933-f21a17abf831",
   "metadata": {
    "papermill": {
     "duration": 0.068311,
     "end_time": "2021-11-19T21:18:47.433932",
     "exception": false,
     "start_time": "2021-11-19T21:18:47.365621",
     "status": "completed"
    },
    "tags": []
   },
   "outputs": [],
   "source": [
    "assert (\n",
    "    conf.MANUSCRIPT[\"BASE_DIR\"] is not None and conf.MANUSCRIPT[\"BASE_DIR\"].exists()\n",
    "), \"Manuscript dir not set\""
   ]
  },
  {
   "cell_type": "code",
   "execution_count": 5,
   "id": "523c6a4e-87ec-44bf-bad3-e912b8aa0482",
   "metadata": {
    "papermill": {
     "duration": 0.071148,
     "end_time": "2021-11-19T21:18:47.566820",
     "exception": false,
     "start_time": "2021-11-19T21:18:47.495672",
     "status": "completed"
    },
    "tags": []
   },
   "outputs": [
    {
     "data": {
      "text/plain": [
       "PosixPath('/opt/manuscript/content/images/coefs_comp/recount2')"
      ]
     },
     "metadata": {},
     "output_type": "display_data"
    }
   ],
   "source": [
    "OUTPUT_FIGURE_DIR = conf.MANUSCRIPT[\"FIGURES_DIR\"] / \"coefs_comp\" / f\"recount2\"\n",
    "OUTPUT_FIGURE_DIR.mkdir(parents=True, exist_ok=True)\n",
    "display(OUTPUT_FIGURE_DIR)"
   ]
  },
  {
   "cell_type": "code",
   "execution_count": 6,
   "id": "c6f73068-fa38-44be-bd0c-708f6ff450ea",
   "metadata": {
    "papermill": {
     "duration": 0.025306,
     "end_time": "2021-09-21T01:08:28.234279",
     "exception": false,
     "start_time": "2021-09-21T01:08:28.208973",
     "status": "completed"
    },
    "tags": []
   },
   "outputs": [
    {
     "data": {
      "text/plain": [
       "PosixPath('/opt/data/data/recount2/recount_data_prep_PLIER.pkl')"
      ]
     },
     "metadata": {},
     "output_type": "display_data"
    }
   ],
   "source": [
    "INPUT_GENE_EXPR_FILE = conf.RECOUNT2[\"DATA_FILE\"]\n",
    "display(INPUT_GENE_EXPR_FILE)\n",
    "\n",
    "assert INPUT_GENE_EXPR_FILE.exists()"
   ]
  },
  {
   "cell_type": "code",
   "execution_count": 7,
   "id": "edf17c92-2894-45b5-82ee-cd0170dda995",
   "metadata": {
    "papermill": {
     "duration": 0.025306,
     "end_time": "2021-09-21T01:08:28.234279",
     "exception": false,
     "start_time": "2021-09-21T01:08:28.208973",
     "status": "completed"
    },
    "tags": []
   },
   "outputs": [
    {
     "data": {
      "text/plain": [
       "PosixPath('/opt/data/results/recount2/similarity_matrices/recount_data_prep_PLIER-{corr_method}.pkl')"
      ]
     },
     "metadata": {},
     "output_type": "display_data"
    }
   ],
   "source": [
    "INPUT_CORR_FILE_TEMPLATE = (\n",
    "    DATASET_CONFIG[\"SIMILARITY_MATRICES_DIR\"]\n",
    "    / DATASET_CONFIG[\"SIMILARITY_MATRIX_FILENAME_TEMPLATE\"]\n",
    ")\n",
    "display(INPUT_CORR_FILE_TEMPLATE)"
   ]
  },
  {
   "cell_type": "code",
   "execution_count": 8,
   "id": "30cce6f5-ca1b-438c-859d-31903a42d4c6",
   "metadata": {
    "tags": []
   },
   "outputs": [
    {
     "data": {
      "text/plain": [
       "PosixPath('/opt/data/results/recount2/similarity_matrices/recount_data_prep_PLIER-all.pkl')"
      ]
     },
     "metadata": {},
     "output_type": "display_data"
    }
   ],
   "source": [
    "INPUT_CORR_FILE = DATASET_CONFIG[\"SIMILARITY_MATRICES_DIR\"] / str(\n",
    "    INPUT_CORR_FILE_TEMPLATE\n",
    ").format(\n",
    "    corr_method=\"all\",\n",
    ")\n",
    "display(INPUT_CORR_FILE)\n",
    "\n",
    "assert INPUT_CORR_FILE.exists()"
   ]
  },
  {
   "cell_type": "markdown",
   "id": "f6d3322b-c8bb-4fc2-97b6-5bb1793b1577",
   "metadata": {
    "papermill": {
     "duration": 0.062778,
     "end_time": "2021-11-19T21:18:47.303614",
     "exception": false,
     "start_time": "2021-11-19T21:18:47.240836",
     "status": "completed"
    },
    "tags": []
   },
   "source": [
    "# Data"
   ]
  },
  {
   "cell_type": "markdown",
   "id": "e8416e00-7eeb-4712-b45c-d0c2efe449dd",
   "metadata": {
    "papermill": {
     "duration": 0.019217,
     "end_time": "2021-09-21T01:08:28.355017",
     "exception": false,
     "start_time": "2021-09-21T01:08:28.335800",
     "status": "completed"
    },
    "tags": []
   },
   "source": [
    "## Gene Ensembl ID -> Symbol mapping"
   ]
  },
  {
   "cell_type": "code",
   "execution_count": 9,
   "id": "2e490073-be50-486e-a215-0e1fda74a03a",
   "metadata": {},
   "outputs": [],
   "source": [
    "# gene_map = pd.read_pickle(\n",
    "#     DATASET_CONFIG[\"DATA_DIR\"] / \"gtex_gene_id_symbol_mappings.pkl\"\n",
    "# )"
   ]
  },
  {
   "cell_type": "code",
   "execution_count": 10,
   "id": "3aae3ef4-5beb-4848-86e2-58bc62f2fe3b",
   "metadata": {},
   "outputs": [],
   "source": [
    "# gene_map = gene_map.set_index(\"gene_ens_id\")[\"gene_symbol\"].to_dict()"
   ]
  },
  {
   "cell_type": "code",
   "execution_count": 11,
   "id": "deda184e-bb5a-424b-80e8-2b4cefbdb923",
   "metadata": {},
   "outputs": [],
   "source": [
    "# assert gene_map[\"ENSG00000145309.5\"] == \"CABS1\""
   ]
  },
  {
   "cell_type": "markdown",
   "id": "0aa486d7-b624-4d20-a730-a9eb224bef6a",
   "metadata": {
    "papermill": {
     "duration": 0.019217,
     "end_time": "2021-09-21T01:08:28.355017",
     "exception": false,
     "start_time": "2021-09-21T01:08:28.335800",
     "status": "completed"
    },
    "tags": []
   },
   "source": [
    "## Gene expression"
   ]
  },
  {
   "cell_type": "code",
   "execution_count": 12,
   "id": "f73ca2b7-f7ff-47bc-90b0-32e0cfdb5ea6",
   "metadata": {},
   "outputs": [],
   "source": [
    "gene_expr_df = pd.read_pickle(INPUT_GENE_EXPR_FILE)"
   ]
  },
  {
   "cell_type": "code",
   "execution_count": 13,
   "id": "3cba499a-e737-4da2-9841-f9a03719b3aa",
   "metadata": {},
   "outputs": [
    {
     "data": {
      "text/plain": [
       "(6750, 37032)"
      ]
     },
     "execution_count": 13,
     "metadata": {},
     "output_type": "execute_result"
    }
   ],
   "source": [
    "gene_expr_df.shape"
   ]
  },
  {
   "cell_type": "code",
   "execution_count": 14,
   "id": "df66fe70-9fe9-4351-9d30-f8dcc97725de",
   "metadata": {},
   "outputs": [
    {
     "data": {
      "text/html": [
       "<div>\n",
       "<style scoped>\n",
       "    .dataframe tbody tr th:only-of-type {\n",
       "        vertical-align: middle;\n",
       "    }\n",
       "\n",
       "    .dataframe tbody tr th {\n",
       "        vertical-align: top;\n",
       "    }\n",
       "\n",
       "    .dataframe thead th {\n",
       "        text-align: right;\n",
       "    }\n",
       "</style>\n",
       "<table border=\"1\" class=\"dataframe\">\n",
       "  <thead>\n",
       "    <tr style=\"text-align: right;\">\n",
       "      <th></th>\n",
       "      <th>SRP000599.SRR013549</th>\n",
       "      <th>SRP000599.SRR013550</th>\n",
       "      <th>SRP000599.SRR013551</th>\n",
       "      <th>SRP000599.SRR013552</th>\n",
       "      <th>SRP000599.SRR013553</th>\n",
       "      <th>SRP000599.SRR013554</th>\n",
       "      <th>SRP000599.SRR013555</th>\n",
       "      <th>SRP000599.SRR013556</th>\n",
       "      <th>SRP000599.SRR013557</th>\n",
       "      <th>SRP000599.SRR013558</th>\n",
       "      <th>...</th>\n",
       "      <th>SRP035599.SRR1139372</th>\n",
       "      <th>SRP035599.SRR1139393</th>\n",
       "      <th>SRP035599.SRR1139388</th>\n",
       "      <th>SRP035599.SRR1139378</th>\n",
       "      <th>SRP035599.SRR1139399</th>\n",
       "      <th>SRP035599.SRR1139386</th>\n",
       "      <th>SRP035599.SRR1139375</th>\n",
       "      <th>SRP035599.SRR1139382</th>\n",
       "      <th>SRP035599.SRR1139356</th>\n",
       "      <th>SRP035599.SRR1139370</th>\n",
       "    </tr>\n",
       "  </thead>\n",
       "  <tbody>\n",
       "    <tr>\n",
       "      <th>GAS6</th>\n",
       "      <td>-0.312500</td>\n",
       "      <td>-0.312931</td>\n",
       "      <td>-0.312931</td>\n",
       "      <td>-0.312931</td>\n",
       "      <td>-0.312931</td>\n",
       "      <td>-0.308253</td>\n",
       "      <td>-0.312931</td>\n",
       "      <td>-0.312931</td>\n",
       "      <td>-0.312931</td>\n",
       "      <td>-0.312931</td>\n",
       "      <td>...</td>\n",
       "      <td>-0.301711</td>\n",
       "      <td>-0.305581</td>\n",
       "      <td>-0.303344</td>\n",
       "      <td>-0.297800</td>\n",
       "      <td>-0.307122</td>\n",
       "      <td>-0.285499</td>\n",
       "      <td>-0.309599</td>\n",
       "      <td>-0.300220</td>\n",
       "      <td>-0.297667</td>\n",
       "      <td>-0.310151</td>\n",
       "    </tr>\n",
       "    <tr>\n",
       "      <th>MMP14</th>\n",
       "      <td>-0.328279</td>\n",
       "      <td>-0.328279</td>\n",
       "      <td>-0.328279</td>\n",
       "      <td>-0.328279</td>\n",
       "      <td>-0.328279</td>\n",
       "      <td>-0.328279</td>\n",
       "      <td>-0.328279</td>\n",
       "      <td>-0.328279</td>\n",
       "      <td>-0.328279</td>\n",
       "      <td>-0.325140</td>\n",
       "      <td>...</td>\n",
       "      <td>-0.314587</td>\n",
       "      <td>-0.322952</td>\n",
       "      <td>-0.326439</td>\n",
       "      <td>-0.325994</td>\n",
       "      <td>-0.326272</td>\n",
       "      <td>-0.322523</td>\n",
       "      <td>-0.326375</td>\n",
       "      <td>-0.326339</td>\n",
       "      <td>-0.322127</td>\n",
       "      <td>-0.327438</td>\n",
       "    </tr>\n",
       "    <tr>\n",
       "      <th>DSP</th>\n",
       "      <td>-0.286319</td>\n",
       "      <td>-0.286859</td>\n",
       "      <td>-0.286859</td>\n",
       "      <td>-0.286859</td>\n",
       "      <td>-0.286859</td>\n",
       "      <td>-0.286859</td>\n",
       "      <td>-0.277195</td>\n",
       "      <td>-0.256862</td>\n",
       "      <td>-0.278790</td>\n",
       "      <td>-0.269701</td>\n",
       "      <td>...</td>\n",
       "      <td>-0.286859</td>\n",
       "      <td>-0.286859</td>\n",
       "      <td>-0.286745</td>\n",
       "      <td>-0.286688</td>\n",
       "      <td>-0.286725</td>\n",
       "      <td>-0.286529</td>\n",
       "      <td>-0.286859</td>\n",
       "      <td>-0.286671</td>\n",
       "      <td>-0.286859</td>\n",
       "      <td>-0.286740</td>\n",
       "    </tr>\n",
       "    <tr>\n",
       "      <th>MARCKSL1</th>\n",
       "      <td>-0.536646</td>\n",
       "      <td>-0.536646</td>\n",
       "      <td>-0.536646</td>\n",
       "      <td>-0.536646</td>\n",
       "      <td>-0.536646</td>\n",
       "      <td>-0.536646</td>\n",
       "      <td>-0.536646</td>\n",
       "      <td>-0.536646</td>\n",
       "      <td>-0.536646</td>\n",
       "      <td>-0.536646</td>\n",
       "      <td>...</td>\n",
       "      <td>0.807663</td>\n",
       "      <td>1.294564</td>\n",
       "      <td>1.527655</td>\n",
       "      <td>1.404788</td>\n",
       "      <td>1.047931</td>\n",
       "      <td>0.892119</td>\n",
       "      <td>1.507099</td>\n",
       "      <td>2.458255</td>\n",
       "      <td>2.919662</td>\n",
       "      <td>1.410846</td>\n",
       "    </tr>\n",
       "    <tr>\n",
       "      <th>SPARC</th>\n",
       "      <td>-0.370498</td>\n",
       "      <td>-0.370498</td>\n",
       "      <td>-0.369171</td>\n",
       "      <td>-0.370498</td>\n",
       "      <td>-0.370498</td>\n",
       "      <td>-0.370498</td>\n",
       "      <td>-0.370498</td>\n",
       "      <td>-0.370498</td>\n",
       "      <td>-0.370498</td>\n",
       "      <td>-0.370498</td>\n",
       "      <td>...</td>\n",
       "      <td>-0.345409</td>\n",
       "      <td>-0.310750</td>\n",
       "      <td>-0.348120</td>\n",
       "      <td>-0.356938</td>\n",
       "      <td>-0.355206</td>\n",
       "      <td>-0.366197</td>\n",
       "      <td>-0.351174</td>\n",
       "      <td>-0.363703</td>\n",
       "      <td>-0.350825</td>\n",
       "      <td>-0.360762</td>\n",
       "    </tr>\n",
       "  </tbody>\n",
       "</table>\n",
       "<p>5 rows × 37032 columns</p>\n",
       "</div>"
      ],
      "text/plain": [
       "          SRP000599.SRR013549  SRP000599.SRR013550  SRP000599.SRR013551  \\\n",
       "GAS6                -0.312500            -0.312931            -0.312931   \n",
       "MMP14               -0.328279            -0.328279            -0.328279   \n",
       "DSP                 -0.286319            -0.286859            -0.286859   \n",
       "MARCKSL1            -0.536646            -0.536646            -0.536646   \n",
       "SPARC               -0.370498            -0.370498            -0.369171   \n",
       "\n",
       "          SRP000599.SRR013552  SRP000599.SRR013553  SRP000599.SRR013554  \\\n",
       "GAS6                -0.312931            -0.312931            -0.308253   \n",
       "MMP14               -0.328279            -0.328279            -0.328279   \n",
       "DSP                 -0.286859            -0.286859            -0.286859   \n",
       "MARCKSL1            -0.536646            -0.536646            -0.536646   \n",
       "SPARC               -0.370498            -0.370498            -0.370498   \n",
       "\n",
       "          SRP000599.SRR013555  SRP000599.SRR013556  SRP000599.SRR013557  \\\n",
       "GAS6                -0.312931            -0.312931            -0.312931   \n",
       "MMP14               -0.328279            -0.328279            -0.328279   \n",
       "DSP                 -0.277195            -0.256862            -0.278790   \n",
       "MARCKSL1            -0.536646            -0.536646            -0.536646   \n",
       "SPARC               -0.370498            -0.370498            -0.370498   \n",
       "\n",
       "          SRP000599.SRR013558  ...  SRP035599.SRR1139372  \\\n",
       "GAS6                -0.312931  ...             -0.301711   \n",
       "MMP14               -0.325140  ...             -0.314587   \n",
       "DSP                 -0.269701  ...             -0.286859   \n",
       "MARCKSL1            -0.536646  ...              0.807663   \n",
       "SPARC               -0.370498  ...             -0.345409   \n",
       "\n",
       "          SRP035599.SRR1139393  SRP035599.SRR1139388  SRP035599.SRR1139378  \\\n",
       "GAS6                 -0.305581             -0.303344             -0.297800   \n",
       "MMP14                -0.322952             -0.326439             -0.325994   \n",
       "DSP                  -0.286859             -0.286745             -0.286688   \n",
       "MARCKSL1              1.294564              1.527655              1.404788   \n",
       "SPARC                -0.310750             -0.348120             -0.356938   \n",
       "\n",
       "          SRP035599.SRR1139399  SRP035599.SRR1139386  SRP035599.SRR1139375  \\\n",
       "GAS6                 -0.307122             -0.285499             -0.309599   \n",
       "MMP14                -0.326272             -0.322523             -0.326375   \n",
       "DSP                  -0.286725             -0.286529             -0.286859   \n",
       "MARCKSL1              1.047931              0.892119              1.507099   \n",
       "SPARC                -0.355206             -0.366197             -0.351174   \n",
       "\n",
       "          SRP035599.SRR1139382  SRP035599.SRR1139356  SRP035599.SRR1139370  \n",
       "GAS6                 -0.300220             -0.297667             -0.310151  \n",
       "MMP14                -0.326339             -0.322127             -0.327438  \n",
       "DSP                  -0.286671             -0.286859             -0.286740  \n",
       "MARCKSL1              2.458255              2.919662              1.410846  \n",
       "SPARC                -0.363703             -0.350825             -0.360762  \n",
       "\n",
       "[5 rows x 37032 columns]"
      ]
     },
     "execution_count": 14,
     "metadata": {},
     "output_type": "execute_result"
    }
   ],
   "source": [
    "gene_expr_df.head()"
   ]
  },
  {
   "cell_type": "markdown",
   "id": "b030f506-2fe9-4895-a8a1-51374e88c496",
   "metadata": {
    "papermill": {
     "duration": 0.019217,
     "end_time": "2021-09-21T01:08:28.355017",
     "exception": false,
     "start_time": "2021-09-21T01:08:28.335800",
     "status": "completed"
    },
    "tags": []
   },
   "source": [
    "## Correlation"
   ]
  },
  {
   "cell_type": "code",
   "execution_count": 15,
   "id": "da1d768a-fbfb-40e8-8fbb-790d1a94aa83",
   "metadata": {},
   "outputs": [],
   "source": [
    "df = pd.read_pickle(INPUT_CORR_FILE)"
   ]
  },
  {
   "cell_type": "code",
   "execution_count": 16,
   "id": "6123d474-0c0d-4771-9678-248ce89424ce",
   "metadata": {},
   "outputs": [
    {
     "data": {
      "text/plain": [
       "(22777875, 3)"
      ]
     },
     "execution_count": 16,
     "metadata": {},
     "output_type": "execute_result"
    }
   ],
   "source": [
    "df.shape"
   ]
  },
  {
   "cell_type": "code",
   "execution_count": 17,
   "id": "b028abd8-c5b1-48c2-aa5e-cb1b49c943a4",
   "metadata": {},
   "outputs": [
    {
     "data": {
      "text/html": [
       "<div>\n",
       "<style scoped>\n",
       "    .dataframe tbody tr th:only-of-type {\n",
       "        vertical-align: middle;\n",
       "    }\n",
       "\n",
       "    .dataframe tbody tr th {\n",
       "        vertical-align: top;\n",
       "    }\n",
       "\n",
       "    .dataframe thead th {\n",
       "        text-align: right;\n",
       "    }\n",
       "</style>\n",
       "<table border=\"1\" class=\"dataframe\">\n",
       "  <thead>\n",
       "    <tr style=\"text-align: right;\">\n",
       "      <th></th>\n",
       "      <th></th>\n",
       "      <th>clustermatch</th>\n",
       "      <th>pearson</th>\n",
       "      <th>spearman</th>\n",
       "    </tr>\n",
       "  </thead>\n",
       "  <tbody>\n",
       "    <tr>\n",
       "      <th rowspan=\"5\" valign=\"top\">A2M</th>\n",
       "      <th>AATK</th>\n",
       "      <td>0.134712</td>\n",
       "      <td>0.032274</td>\n",
       "      <td>0.504520</td>\n",
       "    </tr>\n",
       "    <tr>\n",
       "      <th>ABCA1</th>\n",
       "      <td>0.109580</td>\n",
       "      <td>0.110068</td>\n",
       "      <td>0.443315</td>\n",
       "    </tr>\n",
       "    <tr>\n",
       "      <th>ABCA6</th>\n",
       "      <td>0.189934</td>\n",
       "      <td>0.050592</td>\n",
       "      <td>0.536541</td>\n",
       "    </tr>\n",
       "    <tr>\n",
       "      <th>ABCC3</th>\n",
       "      <td>0.088957</td>\n",
       "      <td>0.053941</td>\n",
       "      <td>0.373502</td>\n",
       "    </tr>\n",
       "    <tr>\n",
       "      <th>ABHD14A</th>\n",
       "      <td>0.082554</td>\n",
       "      <td>0.012871</td>\n",
       "      <td>0.367407</td>\n",
       "    </tr>\n",
       "  </tbody>\n",
       "</table>\n",
       "</div>"
      ],
      "text/plain": [
       "             clustermatch   pearson  spearman\n",
       "A2M AATK         0.134712  0.032274  0.504520\n",
       "    ABCA1        0.109580  0.110068  0.443315\n",
       "    ABCA6        0.189934  0.050592  0.536541\n",
       "    ABCC3        0.088957  0.053941  0.373502\n",
       "    ABHD14A      0.082554  0.012871  0.367407"
      ]
     },
     "execution_count": 17,
     "metadata": {},
     "output_type": "execute_result"
    }
   ],
   "source": [
    "df.head()"
   ]
  },
  {
   "cell_type": "code",
   "execution_count": 18,
   "id": "d46d8fa8-9316-4ef9-ba36-52e6294c546a",
   "metadata": {},
   "outputs": [
    {
     "data": {
      "text/html": [
       "<div>\n",
       "<style scoped>\n",
       "    .dataframe tbody tr th:only-of-type {\n",
       "        vertical-align: middle;\n",
       "    }\n",
       "\n",
       "    .dataframe tbody tr th {\n",
       "        vertical-align: top;\n",
       "    }\n",
       "\n",
       "    .dataframe thead th {\n",
       "        text-align: right;\n",
       "    }\n",
       "</style>\n",
       "<table border=\"1\" class=\"dataframe\">\n",
       "  <thead>\n",
       "    <tr style=\"text-align: right;\">\n",
       "      <th></th>\n",
       "      <th>clustermatch</th>\n",
       "      <th>pearson</th>\n",
       "      <th>spearman</th>\n",
       "    </tr>\n",
       "  </thead>\n",
       "  <tbody>\n",
       "    <tr>\n",
       "      <th>0.200000</th>\n",
       "      <td>0.078577</td>\n",
       "      <td>0.006544</td>\n",
       "      <td>0.230251</td>\n",
       "    </tr>\n",
       "    <tr>\n",
       "      <th>0.242105</th>\n",
       "      <td>0.084843</td>\n",
       "      <td>0.008229</td>\n",
       "      <td>0.253442</td>\n",
       "    </tr>\n",
       "    <tr>\n",
       "      <th>0.284211</th>\n",
       "      <td>0.090594</td>\n",
       "      <td>0.010058</td>\n",
       "      <td>0.274246</td>\n",
       "    </tr>\n",
       "    <tr>\n",
       "      <th>0.326316</th>\n",
       "      <td>0.095994</td>\n",
       "      <td>0.012050</td>\n",
       "      <td>0.293359</td>\n",
       "    </tr>\n",
       "    <tr>\n",
       "      <th>0.368421</th>\n",
       "      <td>0.101155</td>\n",
       "      <td>0.014226</td>\n",
       "      <td>0.311251</td>\n",
       "    </tr>\n",
       "    <tr>\n",
       "      <th>0.410526</th>\n",
       "      <td>0.106158</td>\n",
       "      <td>0.016620</td>\n",
       "      <td>0.328227</td>\n",
       "    </tr>\n",
       "    <tr>\n",
       "      <th>0.452632</th>\n",
       "      <td>0.111067</td>\n",
       "      <td>0.019261</td>\n",
       "      <td>0.344578</td>\n",
       "    </tr>\n",
       "    <tr>\n",
       "      <th>0.494737</th>\n",
       "      <td>0.115950</td>\n",
       "      <td>0.022200</td>\n",
       "      <td>0.360455</td>\n",
       "    </tr>\n",
       "    <tr>\n",
       "      <th>0.536842</th>\n",
       "      <td>0.120871</td>\n",
       "      <td>0.025494</td>\n",
       "      <td>0.376053</td>\n",
       "    </tr>\n",
       "    <tr>\n",
       "      <th>0.578947</th>\n",
       "      <td>0.125909</td>\n",
       "      <td>0.029216</td>\n",
       "      <td>0.391581</td>\n",
       "    </tr>\n",
       "    <tr>\n",
       "      <th>0.621053</th>\n",
       "      <td>0.131146</td>\n",
       "      <td>0.033472</td>\n",
       "      <td>0.407160</td>\n",
       "    </tr>\n",
       "    <tr>\n",
       "      <th>0.663158</th>\n",
       "      <td>0.136732</td>\n",
       "      <td>0.038408</td>\n",
       "      <td>0.423103</td>\n",
       "    </tr>\n",
       "    <tr>\n",
       "      <th>0.705263</th>\n",
       "      <td>0.142809</td>\n",
       "      <td>0.044233</td>\n",
       "      <td>0.439553</td>\n",
       "    </tr>\n",
       "    <tr>\n",
       "      <th>0.747368</th>\n",
       "      <td>0.149574</td>\n",
       "      <td>0.051234</td>\n",
       "      <td>0.456900</td>\n",
       "    </tr>\n",
       "    <tr>\n",
       "      <th>0.789474</th>\n",
       "      <td>0.157378</td>\n",
       "      <td>0.059913</td>\n",
       "      <td>0.475603</td>\n",
       "    </tr>\n",
       "    <tr>\n",
       "      <th>0.831579</th>\n",
       "      <td>0.166808</td>\n",
       "      <td>0.071138</td>\n",
       "      <td>0.496334</td>\n",
       "    </tr>\n",
       "    <tr>\n",
       "      <th>0.873684</th>\n",
       "      <td>0.179019</td>\n",
       "      <td>0.086646</td>\n",
       "      <td>0.520459</td>\n",
       "    </tr>\n",
       "    <tr>\n",
       "      <th>0.915789</th>\n",
       "      <td>0.196678</td>\n",
       "      <td>0.110536</td>\n",
       "      <td>0.550630</td>\n",
       "    </tr>\n",
       "    <tr>\n",
       "      <th>0.957895</th>\n",
       "      <td>0.228533</td>\n",
       "      <td>0.156811</td>\n",
       "      <td>0.595054</td>\n",
       "    </tr>\n",
       "    <tr>\n",
       "      <th>1.000000</th>\n",
       "      <td>0.764343</td>\n",
       "      <td>0.996972</td>\n",
       "      <td>0.956897</td>\n",
       "    </tr>\n",
       "  </tbody>\n",
       "</table>\n",
       "</div>"
      ],
      "text/plain": [
       "          clustermatch   pearson  spearman\n",
       "0.200000      0.078577  0.006544  0.230251\n",
       "0.242105      0.084843  0.008229  0.253442\n",
       "0.284211      0.090594  0.010058  0.274246\n",
       "0.326316      0.095994  0.012050  0.293359\n",
       "0.368421      0.101155  0.014226  0.311251\n",
       "0.410526      0.106158  0.016620  0.328227\n",
       "0.452632      0.111067  0.019261  0.344578\n",
       "0.494737      0.115950  0.022200  0.360455\n",
       "0.536842      0.120871  0.025494  0.376053\n",
       "0.578947      0.125909  0.029216  0.391581\n",
       "0.621053      0.131146  0.033472  0.407160\n",
       "0.663158      0.136732  0.038408  0.423103\n",
       "0.705263      0.142809  0.044233  0.439553\n",
       "0.747368      0.149574  0.051234  0.456900\n",
       "0.789474      0.157378  0.059913  0.475603\n",
       "0.831579      0.166808  0.071138  0.496334\n",
       "0.873684      0.179019  0.086646  0.520459\n",
       "0.915789      0.196678  0.110536  0.550630\n",
       "0.957895      0.228533  0.156811  0.595054\n",
       "1.000000      0.764343  0.996972  0.956897"
      ]
     },
     "execution_count": 18,
     "metadata": {},
     "output_type": "execute_result"
    }
   ],
   "source": [
    "# show quantiles\n",
    "df.apply(lambda x: x.quantile(np.linspace(0.20, 1.0, 20)))"
   ]
  },
  {
   "cell_type": "markdown",
   "id": "2b3613bb-0ee8-4b93-b045-6c2fbbeb61e0",
   "metadata": {},
   "source": [
    "# Prepare data for plotting"
   ]
  },
  {
   "cell_type": "code",
   "execution_count": 19,
   "id": "056ac421-1bea-45f6-b3cb-933927cc88cd",
   "metadata": {},
   "outputs": [],
   "source": [
    "def get_lower_upper_quantile(method_name, q):\n",
    "    return df[method_name].quantile([q, 1 - q])"
   ]
  },
  {
   "cell_type": "code",
   "execution_count": 20,
   "id": "1f4a64ab-e15e-42fd-9d59-fc5dff6c571b",
   "metadata": {},
   "outputs": [
    {
     "data": {
      "text/plain": [
       "0.2    0.078577\n",
       "0.8    0.159555\n",
       "Name: clustermatch, dtype: float64"
      ]
     },
     "metadata": {},
     "output_type": "display_data"
    },
    {
     "data": {
      "text/plain": [
       "(0.07857705540812895, 0.15955487431587542)"
      ]
     },
     "metadata": {},
     "output_type": "display_data"
    }
   ],
   "source": [
    "# test\n",
    "_tmp = get_lower_upper_quantile(\"clustermatch\", 0.20)\n",
    "display(_tmp)\n",
    "\n",
    "_tmp0, _tmp1 = _tmp\n",
    "display((_tmp0, _tmp1))\n",
    "\n",
    "assert _tmp0 == _tmp.iloc[0]\n",
    "assert _tmp1 == _tmp.iloc[1]"
   ]
  },
  {
   "cell_type": "code",
   "execution_count": 21,
   "id": "5bc002ff-a591-4017-8229-b9cc07f7fae1",
   "metadata": {},
   "outputs": [
    {
     "data": {
      "text/plain": [
       "(0.0926551971986533, 0.14200537737083768)"
      ]
     },
     "metadata": {},
     "output_type": "display_data"
    },
    {
     "data": {
      "text/plain": [
       "(0.010782481893314655, 0.043447854524251414)"
      ]
     },
     "metadata": {},
     "output_type": "display_data"
    },
    {
     "data": {
      "text/plain": [
       "(0.28159307476882095, 0.4374603040308761)"
      ]
     },
     "metadata": {},
     "output_type": "display_data"
    }
   ],
   "source": [
    "clustermatch_lq, clustermatch_hq = get_lower_upper_quantile(\"clustermatch\", Q_DIFF)\n",
    "display((clustermatch_lq, clustermatch_hq))\n",
    "\n",
    "pearson_lq, pearson_hq = get_lower_upper_quantile(\"pearson\", Q_DIFF)\n",
    "display((pearson_lq, pearson_hq))\n",
    "\n",
    "spearman_lq, spearman_hq = get_lower_upper_quantile(\"spearman\", Q_DIFF)\n",
    "display((spearman_lq, spearman_hq))"
   ]
  },
  {
   "cell_type": "code",
   "execution_count": 22,
   "id": "b7151e86-845d-4c89-8298-c8636f70566b",
   "metadata": {},
   "outputs": [
    {
     "data": {
      "text/plain": [
       "6833363"
      ]
     },
     "metadata": {},
     "output_type": "display_data"
    },
    {
     "data": {
      "text/plain": [
       "6833363"
      ]
     },
     "metadata": {},
     "output_type": "display_data"
    }
   ],
   "source": [
    "pearson_higher = df[\"pearson\"] >= pearson_hq\n",
    "display(pearson_higher.sum())\n",
    "\n",
    "pearson_lower = df[\"pearson\"] <= pearson_lq\n",
    "display(pearson_lower.sum())"
   ]
  },
  {
   "cell_type": "code",
   "execution_count": 23,
   "id": "bde230a6-b84a-4dfe-a122-05b5d5cbd98b",
   "metadata": {},
   "outputs": [
    {
     "data": {
      "text/plain": [
       "6833363"
      ]
     },
     "metadata": {},
     "output_type": "display_data"
    },
    {
     "data": {
      "text/plain": [
       "6833363"
      ]
     },
     "metadata": {},
     "output_type": "display_data"
    }
   ],
   "source": [
    "spearman_higher = df[\"spearman\"] >= spearman_hq\n",
    "display(spearman_higher.sum())\n",
    "\n",
    "spearman_lower = df[\"spearman\"] <= spearman_lq\n",
    "display(spearman_lower.sum())"
   ]
  },
  {
   "cell_type": "code",
   "execution_count": 24,
   "id": "69a647b9-53bd-4f40-aab3-8274bdcfa90c",
   "metadata": {},
   "outputs": [
    {
     "data": {
      "text/plain": [
       "6833363"
      ]
     },
     "metadata": {},
     "output_type": "display_data"
    },
    {
     "data": {
      "text/plain": [
       "6833363"
      ]
     },
     "metadata": {},
     "output_type": "display_data"
    }
   ],
   "source": [
    "clustermatch_higher = df[\"clustermatch\"] >= clustermatch_hq\n",
    "display(clustermatch_higher.sum())\n",
    "\n",
    "clustermatch_lower = df[\"clustermatch\"] <= clustermatch_lq\n",
    "display(clustermatch_lower.sum())"
   ]
  },
  {
   "cell_type": "markdown",
   "id": "7f3682d5-c043-4c16-9871-7babc5a307a2",
   "metadata": {},
   "source": [
    "# UpSet plot"
   ]
  },
  {
   "cell_type": "code",
   "execution_count": 25,
   "id": "ed0bd3b6-f858-469f-bbeb-c187f720cd01",
   "metadata": {},
   "outputs": [],
   "source": [
    "df_plot = pd.DataFrame(\n",
    "    {\n",
    "        \"pearson_higher\": pearson_higher,\n",
    "        \"pearson_lower\": pearson_lower,\n",
    "        \"spearman_higher\": spearman_higher,\n",
    "        \"spearman_lower\": spearman_lower,\n",
    "        \"clustermatch_higher\": clustermatch_higher,\n",
    "        \"clustermatch_lower\": clustermatch_lower,\n",
    "    }\n",
    ")"
   ]
  },
  {
   "cell_type": "code",
   "execution_count": 26,
   "id": "d29af679-bd5e-4e5a-b6f8-55ae09fea9ca",
   "metadata": {},
   "outputs": [],
   "source": [
    "df_plot = pd.concat([df_plot, df], axis=1)"
   ]
  },
  {
   "cell_type": "code",
   "execution_count": 27,
   "id": "af2b7c35-e338-44a0-b54b-22464ae41a16",
   "metadata": {},
   "outputs": [
    {
     "data": {
      "text/html": [
       "<div>\n",
       "<style scoped>\n",
       "    .dataframe tbody tr th:only-of-type {\n",
       "        vertical-align: middle;\n",
       "    }\n",
       "\n",
       "    .dataframe tbody tr th {\n",
       "        vertical-align: top;\n",
       "    }\n",
       "\n",
       "    .dataframe thead th {\n",
       "        text-align: right;\n",
       "    }\n",
       "</style>\n",
       "<table border=\"1\" class=\"dataframe\">\n",
       "  <thead>\n",
       "    <tr style=\"text-align: right;\">\n",
       "      <th></th>\n",
       "      <th></th>\n",
       "      <th>pearson_higher</th>\n",
       "      <th>pearson_lower</th>\n",
       "      <th>spearman_higher</th>\n",
       "      <th>spearman_lower</th>\n",
       "      <th>clustermatch_higher</th>\n",
       "      <th>clustermatch_lower</th>\n",
       "      <th>clustermatch</th>\n",
       "      <th>pearson</th>\n",
       "      <th>spearman</th>\n",
       "    </tr>\n",
       "  </thead>\n",
       "  <tbody>\n",
       "    <tr>\n",
       "      <th rowspan=\"5\" valign=\"top\">A2M</th>\n",
       "      <th>AATK</th>\n",
       "      <td>False</td>\n",
       "      <td>False</td>\n",
       "      <td>True</td>\n",
       "      <td>False</td>\n",
       "      <td>False</td>\n",
       "      <td>False</td>\n",
       "      <td>0.134712</td>\n",
       "      <td>0.032274</td>\n",
       "      <td>0.504520</td>\n",
       "    </tr>\n",
       "    <tr>\n",
       "      <th>ABCA1</th>\n",
       "      <td>True</td>\n",
       "      <td>False</td>\n",
       "      <td>True</td>\n",
       "      <td>False</td>\n",
       "      <td>False</td>\n",
       "      <td>False</td>\n",
       "      <td>0.109580</td>\n",
       "      <td>0.110068</td>\n",
       "      <td>0.443315</td>\n",
       "    </tr>\n",
       "    <tr>\n",
       "      <th>ABCA6</th>\n",
       "      <td>True</td>\n",
       "      <td>False</td>\n",
       "      <td>True</td>\n",
       "      <td>False</td>\n",
       "      <td>True</td>\n",
       "      <td>False</td>\n",
       "      <td>0.189934</td>\n",
       "      <td>0.050592</td>\n",
       "      <td>0.536541</td>\n",
       "    </tr>\n",
       "    <tr>\n",
       "      <th>ABCC3</th>\n",
       "      <td>True</td>\n",
       "      <td>False</td>\n",
       "      <td>False</td>\n",
       "      <td>False</td>\n",
       "      <td>False</td>\n",
       "      <td>True</td>\n",
       "      <td>0.088957</td>\n",
       "      <td>0.053941</td>\n",
       "      <td>0.373502</td>\n",
       "    </tr>\n",
       "    <tr>\n",
       "      <th>ABHD14A</th>\n",
       "      <td>False</td>\n",
       "      <td>False</td>\n",
       "      <td>False</td>\n",
       "      <td>False</td>\n",
       "      <td>False</td>\n",
       "      <td>True</td>\n",
       "      <td>0.082554</td>\n",
       "      <td>0.012871</td>\n",
       "      <td>0.367407</td>\n",
       "    </tr>\n",
       "    <tr>\n",
       "      <th>...</th>\n",
       "      <th>...</th>\n",
       "      <td>...</td>\n",
       "      <td>...</td>\n",
       "      <td>...</td>\n",
       "      <td>...</td>\n",
       "      <td>...</td>\n",
       "      <td>...</td>\n",
       "      <td>...</td>\n",
       "      <td>...</td>\n",
       "      <td>...</td>\n",
       "    </tr>\n",
       "    <tr>\n",
       "      <th rowspan=\"5\" valign=\"top\">ZYX</th>\n",
       "      <th>ZNF703</th>\n",
       "      <td>False</td>\n",
       "      <td>False</td>\n",
       "      <td>True</td>\n",
       "      <td>False</td>\n",
       "      <td>True</td>\n",
       "      <td>False</td>\n",
       "      <td>0.159615</td>\n",
       "      <td>0.035755</td>\n",
       "      <td>0.497143</td>\n",
       "    </tr>\n",
       "    <tr>\n",
       "      <th>ZNF708</th>\n",
       "      <td>True</td>\n",
       "      <td>False</td>\n",
       "      <td>False</td>\n",
       "      <td>True</td>\n",
       "      <td>False</td>\n",
       "      <td>True</td>\n",
       "      <td>0.084440</td>\n",
       "      <td>0.046003</td>\n",
       "      <td>0.209802</td>\n",
       "    </tr>\n",
       "    <tr>\n",
       "      <th>ZNF92</th>\n",
       "      <td>True</td>\n",
       "      <td>False</td>\n",
       "      <td>False</td>\n",
       "      <td>True</td>\n",
       "      <td>False</td>\n",
       "      <td>False</td>\n",
       "      <td>0.097004</td>\n",
       "      <td>0.066255</td>\n",
       "      <td>0.212738</td>\n",
       "    </tr>\n",
       "    <tr>\n",
       "      <th>ZNFX1</th>\n",
       "      <td>True</td>\n",
       "      <td>False</td>\n",
       "      <td>True</td>\n",
       "      <td>False</td>\n",
       "      <td>False</td>\n",
       "      <td>False</td>\n",
       "      <td>0.131054</td>\n",
       "      <td>0.148579</td>\n",
       "      <td>0.512701</td>\n",
       "    </tr>\n",
       "    <tr>\n",
       "      <th>ZW10</th>\n",
       "      <td>False</td>\n",
       "      <td>False</td>\n",
       "      <td>False</td>\n",
       "      <td>False</td>\n",
       "      <td>False</td>\n",
       "      <td>False</td>\n",
       "      <td>0.121611</td>\n",
       "      <td>0.023487</td>\n",
       "      <td>0.328598</td>\n",
       "    </tr>\n",
       "  </tbody>\n",
       "</table>\n",
       "<p>22777875 rows × 9 columns</p>\n",
       "</div>"
      ],
      "text/plain": [
       "             pearson_higher  pearson_lower  spearman_higher  spearman_lower  \\\n",
       "A2M AATK              False          False             True           False   \n",
       "    ABCA1              True          False             True           False   \n",
       "    ABCA6              True          False             True           False   \n",
       "    ABCC3              True          False            False           False   \n",
       "    ABHD14A           False          False            False           False   \n",
       "...                     ...            ...              ...             ...   \n",
       "ZYX ZNF703            False          False             True           False   \n",
       "    ZNF708             True          False            False            True   \n",
       "    ZNF92              True          False            False            True   \n",
       "    ZNFX1              True          False             True           False   \n",
       "    ZW10              False          False            False           False   \n",
       "\n",
       "             clustermatch_higher  clustermatch_lower  clustermatch   pearson  \\\n",
       "A2M AATK                   False               False      0.134712  0.032274   \n",
       "    ABCA1                  False               False      0.109580  0.110068   \n",
       "    ABCA6                   True               False      0.189934  0.050592   \n",
       "    ABCC3                  False                True      0.088957  0.053941   \n",
       "    ABHD14A                False                True      0.082554  0.012871   \n",
       "...                          ...                 ...           ...       ...   \n",
       "ZYX ZNF703                  True               False      0.159615  0.035755   \n",
       "    ZNF708                 False                True      0.084440  0.046003   \n",
       "    ZNF92                  False               False      0.097004  0.066255   \n",
       "    ZNFX1                  False               False      0.131054  0.148579   \n",
       "    ZW10                   False               False      0.121611  0.023487   \n",
       "\n",
       "             spearman  \n",
       "A2M AATK     0.504520  \n",
       "    ABCA1    0.443315  \n",
       "    ABCA6    0.536541  \n",
       "    ABCC3    0.373502  \n",
       "    ABHD14A  0.367407  \n",
       "...               ...  \n",
       "ZYX ZNF703   0.497143  \n",
       "    ZNF708   0.209802  \n",
       "    ZNF92    0.212738  \n",
       "    ZNFX1    0.512701  \n",
       "    ZW10     0.328598  \n",
       "\n",
       "[22777875 rows x 9 columns]"
      ]
     },
     "execution_count": 27,
     "metadata": {},
     "output_type": "execute_result"
    }
   ],
   "source": [
    "df_plot"
   ]
  },
  {
   "cell_type": "code",
   "execution_count": 28,
   "id": "97ee6d16-09e4-4d3b-80e1-41cccfb7ba5b",
   "metadata": {},
   "outputs": [],
   "source": [
    "assert not df_plot.isna().any().any()"
   ]
  },
  {
   "cell_type": "code",
   "execution_count": 29,
   "id": "0f2182f1-7b78-443e-9b72-5bb83f23a89b",
   "metadata": {},
   "outputs": [],
   "source": [
    "df_plot = df_plot.rename(\n",
    "    columns={\n",
    "        \"pearson_higher\": \"Pearson (high)\",\n",
    "        \"pearson_lower\": \"Pearson (low)\",\n",
    "        \"spearman_higher\": \"Spearman (high)\",\n",
    "        \"spearman_lower\": \"Spearman (low)\",\n",
    "        \"clustermatch_higher\": \"Clustermatch (high)\",\n",
    "        \"clustermatch_lower\": \"Clustermatch (low)\",\n",
    "    }\n",
    ")"
   ]
  },
  {
   "cell_type": "code",
   "execution_count": 30,
   "id": "49db6735-8369-4c12-8a1a-c22c91cafcb2",
   "metadata": {},
   "outputs": [],
   "source": [
    "categories = sorted(\n",
    "    [x for x in df_plot.columns if \" (\" in x],\n",
    "    reverse=True,\n",
    "    key=lambda x: x.split(\" (\")[1] + \" (\" + x.split(\" (\")[0],\n",
    ")"
   ]
  },
  {
   "cell_type": "code",
   "execution_count": 31,
   "id": "b842b23d-11ea-444c-88c1-ec3cc3e1a58a",
   "metadata": {},
   "outputs": [
    {
     "data": {
      "text/plain": [
       "['Spearman (low)',\n",
       " 'Pearson (low)',\n",
       " 'Clustermatch (low)',\n",
       " 'Spearman (high)',\n",
       " 'Pearson (high)',\n",
       " 'Clustermatch (high)']"
      ]
     },
     "execution_count": 31,
     "metadata": {},
     "output_type": "execute_result"
    }
   ],
   "source": [
    "categories"
   ]
  },
  {
   "cell_type": "markdown",
   "id": "e0d69585-80a1-48cc-b7b9-3c63bb120b87",
   "metadata": {},
   "source": [
    "## All subsets (original full plot)"
   ]
  },
  {
   "cell_type": "code",
   "execution_count": 32,
   "id": "0ad38eb1-66cf-404a-880e-095718d6f26e",
   "metadata": {},
   "outputs": [],
   "source": [
    "df_r_data = df_plot"
   ]
  },
  {
   "cell_type": "code",
   "execution_count": 33,
   "id": "3c5147ec-e0e0-42c5-a6ad-f634ade88ed4",
   "metadata": {},
   "outputs": [
    {
     "data": {
      "text/plain": [
       "(22777875, 9)"
      ]
     },
     "execution_count": 33,
     "metadata": {},
     "output_type": "execute_result"
    }
   ],
   "source": [
    "df_r_data.shape"
   ]
  },
  {
   "cell_type": "code",
   "execution_count": 34,
   "id": "d1a63eb4-beeb-4747-922e-d852eeadf50f",
   "metadata": {},
   "outputs": [],
   "source": [
    "gene_pairs_by_cats = from_indicators(categories, data=df_r_data)"
   ]
  },
  {
   "cell_type": "code",
   "execution_count": 35,
   "id": "b60440f2-65d0-4e97-8db5-7f5f99a9beb0",
   "metadata": {},
   "outputs": [
    {
     "data": {
      "text/html": [
       "<div>\n",
       "<style scoped>\n",
       "    .dataframe tbody tr th:only-of-type {\n",
       "        vertical-align: middle;\n",
       "    }\n",
       "\n",
       "    .dataframe tbody tr th {\n",
       "        vertical-align: top;\n",
       "    }\n",
       "\n",
       "    .dataframe thead th {\n",
       "        text-align: right;\n",
       "    }\n",
       "</style>\n",
       "<table border=\"1\" class=\"dataframe\">\n",
       "  <thead>\n",
       "    <tr style=\"text-align: right;\">\n",
       "      <th></th>\n",
       "      <th></th>\n",
       "      <th></th>\n",
       "      <th></th>\n",
       "      <th></th>\n",
       "      <th></th>\n",
       "      <th>Pearson (high)</th>\n",
       "      <th>Pearson (low)</th>\n",
       "      <th>Spearman (high)</th>\n",
       "      <th>Spearman (low)</th>\n",
       "      <th>Clustermatch (high)</th>\n",
       "      <th>Clustermatch (low)</th>\n",
       "      <th>clustermatch</th>\n",
       "      <th>pearson</th>\n",
       "      <th>spearman</th>\n",
       "    </tr>\n",
       "    <tr>\n",
       "      <th>Spearman (low)</th>\n",
       "      <th>Pearson (low)</th>\n",
       "      <th>Clustermatch (low)</th>\n",
       "      <th>Spearman (high)</th>\n",
       "      <th>Pearson (high)</th>\n",
       "      <th>Clustermatch (high)</th>\n",
       "      <th></th>\n",
       "      <th></th>\n",
       "      <th></th>\n",
       "      <th></th>\n",
       "      <th></th>\n",
       "      <th></th>\n",
       "      <th></th>\n",
       "      <th></th>\n",
       "      <th></th>\n",
       "    </tr>\n",
       "  </thead>\n",
       "  <tbody>\n",
       "    <tr>\n",
       "      <th rowspan=\"7\" valign=\"top\">False</th>\n",
       "      <th rowspan=\"7\" valign=\"top\">False</th>\n",
       "      <th rowspan=\"3\" valign=\"top\">False</th>\n",
       "      <th rowspan=\"3\" valign=\"top\">True</th>\n",
       "      <th>False</th>\n",
       "      <th>False</th>\n",
       "      <td>False</td>\n",
       "      <td>False</td>\n",
       "      <td>True</td>\n",
       "      <td>False</td>\n",
       "      <td>False</td>\n",
       "      <td>False</td>\n",
       "      <td>0.134712</td>\n",
       "      <td>0.032274</td>\n",
       "      <td>0.504520</td>\n",
       "    </tr>\n",
       "    <tr>\n",
       "      <th rowspan=\"2\" valign=\"top\">True</th>\n",
       "      <th>False</th>\n",
       "      <td>True</td>\n",
       "      <td>False</td>\n",
       "      <td>True</td>\n",
       "      <td>False</td>\n",
       "      <td>False</td>\n",
       "      <td>False</td>\n",
       "      <td>0.109580</td>\n",
       "      <td>0.110068</td>\n",
       "      <td>0.443315</td>\n",
       "    </tr>\n",
       "    <tr>\n",
       "      <th>True</th>\n",
       "      <td>True</td>\n",
       "      <td>False</td>\n",
       "      <td>True</td>\n",
       "      <td>False</td>\n",
       "      <td>True</td>\n",
       "      <td>False</td>\n",
       "      <td>0.189934</td>\n",
       "      <td>0.050592</td>\n",
       "      <td>0.536541</td>\n",
       "    </tr>\n",
       "    <tr>\n",
       "      <th rowspan=\"2\" valign=\"top\">True</th>\n",
       "      <th rowspan=\"2\" valign=\"top\">False</th>\n",
       "      <th>True</th>\n",
       "      <th>False</th>\n",
       "      <td>True</td>\n",
       "      <td>False</td>\n",
       "      <td>False</td>\n",
       "      <td>False</td>\n",
       "      <td>False</td>\n",
       "      <td>True</td>\n",
       "      <td>0.088957</td>\n",
       "      <td>0.053941</td>\n",
       "      <td>0.373502</td>\n",
       "    </tr>\n",
       "    <tr>\n",
       "      <th>False</th>\n",
       "      <th>False</th>\n",
       "      <td>False</td>\n",
       "      <td>False</td>\n",
       "      <td>False</td>\n",
       "      <td>False</td>\n",
       "      <td>False</td>\n",
       "      <td>True</td>\n",
       "      <td>0.082554</td>\n",
       "      <td>0.012871</td>\n",
       "      <td>0.367407</td>\n",
       "    </tr>\n",
       "    <tr>\n",
       "      <th>...</th>\n",
       "      <th>...</th>\n",
       "      <th>...</th>\n",
       "      <th>...</th>\n",
       "      <td>...</td>\n",
       "      <td>...</td>\n",
       "      <td>...</td>\n",
       "      <td>...</td>\n",
       "      <td>...</td>\n",
       "      <td>...</td>\n",
       "      <td>...</td>\n",
       "      <td>...</td>\n",
       "      <td>...</td>\n",
       "    </tr>\n",
       "    <tr>\n",
       "      <th>False</th>\n",
       "      <th>True</th>\n",
       "      <th>False</th>\n",
       "      <th>True</th>\n",
       "      <td>False</td>\n",
       "      <td>False</td>\n",
       "      <td>True</td>\n",
       "      <td>False</td>\n",
       "      <td>True</td>\n",
       "      <td>False</td>\n",
       "      <td>0.159615</td>\n",
       "      <td>0.035755</td>\n",
       "      <td>0.497143</td>\n",
       "    </tr>\n",
       "    <tr>\n",
       "      <th rowspan=\"2\" valign=\"top\">True</th>\n",
       "      <th rowspan=\"2\" valign=\"top\">False</th>\n",
       "      <th>True</th>\n",
       "      <th>False</th>\n",
       "      <th>True</th>\n",
       "      <th>False</th>\n",
       "      <td>True</td>\n",
       "      <td>False</td>\n",
       "      <td>False</td>\n",
       "      <td>True</td>\n",
       "      <td>False</td>\n",
       "      <td>True</td>\n",
       "      <td>0.084440</td>\n",
       "      <td>0.046003</td>\n",
       "      <td>0.209802</td>\n",
       "    </tr>\n",
       "    <tr>\n",
       "      <th>False</th>\n",
       "      <th>False</th>\n",
       "      <th>True</th>\n",
       "      <th>False</th>\n",
       "      <td>True</td>\n",
       "      <td>False</td>\n",
       "      <td>False</td>\n",
       "      <td>True</td>\n",
       "      <td>False</td>\n",
       "      <td>False</td>\n",
       "      <td>0.097004</td>\n",
       "      <td>0.066255</td>\n",
       "      <td>0.212738</td>\n",
       "    </tr>\n",
       "    <tr>\n",
       "      <th rowspan=\"2\" valign=\"top\">False</th>\n",
       "      <th rowspan=\"2\" valign=\"top\">False</th>\n",
       "      <th rowspan=\"2\" valign=\"top\">False</th>\n",
       "      <th>True</th>\n",
       "      <th>True</th>\n",
       "      <th>False</th>\n",
       "      <td>True</td>\n",
       "      <td>False</td>\n",
       "      <td>True</td>\n",
       "      <td>False</td>\n",
       "      <td>False</td>\n",
       "      <td>False</td>\n",
       "      <td>0.131054</td>\n",
       "      <td>0.148579</td>\n",
       "      <td>0.512701</td>\n",
       "    </tr>\n",
       "    <tr>\n",
       "      <th>False</th>\n",
       "      <th>False</th>\n",
       "      <th>False</th>\n",
       "      <td>False</td>\n",
       "      <td>False</td>\n",
       "      <td>False</td>\n",
       "      <td>False</td>\n",
       "      <td>False</td>\n",
       "      <td>False</td>\n",
       "      <td>0.121611</td>\n",
       "      <td>0.023487</td>\n",
       "      <td>0.328598</td>\n",
       "    </tr>\n",
       "  </tbody>\n",
       "</table>\n",
       "<p>22777875 rows × 9 columns</p>\n",
       "</div>"
      ],
      "text/plain": [
       "                                                                                                    Pearson (high)  \\\n",
       "Spearman (low) Pearson (low) Clustermatch (low) Spearman (high) Pearson (high) Clustermatch (high)                   \n",
       "False          False         False              True            False          False                         False   \n",
       "                                                                True           False                          True   \n",
       "                                                                               True                           True   \n",
       "                             True               False           True           False                          True   \n",
       "                                                                False          False                         False   \n",
       "...                                                                                                            ...   \n",
       "                             False              True            False          True                          False   \n",
       "True           False         True               False           True           False                          True   \n",
       "                             False              False           True           False                          True   \n",
       "False          False         False              True            True           False                          True   \n",
       "                                                False           False          False                         False   \n",
       "\n",
       "                                                                                                    Pearson (low)  \\\n",
       "Spearman (low) Pearson (low) Clustermatch (low) Spearman (high) Pearson (high) Clustermatch (high)                  \n",
       "False          False         False              True            False          False                        False   \n",
       "                                                                True           False                        False   \n",
       "                                                                               True                         False   \n",
       "                             True               False           True           False                        False   \n",
       "                                                                False          False                        False   \n",
       "...                                                                                                           ...   \n",
       "                             False              True            False          True                         False   \n",
       "True           False         True               False           True           False                        False   \n",
       "                             False              False           True           False                        False   \n",
       "False          False         False              True            True           False                        False   \n",
       "                                                False           False          False                        False   \n",
       "\n",
       "                                                                                                    Spearman (high)  \\\n",
       "Spearman (low) Pearson (low) Clustermatch (low) Spearman (high) Pearson (high) Clustermatch (high)                    \n",
       "False          False         False              True            False          False                           True   \n",
       "                                                                True           False                           True   \n",
       "                                                                               True                            True   \n",
       "                             True               False           True           False                          False   \n",
       "                                                                False          False                          False   \n",
       "...                                                                                                             ...   \n",
       "                             False              True            False          True                            True   \n",
       "True           False         True               False           True           False                          False   \n",
       "                             False              False           True           False                          False   \n",
       "False          False         False              True            True           False                           True   \n",
       "                                                False           False          False                          False   \n",
       "\n",
       "                                                                                                    Spearman (low)  \\\n",
       "Spearman (low) Pearson (low) Clustermatch (low) Spearman (high) Pearson (high) Clustermatch (high)                   \n",
       "False          False         False              True            False          False                         False   \n",
       "                                                                True           False                         False   \n",
       "                                                                               True                          False   \n",
       "                             True               False           True           False                         False   \n",
       "                                                                False          False                         False   \n",
       "...                                                                                                            ...   \n",
       "                             False              True            False          True                          False   \n",
       "True           False         True               False           True           False                          True   \n",
       "                             False              False           True           False                          True   \n",
       "False          False         False              True            True           False                         False   \n",
       "                                                False           False          False                         False   \n",
       "\n",
       "                                                                                                    Clustermatch (high)  \\\n",
       "Spearman (low) Pearson (low) Clustermatch (low) Spearman (high) Pearson (high) Clustermatch (high)                        \n",
       "False          False         False              True            False          False                              False   \n",
       "                                                                True           False                              False   \n",
       "                                                                               True                                True   \n",
       "                             True               False           True           False                              False   \n",
       "                                                                False          False                              False   \n",
       "...                                                                                                                 ...   \n",
       "                             False              True            False          True                                True   \n",
       "True           False         True               False           True           False                              False   \n",
       "                             False              False           True           False                              False   \n",
       "False          False         False              True            True           False                              False   \n",
       "                                                False           False          False                              False   \n",
       "\n",
       "                                                                                                    Clustermatch (low)  \\\n",
       "Spearman (low) Pearson (low) Clustermatch (low) Spearman (high) Pearson (high) Clustermatch (high)                       \n",
       "False          False         False              True            False          False                             False   \n",
       "                                                                True           False                             False   \n",
       "                                                                               True                              False   \n",
       "                             True               False           True           False                              True   \n",
       "                                                                False          False                              True   \n",
       "...                                                                                                                ...   \n",
       "                             False              True            False          True                              False   \n",
       "True           False         True               False           True           False                              True   \n",
       "                             False              False           True           False                             False   \n",
       "False          False         False              True            True           False                             False   \n",
       "                                                False           False          False                             False   \n",
       "\n",
       "                                                                                                    clustermatch  \\\n",
       "Spearman (low) Pearson (low) Clustermatch (low) Spearman (high) Pearson (high) Clustermatch (high)                 \n",
       "False          False         False              True            False          False                    0.134712   \n",
       "                                                                True           False                    0.109580   \n",
       "                                                                               True                     0.189934   \n",
       "                             True               False           True           False                    0.088957   \n",
       "                                                                False          False                    0.082554   \n",
       "...                                                                                                          ...   \n",
       "                             False              True            False          True                     0.159615   \n",
       "True           False         True               False           True           False                    0.084440   \n",
       "                             False              False           True           False                    0.097004   \n",
       "False          False         False              True            True           False                    0.131054   \n",
       "                                                False           False          False                    0.121611   \n",
       "\n",
       "                                                                                                     pearson  \\\n",
       "Spearman (low) Pearson (low) Clustermatch (low) Spearman (high) Pearson (high) Clustermatch (high)             \n",
       "False          False         False              True            False          False                0.032274   \n",
       "                                                                True           False                0.110068   \n",
       "                                                                               True                 0.050592   \n",
       "                             True               False           True           False                0.053941   \n",
       "                                                                False          False                0.012871   \n",
       "...                                                                                                      ...   \n",
       "                             False              True            False          True                 0.035755   \n",
       "True           False         True               False           True           False                0.046003   \n",
       "                             False              False           True           False                0.066255   \n",
       "False          False         False              True            True           False                0.148579   \n",
       "                                                False           False          False                0.023487   \n",
       "\n",
       "                                                                                                    spearman  \n",
       "Spearman (low) Pearson (low) Clustermatch (low) Spearman (high) Pearson (high) Clustermatch (high)            \n",
       "False          False         False              True            False          False                0.504520  \n",
       "                                                                True           False                0.443315  \n",
       "                                                                               True                 0.536541  \n",
       "                             True               False           True           False                0.373502  \n",
       "                                                                False          False                0.367407  \n",
       "...                                                                                                      ...  \n",
       "                             False              True            False          True                 0.497143  \n",
       "True           False         True               False           True           False                0.209802  \n",
       "                             False              False           True           False                0.212738  \n",
       "False          False         False              True            True           False                0.512701  \n",
       "                                                False           False          False                0.328598  \n",
       "\n",
       "[22777875 rows x 9 columns]"
      ]
     },
     "execution_count": 35,
     "metadata": {},
     "output_type": "execute_result"
    }
   ],
   "source": [
    "gene_pairs_by_cats"
   ]
  },
  {
   "cell_type": "code",
   "execution_count": 36,
   "id": "953e9835-d94f-4e97-855d-2af93f41fd1f",
   "metadata": {},
   "outputs": [
    {
     "data": {
      "image/png": "[encoded data removed]",
      "text/plain": [
       "<Figure size 1296x360 with 4 Axes>"
      ]
     },
     "metadata": {
      "needs_background": "light"
     },
     "output_type": "display_data"
    }
   ],
   "source": [
    "fig = plt.figure(figsize=(18, 5))\n",
    "\n",
    "g = plot(\n",
    "    gene_pairs_by_cats,\n",
    "    show_counts=True,\n",
    "    sort_categories_by=None,\n",
    "    element_size=None,\n",
    "    fig=fig,\n",
    ")"
   ]
  },
  {
   "cell_type": "markdown",
   "id": "4dc34b5d-ebed-4414-aa62-4fbcb8390032",
   "metadata": {},
   "source": [
    "## Remove subsets of size one"
   ]
  },
  {
   "cell_type": "markdown",
   "id": "bc4f0336-ae08-473c-b7ac-95b1587b6caa",
   "metadata": {},
   "source": [
    "I leave this part commented out just in case it is useful in the future."
   ]
  },
  {
   "cell_type": "code",
   "execution_count": 37,
   "id": "379fee01-2569-41c1-a806-fa74f93d10cf",
   "metadata": {},
   "outputs": [],
   "source": [
    "# # remove cases that are found only in one group\n",
    "# df_r_data = df_plot[df_plot[categories].sum(axis=1) > 1]\n",
    "# display(df_r_data.shape)"
   ]
  },
  {
   "cell_type": "code",
   "execution_count": 38,
   "id": "cd399b2a-1d45-4f2e-b283-e2f74aa340bc",
   "metadata": {},
   "outputs": [],
   "source": [
    "# df_r_data.shape"
   ]
  },
  {
   "cell_type": "code",
   "execution_count": 39,
   "id": "51975bc4-6411-40ee-b603-f989afd07b09",
   "metadata": {},
   "outputs": [],
   "source": [
    "# gene_pairs_by_cats = from_indicators(categories, data=df_r_data)"
   ]
  },
  {
   "cell_type": "code",
   "execution_count": 40,
   "id": "5ae8027c-3734-4d8a-a64b-e04600afea60",
   "metadata": {},
   "outputs": [],
   "source": [
    "# fig = plt.figure(figsize=(15, 5))\n",
    "\n",
    "# g = plot(\n",
    "#     gene_pairs_by_cats,\n",
    "#     show_counts=True,\n",
    "#     sort_categories_by=None,\n",
    "#     element_size=None,\n",
    "#     fig=fig,\n",
    "# )\n",
    "\n",
    "# g[\"totals\"].set_visible(False)"
   ]
  },
  {
   "cell_type": "markdown",
   "id": "a2b42afd-6f22-41fc-9276-27a9403bc3bf",
   "metadata": {},
   "source": [
    "## Remove non-interesting subsets"
   ]
  },
  {
   "cell_type": "markdown",
   "id": "24fc94ef-8209-4ebd-b370-0137e92ae882",
   "metadata": {},
   "source": [
    "I leave this part commented out just in case it is useful in the future."
   ]
  },
  {
   "cell_type": "code",
   "execution_count": 41,
   "id": "f2414a0e-638a-4a07-866e-4c86827ac3ea",
   "metadata": {},
   "outputs": [],
   "source": [
    "# lower_columns = [x for x in categories if x.endswith(\"_lower\")]\n",
    "# display(lower_columns)\n",
    "\n",
    "# higher_columns = [x for x in categories if x.endswith(\"_higher\")]\n",
    "# display(higher_columns)"
   ]
  },
  {
   "cell_type": "code",
   "execution_count": 42,
   "id": "82a93cc9-c90f-467f-b885-3305bb1d559e",
   "metadata": {},
   "outputs": [],
   "source": [
    "# df_r_data = df_plot[\n",
    "#     (df_plot[categories].sum(axis=1) > 1)\n",
    "#     & ~(\n",
    "#         (df_plot[lower_columns].sum(axis=1).isin((0, 3)))\n",
    "#         & (df_plot[higher_columns].sum(axis=1).isin((0, 3)))\n",
    "#     )\n",
    "# ]"
   ]
  },
  {
   "cell_type": "code",
   "execution_count": 43,
   "id": "861b5c63-ffb3-43bc-8ad3-d2c0f33f7089",
   "metadata": {},
   "outputs": [],
   "source": [
    "# df_r_data.shape"
   ]
  },
  {
   "cell_type": "code",
   "execution_count": 44,
   "id": "bc19f89a-8850-46ef-a706-d8bf4b18f8b2",
   "metadata": {},
   "outputs": [],
   "source": [
    "# gene_pairs_by_cats = from_indicators(categories, data=df_r_data)"
   ]
  },
  {
   "cell_type": "code",
   "execution_count": 45,
   "id": "92de5bde-bf73-4a5f-bb0f-d37d5ca42f0d",
   "metadata": {},
   "outputs": [],
   "source": [
    "# fig = plt.figure(figsize=(17, 5))\n",
    "\n",
    "# g = plot(\n",
    "#     gene_pairs_by_cats,\n",
    "#     show_counts=True,\n",
    "#     sort_categories_by=None,\n",
    "#     element_size=None,\n",
    "#     fig=fig,\n",
    "# )\n",
    "\n",
    "# g[\"totals\"].set_visible(False)"
   ]
  },
  {
   "cell_type": "markdown",
   "id": "bcba1e8c-eb11-43be-9e8d-3b3e511bc5c0",
   "metadata": {},
   "source": [
    "## Sort by categories of subsets"
   ]
  },
  {
   "cell_type": "code",
   "execution_count": 46,
   "id": "6b7a5b4c-fcee-4a2f-ab87-d3ae46ba3ea6",
   "metadata": {},
   "outputs": [],
   "source": [
    "df_r_data = df_plot"
   ]
  },
  {
   "cell_type": "code",
   "execution_count": 47,
   "id": "242ff72e-3ec8-41ec-a11a-7b2e80217399",
   "metadata": {},
   "outputs": [
    {
     "data": {
      "text/plain": [
       "(22777875, 9)"
      ]
     },
     "execution_count": 47,
     "metadata": {},
     "output_type": "execute_result"
    }
   ],
   "source": [
    "df_r_data.shape"
   ]
  },
  {
   "cell_type": "code",
   "execution_count": 48,
   "id": "95fa3efe-10d6-401d-8038-92b5c7c4a503",
   "metadata": {},
   "outputs": [],
   "source": [
    "gene_pairs_by_cats = from_indicators(categories, data=df_r_data)"
   ]
  },
  {
   "cell_type": "code",
   "execution_count": 49,
   "id": "526dbc50-67d5-4721-aa5c-dd2c62f74c8d",
   "metadata": {},
   "outputs": [
    {
     "data": {
      "text/html": [
       "<div>\n",
       "<style scoped>\n",
       "    .dataframe tbody tr th:only-of-type {\n",
       "        vertical-align: middle;\n",
       "    }\n",
       "\n",
       "    .dataframe tbody tr th {\n",
       "        vertical-align: top;\n",
       "    }\n",
       "\n",
       "    .dataframe thead th {\n",
       "        text-align: right;\n",
       "    }\n",
       "</style>\n",
       "<table border=\"1\" class=\"dataframe\">\n",
       "  <thead>\n",
       "    <tr style=\"text-align: right;\">\n",
       "      <th></th>\n",
       "      <th></th>\n",
       "      <th></th>\n",
       "      <th></th>\n",
       "      <th></th>\n",
       "      <th></th>\n",
       "      <th>Pearson (high)</th>\n",
       "      <th>Pearson (low)</th>\n",
       "      <th>Spearman (high)</th>\n",
       "      <th>Spearman (low)</th>\n",
       "      <th>Clustermatch (high)</th>\n",
       "      <th>Clustermatch (low)</th>\n",
       "      <th>clustermatch</th>\n",
       "      <th>pearson</th>\n",
       "      <th>spearman</th>\n",
       "    </tr>\n",
       "    <tr>\n",
       "      <th>Spearman (low)</th>\n",
       "      <th>Pearson (low)</th>\n",
       "      <th>Clustermatch (low)</th>\n",
       "      <th>Spearman (high)</th>\n",
       "      <th>Pearson (high)</th>\n",
       "      <th>Clustermatch (high)</th>\n",
       "      <th></th>\n",
       "      <th></th>\n",
       "      <th></th>\n",
       "      <th></th>\n",
       "      <th></th>\n",
       "      <th></th>\n",
       "      <th></th>\n",
       "      <th></th>\n",
       "      <th></th>\n",
       "    </tr>\n",
       "  </thead>\n",
       "  <tbody>\n",
       "    <tr>\n",
       "      <th rowspan=\"7\" valign=\"top\">False</th>\n",
       "      <th rowspan=\"7\" valign=\"top\">False</th>\n",
       "      <th rowspan=\"3\" valign=\"top\">False</th>\n",
       "      <th rowspan=\"3\" valign=\"top\">True</th>\n",
       "      <th>False</th>\n",
       "      <th>False</th>\n",
       "      <td>False</td>\n",
       "      <td>False</td>\n",
       "      <td>True</td>\n",
       "      <td>False</td>\n",
       "      <td>False</td>\n",
       "      <td>False</td>\n",
       "      <td>0.134712</td>\n",
       "      <td>0.032274</td>\n",
       "      <td>0.504520</td>\n",
       "    </tr>\n",
       "    <tr>\n",
       "      <th rowspan=\"2\" valign=\"top\">True</th>\n",
       "      <th>False</th>\n",
       "      <td>True</td>\n",
       "      <td>False</td>\n",
       "      <td>True</td>\n",
       "      <td>False</td>\n",
       "      <td>False</td>\n",
       "      <td>False</td>\n",
       "      <td>0.109580</td>\n",
       "      <td>0.110068</td>\n",
       "      <td>0.443315</td>\n",
       "    </tr>\n",
       "    <tr>\n",
       "      <th>True</th>\n",
       "      <td>True</td>\n",
       "      <td>False</td>\n",
       "      <td>True</td>\n",
       "      <td>False</td>\n",
       "      <td>True</td>\n",
       "      <td>False</td>\n",
       "      <td>0.189934</td>\n",
       "      <td>0.050592</td>\n",
       "      <td>0.536541</td>\n",
       "    </tr>\n",
       "    <tr>\n",
       "      <th rowspan=\"2\" valign=\"top\">True</th>\n",
       "      <th rowspan=\"2\" valign=\"top\">False</th>\n",
       "      <th>True</th>\n",
       "      <th>False</th>\n",
       "      <td>True</td>\n",
       "      <td>False</td>\n",
       "      <td>False</td>\n",
       "      <td>False</td>\n",
       "      <td>False</td>\n",
       "      <td>True</td>\n",
       "      <td>0.088957</td>\n",
       "      <td>0.053941</td>\n",
       "      <td>0.373502</td>\n",
       "    </tr>\n",
       "    <tr>\n",
       "      <th>False</th>\n",
       "      <th>False</th>\n",
       "      <td>False</td>\n",
       "      <td>False</td>\n",
       "      <td>False</td>\n",
       "      <td>False</td>\n",
       "      <td>False</td>\n",
       "      <td>True</td>\n",
       "      <td>0.082554</td>\n",
       "      <td>0.012871</td>\n",
       "      <td>0.367407</td>\n",
       "    </tr>\n",
       "    <tr>\n",
       "      <th>...</th>\n",
       "      <th>...</th>\n",
       "      <th>...</th>\n",
       "      <th>...</th>\n",
       "      <td>...</td>\n",
       "      <td>...</td>\n",
       "      <td>...</td>\n",
       "      <td>...</td>\n",
       "      <td>...</td>\n",
       "      <td>...</td>\n",
       "      <td>...</td>\n",
       "      <td>...</td>\n",
       "      <td>...</td>\n",
       "    </tr>\n",
       "    <tr>\n",
       "      <th>False</th>\n",
       "      <th>True</th>\n",
       "      <th>False</th>\n",
       "      <th>True</th>\n",
       "      <td>False</td>\n",
       "      <td>False</td>\n",
       "      <td>True</td>\n",
       "      <td>False</td>\n",
       "      <td>True</td>\n",
       "      <td>False</td>\n",
       "      <td>0.159615</td>\n",
       "      <td>0.035755</td>\n",
       "      <td>0.497143</td>\n",
       "    </tr>\n",
       "    <tr>\n",
       "      <th rowspan=\"2\" valign=\"top\">True</th>\n",
       "      <th rowspan=\"2\" valign=\"top\">False</th>\n",
       "      <th>True</th>\n",
       "      <th>False</th>\n",
       "      <th>True</th>\n",
       "      <th>False</th>\n",
       "      <td>True</td>\n",
       "      <td>False</td>\n",
       "      <td>False</td>\n",
       "      <td>True</td>\n",
       "      <td>False</td>\n",
       "      <td>True</td>\n",
       "      <td>0.084440</td>\n",
       "      <td>0.046003</td>\n",
       "      <td>0.209802</td>\n",
       "    </tr>\n",
       "    <tr>\n",
       "      <th>False</th>\n",
       "      <th>False</th>\n",
       "      <th>True</th>\n",
       "      <th>False</th>\n",
       "      <td>True</td>\n",
       "      <td>False</td>\n",
       "      <td>False</td>\n",
       "      <td>True</td>\n",
       "      <td>False</td>\n",
       "      <td>False</td>\n",
       "      <td>0.097004</td>\n",
       "      <td>0.066255</td>\n",
       "      <td>0.212738</td>\n",
       "    </tr>\n",
       "    <tr>\n",
       "      <th rowspan=\"2\" valign=\"top\">False</th>\n",
       "      <th rowspan=\"2\" valign=\"top\">False</th>\n",
       "      <th rowspan=\"2\" valign=\"top\">False</th>\n",
       "      <th>True</th>\n",
       "      <th>True</th>\n",
       "      <th>False</th>\n",
       "      <td>True</td>\n",
       "      <td>False</td>\n",
       "      <td>True</td>\n",
       "      <td>False</td>\n",
       "      <td>False</td>\n",
       "      <td>False</td>\n",
       "      <td>0.131054</td>\n",
       "      <td>0.148579</td>\n",
       "      <td>0.512701</td>\n",
       "    </tr>\n",
       "    <tr>\n",
       "      <th>False</th>\n",
       "      <th>False</th>\n",
       "      <th>False</th>\n",
       "      <td>False</td>\n",
       "      <td>False</td>\n",
       "      <td>False</td>\n",
       "      <td>False</td>\n",
       "      <td>False</td>\n",
       "      <td>False</td>\n",
       "      <td>0.121611</td>\n",
       "      <td>0.023487</td>\n",
       "      <td>0.328598</td>\n",
       "    </tr>\n",
       "  </tbody>\n",
       "</table>\n",
       "<p>22777875 rows × 9 columns</p>\n",
       "</div>"
      ],
      "text/plain": [
       "                                                                                                    Pearson (high)  \\\n",
       "Spearman (low) Pearson (low) Clustermatch (low) Spearman (high) Pearson (high) Clustermatch (high)                   \n",
       "False          False         False              True            False          False                         False   \n",
       "                                                                True           False                          True   \n",
       "                                                                               True                           True   \n",
       "                             True               False           True           False                          True   \n",
       "                                                                False          False                         False   \n",
       "...                                                                                                            ...   \n",
       "                             False              True            False          True                          False   \n",
       "True           False         True               False           True           False                          True   \n",
       "                             False              False           True           False                          True   \n",
       "False          False         False              True            True           False                          True   \n",
       "                                                False           False          False                         False   \n",
       "\n",
       "                                                                                                    Pearson (low)  \\\n",
       "Spearman (low) Pearson (low) Clustermatch (low) Spearman (high) Pearson (high) Clustermatch (high)                  \n",
       "False          False         False              True            False          False                        False   \n",
       "                                                                True           False                        False   \n",
       "                                                                               True                         False   \n",
       "                             True               False           True           False                        False   \n",
       "                                                                False          False                        False   \n",
       "...                                                                                                           ...   \n",
       "                             False              True            False          True                         False   \n",
       "True           False         True               False           True           False                        False   \n",
       "                             False              False           True           False                        False   \n",
       "False          False         False              True            True           False                        False   \n",
       "                                                False           False          False                        False   \n",
       "\n",
       "                                                                                                    Spearman (high)  \\\n",
       "Spearman (low) Pearson (low) Clustermatch (low) Spearman (high) Pearson (high) Clustermatch (high)                    \n",
       "False          False         False              True            False          False                           True   \n",
       "                                                                True           False                           True   \n",
       "                                                                               True                            True   \n",
       "                             True               False           True           False                          False   \n",
       "                                                                False          False                          False   \n",
       "...                                                                                                             ...   \n",
       "                             False              True            False          True                            True   \n",
       "True           False         True               False           True           False                          False   \n",
       "                             False              False           True           False                          False   \n",
       "False          False         False              True            True           False                           True   \n",
       "                                                False           False          False                          False   \n",
       "\n",
       "                                                                                                    Spearman (low)  \\\n",
       "Spearman (low) Pearson (low) Clustermatch (low) Spearman (high) Pearson (high) Clustermatch (high)                   \n",
       "False          False         False              True            False          False                         False   \n",
       "                                                                True           False                         False   \n",
       "                                                                               True                          False   \n",
       "                             True               False           True           False                         False   \n",
       "                                                                False          False                         False   \n",
       "...                                                                                                            ...   \n",
       "                             False              True            False          True                          False   \n",
       "True           False         True               False           True           False                          True   \n",
       "                             False              False           True           False                          True   \n",
       "False          False         False              True            True           False                         False   \n",
       "                                                False           False          False                         False   \n",
       "\n",
       "                                                                                                    Clustermatch (high)  \\\n",
       "Spearman (low) Pearson (low) Clustermatch (low) Spearman (high) Pearson (high) Clustermatch (high)                        \n",
       "False          False         False              True            False          False                              False   \n",
       "                                                                True           False                              False   \n",
       "                                                                               True                                True   \n",
       "                             True               False           True           False                              False   \n",
       "                                                                False          False                              False   \n",
       "...                                                                                                                 ...   \n",
       "                             False              True            False          True                                True   \n",
       "True           False         True               False           True           False                              False   \n",
       "                             False              False           True           False                              False   \n",
       "False          False         False              True            True           False                              False   \n",
       "                                                False           False          False                              False   \n",
       "\n",
       "                                                                                                    Clustermatch (low)  \\\n",
       "Spearman (low) Pearson (low) Clustermatch (low) Spearman (high) Pearson (high) Clustermatch (high)                       \n",
       "False          False         False              True            False          False                             False   \n",
       "                                                                True           False                             False   \n",
       "                                                                               True                              False   \n",
       "                             True               False           True           False                              True   \n",
       "                                                                False          False                              True   \n",
       "...                                                                                                                ...   \n",
       "                             False              True            False          True                              False   \n",
       "True           False         True               False           True           False                              True   \n",
       "                             False              False           True           False                             False   \n",
       "False          False         False              True            True           False                             False   \n",
       "                                                False           False          False                             False   \n",
       "\n",
       "                                                                                                    clustermatch  \\\n",
       "Spearman (low) Pearson (low) Clustermatch (low) Spearman (high) Pearson (high) Clustermatch (high)                 \n",
       "False          False         False              True            False          False                    0.134712   \n",
       "                                                                True           False                    0.109580   \n",
       "                                                                               True                     0.189934   \n",
       "                             True               False           True           False                    0.088957   \n",
       "                                                                False          False                    0.082554   \n",
       "...                                                                                                          ...   \n",
       "                             False              True            False          True                     0.159615   \n",
       "True           False         True               False           True           False                    0.084440   \n",
       "                             False              False           True           False                    0.097004   \n",
       "False          False         False              True            True           False                    0.131054   \n",
       "                                                False           False          False                    0.121611   \n",
       "\n",
       "                                                                                                     pearson  \\\n",
       "Spearman (low) Pearson (low) Clustermatch (low) Spearman (high) Pearson (high) Clustermatch (high)             \n",
       "False          False         False              True            False          False                0.032274   \n",
       "                                                                True           False                0.110068   \n",
       "                                                                               True                 0.050592   \n",
       "                             True               False           True           False                0.053941   \n",
       "                                                                False          False                0.012871   \n",
       "...                                                                                                      ...   \n",
       "                             False              True            False          True                 0.035755   \n",
       "True           False         True               False           True           False                0.046003   \n",
       "                             False              False           True           False                0.066255   \n",
       "False          False         False              True            True           False                0.148579   \n",
       "                                                False           False          False                0.023487   \n",
       "\n",
       "                                                                                                    spearman  \n",
       "Spearman (low) Pearson (low) Clustermatch (low) Spearman (high) Pearson (high) Clustermatch (high)            \n",
       "False          False         False              True            False          False                0.504520  \n",
       "                                                                True           False                0.443315  \n",
       "                                                                               True                 0.536541  \n",
       "                             True               False           True           False                0.373502  \n",
       "                                                                False          False                0.367407  \n",
       "...                                                                                                      ...  \n",
       "                             False              True            False          True                 0.497143  \n",
       "True           False         True               False           True           False                0.209802  \n",
       "                             False              False           True           False                0.212738  \n",
       "False          False         False              True            True           False                0.512701  \n",
       "                                                False           False          False                0.328598  \n",
       "\n",
       "[22777875 rows x 9 columns]"
      ]
     },
     "execution_count": 49,
     "metadata": {},
     "output_type": "execute_result"
    }
   ],
   "source": [
    "gene_pairs_by_cats"
   ]
  },
  {
   "cell_type": "code",
   "execution_count": 50,
   "id": "340b9a40-ec90-4388-ab1c-0a8bcc2bb0b1",
   "metadata": {},
   "outputs": [],
   "source": [
    "gene_pairs_by_cats = gene_pairs_by_cats.sort_index()"
   ]
  },
  {
   "cell_type": "code",
   "execution_count": 51,
   "id": "6c583d89-4140-4cb6-aee8-18a1bd0427d1",
   "metadata": {},
   "outputs": [
    {
     "data": {
      "text/html": [
       "<div>\n",
       "<style scoped>\n",
       "    .dataframe tbody tr th:only-of-type {\n",
       "        vertical-align: middle;\n",
       "    }\n",
       "\n",
       "    .dataframe tbody tr th {\n",
       "        vertical-align: top;\n",
       "    }\n",
       "\n",
       "    .dataframe thead th {\n",
       "        text-align: right;\n",
       "    }\n",
       "</style>\n",
       "<table border=\"1\" class=\"dataframe\">\n",
       "  <thead>\n",
       "    <tr style=\"text-align: right;\">\n",
       "      <th></th>\n",
       "      <th>Spearman (low)</th>\n",
       "      <th>Pearson (low)</th>\n",
       "      <th>Clustermatch (low)</th>\n",
       "      <th>Spearman (high)</th>\n",
       "      <th>Pearson (high)</th>\n",
       "      <th>Clustermatch (high)</th>\n",
       "    </tr>\n",
       "  </thead>\n",
       "  <tbody>\n",
       "    <tr>\n",
       "      <th>0</th>\n",
       "      <td>False</td>\n",
       "      <td>False</td>\n",
       "      <td>False</td>\n",
       "      <td>False</td>\n",
       "      <td>False</td>\n",
       "      <td>False</td>\n",
       "    </tr>\n",
       "    <tr>\n",
       "      <th>1</th>\n",
       "      <td>False</td>\n",
       "      <td>False</td>\n",
       "      <td>False</td>\n",
       "      <td>False</td>\n",
       "      <td>False</td>\n",
       "      <td>True</td>\n",
       "    </tr>\n",
       "    <tr>\n",
       "      <th>2</th>\n",
       "      <td>False</td>\n",
       "      <td>False</td>\n",
       "      <td>False</td>\n",
       "      <td>False</td>\n",
       "      <td>True</td>\n",
       "      <td>False</td>\n",
       "    </tr>\n",
       "    <tr>\n",
       "      <th>3</th>\n",
       "      <td>False</td>\n",
       "      <td>False</td>\n",
       "      <td>False</td>\n",
       "      <td>False</td>\n",
       "      <td>True</td>\n",
       "      <td>True</td>\n",
       "    </tr>\n",
       "    <tr>\n",
       "      <th>4</th>\n",
       "      <td>False</td>\n",
       "      <td>False</td>\n",
       "      <td>False</td>\n",
       "      <td>True</td>\n",
       "      <td>False</td>\n",
       "      <td>False</td>\n",
       "    </tr>\n",
       "    <tr>\n",
       "      <th>5</th>\n",
       "      <td>False</td>\n",
       "      <td>False</td>\n",
       "      <td>False</td>\n",
       "      <td>True</td>\n",
       "      <td>False</td>\n",
       "      <td>True</td>\n",
       "    </tr>\n",
       "    <tr>\n",
       "      <th>6</th>\n",
       "      <td>False</td>\n",
       "      <td>False</td>\n",
       "      <td>False</td>\n",
       "      <td>True</td>\n",
       "      <td>True</td>\n",
       "      <td>False</td>\n",
       "    </tr>\n",
       "    <tr>\n",
       "      <th>7</th>\n",
       "      <td>False</td>\n",
       "      <td>False</td>\n",
       "      <td>False</td>\n",
       "      <td>True</td>\n",
       "      <td>True</td>\n",
       "      <td>True</td>\n",
       "    </tr>\n",
       "    <tr>\n",
       "      <th>8</th>\n",
       "      <td>False</td>\n",
       "      <td>False</td>\n",
       "      <td>True</td>\n",
       "      <td>False</td>\n",
       "      <td>False</td>\n",
       "      <td>False</td>\n",
       "    </tr>\n",
       "    <tr>\n",
       "      <th>9</th>\n",
       "      <td>False</td>\n",
       "      <td>False</td>\n",
       "      <td>True</td>\n",
       "      <td>False</td>\n",
       "      <td>True</td>\n",
       "      <td>False</td>\n",
       "    </tr>\n",
       "    <tr>\n",
       "      <th>10</th>\n",
       "      <td>False</td>\n",
       "      <td>False</td>\n",
       "      <td>True</td>\n",
       "      <td>True</td>\n",
       "      <td>False</td>\n",
       "      <td>False</td>\n",
       "    </tr>\n",
       "    <tr>\n",
       "      <th>11</th>\n",
       "      <td>False</td>\n",
       "      <td>False</td>\n",
       "      <td>True</td>\n",
       "      <td>True</td>\n",
       "      <td>True</td>\n",
       "      <td>False</td>\n",
       "    </tr>\n",
       "    <tr>\n",
       "      <th>12</th>\n",
       "      <td>False</td>\n",
       "      <td>True</td>\n",
       "      <td>False</td>\n",
       "      <td>False</td>\n",
       "      <td>False</td>\n",
       "      <td>False</td>\n",
       "    </tr>\n",
       "    <tr>\n",
       "      <th>13</th>\n",
       "      <td>False</td>\n",
       "      <td>True</td>\n",
       "      <td>False</td>\n",
       "      <td>False</td>\n",
       "      <td>False</td>\n",
       "      <td>True</td>\n",
       "    </tr>\n",
       "    <tr>\n",
       "      <th>14</th>\n",
       "      <td>False</td>\n",
       "      <td>True</td>\n",
       "      <td>False</td>\n",
       "      <td>True</td>\n",
       "      <td>False</td>\n",
       "      <td>False</td>\n",
       "    </tr>\n",
       "    <tr>\n",
       "      <th>15</th>\n",
       "      <td>False</td>\n",
       "      <td>True</td>\n",
       "      <td>False</td>\n",
       "      <td>True</td>\n",
       "      <td>False</td>\n",
       "      <td>True</td>\n",
       "    </tr>\n",
       "    <tr>\n",
       "      <th>16</th>\n",
       "      <td>False</td>\n",
       "      <td>True</td>\n",
       "      <td>True</td>\n",
       "      <td>False</td>\n",
       "      <td>False</td>\n",
       "      <td>False</td>\n",
       "    </tr>\n",
       "    <tr>\n",
       "      <th>17</th>\n",
       "      <td>False</td>\n",
       "      <td>True</td>\n",
       "      <td>True</td>\n",
       "      <td>True</td>\n",
       "      <td>False</td>\n",
       "      <td>False</td>\n",
       "    </tr>\n",
       "    <tr>\n",
       "      <th>18</th>\n",
       "      <td>True</td>\n",
       "      <td>False</td>\n",
       "      <td>False</td>\n",
       "      <td>False</td>\n",
       "      <td>False</td>\n",
       "      <td>False</td>\n",
       "    </tr>\n",
       "    <tr>\n",
       "      <th>19</th>\n",
       "      <td>True</td>\n",
       "      <td>False</td>\n",
       "      <td>False</td>\n",
       "      <td>False</td>\n",
       "      <td>False</td>\n",
       "      <td>True</td>\n",
       "    </tr>\n",
       "    <tr>\n",
       "      <th>20</th>\n",
       "      <td>True</td>\n",
       "      <td>False</td>\n",
       "      <td>False</td>\n",
       "      <td>False</td>\n",
       "      <td>True</td>\n",
       "      <td>False</td>\n",
       "    </tr>\n",
       "    <tr>\n",
       "      <th>21</th>\n",
       "      <td>True</td>\n",
       "      <td>False</td>\n",
       "      <td>False</td>\n",
       "      <td>False</td>\n",
       "      <td>True</td>\n",
       "      <td>True</td>\n",
       "    </tr>\n",
       "    <tr>\n",
       "      <th>22</th>\n",
       "      <td>True</td>\n",
       "      <td>False</td>\n",
       "      <td>True</td>\n",
       "      <td>False</td>\n",
       "      <td>False</td>\n",
       "      <td>False</td>\n",
       "    </tr>\n",
       "    <tr>\n",
       "      <th>23</th>\n",
       "      <td>True</td>\n",
       "      <td>False</td>\n",
       "      <td>True</td>\n",
       "      <td>False</td>\n",
       "      <td>True</td>\n",
       "      <td>False</td>\n",
       "    </tr>\n",
       "    <tr>\n",
       "      <th>24</th>\n",
       "      <td>True</td>\n",
       "      <td>True</td>\n",
       "      <td>False</td>\n",
       "      <td>False</td>\n",
       "      <td>False</td>\n",
       "      <td>False</td>\n",
       "    </tr>\n",
       "    <tr>\n",
       "      <th>25</th>\n",
       "      <td>True</td>\n",
       "      <td>True</td>\n",
       "      <td>False</td>\n",
       "      <td>False</td>\n",
       "      <td>False</td>\n",
       "      <td>True</td>\n",
       "    </tr>\n",
       "    <tr>\n",
       "      <th>26</th>\n",
       "      <td>True</td>\n",
       "      <td>True</td>\n",
       "      <td>True</td>\n",
       "      <td>False</td>\n",
       "      <td>False</td>\n",
       "      <td>False</td>\n",
       "    </tr>\n",
       "  </tbody>\n",
       "</table>\n",
       "</div>"
      ],
      "text/plain": [
       "   Spearman (low) Pearson (low) Clustermatch (low) Spearman (high)  \\\n",
       "0           False         False              False           False   \n",
       "1           False         False              False           False   \n",
       "2           False         False              False           False   \n",
       "3           False         False              False           False   \n",
       "4           False         False              False            True   \n",
       "5           False         False              False            True   \n",
       "6           False         False              False            True   \n",
       "7           False         False              False            True   \n",
       "8           False         False               True           False   \n",
       "9           False         False               True           False   \n",
       "10          False         False               True            True   \n",
       "11          False         False               True            True   \n",
       "12          False          True              False           False   \n",
       "13          False          True              False           False   \n",
       "14          False          True              False            True   \n",
       "15          False          True              False            True   \n",
       "16          False          True               True           False   \n",
       "17          False          True               True            True   \n",
       "18           True         False              False           False   \n",
       "19           True         False              False           False   \n",
       "20           True         False              False           False   \n",
       "21           True         False              False           False   \n",
       "22           True         False               True           False   \n",
       "23           True         False               True           False   \n",
       "24           True          True              False           False   \n",
       "25           True          True              False           False   \n",
       "26           True          True               True           False   \n",
       "\n",
       "   Pearson (high) Clustermatch (high)  \n",
       "0           False               False  \n",
       "1           False                True  \n",
       "2            True               False  \n",
       "3            True                True  \n",
       "4           False               False  \n",
       "5           False                True  \n",
       "6            True               False  \n",
       "7            True                True  \n",
       "8           False               False  \n",
       "9            True               False  \n",
       "10          False               False  \n",
       "11           True               False  \n",
       "12          False               False  \n",
       "13          False                True  \n",
       "14          False               False  \n",
       "15          False                True  \n",
       "16          False               False  \n",
       "17          False               False  \n",
       "18          False               False  \n",
       "19          False                True  \n",
       "20           True               False  \n",
       "21           True                True  \n",
       "22          False               False  \n",
       "23           True               False  \n",
       "24          False               False  \n",
       "25          False                True  \n",
       "26          False               False  "
      ]
     },
     "metadata": {},
     "output_type": "display_data"
    }
   ],
   "source": [
    "_tmp_index = gene_pairs_by_cats.index.unique().to_frame(False)\n",
    "display(_tmp_index)"
   ]
  },
  {
   "cell_type": "code",
   "execution_count": 52,
   "id": "137afe3a-2936-4270-a14c-00d9ac542b50",
   "metadata": {},
   "outputs": [
    {
     "data": {
      "text/html": [
       "<div>\n",
       "<style scoped>\n",
       "    .dataframe tbody tr th:only-of-type {\n",
       "        vertical-align: middle;\n",
       "    }\n",
       "\n",
       "    .dataframe tbody tr th {\n",
       "        vertical-align: top;\n",
       "    }\n",
       "\n",
       "    .dataframe thead th {\n",
       "        text-align: right;\n",
       "    }\n",
       "</style>\n",
       "<table border=\"1\" class=\"dataframe\">\n",
       "  <thead>\n",
       "    <tr style=\"text-align: right;\">\n",
       "      <th></th>\n",
       "      <th>Spearman (low)</th>\n",
       "      <th>Pearson (low)</th>\n",
       "      <th>Clustermatch (low)</th>\n",
       "      <th>Spearman (high)</th>\n",
       "      <th>Pearson (high)</th>\n",
       "      <th>Clustermatch (high)</th>\n",
       "    </tr>\n",
       "  </thead>\n",
       "  <tbody>\n",
       "    <tr>\n",
       "      <th>7</th>\n",
       "      <td>False</td>\n",
       "      <td>False</td>\n",
       "      <td>False</td>\n",
       "      <td>True</td>\n",
       "      <td>True</td>\n",
       "      <td>True</td>\n",
       "    </tr>\n",
       "    <tr>\n",
       "      <th>11</th>\n",
       "      <td>False</td>\n",
       "      <td>False</td>\n",
       "      <td>True</td>\n",
       "      <td>True</td>\n",
       "      <td>True</td>\n",
       "      <td>False</td>\n",
       "    </tr>\n",
       "    <tr>\n",
       "      <th>15</th>\n",
       "      <td>False</td>\n",
       "      <td>True</td>\n",
       "      <td>False</td>\n",
       "      <td>True</td>\n",
       "      <td>False</td>\n",
       "      <td>True</td>\n",
       "    </tr>\n",
       "    <tr>\n",
       "      <th>17</th>\n",
       "      <td>False</td>\n",
       "      <td>True</td>\n",
       "      <td>True</td>\n",
       "      <td>True</td>\n",
       "      <td>False</td>\n",
       "      <td>False</td>\n",
       "    </tr>\n",
       "    <tr>\n",
       "      <th>21</th>\n",
       "      <td>True</td>\n",
       "      <td>False</td>\n",
       "      <td>False</td>\n",
       "      <td>False</td>\n",
       "      <td>True</td>\n",
       "      <td>True</td>\n",
       "    </tr>\n",
       "    <tr>\n",
       "      <th>23</th>\n",
       "      <td>True</td>\n",
       "      <td>False</td>\n",
       "      <td>True</td>\n",
       "      <td>False</td>\n",
       "      <td>True</td>\n",
       "      <td>False</td>\n",
       "    </tr>\n",
       "    <tr>\n",
       "      <th>25</th>\n",
       "      <td>True</td>\n",
       "      <td>True</td>\n",
       "      <td>False</td>\n",
       "      <td>False</td>\n",
       "      <td>False</td>\n",
       "      <td>True</td>\n",
       "    </tr>\n",
       "    <tr>\n",
       "      <th>26</th>\n",
       "      <td>True</td>\n",
       "      <td>True</td>\n",
       "      <td>True</td>\n",
       "      <td>False</td>\n",
       "      <td>False</td>\n",
       "      <td>False</td>\n",
       "    </tr>\n",
       "  </tbody>\n",
       "</table>\n",
       "</div>"
      ],
      "text/plain": [
       "   Spearman (low) Pearson (low) Clustermatch (low) Spearman (high)  \\\n",
       "7           False         False              False            True   \n",
       "11          False         False               True            True   \n",
       "15          False          True              False            True   \n",
       "17          False          True               True            True   \n",
       "21           True         False              False           False   \n",
       "23           True         False               True           False   \n",
       "25           True          True              False           False   \n",
       "26           True          True               True           False   \n",
       "\n",
       "   Pearson (high) Clustermatch (high)  \n",
       "7            True                True  \n",
       "11           True               False  \n",
       "15          False                True  \n",
       "17          False               False  \n",
       "21           True                True  \n",
       "23           True               False  \n",
       "25          False                True  \n",
       "26          False               False  "
      ]
     },
     "execution_count": 52,
     "metadata": {},
     "output_type": "execute_result"
    }
   ],
   "source": [
    "_tmp_index[_tmp_index.sum(axis=1) == 3]"
   ]
  },
  {
   "cell_type": "code",
   "execution_count": 53,
   "id": "ab2a49ff-700b-48c1-b8c1-428b1061ce5a",
   "metadata": {},
   "outputs": [
    {
     "data": {
      "text/plain": [
       "0      True\n",
       "1      True\n",
       "2      True\n",
       "3      True\n",
       "4      True\n",
       "5      True\n",
       "6      True\n",
       "7      True\n",
       "8     False\n",
       "9     False\n",
       "10    False\n",
       "11    False\n",
       "12    False\n",
       "13    False\n",
       "14    False\n",
       "15    False\n",
       "16    False\n",
       "17    False\n",
       "18    False\n",
       "19    False\n",
       "20    False\n",
       "21    False\n",
       "22    False\n",
       "23    False\n",
       "24    False\n",
       "25    False\n",
       "26    False\n",
       "dtype: bool"
      ]
     },
     "execution_count": 53,
     "metadata": {},
     "output_type": "execute_result"
    }
   ],
   "source": [
    "_tmp_index.apply(lambda x: x[0:3].sum() == 0, axis=1)"
   ]
  },
  {
   "cell_type": "code",
   "execution_count": 54,
   "id": "3008a6b3-8803-40f3-a09c-45ca94131327",
   "metadata": {},
   "outputs": [
    {
     "data": {
      "text/plain": [
       "array([(False, False, False, False, True, True),\n",
       "       (False, False, False, True, False, True),\n",
       "       (False, False, False, True, True, False)], dtype=object)"
      ]
     },
     "execution_count": 54,
     "metadata": {},
     "output_type": "execute_result"
    }
   ],
   "source": [
    "# agreements on top\n",
    "_tmp_index.loc[\n",
    "    _tmp_index[\n",
    "        _tmp_index.apply(lambda x: x.sum() > 1, axis=1)\n",
    "        & _tmp_index.apply(lambda x: x[0:3].sum() == 0, axis=1)\n",
    "        & _tmp_index.apply(lambda x: 3 > x[3:].sum() > 1, axis=1)\n",
    "    ].index\n",
    "].apply(tuple, axis=1).to_numpy()"
   ]
  },
  {
   "cell_type": "code",
   "execution_count": 55,
   "id": "556b8016-3a64-4e95-adb6-705a3e8854c7",
   "metadata": {},
   "outputs": [
    {
     "data": {
      "text/plain": [
       "array([(False, True, True, False, False, False),\n",
       "       (True, False, True, False, False, False),\n",
       "       (True, True, False, False, False, False)], dtype=object)"
      ]
     },
     "execution_count": 55,
     "metadata": {},
     "output_type": "execute_result"
    }
   ],
   "source": [
    "# agreements on bottom\n",
    "_tmp_index.loc[\n",
    "    _tmp_index[\n",
    "        _tmp_index.apply(lambda x: x.sum() > 1, axis=1)\n",
    "        & _tmp_index.apply(lambda x: 3 > x[0:3].sum() > 1, axis=1)\n",
    "        & _tmp_index.apply(lambda x: x[3:].sum() == 0, axis=1)\n",
    "    ].index\n",
    "].apply(tuple, axis=1).to_numpy()"
   ]
  },
  {
   "cell_type": "code",
   "execution_count": 56,
   "id": "4cd4c428-510a-497a-9c9c-4af16e9c254b",
   "metadata": {},
   "outputs": [
    {
     "data": {
      "text/plain": [
       "array([(False, False, True, False, True, False),\n",
       "       (False, False, True, True, False, False),\n",
       "       (False, False, True, True, True, False),\n",
       "       (False, True, False, False, False, True),\n",
       "       (False, True, False, True, False, False),\n",
       "       (False, True, False, True, False, True),\n",
       "       (False, True, True, True, False, False),\n",
       "       (True, False, False, False, False, True),\n",
       "       (True, False, False, False, True, False),\n",
       "       (True, False, False, False, True, True),\n",
       "       (True, False, True, False, True, False),\n",
       "       (True, True, False, False, False, True)], dtype=object)"
      ]
     },
     "execution_count": 56,
     "metadata": {},
     "output_type": "execute_result"
    }
   ],
   "source": [
    "# diagreements\n",
    "_tmp_index.loc[\n",
    "    _tmp_index[\n",
    "        _tmp_index.apply(lambda x: x.sum() > 1, axis=1)\n",
    "        & _tmp_index.apply(lambda x: x[0:3].sum() > 0, axis=1)\n",
    "        & _tmp_index.apply(lambda x: x[3:].sum() > 0, axis=1)\n",
    "    ].index\n",
    "].apply(tuple, axis=1).to_numpy()"
   ]
  },
  {
   "cell_type": "code",
   "execution_count": 57,
   "id": "14911f01-eace-4982-8d82-3f45bcf65e76",
   "metadata": {},
   "outputs": [],
   "source": [
    "# order subsets\n",
    "gene_pairs_by_cats = gene_pairs_by_cats.loc[\n",
    "    [\n",
    "        # pairs not included in categories:\n",
    "        # (False, False, False, False, False, False),\n",
    "        # full agreements:\n",
    "        (True, True, True, False, False, False),\n",
    "        (False, False, False, True, True, True),\n",
    "        # agreements on top\n",
    "        (False, False, False, False, True, True),\n",
    "        (False, False, False, True, False, True),\n",
    "        (False, False, False, True, True, False),\n",
    "        # agreements on bottom\n",
    "        (False, True, True, False, False, False),\n",
    "        (True, False, True, False, False, False),\n",
    "        (True, True, False, False, False, False),\n",
    "        # diagreements\n",
    "        ## pearson\n",
    "        (False, False, True, False, True, False),\n",
    "        (True, False, False, False, True, False),\n",
    "        (True, False, True, False, True, False),\n",
    "        ## spearman\n",
    "        (False, True, False, True, False, False),\n",
    "        ## clustermatch\n",
    "        (False, True, False, True, False, True),\n",
    "        (False, True, False, False, False, True),\n",
    "        (True, False, False, False, False, True),\n",
    "        (True, True, False, False, False, True),\n",
    "    ]\n",
    "]"
   ]
  },
  {
   "cell_type": "code",
   "execution_count": 58,
   "id": "a7934759-1223-42c6-88c1-179714e12c08",
   "metadata": {},
   "outputs": [
    {
     "data": {
      "image/png": "[encoded data removed]",
      "text/plain": [
       "<Figure size 1008x360 with 3 Axes>"
      ]
     },
     "metadata": {
      "needs_background": "light"
     },
     "output_type": "display_data"
    }
   ],
   "source": [
    "fig = plt.figure(figsize=(14, 5))\n",
    "\n",
    "# g = plot(\n",
    "g = MyUpSet(\n",
    "    gene_pairs_by_cats,\n",
    "    show_counts=True,\n",
    "    sort_categories_by=None,\n",
    "    sort_by=None,\n",
    "    show_percentages=True,\n",
    "    # min_subset_size=2,\n",
    "    element_size=None,\n",
    "    # fig=fig,\n",
    ").plot(fig)\n",
    "\n",
    "g[\"totals\"].remove()  # set_visible(False)\n",
    "\n",
    "# display(fig.get_size_inches())\n",
    "# fig.set_size_inches(12, 5)\n",
    "\n",
    "plt.savefig(\n",
    "    OUTPUT_FIGURE_DIR / \"upsetplot.svg\",\n",
    "    bbox_inches=\"tight\",\n",
    "    facecolor=\"white\",\n",
    ")\n",
    "\n",
    "# plt.margins(x=-0.4)"
   ]
  },
  {
   "cell_type": "markdown",
   "id": "363880b2-67e5-447d-9f0b-c0a3f0fda026",
   "metadata": {},
   "source": [
    "This plot has the sets that represent agreements on the left, and disagreements on the right. The plot shown here is not the final one for the manuscript."
   ]
  },
  {
   "cell_type": "markdown",
   "id": "29c6ba73-93a9-4d97-be9e-89e7812bc651",
   "metadata": {},
   "source": [
    "# Look at specific gene pair cases"
   ]
  },
  {
   "cell_type": "code",
   "execution_count": 60,
   "id": "3e39f208-393f-436c-afa4-392d50a92753",
   "metadata": {},
   "outputs": [],
   "source": [
    "def plot_gene_pair(top_pairs_df, idx, bins=\"log\"):\n",
    "    gene0, gene1 = top_pairs_df.iloc[idx].name\n",
    "    display((gene0, gene1))\n",
    "\n",
    "    # gene0_symbol, gene1_symbol = gene_map[gene0], gene_map[gene1]\n",
    "    # display((gene0_symbol, gene1_symbol))\n",
    "\n",
    "    _pearson, _spearman, _clustermatch = top_pairs_df.loc[\n",
    "        (gene0, gene1), [\"pearson\", \"spearman\", \"clustermatch\"]\n",
    "    ].tolist()\n",
    "\n",
    "    _title = f\"Clustermatch: {_clustermatch:.2f}\\nPearson/Spearman: {_pearson:.2f}/{_spearman:.2f}\"\n",
    "\n",
    "    # displot DOES SUPPORT HUE!\n",
    "    p = sns.jointplot(\n",
    "        data=gene_expr_df.T,\n",
    "        x=gene0,\n",
    "        y=gene1,\n",
    "        kind=\"hex\",\n",
    "        bins=bins,\n",
    "        # ylim=(0, 500),\n",
    "    )\n",
    "\n",
    "    gene_x_id = p.ax_joint.get_xlabel()\n",
    "    # gene_x_symbol = gene_map[gene_x_id]\n",
    "    p.ax_joint.set_xlabel(f\"{gene_x_id}\")\n",
    "\n",
    "    gene_y_id = p.ax_joint.get_ylabel()\n",
    "    # gene_y_symbol = gene_map[gene_y_id]\n",
    "    p.ax_joint.set_ylabel(f\"{gene_y_id}\")\n",
    "\n",
    "    p.fig.suptitle(_title)\n",
    "\n",
    "    return p"
   ]
  },
  {
   "cell_type": "code",
   "execution_count": 62,
   "id": "5f8deb23-3642-4682-8c1c-5fb89545d860",
   "metadata": {},
   "outputs": [],
   "source": [
    "# add columns with ranks\n",
    "df_r_data = pd.concat(\n",
    "    [\n",
    "        df_r_data,\n",
    "        df_r_data[[\"clustermatch\", \"pearson\", \"spearman\"]]\n",
    "        .rank()\n",
    "        .rename(\n",
    "            columns={\n",
    "                \"clustermatch\": \"clustermatch_rank\",\n",
    "                \"pearson\": \"pearson_rank\",\n",
    "                \"spearman\": \"spearman_rank\",\n",
    "            }\n",
    "        ),\n",
    "    ],\n",
    "    axis=1,\n",
    ")"
   ]
  },
  {
   "cell_type": "code",
   "execution_count": 63,
   "id": "ea2639bf-f74c-4aed-936a-ac6a3d54dc4a",
   "metadata": {},
   "outputs": [
    {
     "data": {
      "text/html": [
       "<div>\n",
       "<style scoped>\n",
       "    .dataframe tbody tr th:only-of-type {\n",
       "        vertical-align: middle;\n",
       "    }\n",
       "\n",
       "    .dataframe tbody tr th {\n",
       "        vertical-align: top;\n",
       "    }\n",
       "\n",
       "    .dataframe thead th {\n",
       "        text-align: right;\n",
       "    }\n",
       "</style>\n",
       "<table border=\"1\" class=\"dataframe\">\n",
       "  <thead>\n",
       "    <tr style=\"text-align: right;\">\n",
       "      <th></th>\n",
       "      <th></th>\n",
       "      <th>Pearson (high)</th>\n",
       "      <th>Pearson (low)</th>\n",
       "      <th>Spearman (high)</th>\n",
       "      <th>Spearman (low)</th>\n",
       "      <th>Clustermatch (high)</th>\n",
       "      <th>Clustermatch (low)</th>\n",
       "      <th>clustermatch</th>\n",
       "      <th>pearson</th>\n",
       "      <th>spearman</th>\n",
       "      <th>clustermatch_rank</th>\n",
       "      <th>pearson_rank</th>\n",
       "      <th>spearman_rank</th>\n",
       "    </tr>\n",
       "  </thead>\n",
       "  <tbody>\n",
       "    <tr>\n",
       "      <th rowspan=\"5\" valign=\"top\">A2M</th>\n",
       "      <th>AATK</th>\n",
       "      <td>False</td>\n",
       "      <td>False</td>\n",
       "      <td>True</td>\n",
       "      <td>False</td>\n",
       "      <td>False</td>\n",
       "      <td>False</td>\n",
       "      <td>0.134712</td>\n",
       "      <td>0.032274</td>\n",
       "      <td>0.504520</td>\n",
       "      <td>14766805.0</td>\n",
       "      <td>13890647.0</td>\n",
       "      <td>19285465.0</td>\n",
       "    </tr>\n",
       "    <tr>\n",
       "      <th>ABCA1</th>\n",
       "      <td>True</td>\n",
       "      <td>False</td>\n",
       "      <td>True</td>\n",
       "      <td>False</td>\n",
       "      <td>False</td>\n",
       "      <td>False</td>\n",
       "      <td>0.109580</td>\n",
       "      <td>0.110068</td>\n",
       "      <td>0.443315</td>\n",
       "      <td>10017767.5</td>\n",
       "      <td>20845501.0</td>\n",
       "      <td>16277878.0</td>\n",
       "    </tr>\n",
       "    <tr>\n",
       "      <th>ABCA6</th>\n",
       "      <td>True</td>\n",
       "      <td>False</td>\n",
       "      <td>True</td>\n",
       "      <td>False</td>\n",
       "      <td>True</td>\n",
       "      <td>False</td>\n",
       "      <td>0.189934</td>\n",
       "      <td>0.050592</td>\n",
       "      <td>0.536541</td>\n",
       "      <td>20542146.5</td>\n",
       "      <td>16942691.0</td>\n",
       "      <td>20444731.0</td>\n",
       "    </tr>\n",
       "    <tr>\n",
       "      <th>ABCC3</th>\n",
       "      <td>True</td>\n",
       "      <td>False</td>\n",
       "      <td>False</td>\n",
       "      <td>False</td>\n",
       "      <td>False</td>\n",
       "      <td>True</td>\n",
       "      <td>0.088957</td>\n",
       "      <td>0.053941</td>\n",
       "      <td>0.373502</td>\n",
       "      <td>6193954.0</td>\n",
       "      <td>17346769.0</td>\n",
       "      <td>12070919.0</td>\n",
       "    </tr>\n",
       "    <tr>\n",
       "      <th>ABHD14A</th>\n",
       "      <td>False</td>\n",
       "      <td>False</td>\n",
       "      <td>False</td>\n",
       "      <td>False</td>\n",
       "      <td>False</td>\n",
       "      <td>True</td>\n",
       "      <td>0.082554</td>\n",
       "      <td>0.012871</td>\n",
       "      <td>0.367407</td>\n",
       "      <td>5152684.0</td>\n",
       "      <td>7804954.0</td>\n",
       "      <td>11695106.0</td>\n",
       "    </tr>\n",
       "  </tbody>\n",
       "</table>\n",
       "</div>"
      ],
      "text/plain": [
       "             Pearson (high)  Pearson (low)  Spearman (high)  Spearman (low)  \\\n",
       "A2M AATK              False          False             True           False   \n",
       "    ABCA1              True          False             True           False   \n",
       "    ABCA6              True          False             True           False   \n",
       "    ABCC3              True          False            False           False   \n",
       "    ABHD14A           False          False            False           False   \n",
       "\n",
       "             Clustermatch (high)  Clustermatch (low)  clustermatch   pearson  \\\n",
       "A2M AATK                   False               False      0.134712  0.032274   \n",
       "    ABCA1                  False               False      0.109580  0.110068   \n",
       "    ABCA6                   True               False      0.189934  0.050592   \n",
       "    ABCC3                  False                True      0.088957  0.053941   \n",
       "    ABHD14A                False                True      0.082554  0.012871   \n",
       "\n",
       "             spearman  clustermatch_rank  pearson_rank  spearman_rank  \n",
       "A2M AATK     0.504520         14766805.0    13890647.0     19285465.0  \n",
       "    ABCA1    0.443315         10017767.5    20845501.0     16277878.0  \n",
       "    ABCA6    0.536541         20542146.5    16942691.0     20444731.0  \n",
       "    ABCC3    0.373502          6193954.0    17346769.0     12070919.0  \n",
       "    ABHD14A  0.367407          5152684.0     7804954.0     11695106.0  "
      ]
     },
     "execution_count": 63,
     "metadata": {},
     "output_type": "execute_result"
    }
   ],
   "source": [
    "df_r_data.head()"
   ]
  },
  {
   "cell_type": "markdown",
   "id": "f08ab1e7-de5c-41a7-b9e1-f55c05926870",
   "metadata": {
    "tags": []
   },
   "source": [
    "## Clustermatch vs Spearman"
   ]
  },
  {
   "cell_type": "code",
   "execution_count": 64,
   "id": "4ec59ec3-be52-4fe5-8b06-9e16972e0d17",
   "metadata": {},
   "outputs": [],
   "source": [
    "first_coef = \"clustermatch\"\n",
    "second_coef = \"spearman\""
   ]
  },
  {
   "cell_type": "code",
   "execution_count": 65,
   "id": "4e262f86-e729-432e-a2f9-6feaae0f694e",
   "metadata": {},
   "outputs": [
    {
     "data": {
      "text/html": [
       "<div>\n",
       "<style scoped>\n",
       "    .dataframe tbody tr th:only-of-type {\n",
       "        vertical-align: middle;\n",
       "    }\n",
       "\n",
       "    .dataframe tbody tr th {\n",
       "        vertical-align: top;\n",
       "    }\n",
       "\n",
       "    .dataframe thead th {\n",
       "        text-align: right;\n",
       "    }\n",
       "</style>\n",
       "<table border=\"1\" class=\"dataframe\">\n",
       "  <thead>\n",
       "    <tr style=\"text-align: right;\">\n",
       "      <th></th>\n",
       "      <th></th>\n",
       "      <th>clustermatch</th>\n",
       "      <th>pearson</th>\n",
       "      <th>spearman</th>\n",
       "      <th>clustermatch_rank</th>\n",
       "      <th>pearson_rank</th>\n",
       "      <th>spearman_rank</th>\n",
       "      <th>rank_diff</th>\n",
       "    </tr>\n",
       "  </thead>\n",
       "  <tbody>\n",
       "    <tr>\n",
       "      <th>SUV39H2</th>\n",
       "      <th>TOM1</th>\n",
       "      <td>0.216077</td>\n",
       "      <td>0.026209</td>\n",
       "      <td>0.098532</td>\n",
       "      <td>21526043.0</td>\n",
       "      <td>12422631.0</td>\n",
       "      <td>1116066.0</td>\n",
       "      <td>20409977.0</td>\n",
       "    </tr>\n",
       "    <tr>\n",
       "      <th>FANCM</th>\n",
       "      <th>TOM1</th>\n",
       "      <td>0.209351</td>\n",
       "      <td>0.020454</td>\n",
       "      <td>0.087552</td>\n",
       "      <td>21330542.0</td>\n",
       "      <td>10711846.0</td>\n",
       "      <td>953192.0</td>\n",
       "      <td>20377350.0</td>\n",
       "    </tr>\n",
       "    <tr>\n",
       "      <th>RAD54B</th>\n",
       "      <th>TOM1</th>\n",
       "      <td>0.192272</td>\n",
       "      <td>0.027336</td>\n",
       "      <td>0.057940</td>\n",
       "      <td>20657719.0</td>\n",
       "      <td>12719184.0</td>\n",
       "      <td>576075.0</td>\n",
       "      <td>20081644.0</td>\n",
       "    </tr>\n",
       "    <tr>\n",
       "      <th>DNA2</th>\n",
       "      <th>TOM1</th>\n",
       "      <td>0.203173</td>\n",
       "      <td>0.027326</td>\n",
       "      <td>0.093591</td>\n",
       "      <td>21119674.0</td>\n",
       "      <td>12716407.0</td>\n",
       "      <td>1040930.0</td>\n",
       "      <td>20078744.0</td>\n",
       "    </tr>\n",
       "    <tr>\n",
       "      <th>PPAT</th>\n",
       "      <th>TOM1</th>\n",
       "      <td>0.185846</td>\n",
       "      <td>0.015337</td>\n",
       "      <td>0.051317</td>\n",
       "      <td>20322700.0</td>\n",
       "      <td>8848333.0</td>\n",
       "      <td>501886.0</td>\n",
       "      <td>19820814.0</td>\n",
       "    </tr>\n",
       "    <tr>\n",
       "      <th>...</th>\n",
       "      <th>...</th>\n",
       "      <td>...</td>\n",
       "      <td>...</td>\n",
       "      <td>...</td>\n",
       "      <td>...</td>\n",
       "      <td>...</td>\n",
       "      <td>...</td>\n",
       "      <td>...</td>\n",
       "    </tr>\n",
       "    <tr>\n",
       "      <th>NDUFA4L2</th>\n",
       "      <th>ST20</th>\n",
       "      <td>0.142193</td>\n",
       "      <td>0.018747</td>\n",
       "      <td>0.281411</td>\n",
       "      <td>15972618.0</td>\n",
       "      <td>10131166.0</td>\n",
       "      <td>6824349.0</td>\n",
       "      <td>9148269.0</td>\n",
       "    </tr>\n",
       "    <tr>\n",
       "      <th>SCN2B</th>\n",
       "      <th>PGLYRP1</th>\n",
       "      <td>0.142188</td>\n",
       "      <td>0.029773</td>\n",
       "      <td>0.281583</td>\n",
       "      <td>15972006.0</td>\n",
       "      <td>13320653.0</td>\n",
       "      <td>6832886.0</td>\n",
       "      <td>9139120.0</td>\n",
       "    </tr>\n",
       "    <tr>\n",
       "      <th>CLN5</th>\n",
       "      <th>MRPL41</th>\n",
       "      <td>0.142076</td>\n",
       "      <td>0.017411</td>\n",
       "      <td>0.281253</td>\n",
       "      <td>15953973.0</td>\n",
       "      <td>9648613.0</td>\n",
       "      <td>6816349.0</td>\n",
       "      <td>9137624.0</td>\n",
       "    </tr>\n",
       "    <tr>\n",
       "      <th>PRPS2</th>\n",
       "      <th>ALOX12</th>\n",
       "      <td>0.142024</td>\n",
       "      <td>0.031513</td>\n",
       "      <td>0.281139</td>\n",
       "      <td>15946964.0</td>\n",
       "      <td>13721892.0</td>\n",
       "      <td>6810687.0</td>\n",
       "      <td>9136277.0</td>\n",
       "    </tr>\n",
       "    <tr>\n",
       "      <th>PIK3R4</th>\n",
       "      <th>MYH11</th>\n",
       "      <td>0.142055</td>\n",
       "      <td>0.014308</td>\n",
       "      <td>0.281382</td>\n",
       "      <td>15951170.0</td>\n",
       "      <td>8425874.0</td>\n",
       "      <td>6822814.0</td>\n",
       "      <td>9128356.0</td>\n",
       "    </tr>\n",
       "  </tbody>\n",
       "</table>\n",
       "<p>39816 rows × 7 columns</p>\n",
       "</div>"
      ],
      "text/plain": [
       "                  clustermatch   pearson  spearman  clustermatch_rank  \\\n",
       "SUV39H2  TOM1         0.216077  0.026209  0.098532         21526043.0   \n",
       "FANCM    TOM1         0.209351  0.020454  0.087552         21330542.0   \n",
       "RAD54B   TOM1         0.192272  0.027336  0.057940         20657719.0   \n",
       "DNA2     TOM1         0.203173  0.027326  0.093591         21119674.0   \n",
       "PPAT     TOM1         0.185846  0.015337  0.051317         20322700.0   \n",
       "...                        ...       ...       ...                ...   \n",
       "NDUFA4L2 ST20         0.142193  0.018747  0.281411         15972618.0   \n",
       "SCN2B    PGLYRP1      0.142188  0.029773  0.281583         15972006.0   \n",
       "CLN5     MRPL41       0.142076  0.017411  0.281253         15953973.0   \n",
       "PRPS2    ALOX12       0.142024  0.031513  0.281139         15946964.0   \n",
       "PIK3R4   MYH11        0.142055  0.014308  0.281382         15951170.0   \n",
       "\n",
       "                  pearson_rank  spearman_rank   rank_diff  \n",
       "SUV39H2  TOM1       12422631.0      1116066.0  20409977.0  \n",
       "FANCM    TOM1       10711846.0       953192.0  20377350.0  \n",
       "RAD54B   TOM1       12719184.0       576075.0  20081644.0  \n",
       "DNA2     TOM1       12716407.0      1040930.0  20078744.0  \n",
       "PPAT     TOM1        8848333.0       501886.0  19820814.0  \n",
       "...                        ...            ...         ...  \n",
       "NDUFA4L2 ST20       10131166.0      6824349.0   9148269.0  \n",
       "SCN2B    PGLYRP1    13320653.0      6832886.0   9139120.0  \n",
       "CLN5     MRPL41      9648613.0      6816349.0   9137624.0  \n",
       "PRPS2    ALOX12     13721892.0      6810687.0   9136277.0  \n",
       "PIK3R4   MYH11       8425874.0      6822814.0   9128356.0  \n",
       "\n",
       "[39816 rows x 7 columns]"
      ]
     },
     "metadata": {},
     "output_type": "display_data"
    }
   ],
   "source": [
    "_tmp_df = df_r_data[\n",
    "    (df_r_data[\"Clustermatch (high)\"])\n",
    "    & ~(df_r_data[\"Spearman (high)\"])\n",
    "    & ~(df_r_data[\"Pearson (high)\"])\n",
    "    & ~(df_r_data[\"Clustermatch (low)\"])\n",
    "    & (df_r_data[\"Spearman (low)\"])\n",
    "    & ~(df_r_data[\"Pearson (low)\"])\n",
    "]\n",
    "\n",
    "_tmp_df = _tmp_df.assign(\n",
    "    rank_diff=_tmp_df[f\"{first_coef}_rank\"].sub(_tmp_df[f\"{second_coef}_rank\"])\n",
    ")\n",
    "\n",
    "# show this just to make sure of the groups\n",
    "# display(_tmp_df.head())\n",
    "\n",
    "# sort by rank_diff\n",
    "_tmp_df = _tmp_df[[x for x in _tmp_df.columns if \" (\" not in x]].sort_values(\n",
    "    \"rank_diff\", ascending=False\n",
    ")\n",
    "\n",
    "# sort by firt_coef value\n",
    "# _tmp_df = _tmp_df[[x for x in df_r_data.columns if \"_\" not in x]].sort_values(\n",
    "#     first_coef, ascending=False\n",
    "# )\n",
    "\n",
    "# display(_tmp_df.shape)\n",
    "display(_tmp_df)"
   ]
  },
  {
   "cell_type": "code",
   "execution_count": 66,
   "id": "58710fc6-844f-4179-9dbc-80a7f42aa9e6",
   "metadata": {},
   "outputs": [
    {
     "data": {
      "text/plain": [
       "'Index: 0'"
      ]
     },
     "metadata": {},
     "output_type": "display_data"
    },
    {
     "data": {
      "text/plain": [
       "('SUV39H2', 'TOM1')"
      ]
     },
     "metadata": {},
     "output_type": "display_data"
    },
    {
     "data": {
      "image/png": "[encoded data removed]",
      "text/plain": [
       "<Figure size 432x432 with 3 Axes>"
      ]
     },
     "metadata": {},
     "output_type": "display_data"
    },
    {
     "data": {
      "text/plain": [
       "'Index: 1'"
      ]
     },
     "metadata": {},
     "output_type": "display_data"
    },
    {
     "data": {
      "text/plain": [
       "('FANCM', 'TOM1')"
      ]
     },
     "metadata": {},
     "output_type": "display_data"
    },
    {
     "data": {
      "image/png": "[encoded data removed]",
      "text/plain": [
       "<Figure size 432x432 with 3 Axes>"
      ]
     },
     "metadata": {},
     "output_type": "display_data"
    },
    {
     "data": {
      "text/plain": [
       "'Index: 2'"
      ]
     },
     "metadata": {},
     "output_type": "display_data"
    },
    {
     "data": {
      "text/plain": [
       "('RAD54B', 'TOM1')"
      ]
     },
     "metadata": {},
     "output_type": "display_data"
    },
    {
     "data": {
      "image/png": "[encoded data removed]",
      "text/plain": [
       "<Figure size 432x432 with 3 Axes>"
      ]
     },
     "metadata": {},
     "output_type": "display_data"
    },
    {
     "data": {
      "text/plain": [
       "'Index: 3'"
      ]
     },
     "metadata": {},
     "output_type": "display_data"
    },
    {
     "data": {
      "text/plain": [
       "('DNA2', 'TOM1')"
      ]
     },
     "metadata": {},
     "output_type": "display_data"
    },
    {
     "data": {
      "image/png": "[encoded data removed]",
      "text/plain": [
       "<Figure size 432x432 with 3 Axes>"
      ]
     },
     "metadata": {},
     "output_type": "display_data"
    },
    {
     "data": {
      "text/plain": [
       "'Index: 4'"
      ]
     },
     "metadata": {},
     "output_type": "display_data"
    },
    {
     "data": {
      "text/plain": [
       "('PPAT', 'TOM1')"
      ]
     },
     "metadata": {},
     "output_type": "display_data"
    },
    {
     "data": {
      "image/png": "[encoded data removed]",
      "text/plain": [
       "<Figure size 432x432 with 3 Axes>"
      ]
     },
     "metadata": {},
     "output_type": "display_data"
    },
    {
     "data": {
      "text/plain": [
       "'Index: 5'"
      ]
     },
     "metadata": {},
     "output_type": "display_data"
    },
    {
     "data": {
      "text/plain": [
       "('WDHD1', 'TOM1')"
      ]
     },
     "metadata": {},
     "output_type": "display_data"
    },
    {
     "data": {
      "image/png": "[encoded data removed]",
      "text/plain": [
       "<Figure size 432x432 with 3 Axes>"
      ]
     },
     "metadata": {},
     "output_type": "display_data"
    },
    {
     "data": {
      "text/plain": [
       "'Index: 6'"
      ]
     },
     "metadata": {},
     "output_type": "display_data"
    },
    {
     "data": {
      "text/plain": [
       "('ERCC6L', 'TOM1')"
      ]
     },
     "metadata": {},
     "output_type": "display_data"
    },
    {
     "data": {
      "image/png": "[encoded data removed]",
      "text/plain": [
       "<Figure size 432x432 with 3 Axes>"
      ]
     },
     "metadata": {},
     "output_type": "display_data"
    },
    {
     "data": {
      "text/plain": [
       "'Index: 7'"
      ]
     },
     "metadata": {},
     "output_type": "display_data"
    },
    {
     "data": {
      "text/plain": [
       "('TNFSF12', 'FANCB')"
      ]
     },
     "metadata": {},
     "output_type": "display_data"
    },
    {
     "data": {
      "image/png": "[encoded data removed]",
      "text/plain": [
       "<Figure size 432x432 with 3 Axes>"
      ]
     },
     "metadata": {},
     "output_type": "display_data"
    },
    {
     "data": {
      "text/plain": [
       "'Index: 8'"
      ]
     },
     "metadata": {},
     "output_type": "display_data"
    },
    {
     "data": {
      "text/plain": [
       "('NUP155', 'TOM1')"
      ]
     },
     "metadata": {},
     "output_type": "display_data"
    },
    {
     "data": {
      "image/png": "[encoded data removed]",
      "text/plain": [
       "<Figure size 432x432 with 3 Axes>"
      ]
     },
     "metadata": {},
     "output_type": "display_data"
    },
    {
     "data": {
      "text/plain": [
       "'Index: 9'"
      ]
     },
     "metadata": {},
     "output_type": "display_data"
    },
    {
     "data": {
      "text/plain": [
       "('POLA1', 'TOM1')"
      ]
     },
     "metadata": {},
     "output_type": "display_data"
    },
    {
     "data": {
      "image/png": "[encoded data removed]",
      "text/plain": [
       "<Figure size 432x432 with 3 Axes>"
      ]
     },
     "metadata": {},
     "output_type": "display_data"
    }
   ],
   "source": [
    "for i in range(10):\n",
    "    display(f\"Index: {i}\")\n",
    "    p = plot_gene_pair(_tmp_df, i)\n",
    "    display(p.fig)\n",
    "    plt.close(p.fig)"
   ]
  },
  {
   "cell_type": "code",
   "execution_count": 68,
   "id": "fc4fc860-c5fd-44a0-8796-7bc581b57f04",
   "metadata": {},
   "outputs": [
    {
     "data": {
      "text/plain": [
       "'Index: 1'"
      ]
     },
     "metadata": {},
     "output_type": "display_data"
    },
    {
     "data": {
      "text/plain": [
       "('PIK3R4', 'MYH11')"
      ]
     },
     "metadata": {},
     "output_type": "display_data"
    },
    {
     "data": {
      "image/png": "[encoded data removed]",
      "text/plain": [
       "<Figure size 432x432 with 3 Axes>"
      ]
     },
     "metadata": {},
     "output_type": "display_data"
    },
    {
     "data": {
      "text/plain": [
       "'Index: 2'"
      ]
     },
     "metadata": {},
     "output_type": "display_data"
    },
    {
     "data": {
      "text/plain": [
       "('PRPS2', 'ALOX12')"
      ]
     },
     "metadata": {},
     "output_type": "display_data"
    },
    {
     "data": {
      "image/png": "[encoded data removed]",
      "text/plain": [
       "<Figure size 432x432 with 3 Axes>"
      ]
     },
     "metadata": {},
     "output_type": "display_data"
    }
   ],
   "source": [
    "# reverse order\n",
    "for i in range(1, 3):\n",
    "    i = -i\n",
    "    display(f\"Index: {i}\")\n",
    "    p = plot_gene_pair(_tmp_df, i)\n",
    "    display(p.fig)\n",
    "    plt.close(p.fig)"
   ]
  },
  {
   "cell_type": "markdown",
   "id": "1d2747dd-e17a-47b4-b661-e4e57b7fff8f",
   "metadata": {
    "tags": []
   },
   "source": [
    "## Clustermatch vs Pearson"
   ]
  },
  {
   "cell_type": "code",
   "execution_count": null,
   "id": "9e86f9a0-1278-4f2b-8931-63fb90227d71",
   "metadata": {},
   "outputs": [],
   "source": [
    "first_coef = \"clustermatch\"\n",
    "second_coef = \"pearson\""
   ]
  },
  {
   "cell_type": "code",
   "execution_count": null,
   "id": "3aa38089-800d-4549-9e76-d3325ef8d97a",
   "metadata": {},
   "outputs": [],
   "source": [
    "_tmp_df = df_r_data[\n",
    "    (df_r_data[\"Clustermatch (high)\"])\n",
    "    & ~(df_r_data[\"Spearman (high)\"])\n",
    "    & ~(df_r_data[\"Pearson (high)\"])\n",
    "    & ~(df_r_data[\"Clustermatch (low)\"])\n",
    "    & ~(df_r_data[\"Spearman (low)\"])\n",
    "    & (df_r_data[\"Pearson (low)\"])\n",
    "]\n",
    "\n",
    "_tmp_df = _tmp_df.assign(\n",
    "    rank_diff=_tmp_df[f\"{first_coef}_rank\"].sub(_tmp_df[f\"{second_coef}_rank\"])\n",
    ")\n",
    "\n",
    "# show this just to make sure of the groups\n",
    "# display(_tmp_df.head())\n",
    "\n",
    "# sort by rank_diff\n",
    "_tmp_df = _tmp_df[[x for x in _tmp_df.columns if \" (\" not in x]].sort_values(\n",
    "    \"rank_diff\", ascending=False\n",
    ")\n",
    "\n",
    "# sort by firt_coef value\n",
    "# _tmp_df = _tmp_df[[x for x in df_r_data.columns if \"_\" not in x]].sort_values(\n",
    "#     first_coef, ascending=False\n",
    "# )\n",
    "\n",
    "# display(_tmp_df.shape)\n",
    "display(_tmp_df)"
   ]
  },
  {
   "cell_type": "code",
   "execution_count": null,
   "id": "b7374410-e1d6-4ccc-a71e-aeb647180d1a",
   "metadata": {},
   "outputs": [],
   "source": [
    "for i in range(10):\n",
    "    display(f\"Index: {i}\")\n",
    "    p = plot_gene_pair(_tmp_df, i)\n",
    "    display(p.fig)\n",
    "    plt.close(p.fig)"
   ]
  },
  {
   "cell_type": "code",
   "execution_count": null,
   "id": "a0b02661-593f-4786-bfd7-ef7d7d3f604b",
   "metadata": {},
   "outputs": [],
   "source": [
    "# reverse order\n",
    "for i in range(1, 5):\n",
    "    i = -i\n",
    "    display(f\"Index: {i}\")\n",
    "    p = plot_gene_pair(_tmp_df, i)\n",
    "    display(p.fig)\n",
    "    plt.close(p.fig)"
   ]
  },
  {
   "cell_type": "markdown",
   "id": "1ef37ea8-d10f-46be-9e97-ef61d90f2c59",
   "metadata": {
    "tags": []
   },
   "source": [
    "## Clustermatch vs Spearman/Pearson"
   ]
  },
  {
   "cell_type": "code",
   "execution_count": 69,
   "id": "ddd29e64-b4c5-4664-aa5a-5454b59e2106",
   "metadata": {},
   "outputs": [],
   "source": [
    "first_coef = \"clustermatch\"\n",
    "second_coef = \"pearson\"\n",
    "second_1_coef = \"spearman\""
   ]
  },
  {
   "cell_type": "code",
   "execution_count": 70,
   "id": "786e5244-2b80-49dd-b2ef-eef649d1e230",
   "metadata": {},
   "outputs": [
    {
     "data": {
      "text/html": [
       "<div>\n",
       "<style scoped>\n",
       "    .dataframe tbody tr th:only-of-type {\n",
       "        vertical-align: middle;\n",
       "    }\n",
       "\n",
       "    .dataframe tbody tr th {\n",
       "        vertical-align: top;\n",
       "    }\n",
       "\n",
       "    .dataframe thead th {\n",
       "        text-align: right;\n",
       "    }\n",
       "</style>\n",
       "<table border=\"1\" class=\"dataframe\">\n",
       "  <thead>\n",
       "    <tr style=\"text-align: right;\">\n",
       "      <th></th>\n",
       "      <th></th>\n",
       "      <th>clustermatch</th>\n",
       "      <th>pearson</th>\n",
       "      <th>spearman</th>\n",
       "      <th>clustermatch_rank</th>\n",
       "      <th>pearson_rank</th>\n",
       "      <th>spearman_rank</th>\n",
       "      <th>rank_diff</th>\n",
       "    </tr>\n",
       "  </thead>\n",
       "  <tbody>\n",
       "    <tr>\n",
       "      <th>NUP35</th>\n",
       "      <th>IL11RA</th>\n",
       "      <td>0.180141</td>\n",
       "      <td>0.000951</td>\n",
       "      <td>0.150847</td>\n",
       "      <td>19974992.0</td>\n",
       "      <td>733555.0</td>\n",
       "      <td>2115784.0</td>\n",
       "      <td>17125653.0</td>\n",
       "    </tr>\n",
       "    <tr>\n",
       "      <th>CTSO</th>\n",
       "      <th>ALG8</th>\n",
       "      <td>0.164942</td>\n",
       "      <td>0.000377</td>\n",
       "      <td>0.143227</td>\n",
       "      <td>18768422.0</td>\n",
       "      <td>290071.0</td>\n",
       "      <td>1944102.0</td>\n",
       "      <td>16534249.0</td>\n",
       "    </tr>\n",
       "    <tr>\n",
       "      <th>ZNF394</th>\n",
       "      <th>PPP2CB</th>\n",
       "      <td>0.189388</td>\n",
       "      <td>0.000852</td>\n",
       "      <td>0.196159</td>\n",
       "      <td>20514763.0</td>\n",
       "      <td>657162.0</td>\n",
       "      <td>3353313.0</td>\n",
       "      <td>16504288.0</td>\n",
       "    </tr>\n",
       "    <tr>\n",
       "      <th>EXOSC3</th>\n",
       "      <th>PIK3IP1</th>\n",
       "      <td>0.155463</td>\n",
       "      <td>0.000849</td>\n",
       "      <td>0.062019</td>\n",
       "      <td>17760931.0</td>\n",
       "      <td>654626.0</td>\n",
       "      <td>623075.0</td>\n",
       "      <td>16483230.0</td>\n",
       "    </tr>\n",
       "    <tr>\n",
       "      <th>NOD2</th>\n",
       "      <th>NUDT11</th>\n",
       "      <td>0.180798</td>\n",
       "      <td>0.002171</td>\n",
       "      <td>0.145926</td>\n",
       "      <td>20016913.0</td>\n",
       "      <td>1656822.0</td>\n",
       "      <td>2003817.0</td>\n",
       "      <td>16356274.0</td>\n",
       "    </tr>\n",
       "    <tr>\n",
       "      <th>...</th>\n",
       "      <th>...</th>\n",
       "      <td>...</td>\n",
       "      <td>...</td>\n",
       "      <td>...</td>\n",
       "      <td>...</td>\n",
       "      <td>...</td>\n",
       "      <td>...</td>\n",
       "      <td>...</td>\n",
       "    </tr>\n",
       "    <tr>\n",
       "      <th>ZNF480</th>\n",
       "      <th>CCR10</th>\n",
       "      <td>0.143088</td>\n",
       "      <td>0.010490</td>\n",
       "      <td>0.280861</td>\n",
       "      <td>16106961.0</td>\n",
       "      <td>6689441.0</td>\n",
       "      <td>6796809.0</td>\n",
       "      <td>2620711.0</td>\n",
       "    </tr>\n",
       "    <tr>\n",
       "      <th>SMG5</th>\n",
       "      <th>KCNAB1</th>\n",
       "      <td>0.143697</td>\n",
       "      <td>0.010704</td>\n",
       "      <td>0.281243</td>\n",
       "      <td>16197213.0</td>\n",
       "      <td>6794865.0</td>\n",
       "      <td>6815835.0</td>\n",
       "      <td>2586513.0</td>\n",
       "    </tr>\n",
       "    <tr>\n",
       "      <th>GSS</th>\n",
       "      <th>CALCOCO1</th>\n",
       "      <td>0.142235</td>\n",
       "      <td>0.010457</td>\n",
       "      <td>0.279612</td>\n",
       "      <td>15978298.0</td>\n",
       "      <td>6672875.0</td>\n",
       "      <td>6735433.0</td>\n",
       "      <td>2569990.0</td>\n",
       "    </tr>\n",
       "    <tr>\n",
       "      <th>SIRT7</th>\n",
       "      <th>ZNF519</th>\n",
       "      <td>0.142407</td>\n",
       "      <td>0.010556</td>\n",
       "      <td>0.279399</td>\n",
       "      <td>16003983.0</td>\n",
       "      <td>6722265.0</td>\n",
       "      <td>6724825.0</td>\n",
       "      <td>2556893.0</td>\n",
       "    </tr>\n",
       "    <tr>\n",
       "      <th>POLB</th>\n",
       "      <th>ADI1</th>\n",
       "      <td>0.142204</td>\n",
       "      <td>0.010593</td>\n",
       "      <td>0.279637</td>\n",
       "      <td>15974101.0</td>\n",
       "      <td>6740243.0</td>\n",
       "      <td>6736603.0</td>\n",
       "      <td>2497255.0</td>\n",
       "    </tr>\n",
       "  </tbody>\n",
       "</table>\n",
       "<p>15076 rows × 7 columns</p>\n",
       "</div>"
      ],
      "text/plain": [
       "                 clustermatch   pearson  spearman  clustermatch_rank  \\\n",
       "NUP35  IL11RA        0.180141  0.000951  0.150847         19974992.0   \n",
       "CTSO   ALG8          0.164942  0.000377  0.143227         18768422.0   \n",
       "ZNF394 PPP2CB        0.189388  0.000852  0.196159         20514763.0   \n",
       "EXOSC3 PIK3IP1       0.155463  0.000849  0.062019         17760931.0   \n",
       "NOD2   NUDT11        0.180798  0.002171  0.145926         20016913.0   \n",
       "...                       ...       ...       ...                ...   \n",
       "ZNF480 CCR10         0.143088  0.010490  0.280861         16106961.0   \n",
       "SMG5   KCNAB1        0.143697  0.010704  0.281243         16197213.0   \n",
       "GSS    CALCOCO1      0.142235  0.010457  0.279612         15978298.0   \n",
       "SIRT7  ZNF519        0.142407  0.010556  0.279399         16003983.0   \n",
       "POLB   ADI1          0.142204  0.010593  0.279637         15974101.0   \n",
       "\n",
       "                 pearson_rank  spearman_rank   rank_diff  \n",
       "NUP35  IL11RA        733555.0      2115784.0  17125653.0  \n",
       "CTSO   ALG8          290071.0      1944102.0  16534249.0  \n",
       "ZNF394 PPP2CB        657162.0      3353313.0  16504288.0  \n",
       "EXOSC3 PIK3IP1       654626.0       623075.0  16483230.0  \n",
       "NOD2   NUDT11       1656822.0      2003817.0  16356274.0  \n",
       "...                       ...            ...         ...  \n",
       "ZNF480 CCR10        6689441.0      6796809.0   2620711.0  \n",
       "SMG5   KCNAB1       6794865.0      6815835.0   2586513.0  \n",
       "GSS    CALCOCO1     6672875.0      6735433.0   2569990.0  \n",
       "SIRT7  ZNF519       6722265.0      6724825.0   2556893.0  \n",
       "POLB   ADI1         6740243.0      6736603.0   2497255.0  \n",
       "\n",
       "[15076 rows x 7 columns]"
      ]
     },
     "metadata": {},
     "output_type": "display_data"
    }
   ],
   "source": [
    "_tmp_df = df_r_data[\n",
    "    (df_r_data[\"Clustermatch (high)\"])\n",
    "    & ~(df_r_data[\"Spearman (high)\"])\n",
    "    & ~(df_r_data[\"Pearson (high)\"])\n",
    "    & ~(df_r_data[\"Clustermatch (low)\"])\n",
    "    & (df_r_data[\"Spearman (low)\"])\n",
    "    & (df_r_data[\"Pearson (low)\"])\n",
    "]\n",
    "\n",
    "_tmp_df = _tmp_df.assign(\n",
    "    rank_diff=_tmp_df[f\"{first_coef}_rank\"].sub(_tmp_df[f\"{second_coef}_rank\"].add(_tmp_df[f\"{second_1_coef}_rank\"]))\n",
    ")\n",
    "\n",
    "# show this just to make sure of the groups\n",
    "# display(_tmp_df.head())\n",
    "\n",
    "# sort by rank_diff\n",
    "_tmp_df = _tmp_df[[x for x in _tmp_df.columns if \" (\" not in x]].sort_values(\n",
    "    \"rank_diff\", ascending=False\n",
    ")\n",
    "\n",
    "# sort by firt_coef value\n",
    "# _tmp_df = _tmp_df[[x for x in df_r_data.columns if \"_\" not in x]].sort_values(\n",
    "#     first_coef, ascending=False\n",
    "# )\n",
    "\n",
    "# display(_tmp_df.shape)\n",
    "display(_tmp_df)"
   ]
  },
  {
   "cell_type": "code",
   "execution_count": 71,
   "id": "d8834d91-f673-495f-b85f-a1f378fc84b7",
   "metadata": {},
   "outputs": [
    {
     "data": {
      "text/plain": [
       "'Index: 0'"
      ]
     },
     "metadata": {},
     "output_type": "display_data"
    },
    {
     "data": {
      "text/plain": [
       "('NUP35', 'IL11RA')"
      ]
     },
     "metadata": {},
     "output_type": "display_data"
    },
    {
     "data": {
      "image/png": "[encoded data removed]",
      "text/plain": [
       "<Figure size 432x432 with 3 Axes>"
      ]
     },
     "metadata": {},
     "output_type": "display_data"
    },
    {
     "data": {
      "text/plain": [
       "'Index: 1'"
      ]
     },
     "metadata": {},
     "output_type": "display_data"
    },
    {
     "data": {
      "text/plain": [
       "('CTSO', 'ALG8')"
      ]
     },
     "metadata": {},
     "output_type": "display_data"
    },
    {
     "data": {
      "image/png": "[encoded data removed]",
      "text/plain": [
       "<Figure size 432x432 with 3 Axes>"
      ]
     },
     "metadata": {},
     "output_type": "display_data"
    },
    {
     "data": {
      "text/plain": [
       "'Index: 2'"
      ]
     },
     "metadata": {},
     "output_type": "display_data"
    },
    {
     "data": {
      "text/plain": [
       "('ZNF394', 'PPP2CB')"
      ]
     },
     "metadata": {},
     "output_type": "display_data"
    },
    {
     "data": {
      "image/png": "[encoded data removed]",
      "text/plain": [
       "<Figure size 432x432 with 3 Axes>"
      ]
     },
     "metadata": {},
     "output_type": "display_data"
    },
    {
     "data": {
      "text/plain": [
       "'Index: 3'"
      ]
     },
     "metadata": {},
     "output_type": "display_data"
    },
    {
     "data": {
      "text/plain": [
       "('EXOSC3', 'PIK3IP1')"
      ]
     },
     "metadata": {},
     "output_type": "display_data"
    },
    {
     "data": {
      "image/png": "[encoded data removed]",
      "text/plain": [
       "<Figure size 432x432 with 3 Axes>"
      ]
     },
     "metadata": {},
     "output_type": "display_data"
    },
    {
     "data": {
      "text/plain": [
       "'Index: 4'"
      ]
     },
     "metadata": {},
     "output_type": "display_data"
    },
    {
     "data": {
      "text/plain": [
       "('NOD2', 'NUDT11')"
      ]
     },
     "metadata": {},
     "output_type": "display_data"
    },
    {
     "ename": "KeyboardInterrupt",
     "evalue": "",
     "output_type": "error",
     "traceback": [
      "\u001b[0;31m---------------------------------------------------------------------------\u001b[0m",
      "\u001b[0;31mKeyboardInterrupt\u001b[0m                         Traceback (most recent call last)",
      "\u001b[0;32m/tmp/ipykernel_575/2939435656.py\u001b[0m in \u001b[0;36m<module>\u001b[0;34m\u001b[0m\n\u001b[1;32m      2\u001b[0m     \u001b[0mdisplay\u001b[0m\u001b[0;34m(\u001b[0m\u001b[0;34mf\"Index: {i}\"\u001b[0m\u001b[0;34m)\u001b[0m\u001b[0;34m\u001b[0m\u001b[0;34m\u001b[0m\u001b[0m\n\u001b[1;32m      3\u001b[0m     \u001b[0mp\u001b[0m \u001b[0;34m=\u001b[0m \u001b[0mplot_gene_pair\u001b[0m\u001b[0;34m(\u001b[0m\u001b[0m_tmp_df\u001b[0m\u001b[0;34m,\u001b[0m \u001b[0mi\u001b[0m\u001b[0;34m)\u001b[0m\u001b[0;34m\u001b[0m\u001b[0;34m\u001b[0m\u001b[0m\n\u001b[0;32m----> 4\u001b[0;31m     \u001b[0mdisplay\u001b[0m\u001b[0;34m(\u001b[0m\u001b[0mp\u001b[0m\u001b[0;34m.\u001b[0m\u001b[0mfig\u001b[0m\u001b[0;34m)\u001b[0m\u001b[0;34m\u001b[0m\u001b[0;34m\u001b[0m\u001b[0m\n\u001b[0m\u001b[1;32m      5\u001b[0m     \u001b[0mplt\u001b[0m\u001b[0;34m.\u001b[0m\u001b[0mclose\u001b[0m\u001b[0;34m(\u001b[0m\u001b[0mp\u001b[0m\u001b[0;34m.\u001b[0m\u001b[0mfig\u001b[0m\u001b[0;34m)\u001b[0m\u001b[0;34m\u001b[0m\u001b[0;34m\u001b[0m\u001b[0m\n",
      "\u001b[0;32m/opt/conda/envs/clustermatch_gene_expr/lib/python3.9/site-packages/IPython/core/display.py\u001b[0m in \u001b[0;36mdisplay\u001b[0;34m(include, exclude, metadata, transient, display_id, *objs, **kwargs)\u001b[0m\n\u001b[1;32m    318\u001b[0m             \u001b[0mpublish_display_data\u001b[0m\u001b[0;34m(\u001b[0m\u001b[0mdata\u001b[0m\u001b[0;34m=\u001b[0m\u001b[0mobj\u001b[0m\u001b[0;34m,\u001b[0m \u001b[0mmetadata\u001b[0m\u001b[0;34m=\u001b[0m\u001b[0mmetadata\u001b[0m\u001b[0;34m,\u001b[0m \u001b[0;34m**\u001b[0m\u001b[0mkwargs\u001b[0m\u001b[0;34m)\u001b[0m\u001b[0;34m\u001b[0m\u001b[0;34m\u001b[0m\u001b[0m\n\u001b[1;32m    319\u001b[0m         \u001b[0;32melse\u001b[0m\u001b[0;34m:\u001b[0m\u001b[0;34m\u001b[0m\u001b[0;34m\u001b[0m\u001b[0m\n\u001b[0;32m--> 320\u001b[0;31m             \u001b[0mformat_dict\u001b[0m\u001b[0;34m,\u001b[0m \u001b[0mmd_dict\u001b[0m \u001b[0;34m=\u001b[0m \u001b[0mformat\u001b[0m\u001b[0;34m(\u001b[0m\u001b[0mobj\u001b[0m\u001b[0;34m,\u001b[0m \u001b[0minclude\u001b[0m\u001b[0;34m=\u001b[0m\u001b[0minclude\u001b[0m\u001b[0;34m,\u001b[0m \u001b[0mexclude\u001b[0m\u001b[0;34m=\u001b[0m\u001b[0mexclude\u001b[0m\u001b[0;34m)\u001b[0m\u001b[0;34m\u001b[0m\u001b[0;34m\u001b[0m\u001b[0m\n\u001b[0m\u001b[1;32m    321\u001b[0m             \u001b[0;32mif\u001b[0m \u001b[0;32mnot\u001b[0m \u001b[0mformat_dict\u001b[0m\u001b[0;34m:\u001b[0m\u001b[0;34m\u001b[0m\u001b[0;34m\u001b[0m\u001b[0m\n\u001b[1;32m    322\u001b[0m                 \u001b[0;31m# nothing to display (e.g. _ipython_display_ took over)\u001b[0m\u001b[0;34m\u001b[0m\u001b[0;34m\u001b[0m\u001b[0m\n",
      "\u001b[0;32m/opt/conda/envs/clustermatch_gene_expr/lib/python3.9/site-packages/IPython/core/formatters.py\u001b[0m in \u001b[0;36mformat\u001b[0;34m(self, obj, include, exclude)\u001b[0m\n\u001b[1;32m    178\u001b[0m             \u001b[0mmd\u001b[0m \u001b[0;34m=\u001b[0m \u001b[0;32mNone\u001b[0m\u001b[0;34m\u001b[0m\u001b[0;34m\u001b[0m\u001b[0m\n\u001b[1;32m    179\u001b[0m             \u001b[0;32mtry\u001b[0m\u001b[0;34m:\u001b[0m\u001b[0;34m\u001b[0m\u001b[0;34m\u001b[0m\u001b[0m\n\u001b[0;32m--> 180\u001b[0;31m                 \u001b[0mdata\u001b[0m \u001b[0;34m=\u001b[0m \u001b[0mformatter\u001b[0m\u001b[0;34m(\u001b[0m\u001b[0mobj\u001b[0m\u001b[0;34m)\u001b[0m\u001b[0;34m\u001b[0m\u001b[0;34m\u001b[0m\u001b[0m\n\u001b[0m\u001b[1;32m    181\u001b[0m             \u001b[0;32mexcept\u001b[0m\u001b[0;34m:\u001b[0m\u001b[0;34m\u001b[0m\u001b[0;34m\u001b[0m\u001b[0m\n\u001b[1;32m    182\u001b[0m                 \u001b[0;31m# FIXME: log the exception\u001b[0m\u001b[0;34m\u001b[0m\u001b[0;34m\u001b[0m\u001b[0m\n",
      "\u001b[0;32m/opt/conda/envs/clustermatch_gene_expr/lib/python3.9/site-packages/decorator.py\u001b[0m in \u001b[0;36mfun\u001b[0;34m(*args, **kw)\u001b[0m\n\u001b[1;32m    230\u001b[0m             \u001b[0;32mif\u001b[0m \u001b[0;32mnot\u001b[0m \u001b[0mkwsyntax\u001b[0m\u001b[0;34m:\u001b[0m\u001b[0;34m\u001b[0m\u001b[0;34m\u001b[0m\u001b[0m\n\u001b[1;32m    231\u001b[0m                 \u001b[0margs\u001b[0m\u001b[0;34m,\u001b[0m \u001b[0mkw\u001b[0m \u001b[0;34m=\u001b[0m \u001b[0mfix\u001b[0m\u001b[0;34m(\u001b[0m\u001b[0margs\u001b[0m\u001b[0;34m,\u001b[0m \u001b[0mkw\u001b[0m\u001b[0;34m,\u001b[0m \u001b[0msig\u001b[0m\u001b[0;34m)\u001b[0m\u001b[0;34m\u001b[0m\u001b[0;34m\u001b[0m\u001b[0m\n\u001b[0;32m--> 232\u001b[0;31m             \u001b[0;32mreturn\u001b[0m \u001b[0mcaller\u001b[0m\u001b[0;34m(\u001b[0m\u001b[0mfunc\u001b[0m\u001b[0;34m,\u001b[0m \u001b[0;34m*\u001b[0m\u001b[0;34m(\u001b[0m\u001b[0mextras\u001b[0m \u001b[0;34m+\u001b[0m \u001b[0margs\u001b[0m\u001b[0;34m)\u001b[0m\u001b[0;34m,\u001b[0m \u001b[0;34m**\u001b[0m\u001b[0mkw\u001b[0m\u001b[0;34m)\u001b[0m\u001b[0;34m\u001b[0m\u001b[0;34m\u001b[0m\u001b[0m\n\u001b[0m\u001b[1;32m    233\u001b[0m     \u001b[0mfun\u001b[0m\u001b[0;34m.\u001b[0m\u001b[0m__name__\u001b[0m \u001b[0;34m=\u001b[0m \u001b[0mfunc\u001b[0m\u001b[0;34m.\u001b[0m\u001b[0m__name__\u001b[0m\u001b[0;34m\u001b[0m\u001b[0;34m\u001b[0m\u001b[0m\n\u001b[1;32m    234\u001b[0m     \u001b[0mfun\u001b[0m\u001b[0;34m.\u001b[0m\u001b[0m__doc__\u001b[0m \u001b[0;34m=\u001b[0m \u001b[0mfunc\u001b[0m\u001b[0;34m.\u001b[0m\u001b[0m__doc__\u001b[0m\u001b[0;34m\u001b[0m\u001b[0;34m\u001b[0m\u001b[0m\n",
      "\u001b[0;32m/opt/conda/envs/clustermatch_gene_expr/lib/python3.9/site-packages/IPython/core/formatters.py\u001b[0m in \u001b[0;36mcatch_format_error\u001b[0;34m(method, self, *args, **kwargs)\u001b[0m\n\u001b[1;32m    222\u001b[0m     \u001b[0;34m\"\"\"show traceback on failed format call\"\"\"\u001b[0m\u001b[0;34m\u001b[0m\u001b[0;34m\u001b[0m\u001b[0m\n\u001b[1;32m    223\u001b[0m     \u001b[0;32mtry\u001b[0m\u001b[0;34m:\u001b[0m\u001b[0;34m\u001b[0m\u001b[0;34m\u001b[0m\u001b[0m\n\u001b[0;32m--> 224\u001b[0;31m         \u001b[0mr\u001b[0m \u001b[0;34m=\u001b[0m \u001b[0mmethod\u001b[0m\u001b[0;34m(\u001b[0m\u001b[0mself\u001b[0m\u001b[0;34m,\u001b[0m \u001b[0;34m*\u001b[0m\u001b[0margs\u001b[0m\u001b[0;34m,\u001b[0m \u001b[0;34m**\u001b[0m\u001b[0mkwargs\u001b[0m\u001b[0;34m)\u001b[0m\u001b[0;34m\u001b[0m\u001b[0;34m\u001b[0m\u001b[0m\n\u001b[0m\u001b[1;32m    225\u001b[0m     \u001b[0;32mexcept\u001b[0m \u001b[0mNotImplementedError\u001b[0m\u001b[0;34m:\u001b[0m\u001b[0;34m\u001b[0m\u001b[0;34m\u001b[0m\u001b[0m\n\u001b[1;32m    226\u001b[0m         \u001b[0;31m# don't warn on NotImplementedErrors\u001b[0m\u001b[0;34m\u001b[0m\u001b[0;34m\u001b[0m\u001b[0m\n",
      "\u001b[0;32m/opt/conda/envs/clustermatch_gene_expr/lib/python3.9/site-packages/IPython/core/formatters.py\u001b[0m in \u001b[0;36m__call__\u001b[0;34m(self, obj)\u001b[0m\n\u001b[1;32m    339\u001b[0m                 \u001b[0;32mpass\u001b[0m\u001b[0;34m\u001b[0m\u001b[0;34m\u001b[0m\u001b[0m\n\u001b[1;32m    340\u001b[0m             \u001b[0;32melse\u001b[0m\u001b[0;34m:\u001b[0m\u001b[0;34m\u001b[0m\u001b[0;34m\u001b[0m\u001b[0m\n\u001b[0;32m--> 341\u001b[0;31m                 \u001b[0;32mreturn\u001b[0m \u001b[0mprinter\u001b[0m\u001b[0;34m(\u001b[0m\u001b[0mobj\u001b[0m\u001b[0;34m)\u001b[0m\u001b[0;34m\u001b[0m\u001b[0;34m\u001b[0m\u001b[0m\n\u001b[0m\u001b[1;32m    342\u001b[0m             \u001b[0;31m# Finally look for special method names\u001b[0m\u001b[0;34m\u001b[0m\u001b[0;34m\u001b[0m\u001b[0m\n\u001b[1;32m    343\u001b[0m             \u001b[0mmethod\u001b[0m \u001b[0;34m=\u001b[0m \u001b[0mget_real_method\u001b[0m\u001b[0;34m(\u001b[0m\u001b[0mobj\u001b[0m\u001b[0;34m,\u001b[0m \u001b[0mself\u001b[0m\u001b[0;34m.\u001b[0m\u001b[0mprint_method\u001b[0m\u001b[0;34m)\u001b[0m\u001b[0;34m\u001b[0m\u001b[0;34m\u001b[0m\u001b[0m\n",
      "\u001b[0;32m/opt/conda/envs/clustermatch_gene_expr/lib/python3.9/site-packages/IPython/core/pylabtools.py\u001b[0m in \u001b[0;36mprint_figure\u001b[0;34m(fig, fmt, bbox_inches, base64, **kwargs)\u001b[0m\n\u001b[1;32m    149\u001b[0m         \u001b[0mFigureCanvasBase\u001b[0m\u001b[0;34m(\u001b[0m\u001b[0mfig\u001b[0m\u001b[0;34m)\u001b[0m\u001b[0;34m\u001b[0m\u001b[0;34m\u001b[0m\u001b[0m\n\u001b[1;32m    150\u001b[0m \u001b[0;34m\u001b[0m\u001b[0m\n\u001b[0;32m--> 151\u001b[0;31m     \u001b[0mfig\u001b[0m\u001b[0;34m.\u001b[0m\u001b[0mcanvas\u001b[0m\u001b[0;34m.\u001b[0m\u001b[0mprint_figure\u001b[0m\u001b[0;34m(\u001b[0m\u001b[0mbytes_io\u001b[0m\u001b[0;34m,\u001b[0m \u001b[0;34m**\u001b[0m\u001b[0mkw\u001b[0m\u001b[0;34m)\u001b[0m\u001b[0;34m\u001b[0m\u001b[0;34m\u001b[0m\u001b[0m\n\u001b[0m\u001b[1;32m    152\u001b[0m     \u001b[0mdata\u001b[0m \u001b[0;34m=\u001b[0m \u001b[0mbytes_io\u001b[0m\u001b[0;34m.\u001b[0m\u001b[0mgetvalue\u001b[0m\u001b[0;34m(\u001b[0m\u001b[0;34m)\u001b[0m\u001b[0;34m\u001b[0m\u001b[0;34m\u001b[0m\u001b[0m\n\u001b[1;32m    153\u001b[0m     \u001b[0;32mif\u001b[0m \u001b[0mfmt\u001b[0m \u001b[0;34m==\u001b[0m \u001b[0;34m'svg'\u001b[0m\u001b[0;34m:\u001b[0m\u001b[0;34m\u001b[0m\u001b[0;34m\u001b[0m\u001b[0m\n",
      "\u001b[0;32m/opt/conda/envs/clustermatch_gene_expr/lib/python3.9/site-packages/matplotlib/backend_bases.py\u001b[0m in \u001b[0;36mprint_figure\u001b[0;34m(self, filename, dpi, facecolor, edgecolor, orientation, format, bbox_inches, pad_inches, bbox_extra_artists, backend, **kwargs)\u001b[0m\n\u001b[1;32m   2232\u001b[0m             \u001b[0;32mif\u001b[0m \u001b[0mbbox_inches\u001b[0m\u001b[0;34m:\u001b[0m\u001b[0;34m\u001b[0m\u001b[0;34m\u001b[0m\u001b[0m\n\u001b[1;32m   2233\u001b[0m                 \u001b[0;32mif\u001b[0m \u001b[0mbbox_inches\u001b[0m \u001b[0;34m==\u001b[0m \u001b[0;34m\"tight\"\u001b[0m\u001b[0;34m:\u001b[0m\u001b[0;34m\u001b[0m\u001b[0;34m\u001b[0m\u001b[0m\n\u001b[0;32m-> 2234\u001b[0;31m                     bbox_inches = self.figure.get_tightbbox(\n\u001b[0m\u001b[1;32m   2235\u001b[0m                         renderer, bbox_extra_artists=bbox_extra_artists)\n\u001b[1;32m   2236\u001b[0m                     \u001b[0;32mif\u001b[0m \u001b[0mpad_inches\u001b[0m \u001b[0;32mis\u001b[0m \u001b[0;32mNone\u001b[0m\u001b[0;34m:\u001b[0m\u001b[0;34m\u001b[0m\u001b[0;34m\u001b[0m\u001b[0m\n",
      "\u001b[0;32m/opt/conda/envs/clustermatch_gene_expr/lib/python3.9/site-packages/matplotlib/figure.py\u001b[0m in \u001b[0;36mget_tightbbox\u001b[0;34m(self, renderer, bbox_extra_artists)\u001b[0m\n\u001b[1;32m   1646\u001b[0m                 \u001b[0;31m# need this conditional....\u001b[0m\u001b[0;34m\u001b[0m\u001b[0;34m\u001b[0m\u001b[0m\n\u001b[1;32m   1647\u001b[0m                 \u001b[0;32mtry\u001b[0m\u001b[0;34m:\u001b[0m\u001b[0;34m\u001b[0m\u001b[0;34m\u001b[0m\u001b[0m\n\u001b[0;32m-> 1648\u001b[0;31m                     bbox = ax.get_tightbbox(\n\u001b[0m\u001b[1;32m   1649\u001b[0m                         renderer, bbox_extra_artists=bbox_extra_artists)\n\u001b[1;32m   1650\u001b[0m                 \u001b[0;32mexcept\u001b[0m \u001b[0mTypeError\u001b[0m\u001b[0;34m:\u001b[0m\u001b[0;34m\u001b[0m\u001b[0;34m\u001b[0m\u001b[0m\n",
      "\u001b[0;32m/opt/conda/envs/clustermatch_gene_expr/lib/python3.9/site-packages/matplotlib/axes/_base.py\u001b[0m in \u001b[0;36mget_tightbbox\u001b[0;34m(self, renderer, call_axes_locator, bbox_extra_artists, for_layout_only)\u001b[0m\n\u001b[1;32m   4469\u001b[0m             \u001b[0mclip_extent\u001b[0m \u001b[0;34m=\u001b[0m \u001b[0ma\u001b[0m\u001b[0;34m.\u001b[0m\u001b[0m_get_clipping_extent_bbox\u001b[0m\u001b[0;34m(\u001b[0m\u001b[0;34m)\u001b[0m\u001b[0;34m\u001b[0m\u001b[0;34m\u001b[0m\u001b[0m\n\u001b[1;32m   4470\u001b[0m             \u001b[0;32mif\u001b[0m \u001b[0mclip_extent\u001b[0m \u001b[0;32mis\u001b[0m \u001b[0;32mnot\u001b[0m \u001b[0;32mNone\u001b[0m\u001b[0;34m:\u001b[0m\u001b[0;34m\u001b[0m\u001b[0;34m\u001b[0m\u001b[0m\n\u001b[0;32m-> 4471\u001b[0;31m                 clip_extent = mtransforms.Bbox.intersection(\n\u001b[0m\u001b[1;32m   4472\u001b[0m                     clip_extent, axbbox)\n\u001b[1;32m   4473\u001b[0m                 \u001b[0;32mif\u001b[0m \u001b[0mnp\u001b[0m\u001b[0;34m.\u001b[0m\u001b[0mall\u001b[0m\u001b[0;34m(\u001b[0m\u001b[0mclip_extent\u001b[0m\u001b[0;34m.\u001b[0m\u001b[0mextents\u001b[0m \u001b[0;34m==\u001b[0m \u001b[0maxbbox\u001b[0m\u001b[0;34m.\u001b[0m\u001b[0mextents\u001b[0m\u001b[0;34m)\u001b[0m\u001b[0;34m:\u001b[0m\u001b[0;34m\u001b[0m\u001b[0;34m\u001b[0m\u001b[0m\n",
      "\u001b[0;31mKeyboardInterrupt\u001b[0m: "
     ]
    },
    {
     "name": "stdout",
     "output_type": "stream",
     "text": [
      "Error in callback <function flush_figures at 0x7f961e5deca0> (for post_execute):\n"
     ]
    },
    {
     "ename": "KeyboardInterrupt",
     "evalue": "",
     "output_type": "error",
     "traceback": [
      "\u001b[0;31m---------------------------------------------------------------------------\u001b[0m",
      "\u001b[0;31mKeyboardInterrupt\u001b[0m                         Traceback (most recent call last)",
      "\u001b[0;32m/opt/conda/envs/clustermatch_gene_expr/lib/python3.9/site-packages/matplotlib_inline/backend_inline.py\u001b[0m in \u001b[0;36mflush_figures\u001b[0;34m()\u001b[0m\n\u001b[1;32m    119\u001b[0m         \u001b[0;31m# ignore the tracking, just draw and close all figures\u001b[0m\u001b[0;34m\u001b[0m\u001b[0;34m\u001b[0m\u001b[0m\n\u001b[1;32m    120\u001b[0m         \u001b[0;32mtry\u001b[0m\u001b[0;34m:\u001b[0m\u001b[0;34m\u001b[0m\u001b[0;34m\u001b[0m\u001b[0m\n\u001b[0;32m--> 121\u001b[0;31m             \u001b[0;32mreturn\u001b[0m \u001b[0mshow\u001b[0m\u001b[0;34m(\u001b[0m\u001b[0;32mTrue\u001b[0m\u001b[0;34m)\u001b[0m\u001b[0;34m\u001b[0m\u001b[0;34m\u001b[0m\u001b[0m\n\u001b[0m\u001b[1;32m    122\u001b[0m         \u001b[0;32mexcept\u001b[0m \u001b[0mException\u001b[0m \u001b[0;32mas\u001b[0m \u001b[0me\u001b[0m\u001b[0;34m:\u001b[0m\u001b[0;34m\u001b[0m\u001b[0;34m\u001b[0m\u001b[0m\n\u001b[1;32m    123\u001b[0m             \u001b[0;31m# safely show traceback if in IPython, else raise\u001b[0m\u001b[0;34m\u001b[0m\u001b[0;34m\u001b[0m\u001b[0m\n",
      "\u001b[0;32m/opt/conda/envs/clustermatch_gene_expr/lib/python3.9/site-packages/matplotlib_inline/backend_inline.py\u001b[0m in \u001b[0;36mshow\u001b[0;34m(close, block)\u001b[0m\n\u001b[1;32m     39\u001b[0m     \u001b[0;32mtry\u001b[0m\u001b[0;34m:\u001b[0m\u001b[0;34m\u001b[0m\u001b[0;34m\u001b[0m\u001b[0m\n\u001b[1;32m     40\u001b[0m         \u001b[0;32mfor\u001b[0m \u001b[0mfigure_manager\u001b[0m \u001b[0;32min\u001b[0m \u001b[0mGcf\u001b[0m\u001b[0;34m.\u001b[0m\u001b[0mget_all_fig_managers\u001b[0m\u001b[0;34m(\u001b[0m\u001b[0;34m)\u001b[0m\u001b[0;34m:\u001b[0m\u001b[0;34m\u001b[0m\u001b[0;34m\u001b[0m\u001b[0m\n\u001b[0;32m---> 41\u001b[0;31m             display(\n\u001b[0m\u001b[1;32m     42\u001b[0m                 \u001b[0mfigure_manager\u001b[0m\u001b[0;34m.\u001b[0m\u001b[0mcanvas\u001b[0m\u001b[0;34m.\u001b[0m\u001b[0mfigure\u001b[0m\u001b[0;34m,\u001b[0m\u001b[0;34m\u001b[0m\u001b[0;34m\u001b[0m\u001b[0m\n\u001b[1;32m     43\u001b[0m                 \u001b[0mmetadata\u001b[0m\u001b[0;34m=\u001b[0m\u001b[0m_fetch_figure_metadata\u001b[0m\u001b[0;34m(\u001b[0m\u001b[0mfigure_manager\u001b[0m\u001b[0;34m.\u001b[0m\u001b[0mcanvas\u001b[0m\u001b[0;34m.\u001b[0m\u001b[0mfigure\u001b[0m\u001b[0;34m)\u001b[0m\u001b[0;34m\u001b[0m\u001b[0;34m\u001b[0m\u001b[0m\n",
      "\u001b[0;32m/opt/conda/envs/clustermatch_gene_expr/lib/python3.9/site-packages/IPython/core/display.py\u001b[0m in \u001b[0;36mdisplay\u001b[0;34m(include, exclude, metadata, transient, display_id, *objs, **kwargs)\u001b[0m\n\u001b[1;32m    318\u001b[0m             \u001b[0mpublish_display_data\u001b[0m\u001b[0;34m(\u001b[0m\u001b[0mdata\u001b[0m\u001b[0;34m=\u001b[0m\u001b[0mobj\u001b[0m\u001b[0;34m,\u001b[0m \u001b[0mmetadata\u001b[0m\u001b[0;34m=\u001b[0m\u001b[0mmetadata\u001b[0m\u001b[0;34m,\u001b[0m \u001b[0;34m**\u001b[0m\u001b[0mkwargs\u001b[0m\u001b[0;34m)\u001b[0m\u001b[0;34m\u001b[0m\u001b[0;34m\u001b[0m\u001b[0m\n\u001b[1;32m    319\u001b[0m         \u001b[0;32melse\u001b[0m\u001b[0;34m:\u001b[0m\u001b[0;34m\u001b[0m\u001b[0;34m\u001b[0m\u001b[0m\n\u001b[0;32m--> 320\u001b[0;31m             \u001b[0mformat_dict\u001b[0m\u001b[0;34m,\u001b[0m \u001b[0mmd_dict\u001b[0m \u001b[0;34m=\u001b[0m \u001b[0mformat\u001b[0m\u001b[0;34m(\u001b[0m\u001b[0mobj\u001b[0m\u001b[0;34m,\u001b[0m \u001b[0minclude\u001b[0m\u001b[0;34m=\u001b[0m\u001b[0minclude\u001b[0m\u001b[0;34m,\u001b[0m \u001b[0mexclude\u001b[0m\u001b[0;34m=\u001b[0m\u001b[0mexclude\u001b[0m\u001b[0;34m)\u001b[0m\u001b[0;34m\u001b[0m\u001b[0;34m\u001b[0m\u001b[0m\n\u001b[0m\u001b[1;32m    321\u001b[0m             \u001b[0;32mif\u001b[0m \u001b[0;32mnot\u001b[0m \u001b[0mformat_dict\u001b[0m\u001b[0;34m:\u001b[0m\u001b[0;34m\u001b[0m\u001b[0;34m\u001b[0m\u001b[0m\n\u001b[1;32m    322\u001b[0m                 \u001b[0;31m# nothing to display (e.g. _ipython_display_ took over)\u001b[0m\u001b[0;34m\u001b[0m\u001b[0;34m\u001b[0m\u001b[0m\n",
      "\u001b[0;32m/opt/conda/envs/clustermatch_gene_expr/lib/python3.9/site-packages/IPython/core/formatters.py\u001b[0m in \u001b[0;36mformat\u001b[0;34m(self, obj, include, exclude)\u001b[0m\n\u001b[1;32m    178\u001b[0m             \u001b[0mmd\u001b[0m \u001b[0;34m=\u001b[0m \u001b[0;32mNone\u001b[0m\u001b[0;34m\u001b[0m\u001b[0;34m\u001b[0m\u001b[0m\n\u001b[1;32m    179\u001b[0m             \u001b[0;32mtry\u001b[0m\u001b[0;34m:\u001b[0m\u001b[0;34m\u001b[0m\u001b[0;34m\u001b[0m\u001b[0m\n\u001b[0;32m--> 180\u001b[0;31m                 \u001b[0mdata\u001b[0m \u001b[0;34m=\u001b[0m \u001b[0mformatter\u001b[0m\u001b[0;34m(\u001b[0m\u001b[0mobj\u001b[0m\u001b[0;34m)\u001b[0m\u001b[0;34m\u001b[0m\u001b[0;34m\u001b[0m\u001b[0m\n\u001b[0m\u001b[1;32m    181\u001b[0m             \u001b[0;32mexcept\u001b[0m\u001b[0;34m:\u001b[0m\u001b[0;34m\u001b[0m\u001b[0;34m\u001b[0m\u001b[0m\n\u001b[1;32m    182\u001b[0m                 \u001b[0;31m# FIXME: log the exception\u001b[0m\u001b[0;34m\u001b[0m\u001b[0;34m\u001b[0m\u001b[0m\n",
      "\u001b[0;32m/opt/conda/envs/clustermatch_gene_expr/lib/python3.9/site-packages/decorator.py\u001b[0m in \u001b[0;36mfun\u001b[0;34m(*args, **kw)\u001b[0m\n\u001b[1;32m    230\u001b[0m             \u001b[0;32mif\u001b[0m \u001b[0;32mnot\u001b[0m \u001b[0mkwsyntax\u001b[0m\u001b[0;34m:\u001b[0m\u001b[0;34m\u001b[0m\u001b[0;34m\u001b[0m\u001b[0m\n\u001b[1;32m    231\u001b[0m                 \u001b[0margs\u001b[0m\u001b[0;34m,\u001b[0m \u001b[0mkw\u001b[0m \u001b[0;34m=\u001b[0m \u001b[0mfix\u001b[0m\u001b[0;34m(\u001b[0m\u001b[0margs\u001b[0m\u001b[0;34m,\u001b[0m \u001b[0mkw\u001b[0m\u001b[0;34m,\u001b[0m \u001b[0msig\u001b[0m\u001b[0;34m)\u001b[0m\u001b[0;34m\u001b[0m\u001b[0;34m\u001b[0m\u001b[0m\n\u001b[0;32m--> 232\u001b[0;31m             \u001b[0;32mreturn\u001b[0m \u001b[0mcaller\u001b[0m\u001b[0;34m(\u001b[0m\u001b[0mfunc\u001b[0m\u001b[0;34m,\u001b[0m \u001b[0;34m*\u001b[0m\u001b[0;34m(\u001b[0m\u001b[0mextras\u001b[0m \u001b[0;34m+\u001b[0m \u001b[0margs\u001b[0m\u001b[0;34m)\u001b[0m\u001b[0;34m,\u001b[0m \u001b[0;34m**\u001b[0m\u001b[0mkw\u001b[0m\u001b[0;34m)\u001b[0m\u001b[0;34m\u001b[0m\u001b[0;34m\u001b[0m\u001b[0m\n\u001b[0m\u001b[1;32m    233\u001b[0m     \u001b[0mfun\u001b[0m\u001b[0;34m.\u001b[0m\u001b[0m__name__\u001b[0m \u001b[0;34m=\u001b[0m \u001b[0mfunc\u001b[0m\u001b[0;34m.\u001b[0m\u001b[0m__name__\u001b[0m\u001b[0;34m\u001b[0m\u001b[0;34m\u001b[0m\u001b[0m\n\u001b[1;32m    234\u001b[0m     \u001b[0mfun\u001b[0m\u001b[0;34m.\u001b[0m\u001b[0m__doc__\u001b[0m \u001b[0;34m=\u001b[0m \u001b[0mfunc\u001b[0m\u001b[0;34m.\u001b[0m\u001b[0m__doc__\u001b[0m\u001b[0;34m\u001b[0m\u001b[0;34m\u001b[0m\u001b[0m\n",
      "\u001b[0;32m/opt/conda/envs/clustermatch_gene_expr/lib/python3.9/site-packages/IPython/core/formatters.py\u001b[0m in \u001b[0;36mcatch_format_error\u001b[0;34m(method, self, *args, **kwargs)\u001b[0m\n\u001b[1;32m    222\u001b[0m     \u001b[0;34m\"\"\"show traceback on failed format call\"\"\"\u001b[0m\u001b[0;34m\u001b[0m\u001b[0;34m\u001b[0m\u001b[0m\n\u001b[1;32m    223\u001b[0m     \u001b[0;32mtry\u001b[0m\u001b[0;34m:\u001b[0m\u001b[0;34m\u001b[0m\u001b[0;34m\u001b[0m\u001b[0m\n\u001b[0;32m--> 224\u001b[0;31m         \u001b[0mr\u001b[0m \u001b[0;34m=\u001b[0m \u001b[0mmethod\u001b[0m\u001b[0;34m(\u001b[0m\u001b[0mself\u001b[0m\u001b[0;34m,\u001b[0m \u001b[0;34m*\u001b[0m\u001b[0margs\u001b[0m\u001b[0;34m,\u001b[0m \u001b[0;34m**\u001b[0m\u001b[0mkwargs\u001b[0m\u001b[0;34m)\u001b[0m\u001b[0;34m\u001b[0m\u001b[0;34m\u001b[0m\u001b[0m\n\u001b[0m\u001b[1;32m    225\u001b[0m     \u001b[0;32mexcept\u001b[0m \u001b[0mNotImplementedError\u001b[0m\u001b[0;34m:\u001b[0m\u001b[0;34m\u001b[0m\u001b[0;34m\u001b[0m\u001b[0m\n\u001b[1;32m    226\u001b[0m         \u001b[0;31m# don't warn on NotImplementedErrors\u001b[0m\u001b[0;34m\u001b[0m\u001b[0;34m\u001b[0m\u001b[0m\n",
      "\u001b[0;32m/opt/conda/envs/clustermatch_gene_expr/lib/python3.9/site-packages/IPython/core/formatters.py\u001b[0m in \u001b[0;36m__call__\u001b[0;34m(self, obj)\u001b[0m\n\u001b[1;32m    339\u001b[0m                 \u001b[0;32mpass\u001b[0m\u001b[0;34m\u001b[0m\u001b[0;34m\u001b[0m\u001b[0m\n\u001b[1;32m    340\u001b[0m             \u001b[0;32melse\u001b[0m\u001b[0;34m:\u001b[0m\u001b[0;34m\u001b[0m\u001b[0;34m\u001b[0m\u001b[0m\n\u001b[0;32m--> 341\u001b[0;31m                 \u001b[0;32mreturn\u001b[0m \u001b[0mprinter\u001b[0m\u001b[0;34m(\u001b[0m\u001b[0mobj\u001b[0m\u001b[0;34m)\u001b[0m\u001b[0;34m\u001b[0m\u001b[0;34m\u001b[0m\u001b[0m\n\u001b[0m\u001b[1;32m    342\u001b[0m             \u001b[0;31m# Finally look for special method names\u001b[0m\u001b[0;34m\u001b[0m\u001b[0;34m\u001b[0m\u001b[0m\n\u001b[1;32m    343\u001b[0m             \u001b[0mmethod\u001b[0m \u001b[0;34m=\u001b[0m \u001b[0mget_real_method\u001b[0m\u001b[0;34m(\u001b[0m\u001b[0mobj\u001b[0m\u001b[0;34m,\u001b[0m \u001b[0mself\u001b[0m\u001b[0;34m.\u001b[0m\u001b[0mprint_method\u001b[0m\u001b[0;34m)\u001b[0m\u001b[0;34m\u001b[0m\u001b[0;34m\u001b[0m\u001b[0m\n",
      "\u001b[0;32m/opt/conda/envs/clustermatch_gene_expr/lib/python3.9/site-packages/IPython/core/pylabtools.py\u001b[0m in \u001b[0;36mprint_figure\u001b[0;34m(fig, fmt, bbox_inches, base64, **kwargs)\u001b[0m\n\u001b[1;32m    149\u001b[0m         \u001b[0mFigureCanvasBase\u001b[0m\u001b[0;34m(\u001b[0m\u001b[0mfig\u001b[0m\u001b[0;34m)\u001b[0m\u001b[0;34m\u001b[0m\u001b[0;34m\u001b[0m\u001b[0m\n\u001b[1;32m    150\u001b[0m \u001b[0;34m\u001b[0m\u001b[0m\n\u001b[0;32m--> 151\u001b[0;31m     \u001b[0mfig\u001b[0m\u001b[0;34m.\u001b[0m\u001b[0mcanvas\u001b[0m\u001b[0;34m.\u001b[0m\u001b[0mprint_figure\u001b[0m\u001b[0;34m(\u001b[0m\u001b[0mbytes_io\u001b[0m\u001b[0;34m,\u001b[0m \u001b[0;34m**\u001b[0m\u001b[0mkw\u001b[0m\u001b[0;34m)\u001b[0m\u001b[0;34m\u001b[0m\u001b[0;34m\u001b[0m\u001b[0m\n\u001b[0m\u001b[1;32m    152\u001b[0m     \u001b[0mdata\u001b[0m \u001b[0;34m=\u001b[0m \u001b[0mbytes_io\u001b[0m\u001b[0;34m.\u001b[0m\u001b[0mgetvalue\u001b[0m\u001b[0;34m(\u001b[0m\u001b[0;34m)\u001b[0m\u001b[0;34m\u001b[0m\u001b[0;34m\u001b[0m\u001b[0m\n\u001b[1;32m    153\u001b[0m     \u001b[0;32mif\u001b[0m \u001b[0mfmt\u001b[0m \u001b[0;34m==\u001b[0m \u001b[0;34m'svg'\u001b[0m\u001b[0;34m:\u001b[0m\u001b[0;34m\u001b[0m\u001b[0;34m\u001b[0m\u001b[0m\n",
      "\u001b[0;32m/opt/conda/envs/clustermatch_gene_expr/lib/python3.9/site-packages/matplotlib/backend_bases.py\u001b[0m in \u001b[0;36mprint_figure\u001b[0;34m(self, filename, dpi, facecolor, edgecolor, orientation, format, bbox_inches, pad_inches, bbox_extra_artists, backend, **kwargs)\u001b[0m\n\u001b[1;32m   2228\u001b[0m                        else suppress())\n\u001b[1;32m   2229\u001b[0m                 \u001b[0;32mwith\u001b[0m \u001b[0mctx\u001b[0m\u001b[0;34m:\u001b[0m\u001b[0;34m\u001b[0m\u001b[0;34m\u001b[0m\u001b[0m\n\u001b[0;32m-> 2230\u001b[0;31m                     \u001b[0mself\u001b[0m\u001b[0;34m.\u001b[0m\u001b[0mfigure\u001b[0m\u001b[0;34m.\u001b[0m\u001b[0mdraw\u001b[0m\u001b[0;34m(\u001b[0m\u001b[0mrenderer\u001b[0m\u001b[0;34m)\u001b[0m\u001b[0;34m\u001b[0m\u001b[0;34m\u001b[0m\u001b[0m\n\u001b[0m\u001b[1;32m   2231\u001b[0m \u001b[0;34m\u001b[0m\u001b[0m\n\u001b[1;32m   2232\u001b[0m             \u001b[0;32mif\u001b[0m \u001b[0mbbox_inches\u001b[0m\u001b[0;34m:\u001b[0m\u001b[0;34m\u001b[0m\u001b[0;34m\u001b[0m\u001b[0m\n",
      "\u001b[0;32m/opt/conda/envs/clustermatch_gene_expr/lib/python3.9/site-packages/matplotlib/artist.py\u001b[0m in \u001b[0;36mdraw_wrapper\u001b[0;34m(artist, renderer, *args, **kwargs)\u001b[0m\n\u001b[1;32m     72\u001b[0m     \u001b[0;34m@\u001b[0m\u001b[0mwraps\u001b[0m\u001b[0;34m(\u001b[0m\u001b[0mdraw\u001b[0m\u001b[0;34m)\u001b[0m\u001b[0;34m\u001b[0m\u001b[0;34m\u001b[0m\u001b[0m\n\u001b[1;32m     73\u001b[0m     \u001b[0;32mdef\u001b[0m \u001b[0mdraw_wrapper\u001b[0m\u001b[0;34m(\u001b[0m\u001b[0martist\u001b[0m\u001b[0;34m,\u001b[0m \u001b[0mrenderer\u001b[0m\u001b[0;34m,\u001b[0m \u001b[0;34m*\u001b[0m\u001b[0margs\u001b[0m\u001b[0;34m,\u001b[0m \u001b[0;34m**\u001b[0m\u001b[0mkwargs\u001b[0m\u001b[0;34m)\u001b[0m\u001b[0;34m:\u001b[0m\u001b[0;34m\u001b[0m\u001b[0;34m\u001b[0m\u001b[0m\n\u001b[0;32m---> 74\u001b[0;31m         \u001b[0mresult\u001b[0m \u001b[0;34m=\u001b[0m \u001b[0mdraw\u001b[0m\u001b[0;34m(\u001b[0m\u001b[0martist\u001b[0m\u001b[0;34m,\u001b[0m \u001b[0mrenderer\u001b[0m\u001b[0;34m,\u001b[0m \u001b[0;34m*\u001b[0m\u001b[0margs\u001b[0m\u001b[0;34m,\u001b[0m \u001b[0;34m**\u001b[0m\u001b[0mkwargs\u001b[0m\u001b[0;34m)\u001b[0m\u001b[0;34m\u001b[0m\u001b[0;34m\u001b[0m\u001b[0m\n\u001b[0m\u001b[1;32m     75\u001b[0m         \u001b[0;32mif\u001b[0m \u001b[0mrenderer\u001b[0m\u001b[0;34m.\u001b[0m\u001b[0m_rasterizing\u001b[0m\u001b[0;34m:\u001b[0m\u001b[0;34m\u001b[0m\u001b[0;34m\u001b[0m\u001b[0m\n\u001b[1;32m     76\u001b[0m             \u001b[0mrenderer\u001b[0m\u001b[0;34m.\u001b[0m\u001b[0mstop_rasterizing\u001b[0m\u001b[0;34m(\u001b[0m\u001b[0;34m)\u001b[0m\u001b[0;34m\u001b[0m\u001b[0;34m\u001b[0m\u001b[0m\n",
      "\u001b[0;32m/opt/conda/envs/clustermatch_gene_expr/lib/python3.9/site-packages/matplotlib/artist.py\u001b[0m in \u001b[0;36mdraw_wrapper\u001b[0;34m(artist, renderer, *args, **kwargs)\u001b[0m\n\u001b[1;32m     49\u001b[0m                 \u001b[0mrenderer\u001b[0m\u001b[0;34m.\u001b[0m\u001b[0mstart_filter\u001b[0m\u001b[0;34m(\u001b[0m\u001b[0;34m)\u001b[0m\u001b[0;34m\u001b[0m\u001b[0;34m\u001b[0m\u001b[0m\n\u001b[1;32m     50\u001b[0m \u001b[0;34m\u001b[0m\u001b[0m\n\u001b[0;32m---> 51\u001b[0;31m             \u001b[0;32mreturn\u001b[0m \u001b[0mdraw\u001b[0m\u001b[0;34m(\u001b[0m\u001b[0martist\u001b[0m\u001b[0;34m,\u001b[0m \u001b[0mrenderer\u001b[0m\u001b[0;34m,\u001b[0m \u001b[0;34m*\u001b[0m\u001b[0margs\u001b[0m\u001b[0;34m,\u001b[0m \u001b[0;34m**\u001b[0m\u001b[0mkwargs\u001b[0m\u001b[0;34m)\u001b[0m\u001b[0;34m\u001b[0m\u001b[0;34m\u001b[0m\u001b[0m\n\u001b[0m\u001b[1;32m     52\u001b[0m         \u001b[0;32mfinally\u001b[0m\u001b[0;34m:\u001b[0m\u001b[0;34m\u001b[0m\u001b[0;34m\u001b[0m\u001b[0m\n\u001b[1;32m     53\u001b[0m             \u001b[0;32mif\u001b[0m \u001b[0martist\u001b[0m\u001b[0;34m.\u001b[0m\u001b[0mget_agg_filter\u001b[0m\u001b[0;34m(\u001b[0m\u001b[0;34m)\u001b[0m \u001b[0;32mis\u001b[0m \u001b[0;32mnot\u001b[0m \u001b[0;32mNone\u001b[0m\u001b[0;34m:\u001b[0m\u001b[0;34m\u001b[0m\u001b[0;34m\u001b[0m\u001b[0m\n",
      "\u001b[0;32m/opt/conda/envs/clustermatch_gene_expr/lib/python3.9/site-packages/matplotlib/figure.py\u001b[0m in \u001b[0;36mdraw\u001b[0;34m(self, renderer)\u001b[0m\n\u001b[1;32m   2788\u001b[0m \u001b[0;34m\u001b[0m\u001b[0m\n\u001b[1;32m   2789\u001b[0m             \u001b[0mself\u001b[0m\u001b[0;34m.\u001b[0m\u001b[0mpatch\u001b[0m\u001b[0;34m.\u001b[0m\u001b[0mdraw\u001b[0m\u001b[0;34m(\u001b[0m\u001b[0mrenderer\u001b[0m\u001b[0;34m)\u001b[0m\u001b[0;34m\u001b[0m\u001b[0;34m\u001b[0m\u001b[0m\n\u001b[0;32m-> 2790\u001b[0;31m             mimage._draw_list_compositing_images(\n\u001b[0m\u001b[1;32m   2791\u001b[0m                 renderer, self, artists, self.suppressComposite)\n\u001b[1;32m   2792\u001b[0m \u001b[0;34m\u001b[0m\u001b[0m\n",
      "\u001b[0;32m/opt/conda/envs/clustermatch_gene_expr/lib/python3.9/site-packages/matplotlib/image.py\u001b[0m in \u001b[0;36m_draw_list_compositing_images\u001b[0;34m(renderer, parent, artists, suppress_composite)\u001b[0m\n\u001b[1;32m    130\u001b[0m     \u001b[0;32mif\u001b[0m \u001b[0mnot_composite\u001b[0m \u001b[0;32mor\u001b[0m \u001b[0;32mnot\u001b[0m \u001b[0mhas_images\u001b[0m\u001b[0;34m:\u001b[0m\u001b[0;34m\u001b[0m\u001b[0;34m\u001b[0m\u001b[0m\n\u001b[1;32m    131\u001b[0m         \u001b[0;32mfor\u001b[0m \u001b[0ma\u001b[0m \u001b[0;32min\u001b[0m \u001b[0martists\u001b[0m\u001b[0;34m:\u001b[0m\u001b[0;34m\u001b[0m\u001b[0;34m\u001b[0m\u001b[0m\n\u001b[0;32m--> 132\u001b[0;31m             \u001b[0ma\u001b[0m\u001b[0;34m.\u001b[0m\u001b[0mdraw\u001b[0m\u001b[0;34m(\u001b[0m\u001b[0mrenderer\u001b[0m\u001b[0;34m)\u001b[0m\u001b[0;34m\u001b[0m\u001b[0;34m\u001b[0m\u001b[0m\n\u001b[0m\u001b[1;32m    133\u001b[0m     \u001b[0;32melse\u001b[0m\u001b[0;34m:\u001b[0m\u001b[0;34m\u001b[0m\u001b[0;34m\u001b[0m\u001b[0m\n\u001b[1;32m    134\u001b[0m         \u001b[0;31m# Composite any adjacent images together\u001b[0m\u001b[0;34m\u001b[0m\u001b[0;34m\u001b[0m\u001b[0m\n",
      "\u001b[0;32m/opt/conda/envs/clustermatch_gene_expr/lib/python3.9/site-packages/matplotlib/artist.py\u001b[0m in \u001b[0;36mdraw_wrapper\u001b[0;34m(artist, renderer, *args, **kwargs)\u001b[0m\n\u001b[1;32m     49\u001b[0m                 \u001b[0mrenderer\u001b[0m\u001b[0;34m.\u001b[0m\u001b[0mstart_filter\u001b[0m\u001b[0;34m(\u001b[0m\u001b[0;34m)\u001b[0m\u001b[0;34m\u001b[0m\u001b[0;34m\u001b[0m\u001b[0m\n\u001b[1;32m     50\u001b[0m \u001b[0;34m\u001b[0m\u001b[0m\n\u001b[0;32m---> 51\u001b[0;31m             \u001b[0;32mreturn\u001b[0m \u001b[0mdraw\u001b[0m\u001b[0;34m(\u001b[0m\u001b[0martist\u001b[0m\u001b[0;34m,\u001b[0m \u001b[0mrenderer\u001b[0m\u001b[0;34m,\u001b[0m \u001b[0;34m*\u001b[0m\u001b[0margs\u001b[0m\u001b[0;34m,\u001b[0m \u001b[0;34m**\u001b[0m\u001b[0mkwargs\u001b[0m\u001b[0;34m)\u001b[0m\u001b[0;34m\u001b[0m\u001b[0;34m\u001b[0m\u001b[0m\n\u001b[0m\u001b[1;32m     52\u001b[0m         \u001b[0;32mfinally\u001b[0m\u001b[0;34m:\u001b[0m\u001b[0;34m\u001b[0m\u001b[0;34m\u001b[0m\u001b[0m\n\u001b[1;32m     53\u001b[0m             \u001b[0;32mif\u001b[0m \u001b[0martist\u001b[0m\u001b[0;34m.\u001b[0m\u001b[0mget_agg_filter\u001b[0m\u001b[0;34m(\u001b[0m\u001b[0;34m)\u001b[0m \u001b[0;32mis\u001b[0m \u001b[0;32mnot\u001b[0m \u001b[0;32mNone\u001b[0m\u001b[0;34m:\u001b[0m\u001b[0;34m\u001b[0m\u001b[0;34m\u001b[0m\u001b[0m\n",
      "\u001b[0;32m/opt/conda/envs/clustermatch_gene_expr/lib/python3.9/site-packages/matplotlib/_api/deprecation.py\u001b[0m in \u001b[0;36mwrapper\u001b[0;34m(*inner_args, **inner_kwargs)\u001b[0m\n\u001b[1;32m    429\u001b[0m                          \u001b[0;32melse\u001b[0m \u001b[0mdeprecation_addendum\u001b[0m\u001b[0;34m,\u001b[0m\u001b[0;34m\u001b[0m\u001b[0;34m\u001b[0m\u001b[0m\n\u001b[1;32m    430\u001b[0m                 **kwargs)\n\u001b[0;32m--> 431\u001b[0;31m         \u001b[0;32mreturn\u001b[0m \u001b[0mfunc\u001b[0m\u001b[0;34m(\u001b[0m\u001b[0;34m*\u001b[0m\u001b[0minner_args\u001b[0m\u001b[0;34m,\u001b[0m \u001b[0;34m**\u001b[0m\u001b[0minner_kwargs\u001b[0m\u001b[0;34m)\u001b[0m\u001b[0;34m\u001b[0m\u001b[0;34m\u001b[0m\u001b[0m\n\u001b[0m\u001b[1;32m    432\u001b[0m \u001b[0;34m\u001b[0m\u001b[0m\n\u001b[1;32m    433\u001b[0m     \u001b[0;32mreturn\u001b[0m \u001b[0mwrapper\u001b[0m\u001b[0;34m\u001b[0m\u001b[0;34m\u001b[0m\u001b[0m\n",
      "\u001b[0;32m/opt/conda/envs/clustermatch_gene_expr/lib/python3.9/site-packages/matplotlib/axes/_base.py\u001b[0m in \u001b[0;36mdraw\u001b[0;34m(self, renderer, inframe)\u001b[0m\n\u001b[1;32m   2893\u001b[0m             artists = [a for a in artists\n\u001b[1;32m   2894\u001b[0m                        if not a.get_animated() or a in self.images]\n\u001b[0;32m-> 2895\u001b[0;31m         \u001b[0martists\u001b[0m \u001b[0;34m=\u001b[0m \u001b[0msorted\u001b[0m\u001b[0;34m(\u001b[0m\u001b[0martists\u001b[0m\u001b[0;34m,\u001b[0m \u001b[0mkey\u001b[0m\u001b[0;34m=\u001b[0m\u001b[0mattrgetter\u001b[0m\u001b[0;34m(\u001b[0m\u001b[0;34m'zorder'\u001b[0m\u001b[0;34m)\u001b[0m\u001b[0;34m)\u001b[0m\u001b[0;34m\u001b[0m\u001b[0;34m\u001b[0m\u001b[0m\n\u001b[0m\u001b[1;32m   2896\u001b[0m \u001b[0;34m\u001b[0m\u001b[0m\n\u001b[1;32m   2897\u001b[0m         \u001b[0;31m# rasterize artists with negative zorder\u001b[0m\u001b[0;34m\u001b[0m\u001b[0;34m\u001b[0m\u001b[0m\n",
      "\u001b[0;31mKeyboardInterrupt\u001b[0m: "
     ]
    }
   ],
   "source": [
    "for i in range(5):\n",
    "    display(f\"Index: {i}\")\n",
    "    p = plot_gene_pair(_tmp_df, i)\n",
    "    display(p.fig)\n",
    "    plt.close(p.fig)"
   ]
  },
  {
   "cell_type": "code",
   "execution_count": 1,
   "id": "5113c340-656e-4d18-929e-338d07b640c2",
   "metadata": {},
   "outputs": [
    {
     "data": {
      "text/plain": [
       "'Index: -1'"
      ]
     },
     "metadata": {},
     "output_type": "display_data"
    },
    {
     "ename": "NameError",
     "evalue": "name 'plot_gene_pair' is not defined",
     "output_type": "error",
     "traceback": [
      "\u001b[0;31m---------------------------------------------------------------------------\u001b[0m",
      "\u001b[0;31mNameError\u001b[0m                                 Traceback (most recent call last)",
      "\u001b[0;32m/tmp/ipykernel_610/1360047000.py\u001b[0m in \u001b[0;36m<module>\u001b[0;34m\u001b[0m\n\u001b[1;32m      3\u001b[0m     \u001b[0mi\u001b[0m \u001b[0;34m=\u001b[0m \u001b[0;34m-\u001b[0m\u001b[0mi\u001b[0m\u001b[0;34m\u001b[0m\u001b[0;34m\u001b[0m\u001b[0m\n\u001b[1;32m      4\u001b[0m     \u001b[0mdisplay\u001b[0m\u001b[0;34m(\u001b[0m\u001b[0;34mf\"Index: {i}\"\u001b[0m\u001b[0;34m)\u001b[0m\u001b[0;34m\u001b[0m\u001b[0;34m\u001b[0m\u001b[0m\n\u001b[0;32m----> 5\u001b[0;31m     \u001b[0mp\u001b[0m \u001b[0;34m=\u001b[0m \u001b[0mplot_gene_pair\u001b[0m\u001b[0;34m(\u001b[0m\u001b[0m_tmp_df\u001b[0m\u001b[0;34m,\u001b[0m \u001b[0mi\u001b[0m\u001b[0;34m)\u001b[0m\u001b[0;34m\u001b[0m\u001b[0;34m\u001b[0m\u001b[0m\n\u001b[0m\u001b[1;32m      6\u001b[0m     \u001b[0mdisplay\u001b[0m\u001b[0;34m(\u001b[0m\u001b[0mp\u001b[0m\u001b[0;34m.\u001b[0m\u001b[0mfig\u001b[0m\u001b[0;34m)\u001b[0m\u001b[0;34m\u001b[0m\u001b[0;34m\u001b[0m\u001b[0m\n\u001b[1;32m      7\u001b[0m     \u001b[0mplt\u001b[0m\u001b[0;34m.\u001b[0m\u001b[0mclose\u001b[0m\u001b[0;34m(\u001b[0m\u001b[0mp\u001b[0m\u001b[0;34m.\u001b[0m\u001b[0mfig\u001b[0m\u001b[0;34m)\u001b[0m\u001b[0;34m\u001b[0m\u001b[0;34m\u001b[0m\u001b[0m\n",
      "\u001b[0;31mNameError\u001b[0m: name 'plot_gene_pair' is not defined"
     ]
    }
   ],
   "source": [
    "# reverse order\n",
    "for i in range(1, 5):\n",
    "    i = -i\n",
    "    display(f\"Index: {i}\")\n",
    "    p = plot_gene_pair(_tmp_df, i)\n",
    "    display(p.fig)\n",
    "    plt.close(p.fig)"
   ]
  },
  {
   "cell_type": "code",
   "execution_count": null,
   "id": "e2bfdaf9-c395-41df-82d8-5a1778a261d2",
   "metadata": {},
   "outputs": [],
   "source": []
  },
  {
   "cell_type": "code",
   "execution_count": null,
   "id": "b1a9eca3-b407-4032-9c3e-50588020c29d",
   "metadata": {},
   "outputs": [],
   "source": []
  },
  {
   "cell_type": "code",
   "execution_count": null,
   "id": "7f338e0a-6f88-41b4-8b77-638b95d14460",
   "metadata": {},
   "outputs": [],
   "source": [
    "I NEED TO CHANGE THE CODE BELOW TO UPDATE IT WITH THE ONE ABOVE"
   ]
  },
  {
   "cell_type": "markdown",
   "id": "ad9d2817-03ae-4d13-a4ef-ec37685f1b38",
   "metadata": {
    "tags": []
   },
   "source": [
    "## Clustermatch/Spearman vs Pearson"
   ]
  },
  {
   "cell_type": "code",
   "execution_count": null,
   "id": "cafa3a38-e6fb-40da-9dfa-5a0d447acaf7",
   "metadata": {},
   "outputs": [],
   "source": [
    "_tmp_df = df_r_data[\n",
    "    (df_r_data[\"clustermatch_higher\"])\n",
    "    & (df_r_data[\"spearman_higher\"])\n",
    "    & ~(df_r_data[\"pearson_higher\"])\n",
    "    & ~(df_r_data[\"clustermatch_lower\"])\n",
    "    & ~(df_r_data[\"spearman_lower\"])\n",
    "    & (df_r_data[\"pearson_lower\"])\n",
    "]\n",
    "\n",
    "# show this just to make sure of the groups\n",
    "# display(_tmp_df.head())\n",
    "\n",
    "_tmp_df = _tmp_df[[x for x in df_r_data.columns if \"_\" not in x]].sort_values(\n",
    "    \"clustermatch\", ascending=False\n",
    ")\n",
    "\n",
    "display(_tmp_df.shape)\n",
    "display(_tmp_df)"
   ]
  },
  {
   "cell_type": "code",
   "execution_count": null,
   "id": "155611aa-5154-4cd0-96eb-0c8cbc6540a9",
   "metadata": {},
   "outputs": [],
   "source": [
    "plot_gene_pair(_tmp_df, 0)"
   ]
  },
  {
   "cell_type": "code",
   "execution_count": null,
   "id": "935ab137-c709-4578-90e7-1b62e72e0776",
   "metadata": {},
   "outputs": [],
   "source": [
    "plot_gene_pair(_tmp_df, 1)"
   ]
  },
  {
   "cell_type": "code",
   "execution_count": null,
   "id": "2d97089a-8f47-410f-b276-c72daff12c20",
   "metadata": {},
   "outputs": [],
   "source": [
    "plot_gene_pair(_tmp_df, 2)"
   ]
  },
  {
   "cell_type": "markdown",
   "id": "b3d579a2-62b5-48ec-82f8-95e7569b9268",
   "metadata": {
    "tags": []
   },
   "source": [
    "## Pearson vs Spearman"
   ]
  },
  {
   "cell_type": "code",
   "execution_count": null,
   "id": "f720f2ec-7618-44ce-bb05-085541cdc2a5",
   "metadata": {},
   "outputs": [],
   "source": [
    "_tmp_df = df_r_data[\n",
    "    ~(df_r_data[\"clustermatch_higher\"])\n",
    "    & ~(df_r_data[\"spearman_higher\"])\n",
    "    & (df_r_data[\"pearson_higher\"])\n",
    "    & ~(df_r_data[\"clustermatch_lower\"])\n",
    "    & (df_r_data[\"spearman_lower\"])\n",
    "    & ~(df_r_data[\"pearson_lower\"])\n",
    "]\n",
    "\n",
    "# show this just to make sure of the groups\n",
    "# display(_tmp_df.head())\n",
    "\n",
    "_tmp_df = _tmp_df[[x for x in df_r_data.columns if \"_\" not in x]].sort_values(\n",
    "    \"pearson\", ascending=False\n",
    ")\n",
    "\n",
    "display(_tmp_df.shape)\n",
    "display(_tmp_df)"
   ]
  },
  {
   "cell_type": "code",
   "execution_count": null,
   "id": "2b551dbd-befd-49cd-a6a3-c111d6a2b722",
   "metadata": {},
   "outputs": [],
   "source": [
    "plot_gene_pair(_tmp_df, 0)"
   ]
  },
  {
   "cell_type": "code",
   "execution_count": null,
   "id": "4f0ec8eb-2e32-4465-892a-d1ec41fb3753",
   "metadata": {},
   "outputs": [],
   "source": [
    "plot_gene_pair(_tmp_df, 1)"
   ]
  },
  {
   "cell_type": "code",
   "execution_count": null,
   "id": "28c949c0-f774-4b17-b830-9ca882fb8ba6",
   "metadata": {},
   "outputs": [],
   "source": [
    "plot_gene_pair(_tmp_df, 2)"
   ]
  },
  {
   "cell_type": "markdown",
   "id": "50380020-52e4-43eb-8e4f-7799f570681c",
   "metadata": {
    "tags": []
   },
   "source": [
    "## Spearman vs Pearson"
   ]
  },
  {
   "cell_type": "code",
   "execution_count": null,
   "id": "d9a9aa32-8cae-4788-ae35-4e4df4843460",
   "metadata": {},
   "outputs": [],
   "source": [
    "_tmp_df = df_r_data[\n",
    "    ~(df_r_data[\"clustermatch_higher\"])\n",
    "    & (df_r_data[\"spearman_higher\"])\n",
    "    & ~(df_r_data[\"pearson_higher\"])\n",
    "    & ~(df_r_data[\"clustermatch_lower\"])\n",
    "    & ~(df_r_data[\"spearman_lower\"])\n",
    "    & (df_r_data[\"pearson_lower\"])\n",
    "]\n",
    "\n",
    "# show this just to make sure of the groups\n",
    "# display(_tmp_df.head())\n",
    "\n",
    "_tmp_df = _tmp_df[[x for x in df_r_data.columns if \"_\" not in x]].sort_values(\n",
    "    \"pearson\", ascending=False\n",
    ")\n",
    "\n",
    "display(_tmp_df.shape)\n",
    "display(_tmp_df)"
   ]
  },
  {
   "cell_type": "code",
   "execution_count": null,
   "id": "3f09815a-4d08-49b4-be8f-f747c305ecaf",
   "metadata": {},
   "outputs": [],
   "source": [
    "plot_gene_pair(_tmp_df, 0)"
   ]
  },
  {
   "cell_type": "code",
   "execution_count": null,
   "id": "56f17b6c-45d5-44f5-8fb4-2f938b85ef66",
   "metadata": {},
   "outputs": [],
   "source": [
    "plot_gene_pair(_tmp_df, 1)"
   ]
  },
  {
   "cell_type": "markdown",
   "id": "e4a0600b-51f0-484a-97d2-6fc856b8ce19",
   "metadata": {
    "tags": []
   },
   "source": [
    "## Pearson vs Spearman/Clustermatch"
   ]
  },
  {
   "cell_type": "code",
   "execution_count": null,
   "id": "e1095677-d0d5-40a8-b0fe-bcc8362cadb1",
   "metadata": {},
   "outputs": [],
   "source": [
    "_tmp_df = df_r_data[\n",
    "    ~(df_r_data[\"clustermatch_higher\"])\n",
    "    & ~(df_r_data[\"spearman_higher\"])\n",
    "    & (df_r_data[\"pearson_higher\"])\n",
    "    & (df_r_data[\"clustermatch_lower\"])\n",
    "    & (df_r_data[\"spearman_lower\"])\n",
    "    & ~(df_r_data[\"pearson_lower\"])\n",
    "]\n",
    "\n",
    "# show this just to make sure of the groups\n",
    "# display(_tmp_df.head())\n",
    "\n",
    "_tmp_df = _tmp_df[[x for x in df_r_data.columns if \"_\" not in x]].sort_values(\n",
    "    \"pearson\", ascending=False\n",
    ")\n",
    "\n",
    "display(_tmp_df.shape)\n",
    "display(_tmp_df)"
   ]
  },
  {
   "cell_type": "code",
   "execution_count": null,
   "id": "e4ca9080-7aa1-45d0-93ad-5c8873d5d25c",
   "metadata": {},
   "outputs": [],
   "source": [
    "plot_gene_pair(_tmp_df, 0)"
   ]
  },
  {
   "cell_type": "code",
   "execution_count": null,
   "id": "65bc92d4-9c23-456f-a362-17b820fccf0f",
   "metadata": {},
   "outputs": [],
   "source": [
    "plot_gene_pair(_tmp_df, 1)"
   ]
  },
  {
   "cell_type": "markdown",
   "id": "a2820e0e-bd5e-41a6-9514-aa461eb8db63",
   "metadata": {
    "tags": []
   },
   "source": [
    "## Pearson vs Clustermatch"
   ]
  },
  {
   "cell_type": "code",
   "execution_count": null,
   "id": "cf2cea26-c53e-4a61-8965-ad3c7daa042b",
   "metadata": {},
   "outputs": [],
   "source": [
    "_tmp_df = df_r_data[\n",
    "    ~(df_r_data[\"clustermatch_higher\"])\n",
    "    & ~(df_r_data[\"spearman_higher\"])\n",
    "    & (df_r_data[\"pearson_higher\"])\n",
    "    & (df_r_data[\"clustermatch_lower\"])\n",
    "    & ~(df_r_data[\"spearman_lower\"])\n",
    "    & ~(df_r_data[\"pearson_lower\"])\n",
    "]\n",
    "\n",
    "# show this just to make sure of the groups\n",
    "# display(_tmp_df.head())\n",
    "\n",
    "_tmp_df = _tmp_df[[x for x in df_r_data.columns if \"_\" not in x]].sort_values(\n",
    "    \"pearson\", ascending=False\n",
    ")\n",
    "\n",
    "display(_tmp_df.shape)\n",
    "display(_tmp_df)"
   ]
  },
  {
   "cell_type": "code",
   "execution_count": null,
   "id": "39145e85-12f7-4386-bdca-27b0915482ba",
   "metadata": {},
   "outputs": [],
   "source": [
    "plot_gene_pair(_tmp_df, 0)"
   ]
  },
  {
   "cell_type": "code",
   "execution_count": null,
   "id": "5794daf4-8ac8-4eb8-80da-f303e55bee66",
   "metadata": {},
   "outputs": [],
   "source": [
    "gene0, gene1 = (\n",
    "    gene_expr_df.loc[\"ENSG00000130598.15\"].copy(),\n",
    "    gene_expr_df.loc[\"ENSG00000177791.11\"].copy(),\n",
    ")"
   ]
  },
  {
   "cell_type": "code",
   "execution_count": null,
   "id": "07198f9f-dd36-4913-9c07-d8a575d75e84",
   "metadata": {},
   "outputs": [],
   "source": [
    "cm(gene0, gene1)"
   ]
  },
  {
   "cell_type": "code",
   "execution_count": null,
   "id": "a089f51e-8fab-4244-bf79-0a930dbb9545",
   "metadata": {},
   "outputs": [],
   "source": [
    "q = 0.75\n",
    "gene0[gene0 <= gene0.quantile(q)] = 0\n",
    "gene0[gene0 > gene0.quantile(q)] = 1\n",
    "\n",
    "gene1[gene1 <= gene1.quantile(q)] = 0\n",
    "gene1[gene1 > gene1.quantile(q)] = 1\n",
    "\n",
    "cm(gene0, gene1)"
   ]
  },
  {
   "cell_type": "code",
   "execution_count": null,
   "id": "9866da64-3273-4f1b-86f9-c474039c6e76",
   "metadata": {},
   "outputs": [],
   "source": [
    "plot_gene_pair(_tmp_df, 500)"
   ]
  },
  {
   "cell_type": "code",
   "execution_count": null,
   "id": "821c09de-b683-4024-a3ff-a4166ef99790",
   "metadata": {},
   "outputs": [],
   "source": [
    "gene0, gene1 = (\n",
    "    gene_expr_df.loc[\"ENSG00000177409.11\"].copy(),\n",
    "    gene_expr_df.loc[\"ENSG00000149131.15\"].copy(),\n",
    ")"
   ]
  },
  {
   "cell_type": "code",
   "execution_count": null,
   "id": "a14f16ad-7455-4f48-bbe4-682c71f7db8f",
   "metadata": {},
   "outputs": [],
   "source": [
    "cm(gene0, gene1)"
   ]
  },
  {
   "cell_type": "code",
   "execution_count": null,
   "id": "08a9d562-361b-4150-900c-781c57ff0255",
   "metadata": {},
   "outputs": [],
   "source": [
    "q = 0.75\n",
    "gene0[gene0 <= gene0.quantile(q)] = 0\n",
    "gene0[gene0 > gene0.quantile(q)] = 1\n",
    "\n",
    "gene1[gene1 <= gene1.quantile(q)] = 0\n",
    "gene1[gene1 > gene1.quantile(q)] = 1\n",
    "\n",
    "cm(gene0, gene1)"
   ]
  },
  {
   "cell_type": "code",
   "execution_count": null,
   "id": "6092dbe1-b0c6-4fb7-8e57-5e034cf13884",
   "metadata": {},
   "outputs": [],
   "source": []
  }
 ],
 "metadata": {
  "jupytext": {
   "cell_metadata_filter": "all,-execution,-papermill,-trusted",
   "text_representation": {
    "extension": ".py",
    "format_name": "percent",
    "format_version": "1.3",
    "jupytext_version": "1.11.5"
   }
  },
  "kernelspec": {
   "display_name": "Python 3 (ipykernel)",
   "language": "python",
   "name": "python3"
  },
  "language_info": {
   "codemirror_mode": {
    "name": "ipython",
    "version": 3
   },
   "file_extension": ".py",
   "mimetype": "text/x-python",
   "name": "python",
   "nbconvert_exporter": "python",
   "pygments_lexer": "ipython3",
   "version": "3.9.9"
  }
 },
 "nbformat": 4,
 "nbformat_minor": 5
}
