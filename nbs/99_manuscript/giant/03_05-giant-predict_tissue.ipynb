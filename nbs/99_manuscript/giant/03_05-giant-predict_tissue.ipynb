{
 "cells": [
  {
   "cell_type": "markdown",
   "id": "87e0ce1b-7ce6-4499-9342-5ded05307598",
   "metadata": {
    "papermill": {
     "duration": 0.015245,
     "end_time": "2024-01-03T12:22:55.657064",
     "exception": false,
     "start_time": "2024-01-03T12:22:55.641819",
     "status": "completed"
    },
    "tags": []
   },
   "source": [
    "# Description"
   ]
  },
  {
   "cell_type": "markdown",
   "id": "4bfc7115-350a-441b-9a19-7626a948a694",
   "metadata": {
    "papermill": {
     "duration": 0.013531,
     "end_time": "2024-01-03T12:22:55.684496",
     "exception": false,
     "start_time": "2024-01-03T12:22:55.670965",
     "status": "completed"
    },
    "tags": []
   },
   "source": [
    "Read the top gene pairs prioritized by each correlation coefficient and predict a tissue-specific network using the web services provided by GIANT/HumanBase (https://hb.flatironinstitute.org/). Then it saves the network in files for later processing."
   ]
  },
  {
   "cell_type": "markdown",
   "id": "e020c781-238b-43c2-8cad-2722b8a240e2",
   "metadata": {
    "papermill": {
     "duration": 0.013547,
     "end_time": "2024-01-03T12:22:55.712296",
     "exception": false,
     "start_time": "2024-01-03T12:22:55.698749",
     "status": "completed"
    },
    "tags": []
   },
   "source": [
    "# Modules"
   ]
  },
  {
   "cell_type": "code",
   "execution_count": 1,
   "id": "a819bfbc-5009-4c68-ba8d-37d0979d368f",
   "metadata": {
    "execution": {
     "iopub.execute_input": "2024-01-03T12:22:55.728987Z",
     "iopub.status.busy": "2024-01-03T12:22:55.728852Z",
     "iopub.status.idle": "2024-01-03T12:22:55.967190Z",
     "shell.execute_reply": "2024-01-03T12:22:55.966767Z"
    },
    "papermill": {
     "duration": 0.246701,
     "end_time": "2024-01-03T12:22:55.968303",
     "exception": false,
     "start_time": "2024-01-03T12:22:55.721602",
     "status": "completed"
    },
    "tags": []
   },
   "outputs": [],
   "source": [
    "import pandas as pd\n",
    "from tqdm import tqdm\n",
    "\n",
    "from ccc import conf\n",
    "from ccc.giant import get_network"
   ]
  },
  {
   "cell_type": "markdown",
   "id": "b4834387-58ff-468c-b326-85c408bc5feb",
   "metadata": {
    "papermill": {
     "duration": 0.010571,
     "end_time": "2024-01-03T12:22:55.986057",
     "exception": false,
     "start_time": "2024-01-03T12:22:55.975486",
     "status": "completed"
    },
    "tags": []
   },
   "source": [
    "# Settings"
   ]
  },
  {
   "cell_type": "code",
   "execution_count": 2,
   "id": "765e820a-4518-4bbc-a00f-14c9cea03821",
   "metadata": {
    "execution": {
     "iopub.execute_input": "2024-01-03T12:22:56.000312Z",
     "iopub.status.busy": "2024-01-03T12:22:56.000195Z",
     "iopub.status.idle": "2024-01-03T12:22:56.002593Z",
     "shell.execute_reply": "2024-01-03T12:22:56.002215Z"
    },
    "papermill": {
     "duration": 0.010431,
     "end_time": "2024-01-03T12:22:56.003355",
     "exception": false,
     "start_time": "2024-01-03T12:22:55.992924",
     "status": "completed"
    },
    "tags": []
   },
   "outputs": [],
   "source": [
    "DATASET_CONFIG = conf.GTEX"
   ]
  },
  {
   "cell_type": "code",
   "execution_count": 3,
   "id": "c598102c-b0e9-417b-bfa5-fc55d508fa51",
   "metadata": {
    "execution": {
     "iopub.execute_input": "2024-01-03T12:22:56.017492Z",
     "iopub.status.busy": "2024-01-03T12:22:56.017387Z",
     "iopub.status.idle": "2024-01-03T12:22:56.019948Z",
     "shell.execute_reply": "2024-01-03T12:22:56.019426Z"
    },
    "papermill": {
     "duration": 0.010541,
     "end_time": "2024-01-03T12:22:56.020764",
     "exception": false,
     "start_time": "2024-01-03T12:22:56.010223",
     "status": "completed"
    },
    "tags": []
   },
   "outputs": [],
   "source": [
    "N_TOP_GENE_PAIRS = 100"
   ]
  },
  {
   "cell_type": "markdown",
   "id": "a1159982-5dd1-4494-97d4-0674eeead1c3",
   "metadata": {
    "papermill": {
     "duration": 0.027122,
     "end_time": "2024-01-03T12:22:56.054670",
     "exception": false,
     "start_time": "2024-01-03T12:22:56.027548",
     "status": "completed"
    },
    "tags": []
   },
   "source": [
    "# Paths"
   ]
  },
  {
   "cell_type": "code",
   "execution_count": 4,
   "id": "3e967e81-0d1b-4b12-968e-cd02b466b572",
   "metadata": {
    "execution": {
     "iopub.execute_input": "2024-01-03T12:22:56.069483Z",
     "iopub.status.busy": "2024-01-03T12:22:56.069085Z",
     "iopub.status.idle": "2024-01-03T12:22:56.079011Z",
     "shell.execute_reply": "2024-01-03T12:22:56.078527Z"
    },
    "papermill": {
     "duration": 0.018327,
     "end_time": "2024-01-03T12:22:56.079847",
     "exception": false,
     "start_time": "2024-01-03T12:22:56.061520",
     "status": "completed"
    },
    "tags": []
   },
   "outputs": [
    {
     "data": {
      "text/plain": [
       "PosixPath('/opt/data/results/gtex_v8/gene_pair_intersections')"
      ]
     },
     "metadata": {},
     "output_type": "display_data"
    }
   ],
   "source": [
    "INPUT_DIR = DATASET_CONFIG[\"GENE_PAIR_INTERSECTIONS\"]\n",
    "display(INPUT_DIR)\n",
    "\n",
    "assert INPUT_DIR.exists()"
   ]
  },
  {
   "cell_type": "code",
   "execution_count": 5,
   "id": "534e013a-e73e-4306-a2f5-1f8301a9a4c5",
   "metadata": {
    "execution": {
     "iopub.execute_input": "2024-01-03T12:22:56.094505Z",
     "iopub.status.busy": "2024-01-03T12:22:56.094145Z",
     "iopub.status.idle": "2024-01-03T12:22:56.098466Z",
     "shell.execute_reply": "2024-01-03T12:22:56.098005Z"
    },
    "papermill": {
     "duration": 0.012551,
     "end_time": "2024-01-03T12:22:56.099282",
     "exception": false,
     "start_time": "2024-01-03T12:22:56.086731",
     "status": "completed"
    },
    "tags": []
   },
   "outputs": [
    {
     "data": {
      "text/plain": [
       "PosixPath('/opt/data/results/giant/intersection_genes')"
      ]
     },
     "metadata": {},
     "output_type": "display_data"
    }
   ],
   "source": [
    "OUTPUT_DIR = conf.GIANT[\"RESULTS_DIR\"] / \"intersection_genes\"\n",
    "OUTPUT_DIR.mkdir(parents=True, exist_ok=True)\n",
    "display(OUTPUT_DIR)"
   ]
  },
  {
   "cell_type": "code",
   "execution_count": 6,
   "id": "d44c5dc1-c616-4301-b89a-457289804e57",
   "metadata": {
    "execution": {
     "iopub.execute_input": "2024-01-03T12:22:56.113757Z",
     "iopub.status.busy": "2024-01-03T12:22:56.113601Z",
     "iopub.status.idle": "2024-01-03T12:22:56.116483Z",
     "shell.execute_reply": "2024-01-03T12:22:56.116006Z"
    },
    "papermill": {
     "duration": 0.011067,
     "end_time": "2024-01-03T12:22:56.117259",
     "exception": false,
     "start_time": "2024-01-03T12:22:56.106192",
     "status": "completed"
    },
    "tags": []
   },
   "outputs": [],
   "source": [
    "TISSUE_SPECIFIC_URLS = {\n",
    "    \"blood\": (\"blood\", \"http://hb.flatironinstitute.org/api/integrations/blood/\"),\n",
    "}"
   ]
  },
  {
   "cell_type": "markdown",
   "id": "1fe2ea25-0b72-4da8-b8f5-eb1e094b1ffc",
   "metadata": {
    "papermill": {
     "duration": 0.006802,
     "end_time": "2024-01-03T12:22:56.130959",
     "exception": false,
     "start_time": "2024-01-03T12:22:56.124157",
     "status": "completed"
    },
    "tags": []
   },
   "source": [
    "# Load gene maps"
   ]
  },
  {
   "cell_type": "markdown",
   "id": "b8b9ab54-b23b-496d-bf1c-59d3731f35b5",
   "metadata": {
    "papermill": {
     "duration": 0.006801,
     "end_time": "2024-01-03T12:22:56.144599",
     "exception": false,
     "start_time": "2024-01-03T12:22:56.137798",
     "status": "completed"
    },
    "tags": []
   },
   "source": [
    "These gene mappings include only query genes (gene pairs)."
   ]
  },
  {
   "cell_type": "code",
   "execution_count": 7,
   "id": "5e177953-29d4-4ddc-9822-ac5c02cb471c",
   "metadata": {
    "execution": {
     "iopub.execute_input": "2024-01-03T12:22:56.159314Z",
     "iopub.status.busy": "2024-01-03T12:22:56.158864Z",
     "iopub.status.idle": "2024-01-03T12:22:56.163972Z",
     "shell.execute_reply": "2024-01-03T12:22:56.163452Z"
    },
    "papermill": {
     "duration": 0.013326,
     "end_time": "2024-01-03T12:22:56.164795",
     "exception": false,
     "start_time": "2024-01-03T12:22:56.151469",
     "status": "completed"
    },
    "tags": []
   },
   "outputs": [],
   "source": [
    "gene_id_mappings = pd.read_pickle(OUTPUT_DIR / \"gene_map-symbol_to_entrezid.pkl\")"
   ]
  },
  {
   "cell_type": "code",
   "execution_count": 8,
   "id": "c65cf127-c07b-4f90-8b58-1f91286d9c6d",
   "metadata": {
    "execution": {
     "iopub.execute_input": "2024-01-03T12:22:56.179482Z",
     "iopub.status.busy": "2024-01-03T12:22:56.179153Z",
     "iopub.status.idle": "2024-01-03T12:22:56.183087Z",
     "shell.execute_reply": "2024-01-03T12:22:56.182634Z"
    },
    "papermill": {
     "duration": 0.012163,
     "end_time": "2024-01-03T12:22:56.183885",
     "exception": false,
     "start_time": "2024-01-03T12:22:56.171722",
     "status": "completed"
    },
    "tags": []
   },
   "outputs": [
    {
     "data": {
      "text/plain": [
       "(2878, 2)"
      ]
     },
     "execution_count": 8,
     "metadata": {},
     "output_type": "execute_result"
    }
   ],
   "source": [
    "gene_id_mappings.shape"
   ]
  },
  {
   "cell_type": "code",
   "execution_count": 9,
   "id": "760974b0-008a-43de-b6a8-28f3505536b4",
   "metadata": {
    "execution": {
     "iopub.execute_input": "2024-01-03T12:22:56.198874Z",
     "iopub.status.busy": "2024-01-03T12:22:56.198458Z",
     "iopub.status.idle": "2024-01-03T12:22:56.206287Z",
     "shell.execute_reply": "2024-01-03T12:22:56.205885Z"
    },
    "papermill": {
     "duration": 0.016132,
     "end_time": "2024-01-03T12:22:56.207073",
     "exception": false,
     "start_time": "2024-01-03T12:22:56.190941",
     "status": "completed"
    },
    "tags": []
   },
   "outputs": [
    {
     "data": {
      "text/html": [
       "<div>\n",
       "<style scoped>\n",
       "    .dataframe tbody tr th:only-of-type {\n",
       "        vertical-align: middle;\n",
       "    }\n",
       "\n",
       "    .dataframe tbody tr th {\n",
       "        vertical-align: top;\n",
       "    }\n",
       "\n",
       "    .dataframe thead th {\n",
       "        text-align: right;\n",
       "    }\n",
       "</style>\n",
       "<table border=\"1\" class=\"dataframe\">\n",
       "  <thead>\n",
       "    <tr style=\"text-align: right;\">\n",
       "      <th></th>\n",
       "      <th>SYMBOL</th>\n",
       "      <th>ENTREZID</th>\n",
       "    </tr>\n",
       "  </thead>\n",
       "  <tbody>\n",
       "    <tr>\n",
       "      <th>2</th>\n",
       "      <td>C6orf89</td>\n",
       "      <td>221477</td>\n",
       "    </tr>\n",
       "    <tr>\n",
       "      <th>3</th>\n",
       "      <td>TRMT1L</td>\n",
       "      <td>81627</td>\n",
       "    </tr>\n",
       "    <tr>\n",
       "      <th>5</th>\n",
       "      <td>SMCHD1</td>\n",
       "      <td>23347</td>\n",
       "    </tr>\n",
       "    <tr>\n",
       "      <th>6</th>\n",
       "      <td>LIPF</td>\n",
       "      <td>8513</td>\n",
       "    </tr>\n",
       "    <tr>\n",
       "      <th>7</th>\n",
       "      <td>FLNC</td>\n",
       "      <td>2318</td>\n",
       "    </tr>\n",
       "  </tbody>\n",
       "</table>\n",
       "</div>"
      ],
      "text/plain": [
       "    SYMBOL ENTREZID\n",
       "2  C6orf89   221477\n",
       "3   TRMT1L    81627\n",
       "5   SMCHD1    23347\n",
       "6     LIPF     8513\n",
       "7     FLNC     2318"
      ]
     },
     "execution_count": 9,
     "metadata": {},
     "output_type": "execute_result"
    }
   ],
   "source": [
    "gene_id_mappings.head()"
   ]
  },
  {
   "cell_type": "code",
   "execution_count": 10,
   "id": "d24840ed-d4ef-4642-838b-f6943d12b703",
   "metadata": {
    "execution": {
     "iopub.execute_input": "2024-01-03T12:22:56.221640Z",
     "iopub.status.busy": "2024-01-03T12:22:56.221540Z",
     "iopub.status.idle": "2024-01-03T12:22:56.225671Z",
     "shell.execute_reply": "2024-01-03T12:22:56.225277Z"
    },
    "papermill": {
     "duration": 0.012301,
     "end_time": "2024-01-03T12:22:56.226503",
     "exception": false,
     "start_time": "2024-01-03T12:22:56.214202",
     "status": "completed"
    },
    "tags": []
   },
   "outputs": [],
   "source": [
    "gene_symbol_to_entrezid = gene_id_mappings.set_index(\"SYMBOL\").squeeze().to_dict()"
   ]
  },
  {
   "cell_type": "code",
   "execution_count": 11,
   "id": "e30f845f-8659-4dd7-8802-5564983dc7c2",
   "metadata": {
    "execution": {
     "iopub.execute_input": "2024-01-03T12:22:56.241053Z",
     "iopub.status.busy": "2024-01-03T12:22:56.240962Z",
     "iopub.status.idle": "2024-01-03T12:22:56.244957Z",
     "shell.execute_reply": "2024-01-03T12:22:56.244553Z"
    },
    "papermill": {
     "duration": 0.012207,
     "end_time": "2024-01-03T12:22:56.245795",
     "exception": false,
     "start_time": "2024-01-03T12:22:56.233588",
     "status": "completed"
    },
    "tags": []
   },
   "outputs": [],
   "source": [
    "gene_entrezid_to_symbol = gene_id_mappings.set_index(\"ENTREZID\").squeeze().to_dict()"
   ]
  },
  {
   "cell_type": "code",
   "execution_count": 12,
   "id": "d0c8fc72-7e98-4e5d-a843-f5adcf174821",
   "metadata": {
    "execution": {
     "iopub.execute_input": "2024-01-03T12:22:56.260402Z",
     "iopub.status.busy": "2024-01-03T12:22:56.260308Z",
     "iopub.status.idle": "2024-01-03T12:22:56.264310Z",
     "shell.execute_reply": "2024-01-03T12:22:56.263889Z"
    },
    "papermill": {
     "duration": 0.01219,
     "end_time": "2024-01-03T12:22:56.265095",
     "exception": false,
     "start_time": "2024-01-03T12:22:56.252905",
     "status": "completed"
    },
    "tags": []
   },
   "outputs": [
    {
     "data": {
      "text/plain": [
       "ENTREZID    84885\n",
       "Name: ZDHHC12, dtype: object"
      ]
     },
     "execution_count": 12,
     "metadata": {},
     "output_type": "execute_result"
    }
   ],
   "source": [
    "gene_id_mappings.set_index(\"SYMBOL\").loc[\"ZDHHC12\"]"
   ]
  },
  {
   "cell_type": "markdown",
   "id": "8f219d63-32d8-42ea-b199-b6c4aeabcb8e",
   "metadata": {
    "papermill": {
     "duration": 0.006981,
     "end_time": "2024-01-03T12:22:56.279323",
     "exception": false,
     "start_time": "2024-01-03T12:22:56.272342",
     "status": "completed"
    },
    "tags": []
   },
   "source": [
    "# Functions"
   ]
  },
  {
   "cell_type": "code",
   "execution_count": 13,
   "id": "fc823d63-b478-4639-a372-e899b65d1a42",
   "metadata": {
    "execution": {
     "iopub.execute_input": "2024-01-03T12:22:56.293887Z",
     "iopub.status.busy": "2024-01-03T12:22:56.293791Z",
     "iopub.status.idle": "2024-01-03T12:22:56.297051Z",
     "shell.execute_reply": "2024-01-03T12:22:56.296611Z"
    },
    "papermill": {
     "duration": 0.011505,
     "end_time": "2024-01-03T12:22:56.297880",
     "exception": false,
     "start_time": "2024-01-03T12:22:56.286375",
     "status": "completed"
    },
    "tags": []
   },
   "outputs": [],
   "source": [
    "def convert_gene_pairs(gene_pairs, convert_to_entrezid=False):\n",
    "    \"\"\"\n",
    "    Converts gene pair information (as dataframe) into a suitable format for the function process_tissue_networks.\n",
    "    \"\"\"\n",
    "    gene_pairs = gene_pairs.reset_index()\n",
    "\n",
    "    if convert_to_entrezid:\n",
    "        gene_pairs = gene_pairs.replace(\n",
    "            {\n",
    "                \"level_0\": gene_symbol_to_entrezid,\n",
    "                \"level_1\": gene_symbol_to_entrezid,\n",
    "            }\n",
    "        )\n",
    "\n",
    "    gene_pairs = gene_pairs[[\"level_0\", \"level_1\"]].itertuples(index=False, name=None)\n",
    "\n",
    "    return list(gene_pairs)"
   ]
  },
  {
   "cell_type": "code",
   "execution_count": 14,
   "id": "f9799c56-d08c-46cf-8275-a506af7a7894",
   "metadata": {
    "execution": {
     "iopub.execute_input": "2024-01-03T12:22:56.312599Z",
     "iopub.status.busy": "2024-01-03T12:22:56.312507Z",
     "iopub.status.idle": "2024-01-03T12:22:56.318023Z",
     "shell.execute_reply": "2024-01-03T12:22:56.317634Z"
    },
    "papermill": {
     "duration": 0.013819,
     "end_time": "2024-01-03T12:22:56.318844",
     "exception": false,
     "start_time": "2024-01-03T12:22:56.305025",
     "status": "completed"
    },
    "tags": []
   },
   "outputs": [],
   "source": [
    "def process_tissue_networks(gene_pairs, output_directory, force_tissue=None):\n",
    "    \"\"\"\n",
    "    Given a list of tuples with gene pairs, it uses the GIANT web services to predict a\n",
    "    relevant tissue for each gene pair and its gene network. Then it saves all the genes\n",
    "    in the networks with their edges' values.\n",
    "\n",
    "    If force_tissue is None, then autodetect the cell type for gene pairs.\n",
    "    Otherwise, force_tissue should be a string, which will be used as key to query in\n",
    "    dictionary TISSUE_SPECIFIC_URLS.\n",
    "    \"\"\"\n",
    "    with tqdm(total=min(N_TOP_GENE_PAIRS, len(gene_pairs)), ncols=100) as pbar:\n",
    "        gp_idx = 0\n",
    "\n",
    "        while pbar.n < N_TOP_GENE_PAIRS and gp_idx < len(gene_pairs):\n",
    "            gp = gene_pairs[gp_idx]\n",
    "\n",
    "            pbar.set_description(\",\".join(gp))\n",
    "\n",
    "            # check whether file already exists\n",
    "            suffix = \"\"\n",
    "            if force_tissue is not None:\n",
    "                suffix = f\"-{force_tissue}\"\n",
    "\n",
    "            output_filepath = (\n",
    "                output_directory\n",
    "                / f\"{gp_idx:03d}-{gp[0].lower()}_{gp[1].lower()}{suffix}.h5\"\n",
    "            )\n",
    "            if output_filepath.exists():\n",
    "                output_filepath.touch()\n",
    "\n",
    "                gp_idx += 1\n",
    "                pbar.update(1)\n",
    "                continue\n",
    "\n",
    "            output_directory.mkdir(exist_ok=True, parents=True)\n",
    "\n",
    "            # predict a network for a gene pair\n",
    "            _res = get_network(\n",
    "                gene_symbols=gp,\n",
    "                gene_ids_mappings=gene_id_mappings,\n",
    "                tissue=TISSUE_SPECIFIC_URLS[force_tissue]\n",
    "                if force_tissue is not None\n",
    "                else None,\n",
    "            )\n",
    "            if _res is None:\n",
    "                gp_idx += 1\n",
    "                continue\n",
    "\n",
    "            df, tissue, mincut = _res\n",
    "\n",
    "            assert not df.isna().any().any()\n",
    "\n",
    "            with pd.HDFStore(output_filepath, mode=\"w\", complevel=4) as store:\n",
    "                store.put(\"data\", df, format=\"table\")\n",
    "\n",
    "                metadata = pd.DataFrame(\n",
    "                    {\n",
    "                        \"tissue\": tissue,\n",
    "                        \"mincut\": mincut,\n",
    "                    },\n",
    "                    index=[0],\n",
    "                )\n",
    "                store.put(\"metadata\", metadata, format=\"table\")\n",
    "\n",
    "            gp_idx += 1\n",
    "            pbar.update(1)"
   ]
  },
  {
   "cell_type": "markdown",
   "id": "2071d65d-f6d3-4f64-ac28-51d7707bd602",
   "metadata": {
    "papermill": {
     "duration": 0.006993,
     "end_time": "2024-01-03T12:22:56.332945",
     "exception": false,
     "start_time": "2024-01-03T12:22:56.325952",
     "status": "completed"
    },
    "tags": []
   },
   "source": [
    "# Predict tissue for each gene pair"
   ]
  },
  {
   "cell_type": "markdown",
   "id": "63058738-7a1c-4460-9541-5989711500af",
   "metadata": {
    "papermill": {
     "duration": 0.006964,
     "end_time": "2024-01-03T12:22:56.346940",
     "exception": false,
     "start_time": "2024-01-03T12:22:56.339976",
     "status": "completed"
    },
    "tags": []
   },
   "source": [
    "## Custom gene pairs from Figure 3"
   ]
  },
  {
   "cell_type": "code",
   "execution_count": 15,
   "id": "06411c8b-7a78-45b6-b70e-10dcaa269b2c",
   "metadata": {
    "execution": {
     "iopub.execute_input": "2024-01-03T12:22:56.361582Z",
     "iopub.status.busy": "2024-01-03T12:22:56.361488Z",
     "iopub.status.idle": "2024-01-03T12:22:56.364930Z",
     "shell.execute_reply": "2024-01-03T12:22:56.364534Z"
    },
    "papermill": {
     "duration": 0.011742,
     "end_time": "2024-01-03T12:22:56.365760",
     "exception": false,
     "start_time": "2024-01-03T12:22:56.354018",
     "status": "completed"
    },
    "tags": []
   },
   "outputs": [
    {
     "data": {
      "text/plain": [
       "6"
      ]
     },
     "metadata": {},
     "output_type": "display_data"
    }
   ],
   "source": [
    "gene_pairs = [\n",
    "    (\"IFNG\", \"SDS\"),\n",
    "    (\"PRSS36\", \"CCL18\"),\n",
    "    (\"UTY\", \"KDM6A\"),\n",
    "    # (\"DDX3Y\", \"KDM6A\"),\n",
    "    (\"RASSF2\", \"CYTIP\"),\n",
    "    (\"MYOZ1\", \"TNNI2\"),\n",
    "    (\"SCGB3A1\", \"C19orf33\"),\n",
    "]\n",
    "\n",
    "display(len(gene_pairs))"
   ]
  },
  {
   "cell_type": "markdown",
   "id": "1eade02d-f899-47ca-a56a-571af50c599b",
   "metadata": {
    "papermill": {
     "duration": 0.006991,
     "end_time": "2024-01-03T12:22:56.379985",
     "exception": false,
     "start_time": "2024-01-03T12:22:56.372994",
     "status": "completed"
    },
    "tags": []
   },
   "source": [
    "### Autodetected cell type"
   ]
  },
  {
   "cell_type": "code",
   "execution_count": 16,
   "id": "fe4913a7-789f-4a7c-b0e3-5d39e3fd12c2",
   "metadata": {
    "execution": {
     "iopub.execute_input": "2024-01-03T12:22:56.394682Z",
     "iopub.status.busy": "2024-01-03T12:22:56.394589Z",
     "iopub.status.idle": "2024-01-03T12:22:56.396877Z",
     "shell.execute_reply": "2024-01-03T12:22:56.396463Z"
    },
    "papermill": {
     "duration": 0.010563,
     "end_time": "2024-01-03T12:22:56.397663",
     "exception": false,
     "start_time": "2024-01-03T12:22:56.387100",
     "status": "completed"
    },
    "tags": []
   },
   "outputs": [],
   "source": [
    "output_dir = OUTPUT_DIR / \"custom\" / \"autopredicted_cell_type\""
   ]
  },
  {
   "cell_type": "code",
   "execution_count": 17,
   "id": "d6650966-d577-4d44-9f84-6d971243d4bd",
   "metadata": {
    "execution": {
     "iopub.execute_input": "2024-01-03T12:22:56.412634Z",
     "iopub.status.busy": "2024-01-03T12:22:56.412541Z",
     "iopub.status.idle": "2024-01-03T12:23:05.159350Z",
     "shell.execute_reply": "2024-01-03T12:23:05.159007Z"
    },
    "papermill": {
     "duration": 8.756421,
     "end_time": "2024-01-03T12:23:05.161381",
     "exception": false,
     "start_time": "2024-01-03T12:22:56.404960",
     "status": "completed"
    },
    "tags": []
   },
   "outputs": [
    {
     "name": "stderr",
     "output_type": "stream",
     "text": [
      "SCGB3A1,C19orf33: 100%|███████████████████████████████████████████████| 6/6 [00:08<00:00,  1.46s/it]\n"
     ]
    }
   ],
   "source": [
    "process_tissue_networks(gene_pairs, output_dir)"
   ]
  },
  {
   "cell_type": "markdown",
   "id": "2c59e7ef-a235-47ee-8b48-ec523e84b834",
   "metadata": {
    "papermill": {
     "duration": 0.014483,
     "end_time": "2024-01-03T12:23:05.191062",
     "exception": false,
     "start_time": "2024-01-03T12:23:05.176579",
     "status": "completed"
    },
    "tags": []
   },
   "source": [
    "### Blood"
   ]
  },
  {
   "cell_type": "code",
   "execution_count": 18,
   "id": "56a164ab-0730-4fd8-b3ea-f057a4a8e2c0",
   "metadata": {
    "execution": {
     "iopub.execute_input": "2024-01-03T12:23:05.221348Z",
     "iopub.status.busy": "2024-01-03T12:23:05.220913Z",
     "iopub.status.idle": "2024-01-03T12:23:05.223619Z",
     "shell.execute_reply": "2024-01-03T12:23:05.223185Z"
    },
    "papermill": {
     "duration": 0.019152,
     "end_time": "2024-01-03T12:23:05.224877",
     "exception": false,
     "start_time": "2024-01-03T12:23:05.205725",
     "status": "completed"
    },
    "tags": []
   },
   "outputs": [],
   "source": [
    "output_dir = OUTPUT_DIR / \"custom\" / \"blood\""
   ]
  },
  {
   "cell_type": "code",
   "execution_count": 19,
   "id": "45c6cefd-5c44-4c89-a143-b2225ebbddab",
   "metadata": {
    "execution": {
     "iopub.execute_input": "2024-01-03T12:23:05.251812Z",
     "iopub.status.busy": "2024-01-03T12:23:05.251694Z",
     "iopub.status.idle": "2024-01-03T12:23:08.821067Z",
     "shell.execute_reply": "2024-01-03T12:23:08.820709Z"
    },
    "papermill": {
     "duration": 3.583411,
     "end_time": "2024-01-03T12:23:08.822961",
     "exception": false,
     "start_time": "2024-01-03T12:23:05.239550",
     "status": "completed"
    },
    "tags": []
   },
   "outputs": [
    {
     "name": "stderr",
     "output_type": "stream",
     "text": [
      "DDX3Y,KDM6A: 100%|████████████████████████████████████████████████████| 7/7 [00:03<00:00,  1.96it/s]\n"
     ]
    }
   ],
   "source": [
    "process_tissue_networks(\n",
    "    gene_pairs\n",
    "    + [\n",
    "        (\"DDX3Y\", \"KDM6A\"),\n",
    "    ],\n",
    "    output_dir,\n",
    "    force_tissue=\"blood\",\n",
    ")"
   ]
  },
  {
   "cell_type": "markdown",
   "id": "ca181c67-d991-42a6-b068-d060b169685d",
   "metadata": {
    "papermill": {
     "duration": 0.014946,
     "end_time": "2024-01-03T12:23:08.853531",
     "exception": false,
     "start_time": "2024-01-03T12:23:08.838585",
     "status": "completed"
    },
    "tags": []
   },
   "source": [
    "## CCC vs Pearson"
   ]
  },
  {
   "cell_type": "code",
   "execution_count": 20,
   "id": "3cf3d0e2-a950-450f-ac96-326635bcea9c",
   "metadata": {
    "execution": {
     "iopub.execute_input": "2024-01-03T12:23:08.884501Z",
     "iopub.status.busy": "2024-01-03T12:23:08.884378Z",
     "iopub.status.idle": "2024-01-03T12:23:08.887124Z",
     "shell.execute_reply": "2024-01-03T12:23:08.886745Z"
    },
    "papermill": {
     "duration": 0.01956,
     "end_time": "2024-01-03T12:23:08.888344",
     "exception": false,
     "start_time": "2024-01-03T12:23:08.868784",
     "status": "completed"
    },
    "tags": []
   },
   "outputs": [],
   "source": [
    "output_dir = OUTPUT_DIR / \"clustermatch_vs_pearson\""
   ]
  },
  {
   "cell_type": "code",
   "execution_count": 21,
   "id": "09c0ba15-e3e6-4a38-b464-5c6b4183e94a",
   "metadata": {
    "execution": {
     "iopub.execute_input": "2024-01-03T12:23:08.916185Z",
     "iopub.status.busy": "2024-01-03T12:23:08.916068Z",
     "iopub.status.idle": "2024-01-03T12:23:08.925546Z",
     "shell.execute_reply": "2024-01-03T12:23:08.925107Z"
    },
    "papermill": {
     "duration": 0.022805,
     "end_time": "2024-01-03T12:23:08.926425",
     "exception": false,
     "start_time": "2024-01-03T12:23:08.903620",
     "status": "completed"
    },
    "tags": []
   },
   "outputs": [],
   "source": [
    "# read gene pairs\n",
    "data = pd.read_pickle(INPUT_DIR / \"clustermatch_vs_pearson.pkl\").sort_values(\n",
    "    \"ccc\", ascending=False\n",
    ")"
   ]
  },
  {
   "cell_type": "code",
   "execution_count": 22,
   "id": "8fdb325e-a4d8-47f7-a3b4-11ba90d5c5cb",
   "metadata": {
    "execution": {
     "iopub.execute_input": "2024-01-03T12:23:08.943274Z",
     "iopub.status.busy": "2024-01-03T12:23:08.942981Z",
     "iopub.status.idle": "2024-01-03T12:23:08.946485Z",
     "shell.execute_reply": "2024-01-03T12:23:08.946099Z"
    },
    "papermill": {
     "duration": 0.012782,
     "end_time": "2024-01-03T12:23:08.947217",
     "exception": false,
     "start_time": "2024-01-03T12:23:08.934435",
     "status": "completed"
    },
    "tags": []
   },
   "outputs": [
    {
     "data": {
      "text/plain": [
       "(20951, 11)"
      ]
     },
     "execution_count": 22,
     "metadata": {},
     "output_type": "execute_result"
    }
   ],
   "source": [
    "data.shape"
   ]
  },
  {
   "cell_type": "code",
   "execution_count": 23,
   "id": "e381b0da-5c28-4c61-a6fe-c805586248ed",
   "metadata": {
    "execution": {
     "iopub.execute_input": "2024-01-03T12:23:08.964151Z",
     "iopub.status.busy": "2024-01-03T12:23:08.963871Z",
     "iopub.status.idle": "2024-01-03T12:23:08.977512Z",
     "shell.execute_reply": "2024-01-03T12:23:08.977110Z"
    },
    "papermill": {
     "duration": 0.022984,
     "end_time": "2024-01-03T12:23:08.978315",
     "exception": false,
     "start_time": "2024-01-03T12:23:08.955331",
     "status": "completed"
    },
    "tags": []
   },
   "outputs": [
    {
     "data": {
      "text/html": [
       "<div>\n",
       "<style scoped>\n",
       "    .dataframe tbody tr th:only-of-type {\n",
       "        vertical-align: middle;\n",
       "    }\n",
       "\n",
       "    .dataframe tbody tr th {\n",
       "        vertical-align: top;\n",
       "    }\n",
       "\n",
       "    .dataframe thead th {\n",
       "        text-align: right;\n",
       "    }\n",
       "</style>\n",
       "<table border=\"1\" class=\"dataframe\">\n",
       "  <thead>\n",
       "    <tr style=\"text-align: right;\">\n",
       "      <th></th>\n",
       "      <th></th>\n",
       "      <th>ccc</th>\n",
       "      <th>pearson</th>\n",
       "      <th>spearman</th>\n",
       "      <th>clustermatch_rank</th>\n",
       "      <th>pearson_rank</th>\n",
       "      <th>spearman_rank</th>\n",
       "      <th>ccc_fdr</th>\n",
       "      <th>pearson_fdr</th>\n",
       "      <th>spearman_fdr</th>\n",
       "      <th>understudied_score</th>\n",
       "      <th>min_n_pubs</th>\n",
       "    </tr>\n",
       "  </thead>\n",
       "  <tbody>\n",
       "    <tr>\n",
       "      <th>TBCC</th>\n",
       "      <th>IFNG</th>\n",
       "      <td>0.468202</td>\n",
       "      <td>0.076129</td>\n",
       "      <td>0.544895</td>\n",
       "      <td>11989835.0</td>\n",
       "      <td>2595765.0</td>\n",
       "      <td>8531829.0</td>\n",
       "      <td>0.000001</td>\n",
       "      <td>0.047159</td>\n",
       "      <td>2.910920e-59</td>\n",
       "      <td>-inf</td>\n",
       "      <td>1619.0</td>\n",
       "    </tr>\n",
       "    <tr>\n",
       "      <th>NRADDP</th>\n",
       "      <th>SERPINH1</th>\n",
       "      <td>0.460965</td>\n",
       "      <td>0.111842</td>\n",
       "      <td>0.540108</td>\n",
       "      <td>11949532.0</td>\n",
       "      <td>3594819.0</td>\n",
       "      <td>8473305.0</td>\n",
       "      <td>0.000001</td>\n",
       "      <td>0.003633</td>\n",
       "      <td>4.605633e-58</td>\n",
       "      <td>0.072890</td>\n",
       "      <td>110.0</td>\n",
       "    </tr>\n",
       "    <tr>\n",
       "      <th>CCL18</th>\n",
       "      <th>ZDHHC12</th>\n",
       "      <td>0.446659</td>\n",
       "      <td>0.099853</td>\n",
       "      <td>0.560171</td>\n",
       "      <td>11863840.5</td>\n",
       "      <td>3274368.0</td>\n",
       "      <td>8717179.0</td>\n",
       "      <td>0.000001</td>\n",
       "      <td>0.009325</td>\n",
       "      <td>3.237273e-63</td>\n",
       "      <td>0.187653</td>\n",
       "      <td>11.0</td>\n",
       "    </tr>\n",
       "    <tr>\n",
       "      <th>NRADDP</th>\n",
       "      <th>BAG3</th>\n",
       "      <td>0.439590</td>\n",
       "      <td>0.096174</td>\n",
       "      <td>0.502060</td>\n",
       "      <td>11817984.0</td>\n",
       "      <td>3173235.0</td>\n",
       "      <td>8003678.0</td>\n",
       "      <td>0.000001</td>\n",
       "      <td>0.012227</td>\n",
       "      <td>3.571766e-49</td>\n",
       "      <td>-0.576042</td>\n",
       "      <td>153.0</td>\n",
       "    </tr>\n",
       "    <tr>\n",
       "      <th>GLIPR1</th>\n",
       "      <th>IFNG</th>\n",
       "      <td>0.439590</td>\n",
       "      <td>0.096601</td>\n",
       "      <td>0.532489</td>\n",
       "      <td>11817984.0</td>\n",
       "      <td>3184937.0</td>\n",
       "      <td>8380146.0</td>\n",
       "      <td>0.000001</td>\n",
       "      <td>0.011862</td>\n",
       "      <td>3.421468e-56</td>\n",
       "      <td>0.002336</td>\n",
       "      <td>32.0</td>\n",
       "    </tr>\n",
       "  </tbody>\n",
       "</table>\n",
       "</div>"
      ],
      "text/plain": [
       "                      ccc   pearson  spearman  clustermatch_rank  \\\n",
       "TBCC   IFNG      0.468202  0.076129  0.544895         11989835.0   \n",
       "NRADDP SERPINH1  0.460965  0.111842  0.540108         11949532.0   \n",
       "CCL18  ZDHHC12   0.446659  0.099853  0.560171         11863840.5   \n",
       "NRADDP BAG3      0.439590  0.096174  0.502060         11817984.0   \n",
       "GLIPR1 IFNG      0.439590  0.096601  0.532489         11817984.0   \n",
       "\n",
       "                 pearson_rank  spearman_rank   ccc_fdr  pearson_fdr  \\\n",
       "TBCC   IFNG         2595765.0      8531829.0  0.000001     0.047159   \n",
       "NRADDP SERPINH1     3594819.0      8473305.0  0.000001     0.003633   \n",
       "CCL18  ZDHHC12      3274368.0      8717179.0  0.000001     0.009325   \n",
       "NRADDP BAG3         3173235.0      8003678.0  0.000001     0.012227   \n",
       "GLIPR1 IFNG         3184937.0      8380146.0  0.000001     0.011862   \n",
       "\n",
       "                 spearman_fdr  understudied_score  min_n_pubs  \n",
       "TBCC   IFNG      2.910920e-59                -inf      1619.0  \n",
       "NRADDP SERPINH1  4.605633e-58            0.072890       110.0  \n",
       "CCL18  ZDHHC12   3.237273e-63            0.187653        11.0  \n",
       "NRADDP BAG3      3.571766e-49           -0.576042       153.0  \n",
       "GLIPR1 IFNG      3.421468e-56            0.002336        32.0  "
      ]
     },
     "execution_count": 23,
     "metadata": {},
     "output_type": "execute_result"
    }
   ],
   "source": [
    "data.head()"
   ]
  },
  {
   "cell_type": "code",
   "execution_count": 24,
   "id": "249f715b-3754-4964-b6b3-bb1c04677ff6",
   "metadata": {
    "execution": {
     "iopub.execute_input": "2024-01-03T12:23:08.995582Z",
     "iopub.status.busy": "2024-01-03T12:23:08.995242Z",
     "iopub.status.idle": "2024-01-03T12:23:08.998675Z",
     "shell.execute_reply": "2024-01-03T12:23:08.998266Z"
    },
    "papermill": {
     "duration": 0.012888,
     "end_time": "2024-01-03T12:23:08.999438",
     "exception": false,
     "start_time": "2024-01-03T12:23:08.986550",
     "status": "completed"
    },
    "tags": []
   },
   "outputs": [],
   "source": [
    "# make sure gene pairs are statistically significant\n",
    "data = data[data[\"ccc_fdr\"] < 0.05]"
   ]
  },
  {
   "cell_type": "code",
   "execution_count": 25,
   "id": "16dc2379-7be3-4cc9-8d2d-23f83641e37f",
   "metadata": {
    "execution": {
     "iopub.execute_input": "2024-01-03T12:23:09.016840Z",
     "iopub.status.busy": "2024-01-03T12:23:09.016502Z",
     "iopub.status.idle": "2024-01-03T12:23:09.019959Z",
     "shell.execute_reply": "2024-01-03T12:23:09.019559Z"
    },
    "papermill": {
     "duration": 0.013022,
     "end_time": "2024-01-03T12:23:09.020730",
     "exception": false,
     "start_time": "2024-01-03T12:23:09.007708",
     "status": "completed"
    },
    "tags": []
   },
   "outputs": [
    {
     "data": {
      "text/plain": [
       "(1944, 11)"
      ]
     },
     "execution_count": 25,
     "metadata": {},
     "output_type": "execute_result"
    }
   ],
   "source": [
    "data.shape"
   ]
  },
  {
   "cell_type": "markdown",
   "id": "769e6090-c7f9-437b-b3b1-4f35096366c6",
   "metadata": {
    "papermill": {
     "duration": 0.008278,
     "end_time": "2024-01-03T12:23:09.037352",
     "exception": false,
     "start_time": "2024-01-03T12:23:09.029074",
     "status": "completed"
    },
    "tags": []
   },
   "source": [
    "From the `data` dataframe, only gene pairs (index) are used.\n",
    "The other numbers are correlation values and their rankings."
   ]
  },
  {
   "cell_type": "code",
   "execution_count": 26,
   "id": "83695bea-bc08-49bb-b55a-cf768144798f",
   "metadata": {
    "execution": {
     "iopub.execute_input": "2024-01-03T12:23:09.054737Z",
     "iopub.status.busy": "2024-01-03T12:23:09.054590Z",
     "iopub.status.idle": "2024-01-03T12:23:09.060787Z",
     "shell.execute_reply": "2024-01-03T12:23:09.060392Z"
    },
    "papermill": {
     "duration": 0.015763,
     "end_time": "2024-01-03T12:23:09.061538",
     "exception": false,
     "start_time": "2024-01-03T12:23:09.045775",
     "status": "completed"
    },
    "tags": []
   },
   "outputs": [
    {
     "data": {
      "text/plain": [
       "1944"
      ]
     },
     "metadata": {},
     "output_type": "display_data"
    }
   ],
   "source": [
    "gene_pairs = convert_gene_pairs(data)\n",
    "display(len(gene_pairs))"
   ]
  },
  {
   "cell_type": "code",
   "execution_count": 27,
   "id": "d63403df-6ee2-47eb-b650-4e48e5a753a1",
   "metadata": {
    "execution": {
     "iopub.execute_input": "2024-01-03T12:23:09.078994Z",
     "iopub.status.busy": "2024-01-03T12:23:09.078602Z",
     "iopub.status.idle": "2024-01-03T12:23:09.082463Z",
     "shell.execute_reply": "2024-01-03T12:23:09.082080Z"
    },
    "papermill": {
     "duration": 0.013355,
     "end_time": "2024-01-03T12:23:09.083227",
     "exception": false,
     "start_time": "2024-01-03T12:23:09.069872",
     "status": "completed"
    },
    "tags": []
   },
   "outputs": [
    {
     "data": {
      "text/plain": [
       "[('TBCC', 'IFNG'),\n",
       " ('NRADDP', 'SERPINH1'),\n",
       " ('CCL18', 'ZDHHC12'),\n",
       " ('NRADDP', 'BAG3'),\n",
       " ('GLIPR1', 'IFNG'),\n",
       " ('NRADDP', 'DNAJA4'),\n",
       " ('TNFSF14', 'SERPINH1'),\n",
       " ('TMEM80', 'IFNG'),\n",
       " ('LXN', 'IFNG'),\n",
       " ('NRADDP', 'HSPB1')]"
      ]
     },
     "execution_count": 27,
     "metadata": {},
     "output_type": "execute_result"
    }
   ],
   "source": [
    "gene_pairs[:10]"
   ]
  },
  {
   "cell_type": "code",
   "execution_count": 28,
   "id": "c03de583-d0e8-47be-9176-ea2061cea184",
   "metadata": {
    "execution": {
     "iopub.execute_input": "2024-01-03T12:23:09.100616Z",
     "iopub.status.busy": "2024-01-03T12:23:09.100343Z",
     "iopub.status.idle": "2024-01-03T12:25:31.145144Z",
     "shell.execute_reply": "2024-01-03T12:25:31.144801Z"
    },
    "papermill": {
     "duration": 142.055405,
     "end_time": "2024-01-03T12:25:31.146997",
     "exception": false,
     "start_time": "2024-01-03T12:23:09.091592",
     "status": "completed"
    },
    "tags": []
   },
   "outputs": [
    {
     "name": "stderr",
     "output_type": "stream",
     "text": [
      "ZDHHC12,SPP1: 100%|███████████████████████████████████████████████| 100/100 [02:22<00:00,  1.42s/it]\n"
     ]
    }
   ],
   "source": [
    "process_tissue_networks(gene_pairs, output_dir)"
   ]
  },
  {
   "cell_type": "markdown",
   "id": "688f8785-1c1e-456c-8961-f8bfffb05255",
   "metadata": {
    "papermill": {
     "duration": 0.026915,
     "end_time": "2024-01-03T12:25:31.201467",
     "exception": false,
     "start_time": "2024-01-03T12:25:31.174552",
     "status": "completed"
    },
    "tags": []
   },
   "source": [
    "## CCC vs Pearson/Spearman"
   ]
  },
  {
   "cell_type": "code",
   "execution_count": 29,
   "id": "cb606a5d-2d24-408b-a8ce-ffa22fd5946c",
   "metadata": {
    "execution": {
     "iopub.execute_input": "2024-01-03T12:25:31.242797Z",
     "iopub.status.busy": "2024-01-03T12:25:31.242702Z",
     "iopub.status.idle": "2024-01-03T12:25:31.244864Z",
     "shell.execute_reply": "2024-01-03T12:25:31.244524Z"
    },
    "papermill": {
     "duration": 0.017859,
     "end_time": "2024-01-03T12:25:31.245555",
     "exception": false,
     "start_time": "2024-01-03T12:25:31.227696",
     "status": "completed"
    },
    "tags": []
   },
   "outputs": [],
   "source": [
    "output_dir = OUTPUT_DIR / \"clustermatch_vs_pearson_spearman\""
   ]
  },
  {
   "cell_type": "code",
   "execution_count": 30,
   "id": "c6b4f254-c67c-4267-8a21-56e69f64cd5c",
   "metadata": {
    "execution": {
     "iopub.execute_input": "2024-01-03T12:25:31.274795Z",
     "iopub.status.busy": "2024-01-03T12:25:31.274446Z",
     "iopub.status.idle": "2024-01-03T12:25:31.278578Z",
     "shell.execute_reply": "2024-01-03T12:25:31.278160Z"
    },
    "papermill": {
     "duration": 0.019627,
     "end_time": "2024-01-03T12:25:31.279367",
     "exception": false,
     "start_time": "2024-01-03T12:25:31.259740",
     "status": "completed"
    },
    "tags": []
   },
   "outputs": [],
   "source": [
    "data = pd.read_pickle(INPUT_DIR / \"clustermatch_vs_pearson_spearman.pkl\").sort_values(\n",
    "    \"ccc\", ascending=False\n",
    ")"
   ]
  },
  {
   "cell_type": "code",
   "execution_count": 31,
   "id": "80eb2e8c-bff9-4e43-95f3-c5083c64e2de",
   "metadata": {
    "execution": {
     "iopub.execute_input": "2024-01-03T12:25:31.308794Z",
     "iopub.status.busy": "2024-01-03T12:25:31.308435Z",
     "iopub.status.idle": "2024-01-03T12:25:31.311968Z",
     "shell.execute_reply": "2024-01-03T12:25:31.311566Z"
    },
    "papermill": {
     "duration": 0.019132,
     "end_time": "2024-01-03T12:25:31.312775",
     "exception": false,
     "start_time": "2024-01-03T12:25:31.293643",
     "status": "completed"
    },
    "tags": []
   },
   "outputs": [
    {
     "data": {
      "text/plain": [
       "(8, 11)"
      ]
     },
     "execution_count": 31,
     "metadata": {},
     "output_type": "execute_result"
    }
   ],
   "source": [
    "data.shape"
   ]
  },
  {
   "cell_type": "code",
   "execution_count": 32,
   "id": "7a67a953-1503-40f3-a7ce-eb1001aa91a0",
   "metadata": {
    "execution": {
     "iopub.execute_input": "2024-01-03T12:25:31.342122Z",
     "iopub.status.busy": "2024-01-03T12:25:31.341835Z",
     "iopub.status.idle": "2024-01-03T12:25:31.355552Z",
     "shell.execute_reply": "2024-01-03T12:25:31.355150Z"
    },
    "papermill": {
     "duration": 0.029325,
     "end_time": "2024-01-03T12:25:31.356327",
     "exception": false,
     "start_time": "2024-01-03T12:25:31.327002",
     "status": "completed"
    },
    "tags": []
   },
   "outputs": [
    {
     "data": {
      "text/html": [
       "<div>\n",
       "<style scoped>\n",
       "    .dataframe tbody tr th:only-of-type {\n",
       "        vertical-align: middle;\n",
       "    }\n",
       "\n",
       "    .dataframe tbody tr th {\n",
       "        vertical-align: top;\n",
       "    }\n",
       "\n",
       "    .dataframe thead th {\n",
       "        text-align: right;\n",
       "    }\n",
       "</style>\n",
       "<table border=\"1\" class=\"dataframe\">\n",
       "  <thead>\n",
       "    <tr style=\"text-align: right;\">\n",
       "      <th></th>\n",
       "      <th></th>\n",
       "      <th>ccc</th>\n",
       "      <th>pearson</th>\n",
       "      <th>spearman</th>\n",
       "      <th>clustermatch_rank</th>\n",
       "      <th>pearson_rank</th>\n",
       "      <th>spearman_rank</th>\n",
       "      <th>ccc_fdr</th>\n",
       "      <th>pearson_fdr</th>\n",
       "      <th>spearman_fdr</th>\n",
       "      <th>understudied_score</th>\n",
       "      <th>min_n_pubs</th>\n",
       "    </tr>\n",
       "  </thead>\n",
       "  <tbody>\n",
       "    <tr>\n",
       "      <th>DNAJC5</th>\n",
       "      <th>GTPBP1</th>\n",
       "      <td>0.193464</td>\n",
       "      <td>0.107576</td>\n",
       "      <td>0.156998</td>\n",
       "      <td>8979610.0</td>\n",
       "      <td>3482451.0</td>\n",
       "      <td>3018450.0</td>\n",
       "      <td>0.000001</td>\n",
       "      <td>0.005132</td>\n",
       "      <td>1.810946e-05</td>\n",
       "      <td>0.332355</td>\n",
       "      <td>27.0</td>\n",
       "    </tr>\n",
       "    <tr>\n",
       "      <th>RPL32P3</th>\n",
       "      <th>PRDX3P1</th>\n",
       "      <td>0.193464</td>\n",
       "      <td>0.073375</td>\n",
       "      <td>0.186682</td>\n",
       "      <td>8979610.0</td>\n",
       "      <td>2512718.0</td>\n",
       "      <td>3534806.0</td>\n",
       "      <td>0.000001</td>\n",
       "      <td>0.055651</td>\n",
       "      <td>3.071763e-07</td>\n",
       "      <td>-inf</td>\n",
       "      <td>inf</td>\n",
       "    </tr>\n",
       "    <tr>\n",
       "      <th>BLOC1S3</th>\n",
       "      <th>RP11-4B16.4</th>\n",
       "      <td>0.188812</td>\n",
       "      <td>0.028556</td>\n",
       "      <td>0.192653</td>\n",
       "      <td>8897293.5</td>\n",
       "      <td>1043401.0</td>\n",
       "      <td>3636575.0</td>\n",
       "      <td>0.000001</td>\n",
       "      <td>0.463019</td>\n",
       "      <td>1.243621e-07</td>\n",
       "      <td>-0.033741</td>\n",
       "      <td>14.0</td>\n",
       "    </tr>\n",
       "    <tr>\n",
       "      <th>AC009950.2</th>\n",
       "      <th>PRDX3P1</th>\n",
       "      <td>0.184279</td>\n",
       "      <td>0.070892</td>\n",
       "      <td>0.197203</td>\n",
       "      <td>8823932.0</td>\n",
       "      <td>2437032.0</td>\n",
       "      <td>3713281.0</td>\n",
       "      <td>0.000001</td>\n",
       "      <td>0.064512</td>\n",
       "      <td>6.121070e-08</td>\n",
       "      <td>-inf</td>\n",
       "      <td>inf</td>\n",
       "    </tr>\n",
       "    <tr>\n",
       "      <th>CYTH4</th>\n",
       "      <th>GTPBP1</th>\n",
       "      <td>0.184217</td>\n",
       "      <td>0.087254</td>\n",
       "      <td>0.183848</td>\n",
       "      <td>8813629.5</td>\n",
       "      <td>2922303.0</td>\n",
       "      <td>3486726.0</td>\n",
       "      <td>0.000001</td>\n",
       "      <td>0.022883</td>\n",
       "      <td>4.669500e-07</td>\n",
       "      <td>0.593615</td>\n",
       "      <td>16.0</td>\n",
       "    </tr>\n",
       "  </tbody>\n",
       "</table>\n",
       "</div>"
      ],
      "text/plain": [
       "                             ccc   pearson  spearman  clustermatch_rank  \\\n",
       "DNAJC5     GTPBP1       0.193464  0.107576  0.156998          8979610.0   \n",
       "RPL32P3    PRDX3P1      0.193464  0.073375  0.186682          8979610.0   \n",
       "BLOC1S3    RP11-4B16.4  0.188812  0.028556  0.192653          8897293.5   \n",
       "AC009950.2 PRDX3P1      0.184279  0.070892  0.197203          8823932.0   \n",
       "CYTH4      GTPBP1       0.184217  0.087254  0.183848          8813629.5   \n",
       "\n",
       "                        pearson_rank  spearman_rank   ccc_fdr  pearson_fdr  \\\n",
       "DNAJC5     GTPBP1          3482451.0      3018450.0  0.000001     0.005132   \n",
       "RPL32P3    PRDX3P1         2512718.0      3534806.0  0.000001     0.055651   \n",
       "BLOC1S3    RP11-4B16.4     1043401.0      3636575.0  0.000001     0.463019   \n",
       "AC009950.2 PRDX3P1         2437032.0      3713281.0  0.000001     0.064512   \n",
       "CYTH4      GTPBP1          2922303.0      3486726.0  0.000001     0.022883   \n",
       "\n",
       "                        spearman_fdr  understudied_score  min_n_pubs  \n",
       "DNAJC5     GTPBP1       1.810946e-05            0.332355        27.0  \n",
       "RPL32P3    PRDX3P1      3.071763e-07                -inf         inf  \n",
       "BLOC1S3    RP11-4B16.4  1.243621e-07           -0.033741        14.0  \n",
       "AC009950.2 PRDX3P1      6.121070e-08                -inf         inf  \n",
       "CYTH4      GTPBP1       4.669500e-07            0.593615        16.0  "
      ]
     },
     "execution_count": 32,
     "metadata": {},
     "output_type": "execute_result"
    }
   ],
   "source": [
    "data.head()"
   ]
  },
  {
   "cell_type": "code",
   "execution_count": 33,
   "id": "58611449-759f-4894-9e01-2cd2d9246667",
   "metadata": {
    "execution": {
     "iopub.execute_input": "2024-01-03T12:25:31.386328Z",
     "iopub.status.busy": "2024-01-03T12:25:31.385899Z",
     "iopub.status.idle": "2024-01-03T12:25:31.389597Z",
     "shell.execute_reply": "2024-01-03T12:25:31.389077Z"
    },
    "papermill": {
     "duration": 0.019691,
     "end_time": "2024-01-03T12:25:31.390439",
     "exception": false,
     "start_time": "2024-01-03T12:25:31.370748",
     "status": "completed"
    },
    "tags": []
   },
   "outputs": [],
   "source": [
    "# make sure gene pairs are statistically significant\n",
    "data = data[data[\"ccc_fdr\"] < 0.05]"
   ]
  },
  {
   "cell_type": "code",
   "execution_count": 34,
   "id": "fafa5dd9-2990-4df8-a157-35f346dc9b00",
   "metadata": {
    "execution": {
     "iopub.execute_input": "2024-01-03T12:25:31.420208Z",
     "iopub.status.busy": "2024-01-03T12:25:31.419899Z",
     "iopub.status.idle": "2024-01-03T12:25:31.423758Z",
     "shell.execute_reply": "2024-01-03T12:25:31.423250Z"
    },
    "papermill": {
     "duration": 0.019749,
     "end_time": "2024-01-03T12:25:31.424578",
     "exception": false,
     "start_time": "2024-01-03T12:25:31.404829",
     "status": "completed"
    },
    "tags": []
   },
   "outputs": [
    {
     "data": {
      "text/plain": [
       "(8, 11)"
      ]
     },
     "execution_count": 34,
     "metadata": {},
     "output_type": "execute_result"
    }
   ],
   "source": [
    "data.shape"
   ]
  },
  {
   "cell_type": "code",
   "execution_count": 35,
   "id": "1a82c50e-54e4-4b43-bf4d-791918ec6da0",
   "metadata": {
    "execution": {
     "iopub.execute_input": "2024-01-03T12:25:31.454327Z",
     "iopub.status.busy": "2024-01-03T12:25:31.454027Z",
     "iopub.status.idle": "2024-01-03T12:25:31.460137Z",
     "shell.execute_reply": "2024-01-03T12:25:31.459618Z"
    },
    "papermill": {
     "duration": 0.022017,
     "end_time": "2024-01-03T12:25:31.461062",
     "exception": false,
     "start_time": "2024-01-03T12:25:31.439045",
     "status": "completed"
    },
    "tags": []
   },
   "outputs": [
    {
     "data": {
      "text/plain": [
       "8"
      ]
     },
     "metadata": {},
     "output_type": "display_data"
    }
   ],
   "source": [
    "gene_pairs = convert_gene_pairs(data)\n",
    "display(len(gene_pairs))"
   ]
  },
  {
   "cell_type": "code",
   "execution_count": 36,
   "id": "c5c08369-7812-461c-846d-7e81451aa348",
   "metadata": {
    "execution": {
     "iopub.execute_input": "2024-01-03T12:25:31.491042Z",
     "iopub.status.busy": "2024-01-03T12:25:31.490645Z",
     "iopub.status.idle": "2024-01-03T12:25:31.494862Z",
     "shell.execute_reply": "2024-01-03T12:25:31.494357Z"
    },
    "papermill": {
     "duration": 0.020118,
     "end_time": "2024-01-03T12:25:31.495704",
     "exception": false,
     "start_time": "2024-01-03T12:25:31.475586",
     "status": "completed"
    },
    "tags": []
   },
   "outputs": [
    {
     "data": {
      "text/plain": [
       "[('DNAJC5', 'GTPBP1'),\n",
       " ('RPL32P3', 'PRDX3P1'),\n",
       " ('BLOC1S3', 'RP11-4B16.4'),\n",
       " ('AC009950.2', 'PRDX3P1'),\n",
       " ('CYTH4', 'GTPBP1'),\n",
       " ('KLHL21', 'AC068580.6'),\n",
       " ('C17orf53', 'TPX2'),\n",
       " ('KIAA0232', 'PRDX3P1')]"
      ]
     },
     "execution_count": 36,
     "metadata": {},
     "output_type": "execute_result"
    }
   ],
   "source": [
    "gene_pairs[:10]"
   ]
  },
  {
   "cell_type": "code",
   "execution_count": 37,
   "id": "4156f33e-2d5c-47ce-8fa2-1afe4dfb4bf2",
   "metadata": {
    "execution": {
     "iopub.execute_input": "2024-01-03T12:25:31.525435Z",
     "iopub.status.busy": "2024-01-03T12:25:31.525270Z",
     "iopub.status.idle": "2024-01-03T12:25:35.154292Z",
     "shell.execute_reply": "2024-01-03T12:25:35.153735Z"
    },
    "papermill": {
     "duration": 3.645419,
     "end_time": "2024-01-03T12:25:35.155625",
     "exception": false,
     "start_time": "2024-01-03T12:25:31.510206",
     "status": "completed"
    },
    "tags": []
   },
   "outputs": [
    {
     "name": "stderr",
     "output_type": "stream",
     "text": [
      "KIAA0232,PRDX3P1:  25%|███████████▊                                   | 2/8 [00:03<00:10,  1.81s/it]\n"
     ]
    }
   ],
   "source": [
    "process_tissue_networks(gene_pairs, output_dir)"
   ]
  },
  {
   "cell_type": "markdown",
   "id": "b1af54fe-0828-4fd2-ab26-3a42126e7234",
   "metadata": {
    "papermill": {
     "duration": 0.02785,
     "end_time": "2024-01-03T12:25:35.212934",
     "exception": false,
     "start_time": "2024-01-03T12:25:35.185084",
     "status": "completed"
    },
    "tags": []
   },
   "source": [
    "## CCC vs Spearman"
   ]
  },
  {
   "cell_type": "code",
   "execution_count": 38,
   "id": "02fac60d-3e0a-4a6e-b2f3-a2c80c8a4e05",
   "metadata": {
    "execution": {
     "iopub.execute_input": "2024-01-03T12:25:35.254504Z",
     "iopub.status.busy": "2024-01-03T12:25:35.254047Z",
     "iopub.status.idle": "2024-01-03T12:25:35.257113Z",
     "shell.execute_reply": "2024-01-03T12:25:35.256547Z"
    },
    "papermill": {
     "duration": 0.018942,
     "end_time": "2024-01-03T12:25:35.257938",
     "exception": false,
     "start_time": "2024-01-03T12:25:35.238996",
     "status": "completed"
    },
    "tags": []
   },
   "outputs": [],
   "source": [
    "output_dir = OUTPUT_DIR / \"clustermatch_vs_spearman\""
   ]
  },
  {
   "cell_type": "code",
   "execution_count": 39,
   "id": "069f7efc-2389-432d-86d5-66474ad80b1d",
   "metadata": {
    "execution": {
     "iopub.execute_input": "2024-01-03T12:25:35.288211Z",
     "iopub.status.busy": "2024-01-03T12:25:35.287861Z",
     "iopub.status.idle": "2024-01-03T12:25:35.292340Z",
     "shell.execute_reply": "2024-01-03T12:25:35.291812Z"
    },
    "papermill": {
     "duration": 0.020504,
     "end_time": "2024-01-03T12:25:35.293191",
     "exception": false,
     "start_time": "2024-01-03T12:25:35.272687",
     "status": "completed"
    },
    "tags": []
   },
   "outputs": [],
   "source": [
    "data = pd.read_pickle(INPUT_DIR / \"clustermatch_vs_spearman.pkl\").sort_values(\n",
    "    \"ccc\", ascending=False\n",
    ")"
   ]
  },
  {
   "cell_type": "code",
   "execution_count": 40,
   "id": "cdefceda-6e4b-4702-a73e-1ea215e41dbb",
   "metadata": {
    "execution": {
     "iopub.execute_input": "2024-01-03T12:25:35.323750Z",
     "iopub.status.busy": "2024-01-03T12:25:35.323409Z",
     "iopub.status.idle": "2024-01-03T12:25:35.326984Z",
     "shell.execute_reply": "2024-01-03T12:25:35.326586Z"
    },
    "papermill": {
     "duration": 0.019707,
     "end_time": "2024-01-03T12:25:35.327768",
     "exception": false,
     "start_time": "2024-01-03T12:25:35.308061",
     "status": "completed"
    },
    "tags": []
   },
   "outputs": [
    {
     "data": {
      "text/plain": [
       "(28, 11)"
      ]
     },
     "execution_count": 40,
     "metadata": {},
     "output_type": "execute_result"
    }
   ],
   "source": [
    "data.shape"
   ]
  },
  {
   "cell_type": "code",
   "execution_count": 41,
   "id": "defa6a6d-b8fe-4cb1-829b-4919034cfe31",
   "metadata": {
    "execution": {
     "iopub.execute_input": "2024-01-03T12:25:35.358412Z",
     "iopub.status.busy": "2024-01-03T12:25:35.358133Z",
     "iopub.status.idle": "2024-01-03T12:25:35.371335Z",
     "shell.execute_reply": "2024-01-03T12:25:35.370944Z"
    },
    "papermill": {
     "duration": 0.029406,
     "end_time": "2024-01-03T12:25:35.372117",
     "exception": false,
     "start_time": "2024-01-03T12:25:35.342711",
     "status": "completed"
    },
    "tags": []
   },
   "outputs": [
    {
     "data": {
      "text/html": [
       "<div>\n",
       "<style scoped>\n",
       "    .dataframe tbody tr th:only-of-type {\n",
       "        vertical-align: middle;\n",
       "    }\n",
       "\n",
       "    .dataframe tbody tr th {\n",
       "        vertical-align: top;\n",
       "    }\n",
       "\n",
       "    .dataframe thead th {\n",
       "        text-align: right;\n",
       "    }\n",
       "</style>\n",
       "<table border=\"1\" class=\"dataframe\">\n",
       "  <thead>\n",
       "    <tr style=\"text-align: right;\">\n",
       "      <th></th>\n",
       "      <th></th>\n",
       "      <th>ccc</th>\n",
       "      <th>pearson</th>\n",
       "      <th>spearman</th>\n",
       "      <th>clustermatch_rank</th>\n",
       "      <th>pearson_rank</th>\n",
       "      <th>spearman_rank</th>\n",
       "      <th>ccc_fdr</th>\n",
       "      <th>pearson_fdr</th>\n",
       "      <th>spearman_fdr</th>\n",
       "      <th>understudied_score</th>\n",
       "      <th>min_n_pubs</th>\n",
       "    </tr>\n",
       "  </thead>\n",
       "  <tbody>\n",
       "    <tr>\n",
       "      <th>KDM6A</th>\n",
       "      <th>UTY</th>\n",
       "      <td>0.294391</td>\n",
       "      <td>0.239870</td>\n",
       "      <td>0.100621</td>\n",
       "      <td>10436674.0</td>\n",
       "      <td>6265429.0</td>\n",
       "      <td>1987841.0</td>\n",
       "      <td>0.000001</td>\n",
       "      <td>6.547223e-11</td>\n",
       "      <td>6.483454e-03</td>\n",
       "      <td>-0.326795</td>\n",
       "      <td>21</td>\n",
       "    </tr>\n",
       "    <tr>\n",
       "      <th rowspan=\"2\" valign=\"top\">CYTIP</th>\n",
       "      <th>KIAA0040</th>\n",
       "      <td>0.205803</td>\n",
       "      <td>0.158792</td>\n",
       "      <td>0.110038</td>\n",
       "      <td>9212181.0</td>\n",
       "      <td>4717121.0</td>\n",
       "      <td>2164247.0</td>\n",
       "      <td>0.000001</td>\n",
       "      <td>3.044918e-05</td>\n",
       "      <td>2.858802e-03</td>\n",
       "      <td>0.330448</td>\n",
       "      <td>20</td>\n",
       "    </tr>\n",
       "    <tr>\n",
       "      <th>RASSF2</th>\n",
       "      <td>0.201962</td>\n",
       "      <td>0.156060</td>\n",
       "      <td>0.107882</td>\n",
       "      <td>9132185.0</td>\n",
       "      <td>4656609.0</td>\n",
       "      <td>2124338.0</td>\n",
       "      <td>0.000001</td>\n",
       "      <td>4.304138e-05</td>\n",
       "      <td>3.469780e-03</td>\n",
       "      <td>0.330448</td>\n",
       "      <td>20</td>\n",
       "    </tr>\n",
       "    <tr>\n",
       "      <th>RPS4X</th>\n",
       "      <th>PRKY</th>\n",
       "      <td>0.198590</td>\n",
       "      <td>0.361447</td>\n",
       "      <td>0.197205</td>\n",
       "      <td>9071073.0</td>\n",
       "      <td>7945595.0</td>\n",
       "      <td>3713308.0</td>\n",
       "      <td>0.000001</td>\n",
       "      <td>2.865687e-24</td>\n",
       "      <td>6.120758e-08</td>\n",
       "      <td>0.033703</td>\n",
       "      <td>86</td>\n",
       "    </tr>\n",
       "    <tr>\n",
       "      <th>KDM6A</th>\n",
       "      <th>DDX3Y</th>\n",
       "      <td>0.193557</td>\n",
       "      <td>0.237462</td>\n",
       "      <td>0.035350</td>\n",
       "      <td>8989374.0</td>\n",
       "      <td>6225427.0</td>\n",
       "      <td>716931.0</td>\n",
       "      <td>0.000001</td>\n",
       "      <td>1.045469e-10</td>\n",
       "      <td>3.467519e-01</td>\n",
       "      <td>-0.326795</td>\n",
       "      <td>40</td>\n",
       "    </tr>\n",
       "  </tbody>\n",
       "</table>\n",
       "</div>"
      ],
      "text/plain": [
       "                     ccc   pearson  spearman  clustermatch_rank  pearson_rank  \\\n",
       "KDM6A UTY       0.294391  0.239870  0.100621         10436674.0     6265429.0   \n",
       "CYTIP KIAA0040  0.205803  0.158792  0.110038          9212181.0     4717121.0   \n",
       "      RASSF2    0.201962  0.156060  0.107882          9132185.0     4656609.0   \n",
       "RPS4X PRKY      0.198590  0.361447  0.197205          9071073.0     7945595.0   \n",
       "KDM6A DDX3Y     0.193557  0.237462  0.035350          8989374.0     6225427.0   \n",
       "\n",
       "                spearman_rank   ccc_fdr   pearson_fdr  spearman_fdr  \\\n",
       "KDM6A UTY           1987841.0  0.000001  6.547223e-11  6.483454e-03   \n",
       "CYTIP KIAA0040      2164247.0  0.000001  3.044918e-05  2.858802e-03   \n",
       "      RASSF2        2124338.0  0.000001  4.304138e-05  3.469780e-03   \n",
       "RPS4X PRKY          3713308.0  0.000001  2.865687e-24  6.120758e-08   \n",
       "KDM6A DDX3Y          716931.0  0.000001  1.045469e-10  3.467519e-01   \n",
       "\n",
       "                understudied_score  min_n_pubs  \n",
       "KDM6A UTY                -0.326795          21  \n",
       "CYTIP KIAA0040            0.330448          20  \n",
       "      RASSF2              0.330448          20  \n",
       "RPS4X PRKY                0.033703          86  \n",
       "KDM6A DDX3Y              -0.326795          40  "
      ]
     },
     "execution_count": 41,
     "metadata": {},
     "output_type": "execute_result"
    }
   ],
   "source": [
    "data.head()"
   ]
  },
  {
   "cell_type": "code",
   "execution_count": 42,
   "id": "3468bdfd-137c-4b8d-898c-670c3cd152ff",
   "metadata": {
    "execution": {
     "iopub.execute_input": "2024-01-03T12:25:35.403058Z",
     "iopub.status.busy": "2024-01-03T12:25:35.402734Z",
     "iopub.status.idle": "2024-01-03T12:25:35.406111Z",
     "shell.execute_reply": "2024-01-03T12:25:35.405720Z"
    },
    "papermill": {
     "duration": 0.019645,
     "end_time": "2024-01-03T12:25:35.406903",
     "exception": false,
     "start_time": "2024-01-03T12:25:35.387258",
     "status": "completed"
    },
    "tags": []
   },
   "outputs": [],
   "source": [
    "# make sure gene pairs are statistically significant\n",
    "data = data[data[\"ccc_fdr\"] < 0.05]"
   ]
  },
  {
   "cell_type": "code",
   "execution_count": 43,
   "id": "7e6811f1-4416-4f34-9849-0c8038101d5b",
   "metadata": {
    "execution": {
     "iopub.execute_input": "2024-01-03T12:25:35.437515Z",
     "iopub.status.busy": "2024-01-03T12:25:35.437233Z",
     "iopub.status.idle": "2024-01-03T12:25:35.440557Z",
     "shell.execute_reply": "2024-01-03T12:25:35.440182Z"
    },
    "papermill": {
     "duration": 0.019533,
     "end_time": "2024-01-03T12:25:35.441371",
     "exception": false,
     "start_time": "2024-01-03T12:25:35.421838",
     "status": "completed"
    },
    "tags": []
   },
   "outputs": [
    {
     "data": {
      "text/plain": [
       "(28, 11)"
      ]
     },
     "execution_count": 43,
     "metadata": {},
     "output_type": "execute_result"
    }
   ],
   "source": [
    "data.shape"
   ]
  },
  {
   "cell_type": "code",
   "execution_count": 44,
   "id": "b779840d-75b3-4fe9-bd06-a5a414055dac",
   "metadata": {
    "execution": {
     "iopub.execute_input": "2024-01-03T12:25:35.472180Z",
     "iopub.status.busy": "2024-01-03T12:25:35.472036Z",
     "iopub.status.idle": "2024-01-03T12:25:35.477516Z",
     "shell.execute_reply": "2024-01-03T12:25:35.477121Z"
    },
    "papermill": {
     "duration": 0.021863,
     "end_time": "2024-01-03T12:25:35.478320",
     "exception": false,
     "start_time": "2024-01-03T12:25:35.456457",
     "status": "completed"
    },
    "tags": []
   },
   "outputs": [
    {
     "data": {
      "text/plain": [
       "28"
      ]
     },
     "metadata": {},
     "output_type": "display_data"
    }
   ],
   "source": [
    "gene_pairs = convert_gene_pairs(data)\n",
    "display(len(gene_pairs))"
   ]
  },
  {
   "cell_type": "code",
   "execution_count": 45,
   "id": "45b0abc4-53ef-4d68-bb3d-696b4ff66a08",
   "metadata": {
    "execution": {
     "iopub.execute_input": "2024-01-03T12:25:35.509026Z",
     "iopub.status.busy": "2024-01-03T12:25:35.508745Z",
     "iopub.status.idle": "2024-01-03T12:25:35.512537Z",
     "shell.execute_reply": "2024-01-03T12:25:35.512155Z"
    },
    "papermill": {
     "duration": 0.020047,
     "end_time": "2024-01-03T12:25:35.513299",
     "exception": false,
     "start_time": "2024-01-03T12:25:35.493252",
     "status": "completed"
    },
    "tags": []
   },
   "outputs": [
    {
     "data": {
      "text/plain": [
       "[('KDM6A', 'UTY'),\n",
       " ('CYTIP', 'KIAA0040'),\n",
       " ('CYTIP', 'RASSF2'),\n",
       " ('RPS4X', 'PRKY'),\n",
       " ('KDM6A', 'DDX3Y'),\n",
       " ('RIPK1', 'GTPBP1'),\n",
       " ('CNN2', 'GTPBP1'),\n",
       " ('CCSER2', 'CYB561D1'),\n",
       " ('TECPR2', 'GTPBP1'),\n",
       " ('IRGQ', 'CYB561D1')]"
      ]
     },
     "execution_count": 45,
     "metadata": {},
     "output_type": "execute_result"
    }
   ],
   "source": [
    "gene_pairs[:10]"
   ]
  },
  {
   "cell_type": "code",
   "execution_count": 46,
   "id": "9de61d6a-cd80-4c36-8eb9-b01fac5e6fe2",
   "metadata": {
    "execution": {
     "iopub.execute_input": "2024-01-03T12:25:35.544291Z",
     "iopub.status.busy": "2024-01-03T12:25:35.544011Z",
     "iopub.status.idle": "2024-01-03T12:26:08.499408Z",
     "shell.execute_reply": "2024-01-03T12:26:08.499071Z"
    },
    "papermill": {
     "duration": 32.97298,
     "end_time": "2024-01-03T12:26:08.501360",
     "exception": false,
     "start_time": "2024-01-03T12:25:35.528380",
     "status": "completed"
    },
    "tags": []
   },
   "outputs": [
    {
     "name": "stderr",
     "output_type": "stream",
     "text": [
      "CCSER2,WBP1L:  86%|██████████████████████████████████████████       | 24/28 [00:32<00:05,  1.37s/it]\n"
     ]
    }
   ],
   "source": [
    "process_tissue_networks(gene_pairs, output_dir)"
   ]
  },
  {
   "cell_type": "markdown",
   "id": "55333a50-9e90-4188-bcd6-463fdf6e376a",
   "metadata": {
    "papermill": {
     "duration": 0.031821,
     "end_time": "2024-01-03T12:26:08.565704",
     "exception": false,
     "start_time": "2024-01-03T12:26:08.533883",
     "status": "completed"
    },
    "tags": []
   },
   "source": [
    "## Pearson vs CCC"
   ]
  },
  {
   "cell_type": "code",
   "execution_count": 47,
   "id": "fd08d1e0-2df2-4b2d-9e3d-f72760bee458",
   "metadata": {
    "execution": {
     "iopub.execute_input": "2024-01-03T12:26:08.606695Z",
     "iopub.status.busy": "2024-01-03T12:26:08.606606Z",
     "iopub.status.idle": "2024-01-03T12:26:08.608760Z",
     "shell.execute_reply": "2024-01-03T12:26:08.608436Z"
    },
    "papermill": {
     "duration": 0.02009,
     "end_time": "2024-01-03T12:26:08.609502",
     "exception": false,
     "start_time": "2024-01-03T12:26:08.589412",
     "status": "completed"
    },
    "tags": []
   },
   "outputs": [],
   "source": [
    "output_dir = OUTPUT_DIR / \"pearson_vs_clustermatch\""
   ]
  },
  {
   "cell_type": "code",
   "execution_count": 48,
   "id": "6216664c-229f-41ef-9ed9-f0eb1a79ecd1",
   "metadata": {
    "execution": {
     "iopub.execute_input": "2024-01-03T12:26:08.643973Z",
     "iopub.status.busy": "2024-01-03T12:26:08.643728Z",
     "iopub.status.idle": "2024-01-03T12:26:08.648493Z",
     "shell.execute_reply": "2024-01-03T12:26:08.648053Z"
    },
    "papermill": {
     "duration": 0.023164,
     "end_time": "2024-01-03T12:26:08.649400",
     "exception": false,
     "start_time": "2024-01-03T12:26:08.626236",
     "status": "completed"
    },
    "tags": []
   },
   "outputs": [],
   "source": [
    "data = pd.read_pickle(INPUT_DIR / \"pearson_vs_clustermatch.pkl\").sort_values(\n",
    "    \"pearson\", ascending=False\n",
    ")"
   ]
  },
  {
   "cell_type": "code",
   "execution_count": 49,
   "id": "a2a38d8e-cffa-4a18-85ff-916d6f0b48a1",
   "metadata": {
    "execution": {
     "iopub.execute_input": "2024-01-03T12:26:08.683685Z",
     "iopub.status.busy": "2024-01-03T12:26:08.683509Z",
     "iopub.status.idle": "2024-01-03T12:26:08.687498Z",
     "shell.execute_reply": "2024-01-03T12:26:08.686973Z"
    },
    "papermill": {
     "duration": 0.02222,
     "end_time": "2024-01-03T12:26:08.688375",
     "exception": false,
     "start_time": "2024-01-03T12:26:08.666155",
     "status": "completed"
    },
    "tags": []
   },
   "outputs": [
    {
     "data": {
      "text/plain": [
       "(1075, 11)"
      ]
     },
     "execution_count": 49,
     "metadata": {},
     "output_type": "execute_result"
    }
   ],
   "source": [
    "data.shape"
   ]
  },
  {
   "cell_type": "code",
   "execution_count": 50,
   "id": "685d0b93-c305-41eb-a978-5e6bf1e29da2",
   "metadata": {
    "execution": {
     "iopub.execute_input": "2024-01-03T12:26:08.722661Z",
     "iopub.status.busy": "2024-01-03T12:26:08.722368Z",
     "iopub.status.idle": "2024-01-03T12:26:08.736462Z",
     "shell.execute_reply": "2024-01-03T12:26:08.735950Z"
    },
    "papermill": {
     "duration": 0.032092,
     "end_time": "2024-01-03T12:26:08.737336",
     "exception": false,
     "start_time": "2024-01-03T12:26:08.705244",
     "status": "completed"
    },
    "tags": []
   },
   "outputs": [
    {
     "data": {
      "text/html": [
       "<div>\n",
       "<style scoped>\n",
       "    .dataframe tbody tr th:only-of-type {\n",
       "        vertical-align: middle;\n",
       "    }\n",
       "\n",
       "    .dataframe tbody tr th {\n",
       "        vertical-align: top;\n",
       "    }\n",
       "\n",
       "    .dataframe thead th {\n",
       "        text-align: right;\n",
       "    }\n",
       "</style>\n",
       "<table border=\"1\" class=\"dataframe\">\n",
       "  <thead>\n",
       "    <tr style=\"text-align: right;\">\n",
       "      <th></th>\n",
       "      <th></th>\n",
       "      <th>ccc</th>\n",
       "      <th>pearson</th>\n",
       "      <th>spearman</th>\n",
       "      <th>clustermatch_rank</th>\n",
       "      <th>pearson_rank</th>\n",
       "      <th>spearman_rank</th>\n",
       "      <th>ccc_fdr</th>\n",
       "      <th>pearson_fdr</th>\n",
       "      <th>spearman_fdr</th>\n",
       "      <th>understudied_score</th>\n",
       "      <th>min_n_pubs</th>\n",
       "    </tr>\n",
       "  </thead>\n",
       "  <tbody>\n",
       "    <tr>\n",
       "      <th>TNNI2</th>\n",
       "      <th>MYOZ1</th>\n",
       "      <td>0.034593</td>\n",
       "      <td>0.967834</td>\n",
       "      <td>0.284206</td>\n",
       "      <td>3714425.5</td>\n",
       "      <td>12497377.0</td>\n",
       "      <td>5069769.0</td>\n",
       "      <td>0.000001</td>\n",
       "      <td>0.0</td>\n",
       "      <td>2.583831e-15</td>\n",
       "      <td>-0.107437</td>\n",
       "      <td>21.0</td>\n",
       "    </tr>\n",
       "    <tr>\n",
       "      <th>MYBPC2</th>\n",
       "      <th>TNNI2</th>\n",
       "      <td>0.034593</td>\n",
       "      <td>0.965012</td>\n",
       "      <td>0.314172</td>\n",
       "      <td>3714425.5</td>\n",
       "      <td>12497343.0</td>\n",
       "      <td>5504793.0</td>\n",
       "      <td>0.000001</td>\n",
       "      <td>0.0</td>\n",
       "      <td>1.486414e-18</td>\n",
       "      <td>0.185269</td>\n",
       "      <td>16.0</td>\n",
       "    </tr>\n",
       "    <tr>\n",
       "      <th>MYOZ1</th>\n",
       "      <th>PYGM</th>\n",
       "      <td>0.032751</td>\n",
       "      <td>0.964681</td>\n",
       "      <td>0.248365</td>\n",
       "      <td>3556384.0</td>\n",
       "      <td>12497334.0</td>\n",
       "      <td>4532919.0</td>\n",
       "      <td>0.000005</td>\n",
       "      <td>0.0</td>\n",
       "      <td>6.505173e-12</td>\n",
       "      <td>-0.107437</td>\n",
       "      <td>21.0</td>\n",
       "    </tr>\n",
       "    <tr>\n",
       "      <th>MYBPC2</th>\n",
       "      <th>PYGM</th>\n",
       "      <td>0.032234</td>\n",
       "      <td>0.957893</td>\n",
       "      <td>0.234647</td>\n",
       "      <td>3499276.0</td>\n",
       "      <td>12497205.0</td>\n",
       "      <td>4320035.0</td>\n",
       "      <td>0.000003</td>\n",
       "      <td>0.0</td>\n",
       "      <td>9.601925e-11</td>\n",
       "      <td>0.185269</td>\n",
       "      <td>16.0</td>\n",
       "    </tr>\n",
       "    <tr>\n",
       "      <th>MYLPF</th>\n",
       "      <th>PYGM</th>\n",
       "      <td>0.027118</td>\n",
       "      <td>0.955315</td>\n",
       "      <td>0.248569</td>\n",
       "      <td>2995235.0</td>\n",
       "      <td>12497111.0</td>\n",
       "      <td>4536023.0</td>\n",
       "      <td>0.000004</td>\n",
       "      <td>0.0</td>\n",
       "      <td>6.243948e-12</td>\n",
       "      <td>0.544017</td>\n",
       "      <td>12.0</td>\n",
       "    </tr>\n",
       "  </tbody>\n",
       "</table>\n",
       "</div>"
      ],
      "text/plain": [
       "                   ccc   pearson  spearman  clustermatch_rank  pearson_rank  \\\n",
       "TNNI2  MYOZ1  0.034593  0.967834  0.284206          3714425.5    12497377.0   \n",
       "MYBPC2 TNNI2  0.034593  0.965012  0.314172          3714425.5    12497343.0   \n",
       "MYOZ1  PYGM   0.032751  0.964681  0.248365          3556384.0    12497334.0   \n",
       "MYBPC2 PYGM   0.032234  0.957893  0.234647          3499276.0    12497205.0   \n",
       "MYLPF  PYGM   0.027118  0.955315  0.248569          2995235.0    12497111.0   \n",
       "\n",
       "              spearman_rank   ccc_fdr  pearson_fdr  spearman_fdr  \\\n",
       "TNNI2  MYOZ1      5069769.0  0.000001          0.0  2.583831e-15   \n",
       "MYBPC2 TNNI2      5504793.0  0.000001          0.0  1.486414e-18   \n",
       "MYOZ1  PYGM       4532919.0  0.000005          0.0  6.505173e-12   \n",
       "MYBPC2 PYGM       4320035.0  0.000003          0.0  9.601925e-11   \n",
       "MYLPF  PYGM       4536023.0  0.000004          0.0  6.243948e-12   \n",
       "\n",
       "              understudied_score  min_n_pubs  \n",
       "TNNI2  MYOZ1           -0.107437        21.0  \n",
       "MYBPC2 TNNI2            0.185269        16.0  \n",
       "MYOZ1  PYGM            -0.107437        21.0  \n",
       "MYBPC2 PYGM             0.185269        16.0  \n",
       "MYLPF  PYGM             0.544017        12.0  "
      ]
     },
     "execution_count": 50,
     "metadata": {},
     "output_type": "execute_result"
    }
   ],
   "source": [
    "data.head()"
   ]
  },
  {
   "cell_type": "code",
   "execution_count": 51,
   "id": "03ae4a9e-4f14-4fdd-93db-0d3b5a0800d2",
   "metadata": {
    "execution": {
     "iopub.execute_input": "2024-01-03T12:26:08.772067Z",
     "iopub.status.busy": "2024-01-03T12:26:08.771676Z",
     "iopub.status.idle": "2024-01-03T12:26:08.775331Z",
     "shell.execute_reply": "2024-01-03T12:26:08.774818Z"
    },
    "papermill": {
     "duration": 0.022016,
     "end_time": "2024-01-03T12:26:08.776197",
     "exception": false,
     "start_time": "2024-01-03T12:26:08.754181",
     "status": "completed"
    },
    "tags": []
   },
   "outputs": [],
   "source": [
    "# make sure gene pairs are statistically significant\n",
    "data = data[data[\"pearson_fdr\"] < 0.05]"
   ]
  },
  {
   "cell_type": "code",
   "execution_count": 52,
   "id": "5a5cbe51-040d-497c-836e-553f471697f2",
   "metadata": {
    "execution": {
     "iopub.execute_input": "2024-01-03T12:26:08.810975Z",
     "iopub.status.busy": "2024-01-03T12:26:08.810809Z",
     "iopub.status.idle": "2024-01-03T12:26:08.814538Z",
     "shell.execute_reply": "2024-01-03T12:26:08.814050Z"
    },
    "papermill": {
     "duration": 0.022161,
     "end_time": "2024-01-03T12:26:08.815397",
     "exception": false,
     "start_time": "2024-01-03T12:26:08.793236",
     "status": "completed"
    },
    "tags": []
   },
   "outputs": [
    {
     "data": {
      "text/plain": [
       "(876, 11)"
      ]
     },
     "execution_count": 52,
     "metadata": {},
     "output_type": "execute_result"
    }
   ],
   "source": [
    "data.shape"
   ]
  },
  {
   "cell_type": "code",
   "execution_count": 53,
   "id": "2cb04bcd-20a5-406c-bb17-f2039d99abf2",
   "metadata": {
    "execution": {
     "iopub.execute_input": "2024-01-03T12:26:08.850443Z",
     "iopub.status.busy": "2024-01-03T12:26:08.850169Z",
     "iopub.status.idle": "2024-01-03T12:26:08.856398Z",
     "shell.execute_reply": "2024-01-03T12:26:08.855888Z"
    },
    "papermill": {
     "duration": 0.02465,
     "end_time": "2024-01-03T12:26:08.857250",
     "exception": false,
     "start_time": "2024-01-03T12:26:08.832600",
     "status": "completed"
    },
    "tags": []
   },
   "outputs": [
    {
     "data": {
      "text/plain": [
       "876"
      ]
     },
     "metadata": {},
     "output_type": "display_data"
    }
   ],
   "source": [
    "gene_pairs = convert_gene_pairs(data)\n",
    "display(len(gene_pairs))"
   ]
  },
  {
   "cell_type": "code",
   "execution_count": 54,
   "id": "8e67f18c-d89d-466e-8172-77a6b7a8017a",
   "metadata": {
    "execution": {
     "iopub.execute_input": "2024-01-03T12:26:08.892108Z",
     "iopub.status.busy": "2024-01-03T12:26:08.891734Z",
     "iopub.status.idle": "2024-01-03T12:26:08.895971Z",
     "shell.execute_reply": "2024-01-03T12:26:08.895468Z"
    },
    "papermill": {
     "duration": 0.022618,
     "end_time": "2024-01-03T12:26:08.896846",
     "exception": false,
     "start_time": "2024-01-03T12:26:08.874228",
     "status": "completed"
    },
    "tags": []
   },
   "outputs": [
    {
     "data": {
      "text/plain": [
       "[('TNNI2', 'MYOZ1'),\n",
       " ('MYBPC2', 'TNNI2'),\n",
       " ('MYOZ1', 'PYGM'),\n",
       " ('MYBPC2', 'PYGM'),\n",
       " ('MYLPF', 'PYGM'),\n",
       " ('TNNI2', 'CKM'),\n",
       " ('TNNI2', 'ACTA1'),\n",
       " ('COX7A1', 'TNNI2'),\n",
       " ('MYH2', 'PYGM'),\n",
       " ('PYGM', 'MYL2')]"
      ]
     },
     "execution_count": 54,
     "metadata": {},
     "output_type": "execute_result"
    }
   ],
   "source": [
    "gene_pairs[:10]"
   ]
  },
  {
   "cell_type": "code",
   "execution_count": 55,
   "id": "aaa5ad6c-ad7c-49f6-8dd8-2e0da5aff01a",
   "metadata": {
    "execution": {
     "iopub.execute_input": "2024-01-03T12:26:08.931933Z",
     "iopub.status.busy": "2024-01-03T12:26:08.931555Z",
     "iopub.status.idle": "2024-01-03T12:28:25.469380Z",
     "shell.execute_reply": "2024-01-03T12:28:25.469074Z"
    },
    "papermill": {
     "duration": 136.557616,
     "end_time": "2024-01-03T12:28:25.471409",
     "exception": false,
     "start_time": "2024-01-03T12:26:08.913793",
     "status": "completed"
    },
    "tags": []
   },
   "outputs": [
    {
     "name": "stderr",
     "output_type": "stream",
     "text": [
      "TMEM38A,ENO3: 100%|███████████████████████████████████████████████| 100/100 [02:16<00:00,  1.37s/it]\n"
     ]
    }
   ],
   "source": [
    "process_tissue_networks(gene_pairs, output_dir)"
   ]
  },
  {
   "cell_type": "markdown",
   "id": "49047461-2c50-4c64-9aaf-9d72a22fc98e",
   "metadata": {
    "papermill": {
     "duration": 0.040553,
     "end_time": "2024-01-03T12:28:25.554629",
     "exception": false,
     "start_time": "2024-01-03T12:28:25.514076",
     "status": "completed"
    },
    "tags": []
   },
   "source": [
    "## Pearson vs CCC/Spearman"
   ]
  },
  {
   "cell_type": "code",
   "execution_count": 56,
   "id": "212b2a41-bfaf-4b6f-91f4-8648178f3b87",
   "metadata": {
    "execution": {
     "iopub.execute_input": "2024-01-03T12:28:25.599005Z",
     "iopub.status.busy": "2024-01-03T12:28:25.598658Z",
     "iopub.status.idle": "2024-01-03T12:28:25.601383Z",
     "shell.execute_reply": "2024-01-03T12:28:25.600857Z"
    },
    "papermill": {
     "duration": 0.025938,
     "end_time": "2024-01-03T12:28:25.602214",
     "exception": false,
     "start_time": "2024-01-03T12:28:25.576276",
     "status": "completed"
    },
    "tags": []
   },
   "outputs": [],
   "source": [
    "output_dir = OUTPUT_DIR / \"pearson_vs_clustermatch_spearman\""
   ]
  },
  {
   "cell_type": "code",
   "execution_count": 57,
   "id": "dd74ba69-63e0-4afe-b121-a57db79f0785",
   "metadata": {
    "execution": {
     "iopub.execute_input": "2024-01-03T12:28:25.649916Z",
     "iopub.status.busy": "2024-01-03T12:28:25.649611Z",
     "iopub.status.idle": "2024-01-03T12:28:25.654333Z",
     "shell.execute_reply": "2024-01-03T12:28:25.653800Z"
    },
    "papermill": {
     "duration": 0.030455,
     "end_time": "2024-01-03T12:28:25.655171",
     "exception": false,
     "start_time": "2024-01-03T12:28:25.624716",
     "status": "completed"
    },
    "tags": []
   },
   "outputs": [],
   "source": [
    "data = pd.read_pickle(INPUT_DIR / \"pearson_vs_clustermatch_spearman.pkl\").sort_values(\n",
    "    \"pearson\", ascending=False\n",
    ")"
   ]
  },
  {
   "cell_type": "code",
   "execution_count": 58,
   "id": "26d72249-835d-4608-a915-4d19df8abbb6",
   "metadata": {
    "execution": {
     "iopub.execute_input": "2024-01-03T12:28:25.700100Z",
     "iopub.status.busy": "2024-01-03T12:28:25.699694Z",
     "iopub.status.idle": "2024-01-03T12:28:25.703577Z",
     "shell.execute_reply": "2024-01-03T12:28:25.703072Z"
    },
    "papermill": {
     "duration": 0.027259,
     "end_time": "2024-01-03T12:28:25.704408",
     "exception": false,
     "start_time": "2024-01-03T12:28:25.677149",
     "status": "completed"
    },
    "tags": []
   },
   "outputs": [
    {
     "data": {
      "text/plain": [
       "(531, 11)"
      ]
     },
     "execution_count": 58,
     "metadata": {},
     "output_type": "execute_result"
    }
   ],
   "source": [
    "data.shape"
   ]
  },
  {
   "cell_type": "code",
   "execution_count": 59,
   "id": "63c2e1cc-bc58-4915-802a-b931f635fafd",
   "metadata": {
    "execution": {
     "iopub.execute_input": "2024-01-03T12:28:25.749243Z",
     "iopub.status.busy": "2024-01-03T12:28:25.748841Z",
     "iopub.status.idle": "2024-01-03T12:28:25.762858Z",
     "shell.execute_reply": "2024-01-03T12:28:25.762349Z"
    },
    "papermill": {
     "duration": 0.03734,
     "end_time": "2024-01-03T12:28:25.763671",
     "exception": false,
     "start_time": "2024-01-03T12:28:25.726331",
     "status": "completed"
    },
    "tags": []
   },
   "outputs": [
    {
     "data": {
      "text/html": [
       "<div>\n",
       "<style scoped>\n",
       "    .dataframe tbody tr th:only-of-type {\n",
       "        vertical-align: middle;\n",
       "    }\n",
       "\n",
       "    .dataframe tbody tr th {\n",
       "        vertical-align: top;\n",
       "    }\n",
       "\n",
       "    .dataframe thead th {\n",
       "        text-align: right;\n",
       "    }\n",
       "</style>\n",
       "<table border=\"1\" class=\"dataframe\">\n",
       "  <thead>\n",
       "    <tr style=\"text-align: right;\">\n",
       "      <th></th>\n",
       "      <th></th>\n",
       "      <th>ccc</th>\n",
       "      <th>pearson</th>\n",
       "      <th>spearman</th>\n",
       "      <th>clustermatch_rank</th>\n",
       "      <th>pearson_rank</th>\n",
       "      <th>spearman_rank</th>\n",
       "      <th>ccc_fdr</th>\n",
       "      <th>pearson_fdr</th>\n",
       "      <th>spearman_fdr</th>\n",
       "      <th>understudied_score</th>\n",
       "      <th>min_n_pubs</th>\n",
       "    </tr>\n",
       "  </thead>\n",
       "  <tbody>\n",
       "    <tr>\n",
       "      <th>CCL20</th>\n",
       "      <th>SCGB3A1</th>\n",
       "      <td>0.031833</td>\n",
       "      <td>0.988292</td>\n",
       "      <td>0.187233</td>\n",
       "      <td>3471638.5</td>\n",
       "      <td>12497493.0</td>\n",
       "      <td>3544359.0</td>\n",
       "      <td>0.000004</td>\n",
       "      <td>0.0</td>\n",
       "      <td>2.829948e-07</td>\n",
       "      <td>-0.268826</td>\n",
       "      <td>41.0</td>\n",
       "    </tr>\n",
       "    <tr>\n",
       "      <th>CXCL1</th>\n",
       "      <th>SCGB3A1</th>\n",
       "      <td>0.007038</td>\n",
       "      <td>0.975534</td>\n",
       "      <td>0.078267</td>\n",
       "      <td>457775.5</td>\n",
       "      <td>12497441.0</td>\n",
       "      <td>1561424.0</td>\n",
       "      <td>0.057541</td>\n",
       "      <td>0.0</td>\n",
       "      <td>3.490012e-02</td>\n",
       "      <td>-0.268826</td>\n",
       "      <td>41.0</td>\n",
       "    </tr>\n",
       "    <tr>\n",
       "      <th>TNNI2</th>\n",
       "      <th>TPM2</th>\n",
       "      <td>0.026588</td>\n",
       "      <td>0.948215</td>\n",
       "      <td>0.193457</td>\n",
       "      <td>2930710.0</td>\n",
       "      <td>12496755.0</td>\n",
       "      <td>3650290.0</td>\n",
       "      <td>0.000008</td>\n",
       "      <td>0.0</td>\n",
       "      <td>1.098464e-07</td>\n",
       "      <td>0.134047</td>\n",
       "      <td>38.0</td>\n",
       "    </tr>\n",
       "    <tr>\n",
       "      <th>TPM2</th>\n",
       "      <th>PYGM</th>\n",
       "      <td>0.034912</td>\n",
       "      <td>0.944430</td>\n",
       "      <td>0.029852</td>\n",
       "      <td>3745874.0</td>\n",
       "      <td>12496416.0</td>\n",
       "      <td>605603.0</td>\n",
       "      <td>0.000001</td>\n",
       "      <td>0.0</td>\n",
       "      <td>4.276798e-01</td>\n",
       "      <td>0.134047</td>\n",
       "      <td>69.0</td>\n",
       "    </tr>\n",
       "    <tr>\n",
       "      <th>KRT19</th>\n",
       "      <th>CXCL1</th>\n",
       "      <td>0.008663</td>\n",
       "      <td>0.939751</td>\n",
       "      <td>0.097291</td>\n",
       "      <td>664617.0</td>\n",
       "      <td>12495782.0</td>\n",
       "      <td>1924833.0</td>\n",
       "      <td>0.019337</td>\n",
       "      <td>0.0</td>\n",
       "      <td>8.512263e-03</td>\n",
       "      <td>-0.142761</td>\n",
       "      <td>187.0</td>\n",
       "    </tr>\n",
       "  </tbody>\n",
       "</table>\n",
       "</div>"
      ],
      "text/plain": [
       "                    ccc   pearson  spearman  clustermatch_rank  pearson_rank  \\\n",
       "CCL20 SCGB3A1  0.031833  0.988292  0.187233          3471638.5    12497493.0   \n",
       "CXCL1 SCGB3A1  0.007038  0.975534  0.078267           457775.5    12497441.0   \n",
       "TNNI2 TPM2     0.026588  0.948215  0.193457          2930710.0    12496755.0   \n",
       "TPM2  PYGM     0.034912  0.944430  0.029852          3745874.0    12496416.0   \n",
       "KRT19 CXCL1    0.008663  0.939751  0.097291           664617.0    12495782.0   \n",
       "\n",
       "               spearman_rank   ccc_fdr  pearson_fdr  spearman_fdr  \\\n",
       "CCL20 SCGB3A1      3544359.0  0.000004          0.0  2.829948e-07   \n",
       "CXCL1 SCGB3A1      1561424.0  0.057541          0.0  3.490012e-02   \n",
       "TNNI2 TPM2         3650290.0  0.000008          0.0  1.098464e-07   \n",
       "TPM2  PYGM          605603.0  0.000001          0.0  4.276798e-01   \n",
       "KRT19 CXCL1        1924833.0  0.019337          0.0  8.512263e-03   \n",
       "\n",
       "               understudied_score  min_n_pubs  \n",
       "CCL20 SCGB3A1           -0.268826        41.0  \n",
       "CXCL1 SCGB3A1           -0.268826        41.0  \n",
       "TNNI2 TPM2               0.134047        38.0  \n",
       "TPM2  PYGM               0.134047        69.0  \n",
       "KRT19 CXCL1             -0.142761       187.0  "
      ]
     },
     "execution_count": 59,
     "metadata": {},
     "output_type": "execute_result"
    }
   ],
   "source": [
    "data.head()"
   ]
  },
  {
   "cell_type": "code",
   "execution_count": 60,
   "id": "8496e80e-475e-4e57-b0b4-b5ce8b0f7fe8",
   "metadata": {
    "execution": {
     "iopub.execute_input": "2024-01-03T12:28:25.826196Z",
     "iopub.status.busy": "2024-01-03T12:28:25.825841Z",
     "iopub.status.idle": "2024-01-03T12:28:25.829719Z",
     "shell.execute_reply": "2024-01-03T12:28:25.829216Z"
    },
    "papermill": {
     "duration": 0.027278,
     "end_time": "2024-01-03T12:28:25.830539",
     "exception": false,
     "start_time": "2024-01-03T12:28:25.803261",
     "status": "completed"
    },
    "tags": []
   },
   "outputs": [],
   "source": [
    "# make sure gene pairs are statistically significant\n",
    "data = data[data[\"pearson_fdr\"] < 0.05]"
   ]
  },
  {
   "cell_type": "code",
   "execution_count": 61,
   "id": "7c136a97-260a-453a-88e3-be9437bbc9ad",
   "metadata": {
    "execution": {
     "iopub.execute_input": "2024-01-03T12:28:25.875147Z",
     "iopub.status.busy": "2024-01-03T12:28:25.874758Z",
     "iopub.status.idle": "2024-01-03T12:28:25.878528Z",
     "shell.execute_reply": "2024-01-03T12:28:25.878024Z"
    },
    "papermill": {
     "duration": 0.027008,
     "end_time": "2024-01-03T12:28:25.879347",
     "exception": false,
     "start_time": "2024-01-03T12:28:25.852339",
     "status": "completed"
    },
    "tags": []
   },
   "outputs": [
    {
     "data": {
      "text/plain": [
       "(531, 11)"
      ]
     },
     "execution_count": 61,
     "metadata": {},
     "output_type": "execute_result"
    }
   ],
   "source": [
    "data.shape"
   ]
  },
  {
   "cell_type": "code",
   "execution_count": 62,
   "id": "357fa267-ad85-4156-8fc5-fa0921aac7e6",
   "metadata": {
    "execution": {
     "iopub.execute_input": "2024-01-03T12:28:25.923951Z",
     "iopub.status.busy": "2024-01-03T12:28:25.923654Z",
     "iopub.status.idle": "2024-01-03T12:28:25.929781Z",
     "shell.execute_reply": "2024-01-03T12:28:25.929284Z"
    },
    "papermill": {
     "duration": 0.029219,
     "end_time": "2024-01-03T12:28:25.930605",
     "exception": false,
     "start_time": "2024-01-03T12:28:25.901386",
     "status": "completed"
    },
    "tags": []
   },
   "outputs": [
    {
     "data": {
      "text/plain": [
       "531"
      ]
     },
     "metadata": {},
     "output_type": "display_data"
    }
   ],
   "source": [
    "gene_pairs = convert_gene_pairs(data)\n",
    "display(len(gene_pairs))"
   ]
  },
  {
   "cell_type": "code",
   "execution_count": 63,
   "id": "24e5b270-6c56-4676-882f-d058aed67fcd",
   "metadata": {
    "execution": {
     "iopub.execute_input": "2024-01-03T12:28:25.975411Z",
     "iopub.status.busy": "2024-01-03T12:28:25.974988Z",
     "iopub.status.idle": "2024-01-03T12:28:25.979242Z",
     "shell.execute_reply": "2024-01-03T12:28:25.978741Z"
    },
    "papermill": {
     "duration": 0.027555,
     "end_time": "2024-01-03T12:28:25.980061",
     "exception": false,
     "start_time": "2024-01-03T12:28:25.952506",
     "status": "completed"
    },
    "tags": []
   },
   "outputs": [
    {
     "data": {
      "text/plain": [
       "[('CCL20', 'SCGB3A1'),\n",
       " ('CXCL1', 'SCGB3A1'),\n",
       " ('TNNI2', 'TPM2'),\n",
       " ('TPM2', 'PYGM'),\n",
       " ('KRT19', 'CXCL1'),\n",
       " ('ENO3', 'PYGM'),\n",
       " ('TACSTD2', 'SCGB3A1'),\n",
       " ('CCL20', 'KRT19'),\n",
       " ('S100A16', 'CXCL1'),\n",
       " ('CCL20', 'TPPP3')]"
      ]
     },
     "execution_count": 63,
     "metadata": {},
     "output_type": "execute_result"
    }
   ],
   "source": [
    "gene_pairs[:10]"
   ]
  },
  {
   "cell_type": "code",
   "execution_count": 64,
   "id": "e52a1971-9c35-4ced-bc66-98fbdc4a25e6",
   "metadata": {
    "execution": {
     "iopub.execute_input": "2024-01-03T12:28:26.025454Z",
     "iopub.status.busy": "2024-01-03T12:28:26.025154Z",
     "iopub.status.idle": "2024-01-03T12:30:39.986607Z",
     "shell.execute_reply": "2024-01-03T12:30:39.986281Z"
    },
    "papermill": {
     "duration": 133.986446,
     "end_time": "2024-01-03T12:30:39.988465",
     "exception": false,
     "start_time": "2024-01-03T12:28:26.002019",
     "status": "completed"
    },
    "tags": []
   },
   "outputs": [
    {
     "name": "stderr",
     "output_type": "stream",
     "text": [
      "CAPS,ID1: 100%|███████████████████████████████████████████████████| 100/100 [02:13<00:00,  1.34s/it]\n"
     ]
    }
   ],
   "source": [
    "process_tissue_networks(gene_pairs, output_dir)"
   ]
  },
  {
   "cell_type": "code",
   "execution_count": null,
   "id": "e14b2d97-374a-4622-a774-551ab71f5292",
   "metadata": {
    "papermill": {
     "duration": 0.039407,
     "end_time": "2024-01-03T12:30:40.082041",
     "exception": false,
     "start_time": "2024-01-03T12:30:40.042634",
     "status": "completed"
    },
    "tags": []
   },
   "outputs": [],
   "source": []
  }
 ],
 "metadata": {
  "jupytext": {
   "cell_metadata_filter": "all,-execution,-papermill,-trusted",
   "notebook_metadata_filter": "-jupytext.text_representation.jupytext_version"
  },
  "kernelspec": {
   "display_name": "Python 3 (ipykernel)",
   "language": "python",
   "name": "python3"
  },
  "language_info": {
   "codemirror_mode": {
    "name": "ipython",
    "version": 3
   },
   "file_extension": ".py",
   "mimetype": "text/x-python",
   "name": "python",
   "nbconvert_exporter": "python",
   "pygments_lexer": "ipython3",
   "version": "3.9.12"
  },
  "papermill": {
   "default_parameters": {},
   "duration": 465.587264,
   "end_time": "2024-01-03T12:30:40.326028",
   "environment_variables": {},
   "exception": null,
   "input_path": "nbs/99_manuscript/giant/03_05-giant-predict_tissue.ipynb",
   "output_path": "nbs/99_manuscript/giant/03_05-giant-predict_tissue.run.ipynb",
   "parameters": {},
   "start_time": "2024-01-03T12:22:54.738764",
   "version": "2.3.3"
  },
  "toc-autonumbering": true
 },
 "nbformat": 4,
 "nbformat_minor": 5
}
