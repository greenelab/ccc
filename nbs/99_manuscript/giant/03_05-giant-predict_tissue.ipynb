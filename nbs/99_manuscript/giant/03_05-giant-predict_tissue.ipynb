{
 "cells": [
  {
   "cell_type": "markdown",
   "id": "87e0ce1b-7ce6-4499-9342-5ded05307598",
   "metadata": {
    "papermill": {
     "duration": 0.105156,
     "end_time": "2021-12-21T20:13:36.669733",
     "exception": false,
     "start_time": "2021-12-21T20:13:36.564577",
     "status": "completed"
    },
    "tags": []
   },
   "source": [
    "# Description"
   ]
  },
  {
   "cell_type": "markdown",
   "id": "4bfc7115-350a-441b-9a19-7626a948a694",
   "metadata": {
    "papermill": {
     "duration": 0.077358,
     "end_time": "2021-12-21T20:13:36.824140",
     "exception": false,
     "start_time": "2021-12-21T20:13:36.746782",
     "status": "completed"
    },
    "tags": []
   },
   "source": [
    "Read the top gene pairs prioritized by each correlation coefficient and predict a tissue-specific network using the web services provided by GIANT/HumanBase (https://hb.flatironinstitute.org/). Then it saves the network in files for later processing."
   ]
  },
  {
   "cell_type": "markdown",
   "id": "e020c781-238b-43c2-8cad-2722b8a240e2",
   "metadata": {
    "papermill": {
     "duration": 0.078359,
     "end_time": "2021-12-21T20:13:36.980950",
     "exception": false,
     "start_time": "2021-12-21T20:13:36.902591",
     "status": "completed"
    },
    "tags": []
   },
   "source": [
    "# Modules"
   ]
  },
  {
   "cell_type": "code",
   "execution_count": 1,
   "id": "a819bfbc-5009-4c68-ba8d-37d0979d368f",
   "metadata": {
    "papermill": {
     "duration": 1.400218,
     "end_time": "2021-12-21T20:13:38.460171",
     "exception": false,
     "start_time": "2021-12-21T20:13:37.059953",
     "status": "completed"
    },
    "tags": []
   },
   "outputs": [],
   "source": [
    "import pandas as pd\n",
    "from tqdm import tqdm\n",
    "\n",
    "from clustermatch import conf\n",
    "from clustermatch.giant import get_network"
   ]
  },
  {
   "cell_type": "markdown",
   "id": "b4834387-58ff-468c-b326-85c408bc5feb",
   "metadata": {
    "papermill": {
     "duration": 0.079144,
     "end_time": "2021-12-21T20:13:38.626394",
     "exception": false,
     "start_time": "2021-12-21T20:13:38.547250",
     "status": "completed"
    },
    "tags": []
   },
   "source": [
    "# Settings"
   ]
  },
  {
   "cell_type": "code",
   "execution_count": 2,
   "id": "765e820a-4518-4bbc-a00f-14c9cea03821",
   "metadata": {
    "papermill": {
     "duration": 0.083094,
     "end_time": "2021-12-21T20:13:38.788297",
     "exception": false,
     "start_time": "2021-12-21T20:13:38.705203",
     "status": "completed"
    },
    "tags": []
   },
   "outputs": [],
   "source": [
    "DATASET_CONFIG = conf.GTEX"
   ]
  },
  {
   "cell_type": "code",
   "execution_count": 3,
   "id": "c598102c-b0e9-417b-bfa5-fc55d508fa51",
   "metadata": {
    "papermill": {
     "duration": 0.083667,
     "end_time": "2021-12-21T20:13:38.949957",
     "exception": false,
     "start_time": "2021-12-21T20:13:38.866290",
     "status": "completed"
    },
    "tags": []
   },
   "outputs": [],
   "source": [
    "N_TOP_GENE_PAIRS = 100"
   ]
  },
  {
   "cell_type": "markdown",
   "id": "a1159982-5dd1-4494-97d4-0674eeead1c3",
   "metadata": {
    "papermill": {
     "duration": 0.077617,
     "end_time": "2021-12-21T20:13:39.105285",
     "exception": false,
     "start_time": "2021-12-21T20:13:39.027668",
     "status": "completed"
    },
    "tags": []
   },
   "source": [
    "# Paths"
   ]
  },
  {
   "cell_type": "code",
   "execution_count": 4,
   "id": "3e967e81-0d1b-4b12-968e-cd02b466b572",
   "metadata": {
    "papermill": {
     "duration": 0.088947,
     "end_time": "2021-12-21T20:13:39.799072",
     "exception": false,
     "start_time": "2021-12-21T20:13:39.710125",
     "status": "completed"
    },
    "tags": []
   },
   "outputs": [
    {
     "data": {
      "text/plain": [
       "PosixPath('/opt/data/results/gtex_v8/gene_pair_intersections')"
      ]
     },
     "metadata": {},
     "output_type": "display_data"
    }
   ],
   "source": [
    "INPUT_DIR = DATASET_CONFIG[\"GENE_PAIR_INTERSECTIONS\"]\n",
    "display(INPUT_DIR)\n",
    "\n",
    "assert INPUT_DIR.exists()"
   ]
  },
  {
   "cell_type": "code",
   "execution_count": 5,
   "id": "534e013a-e73e-4306-a2f5-1f8301a9a4c5",
   "metadata": {
    "papermill": {
     "duration": 0.088947,
     "end_time": "2021-12-21T20:13:39.799072",
     "exception": false,
     "start_time": "2021-12-21T20:13:39.710125",
     "status": "completed"
    },
    "tags": []
   },
   "outputs": [
    {
     "data": {
      "text/plain": [
       "PosixPath('/opt/data/results/giant/intersection_genes')"
      ]
     },
     "metadata": {},
     "output_type": "display_data"
    }
   ],
   "source": [
    "OUTPUT_DIR = conf.GIANT[\"RESULTS_DIR\"] / \"intersection_genes\"\n",
    "OUTPUT_DIR.mkdir(parents=True, exist_ok=True)\n",
    "display(OUTPUT_DIR)"
   ]
  },
  {
   "cell_type": "code",
   "execution_count": 6,
   "id": "d44c5dc1-c616-4301-b89a-457289804e57",
   "metadata": {},
   "outputs": [],
   "source": [
    "TISSUE_SPECIFIC_URLS = {\n",
    "    \"blood\": (\"blood\", \"http://hb.flatironinstitute.org/api/integrations/blood/\"),\n",
    "}"
   ]
  },
  {
   "cell_type": "markdown",
   "id": "1fe2ea25-0b72-4da8-b8f5-eb1e094b1ffc",
   "metadata": {
    "papermill": {
     "duration": 0.077617,
     "end_time": "2021-12-21T20:13:39.105285",
     "exception": false,
     "start_time": "2021-12-21T20:13:39.027668",
     "status": "completed"
    },
    "tags": []
   },
   "source": [
    "# Load gene maps"
   ]
  },
  {
   "cell_type": "markdown",
   "id": "b8b9ab54-b23b-496d-bf1c-59d3731f35b5",
   "metadata": {},
   "source": [
    "These gene mappings include only query genes (gene pairs)."
   ]
  },
  {
   "cell_type": "code",
   "execution_count": 7,
   "id": "5e177953-29d4-4ddc-9822-ac5c02cb471c",
   "metadata": {},
   "outputs": [],
   "source": [
    "gene_id_mappings = pd.read_pickle(OUTPUT_DIR / \"gene_map-symbol_to_entrezid.pkl\")"
   ]
  },
  {
   "cell_type": "code",
   "execution_count": 8,
   "id": "c65cf127-c07b-4f90-8b58-1f91286d9c6d",
   "metadata": {},
   "outputs": [
    {
     "data": {
      "text/plain": [
       "(2878, 2)"
      ]
     },
     "execution_count": 8,
     "metadata": {},
     "output_type": "execute_result"
    }
   ],
   "source": [
    "gene_id_mappings.shape"
   ]
  },
  {
   "cell_type": "code",
   "execution_count": 9,
   "id": "760974b0-008a-43de-b6a8-28f3505536b4",
   "metadata": {},
   "outputs": [
    {
     "data": {
      "text/html": [
       "<div>\n",
       "<style scoped>\n",
       "    .dataframe tbody tr th:only-of-type {\n",
       "        vertical-align: middle;\n",
       "    }\n",
       "\n",
       "    .dataframe tbody tr th {\n",
       "        vertical-align: top;\n",
       "    }\n",
       "\n",
       "    .dataframe thead th {\n",
       "        text-align: right;\n",
       "    }\n",
       "</style>\n",
       "<table border=\"1\" class=\"dataframe\">\n",
       "  <thead>\n",
       "    <tr style=\"text-align: right;\">\n",
       "      <th></th>\n",
       "      <th>SYMBOL</th>\n",
       "      <th>ENTREZID</th>\n",
       "    </tr>\n",
       "  </thead>\n",
       "  <tbody>\n",
       "    <tr>\n",
       "      <th>1</th>\n",
       "      <td>RBPJ</td>\n",
       "      <td>3516</td>\n",
       "    </tr>\n",
       "    <tr>\n",
       "      <th>2</th>\n",
       "      <td>NPC1</td>\n",
       "      <td>4864</td>\n",
       "    </tr>\n",
       "    <tr>\n",
       "      <th>3</th>\n",
       "      <td>NR4A1</td>\n",
       "      <td>3164</td>\n",
       "    </tr>\n",
       "    <tr>\n",
       "      <th>4</th>\n",
       "      <td>CCL4</td>\n",
       "      <td>6351</td>\n",
       "    </tr>\n",
       "    <tr>\n",
       "      <th>5</th>\n",
       "      <td>IGHA1</td>\n",
       "      <td>3493</td>\n",
       "    </tr>\n",
       "  </tbody>\n",
       "</table>\n",
       "</div>"
      ],
      "text/plain": [
       "  SYMBOL ENTREZID\n",
       "1   RBPJ     3516\n",
       "2   NPC1     4864\n",
       "3  NR4A1     3164\n",
       "4   CCL4     6351\n",
       "5  IGHA1     3493"
      ]
     },
     "execution_count": 9,
     "metadata": {},
     "output_type": "execute_result"
    }
   ],
   "source": [
    "gene_id_mappings.head()"
   ]
  },
  {
   "cell_type": "code",
   "execution_count": 10,
   "id": "d24840ed-d4ef-4642-838b-f6943d12b703",
   "metadata": {},
   "outputs": [],
   "source": [
    "gene_symbol_to_entrezid = gene_id_mappings.set_index(\"SYMBOL\").squeeze().to_dict()"
   ]
  },
  {
   "cell_type": "code",
   "execution_count": 11,
   "id": "e30f845f-8659-4dd7-8802-5564983dc7c2",
   "metadata": {},
   "outputs": [],
   "source": [
    "gene_entrezid_to_symbol = gene_id_mappings.set_index(\"ENTREZID\").squeeze().to_dict()"
   ]
  },
  {
   "cell_type": "code",
   "execution_count": 12,
   "id": "d0c8fc72-7e98-4e5d-a843-f5adcf174821",
   "metadata": {},
   "outputs": [
    {
     "data": {
      "text/plain": [
       "ENTREZID    84885\n",
       "Name: ZDHHC12, dtype: object"
      ]
     },
     "execution_count": 12,
     "metadata": {},
     "output_type": "execute_result"
    }
   ],
   "source": [
    "gene_id_mappings.set_index(\"SYMBOL\").loc[\"ZDHHC12\"]"
   ]
  },
  {
   "cell_type": "markdown",
   "id": "8f219d63-32d8-42ea-b199-b6c4aeabcb8e",
   "metadata": {},
   "source": [
    "# Functions"
   ]
  },
  {
   "cell_type": "code",
   "execution_count": 13,
   "id": "fc823d63-b478-4639-a372-e899b65d1a42",
   "metadata": {},
   "outputs": [],
   "source": [
    "def convert_gene_pairs(gene_pairs, convert_to_entrezid=False):\n",
    "    \"\"\"\n",
    "    Converts gene pair information (as dataframe) into a suitable format for the function process_tissue_networks.\n",
    "    \"\"\"\n",
    "    gene_pairs = gene_pairs.reset_index()\n",
    "\n",
    "    if convert_to_entrezid:\n",
    "        gene_pairs = gene_pairs.replace(\n",
    "            {\n",
    "                \"level_0\": gene_symbol_to_entrezid,\n",
    "                \"level_1\": gene_symbol_to_entrezid,\n",
    "            }\n",
    "        )\n",
    "\n",
    "    gene_pairs = gene_pairs[[\"level_0\", \"level_1\"]].itertuples(index=False, name=None)\n",
    "\n",
    "    return list(gene_pairs)"
   ]
  },
  {
   "cell_type": "code",
   "execution_count": 14,
   "id": "f9799c56-d08c-46cf-8275-a506af7a7894",
   "metadata": {},
   "outputs": [],
   "source": [
    "def process_tissue_networks(gene_pairs, output_directory, force_tissue=None):\n",
    "    \"\"\"\n",
    "    Given a list of tuples with gene pairs, it uses the GIANT web services to predict a\n",
    "    relevant tissue for each gene pair and its gene network. Then it saves all the genes\n",
    "    in the networks with their edges' values.\n",
    "\n",
    "    If force_tissue is None, then autodetect the cell type for gene pairs.\n",
    "    Otherwise, force_tissue should be a string, which will be used as key to query in\n",
    "    dictionary TISSUE_SPECIFIC_URLS.\n",
    "    \"\"\"\n",
    "    with tqdm(total=min(N_TOP_GENE_PAIRS, len(gene_pairs)), ncols=100) as pbar:\n",
    "        gp_idx = 0\n",
    "\n",
    "        while pbar.n < N_TOP_GENE_PAIRS and gp_idx < len(gene_pairs):\n",
    "            gp = gene_pairs[gp_idx]\n",
    "\n",
    "            pbar.set_description(\",\".join(gp))\n",
    "\n",
    "            # check whether file already exists\n",
    "            suffix = \"\"\n",
    "            if force_tissue is not None:\n",
    "                suffix = f\"-{force_tissue}\"\n",
    "\n",
    "            output_filepath = (\n",
    "                output_directory\n",
    "                / f\"{gp_idx:03d}-{gp[0].lower()}_{gp[1].lower()}{suffix}.h5\"\n",
    "            )\n",
    "            if output_filepath.exists():\n",
    "                gp_idx += 1\n",
    "                pbar.update(1)\n",
    "                continue\n",
    "\n",
    "            output_directory.mkdir(exist_ok=True, parents=True)\n",
    "\n",
    "            # predict a network for a gene pair\n",
    "            _res = get_network(\n",
    "                gene_symbols=gp,\n",
    "                gene_ids_mappings=gene_id_mappings,\n",
    "                tissue=TISSUE_SPECIFIC_URLS[force_tissue]\n",
    "                if force_tissue is not None\n",
    "                else None,\n",
    "            )\n",
    "            if _res is None:\n",
    "                gp_idx += 1\n",
    "                continue\n",
    "\n",
    "            df, tissue, mincut = _res\n",
    "\n",
    "            assert not df.isna().any().any()\n",
    "\n",
    "            with pd.HDFStore(output_filepath, mode=\"w\", complevel=4) as store:\n",
    "                store.put(\"data\", df, format=\"table\")\n",
    "\n",
    "                metadata = pd.DataFrame(\n",
    "                    {\n",
    "                        \"tissue\": tissue,\n",
    "                        \"mincut\": mincut,\n",
    "                    },\n",
    "                    index=[0],\n",
    "                )\n",
    "                store.put(\"metadata\", metadata, format=\"table\")\n",
    "\n",
    "            gp_idx += 1\n",
    "            pbar.update(1)"
   ]
  },
  {
   "cell_type": "markdown",
   "id": "2071d65d-f6d3-4f64-ac28-51d7707bd602",
   "metadata": {},
   "source": [
    "# Predict tissue for each gene pair"
   ]
  },
  {
   "cell_type": "markdown",
   "id": "63058738-7a1c-4460-9541-5989711500af",
   "metadata": {},
   "source": [
    "## Custom gene pairs from Figure 3"
   ]
  },
  {
   "cell_type": "code",
   "execution_count": 64,
   "id": "06411c8b-7a78-45b6-b70e-10dcaa269b2c",
   "metadata": {},
   "outputs": [
    {
     "data": {
      "text/plain": [
       "2"
      ]
     },
     "metadata": {},
     "output_type": "display_data"
    }
   ],
   "source": [
    "gene_pairs = [\n",
    "    (\"IFNG\", \"SDS\"),\n",
    "    (\"JUN\", \"APOC1\"),\n",
    "]\n",
    "\n",
    "display(len(gene_pairs))"
   ]
  },
  {
   "cell_type": "markdown",
   "id": "1eade02d-f899-47ca-a56a-571af50c599b",
   "metadata": {},
   "source": [
    "### Autodetected cell type"
   ]
  },
  {
   "cell_type": "code",
   "execution_count": 65,
   "id": "fe4913a7-789f-4a7c-b0e3-5d39e3fd12c2",
   "metadata": {},
   "outputs": [],
   "source": [
    "output_dir = OUTPUT_DIR / \"custom\" / \"autopredicted_cell_type\""
   ]
  },
  {
   "cell_type": "code",
   "execution_count": 66,
   "id": "d6650966-d577-4d44-9f84-6d971243d4bd",
   "metadata": {},
   "outputs": [
    {
     "name": "stderr",
     "output_type": "stream",
     "text": [
      "JUN,APOC1: 100%|█████████████████████████████████████████████████████| 2/2 [00:00<00:00, 321.34it/s]\n"
     ]
    }
   ],
   "source": [
    "process_tissue_networks(gene_pairs, output_dir)"
   ]
  },
  {
   "cell_type": "markdown",
   "id": "2c59e7ef-a235-47ee-8b48-ec523e84b834",
   "metadata": {},
   "source": [
    "### Blood"
   ]
  },
  {
   "cell_type": "code",
   "execution_count": 67,
   "id": "56a164ab-0730-4fd8-b3ea-f057a4a8e2c0",
   "metadata": {},
   "outputs": [],
   "source": [
    "output_dir = OUTPUT_DIR / \"custom\" / \"blood\""
   ]
  },
  {
   "cell_type": "code",
   "execution_count": 70,
   "id": "45c6cefd-5c44-4c89-a143-b2225ebbddab",
   "metadata": {},
   "outputs": [
    {
     "name": "stderr",
     "output_type": "stream",
     "text": [
      "PYGM,TPM2: 100%|██████████████████████████████████████████████████████| 6/6 [00:02<00:00,  2.47it/s]\n"
     ]
    }
   ],
   "source": [
    "process_tissue_networks(\n",
    "    gene_pairs\n",
    "    + [\n",
    "        (\"ZDHHC12\", \"CCL18\"),\n",
    "        (\"RASSF2\", \"CYTIP\"),\n",
    "        (\"MYOZ1\", \"TNNI2\"),\n",
    "        (\"PYGM\", \"TPM2\"),\n",
    "    ],\n",
    "    output_dir,\n",
    "    force_tissue=\"blood\",\n",
    ")"
   ]
  },
  {
   "cell_type": "markdown",
   "id": "ca181c67-d991-42a6-b068-d060b169685d",
   "metadata": {},
   "source": [
    "## Clustermatch vs Pearson"
   ]
  },
  {
   "cell_type": "code",
   "execution_count": 20,
   "id": "3cf3d0e2-a950-450f-ac96-326635bcea9c",
   "metadata": {},
   "outputs": [],
   "source": [
    "output_dir = OUTPUT_DIR / \"clustermatch_vs_pearson\""
   ]
  },
  {
   "cell_type": "code",
   "execution_count": 21,
   "id": "09c0ba15-e3e6-4a38-b464-5c6b4183e94a",
   "metadata": {},
   "outputs": [],
   "source": [
    "# read gene pairs\n",
    "data = pd.read_pickle(INPUT_DIR / \"clustermatch_vs_pearson.pkl\").sort_values(\n",
    "    \"clustermatch\", ascending=False\n",
    ")"
   ]
  },
  {
   "cell_type": "code",
   "execution_count": 22,
   "id": "8fdb325e-a4d8-47f7-a3b4-11ba90d5c5cb",
   "metadata": {},
   "outputs": [
    {
     "data": {
      "text/plain": [
       "(20951, 6)"
      ]
     },
     "execution_count": 22,
     "metadata": {},
     "output_type": "execute_result"
    }
   ],
   "source": [
    "data.shape"
   ]
  },
  {
   "cell_type": "code",
   "execution_count": 23,
   "id": "e381b0da-5c28-4c61-a6fe-c805586248ed",
   "metadata": {},
   "outputs": [
    {
     "data": {
      "text/html": [
       "<div>\n",
       "<style scoped>\n",
       "    .dataframe tbody tr th:only-of-type {\n",
       "        vertical-align: middle;\n",
       "    }\n",
       "\n",
       "    .dataframe tbody tr th {\n",
       "        vertical-align: top;\n",
       "    }\n",
       "\n",
       "    .dataframe thead th {\n",
       "        text-align: right;\n",
       "    }\n",
       "</style>\n",
       "<table border=\"1\" class=\"dataframe\">\n",
       "  <thead>\n",
       "    <tr style=\"text-align: right;\">\n",
       "      <th></th>\n",
       "      <th></th>\n",
       "      <th>clustermatch</th>\n",
       "      <th>pearson</th>\n",
       "      <th>spearman</th>\n",
       "      <th>clustermatch_rank</th>\n",
       "      <th>pearson_rank</th>\n",
       "      <th>spearman_rank</th>\n",
       "    </tr>\n",
       "  </thead>\n",
       "  <tbody>\n",
       "    <tr>\n",
       "      <th>TBCC</th>\n",
       "      <th>IFNG</th>\n",
       "      <td>0.468202</td>\n",
       "      <td>0.076129</td>\n",
       "      <td>0.544895</td>\n",
       "      <td>11989835.0</td>\n",
       "      <td>2595765.0</td>\n",
       "      <td>8531829.0</td>\n",
       "    </tr>\n",
       "    <tr>\n",
       "      <th>NRADDP</th>\n",
       "      <th>SERPINH1</th>\n",
       "      <td>0.460965</td>\n",
       "      <td>0.111842</td>\n",
       "      <td>0.540108</td>\n",
       "      <td>11949532.0</td>\n",
       "      <td>3594819.0</td>\n",
       "      <td>8473305.0</td>\n",
       "    </tr>\n",
       "    <tr>\n",
       "      <th>CCL18</th>\n",
       "      <th>ZDHHC12</th>\n",
       "      <td>0.446659</td>\n",
       "      <td>0.099853</td>\n",
       "      <td>0.560171</td>\n",
       "      <td>11863840.5</td>\n",
       "      <td>3274368.0</td>\n",
       "      <td>8717179.0</td>\n",
       "    </tr>\n",
       "    <tr>\n",
       "      <th>NRADDP</th>\n",
       "      <th>BAG3</th>\n",
       "      <td>0.439590</td>\n",
       "      <td>0.096174</td>\n",
       "      <td>0.502060</td>\n",
       "      <td>11817984.0</td>\n",
       "      <td>3173235.0</td>\n",
       "      <td>8003678.0</td>\n",
       "    </tr>\n",
       "    <tr>\n",
       "      <th>GLIPR1</th>\n",
       "      <th>IFNG</th>\n",
       "      <td>0.439590</td>\n",
       "      <td>0.096601</td>\n",
       "      <td>0.532489</td>\n",
       "      <td>11817984.0</td>\n",
       "      <td>3184937.0</td>\n",
       "      <td>8380146.0</td>\n",
       "    </tr>\n",
       "  </tbody>\n",
       "</table>\n",
       "</div>"
      ],
      "text/plain": [
       "                 clustermatch   pearson  spearman  clustermatch_rank  \\\n",
       "TBCC   IFNG          0.468202  0.076129  0.544895         11989835.0   \n",
       "NRADDP SERPINH1      0.460965  0.111842  0.540108         11949532.0   \n",
       "CCL18  ZDHHC12       0.446659  0.099853  0.560171         11863840.5   \n",
       "NRADDP BAG3          0.439590  0.096174  0.502060         11817984.0   \n",
       "GLIPR1 IFNG          0.439590  0.096601  0.532489         11817984.0   \n",
       "\n",
       "                 pearson_rank  spearman_rank  \n",
       "TBCC   IFNG         2595765.0      8531829.0  \n",
       "NRADDP SERPINH1     3594819.0      8473305.0  \n",
       "CCL18  ZDHHC12      3274368.0      8717179.0  \n",
       "NRADDP BAG3         3173235.0      8003678.0  \n",
       "GLIPR1 IFNG         3184937.0      8380146.0  "
      ]
     },
     "execution_count": 23,
     "metadata": {},
     "output_type": "execute_result"
    }
   ],
   "source": [
    "data.head()"
   ]
  },
  {
   "cell_type": "code",
   "execution_count": 24,
   "id": "83695bea-bc08-49bb-b55a-cf768144798f",
   "metadata": {},
   "outputs": [
    {
     "data": {
      "text/plain": [
       "20951"
      ]
     },
     "metadata": {},
     "output_type": "display_data"
    }
   ],
   "source": [
    "gene_pairs = convert_gene_pairs(data)\n",
    "display(len(gene_pairs))"
   ]
  },
  {
   "cell_type": "code",
   "execution_count": 25,
   "id": "d63403df-6ee2-47eb-b650-4e48e5a753a1",
   "metadata": {},
   "outputs": [
    {
     "data": {
      "text/plain": [
       "[('TBCC', 'IFNG'),\n",
       " ('NRADDP', 'SERPINH1'),\n",
       " ('CCL18', 'ZDHHC12'),\n",
       " ('NRADDP', 'BAG3'),\n",
       " ('GLIPR1', 'IFNG'),\n",
       " ('NRADDP', 'DNAJA4'),\n",
       " ('TNFSF14', 'SERPINH1'),\n",
       " ('TMEM80', 'IFNG'),\n",
       " ('LXN', 'IFNG'),\n",
       " ('NRADDP', 'HSPB1')]"
      ]
     },
     "execution_count": 25,
     "metadata": {},
     "output_type": "execute_result"
    }
   ],
   "source": [
    "gene_pairs[:10]"
   ]
  },
  {
   "cell_type": "code",
   "execution_count": 26,
   "id": "c03de583-d0e8-47be-9176-ea2061cea184",
   "metadata": {},
   "outputs": [
    {
     "name": "stderr",
     "output_type": "stream",
     "text": [
      "ZDHHC12,SPP1: 100%|███████████████████████████████████████████████| 100/100 [09:46<00:00,  5.86s/it]\n"
     ]
    }
   ],
   "source": [
    "process_tissue_networks(gene_pairs, output_dir)"
   ]
  },
  {
   "cell_type": "markdown",
   "id": "688f8785-1c1e-456c-8961-f8bfffb05255",
   "metadata": {},
   "source": [
    "## Clustermatch vs Pearson/Spearman"
   ]
  },
  {
   "cell_type": "code",
   "execution_count": 27,
   "id": "cb606a5d-2d24-408b-a8ce-ffa22fd5946c",
   "metadata": {},
   "outputs": [],
   "source": [
    "output_dir = OUTPUT_DIR / \"clustermatch_vs_pearson_spearman\""
   ]
  },
  {
   "cell_type": "code",
   "execution_count": 28,
   "id": "c6b4f254-c67c-4267-8a21-56e69f64cd5c",
   "metadata": {},
   "outputs": [],
   "source": [
    "data = pd.read_pickle(INPUT_DIR / \"clustermatch_vs_pearson_spearman.pkl\").sort_values(\n",
    "    \"clustermatch\", ascending=False\n",
    ")"
   ]
  },
  {
   "cell_type": "code",
   "execution_count": 29,
   "id": "80eb2e8c-bff9-4e43-95f3-c5083c64e2de",
   "metadata": {},
   "outputs": [
    {
     "data": {
      "text/plain": [
       "(8, 6)"
      ]
     },
     "execution_count": 29,
     "metadata": {},
     "output_type": "execute_result"
    }
   ],
   "source": [
    "data.shape"
   ]
  },
  {
   "cell_type": "code",
   "execution_count": 30,
   "id": "7a67a953-1503-40f3-a7ce-eb1001aa91a0",
   "metadata": {},
   "outputs": [
    {
     "data": {
      "text/html": [
       "<div>\n",
       "<style scoped>\n",
       "    .dataframe tbody tr th:only-of-type {\n",
       "        vertical-align: middle;\n",
       "    }\n",
       "\n",
       "    .dataframe tbody tr th {\n",
       "        vertical-align: top;\n",
       "    }\n",
       "\n",
       "    .dataframe thead th {\n",
       "        text-align: right;\n",
       "    }\n",
       "</style>\n",
       "<table border=\"1\" class=\"dataframe\">\n",
       "  <thead>\n",
       "    <tr style=\"text-align: right;\">\n",
       "      <th></th>\n",
       "      <th></th>\n",
       "      <th>clustermatch</th>\n",
       "      <th>pearson</th>\n",
       "      <th>spearman</th>\n",
       "      <th>clustermatch_rank</th>\n",
       "      <th>pearson_rank</th>\n",
       "      <th>spearman_rank</th>\n",
       "    </tr>\n",
       "  </thead>\n",
       "  <tbody>\n",
       "    <tr>\n",
       "      <th>DNAJC5</th>\n",
       "      <th>GTPBP1</th>\n",
       "      <td>0.193464</td>\n",
       "      <td>0.107576</td>\n",
       "      <td>0.156998</td>\n",
       "      <td>8979610.0</td>\n",
       "      <td>3482451.0</td>\n",
       "      <td>3018450.0</td>\n",
       "    </tr>\n",
       "    <tr>\n",
       "      <th>RPL32P3</th>\n",
       "      <th>PRDX3P1</th>\n",
       "      <td>0.193464</td>\n",
       "      <td>0.073375</td>\n",
       "      <td>0.186682</td>\n",
       "      <td>8979610.0</td>\n",
       "      <td>2512718.0</td>\n",
       "      <td>3534806.0</td>\n",
       "    </tr>\n",
       "    <tr>\n",
       "      <th>BLOC1S3</th>\n",
       "      <th>RP11-4B16.4</th>\n",
       "      <td>0.188812</td>\n",
       "      <td>0.028556</td>\n",
       "      <td>0.192653</td>\n",
       "      <td>8897293.5</td>\n",
       "      <td>1043401.0</td>\n",
       "      <td>3636575.0</td>\n",
       "    </tr>\n",
       "    <tr>\n",
       "      <th>AC009950.2</th>\n",
       "      <th>PRDX3P1</th>\n",
       "      <td>0.184279</td>\n",
       "      <td>0.070892</td>\n",
       "      <td>0.197203</td>\n",
       "      <td>8823932.0</td>\n",
       "      <td>2437032.0</td>\n",
       "      <td>3713281.0</td>\n",
       "    </tr>\n",
       "    <tr>\n",
       "      <th>CYTH4</th>\n",
       "      <th>GTPBP1</th>\n",
       "      <td>0.184217</td>\n",
       "      <td>0.087254</td>\n",
       "      <td>0.183848</td>\n",
       "      <td>8813629.5</td>\n",
       "      <td>2922303.0</td>\n",
       "      <td>3486726.0</td>\n",
       "    </tr>\n",
       "  </tbody>\n",
       "</table>\n",
       "</div>"
      ],
      "text/plain": [
       "                        clustermatch   pearson  spearman  clustermatch_rank  \\\n",
       "DNAJC5     GTPBP1           0.193464  0.107576  0.156998          8979610.0   \n",
       "RPL32P3    PRDX3P1          0.193464  0.073375  0.186682          8979610.0   \n",
       "BLOC1S3    RP11-4B16.4      0.188812  0.028556  0.192653          8897293.5   \n",
       "AC009950.2 PRDX3P1          0.184279  0.070892  0.197203          8823932.0   \n",
       "CYTH4      GTPBP1           0.184217  0.087254  0.183848          8813629.5   \n",
       "\n",
       "                        pearson_rank  spearman_rank  \n",
       "DNAJC5     GTPBP1          3482451.0      3018450.0  \n",
       "RPL32P3    PRDX3P1         2512718.0      3534806.0  \n",
       "BLOC1S3    RP11-4B16.4     1043401.0      3636575.0  \n",
       "AC009950.2 PRDX3P1         2437032.0      3713281.0  \n",
       "CYTH4      GTPBP1          2922303.0      3486726.0  "
      ]
     },
     "execution_count": 30,
     "metadata": {},
     "output_type": "execute_result"
    }
   ],
   "source": [
    "data.head()"
   ]
  },
  {
   "cell_type": "code",
   "execution_count": 31,
   "id": "1a82c50e-54e4-4b43-bf4d-791918ec6da0",
   "metadata": {},
   "outputs": [
    {
     "data": {
      "text/plain": [
       "8"
      ]
     },
     "metadata": {},
     "output_type": "display_data"
    }
   ],
   "source": [
    "gene_pairs = convert_gene_pairs(data)\n",
    "display(len(gene_pairs))"
   ]
  },
  {
   "cell_type": "code",
   "execution_count": 32,
   "id": "c5c08369-7812-461c-846d-7e81451aa348",
   "metadata": {},
   "outputs": [
    {
     "data": {
      "text/plain": [
       "[('DNAJC5', 'GTPBP1'),\n",
       " ('RPL32P3', 'PRDX3P1'),\n",
       " ('BLOC1S3', 'RP11-4B16.4'),\n",
       " ('AC009950.2', 'PRDX3P1'),\n",
       " ('CYTH4', 'GTPBP1'),\n",
       " ('KLHL21', 'AC068580.6'),\n",
       " ('C17orf53', 'TPX2'),\n",
       " ('KIAA0232', 'PRDX3P1')]"
      ]
     },
     "execution_count": 32,
     "metadata": {},
     "output_type": "execute_result"
    }
   ],
   "source": [
    "gene_pairs[:10]"
   ]
  },
  {
   "cell_type": "code",
   "execution_count": 33,
   "id": "4156f33e-2d5c-47ce-8fa2-1afe4dfb4bf2",
   "metadata": {},
   "outputs": [
    {
     "name": "stderr",
     "output_type": "stream",
     "text": [
      "KIAA0232,PRDX3P1:  25%|███████████▊                                   | 2/8 [00:20<01:00, 10.04s/it]\n"
     ]
    }
   ],
   "source": [
    "process_tissue_networks(gene_pairs, output_dir)"
   ]
  },
  {
   "cell_type": "markdown",
   "id": "b1af54fe-0828-4fd2-ab26-3a42126e7234",
   "metadata": {},
   "source": [
    "## Clustermatch vs Spearman"
   ]
  },
  {
   "cell_type": "code",
   "execution_count": 34,
   "id": "02fac60d-3e0a-4a6e-b2f3-a2c80c8a4e05",
   "metadata": {},
   "outputs": [],
   "source": [
    "output_dir = OUTPUT_DIR / \"clustermatch_vs_spearman\""
   ]
  },
  {
   "cell_type": "code",
   "execution_count": 35,
   "id": "069f7efc-2389-432d-86d5-66474ad80b1d",
   "metadata": {},
   "outputs": [],
   "source": [
    "data = pd.read_pickle(INPUT_DIR / \"clustermatch_vs_spearman.pkl\").sort_values(\n",
    "    \"clustermatch\", ascending=False\n",
    ")"
   ]
  },
  {
   "cell_type": "code",
   "execution_count": 36,
   "id": "cdefceda-6e4b-4702-a73e-1ea215e41dbb",
   "metadata": {},
   "outputs": [
    {
     "data": {
      "text/plain": [
       "(28, 6)"
      ]
     },
     "execution_count": 36,
     "metadata": {},
     "output_type": "execute_result"
    }
   ],
   "source": [
    "data.shape"
   ]
  },
  {
   "cell_type": "code",
   "execution_count": 37,
   "id": "defa6a6d-b8fe-4cb1-829b-4919034cfe31",
   "metadata": {},
   "outputs": [
    {
     "data": {
      "text/html": [
       "<div>\n",
       "<style scoped>\n",
       "    .dataframe tbody tr th:only-of-type {\n",
       "        vertical-align: middle;\n",
       "    }\n",
       "\n",
       "    .dataframe tbody tr th {\n",
       "        vertical-align: top;\n",
       "    }\n",
       "\n",
       "    .dataframe thead th {\n",
       "        text-align: right;\n",
       "    }\n",
       "</style>\n",
       "<table border=\"1\" class=\"dataframe\">\n",
       "  <thead>\n",
       "    <tr style=\"text-align: right;\">\n",
       "      <th></th>\n",
       "      <th></th>\n",
       "      <th>clustermatch</th>\n",
       "      <th>pearson</th>\n",
       "      <th>spearman</th>\n",
       "      <th>clustermatch_rank</th>\n",
       "      <th>pearson_rank</th>\n",
       "      <th>spearman_rank</th>\n",
       "    </tr>\n",
       "  </thead>\n",
       "  <tbody>\n",
       "    <tr>\n",
       "      <th>KDM6A</th>\n",
       "      <th>UTY</th>\n",
       "      <td>0.294391</td>\n",
       "      <td>0.239870</td>\n",
       "      <td>0.100621</td>\n",
       "      <td>10436674.0</td>\n",
       "      <td>6265429.0</td>\n",
       "      <td>1987841.0</td>\n",
       "    </tr>\n",
       "    <tr>\n",
       "      <th rowspan=\"2\" valign=\"top\">CYTIP</th>\n",
       "      <th>KIAA0040</th>\n",
       "      <td>0.205803</td>\n",
       "      <td>0.158792</td>\n",
       "      <td>0.110038</td>\n",
       "      <td>9212181.0</td>\n",
       "      <td>4717121.0</td>\n",
       "      <td>2164247.0</td>\n",
       "    </tr>\n",
       "    <tr>\n",
       "      <th>RASSF2</th>\n",
       "      <td>0.201962</td>\n",
       "      <td>0.156060</td>\n",
       "      <td>0.107882</td>\n",
       "      <td>9132185.0</td>\n",
       "      <td>4656609.0</td>\n",
       "      <td>2124338.0</td>\n",
       "    </tr>\n",
       "    <tr>\n",
       "      <th>RPS4X</th>\n",
       "      <th>PRKY</th>\n",
       "      <td>0.198590</td>\n",
       "      <td>0.361447</td>\n",
       "      <td>0.197205</td>\n",
       "      <td>9071073.0</td>\n",
       "      <td>7945595.0</td>\n",
       "      <td>3713308.0</td>\n",
       "    </tr>\n",
       "    <tr>\n",
       "      <th>KDM6A</th>\n",
       "      <th>DDX3Y</th>\n",
       "      <td>0.193557</td>\n",
       "      <td>0.237462</td>\n",
       "      <td>0.035350</td>\n",
       "      <td>8989374.0</td>\n",
       "      <td>6225427.0</td>\n",
       "      <td>716931.0</td>\n",
       "    </tr>\n",
       "  </tbody>\n",
       "</table>\n",
       "</div>"
      ],
      "text/plain": [
       "                clustermatch   pearson  spearman  clustermatch_rank  \\\n",
       "KDM6A UTY           0.294391  0.239870  0.100621         10436674.0   \n",
       "CYTIP KIAA0040      0.205803  0.158792  0.110038          9212181.0   \n",
       "      RASSF2        0.201962  0.156060  0.107882          9132185.0   \n",
       "RPS4X PRKY          0.198590  0.361447  0.197205          9071073.0   \n",
       "KDM6A DDX3Y         0.193557  0.237462  0.035350          8989374.0   \n",
       "\n",
       "                pearson_rank  spearman_rank  \n",
       "KDM6A UTY          6265429.0      1987841.0  \n",
       "CYTIP KIAA0040     4717121.0      2164247.0  \n",
       "      RASSF2       4656609.0      2124338.0  \n",
       "RPS4X PRKY         7945595.0      3713308.0  \n",
       "KDM6A DDX3Y        6225427.0       716931.0  "
      ]
     },
     "execution_count": 37,
     "metadata": {},
     "output_type": "execute_result"
    }
   ],
   "source": [
    "data.head()"
   ]
  },
  {
   "cell_type": "code",
   "execution_count": 38,
   "id": "b779840d-75b3-4fe9-bd06-a5a414055dac",
   "metadata": {},
   "outputs": [
    {
     "data": {
      "text/plain": [
       "28"
      ]
     },
     "metadata": {},
     "output_type": "display_data"
    }
   ],
   "source": [
    "gene_pairs = convert_gene_pairs(data)\n",
    "display(len(gene_pairs))"
   ]
  },
  {
   "cell_type": "code",
   "execution_count": 39,
   "id": "45b0abc4-53ef-4d68-bb3d-696b4ff66a08",
   "metadata": {},
   "outputs": [
    {
     "data": {
      "text/plain": [
       "[('KDM6A', 'UTY'),\n",
       " ('CYTIP', 'KIAA0040'),\n",
       " ('CYTIP', 'RASSF2'),\n",
       " ('RPS4X', 'PRKY'),\n",
       " ('KDM6A', 'DDX3Y'),\n",
       " ('RIPK1', 'GTPBP1'),\n",
       " ('CNN2', 'GTPBP1'),\n",
       " ('CCSER2', 'CYB561D1'),\n",
       " ('TECPR2', 'GTPBP1'),\n",
       " ('IRGQ', 'CYB561D1')]"
      ]
     },
     "execution_count": 39,
     "metadata": {},
     "output_type": "execute_result"
    }
   ],
   "source": [
    "gene_pairs[:10]"
   ]
  },
  {
   "cell_type": "code",
   "execution_count": 40,
   "id": "9de61d6a-cd80-4c36-8eb9-b01fac5e6fe2",
   "metadata": {},
   "outputs": [
    {
     "name": "stderr",
     "output_type": "stream",
     "text": [
      "CCSER2,WBP1L:  86%|██████████████████████████████████████████       | 24/28 [02:32<00:25,  6.36s/it]\n"
     ]
    }
   ],
   "source": [
    "process_tissue_networks(gene_pairs, output_dir)"
   ]
  },
  {
   "cell_type": "markdown",
   "id": "55333a50-9e90-4188-bcd6-463fdf6e376a",
   "metadata": {},
   "source": [
    "## Pearson vs Clustermatch"
   ]
  },
  {
   "cell_type": "code",
   "execution_count": 41,
   "id": "fd08d1e0-2df2-4b2d-9e3d-f72760bee458",
   "metadata": {},
   "outputs": [],
   "source": [
    "output_dir = OUTPUT_DIR / \"pearson_vs_clustermatch\""
   ]
  },
  {
   "cell_type": "code",
   "execution_count": 42,
   "id": "6216664c-229f-41ef-9ed9-f0eb1a79ecd1",
   "metadata": {},
   "outputs": [],
   "source": [
    "data = pd.read_pickle(INPUT_DIR / \"pearson_vs_clustermatch.pkl\").sort_values(\n",
    "    \"pearson\", ascending=False\n",
    ")"
   ]
  },
  {
   "cell_type": "code",
   "execution_count": 43,
   "id": "a2a38d8e-cffa-4a18-85ff-916d6f0b48a1",
   "metadata": {},
   "outputs": [
    {
     "data": {
      "text/plain": [
       "(1075, 6)"
      ]
     },
     "execution_count": 43,
     "metadata": {},
     "output_type": "execute_result"
    }
   ],
   "source": [
    "data.shape"
   ]
  },
  {
   "cell_type": "code",
   "execution_count": 44,
   "id": "685d0b93-c305-41eb-a978-5e6bf1e29da2",
   "metadata": {},
   "outputs": [
    {
     "data": {
      "text/html": [
       "<div>\n",
       "<style scoped>\n",
       "    .dataframe tbody tr th:only-of-type {\n",
       "        vertical-align: middle;\n",
       "    }\n",
       "\n",
       "    .dataframe tbody tr th {\n",
       "        vertical-align: top;\n",
       "    }\n",
       "\n",
       "    .dataframe thead th {\n",
       "        text-align: right;\n",
       "    }\n",
       "</style>\n",
       "<table border=\"1\" class=\"dataframe\">\n",
       "  <thead>\n",
       "    <tr style=\"text-align: right;\">\n",
       "      <th></th>\n",
       "      <th></th>\n",
       "      <th>clustermatch</th>\n",
       "      <th>pearson</th>\n",
       "      <th>spearman</th>\n",
       "      <th>clustermatch_rank</th>\n",
       "      <th>pearson_rank</th>\n",
       "      <th>spearman_rank</th>\n",
       "    </tr>\n",
       "  </thead>\n",
       "  <tbody>\n",
       "    <tr>\n",
       "      <th>TNNI2</th>\n",
       "      <th>MYOZ1</th>\n",
       "      <td>0.034593</td>\n",
       "      <td>0.967834</td>\n",
       "      <td>0.284206</td>\n",
       "      <td>3714425.5</td>\n",
       "      <td>12497377.0</td>\n",
       "      <td>5069769.0</td>\n",
       "    </tr>\n",
       "    <tr>\n",
       "      <th>MYBPC2</th>\n",
       "      <th>TNNI2</th>\n",
       "      <td>0.034593</td>\n",
       "      <td>0.965012</td>\n",
       "      <td>0.314172</td>\n",
       "      <td>3714425.5</td>\n",
       "      <td>12497343.0</td>\n",
       "      <td>5504793.0</td>\n",
       "    </tr>\n",
       "    <tr>\n",
       "      <th>MYOZ1</th>\n",
       "      <th>PYGM</th>\n",
       "      <td>0.032751</td>\n",
       "      <td>0.964681</td>\n",
       "      <td>0.248365</td>\n",
       "      <td>3556384.0</td>\n",
       "      <td>12497334.0</td>\n",
       "      <td>4532919.0</td>\n",
       "    </tr>\n",
       "    <tr>\n",
       "      <th>MYBPC2</th>\n",
       "      <th>PYGM</th>\n",
       "      <td>0.032234</td>\n",
       "      <td>0.957893</td>\n",
       "      <td>0.234647</td>\n",
       "      <td>3499276.0</td>\n",
       "      <td>12497205.0</td>\n",
       "      <td>4320035.0</td>\n",
       "    </tr>\n",
       "    <tr>\n",
       "      <th>MYLPF</th>\n",
       "      <th>PYGM</th>\n",
       "      <td>0.027118</td>\n",
       "      <td>0.955315</td>\n",
       "      <td>0.248569</td>\n",
       "      <td>2995235.0</td>\n",
       "      <td>12497111.0</td>\n",
       "      <td>4536023.0</td>\n",
       "    </tr>\n",
       "  </tbody>\n",
       "</table>\n",
       "</div>"
      ],
      "text/plain": [
       "              clustermatch   pearson  spearman  clustermatch_rank  \\\n",
       "TNNI2  MYOZ1      0.034593  0.967834  0.284206          3714425.5   \n",
       "MYBPC2 TNNI2      0.034593  0.965012  0.314172          3714425.5   \n",
       "MYOZ1  PYGM       0.032751  0.964681  0.248365          3556384.0   \n",
       "MYBPC2 PYGM       0.032234  0.957893  0.234647          3499276.0   \n",
       "MYLPF  PYGM       0.027118  0.955315  0.248569          2995235.0   \n",
       "\n",
       "              pearson_rank  spearman_rank  \n",
       "TNNI2  MYOZ1    12497377.0      5069769.0  \n",
       "MYBPC2 TNNI2    12497343.0      5504793.0  \n",
       "MYOZ1  PYGM     12497334.0      4532919.0  \n",
       "MYBPC2 PYGM     12497205.0      4320035.0  \n",
       "MYLPF  PYGM     12497111.0      4536023.0  "
      ]
     },
     "execution_count": 44,
     "metadata": {},
     "output_type": "execute_result"
    }
   ],
   "source": [
    "data.head()"
   ]
  },
  {
   "cell_type": "code",
   "execution_count": 45,
   "id": "2cb04bcd-20a5-406c-bb17-f2039d99abf2",
   "metadata": {},
   "outputs": [
    {
     "data": {
      "text/plain": [
       "1075"
      ]
     },
     "metadata": {},
     "output_type": "display_data"
    }
   ],
   "source": [
    "gene_pairs = convert_gene_pairs(data)\n",
    "display(len(gene_pairs))"
   ]
  },
  {
   "cell_type": "code",
   "execution_count": 46,
   "id": "8e67f18c-d89d-466e-8172-77a6b7a8017a",
   "metadata": {},
   "outputs": [
    {
     "data": {
      "text/plain": [
       "[('TNNI2', 'MYOZ1'),\n",
       " ('MYBPC2', 'TNNI2'),\n",
       " ('MYOZ1', 'PYGM'),\n",
       " ('MYBPC2', 'PYGM'),\n",
       " ('MYLPF', 'PYGM'),\n",
       " ('TNNI2', 'CKM'),\n",
       " ('TNNI2', 'ACTA1'),\n",
       " ('COX7A1', 'TNNI2'),\n",
       " ('MYH2', 'PYGM'),\n",
       " ('PYGM', 'MYL2')]"
      ]
     },
     "execution_count": 46,
     "metadata": {},
     "output_type": "execute_result"
    }
   ],
   "source": [
    "gene_pairs[:10]"
   ]
  },
  {
   "cell_type": "code",
   "execution_count": 47,
   "id": "aaa5ad6c-ad7c-49f6-8dd8-2e0da5aff01a",
   "metadata": {},
   "outputs": [
    {
     "name": "stderr",
     "output_type": "stream",
     "text": [
      "TMEM38A,ENO3: 100%|███████████████████████████████████████████████| 100/100 [11:02<00:00,  6.62s/it]\n"
     ]
    }
   ],
   "source": [
    "process_tissue_networks(gene_pairs, output_dir)"
   ]
  },
  {
   "cell_type": "markdown",
   "id": "49047461-2c50-4c64-9aaf-9d72a22fc98e",
   "metadata": {},
   "source": [
    "## Pearson vs Clustermatch/Spearman"
   ]
  },
  {
   "cell_type": "code",
   "execution_count": 48,
   "id": "212b2a41-bfaf-4b6f-91f4-8648178f3b87",
   "metadata": {},
   "outputs": [],
   "source": [
    "output_dir = OUTPUT_DIR / \"pearson_vs_clustermatch_spearman\""
   ]
  },
  {
   "cell_type": "code",
   "execution_count": 49,
   "id": "dd74ba69-63e0-4afe-b121-a57db79f0785",
   "metadata": {},
   "outputs": [],
   "source": [
    "data = pd.read_pickle(INPUT_DIR / \"pearson_vs_clustermatch_spearman.pkl\").sort_values(\n",
    "    \"pearson\", ascending=False\n",
    ")"
   ]
  },
  {
   "cell_type": "code",
   "execution_count": 50,
   "id": "26d72249-835d-4608-a915-4d19df8abbb6",
   "metadata": {},
   "outputs": [
    {
     "data": {
      "text/plain": [
       "(531, 6)"
      ]
     },
     "execution_count": 50,
     "metadata": {},
     "output_type": "execute_result"
    }
   ],
   "source": [
    "data.shape"
   ]
  },
  {
   "cell_type": "code",
   "execution_count": 51,
   "id": "63c2e1cc-bc58-4915-802a-b931f635fafd",
   "metadata": {},
   "outputs": [
    {
     "data": {
      "text/html": [
       "<div>\n",
       "<style scoped>\n",
       "    .dataframe tbody tr th:only-of-type {\n",
       "        vertical-align: middle;\n",
       "    }\n",
       "\n",
       "    .dataframe tbody tr th {\n",
       "        vertical-align: top;\n",
       "    }\n",
       "\n",
       "    .dataframe thead th {\n",
       "        text-align: right;\n",
       "    }\n",
       "</style>\n",
       "<table border=\"1\" class=\"dataframe\">\n",
       "  <thead>\n",
       "    <tr style=\"text-align: right;\">\n",
       "      <th></th>\n",
       "      <th></th>\n",
       "      <th>clustermatch</th>\n",
       "      <th>pearson</th>\n",
       "      <th>spearman</th>\n",
       "      <th>clustermatch_rank</th>\n",
       "      <th>pearson_rank</th>\n",
       "      <th>spearman_rank</th>\n",
       "    </tr>\n",
       "  </thead>\n",
       "  <tbody>\n",
       "    <tr>\n",
       "      <th>CCL20</th>\n",
       "      <th>SCGB3A1</th>\n",
       "      <td>0.031833</td>\n",
       "      <td>0.988292</td>\n",
       "      <td>0.187233</td>\n",
       "      <td>3471638.5</td>\n",
       "      <td>12497493.0</td>\n",
       "      <td>3544359.0</td>\n",
       "    </tr>\n",
       "    <tr>\n",
       "      <th>CXCL1</th>\n",
       "      <th>SCGB3A1</th>\n",
       "      <td>0.007038</td>\n",
       "      <td>0.975534</td>\n",
       "      <td>0.078267</td>\n",
       "      <td>457775.5</td>\n",
       "      <td>12497441.0</td>\n",
       "      <td>1561424.0</td>\n",
       "    </tr>\n",
       "    <tr>\n",
       "      <th>TNNI2</th>\n",
       "      <th>TPM2</th>\n",
       "      <td>0.026588</td>\n",
       "      <td>0.948215</td>\n",
       "      <td>0.193457</td>\n",
       "      <td>2930710.0</td>\n",
       "      <td>12496755.0</td>\n",
       "      <td>3650290.0</td>\n",
       "    </tr>\n",
       "    <tr>\n",
       "      <th>TPM2</th>\n",
       "      <th>PYGM</th>\n",
       "      <td>0.034912</td>\n",
       "      <td>0.944430</td>\n",
       "      <td>0.029852</td>\n",
       "      <td>3745874.0</td>\n",
       "      <td>12496416.0</td>\n",
       "      <td>605603.0</td>\n",
       "    </tr>\n",
       "    <tr>\n",
       "      <th>KRT19</th>\n",
       "      <th>CXCL1</th>\n",
       "      <td>0.008663</td>\n",
       "      <td>0.939751</td>\n",
       "      <td>0.097291</td>\n",
       "      <td>664617.0</td>\n",
       "      <td>12495782.0</td>\n",
       "      <td>1924833.0</td>\n",
       "    </tr>\n",
       "  </tbody>\n",
       "</table>\n",
       "</div>"
      ],
      "text/plain": [
       "               clustermatch   pearson  spearman  clustermatch_rank  \\\n",
       "CCL20 SCGB3A1      0.031833  0.988292  0.187233          3471638.5   \n",
       "CXCL1 SCGB3A1      0.007038  0.975534  0.078267           457775.5   \n",
       "TNNI2 TPM2         0.026588  0.948215  0.193457          2930710.0   \n",
       "TPM2  PYGM         0.034912  0.944430  0.029852          3745874.0   \n",
       "KRT19 CXCL1        0.008663  0.939751  0.097291           664617.0   \n",
       "\n",
       "               pearson_rank  spearman_rank  \n",
       "CCL20 SCGB3A1    12497493.0      3544359.0  \n",
       "CXCL1 SCGB3A1    12497441.0      1561424.0  \n",
       "TNNI2 TPM2       12496755.0      3650290.0  \n",
       "TPM2  PYGM       12496416.0       605603.0  \n",
       "KRT19 CXCL1      12495782.0      1924833.0  "
      ]
     },
     "execution_count": 51,
     "metadata": {},
     "output_type": "execute_result"
    }
   ],
   "source": [
    "data.head()"
   ]
  },
  {
   "cell_type": "code",
   "execution_count": 52,
   "id": "357fa267-ad85-4156-8fc5-fa0921aac7e6",
   "metadata": {},
   "outputs": [
    {
     "data": {
      "text/plain": [
       "531"
      ]
     },
     "metadata": {},
     "output_type": "display_data"
    }
   ],
   "source": [
    "gene_pairs = convert_gene_pairs(data)\n",
    "display(len(gene_pairs))"
   ]
  },
  {
   "cell_type": "code",
   "execution_count": 53,
   "id": "24e5b270-6c56-4676-882f-d058aed67fcd",
   "metadata": {},
   "outputs": [
    {
     "data": {
      "text/plain": [
       "[('CCL20', 'SCGB3A1'),\n",
       " ('CXCL1', 'SCGB3A1'),\n",
       " ('TNNI2', 'TPM2'),\n",
       " ('TPM2', 'PYGM'),\n",
       " ('KRT19', 'CXCL1'),\n",
       " ('ENO3', 'PYGM'),\n",
       " ('TACSTD2', 'SCGB3A1'),\n",
       " ('CCL20', 'KRT19'),\n",
       " ('S100A16', 'CXCL1'),\n",
       " ('CCL20', 'TPPP3')]"
      ]
     },
     "execution_count": 53,
     "metadata": {},
     "output_type": "execute_result"
    }
   ],
   "source": [
    "gene_pairs[:10]"
   ]
  },
  {
   "cell_type": "code",
   "execution_count": 54,
   "id": "e52a1971-9c35-4ced-bc66-98fbdc4a25e6",
   "metadata": {},
   "outputs": [
    {
     "name": "stderr",
     "output_type": "stream",
     "text": [
      "CAPS,ID1: 100%|███████████████████████████████████████████████████| 100/100 [08:46<00:00,  5.27s/it]\n"
     ]
    }
   ],
   "source": [
    "process_tissue_networks(gene_pairs, output_dir)"
   ]
  },
  {
   "cell_type": "code",
   "execution_count": null,
   "id": "e14b2d97-374a-4622-a774-551ab71f5292",
   "metadata": {},
   "outputs": [],
   "source": []
  }
 ],
 "metadata": {
  "jupytext": {
   "cell_metadata_filter": "all,-execution,-papermill,-trusted"
  },
  "kernelspec": {
   "display_name": "Python 3 (ipykernel)",
   "language": "python",
   "name": "python3"
  },
  "language_info": {
   "codemirror_mode": {
    "name": "ipython",
    "version": 3
   },
   "file_extension": ".py",
   "mimetype": "text/x-python",
   "name": "python",
   "nbconvert_exporter": "python",
   "pygments_lexer": "ipython3",
   "version": "3.9.12"
  },
  "papermill": {
   "default_parameters": {},
   "duration": 808.744828,
   "end_time": "2021-12-21T20:27:03.803437",
   "environment_variables": {},
   "exception": null,
   "input_path": "nbs/99_manuscript/coefs_comp/05-gtex_whole_blood-general_plots.ipynb",
   "output_path": "nbs/99_manuscript/coefs_comp/05-gtex_whole_blood-general_plots.run.ipynb",
   "parameters": {},
   "start_time": "2021-12-21T20:13:35.058609",
   "version": "2.3.3"
  },
  "toc-autonumbering": true
 },
 "nbformat": 4,
 "nbformat_minor": 5
}
