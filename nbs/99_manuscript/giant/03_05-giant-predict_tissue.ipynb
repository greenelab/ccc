{
 "cells": [
  {
   "cell_type": "markdown",
   "id": "87e0ce1b-7ce6-4499-9342-5ded05307598",
   "metadata": {
    "papermill": {
     "duration": 0.105156,
     "end_time": "2021-12-21T20:13:36.669733",
     "exception": false,
     "start_time": "2021-12-21T20:13:36.564577",
     "status": "completed"
    },
    "tags": []
   },
   "source": [
    "# Description"
   ]
  },
  {
   "cell_type": "markdown",
   "id": "4bfc7115-350a-441b-9a19-7626a948a694",
   "metadata": {
    "papermill": {
     "duration": 0.077358,
     "end_time": "2021-12-21T20:13:36.824140",
     "exception": false,
     "start_time": "2021-12-21T20:13:36.746782",
     "status": "completed"
    },
    "tags": []
   },
   "source": [
    "TODO"
   ]
  },
  {
   "cell_type": "markdown",
   "id": "e020c781-238b-43c2-8cad-2722b8a240e2",
   "metadata": {
    "papermill": {
     "duration": 0.078359,
     "end_time": "2021-12-21T20:13:36.980950",
     "exception": false,
     "start_time": "2021-12-21T20:13:36.902591",
     "status": "completed"
    },
    "tags": []
   },
   "source": [
    "# Modules"
   ]
  },
  {
   "cell_type": "code",
   "execution_count": 1,
   "id": "8c99f618-0d2d-43fd-86d4-8c44d33f4c59",
   "metadata": {},
   "outputs": [],
   "source": [
    "# %load_ext rpy2.ipython"
   ]
  },
  {
   "cell_type": "code",
   "execution_count": 2,
   "id": "a819bfbc-5009-4c68-ba8d-37d0979d368f",
   "metadata": {
    "papermill": {
     "duration": 1.400218,
     "end_time": "2021-12-21T20:13:38.460171",
     "exception": false,
     "start_time": "2021-12-21T20:13:37.059953",
     "status": "completed"
    },
    "tags": []
   },
   "outputs": [],
   "source": [
    "import json\n",
    "import tempfile\n",
    "from pathlib import Path\n",
    "\n",
    "import requests\n",
    "import pandas as pd\n",
    "\n",
    "from clustermatch import conf"
   ]
  },
  {
   "cell_type": "markdown",
   "id": "b4834387-58ff-468c-b326-85c408bc5feb",
   "metadata": {
    "papermill": {
     "duration": 0.079144,
     "end_time": "2021-12-21T20:13:38.626394",
     "exception": false,
     "start_time": "2021-12-21T20:13:38.547250",
     "status": "completed"
    },
    "tags": []
   },
   "source": [
    "# Settings"
   ]
  },
  {
   "cell_type": "code",
   "execution_count": 3,
   "id": "765e820a-4518-4bbc-a00f-14c9cea03821",
   "metadata": {
    "papermill": {
     "duration": 0.083094,
     "end_time": "2021-12-21T20:13:38.788297",
     "exception": false,
     "start_time": "2021-12-21T20:13:38.705203",
     "status": "completed"
    },
    "tags": []
   },
   "outputs": [],
   "source": [
    "# DATASET_CONFIG = conf.GTEX\n",
    "# GTEX_TISSUE = \"whole_blood\"\n",
    "# GENE_SEL_STRATEGY = \"var_pc_log2\""
   ]
  },
  {
   "cell_type": "code",
   "execution_count": 4,
   "id": "c598102c-b0e9-417b-bfa5-fc55d508fa51",
   "metadata": {
    "papermill": {
     "duration": 0.083667,
     "end_time": "2021-12-21T20:13:38.949957",
     "exception": false,
     "start_time": "2021-12-21T20:13:38.866290",
     "status": "completed"
    },
    "tags": []
   },
   "outputs": [],
   "source": [
    "# # this is used for the cumulative histogram\n",
    "# GENE_PAIRS_PERCENT = 0.70"
   ]
  },
  {
   "cell_type": "code",
   "execution_count": 5,
   "id": "0222a402-9d06-4abd-9500-baee8dbe1c4e",
   "metadata": {},
   "outputs": [],
   "source": [
    "# CLUSTERMATCH_LABEL = \"Clustermatch\"\n",
    "# PEARSON_LABEL = \"Pearson\"\n",
    "# SPEARMAN_LABEL = \"Spearman\""
   ]
  },
  {
   "cell_type": "markdown",
   "id": "a1159982-5dd1-4494-97d4-0674eeead1c3",
   "metadata": {
    "papermill": {
     "duration": 0.077617,
     "end_time": "2021-12-21T20:13:39.105285",
     "exception": false,
     "start_time": "2021-12-21T20:13:39.027668",
     "status": "completed"
    },
    "tags": []
   },
   "source": [
    "# Paths"
   ]
  },
  {
   "cell_type": "code",
   "execution_count": 6,
   "id": "3e967e81-0d1b-4b12-968e-cd02b466b572",
   "metadata": {
    "papermill": {
     "duration": 0.088947,
     "end_time": "2021-12-21T20:13:39.799072",
     "exception": false,
     "start_time": "2021-12-21T20:13:39.710125",
     "status": "completed"
    },
    "tags": []
   },
   "outputs": [],
   "source": [
    "# INPUT_DIR = DATASET_CONFIG[\"GENE_PAIR_INTERSECTIONS\"]\n",
    "# display(INPUT_DIR)\n",
    "\n",
    "# assert INPUT_DIR.exists()"
   ]
  },
  {
   "cell_type": "code",
   "execution_count": 7,
   "id": "534e013a-e73e-4306-a2f5-1f8301a9a4c5",
   "metadata": {
    "papermill": {
     "duration": 0.088947,
     "end_time": "2021-12-21T20:13:39.799072",
     "exception": false,
     "start_time": "2021-12-21T20:13:39.710125",
     "status": "completed"
    },
    "tags": []
   },
   "outputs": [
    {
     "data": {
      "text/plain": [
       "PosixPath('/opt/data/results/giant/intersection_genes')"
      ]
     },
     "metadata": {},
     "output_type": "display_data"
    }
   ],
   "source": [
    "OUTPUT_DIR = conf.GIANT[\"RESULTS_DIR\"] / \"intersection_genes\"\n",
    "OUTPUT_DIR.mkdir(parents=True, exist_ok=True)\n",
    "display(OUTPUT_DIR)"
   ]
  },
  {
   "cell_type": "markdown",
   "id": "1fe2ea25-0b72-4da8-b8f5-eb1e094b1ffc",
   "metadata": {
    "papermill": {
     "duration": 0.077617,
     "end_time": "2021-12-21T20:13:39.105285",
     "exception": false,
     "start_time": "2021-12-21T20:13:39.027668",
     "status": "completed"
    },
    "tags": []
   },
   "source": [
    "# Load gene maps"
   ]
  },
  {
   "cell_type": "code",
   "execution_count": 8,
   "id": "5e177953-29d4-4ddc-9822-ac5c02cb471c",
   "metadata": {},
   "outputs": [],
   "source": [
    "gene_id_mappings = pd.read_pickle(OUTPUT_DIR / \"gene_map-symbol_to_entrezid.pkl\")"
   ]
  },
  {
   "cell_type": "code",
   "execution_count": 9,
   "id": "c65cf127-c07b-4f90-8b58-1f91286d9c6d",
   "metadata": {},
   "outputs": [
    {
     "data": {
      "text/plain": [
       "(2878, 2)"
      ]
     },
     "execution_count": 9,
     "metadata": {},
     "output_type": "execute_result"
    }
   ],
   "source": [
    "gene_id_mappings.shape"
   ]
  },
  {
   "cell_type": "code",
   "execution_count": 10,
   "id": "760974b0-008a-43de-b6a8-28f3505536b4",
   "metadata": {},
   "outputs": [
    {
     "data": {
      "text/html": [
       "<div>\n",
       "<style scoped>\n",
       "    .dataframe tbody tr th:only-of-type {\n",
       "        vertical-align: middle;\n",
       "    }\n",
       "\n",
       "    .dataframe tbody tr th {\n",
       "        vertical-align: top;\n",
       "    }\n",
       "\n",
       "    .dataframe thead th {\n",
       "        text-align: right;\n",
       "    }\n",
       "</style>\n",
       "<table border=\"1\" class=\"dataframe\">\n",
       "  <thead>\n",
       "    <tr style=\"text-align: right;\">\n",
       "      <th></th>\n",
       "      <th>SYMBOL</th>\n",
       "      <th>ENTREZID</th>\n",
       "    </tr>\n",
       "  </thead>\n",
       "  <tbody>\n",
       "    <tr>\n",
       "      <th>1</th>\n",
       "      <td>KDM6A</td>\n",
       "      <td>7403</td>\n",
       "    </tr>\n",
       "    <tr>\n",
       "      <th>2</th>\n",
       "      <td>CCDC107</td>\n",
       "      <td>203260</td>\n",
       "    </tr>\n",
       "    <tr>\n",
       "      <th>3</th>\n",
       "      <td>PTK2B</td>\n",
       "      <td>2185</td>\n",
       "    </tr>\n",
       "    <tr>\n",
       "      <th>4</th>\n",
       "      <td>RTN2</td>\n",
       "      <td>6253</td>\n",
       "    </tr>\n",
       "    <tr>\n",
       "      <th>5</th>\n",
       "      <td>ST20</td>\n",
       "      <td>400410</td>\n",
       "    </tr>\n",
       "  </tbody>\n",
       "</table>\n",
       "</div>"
      ],
      "text/plain": [
       "    SYMBOL ENTREZID\n",
       "1    KDM6A     7403\n",
       "2  CCDC107   203260\n",
       "3    PTK2B     2185\n",
       "4     RTN2     6253\n",
       "5     ST20   400410"
      ]
     },
     "execution_count": 10,
     "metadata": {},
     "output_type": "execute_result"
    }
   ],
   "source": [
    "gene_id_mappings.head()"
   ]
  },
  {
   "cell_type": "code",
   "execution_count": 11,
   "id": "d24840ed-d4ef-4642-838b-f6943d12b703",
   "metadata": {},
   "outputs": [],
   "source": [
    "gene_symbol_to_entrezid = gene_id_mappings.set_index(\"SYMBOL\").squeeze().to_dict()"
   ]
  },
  {
   "cell_type": "code",
   "execution_count": 12,
   "id": "e30f845f-8659-4dd7-8802-5564983dc7c2",
   "metadata": {},
   "outputs": [],
   "source": [
    "gene_entrezid_to_symbol = gene_id_mappings.set_index(\"ENTREZID\").squeeze().to_dict()"
   ]
  },
  {
   "cell_type": "markdown",
   "id": "8f219d63-32d8-42ea-b199-b6c4aeabcb8e",
   "metadata": {},
   "source": [
    "# Functions"
   ]
  },
  {
   "cell_type": "code",
   "execution_count": 13,
   "id": "5b9e536f-2ec0-440e-b93a-c5226133ddcf",
   "metadata": {},
   "outputs": [],
   "source": [
    "URL_GENE_INFO = \"https://hb.flatironinstitute.org/api/genes/\""
   ]
  },
  {
   "cell_type": "code",
   "execution_count": 14,
   "id": "295b718a-f12e-4588-97d9-f2a83b8233b7",
   "metadata": {},
   "outputs": [],
   "source": [
    "URL_TISSUE_PREDICTION = \"https://hb.flatironinstitute.org/api/integrations/relevant/\""
   ]
  },
  {
   "cell_type": "code",
   "execution_count": 15,
   "id": "2811a125-a2de-4a58-9d04-f07cab31d848",
   "metadata": {},
   "outputs": [],
   "source": [
    "def gene_exists(gene_entrez_id):\n",
    "    url = URL_GENE_INFO + str(gene_entrez_id)\n",
    "    r = requests.get(url)\n",
    "\n",
    "    if r.status_code != 200:\n",
    "        return False\n",
    "\n",
    "    data = r.json()\n",
    "    return \"entrez\" in data and \"standard_name\" in data"
   ]
  },
  {
   "cell_type": "code",
   "execution_count": 16,
   "id": "38dda83d-5889-4593-b5f5-5eca24cbf005",
   "metadata": {},
   "outputs": [],
   "source": [
    "# testing\n",
    "assert gene_exists(3458)\n",
    "assert not gene_exists(100129354)"
   ]
  },
  {
   "cell_type": "code",
   "execution_count": 17,
   "id": "c86993cc-9ef0-4fdd-8c09-f59998e695e4",
   "metadata": {},
   "outputs": [],
   "source": [
    "def predict_tissue(gene_pair_tuple):\n",
    "    for gene in gene_pair_tuple:\n",
    "        if not gene_exists(gene):\n",
    "            return None\n",
    "\n",
    "    params = {\"entrez\": list(gene_pair_tuple)}\n",
    "    r = requests.post(URL_TISSUE_PREDICTION, json=params)\n",
    "    data = r.json()\n",
    "\n",
    "    # check if top tissue is brenda\n",
    "    top_id = 0\n",
    "    while data[top_id][\"context\"][\"term\"][\"database\"][\"name\"] != \"BRENDA Ontology\":\n",
    "        top_id += 1\n",
    "\n",
    "    return data[top_id][\"slug\"], data[top_id][\"url\"]"
   ]
  },
  {
   "cell_type": "code",
   "execution_count": 18,
   "id": "6e8bdfbb-d05d-4c76-8a3a-4dea0c7709d3",
   "metadata": {},
   "outputs": [],
   "source": [
    "# testing\n",
    "assert predict_tissue((\"6903\", \"3458\")) == (\n",
    "    \"nervous-system\",\n",
    "    \"http://hb.flatironinstitute.org/api/integrations/nervous-system/\",\n",
    ")\n",
    "assert predict_tissue((\"100129354\", \"871\")) is None\n",
    "\n",
    "# cases where the top tissue is not brenda\n",
    "assert predict_tissue((\"3458\", \"10993\")) == (\n",
    "    \"natural-killer-cell\",\n",
    "    \"http://hb.flatironinstitute.org/api/integrations/natural-killer-cell/\",\n",
    ")\n",
    "# FIXME: more tests needed here!"
   ]
  },
  {
   "cell_type": "code",
   "execution_count": 19,
   "id": "e1935279-8a41-4065-90db-60cb8d6cde63",
   "metadata": {},
   "outputs": [],
   "source": [
    "def rank_genes(all_genes, edges, query_gene_symbols):\n",
    "    genes_query_degrees = {}\n",
    "    genes_degrees = {}\n",
    "\n",
    "    for g in all_genes:\n",
    "        # connections to query genes\n",
    "        g_query_genes = edges[\n",
    "            ((edges[\"gene1\"] == g) & (edges[\"gene2\"].isin(query_gene_symbols)))\n",
    "            | ((edges[\"gene2\"] == g) & (edges[\"gene1\"].isin(query_gene_symbols)))\n",
    "        ]\n",
    "\n",
    "        g_query_degree = g_query_genes[\"weight\"].sum() / g_query_genes.shape[0]\n",
    "\n",
    "        # connections to all genes\n",
    "        g_all_genes = edges[(edges[\"gene1\"] == g) | (edges[\"gene2\"] == g)]\n",
    "\n",
    "        g_degree = g_all_genes[\"weight\"].sum() / g_all_genes.shape[0]\n",
    "\n",
    "        # save\n",
    "        genes_query_degrees[g] = g_query_degree\n",
    "        genes_degrees[g] = g_degree\n",
    "\n",
    "    # no degree correction\n",
    "    gene_ranks = [\n",
    "        (gene, idx)\n",
    "        for idx, (gene, weight) in enumerate(\n",
    "            sorted(genes_query_degrees.items(), key=lambda item: -item[1])\n",
    "        )\n",
    "    ]\n",
    "\n",
    "    return (\n",
    "        pd.DataFrame(gene_ranks)\n",
    "        .set_index(0)\n",
    "        .squeeze()\n",
    "        .rename(\"rank\")\n",
    "        .rename_axis(\"gene\")\n",
    "    )"
   ]
  },
  {
   "cell_type": "code",
   "execution_count": 20,
   "id": "eea94438-cd9f-4e57-a9ef-4cd61d908fe7",
   "metadata": {},
   "outputs": [],
   "source": [
    "def get_network(gene_entrezids=None, gene_symbols=None, max_genes=15):\n",
    "    if gene_entrezids is None and gene_symbols is None:\n",
    "        raise ValueError(\"No arguments provided\")\n",
    "\n",
    "    if gene_entrezids is not None:\n",
    "        if (\n",
    "            gene_entrezids[0] not in gene_entrezid_to_symbol\n",
    "            or gene_entrezids[1] not in gene_entrezid_to_symbol\n",
    "        ):\n",
    "            return None\n",
    "        gene_symbols = (\n",
    "            gene_entrezid_to_symbol[gene_entrezids[0]],\n",
    "            gene_entrezid_to_symbol[gene_entrezids[1]],\n",
    "        )\n",
    "    else:\n",
    "        gene_entrezids = gene_symbol_to_entrezid[gene_symbols[0]], gene_symbol_to_entrezid[gene_symbols[1]]\n",
    "\n",
    "    tissue_prediction = predict_tissue(gene_entrezids)\n",
    "    if tissue_prediction is None:\n",
    "        return None\n",
    "\n",
    "    print(tissue_prediction[0])\n",
    "\n",
    "    url = tissue_prediction[1] + \"network/\"\n",
    "    params = [(\"entrez\", gene_entrezids[0]), (\"entrez\", gene_entrezids[1])]\n",
    "    r = requests.get(url, params)\n",
    "    data = r.json()\n",
    "\n",
    "    mincut = data[\"mincut\"]\n",
    "    print(mincut)\n",
    "\n",
    "    temp_dir = Path(tempfile.mkdtemp(prefix=\"giant-\"))\n",
    "    genes_json_file = temp_dir / \"genes.json\"\n",
    "    edges_json_file = temp_dir / \"edges.json\"\n",
    "    with open(genes_json_file, \"w\") as gf, open(edges_json_file, \"w\") as ef:\n",
    "        json.dump(data[\"genes\"], gf)\n",
    "        json.dump(data[\"edges\"], ef)\n",
    "\n",
    "    genes = pd.read_json(genes_json_file)[\"standard_name\"]\n",
    "    edges = pd.read_json(edges_json_file)[[\"source\", \"target\", \"weight\"]]\n",
    "\n",
    "    df = edges.join(genes.rename(\"gene1\"), on=\"source\", how=\"left\").join(\n",
    "        genes.rename(\"gene2\"), on=\"target\", how=\"left\"\n",
    "    )[[\"gene1\", \"gene2\", \"weight\"]]\n",
    "\n",
    "    # df = df[df[\"weight\"] > mincut]\n",
    "\n",
    "    # prioritize genes\n",
    "    all_genes = set(df[\"gene1\"]).union(set(df[\"gene2\"]))\n",
    "    all_genes.remove(gene_symbols[0])\n",
    "    all_genes.remove(gene_symbols[1])\n",
    "\n",
    "    genes_ranks = rank_genes(all_genes, df, gene_symbols)\n",
    "    top_genes = set(genes_ranks.head(max_genes).index)\n",
    "    top_genes.update(gene_symbols)\n",
    "    df = df[(df[\"gene1\"].isin(top_genes)) & (df[\"gene2\"].isin(top_genes))]\n",
    "\n",
    "    return df[df[\"weight\"] > mincut].reset_index(drop=True)"
   ]
  },
  {
   "cell_type": "code",
   "execution_count": 21,
   "id": "daec7e31-baeb-4c0e-828c-58851b61316a",
   "metadata": {},
   "outputs": [],
   "source": [
    "# testing\n",
    "assert get_network((\"IFNG\", \"SDS\")) is None\n",
    "# TODO"
   ]
  },
  {
   "cell_type": "code",
   "execution_count": 22,
   "id": "e1ffb172-4223-4d3f-8a15-bd5eff6a015b",
   "metadata": {},
   "outputs": [
    {
     "name": "stdout",
     "output_type": "stream",
     "text": [
      "blood\n",
      "0.16794658994089195\n"
     ]
    }
   ],
   "source": [
    "gene_symbols = (\"IFNG\", \"GLIPR1\")\n",
    "df = get_network(gene_symbols=gene_symbols).round(4)\n",
    "assert df.shape[0] == 134\n",
    "\n",
    "pd.testing.assert_series_equal(\n",
    "    df.iloc[0],\n",
    "    pd.Series([\"HLA-DPA1\", \"GBP2\", 0.8386]),\n",
    "    check_names=False,\n",
    "    check_index=False,\n",
    ")\n",
    "\n",
    "pd.testing.assert_series_equal(\n",
    "    df.iloc[54],\n",
    "    pd.Series([\"LCP2\", \"CASP1\", 0.7856]),\n",
    "    check_names=False,\n",
    "    check_index=False,\n",
    ")\n",
    "\n",
    "pd.testing.assert_series_equal(\n",
    "    df.iloc[-1],\n",
    "    pd.Series([\"ITGB2\", \"HLA-DQB1\", 0.8782]),\n",
    "    check_names=False,\n",
    "    check_index=False,\n",
    ")"
   ]
  },
  {
   "cell_type": "code",
   "execution_count": 23,
   "id": "a07f7294-cc82-4980-b3fd-af7ccfcd2eb0",
   "metadata": {},
   "outputs": [
    {
     "name": "stdout",
     "output_type": "stream",
     "text": [
      "macrophage\n",
      "0.028307818501499497\n"
     ]
    }
   ],
   "source": [
    "gene_symbols = (\"ZDHHC12\", \"CCL18\")\n",
    "df = get_network(gene_symbols=gene_symbols).round(4)\n",
    "assert df.shape[0] == 129\n",
    "\n",
    "pd.testing.assert_series_equal(\n",
    "    df.iloc[0],\n",
    "    pd.Series([\"CCL3\", \"SCAMP2\", 0.1110]),\n",
    "    check_names=False,\n",
    "    check_index=False,\n",
    ")\n",
    "\n",
    "pd.testing.assert_series_equal(\n",
    "    df.iloc[72],\n",
    "    pd.Series([\"ZDHHC12\", \"CTSB\", 0.1667]),\n",
    "    check_names=False,\n",
    "    check_index=False,\n",
    ")\n",
    "\n",
    "pd.testing.assert_series_equal(\n",
    "    df.iloc[-1],\n",
    "    pd.Series([\"C1QA\", \"HLA-DQB1\", 0.4485]),\n",
    "    check_names=False,\n",
    "    check_index=False,\n",
    ")"
   ]
  },
  {
   "cell_type": "markdown",
   "id": "2071d65d-f6d3-4f64-ac28-51d7707bd602",
   "metadata": {},
   "source": [
    "# Predict tissue for each gene pair"
   ]
  },
  {
   "cell_type": "markdown",
   "id": "63058738-7a1c-4460-9541-5989711500af",
   "metadata": {},
   "source": [
    "## Clustermatch vs Pearson"
   ]
  },
  {
   "cell_type": "code",
   "execution_count": 26,
   "id": "09c0ba15-e3e6-4a38-b464-5c6b4183e94a",
   "metadata": {},
   "outputs": [
    {
     "ename": "FileNotFoundError",
     "evalue": "[Errno 2] No such file or directory: '/opt/data/results/giant/intersection_genes/clustermatch_vs_pearson.pkl'",
     "output_type": "error",
     "traceback": [
      "\u001b[0;31m---------------------------------------------------------------------------\u001b[0m",
      "\u001b[0;31mFileNotFoundError\u001b[0m                         Traceback (most recent call last)",
      "\u001b[0;32m/tmp/ipykernel_2791/1396197982.py\u001b[0m in \u001b[0;36m<module>\u001b[0;34m\u001b[0m\n\u001b[0;32m----> 1\u001b[0;31m data = pd.read_pickle(OUTPUT_DIR / \"clustermatch_vs_pearson.pkl\").sort_values(\n\u001b[0m\u001b[1;32m      2\u001b[0m     \u001b[0;34m\"clustermatch\"\u001b[0m\u001b[0;34m,\u001b[0m \u001b[0mascending\u001b[0m\u001b[0;34m=\u001b[0m\u001b[0;32mFalse\u001b[0m\u001b[0;34m\u001b[0m\u001b[0;34m\u001b[0m\u001b[0m\n\u001b[1;32m      3\u001b[0m )\n",
      "\u001b[0;32m/opt/conda/envs/clustermatch_gene_expr/lib/python3.9/site-packages/pandas/io/pickle.py\u001b[0m in \u001b[0;36mread_pickle\u001b[0;34m(filepath_or_buffer, compression, storage_options)\u001b[0m\n\u001b[1;32m    194\u001b[0m     \"\"\"\n\u001b[1;32m    195\u001b[0m     \u001b[0mexcs_to_catch\u001b[0m \u001b[0;34m=\u001b[0m \u001b[0;34m(\u001b[0m\u001b[0mAttributeError\u001b[0m\u001b[0;34m,\u001b[0m \u001b[0mImportError\u001b[0m\u001b[0;34m,\u001b[0m \u001b[0mModuleNotFoundError\u001b[0m\u001b[0;34m,\u001b[0m \u001b[0mTypeError\u001b[0m\u001b[0;34m)\u001b[0m\u001b[0;34m\u001b[0m\u001b[0;34m\u001b[0m\u001b[0m\n\u001b[0;32m--> 196\u001b[0;31m     with get_handle(\n\u001b[0m\u001b[1;32m    197\u001b[0m         \u001b[0mfilepath_or_buffer\u001b[0m\u001b[0;34m,\u001b[0m\u001b[0;34m\u001b[0m\u001b[0;34m\u001b[0m\u001b[0m\n\u001b[1;32m    198\u001b[0m         \u001b[0;34m\"rb\"\u001b[0m\u001b[0;34m,\u001b[0m\u001b[0;34m\u001b[0m\u001b[0;34m\u001b[0m\u001b[0m\n",
      "\u001b[0;32m/opt/conda/envs/clustermatch_gene_expr/lib/python3.9/site-packages/pandas/io/common.py\u001b[0m in \u001b[0;36mget_handle\u001b[0;34m(path_or_buf, mode, encoding, compression, memory_map, is_text, errors, storage_options)\u001b[0m\n\u001b[1;32m    709\u001b[0m         \u001b[0;32melse\u001b[0m\u001b[0;34m:\u001b[0m\u001b[0;34m\u001b[0m\u001b[0;34m\u001b[0m\u001b[0m\n\u001b[1;32m    710\u001b[0m             \u001b[0;31m# Binary mode\u001b[0m\u001b[0;34m\u001b[0m\u001b[0;34m\u001b[0m\u001b[0m\n\u001b[0;32m--> 711\u001b[0;31m             \u001b[0mhandle\u001b[0m \u001b[0;34m=\u001b[0m \u001b[0mopen\u001b[0m\u001b[0;34m(\u001b[0m\u001b[0mhandle\u001b[0m\u001b[0;34m,\u001b[0m \u001b[0mioargs\u001b[0m\u001b[0;34m.\u001b[0m\u001b[0mmode\u001b[0m\u001b[0;34m)\u001b[0m\u001b[0;34m\u001b[0m\u001b[0;34m\u001b[0m\u001b[0m\n\u001b[0m\u001b[1;32m    712\u001b[0m         \u001b[0mhandles\u001b[0m\u001b[0;34m.\u001b[0m\u001b[0mappend\u001b[0m\u001b[0;34m(\u001b[0m\u001b[0mhandle\u001b[0m\u001b[0;34m)\u001b[0m\u001b[0;34m\u001b[0m\u001b[0;34m\u001b[0m\u001b[0m\n\u001b[1;32m    713\u001b[0m \u001b[0;34m\u001b[0m\u001b[0m\n",
      "\u001b[0;31mFileNotFoundError\u001b[0m: [Errno 2] No such file or directory: '/opt/data/results/giant/intersection_genes/clustermatch_vs_pearson.pkl'"
     ]
    }
   ],
   "source": [
    "data = pd.read_pickle(OUTPUT_DIR / \"clustermatch_vs_pearson.pkl\").sort_values(\n",
    "    \"clustermatch\", ascending=False\n",
    ")"
   ]
  },
  {
   "cell_type": "code",
   "execution_count": 25,
   "id": "e381b0da-5c28-4c61-a6fe-c805586248ed",
   "metadata": {},
   "outputs": [
    {
     "ename": "NameError",
     "evalue": "name 'data' is not defined",
     "output_type": "error",
     "traceback": [
      "\u001b[0;31m---------------------------------------------------------------------------\u001b[0m",
      "\u001b[0;31mNameError\u001b[0m                                 Traceback (most recent call last)",
      "\u001b[0;32m/tmp/ipykernel_2791/3870928973.py\u001b[0m in \u001b[0;36m<module>\u001b[0;34m\u001b[0m\n\u001b[0;32m----> 1\u001b[0;31m \u001b[0mdata\u001b[0m\u001b[0;34m.\u001b[0m\u001b[0mhead\u001b[0m\u001b[0;34m(\u001b[0m\u001b[0;34m)\u001b[0m\u001b[0;34m\u001b[0m\u001b[0;34m\u001b[0m\u001b[0m\n\u001b[0m",
      "\u001b[0;31mNameError\u001b[0m: name 'data' is not defined"
     ]
    }
   ],
   "source": [
    "data.head()"
   ]
  },
  {
   "cell_type": "code",
   "execution_count": 52,
   "id": "83695bea-bc08-49bb-b55a-cf768144798f",
   "metadata": {},
   "outputs": [],
   "source": [
    "gene_pairs = (\n",
    "    data.reset_index()\n",
    "    .replace(\n",
    "        {\n",
    "            \"level_0\": gene_symbol_to_entrezid,\n",
    "            \"level_1\": gene_symbol_to_entrezid,\n",
    "        }\n",
    "    )[[\"level_0\", \"level_1\"]]\n",
    "    .to_records(index=False)\n",
    ")\n",
    "\n",
    "gene_pairs = list(gene_pairs)"
   ]
  },
  {
   "cell_type": "code",
   "execution_count": 53,
   "id": "d63403df-6ee2-47eb-b650-4e48e5a753a1",
   "metadata": {},
   "outputs": [
    {
     "data": {
      "text/plain": [
       "[('6903', '3458'),\n",
       " ('100129354', '871'),\n",
       " ('6362', '84885'),\n",
       " ('100129354', '9531'),\n",
       " ('11010', '3458'),\n",
       " ('100129354', '55466'),\n",
       " ('8740', '871'),\n",
       " ('283232', '3458'),\n",
       " ('56925', '3458'),\n",
       " ('100129354', '3315')]"
      ]
     },
     "execution_count": 53,
     "metadata": {},
     "output_type": "execute_result"
    }
   ],
   "source": [
    "gene_pairs[:10]"
   ]
  },
  {
   "cell_type": "code",
   "execution_count": null,
   "id": "4796cd4b-16be-44f6-8a96-56f7a5a1e6cd",
   "metadata": {},
   "outputs": [],
   "source": []
  },
  {
   "cell_type": "code",
   "execution_count": null,
   "id": "b79080ac-1b7a-4e99-87f9-fc8b0e452e69",
   "metadata": {},
   "outputs": [],
   "source": []
  },
  {
   "cell_type": "code",
   "execution_count": null,
   "id": "acb416ec-3119-4c9e-af6d-49724a0c5703",
   "metadata": {},
   "outputs": [],
   "source": []
  },
  {
   "cell_type": "code",
   "execution_count": null,
   "id": "f82eb13c-d1e1-490f-a8f2-11a9e769130f",
   "metadata": {},
   "outputs": [],
   "source": []
  },
  {
   "cell_type": "code",
   "execution_count": null,
   "id": "1f084e81-f4df-473b-bfc5-86221e9a649b",
   "metadata": {},
   "outputs": [],
   "source": []
  },
  {
   "cell_type": "markdown",
   "id": "688f8785-1c1e-456c-8961-f8bfffb05255",
   "metadata": {},
   "source": [
    "## Clustermatch vs Pearson/Spearman"
   ]
  },
  {
   "cell_type": "code",
   "execution_count": 10,
   "id": "c2dfe0e1-4f2e-437d-a5f9-7b347a74e8fd",
   "metadata": {},
   "outputs": [
    {
     "data": {
      "text/plain": [
       "2888"
      ]
     },
     "metadata": {},
     "output_type": "display_data"
    }
   ],
   "source": [
    "data = pd.read_pickle(INPUT_DIR / \"clustermatch_vs_pearson_spearman.pkl\")"
   ]
  },
  {
   "cell_type": "markdown",
   "id": "b1af54fe-0828-4fd2-ab26-3a42126e7234",
   "metadata": {},
   "source": [
    "## Clustermatch vs Spearman"
   ]
  },
  {
   "cell_type": "code",
   "execution_count": 11,
   "id": "4340702c-e615-48f4-841b-d8acff2c85ee",
   "metadata": {},
   "outputs": [
    {
     "data": {
      "text/plain": [
       "2892"
      ]
     },
     "metadata": {},
     "output_type": "display_data"
    }
   ],
   "source": [
    "data = pd.read_pickle(INPUT_DIR / \"clustermatch_vs_spearman.pkl\")"
   ]
  },
  {
   "cell_type": "markdown",
   "id": "55333a50-9e90-4188-bcd6-463fdf6e376a",
   "metadata": {},
   "source": [
    "## Pearson vs Clustermatch"
   ]
  },
  {
   "cell_type": "code",
   "execution_count": 12,
   "id": "e5666199-8607-43df-9d56-cf8ffe6d6225",
   "metadata": {},
   "outputs": [
    {
     "data": {
      "text/plain": [
       "3224"
      ]
     },
     "metadata": {},
     "output_type": "display_data"
    }
   ],
   "source": [
    "data = pd.read_pickle(INPUT_DIR / \"pearson_vs_clustermatch.pkl\")"
   ]
  },
  {
   "cell_type": "markdown",
   "id": "49047461-2c50-4c64-9aaf-9d72a22fc98e",
   "metadata": {},
   "source": [
    "## Pearson vs Clustermatch/Spearman"
   ]
  },
  {
   "cell_type": "code",
   "execution_count": 13,
   "id": "136bea44-8a8f-4b93-a294-8f041731c992",
   "metadata": {},
   "outputs": [
    {
     "data": {
      "text/plain": [
       "3243"
      ]
     },
     "metadata": {},
     "output_type": "display_data"
    }
   ],
   "source": [
    "data = pd.read_pickle(INPUT_DIR / \"pearson_vs_clustermatch_spearman.pkl\")"
   ]
  },
  {
   "cell_type": "code",
   "execution_count": null,
   "id": "e14b2d97-374a-4622-a774-551ab71f5292",
   "metadata": {},
   "outputs": [],
   "source": []
  }
 ],
 "metadata": {
  "jupytext": {
   "cell_metadata_filter": "all,-execution,-papermill,-trusted",
   "text_representation": {
    "extension": ".py",
    "format_name": "percent",
    "format_version": "1.3",
    "jupytext_version": "1.11.5"
   }
  },
  "kernelspec": {
   "display_name": "Python 3 (ipykernel)",
   "language": "python",
   "name": "python3"
  },
  "language_info": {
   "codemirror_mode": {
    "name": "ipython",
    "version": 3
   },
   "file_extension": ".py",
   "mimetype": "text/x-python",
   "name": "python",
   "nbconvert_exporter": "python",
   "pygments_lexer": "ipython3",
   "version": "3.9.9"
  },
  "papermill": {
   "default_parameters": {},
   "duration": 808.744828,
   "end_time": "2021-12-21T20:27:03.803437",
   "environment_variables": {},
   "exception": null,
   "input_path": "nbs/99_manuscript/coefs_comp/05-gtex_whole_blood-general_plots.ipynb",
   "output_path": "nbs/99_manuscript/coefs_comp/05-gtex_whole_blood-general_plots.run.ipynb",
   "parameters": {},
   "start_time": "2021-12-21T20:13:35.058609",
   "version": "2.3.3"
  },
  "toc-autonumbering": true
 },
 "nbformat": 4,
 "nbformat_minor": 5
}
