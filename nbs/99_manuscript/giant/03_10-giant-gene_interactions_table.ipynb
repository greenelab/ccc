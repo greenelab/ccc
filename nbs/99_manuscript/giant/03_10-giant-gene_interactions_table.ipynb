{
 "cells": [
  {
   "cell_type": "markdown",
   "id": "87e0ce1b-7ce6-4499-9342-5ded05307598",
   "metadata": {
    "papermill": {
     "duration": 0.007199,
     "end_time": "2024-01-03T12:30:42.962673",
     "exception": false,
     "start_time": "2024-01-03T12:30:42.955474",
     "status": "completed"
    },
    "tags": []
   },
   "source": [
    "# Description"
   ]
  },
  {
   "cell_type": "markdown",
   "id": "4bfc7115-350a-441b-9a19-7626a948a694",
   "metadata": {
    "papermill": {
     "duration": 0.005973,
     "end_time": "2024-01-03T12:30:42.979151",
     "exception": false,
     "start_time": "2024-01-03T12:30:42.973178",
     "status": "completed"
    },
    "tags": []
   },
   "source": [
    "For some gene pairs of interest, it reads the probabilities of interactions in predicted networks from GIANT.\n",
    "Then it writes networks stats in a table in a markdown file (from the manuscript).\n",
    "Two networks per gene pair are read/written: blood and an autodetected cell type (from GIANT)."
   ]
  },
  {
   "cell_type": "markdown",
   "id": "c9b77cac-5aa2-416a-8c59-fdb6a31059a6",
   "metadata": {
    "papermill": {
     "duration": 0.005964,
     "end_time": "2024-01-03T12:30:42.991136",
     "exception": false,
     "start_time": "2024-01-03T12:30:42.985172",
     "status": "completed"
    },
    "tags": []
   },
   "source": [
    "From GIANT, we use all interaction data types, the suggested minimum cut and top 15 genes for each networks (there are all default values in the GIANT web app)."
   ]
  },
  {
   "cell_type": "markdown",
   "id": "e020c781-238b-43c2-8cad-2722b8a240e2",
   "metadata": {
    "papermill": {
     "duration": 0.005961,
     "end_time": "2024-01-03T12:30:43.003142",
     "exception": false,
     "start_time": "2024-01-03T12:30:42.997181",
     "status": "completed"
    },
    "tags": []
   },
   "source": [
    "# Modules"
   ]
  },
  {
   "cell_type": "code",
   "execution_count": 1,
   "id": "a819bfbc-5009-4c68-ba8d-37d0979d368f",
   "metadata": {
    "execution": {
     "iopub.execute_input": "2024-01-03T12:30:43.016451Z",
     "iopub.status.busy": "2024-01-03T12:30:43.016036Z",
     "iopub.status.idle": "2024-01-03T12:30:43.232784Z",
     "shell.execute_reply": "2024-01-03T12:30:43.232336Z"
    },
    "papermill": {
     "duration": 0.224922,
     "end_time": "2024-01-03T12:30:43.234036",
     "exception": false,
     "start_time": "2024-01-03T12:30:43.009114",
     "status": "completed"
    },
    "tags": []
   },
   "outputs": [],
   "source": [
    "import re\n",
    "from functools import partial\n",
    "\n",
    "import pandas as pd\n",
    "\n",
    "from ccc import conf"
   ]
  },
  {
   "cell_type": "markdown",
   "id": "b4834387-58ff-468c-b326-85c408bc5feb",
   "metadata": {
    "papermill": {
     "duration": 0.003103,
     "end_time": "2024-01-03T12:30:43.240621",
     "exception": false,
     "start_time": "2024-01-03T12:30:43.237518",
     "status": "completed"
    },
    "tags": []
   },
   "source": [
    "# Settings"
   ]
  },
  {
   "cell_type": "code",
   "execution_count": 2,
   "id": "5a1b47c0-7cf9-4fc0-93ce-7ee085e20745",
   "metadata": {
    "execution": {
     "iopub.execute_input": "2024-01-03T12:30:43.247551Z",
     "iopub.status.busy": "2024-01-03T12:30:43.247447Z",
     "iopub.status.idle": "2024-01-03T12:30:43.249853Z",
     "shell.execute_reply": "2024-01-03T12:30:43.249486Z"
    },
    "papermill": {
     "duration": 0.006831,
     "end_time": "2024-01-03T12:30:43.250624",
     "exception": false,
     "start_time": "2024-01-03T12:30:43.243793",
     "status": "completed"
    },
    "tags": []
   },
   "outputs": [],
   "source": [
    "GENE_FILE_MARK_TEMPLATE = \"| *{gene}* |\""
   ]
  },
  {
   "cell_type": "code",
   "execution_count": 3,
   "id": "c482c3f8-f3f8-4917-8b54-74de1da811d7",
   "metadata": {
    "execution": {
     "iopub.execute_input": "2024-01-03T12:30:43.257617Z",
     "iopub.status.busy": "2024-01-03T12:30:43.257522Z",
     "iopub.status.idle": "2024-01-03T12:30:43.259729Z",
     "shell.execute_reply": "2024-01-03T12:30:43.259380Z"
    },
    "papermill": {
     "duration": 0.006606,
     "end_time": "2024-01-03T12:30:43.260460",
     "exception": false,
     "start_time": "2024-01-03T12:30:43.253854",
     "status": "completed"
    },
    "tags": []
   },
   "outputs": [],
   "source": [
    "GENE0_STATS_TEMPLATE = '| *{gene}* | {blood_min} | {blood_avg} | {blood_max} | {cell_type}<!-- $rowspan=\"2\" --> | {pred_min} | {pred_avg} | {pred_max} |'\n",
    "GENE1_STATS_TEMPLATE = '| *{gene}* | {blood_min} | {blood_avg} | {blood_max} | {pred_min} | {pred_avg} | {pred_max}<!-- $removenext=\"2\" --> |'"
   ]
  },
  {
   "cell_type": "markdown",
   "id": "a1159982-5dd1-4494-97d4-0674eeead1c3",
   "metadata": {
    "papermill": {
     "duration": 0.003186,
     "end_time": "2024-01-03T12:30:43.266962",
     "exception": false,
     "start_time": "2024-01-03T12:30:43.263776",
     "status": "completed"
    },
    "tags": []
   },
   "source": [
    "# Paths"
   ]
  },
  {
   "cell_type": "code",
   "execution_count": 4,
   "id": "dd2c1a3c-f2cc-4872-8d3b-27cf54946d8b",
   "metadata": {
    "execution": {
     "iopub.execute_input": "2024-01-03T12:30:43.273995Z",
     "iopub.status.busy": "2024-01-03T12:30:43.273900Z",
     "iopub.status.idle": "2024-01-03T12:30:43.276044Z",
     "shell.execute_reply": "2024-01-03T12:30:43.275694Z"
    },
    "papermill": {
     "duration": 0.006396,
     "end_time": "2024-01-03T12:30:43.276717",
     "exception": false,
     "start_time": "2024-01-03T12:30:43.270321",
     "status": "completed"
    },
    "tags": []
   },
   "outputs": [],
   "source": [
    "assert (\n",
    "    conf.MANUSCRIPT[\"BASE_DIR\"] is not None\n",
    "), \"The manuscript directory was not configured\""
   ]
  },
  {
   "cell_type": "code",
   "execution_count": 5,
   "id": "cf123256-1831-48ad-af63-513592a29156",
   "metadata": {
    "execution": {
     "iopub.execute_input": "2024-01-03T12:30:43.283749Z",
     "iopub.status.busy": "2024-01-03T12:30:43.283667Z",
     "iopub.status.idle": "2024-01-03T12:30:43.289485Z",
     "shell.execute_reply": "2024-01-03T12:30:43.289122Z"
    },
    "papermill": {
     "duration": 0.01025,
     "end_time": "2024-01-03T12:30:43.290335",
     "exception": false,
     "start_time": "2024-01-03T12:30:43.280085",
     "status": "completed"
    },
    "tags": []
   },
   "outputs": [
    {
     "data": {
      "text/plain": [
       "PosixPath('/opt/manuscript/content/20.00.supplementary_material.md')"
      ]
     },
     "metadata": {},
     "output_type": "display_data"
    }
   ],
   "source": [
    "OUTPUT_FILE_PATH = conf.MANUSCRIPT[\"CONTENT_DIR\"] / \"20.00.supplementary_material.md\"\n",
    "display(OUTPUT_FILE_PATH)\n",
    "assert OUTPUT_FILE_PATH.exists()"
   ]
  },
  {
   "cell_type": "code",
   "execution_count": 6,
   "id": "3e967e81-0d1b-4b12-968e-cd02b466b572",
   "metadata": {
    "execution": {
     "iopub.execute_input": "2024-01-03T12:30:43.297859Z",
     "iopub.status.busy": "2024-01-03T12:30:43.297543Z",
     "iopub.status.idle": "2024-01-03T12:30:43.301466Z",
     "shell.execute_reply": "2024-01-03T12:30:43.301008Z"
    },
    "papermill": {
     "duration": 0.008506,
     "end_time": "2024-01-03T12:30:43.302216",
     "exception": false,
     "start_time": "2024-01-03T12:30:43.293710",
     "status": "completed"
    },
    "tags": []
   },
   "outputs": [
    {
     "data": {
      "text/plain": [
       "PosixPath('/opt/data/results/giant/intersection_genes')"
      ]
     },
     "metadata": {},
     "output_type": "display_data"
    }
   ],
   "source": [
    "INPUT_DIR = conf.GIANT[\"RESULTS_DIR\"] / \"intersection_genes\"\n",
    "display(INPUT_DIR)\n",
    "\n",
    "assert INPUT_DIR.exists()"
   ]
  },
  {
   "cell_type": "markdown",
   "id": "f6d3322b-c8bb-4fc2-97b6-5bb1793b1577",
   "metadata": {
    "papermill": {
     "duration": 0.00327,
     "end_time": "2024-01-03T12:30:43.308914",
     "exception": false,
     "start_time": "2024-01-03T12:30:43.305644",
     "status": "completed"
    },
    "tags": []
   },
   "source": [
    "# Functions"
   ]
  },
  {
   "cell_type": "code",
   "execution_count": 7,
   "id": "0ef97687-82fc-492c-bc7c-32dea9a08604",
   "metadata": {
    "execution": {
     "iopub.execute_input": "2024-01-03T12:30:43.316552Z",
     "iopub.status.busy": "2024-01-03T12:30:43.316235Z",
     "iopub.status.idle": "2024-01-03T12:30:43.323746Z",
     "shell.execute_reply": "2024-01-03T12:30:43.323283Z"
    },
    "papermill": {
     "duration": 0.012164,
     "end_time": "2024-01-03T12:30:43.324484",
     "exception": false,
     "start_time": "2024-01-03T12:30:43.312320",
     "status": "completed"
    },
    "tags": []
   },
   "outputs": [],
   "source": [
    "def read_data(gene0, gene1, tissue_name=None, return_predicted_tissue=False):\n",
    "    \"\"\"\n",
    "    Given a pair of genes, it returns the GIANT network data.\n",
    "    If tissue_name is not None, it specifies the name of the tissue.\n",
    "    If None, it means the autodetected tissue/cell type.\n",
    "    \"\"\"\n",
    "    tissue_suffix = f\"-{tissue_name}\" if tissue_name is not None else \"\"\n",
    "\n",
    "    file_pattern = f\"???-{gene0.lower()}_{gene1.lower()}{tissue_suffix}.h5\"\n",
    "    files = list(INPUT_DIR.rglob(file_pattern))\n",
    "    if len(files) == 0:\n",
    "        file_pattern = f\"???-{gene1.lower()}_{gene0.lower()}{tissue_suffix}.h5\"\n",
    "        files = list(INPUT_DIR.rglob(file_pattern))\n",
    "\n",
    "    assert len(files) == 1, len(files)\n",
    "    input_filepath = files[0]\n",
    "    assert input_filepath.exists()\n",
    "\n",
    "    data = pd.read_hdf(input_filepath, key=\"data\")\n",
    "\n",
    "    assert (\n",
    "        (gene0 in data[\"gene1\"].unique()) or (gene0 in data[\"gene2\"].unique())\n",
    "    ) and ((gene1 in data[\"gene1\"].unique()) or (gene1 in data[\"gene2\"].unique()))\n",
    "\n",
    "    if return_predicted_tissue:\n",
    "        return data, pd.read_hdf(input_filepath, key=\"metadata\").iloc[0][\"tissue\"]\n",
    "\n",
    "    return data"
   ]
  },
  {
   "cell_type": "code",
   "execution_count": 8,
   "id": "f0014bcb-0f81-4f7e-afaa-fe97ee644655",
   "metadata": {
    "execution": {
     "iopub.execute_input": "2024-01-03T12:30:43.332109Z",
     "iopub.status.busy": "2024-01-03T12:30:43.331794Z",
     "iopub.status.idle": "2024-01-03T12:30:43.416659Z",
     "shell.execute_reply": "2024-01-03T12:30:43.416257Z"
    },
    "papermill": {
     "duration": 0.089995,
     "end_time": "2024-01-03T12:30:43.417900",
     "exception": false,
     "start_time": "2024-01-03T12:30:43.327905",
     "status": "completed"
    },
    "tags": []
   },
   "outputs": [
    {
     "data": {
      "text/plain": [
       "(127, 3)"
      ]
     },
     "metadata": {},
     "output_type": "display_data"
    },
    {
     "data": {
      "text/plain": [
       "(124, 3)"
      ]
     },
     "metadata": {},
     "output_type": "display_data"
    }
   ],
   "source": [
    "# testing\n",
    "_tmp0 = read_data(\"IFNG\", \"SDS\", \"blood\")\n",
    "assert _tmp0.shape[0] == 127\n",
    "display(_tmp0.shape)\n",
    "\n",
    "_tmp1 = read_data(\"IFNG\", \"SDS\")\n",
    "assert _tmp1.shape[0] == 124\n",
    "display(_tmp1.shape)\n",
    "\n",
    "_tmp1_tissue = read_data(\"IFNG\", \"SDS\", return_predicted_tissue=True)[1]\n",
    "assert _tmp1_tissue == \"natural-killer-cell\"\n",
    "\n",
    "_tmp10 = read_data(\"PRSS36\", \"CCL18\")\n",
    "assert _tmp10.shape[0] > 1\n",
    "_tmp11 = read_data(\"CCL18\", \"PRSS36\")\n",
    "assert _tmp11.shape == _tmp10.shape"
   ]
  },
  {
   "cell_type": "code",
   "execution_count": 9,
   "id": "9be69bf7-5326-417b-8bb5-5732d8266573",
   "metadata": {
    "execution": {
     "iopub.execute_input": "2024-01-03T12:30:43.431869Z",
     "iopub.status.busy": "2024-01-03T12:30:43.431768Z",
     "iopub.status.idle": "2024-01-03T12:30:43.434143Z",
     "shell.execute_reply": "2024-01-03T12:30:43.433799Z"
    },
    "papermill": {
     "duration": 0.010622,
     "end_time": "2024-01-03T12:30:43.435303",
     "exception": false,
     "start_time": "2024-01-03T12:30:43.424681",
     "status": "completed"
    },
    "tags": []
   },
   "outputs": [],
   "source": [
    "def format_number(number):\n",
    "    return f\"{number:.2f}\""
   ]
  },
  {
   "cell_type": "code",
   "execution_count": 10,
   "id": "8dce726a-8601-43e4-8d48-10fbf40e8149",
   "metadata": {
    "execution": {
     "iopub.execute_input": "2024-01-03T12:30:43.449497Z",
     "iopub.status.busy": "2024-01-03T12:30:43.449263Z",
     "iopub.status.idle": "2024-01-03T12:30:43.451385Z",
     "shell.execute_reply": "2024-01-03T12:30:43.451044Z"
    },
    "papermill": {
     "duration": 0.010372,
     "end_time": "2024-01-03T12:30:43.452569",
     "exception": false,
     "start_time": "2024-01-03T12:30:43.442197",
     "status": "completed"
    },
    "tags": []
   },
   "outputs": [],
   "source": [
    "# testing\n",
    "assert format_number(0.222222) == \"0.22\"\n",
    "assert format_number(0.225222) == \"0.23\""
   ]
  },
  {
   "cell_type": "code",
   "execution_count": 11,
   "id": "b2694a72-9e9b-4b9e-97ae-5eec0cde9bfb",
   "metadata": {
    "execution": {
     "iopub.execute_input": "2024-01-03T12:30:43.466860Z",
     "iopub.status.busy": "2024-01-03T12:30:43.466571Z",
     "iopub.status.idle": "2024-01-03T12:30:43.468958Z",
     "shell.execute_reply": "2024-01-03T12:30:43.468593Z"
    },
    "papermill": {
     "duration": 0.010729,
     "end_time": "2024-01-03T12:30:43.470142",
     "exception": false,
     "start_time": "2024-01-03T12:30:43.459413",
     "status": "completed"
    },
    "tags": []
   },
   "outputs": [],
   "source": [
    "def get_gene_stats(df, gene_name):\n",
    "    \"\"\"\n",
    "    Returns stats of interaction probabilities for a gene in data.\n",
    "    \"\"\"\n",
    "    gene_data = df[(df[\"gene1\"] == gene_name) | (df[\"gene2\"] == gene_name)]\n",
    "    return gene_data.describe().squeeze()"
   ]
  },
  {
   "cell_type": "code",
   "execution_count": 12,
   "id": "b3649ce0-91e8-44c8-9c12-1bfddbeeaadc",
   "metadata": {
    "execution": {
     "iopub.execute_input": "2024-01-03T12:30:43.484693Z",
     "iopub.status.busy": "2024-01-03T12:30:43.484459Z",
     "iopub.status.idle": "2024-01-03T12:30:43.492109Z",
     "shell.execute_reply": "2024-01-03T12:30:43.491644Z"
    },
    "papermill": {
     "duration": 0.016272,
     "end_time": "2024-01-03T12:30:43.493425",
     "exception": false,
     "start_time": "2024-01-03T12:30:43.477153",
     "status": "completed"
    },
    "tags": []
   },
   "outputs": [],
   "source": [
    "# testing\n",
    "_tmp0_stats = get_gene_stats(_tmp0, \"IFNG\")\n",
    "assert _tmp0_stats[\"min\"].round(2) == 0.19\n",
    "assert _tmp0_stats[\"mean\"].round(2) == 0.42\n",
    "assert _tmp0_stats[\"max\"].round(2) == 0.54"
   ]
  },
  {
   "cell_type": "code",
   "execution_count": 13,
   "id": "3074b1a9-a988-41bd-8c93-37ee4a73dd6c",
   "metadata": {
    "execution": {
     "iopub.execute_input": "2024-01-03T12:30:43.508129Z",
     "iopub.status.busy": "2024-01-03T12:30:43.507754Z",
     "iopub.status.idle": "2024-01-03T12:30:43.512474Z",
     "shell.execute_reply": "2024-01-03T12:30:43.511977Z"
    },
    "papermill": {
     "duration": 0.013416,
     "end_time": "2024-01-03T12:30:43.513747",
     "exception": false,
     "start_time": "2024-01-03T12:30:43.500331",
     "status": "completed"
    },
    "tags": []
   },
   "outputs": [],
   "source": [
    "def get_gene_content(blood_stats, pred_stats, gene_name, gene_template, cell_type=None):\n",
    "    \"\"\"\n",
    "    Returns a string (from a template) with the data fields filled in.\n",
    "    \"\"\"\n",
    "    s = partial(\n",
    "        gene_template.format,\n",
    "        gene=gene_name,\n",
    "        blood_min=format_number(blood_stats[\"min\"]),\n",
    "        blood_avg=format_number(blood_stats[\"mean\"]),\n",
    "        blood_max=format_number(blood_stats[\"max\"]),\n",
    "        pred_min=format_number(pred_stats[\"min\"]),\n",
    "        pred_avg=format_number(pred_stats[\"mean\"]),\n",
    "        pred_max=format_number(pred_stats[\"max\"]),\n",
    "    )\n",
    "\n",
    "    if \"{cell_type}\" in gene_template and cell_type is not None:\n",
    "        return s(cell_type=cell_type)\n",
    "\n",
    "    return s()"
   ]
  },
  {
   "cell_type": "code",
   "execution_count": 14,
   "id": "e30b7fce-2c50-4f70-b9b9-bf824be08f59",
   "metadata": {
    "execution": {
     "iopub.execute_input": "2024-01-03T12:30:43.528466Z",
     "iopub.status.busy": "2024-01-03T12:30:43.528179Z",
     "iopub.status.idle": "2024-01-03T12:30:43.531632Z",
     "shell.execute_reply": "2024-01-03T12:30:43.531152Z"
    },
    "papermill": {
     "duration": 0.012147,
     "end_time": "2024-01-03T12:30:43.532877",
     "exception": false,
     "start_time": "2024-01-03T12:30:43.520730",
     "status": "completed"
    },
    "tags": []
   },
   "outputs": [],
   "source": [
    "# testing\n",
    "_tmp_gene_cont = get_gene_content(\n",
    "    _tmp0_stats, _tmp0_stats, \"IFNG\", GENE0_STATS_TEMPLATE, \"blood\"\n",
    ")\n",
    "assert \"IFNG\" in _tmp_gene_cont\n",
    "assert \"0.19\" in _tmp_gene_cont\n",
    "assert \"0.42\" in _tmp_gene_cont\n",
    "assert \"0.54\" in _tmp_gene_cont\n",
    "assert \"blood\" in _tmp_gene_cont"
   ]
  },
  {
   "cell_type": "code",
   "execution_count": 15,
   "id": "2aab6f1c-08e8-48ba-acda-0d78ec613a49",
   "metadata": {
    "execution": {
     "iopub.execute_input": "2024-01-03T12:30:43.547833Z",
     "iopub.status.busy": "2024-01-03T12:30:43.547548Z",
     "iopub.status.idle": "2024-01-03T12:30:43.550747Z",
     "shell.execute_reply": "2024-01-03T12:30:43.550302Z"
    },
    "papermill": {
     "duration": 0.012034,
     "end_time": "2024-01-03T12:30:43.551929",
     "exception": false,
     "start_time": "2024-01-03T12:30:43.539895",
     "status": "completed"
    },
    "tags": []
   },
   "outputs": [],
   "source": [
    "# testing\n",
    "_tmp_gene_cont = get_gene_content(\n",
    "    _tmp0_stats, _tmp0_stats, \"IFNG\", GENE1_STATS_TEMPLATE\n",
    ")\n",
    "assert \"IFNG\" in _tmp_gene_cont\n",
    "assert \"0.19\" in _tmp_gene_cont\n",
    "assert \"0.42\" in _tmp_gene_cont\n",
    "assert \"0.54\" in _tmp_gene_cont"
   ]
  },
  {
   "cell_type": "code",
   "execution_count": 16,
   "id": "ea2f5ca7-14b7-4d8d-8460-80d764413987",
   "metadata": {
    "execution": {
     "iopub.execute_input": "2024-01-03T12:30:43.565948Z",
     "iopub.status.busy": "2024-01-03T12:30:43.565650Z",
     "iopub.status.idle": "2024-01-03T12:30:43.569070Z",
     "shell.execute_reply": "2024-01-03T12:30:43.568593Z"
    },
    "papermill": {
     "duration": 0.010857,
     "end_time": "2024-01-03T12:30:43.569848",
     "exception": false,
     "start_time": "2024-01-03T12:30:43.558991",
     "status": "completed"
    },
    "tags": []
   },
   "outputs": [],
   "source": [
    "# testing\n",
    "_tmp_gene_cont = get_gene_content(\n",
    "    _tmp0_stats, _tmp0_stats, \"IFNG\", GENE1_STATS_TEMPLATE, \"blood\"\n",
    ")\n",
    "assert \"IFNG\" in _tmp_gene_cont\n",
    "assert \"0.19\" in _tmp_gene_cont\n",
    "assert \"0.42\" in _tmp_gene_cont\n",
    "assert \"0.54\" in _tmp_gene_cont\n",
    "assert \"blood\" not in _tmp_gene_cont"
   ]
  },
  {
   "cell_type": "code",
   "execution_count": 17,
   "id": "239586f7-0211-4151-9be2-28236879e1cb",
   "metadata": {
    "execution": {
     "iopub.execute_input": "2024-01-03T12:30:43.578004Z",
     "iopub.status.busy": "2024-01-03T12:30:43.577626Z",
     "iopub.status.idle": "2024-01-03T12:30:43.581825Z",
     "shell.execute_reply": "2024-01-03T12:30:43.581364Z"
    },
    "papermill": {
     "duration": 0.009036,
     "end_time": "2024-01-03T12:30:43.582567",
     "exception": false,
     "start_time": "2024-01-03T12:30:43.573531",
     "status": "completed"
    },
    "tags": []
   },
   "outputs": [],
   "source": [
    "def write_content(gene0_text, gene1_text, text_replacement):\n",
    "    \"\"\"\n",
    "    It writes the table content in the output file.\n",
    "    \"\"\"\n",
    "    with open(OUTPUT_FILE_PATH, \"r\", encoding=\"utf8\") as f:\n",
    "        file_content = f.read()\n",
    "\n",
    "    new_file_content = re.sub(\n",
    "        re.escape(gene0_text) + \".+\\n\" + re.escape(gene1_text) + \".+\\n\",\n",
    "        text_replacement,\n",
    "        file_content,\n",
    "        # flags=re.DOTALL,\n",
    "    )\n",
    "\n",
    "    with open(OUTPUT_FILE_PATH, \"w\", encoding=\"utf8\") as f:\n",
    "        f.write(new_file_content)"
   ]
  },
  {
   "cell_type": "code",
   "execution_count": 18,
   "id": "ce1d7154-5569-4854-b5f8-f59c39521f92",
   "metadata": {
    "execution": {
     "iopub.execute_input": "2024-01-03T12:30:43.590882Z",
     "iopub.status.busy": "2024-01-03T12:30:43.590476Z",
     "iopub.status.idle": "2024-01-03T12:30:43.593803Z",
     "shell.execute_reply": "2024-01-03T12:30:43.593347Z"
    },
    "papermill": {
     "duration": 0.008317,
     "end_time": "2024-01-03T12:30:43.594577",
     "exception": false,
     "start_time": "2024-01-03T12:30:43.586260",
     "status": "completed"
    },
    "tags": []
   },
   "outputs": [],
   "source": [
    "def format_tissue_name(tissue_name):\n",
    "    s = \" \".join(tissue_name.split(\"-\"))\n",
    "    s = list(s)\n",
    "    s[0] = s[0].upper()\n",
    "    return \"\".join(s)"
   ]
  },
  {
   "cell_type": "code",
   "execution_count": 19,
   "id": "a2a11d86-791b-4f49-b89b-8ec1ef8a1ca8",
   "metadata": {
    "execution": {
     "iopub.execute_input": "2024-01-03T12:30:43.623168Z",
     "iopub.status.busy": "2024-01-03T12:30:43.622801Z",
     "iopub.status.idle": "2024-01-03T12:30:43.625638Z",
     "shell.execute_reply": "2024-01-03T12:30:43.625149Z"
    },
    "papermill": {
     "duration": 0.007953,
     "end_time": "2024-01-03T12:30:43.626359",
     "exception": false,
     "start_time": "2024-01-03T12:30:43.618406",
     "status": "completed"
    },
    "tags": []
   },
   "outputs": [],
   "source": [
    "# testing\n",
    "assert format_tissue_name(\"blood\") == \"Blood\"\n",
    "assert format_tissue_name(\"natural-killer-cell\") == \"Natural killer cell\""
   ]
  },
  {
   "cell_type": "code",
   "execution_count": 20,
   "id": "3260f057-404e-40d4-ac87-06ec07de4f17",
   "metadata": {
    "execution": {
     "iopub.execute_input": "2024-01-03T12:30:43.634799Z",
     "iopub.status.busy": "2024-01-03T12:30:43.634445Z",
     "iopub.status.idle": "2024-01-03T12:30:43.641363Z",
     "shell.execute_reply": "2024-01-03T12:30:43.640899Z"
    },
    "papermill": {
     "duration": 0.012114,
     "end_time": "2024-01-03T12:30:43.642265",
     "exception": false,
     "start_time": "2024-01-03T12:30:43.630151",
     "status": "completed"
    },
    "tags": []
   },
   "outputs": [],
   "source": [
    "def process_genes(gene0, gene1):\n",
    "    \"\"\"\n",
    "    Given a gene pair, it updates a table in a Markdown file with statistics on their network data (GIANT),\n",
    "    (such as network connectivity stats).\n",
    "    \"\"\"\n",
    "    data_blood = read_data(gene0, gene1, \"blood\")\n",
    "    data_pred, pred_tissue = read_data(gene0, gene1, return_predicted_tissue=True)\n",
    "\n",
    "    # gene0\n",
    "    gene_name, gene_template = (gene0, GENE0_STATS_TEMPLATE)\n",
    "    blood_stats = get_gene_stats(data_blood, gene_name).rename(f\"{gene_name} - blood\")\n",
    "    display(blood_stats)\n",
    "\n",
    "    pred_stats = get_gene_stats(data_pred, gene_name).rename(f\"{gene_name} - pred\")\n",
    "    display(pred_stats)\n",
    "\n",
    "    new_content = (\n",
    "        get_gene_content(\n",
    "            blood_stats,\n",
    "            pred_stats,\n",
    "            gene_name,\n",
    "            gene_template,\n",
    "            format_tissue_name(pred_tissue),\n",
    "        )\n",
    "        + \"\\n\"\n",
    "    )\n",
    "\n",
    "    gene0_old_match = GENE_FILE_MARK_TEMPLATE.format(gene=gene_name)\n",
    "\n",
    "    # gene1\n",
    "    gene_name, gene_template = (gene1, GENE1_STATS_TEMPLATE)\n",
    "    blood_stats = get_gene_stats(data_blood, gene_name).rename(f\"{gene_name} - blood\")\n",
    "    display(blood_stats)\n",
    "\n",
    "    pred_stats = get_gene_stats(data_pred, gene_name).rename(f\"{gene_name} - pred\")\n",
    "    display(pred_stats)\n",
    "\n",
    "    new_content = new_content + (\n",
    "        get_gene_content(\n",
    "            blood_stats,\n",
    "            pred_stats,\n",
    "            gene_name,\n",
    "            gene_template,\n",
    "            format_tissue_name(pred_tissue),\n",
    "        )\n",
    "        + \"\\n\"\n",
    "    )\n",
    "\n",
    "    gene1_old_match = GENE_FILE_MARK_TEMPLATE.format(gene=gene_name)\n",
    "\n",
    "    write_content(gene0_old_match, gene1_old_match, new_content)"
   ]
  },
  {
   "cell_type": "markdown",
   "id": "1ecaa077-204d-4eaf-b723-a8e6ad60bc75",
   "metadata": {
    "papermill": {
     "duration": 0.003717,
     "end_time": "2024-01-03T12:30:43.649782",
     "exception": false,
     "start_time": "2024-01-03T12:30:43.646065",
     "status": "completed"
    },
    "tags": []
   },
   "source": [
    "# Run"
   ]
  },
  {
   "cell_type": "markdown",
   "id": "af03ec82-127b-436c-9bb3-826046045758",
   "metadata": {
    "papermill": {
     "duration": 0.003676,
     "end_time": "2024-01-03T12:30:43.657273",
     "exception": false,
     "start_time": "2024-01-03T12:30:43.653597",
     "status": "completed"
    },
    "tags": []
   },
   "source": [
    "Here I update the table for some gene pairs of interest in the manuscript."
   ]
  },
  {
   "cell_type": "markdown",
   "id": "a4180219-5a3c-4861-913f-1722795c83ef",
   "metadata": {
    "papermill": {
     "duration": 0.003779,
     "end_time": "2024-01-03T12:30:43.664798",
     "exception": false,
     "start_time": "2024-01-03T12:30:43.661019",
     "status": "completed"
    },
    "tags": []
   },
   "source": [
    "## IFNG - SDS"
   ]
  },
  {
   "cell_type": "code",
   "execution_count": 21,
   "id": "36207f4f-30ba-47c3-bf85-d3eb89ea5068",
   "metadata": {
    "execution": {
     "iopub.execute_input": "2024-01-03T12:30:43.673337Z",
     "iopub.status.busy": "2024-01-03T12:30:43.672906Z",
     "iopub.status.idle": "2024-01-03T12:30:43.735531Z",
     "shell.execute_reply": "2024-01-03T12:30:43.735030Z"
    },
    "papermill": {
     "duration": 0.067793,
     "end_time": "2024-01-03T12:30:43.736339",
     "exception": false,
     "start_time": "2024-01-03T12:30:43.668546",
     "status": "completed"
    },
    "tags": []
   },
   "outputs": [
    {
     "data": {
      "text/plain": [
       "count    15.000000\n",
       "mean      0.416329\n",
       "std       0.084663\n",
       "min       0.186702\n",
       "25%       0.384790\n",
       "50%       0.416825\n",
       "75%       0.466691\n",
       "max       0.539424\n",
       "Name: IFNG - blood, dtype: float64"
      ]
     },
     "metadata": {},
     "output_type": "display_data"
    },
    {
     "data": {
      "text/plain": [
       "count    15.000000\n",
       "mean      0.895806\n",
       "std       0.087539\n",
       "min       0.742973\n",
       "25%       0.831290\n",
       "50%       0.920374\n",
       "75%       0.972659\n",
       "max       0.990921\n",
       "Name: IFNG - pred, dtype: float64"
      ]
     },
     "metadata": {},
     "output_type": "display_data"
    },
    {
     "data": {
      "text/plain": [
       "count    7.000000\n",
       "mean     0.287983\n",
       "std      0.073519\n",
       "min      0.180309\n",
       "25%      0.253745\n",
       "50%      0.274899\n",
       "75%      0.319880\n",
       "max      0.413422\n",
       "Name: SDS - blood, dtype: float64"
      ]
     },
     "metadata": {},
     "output_type": "display_data"
    },
    {
     "data": {
      "text/plain": [
       "count    13.000000\n",
       "mean      0.805204\n",
       "std       0.099726\n",
       "min       0.645825\n",
       "25%       0.762556\n",
       "50%       0.812201\n",
       "75%       0.867130\n",
       "max       0.944408\n",
       "Name: SDS - pred, dtype: float64"
      ]
     },
     "metadata": {},
     "output_type": "display_data"
    }
   ],
   "source": [
    "process_genes(\"IFNG\", \"SDS\")"
   ]
  },
  {
   "cell_type": "markdown",
   "id": "2698e543-ab6b-4864-b3da-0291bad13434",
   "metadata": {
    "papermill": {
     "duration": 0.003877,
     "end_time": "2024-01-03T12:30:43.744210",
     "exception": false,
     "start_time": "2024-01-03T12:30:43.740333",
     "status": "completed"
    },
    "tags": []
   },
   "source": [
    "## PRSS36 - CCL18"
   ]
  },
  {
   "cell_type": "code",
   "execution_count": 22,
   "id": "a1c1118a-071f-403c-aa18-834810b456ec",
   "metadata": {
    "execution": {
     "iopub.execute_input": "2024-01-03T12:30:43.753207Z",
     "iopub.status.busy": "2024-01-03T12:30:43.752697Z",
     "iopub.status.idle": "2024-01-03T12:30:43.804960Z",
     "shell.execute_reply": "2024-01-03T12:30:43.804564Z"
    },
    "papermill": {
     "duration": 0.057984,
     "end_time": "2024-01-03T12:30:43.806169",
     "exception": false,
     "start_time": "2024-01-03T12:30:43.748185",
     "status": "completed"
    },
    "tags": []
   },
   "outputs": [
    {
     "data": {
      "text/plain": [
       "count    11.000000\n",
       "mean      0.098798\n",
       "std       0.023163\n",
       "min       0.071462\n",
       "25%       0.083544\n",
       "50%       0.090087\n",
       "75%       0.110335\n",
       "max       0.141485\n",
       "Name: PRSS36 - blood, dtype: float64"
      ]
     },
     "metadata": {},
     "output_type": "display_data"
    },
    {
     "data": {
      "text/plain": [
       "count    11.000000\n",
       "mean      0.053890\n",
       "std       0.013835\n",
       "min       0.035443\n",
       "25%       0.041956\n",
       "50%       0.058732\n",
       "75%       0.060471\n",
       "max       0.082049\n",
       "Name: PRSS36 - pred, dtype: float64"
      ]
     },
     "metadata": {},
     "output_type": "display_data"
    },
    {
     "data": {
      "text/plain": [
       "count    16.000000\n",
       "mean      0.735091\n",
       "std       0.182433\n",
       "min       0.071462\n",
       "25%       0.748864\n",
       "50%       0.784038\n",
       "75%       0.804505\n",
       "max       0.855855\n",
       "Name: CCL18 - blood, dtype: float64"
      ]
     },
     "metadata": {},
     "output_type": "display_data"
    },
    {
     "data": {
      "text/plain": [
       "count    16.000000\n",
       "mean      0.689526\n",
       "std       0.183743\n",
       "min       0.053119\n",
       "25%       0.667870\n",
       "50%       0.726080\n",
       "75%       0.781688\n",
       "max       0.901092\n",
       "Name: CCL18 - pred, dtype: float64"
      ]
     },
     "metadata": {},
     "output_type": "display_data"
    }
   ],
   "source": [
    "process_genes(\"PRSS36\", \"CCL18\")"
   ]
  },
  {
   "cell_type": "markdown",
   "id": "aa0eb58a-f279-455f-ba4d-000f9b54615c",
   "metadata": {
    "papermill": {
     "duration": 0.007726,
     "end_time": "2024-01-03T12:30:43.822093",
     "exception": false,
     "start_time": "2024-01-03T12:30:43.814367",
     "status": "completed"
    },
    "tags": []
   },
   "source": [
    "## UTY - KDM6A"
   ]
  },
  {
   "cell_type": "code",
   "execution_count": 23,
   "id": "23322a9f-7b5e-4a02-a270-116698d2bbc4",
   "metadata": {
    "execution": {
     "iopub.execute_input": "2024-01-03T12:30:43.838641Z",
     "iopub.status.busy": "2024-01-03T12:30:43.838536Z",
     "iopub.status.idle": "2024-01-03T12:30:43.871377Z",
     "shell.execute_reply": "2024-01-03T12:30:43.870986Z"
    },
    "papermill": {
     "duration": 0.042492,
     "end_time": "2024-01-03T12:30:43.872593",
     "exception": false,
     "start_time": "2024-01-03T12:30:43.830101",
     "status": "completed"
    },
    "tags": []
   },
   "outputs": [
    {
     "data": {
      "text/plain": [
       "count    12.000000\n",
       "mean      0.364744\n",
       "std       0.349849\n",
       "min       0.028706\n",
       "25%       0.033048\n",
       "50%       0.279625\n",
       "75%       0.689936\n",
       "max       0.841813\n",
       "Name: UTY - blood, dtype: float64"
      ]
     },
     "metadata": {},
     "output_type": "display_data"
    },
    {
     "data": {
      "text/plain": [
       "count    8.000000\n",
       "mean     0.026860\n",
       "std      0.009897\n",
       "min      0.013992\n",
       "25%      0.018840\n",
       "50%      0.026702\n",
       "75%      0.032803\n",
       "max      0.043308\n",
       "Name: UTY - pred, dtype: float64"
      ]
     },
     "metadata": {},
     "output_type": "display_data"
    },
    {
     "data": {
      "text/plain": [
       "count    11.000000\n",
       "mean      0.424317\n",
       "std       0.197021\n",
       "min       0.032555\n",
       "25%       0.450170\n",
       "50%       0.490905\n",
       "75%       0.533079\n",
       "max       0.577282\n",
       "Name: KDM6A - blood, dtype: float64"
      ]
     },
     "metadata": {},
     "output_type": "display_data"
    },
    {
     "data": {
      "text/plain": [
       "count    16.000000\n",
       "mean      0.382091\n",
       "std       0.117187\n",
       "min       0.035619\n",
       "25%       0.361125\n",
       "50%       0.375271\n",
       "75%       0.400988\n",
       "max       0.605991\n",
       "Name: KDM6A - pred, dtype: float64"
      ]
     },
     "metadata": {},
     "output_type": "display_data"
    }
   ],
   "source": [
    "process_genes(\"UTY\", \"KDM6A\")"
   ]
  },
  {
   "cell_type": "markdown",
   "id": "4f0ff4a5-fd04-4006-88d0-e275cb9d058f",
   "metadata": {
    "papermill": {
     "duration": 0.008391,
     "end_time": "2024-01-03T12:30:43.889567",
     "exception": false,
     "start_time": "2024-01-03T12:30:43.881176",
     "status": "completed"
    },
    "tags": []
   },
   "source": [
    "## DDX3Y - KDM6A"
   ]
  },
  {
   "cell_type": "code",
   "execution_count": 24,
   "id": "a6b6bc3f-0593-4216-bc4f-15512fc0a172",
   "metadata": {
    "execution": {
     "iopub.execute_input": "2024-01-03T12:30:43.906812Z",
     "iopub.status.busy": "2024-01-03T12:30:43.906726Z",
     "iopub.status.idle": "2024-01-03T12:30:43.938207Z",
     "shell.execute_reply": "2024-01-03T12:30:43.937826Z"
    },
    "papermill": {
     "duration": 0.041432,
     "end_time": "2024-01-03T12:30:43.939409",
     "exception": false,
     "start_time": "2024-01-03T12:30:43.897977",
     "status": "completed"
    },
    "tags": []
   },
   "outputs": [
    {
     "data": {
      "text/plain": [
       "count    12.000000\n",
       "mean      0.329387\n",
       "std       0.320418\n",
       "min       0.052588\n",
       "25%       0.063631\n",
       "50%       0.099080\n",
       "75%       0.639423\n",
       "max       0.779259\n",
       "Name: DDX3Y - blood, dtype: float64"
      ]
     },
     "metadata": {},
     "output_type": "display_data"
    },
    {
     "data": {
      "text/plain": [
       "count    7.000000\n",
       "mean     0.114175\n",
       "std      0.037560\n",
       "min      0.066251\n",
       "25%      0.091901\n",
       "50%      0.109789\n",
       "75%      0.129124\n",
       "max      0.181132\n",
       "Name: DDX3Y - pred, dtype: float64"
      ]
     },
     "metadata": {},
     "output_type": "display_data"
    },
    {
     "data": {
      "text/plain": [
       "count    10.000000\n",
       "mean      0.505220\n",
       "std       0.047750\n",
       "min       0.429831\n",
       "25%       0.475295\n",
       "50%       0.505804\n",
       "75%       0.533458\n",
       "max       0.577282\n",
       "Name: KDM6A - blood, dtype: float64"
      ]
     },
     "metadata": {},
     "output_type": "display_data"
    },
    {
     "data": {
      "text/plain": [
       "count    15.000000\n",
       "mean      0.336037\n",
       "std       0.054447\n",
       "min       0.267148\n",
       "25%       0.291450\n",
       "50%       0.345921\n",
       "75%       0.360573\n",
       "max       0.477126\n",
       "Name: KDM6A - pred, dtype: float64"
      ]
     },
     "metadata": {},
     "output_type": "display_data"
    }
   ],
   "source": [
    "process_genes(\"DDX3Y\", \"KDM6A\")"
   ]
  },
  {
   "cell_type": "markdown",
   "id": "0c2be3d2-7630-4e7e-8c07-1e66b86a87b8",
   "metadata": {
    "papermill": {
     "duration": 0.008764,
     "end_time": "2024-01-03T12:30:43.957082",
     "exception": false,
     "start_time": "2024-01-03T12:30:43.948318",
     "status": "completed"
    },
    "tags": []
   },
   "source": [
    "## RASSF2 - CYTIP"
   ]
  },
  {
   "cell_type": "code",
   "execution_count": 25,
   "id": "6704cb26-f112-49f8-b26e-45ff6455bcb4",
   "metadata": {
    "execution": {
     "iopub.execute_input": "2024-01-03T12:30:43.975302Z",
     "iopub.status.busy": "2024-01-03T12:30:43.975201Z",
     "iopub.status.idle": "2024-01-03T12:30:44.018933Z",
     "shell.execute_reply": "2024-01-03T12:30:44.018480Z"
    },
    "papermill": {
     "duration": 0.05421,
     "end_time": "2024-01-03T12:30:44.020189",
     "exception": false,
     "start_time": "2024-01-03T12:30:43.965979",
     "status": "completed"
    },
    "tags": []
   },
   "outputs": [
    {
     "data": {
      "text/plain": [
       "count    13.000000\n",
       "mean      0.773071\n",
       "std       0.060301\n",
       "min       0.689823\n",
       "25%       0.718106\n",
       "50%       0.772075\n",
       "75%       0.798691\n",
       "max       0.901809\n",
       "Name: RASSF2 - blood, dtype: float64"
      ]
     },
     "metadata": {},
     "output_type": "display_data"
    },
    {
     "data": {
      "text/plain": [
       "count    14.000000\n",
       "mean      0.744624\n",
       "std       0.057027\n",
       "min       0.662964\n",
       "25%       0.705589\n",
       "50%       0.741745\n",
       "75%       0.773550\n",
       "max       0.882205\n",
       "Name: RASSF2 - pred, dtype: float64"
      ]
     },
     "metadata": {},
     "output_type": "display_data"
    },
    {
     "data": {
      "text/plain": [
       "count    15.000000\n",
       "mean      0.853255\n",
       "std       0.050279\n",
       "min       0.735844\n",
       "25%       0.819891\n",
       "50%       0.869117\n",
       "75%       0.891643\n",
       "max       0.912679\n",
       "Name: CYTIP - blood, dtype: float64"
      ]
     },
     "metadata": {},
     "output_type": "display_data"
    },
    {
     "data": {
      "text/plain": [
       "count    15.000000\n",
       "mean      0.843293\n",
       "std       0.044863\n",
       "min       0.759377\n",
       "25%       0.819578\n",
       "50%       0.843218\n",
       "75%       0.869837\n",
       "max       0.914080\n",
       "Name: CYTIP - pred, dtype: float64"
      ]
     },
     "metadata": {},
     "output_type": "display_data"
    }
   ],
   "source": [
    "process_genes(\"RASSF2\", \"CYTIP\")"
   ]
  },
  {
   "cell_type": "markdown",
   "id": "aba3e9e3-c79b-4953-8b2e-29bdb07ed913",
   "metadata": {
    "papermill": {
     "duration": 0.009128,
     "end_time": "2024-01-03T12:30:44.038651",
     "exception": false,
     "start_time": "2024-01-03T12:30:44.029523",
     "status": "completed"
    },
    "tags": []
   },
   "source": [
    "## MYOZ1 - TNNI2"
   ]
  },
  {
   "cell_type": "code",
   "execution_count": 26,
   "id": "c6d214b1-02f0-4d60-b8f5-8e0ce046e59b",
   "metadata": {
    "execution": {
     "iopub.execute_input": "2024-01-03T12:30:44.057885Z",
     "iopub.status.busy": "2024-01-03T12:30:44.057655Z",
     "iopub.status.idle": "2024-01-03T12:30:44.102217Z",
     "shell.execute_reply": "2024-01-03T12:30:44.101764Z"
    },
    "papermill": {
     "duration": 0.055536,
     "end_time": "2024-01-03T12:30:44.103451",
     "exception": false,
     "start_time": "2024-01-03T12:30:44.047915",
     "status": "completed"
    },
    "tags": []
   },
   "outputs": [
    {
     "data": {
      "text/plain": [
       "count    10.000000\n",
       "mean      0.171077\n",
       "std       0.103562\n",
       "min       0.091422\n",
       "25%       0.102670\n",
       "50%       0.113056\n",
       "75%       0.240818\n",
       "max       0.367188\n",
       "Name: MYOZ1 - blood, dtype: float64"
      ]
     },
     "metadata": {},
     "output_type": "display_data"
    },
    {
     "data": {
      "text/plain": [
       "count    10.000000\n",
       "mean      0.108229\n",
       "std       0.003438\n",
       "min       0.105677\n",
       "25%       0.106864\n",
       "50%       0.106883\n",
       "75%       0.106883\n",
       "max       0.115654\n",
       "Name: MYOZ1 - pred, dtype: float64"
      ]
     },
     "metadata": {},
     "output_type": "display_data"
    },
    {
     "data": {
      "text/plain": [
       "count    14.000000\n",
       "mean      0.219337\n",
       "std       0.083911\n",
       "min       0.102468\n",
       "25%       0.179536\n",
       "50%       0.221226\n",
       "75%       0.230911\n",
       "max       0.436661\n",
       "Name: TNNI2 - blood, dtype: float64"
      ]
     },
     "metadata": {},
     "output_type": "display_data"
    },
    {
     "data": {
      "text/plain": [
       "count    15.000000\n",
       "mean      0.114366\n",
       "std       0.003559\n",
       "min       0.104635\n",
       "25%       0.114070\n",
       "50%       0.114303\n",
       "75%       0.114303\n",
       "max       0.122063\n",
       "Name: TNNI2 - pred, dtype: float64"
      ]
     },
     "metadata": {},
     "output_type": "display_data"
    }
   ],
   "source": [
    "process_genes(\"MYOZ1\", \"TNNI2\")"
   ]
  },
  {
   "cell_type": "markdown",
   "id": "44a460d0-9026-4a31-8883-c585aa586ab1",
   "metadata": {
    "papermill": {
     "duration": 0.009344,
     "end_time": "2024-01-03T12:30:44.122481",
     "exception": false,
     "start_time": "2024-01-03T12:30:44.113137",
     "status": "completed"
    },
    "tags": []
   },
   "source": [
    "## SCGB3A1 - C19orf33"
   ]
  },
  {
   "cell_type": "code",
   "execution_count": 27,
   "id": "7e9f5d37-5dde-4c4b-952a-6bb0ac58f09e",
   "metadata": {
    "execution": {
     "iopub.execute_input": "2024-01-03T12:30:44.142194Z",
     "iopub.status.busy": "2024-01-03T12:30:44.142070Z",
     "iopub.status.idle": "2024-01-03T12:30:44.186498Z",
     "shell.execute_reply": "2024-01-03T12:30:44.186041Z"
    },
    "papermill": {
     "duration": 0.055818,
     "end_time": "2024-01-03T12:30:44.187798",
     "exception": false,
     "start_time": "2024-01-03T12:30:44.131980",
     "status": "completed"
    },
    "tags": []
   },
   "outputs": [
    {
     "data": {
      "text/plain": [
       "count    10.000000\n",
       "mean      0.193822\n",
       "std       0.025327\n",
       "min       0.155134\n",
       "25%       0.176369\n",
       "50%       0.193143\n",
       "75%       0.217271\n",
       "max       0.228326\n",
       "Name: SCGB3A1 - blood, dtype: float64"
      ]
     },
     "metadata": {},
     "output_type": "display_data"
    },
    {
     "data": {
      "text/plain": [
       "count    7.000000\n",
       "mean     0.110496\n",
       "std      0.004439\n",
       "min      0.105638\n",
       "25%      0.109367\n",
       "50%      0.109585\n",
       "75%      0.109763\n",
       "max      0.119991\n",
       "Name: SCGB3A1 - pred, dtype: float64"
      ]
     },
     "metadata": {},
     "output_type": "display_data"
    },
    {
     "data": {
      "text/plain": [
       "count    8.000000\n",
       "mean     0.192866\n",
       "std      0.039739\n",
       "min      0.148565\n",
       "25%      0.169996\n",
       "50%      0.189305\n",
       "75%      0.200146\n",
       "max      0.279338\n",
       "Name: C19orf33 - blood, dtype: float64"
      ]
     },
     "metadata": {},
     "output_type": "display_data"
    },
    {
     "data": {
      "text/plain": [
       "count    14.000000\n",
       "mean      0.119744\n",
       "std       0.019328\n",
       "min       0.105638\n",
       "25%       0.108910\n",
       "50%       0.115052\n",
       "75%       0.118435\n",
       "max       0.174446\n",
       "Name: C19orf33 - pred, dtype: float64"
      ]
     },
     "metadata": {},
     "output_type": "display_data"
    }
   ],
   "source": [
    "process_genes(\"SCGB3A1\", \"C19orf33\")"
   ]
  },
  {
   "cell_type": "code",
   "execution_count": null,
   "id": "f4d18e2b-5c66-45a4-9b18-e43379e24ab2",
   "metadata": {
    "papermill": {
     "duration": 0.009785,
     "end_time": "2024-01-03T12:30:44.207625",
     "exception": false,
     "start_time": "2024-01-03T12:30:44.197840",
     "status": "completed"
    },
    "tags": []
   },
   "outputs": [],
   "source": []
  }
 ],
 "metadata": {
  "jupytext": {
   "cell_metadata_filter": "all,-execution,-papermill,-trusted",
   "notebook_metadata_filter": "-jupytext.text_representation.jupytext_version"
  },
  "kernelspec": {
   "display_name": "Python 3 (ipykernel)",
   "language": "python",
   "name": "python3"
  },
  "language_info": {
   "codemirror_mode": {
    "name": "ipython",
    "version": 3
   },
   "file_extension": ".py",
   "mimetype": "text/x-python",
   "name": "python",
   "nbconvert_exporter": "python",
   "pygments_lexer": "ipython3",
   "version": "3.9.12"
  },
  "papermill": {
   "default_parameters": {},
   "duration": 2.370749,
   "end_time": "2024-01-03T12:30:44.433495",
   "environment_variables": {},
   "exception": null,
   "input_path": "nbs/99_manuscript/giant/03_10-giant-gene_interactions_table.ipynb",
   "output_path": "nbs/99_manuscript/giant/03_10-giant-gene_interactions_table.run.ipynb",
   "parameters": {},
   "start_time": "2024-01-03T12:30:42.062746",
   "version": "2.3.3"
  },
  "toc-autonumbering": true
 },
 "nbformat": 4,
 "nbformat_minor": 5
}
