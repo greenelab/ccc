{
 "cells": [
  {
   "cell_type": "markdown",
   "id": "87e0ce1b-7ce6-4499-9342-5ded05307598",
   "metadata": {
    "papermill": {
     "duration": 0.105156,
     "end_time": "2021-12-21T20:13:36.669733",
     "exception": false,
     "start_time": "2021-12-21T20:13:36.564577",
     "status": "completed"
    },
    "tags": []
   },
   "source": [
    "# Description"
   ]
  },
  {
   "cell_type": "markdown",
   "id": "4bfc7115-350a-441b-9a19-7626a948a694",
   "metadata": {
    "papermill": {
     "duration": 0.077358,
     "end_time": "2021-12-21T20:13:36.824140",
     "exception": false,
     "start_time": "2021-12-21T20:13:36.746782",
     "status": "completed"
    },
    "tags": []
   },
   "source": [
    "TODO"
   ]
  },
  {
   "cell_type": "markdown",
   "id": "e020c781-238b-43c2-8cad-2722b8a240e2",
   "metadata": {
    "papermill": {
     "duration": 0.078359,
     "end_time": "2021-12-21T20:13:36.980950",
     "exception": false,
     "start_time": "2021-12-21T20:13:36.902591",
     "status": "completed"
    },
    "tags": []
   },
   "source": [
    "# Modules"
   ]
  },
  {
   "cell_type": "code",
   "execution_count": 1,
   "id": "a819bfbc-5009-4c68-ba8d-37d0979d368f",
   "metadata": {
    "papermill": {
     "duration": 1.400218,
     "end_time": "2021-12-21T20:13:38.460171",
     "exception": false,
     "start_time": "2021-12-21T20:13:37.059953",
     "status": "completed"
    },
    "tags": []
   },
   "outputs": [],
   "source": [
    "import re\n",
    "\n",
    "import pandas as pd\n",
    "# from scipy import stats\n",
    "# import seaborn as sns\n",
    "\n",
    "# from clustermatch.plots import plot_histogram, plot_cumulative_histogram, jointplot\n",
    "from clustermatch import conf"
   ]
  },
  {
   "cell_type": "markdown",
   "id": "b4834387-58ff-468c-b326-85c408bc5feb",
   "metadata": {
    "papermill": {
     "duration": 0.079144,
     "end_time": "2021-12-21T20:13:38.626394",
     "exception": false,
     "start_time": "2021-12-21T20:13:38.547250",
     "status": "completed"
    },
    "tags": []
   },
   "source": [
    "# Settings"
   ]
  },
  {
   "cell_type": "code",
   "execution_count": 2,
   "id": "765e820a-4518-4bbc-a00f-14c9cea03821",
   "metadata": {
    "papermill": {
     "duration": 0.083094,
     "end_time": "2021-12-21T20:13:38.788297",
     "exception": false,
     "start_time": "2021-12-21T20:13:38.705203",
     "status": "completed"
    },
    "tags": []
   },
   "outputs": [],
   "source": [
    "# DATASET_CONFIG = conf.GTEX\n",
    "# GTEX_TISSUE = \"whole_blood\"\n",
    "# GENE_SEL_STRATEGY = \"var_pc_log2\""
   ]
  },
  {
   "cell_type": "code",
   "execution_count": 3,
   "id": "c598102c-b0e9-417b-bfa5-fc55d508fa51",
   "metadata": {
    "papermill": {
     "duration": 0.083667,
     "end_time": "2021-12-21T20:13:38.949957",
     "exception": false,
     "start_time": "2021-12-21T20:13:38.866290",
     "status": "completed"
    },
    "tags": []
   },
   "outputs": [],
   "source": [
    "# # this is used for the cumulative histogram\n",
    "# GENE_PAIRS_PERCENT = 0.70"
   ]
  },
  {
   "cell_type": "code",
   "execution_count": 4,
   "id": "0222a402-9d06-4abd-9500-baee8dbe1c4e",
   "metadata": {},
   "outputs": [],
   "source": [
    "# CLUSTERMATCH_LABEL = \"Clustermatch\"\n",
    "# PEARSON_LABEL = \"Pearson\"\n",
    "# SPEARMAN_LABEL = \"Spearman\""
   ]
  },
  {
   "cell_type": "code",
   "execution_count": 5,
   "id": "5a1b47c0-7cf9-4fc0-93ce-7ee085e20745",
   "metadata": {},
   "outputs": [],
   "source": [
    "GENE_FILE_MARK_TEMPLATE = \"| *{gene}* |\""
   ]
  },
  {
   "cell_type": "code",
   "execution_count": 6,
   "id": "c482c3f8-f3f8-4917-8b54-74de1da811d7",
   "metadata": {},
   "outputs": [],
   "source": [
    "GENE0_STATS_TEMPLATE = '| *{gene}* | ADD DIRECT<!-- $rowspan=\"2\" --> | {blood_min} | {blood_avg} | {blood_max} | ADD DIRECT<!-- $rowspan=\"2\" --> | {pred_min} | {pred_avg} | {pred_max} |'\n",
    "GENE1_STATS_TEMPLATE = '| *{gene}* | {blood_min} | {blood_avg} | {blood_max} | {pred_min} | {pred_avg} | {pred_max}<!-- $removenext=\"3\" --> |'"
   ]
  },
  {
   "cell_type": "markdown",
   "id": "a1159982-5dd1-4494-97d4-0674eeead1c3",
   "metadata": {
    "papermill": {
     "duration": 0.077617,
     "end_time": "2021-12-21T20:13:39.105285",
     "exception": false,
     "start_time": "2021-12-21T20:13:39.027668",
     "status": "completed"
    },
    "tags": []
   },
   "source": [
    "# Paths"
   ]
  },
  {
   "cell_type": "code",
   "execution_count": 7,
   "id": "dd2c1a3c-f2cc-4872-8d3b-27cf54946d8b",
   "metadata": {},
   "outputs": [],
   "source": [
    "assert (\n",
    "    conf.MANUSCRIPT[\"BASE_DIR\"] is not None\n",
    "), \"The manuscript directory was not configured\""
   ]
  },
  {
   "cell_type": "code",
   "execution_count": 8,
   "id": "cf123256-1831-48ad-af63-513592a29156",
   "metadata": {},
   "outputs": [
    {
     "data": {
      "text/plain": [
       "PosixPath('/opt/manuscript/content/20.00.supplementary_material.md')"
      ]
     },
     "metadata": {},
     "output_type": "display_data"
    }
   ],
   "source": [
    "OUTPUT_FILE_PATH = conf.MANUSCRIPT[\"CONTENT_DIR\"] / \"20.00.supplementary_material.md\"\n",
    "display(OUTPUT_FILE_PATH)\n",
    "assert OUTPUT_FILE_PATH.exists()"
   ]
  },
  {
   "cell_type": "code",
   "execution_count": 9,
   "id": "d50e29a6-0e18-4c3d-b933-f21a17abf831",
   "metadata": {
    "papermill": {
     "duration": 0.085709,
     "end_time": "2021-12-21T20:13:39.269702",
     "exception": false,
     "start_time": "2021-12-21T20:13:39.183993",
     "status": "completed"
    },
    "tags": []
   },
   "outputs": [],
   "source": [
    "# assert (\n",
    "#     conf.MANUSCRIPT[\"BASE_DIR\"] is not None and conf.MANUSCRIPT[\"BASE_DIR\"].exists()\n",
    "# ), \"Manuscript dir not set\""
   ]
  },
  {
   "cell_type": "code",
   "execution_count": 10,
   "id": "523c6a4e-87ec-44bf-bad3-e912b8aa0482",
   "metadata": {
    "papermill": {
     "duration": 0.086622,
     "end_time": "2021-12-21T20:13:39.436193",
     "exception": false,
     "start_time": "2021-12-21T20:13:39.349571",
     "status": "completed"
    },
    "tags": []
   },
   "outputs": [],
   "source": [
    "# OUTPUT_FIGURE_DIR = (\n",
    "#     conf.MANUSCRIPT[\"FIGURES_DIR\"] / \"coefs_comp\" / f\"gtex_{GTEX_TISSUE}\"\n",
    "# )\n",
    "# OUTPUT_FIGURE_DIR.mkdir(parents=True, exist_ok=True)\n",
    "# display(OUTPUT_FIGURE_DIR)"
   ]
  },
  {
   "cell_type": "code",
   "execution_count": 11,
   "id": "edf17c92-2894-45b5-82ee-cd0170dda995",
   "metadata": {
    "papermill": {
     "duration": 0.092503,
     "end_time": "2021-12-21T20:13:39.626854",
     "exception": false,
     "start_time": "2021-12-21T20:13:39.534351",
     "status": "completed"
    },
    "tags": []
   },
   "outputs": [],
   "source": [
    "# INPUT_CORR_FILE_TEMPLATE = (\n",
    "#     DATASET_CONFIG[\"SIMILARITY_MATRICES_DIR\"]\n",
    "#     / DATASET_CONFIG[\"SIMILARITY_MATRIX_FILENAME_TEMPLATE\"]\n",
    "# )\n",
    "# display(INPUT_CORR_FILE_TEMPLATE)"
   ]
  },
  {
   "cell_type": "code",
   "execution_count": 12,
   "id": "30cce6f5-ca1b-438c-859d-31903a42d4c6",
   "metadata": {
    "papermill": {
     "duration": 0.088947,
     "end_time": "2021-12-21T20:13:39.799072",
     "exception": false,
     "start_time": "2021-12-21T20:13:39.710125",
     "status": "completed"
    },
    "tags": []
   },
   "outputs": [],
   "source": [
    "# INPUT_FILE = DATASET_CONFIG[\"SIMILARITY_MATRICES_DIR\"] / str(\n",
    "#     INPUT_CORR_FILE_TEMPLATE\n",
    "# ).format(\n",
    "#     tissue=GTEX_TISSUE,\n",
    "#     gene_sel_strategy=GENE_SEL_STRATEGY,\n",
    "#     corr_method=\"all\",\n",
    "# )\n",
    "# display(INPUT_FILE)\n",
    "\n",
    "# assert INPUT_FILE.exists()"
   ]
  },
  {
   "cell_type": "code",
   "execution_count": 13,
   "id": "3e967e81-0d1b-4b12-968e-cd02b466b572",
   "metadata": {
    "papermill": {
     "duration": 0.088947,
     "end_time": "2021-12-21T20:13:39.799072",
     "exception": false,
     "start_time": "2021-12-21T20:13:39.710125",
     "status": "completed"
    },
    "tags": []
   },
   "outputs": [
    {
     "data": {
      "text/plain": [
       "PosixPath('/opt/data/results/giant')"
      ]
     },
     "metadata": {},
     "output_type": "display_data"
    }
   ],
   "source": [
    "INPUT_DIR = conf.GIANT[\"RESULTS_DIR\"]\n",
    "display(INPUT_DIR)\n",
    "\n",
    "assert INPUT_DIR.exists()"
   ]
  },
  {
   "cell_type": "markdown",
   "id": "f6d3322b-c8bb-4fc2-97b6-5bb1793b1577",
   "metadata": {
    "papermill": {
     "duration": 0.090574,
     "end_time": "2021-12-21T20:13:39.974552",
     "exception": false,
     "start_time": "2021-12-21T20:13:39.883978",
     "status": "completed"
    },
    "tags": []
   },
   "source": [
    "# Functions"
   ]
  },
  {
   "cell_type": "code",
   "execution_count": 14,
   "id": "0ef97687-82fc-492c-bc7c-32dea9a08604",
   "metadata": {},
   "outputs": [],
   "source": [
    "def read_data(gene0, gene1, tissue_name, mode=\"visible\"):\n",
    "    input_filename = f\"{gene0.lower()}_{gene1.lower()}-network-{mode}.csv\"\n",
    "\n",
    "    input_filepath = INPUT_DIR / tissue_name / input_filename\n",
    "    assert input_filepath.exists()\n",
    "\n",
    "    data = pd.read_csv(input_filepath)\n",
    "    \n",
    "    assert (\n",
    "        ((gene0 in data[\"GENE1\"].unique()) or (gene0 in data[\"GENE2\"].unique())) and\n",
    "        ((gene1 in data[\"GENE1\"].unique()) or (gene1 in data[\"GENE2\"].unique()))\n",
    "    )\n",
    "    \n",
    "    return data"
   ]
  },
  {
   "cell_type": "code",
   "execution_count": 15,
   "id": "f0014bcb-0f81-4f7e-afaa-fe97ee644655",
   "metadata": {},
   "outputs": [
    {
     "data": {
      "text/plain": [
       "(127, 3)"
      ]
     },
     "metadata": {},
     "output_type": "display_data"
    },
    {
     "data": {
      "text/plain": [
       "(124, 3)"
      ]
     },
     "metadata": {},
     "output_type": "display_data"
    }
   ],
   "source": [
    "# testing\n",
    "_tmp0 = read_data(\"IFNG\", \"SDS\", \"blood\")\n",
    "display(_tmp0.shape)\n",
    "\n",
    "_tmp1 = read_data(\"IFNG\", \"SDS\", \"pred\")\n",
    "display(_tmp1.shape)\n",
    "\n",
    "assert _tmp0.shape[0] != _tmp1.shape[0]"
   ]
  },
  {
   "cell_type": "code",
   "execution_count": 16,
   "id": "9be69bf7-5326-417b-8bb5-5732d8266573",
   "metadata": {},
   "outputs": [],
   "source": [
    "def format_number(number):\n",
    "    return f\"{number:.2f}\""
   ]
  },
  {
   "cell_type": "code",
   "execution_count": 17,
   "id": "8dce726a-8601-43e4-8d48-10fbf40e8149",
   "metadata": {},
   "outputs": [
    {
     "data": {
      "text/plain": [
       "True"
      ]
     },
     "execution_count": 17,
     "metadata": {},
     "output_type": "execute_result"
    }
   ],
   "source": [
    "# testing\n",
    "format_number(0.222222) == \"0.22\"\n",
    "format_number(0.225222) == \"0.23\""
   ]
  },
  {
   "cell_type": "code",
   "execution_count": 18,
   "id": "b2694a72-9e9b-4b9e-97ae-5eec0cde9bfb",
   "metadata": {},
   "outputs": [],
   "source": [
    "def get_gene_stats(df, gene_name):\n",
    "    gene_data = df[(df[\"GENE1\"] == gene_name) | (df[\"GENE2\"] == gene_name)]\n",
    "    return gene_data.describe().squeeze()"
   ]
  },
  {
   "cell_type": "code",
   "execution_count": 19,
   "id": "b3649ce0-91e8-44c8-9c12-1bfddbeeaadc",
   "metadata": {},
   "outputs": [],
   "source": [
    "# testing\n",
    "_tmp0_stats = get_gene_stats(_tmp0, \"IFNG\")\n",
    "assert _tmp0_stats[\"min\"].round(2) == 0.19\n",
    "assert _tmp0_stats[\"mean\"].round(2) == 0.42\n",
    "assert _tmp0_stats[\"max\"].round(2) == 0.54"
   ]
  },
  {
   "cell_type": "code",
   "execution_count": 20,
   "id": "3074b1a9-a988-41bd-8c93-37ee4a73dd6c",
   "metadata": {},
   "outputs": [],
   "source": [
    "def get_gene_content(blood_stats, pred_stats, gene_name, gene_template):\n",
    "    return gene_template.format(\n",
    "        gene=gene_name,\n",
    "        blood_min=format_number(blood_stats[\"min\"]),\n",
    "        blood_avg=format_number(blood_stats[\"mean\"]),\n",
    "        blood_max=format_number(blood_stats[\"max\"]),\n",
    "        pred_min=format_number(pred_stats[\"min\"]),\n",
    "        pred_avg=format_number(pred_stats[\"mean\"]),\n",
    "        pred_max=format_number(pred_stats[\"max\"]),\n",
    "    )"
   ]
  },
  {
   "cell_type": "code",
   "execution_count": 21,
   "id": "e30b7fce-2c50-4f70-b9b9-bf824be08f59",
   "metadata": {},
   "outputs": [],
   "source": [
    "# testing\n",
    "_tmp_gene_cont = get_gene_content(_tmp0_stats, _tmp0_stats, \"IFNG\", GENE0_STATS_TEMPLATE)\n",
    "assert \"IFNG\" in _tmp_gene_cont\n",
    "assert \"0.19\" in _tmp_gene_cont\n",
    "assert \"0.42\" in _tmp_gene_cont\n",
    "assert \"0.54\" in _tmp_gene_cont"
   ]
  },
  {
   "cell_type": "code",
   "execution_count": 22,
   "id": "239586f7-0211-4151-9be2-28236879e1cb",
   "metadata": {},
   "outputs": [],
   "source": [
    "def write_content(text, text_replacement):\n",
    "    with open(OUTPUT_FILE_PATH, \"r\", encoding=\"utf8\") as f:\n",
    "        file_content = f.read()\n",
    "\n",
    "    new_file_content = re.sub(\n",
    "        re.escape(text) + \".+\\n\",\n",
    "        text_replacement,\n",
    "        file_content,\n",
    "        # flags=re.DOTALL,\n",
    "    )\n",
    "\n",
    "    with open(OUTPUT_FILE_PATH, \"w\", encoding=\"utf8\") as f:\n",
    "        f.write(new_file_content)"
   ]
  },
  {
   "cell_type": "code",
   "execution_count": 23,
   "id": "3260f057-404e-40d4-ac87-06ec07de4f17",
   "metadata": {},
   "outputs": [],
   "source": [
    "def process_genes(gene0, gene1):\n",
    "    data_blood = read_data(gene0, gene1, \"blood\")\n",
    "    data_pred = read_data(gene0, gene1, \"pred\")\n",
    "\n",
    "    for gene_name, gene_template in ((gene0, GENE0_STATS_TEMPLATE), (gene1, GENE1_STATS_TEMPLATE)):\n",
    "        blood_stats = get_gene_stats(data_blood, gene_name).rename(f\"{gene_name} - blood\")\n",
    "        display(blood_stats)\n",
    "\n",
    "        pred_stats = get_gene_stats(data_pred, gene_name).rename(f\"{gene_name} - pred\")\n",
    "        display(pred_stats)\n",
    "\n",
    "        new_content = get_gene_content(blood_stats, pred_stats, gene_name, gene_template) + \"\\n\"\n",
    "\n",
    "        gene_file_mark = GENE_FILE_MARK_TEMPLATE.format(gene=gene_name)\n",
    "\n",
    "        write_content(gene_file_mark, new_content)"
   ]
  },
  {
   "cell_type": "markdown",
   "id": "1ecaa077-204d-4eaf-b723-a8e6ad60bc75",
   "metadata": {
    "papermill": {
     "duration": 0.090574,
     "end_time": "2021-12-21T20:13:39.974552",
     "exception": false,
     "start_time": "2021-12-21T20:13:39.883978",
     "status": "completed"
    },
    "tags": []
   },
   "source": [
    "# IFNG - SDS"
   ]
  },
  {
   "cell_type": "code",
   "execution_count": 24,
   "id": "36207f4f-30ba-47c3-bf85-d3eb89ea5068",
   "metadata": {},
   "outputs": [
    {
     "data": {
      "text/plain": [
       "count    15.000000\n",
       "mean      0.416329\n",
       "std       0.084663\n",
       "min       0.186702\n",
       "25%       0.384790\n",
       "50%       0.416825\n",
       "75%       0.466691\n",
       "max       0.539424\n",
       "Name: IFNG - blood, dtype: float64"
      ]
     },
     "metadata": {},
     "output_type": "display_data"
    },
    {
     "data": {
      "text/plain": [
       "count    15.000000\n",
       "mean      0.895806\n",
       "std       0.087539\n",
       "min       0.742973\n",
       "25%       0.831290\n",
       "50%       0.920374\n",
       "75%       0.972659\n",
       "max       0.990921\n",
       "Name: IFNG - pred, dtype: float64"
      ]
     },
     "metadata": {},
     "output_type": "display_data"
    },
    {
     "data": {
      "text/plain": [
       "count    7.000000\n",
       "mean     0.287983\n",
       "std      0.073519\n",
       "min      0.180309\n",
       "25%      0.253745\n",
       "50%      0.274899\n",
       "75%      0.319880\n",
       "max      0.413422\n",
       "Name: SDS - blood, dtype: float64"
      ]
     },
     "metadata": {},
     "output_type": "display_data"
    },
    {
     "data": {
      "text/plain": [
       "count    13.000000\n",
       "mean      0.805204\n",
       "std       0.099726\n",
       "min       0.645825\n",
       "25%       0.762556\n",
       "50%       0.812201\n",
       "75%       0.867130\n",
       "max       0.944408\n",
       "Name: SDS - pred, dtype: float64"
      ]
     },
     "metadata": {},
     "output_type": "display_data"
    }
   ],
   "source": [
    "process_genes(\"IFNG\", \"SDS\")"
   ]
  },
  {
   "cell_type": "markdown",
   "id": "d28d823e-8f09-4b03-8d21-63ac91f591f3",
   "metadata": {
    "papermill": {
     "duration": 0.090574,
     "end_time": "2021-12-21T20:13:39.974552",
     "exception": false,
     "start_time": "2021-12-21T20:13:39.883978",
     "status": "completed"
    },
    "tags": []
   },
   "source": [
    "# JUN - APOC1"
   ]
  },
  {
   "cell_type": "code",
   "execution_count": 25,
   "id": "ce663836-0565-42b4-92c0-b47ba633a2a0",
   "metadata": {},
   "outputs": [
    {
     "data": {
      "text/plain": [
       "count    15.000000\n",
       "mean      0.679274\n",
       "std       0.226874\n",
       "min       0.262018\n",
       "25%       0.516277\n",
       "50%       0.728343\n",
       "75%       0.857155\n",
       "max       0.973947\n",
       "Name: JUN - blood, dtype: float64"
      ]
     },
     "metadata": {},
     "output_type": "display_data"
    },
    {
     "data": {
      "text/plain": [
       "count    15.000000\n",
       "mean      0.727964\n",
       "std       0.183223\n",
       "min       0.360925\n",
       "25%       0.599624\n",
       "50%       0.735264\n",
       "75%       0.895994\n",
       "max       0.943856\n",
       "Name: JUN - pred, dtype: float64"
      ]
     },
     "metadata": {},
     "output_type": "display_data"
    },
    {
     "data": {
      "text/plain": [
       "count    11.000000\n",
       "mean      0.468175\n",
       "std       0.204785\n",
       "min       0.216255\n",
       "25%       0.284291\n",
       "50%       0.494281\n",
       "75%       0.630633\n",
       "max       0.768691\n",
       "Name: APOC1 - blood, dtype: float64"
      ]
     },
     "metadata": {},
     "output_type": "display_data"
    },
    {
     "data": {
      "text/plain": [
       "count    14.000000\n",
       "mean      0.502017\n",
       "std       0.178442\n",
       "min       0.292091\n",
       "25%       0.352921\n",
       "50%       0.515792\n",
       "75%       0.644921\n",
       "max       0.798116\n",
       "Name: APOC1 - pred, dtype: float64"
      ]
     },
     "metadata": {},
     "output_type": "display_data"
    }
   ],
   "source": [
    "process_genes(\"JUN\", \"APOC1\")"
   ]
  },
  {
   "cell_type": "markdown",
   "id": "2698e543-ab6b-4864-b3da-0291bad13434",
   "metadata": {
    "papermill": {
     "duration": 0.090574,
     "end_time": "2021-12-21T20:13:39.974552",
     "exception": false,
     "start_time": "2021-12-21T20:13:39.883978",
     "status": "completed"
    },
    "tags": []
   },
   "source": [
    "# ZDHHC12 - CCL18"
   ]
  },
  {
   "cell_type": "code",
   "execution_count": 26,
   "id": "a1c1118a-071f-403c-aa18-834810b456ec",
   "metadata": {},
   "outputs": [
    {
     "data": {
      "text/plain": [
       "count    8.000000\n",
       "mean     0.065802\n",
       "std      0.018617\n",
       "min      0.046841\n",
       "25%      0.051773\n",
       "50%      0.062190\n",
       "75%      0.074195\n",
       "max      0.099615\n",
       "Name: ZDHHC12 - blood, dtype: float64"
      ]
     },
     "metadata": {},
     "output_type": "display_data"
    },
    {
     "data": {
      "text/plain": [
       "count    9.000000\n",
       "mean     0.116013\n",
       "std      0.094682\n",
       "min      0.029034\n",
       "25%      0.043078\n",
       "50%      0.090894\n",
       "75%      0.166666\n",
       "max      0.326221\n",
       "Name: ZDHHC12 - pred, dtype: float64"
      ]
     },
     "metadata": {},
     "output_type": "display_data"
    },
    {
     "data": {
      "text/plain": [
       "count    15.000000\n",
       "mean      0.787977\n",
       "std       0.032952\n",
       "min       0.739322\n",
       "25%       0.763964\n",
       "50%       0.784812\n",
       "75%       0.806258\n",
       "max       0.855855\n",
       "Name: CCL18 - blood, dtype: float64"
      ]
     },
     "metadata": {},
     "output_type": "display_data"
    },
    {
     "data": {
      "text/plain": [
       "count    15.000000\n",
       "mean      0.699903\n",
       "std       0.132721\n",
       "min       0.359589\n",
       "25%       0.674450\n",
       "50%       0.727622\n",
       "75%       0.782909\n",
       "max       0.901092\n",
       "Name: CCL18 - pred, dtype: float64"
      ]
     },
     "metadata": {},
     "output_type": "display_data"
    }
   ],
   "source": [
    "process_genes(\"ZDHHC12\", \"CCL18\")"
   ]
  },
  {
   "cell_type": "markdown",
   "id": "0c2be3d2-7630-4e7e-8c07-1e66b86a87b8",
   "metadata": {
    "papermill": {
     "duration": 0.090574,
     "end_time": "2021-12-21T20:13:39.974552",
     "exception": false,
     "start_time": "2021-12-21T20:13:39.883978",
     "status": "completed"
    },
    "tags": []
   },
   "source": [
    "# RASSF2 - CYTIP"
   ]
  },
  {
   "cell_type": "code",
   "execution_count": 27,
   "id": "6704cb26-f112-49f8-b26e-45ff6455bcb4",
   "metadata": {},
   "outputs": [
    {
     "data": {
      "text/plain": [
       "count    16.000000\n",
       "mean      0.749572\n",
       "std       0.074465\n",
       "min       0.626071\n",
       "25%       0.698348\n",
       "50%       0.754663\n",
       "75%       0.798552\n",
       "max       0.901809\n",
       "Name: RASSF2 - blood, dtype: float64"
      ]
     },
     "metadata": {},
     "output_type": "display_data"
    },
    {
     "data": {
      "text/plain": [
       "count    13.000000\n",
       "mean      0.750906\n",
       "std       0.054080\n",
       "min       0.690023\n",
       "25%       0.708210\n",
       "50%       0.742457\n",
       "75%       0.776490\n",
       "max       0.882205\n",
       "Name: RASSF2 - pred, dtype: float64"
      ]
     },
     "metadata": {},
     "output_type": "display_data"
    },
    {
     "data": {
      "text/plain": [
       "count    16.000000\n",
       "mean      0.839056\n",
       "std       0.074735\n",
       "min       0.626071\n",
       "25%       0.812995\n",
       "50%       0.864356\n",
       "75%       0.888642\n",
       "max       0.912679\n",
       "Name: CYTIP - blood, dtype: float64"
      ]
     },
     "metadata": {},
     "output_type": "display_data"
    },
    {
     "data": {
      "text/plain": [
       "count    15.000000\n",
       "mean      0.843293\n",
       "std       0.044863\n",
       "min       0.759377\n",
       "25%       0.819578\n",
       "50%       0.843218\n",
       "75%       0.869837\n",
       "max       0.914080\n",
       "Name: CYTIP - pred, dtype: float64"
      ]
     },
     "metadata": {},
     "output_type": "display_data"
    }
   ],
   "source": [
    "process_genes(\"RASSF2\", \"CYTIP\")"
   ]
  },
  {
   "cell_type": "markdown",
   "id": "aba3e9e3-c79b-4953-8b2e-29bdb07ed913",
   "metadata": {
    "papermill": {
     "duration": 0.090574,
     "end_time": "2021-12-21T20:13:39.974552",
     "exception": false,
     "start_time": "2021-12-21T20:13:39.883978",
     "status": "completed"
    },
    "tags": []
   },
   "source": [
    "# MYOZ1 - TNNI2"
   ]
  },
  {
   "cell_type": "code",
   "execution_count": 28,
   "id": "c6d214b1-02f0-4d60-b8f5-8e0ce046e59b",
   "metadata": {},
   "outputs": [
    {
     "data": {
      "text/plain": [
       "count    10.000000\n",
       "mean      0.171077\n",
       "std       0.103562\n",
       "min       0.091422\n",
       "25%       0.102670\n",
       "50%       0.113056\n",
       "75%       0.240818\n",
       "max       0.367188\n",
       "Name: MYOZ1 - blood, dtype: float64"
      ]
     },
     "metadata": {},
     "output_type": "display_data"
    },
    {
     "data": {
      "text/plain": [
       "count    10.000000\n",
       "mean      0.108229\n",
       "std       0.003438\n",
       "min       0.105677\n",
       "25%       0.106864\n",
       "50%       0.106883\n",
       "75%       0.106883\n",
       "max       0.115654\n",
       "Name: MYOZ1 - pred, dtype: float64"
      ]
     },
     "metadata": {},
     "output_type": "display_data"
    },
    {
     "data": {
      "text/plain": [
       "count    14.000000\n",
       "mean      0.219337\n",
       "std       0.083911\n",
       "min       0.102468\n",
       "25%       0.179536\n",
       "50%       0.221226\n",
       "75%       0.230911\n",
       "max       0.436661\n",
       "Name: TNNI2 - blood, dtype: float64"
      ]
     },
     "metadata": {},
     "output_type": "display_data"
    },
    {
     "data": {
      "text/plain": [
       "count    15.000000\n",
       "mean      0.114366\n",
       "std       0.003559\n",
       "min       0.104635\n",
       "25%       0.114070\n",
       "50%       0.114303\n",
       "75%       0.114303\n",
       "max       0.122063\n",
       "Name: TNNI2 - pred, dtype: float64"
      ]
     },
     "metadata": {},
     "output_type": "display_data"
    }
   ],
   "source": [
    "process_genes(\"MYOZ1\", \"TNNI2\")"
   ]
  },
  {
   "cell_type": "markdown",
   "id": "44a460d0-9026-4a31-8883-c585aa586ab1",
   "metadata": {
    "papermill": {
     "duration": 0.090574,
     "end_time": "2021-12-21T20:13:39.974552",
     "exception": false,
     "start_time": "2021-12-21T20:13:39.883978",
     "status": "completed"
    },
    "tags": []
   },
   "source": [
    "# PYGM - TPM2"
   ]
  },
  {
   "cell_type": "code",
   "execution_count": 29,
   "id": "7e9f5d37-5dde-4c4b-952a-6bb0ac58f09e",
   "metadata": {},
   "outputs": [
    {
     "data": {
      "text/plain": [
       "count    12.000000\n",
       "mean      0.042046\n",
       "std       0.032558\n",
       "min       0.023572\n",
       "25%       0.023964\n",
       "50%       0.031966\n",
       "75%       0.040830\n",
       "max       0.139322\n",
       "Name: PYGM - blood, dtype: float64"
      ]
     },
     "metadata": {},
     "output_type": "display_data"
    },
    {
     "data": {
      "text/plain": [
       "count    7.000000\n",
       "mean     0.017173\n",
       "std      0.009352\n",
       "min      0.011840\n",
       "25%      0.012748\n",
       "50%      0.013268\n",
       "75%      0.015905\n",
       "max      0.037800\n",
       "Name: PYGM - pred, dtype: float64"
      ]
     },
     "metadata": {},
     "output_type": "display_data"
    },
    {
     "data": {
      "text/plain": [
       "count    16.000000\n",
       "mean      0.560692\n",
       "std       0.154801\n",
       "min       0.046868\n",
       "25%       0.537426\n",
       "50%       0.560244\n",
       "75%       0.630097\n",
       "max       0.801900\n",
       "Name: TPM2 - blood, dtype: float64"
      ]
     },
     "metadata": {},
     "output_type": "display_data"
    },
    {
     "data": {
      "text/plain": [
       "count    16.000000\n",
       "mean      0.277942\n",
       "std       0.088114\n",
       "min       0.012290\n",
       "25%       0.266644\n",
       "50%       0.275151\n",
       "75%       0.296155\n",
       "max       0.466351\n",
       "Name: TPM2 - pred, dtype: float64"
      ]
     },
     "metadata": {},
     "output_type": "display_data"
    }
   ],
   "source": [
    "process_genes(\"PYGM\", \"TPM2\")"
   ]
  },
  {
   "cell_type": "code",
   "execution_count": null,
   "id": "f4d18e2b-5c66-45a4-9b18-e43379e24ab2",
   "metadata": {},
   "outputs": [],
   "source": []
  }
 ],
 "metadata": {
  "jupytext": {
   "cell_metadata_filter": "all,-execution,-papermill,-trusted",
   "text_representation": {
    "extension": ".py",
    "format_name": "percent",
    "format_version": "1.3",
    "jupytext_version": "1.11.5"
   }
  },
  "kernelspec": {
   "display_name": "Python 3 (ipykernel)",
   "language": "python",
   "name": "python3"
  },
  "language_info": {
   "codemirror_mode": {
    "name": "ipython",
    "version": 3
   },
   "file_extension": ".py",
   "mimetype": "text/x-python",
   "name": "python",
   "nbconvert_exporter": "python",
   "pygments_lexer": "ipython3",
   "version": "3.9.9"
  },
  "papermill": {
   "default_parameters": {},
   "duration": 808.744828,
   "end_time": "2021-12-21T20:27:03.803437",
   "environment_variables": {},
   "exception": null,
   "input_path": "nbs/99_manuscript/coefs_comp/05-gtex_whole_blood-general_plots.ipynb",
   "output_path": "nbs/99_manuscript/coefs_comp/05-gtex_whole_blood-general_plots.run.ipynb",
   "parameters": {},
   "start_time": "2021-12-21T20:13:35.058609",
   "version": "2.3.3"
  },
  "toc-autonumbering": true
 },
 "nbformat": 4,
 "nbformat_minor": 5
}
