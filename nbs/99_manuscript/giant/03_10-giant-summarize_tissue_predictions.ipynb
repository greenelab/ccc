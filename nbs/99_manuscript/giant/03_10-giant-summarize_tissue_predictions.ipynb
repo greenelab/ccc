{
 "cells": [
  {
   "cell_type": "markdown",
   "id": "87e0ce1b-7ce6-4499-9342-5ded05307598",
   "metadata": {
    "papermill": {
     "duration": 0.105156,
     "end_time": "2021-12-21T20:13:36.669733",
     "exception": false,
     "start_time": "2021-12-21T20:13:36.564577",
     "status": "completed"
    },
    "tags": []
   },
   "source": [
    "# Description"
   ]
  },
  {
   "cell_type": "markdown",
   "id": "4bfc7115-350a-441b-9a19-7626a948a694",
   "metadata": {
    "papermill": {
     "duration": 0.077358,
     "end_time": "2021-12-21T20:13:36.824140",
     "exception": false,
     "start_time": "2021-12-21T20:13:36.746782",
     "status": "completed"
    },
    "tags": []
   },
   "source": [
    "TODO"
   ]
  },
  {
   "cell_type": "markdown",
   "id": "e020c781-238b-43c2-8cad-2722b8a240e2",
   "metadata": {
    "papermill": {
     "duration": 0.078359,
     "end_time": "2021-12-21T20:13:36.980950",
     "exception": false,
     "start_time": "2021-12-21T20:13:36.902591",
     "status": "completed"
    },
    "tags": []
   },
   "source": [
    "# Modules"
   ]
  },
  {
   "cell_type": "code",
   "execution_count": 1,
   "id": "8c99f618-0d2d-43fd-86d4-8c44d33f4c59",
   "metadata": {},
   "outputs": [],
   "source": [
    "# %load_ext rpy2.ipython"
   ]
  },
  {
   "cell_type": "code",
   "execution_count": 2,
   "id": "a819bfbc-5009-4c68-ba8d-37d0979d368f",
   "metadata": {
    "papermill": {
     "duration": 1.400218,
     "end_time": "2021-12-21T20:13:38.460171",
     "exception": false,
     "start_time": "2021-12-21T20:13:37.059953",
     "status": "completed"
    },
    "tags": []
   },
   "outputs": [],
   "source": [
    "import json\n",
    "import tempfile\n",
    "from pathlib import Path\n",
    "\n",
    "import pandas as pd\n",
    "import matplotlib.pyplot as plt\n",
    "import seaborn as sns\n",
    "\n",
    "from clustermatch import conf"
   ]
  },
  {
   "cell_type": "markdown",
   "id": "b4834387-58ff-468c-b326-85c408bc5feb",
   "metadata": {
    "papermill": {
     "duration": 0.079144,
     "end_time": "2021-12-21T20:13:38.626394",
     "exception": false,
     "start_time": "2021-12-21T20:13:38.547250",
     "status": "completed"
    },
    "tags": []
   },
   "source": [
    "# Settings"
   ]
  },
  {
   "cell_type": "code",
   "execution_count": 3,
   "id": "765e820a-4518-4bbc-a00f-14c9cea03821",
   "metadata": {
    "papermill": {
     "duration": 0.083094,
     "end_time": "2021-12-21T20:13:38.788297",
     "exception": false,
     "start_time": "2021-12-21T20:13:38.705203",
     "status": "completed"
    },
    "tags": []
   },
   "outputs": [],
   "source": [
    "# DATASET_CONFIG = conf.GTEX\n",
    "# GTEX_TISSUE = \"whole_blood\"\n",
    "# GENE_SEL_STRATEGY = \"var_pc_log2\""
   ]
  },
  {
   "cell_type": "code",
   "execution_count": 4,
   "id": "c598102c-b0e9-417b-bfa5-fc55d508fa51",
   "metadata": {
    "papermill": {
     "duration": 0.083667,
     "end_time": "2021-12-21T20:13:38.949957",
     "exception": false,
     "start_time": "2021-12-21T20:13:38.866290",
     "status": "completed"
    },
    "tags": []
   },
   "outputs": [],
   "source": [
    "N_TOP_GENE_PAIRS = 100"
   ]
  },
  {
   "cell_type": "code",
   "execution_count": 5,
   "id": "0222a402-9d06-4abd-9500-baee8dbe1c4e",
   "metadata": {},
   "outputs": [],
   "source": [
    "# CLUSTERMATCH_LABEL = \"Clustermatch\"\n",
    "# PEARSON_LABEL = \"Pearson\"\n",
    "# SPEARMAN_LABEL = \"Spearman\""
   ]
  },
  {
   "cell_type": "markdown",
   "id": "a1159982-5dd1-4494-97d4-0674eeead1c3",
   "metadata": {
    "papermill": {
     "duration": 0.077617,
     "end_time": "2021-12-21T20:13:39.105285",
     "exception": false,
     "start_time": "2021-12-21T20:13:39.027668",
     "status": "completed"
    },
    "tags": []
   },
   "source": [
    "# Paths"
   ]
  },
  {
   "cell_type": "code",
   "execution_count": 6,
   "id": "ed9d8421-8b1c-4f3f-9729-3cb8daa6d504",
   "metadata": {
    "papermill": {
     "duration": 0.085709,
     "end_time": "2021-12-21T20:13:39.269702",
     "exception": false,
     "start_time": "2021-12-21T20:13:39.183993",
     "status": "completed"
    },
    "tags": []
   },
   "outputs": [],
   "source": [
    "assert (\n",
    "    conf.MANUSCRIPT[\"BASE_DIR\"] is not None and conf.MANUSCRIPT[\"BASE_DIR\"].exists()\n",
    "), \"Manuscript dir not set\""
   ]
  },
  {
   "cell_type": "code",
   "execution_count": 7,
   "id": "edb8fea4-335e-46ca-a9b0-1852778d39d0",
   "metadata": {
    "papermill": {
     "duration": 0.086622,
     "end_time": "2021-12-21T20:13:39.436193",
     "exception": false,
     "start_time": "2021-12-21T20:13:39.349571",
     "status": "completed"
    },
    "tags": []
   },
   "outputs": [
    {
     "data": {
      "text/plain": [
       "PosixPath('/opt/manuscript/content/images/coefs_comp')"
      ]
     },
     "metadata": {},
     "output_type": "display_data"
    }
   ],
   "source": [
    "COEF_COMP_DIR = conf.MANUSCRIPT[\"FIGURES_DIR\"] / \"coefs_comp\"\n",
    "COEF_COMP_DIR.mkdir(parents=True, exist_ok=True)\n",
    "display(COEF_COMP_DIR)"
   ]
  },
  {
   "cell_type": "code",
   "execution_count": 8,
   "id": "f4519e56-b72a-450e-a51b-b01f9c098b83",
   "metadata": {
    "papermill": {
     "duration": 0.086622,
     "end_time": "2021-12-21T20:13:39.436193",
     "exception": false,
     "start_time": "2021-12-21T20:13:39.349571",
     "status": "completed"
    },
    "tags": []
   },
   "outputs": [
    {
     "data": {
      "text/plain": [
       "PosixPath('/opt/manuscript/content/images/coefs_comp/giant_networks')"
      ]
     },
     "metadata": {},
     "output_type": "display_data"
    }
   ],
   "source": [
    "OUTPUT_FIGURE_DIR = COEF_COMP_DIR / \"giant_networks\"\n",
    "OUTPUT_FIGURE_DIR.mkdir(parents=True, exist_ok=True)\n",
    "display(OUTPUT_FIGURE_DIR)"
   ]
  },
  {
   "cell_type": "code",
   "execution_count": 9,
   "id": "3e967e81-0d1b-4b12-968e-cd02b466b572",
   "metadata": {
    "papermill": {
     "duration": 0.088947,
     "end_time": "2021-12-21T20:13:39.799072",
     "exception": false,
     "start_time": "2021-12-21T20:13:39.710125",
     "status": "completed"
    },
    "tags": []
   },
   "outputs": [],
   "source": [
    "# INPUT_DIR = DATASET_CONFIG[\"GENE_PAIR_INTERSECTIONS\"]\n",
    "# display(INPUT_DIR)\n",
    "\n",
    "# assert INPUT_DIR.exists()"
   ]
  },
  {
   "cell_type": "code",
   "execution_count": 10,
   "id": "534e013a-e73e-4306-a2f5-1f8301a9a4c5",
   "metadata": {
    "papermill": {
     "duration": 0.088947,
     "end_time": "2021-12-21T20:13:39.799072",
     "exception": false,
     "start_time": "2021-12-21T20:13:39.710125",
     "status": "completed"
    },
    "tags": []
   },
   "outputs": [
    {
     "data": {
      "text/plain": [
       "PosixPath('/opt/data/results/giant/intersection_genes')"
      ]
     },
     "metadata": {},
     "output_type": "display_data"
    }
   ],
   "source": [
    "OUTPUT_DIR = conf.GIANT[\"RESULTS_DIR\"] / \"intersection_genes\"\n",
    "OUTPUT_DIR.mkdir(parents=True, exist_ok=True)\n",
    "display(OUTPUT_DIR)"
   ]
  },
  {
   "cell_type": "markdown",
   "id": "1fe2ea25-0b72-4da8-b8f5-eb1e094b1ffc",
   "metadata": {
    "papermill": {
     "duration": 0.077617,
     "end_time": "2021-12-21T20:13:39.105285",
     "exception": false,
     "start_time": "2021-12-21T20:13:39.027668",
     "status": "completed"
    },
    "tags": []
   },
   "source": [
    "# Summarize"
   ]
  },
  {
   "cell_type": "code",
   "execution_count": 11,
   "id": "42f307ff-3e84-4fb5-bdaf-1041ee8d4dd3",
   "metadata": {},
   "outputs": [],
   "source": [
    "all_subsets_dfs = []"
   ]
  },
  {
   "cell_type": "markdown",
   "id": "14f6d4fe-6018-4b41-b7c2-45a73d811ec7",
   "metadata": {},
   "source": [
    "## Clustermatch vs Pearson"
   ]
  },
  {
   "cell_type": "code",
   "execution_count": 12,
   "id": "e14b2d97-374a-4622-a774-551ab71f5292",
   "metadata": {},
   "outputs": [],
   "source": [
    "subset = \"clustermatch_vs_pearson\""
   ]
  },
  {
   "cell_type": "code",
   "execution_count": 13,
   "id": "1b2bdeb5-2b4a-47c8-a065-f9d1d6f2d657",
   "metadata": {},
   "outputs": [
    {
     "data": {
      "text/plain": [
       "100"
      ]
     },
     "metadata": {},
     "output_type": "display_data"
    },
    {
     "data": {
      "text/plain": [
       "[PosixPath('/opt/data/results/giant/intersection_genes/clustermatch_vs_pearson/000-tbcc_ifng.h5'),\n",
       " PosixPath('/opt/data/results/giant/intersection_genes/clustermatch_vs_pearson/002-ccl18_zdhhc12.h5'),\n",
       " PosixPath('/opt/data/results/giant/intersection_genes/clustermatch_vs_pearson/004-glipr1_ifng.h5')]"
      ]
     },
     "metadata": {},
     "output_type": "display_data"
    }
   ],
   "source": [
    "subset_files = sorted(list((OUTPUT_DIR / subset).glob(\"*.h5\")))\n",
    "display(len(subset_files))\n",
    "display(subset_files[:3])"
   ]
  },
  {
   "cell_type": "code",
   "execution_count": 14,
   "id": "d0b64fa7-0376-4312-bca7-f1e42a2365bf",
   "metadata": {},
   "outputs": [
    {
     "data": {
      "text/html": [
       "<div>\n",
       "<style scoped>\n",
       "    .dataframe tbody tr th:only-of-type {\n",
       "        vertical-align: middle;\n",
       "    }\n",
       "\n",
       "    .dataframe tbody tr th {\n",
       "        vertical-align: top;\n",
       "    }\n",
       "\n",
       "    .dataframe thead th {\n",
       "        text-align: right;\n",
       "    }\n",
       "</style>\n",
       "<table border=\"1\" class=\"dataframe\">\n",
       "  <thead>\n",
       "    <tr style=\"text-align: right;\">\n",
       "      <th></th>\n",
       "      <th>gene1</th>\n",
       "      <th>gene2</th>\n",
       "      <th>weight</th>\n",
       "      <th>gene_pair</th>\n",
       "      <th>tissue</th>\n",
       "      <th>subset</th>\n",
       "    </tr>\n",
       "  </thead>\n",
       "  <tbody>\n",
       "    <tr>\n",
       "      <th>0</th>\n",
       "      <td>CLP1</td>\n",
       "      <td>ZNF207</td>\n",
       "      <td>0.282636</td>\n",
       "      <td>TBCC_IFNG</td>\n",
       "      <td>nervous-system</td>\n",
       "      <td>clustermatch_vs_pearson</td>\n",
       "    </tr>\n",
       "    <tr>\n",
       "      <th>1</th>\n",
       "      <td>CLP1</td>\n",
       "      <td>CXCR6</td>\n",
       "      <td>0.038849</td>\n",
       "      <td>TBCC_IFNG</td>\n",
       "      <td>nervous-system</td>\n",
       "      <td>clustermatch_vs_pearson</td>\n",
       "    </tr>\n",
       "    <tr>\n",
       "      <th>2</th>\n",
       "      <td>CLP1</td>\n",
       "      <td>RNF113A</td>\n",
       "      <td>0.136710</td>\n",
       "      <td>TBCC_IFNG</td>\n",
       "      <td>nervous-system</td>\n",
       "      <td>clustermatch_vs_pearson</td>\n",
       "    </tr>\n",
       "    <tr>\n",
       "      <th>3</th>\n",
       "      <td>CLP1</td>\n",
       "      <td>MOAP1</td>\n",
       "      <td>0.085126</td>\n",
       "      <td>TBCC_IFNG</td>\n",
       "      <td>nervous-system</td>\n",
       "      <td>clustermatch_vs_pearson</td>\n",
       "    </tr>\n",
       "    <tr>\n",
       "      <th>4</th>\n",
       "      <td>CLP1</td>\n",
       "      <td>MRFAP1L1</td>\n",
       "      <td>0.137168</td>\n",
       "      <td>TBCC_IFNG</td>\n",
       "      <td>nervous-system</td>\n",
       "      <td>clustermatch_vs_pearson</td>\n",
       "    </tr>\n",
       "  </tbody>\n",
       "</table>\n",
       "</div>"
      ],
      "text/plain": [
       "  gene1     gene2    weight  gene_pair          tissue  \\\n",
       "0  CLP1    ZNF207  0.282636  TBCC_IFNG  nervous-system   \n",
       "1  CLP1     CXCR6  0.038849  TBCC_IFNG  nervous-system   \n",
       "2  CLP1   RNF113A  0.136710  TBCC_IFNG  nervous-system   \n",
       "3  CLP1     MOAP1  0.085126  TBCC_IFNG  nervous-system   \n",
       "4  CLP1  MRFAP1L1  0.137168  TBCC_IFNG  nervous-system   \n",
       "\n",
       "                    subset  \n",
       "0  clustermatch_vs_pearson  \n",
       "1  clustermatch_vs_pearson  \n",
       "2  clustermatch_vs_pearson  \n",
       "3  clustermatch_vs_pearson  \n",
       "4  clustermatch_vs_pearson  "
      ]
     },
     "metadata": {},
     "output_type": "display_data"
    },
    {
     "data": {
      "text/plain": [
       "100"
      ]
     },
     "metadata": {},
     "output_type": "display_data"
    }
   ],
   "source": [
    "_dfs = [\n",
    "    pd.read_hdf(f, key=\"data\").assign(\n",
    "        gene_pair=f.name.split(\"-\")[1].split(\".\")[0].upper(),\n",
    "        tissue=pd.read_hdf(f, key=\"metadata\")[\"tissue\"].squeeze(),\n",
    "        subset=subset,\n",
    "    )\n",
    "    for f in subset_files\n",
    "]\n",
    "\n",
    "display(_dfs[0].head())\n",
    "all_subsets_dfs.extend(_dfs)\n",
    "display(len(all_subsets_dfs))"
   ]
  },
  {
   "cell_type": "markdown",
   "id": "9bbde09c-d148-4edc-b821-a442512d0e1a",
   "metadata": {},
   "source": [
    "## Clustermatch vs Pearson/Spearman"
   ]
  },
  {
   "cell_type": "code",
   "execution_count": 15,
   "id": "5769827c-d208-430c-9571-3d8b77b3d24b",
   "metadata": {},
   "outputs": [],
   "source": [
    "subset = \"clustermatch_vs_pearson_spearman\""
   ]
  },
  {
   "cell_type": "code",
   "execution_count": 16,
   "id": "cc71cdb1-9e7f-458b-8f58-11f741df5aae",
   "metadata": {},
   "outputs": [
    {
     "data": {
      "text/plain": [
       "2"
      ]
     },
     "metadata": {},
     "output_type": "display_data"
    },
    {
     "data": {
      "text/plain": [
       "[PosixPath('/opt/data/results/giant/intersection_genes/clustermatch_vs_pearson_spearman/000-dnajc5_gtpbp1.h5'),\n",
       " PosixPath('/opt/data/results/giant/intersection_genes/clustermatch_vs_pearson_spearman/004-cyth4_gtpbp1.h5')]"
      ]
     },
     "metadata": {},
     "output_type": "display_data"
    }
   ],
   "source": [
    "subset_files = sorted(list((OUTPUT_DIR / subset).glob(\"*.h5\")))\n",
    "display(len(subset_files))\n",
    "display(subset_files[:3])"
   ]
  },
  {
   "cell_type": "code",
   "execution_count": 17,
   "id": "f9f54016-3e37-4825-9c48-c147f6ffc7e6",
   "metadata": {},
   "outputs": [
    {
     "data": {
      "text/html": [
       "<div>\n",
       "<style scoped>\n",
       "    .dataframe tbody tr th:only-of-type {\n",
       "        vertical-align: middle;\n",
       "    }\n",
       "\n",
       "    .dataframe tbody tr th {\n",
       "        vertical-align: top;\n",
       "    }\n",
       "\n",
       "    .dataframe thead th {\n",
       "        text-align: right;\n",
       "    }\n",
       "</style>\n",
       "<table border=\"1\" class=\"dataframe\">\n",
       "  <thead>\n",
       "    <tr style=\"text-align: right;\">\n",
       "      <th></th>\n",
       "      <th>gene1</th>\n",
       "      <th>gene2</th>\n",
       "      <th>weight</th>\n",
       "      <th>gene_pair</th>\n",
       "      <th>tissue</th>\n",
       "      <th>subset</th>\n",
       "    </tr>\n",
       "  </thead>\n",
       "  <tbody>\n",
       "    <tr>\n",
       "      <th>0</th>\n",
       "      <td>NPRL3</td>\n",
       "      <td>NFKBIB</td>\n",
       "      <td>0.108910</td>\n",
       "      <td>DNAJC5_GTPBP1</td>\n",
       "      <td>central-nervous-system</td>\n",
       "      <td>clustermatch_vs_pearson_spearman</td>\n",
       "    </tr>\n",
       "    <tr>\n",
       "      <th>1</th>\n",
       "      <td>NPRL3</td>\n",
       "      <td>WIZ</td>\n",
       "      <td>0.185644</td>\n",
       "      <td>DNAJC5_GTPBP1</td>\n",
       "      <td>central-nervous-system</td>\n",
       "      <td>clustermatch_vs_pearson_spearman</td>\n",
       "    </tr>\n",
       "    <tr>\n",
       "      <th>2</th>\n",
       "      <td>NPRL3</td>\n",
       "      <td>ATP6V0C</td>\n",
       "      <td>0.209239</td>\n",
       "      <td>DNAJC5_GTPBP1</td>\n",
       "      <td>central-nervous-system</td>\n",
       "      <td>clustermatch_vs_pearson_spearman</td>\n",
       "    </tr>\n",
       "    <tr>\n",
       "      <th>3</th>\n",
       "      <td>NPRL3</td>\n",
       "      <td>NECTIN1</td>\n",
       "      <td>0.128082</td>\n",
       "      <td>DNAJC5_GTPBP1</td>\n",
       "      <td>central-nervous-system</td>\n",
       "      <td>clustermatch_vs_pearson_spearman</td>\n",
       "    </tr>\n",
       "    <tr>\n",
       "      <th>4</th>\n",
       "      <td>NPRL3</td>\n",
       "      <td>MINK1</td>\n",
       "      <td>0.165076</td>\n",
       "      <td>DNAJC5_GTPBP1</td>\n",
       "      <td>central-nervous-system</td>\n",
       "      <td>clustermatch_vs_pearson_spearman</td>\n",
       "    </tr>\n",
       "  </tbody>\n",
       "</table>\n",
       "</div>"
      ],
      "text/plain": [
       "   gene1    gene2    weight      gene_pair                  tissue  \\\n",
       "0  NPRL3   NFKBIB  0.108910  DNAJC5_GTPBP1  central-nervous-system   \n",
       "1  NPRL3      WIZ  0.185644  DNAJC5_GTPBP1  central-nervous-system   \n",
       "2  NPRL3  ATP6V0C  0.209239  DNAJC5_GTPBP1  central-nervous-system   \n",
       "3  NPRL3  NECTIN1  0.128082  DNAJC5_GTPBP1  central-nervous-system   \n",
       "4  NPRL3    MINK1  0.165076  DNAJC5_GTPBP1  central-nervous-system   \n",
       "\n",
       "                             subset  \n",
       "0  clustermatch_vs_pearson_spearman  \n",
       "1  clustermatch_vs_pearson_spearman  \n",
       "2  clustermatch_vs_pearson_spearman  \n",
       "3  clustermatch_vs_pearson_spearman  \n",
       "4  clustermatch_vs_pearson_spearman  "
      ]
     },
     "metadata": {},
     "output_type": "display_data"
    },
    {
     "data": {
      "text/plain": [
       "102"
      ]
     },
     "metadata": {},
     "output_type": "display_data"
    }
   ],
   "source": [
    "_dfs = [\n",
    "    pd.read_hdf(f, key=\"data\").assign(\n",
    "        gene_pair=f.name.split(\"-\")[1].split(\".\")[0].upper(),\n",
    "        tissue=pd.read_hdf(f, key=\"metadata\")[\"tissue\"].squeeze(),\n",
    "        subset=subset,\n",
    "    )\n",
    "    for f in subset_files\n",
    "]\n",
    "\n",
    "display(_dfs[0].head())\n",
    "all_subsets_dfs.extend(_dfs)\n",
    "display(len(all_subsets_dfs))"
   ]
  },
  {
   "cell_type": "markdown",
   "id": "8940fb47-61d6-4841-9df6-78cc4e7759b3",
   "metadata": {},
   "source": [
    "## Clustermatch vs Spearman"
   ]
  },
  {
   "cell_type": "code",
   "execution_count": 18,
   "id": "636aebb7-64f4-449f-a962-c3b5fa2c6310",
   "metadata": {},
   "outputs": [],
   "source": [
    "subset = \"clustermatch_vs_spearman\""
   ]
  },
  {
   "cell_type": "code",
   "execution_count": 19,
   "id": "3b4ff487-053f-44bf-8afa-5f13f91fb6d5",
   "metadata": {},
   "outputs": [
    {
     "data": {
      "text/plain": [
       "24"
      ]
     },
     "metadata": {},
     "output_type": "display_data"
    },
    {
     "data": {
      "text/plain": [
       "[PosixPath('/opt/data/results/giant/intersection_genes/clustermatch_vs_spearman/000-kdm6a_uty.h5'),\n",
       " PosixPath('/opt/data/results/giant/intersection_genes/clustermatch_vs_spearman/001-cytip_kiaa0040.h5'),\n",
       " PosixPath('/opt/data/results/giant/intersection_genes/clustermatch_vs_spearman/002-cytip_rassf2.h5')]"
      ]
     },
     "metadata": {},
     "output_type": "display_data"
    }
   ],
   "source": [
    "subset_files = sorted(list((OUTPUT_DIR / subset).glob(\"*.h5\")))\n",
    "display(len(subset_files))\n",
    "display(subset_files[:3])"
   ]
  },
  {
   "cell_type": "code",
   "execution_count": 20,
   "id": "94beeb14-2524-4316-aaa1-880034e2976b",
   "metadata": {},
   "outputs": [
    {
     "data": {
      "text/html": [
       "<div>\n",
       "<style scoped>\n",
       "    .dataframe tbody tr th:only-of-type {\n",
       "        vertical-align: middle;\n",
       "    }\n",
       "\n",
       "    .dataframe tbody tr th {\n",
       "        vertical-align: top;\n",
       "    }\n",
       "\n",
       "    .dataframe thead th {\n",
       "        text-align: right;\n",
       "    }\n",
       "</style>\n",
       "<table border=\"1\" class=\"dataframe\">\n",
       "  <thead>\n",
       "    <tr style=\"text-align: right;\">\n",
       "      <th></th>\n",
       "      <th>gene1</th>\n",
       "      <th>gene2</th>\n",
       "      <th>weight</th>\n",
       "      <th>gene_pair</th>\n",
       "      <th>tissue</th>\n",
       "      <th>subset</th>\n",
       "    </tr>\n",
       "  </thead>\n",
       "  <tbody>\n",
       "    <tr>\n",
       "      <th>0</th>\n",
       "      <td>WAC</td>\n",
       "      <td>MORC3</td>\n",
       "      <td>0.416091</td>\n",
       "      <td>KDM6A_UTY</td>\n",
       "      <td>placenta</td>\n",
       "      <td>clustermatch_vs_spearman</td>\n",
       "    </tr>\n",
       "    <tr>\n",
       "      <th>1</th>\n",
       "      <td>WAC</td>\n",
       "      <td>DDX3X</td>\n",
       "      <td>0.357964</td>\n",
       "      <td>KDM6A_UTY</td>\n",
       "      <td>placenta</td>\n",
       "      <td>clustermatch_vs_spearman</td>\n",
       "    </tr>\n",
       "    <tr>\n",
       "      <th>2</th>\n",
       "      <td>WAC</td>\n",
       "      <td>PHF3</td>\n",
       "      <td>0.421210</td>\n",
       "      <td>KDM6A_UTY</td>\n",
       "      <td>placenta</td>\n",
       "      <td>clustermatch_vs_spearman</td>\n",
       "    </tr>\n",
       "    <tr>\n",
       "      <th>3</th>\n",
       "      <td>WAC</td>\n",
       "      <td>NIPBL</td>\n",
       "      <td>0.410458</td>\n",
       "      <td>KDM6A_UTY</td>\n",
       "      <td>placenta</td>\n",
       "      <td>clustermatch_vs_spearman</td>\n",
       "    </tr>\n",
       "    <tr>\n",
       "      <th>4</th>\n",
       "      <td>WAC</td>\n",
       "      <td>ITSN2</td>\n",
       "      <td>0.387687</td>\n",
       "      <td>KDM6A_UTY</td>\n",
       "      <td>placenta</td>\n",
       "      <td>clustermatch_vs_spearman</td>\n",
       "    </tr>\n",
       "  </tbody>\n",
       "</table>\n",
       "</div>"
      ],
      "text/plain": [
       "  gene1  gene2    weight  gene_pair    tissue                    subset\n",
       "0   WAC  MORC3  0.416091  KDM6A_UTY  placenta  clustermatch_vs_spearman\n",
       "1   WAC  DDX3X  0.357964  KDM6A_UTY  placenta  clustermatch_vs_spearman\n",
       "2   WAC   PHF3  0.421210  KDM6A_UTY  placenta  clustermatch_vs_spearman\n",
       "3   WAC  NIPBL  0.410458  KDM6A_UTY  placenta  clustermatch_vs_spearman\n",
       "4   WAC  ITSN2  0.387687  KDM6A_UTY  placenta  clustermatch_vs_spearman"
      ]
     },
     "metadata": {},
     "output_type": "display_data"
    },
    {
     "data": {
      "text/plain": [
       "126"
      ]
     },
     "metadata": {},
     "output_type": "display_data"
    }
   ],
   "source": [
    "_dfs = [\n",
    "    pd.read_hdf(f, key=\"data\").assign(\n",
    "        gene_pair=f.name.split(\"-\")[1].split(\".\")[0].upper(),\n",
    "        tissue=pd.read_hdf(f, key=\"metadata\")[\"tissue\"].squeeze(),\n",
    "        subset=subset,\n",
    "    )\n",
    "    for f in subset_files\n",
    "]\n",
    "\n",
    "display(_dfs[0].head())\n",
    "all_subsets_dfs.extend(_dfs)\n",
    "display(len(all_subsets_dfs))"
   ]
  },
  {
   "cell_type": "markdown",
   "id": "40500aca-4d2d-497e-9919-523b399471f6",
   "metadata": {},
   "source": [
    "## Pearson vs Clustermatch"
   ]
  },
  {
   "cell_type": "code",
   "execution_count": 21,
   "id": "f1494750-dd8f-49c9-a9d5-9dd7e708f54f",
   "metadata": {},
   "outputs": [],
   "source": [
    "subset = \"pearson_vs_clustermatch\""
   ]
  },
  {
   "cell_type": "code",
   "execution_count": 22,
   "id": "a887e9ef-99d3-45b0-bb26-312c55f5f272",
   "metadata": {},
   "outputs": [
    {
     "data": {
      "text/plain": [
       "100"
      ]
     },
     "metadata": {},
     "output_type": "display_data"
    },
    {
     "data": {
      "text/plain": [
       "[PosixPath('/opt/data/results/giant/intersection_genes/pearson_vs_clustermatch/000-tnni2_myoz1.h5'),\n",
       " PosixPath('/opt/data/results/giant/intersection_genes/pearson_vs_clustermatch/001-mybpc2_tnni2.h5'),\n",
       " PosixPath('/opt/data/results/giant/intersection_genes/pearson_vs_clustermatch/002-myoz1_pygm.h5')]"
      ]
     },
     "metadata": {},
     "output_type": "display_data"
    }
   ],
   "source": [
    "subset_files = sorted(list((OUTPUT_DIR / subset).glob(\"*.h5\")))\n",
    "display(len(subset_files))\n",
    "display(subset_files[:3])"
   ]
  },
  {
   "cell_type": "code",
   "execution_count": 23,
   "id": "eefa6e1c-7c73-4ae1-abd7-b3c1262a2ef9",
   "metadata": {},
   "outputs": [
    {
     "data": {
      "text/html": [
       "<div>\n",
       "<style scoped>\n",
       "    .dataframe tbody tr th:only-of-type {\n",
       "        vertical-align: middle;\n",
       "    }\n",
       "\n",
       "    .dataframe tbody tr th {\n",
       "        vertical-align: top;\n",
       "    }\n",
       "\n",
       "    .dataframe thead th {\n",
       "        text-align: right;\n",
       "    }\n",
       "</style>\n",
       "<table border=\"1\" class=\"dataframe\">\n",
       "  <thead>\n",
       "    <tr style=\"text-align: right;\">\n",
       "      <th></th>\n",
       "      <th>gene1</th>\n",
       "      <th>gene2</th>\n",
       "      <th>weight</th>\n",
       "      <th>gene_pair</th>\n",
       "      <th>tissue</th>\n",
       "      <th>subset</th>\n",
       "    </tr>\n",
       "  </thead>\n",
       "  <tbody>\n",
       "    <tr>\n",
       "      <th>0</th>\n",
       "      <td>GVQW3</td>\n",
       "      <td>MYOZ1</td>\n",
       "      <td>0.106883</td>\n",
       "      <td>TNNI2_MYOZ1</td>\n",
       "      <td>skeletal-muscle</td>\n",
       "      <td>pearson_vs_clustermatch</td>\n",
       "    </tr>\n",
       "    <tr>\n",
       "      <th>1</th>\n",
       "      <td>GVQW3</td>\n",
       "      <td>TNNI2</td>\n",
       "      <td>0.114303</td>\n",
       "      <td>TNNI2_MYOZ1</td>\n",
       "      <td>skeletal-muscle</td>\n",
       "      <td>pearson_vs_clustermatch</td>\n",
       "    </tr>\n",
       "    <tr>\n",
       "      <th>2</th>\n",
       "      <td>GVQW3</td>\n",
       "      <td>MFSD2B</td>\n",
       "      <td>0.106883</td>\n",
       "      <td>TNNI2_MYOZ1</td>\n",
       "      <td>skeletal-muscle</td>\n",
       "      <td>pearson_vs_clustermatch</td>\n",
       "    </tr>\n",
       "    <tr>\n",
       "      <th>3</th>\n",
       "      <td>GVQW3</td>\n",
       "      <td>SBK3</td>\n",
       "      <td>0.114303</td>\n",
       "      <td>TNNI2_MYOZ1</td>\n",
       "      <td>skeletal-muscle</td>\n",
       "      <td>pearson_vs_clustermatch</td>\n",
       "    </tr>\n",
       "    <tr>\n",
       "      <th>4</th>\n",
       "      <td>GVQW3</td>\n",
       "      <td>DCDC2C</td>\n",
       "      <td>0.106883</td>\n",
       "      <td>TNNI2_MYOZ1</td>\n",
       "      <td>skeletal-muscle</td>\n",
       "      <td>pearson_vs_clustermatch</td>\n",
       "    </tr>\n",
       "  </tbody>\n",
       "</table>\n",
       "</div>"
      ],
      "text/plain": [
       "   gene1   gene2    weight    gene_pair           tissue  \\\n",
       "0  GVQW3   MYOZ1  0.106883  TNNI2_MYOZ1  skeletal-muscle   \n",
       "1  GVQW3   TNNI2  0.114303  TNNI2_MYOZ1  skeletal-muscle   \n",
       "2  GVQW3  MFSD2B  0.106883  TNNI2_MYOZ1  skeletal-muscle   \n",
       "3  GVQW3    SBK3  0.114303  TNNI2_MYOZ1  skeletal-muscle   \n",
       "4  GVQW3  DCDC2C  0.106883  TNNI2_MYOZ1  skeletal-muscle   \n",
       "\n",
       "                    subset  \n",
       "0  pearson_vs_clustermatch  \n",
       "1  pearson_vs_clustermatch  \n",
       "2  pearson_vs_clustermatch  \n",
       "3  pearson_vs_clustermatch  \n",
       "4  pearson_vs_clustermatch  "
      ]
     },
     "metadata": {},
     "output_type": "display_data"
    },
    {
     "data": {
      "text/plain": [
       "226"
      ]
     },
     "metadata": {},
     "output_type": "display_data"
    }
   ],
   "source": [
    "_dfs = [\n",
    "    pd.read_hdf(f, key=\"data\").assign(\n",
    "        gene_pair=f.name.split(\"-\")[1].split(\".\")[0].upper(),\n",
    "        tissue=pd.read_hdf(f, key=\"metadata\")[\"tissue\"].squeeze(),\n",
    "        subset=subset,\n",
    "    )\n",
    "    for f in subset_files\n",
    "]\n",
    "\n",
    "display(_dfs[0].head())\n",
    "all_subsets_dfs.extend(_dfs)\n",
    "display(len(all_subsets_dfs))"
   ]
  },
  {
   "cell_type": "markdown",
   "id": "8788a71c-4840-4798-a14b-84f9b856e626",
   "metadata": {},
   "source": [
    "## Pearson vs Clustermatch/Spearman"
   ]
  },
  {
   "cell_type": "code",
   "execution_count": 24,
   "id": "819fc706-1bd3-48ba-9c60-632fca4b5bdd",
   "metadata": {},
   "outputs": [],
   "source": [
    "subset = \"pearson_vs_clustermatch_spearman\""
   ]
  },
  {
   "cell_type": "code",
   "execution_count": 25,
   "id": "3175481f-cf87-4394-a3f4-ef3b15fd1c09",
   "metadata": {},
   "outputs": [
    {
     "data": {
      "text/plain": [
       "100"
      ]
     },
     "metadata": {},
     "output_type": "display_data"
    },
    {
     "data": {
      "text/plain": [
       "[PosixPath('/opt/data/results/giant/intersection_genes/pearson_vs_clustermatch_spearman/000-ccl20_scgb3a1.h5'),\n",
       " PosixPath('/opt/data/results/giant/intersection_genes/pearson_vs_clustermatch_spearman/001-cxcl1_scgb3a1.h5'),\n",
       " PosixPath('/opt/data/results/giant/intersection_genes/pearson_vs_clustermatch_spearman/002-tnni2_tpm2.h5')]"
      ]
     },
     "metadata": {},
     "output_type": "display_data"
    }
   ],
   "source": [
    "subset_files = sorted(list((OUTPUT_DIR / subset).glob(\"*.h5\")))\n",
    "display(len(subset_files))\n",
    "display(subset_files[:3])"
   ]
  },
  {
   "cell_type": "code",
   "execution_count": 26,
   "id": "b1842627-dc9f-4df0-8c61-281b441ba7b4",
   "metadata": {},
   "outputs": [
    {
     "data": {
      "text/html": [
       "<div>\n",
       "<style scoped>\n",
       "    .dataframe tbody tr th:only-of-type {\n",
       "        vertical-align: middle;\n",
       "    }\n",
       "\n",
       "    .dataframe tbody tr th {\n",
       "        vertical-align: top;\n",
       "    }\n",
       "\n",
       "    .dataframe thead th {\n",
       "        text-align: right;\n",
       "    }\n",
       "</style>\n",
       "<table border=\"1\" class=\"dataframe\">\n",
       "  <thead>\n",
       "    <tr style=\"text-align: right;\">\n",
       "      <th></th>\n",
       "      <th>gene1</th>\n",
       "      <th>gene2</th>\n",
       "      <th>weight</th>\n",
       "      <th>gene_pair</th>\n",
       "      <th>tissue</th>\n",
       "      <th>subset</th>\n",
       "    </tr>\n",
       "  </thead>\n",
       "  <tbody>\n",
       "    <tr>\n",
       "      <th>0</th>\n",
       "      <td>NFKBIA</td>\n",
       "      <td>CXCL2</td>\n",
       "      <td>0.921080</td>\n",
       "      <td>CCL20_SCGB3A1</td>\n",
       "      <td>mononuclear-phagocyte</td>\n",
       "      <td>pearson_vs_clustermatch_spearman</td>\n",
       "    </tr>\n",
       "    <tr>\n",
       "      <th>1</th>\n",
       "      <td>NFKBIA</td>\n",
       "      <td>TNFAIP3</td>\n",
       "      <td>0.988534</td>\n",
       "      <td>CCL20_SCGB3A1</td>\n",
       "      <td>mononuclear-phagocyte</td>\n",
       "      <td>pearson_vs_clustermatch_spearman</td>\n",
       "    </tr>\n",
       "    <tr>\n",
       "      <th>2</th>\n",
       "      <td>NFKBIA</td>\n",
       "      <td>TRAF1</td>\n",
       "      <td>0.523726</td>\n",
       "      <td>CCL20_SCGB3A1</td>\n",
       "      <td>mononuclear-phagocyte</td>\n",
       "      <td>pearson_vs_clustermatch_spearman</td>\n",
       "    </tr>\n",
       "    <tr>\n",
       "      <th>3</th>\n",
       "      <td>NFKBIA</td>\n",
       "      <td>IRF1</td>\n",
       "      <td>0.877891</td>\n",
       "      <td>CCL20_SCGB3A1</td>\n",
       "      <td>mononuclear-phagocyte</td>\n",
       "      <td>pearson_vs_clustermatch_spearman</td>\n",
       "    </tr>\n",
       "    <tr>\n",
       "      <th>4</th>\n",
       "      <td>NFKBIA</td>\n",
       "      <td>BCL2A1</td>\n",
       "      <td>0.960765</td>\n",
       "      <td>CCL20_SCGB3A1</td>\n",
       "      <td>mononuclear-phagocyte</td>\n",
       "      <td>pearson_vs_clustermatch_spearman</td>\n",
       "    </tr>\n",
       "  </tbody>\n",
       "</table>\n",
       "</div>"
      ],
      "text/plain": [
       "    gene1    gene2    weight      gene_pair                 tissue  \\\n",
       "0  NFKBIA    CXCL2  0.921080  CCL20_SCGB3A1  mononuclear-phagocyte   \n",
       "1  NFKBIA  TNFAIP3  0.988534  CCL20_SCGB3A1  mononuclear-phagocyte   \n",
       "2  NFKBIA    TRAF1  0.523726  CCL20_SCGB3A1  mononuclear-phagocyte   \n",
       "3  NFKBIA     IRF1  0.877891  CCL20_SCGB3A1  mononuclear-phagocyte   \n",
       "4  NFKBIA   BCL2A1  0.960765  CCL20_SCGB3A1  mononuclear-phagocyte   \n",
       "\n",
       "                             subset  \n",
       "0  pearson_vs_clustermatch_spearman  \n",
       "1  pearson_vs_clustermatch_spearman  \n",
       "2  pearson_vs_clustermatch_spearman  \n",
       "3  pearson_vs_clustermatch_spearman  \n",
       "4  pearson_vs_clustermatch_spearman  "
      ]
     },
     "metadata": {},
     "output_type": "display_data"
    },
    {
     "data": {
      "text/plain": [
       "326"
      ]
     },
     "metadata": {},
     "output_type": "display_data"
    }
   ],
   "source": [
    "_dfs = [\n",
    "    pd.read_hdf(f, key=\"data\").assign(\n",
    "        gene_pair=f.name.split(\"-\")[1].split(\".\")[0].upper(),\n",
    "        tissue=pd.read_hdf(f, key=\"metadata\")[\"tissue\"].squeeze(),\n",
    "        subset=subset,\n",
    "    )\n",
    "    for f in subset_files\n",
    "]\n",
    "\n",
    "display(_dfs[0].head())\n",
    "all_subsets_dfs.extend(_dfs)\n",
    "display(len(all_subsets_dfs))"
   ]
  },
  {
   "cell_type": "markdown",
   "id": "fb38664b-26fc-40f8-994d-a22725c0d693",
   "metadata": {},
   "source": [
    "# Combine"
   ]
  },
  {
   "cell_type": "code",
   "execution_count": 27,
   "id": "6a20a5f7-7e11-4558-bfc7-ebc63accd800",
   "metadata": {},
   "outputs": [],
   "source": [
    "df = pd.concat(all_subsets_dfs, ignore_index=True)"
   ]
  },
  {
   "cell_type": "code",
   "execution_count": 28,
   "id": "a82e234a-8fb8-4a40-b06a-b2852dada4ac",
   "metadata": {},
   "outputs": [
    {
     "data": {
      "text/plain": [
       "(34584, 6)"
      ]
     },
     "execution_count": 28,
     "metadata": {},
     "output_type": "execute_result"
    }
   ],
   "source": [
    "df.shape"
   ]
  },
  {
   "cell_type": "code",
   "execution_count": 29,
   "id": "ded5220e-e250-47d4-8cec-611befb55ac1",
   "metadata": {},
   "outputs": [
    {
     "data": {
      "text/html": [
       "<div>\n",
       "<style scoped>\n",
       "    .dataframe tbody tr th:only-of-type {\n",
       "        vertical-align: middle;\n",
       "    }\n",
       "\n",
       "    .dataframe tbody tr th {\n",
       "        vertical-align: top;\n",
       "    }\n",
       "\n",
       "    .dataframe thead th {\n",
       "        text-align: right;\n",
       "    }\n",
       "</style>\n",
       "<table border=\"1\" class=\"dataframe\">\n",
       "  <thead>\n",
       "    <tr style=\"text-align: right;\">\n",
       "      <th></th>\n",
       "      <th>gene1</th>\n",
       "      <th>gene2</th>\n",
       "      <th>weight</th>\n",
       "      <th>gene_pair</th>\n",
       "      <th>tissue</th>\n",
       "      <th>subset</th>\n",
       "    </tr>\n",
       "  </thead>\n",
       "  <tbody>\n",
       "    <tr>\n",
       "      <th>0</th>\n",
       "      <td>CLP1</td>\n",
       "      <td>ZNF207</td>\n",
       "      <td>0.282636</td>\n",
       "      <td>TBCC_IFNG</td>\n",
       "      <td>nervous-system</td>\n",
       "      <td>clustermatch_vs_pearson</td>\n",
       "    </tr>\n",
       "    <tr>\n",
       "      <th>1</th>\n",
       "      <td>CLP1</td>\n",
       "      <td>CXCR6</td>\n",
       "      <td>0.038849</td>\n",
       "      <td>TBCC_IFNG</td>\n",
       "      <td>nervous-system</td>\n",
       "      <td>clustermatch_vs_pearson</td>\n",
       "    </tr>\n",
       "    <tr>\n",
       "      <th>2</th>\n",
       "      <td>CLP1</td>\n",
       "      <td>RNF113A</td>\n",
       "      <td>0.136710</td>\n",
       "      <td>TBCC_IFNG</td>\n",
       "      <td>nervous-system</td>\n",
       "      <td>clustermatch_vs_pearson</td>\n",
       "    </tr>\n",
       "    <tr>\n",
       "      <th>3</th>\n",
       "      <td>CLP1</td>\n",
       "      <td>MOAP1</td>\n",
       "      <td>0.085126</td>\n",
       "      <td>TBCC_IFNG</td>\n",
       "      <td>nervous-system</td>\n",
       "      <td>clustermatch_vs_pearson</td>\n",
       "    </tr>\n",
       "    <tr>\n",
       "      <th>4</th>\n",
       "      <td>CLP1</td>\n",
       "      <td>MRFAP1L1</td>\n",
       "      <td>0.137168</td>\n",
       "      <td>TBCC_IFNG</td>\n",
       "      <td>nervous-system</td>\n",
       "      <td>clustermatch_vs_pearson</td>\n",
       "    </tr>\n",
       "  </tbody>\n",
       "</table>\n",
       "</div>"
      ],
      "text/plain": [
       "  gene1     gene2    weight  gene_pair          tissue  \\\n",
       "0  CLP1    ZNF207  0.282636  TBCC_IFNG  nervous-system   \n",
       "1  CLP1     CXCR6  0.038849  TBCC_IFNG  nervous-system   \n",
       "2  CLP1   RNF113A  0.136710  TBCC_IFNG  nervous-system   \n",
       "3  CLP1     MOAP1  0.085126  TBCC_IFNG  nervous-system   \n",
       "4  CLP1  MRFAP1L1  0.137168  TBCC_IFNG  nervous-system   \n",
       "\n",
       "                    subset  \n",
       "0  clustermatch_vs_pearson  \n",
       "1  clustermatch_vs_pearson  \n",
       "2  clustermatch_vs_pearson  \n",
       "3  clustermatch_vs_pearson  \n",
       "4  clustermatch_vs_pearson  "
      ]
     },
     "execution_count": 29,
     "metadata": {},
     "output_type": "execute_result"
    }
   ],
   "source": [
    "df.head()"
   ]
  },
  {
   "cell_type": "markdown",
   "id": "2b7a894c-0604-40f8-b736-cc4aa6c93a81",
   "metadata": {},
   "source": [
    "# Stats"
   ]
  },
  {
   "cell_type": "code",
   "execution_count": 30,
   "id": "0aff7ffe-ac66-4a6a-8ae2-11aa3043e741",
   "metadata": {},
   "outputs": [
    {
     "data": {
      "text/plain": [
       "subset\n",
       "clustermatch_vs_pearson             100\n",
       "clustermatch_vs_pearson_spearman      2\n",
       "clustermatch_vs_spearman             24\n",
       "pearson_vs_clustermatch             100\n",
       "pearson_vs_clustermatch_spearman    100\n",
       "Name: gene_pair, dtype: int64"
      ]
     },
     "metadata": {},
     "output_type": "display_data"
    }
   ],
   "source": [
    "df_stats = df.groupby([\"subset\"])[\"gene_pair\"].nunique()\n",
    "display(df_stats)"
   ]
  },
  {
   "cell_type": "code",
   "execution_count": 31,
   "id": "7cca4255-3d7a-40ad-844a-ed1b4a95f18e",
   "metadata": {},
   "outputs": [],
   "source": [
    "assert df_stats[\"clustermatch_vs_pearson\"] == N_TOP_GENE_PAIRS\n",
    "assert df_stats[\"pearson_vs_clustermatch\"] == N_TOP_GENE_PAIRS\n",
    "assert df_stats[\"pearson_vs_clustermatch_spearman\"] == N_TOP_GENE_PAIRS"
   ]
  },
  {
   "cell_type": "markdown",
   "id": "8c3a9c52-0e19-4ec8-9fc8-56d119ed6d4f",
   "metadata": {},
   "source": [
    "# Combine subsets"
   ]
  },
  {
   "cell_type": "code",
   "execution_count": 32,
   "id": "b40d8855-05af-43da-9bb6-78e5bf7edb67",
   "metadata": {},
   "outputs": [],
   "source": [
    "subset_cm_vs_rest = \"clustermatch_vs_rest\"\n",
    "subset_p_vs_rest = \"pearson_vs_rest\""
   ]
  },
  {
   "cell_type": "code",
   "execution_count": 33,
   "id": "f97a9a3f-edc0-4d73-bc34-fb3af7dca6a9",
   "metadata": {},
   "outputs": [],
   "source": [
    "df = df.replace(\n",
    "    {\n",
    "        \"subset\": {\n",
    "            \"clustermatch_vs_pearson\": subset_cm_vs_rest,\n",
    "            \"clustermatch_vs_spearman\": subset_cm_vs_rest,\n",
    "            \"clustermatch_vs_pearson_spearman\": subset_cm_vs_rest,\n",
    "            \"pearson_vs_clustermatch\": subset_p_vs_rest,\n",
    "            \"pearson_vs_clustermatch_spearman\": subset_p_vs_rest,\n",
    "        },\n",
    "    }\n",
    ")"
   ]
  },
  {
   "cell_type": "code",
   "execution_count": 34,
   "id": "64a49c1f-25b9-4fc8-903d-67b7197aae49",
   "metadata": {},
   "outputs": [
    {
     "data": {
      "text/html": [
       "<div>\n",
       "<style scoped>\n",
       "    .dataframe tbody tr th:only-of-type {\n",
       "        vertical-align: middle;\n",
       "    }\n",
       "\n",
       "    .dataframe tbody tr th {\n",
       "        vertical-align: top;\n",
       "    }\n",
       "\n",
       "    .dataframe thead th {\n",
       "        text-align: right;\n",
       "    }\n",
       "</style>\n",
       "<table border=\"1\" class=\"dataframe\">\n",
       "  <thead>\n",
       "    <tr style=\"text-align: right;\">\n",
       "      <th></th>\n",
       "      <th>gene1</th>\n",
       "      <th>gene2</th>\n",
       "      <th>weight</th>\n",
       "      <th>gene_pair</th>\n",
       "      <th>tissue</th>\n",
       "      <th>subset</th>\n",
       "    </tr>\n",
       "  </thead>\n",
       "  <tbody>\n",
       "    <tr>\n",
       "      <th>0</th>\n",
       "      <td>CLP1</td>\n",
       "      <td>ZNF207</td>\n",
       "      <td>0.282636</td>\n",
       "      <td>TBCC_IFNG</td>\n",
       "      <td>nervous-system</td>\n",
       "      <td>clustermatch_vs_rest</td>\n",
       "    </tr>\n",
       "    <tr>\n",
       "      <th>1</th>\n",
       "      <td>CLP1</td>\n",
       "      <td>CXCR6</td>\n",
       "      <td>0.038849</td>\n",
       "      <td>TBCC_IFNG</td>\n",
       "      <td>nervous-system</td>\n",
       "      <td>clustermatch_vs_rest</td>\n",
       "    </tr>\n",
       "    <tr>\n",
       "      <th>2</th>\n",
       "      <td>CLP1</td>\n",
       "      <td>RNF113A</td>\n",
       "      <td>0.136710</td>\n",
       "      <td>TBCC_IFNG</td>\n",
       "      <td>nervous-system</td>\n",
       "      <td>clustermatch_vs_rest</td>\n",
       "    </tr>\n",
       "    <tr>\n",
       "      <th>3</th>\n",
       "      <td>CLP1</td>\n",
       "      <td>MOAP1</td>\n",
       "      <td>0.085126</td>\n",
       "      <td>TBCC_IFNG</td>\n",
       "      <td>nervous-system</td>\n",
       "      <td>clustermatch_vs_rest</td>\n",
       "    </tr>\n",
       "    <tr>\n",
       "      <th>4</th>\n",
       "      <td>CLP1</td>\n",
       "      <td>MRFAP1L1</td>\n",
       "      <td>0.137168</td>\n",
       "      <td>TBCC_IFNG</td>\n",
       "      <td>nervous-system</td>\n",
       "      <td>clustermatch_vs_rest</td>\n",
       "    </tr>\n",
       "  </tbody>\n",
       "</table>\n",
       "</div>"
      ],
      "text/plain": [
       "  gene1     gene2    weight  gene_pair          tissue                subset\n",
       "0  CLP1    ZNF207  0.282636  TBCC_IFNG  nervous-system  clustermatch_vs_rest\n",
       "1  CLP1     CXCR6  0.038849  TBCC_IFNG  nervous-system  clustermatch_vs_rest\n",
       "2  CLP1   RNF113A  0.136710  TBCC_IFNG  nervous-system  clustermatch_vs_rest\n",
       "3  CLP1     MOAP1  0.085126  TBCC_IFNG  nervous-system  clustermatch_vs_rest\n",
       "4  CLP1  MRFAP1L1  0.137168  TBCC_IFNG  nervous-system  clustermatch_vs_rest"
      ]
     },
     "execution_count": 34,
     "metadata": {},
     "output_type": "execute_result"
    }
   ],
   "source": [
    "df.head()"
   ]
  },
  {
   "cell_type": "code",
   "execution_count": 35,
   "id": "aff75cdd-c7e7-4b72-a26e-2c39f78c03b5",
   "metadata": {},
   "outputs": [],
   "source": [
    "assert df[\"subset\"].unique().shape[0] == 2"
   ]
  },
  {
   "cell_type": "markdown",
   "id": "871ed2e7-fc22-4922-8ccf-67a81b927b30",
   "metadata": {},
   "source": [
    "# Analyses"
   ]
  },
  {
   "cell_type": "code",
   "execution_count": 36,
   "id": "c3527ab9-f47b-46de-b4b4-35e1b33e9620",
   "metadata": {},
   "outputs": [],
   "source": [
    "plot_stats = df.groupby([\"subset\", \"tissue\"])[\"gene_pair\"].nunique()"
   ]
  },
  {
   "cell_type": "code",
   "execution_count": 37,
   "id": "a48138a1-205a-467d-93d9-c2db478688a8",
   "metadata": {},
   "outputs": [
    {
     "data": {
      "text/plain": [
       "subset                tissue                \n",
       "clustermatch_vs_rest  b-lymphocyte               3\n",
       "                      blood                     24\n",
       "                      brain                      4\n",
       "                      central-nervous-system     6\n",
       "                      diencephalon               1\n",
       "Name: gene_pair, dtype: int64"
      ]
     },
     "execution_count": 37,
     "metadata": {},
     "output_type": "execute_result"
    }
   ],
   "source": [
    "plot_stats.head()"
   ]
  },
  {
   "cell_type": "code",
   "execution_count": 38,
   "id": "abbeeea3-6996-4628-ad9c-4d4c37c029b9",
   "metadata": {},
   "outputs": [],
   "source": [
    "plot_stats = (\n",
    "    plot_stats.groupby(\"subset\").apply(lambda grp: grp.nlargest(5)).droplevel(0)\n",
    ")\n",
    "\n",
    "# by percentage\n",
    "# plot_stats = plot_stats.groupby(\"subset\").apply(lambda x: x / x.sum())"
   ]
  },
  {
   "cell_type": "code",
   "execution_count": 39,
   "id": "fa7fd490-40bb-496e-afb1-96da0c1402f4",
   "metadata": {},
   "outputs": [
    {
     "data": {
      "text/plain": [
       "subset                tissue               \n",
       "clustermatch_vs_rest  blood                    24\n",
       "                      mononuclear-phagocyte    19\n",
       "                      natural-killer-cell      15\n",
       "                      leukocyte                12\n",
       "                      macrophage               10\n",
       "pearson_vs_rest       liver                    59\n",
       "                      skeletal-muscle          58\n",
       "                      blood                    20\n",
       "                      placenta                 19\n",
       "                      mononuclear-phagocyte     7\n",
       "Name: gene_pair, dtype: int64"
      ]
     },
     "execution_count": 39,
     "metadata": {},
     "output_type": "execute_result"
    }
   ],
   "source": [
    "plot_stats"
   ]
  },
  {
   "cell_type": "code",
   "execution_count": 40,
   "id": "2693b0f6-86f9-4ccf-b95f-e9870636af45",
   "metadata": {},
   "outputs": [
    {
     "data": {
      "text/plain": [
       "(8,)"
      ]
     },
     "execution_count": 40,
     "metadata": {},
     "output_type": "execute_result"
    }
   ],
   "source": [
    "plot_stats.index.get_level_values(\"tissue\").unique().shape"
   ]
  },
  {
   "cell_type": "code",
   "execution_count": 41,
   "id": "6b746b10-b73c-4040-b41c-403b1b4d2af3",
   "metadata": {},
   "outputs": [
    {
     "data": {
      "text/html": [
       "<div>\n",
       "<style scoped>\n",
       "    .dataframe tbody tr th:only-of-type {\n",
       "        vertical-align: middle;\n",
       "    }\n",
       "\n",
       "    .dataframe tbody tr th {\n",
       "        vertical-align: top;\n",
       "    }\n",
       "\n",
       "    .dataframe thead th {\n",
       "        text-align: right;\n",
       "    }\n",
       "</style>\n",
       "<table border=\"1\" class=\"dataframe\">\n",
       "  <thead>\n",
       "    <tr style=\"text-align: right;\">\n",
       "      <th></th>\n",
       "      <th>subset</th>\n",
       "      <th>tissue</th>\n",
       "      <th>gene_pair</th>\n",
       "    </tr>\n",
       "  </thead>\n",
       "  <tbody>\n",
       "    <tr>\n",
       "      <th>0</th>\n",
       "      <td>clustermatch_vs_rest</td>\n",
       "      <td>blood</td>\n",
       "      <td>24</td>\n",
       "    </tr>\n",
       "    <tr>\n",
       "      <th>1</th>\n",
       "      <td>clustermatch_vs_rest</td>\n",
       "      <td>mononuclear-phagocyte</td>\n",
       "      <td>19</td>\n",
       "    </tr>\n",
       "    <tr>\n",
       "      <th>2</th>\n",
       "      <td>clustermatch_vs_rest</td>\n",
       "      <td>natural-killer-cell</td>\n",
       "      <td>15</td>\n",
       "    </tr>\n",
       "    <tr>\n",
       "      <th>3</th>\n",
       "      <td>clustermatch_vs_rest</td>\n",
       "      <td>leukocyte</td>\n",
       "      <td>12</td>\n",
       "    </tr>\n",
       "    <tr>\n",
       "      <th>4</th>\n",
       "      <td>clustermatch_vs_rest</td>\n",
       "      <td>macrophage</td>\n",
       "      <td>10</td>\n",
       "    </tr>\n",
       "  </tbody>\n",
       "</table>\n",
       "</div>"
      ],
      "text/plain": [
       "                 subset                 tissue  gene_pair\n",
       "0  clustermatch_vs_rest                  blood         24\n",
       "1  clustermatch_vs_rest  mononuclear-phagocyte         19\n",
       "2  clustermatch_vs_rest    natural-killer-cell         15\n",
       "3  clustermatch_vs_rest              leukocyte         12\n",
       "4  clustermatch_vs_rest             macrophage         10"
      ]
     },
     "metadata": {},
     "output_type": "display_data"
    }
   ],
   "source": [
    "plot_stats = plot_stats.reset_index()\n",
    "display(plot_stats.head())"
   ]
  },
  {
   "cell_type": "code",
   "execution_count": 42,
   "id": "dbe11607-64b2-413e-affd-104ee1a93ece",
   "metadata": {},
   "outputs": [
    {
     "data": {
      "text/plain": [
       "array(['clustermatch_vs_rest', 'pearson_vs_rest'], dtype=object)"
      ]
     },
     "execution_count": 42,
     "metadata": {},
     "output_type": "execute_result"
    }
   ],
   "source": [
    "plot_stats[\"subset\"].unique()"
   ]
  },
  {
   "cell_type": "code",
   "execution_count": 43,
   "id": "42d151e7-23b1-47b0-af84-1259e64e2195",
   "metadata": {},
   "outputs": [
    {
     "data": {
      "text/plain": [
       "array(['blood', 'mononuclear-phagocyte', 'natural-killer-cell',\n",
       "       'leukocyte', 'macrophage', 'liver', 'skeletal-muscle', 'placenta'],\n",
       "      dtype=object)"
      ]
     },
     "execution_count": 43,
     "metadata": {},
     "output_type": "execute_result"
    }
   ],
   "source": [
    "plot_stats[\"tissue\"].unique()"
   ]
  },
  {
   "cell_type": "markdown",
   "id": "4e3e38a2-11eb-4d23-a150-9c4e68dad2e5",
   "metadata": {},
   "source": [
    "# Plots"
   ]
  },
  {
   "cell_type": "code",
   "execution_count": 63,
   "id": "143c511c-0637-458b-a225-7a9d0da63597",
   "metadata": {},
   "outputs": [],
   "source": [
    "PREDICTED_TISSUE_LABEL = \"Predicted tissue/cell type\\nin GIANT\"\n",
    "N_GENE_PAIRS_LABEL = \"Number of gene pairs\"\n",
    "AVG_PROB_INTERACTION_LABEL = (\n",
    "    \"Average probability of interaction\\nin tissue-specific networks\"\n",
    ")"
   ]
  },
  {
   "cell_type": "markdown",
   "id": "a8b61f04-4f40-4cb4-82c5-3d4d1048dd76",
   "metadata": {},
   "source": [
    "## Tissues"
   ]
  },
  {
   "cell_type": "code",
   "execution_count": 64,
   "id": "2e7bf806-6e60-46a3-989a-2620b12aeefa",
   "metadata": {},
   "outputs": [],
   "source": [
    "subset_renames = {\n",
    "    \"clustermatch_vs_rest\": \"CCC vs others\",\n",
    "    # \"clustermatch_vs_pearson_spearman\": \"CCC vs Pearson/Spearman\",\n",
    "    # \"clustermatch_vs_spearman\": \"CCC vs Spearman\",\n",
    "    \"pearson_vs_rest\": \"Pearson vs others\",\n",
    "    # \"pearson_vs_clustermatch_spearman\": \"Pearson vs CCC/Spearman\",\n",
    "}\n",
    "\n",
    "tissue_renames = {\n",
    "    \"blood\": \"Blood\",\n",
    "    \"mononuclear-phagocyte\": \"Mononuclear phagocyte\",\n",
    "    \"natural-killer-cell\": \"Natural killer cell\",\n",
    "    \"leukocyte\": \"Leukocyte\",\n",
    "    \"macrophage\": \"Macrophage\",\n",
    "    \"central-nervous-system\": \"Central nervous system\",\n",
    "    \"granulocyte\": \"Granulocyte\",\n",
    "    \"b-lymphocyte\": \"B-lymphocyte\",\n",
    "    \"skeletal-muscle\": \"Skeletal muscle\",\n",
    "    \"liver\": \"Liver\",\n",
    "    \"placenta\": \"Placenta\",\n",
    "    \"renal-tubule\": \"Renal tubule\",\n",
    "    \"placenta\": \"Placenta\",\n",
    "    \"placenta\": \"Placenta\",\n",
    "}"
   ]
  },
  {
   "cell_type": "code",
   "execution_count": 65,
   "id": "e1851d15-4ac3-4c4b-be46-6f69c5008daf",
   "metadata": {},
   "outputs": [],
   "source": [
    "plot_data = plot_stats.replace(\n",
    "    {\n",
    "        \"subset\": subset_renames,\n",
    "        \"tissue\": tissue_renames,\n",
    "    }\n",
    ")"
   ]
  },
  {
   "cell_type": "code",
   "execution_count": 66,
   "id": "74ed56e3-8224-445a-97e3-a188d4e1e844",
   "metadata": {},
   "outputs": [],
   "source": [
    "blood_related_tissues = set(\n",
    "    [\n",
    "        \"Blood\",\n",
    "        \"Mononuclear phagocyte\",\n",
    "        \"Natural killer cell\",\n",
    "        \"Leukocyte\",\n",
    "        \"Macrophage\",\n",
    "        \"Granulocyte\",\n",
    "        \"B-lymphocyte\",\n",
    "    ]\n",
    ")"
   ]
  },
  {
   "cell_type": "code",
   "execution_count": 67,
   "id": "d52f1ffa-db0a-4714-82eb-a557fd3a617f",
   "metadata": {},
   "outputs": [],
   "source": [
    "tissues_order = [\n",
    "    \"Blood\",\n",
    "    \"Mononuclear phagocyte\",\n",
    "    \"Natural killer cell\",\n",
    "    \"Leukocyte\",\n",
    "    \"Macrophage\",\n",
    "    # \"Granulocyte\",\n",
    "    # \"B-lymphocyte\",\n",
    "    \"Skeletal muscle\",\n",
    "    \"Liver\",\n",
    "    \"Placenta\",\n",
    "    # \"Renal tubule\",\n",
    "    # \"Central nervous system\",\n",
    "]"
   ]
  },
  {
   "cell_type": "code",
   "execution_count": 68,
   "id": "6993edfe-b31c-4042-8447-39170d77729c",
   "metadata": {},
   "outputs": [
    {
     "data": {
      "text/html": [
       "<svg  width=\"550\" height=\"55\"><rect x=\"0\" y=\"0\" width=\"55\" height=\"55\" style=\"fill:#4c72b0;stroke-width:2;stroke:rgb(255,255,255)\"/><rect x=\"55\" y=\"0\" width=\"55\" height=\"55\" style=\"fill:#dd8452;stroke-width:2;stroke:rgb(255,255,255)\"/><rect x=\"110\" y=\"0\" width=\"55\" height=\"55\" style=\"fill:#55a868;stroke-width:2;stroke:rgb(255,255,255)\"/><rect x=\"165\" y=\"0\" width=\"55\" height=\"55\" style=\"fill:#c44e52;stroke-width:2;stroke:rgb(255,255,255)\"/><rect x=\"220\" y=\"0\" width=\"55\" height=\"55\" style=\"fill:#8172b3;stroke-width:2;stroke:rgb(255,255,255)\"/><rect x=\"275\" y=\"0\" width=\"55\" height=\"55\" style=\"fill:#937860;stroke-width:2;stroke:rgb(255,255,255)\"/><rect x=\"330\" y=\"0\" width=\"55\" height=\"55\" style=\"fill:#da8bc3;stroke-width:2;stroke:rgb(255,255,255)\"/><rect x=\"385\" y=\"0\" width=\"55\" height=\"55\" style=\"fill:#8c8c8c;stroke-width:2;stroke:rgb(255,255,255)\"/><rect x=\"440\" y=\"0\" width=\"55\" height=\"55\" style=\"fill:#ccb974;stroke-width:2;stroke:rgb(255,255,255)\"/><rect x=\"495\" y=\"0\" width=\"55\" height=\"55\" style=\"fill:#64b5cd;stroke-width:2;stroke:rgb(255,255,255)\"/></svg>"
      ],
      "text/plain": [
       "[(0.2980392156862745, 0.4470588235294118, 0.6901960784313725),\n",
       " (0.8666666666666667, 0.5176470588235295, 0.3215686274509804),\n",
       " (0.3333333333333333, 0.6588235294117647, 0.40784313725490196),\n",
       " (0.7686274509803922, 0.3058823529411765, 0.3215686274509804),\n",
       " (0.5058823529411764, 0.4470588235294118, 0.7019607843137254),\n",
       " (0.5764705882352941, 0.47058823529411764, 0.3764705882352941),\n",
       " (0.8549019607843137, 0.5450980392156862, 0.7647058823529411),\n",
       " (0.5490196078431373, 0.5490196078431373, 0.5490196078431373),\n",
       " (0.8, 0.7254901960784313, 0.4549019607843137),\n",
       " (0.39215686274509803, 0.7098039215686275, 0.803921568627451)]"
      ]
     },
     "metadata": {},
     "output_type": "display_data"
    }
   ],
   "source": [
    "deep_colors = sns.color_palette(\"deep\")\n",
    "display(deep_colors)"
   ]
  },
  {
   "cell_type": "code",
   "execution_count": 69,
   "id": "f8af3b39-b216-4286-9f01-df52a4ab92c7",
   "metadata": {},
   "outputs": [],
   "source": [
    "blood_color = deep_colors[3]\n",
    "others_color = deep_colors[0]"
   ]
  },
  {
   "cell_type": "code",
   "execution_count": 70,
   "id": "e0d0798a-9676-45b9-b450-c84af98d6d3b",
   "metadata": {},
   "outputs": [],
   "source": [
    "tissue_colors = {\n",
    "    t: blood_color if t in blood_related_tissues else others_color\n",
    "    for t in tissues_order\n",
    "}"
   ]
  },
  {
   "cell_type": "code",
   "execution_count": 79,
   "id": "c1572df0-e46e-44f8-a8e5-ad91e9ff77ea",
   "metadata": {},
   "outputs": [
    {
     "data": {
      "image/png": "[encoded data removed]",
      "text/plain": [
       "<Figure size 302.4x288 with 2 Axes>"
      ]
     },
     "metadata": {
      "needs_background": "light"
     },
     "output_type": "display_data"
    }
   ],
   "source": [
    "# first plot to show order of subset\n",
    "with sns.plotting_context(\"paper\", font_scale=1.0):\n",
    "    g = sns.FacetGrid(\n",
    "        plot_data,\n",
    "        row=\"subset\",\n",
    "        sharex=True,\n",
    "        sharey=True,\n",
    "        height=2.0,\n",
    "        aspect=2.1,\n",
    "    )\n",
    "    g.map(\n",
    "        sns.barplot, \"tissue\", \"gene_pair\", order=tissues_order, palette=tissue_colors\n",
    "    )\n",
    "    g.set_xticklabels(rotation=35, ha=\"right\")\n",
    "    g.set_axis_labels(PREDICTED_TISSUE_LABEL, \"\")\n",
    "\n",
    "    g.fig.text(0, 0.30, N_GENE_PAIRS_LABEL, rotation=90)"
   ]
  },
  {
   "cell_type": "code",
   "execution_count": 80,
   "id": "04c7f548-21ae-4a0d-a3da-56231bdd89cb",
   "metadata": {},
   "outputs": [
    {
     "data": {
      "image/png": "[encoded data removed]",
      "text/plain": [
       "<Figure size 302.4x288 with 2 Axes>"
      ]
     },
     "metadata": {
      "needs_background": "light"
     },
     "output_type": "display_data"
    }
   ],
   "source": [
    "# now again without row titles and save the plot\n",
    "with sns.plotting_context(\"paper\", font_scale=1.0):\n",
    "    g = sns.FacetGrid(\n",
    "        plot_data,\n",
    "        row=\"subset\",\n",
    "        sharex=True,\n",
    "        sharey=True,\n",
    "        height=2.0,\n",
    "        aspect=2.1,\n",
    "    )\n",
    "    g.map(\n",
    "        sns.barplot, \"tissue\", \"gene_pair\", order=tissues_order, palette=tissue_colors\n",
    "    )\n",
    "    g.set_xticklabels(rotation=30, ha=\"right\")\n",
    "    g.set_axis_labels(PREDICTED_TISSUE_LABEL, \"\")\n",
    "\n",
    "    g.set_titles(row_template=\"\")\n",
    "\n",
    "    g.fig.text(0, 0.30, N_GENE_PAIRS_LABEL, rotation=90)\n",
    "\n",
    "    g.savefig(\n",
    "        OUTPUT_FIGURE_DIR / \"top_gene_pairs-tissue_count.svg\",\n",
    "        bbox_inches=\"tight\",\n",
    "        dpi=300,\n",
    "        # facecolor=\"white\",\n",
    "        transparent=True,\n",
    "    )"
   ]
  },
  {
   "cell_type": "markdown",
   "id": "470ebac5-1731-4c74-8b35-057c4f52517a",
   "metadata": {},
   "source": [
    "## Connectivity"
   ]
  },
  {
   "cell_type": "code",
   "execution_count": 81,
   "id": "5f0493da-3c71-4f8a-bf56-69f34b4ec9fe",
   "metadata": {},
   "outputs": [],
   "source": [
    "plot_data = pd.merge(\n",
    "    df,\n",
    "    plot_stats,\n",
    "    left_on=[\"subset\", \"tissue\"],\n",
    "    right_on=[\"subset\", \"tissue\"],\n",
    "    how=\"inner\",\n",
    ")"
   ]
  },
  {
   "cell_type": "code",
   "execution_count": 82,
   "id": "4e6e26e3-bbb0-4ddc-a018-44bc3458e66b",
   "metadata": {},
   "outputs": [],
   "source": [
    "plot_data = plot_data.replace(\n",
    "    {\n",
    "        \"subset\": subset_renames,\n",
    "        \"tissue\": tissue_renames,\n",
    "    }\n",
    ")"
   ]
  },
  {
   "cell_type": "code",
   "execution_count": 83,
   "id": "7f5009f7-8163-4ae9-af38-dc3cd09384f4",
   "metadata": {},
   "outputs": [
    {
     "data": {
      "text/plain": [
       "(25518, 7)"
      ]
     },
     "execution_count": 83,
     "metadata": {},
     "output_type": "execute_result"
    }
   ],
   "source": [
    "plot_data.shape"
   ]
  },
  {
   "cell_type": "code",
   "execution_count": 84,
   "id": "87edf4bd-e28c-45a7-bc13-6901ea623b5b",
   "metadata": {},
   "outputs": [
    {
     "data": {
      "text/html": [
       "<div>\n",
       "<style scoped>\n",
       "    .dataframe tbody tr th:only-of-type {\n",
       "        vertical-align: middle;\n",
       "    }\n",
       "\n",
       "    .dataframe tbody tr th {\n",
       "        vertical-align: top;\n",
       "    }\n",
       "\n",
       "    .dataframe thead th {\n",
       "        text-align: right;\n",
       "    }\n",
       "</style>\n",
       "<table border=\"1\" class=\"dataframe\">\n",
       "  <thead>\n",
       "    <tr style=\"text-align: right;\">\n",
       "      <th></th>\n",
       "      <th>gene1</th>\n",
       "      <th>gene2</th>\n",
       "      <th>weight</th>\n",
       "      <th>gene_pair_x</th>\n",
       "      <th>tissue</th>\n",
       "      <th>subset</th>\n",
       "      <th>gene_pair_y</th>\n",
       "    </tr>\n",
       "  </thead>\n",
       "  <tbody>\n",
       "    <tr>\n",
       "      <th>0</th>\n",
       "      <td>CCL3</td>\n",
       "      <td>SCAMP2</td>\n",
       "      <td>0.111008</td>\n",
       "      <td>CCL18_ZDHHC12</td>\n",
       "      <td>Macrophage</td>\n",
       "      <td>CCC vs others</td>\n",
       "      <td>10</td>\n",
       "    </tr>\n",
       "    <tr>\n",
       "      <th>1</th>\n",
       "      <td>CCL3</td>\n",
       "      <td>CCL5</td>\n",
       "      <td>0.500257</td>\n",
       "      <td>CCL18_ZDHHC12</td>\n",
       "      <td>Macrophage</td>\n",
       "      <td>CCC vs others</td>\n",
       "      <td>10</td>\n",
       "    </tr>\n",
       "    <tr>\n",
       "      <th>2</th>\n",
       "      <td>CCL3</td>\n",
       "      <td>HLA-DMB</td>\n",
       "      <td>0.788821</td>\n",
       "      <td>CCL18_ZDHHC12</td>\n",
       "      <td>Macrophage</td>\n",
       "      <td>CCC vs others</td>\n",
       "      <td>10</td>\n",
       "    </tr>\n",
       "    <tr>\n",
       "      <th>3</th>\n",
       "      <td>CCL3</td>\n",
       "      <td>GBP1</td>\n",
       "      <td>0.127745</td>\n",
       "      <td>CCL18_ZDHHC12</td>\n",
       "      <td>Macrophage</td>\n",
       "      <td>CCC vs others</td>\n",
       "      <td>10</td>\n",
       "    </tr>\n",
       "    <tr>\n",
       "      <th>4</th>\n",
       "      <td>CCL3</td>\n",
       "      <td>ZDHHC12</td>\n",
       "      <td>0.031800</td>\n",
       "      <td>CCL18_ZDHHC12</td>\n",
       "      <td>Macrophage</td>\n",
       "      <td>CCC vs others</td>\n",
       "      <td>10</td>\n",
       "    </tr>\n",
       "  </tbody>\n",
       "</table>\n",
       "</div>"
      ],
      "text/plain": [
       "  gene1    gene2    weight    gene_pair_x      tissue         subset  \\\n",
       "0  CCL3   SCAMP2  0.111008  CCL18_ZDHHC12  Macrophage  CCC vs others   \n",
       "1  CCL3     CCL5  0.500257  CCL18_ZDHHC12  Macrophage  CCC vs others   \n",
       "2  CCL3  HLA-DMB  0.788821  CCL18_ZDHHC12  Macrophage  CCC vs others   \n",
       "3  CCL3     GBP1  0.127745  CCL18_ZDHHC12  Macrophage  CCC vs others   \n",
       "4  CCL3  ZDHHC12  0.031800  CCL18_ZDHHC12  Macrophage  CCC vs others   \n",
       "\n",
       "   gene_pair_y  \n",
       "0           10  \n",
       "1           10  \n",
       "2           10  \n",
       "3           10  \n",
       "4           10  "
      ]
     },
     "execution_count": 84,
     "metadata": {},
     "output_type": "execute_result"
    }
   ],
   "source": [
    "plot_data.head()"
   ]
  },
  {
   "cell_type": "code",
   "execution_count": 85,
   "id": "d1030ae8-f89c-485d-bc0e-cff3066123b3",
   "metadata": {},
   "outputs": [],
   "source": [
    "# g = sns.catplot(data=plot_df, x=\"subset\", y=\"weight\", kind=\"box\", orient=\"v\", hue=\"tissue\", height=5, aspect=1.5, sharex=False)\n",
    "# g.set_xticklabels(rotation=30)"
   ]
  },
  {
   "cell_type": "code",
   "execution_count": 87,
   "id": "75de528c-91d7-44c3-8af6-fe51614d869a",
   "metadata": {},
   "outputs": [
    {
     "data": {
      "image/png": "[encoded data removed]",
      "text/plain": [
       "<Figure size 302.4x288 with 2 Axes>"
      ]
     },
     "metadata": {
      "needs_background": "light"
     },
     "output_type": "display_data"
    }
   ],
   "source": [
    "with sns.plotting_context(\"paper\", font_scale=1.0):\n",
    "    g = sns.FacetGrid(\n",
    "        plot_data,\n",
    "        row=\"subset\",\n",
    "        sharex=True,\n",
    "        sharey=True,\n",
    "        height=2.0,\n",
    "        aspect=2.1,\n",
    "    )\n",
    "    g.map(sns.boxplot, \"tissue\", \"weight\", order=tissues_order, palette=tissue_colors)\n",
    "    g.set_xticklabels(rotation=30, ha=\"right\")\n",
    "    g.set_axis_labels(PREDICTED_TISSUE_LABEL, \"\")\n",
    "\n",
    "    g.set_titles(row_template=\"\")\n",
    "\n",
    "    for ax in g.axes:\n",
    "        ax = ax[0]\n",
    "        sns.despine(ax=ax, left=True, right=False)\n",
    "        ax.yaxis.tick_right()\n",
    "        ax.yaxis.set_label_position(\"right\")\n",
    "\n",
    "    g.fig.text(1.09, 0.25, AVG_PROB_INTERACTION_LABEL, rotation=90, ha=\"center\")\n",
    "    # g.axes[2][0].set_ylabel(AVG_PROB_INTERACTION_LABEL)\n",
    "\n",
    "    g.savefig(\n",
    "        OUTPUT_FIGURE_DIR / \"top_gene_pairs-tissue_avg_weight.svg\",\n",
    "        bbox_inches=\"tight\",\n",
    "        dpi=300,\n",
    "        # facecolor=\"white\",\n",
    "        transparent=True,\n",
    "    )"
   ]
  },
  {
   "cell_type": "markdown",
   "id": "0740317f-b4e2-4459-b074-e279b59a26ac",
   "metadata": {
    "papermill": {
     "duration": 0.114019,
     "end_time": "2021-12-21T20:27:03.073018",
     "exception": false,
     "start_time": "2021-12-21T20:27:02.958999",
     "status": "completed"
    },
    "tags": []
   },
   "source": [
    "# Raw numbers"
   ]
  },
  {
   "cell_type": "code",
   "execution_count": 115,
   "id": "cd154dcc-65ef-4c11-8eeb-5094193120df",
   "metadata": {},
   "outputs": [
    {
     "data": {
      "text/html": [
       "<div>\n",
       "<style scoped>\n",
       "    .dataframe tbody tr th:only-of-type {\n",
       "        vertical-align: middle;\n",
       "    }\n",
       "\n",
       "    .dataframe tbody tr th {\n",
       "        vertical-align: top;\n",
       "    }\n",
       "\n",
       "    .dataframe thead th {\n",
       "        text-align: right;\n",
       "    }\n",
       "</style>\n",
       "<table border=\"1\" class=\"dataframe\">\n",
       "  <thead>\n",
       "    <tr style=\"text-align: right;\">\n",
       "      <th></th>\n",
       "      <th></th>\n",
       "      <th>count</th>\n",
       "      <th>mean</th>\n",
       "      <th>std</th>\n",
       "      <th>min</th>\n",
       "      <th>25%</th>\n",
       "      <th>50%</th>\n",
       "      <th>75%</th>\n",
       "      <th>max</th>\n",
       "    </tr>\n",
       "    <tr>\n",
       "      <th>subset</th>\n",
       "      <th>tissue</th>\n",
       "      <th></th>\n",
       "      <th></th>\n",
       "      <th></th>\n",
       "      <th></th>\n",
       "      <th></th>\n",
       "      <th></th>\n",
       "      <th></th>\n",
       "      <th></th>\n",
       "    </tr>\n",
       "  </thead>\n",
       "  <tbody>\n",
       "    <tr>\n",
       "      <th rowspan=\"5\" valign=\"top\">CCC vs others</th>\n",
       "      <th>Blood</th>\n",
       "      <td>3041.0</td>\n",
       "      <td>0.658840</td>\n",
       "      <td>0.232505</td>\n",
       "      <td>0.004643</td>\n",
       "      <td>0.539424</td>\n",
       "      <td>0.734192</td>\n",
       "      <td>0.836366</td>\n",
       "      <td>0.992412</td>\n",
       "    </tr>\n",
       "    <tr>\n",
       "      <th>Leukocyte</th>\n",
       "      <td>1528.0</td>\n",
       "      <td>0.657733</td>\n",
       "      <td>0.266221</td>\n",
       "      <td>0.001895</td>\n",
       "      <td>0.522502</td>\n",
       "      <td>0.749518</td>\n",
       "      <td>0.864410</td>\n",
       "      <td>0.998099</td>\n",
       "    </tr>\n",
       "    <tr>\n",
       "      <th>Macrophage</th>\n",
       "      <td>1274.0</td>\n",
       "      <td>0.611683</td>\n",
       "      <td>0.264564</td>\n",
       "      <td>0.015116</td>\n",
       "      <td>0.416022</td>\n",
       "      <td>0.677881</td>\n",
       "      <td>0.813124</td>\n",
       "      <td>0.993414</td>\n",
       "    </tr>\n",
       "    <tr>\n",
       "      <th>Mononuclear phagocyte</th>\n",
       "      <td>2467.0</td>\n",
       "      <td>0.720040</td>\n",
       "      <td>0.259112</td>\n",
       "      <td>0.005849</td>\n",
       "      <td>0.639847</td>\n",
       "      <td>0.824591</td>\n",
       "      <td>0.896281</td>\n",
       "      <td>0.994341</td>\n",
       "    </tr>\n",
       "    <tr>\n",
       "      <th>Natural killer cell</th>\n",
       "      <td>1679.0</td>\n",
       "      <td>0.861559</td>\n",
       "      <td>0.151759</td>\n",
       "      <td>0.164965</td>\n",
       "      <td>0.789673</td>\n",
       "      <td>0.916784</td>\n",
       "      <td>0.981061</td>\n",
       "      <td>0.999793</td>\n",
       "    </tr>\n",
       "    <tr>\n",
       "      <th rowspan=\"5\" valign=\"top\">Pearson vs others</th>\n",
       "      <th>Blood</th>\n",
       "      <td>2356.0</td>\n",
       "      <td>0.543123</td>\n",
       "      <td>0.257628</td>\n",
       "      <td>0.048062</td>\n",
       "      <td>0.315782</td>\n",
       "      <td>0.559009</td>\n",
       "      <td>0.773824</td>\n",
       "      <td>0.988633</td>\n",
       "    </tr>\n",
       "    <tr>\n",
       "      <th>Liver</th>\n",
       "      <td>5733.0</td>\n",
       "      <td>0.175588</td>\n",
       "      <td>0.144261</td>\n",
       "      <td>0.002845</td>\n",
       "      <td>0.104278</td>\n",
       "      <td>0.115981</td>\n",
       "      <td>0.190837</td>\n",
       "      <td>0.905517</td>\n",
       "    </tr>\n",
       "    <tr>\n",
       "      <th>Mononuclear phagocyte</th>\n",
       "      <td>910.0</td>\n",
       "      <td>0.807049</td>\n",
       "      <td>0.234952</td>\n",
       "      <td>0.016067</td>\n",
       "      <td>0.773291</td>\n",
       "      <td>0.899533</td>\n",
       "      <td>0.954558</td>\n",
       "      <td>0.994341</td>\n",
       "    </tr>\n",
       "    <tr>\n",
       "      <th>Placenta</th>\n",
       "      <td>1720.0</td>\n",
       "      <td>0.252025</td>\n",
       "      <td>0.179206</td>\n",
       "      <td>0.025589</td>\n",
       "      <td>0.117522</td>\n",
       "      <td>0.175670</td>\n",
       "      <td>0.323171</td>\n",
       "      <td>0.922224</td>\n",
       "    </tr>\n",
       "    <tr>\n",
       "      <th>Skeletal muscle</th>\n",
       "      <td>4810.0</td>\n",
       "      <td>0.115079</td>\n",
       "      <td>0.036554</td>\n",
       "      <td>0.011840</td>\n",
       "      <td>0.103555</td>\n",
       "      <td>0.107855</td>\n",
       "      <td>0.114303</td>\n",
       "      <td>0.547389</td>\n",
       "    </tr>\n",
       "  </tbody>\n",
       "</table>\n",
       "</div>"
      ],
      "text/plain": [
       "                                          count      mean       std       min  \\\n",
       "subset            tissue                                                        \n",
       "CCC vs others     Blood                  3041.0  0.658840  0.232505  0.004643   \n",
       "                  Leukocyte              1528.0  0.657733  0.266221  0.001895   \n",
       "                  Macrophage             1274.0  0.611683  0.264564  0.015116   \n",
       "                  Mononuclear phagocyte  2467.0  0.720040  0.259112  0.005849   \n",
       "                  Natural killer cell    1679.0  0.861559  0.151759  0.164965   \n",
       "Pearson vs others Blood                  2356.0  0.543123  0.257628  0.048062   \n",
       "                  Liver                  5733.0  0.175588  0.144261  0.002845   \n",
       "                  Mononuclear phagocyte   910.0  0.807049  0.234952  0.016067   \n",
       "                  Placenta               1720.0  0.252025  0.179206  0.025589   \n",
       "                  Skeletal muscle        4810.0  0.115079  0.036554  0.011840   \n",
       "\n",
       "                                              25%       50%       75%  \\\n",
       "subset            tissue                                                \n",
       "CCC vs others     Blood                  0.539424  0.734192  0.836366   \n",
       "                  Leukocyte              0.522502  0.749518  0.864410   \n",
       "                  Macrophage             0.416022  0.677881  0.813124   \n",
       "                  Mononuclear phagocyte  0.639847  0.824591  0.896281   \n",
       "                  Natural killer cell    0.789673  0.916784  0.981061   \n",
       "Pearson vs others Blood                  0.315782  0.559009  0.773824   \n",
       "                  Liver                  0.104278  0.115981  0.190837   \n",
       "                  Mononuclear phagocyte  0.773291  0.899533  0.954558   \n",
       "                  Placenta               0.117522  0.175670  0.323171   \n",
       "                  Skeletal muscle        0.103555  0.107855  0.114303   \n",
       "\n",
       "                                              max  \n",
       "subset            tissue                           \n",
       "CCC vs others     Blood                  0.992412  \n",
       "                  Leukocyte              0.998099  \n",
       "                  Macrophage             0.993414  \n",
       "                  Mononuclear phagocyte  0.994341  \n",
       "                  Natural killer cell    0.999793  \n",
       "Pearson vs others Blood                  0.988633  \n",
       "                  Liver                  0.905517  \n",
       "                  Mononuclear phagocyte  0.994341  \n",
       "                  Placenta               0.922224  \n",
       "                  Skeletal muscle        0.547389  "
      ]
     },
     "execution_count": 115,
     "metadata": {},
     "output_type": "execute_result"
    }
   ],
   "source": [
    "plot_data.groupby([\"subset\", \"tissue\"])[\"weight\"].describe()"
   ]
  },
  {
   "cell_type": "markdown",
   "id": "da65b0a3-1d5b-4daf-a7d3-547a0ece2978",
   "metadata": {
    "papermill": {
     "duration": 0.114019,
     "end_time": "2021-12-21T20:27:03.073018",
     "exception": false,
     "start_time": "2021-12-21T20:27:02.958999",
     "status": "completed"
    },
    "tags": []
   },
   "source": [
    "# Create final figure"
   ]
  },
  {
   "cell_type": "code",
   "execution_count": 88,
   "id": "560cc35a-1eb2-4382-aa44-d6bcd7ed7e26",
   "metadata": {},
   "outputs": [],
   "source": [
    "from svgutils.compose import Figure, SVG, Panel, Text"
   ]
  },
  {
   "cell_type": "code",
   "execution_count": 112,
   "id": "626e60cd-b940-4575-8218-d535afdafc35",
   "metadata": {},
   "outputs": [],
   "source": [
    "Figure(\n",
    "    \"309.02272cm\",\n",
    "    \"164.7096cm\",\n",
    "    SVG(OUTPUT_FIGURE_DIR / \"top_gene_pairs-tissue_count.svg\").scale(0.5),\n",
    "    # cm vs rest\n",
    "    SVG(COEF_COMP_DIR / \"triangles-c_vs_p.svg\").scale(1.50).move(35, 4),\n",
    "    Text(\"+\", 67, 10, size=6),\n",
    "    SVG(COEF_COMP_DIR / \"triangles-c_vs_ps.svg\").scale(1.50).move(75, 4),\n",
    "    Text(\"+\", 108, 10, size=6),\n",
    "    SVG(COEF_COMP_DIR / \"triangles-c_vs_s.svg\").scale(1.50).move(115, 4),\n",
    "    # p vs rest\n",
    "    SVG(COEF_COMP_DIR / \"triangles-p_vs_c.svg\").scale(1.50).move(35, 65),\n",
    "    Text(\"+\", 67, 71, size=6),\n",
    "    SVG(COEF_COMP_DIR / \"triangles-p_vs_cs.svg\").scale(1.50).move(75, 65),\n",
    "    # another\n",
    "    SVG(OUTPUT_FIGURE_DIR / \"top_gene_pairs-tissue_avg_weight.svg\")\n",
    "    .scale(0.5)\n",
    "    .move(130, 0),\n",
    ").save(OUTPUT_FIGURE_DIR / \"top_gene_pairs-main.svg\")"
   ]
  },
  {
   "cell_type": "markdown",
   "id": "e1e0f853-e8a6-4584-ba39-80544d912c24",
   "metadata": {},
   "source": [
    "Now open `top_gene_pairs-main.svg`, reside to fit drawing to page, and add a white rectangle to the background."
   ]
  },
  {
   "cell_type": "markdown",
   "id": "75e2551a-df05-452f-96bb-94cbd414b3d7",
   "metadata": {},
   "source": [
    "I think it's important to open the file with Inkscape and save it, just to make sure the content is right.\n",
    "Because sometimes Inkscape crashed when opening it."
   ]
  },
  {
   "cell_type": "code",
   "execution_count": null,
   "id": "75837d2b-3f44-46b9-9751-dd21dad6c701",
   "metadata": {},
   "outputs": [],
   "source": []
  }
 ],
 "metadata": {
  "jupytext": {
   "cell_metadata_filter": "all,-execution,-papermill,-trusted"
  },
  "kernelspec": {
   "display_name": "Python 3 (ipykernel)",
   "language": "python",
   "name": "python3"
  },
  "language_info": {
   "codemirror_mode": {
    "name": "ipython",
    "version": 3
   },
   "file_extension": ".py",
   "mimetype": "text/x-python",
   "name": "python",
   "nbconvert_exporter": "python",
   "pygments_lexer": "ipython3",
   "version": "3.9.9"
  },
  "papermill": {
   "default_parameters": {},
   "duration": 808.744828,
   "end_time": "2021-12-21T20:27:03.803437",
   "environment_variables": {},
   "exception": null,
   "input_path": "nbs/99_manuscript/coefs_comp/05-gtex_whole_blood-general_plots.ipynb",
   "output_path": "nbs/99_manuscript/coefs_comp/05-gtex_whole_blood-general_plots.run.ipynb",
   "parameters": {},
   "start_time": "2021-12-21T20:13:35.058609",
   "version": "2.3.3"
  },
  "toc-autonumbering": true
 },
 "nbformat": 4,
 "nbformat_minor": 5
}
