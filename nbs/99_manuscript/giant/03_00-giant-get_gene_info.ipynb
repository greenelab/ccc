{
 "cells": [
  {
   "cell_type": "markdown",
   "id": "87e0ce1b-7ce6-4499-9342-5ded05307598",
   "metadata": {
    "papermill": {
     "duration": 0.006016,
     "end_time": "2024-01-03T12:22:49.296912",
     "exception": false,
     "start_time": "2024-01-03T12:22:49.290896",
     "status": "completed"
    },
    "tags": []
   },
   "source": [
    "# Description"
   ]
  },
  {
   "cell_type": "markdown",
   "id": "4bfc7115-350a-441b-9a19-7626a948a694",
   "metadata": {
    "papermill": {
     "duration": 0.006182,
     "end_time": "2024-01-03T12:22:49.313591",
     "exception": false,
     "start_time": "2024-01-03T12:22:49.307409",
     "status": "completed"
    },
    "tags": []
   },
   "source": [
    "It gets all the gene pairs prioritized by different correlation coefficients and writes a file with gene ID mappings (symbols and Entrez IDs)."
   ]
  },
  {
   "cell_type": "markdown",
   "id": "e020c781-238b-43c2-8cad-2722b8a240e2",
   "metadata": {
    "papermill": {
     "duration": 0.0048,
     "end_time": "2024-01-03T12:22:49.323380",
     "exception": false,
     "start_time": "2024-01-03T12:22:49.318580",
     "status": "completed"
    },
    "tags": []
   },
   "source": [
    "# Modules"
   ]
  },
  {
   "cell_type": "code",
   "execution_count": 1,
   "id": "8c99f618-0d2d-43fd-86d4-8c44d33f4c59",
   "metadata": {
    "execution": {
     "iopub.execute_input": "2024-01-03T12:22:49.334750Z",
     "iopub.status.busy": "2024-01-03T12:22:49.334193Z",
     "iopub.status.idle": "2024-01-03T12:22:49.924640Z",
     "shell.execute_reply": "2024-01-03T12:22:49.924172Z"
    },
    "papermill": {
     "duration": 0.598023,
     "end_time": "2024-01-03T12:22:49.926410",
     "exception": false,
     "start_time": "2024-01-03T12:22:49.328387",
     "status": "completed"
    },
    "tags": []
   },
   "outputs": [],
   "source": [
    "%load_ext rpy2.ipython"
   ]
  },
  {
   "cell_type": "code",
   "execution_count": 2,
   "id": "a819bfbc-5009-4c68-ba8d-37d0979d368f",
   "metadata": {
    "execution": {
     "iopub.execute_input": "2024-01-03T12:22:49.943082Z",
     "iopub.status.busy": "2024-01-03T12:22:49.942986Z",
     "iopub.status.idle": "2024-01-03T12:22:49.946388Z",
     "shell.execute_reply": "2024-01-03T12:22:49.946032Z"
    },
    "papermill": {
     "duration": 0.015799,
     "end_time": "2024-01-03T12:22:49.947537",
     "exception": false,
     "start_time": "2024-01-03T12:22:49.931738",
     "status": "completed"
    },
    "tags": []
   },
   "outputs": [],
   "source": [
    "import pandas as pd\n",
    "\n",
    "from ccc import conf"
   ]
  },
  {
   "cell_type": "markdown",
   "id": "b4834387-58ff-468c-b326-85c408bc5feb",
   "metadata": {
    "papermill": {
     "duration": 0.00489,
     "end_time": "2024-01-03T12:22:49.957468",
     "exception": false,
     "start_time": "2024-01-03T12:22:49.952578",
     "status": "completed"
    },
    "tags": []
   },
   "source": [
    "# Settings"
   ]
  },
  {
   "cell_type": "code",
   "execution_count": 3,
   "id": "765e820a-4518-4bbc-a00f-14c9cea03821",
   "metadata": {
    "execution": {
     "iopub.execute_input": "2024-01-03T12:22:49.967815Z",
     "iopub.status.busy": "2024-01-03T12:22:49.967730Z",
     "iopub.status.idle": "2024-01-03T12:22:49.969766Z",
     "shell.execute_reply": "2024-01-03T12:22:49.969418Z"
    },
    "papermill": {
     "duration": 0.008514,
     "end_time": "2024-01-03T12:22:49.970916",
     "exception": false,
     "start_time": "2024-01-03T12:22:49.962402",
     "status": "completed"
    },
    "tags": []
   },
   "outputs": [],
   "source": [
    "DATASET_CONFIG = conf.GTEX"
   ]
  },
  {
   "cell_type": "markdown",
   "id": "a1159982-5dd1-4494-97d4-0674eeead1c3",
   "metadata": {
    "papermill": {
     "duration": 0.004838,
     "end_time": "2024-01-03T12:22:49.980810",
     "exception": false,
     "start_time": "2024-01-03T12:22:49.975972",
     "status": "completed"
    },
    "tags": []
   },
   "source": [
    "# Paths"
   ]
  },
  {
   "cell_type": "code",
   "execution_count": 4,
   "id": "3e967e81-0d1b-4b12-968e-cd02b466b572",
   "metadata": {
    "execution": {
     "iopub.execute_input": "2024-01-03T12:22:49.991337Z",
     "iopub.status.busy": "2024-01-03T12:22:49.991241Z",
     "iopub.status.idle": "2024-01-03T12:22:49.997438Z",
     "shell.execute_reply": "2024-01-03T12:22:49.997015Z"
    },
    "papermill": {
     "duration": 0.013105,
     "end_time": "2024-01-03T12:22:49.998963",
     "exception": false,
     "start_time": "2024-01-03T12:22:49.985858",
     "status": "completed"
    },
    "tags": []
   },
   "outputs": [
    {
     "data": {
      "text/plain": [
       "PosixPath('/opt/data/results/gtex_v8/gene_pair_intersections')"
      ]
     },
     "metadata": {},
     "output_type": "display_data"
    }
   ],
   "source": [
    "INPUT_DIR = DATASET_CONFIG[\"GENE_PAIR_INTERSECTIONS\"]\n",
    "display(INPUT_DIR)\n",
    "\n",
    "assert INPUT_DIR.exists()"
   ]
  },
  {
   "cell_type": "code",
   "execution_count": 5,
   "id": "534e013a-e73e-4306-a2f5-1f8301a9a4c5",
   "metadata": {
    "execution": {
     "iopub.execute_input": "2024-01-03T12:22:50.009893Z",
     "iopub.status.busy": "2024-01-03T12:22:50.009715Z",
     "iopub.status.idle": "2024-01-03T12:22:50.013437Z",
     "shell.execute_reply": "2024-01-03T12:22:50.012999Z"
    },
    "papermill": {
     "duration": 0.010781,
     "end_time": "2024-01-03T12:22:50.014871",
     "exception": false,
     "start_time": "2024-01-03T12:22:50.004090",
     "status": "completed"
    },
    "tags": []
   },
   "outputs": [
    {
     "data": {
      "text/plain": [
       "PosixPath('/opt/data/results/giant/intersection_genes')"
      ]
     },
     "metadata": {},
     "output_type": "display_data"
    }
   ],
   "source": [
    "OUTPUT_DIR = conf.GIANT[\"RESULTS_DIR\"] / \"intersection_genes\"\n",
    "OUTPUT_DIR.mkdir(parents=True, exist_ok=True)\n",
    "display(OUTPUT_DIR)"
   ]
  },
  {
   "cell_type": "markdown",
   "id": "1fe2ea25-0b72-4da8-b8f5-eb1e094b1ffc",
   "metadata": {
    "papermill": {
     "duration": 0.004983,
     "end_time": "2024-01-03T12:22:50.025096",
     "exception": false,
     "start_time": "2024-01-03T12:22:50.020113",
     "status": "completed"
    },
    "tags": []
   },
   "source": [
    "# Get gene entrez ids"
   ]
  },
  {
   "cell_type": "code",
   "execution_count": 6,
   "id": "a233fca7-7e68-441a-ac47-dcbadf3e65d2",
   "metadata": {
    "execution": {
     "iopub.execute_input": "2024-01-03T12:22:50.036385Z",
     "iopub.status.busy": "2024-01-03T12:22:50.036027Z",
     "iopub.status.idle": "2024-01-03T12:22:50.038980Z",
     "shell.execute_reply": "2024-01-03T12:22:50.038483Z"
    },
    "papermill": {
     "duration": 0.009953,
     "end_time": "2024-01-03T12:22:50.040205",
     "exception": false,
     "start_time": "2024-01-03T12:22:50.030252",
     "status": "completed"
    },
    "tags": []
   },
   "outputs": [],
   "source": [
    "genes = set()"
   ]
  },
  {
   "cell_type": "code",
   "execution_count": 7,
   "id": "802bde85-803d-4494-bed6-c5dfa23aaeec",
   "metadata": {
    "execution": {
     "iopub.execute_input": "2024-01-03T12:22:50.051542Z",
     "iopub.status.busy": "2024-01-03T12:22:50.051172Z",
     "iopub.status.idle": "2024-01-03T12:22:50.067144Z",
     "shell.execute_reply": "2024-01-03T12:22:50.066643Z"
    },
    "papermill": {
     "duration": 0.022484,
     "end_time": "2024-01-03T12:22:50.067957",
     "exception": false,
     "start_time": "2024-01-03T12:22:50.045473",
     "status": "completed"
    },
    "tags": []
   },
   "outputs": [
    {
     "data": {
      "text/plain": [
       "2887"
      ]
     },
     "metadata": {},
     "output_type": "display_data"
    }
   ],
   "source": [
    "data = pd.read_pickle(INPUT_DIR / \"clustermatch_vs_pearson.pkl\")\n",
    "_tmp0 = set(data.index.get_level_values(0))\n",
    "_tmp1 = set(data.index.get_level_values(1))\n",
    "genes.update(_tmp0.union(_tmp1))\n",
    "display(len(genes))"
   ]
  },
  {
   "cell_type": "code",
   "execution_count": 8,
   "id": "85e74d50-6f9c-41f1-80bb-8d7beae26648",
   "metadata": {
    "execution": {
     "iopub.execute_input": "2024-01-03T12:22:50.074463Z",
     "iopub.status.busy": "2024-01-03T12:22:50.074059Z",
     "iopub.status.idle": "2024-01-03T12:22:50.080049Z",
     "shell.execute_reply": "2024-01-03T12:22:50.079580Z"
    },
    "papermill": {
     "duration": 0.010158,
     "end_time": "2024-01-03T12:22:50.080878",
     "exception": false,
     "start_time": "2024-01-03T12:22:50.070720",
     "status": "completed"
    },
    "tags": []
   },
   "outputs": [
    {
     "data": {
      "text/plain": [
       "2888"
      ]
     },
     "metadata": {},
     "output_type": "display_data"
    }
   ],
   "source": [
    "data = pd.read_pickle(INPUT_DIR / \"clustermatch_vs_pearson_spearman.pkl\")\n",
    "_tmp0 = set(data.index.get_level_values(0))\n",
    "_tmp1 = set(data.index.get_level_values(1))\n",
    "genes.update(_tmp0.union(_tmp1))\n",
    "display(len(genes))"
   ]
  },
  {
   "cell_type": "code",
   "execution_count": 9,
   "id": "cbf2ad56-a148-4903-bd74-95c2fc9080b7",
   "metadata": {
    "execution": {
     "iopub.execute_input": "2024-01-03T12:22:50.087469Z",
     "iopub.status.busy": "2024-01-03T12:22:50.087120Z",
     "iopub.status.idle": "2024-01-03T12:22:50.092617Z",
     "shell.execute_reply": "2024-01-03T12:22:50.092136Z"
    },
    "papermill": {
     "duration": 0.009695,
     "end_time": "2024-01-03T12:22:50.093431",
     "exception": false,
     "start_time": "2024-01-03T12:22:50.083736",
     "status": "completed"
    },
    "tags": []
   },
   "outputs": [
    {
     "data": {
      "text/plain": [
       "2892"
      ]
     },
     "metadata": {},
     "output_type": "display_data"
    }
   ],
   "source": [
    "data = pd.read_pickle(INPUT_DIR / \"clustermatch_vs_spearman.pkl\")\n",
    "_tmp0 = set(data.index.get_level_values(0))\n",
    "_tmp1 = set(data.index.get_level_values(1))\n",
    "genes.update(_tmp0.union(_tmp1))\n",
    "display(len(genes))"
   ]
  },
  {
   "cell_type": "code",
   "execution_count": 10,
   "id": "d2750de3-b08a-4b58-8e26-bb8c7a0bf3df",
   "metadata": {
    "execution": {
     "iopub.execute_input": "2024-01-03T12:22:50.099967Z",
     "iopub.status.busy": "2024-01-03T12:22:50.099685Z",
     "iopub.status.idle": "2024-01-03T12:22:50.105561Z",
     "shell.execute_reply": "2024-01-03T12:22:50.105111Z"
    },
    "papermill": {
     "duration": 0.010063,
     "end_time": "2024-01-03T12:22:50.106351",
     "exception": false,
     "start_time": "2024-01-03T12:22:50.096288",
     "status": "completed"
    },
    "tags": []
   },
   "outputs": [
    {
     "data": {
      "text/plain": [
       "3224"
      ]
     },
     "metadata": {},
     "output_type": "display_data"
    }
   ],
   "source": [
    "data = pd.read_pickle(INPUT_DIR / \"pearson_vs_clustermatch.pkl\")\n",
    "_tmp0 = set(data.index.get_level_values(0))\n",
    "_tmp1 = set(data.index.get_level_values(1))\n",
    "genes.update(_tmp0.union(_tmp1))\n",
    "display(len(genes))"
   ]
  },
  {
   "cell_type": "code",
   "execution_count": 11,
   "id": "5dd30fd1-ae37-445e-8c72-b69db1318d51",
   "metadata": {
    "execution": {
     "iopub.execute_input": "2024-01-03T12:22:50.113090Z",
     "iopub.status.busy": "2024-01-03T12:22:50.112798Z",
     "iopub.status.idle": "2024-01-03T12:22:50.118381Z",
     "shell.execute_reply": "2024-01-03T12:22:50.117935Z"
    },
    "papermill": {
     "duration": 0.009774,
     "end_time": "2024-01-03T12:22:50.119110",
     "exception": false,
     "start_time": "2024-01-03T12:22:50.109336",
     "status": "completed"
    },
    "tags": []
   },
   "outputs": [
    {
     "data": {
      "text/plain": [
       "3243"
      ]
     },
     "metadata": {},
     "output_type": "display_data"
    }
   ],
   "source": [
    "data = pd.read_pickle(INPUT_DIR / \"pearson_vs_clustermatch_spearman.pkl\")\n",
    "_tmp0 = set(data.index.get_level_values(0))\n",
    "_tmp1 = set(data.index.get_level_values(1))\n",
    "genes.update(_tmp0.union(_tmp1))\n",
    "display(len(genes))"
   ]
  },
  {
   "cell_type": "code",
   "execution_count": 12,
   "id": "6354ade5-10b4-4174-91d7-c5516cd672cf",
   "metadata": {
    "execution": {
     "iopub.execute_input": "2024-01-03T12:22:50.125876Z",
     "iopub.status.busy": "2024-01-03T12:22:50.125601Z",
     "iopub.status.idle": "2024-01-03T12:22:50.129425Z",
     "shell.execute_reply": "2024-01-03T12:22:50.128949Z"
    },
    "papermill": {
     "duration": 0.008159,
     "end_time": "2024-01-03T12:22:50.130247",
     "exception": false,
     "start_time": "2024-01-03T12:22:50.122088",
     "status": "completed"
    },
    "tags": []
   },
   "outputs": [],
   "source": [
    "genes = list(genes)\n",
    "assert not pd.Series(genes).isna().any()"
   ]
  },
  {
   "cell_type": "code",
   "execution_count": 13,
   "id": "b71de49e-1076-4525-8ff2-80b532db5fff",
   "metadata": {
    "execution": {
     "iopub.execute_input": "2024-01-03T12:22:50.136993Z",
     "iopub.status.busy": "2024-01-03T12:22:50.136659Z",
     "iopub.status.idle": "2024-01-03T12:22:52.571670Z",
     "shell.execute_reply": "2024-01-03T12:22:52.571250Z"
    },
    "papermill": {
     "duration": 2.439823,
     "end_time": "2024-01-03T12:22:52.573055",
     "exception": false,
     "start_time": "2024-01-03T12:22:50.133232",
     "status": "completed"
    },
    "tags": []
   },
   "outputs": [
    {
     "name": "stderr",
     "output_type": "stream",
     "text": [
      "R[write to console]: Loading required package: AnnotationDbi\n",
      "\n",
      "R[write to console]: Loading required package: stats4\n",
      "\n",
      "R[write to console]: Loading required package: BiocGenerics\n",
      "\n",
      "R[write to console]: Loading required package: parallel\n",
      "\n",
      "R[write to console]: \n",
      "Attaching package: ‘BiocGenerics’\n",
      "\n",
      "\n",
      "R[write to console]: The following objects are masked from ‘package:parallel’:\n",
      "\n",
      "    clusterApply, clusterApplyLB, clusterCall, clusterEvalQ,\n",
      "    clusterExport, clusterMap, parApply, parCapply, parLapply,\n",
      "    parLapplyLB, parRapply, parSapply, parSapplyLB\n",
      "\n",
      "\n",
      "R[write to console]: The following objects are masked from ‘package:stats’:\n",
      "\n",
      "    IQR, mad, sd, var, xtabs\n",
      "\n",
      "\n",
      "R[write to console]: The following objects are masked from ‘package:base’:\n",
      "\n",
      "    anyDuplicated, append, as.data.frame, basename, cbind, colnames,\n",
      "    dirname, do.call, duplicated, eval, evalq, Filter, Find, get, grep,\n",
      "    grepl, intersect, is.unsorted, lapply, Map, mapply, match, mget,\n",
      "    order, paste, pmax, pmax.int, pmin, pmin.int, Position, rank,\n",
      "    rbind, Reduce, rownames, sapply, setdiff, sort, table, tapply,\n",
      "    union, unique, unsplit, which.max, which.min\n",
      "\n",
      "\n",
      "R[write to console]: Loading required package: Biobase\n",
      "\n",
      "R[write to console]: Welcome to Bioconductor\n",
      "\n",
      "    Vignettes contain introductory material; view with\n",
      "    'browseVignettes()'. To cite Bioconductor, see\n",
      "    'citation(\"Biobase\")', and for packages 'citation(\"pkgname\")'.\n",
      "\n",
      "\n",
      "R[write to console]: Loading required package: IRanges\n",
      "\n",
      "R[write to console]: Loading required package: S4Vectors\n",
      "\n",
      "R[write to console]: \n",
      "Attaching package: ‘S4Vectors’\n",
      "\n",
      "\n",
      "R[write to console]: The following objects are masked from ‘package:base’:\n",
      "\n",
      "    expand.grid, I, unname\n",
      "\n",
      "\n",
      "R[write to console]: \n",
      "\n",
      "R[write to console]: 'select()' returned 1:1 mapping between keys and columns\n",
      "\n"
     ]
    }
   ],
   "source": [
    "%%R -i genes -o symbol_to_entrezid\n",
    "library(org.Hs.eg.db)\n",
    "hs <- org.Hs.eg.db\n",
    "\n",
    "symbol_to_entrezid <- select(hs,\n",
    "       keys = unlist(genes),\n",
    "       columns = c(\"ENTREZID\", \"SYMBOL\"),\n",
    "       keytype = \"SYMBOL\")"
   ]
  },
  {
   "cell_type": "code",
   "execution_count": 14,
   "id": "11326a5f-18e7-4e61-b355-8889af98d5f7",
   "metadata": {
    "execution": {
     "iopub.execute_input": "2024-01-03T12:22:52.591209Z",
     "iopub.status.busy": "2024-01-03T12:22:52.591119Z",
     "iopub.status.idle": "2024-01-03T12:22:52.594124Z",
     "shell.execute_reply": "2024-01-03T12:22:52.593770Z"
    },
    "papermill": {
     "duration": 0.015413,
     "end_time": "2024-01-03T12:22:52.595292",
     "exception": false,
     "start_time": "2024-01-03T12:22:52.579879",
     "status": "completed"
    },
    "tags": []
   },
   "outputs": [
    {
     "data": {
      "text/plain": [
       "(3243, 2)"
      ]
     },
     "execution_count": 14,
     "metadata": {},
     "output_type": "execute_result"
    }
   ],
   "source": [
    "symbol_to_entrezid.shape"
   ]
  },
  {
   "cell_type": "code",
   "execution_count": 15,
   "id": "09ca5532-130a-4918-be21-b53fe7cef0f2",
   "metadata": {
    "execution": {
     "iopub.execute_input": "2024-01-03T12:22:52.609020Z",
     "iopub.status.busy": "2024-01-03T12:22:52.608925Z",
     "iopub.status.idle": "2024-01-03T12:22:52.611094Z",
     "shell.execute_reply": "2024-01-03T12:22:52.610736Z"
    },
    "papermill": {
     "duration": 0.0103,
     "end_time": "2024-01-03T12:22:52.612251",
     "exception": false,
     "start_time": "2024-01-03T12:22:52.601951",
     "status": "completed"
    },
    "tags": []
   },
   "outputs": [],
   "source": [
    "assert symbol_to_entrezid.shape[0] == len(genes)"
   ]
  },
  {
   "cell_type": "code",
   "execution_count": 16,
   "id": "5fff7b25-efe1-4530-bb20-f4bf17e02b01",
   "metadata": {
    "execution": {
     "iopub.execute_input": "2024-01-03T12:22:52.625786Z",
     "iopub.status.busy": "2024-01-03T12:22:52.625702Z",
     "iopub.status.idle": "2024-01-03T12:22:52.630847Z",
     "shell.execute_reply": "2024-01-03T12:22:52.630429Z"
    },
    "papermill": {
     "duration": 0.013223,
     "end_time": "2024-01-03T12:22:52.632096",
     "exception": false,
     "start_time": "2024-01-03T12:22:52.618873",
     "status": "completed"
    },
    "tags": []
   },
   "outputs": [
    {
     "data": {
      "text/html": [
       "<div>\n",
       "<style scoped>\n",
       "    .dataframe tbody tr th:only-of-type {\n",
       "        vertical-align: middle;\n",
       "    }\n",
       "\n",
       "    .dataframe tbody tr th {\n",
       "        vertical-align: top;\n",
       "    }\n",
       "\n",
       "    .dataframe thead th {\n",
       "        text-align: right;\n",
       "    }\n",
       "</style>\n",
       "<table border=\"1\" class=\"dataframe\">\n",
       "  <thead>\n",
       "    <tr style=\"text-align: right;\">\n",
       "      <th></th>\n",
       "      <th>SYMBOL</th>\n",
       "      <th>ENTREZID</th>\n",
       "    </tr>\n",
       "  </thead>\n",
       "  <tbody>\n",
       "    <tr>\n",
       "      <th>1</th>\n",
       "      <td>RP11-326C3.2</td>\n",
       "      <td>None</td>\n",
       "    </tr>\n",
       "    <tr>\n",
       "      <th>2</th>\n",
       "      <td>C6orf89</td>\n",
       "      <td>221477</td>\n",
       "    </tr>\n",
       "    <tr>\n",
       "      <th>3</th>\n",
       "      <td>TRMT1L</td>\n",
       "      <td>81627</td>\n",
       "    </tr>\n",
       "    <tr>\n",
       "      <th>4</th>\n",
       "      <td>RP4-671O14.5</td>\n",
       "      <td>None</td>\n",
       "    </tr>\n",
       "    <tr>\n",
       "      <th>5</th>\n",
       "      <td>SMCHD1</td>\n",
       "      <td>23347</td>\n",
       "    </tr>\n",
       "  </tbody>\n",
       "</table>\n",
       "</div>"
      ],
      "text/plain": [
       "         SYMBOL ENTREZID\n",
       "1  RP11-326C3.2     None\n",
       "2       C6orf89   221477\n",
       "3        TRMT1L    81627\n",
       "4  RP4-671O14.5     None\n",
       "5        SMCHD1    23347"
      ]
     },
     "execution_count": 16,
     "metadata": {},
     "output_type": "execute_result"
    }
   ],
   "source": [
    "symbol_to_entrezid.head()"
   ]
  },
  {
   "cell_type": "code",
   "execution_count": 17,
   "id": "4b4564ca-bad8-4d30-9c82-a30193e05bda",
   "metadata": {
    "execution": {
     "iopub.execute_input": "2024-01-03T12:22:52.646991Z",
     "iopub.status.busy": "2024-01-03T12:22:52.646787Z",
     "iopub.status.idle": "2024-01-03T12:22:52.651646Z",
     "shell.execute_reply": "2024-01-03T12:22:52.651114Z"
    },
    "papermill": {
     "duration": 0.013957,
     "end_time": "2024-01-03T12:22:52.652957",
     "exception": false,
     "start_time": "2024-01-03T12:22:52.639000",
     "status": "completed"
    },
    "tags": []
   },
   "outputs": [
    {
     "data": {
      "text/plain": [
       "True"
      ]
     },
     "execution_count": 17,
     "metadata": {},
     "output_type": "execute_result"
    }
   ],
   "source": [
    "symbol_to_entrezid.isna().any().any()"
   ]
  },
  {
   "cell_type": "code",
   "execution_count": 18,
   "id": "aa0439d8-1987-4674-8831-e1630dc9f85a",
   "metadata": {
    "execution": {
     "iopub.execute_input": "2024-01-03T12:22:52.667944Z",
     "iopub.status.busy": "2024-01-03T12:22:52.667462Z",
     "iopub.status.idle": "2024-01-03T12:22:52.672371Z",
     "shell.execute_reply": "2024-01-03T12:22:52.671862Z"
    },
    "papermill": {
     "duration": 0.013759,
     "end_time": "2024-01-03T12:22:52.673643",
     "exception": false,
     "start_time": "2024-01-03T12:22:52.659884",
     "status": "completed"
    },
    "tags": []
   },
   "outputs": [],
   "source": [
    "symbol_to_entrezid = symbol_to_entrezid.dropna()"
   ]
  },
  {
   "cell_type": "code",
   "execution_count": 19,
   "id": "fbd100bc-9370-4879-ad31-7417fad81072",
   "metadata": {
    "execution": {
     "iopub.execute_input": "2024-01-03T12:22:52.688178Z",
     "iopub.status.busy": "2024-01-03T12:22:52.687825Z",
     "iopub.status.idle": "2024-01-03T12:22:52.691692Z",
     "shell.execute_reply": "2024-01-03T12:22:52.691245Z"
    },
    "papermill": {
     "duration": 0.012525,
     "end_time": "2024-01-03T12:22:52.692961",
     "exception": false,
     "start_time": "2024-01-03T12:22:52.680436",
     "status": "completed"
    },
    "tags": []
   },
   "outputs": [
    {
     "data": {
      "text/plain": [
       "(2878, 2)"
      ]
     },
     "execution_count": 19,
     "metadata": {},
     "output_type": "execute_result"
    }
   ],
   "source": [
    "symbol_to_entrezid.shape"
   ]
  },
  {
   "cell_type": "code",
   "execution_count": 20,
   "id": "56083400-380d-4c6f-a19a-6f7df2972bf9",
   "metadata": {
    "execution": {
     "iopub.execute_input": "2024-01-03T12:22:52.707714Z",
     "iopub.status.busy": "2024-01-03T12:22:52.707376Z",
     "iopub.status.idle": "2024-01-03T12:22:52.711819Z",
     "shell.execute_reply": "2024-01-03T12:22:52.711343Z"
    },
    "papermill": {
     "duration": 0.012588,
     "end_time": "2024-01-03T12:22:52.712534",
     "exception": false,
     "start_time": "2024-01-03T12:22:52.699946",
     "status": "completed"
    },
    "tags": []
   },
   "outputs": [],
   "source": [
    "assert symbol_to_entrezid[symbol_to_entrezid[\"SYMBOL\"] == \"IFNG\"].shape[0] == 1\n",
    "assert symbol_to_entrezid[symbol_to_entrezid[\"SYMBOL\"] == \"RASSF2\"].shape[0] == 1"
   ]
  },
  {
   "cell_type": "markdown",
   "id": "ffc97dba-3d11-48b6-b2ef-7d5606aff619",
   "metadata": {
    "papermill": {
     "duration": 0.003532,
     "end_time": "2024-01-03T12:22:52.719593",
     "exception": false,
     "start_time": "2024-01-03T12:22:52.716061",
     "status": "completed"
    },
    "tags": []
   },
   "source": [
    "# Save"
   ]
  },
  {
   "cell_type": "code",
   "execution_count": 21,
   "id": "7ccdd0ce-ec4b-462c-b5e4-f8dd9aa6ab79",
   "metadata": {
    "execution": {
     "iopub.execute_input": "2024-01-03T12:22:52.727574Z",
     "iopub.status.busy": "2024-01-03T12:22:52.727423Z",
     "iopub.status.idle": "2024-01-03T12:22:52.731604Z",
     "shell.execute_reply": "2024-01-03T12:22:52.731140Z"
    },
    "papermill": {
     "duration": 0.009116,
     "end_time": "2024-01-03T12:22:52.732392",
     "exception": false,
     "start_time": "2024-01-03T12:22:52.723276",
     "status": "completed"
    },
    "tags": []
   },
   "outputs": [],
   "source": [
    "symbol_to_entrezid.to_pickle(OUTPUT_DIR / \"gene_map-symbol_to_entrezid.pkl\")"
   ]
  },
  {
   "cell_type": "code",
   "execution_count": null,
   "id": "e14b2d97-374a-4622-a774-551ab71f5292",
   "metadata": {
    "papermill": {
     "duration": 0.003544,
     "end_time": "2024-01-03T12:22:52.739631",
     "exception": false,
     "start_time": "2024-01-03T12:22:52.736087",
     "status": "completed"
    },
    "tags": []
   },
   "outputs": [],
   "source": []
  }
 ],
 "metadata": {
  "jupytext": {
   "cell_metadata_filter": "all,-execution,-papermill,-trusted"
  },
  "kernelspec": {
   "display_name": "Python 3 (ipykernel)",
   "language": "python",
   "name": "python3"
  },
  "language_info": {
   "codemirror_mode": {
    "name": "ipython",
    "version": 3
   },
   "file_extension": ".py",
   "mimetype": "text/x-python",
   "name": "python",
   "nbconvert_exporter": "python",
   "pygments_lexer": "ipython3",
   "version": "3.9.12"
  },
  "papermill": {
   "default_parameters": {},
   "duration": 4.766675,
   "end_time": "2024-01-03T12:22:53.160427",
   "environment_variables": {},
   "exception": null,
   "input_path": "nbs/99_manuscript/giant/03_00-giant-get_gene_info.ipynb",
   "output_path": "nbs/99_manuscript/giant/03_00-giant-get_gene_info.run.ipynb",
   "parameters": {},
   "start_time": "2024-01-03T12:22:48.393752",
   "version": "2.3.3"
  },
  "toc-autonumbering": true
 },
 "nbformat": 4,
 "nbformat_minor": 5
}
