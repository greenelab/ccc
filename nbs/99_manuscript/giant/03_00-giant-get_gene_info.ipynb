{
 "cells": [
  {
   "cell_type": "markdown",
   "id": "87e0ce1b-7ce6-4499-9342-5ded05307598",
   "metadata": {
    "papermill": {
     "duration": 0.105156,
     "end_time": "2021-12-21T20:13:36.669733",
     "exception": false,
     "start_time": "2021-12-21T20:13:36.564577",
     "status": "completed"
    },
    "tags": []
   },
   "source": [
    "# Description"
   ]
  },
  {
   "cell_type": "markdown",
   "id": "4bfc7115-350a-441b-9a19-7626a948a694",
   "metadata": {
    "papermill": {
     "duration": 0.077358,
     "end_time": "2021-12-21T20:13:36.824140",
     "exception": false,
     "start_time": "2021-12-21T20:13:36.746782",
     "status": "completed"
    },
    "tags": []
   },
   "source": [
    "It gets all the gene pairs prioritized by different correlation coefficients and writes a file with gene ID mappings (symbols and Entrez IDs)."
   ]
  },
  {
   "cell_type": "markdown",
   "id": "e020c781-238b-43c2-8cad-2722b8a240e2",
   "metadata": {
    "papermill": {
     "duration": 0.078359,
     "end_time": "2021-12-21T20:13:36.980950",
     "exception": false,
     "start_time": "2021-12-21T20:13:36.902591",
     "status": "completed"
    },
    "tags": []
   },
   "source": [
    "# Modules"
   ]
  },
  {
   "cell_type": "code",
   "execution_count": 1,
   "id": "8c99f618-0d2d-43fd-86d4-8c44d33f4c59",
   "metadata": {},
   "outputs": [],
   "source": [
    "%load_ext rpy2.ipython"
   ]
  },
  {
   "cell_type": "code",
   "execution_count": 2,
   "id": "a819bfbc-5009-4c68-ba8d-37d0979d368f",
   "metadata": {
    "papermill": {
     "duration": 1.400218,
     "end_time": "2021-12-21T20:13:38.460171",
     "exception": false,
     "start_time": "2021-12-21T20:13:37.059953",
     "status": "completed"
    },
    "tags": []
   },
   "outputs": [],
   "source": [
    "import json\n",
    "import tempfile\n",
    "from pathlib import Path\n",
    "\n",
    "import requests\n",
    "import pandas as pd\n",
    "\n",
    "from clustermatch import conf"
   ]
  },
  {
   "cell_type": "markdown",
   "id": "b4834387-58ff-468c-b326-85c408bc5feb",
   "metadata": {
    "papermill": {
     "duration": 0.079144,
     "end_time": "2021-12-21T20:13:38.626394",
     "exception": false,
     "start_time": "2021-12-21T20:13:38.547250",
     "status": "completed"
    },
    "tags": []
   },
   "source": [
    "# Settings"
   ]
  },
  {
   "cell_type": "code",
   "execution_count": 3,
   "id": "765e820a-4518-4bbc-a00f-14c9cea03821",
   "metadata": {
    "papermill": {
     "duration": 0.083094,
     "end_time": "2021-12-21T20:13:38.788297",
     "exception": false,
     "start_time": "2021-12-21T20:13:38.705203",
     "status": "completed"
    },
    "tags": []
   },
   "outputs": [],
   "source": [
    "DATASET_CONFIG = conf.GTEX"
   ]
  },
  {
   "cell_type": "markdown",
   "id": "a1159982-5dd1-4494-97d4-0674eeead1c3",
   "metadata": {
    "papermill": {
     "duration": 0.077617,
     "end_time": "2021-12-21T20:13:39.105285",
     "exception": false,
     "start_time": "2021-12-21T20:13:39.027668",
     "status": "completed"
    },
    "tags": []
   },
   "source": [
    "# Paths"
   ]
  },
  {
   "cell_type": "code",
   "execution_count": 4,
   "id": "3e967e81-0d1b-4b12-968e-cd02b466b572",
   "metadata": {
    "papermill": {
     "duration": 0.088947,
     "end_time": "2021-12-21T20:13:39.799072",
     "exception": false,
     "start_time": "2021-12-21T20:13:39.710125",
     "status": "completed"
    },
    "tags": []
   },
   "outputs": [
    {
     "data": {
      "text/plain": [
       "PosixPath('/opt/data/results/gtex_v8/gene_pair_intersections')"
      ]
     },
     "metadata": {},
     "output_type": "display_data"
    }
   ],
   "source": [
    "INPUT_DIR = DATASET_CONFIG[\"GENE_PAIR_INTERSECTIONS\"]\n",
    "display(INPUT_DIR)\n",
    "\n",
    "assert INPUT_DIR.exists()"
   ]
  },
  {
   "cell_type": "code",
   "execution_count": 5,
   "id": "534e013a-e73e-4306-a2f5-1f8301a9a4c5",
   "metadata": {
    "papermill": {
     "duration": 0.088947,
     "end_time": "2021-12-21T20:13:39.799072",
     "exception": false,
     "start_time": "2021-12-21T20:13:39.710125",
     "status": "completed"
    },
    "tags": []
   },
   "outputs": [
    {
     "data": {
      "text/plain": [
       "PosixPath('/opt/data/results/giant/intersection_genes')"
      ]
     },
     "metadata": {},
     "output_type": "display_data"
    }
   ],
   "source": [
    "OUTPUT_DIR = conf.GIANT[\"RESULTS_DIR\"] / \"intersection_genes\"\n",
    "OUTPUT_DIR.mkdir(parents=True, exist_ok=True)\n",
    "display(OUTPUT_DIR)"
   ]
  },
  {
   "cell_type": "markdown",
   "id": "1fe2ea25-0b72-4da8-b8f5-eb1e094b1ffc",
   "metadata": {
    "papermill": {
     "duration": 0.077617,
     "end_time": "2021-12-21T20:13:39.105285",
     "exception": false,
     "start_time": "2021-12-21T20:13:39.027668",
     "status": "completed"
    },
    "tags": []
   },
   "source": [
    "# Get gene entrez ids"
   ]
  },
  {
   "cell_type": "code",
   "execution_count": 6,
   "id": "a233fca7-7e68-441a-ac47-dcbadf3e65d2",
   "metadata": {},
   "outputs": [],
   "source": [
    "genes = set()"
   ]
  },
  {
   "cell_type": "code",
   "execution_count": 7,
   "id": "802bde85-803d-4494-bed6-c5dfa23aaeec",
   "metadata": {},
   "outputs": [
    {
     "data": {
      "text/plain": [
       "2887"
      ]
     },
     "metadata": {},
     "output_type": "display_data"
    }
   ],
   "source": [
    "data = pd.read_pickle(INPUT_DIR / \"clustermatch_vs_pearson.pkl\")\n",
    "_tmp0 = set(data.index.get_level_values(0))\n",
    "_tmp1 = set(data.index.get_level_values(1))\n",
    "genes.update(_tmp0.union(_tmp1))\n",
    "display(len(genes))"
   ]
  },
  {
   "cell_type": "code",
   "execution_count": 8,
   "id": "85e74d50-6f9c-41f1-80bb-8d7beae26648",
   "metadata": {},
   "outputs": [
    {
     "data": {
      "text/plain": [
       "2888"
      ]
     },
     "metadata": {},
     "output_type": "display_data"
    }
   ],
   "source": [
    "data = pd.read_pickle(INPUT_DIR / \"clustermatch_vs_pearson_spearman.pkl\")\n",
    "_tmp0 = set(data.index.get_level_values(0))\n",
    "_tmp1 = set(data.index.get_level_values(1))\n",
    "genes.update(_tmp0.union(_tmp1))\n",
    "display(len(genes))"
   ]
  },
  {
   "cell_type": "code",
   "execution_count": 9,
   "id": "cbf2ad56-a148-4903-bd74-95c2fc9080b7",
   "metadata": {},
   "outputs": [
    {
     "data": {
      "text/plain": [
       "2892"
      ]
     },
     "metadata": {},
     "output_type": "display_data"
    }
   ],
   "source": [
    "data = pd.read_pickle(INPUT_DIR / \"clustermatch_vs_spearman.pkl\")\n",
    "_tmp0 = set(data.index.get_level_values(0))\n",
    "_tmp1 = set(data.index.get_level_values(1))\n",
    "genes.update(_tmp0.union(_tmp1))\n",
    "display(len(genes))"
   ]
  },
  {
   "cell_type": "code",
   "execution_count": 10,
   "id": "d2750de3-b08a-4b58-8e26-bb8c7a0bf3df",
   "metadata": {},
   "outputs": [
    {
     "data": {
      "text/plain": [
       "3224"
      ]
     },
     "metadata": {},
     "output_type": "display_data"
    }
   ],
   "source": [
    "data = pd.read_pickle(INPUT_DIR / \"pearson_vs_clustermatch.pkl\")\n",
    "_tmp0 = set(data.index.get_level_values(0))\n",
    "_tmp1 = set(data.index.get_level_values(1))\n",
    "genes.update(_tmp0.union(_tmp1))\n",
    "display(len(genes))"
   ]
  },
  {
   "cell_type": "code",
   "execution_count": 11,
   "id": "5dd30fd1-ae37-445e-8c72-b69db1318d51",
   "metadata": {},
   "outputs": [
    {
     "data": {
      "text/plain": [
       "3243"
      ]
     },
     "metadata": {},
     "output_type": "display_data"
    }
   ],
   "source": [
    "data = pd.read_pickle(INPUT_DIR / \"pearson_vs_clustermatch_spearman.pkl\")\n",
    "_tmp0 = set(data.index.get_level_values(0))\n",
    "_tmp1 = set(data.index.get_level_values(1))\n",
    "genes.update(_tmp0.union(_tmp1))\n",
    "display(len(genes))"
   ]
  },
  {
   "cell_type": "code",
   "execution_count": 12,
   "id": "6354ade5-10b4-4174-91d7-c5516cd672cf",
   "metadata": {},
   "outputs": [],
   "source": [
    "genes = list(genes)\n",
    "assert not pd.Series(genes).isna().any()"
   ]
  },
  {
   "cell_type": "code",
   "execution_count": 13,
   "id": "b71de49e-1076-4525-8ff2-80b532db5fff",
   "metadata": {},
   "outputs": [
    {
     "name": "stderr",
     "output_type": "stream",
     "text": [
      "R[write to console]: Loading required package: AnnotationDbi\n",
      "\n",
      "R[write to console]: Loading required package: stats4\n",
      "\n",
      "R[write to console]: Loading required package: BiocGenerics\n",
      "\n",
      "R[write to console]: Loading required package: parallel\n",
      "\n",
      "R[write to console]: \n",
      "Attaching package: ‘BiocGenerics’\n",
      "\n",
      "\n",
      "R[write to console]: The following objects are masked from ‘package:parallel’:\n",
      "\n",
      "    clusterApply, clusterApplyLB, clusterCall, clusterEvalQ,\n",
      "    clusterExport, clusterMap, parApply, parCapply, parLapply,\n",
      "    parLapplyLB, parRapply, parSapply, parSapplyLB\n",
      "\n",
      "\n",
      "R[write to console]: The following objects are masked from ‘package:stats’:\n",
      "\n",
      "    IQR, mad, sd, var, xtabs\n",
      "\n",
      "\n",
      "R[write to console]: The following objects are masked from ‘package:base’:\n",
      "\n",
      "    anyDuplicated, append, as.data.frame, basename, cbind, colnames,\n",
      "    dirname, do.call, duplicated, eval, evalq, Filter, Find, get, grep,\n",
      "    grepl, intersect, is.unsorted, lapply, Map, mapply, match, mget,\n",
      "    order, paste, pmax, pmax.int, pmin, pmin.int, Position, rank,\n",
      "    rbind, Reduce, rownames, sapply, setdiff, sort, table, tapply,\n",
      "    union, unique, unsplit, which.max, which.min\n",
      "\n",
      "\n",
      "R[write to console]: Loading required package: Biobase\n",
      "\n",
      "R[write to console]: Welcome to Bioconductor\n",
      "\n",
      "    Vignettes contain introductory material; view with\n",
      "    'browseVignettes()'. To cite Bioconductor, see\n",
      "    'citation(\"Biobase\")', and for packages 'citation(\"pkgname\")'.\n",
      "\n",
      "\n",
      "R[write to console]: Loading required package: IRanges\n",
      "\n",
      "R[write to console]: Loading required package: S4Vectors\n",
      "\n",
      "R[write to console]: \n",
      "Attaching package: ‘S4Vectors’\n",
      "\n",
      "\n",
      "R[write to console]: The following objects are masked from ‘package:base’:\n",
      "\n",
      "    expand.grid, I, unname\n",
      "\n",
      "\n",
      "R[write to console]: \n",
      "\n",
      "R[write to console]: 'select()' returned 1:1 mapping between keys and columns\n",
      "\n"
     ]
    }
   ],
   "source": [
    "%%R -i genes -o symbol_to_entrezid\n",
    "library(org.Hs.eg.db)\n",
    "hs <- org.Hs.eg.db\n",
    "\n",
    "symbol_to_entrezid <- select(hs,\n",
    "       keys = unlist(genes),\n",
    "       columns = c(\"ENTREZID\", \"SYMBOL\"),\n",
    "       keytype = \"SYMBOL\")"
   ]
  },
  {
   "cell_type": "code",
   "execution_count": 14,
   "id": "11326a5f-18e7-4e61-b355-8889af98d5f7",
   "metadata": {},
   "outputs": [
    {
     "data": {
      "text/plain": [
       "(3243, 2)"
      ]
     },
     "execution_count": 14,
     "metadata": {},
     "output_type": "execute_result"
    }
   ],
   "source": [
    "symbol_to_entrezid.shape"
   ]
  },
  {
   "cell_type": "code",
   "execution_count": 15,
   "id": "09ca5532-130a-4918-be21-b53fe7cef0f2",
   "metadata": {},
   "outputs": [],
   "source": [
    "assert symbol_to_entrezid.shape[0] == len(genes)"
   ]
  },
  {
   "cell_type": "code",
   "execution_count": 16,
   "id": "5fff7b25-efe1-4530-bb20-f4bf17e02b01",
   "metadata": {},
   "outputs": [
    {
     "data": {
      "text/html": [
       "<div>\n",
       "<style scoped>\n",
       "    .dataframe tbody tr th:only-of-type {\n",
       "        vertical-align: middle;\n",
       "    }\n",
       "\n",
       "    .dataframe tbody tr th {\n",
       "        vertical-align: top;\n",
       "    }\n",
       "\n",
       "    .dataframe thead th {\n",
       "        text-align: right;\n",
       "    }\n",
       "</style>\n",
       "<table border=\"1\" class=\"dataframe\">\n",
       "  <thead>\n",
       "    <tr style=\"text-align: right;\">\n",
       "      <th></th>\n",
       "      <th>SYMBOL</th>\n",
       "      <th>ENTREZID</th>\n",
       "    </tr>\n",
       "  </thead>\n",
       "  <tbody>\n",
       "    <tr>\n",
       "      <th>1</th>\n",
       "      <td>HEG1</td>\n",
       "      <td>57493</td>\n",
       "    </tr>\n",
       "    <tr>\n",
       "      <th>2</th>\n",
       "      <td>ACBD6</td>\n",
       "      <td>84320</td>\n",
       "    </tr>\n",
       "    <tr>\n",
       "      <th>3</th>\n",
       "      <td>CUTA</td>\n",
       "      <td>51596</td>\n",
       "    </tr>\n",
       "    <tr>\n",
       "      <th>4</th>\n",
       "      <td>HIST1H1D</td>\n",
       "      <td>None</td>\n",
       "    </tr>\n",
       "    <tr>\n",
       "      <th>5</th>\n",
       "      <td>TIPARP</td>\n",
       "      <td>25976</td>\n",
       "    </tr>\n",
       "  </tbody>\n",
       "</table>\n",
       "</div>"
      ],
      "text/plain": [
       "     SYMBOL ENTREZID\n",
       "1      HEG1    57493\n",
       "2     ACBD6    84320\n",
       "3      CUTA    51596\n",
       "4  HIST1H1D     None\n",
       "5    TIPARP    25976"
      ]
     },
     "execution_count": 16,
     "metadata": {},
     "output_type": "execute_result"
    }
   ],
   "source": [
    "symbol_to_entrezid.head()"
   ]
  },
  {
   "cell_type": "code",
   "execution_count": 17,
   "id": "4b4564ca-bad8-4d30-9c82-a30193e05bda",
   "metadata": {},
   "outputs": [
    {
     "data": {
      "text/plain": [
       "True"
      ]
     },
     "execution_count": 17,
     "metadata": {},
     "output_type": "execute_result"
    }
   ],
   "source": [
    "symbol_to_entrezid.isna().any().any()"
   ]
  },
  {
   "cell_type": "code",
   "execution_count": 18,
   "id": "aa0439d8-1987-4674-8831-e1630dc9f85a",
   "metadata": {},
   "outputs": [],
   "source": [
    "symbol_to_entrezid = symbol_to_entrezid.dropna()"
   ]
  },
  {
   "cell_type": "code",
   "execution_count": 19,
   "id": "fbd100bc-9370-4879-ad31-7417fad81072",
   "metadata": {},
   "outputs": [
    {
     "data": {
      "text/plain": [
       "(2878, 2)"
      ]
     },
     "execution_count": 19,
     "metadata": {},
     "output_type": "execute_result"
    }
   ],
   "source": [
    "symbol_to_entrezid.shape"
   ]
  },
  {
   "cell_type": "code",
   "execution_count": 20,
   "id": "56083400-380d-4c6f-a19a-6f7df2972bf9",
   "metadata": {},
   "outputs": [],
   "source": [
    "assert symbol_to_entrezid[symbol_to_entrezid[\"SYMBOL\"] == \"IFNG\"].shape[0] == 1\n",
    "assert symbol_to_entrezid[symbol_to_entrezid[\"SYMBOL\"] == \"RASSF2\"].shape[0] == 1"
   ]
  },
  {
   "cell_type": "markdown",
   "id": "ffc97dba-3d11-48b6-b2ef-7d5606aff619",
   "metadata": {},
   "source": [
    "# Save"
   ]
  },
  {
   "cell_type": "code",
   "execution_count": 21,
   "id": "7ccdd0ce-ec4b-462c-b5e4-f8dd9aa6ab79",
   "metadata": {},
   "outputs": [],
   "source": [
    "symbol_to_entrezid.to_pickle(OUTPUT_DIR / \"gene_map-symbol_to_entrezid.pkl\")"
   ]
  },
  {
   "cell_type": "code",
   "execution_count": null,
   "id": "e14b2d97-374a-4622-a774-551ab71f5292",
   "metadata": {},
   "outputs": [],
   "source": []
  }
 ],
 "metadata": {
  "jupytext": {
   "cell_metadata_filter": "all,-execution,-papermill,-trusted"
  },
  "kernelspec": {
   "display_name": "Python 3 (ipykernel)",
   "language": "python",
   "name": "python3"
  },
  "language_info": {
   "codemirror_mode": {
    "name": "ipython",
    "version": 3
   },
   "file_extension": ".py",
   "mimetype": "text/x-python",
   "name": "python",
   "nbconvert_exporter": "python",
   "pygments_lexer": "ipython3",
   "version": "3.9.12"
  },
  "papermill": {
   "default_parameters": {},
   "duration": 808.744828,
   "end_time": "2021-12-21T20:27:03.803437",
   "environment_variables": {},
   "exception": null,
   "input_path": "nbs/99_manuscript/coefs_comp/05-gtex_whole_blood-general_plots.ipynb",
   "output_path": "nbs/99_manuscript/coefs_comp/05-gtex_whole_blood-general_plots.run.ipynb",
   "parameters": {},
   "start_time": "2021-12-21T20:13:35.058609",
   "version": "2.3.3"
  },
  "toc-autonumbering": true
 },
 "nbformat": 4,
 "nbformat_minor": 5
}
