{
 "cells": [
  {
   "cell_type": "markdown",
   "id": "c1948eb4-fb63-4fad-8243-bcd57b98def3",
   "metadata": {
    "papermill": {
     "duration": 0.005855,
     "end_time": "2024-01-08T16:10:30.257537",
     "exception": false,
     "start_time": "2024-01-08T16:10:30.251682",
     "status": "completed"
    },
    "tags": []
   },
   "source": [
    "# Description"
   ]
  },
  {
   "cell_type": "markdown",
   "id": "d5775ff8-d222-4fbc-b1a9-8366662c2896",
   "metadata": {
    "papermill": {
     "duration": 0.004453,
     "end_time": "2024-01-08T16:10:30.272482",
     "exception": false,
     "start_time": "2024-01-08T16:10:30.268029",
     "status": "completed"
    },
    "tags": []
   },
   "source": [
    "Reads $k_{\\mathrm{max}}$ analyses and plot results."
   ]
  },
  {
   "cell_type": "markdown",
   "id": "d6252b4c-6d56-4cf0-aecd-5d8c769a3609",
   "metadata": {
    "papermill": {
     "duration": 0.004415,
     "end_time": "2024-01-08T16:10:30.282910",
     "exception": false,
     "start_time": "2024-01-08T16:10:30.278495",
     "status": "completed"
    },
    "tags": []
   },
   "source": [
    "# Modules loading"
   ]
  },
  {
   "cell_type": "code",
   "execution_count": 1,
   "id": "77e9d29d-5307-4b4a-b103-7d1fbd6a7e56",
   "metadata": {
    "execution": {
     "iopub.execute_input": "2024-01-08T16:10:30.293338Z",
     "iopub.status.busy": "2024-01-08T16:10:30.293016Z",
     "iopub.status.idle": "2024-01-08T16:10:31.078510Z",
     "shell.execute_reply": "2024-01-08T16:10:31.078035Z"
    },
    "papermill": {
     "duration": 0.792755,
     "end_time": "2024-01-08T16:10:31.080258",
     "exception": false,
     "start_time": "2024-01-08T16:10:30.287503",
     "status": "completed"
    },
    "tags": []
   },
   "outputs": [],
   "source": [
    "import numpy as np\n",
    "import pandas as pd\n",
    "\n",
    "import matplotlib.pyplot as plt\n",
    "import seaborn as sns\n",
    "\n",
    "from ccc import conf\n",
    "from ccc.coef import ccc"
   ]
  },
  {
   "cell_type": "markdown",
   "id": "262eb535-3e5d-43d7-9efd-bd6cfdac9190",
   "metadata": {
    "papermill": {
     "duration": 0.004494,
     "end_time": "2024-01-08T16:10:31.089682",
     "exception": false,
     "start_time": "2024-01-08T16:10:31.085188",
     "status": "completed"
    },
    "tags": []
   },
   "source": [
    "# Settings"
   ]
  },
  {
   "cell_type": "code",
   "execution_count": null,
   "id": "d24607ca-2774-4e51-b392-538c85c86052",
   "metadata": {
    "papermill": {
     "duration": 0.0045,
     "end_time": "2024-01-08T16:10:31.098867",
     "exception": false,
     "start_time": "2024-01-08T16:10:31.094367",
     "status": "completed"
    },
    "tags": []
   },
   "outputs": [],
   "source": []
  },
  {
   "cell_type": "markdown",
   "id": "eec9bb6d-4ba2-4817-9b36-bc8e68a2beae",
   "metadata": {
    "papermill": {
     "duration": 0.004471,
     "end_time": "2024-01-08T16:10:31.107970",
     "exception": false,
     "start_time": "2024-01-08T16:10:31.103499",
     "status": "completed"
    },
    "tags": []
   },
   "source": [
    "# Paths"
   ]
  },
  {
   "cell_type": "code",
   "execution_count": 2,
   "id": "413010af-a3b0-45a0-adb8-8559c06d228c",
   "metadata": {
    "execution": {
     "iopub.execute_input": "2024-01-08T16:10:31.118060Z",
     "iopub.status.busy": "2024-01-08T16:10:31.117723Z",
     "iopub.status.idle": "2024-01-08T16:10:31.121000Z",
     "shell.execute_reply": "2024-01-08T16:10:31.120560Z"
    },
    "papermill": {
     "duration": 0.009763,
     "end_time": "2024-01-08T16:10:31.122338",
     "exception": false,
     "start_time": "2024-01-08T16:10:31.112575",
     "status": "completed"
    },
    "tags": []
   },
   "outputs": [],
   "source": [
    "assert (\n",
    "    conf.MANUSCRIPT[\"BASE_DIR\"] is not None and conf.MANUSCRIPT[\"BASE_DIR\"].exists()\n",
    "), \"Manuscript dir not set\""
   ]
  },
  {
   "cell_type": "code",
   "execution_count": 3,
   "id": "ee9e6b70-9abd-4714-9ce5-49c270a1b0be",
   "metadata": {
    "execution": {
     "iopub.execute_input": "2024-01-08T16:10:31.132334Z",
     "iopub.status.busy": "2024-01-08T16:10:31.132029Z",
     "iopub.status.idle": "2024-01-08T16:10:31.137935Z",
     "shell.execute_reply": "2024-01-08T16:10:31.137462Z"
    },
    "papermill": {
     "duration": 0.012268,
     "end_time": "2024-01-08T16:10:31.139286",
     "exception": false,
     "start_time": "2024-01-08T16:10:31.127018",
     "status": "completed"
    },
    "tags": []
   },
   "outputs": [
    {
     "data": {
      "text/plain": [
       "PosixPath('/opt/data/results/k_max_test')"
      ]
     },
     "metadata": {},
     "output_type": "display_data"
    }
   ],
   "source": [
    "INPUT_DIR = conf.RESULTS_DIR / \"k_max_test\"\n",
    "INPUT_DIR.mkdir(parents=True, exist_ok=True)\n",
    "display(INPUT_DIR)"
   ]
  },
  {
   "cell_type": "code",
   "execution_count": 4,
   "id": "dba263cb-ebc2-46d6-ba7e-0a782588d279",
   "metadata": {
    "execution": {
     "iopub.execute_input": "2024-01-08T16:10:31.149705Z",
     "iopub.status.busy": "2024-01-08T16:10:31.149343Z",
     "iopub.status.idle": "2024-01-08T16:10:31.153147Z",
     "shell.execute_reply": "2024-01-08T16:10:31.152679Z"
    },
    "papermill": {
     "duration": 0.010404,
     "end_time": "2024-01-08T16:10:31.154471",
     "exception": false,
     "start_time": "2024-01-08T16:10:31.144067",
     "status": "completed"
    },
    "tags": []
   },
   "outputs": [
    {
     "data": {
      "text/plain": [
       "PosixPath('/opt/data/results/k_max_test/k_max-results.pkl')"
      ]
     },
     "metadata": {},
     "output_type": "display_data"
    }
   ],
   "source": [
    "INPUT_FILE = INPUT_DIR / \"k_max-results.pkl\"\n",
    "display(INPUT_FILE)"
   ]
  },
  {
   "cell_type": "code",
   "execution_count": 5,
   "id": "e9d32632-5447-407e-8d83-918b3d47b612",
   "metadata": {
    "execution": {
     "iopub.execute_input": "2024-01-08T16:10:31.164989Z",
     "iopub.status.busy": "2024-01-08T16:10:31.164655Z",
     "iopub.status.idle": "2024-01-08T16:10:31.168885Z",
     "shell.execute_reply": "2024-01-08T16:10:31.168411Z"
    },
    "papermill": {
     "duration": 0.010928,
     "end_time": "2024-01-08T16:10:31.170239",
     "exception": false,
     "start_time": "2024-01-08T16:10:31.159311",
     "status": "completed"
    },
    "tags": []
   },
   "outputs": [
    {
     "data": {
      "text/plain": [
       "PosixPath('/opt/manuscript/content/images/misc')"
      ]
     },
     "metadata": {},
     "output_type": "display_data"
    }
   ],
   "source": [
    "OUTPUT_FIGURE_DIR = conf.MANUSCRIPT[\"FIGURES_DIR\"] / \"misc\"\n",
    "OUTPUT_FIGURE_DIR.mkdir(parents=True, exist_ok=True)\n",
    "display(OUTPUT_FIGURE_DIR)"
   ]
  },
  {
   "cell_type": "markdown",
   "id": "2597ad7d",
   "metadata": {
    "papermill": {
     "duration": 0.004783,
     "end_time": "2024-01-08T16:10:31.179924",
     "exception": false,
     "start_time": "2024-01-08T16:10:31.175141",
     "status": "completed"
    },
    "tags": []
   },
   "source": [
    "# Load data"
   ]
  },
  {
   "cell_type": "code",
   "execution_count": 6,
   "id": "97b70efe-b953-40ba-bdda-8d0c90abc0de",
   "metadata": {
    "execution": {
     "iopub.execute_input": "2024-01-08T16:10:31.188293Z",
     "iopub.status.busy": "2024-01-08T16:10:31.188141Z",
     "iopub.status.idle": "2024-01-08T16:10:31.191819Z",
     "shell.execute_reply": "2024-01-08T16:10:31.191332Z"
    },
    "papermill": {
     "duration": 0.008369,
     "end_time": "2024-01-08T16:10:31.192634",
     "exception": false,
     "start_time": "2024-01-08T16:10:31.184265",
     "status": "completed"
    },
    "tags": []
   },
   "outputs": [],
   "source": [
    "results = pd.read_pickle(INPUT_FILE)"
   ]
  },
  {
   "cell_type": "code",
   "execution_count": 7,
   "id": "eb31f318-5413-4e81-b81b-a13f3ed91848",
   "metadata": {
    "execution": {
     "iopub.execute_input": "2024-01-08T16:10:31.198469Z",
     "iopub.status.busy": "2024-01-08T16:10:31.198144Z",
     "iopub.status.idle": "2024-01-08T16:10:31.201939Z",
     "shell.execute_reply": "2024-01-08T16:10:31.201456Z"
    },
    "papermill": {
     "duration": 0.007717,
     "end_time": "2024-01-08T16:10:31.202816",
     "exception": false,
     "start_time": "2024-01-08T16:10:31.195099",
     "status": "completed"
    },
    "tags": []
   },
   "outputs": [
    {
     "data": {
      "text/plain": [
       "(33, 4)"
      ]
     },
     "execution_count": 7,
     "metadata": {},
     "output_type": "execute_result"
    }
   ],
   "source": [
    "results.shape"
   ]
  },
  {
   "cell_type": "code",
   "execution_count": 8,
   "id": "e4fbe0fe-d584-49ad-bf1c-9f1d0adfb833",
   "metadata": {
    "execution": {
     "iopub.execute_input": "2024-01-08T16:10:31.208868Z",
     "iopub.status.busy": "2024-01-08T16:10:31.208441Z",
     "iopub.status.idle": "2024-01-08T16:10:31.218721Z",
     "shell.execute_reply": "2024-01-08T16:10:31.218249Z"
    },
    "papermill": {
     "duration": 0.014169,
     "end_time": "2024-01-08T16:10:31.219542",
     "exception": false,
     "start_time": "2024-01-08T16:10:31.205373",
     "status": "completed"
    },
    "tags": []
   },
   "outputs": [
    {
     "data": {
      "text/html": [
       "<div>\n",
       "<style scoped>\n",
       "    .dataframe tbody tr th:only-of-type {\n",
       "        vertical-align: middle;\n",
       "    }\n",
       "\n",
       "    .dataframe tbody tr th {\n",
       "        vertical-align: top;\n",
       "    }\n",
       "\n",
       "    .dataframe thead th {\n",
       "        text-align: right;\n",
       "    }\n",
       "</style>\n",
       "<table border=\"1\" class=\"dataframe\">\n",
       "  <thead>\n",
       "    <tr style=\"text-align: right;\">\n",
       "      <th></th>\n",
       "      <th>data_size</th>\n",
       "      <th>k_max</th>\n",
       "      <th>k_max_as_n_fraction</th>\n",
       "      <th>coef</th>\n",
       "    </tr>\n",
       "  </thead>\n",
       "  <tbody>\n",
       "    <tr>\n",
       "      <th>0</th>\n",
       "      <td>200.0</td>\n",
       "      <td>2.0</td>\n",
       "      <td>0.01</td>\n",
       "      <td>0.043594</td>\n",
       "    </tr>\n",
       "    <tr>\n",
       "      <th>1</th>\n",
       "      <td>200.0</td>\n",
       "      <td>10.0</td>\n",
       "      <td>0.05</td>\n",
       "      <td>0.043594</td>\n",
       "    </tr>\n",
       "    <tr>\n",
       "      <th>2</th>\n",
       "      <td>200.0</td>\n",
       "      <td>24.0</td>\n",
       "      <td>0.12</td>\n",
       "      <td>0.043594</td>\n",
       "    </tr>\n",
       "    <tr>\n",
       "      <th>3</th>\n",
       "      <td>200.0</td>\n",
       "      <td>46.0</td>\n",
       "      <td>0.23</td>\n",
       "      <td>0.043594</td>\n",
       "    </tr>\n",
       "    <tr>\n",
       "      <th>4</th>\n",
       "      <td>200.0</td>\n",
       "      <td>68.0</td>\n",
       "      <td>0.34</td>\n",
       "      <td>0.043594</td>\n",
       "    </tr>\n",
       "  </tbody>\n",
       "</table>\n",
       "</div>"
      ],
      "text/plain": [
       "   data_size  k_max  k_max_as_n_fraction      coef\n",
       "0      200.0    2.0                 0.01  0.043594\n",
       "1      200.0   10.0                 0.05  0.043594\n",
       "2      200.0   24.0                 0.12  0.043594\n",
       "3      200.0   46.0                 0.23  0.043594\n",
       "4      200.0   68.0                 0.34  0.043594"
      ]
     },
     "execution_count": 8,
     "metadata": {},
     "output_type": "execute_result"
    }
   ],
   "source": [
    "results.head()"
   ]
  },
  {
   "cell_type": "markdown",
   "id": "df7a660a-61af-48ed-9fd8-eb7b2c6a4e49",
   "metadata": {
    "papermill": {
     "duration": 0.00261,
     "end_time": "2024-01-08T16:10:31.224801",
     "exception": false,
     "start_time": "2024-01-08T16:10:31.222191",
     "status": "completed"
    },
    "tags": []
   },
   "source": [
    "# Stats"
   ]
  },
  {
   "cell_type": "code",
   "execution_count": 9,
   "id": "04f4e3c1-1146-47ab-8fbd-5b45f23bbf03",
   "metadata": {
    "execution": {
     "iopub.execute_input": "2024-01-08T16:10:31.230732Z",
     "iopub.status.busy": "2024-01-08T16:10:31.230565Z",
     "iopub.status.idle": "2024-01-08T16:10:31.248247Z",
     "shell.execute_reply": "2024-01-08T16:10:31.247759Z"
    },
    "papermill": {
     "duration": 0.021625,
     "end_time": "2024-01-08T16:10:31.249037",
     "exception": false,
     "start_time": "2024-01-08T16:10:31.227412",
     "status": "completed"
    },
    "tags": []
   },
   "outputs": [
    {
     "data": {
      "text/html": [
       "<div>\n",
       "<style scoped>\n",
       "    .dataframe tbody tr th:only-of-type {\n",
       "        vertical-align: middle;\n",
       "    }\n",
       "\n",
       "    .dataframe tbody tr th {\n",
       "        vertical-align: top;\n",
       "    }\n",
       "\n",
       "    .dataframe thead th {\n",
       "        text-align: right;\n",
       "    }\n",
       "</style>\n",
       "<table border=\"1\" class=\"dataframe\">\n",
       "  <thead>\n",
       "    <tr style=\"text-align: right;\">\n",
       "      <th></th>\n",
       "      <th>data_size</th>\n",
       "      <th>k_max</th>\n",
       "      <th>k_max_as_n_fraction</th>\n",
       "      <th>coef</th>\n",
       "    </tr>\n",
       "  </thead>\n",
       "  <tbody>\n",
       "    <tr>\n",
       "      <th>count</th>\n",
       "      <td>33.000000</td>\n",
       "      <td>33.000000</td>\n",
       "      <td>33.000000</td>\n",
       "      <td>33.000000</td>\n",
       "    </tr>\n",
       "    <tr>\n",
       "      <th>mean</th>\n",
       "      <td>866.666667</td>\n",
       "      <td>395.515152</td>\n",
       "      <td>0.458653</td>\n",
       "      <td>0.019595</td>\n",
       "    </tr>\n",
       "    <tr>\n",
       "      <th>std</th>\n",
       "      <td>690.410506</td>\n",
       "      <td>489.003842</td>\n",
       "      <td>0.337793</td>\n",
       "      <td>0.018079</td>\n",
       "    </tr>\n",
       "    <tr>\n",
       "      <th>min</th>\n",
       "      <td>200.000000</td>\n",
       "      <td>2.000000</td>\n",
       "      <td>0.001111</td>\n",
       "      <td>0.001045</td>\n",
       "    </tr>\n",
       "    <tr>\n",
       "      <th>25%</th>\n",
       "      <td>200.000000</td>\n",
       "      <td>68.000000</td>\n",
       "      <td>0.120000</td>\n",
       "      <td>0.003200</td>\n",
       "    </tr>\n",
       "    <tr>\n",
       "      <th>50%</th>\n",
       "      <td>600.000000</td>\n",
       "      <td>200.000000</td>\n",
       "      <td>0.445000</td>\n",
       "      <td>0.010162</td>\n",
       "    </tr>\n",
       "    <tr>\n",
       "      <th>75%</th>\n",
       "      <td>1800.000000</td>\n",
       "      <td>533.000000</td>\n",
       "      <td>0.777778</td>\n",
       "      <td>0.043594</td>\n",
       "    </tr>\n",
       "    <tr>\n",
       "      <th>max</th>\n",
       "      <td>1800.000000</td>\n",
       "      <td>1800.000000</td>\n",
       "      <td>1.000000</td>\n",
       "      <td>0.043594</td>\n",
       "    </tr>\n",
       "  </tbody>\n",
       "</table>\n",
       "</div>"
      ],
      "text/plain": [
       "         data_size        k_max  k_max_as_n_fraction       coef\n",
       "count    33.000000    33.000000            33.000000  33.000000\n",
       "mean    866.666667   395.515152             0.458653   0.019595\n",
       "std     690.410506   489.003842             0.337793   0.018079\n",
       "min     200.000000     2.000000             0.001111   0.001045\n",
       "25%     200.000000    68.000000             0.120000   0.003200\n",
       "50%     600.000000   200.000000             0.445000   0.010162\n",
       "75%    1800.000000   533.000000             0.777778   0.043594\n",
       "max    1800.000000  1800.000000             1.000000   0.043594"
      ]
     },
     "execution_count": 9,
     "metadata": {},
     "output_type": "execute_result"
    }
   ],
   "source": [
    "results.describe()"
   ]
  },
  {
   "cell_type": "markdown",
   "id": "f6186c63-d6af-420c-be22-cf0ddd478cde",
   "metadata": {
    "papermill": {
     "duration": 0.00272,
     "end_time": "2024-01-08T16:10:31.254549",
     "exception": false,
     "start_time": "2024-01-08T16:10:31.251829",
     "status": "completed"
    },
    "tags": []
   },
   "source": [
    "# Change data types"
   ]
  },
  {
   "cell_type": "code",
   "execution_count": 10,
   "id": "75f69785-4f09-4bc5-95cc-dc0105536882",
   "metadata": {
    "execution": {
     "iopub.execute_input": "2024-01-08T16:10:31.260880Z",
     "iopub.status.busy": "2024-01-08T16:10:31.260485Z",
     "iopub.status.idle": "2024-01-08T16:10:31.265160Z",
     "shell.execute_reply": "2024-01-08T16:10:31.264691Z"
    },
    "papermill": {
     "duration": 0.008744,
     "end_time": "2024-01-08T16:10:31.265977",
     "exception": false,
     "start_time": "2024-01-08T16:10:31.257233",
     "status": "completed"
    },
    "tags": []
   },
   "outputs": [
    {
     "data": {
      "text/plain": [
       "data_size              float64\n",
       "k_max                  float64\n",
       "k_max_as_n_fraction    float64\n",
       "coef                   float64\n",
       "dtype: object"
      ]
     },
     "execution_count": 10,
     "metadata": {},
     "output_type": "execute_result"
    }
   ],
   "source": [
    "results.dtypes"
   ]
  },
  {
   "cell_type": "code",
   "execution_count": 11,
   "id": "3314e2e2-08f1-43fa-b973-488fbc0b762f",
   "metadata": {
    "execution": {
     "iopub.execute_input": "2024-01-08T16:10:31.272796Z",
     "iopub.status.busy": "2024-01-08T16:10:31.272237Z",
     "iopub.status.idle": "2024-01-08T16:10:31.276312Z",
     "shell.execute_reply": "2024-01-08T16:10:31.275836Z"
    },
    "papermill": {
     "duration": 0.008234,
     "end_time": "2024-01-08T16:10:31.277076",
     "exception": false,
     "start_time": "2024-01-08T16:10:31.268842",
     "status": "completed"
    },
    "tags": []
   },
   "outputs": [],
   "source": [
    "results[\"data_size\"] = results[\"data_size\"].astype(int)\n",
    "results[\"k_max\"] = results[\"k_max\"].astype(int)"
   ]
  },
  {
   "cell_type": "code",
   "execution_count": 12,
   "id": "933f152c-4f51-4cf8-b6ed-d7f90d7bb9c2",
   "metadata": {
    "execution": {
     "iopub.execute_input": "2024-01-08T16:10:31.283563Z",
     "iopub.status.busy": "2024-01-08T16:10:31.283237Z",
     "iopub.status.idle": "2024-01-08T16:10:31.287680Z",
     "shell.execute_reply": "2024-01-08T16:10:31.287199Z"
    },
    "papermill": {
     "duration": 0.008588,
     "end_time": "2024-01-08T16:10:31.288496",
     "exception": false,
     "start_time": "2024-01-08T16:10:31.279908",
     "status": "completed"
    },
    "tags": []
   },
   "outputs": [
    {
     "data": {
      "text/plain": [
       "data_size                int64\n",
       "k_max                    int64\n",
       "k_max_as_n_fraction    float64\n",
       "coef                   float64\n",
       "dtype: object"
      ]
     },
     "execution_count": 12,
     "metadata": {},
     "output_type": "execute_result"
    }
   ],
   "source": [
    "results.dtypes"
   ]
  },
  {
   "cell_type": "markdown",
   "id": "4fad9af5-d018-4669-be7b-50c4a999f596",
   "metadata": {
    "papermill": {
     "duration": 0.002821,
     "end_time": "2024-01-08T16:10:31.294191",
     "exception": false,
     "start_time": "2024-01-08T16:10:31.291370",
     "status": "completed"
    },
    "tags": []
   },
   "source": [
    "# Plot"
   ]
  },
  {
   "cell_type": "code",
   "execution_count": 13,
   "id": "1cb866fb-81ac-4276-a7c5-114e3ebf5bb7",
   "metadata": {
    "execution": {
     "iopub.execute_input": "2024-01-08T16:10:31.300757Z",
     "iopub.status.busy": "2024-01-08T16:10:31.300431Z",
     "iopub.status.idle": "2024-01-08T16:10:31.303963Z",
     "shell.execute_reply": "2024-01-08T16:10:31.303467Z"
    },
    "papermill": {
     "duration": 0.007701,
     "end_time": "2024-01-08T16:10:31.304744",
     "exception": false,
     "start_time": "2024-01-08T16:10:31.297043",
     "status": "completed"
    },
    "tags": []
   },
   "outputs": [],
   "source": [
    "sns.set(rc={\"figure.figsize\": (12, 8)})"
   ]
  },
  {
   "cell_type": "code",
   "execution_count": 14,
   "id": "a80ec32a-b519-4d89-babf-eb40eb81f80d",
   "metadata": {
    "execution": {
     "iopub.execute_input": "2024-01-08T16:10:31.311487Z",
     "iopub.status.busy": "2024-01-08T16:10:31.311004Z",
     "iopub.status.idle": "2024-01-08T16:10:31.714553Z",
     "shell.execute_reply": "2024-01-08T16:10:31.714212Z"
    },
    "papermill": {
     "duration": 0.408123,
     "end_time": "2024-01-08T16:10:31.715710",
     "exception": false,
     "start_time": "2024-01-08T16:10:31.307587",
     "status": "completed"
    },
    "tags": []
   },
   "outputs": [
    {
     "data": {
      "image/png": "[encoded data removed]",
      "text/plain": [
       "<Figure size 864x576 with 1 Axes>"
      ]
     },
     "metadata": {},
     "output_type": "display_data"
    }
   ],
   "source": [
    "with sns.axes_style(\"whitegrid\"), sns.plotting_context(\"poster\"):\n",
    "    # fig, axes = plt.subplots(1, 2, figsize=(24, 8))\n",
    "\n",
    "    common_params = {\n",
    "        \"data\": results,\n",
    "        \"x\": \"k_max_as_n_fraction\",\n",
    "        \"y\": \"coef\",\n",
    "        \"hue\": \"data_size\",\n",
    "        \"style\": \"data_size\",\n",
    "        \"markers\": True,\n",
    "        \"dashes\": False,\n",
    "    }\n",
    "\n",
    "    ax = sns.lineplot(\n",
    "        # ax=axes[0],\n",
    "        **common_params,\n",
    "    )\n",
    "    ax.set(xlim=(0, 1), ylim=(0, 1.0))\n",
    "    ax.set(ylabel=\"CCC\", xlabel=\"$k_{\\mathrm{max}}$ as fraction of $n$\")\n",
    "    ax.xaxis.grid(False)\n",
    "    # sns.move_legend(ax, 0, title=\"$n$\")\n",
    "    ax.get_legend().set_title(\"$n$\")\n",
    "\n",
    "    plt.savefig(\n",
    "        OUTPUT_FIGURE_DIR / \"constant_baseline-k_max.svg\",\n",
    "        bbox_inches=\"tight\",\n",
    "        facecolor=\"white\",\n",
    "    )"
   ]
  },
  {
   "cell_type": "code",
   "execution_count": 15,
   "id": "f82a6e6c-6b8f-43de-9e5e-9eef34cc0f94",
   "metadata": {
    "execution": {
     "iopub.execute_input": "2024-01-08T16:10:31.732091Z",
     "iopub.status.busy": "2024-01-08T16:10:31.731908Z",
     "iopub.status.idle": "2024-01-08T16:10:32.133214Z",
     "shell.execute_reply": "2024-01-08T16:10:32.132784Z"
    },
    "papermill": {
     "duration": 0.414084,
     "end_time": "2024-01-08T16:10:32.134897",
     "exception": false,
     "start_time": "2024-01-08T16:10:31.720813",
     "status": "completed"
    },
    "tags": []
   },
   "outputs": [
    {
     "data": {
      "image/png": "[encoded data removed]",
      "text/plain": [
       "<Figure size 1728x576 with 2 Axes>"
      ]
     },
     "metadata": {},
     "output_type": "display_data"
    }
   ],
   "source": [
    "with sns.axes_style(\"whitegrid\"), sns.plotting_context(\"poster\"):\n",
    "    fig, axes = plt.subplots(1, 2, figsize=(24, 8))\n",
    "\n",
    "    common_params = {\n",
    "        \"data\": results,\n",
    "        \"x\": \"k_max_as_n_fraction\",\n",
    "        \"y\": \"coef\",\n",
    "        \"hue\": \"data_size\",\n",
    "        \"style\": \"data_size\",\n",
    "        \"markers\": True,\n",
    "        \"dashes\": False,\n",
    "    }\n",
    "\n",
    "    ax = sns.lineplot(\n",
    "        ax=axes[0],\n",
    "        **common_params,\n",
    "    )\n",
    "    ax.set(xlim=(0, 1), ylim=(0, 1.0))\n",
    "    ax.get_legend().set_title(\"$n$\")\n",
    "\n",
    "    ax = sns.lineplot(\n",
    "        ax=axes[1],\n",
    "        legend=False,\n",
    "        **common_params,\n",
    "    )\n",
    "    ax.set(xlim=(0, 1), ylim=(0, 0.12))\n",
    "\n",
    "    for ax in axes:\n",
    "        ax.set(ylabel=\"CCC\", xlabel=\"$k_{\\mathrm{max}}$ as fraction of $n$\")\n",
    "        ax.xaxis.grid(False)\n",
    "\n",
    "    plt.savefig(\n",
    "        OUTPUT_FIGURE_DIR / \"constant_baseline-k_max-ccc_scaled.svg\",\n",
    "        bbox_inches=\"tight\",\n",
    "        facecolor=\"white\",\n",
    "    )"
   ]
  },
  {
   "cell_type": "code",
   "execution_count": null,
   "id": "f74b63d9-1f50-4590-9bb3-82d8569655f2",
   "metadata": {
    "papermill": {
     "duration": 0.010906,
     "end_time": "2024-01-08T16:10:32.152737",
     "exception": false,
     "start_time": "2024-01-08T16:10:32.141831",
     "status": "completed"
    },
    "tags": []
   },
   "outputs": [],
   "source": []
  }
 ],
 "metadata": {
  "jupytext": {
   "cell_metadata_filter": "all,-execution,-papermill,-trusted",
   "notebook_metadata_filter": "-jupytext.text_representation.jupytext_version",
   "text_representation": {
    "extension": ".py",
    "format_name": "percent",
    "format_version": "1.3"
   }
  },
  "kernelspec": {
   "display_name": "Python 3 (ipykernel)",
   "language": "python",
   "name": "python3"
  },
  "language_info": {
   "codemirror_mode": {
    "name": "ipython",
    "version": 3
   },
   "file_extension": ".py",
   "mimetype": "text/x-python",
   "name": "python",
   "nbconvert_exporter": "python",
   "pygments_lexer": "ipython3",
   "version": "3.9.12"
  },
  "papermill": {
   "default_parameters": {},
   "duration": 3.226923,
   "end_time": "2024-01-08T16:10:32.574505",
   "environment_variables": {},
   "exception": null,
   "input_path": "nbs/99_manuscript/k_max/03-k_max-plots.ipynb",
   "output_path": "nbs/99_manuscript/k_max/03-k_max-plots.run.ipynb",
   "parameters": {
    "GTEX_TISSUE": "skin_sun_exposed_lower_leg"
   },
   "start_time": "2024-01-08T16:10:29.347582",
   "version": "2.3.3"
  }
 },
 "nbformat": 4,
 "nbformat_minor": 5
}
