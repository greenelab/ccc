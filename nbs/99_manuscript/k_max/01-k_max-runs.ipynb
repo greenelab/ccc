{
 "cells": [
  {
   "cell_type": "markdown",
   "id": "c1948eb4-fb63-4fad-8243-bcd57b98def3",
   "metadata": {
    "papermill": {
     "duration": 0.006775,
     "end_time": "2024-01-08T08:56:20.292630",
     "exception": false,
     "start_time": "2024-01-08T08:56:20.285855",
     "status": "completed"
    },
    "tags": []
   },
   "source": [
    "# Description"
   ]
  },
  {
   "cell_type": "markdown",
   "id": "d5775ff8-d222-4fbc-b1a9-8366662c2896",
   "metadata": {
    "papermill": {
     "duration": 0.004964,
     "end_time": "2024-01-08T08:56:20.302662",
     "exception": false,
     "start_time": "2024-01-08T08:56:20.297698",
     "status": "completed"
    },
    "tags": []
   },
   "source": [
    "TODO"
   ]
  },
  {
   "cell_type": "markdown",
   "id": "d6252b4c-6d56-4cf0-aecd-5d8c769a3609",
   "metadata": {
    "papermill": {
     "duration": 0.004947,
     "end_time": "2024-01-08T08:56:20.312875",
     "exception": false,
     "start_time": "2024-01-08T08:56:20.307928",
     "status": "completed"
    },
    "tags": []
   },
   "source": [
    "# Modules loading"
   ]
  },
  {
   "cell_type": "code",
   "execution_count": 1,
   "id": "77e9d29d-5307-4b4a-b103-7d1fbd6a7e56",
   "metadata": {
    "execution": {
     "iopub.execute_input": "2024-01-08T08:56:20.323613Z",
     "iopub.status.busy": "2024-01-08T08:56:20.323393Z",
     "iopub.status.idle": "2024-01-08T08:56:29.086424Z",
     "shell.execute_reply": "2024-01-08T08:56:29.085844Z"
    },
    "papermill": {
     "duration": 8.770244,
     "end_time": "2024-01-08T08:56:29.088269",
     "exception": false,
     "start_time": "2024-01-08T08:56:20.318025",
     "status": "completed"
    },
    "tags": []
   },
   "outputs": [],
   "source": [
    "import numpy as np\n",
    "import pandas as pd\n",
    "from tqdm import tqdm\n",
    "\n",
    "from ccc import conf\n",
    "from ccc.coef import ccc"
   ]
  },
  {
   "cell_type": "markdown",
   "id": "262eb535-3e5d-43d7-9efd-bd6cfdac9190",
   "metadata": {
    "papermill": {
     "duration": 0.004468,
     "end_time": "2024-01-08T08:56:29.098460",
     "exception": false,
     "start_time": "2024-01-08T08:56:29.093992",
     "status": "completed"
    },
    "tags": []
   },
   "source": [
    "# Settings"
   ]
  },
  {
   "cell_type": "code",
   "execution_count": 2,
   "id": "c1e5a523-e22f-42e1-b27f-929bebaea711",
   "metadata": {
    "execution": {
     "iopub.execute_input": "2024-01-08T08:56:29.108570Z",
     "iopub.status.busy": "2024-01-08T08:56:29.108165Z",
     "iopub.status.idle": "2024-01-08T08:56:29.113257Z",
     "shell.execute_reply": "2024-01-08T08:56:29.112879Z"
    },
    "papermill": {
     "duration": 0.011349,
     "end_time": "2024-01-08T08:56:29.114090",
     "exception": false,
     "start_time": "2024-01-08T08:56:29.102741",
     "status": "completed"
    },
    "tags": []
   },
   "outputs": [
    {
     "data": {
      "text/plain": [
       "15"
      ]
     },
     "metadata": {},
     "output_type": "display_data"
    }
   ],
   "source": [
    "display(conf.GENERAL[\"N_JOBS\"])"
   ]
  },
  {
   "cell_type": "code",
   "execution_count": 3,
   "id": "2d2bd14a-a40d-4710-98c2-587148d0f532",
   "metadata": {
    "execution": {
     "iopub.execute_input": "2024-01-08T08:56:29.125140Z",
     "iopub.status.busy": "2024-01-08T08:56:29.124758Z",
     "iopub.status.idle": "2024-01-08T08:56:29.127169Z",
     "shell.execute_reply": "2024-01-08T08:56:29.126799Z"
    },
    "papermill": {
     "duration": 0.008603,
     "end_time": "2024-01-08T08:56:29.128014",
     "exception": false,
     "start_time": "2024-01-08T08:56:29.119411",
     "status": "completed"
    },
    "tags": []
   },
   "outputs": [],
   "source": [
    "DATA_SIZES = [\n",
    "    200,\n",
    "    600,\n",
    "    1800,\n",
    "]\n",
    "\n",
    "# split data size in this many points\n",
    "K_MAX_N_SPLITS = 10\n",
    "\n",
    "# always include this value since it is the default we use in CCC\n",
    "DEFAULT_K_MAX = 10\n",
    "\n",
    "# N_REPS = 10"
   ]
  },
  {
   "cell_type": "code",
   "execution_count": 4,
   "id": "d24607ca-2774-4e51-b392-538c85c86052",
   "metadata": {
    "execution": {
     "iopub.execute_input": "2024-01-08T08:56:29.139530Z",
     "iopub.status.busy": "2024-01-08T08:56:29.139197Z",
     "iopub.status.idle": "2024-01-08T08:56:29.141319Z",
     "shell.execute_reply": "2024-01-08T08:56:29.140948Z"
    },
    "papermill": {
     "duration": 0.009338,
     "end_time": "2024-01-08T08:56:29.142147",
     "exception": false,
     "start_time": "2024-01-08T08:56:29.132809",
     "status": "completed"
    },
    "tags": []
   },
   "outputs": [],
   "source": [
    "np.random.seed(0)"
   ]
  },
  {
   "cell_type": "markdown",
   "id": "eec9bb6d-4ba2-4817-9b36-bc8e68a2beae",
   "metadata": {
    "papermill": {
     "duration": 0.004604,
     "end_time": "2024-01-08T08:56:29.152342",
     "exception": false,
     "start_time": "2024-01-08T08:56:29.147738",
     "status": "completed"
    },
    "tags": []
   },
   "source": [
    "# Paths"
   ]
  },
  {
   "cell_type": "code",
   "execution_count": 5,
   "id": "ee9e6b70-9abd-4714-9ce5-49c270a1b0be",
   "metadata": {
    "execution": {
     "iopub.execute_input": "2024-01-08T08:56:29.162526Z",
     "iopub.status.busy": "2024-01-08T08:56:29.162221Z",
     "iopub.status.idle": "2024-01-08T08:56:29.166514Z",
     "shell.execute_reply": "2024-01-08T08:56:29.166248Z"
    },
    "papermill": {
     "duration": 0.010045,
     "end_time": "2024-01-08T08:56:29.167244",
     "exception": false,
     "start_time": "2024-01-08T08:56:29.157199",
     "status": "completed"
    },
    "tags": []
   },
   "outputs": [
    {
     "data": {
      "text/plain": [
       "PosixPath('/pl/active/pivlab/projects/ccc/base/results/k_max_test')"
      ]
     },
     "metadata": {},
     "output_type": "display_data"
    }
   ],
   "source": [
    "OUTPUT_DIR = conf.RESULTS_DIR / \"k_max_test\"\n",
    "OUTPUT_DIR.mkdir(parents=True, exist_ok=True)\n",
    "display(OUTPUT_DIR)"
   ]
  },
  {
   "cell_type": "markdown",
   "id": "7656ffa5-c9c3-41f5-aeb5-21bde8836e81",
   "metadata": {
    "papermill": {
     "duration": 0.004584,
     "end_time": "2024-01-08T08:56:29.176598",
     "exception": false,
     "start_time": "2024-01-08T08:56:29.172014",
     "status": "completed"
    },
    "tags": []
   },
   "source": [
    "# Run"
   ]
  },
  {
   "cell_type": "code",
   "execution_count": 6,
   "id": "3e4fac59-34a7-4b63-8aa0-e845c0a156af",
   "metadata": {
    "execution": {
     "iopub.execute_input": "2024-01-08T08:56:29.187462Z",
     "iopub.status.busy": "2024-01-08T08:56:29.187227Z",
     "iopub.status.idle": "2024-01-08T08:56:29.191172Z",
     "shell.execute_reply": "2024-01-08T08:56:29.190906Z"
    },
    "papermill": {
     "duration": 0.01073,
     "end_time": "2024-01-08T08:56:29.191916",
     "exception": false,
     "start_time": "2024-01-08T08:56:29.181186",
     "status": "completed"
    },
    "tags": []
   },
   "outputs": [
    {
     "data": {
      "text/plain": [
       "0.02047038824894002"
      ]
     },
     "execution_count": 6,
     "metadata": {},
     "output_type": "execute_result"
    }
   ],
   "source": [
    "# initialize (i.e., compile with numba)\n",
    "ccc(np.random.rand(100), np.random.rand(100))"
   ]
  },
  {
   "cell_type": "code",
   "execution_count": 7,
   "id": "e3f26ab4-ec59-4e8f-b887-14abc2cc7cae",
   "metadata": {
    "execution": {
     "iopub.execute_input": "2024-01-08T08:56:29.204869Z",
     "iopub.status.busy": "2024-01-08T08:56:29.204603Z",
     "iopub.status.idle": "2024-01-08T11:07:04.454746Z",
     "shell.execute_reply": "2024-01-08T11:07:04.454344Z"
    },
    "papermill": {
     "duration": 7835.283442,
     "end_time": "2024-01-08T11:07:04.480386",
     "exception": false,
     "start_time": "2024-01-08T08:56:29.196944",
     "status": "completed"
    },
    "tags": []
   },
   "outputs": [
    {
     "name": "stderr",
     "output_type": "stream",
     "text": [
      "\r",
      "  0%|          | 0/3 [00:00<?, ?it/s]"
     ]
    },
    {
     "name": "stderr",
     "output_type": "stream",
     "text": [
      "\n"
     ]
    },
    {
     "name": "stderr",
     "output_type": "stream",
     "text": [
      "\r",
      "  0%|          | 0/11 [00:00<?, ?it/s]"
     ]
    },
    {
     "name": "stderr",
     "output_type": "stream",
     "text": [
      "\u001b[A"
     ]
    },
    {
     "name": "stderr",
     "output_type": "stream",
     "text": [
      "\n"
     ]
    },
    {
     "name": "stderr",
     "output_type": "stream",
     "text": [
      "\r",
      "  9%|▉         | 1/11 [00:00<00:05,  1.78it/s]"
     ]
    },
    {
     "name": "stderr",
     "output_type": "stream",
     "text": [
      "\u001b[A"
     ]
    },
    {
     "name": "stderr",
     "output_type": "stream",
     "text": [
      "\n"
     ]
    },
    {
     "name": "stderr",
     "output_type": "stream",
     "text": [
      "\r",
      " 45%|████▌     | 5/11 [00:00<00:00,  9.26it/s]"
     ]
    },
    {
     "name": "stderr",
     "output_type": "stream",
     "text": [
      "\u001b[A"
     ]
    },
    {
     "name": "stderr",
     "output_type": "stream",
     "text": [
      "\n"
     ]
    },
    {
     "name": "stderr",
     "output_type": "stream",
     "text": [
      "\r",
      " 73%|███████▎  | 8/11 [00:01<00:00,  5.60it/s]"
     ]
    },
    {
     "name": "stderr",
     "output_type": "stream",
     "text": [
      "\u001b[A"
     ]
    },
    {
     "name": "stderr",
     "output_type": "stream",
     "text": [
      "\n"
     ]
    },
    {
     "name": "stderr",
     "output_type": "stream",
     "text": [
      "\r",
      " 91%|█████████ | 10/11 [00:02<00:00,  2.76it/s]"
     ]
    },
    {
     "name": "stderr",
     "output_type": "stream",
     "text": [
      "\u001b[A"
     ]
    },
    {
     "name": "stderr",
     "output_type": "stream",
     "text": [
      "\n"
     ]
    },
    {
     "name": "stderr",
     "output_type": "stream",
     "text": [
      "\r",
      "100%|██████████| 11/11 [00:04<00:00,  1.83it/s]"
     ]
    },
    {
     "name": "stderr",
     "output_type": "stream",
     "text": [
      "\u001b[A"
     ]
    },
    {
     "name": "stderr",
     "output_type": "stream",
     "text": [
      "\r",
      "100%|██████████| 11/11 [00:04<00:00,  2.53it/s]"
     ]
    },
    {
     "name": "stderr",
     "output_type": "stream",
     "text": [
      "\n",
      "\r",
      " 33%|███▎      | 1/3 [00:04<00:08,  4.36s/it]"
     ]
    },
    {
     "name": "stderr",
     "output_type": "stream",
     "text": [
      "\n"
     ]
    },
    {
     "name": "stderr",
     "output_type": "stream",
     "text": [
      "\r",
      "  0%|          | 0/11 [00:00<?, ?it/s]"
     ]
    },
    {
     "name": "stderr",
     "output_type": "stream",
     "text": [
      "\u001b[A"
     ]
    },
    {
     "name": "stderr",
     "output_type": "stream",
     "text": [
      "\n"
     ]
    },
    {
     "name": "stderr",
     "output_type": "stream",
     "text": [
      "\r",
      " 36%|███▋      | 4/11 [00:00<00:00,  7.74it/s]"
     ]
    },
    {
     "name": "stderr",
     "output_type": "stream",
     "text": [
      "\u001b[A"
     ]
    },
    {
     "name": "stderr",
     "output_type": "stream",
     "text": [
      "\n"
     ]
    },
    {
     "name": "stderr",
     "output_type": "stream",
     "text": [
      "\r",
      " 45%|████▌     | 5/11 [00:01<00:02,  2.11it/s]"
     ]
    },
    {
     "name": "stderr",
     "output_type": "stream",
     "text": [
      "\u001b[A"
     ]
    },
    {
     "name": "stderr",
     "output_type": "stream",
     "text": [
      "\n"
     ]
    },
    {
     "name": "stderr",
     "output_type": "stream",
     "text": [
      "\r",
      " 55%|█████▍    | 6/11 [00:05<00:06,  1.25s/it]"
     ]
    },
    {
     "name": "stderr",
     "output_type": "stream",
     "text": [
      "\u001b[A"
     ]
    },
    {
     "name": "stderr",
     "output_type": "stream",
     "text": [
      "\n"
     ]
    },
    {
     "name": "stderr",
     "output_type": "stream",
     "text": [
      "\r",
      " 64%|██████▎   | 7/11 [00:11<00:10,  2.65s/it]"
     ]
    },
    {
     "name": "stderr",
     "output_type": "stream",
     "text": [
      "\u001b[A"
     ]
    },
    {
     "name": "stderr",
     "output_type": "stream",
     "text": [
      "\n"
     ]
    },
    {
     "name": "stderr",
     "output_type": "stream",
     "text": [
      "\r",
      " 73%|███████▎  | 8/11 [00:23<00:16,  5.34s/it]"
     ]
    },
    {
     "name": "stderr",
     "output_type": "stream",
     "text": [
      "\u001b[A"
     ]
    },
    {
     "name": "stderr",
     "output_type": "stream",
     "text": [
      "\n"
     ]
    },
    {
     "name": "stderr",
     "output_type": "stream",
     "text": [
      "\r",
      " 82%|████████▏ | 9/11 [00:44<00:19,  9.82s/it]"
     ]
    },
    {
     "name": "stderr",
     "output_type": "stream",
     "text": [
      "\u001b[A"
     ]
    },
    {
     "name": "stderr",
     "output_type": "stream",
     "text": [
      "\n"
     ]
    },
    {
     "name": "stderr",
     "output_type": "stream",
     "text": [
      "\r",
      " 91%|█████████ | 10/11 [01:15<00:16, 16.14s/it]"
     ]
    },
    {
     "name": "stderr",
     "output_type": "stream",
     "text": [
      "\u001b[A"
     ]
    },
    {
     "name": "stderr",
     "output_type": "stream",
     "text": [
      "\n"
     ]
    },
    {
     "name": "stderr",
     "output_type": "stream",
     "text": [
      "\r",
      "100%|██████████| 11/11 [02:02<00:00, 25.17s/it]"
     ]
    },
    {
     "name": "stderr",
     "output_type": "stream",
     "text": [
      "\u001b[A"
     ]
    },
    {
     "name": "stderr",
     "output_type": "stream",
     "text": [
      "\r",
      "100%|██████████| 11/11 [02:02<00:00, 11.13s/it]"
     ]
    },
    {
     "name": "stderr",
     "output_type": "stream",
     "text": [
      "\n",
      "\r",
      " 67%|██████▋   | 2/3 [02:06<01:13, 73.82s/it]"
     ]
    },
    {
     "name": "stderr",
     "output_type": "stream",
     "text": [
      "\n"
     ]
    },
    {
     "name": "stderr",
     "output_type": "stream",
     "text": [
      "\r",
      "  0%|          | 0/11 [00:00<?, ?it/s]"
     ]
    },
    {
     "name": "stderr",
     "output_type": "stream",
     "text": [
      "\u001b[A"
     ]
    },
    {
     "name": "stderr",
     "output_type": "stream",
     "text": [
      "\n"
     ]
    },
    {
     "name": "stderr",
     "output_type": "stream",
     "text": [
      "\r",
      " 27%|██▋       | 3/11 [00:01<00:04,  1.73it/s]"
     ]
    },
    {
     "name": "stderr",
     "output_type": "stream",
     "text": [
      "\u001b[A"
     ]
    },
    {
     "name": "stderr",
     "output_type": "stream",
     "text": [
      "\n"
     ]
    },
    {
     "name": "stderr",
     "output_type": "stream",
     "text": [
      "\r",
      " 36%|███▋      | 4/11 [00:13<00:30,  4.29s/it]"
     ]
    },
    {
     "name": "stderr",
     "output_type": "stream",
     "text": [
      "\u001b[A"
     ]
    },
    {
     "name": "stderr",
     "output_type": "stream",
     "text": [
      "\n"
     ]
    },
    {
     "name": "stderr",
     "output_type": "stream",
     "text": [
      "\r",
      " 45%|████▌     | 5/11 [01:05<01:55, 19.18s/it]"
     ]
    },
    {
     "name": "stderr",
     "output_type": "stream",
     "text": [
      "\u001b[A"
     ]
    },
    {
     "name": "stderr",
     "output_type": "stream",
     "text": [
      "\n"
     ]
    },
    {
     "name": "stderr",
     "output_type": "stream",
     "text": [
      "\r",
      " 55%|█████▍    | 6/11 [03:20<04:35, 55.07s/it]"
     ]
    },
    {
     "name": "stderr",
     "output_type": "stream",
     "text": [
      "\u001b[A"
     ]
    },
    {
     "name": "stderr",
     "output_type": "stream",
     "text": [
      "\n"
     ]
    },
    {
     "name": "stderr",
     "output_type": "stream",
     "text": [
      "\r",
      " 64%|██████▎   | 7/11 [08:52<09:21, 140.49s/it]"
     ]
    },
    {
     "name": "stderr",
     "output_type": "stream",
     "text": [
      "\u001b[A"
     ]
    },
    {
     "name": "stderr",
     "output_type": "stream",
     "text": [
      "\n"
     ]
    },
    {
     "name": "stderr",
     "output_type": "stream",
     "text": [
      "\r",
      " 73%|███████▎  | 8/11 [20:13<15:16, 305.41s/it]"
     ]
    },
    {
     "name": "stderr",
     "output_type": "stream",
     "text": [
      "\u001b[A"
     ]
    },
    {
     "name": "stderr",
     "output_type": "stream",
     "text": [
      "\n"
     ]
    },
    {
     "name": "stderr",
     "output_type": "stream",
     "text": [
      "\r",
      " 82%|████████▏ | 9/11 [39:51<19:00, 570.02s/it]"
     ]
    },
    {
     "name": "stderr",
     "output_type": "stream",
     "text": [
      "\u001b[A"
     ]
    },
    {
     "name": "stderr",
     "output_type": "stream",
     "text": [
      "\n"
     ]
    },
    {
     "name": "stderr",
     "output_type": "stream",
     "text": [
      "\r",
      " 91%|█████████ | 10/11 [1:13:39<16:51, 1011.31s/it]"
     ]
    },
    {
     "name": "stderr",
     "output_type": "stream",
     "text": [
      "\u001b[A"
     ]
    },
    {
     "name": "stderr",
     "output_type": "stream",
     "text": [
      "\n"
     ]
    },
    {
     "name": "stderr",
     "output_type": "stream",
     "text": [
      "\r",
      "100%|██████████| 11/11 [2:08:28<00:00, 1698.43s/it]"
     ]
    },
    {
     "name": "stderr",
     "output_type": "stream",
     "text": [
      "\u001b[A"
     ]
    },
    {
     "name": "stderr",
     "output_type": "stream",
     "text": [
      "\r",
      "100%|██████████| 11/11 [2:08:28<00:00, 700.77s/it] "
     ]
    },
    {
     "name": "stderr",
     "output_type": "stream",
     "text": [
      "\n",
      "\r",
      "100%|██████████| 3/3 [2:10:35<00:00, 3559.95s/it]"
     ]
    },
    {
     "name": "stderr",
     "output_type": "stream",
     "text": [
      "\r",
      "100%|██████████| 3/3 [2:10:35<00:00, 2611.75s/it]"
     ]
    },
    {
     "name": "stderr",
     "output_type": "stream",
     "text": [
      "\n"
     ]
    }
   ],
   "source": [
    "results = pd.DataFrame(columns=[\"data_size\", \"k_max\", \"k_max_as_n_fraction\", \"coef\"])\n",
    "\n",
    "idx = 0\n",
    "for data_size in tqdm(DATA_SIZES):\n",
    "    # get the values for k_max to try...\n",
    "    k_max_splits = np.linspace(2, data_size, K_MAX_N_SPLITS)\n",
    "    # ... but always add the default k_max used by CCC\n",
    "    k_max_splits = [int(i) for i in np.sort(np.append(k_max_splits, DEFAULT_K_MAX))]\n",
    "\n",
    "    # generate random data\n",
    "    # TODO: if I generate normal data, what happens?\n",
    "    # d1 = np.random.rand(data_size)\n",
    "    # d2 = np.random.rand(data_size)\n",
    "    d1 = np.random.normal(size=data_size)\n",
    "    d2 = np.random.normal(size=data_size)\n",
    "\n",
    "    for k_max in tqdm(k_max_splits):\n",
    "        c = ccc(d1, d2, internal_n_clusters=k_max, n_jobs=conf.GENERAL[\"N_JOBS\"])\n",
    "\n",
    "        results.loc[idx] = [data_size, k_max, k_max / data_size, c]\n",
    "        idx += 1\n",
    "\n",
    "        # save\n",
    "        results.to_pickle(OUTPUT_DIR / \"k_max-results.pkl\")"
   ]
  },
  {
   "cell_type": "markdown",
   "id": "2597ad7d",
   "metadata": {
    "papermill": {
     "duration": 0.012213,
     "end_time": "2024-01-08T11:07:04.511998",
     "exception": false,
     "start_time": "2024-01-08T11:07:04.499785",
     "status": "completed"
    },
    "tags": []
   },
   "source": [
    "# Check"
   ]
  },
  {
   "cell_type": "code",
   "execution_count": 8,
   "id": "0772878d-2622-453a-9cad-01deb048bd37",
   "metadata": {
    "execution": {
     "iopub.execute_input": "2024-01-08T11:07:04.553730Z",
     "iopub.status.busy": "2024-01-08T11:07:04.553598Z",
     "iopub.status.idle": "2024-01-08T11:07:04.558230Z",
     "shell.execute_reply": "2024-01-08T11:07:04.557795Z"
    },
    "papermill": {
     "duration": 0.022258,
     "end_time": "2024-01-08T11:07:04.559010",
     "exception": false,
     "start_time": "2024-01-08T11:07:04.536752",
     "status": "completed"
    },
    "tags": []
   },
   "outputs": [
    {
     "data": {
      "text/plain": [
       "(33, 4)"
      ]
     },
     "execution_count": 8,
     "metadata": {},
     "output_type": "execute_result"
    }
   ],
   "source": [
    "results.shape"
   ]
  },
  {
   "cell_type": "code",
   "execution_count": 9,
   "id": "d5cae452-fab0-46be-a659-2a7425d7e44c",
   "metadata": {
    "execution": {
     "iopub.execute_input": "2024-01-08T11:07:04.592905Z",
     "iopub.status.busy": "2024-01-08T11:07:04.592687Z",
     "iopub.status.idle": "2024-01-08T11:07:04.595255Z",
     "shell.execute_reply": "2024-01-08T11:07:04.594982Z"
    },
    "papermill": {
     "duration": 0.013082,
     "end_time": "2024-01-08T11:07:04.595946",
     "exception": false,
     "start_time": "2024-01-08T11:07:04.582864",
     "status": "completed"
    },
    "tags": []
   },
   "outputs": [],
   "source": [
    "assert results.shape[0] == int(len(DATA_SIZES) * (K_MAX_N_SPLITS + 1))"
   ]
  },
  {
   "cell_type": "code",
   "execution_count": 10,
   "id": "a7d542e8-fa10-452a-8ab5-0677a90a32ef",
   "metadata": {
    "execution": {
     "iopub.execute_input": "2024-01-08T11:07:04.612531Z",
     "iopub.status.busy": "2024-01-08T11:07:04.612214Z",
     "iopub.status.idle": "2024-01-08T11:07:04.666430Z",
     "shell.execute_reply": "2024-01-08T11:07:04.666164Z"
    },
    "papermill": {
     "duration": 0.063268,
     "end_time": "2024-01-08T11:07:04.667138",
     "exception": false,
     "start_time": "2024-01-08T11:07:04.603870",
     "status": "completed"
    },
    "tags": []
   },
   "outputs": [
    {
     "data": {
      "text/html": [
       "<div>\n",
       "<style scoped>\n",
       "    .dataframe tbody tr th:only-of-type {\n",
       "        vertical-align: middle;\n",
       "    }\n",
       "\n",
       "    .dataframe tbody tr th {\n",
       "        vertical-align: top;\n",
       "    }\n",
       "\n",
       "    .dataframe thead th {\n",
       "        text-align: right;\n",
       "    }\n",
       "</style>\n",
       "<table border=\"1\" class=\"dataframe\">\n",
       "  <thead>\n",
       "    <tr style=\"text-align: right;\">\n",
       "      <th></th>\n",
       "      <th>data_size</th>\n",
       "      <th>k_max</th>\n",
       "      <th>k_max_as_n_fraction</th>\n",
       "      <th>coef</th>\n",
       "    </tr>\n",
       "  </thead>\n",
       "  <tbody>\n",
       "    <tr>\n",
       "      <th>0</th>\n",
       "      <td>200.0</td>\n",
       "      <td>2.0</td>\n",
       "      <td>0.01</td>\n",
       "      <td>0.043594</td>\n",
       "    </tr>\n",
       "    <tr>\n",
       "      <th>1</th>\n",
       "      <td>200.0</td>\n",
       "      <td>10.0</td>\n",
       "      <td>0.05</td>\n",
       "      <td>0.043594</td>\n",
       "    </tr>\n",
       "    <tr>\n",
       "      <th>2</th>\n",
       "      <td>200.0</td>\n",
       "      <td>24.0</td>\n",
       "      <td>0.12</td>\n",
       "      <td>0.043594</td>\n",
       "    </tr>\n",
       "    <tr>\n",
       "      <th>3</th>\n",
       "      <td>200.0</td>\n",
       "      <td>46.0</td>\n",
       "      <td>0.23</td>\n",
       "      <td>0.043594</td>\n",
       "    </tr>\n",
       "    <tr>\n",
       "      <th>4</th>\n",
       "      <td>200.0</td>\n",
       "      <td>68.0</td>\n",
       "      <td>0.34</td>\n",
       "      <td>0.043594</td>\n",
       "    </tr>\n",
       "  </tbody>\n",
       "</table>\n",
       "</div>"
      ],
      "text/plain": [
       "   data_size  k_max  k_max_as_n_fraction      coef\n",
       "0      200.0    2.0                 0.01  0.043594\n",
       "1      200.0   10.0                 0.05  0.043594\n",
       "2      200.0   24.0                 0.12  0.043594\n",
       "3      200.0   46.0                 0.23  0.043594\n",
       "4      200.0   68.0                 0.34  0.043594"
      ]
     },
     "execution_count": 10,
     "metadata": {},
     "output_type": "execute_result"
    }
   ],
   "source": [
    "results.head()"
   ]
  },
  {
   "cell_type": "code",
   "execution_count": null,
   "id": "2d47f3e8-99fd-4c4a-b6e4-eda88e932ab7",
   "metadata": {
    "papermill": {
     "duration": 0.014632,
     "end_time": "2024-01-08T11:07:04.690257",
     "exception": false,
     "start_time": "2024-01-08T11:07:04.675625",
     "status": "completed"
    },
    "tags": []
   },
   "outputs": [],
   "source": []
  }
 ],
 "metadata": {
  "jupytext": {
   "cell_metadata_filter": "all,-execution,-papermill,-trusted",
   "notebook_metadata_filter": "-jupytext.text_representation.jupytext_version"
  },
  "kernelspec": {
   "display_name": "Python 3 (ipykernel)",
   "language": "python",
   "name": "python3"
  },
  "language_info": {
   "codemirror_mode": {
    "name": "ipython",
    "version": 3
   },
   "file_extension": ".py",
   "mimetype": "text/x-python",
   "name": "python",
   "nbconvert_exporter": "python",
   "pygments_lexer": "ipython3",
   "version": "3.9.18"
  },
  "papermill": {
   "default_parameters": {},
   "duration": 7847.65128,
   "end_time": "2024-01-08T11:07:05.138628",
   "environment_variables": {},
   "exception": null,
   "input_path": "nbs/99_manuscript/k_max/01-k_max-runs.ipynb",
   "output_path": "nbs/99_manuscript/k_max/01-k_max-runs.run.ipynb",
   "parameters": {
    "GTEX_TISSUE": "skin_sun_exposed_lower_leg"
   },
   "start_time": "2024-01-08T08:56:17.487348",
   "version": "2.3.3"
  }
 },
 "nbformat": 4,
 "nbformat_minor": 5
}
