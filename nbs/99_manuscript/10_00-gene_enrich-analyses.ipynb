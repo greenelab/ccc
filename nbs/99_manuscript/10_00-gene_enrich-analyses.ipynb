{
 "cells": [
  {
   "cell_type": "markdown",
   "id": "4b79d660-2ab1-42c2-a4d5-467d2534e5dc",
   "metadata": {
    "papermill": {
     "duration": 0.05443,
     "end_time": "2021-09-21T01:08:26.664204",
     "exception": false,
     "start_time": "2021-09-21T01:08:26.609774",
     "status": "completed"
    },
    "tags": []
   },
   "source": [
    "# Description"
   ]
  },
  {
   "cell_type": "markdown",
   "id": "9f0b6db4-6f06-4856-a4b8-e24548d0f1d9",
   "metadata": {
    "papermill": {
     "duration": 0.018505,
     "end_time": "2021-09-21T01:08:26.702179",
     "exception": false,
     "start_time": "2021-09-21T01:08:26.683674",
     "status": "completed"
    },
    "tags": []
   },
   "source": [
    "TODO"
   ]
  },
  {
   "cell_type": "markdown",
   "id": "dfb4a759-748a-4a19-b773-992a23cb9327",
   "metadata": {
    "papermill": {
     "duration": 0.017986,
     "end_time": "2021-09-21T01:08:26.738014",
     "exception": false,
     "start_time": "2021-09-21T01:08:26.720028",
     "status": "completed"
    },
    "tags": []
   },
   "source": [
    "# Modules loading"
   ]
  },
  {
   "cell_type": "code",
   "execution_count": 1,
   "id": "98e28052-34cc-43fc-87f3-a1b61eeb14fc",
   "metadata": {
    "papermill": {
     "duration": 0.98246,
     "end_time": "2021-09-21T01:08:27.738520",
     "exception": false,
     "start_time": "2021-09-21T01:08:26.756060",
     "status": "completed"
    },
    "tags": []
   },
   "outputs": [],
   "source": [
    "import re\n",
    "\n",
    "import numpy as np\n",
    "import pandas as pd\n",
    "import matplotlib.pyplot as plt\n",
    "import seaborn as sns\n",
    "from tqdm import tqdm\n",
    "\n",
    "from clustermatch import conf"
   ]
  },
  {
   "cell_type": "markdown",
   "id": "76fa50d9-680c-4107-b705-009070735d89",
   "metadata": {
    "papermill": {
     "duration": 0.018302,
     "end_time": "2021-09-21T01:08:27.775660",
     "exception": false,
     "start_time": "2021-09-21T01:08:27.757358",
     "status": "completed"
    },
    "tags": []
   },
   "source": [
    "# Settings"
   ]
  },
  {
   "cell_type": "code",
   "execution_count": 2,
   "id": "7e12ded2-5649-4e35-a946-07c8724ea421",
   "metadata": {
    "papermill": {
     "duration": 0.023202,
     "end_time": "2021-09-21T01:08:27.816886",
     "exception": false,
     "start_time": "2021-09-21T01:08:27.793684",
     "status": "completed"
    },
    "tags": []
   },
   "outputs": [],
   "source": [
    "# ENRICH_FUNCTION = \"enrichGO\""
   ]
  },
  {
   "cell_type": "code",
   "execution_count": 3,
   "id": "f10c4d5f-e737-4066-866a-e4f2404e5922",
   "metadata": {
    "papermill": {
     "duration": 0.023202,
     "end_time": "2021-09-21T01:08:27.816886",
     "exception": false,
     "start_time": "2021-09-21T01:08:27.793684",
     "status": "completed"
    },
    "tags": []
   },
   "outputs": [],
   "source": [
    "# CORRELATION_METHOD_NAME = \"clustermatch\""
   ]
  },
  {
   "cell_type": "code",
   "execution_count": 4,
   "id": "ff5b04ea-1161-499a-9aff-a3f5f0efd7ce",
   "metadata": {
    "papermill": {
     "duration": 0.023527,
     "end_time": "2021-09-21T01:08:27.859971",
     "exception": false,
     "start_time": "2021-09-21T01:08:27.836444",
     "status": "completed"
    },
    "tags": []
   },
   "outputs": [],
   "source": [
    "# GENE_SELECTION_STRATEGY = \"var_pc_log2\""
   ]
  },
  {
   "cell_type": "code",
   "execution_count": 5,
   "id": "c0e27c63-0b49-47f1-8147-6c47b90ea3d9",
   "metadata": {},
   "outputs": [],
   "source": [
    "# # clusterProfiler settings\n",
    "# ENRICH_FUNCTION = \"enrichGO\"\n",
    "# SIMPLIFY_CUTOFF = 0.7\n",
    "# GO_ONTOLOGIES = (\"BP\", \"CC\", \"MF\")"
   ]
  },
  {
   "cell_type": "code",
   "execution_count": 6,
   "id": "d67b1af4-a310-45f5-a6e9-919df1fd2165",
   "metadata": {},
   "outputs": [],
   "source": [
    "# SIMILARITY_MATRICES_DIR = conf.GTEX[\"SIMILARITY_MATRICES_DIR\"]\n",
    "# display(SIMILARITY_MATRICES_DIR)"
   ]
  },
  {
   "cell_type": "code",
   "execution_count": 7,
   "id": "22b5ec88-d626-4db3-ada1-81cf48f23579",
   "metadata": {},
   "outputs": [],
   "source": [
    "# SIMILARITY_MATRIX_FILENAME_TEMPLATE = conf.GTEX[\"SIMILARITY_MATRIX_FILENAME_TEMPLATE\"]\n",
    "# display(SIMILARITY_MATRIX_FILENAME_TEMPLATE)"
   ]
  },
  {
   "cell_type": "markdown",
   "id": "eee530dc-b562-4b54-8bc3-a9c831ac052c",
   "metadata": {
    "papermill": {
     "duration": 0.018256,
     "end_time": "2021-09-21T01:08:28.146573",
     "exception": false,
     "start_time": "2021-09-21T01:08:28.128317",
     "status": "completed"
    },
    "tags": []
   },
   "source": [
    "# Paths"
   ]
  },
  {
   "cell_type": "code",
   "execution_count": 8,
   "id": "b89c7a90-c325-4557-9107-7ba95e8bf03a",
   "metadata": {
    "papermill": {
     "duration": 0.025306,
     "end_time": "2021-09-21T01:08:28.234279",
     "exception": false,
     "start_time": "2021-09-21T01:08:28.208973",
     "status": "completed"
    },
    "tags": []
   },
   "outputs": [
    {
     "data": {
      "text/plain": [
       "PosixPath('/home/miltondp/projects/labs/greenelab/clustermatch_repos/clustermatch-gene-expr/base/results/gtex_v8/gene_set_enrichment/gtex_v8_data-gene_set_enrichment.pkl')"
      ]
     },
     "metadata": {},
     "output_type": "display_data"
    }
   ],
   "source": [
    "INPUT_FILE = conf.GTEX[\"GENE_ENRICHMENT_COMBINED_FILE\"]\n",
    "display(INPUT_FILE)\n",
    "assert INPUT_FILE.exists()"
   ]
  },
  {
   "cell_type": "markdown",
   "id": "ec13a933-c48b-412b-9147-6aca9548be9f",
   "metadata": {
    "papermill": {
     "duration": 0.019217,
     "end_time": "2021-09-21T01:08:28.355017",
     "exception": false,
     "start_time": "2021-09-21T01:08:28.335800",
     "status": "completed"
    },
    "tags": []
   },
   "source": [
    "# Load data"
   ]
  },
  {
   "cell_type": "code",
   "execution_count": 9,
   "id": "dba36444-b52f-4934-8950-786cd0c51a61",
   "metadata": {},
   "outputs": [],
   "source": [
    "df = pd.read_pickle(INPUT_FILE)"
   ]
  },
  {
   "cell_type": "code",
   "execution_count": 10,
   "id": "840e3a37-4f34-4689-98d3-79f2ee1a9f5b",
   "metadata": {},
   "outputs": [
    {
     "data": {
      "text/plain": [
       "(2505045, 19)"
      ]
     },
     "execution_count": 10,
     "metadata": {},
     "output_type": "execute_result"
    }
   ],
   "source": [
    "df.shape"
   ]
  },
  {
   "cell_type": "code",
   "execution_count": 11,
   "id": "a0aec274-c723-4af5-b381-863aada8ce98",
   "metadata": {},
   "outputs": [
    {
     "data": {
      "text/html": [
       "<div>\n",
       "<style scoped>\n",
       "    .dataframe tbody tr th:only-of-type {\n",
       "        vertical-align: middle;\n",
       "    }\n",
       "\n",
       "    .dataframe tbody tr th {\n",
       "        vertical-align: top;\n",
       "    }\n",
       "\n",
       "    .dataframe thead th {\n",
       "        text-align: right;\n",
       "    }\n",
       "</style>\n",
       "<table border=\"1\" class=\"dataframe\">\n",
       "  <thead>\n",
       "    <tr style=\"text-align: right;\">\n",
       "      <th></th>\n",
       "      <th>n_clusters</th>\n",
       "      <th>cluster_id</th>\n",
       "      <th>go_term_id</th>\n",
       "      <th>go_term_desc</th>\n",
       "      <th>gene_count</th>\n",
       "      <th>gene_total</th>\n",
       "      <th>gene_ratio</th>\n",
       "      <th>bg_count</th>\n",
       "      <th>bg_total</th>\n",
       "      <th>bg_ratio</th>\n",
       "      <th>fdr</th>\n",
       "      <th>tissue</th>\n",
       "      <th>gene_sel_strategy</th>\n",
       "      <th>corr_method</th>\n",
       "      <th>clust_method</th>\n",
       "      <th>enrich_func</th>\n",
       "      <th>results_subset</th>\n",
       "      <th>rich_factor</th>\n",
       "      <th>fold_enrich</th>\n",
       "    </tr>\n",
       "  </thead>\n",
       "  <tbody>\n",
       "    <tr>\n",
       "      <th>0</th>\n",
       "      <td>2</td>\n",
       "      <td>C0</td>\n",
       "      <td>GO:0002443</td>\n",
       "      <td>leukocyte mediated immunity</td>\n",
       "      <td>182</td>\n",
       "      <td>523</td>\n",
       "      <td>0.347992</td>\n",
       "      <td>357</td>\n",
       "      <td>3528</td>\n",
       "      <td>0.101190</td>\n",
       "      <td>5.513573e-64</td>\n",
       "      <td>adipose_subcutaneous</td>\n",
       "      <td>var_pc_log2</td>\n",
       "      <td>clustermatch</td>\n",
       "      <td>SpectralClustering</td>\n",
       "      <td>enrichGO</td>\n",
       "      <td>BP_full</td>\n",
       "      <td>0.509804</td>\n",
       "      <td>3.438983</td>\n",
       "    </tr>\n",
       "    <tr>\n",
       "      <th>1</th>\n",
       "      <td>2</td>\n",
       "      <td>C0</td>\n",
       "      <td>GO:0002250</td>\n",
       "      <td>adaptive immune response</td>\n",
       "      <td>153</td>\n",
       "      <td>523</td>\n",
       "      <td>0.292543</td>\n",
       "      <td>260</td>\n",
       "      <td>3528</td>\n",
       "      <td>0.073696</td>\n",
       "      <td>5.619467e-64</td>\n",
       "      <td>adipose_subcutaneous</td>\n",
       "      <td>var_pc_log2</td>\n",
       "      <td>clustermatch</td>\n",
       "      <td>SpectralClustering</td>\n",
       "      <td>enrichGO</td>\n",
       "      <td>BP_full</td>\n",
       "      <td>0.588462</td>\n",
       "      <td>3.969584</td>\n",
       "    </tr>\n",
       "    <tr>\n",
       "      <th>2</th>\n",
       "      <td>2</td>\n",
       "      <td>C0</td>\n",
       "      <td>GO:0002252</td>\n",
       "      <td>immune effector process</td>\n",
       "      <td>210</td>\n",
       "      <td>523</td>\n",
       "      <td>0.401530</td>\n",
       "      <td>478</td>\n",
       "      <td>3528</td>\n",
       "      <td>0.135488</td>\n",
       "      <td>1.899014e-61</td>\n",
       "      <td>adipose_subcutaneous</td>\n",
       "      <td>var_pc_log2</td>\n",
       "      <td>clustermatch</td>\n",
       "      <td>SpectralClustering</td>\n",
       "      <td>enrichGO</td>\n",
       "      <td>BP_full</td>\n",
       "      <td>0.439331</td>\n",
       "      <td>2.963591</td>\n",
       "    </tr>\n",
       "    <tr>\n",
       "      <th>3</th>\n",
       "      <td>2</td>\n",
       "      <td>C0</td>\n",
       "      <td>GO:0050776</td>\n",
       "      <td>regulation of immune response</td>\n",
       "      <td>178</td>\n",
       "      <td>523</td>\n",
       "      <td>0.340344</td>\n",
       "      <td>372</td>\n",
       "      <td>3528</td>\n",
       "      <td>0.105442</td>\n",
       "      <td>2.790792e-57</td>\n",
       "      <td>adipose_subcutaneous</td>\n",
       "      <td>var_pc_log2</td>\n",
       "      <td>clustermatch</td>\n",
       "      <td>SpectralClustering</td>\n",
       "      <td>enrichGO</td>\n",
       "      <td>BP_full</td>\n",
       "      <td>0.478495</td>\n",
       "      <td>3.227780</td>\n",
       "    </tr>\n",
       "    <tr>\n",
       "      <th>4</th>\n",
       "      <td>2</td>\n",
       "      <td>C0</td>\n",
       "      <td>GO:0006909</td>\n",
       "      <td>phagocytosis</td>\n",
       "      <td>112</td>\n",
       "      <td>523</td>\n",
       "      <td>0.214149</td>\n",
       "      <td>171</td>\n",
       "      <td>3528</td>\n",
       "      <td>0.048469</td>\n",
       "      <td>3.019211e-52</td>\n",
       "      <td>adipose_subcutaneous</td>\n",
       "      <td>var_pc_log2</td>\n",
       "      <td>clustermatch</td>\n",
       "      <td>SpectralClustering</td>\n",
       "      <td>enrichGO</td>\n",
       "      <td>BP_full</td>\n",
       "      <td>0.654971</td>\n",
       "      <td>4.418235</td>\n",
       "    </tr>\n",
       "  </tbody>\n",
       "</table>\n",
       "</div>"
      ],
      "text/plain": [
       "   n_clusters cluster_id  go_term_id                   go_term_desc  \\\n",
       "0           2         C0  GO:0002443    leukocyte mediated immunity   \n",
       "1           2         C0  GO:0002250       adaptive immune response   \n",
       "2           2         C0  GO:0002252        immune effector process   \n",
       "3           2         C0  GO:0050776  regulation of immune response   \n",
       "4           2         C0  GO:0006909                   phagocytosis   \n",
       "\n",
       "   gene_count  gene_total  gene_ratio  bg_count  bg_total  bg_ratio  \\\n",
       "0         182         523    0.347992       357      3528  0.101190   \n",
       "1         153         523    0.292543       260      3528  0.073696   \n",
       "2         210         523    0.401530       478      3528  0.135488   \n",
       "3         178         523    0.340344       372      3528  0.105442   \n",
       "4         112         523    0.214149       171      3528  0.048469   \n",
       "\n",
       "            fdr                tissue gene_sel_strategy   corr_method  \\\n",
       "0  5.513573e-64  adipose_subcutaneous       var_pc_log2  clustermatch   \n",
       "1  5.619467e-64  adipose_subcutaneous       var_pc_log2  clustermatch   \n",
       "2  1.899014e-61  adipose_subcutaneous       var_pc_log2  clustermatch   \n",
       "3  2.790792e-57  adipose_subcutaneous       var_pc_log2  clustermatch   \n",
       "4  3.019211e-52  adipose_subcutaneous       var_pc_log2  clustermatch   \n",
       "\n",
       "         clust_method enrich_func results_subset  rich_factor  fold_enrich  \n",
       "0  SpectralClustering    enrichGO        BP_full     0.509804     3.438983  \n",
       "1  SpectralClustering    enrichGO        BP_full     0.588462     3.969584  \n",
       "2  SpectralClustering    enrichGO        BP_full     0.439331     2.963591  \n",
       "3  SpectralClustering    enrichGO        BP_full     0.478495     3.227780  \n",
       "4  SpectralClustering    enrichGO        BP_full     0.654971     4.418235  "
      ]
     },
     "execution_count": 11,
     "metadata": {},
     "output_type": "execute_result"
    }
   ],
   "source": [
    "df.head()"
   ]
  },
  {
   "cell_type": "markdown",
   "id": "7cf895a9-55dc-4cfb-bab0-3b535cb4e6fc",
   "metadata": {},
   "source": [
    "# QQ plot"
   ]
  },
  {
   "cell_type": "code",
   "execution_count": 117,
   "id": "4bd4e9cc-d794-4050-831d-147761a117e0",
   "metadata": {},
   "outputs": [],
   "source": [
    "CLUSTERMATCH_METHOD = \"clustermatch_k2\""
   ]
  },
  {
   "cell_type": "code",
   "execution_count": 118,
   "id": "c80855b9-acce-4a48-96f0-e0dc850de4a7",
   "metadata": {},
   "outputs": [],
   "source": [
    "PERFORMANCE_MEASURE = \"rich_factor\""
   ]
  },
  {
   "cell_type": "code",
   "execution_count": 119,
   "id": "8303582f-c5d3-4ec0-8268-69dcc5cca9d4",
   "metadata": {},
   "outputs": [
    {
     "data": {
      "text/plain": [
       "array([0.        , 0.00010001, 0.00020002, 0.00030003, 0.00040004,\n",
       "       0.00050005, 0.00060006, 0.00070007, 0.00080008, 0.00090009])"
      ]
     },
     "metadata": {},
     "output_type": "display_data"
    },
    {
     "data": {
      "text/plain": [
       "array([0.99909991, 0.99919992, 0.99929993, 0.99939994, 0.99949995,\n",
       "       0.99959996, 0.99969997, 0.99979998, 0.99989999, 1.        ])"
      ]
     },
     "metadata": {},
     "output_type": "display_data"
    }
   ],
   "source": [
    "QUANTILES = np.linspace(0, 1, 10000)\n",
    "display(QUANTILES[:10])\n",
    "display(QUANTILES[-10:])"
   ]
  },
  {
   "cell_type": "code",
   "execution_count": 120,
   "id": "bfb6baec-c621-4f69-821b-06951a64f79d",
   "metadata": {},
   "outputs": [
    {
     "data": {
      "text/plain": [
       "['BP_full', 'BP_simplified_070', 'CC_full', 'CC_simplified_070', 'MF_full', 'MF_simplified_070']\n",
       "Categories (6, object): ['BP_full', 'BP_simplified_070', 'CC_full', 'CC_simplified_070', 'MF_full', 'MF_simplified_070']"
      ]
     },
     "execution_count": 120,
     "metadata": {},
     "output_type": "execute_result"
    }
   ],
   "source": [
    "df[\"results_subset\"].unique()"
   ]
  },
  {
   "cell_type": "code",
   "execution_count": 121,
   "id": "f6d034a1-a174-400a-8f12-ee0de9752a50",
   "metadata": {},
   "outputs": [],
   "source": [
    "df_subset = df[\n",
    "    (np.ones(df.shape[0]).astype(bool))\n",
    "    & (df.tissue == \"adipose_subcutaneous\")\n",
    "    & (df.gene_sel_strategy == \"var_pc_log2\")\n",
    "    & (df.clust_method == \"SpectralClustering\")\n",
    "    & (df.enrich_func == \"enrichGO\")\n",
    "    & (df.results_subset.str.contains(\"_simplified_\"))\n",
    "]"
   ]
  },
  {
   "cell_type": "code",
   "execution_count": 122,
   "id": "d48f3a94-3f75-4fb4-aa4b-68ae9a976234",
   "metadata": {},
   "outputs": [
    {
     "data": {
      "text/plain": [
       "(173589, 19)"
      ]
     },
     "execution_count": 122,
     "metadata": {},
     "output_type": "execute_result"
    }
   ],
   "source": [
    "df_subset.shape"
   ]
  },
  {
   "cell_type": "code",
   "execution_count": 123,
   "id": "34e253be-b397-43ad-9cda-01a6d8313b6f",
   "metadata": {},
   "outputs": [
    {
     "data": {
      "text/html": [
       "<div>\n",
       "<style scoped>\n",
       "    .dataframe tbody tr th:only-of-type {\n",
       "        vertical-align: middle;\n",
       "    }\n",
       "\n",
       "    .dataframe tbody tr th {\n",
       "        vertical-align: top;\n",
       "    }\n",
       "\n",
       "    .dataframe thead th {\n",
       "        text-align: right;\n",
       "    }\n",
       "</style>\n",
       "<table border=\"1\" class=\"dataframe\">\n",
       "  <thead>\n",
       "    <tr style=\"text-align: right;\">\n",
       "      <th></th>\n",
       "      <th>n_clusters</th>\n",
       "      <th>cluster_id</th>\n",
       "      <th>go_term_id</th>\n",
       "      <th>go_term_desc</th>\n",
       "      <th>gene_count</th>\n",
       "      <th>gene_total</th>\n",
       "      <th>gene_ratio</th>\n",
       "      <th>bg_count</th>\n",
       "      <th>bg_total</th>\n",
       "      <th>bg_ratio</th>\n",
       "      <th>fdr</th>\n",
       "      <th>tissue</th>\n",
       "      <th>gene_sel_strategy</th>\n",
       "      <th>corr_method</th>\n",
       "      <th>clust_method</th>\n",
       "      <th>enrich_func</th>\n",
       "      <th>results_subset</th>\n",
       "      <th>rich_factor</th>\n",
       "      <th>fold_enrich</th>\n",
       "    </tr>\n",
       "  </thead>\n",
       "  <tbody>\n",
       "    <tr>\n",
       "      <th>50515</th>\n",
       "      <td>2</td>\n",
       "      <td>C0</td>\n",
       "      <td>GO:0002443</td>\n",
       "      <td>leukocyte mediated immunity</td>\n",
       "      <td>182</td>\n",
       "      <td>523</td>\n",
       "      <td>0.347992</td>\n",
       "      <td>357</td>\n",
       "      <td>3528</td>\n",
       "      <td>0.101190</td>\n",
       "      <td>5.513573e-64</td>\n",
       "      <td>adipose_subcutaneous</td>\n",
       "      <td>var_pc_log2</td>\n",
       "      <td>clustermatch</td>\n",
       "      <td>SpectralClustering</td>\n",
       "      <td>enrichGO</td>\n",
       "      <td>BP_simplified_070</td>\n",
       "      <td>0.509804</td>\n",
       "      <td>3.438983</td>\n",
       "    </tr>\n",
       "    <tr>\n",
       "      <th>50516</th>\n",
       "      <td>2</td>\n",
       "      <td>C0</td>\n",
       "      <td>GO:0002250</td>\n",
       "      <td>adaptive immune response</td>\n",
       "      <td>153</td>\n",
       "      <td>523</td>\n",
       "      <td>0.292543</td>\n",
       "      <td>260</td>\n",
       "      <td>3528</td>\n",
       "      <td>0.073696</td>\n",
       "      <td>5.619467e-64</td>\n",
       "      <td>adipose_subcutaneous</td>\n",
       "      <td>var_pc_log2</td>\n",
       "      <td>clustermatch</td>\n",
       "      <td>SpectralClustering</td>\n",
       "      <td>enrichGO</td>\n",
       "      <td>BP_simplified_070</td>\n",
       "      <td>0.588462</td>\n",
       "      <td>3.969584</td>\n",
       "    </tr>\n",
       "    <tr>\n",
       "      <th>50517</th>\n",
       "      <td>2</td>\n",
       "      <td>C0</td>\n",
       "      <td>GO:0050776</td>\n",
       "      <td>regulation of immune response</td>\n",
       "      <td>178</td>\n",
       "      <td>523</td>\n",
       "      <td>0.340344</td>\n",
       "      <td>372</td>\n",
       "      <td>3528</td>\n",
       "      <td>0.105442</td>\n",
       "      <td>2.790792e-57</td>\n",
       "      <td>adipose_subcutaneous</td>\n",
       "      <td>var_pc_log2</td>\n",
       "      <td>clustermatch</td>\n",
       "      <td>SpectralClustering</td>\n",
       "      <td>enrichGO</td>\n",
       "      <td>BP_simplified_070</td>\n",
       "      <td>0.478495</td>\n",
       "      <td>3.227780</td>\n",
       "    </tr>\n",
       "    <tr>\n",
       "      <th>50518</th>\n",
       "      <td>2</td>\n",
       "      <td>C0</td>\n",
       "      <td>GO:0006909</td>\n",
       "      <td>phagocytosis</td>\n",
       "      <td>112</td>\n",
       "      <td>523</td>\n",
       "      <td>0.214149</td>\n",
       "      <td>171</td>\n",
       "      <td>3528</td>\n",
       "      <td>0.048469</td>\n",
       "      <td>3.019211e-52</td>\n",
       "      <td>adipose_subcutaneous</td>\n",
       "      <td>var_pc_log2</td>\n",
       "      <td>clustermatch</td>\n",
       "      <td>SpectralClustering</td>\n",
       "      <td>enrichGO</td>\n",
       "      <td>BP_simplified_070</td>\n",
       "      <td>0.654971</td>\n",
       "      <td>4.418235</td>\n",
       "    </tr>\n",
       "    <tr>\n",
       "      <th>50519</th>\n",
       "      <td>2</td>\n",
       "      <td>C0</td>\n",
       "      <td>GO:0002429</td>\n",
       "      <td>immune response-activating cell surface recept...</td>\n",
       "      <td>116</td>\n",
       "      <td>523</td>\n",
       "      <td>0.221797</td>\n",
       "      <td>187</td>\n",
       "      <td>3528</td>\n",
       "      <td>0.053005</td>\n",
       "      <td>1.120564e-50</td>\n",
       "      <td>adipose_subcutaneous</td>\n",
       "      <td>var_pc_log2</td>\n",
       "      <td>clustermatch</td>\n",
       "      <td>SpectralClustering</td>\n",
       "      <td>enrichGO</td>\n",
       "      <td>BP_simplified_070</td>\n",
       "      <td>0.620321</td>\n",
       "      <td>4.184497</td>\n",
       "    </tr>\n",
       "  </tbody>\n",
       "</table>\n",
       "</div>"
      ],
      "text/plain": [
       "       n_clusters cluster_id  go_term_id  \\\n",
       "50515           2         C0  GO:0002443   \n",
       "50516           2         C0  GO:0002250   \n",
       "50517           2         C0  GO:0050776   \n",
       "50518           2         C0  GO:0006909   \n",
       "50519           2         C0  GO:0002429   \n",
       "\n",
       "                                            go_term_desc  gene_count  \\\n",
       "50515                        leukocyte mediated immunity         182   \n",
       "50516                           adaptive immune response         153   \n",
       "50517                      regulation of immune response         178   \n",
       "50518                                       phagocytosis         112   \n",
       "50519  immune response-activating cell surface recept...         116   \n",
       "\n",
       "       gene_total  gene_ratio  bg_count  bg_total  bg_ratio           fdr  \\\n",
       "50515         523    0.347992       357      3528  0.101190  5.513573e-64   \n",
       "50516         523    0.292543       260      3528  0.073696  5.619467e-64   \n",
       "50517         523    0.340344       372      3528  0.105442  2.790792e-57   \n",
       "50518         523    0.214149       171      3528  0.048469  3.019211e-52   \n",
       "50519         523    0.221797       187      3528  0.053005  1.120564e-50   \n",
       "\n",
       "                     tissue gene_sel_strategy   corr_method  \\\n",
       "50515  adipose_subcutaneous       var_pc_log2  clustermatch   \n",
       "50516  adipose_subcutaneous       var_pc_log2  clustermatch   \n",
       "50517  adipose_subcutaneous       var_pc_log2  clustermatch   \n",
       "50518  adipose_subcutaneous       var_pc_log2  clustermatch   \n",
       "50519  adipose_subcutaneous       var_pc_log2  clustermatch   \n",
       "\n",
       "             clust_method enrich_func     results_subset  rich_factor  \\\n",
       "50515  SpectralClustering    enrichGO  BP_simplified_070     0.509804   \n",
       "50516  SpectralClustering    enrichGO  BP_simplified_070     0.588462   \n",
       "50517  SpectralClustering    enrichGO  BP_simplified_070     0.478495   \n",
       "50518  SpectralClustering    enrichGO  BP_simplified_070     0.654971   \n",
       "50519  SpectralClustering    enrichGO  BP_simplified_070     0.620321   \n",
       "\n",
       "       fold_enrich  \n",
       "50515     3.438983  \n",
       "50516     3.969584  \n",
       "50517     3.227780  \n",
       "50518     4.418235  \n",
       "50519     4.184497  "
      ]
     },
     "execution_count": 123,
     "metadata": {},
     "output_type": "execute_result"
    }
   ],
   "source": [
    "df_subset.head()"
   ]
  },
  {
   "cell_type": "code",
   "execution_count": 124,
   "id": "ff97eb80-229c-45ad-8525-c8ee880c5469",
   "metadata": {},
   "outputs": [
    {
     "data": {
      "text/plain": [
       "['clustermatch', 'clustermatch_k2', 'pearson_abs', 'pearson_full', 'spearman_abs', 'spearman_full']\n",
       "Categories (6, object): ['clustermatch', 'clustermatch_k2', 'pearson_abs', 'pearson_full', 'spearman_abs', 'spearman_full']"
      ]
     },
     "metadata": {},
     "output_type": "display_data"
    }
   ],
   "source": [
    "df_methods = df_subset[\"corr_method\"].unique()\n",
    "display(df_methods)"
   ]
  },
  {
   "cell_type": "code",
   "execution_count": 125,
   "id": "7a1e709f-9af6-45fb-9c58-89dd7c4f0611",
   "metadata": {},
   "outputs": [
    {
     "data": {
      "text/plain": [
       "'clustermatch - 27685'"
      ]
     },
     "metadata": {},
     "output_type": "display_data"
    },
    {
     "data": {
      "text/plain": [
       "'clustermatch_k2 - 22771'"
      ]
     },
     "metadata": {},
     "output_type": "display_data"
    },
    {
     "data": {
      "text/plain": [
       "'pearson_abs - 31490'"
      ]
     },
     "metadata": {},
     "output_type": "display_data"
    },
    {
     "data": {
      "text/plain": [
       "'pearson_full - 31475'"
      ]
     },
     "metadata": {},
     "output_type": "display_data"
    },
    {
     "data": {
      "text/plain": [
       "'spearman_abs - 28067'"
      ]
     },
     "metadata": {},
     "output_type": "display_data"
    },
    {
     "data": {
      "text/plain": [
       "'spearman_full - 32101'"
      ]
     },
     "metadata": {},
     "output_type": "display_data"
    }
   ],
   "source": [
    "results_per_method = {}\n",
    "\n",
    "for m in df_methods:\n",
    "    df_values = df_subset[df_subset.corr_method == m][PERFORMANCE_MEASURE]\n",
    "    display(f\"{m} - {df_values.shape[0]}\")\n",
    "\n",
    "    if PERFORMANCE_MEASURE == \"fdr\":\n",
    "        df_values = -np.log10(df_values)\n",
    "\n",
    "    results_per_method[m] = df_values.quantile(QUANTILES).to_numpy()"
   ]
  },
  {
   "cell_type": "code",
   "execution_count": 126,
   "id": "884fd9ec-a020-4732-b540-da18ae16440c",
   "metadata": {},
   "outputs": [],
   "source": [
    "quantiles_df = pd.DataFrame(results_per_method)"
   ]
  },
  {
   "cell_type": "code",
   "execution_count": 127,
   "id": "6f252f89-f965-4aec-a307-d7dbf2e62f9a",
   "metadata": {},
   "outputs": [
    {
     "data": {
      "text/plain": [
       "(10000, 6)"
      ]
     },
     "execution_count": 127,
     "metadata": {},
     "output_type": "execute_result"
    }
   ],
   "source": [
    "quantiles_df.shape"
   ]
  },
  {
   "cell_type": "code",
   "execution_count": 128,
   "id": "56e35241-b6ae-4b6a-9a26-c7925d7c9009",
   "metadata": {},
   "outputs": [
    {
     "data": {
      "text/html": [
       "<div>\n",
       "<style scoped>\n",
       "    .dataframe tbody tr th:only-of-type {\n",
       "        vertical-align: middle;\n",
       "    }\n",
       "\n",
       "    .dataframe tbody tr th {\n",
       "        vertical-align: top;\n",
       "    }\n",
       "\n",
       "    .dataframe thead th {\n",
       "        text-align: right;\n",
       "    }\n",
       "</style>\n",
       "<table border=\"1\" class=\"dataframe\">\n",
       "  <thead>\n",
       "    <tr style=\"text-align: right;\">\n",
       "      <th></th>\n",
       "      <th>clustermatch</th>\n",
       "      <th>clustermatch_k2</th>\n",
       "      <th>pearson_abs</th>\n",
       "      <th>pearson_full</th>\n",
       "      <th>spearman_abs</th>\n",
       "      <th>spearman_full</th>\n",
       "    </tr>\n",
       "  </thead>\n",
       "  <tbody>\n",
       "    <tr>\n",
       "      <th>0</th>\n",
       "      <td>0.004000</td>\n",
       "      <td>0.004000</td>\n",
       "      <td>0.004000</td>\n",
       "      <td>0.004082</td>\n",
       "      <td>0.004000</td>\n",
       "      <td>0.004000</td>\n",
       "    </tr>\n",
       "    <tr>\n",
       "      <th>1</th>\n",
       "      <td>0.004424</td>\n",
       "      <td>0.004000</td>\n",
       "      <td>0.004000</td>\n",
       "      <td>0.004210</td>\n",
       "      <td>0.004143</td>\n",
       "      <td>0.004357</td>\n",
       "    </tr>\n",
       "    <tr>\n",
       "      <th>2</th>\n",
       "      <td>0.004619</td>\n",
       "      <td>0.004000</td>\n",
       "      <td>0.004184</td>\n",
       "      <td>0.004548</td>\n",
       "      <td>0.004411</td>\n",
       "      <td>0.004749</td>\n",
       "    </tr>\n",
       "    <tr>\n",
       "      <th>3</th>\n",
       "      <td>0.004619</td>\n",
       "      <td>0.004068</td>\n",
       "      <td>0.004444</td>\n",
       "      <td>0.004796</td>\n",
       "      <td>0.004577</td>\n",
       "      <td>0.004796</td>\n",
       "    </tr>\n",
       "    <tr>\n",
       "      <th>4</th>\n",
       "      <td>0.004744</td>\n",
       "      <td>0.004158</td>\n",
       "      <td>0.004796</td>\n",
       "      <td>0.004796</td>\n",
       "      <td>0.004619</td>\n",
       "      <td>0.004819</td>\n",
       "    </tr>\n",
       "  </tbody>\n",
       "</table>\n",
       "</div>"
      ],
      "text/plain": [
       "   clustermatch  clustermatch_k2  pearson_abs  pearson_full  spearman_abs  \\\n",
       "0      0.004000         0.004000     0.004000      0.004082      0.004000   \n",
       "1      0.004424         0.004000     0.004000      0.004210      0.004143   \n",
       "2      0.004619         0.004000     0.004184      0.004548      0.004411   \n",
       "3      0.004619         0.004068     0.004444      0.004796      0.004577   \n",
       "4      0.004744         0.004158     0.004796      0.004796      0.004619   \n",
       "\n",
       "   spearman_full  \n",
       "0       0.004000  \n",
       "1       0.004357  \n",
       "2       0.004749  \n",
       "3       0.004796  \n",
       "4       0.004819  "
      ]
     },
     "execution_count": 128,
     "metadata": {},
     "output_type": "execute_result"
    }
   ],
   "source": [
    "quantiles_df.head()"
   ]
  },
  {
   "cell_type": "code",
   "execution_count": 129,
   "id": "44e23343-168e-4aaa-ab1b-34917ad6f54c",
   "metadata": {},
   "outputs": [
    {
     "data": {
      "text/html": [
       "<div>\n",
       "<style scoped>\n",
       "    .dataframe tbody tr th:only-of-type {\n",
       "        vertical-align: middle;\n",
       "    }\n",
       "\n",
       "    .dataframe tbody tr th {\n",
       "        vertical-align: top;\n",
       "    }\n",
       "\n",
       "    .dataframe thead th {\n",
       "        text-align: right;\n",
       "    }\n",
       "</style>\n",
       "<table border=\"1\" class=\"dataframe\">\n",
       "  <thead>\n",
       "    <tr style=\"text-align: right;\">\n",
       "      <th></th>\n",
       "      <th>clustermatch</th>\n",
       "      <th>clustermatch_k2</th>\n",
       "      <th>pearson_abs</th>\n",
       "      <th>pearson_full</th>\n",
       "      <th>spearman_abs</th>\n",
       "      <th>spearman_full</th>\n",
       "    </tr>\n",
       "  </thead>\n",
       "  <tbody>\n",
       "    <tr>\n",
       "      <th>count</th>\n",
       "      <td>10000.000000</td>\n",
       "      <td>10000.000000</td>\n",
       "      <td>10000.000000</td>\n",
       "      <td>10000.000000</td>\n",
       "      <td>10000.000000</td>\n",
       "      <td>10000.000000</td>\n",
       "    </tr>\n",
       "    <tr>\n",
       "      <th>mean</th>\n",
       "      <td>0.159777</td>\n",
       "      <td>0.160448</td>\n",
       "      <td>0.147521</td>\n",
       "      <td>0.145292</td>\n",
       "      <td>0.161116</td>\n",
       "      <td>0.152760</td>\n",
       "    </tr>\n",
       "    <tr>\n",
       "      <th>std</th>\n",
       "      <td>0.152466</td>\n",
       "      <td>0.181672</td>\n",
       "      <td>0.145738</td>\n",
       "      <td>0.133873</td>\n",
       "      <td>0.151847</td>\n",
       "      <td>0.140717</td>\n",
       "    </tr>\n",
       "    <tr>\n",
       "      <th>min</th>\n",
       "      <td>0.004000</td>\n",
       "      <td>0.004000</td>\n",
       "      <td>0.004000</td>\n",
       "      <td>0.004082</td>\n",
       "      <td>0.004000</td>\n",
       "      <td>0.004000</td>\n",
       "    </tr>\n",
       "    <tr>\n",
       "      <th>25%</th>\n",
       "      <td>0.056572</td>\n",
       "      <td>0.041667</td>\n",
       "      <td>0.048117</td>\n",
       "      <td>0.054274</td>\n",
       "      <td>0.059701</td>\n",
       "      <td>0.058519</td>\n",
       "    </tr>\n",
       "    <tr>\n",
       "      <th>50%</th>\n",
       "      <td>0.111111</td>\n",
       "      <td>0.093023</td>\n",
       "      <td>0.100000</td>\n",
       "      <td>0.102190</td>\n",
       "      <td>0.111111</td>\n",
       "      <td>0.107602</td>\n",
       "    </tr>\n",
       "    <tr>\n",
       "      <th>75%</th>\n",
       "      <td>0.212121</td>\n",
       "      <td>0.205882</td>\n",
       "      <td>0.200000</td>\n",
       "      <td>0.190476</td>\n",
       "      <td>0.214286</td>\n",
       "      <td>0.200000</td>\n",
       "    </tr>\n",
       "    <tr>\n",
       "      <th>max</th>\n",
       "      <td>1.000000</td>\n",
       "      <td>1.000000</td>\n",
       "      <td>1.000000</td>\n",
       "      <td>1.000000</td>\n",
       "      <td>1.000000</td>\n",
       "      <td>1.000000</td>\n",
       "    </tr>\n",
       "  </tbody>\n",
       "</table>\n",
       "</div>"
      ],
      "text/plain": [
       "       clustermatch  clustermatch_k2   pearson_abs  pearson_full  \\\n",
       "count  10000.000000     10000.000000  10000.000000  10000.000000   \n",
       "mean       0.159777         0.160448      0.147521      0.145292   \n",
       "std        0.152466         0.181672      0.145738      0.133873   \n",
       "min        0.004000         0.004000      0.004000      0.004082   \n",
       "25%        0.056572         0.041667      0.048117      0.054274   \n",
       "50%        0.111111         0.093023      0.100000      0.102190   \n",
       "75%        0.212121         0.205882      0.200000      0.190476   \n",
       "max        1.000000         1.000000      1.000000      1.000000   \n",
       "\n",
       "       spearman_abs  spearman_full  \n",
       "count  10000.000000   10000.000000  \n",
       "mean       0.161116       0.152760  \n",
       "std        0.151847       0.140717  \n",
       "min        0.004000       0.004000  \n",
       "25%        0.059701       0.058519  \n",
       "50%        0.111111       0.107602  \n",
       "75%        0.214286       0.200000  \n",
       "max        1.000000       1.000000  "
      ]
     },
     "execution_count": 129,
     "metadata": {},
     "output_type": "execute_result"
    }
   ],
   "source": [
    "quantiles_df.describe()"
   ]
  },
  {
   "cell_type": "code",
   "execution_count": 130,
   "id": "673c0ebb-ace2-40c3-b1d4-71ab39df3010",
   "metadata": {},
   "outputs": [
    {
     "data": {
      "text/plain": [
       "Text(0.5, 1.0, 'Gene Ontology (rich_factor)')"
      ]
     },
     "execution_count": 130,
     "metadata": {},
     "output_type": "execute_result"
    },
    {
     "data": {
      "image/png": "[encoded data removed]",
      "text/plain": [
       "<Figure size 720x576 with 1 Axes>"
      ]
     },
     "metadata": {
      "needs_background": "light"
     },
     "output_type": "display_data"
    }
   ],
   "source": [
    "fig, ax = plt.subplots(figsize=(10, 8))\n",
    "\n",
    "sns.scatterplot(\n",
    "    data=quantiles_df,\n",
    "    x=\"pearson_full\",\n",
    "    y=CLUSTERMATCH_METHOD,\n",
    "    label=\"vs Pearson (full)\",\n",
    "    ax=ax,\n",
    ")\n",
    "\n",
    "sns.scatterplot(\n",
    "    data=quantiles_df,\n",
    "    x=\"spearman_full\",\n",
    "    y=CLUSTERMATCH_METHOD,\n",
    "    label=\"vs Spearman (full)\",\n",
    "    ax=ax,\n",
    ")\n",
    "\n",
    "ax.set_xlabel(None)\n",
    "# ax.set_ylabel(None)\n",
    "\n",
    "min_val = min((quantiles_df.iloc[:, 0].min(), quantiles_df.iloc[:, 1].min()))\n",
    "max_val = max((quantiles_df.iloc[:, 0].max(), quantiles_df.iloc[:, 1].max()))\n",
    "ax.plot([min_val, max_val], [min_val, max_val], \"k\", linewidth=0.5)\n",
    "\n",
    "ax.set_title(f\"Gene Ontology ({PERFORMANCE_MEASURE})\")"
   ]
  },
  {
   "cell_type": "code",
   "execution_count": 131,
   "id": "210dd3ea-17aa-4c77-8851-ea414210f486",
   "metadata": {},
   "outputs": [
    {
     "data": {
      "text/plain": [
       "Text(0.5, 1.0, 'Gene Ontology (rich_factor)')"
      ]
     },
     "execution_count": 131,
     "metadata": {},
     "output_type": "execute_result"
    },
    {
     "data": {
      "image/png": "[encoded data removed]",
      "text/plain": [
       "<Figure size 720x576 with 1 Axes>"
      ]
     },
     "metadata": {
      "needs_background": "light"
     },
     "output_type": "display_data"
    }
   ],
   "source": [
    "fig, ax = plt.subplots(figsize=(10, 8))\n",
    "\n",
    "sns.scatterplot(\n",
    "    data=quantiles_df,\n",
    "    x=\"pearson_abs\",\n",
    "    y=CLUSTERMATCH_METHOD,\n",
    "    label=\"vs Pearson (abs)\",\n",
    "    ax=ax,\n",
    ")\n",
    "\n",
    "sns.scatterplot(\n",
    "    data=quantiles_df,\n",
    "    x=\"spearman_abs\",\n",
    "    y=CLUSTERMATCH_METHOD,\n",
    "    label=\"vs Spearman (abs)\",\n",
    "    ax=ax,\n",
    ")\n",
    "\n",
    "ax.set_xlabel(None)\n",
    "# ax.set_ylabel(None)\n",
    "\n",
    "min_val = min((quantiles_df.iloc[:, 0].min(), quantiles_df.iloc[:, 1].min()))\n",
    "max_val = max((quantiles_df.iloc[:, 0].max(), quantiles_df.iloc[:, 1].max()))\n",
    "ax.plot([min_val, max_val], [min_val, max_val], \"k\", linewidth=0.5)\n",
    "\n",
    "ax.set_title(f\"Gene Ontology ({PERFORMANCE_MEASURE})\")"
   ]
  },
  {
   "cell_type": "markdown",
   "id": "9fed21a5-fbe7-41b8-bb2e-00d5cb340b11",
   "metadata": {},
   "source": [
    "Clustermatch (multi pattern) outperforms pearson (linear and abs), although pearson find most significant associations towards the\n",
    "right end of the distribution.\n",
    "\n",
    "However, Clustermatch does not outperform spearman (monotonic and abs), which provides more significant results across the entire distribution."
   ]
  },
  {
   "cell_type": "code",
   "execution_count": null,
   "id": "72a954fe-b9c9-4f68-bca3-7a58e558cc3b",
   "metadata": {},
   "outputs": [],
   "source": []
  }
 ],
 "metadata": {
  "jupytext": {
   "cell_metadata_filter": "all,-execution,-papermill,-trusted",
   "text_representation": {
    "extension": ".py",
    "format_name": "percent",
    "format_version": "1.3",
    "jupytext_version": "1.11.5"
   }
  },
  "kernelspec": {
   "display_name": "Python 3 (ipykernel)",
   "language": "python",
   "name": "python3"
  },
  "language_info": {
   "codemirror_mode": {
    "name": "ipython",
    "version": 3
   },
   "file_extension": ".py",
   "mimetype": "text/x-python",
   "name": "python",
   "nbconvert_exporter": "python",
   "pygments_lexer": "ipython3",
   "version": "3.9.7"
  }
 },
 "nbformat": 4,
 "nbformat_minor": 5
}
