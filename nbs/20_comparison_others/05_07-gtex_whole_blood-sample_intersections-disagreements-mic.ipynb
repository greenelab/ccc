{
 "cells": [
  {
   "cell_type": "markdown",
   "id": "87e0ce1b-7ce6-4499-9342-5ded05307598",
   "metadata": {
    "papermill": {
     "duration": 0.062276,
     "end_time": "2022-01-28T16:00:42.665725",
     "exception": false,
     "start_time": "2022-01-28T16:00:42.603449",
     "status": "completed"
    },
    "tags": []
   },
   "source": [
    "# Description"
   ]
  },
  {
   "cell_type": "markdown",
   "id": "4bfc7115-350a-441b-9a19-7626a948a694",
   "metadata": {
    "papermill": {
     "duration": 0.025577,
     "end_time": "2022-01-28T16:00:42.716738",
     "exception": false,
     "start_time": "2022-01-28T16:00:42.691161",
     "status": "completed"
    },
    "tags": []
   },
   "source": [
    "TODO"
   ]
  },
  {
   "cell_type": "markdown",
   "id": "e020c781-238b-43c2-8cad-2722b8a240e2",
   "metadata": {
    "papermill": {
     "duration": 0.025799,
     "end_time": "2022-01-28T16:00:42.768182",
     "exception": false,
     "start_time": "2022-01-28T16:00:42.742383",
     "status": "completed"
    },
    "tags": []
   },
   "source": [
    "# Modules"
   ]
  },
  {
   "cell_type": "code",
   "execution_count": 1,
   "id": "a819bfbc-5009-4c68-ba8d-37d0979d368f",
   "metadata": {
    "execution": {
     "iopub.execute_input": "2022-01-28T16:00:42.830366Z",
     "iopub.status.busy": "2022-01-28T16:00:42.829753Z",
     "iopub.status.idle": "2022-01-28T16:00:43.066205Z",
     "shell.execute_reply": "2022-01-28T16:00:43.065652Z"
    },
    "papermill": {
     "duration": 0.272542,
     "end_time": "2022-01-28T16:00:43.066319",
     "exception": false,
     "start_time": "2022-01-28T16:00:42.793777",
     "status": "completed"
    },
    "tags": []
   },
   "outputs": [],
   "source": [
    "from pathlib import Path\n",
    "\n",
    "import pandas as pd\n",
    "import numpy as np\n",
    "\n",
    "from clustermatch import conf"
   ]
  },
  {
   "cell_type": "markdown",
   "id": "b4834387-58ff-468c-b326-85c408bc5feb",
   "metadata": {
    "papermill": {
     "duration": 0.025751,
     "end_time": "2022-01-28T16:00:43.119357",
     "exception": false,
     "start_time": "2022-01-28T16:00:43.093606",
     "status": "completed"
    },
    "tags": []
   },
   "source": [
    "# Settings"
   ]
  },
  {
   "cell_type": "code",
   "execution_count": 2,
   "id": "765e820a-4518-4bbc-a00f-14c9cea03821",
   "metadata": {
    "execution": {
     "iopub.execute_input": "2022-01-28T16:00:43.174828Z",
     "iopub.status.busy": "2022-01-28T16:00:43.174366Z",
     "iopub.status.idle": "2022-01-28T16:00:43.176012Z",
     "shell.execute_reply": "2022-01-28T16:00:43.176373Z"
    },
    "papermill": {
     "duration": 0.031408,
     "end_time": "2022-01-28T16:00:43.176488",
     "exception": false,
     "start_time": "2022-01-28T16:00:43.145080",
     "status": "completed"
    },
    "tags": []
   },
   "outputs": [],
   "source": [
    "DATASET_CONFIG = conf.GTEX\n",
    "GTEX_TISSUE = \"whole_blood\"\n",
    "GENE_SEL_STRATEGY = \"var_pc_log2\"\n",
    "\n",
    "METHOD_NAME = \"mic\""
   ]
  },
  {
   "cell_type": "code",
   "execution_count": 3,
   "id": "ca79812d-c519-408c-bea8-9fc177e71d72",
   "metadata": {
    "execution": {
     "iopub.execute_input": "2022-01-28T16:00:43.231529Z",
     "iopub.status.busy": "2022-01-28T16:00:43.231065Z",
     "iopub.status.idle": "2022-01-28T16:00:43.233145Z",
     "shell.execute_reply": "2022-01-28T16:00:43.232746Z"
    },
    "papermill": {
     "duration": 0.030506,
     "end_time": "2022-01-28T16:00:43.233237",
     "exception": false,
     "start_time": "2022-01-28T16:00:43.202731",
     "status": "completed"
    },
    "tags": [
     "parameters"
    ]
   },
   "outputs": [],
   "source": [
    "# this cell has the \"parameters\" tag\n",
    "\n",
    "# size of gene pair groups to process in parallel\n",
    "CHUNK_SIZE = 100"
   ]
  },
  {
   "cell_type": "markdown",
   "id": "a1159982-5dd1-4494-97d4-0674eeead1c3",
   "metadata": {
    "papermill": {
     "duration": 0.025255,
     "end_time": "2022-01-28T16:00:43.284575",
     "exception": false,
     "start_time": "2022-01-28T16:00:43.259320",
     "status": "completed"
    },
    "tags": []
   },
   "source": [
    "# Paths"
   ]
  },
  {
   "cell_type": "code",
   "execution_count": 4,
   "id": "c6f73068-fa38-44be-bd0c-708f6ff450ea",
   "metadata": {
    "execution": {
     "iopub.execute_input": "2022-01-28T16:00:43.344111Z",
     "iopub.status.busy": "2022-01-28T16:00:43.343035Z",
     "iopub.status.idle": "2022-01-28T16:00:43.347189Z",
     "shell.execute_reply": "2022-01-28T16:00:43.346754Z"
    },
    "papermill": {
     "duration": 0.036938,
     "end_time": "2022-01-28T16:00:43.347284",
     "exception": false,
     "start_time": "2022-01-28T16:00:43.310346",
     "status": "completed"
    },
    "tags": []
   },
   "outputs": [
    {
     "data": {
      "text/plain": [
       "PosixPath('/opt/data/results/gtex_v8/gene_selection/gtex_v8_data_whole_blood-var_pc_log2.pkl')"
      ]
     },
     "metadata": {},
     "output_type": "display_data"
    }
   ],
   "source": [
    "INPUT_GENE_EXPR_FILE = (\n",
    "    DATASET_CONFIG[\"GENE_SELECTION_DIR\"]\n",
    "    / f\"gtex_v8_data_{GTEX_TISSUE}-{GENE_SEL_STRATEGY}.pkl\"\n",
    ")\n",
    "display(INPUT_GENE_EXPR_FILE)\n",
    "\n",
    "assert INPUT_GENE_EXPR_FILE.exists()"
   ]
  },
  {
   "cell_type": "code",
   "execution_count": 5,
   "id": "1ed73618-a3ab-4f62-8731-67c9726fd1a8",
   "metadata": {
    "execution": {
     "iopub.execute_input": "2022-01-28T16:00:43.403288Z",
     "iopub.status.busy": "2022-01-28T16:00:43.402797Z",
     "iopub.status.idle": "2022-01-28T16:00:43.405028Z",
     "shell.execute_reply": "2022-01-28T16:00:43.405373Z"
    },
    "papermill": {
     "duration": 0.032155,
     "end_time": "2022-01-28T16:00:43.405490",
     "exception": false,
     "start_time": "2022-01-28T16:00:43.373335",
     "status": "completed"
    },
    "tags": []
   },
   "outputs": [
    {
     "data": {
      "text/plain": [
       "PosixPath('/opt/data/results/gtex_v8/gene_pair_intersections/gene_pair_intersections-gtex_v8-whole_blood-var_pc_log2.pkl')"
      ]
     },
     "metadata": {},
     "output_type": "display_data"
    }
   ],
   "source": [
    "GENE_PAIRS_FILE_SUFFIX = (\n",
    "    DATASET_CONFIG[\"GENE_PAIR_INTERSECTIONS\"]\n",
    "    / f\"gene_pair_intersections-gtex_v8-{GTEX_TISSUE}-{GENE_SEL_STRATEGY}.pkl\"\n",
    ")\n",
    "display(GENE_PAIRS_FILE_SUFFIX)\n",
    "\n",
    "assert GENE_PAIRS_FILE_SUFFIX.exists()"
   ]
  },
  {
   "cell_type": "code",
   "execution_count": 6,
   "id": "24757228-be05-43e0-8057-831135a5da17",
   "metadata": {
    "execution": {
     "iopub.execute_input": "2022-01-28T16:00:43.463282Z",
     "iopub.status.busy": "2022-01-28T16:00:43.462772Z",
     "iopub.status.idle": "2022-01-28T16:00:43.465146Z",
     "shell.execute_reply": "2022-01-28T16:00:43.465491Z"
    },
    "papermill": {
     "duration": 0.032429,
     "end_time": "2022-01-28T16:00:43.465610",
     "exception": false,
     "start_time": "2022-01-28T16:00:43.433181",
     "status": "completed"
    },
    "tags": []
   },
   "outputs": [
    {
     "data": {
      "text/plain": [
       "PosixPath('/opt/data/results/gtex_v8/gene_pair_intersections/samples')"
      ]
     },
     "metadata": {},
     "output_type": "display_data"
    }
   ],
   "source": [
    "INPUT_DIR = GENE_PAIRS_FILE_SUFFIX.parent / \"samples\"\n",
    "display(INPUT_DIR)"
   ]
  },
  {
   "cell_type": "code",
   "execution_count": 7,
   "id": "a088c4ad-71ac-43f3-b58a-678fefb55117",
   "metadata": {
    "execution": {
     "iopub.execute_input": "2022-01-28T16:00:43.523521Z",
     "iopub.status.busy": "2022-01-28T16:00:43.523017Z",
     "iopub.status.idle": "2022-01-28T16:00:43.526980Z",
     "shell.execute_reply": "2022-01-28T16:00:43.526568Z"
    },
    "papermill": {
     "duration": 0.034363,
     "end_time": "2022-01-28T16:00:43.527077",
     "exception": false,
     "start_time": "2022-01-28T16:00:43.492714",
     "status": "completed"
    },
    "tags": []
   },
   "outputs": [
    {
     "data": {
      "text/plain": [
       "PosixPath('/opt/data/results/gtex_v8/gene_pair_intersections/samples/gene_pair_intersections-gtex_v8-whole_blood-var_pc_log2-disagreements_sample_{sample_id}.pkl')"
      ]
     },
     "metadata": {},
     "output_type": "display_data"
    },
    {
     "data": {
      "text/plain": [
       "'/opt/data/results/gtex_v8/gene_pair_intersections/samples/gene_pair_intersections-gtex_v8-whole_blood-var_pc_log2-disagreements_sample_{sample_id}.pkl'"
      ]
     },
     "metadata": {},
     "output_type": "display_data"
    }
   ],
   "source": [
    "INPUT_GENE_PAIRS_FILE = INPUT_DIR / (\n",
    "    f\"{GENE_PAIRS_FILE_SUFFIX.stem}-disagreements_sample_\" + \"{sample_id}\" + \".pkl\"\n",
    ")\n",
    "display(INPUT_GENE_PAIRS_FILE)\n",
    "\n",
    "INPUT_GENE_PAIRS_FILE_TEMPLATE = str(INPUT_GENE_PAIRS_FILE)\n",
    "display(INPUT_GENE_PAIRS_FILE_TEMPLATE)"
   ]
  },
  {
   "cell_type": "code",
   "execution_count": 8,
   "id": "7e6dbf37-ad3a-4f73-a4a7-89275d6f00bc",
   "metadata": {
    "execution": {
     "iopub.execute_input": "2022-01-28T16:00:43.588687Z",
     "iopub.status.busy": "2022-01-28T16:00:43.588094Z",
     "iopub.status.idle": "2022-01-28T16:00:43.591040Z",
     "shell.execute_reply": "2022-01-28T16:00:43.590681Z"
    },
    "papermill": {
     "duration": 0.035227,
     "end_time": "2022-01-28T16:00:43.591137",
     "exception": false,
     "start_time": "2022-01-28T16:00:43.555910",
     "status": "completed"
    },
    "tags": []
   },
   "outputs": [
    {
     "data": {
      "text/plain": [
       "PosixPath('/opt/data/results/gtex_v8/comparison_others/mic')"
      ]
     },
     "metadata": {},
     "output_type": "display_data"
    }
   ],
   "source": [
    "OUTPUT_DIR = DATASET_CONFIG[\"RESULTS_DIR\"] / \"comparison_others\" / METHOD_NAME\n",
    "OUTPUT_DIR.mkdir(parents=True, exist_ok=True)\n",
    "display(OUTPUT_DIR)"
   ]
  },
  {
   "cell_type": "code",
   "execution_count": 9,
   "id": "f4468c0e-c0ad-4bf5-b120-3f63e7afc33f",
   "metadata": {
    "execution": {
     "iopub.execute_input": "2022-01-28T16:00:43.652196Z",
     "iopub.status.busy": "2022-01-28T16:00:43.651673Z",
     "iopub.status.idle": "2022-01-28T16:00:43.653927Z",
     "shell.execute_reply": "2022-01-28T16:00:43.654265Z"
    },
    "papermill": {
     "duration": 0.034839,
     "end_time": "2022-01-28T16:00:43.654385",
     "exception": false,
     "start_time": "2022-01-28T16:00:43.619546",
     "status": "completed"
    },
    "tags": []
   },
   "outputs": [
    {
     "data": {
      "text/plain": [
       "'/opt/data/results/gtex_v8/comparison_others/mic/gene_pair_intersections-gtex_v8-whole_blood-var_pc_log2-disagreements_sample_{sample_id}-mic.pkl'"
      ]
     },
     "metadata": {},
     "output_type": "display_data"
    }
   ],
   "source": [
    "OUTPUT_FILE_TEMPLATE = str(\n",
    "    OUTPUT_DIR / (INPUT_GENE_PAIRS_FILE.name[:-4] + f\"-{METHOD_NAME}.pkl\")\n",
    ")\n",
    "\n",
    "display(OUTPUT_FILE_TEMPLATE)"
   ]
  },
  {
   "cell_type": "markdown",
   "id": "f6d3322b-c8bb-4fc2-97b6-5bb1793b1577",
   "metadata": {
    "papermill": {
     "duration": 0.027957,
     "end_time": "2022-01-28T16:00:43.711792",
     "exception": false,
     "start_time": "2022-01-28T16:00:43.683835",
     "status": "completed"
    },
    "tags": []
   },
   "source": [
    "# Data"
   ]
  },
  {
   "cell_type": "markdown",
   "id": "0aa486d7-b624-4d20-a730-a9eb224bef6a",
   "metadata": {
    "papermill": {
     "duration": 0.02777,
     "end_time": "2022-01-28T16:00:43.767292",
     "exception": false,
     "start_time": "2022-01-28T16:00:43.739522",
     "status": "completed"
    },
    "tags": []
   },
   "source": [
    "## Gene expression"
   ]
  },
  {
   "cell_type": "code",
   "execution_count": 10,
   "id": "f73ca2b7-f7ff-47bc-90b0-32e0cfdb5ea6",
   "metadata": {
    "execution": {
     "iopub.execute_input": "2022-01-28T16:00:43.831166Z",
     "iopub.status.busy": "2022-01-28T16:00:43.830552Z",
     "iopub.status.idle": "2022-01-28T16:00:44.001093Z",
     "shell.execute_reply": "2022-01-28T16:00:44.000549Z"
    },
    "papermill": {
     "duration": 0.205602,
     "end_time": "2022-01-28T16:00:44.001218",
     "exception": false,
     "start_time": "2022-01-28T16:00:43.795616",
     "status": "completed"
    },
    "tags": []
   },
   "outputs": [],
   "source": [
    "gene_expr_dict = pd.read_pickle(INPUT_GENE_EXPR_FILE).T.to_dict(orient=\"series\")"
   ]
  },
  {
   "cell_type": "code",
   "execution_count": 11,
   "id": "3cba499a-e737-4da2-9841-f9a03719b3aa",
   "metadata": {
    "execution": {
     "iopub.execute_input": "2022-01-28T16:00:44.071214Z",
     "iopub.status.busy": "2022-01-28T16:00:44.070651Z",
     "iopub.status.idle": "2022-01-28T16:00:44.072783Z",
     "shell.execute_reply": "2022-01-28T16:00:44.073132Z"
    },
    "papermill": {
     "duration": 0.035854,
     "end_time": "2022-01-28T16:00:44.073253",
     "exception": false,
     "start_time": "2022-01-28T16:00:44.037399",
     "status": "completed"
    },
    "tags": []
   },
   "outputs": [
    {
     "data": {
      "text/plain": [
       "5000"
      ]
     },
     "execution_count": 11,
     "metadata": {},
     "output_type": "execute_result"
    }
   ],
   "source": [
    "len(gene_expr_dict)"
   ]
  },
  {
   "cell_type": "code",
   "execution_count": 12,
   "id": "df66fe70-9fe9-4351-9d30-f8dcc97725de",
   "metadata": {
    "execution": {
     "iopub.execute_input": "2022-01-28T16:00:44.136189Z",
     "iopub.status.busy": "2022-01-28T16:00:44.135645Z",
     "iopub.status.idle": "2022-01-28T16:00:44.137883Z",
     "shell.execute_reply": "2022-01-28T16:00:44.138239Z"
    },
    "papermill": {
     "duration": 0.036214,
     "end_time": "2022-01-28T16:00:44.138355",
     "exception": false,
     "start_time": "2022-01-28T16:00:44.102141",
     "status": "completed"
    },
    "tags": []
   },
   "outputs": [
    {
     "data": {
      "text/plain": [
       "GTEX-111YS-0006-SM-5NQBE       0.5623\n",
       "GTEX-1122O-0005-SM-5O99J       0.8067\n",
       "GTEX-1128S-0005-SM-5P9HI     116.9000\n",
       "GTEX-113IC-0006-SM-5NQ9C       4.0470\n",
       "GTEX-113JC-0006-SM-5O997     211.0000\n",
       "                              ...    \n",
       "GTEX-ZVTK-0006-SM-57WBK     1626.0000\n",
       "GTEX-ZVZP-0006-SM-51MSW        0.5633\n",
       "GTEX-ZVZQ-0006-SM-51MR8      515.7000\n",
       "GTEX-ZXES-0005-SM-57WCB        1.1940\n",
       "GTEX-ZXG5-0005-SM-57WCN     1163.0000\n",
       "Name: ENSG00000169429.10, Length: 755, dtype: float64"
      ]
     },
     "execution_count": 12,
     "metadata": {},
     "output_type": "execute_result"
    }
   ],
   "source": [
    "gene_expr_dict[list(gene_expr_dict.keys())[0]]"
   ]
  },
  {
   "cell_type": "markdown",
   "id": "b030f506-2fe9-4895-a8a1-51374e88c496",
   "metadata": {
    "papermill": {
     "duration": 0.028446,
     "end_time": "2022-01-28T16:00:44.196453",
     "exception": false,
     "start_time": "2022-01-28T16:00:44.168007",
     "status": "completed"
    },
    "tags": []
   },
   "source": [
    "## Gene pairs intersection"
   ]
  },
  {
   "cell_type": "code",
   "execution_count": 13,
   "id": "da1d768a-fbfb-40e8-8fbb-790d1a94aa83",
   "metadata": {
    "execution": {
     "iopub.execute_input": "2022-01-28T16:00:44.257070Z",
     "iopub.status.busy": "2022-01-28T16:00:44.256625Z",
     "iopub.status.idle": "2022-01-28T16:00:44.258779Z",
     "shell.execute_reply": "2022-01-28T16:00:44.258320Z"
    },
    "papermill": {
     "duration": 0.03388,
     "end_time": "2022-01-28T16:00:44.258878",
     "exception": false,
     "start_time": "2022-01-28T16:00:44.224998",
     "status": "completed"
    },
    "tags": []
   },
   "outputs": [],
   "source": [
    "# intersections = pd.read_pickle(INPUT_GENE_PAIRS_INTERSECTIONS_FILE)"
   ]
  },
  {
   "cell_type": "code",
   "execution_count": 14,
   "id": "6123d474-0c0d-4771-9678-248ce89424ce",
   "metadata": {
    "execution": {
     "iopub.execute_input": "2022-01-28T16:00:44.320109Z",
     "iopub.status.busy": "2022-01-28T16:00:44.319605Z",
     "iopub.status.idle": "2022-01-28T16:00:44.321596Z",
     "shell.execute_reply": "2022-01-28T16:00:44.321188Z"
    },
    "papermill": {
     "duration": 0.033836,
     "end_time": "2022-01-28T16:00:44.321693",
     "exception": false,
     "start_time": "2022-01-28T16:00:44.287857",
     "status": "completed"
    },
    "tags": []
   },
   "outputs": [],
   "source": [
    "# len(intersections)"
   ]
  },
  {
   "cell_type": "code",
   "execution_count": 15,
   "id": "1b817194-a9c3-4f53-8d0f-1ee8faa36bfe",
   "metadata": {
    "execution": {
     "iopub.execute_input": "2022-01-28T16:00:44.382331Z",
     "iopub.status.busy": "2022-01-28T16:00:44.381871Z",
     "iopub.status.idle": "2022-01-28T16:00:44.383816Z",
     "shell.execute_reply": "2022-01-28T16:00:44.383433Z"
    },
    "papermill": {
     "duration": 0.033342,
     "end_time": "2022-01-28T16:00:44.383962",
     "exception": false,
     "start_time": "2022-01-28T16:00:44.350620",
     "status": "completed"
    },
    "tags": []
   },
   "outputs": [],
   "source": [
    "# intersections[\"Clustermatch (high), Pearson (high), Spearman (high)\"]"
   ]
  },
  {
   "cell_type": "markdown",
   "id": "9e1b78f3-8f43-411a-acb7-4646b4979034",
   "metadata": {
    "papermill": {
     "duration": 0.028139,
     "end_time": "2022-01-28T16:00:44.440844",
     "exception": false,
     "start_time": "2022-01-28T16:00:44.412705",
     "status": "completed"
    },
    "tags": []
   },
   "source": [
    "# Compute Maximal Information Coefficient (MIC)"
   ]
  },
  {
   "cell_type": "markdown",
   "id": "f31225f0-ce8b-48aa-97a6-d69afcb8732a",
   "metadata": {
    "papermill": {
     "duration": 0.028212,
     "end_time": "2022-01-28T16:00:44.497243",
     "exception": false,
     "start_time": "2022-01-28T16:00:44.469031",
     "status": "completed"
    },
    "tags": []
   },
   "source": [
    "## Functions"
   ]
  },
  {
   "cell_type": "code",
   "execution_count": 16,
   "id": "1851477c-1c94-456d-949b-012b8984a434",
   "metadata": {
    "execution": {
     "iopub.execute_input": "2022-01-28T16:00:44.557329Z",
     "iopub.status.busy": "2022-01-28T16:00:44.556858Z",
     "iopub.status.idle": "2022-01-28T16:00:44.783490Z",
     "shell.execute_reply": "2022-01-28T16:00:44.783011Z"
    },
    "papermill": {
     "duration": 0.258129,
     "end_time": "2022-01-28T16:00:44.783588",
     "exception": false,
     "start_time": "2022-01-28T16:00:44.525459",
     "status": "completed"
    },
    "tags": []
   },
   "outputs": [],
   "source": [
    "import warnings\n",
    "from sklearn.metrics import pairwise_distances\n",
    "from minepy.mine import MINE"
   ]
  },
  {
   "cell_type": "code",
   "execution_count": 17,
   "id": "0adf1172-acc5-4c35-a3ab-aed6de9770c4",
   "metadata": {
    "execution": {
     "iopub.execute_input": "2022-01-28T16:00:44.851657Z",
     "iopub.status.busy": "2022-01-28T16:00:44.851124Z",
     "iopub.status.idle": "2022-01-28T16:00:44.852568Z",
     "shell.execute_reply": "2022-01-28T16:00:44.852989Z"
    },
    "papermill": {
     "duration": 0.040824,
     "end_time": "2022-01-28T16:00:44.853124",
     "exception": false,
     "start_time": "2022-01-28T16:00:44.812300",
     "status": "completed"
    },
    "tags": []
   },
   "outputs": [],
   "source": [
    "def _mic(x, y):\n",
    "    \"\"\"\n",
    "    FIXME: move to library\n",
    "    \"\"\"\n",
    "    with warnings.catch_warnings():\n",
    "        warnings.filterwarnings(\"ignore\", category=DeprecationWarning)\n",
    "\n",
    "        mine = MINE(alpha=0.6, c=15, est=\"mic_approx\")\n",
    "        mine.compute_score(x, y)\n",
    "        return mine.mic()"
   ]
  },
  {
   "cell_type": "code",
   "execution_count": 18,
   "id": "cd837842-665d-4214-affe-af9c951bd154",
   "metadata": {
    "execution": {
     "iopub.execute_input": "2022-01-28T16:00:44.918283Z",
     "iopub.status.busy": "2022-01-28T16:00:44.917486Z",
     "iopub.status.idle": "2022-01-28T16:00:44.920755Z",
     "shell.execute_reply": "2022-01-28T16:00:44.921114Z"
    },
    "papermill": {
     "duration": 0.036188,
     "end_time": "2022-01-28T16:00:44.921231",
     "exception": false,
     "start_time": "2022-01-28T16:00:44.885043",
     "status": "completed"
    },
    "tags": []
   },
   "outputs": [
    {
     "data": {
      "text/plain": [
       "0.2364527976600289"
      ]
     },
     "execution_count": 18,
     "metadata": {},
     "output_type": "execute_result"
    }
   ],
   "source": [
    "_mic(np.random.rand(10), np.random.rand(10))"
   ]
  },
  {
   "cell_type": "markdown",
   "id": "b9a14ad1-ffd2-4b16-98b2-658634dccd21",
   "metadata": {
    "papermill": {
     "duration": 0.028878,
     "end_time": "2022-01-28T16:00:44.979742",
     "exception": false,
     "start_time": "2022-01-28T16:00:44.950864",
     "status": "completed"
    },
    "tags": []
   },
   "source": [
    "## Get all sample files"
   ]
  },
  {
   "cell_type": "code",
   "execution_count": 19,
   "id": "022f616c-3dd2-47f8-9360-286d1dc08bab",
   "metadata": {
    "execution": {
     "iopub.execute_input": "2022-01-28T16:00:45.042142Z",
     "iopub.status.busy": "2022-01-28T16:00:45.041692Z",
     "iopub.status.idle": "2022-01-28T16:00:45.043700Z",
     "shell.execute_reply": "2022-01-28T16:00:45.043315Z"
    },
    "papermill": {
     "duration": 0.034913,
     "end_time": "2022-01-28T16:00:45.043794",
     "exception": false,
     "start_time": "2022-01-28T16:00:45.008881",
     "status": "completed"
    },
    "tags": []
   },
   "outputs": [],
   "source": [
    "all_sample_files = []\n",
    "\n",
    "sample_id = 0\n",
    "sample_file = Path(INPUT_GENE_PAIRS_FILE_TEMPLATE.format(sample_id=sample_id))\n",
    "\n",
    "while sample_file.exists():\n",
    "    all_sample_files.append((sample_id, sample_file))\n",
    "\n",
    "    sample_id += 1\n",
    "    sample_file = Path(INPUT_GENE_PAIRS_FILE_TEMPLATE.format(sample_id=sample_id))"
   ]
  },
  {
   "cell_type": "code",
   "execution_count": 20,
   "id": "f0af34fd-19ac-4d74-a3e4-399f70c049ac",
   "metadata": {
    "execution": {
     "iopub.execute_input": "2022-01-28T16:00:45.104428Z",
     "iopub.status.busy": "2022-01-28T16:00:45.103982Z",
     "iopub.status.idle": "2022-01-28T16:00:45.106563Z",
     "shell.execute_reply": "2022-01-28T16:00:45.106128Z"
    },
    "papermill": {
     "duration": 0.033998,
     "end_time": "2022-01-28T16:00:45.106658",
     "exception": false,
     "start_time": "2022-01-28T16:00:45.072660",
     "status": "completed"
    },
    "tags": []
   },
   "outputs": [],
   "source": [
    "# all_sample_files = sorted(\n",
    "#     list(\n",
    "#         INPUT_GENE_PAIRS_FILE.parent.glob(INPUT_GENE_PAIRS_FILE.name.format(sample_id=\"*\"))\n",
    "#     )\n",
    "# )"
   ]
  },
  {
   "cell_type": "code",
   "execution_count": 21,
   "id": "4f169abf-2009-482c-9df3-b502c4f56641",
   "metadata": {
    "execution": {
     "iopub.execute_input": "2022-01-28T16:00:45.170296Z",
     "iopub.status.busy": "2022-01-28T16:00:45.169710Z",
     "iopub.status.idle": "2022-01-28T16:00:45.171840Z",
     "shell.execute_reply": "2022-01-28T16:00:45.172276Z"
    },
    "papermill": {
     "duration": 0.035536,
     "end_time": "2022-01-28T16:00:45.172390",
     "exception": false,
     "start_time": "2022-01-28T16:00:45.136854",
     "status": "completed"
    },
    "tags": []
   },
   "outputs": [
    {
     "data": {
      "text/plain": [
       "1"
      ]
     },
     "execution_count": 21,
     "metadata": {},
     "output_type": "execute_result"
    }
   ],
   "source": [
    "len(all_sample_files)"
   ]
  },
  {
   "cell_type": "code",
   "execution_count": 22,
   "id": "f49ac615-436b-4abc-8f72-06f50907c70d",
   "metadata": {
    "execution": {
     "iopub.execute_input": "2022-01-28T16:00:45.234590Z",
     "iopub.status.busy": "2022-01-28T16:00:45.233888Z",
     "iopub.status.idle": "2022-01-28T16:00:45.236344Z",
     "shell.execute_reply": "2022-01-28T16:00:45.236682Z"
    },
    "papermill": {
     "duration": 0.035081,
     "end_time": "2022-01-28T16:00:45.236799",
     "exception": false,
     "start_time": "2022-01-28T16:00:45.201718",
     "status": "completed"
    },
    "tags": []
   },
   "outputs": [
    {
     "data": {
      "text/plain": [
       "[(0,\n",
       "  PosixPath('/opt/data/results/gtex_v8/gene_pair_intersections/samples/gene_pair_intersections-gtex_v8-whole_blood-var_pc_log2-disagreements_sample_0.pkl'))]"
      ]
     },
     "execution_count": 22,
     "metadata": {},
     "output_type": "execute_result"
    }
   ],
   "source": [
    "all_sample_files[:3]"
   ]
  },
  {
   "cell_type": "markdown",
   "id": "96315853-ea9d-4417-b224-31b3bbdf7553",
   "metadata": {
    "papermill": {
     "duration": 0.028888,
     "end_time": "2022-01-28T16:00:45.295604",
     "exception": false,
     "start_time": "2022-01-28T16:00:45.266716",
     "status": "completed"
    },
    "tags": []
   },
   "source": [
    "## Run"
   ]
  },
  {
   "cell_type": "code",
   "execution_count": 23,
   "id": "0f516a3e-0f64-42d3-b32d-9de6563b2df4",
   "metadata": {
    "execution": {
     "iopub.execute_input": "2022-01-28T16:00:45.357827Z",
     "iopub.status.busy": "2022-01-28T16:00:45.357372Z",
     "iopub.status.idle": "2022-01-28T16:00:45.381918Z",
     "shell.execute_reply": "2022-01-28T16:00:45.381507Z"
    },
    "papermill": {
     "duration": 0.057079,
     "end_time": "2022-01-28T16:00:45.382014",
     "exception": false,
     "start_time": "2022-01-28T16:00:45.324935",
     "status": "completed"
    },
    "tags": []
   },
   "outputs": [],
   "source": [
    "from concurrent.futures import ProcessPoolExecutor, as_completed\n",
    "from collections import defaultdict\n",
    "\n",
    "from tqdm import tqdm\n",
    "\n",
    "from clustermatch.utils import chunker"
   ]
  },
  {
   "cell_type": "code",
   "execution_count": 24,
   "id": "f2d70e9a-42df-483a-86d2-7fb59f425166",
   "metadata": {
    "execution": {
     "iopub.execute_input": "2022-01-28T16:00:45.445955Z",
     "iopub.status.busy": "2022-01-28T16:00:45.445491Z",
     "iopub.status.idle": "2022-01-28T16:00:45.447380Z",
     "shell.execute_reply": "2022-01-28T16:00:45.447010Z"
    },
    "papermill": {
     "duration": 0.035209,
     "end_time": "2022-01-28T16:00:45.447480",
     "exception": false,
     "start_time": "2022-01-28T16:00:45.412271",
     "status": "completed"
    },
    "tags": []
   },
   "outputs": [],
   "source": [
    "def _compute_mic(gene_sets: list):\n",
    "    res = [\n",
    "        _mic(gene_expr_dict[gs[0]].to_numpy(), gene_expr_dict[gs[1]].to_numpy())\n",
    "        for gs in gene_sets\n",
    "    ]\n",
    "\n",
    "    return pd.Series(res, index=pd.MultiIndex.from_tuples(gene_sets))"
   ]
  },
  {
   "cell_type": "code",
   "execution_count": 25,
   "id": "3a16f0f9-9af0-49a4-a293-f51f58f46de3",
   "metadata": {
    "execution": {
     "iopub.execute_input": "2022-01-28T16:00:45.514360Z",
     "iopub.status.busy": "2022-01-28T16:00:45.511270Z",
     "iopub.status.idle": "2022-01-28T16:00:46.344774Z",
     "shell.execute_reply": "2022-01-28T16:00:46.345131Z"
    },
    "papermill": {
     "duration": 0.868207,
     "end_time": "2022-01-28T16:00:46.345249",
     "exception": false,
     "start_time": "2022-01-28T16:00:45.477042",
     "status": "completed"
    },
    "tags": []
   },
   "outputs": [
    {
     "data": {
      "text/html": [
       "<div>\n",
       "<style scoped>\n",
       "    .dataframe tbody tr th:only-of-type {\n",
       "        vertical-align: middle;\n",
       "    }\n",
       "\n",
       "    .dataframe tbody tr th {\n",
       "        vertical-align: top;\n",
       "    }\n",
       "\n",
       "    .dataframe thead th {\n",
       "        text-align: right;\n",
       "    }\n",
       "</style>\n",
       "<table border=\"1\" class=\"dataframe\">\n",
       "  <thead>\n",
       "    <tr style=\"text-align: right;\">\n",
       "      <th></th>\n",
       "      <th>gene0</th>\n",
       "      <th>gene1</th>\n",
       "    </tr>\n",
       "  </thead>\n",
       "  <tbody>\n",
       "    <tr>\n",
       "      <th>11405</th>\n",
       "      <td>ENSG00000167083.6</td>\n",
       "      <td>ENSG00000248144.5</td>\n",
       "    </tr>\n",
       "    <tr>\n",
       "      <th>12091</th>\n",
       "      <td>ENSG00000169884.13</td>\n",
       "      <td>ENSG00000130203.9</td>\n",
       "    </tr>\n",
       "    <tr>\n",
       "      <th>3461</th>\n",
       "      <td>ENSG00000111653.19</td>\n",
       "      <td>ENSG00000269919.1</td>\n",
       "    </tr>\n",
       "    <tr>\n",
       "      <th>12481</th>\n",
       "      <td>ENSG00000172349.17</td>\n",
       "      <td>ENSG00000151929.9</td>\n",
       "    </tr>\n",
       "    <tr>\n",
       "      <th>4614</th>\n",
       "      <td>ENSG00000118271.9</td>\n",
       "      <td>ENSG00000180739.13</td>\n",
       "    </tr>\n",
       "    <tr>\n",
       "      <th>17664</th>\n",
       "      <td>ENSG00000244361.1</td>\n",
       "      <td>ENSG00000145321.12</td>\n",
       "    </tr>\n",
       "    <tr>\n",
       "      <th>3041</th>\n",
       "      <td>ENSG00000126368.5</td>\n",
       "      <td>ENSG00000211976.2</td>\n",
       "    </tr>\n",
       "    <tr>\n",
       "      <th>1825</th>\n",
       "      <td>ENSG00000100364.18</td>\n",
       "      <td>ENSG00000105697.7</td>\n",
       "    </tr>\n",
       "    <tr>\n",
       "      <th>18180</th>\n",
       "      <td>ENSG00000254635.5</td>\n",
       "      <td>ENSG00000111537.4</td>\n",
       "    </tr>\n",
       "    <tr>\n",
       "      <th>7417</th>\n",
       "      <td>ENSG00000211815.3</td>\n",
       "      <td>ENSG00000130005.12</td>\n",
       "    </tr>\n",
       "  </tbody>\n",
       "</table>\n",
       "</div>"
      ],
      "text/plain": [
       "                    gene0               gene1\n",
       "11405   ENSG00000167083.6   ENSG00000248144.5\n",
       "12091  ENSG00000169884.13   ENSG00000130203.9\n",
       "3461   ENSG00000111653.19   ENSG00000269919.1\n",
       "12481  ENSG00000172349.17   ENSG00000151929.9\n",
       "4614    ENSG00000118271.9  ENSG00000180739.13\n",
       "17664   ENSG00000244361.1  ENSG00000145321.12\n",
       "3041    ENSG00000126368.5   ENSG00000211976.2\n",
       "1825   ENSG00000100364.18   ENSG00000105697.7\n",
       "18180   ENSG00000254635.5   ENSG00000111537.4\n",
       "7417    ENSG00000211815.3  ENSG00000130005.12"
      ]
     },
     "metadata": {},
     "output_type": "display_data"
    },
    {
     "data": {
      "text/plain": [
       "(10,)"
      ]
     },
     "metadata": {},
     "output_type": "display_data"
    },
    {
     "data": {
      "text/plain": [
       "ENSG00000167083.6   ENSG00000248144.5     0.351810\n",
       "ENSG00000169884.13  ENSG00000130203.9     0.356660\n",
       "ENSG00000111653.19  ENSG00000269919.1     0.360790\n",
       "ENSG00000172349.17  ENSG00000151929.9     0.318774\n",
       "ENSG00000118271.9   ENSG00000180739.13    0.376760\n",
       "dtype: float64"
      ]
     },
     "metadata": {},
     "output_type": "display_data"
    }
   ],
   "source": [
    "# testing\n",
    "# gene_set_key = \"Clustermatch (high), Pearson (high), Spearman (high)\"\n",
    "gene_set = pd.read_pickle(all_sample_files[0][1]).sample(n=10)\n",
    "display(gene_set)\n",
    "\n",
    "_res = _compute_mic(list(gene_set.itertuples(index=False)))\n",
    "display(_res.shape)\n",
    "display(_res.head())\n",
    "\n",
    "# make sure order is preserved\n",
    "assert _res.index.to_list() == list(gene_set.itertuples(index=False, name=None))"
   ]
  },
  {
   "cell_type": "code",
   "execution_count": 26,
   "id": "df927e8f-203d-41df-a5f1-25d6c9a43d53",
   "metadata": {
    "execution": {
     "iopub.execute_input": "2022-01-28T16:00:46.411422Z",
     "iopub.status.busy": "2022-01-28T16:00:46.410901Z",
     "iopub.status.idle": "2022-01-28T16:00:46.423545Z",
     "shell.execute_reply": "2022-01-28T16:00:46.423117Z"
    },
    "papermill": {
     "duration": 0.047851,
     "end_time": "2022-01-28T16:00:46.423645",
     "exception": false,
     "start_time": "2022-01-28T16:00:46.375794",
     "status": "completed"
    },
    "tags": []
   },
   "outputs": [],
   "source": [
    "all_chunks = []\n",
    "\n",
    "for (sample_id, sample_file) in all_sample_files:\n",
    "    gene_pairs_df = pd.read_pickle(sample_file)\n",
    "    gene_pairs_subset = list(gene_pairs_df.itertuples(index=False, name=None))\n",
    "\n",
    "    for chunk in list(chunker(gene_pairs_subset, CHUNK_SIZE)):\n",
    "        all_chunks.append((sample_id, chunk))"
   ]
  },
  {
   "cell_type": "code",
   "execution_count": 27,
   "id": "3ba05517-1b61-40ee-8333-17e1a2088de9",
   "metadata": {
    "execution": {
     "iopub.execute_input": "2022-01-28T16:00:46.488944Z",
     "iopub.status.busy": "2022-01-28T16:00:46.488521Z",
     "iopub.status.idle": "2022-01-28T16:00:46.492110Z",
     "shell.execute_reply": "2022-01-28T16:00:46.491687Z"
    },
    "papermill": {
     "duration": 0.037195,
     "end_time": "2022-01-28T16:00:46.492206",
     "exception": false,
     "start_time": "2022-01-28T16:00:46.455011",
     "status": "completed"
    },
    "tags": []
   },
   "outputs": [
    {
     "data": {
      "text/plain": [
       "330"
      ]
     },
     "execution_count": 27,
     "metadata": {},
     "output_type": "execute_result"
    }
   ],
   "source": [
    "len(all_chunks)"
   ]
  },
  {
   "cell_type": "code",
   "execution_count": 28,
   "id": "5b2aec09-987c-4506-87c2-5d9e8107d9ca",
   "metadata": {
    "execution": {
     "iopub.execute_input": "2022-01-28T16:00:46.561646Z",
     "iopub.status.busy": "2022-01-28T16:00:46.561196Z",
     "iopub.status.idle": "2022-01-28T16:00:46.567518Z",
     "shell.execute_reply": "2022-01-28T16:00:46.567067Z"
    },
    "papermill": {
     "duration": 0.044018,
     "end_time": "2022-01-28T16:00:46.567615",
     "exception": false,
     "start_time": "2022-01-28T16:00:46.523597",
     "status": "completed"
    },
    "tags": []
   },
   "outputs": [
    {
     "data": {
      "text/plain": [
       "[(0,\n",
       "  [('ENSG00000000419.12', 'ENSG00000068976.13'),\n",
       "   ('ENSG00000000938.12', 'ENSG00000068976.13'),\n",
       "   ('ENSG00000001167.14', 'ENSG00000163739.4'),\n",
       "   ('ENSG00000002586.18', 'ENSG00000169136.10'),\n",
       "   ('ENSG00000002834.17', 'ENSG00000068976.13'),\n",
       "   ('ENSG00000002919.14', 'ENSG00000068976.13'),\n",
       "   ('ENSG00000002919.14', 'ENSG00000234906.9'),\n",
       "   ('ENSG00000004399.12', 'ENSG00000108515.17'),\n",
       "   ('ENSG00000004468.12', 'ENSG00000108515.17'),\n",
       "   ('ENSG00000004468.12', 'ENSG00000169136.10'),\n",
       "   ('ENSG00000004468.12', 'ENSG00000211976.2'),\n",
       "   ('ENSG00000004478.7', 'ENSG00000118785.13'),\n",
       "   ('ENSG00000004478.7', 'ENSG00000120738.7'),\n",
       "   ('ENSG00000004478.7', 'ENSG00000121053.5'),\n",
       "   ('ENSG00000004478.7', 'ENSG00000125740.13'),\n",
       "   ('ENSG00000004478.7', 'ENSG00000125780.11'),\n",
       "   ('ENSG00000004478.7', 'ENSG00000130203.9'),\n",
       "   ('ENSG00000004478.7', 'ENSG00000130208.9'),\n",
       "   ('ENSG00000004478.7', 'ENSG00000158874.11'),\n",
       "   ('ENSG00000004478.7', 'ENSG00000160932.10'),\n",
       "   ('ENSG00000004478.7', 'ENSG00000186652.9'),\n",
       "   ('ENSG00000004478.7', 'ENSG00000197632.8'),\n",
       "   ('ENSG00000004478.7', 'ENSG00000211721.2'),\n",
       "   ('ENSG00000004478.7', 'ENSG00000211745.3'),\n",
       "   ('ENSG00000004478.7', 'ENSG00000211746.3'),\n",
       "   ('ENSG00000004478.7', 'ENSG00000211752.3'),\n",
       "   ('ENSG00000004478.7', 'ENSG00000211765.1'),\n",
       "   ('ENSG00000004478.7', 'ENSG00000211945.2'),\n",
       "   ('ENSG00000004478.7', 'ENSG00000211950.2'),\n",
       "   ('ENSG00000004478.7', 'ENSG00000226660.2'),\n",
       "   ('ENSG00000004478.7', 'ENSG00000232869.2'),\n",
       "   ('ENSG00000004478.7', 'ENSG00000237702.2'),\n",
       "   ('ENSG00000004478.7', 'ENSG00000278030.1'),\n",
       "   ('ENSG00000004478.7', 'ENSG00000282173.1'),\n",
       "   ('ENSG00000004478.7', 'ENSG00000282320.1'),\n",
       "   ('ENSG00000004478.7', 'ENSG00000282939.1'),\n",
       "   ('ENSG00000004660.14', 'ENSG00000068976.13'),\n",
       "   ('ENSG00000004776.12', 'ENSG00000115414.18'),\n",
       "   ('ENSG00000005020.12', 'ENSG00000068976.13'),\n",
       "   ('ENSG00000005302.17', 'ENSG00000068976.13'),\n",
       "   ('ENSG00000005381.7', 'ENSG00000163631.16'),\n",
       "   ('ENSG00000005448.16', 'ENSG00000120738.7'),\n",
       "   ('ENSG00000005448.16', 'ENSG00000130649.9'),\n",
       "   ('ENSG00000005448.16', 'ENSG00000211663.2'),\n",
       "   ('ENSG00000005448.16', 'ENSG00000211951.2'),\n",
       "   ('ENSG00000005448.16', 'ENSG00000211976.2'),\n",
       "   ('ENSG00000005483.20', 'ENSG00000163739.4'),\n",
       "   ('ENSG00000005812.10', 'ENSG00000068976.13'),\n",
       "   ('ENSG00000005893.15', 'ENSG00000068976.13'),\n",
       "   ('ENSG00000006025.11', 'ENSG00000120738.7'),\n",
       "   ('ENSG00000006025.11', 'ENSG00000130649.9'),\n",
       "   ('ENSG00000006025.11', 'ENSG00000158874.11'),\n",
       "   ('ENSG00000006025.11', 'ENSG00000211946.3'),\n",
       "   ('ENSG00000006025.11', 'ENSG00000211951.2'),\n",
       "   ('ENSG00000006025.11', 'ENSG00000211976.2'),\n",
       "   ('ENSG00000006025.11', 'ENSG00000244116.3'),\n",
       "   ('ENSG00000006025.11', 'ENSG00000248144.5'),\n",
       "   ('ENSG00000006062.14', 'ENSG00000159713.10'),\n",
       "   ('ENSG00000006459.10', 'ENSG00000163739.4'),\n",
       "   ('ENSG00000006534.15', 'ENSG00000130598.15'),\n",
       "   ('ENSG00000007237.18', 'ENSG00000110245.11'),\n",
       "   ('ENSG00000007264.14', 'ENSG00000118785.13'),\n",
       "   ('ENSG00000007264.14', 'ENSG00000130208.9'),\n",
       "   ('ENSG00000007350.16', 'ENSG00000091583.10'),\n",
       "   ('ENSG00000007350.16', 'ENSG00000110245.11'),\n",
       "   ('ENSG00000007350.16', 'ENSG00000118271.9'),\n",
       "   ('ENSG00000007350.16', 'ENSG00000125144.13'),\n",
       "   ('ENSG00000007350.16', 'ENSG00000130208.9'),\n",
       "   ('ENSG00000007350.16', 'ENSG00000158874.11'),\n",
       "   ('ENSG00000007350.16', 'ENSG00000163631.16'),\n",
       "   ('ENSG00000007402.11', 'ENSG00000081041.8'),\n",
       "   ('ENSG00000007402.11', 'ENSG00000130208.9'),\n",
       "   ('ENSG00000007402.11', 'ENSG00000130649.9'),\n",
       "   ('ENSG00000007402.11', 'ENSG00000130707.17'),\n",
       "   ('ENSG00000007402.11', 'ENSG00000136235.15'),\n",
       "   ('ENSG00000007402.11', 'ENSG00000158874.11'),\n",
       "   ('ENSG00000007402.11', 'ENSG00000167244.18'),\n",
       "   ('ENSG00000007402.11', 'ENSG00000169136.10'),\n",
       "   ('ENSG00000007402.11', 'ENSG00000248144.5'),\n",
       "   ('ENSG00000008056.13', 'ENSG00000081041.8'),\n",
       "   ('ENSG00000008056.13', 'ENSG00000105697.7'),\n",
       "   ('ENSG00000008056.13', 'ENSG00000115009.11'),\n",
       "   ('ENSG00000008056.13', 'ENSG00000122861.15'),\n",
       "   ('ENSG00000008056.13', 'ENSG00000130208.9'),\n",
       "   ('ENSG00000008056.13', 'ENSG00000149257.13'),\n",
       "   ('ENSG00000008056.13', 'ENSG00000158874.11'),\n",
       "   ('ENSG00000008056.13', 'ENSG00000167244.18'),\n",
       "   ('ENSG00000008056.13', 'ENSG00000178381.11'),\n",
       "   ('ENSG00000008056.13', 'ENSG00000186652.9'),\n",
       "   ('ENSG00000008056.13', 'ENSG00000266964.5'),\n",
       "   ('ENSG00000008083.13', 'ENSG00000139194.7'),\n",
       "   ('ENSG00000008130.15', 'ENSG00000068976.13'),\n",
       "   ('ENSG00000008294.20', 'ENSG00000163739.4'),\n",
       "   ('ENSG00000008516.16', 'ENSG00000110245.11'),\n",
       "   ('ENSG00000008516.16', 'ENSG00000130208.9'),\n",
       "   ('ENSG00000010310.8', 'ENSG00000111057.10'),\n",
       "   ('ENSG00000010310.8', 'ENSG00000130208.9'),\n",
       "   ('ENSG00000010310.8', 'ENSG00000130649.9'),\n",
       "   ('ENSG00000010310.8', 'ENSG00000136235.15'),\n",
       "   ('ENSG00000010310.8', 'ENSG00000158874.11')]),\n",
       " (0,\n",
       "  [('ENSG00000010310.8', 'ENSG00000163631.16'),\n",
       "   ('ENSG00000010310.8', 'ENSG00000169136.10'),\n",
       "   ('ENSG00000010310.8', 'ENSG00000211976.2'),\n",
       "   ('ENSG00000010310.8', 'ENSG00000248144.5'),\n",
       "   ('ENSG00000010310.8', 'ENSG00000250722.5'),\n",
       "   ('ENSG00000010310.8', 'ENSG00000253755.1'),\n",
       "   ('ENSG00000010310.8', 'ENSG00000270550.1'),\n",
       "   ('ENSG00000010404.17', 'ENSG00000139194.7'),\n",
       "   ('ENSG00000010539.11', 'ENSG00000068976.13'),\n",
       "   ('ENSG00000010671.15', 'ENSG00000068976.13'),\n",
       "   ('ENSG00000010810.17', 'ENSG00000130649.9'),\n",
       "   ('ENSG00000010810.17', 'ENSG00000169136.10'),\n",
       "   ('ENSG00000011009.10', 'ENSG00000130598.15'),\n",
       "   ('ENSG00000011304.19', 'ENSG00000169136.10'),\n",
       "   ('ENSG00000011422.11', 'ENSG00000110245.11'),\n",
       "   ('ENSG00000011485.14', 'ENSG00000169136.10'),\n",
       "   ('ENSG00000011600.11', 'ENSG00000068976.13'),\n",
       "   ('ENSG00000012223.12', 'ENSG00000163631.16'),\n",
       "   ('ENSG00000012232.8', 'ENSG00000068976.13'),\n",
       "   ('ENSG00000012232.8', 'ENSG00000110245.11'),\n",
       "   ('ENSG00000012660.13', 'ENSG00000163739.4'),\n",
       "   ('ENSG00000012779.10', 'ENSG00000068976.13'),\n",
       "   ('ENSG00000013306.15', 'ENSG00000130598.15'),\n",
       "   ('ENSG00000013306.15', 'ENSG00000213931.5'),\n",
       "   ('ENSG00000013364.18', 'ENSG00000068976.13'),\n",
       "   ('ENSG00000013364.18', 'ENSG00000130598.15'),\n",
       "   ('ENSG00000013563.13', 'ENSG00000068976.13'),\n",
       "   ('ENSG00000013810.18', 'ENSG00000068976.13'),\n",
       "   ('ENSG00000014216.15', 'ENSG00000068976.13'),\n",
       "   ('ENSG00000015133.18', 'ENSG00000169136.10'),\n",
       "   ('ENSG00000015171.19', 'ENSG00000081041.8'),\n",
       "   ('ENSG00000015285.10', 'ENSG00000130598.15'),\n",
       "   ('ENSG00000015475.18', 'ENSG00000068976.13'),\n",
       "   ('ENSG00000019582.14', 'ENSG00000211951.2'),\n",
       "   ('ENSG00000020633.18', 'ENSG00000130208.9'),\n",
       "   ('ENSG00000020633.18', 'ENSG00000158874.11'),\n",
       "   ('ENSG00000020633.18', 'ENSG00000163631.16'),\n",
       "   ('ENSG00000021574.11', 'ENSG00000068976.13'),\n",
       "   ('ENSG00000021762.19', 'ENSG00000130649.9'),\n",
       "   ('ENSG00000021762.19', 'ENSG00000169136.10'),\n",
       "   ('ENSG00000021762.19', 'ENSG00000186652.9'),\n",
       "   ('ENSG00000022267.16', 'ENSG00000076003.4'),\n",
       "   ('ENSG00000022267.16', 'ENSG00000111335.12'),\n",
       "   ('ENSG00000022267.16', 'ENSG00000137265.14'),\n",
       "   ('ENSG00000023697.12', 'ENSG00000068976.13'),\n",
       "   ('ENSG00000025708.13', 'ENSG00000068976.13'),\n",
       "   ('ENSG00000025770.18', 'ENSG00000111057.10'),\n",
       "   ('ENSG00000025770.18', 'ENSG00000130649.9'),\n",
       "   ('ENSG00000025770.18', 'ENSG00000211951.2'),\n",
       "   ('ENSG00000025770.18', 'ENSG00000211976.2'),\n",
       "   ('ENSG00000026297.15', 'ENSG00000068976.13'),\n",
       "   ('ENSG00000027869.11', 'ENSG00000110245.11'),\n",
       "   ('ENSG00000027869.11', 'ENSG00000158874.11'),\n",
       "   ('ENSG00000028528.14', 'ENSG00000068976.13'),\n",
       "   ('ENSG00000030582.17', 'ENSG00000068976.13'),\n",
       "   ('ENSG00000033327.12', 'ENSG00000163739.4'),\n",
       "   ('ENSG00000035664.11', 'ENSG00000068976.13'),\n",
       "   ('ENSG00000035862.12', 'ENSG00000068976.13'),\n",
       "   ('ENSG00000036257.12', 'ENSG00000068976.13'),\n",
       "   ('ENSG00000044446.11', 'ENSG00000068976.13'),\n",
       "   ('ENSG00000044574.7', 'ENSG00000120738.7'),\n",
       "   ('ENSG00000044574.7', 'ENSG00000121053.5'),\n",
       "   ('ENSG00000044574.7', 'ENSG00000130208.9'),\n",
       "   ('ENSG00000044574.7', 'ENSG00000158874.11'),\n",
       "   ('ENSG00000044574.7', 'ENSG00000186652.9'),\n",
       "   ('ENSG00000047365.11', 'ENSG00000081041.8'),\n",
       "   ('ENSG00000047410.13', 'ENSG00000139194.7'),\n",
       "   ('ENSG00000048028.11', 'ENSG00000130649.9'),\n",
       "   ('ENSG00000048028.11', 'ENSG00000136235.15'),\n",
       "   ('ENSG00000048028.11', 'ENSG00000167244.18'),\n",
       "   ('ENSG00000048028.11', 'ENSG00000169136.10'),\n",
       "   ('ENSG00000048028.11', 'ENSG00000211976.2'),\n",
       "   ('ENSG00000048392.11', 'ENSG00000068976.13'),\n",
       "   ('ENSG00000049239.12', 'ENSG00000068976.13'),\n",
       "   ('ENSG00000049247.13', 'ENSG00000115523.16'),\n",
       "   ('ENSG00000049247.13', 'ENSG00000133067.17'),\n",
       "   ('ENSG00000049247.13', 'ENSG00000142173.14'),\n",
       "   ('ENSG00000049247.13', 'ENSG00000197471.11'),\n",
       "   ('ENSG00000050130.17', 'ENSG00000068976.13'),\n",
       "   ('ENSG00000051128.18', 'ENSG00000068976.13'),\n",
       "   ('ENSG00000051523.10', 'ENSG00000068976.13'),\n",
       "   ('ENSG00000051523.10', 'ENSG00000130598.15'),\n",
       "   ('ENSG00000051620.10', 'ENSG00000068976.13'),\n",
       "   ('ENSG00000052749.13', 'ENSG00000130598.15'),\n",
       "   ('ENSG00000053918.15', 'ENSG00000068976.13'),\n",
       "   ('ENSG00000054267.21', 'ENSG00000163739.4'),\n",
       "   ('ENSG00000054523.17', 'ENSG00000133800.8'),\n",
       "   ('ENSG00000054983.16', 'ENSG00000139194.7'),\n",
       "   ('ENSG00000055044.10', 'ENSG00000169136.10'),\n",
       "   ('ENSG00000055208.18', 'ENSG00000163739.4'),\n",
       "   ('ENSG00000055332.16', 'ENSG00000068976.13'),\n",
       "   ('ENSG00000055483.19', 'ENSG00000120738.7'),\n",
       "   ('ENSG00000055483.19', 'ENSG00000130203.9'),\n",
       "   ('ENSG00000055483.19', 'ENSG00000130208.9'),\n",
       "   ('ENSG00000055483.19', 'ENSG00000158874.11'),\n",
       "   ('ENSG00000055483.19', 'ENSG00000211947.2'),\n",
       "   ('ENSG00000055483.19', 'ENSG00000270550.1'),\n",
       "   ('ENSG00000057608.16', 'ENSG00000068976.13'),\n",
       "   ('ENSG00000057704.12', 'ENSG00000163739.4'),\n",
       "   ('ENSG00000058453.16', 'ENSG00000169136.10')])]"
      ]
     },
     "execution_count": 28,
     "metadata": {},
     "output_type": "execute_result"
    }
   ],
   "source": [
    "all_chunks[:2]"
   ]
  },
  {
   "cell_type": "code",
   "execution_count": 29,
   "id": "2a961167-6660-47bd-8beb-4e08de26bf05",
   "metadata": {
    "execution": {
     "iopub.execute_input": "2022-01-28T16:00:46.636989Z",
     "iopub.status.busy": "2022-01-28T16:00:46.636356Z",
     "iopub.status.idle": "2022-01-28T16:16:44.815256Z",
     "shell.execute_reply": "2022-01-28T16:16:44.814806Z"
    },
    "papermill": {
     "duration": 958.214754,
     "end_time": "2022-01-28T16:16:44.815354",
     "exception": false,
     "start_time": "2022-01-28T16:00:46.600600",
     "status": "completed"
    },
    "tags": []
   },
   "outputs": [
    {
     "name": "stderr",
     "output_type": "stream",
     "text": [
      "100%|█████████████████████████████████████████████████████████████| 330/330 [15:58<00:00,  2.90s/it]\n"
     ]
    }
   ],
   "source": [
    "all_results = defaultdict(list)\n",
    "\n",
    "with ProcessPoolExecutor(max_workers=conf.GENERAL[\"N_JOBS\"]) as executor:\n",
    "    tasks = {\n",
    "        executor.submit(_compute_mic, chunk): sample_id\n",
    "        for sample_id, chunk in all_chunks\n",
    "    }\n",
    "\n",
    "    pbar = tqdm(as_completed(tasks), total=len(all_chunks), ncols=100)\n",
    "\n",
    "    for future in pbar:\n",
    "        sample_id = tasks[future]\n",
    "        sample_file_mic = future.result()\n",
    "\n",
    "        all_results[sample_id].append(sample_file_mic)"
   ]
  },
  {
   "cell_type": "markdown",
   "id": "bd48badf-bfe2-41d1-85b8-c4d8a494b5cd",
   "metadata": {
    "papermill": {
     "duration": 0.111695,
     "end_time": "2022-01-28T16:16:45.038255",
     "exception": false,
     "start_time": "2022-01-28T16:16:44.926560",
     "status": "completed"
    },
    "tags": []
   },
   "source": [
    "# Save for each sample file"
   ]
  },
  {
   "cell_type": "code",
   "execution_count": 30,
   "id": "82b77d46-d4b5-4e02-91b9-acffb848332b",
   "metadata": {
    "execution": {
     "iopub.execute_input": "2022-01-28T16:16:45.280534Z",
     "iopub.status.busy": "2022-01-28T16:16:45.280044Z",
     "iopub.status.idle": "2022-01-28T16:16:45.543466Z",
     "shell.execute_reply": "2022-01-28T16:16:45.542869Z"
    },
    "papermill": {
     "duration": 0.393685,
     "end_time": "2022-01-28T16:16:45.543592",
     "exception": false,
     "start_time": "2022-01-28T16:16:45.149907",
     "status": "completed"
    },
    "tags": []
   },
   "outputs": [],
   "source": [
    "for sample_id in all_results.keys():\n",
    "    sample_file_all_results_df = pd.concat(all_results[sample_id]).sort_index()\n",
    "    assert not sample_file_all_results_df.isna().any()\n",
    "    sample_file_all_results_gene_pairs_set = set(sample_file_all_results_df.index)\n",
    "\n",
    "    # testing: load input gene pairs\n",
    "    sample_file_df = pd.read_pickle(\n",
    "        INPUT_GENE_PAIRS_FILE_TEMPLATE.format(sample_id=sample_id)\n",
    "    )\n",
    "    assert sample_file_df.drop_duplicates().shape[0] == sample_file_df.shape[0]\n",
    "\n",
    "    # testing: number of gene pairs are the same in input data and in results\n",
    "    assert sample_file_df.shape[0] == sample_file_all_results_df.shape[0]\n",
    "\n",
    "    # testing: make sure gene ids are the same in results as in input gene pairs\n",
    "    sample_file_gene_pairs_list = list(\n",
    "        sample_file_df.itertuples(index=False, name=None)\n",
    "    )\n",
    "    sample_file_gene_pairs_set = set(sample_file_gene_pairs_list)\n",
    "    assert len(sample_file_gene_pairs_set) == len(\n",
    "        sample_file_gene_pairs_set.intersection(sample_file_all_results_gene_pairs_set)\n",
    "    )\n",
    "\n",
    "    # save results with same order (in gene pairs) as input sample data\n",
    "    sample_file_all_results_df = sample_file_all_results_df.loc[\n",
    "        sample_file_gene_pairs_list\n",
    "    ]\n",
    "    sample_file_all_results_df.to_pickle(\n",
    "        OUTPUT_FILE_TEMPLATE.format(sample_id=sample_id)\n",
    "    )"
   ]
  },
  {
   "cell_type": "code",
   "execution_count": 31,
   "id": "9bc5931e-5cac-4f47-a46f-837e270c4ef4",
   "metadata": {
    "execution": {
     "iopub.execute_input": "2022-01-28T16:16:45.787545Z",
     "iopub.status.busy": "2022-01-28T16:16:45.787089Z",
     "iopub.status.idle": "2022-01-28T16:16:45.792545Z",
     "shell.execute_reply": "2022-01-28T16:16:45.792098Z"
    },
    "papermill": {
     "duration": 0.122698,
     "end_time": "2022-01-28T16:16:45.792642",
     "exception": false,
     "start_time": "2022-01-28T16:16:45.669944",
     "status": "completed"
    },
    "tags": []
   },
   "outputs": [
    {
     "data": {
      "text/plain": [
       "(32955,)"
      ]
     },
     "metadata": {},
     "output_type": "display_data"
    },
    {
     "data": {
      "text/plain": [
       "ENSG00000000419.12  ENSG00000068976.13    0.421551\n",
       "ENSG00000000938.12  ENSG00000068976.13    0.390896\n",
       "ENSG00000001167.14  ENSG00000163739.4     0.377681\n",
       "ENSG00000002586.18  ENSG00000169136.10    0.380579\n",
       "ENSG00000002834.17  ENSG00000068976.13    0.592999\n",
       "dtype: float64"
      ]
     },
     "metadata": {},
     "output_type": "display_data"
    }
   ],
   "source": [
    "# show how one result set looks like\n",
    "display(sample_file_all_results_df.shape)\n",
    "display(sample_file_all_results_df.head())"
   ]
  },
  {
   "cell_type": "code",
   "execution_count": null,
   "id": "86d4a81e-927e-4c3e-93d1-47df1931ad5a",
   "metadata": {
    "papermill": {
     "duration": 0.110425,
     "end_time": "2022-01-28T16:16:46.013836",
     "exception": false,
     "start_time": "2022-01-28T16:16:45.903411",
     "status": "completed"
    },
    "tags": []
   },
   "outputs": [],
   "source": []
  }
 ],
 "metadata": {
  "jupytext": {
   "cell_metadata_filter": "all,-execution,-papermill,-trusted"
  },
  "kernelspec": {
   "display_name": "Python 3 (ipykernel)",
   "language": "python",
   "name": "python3"
  },
  "language_info": {
   "codemirror_mode": {
    "name": "ipython",
    "version": 3
   },
   "file_extension": ".py",
   "mimetype": "text/x-python",
   "name": "python",
   "nbconvert_exporter": "python",
   "pygments_lexer": "ipython3",
   "version": "3.9.9"
  },
  "papermill": {
   "default_parameters": {},
   "duration": 965.057171,
   "end_time": "2022-01-28T16:16:46.450929",
   "environment_variables": {},
   "exception": null,
   "input_path": "nbs/20_comparison_others/05_07-gtex_whole_blood-sample_intersections-disagreements-mic.ipynb",
   "output_path": "nbs/20_comparison_others/05_07-gtex_whole_blood-sample_intersections-disagreements-mic.run.ipynb",
   "parameters": {},
   "start_time": "2022-01-28T16:00:41.393758",
   "version": "2.3.4"
  },
  "toc-autonumbering": true
 },
 "nbformat": 4,
 "nbformat_minor": 5
}
