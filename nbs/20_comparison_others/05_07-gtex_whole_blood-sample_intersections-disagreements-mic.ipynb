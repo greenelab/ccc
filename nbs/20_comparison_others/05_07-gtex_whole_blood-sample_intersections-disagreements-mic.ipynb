{
 "cells": [
  {
   "cell_type": "markdown",
   "id": "87e0ce1b-7ce6-4499-9342-5ded05307598",
   "metadata": {
    "papermill": {
     "duration": 0.059498,
     "end_time": "2022-01-27T19:06:50.995171",
     "exception": false,
     "start_time": "2022-01-27T19:06:50.935673",
     "status": "completed"
    },
    "tags": []
   },
   "source": [
    "# Description"
   ]
  },
  {
   "cell_type": "markdown",
   "id": "4bfc7115-350a-441b-9a19-7626a948a694",
   "metadata": {
    "papermill": {
     "duration": 0.022472,
     "end_time": "2022-01-27T19:06:51.040310",
     "exception": false,
     "start_time": "2022-01-27T19:06:51.017838",
     "status": "completed"
    },
    "tags": []
   },
   "source": [
    "TODO"
   ]
  },
  {
   "cell_type": "markdown",
   "id": "e020c781-238b-43c2-8cad-2722b8a240e2",
   "metadata": {
    "papermill": {
     "duration": 0.023298,
     "end_time": "2022-01-27T19:06:51.085720",
     "exception": false,
     "start_time": "2022-01-27T19:06:51.062422",
     "status": "completed"
    },
    "tags": []
   },
   "source": [
    "# Modules"
   ]
  },
  {
   "cell_type": "code",
   "execution_count": 1,
   "id": "a819bfbc-5009-4c68-ba8d-37d0979d368f",
   "metadata": {
    "execution": {
     "iopub.execute_input": "2022-01-27T19:06:51.138205Z",
     "iopub.status.busy": "2022-01-27T19:06:51.137747Z",
     "iopub.status.idle": "2022-01-27T19:06:51.369249Z",
     "shell.execute_reply": "2022-01-27T19:06:51.368688Z"
    },
    "papermill": {
     "duration": 0.260328,
     "end_time": "2022-01-27T19:06:51.369365",
     "exception": false,
     "start_time": "2022-01-27T19:06:51.109037",
     "status": "completed"
    },
    "tags": []
   },
   "outputs": [],
   "source": [
    "from pathlib import Path\n",
    "\n",
    "import pandas as pd\n",
    "import numpy as np\n",
    "\n",
    "from clustermatch import conf"
   ]
  },
  {
   "cell_type": "markdown",
   "id": "b4834387-58ff-468c-b326-85c408bc5feb",
   "metadata": {
    "papermill": {
     "duration": 0.02218,
     "end_time": "2022-01-27T19:06:51.415261",
     "exception": false,
     "start_time": "2022-01-27T19:06:51.393081",
     "status": "completed"
    },
    "tags": []
   },
   "source": [
    "# Settings"
   ]
  },
  {
   "cell_type": "code",
   "execution_count": 2,
   "id": "765e820a-4518-4bbc-a00f-14c9cea03821",
   "metadata": {
    "execution": {
     "iopub.execute_input": "2022-01-27T19:06:51.472684Z",
     "iopub.status.busy": "2022-01-27T19:06:51.472184Z",
     "iopub.status.idle": "2022-01-27T19:06:51.474034Z",
     "shell.execute_reply": "2022-01-27T19:06:51.473555Z"
    },
    "papermill": {
     "duration": 0.033399,
     "end_time": "2022-01-27T19:06:51.474138",
     "exception": false,
     "start_time": "2022-01-27T19:06:51.440739",
     "status": "completed"
    },
    "tags": []
   },
   "outputs": [],
   "source": [
    "DATASET_CONFIG = conf.GTEX\n",
    "GTEX_TISSUE = \"whole_blood\"\n",
    "GENE_SEL_STRATEGY = \"var_pc_log2\"\n",
    "\n",
    "METHOD_NAME = \"mic\""
   ]
  },
  {
   "cell_type": "code",
   "execution_count": 3,
   "id": "ca79812d-c519-408c-bea8-9fc177e71d72",
   "metadata": {
    "execution": {
     "iopub.execute_input": "2022-01-27T19:06:51.525652Z",
     "iopub.status.busy": "2022-01-27T19:06:51.525217Z",
     "iopub.status.idle": "2022-01-27T19:06:51.526827Z",
     "shell.execute_reply": "2022-01-27T19:06:51.527164Z"
    },
    "papermill": {
     "duration": 0.027762,
     "end_time": "2022-01-27T19:06:51.527295",
     "exception": false,
     "start_time": "2022-01-27T19:06:51.499533",
     "status": "completed"
    },
    "tags": [
     "parameters"
    ]
   },
   "outputs": [],
   "source": [
    "# this cell has the \"parameters\" tag\n",
    "\n",
    "# size of gene pair groups to process in parallel\n",
    "CHUNK_SIZE = 100"
   ]
  },
  {
   "cell_type": "markdown",
   "id": "a1159982-5dd1-4494-97d4-0674eeead1c3",
   "metadata": {
    "papermill": {
     "duration": 0.022757,
     "end_time": "2022-01-27T19:06:51.573924",
     "exception": false,
     "start_time": "2022-01-27T19:06:51.551167",
     "status": "completed"
    },
    "tags": []
   },
   "source": [
    "# Paths"
   ]
  },
  {
   "cell_type": "code",
   "execution_count": 4,
   "id": "c6f73068-fa38-44be-bd0c-708f6ff450ea",
   "metadata": {
    "execution": {
     "iopub.execute_input": "2022-01-27T19:06:51.627372Z",
     "iopub.status.busy": "2022-01-27T19:06:51.621186Z",
     "iopub.status.idle": "2022-01-27T19:06:51.632090Z",
     "shell.execute_reply": "2022-01-27T19:06:51.631577Z"
    },
    "papermill": {
     "duration": 0.035436,
     "end_time": "2022-01-27T19:06:51.632184",
     "exception": false,
     "start_time": "2022-01-27T19:06:51.596748",
     "status": "completed"
    },
    "tags": []
   },
   "outputs": [
    {
     "data": {
      "text/plain": [
       "PosixPath('/opt/data/results/gtex_v8/gene_selection/gtex_v8_data_whole_blood-var_pc_log2.pkl')"
      ]
     },
     "metadata": {},
     "output_type": "display_data"
    }
   ],
   "source": [
    "INPUT_GENE_EXPR_FILE = (\n",
    "    DATASET_CONFIG[\"GENE_SELECTION_DIR\"]\n",
    "    / f\"gtex_v8_data_{GTEX_TISSUE}-{GENE_SEL_STRATEGY}.pkl\"\n",
    ")\n",
    "display(INPUT_GENE_EXPR_FILE)\n",
    "\n",
    "assert INPUT_GENE_EXPR_FILE.exists()"
   ]
  },
  {
   "cell_type": "code",
   "execution_count": 5,
   "id": "1ed73618-a3ab-4f62-8731-67c9726fd1a8",
   "metadata": {
    "execution": {
     "iopub.execute_input": "2022-01-27T19:06:51.683813Z",
     "iopub.status.busy": "2022-01-27T19:06:51.683314Z",
     "iopub.status.idle": "2022-01-27T19:06:51.685371Z",
     "shell.execute_reply": "2022-01-27T19:06:51.685784Z"
    },
    "papermill": {
     "duration": 0.029591,
     "end_time": "2022-01-27T19:06:51.685900",
     "exception": false,
     "start_time": "2022-01-27T19:06:51.656309",
     "status": "completed"
    },
    "tags": []
   },
   "outputs": [
    {
     "data": {
      "text/plain": [
       "PosixPath('/opt/data/results/gtex_v8/gene_pair_intersections/gene_pair_intersections-gtex_v8-whole_blood-var_pc_log2.pkl')"
      ]
     },
     "metadata": {},
     "output_type": "display_data"
    }
   ],
   "source": [
    "GENE_PAIRS_FILE_SUFFIX = (\n",
    "    DATASET_CONFIG[\"GENE_PAIR_INTERSECTIONS\"]\n",
    "    / f\"gene_pair_intersections-gtex_v8-{GTEX_TISSUE}-{GENE_SEL_STRATEGY}.pkl\"\n",
    ")\n",
    "display(GENE_PAIRS_FILE_SUFFIX)\n",
    "\n",
    "assert GENE_PAIRS_FILE_SUFFIX.exists()"
   ]
  },
  {
   "cell_type": "code",
   "execution_count": 6,
   "id": "24757228-be05-43e0-8057-831135a5da17",
   "metadata": {
    "execution": {
     "iopub.execute_input": "2022-01-27T19:06:51.737627Z",
     "iopub.status.busy": "2022-01-27T19:06:51.736935Z",
     "iopub.status.idle": "2022-01-27T19:06:51.740143Z",
     "shell.execute_reply": "2022-01-27T19:06:51.739668Z"
    },
    "papermill": {
     "duration": 0.030065,
     "end_time": "2022-01-27T19:06:51.740253",
     "exception": false,
     "start_time": "2022-01-27T19:06:51.710188",
     "status": "completed"
    },
    "tags": []
   },
   "outputs": [
    {
     "data": {
      "text/plain": [
       "PosixPath('/opt/data/results/gtex_v8/gene_pair_intersections/samples')"
      ]
     },
     "metadata": {},
     "output_type": "display_data"
    }
   ],
   "source": [
    "INPUT_DIR = GENE_PAIRS_FILE_SUFFIX.parent / \"samples\"\n",
    "display(INPUT_DIR)"
   ]
  },
  {
   "cell_type": "code",
   "execution_count": 7,
   "id": "a088c4ad-71ac-43f3-b58a-678fefb55117",
   "metadata": {
    "execution": {
     "iopub.execute_input": "2022-01-27T19:06:51.793340Z",
     "iopub.status.busy": "2022-01-27T19:06:51.792805Z",
     "iopub.status.idle": "2022-01-27T19:06:51.796581Z",
     "shell.execute_reply": "2022-01-27T19:06:51.796192Z"
    },
    "papermill": {
     "duration": 0.031472,
     "end_time": "2022-01-27T19:06:51.796678",
     "exception": false,
     "start_time": "2022-01-27T19:06:51.765206",
     "status": "completed"
    },
    "tags": []
   },
   "outputs": [
    {
     "data": {
      "text/plain": [
       "PosixPath('/opt/data/results/gtex_v8/gene_pair_intersections/samples/gene_pair_intersections-gtex_v8-whole_blood-var_pc_log2-disagreements_sample_{sample_id}.pkl')"
      ]
     },
     "metadata": {},
     "output_type": "display_data"
    },
    {
     "data": {
      "text/plain": [
       "'/opt/data/results/gtex_v8/gene_pair_intersections/samples/gene_pair_intersections-gtex_v8-whole_blood-var_pc_log2-disagreements_sample_{sample_id}.pkl'"
      ]
     },
     "metadata": {},
     "output_type": "display_data"
    }
   ],
   "source": [
    "INPUT_GENE_PAIRS_FILE = INPUT_DIR / (\n",
    "    f\"{GENE_PAIRS_FILE_SUFFIX.stem}-disagreements_sample_\" + \"{sample_id}\" + \".pkl\"\n",
    ")\n",
    "display(INPUT_GENE_PAIRS_FILE)\n",
    "\n",
    "INPUT_GENE_PAIRS_FILE_TEMPLATE = str(INPUT_GENE_PAIRS_FILE)\n",
    "display(INPUT_GENE_PAIRS_FILE_TEMPLATE)"
   ]
  },
  {
   "cell_type": "code",
   "execution_count": 8,
   "id": "7e6dbf37-ad3a-4f73-a4a7-89275d6f00bc",
   "metadata": {
    "execution": {
     "iopub.execute_input": "2022-01-27T19:06:51.849949Z",
     "iopub.status.busy": "2022-01-27T19:06:51.849063Z",
     "iopub.status.idle": "2022-01-27T19:06:51.853150Z",
     "shell.execute_reply": "2022-01-27T19:06:51.852715Z"
    },
    "papermill": {
     "duration": 0.031746,
     "end_time": "2022-01-27T19:06:51.853243",
     "exception": false,
     "start_time": "2022-01-27T19:06:51.821497",
     "status": "completed"
    },
    "tags": []
   },
   "outputs": [
    {
     "data": {
      "text/plain": [
       "PosixPath('/opt/data/results/gtex_v8/comparison_others/mic')"
      ]
     },
     "metadata": {},
     "output_type": "display_data"
    }
   ],
   "source": [
    "OUTPUT_DIR = DATASET_CONFIG[\"RESULTS_DIR\"] / \"comparison_others\" / METHOD_NAME\n",
    "OUTPUT_DIR.mkdir(parents=True, exist_ok=True)\n",
    "display(OUTPUT_DIR)"
   ]
  },
  {
   "cell_type": "code",
   "execution_count": 9,
   "id": "f4468c0e-c0ad-4bf5-b120-3f63e7afc33f",
   "metadata": {
    "execution": {
     "iopub.execute_input": "2022-01-27T19:06:51.908464Z",
     "iopub.status.busy": "2022-01-27T19:06:51.907816Z",
     "iopub.status.idle": "2022-01-27T19:06:51.910126Z",
     "shell.execute_reply": "2022-01-27T19:06:51.910492Z"
    },
    "papermill": {
     "duration": 0.032089,
     "end_time": "2022-01-27T19:06:51.910654",
     "exception": false,
     "start_time": "2022-01-27T19:06:51.878565",
     "status": "completed"
    },
    "tags": []
   },
   "outputs": [
    {
     "data": {
      "text/plain": [
       "'/opt/data/results/gtex_v8/comparison_others/mic/gene_pair_intersections-gtex_v8-whole_blood-var_pc_log2-disagreements_sample_{sample_id}-mic.pkl'"
      ]
     },
     "metadata": {},
     "output_type": "display_data"
    }
   ],
   "source": [
    "OUTPUT_FILE_TEMPLATE = str(\n",
    "    OUTPUT_DIR / (INPUT_GENE_PAIRS_FILE.name[:-4] + f\"-{METHOD_NAME}.pkl\")\n",
    ")\n",
    "\n",
    "display(OUTPUT_FILE_TEMPLATE)"
   ]
  },
  {
   "cell_type": "markdown",
   "id": "f6d3322b-c8bb-4fc2-97b6-5bb1793b1577",
   "metadata": {
    "papermill": {
     "duration": 0.025107,
     "end_time": "2022-01-27T19:06:51.961576",
     "exception": false,
     "start_time": "2022-01-27T19:06:51.936469",
     "status": "completed"
    },
    "tags": []
   },
   "source": [
    "# Data"
   ]
  },
  {
   "cell_type": "markdown",
   "id": "0aa486d7-b624-4d20-a730-a9eb224bef6a",
   "metadata": {
    "papermill": {
     "duration": 0.025682,
     "end_time": "2022-01-27T19:06:52.012725",
     "exception": false,
     "start_time": "2022-01-27T19:06:51.987043",
     "status": "completed"
    },
    "tags": []
   },
   "source": [
    "## Gene expression"
   ]
  },
  {
   "cell_type": "code",
   "execution_count": 10,
   "id": "f73ca2b7-f7ff-47bc-90b0-32e0cfdb5ea6",
   "metadata": {
    "execution": {
     "iopub.execute_input": "2022-01-27T19:06:52.067269Z",
     "iopub.status.busy": "2022-01-27T19:06:52.066808Z",
     "iopub.status.idle": "2022-01-27T19:06:52.229586Z",
     "shell.execute_reply": "2022-01-27T19:06:52.229041Z"
    },
    "papermill": {
     "duration": 0.191632,
     "end_time": "2022-01-27T19:06:52.229713",
     "exception": false,
     "start_time": "2022-01-27T19:06:52.038081",
     "status": "completed"
    },
    "tags": []
   },
   "outputs": [],
   "source": [
    "gene_expr_dict = pd.read_pickle(INPUT_GENE_EXPR_FILE).T.to_dict(orient=\"series\")"
   ]
  },
  {
   "cell_type": "code",
   "execution_count": 11,
   "id": "3cba499a-e737-4da2-9841-f9a03719b3aa",
   "metadata": {
    "execution": {
     "iopub.execute_input": "2022-01-27T19:06:52.294476Z",
     "iopub.status.busy": "2022-01-27T19:06:52.293966Z",
     "iopub.status.idle": "2022-01-27T19:06:52.296681Z",
     "shell.execute_reply": "2022-01-27T19:06:52.296269Z"
    },
    "papermill": {
     "duration": 0.034199,
     "end_time": "2022-01-27T19:06:52.296776",
     "exception": false,
     "start_time": "2022-01-27T19:06:52.262577",
     "status": "completed"
    },
    "tags": []
   },
   "outputs": [
    {
     "data": {
      "text/plain": [
       "5000"
      ]
     },
     "execution_count": 11,
     "metadata": {},
     "output_type": "execute_result"
    }
   ],
   "source": [
    "len(gene_expr_dict)"
   ]
  },
  {
   "cell_type": "code",
   "execution_count": 12,
   "id": "df66fe70-9fe9-4351-9d30-f8dcc97725de",
   "metadata": {
    "execution": {
     "iopub.execute_input": "2022-01-27T19:06:52.354679Z",
     "iopub.status.busy": "2022-01-27T19:06:52.354167Z",
     "iopub.status.idle": "2022-01-27T19:06:52.356943Z",
     "shell.execute_reply": "2022-01-27T19:06:52.356559Z"
    },
    "papermill": {
     "duration": 0.03419,
     "end_time": "2022-01-27T19:06:52.357039",
     "exception": false,
     "start_time": "2022-01-27T19:06:52.322849",
     "status": "completed"
    },
    "tags": []
   },
   "outputs": [
    {
     "data": {
      "text/plain": [
       "GTEX-111YS-0006-SM-5NQBE       0.5623\n",
       "GTEX-1122O-0005-SM-5O99J       0.8067\n",
       "GTEX-1128S-0005-SM-5P9HI     116.9000\n",
       "GTEX-113IC-0006-SM-5NQ9C       4.0470\n",
       "GTEX-113JC-0006-SM-5O997     211.0000\n",
       "                              ...    \n",
       "GTEX-ZVTK-0006-SM-57WBK     1626.0000\n",
       "GTEX-ZVZP-0006-SM-51MSW        0.5633\n",
       "GTEX-ZVZQ-0006-SM-51MR8      515.7000\n",
       "GTEX-ZXES-0005-SM-57WCB        1.1940\n",
       "GTEX-ZXG5-0005-SM-57WCN     1163.0000\n",
       "Name: ENSG00000169429.10, Length: 755, dtype: float64"
      ]
     },
     "execution_count": 12,
     "metadata": {},
     "output_type": "execute_result"
    }
   ],
   "source": [
    "gene_expr_dict[list(gene_expr_dict.keys())[0]]"
   ]
  },
  {
   "cell_type": "markdown",
   "id": "b030f506-2fe9-4895-a8a1-51374e88c496",
   "metadata": {
    "papermill": {
     "duration": 0.026463,
     "end_time": "2022-01-27T19:06:52.410441",
     "exception": false,
     "start_time": "2022-01-27T19:06:52.383978",
     "status": "completed"
    },
    "tags": []
   },
   "source": [
    "## Gene pairs intersection"
   ]
  },
  {
   "cell_type": "code",
   "execution_count": 13,
   "id": "da1d768a-fbfb-40e8-8fbb-790d1a94aa83",
   "metadata": {
    "execution": {
     "iopub.execute_input": "2022-01-27T19:06:52.474315Z",
     "iopub.status.busy": "2022-01-27T19:06:52.473824Z",
     "iopub.status.idle": "2022-01-27T19:06:52.475355Z",
     "shell.execute_reply": "2022-01-27T19:06:52.475729Z"
    },
    "papermill": {
     "duration": 0.037666,
     "end_time": "2022-01-27T19:06:52.475858",
     "exception": false,
     "start_time": "2022-01-27T19:06:52.438192",
     "status": "completed"
    },
    "tags": []
   },
   "outputs": [],
   "source": [
    "# intersections = pd.read_pickle(INPUT_GENE_PAIRS_INTERSECTIONS_FILE)"
   ]
  },
  {
   "cell_type": "code",
   "execution_count": 14,
   "id": "6123d474-0c0d-4771-9678-248ce89424ce",
   "metadata": {
    "execution": {
     "iopub.execute_input": "2022-01-27T19:06:52.533402Z",
     "iopub.status.busy": "2022-01-27T19:06:52.532956Z",
     "iopub.status.idle": "2022-01-27T19:06:52.534732Z",
     "shell.execute_reply": "2022-01-27T19:06:52.535075Z"
    },
    "papermill": {
     "duration": 0.031287,
     "end_time": "2022-01-27T19:06:52.535192",
     "exception": false,
     "start_time": "2022-01-27T19:06:52.503905",
     "status": "completed"
    },
    "tags": []
   },
   "outputs": [],
   "source": [
    "# len(intersections)"
   ]
  },
  {
   "cell_type": "code",
   "execution_count": 15,
   "id": "1b817194-a9c3-4f53-8d0f-1ee8faa36bfe",
   "metadata": {
    "execution": {
     "iopub.execute_input": "2022-01-27T19:06:52.591726Z",
     "iopub.status.busy": "2022-01-27T19:06:52.591291Z",
     "iopub.status.idle": "2022-01-27T19:06:52.592906Z",
     "shell.execute_reply": "2022-01-27T19:06:52.593245Z"
    },
    "papermill": {
     "duration": 0.03157,
     "end_time": "2022-01-27T19:06:52.593360",
     "exception": false,
     "start_time": "2022-01-27T19:06:52.561790",
     "status": "completed"
    },
    "tags": []
   },
   "outputs": [],
   "source": [
    "# intersections[\"Clustermatch (high), Pearson (high), Spearman (high)\"]"
   ]
  },
  {
   "cell_type": "markdown",
   "id": "9e1b78f3-8f43-411a-acb7-4646b4979034",
   "metadata": {
    "papermill": {
     "duration": 0.026332,
     "end_time": "2022-01-27T19:06:52.647423",
     "exception": false,
     "start_time": "2022-01-27T19:06:52.621091",
     "status": "completed"
    },
    "tags": []
   },
   "source": [
    "# Compute Maximal Information Coefficient (MIC)"
   ]
  },
  {
   "cell_type": "markdown",
   "id": "f31225f0-ce8b-48aa-97a6-d69afcb8732a",
   "metadata": {
    "papermill": {
     "duration": 0.027284,
     "end_time": "2022-01-27T19:06:52.701002",
     "exception": false,
     "start_time": "2022-01-27T19:06:52.673718",
     "status": "completed"
    },
    "tags": []
   },
   "source": [
    "## Functions"
   ]
  },
  {
   "cell_type": "code",
   "execution_count": 16,
   "id": "1851477c-1c94-456d-949b-012b8984a434",
   "metadata": {
    "execution": {
     "iopub.execute_input": "2022-01-27T19:06:52.757191Z",
     "iopub.status.busy": "2022-01-27T19:06:52.756734Z",
     "iopub.status.idle": "2022-01-27T19:06:52.974025Z",
     "shell.execute_reply": "2022-01-27T19:06:52.973570Z"
    },
    "papermill": {
     "duration": 0.246883,
     "end_time": "2022-01-27T19:06:52.974121",
     "exception": false,
     "start_time": "2022-01-27T19:06:52.727238",
     "status": "completed"
    },
    "tags": []
   },
   "outputs": [],
   "source": [
    "import warnings\n",
    "from sklearn.metrics import pairwise_distances\n",
    "from minepy.mine import MINE"
   ]
  },
  {
   "cell_type": "code",
   "execution_count": 17,
   "id": "0adf1172-acc5-4c35-a3ab-aed6de9770c4",
   "metadata": {
    "execution": {
     "iopub.execute_input": "2022-01-27T19:06:53.033873Z",
     "iopub.status.busy": "2022-01-27T19:06:53.033396Z",
     "iopub.status.idle": "2022-01-27T19:06:53.035776Z",
     "shell.execute_reply": "2022-01-27T19:06:53.035328Z"
    },
    "papermill": {
     "duration": 0.033984,
     "end_time": "2022-01-27T19:06:53.035893",
     "exception": false,
     "start_time": "2022-01-27T19:06:53.001909",
     "status": "completed"
    },
    "tags": []
   },
   "outputs": [],
   "source": [
    "def _mic(x, y):\n",
    "    \"\"\"\n",
    "    FIXME: move to library\n",
    "    \"\"\"\n",
    "    with warnings.catch_warnings():\n",
    "        warnings.filterwarnings(\"ignore\", category=DeprecationWarning)\n",
    "\n",
    "        mine = MINE(alpha=0.6, c=15, est=\"mic_approx\")\n",
    "        mine.compute_score(x, y)\n",
    "        return mine.mic()"
   ]
  },
  {
   "cell_type": "code",
   "execution_count": 18,
   "id": "cd837842-665d-4214-affe-af9c951bd154",
   "metadata": {
    "execution": {
     "iopub.execute_input": "2022-01-27T19:06:53.095342Z",
     "iopub.status.busy": "2022-01-27T19:06:53.094768Z",
     "iopub.status.idle": "2022-01-27T19:06:53.096916Z",
     "shell.execute_reply": "2022-01-27T19:06:53.097268Z"
    },
    "papermill": {
     "duration": 0.034128,
     "end_time": "2022-01-27T19:06:53.097389",
     "exception": false,
     "start_time": "2022-01-27T19:06:53.063261",
     "status": "completed"
    },
    "tags": []
   },
   "outputs": [
    {
     "data": {
      "text/plain": [
       "0.3958156020033588"
      ]
     },
     "execution_count": 18,
     "metadata": {},
     "output_type": "execute_result"
    }
   ],
   "source": [
    "_mic(np.random.rand(10), np.random.rand(10))"
   ]
  },
  {
   "cell_type": "markdown",
   "id": "b9a14ad1-ffd2-4b16-98b2-658634dccd21",
   "metadata": {
    "papermill": {
     "duration": 0.026867,
     "end_time": "2022-01-27T19:06:53.153053",
     "exception": false,
     "start_time": "2022-01-27T19:06:53.126186",
     "status": "completed"
    },
    "tags": []
   },
   "source": [
    "## Get all sample files"
   ]
  },
  {
   "cell_type": "code",
   "execution_count": 19,
   "id": "022f616c-3dd2-47f8-9360-286d1dc08bab",
   "metadata": {
    "execution": {
     "iopub.execute_input": "2022-01-27T19:06:53.211803Z",
     "iopub.status.busy": "2022-01-27T19:06:53.211337Z",
     "iopub.status.idle": "2022-01-27T19:06:53.212982Z",
     "shell.execute_reply": "2022-01-27T19:06:53.213393Z"
    },
    "papermill": {
     "duration": 0.033511,
     "end_time": "2022-01-27T19:06:53.213506",
     "exception": false,
     "start_time": "2022-01-27T19:06:53.179995",
     "status": "completed"
    },
    "tags": []
   },
   "outputs": [],
   "source": [
    "all_sample_files = []\n",
    "\n",
    "sample_id = 0\n",
    "sample_file = Path(INPUT_GENE_PAIRS_FILE_TEMPLATE.format(sample_id=sample_id))\n",
    "\n",
    "while sample_file.exists():\n",
    "    all_sample_files.append((sample_id, sample_file))\n",
    "\n",
    "    sample_id += 1\n",
    "    sample_file = Path(INPUT_GENE_PAIRS_FILE_TEMPLATE.format(sample_id=sample_id))"
   ]
  },
  {
   "cell_type": "code",
   "execution_count": 20,
   "id": "f0af34fd-19ac-4d74-a3e4-399f70c049ac",
   "metadata": {
    "execution": {
     "iopub.execute_input": "2022-01-27T19:06:53.271229Z",
     "iopub.status.busy": "2022-01-27T19:06:53.270771Z",
     "iopub.status.idle": "2022-01-27T19:06:53.272288Z",
     "shell.execute_reply": "2022-01-27T19:06:53.272653Z"
    },
    "papermill": {
     "duration": 0.031761,
     "end_time": "2022-01-27T19:06:53.272765",
     "exception": false,
     "start_time": "2022-01-27T19:06:53.241004",
     "status": "completed"
    },
    "tags": []
   },
   "outputs": [],
   "source": [
    "# all_sample_files = sorted(\n",
    "#     list(\n",
    "#         INPUT_GENE_PAIRS_FILE.parent.glob(INPUT_GENE_PAIRS_FILE.name.format(sample_id=\"*\"))\n",
    "#     )\n",
    "# )"
   ]
  },
  {
   "cell_type": "code",
   "execution_count": 21,
   "id": "4f169abf-2009-482c-9df3-b502c4f56641",
   "metadata": {
    "execution": {
     "iopub.execute_input": "2022-01-27T19:06:53.331630Z",
     "iopub.status.busy": "2022-01-27T19:06:53.331148Z",
     "iopub.status.idle": "2022-01-27T19:06:53.334107Z",
     "shell.execute_reply": "2022-01-27T19:06:53.333658Z"
    },
    "papermill": {
     "duration": 0.033142,
     "end_time": "2022-01-27T19:06:53.334201",
     "exception": false,
     "start_time": "2022-01-27T19:06:53.301059",
     "status": "completed"
    },
    "tags": []
   },
   "outputs": [
    {
     "data": {
      "text/plain": [
       "1"
      ]
     },
     "execution_count": 21,
     "metadata": {},
     "output_type": "execute_result"
    }
   ],
   "source": [
    "len(all_sample_files)"
   ]
  },
  {
   "cell_type": "code",
   "execution_count": 22,
   "id": "f49ac615-436b-4abc-8f72-06f50907c70d",
   "metadata": {
    "execution": {
     "iopub.execute_input": "2022-01-27T19:06:53.394898Z",
     "iopub.status.busy": "2022-01-27T19:06:53.394264Z",
     "iopub.status.idle": "2022-01-27T19:06:53.396629Z",
     "shell.execute_reply": "2022-01-27T19:06:53.396996Z"
    },
    "papermill": {
     "duration": 0.034143,
     "end_time": "2022-01-27T19:06:53.397112",
     "exception": false,
     "start_time": "2022-01-27T19:06:53.362969",
     "status": "completed"
    },
    "tags": []
   },
   "outputs": [
    {
     "data": {
      "text/plain": [
       "[(0,\n",
       "  PosixPath('/opt/data/results/gtex_v8/gene_pair_intersections/samples/gene_pair_intersections-gtex_v8-whole_blood-var_pc_log2-disagreements_sample_0.pkl'))]"
      ]
     },
     "execution_count": 22,
     "metadata": {},
     "output_type": "execute_result"
    }
   ],
   "source": [
    "all_sample_files[:3]"
   ]
  },
  {
   "cell_type": "markdown",
   "id": "96315853-ea9d-4417-b224-31b3bbdf7553",
   "metadata": {
    "papermill": {
     "duration": 0.033475,
     "end_time": "2022-01-27T19:06:53.458793",
     "exception": false,
     "start_time": "2022-01-27T19:06:53.425318",
     "status": "completed"
    },
    "tags": []
   },
   "source": [
    "## Run"
   ]
  },
  {
   "cell_type": "code",
   "execution_count": 23,
   "id": "0f516a3e-0f64-42d3-b32d-9de6563b2df4",
   "metadata": {
    "execution": {
     "iopub.execute_input": "2022-01-27T19:06:53.523427Z",
     "iopub.status.busy": "2022-01-27T19:06:53.522981Z",
     "iopub.status.idle": "2022-01-27T19:06:53.547403Z",
     "shell.execute_reply": "2022-01-27T19:06:53.546880Z"
    },
    "papermill": {
     "duration": 0.056876,
     "end_time": "2022-01-27T19:06:53.547505",
     "exception": false,
     "start_time": "2022-01-27T19:06:53.490629",
     "status": "completed"
    },
    "tags": []
   },
   "outputs": [],
   "source": [
    "from concurrent.futures import ProcessPoolExecutor, as_completed\n",
    "from collections import defaultdict\n",
    "\n",
    "from tqdm import tqdm\n",
    "\n",
    "from clustermatch.utils import chunker"
   ]
  },
  {
   "cell_type": "code",
   "execution_count": 24,
   "id": "f2d70e9a-42df-483a-86d2-7fb59f425166",
   "metadata": {
    "execution": {
     "iopub.execute_input": "2022-01-27T19:06:53.609655Z",
     "iopub.status.busy": "2022-01-27T19:06:53.609094Z",
     "iopub.status.idle": "2022-01-27T19:06:53.611498Z",
     "shell.execute_reply": "2022-01-27T19:06:53.611109Z"
    },
    "papermill": {
     "duration": 0.034883,
     "end_time": "2022-01-27T19:06:53.611592",
     "exception": false,
     "start_time": "2022-01-27T19:06:53.576709",
     "status": "completed"
    },
    "tags": []
   },
   "outputs": [],
   "source": [
    "def _compute_mic(gene_sets: list):\n",
    "    res = [\n",
    "        _mic(gene_expr_dict[gs[0]].to_numpy(), gene_expr_dict[gs[1]].to_numpy())\n",
    "        for gs in gene_sets\n",
    "    ]\n",
    "\n",
    "    return pd.Series(res, index=pd.MultiIndex.from_tuples(gene_sets))"
   ]
  },
  {
   "cell_type": "code",
   "execution_count": 25,
   "id": "3a16f0f9-9af0-49a4-a293-f51f58f46de3",
   "metadata": {
    "execution": {
     "iopub.execute_input": "2022-01-27T19:06:53.672567Z",
     "iopub.status.busy": "2022-01-27T19:06:53.672091Z",
     "iopub.status.idle": "2022-01-27T19:06:54.518320Z",
     "shell.execute_reply": "2022-01-27T19:06:54.517871Z"
    },
    "papermill": {
     "duration": 0.877951,
     "end_time": "2022-01-27T19:06:54.518417",
     "exception": false,
     "start_time": "2022-01-27T19:06:53.640466",
     "status": "completed"
    },
    "tags": []
   },
   "outputs": [
    {
     "data": {
      "text/html": [
       "<div>\n",
       "<style scoped>\n",
       "    .dataframe tbody tr th:only-of-type {\n",
       "        vertical-align: middle;\n",
       "    }\n",
       "\n",
       "    .dataframe tbody tr th {\n",
       "        vertical-align: top;\n",
       "    }\n",
       "\n",
       "    .dataframe thead th {\n",
       "        text-align: right;\n",
       "    }\n",
       "</style>\n",
       "<table border=\"1\" class=\"dataframe\">\n",
       "  <thead>\n",
       "    <tr style=\"text-align: right;\">\n",
       "      <th></th>\n",
       "      <th>gene0</th>\n",
       "      <th>gene1</th>\n",
       "    </tr>\n",
       "  </thead>\n",
       "  <tbody>\n",
       "    <tr>\n",
       "      <th>1283</th>\n",
       "      <td>ENSG00000081041.8</td>\n",
       "      <td>ENSG00000234436.1</td>\n",
       "    </tr>\n",
       "    <tr>\n",
       "      <th>385</th>\n",
       "      <td>ENSG00000187474.4</td>\n",
       "      <td>ENSG00000129538.13</td>\n",
       "    </tr>\n",
       "    <tr>\n",
       "      <th>2696</th>\n",
       "      <td>ENSG00000105697.7</td>\n",
       "      <td>ENSG00000180644.7</td>\n",
       "    </tr>\n",
       "    <tr>\n",
       "      <th>6874</th>\n",
       "      <td>ENSG00000135451.12</td>\n",
       "      <td>ENSG00000163631.16</td>\n",
       "    </tr>\n",
       "    <tr>\n",
       "      <th>15120</th>\n",
       "      <td>ENSG00000198879.11</td>\n",
       "      <td>ENSG00000115009.11</td>\n",
       "    </tr>\n",
       "    <tr>\n",
       "      <th>6198</th>\n",
       "      <td>ENSG00000172482.4</td>\n",
       "      <td>ENSG00000135245.9</td>\n",
       "    </tr>\n",
       "    <tr>\n",
       "      <th>1883</th>\n",
       "      <td>ENSG00000100600.14</td>\n",
       "      <td>ENSG00000143570.17</td>\n",
       "    </tr>\n",
       "    <tr>\n",
       "      <th>3380</th>\n",
       "      <td>ENSG00000111057.10</td>\n",
       "      <td>ENSG00000231389.7</td>\n",
       "    </tr>\n",
       "    <tr>\n",
       "      <th>8328</th>\n",
       "      <td>ENSG00000144635.8</td>\n",
       "      <td>ENSG00000111537.4</td>\n",
       "    </tr>\n",
       "    <tr>\n",
       "      <th>20812</th>\n",
       "      <td>ENSG00000279862.1</td>\n",
       "      <td>ENSG00000145321.12</td>\n",
       "    </tr>\n",
       "  </tbody>\n",
       "</table>\n",
       "</div>"
      ],
      "text/plain": [
       "                    gene0               gene1\n",
       "1283    ENSG00000081041.8   ENSG00000234436.1\n",
       "385     ENSG00000187474.4  ENSG00000129538.13\n",
       "2696    ENSG00000105697.7   ENSG00000180644.7\n",
       "6874   ENSG00000135451.12  ENSG00000163631.16\n",
       "15120  ENSG00000198879.11  ENSG00000115009.11\n",
       "6198    ENSG00000172482.4   ENSG00000135245.9\n",
       "1883   ENSG00000100600.14  ENSG00000143570.17\n",
       "3380   ENSG00000111057.10   ENSG00000231389.7\n",
       "8328    ENSG00000144635.8   ENSG00000111537.4\n",
       "20812   ENSG00000279862.1  ENSG00000145321.12"
      ]
     },
     "metadata": {},
     "output_type": "display_data"
    },
    {
     "data": {
      "text/plain": [
       "(10,)"
      ]
     },
     "metadata": {},
     "output_type": "display_data"
    },
    {
     "data": {
      "text/plain": [
       "ENSG00000081041.8   ENSG00000234436.1     0.319607\n",
       "ENSG00000187474.4   ENSG00000129538.13    0.157471\n",
       "ENSG00000105697.7   ENSG00000180644.7     0.363438\n",
       "ENSG00000135451.12  ENSG00000163631.16    0.362969\n",
       "ENSG00000198879.11  ENSG00000115009.11    0.336356\n",
       "dtype: float64"
      ]
     },
     "metadata": {},
     "output_type": "display_data"
    }
   ],
   "source": [
    "# testing\n",
    "# gene_set_key = \"Clustermatch (high), Pearson (high), Spearman (high)\"\n",
    "gene_set = pd.read_pickle(all_sample_files[0][1]).sample(n=10)\n",
    "display(gene_set)\n",
    "\n",
    "_res = _compute_mic(list(gene_set.itertuples(index=False)))\n",
    "display(_res.shape)\n",
    "display(_res.head())\n",
    "\n",
    "# make sure order is preserved\n",
    "assert _res.index.to_list() == list(gene_set.itertuples(index=False, name=None))"
   ]
  },
  {
   "cell_type": "code",
   "execution_count": 26,
   "id": "df927e8f-203d-41df-a5f1-25d6c9a43d53",
   "metadata": {
    "execution": {
     "iopub.execute_input": "2022-01-27T19:06:54.581541Z",
     "iopub.status.busy": "2022-01-27T19:06:54.581058Z",
     "iopub.status.idle": "2022-01-27T19:06:54.594578Z",
     "shell.execute_reply": "2022-01-27T19:06:54.594131Z"
    },
    "papermill": {
     "duration": 0.046872,
     "end_time": "2022-01-27T19:06:54.594675",
     "exception": false,
     "start_time": "2022-01-27T19:06:54.547803",
     "status": "completed"
    },
    "tags": []
   },
   "outputs": [],
   "source": [
    "all_chunks = []\n",
    "\n",
    "for (sample_id, sample_file) in all_sample_files:\n",
    "    gene_pairs_df = pd.read_pickle(sample_file)\n",
    "    gene_pairs_subset = list(gene_pairs_df.itertuples(index=False, name=None))\n",
    "\n",
    "    for chunk in list(chunker(gene_pairs_subset, CHUNK_SIZE)):\n",
    "        all_chunks.append((sample_id, chunk))"
   ]
  },
  {
   "cell_type": "code",
   "execution_count": 27,
   "id": "3ba05517-1b61-40ee-8333-17e1a2088de9",
   "metadata": {
    "execution": {
     "iopub.execute_input": "2022-01-27T19:06:54.658679Z",
     "iopub.status.busy": "2022-01-27T19:06:54.658204Z",
     "iopub.status.idle": "2022-01-27T19:06:54.660254Z",
     "shell.execute_reply": "2022-01-27T19:06:54.660618Z"
    },
    "papermill": {
     "duration": 0.035718,
     "end_time": "2022-01-27T19:06:54.660732",
     "exception": false,
     "start_time": "2022-01-27T19:06:54.625014",
     "status": "completed"
    },
    "tags": []
   },
   "outputs": [
    {
     "data": {
      "text/plain": [
       "330"
      ]
     },
     "execution_count": 27,
     "metadata": {},
     "output_type": "execute_result"
    }
   ],
   "source": [
    "len(all_chunks)"
   ]
  },
  {
   "cell_type": "code",
   "execution_count": 28,
   "id": "5b2aec09-987c-4506-87c2-5d9e8107d9ca",
   "metadata": {
    "execution": {
     "iopub.execute_input": "2022-01-27T19:06:54.731496Z",
     "iopub.status.busy": "2022-01-27T19:06:54.728200Z",
     "iopub.status.idle": "2022-01-27T19:06:54.734165Z",
     "shell.execute_reply": "2022-01-27T19:06:54.733779Z"
    },
    "papermill": {
     "duration": 0.042753,
     "end_time": "2022-01-27T19:06:54.734261",
     "exception": false,
     "start_time": "2022-01-27T19:06:54.691508",
     "status": "completed"
    },
    "tags": []
   },
   "outputs": [
    {
     "data": {
      "text/plain": [
       "[(0,\n",
       "  [('ENSG00000000419.12', 'ENSG00000068976.13'),\n",
       "   ('ENSG00000000938.12', 'ENSG00000068976.13'),\n",
       "   ('ENSG00000001167.14', 'ENSG00000163739.4'),\n",
       "   ('ENSG00000002586.18', 'ENSG00000169136.10'),\n",
       "   ('ENSG00000002834.17', 'ENSG00000068976.13'),\n",
       "   ('ENSG00000002919.14', 'ENSG00000068976.13'),\n",
       "   ('ENSG00000002919.14', 'ENSG00000234906.9'),\n",
       "   ('ENSG00000004399.12', 'ENSG00000108515.17'),\n",
       "   ('ENSG00000004468.12', 'ENSG00000108515.17'),\n",
       "   ('ENSG00000004468.12', 'ENSG00000169136.10'),\n",
       "   ('ENSG00000004468.12', 'ENSG00000211976.2'),\n",
       "   ('ENSG00000004478.7', 'ENSG00000118785.13'),\n",
       "   ('ENSG00000004478.7', 'ENSG00000120738.7'),\n",
       "   ('ENSG00000004478.7', 'ENSG00000121053.5'),\n",
       "   ('ENSG00000004478.7', 'ENSG00000125740.13'),\n",
       "   ('ENSG00000004478.7', 'ENSG00000125780.11'),\n",
       "   ('ENSG00000004478.7', 'ENSG00000130203.9'),\n",
       "   ('ENSG00000004478.7', 'ENSG00000130208.9'),\n",
       "   ('ENSG00000004478.7', 'ENSG00000158874.11'),\n",
       "   ('ENSG00000004478.7', 'ENSG00000160932.10'),\n",
       "   ('ENSG00000004478.7', 'ENSG00000186652.9'),\n",
       "   ('ENSG00000004478.7', 'ENSG00000197632.8'),\n",
       "   ('ENSG00000004478.7', 'ENSG00000211721.2'),\n",
       "   ('ENSG00000004478.7', 'ENSG00000211745.3'),\n",
       "   ('ENSG00000004478.7', 'ENSG00000211746.3'),\n",
       "   ('ENSG00000004478.7', 'ENSG00000211752.3'),\n",
       "   ('ENSG00000004478.7', 'ENSG00000211765.1'),\n",
       "   ('ENSG00000004478.7', 'ENSG00000211945.2'),\n",
       "   ('ENSG00000004478.7', 'ENSG00000211950.2'),\n",
       "   ('ENSG00000004478.7', 'ENSG00000226660.2'),\n",
       "   ('ENSG00000004478.7', 'ENSG00000232869.2'),\n",
       "   ('ENSG00000004478.7', 'ENSG00000237702.2'),\n",
       "   ('ENSG00000004478.7', 'ENSG00000278030.1'),\n",
       "   ('ENSG00000004478.7', 'ENSG00000282173.1'),\n",
       "   ('ENSG00000004478.7', 'ENSG00000282320.1'),\n",
       "   ('ENSG00000004478.7', 'ENSG00000282939.1'),\n",
       "   ('ENSG00000004660.14', 'ENSG00000068976.13'),\n",
       "   ('ENSG00000004776.12', 'ENSG00000115414.18'),\n",
       "   ('ENSG00000005020.12', 'ENSG00000068976.13'),\n",
       "   ('ENSG00000005302.17', 'ENSG00000068976.13'),\n",
       "   ('ENSG00000005381.7', 'ENSG00000163631.16'),\n",
       "   ('ENSG00000005448.16', 'ENSG00000120738.7'),\n",
       "   ('ENSG00000005448.16', 'ENSG00000130649.9'),\n",
       "   ('ENSG00000005448.16', 'ENSG00000211663.2'),\n",
       "   ('ENSG00000005448.16', 'ENSG00000211951.2'),\n",
       "   ('ENSG00000005448.16', 'ENSG00000211976.2'),\n",
       "   ('ENSG00000005483.20', 'ENSG00000163739.4'),\n",
       "   ('ENSG00000005812.10', 'ENSG00000068976.13'),\n",
       "   ('ENSG00000005893.15', 'ENSG00000068976.13'),\n",
       "   ('ENSG00000006025.11', 'ENSG00000120738.7'),\n",
       "   ('ENSG00000006025.11', 'ENSG00000130649.9'),\n",
       "   ('ENSG00000006025.11', 'ENSG00000158874.11'),\n",
       "   ('ENSG00000006025.11', 'ENSG00000211946.3'),\n",
       "   ('ENSG00000006025.11', 'ENSG00000211951.2'),\n",
       "   ('ENSG00000006025.11', 'ENSG00000211976.2'),\n",
       "   ('ENSG00000006025.11', 'ENSG00000244116.3'),\n",
       "   ('ENSG00000006025.11', 'ENSG00000248144.5'),\n",
       "   ('ENSG00000006062.14', 'ENSG00000159713.10'),\n",
       "   ('ENSG00000006459.10', 'ENSG00000163739.4'),\n",
       "   ('ENSG00000006534.15', 'ENSG00000130598.15'),\n",
       "   ('ENSG00000007237.18', 'ENSG00000110245.11'),\n",
       "   ('ENSG00000007264.14', 'ENSG00000118785.13'),\n",
       "   ('ENSG00000007264.14', 'ENSG00000130208.9'),\n",
       "   ('ENSG00000007350.16', 'ENSG00000091583.10'),\n",
       "   ('ENSG00000007350.16', 'ENSG00000110245.11'),\n",
       "   ('ENSG00000007350.16', 'ENSG00000118271.9'),\n",
       "   ('ENSG00000007350.16', 'ENSG00000125144.13'),\n",
       "   ('ENSG00000007350.16', 'ENSG00000130208.9'),\n",
       "   ('ENSG00000007350.16', 'ENSG00000158874.11'),\n",
       "   ('ENSG00000007350.16', 'ENSG00000163631.16'),\n",
       "   ('ENSG00000007402.11', 'ENSG00000081041.8'),\n",
       "   ('ENSG00000007402.11', 'ENSG00000130208.9'),\n",
       "   ('ENSG00000007402.11', 'ENSG00000130649.9'),\n",
       "   ('ENSG00000007402.11', 'ENSG00000130707.17'),\n",
       "   ('ENSG00000007402.11', 'ENSG00000136235.15'),\n",
       "   ('ENSG00000007402.11', 'ENSG00000158874.11'),\n",
       "   ('ENSG00000007402.11', 'ENSG00000167244.18'),\n",
       "   ('ENSG00000007402.11', 'ENSG00000169136.10'),\n",
       "   ('ENSG00000007402.11', 'ENSG00000248144.5'),\n",
       "   ('ENSG00000008056.13', 'ENSG00000081041.8'),\n",
       "   ('ENSG00000008056.13', 'ENSG00000105697.7'),\n",
       "   ('ENSG00000008056.13', 'ENSG00000115009.11'),\n",
       "   ('ENSG00000008056.13', 'ENSG00000122861.15'),\n",
       "   ('ENSG00000008056.13', 'ENSG00000130208.9'),\n",
       "   ('ENSG00000008056.13', 'ENSG00000149257.13'),\n",
       "   ('ENSG00000008056.13', 'ENSG00000158874.11'),\n",
       "   ('ENSG00000008056.13', 'ENSG00000167244.18'),\n",
       "   ('ENSG00000008056.13', 'ENSG00000178381.11'),\n",
       "   ('ENSG00000008056.13', 'ENSG00000186652.9'),\n",
       "   ('ENSG00000008056.13', 'ENSG00000266964.5'),\n",
       "   ('ENSG00000008083.13', 'ENSG00000139194.7'),\n",
       "   ('ENSG00000008130.15', 'ENSG00000068976.13'),\n",
       "   ('ENSG00000008294.20', 'ENSG00000163739.4'),\n",
       "   ('ENSG00000008516.16', 'ENSG00000110245.11'),\n",
       "   ('ENSG00000008516.16', 'ENSG00000130208.9'),\n",
       "   ('ENSG00000010310.8', 'ENSG00000111057.10'),\n",
       "   ('ENSG00000010310.8', 'ENSG00000130208.9'),\n",
       "   ('ENSG00000010310.8', 'ENSG00000130649.9'),\n",
       "   ('ENSG00000010310.8', 'ENSG00000136235.15'),\n",
       "   ('ENSG00000010310.8', 'ENSG00000158874.11')]),\n",
       " (0,\n",
       "  [('ENSG00000010310.8', 'ENSG00000163631.16'),\n",
       "   ('ENSG00000010310.8', 'ENSG00000169136.10'),\n",
       "   ('ENSG00000010310.8', 'ENSG00000211976.2'),\n",
       "   ('ENSG00000010310.8', 'ENSG00000248144.5'),\n",
       "   ('ENSG00000010310.8', 'ENSG00000250722.5'),\n",
       "   ('ENSG00000010310.8', 'ENSG00000253755.1'),\n",
       "   ('ENSG00000010310.8', 'ENSG00000270550.1'),\n",
       "   ('ENSG00000010404.17', 'ENSG00000139194.7'),\n",
       "   ('ENSG00000010539.11', 'ENSG00000068976.13'),\n",
       "   ('ENSG00000010671.15', 'ENSG00000068976.13'),\n",
       "   ('ENSG00000010810.17', 'ENSG00000130649.9'),\n",
       "   ('ENSG00000010810.17', 'ENSG00000169136.10'),\n",
       "   ('ENSG00000011009.10', 'ENSG00000130598.15'),\n",
       "   ('ENSG00000011304.19', 'ENSG00000169136.10'),\n",
       "   ('ENSG00000011422.11', 'ENSG00000110245.11'),\n",
       "   ('ENSG00000011485.14', 'ENSG00000169136.10'),\n",
       "   ('ENSG00000011600.11', 'ENSG00000068976.13'),\n",
       "   ('ENSG00000012223.12', 'ENSG00000163631.16'),\n",
       "   ('ENSG00000012232.8', 'ENSG00000068976.13'),\n",
       "   ('ENSG00000012232.8', 'ENSG00000110245.11'),\n",
       "   ('ENSG00000012660.13', 'ENSG00000163739.4'),\n",
       "   ('ENSG00000012779.10', 'ENSG00000068976.13'),\n",
       "   ('ENSG00000013306.15', 'ENSG00000130598.15'),\n",
       "   ('ENSG00000013306.15', 'ENSG00000213931.5'),\n",
       "   ('ENSG00000013364.18', 'ENSG00000068976.13'),\n",
       "   ('ENSG00000013364.18', 'ENSG00000130598.15'),\n",
       "   ('ENSG00000013563.13', 'ENSG00000068976.13'),\n",
       "   ('ENSG00000013810.18', 'ENSG00000068976.13'),\n",
       "   ('ENSG00000014216.15', 'ENSG00000068976.13'),\n",
       "   ('ENSG00000015133.18', 'ENSG00000169136.10'),\n",
       "   ('ENSG00000015171.19', 'ENSG00000081041.8'),\n",
       "   ('ENSG00000015285.10', 'ENSG00000130598.15'),\n",
       "   ('ENSG00000015475.18', 'ENSG00000068976.13'),\n",
       "   ('ENSG00000019582.14', 'ENSG00000211951.2'),\n",
       "   ('ENSG00000020633.18', 'ENSG00000130208.9'),\n",
       "   ('ENSG00000020633.18', 'ENSG00000158874.11'),\n",
       "   ('ENSG00000020633.18', 'ENSG00000163631.16'),\n",
       "   ('ENSG00000021574.11', 'ENSG00000068976.13'),\n",
       "   ('ENSG00000021762.19', 'ENSG00000130649.9'),\n",
       "   ('ENSG00000021762.19', 'ENSG00000169136.10'),\n",
       "   ('ENSG00000021762.19', 'ENSG00000186652.9'),\n",
       "   ('ENSG00000022267.16', 'ENSG00000076003.4'),\n",
       "   ('ENSG00000022267.16', 'ENSG00000111335.12'),\n",
       "   ('ENSG00000022267.16', 'ENSG00000137265.14'),\n",
       "   ('ENSG00000023697.12', 'ENSG00000068976.13'),\n",
       "   ('ENSG00000025708.13', 'ENSG00000068976.13'),\n",
       "   ('ENSG00000025770.18', 'ENSG00000111057.10'),\n",
       "   ('ENSG00000025770.18', 'ENSG00000130649.9'),\n",
       "   ('ENSG00000025770.18', 'ENSG00000211951.2'),\n",
       "   ('ENSG00000025770.18', 'ENSG00000211976.2'),\n",
       "   ('ENSG00000026297.15', 'ENSG00000068976.13'),\n",
       "   ('ENSG00000027869.11', 'ENSG00000110245.11'),\n",
       "   ('ENSG00000027869.11', 'ENSG00000158874.11'),\n",
       "   ('ENSG00000028528.14', 'ENSG00000068976.13'),\n",
       "   ('ENSG00000030582.17', 'ENSG00000068976.13'),\n",
       "   ('ENSG00000033327.12', 'ENSG00000163739.4'),\n",
       "   ('ENSG00000035664.11', 'ENSG00000068976.13'),\n",
       "   ('ENSG00000035862.12', 'ENSG00000068976.13'),\n",
       "   ('ENSG00000036257.12', 'ENSG00000068976.13'),\n",
       "   ('ENSG00000044446.11', 'ENSG00000068976.13'),\n",
       "   ('ENSG00000044574.7', 'ENSG00000120738.7'),\n",
       "   ('ENSG00000044574.7', 'ENSG00000121053.5'),\n",
       "   ('ENSG00000044574.7', 'ENSG00000130208.9'),\n",
       "   ('ENSG00000044574.7', 'ENSG00000158874.11'),\n",
       "   ('ENSG00000044574.7', 'ENSG00000186652.9'),\n",
       "   ('ENSG00000047365.11', 'ENSG00000081041.8'),\n",
       "   ('ENSG00000047410.13', 'ENSG00000139194.7'),\n",
       "   ('ENSG00000048028.11', 'ENSG00000130649.9'),\n",
       "   ('ENSG00000048028.11', 'ENSG00000136235.15'),\n",
       "   ('ENSG00000048028.11', 'ENSG00000167244.18'),\n",
       "   ('ENSG00000048028.11', 'ENSG00000169136.10'),\n",
       "   ('ENSG00000048028.11', 'ENSG00000211976.2'),\n",
       "   ('ENSG00000048392.11', 'ENSG00000068976.13'),\n",
       "   ('ENSG00000049239.12', 'ENSG00000068976.13'),\n",
       "   ('ENSG00000049247.13', 'ENSG00000115523.16'),\n",
       "   ('ENSG00000049247.13', 'ENSG00000133067.17'),\n",
       "   ('ENSG00000049247.13', 'ENSG00000142173.14'),\n",
       "   ('ENSG00000049247.13', 'ENSG00000197471.11'),\n",
       "   ('ENSG00000050130.17', 'ENSG00000068976.13'),\n",
       "   ('ENSG00000051128.18', 'ENSG00000068976.13'),\n",
       "   ('ENSG00000051523.10', 'ENSG00000068976.13'),\n",
       "   ('ENSG00000051523.10', 'ENSG00000130598.15'),\n",
       "   ('ENSG00000051620.10', 'ENSG00000068976.13'),\n",
       "   ('ENSG00000052749.13', 'ENSG00000130598.15'),\n",
       "   ('ENSG00000053918.15', 'ENSG00000068976.13'),\n",
       "   ('ENSG00000054267.21', 'ENSG00000163739.4'),\n",
       "   ('ENSG00000054523.17', 'ENSG00000133800.8'),\n",
       "   ('ENSG00000054983.16', 'ENSG00000139194.7'),\n",
       "   ('ENSG00000055044.10', 'ENSG00000169136.10'),\n",
       "   ('ENSG00000055208.18', 'ENSG00000163739.4'),\n",
       "   ('ENSG00000055332.16', 'ENSG00000068976.13'),\n",
       "   ('ENSG00000055483.19', 'ENSG00000120738.7'),\n",
       "   ('ENSG00000055483.19', 'ENSG00000130203.9'),\n",
       "   ('ENSG00000055483.19', 'ENSG00000130208.9'),\n",
       "   ('ENSG00000055483.19', 'ENSG00000158874.11'),\n",
       "   ('ENSG00000055483.19', 'ENSG00000211947.2'),\n",
       "   ('ENSG00000055483.19', 'ENSG00000270550.1'),\n",
       "   ('ENSG00000057608.16', 'ENSG00000068976.13'),\n",
       "   ('ENSG00000057704.12', 'ENSG00000163739.4'),\n",
       "   ('ENSG00000058453.16', 'ENSG00000169136.10')])]"
      ]
     },
     "execution_count": 28,
     "metadata": {},
     "output_type": "execute_result"
    }
   ],
   "source": [
    "all_chunks[:2]"
   ]
  },
  {
   "cell_type": "code",
   "execution_count": 29,
   "id": "2a961167-6660-47bd-8beb-4e08de26bf05",
   "metadata": {
    "execution": {
     "iopub.execute_input": "2022-01-27T19:06:54.802979Z",
     "iopub.status.busy": "2022-01-27T19:06:54.802513Z",
     "iopub.status.idle": "2022-01-27T19:22:52.669169Z",
     "shell.execute_reply": "2022-01-27T19:22:52.669512Z"
    },
    "papermill": {
     "duration": 957.903356,
     "end_time": "2022-01-27T19:22:52.669635",
     "exception": false,
     "start_time": "2022-01-27T19:06:54.766279",
     "status": "completed"
    },
    "tags": []
   },
   "outputs": [
    {
     "name": "stderr",
     "output_type": "stream",
     "text": [
      "100%|█████████████████████████████████████████████████████████████| 330/330 [15:57<00:00,  2.90s/it]\n"
     ]
    }
   ],
   "source": [
    "all_results = defaultdict(list)\n",
    "\n",
    "with ProcessPoolExecutor(max_workers=conf.GENERAL[\"N_JOBS\"]) as executor:\n",
    "    tasks = {\n",
    "        executor.submit(_compute_mic, chunk): sample_id\n",
    "        for sample_id, chunk in all_chunks\n",
    "    }\n",
    "\n",
    "    pbar = tqdm(as_completed(tasks), total=len(all_chunks), ncols=100)\n",
    "\n",
    "    for future in pbar:\n",
    "        sample_id = tasks[future]\n",
    "        sample_file_mic = future.result()\n",
    "\n",
    "        all_results[sample_id].append(sample_file_mic)"
   ]
  },
  {
   "cell_type": "markdown",
   "id": "bd48badf-bfe2-41d1-85b8-c4d8a494b5cd",
   "metadata": {
    "papermill": {
     "duration": 0.107897,
     "end_time": "2022-01-27T19:22:52.886438",
     "exception": false,
     "start_time": "2022-01-27T19:22:52.778541",
     "status": "completed"
    },
    "tags": []
   },
   "source": [
    "# Save for each sample file"
   ]
  },
  {
   "cell_type": "code",
   "execution_count": 30,
   "id": "82b77d46-d4b5-4e02-91b9-acffb848332b",
   "metadata": {
    "execution": {
     "iopub.execute_input": "2022-01-27T19:22:53.119704Z",
     "iopub.status.busy": "2022-01-27T19:22:53.114297Z",
     "iopub.status.idle": "2022-01-27T19:22:53.385130Z",
     "shell.execute_reply": "2022-01-27T19:22:53.384532Z"
    },
    "papermill": {
     "duration": 0.391141,
     "end_time": "2022-01-27T19:22:53.385255",
     "exception": false,
     "start_time": "2022-01-27T19:22:52.994114",
     "status": "completed"
    },
    "tags": []
   },
   "outputs": [],
   "source": [
    "for sample_id in all_results.keys():\n",
    "    sample_file_all_results_df = pd.concat(all_results[sample_id]).sort_index()\n",
    "    assert not sample_file_all_results_df.isna().any()\n",
    "    sample_file_all_results_gene_pairs_set = set(sample_file_all_results_df.index)\n",
    "\n",
    "    # testing: load input gene pairs\n",
    "    sample_file_df = pd.read_pickle(\n",
    "        INPUT_GENE_PAIRS_FILE_TEMPLATE.format(sample_id=sample_id)\n",
    "    )\n",
    "    assert sample_file_df.drop_duplicates().shape[0] == sample_file_df.shape[0]\n",
    "\n",
    "    # testing: number of gene pairs are the same in input data and in results\n",
    "    assert sample_file_df.shape[0] == sample_file_all_results_df.shape[0]\n",
    "\n",
    "    # testing: make sure gene ids are the same in results as in input gene pairs\n",
    "    sample_file_gene_pairs_list = list(\n",
    "        sample_file_df.itertuples(index=False, name=None)\n",
    "    )\n",
    "    sample_file_gene_pairs_set = set(sample_file_gene_pairs_list)\n",
    "    assert len(sample_file_gene_pairs_set) == len(\n",
    "        sample_file_gene_pairs_set.intersection(sample_file_all_results_gene_pairs_set)\n",
    "    )\n",
    "\n",
    "    # save results with same order (in gene pairs) as input sample data\n",
    "    sample_file_all_results_df = sample_file_all_results_df.loc[\n",
    "        sample_file_gene_pairs_list\n",
    "    ]\n",
    "    sample_file_all_results_df.to_pickle(\n",
    "        OUTPUT_FILE_TEMPLATE.format(sample_id=sample_id)\n",
    "    )"
   ]
  },
  {
   "cell_type": "code",
   "execution_count": 31,
   "id": "9bc5931e-5cac-4f47-a46f-837e270c4ef4",
   "metadata": {
    "execution": {
     "iopub.execute_input": "2022-01-27T19:22:53.616291Z",
     "iopub.status.busy": "2022-01-27T19:22:53.615746Z",
     "iopub.status.idle": "2022-01-27T19:22:53.621266Z",
     "shell.execute_reply": "2022-01-27T19:22:53.620818Z"
    },
    "papermill": {
     "duration": 0.117358,
     "end_time": "2022-01-27T19:22:53.621376",
     "exception": false,
     "start_time": "2022-01-27T19:22:53.504018",
     "status": "completed"
    },
    "tags": []
   },
   "outputs": [
    {
     "data": {
      "text/plain": [
       "(32955,)"
      ]
     },
     "metadata": {},
     "output_type": "display_data"
    },
    {
     "data": {
      "text/plain": [
       "ENSG00000000419.12  ENSG00000068976.13    0.421551\n",
       "ENSG00000000938.12  ENSG00000068976.13    0.390896\n",
       "ENSG00000001167.14  ENSG00000163739.4     0.377681\n",
       "ENSG00000002586.18  ENSG00000169136.10    0.380579\n",
       "ENSG00000002834.17  ENSG00000068976.13    0.592999\n",
       "dtype: float64"
      ]
     },
     "metadata": {},
     "output_type": "display_data"
    }
   ],
   "source": [
    "# show how one result set looks like\n",
    "display(sample_file_all_results_df.shape)\n",
    "display(sample_file_all_results_df.head())"
   ]
  },
  {
   "cell_type": "code",
   "execution_count": null,
   "id": "86d4a81e-927e-4c3e-93d1-47df1931ad5a",
   "metadata": {
    "papermill": {
     "duration": 0.108747,
     "end_time": "2022-01-27T19:22:53.840248",
     "exception": false,
     "start_time": "2022-01-27T19:22:53.731501",
     "status": "completed"
    },
    "tags": []
   },
   "outputs": [],
   "source": []
  }
 ],
 "metadata": {
  "jupytext": {
   "cell_metadata_filter": "all,-execution,-papermill,-trusted"
  },
  "kernelspec": {
   "display_name": "Python 3 (ipykernel)",
   "language": "python",
   "name": "python3"
  },
  "language_info": {
   "codemirror_mode": {
    "name": "ipython",
    "version": 3
   },
   "file_extension": ".py",
   "mimetype": "text/x-python",
   "name": "python",
   "nbconvert_exporter": "python",
   "pygments_lexer": "ipython3",
   "version": "3.9.9"
  },
  "papermill": {
   "default_parameters": {},
   "duration": 964.541274,
   "end_time": "2022-01-27T19:22:54.268214",
   "environment_variables": {},
   "exception": null,
   "input_path": "nbs/20_comparison_others/05_07-gtex_whole_blood-sample_intersections-disagreements-mic.ipynb",
   "output_path": "nbs/20_comparison_others/05_07-gtex_whole_blood-sample_intersections-disagreements-mic.run.ipynb",
   "parameters": {},
   "start_time": "2022-01-27T19:06:49.726940",
   "version": "2.3.4"
  },
  "toc-autonumbering": true
 },
 "nbformat": 4,
 "nbformat_minor": 5
}
