{
 "cells": [
  {
   "cell_type": "markdown",
   "id": "87e0ce1b-7ce6-4499-9342-5ded05307598",
   "metadata": {
    "papermill": {
     "duration": 0.020456,
     "end_time": "2022-01-25T21:52:19.091656",
     "exception": false,
     "start_time": "2022-01-25T21:52:19.071200",
     "status": "completed"
    },
    "tags": []
   },
   "source": [
    "# Description"
   ]
  },
  {
   "cell_type": "markdown",
   "id": "4bfc7115-350a-441b-9a19-7626a948a694",
   "metadata": {
    "papermill": {
     "duration": 0.019366,
     "end_time": "2022-01-25T21:52:19.130607",
     "exception": false,
     "start_time": "2022-01-25T21:52:19.111241",
     "status": "completed"
    },
    "tags": []
   },
   "source": [
    "TODO"
   ]
  },
  {
   "cell_type": "markdown",
   "id": "e020c781-238b-43c2-8cad-2722b8a240e2",
   "metadata": {
    "papermill": {
     "duration": 0.019471,
     "end_time": "2022-01-25T21:52:19.169934",
     "exception": false,
     "start_time": "2022-01-25T21:52:19.150463",
     "status": "completed"
    },
    "tags": []
   },
   "source": [
    "# Modules"
   ]
  },
  {
   "cell_type": "code",
   "execution_count": null,
   "id": "a819bfbc-5009-4c68-ba8d-37d0979d368f",
   "metadata": {
    "papermill": {
     "duration": 0.27202,
     "end_time": "2022-01-25T21:52:19.461441",
     "exception": false,
     "start_time": "2022-01-25T21:52:19.189421",
     "status": "completed"
    },
    "tags": []
   },
   "outputs": [],
   "source": [
    "from pathlib import Path\n",
    "\n",
    "import pandas as pd\n",
    "import numpy as np\n",
    "\n",
    "from clustermatch import conf"
   ]
  },
  {
   "cell_type": "markdown",
   "id": "b4834387-58ff-468c-b326-85c408bc5feb",
   "metadata": {
    "papermill": {
     "duration": 0.020445,
     "end_time": "2022-01-25T21:52:19.502467",
     "exception": false,
     "start_time": "2022-01-25T21:52:19.482022",
     "status": "completed"
    },
    "tags": []
   },
   "source": [
    "# Settings"
   ]
  },
  {
   "cell_type": "code",
   "execution_count": null,
   "id": "765e820a-4518-4bbc-a00f-14c9cea03821",
   "metadata": {
    "papermill": {
     "duration": 0.02669,
     "end_time": "2022-01-25T21:52:19.550364",
     "exception": false,
     "start_time": "2022-01-25T21:52:19.523674",
     "status": "completed"
    },
    "tags": []
   },
   "outputs": [],
   "source": [
    "DATASET_CONFIG = conf.GTEX\n",
    "GTEX_TISSUE = \"whole_blood\"\n",
    "GENE_SEL_STRATEGY = \"var_pc_log2\"\n",
    "\n",
    "METHOD_NAME = \"mic\""
   ]
  },
  {
   "cell_type": "code",
   "execution_count": null,
   "id": "ca79812d-c519-408c-bea8-9fc177e71d72",
   "metadata": {
    "papermill": {
     "duration": 0.025052,
     "end_time": "2022-01-25T21:52:19.595715",
     "exception": false,
     "start_time": "2022-01-25T21:52:19.570663",
     "status": "completed"
    },
    "tags": [
     "parameters"
    ]
   },
   "outputs": [],
   "source": [
    "# this cell has the \"parameters\" tag\n",
    "\n",
    "# size of gene pair groups to process in parallel\n",
    "CHUNK_SIZE = 100"
   ]
  },
  {
   "cell_type": "markdown",
   "id": "a1159982-5dd1-4494-97d4-0674eeead1c3",
   "metadata": {
    "papermill": {
     "duration": 0.019682,
     "end_time": "2022-01-25T21:52:19.635616",
     "exception": false,
     "start_time": "2022-01-25T21:52:19.615934",
     "status": "completed"
    },
    "tags": []
   },
   "source": [
    "# Paths"
   ]
  },
  {
   "cell_type": "code",
   "execution_count": null,
   "id": "c6f73068-fa38-44be-bd0c-708f6ff450ea",
   "metadata": {
    "papermill": {
     "duration": 0.032056,
     "end_time": "2022-01-25T21:52:19.687683",
     "exception": false,
     "start_time": "2022-01-25T21:52:19.655627",
     "status": "completed"
    },
    "tags": []
   },
   "outputs": [],
   "source": [
    "INPUT_GENE_EXPR_FILE = (\n",
    "    DATASET_CONFIG[\"GENE_SELECTION_DIR\"]\n",
    "    / f\"gtex_v8_data_{GTEX_TISSUE}-{GENE_SEL_STRATEGY}.pkl\"\n",
    ")\n",
    "display(INPUT_GENE_EXPR_FILE)\n",
    "\n",
    "assert INPUT_GENE_EXPR_FILE.exists()"
   ]
  },
  {
   "cell_type": "code",
   "execution_count": null,
   "id": "1ed73618-a3ab-4f62-8731-67c9726fd1a8",
   "metadata": {
    "papermill": {
     "duration": 0.023913,
     "end_time": "2022-01-27T16:01:47.949774",
     "exception": false,
     "start_time": "2022-01-27T16:01:47.925861",
     "status": "completed"
    },
    "tags": []
   },
   "outputs": [],
   "source": [
    "GENE_PAIRS_FILE_SUFFIX = (\n",
    "    DATASET_CONFIG[\"GENE_PAIR_INTERSECTIONS\"]\n",
    "    / f\"gene_pair_intersections-gtex_v8-{GTEX_TISSUE}-{GENE_SEL_STRATEGY}.pkl\"\n",
    ")\n",
    "display(GENE_PAIRS_FILE_SUFFIX)\n",
    "\n",
    "assert GENE_PAIRS_FILE_SUFFIX.exists()"
   ]
  },
  {
   "cell_type": "code",
   "execution_count": null,
   "id": "24757228-be05-43e0-8057-831135a5da17",
   "metadata": {
    "papermill": {
     "duration": 0.020187,
     "end_time": "2022-01-27T16:01:47.983954",
     "exception": false,
     "start_time": "2022-01-27T16:01:47.963767",
     "status": "completed"
    },
    "tags": []
   },
   "outputs": [],
   "source": [
    "INPUT_DIR = GENE_PAIRS_FILE_SUFFIX.parent / \"samples\"\n",
    "display(INPUT_DIR)"
   ]
  },
  {
   "cell_type": "code",
   "execution_count": null,
   "id": "a088c4ad-71ac-43f3-b58a-678fefb55117",
   "metadata": {
    "papermill": {
     "duration": 0.019876,
     "end_time": "2022-01-27T16:01:48.017957",
     "exception": false,
     "start_time": "2022-01-27T16:01:47.998081",
     "status": "completed"
    },
    "tags": []
   },
   "outputs": [],
   "source": [
    "INPUT_GENE_PAIRS_FILE = INPUT_DIR / (\n",
    "    f\"{GENE_PAIRS_FILE_SUFFIX.stem}-disagreements_sample_\" + \"{sample_id}\" + \".pkl\"\n",
    ")\n",
    "display(INPUT_GENE_PAIRS_FILE)\n",
    "\n",
    "INPUT_GENE_PAIRS_FILE_TEMPLATE = str(INPUT_GENE_PAIRS_FILE)\n",
    "display(INPUT_GENE_PAIRS_FILE_TEMPLATE)"
   ]
  },
  {
   "cell_type": "code",
   "execution_count": null,
   "id": "7e6dbf37-ad3a-4f73-a4a7-89275d6f00bc",
   "metadata": {
    "papermill": {
     "duration": 0.020187,
     "end_time": "2022-01-27T16:01:47.983954",
     "exception": false,
     "start_time": "2022-01-27T16:01:47.963767",
     "status": "completed"
    },
    "tags": []
   },
   "outputs": [],
   "source": [
    "OUTPUT_DIR = DATASET_CONFIG[\"RESULTS_DIR\"] / \"comparison_others\" / METHOD_NAME\n",
    "OUTPUT_DIR.mkdir(parents=True, exist_ok=True)\n",
    "display(OUTPUT_DIR)"
   ]
  },
  {
   "cell_type": "code",
   "execution_count": null,
   "id": "f4468c0e-c0ad-4bf5-b120-3f63e7afc33f",
   "metadata": {
    "papermill": {
     "duration": 0.029504,
     "end_time": "2022-01-25T21:52:19.788909",
     "exception": false,
     "start_time": "2022-01-25T21:52:19.759405",
     "status": "completed"
    },
    "tags": []
   },
   "outputs": [],
   "source": [
    "OUTPUT_FILE_TEMPLATE = str(\n",
    "    OUTPUT_DIR / (INPUT_GENE_PAIRS_FILE.name[:-4] + f\"-{METHOD_NAME}.pkl\")\n",
    ")\n",
    "\n",
    "display(OUTPUT_FILE_TEMPLATE)"
   ]
  },
  {
   "cell_type": "markdown",
   "id": "f6d3322b-c8bb-4fc2-97b6-5bb1793b1577",
   "metadata": {
    "papermill": {
     "duration": 0.022064,
     "end_time": "2022-01-25T21:52:19.833425",
     "exception": false,
     "start_time": "2022-01-25T21:52:19.811361",
     "status": "completed"
    },
    "tags": []
   },
   "source": [
    "# Data"
   ]
  },
  {
   "cell_type": "markdown",
   "id": "0aa486d7-b624-4d20-a730-a9eb224bef6a",
   "metadata": {
    "papermill": {
     "duration": 0.022855,
     "end_time": "2022-01-25T21:52:19.879255",
     "exception": false,
     "start_time": "2022-01-25T21:52:19.856400",
     "status": "completed"
    },
    "tags": []
   },
   "source": [
    "## Gene expression"
   ]
  },
  {
   "cell_type": "code",
   "execution_count": null,
   "id": "f73ca2b7-f7ff-47bc-90b0-32e0cfdb5ea6",
   "metadata": {
    "papermill": {
     "duration": 0.196807,
     "end_time": "2022-01-25T21:52:20.099217",
     "exception": false,
     "start_time": "2022-01-25T21:52:19.902410",
     "status": "completed"
    },
    "tags": []
   },
   "outputs": [],
   "source": [
    "gene_expr_dict = pd.read_pickle(INPUT_GENE_EXPR_FILE).T.to_dict(orient=\"series\")"
   ]
  },
  {
   "cell_type": "code",
   "execution_count": null,
   "id": "3cba499a-e737-4da2-9841-f9a03719b3aa",
   "metadata": {
    "papermill": {
     "duration": 0.02998,
     "end_time": "2022-01-25T21:52:20.157164",
     "exception": false,
     "start_time": "2022-01-25T21:52:20.127184",
     "status": "completed"
    },
    "tags": []
   },
   "outputs": [],
   "source": [
    "len(gene_expr_dict)"
   ]
  },
  {
   "cell_type": "code",
   "execution_count": null,
   "id": "df66fe70-9fe9-4351-9d30-f8dcc97725de",
   "metadata": {
    "papermill": {
     "duration": 0.031643,
     "end_time": "2022-01-25T21:52:20.210945",
     "exception": false,
     "start_time": "2022-01-25T21:52:20.179302",
     "status": "completed"
    },
    "tags": []
   },
   "outputs": [],
   "source": [
    "gene_expr_dict[list(gene_expr_dict.keys())[0]]"
   ]
  },
  {
   "cell_type": "markdown",
   "id": "b030f506-2fe9-4895-a8a1-51374e88c496",
   "metadata": {
    "papermill": {
     "duration": 0.022192,
     "end_time": "2022-01-25T21:52:20.256131",
     "exception": false,
     "start_time": "2022-01-25T21:52:20.233939",
     "status": "completed"
    },
    "tags": []
   },
   "source": [
    "## Gene pairs intersection"
   ]
  },
  {
   "cell_type": "code",
   "execution_count": null,
   "id": "da1d768a-fbfb-40e8-8fbb-790d1a94aa83",
   "metadata": {
    "papermill": {
     "duration": 0.031341,
     "end_time": "2022-01-25T21:52:20.309542",
     "exception": false,
     "start_time": "2022-01-25T21:52:20.278201",
     "status": "completed"
    },
    "tags": []
   },
   "outputs": [],
   "source": [
    "# intersections = pd.read_pickle(INPUT_GENE_PAIRS_INTERSECTIONS_FILE)"
   ]
  },
  {
   "cell_type": "code",
   "execution_count": null,
   "id": "6123d474-0c0d-4771-9678-248ce89424ce",
   "metadata": {
    "papermill": {
     "duration": 0.029805,
     "end_time": "2022-01-25T21:52:20.362456",
     "exception": false,
     "start_time": "2022-01-25T21:52:20.332651",
     "status": "completed"
    },
    "tags": []
   },
   "outputs": [],
   "source": [
    "# len(intersections)"
   ]
  },
  {
   "cell_type": "code",
   "execution_count": null,
   "id": "1b817194-a9c3-4f53-8d0f-1ee8faa36bfe",
   "metadata": {
    "papermill": {
     "duration": 0.035761,
     "end_time": "2022-01-25T21:52:20.427124",
     "exception": false,
     "start_time": "2022-01-25T21:52:20.391363",
     "status": "completed"
    },
    "tags": []
   },
   "outputs": [],
   "source": [
    "# intersections[\"Clustermatch (high), Pearson (high), Spearman (high)\"]"
   ]
  },
  {
   "cell_type": "markdown",
   "id": "9e1b78f3-8f43-411a-acb7-4646b4979034",
   "metadata": {
    "papermill": {
     "duration": 0.022901,
     "end_time": "2022-01-25T21:52:20.474665",
     "exception": false,
     "start_time": "2022-01-25T21:52:20.451764",
     "status": "completed"
    },
    "tags": []
   },
   "source": [
    "# Compute Maximal Information Coefficient (MIC)"
   ]
  },
  {
   "cell_type": "markdown",
   "id": "f31225f0-ce8b-48aa-97a6-d69afcb8732a",
   "metadata": {
    "papermill": {
     "duration": 0.022801,
     "end_time": "2022-01-25T21:52:20.520446",
     "exception": false,
     "start_time": "2022-01-25T21:52:20.497645",
     "status": "completed"
    },
    "tags": []
   },
   "source": [
    "## Functions"
   ]
  },
  {
   "cell_type": "code",
   "execution_count": null,
   "id": "1851477c-1c94-456d-949b-012b8984a434",
   "metadata": {
    "papermill": {
     "duration": 0.255864,
     "end_time": "2022-01-25T21:52:20.799215",
     "exception": false,
     "start_time": "2022-01-25T21:52:20.543351",
     "status": "completed"
    },
    "tags": []
   },
   "outputs": [],
   "source": [
    "import warnings\n",
    "from sklearn.metrics import pairwise_distances\n",
    "from minepy.mine import MINE"
   ]
  },
  {
   "cell_type": "code",
   "execution_count": null,
   "id": "0adf1172-acc5-4c35-a3ab-aed6de9770c4",
   "metadata": {
    "papermill": {
     "duration": 0.029232,
     "end_time": "2022-01-25T21:52:20.851450",
     "exception": false,
     "start_time": "2022-01-25T21:52:20.822218",
     "status": "completed"
    },
    "tags": []
   },
   "outputs": [],
   "source": [
    "def _mic(x, y):\n",
    "    \"\"\"\n",
    "    FIXME: move to library\n",
    "    \"\"\"\n",
    "    with warnings.catch_warnings():\n",
    "        warnings.filterwarnings(\"ignore\", category=DeprecationWarning)\n",
    "\n",
    "        mine = MINE(alpha=0.6, c=15, est=\"mic_approx\")\n",
    "        mine.compute_score(x, y)\n",
    "        return mine.mic()"
   ]
  },
  {
   "cell_type": "code",
   "execution_count": null,
   "id": "cd837842-665d-4214-affe-af9c951bd154",
   "metadata": {
    "papermill": {
     "duration": 0.029406,
     "end_time": "2022-01-25T21:52:20.903893",
     "exception": false,
     "start_time": "2022-01-25T21:52:20.874487",
     "status": "completed"
    },
    "tags": []
   },
   "outputs": [],
   "source": [
    "_mic(np.random.rand(10), np.random.rand(10))"
   ]
  },
  {
   "cell_type": "markdown",
   "id": "b9a14ad1-ffd2-4b16-98b2-658634dccd21",
   "metadata": {
    "papermill": {
     "duration": 0.023126,
     "end_time": "2022-01-25T21:52:20.950422",
     "exception": false,
     "start_time": "2022-01-25T21:52:20.927296",
     "status": "completed"
    },
    "tags": []
   },
   "source": [
    "## Get all sample files"
   ]
  },
  {
   "cell_type": "code",
   "execution_count": null,
   "id": "022f616c-3dd2-47f8-9360-286d1dc08bab",
   "metadata": {},
   "outputs": [],
   "source": [
    "all_sample_files = []\n",
    "\n",
    "sample_id = 0\n",
    "sample_file = Path(INPUT_GENE_PAIRS_FILE_TEMPLATE.format(sample_id=sample_id))\n",
    "\n",
    "while sample_file.exists():\n",
    "    all_sample_files.append((sample_id, sample_file))\n",
    "\n",
    "    sample_id += 1\n",
    "    sample_file = Path(INPUT_GENE_PAIRS_FILE_TEMPLATE.format(sample_id=sample_id))"
   ]
  },
  {
   "cell_type": "code",
   "execution_count": null,
   "id": "f0af34fd-19ac-4d74-a3e4-399f70c049ac",
   "metadata": {},
   "outputs": [],
   "source": [
    "# all_sample_files = sorted(\n",
    "#     list(\n",
    "#         INPUT_GENE_PAIRS_FILE.parent.glob(INPUT_GENE_PAIRS_FILE.name.format(sample_id=\"*\"))\n",
    "#     )\n",
    "# )"
   ]
  },
  {
   "cell_type": "code",
   "execution_count": null,
   "id": "4f169abf-2009-482c-9df3-b502c4f56641",
   "metadata": {},
   "outputs": [],
   "source": [
    "len(all_sample_files)"
   ]
  },
  {
   "cell_type": "code",
   "execution_count": null,
   "id": "f49ac615-436b-4abc-8f72-06f50907c70d",
   "metadata": {},
   "outputs": [],
   "source": [
    "all_sample_files[:3]"
   ]
  },
  {
   "cell_type": "markdown",
   "id": "96315853-ea9d-4417-b224-31b3bbdf7553",
   "metadata": {
    "papermill": {
     "duration": 0.023126,
     "end_time": "2022-01-25T21:52:20.950422",
     "exception": false,
     "start_time": "2022-01-25T21:52:20.927296",
     "status": "completed"
    },
    "tags": []
   },
   "source": [
    "## Run"
   ]
  },
  {
   "cell_type": "code",
   "execution_count": null,
   "id": "0f516a3e-0f64-42d3-b32d-9de6563b2df4",
   "metadata": {
    "papermill": {
     "duration": 0.052058,
     "end_time": "2022-01-25T21:52:21.025447",
     "exception": false,
     "start_time": "2022-01-25T21:52:20.973389",
     "status": "completed"
    },
    "tags": []
   },
   "outputs": [],
   "source": [
    "from concurrent.futures import ProcessPoolExecutor, as_completed\n",
    "from collections import defaultdict\n",
    "\n",
    "from tqdm import tqdm\n",
    "\n",
    "from clustermatch.utils import chunker"
   ]
  },
  {
   "cell_type": "code",
   "execution_count": null,
   "id": "f2d70e9a-42df-483a-86d2-7fb59f425166",
   "metadata": {
    "papermill": {
     "duration": 0.02867,
     "end_time": "2022-01-25T21:52:21.077809",
     "exception": false,
     "start_time": "2022-01-25T21:52:21.049139",
     "status": "completed"
    },
    "tags": []
   },
   "outputs": [],
   "source": [
    "def _compute_mic(gene_sets: list):\n",
    "    res = [\n",
    "        _mic(gene_expr_dict[gs[0]].to_numpy(), gene_expr_dict[gs[1]].to_numpy())\n",
    "        for gs in gene_sets\n",
    "    ]\n",
    "\n",
    "    return pd.Series(res, index=pd.MultiIndex.from_tuples(gene_sets))"
   ]
  },
  {
   "cell_type": "code",
   "execution_count": null,
   "id": "3a16f0f9-9af0-49a4-a293-f51f58f46de3",
   "metadata": {
    "papermill": {
     "duration": 0.802486,
     "end_time": "2022-01-25T21:52:21.903553",
     "exception": false,
     "start_time": "2022-01-25T21:52:21.101067",
     "status": "completed"
    },
    "tags": []
   },
   "outputs": [],
   "source": [
    "# testing\n",
    "# gene_set_key = \"Clustermatch (high), Pearson (high), Spearman (high)\"\n",
    "gene_set = pd.read_pickle(all_sample_files[0][1]).sample(n=10)\n",
    "display(gene_set)\n",
    "\n",
    "_res = _compute_mic(list(gene_set.itertuples(index=False)))\n",
    "display(_res.shape)\n",
    "display(_res.head())\n",
    "\n",
    "# make sure order is preserved\n",
    "assert _res.index.to_list() == list(gene_set.itertuples(index=False, name=None))"
   ]
  },
  {
   "cell_type": "code",
   "execution_count": null,
   "id": "df927e8f-203d-41df-a5f1-25d6c9a43d53",
   "metadata": {
    "papermill": {
     "duration": 0.039424,
     "end_time": "2022-01-25T21:52:21.968622",
     "exception": false,
     "start_time": "2022-01-25T21:52:21.929198",
     "status": "completed"
    },
    "tags": []
   },
   "outputs": [],
   "source": [
    "all_chunks = []\n",
    "\n",
    "for (sample_id, sample_file) in all_sample_files:\n",
    "    gene_pairs_df = pd.read_pickle(sample_file)\n",
    "    gene_pairs_subset = list(gene_pairs_df.itertuples(index=False, name=None))\n",
    "\n",
    "    for chunk in list(chunker(gene_pairs_subset, CHUNK_SIZE)):\n",
    "        all_chunks.append((sample_id, chunk))"
   ]
  },
  {
   "cell_type": "code",
   "execution_count": null,
   "id": "3ba05517-1b61-40ee-8333-17e1a2088de9",
   "metadata": {
    "papermill": {
     "duration": 0.029726,
     "end_time": "2022-01-25T21:52:22.022650",
     "exception": false,
     "start_time": "2022-01-25T21:52:21.992924",
     "status": "completed"
    },
    "tags": []
   },
   "outputs": [],
   "source": [
    "len(all_chunks)"
   ]
  },
  {
   "cell_type": "code",
   "execution_count": null,
   "id": "5b2aec09-987c-4506-87c2-5d9e8107d9ca",
   "metadata": {
    "papermill": {
     "duration": 0.032464,
     "end_time": "2022-01-25T21:52:22.079710",
     "exception": false,
     "start_time": "2022-01-25T21:52:22.047246",
     "status": "completed"
    },
    "tags": []
   },
   "outputs": [],
   "source": [
    "all_chunks[:2]"
   ]
  },
  {
   "cell_type": "code",
   "execution_count": null,
   "id": "2a961167-6660-47bd-8beb-4e08de26bf05",
   "metadata": {
    "papermill": {
     "duration": 372.4602,
     "end_time": "2022-01-25T21:58:34.566068",
     "exception": false,
     "start_time": "2022-01-25T21:52:22.105868",
     "status": "completed"
    },
    "tags": []
   },
   "outputs": [],
   "source": [
    "all_results = defaultdict(list)\n",
    "\n",
    "with ProcessPoolExecutor(max_workers=conf.GENERAL[\"N_JOBS\"]) as executor:\n",
    "    tasks = {\n",
    "        executor.submit(_compute_mic, chunk): sample_id\n",
    "        for sample_id, chunk in all_chunks\n",
    "    }\n",
    "\n",
    "    pbar = tqdm(as_completed(tasks), total=len(all_chunks), ncols=100)\n",
    "\n",
    "    for future in pbar:\n",
    "        sample_id = tasks[future]\n",
    "        sample_file_mic = future.result()\n",
    "\n",
    "        all_results[sample_id].append(sample_file_mic)"
   ]
  },
  {
   "cell_type": "markdown",
   "id": "bd48badf-bfe2-41d1-85b8-c4d8a494b5cd",
   "metadata": {},
   "source": [
    "# Save for each sample file"
   ]
  },
  {
   "cell_type": "code",
   "execution_count": null,
   "id": "82b77d46-d4b5-4e02-91b9-acffb848332b",
   "metadata": {},
   "outputs": [],
   "source": [
    "for sample_id in all_results.keys():\n",
    "    sample_file_all_results_df = pd.concat(all_results[sample_id]).sort_index()\n",
    "    assert not sample_file_all_results_df.isna().any()\n",
    "    sample_file_all_results_gene_pairs_set = set(sample_file_all_results_df.index)\n",
    "\n",
    "    # testing: load input gene pairs\n",
    "    sample_file_df = pd.read_pickle(\n",
    "        INPUT_GENE_PAIRS_FILE_TEMPLATE.format(sample_id=sample_id)\n",
    "    )\n",
    "    assert sample_file_df.drop_duplicates().shape[0] == sample_file_df.shape[0]\n",
    "\n",
    "    # testing: number of gene pairs are the same in input data and in results\n",
    "    assert sample_file_df.shape[0] == sample_file_all_results_df.shape[0]\n",
    "\n",
    "    # testing: make sure gene ids are the same in results as in input gene pairs\n",
    "    sample_file_gene_pairs_list = list(\n",
    "        sample_file_df.itertuples(index=False, name=None)\n",
    "    )\n",
    "    sample_file_gene_pairs_set = set(sample_file_gene_pairs_list)\n",
    "    assert len(sample_file_gene_pairs_set) == len(\n",
    "        sample_file_gene_pairs_set.intersection(sample_file_all_results_gene_pairs_set)\n",
    "    )\n",
    "\n",
    "    # save results with same order (in gene pairs) as input sample data\n",
    "    sample_file_all_results_df = sample_file_all_results_df.loc[\n",
    "        sample_file_gene_pairs_list\n",
    "    ]\n",
    "    sample_file_all_results_df.to_pickle(\n",
    "        OUTPUT_FILE_TEMPLATE.format(sample_id=sample_id)\n",
    "    )"
   ]
  },
  {
   "cell_type": "code",
   "execution_count": null,
   "id": "9bc5931e-5cac-4f47-a46f-837e270c4ef4",
   "metadata": {},
   "outputs": [],
   "source": [
    "# show how one result set looks like\n",
    "display(sample_file_all_results_df.shape)\n",
    "display(sample_file_all_results_df.head())"
   ]
  },
  {
   "cell_type": "code",
   "execution_count": null,
   "id": "86d4a81e-927e-4c3e-93d1-47df1931ad5a",
   "metadata": {
    "papermill": {
     "duration": 0.083448,
     "end_time": "2022-01-25T21:58:35.462144",
     "exception": false,
     "start_time": "2022-01-25T21:58:35.378696",
     "status": "completed"
    },
    "tags": []
   },
   "outputs": [],
   "source": []
  }
 ],
 "metadata": {
  "jupytext": {
   "cell_metadata_filter": "all,-execution,-papermill,-trusted"
  },
  "kernelspec": {
   "display_name": "Python 3 (ipykernel)",
   "language": "python",
   "name": "python3"
  },
  "language_info": {
   "codemirror_mode": {
    "name": "ipython",
    "version": 3
   },
   "file_extension": ".py",
   "mimetype": "text/x-python",
   "name": "python",
   "nbconvert_exporter": "python",
   "pygments_lexer": "ipython3",
   "version": "3.9.9"
  },
  "papermill": {
   "default_parameters": {},
   "duration": 378.018164,
   "end_time": "2022-01-25T21:58:35.867142",
   "environment_variables": {},
   "exception": null,
   "input_path": "nbs/15_intersections/10-compute_mic.ipynb",
   "output_path": "nbs/15_intersections/10-compute_mic.run.ipynb",
   "parameters": {},
   "start_time": "2022-01-25T21:52:17.848978",
   "version": "2.3.4"
  },
  "toc-autonumbering": true
 },
 "nbformat": 4,
 "nbformat_minor": 5
}
