{
 "cells": [
  {
   "cell_type": "markdown",
   "id": "87e0ce1b-7ce6-4499-9342-5ded05307598",
   "metadata": {
    "papermill": {
     "duration": 0.027043,
     "end_time": "2022-01-28T15:26:53.293326",
     "exception": false,
     "start_time": "2022-01-28T15:26:53.266283",
     "status": "completed"
    },
    "tags": []
   },
   "source": [
    "# Description"
   ]
  },
  {
   "cell_type": "markdown",
   "id": "4bfc7115-350a-441b-9a19-7626a948a694",
   "metadata": {
    "papermill": {
     "duration": 0.024036,
     "end_time": "2022-01-28T15:26:53.340853",
     "exception": false,
     "start_time": "2022-01-28T15:26:53.316817",
     "status": "completed"
    },
    "tags": []
   },
   "source": [
    "From the intersections groups (visualized in the UpSet plot), it samples from the \"Agreements\", that is, only intersection groups where there is agreement between methods (clustermatch, pearson and spearman)."
   ]
  },
  {
   "cell_type": "markdown",
   "id": "e020c781-238b-43c2-8cad-2722b8a240e2",
   "metadata": {
    "papermill": {
     "duration": 0.022398,
     "end_time": "2022-01-28T15:26:53.386005",
     "exception": false,
     "start_time": "2022-01-28T15:26:53.363607",
     "status": "completed"
    },
    "tags": []
   },
   "source": [
    "# Notebook disabled"
   ]
  },
  {
   "cell_type": "code",
   "execution_count": 2,
   "id": "eeac190a-3bf3-44f0-a681-05cb92706eb0",
   "metadata": {},
   "outputs": [
    {
     "data": {
      "text/plain": [
       "\"This notebook is disabled, it won't run with papermill\""
      ]
     },
     "metadata": {},
     "output_type": "display_data"
    },
    {
     "ename": "SystemExit",
     "evalue": "0",
     "output_type": "error",
     "traceback": [
      "An exception has occurred, use %tb to see the full traceback.\n",
      "\u001b[0;31mSystemExit\u001b[0m\u001b[0;31m:\u001b[0m 0\n"
     ]
    }
   ],
   "source": [
    "display(\"This notebook is disabled, it won't run with papermill\")\n",
    "\n",
    "import sys\n",
    "sys.exit(0)"
   ]
  },
  {
   "cell_type": "markdown",
   "id": "6b1cceee-8c25-47d0-a54a-e8f8a43eda8b",
   "metadata": {
    "papermill": {
     "duration": 0.022398,
     "end_time": "2022-01-28T15:26:53.386005",
     "exception": false,
     "start_time": "2022-01-28T15:26:53.363607",
     "status": "completed"
    },
    "tags": []
   },
   "source": [
    "# Modules"
   ]
  },
  {
   "cell_type": "code",
   "execution_count": 1,
   "id": "a819bfbc-5009-4c68-ba8d-37d0979d368f",
   "metadata": {
    "execution": {
     "iopub.execute_input": "2022-01-28T15:26:53.439232Z",
     "iopub.status.busy": "2022-01-28T15:26:53.438755Z",
     "iopub.status.idle": "2022-01-28T15:26:53.667810Z",
     "shell.execute_reply": "2022-01-28T15:26:53.667351Z"
    },
    "papermill": {
     "duration": 0.259025,
     "end_time": "2022-01-28T15:26:53.667934",
     "exception": false,
     "start_time": "2022-01-28T15:26:53.408909",
     "status": "completed"
    },
    "tags": []
   },
   "outputs": [],
   "source": [
    "import pandas as pd\n",
    "import numpy as np\n",
    "\n",
    "from clustermatch import conf"
   ]
  },
  {
   "cell_type": "markdown",
   "id": "b4834387-58ff-468c-b326-85c408bc5feb",
   "metadata": {
    "papermill": {
     "duration": 0.023169,
     "end_time": "2022-01-28T15:26:53.714438",
     "exception": false,
     "start_time": "2022-01-28T15:26:53.691269",
     "status": "completed"
    },
    "tags": []
   },
   "source": [
    "# Settings"
   ]
  },
  {
   "cell_type": "code",
   "execution_count": 2,
   "id": "765e820a-4518-4bbc-a00f-14c9cea03821",
   "metadata": {
    "execution": {
     "iopub.execute_input": "2022-01-28T15:26:53.770551Z",
     "iopub.status.busy": "2022-01-28T15:26:53.770031Z",
     "iopub.status.idle": "2022-01-28T15:26:53.772055Z",
     "shell.execute_reply": "2022-01-28T15:26:53.771530Z"
    },
    "papermill": {
     "duration": 0.034056,
     "end_time": "2022-01-28T15:26:53.772165",
     "exception": false,
     "start_time": "2022-01-28T15:26:53.738109",
     "status": "completed"
    },
    "tags": []
   },
   "outputs": [],
   "source": [
    "DATASET_CONFIG = conf.GTEX\n",
    "GTEX_TISSUE = \"whole_blood\"\n",
    "GENE_SEL_STRATEGY = \"var_pc_log2\""
   ]
  },
  {
   "cell_type": "code",
   "execution_count": 3,
   "id": "85ee3634-e24a-45d1-8209-5e1b7e81d5d0",
   "metadata": {
    "execution": {
     "iopub.execute_input": "2022-01-28T15:26:53.824488Z",
     "iopub.status.busy": "2022-01-28T15:26:53.824016Z",
     "iopub.status.idle": "2022-01-28T15:26:53.825680Z",
     "shell.execute_reply": "2022-01-28T15:26:53.826011Z"
    },
    "papermill": {
     "duration": 0.028366,
     "end_time": "2022-01-28T15:26:53.826124",
     "exception": false,
     "start_time": "2022-01-28T15:26:53.797758",
     "status": "completed"
    },
    "tags": []
   },
   "outputs": [],
   "source": [
    "# amount of gene pairs to sample\n",
    "SAMPLE_SIZE = 33000\n",
    "\n",
    "# number of samples to take\n",
    "N_SAMPLES = 1"
   ]
  },
  {
   "cell_type": "markdown",
   "id": "a1159982-5dd1-4494-97d4-0674eeead1c3",
   "metadata": {
    "papermill": {
     "duration": 0.02282,
     "end_time": "2022-01-28T15:26:53.872354",
     "exception": false,
     "start_time": "2022-01-28T15:26:53.849534",
     "status": "completed"
    },
    "tags": []
   },
   "source": [
    "# Paths"
   ]
  },
  {
   "cell_type": "code",
   "execution_count": 4,
   "id": "30cce6f5-ca1b-438c-859d-31903a42d4c6",
   "metadata": {
    "execution": {
     "iopub.execute_input": "2022-01-28T15:26:53.925997Z",
     "iopub.status.busy": "2022-01-28T15:26:53.925398Z",
     "iopub.status.idle": "2022-01-28T15:26:53.930168Z",
     "shell.execute_reply": "2022-01-28T15:26:53.929714Z"
    },
    "papermill": {
     "duration": 0.034987,
     "end_time": "2022-01-28T15:26:53.930265",
     "exception": false,
     "start_time": "2022-01-28T15:26:53.895278",
     "status": "completed"
    },
    "tags": []
   },
   "outputs": [
    {
     "data": {
      "text/plain": [
       "PosixPath('/opt/data/results/gtex_v8/gene_pair_intersections/gene_pair_intersections-gtex_v8-whole_blood-var_pc_log2.pkl')"
      ]
     },
     "metadata": {},
     "output_type": "display_data"
    }
   ],
   "source": [
    "INPUT_GENE_PAIRS_INTERSECTIONS_FILE = (\n",
    "    DATASET_CONFIG[\"GENE_PAIR_INTERSECTIONS\"]\n",
    "    / f\"gene_pair_intersections-gtex_v8-{GTEX_TISSUE}-{GENE_SEL_STRATEGY}.pkl\"\n",
    ")\n",
    "display(INPUT_GENE_PAIRS_INTERSECTIONS_FILE)\n",
    "\n",
    "assert INPUT_GENE_PAIRS_INTERSECTIONS_FILE.exists()"
   ]
  },
  {
   "cell_type": "code",
   "execution_count": 5,
   "id": "a0e237b4-fdf7-44ef-bbcf-50bf2f5a4355",
   "metadata": {
    "execution": {
     "iopub.execute_input": "2022-01-28T15:26:53.980984Z",
     "iopub.status.busy": "2022-01-28T15:26:53.980042Z",
     "iopub.status.idle": "2022-01-28T15:26:53.984018Z",
     "shell.execute_reply": "2022-01-28T15:26:53.983568Z"
    },
    "papermill": {
     "duration": 0.030238,
     "end_time": "2022-01-28T15:26:53.984113",
     "exception": false,
     "start_time": "2022-01-28T15:26:53.953875",
     "status": "completed"
    },
    "tags": []
   },
   "outputs": [
    {
     "data": {
      "text/plain": [
       "PosixPath('/opt/data/results/gtex_v8/gene_pair_intersections/samples')"
      ]
     },
     "metadata": {},
     "output_type": "display_data"
    }
   ],
   "source": [
    "OUTPUT_DIR = INPUT_GENE_PAIRS_INTERSECTIONS_FILE.parent / \"samples\"\n",
    "OUTPUT_DIR.mkdir(parents=True, exist_ok=True)\n",
    "display(OUTPUT_DIR)"
   ]
  },
  {
   "cell_type": "code",
   "execution_count": 6,
   "id": "f4468c0e-c0ad-4bf5-b120-3f63e7afc33f",
   "metadata": {
    "execution": {
     "iopub.execute_input": "2022-01-28T15:26:54.036157Z",
     "iopub.status.busy": "2022-01-28T15:26:54.035615Z",
     "iopub.status.idle": "2022-01-28T15:26:54.038071Z",
     "shell.execute_reply": "2022-01-28T15:26:54.037687Z"
    },
    "papermill": {
     "duration": 0.029756,
     "end_time": "2022-01-28T15:26:54.038165",
     "exception": false,
     "start_time": "2022-01-28T15:26:54.008409",
     "status": "completed"
    },
    "tags": []
   },
   "outputs": [
    {
     "data": {
      "text/plain": [
       "'/opt/data/results/gtex_v8/gene_pair_intersections/samples/gene_pair_intersections-gtex_v8-whole_blood-var_pc_log2-agreements_sample_{sample_id}.pkl'"
      ]
     },
     "metadata": {},
     "output_type": "display_data"
    }
   ],
   "source": [
    "OUTPUT_FILE_TEMPLATE = str(\n",
    "    OUTPUT_DIR\n",
    "    / (\n",
    "        f\"{INPUT_GENE_PAIRS_INTERSECTIONS_FILE.stem}-agreements_sample_\"\n",
    "        + \"{sample_id}\"\n",
    "        + \".pkl\"\n",
    "    )\n",
    ")\n",
    "\n",
    "display(OUTPUT_FILE_TEMPLATE)"
   ]
  },
  {
   "cell_type": "markdown",
   "id": "f6d3322b-c8bb-4fc2-97b6-5bb1793b1577",
   "metadata": {
    "papermill": {
     "duration": 0.023566,
     "end_time": "2022-01-28T15:26:54.085658",
     "exception": false,
     "start_time": "2022-01-28T15:26:54.062092",
     "status": "completed"
    },
    "tags": []
   },
   "source": [
    "# Data"
   ]
  },
  {
   "cell_type": "markdown",
   "id": "afa308c9-d84d-4127-b3b1-7187e1f8b813",
   "metadata": {
    "papermill": {
     "duration": 0.023697,
     "end_time": "2022-01-28T15:26:54.133573",
     "exception": false,
     "start_time": "2022-01-28T15:26:54.109876",
     "status": "completed"
    },
    "tags": []
   },
   "source": [
    "## Gene pairs intersection data"
   ]
  },
  {
   "cell_type": "code",
   "execution_count": 7,
   "id": "01489ae7-fdfb-4861-931b-e9c8708a6931",
   "metadata": {
    "execution": {
     "iopub.execute_input": "2022-01-28T15:26:54.185195Z",
     "iopub.status.busy": "2022-01-28T15:26:54.184744Z",
     "iopub.status.idle": "2022-01-28T15:26:54.186163Z",
     "shell.execute_reply": "2022-01-28T15:26:54.186520Z"
    },
    "papermill": {
     "duration": 0.028916,
     "end_time": "2022-01-28T15:26:54.186633",
     "exception": false,
     "start_time": "2022-01-28T15:26:54.157717",
     "status": "completed"
    },
    "tags": []
   },
   "outputs": [],
   "source": [
    "def is_intersection_column(column_name):\n",
    "    return \" (high)\" in column_name or \" (low)\" in column_name"
   ]
  },
  {
   "cell_type": "code",
   "execution_count": 8,
   "id": "2b666b63-326b-43cd-8550-51f550be337a",
   "metadata": {
    "execution": {
     "iopub.execute_input": "2022-01-28T15:26:54.238975Z",
     "iopub.status.busy": "2022-01-28T15:26:54.238508Z",
     "iopub.status.idle": "2022-01-28T15:26:54.464030Z",
     "shell.execute_reply": "2022-01-28T15:26:54.463524Z"
    },
    "papermill": {
     "duration": 0.252697,
     "end_time": "2022-01-28T15:26:54.464133",
     "exception": false,
     "start_time": "2022-01-28T15:26:54.211436",
     "status": "completed"
    },
    "tags": []
   },
   "outputs": [],
   "source": [
    "gene_pairs_intersections = pd.read_pickle(INPUT_GENE_PAIRS_INTERSECTIONS_FILE)"
   ]
  },
  {
   "cell_type": "code",
   "execution_count": 9,
   "id": "bd22828a-ffd1-4aec-afdf-418e9d5f9e4d",
   "metadata": {
    "execution": {
     "iopub.execute_input": "2022-01-28T15:26:54.584527Z",
     "iopub.status.busy": "2022-01-28T15:26:54.584016Z",
     "iopub.status.idle": "2022-01-28T15:26:54.586273Z",
     "shell.execute_reply": "2022-01-28T15:26:54.585762Z"
    },
    "papermill": {
     "duration": 0.097683,
     "end_time": "2022-01-28T15:26:54.586393",
     "exception": false,
     "start_time": "2022-01-28T15:26:54.488710",
     "status": "completed"
    },
    "tags": []
   },
   "outputs": [],
   "source": [
    "gene_pairs_intersections = gene_pairs_intersections[\n",
    "    [c for c in gene_pairs_intersections.columns if is_intersection_column(c)]\n",
    "]"
   ]
  },
  {
   "cell_type": "code",
   "execution_count": 10,
   "id": "42c819c5-1681-4694-8abc-4d906f9aba8c",
   "metadata": {
    "execution": {
     "iopub.execute_input": "2022-01-28T15:26:54.640891Z",
     "iopub.status.busy": "2022-01-28T15:26:54.640421Z",
     "iopub.status.idle": "2022-01-28T15:26:54.642509Z",
     "shell.execute_reply": "2022-01-28T15:26:54.642871Z"
    },
    "papermill": {
     "duration": 0.030582,
     "end_time": "2022-01-28T15:26:54.642987",
     "exception": false,
     "start_time": "2022-01-28T15:26:54.612405",
     "status": "completed"
    },
    "tags": []
   },
   "outputs": [
    {
     "data": {
      "text/plain": [
       "(12497500, 6)"
      ]
     },
     "execution_count": 10,
     "metadata": {},
     "output_type": "execute_result"
    }
   ],
   "source": [
    "gene_pairs_intersections.shape"
   ]
  },
  {
   "cell_type": "code",
   "execution_count": 11,
   "id": "94fde3b3-5288-4539-8dcf-fe15ae2a4719",
   "metadata": {
    "execution": {
     "iopub.execute_input": "2022-01-28T15:26:54.696404Z",
     "iopub.status.busy": "2022-01-28T15:26:54.695877Z",
     "iopub.status.idle": "2022-01-28T15:26:54.704328Z",
     "shell.execute_reply": "2022-01-28T15:26:54.703843Z"
    },
    "papermill": {
     "duration": 0.036565,
     "end_time": "2022-01-28T15:26:54.704424",
     "exception": false,
     "start_time": "2022-01-28T15:26:54.667859",
     "status": "completed"
    },
    "tags": []
   },
   "outputs": [
    {
     "data": {
      "text/html": [
       "<div>\n",
       "<style scoped>\n",
       "    .dataframe tbody tr th:only-of-type {\n",
       "        vertical-align: middle;\n",
       "    }\n",
       "\n",
       "    .dataframe tbody tr th {\n",
       "        vertical-align: top;\n",
       "    }\n",
       "\n",
       "    .dataframe thead th {\n",
       "        text-align: right;\n",
       "    }\n",
       "</style>\n",
       "<table border=\"1\" class=\"dataframe\">\n",
       "  <thead>\n",
       "    <tr style=\"text-align: right;\">\n",
       "      <th></th>\n",
       "      <th></th>\n",
       "      <th>Pearson (high)</th>\n",
       "      <th>Pearson (low)</th>\n",
       "      <th>Spearman (high)</th>\n",
       "      <th>Spearman (low)</th>\n",
       "      <th>Clustermatch (high)</th>\n",
       "      <th>Clustermatch (low)</th>\n",
       "    </tr>\n",
       "  </thead>\n",
       "  <tbody>\n",
       "    <tr>\n",
       "      <th rowspan=\"5\" valign=\"top\">ENSG00000000419.12</th>\n",
       "      <th>ENSG00000002834.17</th>\n",
       "      <td>True</td>\n",
       "      <td>False</td>\n",
       "      <td>True</td>\n",
       "      <td>False</td>\n",
       "      <td>True</td>\n",
       "      <td>False</td>\n",
       "    </tr>\n",
       "    <tr>\n",
       "      <th>ENSG00000002919.14</th>\n",
       "      <td>True</td>\n",
       "      <td>False</td>\n",
       "      <td>True</td>\n",
       "      <td>False</td>\n",
       "      <td>True</td>\n",
       "      <td>False</td>\n",
       "    </tr>\n",
       "    <tr>\n",
       "      <th>ENSG00000002933.7</th>\n",
       "      <td>False</td>\n",
       "      <td>True</td>\n",
       "      <td>False</td>\n",
       "      <td>True</td>\n",
       "      <td>False</td>\n",
       "      <td>True</td>\n",
       "    </tr>\n",
       "    <tr>\n",
       "      <th>ENSG00000003402.19</th>\n",
       "      <td>True</td>\n",
       "      <td>False</td>\n",
       "      <td>True</td>\n",
       "      <td>False</td>\n",
       "      <td>True</td>\n",
       "      <td>False</td>\n",
       "    </tr>\n",
       "    <tr>\n",
       "      <th>ENSG00000004478.7</th>\n",
       "      <td>False</td>\n",
       "      <td>True</td>\n",
       "      <td>False</td>\n",
       "      <td>False</td>\n",
       "      <td>False</td>\n",
       "      <td>False</td>\n",
       "    </tr>\n",
       "  </tbody>\n",
       "</table>\n",
       "</div>"
      ],
      "text/plain": [
       "                                       Pearson (high)  Pearson (low)  \\\n",
       "ENSG00000000419.12 ENSG00000002834.17            True          False   \n",
       "                   ENSG00000002919.14            True          False   \n",
       "                   ENSG00000002933.7            False           True   \n",
       "                   ENSG00000003402.19            True          False   \n",
       "                   ENSG00000004478.7            False           True   \n",
       "\n",
       "                                       Spearman (high)  Spearman (low)  \\\n",
       "ENSG00000000419.12 ENSG00000002834.17             True           False   \n",
       "                   ENSG00000002919.14             True           False   \n",
       "                   ENSG00000002933.7             False            True   \n",
       "                   ENSG00000003402.19             True           False   \n",
       "                   ENSG00000004478.7             False           False   \n",
       "\n",
       "                                       Clustermatch (high)  Clustermatch (low)  \n",
       "ENSG00000000419.12 ENSG00000002834.17                 True               False  \n",
       "                   ENSG00000002919.14                 True               False  \n",
       "                   ENSG00000002933.7                 False                True  \n",
       "                   ENSG00000003402.19                 True               False  \n",
       "                   ENSG00000004478.7                 False               False  "
      ]
     },
     "execution_count": 11,
     "metadata": {},
     "output_type": "execute_result"
    }
   ],
   "source": [
    "gene_pairs_intersections.head()"
   ]
  },
  {
   "cell_type": "markdown",
   "id": "b030f506-2fe9-4895-a8a1-51374e88c496",
   "metadata": {
    "papermill": {
     "duration": 0.02853,
     "end_time": "2022-01-28T15:26:54.758333",
     "exception": false,
     "start_time": "2022-01-28T15:26:54.729803",
     "status": "completed"
    },
    "tags": []
   },
   "source": [
    "## Gene pairs intersection - gene pairs"
   ]
  },
  {
   "cell_type": "code",
   "execution_count": 12,
   "id": "da1d768a-fbfb-40e8-8fbb-790d1a94aa83",
   "metadata": {
    "execution": {
     "iopub.execute_input": "2022-01-28T15:26:54.815511Z",
     "iopub.status.busy": "2022-01-28T15:26:54.815048Z",
     "iopub.status.idle": "2022-01-28T15:26:54.816649Z",
     "shell.execute_reply": "2022-01-28T15:26:54.817002Z"
    },
    "papermill": {
     "duration": 0.029831,
     "end_time": "2022-01-28T15:26:54.817114",
     "exception": false,
     "start_time": "2022-01-28T15:26:54.787283",
     "status": "completed"
    },
    "tags": []
   },
   "outputs": [],
   "source": [
    "# gene_pairs_df = gene_pairs_intersections.rename_axis((\"gene0\", \"gene1\")).index.to_frame(index=False)"
   ]
  },
  {
   "cell_type": "code",
   "execution_count": 13,
   "id": "6123d474-0c0d-4771-9678-248ce89424ce",
   "metadata": {
    "execution": {
     "iopub.execute_input": "2022-01-28T15:26:54.869381Z",
     "iopub.status.busy": "2022-01-28T15:26:54.868932Z",
     "iopub.status.idle": "2022-01-28T15:26:54.870396Z",
     "shell.execute_reply": "2022-01-28T15:26:54.870742Z"
    },
    "papermill": {
     "duration": 0.028973,
     "end_time": "2022-01-28T15:26:54.870857",
     "exception": false,
     "start_time": "2022-01-28T15:26:54.841884",
     "status": "completed"
    },
    "tags": []
   },
   "outputs": [],
   "source": [
    "# gene_pairs_df.shape"
   ]
  },
  {
   "cell_type": "code",
   "execution_count": 14,
   "id": "b028abd8-c5b1-48c2-aa5e-cb1b49c943a4",
   "metadata": {
    "execution": {
     "iopub.execute_input": "2022-01-28T15:26:54.925349Z",
     "iopub.status.busy": "2022-01-28T15:26:54.924885Z",
     "iopub.status.idle": "2022-01-28T15:26:54.926491Z",
     "shell.execute_reply": "2022-01-28T15:26:54.926832Z"
    },
    "papermill": {
     "duration": 0.030155,
     "end_time": "2022-01-28T15:26:54.926947",
     "exception": false,
     "start_time": "2022-01-28T15:26:54.896792",
     "status": "completed"
    },
    "tags": []
   },
   "outputs": [],
   "source": [
    "# gene_pairs_df.head()"
   ]
  },
  {
   "cell_type": "markdown",
   "id": "b0c529c2-658c-4886-bbd4-0457a649ee36",
   "metadata": {
    "papermill": {
     "duration": 0.024431,
     "end_time": "2022-01-28T15:26:54.976248",
     "exception": false,
     "start_time": "2022-01-28T15:26:54.951817",
     "status": "completed"
    },
    "tags": []
   },
   "source": [
    "# Functions"
   ]
  },
  {
   "cell_type": "code",
   "execution_count": 15,
   "id": "4aec55f9-c449-4871-991d-1ed84e22b82e",
   "metadata": {
    "execution": {
     "iopub.execute_input": "2022-01-28T15:26:55.028703Z",
     "iopub.status.busy": "2022-01-28T15:26:55.028262Z",
     "iopub.status.idle": "2022-01-28T15:26:55.029951Z",
     "shell.execute_reply": "2022-01-28T15:26:55.030296Z"
    },
    "papermill": {
     "duration": 0.0297,
     "end_time": "2022-01-28T15:26:55.030412",
     "exception": false,
     "start_time": "2022-01-28T15:26:55.000712",
     "status": "completed"
    },
    "tags": []
   },
   "outputs": [],
   "source": [
    "# df_r_data = df_plot"
   ]
  },
  {
   "cell_type": "code",
   "execution_count": 16,
   "id": "d90335e5-0848-4cf7-bafc-2fddb39fbf76",
   "metadata": {
    "execution": {
     "iopub.execute_input": "2022-01-28T15:26:55.083158Z",
     "iopub.status.busy": "2022-01-28T15:26:55.082687Z",
     "iopub.status.idle": "2022-01-28T15:26:55.084317Z",
     "shell.execute_reply": "2022-01-28T15:26:55.084673Z"
    },
    "papermill": {
     "duration": 0.02937,
     "end_time": "2022-01-28T15:26:55.084784",
     "exception": false,
     "start_time": "2022-01-28T15:26:55.055414",
     "status": "completed"
    },
    "tags": []
   },
   "outputs": [],
   "source": [
    "# df_r_data.head()"
   ]
  },
  {
   "cell_type": "code",
   "execution_count": 17,
   "id": "526cc3fe-06c6-41d0-b0fb-daa95946f7d6",
   "metadata": {
    "execution": {
     "iopub.execute_input": "2022-01-28T15:26:55.137890Z",
     "iopub.status.busy": "2022-01-28T15:26:55.137432Z",
     "iopub.status.idle": "2022-01-28T15:26:55.139739Z",
     "shell.execute_reply": "2022-01-28T15:26:55.139289Z"
    },
    "papermill": {
     "duration": 0.029953,
     "end_time": "2022-01-28T15:26:55.139834",
     "exception": false,
     "start_time": "2022-01-28T15:26:55.109881",
     "status": "completed"
    },
    "tags": []
   },
   "outputs": [],
   "source": [
    "# df_r_data_boolean_cols = set(\n",
    "#     [x for x in df_r_data.columns if \" (high)\" in x or \" (low)\" in x]\n",
    "# )"
   ]
  },
  {
   "cell_type": "code",
   "execution_count": 18,
   "id": "1b317b79-ec8a-4a21-bdf7-0b5ec15c2e28",
   "metadata": {
    "execution": {
     "iopub.execute_input": "2022-01-28T15:26:55.192701Z",
     "iopub.status.busy": "2022-01-28T15:26:55.192248Z",
     "iopub.status.idle": "2022-01-28T15:26:55.194177Z",
     "shell.execute_reply": "2022-01-28T15:26:55.193811Z"
    },
    "papermill": {
     "duration": 0.029567,
     "end_time": "2022-01-28T15:26:55.194275",
     "exception": false,
     "start_time": "2022-01-28T15:26:55.164708",
     "status": "completed"
    },
    "tags": []
   },
   "outputs": [],
   "source": [
    "# df_r_data_boolean_cols"
   ]
  },
  {
   "cell_type": "code",
   "execution_count": 19,
   "id": "ae599640-083e-420b-9ad6-b0436fa74864",
   "metadata": {
    "execution": {
     "iopub.execute_input": "2022-01-28T15:26:55.250015Z",
     "iopub.status.busy": "2022-01-28T15:26:55.249559Z",
     "iopub.status.idle": "2022-01-28T15:26:55.251735Z",
     "shell.execute_reply": "2022-01-28T15:26:55.251295Z"
    },
    "papermill": {
     "duration": 0.032506,
     "end_time": "2022-01-28T15:26:55.251828",
     "exception": false,
     "start_time": "2022-01-28T15:26:55.219322",
     "status": "completed"
    },
    "tags": []
   },
   "outputs": [],
   "source": [
    "def get_gene_pairs(gene_pairs_intersections, query_set):\n",
    "    \"\"\"\n",
    "    FIXME: UPDATE\n",
    "\n",
    "    It queries the given dataframe with the intersections of different groups (i.e.,\n",
    "    clustermatch high, pearson low, etc) given a query set. It returns a slice of\n",
    "    the dataframe according to the query set provided.\n",
    "\n",
    "    Args:\n",
    "        gene_pairs_intersections: a dataframe with gene pairs in rows and intersection\n",
    "            groups as columns (which are boolean). No other columns are allowed.\n",
    "        query_set: a tuple with strings that specifies a query. For example\n",
    "            (\"Clustermatch (high)\", \"Pearson (low\") would select all gene pairs\n",
    "            for which clustermatch is high and pearson is low.\n",
    "\n",
    "    Returns:\n",
    "        A slice of gene pairs in the input dataframe where the conditions specified in query_set\n",
    "        apply.\n",
    "    \"\"\"\n",
    "    assert all([x in gene_pairs_intersections.columns for x in query_set])\n",
    "\n",
    "    query = np.concatenate(\n",
    "        [\n",
    "            # columns that have to be true\n",
    "            np.concatenate(\n",
    "                [\n",
    "                    gene_pairs_intersections[c].to_numpy().reshape(-1, 1)\n",
    "                    for c in query_set\n",
    "                ],\n",
    "                axis=1,\n",
    "            )\n",
    "            .all(axis=1)\n",
    "            .reshape(-1, 1),\n",
    "            # rest of the columns, that have to be false\n",
    "            np.concatenate(\n",
    "                [\n",
    "                    ~gene_pairs_intersections[c].to_numpy().reshape(-1, 1)\n",
    "                    for c in gene_pairs_intersections.columns\n",
    "                    if c not in query_set\n",
    "                ],\n",
    "                axis=1,\n",
    "            )\n",
    "            .all(axis=1)\n",
    "            .reshape(-1, 1),\n",
    "        ],\n",
    "        axis=1,\n",
    "    ).all(axis=1)\n",
    "\n",
    "    _tmp_df = gene_pairs_intersections[query]\n",
    "\n",
    "    # _tmp_df = _tmp_df[\n",
    "    #     [x for x in _tmp_df.columns if \"(high)\" not in x and \"(low)\" not in x]\n",
    "    # ]\n",
    "\n",
    "    return _tmp_df.rename_axis((\"gene0\", \"gene1\")).index.to_frame(index=False)"
   ]
  },
  {
   "cell_type": "code",
   "execution_count": 20,
   "id": "dec0c433-c2da-445e-acb4-2709b9809126",
   "metadata": {
    "execution": {
     "iopub.execute_input": "2022-01-28T15:26:55.305450Z",
     "iopub.status.busy": "2022-01-28T15:26:55.304942Z",
     "iopub.status.idle": "2022-01-28T15:26:56.176330Z",
     "shell.execute_reply": "2022-01-28T15:26:56.175856Z"
    },
    "papermill": {
     "duration": 0.899578,
     "end_time": "2022-01-28T15:26:56.176424",
     "exception": false,
     "start_time": "2022-01-28T15:26:55.276846",
     "status": "completed"
    },
    "tags": []
   },
   "outputs": [
    {
     "data": {
      "text/plain": [
       "gene0    object\n",
       "gene1    object\n",
       "dtype: object"
      ]
     },
     "metadata": {},
     "output_type": "display_data"
    },
    {
     "data": {
      "text/plain": [
       "(3120576, 2)"
      ]
     },
     "metadata": {},
     "output_type": "display_data"
    },
    {
     "data": {
      "text/html": [
       "<div>\n",
       "<style scoped>\n",
       "    .dataframe tbody tr th:only-of-type {\n",
       "        vertical-align: middle;\n",
       "    }\n",
       "\n",
       "    .dataframe tbody tr th {\n",
       "        vertical-align: top;\n",
       "    }\n",
       "\n",
       "    .dataframe thead th {\n",
       "        text-align: right;\n",
       "    }\n",
       "</style>\n",
       "<table border=\"1\" class=\"dataframe\">\n",
       "  <thead>\n",
       "    <tr style=\"text-align: right;\">\n",
       "      <th></th>\n",
       "      <th>gene0</th>\n",
       "      <th>gene1</th>\n",
       "    </tr>\n",
       "  </thead>\n",
       "  <tbody>\n",
       "    <tr>\n",
       "      <th>0</th>\n",
       "      <td>ENSG00000000419.12</td>\n",
       "      <td>ENSG00000002834.17</td>\n",
       "    </tr>\n",
       "    <tr>\n",
       "      <th>1</th>\n",
       "      <td>ENSG00000000419.12</td>\n",
       "      <td>ENSG00000002919.14</td>\n",
       "    </tr>\n",
       "    <tr>\n",
       "      <th>2</th>\n",
       "      <td>ENSG00000000419.12</td>\n",
       "      <td>ENSG00000003402.19</td>\n",
       "    </tr>\n",
       "    <tr>\n",
       "      <th>3</th>\n",
       "      <td>ENSG00000000419.12</td>\n",
       "      <td>ENSG00000004660.14</td>\n",
       "    </tr>\n",
       "    <tr>\n",
       "      <th>4</th>\n",
       "      <td>ENSG00000000419.12</td>\n",
       "      <td>ENSG00000005020.12</td>\n",
       "    </tr>\n",
       "  </tbody>\n",
       "</table>\n",
       "</div>"
      ],
      "text/plain": [
       "                gene0               gene1\n",
       "0  ENSG00000000419.12  ENSG00000002834.17\n",
       "1  ENSG00000000419.12  ENSG00000002919.14\n",
       "2  ENSG00000000419.12  ENSG00000003402.19\n",
       "3  ENSG00000000419.12  ENSG00000004660.14\n",
       "4  ENSG00000000419.12  ENSG00000005020.12"
      ]
     },
     "metadata": {},
     "output_type": "display_data"
    }
   ],
   "source": [
    "_tmp = get_gene_pairs(\n",
    "    gene_pairs_intersections,\n",
    "    {\n",
    "        \"Clustermatch (high)\",\n",
    "        \"Pearson (high)\",\n",
    "        \"Spearman (high)\",\n",
    "    },\n",
    ")\n",
    "\n",
    "display(_tmp.dtypes)\n",
    "display(_tmp.shape)\n",
    "display(_tmp.head())\n",
    "\n",
    "assert _tmp.shape[0] > int(3.12e6)"
   ]
  },
  {
   "cell_type": "markdown",
   "id": "fad30c56-b3fb-48a8-b532-6399c86af347",
   "metadata": {
    "papermill": {
     "duration": 0.025843,
     "end_time": "2022-01-28T15:26:56.229029",
     "exception": false,
     "start_time": "2022-01-28T15:26:56.203186",
     "status": "completed"
    },
    "tags": []
   },
   "source": [
    "# Get intersections dataframe"
   ]
  },
  {
   "cell_type": "markdown",
   "id": "a0f774c2-2bd4-4d61-92f7-b0f04264e5b7",
   "metadata": {
    "papermill": {
     "duration": 0.025594,
     "end_time": "2022-01-28T15:26:56.280472",
     "exception": false,
     "start_time": "2022-01-28T15:26:56.254878",
     "status": "completed"
    },
    "tags": []
   },
   "source": [
    "## Agreements"
   ]
  },
  {
   "cell_type": "code",
   "execution_count": 21,
   "id": "807b2034-3761-4ba2-a65a-65ff76410748",
   "metadata": {
    "execution": {
     "iopub.execute_input": "2022-01-28T15:26:56.337496Z",
     "iopub.status.busy": "2022-01-28T15:26:56.337011Z",
     "iopub.status.idle": "2022-01-28T15:26:56.338548Z",
     "shell.execute_reply": "2022-01-28T15:26:56.338893Z"
    },
    "papermill": {
     "duration": 0.032651,
     "end_time": "2022-01-28T15:26:56.339009",
     "exception": false,
     "start_time": "2022-01-28T15:26:56.306358",
     "status": "completed"
    },
    "tags": []
   },
   "outputs": [],
   "source": [
    "_queries = [\n",
    "    [\n",
    "        \"Clustermatch (high)\",\n",
    "        \"Pearson (high)\",\n",
    "        \"Spearman (high)\",\n",
    "        # \"Clustermatch (low)\",\n",
    "        # \"Pearson (low)\",\n",
    "        # \"Spearman (low)\",\n",
    "    ],\n",
    "    [\n",
    "        \"Clustermatch (high)\",\n",
    "        \"Pearson (high)\",\n",
    "        # \"Spearman (high)\",\n",
    "        # \"Clustermatch (low)\",\n",
    "        # \"Pearson (low)\",\n",
    "        # \"Spearman (low)\",\n",
    "    ],\n",
    "    [\n",
    "        \"Clustermatch (high)\",\n",
    "        # \"Pearson (high)\",\n",
    "        \"Spearman (high)\",\n",
    "        # \"Clustermatch (low)\",\n",
    "        # \"Pearson (low)\",\n",
    "        # \"Spearman (low)\",\n",
    "    ],\n",
    "    [\n",
    "        # \"Clustermatch (high)\",\n",
    "        \"Pearson (high)\",\n",
    "        \"Spearman (high)\",\n",
    "        # \"Clustermatch (low)\",\n",
    "        # \"Pearson (low)\",\n",
    "        # \"Spearman (low)\",\n",
    "    ],\n",
    "    [\n",
    "        # \"Clustermatch (high)\",\n",
    "        # \"Pearson (high)\",\n",
    "        # \"Spearman (high)\",\n",
    "        \"Clustermatch (low)\",\n",
    "        \"Pearson (low)\",\n",
    "        # \"Spearman (low)\",\n",
    "    ],\n",
    "    [\n",
    "        # \"Clustermatch (high)\",\n",
    "        # \"Pearson (high)\",\n",
    "        # \"Spearman (high)\",\n",
    "        \"Clustermatch (low)\",\n",
    "        # \"Pearson (low)\",\n",
    "        \"Spearman (low)\",\n",
    "    ],\n",
    "    [\n",
    "        # \"Clustermatch (high)\",\n",
    "        # \"Pearson (high)\",\n",
    "        # \"Spearman (high)\",\n",
    "        # \"Clustermatch (low)\",\n",
    "        \"Pearson (low)\",\n",
    "        \"Spearman (low)\",\n",
    "    ],\n",
    "    [\n",
    "        # \"Clustermatch (high)\",\n",
    "        # \"Pearson (high)\",\n",
    "        # \"Spearman (high)\",\n",
    "        \"Clustermatch (low)\",\n",
    "        \"Pearson (low)\",\n",
    "        \"Spearman (low)\",\n",
    "    ],\n",
    "]"
   ]
  },
  {
   "cell_type": "code",
   "execution_count": 22,
   "id": "1cbadd5d-7a98-4264-a83f-9c03415e3ee0",
   "metadata": {
    "execution": {
     "iopub.execute_input": "2022-01-28T15:26:56.395426Z",
     "iopub.status.busy": "2022-01-28T15:26:56.394852Z",
     "iopub.status.idle": "2022-01-28T15:26:56.397621Z",
     "shell.execute_reply": "2022-01-28T15:26:56.397252Z"
    },
    "papermill": {
     "duration": 0.032091,
     "end_time": "2022-01-28T15:26:56.397718",
     "exception": false,
     "start_time": "2022-01-28T15:26:56.365627",
     "status": "completed"
    },
    "tags": []
   },
   "outputs": [
    {
     "data": {
      "text/plain": [
       "8"
      ]
     },
     "metadata": {},
     "output_type": "display_data"
    }
   ],
   "source": [
    "display(len(_queries))\n",
    "assert len(_queries) == 8"
   ]
  },
  {
   "cell_type": "code",
   "execution_count": 23,
   "id": "d21ca403-339f-43ec-a66e-8f3ba10ecfb3",
   "metadata": {
    "execution": {
     "iopub.execute_input": "2022-01-28T15:26:56.454742Z",
     "iopub.status.busy": "2022-01-28T15:26:56.452972Z",
     "iopub.status.idle": "2022-01-28T15:27:02.583157Z",
     "shell.execute_reply": "2022-01-28T15:27:02.582692Z"
    },
    "papermill": {
     "duration": 6.158837,
     "end_time": "2022-01-28T15:27:02.583255",
     "exception": false,
     "start_time": "2022-01-28T15:26:56.424418",
     "status": "completed"
    },
    "tags": []
   },
   "outputs": [],
   "source": [
    "gene_pairs_df = []\n",
    "\n",
    "for idx, _query in enumerate(_queries):\n",
    "    group_df = get_gene_pairs(gene_pairs_intersections, set(_query))\n",
    "    gene_pairs_df.append(group_df)\n",
    "\n",
    "gene_pairs_df = pd.concat(gene_pairs_df)"
   ]
  },
  {
   "cell_type": "code",
   "execution_count": 24,
   "id": "29e2c167-b45a-4c63-a223-f78d5e953b37",
   "metadata": {
    "execution": {
     "iopub.execute_input": "2022-01-28T15:27:02.640207Z",
     "iopub.status.busy": "2022-01-28T15:27:02.639678Z",
     "iopub.status.idle": "2022-01-28T15:27:05.135630Z",
     "shell.execute_reply": "2022-01-28T15:27:05.135216Z"
    },
    "papermill": {
     "duration": 2.526164,
     "end_time": "2022-01-28T15:27:05.135733",
     "exception": false,
     "start_time": "2022-01-28T15:27:02.609569",
     "status": "completed"
    },
    "tags": []
   },
   "outputs": [
    {
     "data": {
      "text/plain": [
       "(7379251, 2)"
      ]
     },
     "metadata": {},
     "output_type": "display_data"
    }
   ],
   "source": [
    "display(gene_pairs_df.shape)\n",
    "assert gene_pairs_df.drop_duplicates().shape == gene_pairs_df.shape\n",
    "assert (gene_pairs_df.shape[0] > 7.3e6) and (gene_pairs_df.shape[0] < 7.4e6)"
   ]
  },
  {
   "cell_type": "code",
   "execution_count": 25,
   "id": "2df7cd58-55b9-46d0-b195-2c745eb358df",
   "metadata": {
    "execution": {
     "iopub.execute_input": "2022-01-28T15:27:05.195243Z",
     "iopub.status.busy": "2022-01-28T15:27:05.194639Z",
     "iopub.status.idle": "2022-01-28T15:27:05.197462Z",
     "shell.execute_reply": "2022-01-28T15:27:05.196994Z"
    },
    "papermill": {
     "duration": 0.034883,
     "end_time": "2022-01-28T15:27:05.197571",
     "exception": false,
     "start_time": "2022-01-28T15:27:05.162688",
     "status": "completed"
    },
    "tags": []
   },
   "outputs": [
    {
     "data": {
      "text/html": [
       "<div>\n",
       "<style scoped>\n",
       "    .dataframe tbody tr th:only-of-type {\n",
       "        vertical-align: middle;\n",
       "    }\n",
       "\n",
       "    .dataframe tbody tr th {\n",
       "        vertical-align: top;\n",
       "    }\n",
       "\n",
       "    .dataframe thead th {\n",
       "        text-align: right;\n",
       "    }\n",
       "</style>\n",
       "<table border=\"1\" class=\"dataframe\">\n",
       "  <thead>\n",
       "    <tr style=\"text-align: right;\">\n",
       "      <th></th>\n",
       "      <th>gene0</th>\n",
       "      <th>gene1</th>\n",
       "    </tr>\n",
       "  </thead>\n",
       "  <tbody>\n",
       "    <tr>\n",
       "      <th>0</th>\n",
       "      <td>ENSG00000000419.12</td>\n",
       "      <td>ENSG00000002834.17</td>\n",
       "    </tr>\n",
       "    <tr>\n",
       "      <th>1</th>\n",
       "      <td>ENSG00000000419.12</td>\n",
       "      <td>ENSG00000002919.14</td>\n",
       "    </tr>\n",
       "    <tr>\n",
       "      <th>2</th>\n",
       "      <td>ENSG00000000419.12</td>\n",
       "      <td>ENSG00000003402.19</td>\n",
       "    </tr>\n",
       "    <tr>\n",
       "      <th>3</th>\n",
       "      <td>ENSG00000000419.12</td>\n",
       "      <td>ENSG00000004660.14</td>\n",
       "    </tr>\n",
       "    <tr>\n",
       "      <th>4</th>\n",
       "      <td>ENSG00000000419.12</td>\n",
       "      <td>ENSG00000005020.12</td>\n",
       "    </tr>\n",
       "  </tbody>\n",
       "</table>\n",
       "</div>"
      ],
      "text/plain": [
       "                gene0               gene1\n",
       "0  ENSG00000000419.12  ENSG00000002834.17\n",
       "1  ENSG00000000419.12  ENSG00000002919.14\n",
       "2  ENSG00000000419.12  ENSG00000003402.19\n",
       "3  ENSG00000000419.12  ENSG00000004660.14\n",
       "4  ENSG00000000419.12  ENSG00000005020.12"
      ]
     },
     "execution_count": 25,
     "metadata": {},
     "output_type": "execute_result"
    }
   ],
   "source": [
    "gene_pairs_df.head()"
   ]
  },
  {
   "cell_type": "markdown",
   "id": "a1512df6-7c3f-44e8-b833-16260f9d8737",
   "metadata": {
    "papermill": {
     "duration": 0.026444,
     "end_time": "2022-01-28T15:27:05.251096",
     "exception": false,
     "start_time": "2022-01-28T15:27:05.224652",
     "status": "completed"
    },
    "tags": []
   },
   "source": [
    "# Create samples and save"
   ]
  },
  {
   "cell_type": "code",
   "execution_count": 26,
   "id": "e6341760-e704-4920-b946-fe109b900609",
   "metadata": {
    "execution": {
     "iopub.execute_input": "2022-01-28T15:27:05.308304Z",
     "iopub.status.busy": "2022-01-28T15:27:05.307767Z",
     "iopub.status.idle": "2022-01-28T15:27:05.585542Z",
     "shell.execute_reply": "2022-01-28T15:27:05.585073Z"
    },
    "papermill": {
     "duration": 0.307829,
     "end_time": "2022-01-28T15:27:05.585666",
     "exception": false,
     "start_time": "2022-01-28T15:27:05.277837",
     "status": "completed"
    },
    "tags": []
   },
   "outputs": [
    {
     "data": {
      "text/plain": [
       "'/opt/data/results/gtex_v8/gene_pair_intersections/samples/gene_pair_intersections-gtex_v8-whole_blood-var_pc_log2-agreements_sample_0.pkl'"
      ]
     },
     "metadata": {},
     "output_type": "display_data"
    }
   ],
   "source": [
    "for sample_id in range(N_SAMPLES):\n",
    "    data_sample = gene_pairs_df.sample(n=SAMPLE_SIZE, random_state=sample_id)\n",
    "\n",
    "    output_filepath = OUTPUT_FILE_TEMPLATE.format(sample_id=sample_id)\n",
    "    display(output_filepath)\n",
    "\n",
    "    data_sample.to_pickle(output_filepath)"
   ]
  },
  {
   "cell_type": "code",
   "execution_count": 27,
   "id": "295c3ac8-4b42-41ea-8402-a0fd2f89d386",
   "metadata": {
    "execution": {
     "iopub.execute_input": "2022-01-28T15:27:05.652005Z",
     "iopub.status.busy": "2022-01-28T15:27:05.651438Z",
     "iopub.status.idle": "2022-01-28T15:27:05.659041Z",
     "shell.execute_reply": "2022-01-28T15:27:05.658591Z"
    },
    "papermill": {
     "duration": 0.039606,
     "end_time": "2022-01-28T15:27:05.659138",
     "exception": false,
     "start_time": "2022-01-28T15:27:05.619532",
     "status": "completed"
    },
    "tags": []
   },
   "outputs": [
    {
     "data": {
      "text/plain": [
       "gene0    object\n",
       "gene1    object\n",
       "dtype: object"
      ]
     },
     "metadata": {},
     "output_type": "display_data"
    },
    {
     "data": {
      "text/plain": [
       "(33000, 2)"
      ]
     },
     "metadata": {},
     "output_type": "display_data"
    },
    {
     "data": {
      "text/html": [
       "<div>\n",
       "<style scoped>\n",
       "    .dataframe tbody tr th:only-of-type {\n",
       "        vertical-align: middle;\n",
       "    }\n",
       "\n",
       "    .dataframe tbody tr th {\n",
       "        vertical-align: top;\n",
       "    }\n",
       "\n",
       "    .dataframe thead th {\n",
       "        text-align: right;\n",
       "    }\n",
       "</style>\n",
       "<table border=\"1\" class=\"dataframe\">\n",
       "  <thead>\n",
       "    <tr style=\"text-align: right;\">\n",
       "      <th></th>\n",
       "      <th>gene0</th>\n",
       "      <th>gene1</th>\n",
       "    </tr>\n",
       "  </thead>\n",
       "  <tbody>\n",
       "    <tr>\n",
       "      <th>1803926</th>\n",
       "      <td>ENSG00000196358.10</td>\n",
       "      <td>ENSG00000092054.12</td>\n",
       "    </tr>\n",
       "    <tr>\n",
       "      <th>919842</th>\n",
       "      <td>ENSG00000119979.16</td>\n",
       "      <td>ENSG00000115271.10</td>\n",
       "    </tr>\n",
       "    <tr>\n",
       "      <th>842179</th>\n",
       "      <td>ENSG00000116731.22</td>\n",
       "      <td>ENSG00000063601.16</td>\n",
       "    </tr>\n",
       "    <tr>\n",
       "      <th>337910</th>\n",
       "      <td>ENSG00000087087.18</td>\n",
       "      <td>ENSG00000173200.12</td>\n",
       "    </tr>\n",
       "    <tr>\n",
       "      <th>1894022</th>\n",
       "      <td>ENSG00000164941.13</td>\n",
       "      <td>ENSG00000186205.12</td>\n",
       "    </tr>\n",
       "  </tbody>\n",
       "</table>\n",
       "</div>"
      ],
      "text/plain": [
       "                      gene0               gene1\n",
       "1803926  ENSG00000196358.10  ENSG00000092054.12\n",
       "919842   ENSG00000119979.16  ENSG00000115271.10\n",
       "842179   ENSG00000116731.22  ENSG00000063601.16\n",
       "337910   ENSG00000087087.18  ENSG00000173200.12\n",
       "1894022  ENSG00000164941.13  ENSG00000186205.12"
      ]
     },
     "metadata": {},
     "output_type": "display_data"
    }
   ],
   "source": [
    "display(data_sample.dtypes)\n",
    "display(data_sample.shape)\n",
    "display(data_sample.head())"
   ]
  },
  {
   "cell_type": "code",
   "execution_count": null,
   "id": "baecf5a6-0828-4d6a-9d0b-b22fb607dae5",
   "metadata": {
    "papermill": {
     "duration": 0.027908,
     "end_time": "2022-01-28T15:27:05.716538",
     "exception": false,
     "start_time": "2022-01-28T15:27:05.688630",
     "status": "completed"
    },
    "tags": []
   },
   "outputs": [],
   "source": []
  }
 ],
 "metadata": {
  "jupytext": {
   "cell_metadata_filter": "all,-execution,-papermill,-trusted",
   "text_representation": {
    "extension": ".py",
    "format_name": "percent",
    "format_version": "1.3",
    "jupytext_version": "1.11.5"
   }
  },
  "kernelspec": {
   "display_name": "Python 3 (ipykernel)",
   "language": "python",
   "name": "python3"
  },
  "language_info": {
   "codemirror_mode": {
    "name": "ipython",
    "version": 3
   },
   "file_extension": ".py",
   "mimetype": "text/x-python",
   "name": "python",
   "nbconvert_exporter": "python",
   "pygments_lexer": "ipython3",
   "version": "3.9.9"
  },
  "papermill": {
   "default_parameters": {},
   "duration": 14.007284,
   "end_time": "2022-01-28T15:27:06.064335",
   "environment_variables": {},
   "exception": null,
   "input_path": "nbs/20_comparison_others/03_05-gtex_whole_blood-sample_intersections-agreements.ipynb",
   "output_path": "nbs/20_comparison_others/03_05-gtex_whole_blood-sample_intersections-agreements.run.ipynb",
   "parameters": {},
   "start_time": "2022-01-28T15:26:52.057051",
   "version": "2.3.4"
  },
  "toc-autonumbering": true
 },
 "nbformat": 4,
 "nbformat_minor": 5
}
