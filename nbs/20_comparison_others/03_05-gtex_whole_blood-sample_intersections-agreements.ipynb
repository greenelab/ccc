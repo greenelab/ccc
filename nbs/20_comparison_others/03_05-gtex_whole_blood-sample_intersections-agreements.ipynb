{
 "cells": [
  {
   "cell_type": "markdown",
   "id": "87e0ce1b-7ce6-4499-9342-5ded05307598",
   "metadata": {
    "papermill": {
     "duration": 0.056533,
     "end_time": "2022-01-27T16:02:01.505850",
     "exception": false,
     "start_time": "2022-01-27T16:02:01.449317",
     "status": "completed"
    },
    "tags": []
   },
   "source": [
    "# Description"
   ]
  },
  {
   "cell_type": "markdown",
   "id": "4bfc7115-350a-441b-9a19-7626a948a694",
   "metadata": {
    "papermill": {
     "duration": 0.019911,
     "end_time": "2022-01-27T16:02:01.546383",
     "exception": false,
     "start_time": "2022-01-27T16:02:01.526472",
     "status": "completed"
    },
    "tags": []
   },
   "source": [
    "From the intersections groups (visualized in the UpSet plot), it samples from the \"Agreements\", that is, only intersection groups where there is agreement between methods (clustermatch, pearson and spearman)."
   ]
  },
  {
   "cell_type": "markdown",
   "id": "e020c781-238b-43c2-8cad-2722b8a240e2",
   "metadata": {
    "papermill": {
     "duration": 0.019881,
     "end_time": "2022-01-27T16:02:01.586323",
     "exception": false,
     "start_time": "2022-01-27T16:02:01.566442",
     "status": "completed"
    },
    "tags": []
   },
   "source": [
    "# Modules"
   ]
  },
  {
   "cell_type": "code",
   "execution_count": 1,
   "id": "a819bfbc-5009-4c68-ba8d-37d0979d368f",
   "metadata": {
    "execution": {
     "iopub.execute_input": "2022-01-27T16:02:01.635030Z",
     "iopub.status.busy": "2022-01-27T16:02:01.634559Z",
     "iopub.status.idle": "2022-01-27T16:02:01.862396Z",
     "shell.execute_reply": "2022-01-27T16:02:01.862772Z"
    },
    "papermill": {
     "duration": 0.25655,
     "end_time": "2022-01-27T16:02:01.862969",
     "exception": false,
     "start_time": "2022-01-27T16:02:01.606419",
     "status": "completed"
    },
    "tags": []
   },
   "outputs": [],
   "source": [
    "import pandas as pd\n",
    "import numpy as np\n",
    "\n",
    "from clustermatch import conf"
   ]
  },
  {
   "cell_type": "markdown",
   "id": "b4834387-58ff-468c-b326-85c408bc5feb",
   "metadata": {
    "papermill": {
     "duration": 0.020135,
     "end_time": "2022-01-27T16:02:01.904361",
     "exception": false,
     "start_time": "2022-01-27T16:02:01.884226",
     "status": "completed"
    },
    "tags": []
   },
   "source": [
    "# Settings"
   ]
  },
  {
   "cell_type": "code",
   "execution_count": 2,
   "id": "765e820a-4518-4bbc-a00f-14c9cea03821",
   "metadata": {
    "execution": {
     "iopub.execute_input": "2022-01-27T16:02:01.948625Z",
     "iopub.status.busy": "2022-01-27T16:02:01.948157Z",
     "iopub.status.idle": "2022-01-27T16:02:01.950052Z",
     "shell.execute_reply": "2022-01-27T16:02:01.949598Z"
    },
    "papermill": {
     "duration": 0.025301,
     "end_time": "2022-01-27T16:02:01.950148",
     "exception": false,
     "start_time": "2022-01-27T16:02:01.924847",
     "status": "completed"
    },
    "tags": []
   },
   "outputs": [],
   "source": [
    "DATASET_CONFIG = conf.GTEX\n",
    "GTEX_TISSUE = \"whole_blood\"\n",
    "GENE_SEL_STRATEGY = \"var_pc_log2\""
   ]
  },
  {
   "cell_type": "code",
   "execution_count": 3,
   "id": "85ee3634-e24a-45d1-8209-5e1b7e81d5d0",
   "metadata": {
    "execution": {
     "iopub.execute_input": "2022-01-27T16:02:01.995246Z",
     "iopub.status.busy": "2022-01-27T16:02:01.994786Z",
     "iopub.status.idle": "2022-01-27T16:02:01.996374Z",
     "shell.execute_reply": "2022-01-27T16:02:01.996738Z"
    },
    "papermill": {
     "duration": 0.025488,
     "end_time": "2022-01-27T16:02:01.996850",
     "exception": false,
     "start_time": "2022-01-27T16:02:01.971362",
     "status": "completed"
    },
    "tags": []
   },
   "outputs": [],
   "source": [
    "# amount of gene pairs to sample\n",
    "SAMPLE_SIZE = 33000\n",
    "\n",
    "# number of samples to take\n",
    "N_SAMPLES = 1"
   ]
  },
  {
   "cell_type": "markdown",
   "id": "a1159982-5dd1-4494-97d4-0674eeead1c3",
   "metadata": {
    "papermill": {
     "duration": 0.02087,
     "end_time": "2022-01-27T16:02:02.038957",
     "exception": false,
     "start_time": "2022-01-27T16:02:02.018087",
     "status": "completed"
    },
    "tags": []
   },
   "source": [
    "# Paths"
   ]
  },
  {
   "cell_type": "code",
   "execution_count": 4,
   "id": "30cce6f5-ca1b-438c-859d-31903a42d4c6",
   "metadata": {
    "execution": {
     "iopub.execute_input": "2022-01-27T16:02:02.087487Z",
     "iopub.status.busy": "2022-01-27T16:02:02.086848Z",
     "iopub.status.idle": "2022-01-27T16:02:02.091313Z",
     "shell.execute_reply": "2022-01-27T16:02:02.090856Z"
    },
    "papermill": {
     "duration": 0.031891,
     "end_time": "2022-01-27T16:02:02.091409",
     "exception": false,
     "start_time": "2022-01-27T16:02:02.059518",
     "status": "completed"
    },
    "tags": []
   },
   "outputs": [
    {
     "data": {
      "text/plain": [
       "PosixPath('/opt/data/results/gtex_v8/gene_pair_intersections/gene_pair_intersections-gtex_v8-whole_blood-var_pc_log2.pkl')"
      ]
     },
     "metadata": {},
     "output_type": "display_data"
    }
   ],
   "source": [
    "INPUT_GENE_PAIRS_INTERSECTIONS_FILE = (\n",
    "    DATASET_CONFIG[\"GENE_PAIR_INTERSECTIONS\"]\n",
    "    / f\"gene_pair_intersections-gtex_v8-{GTEX_TISSUE}-{GENE_SEL_STRATEGY}.pkl\"\n",
    ")\n",
    "display(INPUT_GENE_PAIRS_INTERSECTIONS_FILE)\n",
    "\n",
    "assert INPUT_GENE_PAIRS_INTERSECTIONS_FILE.exists()"
   ]
  },
  {
   "cell_type": "code",
   "execution_count": 5,
   "id": "a0e237b4-fdf7-44ef-bbcf-50bf2f5a4355",
   "metadata": {
    "execution": {
     "iopub.execute_input": "2022-01-27T16:02:02.138722Z",
     "iopub.status.busy": "2022-01-27T16:02:02.138147Z",
     "iopub.status.idle": "2022-01-27T16:02:02.140441Z",
     "shell.execute_reply": "2022-01-27T16:02:02.140807Z"
    },
    "papermill": {
     "duration": 0.027712,
     "end_time": "2022-01-27T16:02:02.140924",
     "exception": false,
     "start_time": "2022-01-27T16:02:02.113212",
     "status": "completed"
    },
    "tags": []
   },
   "outputs": [
    {
     "data": {
      "text/plain": [
       "PosixPath('/opt/data/results/gtex_v8/gene_pair_intersections/samples')"
      ]
     },
     "metadata": {},
     "output_type": "display_data"
    }
   ],
   "source": [
    "OUTPUT_DIR = INPUT_GENE_PAIRS_INTERSECTIONS_FILE.parent / \"samples\"\n",
    "OUTPUT_DIR.mkdir(parents=True, exist_ok=True)\n",
    "display(OUTPUT_DIR)"
   ]
  },
  {
   "cell_type": "code",
   "execution_count": 6,
   "id": "f4468c0e-c0ad-4bf5-b120-3f63e7afc33f",
   "metadata": {
    "execution": {
     "iopub.execute_input": "2022-01-27T16:02:02.188415Z",
     "iopub.status.busy": "2022-01-27T16:02:02.186623Z",
     "iopub.status.idle": "2022-01-27T16:02:02.190861Z",
     "shell.execute_reply": "2022-01-27T16:02:02.191229Z"
    },
    "papermill": {
     "duration": 0.028456,
     "end_time": "2022-01-27T16:02:02.191345",
     "exception": false,
     "start_time": "2022-01-27T16:02:02.162889",
     "status": "completed"
    },
    "tags": []
   },
   "outputs": [
    {
     "data": {
      "text/plain": [
       "'/opt/data/results/gtex_v8/gene_pair_intersections/samples/gene_pair_intersections-gtex_v8-whole_blood-var_pc_log2-agreements_sample_{sample_id}.pkl'"
      ]
     },
     "metadata": {},
     "output_type": "display_data"
    }
   ],
   "source": [
    "OUTPUT_FILE_TEMPLATE = str(\n",
    "    OUTPUT_DIR\n",
    "    / (\n",
    "        f\"{INPUT_GENE_PAIRS_INTERSECTIONS_FILE.stem}-agreements_sample_\"\n",
    "        + \"{sample_id}\"\n",
    "        + \".pkl\"\n",
    "    )\n",
    ")\n",
    "\n",
    "display(OUTPUT_FILE_TEMPLATE)"
   ]
  },
  {
   "cell_type": "markdown",
   "id": "f6d3322b-c8bb-4fc2-97b6-5bb1793b1577",
   "metadata": {
    "papermill": {
     "duration": 0.021633,
     "end_time": "2022-01-27T16:02:02.235149",
     "exception": false,
     "start_time": "2022-01-27T16:02:02.213516",
     "status": "completed"
    },
    "tags": []
   },
   "source": [
    "# Data"
   ]
  },
  {
   "cell_type": "markdown",
   "id": "afa308c9-d84d-4127-b3b1-7187e1f8b813",
   "metadata": {
    "papermill": {
     "duration": 0.021909,
     "end_time": "2022-01-27T16:02:02.279488",
     "exception": false,
     "start_time": "2022-01-27T16:02:02.257579",
     "status": "completed"
    },
    "tags": []
   },
   "source": [
    "## Gene pairs intersection data"
   ]
  },
  {
   "cell_type": "code",
   "execution_count": 7,
   "id": "01489ae7-fdfb-4861-931b-e9c8708a6931",
   "metadata": {
    "execution": {
     "iopub.execute_input": "2022-01-27T16:02:02.330327Z",
     "iopub.status.busy": "2022-01-27T16:02:02.329757Z",
     "iopub.status.idle": "2022-01-27T16:02:02.331631Z",
     "shell.execute_reply": "2022-01-27T16:02:02.332091Z"
    },
    "papermill": {
     "duration": 0.030665,
     "end_time": "2022-01-27T16:02:02.332231",
     "exception": false,
     "start_time": "2022-01-27T16:02:02.301566",
     "status": "completed"
    },
    "tags": []
   },
   "outputs": [],
   "source": [
    "def is_intersection_column(column_name):\n",
    "    return \" (high)\" in column_name or \" (low)\" in column_name"
   ]
  },
  {
   "cell_type": "code",
   "execution_count": 8,
   "id": "2b666b63-326b-43cd-8550-51f550be337a",
   "metadata": {
    "execution": {
     "iopub.execute_input": "2022-01-27T16:02:02.383693Z",
     "iopub.status.busy": "2022-01-27T16:02:02.383232Z",
     "iopub.status.idle": "2022-01-27T16:02:02.614278Z",
     "shell.execute_reply": "2022-01-27T16:02:02.613801Z"
    },
    "papermill": {
     "duration": 0.256811,
     "end_time": "2022-01-27T16:02:02.614379",
     "exception": false,
     "start_time": "2022-01-27T16:02:02.357568",
     "status": "completed"
    },
    "tags": []
   },
   "outputs": [],
   "source": [
    "gene_pairs_intersections = pd.read_pickle(INPUT_GENE_PAIRS_INTERSECTIONS_FILE)"
   ]
  },
  {
   "cell_type": "code",
   "execution_count": 9,
   "id": "bd22828a-ffd1-4aec-afdf-418e9d5f9e4d",
   "metadata": {
    "execution": {
     "iopub.execute_input": "2022-01-27T16:02:02.733833Z",
     "iopub.status.busy": "2022-01-27T16:02:02.733276Z",
     "iopub.status.idle": "2022-01-27T16:02:02.736008Z",
     "shell.execute_reply": "2022-01-27T16:02:02.735519Z"
    },
    "papermill": {
     "duration": 0.098553,
     "end_time": "2022-01-27T16:02:02.736126",
     "exception": false,
     "start_time": "2022-01-27T16:02:02.637573",
     "status": "completed"
    },
    "tags": []
   },
   "outputs": [],
   "source": [
    "gene_pairs_intersections = gene_pairs_intersections[\n",
    "    [c for c in gene_pairs_intersections.columns if is_intersection_column(c)]\n",
    "]"
   ]
  },
  {
   "cell_type": "code",
   "execution_count": 10,
   "id": "42c819c5-1681-4694-8abc-4d906f9aba8c",
   "metadata": {
    "execution": {
     "iopub.execute_input": "2022-01-27T16:02:02.786931Z",
     "iopub.status.busy": "2022-01-27T16:02:02.786387Z",
     "iopub.status.idle": "2022-01-27T16:02:02.788571Z",
     "shell.execute_reply": "2022-01-27T16:02:02.788929Z"
    },
    "papermill": {
     "duration": 0.028279,
     "end_time": "2022-01-27T16:02:02.789041",
     "exception": false,
     "start_time": "2022-01-27T16:02:02.760762",
     "status": "completed"
    },
    "tags": []
   },
   "outputs": [
    {
     "data": {
      "text/plain": [
       "(12497500, 6)"
      ]
     },
     "execution_count": 10,
     "metadata": {},
     "output_type": "execute_result"
    }
   ],
   "source": [
    "gene_pairs_intersections.shape"
   ]
  },
  {
   "cell_type": "code",
   "execution_count": 11,
   "id": "94fde3b3-5288-4539-8dcf-fe15ae2a4719",
   "metadata": {
    "execution": {
     "iopub.execute_input": "2022-01-27T16:02:02.841014Z",
     "iopub.status.busy": "2022-01-27T16:02:02.838163Z",
     "iopub.status.idle": "2022-01-27T16:02:02.846401Z",
     "shell.execute_reply": "2022-01-27T16:02:02.846769Z"
    },
    "papermill": {
     "duration": 0.034776,
     "end_time": "2022-01-27T16:02:02.846886",
     "exception": false,
     "start_time": "2022-01-27T16:02:02.812110",
     "status": "completed"
    },
    "tags": []
   },
   "outputs": [
    {
     "data": {
      "text/html": [
       "<div>\n",
       "<style scoped>\n",
       "    .dataframe tbody tr th:only-of-type {\n",
       "        vertical-align: middle;\n",
       "    }\n",
       "\n",
       "    .dataframe tbody tr th {\n",
       "        vertical-align: top;\n",
       "    }\n",
       "\n",
       "    .dataframe thead th {\n",
       "        text-align: right;\n",
       "    }\n",
       "</style>\n",
       "<table border=\"1\" class=\"dataframe\">\n",
       "  <thead>\n",
       "    <tr style=\"text-align: right;\">\n",
       "      <th></th>\n",
       "      <th></th>\n",
       "      <th>Pearson (high)</th>\n",
       "      <th>Pearson (low)</th>\n",
       "      <th>Spearman (high)</th>\n",
       "      <th>Spearman (low)</th>\n",
       "      <th>Clustermatch (high)</th>\n",
       "      <th>Clustermatch (low)</th>\n",
       "    </tr>\n",
       "  </thead>\n",
       "  <tbody>\n",
       "    <tr>\n",
       "      <th rowspan=\"5\" valign=\"top\">ENSG00000000419.12</th>\n",
       "      <th>ENSG00000002834.17</th>\n",
       "      <td>True</td>\n",
       "      <td>False</td>\n",
       "      <td>True</td>\n",
       "      <td>False</td>\n",
       "      <td>True</td>\n",
       "      <td>False</td>\n",
       "    </tr>\n",
       "    <tr>\n",
       "      <th>ENSG00000002919.14</th>\n",
       "      <td>True</td>\n",
       "      <td>False</td>\n",
       "      <td>True</td>\n",
       "      <td>False</td>\n",
       "      <td>True</td>\n",
       "      <td>False</td>\n",
       "    </tr>\n",
       "    <tr>\n",
       "      <th>ENSG00000002933.7</th>\n",
       "      <td>False</td>\n",
       "      <td>True</td>\n",
       "      <td>False</td>\n",
       "      <td>True</td>\n",
       "      <td>False</td>\n",
       "      <td>True</td>\n",
       "    </tr>\n",
       "    <tr>\n",
       "      <th>ENSG00000003402.19</th>\n",
       "      <td>True</td>\n",
       "      <td>False</td>\n",
       "      <td>True</td>\n",
       "      <td>False</td>\n",
       "      <td>True</td>\n",
       "      <td>False</td>\n",
       "    </tr>\n",
       "    <tr>\n",
       "      <th>ENSG00000004478.7</th>\n",
       "      <td>False</td>\n",
       "      <td>True</td>\n",
       "      <td>False</td>\n",
       "      <td>False</td>\n",
       "      <td>False</td>\n",
       "      <td>False</td>\n",
       "    </tr>\n",
       "  </tbody>\n",
       "</table>\n",
       "</div>"
      ],
      "text/plain": [
       "                                       Pearson (high)  Pearson (low)  \\\n",
       "ENSG00000000419.12 ENSG00000002834.17            True          False   \n",
       "                   ENSG00000002919.14            True          False   \n",
       "                   ENSG00000002933.7            False           True   \n",
       "                   ENSG00000003402.19            True          False   \n",
       "                   ENSG00000004478.7            False           True   \n",
       "\n",
       "                                       Spearman (high)  Spearman (low)  \\\n",
       "ENSG00000000419.12 ENSG00000002834.17             True           False   \n",
       "                   ENSG00000002919.14             True           False   \n",
       "                   ENSG00000002933.7             False            True   \n",
       "                   ENSG00000003402.19             True           False   \n",
       "                   ENSG00000004478.7             False           False   \n",
       "\n",
       "                                       Clustermatch (high)  Clustermatch (low)  \n",
       "ENSG00000000419.12 ENSG00000002834.17                 True               False  \n",
       "                   ENSG00000002919.14                 True               False  \n",
       "                   ENSG00000002933.7                 False                True  \n",
       "                   ENSG00000003402.19                 True               False  \n",
       "                   ENSG00000004478.7                 False               False  "
      ]
     },
     "execution_count": 11,
     "metadata": {},
     "output_type": "execute_result"
    }
   ],
   "source": [
    "gene_pairs_intersections.head()"
   ]
  },
  {
   "cell_type": "markdown",
   "id": "b030f506-2fe9-4895-a8a1-51374e88c496",
   "metadata": {
    "papermill": {
     "duration": 0.022958,
     "end_time": "2022-01-27T16:02:02.894194",
     "exception": false,
     "start_time": "2022-01-27T16:02:02.871236",
     "status": "completed"
    },
    "tags": []
   },
   "source": [
    "## Gene pairs intersection - gene pairs"
   ]
  },
  {
   "cell_type": "code",
   "execution_count": 12,
   "id": "da1d768a-fbfb-40e8-8fbb-790d1a94aa83",
   "metadata": {
    "execution": {
     "iopub.execute_input": "2022-01-27T16:02:02.942935Z",
     "iopub.status.busy": "2022-01-27T16:02:02.942473Z",
     "iopub.status.idle": "2022-01-27T16:02:02.944028Z",
     "shell.execute_reply": "2022-01-27T16:02:02.944399Z"
    },
    "papermill": {
     "duration": 0.027575,
     "end_time": "2022-01-27T16:02:02.944515",
     "exception": false,
     "start_time": "2022-01-27T16:02:02.916940",
     "status": "completed"
    },
    "tags": []
   },
   "outputs": [],
   "source": [
    "# gene_pairs_df = gene_pairs_intersections.rename_axis((\"gene0\", \"gene1\")).index.to_frame(index=False)"
   ]
  },
  {
   "cell_type": "code",
   "execution_count": 13,
   "id": "6123d474-0c0d-4771-9678-248ce89424ce",
   "metadata": {
    "execution": {
     "iopub.execute_input": "2022-01-27T16:02:02.994901Z",
     "iopub.status.busy": "2022-01-27T16:02:02.994440Z",
     "iopub.status.idle": "2022-01-27T16:02:02.995852Z",
     "shell.execute_reply": "2022-01-27T16:02:02.996259Z"
    },
    "papermill": {
     "duration": 0.027561,
     "end_time": "2022-01-27T16:02:02.996369",
     "exception": false,
     "start_time": "2022-01-27T16:02:02.968808",
     "status": "completed"
    },
    "tags": []
   },
   "outputs": [],
   "source": [
    "# gene_pairs_df.shape"
   ]
  },
  {
   "cell_type": "code",
   "execution_count": 14,
   "id": "b028abd8-c5b1-48c2-aa5e-cb1b49c943a4",
   "metadata": {
    "execution": {
     "iopub.execute_input": "2022-01-27T16:02:03.046797Z",
     "iopub.status.busy": "2022-01-27T16:02:03.046346Z",
     "iopub.status.idle": "2022-01-27T16:02:03.047921Z",
     "shell.execute_reply": "2022-01-27T16:02:03.048271Z"
    },
    "papermill": {
     "duration": 0.028385,
     "end_time": "2022-01-27T16:02:03.048385",
     "exception": false,
     "start_time": "2022-01-27T16:02:03.020000",
     "status": "completed"
    },
    "tags": []
   },
   "outputs": [],
   "source": [
    "# gene_pairs_df.head()"
   ]
  },
  {
   "cell_type": "markdown",
   "id": "b0c529c2-658c-4886-bbd4-0457a649ee36",
   "metadata": {
    "papermill": {
     "duration": 0.023345,
     "end_time": "2022-01-27T16:02:03.095761",
     "exception": false,
     "start_time": "2022-01-27T16:02:03.072416",
     "status": "completed"
    },
    "tags": []
   },
   "source": [
    "# Functions"
   ]
  },
  {
   "cell_type": "code",
   "execution_count": 15,
   "id": "4aec55f9-c449-4871-991d-1ed84e22b82e",
   "metadata": {
    "execution": {
     "iopub.execute_input": "2022-01-27T16:02:03.145344Z",
     "iopub.status.busy": "2022-01-27T16:02:03.144881Z",
     "iopub.status.idle": "2022-01-27T16:02:03.146469Z",
     "shell.execute_reply": "2022-01-27T16:02:03.146833Z"
    },
    "papermill": {
     "duration": 0.028046,
     "end_time": "2022-01-27T16:02:03.146947",
     "exception": false,
     "start_time": "2022-01-27T16:02:03.118901",
     "status": "completed"
    },
    "tags": []
   },
   "outputs": [],
   "source": [
    "# df_r_data = df_plot"
   ]
  },
  {
   "cell_type": "code",
   "execution_count": 16,
   "id": "d90335e5-0848-4cf7-bafc-2fddb39fbf76",
   "metadata": {
    "execution": {
     "iopub.execute_input": "2022-01-27T16:02:03.197169Z",
     "iopub.status.busy": "2022-01-27T16:02:03.196706Z",
     "iopub.status.idle": "2022-01-27T16:02:03.198488Z",
     "shell.execute_reply": "2022-01-27T16:02:03.198025Z"
    },
    "papermill": {
     "duration": 0.027715,
     "end_time": "2022-01-27T16:02:03.198585",
     "exception": false,
     "start_time": "2022-01-27T16:02:03.170870",
     "status": "completed"
    },
    "tags": []
   },
   "outputs": [],
   "source": [
    "# df_r_data.head()"
   ]
  },
  {
   "cell_type": "code",
   "execution_count": 17,
   "id": "526cc3fe-06c6-41d0-b0fb-daa95946f7d6",
   "metadata": {
    "execution": {
     "iopub.execute_input": "2022-01-27T16:02:03.249811Z",
     "iopub.status.busy": "2022-01-27T16:02:03.249361Z",
     "iopub.status.idle": "2022-01-27T16:02:03.251042Z",
     "shell.execute_reply": "2022-01-27T16:02:03.251405Z"
    },
    "papermill": {
     "duration": 0.028778,
     "end_time": "2022-01-27T16:02:03.251518",
     "exception": false,
     "start_time": "2022-01-27T16:02:03.222740",
     "status": "completed"
    },
    "tags": []
   },
   "outputs": [],
   "source": [
    "# df_r_data_boolean_cols = set(\n",
    "#     [x for x in df_r_data.columns if \" (high)\" in x or \" (low)\" in x]\n",
    "# )"
   ]
  },
  {
   "cell_type": "code",
   "execution_count": 18,
   "id": "1b317b79-ec8a-4a21-bdf7-0b5ec15c2e28",
   "metadata": {
    "execution": {
     "iopub.execute_input": "2022-01-27T16:02:03.302348Z",
     "iopub.status.busy": "2022-01-27T16:02:03.301882Z",
     "iopub.status.idle": "2022-01-27T16:02:03.303484Z",
     "shell.execute_reply": "2022-01-27T16:02:03.303830Z"
    },
    "papermill": {
     "duration": 0.028424,
     "end_time": "2022-01-27T16:02:03.303995",
     "exception": false,
     "start_time": "2022-01-27T16:02:03.275571",
     "status": "completed"
    },
    "tags": []
   },
   "outputs": [],
   "source": [
    "# df_r_data_boolean_cols"
   ]
  },
  {
   "cell_type": "code",
   "execution_count": 19,
   "id": "ae599640-083e-420b-9ad6-b0436fa74864",
   "metadata": {
    "execution": {
     "iopub.execute_input": "2022-01-27T16:02:03.366598Z",
     "iopub.status.busy": "2022-01-27T16:02:03.366116Z",
     "iopub.status.idle": "2022-01-27T16:02:03.368101Z",
     "shell.execute_reply": "2022-01-27T16:02:03.367715Z"
    },
    "papermill": {
     "duration": 0.03664,
     "end_time": "2022-01-27T16:02:03.368202",
     "exception": false,
     "start_time": "2022-01-27T16:02:03.331562",
     "status": "completed"
    },
    "tags": []
   },
   "outputs": [],
   "source": [
    "def get_gene_pairs(gene_pairs_intersections, query_set):\n",
    "    \"\"\"\n",
    "    FIXME: UPDATE\n",
    "\n",
    "    It queries the given dataframe with the intersections of different groups (i.e.,\n",
    "    clustermatch high, pearson low, etc) given a query set. It returns a slice of\n",
    "    the dataframe according to the query set provided.\n",
    "\n",
    "    Args:\n",
    "        gene_pairs_intersections: a dataframe with gene pairs in rows and intersection\n",
    "            groups as columns (which are boolean). No other columns are allowed.\n",
    "        query_set: a tuple with strings that specifies a query. For example\n",
    "            (\"Clustermatch (high)\", \"Pearson (low\") would select all gene pairs\n",
    "            for which clustermatch is high and pearson is low.\n",
    "\n",
    "    Returns:\n",
    "        A slice of gene pairs in the input dataframe where the conditions specified in query_set\n",
    "        apply.\n",
    "    \"\"\"\n",
    "    assert all([x in gene_pairs_intersections.columns for x in query_set])\n",
    "\n",
    "    query = np.concatenate(\n",
    "        [\n",
    "            # columns that have to be true\n",
    "            np.concatenate(\n",
    "                [\n",
    "                    gene_pairs_intersections[c].to_numpy().reshape(-1, 1)\n",
    "                    for c in query_set\n",
    "                ],\n",
    "                axis=1,\n",
    "            )\n",
    "            .all(axis=1)\n",
    "            .reshape(-1, 1),\n",
    "            # rest of the columns, that have to be false\n",
    "            np.concatenate(\n",
    "                [\n",
    "                    ~gene_pairs_intersections[c].to_numpy().reshape(-1, 1)\n",
    "                    for c in gene_pairs_intersections.columns\n",
    "                    if c not in query_set\n",
    "                ],\n",
    "                axis=1,\n",
    "            )\n",
    "            .all(axis=1)\n",
    "            .reshape(-1, 1),\n",
    "        ],\n",
    "        axis=1,\n",
    "    ).all(axis=1)\n",
    "\n",
    "    _tmp_df = gene_pairs_intersections[query]\n",
    "\n",
    "    # _tmp_df = _tmp_df[\n",
    "    #     [x for x in _tmp_df.columns if \"(high)\" not in x and \"(low)\" not in x]\n",
    "    # ]\n",
    "\n",
    "    return _tmp_df.rename_axis((\"gene0\", \"gene1\")).index.to_frame(index=False)"
   ]
  },
  {
   "cell_type": "code",
   "execution_count": 20,
   "id": "dec0c433-c2da-445e-acb4-2709b9809126",
   "metadata": {
    "execution": {
     "iopub.execute_input": "2022-01-27T16:02:03.420674Z",
     "iopub.status.busy": "2022-01-27T16:02:03.420156Z",
     "iopub.status.idle": "2022-01-27T16:02:04.277233Z",
     "shell.execute_reply": "2022-01-27T16:02:04.276793Z"
    },
    "papermill": {
     "duration": 0.884892,
     "end_time": "2022-01-27T16:02:04.277328",
     "exception": false,
     "start_time": "2022-01-27T16:02:03.392436",
     "status": "completed"
    },
    "tags": []
   },
   "outputs": [
    {
     "data": {
      "text/plain": [
       "gene0    object\n",
       "gene1    object\n",
       "dtype: object"
      ]
     },
     "metadata": {},
     "output_type": "display_data"
    },
    {
     "data": {
      "text/plain": [
       "(3120576, 2)"
      ]
     },
     "metadata": {},
     "output_type": "display_data"
    },
    {
     "data": {
      "text/html": [
       "<div>\n",
       "<style scoped>\n",
       "    .dataframe tbody tr th:only-of-type {\n",
       "        vertical-align: middle;\n",
       "    }\n",
       "\n",
       "    .dataframe tbody tr th {\n",
       "        vertical-align: top;\n",
       "    }\n",
       "\n",
       "    .dataframe thead th {\n",
       "        text-align: right;\n",
       "    }\n",
       "</style>\n",
       "<table border=\"1\" class=\"dataframe\">\n",
       "  <thead>\n",
       "    <tr style=\"text-align: right;\">\n",
       "      <th></th>\n",
       "      <th>gene0</th>\n",
       "      <th>gene1</th>\n",
       "    </tr>\n",
       "  </thead>\n",
       "  <tbody>\n",
       "    <tr>\n",
       "      <th>0</th>\n",
       "      <td>ENSG00000000419.12</td>\n",
       "      <td>ENSG00000002834.17</td>\n",
       "    </tr>\n",
       "    <tr>\n",
       "      <th>1</th>\n",
       "      <td>ENSG00000000419.12</td>\n",
       "      <td>ENSG00000002919.14</td>\n",
       "    </tr>\n",
       "    <tr>\n",
       "      <th>2</th>\n",
       "      <td>ENSG00000000419.12</td>\n",
       "      <td>ENSG00000003402.19</td>\n",
       "    </tr>\n",
       "    <tr>\n",
       "      <th>3</th>\n",
       "      <td>ENSG00000000419.12</td>\n",
       "      <td>ENSG00000004660.14</td>\n",
       "    </tr>\n",
       "    <tr>\n",
       "      <th>4</th>\n",
       "      <td>ENSG00000000419.12</td>\n",
       "      <td>ENSG00000005020.12</td>\n",
       "    </tr>\n",
       "  </tbody>\n",
       "</table>\n",
       "</div>"
      ],
      "text/plain": [
       "                gene0               gene1\n",
       "0  ENSG00000000419.12  ENSG00000002834.17\n",
       "1  ENSG00000000419.12  ENSG00000002919.14\n",
       "2  ENSG00000000419.12  ENSG00000003402.19\n",
       "3  ENSG00000000419.12  ENSG00000004660.14\n",
       "4  ENSG00000000419.12  ENSG00000005020.12"
      ]
     },
     "metadata": {},
     "output_type": "display_data"
    }
   ],
   "source": [
    "_tmp = get_gene_pairs(\n",
    "    gene_pairs_intersections,\n",
    "    {\n",
    "        \"Clustermatch (high)\",\n",
    "        \"Pearson (high)\",\n",
    "        \"Spearman (high)\",\n",
    "    },\n",
    ")\n",
    "\n",
    "display(_tmp.dtypes)\n",
    "display(_tmp.shape)\n",
    "display(_tmp.head())\n",
    "\n",
    "assert _tmp.shape[0] > int(3.12e6)"
   ]
  },
  {
   "cell_type": "markdown",
   "id": "fad30c56-b3fb-48a8-b532-6399c86af347",
   "metadata": {
    "papermill": {
     "duration": 0.026988,
     "end_time": "2022-01-27T16:02:04.329610",
     "exception": false,
     "start_time": "2022-01-27T16:02:04.302622",
     "status": "completed"
    },
    "tags": []
   },
   "source": [
    "# Get intersections dataframe"
   ]
  },
  {
   "cell_type": "markdown",
   "id": "a0f774c2-2bd4-4d61-92f7-b0f04264e5b7",
   "metadata": {
    "papermill": {
     "duration": 0.025968,
     "end_time": "2022-01-27T16:02:04.386391",
     "exception": false,
     "start_time": "2022-01-27T16:02:04.360423",
     "status": "completed"
    },
    "tags": []
   },
   "source": [
    "## Agreements"
   ]
  },
  {
   "cell_type": "code",
   "execution_count": 21,
   "id": "807b2034-3761-4ba2-a65a-65ff76410748",
   "metadata": {
    "execution": {
     "iopub.execute_input": "2022-01-27T16:02:04.442004Z",
     "iopub.status.busy": "2022-01-27T16:02:04.441517Z",
     "iopub.status.idle": "2022-01-27T16:02:04.442996Z",
     "shell.execute_reply": "2022-01-27T16:02:04.443359Z"
    },
    "papermill": {
     "duration": 0.031743,
     "end_time": "2022-01-27T16:02:04.443472",
     "exception": false,
     "start_time": "2022-01-27T16:02:04.411729",
     "status": "completed"
    },
    "tags": []
   },
   "outputs": [],
   "source": [
    "_queries = [\n",
    "    [\n",
    "        \"Clustermatch (high)\",\n",
    "        \"Pearson (high)\",\n",
    "        \"Spearman (high)\",\n",
    "        # \"Clustermatch (low)\",\n",
    "        # \"Pearson (low)\",\n",
    "        # \"Spearman (low)\",\n",
    "    ],\n",
    "    [\n",
    "        \"Clustermatch (high)\",\n",
    "        \"Pearson (high)\",\n",
    "        # \"Spearman (high)\",\n",
    "        # \"Clustermatch (low)\",\n",
    "        # \"Pearson (low)\",\n",
    "        # \"Spearman (low)\",\n",
    "    ],\n",
    "    [\n",
    "        \"Clustermatch (high)\",\n",
    "        # \"Pearson (high)\",\n",
    "        \"Spearman (high)\",\n",
    "        # \"Clustermatch (low)\",\n",
    "        # \"Pearson (low)\",\n",
    "        # \"Spearman (low)\",\n",
    "    ],\n",
    "    [\n",
    "        # \"Clustermatch (high)\",\n",
    "        \"Pearson (high)\",\n",
    "        \"Spearman (high)\",\n",
    "        # \"Clustermatch (low)\",\n",
    "        # \"Pearson (low)\",\n",
    "        # \"Spearman (low)\",\n",
    "    ],\n",
    "    [\n",
    "        # \"Clustermatch (high)\",\n",
    "        # \"Pearson (high)\",\n",
    "        # \"Spearman (high)\",\n",
    "        \"Clustermatch (low)\",\n",
    "        \"Pearson (low)\",\n",
    "        # \"Spearman (low)\",\n",
    "    ],\n",
    "    [\n",
    "        # \"Clustermatch (high)\",\n",
    "        # \"Pearson (high)\",\n",
    "        # \"Spearman (high)\",\n",
    "        \"Clustermatch (low)\",\n",
    "        # \"Pearson (low)\",\n",
    "        \"Spearman (low)\",\n",
    "    ],\n",
    "    [\n",
    "        # \"Clustermatch (high)\",\n",
    "        # \"Pearson (high)\",\n",
    "        # \"Spearman (high)\",\n",
    "        # \"Clustermatch (low)\",\n",
    "        \"Pearson (low)\",\n",
    "        \"Spearman (low)\",\n",
    "    ],\n",
    "    [\n",
    "        # \"Clustermatch (high)\",\n",
    "        # \"Pearson (high)\",\n",
    "        # \"Spearman (high)\",\n",
    "        \"Clustermatch (low)\",\n",
    "        \"Pearson (low)\",\n",
    "        \"Spearman (low)\",\n",
    "    ],\n",
    "]"
   ]
  },
  {
   "cell_type": "code",
   "execution_count": 22,
   "id": "1cbadd5d-7a98-4264-a83f-9c03415e3ee0",
   "metadata": {
    "execution": {
     "iopub.execute_input": "2022-01-27T16:02:04.499186Z",
     "iopub.status.busy": "2022-01-27T16:02:04.498554Z",
     "iopub.status.idle": "2022-01-27T16:02:04.501659Z",
     "shell.execute_reply": "2022-01-27T16:02:04.501231Z"
    },
    "papermill": {
     "duration": 0.032031,
     "end_time": "2022-01-27T16:02:04.501750",
     "exception": false,
     "start_time": "2022-01-27T16:02:04.469719",
     "status": "completed"
    },
    "tags": []
   },
   "outputs": [
    {
     "data": {
      "text/plain": [
       "8"
      ]
     },
     "metadata": {},
     "output_type": "display_data"
    }
   ],
   "source": [
    "display(len(_queries))\n",
    "assert len(_queries) == 8"
   ]
  },
  {
   "cell_type": "code",
   "execution_count": 23,
   "id": "d21ca403-339f-43ec-a66e-8f3ba10ecfb3",
   "metadata": {
    "execution": {
     "iopub.execute_input": "2022-01-27T16:02:04.557213Z",
     "iopub.status.busy": "2022-01-27T16:02:04.556726Z",
     "iopub.status.idle": "2022-01-27T16:02:10.681236Z",
     "shell.execute_reply": "2022-01-27T16:02:10.680767Z"
    },
    "papermill": {
     "duration": 6.153719,
     "end_time": "2022-01-27T16:02:10.681334",
     "exception": false,
     "start_time": "2022-01-27T16:02:04.527615",
     "status": "completed"
    },
    "tags": []
   },
   "outputs": [],
   "source": [
    "gene_pairs_df = []\n",
    "\n",
    "for idx, _query in enumerate(_queries):\n",
    "    group_df = get_gene_pairs(gene_pairs_intersections, set(_query))\n",
    "    gene_pairs_df.append(group_df)\n",
    "\n",
    "gene_pairs_df = pd.concat(gene_pairs_df)"
   ]
  },
  {
   "cell_type": "code",
   "execution_count": 24,
   "id": "29e2c167-b45a-4c63-a223-f78d5e953b37",
   "metadata": {
    "execution": {
     "iopub.execute_input": "2022-01-27T16:02:10.738242Z",
     "iopub.status.busy": "2022-01-27T16:02:10.737770Z",
     "iopub.status.idle": "2022-01-27T16:02:13.210626Z",
     "shell.execute_reply": "2022-01-27T16:02:13.210156Z"
    },
    "papermill": {
     "duration": 2.502504,
     "end_time": "2022-01-27T16:02:13.210735",
     "exception": false,
     "start_time": "2022-01-27T16:02:10.708231",
     "status": "completed"
    },
    "tags": []
   },
   "outputs": [
    {
     "data": {
      "text/plain": [
       "(7379251, 2)"
      ]
     },
     "metadata": {},
     "output_type": "display_data"
    }
   ],
   "source": [
    "display(gene_pairs_df.shape)\n",
    "assert gene_pairs_df.drop_duplicates().shape == gene_pairs_df.shape\n",
    "assert (gene_pairs_df.shape[0] > 7.3e6) and (gene_pairs_df.shape[0] < 7.4e6)"
   ]
  },
  {
   "cell_type": "code",
   "execution_count": 25,
   "id": "2df7cd58-55b9-46d0-b195-2c745eb358df",
   "metadata": {
    "execution": {
     "iopub.execute_input": "2022-01-27T16:02:13.270272Z",
     "iopub.status.busy": "2022-01-27T16:02:13.269703Z",
     "iopub.status.idle": "2022-01-27T16:02:13.272022Z",
     "shell.execute_reply": "2022-01-27T16:02:13.272381Z"
    },
    "papermill": {
     "duration": 0.034634,
     "end_time": "2022-01-27T16:02:13.272496",
     "exception": false,
     "start_time": "2022-01-27T16:02:13.237862",
     "status": "completed"
    },
    "tags": []
   },
   "outputs": [
    {
     "data": {
      "text/html": [
       "<div>\n",
       "<style scoped>\n",
       "    .dataframe tbody tr th:only-of-type {\n",
       "        vertical-align: middle;\n",
       "    }\n",
       "\n",
       "    .dataframe tbody tr th {\n",
       "        vertical-align: top;\n",
       "    }\n",
       "\n",
       "    .dataframe thead th {\n",
       "        text-align: right;\n",
       "    }\n",
       "</style>\n",
       "<table border=\"1\" class=\"dataframe\">\n",
       "  <thead>\n",
       "    <tr style=\"text-align: right;\">\n",
       "      <th></th>\n",
       "      <th>gene0</th>\n",
       "      <th>gene1</th>\n",
       "    </tr>\n",
       "  </thead>\n",
       "  <tbody>\n",
       "    <tr>\n",
       "      <th>0</th>\n",
       "      <td>ENSG00000000419.12</td>\n",
       "      <td>ENSG00000002834.17</td>\n",
       "    </tr>\n",
       "    <tr>\n",
       "      <th>1</th>\n",
       "      <td>ENSG00000000419.12</td>\n",
       "      <td>ENSG00000002919.14</td>\n",
       "    </tr>\n",
       "    <tr>\n",
       "      <th>2</th>\n",
       "      <td>ENSG00000000419.12</td>\n",
       "      <td>ENSG00000003402.19</td>\n",
       "    </tr>\n",
       "    <tr>\n",
       "      <th>3</th>\n",
       "      <td>ENSG00000000419.12</td>\n",
       "      <td>ENSG00000004660.14</td>\n",
       "    </tr>\n",
       "    <tr>\n",
       "      <th>4</th>\n",
       "      <td>ENSG00000000419.12</td>\n",
       "      <td>ENSG00000005020.12</td>\n",
       "    </tr>\n",
       "  </tbody>\n",
       "</table>\n",
       "</div>"
      ],
      "text/plain": [
       "                gene0               gene1\n",
       "0  ENSG00000000419.12  ENSG00000002834.17\n",
       "1  ENSG00000000419.12  ENSG00000002919.14\n",
       "2  ENSG00000000419.12  ENSG00000003402.19\n",
       "3  ENSG00000000419.12  ENSG00000004660.14\n",
       "4  ENSG00000000419.12  ENSG00000005020.12"
      ]
     },
     "execution_count": 25,
     "metadata": {},
     "output_type": "execute_result"
    }
   ],
   "source": [
    "gene_pairs_df.head()"
   ]
  },
  {
   "cell_type": "markdown",
   "id": "a1512df6-7c3f-44e8-b833-16260f9d8737",
   "metadata": {
    "papermill": {
     "duration": 0.026771,
     "end_time": "2022-01-27T16:02:13.326454",
     "exception": false,
     "start_time": "2022-01-27T16:02:13.299683",
     "status": "completed"
    },
    "tags": []
   },
   "source": [
    "# Create samples and save"
   ]
  },
  {
   "cell_type": "code",
   "execution_count": 26,
   "id": "e6341760-e704-4920-b946-fe109b900609",
   "metadata": {
    "execution": {
     "iopub.execute_input": "2022-01-27T16:02:13.389595Z",
     "iopub.status.busy": "2022-01-27T16:02:13.389029Z",
     "iopub.status.idle": "2022-01-27T16:02:16.214906Z",
     "shell.execute_reply": "2022-01-27T16:02:16.214330Z"
    },
    "papermill": {
     "duration": 2.861569,
     "end_time": "2022-01-27T16:02:16.215026",
     "exception": false,
     "start_time": "2022-01-27T16:02:13.353457",
     "status": "completed"
    },
    "tags": []
   },
   "outputs": [
    {
     "data": {
      "text/plain": [
       "'/opt/data/results/gtex_v8/gene_pair_intersections/samples/gene_pair_intersections-gtex_v8-whole_blood-var_pc_log2-agreements_sample_0.pkl'"
      ]
     },
     "metadata": {},
     "output_type": "display_data"
    },
    {
     "data": {
      "text/plain": [
       "'/opt/data/results/gtex_v8/gene_pair_intersections/samples/gene_pair_intersections-gtex_v8-whole_blood-var_pc_log2-agreements_sample_1.pkl'"
      ]
     },
     "metadata": {},
     "output_type": "display_data"
    },
    {
     "data": {
      "text/plain": [
       "'/opt/data/results/gtex_v8/gene_pair_intersections/samples/gene_pair_intersections-gtex_v8-whole_blood-var_pc_log2-agreements_sample_2.pkl'"
      ]
     },
     "metadata": {},
     "output_type": "display_data"
    },
    {
     "data": {
      "text/plain": [
       "'/opt/data/results/gtex_v8/gene_pair_intersections/samples/gene_pair_intersections-gtex_v8-whole_blood-var_pc_log2-agreements_sample_3.pkl'"
      ]
     },
     "metadata": {},
     "output_type": "display_data"
    },
    {
     "data": {
      "text/plain": [
       "'/opt/data/results/gtex_v8/gene_pair_intersections/samples/gene_pair_intersections-gtex_v8-whole_blood-var_pc_log2-agreements_sample_4.pkl'"
      ]
     },
     "metadata": {},
     "output_type": "display_data"
    },
    {
     "data": {
      "text/plain": [
       "'/opt/data/results/gtex_v8/gene_pair_intersections/samples/gene_pair_intersections-gtex_v8-whole_blood-var_pc_log2-agreements_sample_5.pkl'"
      ]
     },
     "metadata": {},
     "output_type": "display_data"
    },
    {
     "data": {
      "text/plain": [
       "'/opt/data/results/gtex_v8/gene_pair_intersections/samples/gene_pair_intersections-gtex_v8-whole_blood-var_pc_log2-agreements_sample_6.pkl'"
      ]
     },
     "metadata": {},
     "output_type": "display_data"
    },
    {
     "data": {
      "text/plain": [
       "'/opt/data/results/gtex_v8/gene_pair_intersections/samples/gene_pair_intersections-gtex_v8-whole_blood-var_pc_log2-agreements_sample_7.pkl'"
      ]
     },
     "metadata": {},
     "output_type": "display_data"
    },
    {
     "data": {
      "text/plain": [
       "'/opt/data/results/gtex_v8/gene_pair_intersections/samples/gene_pair_intersections-gtex_v8-whole_blood-var_pc_log2-agreements_sample_8.pkl'"
      ]
     },
     "metadata": {},
     "output_type": "display_data"
    },
    {
     "data": {
      "text/plain": [
       "'/opt/data/results/gtex_v8/gene_pair_intersections/samples/gene_pair_intersections-gtex_v8-whole_blood-var_pc_log2-agreements_sample_9.pkl'"
      ]
     },
     "metadata": {},
     "output_type": "display_data"
    }
   ],
   "source": [
    "for sample_id in range(N_SAMPLES):\n",
    "    data_sample = gene_pairs_df.sample(n=SAMPLE_SIZE, random_state=sample_id)\n",
    "\n",
    "    output_filepath = OUTPUT_FILE_TEMPLATE.format(sample_id=sample_id)\n",
    "    display(output_filepath)\n",
    "\n",
    "    data_sample.to_pickle(output_filepath)"
   ]
  },
  {
   "cell_type": "code",
   "execution_count": 27,
   "id": "295c3ac8-4b42-41ea-8402-a0fd2f89d386",
   "metadata": {
    "execution": {
     "iopub.execute_input": "2022-01-27T16:02:16.289141Z",
     "iopub.status.busy": "2022-01-27T16:02:16.288651Z",
     "iopub.status.idle": "2022-01-27T16:02:16.295955Z",
     "shell.execute_reply": "2022-01-27T16:02:16.295445Z"
    },
    "papermill": {
     "duration": 0.043032,
     "end_time": "2022-01-27T16:02:16.296063",
     "exception": false,
     "start_time": "2022-01-27T16:02:16.253031",
     "status": "completed"
    },
    "tags": []
   },
   "outputs": [
    {
     "data": {
      "text/plain": [
       "gene0    object\n",
       "gene1    object\n",
       "dtype: object"
      ]
     },
     "metadata": {},
     "output_type": "display_data"
    },
    {
     "data": {
      "text/plain": [
       "(33000, 2)"
      ]
     },
     "metadata": {},
     "output_type": "display_data"
    },
    {
     "data": {
      "text/html": [
       "<div>\n",
       "<style scoped>\n",
       "    .dataframe tbody tr th:only-of-type {\n",
       "        vertical-align: middle;\n",
       "    }\n",
       "\n",
       "    .dataframe tbody tr th {\n",
       "        vertical-align: top;\n",
       "    }\n",
       "\n",
       "    .dataframe thead th {\n",
       "        text-align: right;\n",
       "    }\n",
       "</style>\n",
       "<table border=\"1\" class=\"dataframe\">\n",
       "  <thead>\n",
       "    <tr style=\"text-align: right;\">\n",
       "      <th></th>\n",
       "      <th>gene0</th>\n",
       "      <th>gene1</th>\n",
       "    </tr>\n",
       "  </thead>\n",
       "  <tbody>\n",
       "    <tr>\n",
       "      <th>2617724</th>\n",
       "      <td>ENSG00000205268.10</td>\n",
       "      <td>ENSG00000091039.16</td>\n",
       "    </tr>\n",
       "    <tr>\n",
       "      <th>2407828</th>\n",
       "      <td>ENSG00000267102.1</td>\n",
       "      <td>ENSG00000167775.10</td>\n",
       "    </tr>\n",
       "    <tr>\n",
       "      <th>958146</th>\n",
       "      <td>ENSG00000121691.4</td>\n",
       "      <td>ENSG00000255197.5</td>\n",
       "    </tr>\n",
       "    <tr>\n",
       "      <th>165792</th>\n",
       "      <td>ENSG00000165732.12</td>\n",
       "      <td>ENSG00000065243.19</td>\n",
       "    </tr>\n",
       "    <tr>\n",
       "      <th>411050</th>\n",
       "      <td>ENSG00000211860.1</td>\n",
       "      <td>ENSG00000127184.12</td>\n",
       "    </tr>\n",
       "  </tbody>\n",
       "</table>\n",
       "</div>"
      ],
      "text/plain": [
       "                      gene0               gene1\n",
       "2617724  ENSG00000205268.10  ENSG00000091039.16\n",
       "2407828   ENSG00000267102.1  ENSG00000167775.10\n",
       "958146    ENSG00000121691.4   ENSG00000255197.5\n",
       "165792   ENSG00000165732.12  ENSG00000065243.19\n",
       "411050    ENSG00000211860.1  ENSG00000127184.12"
      ]
     },
     "metadata": {},
     "output_type": "display_data"
    }
   ],
   "source": [
    "display(data_sample.dtypes)\n",
    "display(data_sample.shape)\n",
    "display(data_sample.head())"
   ]
  },
  {
   "cell_type": "code",
   "execution_count": null,
   "id": "baecf5a6-0828-4d6a-9d0b-b22fb607dae5",
   "metadata": {
    "papermill": {
     "duration": 0.031825,
     "end_time": "2022-01-27T16:02:16.359380",
     "exception": false,
     "start_time": "2022-01-27T16:02:16.327555",
     "status": "completed"
    },
    "tags": []
   },
   "outputs": [],
   "source": []
  }
 ],
 "metadata": {
  "jupytext": {
   "cell_metadata_filter": "all,-execution,-papermill,-trusted",
   "text_representation": {
    "extension": ".py",
    "format_name": "percent",
    "format_version": "1.3",
    "jupytext_version": "1.11.5"
   }
  },
  "kernelspec": {
   "display_name": "Python 3 (ipykernel)",
   "language": "python",
   "name": "python3"
  },
  "language_info": {
   "codemirror_mode": {
    "name": "ipython",
    "version": 3
   },
   "file_extension": ".py",
   "mimetype": "text/x-python",
   "name": "python",
   "nbconvert_exporter": "python",
   "pygments_lexer": "ipython3",
   "version": "3.9.9"
  },
  "papermill": {
   "default_parameters": {},
   "duration": 16.479838,
   "end_time": "2022-01-27T16:02:16.714529",
   "environment_variables": {},
   "exception": null,
   "input_path": "nbs/20_comparison_others/03_05-gtex_whole_blood-sample_intersections-agreements.ipynb",
   "output_path": "nbs/20_comparison_others/03_05-gtex_whole_blood-sample_intersections-agreements.run.ipynb",
   "parameters": {},
   "start_time": "2022-01-27T16:02:00.234691",
   "version": "2.3.4"
  },
  "toc-autonumbering": true
 },
 "nbformat": 4,
 "nbformat_minor": 5
}
