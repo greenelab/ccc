{
 "cells": [
  {
   "cell_type": "markdown",
   "id": "87e0ce1b-7ce6-4499-9342-5ded05307598",
   "metadata": {
    "papermill": {
     "duration": 0.026899,
     "end_time": "2022-01-27T17:54:15.475643",
     "exception": false,
     "start_time": "2022-01-27T17:54:15.448744",
     "status": "completed"
    },
    "tags": []
   },
   "source": [
    "# Description"
   ]
  },
  {
   "cell_type": "markdown",
   "id": "4bfc7115-350a-441b-9a19-7626a948a694",
   "metadata": {
    "papermill": {
     "duration": 0.022415,
     "end_time": "2022-01-27T17:54:15.520722",
     "exception": false,
     "start_time": "2022-01-27T17:54:15.498307",
     "status": "completed"
    },
    "tags": []
   },
   "source": [
    "From the intersections groups (visualized in the UpSet plot), it samples from the \"Agreements\", that is, only intersection groups where there is agreement between methods (clustermatch, pearson and spearman)."
   ]
  },
  {
   "cell_type": "markdown",
   "id": "e020c781-238b-43c2-8cad-2722b8a240e2",
   "metadata": {
    "papermill": {
     "duration": 0.022263,
     "end_time": "2022-01-27T17:54:15.565898",
     "exception": false,
     "start_time": "2022-01-27T17:54:15.543635",
     "status": "completed"
    },
    "tags": []
   },
   "source": [
    "# Modules"
   ]
  },
  {
   "cell_type": "code",
   "execution_count": 1,
   "id": "a819bfbc-5009-4c68-ba8d-37d0979d368f",
   "metadata": {
    "execution": {
     "iopub.execute_input": "2022-01-27T17:54:15.618839Z",
     "iopub.status.busy": "2022-01-27T17:54:15.618370Z",
     "iopub.status.idle": "2022-01-27T17:54:15.847925Z",
     "shell.execute_reply": "2022-01-27T17:54:15.847373Z"
    },
    "papermill": {
     "duration": 0.259678,
     "end_time": "2022-01-27T17:54:15.848041",
     "exception": false,
     "start_time": "2022-01-27T17:54:15.588363",
     "status": "completed"
    },
    "tags": []
   },
   "outputs": [],
   "source": [
    "import pandas as pd\n",
    "import numpy as np\n",
    "\n",
    "from clustermatch import conf"
   ]
  },
  {
   "cell_type": "markdown",
   "id": "b4834387-58ff-468c-b326-85c408bc5feb",
   "metadata": {
    "papermill": {
     "duration": 0.022516,
     "end_time": "2022-01-27T17:54:15.894045",
     "exception": false,
     "start_time": "2022-01-27T17:54:15.871529",
     "status": "completed"
    },
    "tags": []
   },
   "source": [
    "# Settings"
   ]
  },
  {
   "cell_type": "code",
   "execution_count": 2,
   "id": "765e820a-4518-4bbc-a00f-14c9cea03821",
   "metadata": {
    "execution": {
     "iopub.execute_input": "2022-01-27T17:54:15.952207Z",
     "iopub.status.busy": "2022-01-27T17:54:15.951703Z",
     "iopub.status.idle": "2022-01-27T17:54:15.953719Z",
     "shell.execute_reply": "2022-01-27T17:54:15.953248Z"
    },
    "papermill": {
     "duration": 0.032108,
     "end_time": "2022-01-27T17:54:15.953820",
     "exception": false,
     "start_time": "2022-01-27T17:54:15.921712",
     "status": "completed"
    },
    "tags": []
   },
   "outputs": [],
   "source": [
    "DATASET_CONFIG = conf.GTEX\n",
    "GTEX_TISSUE = \"whole_blood\"\n",
    "GENE_SEL_STRATEGY = \"var_pc_log2\""
   ]
  },
  {
   "cell_type": "code",
   "execution_count": 3,
   "id": "85ee3634-e24a-45d1-8209-5e1b7e81d5d0",
   "metadata": {
    "execution": {
     "iopub.execute_input": "2022-01-27T17:54:16.002869Z",
     "iopub.status.busy": "2022-01-27T17:54:16.002410Z",
     "iopub.status.idle": "2022-01-27T17:54:16.004002Z",
     "shell.execute_reply": "2022-01-27T17:54:16.004333Z"
    },
    "papermill": {
     "duration": 0.027282,
     "end_time": "2022-01-27T17:54:16.004444",
     "exception": false,
     "start_time": "2022-01-27T17:54:15.977162",
     "status": "completed"
    },
    "tags": []
   },
   "outputs": [],
   "source": [
    "# amount of gene pairs to sample\n",
    "SAMPLE_SIZE = 33000\n",
    "\n",
    "# number of samples to take\n",
    "N_SAMPLES = 1"
   ]
  },
  {
   "cell_type": "markdown",
   "id": "a1159982-5dd1-4494-97d4-0674eeead1c3",
   "metadata": {
    "papermill": {
     "duration": 0.022198,
     "end_time": "2022-01-27T17:54:16.049767",
     "exception": false,
     "start_time": "2022-01-27T17:54:16.027569",
     "status": "completed"
    },
    "tags": []
   },
   "source": [
    "# Paths"
   ]
  },
  {
   "cell_type": "code",
   "execution_count": 4,
   "id": "30cce6f5-ca1b-438c-859d-31903a42d4c6",
   "metadata": {
    "execution": {
     "iopub.execute_input": "2022-01-27T17:54:16.101631Z",
     "iopub.status.busy": "2022-01-27T17:54:16.101069Z",
     "iopub.status.idle": "2022-01-27T17:54:16.104874Z",
     "shell.execute_reply": "2022-01-27T17:54:16.105216Z"
    },
    "papermill": {
     "duration": 0.033331,
     "end_time": "2022-01-27T17:54:16.105334",
     "exception": false,
     "start_time": "2022-01-27T17:54:16.072003",
     "status": "completed"
    },
    "tags": []
   },
   "outputs": [
    {
     "data": {
      "text/plain": [
       "PosixPath('/opt/data/results/gtex_v8/gene_pair_intersections/gene_pair_intersections-gtex_v8-whole_blood-var_pc_log2.pkl')"
      ]
     },
     "metadata": {},
     "output_type": "display_data"
    }
   ],
   "source": [
    "INPUT_GENE_PAIRS_INTERSECTIONS_FILE = (\n",
    "    DATASET_CONFIG[\"GENE_PAIR_INTERSECTIONS\"]\n",
    "    / f\"gene_pair_intersections-gtex_v8-{GTEX_TISSUE}-{GENE_SEL_STRATEGY}.pkl\"\n",
    ")\n",
    "display(INPUT_GENE_PAIRS_INTERSECTIONS_FILE)\n",
    "\n",
    "assert INPUT_GENE_PAIRS_INTERSECTIONS_FILE.exists()"
   ]
  },
  {
   "cell_type": "code",
   "execution_count": 5,
   "id": "a0e237b4-fdf7-44ef-bbcf-50bf2f5a4355",
   "metadata": {
    "execution": {
     "iopub.execute_input": "2022-01-27T17:54:16.155399Z",
     "iopub.status.busy": "2022-01-27T17:54:16.154562Z",
     "iopub.status.idle": "2022-01-27T17:54:16.157850Z",
     "shell.execute_reply": "2022-01-27T17:54:16.158210Z"
    },
    "papermill": {
     "duration": 0.029363,
     "end_time": "2022-01-27T17:54:16.158327",
     "exception": false,
     "start_time": "2022-01-27T17:54:16.128964",
     "status": "completed"
    },
    "tags": []
   },
   "outputs": [
    {
     "data": {
      "text/plain": [
       "PosixPath('/opt/data/results/gtex_v8/gene_pair_intersections/samples')"
      ]
     },
     "metadata": {},
     "output_type": "display_data"
    }
   ],
   "source": [
    "OUTPUT_DIR = INPUT_GENE_PAIRS_INTERSECTIONS_FILE.parent / \"samples\"\n",
    "OUTPUT_DIR.mkdir(parents=True, exist_ok=True)\n",
    "display(OUTPUT_DIR)"
   ]
  },
  {
   "cell_type": "code",
   "execution_count": 6,
   "id": "f4468c0e-c0ad-4bf5-b120-3f63e7afc33f",
   "metadata": {
    "execution": {
     "iopub.execute_input": "2022-01-27T17:54:16.209754Z",
     "iopub.status.busy": "2022-01-27T17:54:16.209232Z",
     "iopub.status.idle": "2022-01-27T17:54:16.211732Z",
     "shell.execute_reply": "2022-01-27T17:54:16.211292Z"
    },
    "papermill": {
     "duration": 0.029415,
     "end_time": "2022-01-27T17:54:16.211824",
     "exception": false,
     "start_time": "2022-01-27T17:54:16.182409",
     "status": "completed"
    },
    "tags": []
   },
   "outputs": [
    {
     "data": {
      "text/plain": [
       "'/opt/data/results/gtex_v8/gene_pair_intersections/samples/gene_pair_intersections-gtex_v8-whole_blood-var_pc_log2-agreements_sample_{sample_id}.pkl'"
      ]
     },
     "metadata": {},
     "output_type": "display_data"
    }
   ],
   "source": [
    "OUTPUT_FILE_TEMPLATE = str(\n",
    "    OUTPUT_DIR\n",
    "    / (\n",
    "        f\"{INPUT_GENE_PAIRS_INTERSECTIONS_FILE.stem}-agreements_sample_\"\n",
    "        + \"{sample_id}\"\n",
    "        + \".pkl\"\n",
    "    )\n",
    ")\n",
    "\n",
    "display(OUTPUT_FILE_TEMPLATE)"
   ]
  },
  {
   "cell_type": "markdown",
   "id": "f6d3322b-c8bb-4fc2-97b6-5bb1793b1577",
   "metadata": {
    "papermill": {
     "duration": 0.023571,
     "end_time": "2022-01-27T17:54:16.259509",
     "exception": false,
     "start_time": "2022-01-27T17:54:16.235938",
     "status": "completed"
    },
    "tags": []
   },
   "source": [
    "# Data"
   ]
  },
  {
   "cell_type": "markdown",
   "id": "afa308c9-d84d-4127-b3b1-7187e1f8b813",
   "metadata": {
    "papermill": {
     "duration": 0.023107,
     "end_time": "2022-01-27T17:54:16.305892",
     "exception": false,
     "start_time": "2022-01-27T17:54:16.282785",
     "status": "completed"
    },
    "tags": []
   },
   "source": [
    "## Gene pairs intersection data"
   ]
  },
  {
   "cell_type": "code",
   "execution_count": 7,
   "id": "01489ae7-fdfb-4861-931b-e9c8708a6931",
   "metadata": {
    "execution": {
     "iopub.execute_input": "2022-01-27T17:54:16.356237Z",
     "iopub.status.busy": "2022-01-27T17:54:16.355719Z",
     "iopub.status.idle": "2022-01-27T17:54:16.357950Z",
     "shell.execute_reply": "2022-01-27T17:54:16.357506Z"
    },
    "papermill": {
     "duration": 0.02888,
     "end_time": "2022-01-27T17:54:16.358042",
     "exception": false,
     "start_time": "2022-01-27T17:54:16.329162",
     "status": "completed"
    },
    "tags": []
   },
   "outputs": [],
   "source": [
    "def is_intersection_column(column_name):\n",
    "    return \" (high)\" in column_name or \" (low)\" in column_name"
   ]
  },
  {
   "cell_type": "code",
   "execution_count": 8,
   "id": "2b666b63-326b-43cd-8550-51f550be337a",
   "metadata": {
    "execution": {
     "iopub.execute_input": "2022-01-27T17:54:16.409633Z",
     "iopub.status.busy": "2022-01-27T17:54:16.409163Z",
     "iopub.status.idle": "2022-01-27T17:54:16.636491Z",
     "shell.execute_reply": "2022-01-27T17:54:16.636038Z"
    },
    "papermill": {
     "duration": 0.254056,
     "end_time": "2022-01-27T17:54:16.636594",
     "exception": false,
     "start_time": "2022-01-27T17:54:16.382538",
     "status": "completed"
    },
    "tags": []
   },
   "outputs": [],
   "source": [
    "gene_pairs_intersections = pd.read_pickle(INPUT_GENE_PAIRS_INTERSECTIONS_FILE)"
   ]
  },
  {
   "cell_type": "code",
   "execution_count": 9,
   "id": "bd22828a-ffd1-4aec-afdf-418e9d5f9e4d",
   "metadata": {
    "execution": {
     "iopub.execute_input": "2022-01-27T17:54:16.758763Z",
     "iopub.status.busy": "2022-01-27T17:54:16.758192Z",
     "iopub.status.idle": "2022-01-27T17:54:16.760529Z",
     "shell.execute_reply": "2022-01-27T17:54:16.759967Z"
    },
    "papermill": {
     "duration": 0.099938,
     "end_time": "2022-01-27T17:54:16.760648",
     "exception": false,
     "start_time": "2022-01-27T17:54:16.660710",
     "status": "completed"
    },
    "tags": []
   },
   "outputs": [],
   "source": [
    "gene_pairs_intersections = gene_pairs_intersections[\n",
    "    [c for c in gene_pairs_intersections.columns if is_intersection_column(c)]\n",
    "]"
   ]
  },
  {
   "cell_type": "code",
   "execution_count": 10,
   "id": "42c819c5-1681-4694-8abc-4d906f9aba8c",
   "metadata": {
    "execution": {
     "iopub.execute_input": "2022-01-27T17:54:16.818165Z",
     "iopub.status.busy": "2022-01-27T17:54:16.817608Z",
     "iopub.status.idle": "2022-01-27T17:54:16.820497Z",
     "shell.execute_reply": "2022-01-27T17:54:16.820087Z"
    },
    "papermill": {
     "duration": 0.031079,
     "end_time": "2022-01-27T17:54:16.820593",
     "exception": false,
     "start_time": "2022-01-27T17:54:16.789514",
     "status": "completed"
    },
    "tags": []
   },
   "outputs": [
    {
     "data": {
      "text/plain": [
       "(12497500, 6)"
      ]
     },
     "execution_count": 10,
     "metadata": {},
     "output_type": "execute_result"
    }
   ],
   "source": [
    "gene_pairs_intersections.shape"
   ]
  },
  {
   "cell_type": "code",
   "execution_count": 11,
   "id": "94fde3b3-5288-4539-8dcf-fe15ae2a4719",
   "metadata": {
    "execution": {
     "iopub.execute_input": "2022-01-27T17:54:16.878415Z",
     "iopub.status.busy": "2022-01-27T17:54:16.875402Z",
     "iopub.status.idle": "2022-01-27T17:54:16.881476Z",
     "shell.execute_reply": "2022-01-27T17:54:16.881022Z"
    },
    "papermill": {
     "duration": 0.036385,
     "end_time": "2022-01-27T17:54:16.881574",
     "exception": false,
     "start_time": "2022-01-27T17:54:16.845189",
     "status": "completed"
    },
    "tags": []
   },
   "outputs": [
    {
     "data": {
      "text/html": [
       "<div>\n",
       "<style scoped>\n",
       "    .dataframe tbody tr th:only-of-type {\n",
       "        vertical-align: middle;\n",
       "    }\n",
       "\n",
       "    .dataframe tbody tr th {\n",
       "        vertical-align: top;\n",
       "    }\n",
       "\n",
       "    .dataframe thead th {\n",
       "        text-align: right;\n",
       "    }\n",
       "</style>\n",
       "<table border=\"1\" class=\"dataframe\">\n",
       "  <thead>\n",
       "    <tr style=\"text-align: right;\">\n",
       "      <th></th>\n",
       "      <th></th>\n",
       "      <th>Pearson (high)</th>\n",
       "      <th>Pearson (low)</th>\n",
       "      <th>Spearman (high)</th>\n",
       "      <th>Spearman (low)</th>\n",
       "      <th>Clustermatch (high)</th>\n",
       "      <th>Clustermatch (low)</th>\n",
       "    </tr>\n",
       "  </thead>\n",
       "  <tbody>\n",
       "    <tr>\n",
       "      <th rowspan=\"5\" valign=\"top\">ENSG00000000419.12</th>\n",
       "      <th>ENSG00000002834.17</th>\n",
       "      <td>True</td>\n",
       "      <td>False</td>\n",
       "      <td>True</td>\n",
       "      <td>False</td>\n",
       "      <td>True</td>\n",
       "      <td>False</td>\n",
       "    </tr>\n",
       "    <tr>\n",
       "      <th>ENSG00000002919.14</th>\n",
       "      <td>True</td>\n",
       "      <td>False</td>\n",
       "      <td>True</td>\n",
       "      <td>False</td>\n",
       "      <td>True</td>\n",
       "      <td>False</td>\n",
       "    </tr>\n",
       "    <tr>\n",
       "      <th>ENSG00000002933.7</th>\n",
       "      <td>False</td>\n",
       "      <td>True</td>\n",
       "      <td>False</td>\n",
       "      <td>True</td>\n",
       "      <td>False</td>\n",
       "      <td>True</td>\n",
       "    </tr>\n",
       "    <tr>\n",
       "      <th>ENSG00000003402.19</th>\n",
       "      <td>True</td>\n",
       "      <td>False</td>\n",
       "      <td>True</td>\n",
       "      <td>False</td>\n",
       "      <td>True</td>\n",
       "      <td>False</td>\n",
       "    </tr>\n",
       "    <tr>\n",
       "      <th>ENSG00000004478.7</th>\n",
       "      <td>False</td>\n",
       "      <td>True</td>\n",
       "      <td>False</td>\n",
       "      <td>False</td>\n",
       "      <td>False</td>\n",
       "      <td>False</td>\n",
       "    </tr>\n",
       "  </tbody>\n",
       "</table>\n",
       "</div>"
      ],
      "text/plain": [
       "                                       Pearson (high)  Pearson (low)  \\\n",
       "ENSG00000000419.12 ENSG00000002834.17            True          False   \n",
       "                   ENSG00000002919.14            True          False   \n",
       "                   ENSG00000002933.7            False           True   \n",
       "                   ENSG00000003402.19            True          False   \n",
       "                   ENSG00000004478.7            False           True   \n",
       "\n",
       "                                       Spearman (high)  Spearman (low)  \\\n",
       "ENSG00000000419.12 ENSG00000002834.17             True           False   \n",
       "                   ENSG00000002919.14             True           False   \n",
       "                   ENSG00000002933.7             False            True   \n",
       "                   ENSG00000003402.19             True           False   \n",
       "                   ENSG00000004478.7             False           False   \n",
       "\n",
       "                                       Clustermatch (high)  Clustermatch (low)  \n",
       "ENSG00000000419.12 ENSG00000002834.17                 True               False  \n",
       "                   ENSG00000002919.14                 True               False  \n",
       "                   ENSG00000002933.7                 False                True  \n",
       "                   ENSG00000003402.19                 True               False  \n",
       "                   ENSG00000004478.7                 False               False  "
      ]
     },
     "execution_count": 11,
     "metadata": {},
     "output_type": "execute_result"
    }
   ],
   "source": [
    "gene_pairs_intersections.head()"
   ]
  },
  {
   "cell_type": "markdown",
   "id": "b030f506-2fe9-4895-a8a1-51374e88c496",
   "metadata": {
    "papermill": {
     "duration": 0.03029,
     "end_time": "2022-01-27T17:54:16.937925",
     "exception": false,
     "start_time": "2022-01-27T17:54:16.907635",
     "status": "completed"
    },
    "tags": []
   },
   "source": [
    "## Gene pairs intersection - gene pairs"
   ]
  },
  {
   "cell_type": "code",
   "execution_count": 12,
   "id": "da1d768a-fbfb-40e8-8fbb-790d1a94aa83",
   "metadata": {
    "execution": {
     "iopub.execute_input": "2022-01-27T17:54:16.991835Z",
     "iopub.status.busy": "2022-01-27T17:54:16.991372Z",
     "iopub.status.idle": "2022-01-27T17:54:16.992863Z",
     "shell.execute_reply": "2022-01-27T17:54:16.993201Z"
    },
    "papermill": {
     "duration": 0.02926,
     "end_time": "2022-01-27T17:54:16.993316",
     "exception": false,
     "start_time": "2022-01-27T17:54:16.964056",
     "status": "completed"
    },
    "tags": []
   },
   "outputs": [],
   "source": [
    "# gene_pairs_df = gene_pairs_intersections.rename_axis((\"gene0\", \"gene1\")).index.to_frame(index=False)"
   ]
  },
  {
   "cell_type": "code",
   "execution_count": 13,
   "id": "6123d474-0c0d-4771-9678-248ce89424ce",
   "metadata": {
    "execution": {
     "iopub.execute_input": "2022-01-27T17:54:17.045904Z",
     "iopub.status.busy": "2022-01-27T17:54:17.045448Z",
     "iopub.status.idle": "2022-01-27T17:54:17.047059Z",
     "shell.execute_reply": "2022-01-27T17:54:17.047414Z"
    },
    "papermill": {
     "duration": 0.029548,
     "end_time": "2022-01-27T17:54:17.047525",
     "exception": false,
     "start_time": "2022-01-27T17:54:17.017977",
     "status": "completed"
    },
    "tags": []
   },
   "outputs": [],
   "source": [
    "# gene_pairs_df.shape"
   ]
  },
  {
   "cell_type": "code",
   "execution_count": 14,
   "id": "b028abd8-c5b1-48c2-aa5e-cb1b49c943a4",
   "metadata": {
    "execution": {
     "iopub.execute_input": "2022-01-27T17:54:17.099992Z",
     "iopub.status.busy": "2022-01-27T17:54:17.099510Z",
     "iopub.status.idle": "2022-01-27T17:54:17.101501Z",
     "shell.execute_reply": "2022-01-27T17:54:17.101119Z"
    },
    "papermill": {
     "duration": 0.029362,
     "end_time": "2022-01-27T17:54:17.101596",
     "exception": false,
     "start_time": "2022-01-27T17:54:17.072234",
     "status": "completed"
    },
    "tags": []
   },
   "outputs": [],
   "source": [
    "# gene_pairs_df.head()"
   ]
  },
  {
   "cell_type": "markdown",
   "id": "b0c529c2-658c-4886-bbd4-0457a649ee36",
   "metadata": {
    "papermill": {
     "duration": 0.024247,
     "end_time": "2022-01-27T17:54:17.150184",
     "exception": false,
     "start_time": "2022-01-27T17:54:17.125937",
     "status": "completed"
    },
    "tags": []
   },
   "source": [
    "# Functions"
   ]
  },
  {
   "cell_type": "code",
   "execution_count": 15,
   "id": "4aec55f9-c449-4871-991d-1ed84e22b82e",
   "metadata": {
    "execution": {
     "iopub.execute_input": "2022-01-27T17:54:17.201617Z",
     "iopub.status.busy": "2022-01-27T17:54:17.201175Z",
     "iopub.status.idle": "2022-01-27T17:54:17.204038Z",
     "shell.execute_reply": "2022-01-27T17:54:17.204381Z"
    },
    "papermill": {
     "duration": 0.030098,
     "end_time": "2022-01-27T17:54:17.204498",
     "exception": false,
     "start_time": "2022-01-27T17:54:17.174400",
     "status": "completed"
    },
    "tags": []
   },
   "outputs": [],
   "source": [
    "# df_r_data = df_plot"
   ]
  },
  {
   "cell_type": "code",
   "execution_count": 16,
   "id": "d90335e5-0848-4cf7-bafc-2fddb39fbf76",
   "metadata": {
    "execution": {
     "iopub.execute_input": "2022-01-27T17:54:17.255929Z",
     "iopub.status.busy": "2022-01-27T17:54:17.255447Z",
     "iopub.status.idle": "2022-01-27T17:54:17.257454Z",
     "shell.execute_reply": "2022-01-27T17:54:17.257010Z"
    },
    "papermill": {
     "duration": 0.028816,
     "end_time": "2022-01-27T17:54:17.257548",
     "exception": false,
     "start_time": "2022-01-27T17:54:17.228732",
     "status": "completed"
    },
    "tags": []
   },
   "outputs": [],
   "source": [
    "# df_r_data.head()"
   ]
  },
  {
   "cell_type": "code",
   "execution_count": 17,
   "id": "526cc3fe-06c6-41d0-b0fb-daa95946f7d6",
   "metadata": {
    "execution": {
     "iopub.execute_input": "2022-01-27T17:54:17.309786Z",
     "iopub.status.busy": "2022-01-27T17:54:17.309329Z",
     "iopub.status.idle": "2022-01-27T17:54:17.310770Z",
     "shell.execute_reply": "2022-01-27T17:54:17.311125Z"
    },
    "papermill": {
     "duration": 0.028805,
     "end_time": "2022-01-27T17:54:17.311239",
     "exception": false,
     "start_time": "2022-01-27T17:54:17.282434",
     "status": "completed"
    },
    "tags": []
   },
   "outputs": [],
   "source": [
    "# df_r_data_boolean_cols = set(\n",
    "#     [x for x in df_r_data.columns if \" (high)\" in x or \" (low)\" in x]\n",
    "# )"
   ]
  },
  {
   "cell_type": "code",
   "execution_count": 18,
   "id": "1b317b79-ec8a-4a21-bdf7-0b5ec15c2e28",
   "metadata": {
    "execution": {
     "iopub.execute_input": "2022-01-27T17:54:17.363160Z",
     "iopub.status.busy": "2022-01-27T17:54:17.362690Z",
     "iopub.status.idle": "2022-01-27T17:54:17.364198Z",
     "shell.execute_reply": "2022-01-27T17:54:17.364562Z"
    },
    "papermill": {
     "duration": 0.028731,
     "end_time": "2022-01-27T17:54:17.364676",
     "exception": false,
     "start_time": "2022-01-27T17:54:17.335945",
     "status": "completed"
    },
    "tags": []
   },
   "outputs": [],
   "source": [
    "# df_r_data_boolean_cols"
   ]
  },
  {
   "cell_type": "code",
   "execution_count": 19,
   "id": "ae599640-083e-420b-9ad6-b0436fa74864",
   "metadata": {
    "execution": {
     "iopub.execute_input": "2022-01-27T17:54:17.420659Z",
     "iopub.status.busy": "2022-01-27T17:54:17.420167Z",
     "iopub.status.idle": "2022-01-27T17:54:17.421749Z",
     "shell.execute_reply": "2022-01-27T17:54:17.422128Z"
    },
    "papermill": {
     "duration": 0.032716,
     "end_time": "2022-01-27T17:54:17.422243",
     "exception": false,
     "start_time": "2022-01-27T17:54:17.389527",
     "status": "completed"
    },
    "tags": []
   },
   "outputs": [],
   "source": [
    "def get_gene_pairs(gene_pairs_intersections, query_set):\n",
    "    \"\"\"\n",
    "    FIXME: UPDATE\n",
    "\n",
    "    It queries the given dataframe with the intersections of different groups (i.e.,\n",
    "    clustermatch high, pearson low, etc) given a query set. It returns a slice of\n",
    "    the dataframe according to the query set provided.\n",
    "\n",
    "    Args:\n",
    "        gene_pairs_intersections: a dataframe with gene pairs in rows and intersection\n",
    "            groups as columns (which are boolean). No other columns are allowed.\n",
    "        query_set: a tuple with strings that specifies a query. For example\n",
    "            (\"Clustermatch (high)\", \"Pearson (low\") would select all gene pairs\n",
    "            for which clustermatch is high and pearson is low.\n",
    "\n",
    "    Returns:\n",
    "        A slice of gene pairs in the input dataframe where the conditions specified in query_set\n",
    "        apply.\n",
    "    \"\"\"\n",
    "    assert all([x in gene_pairs_intersections.columns for x in query_set])\n",
    "\n",
    "    query = np.concatenate(\n",
    "        [\n",
    "            # columns that have to be true\n",
    "            np.concatenate(\n",
    "                [\n",
    "                    gene_pairs_intersections[c].to_numpy().reshape(-1, 1)\n",
    "                    for c in query_set\n",
    "                ],\n",
    "                axis=1,\n",
    "            )\n",
    "            .all(axis=1)\n",
    "            .reshape(-1, 1),\n",
    "            # rest of the columns, that have to be false\n",
    "            np.concatenate(\n",
    "                [\n",
    "                    ~gene_pairs_intersections[c].to_numpy().reshape(-1, 1)\n",
    "                    for c in gene_pairs_intersections.columns\n",
    "                    if c not in query_set\n",
    "                ],\n",
    "                axis=1,\n",
    "            )\n",
    "            .all(axis=1)\n",
    "            .reshape(-1, 1),\n",
    "        ],\n",
    "        axis=1,\n",
    "    ).all(axis=1)\n",
    "\n",
    "    _tmp_df = gene_pairs_intersections[query]\n",
    "\n",
    "    # _tmp_df = _tmp_df[\n",
    "    #     [x for x in _tmp_df.columns if \"(high)\" not in x and \"(low)\" not in x]\n",
    "    # ]\n",
    "\n",
    "    return _tmp_df.rename_axis((\"gene0\", \"gene1\")).index.to_frame(index=False)"
   ]
  },
  {
   "cell_type": "code",
   "execution_count": 20,
   "id": "dec0c433-c2da-445e-acb4-2709b9809126",
   "metadata": {
    "execution": {
     "iopub.execute_input": "2022-01-27T17:54:17.475818Z",
     "iopub.status.busy": "2022-01-27T17:54:17.475290Z",
     "iopub.status.idle": "2022-01-27T17:54:18.348002Z",
     "shell.execute_reply": "2022-01-27T17:54:18.347577Z"
    },
    "papermill": {
     "duration": 0.900845,
     "end_time": "2022-01-27T17:54:18.348105",
     "exception": false,
     "start_time": "2022-01-27T17:54:17.447260",
     "status": "completed"
    },
    "tags": []
   },
   "outputs": [
    {
     "data": {
      "text/plain": [
       "gene0    object\n",
       "gene1    object\n",
       "dtype: object"
      ]
     },
     "metadata": {},
     "output_type": "display_data"
    },
    {
     "data": {
      "text/plain": [
       "(3120576, 2)"
      ]
     },
     "metadata": {},
     "output_type": "display_data"
    },
    {
     "data": {
      "text/html": [
       "<div>\n",
       "<style scoped>\n",
       "    .dataframe tbody tr th:only-of-type {\n",
       "        vertical-align: middle;\n",
       "    }\n",
       "\n",
       "    .dataframe tbody tr th {\n",
       "        vertical-align: top;\n",
       "    }\n",
       "\n",
       "    .dataframe thead th {\n",
       "        text-align: right;\n",
       "    }\n",
       "</style>\n",
       "<table border=\"1\" class=\"dataframe\">\n",
       "  <thead>\n",
       "    <tr style=\"text-align: right;\">\n",
       "      <th></th>\n",
       "      <th>gene0</th>\n",
       "      <th>gene1</th>\n",
       "    </tr>\n",
       "  </thead>\n",
       "  <tbody>\n",
       "    <tr>\n",
       "      <th>0</th>\n",
       "      <td>ENSG00000000419.12</td>\n",
       "      <td>ENSG00000002834.17</td>\n",
       "    </tr>\n",
       "    <tr>\n",
       "      <th>1</th>\n",
       "      <td>ENSG00000000419.12</td>\n",
       "      <td>ENSG00000002919.14</td>\n",
       "    </tr>\n",
       "    <tr>\n",
       "      <th>2</th>\n",
       "      <td>ENSG00000000419.12</td>\n",
       "      <td>ENSG00000003402.19</td>\n",
       "    </tr>\n",
       "    <tr>\n",
       "      <th>3</th>\n",
       "      <td>ENSG00000000419.12</td>\n",
       "      <td>ENSG00000004660.14</td>\n",
       "    </tr>\n",
       "    <tr>\n",
       "      <th>4</th>\n",
       "      <td>ENSG00000000419.12</td>\n",
       "      <td>ENSG00000005020.12</td>\n",
       "    </tr>\n",
       "  </tbody>\n",
       "</table>\n",
       "</div>"
      ],
      "text/plain": [
       "                gene0               gene1\n",
       "0  ENSG00000000419.12  ENSG00000002834.17\n",
       "1  ENSG00000000419.12  ENSG00000002919.14\n",
       "2  ENSG00000000419.12  ENSG00000003402.19\n",
       "3  ENSG00000000419.12  ENSG00000004660.14\n",
       "4  ENSG00000000419.12  ENSG00000005020.12"
      ]
     },
     "metadata": {},
     "output_type": "display_data"
    }
   ],
   "source": [
    "_tmp = get_gene_pairs(\n",
    "    gene_pairs_intersections,\n",
    "    {\n",
    "        \"Clustermatch (high)\",\n",
    "        \"Pearson (high)\",\n",
    "        \"Spearman (high)\",\n",
    "    },\n",
    ")\n",
    "\n",
    "display(_tmp.dtypes)\n",
    "display(_tmp.shape)\n",
    "display(_tmp.head())\n",
    "\n",
    "assert _tmp.shape[0] > int(3.12e6)"
   ]
  },
  {
   "cell_type": "markdown",
   "id": "fad30c56-b3fb-48a8-b532-6399c86af347",
   "metadata": {
    "papermill": {
     "duration": 0.025083,
     "end_time": "2022-01-27T17:54:18.398490",
     "exception": false,
     "start_time": "2022-01-27T17:54:18.373407",
     "status": "completed"
    },
    "tags": []
   },
   "source": [
    "# Get intersections dataframe"
   ]
  },
  {
   "cell_type": "markdown",
   "id": "a0f774c2-2bd4-4d61-92f7-b0f04264e5b7",
   "metadata": {
    "papermill": {
     "duration": 0.025328,
     "end_time": "2022-01-27T17:54:18.448900",
     "exception": false,
     "start_time": "2022-01-27T17:54:18.423572",
     "status": "completed"
    },
    "tags": []
   },
   "source": [
    "## Agreements"
   ]
  },
  {
   "cell_type": "code",
   "execution_count": 21,
   "id": "807b2034-3761-4ba2-a65a-65ff76410748",
   "metadata": {
    "execution": {
     "iopub.execute_input": "2022-01-27T17:54:18.504620Z",
     "iopub.status.busy": "2022-01-27T17:54:18.504136Z",
     "iopub.status.idle": "2022-01-27T17:54:18.505995Z",
     "shell.execute_reply": "2022-01-27T17:54:18.505546Z"
    },
    "papermill": {
     "duration": 0.032148,
     "end_time": "2022-01-27T17:54:18.506089",
     "exception": false,
     "start_time": "2022-01-27T17:54:18.473941",
     "status": "completed"
    },
    "tags": []
   },
   "outputs": [],
   "source": [
    "_queries = [\n",
    "    [\n",
    "        \"Clustermatch (high)\",\n",
    "        \"Pearson (high)\",\n",
    "        \"Spearman (high)\",\n",
    "        # \"Clustermatch (low)\",\n",
    "        # \"Pearson (low)\",\n",
    "        # \"Spearman (low)\",\n",
    "    ],\n",
    "    [\n",
    "        \"Clustermatch (high)\",\n",
    "        \"Pearson (high)\",\n",
    "        # \"Spearman (high)\",\n",
    "        # \"Clustermatch (low)\",\n",
    "        # \"Pearson (low)\",\n",
    "        # \"Spearman (low)\",\n",
    "    ],\n",
    "    [\n",
    "        \"Clustermatch (high)\",\n",
    "        # \"Pearson (high)\",\n",
    "        \"Spearman (high)\",\n",
    "        # \"Clustermatch (low)\",\n",
    "        # \"Pearson (low)\",\n",
    "        # \"Spearman (low)\",\n",
    "    ],\n",
    "    [\n",
    "        # \"Clustermatch (high)\",\n",
    "        \"Pearson (high)\",\n",
    "        \"Spearman (high)\",\n",
    "        # \"Clustermatch (low)\",\n",
    "        # \"Pearson (low)\",\n",
    "        # \"Spearman (low)\",\n",
    "    ],\n",
    "    [\n",
    "        # \"Clustermatch (high)\",\n",
    "        # \"Pearson (high)\",\n",
    "        # \"Spearman (high)\",\n",
    "        \"Clustermatch (low)\",\n",
    "        \"Pearson (low)\",\n",
    "        # \"Spearman (low)\",\n",
    "    ],\n",
    "    [\n",
    "        # \"Clustermatch (high)\",\n",
    "        # \"Pearson (high)\",\n",
    "        # \"Spearman (high)\",\n",
    "        \"Clustermatch (low)\",\n",
    "        # \"Pearson (low)\",\n",
    "        \"Spearman (low)\",\n",
    "    ],\n",
    "    [\n",
    "        # \"Clustermatch (high)\",\n",
    "        # \"Pearson (high)\",\n",
    "        # \"Spearman (high)\",\n",
    "        # \"Clustermatch (low)\",\n",
    "        \"Pearson (low)\",\n",
    "        \"Spearman (low)\",\n",
    "    ],\n",
    "    [\n",
    "        # \"Clustermatch (high)\",\n",
    "        # \"Pearson (high)\",\n",
    "        # \"Spearman (high)\",\n",
    "        \"Clustermatch (low)\",\n",
    "        \"Pearson (low)\",\n",
    "        \"Spearman (low)\",\n",
    "    ],\n",
    "]"
   ]
  },
  {
   "cell_type": "code",
   "execution_count": 22,
   "id": "1cbadd5d-7a98-4264-a83f-9c03415e3ee0",
   "metadata": {
    "execution": {
     "iopub.execute_input": "2022-01-27T17:54:18.562389Z",
     "iopub.status.busy": "2022-01-27T17:54:18.561743Z",
     "iopub.status.idle": "2022-01-27T17:54:18.564661Z",
     "shell.execute_reply": "2022-01-27T17:54:18.564273Z"
    },
    "papermill": {
     "duration": 0.032175,
     "end_time": "2022-01-27T17:54:18.564758",
     "exception": false,
     "start_time": "2022-01-27T17:54:18.532583",
     "status": "completed"
    },
    "tags": []
   },
   "outputs": [
    {
     "data": {
      "text/plain": [
       "8"
      ]
     },
     "metadata": {},
     "output_type": "display_data"
    }
   ],
   "source": [
    "display(len(_queries))\n",
    "assert len(_queries) == 8"
   ]
  },
  {
   "cell_type": "code",
   "execution_count": 23,
   "id": "d21ca403-339f-43ec-a66e-8f3ba10ecfb3",
   "metadata": {
    "execution": {
     "iopub.execute_input": "2022-01-27T17:54:18.619616Z",
     "iopub.status.busy": "2022-01-27T17:54:18.619144Z",
     "iopub.status.idle": "2022-01-27T17:54:24.736265Z",
     "shell.execute_reply": "2022-01-27T17:54:24.735747Z"
    },
    "papermill": {
     "duration": 6.145882,
     "end_time": "2022-01-27T17:54:24.736360",
     "exception": false,
     "start_time": "2022-01-27T17:54:18.590478",
     "status": "completed"
    },
    "tags": []
   },
   "outputs": [],
   "source": [
    "gene_pairs_df = []\n",
    "\n",
    "for idx, _query in enumerate(_queries):\n",
    "    group_df = get_gene_pairs(gene_pairs_intersections, set(_query))\n",
    "    gene_pairs_df.append(group_df)\n",
    "\n",
    "gene_pairs_df = pd.concat(gene_pairs_df)"
   ]
  },
  {
   "cell_type": "code",
   "execution_count": 24,
   "id": "29e2c167-b45a-4c63-a223-f78d5e953b37",
   "metadata": {
    "execution": {
     "iopub.execute_input": "2022-01-27T17:54:24.791501Z",
     "iopub.status.busy": "2022-01-27T17:54:24.791020Z",
     "iopub.status.idle": "2022-01-27T17:54:27.279529Z",
     "shell.execute_reply": "2022-01-27T17:54:27.279040Z"
    },
    "papermill": {
     "duration": 2.517642,
     "end_time": "2022-01-27T17:54:27.279637",
     "exception": false,
     "start_time": "2022-01-27T17:54:24.761995",
     "status": "completed"
    },
    "tags": []
   },
   "outputs": [
    {
     "data": {
      "text/plain": [
       "(7379251, 2)"
      ]
     },
     "metadata": {},
     "output_type": "display_data"
    }
   ],
   "source": [
    "display(gene_pairs_df.shape)\n",
    "assert gene_pairs_df.drop_duplicates().shape == gene_pairs_df.shape\n",
    "assert (gene_pairs_df.shape[0] > 7.3e6) and (gene_pairs_df.shape[0] < 7.4e6)"
   ]
  },
  {
   "cell_type": "code",
   "execution_count": 25,
   "id": "2df7cd58-55b9-46d0-b195-2c745eb358df",
   "metadata": {
    "execution": {
     "iopub.execute_input": "2022-01-27T17:54:27.339696Z",
     "iopub.status.busy": "2022-01-27T17:54:27.339045Z",
     "iopub.status.idle": "2022-01-27T17:54:27.341852Z",
     "shell.execute_reply": "2022-01-27T17:54:27.342191Z"
    },
    "papermill": {
     "duration": 0.034988,
     "end_time": "2022-01-27T17:54:27.342311",
     "exception": false,
     "start_time": "2022-01-27T17:54:27.307323",
     "status": "completed"
    },
    "tags": []
   },
   "outputs": [
    {
     "data": {
      "text/html": [
       "<div>\n",
       "<style scoped>\n",
       "    .dataframe tbody tr th:only-of-type {\n",
       "        vertical-align: middle;\n",
       "    }\n",
       "\n",
       "    .dataframe tbody tr th {\n",
       "        vertical-align: top;\n",
       "    }\n",
       "\n",
       "    .dataframe thead th {\n",
       "        text-align: right;\n",
       "    }\n",
       "</style>\n",
       "<table border=\"1\" class=\"dataframe\">\n",
       "  <thead>\n",
       "    <tr style=\"text-align: right;\">\n",
       "      <th></th>\n",
       "      <th>gene0</th>\n",
       "      <th>gene1</th>\n",
       "    </tr>\n",
       "  </thead>\n",
       "  <tbody>\n",
       "    <tr>\n",
       "      <th>0</th>\n",
       "      <td>ENSG00000000419.12</td>\n",
       "      <td>ENSG00000002834.17</td>\n",
       "    </tr>\n",
       "    <tr>\n",
       "      <th>1</th>\n",
       "      <td>ENSG00000000419.12</td>\n",
       "      <td>ENSG00000002919.14</td>\n",
       "    </tr>\n",
       "    <tr>\n",
       "      <th>2</th>\n",
       "      <td>ENSG00000000419.12</td>\n",
       "      <td>ENSG00000003402.19</td>\n",
       "    </tr>\n",
       "    <tr>\n",
       "      <th>3</th>\n",
       "      <td>ENSG00000000419.12</td>\n",
       "      <td>ENSG00000004660.14</td>\n",
       "    </tr>\n",
       "    <tr>\n",
       "      <th>4</th>\n",
       "      <td>ENSG00000000419.12</td>\n",
       "      <td>ENSG00000005020.12</td>\n",
       "    </tr>\n",
       "  </tbody>\n",
       "</table>\n",
       "</div>"
      ],
      "text/plain": [
       "                gene0               gene1\n",
       "0  ENSG00000000419.12  ENSG00000002834.17\n",
       "1  ENSG00000000419.12  ENSG00000002919.14\n",
       "2  ENSG00000000419.12  ENSG00000003402.19\n",
       "3  ENSG00000000419.12  ENSG00000004660.14\n",
       "4  ENSG00000000419.12  ENSG00000005020.12"
      ]
     },
     "execution_count": 25,
     "metadata": {},
     "output_type": "execute_result"
    }
   ],
   "source": [
    "gene_pairs_df.head()"
   ]
  },
  {
   "cell_type": "markdown",
   "id": "a1512df6-7c3f-44e8-b833-16260f9d8737",
   "metadata": {
    "papermill": {
     "duration": 0.026137,
     "end_time": "2022-01-27T17:54:27.394957",
     "exception": false,
     "start_time": "2022-01-27T17:54:27.368820",
     "status": "completed"
    },
    "tags": []
   },
   "source": [
    "# Create samples and save"
   ]
  },
  {
   "cell_type": "code",
   "execution_count": 26,
   "id": "e6341760-e704-4920-b946-fe109b900609",
   "metadata": {
    "execution": {
     "iopub.execute_input": "2022-01-27T17:54:27.451960Z",
     "iopub.status.busy": "2022-01-27T17:54:27.451437Z",
     "iopub.status.idle": "2022-01-27T17:54:27.732446Z",
     "shell.execute_reply": "2022-01-27T17:54:27.731862Z"
    },
    "papermill": {
     "duration": 0.311453,
     "end_time": "2022-01-27T17:54:27.732567",
     "exception": false,
     "start_time": "2022-01-27T17:54:27.421114",
     "status": "completed"
    },
    "tags": []
   },
   "outputs": [
    {
     "data": {
      "text/plain": [
       "'/opt/data/results/gtex_v8/gene_pair_intersections/samples/gene_pair_intersections-gtex_v8-whole_blood-var_pc_log2-agreements_sample_0.pkl'"
      ]
     },
     "metadata": {},
     "output_type": "display_data"
    }
   ],
   "source": [
    "for sample_id in range(N_SAMPLES):\n",
    "    data_sample = gene_pairs_df.sample(n=SAMPLE_SIZE, random_state=sample_id)\n",
    "\n",
    "    output_filepath = OUTPUT_FILE_TEMPLATE.format(sample_id=sample_id)\n",
    "    display(output_filepath)\n",
    "\n",
    "    data_sample.to_pickle(output_filepath)"
   ]
  },
  {
   "cell_type": "code",
   "execution_count": 27,
   "id": "295c3ac8-4b42-41ea-8402-a0fd2f89d386",
   "metadata": {
    "execution": {
     "iopub.execute_input": "2022-01-27T17:54:27.798868Z",
     "iopub.status.busy": "2022-01-27T17:54:27.798281Z",
     "iopub.status.idle": "2022-01-27T17:54:27.805932Z",
     "shell.execute_reply": "2022-01-27T17:54:27.805564Z"
    },
    "papermill": {
     "duration": 0.039624,
     "end_time": "2022-01-27T17:54:27.806033",
     "exception": false,
     "start_time": "2022-01-27T17:54:27.766409",
     "status": "completed"
    },
    "tags": []
   },
   "outputs": [
    {
     "data": {
      "text/plain": [
       "gene0    object\n",
       "gene1    object\n",
       "dtype: object"
      ]
     },
     "metadata": {},
     "output_type": "display_data"
    },
    {
     "data": {
      "text/plain": [
       "(33000, 2)"
      ]
     },
     "metadata": {},
     "output_type": "display_data"
    },
    {
     "data": {
      "text/html": [
       "<div>\n",
       "<style scoped>\n",
       "    .dataframe tbody tr th:only-of-type {\n",
       "        vertical-align: middle;\n",
       "    }\n",
       "\n",
       "    .dataframe tbody tr th {\n",
       "        vertical-align: top;\n",
       "    }\n",
       "\n",
       "    .dataframe thead th {\n",
       "        text-align: right;\n",
       "    }\n",
       "</style>\n",
       "<table border=\"1\" class=\"dataframe\">\n",
       "  <thead>\n",
       "    <tr style=\"text-align: right;\">\n",
       "      <th></th>\n",
       "      <th>gene0</th>\n",
       "      <th>gene1</th>\n",
       "    </tr>\n",
       "  </thead>\n",
       "  <tbody>\n",
       "    <tr>\n",
       "      <th>1803926</th>\n",
       "      <td>ENSG00000196358.10</td>\n",
       "      <td>ENSG00000092054.12</td>\n",
       "    </tr>\n",
       "    <tr>\n",
       "      <th>919842</th>\n",
       "      <td>ENSG00000119979.16</td>\n",
       "      <td>ENSG00000115271.10</td>\n",
       "    </tr>\n",
       "    <tr>\n",
       "      <th>842179</th>\n",
       "      <td>ENSG00000116731.22</td>\n",
       "      <td>ENSG00000063601.16</td>\n",
       "    </tr>\n",
       "    <tr>\n",
       "      <th>337910</th>\n",
       "      <td>ENSG00000087087.18</td>\n",
       "      <td>ENSG00000173200.12</td>\n",
       "    </tr>\n",
       "    <tr>\n",
       "      <th>1894022</th>\n",
       "      <td>ENSG00000164941.13</td>\n",
       "      <td>ENSG00000186205.12</td>\n",
       "    </tr>\n",
       "  </tbody>\n",
       "</table>\n",
       "</div>"
      ],
      "text/plain": [
       "                      gene0               gene1\n",
       "1803926  ENSG00000196358.10  ENSG00000092054.12\n",
       "919842   ENSG00000119979.16  ENSG00000115271.10\n",
       "842179   ENSG00000116731.22  ENSG00000063601.16\n",
       "337910   ENSG00000087087.18  ENSG00000173200.12\n",
       "1894022  ENSG00000164941.13  ENSG00000186205.12"
      ]
     },
     "metadata": {},
     "output_type": "display_data"
    }
   ],
   "source": [
    "display(data_sample.dtypes)\n",
    "display(data_sample.shape)\n",
    "display(data_sample.head())"
   ]
  },
  {
   "cell_type": "code",
   "execution_count": null,
   "id": "baecf5a6-0828-4d6a-9d0b-b22fb607dae5",
   "metadata": {
    "papermill": {
     "duration": 0.027769,
     "end_time": "2022-01-27T17:54:27.862408",
     "exception": false,
     "start_time": "2022-01-27T17:54:27.834639",
     "status": "completed"
    },
    "tags": []
   },
   "outputs": [],
   "source": []
  }
 ],
 "metadata": {
  "jupytext": {
   "cell_metadata_filter": "all,-execution,-papermill,-trusted"
  },
  "kernelspec": {
   "display_name": "Python 3 (ipykernel)",
   "language": "python",
   "name": "python3"
  },
  "language_info": {
   "codemirror_mode": {
    "name": "ipython",
    "version": 3
   },
   "file_extension": ".py",
   "mimetype": "text/x-python",
   "name": "python",
   "nbconvert_exporter": "python",
   "pygments_lexer": "ipython3",
   "version": "3.9.9"
  },
  "papermill": {
   "default_parameters": {},
   "duration": 13.971163,
   "end_time": "2022-01-27T17:54:28.210664",
   "environment_variables": {},
   "exception": null,
   "input_path": "nbs/20_comparison_others/03_05-gtex_whole_blood-sample_intersections-agreements.ipynb",
   "output_path": "nbs/20_comparison_others/03_05-gtex_whole_blood-sample_intersections-agreements.run.ipynb",
   "parameters": {},
   "start_time": "2022-01-27T17:54:14.239501",
   "version": "2.3.4"
  },
  "toc-autonumbering": true
 },
 "nbformat": 4,
 "nbformat_minor": 5
}
