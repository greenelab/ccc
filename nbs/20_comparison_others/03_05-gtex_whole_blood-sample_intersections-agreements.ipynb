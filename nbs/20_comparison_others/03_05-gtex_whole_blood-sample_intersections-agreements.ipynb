{
 "cells": [
  {
   "cell_type": "markdown",
   "id": "87e0ce1b-7ce6-4499-9342-5ded05307598",
   "metadata": {
    "papermill": {
     "duration": 0.057534,
     "end_time": "2022-01-25T21:51:45.385528",
     "exception": false,
     "start_time": "2022-01-25T21:51:45.327994",
     "status": "completed"
    },
    "tags": []
   },
   "source": [
    "# Description"
   ]
  },
  {
   "cell_type": "markdown",
   "id": "4bfc7115-350a-441b-9a19-7626a948a694",
   "metadata": {
    "papermill": {
     "duration": 0.020766,
     "end_time": "2022-01-25T21:51:45.427318",
     "exception": false,
     "start_time": "2022-01-25T21:51:45.406552",
     "status": "completed"
    },
    "tags": []
   },
   "source": [
    "From the intersections groups (visualized in the UpSet plot), it samples from the \"Agreements\", that is, only intersection groups where there is agreement between methods (clustermatch, pearson and spearman)."
   ]
  },
  {
   "cell_type": "markdown",
   "id": "e020c781-238b-43c2-8cad-2722b8a240e2",
   "metadata": {
    "papermill": {
     "duration": 0.019942,
     "end_time": "2022-01-25T21:51:45.467414",
     "exception": false,
     "start_time": "2022-01-25T21:51:45.447472",
     "status": "completed"
    },
    "tags": []
   },
   "source": [
    "# Modules"
   ]
  },
  {
   "cell_type": "code",
   "execution_count": null,
   "id": "a819bfbc-5009-4c68-ba8d-37d0979d368f",
   "metadata": {
    "papermill": {
     "duration": 0.259205,
     "end_time": "2022-01-25T21:51:45.748310",
     "exception": false,
     "start_time": "2022-01-25T21:51:45.489105",
     "status": "completed"
    },
    "tags": []
   },
   "outputs": [],
   "source": [
    "import pandas as pd\n",
    "import numpy as np\n",
    "\n",
    "from clustermatch import conf"
   ]
  },
  {
   "cell_type": "markdown",
   "id": "b4834387-58ff-468c-b326-85c408bc5feb",
   "metadata": {
    "papermill": {
     "duration": 0.020033,
     "end_time": "2022-01-25T21:51:45.789808",
     "exception": false,
     "start_time": "2022-01-25T21:51:45.769775",
     "status": "completed"
    },
    "tags": []
   },
   "source": [
    "# Settings"
   ]
  },
  {
   "cell_type": "code",
   "execution_count": null,
   "id": "765e820a-4518-4bbc-a00f-14c9cea03821",
   "metadata": {
    "papermill": {
     "duration": 0.025254,
     "end_time": "2022-01-25T21:51:45.835138",
     "exception": false,
     "start_time": "2022-01-25T21:51:45.809884",
     "status": "completed"
    },
    "tags": []
   },
   "outputs": [],
   "source": [
    "DATASET_CONFIG = conf.GTEX\n",
    "GTEX_TISSUE = \"whole_blood\"\n",
    "GENE_SEL_STRATEGY = \"var_pc_log2\""
   ]
  },
  {
   "cell_type": "code",
   "execution_count": null,
   "id": "85ee3634-e24a-45d1-8209-5e1b7e81d5d0",
   "metadata": {
    "papermill": {
     "duration": 0.025907,
     "end_time": "2022-01-25T21:51:45.882279",
     "exception": false,
     "start_time": "2022-01-25T21:51:45.856372",
     "status": "completed"
    },
    "tags": []
   },
   "outputs": [],
   "source": [
    "# amount of gene pairs to sample\n",
    "SAMPLE_SIZE = 30000\n",
    "\n",
    "# number of samples to take\n",
    "N_SAMPLES = 10"
   ]
  },
  {
   "cell_type": "markdown",
   "id": "a1159982-5dd1-4494-97d4-0674eeead1c3",
   "metadata": {
    "papermill": {
     "duration": 0.020787,
     "end_time": "2022-01-25T21:51:45.924423",
     "exception": false,
     "start_time": "2022-01-25T21:51:45.903636",
     "status": "completed"
    },
    "tags": []
   },
   "source": [
    "# Paths"
   ]
  },
  {
   "cell_type": "code",
   "execution_count": null,
   "id": "30cce6f5-ca1b-438c-859d-31903a42d4c6",
   "metadata": {
    "papermill": {
     "duration": 0.032313,
     "end_time": "2022-01-25T21:51:45.977677",
     "exception": false,
     "start_time": "2022-01-25T21:51:45.945364",
     "status": "completed"
    },
    "tags": []
   },
   "outputs": [],
   "source": [
    "INPUT_GENE_PAIRS_INTERSECTIONS_FILE = (\n",
    "    DATASET_CONFIG[\"GENE_PAIR_INTERSECTIONS\"]\n",
    "    / f\"gene_pair_intersections-gtex_v8-{GTEX_TISSUE}-{GENE_SEL_STRATEGY}.pkl\"\n",
    ")\n",
    "display(INPUT_GENE_PAIRS_INTERSECTIONS_FILE)\n",
    "\n",
    "assert INPUT_GENE_PAIRS_INTERSECTIONS_FILE.exists()"
   ]
  },
  {
   "cell_type": "code",
   "execution_count": null,
   "id": "a0e237b4-fdf7-44ef-bbcf-50bf2f5a4355",
   "metadata": {
    "papermill": {
     "duration": 0.032313,
     "end_time": "2022-01-25T21:51:45.977677",
     "exception": false,
     "start_time": "2022-01-25T21:51:45.945364",
     "status": "completed"
    },
    "tags": []
   },
   "outputs": [],
   "source": [
    "OUTPUT_DIR = INPUT_GENE_PAIRS_INTERSECTIONS_FILE.parent / \"samples\"\n",
    "OUTPUT_DIR.mkdir(parents=True, exist_ok=True)\n",
    "display(OUTPUT_DIR)"
   ]
  },
  {
   "cell_type": "code",
   "execution_count": null,
   "id": "f4468c0e-c0ad-4bf5-b120-3f63e7afc33f",
   "metadata": {
    "papermill": {
     "duration": 0.027327,
     "end_time": "2022-01-25T21:51:46.026725",
     "exception": false,
     "start_time": "2022-01-25T21:51:45.999398",
     "status": "completed"
    },
    "tags": []
   },
   "outputs": [],
   "source": [
    "OUTPUT_FILE_TEMPLATE = str(\n",
    "    OUTPUT_DIR\n",
    "    / (\n",
    "        f\"{INPUT_GENE_PAIRS_INTERSECTIONS_FILE.stem}-agreements_sample_\"\n",
    "        + \"{sample_id}\"\n",
    "        + \".pkl\"\n",
    "    )\n",
    ")\n",
    "\n",
    "display(OUTPUT_FILE_TEMPLATE)"
   ]
  },
  {
   "cell_type": "markdown",
   "id": "f6d3322b-c8bb-4fc2-97b6-5bb1793b1577",
   "metadata": {
    "papermill": {
     "duration": 0.021543,
     "end_time": "2022-01-25T21:51:46.070255",
     "exception": false,
     "start_time": "2022-01-25T21:51:46.048712",
     "status": "completed"
    },
    "tags": []
   },
   "source": [
    "# Data"
   ]
  },
  {
   "cell_type": "markdown",
   "id": "afa308c9-d84d-4127-b3b1-7187e1f8b813",
   "metadata": {
    "papermill": {
     "duration": 0.021278,
     "end_time": "2022-01-25T21:51:46.112756",
     "exception": false,
     "start_time": "2022-01-25T21:51:46.091478",
     "status": "completed"
    },
    "tags": []
   },
   "source": [
    "## Gene pairs intersection data"
   ]
  },
  {
   "cell_type": "code",
   "execution_count": null,
   "id": "01489ae7-fdfb-4861-931b-e9c8708a6931",
   "metadata": {
    "papermill": {
     "duration": 0.02809,
     "end_time": "2022-01-25T21:51:46.705178",
     "exception": false,
     "start_time": "2022-01-25T21:51:46.677088",
     "status": "completed"
    },
    "tags": []
   },
   "outputs": [],
   "source": [
    "def is_intersection_column(column_name):\n",
    "    return \" (high)\" in column_name or \" (low)\" in column_name"
   ]
  },
  {
   "cell_type": "code",
   "execution_count": null,
   "id": "2b666b63-326b-43cd-8550-51f550be337a",
   "metadata": {},
   "outputs": [],
   "source": [
    "gene_pairs_intersections = pd.read_pickle(INPUT_GENE_PAIRS_INTERSECTIONS_FILE)"
   ]
  },
  {
   "cell_type": "code",
   "execution_count": null,
   "id": "bd22828a-ffd1-4aec-afdf-418e9d5f9e4d",
   "metadata": {},
   "outputs": [],
   "source": [
    "gene_pairs_intersections = gene_pairs_intersections[\n",
    "    [c for c in gene_pairs_intersections.columns if is_intersection_column(c)]\n",
    "]"
   ]
  },
  {
   "cell_type": "code",
   "execution_count": null,
   "id": "42c819c5-1681-4694-8abc-4d906f9aba8c",
   "metadata": {},
   "outputs": [],
   "source": [
    "gene_pairs_intersections.shape"
   ]
  },
  {
   "cell_type": "code",
   "execution_count": null,
   "id": "94fde3b3-5288-4539-8dcf-fe15ae2a4719",
   "metadata": {},
   "outputs": [],
   "source": [
    "gene_pairs_intersections.head()"
   ]
  },
  {
   "cell_type": "markdown",
   "id": "b030f506-2fe9-4895-a8a1-51374e88c496",
   "metadata": {
    "papermill": {
     "duration": 0.021278,
     "end_time": "2022-01-25T21:51:46.112756",
     "exception": false,
     "start_time": "2022-01-25T21:51:46.091478",
     "status": "completed"
    },
    "tags": []
   },
   "source": [
    "## Gene pairs intersection - gene pairs"
   ]
  },
  {
   "cell_type": "code",
   "execution_count": null,
   "id": "da1d768a-fbfb-40e8-8fbb-790d1a94aa83",
   "metadata": {
    "papermill": {
     "duration": 0.257069,
     "end_time": "2022-01-25T21:51:46.391539",
     "exception": false,
     "start_time": "2022-01-25T21:51:46.134470",
     "status": "completed"
    },
    "tags": []
   },
   "outputs": [],
   "source": [
    "# gene_pairs_df = gene_pairs_intersections.rename_axis((\"gene0\", \"gene1\")).index.to_frame(index=False)"
   ]
  },
  {
   "cell_type": "code",
   "execution_count": null,
   "id": "6123d474-0c0d-4771-9678-248ce89424ce",
   "metadata": {
    "papermill": {
     "duration": 0.027972,
     "end_time": "2022-01-25T21:51:46.441863",
     "exception": false,
     "start_time": "2022-01-25T21:51:46.413891",
     "status": "completed"
    },
    "tags": []
   },
   "outputs": [],
   "source": [
    "# gene_pairs_df.shape"
   ]
  },
  {
   "cell_type": "code",
   "execution_count": null,
   "id": "b028abd8-c5b1-48c2-aa5e-cb1b49c943a4",
   "metadata": {
    "papermill": {
     "duration": 0.036211,
     "end_time": "2022-01-25T21:51:46.500718",
     "exception": false,
     "start_time": "2022-01-25T21:51:46.464507",
     "status": "completed"
    },
    "tags": []
   },
   "outputs": [],
   "source": [
    "# gene_pairs_df.head()"
   ]
  },
  {
   "cell_type": "markdown",
   "id": "b0c529c2-658c-4886-bbd4-0457a649ee36",
   "metadata": {
    "papermill": {
     "duration": 0.02326,
     "end_time": "2022-01-25T21:51:46.805133",
     "exception": false,
     "start_time": "2022-01-25T21:51:46.781873",
     "status": "completed"
    },
    "tags": []
   },
   "source": [
    "# Functions"
   ]
  },
  {
   "cell_type": "code",
   "execution_count": null,
   "id": "4aec55f9-c449-4871-991d-1ed84e22b82e",
   "metadata": {
    "papermill": {
     "duration": 0.027161,
     "end_time": "2022-01-25T21:51:46.595443",
     "exception": false,
     "start_time": "2022-01-25T21:51:46.568282",
     "status": "completed"
    },
    "tags": []
   },
   "outputs": [],
   "source": [
    "# df_r_data = df_plot"
   ]
  },
  {
   "cell_type": "code",
   "execution_count": null,
   "id": "d90335e5-0848-4cf7-bafc-2fddb39fbf76",
   "metadata": {
    "papermill": {
     "duration": 0.035624,
     "end_time": "2022-01-25T21:51:46.653638",
     "exception": false,
     "start_time": "2022-01-25T21:51:46.618014",
     "status": "completed"
    },
    "tags": []
   },
   "outputs": [],
   "source": [
    "# df_r_data.head()"
   ]
  },
  {
   "cell_type": "code",
   "execution_count": null,
   "id": "526cc3fe-06c6-41d0-b0fb-daa95946f7d6",
   "metadata": {
    "papermill": {
     "duration": 0.02809,
     "end_time": "2022-01-25T21:51:46.705178",
     "exception": false,
     "start_time": "2022-01-25T21:51:46.677088",
     "status": "completed"
    },
    "tags": []
   },
   "outputs": [],
   "source": [
    "# df_r_data_boolean_cols = set(\n",
    "#     [x for x in df_r_data.columns if \" (high)\" in x or \" (low)\" in x]\n",
    "# )"
   ]
  },
  {
   "cell_type": "code",
   "execution_count": null,
   "id": "1b317b79-ec8a-4a21-bdf7-0b5ec15c2e28",
   "metadata": {
    "papermill": {
     "duration": 0.02935,
     "end_time": "2022-01-25T21:51:46.758221",
     "exception": false,
     "start_time": "2022-01-25T21:51:46.728871",
     "status": "completed"
    },
    "tags": []
   },
   "outputs": [],
   "source": [
    "# df_r_data_boolean_cols"
   ]
  },
  {
   "cell_type": "code",
   "execution_count": null,
   "id": "ae599640-083e-420b-9ad6-b0436fa74864",
   "metadata": {
    "papermill": {
     "duration": 0.032016,
     "end_time": "2022-01-25T21:51:46.860431",
     "exception": false,
     "start_time": "2022-01-25T21:51:46.828415",
     "status": "completed"
    },
    "tags": []
   },
   "outputs": [],
   "source": [
    "def get_gene_pairs(gene_pairs_intersections, query_set):\n",
    "    \"\"\"\n",
    "    FIXME: UPDATE\n",
    "\n",
    "    It queries the given dataframe with the intersections of different groups (i.e.,\n",
    "    clustermatch high, pearson low, etc) given a query set. It returns a slice of\n",
    "    the dataframe according to the query set provided.\n",
    "\n",
    "    Args:\n",
    "        gene_pairs_intersections: a dataframe with gene pairs in rows and intersection\n",
    "            groups as columns (which are boolean). No other columns are allowed.\n",
    "        query_set: a tuple with strings that specifies a query. For example\n",
    "            (\"Clustermatch (high)\", \"Pearson (low\") would select all gene pairs\n",
    "            for which clustermatch is high and pearson is low.\n",
    "\n",
    "    Returns:\n",
    "        A slice of gene pairs in the input dataframe where the conditions specified in query_set\n",
    "        apply.\n",
    "    \"\"\"\n",
    "    assert all([x in gene_pairs_intersections.columns for x in query_set])\n",
    "\n",
    "    query = np.concatenate(\n",
    "        [\n",
    "            # columns that have to be true\n",
    "            np.concatenate(\n",
    "                [\n",
    "                    gene_pairs_intersections[c].to_numpy().reshape(-1, 1)\n",
    "                    for c in query_set\n",
    "                ],\n",
    "                axis=1,\n",
    "            )\n",
    "            .all(axis=1)\n",
    "            .reshape(-1, 1),\n",
    "            # rest of the columns, that have to be false\n",
    "            np.concatenate(\n",
    "                [\n",
    "                    ~gene_pairs_intersections[c].to_numpy().reshape(-1, 1)\n",
    "                    for c in gene_pairs_intersections.columns\n",
    "                    if c not in query_set\n",
    "                ],\n",
    "                axis=1,\n",
    "            )\n",
    "            .all(axis=1)\n",
    "            .reshape(-1, 1),\n",
    "        ],\n",
    "        axis=1,\n",
    "    ).all(axis=1)\n",
    "\n",
    "    _tmp_df = gene_pairs_intersections[query]\n",
    "\n",
    "    # _tmp_df = _tmp_df[\n",
    "    #     [x for x in _tmp_df.columns if \"(high)\" not in x and \"(low)\" not in x]\n",
    "    # ]\n",
    "\n",
    "    return _tmp_df.rename_axis((\"gene0\", \"gene1\")).index.to_frame(index=False)"
   ]
  },
  {
   "cell_type": "code",
   "execution_count": null,
   "id": "dec0c433-c2da-445e-acb4-2709b9809126",
   "metadata": {},
   "outputs": [],
   "source": [
    "_tmp = get_gene_pairs(\n",
    "    gene_pairs_intersections,\n",
    "    {\n",
    "        \"Clustermatch (high)\",\n",
    "        \"Pearson (high)\",\n",
    "        \"Spearman (high)\",\n",
    "    },\n",
    ")\n",
    "\n",
    "display(_tmp.dtypes)\n",
    "display(_tmp.shape)\n",
    "display(_tmp.head())\n",
    "\n",
    "assert _tmp.shape[0] > int(3.12e6)"
   ]
  },
  {
   "cell_type": "markdown",
   "id": "fad30c56-b3fb-48a8-b532-6399c86af347",
   "metadata": {
    "papermill": {
     "duration": 0.023728,
     "end_time": "2022-01-25T21:51:46.908300",
     "exception": false,
     "start_time": "2022-01-25T21:51:46.884572",
     "status": "completed"
    },
    "tags": []
   },
   "source": [
    "# Get intersections dataframe"
   ]
  },
  {
   "cell_type": "markdown",
   "id": "a0f774c2-2bd4-4d61-92f7-b0f04264e5b7",
   "metadata": {
    "papermill": {
     "duration": 0.023479,
     "end_time": "2022-01-25T21:51:47.009078",
     "exception": false,
     "start_time": "2022-01-25T21:51:46.985599",
     "status": "completed"
    },
    "tags": []
   },
   "source": [
    "## Agreements"
   ]
  },
  {
   "cell_type": "code",
   "execution_count": null,
   "id": "807b2034-3761-4ba2-a65a-65ff76410748",
   "metadata": {},
   "outputs": [],
   "source": [
    "_queries = [\n",
    "    [\n",
    "        \"Clustermatch (high)\",\n",
    "        \"Pearson (high)\",\n",
    "        \"Spearman (high)\",\n",
    "        # \"Clustermatch (low)\",\n",
    "        # \"Pearson (low)\",\n",
    "        # \"Spearman (low)\",\n",
    "    ],\n",
    "    [\n",
    "        \"Clustermatch (high)\",\n",
    "        \"Pearson (high)\",\n",
    "        # \"Spearman (high)\",\n",
    "        # \"Clustermatch (low)\",\n",
    "        # \"Pearson (low)\",\n",
    "        # \"Spearman (low)\",\n",
    "    ],\n",
    "    [\n",
    "        \"Clustermatch (high)\",\n",
    "        # \"Pearson (high)\",\n",
    "        \"Spearman (high)\",\n",
    "        # \"Clustermatch (low)\",\n",
    "        # \"Pearson (low)\",\n",
    "        # \"Spearman (low)\",\n",
    "    ],\n",
    "    [\n",
    "        # \"Clustermatch (high)\",\n",
    "        \"Pearson (high)\",\n",
    "        \"Spearman (high)\",\n",
    "        # \"Clustermatch (low)\",\n",
    "        # \"Pearson (low)\",\n",
    "        # \"Spearman (low)\",\n",
    "    ],\n",
    "    [\n",
    "        # \"Clustermatch (high)\",\n",
    "        # \"Pearson (high)\",\n",
    "        # \"Spearman (high)\",\n",
    "        \"Clustermatch (low)\",\n",
    "        \"Pearson (low)\",\n",
    "        # \"Spearman (low)\",\n",
    "    ],\n",
    "    [\n",
    "        # \"Clustermatch (high)\",\n",
    "        # \"Pearson (high)\",\n",
    "        # \"Spearman (high)\",\n",
    "        \"Clustermatch (low)\",\n",
    "        # \"Pearson (low)\",\n",
    "        \"Spearman (low)\",\n",
    "    ],\n",
    "    [\n",
    "        # \"Clustermatch (high)\",\n",
    "        # \"Pearson (high)\",\n",
    "        # \"Spearman (high)\",\n",
    "        # \"Clustermatch (low)\",\n",
    "        \"Pearson (low)\",\n",
    "        \"Spearman (low)\",\n",
    "    ],\n",
    "    [\n",
    "        # \"Clustermatch (high)\",\n",
    "        # \"Pearson (high)\",\n",
    "        # \"Spearman (high)\",\n",
    "        \"Clustermatch (low)\",\n",
    "        \"Pearson (low)\",\n",
    "        \"Spearman (low)\",\n",
    "    ],\n",
    "]"
   ]
  },
  {
   "cell_type": "code",
   "execution_count": null,
   "id": "1cbadd5d-7a98-4264-a83f-9c03415e3ee0",
   "metadata": {},
   "outputs": [],
   "source": [
    "display(len(_queries))\n",
    "assert len(_queries) == 8"
   ]
  },
  {
   "cell_type": "code",
   "execution_count": null,
   "id": "d21ca403-339f-43ec-a66e-8f3ba10ecfb3",
   "metadata": {
    "papermill": {
     "duration": 7.661475,
     "end_time": "2022-01-25T21:51:54.694318",
     "exception": false,
     "start_time": "2022-01-25T21:51:47.032843",
     "status": "completed"
    },
    "tags": []
   },
   "outputs": [],
   "source": [
    "gene_pairs_df = []\n",
    "\n",
    "for idx, _query in enumerate(_queries):\n",
    "    group_df = get_gene_pairs(gene_pairs_intersections, set(_query))\n",
    "    gene_pairs_df.append(group_df)\n",
    "\n",
    "gene_pairs_df = pd.concat(gene_pairs_df)"
   ]
  },
  {
   "cell_type": "code",
   "execution_count": null,
   "id": "29e2c167-b45a-4c63-a223-f78d5e953b37",
   "metadata": {},
   "outputs": [],
   "source": [
    "display(gene_pairs_df.shape)\n",
    "assert gene_pairs_df.drop_duplicates().shape == gene_pairs_df.shape\n",
    "assert (gene_pairs_df.shape[0] > 7.3e6) and (gene_pairs_df.shape[0] < 7.4e6)"
   ]
  },
  {
   "cell_type": "code",
   "execution_count": null,
   "id": "2df7cd58-55b9-46d0-b195-2c745eb358df",
   "metadata": {},
   "outputs": [],
   "source": [
    "gene_pairs_df.head()"
   ]
  },
  {
   "cell_type": "markdown",
   "id": "a1512df6-7c3f-44e8-b833-16260f9d8737",
   "metadata": {
    "papermill": {
     "duration": 0.026458,
     "end_time": "2022-01-25T21:52:01.006275",
     "exception": false,
     "start_time": "2022-01-25T21:52:00.979817",
     "status": "completed"
    },
    "tags": []
   },
   "source": [
    "# Create samples and save"
   ]
  },
  {
   "cell_type": "code",
   "execution_count": null,
   "id": "e6341760-e704-4920-b946-fe109b900609",
   "metadata": {},
   "outputs": [],
   "source": [
    "for sample_id in range(N_SAMPLES):\n",
    "    data_sample = gene_pairs_df.sample(n=SAMPLE_SIZE, random_state=sample_id)\n",
    "\n",
    "    output_filepath = OUTPUT_FILE_TEMPLATE.format(sample_id=sample_id)\n",
    "    display(output_filepath)\n",
    "\n",
    "    data_sample.to_pickle(output_filepath)"
   ]
  },
  {
   "cell_type": "code",
   "execution_count": null,
   "id": "295c3ac8-4b42-41ea-8402-a0fd2f89d386",
   "metadata": {
    "papermill": {
     "duration": 0.028947,
     "end_time": "2022-01-25T21:52:01.185433",
     "exception": false,
     "start_time": "2022-01-25T21:52:01.156486",
     "status": "completed"
    },
    "tags": []
   },
   "outputs": [],
   "source": [
    "display(data_sample.dtypes)\n",
    "display(data_sample.shape)\n",
    "display(data_sample.head())"
   ]
  },
  {
   "cell_type": "code",
   "execution_count": null,
   "id": "baecf5a6-0828-4d6a-9d0b-b22fb607dae5",
   "metadata": {},
   "outputs": [],
   "source": []
  }
 ],
 "metadata": {
  "jupytext": {
   "cell_metadata_filter": "all,-execution,-papermill,-trusted"
  },
  "kernelspec": {
   "display_name": "Python 3 (ipykernel)",
   "language": "python",
   "name": "python3"
  },
  "language_info": {
   "codemirror_mode": {
    "name": "ipython",
    "version": 3
   },
   "file_extension": ".py",
   "mimetype": "text/x-python",
   "name": "python",
   "nbconvert_exporter": "python",
   "pygments_lexer": "ipython3",
   "version": "3.9.9"
  },
  "papermill": {
   "default_parameters": {},
   "duration": 17.334676,
   "end_time": "2022-01-25T21:52:01.433325",
   "environment_variables": {},
   "exception": null,
   "input_path": "nbs/15_intersections/05-sample_intersections.ipynb",
   "output_path": "nbs/15_intersections/05-sample_intersections.run.ipynb",
   "parameters": {},
   "start_time": "2022-01-25T21:51:44.098649",
   "version": "2.3.4"
  },
  "toc-autonumbering": true
 },
 "nbformat": 4,
 "nbformat_minor": 5
}
