{
 "cells": [
  {
   "cell_type": "markdown",
   "id": "87e0ce1b-7ce6-4499-9342-5ded05307598",
   "metadata": {
    "papermill": {
     "duration": 0.059842,
     "end_time": "2022-01-27T18:50:22.950353",
     "exception": false,
     "start_time": "2022-01-27T18:50:22.890511",
     "status": "completed"
    },
    "tags": []
   },
   "source": [
    "# Description"
   ]
  },
  {
   "cell_type": "markdown",
   "id": "4bfc7115-350a-441b-9a19-7626a948a694",
   "metadata": {
    "papermill": {
     "duration": 0.022545,
     "end_time": "2022-01-27T18:50:22.995410",
     "exception": false,
     "start_time": "2022-01-27T18:50:22.972865",
     "status": "completed"
    },
    "tags": []
   },
   "source": [
    "TODO"
   ]
  },
  {
   "cell_type": "markdown",
   "id": "e020c781-238b-43c2-8cad-2722b8a240e2",
   "metadata": {
    "papermill": {
     "duration": 0.023231,
     "end_time": "2022-01-27T18:50:23.040740",
     "exception": false,
     "start_time": "2022-01-27T18:50:23.017509",
     "status": "completed"
    },
    "tags": []
   },
   "source": [
    "# Modules"
   ]
  },
  {
   "cell_type": "code",
   "execution_count": 1,
   "id": "a819bfbc-5009-4c68-ba8d-37d0979d368f",
   "metadata": {
    "execution": {
     "iopub.execute_input": "2022-01-27T18:50:23.092788Z",
     "iopub.status.busy": "2022-01-27T18:50:23.092337Z",
     "iopub.status.idle": "2022-01-27T18:50:23.325977Z",
     "shell.execute_reply": "2022-01-27T18:50:23.325466Z"
    },
    "papermill": {
     "duration": 0.262617,
     "end_time": "2022-01-27T18:50:23.326091",
     "exception": false,
     "start_time": "2022-01-27T18:50:23.063474",
     "status": "completed"
    },
    "tags": []
   },
   "outputs": [],
   "source": [
    "from pathlib import Path\n",
    "\n",
    "import pandas as pd\n",
    "import numpy as np\n",
    "\n",
    "from clustermatch import conf"
   ]
  },
  {
   "cell_type": "markdown",
   "id": "b4834387-58ff-468c-b326-85c408bc5feb",
   "metadata": {
    "papermill": {
     "duration": 0.022416,
     "end_time": "2022-01-27T18:50:23.372218",
     "exception": false,
     "start_time": "2022-01-27T18:50:23.349802",
     "status": "completed"
    },
    "tags": []
   },
   "source": [
    "# Settings"
   ]
  },
  {
   "cell_type": "code",
   "execution_count": 2,
   "id": "765e820a-4518-4bbc-a00f-14c9cea03821",
   "metadata": {
    "execution": {
     "iopub.execute_input": "2022-01-27T18:50:23.420740Z",
     "iopub.status.busy": "2022-01-27T18:50:23.420307Z",
     "iopub.status.idle": "2022-01-27T18:50:23.422006Z",
     "shell.execute_reply": "2022-01-27T18:50:23.422365Z"
    },
    "papermill": {
     "duration": 0.027806,
     "end_time": "2022-01-27T18:50:23.422479",
     "exception": false,
     "start_time": "2022-01-27T18:50:23.394673",
     "status": "completed"
    },
    "tags": []
   },
   "outputs": [],
   "source": [
    "DATASET_CONFIG = conf.GTEX\n",
    "GTEX_TISSUE = \"whole_blood\"\n",
    "GENE_SEL_STRATEGY = \"var_pc_log2\"\n",
    "\n",
    "METHOD_NAME = \"mic\""
   ]
  },
  {
   "cell_type": "code",
   "execution_count": 3,
   "id": "ca79812d-c519-408c-bea8-9fc177e71d72",
   "metadata": {
    "execution": {
     "iopub.execute_input": "2022-01-27T18:50:23.471078Z",
     "iopub.status.busy": "2022-01-27T18:50:23.470648Z",
     "iopub.status.idle": "2022-01-27T18:50:23.472296Z",
     "shell.execute_reply": "2022-01-27T18:50:23.472641Z"
    },
    "papermill": {
     "duration": 0.027554,
     "end_time": "2022-01-27T18:50:23.472751",
     "exception": false,
     "start_time": "2022-01-27T18:50:23.445197",
     "status": "completed"
    },
    "tags": [
     "parameters"
    ]
   },
   "outputs": [],
   "source": [
    "# this cell has the \"parameters\" tag\n",
    "\n",
    "# size of gene pair groups to process in parallel\n",
    "CHUNK_SIZE = 100"
   ]
  },
  {
   "cell_type": "markdown",
   "id": "a1159982-5dd1-4494-97d4-0674eeead1c3",
   "metadata": {
    "papermill": {
     "duration": 0.029263,
     "end_time": "2022-01-27T18:50:23.526493",
     "exception": false,
     "start_time": "2022-01-27T18:50:23.497230",
     "status": "completed"
    },
    "tags": []
   },
   "source": [
    "# Paths"
   ]
  },
  {
   "cell_type": "code",
   "execution_count": 4,
   "id": "c6f73068-fa38-44be-bd0c-708f6ff450ea",
   "metadata": {
    "execution": {
     "iopub.execute_input": "2022-01-27T18:50:23.581768Z",
     "iopub.status.busy": "2022-01-27T18:50:23.581120Z",
     "iopub.status.idle": "2022-01-27T18:50:23.586692Z",
     "shell.execute_reply": "2022-01-27T18:50:23.586326Z"
    },
    "papermill": {
     "duration": 0.035559,
     "end_time": "2022-01-27T18:50:23.586790",
     "exception": false,
     "start_time": "2022-01-27T18:50:23.551231",
     "status": "completed"
    },
    "tags": []
   },
   "outputs": [
    {
     "data": {
      "text/plain": [
       "PosixPath('/opt/data/results/gtex_v8/gene_selection/gtex_v8_data_whole_blood-var_pc_log2.pkl')"
      ]
     },
     "metadata": {},
     "output_type": "display_data"
    }
   ],
   "source": [
    "INPUT_GENE_EXPR_FILE = (\n",
    "    DATASET_CONFIG[\"GENE_SELECTION_DIR\"]\n",
    "    / f\"gtex_v8_data_{GTEX_TISSUE}-{GENE_SEL_STRATEGY}.pkl\"\n",
    ")\n",
    "display(INPUT_GENE_EXPR_FILE)\n",
    "\n",
    "assert INPUT_GENE_EXPR_FILE.exists()"
   ]
  },
  {
   "cell_type": "code",
   "execution_count": 5,
   "id": "1ed73618-a3ab-4f62-8731-67c9726fd1a8",
   "metadata": {
    "execution": {
     "iopub.execute_input": "2022-01-27T18:50:23.639321Z",
     "iopub.status.busy": "2022-01-27T18:50:23.638749Z",
     "iopub.status.idle": "2022-01-27T18:50:23.642127Z",
     "shell.execute_reply": "2022-01-27T18:50:23.641682Z"
    },
    "papermill": {
     "duration": 0.030735,
     "end_time": "2022-01-27T18:50:23.642222",
     "exception": false,
     "start_time": "2022-01-27T18:50:23.611487",
     "status": "completed"
    },
    "tags": []
   },
   "outputs": [
    {
     "data": {
      "text/plain": [
       "PosixPath('/opt/data/results/gtex_v8/gene_pair_intersections/gene_pair_intersections-gtex_v8-whole_blood-var_pc_log2.pkl')"
      ]
     },
     "metadata": {},
     "output_type": "display_data"
    }
   ],
   "source": [
    "GENE_PAIRS_FILE_SUFFIX = (\n",
    "    DATASET_CONFIG[\"GENE_PAIR_INTERSECTIONS\"]\n",
    "    / f\"gene_pair_intersections-gtex_v8-{GTEX_TISSUE}-{GENE_SEL_STRATEGY}.pkl\"\n",
    ")\n",
    "display(GENE_PAIRS_FILE_SUFFIX)\n",
    "\n",
    "assert GENE_PAIRS_FILE_SUFFIX.exists()"
   ]
  },
  {
   "cell_type": "code",
   "execution_count": 6,
   "id": "24757228-be05-43e0-8057-831135a5da17",
   "metadata": {
    "execution": {
     "iopub.execute_input": "2022-01-27T18:50:23.694234Z",
     "iopub.status.busy": "2022-01-27T18:50:23.693672Z",
     "iopub.status.idle": "2022-01-27T18:50:23.696828Z",
     "shell.execute_reply": "2022-01-27T18:50:23.696398Z"
    },
    "papermill": {
     "duration": 0.030172,
     "end_time": "2022-01-27T18:50:23.696922",
     "exception": false,
     "start_time": "2022-01-27T18:50:23.666750",
     "status": "completed"
    },
    "tags": []
   },
   "outputs": [
    {
     "data": {
      "text/plain": [
       "PosixPath('/opt/data/results/gtex_v8/gene_pair_intersections/samples')"
      ]
     },
     "metadata": {},
     "output_type": "display_data"
    }
   ],
   "source": [
    "INPUT_DIR = GENE_PAIRS_FILE_SUFFIX.parent / \"samples\"\n",
    "display(INPUT_DIR)"
   ]
  },
  {
   "cell_type": "code",
   "execution_count": 7,
   "id": "a088c4ad-71ac-43f3-b58a-678fefb55117",
   "metadata": {
    "execution": {
     "iopub.execute_input": "2022-01-27T18:50:23.750030Z",
     "iopub.status.busy": "2022-01-27T18:50:23.749451Z",
     "iopub.status.idle": "2022-01-27T18:50:23.752629Z",
     "shell.execute_reply": "2022-01-27T18:50:23.752966Z"
    },
    "papermill": {
     "duration": 0.031456,
     "end_time": "2022-01-27T18:50:23.753083",
     "exception": false,
     "start_time": "2022-01-27T18:50:23.721627",
     "status": "completed"
    },
    "tags": []
   },
   "outputs": [
    {
     "data": {
      "text/plain": [
       "PosixPath('/opt/data/results/gtex_v8/gene_pair_intersections/samples/gene_pair_intersections-gtex_v8-whole_blood-var_pc_log2-agreements_sample_{sample_id}.pkl')"
      ]
     },
     "metadata": {},
     "output_type": "display_data"
    },
    {
     "data": {
      "text/plain": [
       "'/opt/data/results/gtex_v8/gene_pair_intersections/samples/gene_pair_intersections-gtex_v8-whole_blood-var_pc_log2-agreements_sample_{sample_id}.pkl'"
      ]
     },
     "metadata": {},
     "output_type": "display_data"
    }
   ],
   "source": [
    "INPUT_GENE_PAIRS_FILE = INPUT_DIR / (\n",
    "    f\"{GENE_PAIRS_FILE_SUFFIX.stem}-agreements_sample_\" + \"{sample_id}\" + \".pkl\"\n",
    ")\n",
    "display(INPUT_GENE_PAIRS_FILE)\n",
    "\n",
    "INPUT_GENE_PAIRS_FILE_TEMPLATE = str(INPUT_GENE_PAIRS_FILE)\n",
    "display(INPUT_GENE_PAIRS_FILE_TEMPLATE)"
   ]
  },
  {
   "cell_type": "code",
   "execution_count": 8,
   "id": "7e6dbf37-ad3a-4f73-a4a7-89275d6f00bc",
   "metadata": {
    "execution": {
     "iopub.execute_input": "2022-01-27T18:50:23.808545Z",
     "iopub.status.busy": "2022-01-27T18:50:23.807942Z",
     "iopub.status.idle": "2022-01-27T18:50:23.810141Z",
     "shell.execute_reply": "2022-01-27T18:50:23.810504Z"
    },
    "papermill": {
     "duration": 0.031559,
     "end_time": "2022-01-27T18:50:23.810621",
     "exception": false,
     "start_time": "2022-01-27T18:50:23.779062",
     "status": "completed"
    },
    "tags": []
   },
   "outputs": [
    {
     "data": {
      "text/plain": [
       "PosixPath('/opt/data/results/gtex_v8/comparison_others/mic')"
      ]
     },
     "metadata": {},
     "output_type": "display_data"
    }
   ],
   "source": [
    "OUTPUT_DIR = DATASET_CONFIG[\"RESULTS_DIR\"] / \"comparison_others\" / METHOD_NAME\n",
    "OUTPUT_DIR.mkdir(parents=True, exist_ok=True)\n",
    "display(OUTPUT_DIR)"
   ]
  },
  {
   "cell_type": "code",
   "execution_count": 9,
   "id": "f4468c0e-c0ad-4bf5-b120-3f63e7afc33f",
   "metadata": {
    "execution": {
     "iopub.execute_input": "2022-01-27T18:50:23.864599Z",
     "iopub.status.busy": "2022-01-27T18:50:23.864016Z",
     "iopub.status.idle": "2022-01-27T18:50:23.867303Z",
     "shell.execute_reply": "2022-01-27T18:50:23.866940Z"
    },
    "papermill": {
     "duration": 0.031553,
     "end_time": "2022-01-27T18:50:23.867402",
     "exception": false,
     "start_time": "2022-01-27T18:50:23.835849",
     "status": "completed"
    },
    "tags": []
   },
   "outputs": [
    {
     "data": {
      "text/plain": [
       "'/opt/data/results/gtex_v8/comparison_others/mic/gene_pair_intersections-gtex_v8-whole_blood-var_pc_log2-agreements_sample_{sample_id}-mic.pkl'"
      ]
     },
     "metadata": {},
     "output_type": "display_data"
    }
   ],
   "source": [
    "OUTPUT_FILE_TEMPLATE = str(\n",
    "    OUTPUT_DIR / (INPUT_GENE_PAIRS_FILE.name[:-4] + f\"-{METHOD_NAME}.pkl\")\n",
    ")\n",
    "\n",
    "display(OUTPUT_FILE_TEMPLATE)"
   ]
  },
  {
   "cell_type": "markdown",
   "id": "f6d3322b-c8bb-4fc2-97b6-5bb1793b1577",
   "metadata": {
    "papermill": {
     "duration": 0.02575,
     "end_time": "2022-01-27T18:50:23.920044",
     "exception": false,
     "start_time": "2022-01-27T18:50:23.894294",
     "status": "completed"
    },
    "tags": []
   },
   "source": [
    "# Data"
   ]
  },
  {
   "cell_type": "markdown",
   "id": "0aa486d7-b624-4d20-a730-a9eb224bef6a",
   "metadata": {
    "papermill": {
     "duration": 0.025785,
     "end_time": "2022-01-27T18:50:23.971711",
     "exception": false,
     "start_time": "2022-01-27T18:50:23.945926",
     "status": "completed"
    },
    "tags": []
   },
   "source": [
    "## Gene expression"
   ]
  },
  {
   "cell_type": "code",
   "execution_count": 10,
   "id": "f73ca2b7-f7ff-47bc-90b0-32e0cfdb5ea6",
   "metadata": {
    "execution": {
     "iopub.execute_input": "2022-01-27T18:50:24.026668Z",
     "iopub.status.busy": "2022-01-27T18:50:24.026208Z",
     "iopub.status.idle": "2022-01-27T18:50:24.187104Z",
     "shell.execute_reply": "2022-01-27T18:50:24.186512Z"
    },
    "papermill": {
     "duration": 0.189918,
     "end_time": "2022-01-27T18:50:24.187229",
     "exception": false,
     "start_time": "2022-01-27T18:50:23.997311",
     "status": "completed"
    },
    "tags": []
   },
   "outputs": [],
   "source": [
    "gene_expr_dict = pd.read_pickle(INPUT_GENE_EXPR_FILE).T.to_dict(orient=\"series\")"
   ]
  },
  {
   "cell_type": "code",
   "execution_count": 11,
   "id": "3cba499a-e737-4da2-9841-f9a03719b3aa",
   "metadata": {
    "execution": {
     "iopub.execute_input": "2022-01-27T18:50:24.252412Z",
     "iopub.status.busy": "2022-01-27T18:50:24.251808Z",
     "iopub.status.idle": "2022-01-27T18:50:24.254130Z",
     "shell.execute_reply": "2022-01-27T18:50:24.254488Z"
    },
    "papermill": {
     "duration": 0.033493,
     "end_time": "2022-01-27T18:50:24.254605",
     "exception": false,
     "start_time": "2022-01-27T18:50:24.221112",
     "status": "completed"
    },
    "tags": []
   },
   "outputs": [
    {
     "data": {
      "text/plain": [
       "5000"
      ]
     },
     "execution_count": 11,
     "metadata": {},
     "output_type": "execute_result"
    }
   ],
   "source": [
    "len(gene_expr_dict)"
   ]
  },
  {
   "cell_type": "code",
   "execution_count": 12,
   "id": "df66fe70-9fe9-4351-9d30-f8dcc97725de",
   "metadata": {
    "execution": {
     "iopub.execute_input": "2022-01-27T18:50:24.313240Z",
     "iopub.status.busy": "2022-01-27T18:50:24.312768Z",
     "iopub.status.idle": "2022-01-27T18:50:24.314952Z",
     "shell.execute_reply": "2022-01-27T18:50:24.315311Z"
    },
    "papermill": {
     "duration": 0.034225,
     "end_time": "2022-01-27T18:50:24.315429",
     "exception": false,
     "start_time": "2022-01-27T18:50:24.281204",
     "status": "completed"
    },
    "tags": []
   },
   "outputs": [
    {
     "data": {
      "text/plain": [
       "GTEX-111YS-0006-SM-5NQBE       0.5623\n",
       "GTEX-1122O-0005-SM-5O99J       0.8067\n",
       "GTEX-1128S-0005-SM-5P9HI     116.9000\n",
       "GTEX-113IC-0006-SM-5NQ9C       4.0470\n",
       "GTEX-113JC-0006-SM-5O997     211.0000\n",
       "                              ...    \n",
       "GTEX-ZVTK-0006-SM-57WBK     1626.0000\n",
       "GTEX-ZVZP-0006-SM-51MSW        0.5633\n",
       "GTEX-ZVZQ-0006-SM-51MR8      515.7000\n",
       "GTEX-ZXES-0005-SM-57WCB        1.1940\n",
       "GTEX-ZXG5-0005-SM-57WCN     1163.0000\n",
       "Name: ENSG00000169429.10, Length: 755, dtype: float64"
      ]
     },
     "execution_count": 12,
     "metadata": {},
     "output_type": "execute_result"
    }
   ],
   "source": [
    "gene_expr_dict[list(gene_expr_dict.keys())[0]]"
   ]
  },
  {
   "cell_type": "markdown",
   "id": "b030f506-2fe9-4895-a8a1-51374e88c496",
   "metadata": {
    "papermill": {
     "duration": 0.026626,
     "end_time": "2022-01-27T18:50:24.369596",
     "exception": false,
     "start_time": "2022-01-27T18:50:24.342970",
     "status": "completed"
    },
    "tags": []
   },
   "source": [
    "## Gene pairs intersection"
   ]
  },
  {
   "cell_type": "code",
   "execution_count": 13,
   "id": "da1d768a-fbfb-40e8-8fbb-790d1a94aa83",
   "metadata": {
    "execution": {
     "iopub.execute_input": "2022-01-27T18:50:24.425452Z",
     "iopub.status.busy": "2022-01-27T18:50:24.424993Z",
     "iopub.status.idle": "2022-01-27T18:50:24.426706Z",
     "shell.execute_reply": "2022-01-27T18:50:24.427056Z"
    },
    "papermill": {
     "duration": 0.031193,
     "end_time": "2022-01-27T18:50:24.427164",
     "exception": false,
     "start_time": "2022-01-27T18:50:24.395971",
     "status": "completed"
    },
    "tags": []
   },
   "outputs": [],
   "source": [
    "# intersections = pd.read_pickle(INPUT_GENE_PAIRS_INTERSECTIONS_FILE)"
   ]
  },
  {
   "cell_type": "code",
   "execution_count": 14,
   "id": "6123d474-0c0d-4771-9678-248ce89424ce",
   "metadata": {
    "execution": {
     "iopub.execute_input": "2022-01-27T18:50:24.484429Z",
     "iopub.status.busy": "2022-01-27T18:50:24.483953Z",
     "iopub.status.idle": "2022-01-27T18:50:24.485891Z",
     "shell.execute_reply": "2022-01-27T18:50:24.485451Z"
    },
    "papermill": {
     "duration": 0.031803,
     "end_time": "2022-01-27T18:50:24.485987",
     "exception": false,
     "start_time": "2022-01-27T18:50:24.454184",
     "status": "completed"
    },
    "tags": []
   },
   "outputs": [],
   "source": [
    "# len(intersections)"
   ]
  },
  {
   "cell_type": "code",
   "execution_count": 15,
   "id": "1b817194-a9c3-4f53-8d0f-1ee8faa36bfe",
   "metadata": {
    "execution": {
     "iopub.execute_input": "2022-01-27T18:50:24.552093Z",
     "iopub.status.busy": "2022-01-27T18:50:24.551592Z",
     "iopub.status.idle": "2022-01-27T18:50:24.553622Z",
     "shell.execute_reply": "2022-01-27T18:50:24.553181Z"
    },
    "papermill": {
     "duration": 0.03562,
     "end_time": "2022-01-27T18:50:24.553718",
     "exception": false,
     "start_time": "2022-01-27T18:50:24.518098",
     "status": "completed"
    },
    "tags": []
   },
   "outputs": [],
   "source": [
    "# intersections[\"Clustermatch (high), Pearson (high), Spearman (high)\"]"
   ]
  },
  {
   "cell_type": "markdown",
   "id": "9e1b78f3-8f43-411a-acb7-4646b4979034",
   "metadata": {
    "papermill": {
     "duration": 0.027147,
     "end_time": "2022-01-27T18:50:24.608126",
     "exception": false,
     "start_time": "2022-01-27T18:50:24.580979",
     "status": "completed"
    },
    "tags": []
   },
   "source": [
    "# Compute Maximal Information Coefficient (MIC)"
   ]
  },
  {
   "cell_type": "markdown",
   "id": "f31225f0-ce8b-48aa-97a6-d69afcb8732a",
   "metadata": {
    "papermill": {
     "duration": 0.026529,
     "end_time": "2022-01-27T18:50:24.661771",
     "exception": false,
     "start_time": "2022-01-27T18:50:24.635242",
     "status": "completed"
    },
    "tags": []
   },
   "source": [
    "## Functions"
   ]
  },
  {
   "cell_type": "code",
   "execution_count": 16,
   "id": "1851477c-1c94-456d-949b-012b8984a434",
   "metadata": {
    "execution": {
     "iopub.execute_input": "2022-01-27T18:50:24.719276Z",
     "iopub.status.busy": "2022-01-27T18:50:24.718818Z",
     "iopub.status.idle": "2022-01-27T18:50:24.940352Z",
     "shell.execute_reply": "2022-01-27T18:50:24.939824Z"
    },
    "papermill": {
     "duration": 0.251841,
     "end_time": "2022-01-27T18:50:24.940448",
     "exception": false,
     "start_time": "2022-01-27T18:50:24.688607",
     "status": "completed"
    },
    "tags": []
   },
   "outputs": [],
   "source": [
    "import warnings\n",
    "from sklearn.metrics import pairwise_distances\n",
    "from minepy.mine import MINE"
   ]
  },
  {
   "cell_type": "code",
   "execution_count": 17,
   "id": "0adf1172-acc5-4c35-a3ab-aed6de9770c4",
   "metadata": {
    "execution": {
     "iopub.execute_input": "2022-01-27T18:50:24.998319Z",
     "iopub.status.busy": "2022-01-27T18:50:24.996105Z",
     "iopub.status.idle": "2022-01-27T18:50:25.000500Z",
     "shell.execute_reply": "2022-01-27T18:50:25.000060Z"
    },
    "papermill": {
     "duration": 0.033401,
     "end_time": "2022-01-27T18:50:25.000596",
     "exception": false,
     "start_time": "2022-01-27T18:50:24.967195",
     "status": "completed"
    },
    "tags": []
   },
   "outputs": [],
   "source": [
    "def _mic(x, y):\n",
    "    \"\"\"\n",
    "    FIXME: move to library\n",
    "    \"\"\"\n",
    "    with warnings.catch_warnings():\n",
    "        warnings.filterwarnings(\"ignore\", category=DeprecationWarning)\n",
    "\n",
    "        mine = MINE(alpha=0.6, c=15, est=\"mic_approx\")\n",
    "        mine.compute_score(x, y)\n",
    "        return mine.mic()"
   ]
  },
  {
   "cell_type": "code",
   "execution_count": 18,
   "id": "cd837842-665d-4214-affe-af9c951bd154",
   "metadata": {
    "execution": {
     "iopub.execute_input": "2022-01-27T18:50:25.059789Z",
     "iopub.status.busy": "2022-01-27T18:50:25.059268Z",
     "iopub.status.idle": "2022-01-27T18:50:25.062260Z",
     "shell.execute_reply": "2022-01-27T18:50:25.061819Z"
    },
    "papermill": {
     "duration": 0.034332,
     "end_time": "2022-01-27T18:50:25.062357",
     "exception": false,
     "start_time": "2022-01-27T18:50:25.028025",
     "status": "completed"
    },
    "tags": []
   },
   "outputs": [
    {
     "data": {
      "text/plain": [
       "0.609986547010988"
      ]
     },
     "execution_count": 18,
     "metadata": {},
     "output_type": "execute_result"
    }
   ],
   "source": [
    "_mic(np.random.rand(10), np.random.rand(10))"
   ]
  },
  {
   "cell_type": "markdown",
   "id": "b9a14ad1-ffd2-4b16-98b2-658634dccd21",
   "metadata": {
    "papermill": {
     "duration": 0.027511,
     "end_time": "2022-01-27T18:50:25.117881",
     "exception": false,
     "start_time": "2022-01-27T18:50:25.090370",
     "status": "completed"
    },
    "tags": []
   },
   "source": [
    "## Get all sample files"
   ]
  },
  {
   "cell_type": "code",
   "execution_count": 19,
   "id": "022f616c-3dd2-47f8-9360-286d1dc08bab",
   "metadata": {
    "execution": {
     "iopub.execute_input": "2022-01-27T18:50:25.177428Z",
     "iopub.status.busy": "2022-01-27T18:50:25.176981Z",
     "iopub.status.idle": "2022-01-27T18:50:25.178475Z",
     "shell.execute_reply": "2022-01-27T18:50:25.178831Z"
    },
    "papermill": {
     "duration": 0.03326,
     "end_time": "2022-01-27T18:50:25.178946",
     "exception": false,
     "start_time": "2022-01-27T18:50:25.145686",
     "status": "completed"
    },
    "tags": []
   },
   "outputs": [],
   "source": [
    "all_sample_files = []\n",
    "\n",
    "sample_id = 0\n",
    "sample_file = Path(INPUT_GENE_PAIRS_FILE_TEMPLATE.format(sample_id=sample_id))\n",
    "\n",
    "while sample_file.exists():\n",
    "    all_sample_files.append((sample_id, sample_file))\n",
    "\n",
    "    sample_id += 1\n",
    "    sample_file = Path(INPUT_GENE_PAIRS_FILE_TEMPLATE.format(sample_id=sample_id))"
   ]
  },
  {
   "cell_type": "code",
   "execution_count": 20,
   "id": "f0af34fd-19ac-4d74-a3e4-399f70c049ac",
   "metadata": {
    "execution": {
     "iopub.execute_input": "2022-01-27T18:50:25.237565Z",
     "iopub.status.busy": "2022-01-27T18:50:25.237122Z",
     "iopub.status.idle": "2022-01-27T18:50:25.238955Z",
     "shell.execute_reply": "2022-01-27T18:50:25.238572Z"
    },
    "papermill": {
     "duration": 0.032164,
     "end_time": "2022-01-27T18:50:25.239048",
     "exception": false,
     "start_time": "2022-01-27T18:50:25.206884",
     "status": "completed"
    },
    "tags": []
   },
   "outputs": [],
   "source": [
    "# all_sample_files = sorted(\n",
    "#     list(\n",
    "#         INPUT_GENE_PAIRS_FILE.parent.glob(INPUT_GENE_PAIRS_FILE.name.format(sample_id=\"*\"))\n",
    "#     )\n",
    "# )"
   ]
  },
  {
   "cell_type": "code",
   "execution_count": 21,
   "id": "4f169abf-2009-482c-9df3-b502c4f56641",
   "metadata": {
    "execution": {
     "iopub.execute_input": "2022-01-27T18:50:25.298753Z",
     "iopub.status.busy": "2022-01-27T18:50:25.298243Z",
     "iopub.status.idle": "2022-01-27T18:50:25.300560Z",
     "shell.execute_reply": "2022-01-27T18:50:25.300919Z"
    },
    "papermill": {
     "duration": 0.03352,
     "end_time": "2022-01-27T18:50:25.301034",
     "exception": false,
     "start_time": "2022-01-27T18:50:25.267514",
     "status": "completed"
    },
    "tags": []
   },
   "outputs": [
    {
     "data": {
      "text/plain": [
       "1"
      ]
     },
     "execution_count": 21,
     "metadata": {},
     "output_type": "execute_result"
    }
   ],
   "source": [
    "len(all_sample_files)"
   ]
  },
  {
   "cell_type": "code",
   "execution_count": 22,
   "id": "f49ac615-436b-4abc-8f72-06f50907c70d",
   "metadata": {
    "execution": {
     "iopub.execute_input": "2022-01-27T18:50:25.361748Z",
     "iopub.status.busy": "2022-01-27T18:50:25.361105Z",
     "iopub.status.idle": "2022-01-27T18:50:25.364057Z",
     "shell.execute_reply": "2022-01-27T18:50:25.363593Z"
    },
    "papermill": {
     "duration": 0.034511,
     "end_time": "2022-01-27T18:50:25.364149",
     "exception": false,
     "start_time": "2022-01-27T18:50:25.329638",
     "status": "completed"
    },
    "tags": []
   },
   "outputs": [
    {
     "data": {
      "text/plain": [
       "[(0,\n",
       "  PosixPath('/opt/data/results/gtex_v8/gene_pair_intersections/samples/gene_pair_intersections-gtex_v8-whole_blood-var_pc_log2-agreements_sample_0.pkl'))]"
      ]
     },
     "execution_count": 22,
     "metadata": {},
     "output_type": "execute_result"
    }
   ],
   "source": [
    "all_sample_files[:3]"
   ]
  },
  {
   "cell_type": "markdown",
   "id": "96315853-ea9d-4417-b224-31b3bbdf7553",
   "metadata": {
    "papermill": {
     "duration": 0.028102,
     "end_time": "2022-01-27T18:50:25.420690",
     "exception": false,
     "start_time": "2022-01-27T18:50:25.392588",
     "status": "completed"
    },
    "tags": []
   },
   "source": [
    "## Run"
   ]
  },
  {
   "cell_type": "code",
   "execution_count": 23,
   "id": "0f516a3e-0f64-42d3-b32d-9de6563b2df4",
   "metadata": {
    "execution": {
     "iopub.execute_input": "2022-01-27T18:50:25.481409Z",
     "iopub.status.busy": "2022-01-27T18:50:25.480947Z",
     "iopub.status.idle": "2022-01-27T18:50:25.505852Z",
     "shell.execute_reply": "2022-01-27T18:50:25.506294Z"
    },
    "papermill": {
     "duration": 0.057588,
     "end_time": "2022-01-27T18:50:25.506440",
     "exception": false,
     "start_time": "2022-01-27T18:50:25.448852",
     "status": "completed"
    },
    "tags": []
   },
   "outputs": [],
   "source": [
    "from concurrent.futures import ProcessPoolExecutor, as_completed\n",
    "from collections import defaultdict\n",
    "\n",
    "from tqdm import tqdm\n",
    "\n",
    "from clustermatch.utils import chunker"
   ]
  },
  {
   "cell_type": "code",
   "execution_count": 24,
   "id": "f2d70e9a-42df-483a-86d2-7fb59f425166",
   "metadata": {
    "execution": {
     "iopub.execute_input": "2022-01-27T18:50:25.576113Z",
     "iopub.status.busy": "2022-01-27T18:50:25.575540Z",
     "iopub.status.idle": "2022-01-27T18:50:25.577399Z",
     "shell.execute_reply": "2022-01-27T18:50:25.577801Z"
    },
    "papermill": {
     "duration": 0.035738,
     "end_time": "2022-01-27T18:50:25.577925",
     "exception": false,
     "start_time": "2022-01-27T18:50:25.542187",
     "status": "completed"
    },
    "tags": []
   },
   "outputs": [],
   "source": [
    "def _compute_mic(gene_sets: list):\n",
    "    res = [\n",
    "        _mic(gene_expr_dict[gs[0]].to_numpy(), gene_expr_dict[gs[1]].to_numpy())\n",
    "        for gs in gene_sets\n",
    "    ]\n",
    "\n",
    "    return pd.Series(res, index=pd.MultiIndex.from_tuples(gene_sets))"
   ]
  },
  {
   "cell_type": "code",
   "execution_count": 25,
   "id": "3a16f0f9-9af0-49a4-a293-f51f58f46de3",
   "metadata": {
    "execution": {
     "iopub.execute_input": "2022-01-27T18:50:25.654390Z",
     "iopub.status.busy": "2022-01-27T18:50:25.653940Z",
     "iopub.status.idle": "2022-01-27T18:50:26.510053Z",
     "shell.execute_reply": "2022-01-27T18:50:26.510521Z"
    },
    "papermill": {
     "duration": 0.897214,
     "end_time": "2022-01-27T18:50:26.510688",
     "exception": false,
     "start_time": "2022-01-27T18:50:25.613474",
     "status": "completed"
    },
    "tags": []
   },
   "outputs": [
    {
     "data": {
      "text/html": [
       "<div>\n",
       "<style scoped>\n",
       "    .dataframe tbody tr th:only-of-type {\n",
       "        vertical-align: middle;\n",
       "    }\n",
       "\n",
       "    .dataframe tbody tr th {\n",
       "        vertical-align: top;\n",
       "    }\n",
       "\n",
       "    .dataframe thead th {\n",
       "        text-align: right;\n",
       "    }\n",
       "</style>\n",
       "<table border=\"1\" class=\"dataframe\">\n",
       "  <thead>\n",
       "    <tr style=\"text-align: right;\">\n",
       "      <th></th>\n",
       "      <th>gene0</th>\n",
       "      <th>gene1</th>\n",
       "    </tr>\n",
       "  </thead>\n",
       "  <tbody>\n",
       "    <tr>\n",
       "      <th>441288</th>\n",
       "      <td>ENSG00000227615.1</td>\n",
       "      <td>ENSG00000159882.12</td>\n",
       "    </tr>\n",
       "    <tr>\n",
       "      <th>1219682</th>\n",
       "      <td>ENSG00000134285.10</td>\n",
       "      <td>ENSG00000211794.3</td>\n",
       "    </tr>\n",
       "    <tr>\n",
       "      <th>1283108</th>\n",
       "      <td>ENSG00000163636.10</td>\n",
       "      <td>ENSG00000189058.8</td>\n",
       "    </tr>\n",
       "    <tr>\n",
       "      <th>2888317</th>\n",
       "      <td>ENSG00000254901.7</td>\n",
       "      <td>ENSG00000167261.13</td>\n",
       "    </tr>\n",
       "    <tr>\n",
       "      <th>1558640</th>\n",
       "      <td>ENSG00000146676.8</td>\n",
       "      <td>ENSG00000134905.16</td>\n",
       "    </tr>\n",
       "    <tr>\n",
       "      <th>2509850</th>\n",
       "      <td>ENSG00000197217.12</td>\n",
       "      <td>ENSG00000143384.12</td>\n",
       "    </tr>\n",
       "    <tr>\n",
       "      <th>756802</th>\n",
       "      <td>ENSG00000129055.12</td>\n",
       "      <td>ENSG00000117560.7</td>\n",
       "    </tr>\n",
       "    <tr>\n",
       "      <th>1958512</th>\n",
       "      <td>ENSG00000166971.16</td>\n",
       "      <td>ENSG00000177191.2</td>\n",
       "    </tr>\n",
       "    <tr>\n",
       "      <th>1340661</th>\n",
       "      <td>ENSG00000137841.11</td>\n",
       "      <td>ENSG00000143382.14</td>\n",
       "    </tr>\n",
       "    <tr>\n",
       "      <th>201991</th>\n",
       "      <td>ENSG00000140688.16</td>\n",
       "      <td>ENSG00000229453.2</td>\n",
       "    </tr>\n",
       "  </tbody>\n",
       "</table>\n",
       "</div>"
      ],
      "text/plain": [
       "                      gene0               gene1\n",
       "441288    ENSG00000227615.1  ENSG00000159882.12\n",
       "1219682  ENSG00000134285.10   ENSG00000211794.3\n",
       "1283108  ENSG00000163636.10   ENSG00000189058.8\n",
       "2888317   ENSG00000254901.7  ENSG00000167261.13\n",
       "1558640   ENSG00000146676.8  ENSG00000134905.16\n",
       "2509850  ENSG00000197217.12  ENSG00000143384.12\n",
       "756802   ENSG00000129055.12   ENSG00000117560.7\n",
       "1958512  ENSG00000166971.16   ENSG00000177191.2\n",
       "1340661  ENSG00000137841.11  ENSG00000143382.14\n",
       "201991   ENSG00000140688.16   ENSG00000229453.2"
      ]
     },
     "metadata": {},
     "output_type": "display_data"
    },
    {
     "data": {
      "text/plain": [
       "(10,)"
      ]
     },
     "metadata": {},
     "output_type": "display_data"
    },
    {
     "data": {
      "text/plain": [
       "ENSG00000227615.1   ENSG00000159882.12    0.171013\n",
       "ENSG00000134285.10  ENSG00000211794.3     0.473243\n",
       "ENSG00000163636.10  ENSG00000189058.8     0.171698\n",
       "ENSG00000254901.7   ENSG00000167261.13    0.601925\n",
       "ENSG00000146676.8   ENSG00000134905.16    0.413489\n",
       "dtype: float64"
      ]
     },
     "metadata": {},
     "output_type": "display_data"
    }
   ],
   "source": [
    "# testing\n",
    "# gene_set_key = \"Clustermatch (high), Pearson (high), Spearman (high)\"\n",
    "gene_set = pd.read_pickle(all_sample_files[0][1]).sample(n=10)\n",
    "display(gene_set)\n",
    "\n",
    "_res = _compute_mic(list(gene_set.itertuples(index=False)))\n",
    "display(_res.shape)\n",
    "display(_res.head())\n",
    "\n",
    "# make sure order is preserved\n",
    "assert _res.index.to_list() == list(gene_set.itertuples(index=False, name=None))"
   ]
  },
  {
   "cell_type": "code",
   "execution_count": 26,
   "id": "df927e8f-203d-41df-a5f1-25d6c9a43d53",
   "metadata": {
    "execution": {
     "iopub.execute_input": "2022-01-27T18:50:26.597656Z",
     "iopub.status.busy": "2022-01-27T18:50:26.597172Z",
     "iopub.status.idle": "2022-01-27T18:50:26.599423Z",
     "shell.execute_reply": "2022-01-27T18:50:26.598984Z"
    },
    "papermill": {
     "duration": 0.049187,
     "end_time": "2022-01-27T18:50:26.599520",
     "exception": false,
     "start_time": "2022-01-27T18:50:26.550333",
     "status": "completed"
    },
    "tags": []
   },
   "outputs": [],
   "source": [
    "all_chunks = []\n",
    "\n",
    "for (sample_id, sample_file) in all_sample_files:\n",
    "    gene_pairs_df = pd.read_pickle(sample_file)\n",
    "    gene_pairs_subset = list(gene_pairs_df.itertuples(index=False, name=None))\n",
    "\n",
    "    for chunk in list(chunker(gene_pairs_subset, CHUNK_SIZE)):\n",
    "        all_chunks.append((sample_id, chunk))"
   ]
  },
  {
   "cell_type": "code",
   "execution_count": 27,
   "id": "3ba05517-1b61-40ee-8333-17e1a2088de9",
   "metadata": {
    "execution": {
     "iopub.execute_input": "2022-01-27T18:50:26.663752Z",
     "iopub.status.busy": "2022-01-27T18:50:26.663252Z",
     "iopub.status.idle": "2022-01-27T18:50:26.665949Z",
     "shell.execute_reply": "2022-01-27T18:50:26.665520Z"
    },
    "papermill": {
     "duration": 0.035983,
     "end_time": "2022-01-27T18:50:26.666042",
     "exception": false,
     "start_time": "2022-01-27T18:50:26.630059",
     "status": "completed"
    },
    "tags": []
   },
   "outputs": [
    {
     "data": {
      "text/plain": [
       "330"
      ]
     },
     "execution_count": 27,
     "metadata": {},
     "output_type": "execute_result"
    }
   ],
   "source": [
    "len(all_chunks)"
   ]
  },
  {
   "cell_type": "code",
   "execution_count": 28,
   "id": "5b2aec09-987c-4506-87c2-5d9e8107d9ca",
   "metadata": {
    "execution": {
     "iopub.execute_input": "2022-01-27T18:50:26.734566Z",
     "iopub.status.busy": "2022-01-27T18:50:26.734134Z",
     "iopub.status.idle": "2022-01-27T18:50:26.739815Z",
     "shell.execute_reply": "2022-01-27T18:50:26.740191Z"
    },
    "papermill": {
     "duration": 0.043986,
     "end_time": "2022-01-27T18:50:26.740309",
     "exception": false,
     "start_time": "2022-01-27T18:50:26.696323",
     "status": "completed"
    },
    "tags": []
   },
   "outputs": [
    {
     "data": {
      "text/plain": [
       "[(0,\n",
       "  [('ENSG00000196358.10', 'ENSG00000092054.12'),\n",
       "   ('ENSG00000119979.16', 'ENSG00000115271.10'),\n",
       "   ('ENSG00000116731.22', 'ENSG00000063601.16'),\n",
       "   ('ENSG00000087087.18', 'ENSG00000173200.12'),\n",
       "   ('ENSG00000164941.13', 'ENSG00000186205.12'),\n",
       "   ('ENSG00000173511.9', 'ENSG00000232956.8'),\n",
       "   ('ENSG00000166886.12', 'ENSG00000230099.2'),\n",
       "   ('ENSG00000118197.13', 'ENSG00000263335.1'),\n",
       "   ('ENSG00000166797.10', 'ENSG00000166272.16'),\n",
       "   ('ENSG00000143382.14', 'ENSG00000117399.13'),\n",
       "   ('ENSG00000228278.3', 'ENSG00000263647.1'),\n",
       "   ('ENSG00000139718.10', 'ENSG00000196091.13'),\n",
       "   ('ENSG00000111653.19', 'ENSG00000136560.13'),\n",
       "   ('ENSG00000168010.10', 'ENSG00000133961.19'),\n",
       "   ('ENSG00000072694.20', 'ENSG00000183291.15'),\n",
       "   ('ENSG00000211850.1', 'ENSG00000182866.16'),\n",
       "   ('ENSG00000115602.16', 'ENSG00000136842.13'),\n",
       "   ('ENSG00000002586.18', 'ENSG00000148110.15'),\n",
       "   ('ENSG00000157017.15', 'ENSG00000165457.13'),\n",
       "   ('ENSG00000162777.16', 'ENSG00000210194.1'),\n",
       "   ('ENSG00000174839.12', 'ENSG00000181523.12'),\n",
       "   ('ENSG00000026508.17', 'ENSG00000211945.2'),\n",
       "   ('ENSG00000167202.11', 'ENSG00000235568.6'),\n",
       "   ('ENSG00000166548.15', 'ENSG00000104915.14'),\n",
       "   ('ENSG00000243414.5', 'ENSG00000050130.17'),\n",
       "   ('ENSG00000132510.10', 'ENSG00000111341.9'),\n",
       "   ('ENSG00000257621.7', 'ENSG00000186105.7'),\n",
       "   ('ENSG00000078589.12', 'ENSG00000211904.2'),\n",
       "   ('ENSG00000102445.18', 'ENSG00000181444.12'),\n",
       "   ('ENSG00000146476.10', 'ENSG00000165131.6'),\n",
       "   ('ENSG00000225313.5', 'ENSG00000103196.11'),\n",
       "   ('ENSG00000235192.1', 'ENSG00000185811.16'),\n",
       "   ('ENSG00000175040.5', 'ENSG00000141179.13'),\n",
       "   ('ENSG00000136754.16', 'ENSG00000055955.15'),\n",
       "   ('ENSG00000070269.13', 'ENSG00000273669.1'),\n",
       "   ('ENSG00000136630.12', 'ENSG00000187608.8'),\n",
       "   ('ENSG00000271109.1', 'ENSG00000166289.5'),\n",
       "   ('ENSG00000065809.13', 'ENSG00000125148.6'),\n",
       "   ('ENSG00000167992.12', 'ENSG00000140995.16'),\n",
       "   ('ENSG00000054654.16', 'ENSG00000235437.7'),\n",
       "   ('ENSG00000135521.8', 'ENSG00000084112.14'),\n",
       "   ('ENSG00000064419.13', 'ENSG00000225808.1'),\n",
       "   ('ENSG00000115866.10', 'ENSG00000183813.6'),\n",
       "   ('ENSG00000174405.13', 'ENSG00000281005.1'),\n",
       "   ('ENSG00000072518.20', 'ENSG00000100342.20'),\n",
       "   ('ENSG00000234436.1', 'ENSG00000211649.3'),\n",
       "   ('ENSG00000204390.9', 'ENSG00000213533.11'),\n",
       "   ('ENSG00000143183.16', 'ENSG00000147604.13'),\n",
       "   ('ENSG00000204681.10', 'ENSG00000197582.5'),\n",
       "   ('ENSG00000147155.10', 'ENSG00000211812.1'),\n",
       "   ('ENSG00000155393.12', 'ENSG00000108599.14'),\n",
       "   ('ENSG00000197579.7', 'ENSG00000211896.7'),\n",
       "   ('ENSG00000168056.15', 'ENSG00000132334.16'),\n",
       "   ('ENSG00000118985.15', 'ENSG00000145675.14'),\n",
       "   ('ENSG00000197353.3', 'ENSG00000143185.3'),\n",
       "   ('ENSG00000057608.16', 'ENSG00000143570.17'),\n",
       "   ('ENSG00000126524.9', 'ENSG00000225808.1'),\n",
       "   ('ENSG00000100764.13', 'ENSG00000134198.9'),\n",
       "   ('ENSG00000215717.5', 'ENSG00000089060.11'),\n",
       "   ('ENSG00000131469.12', 'ENSG00000133069.15'),\n",
       "   ('ENSG00000166912.16', 'ENSG00000073921.17'),\n",
       "   ('ENSG00000169180.11', 'ENSG00000211640.4'),\n",
       "   ('ENSG00000162722.8', 'ENSG00000152601.17'),\n",
       "   ('ENSG00000065989.15', 'ENSG00000255513.1'),\n",
       "   ('ENSG00000104081.13', 'ENSG00000161970.12'),\n",
       "   ('ENSG00000108219.14', 'ENSG00000084110.10'),\n",
       "   ('ENSG00000099991.17', 'ENSG00000239998.5'),\n",
       "   ('ENSG00000112242.14', 'ENSG00000143409.15'),\n",
       "   ('ENSG00000177352.9', 'ENSG00000112799.8'),\n",
       "   ('ENSG00000165682.14', 'ENSG00000279330.1'),\n",
       "   ('ENSG00000198089.15', 'ENSG00000135709.12'),\n",
       "   ('ENSG00000168876.8', 'ENSG00000186594.14'),\n",
       "   ('ENSG00000167985.6', 'ENSG00000255112.2'),\n",
       "   ('ENSG00000164603.11', 'ENSG00000137392.9'),\n",
       "   ('ENSG00000258352.1', 'ENSG00000256006.1'),\n",
       "   ('ENSG00000173511.9', 'ENSG00000019169.10'),\n",
       "   ('ENSG00000064763.10', 'ENSG00000235119.1'),\n",
       "   ('ENSG00000114302.15', 'ENSG00000101336.13'),\n",
       "   ('ENSG00000233038.5', 'ENSG00000075399.13'),\n",
       "   ('ENSG00000279861.1', 'ENSG00000204983.13'),\n",
       "   ('ENSG00000107581.12', 'ENSG00000276317.1'),\n",
       "   ('ENSG00000141497.13', 'ENSG00000211890.3'),\n",
       "   ('ENSG00000277986.1', 'ENSG00000023445.13'),\n",
       "   ('ENSG00000255569.1', 'ENSG00000078124.11'),\n",
       "   ('ENSG00000254685.6', 'ENSG00000085117.11'),\n",
       "   ('ENSG00000127220.5', 'ENSG00000092020.10'),\n",
       "   ('ENSG00000121931.15', 'ENSG00000135083.14'),\n",
       "   ('ENSG00000168291.12', 'ENSG00000177105.9'),\n",
       "   ('ENSG00000196139.13', 'ENSG00000198821.10'),\n",
       "   ('ENSG00000176390.11', 'ENSG00000237973.1'),\n",
       "   ('ENSG00000240671.4', 'ENSG00000138071.13'),\n",
       "   ('ENSG00000165732.12', 'ENSG00000211795.3'),\n",
       "   ('ENSG00000243414.5', 'ENSG00000160408.14'),\n",
       "   ('ENSG00000100902.10', 'ENSG00000171617.13'),\n",
       "   ('ENSG00000171345.13', 'ENSG00000243811.8'),\n",
       "   ('ENSG00000257093.6', 'ENSG00000177674.15'),\n",
       "   ('ENSG00000211867.1', 'ENSG00000169826.7'),\n",
       "   ('ENSG00000116459.10', 'ENSG00000181847.11'),\n",
       "   ('ENSG00000276597.1', 'ENSG00000114573.9'),\n",
       "   ('ENSG00000183250.11', 'ENSG00000159173.18')]),\n",
       " (0,\n",
       "  [('ENSG00000224631.4', 'ENSG00000148411.7'),\n",
       "   ('ENSG00000160219.11', 'ENSG00000167635.11'),\n",
       "   ('ENSG00000147439.12', 'ENSG00000136630.12'),\n",
       "   ('ENSG00000038274.16', 'ENSG00000177606.6'),\n",
       "   ('ENSG00000204387.12', 'ENSG00000149418.10'),\n",
       "   ('ENSG00000126261.12', 'ENSG00000006062.14'),\n",
       "   ('ENSG00000101474.11', 'ENSG00000211771.1'),\n",
       "   ('ENSG00000139505.11', 'ENSG00000112062.10'),\n",
       "   ('ENSG00000213190.3', 'ENSG00000143742.12'),\n",
       "   ('ENSG00000070731.10', 'ENSG00000258476.5'),\n",
       "   ('ENSG00000103187.7', 'ENSG00000183044.11'),\n",
       "   ('ENSG00000214114.8', 'ENSG00000187193.8'),\n",
       "   ('ENSG00000095932.6', 'ENSG00000096996.15'),\n",
       "   ('ENSG00000278784.1', 'ENSG00000097033.14'),\n",
       "   ('ENSG00000176749.8', 'ENSG00000101335.9'),\n",
       "   ('ENSG00000172939.8', 'ENSG00000026950.16'),\n",
       "   ('ENSG00000125354.22', 'ENSG00000118855.18'),\n",
       "   ('ENSG00000158769.17', 'ENSG00000160883.10'),\n",
       "   ('ENSG00000135932.10', 'ENSG00000197632.8'),\n",
       "   ('ENSG00000255443.1', 'ENSG00000276533.1'),\n",
       "   ('ENSG00000103811.15', 'ENSG00000279430.1'),\n",
       "   ('ENSG00000163694.14', 'ENSG00000169403.11'),\n",
       "   ('ENSG00000117713.18', 'ENSG00000153922.10'),\n",
       "   ('ENSG00000187695.8', 'ENSG00000211691.2'),\n",
       "   ('ENSG00000176597.11', 'ENSG00000101335.9'),\n",
       "   ('ENSG00000213722.8', 'ENSG00000155090.14'),\n",
       "   ('ENSG00000149557.12', 'ENSG00000284574.1'),\n",
       "   ('ENSG00000133985.2', 'ENSG00000211788.2'),\n",
       "   ('ENSG00000100376.11', 'ENSG00000129757.12'),\n",
       "   ('ENSG00000079393.20', 'ENSG00000114573.9'),\n",
       "   ('ENSG00000196616.13', 'ENSG00000112077.15'),\n",
       "   ('ENSG00000115548.16', 'ENSG00000064666.14'),\n",
       "   ('ENSG00000177565.16', 'ENSG00000151694.12'),\n",
       "   ('ENSG00000267121.5', 'ENSG00000234518.2'),\n",
       "   ('ENSG00000105122.12', 'ENSG00000237254.2'),\n",
       "   ('ENSG00000149231.11', 'ENSG00000128594.7'),\n",
       "   ('ENSG00000258352.1', 'ENSG00000019582.14'),\n",
       "   ('ENSG00000142694.6', 'ENSG00000170144.20'),\n",
       "   ('ENSG00000169967.16', 'ENSG00000147872.9'),\n",
       "   ('ENSG00000232187.1', 'ENSG00000186566.12'),\n",
       "   ('ENSG00000159388.5', 'ENSG00000100979.14'),\n",
       "   ('ENSG00000275491.1', 'ENSG00000111859.16'),\n",
       "   ('ENSG00000077454.15', 'ENSG00000165507.8'),\n",
       "   ('ENSG00000172716.16', 'ENSG00000139505.11'),\n",
       "   ('ENSG00000185278.15', 'ENSG00000248780.1'),\n",
       "   ('ENSG00000086200.16', 'ENSG00000156711.16'),\n",
       "   ('ENSG00000255587.7', 'ENSG00000163209.14'),\n",
       "   ('ENSG00000135709.12', 'ENSG00000244482.10'),\n",
       "   ('ENSG00000134440.11', 'ENSG00000036054.12'),\n",
       "   ('ENSG00000165312.6', 'ENSG00000064932.15'),\n",
       "   ('ENSG00000265681.7', 'ENSG00000148411.7'),\n",
       "   ('ENSG00000196371.3', 'ENSG00000144455.13'),\n",
       "   ('ENSG00000272196.2', 'ENSG00000100605.16'),\n",
       "   ('ENSG00000274256.1', 'ENSG00000172322.13'),\n",
       "   ('ENSG00000165195.15', 'ENSG00000210194.1'),\n",
       "   ('ENSG00000273174.1', 'ENSG00000117523.15'),\n",
       "   ('ENSG00000183250.11', 'ENSG00000111252.10'),\n",
       "   ('ENSG00000077254.14', 'ENSG00000211662.2'),\n",
       "   ('ENSG00000171109.18', 'ENSG00000178988.10'),\n",
       "   ('ENSG00000135930.13', 'ENSG00000173281.4'),\n",
       "   ('ENSG00000135905.18', 'ENSG00000131355.14'),\n",
       "   ('ENSG00000197119.12', 'ENSG00000070269.13'),\n",
       "   ('ENSG00000070476.14', 'ENSG00000117335.19'),\n",
       "   ('ENSG00000147457.13', 'ENSG00000148660.20'),\n",
       "   ('ENSG00000100796.17', 'ENSG00000183513.8'),\n",
       "   ('ENSG00000129103.17', 'ENSG00000226660.2'),\n",
       "   ('ENSG00000135164.18', 'ENSG00000117228.9'),\n",
       "   ('ENSG00000171475.13', 'ENSG00000152520.13'),\n",
       "   ('ENSG00000211805.1', 'ENSG00000170180.19'),\n",
       "   ('ENSG00000052749.13', 'ENSG00000155957.17'),\n",
       "   ('ENSG00000135473.14', 'ENSG00000166974.12'),\n",
       "   ('ENSG00000010404.17', 'ENSG00000262370.5'),\n",
       "   ('ENSG00000278311.4', 'ENSG00000139505.11'),\n",
       "   ('ENSG00000187257.15', 'ENSG00000079263.18'),\n",
       "   ('ENSG00000130810.19', 'ENSG00000248019.2'),\n",
       "   ('ENSG00000117399.13', 'ENSG00000272398.5'),\n",
       "   ('ENSG00000029363.16', 'ENSG00000181800.5'),\n",
       "   ('ENSG00000225969.1', 'ENSG00000067955.13'),\n",
       "   ('ENSG00000207304.1', 'ENSG00000156675.15'),\n",
       "   ('ENSG00000182809.10', 'ENSG00000126882.12'),\n",
       "   ('ENSG00000139055.6', 'ENSG00000087253.12'),\n",
       "   ('ENSG00000237441.9', 'ENSG00000275743.1'),\n",
       "   ('ENSG00000155393.12', 'ENSG00000121454.5'),\n",
       "   ('ENSG00000211779.3', 'ENSG00000142173.14'),\n",
       "   ('ENSG00000158089.14', 'ENSG00000111837.11'),\n",
       "   ('ENSG00000126861.4', 'ENSG00000135636.13'),\n",
       "   ('ENSG00000096088.16', 'ENSG00000211801.3'),\n",
       "   ('ENSG00000211792.2', 'ENSG00000092054.12'),\n",
       "   ('ENSG00000179387.9', 'ENSG00000143924.18'),\n",
       "   ('ENSG00000157916.19', 'ENSG00000108946.14'),\n",
       "   ('ENSG00000270426.1', 'ENSG00000211797.2'),\n",
       "   ('ENSG00000131263.12', 'ENSG00000170909.13'),\n",
       "   ('ENSG00000186469.8', 'ENSG00000170477.12'),\n",
       "   ('ENSG00000082512.14', 'ENSG00000115085.13'),\n",
       "   ('ENSG00000023697.12', 'ENSG00000105520.10'),\n",
       "   ('ENSG00000090060.17', 'ENSG00000186908.14'),\n",
       "   ('ENSG00000275183.1', 'ENSG00000163083.5'),\n",
       "   ('ENSG00000166900.15', 'ENSG00000165879.8'),\n",
       "   ('ENSG00000143418.19', 'ENSG00000168497.4'),\n",
       "   ('ENSG00000269981.1', 'ENSG00000241399.6')])]"
      ]
     },
     "execution_count": 28,
     "metadata": {},
     "output_type": "execute_result"
    }
   ],
   "source": [
    "all_chunks[:2]"
   ]
  },
  {
   "cell_type": "code",
   "execution_count": 29,
   "id": "2a961167-6660-47bd-8beb-4e08de26bf05",
   "metadata": {
    "execution": {
     "iopub.execute_input": "2022-01-27T18:50:26.808389Z",
     "iopub.status.busy": "2022-01-27T18:50:26.807802Z",
     "iopub.status.idle": "2022-01-27T19:06:45.253232Z",
     "shell.execute_reply": "2022-01-27T19:06:45.253592Z"
    },
    "papermill": {
     "duration": 978.481541,
     "end_time": "2022-01-27T19:06:45.253711",
     "exception": false,
     "start_time": "2022-01-27T18:50:26.772170",
     "status": "completed"
    },
    "tags": []
   },
   "outputs": [
    {
     "name": "stderr",
     "output_type": "stream",
     "text": [
      "100%|█████████████████████████████████████████████████████████████| 330/330 [16:18<00:00,  2.96s/it]\n"
     ]
    }
   ],
   "source": [
    "all_results = defaultdict(list)\n",
    "\n",
    "with ProcessPoolExecutor(max_workers=conf.GENERAL[\"N_JOBS\"]) as executor:\n",
    "    tasks = {\n",
    "        executor.submit(_compute_mic, chunk): sample_id\n",
    "        for sample_id, chunk in all_chunks\n",
    "    }\n",
    "\n",
    "    pbar = tqdm(as_completed(tasks), total=len(all_chunks), ncols=100)\n",
    "\n",
    "    for future in pbar:\n",
    "        sample_id = tasks[future]\n",
    "        sample_file_mic = future.result()\n",
    "\n",
    "        all_results[sample_id].append(sample_file_mic)"
   ]
  },
  {
   "cell_type": "markdown",
   "id": "bd48badf-bfe2-41d1-85b8-c4d8a494b5cd",
   "metadata": {
    "papermill": {
     "duration": 0.116623,
     "end_time": "2022-01-27T19:06:45.478545",
     "exception": false,
     "start_time": "2022-01-27T19:06:45.361922",
     "status": "completed"
    },
    "tags": []
   },
   "source": [
    "# Save for each sample file"
   ]
  },
  {
   "cell_type": "code",
   "execution_count": 30,
   "id": "82b77d46-d4b5-4e02-91b9-acffb848332b",
   "metadata": {
    "execution": {
     "iopub.execute_input": "2022-01-27T19:06:45.707410Z",
     "iopub.status.busy": "2022-01-27T19:06:45.702068Z",
     "iopub.status.idle": "2022-01-27T19:06:46.001250Z",
     "shell.execute_reply": "2022-01-27T19:06:46.000740Z"
    },
    "papermill": {
     "duration": 0.41497,
     "end_time": "2022-01-27T19:06:46.001377",
     "exception": false,
     "start_time": "2022-01-27T19:06:45.586407",
     "status": "completed"
    },
    "tags": []
   },
   "outputs": [],
   "source": [
    "for sample_id in all_results.keys():\n",
    "    sample_file_all_results_df = pd.concat(all_results[sample_id]).sort_index()\n",
    "    assert not sample_file_all_results_df.isna().any()\n",
    "    sample_file_all_results_gene_pairs_set = set(sample_file_all_results_df.index)\n",
    "\n",
    "    # testing: load input gene pairs\n",
    "    sample_file_df = pd.read_pickle(\n",
    "        INPUT_GENE_PAIRS_FILE_TEMPLATE.format(sample_id=sample_id)\n",
    "    )\n",
    "    assert sample_file_df.drop_duplicates().shape[0] == sample_file_df.shape[0]\n",
    "\n",
    "    # testing: number of gene pairs are the same in input data and in results\n",
    "    assert sample_file_df.shape[0] == sample_file_all_results_df.shape[0]\n",
    "\n",
    "    # testing: make sure gene ids are the same in results as in input gene pairs\n",
    "    sample_file_gene_pairs_list = list(\n",
    "        sample_file_df.itertuples(index=False, name=None)\n",
    "    )\n",
    "    sample_file_gene_pairs_set = set(sample_file_gene_pairs_list)\n",
    "    assert len(sample_file_gene_pairs_set) == len(\n",
    "        sample_file_gene_pairs_set.intersection(sample_file_all_results_gene_pairs_set)\n",
    "    )\n",
    "\n",
    "    # save results with same order (in gene pairs) as input sample data\n",
    "    sample_file_all_results_df = sample_file_all_results_df.loc[\n",
    "        sample_file_gene_pairs_list\n",
    "    ]\n",
    "    sample_file_all_results_df.to_pickle(\n",
    "        OUTPUT_FILE_TEMPLATE.format(sample_id=sample_id)\n",
    "    )"
   ]
  },
  {
   "cell_type": "code",
   "execution_count": 31,
   "id": "9bc5931e-5cac-4f47-a46f-837e270c4ef4",
   "metadata": {
    "execution": {
     "iopub.execute_input": "2022-01-27T19:06:46.229542Z",
     "iopub.status.busy": "2022-01-27T19:06:46.229089Z",
     "iopub.status.idle": "2022-01-27T19:06:46.234732Z",
     "shell.execute_reply": "2022-01-27T19:06:46.234284Z"
    },
    "papermill": {
     "duration": 0.116471,
     "end_time": "2022-01-27T19:06:46.234829",
     "exception": false,
     "start_time": "2022-01-27T19:06:46.118358",
     "status": "completed"
    },
    "tags": []
   },
   "outputs": [
    {
     "data": {
      "text/plain": [
       "(33000,)"
      ]
     },
     "metadata": {},
     "output_type": "display_data"
    },
    {
     "data": {
      "text/plain": [
       "ENSG00000196358.10  ENSG00000092054.12    0.141295\n",
       "ENSG00000119979.16  ENSG00000115271.10    0.698775\n",
       "ENSG00000116731.22  ENSG00000063601.16    0.476070\n",
       "ENSG00000087087.18  ENSG00000173200.12    0.558170\n",
       "ENSG00000164941.13  ENSG00000186205.12    0.541304\n",
       "dtype: float64"
      ]
     },
     "metadata": {},
     "output_type": "display_data"
    }
   ],
   "source": [
    "# show how one result set looks like\n",
    "display(sample_file_all_results_df.shape)\n",
    "display(sample_file_all_results_df.head())"
   ]
  },
  {
   "cell_type": "code",
   "execution_count": null,
   "id": "86d4a81e-927e-4c3e-93d1-47df1931ad5a",
   "metadata": {
    "papermill": {
     "duration": 0.119124,
     "end_time": "2022-01-27T19:06:46.463277",
     "exception": false,
     "start_time": "2022-01-27T19:06:46.344153",
     "status": "completed"
    },
    "tags": []
   },
   "outputs": [],
   "source": []
  }
 ],
 "metadata": {
  "jupytext": {
   "cell_metadata_filter": "all,-execution,-papermill,-trusted"
  },
  "kernelspec": {
   "display_name": "Python 3 (ipykernel)",
   "language": "python",
   "name": "python3"
  },
  "language_info": {
   "codemirror_mode": {
    "name": "ipython",
    "version": 3
   },
   "file_extension": ".py",
   "mimetype": "text/x-python",
   "name": "python",
   "nbconvert_exporter": "python",
   "pygments_lexer": "ipython3",
   "version": "3.9.9"
  },
  "papermill": {
   "default_parameters": {},
   "duration": 985.222046,
   "end_time": "2022-01-27T19:06:46.897905",
   "environment_variables": {},
   "exception": null,
   "input_path": "nbs/20_comparison_others/05_05-gtex_whole_blood-sample_intersections-agreements-mic.ipynb",
   "output_path": "nbs/20_comparison_others/05_05-gtex_whole_blood-sample_intersections-agreements-mic.run.ipynb",
   "parameters": {},
   "start_time": "2022-01-27T18:50:21.675859",
   "version": "2.3.4"
  },
  "toc-autonumbering": true
 },
 "nbformat": 4,
 "nbformat_minor": 5
}
