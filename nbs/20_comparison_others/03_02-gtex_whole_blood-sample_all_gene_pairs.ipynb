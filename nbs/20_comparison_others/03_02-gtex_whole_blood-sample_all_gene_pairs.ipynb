{
 "cells": [
  {
   "cell_type": "markdown",
   "id": "87e0ce1b-7ce6-4499-9342-5ded05307598",
   "metadata": {
    "papermill": {
     "duration": 0.020349,
     "end_time": "2022-01-27T17:54:05.906735",
     "exception": false,
     "start_time": "2022-01-27T17:54:05.886386",
     "status": "completed"
    },
    "tags": []
   },
   "source": [
    "# Description"
   ]
  },
  {
   "cell_type": "markdown",
   "id": "55d9546e-222f-4930-8d13-8328d26ea30d",
   "metadata": {
    "papermill": {
     "duration": 0.015538,
     "end_time": "2022-01-27T17:54:05.940922",
     "exception": false,
     "start_time": "2022-01-27T17:54:05.925384",
     "status": "completed"
    },
    "tags": []
   },
   "source": [
    "It samples all the universe of gene pairs within the top genes initially selected (5,000 genes with maximum variance)."
   ]
  },
  {
   "cell_type": "markdown",
   "id": "e020c781-238b-43c2-8cad-2722b8a240e2",
   "metadata": {
    "papermill": {
     "duration": 0.013946,
     "end_time": "2022-01-27T17:54:05.969242",
     "exception": false,
     "start_time": "2022-01-27T17:54:05.955296",
     "status": "completed"
    },
    "tags": []
   },
   "source": [
    "# Modules"
   ]
  },
  {
   "cell_type": "code",
   "execution_count": 1,
   "id": "a819bfbc-5009-4c68-ba8d-37d0979d368f",
   "metadata": {
    "papermill": {
     "duration": 0.255062,
     "end_time": "2022-01-27T17:54:06.239608",
     "exception": false,
     "start_time": "2022-01-27T17:54:05.984546",
     "status": "completed"
    },
    "tags": []
   },
   "outputs": [],
   "source": [
    "import pandas as pd\n",
    "import numpy as np\n",
    "\n",
    "from clustermatch import conf"
   ]
  },
  {
   "cell_type": "markdown",
   "id": "b4834387-58ff-468c-b326-85c408bc5feb",
   "metadata": {
    "papermill": {
     "duration": 0.014884,
     "end_time": "2022-01-27T17:54:06.269348",
     "exception": false,
     "start_time": "2022-01-27T17:54:06.254464",
     "status": "completed"
    },
    "tags": []
   },
   "source": [
    "# Settings"
   ]
  },
  {
   "cell_type": "code",
   "execution_count": 2,
   "id": "765e820a-4518-4bbc-a00f-14c9cea03821",
   "metadata": {
    "papermill": {
     "duration": 0.01932,
     "end_time": "2022-01-27T17:54:06.302811",
     "exception": false,
     "start_time": "2022-01-27T17:54:06.283491",
     "status": "completed"
    },
    "tags": []
   },
   "outputs": [],
   "source": [
    "DATASET_CONFIG = conf.GTEX\n",
    "GTEX_TISSUE = \"whole_blood\"\n",
    "GENE_SEL_STRATEGY = \"var_pc_log2\""
   ]
  },
  {
   "cell_type": "code",
   "execution_count": 3,
   "id": "85ee3634-e24a-45d1-8209-5e1b7e81d5d0",
   "metadata": {
    "papermill": {
     "duration": 0.019707,
     "end_time": "2022-01-27T17:54:06.337310",
     "exception": false,
     "start_time": "2022-01-27T17:54:06.317603",
     "status": "completed"
    },
    "tags": []
   },
   "outputs": [],
   "source": [
    "# amount of gene pairs to sample\n",
    "SAMPLE_SIZE = 33000\n",
    "\n",
    "# number of samples to take\n",
    "N_SAMPLES = 1"
   ]
  },
  {
   "cell_type": "markdown",
   "id": "a1159982-5dd1-4494-97d4-0674eeead1c3",
   "metadata": {
    "papermill": {
     "duration": 0.017867,
     "end_time": "2022-01-27T17:54:06.373287",
     "exception": false,
     "start_time": "2022-01-27T17:54:06.355420",
     "status": "completed"
    },
    "tags": []
   },
   "source": [
    "# Paths"
   ]
  },
  {
   "cell_type": "code",
   "execution_count": 4,
   "id": "4131d1fd-ff8d-4d98-aa15-54f25b7b7297",
   "metadata": {
    "papermill": {
     "duration": 0.040692,
     "end_time": "2022-01-24T16:38:19.346616",
     "exception": false,
     "start_time": "2022-01-24T16:38:19.305924",
     "status": "completed"
    },
    "tags": []
   },
   "outputs": [
    {
     "data": {
      "text/plain": [
       "PosixPath('/opt/data/results/gtex_v8/similarity_matrices/gtex_v8_data_{tissue}-{gene_sel_strategy}-{corr_method}.pkl')"
      ]
     },
     "metadata": {},
     "output_type": "display_data"
    }
   ],
   "source": [
    "INPUT_CORR_FILE_TEMPLATE = (\n",
    "    DATASET_CONFIG[\"SIMILARITY_MATRICES_DIR\"]\n",
    "    / DATASET_CONFIG[\"SIMILARITY_MATRIX_FILENAME_TEMPLATE\"]\n",
    ")\n",
    "display(INPUT_CORR_FILE_TEMPLATE)"
   ]
  },
  {
   "cell_type": "code",
   "execution_count": 5,
   "id": "0156f6ef-4ed7-4888-9d17-d10d7bd0bd3c",
   "metadata": {
    "papermill": {
     "duration": 0.067744,
     "end_time": "2022-01-24T16:38:19.450604",
     "exception": false,
     "start_time": "2022-01-24T16:38:19.382860",
     "status": "completed"
    },
    "tags": []
   },
   "outputs": [
    {
     "data": {
      "text/plain": [
       "PosixPath('/opt/data/results/gtex_v8/similarity_matrices/gtex_v8_data_whole_blood-var_pc_log2-all.pkl')"
      ]
     },
     "metadata": {},
     "output_type": "display_data"
    }
   ],
   "source": [
    "# I read this files to get the gene pairs so I make sure that the gene pair order in index is exactly the same\n",
    "INPUT_FILE = DATASET_CONFIG[\"SIMILARITY_MATRICES_DIR\"] / str(\n",
    "    INPUT_CORR_FILE_TEMPLATE\n",
    ").format(\n",
    "    tissue=GTEX_TISSUE,\n",
    "    gene_sel_strategy=GENE_SEL_STRATEGY,\n",
    "    corr_method=\"all\",\n",
    ")\n",
    "display(INPUT_FILE)"
   ]
  },
  {
   "cell_type": "code",
   "execution_count": 6,
   "id": "30cce6f5-ca1b-438c-859d-31903a42d4c6",
   "metadata": {
    "papermill": {
     "duration": 0.026307,
     "end_time": "2022-01-27T17:54:06.415658",
     "exception": false,
     "start_time": "2022-01-27T17:54:06.389351",
     "status": "completed"
    },
    "tags": []
   },
   "outputs": [],
   "source": [
    "# INPUT_FILE = (\n",
    "#     DATASET_CONFIG[\"GENE_SELECTION_DIR\"]\n",
    "#     / f\"gtex_v8_data_{GTEX_TISSUE}-{GENE_SEL_STRATEGY}.pkl\"\n",
    "# )\n",
    "# display(INPUT_FILE)\n",
    "\n",
    "# assert INPUT_FILE.exists()"
   ]
  },
  {
   "cell_type": "code",
   "execution_count": 7,
   "id": "93d7c4e1-1ca5-41a4-8fe7-c13ccd5f298e",
   "metadata": {
    "papermill": {
     "duration": 0.020817,
     "end_time": "2022-01-27T17:54:06.451335",
     "exception": false,
     "start_time": "2022-01-27T17:54:06.430518",
     "status": "completed"
    },
    "tags": []
   },
   "outputs": [
    {
     "data": {
      "text/plain": [
       "PosixPath('/opt/data/results/gtex_v8/gene_selection/samples')"
      ]
     },
     "metadata": {},
     "output_type": "display_data"
    }
   ],
   "source": [
    "OUTPUT_DIR = DATASET_CONFIG[\"GENE_SELECTION_DIR\"] / \"samples\"\n",
    "OUTPUT_DIR.mkdir(parents=True, exist_ok=True)\n",
    "display(OUTPUT_DIR)"
   ]
  },
  {
   "cell_type": "code",
   "execution_count": 8,
   "id": "f4468c0e-c0ad-4bf5-b120-3f63e7afc33f",
   "metadata": {
    "papermill": {
     "duration": 0.0206,
     "end_time": "2022-01-27T17:54:06.486945",
     "exception": false,
     "start_time": "2022-01-27T17:54:06.466345",
     "status": "completed"
    },
    "tags": []
   },
   "outputs": [
    {
     "data": {
      "text/plain": [
       "'/opt/data/results/gtex_v8/gene_selection/samples/gtex_v8_data_whole_blood-var_pc_log2-all-gene_pairs-sample_{sample_id}.pkl'"
      ]
     },
     "metadata": {},
     "output_type": "display_data"
    }
   ],
   "source": [
    "OUTPUT_FILE_TEMPLATE = str(\n",
    "    OUTPUT_DIR / (f\"{INPUT_FILE.stem}-gene_pairs-sample_\" + \"{sample_id}\" + \".pkl\")\n",
    ")\n",
    "\n",
    "display(OUTPUT_FILE_TEMPLATE)"
   ]
  },
  {
   "cell_type": "markdown",
   "id": "f6d3322b-c8bb-4fc2-97b6-5bb1793b1577",
   "metadata": {
    "papermill": {
     "duration": 0.014892,
     "end_time": "2022-01-27T17:54:06.517817",
     "exception": false,
     "start_time": "2022-01-27T17:54:06.502925",
     "status": "completed"
    },
    "tags": []
   },
   "source": [
    "# Data"
   ]
  },
  {
   "cell_type": "markdown",
   "id": "b030f506-2fe9-4895-a8a1-51374e88c496",
   "metadata": {
    "papermill": {
     "duration": 0.014941,
     "end_time": "2022-01-27T17:54:06.548076",
     "exception": false,
     "start_time": "2022-01-27T17:54:06.533135",
     "status": "completed"
    },
    "tags": []
   },
   "source": [
    "## Gene pairs universe"
   ]
  },
  {
   "cell_type": "code",
   "execution_count": 9,
   "id": "da1d768a-fbfb-40e8-8fbb-790d1a94aa83",
   "metadata": {
    "papermill": {
     "duration": 0.034566,
     "end_time": "2022-01-27T17:54:06.597611",
     "exception": false,
     "start_time": "2022-01-27T17:54:06.563045",
     "status": "completed"
    },
    "tags": []
   },
   "outputs": [],
   "source": [
    "gene_pairs_df = (\n",
    "    pd.read_pickle(INPUT_FILE).index.rename((\"gene0\", \"gene1\")).to_frame(index=False)\n",
    ")"
   ]
  },
  {
   "cell_type": "code",
   "execution_count": 10,
   "id": "b028abd8-c5b1-48c2-aa5e-cb1b49c943a4",
   "metadata": {
    "papermill": {
     "duration": 0.022593,
     "end_time": "2022-01-27T17:54:06.637037",
     "exception": false,
     "start_time": "2022-01-27T17:54:06.614444",
     "status": "completed"
    },
    "tags": []
   },
   "outputs": [
    {
     "data": {
      "text/plain": [
       "(12497500, 2)"
      ]
     },
     "execution_count": 10,
     "metadata": {},
     "output_type": "execute_result"
    }
   ],
   "source": [
    "gene_pairs_df.shape"
   ]
  },
  {
   "cell_type": "code",
   "execution_count": 11,
   "id": "ed9b2141-7ad7-4db9-8d11-e3bd3ce6df32",
   "metadata": {
    "papermill": {
     "duration": 0.022593,
     "end_time": "2022-01-27T17:54:06.637037",
     "exception": false,
     "start_time": "2022-01-27T17:54:06.614444",
     "status": "completed"
    },
    "tags": []
   },
   "outputs": [
    {
     "data": {
      "text/html": [
       "<div>\n",
       "<style scoped>\n",
       "    .dataframe tbody tr th:only-of-type {\n",
       "        vertical-align: middle;\n",
       "    }\n",
       "\n",
       "    .dataframe tbody tr th {\n",
       "        vertical-align: top;\n",
       "    }\n",
       "\n",
       "    .dataframe thead th {\n",
       "        text-align: right;\n",
       "    }\n",
       "</style>\n",
       "<table border=\"1\" class=\"dataframe\">\n",
       "  <thead>\n",
       "    <tr style=\"text-align: right;\">\n",
       "      <th></th>\n",
       "      <th>gene0</th>\n",
       "      <th>gene1</th>\n",
       "    </tr>\n",
       "  </thead>\n",
       "  <tbody>\n",
       "    <tr>\n",
       "      <th>0</th>\n",
       "      <td>ENSG00000000419.12</td>\n",
       "      <td>ENSG00000002834.17</td>\n",
       "    </tr>\n",
       "    <tr>\n",
       "      <th>1</th>\n",
       "      <td>ENSG00000000419.12</td>\n",
       "      <td>ENSG00000002919.14</td>\n",
       "    </tr>\n",
       "    <tr>\n",
       "      <th>2</th>\n",
       "      <td>ENSG00000000419.12</td>\n",
       "      <td>ENSG00000002933.7</td>\n",
       "    </tr>\n",
       "    <tr>\n",
       "      <th>3</th>\n",
       "      <td>ENSG00000000419.12</td>\n",
       "      <td>ENSG00000003402.19</td>\n",
       "    </tr>\n",
       "    <tr>\n",
       "      <th>4</th>\n",
       "      <td>ENSG00000000419.12</td>\n",
       "      <td>ENSG00000004478.7</td>\n",
       "    </tr>\n",
       "  </tbody>\n",
       "</table>\n",
       "</div>"
      ],
      "text/plain": [
       "                gene0               gene1\n",
       "0  ENSG00000000419.12  ENSG00000002834.17\n",
       "1  ENSG00000000419.12  ENSG00000002919.14\n",
       "2  ENSG00000000419.12   ENSG00000002933.7\n",
       "3  ENSG00000000419.12  ENSG00000003402.19\n",
       "4  ENSG00000000419.12   ENSG00000004478.7"
      ]
     },
     "execution_count": 11,
     "metadata": {},
     "output_type": "execute_result"
    }
   ],
   "source": [
    "gene_pairs_df.head()"
   ]
  },
  {
   "cell_type": "markdown",
   "id": "b1f5678b-bff5-4dd9-a42a-f37548eb5457",
   "metadata": {
    "papermill": {
     "duration": 0.016592,
     "end_time": "2022-01-27T17:54:10.733052",
     "exception": false,
     "start_time": "2022-01-27T17:54:10.716460",
     "status": "completed"
    },
    "tags": []
   },
   "source": [
    "# Create samples and save"
   ]
  },
  {
   "cell_type": "code",
   "execution_count": 12,
   "id": "f59a0c3e-1c99-4dbd-a687-f8574d9c9b59",
   "metadata": {
    "papermill": {
     "duration": 0.525604,
     "end_time": "2022-01-27T17:54:11.275515",
     "exception": false,
     "start_time": "2022-01-27T17:54:10.749911",
     "status": "completed"
    },
    "tags": []
   },
   "outputs": [
    {
     "data": {
      "text/plain": [
       "'/opt/data/results/gtex_v8/gene_selection/samples/gtex_v8_data_whole_blood-var_pc_log2-all-gene_pairs-sample_0.pkl'"
      ]
     },
     "metadata": {},
     "output_type": "display_data"
    }
   ],
   "source": [
    "for sample_id in range(N_SAMPLES):\n",
    "    data_sample = gene_pairs_df.sample(n=SAMPLE_SIZE, random_state=sample_id)\n",
    "\n",
    "    output_filepath = OUTPUT_FILE_TEMPLATE.format(sample_id=sample_id)\n",
    "    display(output_filepath)\n",
    "\n",
    "    data_sample.to_pickle(output_filepath)"
   ]
  },
  {
   "cell_type": "code",
   "execution_count": 13,
   "id": "36d9dfa4-8ce3-4453-a916-45fcd2a86577",
   "metadata": {
    "papermill": {
     "duration": 0.029283,
     "end_time": "2022-01-27T17:54:11.326427",
     "exception": false,
     "start_time": "2022-01-27T17:54:11.297144",
     "status": "completed"
    },
    "tags": []
   },
   "outputs": [
    {
     "data": {
      "text/plain": [
       "gene0    object\n",
       "gene1    object\n",
       "dtype: object"
      ]
     },
     "metadata": {},
     "output_type": "display_data"
    },
    {
     "data": {
      "text/plain": [
       "(33000, 2)"
      ]
     },
     "metadata": {},
     "output_type": "display_data"
    },
    {
     "data": {
      "text/html": [
       "<div>\n",
       "<style scoped>\n",
       "    .dataframe tbody tr th:only-of-type {\n",
       "        vertical-align: middle;\n",
       "    }\n",
       "\n",
       "    .dataframe tbody tr th {\n",
       "        vertical-align: top;\n",
       "    }\n",
       "\n",
       "    .dataframe thead th {\n",
       "        text-align: right;\n",
       "    }\n",
       "</style>\n",
       "<table border=\"1\" class=\"dataframe\">\n",
       "  <thead>\n",
       "    <tr style=\"text-align: right;\">\n",
       "      <th></th>\n",
       "      <th>gene0</th>\n",
       "      <th>gene1</th>\n",
       "    </tr>\n",
       "  </thead>\n",
       "  <tbody>\n",
       "    <tr>\n",
       "      <th>8548968</th>\n",
       "      <td>ENSG00000181192.11</td>\n",
       "      <td>ENSG00000144579.7</td>\n",
       "    </tr>\n",
       "    <tr>\n",
       "      <th>2585413</th>\n",
       "      <td>ENSG00000111641.11</td>\n",
       "      <td>ENSG00000258476.5</td>\n",
       "    </tr>\n",
       "    <tr>\n",
       "      <th>7848759</th>\n",
       "      <td>ENSG00000172081.13</td>\n",
       "      <td>ENSG00000130429.12</td>\n",
       "    </tr>\n",
       "    <tr>\n",
       "      <th>2095670</th>\n",
       "      <td>ENSG00000105255.10</td>\n",
       "      <td>ENSG00000231721.6</td>\n",
       "    </tr>\n",
       "    <tr>\n",
       "      <th>6038958</th>\n",
       "      <td>ENSG00000153310.19</td>\n",
       "      <td>ENSG00000241657.1</td>\n",
       "    </tr>\n",
       "  </tbody>\n",
       "</table>\n",
       "</div>"
      ],
      "text/plain": [
       "                      gene0               gene1\n",
       "8548968  ENSG00000181192.11   ENSG00000144579.7\n",
       "2585413  ENSG00000111641.11   ENSG00000258476.5\n",
       "7848759  ENSG00000172081.13  ENSG00000130429.12\n",
       "2095670  ENSG00000105255.10   ENSG00000231721.6\n",
       "6038958  ENSG00000153310.19   ENSG00000241657.1"
      ]
     },
     "metadata": {},
     "output_type": "display_data"
    }
   ],
   "source": [
    "display(data_sample.dtypes)\n",
    "display(data_sample.shape)\n",
    "display(data_sample.head())"
   ]
  },
  {
   "cell_type": "code",
   "execution_count": null,
   "id": "a9e7fe69-63d9-4ffd-a0f0-1775d8f4ec4b",
   "metadata": {},
   "outputs": [],
   "source": []
  }
 ],
 "metadata": {
  "jupytext": {
   "cell_metadata_filter": "all,-execution,-papermill,-trusted"
  },
  "kernelspec": {
   "display_name": "Python 3 (ipykernel)",
   "language": "python",
   "name": "python3"
  },
  "language_info": {
   "codemirror_mode": {
    "name": "ipython",
    "version": 3
   },
   "file_extension": ".py",
   "mimetype": "text/x-python",
   "name": "python",
   "nbconvert_exporter": "python",
   "pygments_lexer": "ipython3",
   "version": "3.9.9"
  },
  "papermill": {
   "default_parameters": {},
   "duration": 7.439748,
   "end_time": "2022-01-27T17:54:12.106913",
   "environment_variables": {},
   "exception": null,
   "input_path": "nbs/20_comparison_others/03_02-gtex_whole_blood-sample_all_gene_pairs.ipynb",
   "output_path": "nbs/20_comparison_others/03_02-gtex_whole_blood-sample_all_gene_pairs.run.ipynb",
   "parameters": {},
   "start_time": "2022-01-27T17:54:04.667165",
   "version": "2.3.4"
  },
  "toc-autonumbering": true
 },
 "nbformat": 4,
 "nbformat_minor": 5
}
