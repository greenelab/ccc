{
 "cells": [
  {
   "cell_type": "markdown",
   "id": "87e0ce1b-7ce6-4499-9342-5ded05307598",
   "metadata": {
    "papermill": {
     "duration": 0.046578,
     "end_time": "2022-01-27T16:01:47.479144",
     "exception": false,
     "start_time": "2022-01-27T16:01:47.432566",
     "status": "completed"
    },
    "tags": []
   },
   "source": [
    "# Description"
   ]
  },
  {
   "cell_type": "markdown",
   "id": "55d9546e-222f-4930-8d13-8328d26ea30d",
   "metadata": {
    "papermill": {
     "duration": 0.012357,
     "end_time": "2022-01-27T16:01:47.508201",
     "exception": false,
     "start_time": "2022-01-27T16:01:47.495844",
     "status": "completed"
    },
    "tags": []
   },
   "source": [
    "It samples all the universe of gene pairs within the top genes initially selected (5,000 genes with maximum variance)."
   ]
  },
  {
   "cell_type": "markdown",
   "id": "e020c781-238b-43c2-8cad-2722b8a240e2",
   "metadata": {
    "papermill": {
     "duration": 0.012671,
     "end_time": "2022-01-27T16:01:47.533449",
     "exception": false,
     "start_time": "2022-01-27T16:01:47.520778",
     "status": "completed"
    },
    "tags": []
   },
   "source": [
    "# Modules"
   ]
  },
  {
   "cell_type": "code",
   "execution_count": 1,
   "id": "a819bfbc-5009-4c68-ba8d-37d0979d368f",
   "metadata": {
    "execution": {
     "iopub.execute_input": "2022-01-27T16:01:47.565330Z",
     "iopub.status.busy": "2022-01-27T16:01:47.564870Z",
     "iopub.status.idle": "2022-01-27T16:01:47.798527Z",
     "shell.execute_reply": "2022-01-27T16:01:47.798018Z"
    },
    "papermill": {
     "duration": 0.252698,
     "end_time": "2022-01-27T16:01:47.798644",
     "exception": false,
     "start_time": "2022-01-27T16:01:47.545946",
     "status": "completed"
    },
    "tags": []
   },
   "outputs": [],
   "source": [
    "import pandas as pd\n",
    "import numpy as np\n",
    "\n",
    "from clustermatch import conf"
   ]
  },
  {
   "cell_type": "markdown",
   "id": "b4834387-58ff-468c-b326-85c408bc5feb",
   "metadata": {
    "papermill": {
     "duration": 0.013697,
     "end_time": "2022-01-27T16:01:47.826186",
     "exception": false,
     "start_time": "2022-01-27T16:01:47.812489",
     "status": "completed"
    },
    "tags": []
   },
   "source": [
    "# Settings"
   ]
  },
  {
   "cell_type": "code",
   "execution_count": 2,
   "id": "765e820a-4518-4bbc-a00f-14c9cea03821",
   "metadata": {
    "execution": {
     "iopub.execute_input": "2022-01-27T16:01:47.854681Z",
     "iopub.status.busy": "2022-01-27T16:01:47.854197Z",
     "iopub.status.idle": "2022-01-27T16:01:47.855902Z",
     "shell.execute_reply": "2022-01-27T16:01:47.856256Z"
    },
    "papermill": {
     "duration": 0.01773,
     "end_time": "2022-01-27T16:01:47.856369",
     "exception": false,
     "start_time": "2022-01-27T16:01:47.838639",
     "status": "completed"
    },
    "tags": []
   },
   "outputs": [],
   "source": [
    "DATASET_CONFIG = conf.GTEX\n",
    "GTEX_TISSUE = \"whole_blood\"\n",
    "GENE_SEL_STRATEGY = \"var_pc_log2\""
   ]
  },
  {
   "cell_type": "code",
   "execution_count": 3,
   "id": "85ee3634-e24a-45d1-8209-5e1b7e81d5d0",
   "metadata": {
    "execution": {
     "iopub.execute_input": "2022-01-27T16:01:47.885709Z",
     "iopub.status.busy": "2022-01-27T16:01:47.885266Z",
     "iopub.status.idle": "2022-01-27T16:01:47.886773Z",
     "shell.execute_reply": "2022-01-27T16:01:47.887108Z"
    },
    "papermill": {
     "duration": 0.017533,
     "end_time": "2022-01-27T16:01:47.887224",
     "exception": false,
     "start_time": "2022-01-27T16:01:47.869691",
     "status": "completed"
    },
    "tags": []
   },
   "outputs": [],
   "source": [
    "# amount of gene pairs to sample\n",
    "SAMPLE_SIZE = 33000\n",
    "\n",
    "# number of samples to take\n",
    "N_SAMPLES = 10"
   ]
  },
  {
   "cell_type": "markdown",
   "id": "a1159982-5dd1-4494-97d4-0674eeead1c3",
   "metadata": {
    "papermill": {
     "duration": 0.012563,
     "end_time": "2022-01-27T16:01:47.913095",
     "exception": false,
     "start_time": "2022-01-27T16:01:47.900532",
     "status": "completed"
    },
    "tags": []
   },
   "source": [
    "# Paths"
   ]
  },
  {
   "cell_type": "code",
   "execution_count": 4,
   "id": "30cce6f5-ca1b-438c-859d-31903a42d4c6",
   "metadata": {
    "execution": {
     "iopub.execute_input": "2022-01-27T16:01:47.946079Z",
     "iopub.status.busy": "2022-01-27T16:01:47.945497Z",
     "iopub.status.idle": "2022-01-27T16:01:47.949679Z",
     "shell.execute_reply": "2022-01-27T16:01:47.949226Z"
    },
    "papermill": {
     "duration": 0.023913,
     "end_time": "2022-01-27T16:01:47.949774",
     "exception": false,
     "start_time": "2022-01-27T16:01:47.925861",
     "status": "completed"
    },
    "tags": []
   },
   "outputs": [
    {
     "data": {
      "text/plain": [
       "PosixPath('/opt/data/results/gtex_v8/gene_selection/gtex_v8_data_whole_blood-var_pc_log2.pkl')"
      ]
     },
     "metadata": {},
     "output_type": "display_data"
    }
   ],
   "source": [
    "INPUT_FILE = (\n",
    "    DATASET_CONFIG[\"GENE_SELECTION_DIR\"]\n",
    "    / f\"gtex_v8_data_{GTEX_TISSUE}-{GENE_SEL_STRATEGY}.pkl\"\n",
    ")\n",
    "display(INPUT_FILE)\n",
    "\n",
    "assert INPUT_FILE.exists()"
   ]
  },
  {
   "cell_type": "code",
   "execution_count": 5,
   "id": "93d7c4e1-1ca5-41a4-8fe7-c13ccd5f298e",
   "metadata": {
    "execution": {
     "iopub.execute_input": "2022-01-27T16:01:47.981087Z",
     "iopub.status.busy": "2022-01-27T16:01:47.979997Z",
     "iopub.status.idle": "2022-01-27T16:01:47.983489Z",
     "shell.execute_reply": "2022-01-27T16:01:47.983830Z"
    },
    "papermill": {
     "duration": 0.020187,
     "end_time": "2022-01-27T16:01:47.983954",
     "exception": false,
     "start_time": "2022-01-27T16:01:47.963767",
     "status": "completed"
    },
    "tags": []
   },
   "outputs": [
    {
     "data": {
      "text/plain": [
       "PosixPath('/opt/data/results/gtex_v8/gene_selection/samples')"
      ]
     },
     "metadata": {},
     "output_type": "display_data"
    }
   ],
   "source": [
    "OUTPUT_DIR = INPUT_FILE.parent / \"samples\"\n",
    "OUTPUT_DIR.mkdir(parents=True, exist_ok=True)\n",
    "display(OUTPUT_DIR)"
   ]
  },
  {
   "cell_type": "code",
   "execution_count": 6,
   "id": "f4468c0e-c0ad-4bf5-b120-3f63e7afc33f",
   "metadata": {
    "execution": {
     "iopub.execute_input": "2022-01-27T16:01:48.015754Z",
     "iopub.status.busy": "2022-01-27T16:01:48.015181Z",
     "iopub.status.idle": "2022-01-27T16:01:48.017861Z",
     "shell.execute_reply": "2022-01-27T16:01:48.017327Z"
    },
    "papermill": {
     "duration": 0.019876,
     "end_time": "2022-01-27T16:01:48.017957",
     "exception": false,
     "start_time": "2022-01-27T16:01:47.998081",
     "status": "completed"
    },
    "tags": []
   },
   "outputs": [
    {
     "data": {
      "text/plain": [
       "'/opt/data/results/gtex_v8/gene_selection/samples/gtex_v8_data_whole_blood-var_pc_log2-gene_pairs-sample_{sample_id}.pkl'"
      ]
     },
     "metadata": {},
     "output_type": "display_data"
    }
   ],
   "source": [
    "OUTPUT_FILE_TEMPLATE = str(\n",
    "    OUTPUT_DIR / (f\"{INPUT_FILE.stem}-gene_pairs-sample_\" + \"{sample_id}\" + \".pkl\")\n",
    ")\n",
    "\n",
    "display(OUTPUT_FILE_TEMPLATE)"
   ]
  },
  {
   "cell_type": "markdown",
   "id": "f6d3322b-c8bb-4fc2-97b6-5bb1793b1577",
   "metadata": {
    "papermill": {
     "duration": 0.014079,
     "end_time": "2022-01-27T16:01:48.046984",
     "exception": false,
     "start_time": "2022-01-27T16:01:48.032905",
     "status": "completed"
    },
    "tags": []
   },
   "source": [
    "# Data"
   ]
  },
  {
   "cell_type": "markdown",
   "id": "b030f506-2fe9-4895-a8a1-51374e88c496",
   "metadata": {
    "papermill": {
     "duration": 0.014053,
     "end_time": "2022-01-27T16:01:48.075889",
     "exception": false,
     "start_time": "2022-01-27T16:01:48.061836",
     "status": "completed"
    },
    "tags": []
   },
   "source": [
    "## Genes IDs universe"
   ]
  },
  {
   "cell_type": "code",
   "execution_count": 7,
   "id": "da1d768a-fbfb-40e8-8fbb-790d1a94aa83",
   "metadata": {
    "execution": {
     "iopub.execute_input": "2022-01-27T16:01:48.107978Z",
     "iopub.status.busy": "2022-01-27T16:01:48.107449Z",
     "iopub.status.idle": "2022-01-27T16:01:48.123153Z",
     "shell.execute_reply": "2022-01-27T16:01:48.122678Z"
    },
    "papermill": {
     "duration": 0.033218,
     "end_time": "2022-01-27T16:01:48.123255",
     "exception": false,
     "start_time": "2022-01-27T16:01:48.090037",
     "status": "completed"
    },
    "tags": []
   },
   "outputs": [],
   "source": [
    "genes_ids = pd.read_pickle(INPUT_FILE).index.tolist()"
   ]
  },
  {
   "cell_type": "code",
   "execution_count": 8,
   "id": "b028abd8-c5b1-48c2-aa5e-cb1b49c943a4",
   "metadata": {
    "execution": {
     "iopub.execute_input": "2022-01-27T16:01:48.156614Z",
     "iopub.status.busy": "2022-01-27T16:01:48.156085Z",
     "iopub.status.idle": "2022-01-27T16:01:48.158702Z",
     "shell.execute_reply": "2022-01-27T16:01:48.158241Z"
    },
    "papermill": {
     "duration": 0.020526,
     "end_time": "2022-01-27T16:01:48.158799",
     "exception": false,
     "start_time": "2022-01-27T16:01:48.138273",
     "status": "completed"
    },
    "tags": []
   },
   "outputs": [
    {
     "data": {
      "text/plain": [
       "5000"
      ]
     },
     "execution_count": 8,
     "metadata": {},
     "output_type": "execute_result"
    }
   ],
   "source": [
    "len(genes_ids)"
   ]
  },
  {
   "cell_type": "code",
   "execution_count": 9,
   "id": "a65213ac-0620-41ef-9b14-469b51eea2b1",
   "metadata": {
    "execution": {
     "iopub.execute_input": "2022-01-27T16:01:48.192777Z",
     "iopub.status.busy": "2022-01-27T16:01:48.192213Z",
     "iopub.status.idle": "2022-01-27T16:01:48.195195Z",
     "shell.execute_reply": "2022-01-27T16:01:48.194748Z"
    },
    "papermill": {
     "duration": 0.021157,
     "end_time": "2022-01-27T16:01:48.195289",
     "exception": false,
     "start_time": "2022-01-27T16:01:48.174132",
     "status": "completed"
    },
    "tags": []
   },
   "outputs": [
    {
     "data": {
      "text/plain": [
       "['ENSG00000169429.10',\n",
       " 'ENSG00000135245.9',\n",
       " 'ENSG00000163631.16',\n",
       " 'ENSG00000277632.1',\n",
       " 'ENSG00000239839.6',\n",
       " 'ENSG00000186652.9',\n",
       " 'ENSG00000129824.15',\n",
       " 'ENSG00000152463.14',\n",
       " 'ENSG00000123689.5',\n",
       " 'ENSG00000012223.12']"
      ]
     },
     "execution_count": 9,
     "metadata": {},
     "output_type": "execute_result"
    }
   ],
   "source": [
    "genes_ids[:10]"
   ]
  },
  {
   "cell_type": "markdown",
   "id": "9e1b78f3-8f43-411a-acb7-4646b4979034",
   "metadata": {
    "papermill": {
     "duration": 0.014883,
     "end_time": "2022-01-27T16:01:48.225585",
     "exception": false,
     "start_time": "2022-01-27T16:01:48.210702",
     "status": "completed"
    },
    "tags": []
   },
   "source": [
    "# Create list of gene pairs"
   ]
  },
  {
   "cell_type": "code",
   "execution_count": 10,
   "id": "d0129edc-00bd-48f6-a203-ee678417865e",
   "metadata": {
    "execution": {
     "iopub.execute_input": "2022-01-27T16:01:48.264863Z",
     "iopub.status.busy": "2022-01-27T16:01:48.264236Z",
     "iopub.status.idle": "2022-01-27T16:01:52.117435Z",
     "shell.execute_reply": "2022-01-27T16:01:52.116984Z"
    },
    "papermill": {
     "duration": 3.876973,
     "end_time": "2022-01-27T16:01:52.117531",
     "exception": false,
     "start_time": "2022-01-27T16:01:48.240558",
     "status": "completed"
    },
    "tags": []
   },
   "outputs": [],
   "source": [
    "gene_pairs = []\n",
    "\n",
    "for i in range(len(genes_ids) - 1):\n",
    "    for j in range(i + 1, len(genes_ids)):\n",
    "        gene_pairs.append((genes_ids[i], genes_ids[j]))\n",
    "\n",
    "gene_pairs_df = pd.DataFrame(data=gene_pairs, columns=[\"gene0\", \"gene1\"])"
   ]
  },
  {
   "cell_type": "code",
   "execution_count": 11,
   "id": "a192148a-30b5-4145-9003-953fd815bd8b",
   "metadata": {
    "execution": {
     "iopub.execute_input": "2022-01-27T16:01:52.152049Z",
     "iopub.status.busy": "2022-01-27T16:01:52.151481Z",
     "iopub.status.idle": "2022-01-27T16:01:52.154440Z",
     "shell.execute_reply": "2022-01-27T16:01:52.153940Z"
    },
    "papermill": {
     "duration": 0.021904,
     "end_time": "2022-01-27T16:01:52.154535",
     "exception": false,
     "start_time": "2022-01-27T16:01:52.132631",
     "status": "completed"
    },
    "tags": []
   },
   "outputs": [
    {
     "data": {
      "text/plain": [
       "(12497500, 2)"
      ]
     },
     "metadata": {},
     "output_type": "display_data"
    }
   ],
   "source": [
    "assert gene_pairs_df.shape[0] == len(genes_ids) * (len(genes_ids) - 1) / 2\n",
    "display(gene_pairs_df.shape)"
   ]
  },
  {
   "cell_type": "code",
   "execution_count": 12,
   "id": "5fbaa943-857e-4391-ae52-fa75a51dc682",
   "metadata": {
    "execution": {
     "iopub.execute_input": "2022-01-27T16:01:52.190335Z",
     "iopub.status.busy": "2022-01-27T16:01:52.189848Z",
     "iopub.status.idle": "2022-01-27T16:01:52.191913Z",
     "shell.execute_reply": "2022-01-27T16:01:52.192260Z"
    },
    "papermill": {
     "duration": 0.021979,
     "end_time": "2022-01-27T16:01:52.192381",
     "exception": false,
     "start_time": "2022-01-27T16:01:52.170402",
     "status": "completed"
    },
    "tags": []
   },
   "outputs": [
    {
     "data": {
      "text/plain": [
       "(12497500, 2)"
      ]
     },
     "execution_count": 12,
     "metadata": {},
     "output_type": "execute_result"
    }
   ],
   "source": [
    "gene_pairs_df.shape"
   ]
  },
  {
   "cell_type": "code",
   "execution_count": 13,
   "id": "e3a6f3b2-0db2-4397-b5f1-54468e917b87",
   "metadata": {
    "execution": {
     "iopub.execute_input": "2022-01-27T16:01:52.228741Z",
     "iopub.status.busy": "2022-01-27T16:01:52.228282Z",
     "iopub.status.idle": "2022-01-27T16:01:52.234230Z",
     "shell.execute_reply": "2022-01-27T16:01:52.233780Z"
    },
    "papermill": {
     "duration": 0.025378,
     "end_time": "2022-01-27T16:01:52.234326",
     "exception": false,
     "start_time": "2022-01-27T16:01:52.208948",
     "status": "completed"
    },
    "tags": []
   },
   "outputs": [
    {
     "data": {
      "text/html": [
       "<div>\n",
       "<style scoped>\n",
       "    .dataframe tbody tr th:only-of-type {\n",
       "        vertical-align: middle;\n",
       "    }\n",
       "\n",
       "    .dataframe tbody tr th {\n",
       "        vertical-align: top;\n",
       "    }\n",
       "\n",
       "    .dataframe thead th {\n",
       "        text-align: right;\n",
       "    }\n",
       "</style>\n",
       "<table border=\"1\" class=\"dataframe\">\n",
       "  <thead>\n",
       "    <tr style=\"text-align: right;\">\n",
       "      <th></th>\n",
       "      <th>gene0</th>\n",
       "      <th>gene1</th>\n",
       "    </tr>\n",
       "  </thead>\n",
       "  <tbody>\n",
       "    <tr>\n",
       "      <th>0</th>\n",
       "      <td>ENSG00000169429.10</td>\n",
       "      <td>ENSG00000135245.9</td>\n",
       "    </tr>\n",
       "    <tr>\n",
       "      <th>1</th>\n",
       "      <td>ENSG00000169429.10</td>\n",
       "      <td>ENSG00000163631.16</td>\n",
       "    </tr>\n",
       "    <tr>\n",
       "      <th>2</th>\n",
       "      <td>ENSG00000169429.10</td>\n",
       "      <td>ENSG00000277632.1</td>\n",
       "    </tr>\n",
       "    <tr>\n",
       "      <th>3</th>\n",
       "      <td>ENSG00000169429.10</td>\n",
       "      <td>ENSG00000239839.6</td>\n",
       "    </tr>\n",
       "    <tr>\n",
       "      <th>4</th>\n",
       "      <td>ENSG00000169429.10</td>\n",
       "      <td>ENSG00000186652.9</td>\n",
       "    </tr>\n",
       "  </tbody>\n",
       "</table>\n",
       "</div>"
      ],
      "text/plain": [
       "                gene0               gene1\n",
       "0  ENSG00000169429.10   ENSG00000135245.9\n",
       "1  ENSG00000169429.10  ENSG00000163631.16\n",
       "2  ENSG00000169429.10   ENSG00000277632.1\n",
       "3  ENSG00000169429.10   ENSG00000239839.6\n",
       "4  ENSG00000169429.10   ENSG00000186652.9"
      ]
     },
     "execution_count": 13,
     "metadata": {},
     "output_type": "execute_result"
    }
   ],
   "source": [
    "gene_pairs_df.head()"
   ]
  },
  {
   "cell_type": "markdown",
   "id": "b1f5678b-bff5-4dd9-a42a-f37548eb5457",
   "metadata": {
    "papermill": {
     "duration": 0.016449,
     "end_time": "2022-01-27T16:01:52.267797",
     "exception": false,
     "start_time": "2022-01-27T16:01:52.251348",
     "status": "completed"
    },
    "tags": []
   },
   "source": [
    "# Create samples and save"
   ]
  },
  {
   "cell_type": "code",
   "execution_count": 14,
   "id": "f59a0c3e-1c99-4dbd-a687-f8574d9c9b59",
   "metadata": {
    "execution": {
     "iopub.execute_input": "2022-01-27T16:01:52.311852Z",
     "iopub.status.busy": "2022-01-27T16:01:52.311235Z",
     "iopub.status.idle": "2022-01-27T16:01:57.259609Z",
     "shell.execute_reply": "2022-01-27T16:01:57.260059Z"
    },
    "papermill": {
     "duration": 4.972457,
     "end_time": "2022-01-27T16:01:57.260211",
     "exception": false,
     "start_time": "2022-01-27T16:01:52.287754",
     "status": "completed"
    },
    "tags": []
   },
   "outputs": [
    {
     "data": {
      "text/plain": [
       "'/opt/data/results/gtex_v8/gene_selection/samples/gtex_v8_data_whole_blood-var_pc_log2-gene_pairs-sample_0.pkl'"
      ]
     },
     "metadata": {},
     "output_type": "display_data"
    },
    {
     "data": {
      "text/plain": [
       "'/opt/data/results/gtex_v8/gene_selection/samples/gtex_v8_data_whole_blood-var_pc_log2-gene_pairs-sample_1.pkl'"
      ]
     },
     "metadata": {},
     "output_type": "display_data"
    },
    {
     "data": {
      "text/plain": [
       "'/opt/data/results/gtex_v8/gene_selection/samples/gtex_v8_data_whole_blood-var_pc_log2-gene_pairs-sample_2.pkl'"
      ]
     },
     "metadata": {},
     "output_type": "display_data"
    },
    {
     "data": {
      "text/plain": [
       "'/opt/data/results/gtex_v8/gene_selection/samples/gtex_v8_data_whole_blood-var_pc_log2-gene_pairs-sample_3.pkl'"
      ]
     },
     "metadata": {},
     "output_type": "display_data"
    },
    {
     "data": {
      "text/plain": [
       "'/opt/data/results/gtex_v8/gene_selection/samples/gtex_v8_data_whole_blood-var_pc_log2-gene_pairs-sample_4.pkl'"
      ]
     },
     "metadata": {},
     "output_type": "display_data"
    },
    {
     "data": {
      "text/plain": [
       "'/opt/data/results/gtex_v8/gene_selection/samples/gtex_v8_data_whole_blood-var_pc_log2-gene_pairs-sample_5.pkl'"
      ]
     },
     "metadata": {},
     "output_type": "display_data"
    },
    {
     "data": {
      "text/plain": [
       "'/opt/data/results/gtex_v8/gene_selection/samples/gtex_v8_data_whole_blood-var_pc_log2-gene_pairs-sample_6.pkl'"
      ]
     },
     "metadata": {},
     "output_type": "display_data"
    },
    {
     "data": {
      "text/plain": [
       "'/opt/data/results/gtex_v8/gene_selection/samples/gtex_v8_data_whole_blood-var_pc_log2-gene_pairs-sample_7.pkl'"
      ]
     },
     "metadata": {},
     "output_type": "display_data"
    },
    {
     "data": {
      "text/plain": [
       "'/opt/data/results/gtex_v8/gene_selection/samples/gtex_v8_data_whole_blood-var_pc_log2-gene_pairs-sample_8.pkl'"
      ]
     },
     "metadata": {},
     "output_type": "display_data"
    },
    {
     "data": {
      "text/plain": [
       "'/opt/data/results/gtex_v8/gene_selection/samples/gtex_v8_data_whole_blood-var_pc_log2-gene_pairs-sample_9.pkl'"
      ]
     },
     "metadata": {},
     "output_type": "display_data"
    }
   ],
   "source": [
    "for sample_id in range(N_SAMPLES):\n",
    "    data_sample = gene_pairs_df.sample(n=SAMPLE_SIZE, random_state=sample_id)\n",
    "\n",
    "    output_filepath = OUTPUT_FILE_TEMPLATE.format(sample_id=sample_id)\n",
    "    display(output_filepath)\n",
    "\n",
    "    data_sample.to_pickle(output_filepath)"
   ]
  },
  {
   "cell_type": "code",
   "execution_count": 15,
   "id": "36d9dfa4-8ce3-4453-a916-45fcd2a86577",
   "metadata": {
    "execution": {
     "iopub.execute_input": "2022-01-27T16:01:57.316951Z",
     "iopub.status.busy": "2022-01-27T16:01:57.316363Z",
     "iopub.status.idle": "2022-01-27T16:01:57.324589Z",
     "shell.execute_reply": "2022-01-27T16:01:57.324006Z"
    },
    "papermill": {
     "duration": 0.039033,
     "end_time": "2022-01-27T16:01:57.324713",
     "exception": false,
     "start_time": "2022-01-27T16:01:57.285680",
     "status": "completed"
    },
    "tags": []
   },
   "outputs": [
    {
     "data": {
      "text/plain": [
       "gene0    object\n",
       "gene1    object\n",
       "dtype: object"
      ]
     },
     "metadata": {},
     "output_type": "display_data"
    },
    {
     "data": {
      "text/plain": [
       "(33000, 2)"
      ]
     },
     "metadata": {},
     "output_type": "display_data"
    },
    {
     "data": {
      "text/html": [
       "<div>\n",
       "<style scoped>\n",
       "    .dataframe tbody tr th:only-of-type {\n",
       "        vertical-align: middle;\n",
       "    }\n",
       "\n",
       "    .dataframe tbody tr th {\n",
       "        vertical-align: top;\n",
       "    }\n",
       "\n",
       "    .dataframe thead th {\n",
       "        text-align: right;\n",
       "    }\n",
       "</style>\n",
       "<table border=\"1\" class=\"dataframe\">\n",
       "  <thead>\n",
       "    <tr style=\"text-align: right;\">\n",
       "      <th></th>\n",
       "      <th>gene0</th>\n",
       "      <th>gene1</th>\n",
       "    </tr>\n",
       "  </thead>\n",
       "  <tbody>\n",
       "    <tr>\n",
       "      <th>4084905</th>\n",
       "      <td>ENSG00000197728.9</td>\n",
       "      <td>ENSG00000260314.2</td>\n",
       "    </tr>\n",
       "    <tr>\n",
       "      <th>7653584</th>\n",
       "      <td>ENSG00000100221.10</td>\n",
       "      <td>ENSG00000014919.12</td>\n",
       "    </tr>\n",
       "    <tr>\n",
       "      <th>2801836</th>\n",
       "      <td>ENSG00000211655.3</td>\n",
       "      <td>ENSG00000189403.14</td>\n",
       "    </tr>\n",
       "    <tr>\n",
       "      <th>506283</th>\n",
       "      <td>ENSG00000167434.9</td>\n",
       "      <td>ENSG00000204472.12</td>\n",
       "    </tr>\n",
       "    <tr>\n",
       "      <th>1491729</th>\n",
       "      <td>ENSG00000211652.2</td>\n",
       "      <td>ENSG00000079246.15</td>\n",
       "    </tr>\n",
       "  </tbody>\n",
       "</table>\n",
       "</div>"
      ],
      "text/plain": [
       "                      gene0               gene1\n",
       "4084905   ENSG00000197728.9   ENSG00000260314.2\n",
       "7653584  ENSG00000100221.10  ENSG00000014919.12\n",
       "2801836   ENSG00000211655.3  ENSG00000189403.14\n",
       "506283    ENSG00000167434.9  ENSG00000204472.12\n",
       "1491729   ENSG00000211652.2  ENSG00000079246.15"
      ]
     },
     "metadata": {},
     "output_type": "display_data"
    }
   ],
   "source": [
    "display(data_sample.dtypes)\n",
    "display(data_sample.shape)\n",
    "display(data_sample.head())"
   ]
  },
  {
   "cell_type": "code",
   "execution_count": null,
   "id": "c9dd8caa-cb9e-4422-8f85-d918cb71afdf",
   "metadata": {
    "papermill": {
     "duration": 0.021156,
     "end_time": "2022-01-27T16:01:57.371051",
     "exception": false,
     "start_time": "2022-01-27T16:01:57.349895",
     "status": "completed"
    },
    "tags": []
   },
   "outputs": [],
   "source": []
  }
 ],
 "metadata": {
  "jupytext": {
   "cell_metadata_filter": "all,-execution,-papermill,-trusted"
  },
  "kernelspec": {
   "display_name": "Python 3 (ipykernel)",
   "language": "python",
   "name": "python3"
  },
  "language_info": {
   "codemirror_mode": {
    "name": "ipython",
    "version": 3
   },
   "file_extension": ".py",
   "mimetype": "text/x-python",
   "name": "python",
   "nbconvert_exporter": "python",
   "pygments_lexer": "ipython3",
   "version": "3.9.9"
  },
  "papermill": {
   "default_parameters": {},
   "duration": 11.902584,
   "end_time": "2022-01-27T16:01:58.113101",
   "environment_variables": {},
   "exception": null,
   "input_path": "nbs/20_comparison_others/03_02-gtex_whole_blood-sample_all_gene_pairs.ipynb",
   "output_path": "nbs/20_comparison_others/03_02-gtex_whole_blood-sample_all_gene_pairs.run.ipynb",
   "parameters": {},
   "start_time": "2022-01-27T16:01:46.210517",
   "version": "2.3.4"
  },
  "toc-autonumbering": true
 },
 "nbformat": 4,
 "nbformat_minor": 5
}
