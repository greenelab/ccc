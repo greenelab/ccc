{
 "cells": [
  {
   "cell_type": "markdown",
   "id": "87e0ce1b-7ce6-4499-9342-5ded05307598",
   "metadata": {
    "papermill": {
     "duration": 0.057534,
     "end_time": "2022-01-25T21:51:45.385528",
     "exception": false,
     "start_time": "2022-01-25T21:51:45.327994",
     "status": "completed"
    },
    "tags": []
   },
   "source": [
    "# Description"
   ]
  },
  {
   "cell_type": "markdown",
   "id": "55d9546e-222f-4930-8d13-8328d26ea30d",
   "metadata": {
    "papermill": {
     "duration": 0.020766,
     "end_time": "2022-01-25T21:51:45.427318",
     "exception": false,
     "start_time": "2022-01-25T21:51:45.406552",
     "status": "completed"
    },
    "tags": []
   },
   "source": [
    "It samples all the universe of gene pairs within the top genes initially selected (5,000 genes with maximum variance)."
   ]
  },
  {
   "cell_type": "markdown",
   "id": "e020c781-238b-43c2-8cad-2722b8a240e2",
   "metadata": {
    "papermill": {
     "duration": 0.019942,
     "end_time": "2022-01-25T21:51:45.467414",
     "exception": false,
     "start_time": "2022-01-25T21:51:45.447472",
     "status": "completed"
    },
    "tags": []
   },
   "source": [
    "# Modules"
   ]
  },
  {
   "cell_type": "code",
   "execution_count": null,
   "id": "a819bfbc-5009-4c68-ba8d-37d0979d368f",
   "metadata": {
    "papermill": {
     "duration": 0.259205,
     "end_time": "2022-01-25T21:51:45.748310",
     "exception": false,
     "start_time": "2022-01-25T21:51:45.489105",
     "status": "completed"
    },
    "tags": []
   },
   "outputs": [],
   "source": [
    "import pandas as pd\n",
    "import numpy as np\n",
    "\n",
    "from clustermatch import conf"
   ]
  },
  {
   "cell_type": "markdown",
   "id": "b4834387-58ff-468c-b326-85c408bc5feb",
   "metadata": {
    "papermill": {
     "duration": 0.020033,
     "end_time": "2022-01-25T21:51:45.789808",
     "exception": false,
     "start_time": "2022-01-25T21:51:45.769775",
     "status": "completed"
    },
    "tags": []
   },
   "source": [
    "# Settings"
   ]
  },
  {
   "cell_type": "code",
   "execution_count": null,
   "id": "765e820a-4518-4bbc-a00f-14c9cea03821",
   "metadata": {
    "papermill": {
     "duration": 0.025254,
     "end_time": "2022-01-25T21:51:45.835138",
     "exception": false,
     "start_time": "2022-01-25T21:51:45.809884",
     "status": "completed"
    },
    "tags": []
   },
   "outputs": [],
   "source": [
    "DATASET_CONFIG = conf.GTEX\n",
    "GTEX_TISSUE = \"whole_blood\"\n",
    "GENE_SEL_STRATEGY = \"var_pc_log2\""
   ]
  },
  {
   "cell_type": "code",
   "execution_count": null,
   "id": "85ee3634-e24a-45d1-8209-5e1b7e81d5d0",
   "metadata": {
    "papermill": {
     "duration": 0.025907,
     "end_time": "2022-01-25T21:51:45.882279",
     "exception": false,
     "start_time": "2022-01-25T21:51:45.856372",
     "status": "completed"
    },
    "tags": []
   },
   "outputs": [],
   "source": [
    "# amount of gene pairs to sample\n",
    "SAMPLE_SIZE = 10000\n",
    "\n",
    "# number of samples to take\n",
    "N_SAMPLES = 10"
   ]
  },
  {
   "cell_type": "markdown",
   "id": "a1159982-5dd1-4494-97d4-0674eeead1c3",
   "metadata": {
    "papermill": {
     "duration": 0.020787,
     "end_time": "2022-01-25T21:51:45.924423",
     "exception": false,
     "start_time": "2022-01-25T21:51:45.903636",
     "status": "completed"
    },
    "tags": []
   },
   "source": [
    "# Paths"
   ]
  },
  {
   "cell_type": "code",
   "execution_count": null,
   "id": "30cce6f5-ca1b-438c-859d-31903a42d4c6",
   "metadata": {
    "papermill": {
     "duration": 0.032313,
     "end_time": "2022-01-25T21:51:45.977677",
     "exception": false,
     "start_time": "2022-01-25T21:51:45.945364",
     "status": "completed"
    },
    "tags": []
   },
   "outputs": [],
   "source": [
    "INPUT_FILE = (\n",
    "    DATASET_CONFIG[\"GENE_SELECTION_DIR\"]\n",
    "    / f\"gtex_v8_data_{GTEX_TISSUE}-{GENE_SEL_STRATEGY}.pkl\"\n",
    ")\n",
    "display(INPUT_FILE)\n",
    "\n",
    "assert INPUT_FILE.exists()"
   ]
  },
  {
   "cell_type": "code",
   "execution_count": null,
   "id": "93d7c4e1-1ca5-41a4-8fe7-c13ccd5f298e",
   "metadata": {
    "papermill": {
     "duration": 0.032313,
     "end_time": "2022-01-25T21:51:45.977677",
     "exception": false,
     "start_time": "2022-01-25T21:51:45.945364",
     "status": "completed"
    },
    "tags": []
   },
   "outputs": [],
   "source": [
    "OUTPUT_DIR = INPUT_FILE.parent / \"samples\"\n",
    "OUTPUT_DIR.mkdir(parents=True, exist_ok=True)\n",
    "display(OUTPUT_DIR)"
   ]
  },
  {
   "cell_type": "code",
   "execution_count": null,
   "id": "f4468c0e-c0ad-4bf5-b120-3f63e7afc33f",
   "metadata": {
    "papermill": {
     "duration": 0.027327,
     "end_time": "2022-01-25T21:51:46.026725",
     "exception": false,
     "start_time": "2022-01-25T21:51:45.999398",
     "status": "completed"
    },
    "tags": []
   },
   "outputs": [],
   "source": [
    "OUTPUT_FILE_TEMPLATE = str(\n",
    "    OUTPUT_DIR / (f\"{INPUT_FILE.stem}-gene_pairs-sample_\" + \"{sample_id}\" + \".pkl\")\n",
    ")\n",
    "\n",
    "display(OUTPUT_FILE_TEMPLATE)"
   ]
  },
  {
   "cell_type": "markdown",
   "id": "f6d3322b-c8bb-4fc2-97b6-5bb1793b1577",
   "metadata": {
    "papermill": {
     "duration": 0.021543,
     "end_time": "2022-01-25T21:51:46.070255",
     "exception": false,
     "start_time": "2022-01-25T21:51:46.048712",
     "status": "completed"
    },
    "tags": []
   },
   "source": [
    "# Data"
   ]
  },
  {
   "cell_type": "markdown",
   "id": "b030f506-2fe9-4895-a8a1-51374e88c496",
   "metadata": {
    "papermill": {
     "duration": 0.021278,
     "end_time": "2022-01-25T21:51:46.112756",
     "exception": false,
     "start_time": "2022-01-25T21:51:46.091478",
     "status": "completed"
    },
    "tags": []
   },
   "source": [
    "## Genes IDs universe"
   ]
  },
  {
   "cell_type": "code",
   "execution_count": null,
   "id": "da1d768a-fbfb-40e8-8fbb-790d1a94aa83",
   "metadata": {
    "papermill": {
     "duration": 0.257069,
     "end_time": "2022-01-25T21:51:46.391539",
     "exception": false,
     "start_time": "2022-01-25T21:51:46.134470",
     "status": "completed"
    },
    "tags": []
   },
   "outputs": [],
   "source": [
    "genes_ids = pd.read_pickle(INPUT_FILE).index.tolist()"
   ]
  },
  {
   "cell_type": "code",
   "execution_count": null,
   "id": "b028abd8-c5b1-48c2-aa5e-cb1b49c943a4",
   "metadata": {
    "papermill": {
     "duration": 0.036211,
     "end_time": "2022-01-25T21:51:46.500718",
     "exception": false,
     "start_time": "2022-01-25T21:51:46.464507",
     "status": "completed"
    },
    "tags": []
   },
   "outputs": [],
   "source": [
    "len(genes_ids)"
   ]
  },
  {
   "cell_type": "code",
   "execution_count": null,
   "id": "a65213ac-0620-41ef-9b14-469b51eea2b1",
   "metadata": {
    "papermill": {
     "duration": 0.036211,
     "end_time": "2022-01-25T21:51:46.500718",
     "exception": false,
     "start_time": "2022-01-25T21:51:46.464507",
     "status": "completed"
    },
    "tags": []
   },
   "outputs": [],
   "source": [
    "genes_ids[:10]"
   ]
  },
  {
   "cell_type": "markdown",
   "id": "9e1b78f3-8f43-411a-acb7-4646b4979034",
   "metadata": {
    "papermill": {
     "duration": 0.026458,
     "end_time": "2022-01-25T21:52:01.006275",
     "exception": false,
     "start_time": "2022-01-25T21:52:00.979817",
     "status": "completed"
    },
    "tags": []
   },
   "source": [
    "# Create list of gene pairs"
   ]
  },
  {
   "cell_type": "code",
   "execution_count": null,
   "id": "d0129edc-00bd-48f6-a203-ee678417865e",
   "metadata": {},
   "outputs": [],
   "source": [
    "gene_pairs = []\n",
    "\n",
    "for i in range(len(genes_ids) - 1):\n",
    "    for j in range(i + 1, len(genes_ids)):\n",
    "        gene_pairs.append((genes_ids[i], genes_ids[j]))\n",
    "\n",
    "gene_pairs_df = pd.DataFrame(data=gene_pairs, columns=[\"gene0\", \"gene1\"])"
   ]
  },
  {
   "cell_type": "code",
   "execution_count": null,
   "id": "a192148a-30b5-4145-9003-953fd815bd8b",
   "metadata": {},
   "outputs": [],
   "source": [
    "assert gene_pairs_df.shape[0] == len(genes_ids) * (len(genes_ids) - 1) / 2\n",
    "display(gene_pairs_df.shape)"
   ]
  },
  {
   "cell_type": "code",
   "execution_count": null,
   "id": "5fbaa943-857e-4391-ae52-fa75a51dc682",
   "metadata": {},
   "outputs": [],
   "source": [
    "gene_pairs_df.shape"
   ]
  },
  {
   "cell_type": "code",
   "execution_count": null,
   "id": "e3a6f3b2-0db2-4397-b5f1-54468e917b87",
   "metadata": {},
   "outputs": [],
   "source": [
    "gene_pairs_df.head()"
   ]
  },
  {
   "cell_type": "markdown",
   "id": "b1f5678b-bff5-4dd9-a42a-f37548eb5457",
   "metadata": {
    "papermill": {
     "duration": 0.026458,
     "end_time": "2022-01-25T21:52:01.006275",
     "exception": false,
     "start_time": "2022-01-25T21:52:00.979817",
     "status": "completed"
    },
    "tags": []
   },
   "source": [
    "# Create samples and save"
   ]
  },
  {
   "cell_type": "code",
   "execution_count": null,
   "id": "f59a0c3e-1c99-4dbd-a687-f8574d9c9b59",
   "metadata": {},
   "outputs": [],
   "source": [
    "for sample_id in range(N_SAMPLES):\n",
    "    data_sample = gene_pairs_df.sample(n=SAMPLE_SIZE, random_state=sample_id)\n",
    "\n",
    "    output_filepath = OUTPUT_FILE_TEMPLATE.format(sample_id=sample_id)\n",
    "    display(output_filepath)\n",
    "\n",
    "    data_sample.to_pickle(output_filepath)"
   ]
  },
  {
   "cell_type": "code",
   "execution_count": null,
   "id": "36d9dfa4-8ce3-4453-a916-45fcd2a86577",
   "metadata": {
    "papermill": {
     "duration": 0.028947,
     "end_time": "2022-01-25T21:52:01.185433",
     "exception": false,
     "start_time": "2022-01-25T21:52:01.156486",
     "status": "completed"
    },
    "tags": []
   },
   "outputs": [],
   "source": [
    "display(data_sample.shape)\n",
    "display(data_sample.head())"
   ]
  },
  {
   "cell_type": "code",
   "execution_count": null,
   "id": "c9dd8caa-cb9e-4422-8f85-d918cb71afdf",
   "metadata": {},
   "outputs": [],
   "source": []
  }
 ],
 "metadata": {
  "jupytext": {
   "cell_metadata_filter": "all,-execution,-papermill,-trusted"
  },
  "kernelspec": {
   "display_name": "Python 3 (ipykernel)",
   "language": "python",
   "name": "python3"
  },
  "language_info": {
   "codemirror_mode": {
    "name": "ipython",
    "version": 3
   },
   "file_extension": ".py",
   "mimetype": "text/x-python",
   "name": "python",
   "nbconvert_exporter": "python",
   "pygments_lexer": "ipython3",
   "version": "3.9.9"
  },
  "papermill": {
   "default_parameters": {},
   "duration": 17.334676,
   "end_time": "2022-01-25T21:52:01.433325",
   "environment_variables": {},
   "exception": null,
   "input_path": "nbs/15_intersections/05-sample_intersections.ipynb",
   "output_path": "nbs/15_intersections/05-sample_intersections.run.ipynb",
   "parameters": {},
   "start_time": "2022-01-25T21:51:44.098649",
   "version": "2.3.4"
  },
  "toc-autonumbering": true
 },
 "nbformat": 4,
 "nbformat_minor": 5
}
