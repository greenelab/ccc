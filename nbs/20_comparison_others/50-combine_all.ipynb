{
 "cells": [
  {
   "cell_type": "markdown",
   "id": "c1948eb4-fb63-4fad-8243-bcd57b98def3",
   "metadata": {
    "papermill": {
     "duration": 0.043688,
     "end_time": "2022-01-28T21:06:31.001528",
     "exception": false,
     "start_time": "2022-01-28T21:06:30.957840",
     "status": "completed"
    },
    "tags": []
   },
   "source": [
    "# Description"
   ]
  },
  {
   "cell_type": "markdown",
   "id": "0abb1d73-c786-4c6d-9dc2-b9243e5183e2",
   "metadata": {
    "papermill": {
     "duration": 0.036913,
     "end_time": "2022-01-28T21:06:31.075451",
     "exception": false,
     "start_time": "2022-01-28T21:06:31.038538",
     "status": "completed"
    },
    "tags": []
   },
   "source": [
    "It combines all coefficient values in one tissue (see `Settings` below) into a single dataframe for easier processing later.\n",
    "\n",
    "This notebook incorporates results using MIC, which was computed only in a subset of gene pairs due to its computational complexity."
   ]
  },
  {
   "cell_type": "markdown",
   "id": "d6252b4c-6d56-4cf0-aecd-5d8c769a3609",
   "metadata": {
    "papermill": {
     "duration": 0.036915,
     "end_time": "2022-01-28T21:06:31.149476",
     "exception": false,
     "start_time": "2022-01-28T21:06:31.112561",
     "status": "completed"
    },
    "tags": []
   },
   "source": [
    "# Modules loading"
   ]
  },
  {
   "cell_type": "code",
   "execution_count": 1,
   "id": "77e9d29d-5307-4b4a-b103-7d1fbd6a7e56",
   "metadata": {
    "execution": {
     "iopub.execute_input": "2022-01-28T21:06:31.230591Z",
     "iopub.status.busy": "2022-01-28T21:06:31.230127Z",
     "iopub.status.idle": "2022-01-28T21:06:31.486649Z",
     "shell.execute_reply": "2022-01-28T21:06:31.486112Z"
    },
    "papermill": {
     "duration": 0.300189,
     "end_time": "2022-01-28T21:06:31.486761",
     "exception": false,
     "start_time": "2022-01-28T21:06:31.186572",
     "status": "completed"
    },
    "tags": []
   },
   "outputs": [],
   "source": [
    "import pandas as pd\n",
    "\n",
    "from clustermatch import conf\n",
    "from clustermatch.utils import get_upper_triag"
   ]
  },
  {
   "cell_type": "markdown",
   "id": "262eb535-3e5d-43d7-9efd-bd6cfdac9190",
   "metadata": {
    "papermill": {
     "duration": 0.03715,
     "end_time": "2022-01-28T21:06:31.562453",
     "exception": false,
     "start_time": "2022-01-28T21:06:31.525303",
     "status": "completed"
    },
    "tags": []
   },
   "source": [
    "# Settings"
   ]
  },
  {
   "cell_type": "code",
   "execution_count": 2,
   "id": "2d2bd14a-a40d-4710-98c2-587148d0f532",
   "metadata": {
    "execution": {
     "iopub.execute_input": "2022-01-28T21:06:31.641058Z",
     "iopub.status.busy": "2022-01-28T21:06:31.640603Z",
     "iopub.status.idle": "2022-01-28T21:06:31.642740Z",
     "shell.execute_reply": "2022-01-28T21:06:31.642375Z"
    },
    "papermill": {
     "duration": 0.042773,
     "end_time": "2022-01-28T21:06:31.642836",
     "exception": false,
     "start_time": "2022-01-28T21:06:31.600063",
     "status": "completed"
    },
    "tags": []
   },
   "outputs": [],
   "source": [
    "DATASET_CONFIG = conf.GTEX\n",
    "# whole blood by default, but this is a parameters cells that can be changed when running papermill\n",
    "GTEX_TISSUE = \"whole_blood\"\n",
    "GENE_SEL_STRATEGY = \"var_pc_log2\"\n",
    "\n",
    "METHOD_NAME = \"mic\""
   ]
  },
  {
   "cell_type": "markdown",
   "id": "eec9bb6d-4ba2-4817-9b36-bc8e68a2beae",
   "metadata": {
    "papermill": {
     "duration": 0.037221,
     "end_time": "2022-01-28T21:06:31.718740",
     "exception": false,
     "start_time": "2022-01-28T21:06:31.681519",
     "status": "completed"
    },
    "tags": []
   },
   "source": [
    "# Paths"
   ]
  },
  {
   "cell_type": "code",
   "execution_count": 3,
   "id": "ea7dd904-cba8-41ce-ae8b-0fdf9bf69085",
   "metadata": {
    "execution": {
     "iopub.execute_input": "2022-01-28T21:06:31.801571Z",
     "iopub.status.busy": "2022-01-28T21:06:31.800887Z",
     "iopub.status.idle": "2022-01-28T21:06:31.804391Z",
     "shell.execute_reply": "2022-01-28T21:06:31.804750Z"
    },
    "papermill": {
     "duration": 0.04853,
     "end_time": "2022-01-28T21:06:31.804863",
     "exception": false,
     "start_time": "2022-01-28T21:06:31.756333",
     "status": "completed"
    },
    "tags": []
   },
   "outputs": [
    {
     "data": {
      "text/plain": [
       "PosixPath('/opt/data/results/gtex_v8/comparison_others')"
      ]
     },
     "metadata": {},
     "output_type": "display_data"
    }
   ],
   "source": [
    "COMPARISONS_DIR = DATASET_CONFIG[\"RESULTS_DIR\"] / \"comparison_others\"\n",
    "display(COMPARISONS_DIR)"
   ]
  },
  {
   "cell_type": "code",
   "execution_count": 4,
   "id": "a4d3fdfe-5fe8-4248-bffe-fc3b9d1b349f",
   "metadata": {
    "execution": {
     "iopub.execute_input": "2022-01-28T21:06:31.884804Z",
     "iopub.status.busy": "2022-01-28T21:06:31.884291Z",
     "iopub.status.idle": "2022-01-28T21:06:31.886335Z",
     "shell.execute_reply": "2022-01-28T21:06:31.886691Z"
    },
    "papermill": {
     "duration": 0.043388,
     "end_time": "2022-01-28T21:06:31.886803",
     "exception": false,
     "start_time": "2022-01-28T21:06:31.843415",
     "status": "completed"
    },
    "tags": []
   },
   "outputs": [
    {
     "data": {
      "text/plain": [
       "PosixPath('/opt/data/results/gtex_v8/comparison_others/mic')"
      ]
     },
     "metadata": {},
     "output_type": "display_data"
    }
   ],
   "source": [
    "INPUT_DIR = COMPARISONS_DIR / METHOD_NAME\n",
    "display(INPUT_DIR)"
   ]
  },
  {
   "cell_type": "code",
   "execution_count": 5,
   "id": "4a461c40-e70e-4d8d-9afd-49d970dca889",
   "metadata": {
    "execution": {
     "iopub.execute_input": "2022-01-28T21:06:31.966650Z",
     "iopub.status.busy": "2022-01-28T21:06:31.966161Z",
     "iopub.status.idle": "2022-01-28T21:06:31.968556Z",
     "shell.execute_reply": "2022-01-28T21:06:31.968926Z"
    },
    "papermill": {
     "duration": 0.044113,
     "end_time": "2022-01-28T21:06:31.969116",
     "exception": false,
     "start_time": "2022-01-28T21:06:31.925003",
     "status": "completed"
    },
    "tags": []
   },
   "outputs": [
    {
     "data": {
      "text/plain": [
       "PosixPath('/opt/data/results/gtex_v8/similarity_matrices/gtex_v8_data_{tissue}-{gene_sel_strategy}-{corr_method}.pkl')"
      ]
     },
     "metadata": {},
     "output_type": "display_data"
    }
   ],
   "source": [
    "INPUT_CORR_FILE_TEMPLATE = (\n",
    "    DATASET_CONFIG[\"SIMILARITY_MATRICES_DIR\"]\n",
    "    / DATASET_CONFIG[\"SIMILARITY_MATRIX_FILENAME_TEMPLATE\"]\n",
    ")\n",
    "display(INPUT_CORR_FILE_TEMPLATE)"
   ]
  },
  {
   "cell_type": "code",
   "execution_count": 6,
   "id": "34c70f63-0878-4f29-9ea5-2570e6f9f33b",
   "metadata": {
    "execution": {
     "iopub.execute_input": "2022-01-28T21:06:32.050172Z",
     "iopub.status.busy": "2022-01-28T21:06:32.049582Z",
     "iopub.status.idle": "2022-01-28T21:06:32.052538Z",
     "shell.execute_reply": "2022-01-28T21:06:32.052081Z"
    },
    "papermill": {
     "duration": 0.044592,
     "end_time": "2022-01-28T21:06:32.052631",
     "exception": false,
     "start_time": "2022-01-28T21:06:32.008039",
     "status": "completed"
    },
    "tags": []
   },
   "outputs": [
    {
     "data": {
      "text/plain": [
       "PosixPath('/opt/data/results/gtex_v8/similarity_matrices/gtex_v8_data_{tissue}-{gene_sel_strategy}-{corr_method}.pkl')"
      ]
     },
     "metadata": {},
     "output_type": "display_data"
    }
   ],
   "source": [
    "INPUT_CORR_FILE_TEMPLATE = (\n",
    "    DATASET_CONFIG[\"SIMILARITY_MATRICES_DIR\"]\n",
    "    / DATASET_CONFIG[\"SIMILARITY_MATRIX_FILENAME_TEMPLATE\"]\n",
    ")\n",
    "display(INPUT_CORR_FILE_TEMPLATE)"
   ]
  },
  {
   "cell_type": "code",
   "execution_count": 7,
   "id": "92b9bfd4",
   "metadata": {
    "execution": {
     "iopub.execute_input": "2022-01-28T21:06:32.134446Z",
     "iopub.status.busy": "2022-01-28T21:06:32.133847Z",
     "iopub.status.idle": "2022-01-28T21:06:32.136763Z",
     "shell.execute_reply": "2022-01-28T21:06:32.136371Z"
    },
    "papermill": {
     "duration": 0.045223,
     "end_time": "2022-01-28T21:06:32.136855",
     "exception": false,
     "start_time": "2022-01-28T21:06:32.091632",
     "status": "completed"
    },
    "tags": []
   },
   "outputs": [
    {
     "data": {
      "text/plain": [
       "PosixPath('/opt/data/results/gtex_v8/comparison_others/gtex_v8_data_whole_blood-var_pc_log2-all.pkl')"
      ]
     },
     "metadata": {},
     "output_type": "display_data"
    }
   ],
   "source": [
    "OUTPUT_FILE = (\n",
    "    COMPARISONS_DIR / f\"gtex_v8_data_{GTEX_TISSUE}-{GENE_SEL_STRATEGY}-all.pkl\"\n",
    ")\n",
    "display(OUTPUT_FILE)"
   ]
  },
  {
   "cell_type": "markdown",
   "id": "e2746a93-d631-4346-9d10-a5c1f9f8de4a",
   "metadata": {
    "papermill": {
     "duration": 0.047673,
     "end_time": "2022-01-28T21:06:32.248382",
     "exception": false,
     "start_time": "2022-01-28T21:06:32.200709",
     "status": "completed"
    },
    "tags": []
   },
   "source": [
    "# Load data"
   ]
  },
  {
   "cell_type": "markdown",
   "id": "daf60f94-dbb9-48dd-9f9a-9e9e4d21c961",
   "metadata": {
    "papermill": {
     "duration": 0.038501,
     "end_time": "2022-01-28T21:06:32.325699",
     "exception": false,
     "start_time": "2022-01-28T21:06:32.287198",
     "status": "completed"
    },
    "tags": []
   },
   "source": [
    "## Clustermatch"
   ]
  },
  {
   "cell_type": "code",
   "execution_count": 8,
   "id": "e88dd03a-4a55-43c0-81a9-45b6332b765a",
   "metadata": {
    "execution": {
     "iopub.execute_input": "2022-01-28T21:06:32.410164Z",
     "iopub.status.busy": "2022-01-28T21:06:32.409566Z",
     "iopub.status.idle": "2022-01-28T21:06:32.500620Z",
     "shell.execute_reply": "2022-01-28T21:06:32.500044Z"
    },
    "papermill": {
     "duration": 0.135996,
     "end_time": "2022-01-28T21:06:32.500735",
     "exception": false,
     "start_time": "2022-01-28T21:06:32.364739",
     "status": "completed"
    },
    "tags": []
   },
   "outputs": [],
   "source": [
    "clustermatch_df = pd.read_pickle(\n",
    "    str(INPUT_CORR_FILE_TEMPLATE).format(\n",
    "        tissue=GTEX_TISSUE,\n",
    "        gene_sel_strategy=GENE_SEL_STRATEGY,\n",
    "        corr_method=\"clustermatch\",\n",
    "    )\n",
    ")"
   ]
  },
  {
   "cell_type": "code",
   "execution_count": 9,
   "id": "e86cc78e-56f4-4c71-b4d9-b2be40503470",
   "metadata": {
    "execution": {
     "iopub.execute_input": "2022-01-28T21:06:32.588426Z",
     "iopub.status.busy": "2022-01-28T21:06:32.587966Z",
     "iopub.status.idle": "2022-01-28T21:06:32.589933Z",
     "shell.execute_reply": "2022-01-28T21:06:32.590276Z"
    },
    "papermill": {
     "duration": 0.045434,
     "end_time": "2022-01-28T21:06:32.590393",
     "exception": false,
     "start_time": "2022-01-28T21:06:32.544959",
     "status": "completed"
    },
    "tags": []
   },
   "outputs": [
    {
     "data": {
      "text/plain": [
       "(5000, 5000)"
      ]
     },
     "execution_count": 9,
     "metadata": {},
     "output_type": "execute_result"
    }
   ],
   "source": [
    "clustermatch_df.shape"
   ]
  },
  {
   "cell_type": "code",
   "execution_count": 10,
   "id": "ad07b974-791a-4346-8bdf-770e54a32bab",
   "metadata": {
    "execution": {
     "iopub.execute_input": "2022-01-28T21:06:32.676915Z",
     "iopub.status.busy": "2022-01-28T21:06:32.676451Z",
     "iopub.status.idle": "2022-01-28T21:06:32.693231Z",
     "shell.execute_reply": "2022-01-28T21:06:32.692835Z"
    },
    "papermill": {
     "duration": 0.062342,
     "end_time": "2022-01-28T21:06:32.693327",
     "exception": false,
     "start_time": "2022-01-28T21:06:32.630985",
     "status": "completed"
    },
    "tags": []
   },
   "outputs": [
    {
     "data": {
      "text/html": [
       "<div>\n",
       "<style scoped>\n",
       "    .dataframe tbody tr th:only-of-type {\n",
       "        vertical-align: middle;\n",
       "    }\n",
       "\n",
       "    .dataframe tbody tr th {\n",
       "        vertical-align: top;\n",
       "    }\n",
       "\n",
       "    .dataframe thead th {\n",
       "        text-align: right;\n",
       "    }\n",
       "</style>\n",
       "<table border=\"1\" class=\"dataframe\">\n",
       "  <thead>\n",
       "    <tr style=\"text-align: right;\">\n",
       "      <th>gene_ens_id</th>\n",
       "      <th>ENSG00000169429.10</th>\n",
       "      <th>ENSG00000135245.9</th>\n",
       "      <th>ENSG00000163631.16</th>\n",
       "      <th>ENSG00000277632.1</th>\n",
       "      <th>ENSG00000239839.6</th>\n",
       "      <th>ENSG00000186652.9</th>\n",
       "      <th>ENSG00000129824.15</th>\n",
       "      <th>ENSG00000152463.14</th>\n",
       "      <th>ENSG00000123689.5</th>\n",
       "      <th>ENSG00000012223.12</th>\n",
       "      <th>...</th>\n",
       "      <th>ENSG00000122033.14</th>\n",
       "      <th>ENSG00000145779.7</th>\n",
       "      <th>ENSG00000196396.9</th>\n",
       "      <th>ENSG00000216490.3</th>\n",
       "      <th>ENSG00000135521.8</th>\n",
       "      <th>ENSG00000198478.7</th>\n",
       "      <th>ENSG00000168137.15</th>\n",
       "      <th>ENSG00000182197.10</th>\n",
       "      <th>ENSG00000111641.11</th>\n",
       "      <th>ENSG00000168528.11</th>\n",
       "    </tr>\n",
       "    <tr>\n",
       "      <th>gene_ens_id</th>\n",
       "      <th></th>\n",
       "      <th></th>\n",
       "      <th></th>\n",
       "      <th></th>\n",
       "      <th></th>\n",
       "      <th></th>\n",
       "      <th></th>\n",
       "      <th></th>\n",
       "      <th></th>\n",
       "      <th></th>\n",
       "      <th></th>\n",
       "      <th></th>\n",
       "      <th></th>\n",
       "      <th></th>\n",
       "      <th></th>\n",
       "      <th></th>\n",
       "      <th></th>\n",
       "      <th></th>\n",
       "      <th></th>\n",
       "      <th></th>\n",
       "      <th></th>\n",
       "    </tr>\n",
       "  </thead>\n",
       "  <tbody>\n",
       "    <tr>\n",
       "      <th>ENSG00000169429.10</th>\n",
       "      <td>1.000000</td>\n",
       "      <td>0.780181</td>\n",
       "      <td>0.401717</td>\n",
       "      <td>0.789583</td>\n",
       "      <td>0.139359</td>\n",
       "      <td>0.524274</td>\n",
       "      <td>0.048667</td>\n",
       "      <td>0.365544</td>\n",
       "      <td>0.799041</td>\n",
       "      <td>0.343411</td>\n",
       "      <td>...</td>\n",
       "      <td>0.212632</td>\n",
       "      <td>0.037166</td>\n",
       "      <td>0.012264</td>\n",
       "      <td>0.016958</td>\n",
       "      <td>0.053866</td>\n",
       "      <td>0.133457</td>\n",
       "      <td>0.081476</td>\n",
       "      <td>0.212632</td>\n",
       "      <td>0.112897</td>\n",
       "      <td>0.022719</td>\n",
       "    </tr>\n",
       "    <tr>\n",
       "      <th>ENSG00000135245.9</th>\n",
       "      <td>0.780181</td>\n",
       "      <td>1.000000</td>\n",
       "      <td>0.429092</td>\n",
       "      <td>0.780181</td>\n",
       "      <td>0.159947</td>\n",
       "      <td>0.516615</td>\n",
       "      <td>0.042631</td>\n",
       "      <td>0.334136</td>\n",
       "      <td>0.752314</td>\n",
       "      <td>0.355974</td>\n",
       "      <td>...</td>\n",
       "      <td>0.237858</td>\n",
       "      <td>0.051243</td>\n",
       "      <td>0.042777</td>\n",
       "      <td>0.035816</td>\n",
       "      <td>0.094566</td>\n",
       "      <td>0.145388</td>\n",
       "      <td>0.075009</td>\n",
       "      <td>0.217565</td>\n",
       "      <td>0.099542</td>\n",
       "      <td>0.019660</td>\n",
       "    </tr>\n",
       "    <tr>\n",
       "      <th>ENSG00000163631.16</th>\n",
       "      <td>0.401717</td>\n",
       "      <td>0.429092</td>\n",
       "      <td>1.000000</td>\n",
       "      <td>0.408476</td>\n",
       "      <td>0.127681</td>\n",
       "      <td>0.401717</td>\n",
       "      <td>0.020316</td>\n",
       "      <td>0.232700</td>\n",
       "      <td>0.381776</td>\n",
       "      <td>0.261762</td>\n",
       "      <td>...</td>\n",
       "      <td>0.153623</td>\n",
       "      <td>0.041971</td>\n",
       "      <td>0.008775</td>\n",
       "      <td>0.009087</td>\n",
       "      <td>0.053706</td>\n",
       "      <td>0.090792</td>\n",
       "      <td>0.021106</td>\n",
       "      <td>0.153623</td>\n",
       "      <td>0.047663</td>\n",
       "      <td>0.009211</td>\n",
       "    </tr>\n",
       "    <tr>\n",
       "      <th>ENSG00000277632.1</th>\n",
       "      <td>0.789583</td>\n",
       "      <td>0.780181</td>\n",
       "      <td>0.408476</td>\n",
       "      <td>1.000000</td>\n",
       "      <td>0.151543</td>\n",
       "      <td>0.547588</td>\n",
       "      <td>0.055712</td>\n",
       "      <td>0.346530</td>\n",
       "      <td>0.761547</td>\n",
       "      <td>0.381776</td>\n",
       "      <td>...</td>\n",
       "      <td>0.222554</td>\n",
       "      <td>0.036365</td>\n",
       "      <td>0.023933</td>\n",
       "      <td>0.017412</td>\n",
       "      <td>0.044225</td>\n",
       "      <td>0.129593</td>\n",
       "      <td>0.065463</td>\n",
       "      <td>0.188812</td>\n",
       "      <td>0.147426</td>\n",
       "      <td>0.011364</td>\n",
       "    </tr>\n",
       "    <tr>\n",
       "      <th>ENSG00000239839.6</th>\n",
       "      <td>0.139359</td>\n",
       "      <td>0.159947</td>\n",
       "      <td>0.127681</td>\n",
       "      <td>0.151543</td>\n",
       "      <td>1.000000</td>\n",
       "      <td>0.272752</td>\n",
       "      <td>0.008065</td>\n",
       "      <td>0.100699</td>\n",
       "      <td>0.135411</td>\n",
       "      <td>0.318958</td>\n",
       "      <td>...</td>\n",
       "      <td>0.048843</td>\n",
       "      <td>0.012149</td>\n",
       "      <td>0.018039</td>\n",
       "      <td>0.005696</td>\n",
       "      <td>0.021103</td>\n",
       "      <td>0.022719</td>\n",
       "      <td>0.003596</td>\n",
       "      <td>0.100699</td>\n",
       "      <td>0.018589</td>\n",
       "      <td>0.010845</td>\n",
       "    </tr>\n",
       "  </tbody>\n",
       "</table>\n",
       "<p>5 rows × 5000 columns</p>\n",
       "</div>"
      ],
      "text/plain": [
       "gene_ens_id         ENSG00000169429.10  ENSG00000135245.9  ENSG00000163631.16  \\\n",
       "gene_ens_id                                                                     \n",
       "ENSG00000169429.10            1.000000           0.780181            0.401717   \n",
       "ENSG00000135245.9             0.780181           1.000000            0.429092   \n",
       "ENSG00000163631.16            0.401717           0.429092            1.000000   \n",
       "ENSG00000277632.1             0.789583           0.780181            0.408476   \n",
       "ENSG00000239839.6             0.139359           0.159947            0.127681   \n",
       "\n",
       "gene_ens_id         ENSG00000277632.1  ENSG00000239839.6  ENSG00000186652.9  \\\n",
       "gene_ens_id                                                                   \n",
       "ENSG00000169429.10           0.789583           0.139359           0.524274   \n",
       "ENSG00000135245.9            0.780181           0.159947           0.516615   \n",
       "ENSG00000163631.16           0.408476           0.127681           0.401717   \n",
       "ENSG00000277632.1            1.000000           0.151543           0.547588   \n",
       "ENSG00000239839.6            0.151543           1.000000           0.272752   \n",
       "\n",
       "gene_ens_id         ENSG00000129824.15  ENSG00000152463.14  ENSG00000123689.5  \\\n",
       "gene_ens_id                                                                     \n",
       "ENSG00000169429.10            0.048667            0.365544           0.799041   \n",
       "ENSG00000135245.9             0.042631            0.334136           0.752314   \n",
       "ENSG00000163631.16            0.020316            0.232700           0.381776   \n",
       "ENSG00000277632.1             0.055712            0.346530           0.761547   \n",
       "ENSG00000239839.6             0.008065            0.100699           0.135411   \n",
       "\n",
       "gene_ens_id         ENSG00000012223.12  ...  ENSG00000122033.14  \\\n",
       "gene_ens_id                             ...                       \n",
       "ENSG00000169429.10            0.343411  ...            0.212632   \n",
       "ENSG00000135245.9             0.355974  ...            0.237858   \n",
       "ENSG00000163631.16            0.261762  ...            0.153623   \n",
       "ENSG00000277632.1             0.381776  ...            0.222554   \n",
       "ENSG00000239839.6             0.318958  ...            0.048843   \n",
       "\n",
       "gene_ens_id         ENSG00000145779.7  ENSG00000196396.9  ENSG00000216490.3  \\\n",
       "gene_ens_id                                                                   \n",
       "ENSG00000169429.10           0.037166           0.012264           0.016958   \n",
       "ENSG00000135245.9            0.051243           0.042777           0.035816   \n",
       "ENSG00000163631.16           0.041971           0.008775           0.009087   \n",
       "ENSG00000277632.1            0.036365           0.023933           0.017412   \n",
       "ENSG00000239839.6            0.012149           0.018039           0.005696   \n",
       "\n",
       "gene_ens_id         ENSG00000135521.8  ENSG00000198478.7  ENSG00000168137.15  \\\n",
       "gene_ens_id                                                                    \n",
       "ENSG00000169429.10           0.053866           0.133457            0.081476   \n",
       "ENSG00000135245.9            0.094566           0.145388            0.075009   \n",
       "ENSG00000163631.16           0.053706           0.090792            0.021106   \n",
       "ENSG00000277632.1            0.044225           0.129593            0.065463   \n",
       "ENSG00000239839.6            0.021103           0.022719            0.003596   \n",
       "\n",
       "gene_ens_id         ENSG00000182197.10  ENSG00000111641.11  ENSG00000168528.11  \n",
       "gene_ens_id                                                                     \n",
       "ENSG00000169429.10            0.212632            0.112897            0.022719  \n",
       "ENSG00000135245.9             0.217565            0.099542            0.019660  \n",
       "ENSG00000163631.16            0.153623            0.047663            0.009211  \n",
       "ENSG00000277632.1             0.188812            0.147426            0.011364  \n",
       "ENSG00000239839.6             0.100699            0.018589            0.010845  \n",
       "\n",
       "[5 rows x 5000 columns]"
      ]
     },
     "execution_count": 10,
     "metadata": {},
     "output_type": "execute_result"
    }
   ],
   "source": [
    "clustermatch_df.head()"
   ]
  },
  {
   "cell_type": "code",
   "execution_count": 11,
   "id": "fd6fb195-904a-4f2c-acea-49f912dc29db",
   "metadata": {
    "execution": {
     "iopub.execute_input": "2022-01-28T21:06:32.777400Z",
     "iopub.status.busy": "2022-01-28T21:06:32.776872Z",
     "iopub.status.idle": "2022-01-28T21:06:33.041820Z",
     "shell.execute_reply": "2022-01-28T21:06:33.041368Z"
    },
    "papermill": {
     "duration": 0.307954,
     "end_time": "2022-01-28T21:06:33.041922",
     "exception": false,
     "start_time": "2022-01-28T21:06:32.733968",
     "status": "completed"
    },
    "tags": []
   },
   "outputs": [],
   "source": [
    "clustermatch_df = get_upper_triag(clustermatch_df)"
   ]
  },
  {
   "cell_type": "code",
   "execution_count": 12,
   "id": "5d183d84-04e5-426e-83c0-23911cb50a53",
   "metadata": {
    "execution": {
     "iopub.execute_input": "2022-01-28T21:06:33.232906Z",
     "iopub.status.busy": "2022-01-28T21:06:33.232398Z",
     "iopub.status.idle": "2022-01-28T21:07:01.836046Z",
     "shell.execute_reply": "2022-01-28T21:07:01.835512Z"
    },
    "papermill": {
     "duration": 28.753055,
     "end_time": "2022-01-28T21:07:01.836159",
     "exception": false,
     "start_time": "2022-01-28T21:06:33.083104",
     "status": "completed"
    },
    "tags": []
   },
   "outputs": [],
   "source": [
    "clustermatch_df = (\n",
    "    clustermatch_df.unstack()\n",
    "    .rename_axis((None, None))\n",
    "    .dropna()\n",
    "    .sort_index()\n",
    "    .rename(\"clustermatch\")\n",
    ")"
   ]
  },
  {
   "cell_type": "code",
   "execution_count": 13,
   "id": "89a5d232-fabb-440b-a1f7-1c4c50fb5ba8",
   "metadata": {
    "execution": {
     "iopub.execute_input": "2022-01-28T21:07:01.922507Z",
     "iopub.status.busy": "2022-01-28T21:07:01.922022Z",
     "iopub.status.idle": "2022-01-28T21:07:01.924171Z",
     "shell.execute_reply": "2022-01-28T21:07:01.924520Z"
    },
    "papermill": {
     "duration": 0.045875,
     "end_time": "2022-01-28T21:07:01.924637",
     "exception": false,
     "start_time": "2022-01-28T21:07:01.878762",
     "status": "completed"
    },
    "tags": []
   },
   "outputs": [
    {
     "data": {
      "text/plain": [
       "(12497500,)"
      ]
     },
     "execution_count": 13,
     "metadata": {},
     "output_type": "execute_result"
    }
   ],
   "source": [
    "clustermatch_df.shape"
   ]
  },
  {
   "cell_type": "code",
   "execution_count": 14,
   "id": "4a27d3d0-8f72-44e5-89bc-18d03e136afd",
   "metadata": {
    "execution": {
     "iopub.execute_input": "2022-01-28T21:07:02.011752Z",
     "iopub.status.busy": "2022-01-28T21:07:02.011148Z",
     "iopub.status.idle": "2022-01-28T21:07:02.013895Z",
     "shell.execute_reply": "2022-01-28T21:07:02.013454Z"
    },
    "papermill": {
     "duration": 0.048929,
     "end_time": "2022-01-28T21:07:02.013987",
     "exception": false,
     "start_time": "2022-01-28T21:07:01.965058",
     "status": "completed"
    },
    "tags": []
   },
   "outputs": [
    {
     "data": {
      "text/plain": [
       "ENSG00000000419.12  ENSG00000002834.17    0.418721\n",
       "                    ENSG00000002919.14    0.405090\n",
       "                    ENSG00000002933.7     0.007466\n",
       "                    ENSG00000003402.19    0.391683\n",
       "                    ENSG00000004478.7     0.099013\n",
       "Name: clustermatch, dtype: float64"
      ]
     },
     "execution_count": 14,
     "metadata": {},
     "output_type": "execute_result"
    }
   ],
   "source": [
    "clustermatch_df.head()"
   ]
  },
  {
   "cell_type": "markdown",
   "id": "813bccee-d7d0-4825-b29f-6ff082c43455",
   "metadata": {
    "papermill": {
     "duration": 0.039762,
     "end_time": "2022-01-28T21:07:02.094275",
     "exception": false,
     "start_time": "2022-01-28T21:07:02.054513",
     "status": "completed"
    },
    "tags": []
   },
   "source": [
    "## Pearson"
   ]
  },
  {
   "cell_type": "code",
   "execution_count": 15,
   "id": "7a32595f-551a-430c-85d5-97e5685d313a",
   "metadata": {
    "execution": {
     "iopub.execute_input": "2022-01-28T21:07:02.178406Z",
     "iopub.status.busy": "2022-01-28T21:07:02.177924Z",
     "iopub.status.idle": "2022-01-28T21:07:02.250318Z",
     "shell.execute_reply": "2022-01-28T21:07:02.249859Z"
    },
    "papermill": {
     "duration": 0.116293,
     "end_time": "2022-01-28T21:07:02.250422",
     "exception": false,
     "start_time": "2022-01-28T21:07:02.134129",
     "status": "completed"
    },
    "tags": []
   },
   "outputs": [],
   "source": [
    "pearson_df = pd.read_pickle(\n",
    "    str(INPUT_CORR_FILE_TEMPLATE).format(\n",
    "        tissue=GTEX_TISSUE,\n",
    "        gene_sel_strategy=GENE_SEL_STRATEGY,\n",
    "        corr_method=\"pearson\",\n",
    "    )\n",
    ")"
   ]
  },
  {
   "cell_type": "code",
   "execution_count": 16,
   "id": "7dd92986-8d36-426d-ba7e-ccf5acdf32cc",
   "metadata": {
    "execution": {
     "iopub.execute_input": "2022-01-28T21:07:02.337541Z",
     "iopub.status.busy": "2022-01-28T21:07:02.336998Z",
     "iopub.status.idle": "2022-01-28T21:07:02.339792Z",
     "shell.execute_reply": "2022-01-28T21:07:02.339335Z"
    },
    "papermill": {
     "duration": 0.046846,
     "end_time": "2022-01-28T21:07:02.339924",
     "exception": false,
     "start_time": "2022-01-28T21:07:02.293078",
     "status": "completed"
    },
    "tags": []
   },
   "outputs": [
    {
     "data": {
      "text/plain": [
       "(5000, 5000)"
      ]
     },
     "execution_count": 16,
     "metadata": {},
     "output_type": "execute_result"
    }
   ],
   "source": [
    "pearson_df.shape"
   ]
  },
  {
   "cell_type": "code",
   "execution_count": 17,
   "id": "1e8f82e5-3f7f-4825-b18a-e9e0acf19c08",
   "metadata": {
    "execution": {
     "iopub.execute_input": "2022-01-28T21:07:02.440427Z",
     "iopub.status.busy": "2022-01-28T21:07:02.439900Z",
     "iopub.status.idle": "2022-01-28T21:07:02.441993Z",
     "shell.execute_reply": "2022-01-28T21:07:02.442355Z"
    },
    "papermill": {
     "duration": 0.06143,
     "end_time": "2022-01-28T21:07:02.442472",
     "exception": false,
     "start_time": "2022-01-28T21:07:02.381042",
     "status": "completed"
    },
    "tags": []
   },
   "outputs": [
    {
     "data": {
      "text/html": [
       "<div>\n",
       "<style scoped>\n",
       "    .dataframe tbody tr th:only-of-type {\n",
       "        vertical-align: middle;\n",
       "    }\n",
       "\n",
       "    .dataframe tbody tr th {\n",
       "        vertical-align: top;\n",
       "    }\n",
       "\n",
       "    .dataframe thead th {\n",
       "        text-align: right;\n",
       "    }\n",
       "</style>\n",
       "<table border=\"1\" class=\"dataframe\">\n",
       "  <thead>\n",
       "    <tr style=\"text-align: right;\">\n",
       "      <th>gene_ens_id</th>\n",
       "      <th>ENSG00000169429.10</th>\n",
       "      <th>ENSG00000135245.9</th>\n",
       "      <th>ENSG00000163631.16</th>\n",
       "      <th>ENSG00000277632.1</th>\n",
       "      <th>ENSG00000239839.6</th>\n",
       "      <th>ENSG00000186652.9</th>\n",
       "      <th>ENSG00000129824.15</th>\n",
       "      <th>ENSG00000152463.14</th>\n",
       "      <th>ENSG00000123689.5</th>\n",
       "      <th>ENSG00000012223.12</th>\n",
       "      <th>...</th>\n",
       "      <th>ENSG00000122033.14</th>\n",
       "      <th>ENSG00000145779.7</th>\n",
       "      <th>ENSG00000196396.9</th>\n",
       "      <th>ENSG00000216490.3</th>\n",
       "      <th>ENSG00000135521.8</th>\n",
       "      <th>ENSG00000198478.7</th>\n",
       "      <th>ENSG00000168137.15</th>\n",
       "      <th>ENSG00000182197.10</th>\n",
       "      <th>ENSG00000111641.11</th>\n",
       "      <th>ENSG00000168528.11</th>\n",
       "    </tr>\n",
       "    <tr>\n",
       "      <th>gene_ens_id</th>\n",
       "      <th></th>\n",
       "      <th></th>\n",
       "      <th></th>\n",
       "      <th></th>\n",
       "      <th></th>\n",
       "      <th></th>\n",
       "      <th></th>\n",
       "      <th></th>\n",
       "      <th></th>\n",
       "      <th></th>\n",
       "      <th></th>\n",
       "      <th></th>\n",
       "      <th></th>\n",
       "      <th></th>\n",
       "      <th></th>\n",
       "      <th></th>\n",
       "      <th></th>\n",
       "      <th></th>\n",
       "      <th></th>\n",
       "      <th></th>\n",
       "      <th></th>\n",
       "    </tr>\n",
       "  </thead>\n",
       "  <tbody>\n",
       "    <tr>\n",
       "      <th>ENSG00000169429.10</th>\n",
       "      <td>1.000000</td>\n",
       "      <td>0.571672</td>\n",
       "      <td>0.126906</td>\n",
       "      <td>0.456538</td>\n",
       "      <td>0.127140</td>\n",
       "      <td>0.256347</td>\n",
       "      <td>0.300879</td>\n",
       "      <td>-0.268024</td>\n",
       "      <td>0.472277</td>\n",
       "      <td>0.355504</td>\n",
       "      <td>...</td>\n",
       "      <td>-0.087559</td>\n",
       "      <td>0.181072</td>\n",
       "      <td>0.098032</td>\n",
       "      <td>0.012809</td>\n",
       "      <td>0.048569</td>\n",
       "      <td>-0.125537</td>\n",
       "      <td>0.449339</td>\n",
       "      <td>-0.198314</td>\n",
       "      <td>0.298775</td>\n",
       "      <td>0.041489</td>\n",
       "    </tr>\n",
       "    <tr>\n",
       "      <th>ENSG00000135245.9</th>\n",
       "      <td>0.571672</td>\n",
       "      <td>1.000000</td>\n",
       "      <td>0.110612</td>\n",
       "      <td>0.438929</td>\n",
       "      <td>0.209161</td>\n",
       "      <td>0.223671</td>\n",
       "      <td>0.203370</td>\n",
       "      <td>-0.325667</td>\n",
       "      <td>0.532544</td>\n",
       "      <td>0.406272</td>\n",
       "      <td>...</td>\n",
       "      <td>-0.198912</td>\n",
       "      <td>0.018133</td>\n",
       "      <td>0.165431</td>\n",
       "      <td>0.052732</td>\n",
       "      <td>-0.123459</td>\n",
       "      <td>-0.192481</td>\n",
       "      <td>0.478504</td>\n",
       "      <td>-0.223546</td>\n",
       "      <td>0.259206</td>\n",
       "      <td>0.116396</td>\n",
       "    </tr>\n",
       "    <tr>\n",
       "      <th>ENSG00000163631.16</th>\n",
       "      <td>0.126906</td>\n",
       "      <td>0.110612</td>\n",
       "      <td>1.000000</td>\n",
       "      <td>0.129248</td>\n",
       "      <td>0.021091</td>\n",
       "      <td>0.054572</td>\n",
       "      <td>0.072717</td>\n",
       "      <td>-0.131141</td>\n",
       "      <td>0.235882</td>\n",
       "      <td>0.098683</td>\n",
       "      <td>...</td>\n",
       "      <td>-0.095401</td>\n",
       "      <td>-0.077452</td>\n",
       "      <td>-0.084369</td>\n",
       "      <td>-0.077808</td>\n",
       "      <td>-0.093490</td>\n",
       "      <td>-0.037774</td>\n",
       "      <td>0.025260</td>\n",
       "      <td>-0.123350</td>\n",
       "      <td>0.049174</td>\n",
       "      <td>0.106998</td>\n",
       "    </tr>\n",
       "    <tr>\n",
       "      <th>ENSG00000277632.1</th>\n",
       "      <td>0.456538</td>\n",
       "      <td>0.438929</td>\n",
       "      <td>0.129248</td>\n",
       "      <td>1.000000</td>\n",
       "      <td>0.199647</td>\n",
       "      <td>0.238356</td>\n",
       "      <td>0.366739</td>\n",
       "      <td>-0.361011</td>\n",
       "      <td>0.406964</td>\n",
       "      <td>0.416603</td>\n",
       "      <td>...</td>\n",
       "      <td>-0.175950</td>\n",
       "      <td>0.107436</td>\n",
       "      <td>0.118997</td>\n",
       "      <td>0.027369</td>\n",
       "      <td>0.060482</td>\n",
       "      <td>-0.212037</td>\n",
       "      <td>0.420059</td>\n",
       "      <td>-0.304038</td>\n",
       "      <td>0.509854</td>\n",
       "      <td>0.027239</td>\n",
       "    </tr>\n",
       "    <tr>\n",
       "      <th>ENSG00000239839.6</th>\n",
       "      <td>0.127140</td>\n",
       "      <td>0.209161</td>\n",
       "      <td>0.021091</td>\n",
       "      <td>0.199647</td>\n",
       "      <td>1.000000</td>\n",
       "      <td>0.229287</td>\n",
       "      <td>0.022563</td>\n",
       "      <td>-0.183318</td>\n",
       "      <td>0.077410</td>\n",
       "      <td>0.541731</td>\n",
       "      <td>...</td>\n",
       "      <td>-0.058021</td>\n",
       "      <td>0.051451</td>\n",
       "      <td>-0.040586</td>\n",
       "      <td>-0.013576</td>\n",
       "      <td>-0.015835</td>\n",
       "      <td>-0.115248</td>\n",
       "      <td>0.072186</td>\n",
       "      <td>-0.219001</td>\n",
       "      <td>0.076205</td>\n",
       "      <td>0.112401</td>\n",
       "    </tr>\n",
       "  </tbody>\n",
       "</table>\n",
       "<p>5 rows × 5000 columns</p>\n",
       "</div>"
      ],
      "text/plain": [
       "gene_ens_id         ENSG00000169429.10  ENSG00000135245.9  ENSG00000163631.16  \\\n",
       "gene_ens_id                                                                     \n",
       "ENSG00000169429.10            1.000000           0.571672            0.126906   \n",
       "ENSG00000135245.9             0.571672           1.000000            0.110612   \n",
       "ENSG00000163631.16            0.126906           0.110612            1.000000   \n",
       "ENSG00000277632.1             0.456538           0.438929            0.129248   \n",
       "ENSG00000239839.6             0.127140           0.209161            0.021091   \n",
       "\n",
       "gene_ens_id         ENSG00000277632.1  ENSG00000239839.6  ENSG00000186652.9  \\\n",
       "gene_ens_id                                                                   \n",
       "ENSG00000169429.10           0.456538           0.127140           0.256347   \n",
       "ENSG00000135245.9            0.438929           0.209161           0.223671   \n",
       "ENSG00000163631.16           0.129248           0.021091           0.054572   \n",
       "ENSG00000277632.1            1.000000           0.199647           0.238356   \n",
       "ENSG00000239839.6            0.199647           1.000000           0.229287   \n",
       "\n",
       "gene_ens_id         ENSG00000129824.15  ENSG00000152463.14  ENSG00000123689.5  \\\n",
       "gene_ens_id                                                                     \n",
       "ENSG00000169429.10            0.300879           -0.268024           0.472277   \n",
       "ENSG00000135245.9             0.203370           -0.325667           0.532544   \n",
       "ENSG00000163631.16            0.072717           -0.131141           0.235882   \n",
       "ENSG00000277632.1             0.366739           -0.361011           0.406964   \n",
       "ENSG00000239839.6             0.022563           -0.183318           0.077410   \n",
       "\n",
       "gene_ens_id         ENSG00000012223.12  ...  ENSG00000122033.14  \\\n",
       "gene_ens_id                             ...                       \n",
       "ENSG00000169429.10            0.355504  ...           -0.087559   \n",
       "ENSG00000135245.9             0.406272  ...           -0.198912   \n",
       "ENSG00000163631.16            0.098683  ...           -0.095401   \n",
       "ENSG00000277632.1             0.416603  ...           -0.175950   \n",
       "ENSG00000239839.6             0.541731  ...           -0.058021   \n",
       "\n",
       "gene_ens_id         ENSG00000145779.7  ENSG00000196396.9  ENSG00000216490.3  \\\n",
       "gene_ens_id                                                                   \n",
       "ENSG00000169429.10           0.181072           0.098032           0.012809   \n",
       "ENSG00000135245.9            0.018133           0.165431           0.052732   \n",
       "ENSG00000163631.16          -0.077452          -0.084369          -0.077808   \n",
       "ENSG00000277632.1            0.107436           0.118997           0.027369   \n",
       "ENSG00000239839.6            0.051451          -0.040586          -0.013576   \n",
       "\n",
       "gene_ens_id         ENSG00000135521.8  ENSG00000198478.7  ENSG00000168137.15  \\\n",
       "gene_ens_id                                                                    \n",
       "ENSG00000169429.10           0.048569          -0.125537            0.449339   \n",
       "ENSG00000135245.9           -0.123459          -0.192481            0.478504   \n",
       "ENSG00000163631.16          -0.093490          -0.037774            0.025260   \n",
       "ENSG00000277632.1            0.060482          -0.212037            0.420059   \n",
       "ENSG00000239839.6           -0.015835          -0.115248            0.072186   \n",
       "\n",
       "gene_ens_id         ENSG00000182197.10  ENSG00000111641.11  ENSG00000168528.11  \n",
       "gene_ens_id                                                                     \n",
       "ENSG00000169429.10           -0.198314            0.298775            0.041489  \n",
       "ENSG00000135245.9            -0.223546            0.259206            0.116396  \n",
       "ENSG00000163631.16           -0.123350            0.049174            0.106998  \n",
       "ENSG00000277632.1            -0.304038            0.509854            0.027239  \n",
       "ENSG00000239839.6            -0.219001            0.076205            0.112401  \n",
       "\n",
       "[5 rows x 5000 columns]"
      ]
     },
     "execution_count": 17,
     "metadata": {},
     "output_type": "execute_result"
    }
   ],
   "source": [
    "pearson_df.head()"
   ]
  },
  {
   "cell_type": "code",
   "execution_count": 18,
   "id": "5ef0b9e5-76a6-462c-a8eb-59dc16f7e1d8",
   "metadata": {
    "execution": {
     "iopub.execute_input": "2022-01-28T21:07:02.534611Z",
     "iopub.status.busy": "2022-01-28T21:07:02.533910Z",
     "iopub.status.idle": "2022-01-28T21:07:02.789586Z",
     "shell.execute_reply": "2022-01-28T21:07:02.789940Z"
    },
    "papermill": {
     "duration": 0.304581,
     "end_time": "2022-01-28T21:07:02.790063",
     "exception": false,
     "start_time": "2022-01-28T21:07:02.485482",
     "status": "completed"
    },
    "tags": []
   },
   "outputs": [],
   "source": [
    "pearson_df = get_upper_triag(pearson_df)"
   ]
  },
  {
   "cell_type": "code",
   "execution_count": 19,
   "id": "be0a9364-c95f-42f6-8b65-018ab2904a0e",
   "metadata": {
    "execution": {
     "iopub.execute_input": "2022-01-28T21:07:02.877431Z",
     "iopub.status.busy": "2022-01-28T21:07:02.876961Z",
     "iopub.status.idle": "2022-01-28T21:07:31.634450Z",
     "shell.execute_reply": "2022-01-28T21:07:31.633673Z"
    },
    "papermill": {
     "duration": 28.80236,
     "end_time": "2022-01-28T21:07:31.634587",
     "exception": false,
     "start_time": "2022-01-28T21:07:02.832227",
     "status": "completed"
    },
    "tags": []
   },
   "outputs": [],
   "source": [
    "# make pearson abs\n",
    "pearson_df = (\n",
    "    pearson_df.unstack()\n",
    "    .rename_axis((None, None))\n",
    "    .dropna()\n",
    "    .abs()\n",
    "    .sort_index()\n",
    "    .rename(\"pearson\")\n",
    ")"
   ]
  },
  {
   "cell_type": "code",
   "execution_count": 20,
   "id": "20a651ff-95d3-441c-8058-82eabc2ea4c3",
   "metadata": {
    "execution": {
     "iopub.execute_input": "2022-01-28T21:07:31.736840Z",
     "iopub.status.busy": "2022-01-28T21:07:31.736322Z",
     "iopub.status.idle": "2022-01-28T21:07:31.738402Z",
     "shell.execute_reply": "2022-01-28T21:07:31.738883Z"
    },
    "papermill": {
     "duration": 0.048037,
     "end_time": "2022-01-28T21:07:31.738999",
     "exception": false,
     "start_time": "2022-01-28T21:07:31.690962",
     "status": "completed"
    },
    "tags": []
   },
   "outputs": [
    {
     "data": {
      "text/plain": [
       "(12497500,)"
      ]
     },
     "execution_count": 20,
     "metadata": {},
     "output_type": "execute_result"
    }
   ],
   "source": [
    "pearson_df.shape"
   ]
  },
  {
   "cell_type": "code",
   "execution_count": 21,
   "id": "f65b9f08-a610-4545-bb3d-3978c7108a50",
   "metadata": {
    "execution": {
     "iopub.execute_input": "2022-01-28T21:07:31.833803Z",
     "iopub.status.busy": "2022-01-28T21:07:31.833307Z",
     "iopub.status.idle": "2022-01-28T21:07:31.835175Z",
     "shell.execute_reply": "2022-01-28T21:07:31.835520Z"
    },
    "papermill": {
     "duration": 0.049376,
     "end_time": "2022-01-28T21:07:31.835639",
     "exception": false,
     "start_time": "2022-01-28T21:07:31.786263",
     "status": "completed"
    },
    "tags": []
   },
   "outputs": [
    {
     "data": {
      "text/plain": [
       "ENSG00000000419.12  ENSG00000002834.17    0.681847\n",
       "                    ENSG00000002919.14    0.734699\n",
       "                    ENSG00000002933.7     0.013825\n",
       "                    ENSG00000003402.19    0.727347\n",
       "                    ENSG00000004478.7     0.094147\n",
       "Name: pearson, dtype: float64"
      ]
     },
     "execution_count": 21,
     "metadata": {},
     "output_type": "execute_result"
    }
   ],
   "source": [
    "pearson_df.head()"
   ]
  },
  {
   "cell_type": "markdown",
   "id": "874e5424-c71d-4964-991b-92255ed2ee1e",
   "metadata": {
    "papermill": {
     "duration": 0.041239,
     "end_time": "2022-01-28T21:07:31.919772",
     "exception": false,
     "start_time": "2022-01-28T21:07:31.878533",
     "status": "completed"
    },
    "tags": []
   },
   "source": [
    "## Spearman"
   ]
  },
  {
   "cell_type": "code",
   "execution_count": 22,
   "id": "a8041b71-0749-4f0f-b128-6e426b617ceb",
   "metadata": {
    "execution": {
     "iopub.execute_input": "2022-01-28T21:07:32.007003Z",
     "iopub.status.busy": "2022-01-28T21:07:32.006518Z",
     "iopub.status.idle": "2022-01-28T21:07:32.078134Z",
     "shell.execute_reply": "2022-01-28T21:07:32.077692Z"
    },
    "papermill": {
     "duration": 0.117146,
     "end_time": "2022-01-28T21:07:32.078239",
     "exception": false,
     "start_time": "2022-01-28T21:07:31.961093",
     "status": "completed"
    },
    "tags": []
   },
   "outputs": [],
   "source": [
    "spearman_df = pd.read_pickle(\n",
    "    str(INPUT_CORR_FILE_TEMPLATE).format(\n",
    "        tissue=GTEX_TISSUE,\n",
    "        gene_sel_strategy=GENE_SEL_STRATEGY,\n",
    "        corr_method=\"spearman\",\n",
    "    )\n",
    ")"
   ]
  },
  {
   "cell_type": "code",
   "execution_count": 23,
   "id": "920d4d01-69a5-4cb6-90af-e16f8f1a2d2c",
   "metadata": {
    "execution": {
     "iopub.execute_input": "2022-01-28T21:07:32.167945Z",
     "iopub.status.busy": "2022-01-28T21:07:32.167303Z",
     "iopub.status.idle": "2022-01-28T21:07:32.170439Z",
     "shell.execute_reply": "2022-01-28T21:07:32.169986Z"
    },
    "papermill": {
     "duration": 0.048554,
     "end_time": "2022-01-28T21:07:32.170535",
     "exception": false,
     "start_time": "2022-01-28T21:07:32.121981",
     "status": "completed"
    },
    "tags": []
   },
   "outputs": [
    {
     "data": {
      "text/plain": [
       "(5000, 5000)"
      ]
     },
     "execution_count": 23,
     "metadata": {},
     "output_type": "execute_result"
    }
   ],
   "source": [
    "spearman_df.shape"
   ]
  },
  {
   "cell_type": "code",
   "execution_count": 24,
   "id": "675464fa-175c-474d-a676-330f9ba9275e",
   "metadata": {
    "execution": {
     "iopub.execute_input": "2022-01-28T21:07:32.273411Z",
     "iopub.status.busy": "2022-01-28T21:07:32.260636Z",
     "iopub.status.idle": "2022-01-28T21:07:32.276684Z",
     "shell.execute_reply": "2022-01-28T21:07:32.276222Z"
    },
    "papermill": {
     "duration": 0.063069,
     "end_time": "2022-01-28T21:07:32.276782",
     "exception": false,
     "start_time": "2022-01-28T21:07:32.213713",
     "status": "completed"
    },
    "tags": []
   },
   "outputs": [
    {
     "data": {
      "text/html": [
       "<div>\n",
       "<style scoped>\n",
       "    .dataframe tbody tr th:only-of-type {\n",
       "        vertical-align: middle;\n",
       "    }\n",
       "\n",
       "    .dataframe tbody tr th {\n",
       "        vertical-align: top;\n",
       "    }\n",
       "\n",
       "    .dataframe thead th {\n",
       "        text-align: right;\n",
       "    }\n",
       "</style>\n",
       "<table border=\"1\" class=\"dataframe\">\n",
       "  <thead>\n",
       "    <tr style=\"text-align: right;\">\n",
       "      <th>gene_ens_id</th>\n",
       "      <th>ENSG00000169429.10</th>\n",
       "      <th>ENSG00000135245.9</th>\n",
       "      <th>ENSG00000163631.16</th>\n",
       "      <th>ENSG00000277632.1</th>\n",
       "      <th>ENSG00000239839.6</th>\n",
       "      <th>ENSG00000186652.9</th>\n",
       "      <th>ENSG00000129824.15</th>\n",
       "      <th>ENSG00000152463.14</th>\n",
       "      <th>ENSG00000123689.5</th>\n",
       "      <th>ENSG00000012223.12</th>\n",
       "      <th>...</th>\n",
       "      <th>ENSG00000122033.14</th>\n",
       "      <th>ENSG00000145779.7</th>\n",
       "      <th>ENSG00000196396.9</th>\n",
       "      <th>ENSG00000216490.3</th>\n",
       "      <th>ENSG00000135521.8</th>\n",
       "      <th>ENSG00000198478.7</th>\n",
       "      <th>ENSG00000168137.15</th>\n",
       "      <th>ENSG00000182197.10</th>\n",
       "      <th>ENSG00000111641.11</th>\n",
       "      <th>ENSG00000168528.11</th>\n",
       "    </tr>\n",
       "    <tr>\n",
       "      <th>gene_ens_id</th>\n",
       "      <th></th>\n",
       "      <th></th>\n",
       "      <th></th>\n",
       "      <th></th>\n",
       "      <th></th>\n",
       "      <th></th>\n",
       "      <th></th>\n",
       "      <th></th>\n",
       "      <th></th>\n",
       "      <th></th>\n",
       "      <th></th>\n",
       "      <th></th>\n",
       "      <th></th>\n",
       "      <th></th>\n",
       "      <th></th>\n",
       "      <th></th>\n",
       "      <th></th>\n",
       "      <th></th>\n",
       "      <th></th>\n",
       "      <th></th>\n",
       "      <th></th>\n",
       "    </tr>\n",
       "  </thead>\n",
       "  <tbody>\n",
       "    <tr>\n",
       "      <th>ENSG00000169429.10</th>\n",
       "      <td>1.000000</td>\n",
       "      <td>0.853836</td>\n",
       "      <td>0.709240</td>\n",
       "      <td>0.850371</td>\n",
       "      <td>0.379835</td>\n",
       "      <td>0.760102</td>\n",
       "      <td>0.243599</td>\n",
       "      <td>-0.694446</td>\n",
       "      <td>0.866183</td>\n",
       "      <td>0.657452</td>\n",
       "      <td>...</td>\n",
       "      <td>-0.376521</td>\n",
       "      <td>-0.008912</td>\n",
       "      <td>-0.002147</td>\n",
       "      <td>-0.069521</td>\n",
       "      <td>-0.119740</td>\n",
       "      <td>-0.341219</td>\n",
       "      <td>0.457231</td>\n",
       "      <td>-0.458056</td>\n",
       "      <td>0.435510</td>\n",
       "      <td>-0.126189</td>\n",
       "    </tr>\n",
       "    <tr>\n",
       "      <th>ENSG00000135245.9</th>\n",
       "      <td>0.853836</td>\n",
       "      <td>1.000000</td>\n",
       "      <td>0.675719</td>\n",
       "      <td>0.834496</td>\n",
       "      <td>0.422539</td>\n",
       "      <td>0.735840</td>\n",
       "      <td>0.233504</td>\n",
       "      <td>-0.574572</td>\n",
       "      <td>0.827193</td>\n",
       "      <td>0.626538</td>\n",
       "      <td>...</td>\n",
       "      <td>-0.350526</td>\n",
       "      <td>-0.017997</td>\n",
       "      <td>0.052715</td>\n",
       "      <td>0.029882</td>\n",
       "      <td>-0.129671</td>\n",
       "      <td>-0.361843</td>\n",
       "      <td>0.459400</td>\n",
       "      <td>-0.373947</td>\n",
       "      <td>0.449254</td>\n",
       "      <td>0.043939</td>\n",
       "    </tr>\n",
       "    <tr>\n",
       "      <th>ENSG00000163631.16</th>\n",
       "      <td>0.709240</td>\n",
       "      <td>0.675719</td>\n",
       "      <td>1.000000</td>\n",
       "      <td>0.683018</td>\n",
       "      <td>0.388814</td>\n",
       "      <td>0.730922</td>\n",
       "      <td>0.177607</td>\n",
       "      <td>-0.558213</td>\n",
       "      <td>0.667917</td>\n",
       "      <td>0.613913</td>\n",
       "      <td>...</td>\n",
       "      <td>-0.427955</td>\n",
       "      <td>-0.190712</td>\n",
       "      <td>-0.125631</td>\n",
       "      <td>-0.109937</td>\n",
       "      <td>-0.253229</td>\n",
       "      <td>-0.332238</td>\n",
       "      <td>0.205314</td>\n",
       "      <td>-0.452284</td>\n",
       "      <td>0.309117</td>\n",
       "      <td>-0.073344</td>\n",
       "    </tr>\n",
       "    <tr>\n",
       "      <th>ENSG00000277632.1</th>\n",
       "      <td>0.850371</td>\n",
       "      <td>0.834496</td>\n",
       "      <td>0.683018</td>\n",
       "      <td>1.000000</td>\n",
       "      <td>0.402836</td>\n",
       "      <td>0.756369</td>\n",
       "      <td>0.281333</td>\n",
       "      <td>-0.667793</td>\n",
       "      <td>0.808998</td>\n",
       "      <td>0.659031</td>\n",
       "      <td>...</td>\n",
       "      <td>-0.359078</td>\n",
       "      <td>-0.009396</td>\n",
       "      <td>0.047820</td>\n",
       "      <td>-0.001894</td>\n",
       "      <td>-0.076270</td>\n",
       "      <td>-0.343856</td>\n",
       "      <td>0.419410</td>\n",
       "      <td>-0.436411</td>\n",
       "      <td>0.546328</td>\n",
       "      <td>-0.080340</td>\n",
       "    </tr>\n",
       "    <tr>\n",
       "      <th>ENSG00000239839.6</th>\n",
       "      <td>0.379835</td>\n",
       "      <td>0.422539</td>\n",
       "      <td>0.388814</td>\n",
       "      <td>0.402836</td>\n",
       "      <td>1.000000</td>\n",
       "      <td>0.626519</td>\n",
       "      <td>0.045501</td>\n",
       "      <td>-0.341542</td>\n",
       "      <td>0.297492</td>\n",
       "      <td>0.691271</td>\n",
       "      <td>...</td>\n",
       "      <td>-0.212080</td>\n",
       "      <td>-0.041432</td>\n",
       "      <td>-0.137451</td>\n",
       "      <td>-0.072243</td>\n",
       "      <td>-0.097927</td>\n",
       "      <td>-0.151915</td>\n",
       "      <td>0.086806</td>\n",
       "      <td>-0.350749</td>\n",
       "      <td>0.188874</td>\n",
       "      <td>0.140163</td>\n",
       "    </tr>\n",
       "  </tbody>\n",
       "</table>\n",
       "<p>5 rows × 5000 columns</p>\n",
       "</div>"
      ],
      "text/plain": [
       "gene_ens_id         ENSG00000169429.10  ENSG00000135245.9  ENSG00000163631.16  \\\n",
       "gene_ens_id                                                                     \n",
       "ENSG00000169429.10            1.000000           0.853836            0.709240   \n",
       "ENSG00000135245.9             0.853836           1.000000            0.675719   \n",
       "ENSG00000163631.16            0.709240           0.675719            1.000000   \n",
       "ENSG00000277632.1             0.850371           0.834496            0.683018   \n",
       "ENSG00000239839.6             0.379835           0.422539            0.388814   \n",
       "\n",
       "gene_ens_id         ENSG00000277632.1  ENSG00000239839.6  ENSG00000186652.9  \\\n",
       "gene_ens_id                                                                   \n",
       "ENSG00000169429.10           0.850371           0.379835           0.760102   \n",
       "ENSG00000135245.9            0.834496           0.422539           0.735840   \n",
       "ENSG00000163631.16           0.683018           0.388814           0.730922   \n",
       "ENSG00000277632.1            1.000000           0.402836           0.756369   \n",
       "ENSG00000239839.6            0.402836           1.000000           0.626519   \n",
       "\n",
       "gene_ens_id         ENSG00000129824.15  ENSG00000152463.14  ENSG00000123689.5  \\\n",
       "gene_ens_id                                                                     \n",
       "ENSG00000169429.10            0.243599           -0.694446           0.866183   \n",
       "ENSG00000135245.9             0.233504           -0.574572           0.827193   \n",
       "ENSG00000163631.16            0.177607           -0.558213           0.667917   \n",
       "ENSG00000277632.1             0.281333           -0.667793           0.808998   \n",
       "ENSG00000239839.6             0.045501           -0.341542           0.297492   \n",
       "\n",
       "gene_ens_id         ENSG00000012223.12  ...  ENSG00000122033.14  \\\n",
       "gene_ens_id                             ...                       \n",
       "ENSG00000169429.10            0.657452  ...           -0.376521   \n",
       "ENSG00000135245.9             0.626538  ...           -0.350526   \n",
       "ENSG00000163631.16            0.613913  ...           -0.427955   \n",
       "ENSG00000277632.1             0.659031  ...           -0.359078   \n",
       "ENSG00000239839.6             0.691271  ...           -0.212080   \n",
       "\n",
       "gene_ens_id         ENSG00000145779.7  ENSG00000196396.9  ENSG00000216490.3  \\\n",
       "gene_ens_id                                                                   \n",
       "ENSG00000169429.10          -0.008912          -0.002147          -0.069521   \n",
       "ENSG00000135245.9           -0.017997           0.052715           0.029882   \n",
       "ENSG00000163631.16          -0.190712          -0.125631          -0.109937   \n",
       "ENSG00000277632.1           -0.009396           0.047820          -0.001894   \n",
       "ENSG00000239839.6           -0.041432          -0.137451          -0.072243   \n",
       "\n",
       "gene_ens_id         ENSG00000135521.8  ENSG00000198478.7  ENSG00000168137.15  \\\n",
       "gene_ens_id                                                                    \n",
       "ENSG00000169429.10          -0.119740          -0.341219            0.457231   \n",
       "ENSG00000135245.9           -0.129671          -0.361843            0.459400   \n",
       "ENSG00000163631.16          -0.253229          -0.332238            0.205314   \n",
       "ENSG00000277632.1           -0.076270          -0.343856            0.419410   \n",
       "ENSG00000239839.6           -0.097927          -0.151915            0.086806   \n",
       "\n",
       "gene_ens_id         ENSG00000182197.10  ENSG00000111641.11  ENSG00000168528.11  \n",
       "gene_ens_id                                                                     \n",
       "ENSG00000169429.10           -0.458056            0.435510           -0.126189  \n",
       "ENSG00000135245.9            -0.373947            0.449254            0.043939  \n",
       "ENSG00000163631.16           -0.452284            0.309117           -0.073344  \n",
       "ENSG00000277632.1            -0.436411            0.546328           -0.080340  \n",
       "ENSG00000239839.6            -0.350749            0.188874            0.140163  \n",
       "\n",
       "[5 rows x 5000 columns]"
      ]
     },
     "execution_count": 24,
     "metadata": {},
     "output_type": "execute_result"
    }
   ],
   "source": [
    "spearman_df.head()"
   ]
  },
  {
   "cell_type": "code",
   "execution_count": 25,
   "id": "f4dc03a1-e8bc-4e8c-a215-418b2ac5915e",
   "metadata": {
    "execution": {
     "iopub.execute_input": "2022-01-28T21:07:32.366213Z",
     "iopub.status.busy": "2022-01-28T21:07:32.365618Z",
     "iopub.status.idle": "2022-01-28T21:07:32.617619Z",
     "shell.execute_reply": "2022-01-28T21:07:32.617215Z"
    },
    "papermill": {
     "duration": 0.297337,
     "end_time": "2022-01-28T21:07:32.617718",
     "exception": false,
     "start_time": "2022-01-28T21:07:32.320381",
     "status": "completed"
    },
    "tags": []
   },
   "outputs": [],
   "source": [
    "spearman_df = get_upper_triag(spearman_df)"
   ]
  },
  {
   "cell_type": "code",
   "execution_count": 26,
   "id": "1b7f49ec-beb3-4d70-97ea-976c8c1d5580",
   "metadata": {
    "execution": {
     "iopub.execute_input": "2022-01-28T21:07:32.825607Z",
     "iopub.status.busy": "2022-01-28T21:07:32.801180Z",
     "iopub.status.idle": "2022-01-28T21:08:01.237165Z",
     "shell.execute_reply": "2022-01-28T21:08:01.236635Z"
    },
    "papermill": {
     "duration": 28.567603,
     "end_time": "2022-01-28T21:08:01.237276",
     "exception": false,
     "start_time": "2022-01-28T21:07:32.669673",
     "status": "completed"
    },
    "tags": []
   },
   "outputs": [],
   "source": [
    "# make spearman abs\n",
    "spearman_df = (\n",
    "    spearman_df.unstack()\n",
    "    .rename_axis((None, None))\n",
    "    .dropna()\n",
    "    .abs()\n",
    "    .sort_index()\n",
    "    .rename(\"spearman\")\n",
    ")"
   ]
  },
  {
   "cell_type": "code",
   "execution_count": 27,
   "id": "ad092d0a-c321-4d4f-9e55-0c287ce1ccc2",
   "metadata": {
    "execution": {
     "iopub.execute_input": "2022-01-28T21:08:01.328710Z",
     "iopub.status.busy": "2022-01-28T21:08:01.328208Z",
     "iopub.status.idle": "2022-01-28T21:08:01.330259Z",
     "shell.execute_reply": "2022-01-28T21:08:01.330592Z"
    },
    "papermill": {
     "duration": 0.048984,
     "end_time": "2022-01-28T21:08:01.330706",
     "exception": false,
     "start_time": "2022-01-28T21:08:01.281722",
     "status": "completed"
    },
    "tags": []
   },
   "outputs": [
    {
     "data": {
      "text/plain": [
       "(12497500,)"
      ]
     },
     "execution_count": 27,
     "metadata": {},
     "output_type": "execute_result"
    }
   ],
   "source": [
    "spearman_df.shape"
   ]
  },
  {
   "cell_type": "code",
   "execution_count": 28,
   "id": "11f46fa0-08b4-4907-aec2-a173fb459540",
   "metadata": {
    "execution": {
     "iopub.execute_input": "2022-01-28T21:08:01.422187Z",
     "iopub.status.busy": "2022-01-28T21:08:01.421605Z",
     "iopub.status.idle": "2022-01-28T21:08:01.423663Z",
     "shell.execute_reply": "2022-01-28T21:08:01.424023Z"
    },
    "papermill": {
     "duration": 0.050186,
     "end_time": "2022-01-28T21:08:01.424148",
     "exception": false,
     "start_time": "2022-01-28T21:08:01.373962",
     "status": "completed"
    },
    "tags": []
   },
   "outputs": [
    {
     "data": {
      "text/plain": [
       "ENSG00000000419.12  ENSG00000002834.17    0.786595\n",
       "                    ENSG00000002919.14    0.816991\n",
       "                    ENSG00000002933.7     0.004128\n",
       "                    ENSG00000003402.19    0.803653\n",
       "                    ENSG00000004478.7     0.231269\n",
       "Name: spearman, dtype: float64"
      ]
     },
     "execution_count": 28,
     "metadata": {},
     "output_type": "execute_result"
    }
   ],
   "source": [
    "spearman_df.head()"
   ]
  },
  {
   "cell_type": "markdown",
   "id": "f816809d-2024-4c2c-be4f-3c04e24ecfca",
   "metadata": {
    "papermill": {
     "duration": 0.042908,
     "end_time": "2022-01-28T21:08:01.511129",
     "exception": false,
     "start_time": "2022-01-28T21:08:01.468221",
     "status": "completed"
    },
    "tags": []
   },
   "source": [
    "## MIC"
   ]
  },
  {
   "cell_type": "code",
   "execution_count": 29,
   "id": "0eca6abc-692b-40ec-80b2-de6893f1ec26",
   "metadata": {
    "execution": {
     "iopub.execute_input": "2022-01-28T21:08:01.602405Z",
     "iopub.status.busy": "2022-01-28T21:08:01.601950Z",
     "iopub.status.idle": "2022-01-28T21:08:01.608243Z",
     "shell.execute_reply": "2022-01-28T21:08:01.607692Z"
    },
    "papermill": {
     "duration": 0.054417,
     "end_time": "2022-01-28T21:08:01.608339",
     "exception": false,
     "start_time": "2022-01-28T21:08:01.553922",
     "status": "completed"
    },
    "tags": []
   },
   "outputs": [],
   "source": [
    "mic_all_df = (\n",
    "    pd.read_pickle(\n",
    "        INPUT_DIR\n",
    "        / f\"gtex_v8_data_{GTEX_TISSUE}-{GENE_SEL_STRATEGY}-all-gene_pairs-sample_0-mic.pkl\"\n",
    "    )\n",
    "    .rename(\"mic\")\n",
    "    .to_frame()\n",
    ")"
   ]
  },
  {
   "cell_type": "code",
   "execution_count": 30,
   "id": "95ea17af-6518-48f9-bf11-06d09eef36a6",
   "metadata": {
    "execution": {
     "iopub.execute_input": "2022-01-28T21:08:01.699001Z",
     "iopub.status.busy": "2022-01-28T21:08:01.697958Z",
     "iopub.status.idle": "2022-01-28T21:08:01.700613Z",
     "shell.execute_reply": "2022-01-28T21:08:01.700973Z"
    },
    "papermill": {
     "duration": 0.048936,
     "end_time": "2022-01-28T21:08:01.701088",
     "exception": false,
     "start_time": "2022-01-28T21:08:01.652152",
     "status": "completed"
    },
    "tags": []
   },
   "outputs": [],
   "source": [
    "mic_all_df[\"mic_subset\"] = \"all\""
   ]
  },
  {
   "cell_type": "code",
   "execution_count": 31,
   "id": "d2937e82-50cc-4423-85ec-07935845de06",
   "metadata": {
    "execution": {
     "iopub.execute_input": "2022-01-28T21:08:01.798718Z",
     "iopub.status.busy": "2022-01-28T21:08:01.798244Z",
     "iopub.status.idle": "2022-01-28T21:08:01.800500Z",
     "shell.execute_reply": "2022-01-28T21:08:01.800901Z"
    },
    "papermill": {
     "duration": 0.056122,
     "end_time": "2022-01-28T21:08:01.801020",
     "exception": false,
     "start_time": "2022-01-28T21:08:01.744898",
     "status": "completed"
    },
    "tags": []
   },
   "outputs": [
    {
     "data": {
      "text/plain": [
       "(100000, 2)"
      ]
     },
     "execution_count": 31,
     "metadata": {},
     "output_type": "execute_result"
    }
   ],
   "source": [
    "mic_all_df.shape"
   ]
  },
  {
   "cell_type": "code",
   "execution_count": 32,
   "id": "e3978a11-c4b9-41a6-bcc1-c11a4ceb6ccd",
   "metadata": {
    "execution": {
     "iopub.execute_input": "2022-01-28T21:08:01.891494Z",
     "iopub.status.busy": "2022-01-28T21:08:01.891056Z",
     "iopub.status.idle": "2022-01-28T21:08:01.893215Z",
     "shell.execute_reply": "2022-01-28T21:08:01.892778Z"
    },
    "papermill": {
     "duration": 0.048053,
     "end_time": "2022-01-28T21:08:01.893307",
     "exception": false,
     "start_time": "2022-01-28T21:08:01.845254",
     "status": "completed"
    },
    "tags": []
   },
   "outputs": [],
   "source": [
    "# mic_agree_df = (\n",
    "#     pd.read_pickle(\n",
    "#         INPUT_DIR\n",
    "#         / f\"gene_pair_intersections-gtex_v8-{GTEX_TISSUE}-{GENE_SEL_STRATEGY}-agreements_sample_0-mic.pkl\"\n",
    "#     )\n",
    "#     .rename(\"mic\")\n",
    "#     .to_frame()\n",
    "# )"
   ]
  },
  {
   "cell_type": "code",
   "execution_count": 33,
   "id": "072cd312-5742-485b-a3af-a7ded6ab4889",
   "metadata": {
    "execution": {
     "iopub.execute_input": "2022-01-28T21:08:01.984040Z",
     "iopub.status.busy": "2022-01-28T21:08:01.983532Z",
     "iopub.status.idle": "2022-01-28T21:08:01.985023Z",
     "shell.execute_reply": "2022-01-28T21:08:01.985368Z"
    },
    "papermill": {
     "duration": 0.048704,
     "end_time": "2022-01-28T21:08:01.985484",
     "exception": false,
     "start_time": "2022-01-28T21:08:01.936780",
     "status": "completed"
    },
    "tags": []
   },
   "outputs": [],
   "source": [
    "# mic_agree_df[\"mic_subset\"] = \"agree\""
   ]
  },
  {
   "cell_type": "code",
   "execution_count": 34,
   "id": "da417e0c-d11e-4e6d-b489-356bf7f6cfbd",
   "metadata": {
    "execution": {
     "iopub.execute_input": "2022-01-28T21:08:02.076400Z",
     "iopub.status.busy": "2022-01-28T21:08:02.075908Z",
     "iopub.status.idle": "2022-01-28T21:08:02.077902Z",
     "shell.execute_reply": "2022-01-28T21:08:02.077452Z"
    },
    "papermill": {
     "duration": 0.048174,
     "end_time": "2022-01-28T21:08:02.077996",
     "exception": false,
     "start_time": "2022-01-28T21:08:02.029822",
     "status": "completed"
    },
    "tags": []
   },
   "outputs": [],
   "source": [
    "# mic_agree_df.shape"
   ]
  },
  {
   "cell_type": "code",
   "execution_count": 35,
   "id": "e2599f60-eb20-4bb7-b00b-aef192a2e298",
   "metadata": {
    "execution": {
     "iopub.execute_input": "2022-01-28T21:08:02.169785Z",
     "iopub.status.busy": "2022-01-28T21:08:02.169328Z",
     "iopub.status.idle": "2022-01-28T21:08:02.170811Z",
     "shell.execute_reply": "2022-01-28T21:08:02.171154Z"
    },
    "papermill": {
     "duration": 0.048746,
     "end_time": "2022-01-28T21:08:02.171269",
     "exception": false,
     "start_time": "2022-01-28T21:08:02.122523",
     "status": "completed"
    },
    "tags": []
   },
   "outputs": [],
   "source": [
    "# mic_disagree_df = (\n",
    "#     pd.read_pickle(\n",
    "#         INPUT_DIR\n",
    "#         / f\"gene_pair_intersections-gtex_v8-{GTEX_TISSUE}-{GENE_SEL_STRATEGY}-disagreements_sample_0-mic.pkl\"\n",
    "#     )\n",
    "#     .rename(\"mic\")\n",
    "#     .to_frame()\n",
    "# )"
   ]
  },
  {
   "cell_type": "code",
   "execution_count": 36,
   "id": "2e4905e2-fbf7-4df2-be70-00eda115324d",
   "metadata": {
    "execution": {
     "iopub.execute_input": "2022-01-28T21:08:02.261732Z",
     "iopub.status.busy": "2022-01-28T21:08:02.261258Z",
     "iopub.status.idle": "2022-01-28T21:08:02.263161Z",
     "shell.execute_reply": "2022-01-28T21:08:02.262791Z"
    },
    "papermill": {
     "duration": 0.048153,
     "end_time": "2022-01-28T21:08:02.263259",
     "exception": false,
     "start_time": "2022-01-28T21:08:02.215106",
     "status": "completed"
    },
    "tags": []
   },
   "outputs": [],
   "source": [
    "# mic_disagree_df[\"mic_subset\"] = \"disagree\""
   ]
  },
  {
   "cell_type": "code",
   "execution_count": 37,
   "id": "4d1d259a-1b73-4511-9d5e-bb757546bc55",
   "metadata": {
    "execution": {
     "iopub.execute_input": "2022-01-28T21:08:02.353644Z",
     "iopub.status.busy": "2022-01-28T21:08:02.353183Z",
     "iopub.status.idle": "2022-01-28T21:08:02.354770Z",
     "shell.execute_reply": "2022-01-28T21:08:02.355117Z"
    },
    "papermill": {
     "duration": 0.048113,
     "end_time": "2022-01-28T21:08:02.355234",
     "exception": false,
     "start_time": "2022-01-28T21:08:02.307121",
     "status": "completed"
    },
    "tags": []
   },
   "outputs": [],
   "source": [
    "# mic_disagree_df.shape"
   ]
  },
  {
   "cell_type": "code",
   "execution_count": 38,
   "id": "990e4da8-6cc3-48ef-b3bd-3884fd7b1c1a",
   "metadata": {
    "execution": {
     "iopub.execute_input": "2022-01-28T21:08:02.445397Z",
     "iopub.status.busy": "2022-01-28T21:08:02.444945Z",
     "iopub.status.idle": "2022-01-28T21:08:02.446868Z",
     "shell.execute_reply": "2022-01-28T21:08:02.446496Z"
    },
    "papermill": {
     "duration": 0.048022,
     "end_time": "2022-01-28T21:08:02.446967",
     "exception": false,
     "start_time": "2022-01-28T21:08:02.398945",
     "status": "completed"
    },
    "tags": []
   },
   "outputs": [],
   "source": [
    "# mic_df = pd.concat([mic_all_df, mic_agree_df, mic_disagree_df], axis=0).sort_index()\n",
    "mic_df = mic_all_df"
   ]
  },
  {
   "cell_type": "code",
   "execution_count": 39,
   "id": "05ccb39a-e0ff-4248-bb55-bae93781e22d",
   "metadata": {
    "execution": {
     "iopub.execute_input": "2022-01-28T21:08:02.538987Z",
     "iopub.status.busy": "2022-01-28T21:08:02.538530Z",
     "iopub.status.idle": "2022-01-28T21:08:02.546740Z",
     "shell.execute_reply": "2022-01-28T21:08:02.546308Z"
    },
    "papermill": {
     "duration": 0.056341,
     "end_time": "2022-01-28T21:08:02.546830",
     "exception": false,
     "start_time": "2022-01-28T21:08:02.490489",
     "status": "completed"
    },
    "tags": []
   },
   "outputs": [
    {
     "data": {
      "text/html": [
       "<div>\n",
       "<style scoped>\n",
       "    .dataframe tbody tr th:only-of-type {\n",
       "        vertical-align: middle;\n",
       "    }\n",
       "\n",
       "    .dataframe tbody tr th {\n",
       "        vertical-align: top;\n",
       "    }\n",
       "\n",
       "    .dataframe thead th {\n",
       "        text-align: right;\n",
       "    }\n",
       "</style>\n",
       "<table border=\"1\" class=\"dataframe\">\n",
       "  <thead>\n",
       "    <tr style=\"text-align: right;\">\n",
       "      <th></th>\n",
       "      <th></th>\n",
       "      <th>mic</th>\n",
       "      <th>mic_subset</th>\n",
       "    </tr>\n",
       "  </thead>\n",
       "  <tbody>\n",
       "    <tr>\n",
       "      <th>ENSG00000181192.11</th>\n",
       "      <th>ENSG00000144579.7</th>\n",
       "      <td>0.630906</td>\n",
       "      <td>all</td>\n",
       "    </tr>\n",
       "    <tr>\n",
       "      <th>ENSG00000111641.11</th>\n",
       "      <th>ENSG00000258476.5</th>\n",
       "      <td>0.210311</td>\n",
       "      <td>all</td>\n",
       "    </tr>\n",
       "    <tr>\n",
       "      <th>ENSG00000172081.13</th>\n",
       "      <th>ENSG00000130429.12</th>\n",
       "      <td>0.643822</td>\n",
       "      <td>all</td>\n",
       "    </tr>\n",
       "    <tr>\n",
       "      <th>ENSG00000105255.10</th>\n",
       "      <th>ENSG00000231721.6</th>\n",
       "      <td>0.385814</td>\n",
       "      <td>all</td>\n",
       "    </tr>\n",
       "    <tr>\n",
       "      <th>ENSG00000153310.19</th>\n",
       "      <th>ENSG00000241657.1</th>\n",
       "      <td>0.164555</td>\n",
       "      <td>all</td>\n",
       "    </tr>\n",
       "    <tr>\n",
       "      <th>...</th>\n",
       "      <th>...</th>\n",
       "      <td>...</td>\n",
       "      <td>...</td>\n",
       "    </tr>\n",
       "    <tr>\n",
       "      <th>ENSG00000170144.20</th>\n",
       "      <th>ENSG00000211818.1</th>\n",
       "      <td>0.332448</td>\n",
       "      <td>all</td>\n",
       "    </tr>\n",
       "    <tr>\n",
       "      <th>ENSG00000244682.7</th>\n",
       "      <th>ENSG00000233306.2</th>\n",
       "      <td>0.234344</td>\n",
       "      <td>all</td>\n",
       "    </tr>\n",
       "    <tr>\n",
       "      <th>ENSG00000168916.15</th>\n",
       "      <th>ENSG00000099725.14</th>\n",
       "      <td>0.143454</td>\n",
       "      <td>all</td>\n",
       "    </tr>\n",
       "    <tr>\n",
       "      <th>ENSG00000268758.7</th>\n",
       "      <th>ENSG00000163660.11</th>\n",
       "      <td>0.269739</td>\n",
       "      <td>all</td>\n",
       "    </tr>\n",
       "    <tr>\n",
       "      <th>ENSG00000188820.12</th>\n",
       "      <th>ENSG00000188672.17</th>\n",
       "      <td>0.149528</td>\n",
       "      <td>all</td>\n",
       "    </tr>\n",
       "  </tbody>\n",
       "</table>\n",
       "<p>100000 rows × 2 columns</p>\n",
       "</div>"
      ],
      "text/plain": [
       "                                            mic mic_subset\n",
       "ENSG00000181192.11 ENSG00000144579.7   0.630906        all\n",
       "ENSG00000111641.11 ENSG00000258476.5   0.210311        all\n",
       "ENSG00000172081.13 ENSG00000130429.12  0.643822        all\n",
       "ENSG00000105255.10 ENSG00000231721.6   0.385814        all\n",
       "ENSG00000153310.19 ENSG00000241657.1   0.164555        all\n",
       "...                                         ...        ...\n",
       "ENSG00000170144.20 ENSG00000211818.1   0.332448        all\n",
       "ENSG00000244682.7  ENSG00000233306.2   0.234344        all\n",
       "ENSG00000168916.15 ENSG00000099725.14  0.143454        all\n",
       "ENSG00000268758.7  ENSG00000163660.11  0.269739        all\n",
       "ENSG00000188820.12 ENSG00000188672.17  0.149528        all\n",
       "\n",
       "[100000 rows x 2 columns]"
      ]
     },
     "execution_count": 39,
     "metadata": {},
     "output_type": "execute_result"
    }
   ],
   "source": [
    "mic_df"
   ]
  },
  {
   "cell_type": "code",
   "execution_count": 40,
   "id": "976cfb0e-4838-4b64-9b01-b9c84fa36686",
   "metadata": {
    "execution": {
     "iopub.execute_input": "2022-01-28T21:08:02.637271Z",
     "iopub.status.busy": "2022-01-28T21:08:02.636787Z",
     "iopub.status.idle": "2022-01-28T21:08:02.643529Z",
     "shell.execute_reply": "2022-01-28T21:08:02.643928Z"
    },
    "papermill": {
     "duration": 0.05341,
     "end_time": "2022-01-28T21:08:02.644059",
     "exception": false,
     "start_time": "2022-01-28T21:08:02.590649",
     "status": "completed"
    },
    "tags": []
   },
   "outputs": [
    {
     "data": {
      "text/plain": [
       "True"
      ]
     },
     "execution_count": 40,
     "metadata": {},
     "output_type": "execute_result"
    }
   ],
   "source": [
    "mic_df.index.is_unique"
   ]
  },
  {
   "cell_type": "code",
   "execution_count": 41,
   "id": "1d04ecd5-1018-4dcc-8390-e5f62c165933",
   "metadata": {
    "execution": {
     "iopub.execute_input": "2022-01-28T21:08:02.735704Z",
     "iopub.status.busy": "2022-01-28T21:08:02.734416Z",
     "iopub.status.idle": "2022-01-28T21:08:02.762760Z",
     "shell.execute_reply": "2022-01-28T21:08:02.762192Z"
    },
    "papermill": {
     "duration": 0.074666,
     "end_time": "2022-01-28T21:08:02.762892",
     "exception": false,
     "start_time": "2022-01-28T21:08:02.688226",
     "status": "completed"
    },
    "tags": []
   },
   "outputs": [],
   "source": [
    "# indexes could not be unique (because one of the sames is from the entire universe of gene pairs)\n",
    "mic_df = mic_df[~mic_df.index.duplicated(keep=\"first\")]"
   ]
  },
  {
   "cell_type": "code",
   "execution_count": 42,
   "id": "8e45a8f8-2f95-46d5-9e7f-d68c9e48dfe6",
   "metadata": {
    "execution": {
     "iopub.execute_input": "2022-01-28T21:08:02.862122Z",
     "iopub.status.busy": "2022-01-28T21:08:02.861524Z",
     "iopub.status.idle": "2022-01-28T21:08:02.863818Z",
     "shell.execute_reply": "2022-01-28T21:08:02.864231Z"
    },
    "papermill": {
     "duration": 0.050628,
     "end_time": "2022-01-28T21:08:02.864345",
     "exception": false,
     "start_time": "2022-01-28T21:08:02.813717",
     "status": "completed"
    },
    "tags": []
   },
   "outputs": [
    {
     "data": {
      "text/plain": [
       "(100000, 2)"
      ]
     },
     "execution_count": 42,
     "metadata": {},
     "output_type": "execute_result"
    }
   ],
   "source": [
    "mic_df.shape"
   ]
  },
  {
   "cell_type": "markdown",
   "id": "d8ad7af3-5821-4501-b336-c01a4cfb78ec",
   "metadata": {
    "papermill": {
     "duration": 0.04396,
     "end_time": "2022-01-28T21:08:02.952957",
     "exception": false,
     "start_time": "2022-01-28T21:08:02.908997",
     "status": "completed"
    },
    "tags": []
   },
   "source": [
    "## Checks"
   ]
  },
  {
   "cell_type": "code",
   "execution_count": 43,
   "id": "b4006fb7-2a5b-45a7-b11a-249d8873f58b",
   "metadata": {
    "execution": {
     "iopub.execute_input": "2022-01-28T21:08:03.044878Z",
     "iopub.status.busy": "2022-01-28T21:08:03.043405Z",
     "iopub.status.idle": "2022-01-28T21:08:04.998018Z",
     "shell.execute_reply": "2022-01-28T21:08:04.997511Z"
    },
    "papermill": {
     "duration": 2.001106,
     "end_time": "2022-01-28T21:08:04.998126",
     "exception": false,
     "start_time": "2022-01-28T21:08:02.997020",
     "status": "completed"
    },
    "tags": []
   },
   "outputs": [],
   "source": [
    "assert (\n",
    "    clustermatch_df.index.intersection(mic_df.index).shape[0] == mic_df.index.shape[0]\n",
    ")"
   ]
  },
  {
   "cell_type": "code",
   "execution_count": 44,
   "id": "e858abf4-e822-47e4-9f70-125a69826bc6",
   "metadata": {
    "execution": {
     "iopub.execute_input": "2022-01-28T21:08:05.093167Z",
     "iopub.status.busy": "2022-01-28T21:08:05.092696Z",
     "iopub.status.idle": "2022-01-28T21:08:07.041142Z",
     "shell.execute_reply": "2022-01-28T21:08:07.040094Z"
    },
    "papermill": {
     "duration": 1.9954,
     "end_time": "2022-01-28T21:08:07.041407",
     "exception": false,
     "start_time": "2022-01-28T21:08:05.046007",
     "status": "completed"
    },
    "tags": []
   },
   "outputs": [],
   "source": [
    "assert pearson_df.index.intersection(mic_df.index).shape[0] == mic_df.index.shape[0]"
   ]
  },
  {
   "cell_type": "code",
   "execution_count": 45,
   "id": "9c5aa4bd-fb1d-4b3c-b45b-f28770249bf6",
   "metadata": {
    "execution": {
     "iopub.execute_input": "2022-01-28T21:08:07.152474Z",
     "iopub.status.busy": "2022-01-28T21:08:07.152004Z",
     "iopub.status.idle": "2022-01-28T21:08:09.136433Z",
     "shell.execute_reply": "2022-01-28T21:08:09.135917Z"
    },
    "papermill": {
     "duration": 2.032947,
     "end_time": "2022-01-28T21:08:09.136541",
     "exception": false,
     "start_time": "2022-01-28T21:08:07.103594",
     "status": "completed"
    },
    "tags": []
   },
   "outputs": [],
   "source": [
    "assert spearman_df.index.intersection(mic_df.index).shape[0] == mic_df.index.shape[0]"
   ]
  },
  {
   "cell_type": "markdown",
   "id": "3638377a-c786-42ba-8a13-55e424fc662c",
   "metadata": {
    "papermill": {
     "duration": 0.043766,
     "end_time": "2022-01-28T21:08:09.227881",
     "exception": false,
     "start_time": "2022-01-28T21:08:09.184115",
     "status": "completed"
    },
    "tags": []
   },
   "source": [
    "## Merge"
   ]
  },
  {
   "cell_type": "code",
   "execution_count": 46,
   "id": "cc8d2439-f340-45ef-b9fc-0febf1a66a16",
   "metadata": {
    "execution": {
     "iopub.execute_input": "2022-01-28T21:08:09.320706Z",
     "iopub.status.busy": "2022-01-28T21:08:09.320240Z",
     "iopub.status.idle": "2022-01-28T21:08:15.500549Z",
     "shell.execute_reply": "2022-01-28T21:08:15.499983Z"
    },
    "papermill": {
     "duration": 6.228081,
     "end_time": "2022-01-28T21:08:15.500668",
     "exception": false,
     "start_time": "2022-01-28T21:08:09.272587",
     "status": "completed"
    },
    "tags": []
   },
   "outputs": [],
   "source": [
    "df = pd.concat(\n",
    "    [clustermatch_df, pearson_df, spearman_df, mic_df], join=\"inner\", axis=1\n",
    ").sort_index()"
   ]
  },
  {
   "cell_type": "code",
   "execution_count": 47,
   "id": "cb4478c0-074e-459c-997f-cf2c0284a091",
   "metadata": {
    "execution": {
     "iopub.execute_input": "2022-01-28T21:08:15.595826Z",
     "iopub.status.busy": "2022-01-28T21:08:15.595307Z",
     "iopub.status.idle": "2022-01-28T21:08:15.598193Z",
     "shell.execute_reply": "2022-01-28T21:08:15.597754Z"
    },
    "papermill": {
     "duration": 0.049992,
     "end_time": "2022-01-28T21:08:15.598286",
     "exception": false,
     "start_time": "2022-01-28T21:08:15.548294",
     "status": "completed"
    },
    "tags": []
   },
   "outputs": [
    {
     "data": {
      "text/plain": [
       "(100000, 5)"
      ]
     },
     "metadata": {},
     "output_type": "display_data"
    }
   ],
   "source": [
    "display(df.shape)\n",
    "assert df.shape[0] == mic_df.shape[0]"
   ]
  },
  {
   "cell_type": "code",
   "execution_count": 48,
   "id": "04707437-0cbf-477a-a93a-0d7a164c028d",
   "metadata": {
    "execution": {
     "iopub.execute_input": "2022-01-28T21:08:15.691058Z",
     "iopub.status.busy": "2022-01-28T21:08:15.690618Z",
     "iopub.status.idle": "2022-01-28T21:08:15.698108Z",
     "shell.execute_reply": "2022-01-28T21:08:15.697663Z"
    },
    "papermill": {
     "duration": 0.054693,
     "end_time": "2022-01-28T21:08:15.698201",
     "exception": false,
     "start_time": "2022-01-28T21:08:15.643508",
     "status": "completed"
    },
    "tags": []
   },
   "outputs": [],
   "source": [
    "assert not df.isna().any().any()"
   ]
  },
  {
   "cell_type": "code",
   "execution_count": 49,
   "id": "facaa3ce-4324-4666-9c54-523b86669787",
   "metadata": {
    "execution": {
     "iopub.execute_input": "2022-01-28T21:08:15.796286Z",
     "iopub.status.busy": "2022-01-28T21:08:15.795718Z",
     "iopub.status.idle": "2022-01-28T21:08:15.798014Z",
     "shell.execute_reply": "2022-01-28T21:08:15.798452Z"
    },
    "papermill": {
     "duration": 0.05593,
     "end_time": "2022-01-28T21:08:15.798571",
     "exception": false,
     "start_time": "2022-01-28T21:08:15.742641",
     "status": "completed"
    },
    "tags": []
   },
   "outputs": [
    {
     "data": {
      "text/html": [
       "<div>\n",
       "<style scoped>\n",
       "    .dataframe tbody tr th:only-of-type {\n",
       "        vertical-align: middle;\n",
       "    }\n",
       "\n",
       "    .dataframe tbody tr th {\n",
       "        vertical-align: top;\n",
       "    }\n",
       "\n",
       "    .dataframe thead th {\n",
       "        text-align: right;\n",
       "    }\n",
       "</style>\n",
       "<table border=\"1\" class=\"dataframe\">\n",
       "  <thead>\n",
       "    <tr style=\"text-align: right;\">\n",
       "      <th></th>\n",
       "      <th></th>\n",
       "      <th>clustermatch</th>\n",
       "      <th>pearson</th>\n",
       "      <th>spearman</th>\n",
       "      <th>mic</th>\n",
       "      <th>mic_subset</th>\n",
       "    </tr>\n",
       "  </thead>\n",
       "  <tbody>\n",
       "    <tr>\n",
       "      <th rowspan=\"5\" valign=\"top\">ENSG00000000419.12</th>\n",
       "      <th>ENSG00000103335.21</th>\n",
       "      <td>0.026871</td>\n",
       "      <td>0.019368</td>\n",
       "      <td>0.001063</td>\n",
       "      <td>0.190166</td>\n",
       "      <td>all</td>\n",
       "    </tr>\n",
       "    <tr>\n",
       "      <th>ENSG00000118515.11</th>\n",
       "      <td>0.044350</td>\n",
       "      <td>0.159679</td>\n",
       "      <td>0.298670</td>\n",
       "      <td>0.202427</td>\n",
       "      <td>all</td>\n",
       "    </tr>\n",
       "    <tr>\n",
       "      <th>ENSG00000119013.8</th>\n",
       "      <td>0.411877</td>\n",
       "      <td>0.731489</td>\n",
       "      <td>0.800159</td>\n",
       "      <td>0.569112</td>\n",
       "      <td>all</td>\n",
       "    </tr>\n",
       "    <tr>\n",
       "      <th>ENSG00000126262.4</th>\n",
       "      <td>0.253667</td>\n",
       "      <td>0.525495</td>\n",
       "      <td>0.649911</td>\n",
       "      <td>0.391753</td>\n",
       "      <td>all</td>\n",
       "    </tr>\n",
       "    <tr>\n",
       "      <th>ENSG00000134686.18</th>\n",
       "      <td>0.184217</td>\n",
       "      <td>0.467763</td>\n",
       "      <td>0.548222</td>\n",
       "      <td>0.319649</td>\n",
       "      <td>all</td>\n",
       "    </tr>\n",
       "  </tbody>\n",
       "</table>\n",
       "</div>"
      ],
      "text/plain": [
       "                                       clustermatch   pearson  spearman  \\\n",
       "ENSG00000000419.12 ENSG00000103335.21      0.026871  0.019368  0.001063   \n",
       "                   ENSG00000118515.11      0.044350  0.159679  0.298670   \n",
       "                   ENSG00000119013.8       0.411877  0.731489  0.800159   \n",
       "                   ENSG00000126262.4       0.253667  0.525495  0.649911   \n",
       "                   ENSG00000134686.18      0.184217  0.467763  0.548222   \n",
       "\n",
       "                                            mic mic_subset  \n",
       "ENSG00000000419.12 ENSG00000103335.21  0.190166        all  \n",
       "                   ENSG00000118515.11  0.202427        all  \n",
       "                   ENSG00000119013.8   0.569112        all  \n",
       "                   ENSG00000126262.4   0.391753        all  \n",
       "                   ENSG00000134686.18  0.319649        all  "
      ]
     },
     "execution_count": 49,
     "metadata": {},
     "output_type": "execute_result"
    }
   ],
   "source": [
    "df.head()"
   ]
  },
  {
   "cell_type": "markdown",
   "id": "24a50051-141d-4ba0-ad33-3123b4afc1b6",
   "metadata": {
    "papermill": {
     "duration": 0.044853,
     "end_time": "2022-01-28T21:08:15.896145",
     "exception": false,
     "start_time": "2022-01-28T21:08:15.851292",
     "status": "completed"
    },
    "tags": []
   },
   "source": [
    "# Save"
   ]
  },
  {
   "cell_type": "code",
   "execution_count": 50,
   "id": "2f20fdf4-a44a-48c0-bbe1-8def473ac2a5",
   "metadata": {
    "execution": {
     "iopub.execute_input": "2022-01-28T21:08:15.989381Z",
     "iopub.status.busy": "2022-01-28T21:08:15.988926Z",
     "iopub.status.idle": "2022-01-28T21:08:15.998009Z",
     "shell.execute_reply": "2022-01-28T21:08:15.997543Z"
    },
    "papermill": {
     "duration": 0.056864,
     "end_time": "2022-01-28T21:08:15.998106",
     "exception": false,
     "start_time": "2022-01-28T21:08:15.941242",
     "status": "completed"
    },
    "tags": []
   },
   "outputs": [],
   "source": [
    "df.to_pickle(OUTPUT_FILE)"
   ]
  },
  {
   "cell_type": "code",
   "execution_count": null,
   "id": "8f464a7f-b76f-4898-8bf5-074eabd33626",
   "metadata": {
    "papermill": {
     "duration": 0.045283,
     "end_time": "2022-01-28T21:08:16.089335",
     "exception": false,
     "start_time": "2022-01-28T21:08:16.044052",
     "status": "completed"
    },
    "tags": []
   },
   "outputs": [],
   "source": []
  }
 ],
 "metadata": {
  "jupytext": {
   "cell_metadata_filter": "all,-execution,-papermill,-trusted"
  },
  "kernelspec": {
   "display_name": "Python 3 (ipykernel)",
   "language": "python",
   "name": "python3"
  },
  "language_info": {
   "codemirror_mode": {
    "name": "ipython",
    "version": 3
   },
   "file_extension": ".py",
   "mimetype": "text/x-python",
   "name": "python",
   "nbconvert_exporter": "python",
   "pygments_lexer": "ipython3",
   "version": "3.9.9"
  },
  "papermill": {
   "default_parameters": {},
   "duration": 106.874189,
   "end_time": "2022-01-28T21:08:16.453452",
   "environment_variables": {},
   "exception": null,
   "input_path": "nbs/20_comparison_others/50-combine_all.ipynb",
   "output_path": "nbs/20_comparison_others/50-combine_all.run.ipynb",
   "parameters": {
    "GTEX_TISSUE": "skin_sun_exposed_lower_leg"
   },
   "start_time": "2022-01-28T21:06:29.579263",
   "version": "2.3.3"
  }
 },
 "nbformat": 4,
 "nbformat_minor": 5
}
