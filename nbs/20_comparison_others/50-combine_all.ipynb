{
 "cells": [
  {
   "cell_type": "markdown",
   "id": "c1948eb4-fb63-4fad-8243-bcd57b98def3",
   "metadata": {
    "papermill": {
     "duration": 0.028961,
     "end_time": "2022-05-31T13:53:54.835496",
     "exception": false,
     "start_time": "2022-05-31T13:53:54.806535",
     "status": "completed"
    },
    "tags": []
   },
   "source": [
    "# Description"
   ]
  },
  {
   "cell_type": "markdown",
   "id": "0abb1d73-c786-4c6d-9dc2-b9243e5183e2",
   "metadata": {
    "papermill": {
     "duration": 0.00917,
     "end_time": "2022-05-31T13:53:54.861827",
     "exception": false,
     "start_time": "2022-05-31T13:53:54.852657",
     "status": "completed"
    },
    "tags": []
   },
   "source": [
    "It combines all coefficient values in one tissue (see `Settings` below) into a single dataframe for easier processing later.\n",
    "\n",
    "This notebook incorporates results using MIC, which was computed only in a subset of gene pairs due to its computational complexity."
   ]
  },
  {
   "cell_type": "markdown",
   "id": "d6252b4c-6d56-4cf0-aecd-5d8c769a3609",
   "metadata": {
    "papermill": {
     "duration": 0.006069,
     "end_time": "2022-05-31T13:53:54.875161",
     "exception": false,
     "start_time": "2022-05-31T13:53:54.869092",
     "status": "completed"
    },
    "tags": []
   },
   "source": [
    "# Modules loading"
   ]
  },
  {
   "cell_type": "code",
   "execution_count": 1,
   "id": "77e9d29d-5307-4b4a-b103-7d1fbd6a7e56",
   "metadata": {
    "execution": {
     "iopub.execute_input": "2022-05-31T13:53:54.888311Z",
     "iopub.status.busy": "2022-05-31T13:53:54.888063Z",
     "iopub.status.idle": "2022-05-31T13:53:55.156301Z",
     "shell.execute_reply": "2022-05-31T13:53:55.155602Z"
    },
    "papermill": {
     "duration": 0.276762,
     "end_time": "2022-05-31T13:53:55.157971",
     "exception": false,
     "start_time": "2022-05-31T13:53:54.881209",
     "status": "completed"
    },
    "tags": []
   },
   "outputs": [],
   "source": [
    "import pandas as pd\n",
    "\n",
    "from clustermatch import conf\n",
    "from clustermatch.utils import get_upper_triag"
   ]
  },
  {
   "cell_type": "markdown",
   "id": "262eb535-3e5d-43d7-9efd-bd6cfdac9190",
   "metadata": {
    "papermill": {
     "duration": 0.005943,
     "end_time": "2022-05-31T13:53:55.170204",
     "exception": false,
     "start_time": "2022-05-31T13:53:55.164261",
     "status": "completed"
    },
    "tags": []
   },
   "source": [
    "# Settings"
   ]
  },
  {
   "cell_type": "code",
   "execution_count": 2,
   "id": "2d2bd14a-a40d-4710-98c2-587148d0f532",
   "metadata": {
    "execution": {
     "iopub.execute_input": "2022-05-31T13:53:55.183237Z",
     "iopub.status.busy": "2022-05-31T13:53:55.183023Z",
     "iopub.status.idle": "2022-05-31T13:53:55.186284Z",
     "shell.execute_reply": "2022-05-31T13:53:55.185900Z"
    },
    "papermill": {
     "duration": 0.011338,
     "end_time": "2022-05-31T13:53:55.187571",
     "exception": false,
     "start_time": "2022-05-31T13:53:55.176233",
     "status": "completed"
    },
    "tags": []
   },
   "outputs": [],
   "source": [
    "DATASET_CONFIG = conf.GTEX\n",
    "# whole blood by default, but this is a parameters cells that can be changed when running papermill\n",
    "GTEX_TISSUE = \"whole_blood\"\n",
    "GENE_SEL_STRATEGY = \"var_pc_log2\"\n",
    "\n",
    "METHOD_NAME = \"mic\""
   ]
  },
  {
   "cell_type": "markdown",
   "id": "eec9bb6d-4ba2-4817-9b36-bc8e68a2beae",
   "metadata": {
    "papermill": {
     "duration": 0.006142,
     "end_time": "2022-05-31T13:53:55.200251",
     "exception": false,
     "start_time": "2022-05-31T13:53:55.194109",
     "status": "completed"
    },
    "tags": []
   },
   "source": [
    "# Paths"
   ]
  },
  {
   "cell_type": "code",
   "execution_count": 3,
   "id": "ea7dd904-cba8-41ce-ae8b-0fdf9bf69085",
   "metadata": {
    "execution": {
     "iopub.execute_input": "2022-05-31T13:53:55.213270Z",
     "iopub.status.busy": "2022-05-31T13:53:55.213067Z",
     "iopub.status.idle": "2022-05-31T13:53:55.222174Z",
     "shell.execute_reply": "2022-05-31T13:53:55.221691Z"
    },
    "papermill": {
     "duration": 0.017257,
     "end_time": "2022-05-31T13:53:55.223592",
     "exception": false,
     "start_time": "2022-05-31T13:53:55.206335",
     "status": "completed"
    },
    "tags": []
   },
   "outputs": [
    {
     "data": {
      "text/plain": [
       "PosixPath('/opt/data/results/gtex_v8/comparison_others')"
      ]
     },
     "metadata": {},
     "output_type": "display_data"
    }
   ],
   "source": [
    "COMPARISONS_DIR = DATASET_CONFIG[\"RESULTS_DIR\"] / \"comparison_others\"\n",
    "display(COMPARISONS_DIR)"
   ]
  },
  {
   "cell_type": "code",
   "execution_count": 4,
   "id": "a4d3fdfe-5fe8-4248-bffe-fc3b9d1b349f",
   "metadata": {
    "execution": {
     "iopub.execute_input": "2022-05-31T13:53:55.237618Z",
     "iopub.status.busy": "2022-05-31T13:53:55.237461Z",
     "iopub.status.idle": "2022-05-31T13:53:55.241286Z",
     "shell.execute_reply": "2022-05-31T13:53:55.240852Z"
    },
    "papermill": {
     "duration": 0.012285,
     "end_time": "2022-05-31T13:53:55.242611",
     "exception": false,
     "start_time": "2022-05-31T13:53:55.230326",
     "status": "completed"
    },
    "tags": []
   },
   "outputs": [
    {
     "data": {
      "text/plain": [
       "PosixPath('/opt/data/results/gtex_v8/comparison_others/mic')"
      ]
     },
     "metadata": {},
     "output_type": "display_data"
    }
   ],
   "source": [
    "INPUT_DIR = COMPARISONS_DIR / METHOD_NAME\n",
    "display(INPUT_DIR)"
   ]
  },
  {
   "cell_type": "code",
   "execution_count": 5,
   "id": "4a461c40-e70e-4d8d-9afd-49d970dca889",
   "metadata": {
    "execution": {
     "iopub.execute_input": "2022-05-31T13:53:55.256651Z",
     "iopub.status.busy": "2022-05-31T13:53:55.256495Z",
     "iopub.status.idle": "2022-05-31T13:53:55.260422Z",
     "shell.execute_reply": "2022-05-31T13:53:55.260033Z"
    },
    "papermill": {
     "duration": 0.012329,
     "end_time": "2022-05-31T13:53:55.261659",
     "exception": false,
     "start_time": "2022-05-31T13:53:55.249330",
     "status": "completed"
    },
    "tags": []
   },
   "outputs": [
    {
     "data": {
      "text/plain": [
       "PosixPath('/opt/data/results/gtex_v8/similarity_matrices/gtex_v8_data_{tissue}-{gene_sel_strategy}-{corr_method}.pkl')"
      ]
     },
     "metadata": {},
     "output_type": "display_data"
    }
   ],
   "source": [
    "INPUT_CORR_FILE_TEMPLATE = (\n",
    "    DATASET_CONFIG[\"SIMILARITY_MATRICES_DIR\"]\n",
    "    / DATASET_CONFIG[\"SIMILARITY_MATRIX_FILENAME_TEMPLATE\"]\n",
    ")\n",
    "display(INPUT_CORR_FILE_TEMPLATE)"
   ]
  },
  {
   "cell_type": "code",
   "execution_count": 6,
   "id": "34c70f63-0878-4f29-9ea5-2570e6f9f33b",
   "metadata": {
    "execution": {
     "iopub.execute_input": "2022-05-31T13:53:55.276245Z",
     "iopub.status.busy": "2022-05-31T13:53:55.276081Z",
     "iopub.status.idle": "2022-05-31T13:53:55.280168Z",
     "shell.execute_reply": "2022-05-31T13:53:55.279720Z"
    },
    "papermill": {
     "duration": 0.012724,
     "end_time": "2022-05-31T13:53:55.281428",
     "exception": false,
     "start_time": "2022-05-31T13:53:55.268704",
     "status": "completed"
    },
    "tags": []
   },
   "outputs": [
    {
     "data": {
      "text/plain": [
       "PosixPath('/opt/data/results/gtex_v8/similarity_matrices/gtex_v8_data_{tissue}-{gene_sel_strategy}-{corr_method}.pkl')"
      ]
     },
     "metadata": {},
     "output_type": "display_data"
    }
   ],
   "source": [
    "INPUT_CORR_FILE_TEMPLATE = (\n",
    "    DATASET_CONFIG[\"SIMILARITY_MATRICES_DIR\"]\n",
    "    / DATASET_CONFIG[\"SIMILARITY_MATRIX_FILENAME_TEMPLATE\"]\n",
    ")\n",
    "display(INPUT_CORR_FILE_TEMPLATE)"
   ]
  },
  {
   "cell_type": "code",
   "execution_count": 7,
   "id": "92b9bfd4",
   "metadata": {
    "execution": {
     "iopub.execute_input": "2022-05-31T13:53:55.295795Z",
     "iopub.status.busy": "2022-05-31T13:53:55.295639Z",
     "iopub.status.idle": "2022-05-31T13:53:55.299899Z",
     "shell.execute_reply": "2022-05-31T13:53:55.299442Z"
    },
    "papermill": {
     "duration": 0.012878,
     "end_time": "2022-05-31T13:53:55.301184",
     "exception": false,
     "start_time": "2022-05-31T13:53:55.288306",
     "status": "completed"
    },
    "tags": []
   },
   "outputs": [
    {
     "data": {
      "text/plain": [
       "PosixPath('/opt/data/results/gtex_v8/comparison_others/gtex_v8_data_whole_blood-var_pc_log2-all.pkl')"
      ]
     },
     "metadata": {},
     "output_type": "display_data"
    }
   ],
   "source": [
    "OUTPUT_FILE = (\n",
    "    COMPARISONS_DIR / f\"gtex_v8_data_{GTEX_TISSUE}-{GENE_SEL_STRATEGY}-all.pkl\"\n",
    ")\n",
    "display(OUTPUT_FILE)"
   ]
  },
  {
   "cell_type": "markdown",
   "id": "e2746a93-d631-4346-9d10-a5c1f9f8de4a",
   "metadata": {
    "papermill": {
     "duration": 0.03017,
     "end_time": "2022-05-31T13:53:55.338461",
     "exception": false,
     "start_time": "2022-05-31T13:53:55.308291",
     "status": "completed"
    },
    "tags": []
   },
   "source": [
    "# Load data"
   ]
  },
  {
   "cell_type": "markdown",
   "id": "daf60f94-dbb9-48dd-9f9a-9e9e4d21c961",
   "metadata": {
    "papermill": {
     "duration": 0.008273,
     "end_time": "2022-05-31T13:53:55.355439",
     "exception": false,
     "start_time": "2022-05-31T13:53:55.347166",
     "status": "completed"
    },
    "tags": []
   },
   "source": [
    "## Clustermatch"
   ]
  },
  {
   "cell_type": "code",
   "execution_count": 8,
   "id": "e88dd03a-4a55-43c0-81a9-45b6332b765a",
   "metadata": {
    "execution": {
     "iopub.execute_input": "2022-05-31T13:53:55.372940Z",
     "iopub.status.busy": "2022-05-31T13:53:55.372432Z",
     "iopub.status.idle": "2022-05-31T13:53:55.462305Z",
     "shell.execute_reply": "2022-05-31T13:53:55.461785Z"
    },
    "papermill": {
     "duration": 0.100199,
     "end_time": "2022-05-31T13:53:55.463860",
     "exception": false,
     "start_time": "2022-05-31T13:53:55.363661",
     "status": "completed"
    },
    "tags": []
   },
   "outputs": [],
   "source": [
    "clustermatch_df = pd.read_pickle(\n",
    "    str(INPUT_CORR_FILE_TEMPLATE).format(\n",
    "        tissue=GTEX_TISSUE,\n",
    "        gene_sel_strategy=GENE_SEL_STRATEGY,\n",
    "        corr_method=\"clustermatch\",\n",
    "    )\n",
    ")"
   ]
  },
  {
   "cell_type": "code",
   "execution_count": 9,
   "id": "e86cc78e-56f4-4c71-b4d9-b2be40503470",
   "metadata": {
    "execution": {
     "iopub.execute_input": "2022-05-31T13:53:55.480004Z",
     "iopub.status.busy": "2022-05-31T13:53:55.479830Z",
     "iopub.status.idle": "2022-05-31T13:53:55.483639Z",
     "shell.execute_reply": "2022-05-31T13:53:55.483259Z"
    },
    "papermill": {
     "duration": 0.013285,
     "end_time": "2022-05-31T13:53:55.484997",
     "exception": false,
     "start_time": "2022-05-31T13:53:55.471712",
     "status": "completed"
    },
    "tags": []
   },
   "outputs": [
    {
     "data": {
      "text/plain": [
       "(5000, 5000)"
      ]
     },
     "execution_count": 9,
     "metadata": {},
     "output_type": "execute_result"
    }
   ],
   "source": [
    "clustermatch_df.shape"
   ]
  },
  {
   "cell_type": "code",
   "execution_count": 10,
   "id": "ad07b974-791a-4346-8bdf-770e54a32bab",
   "metadata": {
    "execution": {
     "iopub.execute_input": "2022-05-31T13:53:55.500615Z",
     "iopub.status.busy": "2022-05-31T13:53:55.500407Z",
     "iopub.status.idle": "2022-05-31T13:53:55.519355Z",
     "shell.execute_reply": "2022-05-31T13:53:55.518857Z"
    },
    "papermill": {
     "duration": 0.028095,
     "end_time": "2022-05-31T13:53:55.520678",
     "exception": false,
     "start_time": "2022-05-31T13:53:55.492583",
     "status": "completed"
    },
    "tags": []
   },
   "outputs": [
    {
     "data": {
      "text/html": [
       "<div>\n",
       "<style scoped>\n",
       "    .dataframe tbody tr th:only-of-type {\n",
       "        vertical-align: middle;\n",
       "    }\n",
       "\n",
       "    .dataframe tbody tr th {\n",
       "        vertical-align: top;\n",
       "    }\n",
       "\n",
       "    .dataframe thead th {\n",
       "        text-align: right;\n",
       "    }\n",
       "</style>\n",
       "<table border=\"1\" class=\"dataframe\">\n",
       "  <thead>\n",
       "    <tr style=\"text-align: right;\">\n",
       "      <th>gene_ens_id</th>\n",
       "      <th>ENSG00000169429.10</th>\n",
       "      <th>ENSG00000135245.9</th>\n",
       "      <th>ENSG00000163631.16</th>\n",
       "      <th>ENSG00000277632.1</th>\n",
       "      <th>ENSG00000239839.6</th>\n",
       "      <th>ENSG00000186652.9</th>\n",
       "      <th>ENSG00000129824.15</th>\n",
       "      <th>ENSG00000152463.14</th>\n",
       "      <th>ENSG00000123689.5</th>\n",
       "      <th>ENSG00000012223.12</th>\n",
       "      <th>...</th>\n",
       "      <th>ENSG00000122033.14</th>\n",
       "      <th>ENSG00000145779.7</th>\n",
       "      <th>ENSG00000196396.9</th>\n",
       "      <th>ENSG00000216490.3</th>\n",
       "      <th>ENSG00000135521.8</th>\n",
       "      <th>ENSG00000198478.7</th>\n",
       "      <th>ENSG00000168137.15</th>\n",
       "      <th>ENSG00000182197.10</th>\n",
       "      <th>ENSG00000111641.11</th>\n",
       "      <th>ENSG00000168528.11</th>\n",
       "    </tr>\n",
       "    <tr>\n",
       "      <th>gene_ens_id</th>\n",
       "      <th></th>\n",
       "      <th></th>\n",
       "      <th></th>\n",
       "      <th></th>\n",
       "      <th></th>\n",
       "      <th></th>\n",
       "      <th></th>\n",
       "      <th></th>\n",
       "      <th></th>\n",
       "      <th></th>\n",
       "      <th></th>\n",
       "      <th></th>\n",
       "      <th></th>\n",
       "      <th></th>\n",
       "      <th></th>\n",
       "      <th></th>\n",
       "      <th></th>\n",
       "      <th></th>\n",
       "      <th></th>\n",
       "      <th></th>\n",
       "      <th></th>\n",
       "    </tr>\n",
       "  </thead>\n",
       "  <tbody>\n",
       "    <tr>\n",
       "      <th>ENSG00000169429.10</th>\n",
       "      <td>1.000000</td>\n",
       "      <td>0.780181</td>\n",
       "      <td>0.401717</td>\n",
       "      <td>0.789583</td>\n",
       "      <td>0.139359</td>\n",
       "      <td>0.524274</td>\n",
       "      <td>0.048667</td>\n",
       "      <td>0.365544</td>\n",
       "      <td>0.799041</td>\n",
       "      <td>0.343411</td>\n",
       "      <td>...</td>\n",
       "      <td>0.212632</td>\n",
       "      <td>0.037166</td>\n",
       "      <td>0.012264</td>\n",
       "      <td>0.016958</td>\n",
       "      <td>0.053866</td>\n",
       "      <td>0.133457</td>\n",
       "      <td>0.081476</td>\n",
       "      <td>0.212632</td>\n",
       "      <td>0.112897</td>\n",
       "      <td>0.022719</td>\n",
       "    </tr>\n",
       "    <tr>\n",
       "      <th>ENSG00000135245.9</th>\n",
       "      <td>0.780181</td>\n",
       "      <td>1.000000</td>\n",
       "      <td>0.429092</td>\n",
       "      <td>0.780181</td>\n",
       "      <td>0.159947</td>\n",
       "      <td>0.516615</td>\n",
       "      <td>0.042631</td>\n",
       "      <td>0.334136</td>\n",
       "      <td>0.752314</td>\n",
       "      <td>0.355974</td>\n",
       "      <td>...</td>\n",
       "      <td>0.237858</td>\n",
       "      <td>0.051243</td>\n",
       "      <td>0.042777</td>\n",
       "      <td>0.035816</td>\n",
       "      <td>0.094566</td>\n",
       "      <td>0.145388</td>\n",
       "      <td>0.075009</td>\n",
       "      <td>0.217565</td>\n",
       "      <td>0.099542</td>\n",
       "      <td>0.019660</td>\n",
       "    </tr>\n",
       "    <tr>\n",
       "      <th>ENSG00000163631.16</th>\n",
       "      <td>0.401717</td>\n",
       "      <td>0.429092</td>\n",
       "      <td>1.000000</td>\n",
       "      <td>0.408476</td>\n",
       "      <td>0.127681</td>\n",
       "      <td>0.401717</td>\n",
       "      <td>0.020316</td>\n",
       "      <td>0.232700</td>\n",
       "      <td>0.381776</td>\n",
       "      <td>0.261762</td>\n",
       "      <td>...</td>\n",
       "      <td>0.153623</td>\n",
       "      <td>0.041971</td>\n",
       "      <td>0.008775</td>\n",
       "      <td>0.009087</td>\n",
       "      <td>0.053706</td>\n",
       "      <td>0.090792</td>\n",
       "      <td>0.021106</td>\n",
       "      <td>0.153623</td>\n",
       "      <td>0.047663</td>\n",
       "      <td>0.009211</td>\n",
       "    </tr>\n",
       "    <tr>\n",
       "      <th>ENSG00000277632.1</th>\n",
       "      <td>0.789583</td>\n",
       "      <td>0.780181</td>\n",
       "      <td>0.408476</td>\n",
       "      <td>1.000000</td>\n",
       "      <td>0.151543</td>\n",
       "      <td>0.547588</td>\n",
       "      <td>0.055712</td>\n",
       "      <td>0.346530</td>\n",
       "      <td>0.761547</td>\n",
       "      <td>0.381776</td>\n",
       "      <td>...</td>\n",
       "      <td>0.222554</td>\n",
       "      <td>0.036365</td>\n",
       "      <td>0.023933</td>\n",
       "      <td>0.017412</td>\n",
       "      <td>0.044225</td>\n",
       "      <td>0.129593</td>\n",
       "      <td>0.065463</td>\n",
       "      <td>0.188812</td>\n",
       "      <td>0.147426</td>\n",
       "      <td>0.011364</td>\n",
       "    </tr>\n",
       "    <tr>\n",
       "      <th>ENSG00000239839.6</th>\n",
       "      <td>0.139359</td>\n",
       "      <td>0.159947</td>\n",
       "      <td>0.127681</td>\n",
       "      <td>0.151543</td>\n",
       "      <td>1.000000</td>\n",
       "      <td>0.272752</td>\n",
       "      <td>0.008065</td>\n",
       "      <td>0.100699</td>\n",
       "      <td>0.135411</td>\n",
       "      <td>0.318958</td>\n",
       "      <td>...</td>\n",
       "      <td>0.048843</td>\n",
       "      <td>0.012149</td>\n",
       "      <td>0.018039</td>\n",
       "      <td>0.005696</td>\n",
       "      <td>0.021103</td>\n",
       "      <td>0.022719</td>\n",
       "      <td>0.003596</td>\n",
       "      <td>0.100699</td>\n",
       "      <td>0.018589</td>\n",
       "      <td>0.010845</td>\n",
       "    </tr>\n",
       "  </tbody>\n",
       "</table>\n",
       "<p>5 rows × 5000 columns</p>\n",
       "</div>"
      ],
      "text/plain": [
       "gene_ens_id         ENSG00000169429.10  ENSG00000135245.9  ENSG00000163631.16  \\\n",
       "gene_ens_id                                                                     \n",
       "ENSG00000169429.10            1.000000           0.780181            0.401717   \n",
       "ENSG00000135245.9             0.780181           1.000000            0.429092   \n",
       "ENSG00000163631.16            0.401717           0.429092            1.000000   \n",
       "ENSG00000277632.1             0.789583           0.780181            0.408476   \n",
       "ENSG00000239839.6             0.139359           0.159947            0.127681   \n",
       "\n",
       "gene_ens_id         ENSG00000277632.1  ENSG00000239839.6  ENSG00000186652.9  \\\n",
       "gene_ens_id                                                                   \n",
       "ENSG00000169429.10           0.789583           0.139359           0.524274   \n",
       "ENSG00000135245.9            0.780181           0.159947           0.516615   \n",
       "ENSG00000163631.16           0.408476           0.127681           0.401717   \n",
       "ENSG00000277632.1            1.000000           0.151543           0.547588   \n",
       "ENSG00000239839.6            0.151543           1.000000           0.272752   \n",
       "\n",
       "gene_ens_id         ENSG00000129824.15  ENSG00000152463.14  ENSG00000123689.5  \\\n",
       "gene_ens_id                                                                     \n",
       "ENSG00000169429.10            0.048667            0.365544           0.799041   \n",
       "ENSG00000135245.9             0.042631            0.334136           0.752314   \n",
       "ENSG00000163631.16            0.020316            0.232700           0.381776   \n",
       "ENSG00000277632.1             0.055712            0.346530           0.761547   \n",
       "ENSG00000239839.6             0.008065            0.100699           0.135411   \n",
       "\n",
       "gene_ens_id         ENSG00000012223.12  ...  ENSG00000122033.14  \\\n",
       "gene_ens_id                             ...                       \n",
       "ENSG00000169429.10            0.343411  ...            0.212632   \n",
       "ENSG00000135245.9             0.355974  ...            0.237858   \n",
       "ENSG00000163631.16            0.261762  ...            0.153623   \n",
       "ENSG00000277632.1             0.381776  ...            0.222554   \n",
       "ENSG00000239839.6             0.318958  ...            0.048843   \n",
       "\n",
       "gene_ens_id         ENSG00000145779.7  ENSG00000196396.9  ENSG00000216490.3  \\\n",
       "gene_ens_id                                                                   \n",
       "ENSG00000169429.10           0.037166           0.012264           0.016958   \n",
       "ENSG00000135245.9            0.051243           0.042777           0.035816   \n",
       "ENSG00000163631.16           0.041971           0.008775           0.009087   \n",
       "ENSG00000277632.1            0.036365           0.023933           0.017412   \n",
       "ENSG00000239839.6            0.012149           0.018039           0.005696   \n",
       "\n",
       "gene_ens_id         ENSG00000135521.8  ENSG00000198478.7  ENSG00000168137.15  \\\n",
       "gene_ens_id                                                                    \n",
       "ENSG00000169429.10           0.053866           0.133457            0.081476   \n",
       "ENSG00000135245.9            0.094566           0.145388            0.075009   \n",
       "ENSG00000163631.16           0.053706           0.090792            0.021106   \n",
       "ENSG00000277632.1            0.044225           0.129593            0.065463   \n",
       "ENSG00000239839.6            0.021103           0.022719            0.003596   \n",
       "\n",
       "gene_ens_id         ENSG00000182197.10  ENSG00000111641.11  ENSG00000168528.11  \n",
       "gene_ens_id                                                                     \n",
       "ENSG00000169429.10            0.212632            0.112897            0.022719  \n",
       "ENSG00000135245.9             0.217565            0.099542            0.019660  \n",
       "ENSG00000163631.16            0.153623            0.047663            0.009211  \n",
       "ENSG00000277632.1             0.188812            0.147426            0.011364  \n",
       "ENSG00000239839.6             0.100699            0.018589            0.010845  \n",
       "\n",
       "[5 rows x 5000 columns]"
      ]
     },
     "execution_count": 10,
     "metadata": {},
     "output_type": "execute_result"
    }
   ],
   "source": [
    "clustermatch_df.head()"
   ]
  },
  {
   "cell_type": "code",
   "execution_count": 11,
   "id": "fd6fb195-904a-4f2c-acea-49f912dc29db",
   "metadata": {
    "execution": {
     "iopub.execute_input": "2022-05-31T13:53:55.536412Z",
     "iopub.status.busy": "2022-05-31T13:53:55.536205Z",
     "iopub.status.idle": "2022-05-31T13:53:55.763156Z",
     "shell.execute_reply": "2022-05-31T13:53:55.761239Z"
    },
    "papermill": {
     "duration": 0.240202,
     "end_time": "2022-05-31T13:53:55.768436",
     "exception": false,
     "start_time": "2022-05-31T13:53:55.528234",
     "status": "completed"
    },
    "tags": []
   },
   "outputs": [],
   "source": [
    "clustermatch_df = get_upper_triag(clustermatch_df)"
   ]
  },
  {
   "cell_type": "code",
   "execution_count": 12,
   "id": "5d183d84-04e5-426e-83c0-23911cb50a53",
   "metadata": {
    "execution": {
     "iopub.execute_input": "2022-05-31T13:53:55.796309Z",
     "iopub.status.busy": "2022-05-31T13:53:55.796140Z",
     "iopub.status.idle": "2022-05-31T13:54:25.248775Z",
     "shell.execute_reply": "2022-05-31T13:54:25.248173Z"
    },
    "papermill": {
     "duration": 29.464856,
     "end_time": "2022-05-31T13:54:25.250508",
     "exception": false,
     "start_time": "2022-05-31T13:53:55.785652",
     "status": "completed"
    },
    "tags": []
   },
   "outputs": [],
   "source": [
    "clustermatch_df = (\n",
    "    clustermatch_df.unstack()\n",
    "    .rename_axis((None, None))\n",
    "    .dropna()\n",
    "    .sort_index()\n",
    "    .rename(\"clustermatch\")\n",
    ")"
   ]
  },
  {
   "cell_type": "code",
   "execution_count": 13,
   "id": "89a5d232-fabb-440b-a1f7-1c4c50fb5ba8",
   "metadata": {
    "execution": {
     "iopub.execute_input": "2022-05-31T13:54:25.268196Z",
     "iopub.status.busy": "2022-05-31T13:54:25.268030Z",
     "iopub.status.idle": "2022-05-31T13:54:25.271636Z",
     "shell.execute_reply": "2022-05-31T13:54:25.271255Z"
    },
    "papermill": {
     "duration": 0.013532,
     "end_time": "2022-05-31T13:54:25.272889",
     "exception": false,
     "start_time": "2022-05-31T13:54:25.259357",
     "status": "completed"
    },
    "tags": []
   },
   "outputs": [
    {
     "data": {
      "text/plain": [
       "(12497500,)"
      ]
     },
     "execution_count": 13,
     "metadata": {},
     "output_type": "execute_result"
    }
   ],
   "source": [
    "clustermatch_df.shape"
   ]
  },
  {
   "cell_type": "code",
   "execution_count": 14,
   "id": "4a27d3d0-8f72-44e5-89bc-18d03e136afd",
   "metadata": {
    "execution": {
     "iopub.execute_input": "2022-05-31T13:54:25.289979Z",
     "iopub.status.busy": "2022-05-31T13:54:25.289810Z",
     "iopub.status.idle": "2022-05-31T13:54:25.295215Z",
     "shell.execute_reply": "2022-05-31T13:54:25.294725Z"
    },
    "papermill": {
     "duration": 0.01551,
     "end_time": "2022-05-31T13:54:25.296503",
     "exception": false,
     "start_time": "2022-05-31T13:54:25.280993",
     "status": "completed"
    },
    "tags": []
   },
   "outputs": [
    {
     "data": {
      "text/plain": [
       "ENSG00000000419.12  ENSG00000002834.17    0.418721\n",
       "                    ENSG00000002919.14    0.405090\n",
       "                    ENSG00000002933.7     0.007466\n",
       "                    ENSG00000003402.19    0.391683\n",
       "                    ENSG00000004478.7     0.099013\n",
       "Name: clustermatch, dtype: float64"
      ]
     },
     "execution_count": 14,
     "metadata": {},
     "output_type": "execute_result"
    }
   ],
   "source": [
    "clustermatch_df.head()"
   ]
  },
  {
   "cell_type": "markdown",
   "id": "813bccee-d7d0-4825-b29f-6ff082c43455",
   "metadata": {
    "papermill": {
     "duration": 0.007269,
     "end_time": "2022-05-31T13:54:25.311649",
     "exception": false,
     "start_time": "2022-05-31T13:54:25.304380",
     "status": "completed"
    },
    "tags": []
   },
   "source": [
    "## Pearson"
   ]
  },
  {
   "cell_type": "code",
   "execution_count": 15,
   "id": "7a32595f-551a-430c-85d5-97e5685d313a",
   "metadata": {
    "execution": {
     "iopub.execute_input": "2022-05-31T13:54:25.327088Z",
     "iopub.status.busy": "2022-05-31T13:54:25.326880Z",
     "iopub.status.idle": "2022-05-31T13:54:26.275913Z",
     "shell.execute_reply": "2022-05-31T13:54:26.273911Z"
    },
    "papermill": {
     "duration": 0.962276,
     "end_time": "2022-05-31T13:54:26.281249",
     "exception": false,
     "start_time": "2022-05-31T13:54:25.318973",
     "status": "completed"
    },
    "tags": []
   },
   "outputs": [],
   "source": [
    "pearson_df = pd.read_pickle(\n",
    "    str(INPUT_CORR_FILE_TEMPLATE).format(\n",
    "        tissue=GTEX_TISSUE,\n",
    "        gene_sel_strategy=GENE_SEL_STRATEGY,\n",
    "        corr_method=\"pearson\",\n",
    "    )\n",
    ")"
   ]
  },
  {
   "cell_type": "code",
   "execution_count": 16,
   "id": "7dd92986-8d36-426d-ba7e-ccf5acdf32cc",
   "metadata": {
    "execution": {
     "iopub.execute_input": "2022-05-31T13:54:26.314599Z",
     "iopub.status.busy": "2022-05-31T13:54:26.314409Z",
     "iopub.status.idle": "2022-05-31T13:54:26.318238Z",
     "shell.execute_reply": "2022-05-31T13:54:26.317778Z"
    },
    "papermill": {
     "duration": 0.016613,
     "end_time": "2022-05-31T13:54:26.319565",
     "exception": false,
     "start_time": "2022-05-31T13:54:26.302952",
     "status": "completed"
    },
    "tags": []
   },
   "outputs": [
    {
     "data": {
      "text/plain": [
       "(5000, 5000)"
      ]
     },
     "execution_count": 16,
     "metadata": {},
     "output_type": "execute_result"
    }
   ],
   "source": [
    "pearson_df.shape"
   ]
  },
  {
   "cell_type": "code",
   "execution_count": 17,
   "id": "1e8f82e5-3f7f-4825-b18a-e9e0acf19c08",
   "metadata": {
    "execution": {
     "iopub.execute_input": "2022-05-31T13:54:26.335989Z",
     "iopub.status.busy": "2022-05-31T13:54:26.335786Z",
     "iopub.status.idle": "2022-05-31T13:54:26.354180Z",
     "shell.execute_reply": "2022-05-31T13:54:26.353555Z"
    },
    "papermill": {
     "duration": 0.028155,
     "end_time": "2022-05-31T13:54:26.355630",
     "exception": false,
     "start_time": "2022-05-31T13:54:26.327475",
     "status": "completed"
    },
    "tags": []
   },
   "outputs": [
    {
     "data": {
      "text/html": [
       "<div>\n",
       "<style scoped>\n",
       "    .dataframe tbody tr th:only-of-type {\n",
       "        vertical-align: middle;\n",
       "    }\n",
       "\n",
       "    .dataframe tbody tr th {\n",
       "        vertical-align: top;\n",
       "    }\n",
       "\n",
       "    .dataframe thead th {\n",
       "        text-align: right;\n",
       "    }\n",
       "</style>\n",
       "<table border=\"1\" class=\"dataframe\">\n",
       "  <thead>\n",
       "    <tr style=\"text-align: right;\">\n",
       "      <th>gene_ens_id</th>\n",
       "      <th>ENSG00000169429.10</th>\n",
       "      <th>ENSG00000135245.9</th>\n",
       "      <th>ENSG00000163631.16</th>\n",
       "      <th>ENSG00000277632.1</th>\n",
       "      <th>ENSG00000239839.6</th>\n",
       "      <th>ENSG00000186652.9</th>\n",
       "      <th>ENSG00000129824.15</th>\n",
       "      <th>ENSG00000152463.14</th>\n",
       "      <th>ENSG00000123689.5</th>\n",
       "      <th>ENSG00000012223.12</th>\n",
       "      <th>...</th>\n",
       "      <th>ENSG00000122033.14</th>\n",
       "      <th>ENSG00000145779.7</th>\n",
       "      <th>ENSG00000196396.9</th>\n",
       "      <th>ENSG00000216490.3</th>\n",
       "      <th>ENSG00000135521.8</th>\n",
       "      <th>ENSG00000198478.7</th>\n",
       "      <th>ENSG00000168137.15</th>\n",
       "      <th>ENSG00000182197.10</th>\n",
       "      <th>ENSG00000111641.11</th>\n",
       "      <th>ENSG00000168528.11</th>\n",
       "    </tr>\n",
       "    <tr>\n",
       "      <th>gene_ens_id</th>\n",
       "      <th></th>\n",
       "      <th></th>\n",
       "      <th></th>\n",
       "      <th></th>\n",
       "      <th></th>\n",
       "      <th></th>\n",
       "      <th></th>\n",
       "      <th></th>\n",
       "      <th></th>\n",
       "      <th></th>\n",
       "      <th></th>\n",
       "      <th></th>\n",
       "      <th></th>\n",
       "      <th></th>\n",
       "      <th></th>\n",
       "      <th></th>\n",
       "      <th></th>\n",
       "      <th></th>\n",
       "      <th></th>\n",
       "      <th></th>\n",
       "      <th></th>\n",
       "    </tr>\n",
       "  </thead>\n",
       "  <tbody>\n",
       "    <tr>\n",
       "      <th>ENSG00000169429.10</th>\n",
       "      <td>1.000000</td>\n",
       "      <td>0.571672</td>\n",
       "      <td>0.126906</td>\n",
       "      <td>0.456538</td>\n",
       "      <td>0.127140</td>\n",
       "      <td>0.256347</td>\n",
       "      <td>0.300879</td>\n",
       "      <td>-0.268024</td>\n",
       "      <td>0.472277</td>\n",
       "      <td>0.355504</td>\n",
       "      <td>...</td>\n",
       "      <td>-0.087559</td>\n",
       "      <td>0.181072</td>\n",
       "      <td>0.098032</td>\n",
       "      <td>0.012809</td>\n",
       "      <td>0.048569</td>\n",
       "      <td>-0.125537</td>\n",
       "      <td>0.449339</td>\n",
       "      <td>-0.198314</td>\n",
       "      <td>0.298775</td>\n",
       "      <td>0.041489</td>\n",
       "    </tr>\n",
       "    <tr>\n",
       "      <th>ENSG00000135245.9</th>\n",
       "      <td>0.571672</td>\n",
       "      <td>1.000000</td>\n",
       "      <td>0.110612</td>\n",
       "      <td>0.438929</td>\n",
       "      <td>0.209161</td>\n",
       "      <td>0.223671</td>\n",
       "      <td>0.203370</td>\n",
       "      <td>-0.325667</td>\n",
       "      <td>0.532544</td>\n",
       "      <td>0.406272</td>\n",
       "      <td>...</td>\n",
       "      <td>-0.198912</td>\n",
       "      <td>0.018133</td>\n",
       "      <td>0.165431</td>\n",
       "      <td>0.052732</td>\n",
       "      <td>-0.123459</td>\n",
       "      <td>-0.192481</td>\n",
       "      <td>0.478504</td>\n",
       "      <td>-0.223546</td>\n",
       "      <td>0.259206</td>\n",
       "      <td>0.116396</td>\n",
       "    </tr>\n",
       "    <tr>\n",
       "      <th>ENSG00000163631.16</th>\n",
       "      <td>0.126906</td>\n",
       "      <td>0.110612</td>\n",
       "      <td>1.000000</td>\n",
       "      <td>0.129248</td>\n",
       "      <td>0.021091</td>\n",
       "      <td>0.054572</td>\n",
       "      <td>0.072717</td>\n",
       "      <td>-0.131141</td>\n",
       "      <td>0.235882</td>\n",
       "      <td>0.098683</td>\n",
       "      <td>...</td>\n",
       "      <td>-0.095401</td>\n",
       "      <td>-0.077452</td>\n",
       "      <td>-0.084369</td>\n",
       "      <td>-0.077808</td>\n",
       "      <td>-0.093490</td>\n",
       "      <td>-0.037774</td>\n",
       "      <td>0.025260</td>\n",
       "      <td>-0.123350</td>\n",
       "      <td>0.049174</td>\n",
       "      <td>0.106998</td>\n",
       "    </tr>\n",
       "    <tr>\n",
       "      <th>ENSG00000277632.1</th>\n",
       "      <td>0.456538</td>\n",
       "      <td>0.438929</td>\n",
       "      <td>0.129248</td>\n",
       "      <td>1.000000</td>\n",
       "      <td>0.199647</td>\n",
       "      <td>0.238356</td>\n",
       "      <td>0.366739</td>\n",
       "      <td>-0.361011</td>\n",
       "      <td>0.406964</td>\n",
       "      <td>0.416603</td>\n",
       "      <td>...</td>\n",
       "      <td>-0.175950</td>\n",
       "      <td>0.107436</td>\n",
       "      <td>0.118997</td>\n",
       "      <td>0.027369</td>\n",
       "      <td>0.060482</td>\n",
       "      <td>-0.212037</td>\n",
       "      <td>0.420059</td>\n",
       "      <td>-0.304038</td>\n",
       "      <td>0.509854</td>\n",
       "      <td>0.027239</td>\n",
       "    </tr>\n",
       "    <tr>\n",
       "      <th>ENSG00000239839.6</th>\n",
       "      <td>0.127140</td>\n",
       "      <td>0.209161</td>\n",
       "      <td>0.021091</td>\n",
       "      <td>0.199647</td>\n",
       "      <td>1.000000</td>\n",
       "      <td>0.229287</td>\n",
       "      <td>0.022563</td>\n",
       "      <td>-0.183318</td>\n",
       "      <td>0.077410</td>\n",
       "      <td>0.541731</td>\n",
       "      <td>...</td>\n",
       "      <td>-0.058021</td>\n",
       "      <td>0.051451</td>\n",
       "      <td>-0.040586</td>\n",
       "      <td>-0.013576</td>\n",
       "      <td>-0.015835</td>\n",
       "      <td>-0.115248</td>\n",
       "      <td>0.072186</td>\n",
       "      <td>-0.219001</td>\n",
       "      <td>0.076205</td>\n",
       "      <td>0.112401</td>\n",
       "    </tr>\n",
       "  </tbody>\n",
       "</table>\n",
       "<p>5 rows × 5000 columns</p>\n",
       "</div>"
      ],
      "text/plain": [
       "gene_ens_id         ENSG00000169429.10  ENSG00000135245.9  ENSG00000163631.16  \\\n",
       "gene_ens_id                                                                     \n",
       "ENSG00000169429.10            1.000000           0.571672            0.126906   \n",
       "ENSG00000135245.9             0.571672           1.000000            0.110612   \n",
       "ENSG00000163631.16            0.126906           0.110612            1.000000   \n",
       "ENSG00000277632.1             0.456538           0.438929            0.129248   \n",
       "ENSG00000239839.6             0.127140           0.209161            0.021091   \n",
       "\n",
       "gene_ens_id         ENSG00000277632.1  ENSG00000239839.6  ENSG00000186652.9  \\\n",
       "gene_ens_id                                                                   \n",
       "ENSG00000169429.10           0.456538           0.127140           0.256347   \n",
       "ENSG00000135245.9            0.438929           0.209161           0.223671   \n",
       "ENSG00000163631.16           0.129248           0.021091           0.054572   \n",
       "ENSG00000277632.1            1.000000           0.199647           0.238356   \n",
       "ENSG00000239839.6            0.199647           1.000000           0.229287   \n",
       "\n",
       "gene_ens_id         ENSG00000129824.15  ENSG00000152463.14  ENSG00000123689.5  \\\n",
       "gene_ens_id                                                                     \n",
       "ENSG00000169429.10            0.300879           -0.268024           0.472277   \n",
       "ENSG00000135245.9             0.203370           -0.325667           0.532544   \n",
       "ENSG00000163631.16            0.072717           -0.131141           0.235882   \n",
       "ENSG00000277632.1             0.366739           -0.361011           0.406964   \n",
       "ENSG00000239839.6             0.022563           -0.183318           0.077410   \n",
       "\n",
       "gene_ens_id         ENSG00000012223.12  ...  ENSG00000122033.14  \\\n",
       "gene_ens_id                             ...                       \n",
       "ENSG00000169429.10            0.355504  ...           -0.087559   \n",
       "ENSG00000135245.9             0.406272  ...           -0.198912   \n",
       "ENSG00000163631.16            0.098683  ...           -0.095401   \n",
       "ENSG00000277632.1             0.416603  ...           -0.175950   \n",
       "ENSG00000239839.6             0.541731  ...           -0.058021   \n",
       "\n",
       "gene_ens_id         ENSG00000145779.7  ENSG00000196396.9  ENSG00000216490.3  \\\n",
       "gene_ens_id                                                                   \n",
       "ENSG00000169429.10           0.181072           0.098032           0.012809   \n",
       "ENSG00000135245.9            0.018133           0.165431           0.052732   \n",
       "ENSG00000163631.16          -0.077452          -0.084369          -0.077808   \n",
       "ENSG00000277632.1            0.107436           0.118997           0.027369   \n",
       "ENSG00000239839.6            0.051451          -0.040586          -0.013576   \n",
       "\n",
       "gene_ens_id         ENSG00000135521.8  ENSG00000198478.7  ENSG00000168137.15  \\\n",
       "gene_ens_id                                                                    \n",
       "ENSG00000169429.10           0.048569          -0.125537            0.449339   \n",
       "ENSG00000135245.9           -0.123459          -0.192481            0.478504   \n",
       "ENSG00000163631.16          -0.093490          -0.037774            0.025260   \n",
       "ENSG00000277632.1            0.060482          -0.212037            0.420059   \n",
       "ENSG00000239839.6           -0.015835          -0.115248            0.072186   \n",
       "\n",
       "gene_ens_id         ENSG00000182197.10  ENSG00000111641.11  ENSG00000168528.11  \n",
       "gene_ens_id                                                                     \n",
       "ENSG00000169429.10           -0.198314            0.298775            0.041489  \n",
       "ENSG00000135245.9            -0.223546            0.259206            0.116396  \n",
       "ENSG00000163631.16           -0.123350            0.049174            0.106998  \n",
       "ENSG00000277632.1            -0.304038            0.509854            0.027239  \n",
       "ENSG00000239839.6            -0.219001            0.076205            0.112401  \n",
       "\n",
       "[5 rows x 5000 columns]"
      ]
     },
     "execution_count": 17,
     "metadata": {},
     "output_type": "execute_result"
    }
   ],
   "source": [
    "pearson_df.head()"
   ]
  },
  {
   "cell_type": "code",
   "execution_count": 18,
   "id": "5ef0b9e5-76a6-462c-a8eb-59dc16f7e1d8",
   "metadata": {
    "execution": {
     "iopub.execute_input": "2022-05-31T13:54:26.372975Z",
     "iopub.status.busy": "2022-05-31T13:54:26.372535Z",
     "iopub.status.idle": "2022-05-31T13:54:26.588188Z",
     "shell.execute_reply": "2022-05-31T13:54:26.587552Z"
    },
    "papermill": {
     "duration": 0.225982,
     "end_time": "2022-05-31T13:54:26.589903",
     "exception": false,
     "start_time": "2022-05-31T13:54:26.363921",
     "status": "completed"
    },
    "tags": []
   },
   "outputs": [],
   "source": [
    "pearson_df = get_upper_triag(pearson_df)"
   ]
  },
  {
   "cell_type": "code",
   "execution_count": 19,
   "id": "be0a9364-c95f-42f6-8b65-018ab2904a0e",
   "metadata": {
    "execution": {
     "iopub.execute_input": "2022-05-31T13:54:26.609586Z",
     "iopub.status.busy": "2022-05-31T13:54:26.609417Z",
     "iopub.status.idle": "2022-05-31T13:54:55.629816Z",
     "shell.execute_reply": "2022-05-31T13:54:55.629155Z"
    },
    "papermill": {
     "duration": 29.031594,
     "end_time": "2022-05-31T13:54:55.631509",
     "exception": false,
     "start_time": "2022-05-31T13:54:26.599915",
     "status": "completed"
    },
    "tags": []
   },
   "outputs": [],
   "source": [
    "# make pearson abs\n",
    "pearson_df = (\n",
    "    pearson_df.unstack()\n",
    "    .rename_axis((None, None))\n",
    "    .dropna()\n",
    "    .abs()\n",
    "    .sort_index()\n",
    "    .rename(\"pearson\")\n",
    ")"
   ]
  },
  {
   "cell_type": "code",
   "execution_count": 20,
   "id": "20a651ff-95d3-441c-8058-82eabc2ea4c3",
   "metadata": {
    "execution": {
     "iopub.execute_input": "2022-05-31T13:54:55.651033Z",
     "iopub.status.busy": "2022-05-31T13:54:55.650858Z",
     "iopub.status.idle": "2022-05-31T13:54:55.654630Z",
     "shell.execute_reply": "2022-05-31T13:54:55.654159Z"
    },
    "papermill": {
     "duration": 0.014677,
     "end_time": "2022-05-31T13:54:55.655941",
     "exception": false,
     "start_time": "2022-05-31T13:54:55.641264",
     "status": "completed"
    },
    "tags": []
   },
   "outputs": [
    {
     "data": {
      "text/plain": [
       "(12497500,)"
      ]
     },
     "execution_count": 20,
     "metadata": {},
     "output_type": "execute_result"
    }
   ],
   "source": [
    "pearson_df.shape"
   ]
  },
  {
   "cell_type": "code",
   "execution_count": 21,
   "id": "f65b9f08-a610-4545-bb3d-3978c7108a50",
   "metadata": {
    "execution": {
     "iopub.execute_input": "2022-05-31T13:54:55.674490Z",
     "iopub.status.busy": "2022-05-31T13:54:55.674269Z",
     "iopub.status.idle": "2022-05-31T13:54:55.680272Z",
     "shell.execute_reply": "2022-05-31T13:54:55.679698Z"
    },
    "papermill": {
     "duration": 0.016545,
     "end_time": "2022-05-31T13:54:55.681593",
     "exception": false,
     "start_time": "2022-05-31T13:54:55.665048",
     "status": "completed"
    },
    "tags": []
   },
   "outputs": [
    {
     "data": {
      "text/plain": [
       "ENSG00000000419.12  ENSG00000002834.17    0.681847\n",
       "                    ENSG00000002919.14    0.734699\n",
       "                    ENSG00000002933.7     0.013825\n",
       "                    ENSG00000003402.19    0.727347\n",
       "                    ENSG00000004478.7     0.094147\n",
       "Name: pearson, dtype: float64"
      ]
     },
     "execution_count": 21,
     "metadata": {},
     "output_type": "execute_result"
    }
   ],
   "source": [
    "pearson_df.head()"
   ]
  },
  {
   "cell_type": "markdown",
   "id": "874e5424-c71d-4964-991b-92255ed2ee1e",
   "metadata": {
    "papermill": {
     "duration": 0.007983,
     "end_time": "2022-05-31T13:54:55.698123",
     "exception": false,
     "start_time": "2022-05-31T13:54:55.690140",
     "status": "completed"
    },
    "tags": []
   },
   "source": [
    "## Spearman"
   ]
  },
  {
   "cell_type": "code",
   "execution_count": 22,
   "id": "a8041b71-0749-4f0f-b128-6e426b617ceb",
   "metadata": {
    "execution": {
     "iopub.execute_input": "2022-05-31T13:54:55.714987Z",
     "iopub.status.busy": "2022-05-31T13:54:55.714776Z",
     "iopub.status.idle": "2022-05-31T13:54:56.652486Z",
     "shell.execute_reply": "2022-05-31T13:54:56.650470Z"
    },
    "papermill": {
     "duration": 0.951631,
     "end_time": "2022-05-31T13:54:56.657778",
     "exception": false,
     "start_time": "2022-05-31T13:54:55.706147",
     "status": "completed"
    },
    "tags": []
   },
   "outputs": [],
   "source": [
    "spearman_df = pd.read_pickle(\n",
    "    str(INPUT_CORR_FILE_TEMPLATE).format(\n",
    "        tissue=GTEX_TISSUE,\n",
    "        gene_sel_strategy=GENE_SEL_STRATEGY,\n",
    "        corr_method=\"spearman\",\n",
    "    )\n",
    ")"
   ]
  },
  {
   "cell_type": "code",
   "execution_count": 23,
   "id": "920d4d01-69a5-4cb6-90af-e16f8f1a2d2c",
   "metadata": {
    "execution": {
     "iopub.execute_input": "2022-05-31T13:54:56.705646Z",
     "iopub.status.busy": "2022-05-31T13:54:56.705458Z",
     "iopub.status.idle": "2022-05-31T13:54:56.709619Z",
     "shell.execute_reply": "2022-05-31T13:54:56.709006Z"
    },
    "papermill": {
     "duration": 0.020543,
     "end_time": "2022-05-31T13:54:56.711054",
     "exception": false,
     "start_time": "2022-05-31T13:54:56.690511",
     "status": "completed"
    },
    "tags": []
   },
   "outputs": [
    {
     "data": {
      "text/plain": [
       "(5000, 5000)"
      ]
     },
     "execution_count": 23,
     "metadata": {},
     "output_type": "execute_result"
    }
   ],
   "source": [
    "spearman_df.shape"
   ]
  },
  {
   "cell_type": "code",
   "execution_count": 24,
   "id": "675464fa-175c-474d-a676-330f9ba9275e",
   "metadata": {
    "execution": {
     "iopub.execute_input": "2022-05-31T13:54:56.728643Z",
     "iopub.status.busy": "2022-05-31T13:54:56.728437Z",
     "iopub.status.idle": "2022-05-31T13:54:56.746599Z",
     "shell.execute_reply": "2022-05-31T13:54:56.746015Z"
    },
    "papermill": {
     "duration": 0.028412,
     "end_time": "2022-05-31T13:54:56.748056",
     "exception": false,
     "start_time": "2022-05-31T13:54:56.719644",
     "status": "completed"
    },
    "tags": []
   },
   "outputs": [
    {
     "data": {
      "text/html": [
       "<div>\n",
       "<style scoped>\n",
       "    .dataframe tbody tr th:only-of-type {\n",
       "        vertical-align: middle;\n",
       "    }\n",
       "\n",
       "    .dataframe tbody tr th {\n",
       "        vertical-align: top;\n",
       "    }\n",
       "\n",
       "    .dataframe thead th {\n",
       "        text-align: right;\n",
       "    }\n",
       "</style>\n",
       "<table border=\"1\" class=\"dataframe\">\n",
       "  <thead>\n",
       "    <tr style=\"text-align: right;\">\n",
       "      <th>gene_ens_id</th>\n",
       "      <th>ENSG00000169429.10</th>\n",
       "      <th>ENSG00000135245.9</th>\n",
       "      <th>ENSG00000163631.16</th>\n",
       "      <th>ENSG00000277632.1</th>\n",
       "      <th>ENSG00000239839.6</th>\n",
       "      <th>ENSG00000186652.9</th>\n",
       "      <th>ENSG00000129824.15</th>\n",
       "      <th>ENSG00000152463.14</th>\n",
       "      <th>ENSG00000123689.5</th>\n",
       "      <th>ENSG00000012223.12</th>\n",
       "      <th>...</th>\n",
       "      <th>ENSG00000122033.14</th>\n",
       "      <th>ENSG00000145779.7</th>\n",
       "      <th>ENSG00000196396.9</th>\n",
       "      <th>ENSG00000216490.3</th>\n",
       "      <th>ENSG00000135521.8</th>\n",
       "      <th>ENSG00000198478.7</th>\n",
       "      <th>ENSG00000168137.15</th>\n",
       "      <th>ENSG00000182197.10</th>\n",
       "      <th>ENSG00000111641.11</th>\n",
       "      <th>ENSG00000168528.11</th>\n",
       "    </tr>\n",
       "    <tr>\n",
       "      <th>gene_ens_id</th>\n",
       "      <th></th>\n",
       "      <th></th>\n",
       "      <th></th>\n",
       "      <th></th>\n",
       "      <th></th>\n",
       "      <th></th>\n",
       "      <th></th>\n",
       "      <th></th>\n",
       "      <th></th>\n",
       "      <th></th>\n",
       "      <th></th>\n",
       "      <th></th>\n",
       "      <th></th>\n",
       "      <th></th>\n",
       "      <th></th>\n",
       "      <th></th>\n",
       "      <th></th>\n",
       "      <th></th>\n",
       "      <th></th>\n",
       "      <th></th>\n",
       "      <th></th>\n",
       "    </tr>\n",
       "  </thead>\n",
       "  <tbody>\n",
       "    <tr>\n",
       "      <th>ENSG00000169429.10</th>\n",
       "      <td>1.000000</td>\n",
       "      <td>0.853836</td>\n",
       "      <td>0.709240</td>\n",
       "      <td>0.850371</td>\n",
       "      <td>0.379835</td>\n",
       "      <td>0.760102</td>\n",
       "      <td>0.243599</td>\n",
       "      <td>-0.694446</td>\n",
       "      <td>0.866183</td>\n",
       "      <td>0.657452</td>\n",
       "      <td>...</td>\n",
       "      <td>-0.376521</td>\n",
       "      <td>-0.008912</td>\n",
       "      <td>-0.002147</td>\n",
       "      <td>-0.069521</td>\n",
       "      <td>-0.119740</td>\n",
       "      <td>-0.341219</td>\n",
       "      <td>0.457231</td>\n",
       "      <td>-0.458056</td>\n",
       "      <td>0.435510</td>\n",
       "      <td>-0.126189</td>\n",
       "    </tr>\n",
       "    <tr>\n",
       "      <th>ENSG00000135245.9</th>\n",
       "      <td>0.853836</td>\n",
       "      <td>1.000000</td>\n",
       "      <td>0.675719</td>\n",
       "      <td>0.834496</td>\n",
       "      <td>0.422539</td>\n",
       "      <td>0.735840</td>\n",
       "      <td>0.233504</td>\n",
       "      <td>-0.574572</td>\n",
       "      <td>0.827193</td>\n",
       "      <td>0.626538</td>\n",
       "      <td>...</td>\n",
       "      <td>-0.350526</td>\n",
       "      <td>-0.017997</td>\n",
       "      <td>0.052715</td>\n",
       "      <td>0.029882</td>\n",
       "      <td>-0.129671</td>\n",
       "      <td>-0.361843</td>\n",
       "      <td>0.459400</td>\n",
       "      <td>-0.373947</td>\n",
       "      <td>0.449254</td>\n",
       "      <td>0.043939</td>\n",
       "    </tr>\n",
       "    <tr>\n",
       "      <th>ENSG00000163631.16</th>\n",
       "      <td>0.709240</td>\n",
       "      <td>0.675719</td>\n",
       "      <td>1.000000</td>\n",
       "      <td>0.683018</td>\n",
       "      <td>0.388814</td>\n",
       "      <td>0.730922</td>\n",
       "      <td>0.177607</td>\n",
       "      <td>-0.558213</td>\n",
       "      <td>0.667917</td>\n",
       "      <td>0.613913</td>\n",
       "      <td>...</td>\n",
       "      <td>-0.427955</td>\n",
       "      <td>-0.190712</td>\n",
       "      <td>-0.125631</td>\n",
       "      <td>-0.109937</td>\n",
       "      <td>-0.253229</td>\n",
       "      <td>-0.332238</td>\n",
       "      <td>0.205314</td>\n",
       "      <td>-0.452284</td>\n",
       "      <td>0.309117</td>\n",
       "      <td>-0.073344</td>\n",
       "    </tr>\n",
       "    <tr>\n",
       "      <th>ENSG00000277632.1</th>\n",
       "      <td>0.850371</td>\n",
       "      <td>0.834496</td>\n",
       "      <td>0.683018</td>\n",
       "      <td>1.000000</td>\n",
       "      <td>0.402836</td>\n",
       "      <td>0.756369</td>\n",
       "      <td>0.281333</td>\n",
       "      <td>-0.667793</td>\n",
       "      <td>0.808998</td>\n",
       "      <td>0.659031</td>\n",
       "      <td>...</td>\n",
       "      <td>-0.359078</td>\n",
       "      <td>-0.009396</td>\n",
       "      <td>0.047820</td>\n",
       "      <td>-0.001894</td>\n",
       "      <td>-0.076270</td>\n",
       "      <td>-0.343856</td>\n",
       "      <td>0.419410</td>\n",
       "      <td>-0.436411</td>\n",
       "      <td>0.546328</td>\n",
       "      <td>-0.080340</td>\n",
       "    </tr>\n",
       "    <tr>\n",
       "      <th>ENSG00000239839.6</th>\n",
       "      <td>0.379835</td>\n",
       "      <td>0.422539</td>\n",
       "      <td>0.388814</td>\n",
       "      <td>0.402836</td>\n",
       "      <td>1.000000</td>\n",
       "      <td>0.626519</td>\n",
       "      <td>0.045501</td>\n",
       "      <td>-0.341542</td>\n",
       "      <td>0.297492</td>\n",
       "      <td>0.691271</td>\n",
       "      <td>...</td>\n",
       "      <td>-0.212080</td>\n",
       "      <td>-0.041432</td>\n",
       "      <td>-0.137451</td>\n",
       "      <td>-0.072243</td>\n",
       "      <td>-0.097927</td>\n",
       "      <td>-0.151915</td>\n",
       "      <td>0.086806</td>\n",
       "      <td>-0.350749</td>\n",
       "      <td>0.188874</td>\n",
       "      <td>0.140163</td>\n",
       "    </tr>\n",
       "  </tbody>\n",
       "</table>\n",
       "<p>5 rows × 5000 columns</p>\n",
       "</div>"
      ],
      "text/plain": [
       "gene_ens_id         ENSG00000169429.10  ENSG00000135245.9  ENSG00000163631.16  \\\n",
       "gene_ens_id                                                                     \n",
       "ENSG00000169429.10            1.000000           0.853836            0.709240   \n",
       "ENSG00000135245.9             0.853836           1.000000            0.675719   \n",
       "ENSG00000163631.16            0.709240           0.675719            1.000000   \n",
       "ENSG00000277632.1             0.850371           0.834496            0.683018   \n",
       "ENSG00000239839.6             0.379835           0.422539            0.388814   \n",
       "\n",
       "gene_ens_id         ENSG00000277632.1  ENSG00000239839.6  ENSG00000186652.9  \\\n",
       "gene_ens_id                                                                   \n",
       "ENSG00000169429.10           0.850371           0.379835           0.760102   \n",
       "ENSG00000135245.9            0.834496           0.422539           0.735840   \n",
       "ENSG00000163631.16           0.683018           0.388814           0.730922   \n",
       "ENSG00000277632.1            1.000000           0.402836           0.756369   \n",
       "ENSG00000239839.6            0.402836           1.000000           0.626519   \n",
       "\n",
       "gene_ens_id         ENSG00000129824.15  ENSG00000152463.14  ENSG00000123689.5  \\\n",
       "gene_ens_id                                                                     \n",
       "ENSG00000169429.10            0.243599           -0.694446           0.866183   \n",
       "ENSG00000135245.9             0.233504           -0.574572           0.827193   \n",
       "ENSG00000163631.16            0.177607           -0.558213           0.667917   \n",
       "ENSG00000277632.1             0.281333           -0.667793           0.808998   \n",
       "ENSG00000239839.6             0.045501           -0.341542           0.297492   \n",
       "\n",
       "gene_ens_id         ENSG00000012223.12  ...  ENSG00000122033.14  \\\n",
       "gene_ens_id                             ...                       \n",
       "ENSG00000169429.10            0.657452  ...           -0.376521   \n",
       "ENSG00000135245.9             0.626538  ...           -0.350526   \n",
       "ENSG00000163631.16            0.613913  ...           -0.427955   \n",
       "ENSG00000277632.1             0.659031  ...           -0.359078   \n",
       "ENSG00000239839.6             0.691271  ...           -0.212080   \n",
       "\n",
       "gene_ens_id         ENSG00000145779.7  ENSG00000196396.9  ENSG00000216490.3  \\\n",
       "gene_ens_id                                                                   \n",
       "ENSG00000169429.10          -0.008912          -0.002147          -0.069521   \n",
       "ENSG00000135245.9           -0.017997           0.052715           0.029882   \n",
       "ENSG00000163631.16          -0.190712          -0.125631          -0.109937   \n",
       "ENSG00000277632.1           -0.009396           0.047820          -0.001894   \n",
       "ENSG00000239839.6           -0.041432          -0.137451          -0.072243   \n",
       "\n",
       "gene_ens_id         ENSG00000135521.8  ENSG00000198478.7  ENSG00000168137.15  \\\n",
       "gene_ens_id                                                                    \n",
       "ENSG00000169429.10          -0.119740          -0.341219            0.457231   \n",
       "ENSG00000135245.9           -0.129671          -0.361843            0.459400   \n",
       "ENSG00000163631.16          -0.253229          -0.332238            0.205314   \n",
       "ENSG00000277632.1           -0.076270          -0.343856            0.419410   \n",
       "ENSG00000239839.6           -0.097927          -0.151915            0.086806   \n",
       "\n",
       "gene_ens_id         ENSG00000182197.10  ENSG00000111641.11  ENSG00000168528.11  \n",
       "gene_ens_id                                                                     \n",
       "ENSG00000169429.10           -0.458056            0.435510           -0.126189  \n",
       "ENSG00000135245.9            -0.373947            0.449254            0.043939  \n",
       "ENSG00000163631.16           -0.452284            0.309117           -0.073344  \n",
       "ENSG00000277632.1            -0.436411            0.546328           -0.080340  \n",
       "ENSG00000239839.6            -0.350749            0.188874            0.140163  \n",
       "\n",
       "[5 rows x 5000 columns]"
      ]
     },
     "execution_count": 24,
     "metadata": {},
     "output_type": "execute_result"
    }
   ],
   "source": [
    "spearman_df.head()"
   ]
  },
  {
   "cell_type": "code",
   "execution_count": 25,
   "id": "f4dc03a1-e8bc-4e8c-a215-418b2ac5915e",
   "metadata": {
    "execution": {
     "iopub.execute_input": "2022-05-31T13:54:56.766766Z",
     "iopub.status.busy": "2022-05-31T13:54:56.766558Z",
     "iopub.status.idle": "2022-05-31T13:54:56.978378Z",
     "shell.execute_reply": "2022-05-31T13:54:56.977799Z"
    },
    "papermill": {
     "duration": 0.222955,
     "end_time": "2022-05-31T13:54:56.980003",
     "exception": false,
     "start_time": "2022-05-31T13:54:56.757048",
     "status": "completed"
    },
    "tags": []
   },
   "outputs": [],
   "source": [
    "spearman_df = get_upper_triag(spearman_df)"
   ]
  },
  {
   "cell_type": "code",
   "execution_count": 26,
   "id": "1b7f49ec-beb3-4d70-97ea-976c8c1d5580",
   "metadata": {
    "execution": {
     "iopub.execute_input": "2022-05-31T13:54:57.000969Z",
     "iopub.status.busy": "2022-05-31T13:54:57.000805Z",
     "iopub.status.idle": "2022-05-31T13:55:25.985507Z",
     "shell.execute_reply": "2022-05-31T13:55:25.984829Z"
    },
    "papermill": {
     "duration": 28.996751,
     "end_time": "2022-05-31T13:55:25.987331",
     "exception": false,
     "start_time": "2022-05-31T13:54:56.990580",
     "status": "completed"
    },
    "tags": []
   },
   "outputs": [],
   "source": [
    "# make spearman abs\n",
    "spearman_df = (\n",
    "    spearman_df.unstack()\n",
    "    .rename_axis((None, None))\n",
    "    .dropna()\n",
    "    .abs()\n",
    "    .sort_index()\n",
    "    .rename(\"spearman\")\n",
    ")"
   ]
  },
  {
   "cell_type": "code",
   "execution_count": 27,
   "id": "ad092d0a-c321-4d4f-9e55-0c287ce1ccc2",
   "metadata": {
    "execution": {
     "iopub.execute_input": "2022-05-31T13:55:26.008124Z",
     "iopub.status.busy": "2022-05-31T13:55:26.007957Z",
     "iopub.status.idle": "2022-05-31T13:55:26.011683Z",
     "shell.execute_reply": "2022-05-31T13:55:26.011221Z"
    },
    "papermill": {
     "duration": 0.015102,
     "end_time": "2022-05-31T13:55:26.013005",
     "exception": false,
     "start_time": "2022-05-31T13:55:25.997903",
     "status": "completed"
    },
    "tags": []
   },
   "outputs": [
    {
     "data": {
      "text/plain": [
       "(12497500,)"
      ]
     },
     "execution_count": 27,
     "metadata": {},
     "output_type": "execute_result"
    }
   ],
   "source": [
    "spearman_df.shape"
   ]
  },
  {
   "cell_type": "code",
   "execution_count": 28,
   "id": "11f46fa0-08b4-4907-aec2-a173fb459540",
   "metadata": {
    "execution": {
     "iopub.execute_input": "2022-05-31T13:55:26.032337Z",
     "iopub.status.busy": "2022-05-31T13:55:26.032128Z",
     "iopub.status.idle": "2022-05-31T13:55:26.038110Z",
     "shell.execute_reply": "2022-05-31T13:55:26.037624Z"
    },
    "papermill": {
     "duration": 0.016862,
     "end_time": "2022-05-31T13:55:26.039426",
     "exception": false,
     "start_time": "2022-05-31T13:55:26.022564",
     "status": "completed"
    },
    "tags": []
   },
   "outputs": [
    {
     "data": {
      "text/plain": [
       "ENSG00000000419.12  ENSG00000002834.17    0.786595\n",
       "                    ENSG00000002919.14    0.816991\n",
       "                    ENSG00000002933.7     0.004128\n",
       "                    ENSG00000003402.19    0.803653\n",
       "                    ENSG00000004478.7     0.231269\n",
       "Name: spearman, dtype: float64"
      ]
     },
     "execution_count": 28,
     "metadata": {},
     "output_type": "execute_result"
    }
   ],
   "source": [
    "spearman_df.head()"
   ]
  },
  {
   "cell_type": "markdown",
   "id": "b64ee4c7-555a-4b21-a3b1-7e88aae034d9",
   "metadata": {
    "papermill": {
     "duration": 0.008886,
     "end_time": "2022-05-31T13:55:26.057537",
     "exception": false,
     "start_time": "2022-05-31T13:55:26.048651",
     "status": "completed"
    },
    "tags": []
   },
   "source": [
    "## MIC"
   ]
  },
  {
   "cell_type": "code",
   "execution_count": 29,
   "id": "2ac2a0e8-abc2-4638-b4da-553dc7510c97",
   "metadata": {
    "execution": {
     "iopub.execute_input": "2022-05-31T13:55:26.076042Z",
     "iopub.status.busy": "2022-05-31T13:55:26.075833Z",
     "iopub.status.idle": "2022-05-31T13:55:26.152693Z",
     "shell.execute_reply": "2022-05-31T13:55:26.152096Z"
    },
    "papermill": {
     "duration": 0.087714,
     "end_time": "2022-05-31T13:55:26.154201",
     "exception": false,
     "start_time": "2022-05-31T13:55:26.066487",
     "status": "completed"
    },
    "tags": []
   },
   "outputs": [],
   "source": [
    "mic_df = pd.read_pickle(\n",
    "    str(INPUT_CORR_FILE_TEMPLATE).format(\n",
    "        tissue=GTEX_TISSUE,\n",
    "        gene_sel_strategy=GENE_SEL_STRATEGY,\n",
    "        corr_method=\"mic_parallel\",\n",
    "    )\n",
    ")"
   ]
  },
  {
   "cell_type": "code",
   "execution_count": 30,
   "id": "03cbfa75-5c90-4f37-8b0c-fbe0e9b46154",
   "metadata": {
    "execution": {
     "iopub.execute_input": "2022-05-31T13:55:26.173225Z",
     "iopub.status.busy": "2022-05-31T13:55:26.173035Z",
     "iopub.status.idle": "2022-05-31T13:55:26.176891Z",
     "shell.execute_reply": "2022-05-31T13:55:26.176493Z"
    },
    "papermill": {
     "duration": 0.014542,
     "end_time": "2022-05-31T13:55:26.178129",
     "exception": false,
     "start_time": "2022-05-31T13:55:26.163587",
     "status": "completed"
    },
    "tags": []
   },
   "outputs": [
    {
     "data": {
      "text/plain": [
       "(5000, 5000)"
      ]
     },
     "execution_count": 30,
     "metadata": {},
     "output_type": "execute_result"
    }
   ],
   "source": [
    "mic_df.shape"
   ]
  },
  {
   "cell_type": "code",
   "execution_count": 31,
   "id": "024983de-dfba-4e49-aa02-ad7045811955",
   "metadata": {
    "execution": {
     "iopub.execute_input": "2022-05-31T13:55:26.197448Z",
     "iopub.status.busy": "2022-05-31T13:55:26.197236Z",
     "iopub.status.idle": "2022-05-31T13:55:26.215005Z",
     "shell.execute_reply": "2022-05-31T13:55:26.214463Z"
    },
    "papermill": {
     "duration": 0.028981,
     "end_time": "2022-05-31T13:55:26.216465",
     "exception": false,
     "start_time": "2022-05-31T13:55:26.187484",
     "status": "completed"
    },
    "tags": []
   },
   "outputs": [
    {
     "data": {
      "text/html": [
       "<div>\n",
       "<style scoped>\n",
       "    .dataframe tbody tr th:only-of-type {\n",
       "        vertical-align: middle;\n",
       "    }\n",
       "\n",
       "    .dataframe tbody tr th {\n",
       "        vertical-align: top;\n",
       "    }\n",
       "\n",
       "    .dataframe thead th {\n",
       "        text-align: right;\n",
       "    }\n",
       "</style>\n",
       "<table border=\"1\" class=\"dataframe\">\n",
       "  <thead>\n",
       "    <tr style=\"text-align: right;\">\n",
       "      <th>gene_ens_id</th>\n",
       "      <th>ENSG00000169429.10</th>\n",
       "      <th>ENSG00000135245.9</th>\n",
       "      <th>ENSG00000163631.16</th>\n",
       "      <th>ENSG00000277632.1</th>\n",
       "      <th>ENSG00000239839.6</th>\n",
       "      <th>ENSG00000186652.9</th>\n",
       "      <th>ENSG00000129824.15</th>\n",
       "      <th>ENSG00000152463.14</th>\n",
       "      <th>ENSG00000123689.5</th>\n",
       "      <th>ENSG00000012223.12</th>\n",
       "      <th>...</th>\n",
       "      <th>ENSG00000122033.14</th>\n",
       "      <th>ENSG00000145779.7</th>\n",
       "      <th>ENSG00000196396.9</th>\n",
       "      <th>ENSG00000216490.3</th>\n",
       "      <th>ENSG00000135521.8</th>\n",
       "      <th>ENSG00000198478.7</th>\n",
       "      <th>ENSG00000168137.15</th>\n",
       "      <th>ENSG00000182197.10</th>\n",
       "      <th>ENSG00000111641.11</th>\n",
       "      <th>ENSG00000168528.11</th>\n",
       "    </tr>\n",
       "    <tr>\n",
       "      <th>gene_ens_id</th>\n",
       "      <th></th>\n",
       "      <th></th>\n",
       "      <th></th>\n",
       "      <th></th>\n",
       "      <th></th>\n",
       "      <th></th>\n",
       "      <th></th>\n",
       "      <th></th>\n",
       "      <th></th>\n",
       "      <th></th>\n",
       "      <th></th>\n",
       "      <th></th>\n",
       "      <th></th>\n",
       "      <th></th>\n",
       "      <th></th>\n",
       "      <th></th>\n",
       "      <th></th>\n",
       "      <th></th>\n",
       "      <th></th>\n",
       "      <th></th>\n",
       "      <th></th>\n",
       "    </tr>\n",
       "  </thead>\n",
       "  <tbody>\n",
       "    <tr>\n",
       "      <th>ENSG00000169429.10</th>\n",
       "      <td>1.000000</td>\n",
       "      <td>0.898121</td>\n",
       "      <td>0.559862</td>\n",
       "      <td>0.928075</td>\n",
       "      <td>0.274772</td>\n",
       "      <td>0.650528</td>\n",
       "      <td>0.214942</td>\n",
       "      <td>0.512846</td>\n",
       "      <td>0.920077</td>\n",
       "      <td>0.477458</td>\n",
       "      <td>...</td>\n",
       "      <td>0.360014</td>\n",
       "      <td>0.236945</td>\n",
       "      <td>0.175348</td>\n",
       "      <td>0.174412</td>\n",
       "      <td>0.240515</td>\n",
       "      <td>0.273663</td>\n",
       "      <td>0.271071</td>\n",
       "      <td>0.348093</td>\n",
       "      <td>0.272177</td>\n",
       "      <td>0.162018</td>\n",
       "    </tr>\n",
       "    <tr>\n",
       "      <th>ENSG00000135245.9</th>\n",
       "      <td>0.898121</td>\n",
       "      <td>1.000000</td>\n",
       "      <td>0.600884</td>\n",
       "      <td>0.893781</td>\n",
       "      <td>0.272898</td>\n",
       "      <td>0.651888</td>\n",
       "      <td>0.184421</td>\n",
       "      <td>0.489723</td>\n",
       "      <td>0.869179</td>\n",
       "      <td>0.497482</td>\n",
       "      <td>...</td>\n",
       "      <td>0.424468</td>\n",
       "      <td>0.262601</td>\n",
       "      <td>0.259130</td>\n",
       "      <td>0.230842</td>\n",
       "      <td>0.334221</td>\n",
       "      <td>0.291673</td>\n",
       "      <td>0.294321</td>\n",
       "      <td>0.376545</td>\n",
       "      <td>0.307811</td>\n",
       "      <td>0.214136</td>\n",
       "    </tr>\n",
       "    <tr>\n",
       "      <th>ENSG00000163631.16</th>\n",
       "      <td>0.559862</td>\n",
       "      <td>0.600884</td>\n",
       "      <td>1.000000</td>\n",
       "      <td>0.557656</td>\n",
       "      <td>0.247089</td>\n",
       "      <td>0.549351</td>\n",
       "      <td>0.161035</td>\n",
       "      <td>0.369418</td>\n",
       "      <td>0.553536</td>\n",
       "      <td>0.388951</td>\n",
       "      <td>...</td>\n",
       "      <td>0.274460</td>\n",
       "      <td>0.181878</td>\n",
       "      <td>0.151251</td>\n",
       "      <td>0.146727</td>\n",
       "      <td>0.190666</td>\n",
       "      <td>0.250033</td>\n",
       "      <td>0.157165</td>\n",
       "      <td>0.275665</td>\n",
       "      <td>0.192901</td>\n",
       "      <td>0.163430</td>\n",
       "    </tr>\n",
       "    <tr>\n",
       "      <th>ENSG00000277632.1</th>\n",
       "      <td>0.928075</td>\n",
       "      <td>0.893781</td>\n",
       "      <td>0.557656</td>\n",
       "      <td>1.000000</td>\n",
       "      <td>0.275960</td>\n",
       "      <td>0.682808</td>\n",
       "      <td>0.214711</td>\n",
       "      <td>0.501672</td>\n",
       "      <td>0.872710</td>\n",
       "      <td>0.528294</td>\n",
       "      <td>...</td>\n",
       "      <td>0.358499</td>\n",
       "      <td>0.209312</td>\n",
       "      <td>0.195997</td>\n",
       "      <td>0.174349</td>\n",
       "      <td>0.241799</td>\n",
       "      <td>0.271280</td>\n",
       "      <td>0.236502</td>\n",
       "      <td>0.357468</td>\n",
       "      <td>0.311581</td>\n",
       "      <td>0.146560</td>\n",
       "    </tr>\n",
       "    <tr>\n",
       "      <th>ENSG00000239839.6</th>\n",
       "      <td>0.274772</td>\n",
       "      <td>0.272898</td>\n",
       "      <td>0.247089</td>\n",
       "      <td>0.275960</td>\n",
       "      <td>1.000000</td>\n",
       "      <td>0.393518</td>\n",
       "      <td>0.164051</td>\n",
       "      <td>0.237542</td>\n",
       "      <td>0.251768</td>\n",
       "      <td>0.480873</td>\n",
       "      <td>...</td>\n",
       "      <td>0.207756</td>\n",
       "      <td>0.185433</td>\n",
       "      <td>0.153967</td>\n",
       "      <td>0.144140</td>\n",
       "      <td>0.184685</td>\n",
       "      <td>0.166501</td>\n",
       "      <td>0.142441</td>\n",
       "      <td>0.245541</td>\n",
       "      <td>0.174094</td>\n",
       "      <td>0.156663</td>\n",
       "    </tr>\n",
       "  </tbody>\n",
       "</table>\n",
       "<p>5 rows × 5000 columns</p>\n",
       "</div>"
      ],
      "text/plain": [
       "gene_ens_id         ENSG00000169429.10  ENSG00000135245.9  ENSG00000163631.16  \\\n",
       "gene_ens_id                                                                     \n",
       "ENSG00000169429.10            1.000000           0.898121            0.559862   \n",
       "ENSG00000135245.9             0.898121           1.000000            0.600884   \n",
       "ENSG00000163631.16            0.559862           0.600884            1.000000   \n",
       "ENSG00000277632.1             0.928075           0.893781            0.557656   \n",
       "ENSG00000239839.6             0.274772           0.272898            0.247089   \n",
       "\n",
       "gene_ens_id         ENSG00000277632.1  ENSG00000239839.6  ENSG00000186652.9  \\\n",
       "gene_ens_id                                                                   \n",
       "ENSG00000169429.10           0.928075           0.274772           0.650528   \n",
       "ENSG00000135245.9            0.893781           0.272898           0.651888   \n",
       "ENSG00000163631.16           0.557656           0.247089           0.549351   \n",
       "ENSG00000277632.1            1.000000           0.275960           0.682808   \n",
       "ENSG00000239839.6            0.275960           1.000000           0.393518   \n",
       "\n",
       "gene_ens_id         ENSG00000129824.15  ENSG00000152463.14  ENSG00000123689.5  \\\n",
       "gene_ens_id                                                                     \n",
       "ENSG00000169429.10            0.214942            0.512846           0.920077   \n",
       "ENSG00000135245.9             0.184421            0.489723           0.869179   \n",
       "ENSG00000163631.16            0.161035            0.369418           0.553536   \n",
       "ENSG00000277632.1             0.214711            0.501672           0.872710   \n",
       "ENSG00000239839.6             0.164051            0.237542           0.251768   \n",
       "\n",
       "gene_ens_id         ENSG00000012223.12  ...  ENSG00000122033.14  \\\n",
       "gene_ens_id                             ...                       \n",
       "ENSG00000169429.10            0.477458  ...            0.360014   \n",
       "ENSG00000135245.9             0.497482  ...            0.424468   \n",
       "ENSG00000163631.16            0.388951  ...            0.274460   \n",
       "ENSG00000277632.1             0.528294  ...            0.358499   \n",
       "ENSG00000239839.6             0.480873  ...            0.207756   \n",
       "\n",
       "gene_ens_id         ENSG00000145779.7  ENSG00000196396.9  ENSG00000216490.3  \\\n",
       "gene_ens_id                                                                   \n",
       "ENSG00000169429.10           0.236945           0.175348           0.174412   \n",
       "ENSG00000135245.9            0.262601           0.259130           0.230842   \n",
       "ENSG00000163631.16           0.181878           0.151251           0.146727   \n",
       "ENSG00000277632.1            0.209312           0.195997           0.174349   \n",
       "ENSG00000239839.6            0.185433           0.153967           0.144140   \n",
       "\n",
       "gene_ens_id         ENSG00000135521.8  ENSG00000198478.7  ENSG00000168137.15  \\\n",
       "gene_ens_id                                                                    \n",
       "ENSG00000169429.10           0.240515           0.273663            0.271071   \n",
       "ENSG00000135245.9            0.334221           0.291673            0.294321   \n",
       "ENSG00000163631.16           0.190666           0.250033            0.157165   \n",
       "ENSG00000277632.1            0.241799           0.271280            0.236502   \n",
       "ENSG00000239839.6            0.184685           0.166501            0.142441   \n",
       "\n",
       "gene_ens_id         ENSG00000182197.10  ENSG00000111641.11  ENSG00000168528.11  \n",
       "gene_ens_id                                                                     \n",
       "ENSG00000169429.10            0.348093            0.272177            0.162018  \n",
       "ENSG00000135245.9             0.376545            0.307811            0.214136  \n",
       "ENSG00000163631.16            0.275665            0.192901            0.163430  \n",
       "ENSG00000277632.1             0.357468            0.311581            0.146560  \n",
       "ENSG00000239839.6             0.245541            0.174094            0.156663  \n",
       "\n",
       "[5 rows x 5000 columns]"
      ]
     },
     "execution_count": 31,
     "metadata": {},
     "output_type": "execute_result"
    }
   ],
   "source": [
    "mic_df.head()"
   ]
  },
  {
   "cell_type": "code",
   "execution_count": 32,
   "id": "c23a114e-6575-4e81-8b05-21837915cfe5",
   "metadata": {
    "execution": {
     "iopub.execute_input": "2022-05-31T13:55:26.235932Z",
     "iopub.status.busy": "2022-05-31T13:55:26.235722Z",
     "iopub.status.idle": "2022-05-31T13:55:26.430107Z",
     "shell.execute_reply": "2022-05-31T13:55:26.429489Z"
    },
    "papermill": {
     "duration": 0.205804,
     "end_time": "2022-05-31T13:55:26.431638",
     "exception": false,
     "start_time": "2022-05-31T13:55:26.225834",
     "status": "completed"
    },
    "tags": []
   },
   "outputs": [],
   "source": [
    "mic_df = get_upper_triag(mic_df)"
   ]
  },
  {
   "cell_type": "code",
   "execution_count": 33,
   "id": "53c7f845-8c09-4a63-9410-cee12d4dcb73",
   "metadata": {
    "execution": {
     "iopub.execute_input": "2022-05-31T13:55:26.451794Z",
     "iopub.status.busy": "2022-05-31T13:55:26.451588Z",
     "iopub.status.idle": "2022-05-31T13:55:55.194568Z",
     "shell.execute_reply": "2022-05-31T13:55:55.193949Z"
    },
    "papermill": {
     "duration": 28.754842,
     "end_time": "2022-05-31T13:55:55.196414",
     "exception": false,
     "start_time": "2022-05-31T13:55:26.441572",
     "status": "completed"
    },
    "tags": []
   },
   "outputs": [],
   "source": [
    "mic_df = mic_df.unstack().rename_axis((None, None)).dropna().sort_index().rename(\"mic\")"
   ]
  },
  {
   "cell_type": "code",
   "execution_count": 34,
   "id": "634ff5a5-0015-49c6-a271-8a18717de49a",
   "metadata": {
    "execution": {
     "iopub.execute_input": "2022-05-31T13:55:55.218560Z",
     "iopub.status.busy": "2022-05-31T13:55:55.218396Z",
     "iopub.status.idle": "2022-05-31T13:55:55.222178Z",
     "shell.execute_reply": "2022-05-31T13:55:55.221675Z"
    },
    "papermill": {
     "duration": 0.015765,
     "end_time": "2022-05-31T13:55:55.223424",
     "exception": false,
     "start_time": "2022-05-31T13:55:55.207659",
     "status": "completed"
    },
    "tags": []
   },
   "outputs": [
    {
     "data": {
      "text/plain": [
       "(12497500,)"
      ]
     },
     "execution_count": 34,
     "metadata": {},
     "output_type": "execute_result"
    }
   ],
   "source": [
    "mic_df.shape"
   ]
  },
  {
   "cell_type": "code",
   "execution_count": 35,
   "id": "cff8ea56-4aa1-4dcc-9f72-7dfaeb294964",
   "metadata": {
    "execution": {
     "iopub.execute_input": "2022-05-31T13:55:55.243967Z",
     "iopub.status.busy": "2022-05-31T13:55:55.243760Z",
     "iopub.status.idle": "2022-05-31T13:55:55.249766Z",
     "shell.execute_reply": "2022-05-31T13:55:55.249222Z"
    },
    "papermill": {
     "duration": 0.017613,
     "end_time": "2022-05-31T13:55:55.251057",
     "exception": false,
     "start_time": "2022-05-31T13:55:55.233444",
     "status": "completed"
    },
    "tags": []
   },
   "outputs": [
    {
     "data": {
      "text/plain": [
       "ENSG00000000419.12  ENSG00000002834.17    0.569503\n",
       "                    ENSG00000002919.14    0.613696\n",
       "                    ENSG00000002933.7     0.146093\n",
       "                    ENSG00000003402.19    0.565137\n",
       "                    ENSG00000004478.7     0.253103\n",
       "Name: mic, dtype: float64"
      ]
     },
     "execution_count": 35,
     "metadata": {},
     "output_type": "execute_result"
    }
   ],
   "source": [
    "mic_df.head()"
   ]
  },
  {
   "cell_type": "markdown",
   "id": "d8ad7af3-5821-4501-b336-c01a4cfb78ec",
   "metadata": {
    "papermill": {
     "duration": 0.00915,
     "end_time": "2022-05-31T13:55:55.270016",
     "exception": false,
     "start_time": "2022-05-31T13:55:55.260866",
     "status": "completed"
    },
    "tags": []
   },
   "source": [
    "## Checks"
   ]
  },
  {
   "cell_type": "code",
   "execution_count": 36,
   "id": "b4006fb7-2a5b-45a7-b11a-249d8873f58b",
   "metadata": {
    "execution": {
     "iopub.execute_input": "2022-05-31T13:55:55.289314Z",
     "iopub.status.busy": "2022-05-31T13:55:55.289129Z",
     "iopub.status.idle": "2022-05-31T13:56:27.739280Z",
     "shell.execute_reply": "2022-05-31T13:56:27.738512Z"
    },
    "papermill": {
     "duration": 32.461871,
     "end_time": "2022-05-31T13:56:27.741062",
     "exception": false,
     "start_time": "2022-05-31T13:55:55.279191",
     "status": "completed"
    },
    "tags": []
   },
   "outputs": [],
   "source": [
    "assert (\n",
    "    len(set(clustermatch_df.index).intersection(set(mic_df.index)))\n",
    "    == clustermatch_df.index.shape[0]\n",
    ")"
   ]
  },
  {
   "cell_type": "code",
   "execution_count": 37,
   "id": "7df002b2-c31b-44d8-8ffe-1f94cb9db786",
   "metadata": {
    "execution": {
     "iopub.execute_input": "2022-05-31T13:56:27.766523Z",
     "iopub.status.busy": "2022-05-31T13:56:27.766326Z",
     "iopub.status.idle": "2022-05-31T13:56:39.460610Z",
     "shell.execute_reply": "2022-05-31T13:56:39.459972Z"
    },
    "papermill": {
     "duration": 11.708714,
     "end_time": "2022-05-31T13:56:39.462243",
     "exception": false,
     "start_time": "2022-05-31T13:56:27.753529",
     "status": "completed"
    },
    "tags": []
   },
   "outputs": [],
   "source": [
    "assert (\n",
    "    len(set(clustermatch_df.index).intersection(set(mic_df.index)))\n",
    "    == mic_df.index.shape[0]\n",
    ")"
   ]
  },
  {
   "cell_type": "code",
   "execution_count": 38,
   "id": "1b2abea5-e444-411e-8e13-8cb02386b25c",
   "metadata": {
    "execution": {
     "iopub.execute_input": "2022-05-31T13:56:39.488126Z",
     "iopub.status.busy": "2022-05-31T13:56:39.487938Z",
     "iopub.status.idle": "2022-05-31T13:56:55.265530Z",
     "shell.execute_reply": "2022-05-31T13:56:55.264836Z"
    },
    "papermill": {
     "duration": 15.792387,
     "end_time": "2022-05-31T13:56:55.267330",
     "exception": false,
     "start_time": "2022-05-31T13:56:39.474943",
     "status": "completed"
    },
    "tags": []
   },
   "outputs": [],
   "source": [
    "assert (\n",
    "    len(set(pearson_df.index).intersection(set(mic_df.index))) == mic_df.index.shape[0]\n",
    ")"
   ]
  },
  {
   "cell_type": "code",
   "execution_count": 39,
   "id": "1562a4ec-c46b-4c99-8fc8-8465a14d6281",
   "metadata": {
    "execution": {
     "iopub.execute_input": "2022-05-31T13:56:55.293280Z",
     "iopub.status.busy": "2022-05-31T13:56:55.293089Z",
     "iopub.status.idle": "2022-05-31T13:57:11.633538Z",
     "shell.execute_reply": "2022-05-31T13:57:11.632891Z"
    },
    "papermill": {
     "duration": 16.355305,
     "end_time": "2022-05-31T13:57:11.635341",
     "exception": false,
     "start_time": "2022-05-31T13:56:55.280036",
     "status": "completed"
    },
    "tags": []
   },
   "outputs": [],
   "source": [
    "assert (\n",
    "    len(set(spearman_df.index).intersection(set(mic_df.index))) == mic_df.index.shape[0]\n",
    ")"
   ]
  },
  {
   "cell_type": "markdown",
   "id": "3638377a-c786-42ba-8a13-55e424fc662c",
   "metadata": {
    "papermill": {
     "duration": 0.01213,
     "end_time": "2022-05-31T13:57:11.660169",
     "exception": false,
     "start_time": "2022-05-31T13:57:11.648039",
     "status": "completed"
    },
    "tags": []
   },
   "source": [
    "## Merge"
   ]
  },
  {
   "cell_type": "code",
   "execution_count": 40,
   "id": "cc8d2439-f340-45ef-b9fc-0febf1a66a16",
   "metadata": {
    "execution": {
     "iopub.execute_input": "2022-05-31T13:57:11.682887Z",
     "iopub.status.busy": "2022-05-31T13:57:11.682712Z",
     "iopub.status.idle": "2022-05-31T13:57:33.965043Z",
     "shell.execute_reply": "2022-05-31T13:57:33.964531Z"
    },
    "papermill": {
     "duration": 22.29497,
     "end_time": "2022-05-31T13:57:33.966558",
     "exception": false,
     "start_time": "2022-05-31T13:57:11.671588",
     "status": "completed"
    },
    "tags": []
   },
   "outputs": [],
   "source": [
    "df = pd.concat(\n",
    "    [clustermatch_df, pearson_df, spearman_df, mic_df], join=\"inner\", axis=1\n",
    ").sort_index()"
   ]
  },
  {
   "cell_type": "code",
   "execution_count": 41,
   "id": "cb4478c0-074e-459c-997f-cf2c0284a091",
   "metadata": {
    "execution": {
     "iopub.execute_input": "2022-05-31T13:57:33.987139Z",
     "iopub.status.busy": "2022-05-31T13:57:33.986930Z",
     "iopub.status.idle": "2022-05-31T13:57:33.991165Z",
     "shell.execute_reply": "2022-05-31T13:57:33.990534Z"
    },
    "papermill": {
     "duration": 0.015839,
     "end_time": "2022-05-31T13:57:33.992488",
     "exception": false,
     "start_time": "2022-05-31T13:57:33.976649",
     "status": "completed"
    },
    "tags": []
   },
   "outputs": [
    {
     "data": {
      "text/plain": [
       "(12497500, 4)"
      ]
     },
     "metadata": {},
     "output_type": "display_data"
    }
   ],
   "source": [
    "display(df.shape)\n",
    "assert df.shape[0] == mic_df.shape[0]"
   ]
  },
  {
   "cell_type": "code",
   "execution_count": 42,
   "id": "04707437-0cbf-477a-a93a-0d7a164c028d",
   "metadata": {
    "execution": {
     "iopub.execute_input": "2022-05-31T13:57:34.012819Z",
     "iopub.status.busy": "2022-05-31T13:57:34.012610Z",
     "iopub.status.idle": "2022-05-31T13:57:34.051169Z",
     "shell.execute_reply": "2022-05-31T13:57:34.050476Z"
    },
    "papermill": {
     "duration": 0.050702,
     "end_time": "2022-05-31T13:57:34.052999",
     "exception": false,
     "start_time": "2022-05-31T13:57:34.002297",
     "status": "completed"
    },
    "tags": []
   },
   "outputs": [],
   "source": [
    "assert not df.isna().any().any()"
   ]
  },
  {
   "cell_type": "code",
   "execution_count": 43,
   "id": "facaa3ce-4324-4666-9c54-523b86669787",
   "metadata": {
    "execution": {
     "iopub.execute_input": "2022-05-31T13:57:34.077056Z",
     "iopub.status.busy": "2022-05-31T13:57:34.076892Z",
     "iopub.status.idle": "2022-05-31T13:57:34.085398Z",
     "shell.execute_reply": "2022-05-31T13:57:34.084966Z"
    },
    "papermill": {
     "duration": 0.021438,
     "end_time": "2022-05-31T13:57:34.086679",
     "exception": false,
     "start_time": "2022-05-31T13:57:34.065241",
     "status": "completed"
    },
    "tags": []
   },
   "outputs": [
    {
     "data": {
      "text/html": [
       "<div>\n",
       "<style scoped>\n",
       "    .dataframe tbody tr th:only-of-type {\n",
       "        vertical-align: middle;\n",
       "    }\n",
       "\n",
       "    .dataframe tbody tr th {\n",
       "        vertical-align: top;\n",
       "    }\n",
       "\n",
       "    .dataframe thead th {\n",
       "        text-align: right;\n",
       "    }\n",
       "</style>\n",
       "<table border=\"1\" class=\"dataframe\">\n",
       "  <thead>\n",
       "    <tr style=\"text-align: right;\">\n",
       "      <th></th>\n",
       "      <th></th>\n",
       "      <th>clustermatch</th>\n",
       "      <th>pearson</th>\n",
       "      <th>spearman</th>\n",
       "      <th>mic</th>\n",
       "    </tr>\n",
       "  </thead>\n",
       "  <tbody>\n",
       "    <tr>\n",
       "      <th rowspan=\"5\" valign=\"top\">ENSG00000000419.12</th>\n",
       "      <th>ENSG00000002834.17</th>\n",
       "      <td>0.418721</td>\n",
       "      <td>0.681847</td>\n",
       "      <td>0.786595</td>\n",
       "      <td>0.569503</td>\n",
       "    </tr>\n",
       "    <tr>\n",
       "      <th>ENSG00000002919.14</th>\n",
       "      <td>0.405090</td>\n",
       "      <td>0.734699</td>\n",
       "      <td>0.816991</td>\n",
       "      <td>0.613696</td>\n",
       "    </tr>\n",
       "    <tr>\n",
       "      <th>ENSG00000002933.7</th>\n",
       "      <td>0.007466</td>\n",
       "      <td>0.013825</td>\n",
       "      <td>0.004128</td>\n",
       "      <td>0.146093</td>\n",
       "    </tr>\n",
       "    <tr>\n",
       "      <th>ENSG00000003402.19</th>\n",
       "      <td>0.391683</td>\n",
       "      <td>0.727347</td>\n",
       "      <td>0.803653</td>\n",
       "      <td>0.565137</td>\n",
       "    </tr>\n",
       "    <tr>\n",
       "      <th>ENSG00000004478.7</th>\n",
       "      <td>0.099013</td>\n",
       "      <td>0.094147</td>\n",
       "      <td>0.231269</td>\n",
       "      <td>0.253103</td>\n",
       "    </tr>\n",
       "  </tbody>\n",
       "</table>\n",
       "</div>"
      ],
      "text/plain": [
       "                                       clustermatch   pearson  spearman  \\\n",
       "ENSG00000000419.12 ENSG00000002834.17      0.418721  0.681847  0.786595   \n",
       "                   ENSG00000002919.14      0.405090  0.734699  0.816991   \n",
       "                   ENSG00000002933.7       0.007466  0.013825  0.004128   \n",
       "                   ENSG00000003402.19      0.391683  0.727347  0.803653   \n",
       "                   ENSG00000004478.7       0.099013  0.094147  0.231269   \n",
       "\n",
       "                                            mic  \n",
       "ENSG00000000419.12 ENSG00000002834.17  0.569503  \n",
       "                   ENSG00000002919.14  0.613696  \n",
       "                   ENSG00000002933.7   0.146093  \n",
       "                   ENSG00000003402.19  0.565137  \n",
       "                   ENSG00000004478.7   0.253103  "
      ]
     },
     "execution_count": 43,
     "metadata": {},
     "output_type": "execute_result"
    }
   ],
   "source": [
    "df.head()"
   ]
  },
  {
   "cell_type": "markdown",
   "id": "24a50051-141d-4ba0-ad33-3123b4afc1b6",
   "metadata": {
    "papermill": {
     "duration": 0.009808,
     "end_time": "2022-05-31T13:57:34.107374",
     "exception": false,
     "start_time": "2022-05-31T13:57:34.097566",
     "status": "completed"
    },
    "tags": []
   },
   "source": [
    "# Save"
   ]
  },
  {
   "cell_type": "code",
   "execution_count": 44,
   "id": "2f20fdf4-a44a-48c0-bbe1-8def473ac2a5",
   "metadata": {
    "execution": {
     "iopub.execute_input": "2022-05-31T13:57:34.128222Z",
     "iopub.status.busy": "2022-05-31T13:57:34.127652Z",
     "iopub.status.idle": "2022-05-31T13:57:36.622031Z",
     "shell.execute_reply": "2022-05-31T13:57:36.619937Z"
    },
    "papermill": {
     "duration": 2.510449,
     "end_time": "2022-05-31T13:57:36.627583",
     "exception": false,
     "start_time": "2022-05-31T13:57:34.117134",
     "status": "completed"
    },
    "tags": []
   },
   "outputs": [],
   "source": [
    "df.to_pickle(OUTPUT_FILE)"
   ]
  },
  {
   "cell_type": "code",
   "execution_count": null,
   "id": "8f464a7f-b76f-4898-8bf5-074eabd33626",
   "metadata": {
    "papermill": {
     "duration": 0.022575,
     "end_time": "2022-05-31T13:57:36.661047",
     "exception": false,
     "start_time": "2022-05-31T13:57:36.638472",
     "status": "completed"
    },
    "tags": []
   },
   "outputs": [],
   "source": []
  }
 ],
 "metadata": {
  "jupytext": {
   "cell_metadata_filter": "all,-execution,-papermill,-trusted"
  },
  "kernelspec": {
   "display_name": "Python 3 (ipykernel)",
   "language": "python",
   "name": "python3"
  },
  "language_info": {
   "codemirror_mode": {
    "name": "ipython",
    "version": 3
   },
   "file_extension": ".py",
   "mimetype": "text/x-python",
   "name": "python",
   "nbconvert_exporter": "python",
   "pygments_lexer": "ipython3",
   "version": "3.9.12"
  },
  "papermill": {
   "default_parameters": {},
   "duration": 224.771709,
   "end_time": "2022-05-31T13:57:38.394218",
   "environment_variables": {},
   "exception": null,
   "input_path": "nbs/20_comparison_others/50-combine_all.ipynb",
   "output_path": "nbs/20_comparison_others/50-combine_all.run.ipynb",
   "parameters": {
    "GTEX_TISSUE": "skin_sun_exposed_lower_leg"
   },
   "start_time": "2022-05-31T13:53:53.622509",
   "version": "2.3.3"
  }
 },
 "nbformat": 4,
 "nbformat_minor": 5
}
