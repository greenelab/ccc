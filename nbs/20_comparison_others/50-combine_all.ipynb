{
 "cells": [
  {
   "cell_type": "markdown",
   "id": "c1948eb4-fb63-4fad-8243-bcd57b98def3",
   "metadata": {
    "papermill": {
     "duration": 0.043688,
     "end_time": "2022-01-28T21:06:31.001528",
     "exception": false,
     "start_time": "2022-01-28T21:06:30.957840",
     "status": "completed"
    },
    "tags": []
   },
   "source": [
    "# Description"
   ]
  },
  {
   "cell_type": "markdown",
   "id": "0abb1d73-c786-4c6d-9dc2-b9243e5183e2",
   "metadata": {
    "papermill": {
     "duration": 0.036913,
     "end_time": "2022-01-28T21:06:31.075451",
     "exception": false,
     "start_time": "2022-01-28T21:06:31.038538",
     "status": "completed"
    },
    "tags": []
   },
   "source": [
    "It combines all coefficient values in one tissue (see `Settings` below) into a single dataframe for easier processing later.\n",
    "\n",
    "This notebook incorporates results using MIC, which was computed only in a subset of gene pairs due to its computational complexity."
   ]
  },
  {
   "cell_type": "markdown",
   "id": "d6252b4c-6d56-4cf0-aecd-5d8c769a3609",
   "metadata": {
    "papermill": {
     "duration": 0.036915,
     "end_time": "2022-01-28T21:06:31.149476",
     "exception": false,
     "start_time": "2022-01-28T21:06:31.112561",
     "status": "completed"
    },
    "tags": []
   },
   "source": [
    "# Modules loading"
   ]
  },
  {
   "cell_type": "code",
   "execution_count": null,
   "id": "77e9d29d-5307-4b4a-b103-7d1fbd6a7e56",
   "metadata": {
    "papermill": {
     "duration": 0.300189,
     "end_time": "2022-01-28T21:06:31.486761",
     "exception": false,
     "start_time": "2022-01-28T21:06:31.186572",
     "status": "completed"
    },
    "tags": []
   },
   "outputs": [],
   "source": [
    "import pandas as pd\n",
    "\n",
    "from clustermatch import conf\n",
    "from clustermatch.utils import get_upper_triag"
   ]
  },
  {
   "cell_type": "markdown",
   "id": "262eb535-3e5d-43d7-9efd-bd6cfdac9190",
   "metadata": {
    "papermill": {
     "duration": 0.03715,
     "end_time": "2022-01-28T21:06:31.562453",
     "exception": false,
     "start_time": "2022-01-28T21:06:31.525303",
     "status": "completed"
    },
    "tags": []
   },
   "source": [
    "# Settings"
   ]
  },
  {
   "cell_type": "code",
   "execution_count": null,
   "id": "2d2bd14a-a40d-4710-98c2-587148d0f532",
   "metadata": {
    "papermill": {
     "duration": 0.042773,
     "end_time": "2022-01-28T21:06:31.642836",
     "exception": false,
     "start_time": "2022-01-28T21:06:31.600063",
     "status": "completed"
    },
    "tags": []
   },
   "outputs": [],
   "source": [
    "DATASET_CONFIG = conf.GTEX\n",
    "# whole blood by default, but this is a parameters cells that can be changed when running papermill\n",
    "GTEX_TISSUE = \"whole_blood\"\n",
    "GENE_SEL_STRATEGY = \"var_pc_log2\"\n",
    "\n",
    "METHOD_NAME = \"mic\""
   ]
  },
  {
   "cell_type": "markdown",
   "id": "eec9bb6d-4ba2-4817-9b36-bc8e68a2beae",
   "metadata": {
    "papermill": {
     "duration": 0.037221,
     "end_time": "2022-01-28T21:06:31.718740",
     "exception": false,
     "start_time": "2022-01-28T21:06:31.681519",
     "status": "completed"
    },
    "tags": []
   },
   "source": [
    "# Paths"
   ]
  },
  {
   "cell_type": "code",
   "execution_count": null,
   "id": "ea7dd904-cba8-41ce-ae8b-0fdf9bf69085",
   "metadata": {
    "papermill": {
     "duration": 0.04853,
     "end_time": "2022-01-28T21:06:31.804863",
     "exception": false,
     "start_time": "2022-01-28T21:06:31.756333",
     "status": "completed"
    },
    "tags": []
   },
   "outputs": [],
   "source": [
    "COMPARISONS_DIR = DATASET_CONFIG[\"RESULTS_DIR\"] / \"comparison_others\"\n",
    "display(COMPARISONS_DIR)"
   ]
  },
  {
   "cell_type": "code",
   "execution_count": null,
   "id": "a4d3fdfe-5fe8-4248-bffe-fc3b9d1b349f",
   "metadata": {
    "papermill": {
     "duration": 0.043388,
     "end_time": "2022-01-28T21:06:31.886803",
     "exception": false,
     "start_time": "2022-01-28T21:06:31.843415",
     "status": "completed"
    },
    "tags": []
   },
   "outputs": [],
   "source": [
    "INPUT_DIR = COMPARISONS_DIR / METHOD_NAME\n",
    "display(INPUT_DIR)"
   ]
  },
  {
   "cell_type": "code",
   "execution_count": null,
   "id": "4a461c40-e70e-4d8d-9afd-49d970dca889",
   "metadata": {
    "papermill": {
     "duration": 0.044113,
     "end_time": "2022-01-28T21:06:31.969116",
     "exception": false,
     "start_time": "2022-01-28T21:06:31.925003",
     "status": "completed"
    },
    "tags": []
   },
   "outputs": [],
   "source": [
    "INPUT_CORR_FILE_TEMPLATE = (\n",
    "    DATASET_CONFIG[\"SIMILARITY_MATRICES_DIR\"]\n",
    "    / DATASET_CONFIG[\"SIMILARITY_MATRIX_FILENAME_TEMPLATE\"]\n",
    ")\n",
    "display(INPUT_CORR_FILE_TEMPLATE)"
   ]
  },
  {
   "cell_type": "code",
   "execution_count": null,
   "id": "34c70f63-0878-4f29-9ea5-2570e6f9f33b",
   "metadata": {
    "papermill": {
     "duration": 0.044592,
     "end_time": "2022-01-28T21:06:32.052631",
     "exception": false,
     "start_time": "2022-01-28T21:06:32.008039",
     "status": "completed"
    },
    "tags": []
   },
   "outputs": [],
   "source": [
    "INPUT_CORR_FILE_TEMPLATE = (\n",
    "    DATASET_CONFIG[\"SIMILARITY_MATRICES_DIR\"]\n",
    "    / DATASET_CONFIG[\"SIMILARITY_MATRIX_FILENAME_TEMPLATE\"]\n",
    ")\n",
    "display(INPUT_CORR_FILE_TEMPLATE)"
   ]
  },
  {
   "cell_type": "code",
   "execution_count": null,
   "id": "92b9bfd4",
   "metadata": {
    "papermill": {
     "duration": 0.045223,
     "end_time": "2022-01-28T21:06:32.136855",
     "exception": false,
     "start_time": "2022-01-28T21:06:32.091632",
     "status": "completed"
    },
    "tags": []
   },
   "outputs": [],
   "source": [
    "OUTPUT_FILE = (\n",
    "    COMPARISONS_DIR / f\"gtex_v8_data_{GTEX_TISSUE}-{GENE_SEL_STRATEGY}-all.pkl\"\n",
    ")\n",
    "display(OUTPUT_FILE)"
   ]
  },
  {
   "cell_type": "markdown",
   "id": "e2746a93-d631-4346-9d10-a5c1f9f8de4a",
   "metadata": {
    "papermill": {
     "duration": 0.047673,
     "end_time": "2022-01-28T21:06:32.248382",
     "exception": false,
     "start_time": "2022-01-28T21:06:32.200709",
     "status": "completed"
    },
    "tags": []
   },
   "source": [
    "# Load data"
   ]
  },
  {
   "cell_type": "markdown",
   "id": "daf60f94-dbb9-48dd-9f9a-9e9e4d21c961",
   "metadata": {
    "papermill": {
     "duration": 0.038501,
     "end_time": "2022-01-28T21:06:32.325699",
     "exception": false,
     "start_time": "2022-01-28T21:06:32.287198",
     "status": "completed"
    },
    "tags": []
   },
   "source": [
    "## Clustermatch"
   ]
  },
  {
   "cell_type": "code",
   "execution_count": null,
   "id": "e88dd03a-4a55-43c0-81a9-45b6332b765a",
   "metadata": {
    "papermill": {
     "duration": 0.135996,
     "end_time": "2022-01-28T21:06:32.500735",
     "exception": false,
     "start_time": "2022-01-28T21:06:32.364739",
     "status": "completed"
    },
    "tags": []
   },
   "outputs": [],
   "source": [
    "clustermatch_df = pd.read_pickle(\n",
    "    str(INPUT_CORR_FILE_TEMPLATE).format(\n",
    "        tissue=GTEX_TISSUE,\n",
    "        gene_sel_strategy=GENE_SEL_STRATEGY,\n",
    "        corr_method=\"clustermatch\",\n",
    "    )\n",
    ")"
   ]
  },
  {
   "cell_type": "code",
   "execution_count": null,
   "id": "e86cc78e-56f4-4c71-b4d9-b2be40503470",
   "metadata": {
    "papermill": {
     "duration": 0.045434,
     "end_time": "2022-01-28T21:06:32.590393",
     "exception": false,
     "start_time": "2022-01-28T21:06:32.544959",
     "status": "completed"
    },
    "tags": []
   },
   "outputs": [],
   "source": [
    "clustermatch_df.shape"
   ]
  },
  {
   "cell_type": "code",
   "execution_count": null,
   "id": "ad07b974-791a-4346-8bdf-770e54a32bab",
   "metadata": {
    "papermill": {
     "duration": 0.062342,
     "end_time": "2022-01-28T21:06:32.693327",
     "exception": false,
     "start_time": "2022-01-28T21:06:32.630985",
     "status": "completed"
    },
    "tags": []
   },
   "outputs": [],
   "source": [
    "clustermatch_df.head()"
   ]
  },
  {
   "cell_type": "code",
   "execution_count": null,
   "id": "fd6fb195-904a-4f2c-acea-49f912dc29db",
   "metadata": {
    "papermill": {
     "duration": 0.307954,
     "end_time": "2022-01-28T21:06:33.041922",
     "exception": false,
     "start_time": "2022-01-28T21:06:32.733968",
     "status": "completed"
    },
    "tags": []
   },
   "outputs": [],
   "source": [
    "clustermatch_df = get_upper_triag(clustermatch_df)"
   ]
  },
  {
   "cell_type": "code",
   "execution_count": null,
   "id": "5d183d84-04e5-426e-83c0-23911cb50a53",
   "metadata": {
    "papermill": {
     "duration": 28.753055,
     "end_time": "2022-01-28T21:07:01.836159",
     "exception": false,
     "start_time": "2022-01-28T21:06:33.083104",
     "status": "completed"
    },
    "tags": []
   },
   "outputs": [],
   "source": [
    "clustermatch_df = (\n",
    "    clustermatch_df.unstack()\n",
    "    .rename_axis((None, None))\n",
    "    .dropna()\n",
    "    .sort_index()\n",
    "    .rename(\"clustermatch\")\n",
    ")"
   ]
  },
  {
   "cell_type": "code",
   "execution_count": null,
   "id": "89a5d232-fabb-440b-a1f7-1c4c50fb5ba8",
   "metadata": {
    "papermill": {
     "duration": 0.045875,
     "end_time": "2022-01-28T21:07:01.924637",
     "exception": false,
     "start_time": "2022-01-28T21:07:01.878762",
     "status": "completed"
    },
    "tags": []
   },
   "outputs": [],
   "source": [
    "clustermatch_df.shape"
   ]
  },
  {
   "cell_type": "code",
   "execution_count": null,
   "id": "4a27d3d0-8f72-44e5-89bc-18d03e136afd",
   "metadata": {
    "papermill": {
     "duration": 0.048929,
     "end_time": "2022-01-28T21:07:02.013987",
     "exception": false,
     "start_time": "2022-01-28T21:07:01.965058",
     "status": "completed"
    },
    "tags": []
   },
   "outputs": [],
   "source": [
    "clustermatch_df.head()"
   ]
  },
  {
   "cell_type": "markdown",
   "id": "813bccee-d7d0-4825-b29f-6ff082c43455",
   "metadata": {
    "papermill": {
     "duration": 0.039762,
     "end_time": "2022-01-28T21:07:02.094275",
     "exception": false,
     "start_time": "2022-01-28T21:07:02.054513",
     "status": "completed"
    },
    "tags": []
   },
   "source": [
    "## Pearson"
   ]
  },
  {
   "cell_type": "code",
   "execution_count": null,
   "id": "7a32595f-551a-430c-85d5-97e5685d313a",
   "metadata": {
    "papermill": {
     "duration": 0.116293,
     "end_time": "2022-01-28T21:07:02.250422",
     "exception": false,
     "start_time": "2022-01-28T21:07:02.134129",
     "status": "completed"
    },
    "tags": []
   },
   "outputs": [],
   "source": [
    "pearson_df = pd.read_pickle(\n",
    "    str(INPUT_CORR_FILE_TEMPLATE).format(\n",
    "        tissue=GTEX_TISSUE,\n",
    "        gene_sel_strategy=GENE_SEL_STRATEGY,\n",
    "        corr_method=\"pearson\",\n",
    "    )\n",
    ")"
   ]
  },
  {
   "cell_type": "code",
   "execution_count": null,
   "id": "7dd92986-8d36-426d-ba7e-ccf5acdf32cc",
   "metadata": {
    "papermill": {
     "duration": 0.046846,
     "end_time": "2022-01-28T21:07:02.339924",
     "exception": false,
     "start_time": "2022-01-28T21:07:02.293078",
     "status": "completed"
    },
    "tags": []
   },
   "outputs": [],
   "source": [
    "pearson_df.shape"
   ]
  },
  {
   "cell_type": "code",
   "execution_count": null,
   "id": "1e8f82e5-3f7f-4825-b18a-e9e0acf19c08",
   "metadata": {
    "papermill": {
     "duration": 0.06143,
     "end_time": "2022-01-28T21:07:02.442472",
     "exception": false,
     "start_time": "2022-01-28T21:07:02.381042",
     "status": "completed"
    },
    "tags": []
   },
   "outputs": [],
   "source": [
    "pearson_df.head()"
   ]
  },
  {
   "cell_type": "code",
   "execution_count": null,
   "id": "5ef0b9e5-76a6-462c-a8eb-59dc16f7e1d8",
   "metadata": {
    "papermill": {
     "duration": 0.304581,
     "end_time": "2022-01-28T21:07:02.790063",
     "exception": false,
     "start_time": "2022-01-28T21:07:02.485482",
     "status": "completed"
    },
    "tags": []
   },
   "outputs": [],
   "source": [
    "pearson_df = get_upper_triag(pearson_df)"
   ]
  },
  {
   "cell_type": "code",
   "execution_count": null,
   "id": "be0a9364-c95f-42f6-8b65-018ab2904a0e",
   "metadata": {
    "papermill": {
     "duration": 28.80236,
     "end_time": "2022-01-28T21:07:31.634587",
     "exception": false,
     "start_time": "2022-01-28T21:07:02.832227",
     "status": "completed"
    },
    "tags": []
   },
   "outputs": [],
   "source": [
    "# make pearson abs\n",
    "pearson_df = (\n",
    "    pearson_df.unstack()\n",
    "    .rename_axis((None, None))\n",
    "    .dropna()\n",
    "    .abs()\n",
    "    .sort_index()\n",
    "    .rename(\"pearson\")\n",
    ")"
   ]
  },
  {
   "cell_type": "code",
   "execution_count": null,
   "id": "20a651ff-95d3-441c-8058-82eabc2ea4c3",
   "metadata": {
    "papermill": {
     "duration": 0.048037,
     "end_time": "2022-01-28T21:07:31.738999",
     "exception": false,
     "start_time": "2022-01-28T21:07:31.690962",
     "status": "completed"
    },
    "tags": []
   },
   "outputs": [],
   "source": [
    "pearson_df.shape"
   ]
  },
  {
   "cell_type": "code",
   "execution_count": null,
   "id": "f65b9f08-a610-4545-bb3d-3978c7108a50",
   "metadata": {
    "papermill": {
     "duration": 0.049376,
     "end_time": "2022-01-28T21:07:31.835639",
     "exception": false,
     "start_time": "2022-01-28T21:07:31.786263",
     "status": "completed"
    },
    "tags": []
   },
   "outputs": [],
   "source": [
    "pearson_df.head()"
   ]
  },
  {
   "cell_type": "markdown",
   "id": "874e5424-c71d-4964-991b-92255ed2ee1e",
   "metadata": {
    "papermill": {
     "duration": 0.041239,
     "end_time": "2022-01-28T21:07:31.919772",
     "exception": false,
     "start_time": "2022-01-28T21:07:31.878533",
     "status": "completed"
    },
    "tags": []
   },
   "source": [
    "## Spearman"
   ]
  },
  {
   "cell_type": "code",
   "execution_count": null,
   "id": "a8041b71-0749-4f0f-b128-6e426b617ceb",
   "metadata": {
    "papermill": {
     "duration": 0.117146,
     "end_time": "2022-01-28T21:07:32.078239",
     "exception": false,
     "start_time": "2022-01-28T21:07:31.961093",
     "status": "completed"
    },
    "tags": []
   },
   "outputs": [],
   "source": [
    "spearman_df = pd.read_pickle(\n",
    "    str(INPUT_CORR_FILE_TEMPLATE).format(\n",
    "        tissue=GTEX_TISSUE,\n",
    "        gene_sel_strategy=GENE_SEL_STRATEGY,\n",
    "        corr_method=\"spearman\",\n",
    "    )\n",
    ")"
   ]
  },
  {
   "cell_type": "code",
   "execution_count": null,
   "id": "920d4d01-69a5-4cb6-90af-e16f8f1a2d2c",
   "metadata": {
    "papermill": {
     "duration": 0.048554,
     "end_time": "2022-01-28T21:07:32.170535",
     "exception": false,
     "start_time": "2022-01-28T21:07:32.121981",
     "status": "completed"
    },
    "tags": []
   },
   "outputs": [],
   "source": [
    "spearman_df.shape"
   ]
  },
  {
   "cell_type": "code",
   "execution_count": null,
   "id": "675464fa-175c-474d-a676-330f9ba9275e",
   "metadata": {
    "papermill": {
     "duration": 0.063069,
     "end_time": "2022-01-28T21:07:32.276782",
     "exception": false,
     "start_time": "2022-01-28T21:07:32.213713",
     "status": "completed"
    },
    "tags": []
   },
   "outputs": [],
   "source": [
    "spearman_df.head()"
   ]
  },
  {
   "cell_type": "code",
   "execution_count": null,
   "id": "f4dc03a1-e8bc-4e8c-a215-418b2ac5915e",
   "metadata": {
    "papermill": {
     "duration": 0.297337,
     "end_time": "2022-01-28T21:07:32.617718",
     "exception": false,
     "start_time": "2022-01-28T21:07:32.320381",
     "status": "completed"
    },
    "tags": []
   },
   "outputs": [],
   "source": [
    "spearman_df = get_upper_triag(spearman_df)"
   ]
  },
  {
   "cell_type": "code",
   "execution_count": null,
   "id": "1b7f49ec-beb3-4d70-97ea-976c8c1d5580",
   "metadata": {
    "papermill": {
     "duration": 28.567603,
     "end_time": "2022-01-28T21:08:01.237276",
     "exception": false,
     "start_time": "2022-01-28T21:07:32.669673",
     "status": "completed"
    },
    "tags": []
   },
   "outputs": [],
   "source": [
    "# make spearman abs\n",
    "spearman_df = (\n",
    "    spearman_df.unstack()\n",
    "    .rename_axis((None, None))\n",
    "    .dropna()\n",
    "    .abs()\n",
    "    .sort_index()\n",
    "    .rename(\"spearman\")\n",
    ")"
   ]
  },
  {
   "cell_type": "code",
   "execution_count": null,
   "id": "ad092d0a-c321-4d4f-9e55-0c287ce1ccc2",
   "metadata": {
    "papermill": {
     "duration": 0.048984,
     "end_time": "2022-01-28T21:08:01.330706",
     "exception": false,
     "start_time": "2022-01-28T21:08:01.281722",
     "status": "completed"
    },
    "tags": []
   },
   "outputs": [],
   "source": [
    "spearman_df.shape"
   ]
  },
  {
   "cell_type": "code",
   "execution_count": null,
   "id": "11f46fa0-08b4-4907-aec2-a173fb459540",
   "metadata": {
    "papermill": {
     "duration": 0.050186,
     "end_time": "2022-01-28T21:08:01.424148",
     "exception": false,
     "start_time": "2022-01-28T21:08:01.373962",
     "status": "completed"
    },
    "tags": []
   },
   "outputs": [],
   "source": [
    "spearman_df.head()"
   ]
  },
  {
   "cell_type": "markdown",
   "id": "b64ee4c7-555a-4b21-a3b1-7e88aae034d9",
   "metadata": {
    "papermill": {
     "duration": 0.038501,
     "end_time": "2022-01-28T21:06:32.325699",
     "exception": false,
     "start_time": "2022-01-28T21:06:32.287198",
     "status": "completed"
    },
    "tags": []
   },
   "source": [
    "## MIC"
   ]
  },
  {
   "cell_type": "code",
   "execution_count": null,
   "id": "2ac2a0e8-abc2-4638-b4da-553dc7510c97",
   "metadata": {
    "papermill": {
     "duration": 0.135996,
     "end_time": "2022-01-28T21:06:32.500735",
     "exception": false,
     "start_time": "2022-01-28T21:06:32.364739",
     "status": "completed"
    },
    "tags": []
   },
   "outputs": [],
   "source": [
    "mic_df = pd.read_pickle(\n",
    "    str(INPUT_CORR_FILE_TEMPLATE).format(\n",
    "        tissue=GTEX_TISSUE,\n",
    "        gene_sel_strategy=GENE_SEL_STRATEGY,\n",
    "        corr_method=\"mic_parallel\",\n",
    "    )\n",
    ")"
   ]
  },
  {
   "cell_type": "code",
   "execution_count": null,
   "id": "03cbfa75-5c90-4f37-8b0c-fbe0e9b46154",
   "metadata": {
    "papermill": {
     "duration": 0.045434,
     "end_time": "2022-01-28T21:06:32.590393",
     "exception": false,
     "start_time": "2022-01-28T21:06:32.544959",
     "status": "completed"
    },
    "tags": []
   },
   "outputs": [],
   "source": [
    "mic_df.shape"
   ]
  },
  {
   "cell_type": "code",
   "execution_count": null,
   "id": "024983de-dfba-4e49-aa02-ad7045811955",
   "metadata": {
    "papermill": {
     "duration": 0.062342,
     "end_time": "2022-01-28T21:06:32.693327",
     "exception": false,
     "start_time": "2022-01-28T21:06:32.630985",
     "status": "completed"
    },
    "tags": []
   },
   "outputs": [],
   "source": [
    "mic_df.head()"
   ]
  },
  {
   "cell_type": "code",
   "execution_count": null,
   "id": "c23a114e-6575-4e81-8b05-21837915cfe5",
   "metadata": {
    "papermill": {
     "duration": 0.307954,
     "end_time": "2022-01-28T21:06:33.041922",
     "exception": false,
     "start_time": "2022-01-28T21:06:32.733968",
     "status": "completed"
    },
    "tags": []
   },
   "outputs": [],
   "source": [
    "mic_df = get_upper_triag(mic_df)"
   ]
  },
  {
   "cell_type": "code",
   "execution_count": null,
   "id": "53c7f845-8c09-4a63-9410-cee12d4dcb73",
   "metadata": {
    "papermill": {
     "duration": 28.753055,
     "end_time": "2022-01-28T21:07:01.836159",
     "exception": false,
     "start_time": "2022-01-28T21:06:33.083104",
     "status": "completed"
    },
    "tags": []
   },
   "outputs": [],
   "source": [
    "mic_df = mic_df.unstack().rename_axis((None, None)).dropna().sort_index().rename(\"mic\")"
   ]
  },
  {
   "cell_type": "code",
   "execution_count": null,
   "id": "634ff5a5-0015-49c6-a271-8a18717de49a",
   "metadata": {
    "papermill": {
     "duration": 0.045875,
     "end_time": "2022-01-28T21:07:01.924637",
     "exception": false,
     "start_time": "2022-01-28T21:07:01.878762",
     "status": "completed"
    },
    "tags": []
   },
   "outputs": [],
   "source": [
    "mic_df.shape"
   ]
  },
  {
   "cell_type": "code",
   "execution_count": null,
   "id": "cff8ea56-4aa1-4dcc-9f72-7dfaeb294964",
   "metadata": {
    "papermill": {
     "duration": 0.048929,
     "end_time": "2022-01-28T21:07:02.013987",
     "exception": false,
     "start_time": "2022-01-28T21:07:01.965058",
     "status": "completed"
    },
    "tags": []
   },
   "outputs": [],
   "source": [
    "mic_df.head()"
   ]
  },
  {
   "cell_type": "markdown",
   "id": "d8ad7af3-5821-4501-b336-c01a4cfb78ec",
   "metadata": {
    "papermill": {
     "duration": 0.04396,
     "end_time": "2022-01-28T21:08:02.952957",
     "exception": false,
     "start_time": "2022-01-28T21:08:02.908997",
     "status": "completed"
    },
    "tags": []
   },
   "source": [
    "## Checks"
   ]
  },
  {
   "cell_type": "code",
   "execution_count": null,
   "id": "b4006fb7-2a5b-45a7-b11a-249d8873f58b",
   "metadata": {
    "papermill": {
     "duration": 2.001106,
     "end_time": "2022-01-28T21:08:04.998126",
     "exception": false,
     "start_time": "2022-01-28T21:08:02.997020",
     "status": "completed"
    },
    "tags": []
   },
   "outputs": [],
   "source": [
    "assert (\n",
    "    len(set(clustermatch_df.index).intersection(set(mic_df.index)))\n",
    "    == clustermatch_df.index.shape[0]\n",
    ")"
   ]
  },
  {
   "cell_type": "code",
   "execution_count": null,
   "id": "7df002b2-c31b-44d8-8ffe-1f94cb9db786",
   "metadata": {
    "papermill": {
     "duration": 2.001106,
     "end_time": "2022-01-28T21:08:04.998126",
     "exception": false,
     "start_time": "2022-01-28T21:08:02.997020",
     "status": "completed"
    },
    "tags": []
   },
   "outputs": [],
   "source": [
    "assert (\n",
    "    len(set(clustermatch_df.index).intersection(set(mic_df.index)))\n",
    "    == mic_df.index.shape[0]\n",
    ")"
   ]
  },
  {
   "cell_type": "code",
   "execution_count": null,
   "id": "1b2abea5-e444-411e-8e13-8cb02386b25c",
   "metadata": {
    "papermill": {
     "duration": 2.001106,
     "end_time": "2022-01-28T21:08:04.998126",
     "exception": false,
     "start_time": "2022-01-28T21:08:02.997020",
     "status": "completed"
    },
    "tags": []
   },
   "outputs": [],
   "source": [
    "assert (\n",
    "    len(set(pearson_df.index).intersection(set(mic_df.index))) == mic_df.index.shape[0]\n",
    ")"
   ]
  },
  {
   "cell_type": "code",
   "execution_count": null,
   "id": "1562a4ec-c46b-4c99-8fc8-8465a14d6281",
   "metadata": {
    "papermill": {
     "duration": 2.001106,
     "end_time": "2022-01-28T21:08:04.998126",
     "exception": false,
     "start_time": "2022-01-28T21:08:02.997020",
     "status": "completed"
    },
    "tags": []
   },
   "outputs": [],
   "source": [
    "assert (\n",
    "    len(set(spearman_df.index).intersection(set(mic_df.index))) == mic_df.index.shape[0]\n",
    ")"
   ]
  },
  {
   "cell_type": "markdown",
   "id": "3638377a-c786-42ba-8a13-55e424fc662c",
   "metadata": {
    "papermill": {
     "duration": 0.043766,
     "end_time": "2022-01-28T21:08:09.227881",
     "exception": false,
     "start_time": "2022-01-28T21:08:09.184115",
     "status": "completed"
    },
    "tags": []
   },
   "source": [
    "## Merge"
   ]
  },
  {
   "cell_type": "code",
   "execution_count": null,
   "id": "cc8d2439-f340-45ef-b9fc-0febf1a66a16",
   "metadata": {
    "papermill": {
     "duration": 6.228081,
     "end_time": "2022-01-28T21:08:15.500668",
     "exception": false,
     "start_time": "2022-01-28T21:08:09.272587",
     "status": "completed"
    },
    "tags": []
   },
   "outputs": [],
   "source": [
    "df = pd.concat(\n",
    "    [clustermatch_df, pearson_df, spearman_df, mic_df], join=\"inner\", axis=1\n",
    ").sort_index()"
   ]
  },
  {
   "cell_type": "code",
   "execution_count": null,
   "id": "cb4478c0-074e-459c-997f-cf2c0284a091",
   "metadata": {
    "papermill": {
     "duration": 0.049992,
     "end_time": "2022-01-28T21:08:15.598286",
     "exception": false,
     "start_time": "2022-01-28T21:08:15.548294",
     "status": "completed"
    },
    "tags": []
   },
   "outputs": [],
   "source": [
    "display(df.shape)\n",
    "assert df.shape[0] == mic_df.shape[0]"
   ]
  },
  {
   "cell_type": "code",
   "execution_count": null,
   "id": "04707437-0cbf-477a-a93a-0d7a164c028d",
   "metadata": {
    "papermill": {
     "duration": 0.054693,
     "end_time": "2022-01-28T21:08:15.698201",
     "exception": false,
     "start_time": "2022-01-28T21:08:15.643508",
     "status": "completed"
    },
    "tags": []
   },
   "outputs": [],
   "source": [
    "assert not df.isna().any().any()"
   ]
  },
  {
   "cell_type": "code",
   "execution_count": null,
   "id": "facaa3ce-4324-4666-9c54-523b86669787",
   "metadata": {
    "papermill": {
     "duration": 0.05593,
     "end_time": "2022-01-28T21:08:15.798571",
     "exception": false,
     "start_time": "2022-01-28T21:08:15.742641",
     "status": "completed"
    },
    "tags": []
   },
   "outputs": [],
   "source": [
    "df.head()"
   ]
  },
  {
   "cell_type": "markdown",
   "id": "24a50051-141d-4ba0-ad33-3123b4afc1b6",
   "metadata": {
    "papermill": {
     "duration": 0.044853,
     "end_time": "2022-01-28T21:08:15.896145",
     "exception": false,
     "start_time": "2022-01-28T21:08:15.851292",
     "status": "completed"
    },
    "tags": []
   },
   "source": [
    "# Save"
   ]
  },
  {
   "cell_type": "code",
   "execution_count": null,
   "id": "2f20fdf4-a44a-48c0-bbe1-8def473ac2a5",
   "metadata": {
    "papermill": {
     "duration": 0.056864,
     "end_time": "2022-01-28T21:08:15.998106",
     "exception": false,
     "start_time": "2022-01-28T21:08:15.941242",
     "status": "completed"
    },
    "tags": []
   },
   "outputs": [],
   "source": [
    "df.to_pickle(OUTPUT_FILE)"
   ]
  },
  {
   "cell_type": "code",
   "execution_count": null,
   "id": "8f464a7f-b76f-4898-8bf5-074eabd33626",
   "metadata": {
    "papermill": {
     "duration": 0.045283,
     "end_time": "2022-01-28T21:08:16.089335",
     "exception": false,
     "start_time": "2022-01-28T21:08:16.044052",
     "status": "completed"
    },
    "tags": []
   },
   "outputs": [],
   "source": []
  }
 ],
 "metadata": {
  "jupytext": {
   "cell_metadata_filter": "all,-execution,-papermill,-trusted",
   "text_representation": {
    "extension": ".py",
    "format_name": "percent",
    "format_version": "1.3",
    "jupytext_version": "1.11.5"
   }
  },
  "kernelspec": {
   "display_name": "Python 3 (ipykernel)",
   "language": "python",
   "name": "python3"
  },
  "language_info": {
   "codemirror_mode": {
    "name": "ipython",
    "version": 3
   },
   "file_extension": ".py",
   "mimetype": "text/x-python",
   "name": "python",
   "nbconvert_exporter": "python",
   "pygments_lexer": "ipython3",
   "version": "3.9.12"
  },
  "papermill": {
   "default_parameters": {},
   "duration": 106.874189,
   "end_time": "2022-01-28T21:08:16.453452",
   "environment_variables": {},
   "exception": null,
   "input_path": "nbs/20_comparison_others/50-combine_all.ipynb",
   "output_path": "nbs/20_comparison_others/50-combine_all.run.ipynb",
   "parameters": {
    "GTEX_TISSUE": "skin_sun_exposed_lower_leg"
   },
   "start_time": "2022-01-28T21:06:29.579263",
   "version": "2.3.3"
  }
 },
 "nbformat": 4,
 "nbformat_minor": 5
}
