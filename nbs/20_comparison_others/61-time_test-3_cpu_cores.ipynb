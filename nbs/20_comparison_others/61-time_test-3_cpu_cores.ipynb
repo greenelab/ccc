{
 "cells": [
  {
   "cell_type": "markdown",
   "id": "c1948eb4-fb63-4fad-8243-bcd57b98def3",
   "metadata": {
    "papermill": {
     "duration": 0.013461,
     "end_time": "2022-04-27T13:30:26.153303",
     "exception": false,
     "start_time": "2022-04-27T13:30:26.139842",
     "status": "completed"
    },
    "tags": []
   },
   "source": [
    "# Description"
   ]
  },
  {
   "cell_type": "markdown",
   "id": "d5775ff8-d222-4fbc-b1a9-8366662c2896",
   "metadata": {
    "papermill": {
     "duration": 0.010204,
     "end_time": "2022-04-27T13:30:26.175573",
     "exception": false,
     "start_time": "2022-04-27T13:30:26.165369",
     "status": "completed"
    },
    "tags": []
   },
   "source": [
    "It generates random variables of varying sizes to compare the time taken by CCC and MIC.\n",
    "\n",
    "This notebook uses 3 CPU core."
   ]
  },
  {
   "cell_type": "markdown",
   "id": "d6252b4c-6d56-4cf0-aecd-5d8c769a3609",
   "metadata": {
    "papermill": {
     "duration": 0.004737,
     "end_time": "2022-04-27T13:30:26.186930",
     "exception": false,
     "start_time": "2022-04-27T13:30:26.182193",
     "status": "completed"
    },
    "tags": []
   },
   "source": [
    "# Modules loading"
   ]
  },
  {
   "cell_type": "code",
   "execution_count": 1,
   "id": "ea7d30d5-da78-454a-a4ff-e6307bfdbb37",
   "metadata": {
    "execution": {
     "iopub.execute_input": "2022-04-27T13:30:26.195925Z",
     "iopub.status.busy": "2022-04-27T13:30:26.195697Z",
     "iopub.status.idle": "2022-04-27T13:30:26.208349Z",
     "shell.execute_reply": "2022-04-27T13:30:26.207737Z"
    },
    "papermill": {
     "duration": 0.018589,
     "end_time": "2022-04-27T13:30:26.209768",
     "exception": false,
     "start_time": "2022-04-27T13:30:26.191179",
     "status": "completed"
    },
    "tags": []
   },
   "outputs": [
    {
     "name": "stdout",
     "output_type": "stream",
     "text": [
      "env: CM_N_JOBS=3\n",
      "env: NUMBA_NUM_THREADS=3\n",
      "env: MKL_NUM_THREADS=3\n",
      "env: OPEN_BLAS_NUM_THREADS=3\n",
      "env: NUMEXPR_NUM_THREADS=3\n",
      "env: OMP_NUM_THREADS=3\n"
     ]
    }
   ],
   "source": [
    "%env CM_N_JOBS=3\n",
    "%env NUMBA_NUM_THREADS=3\n",
    "%env MKL_NUM_THREADS=3\n",
    "%env OPEN_BLAS_NUM_THREADS=3\n",
    "%env NUMEXPR_NUM_THREADS=3\n",
    "%env OMP_NUM_THREADS=3"
   ]
  },
  {
   "cell_type": "code",
   "execution_count": 2,
   "id": "77e9d29d-5307-4b4a-b103-7d1fbd6a7e56",
   "metadata": {
    "execution": {
     "iopub.execute_input": "2022-04-27T13:30:26.217476Z",
     "iopub.status.busy": "2022-04-27T13:30:26.217279Z",
     "iopub.status.idle": "2022-04-27T13:30:26.872439Z",
     "shell.execute_reply": "2022-04-27T13:30:26.871857Z"
    },
    "papermill": {
     "duration": 0.661435,
     "end_time": "2022-04-27T13:30:26.874217",
     "exception": false,
     "start_time": "2022-04-27T13:30:26.212782",
     "status": "completed"
    },
    "tags": []
   },
   "outputs": [],
   "source": [
    "from time import time\n",
    "\n",
    "import numpy as np\n",
    "import pandas as pd\n",
    "from scipy.stats import pearsonr, spearmanr\n",
    "\n",
    "from clustermatch import conf\n",
    "from clustermatch.coef import cm\n",
    "from clustermatch.methods import mic"
   ]
  },
  {
   "cell_type": "markdown",
   "id": "262eb535-3e5d-43d7-9efd-bd6cfdac9190",
   "metadata": {
    "papermill": {
     "duration": 0.002684,
     "end_time": "2022-04-27T13:30:26.879881",
     "exception": false,
     "start_time": "2022-04-27T13:30:26.877197",
     "status": "completed"
    },
    "tags": []
   },
   "source": [
    "# Settings"
   ]
  },
  {
   "cell_type": "code",
   "execution_count": 3,
   "id": "311cc161-c947-447e-b622-6df22ad0e03a",
   "metadata": {
    "execution": {
     "iopub.execute_input": "2022-04-27T13:30:26.886437Z",
     "iopub.status.busy": "2022-04-27T13:30:26.886213Z",
     "iopub.status.idle": "2022-04-27T13:30:26.889486Z",
     "shell.execute_reply": "2022-04-27T13:30:26.889053Z"
    },
    "papermill": {
     "duration": 0.00817,
     "end_time": "2022-04-27T13:30:26.890788",
     "exception": false,
     "start_time": "2022-04-27T13:30:26.882618",
     "status": "completed"
    },
    "tags": []
   },
   "outputs": [],
   "source": [
    "OUTPUT_FILENAME = \"time_test.pkl\""
   ]
  },
  {
   "cell_type": "code",
   "execution_count": 4,
   "id": "2d2bd14a-a40d-4710-98c2-587148d0f532",
   "metadata": {
    "execution": {
     "iopub.execute_input": "2022-04-27T13:30:26.897573Z",
     "iopub.status.busy": "2022-04-27T13:30:26.897377Z",
     "iopub.status.idle": "2022-04-27T13:30:26.900460Z",
     "shell.execute_reply": "2022-04-27T13:30:26.900063Z"
    },
    "papermill": {
     "duration": 0.007891,
     "end_time": "2022-04-27T13:30:26.901671",
     "exception": false,
     "start_time": "2022-04-27T13:30:26.893780",
     "status": "completed"
    },
    "tags": []
   },
   "outputs": [],
   "source": [
    "DATA_SIZES = [\n",
    "    100,\n",
    "    500,\n",
    "    1000,\n",
    "    5000,\n",
    "    10000,\n",
    "    50000,\n",
    "    100000,\n",
    "    1000000,\n",
    "]\n",
    "\n",
    "N_REPS = 10"
   ]
  },
  {
   "cell_type": "code",
   "execution_count": 5,
   "id": "d24607ca-2774-4e51-b392-538c85c86052",
   "metadata": {
    "execution": {
     "iopub.execute_input": "2022-04-27T13:30:26.908454Z",
     "iopub.status.busy": "2022-04-27T13:30:26.908278Z",
     "iopub.status.idle": "2022-04-27T13:30:26.911537Z",
     "shell.execute_reply": "2022-04-27T13:30:26.911086Z"
    },
    "papermill": {
     "duration": 0.008061,
     "end_time": "2022-04-27T13:30:26.912775",
     "exception": false,
     "start_time": "2022-04-27T13:30:26.904714",
     "status": "completed"
    },
    "tags": []
   },
   "outputs": [],
   "source": [
    "np.random.seed(0)"
   ]
  },
  {
   "cell_type": "markdown",
   "id": "eec9bb6d-4ba2-4817-9b36-bc8e68a2beae",
   "metadata": {
    "papermill": {
     "duration": 0.002856,
     "end_time": "2022-04-27T13:30:26.918695",
     "exception": false,
     "start_time": "2022-04-27T13:30:26.915839",
     "status": "completed"
    },
    "tags": []
   },
   "source": [
    "# Paths"
   ]
  },
  {
   "cell_type": "code",
   "execution_count": 6,
   "id": "ee9e6b70-9abd-4714-9ce5-49c270a1b0be",
   "metadata": {
    "execution": {
     "iopub.execute_input": "2022-04-27T13:30:26.925568Z",
     "iopub.status.busy": "2022-04-27T13:30:26.925333Z",
     "iopub.status.idle": "2022-04-27T13:30:26.934879Z",
     "shell.execute_reply": "2022-04-27T13:30:26.934406Z"
    },
    "papermill": {
     "duration": 0.014516,
     "end_time": "2022-04-27T13:30:26.936192",
     "exception": false,
     "start_time": "2022-04-27T13:30:26.921676",
     "status": "completed"
    },
    "tags": []
   },
   "outputs": [
    {
     "data": {
      "text/plain": [
       "PosixPath('/opt/data/results/time_test')"
      ]
     },
     "metadata": {},
     "output_type": "display_data"
    }
   ],
   "source": [
    "OUTPUT_DIR = conf.RESULTS_DIR / \"time_test\"\n",
    "OUTPUT_DIR.mkdir(parents=True, exist_ok=True)\n",
    "display(OUTPUT_DIR)"
   ]
  },
  {
   "cell_type": "markdown",
   "id": "9cb68076-f855-45c8-9843-ce2d93bdc4e7",
   "metadata": {
    "papermill": {
     "duration": 0.002983,
     "end_time": "2022-04-27T13:30:26.942382",
     "exception": false,
     "start_time": "2022-04-27T13:30:26.939399",
     "status": "completed"
    },
    "tags": []
   },
   "source": [
    "# Functions"
   ]
  },
  {
   "cell_type": "code",
   "execution_count": 7,
   "id": "e2c25ecf-0d87-4447-a9ff-a3b511629a61",
   "metadata": {
    "execution": {
     "iopub.execute_input": "2022-04-27T13:30:26.949370Z",
     "iopub.status.busy": "2022-04-27T13:30:26.949215Z",
     "iopub.status.idle": "2022-04-27T13:30:26.953787Z",
     "shell.execute_reply": "2022-04-27T13:30:26.953278Z"
    },
    "papermill": {
     "duration": 0.009619,
     "end_time": "2022-04-27T13:30:26.955080",
     "exception": false,
     "start_time": "2022-04-27T13:30:26.945461",
     "status": "completed"
    },
    "tags": []
   },
   "outputs": [],
   "source": [
    "# append to previous run\n",
    "time_results = pd.read_pickle(OUTPUT_DIR / OUTPUT_FILENAME)"
   ]
  },
  {
   "cell_type": "code",
   "execution_count": 8,
   "id": "3ab0c0b8-f340-4cb4-a236-6523cf0aa995",
   "metadata": {
    "execution": {
     "iopub.execute_input": "2022-04-27T13:30:26.962708Z",
     "iopub.status.busy": "2022-04-27T13:30:26.962096Z",
     "iopub.status.idle": "2022-04-27T13:30:26.966206Z",
     "shell.execute_reply": "2022-04-27T13:30:26.965709Z"
    },
    "papermill": {
     "duration": 0.009293,
     "end_time": "2022-04-27T13:30:26.967618",
     "exception": false,
     "start_time": "2022-04-27T13:30:26.958325",
     "status": "completed"
    },
    "tags": []
   },
   "outputs": [
    {
     "data": {
      "text/plain": [
       "(5300, 4)"
      ]
     },
     "execution_count": 8,
     "metadata": {},
     "output_type": "execute_result"
    }
   ],
   "source": [
    "time_results.shape"
   ]
  },
  {
   "cell_type": "code",
   "execution_count": 9,
   "id": "ffc0d8de-79a6-4ab8-8cc2-5b720392a0e6",
   "metadata": {
    "execution": {
     "iopub.execute_input": "2022-04-27T13:30:26.974886Z",
     "iopub.status.busy": "2022-04-27T13:30:26.974733Z",
     "iopub.status.idle": "2022-04-27T13:30:26.978956Z",
     "shell.execute_reply": "2022-04-27T13:30:26.978567Z"
    },
    "papermill": {
     "duration": 0.00928,
     "end_time": "2022-04-27T13:30:26.980218",
     "exception": false,
     "start_time": "2022-04-27T13:30:26.970938",
     "status": "completed"
    },
    "tags": []
   },
   "outputs": [],
   "source": [
    "def run_method(func, method_name, size):\n",
    "    n_reps = N_REPS\n",
    "    if size < 500:\n",
    "        n_reps = 1000\n",
    "\n",
    "    for r in range(n_reps):\n",
    "        d1 = np.random.rand(size)\n",
    "        d2 = np.random.rand(size)\n",
    "\n",
    "        start_time = time()\n",
    "        sim = func(d1, d2)\n",
    "        end_time = time()\n",
    "        met_time = end_time - start_time\n",
    "\n",
    "        idx = time_results.shape[0]\n",
    "        time_results.loc[idx] = [d1.shape[0], method_name, met_time, sim]"
   ]
  },
  {
   "cell_type": "markdown",
   "id": "7656ffa5-c9c3-41f5-aeb5-21bde8836e81",
   "metadata": {
    "papermill": {
     "duration": 0.00316,
     "end_time": "2022-04-27T13:30:26.986836",
     "exception": false,
     "start_time": "2022-04-27T13:30:26.983676",
     "status": "completed"
    },
    "tags": []
   },
   "source": [
    "# Run"
   ]
  },
  {
   "cell_type": "code",
   "execution_count": 10,
   "id": "3e4fac59-34a7-4b63-8aa0-e845c0a156af",
   "metadata": {
    "execution": {
     "iopub.execute_input": "2022-04-27T13:30:26.994132Z",
     "iopub.status.busy": "2022-04-27T13:30:26.993976Z",
     "iopub.status.idle": "2022-04-27T13:30:27.095920Z",
     "shell.execute_reply": "2022-04-27T13:30:27.095502Z"
    },
    "papermill": {
     "duration": 0.107099,
     "end_time": "2022-04-27T13:30:27.097237",
     "exception": false,
     "start_time": "2022-04-27T13:30:26.990138",
     "status": "completed"
    },
    "tags": []
   },
   "outputs": [
    {
     "data": {
      "text/plain": [
       "0.02047038824894002"
      ]
     },
     "execution_count": 10,
     "metadata": {},
     "output_type": "execute_result"
    }
   ],
   "source": [
    "# initialize methods\n",
    "cm(np.random.rand(100), np.random.rand(100))"
   ]
  },
  {
   "cell_type": "code",
   "execution_count": 11,
   "id": "e3f26ab4-ec59-4e8f-b887-14abc2cc7cae",
   "metadata": {
    "execution": {
     "iopub.execute_input": "2022-04-27T13:30:27.105209Z",
     "iopub.status.busy": "2022-04-27T13:30:27.105006Z",
     "iopub.status.idle": "2022-04-27T13:35:22.146291Z",
     "shell.execute_reply": "2022-04-27T13:35:22.145707Z"
    },
    "papermill": {
     "duration": 295.05072,
     "end_time": "2022-04-27T13:35:22.151545",
     "exception": false,
     "start_time": "2022-04-27T13:30:27.100825",
     "status": "completed"
    },
    "tags": []
   },
   "outputs": [
    {
     "name": "stdout",
     "output_type": "stream",
     "text": [
      "Size: 100\n",
      "  p\n",
      "  s\n",
      "  cm\n",
      "  mic_e\n",
      "  mic\n",
      "Saving to pickle\n",
      "\n",
      "\n",
      "Size: 500\n",
      "  p\n",
      "  s\n",
      "  cm\n",
      "  mic_e\n",
      "  mic\n",
      "Saving to pickle\n",
      "\n",
      "\n",
      "Size: 1000\n",
      "  p\n",
      "  s\n",
      "  cm\n",
      "  mic_e\n",
      "  mic\n",
      "Saving to pickle\n",
      "\n",
      "\n",
      "Size: 5000\n",
      "  p\n",
      "  s\n",
      "  cm\n",
      "  mic_e\n",
      "  mic\n",
      "Saving to pickle\n",
      "\n",
      "\n",
      "Size: 10000\n",
      "  p\n",
      "  s\n",
      "  cm\n",
      "  mic_e\n",
      "  mic\n",
      "Saving to pickle\n",
      "\n",
      "\n",
      "Size: 50000\n",
      "  p\n",
      "  s\n",
      "  cm\n",
      "  mic_e\n",
      "Saving to pickle\n",
      "\n",
      "\n",
      "Size: 100000\n",
      "  p\n",
      "  s\n",
      "  cm\n",
      "Saving to pickle\n",
      "\n",
      "\n",
      "Size: 1000000\n",
      "  p\n",
      "  s\n",
      "  cm\n",
      "Saving to pickle\n",
      "\n",
      "\n"
     ]
    }
   ],
   "source": [
    "for s in DATA_SIZES:\n",
    "    print(f\"Size: {s}\")\n",
    "\n",
    "    print(\"  p\")\n",
    "    run_method(lambda x, y: pearsonr(x, y)[0], \"p-3\", s)\n",
    "\n",
    "    print(\"  s\")\n",
    "    run_method(lambda x, y: spearmanr(x, y)[0], \"s-3\", s)\n",
    "\n",
    "    print(\"  cm\")\n",
    "    run_method(lambda x, y: cm(x, y), \"cm-3\", s)\n",
    "\n",
    "    if s <= 50000:\n",
    "        print(\"  mic_e\")\n",
    "        run_method(lambda x, y: mic(x, y, estimator=\"mic_e\"), \"mic_e-3\", s)\n",
    "\n",
    "    if s <= 10000:\n",
    "        print(\"  mic\")\n",
    "        run_method(lambda x, y: mic(x, y), \"mic-3\", s)\n",
    "\n",
    "    print(\"Saving to pickle\")\n",
    "    time_results.to_pickle(OUTPUT_DIR / OUTPUT_FILENAME)\n",
    "\n",
    "    print(\"\\n\")"
   ]
  },
  {
   "cell_type": "markdown",
   "id": "2597ad7d",
   "metadata": {
    "papermill": {
     "duration": 0.00418,
     "end_time": "2022-04-27T13:35:22.159981",
     "exception": false,
     "start_time": "2022-04-27T13:35:22.155801",
     "status": "completed"
    },
    "tags": []
   },
   "source": [
    "# Summary of results"
   ]
  },
  {
   "cell_type": "code",
   "execution_count": 12,
   "id": "3846d7bb-67fe-4084-afe8-d7226fbef0f1",
   "metadata": {
    "execution": {
     "iopub.execute_input": "2022-04-27T13:35:22.169200Z",
     "iopub.status.busy": "2022-04-27T13:35:22.169009Z",
     "iopub.status.idle": "2022-04-27T13:35:22.173351Z",
     "shell.execute_reply": "2022-04-27T13:35:22.172783Z"
    },
    "papermill": {
     "duration": 0.010515,
     "end_time": "2022-04-27T13:35:22.174671",
     "exception": false,
     "start_time": "2022-04-27T13:35:22.164156",
     "status": "completed"
    },
    "tags": []
   },
   "outputs": [
    {
     "data": {
      "text/plain": [
       "(10600, 4)"
      ]
     },
     "execution_count": 12,
     "metadata": {},
     "output_type": "execute_result"
    }
   ],
   "source": [
    "time_results.shape"
   ]
  },
  {
   "cell_type": "code",
   "execution_count": 13,
   "id": "1e699725",
   "metadata": {
    "execution": {
     "iopub.execute_input": "2022-04-27T13:35:22.184704Z",
     "iopub.status.busy": "2022-04-27T13:35:22.184547Z",
     "iopub.status.idle": "2022-04-27T13:35:22.192955Z",
     "shell.execute_reply": "2022-04-27T13:35:22.192464Z"
    },
    "papermill": {
     "duration": 0.014992,
     "end_time": "2022-04-27T13:35:22.194340",
     "exception": false,
     "start_time": "2022-04-27T13:35:22.179348",
     "status": "completed"
    },
    "tags": []
   },
   "outputs": [
    {
     "data": {
      "text/html": [
       "<div>\n",
       "<style scoped>\n",
       "    .dataframe tbody tr th:only-of-type {\n",
       "        vertical-align: middle;\n",
       "    }\n",
       "\n",
       "    .dataframe tbody tr th {\n",
       "        vertical-align: top;\n",
       "    }\n",
       "\n",
       "    .dataframe thead th {\n",
       "        text-align: right;\n",
       "    }\n",
       "</style>\n",
       "<table border=\"1\" class=\"dataframe\">\n",
       "  <thead>\n",
       "    <tr style=\"text-align: right;\">\n",
       "      <th></th>\n",
       "      <th>data_size</th>\n",
       "      <th>method</th>\n",
       "      <th>time</th>\n",
       "      <th>sim</th>\n",
       "    </tr>\n",
       "  </thead>\n",
       "  <tbody>\n",
       "    <tr>\n",
       "      <th>0</th>\n",
       "      <td>100</td>\n",
       "      <td>p-1</td>\n",
       "      <td>0.000232</td>\n",
       "      <td>-0.115117</td>\n",
       "    </tr>\n",
       "    <tr>\n",
       "      <th>1</th>\n",
       "      <td>100</td>\n",
       "      <td>p-1</td>\n",
       "      <td>0.000160</td>\n",
       "      <td>-0.050567</td>\n",
       "    </tr>\n",
       "    <tr>\n",
       "      <th>2</th>\n",
       "      <td>100</td>\n",
       "      <td>p-1</td>\n",
       "      <td>0.000129</td>\n",
       "      <td>0.215785</td>\n",
       "    </tr>\n",
       "    <tr>\n",
       "      <th>3</th>\n",
       "      <td>100</td>\n",
       "      <td>p-1</td>\n",
       "      <td>0.000114</td>\n",
       "      <td>0.020045</td>\n",
       "    </tr>\n",
       "    <tr>\n",
       "      <th>4</th>\n",
       "      <td>100</td>\n",
       "      <td>p-1</td>\n",
       "      <td>0.000123</td>\n",
       "      <td>0.053343</td>\n",
       "    </tr>\n",
       "  </tbody>\n",
       "</table>\n",
       "</div>"
      ],
      "text/plain": [
       "  data_size method      time       sim\n",
       "0       100    p-1  0.000232 -0.115117\n",
       "1       100    p-1  0.000160 -0.050567\n",
       "2       100    p-1  0.000129  0.215785\n",
       "3       100    p-1  0.000114  0.020045\n",
       "4       100    p-1  0.000123  0.053343"
      ]
     },
     "execution_count": 13,
     "metadata": {},
     "output_type": "execute_result"
    }
   ],
   "source": [
    "time_results.head()"
   ]
  },
  {
   "cell_type": "code",
   "execution_count": null,
   "id": "9c772e87-9117-4f2e-b217-29ea33c64d12",
   "metadata": {
    "papermill": {
     "duration": 0.004412,
     "end_time": "2022-04-27T13:35:22.203667",
     "exception": false,
     "start_time": "2022-04-27T13:35:22.199255",
     "status": "completed"
    },
    "tags": []
   },
   "outputs": [],
   "source": []
  }
 ],
 "metadata": {
  "jupytext": {
   "cell_metadata_filter": "all,-execution,-papermill,-trusted"
  },
  "kernelspec": {
   "display_name": "Python 3 (ipykernel)",
   "language": "python",
   "name": "python3"
  },
  "language_info": {
   "codemirror_mode": {
    "name": "ipython",
    "version": 3
   },
   "file_extension": ".py",
   "mimetype": "text/x-python",
   "name": "python",
   "nbconvert_exporter": "python",
   "pygments_lexer": "ipython3",
   "version": "3.9.12"
  },
  "papermill": {
   "default_parameters": {},
   "duration": 297.484408,
   "end_time": "2022-04-27T13:35:22.526462",
   "environment_variables": {},
   "exception": null,
   "input_path": "nbs/20_comparison_others/61-time_test-3_cpu_cores.ipynb",
   "output_path": "nbs/20_comparison_others/61-time_test-3_cpu_cores.run.ipynb",
   "parameters": {
    "GTEX_TISSUE": "skin_sun_exposed_lower_leg"
   },
   "start_time": "2022-04-27T13:30:25.042054",
   "version": "2.3.3"
  }
 },
 "nbformat": 4,
 "nbformat_minor": 5
}
