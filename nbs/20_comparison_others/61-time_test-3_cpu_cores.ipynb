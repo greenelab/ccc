{
 "cells": [
  {
   "cell_type": "markdown",
   "id": "c1948eb4-fb63-4fad-8243-bcd57b98def3",
   "metadata": {
    "papermill": {
     "duration": 0.001594,
     "end_time": "2023-09-07T20:00:51.842695",
     "exception": false,
     "start_time": "2023-09-07T20:00:51.841101",
     "status": "completed"
    },
    "tags": []
   },
   "source": [
    "# Description"
   ]
  },
  {
   "cell_type": "markdown",
   "id": "d5775ff8-d222-4fbc-b1a9-8366662c2896",
   "metadata": {
    "papermill": {
     "duration": 0.001052,
     "end_time": "2023-09-07T20:00:51.844996",
     "exception": false,
     "start_time": "2023-09-07T20:00:51.843944",
     "status": "completed"
    },
    "tags": []
   },
   "source": [
    "It generates random variables of varying sizes to compare the time taken by CCC and MIC.\n",
    "\n",
    "This notebook uses 3 CPU core."
   ]
  },
  {
   "cell_type": "markdown",
   "id": "d6252b4c-6d56-4cf0-aecd-5d8c769a3609",
   "metadata": {
    "papermill": {
     "duration": 0.001036,
     "end_time": "2023-09-07T20:00:51.847788",
     "exception": false,
     "start_time": "2023-09-07T20:00:51.846752",
     "status": "completed"
    },
    "tags": []
   },
   "source": [
    "# Modules loading"
   ]
  },
  {
   "cell_type": "code",
   "execution_count": 1,
   "id": "ea7d30d5-da78-454a-a4ff-e6307bfdbb37",
   "metadata": {
    "execution": {
     "iopub.execute_input": "2023-09-07T20:00:51.850680Z",
     "iopub.status.busy": "2023-09-07T20:00:51.850558Z",
     "iopub.status.idle": "2023-09-07T20:00:51.855114Z",
     "shell.execute_reply": "2023-09-07T20:00:51.854962Z"
    },
    "papermill": {
     "duration": 0.006762,
     "end_time": "2023-09-07T20:00:51.855661",
     "exception": false,
     "start_time": "2023-09-07T20:00:51.848899",
     "status": "completed"
    },
    "tags": []
   },
   "outputs": [
    {
     "name": "stdout",
     "output_type": "stream",
     "text": [
      "env: CM_N_JOBS=3\n",
      "env: NUMBA_NUM_THREADS=3\n",
      "env: MKL_NUM_THREADS=3\n",
      "env: OPEN_BLAS_NUM_THREADS=3\n",
      "env: NUMEXPR_NUM_THREADS=3\n",
      "env: OMP_NUM_THREADS=3\n"
     ]
    }
   ],
   "source": [
    "%env CM_N_JOBS=3\n",
    "%env NUMBA_NUM_THREADS=3\n",
    "%env MKL_NUM_THREADS=3\n",
    "%env OPEN_BLAS_NUM_THREADS=3\n",
    "%env NUMEXPR_NUM_THREADS=3\n",
    "%env OMP_NUM_THREADS=3"
   ]
  },
  {
   "cell_type": "code",
   "execution_count": 2,
   "id": "77e9d29d-5307-4b4a-b103-7d1fbd6a7e56",
   "metadata": {
    "execution": {
     "iopub.execute_input": "2023-09-07T20:00:51.858377Z",
     "iopub.status.busy": "2023-09-07T20:00:51.858303Z",
     "iopub.status.idle": "2023-09-07T20:00:55.737994Z",
     "shell.execute_reply": "2023-09-07T20:00:55.737782Z"
    },
    "papermill": {
     "duration": 3.881894,
     "end_time": "2023-09-07T20:00:55.738751",
     "exception": false,
     "start_time": "2023-09-07T20:00:51.856857",
     "status": "completed"
    },
    "tags": []
   },
   "outputs": [],
   "source": [
    "from time import time\n",
    "\n",
    "import numpy as np\n",
    "import pandas as pd\n",
    "from scipy.stats import pearsonr, spearmanr\n",
    "\n",
    "from ccc import conf\n",
    "from ccc.coef import ccc\n",
    "from ccc.methods import mic"
   ]
  },
  {
   "cell_type": "markdown",
   "id": "262eb535-3e5d-43d7-9efd-bd6cfdac9190",
   "metadata": {
    "papermill": {
     "duration": 0.002201,
     "end_time": "2023-09-07T20:00:55.742307",
     "exception": false,
     "start_time": "2023-09-07T20:00:55.740106",
     "status": "completed"
    },
    "tags": []
   },
   "source": [
    "# Settings"
   ]
  },
  {
   "cell_type": "code",
   "execution_count": 3,
   "id": "311cc161-c947-447e-b622-6df22ad0e03a",
   "metadata": {
    "execution": {
     "iopub.execute_input": "2023-09-07T20:00:55.745445Z",
     "iopub.status.busy": "2023-09-07T20:00:55.745351Z",
     "iopub.status.idle": "2023-09-07T20:00:55.746765Z",
     "shell.execute_reply": "2023-09-07T20:00:55.746626Z"
    },
    "papermill": {
     "duration": 0.003565,
     "end_time": "2023-09-07T20:00:55.747203",
     "exception": false,
     "start_time": "2023-09-07T20:00:55.743638",
     "status": "completed"
    },
    "tags": []
   },
   "outputs": [],
   "source": [
    "OUTPUT_FILENAME = \"time_test.pkl\""
   ]
  },
  {
   "cell_type": "code",
   "execution_count": 4,
   "id": "2d2bd14a-a40d-4710-98c2-587148d0f532",
   "metadata": {
    "execution": {
     "iopub.execute_input": "2023-09-07T20:00:55.749884Z",
     "iopub.status.busy": "2023-09-07T20:00:55.749750Z",
     "iopub.status.idle": "2023-09-07T20:00:55.751215Z",
     "shell.execute_reply": "2023-09-07T20:00:55.751070Z"
    },
    "papermill": {
     "duration": 0.003358,
     "end_time": "2023-09-07T20:00:55.751730",
     "exception": false,
     "start_time": "2023-09-07T20:00:55.748372",
     "status": "completed"
    },
    "tags": []
   },
   "outputs": [],
   "source": [
    "DATA_SIZES = [\n",
    "    100,\n",
    "    500,\n",
    "    1000,\n",
    "    5000,\n",
    "    10000,\n",
    "    50000,\n",
    "    100000,\n",
    "    1000000,\n",
    "]\n",
    "\n",
    "N_REPS = 10"
   ]
  },
  {
   "cell_type": "code",
   "execution_count": 5,
   "id": "d24607ca-2774-4e51-b392-538c85c86052",
   "metadata": {
    "execution": {
     "iopub.execute_input": "2023-09-07T20:00:55.754346Z",
     "iopub.status.busy": "2023-09-07T20:00:55.754234Z",
     "iopub.status.idle": "2023-09-07T20:00:55.755589Z",
     "shell.execute_reply": "2023-09-07T20:00:55.755456Z"
    },
    "papermill": {
     "duration": 0.003139,
     "end_time": "2023-09-07T20:00:55.756029",
     "exception": false,
     "start_time": "2023-09-07T20:00:55.752890",
     "status": "completed"
    },
    "tags": []
   },
   "outputs": [],
   "source": [
    "np.random.seed(0)"
   ]
  },
  {
   "cell_type": "markdown",
   "id": "eec9bb6d-4ba2-4817-9b36-bc8e68a2beae",
   "metadata": {
    "papermill": {
     "duration": 0.001101,
     "end_time": "2023-09-07T20:00:55.758275",
     "exception": false,
     "start_time": "2023-09-07T20:00:55.757174",
     "status": "completed"
    },
    "tags": []
   },
   "source": [
    "# Paths"
   ]
  },
  {
   "cell_type": "code",
   "execution_count": 6,
   "id": "ee9e6b70-9abd-4714-9ce5-49c270a1b0be",
   "metadata": {
    "execution": {
     "iopub.execute_input": "2023-09-07T20:00:55.760838Z",
     "iopub.status.busy": "2023-09-07T20:00:55.760735Z",
     "iopub.status.idle": "2023-09-07T20:00:55.764006Z",
     "shell.execute_reply": "2023-09-07T20:00:55.763882Z"
    },
    "papermill": {
     "duration": 0.005114,
     "end_time": "2023-09-07T20:00:55.764527",
     "exception": false,
     "start_time": "2023-09-07T20:00:55.759413",
     "status": "completed"
    },
    "tags": []
   },
   "outputs": [
    {
     "data": {
      "text/plain": [
       "PosixPath('/opt/data/results/time_test')"
      ]
     },
     "metadata": {},
     "output_type": "display_data"
    }
   ],
   "source": [
    "OUTPUT_DIR = conf.RESULTS_DIR / \"time_test\"\n",
    "OUTPUT_DIR.mkdir(parents=True, exist_ok=True)\n",
    "display(OUTPUT_DIR)"
   ]
  },
  {
   "cell_type": "markdown",
   "id": "9cb68076-f855-45c8-9843-ce2d93bdc4e7",
   "metadata": {
    "papermill": {
     "duration": 0.001099,
     "end_time": "2023-09-07T20:00:55.766847",
     "exception": false,
     "start_time": "2023-09-07T20:00:55.765748",
     "status": "completed"
    },
    "tags": []
   },
   "source": [
    "# Functions"
   ]
  },
  {
   "cell_type": "code",
   "execution_count": 7,
   "id": "e2c25ecf-0d87-4447-a9ff-a3b511629a61",
   "metadata": {
    "execution": {
     "iopub.execute_input": "2023-09-07T20:00:55.769460Z",
     "iopub.status.busy": "2023-09-07T20:00:55.769376Z",
     "iopub.status.idle": "2023-09-07T20:00:55.771531Z",
     "shell.execute_reply": "2023-09-07T20:00:55.771396Z"
    },
    "papermill": {
     "duration": 0.00396,
     "end_time": "2023-09-07T20:00:55.771970",
     "exception": false,
     "start_time": "2023-09-07T20:00:55.768010",
     "status": "completed"
    },
    "tags": []
   },
   "outputs": [],
   "source": [
    "# append to previous run\n",
    "time_results = pd.read_pickle(OUTPUT_DIR / OUTPUT_FILENAME)"
   ]
  },
  {
   "cell_type": "code",
   "execution_count": 8,
   "id": "3ab0c0b8-f340-4cb4-a236-6523cf0aa995",
   "metadata": {
    "execution": {
     "iopub.execute_input": "2023-09-07T20:00:55.774610Z",
     "iopub.status.busy": "2023-09-07T20:00:55.774542Z",
     "iopub.status.idle": "2023-09-07T20:00:55.776110Z",
     "shell.execute_reply": "2023-09-07T20:00:55.775991Z"
    },
    "papermill": {
     "duration": 0.003422,
     "end_time": "2023-09-07T20:00:55.776564",
     "exception": false,
     "start_time": "2023-09-07T20:00:55.773142",
     "status": "completed"
    },
    "tags": []
   },
   "outputs": [
    {
     "data": {
      "text/plain": [
       "(5300, 4)"
      ]
     },
     "execution_count": 8,
     "metadata": {},
     "output_type": "execute_result"
    }
   ],
   "source": [
    "time_results.shape"
   ]
  },
  {
   "cell_type": "code",
   "execution_count": 9,
   "id": "ffc0d8de-79a6-4ab8-8cc2-5b720392a0e6",
   "metadata": {
    "execution": {
     "iopub.execute_input": "2023-09-07T20:00:55.779249Z",
     "iopub.status.busy": "2023-09-07T20:00:55.779128Z",
     "iopub.status.idle": "2023-09-07T20:00:55.780903Z",
     "shell.execute_reply": "2023-09-07T20:00:55.780773Z"
    },
    "papermill": {
     "duration": 0.003574,
     "end_time": "2023-09-07T20:00:55.781332",
     "exception": false,
     "start_time": "2023-09-07T20:00:55.777758",
     "status": "completed"
    },
    "tags": []
   },
   "outputs": [],
   "source": [
    "def run_method(func, method_name, size):\n",
    "    n_reps = N_REPS\n",
    "    if size < 500:\n",
    "        n_reps = 1000\n",
    "\n",
    "    for r in range(n_reps):\n",
    "        d1 = np.random.rand(size)\n",
    "        d2 = np.random.rand(size)\n",
    "\n",
    "        start_time = time()\n",
    "        sim = func(d1, d2)\n",
    "        end_time = time()\n",
    "        met_time = end_time - start_time\n",
    "\n",
    "        idx = time_results.shape[0]\n",
    "        time_results.loc[idx] = [d1.shape[0], method_name, met_time, sim]"
   ]
  },
  {
   "cell_type": "markdown",
   "id": "7656ffa5-c9c3-41f5-aeb5-21bde8836e81",
   "metadata": {
    "papermill": {
     "duration": 0.001205,
     "end_time": "2023-09-07T20:00:55.783735",
     "exception": false,
     "start_time": "2023-09-07T20:00:55.782530",
     "status": "completed"
    },
    "tags": []
   },
   "source": [
    "# Run"
   ]
  },
  {
   "cell_type": "code",
   "execution_count": 10,
   "id": "3e4fac59-34a7-4b63-8aa0-e845c0a156af",
   "metadata": {
    "execution": {
     "iopub.execute_input": "2023-09-07T20:00:55.787004Z",
     "iopub.status.busy": "2023-09-07T20:00:55.786886Z",
     "iopub.status.idle": "2023-09-07T20:00:55.790022Z",
     "shell.execute_reply": "2023-09-07T20:00:55.789902Z"
    },
    "papermill": {
     "duration": 0.004919,
     "end_time": "2023-09-07T20:00:55.790426",
     "exception": false,
     "start_time": "2023-09-07T20:00:55.785507",
     "status": "completed"
    },
    "tags": []
   },
   "outputs": [
    {
     "data": {
      "text/plain": [
       "0.02047038824894002"
      ]
     },
     "execution_count": 10,
     "metadata": {},
     "output_type": "execute_result"
    }
   ],
   "source": [
    "# initialize methods\n",
    "ccc(np.random.rand(100), np.random.rand(100))"
   ]
  },
  {
   "cell_type": "code",
   "execution_count": 11,
   "id": "e3f26ab4-ec59-4e8f-b887-14abc2cc7cae",
   "metadata": {
    "execution": {
     "iopub.execute_input": "2023-09-07T20:00:55.793088Z",
     "iopub.status.busy": "2023-09-07T20:00:55.793001Z",
     "iopub.status.idle": "2023-09-07T20:03:47.076727Z",
     "shell.execute_reply": "2023-09-07T20:03:47.076475Z"
    },
    "papermill": {
     "duration": 171.287976,
     "end_time": "2023-09-07T20:03:47.079620",
     "exception": false,
     "start_time": "2023-09-07T20:00:55.791644",
     "status": "completed"
    },
    "tags": []
   },
   "outputs": [
    {
     "name": "stdout",
     "output_type": "stream",
     "text": [
      "Size: 100\n",
      "  p\n",
      "  s\n",
      "  cm\n",
      "  mic_e\n",
      "  mic\n",
      "Saving to pickle\n",
      "\n",
      "\n",
      "Size: 500\n",
      "  p\n",
      "  s\n",
      "  cm\n",
      "  mic_e\n",
      "  mic\n",
      "Saving to pickle\n",
      "\n",
      "\n",
      "Size: 1000\n",
      "  p\n",
      "  s\n",
      "  cm\n",
      "  mic_e\n",
      "  mic\n",
      "Saving to pickle\n",
      "\n",
      "\n",
      "Size: 5000\n",
      "  p\n",
      "  s\n",
      "  cm\n",
      "  mic_e\n",
      "  mic\n",
      "Saving to pickle\n",
      "\n",
      "\n",
      "Size: 10000\n",
      "  p\n",
      "  s\n",
      "  cm\n",
      "  mic_e\n",
      "  mic\n",
      "Saving to pickle\n",
      "\n",
      "\n",
      "Size: 50000\n",
      "  p\n",
      "  s\n",
      "  cm\n",
      "  mic_e\n",
      "Saving to pickle\n",
      "\n",
      "\n",
      "Size: 100000\n",
      "  p\n",
      "  s\n",
      "  cm\n",
      "Saving to pickle\n",
      "\n",
      "\n",
      "Size: 1000000\n",
      "  p\n",
      "  s\n",
      "  cm\n",
      "Saving to pickle\n",
      "\n",
      "\n"
     ]
    }
   ],
   "source": [
    "for s in DATA_SIZES:\n",
    "    print(f\"Size: {s}\")\n",
    "\n",
    "    print(\"  p\")\n",
    "    run_method(lambda x, y: pearsonr(x, y)[0], \"p-3\", s)\n",
    "\n",
    "    print(\"  s\")\n",
    "    run_method(lambda x, y: spearmanr(x, y)[0], \"s-3\", s)\n",
    "\n",
    "    print(\"  cm\")\n",
    "    run_method(lambda x, y: ccc(x, y), \"cm-3\", s)\n",
    "\n",
    "    if s <= 50000:\n",
    "        print(\"  mic_e\")\n",
    "        run_method(lambda x, y: mic(x, y, estimator=\"mic_e\"), \"mic_e-3\", s)\n",
    "\n",
    "    if s <= 10000:\n",
    "        print(\"  mic\")\n",
    "        run_method(lambda x, y: mic(x, y), \"mic-3\", s)\n",
    "\n",
    "    print(\"Saving to pickle\")\n",
    "    time_results.to_pickle(OUTPUT_DIR / OUTPUT_FILENAME)\n",
    "\n",
    "    print(\"\\n\")"
   ]
  },
  {
   "cell_type": "markdown",
   "id": "2597ad7d",
   "metadata": {
    "papermill": {
     "duration": 0.001464,
     "end_time": "2023-09-07T20:03:47.083151",
     "exception": false,
     "start_time": "2023-09-07T20:03:47.081687",
     "status": "completed"
    },
    "tags": []
   },
   "source": [
    "# Summary of results"
   ]
  },
  {
   "cell_type": "code",
   "execution_count": 12,
   "id": "3846d7bb-67fe-4084-afe8-d7226fbef0f1",
   "metadata": {
    "execution": {
     "iopub.execute_input": "2023-09-07T20:03:47.086619Z",
     "iopub.status.busy": "2023-09-07T20:03:47.086557Z",
     "iopub.status.idle": "2023-09-07T20:03:47.088620Z",
     "shell.execute_reply": "2023-09-07T20:03:47.088492Z"
    },
    "papermill": {
     "duration": 0.004529,
     "end_time": "2023-09-07T20:03:47.089147",
     "exception": false,
     "start_time": "2023-09-07T20:03:47.084618",
     "status": "completed"
    },
    "tags": []
   },
   "outputs": [
    {
     "data": {
      "text/plain": [
       "(10600, 4)"
      ]
     },
     "execution_count": 12,
     "metadata": {},
     "output_type": "execute_result"
    }
   ],
   "source": [
    "time_results.shape"
   ]
  },
  {
   "cell_type": "code",
   "execution_count": 13,
   "id": "1e699725",
   "metadata": {
    "execution": {
     "iopub.execute_input": "2023-09-07T20:03:47.092501Z",
     "iopub.status.busy": "2023-09-07T20:03:47.092453Z",
     "iopub.status.idle": "2023-09-07T20:03:47.095963Z",
     "shell.execute_reply": "2023-09-07T20:03:47.095840Z"
    },
    "papermill": {
     "duration": 0.005906,
     "end_time": "2023-09-07T20:03:47.096544",
     "exception": false,
     "start_time": "2023-09-07T20:03:47.090638",
     "status": "completed"
    },
    "tags": []
   },
   "outputs": [
    {
     "data": {
      "text/html": [
       "<div>\n",
       "<style scoped>\n",
       "    .dataframe tbody tr th:only-of-type {\n",
       "        vertical-align: middle;\n",
       "    }\n",
       "\n",
       "    .dataframe tbody tr th {\n",
       "        vertical-align: top;\n",
       "    }\n",
       "\n",
       "    .dataframe thead th {\n",
       "        text-align: right;\n",
       "    }\n",
       "</style>\n",
       "<table border=\"1\" class=\"dataframe\">\n",
       "  <thead>\n",
       "    <tr style=\"text-align: right;\">\n",
       "      <th></th>\n",
       "      <th>data_size</th>\n",
       "      <th>method</th>\n",
       "      <th>time</th>\n",
       "      <th>sim</th>\n",
       "    </tr>\n",
       "  </thead>\n",
       "  <tbody>\n",
       "    <tr>\n",
       "      <th>0</th>\n",
       "      <td>100</td>\n",
       "      <td>p-1</td>\n",
       "      <td>0.000115</td>\n",
       "      <td>-0.131037</td>\n",
       "    </tr>\n",
       "    <tr>\n",
       "      <th>1</th>\n",
       "      <td>100</td>\n",
       "      <td>p-1</td>\n",
       "      <td>0.000045</td>\n",
       "      <td>0.080438</td>\n",
       "    </tr>\n",
       "    <tr>\n",
       "      <th>2</th>\n",
       "      <td>100</td>\n",
       "      <td>p-1</td>\n",
       "      <td>0.000033</td>\n",
       "      <td>0.032917</td>\n",
       "    </tr>\n",
       "    <tr>\n",
       "      <th>3</th>\n",
       "      <td>100</td>\n",
       "      <td>p-1</td>\n",
       "      <td>0.000035</td>\n",
       "      <td>-0.128507</td>\n",
       "    </tr>\n",
       "    <tr>\n",
       "      <th>4</th>\n",
       "      <td>100</td>\n",
       "      <td>p-1</td>\n",
       "      <td>0.000038</td>\n",
       "      <td>0.038084</td>\n",
       "    </tr>\n",
       "  </tbody>\n",
       "</table>\n",
       "</div>"
      ],
      "text/plain": [
       "  data_size method      time       sim\n",
       "0       100    p-1  0.000115 -0.131037\n",
       "1       100    p-1  0.000045  0.080438\n",
       "2       100    p-1  0.000033  0.032917\n",
       "3       100    p-1  0.000035 -0.128507\n",
       "4       100    p-1  0.000038  0.038084"
      ]
     },
     "execution_count": 13,
     "metadata": {},
     "output_type": "execute_result"
    }
   ],
   "source": [
    "time_results.head()"
   ]
  },
  {
   "cell_type": "code",
   "execution_count": null,
   "id": "9c772e87-9117-4f2e-b217-29ea33c64d12",
   "metadata": {
    "papermill": {
     "duration": 0.001542,
     "end_time": "2023-09-07T20:03:47.099647",
     "exception": false,
     "start_time": "2023-09-07T20:03:47.098105",
     "status": "completed"
    },
    "tags": []
   },
   "outputs": [],
   "source": []
  }
 ],
 "metadata": {
  "jupytext": {
   "cell_metadata_filter": "all,-execution,-papermill,-trusted"
  },
  "kernelspec": {
   "display_name": "Python 3 (ipykernel)",
   "language": "python",
   "name": "python3"
  },
  "language_info": {
   "codemirror_mode": {
    "name": "ipython",
    "version": 3
   },
   "file_extension": ".py",
   "mimetype": "text/x-python",
   "name": "python",
   "nbconvert_exporter": "python",
   "pygments_lexer": "ipython3",
   "version": "3.9.12"
  },
  "papermill": {
   "default_parameters": {},
   "duration": 176.233467,
   "end_time": "2023-09-07T20:03:47.416071",
   "environment_variables": {},
   "exception": null,
   "input_path": "nbs/20_comparison_others/61-time_test-3_cpu_cores.ipynb",
   "output_path": "nbs/20_comparison_others/61-time_test-3_cpu_cores.run.ipynb",
   "parameters": {
    "GTEX_TISSUE": "skin_sun_exposed_lower_leg"
   },
   "start_time": "2023-09-07T20:00:51.182604",
   "version": "2.3.3"
  }
 },
 "nbformat": 4,
 "nbformat_minor": 5
}
