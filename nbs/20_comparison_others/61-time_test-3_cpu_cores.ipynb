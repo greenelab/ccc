{
 "cells": [
  {
   "cell_type": "markdown",
   "id": "c1948eb4-fb63-4fad-8243-bcd57b98def3",
   "metadata": {
    "papermill": {
     "duration": 0.005132,
     "end_time": "2023-09-11T17:19:40.195247",
     "exception": false,
     "start_time": "2023-09-11T17:19:40.190115",
     "status": "completed"
    },
    "tags": []
   },
   "source": [
    "# Description"
   ]
  },
  {
   "cell_type": "markdown",
   "id": "d5775ff8-d222-4fbc-b1a9-8366662c2896",
   "metadata": {
    "papermill": {
     "duration": 0.004162,
     "end_time": "2023-09-11T17:19:40.205116",
     "exception": false,
     "start_time": "2023-09-11T17:19:40.200954",
     "status": "completed"
    },
    "tags": []
   },
   "source": [
    "It generates random variables of varying sizes to compare the time taken by CCC and MIC.\n",
    "\n",
    "This notebook uses 3 CPU core."
   ]
  },
  {
   "cell_type": "markdown",
   "id": "d6252b4c-6d56-4cf0-aecd-5d8c769a3609",
   "metadata": {
    "papermill": {
     "duration": 0.001873,
     "end_time": "2023-09-11T17:19:40.211060",
     "exception": false,
     "start_time": "2023-09-11T17:19:40.209187",
     "status": "completed"
    },
    "tags": []
   },
   "source": [
    "# Modules loading"
   ]
  },
  {
   "cell_type": "code",
   "execution_count": 1,
   "id": "ea7d30d5-da78-454a-a4ff-e6307bfdbb37",
   "metadata": {
    "execution": {
     "iopub.execute_input": "2023-09-11T17:19:40.215175Z",
     "iopub.status.busy": "2023-09-11T17:19:40.215023Z",
     "iopub.status.idle": "2023-09-11T17:19:40.220124Z",
     "shell.execute_reply": "2023-09-11T17:19:40.219849Z"
    },
    "papermill": {
     "duration": 0.008059,
     "end_time": "2023-09-11T17:19:40.220813",
     "exception": false,
     "start_time": "2023-09-11T17:19:40.212754",
     "status": "completed"
    },
    "tags": []
   },
   "outputs": [
    {
     "name": "stdout",
     "output_type": "stream",
     "text": [
      "env: CM_N_JOBS=3\n",
      "env: NUMBA_NUM_THREADS=3\n",
      "env: MKL_NUM_THREADS=3\n",
      "env: OPEN_BLAS_NUM_THREADS=3\n",
      "env: NUMEXPR_NUM_THREADS=3\n",
      "env: OMP_NUM_THREADS=3\n"
     ]
    }
   ],
   "source": [
    "%env CM_N_JOBS=3\n",
    "%env NUMBA_NUM_THREADS=3\n",
    "%env MKL_NUM_THREADS=3\n",
    "%env OPEN_BLAS_NUM_THREADS=3\n",
    "%env NUMEXPR_NUM_THREADS=3\n",
    "%env OMP_NUM_THREADS=3"
   ]
  },
  {
   "cell_type": "code",
   "execution_count": 2,
   "id": "77e9d29d-5307-4b4a-b103-7d1fbd6a7e56",
   "metadata": {
    "execution": {
     "iopub.execute_input": "2023-09-11T17:19:40.224008Z",
     "iopub.status.busy": "2023-09-11T17:19:40.223874Z",
     "iopub.status.idle": "2023-09-11T17:19:40.527762Z",
     "shell.execute_reply": "2023-09-11T17:19:40.527504Z"
    },
    "papermill": {
     "duration": 0.30608,
     "end_time": "2023-09-11T17:19:40.528491",
     "exception": false,
     "start_time": "2023-09-11T17:19:40.222411",
     "status": "completed"
    },
    "tags": []
   },
   "outputs": [],
   "source": [
    "import os\n",
    "from time import time\n",
    "\n",
    "import numpy as np\n",
    "import pandas as pd\n",
    "from scipy.stats import pearsonr, spearmanr\n",
    "\n",
    "from ccc import conf\n",
    "from ccc.coef import ccc\n",
    "from ccc.methods import mic"
   ]
  },
  {
   "cell_type": "markdown",
   "id": "262eb535-3e5d-43d7-9efd-bd6cfdac9190",
   "metadata": {
    "papermill": {
     "duration": 0.00123,
     "end_time": "2023-09-11T17:19:40.531231",
     "exception": false,
     "start_time": "2023-09-11T17:19:40.530001",
     "status": "completed"
    },
    "tags": []
   },
   "source": [
    "# Settings"
   ]
  },
  {
   "cell_type": "code",
   "execution_count": 3,
   "id": "c1e5a523-e22f-42e1-b27f-929bebaea711",
   "metadata": {
    "execution": {
     "iopub.execute_input": "2023-09-11T17:19:40.536693Z",
     "iopub.status.busy": "2023-09-11T17:19:40.536580Z",
     "iopub.status.idle": "2023-09-11T17:19:40.540258Z",
     "shell.execute_reply": "2023-09-11T17:19:40.540125Z"
    },
    "papermill": {
     "duration": 0.007326,
     "end_time": "2023-09-11T17:19:40.540700",
     "exception": false,
     "start_time": "2023-09-11T17:19:40.533374",
     "status": "completed"
    },
    "tags": []
   },
   "outputs": [
    {
     "data": {
      "text/plain": [
       "3"
      ]
     },
     "metadata": {},
     "output_type": "display_data"
    }
   ],
   "source": [
    "N_JOBS = int(os.environ[\"CM_N_JOBS\"])\n",
    "display(N_JOBS)"
   ]
  },
  {
   "cell_type": "code",
   "execution_count": 4,
   "id": "311cc161-c947-447e-b622-6df22ad0e03a",
   "metadata": {
    "execution": {
     "iopub.execute_input": "2023-09-11T17:19:40.543522Z",
     "iopub.status.busy": "2023-09-11T17:19:40.543413Z",
     "iopub.status.idle": "2023-09-11T17:19:40.544690Z",
     "shell.execute_reply": "2023-09-11T17:19:40.544557Z"
    },
    "papermill": {
     "duration": 0.003165,
     "end_time": "2023-09-11T17:19:40.545124",
     "exception": false,
     "start_time": "2023-09-11T17:19:40.541959",
     "status": "completed"
    },
    "tags": []
   },
   "outputs": [],
   "source": [
    "OUTPUT_FILENAME = \"time_test.pkl\""
   ]
  },
  {
   "cell_type": "code",
   "execution_count": 5,
   "id": "2d2bd14a-a40d-4710-98c2-587148d0f532",
   "metadata": {
    "execution": {
     "iopub.execute_input": "2023-09-11T17:19:40.547868Z",
     "iopub.status.busy": "2023-09-11T17:19:40.547782Z",
     "iopub.status.idle": "2023-09-11T17:19:40.549084Z",
     "shell.execute_reply": "2023-09-11T17:19:40.548956Z"
    },
    "papermill": {
     "duration": 0.003145,
     "end_time": "2023-09-11T17:19:40.549513",
     "exception": false,
     "start_time": "2023-09-11T17:19:40.546368",
     "status": "completed"
    },
    "tags": []
   },
   "outputs": [],
   "source": [
    "DATA_SIZES = [\n",
    "    100,\n",
    "    500,\n",
    "    1000,\n",
    "    5000,\n",
    "    10000,\n",
    "    50000,\n",
    "    100000,\n",
    "    1000000,\n",
    "    10000000,\n",
    "]\n",
    "\n",
    "N_REPS = 10"
   ]
  },
  {
   "cell_type": "code",
   "execution_count": 6,
   "id": "d24607ca-2774-4e51-b392-538c85c86052",
   "metadata": {
    "execution": {
     "iopub.execute_input": "2023-09-11T17:19:40.552261Z",
     "iopub.status.busy": "2023-09-11T17:19:40.552148Z",
     "iopub.status.idle": "2023-09-11T17:19:40.553377Z",
     "shell.execute_reply": "2023-09-11T17:19:40.553248Z"
    },
    "papermill": {
     "duration": 0.003082,
     "end_time": "2023-09-11T17:19:40.553807",
     "exception": false,
     "start_time": "2023-09-11T17:19:40.550725",
     "status": "completed"
    },
    "tags": []
   },
   "outputs": [],
   "source": [
    "np.random.seed(0)"
   ]
  },
  {
   "cell_type": "markdown",
   "id": "eec9bb6d-4ba2-4817-9b36-bc8e68a2beae",
   "metadata": {
    "papermill": {
     "duration": 0.001253,
     "end_time": "2023-09-11T17:19:40.556278",
     "exception": false,
     "start_time": "2023-09-11T17:19:40.555025",
     "status": "completed"
    },
    "tags": []
   },
   "source": [
    "# Paths"
   ]
  },
  {
   "cell_type": "code",
   "execution_count": 7,
   "id": "ee9e6b70-9abd-4714-9ce5-49c270a1b0be",
   "metadata": {
    "execution": {
     "iopub.execute_input": "2023-09-11T17:19:40.559026Z",
     "iopub.status.busy": "2023-09-11T17:19:40.558936Z",
     "iopub.status.idle": "2023-09-11T17:19:40.560525Z",
     "shell.execute_reply": "2023-09-11T17:19:40.560406Z"
    },
    "papermill": {
     "duration": 0.003413,
     "end_time": "2023-09-11T17:19:40.560946",
     "exception": false,
     "start_time": "2023-09-11T17:19:40.557533",
     "status": "completed"
    },
    "tags": []
   },
   "outputs": [
    {
     "data": {
      "text/plain": [
       "PosixPath('/opt/data/results/time_test')"
      ]
     },
     "metadata": {},
     "output_type": "display_data"
    }
   ],
   "source": [
    "OUTPUT_DIR = conf.RESULTS_DIR / \"time_test\"\n",
    "OUTPUT_DIR.mkdir(parents=True, exist_ok=True)\n",
    "display(OUTPUT_DIR)"
   ]
  },
  {
   "cell_type": "markdown",
   "id": "9cb68076-f855-45c8-9843-ce2d93bdc4e7",
   "metadata": {
    "papermill": {
     "duration": 0.001182,
     "end_time": "2023-09-11T17:19:40.563389",
     "exception": false,
     "start_time": "2023-09-11T17:19:40.562207",
     "status": "completed"
    },
    "tags": []
   },
   "source": [
    "# Functions"
   ]
  },
  {
   "cell_type": "code",
   "execution_count": 8,
   "id": "e2c25ecf-0d87-4447-a9ff-a3b511629a61",
   "metadata": {
    "execution": {
     "iopub.execute_input": "2023-09-11T17:19:40.566243Z",
     "iopub.status.busy": "2023-09-11T17:19:40.566129Z",
     "iopub.status.idle": "2023-09-11T17:19:40.567956Z",
     "shell.execute_reply": "2023-09-11T17:19:40.567815Z"
    },
    "papermill": {
     "duration": 0.00373,
     "end_time": "2023-09-11T17:19:40.568357",
     "exception": false,
     "start_time": "2023-09-11T17:19:40.564627",
     "status": "completed"
    },
    "tags": []
   },
   "outputs": [],
   "source": [
    "# append to previous run\n",
    "time_results = pd.read_pickle(OUTPUT_DIR / OUTPUT_FILENAME)"
   ]
  },
  {
   "cell_type": "code",
   "execution_count": 9,
   "id": "3ab0c0b8-f340-4cb4-a236-6523cf0aa995",
   "metadata": {
    "execution": {
     "iopub.execute_input": "2023-09-11T17:19:40.571175Z",
     "iopub.status.busy": "2023-09-11T17:19:40.571059Z",
     "iopub.status.idle": "2023-09-11T17:19:40.572615Z",
     "shell.execute_reply": "2023-09-11T17:19:40.572491Z"
    },
    "papermill": {
     "duration": 0.003383,
     "end_time": "2023-09-11T17:19:40.573042",
     "exception": false,
     "start_time": "2023-09-11T17:19:40.569659",
     "status": "completed"
    },
    "tags": []
   },
   "outputs": [
    {
     "data": {
      "text/plain": [
       "(5330, 4)"
      ]
     },
     "execution_count": 9,
     "metadata": {},
     "output_type": "execute_result"
    }
   ],
   "source": [
    "time_results.shape"
   ]
  },
  {
   "cell_type": "code",
   "execution_count": 10,
   "id": "ffc0d8de-79a6-4ab8-8cc2-5b720392a0e6",
   "metadata": {
    "execution": {
     "iopub.execute_input": "2023-09-11T17:19:40.575866Z",
     "iopub.status.busy": "2023-09-11T17:19:40.575760Z",
     "iopub.status.idle": "2023-09-11T17:19:40.577587Z",
     "shell.execute_reply": "2023-09-11T17:19:40.577457Z"
    },
    "papermill": {
     "duration": 0.003636,
     "end_time": "2023-09-11T17:19:40.577969",
     "exception": false,
     "start_time": "2023-09-11T17:19:40.574333",
     "status": "completed"
    },
    "tags": []
   },
   "outputs": [],
   "source": [
    "def run_method(func, method_name, size):\n",
    "    n_reps = N_REPS\n",
    "    if size < 500:\n",
    "        n_reps = 1000\n",
    "\n",
    "    for r in range(n_reps):\n",
    "        d1 = np.random.rand(size)\n",
    "        d2 = np.random.rand(size)\n",
    "\n",
    "        start_time = time()\n",
    "        sim = func(d1, d2)\n",
    "        end_time = time()\n",
    "        met_time = end_time - start_time\n",
    "\n",
    "        idx = time_results.shape[0]\n",
    "        time_results.loc[idx] = [d1.shape[0], method_name, met_time, sim]"
   ]
  },
  {
   "cell_type": "markdown",
   "id": "7656ffa5-c9c3-41f5-aeb5-21bde8836e81",
   "metadata": {
    "papermill": {
     "duration": 0.001204,
     "end_time": "2023-09-11T17:19:40.580487",
     "exception": false,
     "start_time": "2023-09-11T17:19:40.579283",
     "status": "completed"
    },
    "tags": []
   },
   "source": [
    "# Run"
   ]
  },
  {
   "cell_type": "code",
   "execution_count": 11,
   "id": "3e4fac59-34a7-4b63-8aa0-e845c0a156af",
   "metadata": {
    "execution": {
     "iopub.execute_input": "2023-09-11T17:19:40.583250Z",
     "iopub.status.busy": "2023-09-11T17:19:40.583137Z",
     "iopub.status.idle": "2023-09-11T17:19:40.585602Z",
     "shell.execute_reply": "2023-09-11T17:19:40.585477Z"
    },
    "papermill": {
     "duration": 0.004268,
     "end_time": "2023-09-11T17:19:40.586007",
     "exception": false,
     "start_time": "2023-09-11T17:19:40.581739",
     "status": "completed"
    },
    "tags": []
   },
   "outputs": [
    {
     "data": {
      "text/plain": [
       "0.02047038824894002"
      ]
     },
     "execution_count": 11,
     "metadata": {},
     "output_type": "execute_result"
    }
   ],
   "source": [
    "# initialize methods\n",
    "ccc(np.random.rand(100), np.random.rand(100))"
   ]
  },
  {
   "cell_type": "code",
   "execution_count": 12,
   "id": "e3f26ab4-ec59-4e8f-b887-14abc2cc7cae",
   "metadata": {
    "execution": {
     "iopub.execute_input": "2023-09-11T17:19:40.589158Z",
     "iopub.status.busy": "2023-09-11T17:19:40.589057Z",
     "iopub.status.idle": "2023-09-11T17:24:30.286608Z",
     "shell.execute_reply": "2023-09-11T17:24:30.286217Z"
    },
    "papermill": {
     "duration": 289.701093,
     "end_time": "2023-09-11T17:24:30.288465",
     "exception": false,
     "start_time": "2023-09-11T17:19:40.587372",
     "status": "completed"
    },
    "tags": []
   },
   "outputs": [
    {
     "name": "stdout",
     "output_type": "stream",
     "text": [
      "Size: 100\n",
      "  p\n",
      "  s\n",
      "  cm\n",
      "  mic_e\n",
      "  mic\n",
      "Saving to pickle\n",
      "\n",
      "\n",
      "Size: 500\n",
      "  p\n",
      "  s\n",
      "  cm\n",
      "  mic_e\n",
      "  mic\n",
      "Saving to pickle\n",
      "\n",
      "\n",
      "Size: 1000\n",
      "  p\n",
      "  s\n",
      "  cm\n",
      "  mic_e\n",
      "  mic\n",
      "Saving to pickle\n",
      "\n",
      "\n",
      "Size: 5000\n",
      "  p\n",
      "  s\n",
      "  cm\n",
      "  mic_e\n",
      "  mic\n",
      "Saving to pickle\n",
      "\n",
      "\n",
      "Size: 10000\n",
      "  p\n",
      "  s\n",
      "  cm\n",
      "  mic_e\n",
      "  mic\n",
      "Saving to pickle\n",
      "\n",
      "\n",
      "Size: 50000\n",
      "  p\n",
      "  s\n",
      "  cm\n",
      "  mic_e\n",
      "Saving to pickle\n",
      "\n",
      "\n",
      "Size: 100000\n",
      "  p\n",
      "  s\n",
      "  cm\n",
      "Saving to pickle\n",
      "\n",
      "\n",
      "Size: 1000000\n",
      "  p\n",
      "  s\n",
      "  cm\n",
      "Saving to pickle\n",
      "\n",
      "\n",
      "Size: 10000000\n",
      "  p\n",
      "  s\n",
      "  cm\n",
      "Saving to pickle\n",
      "\n",
      "\n"
     ]
    }
   ],
   "source": [
    "for s in DATA_SIZES:\n",
    "    print(f\"Size: {s}\")\n",
    "\n",
    "    print(\"  p\")\n",
    "    run_method(lambda x, y: pearsonr(x, y)[0], \"p-3\", s)\n",
    "\n",
    "    print(\"  s\")\n",
    "    run_method(lambda x, y: spearmanr(x, y)[0], \"s-3\", s)\n",
    "\n",
    "    print(\"  cm\")\n",
    "    run_method(lambda x, y: ccc(x, y, n_jobs=N_JOBS), \"cm-3\", s)\n",
    "\n",
    "    if s <= 50000:\n",
    "        print(\"  mic_e\")\n",
    "        run_method(lambda x, y: mic(x, y, estimator=\"mic_e\"), \"mic_e-3\", s)\n",
    "\n",
    "    if s <= 10000:\n",
    "        print(\"  mic\")\n",
    "        run_method(lambda x, y: mic(x, y), \"mic-3\", s)\n",
    "\n",
    "    print(\"Saving to pickle\")\n",
    "    time_results.to_pickle(OUTPUT_DIR / OUTPUT_FILENAME)\n",
    "\n",
    "    print(\"\\n\")"
   ]
  },
  {
   "cell_type": "markdown",
   "id": "2597ad7d",
   "metadata": {
    "papermill": {
     "duration": 0.00156,
     "end_time": "2023-09-11T17:24:30.296478",
     "exception": false,
     "start_time": "2023-09-11T17:24:30.294918",
     "status": "completed"
    },
    "tags": []
   },
   "source": [
    "# Summary of results"
   ]
  },
  {
   "cell_type": "code",
   "execution_count": 13,
   "id": "3846d7bb-67fe-4084-afe8-d7226fbef0f1",
   "metadata": {
    "execution": {
     "iopub.execute_input": "2023-09-11T17:24:30.300328Z",
     "iopub.status.busy": "2023-09-11T17:24:30.300150Z",
     "iopub.status.idle": "2023-09-11T17:24:30.302196Z",
     "shell.execute_reply": "2023-09-11T17:24:30.302067Z"
    },
    "papermill": {
     "duration": 0.004568,
     "end_time": "2023-09-11T17:24:30.302661",
     "exception": false,
     "start_time": "2023-09-11T17:24:30.298093",
     "status": "completed"
    },
    "tags": []
   },
   "outputs": [
    {
     "data": {
      "text/plain": [
       "(10660, 4)"
      ]
     },
     "execution_count": 13,
     "metadata": {},
     "output_type": "execute_result"
    }
   ],
   "source": [
    "time_results.shape"
   ]
  },
  {
   "cell_type": "code",
   "execution_count": 14,
   "id": "1e699725",
   "metadata": {
    "execution": {
     "iopub.execute_input": "2023-09-11T17:24:30.306196Z",
     "iopub.status.busy": "2023-09-11T17:24:30.306085Z",
     "iopub.status.idle": "2023-09-11T17:24:30.309573Z",
     "shell.execute_reply": "2023-09-11T17:24:30.309446Z"
    },
    "papermill": {
     "duration": 0.005669,
     "end_time": "2023-09-11T17:24:30.309968",
     "exception": false,
     "start_time": "2023-09-11T17:24:30.304299",
     "status": "completed"
    },
    "tags": []
   },
   "outputs": [
    {
     "data": {
      "text/html": [
       "<div>\n",
       "<style scoped>\n",
       "    .dataframe tbody tr th:only-of-type {\n",
       "        vertical-align: middle;\n",
       "    }\n",
       "\n",
       "    .dataframe tbody tr th {\n",
       "        vertical-align: top;\n",
       "    }\n",
       "\n",
       "    .dataframe thead th {\n",
       "        text-align: right;\n",
       "    }\n",
       "</style>\n",
       "<table border=\"1\" class=\"dataframe\">\n",
       "  <thead>\n",
       "    <tr style=\"text-align: right;\">\n",
       "      <th></th>\n",
       "      <th>data_size</th>\n",
       "      <th>method</th>\n",
       "      <th>time</th>\n",
       "      <th>sim</th>\n",
       "    </tr>\n",
       "  </thead>\n",
       "  <tbody>\n",
       "    <tr>\n",
       "      <th>0</th>\n",
       "      <td>100</td>\n",
       "      <td>p-1</td>\n",
       "      <td>0.000096</td>\n",
       "      <td>-0.014058</td>\n",
       "    </tr>\n",
       "    <tr>\n",
       "      <th>1</th>\n",
       "      <td>100</td>\n",
       "      <td>p-1</td>\n",
       "      <td>0.000038</td>\n",
       "      <td>-0.019761</td>\n",
       "    </tr>\n",
       "    <tr>\n",
       "      <th>2</th>\n",
       "      <td>100</td>\n",
       "      <td>p-1</td>\n",
       "      <td>0.000041</td>\n",
       "      <td>-0.274154</td>\n",
       "    </tr>\n",
       "    <tr>\n",
       "      <th>3</th>\n",
       "      <td>100</td>\n",
       "      <td>p-1</td>\n",
       "      <td>0.000034</td>\n",
       "      <td>-0.071098</td>\n",
       "    </tr>\n",
       "    <tr>\n",
       "      <th>4</th>\n",
       "      <td>100</td>\n",
       "      <td>p-1</td>\n",
       "      <td>0.000032</td>\n",
       "      <td>0.016989</td>\n",
       "    </tr>\n",
       "  </tbody>\n",
       "</table>\n",
       "</div>"
      ],
      "text/plain": [
       "  data_size method      time       sim\n",
       "0       100    p-1  0.000096 -0.014058\n",
       "1       100    p-1  0.000038 -0.019761\n",
       "2       100    p-1  0.000041 -0.274154\n",
       "3       100    p-1  0.000034 -0.071098\n",
       "4       100    p-1  0.000032  0.016989"
      ]
     },
     "execution_count": 14,
     "metadata": {},
     "output_type": "execute_result"
    }
   ],
   "source": [
    "time_results.head()"
   ]
  },
  {
   "cell_type": "code",
   "execution_count": null,
   "id": "9c772e87-9117-4f2e-b217-29ea33c64d12",
   "metadata": {
    "papermill": {
     "duration": 0.00156,
     "end_time": "2023-09-11T17:24:30.313179",
     "exception": false,
     "start_time": "2023-09-11T17:24:30.311619",
     "status": "completed"
    },
    "tags": []
   },
   "outputs": [],
   "source": []
  }
 ],
 "metadata": {
  "jupytext": {
   "cell_metadata_filter": "all,-execution,-papermill,-trusted",
   "notebook_metadata_filter": "-jupytext.text_representation.jupytext_version"
  },
  "kernelspec": {
   "display_name": "Python 3 (ipykernel)",
   "language": "python",
   "name": "python3"
  },
  "language_info": {
   "codemirror_mode": {
    "name": "ipython",
    "version": 3
   },
   "file_extension": ".py",
   "mimetype": "text/x-python",
   "name": "python",
   "nbconvert_exporter": "python",
   "pygments_lexer": "ipython3",
   "version": "3.9.12"
  },
  "papermill": {
   "default_parameters": {},
   "duration": 291.152266,
   "end_time": "2023-09-11T17:24:30.532162",
   "environment_variables": {},
   "exception": null,
   "input_path": "nbs/20_comparison_others/61-time_test-3_cpu_cores.ipynb",
   "output_path": "nbs/20_comparison_others/61-time_test-3_cpu_cores.run.ipynb",
   "parameters": {
    "GTEX_TISSUE": "skin_sun_exposed_lower_leg"
   },
   "start_time": "2023-09-11T17:19:39.379896",
   "version": "2.3.3"
  }
 },
 "nbformat": 4,
 "nbformat_minor": 5
}
