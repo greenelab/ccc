{
 "cells": [
  {
   "cell_type": "markdown",
   "id": "c1948eb4-fb63-4fad-8243-bcd57b98def3",
   "metadata": {
    "papermill": {
     "duration": 0.007199,
     "end_time": "2023-09-11T18:25:02.581916",
     "exception": false,
     "start_time": "2023-09-11T18:25:02.574717",
     "status": "completed"
    },
    "tags": []
   },
   "source": [
    "# Description"
   ]
  },
  {
   "cell_type": "markdown",
   "id": "d5775ff8-d222-4fbc-b1a9-8366662c2896",
   "metadata": {
    "papermill": {
     "duration": 0.00434,
     "end_time": "2023-09-11T18:25:02.596193",
     "exception": false,
     "start_time": "2023-09-11T18:25:02.591853",
     "status": "completed"
    },
    "tags": []
   },
   "source": [
    "It generates random variables of varying sizes to compare the time taken by CCC and MIC.\n",
    "\n",
    "This notebook uses 3 CPU core."
   ]
  },
  {
   "cell_type": "markdown",
   "id": "d6252b4c-6d56-4cf0-aecd-5d8c769a3609",
   "metadata": {
    "papermill": {
     "duration": 0.001886,
     "end_time": "2023-09-11T18:25:02.601238",
     "exception": false,
     "start_time": "2023-09-11T18:25:02.599352",
     "status": "completed"
    },
    "tags": []
   },
   "source": [
    "# Modules loading"
   ]
  },
  {
   "cell_type": "code",
   "execution_count": 1,
   "id": "ea7d30d5-da78-454a-a4ff-e6307bfdbb37",
   "metadata": {
    "execution": {
     "iopub.execute_input": "2023-09-11T18:25:02.605906Z",
     "iopub.status.busy": "2023-09-11T18:25:02.605771Z",
     "iopub.status.idle": "2023-09-11T18:25:02.610377Z",
     "shell.execute_reply": "2023-09-11T18:25:02.610216Z"
    },
    "papermill": {
     "duration": 0.008239,
     "end_time": "2023-09-11T18:25:02.610981",
     "exception": false,
     "start_time": "2023-09-11T18:25:02.602742",
     "status": "completed"
    },
    "tags": []
   },
   "outputs": [
    {
     "name": "stdout",
     "output_type": "stream",
     "text": [
      "env: CM_N_JOBS=3\n",
      "env: NUMBA_NUM_THREADS=3\n",
      "env: MKL_NUM_THREADS=3\n",
      "env: OPEN_BLAS_NUM_THREADS=3\n",
      "env: NUMEXPR_NUM_THREADS=3\n",
      "env: OMP_NUM_THREADS=3\n"
     ]
    }
   ],
   "source": [
    "%env CM_N_JOBS=3\n",
    "%env NUMBA_NUM_THREADS=3\n",
    "%env MKL_NUM_THREADS=3\n",
    "%env OPEN_BLAS_NUM_THREADS=3\n",
    "%env NUMEXPR_NUM_THREADS=3\n",
    "%env OMP_NUM_THREADS=3"
   ]
  },
  {
   "cell_type": "code",
   "execution_count": 2,
   "id": "77e9d29d-5307-4b4a-b103-7d1fbd6a7e56",
   "metadata": {
    "execution": {
     "iopub.execute_input": "2023-09-11T18:25:02.613866Z",
     "iopub.status.busy": "2023-09-11T18:25:02.613723Z",
     "iopub.status.idle": "2023-09-11T18:25:02.920115Z",
     "shell.execute_reply": "2023-09-11T18:25:02.919927Z"
    },
    "papermill": {
     "duration": 0.308632,
     "end_time": "2023-09-11T18:25:02.920863",
     "exception": false,
     "start_time": "2023-09-11T18:25:02.612231",
     "status": "completed"
    },
    "tags": []
   },
   "outputs": [],
   "source": [
    "import os\n",
    "from time import time\n",
    "\n",
    "import numpy as np\n",
    "import pandas as pd\n",
    "from scipy.stats import pearsonr, spearmanr\n",
    "\n",
    "from ccc import conf\n",
    "from ccc.coef import ccc\n",
    "from ccc.methods import mic"
   ]
  },
  {
   "cell_type": "markdown",
   "id": "262eb535-3e5d-43d7-9efd-bd6cfdac9190",
   "metadata": {
    "papermill": {
     "duration": 0.001174,
     "end_time": "2023-09-11T18:25:02.923563",
     "exception": false,
     "start_time": "2023-09-11T18:25:02.922389",
     "status": "completed"
    },
    "tags": []
   },
   "source": [
    "# Settings"
   ]
  },
  {
   "cell_type": "code",
   "execution_count": 3,
   "id": "c1e5a523-e22f-42e1-b27f-929bebaea711",
   "metadata": {
    "execution": {
     "iopub.execute_input": "2023-09-11T18:25:02.926438Z",
     "iopub.status.busy": "2023-09-11T18:25:02.926359Z",
     "iopub.status.idle": "2023-09-11T18:25:02.929934Z",
     "shell.execute_reply": "2023-09-11T18:25:02.929691Z"
    },
    "papermill": {
     "duration": 0.005592,
     "end_time": "2023-09-11T18:25:02.930365",
     "exception": false,
     "start_time": "2023-09-11T18:25:02.924773",
     "status": "completed"
    },
    "tags": []
   },
   "outputs": [
    {
     "data": {
      "text/plain": [
       "3"
      ]
     },
     "metadata": {},
     "output_type": "display_data"
    }
   ],
   "source": [
    "N_JOBS = int(os.environ[\"CM_N_JOBS\"])\n",
    "display(N_JOBS)"
   ]
  },
  {
   "cell_type": "code",
   "execution_count": 4,
   "id": "311cc161-c947-447e-b622-6df22ad0e03a",
   "metadata": {
    "execution": {
     "iopub.execute_input": "2023-09-11T18:25:02.933163Z",
     "iopub.status.busy": "2023-09-11T18:25:02.932960Z",
     "iopub.status.idle": "2023-09-11T18:25:02.934338Z",
     "shell.execute_reply": "2023-09-11T18:25:02.934208Z"
    },
    "papermill": {
     "duration": 0.003126,
     "end_time": "2023-09-11T18:25:02.934722",
     "exception": false,
     "start_time": "2023-09-11T18:25:02.931596",
     "status": "completed"
    },
    "tags": []
   },
   "outputs": [],
   "source": [
    "OUTPUT_FILENAME = \"time_test.pkl\""
   ]
  },
  {
   "cell_type": "code",
   "execution_count": 5,
   "id": "2d2bd14a-a40d-4710-98c2-587148d0f532",
   "metadata": {
    "execution": {
     "iopub.execute_input": "2023-09-11T18:25:02.937456Z",
     "iopub.status.busy": "2023-09-11T18:25:02.937344Z",
     "iopub.status.idle": "2023-09-11T18:25:02.938660Z",
     "shell.execute_reply": "2023-09-11T18:25:02.938531Z"
    },
    "papermill": {
     "duration": 0.003064,
     "end_time": "2023-09-11T18:25:02.939043",
     "exception": false,
     "start_time": "2023-09-11T18:25:02.935979",
     "status": "completed"
    },
    "tags": []
   },
   "outputs": [],
   "source": [
    "DATA_SIZES = [\n",
    "    100,\n",
    "    500,\n",
    "    1000,\n",
    "    5000,\n",
    "    10000,\n",
    "    50000,\n",
    "    100000,\n",
    "    1000000,\n",
    "    10000000,\n",
    "]\n",
    "\n",
    "N_REPS = 10"
   ]
  },
  {
   "cell_type": "code",
   "execution_count": 6,
   "id": "d24607ca-2774-4e51-b392-538c85c86052",
   "metadata": {
    "execution": {
     "iopub.execute_input": "2023-09-11T18:25:02.941707Z",
     "iopub.status.busy": "2023-09-11T18:25:02.941619Z",
     "iopub.status.idle": "2023-09-11T18:25:02.942856Z",
     "shell.execute_reply": "2023-09-11T18:25:02.942723Z"
    },
    "papermill": {
     "duration": 0.002975,
     "end_time": "2023-09-11T18:25:02.943238",
     "exception": false,
     "start_time": "2023-09-11T18:25:02.940263",
     "status": "completed"
    },
    "tags": []
   },
   "outputs": [],
   "source": [
    "np.random.seed(0)"
   ]
  },
  {
   "cell_type": "markdown",
   "id": "eec9bb6d-4ba2-4817-9b36-bc8e68a2beae",
   "metadata": {
    "papermill": {
     "duration": 0.001281,
     "end_time": "2023-09-11T18:25:02.945714",
     "exception": false,
     "start_time": "2023-09-11T18:25:02.944433",
     "status": "completed"
    },
    "tags": []
   },
   "source": [
    "# Paths"
   ]
  },
  {
   "cell_type": "code",
   "execution_count": 7,
   "id": "ee9e6b70-9abd-4714-9ce5-49c270a1b0be",
   "metadata": {
    "execution": {
     "iopub.execute_input": "2023-09-11T18:25:02.948392Z",
     "iopub.status.busy": "2023-09-11T18:25:02.948300Z",
     "iopub.status.idle": "2023-09-11T18:25:02.949893Z",
     "shell.execute_reply": "2023-09-11T18:25:02.949772Z"
    },
    "papermill": {
     "duration": 0.003304,
     "end_time": "2023-09-11T18:25:02.950266",
     "exception": false,
     "start_time": "2023-09-11T18:25:02.946962",
     "status": "completed"
    },
    "tags": []
   },
   "outputs": [
    {
     "data": {
      "text/plain": [
       "PosixPath('/opt/data/results/time_test')"
      ]
     },
     "metadata": {},
     "output_type": "display_data"
    }
   ],
   "source": [
    "OUTPUT_DIR = conf.RESULTS_DIR / \"time_test\"\n",
    "OUTPUT_DIR.mkdir(parents=True, exist_ok=True)\n",
    "display(OUTPUT_DIR)"
   ]
  },
  {
   "cell_type": "markdown",
   "id": "9cb68076-f855-45c8-9843-ce2d93bdc4e7",
   "metadata": {
    "papermill": {
     "duration": 0.001157,
     "end_time": "2023-09-11T18:25:02.952697",
     "exception": false,
     "start_time": "2023-09-11T18:25:02.951540",
     "status": "completed"
    },
    "tags": []
   },
   "source": [
    "# Functions"
   ]
  },
  {
   "cell_type": "code",
   "execution_count": 8,
   "id": "e2c25ecf-0d87-4447-a9ff-a3b511629a61",
   "metadata": {
    "execution": {
     "iopub.execute_input": "2023-09-11T18:25:02.955439Z",
     "iopub.status.busy": "2023-09-11T18:25:02.955350Z",
     "iopub.status.idle": "2023-09-11T18:25:02.957065Z",
     "shell.execute_reply": "2023-09-11T18:25:02.956928Z"
    },
    "papermill": {
     "duration": 0.003506,
     "end_time": "2023-09-11T18:25:02.957442",
     "exception": false,
     "start_time": "2023-09-11T18:25:02.953936",
     "status": "completed"
    },
    "tags": []
   },
   "outputs": [],
   "source": [
    "# append to previous run\n",
    "time_results = pd.read_pickle(OUTPUT_DIR / OUTPUT_FILENAME)"
   ]
  },
  {
   "cell_type": "code",
   "execution_count": 9,
   "id": "3ab0c0b8-f340-4cb4-a236-6523cf0aa995",
   "metadata": {
    "execution": {
     "iopub.execute_input": "2023-09-11T18:25:02.960158Z",
     "iopub.status.busy": "2023-09-11T18:25:02.960071Z",
     "iopub.status.idle": "2023-09-11T18:25:02.961539Z",
     "shell.execute_reply": "2023-09-11T18:25:02.961422Z"
    },
    "papermill": {
     "duration": 0.003207,
     "end_time": "2023-09-11T18:25:02.961914",
     "exception": false,
     "start_time": "2023-09-11T18:25:02.958707",
     "status": "completed"
    },
    "tags": []
   },
   "outputs": [
    {
     "data": {
      "text/plain": [
       "(5330, 4)"
      ]
     },
     "execution_count": 9,
     "metadata": {},
     "output_type": "execute_result"
    }
   ],
   "source": [
    "time_results.shape"
   ]
  },
  {
   "cell_type": "code",
   "execution_count": 10,
   "id": "ffc0d8de-79a6-4ab8-8cc2-5b720392a0e6",
   "metadata": {
    "execution": {
     "iopub.execute_input": "2023-09-11T18:25:02.964689Z",
     "iopub.status.busy": "2023-09-11T18:25:02.964602Z",
     "iopub.status.idle": "2023-09-11T18:25:02.966408Z",
     "shell.execute_reply": "2023-09-11T18:25:02.966277Z"
    },
    "papermill": {
     "duration": 0.003594,
     "end_time": "2023-09-11T18:25:02.966790",
     "exception": false,
     "start_time": "2023-09-11T18:25:02.963196",
     "status": "completed"
    },
    "tags": []
   },
   "outputs": [],
   "source": [
    "def run_method(func, method_name, size):\n",
    "    n_reps = N_REPS\n",
    "    if size < 500:\n",
    "        n_reps = 1000\n",
    "\n",
    "    for r in range(n_reps):\n",
    "        d1 = np.random.rand(size)\n",
    "        d2 = np.random.rand(size)\n",
    "\n",
    "        start_time = time()\n",
    "        sim = func(d1, d2)\n",
    "        end_time = time()\n",
    "        met_time = end_time - start_time\n",
    "\n",
    "        idx = time_results.shape[0]\n",
    "        time_results.loc[idx] = [d1.shape[0], method_name, met_time, sim]"
   ]
  },
  {
   "cell_type": "markdown",
   "id": "7656ffa5-c9c3-41f5-aeb5-21bde8836e81",
   "metadata": {
    "papermill": {
     "duration": 0.0012,
     "end_time": "2023-09-11T18:25:02.969313",
     "exception": false,
     "start_time": "2023-09-11T18:25:02.968113",
     "status": "completed"
    },
    "tags": []
   },
   "source": [
    "# Run"
   ]
  },
  {
   "cell_type": "code",
   "execution_count": 11,
   "id": "3e4fac59-34a7-4b63-8aa0-e845c0a156af",
   "metadata": {
    "execution": {
     "iopub.execute_input": "2023-09-11T18:25:02.972057Z",
     "iopub.status.busy": "2023-09-11T18:25:02.971964Z",
     "iopub.status.idle": "2023-09-11T18:25:02.974396Z",
     "shell.execute_reply": "2023-09-11T18:25:02.974255Z"
    },
    "papermill": {
     "duration": 0.004232,
     "end_time": "2023-09-11T18:25:02.974807",
     "exception": false,
     "start_time": "2023-09-11T18:25:02.970575",
     "status": "completed"
    },
    "tags": []
   },
   "outputs": [
    {
     "data": {
      "text/plain": [
       "0.02047038824894002"
      ]
     },
     "execution_count": 11,
     "metadata": {},
     "output_type": "execute_result"
    }
   ],
   "source": [
    "# initialize methods\n",
    "ccc(np.random.rand(100), np.random.rand(100))"
   ]
  },
  {
   "cell_type": "code",
   "execution_count": 12,
   "id": "e3f26ab4-ec59-4e8f-b887-14abc2cc7cae",
   "metadata": {
    "execution": {
     "iopub.execute_input": "2023-09-11T18:25:02.977733Z",
     "iopub.status.busy": "2023-09-11T18:25:02.977643Z",
     "iopub.status.idle": "2023-09-11T18:29:52.563676Z",
     "shell.execute_reply": "2023-09-11T18:29:52.563298Z"
    },
    "papermill": {
     "duration": 289.589368,
     "end_time": "2023-09-11T18:29:52.565529",
     "exception": false,
     "start_time": "2023-09-11T18:25:02.976161",
     "status": "completed"
    },
    "tags": []
   },
   "outputs": [
    {
     "name": "stdout",
     "output_type": "stream",
     "text": [
      "Size: 100\n",
      "  p\n",
      "  s\n",
      "  cm\n",
      "  mic_e\n",
      "  mic\n",
      "Saving to pickle\n",
      "\n",
      "\n",
      "Size: 500\n",
      "  p\n",
      "  s\n",
      "  cm\n",
      "  mic_e\n",
      "  mic\n",
      "Saving to pickle\n",
      "\n",
      "\n",
      "Size: 1000\n",
      "  p\n",
      "  s\n",
      "  cm\n",
      "  mic_e\n",
      "  mic\n",
      "Saving to pickle\n",
      "\n",
      "\n",
      "Size: 5000\n",
      "  p\n",
      "  s\n",
      "  cm\n",
      "  mic_e\n",
      "  mic\n",
      "Saving to pickle\n",
      "\n",
      "\n",
      "Size: 10000\n",
      "  p\n",
      "  s\n",
      "  cm\n",
      "  mic_e\n",
      "  mic\n",
      "Saving to pickle\n",
      "\n",
      "\n",
      "Size: 50000\n",
      "  p\n",
      "  s\n",
      "  cm\n",
      "  mic_e\n",
      "Saving to pickle\n",
      "\n",
      "\n",
      "Size: 100000\n",
      "  p\n",
      "  s\n",
      "  cm\n",
      "Saving to pickle\n",
      "\n",
      "\n",
      "Size: 1000000\n",
      "  p\n",
      "  s\n",
      "  cm\n",
      "Saving to pickle\n",
      "\n",
      "\n",
      "Size: 10000000\n",
      "  p\n",
      "  s\n",
      "  cm\n",
      "Saving to pickle\n",
      "\n",
      "\n"
     ]
    }
   ],
   "source": [
    "for s in DATA_SIZES:\n",
    "    print(f\"Size: {s}\")\n",
    "\n",
    "    print(\"  p\")\n",
    "    run_method(lambda x, y: pearsonr(x, y)[0], \"p-3\", s)\n",
    "\n",
    "    print(\"  s\")\n",
    "    run_method(lambda x, y: spearmanr(x, y)[0], \"s-3\", s)\n",
    "\n",
    "    print(\"  cm\")\n",
    "    run_method(lambda x, y: ccc(x, y, n_jobs=N_JOBS), \"cm-3\", s)\n",
    "\n",
    "    if s <= 50000:\n",
    "        print(\"  mic_e\")\n",
    "        run_method(lambda x, y: mic(x, y, estimator=\"mic_e\"), \"mic_e-3\", s)\n",
    "\n",
    "    if s <= 10000:\n",
    "        print(\"  mic\")\n",
    "        run_method(lambda x, y: mic(x, y), \"mic-3\", s)\n",
    "\n",
    "    print(\"Saving to pickle\")\n",
    "    time_results.to_pickle(OUTPUT_DIR / OUTPUT_FILENAME)\n",
    "\n",
    "    print(\"\\n\")"
   ]
  },
  {
   "cell_type": "markdown",
   "id": "2597ad7d",
   "metadata": {
    "papermill": {
     "duration": 0.001577,
     "end_time": "2023-09-11T18:29:52.573733",
     "exception": false,
     "start_time": "2023-09-11T18:29:52.572156",
     "status": "completed"
    },
    "tags": []
   },
   "source": [
    "# Summary of results"
   ]
  },
  {
   "cell_type": "code",
   "execution_count": 13,
   "id": "3846d7bb-67fe-4084-afe8-d7226fbef0f1",
   "metadata": {
    "execution": {
     "iopub.execute_input": "2023-09-11T18:29:52.577465Z",
     "iopub.status.busy": "2023-09-11T18:29:52.577314Z",
     "iopub.status.idle": "2023-09-11T18:29:52.579151Z",
     "shell.execute_reply": "2023-09-11T18:29:52.579032Z"
    },
    "papermill": {
     "duration": 0.004304,
     "end_time": "2023-09-11T18:29:52.579657",
     "exception": false,
     "start_time": "2023-09-11T18:29:52.575353",
     "status": "completed"
    },
    "tags": []
   },
   "outputs": [
    {
     "data": {
      "text/plain": [
       "(10660, 4)"
      ]
     },
     "execution_count": 13,
     "metadata": {},
     "output_type": "execute_result"
    }
   ],
   "source": [
    "time_results.shape"
   ]
  },
  {
   "cell_type": "code",
   "execution_count": 14,
   "id": "1e699725",
   "metadata": {
    "execution": {
     "iopub.execute_input": "2023-09-11T18:29:52.583343Z",
     "iopub.status.busy": "2023-09-11T18:29:52.583254Z",
     "iopub.status.idle": "2023-09-11T18:29:52.586961Z",
     "shell.execute_reply": "2023-09-11T18:29:52.586828Z"
    },
    "papermill": {
     "duration": 0.006268,
     "end_time": "2023-09-11T18:29:52.587593",
     "exception": false,
     "start_time": "2023-09-11T18:29:52.581325",
     "status": "completed"
    },
    "tags": []
   },
   "outputs": [
    {
     "data": {
      "text/html": [
       "<div>\n",
       "<style scoped>\n",
       "    .dataframe tbody tr th:only-of-type {\n",
       "        vertical-align: middle;\n",
       "    }\n",
       "\n",
       "    .dataframe tbody tr th {\n",
       "        vertical-align: top;\n",
       "    }\n",
       "\n",
       "    .dataframe thead th {\n",
       "        text-align: right;\n",
       "    }\n",
       "</style>\n",
       "<table border=\"1\" class=\"dataframe\">\n",
       "  <thead>\n",
       "    <tr style=\"text-align: right;\">\n",
       "      <th></th>\n",
       "      <th>data_size</th>\n",
       "      <th>method</th>\n",
       "      <th>time</th>\n",
       "      <th>sim</th>\n",
       "    </tr>\n",
       "  </thead>\n",
       "  <tbody>\n",
       "    <tr>\n",
       "      <th>0</th>\n",
       "      <td>100</td>\n",
       "      <td>p-1</td>\n",
       "      <td>0.000118</td>\n",
       "      <td>0.025538</td>\n",
       "    </tr>\n",
       "    <tr>\n",
       "      <th>1</th>\n",
       "      <td>100</td>\n",
       "      <td>p-1</td>\n",
       "      <td>0.000057</td>\n",
       "      <td>-0.151557</td>\n",
       "    </tr>\n",
       "    <tr>\n",
       "      <th>2</th>\n",
       "      <td>100</td>\n",
       "      <td>p-1</td>\n",
       "      <td>0.000057</td>\n",
       "      <td>-0.057741</td>\n",
       "    </tr>\n",
       "    <tr>\n",
       "      <th>3</th>\n",
       "      <td>100</td>\n",
       "      <td>p-1</td>\n",
       "      <td>0.000054</td>\n",
       "      <td>-0.015025</td>\n",
       "    </tr>\n",
       "    <tr>\n",
       "      <th>4</th>\n",
       "      <td>100</td>\n",
       "      <td>p-1</td>\n",
       "      <td>0.000056</td>\n",
       "      <td>0.061830</td>\n",
       "    </tr>\n",
       "  </tbody>\n",
       "</table>\n",
       "</div>"
      ],
      "text/plain": [
       "  data_size method      time       sim\n",
       "0       100    p-1  0.000118  0.025538\n",
       "1       100    p-1  0.000057 -0.151557\n",
       "2       100    p-1  0.000057 -0.057741\n",
       "3       100    p-1  0.000054 -0.015025\n",
       "4       100    p-1  0.000056  0.061830"
      ]
     },
     "execution_count": 14,
     "metadata": {},
     "output_type": "execute_result"
    }
   ],
   "source": [
    "time_results.head()"
   ]
  },
  {
   "cell_type": "code",
   "execution_count": null,
   "id": "9c772e87-9117-4f2e-b217-29ea33c64d12",
   "metadata": {
    "papermill": {
     "duration": 0.001742,
     "end_time": "2023-09-11T18:29:52.591015",
     "exception": false,
     "start_time": "2023-09-11T18:29:52.589273",
     "status": "completed"
    },
    "tags": []
   },
   "outputs": [],
   "source": []
  }
 ],
 "metadata": {
  "jupytext": {
   "cell_metadata_filter": "all,-execution,-papermill,-trusted",
   "notebook_metadata_filter": "-jupytext.text_representation.jupytext_version"
  },
  "kernelspec": {
   "display_name": "Python 3 (ipykernel)",
   "language": "python",
   "name": "python3"
  },
  "language_info": {
   "codemirror_mode": {
    "name": "ipython",
    "version": 3
   },
   "file_extension": ".py",
   "mimetype": "text/x-python",
   "name": "python",
   "nbconvert_exporter": "python",
   "pygments_lexer": "ipython3",
   "version": "3.9.12"
  },
  "papermill": {
   "default_parameters": {},
   "duration": 291.044624,
   "end_time": "2023-09-11T18:29:52.811448",
   "environment_variables": {},
   "exception": null,
   "input_path": "nbs/20_comparison_others/61-time_test-3_cpu_cores.ipynb",
   "output_path": "nbs/20_comparison_others/61-time_test-3_cpu_cores.run.ipynb",
   "parameters": {
    "GTEX_TISSUE": "skin_sun_exposed_lower_leg"
   },
   "start_time": "2023-09-11T18:25:01.766824",
   "version": "2.3.3"
  }
 },
 "nbformat": 4,
 "nbformat_minor": 5
}
