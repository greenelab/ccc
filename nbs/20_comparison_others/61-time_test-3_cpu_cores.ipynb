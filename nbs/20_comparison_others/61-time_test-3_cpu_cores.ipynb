{
 "cells": [
  {
   "cell_type": "markdown",
   "id": "c1948eb4-fb63-4fad-8243-bcd57b98def3",
   "metadata": {
    "papermill": {
     "duration": 0.007283,
     "end_time": "2023-09-11T12:42:47.087604",
     "exception": false,
     "start_time": "2023-09-11T12:42:47.080321",
     "status": "completed"
    },
    "tags": []
   },
   "source": [
    "# Description"
   ]
  },
  {
   "cell_type": "markdown",
   "id": "d5775ff8-d222-4fbc-b1a9-8366662c2896",
   "metadata": {
    "papermill": {
     "duration": 0.005516,
     "end_time": "2023-09-11T12:42:47.102979",
     "exception": false,
     "start_time": "2023-09-11T12:42:47.097463",
     "status": "completed"
    },
    "tags": []
   },
   "source": [
    "It generates random variables of varying sizes to compare the time taken by CCC and MIC.\n",
    "\n",
    "This notebook uses 3 CPU core."
   ]
  },
  {
   "cell_type": "markdown",
   "id": "d6252b4c-6d56-4cf0-aecd-5d8c769a3609",
   "metadata": {
    "papermill": {
     "duration": 0.002663,
     "end_time": "2023-09-11T12:42:47.111751",
     "exception": false,
     "start_time": "2023-09-11T12:42:47.109088",
     "status": "completed"
    },
    "tags": []
   },
   "source": [
    "# Modules loading"
   ]
  },
  {
   "cell_type": "code",
   "execution_count": 1,
   "id": "ea7d30d5-da78-454a-a4ff-e6307bfdbb37",
   "metadata": {
    "execution": {
     "iopub.execute_input": "2023-09-11T12:42:47.116278Z",
     "iopub.status.busy": "2023-09-11T12:42:47.116101Z",
     "iopub.status.idle": "2023-09-11T12:42:47.121262Z",
     "shell.execute_reply": "2023-09-11T12:42:47.121055Z"
    },
    "papermill": {
     "duration": 0.007987,
     "end_time": "2023-09-11T12:42:47.121897",
     "exception": false,
     "start_time": "2023-09-11T12:42:47.113910",
     "status": "completed"
    },
    "tags": []
   },
   "outputs": [
    {
     "name": "stdout",
     "output_type": "stream",
     "text": [
      "env: CM_N_JOBS=3\n",
      "env: NUMBA_NUM_THREADS=3\n",
      "env: MKL_NUM_THREADS=3\n",
      "env: OPEN_BLAS_NUM_THREADS=3\n",
      "env: NUMEXPR_NUM_THREADS=3\n",
      "env: OMP_NUM_THREADS=3\n"
     ]
    }
   ],
   "source": [
    "%env CM_N_JOBS=3\n",
    "%env NUMBA_NUM_THREADS=3\n",
    "%env MKL_NUM_THREADS=3\n",
    "%env OPEN_BLAS_NUM_THREADS=3\n",
    "%env NUMEXPR_NUM_THREADS=3\n",
    "%env OMP_NUM_THREADS=3"
   ]
  },
  {
   "cell_type": "code",
   "execution_count": 2,
   "id": "77e9d29d-5307-4b4a-b103-7d1fbd6a7e56",
   "metadata": {
    "execution": {
     "iopub.execute_input": "2023-09-11T12:42:47.125237Z",
     "iopub.status.busy": "2023-09-11T12:42:47.125151Z",
     "iopub.status.idle": "2023-09-11T12:42:47.436016Z",
     "shell.execute_reply": "2023-09-11T12:42:47.435737Z"
    },
    "papermill": {
     "duration": 0.313333,
     "end_time": "2023-09-11T12:42:47.436883",
     "exception": false,
     "start_time": "2023-09-11T12:42:47.123550",
     "status": "completed"
    },
    "tags": []
   },
   "outputs": [],
   "source": [
    "import os\n",
    "from time import time\n",
    "\n",
    "import numpy as np\n",
    "import pandas as pd\n",
    "from scipy.stats import pearsonr, spearmanr\n",
    "\n",
    "from ccc import conf\n",
    "from ccc.coef import ccc\n",
    "from ccc.methods import mic"
   ]
  },
  {
   "cell_type": "markdown",
   "id": "262eb535-3e5d-43d7-9efd-bd6cfdac9190",
   "metadata": {
    "papermill": {
     "duration": 0.009685,
     "end_time": "2023-09-11T12:42:47.448060",
     "exception": false,
     "start_time": "2023-09-11T12:42:47.438375",
     "status": "completed"
    },
    "tags": []
   },
   "source": [
    "# Settings"
   ]
  },
  {
   "cell_type": "code",
   "execution_count": 3,
   "id": "c1e5a523-e22f-42e1-b27f-929bebaea711",
   "metadata": {
    "execution": {
     "iopub.execute_input": "2023-09-11T12:42:47.454474Z",
     "iopub.status.busy": "2023-09-11T12:42:47.454405Z",
     "iopub.status.idle": "2023-09-11T12:42:47.458187Z",
     "shell.execute_reply": "2023-09-11T12:42:47.458035Z"
    },
    "papermill": {
     "duration": 0.006239,
     "end_time": "2023-09-11T12:42:47.458734",
     "exception": false,
     "start_time": "2023-09-11T12:42:47.452495",
     "status": "completed"
    },
    "tags": []
   },
   "outputs": [
    {
     "data": {
      "text/plain": [
       "3"
      ]
     },
     "metadata": {},
     "output_type": "display_data"
    }
   ],
   "source": [
    "N_JOBS = int(os.environ[\"CM_N_JOBS\"])\n",
    "display(N_JOBS)"
   ]
  },
  {
   "cell_type": "code",
   "execution_count": 4,
   "id": "311cc161-c947-447e-b622-6df22ad0e03a",
   "metadata": {
    "execution": {
     "iopub.execute_input": "2023-09-11T12:42:47.461588Z",
     "iopub.status.busy": "2023-09-11T12:42:47.461493Z",
     "iopub.status.idle": "2023-09-11T12:42:47.462765Z",
     "shell.execute_reply": "2023-09-11T12:42:47.462626Z"
    },
    "papermill": {
     "duration": 0.0032,
     "end_time": "2023-09-11T12:42:47.463206",
     "exception": false,
     "start_time": "2023-09-11T12:42:47.460006",
     "status": "completed"
    },
    "tags": []
   },
   "outputs": [],
   "source": [
    "OUTPUT_FILENAME = \"time_test.pkl\""
   ]
  },
  {
   "cell_type": "code",
   "execution_count": 5,
   "id": "2d2bd14a-a40d-4710-98c2-587148d0f532",
   "metadata": {
    "execution": {
     "iopub.execute_input": "2023-09-11T12:42:47.465927Z",
     "iopub.status.busy": "2023-09-11T12:42:47.465842Z",
     "iopub.status.idle": "2023-09-11T12:42:47.467161Z",
     "shell.execute_reply": "2023-09-11T12:42:47.467027Z"
    },
    "papermill": {
     "duration": 0.003156,
     "end_time": "2023-09-11T12:42:47.467612",
     "exception": false,
     "start_time": "2023-09-11T12:42:47.464456",
     "status": "completed"
    },
    "tags": []
   },
   "outputs": [],
   "source": [
    "DATA_SIZES = [\n",
    "    100,\n",
    "    500,\n",
    "    1000,\n",
    "    5000,\n",
    "    10000,\n",
    "    50000,\n",
    "    100000,\n",
    "    1000000,\n",
    "    10000000,\n",
    "]\n",
    "\n",
    "N_REPS = 10"
   ]
  },
  {
   "cell_type": "code",
   "execution_count": 6,
   "id": "d24607ca-2774-4e51-b392-538c85c86052",
   "metadata": {
    "execution": {
     "iopub.execute_input": "2023-09-11T12:42:47.470402Z",
     "iopub.status.busy": "2023-09-11T12:42:47.470318Z",
     "iopub.status.idle": "2023-09-11T12:42:47.471538Z",
     "shell.execute_reply": "2023-09-11T12:42:47.471410Z"
    },
    "papermill": {
     "duration": 0.003057,
     "end_time": "2023-09-11T12:42:47.471928",
     "exception": false,
     "start_time": "2023-09-11T12:42:47.468871",
     "status": "completed"
    },
    "tags": []
   },
   "outputs": [],
   "source": [
    "np.random.seed(0)"
   ]
  },
  {
   "cell_type": "markdown",
   "id": "eec9bb6d-4ba2-4817-9b36-bc8e68a2beae",
   "metadata": {
    "papermill": {
     "duration": 0.001154,
     "end_time": "2023-09-11T12:42:47.474318",
     "exception": false,
     "start_time": "2023-09-11T12:42:47.473164",
     "status": "completed"
    },
    "tags": []
   },
   "source": [
    "# Paths"
   ]
  },
  {
   "cell_type": "code",
   "execution_count": 7,
   "id": "ee9e6b70-9abd-4714-9ce5-49c270a1b0be",
   "metadata": {
    "execution": {
     "iopub.execute_input": "2023-09-11T12:42:47.477201Z",
     "iopub.status.busy": "2023-09-11T12:42:47.477106Z",
     "iopub.status.idle": "2023-09-11T12:42:47.478760Z",
     "shell.execute_reply": "2023-09-11T12:42:47.478637Z"
    },
    "papermill": {
     "duration": 0.003614,
     "end_time": "2023-09-11T12:42:47.479235",
     "exception": false,
     "start_time": "2023-09-11T12:42:47.475621",
     "status": "completed"
    },
    "tags": []
   },
   "outputs": [
    {
     "data": {
      "text/plain": [
       "PosixPath('/opt/data/results/time_test')"
      ]
     },
     "metadata": {},
     "output_type": "display_data"
    }
   ],
   "source": [
    "OUTPUT_DIR = conf.RESULTS_DIR / \"time_test\"\n",
    "OUTPUT_DIR.mkdir(parents=True, exist_ok=True)\n",
    "display(OUTPUT_DIR)"
   ]
  },
  {
   "cell_type": "markdown",
   "id": "9cb68076-f855-45c8-9843-ce2d93bdc4e7",
   "metadata": {
    "papermill": {
     "duration": 0.001143,
     "end_time": "2023-09-11T12:42:47.481614",
     "exception": false,
     "start_time": "2023-09-11T12:42:47.480471",
     "status": "completed"
    },
    "tags": []
   },
   "source": [
    "# Functions"
   ]
  },
  {
   "cell_type": "code",
   "execution_count": 8,
   "id": "e2c25ecf-0d87-4447-a9ff-a3b511629a61",
   "metadata": {
    "execution": {
     "iopub.execute_input": "2023-09-11T12:42:47.484374Z",
     "iopub.status.busy": "2023-09-11T12:42:47.484269Z",
     "iopub.status.idle": "2023-09-11T12:42:47.486135Z",
     "shell.execute_reply": "2023-09-11T12:42:47.485996Z"
    },
    "papermill": {
     "duration": 0.003696,
     "end_time": "2023-09-11T12:42:47.486536",
     "exception": false,
     "start_time": "2023-09-11T12:42:47.482840",
     "status": "completed"
    },
    "tags": []
   },
   "outputs": [],
   "source": [
    "# append to previous run\n",
    "time_results = pd.read_pickle(OUTPUT_DIR / OUTPUT_FILENAME)"
   ]
  },
  {
   "cell_type": "code",
   "execution_count": 9,
   "id": "3ab0c0b8-f340-4cb4-a236-6523cf0aa995",
   "metadata": {
    "execution": {
     "iopub.execute_input": "2023-09-11T12:42:47.489320Z",
     "iopub.status.busy": "2023-09-11T12:42:47.489232Z",
     "iopub.status.idle": "2023-09-11T12:42:47.491185Z",
     "shell.execute_reply": "2023-09-11T12:42:47.490897Z"
    },
    "papermill": {
     "duration": 0.003764,
     "end_time": "2023-09-11T12:42:47.491613",
     "exception": false,
     "start_time": "2023-09-11T12:42:47.487849",
     "status": "completed"
    },
    "tags": []
   },
   "outputs": [
    {
     "data": {
      "text/plain": [
       "(10630, 4)"
      ]
     },
     "execution_count": 9,
     "metadata": {},
     "output_type": "execute_result"
    }
   ],
   "source": [
    "time_results.shape"
   ]
  },
  {
   "cell_type": "code",
   "execution_count": 10,
   "id": "ffc0d8de-79a6-4ab8-8cc2-5b720392a0e6",
   "metadata": {
    "execution": {
     "iopub.execute_input": "2023-09-11T12:42:47.494496Z",
     "iopub.status.busy": "2023-09-11T12:42:47.494315Z",
     "iopub.status.idle": "2023-09-11T12:42:47.496241Z",
     "shell.execute_reply": "2023-09-11T12:42:47.496114Z"
    },
    "papermill": {
     "duration": 0.003729,
     "end_time": "2023-09-11T12:42:47.496614",
     "exception": false,
     "start_time": "2023-09-11T12:42:47.492885",
     "status": "completed"
    },
    "tags": []
   },
   "outputs": [],
   "source": [
    "def run_method(func, method_name, size):\n",
    "    n_reps = N_REPS\n",
    "    if size < 500:\n",
    "        n_reps = 1000\n",
    "\n",
    "    for r in range(n_reps):\n",
    "        d1 = np.random.rand(size)\n",
    "        d2 = np.random.rand(size)\n",
    "\n",
    "        start_time = time()\n",
    "        sim = func(d1, d2)\n",
    "        end_time = time()\n",
    "        met_time = end_time - start_time\n",
    "\n",
    "        idx = time_results.shape[0]\n",
    "        time_results.loc[idx] = [d1.shape[0], method_name, met_time, sim]"
   ]
  },
  {
   "cell_type": "markdown",
   "id": "7656ffa5-c9c3-41f5-aeb5-21bde8836e81",
   "metadata": {
    "papermill": {
     "duration": 0.001222,
     "end_time": "2023-09-11T12:42:47.499097",
     "exception": false,
     "start_time": "2023-09-11T12:42:47.497875",
     "status": "completed"
    },
    "tags": []
   },
   "source": [
    "# Run"
   ]
  },
  {
   "cell_type": "code",
   "execution_count": 11,
   "id": "3e4fac59-34a7-4b63-8aa0-e845c0a156af",
   "metadata": {
    "execution": {
     "iopub.execute_input": "2023-09-11T12:42:47.501825Z",
     "iopub.status.busy": "2023-09-11T12:42:47.501719Z",
     "iopub.status.idle": "2023-09-11T12:42:47.504178Z",
     "shell.execute_reply": "2023-09-11T12:42:47.504049Z"
    },
    "papermill": {
     "duration": 0.00423,
     "end_time": "2023-09-11T12:42:47.504560",
     "exception": false,
     "start_time": "2023-09-11T12:42:47.500330",
     "status": "completed"
    },
    "tags": []
   },
   "outputs": [
    {
     "data": {
      "text/plain": [
       "0.02047038824894002"
      ]
     },
     "execution_count": 11,
     "metadata": {},
     "output_type": "execute_result"
    }
   ],
   "source": [
    "# initialize methods\n",
    "ccc(np.random.rand(100), np.random.rand(100))"
   ]
  },
  {
   "cell_type": "code",
   "execution_count": 12,
   "id": "e3f26ab4-ec59-4e8f-b887-14abc2cc7cae",
   "metadata": {
    "execution": {
     "iopub.execute_input": "2023-09-11T12:42:47.507537Z",
     "iopub.status.busy": "2023-09-11T12:42:47.507468Z",
     "iopub.status.idle": "2023-09-11T12:48:40.584287Z",
     "shell.execute_reply": "2023-09-11T12:48:40.584048Z"
    },
    "papermill": {
     "duration": 353.080512,
     "end_time": "2023-09-11T12:48:40.586483",
     "exception": false,
     "start_time": "2023-09-11T12:42:47.505971",
     "status": "completed"
    },
    "tags": []
   },
   "outputs": [
    {
     "name": "stdout",
     "output_type": "stream",
     "text": [
      "Size: 100\n",
      "  p\n",
      "  s\n",
      "  cm\n",
      "  mic_e\n",
      "  mic\n",
      "Saving to pickle\n",
      "\n",
      "\n",
      "Size: 500\n",
      "  p\n",
      "  s\n",
      "  cm\n",
      "  mic_e\n",
      "  mic\n",
      "Saving to pickle\n",
      "\n",
      "\n",
      "Size: 1000\n",
      "  p\n",
      "  s\n",
      "  cm\n",
      "  mic_e\n",
      "  mic\n",
      "Saving to pickle\n",
      "\n",
      "\n",
      "Size: 5000\n",
      "  p\n",
      "  s\n",
      "  cm\n",
      "  mic_e\n",
      "  mic\n",
      "Saving to pickle\n",
      "\n",
      "\n",
      "Size: 10000\n",
      "  p\n",
      "  s\n",
      "  cm\n",
      "  mic_e\n",
      "  mic\n",
      "Saving to pickle\n",
      "\n",
      "\n",
      "Size: 50000\n",
      "  p\n",
      "  s\n",
      "  cm\n",
      "  mic_e\n",
      "Saving to pickle\n",
      "\n",
      "\n",
      "Size: 100000\n",
      "  p\n",
      "  s\n",
      "  cm\n",
      "Saving to pickle\n",
      "\n",
      "\n",
      "Size: 1000000\n",
      "  p\n",
      "  s\n",
      "  cm\n",
      "Saving to pickle\n",
      "\n",
      "\n",
      "Size: 10000000\n",
      "  p\n",
      "  s\n",
      "  cm\n",
      "Saving to pickle\n",
      "\n",
      "\n"
     ]
    }
   ],
   "source": [
    "for s in DATA_SIZES:\n",
    "    print(f\"Size: {s}\")\n",
    "\n",
    "    print(\"  p\")\n",
    "    run_method(lambda x, y: pearsonr(x, y)[0], \"p-3\", s)\n",
    "\n",
    "    print(\"  s\")\n",
    "    run_method(lambda x, y: spearmanr(x, y)[0], \"s-3\", s)\n",
    "\n",
    "    print(\"  cm\")\n",
    "    run_method(lambda x, y: ccc(x, y, n_jobs=N_JOBS), \"cm-3\", s)\n",
    "\n",
    "    if s <= 50000:\n",
    "        print(\"  mic_e\")\n",
    "        run_method(lambda x, y: mic(x, y, estimator=\"mic_e\"), \"mic_e-3\", s)\n",
    "\n",
    "    if s <= 10000:\n",
    "        print(\"  mic\")\n",
    "        run_method(lambda x, y: mic(x, y), \"mic-3\", s)\n",
    "\n",
    "    print(\"Saving to pickle\")\n",
    "    time_results.to_pickle(OUTPUT_DIR / OUTPUT_FILENAME)\n",
    "\n",
    "    print(\"\\n\")"
   ]
  },
  {
   "cell_type": "markdown",
   "id": "2597ad7d",
   "metadata": {
    "papermill": {
     "duration": 0.002766,
     "end_time": "2023-09-11T12:48:40.595863",
     "exception": false,
     "start_time": "2023-09-11T12:48:40.593097",
     "status": "completed"
    },
    "tags": []
   },
   "source": [
    "# Summary of results"
   ]
  },
  {
   "cell_type": "code",
   "execution_count": 13,
   "id": "3846d7bb-67fe-4084-afe8-d7226fbef0f1",
   "metadata": {
    "execution": {
     "iopub.execute_input": "2023-09-11T12:48:40.599650Z",
     "iopub.status.busy": "2023-09-11T12:48:40.599583Z",
     "iopub.status.idle": "2023-09-11T12:48:40.601826Z",
     "shell.execute_reply": "2023-09-11T12:48:40.601609Z"
    },
    "papermill": {
     "duration": 0.004895,
     "end_time": "2023-09-11T12:48:40.602366",
     "exception": false,
     "start_time": "2023-09-11T12:48:40.597471",
     "status": "completed"
    },
    "tags": []
   },
   "outputs": [
    {
     "data": {
      "text/plain": [
       "(15960, 4)"
      ]
     },
     "execution_count": 13,
     "metadata": {},
     "output_type": "execute_result"
    }
   ],
   "source": [
    "time_results.shape"
   ]
  },
  {
   "cell_type": "code",
   "execution_count": 14,
   "id": "1e699725",
   "metadata": {
    "execution": {
     "iopub.execute_input": "2023-09-11T12:48:40.605896Z",
     "iopub.status.busy": "2023-09-11T12:48:40.605849Z",
     "iopub.status.idle": "2023-09-11T12:48:40.609591Z",
     "shell.execute_reply": "2023-09-11T12:48:40.609449Z"
    },
    "papermill": {
     "duration": 0.006123,
     "end_time": "2023-09-11T12:48:40.610066",
     "exception": false,
     "start_time": "2023-09-11T12:48:40.603943",
     "status": "completed"
    },
    "tags": []
   },
   "outputs": [
    {
     "data": {
      "text/html": [
       "<div>\n",
       "<style scoped>\n",
       "    .dataframe tbody tr th:only-of-type {\n",
       "        vertical-align: middle;\n",
       "    }\n",
       "\n",
       "    .dataframe tbody tr th {\n",
       "        vertical-align: top;\n",
       "    }\n",
       "\n",
       "    .dataframe thead th {\n",
       "        text-align: right;\n",
       "    }\n",
       "</style>\n",
       "<table border=\"1\" class=\"dataframe\">\n",
       "  <thead>\n",
       "    <tr style=\"text-align: right;\">\n",
       "      <th></th>\n",
       "      <th>data_size</th>\n",
       "      <th>method</th>\n",
       "      <th>time</th>\n",
       "      <th>sim</th>\n",
       "    </tr>\n",
       "  </thead>\n",
       "  <tbody>\n",
       "    <tr>\n",
       "      <th>0</th>\n",
       "      <td>100</td>\n",
       "      <td>p-1</td>\n",
       "      <td>0.000090</td>\n",
       "      <td>-0.002969</td>\n",
       "    </tr>\n",
       "    <tr>\n",
       "      <th>1</th>\n",
       "      <td>100</td>\n",
       "      <td>p-1</td>\n",
       "      <td>0.000064</td>\n",
       "      <td>0.043811</td>\n",
       "    </tr>\n",
       "    <tr>\n",
       "      <th>2</th>\n",
       "      <td>100</td>\n",
       "      <td>p-1</td>\n",
       "      <td>0.000031</td>\n",
       "      <td>0.001142</td>\n",
       "    </tr>\n",
       "    <tr>\n",
       "      <th>3</th>\n",
       "      <td>100</td>\n",
       "      <td>p-1</td>\n",
       "      <td>0.000085</td>\n",
       "      <td>0.258282</td>\n",
       "    </tr>\n",
       "    <tr>\n",
       "      <th>4</th>\n",
       "      <td>100</td>\n",
       "      <td>p-1</td>\n",
       "      <td>0.000031</td>\n",
       "      <td>0.041389</td>\n",
       "    </tr>\n",
       "  </tbody>\n",
       "</table>\n",
       "</div>"
      ],
      "text/plain": [
       "  data_size method      time       sim\n",
       "0       100    p-1  0.000090 -0.002969\n",
       "1       100    p-1  0.000064  0.043811\n",
       "2       100    p-1  0.000031  0.001142\n",
       "3       100    p-1  0.000085  0.258282\n",
       "4       100    p-1  0.000031  0.041389"
      ]
     },
     "execution_count": 14,
     "metadata": {},
     "output_type": "execute_result"
    }
   ],
   "source": [
    "time_results.head()"
   ]
  },
  {
   "cell_type": "code",
   "execution_count": null,
   "id": "9c772e87-9117-4f2e-b217-29ea33c64d12",
   "metadata": {
    "papermill": {
     "duration": 0.00157,
     "end_time": "2023-09-11T12:48:40.613333",
     "exception": false,
     "start_time": "2023-09-11T12:48:40.611763",
     "status": "completed"
    },
    "tags": []
   },
   "outputs": [],
   "source": []
  }
 ],
 "metadata": {
  "jupytext": {
   "cell_metadata_filter": "all,-execution,-papermill,-trusted",
   "notebook_metadata_filter": "-jupytext.text_representation.jupytext_version"
  },
  "kernelspec": {
   "display_name": "Python 3 (ipykernel)",
   "language": "python",
   "name": "python3"
  },
  "language_info": {
   "codemirror_mode": {
    "name": "ipython",
    "version": 3
   },
   "file_extension": ".py",
   "mimetype": "text/x-python",
   "name": "python",
   "nbconvert_exporter": "python",
   "pygments_lexer": "ipython3",
   "version": "3.9.12"
  },
  "papermill": {
   "default_parameters": {},
   "duration": 354.416187,
   "end_time": "2023-09-11T12:48:40.832374",
   "environment_variables": {},
   "exception": null,
   "input_path": "nbs/20_comparison_others/61-time_test-3_cpu_cores.ipynb",
   "output_path": "nbs/20_comparison_others/61-time_test-3_cpu_cores.run.ipynb",
   "parameters": {
    "GTEX_TISSUE": "skin_sun_exposed_lower_leg"
   },
   "start_time": "2023-09-11T12:42:46.416187",
   "version": "2.3.3"
  }
 },
 "nbformat": 4,
 "nbformat_minor": 5
}
