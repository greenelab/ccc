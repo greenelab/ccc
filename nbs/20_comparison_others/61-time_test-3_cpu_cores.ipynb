{
 "cells": [
  {
   "cell_type": "markdown",
   "id": "c1948eb4-fb63-4fad-8243-bcd57b98def3",
   "metadata": {
    "papermill": {
     "duration": 0.041882,
     "end_time": "2022-04-08T13:25:56.423373",
     "exception": false,
     "start_time": "2022-04-08T13:25:56.381491",
     "status": "completed"
    },
    "tags": []
   },
   "source": [
    "# Description"
   ]
  },
  {
   "cell_type": "markdown",
   "id": "0abb1d73-c786-4c6d-9dc2-b9243e5183e2",
   "metadata": {
    "papermill": {
     "duration": 0.01071,
     "end_time": "2022-04-08T13:25:56.449977",
     "exception": false,
     "start_time": "2022-04-08T13:25:56.439267",
     "status": "completed"
    },
    "tags": []
   },
   "source": [
    "TODO"
   ]
  },
  {
   "cell_type": "markdown",
   "id": "d6252b4c-6d56-4cf0-aecd-5d8c769a3609",
   "metadata": {
    "papermill": {
     "duration": 0.009899,
     "end_time": "2022-04-08T13:25:56.469737",
     "exception": false,
     "start_time": "2022-04-08T13:25:56.459838",
     "status": "completed"
    },
    "tags": []
   },
   "source": [
    "# Modules loading"
   ]
  },
  {
   "cell_type": "code",
   "execution_count": 1,
   "id": "ea7d30d5-da78-454a-a4ff-e6307bfdbb37",
   "metadata": {
    "execution": {
     "iopub.execute_input": "2022-04-08T13:25:56.499504Z",
     "iopub.status.busy": "2022-04-08T13:25:56.496701Z",
     "iopub.status.idle": "2022-04-08T13:25:56.504554Z",
     "shell.execute_reply": "2022-04-08T13:25:56.504050Z"
    },
    "papermill": {
     "duration": 0.024845,
     "end_time": "2022-04-08T13:25:56.504658",
     "exception": false,
     "start_time": "2022-04-08T13:25:56.479813",
     "status": "completed"
    },
    "tags": []
   },
   "outputs": [
    {
     "name": "stdout",
     "output_type": "stream",
     "text": [
      "env: CM_N_JOBS=3\n",
      "env: NUMBA_NUM_THREADS=3\n",
      "env: MKL_NUM_THREADS=3\n",
      "env: OPEN_BLAS_NUM_THREADS=3\n",
      "env: NUMEXPR_NUM_THREADS=3\n",
      "env: OMP_NUM_THREADS=3\n"
     ]
    }
   ],
   "source": [
    "%env CM_N_JOBS=3\n",
    "%env NUMBA_NUM_THREADS=3\n",
    "%env MKL_NUM_THREADS=3\n",
    "%env OPEN_BLAS_NUM_THREADS=3\n",
    "%env NUMEXPR_NUM_THREADS=3\n",
    "%env OMP_NUM_THREADS=3"
   ]
  },
  {
   "cell_type": "code",
   "execution_count": 2,
   "id": "77e9d29d-5307-4b4a-b103-7d1fbd6a7e56",
   "metadata": {
    "execution": {
     "iopub.execute_input": "2022-04-08T13:25:56.530313Z",
     "iopub.status.busy": "2022-04-08T13:25:56.529855Z",
     "iopub.status.idle": "2022-04-08T13:25:57.189238Z",
     "shell.execute_reply": "2022-04-08T13:25:57.188785Z"
    },
    "papermill": {
     "duration": 0.673571,
     "end_time": "2022-04-08T13:25:57.189335",
     "exception": false,
     "start_time": "2022-04-08T13:25:56.515764",
     "status": "completed"
    },
    "tags": []
   },
   "outputs": [],
   "source": [
    "from time import time\n",
    "\n",
    "import numpy as np\n",
    "import pandas as pd\n",
    "from scipy.stats import pearsonr, spearmanr\n",
    "\n",
    "from clustermatch import conf\n",
    "from clustermatch.coef import cm\n",
    "from clustermatch.methods import mic"
   ]
  },
  {
   "cell_type": "markdown",
   "id": "262eb535-3e5d-43d7-9efd-bd6cfdac9190",
   "metadata": {
    "papermill": {
     "duration": 0.011449,
     "end_time": "2022-04-08T13:25:57.211865",
     "exception": false,
     "start_time": "2022-04-08T13:25:57.200416",
     "status": "completed"
    },
    "tags": []
   },
   "source": [
    "# Settings"
   ]
  },
  {
   "cell_type": "code",
   "execution_count": 3,
   "id": "311cc161-c947-447e-b622-6df22ad0e03a",
   "metadata": {
    "execution": {
     "iopub.execute_input": "2022-04-08T13:25:57.236586Z",
     "iopub.status.busy": "2022-04-08T13:25:57.236138Z",
     "iopub.status.idle": "2022-04-08T13:25:57.237658Z",
     "shell.execute_reply": "2022-04-08T13:25:57.238030Z"
    },
    "papermill": {
     "duration": 0.015696,
     "end_time": "2022-04-08T13:25:57.238145",
     "exception": false,
     "start_time": "2022-04-08T13:25:57.222449",
     "status": "completed"
    },
    "tags": []
   },
   "outputs": [],
   "source": [
    "OUTPUT_FILENAME = \"time_test.pkl\""
   ]
  },
  {
   "cell_type": "code",
   "execution_count": 4,
   "id": "2d2bd14a-a40d-4710-98c2-587148d0f532",
   "metadata": {
    "execution": {
     "iopub.execute_input": "2022-04-08T13:25:57.263770Z",
     "iopub.status.busy": "2022-04-08T13:25:57.263321Z",
     "iopub.status.idle": "2022-04-08T13:25:57.265419Z",
     "shell.execute_reply": "2022-04-08T13:25:57.264975Z"
    },
    "papermill": {
     "duration": 0.016047,
     "end_time": "2022-04-08T13:25:57.265511",
     "exception": false,
     "start_time": "2022-04-08T13:25:57.249464",
     "status": "completed"
    },
    "tags": []
   },
   "outputs": [],
   "source": [
    "DATA_SIZES = [\n",
    "    100,\n",
    "    500,\n",
    "    1000,\n",
    "    5000,\n",
    "    10000,\n",
    "    50000,\n",
    "    100000,\n",
    "    1000000,\n",
    "]\n",
    "\n",
    "N_REPS = 10"
   ]
  },
  {
   "cell_type": "code",
   "execution_count": 5,
   "id": "d24607ca-2774-4e51-b392-538c85c86052",
   "metadata": {
    "execution": {
     "iopub.execute_input": "2022-04-08T13:25:57.290931Z",
     "iopub.status.busy": "2022-04-08T13:25:57.290474Z",
     "iopub.status.idle": "2022-04-08T13:25:57.292343Z",
     "shell.execute_reply": "2022-04-08T13:25:57.291980Z"
    },
    "papermill": {
     "duration": 0.015688,
     "end_time": "2022-04-08T13:25:57.292438",
     "exception": false,
     "start_time": "2022-04-08T13:25:57.276750",
     "status": "completed"
    },
    "tags": []
   },
   "outputs": [],
   "source": [
    "np.random.seed(0)"
   ]
  },
  {
   "cell_type": "markdown",
   "id": "eec9bb6d-4ba2-4817-9b36-bc8e68a2beae",
   "metadata": {
    "papermill": {
     "duration": 0.010984,
     "end_time": "2022-04-08T13:25:57.315060",
     "exception": false,
     "start_time": "2022-04-08T13:25:57.304076",
     "status": "completed"
    },
    "tags": []
   },
   "source": [
    "# Paths"
   ]
  },
  {
   "cell_type": "code",
   "execution_count": 6,
   "id": "ee9e6b70-9abd-4714-9ce5-49c270a1b0be",
   "metadata": {
    "execution": {
     "iopub.execute_input": "2022-04-08T13:25:57.345506Z",
     "iopub.status.busy": "2022-04-08T13:25:57.344969Z",
     "iopub.status.idle": "2022-04-08T13:25:57.347668Z",
     "shell.execute_reply": "2022-04-08T13:25:57.347261Z"
    },
    "papermill": {
     "duration": 0.021823,
     "end_time": "2022-04-08T13:25:57.347761",
     "exception": false,
     "start_time": "2022-04-08T13:25:57.325938",
     "status": "completed"
    },
    "tags": []
   },
   "outputs": [
    {
     "data": {
      "text/plain": [
       "PosixPath('/opt/data/results/time_test')"
      ]
     },
     "metadata": {},
     "output_type": "display_data"
    }
   ],
   "source": [
    "OUTPUT_DIR = conf.RESULTS_DIR / \"time_test\"\n",
    "OUTPUT_DIR.mkdir(parents=True, exist_ok=True)\n",
    "display(OUTPUT_DIR)"
   ]
  },
  {
   "cell_type": "markdown",
   "id": "9cb68076-f855-45c8-9843-ce2d93bdc4e7",
   "metadata": {
    "papermill": {
     "duration": 0.011217,
     "end_time": "2022-04-08T13:25:57.370935",
     "exception": false,
     "start_time": "2022-04-08T13:25:57.359718",
     "status": "completed"
    },
    "tags": []
   },
   "source": [
    "# Functions"
   ]
  },
  {
   "cell_type": "code",
   "execution_count": 7,
   "id": "e2c25ecf-0d87-4447-a9ff-a3b511629a61",
   "metadata": {
    "execution": {
     "iopub.execute_input": "2022-04-08T13:25:57.397514Z",
     "iopub.status.busy": "2022-04-08T13:25:57.397021Z",
     "iopub.status.idle": "2022-04-08T13:25:57.400044Z",
     "shell.execute_reply": "2022-04-08T13:25:57.399583Z"
    },
    "papermill": {
     "duration": 0.017763,
     "end_time": "2022-04-08T13:25:57.400139",
     "exception": false,
     "start_time": "2022-04-08T13:25:57.382376",
     "status": "completed"
    },
    "tags": []
   },
   "outputs": [],
   "source": [
    "# append to previous run\n",
    "time_results = pd.read_pickle(OUTPUT_DIR / OUTPUT_FILENAME)"
   ]
  },
  {
   "cell_type": "code",
   "execution_count": 8,
   "id": "3ab0c0b8-f340-4cb4-a236-6523cf0aa995",
   "metadata": {
    "execution": {
     "iopub.execute_input": "2022-04-08T13:25:57.427952Z",
     "iopub.status.busy": "2022-04-08T13:25:57.427462Z",
     "iopub.status.idle": "2022-04-08T13:25:57.429769Z",
     "shell.execute_reply": "2022-04-08T13:25:57.430130Z"
    },
    "papermill": {
     "duration": 0.017762,
     "end_time": "2022-04-08T13:25:57.430245",
     "exception": false,
     "start_time": "2022-04-08T13:25:57.412483",
     "status": "completed"
    },
    "tags": []
   },
   "outputs": [
    {
     "data": {
      "text/plain": [
       "(4220, 4)"
      ]
     },
     "execution_count": 8,
     "metadata": {},
     "output_type": "execute_result"
    }
   ],
   "source": [
    "time_results.shape"
   ]
  },
  {
   "cell_type": "code",
   "execution_count": 9,
   "id": "ffc0d8de-79a6-4ab8-8cc2-5b720392a0e6",
   "metadata": {
    "execution": {
     "iopub.execute_input": "2022-04-08T13:25:57.459186Z",
     "iopub.status.busy": "2022-04-08T13:25:57.458735Z",
     "iopub.status.idle": "2022-04-08T13:25:57.460214Z",
     "shell.execute_reply": "2022-04-08T13:25:57.460549Z"
    },
    "papermill": {
     "duration": 0.018134,
     "end_time": "2022-04-08T13:25:57.460663",
     "exception": false,
     "start_time": "2022-04-08T13:25:57.442529",
     "status": "completed"
    },
    "tags": []
   },
   "outputs": [],
   "source": [
    "def run_method(func, method_name, size):\n",
    "    n_reps = N_REPS\n",
    "    if size < 500:\n",
    "        n_reps = 1000\n",
    "\n",
    "    for r in range(n_reps):\n",
    "        d1 = np.random.rand(size)\n",
    "        d2 = np.random.rand(size)\n",
    "\n",
    "        start_time = time()\n",
    "        sim = func(d1, d2)\n",
    "        end_time = time()\n",
    "        met_time = end_time - start_time\n",
    "\n",
    "        idx = time_results.shape[0]\n",
    "        time_results.loc[idx] = [d1.shape[0], method_name, met_time, sim]"
   ]
  },
  {
   "cell_type": "markdown",
   "id": "7656ffa5-c9c3-41f5-aeb5-21bde8836e81",
   "metadata": {
    "papermill": {
     "duration": 0.012217,
     "end_time": "2022-04-08T13:25:57.485329",
     "exception": false,
     "start_time": "2022-04-08T13:25:57.473112",
     "status": "completed"
    },
    "tags": []
   },
   "source": [
    "# Run"
   ]
  },
  {
   "cell_type": "code",
   "execution_count": 10,
   "id": "3e4fac59-34a7-4b63-8aa0-e845c0a156af",
   "metadata": {
    "execution": {
     "iopub.execute_input": "2022-04-08T13:25:57.513102Z",
     "iopub.status.busy": "2022-04-08T13:25:57.512649Z",
     "iopub.status.idle": "2022-04-08T13:25:57.617151Z",
     "shell.execute_reply": "2022-04-08T13:25:57.616685Z"
    },
    "papermill": {
     "duration": 0.119811,
     "end_time": "2022-04-08T13:25:57.617249",
     "exception": false,
     "start_time": "2022-04-08T13:25:57.497438",
     "status": "completed"
    },
    "tags": []
   },
   "outputs": [
    {
     "data": {
      "text/plain": [
       "0.02047038824894002"
      ]
     },
     "execution_count": 10,
     "metadata": {},
     "output_type": "execute_result"
    }
   ],
   "source": [
    "# initialize methods\n",
    "cm(np.random.rand(100), np.random.rand(100))"
   ]
  },
  {
   "cell_type": "code",
   "execution_count": 11,
   "id": "e3f26ab4-ec59-4e8f-b887-14abc2cc7cae",
   "metadata": {
    "execution": {
     "iopub.execute_input": "2022-04-08T13:25:57.654317Z",
     "iopub.status.busy": "2022-04-08T13:25:57.652979Z",
     "iopub.status.idle": "2022-04-08T13:28:47.616417Z",
     "shell.execute_reply": "2022-04-08T13:28:47.616763Z"
    },
    "papermill": {
     "duration": 169.985408,
     "end_time": "2022-04-08T13:28:47.616873",
     "exception": false,
     "start_time": "2022-04-08T13:25:57.631465",
     "status": "completed"
    },
    "tags": []
   },
   "outputs": [
    {
     "name": "stdout",
     "output_type": "stream",
     "text": [
      "Size: 100\n",
      "  p\n",
      "  s\n",
      "  cm\n",
      "  mic\n",
      "Saving to pickle\n",
      "Size: 500\n",
      "  p\n",
      "  s\n",
      "  cm\n",
      "  mic\n",
      "Saving to pickle\n",
      "Size: 1000\n",
      "  p\n",
      "  s\n",
      "  cm\n",
      "  mic\n",
      "Saving to pickle\n",
      "Size: 5000\n",
      "  p\n",
      "  s\n",
      "  cm\n",
      "  mic\n",
      "Saving to pickle\n",
      "Size: 10000\n",
      "  p\n",
      "  s\n",
      "  cm\n",
      "  mic\n",
      "Saving to pickle\n",
      "Size: 100000\n",
      "  p\n",
      "  s\n",
      "  cm\n",
      "Saving to pickle\n",
      "Size: 1000000\n",
      "  p\n",
      "  s\n",
      "  cm\n",
      "Saving to pickle\n"
     ]
    }
   ],
   "source": [
    "for s in DATA_SIZES:\n",
    "    print(f\"Size: {s}\")\n",
    "\n",
    "    print(f\"  p\")\n",
    "    run_method(lambda x, y: pearsonr(x, y)[0], \"p-3\", s)\n",
    "\n",
    "    print(f\"  s\")\n",
    "    run_method(lambda x, y: spearmanr(x, y)[0], \"s-3\", s)\n",
    "\n",
    "    print(f\"  cm\")\n",
    "    run_method(lambda x, y: cm(x, y), \"cm-3\", s)\n",
    "\n",
    "    if s <= 10000:\n",
    "        print(f\"  mic\")\n",
    "        run_method(lambda x, y: mic(x, y), \"mic-3\", s)\n",
    "\n",
    "    if s <= 50000:\n",
    "        print(f\"  mic_e\")\n",
    "        run_method(lambda x, y: mic(x, y, estimator=\"mic_e\"), \"mic_e-3\", s)\n",
    "\n",
    "    print(\"Saving to pickle\")\n",
    "    time_results.to_pickle(OUTPUT_DIR / OUTPUT_FILENAME)"
   ]
  },
  {
   "cell_type": "code",
   "execution_count": 12,
   "id": "3846d7bb-67fe-4084-afe8-d7226fbef0f1",
   "metadata": {
    "execution": {
     "iopub.execute_input": "2022-04-08T13:28:47.653624Z",
     "iopub.status.busy": "2022-04-08T13:28:47.652964Z",
     "iopub.status.idle": "2022-04-08T13:28:47.656088Z",
     "shell.execute_reply": "2022-04-08T13:28:47.655639Z"
    },
    "papermill": {
     "duration": 0.022892,
     "end_time": "2022-04-08T13:28:47.656182",
     "exception": false,
     "start_time": "2022-04-08T13:28:47.633290",
     "status": "completed"
    },
    "tags": []
   },
   "outputs": [
    {
     "data": {
      "text/plain": [
       "(8440, 4)"
      ]
     },
     "execution_count": 12,
     "metadata": {},
     "output_type": "execute_result"
    }
   ],
   "source": [
    "time_results.shape"
   ]
  },
  {
   "cell_type": "code",
   "execution_count": null,
   "id": "9c772e87-9117-4f2e-b217-29ea33c64d12",
   "metadata": {
    "papermill": {
     "duration": 0.016806,
     "end_time": "2022-04-08T13:28:47.690167",
     "exception": false,
     "start_time": "2022-04-08T13:28:47.673361",
     "status": "completed"
    },
    "tags": []
   },
   "outputs": [],
   "source": []
  }
 ],
 "metadata": {
  "jupytext": {
   "cell_metadata_filter": "all,-execution,-papermill,-trusted",
   "text_representation": {
    "extension": ".py",
    "format_name": "percent",
    "format_version": "1.3",
    "jupytext_version": "1.11.5"
   }
  },
  "kernelspec": {
   "display_name": "Python 3 (ipykernel)",
   "language": "python",
   "name": "python3"
  },
  "language_info": {
   "codemirror_mode": {
    "name": "ipython",
    "version": 3
   },
   "file_extension": ".py",
   "mimetype": "text/x-python",
   "name": "python",
   "nbconvert_exporter": "python",
   "pygments_lexer": "ipython3",
   "version": "3.9.12"
  },
  "papermill": {
   "default_parameters": {},
   "duration": 172.833816,
   "end_time": "2022-04-08T13:28:48.024216",
   "environment_variables": {},
   "exception": null,
   "input_path": "nbs/20_comparison_others/61-time_test-3_cpu_cores.ipynb",
   "output_path": "nbs/20_comparison_others/61-time_test-3_cpu_cores.run.ipynb",
   "parameters": {
    "GTEX_TISSUE": "skin_sun_exposed_lower_leg"
   },
   "start_time": "2022-04-08T13:25:55.190400",
   "version": "2.3.3"
  }
 },
 "nbformat": 4,
 "nbformat_minor": 5
}
