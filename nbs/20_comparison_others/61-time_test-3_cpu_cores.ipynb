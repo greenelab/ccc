{
 "cells": [
  {
   "cell_type": "markdown",
   "id": "c1948eb4-fb63-4fad-8243-bcd57b98def3",
   "metadata": {
    "papermill": {
     "duration": 0.006002,
     "end_time": "2022-04-08T18:27:23.097291",
     "exception": false,
     "start_time": "2022-04-08T18:27:23.091289",
     "status": "completed"
    },
    "tags": []
   },
   "source": [
    "# Description"
   ]
  },
  {
   "cell_type": "markdown",
   "id": "d5775ff8-d222-4fbc-b1a9-8366662c2896",
   "metadata": {
    "papermill": {
     "duration": 0.009866,
     "end_time": "2022-04-08T18:21:04.834287",
     "exception": false,
     "start_time": "2022-04-08T18:21:04.824421",
     "status": "completed"
    },
    "tags": []
   },
   "source": [
    "It generates random variables of varying sizes to compare the time taken by CCC and MIC.\n",
    "\n",
    "This notebook uses 3 CPU core."
   ]
  },
  {
   "cell_type": "markdown",
   "id": "d6252b4c-6d56-4cf0-aecd-5d8c769a3609",
   "metadata": {
    "papermill": {
     "duration": 0.002754,
     "end_time": "2022-04-08T18:27:23.108516",
     "exception": false,
     "start_time": "2022-04-08T18:27:23.105762",
     "status": "completed"
    },
    "tags": []
   },
   "source": [
    "# Modules loading"
   ]
  },
  {
   "cell_type": "code",
   "execution_count": 1,
   "id": "ea7d30d5-da78-454a-a4ff-e6307bfdbb37",
   "metadata": {
    "execution": {
     "iopub.execute_input": "2022-04-08T18:27:23.115305Z",
     "iopub.status.busy": "2022-04-08T18:27:23.115044Z",
     "iopub.status.idle": "2022-04-08T18:27:23.126797Z",
     "shell.execute_reply": "2022-04-08T18:27:23.126402Z"
    },
    "papermill": {
     "duration": 0.01677,
     "end_time": "2022-04-08T18:27:23.128087",
     "exception": false,
     "start_time": "2022-04-08T18:27:23.111317",
     "status": "completed"
    },
    "tags": []
   },
   "outputs": [
    {
     "name": "stdout",
     "output_type": "stream",
     "text": [
      "env: CM_N_JOBS=3\n",
      "env: NUMBA_NUM_THREADS=3\n",
      "env: MKL_NUM_THREADS=3\n",
      "env: OPEN_BLAS_NUM_THREADS=3\n",
      "env: NUMEXPR_NUM_THREADS=3\n",
      "env: OMP_NUM_THREADS=3\n"
     ]
    }
   ],
   "source": [
    "%env CM_N_JOBS=3\n",
    "%env NUMBA_NUM_THREADS=3\n",
    "%env MKL_NUM_THREADS=3\n",
    "%env OPEN_BLAS_NUM_THREADS=3\n",
    "%env NUMEXPR_NUM_THREADS=3\n",
    "%env OMP_NUM_THREADS=3"
   ]
  },
  {
   "cell_type": "code",
   "execution_count": 2,
   "id": "77e9d29d-5307-4b4a-b103-7d1fbd6a7e56",
   "metadata": {
    "execution": {
     "iopub.execute_input": "2022-04-08T18:27:23.135091Z",
     "iopub.status.busy": "2022-04-08T18:27:23.134940Z",
     "iopub.status.idle": "2022-04-08T18:27:23.812962Z",
     "shell.execute_reply": "2022-04-08T18:27:23.812462Z"
    },
    "papermill": {
     "duration": 0.683292,
     "end_time": "2022-04-08T18:27:23.814575",
     "exception": false,
     "start_time": "2022-04-08T18:27:23.131283",
     "status": "completed"
    },
    "tags": []
   },
   "outputs": [],
   "source": [
    "from time import time\n",
    "\n",
    "import numpy as np\n",
    "import pandas as pd\n",
    "from scipy.stats import pearsonr, spearmanr\n",
    "\n",
    "from clustermatch import conf\n",
    "from clustermatch.coef import cm\n",
    "from clustermatch.methods import mic"
   ]
  },
  {
   "cell_type": "markdown",
   "id": "262eb535-3e5d-43d7-9efd-bd6cfdac9190",
   "metadata": {
    "papermill": {
     "duration": 0.002826,
     "end_time": "2022-04-08T18:27:23.820710",
     "exception": false,
     "start_time": "2022-04-08T18:27:23.817884",
     "status": "completed"
    },
    "tags": []
   },
   "source": [
    "# Settings"
   ]
  },
  {
   "cell_type": "code",
   "execution_count": 3,
   "id": "311cc161-c947-447e-b622-6df22ad0e03a",
   "metadata": {
    "execution": {
     "iopub.execute_input": "2022-04-08T18:27:23.828469Z",
     "iopub.status.busy": "2022-04-08T18:27:23.828244Z",
     "iopub.status.idle": "2022-04-08T18:27:23.831164Z",
     "shell.execute_reply": "2022-04-08T18:27:23.830779Z"
    },
    "papermill": {
     "duration": 0.007936,
     "end_time": "2022-04-08T18:27:23.832477",
     "exception": false,
     "start_time": "2022-04-08T18:27:23.824541",
     "status": "completed"
    },
    "tags": []
   },
   "outputs": [],
   "source": [
    "OUTPUT_FILENAME = \"time_test.pkl\""
   ]
  },
  {
   "cell_type": "code",
   "execution_count": 4,
   "id": "2d2bd14a-a40d-4710-98c2-587148d0f532",
   "metadata": {
    "execution": {
     "iopub.execute_input": "2022-04-08T18:27:23.839354Z",
     "iopub.status.busy": "2022-04-08T18:27:23.839201Z",
     "iopub.status.idle": "2022-04-08T18:27:23.842162Z",
     "shell.execute_reply": "2022-04-08T18:27:23.841770Z"
    },
    "papermill": {
     "duration": 0.007842,
     "end_time": "2022-04-08T18:27:23.843466",
     "exception": false,
     "start_time": "2022-04-08T18:27:23.835624",
     "status": "completed"
    },
    "tags": []
   },
   "outputs": [],
   "source": [
    "DATA_SIZES = [\n",
    "    100,\n",
    "    500,\n",
    "    1000,\n",
    "    5000,\n",
    "    10000,\n",
    "    50000,\n",
    "    100000,\n",
    "    1000000,\n",
    "]\n",
    "\n",
    "N_REPS = 10"
   ]
  },
  {
   "cell_type": "code",
   "execution_count": 5,
   "id": "d24607ca-2774-4e51-b392-538c85c86052",
   "metadata": {
    "execution": {
     "iopub.execute_input": "2022-04-08T18:27:23.850453Z",
     "iopub.status.busy": "2022-04-08T18:27:23.850250Z",
     "iopub.status.idle": "2022-04-08T18:27:23.853153Z",
     "shell.execute_reply": "2022-04-08T18:27:23.852703Z"
    },
    "papermill": {
     "duration": 0.007815,
     "end_time": "2022-04-08T18:27:23.854473",
     "exception": false,
     "start_time": "2022-04-08T18:27:23.846658",
     "status": "completed"
    },
    "tags": []
   },
   "outputs": [],
   "source": [
    "np.random.seed(0)"
   ]
  },
  {
   "cell_type": "markdown",
   "id": "eec9bb6d-4ba2-4817-9b36-bc8e68a2beae",
   "metadata": {
    "papermill": {
     "duration": 0.0029,
     "end_time": "2022-04-08T18:27:23.860475",
     "exception": false,
     "start_time": "2022-04-08T18:27:23.857575",
     "status": "completed"
    },
    "tags": []
   },
   "source": [
    "# Paths"
   ]
  },
  {
   "cell_type": "code",
   "execution_count": 6,
   "id": "ee9e6b70-9abd-4714-9ce5-49c270a1b0be",
   "metadata": {
    "execution": {
     "iopub.execute_input": "2022-04-08T18:27:23.867359Z",
     "iopub.status.busy": "2022-04-08T18:27:23.867202Z",
     "iopub.status.idle": "2022-04-08T18:27:23.876036Z",
     "shell.execute_reply": "2022-04-08T18:27:23.875500Z"
    },
    "papermill": {
     "duration": 0.013804,
     "end_time": "2022-04-08T18:27:23.877358",
     "exception": false,
     "start_time": "2022-04-08T18:27:23.863554",
     "status": "completed"
    },
    "tags": []
   },
   "outputs": [
    {
     "data": {
      "text/plain": [
       "PosixPath('/opt/data/results/time_test')"
      ]
     },
     "metadata": {},
     "output_type": "display_data"
    }
   ],
   "source": [
    "OUTPUT_DIR = conf.RESULTS_DIR / \"time_test\"\n",
    "OUTPUT_DIR.mkdir(parents=True, exist_ok=True)\n",
    "display(OUTPUT_DIR)"
   ]
  },
  {
   "cell_type": "markdown",
   "id": "9cb68076-f855-45c8-9843-ce2d93bdc4e7",
   "metadata": {
    "papermill": {
     "duration": 0.003051,
     "end_time": "2022-04-08T18:27:23.883717",
     "exception": false,
     "start_time": "2022-04-08T18:27:23.880666",
     "status": "completed"
    },
    "tags": []
   },
   "source": [
    "# Functions"
   ]
  },
  {
   "cell_type": "code",
   "execution_count": 7,
   "id": "e2c25ecf-0d87-4447-a9ff-a3b511629a61",
   "metadata": {
    "execution": {
     "iopub.execute_input": "2022-04-08T18:27:23.890870Z",
     "iopub.status.busy": "2022-04-08T18:27:23.890710Z",
     "iopub.status.idle": "2022-04-08T18:27:23.895188Z",
     "shell.execute_reply": "2022-04-08T18:27:23.894788Z"
    },
    "papermill": {
     "duration": 0.009508,
     "end_time": "2022-04-08T18:27:23.896451",
     "exception": false,
     "start_time": "2022-04-08T18:27:23.886943",
     "status": "completed"
    },
    "tags": []
   },
   "outputs": [],
   "source": [
    "# append to previous run\n",
    "time_results = pd.read_pickle(OUTPUT_DIR / OUTPUT_FILENAME)"
   ]
  },
  {
   "cell_type": "code",
   "execution_count": 8,
   "id": "3ab0c0b8-f340-4cb4-a236-6523cf0aa995",
   "metadata": {
    "execution": {
     "iopub.execute_input": "2022-04-08T18:27:23.903742Z",
     "iopub.status.busy": "2022-04-08T18:27:23.903583Z",
     "iopub.status.idle": "2022-04-08T18:27:23.907345Z",
     "shell.execute_reply": "2022-04-08T18:27:23.906836Z"
    },
    "papermill": {
     "duration": 0.008838,
     "end_time": "2022-04-08T18:27:23.908612",
     "exception": false,
     "start_time": "2022-04-08T18:27:23.899774",
     "status": "completed"
    },
    "tags": []
   },
   "outputs": [
    {
     "data": {
      "text/plain": [
       "(5300, 4)"
      ]
     },
     "execution_count": 8,
     "metadata": {},
     "output_type": "execute_result"
    }
   ],
   "source": [
    "time_results.shape"
   ]
  },
  {
   "cell_type": "code",
   "execution_count": 9,
   "id": "ffc0d8de-79a6-4ab8-8cc2-5b720392a0e6",
   "metadata": {
    "execution": {
     "iopub.execute_input": "2022-04-08T18:27:23.916405Z",
     "iopub.status.busy": "2022-04-08T18:27:23.915864Z",
     "iopub.status.idle": "2022-04-08T18:27:23.920384Z",
     "shell.execute_reply": "2022-04-08T18:27:23.919868Z"
    },
    "papermill": {
     "duration": 0.009695,
     "end_time": "2022-04-08T18:27:23.921678",
     "exception": false,
     "start_time": "2022-04-08T18:27:23.911983",
     "status": "completed"
    },
    "tags": []
   },
   "outputs": [],
   "source": [
    "def run_method(func, method_name, size):\n",
    "    n_reps = N_REPS\n",
    "    if size < 500:\n",
    "        n_reps = 1000\n",
    "\n",
    "    for r in range(n_reps):\n",
    "        d1 = np.random.rand(size)\n",
    "        d2 = np.random.rand(size)\n",
    "\n",
    "        start_time = time()\n",
    "        sim = func(d1, d2)\n",
    "        end_time = time()\n",
    "        met_time = end_time - start_time\n",
    "\n",
    "        idx = time_results.shape[0]\n",
    "        time_results.loc[idx] = [d1.shape[0], method_name, met_time, sim]"
   ]
  },
  {
   "cell_type": "markdown",
   "id": "7656ffa5-c9c3-41f5-aeb5-21bde8836e81",
   "metadata": {
    "papermill": {
     "duration": 0.003141,
     "end_time": "2022-04-08T18:27:23.928302",
     "exception": false,
     "start_time": "2022-04-08T18:27:23.925161",
     "status": "completed"
    },
    "tags": []
   },
   "source": [
    "# Run"
   ]
  },
  {
   "cell_type": "code",
   "execution_count": 10,
   "id": "3e4fac59-34a7-4b63-8aa0-e845c0a156af",
   "metadata": {
    "execution": {
     "iopub.execute_input": "2022-04-08T18:27:23.935599Z",
     "iopub.status.busy": "2022-04-08T18:27:23.935440Z",
     "iopub.status.idle": "2022-04-08T18:27:24.037532Z",
     "shell.execute_reply": "2022-04-08T18:27:24.037121Z"
    },
    "papermill": {
     "duration": 0.107291,
     "end_time": "2022-04-08T18:27:24.038856",
     "exception": false,
     "start_time": "2022-04-08T18:27:23.931565",
     "status": "completed"
    },
    "tags": []
   },
   "outputs": [
    {
     "data": {
      "text/plain": [
       "0.02047038824894002"
      ]
     },
     "execution_count": 10,
     "metadata": {},
     "output_type": "execute_result"
    }
   ],
   "source": [
    "# initialize methods\n",
    "cm(np.random.rand(100), np.random.rand(100))"
   ]
  },
  {
   "cell_type": "code",
   "execution_count": 11,
   "id": "e3f26ab4-ec59-4e8f-b887-14abc2cc7cae",
   "metadata": {
    "execution": {
     "iopub.execute_input": "2022-04-08T18:27:24.046523Z",
     "iopub.status.busy": "2022-04-08T18:27:24.046362Z",
     "iopub.status.idle": "2022-04-08T18:32:19.912998Z",
     "shell.execute_reply": "2022-04-08T18:32:19.912452Z"
    },
    "papermill": {
     "duration": 295.875685,
     "end_time": "2022-04-08T18:32:19.918041",
     "exception": false,
     "start_time": "2022-04-08T18:27:24.042356",
     "status": "completed"
    },
    "tags": []
   },
   "outputs": [
    {
     "name": "stdout",
     "output_type": "stream",
     "text": [
      "Size: 100\n",
      "  p\n",
      "  s\n",
      "  cm\n",
      "  mic_e\n",
      "  mic\n",
      "Saving to pickle\n",
      "Size: 500\n",
      "  p\n",
      "  s\n",
      "  cm\n",
      "  mic_e\n",
      "  mic\n",
      "Saving to pickle\n",
      "Size: 1000\n",
      "  p\n",
      "  s\n",
      "  cm\n",
      "  mic_e\n",
      "  mic\n",
      "Saving to pickle\n",
      "Size: 5000\n",
      "  p\n",
      "  s\n",
      "  cm\n",
      "  mic_e\n",
      "  mic\n",
      "Saving to pickle\n",
      "Size: 10000\n",
      "  p\n",
      "  s\n",
      "  cm\n",
      "  mic_e\n",
      "  mic\n",
      "Saving to pickle\n",
      "Size: 50000\n",
      "  p\n",
      "  s\n",
      "  cm\n",
      "  mic_e\n",
      "Saving to pickle\n",
      "Size: 100000\n",
      "  p\n",
      "  s\n",
      "  cm\n",
      "Saving to pickle\n",
      "Size: 1000000\n",
      "  p\n",
      "  s\n",
      "  cm\n",
      "Saving to pickle\n"
     ]
    }
   ],
   "source": [
    "for s in DATA_SIZES:\n",
    "    print(f\"Size: {s}\")\n",
    "\n",
    "    print(\"  p\")\n",
    "    run_method(lambda x, y: pearsonr(x, y)[0], \"p-3\", s)\n",
    "\n",
    "    print(\"  s\")\n",
    "    run_method(lambda x, y: spearmanr(x, y)[0], \"s-3\", s)\n",
    "\n",
    "    print(\"  cm\")\n",
    "    run_method(lambda x, y: cm(x, y), \"cm-3\", s)\n",
    "\n",
    "    if s <= 50000:\n",
    "        print(\"  mic_e\")\n",
    "        run_method(lambda x, y: mic(x, y, estimator=\"mic_e\"), \"mic_e-3\", s)\n",
    "\n",
    "    if s <= 10000:\n",
    "        print(\"  mic\")\n",
    "        run_method(lambda x, y: mic(x, y), \"mic-3\", s)\n",
    "\n",
    "    print(\"Saving to pickle\")\n",
    "    time_results.to_pickle(OUTPUT_DIR / OUTPUT_FILENAME)"
   ]
  },
  {
   "cell_type": "code",
   "execution_count": 12,
   "id": "3846d7bb-67fe-4084-afe8-d7226fbef0f1",
   "metadata": {
    "execution": {
     "iopub.execute_input": "2022-04-08T18:32:19.927344Z",
     "iopub.status.busy": "2022-04-08T18:32:19.927139Z",
     "iopub.status.idle": "2022-04-08T18:32:19.931046Z",
     "shell.execute_reply": "2022-04-08T18:32:19.930572Z"
    },
    "papermill": {
     "duration": 0.010008,
     "end_time": "2022-04-08T18:32:19.932317",
     "exception": false,
     "start_time": "2022-04-08T18:32:19.922309",
     "status": "completed"
    },
    "tags": []
   },
   "outputs": [
    {
     "data": {
      "text/plain": [
       "(10600, 4)"
      ]
     },
     "execution_count": 12,
     "metadata": {},
     "output_type": "execute_result"
    }
   ],
   "source": [
    "time_results.shape"
   ]
  },
  {
   "cell_type": "code",
   "execution_count": null,
   "id": "9c772e87-9117-4f2e-b217-29ea33c64d12",
   "metadata": {
    "papermill": {
     "duration": 0.004019,
     "end_time": "2022-04-08T18:32:19.940705",
     "exception": false,
     "start_time": "2022-04-08T18:32:19.936686",
     "status": "completed"
    },
    "tags": []
   },
   "outputs": [],
   "source": []
  }
 ],
 "metadata": {
  "jupytext": {
   "cell_metadata_filter": "all,-execution,-papermill,-trusted"
  },
  "kernelspec": {
   "display_name": "Python 3 (ipykernel)",
   "language": "python",
   "name": "python3"
  },
  "language_info": {
   "codemirror_mode": {
    "name": "ipython",
    "version": 3
   },
   "file_extension": ".py",
   "mimetype": "text/x-python",
   "name": "python",
   "nbconvert_exporter": "python",
   "pygments_lexer": "ipython3",
   "version": "3.9.12"
  },
  "papermill": {
   "default_parameters": {},
   "duration": 298.586762,
   "end_time": "2022-04-08T18:32:20.365164",
   "environment_variables": {},
   "exception": null,
   "input_path": "nbs/20_comparison_others/61-time_test-3_cpu_cores.ipynb",
   "output_path": "nbs/20_comparison_others/61-time_test-3_cpu_cores.run.ipynb",
   "parameters": {
    "GTEX_TISSUE": "skin_sun_exposed_lower_leg"
   },
   "start_time": "2022-04-08T18:27:21.778402",
   "version": "2.3.3"
  }
 },
 "nbformat": 4,
 "nbformat_minor": 5
}
