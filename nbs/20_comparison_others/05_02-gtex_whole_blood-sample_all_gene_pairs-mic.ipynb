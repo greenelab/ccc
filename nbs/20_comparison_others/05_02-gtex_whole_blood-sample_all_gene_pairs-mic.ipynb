{
 "cells": [
  {
   "cell_type": "markdown",
   "id": "87e0ce1b-7ce6-4499-9342-5ded05307598",
   "metadata": {
    "papermill": {
     "duration": 0.063094,
     "end_time": "2022-01-28T15:27:22.352577",
     "exception": false,
     "start_time": "2022-01-28T15:27:22.289483",
     "status": "completed"
    },
    "tags": []
   },
   "source": [
    "# Description"
   ]
  },
  {
   "cell_type": "markdown",
   "id": "4bfc7115-350a-441b-9a19-7626a948a694",
   "metadata": {
    "papermill": {
     "duration": 0.025059,
     "end_time": "2022-01-28T15:27:22.402932",
     "exception": false,
     "start_time": "2022-01-28T15:27:22.377873",
     "status": "completed"
    },
    "tags": []
   },
   "source": [
    "TODO"
   ]
  },
  {
   "cell_type": "markdown",
   "id": "e020c781-238b-43c2-8cad-2722b8a240e2",
   "metadata": {
    "papermill": {
     "duration": 0.026151,
     "end_time": "2022-01-28T15:27:22.454739",
     "exception": false,
     "start_time": "2022-01-28T15:27:22.428588",
     "status": "completed"
    },
    "tags": []
   },
   "source": [
    "# Modules"
   ]
  },
  {
   "cell_type": "code",
   "execution_count": 1,
   "id": "a819bfbc-5009-4c68-ba8d-37d0979d368f",
   "metadata": {
    "execution": {
     "iopub.execute_input": "2022-01-28T15:27:22.512473Z",
     "iopub.status.busy": "2022-01-28T15:27:22.512016Z",
     "iopub.status.idle": "2022-01-28T15:27:22.739455Z",
     "shell.execute_reply": "2022-01-28T15:27:22.739832Z"
    },
    "papermill": {
     "duration": 0.25998,
     "end_time": "2022-01-28T15:27:22.740037",
     "exception": false,
     "start_time": "2022-01-28T15:27:22.480057",
     "status": "completed"
    },
    "tags": []
   },
   "outputs": [],
   "source": [
    "from pathlib import Path\n",
    "\n",
    "import pandas as pd\n",
    "import numpy as np\n",
    "\n",
    "from clustermatch import conf"
   ]
  },
  {
   "cell_type": "markdown",
   "id": "b4834387-58ff-468c-b326-85c408bc5feb",
   "metadata": {
    "papermill": {
     "duration": 0.025492,
     "end_time": "2022-01-28T15:27:22.792293",
     "exception": false,
     "start_time": "2022-01-28T15:27:22.766801",
     "status": "completed"
    },
    "tags": []
   },
   "source": [
    "# Settings"
   ]
  },
  {
   "cell_type": "code",
   "execution_count": 2,
   "id": "765e820a-4518-4bbc-a00f-14c9cea03821",
   "metadata": {
    "execution": {
     "iopub.execute_input": "2022-01-28T15:27:22.847152Z",
     "iopub.status.busy": "2022-01-28T15:27:22.846682Z",
     "iopub.status.idle": "2022-01-28T15:27:22.850243Z",
     "shell.execute_reply": "2022-01-28T15:27:22.849840Z"
    },
    "papermill": {
     "duration": 0.032329,
     "end_time": "2022-01-28T15:27:22.850375",
     "exception": false,
     "start_time": "2022-01-28T15:27:22.818046",
     "status": "completed"
    },
    "tags": []
   },
   "outputs": [],
   "source": [
    "DATASET_CONFIG = conf.GTEX\n",
    "GTEX_TISSUE = \"whole_blood\"\n",
    "GENE_SEL_STRATEGY = \"var_pc_log2\"\n",
    "\n",
    "METHOD_NAME = \"mic\""
   ]
  },
  {
   "cell_type": "code",
   "execution_count": 3,
   "id": "ca79812d-c519-408c-bea8-9fc177e71d72",
   "metadata": {
    "execution": {
     "iopub.execute_input": "2022-01-28T15:27:22.914613Z",
     "iopub.status.busy": "2022-01-28T15:27:22.913324Z",
     "iopub.status.idle": "2022-01-28T15:27:22.916186Z",
     "shell.execute_reply": "2022-01-28T15:27:22.916551Z"
    },
    "papermill": {
     "duration": 0.033631,
     "end_time": "2022-01-28T15:27:22.916666",
     "exception": false,
     "start_time": "2022-01-28T15:27:22.883035",
     "status": "completed"
    },
    "tags": [
     "parameters"
    ]
   },
   "outputs": [],
   "source": [
    "# this cell has the \"parameters\" tag\n",
    "\n",
    "# size of gene pair groups to process in parallel\n",
    "CHUNK_SIZE = 100"
   ]
  },
  {
   "cell_type": "markdown",
   "id": "a1159982-5dd1-4494-97d4-0674eeead1c3",
   "metadata": {
    "papermill": {
     "duration": 0.025495,
     "end_time": "2022-01-28T15:27:22.968287",
     "exception": false,
     "start_time": "2022-01-28T15:27:22.942792",
     "status": "completed"
    },
    "tags": []
   },
   "source": [
    "# Paths"
   ]
  },
  {
   "cell_type": "code",
   "execution_count": 4,
   "id": "c6f73068-fa38-44be-bd0c-708f6ff450ea",
   "metadata": {
    "execution": {
     "iopub.execute_input": "2022-01-28T15:27:23.026774Z",
     "iopub.status.busy": "2022-01-28T15:27:23.026343Z",
     "iopub.status.idle": "2022-01-28T15:27:23.030525Z",
     "shell.execute_reply": "2022-01-28T15:27:23.030890Z"
    },
    "papermill": {
     "duration": 0.037557,
     "end_time": "2022-01-28T15:27:23.031033",
     "exception": false,
     "start_time": "2022-01-28T15:27:22.993476",
     "status": "completed"
    },
    "tags": []
   },
   "outputs": [
    {
     "data": {
      "text/plain": [
       "PosixPath('/opt/data/results/gtex_v8/gene_selection/gtex_v8_data_whole_blood-var_pc_log2.pkl')"
      ]
     },
     "metadata": {},
     "output_type": "display_data"
    }
   ],
   "source": [
    "INPUT_GENE_EXPR_FILE = (\n",
    "    DATASET_CONFIG[\"GENE_SELECTION_DIR\"]\n",
    "    / f\"gtex_v8_data_{GTEX_TISSUE}-{GENE_SEL_STRATEGY}.pkl\"\n",
    ")\n",
    "display(INPUT_GENE_EXPR_FILE)\n",
    "\n",
    "assert INPUT_GENE_EXPR_FILE.exists()"
   ]
  },
  {
   "cell_type": "code",
   "execution_count": 5,
   "id": "1ed73618-a3ab-4f62-8731-67c9726fd1a8",
   "metadata": {
    "execution": {
     "iopub.execute_input": "2022-01-28T15:27:23.087546Z",
     "iopub.status.busy": "2022-01-28T15:27:23.086992Z",
     "iopub.status.idle": "2022-01-28T15:27:23.089127Z",
     "shell.execute_reply": "2022-01-28T15:27:23.089481Z"
    },
    "papermill": {
     "duration": 0.032228,
     "end_time": "2022-01-28T15:27:23.089591",
     "exception": false,
     "start_time": "2022-01-28T15:27:23.057363",
     "status": "completed"
    },
    "tags": []
   },
   "outputs": [
    {
     "data": {
      "text/plain": [
       "PosixPath('/opt/data/results/gtex_v8/gene_selection/gtex_v8_data_whole_blood-var_pc_log2.pkl')"
      ]
     },
     "metadata": {},
     "output_type": "display_data"
    }
   ],
   "source": [
    "GENE_PAIRS_FILE_SUFFIX = (\n",
    "    DATASET_CONFIG[\"GENE_SELECTION_DIR\"]\n",
    "    / f\"gtex_v8_data_{GTEX_TISSUE}-{GENE_SEL_STRATEGY}.pkl\"\n",
    ")\n",
    "display(GENE_PAIRS_FILE_SUFFIX)\n",
    "\n",
    "assert GENE_PAIRS_FILE_SUFFIX.exists()"
   ]
  },
  {
   "cell_type": "code",
   "execution_count": 6,
   "id": "24757228-be05-43e0-8057-831135a5da17",
   "metadata": {
    "execution": {
     "iopub.execute_input": "2022-01-28T15:27:23.146863Z",
     "iopub.status.busy": "2022-01-28T15:27:23.146325Z",
     "iopub.status.idle": "2022-01-28T15:27:23.148416Z",
     "shell.execute_reply": "2022-01-28T15:27:23.148770Z"
    },
    "papermill": {
     "duration": 0.031972,
     "end_time": "2022-01-28T15:27:23.148882",
     "exception": false,
     "start_time": "2022-01-28T15:27:23.116910",
     "status": "completed"
    },
    "tags": []
   },
   "outputs": [
    {
     "data": {
      "text/plain": [
       "PosixPath('/opt/data/results/gtex_v8/gene_selection/samples')"
      ]
     },
     "metadata": {},
     "output_type": "display_data"
    }
   ],
   "source": [
    "INPUT_DIR = GENE_PAIRS_FILE_SUFFIX.parent / \"samples\"\n",
    "display(INPUT_DIR)"
   ]
  },
  {
   "cell_type": "code",
   "execution_count": 7,
   "id": "a088c4ad-71ac-43f3-b58a-678fefb55117",
   "metadata": {
    "execution": {
     "iopub.execute_input": "2022-01-28T15:27:23.206816Z",
     "iopub.status.busy": "2022-01-28T15:27:23.206281Z",
     "iopub.status.idle": "2022-01-28T15:27:23.210168Z",
     "shell.execute_reply": "2022-01-28T15:27:23.209718Z"
    },
    "papermill": {
     "duration": 0.034425,
     "end_time": "2022-01-28T15:27:23.210262",
     "exception": false,
     "start_time": "2022-01-28T15:27:23.175837",
     "status": "completed"
    },
    "tags": []
   },
   "outputs": [
    {
     "data": {
      "text/plain": [
       "PosixPath('/opt/data/results/gtex_v8/gene_selection/samples/gtex_v8_data_whole_blood-var_pc_log2-all-gene_pairs-sample_{sample_id}.pkl')"
      ]
     },
     "metadata": {},
     "output_type": "display_data"
    },
    {
     "data": {
      "text/plain": [
       "'/opt/data/results/gtex_v8/gene_selection/samples/gtex_v8_data_whole_blood-var_pc_log2-all-gene_pairs-sample_{sample_id}.pkl'"
      ]
     },
     "metadata": {},
     "output_type": "display_data"
    }
   ],
   "source": [
    "INPUT_GENE_PAIRS_FILE = INPUT_DIR / (\n",
    "    f\"{GENE_PAIRS_FILE_SUFFIX.stem}-all-gene_pairs-sample_\" + \"{sample_id}\" + \".pkl\"\n",
    ")\n",
    "display(INPUT_GENE_PAIRS_FILE)\n",
    "\n",
    "INPUT_GENE_PAIRS_FILE_TEMPLATE = str(INPUT_GENE_PAIRS_FILE)\n",
    "display(INPUT_GENE_PAIRS_FILE_TEMPLATE)"
   ]
  },
  {
   "cell_type": "code",
   "execution_count": 8,
   "id": "7e6dbf37-ad3a-4f73-a4a7-89275d6f00bc",
   "metadata": {
    "execution": {
     "iopub.execute_input": "2022-01-28T15:27:23.270464Z",
     "iopub.status.busy": "2022-01-28T15:27:23.269815Z",
     "iopub.status.idle": "2022-01-28T15:27:23.272336Z",
     "shell.execute_reply": "2022-01-28T15:27:23.272715Z"
    },
    "papermill": {
     "duration": 0.034245,
     "end_time": "2022-01-28T15:27:23.272827",
     "exception": false,
     "start_time": "2022-01-28T15:27:23.238582",
     "status": "completed"
    },
    "tags": []
   },
   "outputs": [
    {
     "data": {
      "text/plain": [
       "PosixPath('/opt/data/results/gtex_v8/comparison_others/mic')"
      ]
     },
     "metadata": {},
     "output_type": "display_data"
    }
   ],
   "source": [
    "OUTPUT_DIR = DATASET_CONFIG[\"RESULTS_DIR\"] / \"comparison_others\" / METHOD_NAME\n",
    "OUTPUT_DIR.mkdir(parents=True, exist_ok=True)\n",
    "display(OUTPUT_DIR)"
   ]
  },
  {
   "cell_type": "code",
   "execution_count": 9,
   "id": "f4468c0e-c0ad-4bf5-b120-3f63e7afc33f",
   "metadata": {
    "execution": {
     "iopub.execute_input": "2022-01-28T15:27:23.331466Z",
     "iopub.status.busy": "2022-01-28T15:27:23.330928Z",
     "iopub.status.idle": "2022-01-28T15:27:23.334198Z",
     "shell.execute_reply": "2022-01-28T15:27:23.333752Z"
    },
    "papermill": {
     "duration": 0.034015,
     "end_time": "2022-01-28T15:27:23.334291",
     "exception": false,
     "start_time": "2022-01-28T15:27:23.300276",
     "status": "completed"
    },
    "tags": []
   },
   "outputs": [
    {
     "data": {
      "text/plain": [
       "'/opt/data/results/gtex_v8/comparison_others/mic/gtex_v8_data_whole_blood-var_pc_log2-all-gene_pairs-sample_{sample_id}-mic.pkl'"
      ]
     },
     "metadata": {},
     "output_type": "display_data"
    }
   ],
   "source": [
    "OUTPUT_FILE_TEMPLATE = str(\n",
    "    OUTPUT_DIR / (INPUT_GENE_PAIRS_FILE.name[:-4] + f\"-{METHOD_NAME}.pkl\")\n",
    ")\n",
    "\n",
    "display(OUTPUT_FILE_TEMPLATE)"
   ]
  },
  {
   "cell_type": "markdown",
   "id": "f6d3322b-c8bb-4fc2-97b6-5bb1793b1577",
   "metadata": {
    "papermill": {
     "duration": 0.027772,
     "end_time": "2022-01-28T15:27:23.390027",
     "exception": false,
     "start_time": "2022-01-28T15:27:23.362255",
     "status": "completed"
    },
    "tags": []
   },
   "source": [
    "# Data"
   ]
  },
  {
   "cell_type": "markdown",
   "id": "0aa486d7-b624-4d20-a730-a9eb224bef6a",
   "metadata": {
    "papermill": {
     "duration": 0.027762,
     "end_time": "2022-01-28T15:27:23.445525",
     "exception": false,
     "start_time": "2022-01-28T15:27:23.417763",
     "status": "completed"
    },
    "tags": []
   },
   "source": [
    "## Gene expression"
   ]
  },
  {
   "cell_type": "code",
   "execution_count": 10,
   "id": "f73ca2b7-f7ff-47bc-90b0-32e0cfdb5ea6",
   "metadata": {
    "execution": {
     "iopub.execute_input": "2022-01-28T15:27:23.505973Z",
     "iopub.status.busy": "2022-01-28T15:27:23.505517Z",
     "iopub.status.idle": "2022-01-28T15:27:23.667458Z",
     "shell.execute_reply": "2022-01-28T15:27:23.666860Z"
    },
    "papermill": {
     "duration": 0.193539,
     "end_time": "2022-01-28T15:27:23.667579",
     "exception": false,
     "start_time": "2022-01-28T15:27:23.474040",
     "status": "completed"
    },
    "tags": []
   },
   "outputs": [],
   "source": [
    "gene_expr_dict = pd.read_pickle(INPUT_GENE_EXPR_FILE).T.to_dict(orient=\"series\")"
   ]
  },
  {
   "cell_type": "code",
   "execution_count": 11,
   "id": "3cba499a-e737-4da2-9841-f9a03719b3aa",
   "metadata": {
    "execution": {
     "iopub.execute_input": "2022-01-28T15:27:23.736052Z",
     "iopub.status.busy": "2022-01-28T15:27:23.735529Z",
     "iopub.status.idle": "2022-01-28T15:27:23.737558Z",
     "shell.execute_reply": "2022-01-28T15:27:23.737894Z"
    },
    "papermill": {
     "duration": 0.034936,
     "end_time": "2022-01-28T15:27:23.738010",
     "exception": false,
     "start_time": "2022-01-28T15:27:23.703074",
     "status": "completed"
    },
    "tags": []
   },
   "outputs": [
    {
     "data": {
      "text/plain": [
       "5000"
      ]
     },
     "execution_count": 11,
     "metadata": {},
     "output_type": "execute_result"
    }
   ],
   "source": [
    "len(gene_expr_dict)"
   ]
  },
  {
   "cell_type": "code",
   "execution_count": 12,
   "id": "df66fe70-9fe9-4351-9d30-f8dcc97725de",
   "metadata": {
    "execution": {
     "iopub.execute_input": "2022-01-28T15:27:23.800610Z",
     "iopub.status.busy": "2022-01-28T15:27:23.799958Z",
     "iopub.status.idle": "2022-01-28T15:27:23.803080Z",
     "shell.execute_reply": "2022-01-28T15:27:23.802644Z"
    },
    "papermill": {
     "duration": 0.036717,
     "end_time": "2022-01-28T15:27:23.803173",
     "exception": false,
     "start_time": "2022-01-28T15:27:23.766456",
     "status": "completed"
    },
    "tags": []
   },
   "outputs": [
    {
     "data": {
      "text/plain": [
       "GTEX-111YS-0006-SM-5NQBE       0.5623\n",
       "GTEX-1122O-0005-SM-5O99J       0.8067\n",
       "GTEX-1128S-0005-SM-5P9HI     116.9000\n",
       "GTEX-113IC-0006-SM-5NQ9C       4.0470\n",
       "GTEX-113JC-0006-SM-5O997     211.0000\n",
       "                              ...    \n",
       "GTEX-ZVTK-0006-SM-57WBK     1626.0000\n",
       "GTEX-ZVZP-0006-SM-51MSW        0.5633\n",
       "GTEX-ZVZQ-0006-SM-51MR8      515.7000\n",
       "GTEX-ZXES-0005-SM-57WCB        1.1940\n",
       "GTEX-ZXG5-0005-SM-57WCN     1163.0000\n",
       "Name: ENSG00000169429.10, Length: 755, dtype: float64"
      ]
     },
     "execution_count": 12,
     "metadata": {},
     "output_type": "execute_result"
    }
   ],
   "source": [
    "gene_expr_dict[list(gene_expr_dict.keys())[0]]"
   ]
  },
  {
   "cell_type": "markdown",
   "id": "b030f506-2fe9-4895-a8a1-51374e88c496",
   "metadata": {
    "papermill": {
     "duration": 0.029687,
     "end_time": "2022-01-28T15:27:23.861728",
     "exception": false,
     "start_time": "2022-01-28T15:27:23.832041",
     "status": "completed"
    },
    "tags": []
   },
   "source": [
    "## Gene pairs intersection"
   ]
  },
  {
   "cell_type": "code",
   "execution_count": 13,
   "id": "da1d768a-fbfb-40e8-8fbb-790d1a94aa83",
   "metadata": {
    "execution": {
     "iopub.execute_input": "2022-01-28T15:27:23.929374Z",
     "iopub.status.busy": "2022-01-28T15:27:23.928919Z",
     "iopub.status.idle": "2022-01-28T15:27:23.930355Z",
     "shell.execute_reply": "2022-01-28T15:27:23.930706Z"
    },
    "papermill": {
     "duration": 0.034717,
     "end_time": "2022-01-28T15:27:23.930817",
     "exception": false,
     "start_time": "2022-01-28T15:27:23.896100",
     "status": "completed"
    },
    "tags": []
   },
   "outputs": [],
   "source": [
    "# intersections = pd.read_pickle(INPUT_GENE_PAIRS_INTERSECTIONS_FILE)"
   ]
  },
  {
   "cell_type": "code",
   "execution_count": 14,
   "id": "6123d474-0c0d-4771-9678-248ce89424ce",
   "metadata": {
    "execution": {
     "iopub.execute_input": "2022-01-28T15:27:23.990787Z",
     "iopub.status.busy": "2022-01-28T15:27:23.990318Z",
     "iopub.status.idle": "2022-01-28T15:27:23.992429Z",
     "shell.execute_reply": "2022-01-28T15:27:23.992009Z"
    },
    "papermill": {
     "duration": 0.033151,
     "end_time": "2022-01-28T15:27:23.992517",
     "exception": false,
     "start_time": "2022-01-28T15:27:23.959366",
     "status": "completed"
    },
    "tags": []
   },
   "outputs": [],
   "source": [
    "# len(intersections)"
   ]
  },
  {
   "cell_type": "code",
   "execution_count": 15,
   "id": "1b817194-a9c3-4f53-8d0f-1ee8faa36bfe",
   "metadata": {
    "execution": {
     "iopub.execute_input": "2022-01-28T15:27:24.052077Z",
     "iopub.status.busy": "2022-01-28T15:27:24.051563Z",
     "iopub.status.idle": "2022-01-28T15:27:24.053751Z",
     "shell.execute_reply": "2022-01-28T15:27:24.053344Z"
    },
    "papermill": {
     "duration": 0.032986,
     "end_time": "2022-01-28T15:27:24.053844",
     "exception": false,
     "start_time": "2022-01-28T15:27:24.020858",
     "status": "completed"
    },
    "tags": []
   },
   "outputs": [],
   "source": [
    "# intersections[\"Clustermatch (high), Pearson (high), Spearman (high)\"]"
   ]
  },
  {
   "cell_type": "markdown",
   "id": "9e1b78f3-8f43-411a-acb7-4646b4979034",
   "metadata": {
    "papermill": {
     "duration": 0.028014,
     "end_time": "2022-01-28T15:27:24.110924",
     "exception": false,
     "start_time": "2022-01-28T15:27:24.082910",
     "status": "completed"
    },
    "tags": []
   },
   "source": [
    "# Compute Maximal Information Coefficient (MIC)"
   ]
  },
  {
   "cell_type": "markdown",
   "id": "f31225f0-ce8b-48aa-97a6-d69afcb8732a",
   "metadata": {
    "papermill": {
     "duration": 0.028379,
     "end_time": "2022-01-28T15:27:24.167958",
     "exception": false,
     "start_time": "2022-01-28T15:27:24.139579",
     "status": "completed"
    },
    "tags": []
   },
   "source": [
    "## Functions"
   ]
  },
  {
   "cell_type": "code",
   "execution_count": 16,
   "id": "1851477c-1c94-456d-949b-012b8984a434",
   "metadata": {
    "execution": {
     "iopub.execute_input": "2022-01-28T15:27:24.228970Z",
     "iopub.status.busy": "2022-01-28T15:27:24.228506Z",
     "iopub.status.idle": "2022-01-28T15:27:24.450079Z",
     "shell.execute_reply": "2022-01-28T15:27:24.449629Z"
    },
    "papermill": {
     "duration": 0.253377,
     "end_time": "2022-01-28T15:27:24.450176",
     "exception": false,
     "start_time": "2022-01-28T15:27:24.196799",
     "status": "completed"
    },
    "tags": []
   },
   "outputs": [],
   "source": [
    "import warnings\n",
    "from sklearn.metrics import pairwise_distances\n",
    "from minepy.mine import MINE"
   ]
  },
  {
   "cell_type": "code",
   "execution_count": 17,
   "id": "0adf1172-acc5-4c35-a3ab-aed6de9770c4",
   "metadata": {
    "execution": {
     "iopub.execute_input": "2022-01-28T15:27:24.511483Z",
     "iopub.status.busy": "2022-01-28T15:27:24.511027Z",
     "iopub.status.idle": "2022-01-28T15:27:24.512888Z",
     "shell.execute_reply": "2022-01-28T15:27:24.512524Z"
    },
    "papermill": {
     "duration": 0.03409,
     "end_time": "2022-01-28T15:27:24.512985",
     "exception": false,
     "start_time": "2022-01-28T15:27:24.478895",
     "status": "completed"
    },
    "tags": []
   },
   "outputs": [],
   "source": [
    "def _mic(x, y):\n",
    "    \"\"\"\n",
    "    FIXME: move to library\n",
    "    \"\"\"\n",
    "    with warnings.catch_warnings():\n",
    "        warnings.filterwarnings(\"ignore\", category=DeprecationWarning)\n",
    "\n",
    "        mine = MINE(alpha=0.6, c=15, est=\"mic_approx\")\n",
    "        mine.compute_score(x, y)\n",
    "        return mine.mic()"
   ]
  },
  {
   "cell_type": "code",
   "execution_count": 18,
   "id": "cd837842-665d-4214-affe-af9c951bd154",
   "metadata": {
    "execution": {
     "iopub.execute_input": "2022-01-28T15:27:24.574985Z",
     "iopub.status.busy": "2022-01-28T15:27:24.574356Z",
     "iopub.status.idle": "2022-01-28T15:27:24.576758Z",
     "shell.execute_reply": "2022-01-28T15:27:24.577117Z"
    },
    "papermill": {
     "duration": 0.0347,
     "end_time": "2022-01-28T15:27:24.577232",
     "exception": false,
     "start_time": "2022-01-28T15:27:24.542532",
     "status": "completed"
    },
    "tags": []
   },
   "outputs": [
    {
     "data": {
      "text/plain": [
       "0.2364527976600289"
      ]
     },
     "execution_count": 18,
     "metadata": {},
     "output_type": "execute_result"
    }
   ],
   "source": [
    "_mic(np.random.rand(10), np.random.rand(10))"
   ]
  },
  {
   "cell_type": "markdown",
   "id": "b9a14ad1-ffd2-4b16-98b2-658634dccd21",
   "metadata": {
    "papermill": {
     "duration": 0.028619,
     "end_time": "2022-01-28T15:27:24.634870",
     "exception": false,
     "start_time": "2022-01-28T15:27:24.606251",
     "status": "completed"
    },
    "tags": []
   },
   "source": [
    "## Get all sample files"
   ]
  },
  {
   "cell_type": "code",
   "execution_count": 19,
   "id": "022f616c-3dd2-47f8-9360-286d1dc08bab",
   "metadata": {
    "execution": {
     "iopub.execute_input": "2022-01-28T15:27:24.696957Z",
     "iopub.status.busy": "2022-01-28T15:27:24.696364Z",
     "iopub.status.idle": "2022-01-28T15:27:24.698766Z",
     "shell.execute_reply": "2022-01-28T15:27:24.699130Z"
    },
    "papermill": {
     "duration": 0.035384,
     "end_time": "2022-01-28T15:27:24.699246",
     "exception": false,
     "start_time": "2022-01-28T15:27:24.663862",
     "status": "completed"
    },
    "tags": []
   },
   "outputs": [
    {
     "data": {
      "text/plain": [
       "PosixPath('/opt/data/results/gtex_v8/gene_selection/samples/gtex_v8_data_whole_blood-var_pc_log2-all-gene_pairs-sample_0.pkl')"
      ]
     },
     "metadata": {},
     "output_type": "display_data"
    }
   ],
   "source": [
    "all_sample_files = []\n",
    "\n",
    "sample_id = 0\n",
    "sample_file = Path(INPUT_GENE_PAIRS_FILE_TEMPLATE.format(sample_id=sample_id))\n",
    "display(sample_file)\n",
    "\n",
    "while sample_file.exists():\n",
    "    all_sample_files.append((sample_id, sample_file))\n",
    "\n",
    "    sample_id += 1\n",
    "    sample_file = Path(INPUT_GENE_PAIRS_FILE_TEMPLATE.format(sample_id=sample_id))"
   ]
  },
  {
   "cell_type": "code",
   "execution_count": 20,
   "id": "f0af34fd-19ac-4d74-a3e4-399f70c049ac",
   "metadata": {
    "execution": {
     "iopub.execute_input": "2022-01-28T15:27:24.760873Z",
     "iopub.status.busy": "2022-01-28T15:27:24.760421Z",
     "iopub.status.idle": "2022-01-28T15:27:24.762106Z",
     "shell.execute_reply": "2022-01-28T15:27:24.762475Z"
    },
    "papermill": {
     "duration": 0.033505,
     "end_time": "2022-01-28T15:27:24.762590",
     "exception": false,
     "start_time": "2022-01-28T15:27:24.729085",
     "status": "completed"
    },
    "tags": []
   },
   "outputs": [],
   "source": [
    "# all_sample_files = sorted(\n",
    "#     list(\n",
    "#         INPUT_GENE_PAIRS_FILE.parent.glob(INPUT_GENE_PAIRS_FILE.name.format(sample_id=\"*\"))\n",
    "#     )\n",
    "# )"
   ]
  },
  {
   "cell_type": "code",
   "execution_count": 21,
   "id": "4f169abf-2009-482c-9df3-b502c4f56641",
   "metadata": {
    "execution": {
     "iopub.execute_input": "2022-01-28T15:27:24.824496Z",
     "iopub.status.busy": "2022-01-28T15:27:24.823859Z",
     "iopub.status.idle": "2022-01-28T15:27:24.826909Z",
     "shell.execute_reply": "2022-01-28T15:27:24.826462Z"
    },
    "papermill": {
     "duration": 0.035316,
     "end_time": "2022-01-28T15:27:24.827002",
     "exception": false,
     "start_time": "2022-01-28T15:27:24.791686",
     "status": "completed"
    },
    "tags": []
   },
   "outputs": [
    {
     "data": {
      "text/plain": [
       "1"
      ]
     },
     "metadata": {},
     "output_type": "display_data"
    }
   ],
   "source": [
    "display(len(all_sample_files))\n",
    "assert len(all_sample_files) > 0"
   ]
  },
  {
   "cell_type": "code",
   "execution_count": 22,
   "id": "f49ac615-436b-4abc-8f72-06f50907c70d",
   "metadata": {
    "execution": {
     "iopub.execute_input": "2022-01-28T15:27:24.896784Z",
     "iopub.status.busy": "2022-01-28T15:27:24.896274Z",
     "iopub.status.idle": "2022-01-28T15:27:24.898307Z",
     "shell.execute_reply": "2022-01-28T15:27:24.898679Z"
    },
    "papermill": {
     "duration": 0.041418,
     "end_time": "2022-01-28T15:27:24.898807",
     "exception": false,
     "start_time": "2022-01-28T15:27:24.857389",
     "status": "completed"
    },
    "tags": []
   },
   "outputs": [
    {
     "data": {
      "text/plain": [
       "[(0,\n",
       "  PosixPath('/opt/data/results/gtex_v8/gene_selection/samples/gtex_v8_data_whole_blood-var_pc_log2-all-gene_pairs-sample_0.pkl'))]"
      ]
     },
     "execution_count": 22,
     "metadata": {},
     "output_type": "execute_result"
    }
   ],
   "source": [
    "all_sample_files[:3]"
   ]
  },
  {
   "cell_type": "markdown",
   "id": "96315853-ea9d-4417-b224-31b3bbdf7553",
   "metadata": {
    "papermill": {
     "duration": 0.029311,
     "end_time": "2022-01-28T15:27:24.959860",
     "exception": false,
     "start_time": "2022-01-28T15:27:24.930549",
     "status": "completed"
    },
    "tags": []
   },
   "source": [
    "## Run"
   ]
  },
  {
   "cell_type": "code",
   "execution_count": 23,
   "id": "0f516a3e-0f64-42d3-b32d-9de6563b2df4",
   "metadata": {
    "execution": {
     "iopub.execute_input": "2022-01-28T15:27:25.022479Z",
     "iopub.status.busy": "2022-01-28T15:27:25.021995Z",
     "iopub.status.idle": "2022-01-28T15:27:25.046709Z",
     "shell.execute_reply": "2022-01-28T15:27:25.046243Z"
    },
    "papermill": {
     "duration": 0.057566,
     "end_time": "2022-01-28T15:27:25.046807",
     "exception": false,
     "start_time": "2022-01-28T15:27:24.989241",
     "status": "completed"
    },
    "tags": []
   },
   "outputs": [],
   "source": [
    "from concurrent.futures import ProcessPoolExecutor, as_completed\n",
    "from collections import defaultdict\n",
    "\n",
    "from tqdm import tqdm\n",
    "\n",
    "from clustermatch.utils import chunker"
   ]
  },
  {
   "cell_type": "code",
   "execution_count": 24,
   "id": "f2d70e9a-42df-483a-86d2-7fb59f425166",
   "metadata": {
    "execution": {
     "iopub.execute_input": "2022-01-28T15:27:25.110284Z",
     "iopub.status.busy": "2022-01-28T15:27:25.109814Z",
     "iopub.status.idle": "2022-01-28T15:27:25.111502Z",
     "shell.execute_reply": "2022-01-28T15:27:25.111830Z"
    },
    "papermill": {
     "duration": 0.035108,
     "end_time": "2022-01-28T15:27:25.111951",
     "exception": false,
     "start_time": "2022-01-28T15:27:25.076843",
     "status": "completed"
    },
    "tags": []
   },
   "outputs": [],
   "source": [
    "def _compute_mic(gene_sets: list):\n",
    "    res = [\n",
    "        _mic(gene_expr_dict[gs[0]].to_numpy(), gene_expr_dict[gs[1]].to_numpy())\n",
    "        for gs in gene_sets\n",
    "    ]\n",
    "\n",
    "    return pd.Series(res, index=pd.MultiIndex.from_tuples(gene_sets))"
   ]
  },
  {
   "cell_type": "code",
   "execution_count": 25,
   "id": "3a16f0f9-9af0-49a4-a293-f51f58f46de3",
   "metadata": {
    "execution": {
     "iopub.execute_input": "2022-01-28T15:27:25.179606Z",
     "iopub.status.busy": "2022-01-28T15:27:25.179150Z",
     "iopub.status.idle": "2022-01-28T15:27:26.112592Z",
     "shell.execute_reply": "2022-01-28T15:27:26.112153Z"
    },
    "papermill": {
     "duration": 0.97092,
     "end_time": "2022-01-28T15:27:26.112685",
     "exception": false,
     "start_time": "2022-01-28T15:27:25.141765",
     "status": "completed"
    },
    "tags": []
   },
   "outputs": [
    {
     "data": {
      "text/html": [
       "<div>\n",
       "<style scoped>\n",
       "    .dataframe tbody tr th:only-of-type {\n",
       "        vertical-align: middle;\n",
       "    }\n",
       "\n",
       "    .dataframe tbody tr th {\n",
       "        vertical-align: top;\n",
       "    }\n",
       "\n",
       "    .dataframe thead th {\n",
       "        text-align: right;\n",
       "    }\n",
       "</style>\n",
       "<table border=\"1\" class=\"dataframe\">\n",
       "  <thead>\n",
       "    <tr style=\"text-align: right;\">\n",
       "      <th></th>\n",
       "      <th>gene0</th>\n",
       "      <th>gene1</th>\n",
       "    </tr>\n",
       "  </thead>\n",
       "  <tbody>\n",
       "    <tr>\n",
       "      <th>6965400</th>\n",
       "      <td>ENSG00000165030.3</td>\n",
       "      <td>ENSG00000233214.1</td>\n",
       "    </tr>\n",
       "    <tr>\n",
       "      <th>7525435</th>\n",
       "      <td>ENSG00000168906.12</td>\n",
       "      <td>ENSG00000211664.2</td>\n",
       "    </tr>\n",
       "    <tr>\n",
       "      <th>6426229</th>\n",
       "      <td>ENSG00000160310.17</td>\n",
       "      <td>ENSG00000271178.1</td>\n",
       "    </tr>\n",
       "    <tr>\n",
       "      <th>3620709</th>\n",
       "      <td>ENSG00000124193.14</td>\n",
       "      <td>ENSG00000205890.3</td>\n",
       "    </tr>\n",
       "    <tr>\n",
       "      <th>8091347</th>\n",
       "      <td>ENSG00000175063.16</td>\n",
       "      <td>ENSG00000144909.7</td>\n",
       "    </tr>\n",
       "    <tr>\n",
       "      <th>1103533</th>\n",
       "      <td>ENSG00000082512.14</td>\n",
       "      <td>ENSG00000124831.18</td>\n",
       "    </tr>\n",
       "    <tr>\n",
       "      <th>11333847</th>\n",
       "      <td>ENSG00000249790.2</td>\n",
       "      <td>ENSG00000138166.5</td>\n",
       "    </tr>\n",
       "    <tr>\n",
       "      <th>3503330</th>\n",
       "      <td>ENSG00000122643.18</td>\n",
       "      <td>ENSG00000169045.17</td>\n",
       "    </tr>\n",
       "    <tr>\n",
       "      <th>7912901</th>\n",
       "      <td>ENSG00000172845.14</td>\n",
       "      <td>ENSG00000101096.19</td>\n",
       "    </tr>\n",
       "    <tr>\n",
       "      <th>9311440</th>\n",
       "      <td>ENSG00000196504.15</td>\n",
       "      <td>ENSG00000187653.11</td>\n",
       "    </tr>\n",
       "  </tbody>\n",
       "</table>\n",
       "</div>"
      ],
      "text/plain": [
       "                       gene0               gene1\n",
       "6965400    ENSG00000165030.3   ENSG00000233214.1\n",
       "7525435   ENSG00000168906.12   ENSG00000211664.2\n",
       "6426229   ENSG00000160310.17   ENSG00000271178.1\n",
       "3620709   ENSG00000124193.14   ENSG00000205890.3\n",
       "8091347   ENSG00000175063.16   ENSG00000144909.7\n",
       "1103533   ENSG00000082512.14  ENSG00000124831.18\n",
       "11333847   ENSG00000249790.2   ENSG00000138166.5\n",
       "3503330   ENSG00000122643.18  ENSG00000169045.17\n",
       "7912901   ENSG00000172845.14  ENSG00000101096.19\n",
       "9311440   ENSG00000196504.15  ENSG00000187653.11"
      ]
     },
     "metadata": {},
     "output_type": "display_data"
    },
    {
     "data": {
      "text/plain": [
       "(10,)"
      ]
     },
     "metadata": {},
     "output_type": "display_data"
    },
    {
     "data": {
      "text/plain": [
       "ENSG00000165030.3   ENSG00000233214.1    0.203267\n",
       "ENSG00000168906.12  ENSG00000211664.2    0.138691\n",
       "ENSG00000160310.17  ENSG00000271178.1    0.148226\n",
       "ENSG00000124193.14  ENSG00000205890.3    0.186235\n",
       "ENSG00000175063.16  ENSG00000144909.7    0.157123\n",
       "dtype: float64"
      ]
     },
     "metadata": {},
     "output_type": "display_data"
    }
   ],
   "source": [
    "# testing\n",
    "# gene_set_key = \"Clustermatch (high), Pearson (high), Spearman (high)\"\n",
    "gene_set = pd.read_pickle(all_sample_files[0][1]).sample(n=10)\n",
    "display(gene_set)\n",
    "\n",
    "_res = _compute_mic(list(gene_set.itertuples(index=False)))\n",
    "display(_res.shape)\n",
    "display(_res.head())\n",
    "\n",
    "# make sure order is preserved\n",
    "assert _res.index.to_list() == list(gene_set.itertuples(index=False, name=None))"
   ]
  },
  {
   "cell_type": "code",
   "execution_count": 26,
   "id": "df927e8f-203d-41df-a5f1-25d6c9a43d53",
   "metadata": {
    "execution": {
     "iopub.execute_input": "2022-01-28T15:27:26.192023Z",
     "iopub.status.busy": "2022-01-28T15:27:26.191019Z",
     "iopub.status.idle": "2022-01-28T15:27:26.194049Z",
     "shell.execute_reply": "2022-01-28T15:27:26.193661Z"
    },
    "papermill": {
     "duration": 0.049501,
     "end_time": "2022-01-28T15:27:26.194146",
     "exception": false,
     "start_time": "2022-01-28T15:27:26.144645",
     "status": "completed"
    },
    "tags": []
   },
   "outputs": [],
   "source": [
    "all_chunks = []\n",
    "\n",
    "for (sample_id, sample_file) in all_sample_files:\n",
    "    gene_pairs_df = pd.read_pickle(sample_file)\n",
    "    gene_pairs_subset = list(gene_pairs_df.itertuples(index=False, name=None))\n",
    "\n",
    "    for chunk in list(chunker(gene_pairs_subset, CHUNK_SIZE)):\n",
    "        all_chunks.append((sample_id, chunk))"
   ]
  },
  {
   "cell_type": "code",
   "execution_count": 27,
   "id": "3ba05517-1b61-40ee-8333-17e1a2088de9",
   "metadata": {
    "execution": {
     "iopub.execute_input": "2022-01-28T15:27:26.261076Z",
     "iopub.status.busy": "2022-01-28T15:27:26.260486Z",
     "iopub.status.idle": "2022-01-28T15:27:26.262955Z",
     "shell.execute_reply": "2022-01-28T15:27:26.263316Z"
    },
    "papermill": {
     "duration": 0.036904,
     "end_time": "2022-01-28T15:27:26.263431",
     "exception": false,
     "start_time": "2022-01-28T15:27:26.226527",
     "status": "completed"
    },
    "tags": []
   },
   "outputs": [
    {
     "data": {
      "text/plain": [
       "330"
      ]
     },
     "execution_count": 27,
     "metadata": {},
     "output_type": "execute_result"
    }
   ],
   "source": [
    "len(all_chunks)"
   ]
  },
  {
   "cell_type": "code",
   "execution_count": 28,
   "id": "5b2aec09-987c-4506-87c2-5d9e8107d9ca",
   "metadata": {
    "execution": {
     "iopub.execute_input": "2022-01-28T15:27:26.333913Z",
     "iopub.status.busy": "2022-01-28T15:27:26.333464Z",
     "iopub.status.idle": "2022-01-28T15:27:26.339772Z",
     "shell.execute_reply": "2022-01-28T15:27:26.339323Z"
    },
    "papermill": {
     "duration": 0.044665,
     "end_time": "2022-01-28T15:27:26.339872",
     "exception": false,
     "start_time": "2022-01-28T15:27:26.295207",
     "status": "completed"
    },
    "tags": []
   },
   "outputs": [
    {
     "data": {
      "text/plain": [
       "[(0,\n",
       "  [('ENSG00000181192.11', 'ENSG00000144579.7'),\n",
       "   ('ENSG00000111641.11', 'ENSG00000258476.5'),\n",
       "   ('ENSG00000172081.13', 'ENSG00000130429.12'),\n",
       "   ('ENSG00000105255.10', 'ENSG00000231721.6'),\n",
       "   ('ENSG00000153310.19', 'ENSG00000241657.1'),\n",
       "   ('ENSG00000175063.16', 'ENSG00000178607.15'),\n",
       "   ('ENSG00000143401.14', 'ENSG00000159588.14'),\n",
       "   ('ENSG00000058668.14', 'ENSG00000162366.7'),\n",
       "   ('ENSG00000169967.16', 'ENSG00000205423.11'),\n",
       "   ('ENSG00000166145.14', 'ENSG00000230076.1'),\n",
       "   ('ENSG00000144040.12', 'ENSG00000224383.7'),\n",
       "   ('ENSG00000069399.14', 'ENSG00000149489.8'),\n",
       "   ('ENSG00000117697.14', 'ENSG00000120694.19'),\n",
       "   ('ENSG00000279430.1', 'ENSG00000211943.2'),\n",
       "   ('ENSG00000013563.13', 'ENSG00000211885.1'),\n",
       "   ('ENSG00000096088.16', 'ENSG00000110315.6'),\n",
       "   ('ENSG00000140443.13', 'ENSG00000122861.15'),\n",
       "   ('ENSG00000103111.14', 'ENSG00000234506.5'),\n",
       "   ('ENSG00000168297.15', 'ENSG00000169045.17'),\n",
       "   ('ENSG00000221988.12', 'ENSG00000277978.1'),\n",
       "   ('ENSG00000099308.10', 'ENSG00000051128.18'),\n",
       "   ('ENSG00000140443.13', 'ENSG00000092020.10'),\n",
       "   ('ENSG00000198886.2', 'ENSG00000136603.13'),\n",
       "   ('ENSG00000008294.20', 'ENSG00000163513.17'),\n",
       "   ('ENSG00000239961.2', 'ENSG00000160305.17'),\n",
       "   ('ENSG00000030110.12', 'ENSG00000128708.12'),\n",
       "   ('ENSG00000159314.11', 'ENSG00000160685.13'),\n",
       "   ('ENSG00000129465.15', 'ENSG00000221946.7'),\n",
       "   ('ENSG00000149311.18', 'ENSG00000139194.7'),\n",
       "   ('ENSG00000134072.10', 'ENSG00000137806.8'),\n",
       "   ('ENSG00000186088.15', 'ENSG00000184205.14'),\n",
       "   ('ENSG00000137776.16', 'ENSG00000170759.10'),\n",
       "   ('ENSG00000230701.2', 'ENSG00000212283.1'),\n",
       "   ('ENSG00000276107.1', 'ENSG00000155893.12'),\n",
       "   ('ENSG00000142512.14', 'ENSG00000008516.16'),\n",
       "   ('ENSG00000081154.11', 'ENSG00000142303.13'),\n",
       "   ('ENSG00000129968.15', 'ENSG00000070961.15'),\n",
       "   ('ENSG00000162496.8', 'ENSG00000211918.1'),\n",
       "   ('ENSG00000211924.1', 'ENSG00000198113.2'),\n",
       "   ('ENSG00000163600.12', 'ENSG00000211937.3'),\n",
       "   ('ENSG00000061273.17', 'ENSG00000167325.14'),\n",
       "   ('ENSG00000145431.10', 'ENSG00000135655.15'),\n",
       "   ('ENSG00000010310.8', 'ENSG00000115415.18'),\n",
       "   ('ENSG00000131469.12', 'ENSG00000264304.1'),\n",
       "   ('ENSG00000100319.12', 'ENSG00000272821.1'),\n",
       "   ('ENSG00000267990.1', 'ENSG00000211648.2'),\n",
       "   ('ENSG00000158856.17', 'ENSG00000186105.7'),\n",
       "   ('ENSG00000077147.14', 'ENSG00000198502.5'),\n",
       "   ('ENSG00000123338.12', 'ENSG00000138767.12'),\n",
       "   ('ENSG00000272155.1', 'ENSG00000276566.1'),\n",
       "   ('ENSG00000165030.3', 'ENSG00000275302.1'),\n",
       "   ('ENSG00000196511.14', 'ENSG00000277734.7'),\n",
       "   ('ENSG00000136541.14', 'ENSG00000123374.10'),\n",
       "   ('ENSG00000185880.12', 'ENSG00000227671.4'),\n",
       "   ('ENSG00000160318.6', 'ENSG00000280411.1'),\n",
       "   ('ENSG00000225630.1', 'ENSG00000118518.15'),\n",
       "   ('ENSG00000170852.10', 'ENSG00000133961.19'),\n",
       "   ('ENSG00000154310.16', 'ENSG00000008517.16'),\n",
       "   ('ENSG00000142937.11', 'ENSG00000132002.7'),\n",
       "   ('ENSG00000120280.5', 'ENSG00000134294.13'),\n",
       "   ('ENSG00000095564.13', 'ENSG00000261596.2'),\n",
       "   ('ENSG00000089041.16', 'ENSG00000260078.3'),\n",
       "   ('ENSG00000198771.10', 'ENSG00000225783.6'),\n",
       "   ('ENSG00000153029.14', 'ENSG00000148154.9'),\n",
       "   ('ENSG00000070495.14', 'ENSG00000081320.10'),\n",
       "   ('ENSG00000157450.15', 'ENSG00000173706.12'),\n",
       "   ('ENSG00000256269.7', 'ENSG00000183049.12'),\n",
       "   ('ENSG00000225940.5', 'ENSG00000105205.6'),\n",
       "   ('ENSG00000132703.3', 'ENSG00000137076.20'),\n",
       "   ('ENSG00000110651.11', 'ENSG00000170290.3'),\n",
       "   ('ENSG00000271178.1', 'ENSG00000232334.1'),\n",
       "   ('ENSG00000170909.13', 'ENSG00000243955.5'),\n",
       "   ('ENSG00000213339.8', 'ENSG00000136235.15'),\n",
       "   ('ENSG00000119820.10', 'ENSG00000187257.15'),\n",
       "   ('ENSG00000175573.6', 'ENSG00000125430.8'),\n",
       "   ('ENSG00000180891.12', 'ENSG00000135486.17'),\n",
       "   ('ENSG00000230795.3', 'ENSG00000131724.10'),\n",
       "   ('ENSG00000108932.11', 'ENSG00000150687.11'),\n",
       "   ('ENSG00000106327.12', 'ENSG00000133742.13'),\n",
       "   ('ENSG00000003756.16', 'ENSG00000103365.15'),\n",
       "   ('ENSG00000032219.18', 'ENSG00000162734.12'),\n",
       "   ('ENSG00000233476.3', 'ENSG00000133961.19'),\n",
       "   ('ENSG00000150347.14', 'ENSG00000184221.12'),\n",
       "   ('ENSG00000211952.3', 'ENSG00000113140.10'),\n",
       "   ('ENSG00000177469.12', 'ENSG00000119314.15'),\n",
       "   ('ENSG00000187514.16', 'ENSG00000138744.14'),\n",
       "   ('ENSG00000136877.14', 'ENSG00000173369.15'),\n",
       "   ('ENSG00000181481.13', 'ENSG00000211769.1'),\n",
       "   ('ENSG00000130511.15', 'ENSG00000111885.6'),\n",
       "   ('ENSG00000225963.7', 'ENSG00000180739.13'),\n",
       "   ('ENSG00000215301.9', 'ENSG00000106780.8'),\n",
       "   ('ENSG00000175471.19', 'ENSG00000179388.8'),\n",
       "   ('ENSG00000274425.1', 'ENSG00000143226.13'),\n",
       "   ('ENSG00000137492.7', 'ENSG00000143226.13'),\n",
       "   ('ENSG00000211699.2', 'ENSG00000174123.10'),\n",
       "   ('ENSG00000254030.1', 'ENSG00000165029.15'),\n",
       "   ('ENSG00000155827.11', 'ENSG00000127947.15'),\n",
       "   ('ENSG00000127947.15', 'ENSG00000184613.10'),\n",
       "   ('ENSG00000129749.3', 'ENSG00000151239.13'),\n",
       "   ('ENSG00000174106.2', 'ENSG00000112062.10')]),\n",
       " (0,\n",
       "  [('ENSG00000244398.1', 'ENSG00000261971.6'),\n",
       "   ('ENSG00000124496.12', 'ENSG00000118137.9'),\n",
       "   ('ENSG00000213722.8', 'ENSG00000274712.1'),\n",
       "   ('ENSG00000273899.4', 'ENSG00000211952.3'),\n",
       "   ('ENSG00000057657.15', 'ENSG00000196205.8'),\n",
       "   ('ENSG00000122390.17', 'ENSG00000165025.14'),\n",
       "   ('ENSG00000100030.14', 'ENSG00000198736.11'),\n",
       "   ('ENSG00000115902.10', 'ENSG00000138744.14'),\n",
       "   ('ENSG00000122188.12', 'ENSG00000118520.14'),\n",
       "   ('ENSG00000007312.12', 'ENSG00000204475.9'),\n",
       "   ('ENSG00000110031.12', 'ENSG00000196616.13'),\n",
       "   ('ENSG00000156587.15', 'ENSG00000086544.2'),\n",
       "   ('ENSG00000106636.7', 'ENSG00000167604.13'),\n",
       "   ('ENSG00000196396.9', 'ENSG00000196668.3'),\n",
       "   ('ENSG00000196091.13', 'ENSG00000067840.12'),\n",
       "   ('ENSG00000275385.1', 'ENSG00000136197.12'),\n",
       "   ('ENSG00000177989.13', 'ENSG00000234436.1'),\n",
       "   ('ENSG00000140398.13', 'ENSG00000117834.12'),\n",
       "   ('ENSG00000170298.15', 'ENSG00000135378.3'),\n",
       "   ('ENSG00000168925.10', 'ENSG00000147119.3'),\n",
       "   ('ENSG00000282600.2', 'ENSG00000135709.12'),\n",
       "   ('ENSG00000107771.15', 'ENSG00000160179.18'),\n",
       "   ('ENSG00000159840.15', 'ENSG00000167995.15'),\n",
       "   ('ENSG00000183696.13', 'ENSG00000104814.12'),\n",
       "   ('ENSG00000145780.7', 'ENSG00000250361.7'),\n",
       "   ('ENSG00000255518.1', 'ENSG00000215114.8'),\n",
       "   ('ENSG00000167978.16', 'ENSG00000198763.3'),\n",
       "   ('ENSG00000196396.9', 'ENSG00000167766.18'),\n",
       "   ('ENSG00000187244.10', 'ENSG00000261114.1'),\n",
       "   ('ENSG00000122545.18', 'ENSG00000139505.11'),\n",
       "   ('ENSG00000139631.18', 'ENSG00000170801.9'),\n",
       "   ('ENSG00000077152.9', 'ENSG00000204397.7'),\n",
       "   ('ENSG00000089094.18', 'ENSG00000282122.1'),\n",
       "   ('ENSG00000167978.16', 'ENSG00000196205.8'),\n",
       "   ('ENSG00000075426.11', 'ENSG00000068305.17'),\n",
       "   ('ENSG00000159840.15', 'ENSG00000142789.19'),\n",
       "   ('ENSG00000130813.17', 'ENSG00000103510.19'),\n",
       "   ('ENSG00000251301.6', 'ENSG00000248527.1'),\n",
       "   ('ENSG00000120910.14', 'ENSG00000181751.9'),\n",
       "   ('ENSG00000170873.18', 'ENSG00000169429.10'),\n",
       "   ('ENSG00000085719.12', 'ENSG00000110958.15'),\n",
       "   ('ENSG00000162639.15', 'ENSG00000100365.14'),\n",
       "   ('ENSG00000166313.18', 'ENSG00000207405.1'),\n",
       "   ('ENSG00000112576.12', 'ENSG00000125657.4'),\n",
       "   ('ENSG00000186918.13', 'ENSG00000183779.6'),\n",
       "   ('ENSG00000167703.14', 'ENSG00000125834.12'),\n",
       "   ('ENSG00000128591.15', 'ENSG00000258738.1'),\n",
       "   ('ENSG00000267547.1', 'ENSG00000166710.17'),\n",
       "   ('ENSG00000271680.1', 'ENSG00000228703.1'),\n",
       "   ('ENSG00000273899.4', 'ENSG00000211782.2'),\n",
       "   ('ENSG00000108773.10', 'ENSG00000137575.11'),\n",
       "   ('ENSG00000184014.7', 'ENSG00000117859.18'),\n",
       "   ('ENSG00000181826.9', 'ENSG00000182511.11'),\n",
       "   ('ENSG00000138463.8', 'ENSG00000267317.2'),\n",
       "   ('ENSG00000119335.16', 'ENSG00000213347.10'),\n",
       "   ('ENSG00000166741.7', 'ENSG00000148154.9'),\n",
       "   ('ENSG00000196083.9', 'ENSG00000167286.9'),\n",
       "   ('ENSG00000140564.11', 'ENSG00000111321.10'),\n",
       "   ('ENSG00000172023.7', 'ENSG00000117318.8'),\n",
       "   ('ENSG00000135404.11', 'ENSG00000140379.7'),\n",
       "   ('ENSG00000196126.11', 'ENSG00000158104.11'),\n",
       "   ('ENSG00000173868.11', 'ENSG00000099958.14'),\n",
       "   ('ENSG00000091409.14', 'ENSG00000186088.15'),\n",
       "   ('ENSG00000158201.9', 'ENSG00000170180.19'),\n",
       "   ('ENSG00000134900.11', 'ENSG00000156256.14'),\n",
       "   ('ENSG00000120686.11', 'ENSG00000211706.2'),\n",
       "   ('ENSG00000182718.16', 'ENSG00000005961.17'),\n",
       "   ('ENSG00000183891.5', 'ENSG00000144381.16'),\n",
       "   ('ENSG00000256043.2', 'ENSG00000157017.15'),\n",
       "   ('ENSG00000158825.5', 'ENSG00000119900.7'),\n",
       "   ('ENSG00000146112.11', 'ENSG00000147162.13'),\n",
       "   ('ENSG00000167615.16', 'ENSG00000178209.14'),\n",
       "   ('ENSG00000158769.17', 'ENSG00000117834.12'),\n",
       "   ('ENSG00000279320.1', 'ENSG00000111331.12'),\n",
       "   ('ENSG00000175727.13', 'ENSG00000169385.2'),\n",
       "   ('ENSG00000182774.10', 'ENSG00000136040.8'),\n",
       "   ('ENSG00000140743.7', 'ENSG00000171611.9'),\n",
       "   ('ENSG00000174437.16', 'ENSG00000230325.1'),\n",
       "   ('ENSG00000168297.15', 'ENSG00000152291.13'),\n",
       "   ('ENSG00000100580.7', 'ENSG00000225972.1'),\n",
       "   ('ENSG00000127418.14', 'ENSG00000152518.7'),\n",
       "   ('ENSG00000008083.13', 'ENSG00000224195.1'),\n",
       "   ('ENSG00000137776.16', 'ENSG00000184432.9'),\n",
       "   ('ENSG00000140406.3', 'ENSG00000163631.16'),\n",
       "   ('ENSG00000140450.8', 'ENSG00000102837.6'),\n",
       "   ('ENSG00000015285.10', 'ENSG00000148925.10'),\n",
       "   ('ENSG00000100219.16', 'ENSG00000165732.12'),\n",
       "   ('ENSG00000172939.8', 'ENSG00000091583.10'),\n",
       "   ('ENSG00000121749.15', 'ENSG00000211690.1'),\n",
       "   ('ENSG00000205045.8', 'ENSG00000273253.2'),\n",
       "   ('ENSG00000138802.11', 'ENSG00000100030.14'),\n",
       "   ('ENSG00000165175.15', 'ENSG00000012817.15'),\n",
       "   ('ENSG00000101473.16', 'ENSG00000119402.16'),\n",
       "   ('ENSG00000276317.1', 'ENSG00000282416.1'),\n",
       "   ('ENSG00000155252.13', 'ENSG00000143515.16'),\n",
       "   ('ENSG00000255163.1', 'ENSG00000161944.16'),\n",
       "   ('ENSG00000111652.9', 'ENSG00000171863.12'),\n",
       "   ('ENSG00000164674.15', 'ENSG00000088325.15'),\n",
       "   ('ENSG00000185477.4', 'ENSG00000160446.18'),\n",
       "   ('ENSG00000107281.9', 'ENSG00000196954.13')])]"
      ]
     },
     "execution_count": 28,
     "metadata": {},
     "output_type": "execute_result"
    }
   ],
   "source": [
    "all_chunks[:2]"
   ]
  },
  {
   "cell_type": "code",
   "execution_count": 29,
   "id": "2a961167-6660-47bd-8beb-4e08de26bf05",
   "metadata": {
    "execution": {
     "iopub.execute_input": "2022-01-28T15:27:26.408792Z",
     "iopub.status.busy": "2022-01-28T15:27:26.408337Z",
     "iopub.status.idle": "2022-01-28T15:44:07.673204Z",
     "shell.execute_reply": "2022-01-28T15:44:07.672694Z"
    },
    "papermill": {
     "duration": 1001.301386,
     "end_time": "2022-01-28T15:44:07.673311",
     "exception": false,
     "start_time": "2022-01-28T15:27:26.371925",
     "status": "completed"
    },
    "tags": []
   },
   "outputs": [
    {
     "name": "stderr",
     "output_type": "stream",
     "text": [
      "100%|█████████████████████████████████████████████████████████████| 330/330 [16:41<00:00,  3.03s/it]\n"
     ]
    }
   ],
   "source": [
    "all_results = defaultdict(list)\n",
    "\n",
    "with ProcessPoolExecutor(max_workers=conf.GENERAL[\"N_JOBS\"]) as executor:\n",
    "    tasks = {\n",
    "        executor.submit(_compute_mic, chunk): sample_id\n",
    "        for sample_id, chunk in all_chunks\n",
    "    }\n",
    "\n",
    "    pbar = tqdm(as_completed(tasks), total=len(all_chunks), ncols=100)\n",
    "\n",
    "    for future in pbar:\n",
    "        sample_id = tasks[future]\n",
    "        sample_file_mic = future.result()\n",
    "\n",
    "        all_results[sample_id].append(sample_file_mic)"
   ]
  },
  {
   "cell_type": "markdown",
   "id": "bd48badf-bfe2-41d1-85b8-c4d8a494b5cd",
   "metadata": {
    "papermill": {
     "duration": 0.10967,
     "end_time": "2022-01-28T15:44:07.887276",
     "exception": false,
     "start_time": "2022-01-28T15:44:07.777606",
     "status": "completed"
    },
    "tags": []
   },
   "source": [
    "# Save for each sample file"
   ]
  },
  {
   "cell_type": "code",
   "execution_count": 30,
   "id": "82b77d46-d4b5-4e02-91b9-acffb848332b",
   "metadata": {
    "execution": {
     "iopub.execute_input": "2022-01-28T15:44:08.111429Z",
     "iopub.status.busy": "2022-01-28T15:44:08.106209Z",
     "iopub.status.idle": "2022-01-28T15:44:08.400433Z",
     "shell.execute_reply": "2022-01-28T15:44:08.399802Z"
    },
    "papermill": {
     "duration": 0.409232,
     "end_time": "2022-01-28T15:44:08.400560",
     "exception": false,
     "start_time": "2022-01-28T15:44:07.991328",
     "status": "completed"
    },
    "tags": []
   },
   "outputs": [],
   "source": [
    "for sample_id in all_results.keys():\n",
    "    sample_file_all_results_df = pd.concat(all_results[sample_id]).sort_index()\n",
    "    assert not sample_file_all_results_df.isna().any()\n",
    "    sample_file_all_results_gene_pairs_set = set(sample_file_all_results_df.index)\n",
    "\n",
    "    # testing: load input gene pairs\n",
    "    sample_file_df = pd.read_pickle(\n",
    "        INPUT_GENE_PAIRS_FILE_TEMPLATE.format(sample_id=sample_id)\n",
    "    )\n",
    "    assert sample_file_df.drop_duplicates().shape[0] == sample_file_df.shape[0]\n",
    "\n",
    "    # testing: number of gene pairs are the same in input data and in results\n",
    "    assert sample_file_df.shape[0] == sample_file_all_results_df.shape[0]\n",
    "\n",
    "    # testing: make sure gene ids are the same in results as in input gene pairs\n",
    "    sample_file_gene_pairs_list = list(\n",
    "        sample_file_df.itertuples(index=False, name=None)\n",
    "    )\n",
    "    sample_file_gene_pairs_set = set(sample_file_gene_pairs_list)\n",
    "    assert len(sample_file_gene_pairs_set) == len(\n",
    "        sample_file_gene_pairs_set.intersection(sample_file_all_results_gene_pairs_set)\n",
    "    )\n",
    "\n",
    "    # save results with same order (in gene pairs) as input sample data\n",
    "    sample_file_all_results_df = sample_file_all_results_df.loc[\n",
    "        sample_file_gene_pairs_list\n",
    "    ]\n",
    "    sample_file_all_results_df.to_pickle(\n",
    "        OUTPUT_FILE_TEMPLATE.format(sample_id=sample_id)\n",
    "    )"
   ]
  },
  {
   "cell_type": "code",
   "execution_count": 31,
   "id": "9bc5931e-5cac-4f47-a46f-837e270c4ef4",
   "metadata": {
    "execution": {
     "iopub.execute_input": "2022-01-28T15:44:08.617606Z",
     "iopub.status.busy": "2022-01-28T15:44:08.617153Z",
     "iopub.status.idle": "2022-01-28T15:44:08.622111Z",
     "shell.execute_reply": "2022-01-28T15:44:08.622484Z"
    },
    "papermill": {
     "duration": 0.110498,
     "end_time": "2022-01-28T15:44:08.622603",
     "exception": false,
     "start_time": "2022-01-28T15:44:08.512105",
     "status": "completed"
    },
    "tags": []
   },
   "outputs": [
    {
     "data": {
      "text/plain": [
       "(33000,)"
      ]
     },
     "metadata": {},
     "output_type": "display_data"
    },
    {
     "data": {
      "text/plain": [
       "ENSG00000181192.11  ENSG00000144579.7     0.630906\n",
       "ENSG00000111641.11  ENSG00000258476.5     0.210311\n",
       "ENSG00000172081.13  ENSG00000130429.12    0.643822\n",
       "ENSG00000105255.10  ENSG00000231721.6     0.385814\n",
       "ENSG00000153310.19  ENSG00000241657.1     0.164555\n",
       "dtype: float64"
      ]
     },
     "metadata": {},
     "output_type": "display_data"
    }
   ],
   "source": [
    "# show how one result set looks like\n",
    "display(sample_file_all_results_df.shape)\n",
    "display(sample_file_all_results_df.head())"
   ]
  },
  {
   "cell_type": "code",
   "execution_count": null,
   "id": "86d4a81e-927e-4c3e-93d1-47df1931ad5a",
   "metadata": {
    "papermill": {
     "duration": 0.103175,
     "end_time": "2022-01-28T15:44:08.830355",
     "exception": false,
     "start_time": "2022-01-28T15:44:08.727180",
     "status": "completed"
    },
    "tags": []
   },
   "outputs": [],
   "source": []
  }
 ],
 "metadata": {
  "jupytext": {
   "cell_metadata_filter": "all,-execution,-papermill,-trusted"
  },
  "kernelspec": {
   "display_name": "Python 3 (ipykernel)",
   "language": "python",
   "name": "python3"
  },
  "language_info": {
   "codemirror_mode": {
    "name": "ipython",
    "version": 3
   },
   "file_extension": ".py",
   "mimetype": "text/x-python",
   "name": "python",
   "nbconvert_exporter": "python",
   "pygments_lexer": "ipython3",
   "version": "3.9.9"
  },
  "papermill": {
   "default_parameters": {},
   "duration": 1008.1935,
   "end_time": "2022-01-28T15:44:09.266158",
   "environment_variables": {},
   "exception": null,
   "input_path": "nbs/20_comparison_others/05_02-gtex_whole_blood-sample_all_gene_pairs-mic.ipynb",
   "output_path": "nbs/20_comparison_others/05_02-gtex_whole_blood-sample_all_gene_pairs-mic.run.ipynb",
   "parameters": {},
   "start_time": "2022-01-28T15:27:21.072658",
   "version": "2.3.4"
  },
  "toc-autonumbering": true
 },
 "nbformat": 4,
 "nbformat_minor": 5
}
