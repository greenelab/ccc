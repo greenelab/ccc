{
 "cells": [
  {
   "cell_type": "markdown",
   "id": "87e0ce1b-7ce6-4499-9342-5ded05307598",
   "metadata": {
    "papermill": {
     "duration": 0.063003,
     "end_time": "2022-01-28T19:10:59.461794",
     "exception": false,
     "start_time": "2022-01-28T19:10:59.398791",
     "status": "completed"
    },
    "tags": []
   },
   "source": [
    "# Description"
   ]
  },
  {
   "cell_type": "markdown",
   "id": "4bfc7115-350a-441b-9a19-7626a948a694",
   "metadata": {
    "papermill": {
     "duration": 0.025064,
     "end_time": "2022-01-28T19:10:59.511992",
     "exception": false,
     "start_time": "2022-01-28T19:10:59.486928",
     "status": "completed"
    },
    "tags": []
   },
   "source": [
    "Runs Maximal Information Coefficient in a sample of gene pairs."
   ]
  },
  {
   "cell_type": "markdown",
   "id": "e020c781-238b-43c2-8cad-2722b8a240e2",
   "metadata": {
    "papermill": {
     "duration": 0.025067,
     "end_time": "2022-01-28T19:10:59.562406",
     "exception": false,
     "start_time": "2022-01-28T19:10:59.537339",
     "status": "completed"
    },
    "tags": []
   },
   "source": [
    "# Modules"
   ]
  },
  {
   "cell_type": "code",
   "execution_count": 1,
   "id": "a819bfbc-5009-4c68-ba8d-37d0979d368f",
   "metadata": {
    "execution": {
     "iopub.execute_input": "2022-01-28T19:10:59.619518Z",
     "iopub.status.busy": "2022-01-28T19:10:59.619051Z",
     "iopub.status.idle": "2022-01-28T19:10:59.865044Z",
     "shell.execute_reply": "2022-01-28T19:10:59.864592Z"
    },
    "papermill": {
     "duration": 0.277583,
     "end_time": "2022-01-28T19:10:59.865158",
     "exception": false,
     "start_time": "2022-01-28T19:10:59.587575",
     "status": "completed"
    },
    "tags": []
   },
   "outputs": [],
   "source": [
    "import warnings\n",
    "from concurrent.futures import ProcessPoolExecutor, as_completed\n",
    "from collections import defaultdict\n",
    "from pathlib import Path\n",
    "\n",
    "import pandas as pd\n",
    "import numpy as np\n",
    "from sklearn.metrics import pairwise_distances\n",
    "from tqdm import tqdm\n",
    "from minepy.mine import MINE\n",
    "\n",
    "from clustermatch import conf\n",
    "from clustermatch.utils import chunker"
   ]
  },
  {
   "cell_type": "markdown",
   "id": "b4834387-58ff-468c-b326-85c408bc5feb",
   "metadata": {
    "papermill": {
     "duration": 0.025165,
     "end_time": "2022-01-28T19:10:59.916570",
     "exception": false,
     "start_time": "2022-01-28T19:10:59.891405",
     "status": "completed"
    },
    "tags": []
   },
   "source": [
    "# Settings"
   ]
  },
  {
   "cell_type": "code",
   "execution_count": 2,
   "id": "765e820a-4518-4bbc-a00f-14c9cea03821",
   "metadata": {
    "execution": {
     "iopub.execute_input": "2022-01-28T19:10:59.970673Z",
     "iopub.status.busy": "2022-01-28T19:10:59.970165Z",
     "iopub.status.idle": "2022-01-28T19:10:59.972264Z",
     "shell.execute_reply": "2022-01-28T19:10:59.971769Z"
    },
    "papermill": {
     "duration": 0.030708,
     "end_time": "2022-01-28T19:10:59.972357",
     "exception": false,
     "start_time": "2022-01-28T19:10:59.941649",
     "status": "completed"
    },
    "tags": []
   },
   "outputs": [],
   "source": [
    "DATASET_CONFIG = conf.GTEX\n",
    "GTEX_TISSUE = \"whole_blood\"\n",
    "GENE_SEL_STRATEGY = \"var_pc_log2\"\n",
    "\n",
    "METHOD_NAME = \"mic\""
   ]
  },
  {
   "cell_type": "code",
   "execution_count": 3,
   "id": "ca79812d-c519-408c-bea8-9fc177e71d72",
   "metadata": {
    "execution": {
     "iopub.execute_input": "2022-01-28T19:11:00.026553Z",
     "iopub.status.busy": "2022-01-28T19:11:00.026090Z",
     "iopub.status.idle": "2022-01-28T19:11:00.027714Z",
     "shell.execute_reply": "2022-01-28T19:11:00.028086Z"
    },
    "papermill": {
     "duration": 0.030269,
     "end_time": "2022-01-28T19:11:00.028200",
     "exception": false,
     "start_time": "2022-01-28T19:10:59.997931",
     "status": "completed"
    },
    "tags": [
     "parameters"
    ]
   },
   "outputs": [],
   "source": [
    "# this cell has the \"parameters\" tag\n",
    "\n",
    "# size of gene pair groups to process in parallel\n",
    "CHUNK_SIZE = 100"
   ]
  },
  {
   "cell_type": "markdown",
   "id": "a1159982-5dd1-4494-97d4-0674eeead1c3",
   "metadata": {
    "papermill": {
     "duration": 0.025007,
     "end_time": "2022-01-28T19:11:00.078818",
     "exception": false,
     "start_time": "2022-01-28T19:11:00.053811",
     "status": "completed"
    },
    "tags": []
   },
   "source": [
    "# Paths"
   ]
  },
  {
   "cell_type": "code",
   "execution_count": 4,
   "id": "c6f73068-fa38-44be-bd0c-708f6ff450ea",
   "metadata": {
    "execution": {
     "iopub.execute_input": "2022-01-28T19:11:00.136992Z",
     "iopub.status.busy": "2022-01-28T19:11:00.135543Z",
     "iopub.status.idle": "2022-01-28T19:11:00.140475Z",
     "shell.execute_reply": "2022-01-28T19:11:00.140097Z"
    },
    "papermill": {
     "duration": 0.036821,
     "end_time": "2022-01-28T19:11:00.140566",
     "exception": false,
     "start_time": "2022-01-28T19:11:00.103745",
     "status": "completed"
    },
    "tags": []
   },
   "outputs": [
    {
     "data": {
      "text/plain": [
       "PosixPath('/opt/data/results/gtex_v8/gene_selection/gtex_v8_data_whole_blood-var_pc_log2.pkl')"
      ]
     },
     "metadata": {},
     "output_type": "display_data"
    }
   ],
   "source": [
    "INPUT_GENE_EXPR_FILE = (\n",
    "    DATASET_CONFIG[\"GENE_SELECTION_DIR\"]\n",
    "    / f\"gtex_v8_data_{GTEX_TISSUE}-{GENE_SEL_STRATEGY}.pkl\"\n",
    ")\n",
    "display(INPUT_GENE_EXPR_FILE)\n",
    "\n",
    "assert INPUT_GENE_EXPR_FILE.exists()"
   ]
  },
  {
   "cell_type": "code",
   "execution_count": 5,
   "id": "1ed73618-a3ab-4f62-8731-67c9726fd1a8",
   "metadata": {
    "execution": {
     "iopub.execute_input": "2022-01-28T19:11:00.196546Z",
     "iopub.status.busy": "2022-01-28T19:11:00.196006Z",
     "iopub.status.idle": "2022-01-28T19:11:00.198894Z",
     "shell.execute_reply": "2022-01-28T19:11:00.198452Z"
    },
    "papermill": {
     "duration": 0.032145,
     "end_time": "2022-01-28T19:11:00.198987",
     "exception": false,
     "start_time": "2022-01-28T19:11:00.166842",
     "status": "completed"
    },
    "tags": []
   },
   "outputs": [
    {
     "data": {
      "text/plain": [
       "PosixPath('/opt/data/results/gtex_v8/gene_selection/gtex_v8_data_whole_blood-var_pc_log2.pkl')"
      ]
     },
     "metadata": {},
     "output_type": "display_data"
    }
   ],
   "source": [
    "GENE_PAIRS_FILE_SUFFIX = (\n",
    "    DATASET_CONFIG[\"GENE_SELECTION_DIR\"]\n",
    "    / f\"gtex_v8_data_{GTEX_TISSUE}-{GENE_SEL_STRATEGY}.pkl\"\n",
    ")\n",
    "display(GENE_PAIRS_FILE_SUFFIX)\n",
    "\n",
    "assert GENE_PAIRS_FILE_SUFFIX.exists()"
   ]
  },
  {
   "cell_type": "code",
   "execution_count": 6,
   "id": "24757228-be05-43e0-8057-831135a5da17",
   "metadata": {
    "execution": {
     "iopub.execute_input": "2022-01-28T19:11:00.255442Z",
     "iopub.status.busy": "2022-01-28T19:11:00.254864Z",
     "iopub.status.idle": "2022-01-28T19:11:00.257843Z",
     "shell.execute_reply": "2022-01-28T19:11:00.257403Z"
    },
    "papermill": {
     "duration": 0.032422,
     "end_time": "2022-01-28T19:11:00.257937",
     "exception": false,
     "start_time": "2022-01-28T19:11:00.225515",
     "status": "completed"
    },
    "tags": []
   },
   "outputs": [
    {
     "data": {
      "text/plain": [
       "PosixPath('/opt/data/results/gtex_v8/gene_selection/samples')"
      ]
     },
     "metadata": {},
     "output_type": "display_data"
    }
   ],
   "source": [
    "INPUT_DIR = GENE_PAIRS_FILE_SUFFIX.parent / \"samples\"\n",
    "display(INPUT_DIR)"
   ]
  },
  {
   "cell_type": "code",
   "execution_count": 7,
   "id": "a088c4ad-71ac-43f3-b58a-678fefb55117",
   "metadata": {
    "execution": {
     "iopub.execute_input": "2022-01-28T19:11:00.315828Z",
     "iopub.status.busy": "2022-01-28T19:11:00.315303Z",
     "iopub.status.idle": "2022-01-28T19:11:00.318514Z",
     "shell.execute_reply": "2022-01-28T19:11:00.318867Z"
    },
    "papermill": {
     "duration": 0.033706,
     "end_time": "2022-01-28T19:11:00.318981",
     "exception": false,
     "start_time": "2022-01-28T19:11:00.285275",
     "status": "completed"
    },
    "tags": []
   },
   "outputs": [
    {
     "data": {
      "text/plain": [
       "PosixPath('/opt/data/results/gtex_v8/gene_selection/samples/gtex_v8_data_whole_blood-var_pc_log2-all-gene_pairs-sample_{sample_id}.pkl')"
      ]
     },
     "metadata": {},
     "output_type": "display_data"
    },
    {
     "data": {
      "text/plain": [
       "'/opt/data/results/gtex_v8/gene_selection/samples/gtex_v8_data_whole_blood-var_pc_log2-all-gene_pairs-sample_{sample_id}.pkl'"
      ]
     },
     "metadata": {},
     "output_type": "display_data"
    }
   ],
   "source": [
    "INPUT_GENE_PAIRS_FILE = INPUT_DIR / (\n",
    "    f\"{GENE_PAIRS_FILE_SUFFIX.stem}-all-gene_pairs-sample_\" + \"{sample_id}\" + \".pkl\"\n",
    ")\n",
    "display(INPUT_GENE_PAIRS_FILE)\n",
    "\n",
    "INPUT_GENE_PAIRS_FILE_TEMPLATE = str(INPUT_GENE_PAIRS_FILE)\n",
    "display(INPUT_GENE_PAIRS_FILE_TEMPLATE)"
   ]
  },
  {
   "cell_type": "code",
   "execution_count": 8,
   "id": "7e6dbf37-ad3a-4f73-a4a7-89275d6f00bc",
   "metadata": {
    "execution": {
     "iopub.execute_input": "2022-01-28T19:11:00.377539Z",
     "iopub.status.busy": "2022-01-28T19:11:00.376798Z",
     "iopub.status.idle": "2022-01-28T19:11:00.380046Z",
     "shell.execute_reply": "2022-01-28T19:11:00.380420Z"
    },
    "papermill": {
     "duration": 0.034102,
     "end_time": "2022-01-28T19:11:00.380532",
     "exception": false,
     "start_time": "2022-01-28T19:11:00.346430",
     "status": "completed"
    },
    "tags": []
   },
   "outputs": [
    {
     "data": {
      "text/plain": [
       "PosixPath('/opt/data/results/gtex_v8/comparison_others/mic')"
      ]
     },
     "metadata": {},
     "output_type": "display_data"
    }
   ],
   "source": [
    "OUTPUT_DIR = DATASET_CONFIG[\"RESULTS_DIR\"] / \"comparison_others\" / METHOD_NAME\n",
    "OUTPUT_DIR.mkdir(parents=True, exist_ok=True)\n",
    "display(OUTPUT_DIR)"
   ]
  },
  {
   "cell_type": "code",
   "execution_count": 9,
   "id": "f4468c0e-c0ad-4bf5-b120-3f63e7afc33f",
   "metadata": {
    "execution": {
     "iopub.execute_input": "2022-01-28T19:11:00.439405Z",
     "iopub.status.busy": "2022-01-28T19:11:00.438718Z",
     "iopub.status.idle": "2022-01-28T19:11:00.441679Z",
     "shell.execute_reply": "2022-01-28T19:11:00.441232Z"
    },
    "papermill": {
     "duration": 0.033744,
     "end_time": "2022-01-28T19:11:00.441773",
     "exception": false,
     "start_time": "2022-01-28T19:11:00.408029",
     "status": "completed"
    },
    "tags": []
   },
   "outputs": [
    {
     "data": {
      "text/plain": [
       "'/opt/data/results/gtex_v8/comparison_others/mic/gtex_v8_data_whole_blood-var_pc_log2-all-gene_pairs-sample_{sample_id}-mic.pkl'"
      ]
     },
     "metadata": {},
     "output_type": "display_data"
    }
   ],
   "source": [
    "OUTPUT_FILE_TEMPLATE = str(\n",
    "    OUTPUT_DIR / (INPUT_GENE_PAIRS_FILE.name[:-4] + f\"-{METHOD_NAME}.pkl\")\n",
    ")\n",
    "\n",
    "display(OUTPUT_FILE_TEMPLATE)"
   ]
  },
  {
   "cell_type": "markdown",
   "id": "f6d3322b-c8bb-4fc2-97b6-5bb1793b1577",
   "metadata": {
    "papermill": {
     "duration": 0.027509,
     "end_time": "2022-01-28T19:11:00.497437",
     "exception": false,
     "start_time": "2022-01-28T19:11:00.469928",
     "status": "completed"
    },
    "tags": []
   },
   "source": [
    "# Data"
   ]
  },
  {
   "cell_type": "markdown",
   "id": "0aa486d7-b624-4d20-a730-a9eb224bef6a",
   "metadata": {
    "papermill": {
     "duration": 0.027648,
     "end_time": "2022-01-28T19:11:00.552606",
     "exception": false,
     "start_time": "2022-01-28T19:11:00.524958",
     "status": "completed"
    },
    "tags": []
   },
   "source": [
    "## Gene expression"
   ]
  },
  {
   "cell_type": "code",
   "execution_count": 10,
   "id": "f73ca2b7-f7ff-47bc-90b0-32e0cfdb5ea6",
   "metadata": {
    "execution": {
     "iopub.execute_input": "2022-01-28T19:11:00.610662Z",
     "iopub.status.busy": "2022-01-28T19:11:00.610209Z",
     "iopub.status.idle": "2022-01-28T19:11:00.778114Z",
     "shell.execute_reply": "2022-01-28T19:11:00.777516Z"
    },
    "papermill": {
     "duration": 0.198407,
     "end_time": "2022-01-28T19:11:00.778238",
     "exception": false,
     "start_time": "2022-01-28T19:11:00.579831",
     "status": "completed"
    },
    "tags": []
   },
   "outputs": [],
   "source": [
    "gene_expr_dict = pd.read_pickle(INPUT_GENE_EXPR_FILE).T.to_dict(orient=\"series\")"
   ]
  },
  {
   "cell_type": "code",
   "execution_count": 11,
   "id": "3cba499a-e737-4da2-9841-f9a03719b3aa",
   "metadata": {
    "execution": {
     "iopub.execute_input": "2022-01-28T19:11:00.846812Z",
     "iopub.status.busy": "2022-01-28T19:11:00.846185Z",
     "iopub.status.idle": "2022-01-28T19:11:00.848644Z",
     "shell.execute_reply": "2022-01-28T19:11:00.848994Z"
    },
    "papermill": {
     "duration": 0.035355,
     "end_time": "2022-01-28T19:11:00.849106",
     "exception": false,
     "start_time": "2022-01-28T19:11:00.813751",
     "status": "completed"
    },
    "tags": []
   },
   "outputs": [
    {
     "data": {
      "text/plain": [
       "5000"
      ]
     },
     "execution_count": 11,
     "metadata": {},
     "output_type": "execute_result"
    }
   ],
   "source": [
    "len(gene_expr_dict)"
   ]
  },
  {
   "cell_type": "code",
   "execution_count": 12,
   "id": "df66fe70-9fe9-4351-9d30-f8dcc97725de",
   "metadata": {
    "execution": {
     "iopub.execute_input": "2022-01-28T19:11:00.911919Z",
     "iopub.status.busy": "2022-01-28T19:11:00.911353Z",
     "iopub.status.idle": "2022-01-28T19:11:00.914297Z",
     "shell.execute_reply": "2022-01-28T19:11:00.913864Z"
    },
    "papermill": {
     "duration": 0.036463,
     "end_time": "2022-01-28T19:11:00.914391",
     "exception": false,
     "start_time": "2022-01-28T19:11:00.877928",
     "status": "completed"
    },
    "tags": []
   },
   "outputs": [
    {
     "data": {
      "text/plain": [
       "GTEX-111YS-0006-SM-5NQBE       0.5623\n",
       "GTEX-1122O-0005-SM-5O99J       0.8067\n",
       "GTEX-1128S-0005-SM-5P9HI     116.9000\n",
       "GTEX-113IC-0006-SM-5NQ9C       4.0470\n",
       "GTEX-113JC-0006-SM-5O997     211.0000\n",
       "                              ...    \n",
       "GTEX-ZVTK-0006-SM-57WBK     1626.0000\n",
       "GTEX-ZVZP-0006-SM-51MSW        0.5633\n",
       "GTEX-ZVZQ-0006-SM-51MR8      515.7000\n",
       "GTEX-ZXES-0005-SM-57WCB        1.1940\n",
       "GTEX-ZXG5-0005-SM-57WCN     1163.0000\n",
       "Name: ENSG00000169429.10, Length: 755, dtype: float64"
      ]
     },
     "execution_count": 12,
     "metadata": {},
     "output_type": "execute_result"
    }
   ],
   "source": [
    "gene_expr_dict[list(gene_expr_dict.keys())[0]]"
   ]
  },
  {
   "cell_type": "markdown",
   "id": "3a7ac5b4-6174-4778-a448-cbf9095032cb",
   "metadata": {
    "papermill": {
     "duration": 0.029731,
     "end_time": "2022-01-28T19:11:01.749497",
     "exception": false,
     "start_time": "2022-01-28T19:11:01.719766",
     "status": "completed"
    },
    "tags": []
   },
   "source": [
    "## Get all sample files"
   ]
  },
  {
   "cell_type": "code",
   "execution_count": 19,
   "id": "3b476833-9492-41d9-8852-c02559d783c6",
   "metadata": {
    "execution": {
     "iopub.execute_input": "2022-01-28T19:11:01.811340Z",
     "iopub.status.busy": "2022-01-28T19:11:01.810739Z",
     "iopub.status.idle": "2022-01-28T19:11:01.813160Z",
     "shell.execute_reply": "2022-01-28T19:11:01.813531Z"
    },
    "papermill": {
     "duration": 0.035527,
     "end_time": "2022-01-28T19:11:01.813644",
     "exception": false,
     "start_time": "2022-01-28T19:11:01.778117",
     "status": "completed"
    },
    "tags": []
   },
   "outputs": [
    {
     "data": {
      "text/plain": [
       "PosixPath('/opt/data/results/gtex_v8/gene_selection/samples/gtex_v8_data_whole_blood-var_pc_log2-all-gene_pairs-sample_0.pkl')"
      ]
     },
     "metadata": {},
     "output_type": "display_data"
    }
   ],
   "source": [
    "all_sample_files = []\n",
    "\n",
    "sample_id = 0\n",
    "sample_file = Path(INPUT_GENE_PAIRS_FILE_TEMPLATE.format(sample_id=sample_id))\n",
    "display(sample_file)\n",
    "\n",
    "while sample_file.exists():\n",
    "    all_sample_files.append((sample_id, sample_file))\n",
    "\n",
    "    sample_id += 1\n",
    "    sample_file = Path(INPUT_GENE_PAIRS_FILE_TEMPLATE.format(sample_id=sample_id))"
   ]
  },
  {
   "cell_type": "code",
   "execution_count": 21,
   "id": "c7f12e65-99ef-42df-9899-325ad6e41228",
   "metadata": {
    "execution": {
     "iopub.execute_input": "2022-01-28T19:11:01.937990Z",
     "iopub.status.busy": "2022-01-28T19:11:01.937373Z",
     "iopub.status.idle": "2022-01-28T19:11:01.939980Z",
     "shell.execute_reply": "2022-01-28T19:11:01.940328Z"
    },
    "papermill": {
     "duration": 0.034917,
     "end_time": "2022-01-28T19:11:01.940441",
     "exception": false,
     "start_time": "2022-01-28T19:11:01.905524",
     "status": "completed"
    },
    "tags": []
   },
   "outputs": [
    {
     "data": {
      "text/plain": [
       "1"
      ]
     },
     "metadata": {},
     "output_type": "display_data"
    }
   ],
   "source": [
    "display(len(all_sample_files))\n",
    "assert len(all_sample_files) > 0"
   ]
  },
  {
   "cell_type": "code",
   "execution_count": 22,
   "id": "d516e3c4-c850-409b-a866-fed1bb07bcdd",
   "metadata": {
    "execution": {
     "iopub.execute_input": "2022-01-28T19:11:02.002533Z",
     "iopub.status.busy": "2022-01-28T19:11:02.001878Z",
     "iopub.status.idle": "2022-01-28T19:11:02.004877Z",
     "shell.execute_reply": "2022-01-28T19:11:02.004443Z"
    },
    "papermill": {
     "duration": 0.035542,
     "end_time": "2022-01-28T19:11:02.004971",
     "exception": false,
     "start_time": "2022-01-28T19:11:01.969429",
     "status": "completed"
    },
    "tags": []
   },
   "outputs": [
    {
     "data": {
      "text/plain": [
       "[(0,\n",
       "  PosixPath('/opt/data/results/gtex_v8/gene_selection/samples/gtex_v8_data_whole_blood-var_pc_log2-all-gene_pairs-sample_0.pkl'))]"
      ]
     },
     "execution_count": 22,
     "metadata": {},
     "output_type": "execute_result"
    }
   ],
   "source": [
    "all_sample_files[:3]"
   ]
  },
  {
   "cell_type": "markdown",
   "id": "9e1b78f3-8f43-411a-acb7-4646b4979034",
   "metadata": {
    "papermill": {
     "duration": 0.028101,
     "end_time": "2022-01-28T19:11:01.212060",
     "exception": false,
     "start_time": "2022-01-28T19:11:01.183959",
     "status": "completed"
    },
    "tags": []
   },
   "source": [
    "# Compute Maximal Information Coefficient (MIC)"
   ]
  },
  {
   "cell_type": "markdown",
   "id": "f31225f0-ce8b-48aa-97a6-d69afcb8732a",
   "metadata": {
    "papermill": {
     "duration": 0.027768,
     "end_time": "2022-01-28T19:11:01.267876",
     "exception": false,
     "start_time": "2022-01-28T19:11:01.240108",
     "status": "completed"
    },
    "tags": []
   },
   "source": [
    "## Functions"
   ]
  },
  {
   "cell_type": "code",
   "execution_count": 17,
   "id": "0adf1172-acc5-4c35-a3ab-aed6de9770c4",
   "metadata": {
    "execution": {
     "iopub.execute_input": "2022-01-28T19:11:01.611763Z",
     "iopub.status.busy": "2022-01-28T19:11:01.611308Z",
     "iopub.status.idle": "2022-01-28T19:11:01.613348Z",
     "shell.execute_reply": "2022-01-28T19:11:01.612963Z"
    },
    "papermill": {
     "duration": 0.034453,
     "end_time": "2022-01-28T19:11:01.613443",
     "exception": false,
     "start_time": "2022-01-28T19:11:01.578990",
     "status": "completed"
    },
    "tags": []
   },
   "outputs": [],
   "source": [
    "def _mic(x, y):\n",
    "    \"\"\"\n",
    "    Given two arrays (x and y), it computes MIC with the default parameters.\n",
    "    \"\"\"\n",
    "    with warnings.catch_warnings():\n",
    "        warnings.filterwarnings(\"ignore\", category=DeprecationWarning)\n",
    "\n",
    "        mine = MINE(alpha=0.6, c=15, est=\"mic_approx\")\n",
    "        mine.compute_score(x, y)\n",
    "        return mine.mic()"
   ]
  },
  {
   "cell_type": "code",
   "execution_count": 18,
   "id": "f28fc793-814d-4722-8f05-8c1c33db0272",
   "metadata": {
    "execution": {
     "iopub.execute_input": "2022-01-28T19:11:01.675158Z",
     "iopub.status.busy": "2022-01-28T19:11:01.674496Z",
     "iopub.status.idle": "2022-01-28T19:11:01.683813Z",
     "shell.execute_reply": "2022-01-28T19:11:01.683227Z"
    },
    "papermill": {
     "duration": 0.041138,
     "end_time": "2022-01-28T19:11:01.683955",
     "exception": false,
     "start_time": "2022-01-28T19:11:01.642817",
     "status": "completed"
    },
    "tags": []
   },
   "outputs": [
    {
     "data": {
      "text/plain": [
       "0.2364527976600289"
      ]
     },
     "execution_count": 18,
     "metadata": {},
     "output_type": "execute_result"
    }
   ],
   "source": [
    "# testing\n",
    "_mic_val = _mic(np.random.rand(10), np.random.rand(10))\n",
    "display(_mic_val)\n",
    "assert _mic_val > 0.0"
   ]
  },
  {
   "cell_type": "code",
   "execution_count": 24,
   "id": "fb9a8716-5660-465c-a1b1-00b3ee49b671",
   "metadata": {
    "execution": {
     "iopub.execute_input": "2022-01-28T19:11:02.213814Z",
     "iopub.status.busy": "2022-01-28T19:11:02.213348Z",
     "iopub.status.idle": "2022-01-28T19:11:02.214947Z",
     "shell.execute_reply": "2022-01-28T19:11:02.215322Z"
    },
    "papermill": {
     "duration": 0.034795,
     "end_time": "2022-01-28T19:11:02.215438",
     "exception": false,
     "start_time": "2022-01-28T19:11:02.180643",
     "status": "completed"
    },
    "tags": []
   },
   "outputs": [],
   "source": [
    "def _compute_mic(gene_sets: list):\n",
    "    \"\"\"\n",
    "    It takes a list of gene pairs and computes MIC on all.\n",
    "    It returns a series with gene pairs as index and MIC values.\n",
    "    This function is used in concurrent.futures for parallel execution.\n",
    "    \"\"\"\n",
    "    res = [\n",
    "        _mic(gene_expr_dict[gs[0]].to_numpy(), gene_expr_dict[gs[1]].to_numpy())\n",
    "        for gs in gene_sets\n",
    "    ]\n",
    "\n",
    "    return pd.Series(res, index=pd.MultiIndex.from_tuples(gene_sets))"
   ]
  },
  {
   "cell_type": "code",
   "execution_count": 25,
   "id": "9cc6eeb5-252f-45cc-8485-91d4619a2cef",
   "metadata": {
    "execution": {
     "iopub.execute_input": "2022-01-28T19:11:02.279121Z",
     "iopub.status.busy": "2022-01-28T19:11:02.278636Z",
     "iopub.status.idle": "2022-01-28T19:11:03.110491Z",
     "shell.execute_reply": "2022-01-28T19:11:03.110845Z"
    },
    "papermill": {
     "duration": 0.865309,
     "end_time": "2022-01-28T19:11:03.110961",
     "exception": false,
     "start_time": "2022-01-28T19:11:02.245652",
     "status": "completed"
    },
    "tags": []
   },
   "outputs": [
    {
     "data": {
      "text/html": [
       "<div>\n",
       "<style scoped>\n",
       "    .dataframe tbody tr th:only-of-type {\n",
       "        vertical-align: middle;\n",
       "    }\n",
       "\n",
       "    .dataframe tbody tr th {\n",
       "        vertical-align: top;\n",
       "    }\n",
       "\n",
       "    .dataframe thead th {\n",
       "        text-align: right;\n",
       "    }\n",
       "</style>\n",
       "<table border=\"1\" class=\"dataframe\">\n",
       "  <thead>\n",
       "    <tr style=\"text-align: right;\">\n",
       "      <th></th>\n",
       "      <th>gene0</th>\n",
       "      <th>gene1</th>\n",
       "    </tr>\n",
       "  </thead>\n",
       "  <tbody>\n",
       "    <tr>\n",
       "      <th>9917393</th>\n",
       "      <td>ENSG00000205423.11</td>\n",
       "      <td>ENSG00000116729.13</td>\n",
       "    </tr>\n",
       "    <tr>\n",
       "      <th>6669250</th>\n",
       "      <td>ENSG00000163155.11</td>\n",
       "      <td>ENSG00000147416.10</td>\n",
       "    </tr>\n",
       "    <tr>\n",
       "      <th>7441255</th>\n",
       "      <td>ENSG00000168291.12</td>\n",
       "      <td>ENSG00000081019.13</td>\n",
       "    </tr>\n",
       "    <tr>\n",
       "      <th>6395291</th>\n",
       "      <td>ENSG00000160087.20</td>\n",
       "      <td>ENSG00000137804.12</td>\n",
       "    </tr>\n",
       "    <tr>\n",
       "      <th>2777005</th>\n",
       "      <td>ENSG00000113391.18</td>\n",
       "      <td>ENSG00000156675.15</td>\n",
       "    </tr>\n",
       "    <tr>\n",
       "      <th>10740971</th>\n",
       "      <td>ENSG00000229320.3</td>\n",
       "      <td>ENSG00000181274.6</td>\n",
       "    </tr>\n",
       "    <tr>\n",
       "      <th>9530323</th>\n",
       "      <td>ENSG00000198216.10</td>\n",
       "      <td>ENSG00000168701.18</td>\n",
       "    </tr>\n",
       "    <tr>\n",
       "      <th>2733366</th>\n",
       "      <td>ENSG00000113013.12</td>\n",
       "      <td>ENSG00000173597.8</td>\n",
       "    </tr>\n",
       "    <tr>\n",
       "      <th>8458346</th>\n",
       "      <td>ENSG00000179869.14</td>\n",
       "      <td>ENSG00000116754.13</td>\n",
       "    </tr>\n",
       "    <tr>\n",
       "      <th>9945909</th>\n",
       "      <td>ENSG00000206680.1</td>\n",
       "      <td>ENSG00000141429.13</td>\n",
       "    </tr>\n",
       "  </tbody>\n",
       "</table>\n",
       "</div>"
      ],
      "text/plain": [
       "                       gene0               gene1\n",
       "9917393   ENSG00000205423.11  ENSG00000116729.13\n",
       "6669250   ENSG00000163155.11  ENSG00000147416.10\n",
       "7441255   ENSG00000168291.12  ENSG00000081019.13\n",
       "6395291   ENSG00000160087.20  ENSG00000137804.12\n",
       "2777005   ENSG00000113391.18  ENSG00000156675.15\n",
       "10740971   ENSG00000229320.3   ENSG00000181274.6\n",
       "9530323   ENSG00000198216.10  ENSG00000168701.18\n",
       "2733366   ENSG00000113013.12   ENSG00000173597.8\n",
       "8458346   ENSG00000179869.14  ENSG00000116754.13\n",
       "9945909    ENSG00000206680.1  ENSG00000141429.13"
      ]
     },
     "metadata": {},
     "output_type": "display_data"
    },
    {
     "data": {
      "text/plain": [
       "(10,)"
      ]
     },
     "metadata": {},
     "output_type": "display_data"
    },
    {
     "data": {
      "text/plain": [
       "ENSG00000205423.11  ENSG00000116729.13    0.496997\n",
       "ENSG00000163155.11  ENSG00000147416.10    0.620000\n",
       "ENSG00000168291.12  ENSG00000081019.13    0.360625\n",
       "ENSG00000160087.20  ENSG00000137804.12    0.284538\n",
       "ENSG00000113391.18  ENSG00000156675.15    0.585647\n",
       "dtype: float64"
      ]
     },
     "metadata": {},
     "output_type": "display_data"
    }
   ],
   "source": [
    "# testing\n",
    "# gene_set_key = \"Clustermatch (high), Pearson (high), Spearman (high)\"\n",
    "gene_set = pd.read_pickle(all_sample_files[0][1]).sample(n=10)\n",
    "display(gene_set)\n",
    "\n",
    "_res = _compute_mic(list(gene_set.itertuples(index=False)))\n",
    "display(_res.shape)\n",
    "display(_res.head())\n",
    "\n",
    "# make sure order is preserved\n",
    "assert _res.index.to_list() == list(gene_set.itertuples(index=False, name=None))"
   ]
  },
  {
   "cell_type": "markdown",
   "id": "96315853-ea9d-4417-b224-31b3bbdf7553",
   "metadata": {
    "papermill": {
     "duration": 0.029654,
     "end_time": "2022-01-28T19:11:02.064339",
     "exception": false,
     "start_time": "2022-01-28T19:11:02.034685",
     "status": "completed"
    },
    "tags": []
   },
   "source": [
    "## Run"
   ]
  },
  {
   "cell_type": "code",
   "execution_count": 26,
   "id": "df927e8f-203d-41df-a5f1-25d6c9a43d53",
   "metadata": {
    "execution": {
     "iopub.execute_input": "2022-01-28T19:11:03.186812Z",
     "iopub.status.busy": "2022-01-28T19:11:03.186347Z",
     "iopub.status.idle": "2022-01-28T19:11:03.211135Z",
     "shell.execute_reply": "2022-01-28T19:11:03.210770Z"
    },
    "papermill": {
     "duration": 0.068893,
     "end_time": "2022-01-28T19:11:03.211237",
     "exception": false,
     "start_time": "2022-01-28T19:11:03.142344",
     "status": "completed"
    },
    "tags": []
   },
   "outputs": [],
   "source": [
    "# create chunks of gene pairs to compute in parallel\n",
    "all_chunks = []\n",
    "\n",
    "for (sample_id, sample_file) in all_sample_files:\n",
    "    gene_pairs_df = pd.read_pickle(sample_file)\n",
    "    gene_pairs_subset = list(gene_pairs_df.itertuples(index=False, name=None))\n",
    "\n",
    "    for chunk in list(chunker(gene_pairs_subset, CHUNK_SIZE)):\n",
    "        all_chunks.append((sample_id, chunk))"
   ]
  },
  {
   "cell_type": "code",
   "execution_count": 27,
   "id": "3ba05517-1b61-40ee-8333-17e1a2088de9",
   "metadata": {
    "execution": {
     "iopub.execute_input": "2022-01-28T19:11:03.278068Z",
     "iopub.status.busy": "2022-01-28T19:11:03.277461Z",
     "iopub.status.idle": "2022-01-28T19:11:03.279793Z",
     "shell.execute_reply": "2022-01-28T19:11:03.280188Z"
    },
    "papermill": {
     "duration": 0.037379,
     "end_time": "2022-01-28T19:11:03.280304",
     "exception": false,
     "start_time": "2022-01-28T19:11:03.242925",
     "status": "completed"
    },
    "tags": []
   },
   "outputs": [
    {
     "data": {
      "text/plain": [
       "1000"
      ]
     },
     "execution_count": 27,
     "metadata": {},
     "output_type": "execute_result"
    }
   ],
   "source": [
    "len(all_chunks)"
   ]
  },
  {
   "cell_type": "code",
   "execution_count": 28,
   "id": "5b2aec09-987c-4506-87c2-5d9e8107d9ca",
   "metadata": {
    "execution": {
     "iopub.execute_input": "2022-01-28T19:11:03.353640Z",
     "iopub.status.busy": "2022-01-28T19:11:03.353022Z",
     "iopub.status.idle": "2022-01-28T19:11:03.356182Z",
     "shell.execute_reply": "2022-01-28T19:11:03.355691Z"
    },
    "papermill": {
     "duration": 0.044556,
     "end_time": "2022-01-28T19:11:03.356274",
     "exception": false,
     "start_time": "2022-01-28T19:11:03.311718",
     "status": "completed"
    },
    "tags": []
   },
   "outputs": [
    {
     "data": {
      "text/plain": [
       "[(0,\n",
       "  [('ENSG00000181192.11', 'ENSG00000144579.7'),\n",
       "   ('ENSG00000111641.11', 'ENSG00000258476.5'),\n",
       "   ('ENSG00000172081.13', 'ENSG00000130429.12'),\n",
       "   ('ENSG00000105255.10', 'ENSG00000231721.6'),\n",
       "   ('ENSG00000153310.19', 'ENSG00000241657.1'),\n",
       "   ('ENSG00000175063.16', 'ENSG00000178607.15'),\n",
       "   ('ENSG00000143401.14', 'ENSG00000159588.14'),\n",
       "   ('ENSG00000058668.14', 'ENSG00000162366.7'),\n",
       "   ('ENSG00000169967.16', 'ENSG00000205423.11'),\n",
       "   ('ENSG00000166145.14', 'ENSG00000230076.1'),\n",
       "   ('ENSG00000144040.12', 'ENSG00000224383.7'),\n",
       "   ('ENSG00000069399.14', 'ENSG00000149489.8'),\n",
       "   ('ENSG00000117697.14', 'ENSG00000120694.19'),\n",
       "   ('ENSG00000279430.1', 'ENSG00000211943.2'),\n",
       "   ('ENSG00000013563.13', 'ENSG00000211885.1'),\n",
       "   ('ENSG00000096088.16', 'ENSG00000110315.6'),\n",
       "   ('ENSG00000140443.13', 'ENSG00000122861.15'),\n",
       "   ('ENSG00000103111.14', 'ENSG00000234506.5'),\n",
       "   ('ENSG00000168297.15', 'ENSG00000169045.17'),\n",
       "   ('ENSG00000221988.12', 'ENSG00000277978.1'),\n",
       "   ('ENSG00000099308.10', 'ENSG00000051128.18'),\n",
       "   ('ENSG00000140443.13', 'ENSG00000092020.10'),\n",
       "   ('ENSG00000198886.2', 'ENSG00000136603.13'),\n",
       "   ('ENSG00000008294.20', 'ENSG00000163513.17'),\n",
       "   ('ENSG00000239961.2', 'ENSG00000160305.17'),\n",
       "   ('ENSG00000030110.12', 'ENSG00000128708.12'),\n",
       "   ('ENSG00000159314.11', 'ENSG00000160685.13'),\n",
       "   ('ENSG00000129465.15', 'ENSG00000221946.7'),\n",
       "   ('ENSG00000149311.18', 'ENSG00000139194.7'),\n",
       "   ('ENSG00000134072.10', 'ENSG00000137806.8'),\n",
       "   ('ENSG00000186088.15', 'ENSG00000184205.14'),\n",
       "   ('ENSG00000137776.16', 'ENSG00000170759.10'),\n",
       "   ('ENSG00000230701.2', 'ENSG00000212283.1'),\n",
       "   ('ENSG00000276107.1', 'ENSG00000155893.12'),\n",
       "   ('ENSG00000142512.14', 'ENSG00000008516.16'),\n",
       "   ('ENSG00000081154.11', 'ENSG00000142303.13'),\n",
       "   ('ENSG00000129968.15', 'ENSG00000070961.15'),\n",
       "   ('ENSG00000162496.8', 'ENSG00000211918.1'),\n",
       "   ('ENSG00000211924.1', 'ENSG00000198113.2'),\n",
       "   ('ENSG00000163600.12', 'ENSG00000211937.3'),\n",
       "   ('ENSG00000061273.17', 'ENSG00000167325.14'),\n",
       "   ('ENSG00000145431.10', 'ENSG00000135655.15'),\n",
       "   ('ENSG00000010310.8', 'ENSG00000115415.18'),\n",
       "   ('ENSG00000131469.12', 'ENSG00000264304.1'),\n",
       "   ('ENSG00000100319.12', 'ENSG00000272821.1'),\n",
       "   ('ENSG00000267990.1', 'ENSG00000211648.2'),\n",
       "   ('ENSG00000158856.17', 'ENSG00000186105.7'),\n",
       "   ('ENSG00000077147.14', 'ENSG00000198502.5'),\n",
       "   ('ENSG00000123338.12', 'ENSG00000138767.12'),\n",
       "   ('ENSG00000272155.1', 'ENSG00000276566.1'),\n",
       "   ('ENSG00000165030.3', 'ENSG00000275302.1'),\n",
       "   ('ENSG00000196511.14', 'ENSG00000277734.7'),\n",
       "   ('ENSG00000136541.14', 'ENSG00000123374.10'),\n",
       "   ('ENSG00000185880.12', 'ENSG00000227671.4'),\n",
       "   ('ENSG00000160318.6', 'ENSG00000280411.1'),\n",
       "   ('ENSG00000225630.1', 'ENSG00000118518.15'),\n",
       "   ('ENSG00000170852.10', 'ENSG00000133961.19'),\n",
       "   ('ENSG00000154310.16', 'ENSG00000008517.16'),\n",
       "   ('ENSG00000142937.11', 'ENSG00000132002.7'),\n",
       "   ('ENSG00000120280.5', 'ENSG00000134294.13'),\n",
       "   ('ENSG00000095564.13', 'ENSG00000261596.2'),\n",
       "   ('ENSG00000089041.16', 'ENSG00000260078.3'),\n",
       "   ('ENSG00000198771.10', 'ENSG00000225783.6'),\n",
       "   ('ENSG00000153029.14', 'ENSG00000148154.9'),\n",
       "   ('ENSG00000070495.14', 'ENSG00000081320.10'),\n",
       "   ('ENSG00000157450.15', 'ENSG00000173706.12'),\n",
       "   ('ENSG00000256269.7', 'ENSG00000183049.12'),\n",
       "   ('ENSG00000225940.5', 'ENSG00000105205.6'),\n",
       "   ('ENSG00000132703.3', 'ENSG00000137076.20'),\n",
       "   ('ENSG00000110651.11', 'ENSG00000170290.3'),\n",
       "   ('ENSG00000271178.1', 'ENSG00000232334.1'),\n",
       "   ('ENSG00000170909.13', 'ENSG00000243955.5'),\n",
       "   ('ENSG00000213339.8', 'ENSG00000136235.15'),\n",
       "   ('ENSG00000119820.10', 'ENSG00000187257.15'),\n",
       "   ('ENSG00000175573.6', 'ENSG00000125430.8'),\n",
       "   ('ENSG00000180891.12', 'ENSG00000135486.17'),\n",
       "   ('ENSG00000230795.3', 'ENSG00000131724.10'),\n",
       "   ('ENSG00000108932.11', 'ENSG00000150687.11'),\n",
       "   ('ENSG00000106327.12', 'ENSG00000133742.13'),\n",
       "   ('ENSG00000003756.16', 'ENSG00000103365.15'),\n",
       "   ('ENSG00000032219.18', 'ENSG00000162734.12'),\n",
       "   ('ENSG00000233476.3', 'ENSG00000133961.19'),\n",
       "   ('ENSG00000150347.14', 'ENSG00000184221.12'),\n",
       "   ('ENSG00000211952.3', 'ENSG00000113140.10'),\n",
       "   ('ENSG00000177469.12', 'ENSG00000119314.15'),\n",
       "   ('ENSG00000187514.16', 'ENSG00000138744.14'),\n",
       "   ('ENSG00000136877.14', 'ENSG00000173369.15'),\n",
       "   ('ENSG00000181481.13', 'ENSG00000211769.1'),\n",
       "   ('ENSG00000130511.15', 'ENSG00000111885.6'),\n",
       "   ('ENSG00000225963.7', 'ENSG00000180739.13'),\n",
       "   ('ENSG00000215301.9', 'ENSG00000106780.8'),\n",
       "   ('ENSG00000175471.19', 'ENSG00000179388.8'),\n",
       "   ('ENSG00000274425.1', 'ENSG00000143226.13'),\n",
       "   ('ENSG00000137492.7', 'ENSG00000143226.13'),\n",
       "   ('ENSG00000211699.2', 'ENSG00000174123.10'),\n",
       "   ('ENSG00000254030.1', 'ENSG00000165029.15'),\n",
       "   ('ENSG00000155827.11', 'ENSG00000127947.15'),\n",
       "   ('ENSG00000127947.15', 'ENSG00000184613.10'),\n",
       "   ('ENSG00000129749.3', 'ENSG00000151239.13'),\n",
       "   ('ENSG00000174106.2', 'ENSG00000112062.10')]),\n",
       " (0,\n",
       "  [('ENSG00000244398.1', 'ENSG00000261971.6'),\n",
       "   ('ENSG00000124496.12', 'ENSG00000118137.9'),\n",
       "   ('ENSG00000213722.8', 'ENSG00000274712.1'),\n",
       "   ('ENSG00000273899.4', 'ENSG00000211952.3'),\n",
       "   ('ENSG00000057657.15', 'ENSG00000196205.8'),\n",
       "   ('ENSG00000122390.17', 'ENSG00000165025.14'),\n",
       "   ('ENSG00000100030.14', 'ENSG00000198736.11'),\n",
       "   ('ENSG00000115902.10', 'ENSG00000138744.14'),\n",
       "   ('ENSG00000122188.12', 'ENSG00000118520.14'),\n",
       "   ('ENSG00000007312.12', 'ENSG00000204475.9'),\n",
       "   ('ENSG00000110031.12', 'ENSG00000196616.13'),\n",
       "   ('ENSG00000156587.15', 'ENSG00000086544.2'),\n",
       "   ('ENSG00000106636.7', 'ENSG00000167604.13'),\n",
       "   ('ENSG00000196396.9', 'ENSG00000196668.3'),\n",
       "   ('ENSG00000196091.13', 'ENSG00000067840.12'),\n",
       "   ('ENSG00000275385.1', 'ENSG00000136197.12'),\n",
       "   ('ENSG00000177989.13', 'ENSG00000234436.1'),\n",
       "   ('ENSG00000140398.13', 'ENSG00000117834.12'),\n",
       "   ('ENSG00000170298.15', 'ENSG00000135378.3'),\n",
       "   ('ENSG00000168925.10', 'ENSG00000147119.3'),\n",
       "   ('ENSG00000282600.2', 'ENSG00000135709.12'),\n",
       "   ('ENSG00000107771.15', 'ENSG00000160179.18'),\n",
       "   ('ENSG00000159840.15', 'ENSG00000167995.15'),\n",
       "   ('ENSG00000183696.13', 'ENSG00000104814.12'),\n",
       "   ('ENSG00000145780.7', 'ENSG00000250361.7'),\n",
       "   ('ENSG00000255518.1', 'ENSG00000215114.8'),\n",
       "   ('ENSG00000167978.16', 'ENSG00000198763.3'),\n",
       "   ('ENSG00000196396.9', 'ENSG00000167766.18'),\n",
       "   ('ENSG00000187244.10', 'ENSG00000261114.1'),\n",
       "   ('ENSG00000122545.18', 'ENSG00000139505.11'),\n",
       "   ('ENSG00000139631.18', 'ENSG00000170801.9'),\n",
       "   ('ENSG00000077152.9', 'ENSG00000204397.7'),\n",
       "   ('ENSG00000089094.18', 'ENSG00000282122.1'),\n",
       "   ('ENSG00000167978.16', 'ENSG00000196205.8'),\n",
       "   ('ENSG00000075426.11', 'ENSG00000068305.17'),\n",
       "   ('ENSG00000159840.15', 'ENSG00000142789.19'),\n",
       "   ('ENSG00000130813.17', 'ENSG00000103510.19'),\n",
       "   ('ENSG00000251301.6', 'ENSG00000248527.1'),\n",
       "   ('ENSG00000120910.14', 'ENSG00000181751.9'),\n",
       "   ('ENSG00000170873.18', 'ENSG00000169429.10'),\n",
       "   ('ENSG00000085719.12', 'ENSG00000110958.15'),\n",
       "   ('ENSG00000162639.15', 'ENSG00000100365.14'),\n",
       "   ('ENSG00000166313.18', 'ENSG00000207405.1'),\n",
       "   ('ENSG00000112576.12', 'ENSG00000125657.4'),\n",
       "   ('ENSG00000186918.13', 'ENSG00000183779.6'),\n",
       "   ('ENSG00000167703.14', 'ENSG00000125834.12'),\n",
       "   ('ENSG00000128591.15', 'ENSG00000258738.1'),\n",
       "   ('ENSG00000267547.1', 'ENSG00000166710.17'),\n",
       "   ('ENSG00000271680.1', 'ENSG00000228703.1'),\n",
       "   ('ENSG00000273899.4', 'ENSG00000211782.2'),\n",
       "   ('ENSG00000108773.10', 'ENSG00000137575.11'),\n",
       "   ('ENSG00000184014.7', 'ENSG00000117859.18'),\n",
       "   ('ENSG00000181826.9', 'ENSG00000182511.11'),\n",
       "   ('ENSG00000138463.8', 'ENSG00000267317.2'),\n",
       "   ('ENSG00000119335.16', 'ENSG00000213347.10'),\n",
       "   ('ENSG00000166741.7', 'ENSG00000148154.9'),\n",
       "   ('ENSG00000196083.9', 'ENSG00000167286.9'),\n",
       "   ('ENSG00000140564.11', 'ENSG00000111321.10'),\n",
       "   ('ENSG00000172023.7', 'ENSG00000117318.8'),\n",
       "   ('ENSG00000135404.11', 'ENSG00000140379.7'),\n",
       "   ('ENSG00000196126.11', 'ENSG00000158104.11'),\n",
       "   ('ENSG00000173868.11', 'ENSG00000099958.14'),\n",
       "   ('ENSG00000091409.14', 'ENSG00000186088.15'),\n",
       "   ('ENSG00000158201.9', 'ENSG00000170180.19'),\n",
       "   ('ENSG00000134900.11', 'ENSG00000156256.14'),\n",
       "   ('ENSG00000120686.11', 'ENSG00000211706.2'),\n",
       "   ('ENSG00000182718.16', 'ENSG00000005961.17'),\n",
       "   ('ENSG00000183891.5', 'ENSG00000144381.16'),\n",
       "   ('ENSG00000256043.2', 'ENSG00000157017.15'),\n",
       "   ('ENSG00000158825.5', 'ENSG00000119900.7'),\n",
       "   ('ENSG00000146112.11', 'ENSG00000147162.13'),\n",
       "   ('ENSG00000167615.16', 'ENSG00000178209.14'),\n",
       "   ('ENSG00000158769.17', 'ENSG00000117834.12'),\n",
       "   ('ENSG00000279320.1', 'ENSG00000111331.12'),\n",
       "   ('ENSG00000175727.13', 'ENSG00000169385.2'),\n",
       "   ('ENSG00000182774.10', 'ENSG00000136040.8'),\n",
       "   ('ENSG00000140743.7', 'ENSG00000171611.9'),\n",
       "   ('ENSG00000174437.16', 'ENSG00000230325.1'),\n",
       "   ('ENSG00000168297.15', 'ENSG00000152291.13'),\n",
       "   ('ENSG00000100580.7', 'ENSG00000225972.1'),\n",
       "   ('ENSG00000127418.14', 'ENSG00000152518.7'),\n",
       "   ('ENSG00000008083.13', 'ENSG00000224195.1'),\n",
       "   ('ENSG00000137776.16', 'ENSG00000184432.9'),\n",
       "   ('ENSG00000140406.3', 'ENSG00000163631.16'),\n",
       "   ('ENSG00000140450.8', 'ENSG00000102837.6'),\n",
       "   ('ENSG00000015285.10', 'ENSG00000148925.10'),\n",
       "   ('ENSG00000100219.16', 'ENSG00000165732.12'),\n",
       "   ('ENSG00000172939.8', 'ENSG00000091583.10'),\n",
       "   ('ENSG00000121749.15', 'ENSG00000211690.1'),\n",
       "   ('ENSG00000205045.8', 'ENSG00000273253.2'),\n",
       "   ('ENSG00000138802.11', 'ENSG00000100030.14'),\n",
       "   ('ENSG00000165175.15', 'ENSG00000012817.15'),\n",
       "   ('ENSG00000101473.16', 'ENSG00000119402.16'),\n",
       "   ('ENSG00000276317.1', 'ENSG00000282416.1'),\n",
       "   ('ENSG00000155252.13', 'ENSG00000143515.16'),\n",
       "   ('ENSG00000255163.1', 'ENSG00000161944.16'),\n",
       "   ('ENSG00000111652.9', 'ENSG00000171863.12'),\n",
       "   ('ENSG00000164674.15', 'ENSG00000088325.15'),\n",
       "   ('ENSG00000185477.4', 'ENSG00000160446.18'),\n",
       "   ('ENSG00000107281.9', 'ENSG00000196954.13')])]"
      ]
     },
     "execution_count": 28,
     "metadata": {},
     "output_type": "execute_result"
    }
   ],
   "source": [
    "all_chunks[:2]"
   ]
  },
  {
   "cell_type": "code",
   "execution_count": 29,
   "id": "2a961167-6660-47bd-8beb-4e08de26bf05",
   "metadata": {
    "execution": {
     "iopub.execute_input": "2022-01-28T19:11:03.426380Z",
     "iopub.status.busy": "2022-01-28T19:11:03.425904Z",
     "iopub.status.idle": "2022-01-28T20:01:41.961437Z",
     "shell.execute_reply": "2022-01-28T20:01:41.960961Z"
    },
    "papermill": {
     "duration": 3038.573429,
     "end_time": "2022-01-28T20:01:41.961538",
     "exception": false,
     "start_time": "2022-01-28T19:11:03.388109",
     "status": "completed"
    },
    "tags": []
   },
   "outputs": [
    {
     "name": "stderr",
     "output_type": "stream",
     "text": [
      "100%|███████████████████████████████████████████████████████████| 1000/1000 [50:38<00:00,  3.04s/it]\n"
     ]
    }
   ],
   "source": [
    "all_results = defaultdict(list)\n",
    "\n",
    "with ProcessPoolExecutor(max_workers=conf.GENERAL[\"N_JOBS\"]) as executor:\n",
    "    tasks = {\n",
    "        executor.submit(_compute_mic, chunk): sample_id\n",
    "        for sample_id, chunk in all_chunks\n",
    "    }\n",
    "\n",
    "    pbar = tqdm(as_completed(tasks), total=len(all_chunks), ncols=100)\n",
    "\n",
    "    for future in pbar:\n",
    "        sample_id = tasks[future]\n",
    "        sample_file_mic = future.result()\n",
    "\n",
    "        all_results[sample_id].append(sample_file_mic)"
   ]
  },
  {
   "cell_type": "markdown",
   "id": "bd48badf-bfe2-41d1-85b8-c4d8a494b5cd",
   "metadata": {
    "papermill": {
     "duration": 0.253069,
     "end_time": "2022-01-28T20:01:42.471549",
     "exception": false,
     "start_time": "2022-01-28T20:01:42.218480",
     "status": "completed"
    },
    "tags": []
   },
   "source": [
    "# Save for each sample file"
   ]
  },
  {
   "cell_type": "code",
   "execution_count": 30,
   "id": "82b77d46-d4b5-4e02-91b9-acffb848332b",
   "metadata": {
    "execution": {
     "iopub.execute_input": "2022-01-28T20:01:42.995636Z",
     "iopub.status.busy": "2022-01-28T20:01:42.995186Z",
     "iopub.status.idle": "2022-01-28T20:01:43.920523Z",
     "shell.execute_reply": "2022-01-28T20:01:43.919950Z"
    },
    "papermill": {
     "duration": 1.195297,
     "end_time": "2022-01-28T20:01:43.920644",
     "exception": false,
     "start_time": "2022-01-28T20:01:42.725347",
     "status": "completed"
    },
    "tags": []
   },
   "outputs": [],
   "source": [
    "for sample_id in all_results.keys():\n",
    "    sample_file_all_results_df = pd.concat(all_results[sample_id]).sort_index()\n",
    "    assert not sample_file_all_results_df.isna().any()\n",
    "    sample_file_all_results_gene_pairs_set = set(sample_file_all_results_df.index)\n",
    "\n",
    "    # testing: load input gene pairs\n",
    "    sample_file_df = pd.read_pickle(\n",
    "        INPUT_GENE_PAIRS_FILE_TEMPLATE.format(sample_id=sample_id)\n",
    "    )\n",
    "    assert sample_file_df.drop_duplicates().shape[0] == sample_file_df.shape[0]\n",
    "\n",
    "    # testing: number of gene pairs are the same in input data and in results\n",
    "    assert sample_file_df.shape[0] == sample_file_all_results_df.shape[0]\n",
    "\n",
    "    # testing: make sure gene ids are the same in results as in input gene pairs\n",
    "    sample_file_gene_pairs_list = list(\n",
    "        sample_file_df.itertuples(index=False, name=None)\n",
    "    )\n",
    "    sample_file_gene_pairs_set = set(sample_file_gene_pairs_list)\n",
    "    assert len(sample_file_gene_pairs_set) == len(\n",
    "        sample_file_gene_pairs_set.intersection(sample_file_all_results_gene_pairs_set)\n",
    "    )\n",
    "\n",
    "    # save results with same order (in gene pairs) as input sample data\n",
    "    sample_file_all_results_df = sample_file_all_results_df.loc[\n",
    "        sample_file_gene_pairs_list\n",
    "    ]\n",
    "    sample_file_all_results_df.to_pickle(\n",
    "        OUTPUT_FILE_TEMPLATE.format(sample_id=sample_id)\n",
    "    )"
   ]
  },
  {
   "cell_type": "code",
   "execution_count": 31,
   "id": "9bc5931e-5cac-4f47-a46f-837e270c4ef4",
   "metadata": {
    "execution": {
     "iopub.execute_input": "2022-01-28T20:01:44.439151Z",
     "iopub.status.busy": "2022-01-28T20:01:44.438702Z",
     "iopub.status.idle": "2022-01-28T20:01:44.443713Z",
     "shell.execute_reply": "2022-01-28T20:01:44.444122Z"
    },
    "papermill": {
     "duration": 0.263498,
     "end_time": "2022-01-28T20:01:44.444238",
     "exception": false,
     "start_time": "2022-01-28T20:01:44.180740",
     "status": "completed"
    },
    "tags": []
   },
   "outputs": [
    {
     "data": {
      "text/plain": [
       "(100000,)"
      ]
     },
     "metadata": {},
     "output_type": "display_data"
    },
    {
     "data": {
      "text/plain": [
       "ENSG00000181192.11  ENSG00000144579.7     0.630906\n",
       "ENSG00000111641.11  ENSG00000258476.5     0.210311\n",
       "ENSG00000172081.13  ENSG00000130429.12    0.643822\n",
       "ENSG00000105255.10  ENSG00000231721.6     0.385814\n",
       "ENSG00000153310.19  ENSG00000241657.1     0.164555\n",
       "dtype: float64"
      ]
     },
     "metadata": {},
     "output_type": "display_data"
    }
   ],
   "source": [
    "# show how one result set looks like\n",
    "display(sample_file_all_results_df.shape)\n",
    "display(sample_file_all_results_df.head())"
   ]
  },
  {
   "cell_type": "code",
   "execution_count": null,
   "id": "86d4a81e-927e-4c3e-93d1-47df1931ad5a",
   "metadata": {
    "papermill": {
     "duration": 0.270487,
     "end_time": "2022-01-28T20:01:44.969720",
     "exception": false,
     "start_time": "2022-01-28T20:01:44.699233",
     "status": "completed"
    },
    "tags": []
   },
   "outputs": [],
   "source": []
  }
 ],
 "metadata": {
  "jupytext": {
   "cell_metadata_filter": "all,-execution,-papermill,-trusted"
  },
  "kernelspec": {
   "display_name": "Python 3 (ipykernel)",
   "language": "python",
   "name": "python3"
  },
  "language_info": {
   "codemirror_mode": {
    "name": "ipython",
    "version": 3
   },
   "file_extension": ".py",
   "mimetype": "text/x-python",
   "name": "python",
   "nbconvert_exporter": "python",
   "pygments_lexer": "ipython3",
   "version": "3.9.9"
  },
  "papermill": {
   "default_parameters": {},
   "duration": 3047.2899,
   "end_time": "2022-01-28T20:01:45.553168",
   "environment_variables": {},
   "exception": null,
   "input_path": "nbs/20_comparison_others/05_02-gtex_whole_blood-sample_all_gene_pairs-mic.ipynb",
   "output_path": "nbs/20_comparison_others/05_02-gtex_whole_blood-sample_all_gene_pairs-mic.run.ipynb",
   "parameters": {},
   "start_time": "2022-01-28T19:10:58.263268",
   "version": "2.3.4"
  },
  "toc-autonumbering": true
 },
 "nbformat": 4,
 "nbformat_minor": 5
}
