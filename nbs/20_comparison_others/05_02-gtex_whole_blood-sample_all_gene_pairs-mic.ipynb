{
 "cells": [
  {
   "cell_type": "markdown",
   "id": "87e0ce1b-7ce6-4499-9342-5ded05307598",
   "metadata": {
    "papermill": {
     "duration": 0.050435,
     "end_time": "2022-01-27T18:00:33.646226",
     "exception": false,
     "start_time": "2022-01-27T18:00:33.595791",
     "status": "completed"
    },
    "tags": []
   },
   "source": [
    "# Description"
   ]
  },
  {
   "cell_type": "markdown",
   "id": "4bfc7115-350a-441b-9a19-7626a948a694",
   "metadata": {
    "papermill": {
     "duration": 0.022419,
     "end_time": "2022-01-27T18:00:33.691022",
     "exception": false,
     "start_time": "2022-01-27T18:00:33.668603",
     "status": "completed"
    },
    "tags": []
   },
   "source": [
    "TODO"
   ]
  },
  {
   "cell_type": "markdown",
   "id": "e020c781-238b-43c2-8cad-2722b8a240e2",
   "metadata": {
    "papermill": {
     "duration": 0.023487,
     "end_time": "2022-01-27T18:00:33.736893",
     "exception": false,
     "start_time": "2022-01-27T18:00:33.713406",
     "status": "completed"
    },
    "tags": []
   },
   "source": [
    "# Modules"
   ]
  },
  {
   "cell_type": "code",
   "execution_count": 1,
   "id": "a819bfbc-5009-4c68-ba8d-37d0979d368f",
   "metadata": {
    "execution": {
     "iopub.execute_input": "2022-01-27T18:00:33.789006Z",
     "iopub.status.busy": "2022-01-27T18:00:33.788552Z",
     "iopub.status.idle": "2022-01-27T18:00:34.022324Z",
     "shell.execute_reply": "2022-01-27T18:00:34.021771Z"
    },
    "papermill": {
     "duration": 0.262731,
     "end_time": "2022-01-27T18:00:34.022436",
     "exception": false,
     "start_time": "2022-01-27T18:00:33.759705",
     "status": "completed"
    },
    "tags": []
   },
   "outputs": [],
   "source": [
    "from pathlib import Path\n",
    "\n",
    "import pandas as pd\n",
    "import numpy as np\n",
    "\n",
    "from clustermatch import conf"
   ]
  },
  {
   "cell_type": "markdown",
   "id": "b4834387-58ff-468c-b326-85c408bc5feb",
   "metadata": {
    "papermill": {
     "duration": 0.022558,
     "end_time": "2022-01-27T18:00:34.069535",
     "exception": false,
     "start_time": "2022-01-27T18:00:34.046977",
     "status": "completed"
    },
    "tags": []
   },
   "source": [
    "# Settings"
   ]
  },
  {
   "cell_type": "code",
   "execution_count": 2,
   "id": "765e820a-4518-4bbc-a00f-14c9cea03821",
   "metadata": {
    "execution": {
     "iopub.execute_input": "2022-01-27T18:00:34.118398Z",
     "iopub.status.busy": "2022-01-27T18:00:34.117946Z",
     "iopub.status.idle": "2022-01-27T18:00:34.119468Z",
     "shell.execute_reply": "2022-01-27T18:00:34.119809Z"
    },
    "papermill": {
     "duration": 0.027939,
     "end_time": "2022-01-27T18:00:34.119932",
     "exception": false,
     "start_time": "2022-01-27T18:00:34.091993",
     "status": "completed"
    },
    "tags": []
   },
   "outputs": [],
   "source": [
    "DATASET_CONFIG = conf.GTEX\n",
    "GTEX_TISSUE = \"whole_blood\"\n",
    "GENE_SEL_STRATEGY = \"var_pc_log2\"\n",
    "\n",
    "METHOD_NAME = \"mic\""
   ]
  },
  {
   "cell_type": "code",
   "execution_count": 3,
   "id": "ca79812d-c519-408c-bea8-9fc177e71d72",
   "metadata": {
    "execution": {
     "iopub.execute_input": "2022-01-27T18:00:34.169479Z",
     "iopub.status.busy": "2022-01-27T18:00:34.169016Z",
     "iopub.status.idle": "2022-01-27T18:00:34.170524Z",
     "shell.execute_reply": "2022-01-27T18:00:34.170865Z"
    },
    "papermill": {
     "duration": 0.027726,
     "end_time": "2022-01-27T18:00:34.170980",
     "exception": false,
     "start_time": "2022-01-27T18:00:34.143254",
     "status": "completed"
    },
    "tags": [
     "parameters"
    ]
   },
   "outputs": [],
   "source": [
    "# this cell has the \"parameters\" tag\n",
    "\n",
    "# size of gene pair groups to process in parallel\n",
    "CHUNK_SIZE = 100"
   ]
  },
  {
   "cell_type": "markdown",
   "id": "a1159982-5dd1-4494-97d4-0674eeead1c3",
   "metadata": {
    "papermill": {
     "duration": 0.023226,
     "end_time": "2022-01-27T18:00:34.217993",
     "exception": false,
     "start_time": "2022-01-27T18:00:34.194767",
     "status": "completed"
    },
    "tags": []
   },
   "source": [
    "# Paths"
   ]
  },
  {
   "cell_type": "code",
   "execution_count": 4,
   "id": "c6f73068-fa38-44be-bd0c-708f6ff450ea",
   "metadata": {
    "execution": {
     "iopub.execute_input": "2022-01-27T18:00:34.272306Z",
     "iopub.status.busy": "2022-01-27T18:00:34.271700Z",
     "iopub.status.idle": "2022-01-27T18:00:34.274805Z",
     "shell.execute_reply": "2022-01-27T18:00:34.274350Z"
    },
    "papermill": {
     "duration": 0.033969,
     "end_time": "2022-01-27T18:00:34.274901",
     "exception": false,
     "start_time": "2022-01-27T18:00:34.240932",
     "status": "completed"
    },
    "tags": []
   },
   "outputs": [
    {
     "data": {
      "text/plain": [
       "PosixPath('/opt/data/results/gtex_v8/gene_selection/gtex_v8_data_whole_blood-var_pc_log2.pkl')"
      ]
     },
     "metadata": {},
     "output_type": "display_data"
    }
   ],
   "source": [
    "INPUT_GENE_EXPR_FILE = (\n",
    "    DATASET_CONFIG[\"GENE_SELECTION_DIR\"]\n",
    "    / f\"gtex_v8_data_{GTEX_TISSUE}-{GENE_SEL_STRATEGY}.pkl\"\n",
    ")\n",
    "display(INPUT_GENE_EXPR_FILE)\n",
    "\n",
    "assert INPUT_GENE_EXPR_FILE.exists()"
   ]
  },
  {
   "cell_type": "code",
   "execution_count": 5,
   "id": "1ed73618-a3ab-4f62-8731-67c9726fd1a8",
   "metadata": {
    "execution": {
     "iopub.execute_input": "2022-01-27T18:00:34.326346Z",
     "iopub.status.busy": "2022-01-27T18:00:34.325790Z",
     "iopub.status.idle": "2022-01-27T18:00:34.328179Z",
     "shell.execute_reply": "2022-01-27T18:00:34.328520Z"
    },
    "papermill": {
     "duration": 0.029633,
     "end_time": "2022-01-27T18:00:34.328637",
     "exception": false,
     "start_time": "2022-01-27T18:00:34.299004",
     "status": "completed"
    },
    "tags": []
   },
   "outputs": [
    {
     "data": {
      "text/plain": [
       "PosixPath('/opt/data/results/gtex_v8/gene_selection/gtex_v8_data_whole_blood-var_pc_log2.pkl')"
      ]
     },
     "metadata": {},
     "output_type": "display_data"
    }
   ],
   "source": [
    "GENE_PAIRS_FILE_SUFFIX = (\n",
    "    DATASET_CONFIG[\"GENE_SELECTION_DIR\"]\n",
    "    / f\"gtex_v8_data_{GTEX_TISSUE}-{GENE_SEL_STRATEGY}.pkl\"\n",
    ")\n",
    "display(GENE_PAIRS_FILE_SUFFIX)\n",
    "\n",
    "assert GENE_PAIRS_FILE_SUFFIX.exists()"
   ]
  },
  {
   "cell_type": "code",
   "execution_count": 6,
   "id": "24757228-be05-43e0-8057-831135a5da17",
   "metadata": {
    "execution": {
     "iopub.execute_input": "2022-01-27T18:00:34.380207Z",
     "iopub.status.busy": "2022-01-27T18:00:34.379645Z",
     "iopub.status.idle": "2022-01-27T18:00:34.382422Z",
     "shell.execute_reply": "2022-01-27T18:00:34.382046Z"
    },
    "papermill": {
     "duration": 0.029705,
     "end_time": "2022-01-27T18:00:34.382522",
     "exception": false,
     "start_time": "2022-01-27T18:00:34.352817",
     "status": "completed"
    },
    "tags": []
   },
   "outputs": [
    {
     "data": {
      "text/plain": [
       "PosixPath('/opt/data/results/gtex_v8/gene_selection/samples')"
      ]
     },
     "metadata": {},
     "output_type": "display_data"
    }
   ],
   "source": [
    "INPUT_DIR = GENE_PAIRS_FILE_SUFFIX.parent / \"samples\"\n",
    "display(INPUT_DIR)"
   ]
  },
  {
   "cell_type": "code",
   "execution_count": 7,
   "id": "a088c4ad-71ac-43f3-b58a-678fefb55117",
   "metadata": {
    "execution": {
     "iopub.execute_input": "2022-01-27T18:00:34.440721Z",
     "iopub.status.busy": "2022-01-27T18:00:34.440138Z",
     "iopub.status.idle": "2022-01-27T18:00:34.444078Z",
     "shell.execute_reply": "2022-01-27T18:00:34.443523Z"
    },
    "papermill": {
     "duration": 0.036835,
     "end_time": "2022-01-27T18:00:34.444194",
     "exception": false,
     "start_time": "2022-01-27T18:00:34.407359",
     "status": "completed"
    },
    "tags": []
   },
   "outputs": [
    {
     "data": {
      "text/plain": [
       "PosixPath('/opt/data/results/gtex_v8/gene_selection/samples/gtex_v8_data_whole_blood-var_pc_log2-gene_pairs-sample_{sample_id}.pkl')"
      ]
     },
     "metadata": {},
     "output_type": "display_data"
    },
    {
     "data": {
      "text/plain": [
       "'/opt/data/results/gtex_v8/gene_selection/samples/gtex_v8_data_whole_blood-var_pc_log2-gene_pairs-sample_{sample_id}.pkl'"
      ]
     },
     "metadata": {},
     "output_type": "display_data"
    }
   ],
   "source": [
    "INPUT_GENE_PAIRS_FILE = INPUT_DIR / (\n",
    "    f\"{GENE_PAIRS_FILE_SUFFIX.stem}-gene_pairs-sample_\" + \"{sample_id}\" + \".pkl\"\n",
    ")\n",
    "display(INPUT_GENE_PAIRS_FILE)\n",
    "\n",
    "INPUT_GENE_PAIRS_FILE_TEMPLATE = str(INPUT_GENE_PAIRS_FILE)\n",
    "display(INPUT_GENE_PAIRS_FILE_TEMPLATE)"
   ]
  },
  {
   "cell_type": "code",
   "execution_count": 8,
   "id": "7e6dbf37-ad3a-4f73-a4a7-89275d6f00bc",
   "metadata": {
    "execution": {
     "iopub.execute_input": "2022-01-27T18:00:34.502095Z",
     "iopub.status.busy": "2022-01-27T18:00:34.501429Z",
     "iopub.status.idle": "2022-01-27T18:00:34.504609Z",
     "shell.execute_reply": "2022-01-27T18:00:34.504147Z"
    },
    "papermill": {
     "duration": 0.032393,
     "end_time": "2022-01-27T18:00:34.504708",
     "exception": false,
     "start_time": "2022-01-27T18:00:34.472315",
     "status": "completed"
    },
    "tags": []
   },
   "outputs": [
    {
     "data": {
      "text/plain": [
       "PosixPath('/opt/data/results/gtex_v8/comparison_others/mic')"
      ]
     },
     "metadata": {},
     "output_type": "display_data"
    }
   ],
   "source": [
    "OUTPUT_DIR = DATASET_CONFIG[\"RESULTS_DIR\"] / \"comparison_others\" / METHOD_NAME\n",
    "OUTPUT_DIR.mkdir(parents=True, exist_ok=True)\n",
    "display(OUTPUT_DIR)"
   ]
  },
  {
   "cell_type": "code",
   "execution_count": 9,
   "id": "f4468c0e-c0ad-4bf5-b120-3f63e7afc33f",
   "metadata": {
    "execution": {
     "iopub.execute_input": "2022-01-27T18:00:34.560127Z",
     "iopub.status.busy": "2022-01-27T18:00:34.559486Z",
     "iopub.status.idle": "2022-01-27T18:00:34.562430Z",
     "shell.execute_reply": "2022-01-27T18:00:34.561981Z"
    },
    "papermill": {
     "duration": 0.032299,
     "end_time": "2022-01-27T18:00:34.562525",
     "exception": false,
     "start_time": "2022-01-27T18:00:34.530226",
     "status": "completed"
    },
    "tags": []
   },
   "outputs": [
    {
     "data": {
      "text/plain": [
       "'/opt/data/results/gtex_v8/comparison_others/mic/gtex_v8_data_whole_blood-var_pc_log2-gene_pairs-sample_{sample_id}-mic.pkl'"
      ]
     },
     "metadata": {},
     "output_type": "display_data"
    }
   ],
   "source": [
    "OUTPUT_FILE_TEMPLATE = str(\n",
    "    OUTPUT_DIR / (INPUT_GENE_PAIRS_FILE.name[:-4] + f\"-{METHOD_NAME}.pkl\")\n",
    ")\n",
    "\n",
    "display(OUTPUT_FILE_TEMPLATE)"
   ]
  },
  {
   "cell_type": "markdown",
   "id": "f6d3322b-c8bb-4fc2-97b6-5bb1793b1577",
   "metadata": {
    "papermill": {
     "duration": 0.025536,
     "end_time": "2022-01-27T18:00:34.614327",
     "exception": false,
     "start_time": "2022-01-27T18:00:34.588791",
     "status": "completed"
    },
    "tags": []
   },
   "source": [
    "# Data"
   ]
  },
  {
   "cell_type": "markdown",
   "id": "0aa486d7-b624-4d20-a730-a9eb224bef6a",
   "metadata": {
    "papermill": {
     "duration": 0.026007,
     "end_time": "2022-01-27T18:00:34.666763",
     "exception": false,
     "start_time": "2022-01-27T18:00:34.640756",
     "status": "completed"
    },
    "tags": []
   },
   "source": [
    "## Gene expression"
   ]
  },
  {
   "cell_type": "code",
   "execution_count": 10,
   "id": "f73ca2b7-f7ff-47bc-90b0-32e0cfdb5ea6",
   "metadata": {
    "execution": {
     "iopub.execute_input": "2022-01-27T18:00:34.722196Z",
     "iopub.status.busy": "2022-01-27T18:00:34.721736Z",
     "iopub.status.idle": "2022-01-27T18:00:34.885296Z",
     "shell.execute_reply": "2022-01-27T18:00:34.884751Z"
    },
    "papermill": {
     "duration": 0.192961,
     "end_time": "2022-01-27T18:00:34.885422",
     "exception": false,
     "start_time": "2022-01-27T18:00:34.692461",
     "status": "completed"
    },
    "tags": []
   },
   "outputs": [],
   "source": [
    "gene_expr_dict = pd.read_pickle(INPUT_GENE_EXPR_FILE).T.to_dict(orient=\"series\")"
   ]
  },
  {
   "cell_type": "code",
   "execution_count": 11,
   "id": "3cba499a-e737-4da2-9841-f9a03719b3aa",
   "metadata": {
    "execution": {
     "iopub.execute_input": "2022-01-27T18:00:34.950999Z",
     "iopub.status.busy": "2022-01-27T18:00:34.950463Z",
     "iopub.status.idle": "2022-01-27T18:00:34.952737Z",
     "shell.execute_reply": "2022-01-27T18:00:34.953110Z"
    },
    "papermill": {
     "duration": 0.033728,
     "end_time": "2022-01-27T18:00:34.953228",
     "exception": false,
     "start_time": "2022-01-27T18:00:34.919500",
     "status": "completed"
    },
    "tags": []
   },
   "outputs": [
    {
     "data": {
      "text/plain": [
       "5000"
      ]
     },
     "execution_count": 11,
     "metadata": {},
     "output_type": "execute_result"
    }
   ],
   "source": [
    "len(gene_expr_dict)"
   ]
  },
  {
   "cell_type": "code",
   "execution_count": 12,
   "id": "df66fe70-9fe9-4351-9d30-f8dcc97725de",
   "metadata": {
    "execution": {
     "iopub.execute_input": "2022-01-27T18:00:35.012759Z",
     "iopub.status.busy": "2022-01-27T18:00:35.012145Z",
     "iopub.status.idle": "2022-01-27T18:00:35.014491Z",
     "shell.execute_reply": "2022-01-27T18:00:35.014856Z"
    },
    "papermill": {
     "duration": 0.034922,
     "end_time": "2022-01-27T18:00:35.014974",
     "exception": false,
     "start_time": "2022-01-27T18:00:34.980052",
     "status": "completed"
    },
    "tags": []
   },
   "outputs": [
    {
     "data": {
      "text/plain": [
       "GTEX-111YS-0006-SM-5NQBE       0.5623\n",
       "GTEX-1122O-0005-SM-5O99J       0.8067\n",
       "GTEX-1128S-0005-SM-5P9HI     116.9000\n",
       "GTEX-113IC-0006-SM-5NQ9C       4.0470\n",
       "GTEX-113JC-0006-SM-5O997     211.0000\n",
       "                              ...    \n",
       "GTEX-ZVTK-0006-SM-57WBK     1626.0000\n",
       "GTEX-ZVZP-0006-SM-51MSW        0.5633\n",
       "GTEX-ZVZQ-0006-SM-51MR8      515.7000\n",
       "GTEX-ZXES-0005-SM-57WCB        1.1940\n",
       "GTEX-ZXG5-0005-SM-57WCN     1163.0000\n",
       "Name: ENSG00000169429.10, Length: 755, dtype: float64"
      ]
     },
     "execution_count": 12,
     "metadata": {},
     "output_type": "execute_result"
    }
   ],
   "source": [
    "gene_expr_dict[list(gene_expr_dict.keys())[0]]"
   ]
  },
  {
   "cell_type": "markdown",
   "id": "b030f506-2fe9-4895-a8a1-51374e88c496",
   "metadata": {
    "papermill": {
     "duration": 0.027094,
     "end_time": "2022-01-27T18:00:35.069802",
     "exception": false,
     "start_time": "2022-01-27T18:00:35.042708",
     "status": "completed"
    },
    "tags": []
   },
   "source": [
    "## Gene pairs intersection"
   ]
  },
  {
   "cell_type": "code",
   "execution_count": 13,
   "id": "da1d768a-fbfb-40e8-8fbb-790d1a94aa83",
   "metadata": {
    "execution": {
     "iopub.execute_input": "2022-01-27T18:00:35.126531Z",
     "iopub.status.busy": "2022-01-27T18:00:35.126081Z",
     "iopub.status.idle": "2022-01-27T18:00:35.127544Z",
     "shell.execute_reply": "2022-01-27T18:00:35.127916Z"
    },
    "papermill": {
     "duration": 0.031491,
     "end_time": "2022-01-27T18:00:35.128041",
     "exception": false,
     "start_time": "2022-01-27T18:00:35.096550",
     "status": "completed"
    },
    "tags": []
   },
   "outputs": [],
   "source": [
    "# intersections = pd.read_pickle(INPUT_GENE_PAIRS_INTERSECTIONS_FILE)"
   ]
  },
  {
   "cell_type": "code",
   "execution_count": 14,
   "id": "6123d474-0c0d-4771-9678-248ce89424ce",
   "metadata": {
    "execution": {
     "iopub.execute_input": "2022-01-27T18:00:35.185537Z",
     "iopub.status.busy": "2022-01-27T18:00:35.185083Z",
     "iopub.status.idle": "2022-01-27T18:00:35.187147Z",
     "shell.execute_reply": "2022-01-27T18:00:35.186748Z"
    },
    "papermill": {
     "duration": 0.031579,
     "end_time": "2022-01-27T18:00:35.187247",
     "exception": false,
     "start_time": "2022-01-27T18:00:35.155668",
     "status": "completed"
    },
    "tags": []
   },
   "outputs": [],
   "source": [
    "# len(intersections)"
   ]
  },
  {
   "cell_type": "code",
   "execution_count": 15,
   "id": "1b817194-a9c3-4f53-8d0f-1ee8faa36bfe",
   "metadata": {
    "execution": {
     "iopub.execute_input": "2022-01-27T18:00:35.245354Z",
     "iopub.status.busy": "2022-01-27T18:00:35.244906Z",
     "iopub.status.idle": "2022-01-27T18:00:35.247129Z",
     "shell.execute_reply": "2022-01-27T18:00:35.246687Z"
    },
    "papermill": {
     "duration": 0.03221,
     "end_time": "2022-01-27T18:00:35.247223",
     "exception": false,
     "start_time": "2022-01-27T18:00:35.215013",
     "status": "completed"
    },
    "tags": []
   },
   "outputs": [],
   "source": [
    "# intersections[\"Clustermatch (high), Pearson (high), Spearman (high)\"]"
   ]
  },
  {
   "cell_type": "markdown",
   "id": "9e1b78f3-8f43-411a-acb7-4646b4979034",
   "metadata": {
    "papermill": {
     "duration": 0.02664,
     "end_time": "2022-01-27T18:00:35.300962",
     "exception": false,
     "start_time": "2022-01-27T18:00:35.274322",
     "status": "completed"
    },
    "tags": []
   },
   "source": [
    "# Compute Maximal Information Coefficient (MIC)"
   ]
  },
  {
   "cell_type": "markdown",
   "id": "f31225f0-ce8b-48aa-97a6-d69afcb8732a",
   "metadata": {
    "papermill": {
     "duration": 0.026793,
     "end_time": "2022-01-27T18:00:35.354509",
     "exception": false,
     "start_time": "2022-01-27T18:00:35.327716",
     "status": "completed"
    },
    "tags": []
   },
   "source": [
    "## Functions"
   ]
  },
  {
   "cell_type": "code",
   "execution_count": 16,
   "id": "1851477c-1c94-456d-949b-012b8984a434",
   "metadata": {
    "execution": {
     "iopub.execute_input": "2022-01-27T18:00:35.411861Z",
     "iopub.status.busy": "2022-01-27T18:00:35.411399Z",
     "iopub.status.idle": "2022-01-27T18:00:35.650731Z",
     "shell.execute_reply": "2022-01-27T18:00:35.650278Z"
    },
    "papermill": {
     "duration": 0.269633,
     "end_time": "2022-01-27T18:00:35.650828",
     "exception": false,
     "start_time": "2022-01-27T18:00:35.381195",
     "status": "completed"
    },
    "tags": []
   },
   "outputs": [],
   "source": [
    "import warnings\n",
    "from sklearn.metrics import pairwise_distances\n",
    "from minepy.mine import MINE"
   ]
  },
  {
   "cell_type": "code",
   "execution_count": 17,
   "id": "0adf1172-acc5-4c35-a3ab-aed6de9770c4",
   "metadata": {
    "execution": {
     "iopub.execute_input": "2022-01-27T18:00:35.709936Z",
     "iopub.status.busy": "2022-01-27T18:00:35.709496Z",
     "iopub.status.idle": "2022-01-27T18:00:35.711664Z",
     "shell.execute_reply": "2022-01-27T18:00:35.711215Z"
    },
    "papermill": {
     "duration": 0.033422,
     "end_time": "2022-01-27T18:00:35.711759",
     "exception": false,
     "start_time": "2022-01-27T18:00:35.678337",
     "status": "completed"
    },
    "tags": []
   },
   "outputs": [],
   "source": [
    "def _mic(x, y):\n",
    "    \"\"\"\n",
    "    FIXME: move to library\n",
    "    \"\"\"\n",
    "    with warnings.catch_warnings():\n",
    "        warnings.filterwarnings(\"ignore\", category=DeprecationWarning)\n",
    "\n",
    "        mine = MINE(alpha=0.6, c=15, est=\"mic_approx\")\n",
    "        mine.compute_score(x, y)\n",
    "        return mine.mic()"
   ]
  },
  {
   "cell_type": "code",
   "execution_count": 18,
   "id": "cd837842-665d-4214-affe-af9c951bd154",
   "metadata": {
    "execution": {
     "iopub.execute_input": "2022-01-27T18:00:35.771352Z",
     "iopub.status.busy": "2022-01-27T18:00:35.770846Z",
     "iopub.status.idle": "2022-01-27T18:00:35.772850Z",
     "shell.execute_reply": "2022-01-27T18:00:35.773215Z"
    },
    "papermill": {
     "duration": 0.033849,
     "end_time": "2022-01-27T18:00:35.773330",
     "exception": false,
     "start_time": "2022-01-27T18:00:35.739481",
     "status": "completed"
    },
    "tags": []
   },
   "outputs": [
    {
     "data": {
      "text/plain": [
       "0.2364527976600289"
      ]
     },
     "execution_count": 18,
     "metadata": {},
     "output_type": "execute_result"
    }
   ],
   "source": [
    "_mic(np.random.rand(10), np.random.rand(10))"
   ]
  },
  {
   "cell_type": "markdown",
   "id": "b9a14ad1-ffd2-4b16-98b2-658634dccd21",
   "metadata": {
    "papermill": {
     "duration": 0.027407,
     "end_time": "2022-01-27T18:00:35.828896",
     "exception": false,
     "start_time": "2022-01-27T18:00:35.801489",
     "status": "completed"
    },
    "tags": []
   },
   "source": [
    "## Get all sample files"
   ]
  },
  {
   "cell_type": "code",
   "execution_count": 19,
   "id": "022f616c-3dd2-47f8-9360-286d1dc08bab",
   "metadata": {
    "execution": {
     "iopub.execute_input": "2022-01-27T18:00:35.889150Z",
     "iopub.status.busy": "2022-01-27T18:00:35.888704Z",
     "iopub.status.idle": "2022-01-27T18:00:35.890886Z",
     "shell.execute_reply": "2022-01-27T18:00:35.890437Z"
    },
    "papermill": {
     "duration": 0.033807,
     "end_time": "2022-01-27T18:00:35.890980",
     "exception": false,
     "start_time": "2022-01-27T18:00:35.857173",
     "status": "completed"
    },
    "tags": []
   },
   "outputs": [],
   "source": [
    "all_sample_files = []\n",
    "\n",
    "sample_id = 0\n",
    "sample_file = Path(INPUT_GENE_PAIRS_FILE_TEMPLATE.format(sample_id=sample_id))\n",
    "\n",
    "while sample_file.exists():\n",
    "    all_sample_files.append((sample_id, sample_file))\n",
    "\n",
    "    sample_id += 1\n",
    "    sample_file = Path(INPUT_GENE_PAIRS_FILE_TEMPLATE.format(sample_id=sample_id))"
   ]
  },
  {
   "cell_type": "code",
   "execution_count": 20,
   "id": "f0af34fd-19ac-4d74-a3e4-399f70c049ac",
   "metadata": {
    "execution": {
     "iopub.execute_input": "2022-01-27T18:00:35.949641Z",
     "iopub.status.busy": "2022-01-27T18:00:35.949182Z",
     "iopub.status.idle": "2022-01-27T18:00:35.950597Z",
     "shell.execute_reply": "2022-01-27T18:00:35.950958Z"
    },
    "papermill": {
     "duration": 0.032229,
     "end_time": "2022-01-27T18:00:35.951073",
     "exception": false,
     "start_time": "2022-01-27T18:00:35.918844",
     "status": "completed"
    },
    "tags": []
   },
   "outputs": [],
   "source": [
    "# all_sample_files = sorted(\n",
    "#     list(\n",
    "#         INPUT_GENE_PAIRS_FILE.parent.glob(INPUT_GENE_PAIRS_FILE.name.format(sample_id=\"*\"))\n",
    "#     )\n",
    "# )"
   ]
  },
  {
   "cell_type": "code",
   "execution_count": 21,
   "id": "4f169abf-2009-482c-9df3-b502c4f56641",
   "metadata": {
    "execution": {
     "iopub.execute_input": "2022-01-27T18:00:36.010926Z",
     "iopub.status.busy": "2022-01-27T18:00:36.010348Z",
     "iopub.status.idle": "2022-01-27T18:00:36.012978Z",
     "shell.execute_reply": "2022-01-27T18:00:36.012541Z"
    },
    "papermill": {
     "duration": 0.033831,
     "end_time": "2022-01-27T18:00:36.013071",
     "exception": false,
     "start_time": "2022-01-27T18:00:35.979240",
     "status": "completed"
    },
    "tags": []
   },
   "outputs": [
    {
     "data": {
      "text/plain": [
       "1"
      ]
     },
     "execution_count": 21,
     "metadata": {},
     "output_type": "execute_result"
    }
   ],
   "source": [
    "len(all_sample_files)"
   ]
  },
  {
   "cell_type": "code",
   "execution_count": 22,
   "id": "f49ac615-436b-4abc-8f72-06f50907c70d",
   "metadata": {
    "execution": {
     "iopub.execute_input": "2022-01-27T18:00:36.074189Z",
     "iopub.status.busy": "2022-01-27T18:00:36.073668Z",
     "iopub.status.idle": "2022-01-27T18:00:36.075808Z",
     "shell.execute_reply": "2022-01-27T18:00:36.076205Z"
    },
    "papermill": {
     "duration": 0.034538,
     "end_time": "2022-01-27T18:00:36.076319",
     "exception": false,
     "start_time": "2022-01-27T18:00:36.041781",
     "status": "completed"
    },
    "tags": []
   },
   "outputs": [
    {
     "data": {
      "text/plain": [
       "[(0,\n",
       "  PosixPath('/opt/data/results/gtex_v8/gene_selection/samples/gtex_v8_data_whole_blood-var_pc_log2-gene_pairs-sample_0.pkl'))]"
      ]
     },
     "execution_count": 22,
     "metadata": {},
     "output_type": "execute_result"
    }
   ],
   "source": [
    "all_sample_files[:3]"
   ]
  },
  {
   "cell_type": "markdown",
   "id": "96315853-ea9d-4417-b224-31b3bbdf7553",
   "metadata": {
    "papermill": {
     "duration": 0.029419,
     "end_time": "2022-01-27T18:00:36.135066",
     "exception": false,
     "start_time": "2022-01-27T18:00:36.105647",
     "status": "completed"
    },
    "tags": []
   },
   "source": [
    "## Run"
   ]
  },
  {
   "cell_type": "code",
   "execution_count": 23,
   "id": "0f516a3e-0f64-42d3-b32d-9de6563b2df4",
   "metadata": {
    "execution": {
     "iopub.execute_input": "2022-01-27T18:00:36.196306Z",
     "iopub.status.busy": "2022-01-27T18:00:36.195781Z",
     "iopub.status.idle": "2022-01-27T18:00:36.220989Z",
     "shell.execute_reply": "2022-01-27T18:00:36.220476Z"
    },
    "papermill": {
     "duration": 0.057586,
     "end_time": "2022-01-27T18:00:36.221088",
     "exception": false,
     "start_time": "2022-01-27T18:00:36.163502",
     "status": "completed"
    },
    "tags": []
   },
   "outputs": [],
   "source": [
    "from concurrent.futures import ProcessPoolExecutor, as_completed\n",
    "from collections import defaultdict\n",
    "\n",
    "from tqdm import tqdm\n",
    "\n",
    "from clustermatch.utils import chunker"
   ]
  },
  {
   "cell_type": "code",
   "execution_count": 24,
   "id": "f2d70e9a-42df-483a-86d2-7fb59f425166",
   "metadata": {
    "execution": {
     "iopub.execute_input": "2022-01-27T18:00:36.283269Z",
     "iopub.status.busy": "2022-01-27T18:00:36.282812Z",
     "iopub.status.idle": "2022-01-27T18:00:36.284301Z",
     "shell.execute_reply": "2022-01-27T18:00:36.284660Z"
    },
    "papermill": {
     "duration": 0.034077,
     "end_time": "2022-01-27T18:00:36.284775",
     "exception": false,
     "start_time": "2022-01-27T18:00:36.250698",
     "status": "completed"
    },
    "tags": []
   },
   "outputs": [],
   "source": [
    "def _compute_mic(gene_sets: list):\n",
    "    res = [\n",
    "        _mic(gene_expr_dict[gs[0]].to_numpy(), gene_expr_dict[gs[1]].to_numpy())\n",
    "        for gs in gene_sets\n",
    "    ]\n",
    "\n",
    "    return pd.Series(res, index=pd.MultiIndex.from_tuples(gene_sets))"
   ]
  },
  {
   "cell_type": "code",
   "execution_count": 25,
   "id": "3a16f0f9-9af0-49a4-a293-f51f58f46de3",
   "metadata": {
    "execution": {
     "iopub.execute_input": "2022-01-27T18:00:36.351421Z",
     "iopub.status.busy": "2022-01-27T18:00:36.350953Z",
     "iopub.status.idle": "2022-01-27T18:00:37.239363Z",
     "shell.execute_reply": "2022-01-27T18:00:37.239735Z"
    },
    "papermill": {
     "duration": 0.925277,
     "end_time": "2022-01-27T18:00:37.239856",
     "exception": false,
     "start_time": "2022-01-27T18:00:36.314579",
     "status": "completed"
    },
    "tags": []
   },
   "outputs": [
    {
     "data": {
      "text/html": [
       "<div>\n",
       "<style scoped>\n",
       "    .dataframe tbody tr th:only-of-type {\n",
       "        vertical-align: middle;\n",
       "    }\n",
       "\n",
       "    .dataframe tbody tr th {\n",
       "        vertical-align: top;\n",
       "    }\n",
       "\n",
       "    .dataframe thead th {\n",
       "        text-align: right;\n",
       "    }\n",
       "</style>\n",
       "<table border=\"1\" class=\"dataframe\">\n",
       "  <thead>\n",
       "    <tr style=\"text-align: right;\">\n",
       "      <th></th>\n",
       "      <th>gene0</th>\n",
       "      <th>gene1</th>\n",
       "    </tr>\n",
       "  </thead>\n",
       "  <tbody>\n",
       "    <tr>\n",
       "      <th>4261563</th>\n",
       "      <td>ENSG00000132965.9</td>\n",
       "      <td>ENSG00000215717.5</td>\n",
       "    </tr>\n",
       "    <tr>\n",
       "      <th>9231599</th>\n",
       "      <td>ENSG00000160305.17</td>\n",
       "      <td>ENSG00000146285.13</td>\n",
       "    </tr>\n",
       "    <tr>\n",
       "      <th>2220463</th>\n",
       "      <td>ENSG00000198851.9</td>\n",
       "      <td>ENSG00000076382.16</td>\n",
       "    </tr>\n",
       "    <tr>\n",
       "      <th>8687958</th>\n",
       "      <td>ENSG00000277443.2</td>\n",
       "      <td>ENSG00000211883.1</td>\n",
       "    </tr>\n",
       "    <tr>\n",
       "      <th>636227</th>\n",
       "      <td>ENSG00000127954.12</td>\n",
       "      <td>ENSG00000111652.9</td>\n",
       "    </tr>\n",
       "    <tr>\n",
       "      <th>11430922</th>\n",
       "      <td>ENSG00000112406.4</td>\n",
       "      <td>ENSG00000141497.13</td>\n",
       "    </tr>\n",
       "    <tr>\n",
       "      <th>4920103</th>\n",
       "      <td>ENSG00000163586.9</td>\n",
       "      <td>ENSG00000130066.16</td>\n",
       "    </tr>\n",
       "    <tr>\n",
       "      <th>4989708</th>\n",
       "      <td>ENSG00000160808.9</td>\n",
       "      <td>ENSG00000116209.11</td>\n",
       "    </tr>\n",
       "    <tr>\n",
       "      <th>5538692</th>\n",
       "      <td>ENSG00000280088.1</td>\n",
       "      <td>ENSG00000110031.12</td>\n",
       "    </tr>\n",
       "    <tr>\n",
       "      <th>7697744</th>\n",
       "      <td>ENSG00000204103.3</td>\n",
       "      <td>ENSG00000168887.10</td>\n",
       "    </tr>\n",
       "  </tbody>\n",
       "</table>\n",
       "</div>"
      ],
      "text/plain": [
       "                       gene0               gene1\n",
       "4261563    ENSG00000132965.9   ENSG00000215717.5\n",
       "9231599   ENSG00000160305.17  ENSG00000146285.13\n",
       "2220463    ENSG00000198851.9  ENSG00000076382.16\n",
       "8687958    ENSG00000277443.2   ENSG00000211883.1\n",
       "636227    ENSG00000127954.12   ENSG00000111652.9\n",
       "11430922   ENSG00000112406.4  ENSG00000141497.13\n",
       "4920103    ENSG00000163586.9  ENSG00000130066.16\n",
       "4989708    ENSG00000160808.9  ENSG00000116209.11\n",
       "5538692    ENSG00000280088.1  ENSG00000110031.12\n",
       "7697744    ENSG00000204103.3  ENSG00000168887.10"
      ]
     },
     "metadata": {},
     "output_type": "display_data"
    },
    {
     "data": {
      "text/plain": [
       "(10,)"
      ]
     },
     "metadata": {},
     "output_type": "display_data"
    },
    {
     "data": {
      "text/plain": [
       "ENSG00000132965.9   ENSG00000215717.5     0.320085\n",
       "ENSG00000160305.17  ENSG00000146285.13    0.377725\n",
       "ENSG00000198851.9   ENSG00000076382.16    0.348644\n",
       "ENSG00000277443.2   ENSG00000211883.1     0.149447\n",
       "ENSG00000127954.12  ENSG00000111652.9     0.606960\n",
       "dtype: float64"
      ]
     },
     "metadata": {},
     "output_type": "display_data"
    }
   ],
   "source": [
    "# testing\n",
    "# gene_set_key = \"Clustermatch (high), Pearson (high), Spearman (high)\"\n",
    "gene_set = pd.read_pickle(all_sample_files[0][1]).sample(n=10)\n",
    "display(gene_set)\n",
    "\n",
    "_res = _compute_mic(list(gene_set.itertuples(index=False)))\n",
    "display(_res.shape)\n",
    "display(_res.head())\n",
    "\n",
    "# make sure order is preserved\n",
    "assert _res.index.to_list() == list(gene_set.itertuples(index=False, name=None))"
   ]
  },
  {
   "cell_type": "code",
   "execution_count": 26,
   "id": "df927e8f-203d-41df-a5f1-25d6c9a43d53",
   "metadata": {
    "execution": {
     "iopub.execute_input": "2022-01-27T18:00:37.308405Z",
     "iopub.status.busy": "2022-01-27T18:00:37.307948Z",
     "iopub.status.idle": "2022-01-27T18:00:37.319118Z",
     "shell.execute_reply": "2022-01-27T18:00:37.318678Z"
    },
    "papermill": {
     "duration": 0.048628,
     "end_time": "2022-01-27T18:00:37.319215",
     "exception": false,
     "start_time": "2022-01-27T18:00:37.270587",
     "status": "completed"
    },
    "tags": []
   },
   "outputs": [],
   "source": [
    "all_chunks = []\n",
    "\n",
    "for (sample_id, sample_file) in all_sample_files:\n",
    "    gene_pairs_df = pd.read_pickle(sample_file)\n",
    "    gene_pairs_subset = list(gene_pairs_df.itertuples(index=False, name=None))\n",
    "\n",
    "    for chunk in list(chunker(gene_pairs_subset, CHUNK_SIZE)):\n",
    "        all_chunks.append((sample_id, chunk))"
   ]
  },
  {
   "cell_type": "code",
   "execution_count": 27,
   "id": "3ba05517-1b61-40ee-8333-17e1a2088de9",
   "metadata": {
    "execution": {
     "iopub.execute_input": "2022-01-27T18:00:37.383901Z",
     "iopub.status.busy": "2022-01-27T18:00:37.383242Z",
     "iopub.status.idle": "2022-01-27T18:00:37.386236Z",
     "shell.execute_reply": "2022-01-27T18:00:37.385803Z"
    },
    "papermill": {
     "duration": 0.036138,
     "end_time": "2022-01-27T18:00:37.386328",
     "exception": false,
     "start_time": "2022-01-27T18:00:37.350190",
     "status": "completed"
    },
    "tags": []
   },
   "outputs": [
    {
     "data": {
      "text/plain": [
       "330"
      ]
     },
     "execution_count": 27,
     "metadata": {},
     "output_type": "execute_result"
    }
   ],
   "source": [
    "len(all_chunks)"
   ]
  },
  {
   "cell_type": "code",
   "execution_count": 28,
   "id": "5b2aec09-987c-4506-87c2-5d9e8107d9ca",
   "metadata": {
    "execution": {
     "iopub.execute_input": "2022-01-27T18:00:37.460152Z",
     "iopub.status.busy": "2022-01-27T18:00:37.459623Z",
     "iopub.status.idle": "2022-01-27T18:00:37.466819Z",
     "shell.execute_reply": "2022-01-27T18:00:37.466337Z"
    },
    "papermill": {
     "duration": 0.050289,
     "end_time": "2022-01-27T18:00:37.466922",
     "exception": false,
     "start_time": "2022-01-27T18:00:37.416633",
     "status": "completed"
    },
    "tags": []
   },
   "outputs": [
    {
     "data": {
      "text/plain": [
       "[(0,\n",
       "  [('ENSG00000161217.11', 'ENSG00000248527.1'),\n",
       "   ('ENSG00000106927.11', 'ENSG00000136929.12'),\n",
       "   ('ENSG00000177156.10', 'ENSG00000156711.16'),\n",
       "   ('ENSG00000197965.11', 'ENSG00000272155.1'),\n",
       "   ('ENSG00000278330.1', 'ENSG00000179387.9'),\n",
       "   ('ENSG00000275993.2', 'ENSG00000119929.12'),\n",
       "   ('ENSG00000143771.11', 'ENSG00000213341.10'),\n",
       "   ('ENSG00000173391.8', 'ENSG00000110422.11'),\n",
       "   ('ENSG00000138326.18', 'ENSG00000242473.1'),\n",
       "   ('ENSG00000268433.1', 'ENSG00000187808.4'),\n",
       "   ('ENSG00000117616.17', 'ENSG00000173020.10'),\n",
       "   ('ENSG00000211959.2', 'ENSG00000008083.13'),\n",
       "   ('ENSG00000161835.10', 'ENSG00000013306.15'),\n",
       "   ('ENSG00000079432.7', 'ENSG00000025770.18'),\n",
       "   ('ENSG00000124102.4', 'ENSG00000124357.12'),\n",
       "   ('ENSG00000168903.8', 'ENSG00000204394.12'),\n",
       "   ('ENSG00000101096.19', 'ENSG00000160683.4'),\n",
       "   ('ENSG00000115541.10', 'ENSG00000267990.1'),\n",
       "   ('ENSG00000187808.4', 'ENSG00000179869.14'),\n",
       "   ('ENSG00000168010.10', 'ENSG00000197579.7'),\n",
       "   ('ENSG00000136872.17', 'ENSG00000121454.5'),\n",
       "   ('ENSG00000101096.19', 'ENSG00000213658.11'),\n",
       "   ('ENSG00000126858.16', 'ENSG00000165572.7'),\n",
       "   ('ENSG00000121053.5', 'ENSG00000258666.1'),\n",
       "   ('ENSG00000174171.5', 'ENSG00000164307.12'),\n",
       "   ('ENSG00000229598.1', 'ENSG00000148925.10'),\n",
       "   ('ENSG00000084733.10', 'ENSG00000267102.1'),\n",
       "   ('ENSG00000130755.12', 'ENSG00000189190.9'),\n",
       "   ('ENSG00000134830.5', 'ENSG00000135828.11'),\n",
       "   ('ENSG00000171777.15', 'ENSG00000198771.10'),\n",
       "   ('ENSG00000160683.4', 'ENSG00000161929.14'),\n",
       "   ('ENSG00000156642.16', 'ENSG00000280138.1'),\n",
       "   ('ENSG00000229754.1', 'ENSG00000079950.13'),\n",
       "   ('ENSG00000169032.9', 'ENSG00000148297.15'),\n",
       "   ('ENSG00000269892.1', 'ENSG00000100319.12'),\n",
       "   ('ENSG00000112195.8', 'ENSG00000260121.1'),\n",
       "   ('ENSG00000170180.19', 'ENSG00000237943.6'),\n",
       "   ('ENSG00000197249.13', 'ENSG00000265298.1'),\n",
       "   ('ENSG00000260465.1', 'ENSG00000205581.10'),\n",
       "   ('ENSG00000170006.11', 'ENSG00000159753.13'),\n",
       "   ('ENSG00000086548.8', 'ENSG00000159140.19'),\n",
       "   ('ENSG00000137078.8', 'ENSG00000174574.15'),\n",
       "   ('ENSG00000147872.9', 'ENSG00000263934.4'),\n",
       "   ('ENSG00000233306.2', 'ENSG00000224975.1'),\n",
       "   ('ENSG00000104918.7', 'ENSG00000235192.1'),\n",
       "   ('ENSG00000104490.17', 'ENSG00000211455.7'),\n",
       "   ('ENSG00000018280.16', 'ENSG00000163348.3'),\n",
       "   ('ENSG00000224650.2', 'ENSG00000270127.2'),\n",
       "   ('ENSG00000158089.14', 'ENSG00000100393.12'),\n",
       "   ('ENSG00000166428.12', 'ENSG00000167642.12'),\n",
       "   ('ENSG00000198814.12', 'ENSG00000189067.12'),\n",
       "   ('ENSG00000213442.5', 'ENSG00000229754.1'),\n",
       "   ('ENSG00000087903.12', 'ENSG00000163131.10'),\n",
       "   ('ENSG00000254087.7', 'ENSG00000082701.14'),\n",
       "   ('ENSG00000096968.13', 'ENSG00000176018.12'),\n",
       "   ('ENSG00000129351.17', 'ENSG00000057608.16'),\n",
       "   ('ENSG00000076641.4', 'ENSG00000164211.12'),\n",
       "   ('ENSG00000178726.6', 'ENSG00000147604.13'),\n",
       "   ('ENSG00000157343.8', 'ENSG00000101558.13'),\n",
       "   ('ENSG00000239732.3', 'ENSG00000171860.4'),\n",
       "   ('ENSG00000242887.1', 'ENSG00000097033.14'),\n",
       "   ('ENSG00000125910.5', 'ENSG00000058063.15'),\n",
       "   ('ENSG00000236397.3', 'ENSG00000086598.10'),\n",
       "   ('ENSG00000242574.8', 'ENSG00000122515.14'),\n",
       "   ('ENSG00000211648.2', 'ENSG00000108622.10'),\n",
       "   ('ENSG00000111674.8', 'ENSG00000151553.14'),\n",
       "   ('ENSG00000093144.18', 'ENSG00000175193.13'),\n",
       "   ('ENSG00000186594.14', 'ENSG00000143382.14'),\n",
       "   ('ENSG00000177791.11', 'ENSG00000253210.1'),\n",
       "   ('ENSG00000211752.3', 'ENSG00000117859.18'),\n",
       "   ('ENSG00000203644.3', 'ENSG00000150347.14'),\n",
       "   ('ENSG00000240527.1', 'ENSG00000033100.16'),\n",
       "   ('ENSG00000108179.13', 'ENSG00000126883.16'),\n",
       "   ('ENSG00000100300.17', 'ENSG00000212743.2'),\n",
       "   ('ENSG00000175489.9', 'ENSG00000271032.1'),\n",
       "   ('ENSG00000132661.3', 'ENSG00000088827.12'),\n",
       "   ('ENSG00000182568.16', 'ENSG00000130255.12'),\n",
       "   ('ENSG00000119986.6', 'ENSG00000178607.15'),\n",
       "   ('ENSG00000198851.9', 'ENSG00000117399.13'),\n",
       "   ('ENSG00000152463.14', 'ENSG00000180667.10'),\n",
       "   ('ENSG00000118113.11', 'ENSG00000170477.12'),\n",
       "   ('ENSG00000225523.2', 'ENSG00000197579.7'),\n",
       "   ('ENSG00000175535.6', 'ENSG00000140044.12'),\n",
       "   ('ENSG00000269246.1', 'ENSG00000135241.16'),\n",
       "   ('ENSG00000120690.15', 'ENSG00000203804.4'),\n",
       "   ('ENSG00000108061.11', 'ENSG00000235245.1'),\n",
       "   ('ENSG00000116824.4', 'ENSG00000214530.8'),\n",
       "   ('ENSG00000153310.19', 'ENSG00000088827.12'),\n",
       "   ('ENSG00000227097.5', 'ENSG00000170043.11'),\n",
       "   ('ENSG00000188643.10', 'ENSG00000138802.11'),\n",
       "   ('ENSG00000118900.14', 'ENSG00000178971.13'),\n",
       "   ('ENSG00000064999.13', 'ENSG00000169554.18'),\n",
       "   ('ENSG00000277548.1', 'ENSG00000162434.11'),\n",
       "   ('ENSG00000174151.14', 'ENSG00000141458.12'),\n",
       "   ('ENSG00000127125.8', 'ENSG00000100097.11'),\n",
       "   ('ENSG00000113580.14', 'ENSG00000189043.9'),\n",
       "   ('ENSG00000180061.9', 'ENSG00000268758.7'),\n",
       "   ('ENSG00000182487.12', 'ENSG00000260923.6'),\n",
       "   ('ENSG00000185101.12', 'ENSG00000113282.13'),\n",
       "   ('ENSG00000171611.9', 'ENSG00000204525.16')]),\n",
       " (0,\n",
       "  [('ENSG00000198089.15', 'ENSG00000176893.4'),\n",
       "   ('ENSG00000118518.15', 'ENSG00000067225.17'),\n",
       "   ('ENSG00000136997.16', 'ENSG00000168300.13'),\n",
       "   ('ENSG00000135870.11', 'ENSG00000138802.11'),\n",
       "   ('ENSG00000143185.3', 'ENSG00000047365.11'),\n",
       "   ('ENSG00000211911.1', 'ENSG00000113593.11'),\n",
       "   ('ENSG00000125657.4', 'ENSG00000259268.1'),\n",
       "   ('ENSG00000160785.13', 'ENSG00000211749.1'),\n",
       "   ('ENSG00000114854.7', 'ENSG00000164125.15'),\n",
       "   ('ENSG00000275302.1', 'ENSG00000165929.12'),\n",
       "   ('ENSG00000169413.2', 'ENSG00000163191.5'),\n",
       "   ('ENSG00000113368.11', 'ENSG00000082898.16'),\n",
       "   ('ENSG00000179094.15', 'ENSG00000142512.14'),\n",
       "   ('ENSG00000196636.7', 'ENSG00000148660.20'),\n",
       "   ('ENSG00000102897.9', 'ENSG00000211917.1'),\n",
       "   ('ENSG00000145386.9', 'ENSG00000146083.11'),\n",
       "   ('ENSG00000088298.12', 'ENSG00000111652.9'),\n",
       "   ('ENSG00000100580.7', 'ENSG00000276317.1'),\n",
       "   ('ENSG00000103335.21', 'ENSG00000019991.15'),\n",
       "   ('ENSG00000010810.17', 'ENSG00000204237.4'),\n",
       "   ('ENSG00000186081.11', 'ENSG00000189241.6'),\n",
       "   ('ENSG00000125735.10', 'ENSG00000068831.18'),\n",
       "   ('ENSG00000077984.5', 'ENSG00000225460.1'),\n",
       "   ('ENSG00000163600.12', 'ENSG00000211445.11'),\n",
       "   ('ENSG00000124491.15', 'ENSG00000197971.14'),\n",
       "   ('ENSG00000157303.10', 'ENSG00000177963.14'),\n",
       "   ('ENSG00000115129.13', 'ENSG00000064763.10'),\n",
       "   ('ENSG00000134242.15', 'ENSG00000262006.1'),\n",
       "   ('ENSG00000267317.2', 'ENSG00000196757.7'),\n",
       "   ('ENSG00000120306.9', 'ENSG00000227591.5'),\n",
       "   ('ENSG00000273669.1', 'ENSG00000179978.11'),\n",
       "   ('ENSG00000211934.3', 'ENSG00000231500.6'),\n",
       "   ('ENSG00000253755.1', 'ENSG00000235081.1'),\n",
       "   ('ENSG00000115129.13', 'ENSG00000179978.11'),\n",
       "   ('ENSG00000180871.7', 'ENSG00000279520.1'),\n",
       "   ('ENSG00000077984.5', 'ENSG00000147459.17'),\n",
       "   ('ENSG00000172243.17', 'ENSG00000005844.17'),\n",
       "   ('ENSG00000232254.1', 'ENSG00000167703.14'),\n",
       "   ('ENSG00000184260.5', 'ENSG00000138768.14'),\n",
       "   ('ENSG00000151553.14', 'ENSG00000120686.11'),\n",
       "   ('ENSG00000258476.5', 'ENSG00000141753.6'),\n",
       "   ('ENSG00000136280.15', 'ENSG00000136235.15'),\n",
       "   ('ENSG00000064547.13', 'ENSG00000235245.1'),\n",
       "   ('ENSG00000257878.1', 'ENSG00000131873.5'),\n",
       "   ('ENSG00000119508.17', 'ENSG00000123329.17'),\n",
       "   ('ENSG00000225402.1', 'ENSG00000167548.14'),\n",
       "   ('ENSG00000135083.14', 'ENSG00000173171.14'),\n",
       "   ('ENSG00000164751.14', 'ENSG00000127666.9'),\n",
       "   ('ENSG00000059122.16', 'ENSG00000170540.14'),\n",
       "   ('ENSG00000135870.11', 'ENSG00000115866.10'),\n",
       "   ('ENSG00000101082.13', 'ENSG00000184602.5'),\n",
       "   ('ENSG00000125691.12', 'ENSG00000106992.17'),\n",
       "   ('ENSG00000139436.20', 'ENSG00000183087.14'),\n",
       "   ('ENSG00000267074.1', 'ENSG00000008282.8'),\n",
       "   ('ENSG00000167286.9', 'ENSG00000105835.11'),\n",
       "   ('ENSG00000211974.3', 'ENSG00000134970.13'),\n",
       "   ('ENSG00000102897.9', 'ENSG00000051128.18'),\n",
       "   ('ENSG00000198734.10', 'ENSG00000054654.16'),\n",
       "   ('ENSG00000198001.13', 'ENSG00000086666.18'),\n",
       "   ('ENSG00000133063.15', 'ENSG00000149294.16'),\n",
       "   ('ENSG00000136235.15', 'ENSG00000033327.12'),\n",
       "   ('ENSG00000211768.1', 'ENSG00000267102.1'),\n",
       "   ('ENSG00000123610.4', 'ENSG00000235119.1'),\n",
       "   ('ENSG00000109906.13', 'ENSG00000110651.11'),\n",
       "   ('ENSG00000169131.11', 'ENSG00000240409.1'),\n",
       "   ('ENSG00000155307.17', 'ENSG00000134186.11'),\n",
       "   ('ENSG00000200530.1', 'ENSG00000100558.8'),\n",
       "   ('ENSG00000281896.1', 'ENSG00000013364.18'),\n",
       "   ('ENSG00000171823.6', 'ENSG00000169032.9'),\n",
       "   ('ENSG00000007312.12', 'ENSG00000101439.8'),\n",
       "   ('ENSG00000154146.12', 'ENSG00000130589.16'),\n",
       "   ('ENSG00000148459.15', 'ENSG00000225808.1'),\n",
       "   ('ENSG00000179840.5', 'ENSG00000234518.2'),\n",
       "   ('ENSG00000116213.15', 'ENSG00000091140.13'),\n",
       "   ('ENSG00000172005.10', 'ENSG00000271869.1'),\n",
       "   ('ENSG00000212283.1', 'ENSG00000137198.9'),\n",
       "   ('ENSG00000005020.12', 'ENSG00000126261.12'),\n",
       "   ('ENSG00000065243.19', 'ENSG00000281896.1'),\n",
       "   ('ENSG00000187808.4', 'ENSG00000119682.16'),\n",
       "   ('ENSG00000198821.10', 'ENSG00000100926.14'),\n",
       "   ('ENSG00000108984.13', 'ENSG00000156642.16'),\n",
       "   ('ENSG00000102837.6', 'ENSG00000100030.14'),\n",
       "   ('ENSG00000156642.16', 'ENSG00000270015.1'),\n",
       "   ('ENSG00000108309.13', 'ENSG00000100926.14'),\n",
       "   ('ENSG00000235863.3', 'ENSG00000229390.1'),\n",
       "   ('ENSG00000123358.19', 'ENSG00000178573.6'),\n",
       "   ('ENSG00000225873.3', 'ENSG00000136371.10'),\n",
       "   ('ENSG00000104419.14', 'ENSG00000213079.9'),\n",
       "   ('ENSG00000153283.12', 'ENSG00000161036.12'),\n",
       "   ('ENSG00000140678.16', 'ENSG00000176978.13'),\n",
       "   ('ENSG00000211970.3', 'ENSG00000111276.10'),\n",
       "   ('ENSG00000224397.5', 'ENSG00000134802.17'),\n",
       "   ('ENSG00000152766.5', 'ENSG00000138814.16'),\n",
       "   ('ENSG00000072110.13', 'ENSG00000280407.2'),\n",
       "   ('ENSG00000023445.13', 'ENSG00000189266.11'),\n",
       "   ('ENSG00000249173.5', 'ENSG00000231123.1'),\n",
       "   ('ENSG00000159399.9', 'ENSG00000121749.15'),\n",
       "   ('ENSG00000185897.6', 'ENSG00000279382.1'),\n",
       "   ('ENSG00000211812.1', 'ENSG00000110651.11'),\n",
       "   ('ENSG00000211767.1', 'ENSG00000211879.1')])]"
      ]
     },
     "execution_count": 28,
     "metadata": {},
     "output_type": "execute_result"
    }
   ],
   "source": [
    "all_chunks[:2]"
   ]
  },
  {
   "cell_type": "code",
   "execution_count": 29,
   "id": "2a961167-6660-47bd-8beb-4e08de26bf05",
   "metadata": {
    "execution": {
     "iopub.execute_input": "2022-01-27T18:00:37.537755Z",
     "iopub.status.busy": "2022-01-27T18:00:37.537293Z",
     "iopub.status.idle": "2022-01-27T18:17:18.160787Z",
     "shell.execute_reply": "2022-01-27T18:17:18.161154Z"
    },
    "papermill": {
     "duration": 1000.661143,
     "end_time": "2022-01-27T18:17:18.161274",
     "exception": false,
     "start_time": "2022-01-27T18:00:37.500131",
     "status": "completed"
    },
    "tags": []
   },
   "outputs": [
    {
     "name": "stderr",
     "output_type": "stream",
     "text": [
      "100%|█████████████████████████████████████████████████████████████| 330/330 [16:40<00:00,  3.03s/it]\n"
     ]
    }
   ],
   "source": [
    "all_results = defaultdict(list)\n",
    "\n",
    "with ProcessPoolExecutor(max_workers=conf.GENERAL[\"N_JOBS\"]) as executor:\n",
    "    tasks = {\n",
    "        executor.submit(_compute_mic, chunk): sample_id\n",
    "        for sample_id, chunk in all_chunks\n",
    "    }\n",
    "\n",
    "    pbar = tqdm(as_completed(tasks), total=len(all_chunks), ncols=100)\n",
    "\n",
    "    for future in pbar:\n",
    "        sample_id = tasks[future]\n",
    "        sample_file_mic = future.result()\n",
    "\n",
    "        all_results[sample_id].append(sample_file_mic)"
   ]
  },
  {
   "cell_type": "markdown",
   "id": "bd48badf-bfe2-41d1-85b8-c4d8a494b5cd",
   "metadata": {
    "papermill": {
     "duration": 0.109768,
     "end_time": "2022-01-27T18:17:18.380961",
     "exception": false,
     "start_time": "2022-01-27T18:17:18.271193",
     "status": "completed"
    },
    "tags": []
   },
   "source": [
    "# Save for each sample file"
   ]
  },
  {
   "cell_type": "code",
   "execution_count": 30,
   "id": "82b77d46-d4b5-4e02-91b9-acffb848332b",
   "metadata": {
    "execution": {
     "iopub.execute_input": "2022-01-27T18:17:18.621024Z",
     "iopub.status.busy": "2022-01-27T18:17:18.610656Z",
     "iopub.status.idle": "2022-01-27T18:17:18.916491Z",
     "shell.execute_reply": "2022-01-27T18:17:18.915890Z"
    },
    "papermill": {
     "duration": 0.418613,
     "end_time": "2022-01-27T18:17:18.916614",
     "exception": false,
     "start_time": "2022-01-27T18:17:18.498001",
     "status": "completed"
    },
    "tags": []
   },
   "outputs": [],
   "source": [
    "for sample_id in all_results.keys():\n",
    "    sample_file_all_results_df = pd.concat(all_results[sample_id]).sort_index()\n",
    "    assert not sample_file_all_results_df.isna().any()\n",
    "    sample_file_all_results_gene_pairs_set = set(sample_file_all_results_df.index)\n",
    "\n",
    "    # testing: load input gene pairs\n",
    "    sample_file_df = pd.read_pickle(\n",
    "        INPUT_GENE_PAIRS_FILE_TEMPLATE.format(sample_id=sample_id)\n",
    "    )\n",
    "    assert sample_file_df.drop_duplicates().shape[0] == sample_file_df.shape[0]\n",
    "\n",
    "    # testing: number of gene pairs are the same in input data and in results\n",
    "    assert sample_file_df.shape[0] == sample_file_all_results_df.shape[0]\n",
    "\n",
    "    # testing: make sure gene ids are the same in results as in input gene pairs\n",
    "    sample_file_gene_pairs_list = list(\n",
    "        sample_file_df.itertuples(index=False, name=None)\n",
    "    )\n",
    "    sample_file_gene_pairs_set = set(sample_file_gene_pairs_list)\n",
    "    assert len(sample_file_gene_pairs_set) == len(\n",
    "        sample_file_gene_pairs_set.intersection(sample_file_all_results_gene_pairs_set)\n",
    "    )\n",
    "\n",
    "    # save results with same order (in gene pairs) as input sample data\n",
    "    sample_file_all_results_df = sample_file_all_results_df.loc[\n",
    "        sample_file_gene_pairs_list\n",
    "    ]\n",
    "    sample_file_all_results_df.to_pickle(\n",
    "        OUTPUT_FILE_TEMPLATE.format(sample_id=sample_id)\n",
    "    )"
   ]
  },
  {
   "cell_type": "code",
   "execution_count": 31,
   "id": "9bc5931e-5cac-4f47-a46f-837e270c4ef4",
   "metadata": {
    "execution": {
     "iopub.execute_input": "2022-01-27T18:17:19.152761Z",
     "iopub.status.busy": "2022-01-27T18:17:19.152301Z",
     "iopub.status.idle": "2022-01-27T18:17:19.157808Z",
     "shell.execute_reply": "2022-01-27T18:17:19.157362Z"
    },
    "papermill": {
     "duration": 0.119205,
     "end_time": "2022-01-27T18:17:19.157901",
     "exception": false,
     "start_time": "2022-01-27T18:17:19.038696",
     "status": "completed"
    },
    "tags": []
   },
   "outputs": [
    {
     "data": {
      "text/plain": [
       "(33000,)"
      ]
     },
     "metadata": {},
     "output_type": "display_data"
    },
    {
     "data": {
      "text/plain": [
       "ENSG00000161217.11  ENSG00000248527.1     0.186836\n",
       "ENSG00000106927.11  ENSG00000136929.12    0.225252\n",
       "ENSG00000177156.10  ENSG00000156711.16    0.406688\n",
       "ENSG00000197965.11  ENSG00000272155.1     0.593150\n",
       "ENSG00000278330.1   ENSG00000179387.9     0.363143\n",
       "dtype: float64"
      ]
     },
     "metadata": {},
     "output_type": "display_data"
    }
   ],
   "source": [
    "# show how one result set looks like\n",
    "display(sample_file_all_results_df.shape)\n",
    "display(sample_file_all_results_df.head())"
   ]
  },
  {
   "cell_type": "code",
   "execution_count": null,
   "id": "86d4a81e-927e-4c3e-93d1-47df1931ad5a",
   "metadata": {
    "papermill": {
     "duration": 0.109776,
     "end_time": "2022-01-27T18:17:19.377195",
     "exception": false,
     "start_time": "2022-01-27T18:17:19.267419",
     "status": "completed"
    },
    "tags": []
   },
   "outputs": [],
   "source": []
  }
 ],
 "metadata": {
  "jupytext": {
   "cell_metadata_filter": "all,-execution,-papermill,-trusted"
  },
  "kernelspec": {
   "display_name": "Python 3 (ipykernel)",
   "language": "python",
   "name": "python3"
  },
  "language_info": {
   "codemirror_mode": {
    "name": "ipython",
    "version": 3
   },
   "file_extension": ".py",
   "mimetype": "text/x-python",
   "name": "python",
   "nbconvert_exporter": "python",
   "pygments_lexer": "ipython3",
   "version": "3.9.9"
  },
  "papermill": {
   "default_parameters": {},
   "duration": 1007.439899,
   "end_time": "2022-01-27T18:17:19.818222",
   "environment_variables": {},
   "exception": null,
   "input_path": "nbs/20_comparison_others/05_02-gtex_whole_blood-sample_all_gene_pairs-mic.ipynb",
   "output_path": "nbs/20_comparison_others/05_02-gtex_whole_blood-sample_all_gene_pairs-mic.run.ipynb",
   "parameters": {},
   "start_time": "2022-01-27T18:00:32.378323",
   "version": "2.3.4"
  },
  "toc-autonumbering": true
 },
 "nbformat": 4,
 "nbformat_minor": 5
}
