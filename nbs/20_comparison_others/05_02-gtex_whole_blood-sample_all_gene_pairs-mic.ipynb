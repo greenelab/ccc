{
 "cells": [
  {
   "cell_type": "markdown",
   "id": "87e0ce1b-7ce6-4499-9342-5ded05307598",
   "metadata": {
    "papermill": {
     "duration": 0.065188,
     "end_time": "2022-01-28T17:53:05.620916",
     "exception": false,
     "start_time": "2022-01-28T17:53:05.555728",
     "status": "completed"
    },
    "tags": []
   },
   "source": [
    "# Description"
   ]
  },
  {
   "cell_type": "markdown",
   "id": "4bfc7115-350a-441b-9a19-7626a948a694",
   "metadata": {
    "papermill": {
     "duration": 0.028685,
     "end_time": "2022-01-28T17:53:06.557328",
     "exception": false,
     "start_time": "2022-01-28T17:53:06.528643",
     "status": "completed"
    },
    "tags": []
   },
   "source": [
    "TODO"
   ]
  },
  {
   "cell_type": "markdown",
   "id": "e020c781-238b-43c2-8cad-2722b8a240e2",
   "metadata": {
    "papermill": {
     "duration": 0.025555,
     "end_time": "2022-01-28T17:53:06.608090",
     "exception": false,
     "start_time": "2022-01-28T17:53:06.582535",
     "status": "completed"
    },
    "tags": []
   },
   "source": [
    "# Modules"
   ]
  },
  {
   "cell_type": "code",
   "execution_count": 1,
   "id": "a819bfbc-5009-4c68-ba8d-37d0979d368f",
   "metadata": {
    "execution": {
     "iopub.execute_input": "2022-01-28T17:53:06.665337Z",
     "iopub.status.busy": "2022-01-28T17:53:06.664835Z",
     "iopub.status.idle": "2022-01-28T17:53:06.903495Z",
     "shell.execute_reply": "2022-01-28T17:53:06.902888Z"
    },
    "papermill": {
     "duration": 0.270262,
     "end_time": "2022-01-28T17:53:06.903639",
     "exception": false,
     "start_time": "2022-01-28T17:53:06.633377",
     "status": "completed"
    },
    "tags": []
   },
   "outputs": [],
   "source": [
    "from pathlib import Path\n",
    "\n",
    "import pandas as pd\n",
    "import numpy as np\n",
    "\n",
    "from clustermatch import conf"
   ]
  },
  {
   "cell_type": "markdown",
   "id": "b4834387-58ff-468c-b326-85c408bc5feb",
   "metadata": {
    "papermill": {
     "duration": 0.027261,
     "end_time": "2022-01-28T17:53:06.963786",
     "exception": false,
     "start_time": "2022-01-28T17:53:06.936525",
     "status": "completed"
    },
    "tags": []
   },
   "source": [
    "# Settings"
   ]
  },
  {
   "cell_type": "code",
   "execution_count": 2,
   "id": "765e820a-4518-4bbc-a00f-14c9cea03821",
   "metadata": {
    "execution": {
     "iopub.execute_input": "2022-01-28T17:53:07.019082Z",
     "iopub.status.busy": "2022-01-28T17:53:07.018594Z",
     "iopub.status.idle": "2022-01-28T17:53:07.020631Z",
     "shell.execute_reply": "2022-01-28T17:53:07.020261Z"
    },
    "papermill": {
     "duration": 0.031525,
     "end_time": "2022-01-28T17:53:07.020731",
     "exception": false,
     "start_time": "2022-01-28T17:53:06.989206",
     "status": "completed"
    },
    "tags": []
   },
   "outputs": [],
   "source": [
    "DATASET_CONFIG = conf.GTEX\n",
    "GTEX_TISSUE = \"whole_blood\"\n",
    "GENE_SEL_STRATEGY = \"var_pc_log2\"\n",
    "\n",
    "METHOD_NAME = \"mic\""
   ]
  },
  {
   "cell_type": "code",
   "execution_count": 3,
   "id": "ca79812d-c519-408c-bea8-9fc177e71d72",
   "metadata": {
    "execution": {
     "iopub.execute_input": "2022-01-28T17:53:07.075892Z",
     "iopub.status.busy": "2022-01-28T17:53:07.075416Z",
     "iopub.status.idle": "2022-01-28T17:53:07.077517Z",
     "shell.execute_reply": "2022-01-28T17:53:07.077072Z"
    },
    "papermill": {
     "duration": 0.030499,
     "end_time": "2022-01-28T17:53:07.077611",
     "exception": false,
     "start_time": "2022-01-28T17:53:07.047112",
     "status": "completed"
    },
    "tags": [
     "parameters"
    ]
   },
   "outputs": [],
   "source": [
    "# this cell has the \"parameters\" tag\n",
    "\n",
    "# size of gene pair groups to process in parallel\n",
    "CHUNK_SIZE = 100"
   ]
  },
  {
   "cell_type": "markdown",
   "id": "a1159982-5dd1-4494-97d4-0674eeead1c3",
   "metadata": {
    "papermill": {
     "duration": 0.02551,
     "end_time": "2022-01-28T17:53:07.129262",
     "exception": false,
     "start_time": "2022-01-28T17:53:07.103752",
     "status": "completed"
    },
    "tags": []
   },
   "source": [
    "# Paths"
   ]
  },
  {
   "cell_type": "code",
   "execution_count": 4,
   "id": "c6f73068-fa38-44be-bd0c-708f6ff450ea",
   "metadata": {
    "execution": {
     "iopub.execute_input": "2022-01-28T17:53:07.186901Z",
     "iopub.status.busy": "2022-01-28T17:53:07.186452Z",
     "iopub.status.idle": "2022-01-28T17:53:07.190617Z",
     "shell.execute_reply": "2022-01-28T17:53:07.190227Z"
    },
    "papermill": {
     "duration": 0.036284,
     "end_time": "2022-01-28T17:53:07.190712",
     "exception": false,
     "start_time": "2022-01-28T17:53:07.154428",
     "status": "completed"
    },
    "tags": []
   },
   "outputs": [
    {
     "data": {
      "text/plain": [
       "PosixPath('/opt/data/results/gtex_v8/gene_selection/gtex_v8_data_whole_blood-var_pc_log2.pkl')"
      ]
     },
     "metadata": {},
     "output_type": "display_data"
    }
   ],
   "source": [
    "INPUT_GENE_EXPR_FILE = (\n",
    "    DATASET_CONFIG[\"GENE_SELECTION_DIR\"]\n",
    "    / f\"gtex_v8_data_{GTEX_TISSUE}-{GENE_SEL_STRATEGY}.pkl\"\n",
    ")\n",
    "display(INPUT_GENE_EXPR_FILE)\n",
    "\n",
    "assert INPUT_GENE_EXPR_FILE.exists()"
   ]
  },
  {
   "cell_type": "code",
   "execution_count": 5,
   "id": "1ed73618-a3ab-4f62-8731-67c9726fd1a8",
   "metadata": {
    "execution": {
     "iopub.execute_input": "2022-01-28T17:53:07.246746Z",
     "iopub.status.busy": "2022-01-28T17:53:07.246219Z",
     "iopub.status.idle": "2022-01-28T17:53:07.248298Z",
     "shell.execute_reply": "2022-01-28T17:53:07.248641Z"
    },
    "papermill": {
     "duration": 0.031891,
     "end_time": "2022-01-28T17:53:07.248761",
     "exception": false,
     "start_time": "2022-01-28T17:53:07.216870",
     "status": "completed"
    },
    "tags": []
   },
   "outputs": [
    {
     "data": {
      "text/plain": [
       "PosixPath('/opt/data/results/gtex_v8/gene_selection/gtex_v8_data_whole_blood-var_pc_log2.pkl')"
      ]
     },
     "metadata": {},
     "output_type": "display_data"
    }
   ],
   "source": [
    "GENE_PAIRS_FILE_SUFFIX = (\n",
    "    DATASET_CONFIG[\"GENE_SELECTION_DIR\"]\n",
    "    / f\"gtex_v8_data_{GTEX_TISSUE}-{GENE_SEL_STRATEGY}.pkl\"\n",
    ")\n",
    "display(GENE_PAIRS_FILE_SUFFIX)\n",
    "\n",
    "assert GENE_PAIRS_FILE_SUFFIX.exists()"
   ]
  },
  {
   "cell_type": "code",
   "execution_count": 6,
   "id": "24757228-be05-43e0-8057-831135a5da17",
   "metadata": {
    "execution": {
     "iopub.execute_input": "2022-01-28T17:53:07.304703Z",
     "iopub.status.busy": "2022-01-28T17:53:07.304146Z",
     "iopub.status.idle": "2022-01-28T17:53:07.307106Z",
     "shell.execute_reply": "2022-01-28T17:53:07.306661Z"
    },
    "papermill": {
     "duration": 0.032203,
     "end_time": "2022-01-28T17:53:07.307199",
     "exception": false,
     "start_time": "2022-01-28T17:53:07.274996",
     "status": "completed"
    },
    "tags": []
   },
   "outputs": [
    {
     "data": {
      "text/plain": [
       "PosixPath('/opt/data/results/gtex_v8/gene_selection/samples')"
      ]
     },
     "metadata": {},
     "output_type": "display_data"
    }
   ],
   "source": [
    "INPUT_DIR = GENE_PAIRS_FILE_SUFFIX.parent / \"samples\"\n",
    "display(INPUT_DIR)"
   ]
  },
  {
   "cell_type": "code",
   "execution_count": 7,
   "id": "a088c4ad-71ac-43f3-b58a-678fefb55117",
   "metadata": {
    "execution": {
     "iopub.execute_input": "2022-01-28T17:53:07.364708Z",
     "iopub.status.busy": "2022-01-28T17:53:07.364208Z",
     "iopub.status.idle": "2022-01-28T17:53:07.368130Z",
     "shell.execute_reply": "2022-01-28T17:53:07.367645Z"
    },
    "papermill": {
     "duration": 0.033566,
     "end_time": "2022-01-28T17:53:07.368221",
     "exception": false,
     "start_time": "2022-01-28T17:53:07.334655",
     "status": "completed"
    },
    "tags": []
   },
   "outputs": [
    {
     "data": {
      "text/plain": [
       "PosixPath('/opt/data/results/gtex_v8/gene_selection/samples/gtex_v8_data_whole_blood-var_pc_log2-all-gene_pairs-sample_{sample_id}.pkl')"
      ]
     },
     "metadata": {},
     "output_type": "display_data"
    },
    {
     "data": {
      "text/plain": [
       "'/opt/data/results/gtex_v8/gene_selection/samples/gtex_v8_data_whole_blood-var_pc_log2-all-gene_pairs-sample_{sample_id}.pkl'"
      ]
     },
     "metadata": {},
     "output_type": "display_data"
    }
   ],
   "source": [
    "INPUT_GENE_PAIRS_FILE = INPUT_DIR / (\n",
    "    f\"{GENE_PAIRS_FILE_SUFFIX.stem}-all-gene_pairs-sample_\" + \"{sample_id}\" + \".pkl\"\n",
    ")\n",
    "display(INPUT_GENE_PAIRS_FILE)\n",
    "\n",
    "INPUT_GENE_PAIRS_FILE_TEMPLATE = str(INPUT_GENE_PAIRS_FILE)\n",
    "display(INPUT_GENE_PAIRS_FILE_TEMPLATE)"
   ]
  },
  {
   "cell_type": "code",
   "execution_count": 8,
   "id": "7e6dbf37-ad3a-4f73-a4a7-89275d6f00bc",
   "metadata": {
    "execution": {
     "iopub.execute_input": "2022-01-28T17:53:07.426515Z",
     "iopub.status.busy": "2022-01-28T17:53:07.426000Z",
     "iopub.status.idle": "2022-01-28T17:53:07.428587Z",
     "shell.execute_reply": "2022-01-28T17:53:07.428122Z"
    },
    "papermill": {
     "duration": 0.033433,
     "end_time": "2022-01-28T17:53:07.428686",
     "exception": false,
     "start_time": "2022-01-28T17:53:07.395253",
     "status": "completed"
    },
    "tags": []
   },
   "outputs": [
    {
     "data": {
      "text/plain": [
       "PosixPath('/opt/data/results/gtex_v8/comparison_others/mic')"
      ]
     },
     "metadata": {},
     "output_type": "display_data"
    }
   ],
   "source": [
    "OUTPUT_DIR = DATASET_CONFIG[\"RESULTS_DIR\"] / \"comparison_others\" / METHOD_NAME\n",
    "OUTPUT_DIR.mkdir(parents=True, exist_ok=True)\n",
    "display(OUTPUT_DIR)"
   ]
  },
  {
   "cell_type": "code",
   "execution_count": 9,
   "id": "f4468c0e-c0ad-4bf5-b120-3f63e7afc33f",
   "metadata": {
    "execution": {
     "iopub.execute_input": "2022-01-28T17:53:07.488324Z",
     "iopub.status.busy": "2022-01-28T17:53:07.487714Z",
     "iopub.status.idle": "2022-01-28T17:53:07.490755Z",
     "shell.execute_reply": "2022-01-28T17:53:07.490283Z"
    },
    "papermill": {
     "duration": 0.034203,
     "end_time": "2022-01-28T17:53:07.490862",
     "exception": false,
     "start_time": "2022-01-28T17:53:07.456659",
     "status": "completed"
    },
    "tags": []
   },
   "outputs": [
    {
     "data": {
      "text/plain": [
       "'/opt/data/results/gtex_v8/comparison_others/mic/gtex_v8_data_whole_blood-var_pc_log2-all-gene_pairs-sample_{sample_id}-mic.pkl'"
      ]
     },
     "metadata": {},
     "output_type": "display_data"
    }
   ],
   "source": [
    "OUTPUT_FILE_TEMPLATE = str(\n",
    "    OUTPUT_DIR / (INPUT_GENE_PAIRS_FILE.name[:-4] + f\"-{METHOD_NAME}.pkl\")\n",
    ")\n",
    "\n",
    "display(OUTPUT_FILE_TEMPLATE)"
   ]
  },
  {
   "cell_type": "markdown",
   "id": "f6d3322b-c8bb-4fc2-97b6-5bb1793b1577",
   "metadata": {
    "papermill": {
     "duration": 0.027414,
     "end_time": "2022-01-28T17:53:07.547168",
     "exception": false,
     "start_time": "2022-01-28T17:53:07.519754",
     "status": "completed"
    },
    "tags": []
   },
   "source": [
    "# Data"
   ]
  },
  {
   "cell_type": "markdown",
   "id": "0aa486d7-b624-4d20-a730-a9eb224bef6a",
   "metadata": {
    "papermill": {
     "duration": 0.02772,
     "end_time": "2022-01-28T17:53:07.602186",
     "exception": false,
     "start_time": "2022-01-28T17:53:07.574466",
     "status": "completed"
    },
    "tags": []
   },
   "source": [
    "## Gene expression"
   ]
  },
  {
   "cell_type": "code",
   "execution_count": 10,
   "id": "f73ca2b7-f7ff-47bc-90b0-32e0cfdb5ea6",
   "metadata": {
    "execution": {
     "iopub.execute_input": "2022-01-28T17:53:07.661758Z",
     "iopub.status.busy": "2022-01-28T17:53:07.661277Z",
     "iopub.status.idle": "2022-01-28T17:53:07.820977Z",
     "shell.execute_reply": "2022-01-28T17:53:07.820372Z"
    },
    "papermill": {
     "duration": 0.191086,
     "end_time": "2022-01-28T17:53:07.821104",
     "exception": false,
     "start_time": "2022-01-28T17:53:07.630018",
     "status": "completed"
    },
    "tags": []
   },
   "outputs": [],
   "source": [
    "gene_expr_dict = pd.read_pickle(INPUT_GENE_EXPR_FILE).T.to_dict(orient=\"series\")"
   ]
  },
  {
   "cell_type": "code",
   "execution_count": 11,
   "id": "3cba499a-e737-4da2-9841-f9a03719b3aa",
   "metadata": {
    "execution": {
     "iopub.execute_input": "2022-01-28T17:53:07.890817Z",
     "iopub.status.busy": "2022-01-28T17:53:07.890243Z",
     "iopub.status.idle": "2022-01-28T17:53:07.893351Z",
     "shell.execute_reply": "2022-01-28T17:53:07.892858Z"
    },
    "papermill": {
     "duration": 0.036092,
     "end_time": "2022-01-28T17:53:07.893456",
     "exception": false,
     "start_time": "2022-01-28T17:53:07.857364",
     "status": "completed"
    },
    "tags": []
   },
   "outputs": [
    {
     "data": {
      "text/plain": [
       "5000"
      ]
     },
     "execution_count": 11,
     "metadata": {},
     "output_type": "execute_result"
    }
   ],
   "source": [
    "len(gene_expr_dict)"
   ]
  },
  {
   "cell_type": "code",
   "execution_count": 12,
   "id": "df66fe70-9fe9-4351-9d30-f8dcc97725de",
   "metadata": {
    "execution": {
     "iopub.execute_input": "2022-01-28T17:53:07.965483Z",
     "iopub.status.busy": "2022-01-28T17:53:07.964914Z",
     "iopub.status.idle": "2022-01-28T17:53:07.967370Z",
     "shell.execute_reply": "2022-01-28T17:53:07.967723Z"
    },
    "papermill": {
     "duration": 0.038301,
     "end_time": "2022-01-28T17:53:07.967837",
     "exception": false,
     "start_time": "2022-01-28T17:53:07.929536",
     "status": "completed"
    },
    "tags": []
   },
   "outputs": [
    {
     "data": {
      "text/plain": [
       "GTEX-111YS-0006-SM-5NQBE       0.5623\n",
       "GTEX-1122O-0005-SM-5O99J       0.8067\n",
       "GTEX-1128S-0005-SM-5P9HI     116.9000\n",
       "GTEX-113IC-0006-SM-5NQ9C       4.0470\n",
       "GTEX-113JC-0006-SM-5O997     211.0000\n",
       "                              ...    \n",
       "GTEX-ZVTK-0006-SM-57WBK     1626.0000\n",
       "GTEX-ZVZP-0006-SM-51MSW        0.5633\n",
       "GTEX-ZVZQ-0006-SM-51MR8      515.7000\n",
       "GTEX-ZXES-0005-SM-57WCB        1.1940\n",
       "GTEX-ZXG5-0005-SM-57WCN     1163.0000\n",
       "Name: ENSG00000169429.10, Length: 755, dtype: float64"
      ]
     },
     "execution_count": 12,
     "metadata": {},
     "output_type": "execute_result"
    }
   ],
   "source": [
    "gene_expr_dict[list(gene_expr_dict.keys())[0]]"
   ]
  },
  {
   "cell_type": "markdown",
   "id": "b030f506-2fe9-4895-a8a1-51374e88c496",
   "metadata": {
    "papermill": {
     "duration": 0.027739,
     "end_time": "2022-01-28T17:53:08.024291",
     "exception": false,
     "start_time": "2022-01-28T17:53:07.996552",
     "status": "completed"
    },
    "tags": []
   },
   "source": [
    "## Gene pairs intersection"
   ]
  },
  {
   "cell_type": "code",
   "execution_count": 13,
   "id": "da1d768a-fbfb-40e8-8fbb-790d1a94aa83",
   "metadata": {
    "execution": {
     "iopub.execute_input": "2022-01-28T17:53:08.083619Z",
     "iopub.status.busy": "2022-01-28T17:53:08.083142Z",
     "iopub.status.idle": "2022-01-28T17:53:08.084679Z",
     "shell.execute_reply": "2022-01-28T17:53:08.085039Z"
    },
    "papermill": {
     "duration": 0.032652,
     "end_time": "2022-01-28T17:53:08.085153",
     "exception": false,
     "start_time": "2022-01-28T17:53:08.052501",
     "status": "completed"
    },
    "tags": []
   },
   "outputs": [],
   "source": [
    "# intersections = pd.read_pickle(INPUT_GENE_PAIRS_INTERSECTIONS_FILE)"
   ]
  },
  {
   "cell_type": "code",
   "execution_count": 14,
   "id": "6123d474-0c0d-4771-9678-248ce89424ce",
   "metadata": {
    "execution": {
     "iopub.execute_input": "2022-01-28T17:53:08.147575Z",
     "iopub.status.busy": "2022-01-28T17:53:08.146965Z",
     "iopub.status.idle": "2022-01-28T17:53:08.148707Z",
     "shell.execute_reply": "2022-01-28T17:53:08.149258Z"
    },
    "papermill": {
     "duration": 0.034869,
     "end_time": "2022-01-28T17:53:08.149385",
     "exception": false,
     "start_time": "2022-01-28T17:53:08.114516",
     "status": "completed"
    },
    "tags": []
   },
   "outputs": [],
   "source": [
    "# len(intersections)"
   ]
  },
  {
   "cell_type": "code",
   "execution_count": 15,
   "id": "1b817194-a9c3-4f53-8d0f-1ee8faa36bfe",
   "metadata": {
    "execution": {
     "iopub.execute_input": "2022-01-28T17:53:08.217548Z",
     "iopub.status.busy": "2022-01-28T17:53:08.217093Z",
     "iopub.status.idle": "2022-01-28T17:53:08.218952Z",
     "shell.execute_reply": "2022-01-28T17:53:08.218491Z"
    },
    "papermill": {
     "duration": 0.035524,
     "end_time": "2022-01-28T17:53:08.219048",
     "exception": false,
     "start_time": "2022-01-28T17:53:08.183524",
     "status": "completed"
    },
    "tags": []
   },
   "outputs": [],
   "source": [
    "# intersections[\"Clustermatch (high), Pearson (high), Spearman (high)\"]"
   ]
  },
  {
   "cell_type": "markdown",
   "id": "9e1b78f3-8f43-411a-acb7-4646b4979034",
   "metadata": {
    "papermill": {
     "duration": 0.027787,
     "end_time": "2022-01-28T17:53:08.275532",
     "exception": false,
     "start_time": "2022-01-28T17:53:08.247745",
     "status": "completed"
    },
    "tags": []
   },
   "source": [
    "# Compute Maximal Information Coefficient (MIC)"
   ]
  },
  {
   "cell_type": "markdown",
   "id": "f31225f0-ce8b-48aa-97a6-d69afcb8732a",
   "metadata": {
    "papermill": {
     "duration": 0.028603,
     "end_time": "2022-01-28T17:53:08.333007",
     "exception": false,
     "start_time": "2022-01-28T17:53:08.304404",
     "status": "completed"
    },
    "tags": []
   },
   "source": [
    "## Functions"
   ]
  },
  {
   "cell_type": "code",
   "execution_count": 16,
   "id": "1851477c-1c94-456d-949b-012b8984a434",
   "metadata": {
    "execution": {
     "iopub.execute_input": "2022-01-28T17:53:08.393884Z",
     "iopub.status.busy": "2022-01-28T17:53:08.393401Z",
     "iopub.status.idle": "2022-01-28T17:53:08.615617Z",
     "shell.execute_reply": "2022-01-28T17:53:08.615202Z"
    },
    "papermill": {
     "duration": 0.254349,
     "end_time": "2022-01-28T17:53:08.615714",
     "exception": false,
     "start_time": "2022-01-28T17:53:08.361365",
     "status": "completed"
    },
    "tags": []
   },
   "outputs": [],
   "source": [
    "import warnings\n",
    "from sklearn.metrics import pairwise_distances\n",
    "from minepy.mine import MINE"
   ]
  },
  {
   "cell_type": "code",
   "execution_count": 17,
   "id": "0adf1172-acc5-4c35-a3ab-aed6de9770c4",
   "metadata": {
    "execution": {
     "iopub.execute_input": "2022-01-28T17:53:08.676885Z",
     "iopub.status.busy": "2022-01-28T17:53:08.676426Z",
     "iopub.status.idle": "2022-01-28T17:53:08.677919Z",
     "shell.execute_reply": "2022-01-28T17:53:08.678259Z"
    },
    "papermill": {
     "duration": 0.034233,
     "end_time": "2022-01-28T17:53:08.678378",
     "exception": false,
     "start_time": "2022-01-28T17:53:08.644145",
     "status": "completed"
    },
    "tags": []
   },
   "outputs": [],
   "source": [
    "def _mic(x, y):\n",
    "    \"\"\"\n",
    "    FIXME: move to library\n",
    "    \"\"\"\n",
    "    with warnings.catch_warnings():\n",
    "        warnings.filterwarnings(\"ignore\", category=DeprecationWarning)\n",
    "\n",
    "        mine = MINE(alpha=0.6, c=15, est=\"mic_approx\")\n",
    "        mine.compute_score(x, y)\n",
    "        return mine.mic()"
   ]
  },
  {
   "cell_type": "code",
   "execution_count": 18,
   "id": "cd837842-665d-4214-affe-af9c951bd154",
   "metadata": {
    "execution": {
     "iopub.execute_input": "2022-01-28T17:53:08.740946Z",
     "iopub.status.busy": "2022-01-28T17:53:08.740338Z",
     "iopub.status.idle": "2022-01-28T17:53:08.743098Z",
     "shell.execute_reply": "2022-01-28T17:53:08.742647Z"
    },
    "papermill": {
     "duration": 0.035666,
     "end_time": "2022-01-28T17:53:08.743195",
     "exception": false,
     "start_time": "2022-01-28T17:53:08.707529",
     "status": "completed"
    },
    "tags": []
   },
   "outputs": [
    {
     "data": {
      "text/plain": [
       "0.12451124978365385"
      ]
     },
     "execution_count": 18,
     "metadata": {},
     "output_type": "execute_result"
    }
   ],
   "source": [
    "_mic(np.random.rand(10), np.random.rand(10))"
   ]
  },
  {
   "cell_type": "markdown",
   "id": "b9a14ad1-ffd2-4b16-98b2-658634dccd21",
   "metadata": {
    "papermill": {
     "duration": 0.028354,
     "end_time": "2022-01-28T17:53:08.800059",
     "exception": false,
     "start_time": "2022-01-28T17:53:08.771705",
     "status": "completed"
    },
    "tags": []
   },
   "source": [
    "## Get all sample files"
   ]
  },
  {
   "cell_type": "code",
   "execution_count": 19,
   "id": "022f616c-3dd2-47f8-9360-286d1dc08bab",
   "metadata": {
    "execution": {
     "iopub.execute_input": "2022-01-28T17:53:08.861552Z",
     "iopub.status.busy": "2022-01-28T17:53:08.860972Z",
     "iopub.status.idle": "2022-01-28T17:53:08.863238Z",
     "shell.execute_reply": "2022-01-28T17:53:08.863597Z"
    },
    "papermill": {
     "duration": 0.035244,
     "end_time": "2022-01-28T17:53:08.863713",
     "exception": false,
     "start_time": "2022-01-28T17:53:08.828469",
     "status": "completed"
    },
    "tags": []
   },
   "outputs": [
    {
     "data": {
      "text/plain": [
       "PosixPath('/opt/data/results/gtex_v8/gene_selection/samples/gtex_v8_data_whole_blood-var_pc_log2-all-gene_pairs-sample_0.pkl')"
      ]
     },
     "metadata": {},
     "output_type": "display_data"
    }
   ],
   "source": [
    "all_sample_files = []\n",
    "\n",
    "sample_id = 0\n",
    "sample_file = Path(INPUT_GENE_PAIRS_FILE_TEMPLATE.format(sample_id=sample_id))\n",
    "display(sample_file)\n",
    "\n",
    "while sample_file.exists():\n",
    "    all_sample_files.append((sample_id, sample_file))\n",
    "\n",
    "    sample_id += 1\n",
    "    sample_file = Path(INPUT_GENE_PAIRS_FILE_TEMPLATE.format(sample_id=sample_id))"
   ]
  },
  {
   "cell_type": "code",
   "execution_count": 20,
   "id": "f0af34fd-19ac-4d74-a3e4-399f70c049ac",
   "metadata": {
    "execution": {
     "iopub.execute_input": "2022-01-28T17:53:08.930838Z",
     "iopub.status.busy": "2022-01-28T17:53:08.930321Z",
     "iopub.status.idle": "2022-01-28T17:53:08.931912Z",
     "shell.execute_reply": "2022-01-28T17:53:08.932304Z"
    },
    "papermill": {
     "duration": 0.039304,
     "end_time": "2022-01-28T17:53:08.932439",
     "exception": false,
     "start_time": "2022-01-28T17:53:08.893135",
     "status": "completed"
    },
    "tags": []
   },
   "outputs": [],
   "source": [
    "# all_sample_files = sorted(\n",
    "#     list(\n",
    "#         INPUT_GENE_PAIRS_FILE.parent.glob(INPUT_GENE_PAIRS_FILE.name.format(sample_id=\"*\"))\n",
    "#     )\n",
    "# )"
   ]
  },
  {
   "cell_type": "code",
   "execution_count": 21,
   "id": "4f169abf-2009-482c-9df3-b502c4f56641",
   "metadata": {
    "execution": {
     "iopub.execute_input": "2022-01-28T17:53:08.996631Z",
     "iopub.status.busy": "2022-01-28T17:53:08.996117Z",
     "iopub.status.idle": "2022-01-28T17:53:08.998840Z",
     "shell.execute_reply": "2022-01-28T17:53:08.998379Z"
    },
    "papermill": {
     "duration": 0.035438,
     "end_time": "2022-01-28T17:53:08.998938",
     "exception": false,
     "start_time": "2022-01-28T17:53:08.963500",
     "status": "completed"
    },
    "tags": []
   },
   "outputs": [
    {
     "data": {
      "text/plain": [
       "1"
      ]
     },
     "metadata": {},
     "output_type": "display_data"
    }
   ],
   "source": [
    "display(len(all_sample_files))\n",
    "assert len(all_sample_files) > 0"
   ]
  },
  {
   "cell_type": "code",
   "execution_count": 22,
   "id": "f49ac615-436b-4abc-8f72-06f50907c70d",
   "metadata": {
    "execution": {
     "iopub.execute_input": "2022-01-28T17:53:09.063100Z",
     "iopub.status.busy": "2022-01-28T17:53:09.062421Z",
     "iopub.status.idle": "2022-01-28T17:53:09.064656Z",
     "shell.execute_reply": "2022-01-28T17:53:09.064995Z"
    },
    "papermill": {
     "duration": 0.035686,
     "end_time": "2022-01-28T17:53:09.065115",
     "exception": false,
     "start_time": "2022-01-28T17:53:09.029429",
     "status": "completed"
    },
    "tags": []
   },
   "outputs": [
    {
     "data": {
      "text/plain": [
       "[(0,\n",
       "  PosixPath('/opt/data/results/gtex_v8/gene_selection/samples/gtex_v8_data_whole_blood-var_pc_log2-all-gene_pairs-sample_0.pkl'))]"
      ]
     },
     "execution_count": 22,
     "metadata": {},
     "output_type": "execute_result"
    }
   ],
   "source": [
    "all_sample_files[:3]"
   ]
  },
  {
   "cell_type": "markdown",
   "id": "96315853-ea9d-4417-b224-31b3bbdf7553",
   "metadata": {
    "papermill": {
     "duration": 0.029188,
     "end_time": "2022-01-28T17:53:09.124436",
     "exception": false,
     "start_time": "2022-01-28T17:53:09.095248",
     "status": "completed"
    },
    "tags": []
   },
   "source": [
    "## Run"
   ]
  },
  {
   "cell_type": "code",
   "execution_count": 23,
   "id": "0f516a3e-0f64-42d3-b32d-9de6563b2df4",
   "metadata": {
    "execution": {
     "iopub.execute_input": "2022-01-28T17:53:09.187213Z",
     "iopub.status.busy": "2022-01-28T17:53:09.186741Z",
     "iopub.status.idle": "2022-01-28T17:53:09.212010Z",
     "shell.execute_reply": "2022-01-28T17:53:09.211483Z"
    },
    "papermill": {
     "duration": 0.057977,
     "end_time": "2022-01-28T17:53:09.212109",
     "exception": false,
     "start_time": "2022-01-28T17:53:09.154132",
     "status": "completed"
    },
    "tags": []
   },
   "outputs": [],
   "source": [
    "from concurrent.futures import ProcessPoolExecutor, as_completed\n",
    "from collections import defaultdict\n",
    "\n",
    "from tqdm import tqdm\n",
    "\n",
    "from clustermatch.utils import chunker"
   ]
  },
  {
   "cell_type": "code",
   "execution_count": 24,
   "id": "f2d70e9a-42df-483a-86d2-7fb59f425166",
   "metadata": {
    "execution": {
     "iopub.execute_input": "2022-01-28T17:53:09.275460Z",
     "iopub.status.busy": "2022-01-28T17:53:09.275005Z",
     "iopub.status.idle": "2022-01-28T17:53:09.276728Z",
     "shell.execute_reply": "2022-01-28T17:53:09.277102Z"
    },
    "papermill": {
     "duration": 0.035095,
     "end_time": "2022-01-28T17:53:09.277220",
     "exception": false,
     "start_time": "2022-01-28T17:53:09.242125",
     "status": "completed"
    },
    "tags": []
   },
   "outputs": [],
   "source": [
    "def _compute_mic(gene_sets: list):\n",
    "    res = [\n",
    "        _mic(gene_expr_dict[gs[0]].to_numpy(), gene_expr_dict[gs[1]].to_numpy())\n",
    "        for gs in gene_sets\n",
    "    ]\n",
    "\n",
    "    return pd.Series(res, index=pd.MultiIndex.from_tuples(gene_sets))"
   ]
  },
  {
   "cell_type": "code",
   "execution_count": 25,
   "id": "3a16f0f9-9af0-49a4-a293-f51f58f46de3",
   "metadata": {
    "execution": {
     "iopub.execute_input": "2022-01-28T17:53:09.341887Z",
     "iopub.status.busy": "2022-01-28T17:53:09.340876Z",
     "iopub.status.idle": "2022-01-28T17:53:10.255572Z",
     "shell.execute_reply": "2022-01-28T17:53:10.255920Z"
    },
    "papermill": {
     "duration": 0.94854,
     "end_time": "2022-01-28T17:53:10.256044",
     "exception": false,
     "start_time": "2022-01-28T17:53:09.307504",
     "status": "completed"
    },
    "tags": []
   },
   "outputs": [
    {
     "data": {
      "text/html": [
       "<div>\n",
       "<style scoped>\n",
       "    .dataframe tbody tr th:only-of-type {\n",
       "        vertical-align: middle;\n",
       "    }\n",
       "\n",
       "    .dataframe tbody tr th {\n",
       "        vertical-align: top;\n",
       "    }\n",
       "\n",
       "    .dataframe thead th {\n",
       "        text-align: right;\n",
       "    }\n",
       "</style>\n",
       "<table border=\"1\" class=\"dataframe\">\n",
       "  <thead>\n",
       "    <tr style=\"text-align: right;\">\n",
       "      <th></th>\n",
       "      <th>gene0</th>\n",
       "      <th>gene1</th>\n",
       "    </tr>\n",
       "  </thead>\n",
       "  <tbody>\n",
       "    <tr>\n",
       "      <th>1692344</th>\n",
       "      <td>ENSG00000100941.8</td>\n",
       "      <td>ENSG00000137575.11</td>\n",
       "    </tr>\n",
       "    <tr>\n",
       "      <th>8616440</th>\n",
       "      <td>ENSG00000182220.14</td>\n",
       "      <td>ENSG00000225101.4</td>\n",
       "    </tr>\n",
       "    <tr>\n",
       "      <th>8056444</th>\n",
       "      <td>ENSG00000174600.13</td>\n",
       "      <td>ENSG00000175274.18</td>\n",
       "    </tr>\n",
       "    <tr>\n",
       "      <th>736268</th>\n",
       "      <td>ENSG00000067066.16</td>\n",
       "      <td>ENSG00000110852.4</td>\n",
       "    </tr>\n",
       "    <tr>\n",
       "      <th>11383571</th>\n",
       "      <td>ENSG00000251578.1</td>\n",
       "      <td>ENSG00000198189.10</td>\n",
       "    </tr>\n",
       "    <tr>\n",
       "      <th>1617963</th>\n",
       "      <td>ENSG00000100483.13</td>\n",
       "      <td>ENSG00000274180.1</td>\n",
       "    </tr>\n",
       "    <tr>\n",
       "      <th>10506160</th>\n",
       "      <td>ENSG00000222112.1</td>\n",
       "      <td>ENSG00000079277.19</td>\n",
       "    </tr>\n",
       "    <tr>\n",
       "      <th>12222845</th>\n",
       "      <td>ENSG00000276597.1</td>\n",
       "      <td>ENSG00000255163.1</td>\n",
       "    </tr>\n",
       "    <tr>\n",
       "      <th>10048076</th>\n",
       "      <td>ENSG00000211725.3</td>\n",
       "      <td>ENSG00000204622.11</td>\n",
       "    </tr>\n",
       "    <tr>\n",
       "      <th>50513</th>\n",
       "      <td>ENSG00000004700.15</td>\n",
       "      <td>ENSG00000096433.10</td>\n",
       "    </tr>\n",
       "  </tbody>\n",
       "</table>\n",
       "</div>"
      ],
      "text/plain": [
       "                       gene0               gene1\n",
       "1692344    ENSG00000100941.8  ENSG00000137575.11\n",
       "8616440   ENSG00000182220.14   ENSG00000225101.4\n",
       "8056444   ENSG00000174600.13  ENSG00000175274.18\n",
       "736268    ENSG00000067066.16   ENSG00000110852.4\n",
       "11383571   ENSG00000251578.1  ENSG00000198189.10\n",
       "1617963   ENSG00000100483.13   ENSG00000274180.1\n",
       "10506160   ENSG00000222112.1  ENSG00000079277.19\n",
       "12222845   ENSG00000276597.1   ENSG00000255163.1\n",
       "10048076   ENSG00000211725.3  ENSG00000204622.11\n",
       "50513     ENSG00000004700.15  ENSG00000096433.10"
      ]
     },
     "metadata": {},
     "output_type": "display_data"
    },
    {
     "data": {
      "text/plain": [
       "(10,)"
      ]
     },
     "metadata": {},
     "output_type": "display_data"
    },
    {
     "data": {
      "text/plain": [
       "ENSG00000100941.8   ENSG00000137575.11    0.368722\n",
       "ENSG00000182220.14  ENSG00000225101.4     0.253846\n",
       "ENSG00000174600.13  ENSG00000175274.18    0.174016\n",
       "ENSG00000067066.16  ENSG00000110852.4     0.240572\n",
       "ENSG00000251578.1   ENSG00000198189.10    0.180615\n",
       "dtype: float64"
      ]
     },
     "metadata": {},
     "output_type": "display_data"
    }
   ],
   "source": [
    "# testing\n",
    "# gene_set_key = \"Clustermatch (high), Pearson (high), Spearman (high)\"\n",
    "gene_set = pd.read_pickle(all_sample_files[0][1]).sample(n=10)\n",
    "display(gene_set)\n",
    "\n",
    "_res = _compute_mic(list(gene_set.itertuples(index=False)))\n",
    "display(_res.shape)\n",
    "display(_res.head())\n",
    "\n",
    "# make sure order is preserved\n",
    "assert _res.index.to_list() == list(gene_set.itertuples(index=False, name=None))"
   ]
  },
  {
   "cell_type": "code",
   "execution_count": 26,
   "id": "df927e8f-203d-41df-a5f1-25d6c9a43d53",
   "metadata": {
    "execution": {
     "iopub.execute_input": "2022-01-28T17:53:10.331217Z",
     "iopub.status.busy": "2022-01-28T17:53:10.330730Z",
     "iopub.status.idle": "2022-01-28T17:53:10.356950Z",
     "shell.execute_reply": "2022-01-28T17:53:10.356536Z"
    },
    "papermill": {
     "duration": 0.070239,
     "end_time": "2022-01-28T17:53:10.357049",
     "exception": false,
     "start_time": "2022-01-28T17:53:10.286810",
     "status": "completed"
    },
    "tags": []
   },
   "outputs": [],
   "source": [
    "all_chunks = []\n",
    "\n",
    "for (sample_id, sample_file) in all_sample_files:\n",
    "    gene_pairs_df = pd.read_pickle(sample_file)\n",
    "    gene_pairs_subset = list(gene_pairs_df.itertuples(index=False, name=None))\n",
    "\n",
    "    for chunk in list(chunker(gene_pairs_subset, CHUNK_SIZE)):\n",
    "        all_chunks.append((sample_id, chunk))"
   ]
  },
  {
   "cell_type": "code",
   "execution_count": 27,
   "id": "3ba05517-1b61-40ee-8333-17e1a2088de9",
   "metadata": {
    "execution": {
     "iopub.execute_input": "2022-01-28T17:53:10.422414Z",
     "iopub.status.busy": "2022-01-28T17:53:10.421924Z",
     "iopub.status.idle": "2022-01-28T17:53:10.424134Z",
     "shell.execute_reply": "2022-01-28T17:53:10.424472Z"
    },
    "papermill": {
     "duration": 0.036928,
     "end_time": "2022-01-28T17:53:10.424593",
     "exception": false,
     "start_time": "2022-01-28T17:53:10.387665",
     "status": "completed"
    },
    "tags": []
   },
   "outputs": [
    {
     "data": {
      "text/plain": [
       "1000"
      ]
     },
     "execution_count": 27,
     "metadata": {},
     "output_type": "execute_result"
    }
   ],
   "source": [
    "len(all_chunks)"
   ]
  },
  {
   "cell_type": "code",
   "execution_count": 28,
   "id": "5b2aec09-987c-4506-87c2-5d9e8107d9ca",
   "metadata": {
    "execution": {
     "iopub.execute_input": "2022-01-28T17:53:10.493701Z",
     "iopub.status.busy": "2022-01-28T17:53:10.493267Z",
     "iopub.status.idle": "2022-01-28T17:53:10.499568Z",
     "shell.execute_reply": "2022-01-28T17:53:10.499181Z"
    },
    "papermill": {
     "duration": 0.043933,
     "end_time": "2022-01-28T17:53:10.499663",
     "exception": false,
     "start_time": "2022-01-28T17:53:10.455730",
     "status": "completed"
    },
    "tags": []
   },
   "outputs": [
    {
     "data": {
      "text/plain": [
       "[(0,\n",
       "  [('ENSG00000181192.11', 'ENSG00000144579.7'),\n",
       "   ('ENSG00000111641.11', 'ENSG00000258476.5'),\n",
       "   ('ENSG00000172081.13', 'ENSG00000130429.12'),\n",
       "   ('ENSG00000105255.10', 'ENSG00000231721.6'),\n",
       "   ('ENSG00000153310.19', 'ENSG00000241657.1'),\n",
       "   ('ENSG00000175063.16', 'ENSG00000178607.15'),\n",
       "   ('ENSG00000143401.14', 'ENSG00000159588.14'),\n",
       "   ('ENSG00000058668.14', 'ENSG00000162366.7'),\n",
       "   ('ENSG00000169967.16', 'ENSG00000205423.11'),\n",
       "   ('ENSG00000166145.14', 'ENSG00000230076.1'),\n",
       "   ('ENSG00000144040.12', 'ENSG00000224383.7'),\n",
       "   ('ENSG00000069399.14', 'ENSG00000149489.8'),\n",
       "   ('ENSG00000117697.14', 'ENSG00000120694.19'),\n",
       "   ('ENSG00000279430.1', 'ENSG00000211943.2'),\n",
       "   ('ENSG00000013563.13', 'ENSG00000211885.1'),\n",
       "   ('ENSG00000096088.16', 'ENSG00000110315.6'),\n",
       "   ('ENSG00000140443.13', 'ENSG00000122861.15'),\n",
       "   ('ENSG00000103111.14', 'ENSG00000234506.5'),\n",
       "   ('ENSG00000168297.15', 'ENSG00000169045.17'),\n",
       "   ('ENSG00000221988.12', 'ENSG00000277978.1'),\n",
       "   ('ENSG00000099308.10', 'ENSG00000051128.18'),\n",
       "   ('ENSG00000140443.13', 'ENSG00000092020.10'),\n",
       "   ('ENSG00000198886.2', 'ENSG00000136603.13'),\n",
       "   ('ENSG00000008294.20', 'ENSG00000163513.17'),\n",
       "   ('ENSG00000239961.2', 'ENSG00000160305.17'),\n",
       "   ('ENSG00000030110.12', 'ENSG00000128708.12'),\n",
       "   ('ENSG00000159314.11', 'ENSG00000160685.13'),\n",
       "   ('ENSG00000129465.15', 'ENSG00000221946.7'),\n",
       "   ('ENSG00000149311.18', 'ENSG00000139194.7'),\n",
       "   ('ENSG00000134072.10', 'ENSG00000137806.8'),\n",
       "   ('ENSG00000186088.15', 'ENSG00000184205.14'),\n",
       "   ('ENSG00000137776.16', 'ENSG00000170759.10'),\n",
       "   ('ENSG00000230701.2', 'ENSG00000212283.1'),\n",
       "   ('ENSG00000276107.1', 'ENSG00000155893.12'),\n",
       "   ('ENSG00000142512.14', 'ENSG00000008516.16'),\n",
       "   ('ENSG00000081154.11', 'ENSG00000142303.13'),\n",
       "   ('ENSG00000129968.15', 'ENSG00000070961.15'),\n",
       "   ('ENSG00000162496.8', 'ENSG00000211918.1'),\n",
       "   ('ENSG00000211924.1', 'ENSG00000198113.2'),\n",
       "   ('ENSG00000163600.12', 'ENSG00000211937.3'),\n",
       "   ('ENSG00000061273.17', 'ENSG00000167325.14'),\n",
       "   ('ENSG00000145431.10', 'ENSG00000135655.15'),\n",
       "   ('ENSG00000010310.8', 'ENSG00000115415.18'),\n",
       "   ('ENSG00000131469.12', 'ENSG00000264304.1'),\n",
       "   ('ENSG00000100319.12', 'ENSG00000272821.1'),\n",
       "   ('ENSG00000267990.1', 'ENSG00000211648.2'),\n",
       "   ('ENSG00000158856.17', 'ENSG00000186105.7'),\n",
       "   ('ENSG00000077147.14', 'ENSG00000198502.5'),\n",
       "   ('ENSG00000123338.12', 'ENSG00000138767.12'),\n",
       "   ('ENSG00000272155.1', 'ENSG00000276566.1'),\n",
       "   ('ENSG00000165030.3', 'ENSG00000275302.1'),\n",
       "   ('ENSG00000196511.14', 'ENSG00000277734.7'),\n",
       "   ('ENSG00000136541.14', 'ENSG00000123374.10'),\n",
       "   ('ENSG00000185880.12', 'ENSG00000227671.4'),\n",
       "   ('ENSG00000160318.6', 'ENSG00000280411.1'),\n",
       "   ('ENSG00000225630.1', 'ENSG00000118518.15'),\n",
       "   ('ENSG00000170852.10', 'ENSG00000133961.19'),\n",
       "   ('ENSG00000154310.16', 'ENSG00000008517.16'),\n",
       "   ('ENSG00000142937.11', 'ENSG00000132002.7'),\n",
       "   ('ENSG00000120280.5', 'ENSG00000134294.13'),\n",
       "   ('ENSG00000095564.13', 'ENSG00000261596.2'),\n",
       "   ('ENSG00000089041.16', 'ENSG00000260078.3'),\n",
       "   ('ENSG00000198771.10', 'ENSG00000225783.6'),\n",
       "   ('ENSG00000153029.14', 'ENSG00000148154.9'),\n",
       "   ('ENSG00000070495.14', 'ENSG00000081320.10'),\n",
       "   ('ENSG00000157450.15', 'ENSG00000173706.12'),\n",
       "   ('ENSG00000256269.7', 'ENSG00000183049.12'),\n",
       "   ('ENSG00000225940.5', 'ENSG00000105205.6'),\n",
       "   ('ENSG00000132703.3', 'ENSG00000137076.20'),\n",
       "   ('ENSG00000110651.11', 'ENSG00000170290.3'),\n",
       "   ('ENSG00000271178.1', 'ENSG00000232334.1'),\n",
       "   ('ENSG00000170909.13', 'ENSG00000243955.5'),\n",
       "   ('ENSG00000213339.8', 'ENSG00000136235.15'),\n",
       "   ('ENSG00000119820.10', 'ENSG00000187257.15'),\n",
       "   ('ENSG00000175573.6', 'ENSG00000125430.8'),\n",
       "   ('ENSG00000180891.12', 'ENSG00000135486.17'),\n",
       "   ('ENSG00000230795.3', 'ENSG00000131724.10'),\n",
       "   ('ENSG00000108932.11', 'ENSG00000150687.11'),\n",
       "   ('ENSG00000106327.12', 'ENSG00000133742.13'),\n",
       "   ('ENSG00000003756.16', 'ENSG00000103365.15'),\n",
       "   ('ENSG00000032219.18', 'ENSG00000162734.12'),\n",
       "   ('ENSG00000233476.3', 'ENSG00000133961.19'),\n",
       "   ('ENSG00000150347.14', 'ENSG00000184221.12'),\n",
       "   ('ENSG00000211952.3', 'ENSG00000113140.10'),\n",
       "   ('ENSG00000177469.12', 'ENSG00000119314.15'),\n",
       "   ('ENSG00000187514.16', 'ENSG00000138744.14'),\n",
       "   ('ENSG00000136877.14', 'ENSG00000173369.15'),\n",
       "   ('ENSG00000181481.13', 'ENSG00000211769.1'),\n",
       "   ('ENSG00000130511.15', 'ENSG00000111885.6'),\n",
       "   ('ENSG00000225963.7', 'ENSG00000180739.13'),\n",
       "   ('ENSG00000215301.9', 'ENSG00000106780.8'),\n",
       "   ('ENSG00000175471.19', 'ENSG00000179388.8'),\n",
       "   ('ENSG00000274425.1', 'ENSG00000143226.13'),\n",
       "   ('ENSG00000137492.7', 'ENSG00000143226.13'),\n",
       "   ('ENSG00000211699.2', 'ENSG00000174123.10'),\n",
       "   ('ENSG00000254030.1', 'ENSG00000165029.15'),\n",
       "   ('ENSG00000155827.11', 'ENSG00000127947.15'),\n",
       "   ('ENSG00000127947.15', 'ENSG00000184613.10'),\n",
       "   ('ENSG00000129749.3', 'ENSG00000151239.13'),\n",
       "   ('ENSG00000174106.2', 'ENSG00000112062.10')]),\n",
       " (0,\n",
       "  [('ENSG00000244398.1', 'ENSG00000261971.6'),\n",
       "   ('ENSG00000124496.12', 'ENSG00000118137.9'),\n",
       "   ('ENSG00000213722.8', 'ENSG00000274712.1'),\n",
       "   ('ENSG00000273899.4', 'ENSG00000211952.3'),\n",
       "   ('ENSG00000057657.15', 'ENSG00000196205.8'),\n",
       "   ('ENSG00000122390.17', 'ENSG00000165025.14'),\n",
       "   ('ENSG00000100030.14', 'ENSG00000198736.11'),\n",
       "   ('ENSG00000115902.10', 'ENSG00000138744.14'),\n",
       "   ('ENSG00000122188.12', 'ENSG00000118520.14'),\n",
       "   ('ENSG00000007312.12', 'ENSG00000204475.9'),\n",
       "   ('ENSG00000110031.12', 'ENSG00000196616.13'),\n",
       "   ('ENSG00000156587.15', 'ENSG00000086544.2'),\n",
       "   ('ENSG00000106636.7', 'ENSG00000167604.13'),\n",
       "   ('ENSG00000196396.9', 'ENSG00000196668.3'),\n",
       "   ('ENSG00000196091.13', 'ENSG00000067840.12'),\n",
       "   ('ENSG00000275385.1', 'ENSG00000136197.12'),\n",
       "   ('ENSG00000177989.13', 'ENSG00000234436.1'),\n",
       "   ('ENSG00000140398.13', 'ENSG00000117834.12'),\n",
       "   ('ENSG00000170298.15', 'ENSG00000135378.3'),\n",
       "   ('ENSG00000168925.10', 'ENSG00000147119.3'),\n",
       "   ('ENSG00000282600.2', 'ENSG00000135709.12'),\n",
       "   ('ENSG00000107771.15', 'ENSG00000160179.18'),\n",
       "   ('ENSG00000159840.15', 'ENSG00000167995.15'),\n",
       "   ('ENSG00000183696.13', 'ENSG00000104814.12'),\n",
       "   ('ENSG00000145780.7', 'ENSG00000250361.7'),\n",
       "   ('ENSG00000255518.1', 'ENSG00000215114.8'),\n",
       "   ('ENSG00000167978.16', 'ENSG00000198763.3'),\n",
       "   ('ENSG00000196396.9', 'ENSG00000167766.18'),\n",
       "   ('ENSG00000187244.10', 'ENSG00000261114.1'),\n",
       "   ('ENSG00000122545.18', 'ENSG00000139505.11'),\n",
       "   ('ENSG00000139631.18', 'ENSG00000170801.9'),\n",
       "   ('ENSG00000077152.9', 'ENSG00000204397.7'),\n",
       "   ('ENSG00000089094.18', 'ENSG00000282122.1'),\n",
       "   ('ENSG00000167978.16', 'ENSG00000196205.8'),\n",
       "   ('ENSG00000075426.11', 'ENSG00000068305.17'),\n",
       "   ('ENSG00000159840.15', 'ENSG00000142789.19'),\n",
       "   ('ENSG00000130813.17', 'ENSG00000103510.19'),\n",
       "   ('ENSG00000251301.6', 'ENSG00000248527.1'),\n",
       "   ('ENSG00000120910.14', 'ENSG00000181751.9'),\n",
       "   ('ENSG00000170873.18', 'ENSG00000169429.10'),\n",
       "   ('ENSG00000085719.12', 'ENSG00000110958.15'),\n",
       "   ('ENSG00000162639.15', 'ENSG00000100365.14'),\n",
       "   ('ENSG00000166313.18', 'ENSG00000207405.1'),\n",
       "   ('ENSG00000112576.12', 'ENSG00000125657.4'),\n",
       "   ('ENSG00000186918.13', 'ENSG00000183779.6'),\n",
       "   ('ENSG00000167703.14', 'ENSG00000125834.12'),\n",
       "   ('ENSG00000128591.15', 'ENSG00000258738.1'),\n",
       "   ('ENSG00000267547.1', 'ENSG00000166710.17'),\n",
       "   ('ENSG00000271680.1', 'ENSG00000228703.1'),\n",
       "   ('ENSG00000273899.4', 'ENSG00000211782.2'),\n",
       "   ('ENSG00000108773.10', 'ENSG00000137575.11'),\n",
       "   ('ENSG00000184014.7', 'ENSG00000117859.18'),\n",
       "   ('ENSG00000181826.9', 'ENSG00000182511.11'),\n",
       "   ('ENSG00000138463.8', 'ENSG00000267317.2'),\n",
       "   ('ENSG00000119335.16', 'ENSG00000213347.10'),\n",
       "   ('ENSG00000166741.7', 'ENSG00000148154.9'),\n",
       "   ('ENSG00000196083.9', 'ENSG00000167286.9'),\n",
       "   ('ENSG00000140564.11', 'ENSG00000111321.10'),\n",
       "   ('ENSG00000172023.7', 'ENSG00000117318.8'),\n",
       "   ('ENSG00000135404.11', 'ENSG00000140379.7'),\n",
       "   ('ENSG00000196126.11', 'ENSG00000158104.11'),\n",
       "   ('ENSG00000173868.11', 'ENSG00000099958.14'),\n",
       "   ('ENSG00000091409.14', 'ENSG00000186088.15'),\n",
       "   ('ENSG00000158201.9', 'ENSG00000170180.19'),\n",
       "   ('ENSG00000134900.11', 'ENSG00000156256.14'),\n",
       "   ('ENSG00000120686.11', 'ENSG00000211706.2'),\n",
       "   ('ENSG00000182718.16', 'ENSG00000005961.17'),\n",
       "   ('ENSG00000183891.5', 'ENSG00000144381.16'),\n",
       "   ('ENSG00000256043.2', 'ENSG00000157017.15'),\n",
       "   ('ENSG00000158825.5', 'ENSG00000119900.7'),\n",
       "   ('ENSG00000146112.11', 'ENSG00000147162.13'),\n",
       "   ('ENSG00000167615.16', 'ENSG00000178209.14'),\n",
       "   ('ENSG00000158769.17', 'ENSG00000117834.12'),\n",
       "   ('ENSG00000279320.1', 'ENSG00000111331.12'),\n",
       "   ('ENSG00000175727.13', 'ENSG00000169385.2'),\n",
       "   ('ENSG00000182774.10', 'ENSG00000136040.8'),\n",
       "   ('ENSG00000140743.7', 'ENSG00000171611.9'),\n",
       "   ('ENSG00000174437.16', 'ENSG00000230325.1'),\n",
       "   ('ENSG00000168297.15', 'ENSG00000152291.13'),\n",
       "   ('ENSG00000100580.7', 'ENSG00000225972.1'),\n",
       "   ('ENSG00000127418.14', 'ENSG00000152518.7'),\n",
       "   ('ENSG00000008083.13', 'ENSG00000224195.1'),\n",
       "   ('ENSG00000137776.16', 'ENSG00000184432.9'),\n",
       "   ('ENSG00000140406.3', 'ENSG00000163631.16'),\n",
       "   ('ENSG00000140450.8', 'ENSG00000102837.6'),\n",
       "   ('ENSG00000015285.10', 'ENSG00000148925.10'),\n",
       "   ('ENSG00000100219.16', 'ENSG00000165732.12'),\n",
       "   ('ENSG00000172939.8', 'ENSG00000091583.10'),\n",
       "   ('ENSG00000121749.15', 'ENSG00000211690.1'),\n",
       "   ('ENSG00000205045.8', 'ENSG00000273253.2'),\n",
       "   ('ENSG00000138802.11', 'ENSG00000100030.14'),\n",
       "   ('ENSG00000165175.15', 'ENSG00000012817.15'),\n",
       "   ('ENSG00000101473.16', 'ENSG00000119402.16'),\n",
       "   ('ENSG00000276317.1', 'ENSG00000282416.1'),\n",
       "   ('ENSG00000155252.13', 'ENSG00000143515.16'),\n",
       "   ('ENSG00000255163.1', 'ENSG00000161944.16'),\n",
       "   ('ENSG00000111652.9', 'ENSG00000171863.12'),\n",
       "   ('ENSG00000164674.15', 'ENSG00000088325.15'),\n",
       "   ('ENSG00000185477.4', 'ENSG00000160446.18'),\n",
       "   ('ENSG00000107281.9', 'ENSG00000196954.13')])]"
      ]
     },
     "execution_count": 28,
     "metadata": {},
     "output_type": "execute_result"
    }
   ],
   "source": [
    "all_chunks[:2]"
   ]
  },
  {
   "cell_type": "code",
   "execution_count": 29,
   "id": "2a961167-6660-47bd-8beb-4e08de26bf05",
   "metadata": {
    "execution": {
     "iopub.execute_input": "2022-01-28T17:53:10.571014Z",
     "iopub.status.busy": "2022-01-28T17:53:10.570541Z",
     "iopub.status.idle": "2022-01-28T18:43:52.105152Z",
     "shell.execute_reply": "2022-01-28T18:43:52.104651Z"
    },
    "papermill": {
     "duration": 3041.572608,
     "end_time": "2022-01-28T18:43:52.105255",
     "exception": false,
     "start_time": "2022-01-28T17:53:10.532647",
     "status": "completed"
    },
    "tags": []
   },
   "outputs": [
    {
     "name": "stderr",
     "output_type": "stream",
     "text": [
      "100%|███████████████████████████████████████████████████████████| 1000/1000 [50:41<00:00,  3.04s/it]\n"
     ]
    }
   ],
   "source": [
    "all_results = defaultdict(list)\n",
    "\n",
    "with ProcessPoolExecutor(max_workers=conf.GENERAL[\"N_JOBS\"]) as executor:\n",
    "    tasks = {\n",
    "        executor.submit(_compute_mic, chunk): sample_id\n",
    "        for sample_id, chunk in all_chunks\n",
    "    }\n",
    "\n",
    "    pbar = tqdm(as_completed(tasks), total=len(all_chunks), ncols=100)\n",
    "\n",
    "    for future in pbar:\n",
    "        sample_id = tasks[future]\n",
    "        sample_file_mic = future.result()\n",
    "\n",
    "        all_results[sample_id].append(sample_file_mic)"
   ]
  },
  {
   "cell_type": "markdown",
   "id": "bd48badf-bfe2-41d1-85b8-c4d8a494b5cd",
   "metadata": {
    "papermill": {
     "duration": 0.260013,
     "end_time": "2022-01-28T18:43:52.625131",
     "exception": false,
     "start_time": "2022-01-28T18:43:52.365118",
     "status": "completed"
    },
    "tags": []
   },
   "source": [
    "# Save for each sample file"
   ]
  },
  {
   "cell_type": "code",
   "execution_count": 30,
   "id": "82b77d46-d4b5-4e02-91b9-acffb848332b",
   "metadata": {
    "execution": {
     "iopub.execute_input": "2022-01-28T18:43:53.180298Z",
     "iopub.status.busy": "2022-01-28T18:43:53.158836Z",
     "iopub.status.idle": "2022-01-28T18:43:54.089986Z",
     "shell.execute_reply": "2022-01-28T18:43:54.089463Z"
    },
    "papermill": {
     "duration": 1.202538,
     "end_time": "2022-01-28T18:43:54.090122",
     "exception": false,
     "start_time": "2022-01-28T18:43:52.887584",
     "status": "completed"
    },
    "tags": []
   },
   "outputs": [],
   "source": [
    "for sample_id in all_results.keys():\n",
    "    sample_file_all_results_df = pd.concat(all_results[sample_id]).sort_index()\n",
    "    assert not sample_file_all_results_df.isna().any()\n",
    "    sample_file_all_results_gene_pairs_set = set(sample_file_all_results_df.index)\n",
    "\n",
    "    # testing: load input gene pairs\n",
    "    sample_file_df = pd.read_pickle(\n",
    "        INPUT_GENE_PAIRS_FILE_TEMPLATE.format(sample_id=sample_id)\n",
    "    )\n",
    "    assert sample_file_df.drop_duplicates().shape[0] == sample_file_df.shape[0]\n",
    "\n",
    "    # testing: number of gene pairs are the same in input data and in results\n",
    "    assert sample_file_df.shape[0] == sample_file_all_results_df.shape[0]\n",
    "\n",
    "    # testing: make sure gene ids are the same in results as in input gene pairs\n",
    "    sample_file_gene_pairs_list = list(\n",
    "        sample_file_df.itertuples(index=False, name=None)\n",
    "    )\n",
    "    sample_file_gene_pairs_set = set(sample_file_gene_pairs_list)\n",
    "    assert len(sample_file_gene_pairs_set) == len(\n",
    "        sample_file_gene_pairs_set.intersection(sample_file_all_results_gene_pairs_set)\n",
    "    )\n",
    "\n",
    "    # save results with same order (in gene pairs) as input sample data\n",
    "    sample_file_all_results_df = sample_file_all_results_df.loc[\n",
    "        sample_file_gene_pairs_list\n",
    "    ]\n",
    "    sample_file_all_results_df.to_pickle(\n",
    "        OUTPUT_FILE_TEMPLATE.format(sample_id=sample_id)\n",
    "    )"
   ]
  },
  {
   "cell_type": "code",
   "execution_count": 31,
   "id": "9bc5931e-5cac-4f47-a46f-837e270c4ef4",
   "metadata": {
    "execution": {
     "iopub.execute_input": "2022-01-28T18:43:54.618699Z",
     "iopub.status.busy": "2022-01-28T18:43:54.618221Z",
     "iopub.status.idle": "2022-01-28T18:43:54.623289Z",
     "shell.execute_reply": "2022-01-28T18:43:54.622915Z"
    },
    "papermill": {
     "duration": 0.267427,
     "end_time": "2022-01-28T18:43:54.623384",
     "exception": false,
     "start_time": "2022-01-28T18:43:54.355957",
     "status": "completed"
    },
    "tags": []
   },
   "outputs": [
    {
     "data": {
      "text/plain": [
       "(100000,)"
      ]
     },
     "metadata": {},
     "output_type": "display_data"
    },
    {
     "data": {
      "text/plain": [
       "ENSG00000181192.11  ENSG00000144579.7     0.630906\n",
       "ENSG00000111641.11  ENSG00000258476.5     0.210311\n",
       "ENSG00000172081.13  ENSG00000130429.12    0.643822\n",
       "ENSG00000105255.10  ENSG00000231721.6     0.385814\n",
       "ENSG00000153310.19  ENSG00000241657.1     0.164555\n",
       "dtype: float64"
      ]
     },
     "metadata": {},
     "output_type": "display_data"
    }
   ],
   "source": [
    "# show how one result set looks like\n",
    "display(sample_file_all_results_df.shape)\n",
    "display(sample_file_all_results_df.head())"
   ]
  },
  {
   "cell_type": "code",
   "execution_count": null,
   "id": "86d4a81e-927e-4c3e-93d1-47df1931ad5a",
   "metadata": {
    "papermill": {
     "duration": 0.271086,
     "end_time": "2022-01-28T18:43:55.156878",
     "exception": false,
     "start_time": "2022-01-28T18:43:54.885792",
     "status": "completed"
    },
    "tags": []
   },
   "outputs": [],
   "source": []
  }
 ],
 "metadata": {
  "jupytext": {
   "cell_metadata_filter": "all,-execution,-papermill,-trusted"
  },
  "kernelspec": {
   "display_name": "Python 3 (ipykernel)",
   "language": "python",
   "name": "python3"
  },
  "language_info": {
   "codemirror_mode": {
    "name": "ipython",
    "version": 3
   },
   "file_extension": ".py",
   "mimetype": "text/x-python",
   "name": "python",
   "nbconvert_exporter": "python",
   "pygments_lexer": "ipython3",
   "version": "3.9.9"
  },
  "papermill": {
   "default_parameters": {},
   "duration": 3051.417312,
   "end_time": "2022-01-28T18:43:55.749751",
   "environment_variables": {},
   "exception": null,
   "input_path": "nbs/20_comparison_others/05_02-gtex_whole_blood-sample_all_gene_pairs-mic.ipynb",
   "output_path": "nbs/20_comparison_others/05_02-gtex_whole_blood-sample_all_gene_pairs-mic.run.ipynb",
   "parameters": {},
   "start_time": "2022-01-28T17:53:04.332439",
   "version": "2.3.4"
  },
  "toc-autonumbering": true
 },
 "nbformat": 4,
 "nbformat_minor": 5
}
