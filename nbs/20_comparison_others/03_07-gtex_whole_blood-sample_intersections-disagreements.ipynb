{
 "cells": [
  {
   "cell_type": "markdown",
   "id": "87e0ce1b-7ce6-4499-9342-5ded05307598",
   "metadata": {
    "papermill": {
     "duration": 0.058609,
     "end_time": "2022-01-28T15:27:09.633848",
     "exception": false,
     "start_time": "2022-01-28T15:27:09.575239",
     "status": "completed"
    },
    "tags": []
   },
   "source": [
    "# Description"
   ]
  },
  {
   "cell_type": "markdown",
   "id": "4bfc7115-350a-441b-9a19-7626a948a694",
   "metadata": {
    "papermill": {
     "duration": 0.024034,
     "end_time": "2022-01-28T15:27:09.681222",
     "exception": false,
     "start_time": "2022-01-28T15:27:09.657188",
     "status": "completed"
    },
    "tags": []
   },
   "source": [
    "From the intersections groups (visualized in the UpSet plot), it takes all gene pairs from the \"Disagreements\" groups and saves them.\n",
    "\n",
    "This notebook does not sample, since the \"disagreements\" group is small, but I keep the same for convienience."
   ]
  },
  {
   "cell_type": "markdown",
   "id": "e020c781-238b-43c2-8cad-2722b8a240e2",
   "metadata": {
    "papermill": {
     "duration": 0.022732,
     "end_time": "2022-01-28T15:27:09.726748",
     "exception": false,
     "start_time": "2022-01-28T15:27:09.704016",
     "status": "completed"
    },
    "tags": []
   },
   "source": [
    "# Modules"
   ]
  },
  {
   "cell_type": "code",
   "execution_count": 1,
   "id": "a819bfbc-5009-4c68-ba8d-37d0979d368f",
   "metadata": {
    "execution": {
     "iopub.execute_input": "2022-01-28T15:27:09.779650Z",
     "iopub.status.busy": "2022-01-28T15:27:09.779178Z",
     "iopub.status.idle": "2022-01-28T15:27:10.020530Z",
     "shell.execute_reply": "2022-01-28T15:27:10.020880Z"
    },
    "papermill": {
     "duration": 0.270844,
     "end_time": "2022-01-28T15:27:10.021065",
     "exception": false,
     "start_time": "2022-01-28T15:27:09.750221",
     "status": "completed"
    },
    "tags": []
   },
   "outputs": [],
   "source": [
    "import pandas as pd\n",
    "import numpy as np\n",
    "\n",
    "from clustermatch import conf"
   ]
  },
  {
   "cell_type": "markdown",
   "id": "b4834387-58ff-468c-b326-85c408bc5feb",
   "metadata": {
    "papermill": {
     "duration": 0.023216,
     "end_time": "2022-01-28T15:27:10.067926",
     "exception": false,
     "start_time": "2022-01-28T15:27:10.044710",
     "status": "completed"
    },
    "tags": []
   },
   "source": [
    "# Settings"
   ]
  },
  {
   "cell_type": "code",
   "execution_count": 2,
   "id": "765e820a-4518-4bbc-a00f-14c9cea03821",
   "metadata": {
    "execution": {
     "iopub.execute_input": "2022-01-28T15:27:10.117496Z",
     "iopub.status.busy": "2022-01-28T15:27:10.117002Z",
     "iopub.status.idle": "2022-01-28T15:27:10.118754Z",
     "shell.execute_reply": "2022-01-28T15:27:10.119102Z"
    },
    "papermill": {
     "duration": 0.028634,
     "end_time": "2022-01-28T15:27:10.119221",
     "exception": false,
     "start_time": "2022-01-28T15:27:10.090587",
     "status": "completed"
    },
    "tags": []
   },
   "outputs": [],
   "source": [
    "DATASET_CONFIG = conf.GTEX\n",
    "GTEX_TISSUE = \"whole_blood\"\n",
    "GENE_SEL_STRATEGY = \"var_pc_log2\""
   ]
  },
  {
   "cell_type": "code",
   "execution_count": 3,
   "id": "85ee3634-e24a-45d1-8209-5e1b7e81d5d0",
   "metadata": {
    "execution": {
     "iopub.execute_input": "2022-01-28T15:27:10.168945Z",
     "iopub.status.busy": "2022-01-28T15:27:10.168491Z",
     "iopub.status.idle": "2022-01-28T15:27:10.169994Z",
     "shell.execute_reply": "2022-01-28T15:27:10.170334Z"
    },
    "papermill": {
     "duration": 0.027317,
     "end_time": "2022-01-28T15:27:10.170444",
     "exception": false,
     "start_time": "2022-01-28T15:27:10.143127",
     "status": "completed"
    },
    "tags": []
   },
   "outputs": [],
   "source": [
    "# # amount of gene pairs to sample\n",
    "# SAMPLE_SIZE = 30000\n",
    "\n",
    "# # number of samples to take\n",
    "# N_SAMPLES = 10"
   ]
  },
  {
   "cell_type": "markdown",
   "id": "a1159982-5dd1-4494-97d4-0674eeead1c3",
   "metadata": {
    "papermill": {
     "duration": 0.022617,
     "end_time": "2022-01-28T15:27:10.216168",
     "exception": false,
     "start_time": "2022-01-28T15:27:10.193551",
     "status": "completed"
    },
    "tags": []
   },
   "source": [
    "# Paths"
   ]
  },
  {
   "cell_type": "code",
   "execution_count": 4,
   "id": "30cce6f5-ca1b-438c-859d-31903a42d4c6",
   "metadata": {
    "execution": {
     "iopub.execute_input": "2022-01-28T15:27:10.270477Z",
     "iopub.status.busy": "2022-01-28T15:27:10.269921Z",
     "iopub.status.idle": "2022-01-28T15:27:10.272632Z",
     "shell.execute_reply": "2022-01-28T15:27:10.272254Z"
    },
    "papermill": {
     "duration": 0.033769,
     "end_time": "2022-01-28T15:27:10.272725",
     "exception": false,
     "start_time": "2022-01-28T15:27:10.238956",
     "status": "completed"
    },
    "tags": []
   },
   "outputs": [
    {
     "data": {
      "text/plain": [
       "PosixPath('/opt/data/results/gtex_v8/gene_pair_intersections/gene_pair_intersections-gtex_v8-whole_blood-var_pc_log2.pkl')"
      ]
     },
     "metadata": {},
     "output_type": "display_data"
    }
   ],
   "source": [
    "INPUT_GENE_PAIRS_INTERSECTIONS_FILE = (\n",
    "    DATASET_CONFIG[\"GENE_PAIR_INTERSECTIONS\"]\n",
    "    / f\"gene_pair_intersections-gtex_v8-{GTEX_TISSUE}-{GENE_SEL_STRATEGY}.pkl\"\n",
    ")\n",
    "display(INPUT_GENE_PAIRS_INTERSECTIONS_FILE)\n",
    "\n",
    "assert INPUT_GENE_PAIRS_INTERSECTIONS_FILE.exists()"
   ]
  },
  {
   "cell_type": "code",
   "execution_count": 5,
   "id": "a0e237b4-fdf7-44ef-bbcf-50bf2f5a4355",
   "metadata": {
    "execution": {
     "iopub.execute_input": "2022-01-28T15:27:10.323390Z",
     "iopub.status.busy": "2022-01-28T15:27:10.322838Z",
     "iopub.status.idle": "2022-01-28T15:27:10.325045Z",
     "shell.execute_reply": "2022-01-28T15:27:10.325385Z"
    },
    "papermill": {
     "duration": 0.029292,
     "end_time": "2022-01-28T15:27:10.325499",
     "exception": false,
     "start_time": "2022-01-28T15:27:10.296207",
     "status": "completed"
    },
    "tags": []
   },
   "outputs": [
    {
     "data": {
      "text/plain": [
       "PosixPath('/opt/data/results/gtex_v8/gene_pair_intersections/samples')"
      ]
     },
     "metadata": {},
     "output_type": "display_data"
    }
   ],
   "source": [
    "OUTPUT_DIR = INPUT_GENE_PAIRS_INTERSECTIONS_FILE.parent / \"samples\"\n",
    "OUTPUT_DIR.mkdir(parents=True, exist_ok=True)\n",
    "display(OUTPUT_DIR)"
   ]
  },
  {
   "cell_type": "code",
   "execution_count": 6,
   "id": "f4468c0e-c0ad-4bf5-b120-3f63e7afc33f",
   "metadata": {
    "execution": {
     "iopub.execute_input": "2022-01-28T15:27:10.378437Z",
     "iopub.status.busy": "2022-01-28T15:27:10.377895Z",
     "iopub.status.idle": "2022-01-28T15:27:10.380549Z",
     "shell.execute_reply": "2022-01-28T15:27:10.380169Z"
    },
    "papermill": {
     "duration": 0.030364,
     "end_time": "2022-01-28T15:27:10.380642",
     "exception": false,
     "start_time": "2022-01-28T15:27:10.350278",
     "status": "completed"
    },
    "tags": []
   },
   "outputs": [
    {
     "data": {
      "text/plain": [
       "'/opt/data/results/gtex_v8/gene_pair_intersections/samples/gene_pair_intersections-gtex_v8-whole_blood-var_pc_log2-disagreements_sample_{sample_id}.pkl'"
      ]
     },
     "metadata": {},
     "output_type": "display_data"
    }
   ],
   "source": [
    "OUTPUT_FILE_TEMPLATE = str(\n",
    "    OUTPUT_DIR\n",
    "    / (\n",
    "        f\"{INPUT_GENE_PAIRS_INTERSECTIONS_FILE.stem}-disagreements_sample_\"\n",
    "        + \"{sample_id}\"\n",
    "        + \".pkl\"\n",
    "    )\n",
    ")\n",
    "\n",
    "display(OUTPUT_FILE_TEMPLATE)"
   ]
  },
  {
   "cell_type": "markdown",
   "id": "f6d3322b-c8bb-4fc2-97b6-5bb1793b1577",
   "metadata": {
    "papermill": {
     "duration": 0.023618,
     "end_time": "2022-01-28T15:27:10.428705",
     "exception": false,
     "start_time": "2022-01-28T15:27:10.405087",
     "status": "completed"
    },
    "tags": []
   },
   "source": [
    "# Data"
   ]
  },
  {
   "cell_type": "markdown",
   "id": "afa308c9-d84d-4127-b3b1-7187e1f8b813",
   "metadata": {
    "papermill": {
     "duration": 0.023595,
     "end_time": "2022-01-28T15:27:10.475732",
     "exception": false,
     "start_time": "2022-01-28T15:27:10.452137",
     "status": "completed"
    },
    "tags": []
   },
   "source": [
    "## Gene pairs intersection data"
   ]
  },
  {
   "cell_type": "code",
   "execution_count": 7,
   "id": "01489ae7-fdfb-4861-931b-e9c8708a6931",
   "metadata": {
    "execution": {
     "iopub.execute_input": "2022-01-28T15:27:10.527013Z",
     "iopub.status.busy": "2022-01-28T15:27:10.526562Z",
     "iopub.status.idle": "2022-01-28T15:27:10.528133Z",
     "shell.execute_reply": "2022-01-28T15:27:10.528475Z"
    },
    "papermill": {
     "duration": 0.028732,
     "end_time": "2022-01-28T15:27:10.528592",
     "exception": false,
     "start_time": "2022-01-28T15:27:10.499860",
     "status": "completed"
    },
    "tags": []
   },
   "outputs": [],
   "source": [
    "def is_intersection_column(column_name):\n",
    "    return \" (high)\" in column_name or \" (low)\" in column_name"
   ]
  },
  {
   "cell_type": "code",
   "execution_count": 8,
   "id": "2b666b63-326b-43cd-8550-51f550be337a",
   "metadata": {
    "execution": {
     "iopub.execute_input": "2022-01-28T15:27:10.579641Z",
     "iopub.status.busy": "2022-01-28T15:27:10.579173Z",
     "iopub.status.idle": "2022-01-28T15:27:10.812609Z",
     "shell.execute_reply": "2022-01-28T15:27:10.812089Z"
    },
    "papermill": {
     "duration": 0.260066,
     "end_time": "2022-01-28T15:27:10.812738",
     "exception": false,
     "start_time": "2022-01-28T15:27:10.552672",
     "status": "completed"
    },
    "tags": []
   },
   "outputs": [],
   "source": [
    "gene_pairs_intersections = pd.read_pickle(INPUT_GENE_PAIRS_INTERSECTIONS_FILE)"
   ]
  },
  {
   "cell_type": "code",
   "execution_count": 9,
   "id": "bd22828a-ffd1-4aec-afdf-418e9d5f9e4d",
   "metadata": {
    "execution": {
     "iopub.execute_input": "2022-01-28T15:27:10.940170Z",
     "iopub.status.busy": "2022-01-28T15:27:10.924135Z",
     "iopub.status.idle": "2022-01-28T15:27:10.942224Z",
     "shell.execute_reply": "2022-01-28T15:27:10.942629Z"
    },
    "papermill": {
     "duration": 0.099196,
     "end_time": "2022-01-28T15:27:10.942757",
     "exception": false,
     "start_time": "2022-01-28T15:27:10.843561",
     "status": "completed"
    },
    "tags": []
   },
   "outputs": [],
   "source": [
    "gene_pairs_intersections = gene_pairs_intersections[\n",
    "    [c for c in gene_pairs_intersections.columns if is_intersection_column(c)]\n",
    "]"
   ]
  },
  {
   "cell_type": "code",
   "execution_count": 10,
   "id": "42c819c5-1681-4694-8abc-4d906f9aba8c",
   "metadata": {
    "execution": {
     "iopub.execute_input": "2022-01-28T15:27:10.997023Z",
     "iopub.status.busy": "2022-01-28T15:27:10.996487Z",
     "iopub.status.idle": "2022-01-28T15:27:10.998807Z",
     "shell.execute_reply": "2022-01-28T15:27:10.999164Z"
    },
    "papermill": {
     "duration": 0.03011,
     "end_time": "2022-01-28T15:27:10.999277",
     "exception": false,
     "start_time": "2022-01-28T15:27:10.969167",
     "status": "completed"
    },
    "tags": []
   },
   "outputs": [
    {
     "data": {
      "text/plain": [
       "(12497500, 6)"
      ]
     },
     "execution_count": 10,
     "metadata": {},
     "output_type": "execute_result"
    }
   ],
   "source": [
    "gene_pairs_intersections.shape"
   ]
  },
  {
   "cell_type": "code",
   "execution_count": 11,
   "id": "94fde3b3-5288-4539-8dcf-fe15ae2a4719",
   "metadata": {
    "execution": {
     "iopub.execute_input": "2022-01-28T15:27:11.058068Z",
     "iopub.status.busy": "2022-01-28T15:27:11.057591Z",
     "iopub.status.idle": "2022-01-28T15:27:11.059496Z",
     "shell.execute_reply": "2022-01-28T15:27:11.059855Z"
    },
    "papermill": {
     "duration": 0.036059,
     "end_time": "2022-01-28T15:27:11.060033",
     "exception": false,
     "start_time": "2022-01-28T15:27:11.023974",
     "status": "completed"
    },
    "tags": []
   },
   "outputs": [
    {
     "data": {
      "text/html": [
       "<div>\n",
       "<style scoped>\n",
       "    .dataframe tbody tr th:only-of-type {\n",
       "        vertical-align: middle;\n",
       "    }\n",
       "\n",
       "    .dataframe tbody tr th {\n",
       "        vertical-align: top;\n",
       "    }\n",
       "\n",
       "    .dataframe thead th {\n",
       "        text-align: right;\n",
       "    }\n",
       "</style>\n",
       "<table border=\"1\" class=\"dataframe\">\n",
       "  <thead>\n",
       "    <tr style=\"text-align: right;\">\n",
       "      <th></th>\n",
       "      <th></th>\n",
       "      <th>Pearson (high)</th>\n",
       "      <th>Pearson (low)</th>\n",
       "      <th>Spearman (high)</th>\n",
       "      <th>Spearman (low)</th>\n",
       "      <th>Clustermatch (high)</th>\n",
       "      <th>Clustermatch (low)</th>\n",
       "    </tr>\n",
       "  </thead>\n",
       "  <tbody>\n",
       "    <tr>\n",
       "      <th rowspan=\"5\" valign=\"top\">ENSG00000000419.12</th>\n",
       "      <th>ENSG00000002834.17</th>\n",
       "      <td>True</td>\n",
       "      <td>False</td>\n",
       "      <td>True</td>\n",
       "      <td>False</td>\n",
       "      <td>True</td>\n",
       "      <td>False</td>\n",
       "    </tr>\n",
       "    <tr>\n",
       "      <th>ENSG00000002919.14</th>\n",
       "      <td>True</td>\n",
       "      <td>False</td>\n",
       "      <td>True</td>\n",
       "      <td>False</td>\n",
       "      <td>True</td>\n",
       "      <td>False</td>\n",
       "    </tr>\n",
       "    <tr>\n",
       "      <th>ENSG00000002933.7</th>\n",
       "      <td>False</td>\n",
       "      <td>True</td>\n",
       "      <td>False</td>\n",
       "      <td>True</td>\n",
       "      <td>False</td>\n",
       "      <td>True</td>\n",
       "    </tr>\n",
       "    <tr>\n",
       "      <th>ENSG00000003402.19</th>\n",
       "      <td>True</td>\n",
       "      <td>False</td>\n",
       "      <td>True</td>\n",
       "      <td>False</td>\n",
       "      <td>True</td>\n",
       "      <td>False</td>\n",
       "    </tr>\n",
       "    <tr>\n",
       "      <th>ENSG00000004478.7</th>\n",
       "      <td>False</td>\n",
       "      <td>True</td>\n",
       "      <td>False</td>\n",
       "      <td>False</td>\n",
       "      <td>False</td>\n",
       "      <td>False</td>\n",
       "    </tr>\n",
       "  </tbody>\n",
       "</table>\n",
       "</div>"
      ],
      "text/plain": [
       "                                       Pearson (high)  Pearson (low)  \\\n",
       "ENSG00000000419.12 ENSG00000002834.17            True          False   \n",
       "                   ENSG00000002919.14            True          False   \n",
       "                   ENSG00000002933.7            False           True   \n",
       "                   ENSG00000003402.19            True          False   \n",
       "                   ENSG00000004478.7            False           True   \n",
       "\n",
       "                                       Spearman (high)  Spearman (low)  \\\n",
       "ENSG00000000419.12 ENSG00000002834.17             True           False   \n",
       "                   ENSG00000002919.14             True           False   \n",
       "                   ENSG00000002933.7             False            True   \n",
       "                   ENSG00000003402.19             True           False   \n",
       "                   ENSG00000004478.7             False           False   \n",
       "\n",
       "                                       Clustermatch (high)  Clustermatch (low)  \n",
       "ENSG00000000419.12 ENSG00000002834.17                 True               False  \n",
       "                   ENSG00000002919.14                 True               False  \n",
       "                   ENSG00000002933.7                 False                True  \n",
       "                   ENSG00000003402.19                 True               False  \n",
       "                   ENSG00000004478.7                 False               False  "
      ]
     },
     "execution_count": 11,
     "metadata": {},
     "output_type": "execute_result"
    }
   ],
   "source": [
    "gene_pairs_intersections.head()"
   ]
  },
  {
   "cell_type": "markdown",
   "id": "b030f506-2fe9-4895-a8a1-51374e88c496",
   "metadata": {
    "papermill": {
     "duration": 0.024538,
     "end_time": "2022-01-28T15:27:11.109223",
     "exception": false,
     "start_time": "2022-01-28T15:27:11.084685",
     "status": "completed"
    },
    "tags": []
   },
   "source": [
    "## Gene pairs intersection - gene pairs"
   ]
  },
  {
   "cell_type": "code",
   "execution_count": 12,
   "id": "da1d768a-fbfb-40e8-8fbb-790d1a94aa83",
   "metadata": {
    "execution": {
     "iopub.execute_input": "2022-01-28T15:27:11.161541Z",
     "iopub.status.busy": "2022-01-28T15:27:11.161092Z",
     "iopub.status.idle": "2022-01-28T15:27:11.162583Z",
     "shell.execute_reply": "2022-01-28T15:27:11.162932Z"
    },
    "papermill": {
     "duration": 0.029165,
     "end_time": "2022-01-28T15:27:11.163043",
     "exception": false,
     "start_time": "2022-01-28T15:27:11.133878",
     "status": "completed"
    },
    "tags": []
   },
   "outputs": [],
   "source": [
    "# gene_pairs_df = gene_pairs_intersections.rename_axis((\"gene0\", \"gene1\")).index.to_frame(index=False)"
   ]
  },
  {
   "cell_type": "code",
   "execution_count": 13,
   "id": "6123d474-0c0d-4771-9678-248ce89424ce",
   "metadata": {
    "execution": {
     "iopub.execute_input": "2022-01-28T15:27:11.215593Z",
     "iopub.status.busy": "2022-01-28T15:27:11.215110Z",
     "iopub.status.idle": "2022-01-28T15:27:11.216690Z",
     "shell.execute_reply": "2022-01-28T15:27:11.217046Z"
    },
    "papermill": {
     "duration": 0.029408,
     "end_time": "2022-01-28T15:27:11.217157",
     "exception": false,
     "start_time": "2022-01-28T15:27:11.187749",
     "status": "completed"
    },
    "tags": []
   },
   "outputs": [],
   "source": [
    "# gene_pairs_df.shape"
   ]
  },
  {
   "cell_type": "code",
   "execution_count": 14,
   "id": "b028abd8-c5b1-48c2-aa5e-cb1b49c943a4",
   "metadata": {
    "execution": {
     "iopub.execute_input": "2022-01-28T15:27:11.271342Z",
     "iopub.status.busy": "2022-01-28T15:27:11.270878Z",
     "iopub.status.idle": "2022-01-28T15:27:11.272546Z",
     "shell.execute_reply": "2022-01-28T15:27:11.272884Z"
    },
    "papermill": {
     "duration": 0.029945,
     "end_time": "2022-01-28T15:27:11.272998",
     "exception": false,
     "start_time": "2022-01-28T15:27:11.243053",
     "status": "completed"
    },
    "tags": []
   },
   "outputs": [],
   "source": [
    "# gene_pairs_df.head()"
   ]
  },
  {
   "cell_type": "markdown",
   "id": "b0c529c2-658c-4886-bbd4-0457a649ee36",
   "metadata": {
    "papermill": {
     "duration": 0.02428,
     "end_time": "2022-01-28T15:27:11.322310",
     "exception": false,
     "start_time": "2022-01-28T15:27:11.298030",
     "status": "completed"
    },
    "tags": []
   },
   "source": [
    "# Functions"
   ]
  },
  {
   "cell_type": "code",
   "execution_count": 15,
   "id": "4aec55f9-c449-4871-991d-1ed84e22b82e",
   "metadata": {
    "execution": {
     "iopub.execute_input": "2022-01-28T15:27:11.374621Z",
     "iopub.status.busy": "2022-01-28T15:27:11.374170Z",
     "iopub.status.idle": "2022-01-28T15:27:11.376322Z",
     "shell.execute_reply": "2022-01-28T15:27:11.375842Z"
    },
    "papermill": {
     "duration": 0.029749,
     "end_time": "2022-01-28T15:27:11.376414",
     "exception": false,
     "start_time": "2022-01-28T15:27:11.346665",
     "status": "completed"
    },
    "tags": []
   },
   "outputs": [],
   "source": [
    "# df_r_data = df_plot"
   ]
  },
  {
   "cell_type": "code",
   "execution_count": 16,
   "id": "d90335e5-0848-4cf7-bafc-2fddb39fbf76",
   "metadata": {
    "execution": {
     "iopub.execute_input": "2022-01-28T15:27:11.428792Z",
     "iopub.status.busy": "2022-01-28T15:27:11.428260Z",
     "iopub.status.idle": "2022-01-28T15:27:11.430564Z",
     "shell.execute_reply": "2022-01-28T15:27:11.430140Z"
    },
    "papermill": {
     "duration": 0.029593,
     "end_time": "2022-01-28T15:27:11.430654",
     "exception": false,
     "start_time": "2022-01-28T15:27:11.401061",
     "status": "completed"
    },
    "tags": []
   },
   "outputs": [],
   "source": [
    "# df_r_data.head()"
   ]
  },
  {
   "cell_type": "code",
   "execution_count": 17,
   "id": "526cc3fe-06c6-41d0-b0fb-daa95946f7d6",
   "metadata": {
    "execution": {
     "iopub.execute_input": "2022-01-28T15:27:11.483298Z",
     "iopub.status.busy": "2022-01-28T15:27:11.482844Z",
     "iopub.status.idle": "2022-01-28T15:27:11.484447Z",
     "shell.execute_reply": "2022-01-28T15:27:11.484803Z"
    },
    "papermill": {
     "duration": 0.029324,
     "end_time": "2022-01-28T15:27:11.484911",
     "exception": false,
     "start_time": "2022-01-28T15:27:11.455587",
     "status": "completed"
    },
    "tags": []
   },
   "outputs": [],
   "source": [
    "# df_r_data_boolean_cols = set(\n",
    "#     [x for x in df_r_data.columns if \" (high)\" in x or \" (low)\" in x]\n",
    "# )"
   ]
  },
  {
   "cell_type": "code",
   "execution_count": 18,
   "id": "1b317b79-ec8a-4a21-bdf7-0b5ec15c2e28",
   "metadata": {
    "execution": {
     "iopub.execute_input": "2022-01-28T15:27:11.536730Z",
     "iopub.status.busy": "2022-01-28T15:27:11.536274Z",
     "iopub.status.idle": "2022-01-28T15:27:11.537858Z",
     "shell.execute_reply": "2022-01-28T15:27:11.538197Z"
    },
    "papermill": {
     "duration": 0.028792,
     "end_time": "2022-01-28T15:27:11.538311",
     "exception": false,
     "start_time": "2022-01-28T15:27:11.509519",
     "status": "completed"
    },
    "tags": []
   },
   "outputs": [],
   "source": [
    "# df_r_data_boolean_cols"
   ]
  },
  {
   "cell_type": "code",
   "execution_count": 19,
   "id": "ae599640-083e-420b-9ad6-b0436fa74864",
   "metadata": {
    "execution": {
     "iopub.execute_input": "2022-01-28T15:27:11.595062Z",
     "iopub.status.busy": "2022-01-28T15:27:11.594567Z",
     "iopub.status.idle": "2022-01-28T15:27:11.596492Z",
     "shell.execute_reply": "2022-01-28T15:27:11.596105Z"
    },
    "papermill": {
     "duration": 0.032919,
     "end_time": "2022-01-28T15:27:11.596587",
     "exception": false,
     "start_time": "2022-01-28T15:27:11.563668",
     "status": "completed"
    },
    "tags": []
   },
   "outputs": [],
   "source": [
    "def get_gene_pairs(gene_pairs_intersections, query_set):\n",
    "    \"\"\"\n",
    "    FIXME: UPDATE\n",
    "\n",
    "    It queries the given dataframe with the intersections of different groups (i.e.,\n",
    "    clustermatch high, pearson low, etc) given a query set. It returns a slice of\n",
    "    the dataframe according to the query set provided.\n",
    "\n",
    "    Args:\n",
    "        gene_pairs_intersections: a dataframe with gene pairs in rows and intersection\n",
    "            groups as columns (which are boolean). No other columns are allowed.\n",
    "        query_set: a tuple with strings that specifies a query. For example\n",
    "            (\"Clustermatch (high)\", \"Pearson (low\") would select all gene pairs\n",
    "            for which clustermatch is high and pearson is low.\n",
    "\n",
    "    Returns:\n",
    "        A slice of gene pairs in the input dataframe where the conditions specified in query_set\n",
    "        apply.\n",
    "    \"\"\"\n",
    "    assert all([x in gene_pairs_intersections.columns for x in query_set])\n",
    "\n",
    "    query = np.concatenate(\n",
    "        [\n",
    "            # columns that have to be true\n",
    "            np.concatenate(\n",
    "                [\n",
    "                    gene_pairs_intersections[c].to_numpy().reshape(-1, 1)\n",
    "                    for c in query_set\n",
    "                ],\n",
    "                axis=1,\n",
    "            )\n",
    "            .all(axis=1)\n",
    "            .reshape(-1, 1),\n",
    "            # rest of the columns, that have to be false\n",
    "            np.concatenate(\n",
    "                [\n",
    "                    ~gene_pairs_intersections[c].to_numpy().reshape(-1, 1)\n",
    "                    for c in gene_pairs_intersections.columns\n",
    "                    if c not in query_set\n",
    "                ],\n",
    "                axis=1,\n",
    "            )\n",
    "            .all(axis=1)\n",
    "            .reshape(-1, 1),\n",
    "        ],\n",
    "        axis=1,\n",
    "    ).all(axis=1)\n",
    "\n",
    "    _tmp_df = gene_pairs_intersections[query]\n",
    "\n",
    "    # _tmp_df = _tmp_df[\n",
    "    #     [x for x in _tmp_df.columns if \"(high)\" not in x and \"(low)\" not in x]\n",
    "    # ]\n",
    "\n",
    "    return _tmp_df.rename_axis((\"gene0\", \"gene1\")).index.to_frame(index=False)"
   ]
  },
  {
   "cell_type": "code",
   "execution_count": 20,
   "id": "dec0c433-c2da-445e-acb4-2709b9809126",
   "metadata": {
    "execution": {
     "iopub.execute_input": "2022-01-28T15:27:11.650974Z",
     "iopub.status.busy": "2022-01-28T15:27:11.650492Z",
     "iopub.status.idle": "2022-01-28T15:27:12.513221Z",
     "shell.execute_reply": "2022-01-28T15:27:12.512786Z"
    },
    "papermill": {
     "duration": 0.891714,
     "end_time": "2022-01-28T15:27:12.513315",
     "exception": false,
     "start_time": "2022-01-28T15:27:11.621601",
     "status": "completed"
    },
    "tags": []
   },
   "outputs": [
    {
     "data": {
      "text/plain": [
       "gene0    object\n",
       "gene1    object\n",
       "dtype: object"
      ]
     },
     "metadata": {},
     "output_type": "display_data"
    },
    {
     "data": {
      "text/plain": [
       "(3120576, 2)"
      ]
     },
     "metadata": {},
     "output_type": "display_data"
    },
    {
     "data": {
      "text/html": [
       "<div>\n",
       "<style scoped>\n",
       "    .dataframe tbody tr th:only-of-type {\n",
       "        vertical-align: middle;\n",
       "    }\n",
       "\n",
       "    .dataframe tbody tr th {\n",
       "        vertical-align: top;\n",
       "    }\n",
       "\n",
       "    .dataframe thead th {\n",
       "        text-align: right;\n",
       "    }\n",
       "</style>\n",
       "<table border=\"1\" class=\"dataframe\">\n",
       "  <thead>\n",
       "    <tr style=\"text-align: right;\">\n",
       "      <th></th>\n",
       "      <th>gene0</th>\n",
       "      <th>gene1</th>\n",
       "    </tr>\n",
       "  </thead>\n",
       "  <tbody>\n",
       "    <tr>\n",
       "      <th>0</th>\n",
       "      <td>ENSG00000000419.12</td>\n",
       "      <td>ENSG00000002834.17</td>\n",
       "    </tr>\n",
       "    <tr>\n",
       "      <th>1</th>\n",
       "      <td>ENSG00000000419.12</td>\n",
       "      <td>ENSG00000002919.14</td>\n",
       "    </tr>\n",
       "    <tr>\n",
       "      <th>2</th>\n",
       "      <td>ENSG00000000419.12</td>\n",
       "      <td>ENSG00000003402.19</td>\n",
       "    </tr>\n",
       "    <tr>\n",
       "      <th>3</th>\n",
       "      <td>ENSG00000000419.12</td>\n",
       "      <td>ENSG00000004660.14</td>\n",
       "    </tr>\n",
       "    <tr>\n",
       "      <th>4</th>\n",
       "      <td>ENSG00000000419.12</td>\n",
       "      <td>ENSG00000005020.12</td>\n",
       "    </tr>\n",
       "  </tbody>\n",
       "</table>\n",
       "</div>"
      ],
      "text/plain": [
       "                gene0               gene1\n",
       "0  ENSG00000000419.12  ENSG00000002834.17\n",
       "1  ENSG00000000419.12  ENSG00000002919.14\n",
       "2  ENSG00000000419.12  ENSG00000003402.19\n",
       "3  ENSG00000000419.12  ENSG00000004660.14\n",
       "4  ENSG00000000419.12  ENSG00000005020.12"
      ]
     },
     "metadata": {},
     "output_type": "display_data"
    }
   ],
   "source": [
    "_tmp = get_gene_pairs(\n",
    "    gene_pairs_intersections,\n",
    "    {\n",
    "        \"Clustermatch (high)\",\n",
    "        \"Pearson (high)\",\n",
    "        \"Spearman (high)\",\n",
    "    },\n",
    ")\n",
    "\n",
    "display(_tmp.dtypes)\n",
    "display(_tmp.shape)\n",
    "display(_tmp.head())\n",
    "\n",
    "assert _tmp.shape[0] > int(3.12e6)"
   ]
  },
  {
   "cell_type": "markdown",
   "id": "fad30c56-b3fb-48a8-b532-6399c86af347",
   "metadata": {
    "papermill": {
     "duration": 0.02568,
     "end_time": "2022-01-28T15:27:12.565412",
     "exception": false,
     "start_time": "2022-01-28T15:27:12.539732",
     "status": "completed"
    },
    "tags": []
   },
   "source": [
    "# Get intersections dataframe"
   ]
  },
  {
   "cell_type": "markdown",
   "id": "a0f774c2-2bd4-4d61-92f7-b0f04264e5b7",
   "metadata": {
    "papermill": {
     "duration": 0.025758,
     "end_time": "2022-01-28T15:27:12.616749",
     "exception": false,
     "start_time": "2022-01-28T15:27:12.590991",
     "status": "completed"
    },
    "tags": []
   },
   "source": [
    "## Disagreements"
   ]
  },
  {
   "cell_type": "code",
   "execution_count": 21,
   "id": "807b2034-3761-4ba2-a65a-65ff76410748",
   "metadata": {
    "execution": {
     "iopub.execute_input": "2022-01-28T15:27:12.673725Z",
     "iopub.status.busy": "2022-01-28T15:27:12.673256Z",
     "iopub.status.idle": "2022-01-28T15:27:12.674741Z",
     "shell.execute_reply": "2022-01-28T15:27:12.675099Z"
    },
    "papermill": {
     "duration": 0.032437,
     "end_time": "2022-01-28T15:27:12.675212",
     "exception": false,
     "start_time": "2022-01-28T15:27:12.642775",
     "status": "completed"
    },
    "tags": []
   },
   "outputs": [],
   "source": [
    "_queries = [\n",
    "    [\n",
    "        \"Clustermatch (high)\",\n",
    "        # \"Pearson (high)\",\n",
    "        \"Spearman (high)\",\n",
    "        # \"Clustermatch (low)\",\n",
    "        \"Pearson (low)\",\n",
    "        # \"Spearman (low)\",\n",
    "    ],\n",
    "    [\n",
    "        \"Clustermatch (high)\",\n",
    "        # \"Pearson (high)\",\n",
    "        # \"Spearman (high)\",\n",
    "        # \"Clustermatch (low)\",\n",
    "        \"Pearson (low)\",\n",
    "        # \"Spearman (low)\",\n",
    "    ],\n",
    "    [\n",
    "        \"Clustermatch (high)\",\n",
    "        # \"Pearson (high)\",\n",
    "        # \"Spearman (high)\",\n",
    "        # \"Clustermatch (low)\",\n",
    "        # \"Pearson (low)\",\n",
    "        \"Spearman (low)\",\n",
    "    ],\n",
    "    [\n",
    "        \"Clustermatch (high)\",\n",
    "        # \"Pearson (high)\",\n",
    "        # \"Spearman (high)\",\n",
    "        # \"Clustermatch (low)\",\n",
    "        \"Pearson (low)\",\n",
    "        \"Spearman (low)\",\n",
    "    ],\n",
    "    [\n",
    "        # \"Clustermatch (high)\",\n",
    "        \"Pearson (high)\",\n",
    "        # \"Spearman (high)\",\n",
    "        \"Clustermatch (low)\",\n",
    "        # \"Pearson (low)\",\n",
    "        # \"Spearman (low)\",\n",
    "    ],\n",
    "    [\n",
    "        # \"Clustermatch (high)\",\n",
    "        \"Pearson (high)\",\n",
    "        # \"Spearman (high)\",\n",
    "        # \"Clustermatch (low)\",\n",
    "        # \"Pearson (low)\",\n",
    "        \"Spearman (low)\",\n",
    "    ],\n",
    "    [\n",
    "        # \"Clustermatch (high)\",\n",
    "        \"Pearson (high)\",\n",
    "        # \"Spearman (high)\",\n",
    "        \"Clustermatch (low)\",\n",
    "        # \"Pearson (low)\",\n",
    "        \"Spearman (low)\",\n",
    "    ],\n",
    "    [\n",
    "        # \"Clustermatch (high)\",\n",
    "        # \"Pearson (high)\",\n",
    "        \"Spearman (high)\",\n",
    "        # \"Clustermatch (low)\",\n",
    "        \"Pearson (low)\",\n",
    "        # \"Spearman (low)\",\n",
    "    ],\n",
    "]"
   ]
  },
  {
   "cell_type": "code",
   "execution_count": 22,
   "id": "1cbadd5d-7a98-4264-a83f-9c03415e3ee0",
   "metadata": {
    "execution": {
     "iopub.execute_input": "2022-01-28T15:27:12.731939Z",
     "iopub.status.busy": "2022-01-28T15:27:12.731264Z",
     "iopub.status.idle": "2022-01-28T15:27:12.734364Z",
     "shell.execute_reply": "2022-01-28T15:27:12.733916Z"
    },
    "papermill": {
     "duration": 0.033303,
     "end_time": "2022-01-28T15:27:12.734459",
     "exception": false,
     "start_time": "2022-01-28T15:27:12.701156",
     "status": "completed"
    },
    "tags": []
   },
   "outputs": [
    {
     "data": {
      "text/plain": [
       "8"
      ]
     },
     "metadata": {},
     "output_type": "display_data"
    }
   ],
   "source": [
    "display(len(_queries))\n",
    "assert len(_queries) == 8"
   ]
  },
  {
   "cell_type": "code",
   "execution_count": 23,
   "id": "d21ca403-339f-43ec-a66e-8f3ba10ecfb3",
   "metadata": {
    "execution": {
     "iopub.execute_input": "2022-01-28T15:27:12.791431Z",
     "iopub.status.busy": "2022-01-28T15:27:12.790956Z",
     "iopub.status.idle": "2022-01-28T15:27:18.130022Z",
     "shell.execute_reply": "2022-01-28T15:27:18.129571Z"
    },
    "papermill": {
     "duration": 5.368559,
     "end_time": "2022-01-28T15:27:18.130118",
     "exception": false,
     "start_time": "2022-01-28T15:27:12.761559",
     "status": "completed"
    },
    "tags": []
   },
   "outputs": [],
   "source": [
    "gene_pairs_df = []\n",
    "\n",
    "for idx, _query in enumerate(_queries):\n",
    "    group_df = get_gene_pairs(gene_pairs_intersections, set(_query))\n",
    "    gene_pairs_df.append(group_df)\n",
    "\n",
    "gene_pairs_df = pd.concat(gene_pairs_df)"
   ]
  },
  {
   "cell_type": "code",
   "execution_count": 24,
   "id": "29e2c167-b45a-4c63-a223-f78d5e953b37",
   "metadata": {
    "execution": {
     "iopub.execute_input": "2022-01-28T15:27:18.186843Z",
     "iopub.status.busy": "2022-01-28T15:27:18.186378Z",
     "iopub.status.idle": "2022-01-28T15:27:18.197628Z",
     "shell.execute_reply": "2022-01-28T15:27:18.197238Z"
    },
    "papermill": {
     "duration": 0.041246,
     "end_time": "2022-01-28T15:27:18.197724",
     "exception": false,
     "start_time": "2022-01-28T15:27:18.156478",
     "status": "completed"
    },
    "tags": []
   },
   "outputs": [
    {
     "data": {
      "text/plain": [
       "(32955, 2)"
      ]
     },
     "metadata": {},
     "output_type": "display_data"
    }
   ],
   "source": [
    "display(gene_pairs_df.shape)\n",
    "assert gene_pairs_df.drop_duplicates().shape == gene_pairs_df.shape\n",
    "assert (gene_pairs_df.shape[0] > 3.2e4) and (gene_pairs_df.shape[0] < 3.3e4)"
   ]
  },
  {
   "cell_type": "code",
   "execution_count": 25,
   "id": "2df7cd58-55b9-46d0-b195-2c745eb358df",
   "metadata": {
    "execution": {
     "iopub.execute_input": "2022-01-28T15:27:18.259344Z",
     "iopub.status.busy": "2022-01-28T15:27:18.258856Z",
     "iopub.status.idle": "2022-01-28T15:27:18.260870Z",
     "shell.execute_reply": "2022-01-28T15:27:18.261212Z"
    },
    "papermill": {
     "duration": 0.03654,
     "end_time": "2022-01-28T15:27:18.261330",
     "exception": false,
     "start_time": "2022-01-28T15:27:18.224790",
     "status": "completed"
    },
    "tags": []
   },
   "outputs": [
    {
     "data": {
      "text/html": [
       "<div>\n",
       "<style scoped>\n",
       "    .dataframe tbody tr th:only-of-type {\n",
       "        vertical-align: middle;\n",
       "    }\n",
       "\n",
       "    .dataframe tbody tr th {\n",
       "        vertical-align: top;\n",
       "    }\n",
       "\n",
       "    .dataframe thead th {\n",
       "        text-align: right;\n",
       "    }\n",
       "</style>\n",
       "<table border=\"1\" class=\"dataframe\">\n",
       "  <thead>\n",
       "    <tr style=\"text-align: right;\">\n",
       "      <th></th>\n",
       "      <th>gene0</th>\n",
       "      <th>gene1</th>\n",
       "    </tr>\n",
       "  </thead>\n",
       "  <tbody>\n",
       "    <tr>\n",
       "      <th>0</th>\n",
       "      <td>ENSG00000000419.12</td>\n",
       "      <td>ENSG00000068976.13</td>\n",
       "    </tr>\n",
       "    <tr>\n",
       "      <th>1</th>\n",
       "      <td>ENSG00000000938.12</td>\n",
       "      <td>ENSG00000068976.13</td>\n",
       "    </tr>\n",
       "    <tr>\n",
       "      <th>2</th>\n",
       "      <td>ENSG00000001167.14</td>\n",
       "      <td>ENSG00000163739.4</td>\n",
       "    </tr>\n",
       "    <tr>\n",
       "      <th>3</th>\n",
       "      <td>ENSG00000002586.18</td>\n",
       "      <td>ENSG00000169136.10</td>\n",
       "    </tr>\n",
       "    <tr>\n",
       "      <th>4</th>\n",
       "      <td>ENSG00000002834.17</td>\n",
       "      <td>ENSG00000068976.13</td>\n",
       "    </tr>\n",
       "  </tbody>\n",
       "</table>\n",
       "</div>"
      ],
      "text/plain": [
       "                gene0               gene1\n",
       "0  ENSG00000000419.12  ENSG00000068976.13\n",
       "1  ENSG00000000938.12  ENSG00000068976.13\n",
       "2  ENSG00000001167.14   ENSG00000163739.4\n",
       "3  ENSG00000002586.18  ENSG00000169136.10\n",
       "4  ENSG00000002834.17  ENSG00000068976.13"
      ]
     },
     "execution_count": 25,
     "metadata": {},
     "output_type": "execute_result"
    }
   ],
   "source": [
    "gene_pairs_df.head()"
   ]
  },
  {
   "cell_type": "markdown",
   "id": "a1512df6-7c3f-44e8-b833-16260f9d8737",
   "metadata": {
    "papermill": {
     "duration": 0.02729,
     "end_time": "2022-01-28T15:27:18.316755",
     "exception": false,
     "start_time": "2022-01-28T15:27:18.289465",
     "status": "completed"
    },
    "tags": []
   },
   "source": [
    "# Save"
   ]
  },
  {
   "cell_type": "markdown",
   "id": "bc7fa0ab-3644-4166-9ee8-5c616802f649",
   "metadata": {
    "papermill": {
     "duration": 0.026525,
     "end_time": "2022-01-28T15:27:18.370380",
     "exception": false,
     "start_time": "2022-01-28T15:27:18.343855",
     "status": "completed"
    },
    "tags": []
   },
   "source": [
    "Since this \"disagreements\" set is small, just save the entire group."
   ]
  },
  {
   "cell_type": "code",
   "execution_count": 26,
   "id": "778cbf0c-cbb4-438f-a2cc-eee5985b5a60",
   "metadata": {
    "execution": {
     "iopub.execute_input": "2022-01-28T15:27:18.427169Z",
     "iopub.status.busy": "2022-01-28T15:27:18.426702Z",
     "iopub.status.idle": "2022-01-28T15:27:18.429384Z",
     "shell.execute_reply": "2022-01-28T15:27:18.428936Z"
    },
    "papermill": {
     "duration": 0.032711,
     "end_time": "2022-01-28T15:27:18.429480",
     "exception": false,
     "start_time": "2022-01-28T15:27:18.396769",
     "status": "completed"
    },
    "tags": []
   },
   "outputs": [
    {
     "data": {
      "text/plain": [
       "'/opt/data/results/gtex_v8/gene_pair_intersections/samples/gene_pair_intersections-gtex_v8-whole_blood-var_pc_log2-disagreements_sample_0.pkl'"
      ]
     },
     "metadata": {},
     "output_type": "display_data"
    }
   ],
   "source": [
    "output_filepath = OUTPUT_FILE_TEMPLATE.format(sample_id=0)\n",
    "display(output_filepath)"
   ]
  },
  {
   "cell_type": "code",
   "execution_count": 27,
   "id": "dfe934f4-e070-4199-a88a-b08f24155da4",
   "metadata": {
    "execution": {
     "iopub.execute_input": "2022-01-28T15:27:18.488612Z",
     "iopub.status.busy": "2022-01-28T15:27:18.487100Z",
     "iopub.status.idle": "2022-01-28T15:27:18.493382Z",
     "shell.execute_reply": "2022-01-28T15:27:18.492930Z"
    },
    "papermill": {
     "duration": 0.036903,
     "end_time": "2022-01-28T15:27:18.493481",
     "exception": false,
     "start_time": "2022-01-28T15:27:18.456578",
     "status": "completed"
    },
    "tags": []
   },
   "outputs": [],
   "source": [
    "gene_pairs_df.to_pickle(output_filepath)"
   ]
  },
  {
   "cell_type": "code",
   "execution_count": null,
   "id": "baecf5a6-0828-4d6a-9d0b-b22fb607dae5",
   "metadata": {
    "papermill": {
     "duration": 0.026844,
     "end_time": "2022-01-28T15:27:18.548276",
     "exception": false,
     "start_time": "2022-01-28T15:27:18.521432",
     "status": "completed"
    },
    "tags": []
   },
   "outputs": [],
   "source": []
  }
 ],
 "metadata": {
  "jupytext": {
   "cell_metadata_filter": "all,-execution,-papermill,-trusted"
  },
  "kernelspec": {
   "display_name": "Python 3 (ipykernel)",
   "language": "python",
   "name": "python3"
  },
  "language_info": {
   "codemirror_mode": {
    "name": "ipython",
    "version": 3
   },
   "file_extension": ".py",
   "mimetype": "text/x-python",
   "name": "python",
   "nbconvert_exporter": "python",
   "pygments_lexer": "ipython3",
   "version": "3.9.9"
  },
  "papermill": {
   "default_parameters": {},
   "duration": 10.420616,
   "end_time": "2022-01-28T15:27:18.791208",
   "environment_variables": {},
   "exception": null,
   "input_path": "nbs/20_comparison_others/03_07-gtex_whole_blood-sample_intersections-disagreements.ipynb",
   "output_path": "nbs/20_comparison_others/03_07-gtex_whole_blood-sample_intersections-disagreements.run.ipynb",
   "parameters": {},
   "start_time": "2022-01-28T15:27:08.370592",
   "version": "2.3.4"
  },
  "toc-autonumbering": true
 },
 "nbformat": 4,
 "nbformat_minor": 5
}
