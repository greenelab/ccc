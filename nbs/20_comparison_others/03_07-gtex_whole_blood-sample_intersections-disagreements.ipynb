{
 "cells": [
  {
   "cell_type": "markdown",
   "id": "87e0ce1b-7ce6-4499-9342-5ded05307598",
   "metadata": {
    "papermill": {
     "duration": 0.058726,
     "end_time": "2022-01-27T17:54:31.777026",
     "exception": false,
     "start_time": "2022-01-27T17:54:31.718300",
     "status": "completed"
    },
    "tags": []
   },
   "source": [
    "# Description"
   ]
  },
  {
   "cell_type": "markdown",
   "id": "4bfc7115-350a-441b-9a19-7626a948a694",
   "metadata": {
    "papermill": {
     "duration": 0.024175,
     "end_time": "2022-01-27T17:54:31.824308",
     "exception": false,
     "start_time": "2022-01-27T17:54:31.800133",
     "status": "completed"
    },
    "tags": []
   },
   "source": [
    "From the intersections groups (visualized in the UpSet plot), it takes all gene pairs from the \"Disagreements\" groups and saves them.\n",
    "\n",
    "This notebook does not sample, since the \"disagreements\" group is small, but I keep the same for convienience."
   ]
  },
  {
   "cell_type": "markdown",
   "id": "e020c781-238b-43c2-8cad-2722b8a240e2",
   "metadata": {
    "papermill": {
     "duration": 0.022992,
     "end_time": "2022-01-27T17:54:31.870261",
     "exception": false,
     "start_time": "2022-01-27T17:54:31.847269",
     "status": "completed"
    },
    "tags": []
   },
   "source": [
    "# Modules"
   ]
  },
  {
   "cell_type": "code",
   "execution_count": 1,
   "id": "a819bfbc-5009-4c68-ba8d-37d0979d368f",
   "metadata": {
    "execution": {
     "iopub.execute_input": "2022-01-27T17:54:31.923343Z",
     "iopub.status.busy": "2022-01-27T17:54:31.922875Z",
     "iopub.status.idle": "2022-01-27T17:54:32.151114Z",
     "shell.execute_reply": "2022-01-27T17:54:32.150656Z"
    },
    "papermill": {
     "duration": 0.25738,
     "end_time": "2022-01-27T17:54:32.151228",
     "exception": false,
     "start_time": "2022-01-27T17:54:31.893848",
     "status": "completed"
    },
    "tags": []
   },
   "outputs": [],
   "source": [
    "import pandas as pd\n",
    "import numpy as np\n",
    "\n",
    "from clustermatch import conf"
   ]
  },
  {
   "cell_type": "markdown",
   "id": "b4834387-58ff-468c-b326-85c408bc5feb",
   "metadata": {
    "papermill": {
     "duration": 0.022951,
     "end_time": "2022-01-27T17:54:32.197861",
     "exception": false,
     "start_time": "2022-01-27T17:54:32.174910",
     "status": "completed"
    },
    "tags": []
   },
   "source": [
    "# Settings"
   ]
  },
  {
   "cell_type": "code",
   "execution_count": 2,
   "id": "765e820a-4518-4bbc-a00f-14c9cea03821",
   "metadata": {
    "execution": {
     "iopub.execute_input": "2022-01-27T17:54:32.247371Z",
     "iopub.status.busy": "2022-01-27T17:54:32.246900Z",
     "iopub.status.idle": "2022-01-27T17:54:32.248962Z",
     "shell.execute_reply": "2022-01-27T17:54:32.248598Z"
    },
    "papermill": {
     "duration": 0.028221,
     "end_time": "2022-01-27T17:54:32.249058",
     "exception": false,
     "start_time": "2022-01-27T17:54:32.220837",
     "status": "completed"
    },
    "tags": []
   },
   "outputs": [],
   "source": [
    "DATASET_CONFIG = conf.GTEX\n",
    "GTEX_TISSUE = \"whole_blood\"\n",
    "GENE_SEL_STRATEGY = \"var_pc_log2\""
   ]
  },
  {
   "cell_type": "code",
   "execution_count": 3,
   "id": "85ee3634-e24a-45d1-8209-5e1b7e81d5d0",
   "metadata": {
    "execution": {
     "iopub.execute_input": "2022-01-27T17:54:32.299112Z",
     "iopub.status.busy": "2022-01-27T17:54:32.298664Z",
     "iopub.status.idle": "2022-01-27T17:54:32.300327Z",
     "shell.execute_reply": "2022-01-27T17:54:32.300678Z"
    },
    "papermill": {
     "duration": 0.028271,
     "end_time": "2022-01-27T17:54:32.300788",
     "exception": false,
     "start_time": "2022-01-27T17:54:32.272517",
     "status": "completed"
    },
    "tags": []
   },
   "outputs": [],
   "source": [
    "# # amount of gene pairs to sample\n",
    "# SAMPLE_SIZE = 30000\n",
    "\n",
    "# # number of samples to take\n",
    "# N_SAMPLES = 10"
   ]
  },
  {
   "cell_type": "markdown",
   "id": "a1159982-5dd1-4494-97d4-0674eeead1c3",
   "metadata": {
    "papermill": {
     "duration": 0.023425,
     "end_time": "2022-01-27T17:54:32.348367",
     "exception": false,
     "start_time": "2022-01-27T17:54:32.324942",
     "status": "completed"
    },
    "tags": []
   },
   "source": [
    "# Paths"
   ]
  },
  {
   "cell_type": "code",
   "execution_count": 4,
   "id": "30cce6f5-ca1b-438c-859d-31903a42d4c6",
   "metadata": {
    "execution": {
     "iopub.execute_input": "2022-01-27T17:54:32.401865Z",
     "iopub.status.busy": "2022-01-27T17:54:32.401279Z",
     "iopub.status.idle": "2022-01-27T17:54:32.404941Z",
     "shell.execute_reply": "2022-01-27T17:54:32.405295Z"
    },
    "papermill": {
     "duration": 0.034066,
     "end_time": "2022-01-27T17:54:32.405407",
     "exception": false,
     "start_time": "2022-01-27T17:54:32.371341",
     "status": "completed"
    },
    "tags": []
   },
   "outputs": [
    {
     "data": {
      "text/plain": [
       "PosixPath('/opt/data/results/gtex_v8/gene_pair_intersections/gene_pair_intersections-gtex_v8-whole_blood-var_pc_log2.pkl')"
      ]
     },
     "metadata": {},
     "output_type": "display_data"
    }
   ],
   "source": [
    "INPUT_GENE_PAIRS_INTERSECTIONS_FILE = (\n",
    "    DATASET_CONFIG[\"GENE_PAIR_INTERSECTIONS\"]\n",
    "    / f\"gene_pair_intersections-gtex_v8-{GTEX_TISSUE}-{GENE_SEL_STRATEGY}.pkl\"\n",
    ")\n",
    "display(INPUT_GENE_PAIRS_INTERSECTIONS_FILE)\n",
    "\n",
    "assert INPUT_GENE_PAIRS_INTERSECTIONS_FILE.exists()"
   ]
  },
  {
   "cell_type": "code",
   "execution_count": 5,
   "id": "a0e237b4-fdf7-44ef-bbcf-50bf2f5a4355",
   "metadata": {
    "execution": {
     "iopub.execute_input": "2022-01-27T17:54:32.456822Z",
     "iopub.status.busy": "2022-01-27T17:54:32.456163Z",
     "iopub.status.idle": "2022-01-27T17:54:32.459221Z",
     "shell.execute_reply": "2022-01-27T17:54:32.458774Z"
    },
    "papermill": {
     "duration": 0.030327,
     "end_time": "2022-01-27T17:54:32.459313",
     "exception": false,
     "start_time": "2022-01-27T17:54:32.428986",
     "status": "completed"
    },
    "tags": []
   },
   "outputs": [
    {
     "data": {
      "text/plain": [
       "PosixPath('/opt/data/results/gtex_v8/gene_pair_intersections/samples')"
      ]
     },
     "metadata": {},
     "output_type": "display_data"
    }
   ],
   "source": [
    "OUTPUT_DIR = INPUT_GENE_PAIRS_INTERSECTIONS_FILE.parent / \"samples\"\n",
    "OUTPUT_DIR.mkdir(parents=True, exist_ok=True)\n",
    "display(OUTPUT_DIR)"
   ]
  },
  {
   "cell_type": "code",
   "execution_count": 6,
   "id": "f4468c0e-c0ad-4bf5-b120-3f63e7afc33f",
   "metadata": {
    "execution": {
     "iopub.execute_input": "2022-01-27T17:54:32.510755Z",
     "iopub.status.busy": "2022-01-27T17:54:32.510301Z",
     "iopub.status.idle": "2022-01-27T17:54:32.512305Z",
     "shell.execute_reply": "2022-01-27T17:54:32.512662Z"
    },
    "papermill": {
     "duration": 0.029539,
     "end_time": "2022-01-27T17:54:32.512775",
     "exception": false,
     "start_time": "2022-01-27T17:54:32.483236",
     "status": "completed"
    },
    "tags": []
   },
   "outputs": [
    {
     "data": {
      "text/plain": [
       "'/opt/data/results/gtex_v8/gene_pair_intersections/samples/gene_pair_intersections-gtex_v8-whole_blood-var_pc_log2-disagreements_sample_{sample_id}.pkl'"
      ]
     },
     "metadata": {},
     "output_type": "display_data"
    }
   ],
   "source": [
    "OUTPUT_FILE_TEMPLATE = str(\n",
    "    OUTPUT_DIR\n",
    "    / (\n",
    "        f\"{INPUT_GENE_PAIRS_INTERSECTIONS_FILE.stem}-disagreements_sample_\"\n",
    "        + \"{sample_id}\"\n",
    "        + \".pkl\"\n",
    "    )\n",
    ")\n",
    "\n",
    "display(OUTPUT_FILE_TEMPLATE)"
   ]
  },
  {
   "cell_type": "markdown",
   "id": "f6d3322b-c8bb-4fc2-97b6-5bb1793b1577",
   "metadata": {
    "papermill": {
     "duration": 0.023944,
     "end_time": "2022-01-27T17:54:32.562189",
     "exception": false,
     "start_time": "2022-01-27T17:54:32.538245",
     "status": "completed"
    },
    "tags": []
   },
   "source": [
    "# Data"
   ]
  },
  {
   "cell_type": "markdown",
   "id": "afa308c9-d84d-4127-b3b1-7187e1f8b813",
   "metadata": {
    "papermill": {
     "duration": 0.023719,
     "end_time": "2022-01-27T17:54:32.609899",
     "exception": false,
     "start_time": "2022-01-27T17:54:32.586180",
     "status": "completed"
    },
    "tags": []
   },
   "source": [
    "## Gene pairs intersection data"
   ]
  },
  {
   "cell_type": "code",
   "execution_count": 7,
   "id": "01489ae7-fdfb-4861-931b-e9c8708a6931",
   "metadata": {
    "execution": {
     "iopub.execute_input": "2022-01-27T17:54:32.662423Z",
     "iopub.status.busy": "2022-01-27T17:54:32.661957Z",
     "iopub.status.idle": "2022-01-27T17:54:32.663625Z",
     "shell.execute_reply": "2022-01-27T17:54:32.664048Z"
    },
    "papermill": {
     "duration": 0.029429,
     "end_time": "2022-01-27T17:54:32.664164",
     "exception": false,
     "start_time": "2022-01-27T17:54:32.634735",
     "status": "completed"
    },
    "tags": []
   },
   "outputs": [],
   "source": [
    "def is_intersection_column(column_name):\n",
    "    return \" (high)\" in column_name or \" (low)\" in column_name"
   ]
  },
  {
   "cell_type": "code",
   "execution_count": 8,
   "id": "2b666b63-326b-43cd-8550-51f550be337a",
   "metadata": {
    "execution": {
     "iopub.execute_input": "2022-01-27T17:54:32.716832Z",
     "iopub.status.busy": "2022-01-27T17:54:32.716364Z",
     "iopub.status.idle": "2022-01-27T17:54:32.946224Z",
     "shell.execute_reply": "2022-01-27T17:54:32.945836Z"
    },
    "papermill": {
     "duration": 0.257387,
     "end_time": "2022-01-27T17:54:32.946324",
     "exception": false,
     "start_time": "2022-01-27T17:54:32.688937",
     "status": "completed"
    },
    "tags": []
   },
   "outputs": [],
   "source": [
    "gene_pairs_intersections = pd.read_pickle(INPUT_GENE_PAIRS_INTERSECTIONS_FILE)"
   ]
  },
  {
   "cell_type": "code",
   "execution_count": 9,
   "id": "bd22828a-ffd1-4aec-afdf-418e9d5f9e4d",
   "metadata": {
    "execution": {
     "iopub.execute_input": "2022-01-27T17:54:33.090902Z",
     "iopub.status.busy": "2022-01-27T17:54:33.090331Z",
     "iopub.status.idle": "2022-01-27T17:54:33.093978Z",
     "shell.execute_reply": "2022-01-27T17:54:33.093417Z"
    },
    "papermill": {
     "duration": 0.121545,
     "end_time": "2022-01-27T17:54:33.094095",
     "exception": false,
     "start_time": "2022-01-27T17:54:32.972550",
     "status": "completed"
    },
    "tags": []
   },
   "outputs": [],
   "source": [
    "gene_pairs_intersections = gene_pairs_intersections[\n",
    "    [c for c in gene_pairs_intersections.columns if is_intersection_column(c)]\n",
    "]"
   ]
  },
  {
   "cell_type": "code",
   "execution_count": 10,
   "id": "42c819c5-1681-4694-8abc-4d906f9aba8c",
   "metadata": {
    "execution": {
     "iopub.execute_input": "2022-01-27T17:54:33.153064Z",
     "iopub.status.busy": "2022-01-27T17:54:33.152466Z",
     "iopub.status.idle": "2022-01-27T17:54:33.155153Z",
     "shell.execute_reply": "2022-01-27T17:54:33.154760Z"
    },
    "papermill": {
     "duration": 0.031206,
     "end_time": "2022-01-27T17:54:33.155248",
     "exception": false,
     "start_time": "2022-01-27T17:54:33.124042",
     "status": "completed"
    },
    "tags": []
   },
   "outputs": [
    {
     "data": {
      "text/plain": [
       "(12497500, 6)"
      ]
     },
     "execution_count": 10,
     "metadata": {},
     "output_type": "execute_result"
    }
   ],
   "source": [
    "gene_pairs_intersections.shape"
   ]
  },
  {
   "cell_type": "code",
   "execution_count": 11,
   "id": "94fde3b3-5288-4539-8dcf-fe15ae2a4719",
   "metadata": {
    "execution": {
     "iopub.execute_input": "2022-01-27T17:54:33.208275Z",
     "iopub.status.busy": "2022-01-27T17:54:33.207747Z",
     "iopub.status.idle": "2022-01-27T17:54:33.216246Z",
     "shell.execute_reply": "2022-01-27T17:54:33.215729Z"
    },
    "papermill": {
     "duration": 0.036509,
     "end_time": "2022-01-27T17:54:33.216337",
     "exception": false,
     "start_time": "2022-01-27T17:54:33.179828",
     "status": "completed"
    },
    "tags": []
   },
   "outputs": [
    {
     "data": {
      "text/html": [
       "<div>\n",
       "<style scoped>\n",
       "    .dataframe tbody tr th:only-of-type {\n",
       "        vertical-align: middle;\n",
       "    }\n",
       "\n",
       "    .dataframe tbody tr th {\n",
       "        vertical-align: top;\n",
       "    }\n",
       "\n",
       "    .dataframe thead th {\n",
       "        text-align: right;\n",
       "    }\n",
       "</style>\n",
       "<table border=\"1\" class=\"dataframe\">\n",
       "  <thead>\n",
       "    <tr style=\"text-align: right;\">\n",
       "      <th></th>\n",
       "      <th></th>\n",
       "      <th>Pearson (high)</th>\n",
       "      <th>Pearson (low)</th>\n",
       "      <th>Spearman (high)</th>\n",
       "      <th>Spearman (low)</th>\n",
       "      <th>Clustermatch (high)</th>\n",
       "      <th>Clustermatch (low)</th>\n",
       "    </tr>\n",
       "  </thead>\n",
       "  <tbody>\n",
       "    <tr>\n",
       "      <th rowspan=\"5\" valign=\"top\">ENSG00000000419.12</th>\n",
       "      <th>ENSG00000002834.17</th>\n",
       "      <td>True</td>\n",
       "      <td>False</td>\n",
       "      <td>True</td>\n",
       "      <td>False</td>\n",
       "      <td>True</td>\n",
       "      <td>False</td>\n",
       "    </tr>\n",
       "    <tr>\n",
       "      <th>ENSG00000002919.14</th>\n",
       "      <td>True</td>\n",
       "      <td>False</td>\n",
       "      <td>True</td>\n",
       "      <td>False</td>\n",
       "      <td>True</td>\n",
       "      <td>False</td>\n",
       "    </tr>\n",
       "    <tr>\n",
       "      <th>ENSG00000002933.7</th>\n",
       "      <td>False</td>\n",
       "      <td>True</td>\n",
       "      <td>False</td>\n",
       "      <td>True</td>\n",
       "      <td>False</td>\n",
       "      <td>True</td>\n",
       "    </tr>\n",
       "    <tr>\n",
       "      <th>ENSG00000003402.19</th>\n",
       "      <td>True</td>\n",
       "      <td>False</td>\n",
       "      <td>True</td>\n",
       "      <td>False</td>\n",
       "      <td>True</td>\n",
       "      <td>False</td>\n",
       "    </tr>\n",
       "    <tr>\n",
       "      <th>ENSG00000004478.7</th>\n",
       "      <td>False</td>\n",
       "      <td>True</td>\n",
       "      <td>False</td>\n",
       "      <td>False</td>\n",
       "      <td>False</td>\n",
       "      <td>False</td>\n",
       "    </tr>\n",
       "  </tbody>\n",
       "</table>\n",
       "</div>"
      ],
      "text/plain": [
       "                                       Pearson (high)  Pearson (low)  \\\n",
       "ENSG00000000419.12 ENSG00000002834.17            True          False   \n",
       "                   ENSG00000002919.14            True          False   \n",
       "                   ENSG00000002933.7            False           True   \n",
       "                   ENSG00000003402.19            True          False   \n",
       "                   ENSG00000004478.7            False           True   \n",
       "\n",
       "                                       Spearman (high)  Spearman (low)  \\\n",
       "ENSG00000000419.12 ENSG00000002834.17             True           False   \n",
       "                   ENSG00000002919.14             True           False   \n",
       "                   ENSG00000002933.7             False            True   \n",
       "                   ENSG00000003402.19             True           False   \n",
       "                   ENSG00000004478.7             False           False   \n",
       "\n",
       "                                       Clustermatch (high)  Clustermatch (low)  \n",
       "ENSG00000000419.12 ENSG00000002834.17                 True               False  \n",
       "                   ENSG00000002919.14                 True               False  \n",
       "                   ENSG00000002933.7                 False                True  \n",
       "                   ENSG00000003402.19                 True               False  \n",
       "                   ENSG00000004478.7                 False               False  "
      ]
     },
     "execution_count": 11,
     "metadata": {},
     "output_type": "execute_result"
    }
   ],
   "source": [
    "gene_pairs_intersections.head()"
   ]
  },
  {
   "cell_type": "markdown",
   "id": "b030f506-2fe9-4895-a8a1-51374e88c496",
   "metadata": {
    "papermill": {
     "duration": 0.02458,
     "end_time": "2022-01-27T17:54:33.265941",
     "exception": false,
     "start_time": "2022-01-27T17:54:33.241361",
     "status": "completed"
    },
    "tags": []
   },
   "source": [
    "## Gene pairs intersection - gene pairs"
   ]
  },
  {
   "cell_type": "code",
   "execution_count": 12,
   "id": "da1d768a-fbfb-40e8-8fbb-790d1a94aa83",
   "metadata": {
    "execution": {
     "iopub.execute_input": "2022-01-27T17:54:33.319722Z",
     "iopub.status.busy": "2022-01-27T17:54:33.319273Z",
     "iopub.status.idle": "2022-01-27T17:54:33.320852Z",
     "shell.execute_reply": "2022-01-27T17:54:33.321189Z"
    },
    "papermill": {
     "duration": 0.030236,
     "end_time": "2022-01-27T17:54:33.321303",
     "exception": false,
     "start_time": "2022-01-27T17:54:33.291067",
     "status": "completed"
    },
    "tags": []
   },
   "outputs": [],
   "source": [
    "# gene_pairs_df = gene_pairs_intersections.rename_axis((\"gene0\", \"gene1\")).index.to_frame(index=False)"
   ]
  },
  {
   "cell_type": "code",
   "execution_count": 13,
   "id": "6123d474-0c0d-4771-9678-248ce89424ce",
   "metadata": {
    "execution": {
     "iopub.execute_input": "2022-01-27T17:54:33.376338Z",
     "iopub.status.busy": "2022-01-27T17:54:33.375839Z",
     "iopub.status.idle": "2022-01-27T17:54:33.377740Z",
     "shell.execute_reply": "2022-01-27T17:54:33.377296Z"
    },
    "papermill": {
     "duration": 0.030895,
     "end_time": "2022-01-27T17:54:33.377835",
     "exception": false,
     "start_time": "2022-01-27T17:54:33.346940",
     "status": "completed"
    },
    "tags": []
   },
   "outputs": [],
   "source": [
    "# gene_pairs_df.shape"
   ]
  },
  {
   "cell_type": "code",
   "execution_count": 14,
   "id": "b028abd8-c5b1-48c2-aa5e-cb1b49c943a4",
   "metadata": {
    "execution": {
     "iopub.execute_input": "2022-01-27T17:54:33.433202Z",
     "iopub.status.busy": "2022-01-27T17:54:33.432753Z",
     "iopub.status.idle": "2022-01-27T17:54:33.434200Z",
     "shell.execute_reply": "2022-01-27T17:54:33.434537Z"
    },
    "papermill": {
     "duration": 0.030809,
     "end_time": "2022-01-27T17:54:33.434653",
     "exception": false,
     "start_time": "2022-01-27T17:54:33.403844",
     "status": "completed"
    },
    "tags": []
   },
   "outputs": [],
   "source": [
    "# gene_pairs_df.head()"
   ]
  },
  {
   "cell_type": "markdown",
   "id": "b0c529c2-658c-4886-bbd4-0457a649ee36",
   "metadata": {
    "papermill": {
     "duration": 0.024683,
     "end_time": "2022-01-27T17:54:33.485362",
     "exception": false,
     "start_time": "2022-01-27T17:54:33.460679",
     "status": "completed"
    },
    "tags": []
   },
   "source": [
    "# Functions"
   ]
  },
  {
   "cell_type": "code",
   "execution_count": 15,
   "id": "4aec55f9-c449-4871-991d-1ed84e22b82e",
   "metadata": {
    "execution": {
     "iopub.execute_input": "2022-01-27T17:54:33.538239Z",
     "iopub.status.busy": "2022-01-27T17:54:33.537791Z",
     "iopub.status.idle": "2022-01-27T17:54:33.539467Z",
     "shell.execute_reply": "2022-01-27T17:54:33.539826Z"
    },
    "papermill": {
     "duration": 0.029919,
     "end_time": "2022-01-27T17:54:33.539986",
     "exception": false,
     "start_time": "2022-01-27T17:54:33.510067",
     "status": "completed"
    },
    "tags": []
   },
   "outputs": [],
   "source": [
    "# df_r_data = df_plot"
   ]
  },
  {
   "cell_type": "code",
   "execution_count": 16,
   "id": "d90335e5-0848-4cf7-bafc-2fddb39fbf76",
   "metadata": {
    "execution": {
     "iopub.execute_input": "2022-01-27T17:54:33.592924Z",
     "iopub.status.busy": "2022-01-27T17:54:33.592477Z",
     "iopub.status.idle": "2022-01-27T17:54:33.594037Z",
     "shell.execute_reply": "2022-01-27T17:54:33.594376Z"
    },
    "papermill": {
     "duration": 0.029509,
     "end_time": "2022-01-27T17:54:33.594490",
     "exception": false,
     "start_time": "2022-01-27T17:54:33.564981",
     "status": "completed"
    },
    "tags": []
   },
   "outputs": [],
   "source": [
    "# df_r_data.head()"
   ]
  },
  {
   "cell_type": "code",
   "execution_count": 17,
   "id": "526cc3fe-06c6-41d0-b0fb-daa95946f7d6",
   "metadata": {
    "execution": {
     "iopub.execute_input": "2022-01-27T17:54:33.647822Z",
     "iopub.status.busy": "2022-01-27T17:54:33.647381Z",
     "iopub.status.idle": "2022-01-27T17:54:33.648935Z",
     "shell.execute_reply": "2022-01-27T17:54:33.649273Z"
    },
    "papermill": {
     "duration": 0.029691,
     "end_time": "2022-01-27T17:54:33.649385",
     "exception": false,
     "start_time": "2022-01-27T17:54:33.619694",
     "status": "completed"
    },
    "tags": []
   },
   "outputs": [],
   "source": [
    "# df_r_data_boolean_cols = set(\n",
    "#     [x for x in df_r_data.columns if \" (high)\" in x or \" (low)\" in x]\n",
    "# )"
   ]
  },
  {
   "cell_type": "code",
   "execution_count": 18,
   "id": "1b317b79-ec8a-4a21-bdf7-0b5ec15c2e28",
   "metadata": {
    "execution": {
     "iopub.execute_input": "2022-01-27T17:54:33.702314Z",
     "iopub.status.busy": "2022-01-27T17:54:33.701869Z",
     "iopub.status.idle": "2022-01-27T17:54:33.703372Z",
     "shell.execute_reply": "2022-01-27T17:54:33.703708Z"
    },
    "papermill": {
     "duration": 0.029258,
     "end_time": "2022-01-27T17:54:33.703822",
     "exception": false,
     "start_time": "2022-01-27T17:54:33.674564",
     "status": "completed"
    },
    "tags": []
   },
   "outputs": [],
   "source": [
    "# df_r_data_boolean_cols"
   ]
  },
  {
   "cell_type": "code",
   "execution_count": 19,
   "id": "ae599640-083e-420b-9ad6-b0436fa74864",
   "metadata": {
    "execution": {
     "iopub.execute_input": "2022-01-27T17:54:33.760791Z",
     "iopub.status.busy": "2022-01-27T17:54:33.760312Z",
     "iopub.status.idle": "2022-01-27T17:54:33.762165Z",
     "shell.execute_reply": "2022-01-27T17:54:33.761800Z"
    },
    "papermill": {
     "duration": 0.033414,
     "end_time": "2022-01-27T17:54:33.762263",
     "exception": false,
     "start_time": "2022-01-27T17:54:33.728849",
     "status": "completed"
    },
    "tags": []
   },
   "outputs": [],
   "source": [
    "def get_gene_pairs(gene_pairs_intersections, query_set):\n",
    "    \"\"\"\n",
    "    FIXME: UPDATE\n",
    "\n",
    "    It queries the given dataframe with the intersections of different groups (i.e.,\n",
    "    clustermatch high, pearson low, etc) given a query set. It returns a slice of\n",
    "    the dataframe according to the query set provided.\n",
    "\n",
    "    Args:\n",
    "        gene_pairs_intersections: a dataframe with gene pairs in rows and intersection\n",
    "            groups as columns (which are boolean). No other columns are allowed.\n",
    "        query_set: a tuple with strings that specifies a query. For example\n",
    "            (\"Clustermatch (high)\", \"Pearson (low\") would select all gene pairs\n",
    "            for which clustermatch is high and pearson is low.\n",
    "\n",
    "    Returns:\n",
    "        A slice of gene pairs in the input dataframe where the conditions specified in query_set\n",
    "        apply.\n",
    "    \"\"\"\n",
    "    assert all([x in gene_pairs_intersections.columns for x in query_set])\n",
    "\n",
    "    query = np.concatenate(\n",
    "        [\n",
    "            # columns that have to be true\n",
    "            np.concatenate(\n",
    "                [\n",
    "                    gene_pairs_intersections[c].to_numpy().reshape(-1, 1)\n",
    "                    for c in query_set\n",
    "                ],\n",
    "                axis=1,\n",
    "            )\n",
    "            .all(axis=1)\n",
    "            .reshape(-1, 1),\n",
    "            # rest of the columns, that have to be false\n",
    "            np.concatenate(\n",
    "                [\n",
    "                    ~gene_pairs_intersections[c].to_numpy().reshape(-1, 1)\n",
    "                    for c in gene_pairs_intersections.columns\n",
    "                    if c not in query_set\n",
    "                ],\n",
    "                axis=1,\n",
    "            )\n",
    "            .all(axis=1)\n",
    "            .reshape(-1, 1),\n",
    "        ],\n",
    "        axis=1,\n",
    "    ).all(axis=1)\n",
    "\n",
    "    _tmp_df = gene_pairs_intersections[query]\n",
    "\n",
    "    # _tmp_df = _tmp_df[\n",
    "    #     [x for x in _tmp_df.columns if \"(high)\" not in x and \"(low)\" not in x]\n",
    "    # ]\n",
    "\n",
    "    return _tmp_df.rename_axis((\"gene0\", \"gene1\")).index.to_frame(index=False)"
   ]
  },
  {
   "cell_type": "code",
   "execution_count": 20,
   "id": "dec0c433-c2da-445e-acb4-2709b9809126",
   "metadata": {
    "execution": {
     "iopub.execute_input": "2022-01-27T17:54:33.816409Z",
     "iopub.status.busy": "2022-01-27T17:54:33.815833Z",
     "iopub.status.idle": "2022-01-27T17:54:34.674798Z",
     "shell.execute_reply": "2022-01-27T17:54:34.674404Z"
    },
    "papermill": {
     "duration": 0.887696,
     "end_time": "2022-01-27T17:54:34.674895",
     "exception": false,
     "start_time": "2022-01-27T17:54:33.787199",
     "status": "completed"
    },
    "tags": []
   },
   "outputs": [
    {
     "data": {
      "text/plain": [
       "gene0    object\n",
       "gene1    object\n",
       "dtype: object"
      ]
     },
     "metadata": {},
     "output_type": "display_data"
    },
    {
     "data": {
      "text/plain": [
       "(3120576, 2)"
      ]
     },
     "metadata": {},
     "output_type": "display_data"
    },
    {
     "data": {
      "text/html": [
       "<div>\n",
       "<style scoped>\n",
       "    .dataframe tbody tr th:only-of-type {\n",
       "        vertical-align: middle;\n",
       "    }\n",
       "\n",
       "    .dataframe tbody tr th {\n",
       "        vertical-align: top;\n",
       "    }\n",
       "\n",
       "    .dataframe thead th {\n",
       "        text-align: right;\n",
       "    }\n",
       "</style>\n",
       "<table border=\"1\" class=\"dataframe\">\n",
       "  <thead>\n",
       "    <tr style=\"text-align: right;\">\n",
       "      <th></th>\n",
       "      <th>gene0</th>\n",
       "      <th>gene1</th>\n",
       "    </tr>\n",
       "  </thead>\n",
       "  <tbody>\n",
       "    <tr>\n",
       "      <th>0</th>\n",
       "      <td>ENSG00000000419.12</td>\n",
       "      <td>ENSG00000002834.17</td>\n",
       "    </tr>\n",
       "    <tr>\n",
       "      <th>1</th>\n",
       "      <td>ENSG00000000419.12</td>\n",
       "      <td>ENSG00000002919.14</td>\n",
       "    </tr>\n",
       "    <tr>\n",
       "      <th>2</th>\n",
       "      <td>ENSG00000000419.12</td>\n",
       "      <td>ENSG00000003402.19</td>\n",
       "    </tr>\n",
       "    <tr>\n",
       "      <th>3</th>\n",
       "      <td>ENSG00000000419.12</td>\n",
       "      <td>ENSG00000004660.14</td>\n",
       "    </tr>\n",
       "    <tr>\n",
       "      <th>4</th>\n",
       "      <td>ENSG00000000419.12</td>\n",
       "      <td>ENSG00000005020.12</td>\n",
       "    </tr>\n",
       "  </tbody>\n",
       "</table>\n",
       "</div>"
      ],
      "text/plain": [
       "                gene0               gene1\n",
       "0  ENSG00000000419.12  ENSG00000002834.17\n",
       "1  ENSG00000000419.12  ENSG00000002919.14\n",
       "2  ENSG00000000419.12  ENSG00000003402.19\n",
       "3  ENSG00000000419.12  ENSG00000004660.14\n",
       "4  ENSG00000000419.12  ENSG00000005020.12"
      ]
     },
     "metadata": {},
     "output_type": "display_data"
    }
   ],
   "source": [
    "_tmp = get_gene_pairs(\n",
    "    gene_pairs_intersections,\n",
    "    {\n",
    "        \"Clustermatch (high)\",\n",
    "        \"Pearson (high)\",\n",
    "        \"Spearman (high)\",\n",
    "    },\n",
    ")\n",
    "\n",
    "display(_tmp.dtypes)\n",
    "display(_tmp.shape)\n",
    "display(_tmp.head())\n",
    "\n",
    "assert _tmp.shape[0] > int(3.12e6)"
   ]
  },
  {
   "cell_type": "markdown",
   "id": "fad30c56-b3fb-48a8-b532-6399c86af347",
   "metadata": {
    "papermill": {
     "duration": 0.025428,
     "end_time": "2022-01-27T17:54:34.727059",
     "exception": false,
     "start_time": "2022-01-27T17:54:34.701631",
     "status": "completed"
    },
    "tags": []
   },
   "source": [
    "# Get intersections dataframe"
   ]
  },
  {
   "cell_type": "markdown",
   "id": "a0f774c2-2bd4-4d61-92f7-b0f04264e5b7",
   "metadata": {
    "papermill": {
     "duration": 0.025558,
     "end_time": "2022-01-27T17:54:34.778947",
     "exception": false,
     "start_time": "2022-01-27T17:54:34.753389",
     "status": "completed"
    },
    "tags": []
   },
   "source": [
    "## Disagreements"
   ]
  },
  {
   "cell_type": "code",
   "execution_count": 21,
   "id": "807b2034-3761-4ba2-a65a-65ff76410748",
   "metadata": {
    "execution": {
     "iopub.execute_input": "2022-01-27T17:54:34.836008Z",
     "iopub.status.busy": "2022-01-27T17:54:34.835512Z",
     "iopub.status.idle": "2022-01-27T17:54:34.837645Z",
     "shell.execute_reply": "2022-01-27T17:54:34.837193Z"
    },
    "papermill": {
     "duration": 0.032892,
     "end_time": "2022-01-27T17:54:34.837742",
     "exception": false,
     "start_time": "2022-01-27T17:54:34.804850",
     "status": "completed"
    },
    "tags": []
   },
   "outputs": [],
   "source": [
    "_queries = [\n",
    "    [\n",
    "        \"Clustermatch (high)\",\n",
    "        # \"Pearson (high)\",\n",
    "        \"Spearman (high)\",\n",
    "        # \"Clustermatch (low)\",\n",
    "        \"Pearson (low)\",\n",
    "        # \"Spearman (low)\",\n",
    "    ],\n",
    "    [\n",
    "        \"Clustermatch (high)\",\n",
    "        # \"Pearson (high)\",\n",
    "        # \"Spearman (high)\",\n",
    "        # \"Clustermatch (low)\",\n",
    "        \"Pearson (low)\",\n",
    "        # \"Spearman (low)\",\n",
    "    ],\n",
    "    [\n",
    "        \"Clustermatch (high)\",\n",
    "        # \"Pearson (high)\",\n",
    "        # \"Spearman (high)\",\n",
    "        # \"Clustermatch (low)\",\n",
    "        # \"Pearson (low)\",\n",
    "        \"Spearman (low)\",\n",
    "    ],\n",
    "    [\n",
    "        \"Clustermatch (high)\",\n",
    "        # \"Pearson (high)\",\n",
    "        # \"Spearman (high)\",\n",
    "        # \"Clustermatch (low)\",\n",
    "        \"Pearson (low)\",\n",
    "        \"Spearman (low)\",\n",
    "    ],\n",
    "    [\n",
    "        # \"Clustermatch (high)\",\n",
    "        \"Pearson (high)\",\n",
    "        # \"Spearman (high)\",\n",
    "        \"Clustermatch (low)\",\n",
    "        # \"Pearson (low)\",\n",
    "        # \"Spearman (low)\",\n",
    "    ],\n",
    "    [\n",
    "        # \"Clustermatch (high)\",\n",
    "        \"Pearson (high)\",\n",
    "        # \"Spearman (high)\",\n",
    "        # \"Clustermatch (low)\",\n",
    "        # \"Pearson (low)\",\n",
    "        \"Spearman (low)\",\n",
    "    ],\n",
    "    [\n",
    "        # \"Clustermatch (high)\",\n",
    "        \"Pearson (high)\",\n",
    "        # \"Spearman (high)\",\n",
    "        \"Clustermatch (low)\",\n",
    "        # \"Pearson (low)\",\n",
    "        \"Spearman (low)\",\n",
    "    ],\n",
    "    [\n",
    "        # \"Clustermatch (high)\",\n",
    "        # \"Pearson (high)\",\n",
    "        \"Spearman (high)\",\n",
    "        # \"Clustermatch (low)\",\n",
    "        \"Pearson (low)\",\n",
    "        # \"Spearman (low)\",\n",
    "    ],\n",
    "]"
   ]
  },
  {
   "cell_type": "code",
   "execution_count": 22,
   "id": "1cbadd5d-7a98-4264-a83f-9c03415e3ee0",
   "metadata": {
    "execution": {
     "iopub.execute_input": "2022-01-27T17:54:34.894595Z",
     "iopub.status.busy": "2022-01-27T17:54:34.894056Z",
     "iopub.status.idle": "2022-01-27T17:54:34.897221Z",
     "shell.execute_reply": "2022-01-27T17:54:34.896790Z"
    },
    "papermill": {
     "duration": 0.032851,
     "end_time": "2022-01-27T17:54:34.897313",
     "exception": false,
     "start_time": "2022-01-27T17:54:34.864462",
     "status": "completed"
    },
    "tags": []
   },
   "outputs": [
    {
     "data": {
      "text/plain": [
       "8"
      ]
     },
     "metadata": {},
     "output_type": "display_data"
    }
   ],
   "source": [
    "display(len(_queries))\n",
    "assert len(_queries) == 8"
   ]
  },
  {
   "cell_type": "code",
   "execution_count": 23,
   "id": "d21ca403-339f-43ec-a66e-8f3ba10ecfb3",
   "metadata": {
    "execution": {
     "iopub.execute_input": "2022-01-27T17:54:34.953989Z",
     "iopub.status.busy": "2022-01-27T17:54:34.953537Z",
     "iopub.status.idle": "2022-01-27T17:54:40.276896Z",
     "shell.execute_reply": "2022-01-27T17:54:40.276439Z"
    },
    "papermill": {
     "duration": 5.353293,
     "end_time": "2022-01-27T17:54:40.276992",
     "exception": false,
     "start_time": "2022-01-27T17:54:34.923699",
     "status": "completed"
    },
    "tags": []
   },
   "outputs": [],
   "source": [
    "gene_pairs_df = []\n",
    "\n",
    "for idx, _query in enumerate(_queries):\n",
    "    group_df = get_gene_pairs(gene_pairs_intersections, set(_query))\n",
    "    gene_pairs_df.append(group_df)\n",
    "\n",
    "gene_pairs_df = pd.concat(gene_pairs_df)"
   ]
  },
  {
   "cell_type": "code",
   "execution_count": 24,
   "id": "29e2c167-b45a-4c63-a223-f78d5e953b37",
   "metadata": {
    "execution": {
     "iopub.execute_input": "2022-01-27T17:54:40.334158Z",
     "iopub.status.busy": "2022-01-27T17:54:40.333689Z",
     "iopub.status.idle": "2022-01-27T17:54:40.345009Z",
     "shell.execute_reply": "2022-01-27T17:54:40.344547Z"
    },
    "papermill": {
     "duration": 0.041702,
     "end_time": "2022-01-27T17:54:40.345106",
     "exception": false,
     "start_time": "2022-01-27T17:54:40.303404",
     "status": "completed"
    },
    "tags": []
   },
   "outputs": [
    {
     "data": {
      "text/plain": [
       "(32955, 2)"
      ]
     },
     "metadata": {},
     "output_type": "display_data"
    }
   ],
   "source": [
    "display(gene_pairs_df.shape)\n",
    "assert gene_pairs_df.drop_duplicates().shape == gene_pairs_df.shape\n",
    "assert (gene_pairs_df.shape[0] > 3.2e4) and (gene_pairs_df.shape[0] < 3.3e4)"
   ]
  },
  {
   "cell_type": "code",
   "execution_count": 25,
   "id": "2df7cd58-55b9-46d0-b195-2c745eb358df",
   "metadata": {
    "execution": {
     "iopub.execute_input": "2022-01-27T17:54:40.405140Z",
     "iopub.status.busy": "2022-01-27T17:54:40.404521Z",
     "iopub.status.idle": "2022-01-27T17:54:40.406941Z",
     "shell.execute_reply": "2022-01-27T17:54:40.407305Z"
    },
    "papermill": {
     "duration": 0.0353,
     "end_time": "2022-01-27T17:54:40.407421",
     "exception": false,
     "start_time": "2022-01-27T17:54:40.372121",
     "status": "completed"
    },
    "tags": []
   },
   "outputs": [
    {
     "data": {
      "text/html": [
       "<div>\n",
       "<style scoped>\n",
       "    .dataframe tbody tr th:only-of-type {\n",
       "        vertical-align: middle;\n",
       "    }\n",
       "\n",
       "    .dataframe tbody tr th {\n",
       "        vertical-align: top;\n",
       "    }\n",
       "\n",
       "    .dataframe thead th {\n",
       "        text-align: right;\n",
       "    }\n",
       "</style>\n",
       "<table border=\"1\" class=\"dataframe\">\n",
       "  <thead>\n",
       "    <tr style=\"text-align: right;\">\n",
       "      <th></th>\n",
       "      <th>gene0</th>\n",
       "      <th>gene1</th>\n",
       "    </tr>\n",
       "  </thead>\n",
       "  <tbody>\n",
       "    <tr>\n",
       "      <th>0</th>\n",
       "      <td>ENSG00000000419.12</td>\n",
       "      <td>ENSG00000068976.13</td>\n",
       "    </tr>\n",
       "    <tr>\n",
       "      <th>1</th>\n",
       "      <td>ENSG00000000938.12</td>\n",
       "      <td>ENSG00000068976.13</td>\n",
       "    </tr>\n",
       "    <tr>\n",
       "      <th>2</th>\n",
       "      <td>ENSG00000001167.14</td>\n",
       "      <td>ENSG00000163739.4</td>\n",
       "    </tr>\n",
       "    <tr>\n",
       "      <th>3</th>\n",
       "      <td>ENSG00000002586.18</td>\n",
       "      <td>ENSG00000169136.10</td>\n",
       "    </tr>\n",
       "    <tr>\n",
       "      <th>4</th>\n",
       "      <td>ENSG00000002834.17</td>\n",
       "      <td>ENSG00000068976.13</td>\n",
       "    </tr>\n",
       "  </tbody>\n",
       "</table>\n",
       "</div>"
      ],
      "text/plain": [
       "                gene0               gene1\n",
       "0  ENSG00000000419.12  ENSG00000068976.13\n",
       "1  ENSG00000000938.12  ENSG00000068976.13\n",
       "2  ENSG00000001167.14   ENSG00000163739.4\n",
       "3  ENSG00000002586.18  ENSG00000169136.10\n",
       "4  ENSG00000002834.17  ENSG00000068976.13"
      ]
     },
     "execution_count": 25,
     "metadata": {},
     "output_type": "execute_result"
    }
   ],
   "source": [
    "gene_pairs_df.head()"
   ]
  },
  {
   "cell_type": "markdown",
   "id": "a1512df6-7c3f-44e8-b833-16260f9d8737",
   "metadata": {
    "papermill": {
     "duration": 0.026745,
     "end_time": "2022-01-27T17:54:40.461010",
     "exception": false,
     "start_time": "2022-01-27T17:54:40.434265",
     "status": "completed"
    },
    "tags": []
   },
   "source": [
    "# Save"
   ]
  },
  {
   "cell_type": "markdown",
   "id": "bc7fa0ab-3644-4166-9ee8-5c616802f649",
   "metadata": {
    "papermill": {
     "duration": 0.026571,
     "end_time": "2022-01-27T17:54:40.514343",
     "exception": false,
     "start_time": "2022-01-27T17:54:40.487772",
     "status": "completed"
    },
    "tags": []
   },
   "source": [
    "Since this \"disagreements\" set is small, just save the entire group."
   ]
  },
  {
   "cell_type": "code",
   "execution_count": 26,
   "id": "778cbf0c-cbb4-438f-a2cc-eee5985b5a60",
   "metadata": {
    "execution": {
     "iopub.execute_input": "2022-01-27T17:54:40.572373Z",
     "iopub.status.busy": "2022-01-27T17:54:40.571735Z",
     "iopub.status.idle": "2022-01-27T17:54:40.574857Z",
     "shell.execute_reply": "2022-01-27T17:54:40.574409Z"
    },
    "papermill": {
     "duration": 0.033762,
     "end_time": "2022-01-27T17:54:40.574951",
     "exception": false,
     "start_time": "2022-01-27T17:54:40.541189",
     "status": "completed"
    },
    "tags": []
   },
   "outputs": [
    {
     "data": {
      "text/plain": [
       "'/opt/data/results/gtex_v8/gene_pair_intersections/samples/gene_pair_intersections-gtex_v8-whole_blood-var_pc_log2-disagreements_sample_0.pkl'"
      ]
     },
     "metadata": {},
     "output_type": "display_data"
    }
   ],
   "source": [
    "output_filepath = OUTPUT_FILE_TEMPLATE.format(sample_id=0)\n",
    "display(output_filepath)"
   ]
  },
  {
   "cell_type": "code",
   "execution_count": 27,
   "id": "dfe934f4-e070-4199-a88a-b08f24155da4",
   "metadata": {
    "execution": {
     "iopub.execute_input": "2022-01-27T17:54:40.633261Z",
     "iopub.status.busy": "2022-01-27T17:54:40.632772Z",
     "iopub.status.idle": "2022-01-27T17:54:40.639164Z",
     "shell.execute_reply": "2022-01-27T17:54:40.638710Z"
    },
    "papermill": {
     "duration": 0.036694,
     "end_time": "2022-01-27T17:54:40.639262",
     "exception": false,
     "start_time": "2022-01-27T17:54:40.602568",
     "status": "completed"
    },
    "tags": []
   },
   "outputs": [],
   "source": [
    "gene_pairs_df.to_pickle(output_filepath)"
   ]
  },
  {
   "cell_type": "code",
   "execution_count": null,
   "id": "baecf5a6-0828-4d6a-9d0b-b22fb607dae5",
   "metadata": {
    "papermill": {
     "duration": 0.027073,
     "end_time": "2022-01-27T17:54:40.694658",
     "exception": false,
     "start_time": "2022-01-27T17:54:40.667585",
     "status": "completed"
    },
    "tags": []
   },
   "outputs": [],
   "source": []
  }
 ],
 "metadata": {
  "jupytext": {
   "cell_metadata_filter": "all,-execution,-papermill,-trusted"
  },
  "kernelspec": {
   "display_name": "Python 3 (ipykernel)",
   "language": "python",
   "name": "python3"
  },
  "language_info": {
   "codemirror_mode": {
    "name": "ipython",
    "version": 3
   },
   "file_extension": ".py",
   "mimetype": "text/x-python",
   "name": "python",
   "nbconvert_exporter": "python",
   "pygments_lexer": "ipython3",
   "version": "3.9.9"
  },
  "papermill": {
   "default_parameters": {},
   "duration": 10.424002,
   "end_time": "2022-01-27T17:54:40.937901",
   "environment_variables": {},
   "exception": null,
   "input_path": "nbs/20_comparison_others/03_07-gtex_whole_blood-sample_intersections-disagreements.ipynb",
   "output_path": "nbs/20_comparison_others/03_07-gtex_whole_blood-sample_intersections-disagreements.run.ipynb",
   "parameters": {},
   "start_time": "2022-01-27T17:54:30.513899",
   "version": "2.3.4"
  },
  "toc-autonumbering": true
 },
 "nbformat": 4,
 "nbformat_minor": 5
}
