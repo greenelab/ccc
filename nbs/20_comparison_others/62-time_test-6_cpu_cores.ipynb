{
 "cells": [
  {
   "cell_type": "markdown",
   "id": "c1948eb4-fb63-4fad-8243-bcd57b98def3",
   "metadata": {
    "papermill": {
     "duration": 0.007266,
     "end_time": "2023-09-11T18:29:54.444829",
     "exception": false,
     "start_time": "2023-09-11T18:29:54.437563",
     "status": "completed"
    },
    "tags": []
   },
   "source": [
    "# Description"
   ]
  },
  {
   "cell_type": "markdown",
   "id": "d5775ff8-d222-4fbc-b1a9-8366662c2896",
   "metadata": {
    "papermill": {
     "duration": 0.005698,
     "end_time": "2023-09-11T18:29:54.460697",
     "exception": false,
     "start_time": "2023-09-11T18:29:54.454999",
     "status": "completed"
    },
    "tags": []
   },
   "source": [
    "It generates random variables of varying sizes to compare the time taken by CCC and MIC.\n",
    "\n",
    "This notebook uses 6 CPU core."
   ]
  },
  {
   "cell_type": "markdown",
   "id": "d6252b4c-6d56-4cf0-aecd-5d8c769a3609",
   "metadata": {
    "papermill": {
     "duration": 0.002584,
     "end_time": "2023-09-11T18:29:54.469398",
     "exception": false,
     "start_time": "2023-09-11T18:29:54.466814",
     "status": "completed"
    },
    "tags": []
   },
   "source": [
    "# Modules loading"
   ]
  },
  {
   "cell_type": "code",
   "execution_count": 1,
   "id": "ea7d30d5-da78-454a-a4ff-e6307bfdbb37",
   "metadata": {
    "execution": {
     "iopub.execute_input": "2023-09-11T18:29:54.473696Z",
     "iopub.status.busy": "2023-09-11T18:29:54.473474Z",
     "iopub.status.idle": "2023-09-11T18:29:54.479394Z",
     "shell.execute_reply": "2023-09-11T18:29:54.479012Z"
    },
    "papermill": {
     "duration": 0.008825,
     "end_time": "2023-09-11T18:29:54.480247",
     "exception": false,
     "start_time": "2023-09-11T18:29:54.471422",
     "status": "completed"
    },
    "tags": []
   },
   "outputs": [
    {
     "name": "stdout",
     "output_type": "stream",
     "text": [
      "env: CM_N_JOBS=6\n",
      "env: NUMBA_NUM_THREADS=6\n",
      "env: MKL_NUM_THREADS=6\n",
      "env: OPEN_BLAS_NUM_THREADS=6\n",
      "env: NUMEXPR_NUM_THREADS=6\n",
      "env: OMP_NUM_THREADS=6\n"
     ]
    }
   ],
   "source": [
    "%env CM_N_JOBS=6\n",
    "%env NUMBA_NUM_THREADS=6\n",
    "%env MKL_NUM_THREADS=6\n",
    "%env OPEN_BLAS_NUM_THREADS=6\n",
    "%env NUMEXPR_NUM_THREADS=6\n",
    "%env OMP_NUM_THREADS=6"
   ]
  },
  {
   "cell_type": "code",
   "execution_count": 2,
   "id": "77e9d29d-5307-4b4a-b103-7d1fbd6a7e56",
   "metadata": {
    "execution": {
     "iopub.execute_input": "2023-09-11T18:29:54.485669Z",
     "iopub.status.busy": "2023-09-11T18:29:54.485490Z",
     "iopub.status.idle": "2023-09-11T18:29:54.800487Z",
     "shell.execute_reply": "2023-09-11T18:29:54.800231Z"
    },
    "papermill": {
     "duration": 0.318933,
     "end_time": "2023-09-11T18:29:54.801349",
     "exception": false,
     "start_time": "2023-09-11T18:29:54.482416",
     "status": "completed"
    },
    "tags": []
   },
   "outputs": [],
   "source": [
    "import os\n",
    "from time import time\n",
    "\n",
    "import numpy as np\n",
    "import pandas as pd\n",
    "from scipy.stats import pearsonr, spearmanr\n",
    "\n",
    "from ccc import conf\n",
    "from ccc.coef import ccc\n",
    "from ccc.methods import mic"
   ]
  },
  {
   "cell_type": "markdown",
   "id": "262eb535-3e5d-43d7-9efd-bd6cfdac9190",
   "metadata": {
    "papermill": {
     "duration": 0.009703,
     "end_time": "2023-09-11T18:29:54.812586",
     "exception": false,
     "start_time": "2023-09-11T18:29:54.802883",
     "status": "completed"
    },
    "tags": []
   },
   "source": [
    "# Settings"
   ]
  },
  {
   "cell_type": "code",
   "execution_count": 3,
   "id": "c1e5a523-e22f-42e1-b27f-929bebaea711",
   "metadata": {
    "execution": {
     "iopub.execute_input": "2023-09-11T18:29:54.820710Z",
     "iopub.status.busy": "2023-09-11T18:29:54.820610Z",
     "iopub.status.idle": "2023-09-11T18:29:54.824541Z",
     "shell.execute_reply": "2023-09-11T18:29:54.824204Z"
    },
    "papermill": {
     "duration": 0.007678,
     "end_time": "2023-09-11T18:29:54.825105",
     "exception": false,
     "start_time": "2023-09-11T18:29:54.817427",
     "status": "completed"
    },
    "tags": []
   },
   "outputs": [
    {
     "data": {
      "text/plain": [
       "6"
      ]
     },
     "metadata": {},
     "output_type": "display_data"
    }
   ],
   "source": [
    "N_JOBS = int(os.environ[\"CM_N_JOBS\"])\n",
    "display(N_JOBS)"
   ]
  },
  {
   "cell_type": "code",
   "execution_count": 4,
   "id": "311cc161-c947-447e-b622-6df22ad0e03a",
   "metadata": {
    "execution": {
     "iopub.execute_input": "2023-09-11T18:29:54.828211Z",
     "iopub.status.busy": "2023-09-11T18:29:54.827960Z",
     "iopub.status.idle": "2023-09-11T18:29:54.829417Z",
     "shell.execute_reply": "2023-09-11T18:29:54.829285Z"
    },
    "papermill": {
     "duration": 0.00354,
     "end_time": "2023-09-11T18:29:54.829930",
     "exception": false,
     "start_time": "2023-09-11T18:29:54.826390",
     "status": "completed"
    },
    "tags": []
   },
   "outputs": [],
   "source": [
    "OUTPUT_FILENAME = \"time_test.pkl\""
   ]
  },
  {
   "cell_type": "code",
   "execution_count": 5,
   "id": "2d2bd14a-a40d-4710-98c2-587148d0f532",
   "metadata": {
    "execution": {
     "iopub.execute_input": "2023-09-11T18:29:54.832901Z",
     "iopub.status.busy": "2023-09-11T18:29:54.832813Z",
     "iopub.status.idle": "2023-09-11T18:29:54.834151Z",
     "shell.execute_reply": "2023-09-11T18:29:54.834024Z"
    },
    "papermill": {
     "duration": 0.003403,
     "end_time": "2023-09-11T18:29:54.834570",
     "exception": false,
     "start_time": "2023-09-11T18:29:54.831167",
     "status": "completed"
    },
    "tags": []
   },
   "outputs": [],
   "source": [
    "DATA_SIZES = [\n",
    "    100,\n",
    "    500,\n",
    "    1000,\n",
    "    5000,\n",
    "    10000,\n",
    "    50000,\n",
    "    100000,\n",
    "    1000000,\n",
    "    10000000,\n",
    "]\n",
    "\n",
    "N_REPS = 10"
   ]
  },
  {
   "cell_type": "code",
   "execution_count": 6,
   "id": "d24607ca-2774-4e51-b392-538c85c86052",
   "metadata": {
    "execution": {
     "iopub.execute_input": "2023-09-11T18:29:54.837314Z",
     "iopub.status.busy": "2023-09-11T18:29:54.837260Z",
     "iopub.status.idle": "2023-09-11T18:29:54.838520Z",
     "shell.execute_reply": "2023-09-11T18:29:54.838387Z"
    },
    "papermill": {
     "duration": 0.003159,
     "end_time": "2023-09-11T18:29:54.838957",
     "exception": false,
     "start_time": "2023-09-11T18:29:54.835798",
     "status": "completed"
    },
    "tags": []
   },
   "outputs": [],
   "source": [
    "np.random.seed(0)"
   ]
  },
  {
   "cell_type": "markdown",
   "id": "eec9bb6d-4ba2-4817-9b36-bc8e68a2beae",
   "metadata": {
    "papermill": {
     "duration": 0.001155,
     "end_time": "2023-09-11T18:29:54.841345",
     "exception": false,
     "start_time": "2023-09-11T18:29:54.840190",
     "status": "completed"
    },
    "tags": []
   },
   "source": [
    "# Paths"
   ]
  },
  {
   "cell_type": "code",
   "execution_count": 7,
   "id": "ee9e6b70-9abd-4714-9ce5-49c270a1b0be",
   "metadata": {
    "execution": {
     "iopub.execute_input": "2023-09-11T18:29:54.844104Z",
     "iopub.status.busy": "2023-09-11T18:29:54.843994Z",
     "iopub.status.idle": "2023-09-11T18:29:54.845611Z",
     "shell.execute_reply": "2023-09-11T18:29:54.845489Z"
    },
    "papermill": {
     "duration": 0.003507,
     "end_time": "2023-09-11T18:29:54.846067",
     "exception": false,
     "start_time": "2023-09-11T18:29:54.842560",
     "status": "completed"
    },
    "tags": []
   },
   "outputs": [
    {
     "data": {
      "text/plain": [
       "PosixPath('/opt/data/results/time_test')"
      ]
     },
     "metadata": {},
     "output_type": "display_data"
    }
   ],
   "source": [
    "OUTPUT_DIR = conf.RESULTS_DIR / \"time_test\"\n",
    "OUTPUT_DIR.mkdir(parents=True, exist_ok=True)\n",
    "display(OUTPUT_DIR)"
   ]
  },
  {
   "cell_type": "markdown",
   "id": "9cb68076-f855-45c8-9843-ce2d93bdc4e7",
   "metadata": {
    "papermill": {
     "duration": 0.00116,
     "end_time": "2023-09-11T18:29:54.848473",
     "exception": false,
     "start_time": "2023-09-11T18:29:54.847313",
     "status": "completed"
    },
    "tags": []
   },
   "source": [
    "# Functions"
   ]
  },
  {
   "cell_type": "code",
   "execution_count": 8,
   "id": "e2c25ecf-0d87-4447-a9ff-a3b511629a61",
   "metadata": {
    "execution": {
     "iopub.execute_input": "2023-09-11T18:29:54.851259Z",
     "iopub.status.busy": "2023-09-11T18:29:54.851152Z",
     "iopub.status.idle": "2023-09-11T18:29:54.852980Z",
     "shell.execute_reply": "2023-09-11T18:29:54.852845Z"
    },
    "papermill": {
     "duration": 0.003712,
     "end_time": "2023-09-11T18:29:54.853410",
     "exception": false,
     "start_time": "2023-09-11T18:29:54.849698",
     "status": "completed"
    },
    "tags": []
   },
   "outputs": [],
   "source": [
    "# append to previous run\n",
    "time_results = pd.read_pickle(OUTPUT_DIR / OUTPUT_FILENAME)"
   ]
  },
  {
   "cell_type": "code",
   "execution_count": 9,
   "id": "3ab0c0b8-f340-4cb4-a236-6523cf0aa995",
   "metadata": {
    "execution": {
     "iopub.execute_input": "2023-09-11T18:29:54.856337Z",
     "iopub.status.busy": "2023-09-11T18:29:54.856246Z",
     "iopub.status.idle": "2023-09-11T18:29:54.857736Z",
     "shell.execute_reply": "2023-09-11T18:29:54.857618Z"
    },
    "papermill": {
     "duration": 0.003343,
     "end_time": "2023-09-11T18:29:54.858135",
     "exception": false,
     "start_time": "2023-09-11T18:29:54.854792",
     "status": "completed"
    },
    "tags": []
   },
   "outputs": [
    {
     "data": {
      "text/plain": [
       "(10660, 4)"
      ]
     },
     "execution_count": 9,
     "metadata": {},
     "output_type": "execute_result"
    }
   ],
   "source": [
    "time_results.shape"
   ]
  },
  {
   "cell_type": "code",
   "execution_count": 10,
   "id": "ffc0d8de-79a6-4ab8-8cc2-5b720392a0e6",
   "metadata": {
    "execution": {
     "iopub.execute_input": "2023-09-11T18:29:54.860974Z",
     "iopub.status.busy": "2023-09-11T18:29:54.860867Z",
     "iopub.status.idle": "2023-09-11T18:29:54.862719Z",
     "shell.execute_reply": "2023-09-11T18:29:54.862587Z"
    },
    "papermill": {
     "duration": 0.003725,
     "end_time": "2023-09-11T18:29:54.863140",
     "exception": false,
     "start_time": "2023-09-11T18:29:54.859415",
     "status": "completed"
    },
    "tags": []
   },
   "outputs": [],
   "source": [
    "def run_method(func, method_name, size):\n",
    "    n_reps = N_REPS\n",
    "    if size < 500:\n",
    "        n_reps = 1000\n",
    "\n",
    "    for r in range(n_reps):\n",
    "        d1 = np.random.rand(size)\n",
    "        d2 = np.random.rand(size)\n",
    "\n",
    "        start_time = time()\n",
    "        sim = func(d1, d2)\n",
    "        end_time = time()\n",
    "        met_time = end_time - start_time\n",
    "\n",
    "        idx = time_results.shape[0]\n",
    "        time_results.loc[idx] = [d1.shape[0], method_name, met_time, sim]"
   ]
  },
  {
   "cell_type": "markdown",
   "id": "7656ffa5-c9c3-41f5-aeb5-21bde8836e81",
   "metadata": {
    "papermill": {
     "duration": 0.001239,
     "end_time": "2023-09-11T18:29:54.865672",
     "exception": false,
     "start_time": "2023-09-11T18:29:54.864433",
     "status": "completed"
    },
    "tags": []
   },
   "source": [
    "# Run"
   ]
  },
  {
   "cell_type": "code",
   "execution_count": 11,
   "id": "3e4fac59-34a7-4b63-8aa0-e845c0a156af",
   "metadata": {
    "execution": {
     "iopub.execute_input": "2023-09-11T18:29:54.868515Z",
     "iopub.status.busy": "2023-09-11T18:29:54.868408Z",
     "iopub.status.idle": "2023-09-11T18:29:54.870846Z",
     "shell.execute_reply": "2023-09-11T18:29:54.870719Z"
    },
    "papermill": {
     "duration": 0.00435,
     "end_time": "2023-09-11T18:29:54.871287",
     "exception": false,
     "start_time": "2023-09-11T18:29:54.866937",
     "status": "completed"
    },
    "tags": []
   },
   "outputs": [
    {
     "data": {
      "text/plain": [
       "0.02047038824894002"
      ]
     },
     "execution_count": 11,
     "metadata": {},
     "output_type": "execute_result"
    }
   ],
   "source": [
    "# initialize methods\n",
    "ccc(np.random.rand(100), np.random.rand(100))"
   ]
  },
  {
   "cell_type": "code",
   "execution_count": 12,
   "id": "e3f26ab4-ec59-4e8f-b887-14abc2cc7cae",
   "metadata": {
    "execution": {
     "iopub.execute_input": "2023-09-11T18:29:54.874183Z",
     "iopub.status.busy": "2023-09-11T18:29:54.874077Z",
     "iopub.status.idle": "2023-09-11T18:33:35.410755Z",
     "shell.execute_reply": "2023-09-11T18:33:35.410430Z"
    },
    "papermill": {
     "duration": 220.540355,
     "end_time": "2023-09-11T18:33:35.412926",
     "exception": false,
     "start_time": "2023-09-11T18:29:54.872571",
     "status": "completed"
    },
    "tags": []
   },
   "outputs": [
    {
     "name": "stdout",
     "output_type": "stream",
     "text": [
      "Size: 100\n",
      "  p\n",
      "  s\n",
      "  cm\n",
      "  mic_e\n",
      "  mic\n",
      "Saving to pickle\n",
      "\n",
      "\n",
      "Size: 500\n",
      "  p\n",
      "  s\n",
      "  cm\n",
      "  mic_e\n",
      "  mic\n",
      "Saving to pickle\n",
      "\n",
      "\n",
      "Size: 1000\n",
      "  p\n",
      "  s\n",
      "  cm\n",
      "  mic_e\n",
      "  mic\n",
      "Saving to pickle\n",
      "\n",
      "\n",
      "Size: 5000\n",
      "  p\n",
      "  s\n",
      "  cm\n",
      "  mic_e\n",
      "  mic\n",
      "Saving to pickle\n",
      "\n",
      "\n",
      "Size: 10000\n",
      "  p\n",
      "  s\n",
      "  cm\n",
      "  mic_e\n",
      "  mic\n",
      "Saving to pickle\n",
      "\n",
      "\n",
      "Size: 50000\n",
      "  p\n",
      "  s\n",
      "  cm\n",
      "  mic_e\n",
      "Saving to pickle\n",
      "\n",
      "\n",
      "Size: 100000\n",
      "  p\n",
      "  s\n",
      "  cm\n",
      "Saving to pickle\n",
      "\n",
      "\n",
      "Size: 1000000\n",
      "  p\n",
      "  s\n",
      "  cm\n",
      "Saving to pickle\n",
      "\n",
      "\n",
      "Size: 10000000\n",
      "  p\n",
      "  s\n",
      "  cm\n",
      "Saving to pickle\n",
      "\n",
      "\n"
     ]
    }
   ],
   "source": [
    "for s in DATA_SIZES:\n",
    "    print(f\"Size: {s}\")\n",
    "\n",
    "    print(\"  p\")\n",
    "    run_method(lambda x, y: pearsonr(x, y)[0], \"p-6\", s)\n",
    "\n",
    "    print(\"  s\")\n",
    "    run_method(lambda x, y: spearmanr(x, y)[0], \"s-6\", s)\n",
    "\n",
    "    print(\"  cm\")\n",
    "    run_method(lambda x, y: ccc(x, y, n_jobs=N_JOBS), \"cm-6\", s)\n",
    "\n",
    "    if s <= 50000:\n",
    "        print(\"  mic_e\")\n",
    "        run_method(lambda x, y: mic(x, y, estimator=\"mic_e\"), \"mic_e-6\", s)\n",
    "\n",
    "    if s <= 10000:\n",
    "        print(\"  mic\")\n",
    "        run_method(lambda x, y: mic(x, y), \"mic-6\", s)\n",
    "\n",
    "    print(\"Saving to pickle\")\n",
    "    time_results.to_pickle(OUTPUT_DIR / OUTPUT_FILENAME)\n",
    "\n",
    "    print(\"\\n\")"
   ]
  },
  {
   "cell_type": "markdown",
   "id": "2597ad7d",
   "metadata": {
    "papermill": {
     "duration": 0.001559,
     "end_time": "2023-09-11T18:33:35.416171",
     "exception": false,
     "start_time": "2023-09-11T18:33:35.414612",
     "status": "completed"
    },
    "tags": []
   },
   "source": [
    "# Summary of results"
   ]
  },
  {
   "cell_type": "code",
   "execution_count": 13,
   "id": "3846d7bb-67fe-4084-afe8-d7226fbef0f1",
   "metadata": {
    "execution": {
     "iopub.execute_input": "2023-09-11T18:33:35.420074Z",
     "iopub.status.busy": "2023-09-11T18:33:35.420012Z",
     "iopub.status.idle": "2023-09-11T18:33:35.422105Z",
     "shell.execute_reply": "2023-09-11T18:33:35.421978Z"
    },
    "papermill": {
     "duration": 0.004955,
     "end_time": "2023-09-11T18:33:35.422697",
     "exception": false,
     "start_time": "2023-09-11T18:33:35.417742",
     "status": "completed"
    },
    "tags": []
   },
   "outputs": [
    {
     "data": {
      "text/plain": [
       "(15990, 4)"
      ]
     },
     "execution_count": 13,
     "metadata": {},
     "output_type": "execute_result"
    }
   ],
   "source": [
    "time_results.shape"
   ]
  },
  {
   "cell_type": "code",
   "execution_count": 14,
   "id": "1e699725",
   "metadata": {
    "execution": {
     "iopub.execute_input": "2023-09-11T18:33:35.427175Z",
     "iopub.status.busy": "2023-09-11T18:33:35.427079Z",
     "iopub.status.idle": "2023-09-11T18:33:35.432853Z",
     "shell.execute_reply": "2023-09-11T18:33:35.432576Z"
    },
    "papermill": {
     "duration": 0.009342,
     "end_time": "2023-09-11T18:33:35.433921",
     "exception": false,
     "start_time": "2023-09-11T18:33:35.424579",
     "status": "completed"
    },
    "tags": []
   },
   "outputs": [
    {
     "data": {
      "text/html": [
       "<div>\n",
       "<style scoped>\n",
       "    .dataframe tbody tr th:only-of-type {\n",
       "        vertical-align: middle;\n",
       "    }\n",
       "\n",
       "    .dataframe tbody tr th {\n",
       "        vertical-align: top;\n",
       "    }\n",
       "\n",
       "    .dataframe thead th {\n",
       "        text-align: right;\n",
       "    }\n",
       "</style>\n",
       "<table border=\"1\" class=\"dataframe\">\n",
       "  <thead>\n",
       "    <tr style=\"text-align: right;\">\n",
       "      <th></th>\n",
       "      <th>data_size</th>\n",
       "      <th>method</th>\n",
       "      <th>time</th>\n",
       "      <th>sim</th>\n",
       "    </tr>\n",
       "  </thead>\n",
       "  <tbody>\n",
       "    <tr>\n",
       "      <th>0</th>\n",
       "      <td>100</td>\n",
       "      <td>p-1</td>\n",
       "      <td>0.000118</td>\n",
       "      <td>0.025538</td>\n",
       "    </tr>\n",
       "    <tr>\n",
       "      <th>1</th>\n",
       "      <td>100</td>\n",
       "      <td>p-1</td>\n",
       "      <td>0.000057</td>\n",
       "      <td>-0.151557</td>\n",
       "    </tr>\n",
       "    <tr>\n",
       "      <th>2</th>\n",
       "      <td>100</td>\n",
       "      <td>p-1</td>\n",
       "      <td>0.000057</td>\n",
       "      <td>-0.057741</td>\n",
       "    </tr>\n",
       "    <tr>\n",
       "      <th>3</th>\n",
       "      <td>100</td>\n",
       "      <td>p-1</td>\n",
       "      <td>0.000054</td>\n",
       "      <td>-0.015025</td>\n",
       "    </tr>\n",
       "    <tr>\n",
       "      <th>4</th>\n",
       "      <td>100</td>\n",
       "      <td>p-1</td>\n",
       "      <td>0.000056</td>\n",
       "      <td>0.061830</td>\n",
       "    </tr>\n",
       "  </tbody>\n",
       "</table>\n",
       "</div>"
      ],
      "text/plain": [
       "  data_size method      time       sim\n",
       "0       100    p-1  0.000118  0.025538\n",
       "1       100    p-1  0.000057 -0.151557\n",
       "2       100    p-1  0.000057 -0.057741\n",
       "3       100    p-1  0.000054 -0.015025\n",
       "4       100    p-1  0.000056  0.061830"
      ]
     },
     "execution_count": 14,
     "metadata": {},
     "output_type": "execute_result"
    }
   ],
   "source": [
    "time_results.head()"
   ]
  },
  {
   "cell_type": "code",
   "execution_count": null,
   "id": "9c772e87-9117-4f2e-b217-29ea33c64d12",
   "metadata": {
    "papermill": {
     "duration": 0.002486,
     "end_time": "2023-09-11T18:33:35.439662",
     "exception": false,
     "start_time": "2023-09-11T18:33:35.437176",
     "status": "completed"
    },
    "tags": []
   },
   "outputs": [],
   "source": []
  }
 ],
 "metadata": {
  "jupytext": {
   "cell_metadata_filter": "all,-execution,-papermill,-trusted",
   "notebook_metadata_filter": "-jupytext.text_representation.jupytext_version"
  },
  "kernelspec": {
   "display_name": "Python 3 (ipykernel)",
   "language": "python",
   "name": "python3"
  },
  "language_info": {
   "codemirror_mode": {
    "name": "ipython",
    "version": 3
   },
   "file_extension": ".py",
   "mimetype": "text/x-python",
   "name": "python",
   "nbconvert_exporter": "python",
   "pygments_lexer": "ipython3",
   "version": "3.9.12"
  },
  "papermill": {
   "default_parameters": {},
   "duration": 222.034949,
   "end_time": "2023-09-11T18:33:35.661066",
   "environment_variables": {},
   "exception": null,
   "input_path": "nbs/20_comparison_others/62-time_test-6_cpu_cores.ipynb",
   "output_path": "nbs/20_comparison_others/62-time_test-6_cpu_cores.run.ipynb",
   "parameters": {
    "GTEX_TISSUE": "skin_sun_exposed_lower_leg"
   },
   "start_time": "2023-09-11T18:29:53.626117",
   "version": "2.3.3"
  }
 },
 "nbformat": 4,
 "nbformat_minor": 5
}
