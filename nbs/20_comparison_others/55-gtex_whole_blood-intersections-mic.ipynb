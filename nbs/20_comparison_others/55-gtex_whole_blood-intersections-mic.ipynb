{
 "cells": [
  {
   "cell_type": "markdown",
   "id": "87e0ce1b-7ce6-4499-9342-5ded05307598",
   "metadata": {
    "papermill": {
     "duration": 0.069511,
     "end_time": "2022-01-27T14:45:56.155754",
     "exception": false,
     "start_time": "2022-01-27T14:45:56.086243",
     "status": "completed"
    },
    "tags": []
   },
   "source": [
    "# Description"
   ]
  },
  {
   "cell_type": "markdown",
   "id": "4bfc7115-350a-441b-9a19-7626a948a694",
   "metadata": {
    "papermill": {
     "duration": 0.03106,
     "end_time": "2022-01-27T14:45:56.218183",
     "exception": false,
     "start_time": "2022-01-27T14:45:56.187123",
     "status": "completed"
    },
    "tags": []
   },
   "source": [
    "It analyzes how the CCC and MIC coefficients intersect on different gene pairs. This notebook is very similar to the [other notebook](https://github.com/greenelab/ccc/blob/coef_improvements/nbs/99_manuscript/coefs_comp/08_05-gtex_whole_blood-intersections_plots.ipynb) that compares CCC, Spearman and Pearson."
   ]
  },
  {
   "cell_type": "markdown",
   "id": "e020c781-238b-43c2-8cad-2722b8a240e2",
   "metadata": {
    "papermill": {
     "duration": 0.031047,
     "end_time": "2022-01-27T14:45:56.280344",
     "exception": false,
     "start_time": "2022-01-27T14:45:56.249297",
     "status": "completed"
    },
    "tags": []
   },
   "source": [
    "# Modules"
   ]
  },
  {
   "cell_type": "code",
   "execution_count": 1,
   "id": "a819bfbc-5009-4c68-ba8d-37d0979d368f",
   "metadata": {
    "papermill": {
     "duration": 1.029641,
     "end_time": "2022-01-27T14:45:57.340806",
     "exception": false,
     "start_time": "2022-01-27T14:45:56.311165",
     "status": "completed"
    },
    "tags": []
   },
   "outputs": [],
   "source": [
    "import pandas as pd\n",
    "import numpy as np\n",
    "\n",
    "import matplotlib.pyplot as plt\n",
    "from upsetplot import plot, from_indicators\n",
    "\n",
    "from ccc import conf"
   ]
  },
  {
   "cell_type": "markdown",
   "id": "b4834387-58ff-468c-b326-85c408bc5feb",
   "metadata": {
    "papermill": {
     "duration": 0.031243,
     "end_time": "2022-01-27T14:45:57.403766",
     "exception": false,
     "start_time": "2022-01-27T14:45:57.372523",
     "status": "completed"
    },
    "tags": []
   },
   "source": [
    "# Settings"
   ]
  },
  {
   "cell_type": "code",
   "execution_count": 2,
   "id": "765e820a-4518-4bbc-a00f-14c9cea03821",
   "metadata": {
    "papermill": {
     "duration": 0.036384,
     "end_time": "2022-01-27T14:45:57.470949",
     "exception": false,
     "start_time": "2022-01-27T14:45:57.434565",
     "status": "completed"
    },
    "tags": []
   },
   "outputs": [],
   "source": [
    "DATASET_CONFIG = conf.GTEX\n",
    "GTEX_TISSUE = \"whole_blood\"\n",
    "GENE_SEL_STRATEGY = \"var_pc_log2\""
   ]
  },
  {
   "cell_type": "code",
   "execution_count": 3,
   "id": "ffcd0ae1-829d-4eda-befe-ace40371babf",
   "metadata": {
    "papermill": {
     "duration": 0.036038,
     "end_time": "2022-01-27T14:45:57.539310",
     "exception": false,
     "start_time": "2022-01-27T14:45:57.503272",
     "status": "completed"
    },
    "tags": []
   },
   "outputs": [],
   "source": [
    "# this specificies the threshold to compare coefficients (see below).\n",
    "# it basically takes the top Q_DIFF coefficient values for gene pairs\n",
    "# and compare with the bottom Q_DIFF of the other coefficients\n",
    "Q_DIFF = 0.30"
   ]
  },
  {
   "cell_type": "markdown",
   "id": "a1159982-5dd1-4494-97d4-0674eeead1c3",
   "metadata": {
    "papermill": {
     "duration": 0.031328,
     "end_time": "2022-01-27T14:45:57.602494",
     "exception": false,
     "start_time": "2022-01-27T14:45:57.571166",
     "status": "completed"
    },
    "tags": []
   },
   "source": [
    "# Paths"
   ]
  },
  {
   "cell_type": "code",
   "execution_count": 4,
   "id": "942a8399-d7e2-46b5-92d7-18424e6eac0e",
   "metadata": {
    "papermill": {
     "duration": 0.031746,
     "end_time": "2022-01-27T19:06:51.853243",
     "exception": false,
     "start_time": "2022-01-27T19:06:51.821497",
     "status": "completed"
    },
    "tags": []
   },
   "outputs": [
    {
     "data": {
      "text/plain": [
       "PosixPath('/opt/data/results/gtex_v8/comparison_others')"
      ]
     },
     "metadata": {},
     "output_type": "display_data"
    }
   ],
   "source": [
    "COMPARISONS_DIR = DATASET_CONFIG[\"RESULTS_DIR\"] / \"comparison_others\"\n",
    "display(COMPARISONS_DIR)"
   ]
  },
  {
   "cell_type": "code",
   "execution_count": 5,
   "id": "b5adb19d-c82a-4a06-ae39-04a64e2d83da",
   "metadata": {
    "papermill": {
     "duration": 0.088947,
     "end_time": "2021-12-21T20:13:39.799072",
     "exception": false,
     "start_time": "2021-12-21T20:13:39.710125",
     "status": "completed"
    },
    "tags": []
   },
   "outputs": [
    {
     "data": {
      "text/plain": [
       "PosixPath('/opt/data/results/gtex_v8/comparison_others/gtex_v8_data_whole_blood-var_pc_log2-all.pkl')"
      ]
     },
     "metadata": {},
     "output_type": "display_data"
    }
   ],
   "source": [
    "INPUT_CORR_FILE = (\n",
    "    COMPARISONS_DIR / f\"gtex_v8_data_{GTEX_TISSUE}-{GENE_SEL_STRATEGY}-all.pkl\"\n",
    ")\n",
    "display(INPUT_CORR_FILE)\n",
    "\n",
    "assert INPUT_CORR_FILE.exists()"
   ]
  },
  {
   "cell_type": "markdown",
   "id": "f6d3322b-c8bb-4fc2-97b6-5bb1793b1577",
   "metadata": {
    "papermill": {
     "duration": 0.032548,
     "end_time": "2022-01-27T14:45:57.959713",
     "exception": false,
     "start_time": "2022-01-27T14:45:57.927165",
     "status": "completed"
    },
    "tags": []
   },
   "source": [
    "# Data"
   ]
  },
  {
   "cell_type": "markdown",
   "id": "b030f506-2fe9-4895-a8a1-51374e88c496",
   "metadata": {
    "papermill": {
     "duration": 0.03268,
     "end_time": "2022-01-27T14:45:58.025232",
     "exception": false,
     "start_time": "2022-01-27T14:45:57.992552",
     "status": "completed"
    },
    "tags": []
   },
   "source": [
    "## Correlation"
   ]
  },
  {
   "cell_type": "code",
   "execution_count": 6,
   "id": "da1d768a-fbfb-40e8-8fbb-790d1a94aa83",
   "metadata": {
    "papermill": {
     "duration": 0.576138,
     "end_time": "2022-01-27T14:45:58.633658",
     "exception": false,
     "start_time": "2022-01-27T14:45:58.057520",
     "status": "completed"
    },
    "tags": []
   },
   "outputs": [],
   "source": [
    "df = pd.read_pickle(INPUT_CORR_FILE)"
   ]
  },
  {
   "cell_type": "code",
   "execution_count": 7,
   "id": "6123d474-0c0d-4771-9678-248ce89424ce",
   "metadata": {
    "papermill": {
     "duration": 0.047965,
     "end_time": "2022-01-27T14:45:58.715188",
     "exception": false,
     "start_time": "2022-01-27T14:45:58.667223",
     "status": "completed"
    },
    "tags": []
   },
   "outputs": [
    {
     "data": {
      "text/plain": [
       "(12497500, 4)"
      ]
     },
     "execution_count": 7,
     "metadata": {},
     "output_type": "execute_result"
    }
   ],
   "source": [
    "df.shape"
   ]
  },
  {
   "cell_type": "code",
   "execution_count": 8,
   "id": "b028abd8-c5b1-48c2-aa5e-cb1b49c943a4",
   "metadata": {
    "papermill": {
     "duration": 0.04543,
     "end_time": "2022-01-27T14:45:58.797894",
     "exception": false,
     "start_time": "2022-01-27T14:45:58.752464",
     "status": "completed"
    },
    "tags": []
   },
   "outputs": [
    {
     "data": {
      "text/html": [
       "<div>\n",
       "<style scoped>\n",
       "    .dataframe tbody tr th:only-of-type {\n",
       "        vertical-align: middle;\n",
       "    }\n",
       "\n",
       "    .dataframe tbody tr th {\n",
       "        vertical-align: top;\n",
       "    }\n",
       "\n",
       "    .dataframe thead th {\n",
       "        text-align: right;\n",
       "    }\n",
       "</style>\n",
       "<table border=\"1\" class=\"dataframe\">\n",
       "  <thead>\n",
       "    <tr style=\"text-align: right;\">\n",
       "      <th></th>\n",
       "      <th></th>\n",
       "      <th>clustermatch</th>\n",
       "      <th>pearson</th>\n",
       "      <th>spearman</th>\n",
       "      <th>mic</th>\n",
       "    </tr>\n",
       "  </thead>\n",
       "  <tbody>\n",
       "    <tr>\n",
       "      <th rowspan=\"5\" valign=\"top\">ENSG00000000419.12</th>\n",
       "      <th>ENSG00000002834.17</th>\n",
       "      <td>0.418721</td>\n",
       "      <td>0.681847</td>\n",
       "      <td>0.786595</td>\n",
       "      <td>0.569503</td>\n",
       "    </tr>\n",
       "    <tr>\n",
       "      <th>ENSG00000002919.14</th>\n",
       "      <td>0.405090</td>\n",
       "      <td>0.734699</td>\n",
       "      <td>0.816991</td>\n",
       "      <td>0.613696</td>\n",
       "    </tr>\n",
       "    <tr>\n",
       "      <th>ENSG00000002933.7</th>\n",
       "      <td>0.007466</td>\n",
       "      <td>0.013825</td>\n",
       "      <td>0.004128</td>\n",
       "      <td>0.146093</td>\n",
       "    </tr>\n",
       "    <tr>\n",
       "      <th>ENSG00000003402.19</th>\n",
       "      <td>0.391683</td>\n",
       "      <td>0.727347</td>\n",
       "      <td>0.803653</td>\n",
       "      <td>0.565137</td>\n",
       "    </tr>\n",
       "    <tr>\n",
       "      <th>ENSG00000004478.7</th>\n",
       "      <td>0.099013</td>\n",
       "      <td>0.094147</td>\n",
       "      <td>0.231269</td>\n",
       "      <td>0.253103</td>\n",
       "    </tr>\n",
       "  </tbody>\n",
       "</table>\n",
       "</div>"
      ],
      "text/plain": [
       "                                       clustermatch   pearson  spearman  \\\n",
       "ENSG00000000419.12 ENSG00000002834.17      0.418721  0.681847  0.786595   \n",
       "                   ENSG00000002919.14      0.405090  0.734699  0.816991   \n",
       "                   ENSG00000002933.7       0.007466  0.013825  0.004128   \n",
       "                   ENSG00000003402.19      0.391683  0.727347  0.803653   \n",
       "                   ENSG00000004478.7       0.099013  0.094147  0.231269   \n",
       "\n",
       "                                            mic  \n",
       "ENSG00000000419.12 ENSG00000002834.17  0.569503  \n",
       "                   ENSG00000002919.14  0.613696  \n",
       "                   ENSG00000002933.7   0.146093  \n",
       "                   ENSG00000003402.19  0.565137  \n",
       "                   ENSG00000004478.7   0.253103  "
      ]
     },
     "execution_count": 8,
     "metadata": {},
     "output_type": "execute_result"
    }
   ],
   "source": [
    "df.head()"
   ]
  },
  {
   "cell_type": "code",
   "execution_count": 9,
   "id": "97c670d5-f23c-4891-8427-9efdbcc0bf4b",
   "metadata": {
    "papermill": {
     "duration": 1.464595,
     "end_time": "2022-01-27T14:46:00.435461",
     "exception": false,
     "start_time": "2022-01-27T14:45:58.970866",
     "status": "completed"
    },
    "tags": []
   },
   "outputs": [
    {
     "data": {
      "text/html": [
       "<div>\n",
       "<style scoped>\n",
       "    .dataframe tbody tr th:only-of-type {\n",
       "        vertical-align: middle;\n",
       "    }\n",
       "\n",
       "    .dataframe tbody tr th {\n",
       "        vertical-align: top;\n",
       "    }\n",
       "\n",
       "    .dataframe thead th {\n",
       "        text-align: right;\n",
       "    }\n",
       "</style>\n",
       "<table border=\"1\" class=\"dataframe\">\n",
       "  <thead>\n",
       "    <tr style=\"text-align: right;\">\n",
       "      <th></th>\n",
       "      <th>clustermatch</th>\n",
       "      <th>pearson</th>\n",
       "      <th>spearman</th>\n",
       "      <th>mic</th>\n",
       "    </tr>\n",
       "  </thead>\n",
       "  <tbody>\n",
       "    <tr>\n",
       "      <th>count</th>\n",
       "      <td>12497500.0</td>\n",
       "      <td>12497500.0</td>\n",
       "      <td>12497500.0</td>\n",
       "      <td>12497500.0</td>\n",
       "    </tr>\n",
       "    <tr>\n",
       "      <th>mean</th>\n",
       "      <td>0.14078162169144154</td>\n",
       "      <td>0.3055270339582277</td>\n",
       "      <td>0.39444206469877185</td>\n",
       "      <td>0.3002838899566396</td>\n",
       "    </tr>\n",
       "    <tr>\n",
       "      <th>std</th>\n",
       "      <td>0.14482154321798</td>\n",
       "      <td>0.24329624620596305</td>\n",
       "      <td>0.2595310853531984</td>\n",
       "      <td>0.14867474248467386</td>\n",
       "    </tr>\n",
       "    <tr>\n",
       "      <th>min</th>\n",
       "      <td>0.0</td>\n",
       "      <td>1.5077467052648785e-08</td>\n",
       "      <td>1.3941559573460438e-08</td>\n",
       "      <td>0.10742537802451597</td>\n",
       "    </tr>\n",
       "    <tr>\n",
       "      <th>25%</th>\n",
       "      <td>0.02840489656767938</td>\n",
       "      <td>0.09442322140732318</td>\n",
       "      <td>0.16297401304506182</td>\n",
       "      <td>0.1849714997405876</td>\n",
       "    </tr>\n",
       "    <tr>\n",
       "      <th>50%</th>\n",
       "      <td>0.0811105958507932</td>\n",
       "      <td>0.23886133272185917</td>\n",
       "      <td>0.3675595119633454</td>\n",
       "      <td>0.24598146535550708</td>\n",
       "    </tr>\n",
       "    <tr>\n",
       "      <th>75%</th>\n",
       "      <td>0.2167198284523933</td>\n",
       "      <td>0.4953853540480224</td>\n",
       "      <td>0.6148954029591087</td>\n",
       "      <td>0.38174801093096644</td>\n",
       "    </tr>\n",
       "    <tr>\n",
       "      <th>max</th>\n",
       "      <td>0.9169180125916612</td>\n",
       "      <td>0.9948779504715451</td>\n",
       "      <td>0.9867424080828916</td>\n",
       "      <td>0.999998734533167</td>\n",
       "    </tr>\n",
       "  </tbody>\n",
       "</table>\n",
       "</div>"
      ],
      "text/plain": [
       "              clustermatch                 pearson                spearman  \\\n",
       "count           12497500.0              12497500.0              12497500.0   \n",
       "mean   0.14078162169144154      0.3055270339582277     0.39444206469877185   \n",
       "std       0.14482154321798     0.24329624620596305      0.2595310853531984   \n",
       "min                    0.0  1.5077467052648785e-08  1.3941559573460438e-08   \n",
       "25%    0.02840489656767938     0.09442322140732318     0.16297401304506182   \n",
       "50%     0.0811105958507932     0.23886133272185917      0.3675595119633454   \n",
       "75%     0.2167198284523933      0.4953853540480224      0.6148954029591087   \n",
       "max     0.9169180125916612      0.9948779504715451      0.9867424080828916   \n",
       "\n",
       "                       mic  \n",
       "count           12497500.0  \n",
       "mean    0.3002838899566396  \n",
       "std    0.14867474248467386  \n",
       "min    0.10742537802451597  \n",
       "25%     0.1849714997405876  \n",
       "50%    0.24598146535550708  \n",
       "75%    0.38174801093096644  \n",
       "max      0.999998734533167  "
      ]
     },
     "execution_count": 9,
     "metadata": {},
     "output_type": "execute_result"
    }
   ],
   "source": [
    "df.describe().applymap(str)"
   ]
  },
  {
   "cell_type": "code",
   "execution_count": 10,
   "id": "d46d8fa8-9316-4ef9-ba36-52e6294c546a",
   "metadata": {
    "papermill": {
     "duration": 1.239959,
     "end_time": "2022-01-27T14:46:01.710054",
     "exception": false,
     "start_time": "2022-01-27T14:46:00.470095",
     "status": "completed"
    },
    "tags": []
   },
   "outputs": [
    {
     "data": {
      "text/html": [
       "<div>\n",
       "<style scoped>\n",
       "    .dataframe tbody tr th:only-of-type {\n",
       "        vertical-align: middle;\n",
       "    }\n",
       "\n",
       "    .dataframe tbody tr th {\n",
       "        vertical-align: top;\n",
       "    }\n",
       "\n",
       "    .dataframe thead th {\n",
       "        text-align: right;\n",
       "    }\n",
       "</style>\n",
       "<table border=\"1\" class=\"dataframe\">\n",
       "  <thead>\n",
       "    <tr style=\"text-align: right;\">\n",
       "      <th></th>\n",
       "      <th>clustermatch</th>\n",
       "      <th>pearson</th>\n",
       "      <th>spearman</th>\n",
       "      <th>mic</th>\n",
       "    </tr>\n",
       "  </thead>\n",
       "  <tbody>\n",
       "    <tr>\n",
       "      <th>0.200000</th>\n",
       "      <td>0.022719</td>\n",
       "      <td>0.072940</td>\n",
       "      <td>0.128198</td>\n",
       "      <td>0.176306</td>\n",
       "    </tr>\n",
       "    <tr>\n",
       "      <th>0.242105</th>\n",
       "      <td>0.027466</td>\n",
       "      <td>0.090891</td>\n",
       "      <td>0.157408</td>\n",
       "      <td>0.183572</td>\n",
       "    </tr>\n",
       "    <tr>\n",
       "      <th>0.284211</th>\n",
       "      <td>0.032678</td>\n",
       "      <td>0.110196</td>\n",
       "      <td>0.187676</td>\n",
       "      <td>0.191264</td>\n",
       "    </tr>\n",
       "    <tr>\n",
       "      <th>0.326316</th>\n",
       "      <td>0.038882</td>\n",
       "      <td>0.131066</td>\n",
       "      <td>0.219424</td>\n",
       "      <td>0.199568</td>\n",
       "    </tr>\n",
       "    <tr>\n",
       "      <th>0.368421</th>\n",
       "      <td>0.046496</td>\n",
       "      <td>0.153705</td>\n",
       "      <td>0.253012</td>\n",
       "      <td>0.208732</td>\n",
       "    </tr>\n",
       "    <tr>\n",
       "      <th>0.410526</th>\n",
       "      <td>0.054956</td>\n",
       "      <td>0.178290</td>\n",
       "      <td>0.288341</td>\n",
       "      <td>0.219019</td>\n",
       "    </tr>\n",
       "    <tr>\n",
       "      <th>0.452632</th>\n",
       "      <td>0.065748</td>\n",
       "      <td>0.205194</td>\n",
       "      <td>0.324886</td>\n",
       "      <td>0.230711</td>\n",
       "    </tr>\n",
       "    <tr>\n",
       "      <th>0.494737</th>\n",
       "      <td>0.079110</td>\n",
       "      <td>0.234929</td>\n",
       "      <td>0.362750</td>\n",
       "      <td>0.244168</td>\n",
       "    </tr>\n",
       "    <tr>\n",
       "      <th>0.536842</th>\n",
       "      <td>0.094529</td>\n",
       "      <td>0.267921</td>\n",
       "      <td>0.401768</td>\n",
       "      <td>0.259657</td>\n",
       "    </tr>\n",
       "    <tr>\n",
       "      <th>0.578947</th>\n",
       "      <td>0.112897</td>\n",
       "      <td>0.304762</td>\n",
       "      <td>0.441738</td>\n",
       "      <td>0.277472</td>\n",
       "    </tr>\n",
       "    <tr>\n",
       "      <th>0.621053</th>\n",
       "      <td>0.133457</td>\n",
       "      <td>0.346025</td>\n",
       "      <td>0.482750</td>\n",
       "      <td>0.297961</td>\n",
       "    </tr>\n",
       "    <tr>\n",
       "      <th>0.663158</th>\n",
       "      <td>0.157664</td>\n",
       "      <td>0.391687</td>\n",
       "      <td>0.525009</td>\n",
       "      <td>0.321543</td>\n",
       "    </tr>\n",
       "    <tr>\n",
       "      <th>0.705263</th>\n",
       "      <td>0.184217</td>\n",
       "      <td>0.440990</td>\n",
       "      <td>0.568168</td>\n",
       "      <td>0.348585</td>\n",
       "    </tr>\n",
       "    <tr>\n",
       "      <th>0.747368</th>\n",
       "      <td>0.215092</td>\n",
       "      <td>0.492158</td>\n",
       "      <td>0.612125</td>\n",
       "      <td>0.379651</td>\n",
       "    </tr>\n",
       "    <tr>\n",
       "      <th>0.789474</th>\n",
       "      <td>0.250997</td>\n",
       "      <td>0.543889</td>\n",
       "      <td>0.656312</td>\n",
       "      <td>0.414993</td>\n",
       "    </tr>\n",
       "    <tr>\n",
       "      <th>0.831579</th>\n",
       "      <td>0.289657</td>\n",
       "      <td>0.595898</td>\n",
       "      <td>0.699928</td>\n",
       "      <td>0.454983</td>\n",
       "    </tr>\n",
       "    <tr>\n",
       "      <th>0.873684</th>\n",
       "      <td>0.337213</td>\n",
       "      <td>0.649491</td>\n",
       "      <td>0.743186</td>\n",
       "      <td>0.500842</td>\n",
       "    </tr>\n",
       "    <tr>\n",
       "      <th>0.915789</th>\n",
       "      <td>0.388366</td>\n",
       "      <td>0.706765</td>\n",
       "      <td>0.787647</td>\n",
       "      <td>0.555248</td>\n",
       "    </tr>\n",
       "    <tr>\n",
       "      <th>0.957895</th>\n",
       "      <td>0.464577</td>\n",
       "      <td>0.774472</td>\n",
       "      <td>0.838374</td>\n",
       "      <td>0.628421</td>\n",
       "    </tr>\n",
       "    <tr>\n",
       "      <th>1.000000</th>\n",
       "      <td>0.916918</td>\n",
       "      <td>0.994878</td>\n",
       "      <td>0.986742</td>\n",
       "      <td>0.999999</td>\n",
       "    </tr>\n",
       "  </tbody>\n",
       "</table>\n",
       "</div>"
      ],
      "text/plain": [
       "          clustermatch   pearson  spearman       mic\n",
       "0.200000      0.022719  0.072940  0.128198  0.176306\n",
       "0.242105      0.027466  0.090891  0.157408  0.183572\n",
       "0.284211      0.032678  0.110196  0.187676  0.191264\n",
       "0.326316      0.038882  0.131066  0.219424  0.199568\n",
       "0.368421      0.046496  0.153705  0.253012  0.208732\n",
       "0.410526      0.054956  0.178290  0.288341  0.219019\n",
       "0.452632      0.065748  0.205194  0.324886  0.230711\n",
       "0.494737      0.079110  0.234929  0.362750  0.244168\n",
       "0.536842      0.094529  0.267921  0.401768  0.259657\n",
       "0.578947      0.112897  0.304762  0.441738  0.277472\n",
       "0.621053      0.133457  0.346025  0.482750  0.297961\n",
       "0.663158      0.157664  0.391687  0.525009  0.321543\n",
       "0.705263      0.184217  0.440990  0.568168  0.348585\n",
       "0.747368      0.215092  0.492158  0.612125  0.379651\n",
       "0.789474      0.250997  0.543889  0.656312  0.414993\n",
       "0.831579      0.289657  0.595898  0.699928  0.454983\n",
       "0.873684      0.337213  0.649491  0.743186  0.500842\n",
       "0.915789      0.388366  0.706765  0.787647  0.555248\n",
       "0.957895      0.464577  0.774472  0.838374  0.628421\n",
       "1.000000      0.916918  0.994878  0.986742  0.999999"
      ]
     },
     "execution_count": 10,
     "metadata": {},
     "output_type": "execute_result"
    }
   ],
   "source": [
    "# show quantiles\n",
    "df.apply(lambda x: x.quantile(np.linspace(0.20, 1.0, 20)))"
   ]
  },
  {
   "cell_type": "markdown",
   "id": "2b3613bb-0ee8-4b93-b045-6c2fbbeb61e0",
   "metadata": {
    "papermill": {
     "duration": 0.034329,
     "end_time": "2022-01-27T14:46:01.784783",
     "exception": false,
     "start_time": "2022-01-27T14:46:01.750454",
     "status": "completed"
    },
    "tags": []
   },
   "source": [
    "# Prepare data for plotting"
   ]
  },
  {
   "cell_type": "code",
   "execution_count": 11,
   "id": "056ac421-1bea-45f6-b3cb-933927cc88cd",
   "metadata": {
    "papermill": {
     "duration": 0.039971,
     "end_time": "2022-01-27T14:46:01.858909",
     "exception": false,
     "start_time": "2022-01-27T14:46:01.818938",
     "status": "completed"
    },
    "tags": []
   },
   "outputs": [],
   "source": [
    "def get_lower_upper_quantile(method_name, q):\n",
    "    return df[method_name].quantile([q, 1 - q])"
   ]
  },
  {
   "cell_type": "code",
   "execution_count": 12,
   "id": "1f4a64ab-e15e-42fd-9d59-fc5dff6c571b",
   "metadata": {
    "papermill": {
     "duration": 0.239044,
     "end_time": "2022-01-27T14:46:02.133202",
     "exception": false,
     "start_time": "2022-01-27T14:46:01.894158",
     "status": "completed"
    },
    "tags": []
   },
   "outputs": [
    {
     "data": {
      "text/plain": [
       "0.2    0.022719\n",
       "0.8    0.259050\n",
       "Name: clustermatch, dtype: float64"
      ]
     },
     "metadata": {},
     "output_type": "display_data"
    },
    {
     "data": {
      "text/plain": [
       "(0.02271880444305697, 0.259049765543866)"
      ]
     },
     "metadata": {},
     "output_type": "display_data"
    }
   ],
   "source": [
    "# test\n",
    "_tmp = get_lower_upper_quantile(\"ccc\", 0.20)\n",
    "display(_tmp)\n",
    "\n",
    "_tmp0, _tmp1 = _tmp\n",
    "display((_tmp0, _tmp1))\n",
    "\n",
    "assert _tmp0 == _tmp.iloc[0]\n",
    "assert _tmp1 == _tmp.iloc[1]"
   ]
  },
  {
   "cell_type": "code",
   "execution_count": 13,
   "id": "5bc002ff-a591-4017-8229-b9cc07f7fae1",
   "metadata": {
    "papermill": {
     "duration": 0.714176,
     "end_time": "2022-01-27T14:46:02.883374",
     "exception": false,
     "start_time": "2022-01-27T14:46:02.169198",
     "status": "completed"
    },
    "tags": []
   },
   "outputs": [
    {
     "data": {
      "text/plain": [
       "(0.034958339010692396, 0.18194034996376532)"
      ]
     },
     "metadata": {},
     "output_type": "display_data"
    },
    {
     "data": {
      "text/plain": [
       "(0.11783518340101658, 0.43471104354487755)"
      ]
     },
     "metadata": {},
     "output_type": "display_data"
    },
    {
     "data": {
      "text/plain": [
       "(0.1993565001342337, 0.5627397462227566)"
      ]
     },
     "metadata": {},
     "output_type": "display_data"
    },
    {
     "data": {
      "text/plain": [
       "(0.19428996608549465, 0.344984009069266)"
      ]
     },
     "metadata": {},
     "output_type": "display_data"
    }
   ],
   "source": [
    "clustermatch_lq, clustermatch_hq = get_lower_upper_quantile(\"ccc\", Q_DIFF)\n",
    "display((clustermatch_lq, clustermatch_hq))\n",
    "\n",
    "pearson_lq, pearson_hq = get_lower_upper_quantile(\"pearson\", Q_DIFF)\n",
    "display((pearson_lq, pearson_hq))\n",
    "\n",
    "spearman_lq, spearman_hq = get_lower_upper_quantile(\"spearman\", Q_DIFF)\n",
    "display((spearman_lq, spearman_hq))\n",
    "\n",
    "mic_lq, mic_hq = get_lower_upper_quantile(\"mic\", Q_DIFF)\n",
    "display((mic_lq, mic_hq))"
   ]
  },
  {
   "cell_type": "code",
   "execution_count": 14,
   "id": "b7151e86-845d-4c89-8298-c8636f70566b",
   "metadata": {
    "papermill": {
     "duration": 0.098091,
     "end_time": "2022-01-27T14:46:03.042538",
     "exception": false,
     "start_time": "2022-01-27T14:46:02.944447",
     "status": "completed"
    },
    "tags": []
   },
   "outputs": [
    {
     "data": {
      "text/plain": [
       "3749250"
      ]
     },
     "metadata": {},
     "output_type": "display_data"
    },
    {
     "data": {
      "text/plain": [
       "3749250"
      ]
     },
     "metadata": {},
     "output_type": "display_data"
    }
   ],
   "source": [
    "pearson_higher = df[\"pearson\"] >= pearson_hq\n",
    "display(pearson_higher.sum())\n",
    "\n",
    "pearson_lower = df[\"pearson\"] <= pearson_lq\n",
    "display(pearson_lower.sum())"
   ]
  },
  {
   "cell_type": "code",
   "execution_count": 15,
   "id": "bde230a6-b84a-4dfe-a122-05b5d5cbd98b",
   "metadata": {
    "papermill": {
     "duration": 0.091072,
     "end_time": "2022-01-27T14:46:03.171794",
     "exception": false,
     "start_time": "2022-01-27T14:46:03.080722",
     "status": "completed"
    },
    "tags": []
   },
   "outputs": [
    {
     "data": {
      "text/plain": [
       "3749250"
      ]
     },
     "metadata": {},
     "output_type": "display_data"
    },
    {
     "data": {
      "text/plain": [
       "3749250"
      ]
     },
     "metadata": {},
     "output_type": "display_data"
    }
   ],
   "source": [
    "spearman_higher = df[\"spearman\"] >= spearman_hq\n",
    "display(spearman_higher.sum())\n",
    "\n",
    "spearman_lower = df[\"spearman\"] <= spearman_lq\n",
    "display(spearman_lower.sum())"
   ]
  },
  {
   "cell_type": "code",
   "execution_count": 16,
   "id": "69a647b9-53bd-4f40-aab3-8274bdcfa90c",
   "metadata": {
    "papermill": {
     "duration": 0.092532,
     "end_time": "2022-01-27T14:46:03.304185",
     "exception": false,
     "start_time": "2022-01-27T14:46:03.211653",
     "status": "completed"
    },
    "tags": []
   },
   "outputs": [
    {
     "data": {
      "text/plain": [
       "3754664"
      ]
     },
     "metadata": {},
     "output_type": "display_data"
    },
    {
     "data": {
      "text/plain": [
       "3749265"
      ]
     },
     "metadata": {},
     "output_type": "display_data"
    }
   ],
   "source": [
    "clustermatch_higher = df[\"ccc\"] >= clustermatch_hq\n",
    "display(clustermatch_higher.sum())\n",
    "\n",
    "clustermatch_lower = df[\"ccc\"] <= clustermatch_lq\n",
    "display(clustermatch_lower.sum())"
   ]
  },
  {
   "cell_type": "code",
   "execution_count": 17,
   "id": "34624e54-62c7-45f1-b153-bd31594c7ad8",
   "metadata": {
    "papermill": {
     "duration": 0.092532,
     "end_time": "2022-01-27T14:46:03.304185",
     "exception": false,
     "start_time": "2022-01-27T14:46:03.211653",
     "status": "completed"
    },
    "tags": []
   },
   "outputs": [
    {
     "data": {
      "text/plain": [
       "3749250"
      ]
     },
     "metadata": {},
     "output_type": "display_data"
    },
    {
     "data": {
      "text/plain": [
       "3749250"
      ]
     },
     "metadata": {},
     "output_type": "display_data"
    }
   ],
   "source": [
    "mic_higher = df[\"mic\"] >= mic_hq\n",
    "display(mic_higher.sum())\n",
    "\n",
    "mic_lower = df[\"mic\"] <= mic_lq\n",
    "display(mic_lower.sum())"
   ]
  },
  {
   "cell_type": "markdown",
   "id": "ced8ca23-88f3-454c-8258-b8b0ac064d0f",
   "metadata": {},
   "source": [
    "**Question:** Why the number of top/bottom gene pairs in CCC does not match the rest? Maybe it's because there are repeated values. Let's see:"
   ]
  },
  {
   "cell_type": "code",
   "execution_count": 20,
   "id": "5d74bc83-1045-451f-867f-18ec2946b465",
   "metadata": {},
   "outputs": [
    {
     "data": {
      "text/plain": [
       "(12497500, 4)"
      ]
     },
     "execution_count": 20,
     "metadata": {},
     "output_type": "execute_result"
    }
   ],
   "source": [
    "df.shape"
   ]
  },
  {
   "cell_type": "code",
   "execution_count": 19,
   "id": "64279e18-bfeb-4e8c-8625-2ef6a463618c",
   "metadata": {},
   "outputs": [
    {
     "data": {
      "text/plain": [
       "(12497500,)"
      ]
     },
     "execution_count": 19,
     "metadata": {},
     "output_type": "execute_result"
    }
   ],
   "source": [
    "df[\"pearson\"].unique().shape"
   ]
  },
  {
   "cell_type": "code",
   "execution_count": 21,
   "id": "e634bf2d-156d-489a-a2fc-b4f0b1874c6d",
   "metadata": {},
   "outputs": [
    {
     "data": {
      "text/plain": [
       "(12496946,)"
      ]
     },
     "execution_count": 21,
     "metadata": {},
     "output_type": "execute_result"
    }
   ],
   "source": [
    "df[\"spearman\"].unique().shape"
   ]
  },
  {
   "cell_type": "code",
   "execution_count": 22,
   "id": "9c6ce47d-235b-49fe-95ce-a97509d0571b",
   "metadata": {},
   "outputs": [
    {
     "data": {
      "text/plain": [
       "(569372,)"
      ]
     },
     "execution_count": 22,
     "metadata": {},
     "output_type": "execute_result"
    }
   ],
   "source": [
    "df[\"ccc\"].unique().shape"
   ]
  },
  {
   "cell_type": "code",
   "execution_count": 23,
   "id": "618aa02e-c8aa-495f-a74c-bcc1ab414a6e",
   "metadata": {},
   "outputs": [
    {
     "data": {
      "text/plain": [
       "(12497492,)"
      ]
     },
     "execution_count": 23,
     "metadata": {},
     "output_type": "execute_result"
    }
   ],
   "source": [
    "df[\"mic\"].unique().shape"
   ]
  },
  {
   "cell_type": "markdown",
   "id": "ea7359c3-7f13-45a0-b527-2a24a8808f69",
   "metadata": {},
   "source": [
    "Yes, many CCC values are the same!"
   ]
  },
  {
   "cell_type": "markdown",
   "id": "7f3682d5-c043-4c16-9871-7babc5a307a2",
   "metadata": {
    "papermill": {
     "duration": 0.038854,
     "end_time": "2022-01-27T14:46:03.383687",
     "exception": false,
     "start_time": "2022-01-27T14:46:03.344833",
     "status": "completed"
    },
    "tags": []
   },
   "source": [
    "# UpSet plot"
   ]
  },
  {
   "cell_type": "code",
   "execution_count": 19,
   "id": "ed0bd3b6-f858-469f-bbeb-c187f720cd01",
   "metadata": {
    "papermill": {
     "duration": 0.058908,
     "end_time": "2022-01-27T14:46:03.481945",
     "exception": false,
     "start_time": "2022-01-27T14:46:03.423037",
     "status": "completed"
    },
    "tags": []
   },
   "outputs": [],
   "source": [
    "df_plot = pd.DataFrame(\n",
    "    {\n",
    "        \"pearson_higher\": pearson_higher,\n",
    "        \"pearson_lower\": pearson_lower,\n",
    "        \"spearman_higher\": spearman_higher,\n",
    "        \"spearman_lower\": spearman_lower,\n",
    "        \"clustermatch_higher\": clustermatch_higher,\n",
    "        \"clustermatch_lower\": clustermatch_lower,\n",
    "        \"mic_higher\": mic_higher,\n",
    "        \"mic_lower\": mic_lower,\n",
    "    }\n",
    ")"
   ]
  },
  {
   "cell_type": "code",
   "execution_count": 20,
   "id": "d29af679-bd5e-4e5a-b6f8-55ae09fea9ca",
   "metadata": {
    "papermill": {
     "duration": 5.113915,
     "end_time": "2022-01-27T14:46:08.636867",
     "exception": false,
     "start_time": "2022-01-27T14:46:03.522952",
     "status": "completed"
    },
    "tags": []
   },
   "outputs": [],
   "source": [
    "df_plot = pd.concat([df_plot, df], axis=1)"
   ]
  },
  {
   "cell_type": "code",
   "execution_count": 21,
   "id": "af2b7c35-e338-44a0-b54b-22464ae41a16",
   "metadata": {
    "papermill": {
     "duration": 0.061849,
     "end_time": "2022-01-27T14:46:08.739878",
     "exception": false,
     "start_time": "2022-01-27T14:46:08.678029",
     "status": "completed"
    },
    "tags": []
   },
   "outputs": [
    {
     "data": {
      "text/html": [
       "<div>\n",
       "<style scoped>\n",
       "    .dataframe tbody tr th:only-of-type {\n",
       "        vertical-align: middle;\n",
       "    }\n",
       "\n",
       "    .dataframe tbody tr th {\n",
       "        vertical-align: top;\n",
       "    }\n",
       "\n",
       "    .dataframe thead th {\n",
       "        text-align: right;\n",
       "    }\n",
       "</style>\n",
       "<table border=\"1\" class=\"dataframe\">\n",
       "  <thead>\n",
       "    <tr style=\"text-align: right;\">\n",
       "      <th></th>\n",
       "      <th></th>\n",
       "      <th>pearson_higher</th>\n",
       "      <th>pearson_lower</th>\n",
       "      <th>spearman_higher</th>\n",
       "      <th>spearman_lower</th>\n",
       "      <th>clustermatch_higher</th>\n",
       "      <th>clustermatch_lower</th>\n",
       "      <th>mic_higher</th>\n",
       "      <th>mic_lower</th>\n",
       "      <th>clustermatch</th>\n",
       "      <th>pearson</th>\n",
       "      <th>spearman</th>\n",
       "      <th>mic</th>\n",
       "    </tr>\n",
       "  </thead>\n",
       "  <tbody>\n",
       "    <tr>\n",
       "      <th rowspan=\"5\" valign=\"top\">ENSG00000000419.12</th>\n",
       "      <th>ENSG00000002834.17</th>\n",
       "      <td>True</td>\n",
       "      <td>False</td>\n",
       "      <td>True</td>\n",
       "      <td>False</td>\n",
       "      <td>True</td>\n",
       "      <td>False</td>\n",
       "      <td>True</td>\n",
       "      <td>False</td>\n",
       "      <td>0.418721</td>\n",
       "      <td>0.681847</td>\n",
       "      <td>0.786595</td>\n",
       "      <td>0.569503</td>\n",
       "    </tr>\n",
       "    <tr>\n",
       "      <th>ENSG00000002919.14</th>\n",
       "      <td>True</td>\n",
       "      <td>False</td>\n",
       "      <td>True</td>\n",
       "      <td>False</td>\n",
       "      <td>True</td>\n",
       "      <td>False</td>\n",
       "      <td>True</td>\n",
       "      <td>False</td>\n",
       "      <td>0.405090</td>\n",
       "      <td>0.734699</td>\n",
       "      <td>0.816991</td>\n",
       "      <td>0.613696</td>\n",
       "    </tr>\n",
       "    <tr>\n",
       "      <th>ENSG00000002933.7</th>\n",
       "      <td>False</td>\n",
       "      <td>True</td>\n",
       "      <td>False</td>\n",
       "      <td>True</td>\n",
       "      <td>False</td>\n",
       "      <td>True</td>\n",
       "      <td>False</td>\n",
       "      <td>True</td>\n",
       "      <td>0.007466</td>\n",
       "      <td>0.013825</td>\n",
       "      <td>0.004128</td>\n",
       "      <td>0.146093</td>\n",
       "    </tr>\n",
       "    <tr>\n",
       "      <th>ENSG00000003402.19</th>\n",
       "      <td>True</td>\n",
       "      <td>False</td>\n",
       "      <td>True</td>\n",
       "      <td>False</td>\n",
       "      <td>True</td>\n",
       "      <td>False</td>\n",
       "      <td>True</td>\n",
       "      <td>False</td>\n",
       "      <td>0.391683</td>\n",
       "      <td>0.727347</td>\n",
       "      <td>0.803653</td>\n",
       "      <td>0.565137</td>\n",
       "    </tr>\n",
       "    <tr>\n",
       "      <th>ENSG00000004478.7</th>\n",
       "      <td>False</td>\n",
       "      <td>True</td>\n",
       "      <td>False</td>\n",
       "      <td>False</td>\n",
       "      <td>False</td>\n",
       "      <td>False</td>\n",
       "      <td>False</td>\n",
       "      <td>False</td>\n",
       "      <td>0.099013</td>\n",
       "      <td>0.094147</td>\n",
       "      <td>0.231269</td>\n",
       "      <td>0.253103</td>\n",
       "    </tr>\n",
       "    <tr>\n",
       "      <th>...</th>\n",
       "      <th>...</th>\n",
       "      <td>...</td>\n",
       "      <td>...</td>\n",
       "      <td>...</td>\n",
       "      <td>...</td>\n",
       "      <td>...</td>\n",
       "      <td>...</td>\n",
       "      <td>...</td>\n",
       "      <td>...</td>\n",
       "      <td>...</td>\n",
       "      <td>...</td>\n",
       "      <td>...</td>\n",
       "      <td>...</td>\n",
       "    </tr>\n",
       "    <tr>\n",
       "      <th rowspan=\"5\" valign=\"top\">ENSG00000284574.1</th>\n",
       "      <th>ENSG00000282651.2</th>\n",
       "      <td>False</td>\n",
       "      <td>True</td>\n",
       "      <td>False</td>\n",
       "      <td>True</td>\n",
       "      <td>False</td>\n",
       "      <td>True</td>\n",
       "      <td>False</td>\n",
       "      <td>True</td>\n",
       "      <td>0.011968</td>\n",
       "      <td>0.051215</td>\n",
       "      <td>0.089428</td>\n",
       "      <td>0.153279</td>\n",
       "    </tr>\n",
       "    <tr>\n",
       "      <th>ENSG00000282780.1</th>\n",
       "      <td>False</td>\n",
       "      <td>True</td>\n",
       "      <td>False</td>\n",
       "      <td>True</td>\n",
       "      <td>False</td>\n",
       "      <td>True</td>\n",
       "      <td>False</td>\n",
       "      <td>True</td>\n",
       "      <td>0.004975</td>\n",
       "      <td>0.031741</td>\n",
       "      <td>0.018411</td>\n",
       "      <td>0.143062</td>\n",
       "    </tr>\n",
       "    <tr>\n",
       "      <th>ENSG00000282939.1</th>\n",
       "      <td>False</td>\n",
       "      <td>True</td>\n",
       "      <td>False</td>\n",
       "      <td>True</td>\n",
       "      <td>False</td>\n",
       "      <td>True</td>\n",
       "      <td>False</td>\n",
       "      <td>True</td>\n",
       "      <td>0.011968</td>\n",
       "      <td>0.029699</td>\n",
       "      <td>0.104518</td>\n",
       "      <td>0.160018</td>\n",
       "    </tr>\n",
       "    <tr>\n",
       "      <th>ENSG00000283063.1</th>\n",
       "      <td>False</td>\n",
       "      <td>True</td>\n",
       "      <td>False</td>\n",
       "      <td>True</td>\n",
       "      <td>False</td>\n",
       "      <td>True</td>\n",
       "      <td>False</td>\n",
       "      <td>True</td>\n",
       "      <td>0.006638</td>\n",
       "      <td>0.033764</td>\n",
       "      <td>0.096159</td>\n",
       "      <td>0.150265</td>\n",
       "    </tr>\n",
       "    <tr>\n",
       "      <th>ENSG00000283602.1</th>\n",
       "      <td>False</td>\n",
       "      <td>True</td>\n",
       "      <td>False</td>\n",
       "      <td>True</td>\n",
       "      <td>False</td>\n",
       "      <td>True</td>\n",
       "      <td>False</td>\n",
       "      <td>True</td>\n",
       "      <td>0.013967</td>\n",
       "      <td>0.010452</td>\n",
       "      <td>0.053928</td>\n",
       "      <td>0.145772</td>\n",
       "    </tr>\n",
       "  </tbody>\n",
       "</table>\n",
       "<p>12497500 rows × 12 columns</p>\n",
       "</div>"
      ],
      "text/plain": [
       "                                       pearson_higher  pearson_lower  \\\n",
       "ENSG00000000419.12 ENSG00000002834.17            True          False   \n",
       "                   ENSG00000002919.14            True          False   \n",
       "                   ENSG00000002933.7            False           True   \n",
       "                   ENSG00000003402.19            True          False   \n",
       "                   ENSG00000004478.7            False           True   \n",
       "...                                               ...            ...   \n",
       "ENSG00000284574.1  ENSG00000282651.2            False           True   \n",
       "                   ENSG00000282780.1            False           True   \n",
       "                   ENSG00000282939.1            False           True   \n",
       "                   ENSG00000283063.1            False           True   \n",
       "                   ENSG00000283602.1            False           True   \n",
       "\n",
       "                                       spearman_higher  spearman_lower  \\\n",
       "ENSG00000000419.12 ENSG00000002834.17             True           False   \n",
       "                   ENSG00000002919.14             True           False   \n",
       "                   ENSG00000002933.7             False            True   \n",
       "                   ENSG00000003402.19             True           False   \n",
       "                   ENSG00000004478.7             False           False   \n",
       "...                                                ...             ...   \n",
       "ENSG00000284574.1  ENSG00000282651.2             False            True   \n",
       "                   ENSG00000282780.1             False            True   \n",
       "                   ENSG00000282939.1             False            True   \n",
       "                   ENSG00000283063.1             False            True   \n",
       "                   ENSG00000283602.1             False            True   \n",
       "\n",
       "                                       clustermatch_higher  \\\n",
       "ENSG00000000419.12 ENSG00000002834.17                 True   \n",
       "                   ENSG00000002919.14                 True   \n",
       "                   ENSG00000002933.7                 False   \n",
       "                   ENSG00000003402.19                 True   \n",
       "                   ENSG00000004478.7                 False   \n",
       "...                                                    ...   \n",
       "ENSG00000284574.1  ENSG00000282651.2                 False   \n",
       "                   ENSG00000282780.1                 False   \n",
       "                   ENSG00000282939.1                 False   \n",
       "                   ENSG00000283063.1                 False   \n",
       "                   ENSG00000283602.1                 False   \n",
       "\n",
       "                                       clustermatch_lower  mic_higher  \\\n",
       "ENSG00000000419.12 ENSG00000002834.17               False        True   \n",
       "                   ENSG00000002919.14               False        True   \n",
       "                   ENSG00000002933.7                 True       False   \n",
       "                   ENSG00000003402.19               False        True   \n",
       "                   ENSG00000004478.7                False       False   \n",
       "...                                                   ...         ...   \n",
       "ENSG00000284574.1  ENSG00000282651.2                 True       False   \n",
       "                   ENSG00000282780.1                 True       False   \n",
       "                   ENSG00000282939.1                 True       False   \n",
       "                   ENSG00000283063.1                 True       False   \n",
       "                   ENSG00000283602.1                 True       False   \n",
       "\n",
       "                                       mic_lower  clustermatch   pearson  \\\n",
       "ENSG00000000419.12 ENSG00000002834.17      False      0.418721  0.681847   \n",
       "                   ENSG00000002919.14      False      0.405090  0.734699   \n",
       "                   ENSG00000002933.7        True      0.007466  0.013825   \n",
       "                   ENSG00000003402.19      False      0.391683  0.727347   \n",
       "                   ENSG00000004478.7       False      0.099013  0.094147   \n",
       "...                                          ...           ...       ...   \n",
       "ENSG00000284574.1  ENSG00000282651.2        True      0.011968  0.051215   \n",
       "                   ENSG00000282780.1        True      0.004975  0.031741   \n",
       "                   ENSG00000282939.1        True      0.011968  0.029699   \n",
       "                   ENSG00000283063.1        True      0.006638  0.033764   \n",
       "                   ENSG00000283602.1        True      0.013967  0.010452   \n",
       "\n",
       "                                       spearman       mic  \n",
       "ENSG00000000419.12 ENSG00000002834.17  0.786595  0.569503  \n",
       "                   ENSG00000002919.14  0.816991  0.613696  \n",
       "                   ENSG00000002933.7   0.004128  0.146093  \n",
       "                   ENSG00000003402.19  0.803653  0.565137  \n",
       "                   ENSG00000004478.7   0.231269  0.253103  \n",
       "...                                         ...       ...  \n",
       "ENSG00000284574.1  ENSG00000282651.2   0.089428  0.153279  \n",
       "                   ENSG00000282780.1   0.018411  0.143062  \n",
       "                   ENSG00000282939.1   0.104518  0.160018  \n",
       "                   ENSG00000283063.1   0.096159  0.150265  \n",
       "                   ENSG00000283602.1   0.053928  0.145772  \n",
       "\n",
       "[12497500 rows x 12 columns]"
      ]
     },
     "execution_count": 21,
     "metadata": {},
     "output_type": "execute_result"
    }
   ],
   "source": [
    "df_plot"
   ]
  },
  {
   "cell_type": "code",
   "execution_count": 22,
   "id": "97ee6d16-09e4-4d3b-80e1-41cccfb7ba5b",
   "metadata": {
    "papermill": {
     "duration": 0.083447,
     "end_time": "2022-01-27T14:46:08.866734",
     "exception": false,
     "start_time": "2022-01-27T14:46:08.783287",
     "status": "completed"
    },
    "tags": []
   },
   "outputs": [],
   "source": [
    "assert not df_plot.isna().any().any()"
   ]
  },
  {
   "cell_type": "code",
   "execution_count": 23,
   "id": "0f2182f1-7b78-443e-9b72-5bb83f23a89b",
   "metadata": {
    "papermill": {
     "duration": 0.110619,
     "end_time": "2022-01-27T14:46:09.025600",
     "exception": false,
     "start_time": "2022-01-27T14:46:08.914981",
     "status": "completed"
    },
    "tags": []
   },
   "outputs": [],
   "source": [
    "df_plot = df_plot.rename(\n",
    "    columns={\n",
    "        \"pearson_higher\": \"Pearson (high)\",\n",
    "        \"pearson_lower\": \"Pearson (low)\",\n",
    "        \"spearman_higher\": \"Spearman (high)\",\n",
    "        \"spearman_lower\": \"Spearman (low)\",\n",
    "        \"clustermatch_higher\": \"CCC (high)\",\n",
    "        \"clustermatch_lower\": \"CCC (low)\",\n",
    "        \"mic_higher\": \"MIC (high)\",\n",
    "        \"mic_lower\": \"MIC (low)\",\n",
    "    }\n",
    ")"
   ]
  },
  {
   "cell_type": "code",
   "execution_count": 24,
   "id": "49db6735-8369-4c12-8a1a-c22c91cafcb2",
   "metadata": {
    "papermill": {
     "duration": 0.045279,
     "end_time": "2022-01-27T14:46:09.111238",
     "exception": false,
     "start_time": "2022-01-27T14:46:09.065959",
     "status": "completed"
    },
    "tags": []
   },
   "outputs": [],
   "source": [
    "categories = sorted(\n",
    "    [x for x in df_plot.columns if \" (\" in x],\n",
    "    reverse=True,\n",
    "    key=lambda x: x.split(\" (\")[1] + \" (\" + x.split(\" (\")[0],\n",
    ")"
   ]
  },
  {
   "cell_type": "code",
   "execution_count": 25,
   "id": "b842b23d-11ea-444c-88c1-ec3cc3e1a58a",
   "metadata": {
    "papermill": {
     "duration": 0.046212,
     "end_time": "2022-01-27T14:46:09.197441",
     "exception": false,
     "start_time": "2022-01-27T14:46:09.151229",
     "status": "completed"
    },
    "tags": []
   },
   "outputs": [
    {
     "data": {
      "text/plain": [
       "['Spearman (low)',\n",
       " 'Pearson (low)',\n",
       " 'MIC (low)',\n",
       " 'CCC (low)',\n",
       " 'Spearman (high)',\n",
       " 'Pearson (high)',\n",
       " 'MIC (high)',\n",
       " 'CCC (high)']"
      ]
     },
     "execution_count": 25,
     "metadata": {},
     "output_type": "execute_result"
    }
   ],
   "source": [
    "categories"
   ]
  },
  {
   "cell_type": "markdown",
   "id": "e0d69585-80a1-48cc-b7b9-3c63bb120b87",
   "metadata": {
    "papermill": {
     "duration": 0.039936,
     "end_time": "2022-01-27T14:46:09.279706",
     "exception": false,
     "start_time": "2022-01-27T14:46:09.239770",
     "status": "completed"
    },
    "tags": []
   },
   "source": [
    "## All subsets (original full plot)"
   ]
  },
  {
   "cell_type": "code",
   "execution_count": 26,
   "id": "0ad38eb1-66cf-404a-880e-095718d6f26e",
   "metadata": {
    "papermill": {
     "duration": 0.046133,
     "end_time": "2022-01-27T14:46:09.366150",
     "exception": false,
     "start_time": "2022-01-27T14:46:09.320017",
     "status": "completed"
    },
    "tags": []
   },
   "outputs": [],
   "source": [
    "df_r_data = df_plot"
   ]
  },
  {
   "cell_type": "code",
   "execution_count": 27,
   "id": "3c5147ec-e0e0-42c5-a6ad-f634ade88ed4",
   "metadata": {
    "papermill": {
     "duration": 0.046712,
     "end_time": "2022-01-27T14:46:09.454127",
     "exception": false,
     "start_time": "2022-01-27T14:46:09.407415",
     "status": "completed"
    },
    "tags": []
   },
   "outputs": [
    {
     "data": {
      "text/plain": [
       "(12497500, 12)"
      ]
     },
     "execution_count": 27,
     "metadata": {},
     "output_type": "execute_result"
    }
   ],
   "source": [
    "df_r_data.shape"
   ]
  },
  {
   "cell_type": "code",
   "execution_count": 28,
   "id": "d1a63eb4-beeb-4747-922e-d852eeadf50f",
   "metadata": {
    "papermill": {
     "duration": 22.128026,
     "end_time": "2022-01-27T14:46:31.623736",
     "exception": false,
     "start_time": "2022-01-27T14:46:09.495710",
     "status": "completed"
    },
    "tags": []
   },
   "outputs": [],
   "source": [
    "gene_pairs_by_cats = from_indicators(categories, data=df_r_data)"
   ]
  },
  {
   "cell_type": "code",
   "execution_count": 29,
   "id": "b60440f2-65d0-4e97-8db5-7f5f99a9beb0",
   "metadata": {
    "papermill": {
     "duration": 0.064504,
     "end_time": "2022-01-27T14:46:31.739930",
     "exception": false,
     "start_time": "2022-01-27T14:46:31.675426",
     "status": "completed"
    },
    "tags": []
   },
   "outputs": [
    {
     "data": {
      "text/html": [
       "<div>\n",
       "<style scoped>\n",
       "    .dataframe tbody tr th:only-of-type {\n",
       "        vertical-align: middle;\n",
       "    }\n",
       "\n",
       "    .dataframe tbody tr th {\n",
       "        vertical-align: top;\n",
       "    }\n",
       "\n",
       "    .dataframe thead th {\n",
       "        text-align: right;\n",
       "    }\n",
       "</style>\n",
       "<table border=\"1\" class=\"dataframe\">\n",
       "  <thead>\n",
       "    <tr style=\"text-align: right;\">\n",
       "      <th></th>\n",
       "      <th></th>\n",
       "      <th></th>\n",
       "      <th></th>\n",
       "      <th></th>\n",
       "      <th></th>\n",
       "      <th></th>\n",
       "      <th></th>\n",
       "      <th>Pearson (high)</th>\n",
       "      <th>Pearson (low)</th>\n",
       "      <th>Spearman (high)</th>\n",
       "      <th>Spearman (low)</th>\n",
       "      <th>CCC (high)</th>\n",
       "      <th>CCC (low)</th>\n",
       "      <th>MIC (high)</th>\n",
       "      <th>MIC (low)</th>\n",
       "      <th>clustermatch</th>\n",
       "      <th>pearson</th>\n",
       "      <th>spearman</th>\n",
       "      <th>mic</th>\n",
       "    </tr>\n",
       "    <tr>\n",
       "      <th>Spearman (low)</th>\n",
       "      <th>Pearson (low)</th>\n",
       "      <th>MIC (low)</th>\n",
       "      <th>CCC (low)</th>\n",
       "      <th>Spearman (high)</th>\n",
       "      <th>Pearson (high)</th>\n",
       "      <th>MIC (high)</th>\n",
       "      <th>CCC (high)</th>\n",
       "      <th></th>\n",
       "      <th></th>\n",
       "      <th></th>\n",
       "      <th></th>\n",
       "      <th></th>\n",
       "      <th></th>\n",
       "      <th></th>\n",
       "      <th></th>\n",
       "      <th></th>\n",
       "      <th></th>\n",
       "      <th></th>\n",
       "      <th></th>\n",
       "    </tr>\n",
       "  </thead>\n",
       "  <tbody>\n",
       "    <tr>\n",
       "      <th rowspan=\"2\" valign=\"top\">False</th>\n",
       "      <th rowspan=\"2\" valign=\"top\">False</th>\n",
       "      <th rowspan=\"2\" valign=\"top\">False</th>\n",
       "      <th rowspan=\"2\" valign=\"top\">False</th>\n",
       "      <th rowspan=\"2\" valign=\"top\">True</th>\n",
       "      <th rowspan=\"2\" valign=\"top\">True</th>\n",
       "      <th rowspan=\"2\" valign=\"top\">True</th>\n",
       "      <th>True</th>\n",
       "      <td>True</td>\n",
       "      <td>False</td>\n",
       "      <td>True</td>\n",
       "      <td>False</td>\n",
       "      <td>True</td>\n",
       "      <td>False</td>\n",
       "      <td>True</td>\n",
       "      <td>False</td>\n",
       "      <td>0.418721</td>\n",
       "      <td>0.681847</td>\n",
       "      <td>0.786595</td>\n",
       "      <td>0.569503</td>\n",
       "    </tr>\n",
       "    <tr>\n",
       "      <th>True</th>\n",
       "      <td>True</td>\n",
       "      <td>False</td>\n",
       "      <td>True</td>\n",
       "      <td>False</td>\n",
       "      <td>True</td>\n",
       "      <td>False</td>\n",
       "      <td>True</td>\n",
       "      <td>False</td>\n",
       "      <td>0.405090</td>\n",
       "      <td>0.734699</td>\n",
       "      <td>0.816991</td>\n",
       "      <td>0.613696</td>\n",
       "    </tr>\n",
       "    <tr>\n",
       "      <th>True</th>\n",
       "      <th>True</th>\n",
       "      <th>True</th>\n",
       "      <th>True</th>\n",
       "      <th>False</th>\n",
       "      <th>False</th>\n",
       "      <th>False</th>\n",
       "      <th>False</th>\n",
       "      <td>False</td>\n",
       "      <td>True</td>\n",
       "      <td>False</td>\n",
       "      <td>True</td>\n",
       "      <td>False</td>\n",
       "      <td>True</td>\n",
       "      <td>False</td>\n",
       "      <td>True</td>\n",
       "      <td>0.007466</td>\n",
       "      <td>0.013825</td>\n",
       "      <td>0.004128</td>\n",
       "      <td>0.146093</td>\n",
       "    </tr>\n",
       "    <tr>\n",
       "      <th rowspan=\"2\" valign=\"top\">False</th>\n",
       "      <th>False</th>\n",
       "      <th>False</th>\n",
       "      <th>False</th>\n",
       "      <th>True</th>\n",
       "      <th>True</th>\n",
       "      <th>True</th>\n",
       "      <th>True</th>\n",
       "      <td>True</td>\n",
       "      <td>False</td>\n",
       "      <td>True</td>\n",
       "      <td>False</td>\n",
       "      <td>True</td>\n",
       "      <td>False</td>\n",
       "      <td>True</td>\n",
       "      <td>False</td>\n",
       "      <td>0.391683</td>\n",
       "      <td>0.727347</td>\n",
       "      <td>0.803653</td>\n",
       "      <td>0.565137</td>\n",
       "    </tr>\n",
       "    <tr>\n",
       "      <th>True</th>\n",
       "      <th>False</th>\n",
       "      <th>False</th>\n",
       "      <th>False</th>\n",
       "      <th>False</th>\n",
       "      <th>False</th>\n",
       "      <th>False</th>\n",
       "      <td>False</td>\n",
       "      <td>True</td>\n",
       "      <td>False</td>\n",
       "      <td>False</td>\n",
       "      <td>False</td>\n",
       "      <td>False</td>\n",
       "      <td>False</td>\n",
       "      <td>False</td>\n",
       "      <td>0.099013</td>\n",
       "      <td>0.094147</td>\n",
       "      <td>0.231269</td>\n",
       "      <td>0.253103</td>\n",
       "    </tr>\n",
       "    <tr>\n",
       "      <th>...</th>\n",
       "      <th>...</th>\n",
       "      <th>...</th>\n",
       "      <th>...</th>\n",
       "      <th>...</th>\n",
       "      <th>...</th>\n",
       "      <th>...</th>\n",
       "      <th>...</th>\n",
       "      <td>...</td>\n",
       "      <td>...</td>\n",
       "      <td>...</td>\n",
       "      <td>...</td>\n",
       "      <td>...</td>\n",
       "      <td>...</td>\n",
       "      <td>...</td>\n",
       "      <td>...</td>\n",
       "      <td>...</td>\n",
       "      <td>...</td>\n",
       "      <td>...</td>\n",
       "      <td>...</td>\n",
       "    </tr>\n",
       "    <tr>\n",
       "      <th rowspan=\"5\" valign=\"top\">True</th>\n",
       "      <th rowspan=\"5\" valign=\"top\">True</th>\n",
       "      <th rowspan=\"5\" valign=\"top\">True</th>\n",
       "      <th rowspan=\"5\" valign=\"top\">True</th>\n",
       "      <th rowspan=\"5\" valign=\"top\">False</th>\n",
       "      <th rowspan=\"5\" valign=\"top\">False</th>\n",
       "      <th rowspan=\"5\" valign=\"top\">False</th>\n",
       "      <th>False</th>\n",
       "      <td>False</td>\n",
       "      <td>True</td>\n",
       "      <td>False</td>\n",
       "      <td>True</td>\n",
       "      <td>False</td>\n",
       "      <td>True</td>\n",
       "      <td>False</td>\n",
       "      <td>True</td>\n",
       "      <td>0.011968</td>\n",
       "      <td>0.051215</td>\n",
       "      <td>0.089428</td>\n",
       "      <td>0.153279</td>\n",
       "    </tr>\n",
       "    <tr>\n",
       "      <th>False</th>\n",
       "      <td>False</td>\n",
       "      <td>True</td>\n",
       "      <td>False</td>\n",
       "      <td>True</td>\n",
       "      <td>False</td>\n",
       "      <td>True</td>\n",
       "      <td>False</td>\n",
       "      <td>True</td>\n",
       "      <td>0.004975</td>\n",
       "      <td>0.031741</td>\n",
       "      <td>0.018411</td>\n",
       "      <td>0.143062</td>\n",
       "    </tr>\n",
       "    <tr>\n",
       "      <th>False</th>\n",
       "      <td>False</td>\n",
       "      <td>True</td>\n",
       "      <td>False</td>\n",
       "      <td>True</td>\n",
       "      <td>False</td>\n",
       "      <td>True</td>\n",
       "      <td>False</td>\n",
       "      <td>True</td>\n",
       "      <td>0.011968</td>\n",
       "      <td>0.029699</td>\n",
       "      <td>0.104518</td>\n",
       "      <td>0.160018</td>\n",
       "    </tr>\n",
       "    <tr>\n",
       "      <th>False</th>\n",
       "      <td>False</td>\n",
       "      <td>True</td>\n",
       "      <td>False</td>\n",
       "      <td>True</td>\n",
       "      <td>False</td>\n",
       "      <td>True</td>\n",
       "      <td>False</td>\n",
       "      <td>True</td>\n",
       "      <td>0.006638</td>\n",
       "      <td>0.033764</td>\n",
       "      <td>0.096159</td>\n",
       "      <td>0.150265</td>\n",
       "    </tr>\n",
       "    <tr>\n",
       "      <th>False</th>\n",
       "      <td>False</td>\n",
       "      <td>True</td>\n",
       "      <td>False</td>\n",
       "      <td>True</td>\n",
       "      <td>False</td>\n",
       "      <td>True</td>\n",
       "      <td>False</td>\n",
       "      <td>True</td>\n",
       "      <td>0.013967</td>\n",
       "      <td>0.010452</td>\n",
       "      <td>0.053928</td>\n",
       "      <td>0.145772</td>\n",
       "    </tr>\n",
       "  </tbody>\n",
       "</table>\n",
       "<p>12497500 rows × 12 columns</p>\n",
       "</div>"
      ],
      "text/plain": [
       "                                                                                                       Pearson (high)  \\\n",
       "Spearman (low) Pearson (low) MIC (low) CCC (low) Spearman (high) Pearson (high) MIC (high) CCC (high)                   \n",
       "False          False         False     False     True            True           True       True                  True   \n",
       "                                                                                           True                  True   \n",
       "True           True          True      True      False           False          False      False                False   \n",
       "False          False         False     False     True            True           True       True                  True   \n",
       "               True          False     False     False           False          False      False                False   \n",
       "...                                                                                                               ...   \n",
       "True           True          True      True      False           False          False      False                False   \n",
       "                                                                                           False                False   \n",
       "                                                                                           False                False   \n",
       "                                                                                           False                False   \n",
       "                                                                                           False                False   \n",
       "\n",
       "                                                                                                       Pearson (low)  \\\n",
       "Spearman (low) Pearson (low) MIC (low) CCC (low) Spearman (high) Pearson (high) MIC (high) CCC (high)                  \n",
       "False          False         False     False     True            True           True       True                False   \n",
       "                                                                                           True                False   \n",
       "True           True          True      True      False           False          False      False                True   \n",
       "False          False         False     False     True            True           True       True                False   \n",
       "               True          False     False     False           False          False      False                True   \n",
       "...                                                                                                              ...   \n",
       "True           True          True      True      False           False          False      False                True   \n",
       "                                                                                           False                True   \n",
       "                                                                                           False                True   \n",
       "                                                                                           False                True   \n",
       "                                                                                           False                True   \n",
       "\n",
       "                                                                                                       Spearman (high)  \\\n",
       "Spearman (low) Pearson (low) MIC (low) CCC (low) Spearman (high) Pearson (high) MIC (high) CCC (high)                    \n",
       "False          False         False     False     True            True           True       True                   True   \n",
       "                                                                                           True                   True   \n",
       "True           True          True      True      False           False          False      False                 False   \n",
       "False          False         False     False     True            True           True       True                   True   \n",
       "               True          False     False     False           False          False      False                 False   \n",
       "...                                                                                                                ...   \n",
       "True           True          True      True      False           False          False      False                 False   \n",
       "                                                                                           False                 False   \n",
       "                                                                                           False                 False   \n",
       "                                                                                           False                 False   \n",
       "                                                                                           False                 False   \n",
       "\n",
       "                                                                                                       Spearman (low)  \\\n",
       "Spearman (low) Pearson (low) MIC (low) CCC (low) Spearman (high) Pearson (high) MIC (high) CCC (high)                   \n",
       "False          False         False     False     True            True           True       True                 False   \n",
       "                                                                                           True                 False   \n",
       "True           True          True      True      False           False          False      False                 True   \n",
       "False          False         False     False     True            True           True       True                 False   \n",
       "               True          False     False     False           False          False      False                False   \n",
       "...                                                                                                               ...   \n",
       "True           True          True      True      False           False          False      False                 True   \n",
       "                                                                                           False                 True   \n",
       "                                                                                           False                 True   \n",
       "                                                                                           False                 True   \n",
       "                                                                                           False                 True   \n",
       "\n",
       "                                                                                                       CCC (high)  \\\n",
       "Spearman (low) Pearson (low) MIC (low) CCC (low) Spearman (high) Pearson (high) MIC (high) CCC (high)               \n",
       "False          False         False     False     True            True           True       True              True   \n",
       "                                                                                           True              True   \n",
       "True           True          True      True      False           False          False      False            False   \n",
       "False          False         False     False     True            True           True       True              True   \n",
       "               True          False     False     False           False          False      False            False   \n",
       "...                                                                                                           ...   \n",
       "True           True          True      True      False           False          False      False            False   \n",
       "                                                                                           False            False   \n",
       "                                                                                           False            False   \n",
       "                                                                                           False            False   \n",
       "                                                                                           False            False   \n",
       "\n",
       "                                                                                                       CCC (low)  \\\n",
       "Spearman (low) Pearson (low) MIC (low) CCC (low) Spearman (high) Pearson (high) MIC (high) CCC (high)              \n",
       "False          False         False     False     True            True           True       True            False   \n",
       "                                                                                           True            False   \n",
       "True           True          True      True      False           False          False      False            True   \n",
       "False          False         False     False     True            True           True       True            False   \n",
       "               True          False     False     False           False          False      False           False   \n",
       "...                                                                                                          ...   \n",
       "True           True          True      True      False           False          False      False            True   \n",
       "                                                                                           False            True   \n",
       "                                                                                           False            True   \n",
       "                                                                                           False            True   \n",
       "                                                                                           False            True   \n",
       "\n",
       "                                                                                                       MIC (high)  \\\n",
       "Spearman (low) Pearson (low) MIC (low) CCC (low) Spearman (high) Pearson (high) MIC (high) CCC (high)               \n",
       "False          False         False     False     True            True           True       True              True   \n",
       "                                                                                           True              True   \n",
       "True           True          True      True      False           False          False      False            False   \n",
       "False          False         False     False     True            True           True       True              True   \n",
       "               True          False     False     False           False          False      False            False   \n",
       "...                                                                                                           ...   \n",
       "True           True          True      True      False           False          False      False            False   \n",
       "                                                                                           False            False   \n",
       "                                                                                           False            False   \n",
       "                                                                                           False            False   \n",
       "                                                                                           False            False   \n",
       "\n",
       "                                                                                                       MIC (low)  \\\n",
       "Spearman (low) Pearson (low) MIC (low) CCC (low) Spearman (high) Pearson (high) MIC (high) CCC (high)              \n",
       "False          False         False     False     True            True           True       True            False   \n",
       "                                                                                           True            False   \n",
       "True           True          True      True      False           False          False      False            True   \n",
       "False          False         False     False     True            True           True       True            False   \n",
       "               True          False     False     False           False          False      False           False   \n",
       "...                                                                                                          ...   \n",
       "True           True          True      True      False           False          False      False            True   \n",
       "                                                                                           False            True   \n",
       "                                                                                           False            True   \n",
       "                                                                                           False            True   \n",
       "                                                                                           False            True   \n",
       "\n",
       "                                                                                                       clustermatch  \\\n",
       "Spearman (low) Pearson (low) MIC (low) CCC (low) Spearman (high) Pearson (high) MIC (high) CCC (high)                 \n",
       "False          False         False     False     True            True           True       True            0.418721   \n",
       "                                                                                           True            0.405090   \n",
       "True           True          True      True      False           False          False      False           0.007466   \n",
       "False          False         False     False     True            True           True       True            0.391683   \n",
       "               True          False     False     False           False          False      False           0.099013   \n",
       "...                                                                                                             ...   \n",
       "True           True          True      True      False           False          False      False           0.011968   \n",
       "                                                                                           False           0.004975   \n",
       "                                                                                           False           0.011968   \n",
       "                                                                                           False           0.006638   \n",
       "                                                                                           False           0.013967   \n",
       "\n",
       "                                                                                                        pearson  \\\n",
       "Spearman (low) Pearson (low) MIC (low) CCC (low) Spearman (high) Pearson (high) MIC (high) CCC (high)             \n",
       "False          False         False     False     True            True           True       True        0.681847   \n",
       "                                                                                           True        0.734699   \n",
       "True           True          True      True      False           False          False      False       0.013825   \n",
       "False          False         False     False     True            True           True       True        0.727347   \n",
       "               True          False     False     False           False          False      False       0.094147   \n",
       "...                                                                                                         ...   \n",
       "True           True          True      True      False           False          False      False       0.051215   \n",
       "                                                                                           False       0.031741   \n",
       "                                                                                           False       0.029699   \n",
       "                                                                                           False       0.033764   \n",
       "                                                                                           False       0.010452   \n",
       "\n",
       "                                                                                                       spearman  \\\n",
       "Spearman (low) Pearson (low) MIC (low) CCC (low) Spearman (high) Pearson (high) MIC (high) CCC (high)             \n",
       "False          False         False     False     True            True           True       True        0.786595   \n",
       "                                                                                           True        0.816991   \n",
       "True           True          True      True      False           False          False      False       0.004128   \n",
       "False          False         False     False     True            True           True       True        0.803653   \n",
       "               True          False     False     False           False          False      False       0.231269   \n",
       "...                                                                                                         ...   \n",
       "True           True          True      True      False           False          False      False       0.089428   \n",
       "                                                                                           False       0.018411   \n",
       "                                                                                           False       0.104518   \n",
       "                                                                                           False       0.096159   \n",
       "                                                                                           False       0.053928   \n",
       "\n",
       "                                                                                                            mic  \n",
       "Spearman (low) Pearson (low) MIC (low) CCC (low) Spearman (high) Pearson (high) MIC (high) CCC (high)            \n",
       "False          False         False     False     True            True           True       True        0.569503  \n",
       "                                                                                           True        0.613696  \n",
       "True           True          True      True      False           False          False      False       0.146093  \n",
       "False          False         False     False     True            True           True       True        0.565137  \n",
       "               True          False     False     False           False          False      False       0.253103  \n",
       "...                                                                                                         ...  \n",
       "True           True          True      True      False           False          False      False       0.153279  \n",
       "                                                                                           False       0.143062  \n",
       "                                                                                           False       0.160018  \n",
       "                                                                                           False       0.150265  \n",
       "                                                                                           False       0.145772  \n",
       "\n",
       "[12497500 rows x 12 columns]"
      ]
     },
     "execution_count": 29,
     "metadata": {},
     "output_type": "execute_result"
    }
   ],
   "source": [
    "gene_pairs_by_cats"
   ]
  },
  {
   "cell_type": "code",
   "execution_count": 30,
   "id": "953e9835-d94f-4e97-855d-2af93f41fd1f",
   "metadata": {
    "papermill": {
     "duration": 9.032673,
     "end_time": "2022-01-27T14:46:40.815265",
     "exception": false,
     "start_time": "2022-01-27T14:46:31.782592",
     "status": "completed"
    },
    "tags": []
   },
   "outputs": [
    {
     "data": {
      "image/png": "[encoded data removed]",
      "text/plain": [
       "<Figure size 1296x360 with 4 Axes>"
      ]
     },
     "metadata": {
      "needs_background": "light"
     },
     "output_type": "display_data"
    }
   ],
   "source": [
    "fig = plt.figure(figsize=(18, 5))\n",
    "\n",
    "g = plot(\n",
    "    gene_pairs_by_cats,\n",
    "    show_counts=True,\n",
    "    sort_categories_by=None,\n",
    "    element_size=None,\n",
    "    fig=fig,\n",
    ")"
   ]
  },
  {
   "cell_type": "markdown",
   "id": "c19ab189-d22c-4b0c-9712-8c297ddd04ab",
   "metadata": {
    "papermill": {
     "duration": 0.050859,
     "end_time": "2022-01-27T14:47:34.825217",
     "exception": false,
     "start_time": "2022-01-27T14:47:34.774358",
     "status": "completed"
    },
    "tags": []
   },
   "source": [
    "There are no intersections (columns) where CCC is high/low and MIC is low/high. This indicates that both behave very similarly.\n",
    "\n",
    "To make this more clear, below I only focus on MIC and CCC."
   ]
  },
  {
   "cell_type": "markdown",
   "id": "0205556e-76a0-4f7b-ac36-f62e7282c2ae",
   "metadata": {
    "papermill": {
     "duration": 0.039936,
     "end_time": "2022-01-27T14:46:09.279706",
     "exception": false,
     "start_time": "2022-01-27T14:46:09.239770",
     "status": "completed"
    },
    "tags": []
   },
   "source": [
    "## Only CCC and MIC"
   ]
  },
  {
   "cell_type": "code",
   "execution_count": 33,
   "id": "6773b938-e46a-486d-b951-5ee9fc066f92",
   "metadata": {
    "papermill": {
     "duration": 0.045279,
     "end_time": "2022-01-27T14:46:09.111238",
     "exception": false,
     "start_time": "2022-01-27T14:46:09.065959",
     "status": "completed"
    },
    "tags": []
   },
   "outputs": [],
   "source": [
    "categories = sorted(\n",
    "    [x for x in df_plot.columns if \" (\" in x and (\"CCC\" in x or \"MIC\" in x)],\n",
    "    reverse=True,\n",
    "    key=lambda x: x.split(\" (\")[1] + \" (\" + x.split(\" (\")[0],\n",
    ")"
   ]
  },
  {
   "cell_type": "code",
   "execution_count": 34,
   "id": "a6d0869d-d440-476e-a3aa-e68df0f4ff78",
   "metadata": {
    "papermill": {
     "duration": 0.046212,
     "end_time": "2022-01-27T14:46:09.197441",
     "exception": false,
     "start_time": "2022-01-27T14:46:09.151229",
     "status": "completed"
    },
    "tags": []
   },
   "outputs": [
    {
     "data": {
      "text/plain": [
       "['MIC (low)', 'CCC (low)', 'MIC (high)', 'CCC (high)']"
      ]
     },
     "execution_count": 34,
     "metadata": {},
     "output_type": "execute_result"
    }
   ],
   "source": [
    "categories"
   ]
  },
  {
   "cell_type": "code",
   "execution_count": 35,
   "id": "2d65d425-15bd-4528-8dea-917dfb5fe7e2",
   "metadata": {
    "papermill": {
     "duration": 0.046133,
     "end_time": "2022-01-27T14:46:09.366150",
     "exception": false,
     "start_time": "2022-01-27T14:46:09.320017",
     "status": "completed"
    },
    "tags": []
   },
   "outputs": [],
   "source": [
    "df_r_data = df_plot"
   ]
  },
  {
   "cell_type": "code",
   "execution_count": 36,
   "id": "a8b8babc-7d9b-4f86-9dd7-a3a6c3d170bd",
   "metadata": {
    "papermill": {
     "duration": 0.046712,
     "end_time": "2022-01-27T14:46:09.454127",
     "exception": false,
     "start_time": "2022-01-27T14:46:09.407415",
     "status": "completed"
    },
    "tags": []
   },
   "outputs": [
    {
     "data": {
      "text/plain": [
       "(12497500, 12)"
      ]
     },
     "execution_count": 36,
     "metadata": {},
     "output_type": "execute_result"
    }
   ],
   "source": [
    "df_r_data.shape"
   ]
  },
  {
   "cell_type": "code",
   "execution_count": 37,
   "id": "dbe25aaf-ea71-4a6e-aa7a-5eab6608c9bf",
   "metadata": {
    "papermill": {
     "duration": 22.128026,
     "end_time": "2022-01-27T14:46:31.623736",
     "exception": false,
     "start_time": "2022-01-27T14:46:09.495710",
     "status": "completed"
    },
    "tags": []
   },
   "outputs": [],
   "source": [
    "gene_pairs_by_cats = from_indicators(categories, data=df_r_data)"
   ]
  },
  {
   "cell_type": "code",
   "execution_count": 38,
   "id": "22368b54-3e23-4f3e-9ee6-28ee016485bf",
   "metadata": {
    "papermill": {
     "duration": 0.064504,
     "end_time": "2022-01-27T14:46:31.739930",
     "exception": false,
     "start_time": "2022-01-27T14:46:31.675426",
     "status": "completed"
    },
    "tags": []
   },
   "outputs": [
    {
     "data": {
      "text/html": [
       "<div>\n",
       "<style scoped>\n",
       "    .dataframe tbody tr th:only-of-type {\n",
       "        vertical-align: middle;\n",
       "    }\n",
       "\n",
       "    .dataframe tbody tr th {\n",
       "        vertical-align: top;\n",
       "    }\n",
       "\n",
       "    .dataframe thead th {\n",
       "        text-align: right;\n",
       "    }\n",
       "</style>\n",
       "<table border=\"1\" class=\"dataframe\">\n",
       "  <thead>\n",
       "    <tr style=\"text-align: right;\">\n",
       "      <th></th>\n",
       "      <th></th>\n",
       "      <th></th>\n",
       "      <th></th>\n",
       "      <th>Pearson (high)</th>\n",
       "      <th>Pearson (low)</th>\n",
       "      <th>Spearman (high)</th>\n",
       "      <th>Spearman (low)</th>\n",
       "      <th>CCC (high)</th>\n",
       "      <th>CCC (low)</th>\n",
       "      <th>MIC (high)</th>\n",
       "      <th>MIC (low)</th>\n",
       "      <th>clustermatch</th>\n",
       "      <th>pearson</th>\n",
       "      <th>spearman</th>\n",
       "      <th>mic</th>\n",
       "    </tr>\n",
       "    <tr>\n",
       "      <th>MIC (low)</th>\n",
       "      <th>CCC (low)</th>\n",
       "      <th>MIC (high)</th>\n",
       "      <th>CCC (high)</th>\n",
       "      <th></th>\n",
       "      <th></th>\n",
       "      <th></th>\n",
       "      <th></th>\n",
       "      <th></th>\n",
       "      <th></th>\n",
       "      <th></th>\n",
       "      <th></th>\n",
       "      <th></th>\n",
       "      <th></th>\n",
       "      <th></th>\n",
       "      <th></th>\n",
       "    </tr>\n",
       "  </thead>\n",
       "  <tbody>\n",
       "    <tr>\n",
       "      <th rowspan=\"2\" valign=\"top\">False</th>\n",
       "      <th rowspan=\"2\" valign=\"top\">False</th>\n",
       "      <th rowspan=\"2\" valign=\"top\">True</th>\n",
       "      <th>True</th>\n",
       "      <td>True</td>\n",
       "      <td>False</td>\n",
       "      <td>True</td>\n",
       "      <td>False</td>\n",
       "      <td>True</td>\n",
       "      <td>False</td>\n",
       "      <td>True</td>\n",
       "      <td>False</td>\n",
       "      <td>0.418721</td>\n",
       "      <td>0.681847</td>\n",
       "      <td>0.786595</td>\n",
       "      <td>0.569503</td>\n",
       "    </tr>\n",
       "    <tr>\n",
       "      <th>True</th>\n",
       "      <td>True</td>\n",
       "      <td>False</td>\n",
       "      <td>True</td>\n",
       "      <td>False</td>\n",
       "      <td>True</td>\n",
       "      <td>False</td>\n",
       "      <td>True</td>\n",
       "      <td>False</td>\n",
       "      <td>0.405090</td>\n",
       "      <td>0.734699</td>\n",
       "      <td>0.816991</td>\n",
       "      <td>0.613696</td>\n",
       "    </tr>\n",
       "    <tr>\n",
       "      <th>True</th>\n",
       "      <th>True</th>\n",
       "      <th>False</th>\n",
       "      <th>False</th>\n",
       "      <td>False</td>\n",
       "      <td>True</td>\n",
       "      <td>False</td>\n",
       "      <td>True</td>\n",
       "      <td>False</td>\n",
       "      <td>True</td>\n",
       "      <td>False</td>\n",
       "      <td>True</td>\n",
       "      <td>0.007466</td>\n",
       "      <td>0.013825</td>\n",
       "      <td>0.004128</td>\n",
       "      <td>0.146093</td>\n",
       "    </tr>\n",
       "    <tr>\n",
       "      <th rowspan=\"2\" valign=\"top\">False</th>\n",
       "      <th rowspan=\"2\" valign=\"top\">False</th>\n",
       "      <th>True</th>\n",
       "      <th>True</th>\n",
       "      <td>True</td>\n",
       "      <td>False</td>\n",
       "      <td>True</td>\n",
       "      <td>False</td>\n",
       "      <td>True</td>\n",
       "      <td>False</td>\n",
       "      <td>True</td>\n",
       "      <td>False</td>\n",
       "      <td>0.391683</td>\n",
       "      <td>0.727347</td>\n",
       "      <td>0.803653</td>\n",
       "      <td>0.565137</td>\n",
       "    </tr>\n",
       "    <tr>\n",
       "      <th>False</th>\n",
       "      <th>False</th>\n",
       "      <td>False</td>\n",
       "      <td>True</td>\n",
       "      <td>False</td>\n",
       "      <td>False</td>\n",
       "      <td>False</td>\n",
       "      <td>False</td>\n",
       "      <td>False</td>\n",
       "      <td>False</td>\n",
       "      <td>0.099013</td>\n",
       "      <td>0.094147</td>\n",
       "      <td>0.231269</td>\n",
       "      <td>0.253103</td>\n",
       "    </tr>\n",
       "    <tr>\n",
       "      <th>...</th>\n",
       "      <th>...</th>\n",
       "      <th>...</th>\n",
       "      <th>...</th>\n",
       "      <td>...</td>\n",
       "      <td>...</td>\n",
       "      <td>...</td>\n",
       "      <td>...</td>\n",
       "      <td>...</td>\n",
       "      <td>...</td>\n",
       "      <td>...</td>\n",
       "      <td>...</td>\n",
       "      <td>...</td>\n",
       "      <td>...</td>\n",
       "      <td>...</td>\n",
       "      <td>...</td>\n",
       "    </tr>\n",
       "    <tr>\n",
       "      <th rowspan=\"5\" valign=\"top\">True</th>\n",
       "      <th rowspan=\"5\" valign=\"top\">True</th>\n",
       "      <th rowspan=\"5\" valign=\"top\">False</th>\n",
       "      <th>False</th>\n",
       "      <td>False</td>\n",
       "      <td>True</td>\n",
       "      <td>False</td>\n",
       "      <td>True</td>\n",
       "      <td>False</td>\n",
       "      <td>True</td>\n",
       "      <td>False</td>\n",
       "      <td>True</td>\n",
       "      <td>0.011968</td>\n",
       "      <td>0.051215</td>\n",
       "      <td>0.089428</td>\n",
       "      <td>0.153279</td>\n",
       "    </tr>\n",
       "    <tr>\n",
       "      <th>False</th>\n",
       "      <td>False</td>\n",
       "      <td>True</td>\n",
       "      <td>False</td>\n",
       "      <td>True</td>\n",
       "      <td>False</td>\n",
       "      <td>True</td>\n",
       "      <td>False</td>\n",
       "      <td>True</td>\n",
       "      <td>0.004975</td>\n",
       "      <td>0.031741</td>\n",
       "      <td>0.018411</td>\n",
       "      <td>0.143062</td>\n",
       "    </tr>\n",
       "    <tr>\n",
       "      <th>False</th>\n",
       "      <td>False</td>\n",
       "      <td>True</td>\n",
       "      <td>False</td>\n",
       "      <td>True</td>\n",
       "      <td>False</td>\n",
       "      <td>True</td>\n",
       "      <td>False</td>\n",
       "      <td>True</td>\n",
       "      <td>0.011968</td>\n",
       "      <td>0.029699</td>\n",
       "      <td>0.104518</td>\n",
       "      <td>0.160018</td>\n",
       "    </tr>\n",
       "    <tr>\n",
       "      <th>False</th>\n",
       "      <td>False</td>\n",
       "      <td>True</td>\n",
       "      <td>False</td>\n",
       "      <td>True</td>\n",
       "      <td>False</td>\n",
       "      <td>True</td>\n",
       "      <td>False</td>\n",
       "      <td>True</td>\n",
       "      <td>0.006638</td>\n",
       "      <td>0.033764</td>\n",
       "      <td>0.096159</td>\n",
       "      <td>0.150265</td>\n",
       "    </tr>\n",
       "    <tr>\n",
       "      <th>False</th>\n",
       "      <td>False</td>\n",
       "      <td>True</td>\n",
       "      <td>False</td>\n",
       "      <td>True</td>\n",
       "      <td>False</td>\n",
       "      <td>True</td>\n",
       "      <td>False</td>\n",
       "      <td>True</td>\n",
       "      <td>0.013967</td>\n",
       "      <td>0.010452</td>\n",
       "      <td>0.053928</td>\n",
       "      <td>0.145772</td>\n",
       "    </tr>\n",
       "  </tbody>\n",
       "</table>\n",
       "<p>12497500 rows × 12 columns</p>\n",
       "</div>"
      ],
      "text/plain": [
       "                                           Pearson (high)  Pearson (low)  \\\n",
       "MIC (low) CCC (low) MIC (high) CCC (high)                                  \n",
       "False     False     True       True                  True          False   \n",
       "                               True                  True          False   \n",
       "True      True      False      False                False           True   \n",
       "False     False     True       True                  True          False   \n",
       "                    False      False                False           True   \n",
       "...                                                   ...            ...   \n",
       "True      True      False      False                False           True   \n",
       "                               False                False           True   \n",
       "                               False                False           True   \n",
       "                               False                False           True   \n",
       "                               False                False           True   \n",
       "\n",
       "                                           Spearman (high)  Spearman (low)  \\\n",
       "MIC (low) CCC (low) MIC (high) CCC (high)                                    \n",
       "False     False     True       True                   True           False   \n",
       "                               True                   True           False   \n",
       "True      True      False      False                 False            True   \n",
       "False     False     True       True                   True           False   \n",
       "                    False      False                 False           False   \n",
       "...                                                    ...             ...   \n",
       "True      True      False      False                 False            True   \n",
       "                               False                 False            True   \n",
       "                               False                 False            True   \n",
       "                               False                 False            True   \n",
       "                               False                 False            True   \n",
       "\n",
       "                                           CCC (high)  CCC (low)  MIC (high)  \\\n",
       "MIC (low) CCC (low) MIC (high) CCC (high)                                      \n",
       "False     False     True       True              True      False        True   \n",
       "                               True              True      False        True   \n",
       "True      True      False      False            False       True       False   \n",
       "False     False     True       True              True      False        True   \n",
       "                    False      False            False      False       False   \n",
       "...                                               ...        ...         ...   \n",
       "True      True      False      False            False       True       False   \n",
       "                               False            False       True       False   \n",
       "                               False            False       True       False   \n",
       "                               False            False       True       False   \n",
       "                               False            False       True       False   \n",
       "\n",
       "                                           MIC (low)  clustermatch   pearson  \\\n",
       "MIC (low) CCC (low) MIC (high) CCC (high)                                      \n",
       "False     False     True       True            False      0.418721  0.681847   \n",
       "                               True            False      0.405090  0.734699   \n",
       "True      True      False      False            True      0.007466  0.013825   \n",
       "False     False     True       True            False      0.391683  0.727347   \n",
       "                    False      False           False      0.099013  0.094147   \n",
       "...                                              ...           ...       ...   \n",
       "True      True      False      False            True      0.011968  0.051215   \n",
       "                               False            True      0.004975  0.031741   \n",
       "                               False            True      0.011968  0.029699   \n",
       "                               False            True      0.006638  0.033764   \n",
       "                               False            True      0.013967  0.010452   \n",
       "\n",
       "                                           spearman       mic  \n",
       "MIC (low) CCC (low) MIC (high) CCC (high)                      \n",
       "False     False     True       True        0.786595  0.569503  \n",
       "                               True        0.816991  0.613696  \n",
       "True      True      False      False       0.004128  0.146093  \n",
       "False     False     True       True        0.803653  0.565137  \n",
       "                    False      False       0.231269  0.253103  \n",
       "...                                             ...       ...  \n",
       "True      True      False      False       0.089428  0.153279  \n",
       "                               False       0.018411  0.143062  \n",
       "                               False       0.104518  0.160018  \n",
       "                               False       0.096159  0.150265  \n",
       "                               False       0.053928  0.145772  \n",
       "\n",
       "[12497500 rows x 12 columns]"
      ]
     },
     "execution_count": 38,
     "metadata": {},
     "output_type": "execute_result"
    }
   ],
   "source": [
    "gene_pairs_by_cats"
   ]
  },
  {
   "cell_type": "code",
   "execution_count": 39,
   "id": "3fd3b927-41d8-4acb-9298-26bc00e9091a",
   "metadata": {
    "papermill": {
     "duration": 9.032673,
     "end_time": "2022-01-27T14:46:40.815265",
     "exception": false,
     "start_time": "2022-01-27T14:46:31.782592",
     "status": "completed"
    },
    "tags": []
   },
   "outputs": [
    {
     "data": {
      "image/png": "[encoded data removed]",
      "text/plain": [
       "<Figure size 1296x360 with 4 Axes>"
      ]
     },
     "metadata": {
      "needs_background": "light"
     },
     "output_type": "display_data"
    }
   ],
   "source": [
    "fig = plt.figure(figsize=(18, 5))\n",
    "\n",
    "g = plot(\n",
    "    gene_pairs_by_cats,\n",
    "    show_counts=True,\n",
    "    sort_categories_by=None,\n",
    "    element_size=None,\n",
    "    fig=fig,\n",
    ")"
   ]
  },
  {
   "cell_type": "code",
   "execution_count": null,
   "id": "be7bebca-ef0d-4d6d-baf1-81a1c2ea2126",
   "metadata": {},
   "outputs": [],
   "source": []
  }
 ],
 "metadata": {
  "jupytext": {
   "cell_metadata_filter": "all,-execution,-papermill,-trusted",
   "text_representation": {
    "extension": ".py",
    "format_name": "percent",
    "format_version": "1.3",
    "jupytext_version": "1.11.5"
   }
  },
  "kernelspec": {
   "display_name": "Python 3 (ipykernel)",
   "language": "python",
   "name": "python3"
  },
  "language_info": {
   "codemirror_mode": {
    "name": "ipython",
    "version": 3
   },
   "file_extension": ".py",
   "mimetype": "text/x-python",
   "name": "python",
   "nbconvert_exporter": "python",
   "pygments_lexer": "ipython3",
   "version": "3.9.12"
  },
  "papermill": {
   "default_parameters": {},
   "duration": 100.816208,
   "end_time": "2022-01-27T14:47:35.603376",
   "environment_variables": {},
   "exception": null,
   "input_path": "nbs/15_intersections/03-gtex_whole_blood-intersections.ipynb",
   "output_path": "nbs/15_intersections/03-gtex_whole_blood-intersections.run.ipynb",
   "parameters": {},
   "start_time": "2022-01-27T14:45:54.787168",
   "version": "2.3.4"
  },
  "toc-autonumbering": true
 },
 "nbformat": 4,
 "nbformat_minor": 5
}
