{
 "cells": [
  {
   "cell_type": "markdown",
   "id": "c1948eb4-fb63-4fad-8243-bcd57b98def3",
   "metadata": {
    "papermill": {
     "duration": 0.006927,
     "end_time": "2023-09-11T12:28:33.507484",
     "exception": false,
     "start_time": "2023-09-11T12:28:33.500557",
     "status": "completed"
    },
    "tags": []
   },
   "source": [
    "# Description"
   ]
  },
  {
   "cell_type": "markdown",
   "id": "0abb1d73-c786-4c6d-9dc2-b9243e5183e2",
   "metadata": {
    "papermill": {
     "duration": 0.002372,
     "end_time": "2023-09-11T12:28:33.511069",
     "exception": false,
     "start_time": "2023-09-11T12:28:33.508697",
     "status": "completed"
    },
    "tags": []
   },
   "source": [
    "It generates random variables of varying sizes to compare the time taken by CCC and MIC.\n",
    "\n",
    "This notebook uses 1 CPU core."
   ]
  },
  {
   "cell_type": "markdown",
   "id": "d6252b4c-6d56-4cf0-aecd-5d8c769a3609",
   "metadata": {
    "papermill": {
     "duration": 0.002433,
     "end_time": "2023-09-11T12:28:33.516763",
     "exception": false,
     "start_time": "2023-09-11T12:28:33.514330",
     "status": "completed"
    },
    "tags": []
   },
   "source": [
    "# Modules loading"
   ]
  },
  {
   "cell_type": "markdown",
   "id": "d31be5d5-739c-4bec-8409-69f5b6045326",
   "metadata": {
    "papermill": {
     "duration": 0.001564,
     "end_time": "2023-09-11T12:28:33.520152",
     "exception": false,
     "start_time": "2023-09-11T12:28:33.518588",
     "status": "completed"
    },
    "tags": []
   },
   "source": [
    "Make sure only one core is used everywhere."
   ]
  },
  {
   "cell_type": "code",
   "execution_count": 1,
   "id": "ea7d30d5-da78-454a-a4ff-e6307bfdbb37",
   "metadata": {
    "execution": {
     "iopub.execute_input": "2023-09-11T12:28:33.523599Z",
     "iopub.status.busy": "2023-09-11T12:28:33.523485Z",
     "iopub.status.idle": "2023-09-11T12:28:33.528234Z",
     "shell.execute_reply": "2023-09-11T12:28:33.528075Z"
    },
    "papermill": {
     "duration": 0.007052,
     "end_time": "2023-09-11T12:28:33.528689",
     "exception": false,
     "start_time": "2023-09-11T12:28:33.521637",
     "status": "completed"
    },
    "tags": []
   },
   "outputs": [
    {
     "name": "stdout",
     "output_type": "stream",
     "text": [
      "env: CM_N_JOBS=1\n",
      "env: NUMBA_NUM_THREADS=1\n",
      "env: MKL_NUM_THREADS=1\n",
      "env: OPEN_BLAS_NUM_THREADS=1\n",
      "env: NUMEXPR_NUM_THREADS=1\n",
      "env: OMP_NUM_THREADS=1\n"
     ]
    }
   ],
   "source": [
    "%env CM_N_JOBS=1\n",
    "%env NUMBA_NUM_THREADS=1\n",
    "%env MKL_NUM_THREADS=1\n",
    "%env OPEN_BLAS_NUM_THREADS=1\n",
    "%env NUMEXPR_NUM_THREADS=1\n",
    "%env OMP_NUM_THREADS=1"
   ]
  },
  {
   "cell_type": "code",
   "execution_count": 2,
   "id": "77e9d29d-5307-4b4a-b103-7d1fbd6a7e56",
   "metadata": {
    "execution": {
     "iopub.execute_input": "2023-09-11T12:28:33.531286Z",
     "iopub.status.busy": "2023-09-11T12:28:33.531232Z",
     "iopub.status.idle": "2023-09-11T12:28:33.832672Z",
     "shell.execute_reply": "2023-09-11T12:28:33.832423Z"
    },
    "papermill": {
     "duration": 0.3036,
     "end_time": "2023-09-11T12:28:33.833478",
     "exception": false,
     "start_time": "2023-09-11T12:28:33.529878",
     "status": "completed"
    },
    "tags": []
   },
   "outputs": [],
   "source": [
    "from time import time\n",
    "\n",
    "import numpy as np\n",
    "import pandas as pd\n",
    "from scipy.stats import pearsonr, spearmanr\n",
    "\n",
    "from ccc import conf\n",
    "from ccc.coef import ccc\n",
    "from ccc.methods import mic"
   ]
  },
  {
   "cell_type": "markdown",
   "id": "262eb535-3e5d-43d7-9efd-bd6cfdac9190",
   "metadata": {
    "papermill": {
     "duration": 0.009637,
     "end_time": "2023-09-11T12:28:33.844495",
     "exception": false,
     "start_time": "2023-09-11T12:28:33.834858",
     "status": "completed"
    },
    "tags": []
   },
   "source": [
    "# Settings"
   ]
  },
  {
   "cell_type": "code",
   "execution_count": 3,
   "id": "311cc161-c947-447e-b622-6df22ad0e03a",
   "metadata": {
    "execution": {
     "iopub.execute_input": "2023-09-11T12:28:33.852513Z",
     "iopub.status.busy": "2023-09-11T12:28:33.852437Z",
     "iopub.status.idle": "2023-09-11T12:28:33.854147Z",
     "shell.execute_reply": "2023-09-11T12:28:33.853938Z"
    },
    "papermill": {
     "duration": 0.005822,
     "end_time": "2023-09-11T12:28:33.854904",
     "exception": false,
     "start_time": "2023-09-11T12:28:33.849082",
     "status": "completed"
    },
    "tags": []
   },
   "outputs": [],
   "source": [
    "OUTPUT_FILENAME = \"time_test.pkl\""
   ]
  },
  {
   "cell_type": "code",
   "execution_count": 4,
   "id": "2d2bd14a-a40d-4710-98c2-587148d0f532",
   "metadata": {
    "execution": {
     "iopub.execute_input": "2023-09-11T12:28:33.858884Z",
     "iopub.status.busy": "2023-09-11T12:28:33.858757Z",
     "iopub.status.idle": "2023-09-11T12:28:33.860737Z",
     "shell.execute_reply": "2023-09-11T12:28:33.860489Z"
    },
    "papermill": {
     "duration": 0.004895,
     "end_time": "2023-09-11T12:28:33.861521",
     "exception": false,
     "start_time": "2023-09-11T12:28:33.856626",
     "status": "completed"
    },
    "tags": []
   },
   "outputs": [],
   "source": [
    "DATA_SIZES = [\n",
    "    100,\n",
    "    500,\n",
    "    1000,\n",
    "    5000,\n",
    "    10000,\n",
    "    50000,\n",
    "    100000,\n",
    "    1000000,\n",
    "    10000000,\n",
    "]\n",
    "\n",
    "N_REPS = 10"
   ]
  },
  {
   "cell_type": "code",
   "execution_count": 5,
   "id": "d24607ca-2774-4e51-b392-538c85c86052",
   "metadata": {
    "execution": {
     "iopub.execute_input": "2023-09-11T12:28:33.866148Z",
     "iopub.status.busy": "2023-09-11T12:28:33.866064Z",
     "iopub.status.idle": "2023-09-11T12:28:33.867690Z",
     "shell.execute_reply": "2023-09-11T12:28:33.867506Z"
    },
    "papermill": {
     "duration": 0.004786,
     "end_time": "2023-09-11T12:28:33.868436",
     "exception": false,
     "start_time": "2023-09-11T12:28:33.863650",
     "status": "completed"
    },
    "tags": []
   },
   "outputs": [],
   "source": [
    "np.random.seed(0)"
   ]
  },
  {
   "cell_type": "markdown",
   "id": "eec9bb6d-4ba2-4817-9b36-bc8e68a2beae",
   "metadata": {
    "papermill": {
     "duration": 0.0014,
     "end_time": "2023-09-11T12:28:33.871550",
     "exception": false,
     "start_time": "2023-09-11T12:28:33.870150",
     "status": "completed"
    },
    "tags": []
   },
   "source": [
    "# Paths"
   ]
  },
  {
   "cell_type": "code",
   "execution_count": 6,
   "id": "ee9e6b70-9abd-4714-9ce5-49c270a1b0be",
   "metadata": {
    "execution": {
     "iopub.execute_input": "2023-09-11T12:28:33.874271Z",
     "iopub.status.busy": "2023-09-11T12:28:33.874219Z",
     "iopub.status.idle": "2023-09-11T12:28:33.877439Z",
     "shell.execute_reply": "2023-09-11T12:28:33.877317Z"
    },
    "papermill": {
     "duration": 0.005066,
     "end_time": "2023-09-11T12:28:33.877887",
     "exception": false,
     "start_time": "2023-09-11T12:28:33.872821",
     "status": "completed"
    },
    "tags": []
   },
   "outputs": [
    {
     "data": {
      "text/plain": [
       "PosixPath('/opt/data/results/time_test')"
      ]
     },
     "metadata": {},
     "output_type": "display_data"
    }
   ],
   "source": [
    "OUTPUT_DIR = conf.RESULTS_DIR / \"time_test\"\n",
    "OUTPUT_DIR.mkdir(parents=True, exist_ok=True)\n",
    "display(OUTPUT_DIR)"
   ]
  },
  {
   "cell_type": "markdown",
   "id": "9cb68076-f855-45c8-9843-ce2d93bdc4e7",
   "metadata": {
    "papermill": {
     "duration": 0.001097,
     "end_time": "2023-09-11T12:28:33.880143",
     "exception": false,
     "start_time": "2023-09-11T12:28:33.879046",
     "status": "completed"
    },
    "tags": []
   },
   "source": [
    "# Functions"
   ]
  },
  {
   "cell_type": "code",
   "execution_count": 7,
   "id": "e2c25ecf-0d87-4447-a9ff-a3b511629a61",
   "metadata": {
    "execution": {
     "iopub.execute_input": "2023-09-11T12:28:33.882668Z",
     "iopub.status.busy": "2023-09-11T12:28:33.882619Z",
     "iopub.status.idle": "2023-09-11T12:28:33.884766Z",
     "shell.execute_reply": "2023-09-11T12:28:33.884635Z"
    },
    "papermill": {
     "duration": 0.003858,
     "end_time": "2023-09-11T12:28:33.885138",
     "exception": false,
     "start_time": "2023-09-11T12:28:33.881280",
     "status": "completed"
    },
    "tags": []
   },
   "outputs": [],
   "source": [
    "time_results = pd.DataFrame(columns=[\"data_size\", \"method\", \"time\", \"sim\"])"
   ]
  },
  {
   "cell_type": "code",
   "execution_count": 8,
   "id": "ffc0d8de-79a6-4ab8-8cc2-5b720392a0e6",
   "metadata": {
    "execution": {
     "iopub.execute_input": "2023-09-11T12:28:33.887670Z",
     "iopub.status.busy": "2023-09-11T12:28:33.887619Z",
     "iopub.status.idle": "2023-09-11T12:28:33.889403Z",
     "shell.execute_reply": "2023-09-11T12:28:33.889266Z"
    },
    "papermill": {
     "duration": 0.003443,
     "end_time": "2023-09-11T12:28:33.889781",
     "exception": false,
     "start_time": "2023-09-11T12:28:33.886338",
     "status": "completed"
    },
    "tags": []
   },
   "outputs": [],
   "source": [
    "def run_method(func, method_name, size):\n",
    "    n_reps = N_REPS\n",
    "    if size < 500:\n",
    "        n_reps = 1000\n",
    "\n",
    "    for r in range(n_reps):\n",
    "        d1 = np.random.rand(size)\n",
    "        d2 = np.random.rand(size)\n",
    "\n",
    "        start_time = time()\n",
    "        sim = func(d1, d2)\n",
    "        end_time = time()\n",
    "        met_time = end_time - start_time\n",
    "\n",
    "        idx = time_results.shape[0]\n",
    "        time_results.loc[idx] = [d1.shape[0], method_name, met_time, sim]"
   ]
  },
  {
   "cell_type": "markdown",
   "id": "7656ffa5-c9c3-41f5-aeb5-21bde8836e81",
   "metadata": {
    "papermill": {
     "duration": 0.001121,
     "end_time": "2023-09-11T12:28:33.892060",
     "exception": false,
     "start_time": "2023-09-11T12:28:33.890939",
     "status": "completed"
    },
    "tags": []
   },
   "source": [
    "# Run"
   ]
  },
  {
   "cell_type": "code",
   "execution_count": 9,
   "id": "3e4fac59-34a7-4b63-8aa0-e845c0a156af",
   "metadata": {
    "execution": {
     "iopub.execute_input": "2023-09-11T12:28:33.894563Z",
     "iopub.status.busy": "2023-09-11T12:28:33.894509Z",
     "iopub.status.idle": "2023-09-11T12:28:33.897050Z",
     "shell.execute_reply": "2023-09-11T12:28:33.896922Z"
    },
    "papermill": {
     "duration": 0.004231,
     "end_time": "2023-09-11T12:28:33.897451",
     "exception": false,
     "start_time": "2023-09-11T12:28:33.893220",
     "status": "completed"
    },
    "tags": []
   },
   "outputs": [
    {
     "data": {
      "text/plain": [
       "0.02047038824894002"
      ]
     },
     "execution_count": 9,
     "metadata": {},
     "output_type": "execute_result"
    }
   ],
   "source": [
    "# initialize methods\n",
    "ccc(np.random.rand(100), np.random.rand(100))"
   ]
  },
  {
   "cell_type": "code",
   "execution_count": 10,
   "id": "e3f26ab4-ec59-4e8f-b887-14abc2cc7cae",
   "metadata": {
    "execution": {
     "iopub.execute_input": "2023-09-11T12:28:33.900078Z",
     "iopub.status.busy": "2023-09-11T12:28:33.900026Z",
     "iopub.status.idle": "2023-09-11T12:37:39.864620Z",
     "shell.execute_reply": "2023-09-11T12:37:39.864450Z"
    },
    "papermill": {
     "duration": 545.968749,
     "end_time": "2023-09-11T12:37:39.867447",
     "exception": false,
     "start_time": "2023-09-11T12:28:33.898698",
     "status": "completed"
    },
    "tags": []
   },
   "outputs": [
    {
     "name": "stdout",
     "output_type": "stream",
     "text": [
      "Size: 100\n",
      "  p\n",
      "  s\n",
      "  cm\n",
      "  mic_e\n",
      "  mic\n",
      "Saving to pickle\n",
      "\n",
      "\n",
      "Size: 500\n",
      "  p\n",
      "  s\n",
      "  cm\n",
      "  mic_e\n",
      "  mic\n",
      "Saving to pickle\n",
      "\n",
      "\n",
      "Size: 1000\n",
      "  p\n",
      "  s\n",
      "  cm\n",
      "  mic_e\n",
      "  mic\n",
      "Saving to pickle\n",
      "\n",
      "\n",
      "Size: 5000\n",
      "  p\n",
      "  s\n",
      "  cm\n",
      "  mic_e\n",
      "  mic\n",
      "Saving to pickle\n",
      "\n",
      "\n",
      "Size: 10000\n",
      "  p\n",
      "  s\n",
      "  cm\n",
      "  mic_e\n",
      "  mic\n",
      "Saving to pickle\n",
      "\n",
      "\n",
      "Size: 50000\n",
      "  p\n",
      "  s\n",
      "  cm\n",
      "  mic_e\n",
      "Saving to pickle\n",
      "\n",
      "\n",
      "Size: 100000\n",
      "  p\n",
      "  s\n",
      "  cm\n",
      "Saving to pickle\n",
      "\n",
      "\n",
      "Size: 1000000\n",
      "  p\n",
      "  s\n",
      "  cm\n",
      "Saving to pickle\n",
      "\n",
      "\n",
      "Size: 10000000\n",
      "  p\n",
      "  s\n",
      "  cm\n",
      "Saving to pickle\n",
      "\n",
      "\n"
     ]
    }
   ],
   "source": [
    "for s in DATA_SIZES:\n",
    "    print(f\"Size: {s}\")\n",
    "\n",
    "    print(\"  p\")\n",
    "    run_method(lambda x, y: pearsonr(x, y)[0], \"p-1\", s)\n",
    "\n",
    "    print(\"  s\")\n",
    "    run_method(lambda x, y: spearmanr(x, y)[0], \"s-1\", s)\n",
    "\n",
    "    print(\"  cm\")\n",
    "    run_method(lambda x, y: ccc(x, y), \"cm-1\", s)\n",
    "\n",
    "    if s <= 50000:\n",
    "        print(\"  mic_e\")\n",
    "        run_method(lambda x, y: mic(x, y, estimator=\"mic_e\"), \"mic_e-1\", s)\n",
    "\n",
    "    if s <= 10000:\n",
    "        print(\"  mic\")\n",
    "        run_method(lambda x, y: mic(x, y), \"mic-1\", s)\n",
    "\n",
    "    print(\"Saving to pickle\")\n",
    "    time_results.to_pickle(OUTPUT_DIR / OUTPUT_FILENAME)\n",
    "\n",
    "    print(\"\\n\")"
   ]
  },
  {
   "cell_type": "markdown",
   "id": "2354576e-8a81-48a9-84e4-08e8a990740e",
   "metadata": {
    "papermill": {
     "duration": 0.00306,
     "end_time": "2023-09-11T12:37:39.876320",
     "exception": false,
     "start_time": "2023-09-11T12:37:39.873260",
     "status": "completed"
    },
    "tags": []
   },
   "source": [
    "# Summary of results"
   ]
  },
  {
   "cell_type": "code",
   "execution_count": 11,
   "id": "e2876c4e-cc31-45ca-aa8c-61ab38ddd9b9",
   "metadata": {
    "execution": {
     "iopub.execute_input": "2023-09-11T12:37:39.880005Z",
     "iopub.status.busy": "2023-09-11T12:37:39.879926Z",
     "iopub.status.idle": "2023-09-11T12:37:39.881962Z",
     "shell.execute_reply": "2023-09-11T12:37:39.881833Z"
    },
    "papermill": {
     "duration": 0.004934,
     "end_time": "2023-09-11T12:37:39.882752",
     "exception": false,
     "start_time": "2023-09-11T12:37:39.877818",
     "status": "completed"
    },
    "tags": []
   },
   "outputs": [
    {
     "data": {
      "text/plain": [
       "(5330, 4)"
      ]
     },
     "execution_count": 11,
     "metadata": {},
     "output_type": "execute_result"
    }
   ],
   "source": [
    "time_results.shape"
   ]
  },
  {
   "cell_type": "code",
   "execution_count": 12,
   "id": "8e863af1-aa4e-4302-9093-1729797af641",
   "metadata": {
    "execution": {
     "iopub.execute_input": "2023-09-11T12:37:39.888550Z",
     "iopub.status.busy": "2023-09-11T12:37:39.888502Z",
     "iopub.status.idle": "2023-09-11T12:37:39.892186Z",
     "shell.execute_reply": "2023-09-11T12:37:39.892060Z"
    },
    "papermill": {
     "duration": 0.007402,
     "end_time": "2023-09-11T12:37:39.892923",
     "exception": false,
     "start_time": "2023-09-11T12:37:39.885521",
     "status": "completed"
    },
    "tags": []
   },
   "outputs": [
    {
     "data": {
      "text/html": [
       "<div>\n",
       "<style scoped>\n",
       "    .dataframe tbody tr th:only-of-type {\n",
       "        vertical-align: middle;\n",
       "    }\n",
       "\n",
       "    .dataframe tbody tr th {\n",
       "        vertical-align: top;\n",
       "    }\n",
       "\n",
       "    .dataframe thead th {\n",
       "        text-align: right;\n",
       "    }\n",
       "</style>\n",
       "<table border=\"1\" class=\"dataframe\">\n",
       "  <thead>\n",
       "    <tr style=\"text-align: right;\">\n",
       "      <th></th>\n",
       "      <th>data_size</th>\n",
       "      <th>method</th>\n",
       "      <th>time</th>\n",
       "      <th>sim</th>\n",
       "    </tr>\n",
       "  </thead>\n",
       "  <tbody>\n",
       "    <tr>\n",
       "      <th>0</th>\n",
       "      <td>100</td>\n",
       "      <td>p-1</td>\n",
       "      <td>0.000090</td>\n",
       "      <td>-0.002969</td>\n",
       "    </tr>\n",
       "    <tr>\n",
       "      <th>1</th>\n",
       "      <td>100</td>\n",
       "      <td>p-1</td>\n",
       "      <td>0.000064</td>\n",
       "      <td>0.043811</td>\n",
       "    </tr>\n",
       "    <tr>\n",
       "      <th>2</th>\n",
       "      <td>100</td>\n",
       "      <td>p-1</td>\n",
       "      <td>0.000031</td>\n",
       "      <td>0.001142</td>\n",
       "    </tr>\n",
       "    <tr>\n",
       "      <th>3</th>\n",
       "      <td>100</td>\n",
       "      <td>p-1</td>\n",
       "      <td>0.000085</td>\n",
       "      <td>0.258282</td>\n",
       "    </tr>\n",
       "    <tr>\n",
       "      <th>4</th>\n",
       "      <td>100</td>\n",
       "      <td>p-1</td>\n",
       "      <td>0.000031</td>\n",
       "      <td>0.041389</td>\n",
       "    </tr>\n",
       "  </tbody>\n",
       "</table>\n",
       "</div>"
      ],
      "text/plain": [
       "  data_size method      time       sim\n",
       "0       100    p-1  0.000090 -0.002969\n",
       "1       100    p-1  0.000064  0.043811\n",
       "2       100    p-1  0.000031  0.001142\n",
       "3       100    p-1  0.000085  0.258282\n",
       "4       100    p-1  0.000031  0.041389"
      ]
     },
     "execution_count": 12,
     "metadata": {},
     "output_type": "execute_result"
    }
   ],
   "source": [
    "time_results.head()"
   ]
  },
  {
   "cell_type": "code",
   "execution_count": null,
   "id": "2d4ad769-2693-4e0b-829b-b9dfadf8d4da",
   "metadata": {
    "papermill": {
     "duration": 0.002511,
     "end_time": "2023-09-11T12:37:39.898318",
     "exception": false,
     "start_time": "2023-09-11T12:37:39.895807",
     "status": "completed"
    },
    "tags": []
   },
   "outputs": [],
   "source": []
  }
 ],
 "metadata": {
  "jupytext": {
   "cell_metadata_filter": "all,-execution,-papermill,-trusted",
   "notebook_metadata_filter": "-jupytext.text_representation.jupytext_version"
  },
  "kernelspec": {
   "display_name": "Python 3 (ipykernel)",
   "language": "python",
   "name": "python3"
  },
  "language_info": {
   "codemirror_mode": {
    "name": "ipython",
    "version": 3
   },
   "file_extension": ".py",
   "mimetype": "text/x-python",
   "name": "python",
   "nbconvert_exporter": "python",
   "pygments_lexer": "ipython3",
   "version": "3.9.12"
  },
  "papermill": {
   "default_parameters": {},
   "duration": 547.279037,
   "end_time": "2023-09-11T12:37:40.114643",
   "environment_variables": {},
   "exception": null,
   "input_path": "nbs/20_comparison_others/60-time_test-1_cpu_core.ipynb",
   "output_path": "nbs/20_comparison_others/60-time_test-1_cpu_core.run.ipynb",
   "parameters": {
    "GTEX_TISSUE": "skin_sun_exposed_lower_leg"
   },
   "start_time": "2023-09-11T12:28:32.835606",
   "version": "2.3.3"
  },
  "toc-autonumbering": true
 },
 "nbformat": 4,
 "nbformat_minor": 5
}
