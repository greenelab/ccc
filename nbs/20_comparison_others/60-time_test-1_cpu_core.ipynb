{
 "cells": [
  {
   "cell_type": "markdown",
   "id": "c1948eb4-fb63-4fad-8243-bcd57b98def3",
   "metadata": {
    "papermill": {
     "duration": 0.001532,
     "end_time": "2023-09-07T19:58:13.085401",
     "exception": false,
     "start_time": "2023-09-07T19:58:13.083869",
     "status": "completed"
    },
    "tags": []
   },
   "source": [
    "# Description"
   ]
  },
  {
   "cell_type": "markdown",
   "id": "0abb1d73-c786-4c6d-9dc2-b9243e5183e2",
   "metadata": {
    "papermill": {
     "duration": 0.005255,
     "end_time": "2023-09-07T19:58:13.093044",
     "exception": false,
     "start_time": "2023-09-07T19:58:13.087789",
     "status": "completed"
    },
    "tags": []
   },
   "source": [
    "It generates random variables of varying sizes to compare the time taken by CCC and MIC.\n",
    "\n",
    "This notebook uses 1 CPU core."
   ]
  },
  {
   "cell_type": "markdown",
   "id": "d6252b4c-6d56-4cf0-aecd-5d8c769a3609",
   "metadata": {
    "papermill": {
     "duration": 0.003929,
     "end_time": "2023-09-07T19:58:13.098742",
     "exception": false,
     "start_time": "2023-09-07T19:58:13.094813",
     "status": "completed"
    },
    "tags": []
   },
   "source": [
    "# Modules loading"
   ]
  },
  {
   "cell_type": "markdown",
   "id": "d31be5d5-739c-4bec-8409-69f5b6045326",
   "metadata": {
    "papermill": {
     "duration": 0.002656,
     "end_time": "2023-09-07T19:58:13.104041",
     "exception": false,
     "start_time": "2023-09-07T19:58:13.101385",
     "status": "completed"
    },
    "tags": []
   },
   "source": [
    "Make sure only one core is used everywhere."
   ]
  },
  {
   "cell_type": "code",
   "execution_count": 1,
   "id": "ea7d30d5-da78-454a-a4ff-e6307bfdbb37",
   "metadata": {
    "execution": {
     "iopub.execute_input": "2023-09-07T19:58:13.107896Z",
     "iopub.status.busy": "2023-09-07T19:58:13.107629Z",
     "iopub.status.idle": "2023-09-07T19:58:13.115073Z",
     "shell.execute_reply": "2023-09-07T19:58:13.114845Z"
    },
    "papermill": {
     "duration": 0.009762,
     "end_time": "2023-09-07T19:58:13.115651",
     "exception": false,
     "start_time": "2023-09-07T19:58:13.105889",
     "status": "completed"
    },
    "tags": []
   },
   "outputs": [
    {
     "name": "stdout",
     "output_type": "stream",
     "text": [
      "env: CM_N_JOBS=1\n",
      "env: NUMBA_NUM_THREADS=1\n",
      "env: MKL_NUM_THREADS=1\n",
      "env: OPEN_BLAS_NUM_THREADS=1\n",
      "env: NUMEXPR_NUM_THREADS=1\n",
      "env: OMP_NUM_THREADS=1\n"
     ]
    }
   ],
   "source": [
    "%env CM_N_JOBS=1\n",
    "%env NUMBA_NUM_THREADS=1\n",
    "%env MKL_NUM_THREADS=1\n",
    "%env OPEN_BLAS_NUM_THREADS=1\n",
    "%env NUMEXPR_NUM_THREADS=1\n",
    "%env OMP_NUM_THREADS=1"
   ]
  },
  {
   "cell_type": "code",
   "execution_count": 2,
   "id": "77e9d29d-5307-4b4a-b103-7d1fbd6a7e56",
   "metadata": {
    "execution": {
     "iopub.execute_input": "2023-09-07T19:58:13.118344Z",
     "iopub.status.busy": "2023-09-07T19:58:13.118266Z",
     "iopub.status.idle": "2023-09-07T19:58:13.432557Z",
     "shell.execute_reply": "2023-09-07T19:58:13.432364Z"
    },
    "papermill": {
     "duration": 0.31647,
     "end_time": "2023-09-07T19:58:13.433332",
     "exception": false,
     "start_time": "2023-09-07T19:58:13.116862",
     "status": "completed"
    },
    "tags": []
   },
   "outputs": [],
   "source": [
    "from time import time\n",
    "\n",
    "import numpy as np\n",
    "import pandas as pd\n",
    "from scipy.stats import pearsonr, spearmanr\n",
    "\n",
    "from ccc import conf\n",
    "from ccc.coef import ccc\n",
    "from ccc.methods import mic"
   ]
  },
  {
   "cell_type": "markdown",
   "id": "262eb535-3e5d-43d7-9efd-bd6cfdac9190",
   "metadata": {
    "papermill": {
     "duration": 0.001112,
     "end_time": "2023-09-07T19:58:13.435817",
     "exception": false,
     "start_time": "2023-09-07T19:58:13.434705",
     "status": "completed"
    },
    "tags": []
   },
   "source": [
    "# Settings"
   ]
  },
  {
   "cell_type": "code",
   "execution_count": 3,
   "id": "311cc161-c947-447e-b622-6df22ad0e03a",
   "metadata": {
    "execution": {
     "iopub.execute_input": "2023-09-07T19:58:13.441029Z",
     "iopub.status.busy": "2023-09-07T19:58:13.440909Z",
     "iopub.status.idle": "2023-09-07T19:58:13.442635Z",
     "shell.execute_reply": "2023-09-07T19:58:13.442418Z"
    },
    "papermill": {
     "duration": 0.005244,
     "end_time": "2023-09-07T19:58:13.443165",
     "exception": false,
     "start_time": "2023-09-07T19:58:13.437921",
     "status": "completed"
    },
    "tags": []
   },
   "outputs": [],
   "source": [
    "OUTPUT_FILENAME = \"time_test.pkl\""
   ]
  },
  {
   "cell_type": "code",
   "execution_count": 4,
   "id": "2d2bd14a-a40d-4710-98c2-587148d0f532",
   "metadata": {
    "execution": {
     "iopub.execute_input": "2023-09-07T19:58:13.445907Z",
     "iopub.status.busy": "2023-09-07T19:58:13.445810Z",
     "iopub.status.idle": "2023-09-07T19:58:13.447423Z",
     "shell.execute_reply": "2023-09-07T19:58:13.447228Z"
    },
    "papermill": {
     "duration": 0.003654,
     "end_time": "2023-09-07T19:58:13.448004",
     "exception": false,
     "start_time": "2023-09-07T19:58:13.444350",
     "status": "completed"
    },
    "tags": []
   },
   "outputs": [],
   "source": [
    "DATA_SIZES = [\n",
    "    100,\n",
    "    500,\n",
    "    1000,\n",
    "    5000,\n",
    "    10000,\n",
    "    50000,\n",
    "    100000,\n",
    "    1000000,\n",
    "]\n",
    "\n",
    "N_REPS = 10"
   ]
  },
  {
   "cell_type": "code",
   "execution_count": 5,
   "id": "d24607ca-2774-4e51-b392-538c85c86052",
   "metadata": {
    "execution": {
     "iopub.execute_input": "2023-09-07T19:58:13.450951Z",
     "iopub.status.busy": "2023-09-07T19:58:13.450876Z",
     "iopub.status.idle": "2023-09-07T19:58:13.452366Z",
     "shell.execute_reply": "2023-09-07T19:58:13.452179Z"
    },
    "papermill": {
     "duration": 0.003811,
     "end_time": "2023-09-07T19:58:13.453130",
     "exception": false,
     "start_time": "2023-09-07T19:58:13.449319",
     "status": "completed"
    },
    "tags": []
   },
   "outputs": [],
   "source": [
    "np.random.seed(0)"
   ]
  },
  {
   "cell_type": "markdown",
   "id": "eec9bb6d-4ba2-4817-9b36-bc8e68a2beae",
   "metadata": {
    "papermill": {
     "duration": 0.001932,
     "end_time": "2023-09-07T19:58:13.457176",
     "exception": false,
     "start_time": "2023-09-07T19:58:13.455244",
     "status": "completed"
    },
    "tags": []
   },
   "source": [
    "# Paths"
   ]
  },
  {
   "cell_type": "code",
   "execution_count": 6,
   "id": "ee9e6b70-9abd-4714-9ce5-49c270a1b0be",
   "metadata": {
    "execution": {
     "iopub.execute_input": "2023-09-07T19:58:13.460256Z",
     "iopub.status.busy": "2023-09-07T19:58:13.460158Z",
     "iopub.status.idle": "2023-09-07T19:58:13.463911Z",
     "shell.execute_reply": "2023-09-07T19:58:13.463727Z"
    },
    "papermill": {
     "duration": 0.005672,
     "end_time": "2023-09-07T19:58:13.464362",
     "exception": false,
     "start_time": "2023-09-07T19:58:13.458690",
     "status": "completed"
    },
    "tags": []
   },
   "outputs": [
    {
     "data": {
      "text/plain": [
       "PosixPath('/opt/data/results/time_test')"
      ]
     },
     "metadata": {},
     "output_type": "display_data"
    }
   ],
   "source": [
    "OUTPUT_DIR = conf.RESULTS_DIR / \"time_test\"\n",
    "OUTPUT_DIR.mkdir(parents=True, exist_ok=True)\n",
    "display(OUTPUT_DIR)"
   ]
  },
  {
   "cell_type": "markdown",
   "id": "9cb68076-f855-45c8-9843-ce2d93bdc4e7",
   "metadata": {
    "papermill": {
     "duration": 0.00115,
     "end_time": "2023-09-07T19:58:13.466766",
     "exception": false,
     "start_time": "2023-09-07T19:58:13.465616",
     "status": "completed"
    },
    "tags": []
   },
   "source": [
    "# Functions"
   ]
  },
  {
   "cell_type": "code",
   "execution_count": 7,
   "id": "e2c25ecf-0d87-4447-a9ff-a3b511629a61",
   "metadata": {
    "execution": {
     "iopub.execute_input": "2023-09-07T19:58:13.469552Z",
     "iopub.status.busy": "2023-09-07T19:58:13.469447Z",
     "iopub.status.idle": "2023-09-07T19:58:13.472165Z",
     "shell.execute_reply": "2023-09-07T19:58:13.471965Z"
    },
    "papermill": {
     "duration": 0.004691,
     "end_time": "2023-09-07T19:58:13.472639",
     "exception": false,
     "start_time": "2023-09-07T19:58:13.467948",
     "status": "completed"
    },
    "tags": []
   },
   "outputs": [],
   "source": [
    "time_results = pd.DataFrame(columns=[\"data_size\", \"method\", \"time\", \"sim\"])"
   ]
  },
  {
   "cell_type": "code",
   "execution_count": 8,
   "id": "ffc0d8de-79a6-4ab8-8cc2-5b720392a0e6",
   "metadata": {
    "execution": {
     "iopub.execute_input": "2023-09-07T19:58:13.475376Z",
     "iopub.status.busy": "2023-09-07T19:58:13.475317Z",
     "iopub.status.idle": "2023-09-07T19:58:13.477513Z",
     "shell.execute_reply": "2023-09-07T19:58:13.477256Z"
    },
    "papermill": {
     "duration": 0.004053,
     "end_time": "2023-09-07T19:58:13.477973",
     "exception": false,
     "start_time": "2023-09-07T19:58:13.473920",
     "status": "completed"
    },
    "tags": []
   },
   "outputs": [],
   "source": [
    "def run_method(func, method_name, size):\n",
    "    n_reps = N_REPS\n",
    "    if size < 500:\n",
    "        n_reps = 1000\n",
    "\n",
    "    for r in range(n_reps):\n",
    "        d1 = np.random.rand(size)\n",
    "        d2 = np.random.rand(size)\n",
    "\n",
    "        start_time = time()\n",
    "        sim = func(d1, d2)\n",
    "        end_time = time()\n",
    "        met_time = end_time - start_time\n",
    "\n",
    "        idx = time_results.shape[0]\n",
    "        time_results.loc[idx] = [d1.shape[0], method_name, met_time, sim]"
   ]
  },
  {
   "cell_type": "markdown",
   "id": "7656ffa5-c9c3-41f5-aeb5-21bde8836e81",
   "metadata": {
    "papermill": {
     "duration": 0.001289,
     "end_time": "2023-09-07T19:58:13.480470",
     "exception": false,
     "start_time": "2023-09-07T19:58:13.479181",
     "status": "completed"
    },
    "tags": []
   },
   "source": [
    "# Run"
   ]
  },
  {
   "cell_type": "code",
   "execution_count": 9,
   "id": "3e4fac59-34a7-4b63-8aa0-e845c0a156af",
   "metadata": {
    "execution": {
     "iopub.execute_input": "2023-09-07T19:58:13.483491Z",
     "iopub.status.busy": "2023-09-07T19:58:13.483349Z",
     "iopub.status.idle": "2023-09-07T19:58:13.488385Z",
     "shell.execute_reply": "2023-09-07T19:58:13.488144Z"
    },
    "papermill": {
     "duration": 0.007235,
     "end_time": "2023-09-07T19:58:13.488887",
     "exception": false,
     "start_time": "2023-09-07T19:58:13.481652",
     "status": "completed"
    },
    "tags": []
   },
   "outputs": [
    {
     "data": {
      "text/plain": [
       "0.02047038824894002"
      ]
     },
     "execution_count": 9,
     "metadata": {},
     "output_type": "execute_result"
    }
   ],
   "source": [
    "# initialize methods\n",
    "ccc(np.random.rand(100), np.random.rand(100))"
   ]
  },
  {
   "cell_type": "code",
   "execution_count": 10,
   "id": "e3f26ab4-ec59-4e8f-b887-14abc2cc7cae",
   "metadata": {
    "execution": {
     "iopub.execute_input": "2023-09-07T19:58:13.492023Z",
     "iopub.status.busy": "2023-09-07T19:58:13.491896Z",
     "iopub.status.idle": "2023-09-07T20:00:50.129556Z",
     "shell.execute_reply": "2023-09-07T20:00:50.129279Z"
    },
    "papermill": {
     "duration": 156.642763,
     "end_time": "2023-09-07T20:00:50.133048",
     "exception": false,
     "start_time": "2023-09-07T19:58:13.490285",
     "status": "completed"
    },
    "tags": []
   },
   "outputs": [
    {
     "name": "stdout",
     "output_type": "stream",
     "text": [
      "Size: 100\n",
      "  p\n",
      "  s\n",
      "  cm\n",
      "  mic_e\n",
      "  mic\n",
      "Saving to pickle\n",
      "\n",
      "\n",
      "Size: 500\n",
      "  p\n",
      "  s\n",
      "  cm\n",
      "  mic_e\n",
      "  mic\n",
      "Saving to pickle\n",
      "\n",
      "\n",
      "Size: 1000\n",
      "  p\n",
      "  s\n",
      "  cm\n",
      "  mic_e\n",
      "  mic\n",
      "Saving to pickle\n",
      "\n",
      "\n",
      "Size: 5000\n",
      "  p\n",
      "  s\n",
      "  cm\n",
      "  mic_e\n",
      "  mic\n",
      "Saving to pickle\n",
      "\n",
      "\n",
      "Size: 10000\n",
      "  p\n",
      "  s\n",
      "  cm\n",
      "  mic_e\n",
      "  mic\n",
      "Saving to pickle\n",
      "\n",
      "\n",
      "Size: 50000\n",
      "  p\n",
      "  s\n",
      "  cm\n",
      "  mic_e\n",
      "Saving to pickle\n",
      "\n",
      "\n",
      "Size: 100000\n",
      "  p\n",
      "  s\n",
      "  cm\n",
      "Saving to pickle\n",
      "\n",
      "\n",
      "Size: 1000000\n",
      "  p\n",
      "  s\n",
      "  cm\n",
      "Saving to pickle\n",
      "\n",
      "\n"
     ]
    }
   ],
   "source": [
    "for s in DATA_SIZES:\n",
    "    print(f\"Size: {s}\")\n",
    "\n",
    "    print(\"  p\")\n",
    "    run_method(lambda x, y: pearsonr(x, y)[0], \"p-1\", s)\n",
    "\n",
    "    print(\"  s\")\n",
    "    run_method(lambda x, y: spearmanr(x, y)[0], \"s-1\", s)\n",
    "\n",
    "    print(\"  cm\")\n",
    "    run_method(lambda x, y: ccc(x, y), \"cm-1\", s)\n",
    "\n",
    "    if s <= 50000:\n",
    "        print(\"  mic_e\")\n",
    "        run_method(lambda x, y: mic(x, y, estimator=\"mic_e\"), \"mic_e-1\", s)\n",
    "\n",
    "    if s <= 10000:\n",
    "        print(\"  mic\")\n",
    "        run_method(lambda x, y: mic(x, y), \"mic-1\", s)\n",
    "\n",
    "    print(\"Saving to pickle\")\n",
    "    time_results.to_pickle(OUTPUT_DIR / OUTPUT_FILENAME)\n",
    "\n",
    "    print(\"\\n\")"
   ]
  },
  {
   "cell_type": "markdown",
   "id": "2354576e-8a81-48a9-84e4-08e8a990740e",
   "metadata": {
    "papermill": {
     "duration": 0.002919,
     "end_time": "2023-09-07T20:00:50.141016",
     "exception": false,
     "start_time": "2023-09-07T20:00:50.138097",
     "status": "completed"
    },
    "tags": []
   },
   "source": [
    "# Summary of results"
   ]
  },
  {
   "cell_type": "code",
   "execution_count": 11,
   "id": "e2876c4e-cc31-45ca-aa8c-61ab38ddd9b9",
   "metadata": {
    "execution": {
     "iopub.execute_input": "2023-09-07T20:00:50.144470Z",
     "iopub.status.busy": "2023-09-07T20:00:50.144401Z",
     "iopub.status.idle": "2023-09-07T20:00:50.146526Z",
     "shell.execute_reply": "2023-09-07T20:00:50.146342Z"
    },
    "papermill": {
     "duration": 0.004712,
     "end_time": "2023-09-07T20:00:50.147252",
     "exception": false,
     "start_time": "2023-09-07T20:00:50.142540",
     "status": "completed"
    },
    "tags": []
   },
   "outputs": [
    {
     "data": {
      "text/plain": [
       "(5300, 4)"
      ]
     },
     "execution_count": 11,
     "metadata": {},
     "output_type": "execute_result"
    }
   ],
   "source": [
    "time_results.shape"
   ]
  },
  {
   "cell_type": "code",
   "execution_count": 12,
   "id": "8e863af1-aa4e-4302-9093-1729797af641",
   "metadata": {
    "execution": {
     "iopub.execute_input": "2023-09-07T20:00:50.150615Z",
     "iopub.status.busy": "2023-09-07T20:00:50.150563Z",
     "iopub.status.idle": "2023-09-07T20:00:50.154874Z",
     "shell.execute_reply": "2023-09-07T20:00:50.154590Z"
    },
    "papermill": {
     "duration": 0.006618,
     "end_time": "2023-09-07T20:00:50.155433",
     "exception": false,
     "start_time": "2023-09-07T20:00:50.148815",
     "status": "completed"
    },
    "tags": []
   },
   "outputs": [
    {
     "data": {
      "text/html": [
       "<div>\n",
       "<style scoped>\n",
       "    .dataframe tbody tr th:only-of-type {\n",
       "        vertical-align: middle;\n",
       "    }\n",
       "\n",
       "    .dataframe tbody tr th {\n",
       "        vertical-align: top;\n",
       "    }\n",
       "\n",
       "    .dataframe thead th {\n",
       "        text-align: right;\n",
       "    }\n",
       "</style>\n",
       "<table border=\"1\" class=\"dataframe\">\n",
       "  <thead>\n",
       "    <tr style=\"text-align: right;\">\n",
       "      <th></th>\n",
       "      <th>data_size</th>\n",
       "      <th>method</th>\n",
       "      <th>time</th>\n",
       "      <th>sim</th>\n",
       "    </tr>\n",
       "  </thead>\n",
       "  <tbody>\n",
       "    <tr>\n",
       "      <th>0</th>\n",
       "      <td>100</td>\n",
       "      <td>p-1</td>\n",
       "      <td>0.000115</td>\n",
       "      <td>-0.131037</td>\n",
       "    </tr>\n",
       "    <tr>\n",
       "      <th>1</th>\n",
       "      <td>100</td>\n",
       "      <td>p-1</td>\n",
       "      <td>0.000045</td>\n",
       "      <td>0.080438</td>\n",
       "    </tr>\n",
       "    <tr>\n",
       "      <th>2</th>\n",
       "      <td>100</td>\n",
       "      <td>p-1</td>\n",
       "      <td>0.000033</td>\n",
       "      <td>0.032917</td>\n",
       "    </tr>\n",
       "    <tr>\n",
       "      <th>3</th>\n",
       "      <td>100</td>\n",
       "      <td>p-1</td>\n",
       "      <td>0.000035</td>\n",
       "      <td>-0.128507</td>\n",
       "    </tr>\n",
       "    <tr>\n",
       "      <th>4</th>\n",
       "      <td>100</td>\n",
       "      <td>p-1</td>\n",
       "      <td>0.000038</td>\n",
       "      <td>0.038084</td>\n",
       "    </tr>\n",
       "  </tbody>\n",
       "</table>\n",
       "</div>"
      ],
      "text/plain": [
       "  data_size method      time       sim\n",
       "0       100    p-1  0.000115 -0.131037\n",
       "1       100    p-1  0.000045  0.080438\n",
       "2       100    p-1  0.000033  0.032917\n",
       "3       100    p-1  0.000035 -0.128507\n",
       "4       100    p-1  0.000038  0.038084"
      ]
     },
     "execution_count": 12,
     "metadata": {},
     "output_type": "execute_result"
    }
   ],
   "source": [
    "time_results.head()"
   ]
  },
  {
   "cell_type": "code",
   "execution_count": null,
   "id": "2d4ad769-2693-4e0b-829b-b9dfadf8d4da",
   "metadata": {
    "papermill": {
     "duration": 0.001446,
     "end_time": "2023-09-07T20:00:50.158446",
     "exception": false,
     "start_time": "2023-09-07T20:00:50.157000",
     "status": "completed"
    },
    "tags": []
   },
   "outputs": [],
   "source": []
  }
 ],
 "metadata": {
  "jupytext": {
   "cell_metadata_filter": "all,-execution,-papermill,-trusted"
  },
  "kernelspec": {
   "display_name": "Python 3 (ipykernel)",
   "language": "python",
   "name": "python3"
  },
  "language_info": {
   "codemirror_mode": {
    "name": "ipython",
    "version": 3
   },
   "file_extension": ".py",
   "mimetype": "text/x-python",
   "name": "python",
   "nbconvert_exporter": "python",
   "pygments_lexer": "ipython3",
   "version": "3.9.12"
  },
  "papermill": {
   "default_parameters": {},
   "duration": 157.951142,
   "end_time": "2023-09-07T20:00:50.373773",
   "environment_variables": {},
   "exception": null,
   "input_path": "nbs/20_comparison_others/60-time_test-1_cpu_core.ipynb",
   "output_path": "nbs/20_comparison_others/60-time_test-1_cpu_core.run.ipynb",
   "parameters": {
    "GTEX_TISSUE": "skin_sun_exposed_lower_leg"
   },
   "start_time": "2023-09-07T19:58:12.422631",
   "version": "2.3.3"
  },
  "toc-autonumbering": true
 },
 "nbformat": 4,
 "nbformat_minor": 5
}
