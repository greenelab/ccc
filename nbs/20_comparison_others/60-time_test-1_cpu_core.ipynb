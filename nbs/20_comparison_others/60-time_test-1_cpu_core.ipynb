{
 "cells": [
  {
   "cell_type": "markdown",
   "id": "c1948eb4-fb63-4fad-8243-bcd57b98def3",
   "metadata": {
    "papermill": {
     "duration": 0.013696,
     "end_time": "2022-04-08T18:21:04.812381",
     "exception": false,
     "start_time": "2022-04-08T18:21:04.798685",
     "status": "completed"
    },
    "tags": []
   },
   "source": [
    "# Description"
   ]
  },
  {
   "cell_type": "markdown",
   "id": "0abb1d73-c786-4c6d-9dc2-b9243e5183e2",
   "metadata": {
    "papermill": {
     "duration": 0.009866,
     "end_time": "2022-04-08T18:21:04.834287",
     "exception": false,
     "start_time": "2022-04-08T18:21:04.824421",
     "status": "completed"
    },
    "tags": []
   },
   "source": [
    "TODO"
   ]
  },
  {
   "cell_type": "markdown",
   "id": "d6252b4c-6d56-4cf0-aecd-5d8c769a3609",
   "metadata": {
    "papermill": {
     "duration": 0.004719,
     "end_time": "2022-04-08T18:21:04.845427",
     "exception": false,
     "start_time": "2022-04-08T18:21:04.840708",
     "status": "completed"
    },
    "tags": []
   },
   "source": [
    "# Modules loading"
   ]
  },
  {
   "cell_type": "markdown",
   "id": "d31be5d5-739c-4bec-8409-69f5b6045326",
   "metadata": {
    "papermill": {
     "duration": 0.003509,
     "end_time": "2022-04-08T18:21:04.853056",
     "exception": false,
     "start_time": "2022-04-08T18:21:04.849547",
     "status": "completed"
    },
    "tags": []
   },
   "source": [
    "Make sure only one core is used everywhere."
   ]
  },
  {
   "cell_type": "code",
   "execution_count": 1,
   "id": "ea7d30d5-da78-454a-a4ff-e6307bfdbb37",
   "metadata": {
    "execution": {
     "iopub.execute_input": "2022-04-08T18:21:04.860512Z",
     "iopub.status.busy": "2022-04-08T18:21:04.860300Z",
     "iopub.status.idle": "2022-04-08T18:21:04.872210Z",
     "shell.execute_reply": "2022-04-08T18:21:04.871690Z"
    },
    "papermill": {
     "duration": 0.017158,
     "end_time": "2022-04-08T18:21:04.873644",
     "exception": false,
     "start_time": "2022-04-08T18:21:04.856486",
     "status": "completed"
    },
    "tags": []
   },
   "outputs": [
    {
     "name": "stdout",
     "output_type": "stream",
     "text": [
      "env: CM_N_JOBS=1\n",
      "env: NUMBA_NUM_THREADS=1\n",
      "env: MKL_NUM_THREADS=1\n",
      "env: OPEN_BLAS_NUM_THREADS=1\n",
      "env: NUMEXPR_NUM_THREADS=1\n",
      "env: OMP_NUM_THREADS=1\n"
     ]
    }
   ],
   "source": [
    "%env CM_N_JOBS=1\n",
    "%env NUMBA_NUM_THREADS=1\n",
    "%env MKL_NUM_THREADS=1\n",
    "%env OPEN_BLAS_NUM_THREADS=1\n",
    "%env NUMEXPR_NUM_THREADS=1\n",
    "%env OMP_NUM_THREADS=1"
   ]
  },
  {
   "cell_type": "code",
   "execution_count": 2,
   "id": "77e9d29d-5307-4b4a-b103-7d1fbd6a7e56",
   "metadata": {
    "execution": {
     "iopub.execute_input": "2022-04-08T18:21:04.880335Z",
     "iopub.status.busy": "2022-04-08T18:21:04.880143Z",
     "iopub.status.idle": "2022-04-08T18:21:05.548654Z",
     "shell.execute_reply": "2022-04-08T18:21:05.548111Z"
    },
    "papermill": {
     "duration": 0.673595,
     "end_time": "2022-04-08T18:21:05.550283",
     "exception": false,
     "start_time": "2022-04-08T18:21:04.876688",
     "status": "completed"
    },
    "tags": []
   },
   "outputs": [],
   "source": [
    "from time import time\n",
    "\n",
    "import numpy as np\n",
    "import pandas as pd\n",
    "from scipy.stats import pearsonr, spearmanr\n",
    "\n",
    "from clustermatch import conf\n",
    "from clustermatch.coef import cm\n",
    "from clustermatch.methods import mic"
   ]
  },
  {
   "cell_type": "markdown",
   "id": "262eb535-3e5d-43d7-9efd-bd6cfdac9190",
   "metadata": {
    "papermill": {
     "duration": 0.002661,
     "end_time": "2022-04-08T18:21:05.556795",
     "exception": false,
     "start_time": "2022-04-08T18:21:05.554134",
     "status": "completed"
    },
    "tags": []
   },
   "source": [
    "# Settings"
   ]
  },
  {
   "cell_type": "code",
   "execution_count": 3,
   "id": "311cc161-c947-447e-b622-6df22ad0e03a",
   "metadata": {
    "execution": {
     "iopub.execute_input": "2022-04-08T18:21:05.563398Z",
     "iopub.status.busy": "2022-04-08T18:21:05.563187Z",
     "iopub.status.idle": "2022-04-08T18:21:05.566737Z",
     "shell.execute_reply": "2022-04-08T18:21:05.566184Z"
    },
    "papermill": {
     "duration": 0.008461,
     "end_time": "2022-04-08T18:21:05.568081",
     "exception": false,
     "start_time": "2022-04-08T18:21:05.559620",
     "status": "completed"
    },
    "tags": []
   },
   "outputs": [],
   "source": [
    "OUTPUT_FILENAME = \"time_test.pkl\""
   ]
  },
  {
   "cell_type": "code",
   "execution_count": 4,
   "id": "2d2bd14a-a40d-4710-98c2-587148d0f532",
   "metadata": {
    "execution": {
     "iopub.execute_input": "2022-04-08T18:21:05.574771Z",
     "iopub.status.busy": "2022-04-08T18:21:05.574621Z",
     "iopub.status.idle": "2022-04-08T18:21:05.577745Z",
     "shell.execute_reply": "2022-04-08T18:21:05.577309Z"
    },
    "papermill": {
     "duration": 0.007826,
     "end_time": "2022-04-08T18:21:05.578984",
     "exception": false,
     "start_time": "2022-04-08T18:21:05.571158",
     "status": "completed"
    },
    "tags": []
   },
   "outputs": [],
   "source": [
    "DATA_SIZES = [\n",
    "    100,\n",
    "    500,\n",
    "    1000,\n",
    "    5000,\n",
    "    10000,\n",
    "    50000,\n",
    "    100000,\n",
    "    1000000,\n",
    "]\n",
    "\n",
    "N_REPS = 10"
   ]
  },
  {
   "cell_type": "code",
   "execution_count": 5,
   "id": "d24607ca-2774-4e51-b392-538c85c86052",
   "metadata": {
    "execution": {
     "iopub.execute_input": "2022-04-08T18:21:05.585597Z",
     "iopub.status.busy": "2022-04-08T18:21:05.585405Z",
     "iopub.status.idle": "2022-04-08T18:21:05.588705Z",
     "shell.execute_reply": "2022-04-08T18:21:05.588320Z"
    },
    "papermill": {
     "duration": 0.008049,
     "end_time": "2022-04-08T18:21:05.590037",
     "exception": false,
     "start_time": "2022-04-08T18:21:05.581988",
     "status": "completed"
    },
    "tags": []
   },
   "outputs": [],
   "source": [
    "np.random.seed(0)"
   ]
  },
  {
   "cell_type": "markdown",
   "id": "eec9bb6d-4ba2-4817-9b36-bc8e68a2beae",
   "metadata": {
    "papermill": {
     "duration": 0.002733,
     "end_time": "2022-04-08T18:21:05.595700",
     "exception": false,
     "start_time": "2022-04-08T18:21:05.592967",
     "status": "completed"
    },
    "tags": []
   },
   "source": [
    "# Paths"
   ]
  },
  {
   "cell_type": "code",
   "execution_count": 6,
   "id": "ee9e6b70-9abd-4714-9ce5-49c270a1b0be",
   "metadata": {
    "execution": {
     "iopub.execute_input": "2022-04-08T18:21:05.602183Z",
     "iopub.status.busy": "2022-04-08T18:21:05.601978Z",
     "iopub.status.idle": "2022-04-08T18:21:05.610799Z",
     "shell.execute_reply": "2022-04-08T18:21:05.610335Z"
    },
    "papermill": {
     "duration": 0.013641,
     "end_time": "2022-04-08T18:21:05.612141",
     "exception": false,
     "start_time": "2022-04-08T18:21:05.598500",
     "status": "completed"
    },
    "tags": []
   },
   "outputs": [
    {
     "data": {
      "text/plain": [
       "PosixPath('/opt/data/results/time_test')"
      ]
     },
     "metadata": {},
     "output_type": "display_data"
    }
   ],
   "source": [
    "OUTPUT_DIR = conf.RESULTS_DIR / \"time_test\"\n",
    "OUTPUT_DIR.mkdir(parents=True, exist_ok=True)\n",
    "display(OUTPUT_DIR)"
   ]
  },
  {
   "cell_type": "markdown",
   "id": "9cb68076-f855-45c8-9843-ce2d93bdc4e7",
   "metadata": {
    "papermill": {
     "duration": 0.002848,
     "end_time": "2022-04-08T18:21:05.618123",
     "exception": false,
     "start_time": "2022-04-08T18:21:05.615275",
     "status": "completed"
    },
    "tags": []
   },
   "source": [
    "# Functions"
   ]
  },
  {
   "cell_type": "code",
   "execution_count": 7,
   "id": "e2c25ecf-0d87-4447-a9ff-a3b511629a61",
   "metadata": {
    "execution": {
     "iopub.execute_input": "2022-04-08T18:21:05.624777Z",
     "iopub.status.busy": "2022-04-08T18:21:05.624592Z",
     "iopub.status.idle": "2022-04-08T18:21:05.630155Z",
     "shell.execute_reply": "2022-04-08T18:21:05.629671Z"
    },
    "papermill": {
     "duration": 0.010377,
     "end_time": "2022-04-08T18:21:05.631433",
     "exception": false,
     "start_time": "2022-04-08T18:21:05.621056",
     "status": "completed"
    },
    "tags": []
   },
   "outputs": [],
   "source": [
    "time_results = pd.DataFrame(columns=[\"data_size\", \"method\", \"time\", \"sim\"])"
   ]
  },
  {
   "cell_type": "code",
   "execution_count": 8,
   "id": "ffc0d8de-79a6-4ab8-8cc2-5b720392a0e6",
   "metadata": {
    "execution": {
     "iopub.execute_input": "2022-04-08T18:21:05.638229Z",
     "iopub.status.busy": "2022-04-08T18:21:05.638055Z",
     "iopub.status.idle": "2022-04-08T18:21:05.642645Z",
     "shell.execute_reply": "2022-04-08T18:21:05.642260Z"
    },
    "papermill": {
     "duration": 0.009468,
     "end_time": "2022-04-08T18:21:05.643952",
     "exception": false,
     "start_time": "2022-04-08T18:21:05.634484",
     "status": "completed"
    },
    "tags": []
   },
   "outputs": [],
   "source": [
    "def run_method(func, method_name, size):\n",
    "    n_reps = N_REPS\n",
    "    if size < 500:\n",
    "        n_reps = 1000\n",
    "\n",
    "    for r in range(n_reps):\n",
    "        d1 = np.random.rand(size)\n",
    "        d2 = np.random.rand(size)\n",
    "\n",
    "        start_time = time()\n",
    "        sim = func(d1, d2)\n",
    "        end_time = time()\n",
    "        met_time = end_time - start_time\n",
    "\n",
    "        idx = time_results.shape[0]\n",
    "        time_results.loc[idx] = [d1.shape[0], method_name, met_time, sim]"
   ]
  },
  {
   "cell_type": "markdown",
   "id": "7656ffa5-c9c3-41f5-aeb5-21bde8836e81",
   "metadata": {
    "papermill": {
     "duration": 0.002808,
     "end_time": "2022-04-08T18:21:05.649828",
     "exception": false,
     "start_time": "2022-04-08T18:21:05.647020",
     "status": "completed"
    },
    "tags": []
   },
   "source": [
    "# Run"
   ]
  },
  {
   "cell_type": "code",
   "execution_count": 9,
   "id": "3e4fac59-34a7-4b63-8aa0-e845c0a156af",
   "metadata": {
    "execution": {
     "iopub.execute_input": "2022-04-08T18:21:05.656420Z",
     "iopub.status.busy": "2022-04-08T18:21:05.656268Z",
     "iopub.status.idle": "2022-04-08T18:21:05.753986Z",
     "shell.execute_reply": "2022-04-08T18:21:05.753442Z"
    },
    "papermill": {
     "duration": 0.102591,
     "end_time": "2022-04-08T18:21:05.755332",
     "exception": false,
     "start_time": "2022-04-08T18:21:05.652741",
     "status": "completed"
    },
    "tags": []
   },
   "outputs": [
    {
     "data": {
      "text/plain": [
       "0.02047038824894002"
      ]
     },
     "execution_count": 9,
     "metadata": {},
     "output_type": "execute_result"
    }
   ],
   "source": [
    "# initialize methods\n",
    "cm(np.random.rand(100), np.random.rand(100))"
   ]
  },
  {
   "cell_type": "code",
   "execution_count": 10,
   "id": "e3f26ab4-ec59-4e8f-b887-14abc2cc7cae",
   "metadata": {
    "execution": {
     "iopub.execute_input": "2022-04-08T18:21:05.762410Z",
     "iopub.status.busy": "2022-04-08T18:21:05.762257Z",
     "iopub.status.idle": "2022-04-08T18:27:19.481180Z",
     "shell.execute_reply": "2022-04-08T18:27:19.480639Z"
    },
    "papermill": {
     "duration": 373.727611,
     "end_time": "2022-04-08T18:27:19.486146",
     "exception": false,
     "start_time": "2022-04-08T18:21:05.758535",
     "status": "completed"
    },
    "tags": []
   },
   "outputs": [
    {
     "name": "stdout",
     "output_type": "stream",
     "text": [
      "Size: 100\n",
      "  p\n",
      "  s\n",
      "  cm\n",
      "  mic_e\n",
      "  mic\n",
      "Saving to pickle\n",
      "Size: 500\n",
      "  p\n",
      "  s\n",
      "  cm\n",
      "  mic_e\n",
      "  mic\n",
      "Saving to pickle\n",
      "Size: 1000\n",
      "  p\n",
      "  s\n",
      "  cm\n",
      "  mic_e\n",
      "  mic\n",
      "Saving to pickle\n",
      "Size: 5000\n",
      "  p\n",
      "  s\n",
      "  cm\n",
      "  mic_e\n",
      "  mic\n",
      "Saving to pickle\n",
      "Size: 10000\n",
      "  p\n",
      "  s\n",
      "  cm\n",
      "  mic_e\n",
      "  mic\n",
      "Saving to pickle\n",
      "Size: 50000\n",
      "  p\n",
      "  s\n",
      "  cm\n",
      "  mic_e\n",
      "Saving to pickle\n",
      "Size: 100000\n",
      "  p\n",
      "  s\n",
      "  cm\n",
      "Saving to pickle\n",
      "Size: 1000000\n",
      "  p\n",
      "  s\n",
      "  cm\n",
      "Saving to pickle\n"
     ]
    }
   ],
   "source": [
    "for s in DATA_SIZES:\n",
    "    print(f\"Size: {s}\")\n",
    "\n",
    "    print(f\"  p\")\n",
    "    run_method(lambda x, y: pearsonr(x, y)[0], \"p-1\", s)\n",
    "\n",
    "    print(f\"  s\")\n",
    "    run_method(lambda x, y: spearmanr(x, y)[0], \"s-1\", s)\n",
    "\n",
    "    print(f\"  cm\")\n",
    "    run_method(lambda x, y: cm(x, y), \"cm-1\", s)\n",
    "\n",
    "    if s <= 50000:\n",
    "        print(f\"  mic_e\")\n",
    "        run_method(lambda x, y: mic(x, y, estimator=\"mic_e\"), \"mic_e-1\", s)\n",
    "\n",
    "    if s <= 10000:\n",
    "        print(f\"  mic\")\n",
    "        run_method(lambda x, y: mic(x, y), \"mic-1\", s)\n",
    "\n",
    "    print(\"Saving to pickle\")\n",
    "    time_results.to_pickle(OUTPUT_DIR / OUTPUT_FILENAME)"
   ]
  },
  {
   "cell_type": "code",
   "execution_count": null,
   "id": "3846d7bb-67fe-4084-afe8-d7226fbef0f1",
   "metadata": {
    "papermill": {
     "duration": 0.003883,
     "end_time": "2022-04-08T18:27:19.494203",
     "exception": false,
     "start_time": "2022-04-08T18:27:19.490320",
     "status": "completed"
    },
    "tags": []
   },
   "outputs": [],
   "source": []
  }
 ],
 "metadata": {
  "jupytext": {
   "cell_metadata_filter": "all,-execution,-papermill,-trusted"
  },
  "kernelspec": {
   "display_name": "Python 3 (ipykernel)",
   "language": "python",
   "name": "python3"
  },
  "language_info": {
   "codemirror_mode": {
    "name": "ipython",
    "version": 3
   },
   "file_extension": ".py",
   "mimetype": "text/x-python",
   "name": "python",
   "nbconvert_exporter": "python",
   "pygments_lexer": "ipython3",
   "version": "3.9.12"
  },
  "papermill": {
   "default_parameters": {},
   "duration": 376.203601,
   "end_time": "2022-04-08T18:27:19.816437",
   "environment_variables": {},
   "exception": null,
   "input_path": "nbs/20_comparison_others/60-time_test-1_cpu_core.ipynb",
   "output_path": "nbs/20_comparison_others/60-time_test-1_cpu_core.run.ipynb",
   "parameters": {
    "GTEX_TISSUE": "skin_sun_exposed_lower_leg"
   },
   "start_time": "2022-04-08T18:21:03.612836",
   "version": "2.3.3"
  }
 },
 "nbformat": 4,
 "nbformat_minor": 5
}
