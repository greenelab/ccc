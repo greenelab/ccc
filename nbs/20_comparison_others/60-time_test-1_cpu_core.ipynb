{
 "cells": [
  {
   "cell_type": "markdown",
   "id": "c1948eb4-fb63-4fad-8243-bcd57b98def3",
   "metadata": {
    "papermill": {
     "duration": 0.013366,
     "end_time": "2022-04-27T13:24:07.411724",
     "exception": false,
     "start_time": "2022-04-27T13:24:07.398358",
     "status": "completed"
    },
    "tags": []
   },
   "source": [
    "# Description"
   ]
  },
  {
   "cell_type": "markdown",
   "id": "0abb1d73-c786-4c6d-9dc2-b9243e5183e2",
   "metadata": {
    "papermill": {
     "duration": 0.008963,
     "end_time": "2022-04-27T13:24:07.432748",
     "exception": false,
     "start_time": "2022-04-27T13:24:07.423785",
     "status": "completed"
    },
    "tags": []
   },
   "source": [
    "It generates random variables of varying sizes to compare the time taken by CCC and MIC.\n",
    "\n",
    "This notebook uses 1 CPU core."
   ]
  },
  {
   "cell_type": "markdown",
   "id": "d6252b4c-6d56-4cf0-aecd-5d8c769a3609",
   "metadata": {
    "papermill": {
     "duration": 0.00443,
     "end_time": "2022-04-27T13:24:07.443096",
     "exception": false,
     "start_time": "2022-04-27T13:24:07.438666",
     "status": "completed"
    },
    "tags": []
   },
   "source": [
    "# Modules loading"
   ]
  },
  {
   "cell_type": "markdown",
   "id": "d31be5d5-739c-4bec-8409-69f5b6045326",
   "metadata": {
    "papermill": {
     "duration": 0.003354,
     "end_time": "2022-04-27T13:24:07.450450",
     "exception": false,
     "start_time": "2022-04-27T13:24:07.447096",
     "status": "completed"
    },
    "tags": []
   },
   "source": [
    "Make sure only one core is used everywhere."
   ]
  },
  {
   "cell_type": "code",
   "execution_count": 1,
   "id": "ea7d30d5-da78-454a-a4ff-e6307bfdbb37",
   "metadata": {
    "execution": {
     "iopub.execute_input": "2022-04-27T13:24:07.457653Z",
     "iopub.status.busy": "2022-04-27T13:24:07.457441Z",
     "iopub.status.idle": "2022-04-27T13:24:07.469096Z",
     "shell.execute_reply": "2022-04-27T13:24:07.468562Z"
    },
    "papermill": {
     "duration": 0.016852,
     "end_time": "2022-04-27T13:24:07.470605",
     "exception": false,
     "start_time": "2022-04-27T13:24:07.453753",
     "status": "completed"
    },
    "tags": []
   },
   "outputs": [
    {
     "name": "stdout",
     "output_type": "stream",
     "text": [
      "env: CM_N_JOBS=1\n",
      "env: NUMBA_NUM_THREADS=1\n",
      "env: MKL_NUM_THREADS=1\n",
      "env: OPEN_BLAS_NUM_THREADS=1\n",
      "env: NUMEXPR_NUM_THREADS=1\n",
      "env: OMP_NUM_THREADS=1\n"
     ]
    }
   ],
   "source": [
    "%env CM_N_JOBS=1\n",
    "%env NUMBA_NUM_THREADS=1\n",
    "%env MKL_NUM_THREADS=1\n",
    "%env OPEN_BLAS_NUM_THREADS=1\n",
    "%env NUMEXPR_NUM_THREADS=1\n",
    "%env OMP_NUM_THREADS=1"
   ]
  },
  {
   "cell_type": "code",
   "execution_count": 2,
   "id": "77e9d29d-5307-4b4a-b103-7d1fbd6a7e56",
   "metadata": {
    "execution": {
     "iopub.execute_input": "2022-04-27T13:24:07.478260Z",
     "iopub.status.busy": "2022-04-27T13:24:07.478068Z",
     "iopub.status.idle": "2022-04-27T13:24:08.145443Z",
     "shell.execute_reply": "2022-04-27T13:24:08.144904Z"
    },
    "papermill": {
     "duration": 0.672531,
     "end_time": "2022-04-27T13:24:08.147104",
     "exception": false,
     "start_time": "2022-04-27T13:24:07.474573",
     "status": "completed"
    },
    "tags": []
   },
   "outputs": [],
   "source": [
    "from time import time\n",
    "\n",
    "import numpy as np\n",
    "import pandas as pd\n",
    "from scipy.stats import pearsonr, spearmanr\n",
    "\n",
    "from clustermatch import conf\n",
    "from clustermatch.coef import cm\n",
    "from clustermatch.methods import mic"
   ]
  },
  {
   "cell_type": "markdown",
   "id": "262eb535-3e5d-43d7-9efd-bd6cfdac9190",
   "metadata": {
    "papermill": {
     "duration": 0.002795,
     "end_time": "2022-04-27T13:24:08.152926",
     "exception": false,
     "start_time": "2022-04-27T13:24:08.150131",
     "status": "completed"
    },
    "tags": []
   },
   "source": [
    "# Settings"
   ]
  },
  {
   "cell_type": "code",
   "execution_count": 3,
   "id": "311cc161-c947-447e-b622-6df22ad0e03a",
   "metadata": {
    "execution": {
     "iopub.execute_input": "2022-04-27T13:24:08.159502Z",
     "iopub.status.busy": "2022-04-27T13:24:08.159276Z",
     "iopub.status.idle": "2022-04-27T13:24:08.162603Z",
     "shell.execute_reply": "2022-04-27T13:24:08.162071Z"
    },
    "papermill": {
     "duration": 0.008081,
     "end_time": "2022-04-27T13:24:08.163936",
     "exception": false,
     "start_time": "2022-04-27T13:24:08.155855",
     "status": "completed"
    },
    "tags": []
   },
   "outputs": [],
   "source": [
    "OUTPUT_FILENAME = \"time_test.pkl\""
   ]
  },
  {
   "cell_type": "code",
   "execution_count": 4,
   "id": "2d2bd14a-a40d-4710-98c2-587148d0f532",
   "metadata": {
    "execution": {
     "iopub.execute_input": "2022-04-27T13:24:08.170547Z",
     "iopub.status.busy": "2022-04-27T13:24:08.170364Z",
     "iopub.status.idle": "2022-04-27T13:24:08.173751Z",
     "shell.execute_reply": "2022-04-27T13:24:08.173289Z"
    },
    "papermill": {
     "duration": 0.008152,
     "end_time": "2022-04-27T13:24:08.175012",
     "exception": false,
     "start_time": "2022-04-27T13:24:08.166860",
     "status": "completed"
    },
    "tags": []
   },
   "outputs": [],
   "source": [
    "DATA_SIZES = [\n",
    "    100,\n",
    "    500,\n",
    "    1000,\n",
    "    5000,\n",
    "    10000,\n",
    "    50000,\n",
    "    100000,\n",
    "    1000000,\n",
    "]\n",
    "\n",
    "N_REPS = 10"
   ]
  },
  {
   "cell_type": "code",
   "execution_count": 5,
   "id": "d24607ca-2774-4e51-b392-538c85c86052",
   "metadata": {
    "execution": {
     "iopub.execute_input": "2022-04-27T13:24:08.181778Z",
     "iopub.status.busy": "2022-04-27T13:24:08.181599Z",
     "iopub.status.idle": "2022-04-27T13:24:08.184444Z",
     "shell.execute_reply": "2022-04-27T13:24:08.184061Z"
    },
    "papermill": {
     "duration": 0.007612,
     "end_time": "2022-04-27T13:24:08.185729",
     "exception": false,
     "start_time": "2022-04-27T13:24:08.178117",
     "status": "completed"
    },
    "tags": []
   },
   "outputs": [],
   "source": [
    "np.random.seed(0)"
   ]
  },
  {
   "cell_type": "markdown",
   "id": "eec9bb6d-4ba2-4817-9b36-bc8e68a2beae",
   "metadata": {
    "papermill": {
     "duration": 0.002937,
     "end_time": "2022-04-27T13:24:08.191843",
     "exception": false,
     "start_time": "2022-04-27T13:24:08.188906",
     "status": "completed"
    },
    "tags": []
   },
   "source": [
    "# Paths"
   ]
  },
  {
   "cell_type": "code",
   "execution_count": 6,
   "id": "ee9e6b70-9abd-4714-9ce5-49c270a1b0be",
   "metadata": {
    "execution": {
     "iopub.execute_input": "2022-04-27T13:24:08.198755Z",
     "iopub.status.busy": "2022-04-27T13:24:08.198596Z",
     "iopub.status.idle": "2022-04-27T13:24:08.208202Z",
     "shell.execute_reply": "2022-04-27T13:24:08.207719Z"
    },
    "papermill": {
     "duration": 0.014632,
     "end_time": "2022-04-27T13:24:08.209574",
     "exception": false,
     "start_time": "2022-04-27T13:24:08.194942",
     "status": "completed"
    },
    "tags": []
   },
   "outputs": [
    {
     "data": {
      "text/plain": [
       "PosixPath('/opt/data/results/time_test')"
      ]
     },
     "metadata": {},
     "output_type": "display_data"
    }
   ],
   "source": [
    "OUTPUT_DIR = conf.RESULTS_DIR / \"time_test\"\n",
    "OUTPUT_DIR.mkdir(parents=True, exist_ok=True)\n",
    "display(OUTPUT_DIR)"
   ]
  },
  {
   "cell_type": "markdown",
   "id": "9cb68076-f855-45c8-9843-ce2d93bdc4e7",
   "metadata": {
    "papermill": {
     "duration": 0.003057,
     "end_time": "2022-04-27T13:24:08.215931",
     "exception": false,
     "start_time": "2022-04-27T13:24:08.212874",
     "status": "completed"
    },
    "tags": []
   },
   "source": [
    "# Functions"
   ]
  },
  {
   "cell_type": "code",
   "execution_count": 7,
   "id": "e2c25ecf-0d87-4447-a9ff-a3b511629a61",
   "metadata": {
    "execution": {
     "iopub.execute_input": "2022-04-27T13:24:08.223080Z",
     "iopub.status.busy": "2022-04-27T13:24:08.222917Z",
     "iopub.status.idle": "2022-04-27T13:24:08.227698Z",
     "shell.execute_reply": "2022-04-27T13:24:08.227144Z"
    },
    "papermill": {
     "duration": 0.009819,
     "end_time": "2022-04-27T13:24:08.228964",
     "exception": false,
     "start_time": "2022-04-27T13:24:08.219145",
     "status": "completed"
    },
    "tags": []
   },
   "outputs": [],
   "source": [
    "time_results = pd.DataFrame(columns=[\"data_size\", \"method\", \"time\", \"sim\"])"
   ]
  },
  {
   "cell_type": "code",
   "execution_count": 8,
   "id": "ffc0d8de-79a6-4ab8-8cc2-5b720392a0e6",
   "metadata": {
    "execution": {
     "iopub.execute_input": "2022-04-27T13:24:08.236064Z",
     "iopub.status.busy": "2022-04-27T13:24:08.235913Z",
     "iopub.status.idle": "2022-04-27T13:24:08.240406Z",
     "shell.execute_reply": "2022-04-27T13:24:08.239868Z"
    },
    "papermill": {
     "duration": 0.009469,
     "end_time": "2022-04-27T13:24:08.241706",
     "exception": false,
     "start_time": "2022-04-27T13:24:08.232237",
     "status": "completed"
    },
    "tags": []
   },
   "outputs": [],
   "source": [
    "def run_method(func, method_name, size):\n",
    "    n_reps = N_REPS\n",
    "    if size < 500:\n",
    "        n_reps = 1000\n",
    "\n",
    "    for r in range(n_reps):\n",
    "        d1 = np.random.rand(size)\n",
    "        d2 = np.random.rand(size)\n",
    "\n",
    "        start_time = time()\n",
    "        sim = func(d1, d2)\n",
    "        end_time = time()\n",
    "        met_time = end_time - start_time\n",
    "\n",
    "        idx = time_results.shape[0]\n",
    "        time_results.loc[idx] = [d1.shape[0], method_name, met_time, sim]"
   ]
  },
  {
   "cell_type": "markdown",
   "id": "7656ffa5-c9c3-41f5-aeb5-21bde8836e81",
   "metadata": {
    "papermill": {
     "duration": 0.003035,
     "end_time": "2022-04-27T13:24:08.248033",
     "exception": false,
     "start_time": "2022-04-27T13:24:08.244998",
     "status": "completed"
    },
    "tags": []
   },
   "source": [
    "# Run"
   ]
  },
  {
   "cell_type": "code",
   "execution_count": 9,
   "id": "3e4fac59-34a7-4b63-8aa0-e845c0a156af",
   "metadata": {
    "execution": {
     "iopub.execute_input": "2022-04-27T13:24:08.255113Z",
     "iopub.status.busy": "2022-04-27T13:24:08.254901Z",
     "iopub.status.idle": "2022-04-27T13:24:08.353325Z",
     "shell.execute_reply": "2022-04-27T13:24:08.352736Z"
    },
    "papermill": {
     "duration": 0.10359,
     "end_time": "2022-04-27T13:24:08.354760",
     "exception": false,
     "start_time": "2022-04-27T13:24:08.251170",
     "status": "completed"
    },
    "tags": []
   },
   "outputs": [
    {
     "data": {
      "text/plain": [
       "0.02047038824894002"
      ]
     },
     "execution_count": 9,
     "metadata": {},
     "output_type": "execute_result"
    }
   ],
   "source": [
    "# initialize methods\n",
    "cm(np.random.rand(100), np.random.rand(100))"
   ]
  },
  {
   "cell_type": "code",
   "execution_count": 10,
   "id": "e3f26ab4-ec59-4e8f-b887-14abc2cc7cae",
   "metadata": {
    "execution": {
     "iopub.execute_input": "2022-04-27T13:24:08.362206Z",
     "iopub.status.busy": "2022-04-27T13:24:08.362019Z",
     "iopub.status.idle": "2022-04-27T13:30:21.701298Z",
     "shell.execute_reply": "2022-04-27T13:30:21.700619Z"
    },
    "papermill": {
     "duration": 373.348302,
     "end_time": "2022-04-27T13:30:21.706406",
     "exception": false,
     "start_time": "2022-04-27T13:24:08.358104",
     "status": "completed"
    },
    "tags": []
   },
   "outputs": [
    {
     "name": "stdout",
     "output_type": "stream",
     "text": [
      "Size: 100\n",
      "  p\n",
      "  s\n",
      "  cm\n",
      "  mic_e\n",
      "  mic\n",
      "Saving to pickle\n",
      "\n",
      "\n",
      "Size: 500\n",
      "  p\n",
      "  s\n",
      "  cm\n",
      "  mic_e\n",
      "  mic\n",
      "Saving to pickle\n",
      "\n",
      "\n",
      "Size: 1000\n",
      "  p\n",
      "  s\n",
      "  cm\n",
      "  mic_e\n",
      "  mic\n",
      "Saving to pickle\n",
      "\n",
      "\n",
      "Size: 5000\n",
      "  p\n",
      "  s\n",
      "  cm\n",
      "  mic_e\n",
      "  mic\n",
      "Saving to pickle\n",
      "\n",
      "\n",
      "Size: 10000\n",
      "  p\n",
      "  s\n",
      "  cm\n",
      "  mic_e\n",
      "  mic\n",
      "Saving to pickle\n",
      "\n",
      "\n",
      "Size: 50000\n",
      "  p\n",
      "  s\n",
      "  cm\n",
      "  mic_e\n",
      "Saving to pickle\n",
      "\n",
      "\n",
      "Size: 100000\n",
      "  p\n",
      "  s\n",
      "  cm\n",
      "Saving to pickle\n",
      "\n",
      "\n",
      "Size: 1000000\n",
      "  p\n",
      "  s\n",
      "  cm\n",
      "Saving to pickle\n",
      "\n",
      "\n"
     ]
    }
   ],
   "source": [
    "for s in DATA_SIZES:\n",
    "    print(f\"Size: {s}\")\n",
    "\n",
    "    print(\"  p\")\n",
    "    run_method(lambda x, y: pearsonr(x, y)[0], \"p-1\", s)\n",
    "\n",
    "    print(\"  s\")\n",
    "    run_method(lambda x, y: spearmanr(x, y)[0], \"s-1\", s)\n",
    "\n",
    "    print(\"  cm\")\n",
    "    run_method(lambda x, y: cm(x, y), \"cm-1\", s)\n",
    "\n",
    "    if s <= 50000:\n",
    "        print(\"  mic_e\")\n",
    "        run_method(lambda x, y: mic(x, y, estimator=\"mic_e\"), \"mic_e-1\", s)\n",
    "\n",
    "    if s <= 10000:\n",
    "        print(\"  mic\")\n",
    "        run_method(lambda x, y: mic(x, y), \"mic-1\", s)\n",
    "\n",
    "    print(\"Saving to pickle\")\n",
    "    time_results.to_pickle(OUTPUT_DIR / OUTPUT_FILENAME)\n",
    "\n",
    "    print(\"\\n\")"
   ]
  },
  {
   "cell_type": "markdown",
   "id": "2354576e-8a81-48a9-84e4-08e8a990740e",
   "metadata": {
    "papermill": {
     "duration": 0.008047,
     "end_time": "2022-04-27T13:30:22.610818",
     "exception": false,
     "start_time": "2022-04-27T13:30:22.602771",
     "status": "completed"
    },
    "tags": []
   },
   "source": [
    "# Summary of results"
   ]
  },
  {
   "cell_type": "code",
   "execution_count": 11,
   "id": "e2876c4e-cc31-45ca-aa8c-61ab38ddd9b9",
   "metadata": {
    "execution": {
     "iopub.execute_input": "2022-04-27T13:30:22.620348Z",
     "iopub.status.busy": "2022-04-27T13:30:22.620176Z",
     "iopub.status.idle": "2022-04-27T13:30:22.623888Z",
     "shell.execute_reply": "2022-04-27T13:30:22.623523Z"
    },
    "papermill": {
     "duration": 0.00999,
     "end_time": "2022-04-27T13:30:22.625091",
     "exception": false,
     "start_time": "2022-04-27T13:30:22.615101",
     "status": "completed"
    },
    "tags": []
   },
   "outputs": [
    {
     "data": {
      "text/plain": [
       "(5300, 4)"
      ]
     },
     "execution_count": 11,
     "metadata": {},
     "output_type": "execute_result"
    }
   ],
   "source": [
    "time_results.shape"
   ]
  },
  {
   "cell_type": "code",
   "execution_count": 12,
   "id": "8e863af1-aa4e-4302-9093-1729797af641",
   "metadata": {
    "execution": {
     "iopub.execute_input": "2022-04-27T13:30:22.635079Z",
     "iopub.status.busy": "2022-04-27T13:30:22.634890Z",
     "iopub.status.idle": "2022-04-27T13:30:22.643957Z",
     "shell.execute_reply": "2022-04-27T13:30:22.643374Z"
    },
    "papermill": {
     "duration": 0.015743,
     "end_time": "2022-04-27T13:30:22.645308",
     "exception": false,
     "start_time": "2022-04-27T13:30:22.629565",
     "status": "completed"
    },
    "tags": []
   },
   "outputs": [
    {
     "data": {
      "text/html": [
       "<div>\n",
       "<style scoped>\n",
       "    .dataframe tbody tr th:only-of-type {\n",
       "        vertical-align: middle;\n",
       "    }\n",
       "\n",
       "    .dataframe tbody tr th {\n",
       "        vertical-align: top;\n",
       "    }\n",
       "\n",
       "    .dataframe thead th {\n",
       "        text-align: right;\n",
       "    }\n",
       "</style>\n",
       "<table border=\"1\" class=\"dataframe\">\n",
       "  <thead>\n",
       "    <tr style=\"text-align: right;\">\n",
       "      <th></th>\n",
       "      <th>data_size</th>\n",
       "      <th>method</th>\n",
       "      <th>time</th>\n",
       "      <th>sim</th>\n",
       "    </tr>\n",
       "  </thead>\n",
       "  <tbody>\n",
       "    <tr>\n",
       "      <th>0</th>\n",
       "      <td>100</td>\n",
       "      <td>p-1</td>\n",
       "      <td>0.000232</td>\n",
       "      <td>-0.115117</td>\n",
       "    </tr>\n",
       "    <tr>\n",
       "      <th>1</th>\n",
       "      <td>100</td>\n",
       "      <td>p-1</td>\n",
       "      <td>0.000160</td>\n",
       "      <td>-0.050567</td>\n",
       "    </tr>\n",
       "    <tr>\n",
       "      <th>2</th>\n",
       "      <td>100</td>\n",
       "      <td>p-1</td>\n",
       "      <td>0.000129</td>\n",
       "      <td>0.215785</td>\n",
       "    </tr>\n",
       "    <tr>\n",
       "      <th>3</th>\n",
       "      <td>100</td>\n",
       "      <td>p-1</td>\n",
       "      <td>0.000114</td>\n",
       "      <td>0.020045</td>\n",
       "    </tr>\n",
       "    <tr>\n",
       "      <th>4</th>\n",
       "      <td>100</td>\n",
       "      <td>p-1</td>\n",
       "      <td>0.000123</td>\n",
       "      <td>0.053343</td>\n",
       "    </tr>\n",
       "  </tbody>\n",
       "</table>\n",
       "</div>"
      ],
      "text/plain": [
       "  data_size method      time       sim\n",
       "0       100    p-1  0.000232 -0.115117\n",
       "1       100    p-1  0.000160 -0.050567\n",
       "2       100    p-1  0.000129  0.215785\n",
       "3       100    p-1  0.000114  0.020045\n",
       "4       100    p-1  0.000123  0.053343"
      ]
     },
     "execution_count": 12,
     "metadata": {},
     "output_type": "execute_result"
    }
   ],
   "source": [
    "time_results.head()"
   ]
  },
  {
   "cell_type": "code",
   "execution_count": null,
   "id": "2d4ad769-2693-4e0b-829b-b9dfadf8d4da",
   "metadata": {
    "papermill": {
     "duration": 0.005,
     "end_time": "2022-04-27T13:30:22.655443",
     "exception": false,
     "start_time": "2022-04-27T13:30:22.650443",
     "status": "completed"
    },
    "tags": []
   },
   "outputs": [],
   "source": []
  }
 ],
 "metadata": {
  "jupytext": {
   "cell_metadata_filter": "all,-execution,-papermill,-trusted"
  },
  "kernelspec": {
   "display_name": "Python 3 (ipykernel)",
   "language": "python",
   "name": "python3"
  },
  "language_info": {
   "codemirror_mode": {
    "name": "ipython",
    "version": 3
   },
   "file_extension": ".py",
   "mimetype": "text/x-python",
   "name": "python",
   "nbconvert_exporter": "python",
   "pygments_lexer": "ipython3",
   "version": "3.9.12"
  },
  "papermill": {
   "default_parameters": {},
   "duration": 376.863147,
   "end_time": "2022-04-27T13:30:23.082242",
   "environment_variables": {},
   "exception": null,
   "input_path": "nbs/20_comparison_others/60-time_test-1_cpu_core.ipynb",
   "output_path": "nbs/20_comparison_others/60-time_test-1_cpu_core.run.ipynb",
   "parameters": {
    "GTEX_TISSUE": "skin_sun_exposed_lower_leg"
   },
   "start_time": "2022-04-27T13:24:06.219095",
   "version": "2.3.3"
  },
  "toc-autonumbering": true
 },
 "nbformat": 4,
 "nbformat_minor": 5
}
