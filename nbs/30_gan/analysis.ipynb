{
 "cells": [
  {
   "cell_type": "code",
   "execution_count": 1,
   "id": "5f7c0994-5990-4d0e-8be5-399cd0ef14ae",
   "metadata": {},
   "outputs": [],
   "source": [
    "import numpy as np\n",
    "from scipy import stats\n",
    "from scipy.spatial.distance import squareform\n",
    "import pandas as pd\n",
    "import matplotlib.pyplot as plt\n",
    "import seaborn as sns\n",
    "\n",
    "from clustermatch import conf\n",
    "from clustermatch.coef import cm"
   ]
  },
  {
   "cell_type": "code",
   "execution_count": 2,
   "id": "ce8fbf08-5724-444d-813c-133f90776272",
   "metadata": {},
   "outputs": [
    {
     "data": {
      "text/plain": [
       "PosixPath('/opt/data/data/gan_gene_expr')"
      ]
     },
     "metadata": {},
     "output_type": "display_data"
    }
   ],
   "source": [
    "INPUT_DIR = conf.DATA_DIR / \"gan_gene_expr\"\n",
    "display(INPUT_DIR)"
   ]
  },
  {
   "cell_type": "markdown",
   "id": "580594ed-143d-489a-aa6e-6940aedabe75",
   "metadata": {},
   "source": [
    "# Load data"
   ]
  },
  {
   "cell_type": "markdown",
   "id": "da943841-e2bb-4643-bc44-1e4d602477c8",
   "metadata": {},
   "source": [
    "## Top common genes"
   ]
  },
  {
   "cell_type": "code",
   "execution_count": 3,
   "id": "d3b4b222-3886-4f2c-9f62-693c0d782401",
   "metadata": {},
   "outputs": [],
   "source": [
    "common_top_genes = pd.read_pickle(\n",
    "    INPUT_DIR / \"cm_gen_test_top_10k_common_genes.pkl\"\n",
    ").to_list()"
   ]
  },
  {
   "cell_type": "code",
   "execution_count": 4,
   "id": "e6a0a3c0-d0b8-4ff4-affa-4fd94f2527f9",
   "metadata": {},
   "outputs": [
    {
     "data": {
      "text/plain": [
       "['MIOX', 'CTSO', 'SART1', 'TMED3', 'AC174470.1']"
      ]
     },
     "metadata": {},
     "output_type": "display_data"
    },
    {
     "data": {
      "text/plain": [
       "9550"
      ]
     },
     "metadata": {},
     "output_type": "display_data"
    }
   ],
   "source": [
    "display(common_top_genes[:5])\n",
    "display(len(common_top_genes))"
   ]
  },
  {
   "cell_type": "markdown",
   "id": "321179d8-041c-4d55-b94d-a184fcf35023",
   "metadata": {},
   "source": [
    "## Gene expression"
   ]
  },
  {
   "cell_type": "code",
   "execution_count": 5,
   "id": "f68bb421-82f5-4cea-9a54-f13acd832268",
   "metadata": {},
   "outputs": [],
   "source": [
    "gen_data = pd.read_csv(INPUT_DIR / \"gen.csv.gz\", usecols=common_top_genes).T"
   ]
  },
  {
   "cell_type": "code",
   "execution_count": 6,
   "id": "4d357bac-8056-4118-84ce-a69e7c709329",
   "metadata": {},
   "outputs": [
    {
     "data": {
      "text/plain": [
       "(9550, 2287)"
      ]
     },
     "execution_count": 6,
     "metadata": {},
     "output_type": "execute_result"
    }
   ],
   "source": [
    "gen_data.shape"
   ]
  },
  {
   "cell_type": "code",
   "execution_count": 7,
   "id": "f53e2395-295d-4cd6-bef4-7b85742366f2",
   "metadata": {},
   "outputs": [
    {
     "data": {
      "text/html": [
       "<div>\n",
       "<style scoped>\n",
       "    .dataframe tbody tr th:only-of-type {\n",
       "        vertical-align: middle;\n",
       "    }\n",
       "\n",
       "    .dataframe tbody tr th {\n",
       "        vertical-align: top;\n",
       "    }\n",
       "\n",
       "    .dataframe thead th {\n",
       "        text-align: right;\n",
       "    }\n",
       "</style>\n",
       "<table border=\"1\" class=\"dataframe\">\n",
       "  <thead>\n",
       "    <tr style=\"text-align: right;\">\n",
       "      <th></th>\n",
       "      <th>0</th>\n",
       "      <th>1</th>\n",
       "      <th>2</th>\n",
       "      <th>3</th>\n",
       "      <th>4</th>\n",
       "      <th>5</th>\n",
       "      <th>6</th>\n",
       "      <th>7</th>\n",
       "      <th>8</th>\n",
       "      <th>9</th>\n",
       "      <th>...</th>\n",
       "      <th>2277</th>\n",
       "      <th>2278</th>\n",
       "      <th>2279</th>\n",
       "      <th>2280</th>\n",
       "      <th>2281</th>\n",
       "      <th>2282</th>\n",
       "      <th>2283</th>\n",
       "      <th>2284</th>\n",
       "      <th>2285</th>\n",
       "      <th>2286</th>\n",
       "    </tr>\n",
       "  </thead>\n",
       "  <tbody>\n",
       "    <tr>\n",
       "      <th># A1BG</th>\n",
       "      <td>7.678043</td>\n",
       "      <td>7.597458</td>\n",
       "      <td>6.882055</td>\n",
       "      <td>6.459260</td>\n",
       "      <td>9.042332</td>\n",
       "      <td>8.253539</td>\n",
       "      <td>7.492997</td>\n",
       "      <td>7.531034</td>\n",
       "      <td>7.823243</td>\n",
       "      <td>5.986283</td>\n",
       "      <td>...</td>\n",
       "      <td>8.089632</td>\n",
       "      <td>5.844509</td>\n",
       "      <td>7.646577</td>\n",
       "      <td>8.180569</td>\n",
       "      <td>6.515561</td>\n",
       "      <td>7.771471</td>\n",
       "      <td>7.066572</td>\n",
       "      <td>8.094328</td>\n",
       "      <td>8.174788</td>\n",
       "      <td>7.449513</td>\n",
       "    </tr>\n",
       "    <tr>\n",
       "      <th>A2ML1</th>\n",
       "      <td>3.832314</td>\n",
       "      <td>4.320636</td>\n",
       "      <td>4.274152</td>\n",
       "      <td>4.152454</td>\n",
       "      <td>4.208704</td>\n",
       "      <td>4.021186</td>\n",
       "      <td>4.107302</td>\n",
       "      <td>3.931696</td>\n",
       "      <td>4.712249</td>\n",
       "      <td>3.765301</td>\n",
       "      <td>...</td>\n",
       "      <td>4.202005</td>\n",
       "      <td>4.011622</td>\n",
       "      <td>3.399579</td>\n",
       "      <td>3.773865</td>\n",
       "      <td>2.929681</td>\n",
       "      <td>3.503591</td>\n",
       "      <td>4.499823</td>\n",
       "      <td>4.077576</td>\n",
       "      <td>3.567192</td>\n",
       "      <td>3.410087</td>\n",
       "    </tr>\n",
       "    <tr>\n",
       "      <th>A4GALT</th>\n",
       "      <td>1.845389</td>\n",
       "      <td>0.480700</td>\n",
       "      <td>0.000000</td>\n",
       "      <td>0.000000</td>\n",
       "      <td>0.459255</td>\n",
       "      <td>0.919506</td>\n",
       "      <td>0.050989</td>\n",
       "      <td>1.287095</td>\n",
       "      <td>0.274694</td>\n",
       "      <td>0.048676</td>\n",
       "      <td>...</td>\n",
       "      <td>1.249955</td>\n",
       "      <td>0.000000</td>\n",
       "      <td>0.943636</td>\n",
       "      <td>0.659947</td>\n",
       "      <td>0.000000</td>\n",
       "      <td>0.731720</td>\n",
       "      <td>1.034761</td>\n",
       "      <td>1.281594</td>\n",
       "      <td>1.200440</td>\n",
       "      <td>0.639984</td>\n",
       "    </tr>\n",
       "    <tr>\n",
       "      <th>A4GNT</th>\n",
       "      <td>4.335992</td>\n",
       "      <td>6.124769</td>\n",
       "      <td>3.181957</td>\n",
       "      <td>5.139907</td>\n",
       "      <td>4.624022</td>\n",
       "      <td>5.574691</td>\n",
       "      <td>5.556801</td>\n",
       "      <td>5.591099</td>\n",
       "      <td>4.245649</td>\n",
       "      <td>5.262754</td>\n",
       "      <td>...</td>\n",
       "      <td>5.677505</td>\n",
       "      <td>4.377439</td>\n",
       "      <td>5.833736</td>\n",
       "      <td>4.960904</td>\n",
       "      <td>5.544774</td>\n",
       "      <td>6.050370</td>\n",
       "      <td>5.356156</td>\n",
       "      <td>6.843544</td>\n",
       "      <td>5.469534</td>\n",
       "      <td>4.445882</td>\n",
       "    </tr>\n",
       "    <tr>\n",
       "      <th>AACS</th>\n",
       "      <td>2.813128</td>\n",
       "      <td>4.505811</td>\n",
       "      <td>3.203328</td>\n",
       "      <td>3.190722</td>\n",
       "      <td>4.686558</td>\n",
       "      <td>4.675854</td>\n",
       "      <td>3.917901</td>\n",
       "      <td>4.979599</td>\n",
       "      <td>3.304450</td>\n",
       "      <td>4.598704</td>\n",
       "      <td>...</td>\n",
       "      <td>4.678609</td>\n",
       "      <td>4.431627</td>\n",
       "      <td>4.808063</td>\n",
       "      <td>4.525461</td>\n",
       "      <td>4.216599</td>\n",
       "      <td>3.640699</td>\n",
       "      <td>3.933522</td>\n",
       "      <td>4.644562</td>\n",
       "      <td>4.547818</td>\n",
       "      <td>4.172454</td>\n",
       "    </tr>\n",
       "  </tbody>\n",
       "</table>\n",
       "<p>5 rows × 2287 columns</p>\n",
       "</div>"
      ],
      "text/plain": [
       "            0         1         2         3         4         5         6     \\\n",
       "# A1BG  7.678043  7.597458  6.882055  6.459260  9.042332  8.253539  7.492997   \n",
       "A2ML1   3.832314  4.320636  4.274152  4.152454  4.208704  4.021186  4.107302   \n",
       "A4GALT  1.845389  0.480700  0.000000  0.000000  0.459255  0.919506  0.050989   \n",
       "A4GNT   4.335992  6.124769  3.181957  5.139907  4.624022  5.574691  5.556801   \n",
       "AACS    2.813128  4.505811  3.203328  3.190722  4.686558  4.675854  3.917901   \n",
       "\n",
       "            7         8         9     ...      2277      2278      2279  \\\n",
       "# A1BG  7.531034  7.823243  5.986283  ...  8.089632  5.844509  7.646577   \n",
       "A2ML1   3.931696  4.712249  3.765301  ...  4.202005  4.011622  3.399579   \n",
       "A4GALT  1.287095  0.274694  0.048676  ...  1.249955  0.000000  0.943636   \n",
       "A4GNT   5.591099  4.245649  5.262754  ...  5.677505  4.377439  5.833736   \n",
       "AACS    4.979599  3.304450  4.598704  ...  4.678609  4.431627  4.808063   \n",
       "\n",
       "            2280      2281      2282      2283      2284      2285      2286  \n",
       "# A1BG  8.180569  6.515561  7.771471  7.066572  8.094328  8.174788  7.449513  \n",
       "A2ML1   3.773865  2.929681  3.503591  4.499823  4.077576  3.567192  3.410087  \n",
       "A4GALT  0.659947  0.000000  0.731720  1.034761  1.281594  1.200440  0.639984  \n",
       "A4GNT   4.960904  5.544774  6.050370  5.356156  6.843544  5.469534  4.445882  \n",
       "AACS    4.525461  4.216599  3.640699  3.933522  4.644562  4.547818  4.172454  \n",
       "\n",
       "[5 rows x 2287 columns]"
      ]
     },
     "execution_count": 7,
     "metadata": {},
     "output_type": "execute_result"
    }
   ],
   "source": [
    "gen_data.head()"
   ]
  },
  {
   "cell_type": "code",
   "execution_count": 235,
   "id": "23d220d8-8262-40ba-b28b-a833653bdafc",
   "metadata": {},
   "outputs": [],
   "source": [
    "train_data = pd.read_csv(INPUT_DIR / \"train.csv.gz\", usecols=common_top_genes).T"
   ]
  },
  {
   "cell_type": "code",
   "execution_count": 236,
   "id": "bc5701b2-70db-4ccd-97b2-2eaca80a814f",
   "metadata": {},
   "outputs": [
    {
     "data": {
      "text/plain": [
       "(9550, 6860)"
      ]
     },
     "execution_count": 236,
     "metadata": {},
     "output_type": "execute_result"
    }
   ],
   "source": [
    "train_data.shape"
   ]
  },
  {
   "cell_type": "code",
   "execution_count": 237,
   "id": "901a6ddb-1c85-4d08-aa21-06fff3f9b468",
   "metadata": {},
   "outputs": [
    {
     "data": {
      "text/html": [
       "<div>\n",
       "<style scoped>\n",
       "    .dataframe tbody tr th:only-of-type {\n",
       "        vertical-align: middle;\n",
       "    }\n",
       "\n",
       "    .dataframe tbody tr th {\n",
       "        vertical-align: top;\n",
       "    }\n",
       "\n",
       "    .dataframe thead th {\n",
       "        text-align: right;\n",
       "    }\n",
       "</style>\n",
       "<table border=\"1\" class=\"dataframe\">\n",
       "  <thead>\n",
       "    <tr style=\"text-align: right;\">\n",
       "      <th></th>\n",
       "      <th>0</th>\n",
       "      <th>1</th>\n",
       "      <th>2</th>\n",
       "      <th>3</th>\n",
       "      <th>4</th>\n",
       "      <th>5</th>\n",
       "      <th>6</th>\n",
       "      <th>7</th>\n",
       "      <th>8</th>\n",
       "      <th>9</th>\n",
       "      <th>...</th>\n",
       "      <th>6850</th>\n",
       "      <th>6851</th>\n",
       "      <th>6852</th>\n",
       "      <th>6853</th>\n",
       "      <th>6854</th>\n",
       "      <th>6855</th>\n",
       "      <th>6856</th>\n",
       "      <th>6857</th>\n",
       "      <th>6858</th>\n",
       "      <th>6859</th>\n",
       "    </tr>\n",
       "  </thead>\n",
       "  <tbody>\n",
       "    <tr>\n",
       "      <th># A1BG</th>\n",
       "      <td>7.513715</td>\n",
       "      <td>6.009574</td>\n",
       "      <td>8.338562</td>\n",
       "      <td>8.380149</td>\n",
       "      <td>8.158341</td>\n",
       "      <td>6.876017</td>\n",
       "      <td>9.163406</td>\n",
       "      <td>5.385733</td>\n",
       "      <td>6.071961</td>\n",
       "      <td>9.059434</td>\n",
       "      <td>...</td>\n",
       "      <td>8.491053</td>\n",
       "      <td>7.506784</td>\n",
       "      <td>7.853356</td>\n",
       "      <td>6.501725</td>\n",
       "      <td>8.338562</td>\n",
       "      <td>7.340427</td>\n",
       "      <td>9.080228</td>\n",
       "      <td>5.954126</td>\n",
       "      <td>7.506784</td>\n",
       "      <td>6.557176</td>\n",
       "    </tr>\n",
       "    <tr>\n",
       "      <th>A2ML1</th>\n",
       "      <td>4.609461</td>\n",
       "      <td>4.276666</td>\n",
       "      <td>5.468946</td>\n",
       "      <td>4.678699</td>\n",
       "      <td>4.262821</td>\n",
       "      <td>4.117247</td>\n",
       "      <td>4.158883</td>\n",
       "      <td>5.212487</td>\n",
       "      <td>3.493473</td>\n",
       "      <td>4.512397</td>\n",
       "      <td>...</td>\n",
       "      <td>4.706462</td>\n",
       "      <td>4.817374</td>\n",
       "      <td>3.542118</td>\n",
       "      <td>4.928267</td>\n",
       "      <td>4.145038</td>\n",
       "      <td>4.824306</td>\n",
       "      <td>4.124227</td>\n",
       "      <td>4.713397</td>\n",
       "      <td>3.923161</td>\n",
       "      <td>4.553982</td>\n",
       "    </tr>\n",
       "    <tr>\n",
       "      <th>A4GALT</th>\n",
       "      <td>0.000000</td>\n",
       "      <td>0.000000</td>\n",
       "      <td>0.000000</td>\n",
       "      <td>0.385262</td>\n",
       "      <td>0.000000</td>\n",
       "      <td>0.000000</td>\n",
       "      <td>0.000000</td>\n",
       "      <td>6.363097</td>\n",
       "      <td>0.000000</td>\n",
       "      <td>0.329304</td>\n",
       "      <td>...</td>\n",
       "      <td>0.000000</td>\n",
       "      <td>0.000000</td>\n",
       "      <td>1.961502</td>\n",
       "      <td>1.190888</td>\n",
       "      <td>0.000000</td>\n",
       "      <td>0.000000</td>\n",
       "      <td>0.000000</td>\n",
       "      <td>0.000000</td>\n",
       "      <td>0.000000</td>\n",
       "      <td>0.582216</td>\n",
       "    </tr>\n",
       "    <tr>\n",
       "      <th>A4GNT</th>\n",
       "      <td>5.233245</td>\n",
       "      <td>4.470839</td>\n",
       "      <td>5.482803</td>\n",
       "      <td>5.676891</td>\n",
       "      <td>5.212487</td>\n",
       "      <td>4.408425</td>\n",
       "      <td>5.801635</td>\n",
       "      <td>5.344151</td>\n",
       "      <td>4.450036</td>\n",
       "      <td>4.734179</td>\n",
       "      <td>...</td>\n",
       "      <td>4.754969</td>\n",
       "      <td>5.572914</td>\n",
       "      <td>5.995730</td>\n",
       "      <td>5.739246</td>\n",
       "      <td>5.760068</td>\n",
       "      <td>5.586761</td>\n",
       "      <td>3.701302</td>\n",
       "      <td>5.309505</td>\n",
       "      <td>5.690731</td>\n",
       "      <td>4.061821</td>\n",
       "    </tr>\n",
       "    <tr>\n",
       "      <th>AACS</th>\n",
       "      <td>2.357073</td>\n",
       "      <td>4.491553</td>\n",
       "      <td>4.685644</td>\n",
       "      <td>4.678699</td>\n",
       "      <td>4.415340</td>\n",
       "      <td>4.519286</td>\n",
       "      <td>4.373743</td>\n",
       "      <td>3.243763</td>\n",
       "      <td>4.761918</td>\n",
       "      <td>3.895487</td>\n",
       "      <td>...</td>\n",
       "      <td>3.472587</td>\n",
       "      <td>5.683818</td>\n",
       "      <td>4.865918</td>\n",
       "      <td>3.209229</td>\n",
       "      <td>2.751748</td>\n",
       "      <td>4.505460</td>\n",
       "      <td>3.091497</td>\n",
       "      <td>4.935193</td>\n",
       "      <td>4.491553</td>\n",
       "      <td>3.001217</td>\n",
       "    </tr>\n",
       "  </tbody>\n",
       "</table>\n",
       "<p>5 rows × 6860 columns</p>\n",
       "</div>"
      ],
      "text/plain": [
       "            0         1         2         3         4         5         6     \\\n",
       "# A1BG  7.513715  6.009574  8.338562  8.380149  8.158341  6.876017  9.163406   \n",
       "A2ML1   4.609461  4.276666  5.468946  4.678699  4.262821  4.117247  4.158883   \n",
       "A4GALT  0.000000  0.000000  0.000000  0.385262  0.000000  0.000000  0.000000   \n",
       "A4GNT   5.233245  4.470839  5.482803  5.676891  5.212487  4.408425  5.801635   \n",
       "AACS    2.357073  4.491553  4.685644  4.678699  4.415340  4.519286  4.373743   \n",
       "\n",
       "            7         8         9     ...      6850      6851      6852  \\\n",
       "# A1BG  5.385733  6.071961  9.059434  ...  8.491053  7.506784  7.853356   \n",
       "A2ML1   5.212487  3.493473  4.512397  ...  4.706462  4.817374  3.542118   \n",
       "A4GALT  6.363097  0.000000  0.329304  ...  0.000000  0.000000  1.961502   \n",
       "A4GNT   5.344151  4.450036  4.734179  ...  4.754969  5.572914  5.995730   \n",
       "AACS    3.243763  4.761918  3.895487  ...  3.472587  5.683818  4.865918   \n",
       "\n",
       "            6853      6854      6855      6856      6857      6858      6859  \n",
       "# A1BG  6.501725  8.338562  7.340427  9.080228  5.954126  7.506784  6.557176  \n",
       "A2ML1   4.928267  4.145038  4.824306  4.124227  4.713397  3.923161  4.553982  \n",
       "A4GALT  1.190888  0.000000  0.000000  0.000000  0.000000  0.000000  0.582216  \n",
       "A4GNT   5.739246  5.760068  5.586761  3.701302  5.309505  5.690731  4.061821  \n",
       "AACS    3.209229  2.751748  4.505460  3.091497  4.935193  4.491553  3.001217  \n",
       "\n",
       "[5 rows x 6860 columns]"
      ]
     },
     "execution_count": 237,
     "metadata": {},
     "output_type": "execute_result"
    }
   ],
   "source": [
    "train_data.head()"
   ]
  },
  {
   "cell_type": "code",
   "execution_count": 8,
   "id": "322361f9-0b16-4890-ae0f-e5dce01c1a38",
   "metadata": {},
   "outputs": [],
   "source": [
    "test_data = pd.read_csv(INPUT_DIR / \"test.csv.gz\", usecols=common_top_genes).T"
   ]
  },
  {
   "cell_type": "code",
   "execution_count": 9,
   "id": "1a62dca8-026e-4312-86ba-c360ce462ced",
   "metadata": {},
   "outputs": [
    {
     "data": {
      "text/plain": [
       "(9550, 2287)"
      ]
     },
     "execution_count": 9,
     "metadata": {},
     "output_type": "execute_result"
    }
   ],
   "source": [
    "test_data.shape"
   ]
  },
  {
   "cell_type": "code",
   "execution_count": 10,
   "id": "21b4d647-1e9f-4c2d-919d-5747c9647352",
   "metadata": {},
   "outputs": [
    {
     "data": {
      "text/html": [
       "<div>\n",
       "<style scoped>\n",
       "    .dataframe tbody tr th:only-of-type {\n",
       "        vertical-align: middle;\n",
       "    }\n",
       "\n",
       "    .dataframe tbody tr th {\n",
       "        vertical-align: top;\n",
       "    }\n",
       "\n",
       "    .dataframe thead th {\n",
       "        text-align: right;\n",
       "    }\n",
       "</style>\n",
       "<table border=\"1\" class=\"dataframe\">\n",
       "  <thead>\n",
       "    <tr style=\"text-align: right;\">\n",
       "      <th></th>\n",
       "      <th>0</th>\n",
       "      <th>1</th>\n",
       "      <th>2</th>\n",
       "      <th>3</th>\n",
       "      <th>4</th>\n",
       "      <th>5</th>\n",
       "      <th>6</th>\n",
       "      <th>7</th>\n",
       "      <th>8</th>\n",
       "      <th>9</th>\n",
       "      <th>...</th>\n",
       "      <th>2277</th>\n",
       "      <th>2278</th>\n",
       "      <th>2279</th>\n",
       "      <th>2280</th>\n",
       "      <th>2281</th>\n",
       "      <th>2282</th>\n",
       "      <th>2283</th>\n",
       "      <th>2284</th>\n",
       "      <th>2285</th>\n",
       "      <th>2286</th>\n",
       "    </tr>\n",
       "  </thead>\n",
       "  <tbody>\n",
       "    <tr>\n",
       "      <th># A1BG</th>\n",
       "      <td>8.262314</td>\n",
       "      <td>6.571037</td>\n",
       "      <td>9.080228</td>\n",
       "      <td>7.583029</td>\n",
       "      <td>7.326564</td>\n",
       "      <td>6.723532</td>\n",
       "      <td>7.312700</td>\n",
       "      <td>7.631548</td>\n",
       "      <td>6.730457</td>\n",
       "      <td>7.056236</td>\n",
       "      <td>...</td>\n",
       "      <td>8.511847</td>\n",
       "      <td>8.976256</td>\n",
       "      <td>7.201797</td>\n",
       "      <td>7.028512</td>\n",
       "      <td>6.993860</td>\n",
       "      <td>8.886147</td>\n",
       "      <td>7.146347</td>\n",
       "      <td>7.340427</td>\n",
       "      <td>8.338562</td>\n",
       "      <td>7.042374</td>\n",
       "    </tr>\n",
       "    <tr>\n",
       "      <th>A2ML1</th>\n",
       "      <td>1.850028</td>\n",
       "      <td>2.432736</td>\n",
       "      <td>3.798406</td>\n",
       "      <td>4.817374</td>\n",
       "      <td>4.976803</td>\n",
       "      <td>4.318288</td>\n",
       "      <td>4.588634</td>\n",
       "      <td>4.200505</td>\n",
       "      <td>4.387636</td>\n",
       "      <td>4.727299</td>\n",
       "      <td>...</td>\n",
       "      <td>4.928267</td>\n",
       "      <td>4.151984</td>\n",
       "      <td>4.082609</td>\n",
       "      <td>4.318288</td>\n",
       "      <td>2.620311</td>\n",
       "      <td>4.387636</td>\n",
       "      <td>4.436160</td>\n",
       "      <td>4.553982</td>\n",
       "      <td>3.860730</td>\n",
       "      <td>4.311336</td>\n",
       "    </tr>\n",
       "    <tr>\n",
       "      <th>A4GALT</th>\n",
       "      <td>0.000000</td>\n",
       "      <td>0.000000</td>\n",
       "      <td>0.000000</td>\n",
       "      <td>0.000000</td>\n",
       "      <td>0.604316</td>\n",
       "      <td>0.000000</td>\n",
       "      <td>0.000000</td>\n",
       "      <td>1.463255</td>\n",
       "      <td>0.000000</td>\n",
       "      <td>0.819780</td>\n",
       "      <td>...</td>\n",
       "      <td>0.000000</td>\n",
       "      <td>0.000000</td>\n",
       "      <td>0.506818</td>\n",
       "      <td>0.996949</td>\n",
       "      <td>0.000000</td>\n",
       "      <td>0.000000</td>\n",
       "      <td>0.000000</td>\n",
       "      <td>0.438255</td>\n",
       "      <td>0.667829</td>\n",
       "      <td>0.000000</td>\n",
       "    </tr>\n",
       "    <tr>\n",
       "      <th>A4GNT</th>\n",
       "      <td>5.101573</td>\n",
       "      <td>5.143125</td>\n",
       "      <td>3.895487</td>\n",
       "      <td>4.706462</td>\n",
       "      <td>5.281781</td>\n",
       "      <td>6.882950</td>\n",
       "      <td>4.935193</td>\n",
       "      <td>4.304471</td>\n",
       "      <td>4.651004</td>\n",
       "      <td>6.210600</td>\n",
       "      <td>...</td>\n",
       "      <td>5.531332</td>\n",
       "      <td>4.422328</td>\n",
       "      <td>4.879767</td>\n",
       "      <td>4.221271</td>\n",
       "      <td>5.586761</td>\n",
       "      <td>6.869087</td>\n",
       "      <td>5.316452</td>\n",
       "      <td>6.744318</td>\n",
       "      <td>5.649150</td>\n",
       "      <td>5.302558</td>\n",
       "    </tr>\n",
       "    <tr>\n",
       "      <th>AACS</th>\n",
       "      <td>2.641198</td>\n",
       "      <td>4.041120</td>\n",
       "      <td>3.056827</td>\n",
       "      <td>4.207376</td>\n",
       "      <td>5.115416</td>\n",
       "      <td>5.545177</td>\n",
       "      <td>4.269837</td>\n",
       "      <td>3.507358</td>\n",
       "      <td>4.540098</td>\n",
       "      <td>5.364947</td>\n",
       "      <td>...</td>\n",
       "      <td>5.059997</td>\n",
       "      <td>3.805328</td>\n",
       "      <td>4.553982</td>\n",
       "      <td>2.620311</td>\n",
       "      <td>3.736001</td>\n",
       "      <td>4.838185</td>\n",
       "      <td>4.900523</td>\n",
       "      <td>4.761918</td>\n",
       "      <td>4.858959</td>\n",
       "      <td>3.514228</td>\n",
       "    </tr>\n",
       "  </tbody>\n",
       "</table>\n",
       "<p>5 rows × 2287 columns</p>\n",
       "</div>"
      ],
      "text/plain": [
       "            0         1         2         3         4         5         6     \\\n",
       "# A1BG  8.262314  6.571037  9.080228  7.583029  7.326564  6.723532  7.312700   \n",
       "A2ML1   1.850028  2.432736  3.798406  4.817374  4.976803  4.318288  4.588634   \n",
       "A4GALT  0.000000  0.000000  0.000000  0.000000  0.604316  0.000000  0.000000   \n",
       "A4GNT   5.101573  5.143125  3.895487  4.706462  5.281781  6.882950  4.935193   \n",
       "AACS    2.641198  4.041120  3.056827  4.207376  5.115416  5.545177  4.269837   \n",
       "\n",
       "            7         8         9     ...      2277      2278      2279  \\\n",
       "# A1BG  7.631548  6.730457  7.056236  ...  8.511847  8.976256  7.201797   \n",
       "A2ML1   4.200505  4.387636  4.727299  ...  4.928267  4.151984  4.082609   \n",
       "A4GALT  1.463255  0.000000  0.819780  ...  0.000000  0.000000  0.506818   \n",
       "A4GNT   4.304471  4.651004  6.210600  ...  5.531332  4.422328  4.879767   \n",
       "AACS    3.507358  4.540098  5.364947  ...  5.059997  3.805328  4.553982   \n",
       "\n",
       "            2280      2281      2282      2283      2284      2285      2286  \n",
       "# A1BG  7.028512  6.993860  8.886147  7.146347  7.340427  8.338562  7.042374  \n",
       "A2ML1   4.318288  2.620311  4.387636  4.436160  4.553982  3.860730  4.311336  \n",
       "A4GALT  0.996949  0.000000  0.000000  0.000000  0.438255  0.667829  0.000000  \n",
       "A4GNT   4.221271  5.586761  6.869087  5.316452  6.744318  5.649150  5.302558  \n",
       "AACS    2.620311  3.736001  4.838185  4.900523  4.761918  4.858959  3.514228  \n",
       "\n",
       "[5 rows x 2287 columns]"
      ]
     },
     "execution_count": 10,
     "metadata": {},
     "output_type": "execute_result"
    }
   ],
   "source": [
    "test_data.head()"
   ]
  },
  {
   "cell_type": "code",
   "execution_count": 238,
   "id": "88611f70-aa25-41c6-bc8e-87bc0e6d1606",
   "metadata": {},
   "outputs": [],
   "source": [
    "assert gen_data.index.equals(train_data.index)"
   ]
  },
  {
   "cell_type": "code",
   "execution_count": 239,
   "id": "b78496ed-0a13-4791-896e-736f4e7d9486",
   "metadata": {},
   "outputs": [],
   "source": [
    "assert gen_data.index.equals(test_data.index)"
   ]
  },
  {
   "cell_type": "code",
   "execution_count": 240,
   "id": "d29103fa-1151-4da1-ab37-895b09bf548f",
   "metadata": {},
   "outputs": [],
   "source": [
    "assert set(gen_data.index) == set(common_top_genes)"
   ]
  },
  {
   "cell_type": "markdown",
   "id": "200dd023-dd7c-4bfa-8eec-b65181915f1f",
   "metadata": {},
   "source": [
    "## CM correlations"
   ]
  },
  {
   "cell_type": "code",
   "execution_count": 13,
   "id": "25a6d042-9e07-4ebb-8b2c-22018039cb1b",
   "metadata": {},
   "outputs": [],
   "source": [
    "gen_cm = pd.read_pickle(INPUT_DIR / \"cm_gen_top_10k_genes.pkl\")"
   ]
  },
  {
   "cell_type": "code",
   "execution_count": 14,
   "id": "b7eb3e35-ec97-47c7-a195-232f109cf93f",
   "metadata": {},
   "outputs": [
    {
     "data": {
      "text/plain": [
       "(45596475,)"
      ]
     },
     "execution_count": 14,
     "metadata": {},
     "output_type": "execute_result"
    }
   ],
   "source": [
    "gen_cm.shape"
   ]
  },
  {
   "cell_type": "code",
   "execution_count": 15,
   "id": "8f2bb124-a16d-470c-b667-09ef9876f70b",
   "metadata": {},
   "outputs": [
    {
     "data": {
      "text/plain": [
       "0    0.028977\n",
       "1    0.018968\n",
       "2    0.046014\n",
       "3    0.072851\n",
       "4    0.025269\n",
       "dtype: float64"
      ]
     },
     "execution_count": 15,
     "metadata": {},
     "output_type": "execute_result"
    }
   ],
   "source": [
    "gen_cm.head()"
   ]
  },
  {
   "cell_type": "code",
   "execution_count": 16,
   "id": "1df95ac5-c8c2-4e2d-9432-3a674712967f",
   "metadata": {},
   "outputs": [],
   "source": [
    "test_cm = pd.read_pickle(INPUT_DIR / \"cm_test_top_10k_genes.pkl\")"
   ]
  },
  {
   "cell_type": "code",
   "execution_count": 17,
   "id": "7493c028-e931-4085-bfa9-144cccdd2a44",
   "metadata": {},
   "outputs": [
    {
     "data": {
      "text/plain": [
       "(45596475,)"
      ]
     },
     "execution_count": 17,
     "metadata": {},
     "output_type": "execute_result"
    }
   ],
   "source": [
    "test_cm.shape"
   ]
  },
  {
   "cell_type": "code",
   "execution_count": 18,
   "id": "30f9b4b7-0dc2-4702-92ed-8fb6ae6029a2",
   "metadata": {},
   "outputs": [
    {
     "data": {
      "text/plain": [
       "0    0.015019\n",
       "1    0.019804\n",
       "2    0.034624\n",
       "3    0.031887\n",
       "4    0.018811\n",
       "dtype: float64"
      ]
     },
     "execution_count": 18,
     "metadata": {},
     "output_type": "execute_result"
    }
   ],
   "source": [
    "test_cm.head()"
   ]
  },
  {
   "cell_type": "code",
   "execution_count": 19,
   "id": "b253e9f3-56d5-4181-928b-6c1550d337d6",
   "metadata": {},
   "outputs": [],
   "source": [
    "assert gen_cm.shape[0] == test_cm.shape[0]"
   ]
  },
  {
   "cell_type": "markdown",
   "id": "c4e25a5a-0e83-46d2-8bfd-96b3e40fa057",
   "metadata": {},
   "source": [
    "### Re-index"
   ]
  },
  {
   "cell_type": "code",
   "execution_count": 20,
   "id": "ed408388-a5ae-41fe-a0f8-26687fbe1df0",
   "metadata": {},
   "outputs": [],
   "source": [
    "# level0 = []\n",
    "# level1 = []\n",
    "\n",
    "# for idx0 in range(len(common_top_genes)-1):\n",
    "#     for idx1 in range(idx0+1, len(common_top_genes)):\n",
    "#         level0.append(common_top_genes[idx0])\n",
    "#         level1.append(common_top_genes[idx1])"
   ]
  },
  {
   "cell_type": "code",
   "execution_count": 21,
   "id": "2a2cba0a-558f-4ebd-8c9d-ad66cfbb0dc9",
   "metadata": {},
   "outputs": [],
   "source": [
    "# genes_dtype = pd.CategoricalDtype(common_top_genes)"
   ]
  },
  {
   "cell_type": "code",
   "execution_count": 22,
   "id": "99d0f63c-cbe6-4ee3-a0b6-c825e3990618",
   "metadata": {},
   "outputs": [],
   "source": [
    "# level0 = pd.Series(level0, dtype=genes_dtype)"
   ]
  },
  {
   "cell_type": "code",
   "execution_count": 23,
   "id": "25bb0029-d978-4f50-85f4-29baf7ade526",
   "metadata": {},
   "outputs": [],
   "source": [
    "# level0"
   ]
  },
  {
   "cell_type": "code",
   "execution_count": 24,
   "id": "03d226ca-a865-4496-8f45-afc3fef30706",
   "metadata": {},
   "outputs": [],
   "source": [
    "# level1 = pd.Series(level1, dtype=genes_dtype)"
   ]
  },
  {
   "cell_type": "code",
   "execution_count": 25,
   "id": "9d3bd426-b8ed-41de-881f-72e908c131d5",
   "metadata": {},
   "outputs": [],
   "source": [
    "# level1"
   ]
  },
  {
   "cell_type": "code",
   "execution_count": 26,
   "id": "77155608-4762-4014-945f-79f341dd11a7",
   "metadata": {},
   "outputs": [],
   "source": [
    "new_index = [\n",
    "    (common_top_genes[idx0], common_top_genes[idx1])\n",
    "    for idx0 in range(len(common_top_genes) - 1)\n",
    "    for idx1 in range(idx0 + 1, len(common_top_genes))\n",
    "]"
   ]
  },
  {
   "cell_type": "code",
   "execution_count": 27,
   "id": "9a6d3947-5347-4c6d-a4b6-bba993f98490",
   "metadata": {},
   "outputs": [
    {
     "data": {
      "text/plain": [
       "[('MIOX', 'CTSO'),\n",
       " ('MIOX', 'SART1'),\n",
       " ('MIOX', 'TMED3'),\n",
       " ('MIOX', 'AC174470.1'),\n",
       " ('MIOX', 'ZNF385B')]"
      ]
     },
     "metadata": {},
     "output_type": "display_data"
    },
    {
     "data": {
      "text/plain": [
       "45596475"
      ]
     },
     "metadata": {},
     "output_type": "display_data"
    }
   ],
   "source": [
    "display(new_index[:5])\n",
    "display(len(new_index))\n",
    "\n",
    "assert len(new_index) == test_cm.shape[0]"
   ]
  },
  {
   "cell_type": "code",
   "execution_count": 28,
   "id": "a4d9c509-ec52-494b-83e6-faad12e41bb9",
   "metadata": {},
   "outputs": [],
   "source": [
    "new_index = pd.MultiIndex.from_tuples(new_index)\n",
    "\n",
    "# new_index = pd.MultiIndex.from_arrays([level0, level1], names=(\"gene1\", \"gene2\"))"
   ]
  },
  {
   "cell_type": "code",
   "execution_count": 29,
   "id": "1a2e2011-ea58-4255-82a7-d1660f4cef8f",
   "metadata": {},
   "outputs": [],
   "source": [
    "gen_cm.index = new_index.copy()"
   ]
  },
  {
   "cell_type": "code",
   "execution_count": 30,
   "id": "7c248f0b-640e-4486-86d4-97e834197ce8",
   "metadata": {},
   "outputs": [
    {
     "data": {
      "text/plain": [
       "MIOX     CTSO          0.028977\n",
       "         SART1         0.018968\n",
       "         TMED3         0.046014\n",
       "         AC174470.1    0.072851\n",
       "         ZNF385B       0.025269\n",
       "                         ...   \n",
       "TJAP1    NUDT1         0.066371\n",
       "         COMMD5        0.005360\n",
       "SMARCC2  NUDT1         0.015748\n",
       "         COMMD5        0.009560\n",
       "NUDT1    COMMD5        0.018063\n",
       "Length: 45596475, dtype: float64"
      ]
     },
     "execution_count": 30,
     "metadata": {},
     "output_type": "execute_result"
    }
   ],
   "source": [
    "gen_cm"
   ]
  },
  {
   "cell_type": "code",
   "execution_count": 31,
   "id": "81b6ba1b-5d95-462d-9d93-483ece4321fc",
   "metadata": {},
   "outputs": [],
   "source": [
    "test_cm.index = new_index.copy()"
   ]
  },
  {
   "cell_type": "code",
   "execution_count": 32,
   "id": "b77d2da6-5b5e-4796-b2bf-b4a5124afa1d",
   "metadata": {},
   "outputs": [
    {
     "data": {
      "text/plain": [
       "MIOX     CTSO          0.015019\n",
       "         SART1         0.019804\n",
       "         TMED3         0.034624\n",
       "         AC174470.1    0.031887\n",
       "         ZNF385B       0.018811\n",
       "                         ...   \n",
       "TJAP1    NUDT1         0.022329\n",
       "         COMMD5        0.000963\n",
       "SMARCC2  NUDT1         0.012000\n",
       "         COMMD5        0.003027\n",
       "NUDT1    COMMD5        0.000990\n",
       "Length: 45596475, dtype: float64"
      ]
     },
     "execution_count": 32,
     "metadata": {},
     "output_type": "execute_result"
    }
   ],
   "source": [
    "test_cm"
   ]
  },
  {
   "cell_type": "code",
   "execution_count": 33,
   "id": "27ba4aa7-dc2e-4503-a999-c8972acf620e",
   "metadata": {},
   "outputs": [],
   "source": [
    "assert gen_cm.index.equals(test_cm.index)"
   ]
  },
  {
   "cell_type": "code",
   "execution_count": 34,
   "id": "32ecdd8f-efbd-4ebc-93cb-2939b3eee1f0",
   "metadata": {},
   "outputs": [],
   "source": [
    "coefs = pd.DataFrame(\n",
    "    {\n",
    "        \"gen\": gen_cm,\n",
    "        \"test\": test_cm,\n",
    "    }\n",
    ")"
   ]
  },
  {
   "cell_type": "code",
   "execution_count": 35,
   "id": "080747b4-d36c-4969-9474-c3fd670901d6",
   "metadata": {},
   "outputs": [
    {
     "data": {
      "text/plain": [
       "(45596475, 2)"
      ]
     },
     "execution_count": 35,
     "metadata": {},
     "output_type": "execute_result"
    }
   ],
   "source": [
    "coefs.shape"
   ]
  },
  {
   "cell_type": "code",
   "execution_count": 36,
   "id": "2308b32d-ad38-4151-b825-2da553779642",
   "metadata": {},
   "outputs": [
    {
     "data": {
      "text/html": [
       "<div>\n",
       "<style scoped>\n",
       "    .dataframe tbody tr th:only-of-type {\n",
       "        vertical-align: middle;\n",
       "    }\n",
       "\n",
       "    .dataframe tbody tr th {\n",
       "        vertical-align: top;\n",
       "    }\n",
       "\n",
       "    .dataframe thead th {\n",
       "        text-align: right;\n",
       "    }\n",
       "</style>\n",
       "<table border=\"1\" class=\"dataframe\">\n",
       "  <thead>\n",
       "    <tr style=\"text-align: right;\">\n",
       "      <th></th>\n",
       "      <th></th>\n",
       "      <th>gen</th>\n",
       "      <th>test</th>\n",
       "    </tr>\n",
       "  </thead>\n",
       "  <tbody>\n",
       "    <tr>\n",
       "      <th rowspan=\"5\" valign=\"top\">MIOX</th>\n",
       "      <th>CTSO</th>\n",
       "      <td>0.028977</td>\n",
       "      <td>0.015019</td>\n",
       "    </tr>\n",
       "    <tr>\n",
       "      <th>SART1</th>\n",
       "      <td>0.018968</td>\n",
       "      <td>0.019804</td>\n",
       "    </tr>\n",
       "    <tr>\n",
       "      <th>TMED3</th>\n",
       "      <td>0.046014</td>\n",
       "      <td>0.034624</td>\n",
       "    </tr>\n",
       "    <tr>\n",
       "      <th>AC174470.1</th>\n",
       "      <td>0.072851</td>\n",
       "      <td>0.031887</td>\n",
       "    </tr>\n",
       "    <tr>\n",
       "      <th>ZNF385B</th>\n",
       "      <td>0.025269</td>\n",
       "      <td>0.018811</td>\n",
       "    </tr>\n",
       "    <tr>\n",
       "      <th>...</th>\n",
       "      <th>...</th>\n",
       "      <td>...</td>\n",
       "      <td>...</td>\n",
       "    </tr>\n",
       "    <tr>\n",
       "      <th rowspan=\"2\" valign=\"top\">TJAP1</th>\n",
       "      <th>NUDT1</th>\n",
       "      <td>0.066371</td>\n",
       "      <td>0.022329</td>\n",
       "    </tr>\n",
       "    <tr>\n",
       "      <th>COMMD5</th>\n",
       "      <td>0.005360</td>\n",
       "      <td>0.000963</td>\n",
       "    </tr>\n",
       "    <tr>\n",
       "      <th rowspan=\"2\" valign=\"top\">SMARCC2</th>\n",
       "      <th>NUDT1</th>\n",
       "      <td>0.015748</td>\n",
       "      <td>0.012000</td>\n",
       "    </tr>\n",
       "    <tr>\n",
       "      <th>COMMD5</th>\n",
       "      <td>0.009560</td>\n",
       "      <td>0.003027</td>\n",
       "    </tr>\n",
       "    <tr>\n",
       "      <th>NUDT1</th>\n",
       "      <th>COMMD5</th>\n",
       "      <td>0.018063</td>\n",
       "      <td>0.000990</td>\n",
       "    </tr>\n",
       "  </tbody>\n",
       "</table>\n",
       "<p>45596475 rows × 2 columns</p>\n",
       "</div>"
      ],
      "text/plain": [
       "                         gen      test\n",
       "MIOX    CTSO        0.028977  0.015019\n",
       "        SART1       0.018968  0.019804\n",
       "        TMED3       0.046014  0.034624\n",
       "        AC174470.1  0.072851  0.031887\n",
       "        ZNF385B     0.025269  0.018811\n",
       "...                      ...       ...\n",
       "TJAP1   NUDT1       0.066371  0.022329\n",
       "        COMMD5      0.005360  0.000963\n",
       "SMARCC2 NUDT1       0.015748  0.012000\n",
       "        COMMD5      0.009560  0.003027\n",
       "NUDT1   COMMD5      0.018063  0.000990\n",
       "\n",
       "[45596475 rows x 2 columns]"
      ]
     },
     "execution_count": 36,
     "metadata": {},
     "output_type": "execute_result"
    }
   ],
   "source": [
    "coefs"
   ]
  },
  {
   "cell_type": "markdown",
   "id": "66d7ca33-f6b9-4123-892b-c4d1f4e795d7",
   "metadata": {},
   "source": [
    "# Compare"
   ]
  },
  {
   "cell_type": "code",
   "execution_count": 37,
   "id": "19c7f060-af41-441d-9878-77849a394d98",
   "metadata": {},
   "outputs": [
    {
     "data": {
      "text/plain": [
       "array([0.        , 0.00010001, 0.00020002, 0.00030003, 0.00040004,\n",
       "       0.00050005, 0.00060006, 0.00070007, 0.00080008, 0.00090009])"
      ]
     },
     "metadata": {},
     "output_type": "display_data"
    },
    {
     "data": {
      "text/plain": [
       "array([0.99909991, 0.99919992, 0.99929993, 0.99939994, 0.99949995,\n",
       "       0.99959996, 0.99969997, 0.99979998, 0.99989999, 1.        ])"
      ]
     },
     "metadata": {},
     "output_type": "display_data"
    }
   ],
   "source": [
    "QUANTILES = np.linspace(0, 1, 10000)\n",
    "display(QUANTILES[:10])\n",
    "display(QUANTILES[-10:])"
   ]
  },
  {
   "cell_type": "code",
   "execution_count": 38,
   "id": "3e983140-6605-4e32-921a-9a4ffcd981d8",
   "metadata": {},
   "outputs": [],
   "source": [
    "quantiles_df = pd.DataFrame(\n",
    "    {\n",
    "        \"gen\": coefs[\"gen\"].quantile(QUANTILES).to_numpy(),\n",
    "        \"test\": coefs[\"test\"].quantile(QUANTILES).to_numpy(),\n",
    "    }\n",
    ")"
   ]
  },
  {
   "cell_type": "code",
   "execution_count": 39,
   "id": "672aa07a-7c0e-43ad-ae26-a28353f25a99",
   "metadata": {},
   "outputs": [
    {
     "data": {
      "text/plain": [
       "(10000, 2)"
      ]
     },
     "execution_count": 39,
     "metadata": {},
     "output_type": "execute_result"
    }
   ],
   "source": [
    "quantiles_df.shape"
   ]
  },
  {
   "cell_type": "code",
   "execution_count": 40,
   "id": "3c36733e-539c-434c-b6c1-51844f06cf21",
   "metadata": {},
   "outputs": [
    {
     "data": {
      "text/html": [
       "<div>\n",
       "<style scoped>\n",
       "    .dataframe tbody tr th:only-of-type {\n",
       "        vertical-align: middle;\n",
       "    }\n",
       "\n",
       "    .dataframe tbody tr th {\n",
       "        vertical-align: top;\n",
       "    }\n",
       "\n",
       "    .dataframe thead th {\n",
       "        text-align: right;\n",
       "    }\n",
       "</style>\n",
       "<table border=\"1\" class=\"dataframe\">\n",
       "  <thead>\n",
       "    <tr style=\"text-align: right;\">\n",
       "      <th></th>\n",
       "      <th>gen</th>\n",
       "      <th>test</th>\n",
       "    </tr>\n",
       "  </thead>\n",
       "  <tbody>\n",
       "    <tr>\n",
       "      <th>0</th>\n",
       "      <td>-0.000130</td>\n",
       "      <td>-0.078640</td>\n",
       "    </tr>\n",
       "    <tr>\n",
       "      <th>1</th>\n",
       "      <td>0.000819</td>\n",
       "      <td>-0.009364</td>\n",
       "    </tr>\n",
       "    <tr>\n",
       "      <th>2</th>\n",
       "      <td>0.000985</td>\n",
       "      <td>-0.003642</td>\n",
       "    </tr>\n",
       "    <tr>\n",
       "      <th>3</th>\n",
       "      <td>0.001094</td>\n",
       "      <td>-0.000994</td>\n",
       "    </tr>\n",
       "    <tr>\n",
       "      <th>4</th>\n",
       "      <td>0.001180</td>\n",
       "      <td>-0.000095</td>\n",
       "    </tr>\n",
       "  </tbody>\n",
       "</table>\n",
       "</div>"
      ],
      "text/plain": [
       "        gen      test\n",
       "0 -0.000130 -0.078640\n",
       "1  0.000819 -0.009364\n",
       "2  0.000985 -0.003642\n",
       "3  0.001094 -0.000994\n",
       "4  0.001180 -0.000095"
      ]
     },
     "execution_count": 40,
     "metadata": {},
     "output_type": "execute_result"
    }
   ],
   "source": [
    "quantiles_df.head()"
   ]
  },
  {
   "cell_type": "code",
   "execution_count": 41,
   "id": "097a3164-17ff-4934-8743-44884891ea69",
   "metadata": {},
   "outputs": [
    {
     "data": {
      "text/plain": [
       "[<matplotlib.lines.Line2D at 0x7f6a69c3e8b0>]"
      ]
     },
     "execution_count": 41,
     "metadata": {},
     "output_type": "execute_result"
    },
    {
     "data": {
      "image/png": "[encoded data removed]",
      "text/plain": [
       "<Figure size 720x576 with 1 Axes>"
      ]
     },
     "metadata": {
      "needs_background": "light"
     },
     "output_type": "display_data"
    }
   ],
   "source": [
    "fig, ax = plt.subplots(figsize=(10, 8))\n",
    "\n",
    "sns.scatterplot(\n",
    "    data=quantiles_df,\n",
    "    x=\"test\",\n",
    "    y=\"gen\",\n",
    "    ax=ax,\n",
    ")\n",
    "\n",
    "# ax.set_xlabel(None)\n",
    "# ax.set_ylabel(\"clustermatch (linear)\")\n",
    "\n",
    "min_val = min((quantiles_df.iloc[:, 0].min(), quantiles_df.iloc[:, 1].min()))\n",
    "max_val = max((quantiles_df.iloc[:, 0].max(), quantiles_df.iloc[:, 1].max()))\n",
    "ax.plot([min_val, max_val], [min_val, max_val], \"k\", linewidth=0.5)\n",
    "\n",
    "# ax.set_title(f\"{ENRICH_FUNC} ({PERFORMANCE_MEASURE})\")"
   ]
  },
  {
   "cell_type": "code",
   "execution_count": 42,
   "id": "100774f1-aba8-40ec-a9cc-8eb7732101cf",
   "metadata": {},
   "outputs": [],
   "source": [
    "# cm(gen_cm.to_numpy(), test_cm.to_numpy())"
   ]
  },
  {
   "cell_type": "code",
   "execution_count": 43,
   "id": "a7069a73-4d7f-4089-8c65-61ebf47533a9",
   "metadata": {},
   "outputs": [
    {
     "data": {
      "text/plain": [
       "(0.927455093662632, 0.0)"
      ]
     },
     "execution_count": 43,
     "metadata": {},
     "output_type": "execute_result"
    }
   ],
   "source": [
    "stats.pearsonr(gen_cm, test_cm)"
   ]
  },
  {
   "cell_type": "code",
   "execution_count": 44,
   "id": "fb0f9827-1a1a-48c8-abc1-2988a810245e",
   "metadata": {},
   "outputs": [
    {
     "data": {
      "text/plain": [
       "<seaborn.axisgrid.JointGrid at 0x7f6a6c12d880>"
      ]
     },
     "execution_count": 44,
     "metadata": {},
     "output_type": "execute_result"
    },
    {
     "data": {
      "image/png": "[encoded data removed]",
      "text/plain": [
       "<Figure size 432x432 with 3 Axes>"
      ]
     },
     "metadata": {
      "needs_background": "light"
     },
     "output_type": "display_data"
    }
   ],
   "source": [
    "sns.jointplot(\n",
    "    data=coefs,\n",
    "    x=\"gen\",\n",
    "    y=\"test\",\n",
    "    kind=\"hex\",\n",
    "    bins=\"log\",\n",
    ")"
   ]
  },
  {
   "cell_type": "code",
   "execution_count": 45,
   "id": "001ba8d2-742c-4974-a3ff-e8c048e675d0",
   "metadata": {},
   "outputs": [
    {
     "name": "stderr",
     "output_type": "stream",
     "text": [
      "/opt/conda/envs/clustermatch_gene_expr/lib/python3.9/site-packages/seaborn/distributions.py:2619: FutureWarning: `distplot` is a deprecated function and will be removed in a future version. Please adapt your code to use either `displot` (a figure-level function with similar flexibility) or `kdeplot` (an axes-level function for kernel density plots).\n",
      "  warnings.warn(msg, FutureWarning)\n",
      "/opt/conda/envs/clustermatch_gene_expr/lib/python3.9/site-packages/seaborn/distributions.py:2619: FutureWarning: `distplot` is a deprecated function and will be removed in a future version. Please adapt your code to use either `displot` (a figure-level function with similar flexibility) or `kdeplot` (an axes-level function for kernel density plots).\n",
      "  warnings.warn(msg, FutureWarning)\n"
     ]
    },
    {
     "data": {
      "image/png": "[encoded data removed]",
      "text/plain": [
       "<Figure size 720x504 with 1 Axes>"
      ]
     },
     "metadata": {
      "needs_background": "light"
     },
     "output_type": "display_data"
    }
   ],
   "source": [
    "with sns.plotting_context(\"talk\", font_scale=1.1):\n",
    "    fig, ax = plt.subplots(figsize=(10, 7))\n",
    "\n",
    "    for method in [x for x in coefs.columns]:\n",
    "        sns.distplot(x=coefs[method], hist=False, kde=True, label=method, ax=ax)\n",
    "\n",
    "    plt.legend()"
   ]
  },
  {
   "cell_type": "code",
   "execution_count": 46,
   "id": "428dc229-2599-4959-9769-ef734d8d48a6",
   "metadata": {},
   "outputs": [
    {
     "name": "stderr",
     "output_type": "stream",
     "text": [
      "/opt/conda/envs/clustermatch_gene_expr/lib/python3.9/site-packages/seaborn/distributions.py:2619: FutureWarning: `distplot` is a deprecated function and will be removed in a future version. Please adapt your code to use either `displot` (a figure-level function with similar flexibility) or `histplot` (an axes-level function for histograms).\n",
      "  warnings.warn(msg, FutureWarning)\n"
     ]
    },
    {
     "data": {
      "image/png": "[encoded data removed]",
      "text/plain": [
       "<Figure size 720x504 with 1 Axes>"
      ]
     },
     "metadata": {
      "needs_background": "light"
     },
     "output_type": "display_data"
    }
   ],
   "source": [
    "with sns.plotting_context(\"talk\", font_scale=1.1):\n",
    "    fig, ax = plt.subplots(figsize=(10, 7))\n",
    "\n",
    "    for method in [x for x in coefs.columns]:\n",
    "        sns.distplot(x=coefs[method], hist=True, kde=False, label=method, ax=ax)\n",
    "\n",
    "    plt.legend()"
   ]
  },
  {
   "cell_type": "code",
   "execution_count": 47,
   "id": "c319c67e-19f9-4ace-bbc6-fe9df850d823",
   "metadata": {},
   "outputs": [
    {
     "data": {
      "text/html": [
       "<div>\n",
       "<style scoped>\n",
       "    .dataframe tbody tr th:only-of-type {\n",
       "        vertical-align: middle;\n",
       "    }\n",
       "\n",
       "    .dataframe tbody tr th {\n",
       "        vertical-align: top;\n",
       "    }\n",
       "\n",
       "    .dataframe thead th {\n",
       "        text-align: right;\n",
       "    }\n",
       "</style>\n",
       "<table border=\"1\" class=\"dataframe\">\n",
       "  <thead>\n",
       "    <tr style=\"text-align: right;\">\n",
       "      <th></th>\n",
       "      <th>gen</th>\n",
       "      <th>test</th>\n",
       "    </tr>\n",
       "  </thead>\n",
       "  <tbody>\n",
       "    <tr>\n",
       "      <th>count</th>\n",
       "      <td>4.559648e+07</td>\n",
       "      <td>4.559648e+07</td>\n",
       "    </tr>\n",
       "    <tr>\n",
       "      <th>mean</th>\n",
       "      <td>3.489632e-02</td>\n",
       "      <td>2.399692e-02</td>\n",
       "    </tr>\n",
       "    <tr>\n",
       "      <th>std</th>\n",
       "      <td>4.224736e-02</td>\n",
       "      <td>3.260522e-02</td>\n",
       "    </tr>\n",
       "    <tr>\n",
       "      <th>min</th>\n",
       "      <td>-1.302268e-04</td>\n",
       "      <td>-7.863955e-02</td>\n",
       "    </tr>\n",
       "    <tr>\n",
       "      <th>25%</th>\n",
       "      <td>1.123185e-02</td>\n",
       "      <td>6.701603e-03</td>\n",
       "    </tr>\n",
       "    <tr>\n",
       "      <th>50%</th>\n",
       "      <td>2.088611e-02</td>\n",
       "      <td>1.350828e-02</td>\n",
       "    </tr>\n",
       "    <tr>\n",
       "      <th>75%</th>\n",
       "      <td>4.127729e-02</td>\n",
       "      <td>2.791407e-02</td>\n",
       "    </tr>\n",
       "    <tr>\n",
       "      <th>max</th>\n",
       "      <td>9.144237e-01</td>\n",
       "      <td>9.756530e-01</td>\n",
       "    </tr>\n",
       "  </tbody>\n",
       "</table>\n",
       "</div>"
      ],
      "text/plain": [
       "                gen          test\n",
       "count  4.559648e+07  4.559648e+07\n",
       "mean   3.489632e-02  2.399692e-02\n",
       "std    4.224736e-02  3.260522e-02\n",
       "min   -1.302268e-04 -7.863955e-02\n",
       "25%    1.123185e-02  6.701603e-03\n",
       "50%    2.088611e-02  1.350828e-02\n",
       "75%    4.127729e-02  2.791407e-02\n",
       "max    9.144237e-01  9.756530e-01"
      ]
     },
     "execution_count": 47,
     "metadata": {},
     "output_type": "execute_result"
    }
   ],
   "source": [
    "coefs.describe()"
   ]
  },
  {
   "cell_type": "code",
   "execution_count": 48,
   "id": "7b33efdb-635f-42fc-9be2-d1bbcd3b76cf",
   "metadata": {},
   "outputs": [
    {
     "data": {
      "text/html": [
       "<div>\n",
       "<style scoped>\n",
       "    .dataframe tbody tr th:only-of-type {\n",
       "        vertical-align: middle;\n",
       "    }\n",
       "\n",
       "    .dataframe tbody tr th {\n",
       "        vertical-align: top;\n",
       "    }\n",
       "\n",
       "    .dataframe thead th {\n",
       "        text-align: right;\n",
       "    }\n",
       "</style>\n",
       "<table border=\"1\" class=\"dataframe\">\n",
       "  <thead>\n",
       "    <tr style=\"text-align: right;\">\n",
       "      <th></th>\n",
       "      <th>gen</th>\n",
       "      <th>test</th>\n",
       "    </tr>\n",
       "  </thead>\n",
       "  <tbody>\n",
       "    <tr>\n",
       "      <th>0.1</th>\n",
       "      <td>0.006627</td>\n",
       "      <td>0.003584</td>\n",
       "    </tr>\n",
       "    <tr>\n",
       "      <th>0.2</th>\n",
       "      <td>0.009694</td>\n",
       "      <td>0.005647</td>\n",
       "    </tr>\n",
       "    <tr>\n",
       "      <th>0.3</th>\n",
       "      <td>0.012842</td>\n",
       "      <td>0.007830</td>\n",
       "    </tr>\n",
       "    <tr>\n",
       "      <th>0.4</th>\n",
       "      <td>0.016443</td>\n",
       "      <td>0.010365</td>\n",
       "    </tr>\n",
       "    <tr>\n",
       "      <th>0.5</th>\n",
       "      <td>0.020886</td>\n",
       "      <td>0.013508</td>\n",
       "    </tr>\n",
       "    <tr>\n",
       "      <th>0.6</th>\n",
       "      <td>0.026748</td>\n",
       "      <td>0.017643</td>\n",
       "    </tr>\n",
       "    <tr>\n",
       "      <th>0.7</th>\n",
       "      <td>0.035126</td>\n",
       "      <td>0.023668</td>\n",
       "    </tr>\n",
       "    <tr>\n",
       "      <th>0.8</th>\n",
       "      <td>0.049184</td>\n",
       "      <td>0.033670</td>\n",
       "    </tr>\n",
       "    <tr>\n",
       "      <th>0.9</th>\n",
       "      <td>0.078645</td>\n",
       "      <td>0.054992</td>\n",
       "    </tr>\n",
       "  </tbody>\n",
       "</table>\n",
       "</div>"
      ],
      "text/plain": [
       "          gen      test\n",
       "0.1  0.006627  0.003584\n",
       "0.2  0.009694  0.005647\n",
       "0.3  0.012842  0.007830\n",
       "0.4  0.016443  0.010365\n",
       "0.5  0.020886  0.013508\n",
       "0.6  0.026748  0.017643\n",
       "0.7  0.035126  0.023668\n",
       "0.8  0.049184  0.033670\n",
       "0.9  0.078645  0.054992"
      ]
     },
     "metadata": {},
     "output_type": "display_data"
    }
   ],
   "source": [
    "_start, _step, _n = 0.10, 0.10, 9\n",
    "coefs_q = coefs.quantile(np.linspace(_start, _start + (_step * _n), _n, endpoint=False))\n",
    "display(coefs_q)"
   ]
  },
  {
   "cell_type": "markdown",
   "id": "41d3f5e9-087b-48ca-babc-cf4747d00c78",
   "metadata": {},
   "source": [
    "# Interesting gene pairs"
   ]
  },
  {
   "cell_type": "code",
   "execution_count": 59,
   "id": "cd0b3980-6ec7-49a4-8637-aa1cffa51c32",
   "metadata": {},
   "outputs": [],
   "source": [
    "_tmp_coefs = coefs.assign(diff=coefs[\"test\"].sub(coefs[\"gen\"])).sort_values(\n",
    "    \"diff\", ascending=False\n",
    ")"
   ]
  },
  {
   "cell_type": "code",
   "execution_count": 241,
   "id": "e5cd600d-259c-4317-89b1-ec36b253b509",
   "metadata": {},
   "outputs": [
    {
     "data": {
      "text/html": [
       "<div>\n",
       "<style scoped>\n",
       "    .dataframe tbody tr th:only-of-type {\n",
       "        vertical-align: middle;\n",
       "    }\n",
       "\n",
       "    .dataframe tbody tr th {\n",
       "        vertical-align: top;\n",
       "    }\n",
       "\n",
       "    .dataframe thead th {\n",
       "        text-align: right;\n",
       "    }\n",
       "</style>\n",
       "<table border=\"1\" class=\"dataframe\">\n",
       "  <thead>\n",
       "    <tr style=\"text-align: right;\">\n",
       "      <th></th>\n",
       "      <th></th>\n",
       "      <th>gen</th>\n",
       "      <th>test</th>\n",
       "      <th>diff</th>\n",
       "    </tr>\n",
       "  </thead>\n",
       "  <tbody>\n",
       "    <tr>\n",
       "      <th>CRLF3</th>\n",
       "      <th>PLSCR4</th>\n",
       "      <td>0.169776</td>\n",
       "      <td>0.620095</td>\n",
       "      <td>0.450318</td>\n",
       "    </tr>\n",
       "    <tr>\n",
       "      <th>NIPAL2</th>\n",
       "      <th>FUS</th>\n",
       "      <td>0.326307</td>\n",
       "      <td>0.762812</td>\n",
       "      <td>0.436505</td>\n",
       "    </tr>\n",
       "    <tr>\n",
       "      <th>CD209</th>\n",
       "      <th>PLSCR4</th>\n",
       "      <td>0.156937</td>\n",
       "      <td>0.586500</td>\n",
       "      <td>0.429563</td>\n",
       "    </tr>\n",
       "    <tr>\n",
       "      <th>STAC</th>\n",
       "      <th>MRPL50</th>\n",
       "      <td>0.450249</td>\n",
       "      <td>0.834244</td>\n",
       "      <td>0.383995</td>\n",
       "    </tr>\n",
       "    <tr>\n",
       "      <th>CRLF3</th>\n",
       "      <th>CD209</th>\n",
       "      <td>0.413451</td>\n",
       "      <td>0.760693</td>\n",
       "      <td>0.347242</td>\n",
       "    </tr>\n",
       "    <tr>\n",
       "      <th>SYCE2</th>\n",
       "      <th>CRLF3</th>\n",
       "      <td>0.061670</td>\n",
       "      <td>0.364580</td>\n",
       "      <td>0.302910</td>\n",
       "    </tr>\n",
       "    <tr>\n",
       "      <th>HIST1H2BJ</th>\n",
       "      <th>ANXA8</th>\n",
       "      <td>0.201305</td>\n",
       "      <td>0.502563</td>\n",
       "      <td>0.301258</td>\n",
       "    </tr>\n",
       "    <tr>\n",
       "      <th>C5orf22</th>\n",
       "      <th>SYCE2</th>\n",
       "      <td>0.029406</td>\n",
       "      <td>0.309356</td>\n",
       "      <td>0.279950</td>\n",
       "    </tr>\n",
       "    <tr>\n",
       "      <th>SYCE2</th>\n",
       "      <th>CES1</th>\n",
       "      <td>0.038574</td>\n",
       "      <td>0.317425</td>\n",
       "      <td>0.278851</td>\n",
       "    </tr>\n",
       "    <tr>\n",
       "      <th>CBX3</th>\n",
       "      <th>RP1</th>\n",
       "      <td>0.065066</td>\n",
       "      <td>0.339542</td>\n",
       "      <td>0.274476</td>\n",
       "    </tr>\n",
       "    <tr>\n",
       "      <th>ARTN</th>\n",
       "      <th>HIST1H2BJ</th>\n",
       "      <td>0.198175</td>\n",
       "      <td>0.467652</td>\n",
       "      <td>0.269478</td>\n",
       "    </tr>\n",
       "    <tr>\n",
       "      <th>MAGEA12</th>\n",
       "      <th>XRCC4</th>\n",
       "      <td>0.686435</td>\n",
       "      <td>0.949900</td>\n",
       "      <td>0.263465</td>\n",
       "    </tr>\n",
       "    <tr>\n",
       "      <th>SYCE2</th>\n",
       "      <th>PLSCR4</th>\n",
       "      <td>0.045623</td>\n",
       "      <td>0.304199</td>\n",
       "      <td>0.258576</td>\n",
       "    </tr>\n",
       "    <tr>\n",
       "      <th>AL162431.1</th>\n",
       "      <th>CXorf61</th>\n",
       "      <td>0.144343</td>\n",
       "      <td>0.402917</td>\n",
       "      <td>0.258575</td>\n",
       "    </tr>\n",
       "    <tr>\n",
       "      <th>CBX3</th>\n",
       "      <th>KRTAP3-2</th>\n",
       "      <td>0.158257</td>\n",
       "      <td>0.415443</td>\n",
       "      <td>0.257187</td>\n",
       "    </tr>\n",
       "    <tr>\n",
       "      <th>ANXA8</th>\n",
       "      <th>CD209</th>\n",
       "      <td>0.200951</td>\n",
       "      <td>0.457999</td>\n",
       "      <td>0.257048</td>\n",
       "    </tr>\n",
       "    <tr>\n",
       "      <th>SYCE2</th>\n",
       "      <th>CD209</th>\n",
       "      <td>0.090892</td>\n",
       "      <td>0.346175</td>\n",
       "      <td>0.255283</td>\n",
       "    </tr>\n",
       "    <tr>\n",
       "      <th>ANXA8</th>\n",
       "      <th>CRLF3</th>\n",
       "      <td>0.199737</td>\n",
       "      <td>0.451653</td>\n",
       "      <td>0.251916</td>\n",
       "    </tr>\n",
       "    <tr>\n",
       "      <th>CBX3</th>\n",
       "      <th>CXorf61</th>\n",
       "      <td>0.285563</td>\n",
       "      <td>0.531790</td>\n",
       "      <td>0.246227</td>\n",
       "    </tr>\n",
       "    <tr>\n",
       "      <th>HIST1H2BJ</th>\n",
       "      <th>AP000350.4</th>\n",
       "      <td>0.179904</td>\n",
       "      <td>0.425563</td>\n",
       "      <td>0.245659</td>\n",
       "    </tr>\n",
       "  </tbody>\n",
       "</table>\n",
       "</div>"
      ],
      "text/plain": [
       "                            gen      test      diff\n",
       "CRLF3      PLSCR4      0.169776  0.620095  0.450318\n",
       "NIPAL2     FUS         0.326307  0.762812  0.436505\n",
       "CD209      PLSCR4      0.156937  0.586500  0.429563\n",
       "STAC       MRPL50      0.450249  0.834244  0.383995\n",
       "CRLF3      CD209       0.413451  0.760693  0.347242\n",
       "SYCE2      CRLF3       0.061670  0.364580  0.302910\n",
       "HIST1H2BJ  ANXA8       0.201305  0.502563  0.301258\n",
       "C5orf22    SYCE2       0.029406  0.309356  0.279950\n",
       "SYCE2      CES1        0.038574  0.317425  0.278851\n",
       "CBX3       RP1         0.065066  0.339542  0.274476\n",
       "ARTN       HIST1H2BJ   0.198175  0.467652  0.269478\n",
       "MAGEA12    XRCC4       0.686435  0.949900  0.263465\n",
       "SYCE2      PLSCR4      0.045623  0.304199  0.258576\n",
       "AL162431.1 CXorf61     0.144343  0.402917  0.258575\n",
       "CBX3       KRTAP3-2    0.158257  0.415443  0.257187\n",
       "ANXA8      CD209       0.200951  0.457999  0.257048\n",
       "SYCE2      CD209       0.090892  0.346175  0.255283\n",
       "ANXA8      CRLF3       0.199737  0.451653  0.251916\n",
       "CBX3       CXorf61     0.285563  0.531790  0.246227\n",
       "HIST1H2BJ  AP000350.4  0.179904  0.425563  0.245659"
      ]
     },
     "execution_count": 241,
     "metadata": {},
     "output_type": "execute_result"
    }
   ],
   "source": [
    "_tmp_coefs.head(20)"
   ]
  },
  {
   "cell_type": "code",
   "execution_count": 242,
   "id": "605ebf07-807d-4301-be53-92b0500ffa23",
   "metadata": {},
   "outputs": [
    {
     "data": {
      "text/plain": [
       "('CD209', 'PLSCR4')"
      ]
     },
     "metadata": {},
     "output_type": "display_data"
    }
   ],
   "source": [
    "gene0, gene1 = _tmp_coefs.iloc[2].name\n",
    "display((gene0, gene1))\n",
    "\n",
    "# _clustermatch = df.loc[(gene0, gene1), [\"pearson\", \"spearman\", \"clustermatch\"]].tolist()"
   ]
  },
  {
   "cell_type": "code",
   "execution_count": 243,
   "id": "a3d4fa15-1260-46d5-a2c7-56b91a45288b",
   "metadata": {},
   "outputs": [],
   "source": [
    "# _title = f\"Clustermatch: {_clustermatch:.2f}\\nPearson/Spearman: {_pearson:.2f}/{_spearman:.2f}\""
   ]
  },
  {
   "cell_type": "code",
   "execution_count": 244,
   "id": "b5a6665d-10a7-4c86-992a-dace02830fa8",
   "metadata": {},
   "outputs": [
    {
     "data": {
      "image/png": "[encoded data removed]",
      "text/plain": [
       "<Figure size 432x432 with 3 Axes>"
      ]
     },
     "metadata": {
      "needs_background": "light"
     },
     "output_type": "display_data"
    }
   ],
   "source": [
    "p = sns.jointplot(\n",
    "    data=gen_data.T,\n",
    "    x=gene0,\n",
    "    y=gene1,\n",
    "    kind=\"hex\",\n",
    "    bins=\"log\",\n",
    ")\n",
    "\n",
    "# gene_x_id = p.ax_joint.get_xlabel()\n",
    "# gene_x_symbol = gene_map[gene_x_id]\n",
    "# p.ax_joint.set_xlabel(f\"{gene_x_id}\\n{gene_x_symbol}\")\n",
    "\n",
    "# gene_y_id = p.ax_joint.get_ylabel()\n",
    "# gene_y_symbol = gene_map[gene_y_id]\n",
    "# p.ax_joint.set_ylabel(f\"{gene_y_id}\\n{gene_y_symbol}\")\n",
    "\n",
    "# p.fig.suptitle(_title)"
   ]
  },
  {
   "cell_type": "code",
   "execution_count": 245,
   "id": "e4bc54ff-4af0-4ef2-8e77-1f18f8333c81",
   "metadata": {},
   "outputs": [
    {
     "data": {
      "image/png": "[encoded data removed]",
      "text/plain": [
       "<Figure size 432x432 with 3 Axes>"
      ]
     },
     "metadata": {
      "needs_background": "light"
     },
     "output_type": "display_data"
    }
   ],
   "source": [
    "p = sns.jointplot(\n",
    "    data=test_data.T,\n",
    "    x=gene0,\n",
    "    y=gene1,\n",
    "    kind=\"hex\",\n",
    "    bins=\"log\",\n",
    ")\n",
    "\n",
    "# gene_x_id = p.ax_joint.get_xlabel()\n",
    "# gene_x_symbol = gene_map[gene_x_id]\n",
    "# p.ax_joint.set_xlabel(f\"{gene_x_id}\\n{gene_x_symbol}\")\n",
    "\n",
    "# gene_y_id = p.ax_joint.get_ylabel()\n",
    "# gene_y_symbol = gene_map[gene_y_id]\n",
    "# p.ax_joint.set_ylabel(f\"{gene_y_id}\\n{gene_y_symbol}\")\n",
    "\n",
    "# p.fig.suptitle(_title)"
   ]
  },
  {
   "cell_type": "code",
   "execution_count": 246,
   "id": "237fc8d6-9400-454d-bdc7-6a342ff5a50a",
   "metadata": {},
   "outputs": [
    {
     "data": {
      "text/html": [
       "<div>\n",
       "<style scoped>\n",
       "    .dataframe tbody tr th:only-of-type {\n",
       "        vertical-align: middle;\n",
       "    }\n",
       "\n",
       "    .dataframe tbody tr th {\n",
       "        vertical-align: top;\n",
       "    }\n",
       "\n",
       "    .dataframe thead th {\n",
       "        text-align: right;\n",
       "    }\n",
       "</style>\n",
       "<table border=\"1\" class=\"dataframe\">\n",
       "  <thead>\n",
       "    <tr style=\"text-align: right;\">\n",
       "      <th></th>\n",
       "      <th>CD209</th>\n",
       "      <th>PLSCR4</th>\n",
       "    </tr>\n",
       "  </thead>\n",
       "  <tbody>\n",
       "    <tr>\n",
       "      <th>CD209</th>\n",
       "      <td>1.000000</td>\n",
       "      <td>0.470636</td>\n",
       "    </tr>\n",
       "    <tr>\n",
       "      <th>PLSCR4</th>\n",
       "      <td>0.470636</td>\n",
       "      <td>1.000000</td>\n",
       "    </tr>\n",
       "  </tbody>\n",
       "</table>\n",
       "</div>"
      ],
      "text/plain": [
       "           CD209    PLSCR4\n",
       "CD209   1.000000  0.470636\n",
       "PLSCR4  0.470636  1.000000"
      ]
     },
     "metadata": {},
     "output_type": "display_data"
    },
    {
     "data": {
      "text/plain": [
       "0.586499825819842"
      ]
     },
     "metadata": {},
     "output_type": "display_data"
    },
    {
     "data": {
      "text/plain": [
       "(2287, 2)"
      ]
     },
     "metadata": {},
     "output_type": "display_data"
    },
    {
     "data": {
      "text/html": [
       "<div>\n",
       "<style scoped>\n",
       "    .dataframe tbody tr th:only-of-type {\n",
       "        vertical-align: middle;\n",
       "    }\n",
       "\n",
       "    .dataframe tbody tr th {\n",
       "        vertical-align: top;\n",
       "    }\n",
       "\n",
       "    .dataframe thead th {\n",
       "        text-align: right;\n",
       "    }\n",
       "</style>\n",
       "<table border=\"1\" class=\"dataframe\">\n",
       "  <thead>\n",
       "    <tr style=\"text-align: right;\">\n",
       "      <th></th>\n",
       "      <th>CD209</th>\n",
       "      <th>PLSCR4</th>\n",
       "    </tr>\n",
       "  </thead>\n",
       "  <tbody>\n",
       "    <tr>\n",
       "      <th>count</th>\n",
       "      <td>2287.000000</td>\n",
       "      <td>2287.000000</td>\n",
       "    </tr>\n",
       "    <tr>\n",
       "      <th>mean</th>\n",
       "      <td>0.416980</td>\n",
       "      <td>0.436070</td>\n",
       "    </tr>\n",
       "    <tr>\n",
       "      <th>std</th>\n",
       "      <td>0.946684</td>\n",
       "      <td>0.994697</td>\n",
       "    </tr>\n",
       "    <tr>\n",
       "      <th>min</th>\n",
       "      <td>0.000000</td>\n",
       "      <td>0.000000</td>\n",
       "    </tr>\n",
       "    <tr>\n",
       "      <th>25%</th>\n",
       "      <td>0.000000</td>\n",
       "      <td>0.000000</td>\n",
       "    </tr>\n",
       "    <tr>\n",
       "      <th>50%</th>\n",
       "      <td>0.000000</td>\n",
       "      <td>0.000000</td>\n",
       "    </tr>\n",
       "    <tr>\n",
       "      <th>75%</th>\n",
       "      <td>0.000000</td>\n",
       "      <td>0.000000</td>\n",
       "    </tr>\n",
       "    <tr>\n",
       "      <th>max</th>\n",
       "      <td>9.191132</td>\n",
       "      <td>11.513175</td>\n",
       "    </tr>\n",
       "  </tbody>\n",
       "</table>\n",
       "</div>"
      ],
      "text/plain": [
       "             CD209       PLSCR4\n",
       "count  2287.000000  2287.000000\n",
       "mean      0.416980     0.436070\n",
       "std       0.946684     0.994697\n",
       "min       0.000000     0.000000\n",
       "25%       0.000000     0.000000\n",
       "50%       0.000000     0.000000\n",
       "75%       0.000000     0.000000\n",
       "max       9.191132    11.513175"
      ]
     },
     "metadata": {},
     "output_type": "display_data"
    }
   ],
   "source": [
    "_tmp = test_data.T[[gene0, gene1]]\n",
    "\n",
    "display(_tmp.corr())\n",
    "\n",
    "display(cm(_tmp.T.to_numpy()))\n",
    "\n",
    "display(_tmp.shape)\n",
    "display(_tmp.describe())"
   ]
  },
  {
   "cell_type": "code",
   "execution_count": 247,
   "id": "f5969d75-8194-42c5-8abf-511bfc4d5828",
   "metadata": {},
   "outputs": [
    {
     "data": {
      "image/png": "[encoded data removed]",
      "text/plain": [
       "<Figure size 432x432 with 3 Axes>"
      ]
     },
     "metadata": {
      "needs_background": "light"
     },
     "output_type": "display_data"
    }
   ],
   "source": [
    "p = sns.jointplot(\n",
    "    data=train_data.T,\n",
    "    x=gene0,\n",
    "    y=gene1,\n",
    "    kind=\"hex\",\n",
    "    bins=\"log\",\n",
    ")\n",
    "\n",
    "# gene_x_id = p.ax_joint.get_xlabel()\n",
    "# gene_x_symbol = gene_map[gene_x_id]\n",
    "# p.ax_joint.set_xlabel(f\"{gene_x_id}\\n{gene_x_symbol}\")\n",
    "\n",
    "# gene_y_id = p.ax_joint.get_ylabel()\n",
    "# gene_y_symbol = gene_map[gene_y_id]\n",
    "# p.ax_joint.set_ylabel(f\"{gene_y_id}\\n{gene_y_symbol}\")\n",
    "\n",
    "# p.fig.suptitle(_title)"
   ]
  },
  {
   "cell_type": "code",
   "execution_count": 248,
   "id": "93410ab2-8e14-4a1a-9017-df595861cbd9",
   "metadata": {},
   "outputs": [
    {
     "data": {
      "text/html": [
       "<div>\n",
       "<style scoped>\n",
       "    .dataframe tbody tr th:only-of-type {\n",
       "        vertical-align: middle;\n",
       "    }\n",
       "\n",
       "    .dataframe tbody tr th {\n",
       "        vertical-align: top;\n",
       "    }\n",
       "\n",
       "    .dataframe thead th {\n",
       "        text-align: right;\n",
       "    }\n",
       "</style>\n",
       "<table border=\"1\" class=\"dataframe\">\n",
       "  <thead>\n",
       "    <tr style=\"text-align: right;\">\n",
       "      <th></th>\n",
       "      <th>CD209</th>\n",
       "      <th>PLSCR4</th>\n",
       "    </tr>\n",
       "  </thead>\n",
       "  <tbody>\n",
       "    <tr>\n",
       "      <th>CD209</th>\n",
       "      <td>1.000000</td>\n",
       "      <td>0.557274</td>\n",
       "    </tr>\n",
       "    <tr>\n",
       "      <th>PLSCR4</th>\n",
       "      <td>0.557274</td>\n",
       "      <td>1.000000</td>\n",
       "    </tr>\n",
       "  </tbody>\n",
       "</table>\n",
       "</div>"
      ],
      "text/plain": [
       "           CD209    PLSCR4\n",
       "CD209   1.000000  0.557274\n",
       "PLSCR4  0.557274  1.000000"
      ]
     },
     "metadata": {},
     "output_type": "display_data"
    },
    {
     "data": {
      "text/plain": [
       "0.6011440659842143"
      ]
     },
     "metadata": {},
     "output_type": "display_data"
    },
    {
     "data": {
      "text/plain": [
       "(6860, 2)"
      ]
     },
     "metadata": {},
     "output_type": "display_data"
    },
    {
     "data": {
      "text/html": [
       "<div>\n",
       "<style scoped>\n",
       "    .dataframe tbody tr th:only-of-type {\n",
       "        vertical-align: middle;\n",
       "    }\n",
       "\n",
       "    .dataframe tbody tr th {\n",
       "        vertical-align: top;\n",
       "    }\n",
       "\n",
       "    .dataframe thead th {\n",
       "        text-align: right;\n",
       "    }\n",
       "</style>\n",
       "<table border=\"1\" class=\"dataframe\">\n",
       "  <thead>\n",
       "    <tr style=\"text-align: right;\">\n",
       "      <th></th>\n",
       "      <th>CD209</th>\n",
       "      <th>PLSCR4</th>\n",
       "    </tr>\n",
       "  </thead>\n",
       "  <tbody>\n",
       "    <tr>\n",
       "      <th>count</th>\n",
       "      <td>6860.000000</td>\n",
       "      <td>6860.000000</td>\n",
       "    </tr>\n",
       "    <tr>\n",
       "      <th>mean</th>\n",
       "      <td>0.412743</td>\n",
       "      <td>0.430802</td>\n",
       "    </tr>\n",
       "    <tr>\n",
       "      <th>std</th>\n",
       "      <td>0.922839</td>\n",
       "      <td>0.959788</td>\n",
       "    </tr>\n",
       "    <tr>\n",
       "      <th>min</th>\n",
       "      <td>0.000000</td>\n",
       "      <td>0.000000</td>\n",
       "    </tr>\n",
       "    <tr>\n",
       "      <th>25%</th>\n",
       "      <td>0.000000</td>\n",
       "      <td>0.000000</td>\n",
       "    </tr>\n",
       "    <tr>\n",
       "      <th>50%</th>\n",
       "      <td>0.000000</td>\n",
       "      <td>0.000000</td>\n",
       "    </tr>\n",
       "    <tr>\n",
       "      <th>75%</th>\n",
       "      <td>0.000000</td>\n",
       "      <td>0.000000</td>\n",
       "    </tr>\n",
       "    <tr>\n",
       "      <th>max</th>\n",
       "      <td>7.978122</td>\n",
       "      <td>12.996510</td>\n",
       "    </tr>\n",
       "  </tbody>\n",
       "</table>\n",
       "</div>"
      ],
      "text/plain": [
       "             CD209       PLSCR4\n",
       "count  6860.000000  6860.000000\n",
       "mean      0.412743     0.430802\n",
       "std       0.922839     0.959788\n",
       "min       0.000000     0.000000\n",
       "25%       0.000000     0.000000\n",
       "50%       0.000000     0.000000\n",
       "75%       0.000000     0.000000\n",
       "max       7.978122    12.996510"
      ]
     },
     "metadata": {},
     "output_type": "display_data"
    }
   ],
   "source": [
    "_tmp = train_data.T[[gene0, gene1]]\n",
    "\n",
    "display(_tmp.corr())\n",
    "\n",
    "display(cm(_tmp.T.to_numpy()))\n",
    "\n",
    "display(_tmp.shape)\n",
    "display(_tmp.describe())"
   ]
  },
  {
   "cell_type": "markdown",
   "id": "8c2b348f-055b-450b-9c40-b7604cd9fdcc",
   "metadata": {},
   "source": [
    "# Test is higher"
   ]
  },
  {
   "cell_type": "code",
   "execution_count": 78,
   "id": "11c06cfd-48b3-4250-9f9e-f9a8e728843c",
   "metadata": {},
   "outputs": [
    {
     "data": {
      "text/plain": [
       "(788, 2)"
      ]
     },
     "metadata": {},
     "output_type": "display_data"
    },
    {
     "data": {
      "text/html": [
       "<div>\n",
       "<style scoped>\n",
       "    .dataframe tbody tr th:only-of-type {\n",
       "        vertical-align: middle;\n",
       "    }\n",
       "\n",
       "    .dataframe tbody tr th {\n",
       "        vertical-align: top;\n",
       "    }\n",
       "\n",
       "    .dataframe thead th {\n",
       "        text-align: right;\n",
       "    }\n",
       "</style>\n",
       "<table border=\"1\" class=\"dataframe\">\n",
       "  <thead>\n",
       "    <tr style=\"text-align: right;\">\n",
       "      <th></th>\n",
       "      <th></th>\n",
       "      <th>gen</th>\n",
       "      <th>test</th>\n",
       "    </tr>\n",
       "  </thead>\n",
       "  <tbody>\n",
       "    <tr>\n",
       "      <th>SYCE2</th>\n",
       "      <th>MEAF6</th>\n",
       "      <td>0.006272</td>\n",
       "      <td>0.194261</td>\n",
       "    </tr>\n",
       "    <tr>\n",
       "      <th>RTCB</th>\n",
       "      <th>A4GALT</th>\n",
       "      <td>0.004624</td>\n",
       "      <td>0.160559</td>\n",
       "    </tr>\n",
       "    <tr>\n",
       "      <th>CEP85</th>\n",
       "      <th>EXD1</th>\n",
       "      <td>0.004701</td>\n",
       "      <td>0.138220</td>\n",
       "    </tr>\n",
       "    <tr>\n",
       "      <th>SPIN2B</th>\n",
       "      <th>CRLF3</th>\n",
       "      <td>0.005966</td>\n",
       "      <td>0.135742</td>\n",
       "    </tr>\n",
       "    <tr>\n",
       "      <th>GPBP1L1</th>\n",
       "      <th>PRDM16</th>\n",
       "      <td>0.006244</td>\n",
       "      <td>0.123542</td>\n",
       "    </tr>\n",
       "    <tr>\n",
       "      <th>...</th>\n",
       "      <th>...</th>\n",
       "      <td>...</td>\n",
       "      <td>...</td>\n",
       "    </tr>\n",
       "    <tr>\n",
       "      <th>XPNPEP3</th>\n",
       "      <th>MAMSTR</th>\n",
       "      <td>0.004897</td>\n",
       "      <td>0.055077</td>\n",
       "    </tr>\n",
       "    <tr>\n",
       "      <th>OMD</th>\n",
       "      <th>MT-ATP6</th>\n",
       "      <td>0.004827</td>\n",
       "      <td>0.055014</td>\n",
       "    </tr>\n",
       "    <tr>\n",
       "      <th>PIN4</th>\n",
       "      <th>OR1L8</th>\n",
       "      <td>0.004588</td>\n",
       "      <td>0.055005</td>\n",
       "    </tr>\n",
       "    <tr>\n",
       "      <th>HIST2H2AA4</th>\n",
       "      <th>VPS33A</th>\n",
       "      <td>0.005853</td>\n",
       "      <td>0.055000</td>\n",
       "    </tr>\n",
       "    <tr>\n",
       "      <th>MROH6</th>\n",
       "      <th>SPIN2B</th>\n",
       "      <td>0.005271</td>\n",
       "      <td>0.054992</td>\n",
       "    </tr>\n",
       "  </tbody>\n",
       "</table>\n",
       "<p>788 rows × 2 columns</p>\n",
       "</div>"
      ],
      "text/plain": [
       "                         gen      test\n",
       "SYCE2      MEAF6    0.006272  0.194261\n",
       "RTCB       A4GALT   0.004624  0.160559\n",
       "CEP85      EXD1     0.004701  0.138220\n",
       "SPIN2B     CRLF3    0.005966  0.135742\n",
       "GPBP1L1    PRDM16   0.006244  0.123542\n",
       "...                      ...       ...\n",
       "XPNPEP3    MAMSTR   0.004897  0.055077\n",
       "OMD        MT-ATP6  0.004827  0.055014\n",
       "PIN4       OR1L8    0.004588  0.055005\n",
       "HIST2H2AA4 VPS33A   0.005853  0.055000\n",
       "MROH6      SPIN2B   0.005271  0.054992\n",
       "\n",
       "[788 rows x 2 columns]"
      ]
     },
     "metadata": {},
     "output_type": "display_data"
    }
   ],
   "source": [
    "# gen higher\n",
    "_tmp_test_higher = coefs[\n",
    "    (coefs[\"test\"] >= coefs_q.loc[0.90, \"test\"])\n",
    "    & (coefs[\"gen\"] <= coefs_q.loc[0.10, \"gen\"])\n",
    "].sort_values(\"test\", ascending=False)\n",
    "\n",
    "display(_tmp_test_higher.shape)\n",
    "display(_tmp_test_higher)"
   ]
  },
  {
   "cell_type": "code",
   "execution_count": 199,
   "id": "eb5b7e06-9005-461e-bc2c-becf391f414b",
   "metadata": {},
   "outputs": [
    {
     "data": {
      "text/plain": [
       "('SERPINA3', 'TAF6L')"
      ]
     },
     "metadata": {},
     "output_type": "display_data"
    }
   ],
   "source": [
    "gene0, gene1 = _tmp_test_higher.iloc[26].name\n",
    "display((gene0, gene1))\n",
    "\n",
    "# _clustermatch = df.loc[(gene0, gene1), [\"pearson\", \"spearman\", \"clustermatch\"]].tolist()"
   ]
  },
  {
   "cell_type": "code",
   "execution_count": 200,
   "id": "8cc696ed-a0ec-4b97-a311-7050a1825e6e",
   "metadata": {},
   "outputs": [],
   "source": [
    "# _title = f\"Clustermatch: {_clustermatch:.2f}\\nPearson/Spearman: {_pearson:.2f}/{_spearman:.2f}\""
   ]
  },
  {
   "cell_type": "code",
   "execution_count": 201,
   "id": "8f4429a9-d2f2-4210-8243-b3e92e551bf6",
   "metadata": {},
   "outputs": [
    {
     "data": {
      "image/png": "[encoded data removed]",
      "text/plain": [
       "<Figure size 432x432 with 3 Axes>"
      ]
     },
     "metadata": {
      "needs_background": "light"
     },
     "output_type": "display_data"
    }
   ],
   "source": [
    "p = sns.jointplot(\n",
    "    data=test_data.T,\n",
    "    x=gene0,\n",
    "    y=gene1,\n",
    "    kind=\"hex\",\n",
    "    bins=\"log\",\n",
    ")\n",
    "\n",
    "# gene_x_id = p.ax_joint.get_xlabel()\n",
    "# gene_x_symbol = gene_map[gene_x_id]\n",
    "# p.ax_joint.set_xlabel(f\"{gene_x_id}\\n{gene_x_symbol}\")\n",
    "\n",
    "# gene_y_id = p.ax_joint.get_ylabel()\n",
    "# gene_y_symbol = gene_map[gene_y_id]\n",
    "# p.ax_joint.set_ylabel(f\"{gene_y_id}\\n{gene_y_symbol}\")\n",
    "\n",
    "# p.fig.suptitle(_title)"
   ]
  },
  {
   "cell_type": "code",
   "execution_count": 202,
   "id": "7aaf259d-060e-4e12-996c-cd3969202e30",
   "metadata": {},
   "outputs": [
    {
     "data": {
      "text/html": [
       "<div>\n",
       "<style scoped>\n",
       "    .dataframe tbody tr th:only-of-type {\n",
       "        vertical-align: middle;\n",
       "    }\n",
       "\n",
       "    .dataframe tbody tr th {\n",
       "        vertical-align: top;\n",
       "    }\n",
       "\n",
       "    .dataframe thead th {\n",
       "        text-align: right;\n",
       "    }\n",
       "</style>\n",
       "<table border=\"1\" class=\"dataframe\">\n",
       "  <thead>\n",
       "    <tr style=\"text-align: right;\">\n",
       "      <th></th>\n",
       "      <th>SERPINA3</th>\n",
       "      <th>TAF6L</th>\n",
       "    </tr>\n",
       "  </thead>\n",
       "  <tbody>\n",
       "    <tr>\n",
       "      <th>SERPINA3</th>\n",
       "      <td>1.000000</td>\n",
       "      <td>0.116783</td>\n",
       "    </tr>\n",
       "    <tr>\n",
       "      <th>TAF6L</th>\n",
       "      <td>0.116783</td>\n",
       "      <td>1.000000</td>\n",
       "    </tr>\n",
       "  </tbody>\n",
       "</table>\n",
       "</div>"
      ],
      "text/plain": [
       "          SERPINA3     TAF6L\n",
       "SERPINA3  1.000000  0.116783\n",
       "TAF6L     0.116783  1.000000"
      ]
     },
     "metadata": {},
     "output_type": "display_data"
    },
    {
     "data": {
      "text/plain": [
       "0.0985072328874322"
      ]
     },
     "metadata": {},
     "output_type": "display_data"
    },
    {
     "data": {
      "text/plain": [
       "(2287, 2)"
      ]
     },
     "metadata": {},
     "output_type": "display_data"
    },
    {
     "data": {
      "text/html": [
       "<div>\n",
       "<style scoped>\n",
       "    .dataframe tbody tr th:only-of-type {\n",
       "        vertical-align: middle;\n",
       "    }\n",
       "\n",
       "    .dataframe tbody tr th {\n",
       "        vertical-align: top;\n",
       "    }\n",
       "\n",
       "    .dataframe thead th {\n",
       "        text-align: right;\n",
       "    }\n",
       "</style>\n",
       "<table border=\"1\" class=\"dataframe\">\n",
       "  <thead>\n",
       "    <tr style=\"text-align: right;\">\n",
       "      <th></th>\n",
       "      <th>SERPINA3</th>\n",
       "      <th>TAF6L</th>\n",
       "    </tr>\n",
       "  </thead>\n",
       "  <tbody>\n",
       "    <tr>\n",
       "      <th>count</th>\n",
       "      <td>2287.000000</td>\n",
       "      <td>2287.000000</td>\n",
       "    </tr>\n",
       "    <tr>\n",
       "      <th>mean</th>\n",
       "      <td>0.848425</td>\n",
       "      <td>0.355289</td>\n",
       "    </tr>\n",
       "    <tr>\n",
       "      <th>std</th>\n",
       "      <td>1.315298</td>\n",
       "      <td>0.837061</td>\n",
       "    </tr>\n",
       "    <tr>\n",
       "      <th>min</th>\n",
       "      <td>0.000000</td>\n",
       "      <td>0.000000</td>\n",
       "    </tr>\n",
       "    <tr>\n",
       "      <th>25%</th>\n",
       "      <td>0.000000</td>\n",
       "      <td>0.000000</td>\n",
       "    </tr>\n",
       "    <tr>\n",
       "      <th>50%</th>\n",
       "      <td>0.000000</td>\n",
       "      <td>0.000000</td>\n",
       "    </tr>\n",
       "    <tr>\n",
       "      <th>75%</th>\n",
       "      <td>1.354538</td>\n",
       "      <td>0.000000</td>\n",
       "    </tr>\n",
       "    <tr>\n",
       "      <th>max</th>\n",
       "      <td>8.144479</td>\n",
       "      <td>8.872284</td>\n",
       "    </tr>\n",
       "  </tbody>\n",
       "</table>\n",
       "</div>"
      ],
      "text/plain": [
       "          SERPINA3        TAF6L\n",
       "count  2287.000000  2287.000000\n",
       "mean      0.848425     0.355289\n",
       "std       1.315298     0.837061\n",
       "min       0.000000     0.000000\n",
       "25%       0.000000     0.000000\n",
       "50%       0.000000     0.000000\n",
       "75%       1.354538     0.000000\n",
       "max       8.144479     8.872284"
      ]
     },
     "metadata": {},
     "output_type": "display_data"
    }
   ],
   "source": [
    "_tmp = test_data.T[[gene0, gene1]]\n",
    "\n",
    "display(_tmp.corr())\n",
    "\n",
    "display(cm(_tmp.T.to_numpy(), internal_n_clusters=None))\n",
    "\n",
    "display(_tmp.shape)\n",
    "display(_tmp.describe())"
   ]
  },
  {
   "cell_type": "code",
   "execution_count": 203,
   "id": "b14b72ca-7a62-4d8c-8a53-61962ea843dd",
   "metadata": {},
   "outputs": [
    {
     "data": {
      "image/png": "[encoded data removed]",
      "text/plain": [
       "<Figure size 432x432 with 3 Axes>"
      ]
     },
     "metadata": {
      "needs_background": "light"
     },
     "output_type": "display_data"
    }
   ],
   "source": [
    "p = sns.jointplot(\n",
    "    data=gen_data.T,\n",
    "    x=gene0,\n",
    "    y=gene1,\n",
    "    kind=\"hex\",\n",
    "    bins=\"log\",\n",
    ")\n",
    "\n",
    "# gene_x_id = p.ax_joint.get_xlabel()\n",
    "# gene_x_symbol = gene_map[gene_x_id]\n",
    "# p.ax_joint.set_xlabel(f\"{gene_x_id}\\n{gene_x_symbol}\")\n",
    "\n",
    "# gene_y_id = p.ax_joint.get_ylabel()\n",
    "# gene_y_symbol = gene_map[gene_y_id]\n",
    "# p.ax_joint.set_ylabel(f\"{gene_y_id}\\n{gene_y_symbol}\")\n",
    "\n",
    "# p.fig.suptitle(_title)"
   ]
  },
  {
   "cell_type": "code",
   "execution_count": 205,
   "id": "dc00385e-f57e-4edb-b83f-812a6368ccb1",
   "metadata": {},
   "outputs": [
    {
     "data": {
      "text/html": [
       "<div>\n",
       "<style scoped>\n",
       "    .dataframe tbody tr th:only-of-type {\n",
       "        vertical-align: middle;\n",
       "    }\n",
       "\n",
       "    .dataframe tbody tr th {\n",
       "        vertical-align: top;\n",
       "    }\n",
       "\n",
       "    .dataframe thead th {\n",
       "        text-align: right;\n",
       "    }\n",
       "</style>\n",
       "<table border=\"1\" class=\"dataframe\">\n",
       "  <thead>\n",
       "    <tr style=\"text-align: right;\">\n",
       "      <th></th>\n",
       "      <th>SERPINA3</th>\n",
       "      <th>TAF6L</th>\n",
       "    </tr>\n",
       "  </thead>\n",
       "  <tbody>\n",
       "    <tr>\n",
       "      <th>SERPINA3</th>\n",
       "      <td>1.000000</td>\n",
       "      <td>0.023215</td>\n",
       "    </tr>\n",
       "    <tr>\n",
       "      <th>TAF6L</th>\n",
       "      <td>0.023215</td>\n",
       "      <td>1.000000</td>\n",
       "    </tr>\n",
       "  </tbody>\n",
       "</table>\n",
       "</div>"
      ],
      "text/plain": [
       "          SERPINA3     TAF6L\n",
       "SERPINA3  1.000000  0.023215\n",
       "TAF6L     0.023215  1.000000"
      ]
     },
     "metadata": {},
     "output_type": "display_data"
    },
    {
     "data": {
      "text/plain": [
       "0.0026228872051693494"
      ]
     },
     "metadata": {},
     "output_type": "display_data"
    },
    {
     "data": {
      "text/plain": [
       "(2287, 2)"
      ]
     },
     "metadata": {},
     "output_type": "display_data"
    },
    {
     "data": {
      "text/html": [
       "<div>\n",
       "<style scoped>\n",
       "    .dataframe tbody tr th:only-of-type {\n",
       "        vertical-align: middle;\n",
       "    }\n",
       "\n",
       "    .dataframe tbody tr th {\n",
       "        vertical-align: top;\n",
       "    }\n",
       "\n",
       "    .dataframe thead th {\n",
       "        text-align: right;\n",
       "    }\n",
       "</style>\n",
       "<table border=\"1\" class=\"dataframe\">\n",
       "  <thead>\n",
       "    <tr style=\"text-align: right;\">\n",
       "      <th></th>\n",
       "      <th>SERPINA3</th>\n",
       "      <th>TAF6L</th>\n",
       "    </tr>\n",
       "  </thead>\n",
       "  <tbody>\n",
       "    <tr>\n",
       "      <th>count</th>\n",
       "      <td>2287.000000</td>\n",
       "      <td>2287.000000</td>\n",
       "    </tr>\n",
       "    <tr>\n",
       "      <th>mean</th>\n",
       "      <td>0.870402</td>\n",
       "      <td>0.385480</td>\n",
       "    </tr>\n",
       "    <tr>\n",
       "      <th>std</th>\n",
       "      <td>0.962267</td>\n",
       "      <td>0.622237</td>\n",
       "    </tr>\n",
       "    <tr>\n",
       "      <th>min</th>\n",
       "      <td>0.000000</td>\n",
       "      <td>0.000000</td>\n",
       "    </tr>\n",
       "    <tr>\n",
       "      <th>25%</th>\n",
       "      <td>0.179525</td>\n",
       "      <td>0.000000</td>\n",
       "    </tr>\n",
       "    <tr>\n",
       "      <th>50%</th>\n",
       "      <td>0.588758</td>\n",
       "      <td>0.201526</td>\n",
       "    </tr>\n",
       "    <tr>\n",
       "      <th>75%</th>\n",
       "      <td>1.143042</td>\n",
       "      <td>0.497859</td>\n",
       "    </tr>\n",
       "    <tr>\n",
       "      <th>max</th>\n",
       "      <td>5.922647</td>\n",
       "      <td>8.984008</td>\n",
       "    </tr>\n",
       "  </tbody>\n",
       "</table>\n",
       "</div>"
      ],
      "text/plain": [
       "          SERPINA3        TAF6L\n",
       "count  2287.000000  2287.000000\n",
       "mean      0.870402     0.385480\n",
       "std       0.962267     0.622237\n",
       "min       0.000000     0.000000\n",
       "25%       0.179525     0.000000\n",
       "50%       0.588758     0.201526\n",
       "75%       1.143042     0.497859\n",
       "max       5.922647     8.984008"
      ]
     },
     "metadata": {},
     "output_type": "display_data"
    }
   ],
   "source": [
    "_tmp = gen_data.T[[gene0, gene1]]\n",
    "\n",
    "display(_tmp.corr())\n",
    "\n",
    "display(cm(_tmp.T.to_numpy(), internal_n_clusters=None))\n",
    "\n",
    "display(_tmp.shape)\n",
    "display(_tmp.describe())"
   ]
  },
  {
   "cell_type": "markdown",
   "id": "4a37d536-8e49-47e1-83df-2dc91a8e843f",
   "metadata": {},
   "source": [
    "# Gen is higher"
   ]
  },
  {
   "cell_type": "code",
   "execution_count": 206,
   "id": "ffc06719-1242-4a92-830f-827471fc3f54",
   "metadata": {},
   "outputs": [
    {
     "data": {
      "text/plain": [
       "(80, 2)"
      ]
     },
     "metadata": {},
     "output_type": "display_data"
    },
    {
     "data": {
      "text/html": [
       "<div>\n",
       "<style scoped>\n",
       "    .dataframe tbody tr th:only-of-type {\n",
       "        vertical-align: middle;\n",
       "    }\n",
       "\n",
       "    .dataframe tbody tr th {\n",
       "        vertical-align: top;\n",
       "    }\n",
       "\n",
       "    .dataframe thead th {\n",
       "        text-align: right;\n",
       "    }\n",
       "</style>\n",
       "<table border=\"1\" class=\"dataframe\">\n",
       "  <thead>\n",
       "    <tr style=\"text-align: right;\">\n",
       "      <th></th>\n",
       "      <th></th>\n",
       "      <th>gen</th>\n",
       "      <th>test</th>\n",
       "    </tr>\n",
       "  </thead>\n",
       "  <tbody>\n",
       "    <tr>\n",
       "      <th>PRKACA</th>\n",
       "      <th>MFSD6</th>\n",
       "      <td>0.109752</td>\n",
       "      <td>0.002797</td>\n",
       "    </tr>\n",
       "    <tr>\n",
       "      <th>PARN</th>\n",
       "      <th>HES1</th>\n",
       "      <td>0.105155</td>\n",
       "      <td>0.002936</td>\n",
       "    </tr>\n",
       "    <tr>\n",
       "      <th rowspan=\"2\" valign=\"top\">SUN2</th>\n",
       "      <th>TRIM44</th>\n",
       "      <td>0.104588</td>\n",
       "      <td>0.001818</td>\n",
       "    </tr>\n",
       "    <tr>\n",
       "      <th>SYNPO</th>\n",
       "      <td>0.099547</td>\n",
       "      <td>0.002845</td>\n",
       "    </tr>\n",
       "    <tr>\n",
       "      <th>CNOT10</th>\n",
       "      <th>SLAMF1</th>\n",
       "      <td>0.098995</td>\n",
       "      <td>0.003006</td>\n",
       "    </tr>\n",
       "    <tr>\n",
       "      <th>...</th>\n",
       "      <th>...</th>\n",
       "      <td>...</td>\n",
       "      <td>...</td>\n",
       "    </tr>\n",
       "    <tr>\n",
       "      <th>THAP4</th>\n",
       "      <th>SMIM20</th>\n",
       "      <td>0.079137</td>\n",
       "      <td>0.003562</td>\n",
       "    </tr>\n",
       "    <tr>\n",
       "      <th>CHRNA9</th>\n",
       "      <th>BCL9L</th>\n",
       "      <td>0.079137</td>\n",
       "      <td>0.002018</td>\n",
       "    </tr>\n",
       "    <tr>\n",
       "      <th>BSDC1</th>\n",
       "      <th>RPL36</th>\n",
       "      <td>0.078645</td>\n",
       "      <td>0.002133</td>\n",
       "    </tr>\n",
       "    <tr>\n",
       "      <th>FSIP1</th>\n",
       "      <th>CTTNBP2</th>\n",
       "      <td>0.078645</td>\n",
       "      <td>0.001564</td>\n",
       "    </tr>\n",
       "    <tr>\n",
       "      <th>MT-CO2</th>\n",
       "      <th>FSIP1</th>\n",
       "      <td>0.078645</td>\n",
       "      <td>0.002680</td>\n",
       "    </tr>\n",
       "  </tbody>\n",
       "</table>\n",
       "<p>80 rows × 2 columns</p>\n",
       "</div>"
      ],
      "text/plain": [
       "                     gen      test\n",
       "PRKACA MFSD6    0.109752  0.002797\n",
       "PARN   HES1     0.105155  0.002936\n",
       "SUN2   TRIM44   0.104588  0.001818\n",
       "       SYNPO    0.099547  0.002845\n",
       "CNOT10 SLAMF1   0.098995  0.003006\n",
       "...                  ...       ...\n",
       "THAP4  SMIM20   0.079137  0.003562\n",
       "CHRNA9 BCL9L    0.079137  0.002018\n",
       "BSDC1  RPL36    0.078645  0.002133\n",
       "FSIP1  CTTNBP2  0.078645  0.001564\n",
       "MT-CO2 FSIP1    0.078645  0.002680\n",
       "\n",
       "[80 rows x 2 columns]"
      ]
     },
     "metadata": {},
     "output_type": "display_data"
    }
   ],
   "source": [
    "# gen higher\n",
    "_tmp_gen_higher = coefs[\n",
    "    (coefs[\"gen\"] >= coefs_q.loc[0.90, \"gen\"])\n",
    "    & (coefs[\"test\"] <= coefs_q.loc[0.10, \"test\"])\n",
    "].sort_values(\"gen\", ascending=False)\n",
    "\n",
    "display(_tmp_gen_higher.shape)\n",
    "display(_tmp_gen_higher)"
   ]
  },
  {
   "cell_type": "code",
   "execution_count": 229,
   "id": "060f1cee-3250-4127-be2c-ca6dc2878460",
   "metadata": {},
   "outputs": [
    {
     "data": {
      "text/plain": [
       "('SUN2', 'TRIM44')"
      ]
     },
     "metadata": {},
     "output_type": "display_data"
    }
   ],
   "source": [
    "gene0, gene1 = _tmp_gen_higher.iloc[2].name\n",
    "display((gene0, gene1))\n",
    "\n",
    "# _clustermatch = df.loc[(gene0, gene1), [\"pearson\", \"spearman\", \"clustermatch\"]].tolist()"
   ]
  },
  {
   "cell_type": "code",
   "execution_count": 230,
   "id": "c659b5b4-6d46-4f2a-8eff-b97011a2f57a",
   "metadata": {},
   "outputs": [],
   "source": [
    "# _title = f\"Clustermatch: {_clustermatch:.2f}\\nPearson/Spearman: {_pearson:.2f}/{_spearman:.2f}\""
   ]
  },
  {
   "cell_type": "code",
   "execution_count": 231,
   "id": "0cd690e3-036a-4c3d-8840-6546181c19e8",
   "metadata": {},
   "outputs": [
    {
     "data": {
      "image/png": "[encoded data removed]",
      "text/plain": [
       "<Figure size 432x432 with 3 Axes>"
      ]
     },
     "metadata": {
      "needs_background": "light"
     },
     "output_type": "display_data"
    }
   ],
   "source": [
    "p = sns.jointplot(\n",
    "    data=gen_data.T,\n",
    "    x=gene0,\n",
    "    y=gene1,\n",
    "    kind=\"hex\",\n",
    "    bins=\"log\",\n",
    ")\n",
    "\n",
    "# gene_x_id = p.ax_joint.get_xlabel()\n",
    "# gene_x_symbol = gene_map[gene_x_id]\n",
    "# p.ax_joint.set_xlabel(f\"{gene_x_id}\\n{gene_x_symbol}\")\n",
    "\n",
    "# gene_y_id = p.ax_joint.get_ylabel()\n",
    "# gene_y_symbol = gene_map[gene_y_id]\n",
    "# p.ax_joint.set_ylabel(f\"{gene_y_id}\\n{gene_y_symbol}\")\n",
    "\n",
    "# p.fig.suptitle(_title)"
   ]
  },
  {
   "cell_type": "code",
   "execution_count": 232,
   "id": "e13771fe-cdb0-46ab-9c70-f1d46209f120",
   "metadata": {},
   "outputs": [
    {
     "data": {
      "text/html": [
       "<div>\n",
       "<style scoped>\n",
       "    .dataframe tbody tr th:only-of-type {\n",
       "        vertical-align: middle;\n",
       "    }\n",
       "\n",
       "    .dataframe tbody tr th {\n",
       "        vertical-align: top;\n",
       "    }\n",
       "\n",
       "    .dataframe thead th {\n",
       "        text-align: right;\n",
       "    }\n",
       "</style>\n",
       "<table border=\"1\" class=\"dataframe\">\n",
       "  <thead>\n",
       "    <tr style=\"text-align: right;\">\n",
       "      <th></th>\n",
       "      <th>SUN2</th>\n",
       "      <th>TRIM44</th>\n",
       "    </tr>\n",
       "  </thead>\n",
       "  <tbody>\n",
       "    <tr>\n",
       "      <th>SUN2</th>\n",
       "      <td>1.000000</td>\n",
       "      <td>-0.328788</td>\n",
       "    </tr>\n",
       "    <tr>\n",
       "      <th>TRIM44</th>\n",
       "      <td>-0.328788</td>\n",
       "      <td>1.000000</td>\n",
       "    </tr>\n",
       "  </tbody>\n",
       "</table>\n",
       "</div>"
      ],
      "text/plain": [
       "            SUN2    TRIM44\n",
       "SUN2    1.000000 -0.328788\n",
       "TRIM44 -0.328788  1.000000"
      ]
     },
     "metadata": {},
     "output_type": "display_data"
    },
    {
     "data": {
      "text/plain": [
       "0.1045877063479932"
      ]
     },
     "metadata": {},
     "output_type": "display_data"
    },
    {
     "data": {
      "text/plain": [
       "(2287, 2)"
      ]
     },
     "metadata": {},
     "output_type": "display_data"
    },
    {
     "data": {
      "text/html": [
       "<div>\n",
       "<style scoped>\n",
       "    .dataframe tbody tr th:only-of-type {\n",
       "        vertical-align: middle;\n",
       "    }\n",
       "\n",
       "    .dataframe tbody tr th {\n",
       "        vertical-align: top;\n",
       "    }\n",
       "\n",
       "    .dataframe thead th {\n",
       "        text-align: right;\n",
       "    }\n",
       "</style>\n",
       "<table border=\"1\" class=\"dataframe\">\n",
       "  <thead>\n",
       "    <tr style=\"text-align: right;\">\n",
       "      <th></th>\n",
       "      <th>SUN2</th>\n",
       "      <th>TRIM44</th>\n",
       "    </tr>\n",
       "  </thead>\n",
       "  <tbody>\n",
       "    <tr>\n",
       "      <th>count</th>\n",
       "      <td>2287.000000</td>\n",
       "      <td>2287.000000</td>\n",
       "    </tr>\n",
       "    <tr>\n",
       "      <th>mean</th>\n",
       "      <td>1.881074</td>\n",
       "      <td>1.848146</td>\n",
       "    </tr>\n",
       "    <tr>\n",
       "      <th>std</th>\n",
       "      <td>0.876844</td>\n",
       "      <td>0.766303</td>\n",
       "    </tr>\n",
       "    <tr>\n",
       "      <th>min</th>\n",
       "      <td>0.000000</td>\n",
       "      <td>0.000000</td>\n",
       "    </tr>\n",
       "    <tr>\n",
       "      <th>25%</th>\n",
       "      <td>1.229344</td>\n",
       "      <td>1.299352</td>\n",
       "    </tr>\n",
       "    <tr>\n",
       "      <th>50%</th>\n",
       "      <td>1.804230</td>\n",
       "      <td>1.785295</td>\n",
       "    </tr>\n",
       "    <tr>\n",
       "      <th>75%</th>\n",
       "      <td>2.450505</td>\n",
       "      <td>2.374629</td>\n",
       "    </tr>\n",
       "    <tr>\n",
       "      <th>max</th>\n",
       "      <td>5.081167</td>\n",
       "      <td>5.652531</td>\n",
       "    </tr>\n",
       "  </tbody>\n",
       "</table>\n",
       "</div>"
      ],
      "text/plain": [
       "              SUN2       TRIM44\n",
       "count  2287.000000  2287.000000\n",
       "mean      1.881074     1.848146\n",
       "std       0.876844     0.766303\n",
       "min       0.000000     0.000000\n",
       "25%       1.229344     1.299352\n",
       "50%       1.804230     1.785295\n",
       "75%       2.450505     2.374629\n",
       "max       5.081167     5.652531"
      ]
     },
     "metadata": {},
     "output_type": "display_data"
    }
   ],
   "source": [
    "_tmp = gen_data.T[[gene0, gene1]]\n",
    "\n",
    "display(_tmp.corr())\n",
    "\n",
    "display(cm(_tmp.T.to_numpy(), internal_n_clusters=None))\n",
    "\n",
    "display(_tmp.shape)\n",
    "display(_tmp.describe())"
   ]
  },
  {
   "cell_type": "code",
   "execution_count": 233,
   "id": "3e13ebc6-e946-4faf-a9d2-e1b4c20244fa",
   "metadata": {},
   "outputs": [
    {
     "data": {
      "image/png": "[encoded data removed]",
      "text/plain": [
       "<Figure size 432x432 with 3 Axes>"
      ]
     },
     "metadata": {
      "needs_background": "light"
     },
     "output_type": "display_data"
    }
   ],
   "source": [
    "p = sns.jointplot(\n",
    "    data=test_data.T,\n",
    "    x=gene0,\n",
    "    y=gene1,\n",
    "    kind=\"hex\",\n",
    "    bins=\"log\",\n",
    ")\n",
    "\n",
    "# gene_x_id = p.ax_joint.get_xlabel()\n",
    "# gene_x_symbol = gene_map[gene_x_id]\n",
    "# p.ax_joint.set_xlabel(f\"{gene_x_id}\\n{gene_x_symbol}\")\n",
    "\n",
    "# gene_y_id = p.ax_joint.get_ylabel()\n",
    "# gene_y_symbol = gene_map[gene_y_id]\n",
    "# p.ax_joint.set_ylabel(f\"{gene_y_id}\\n{gene_y_symbol}\")\n",
    "\n",
    "# p.fig.suptitle(_title)"
   ]
  },
  {
   "cell_type": "code",
   "execution_count": 234,
   "id": "7d63f3fa-bcdc-493c-8bdb-d7086bb240f2",
   "metadata": {},
   "outputs": [
    {
     "data": {
      "text/html": [
       "<div>\n",
       "<style scoped>\n",
       "    .dataframe tbody tr th:only-of-type {\n",
       "        vertical-align: middle;\n",
       "    }\n",
       "\n",
       "    .dataframe tbody tr th {\n",
       "        vertical-align: top;\n",
       "    }\n",
       "\n",
       "    .dataframe thead th {\n",
       "        text-align: right;\n",
       "    }\n",
       "</style>\n",
       "<table border=\"1\" class=\"dataframe\">\n",
       "  <thead>\n",
       "    <tr style=\"text-align: right;\">\n",
       "      <th></th>\n",
       "      <th>SUN2</th>\n",
       "      <th>TRIM44</th>\n",
       "    </tr>\n",
       "  </thead>\n",
       "  <tbody>\n",
       "    <tr>\n",
       "      <th>SUN2</th>\n",
       "      <td>1.000000</td>\n",
       "      <td>-0.031647</td>\n",
       "    </tr>\n",
       "    <tr>\n",
       "      <th>TRIM44</th>\n",
       "      <td>-0.031647</td>\n",
       "      <td>1.000000</td>\n",
       "    </tr>\n",
       "  </tbody>\n",
       "</table>\n",
       "</div>"
      ],
      "text/plain": [
       "            SUN2    TRIM44\n",
       "SUN2    1.000000 -0.031647\n",
       "TRIM44 -0.031647  1.000000"
      ]
     },
     "metadata": {},
     "output_type": "display_data"
    },
    {
     "data": {
      "text/plain": [
       "0.0018183963533444304"
      ]
     },
     "metadata": {},
     "output_type": "display_data"
    },
    {
     "data": {
      "text/plain": [
       "(2287, 2)"
      ]
     },
     "metadata": {},
     "output_type": "display_data"
    },
    {
     "data": {
      "text/html": [
       "<div>\n",
       "<style scoped>\n",
       "    .dataframe tbody tr th:only-of-type {\n",
       "        vertical-align: middle;\n",
       "    }\n",
       "\n",
       "    .dataframe tbody tr th {\n",
       "        vertical-align: top;\n",
       "    }\n",
       "\n",
       "    .dataframe thead th {\n",
       "        text-align: right;\n",
       "    }\n",
       "</style>\n",
       "<table border=\"1\" class=\"dataframe\">\n",
       "  <thead>\n",
       "    <tr style=\"text-align: right;\">\n",
       "      <th></th>\n",
       "      <th>SUN2</th>\n",
       "      <th>TRIM44</th>\n",
       "    </tr>\n",
       "  </thead>\n",
       "  <tbody>\n",
       "    <tr>\n",
       "      <th>count</th>\n",
       "      <td>2287.000000</td>\n",
       "      <td>2287.000000</td>\n",
       "    </tr>\n",
       "    <tr>\n",
       "      <th>mean</th>\n",
       "      <td>1.759551</td>\n",
       "      <td>1.832244</td>\n",
       "    </tr>\n",
       "    <tr>\n",
       "      <th>std</th>\n",
       "      <td>1.460633</td>\n",
       "      <td>1.109166</td>\n",
       "    </tr>\n",
       "    <tr>\n",
       "      <th>min</th>\n",
       "      <td>0.000000</td>\n",
       "      <td>0.000000</td>\n",
       "    </tr>\n",
       "    <tr>\n",
       "      <th>25%</th>\n",
       "      <td>0.536493</td>\n",
       "      <td>1.156881</td>\n",
       "    </tr>\n",
       "    <tr>\n",
       "      <th>50%</th>\n",
       "      <td>1.463255</td>\n",
       "      <td>1.829376</td>\n",
       "    </tr>\n",
       "    <tr>\n",
       "      <th>75%</th>\n",
       "      <td>2.952825</td>\n",
       "      <td>2.474856</td>\n",
       "    </tr>\n",
       "    <tr>\n",
       "      <th>max</th>\n",
       "      <td>6.543307</td>\n",
       "      <td>6.730457</td>\n",
       "    </tr>\n",
       "  </tbody>\n",
       "</table>\n",
       "</div>"
      ],
      "text/plain": [
       "              SUN2       TRIM44\n",
       "count  2287.000000  2287.000000\n",
       "mean      1.759551     1.832244\n",
       "std       1.460633     1.109166\n",
       "min       0.000000     0.000000\n",
       "25%       0.536493     1.156881\n",
       "50%       1.463255     1.829376\n",
       "75%       2.952825     2.474856\n",
       "max       6.543307     6.730457"
      ]
     },
     "metadata": {},
     "output_type": "display_data"
    }
   ],
   "source": [
    "_tmp = test_data.T[[gene0, gene1]]\n",
    "\n",
    "display(_tmp.corr())\n",
    "\n",
    "display(cm(_tmp.T.to_numpy(), internal_n_clusters=None))\n",
    "\n",
    "display(_tmp.shape)\n",
    "display(_tmp.describe())"
   ]
  },
  {
   "cell_type": "markdown",
   "id": "e6764c46-8759-4501-b431-a22ced0c4fe1",
   "metadata": {},
   "source": [
    "## Other"
   ]
  },
  {
   "cell_type": "code",
   "execution_count": null,
   "id": "2212043d-df36-4579-b324-d83af8dbce3d",
   "metadata": {},
   "outputs": [],
   "source": [
    "gene0, gene1 = \"KDM6A\", \"UTY\"\n",
    "display((gene0, gene1))"
   ]
  },
  {
   "cell_type": "code",
   "execution_count": null,
   "id": "deaa3727-c688-4dc8-bcc2-b5293c96c9c6",
   "metadata": {},
   "outputs": [],
   "source": [
    "p = sns.jointplot(\n",
    "    data=gen_data.T,\n",
    "    x=gene0,\n",
    "    y=gene1,\n",
    "    kind=\"hex\",\n",
    "    bins=\"log\",\n",
    ")\n",
    "\n",
    "# gene_x_id = p.ax_joint.get_xlabel()\n",
    "# gene_x_symbol = gene_map[gene_x_id]\n",
    "# p.ax_joint.set_xlabel(f\"{gene_x_id}\\n{gene_x_symbol}\")\n",
    "\n",
    "# gene_y_id = p.ax_joint.get_ylabel()\n",
    "# gene_y_symbol = gene_map[gene_y_id]\n",
    "# p.ax_joint.set_ylabel(f\"{gene_y_id}\\n{gene_y_symbol}\")\n",
    "\n",
    "# p.fig.suptitle(_title)"
   ]
  },
  {
   "cell_type": "code",
   "execution_count": null,
   "id": "70229de3-087a-4a35-91f5-39bbe4b276ff",
   "metadata": {},
   "outputs": [],
   "source": []
  }
 ],
 "metadata": {
  "jupytext": {
   "cell_metadata_filter": "all,-execution,-papermill,-trusted"
  },
  "kernelspec": {
   "display_name": "Python 3 (ipykernel)",
   "language": "python",
   "name": "python3"
  },
  "language_info": {
   "codemirror_mode": {
    "name": "ipython",
    "version": 3
   },
   "file_extension": ".py",
   "mimetype": "text/x-python",
   "name": "python",
   "nbconvert_exporter": "python",
   "pygments_lexer": "ipython3",
   "version": "3.9.7"
  },
  "toc-autonumbering": true
 },
 "nbformat": 4,
 "nbformat_minor": 5
}
