{
 "cells": [
  {
   "cell_type": "markdown",
   "id": "powerful-collectible",
   "metadata": {
    "papermill": {
     "duration": 0.020496,
     "end_time": "2021-02-25T03:35:19.568003",
     "exception": false,
     "start_time": "2021-02-25T03:35:19.547507",
     "status": "completed"
    },
    "tags": []
   },
   "source": [
    "# Description"
   ]
  },
  {
   "cell_type": "markdown",
   "id": "respective-darwin",
   "metadata": {
    "papermill": {
     "duration": 0.016027,
     "end_time": "2021-02-25T03:35:19.600322",
     "exception": false,
     "start_time": "2021-02-25T03:35:19.584295",
     "status": "completed"
    },
    "tags": []
   },
   "source": [
    "TODO\n",
    "\n",
    "Old:\n",
    "This notebook runs some pre-analyses using spectral clustering to explore the best set of parameters to cluster `z_score_std` data version."
   ]
  },
  {
   "cell_type": "markdown",
   "id": "metropolitan-affair",
   "metadata": {
    "papermill": {
     "duration": 0.016268,
     "end_time": "2021-02-25T03:35:19.632953",
     "exception": false,
     "start_time": "2021-02-25T03:35:19.616685",
     "status": "completed"
    },
    "tags": []
   },
   "source": [
    "# Environment variables"
   ]
  },
  {
   "cell_type": "code",
   "execution_count": 1,
   "id": "russian-projection",
   "metadata": {
    "execution": {
     "iopub.execute_input": "2021-02-25T03:35:19.671478Z",
     "iopub.status.busy": "2021-02-25T03:35:19.671112Z",
     "iopub.status.idle": "2021-02-25T03:35:19.678794Z",
     "shell.execute_reply": "2021-02-25T03:35:19.678369Z"
    },
    "papermill": {
     "duration": 0.029511,
     "end_time": "2021-02-25T03:35:19.678913",
     "exception": false,
     "start_time": "2021-02-25T03:35:19.649402",
     "status": "completed"
    },
    "tags": []
   },
   "outputs": [],
   "source": [
    "%load_ext autoreload\n",
    "%autoreload 2"
   ]
  },
  {
   "cell_type": "code",
   "execution_count": 2,
   "id": "breeding-brake",
   "metadata": {
    "execution": {
     "iopub.execute_input": "2021-02-25T03:35:19.716021Z",
     "iopub.status.busy": "2021-02-25T03:35:19.715664Z",
     "iopub.status.idle": "2021-02-25T03:35:19.721210Z",
     "shell.execute_reply": "2021-02-25T03:35:19.720908Z"
    },
    "papermill": {
     "duration": 0.024717,
     "end_time": "2021-02-25T03:35:19.721296",
     "exception": false,
     "start_time": "2021-02-25T03:35:19.696579",
     "status": "completed"
    },
    "tags": []
   },
   "outputs": [],
   "source": [
    "from IPython.display import display\n",
    "\n",
    "N_JOBS = 2"
   ]
  },
  {
   "cell_type": "code",
   "execution_count": 3,
   "id": "random-dispute",
   "metadata": {
    "execution": {
     "iopub.execute_input": "2021-02-25T03:35:19.758936Z",
     "iopub.status.busy": "2021-02-25T03:35:19.758577Z",
     "iopub.status.idle": "2021-02-25T03:35:19.765193Z",
     "shell.execute_reply": "2021-02-25T03:35:19.764825Z"
    },
    "papermill": {
     "duration": 0.026877,
     "end_time": "2021-02-25T03:35:19.765277",
     "exception": false,
     "start_time": "2021-02-25T03:35:19.738400",
     "status": "completed"
    },
    "tags": []
   },
   "outputs": [
    {
     "name": "stdout",
     "output_type": "stream",
     "text": [
      "env: MKL_NUM_THREADS=2\n",
      "env: OPEN_BLAS_NUM_THREADS=2\n",
      "env: NUMEXPR_NUM_THREADS=2\n",
      "env: OMP_NUM_THREADS=2\n"
     ]
    }
   ],
   "source": [
    "%env MKL_NUM_THREADS=$N_JOBS\n",
    "%env OPEN_BLAS_NUM_THREADS=$N_JOBS\n",
    "%env NUMEXPR_NUM_THREADS=$N_JOBS\n",
    "%env OMP_NUM_THREADS=$N_JOBS"
   ]
  },
  {
   "cell_type": "markdown",
   "id": "orange-traveler",
   "metadata": {
    "papermill": {
     "duration": 0.017372,
     "end_time": "2021-02-25T03:35:19.800478",
     "exception": false,
     "start_time": "2021-02-25T03:35:19.783106",
     "status": "completed"
    },
    "tags": []
   },
   "source": [
    "# Modules loading"
   ]
  },
  {
   "cell_type": "code",
   "execution_count": 4,
   "id": "bottom-marathon",
   "metadata": {
    "execution": {
     "iopub.execute_input": "2021-02-25T03:35:19.836018Z",
     "iopub.status.busy": "2021-02-25T03:35:19.835661Z",
     "iopub.status.idle": "2021-02-25T03:35:20.344117Z",
     "shell.execute_reply": "2021-02-25T03:35:20.343743Z"
    },
    "papermill": {
     "duration": 0.527093,
     "end_time": "2021-02-25T03:35:20.344210",
     "exception": false,
     "start_time": "2021-02-25T03:35:19.817117",
     "status": "completed"
    },
    "tags": []
   },
   "outputs": [],
   "source": [
    "from pathlib import Path\n",
    "import warnings\n",
    "\n",
    "import numpy as np\n",
    "import pandas as pd\n",
    "import matplotlib.pyplot as plt\n",
    "import seaborn as sns"
   ]
  },
  {
   "cell_type": "markdown",
   "id": "gross-latin",
   "metadata": {
    "papermill": {
     "duration": 0.017557,
     "end_time": "2021-02-25T03:35:20.381063",
     "exception": false,
     "start_time": "2021-02-25T03:35:20.363506",
     "status": "completed"
    },
    "tags": []
   },
   "source": [
    "# Settings"
   ]
  },
  {
   "cell_type": "code",
   "execution_count": 5,
   "id": "compound-palace",
   "metadata": {
    "execution": {
     "iopub.execute_input": "2021-02-25T03:35:20.417923Z",
     "iopub.status.busy": "2021-02-25T03:35:20.417569Z",
     "iopub.status.idle": "2021-02-25T03:35:20.426388Z",
     "shell.execute_reply": "2021-02-25T03:35:20.426663Z"
    },
    "papermill": {
     "duration": 0.028405,
     "end_time": "2021-02-25T03:35:20.426767",
     "exception": false,
     "start_time": "2021-02-25T03:35:20.398362",
     "status": "completed"
    },
    "tags": []
   },
   "outputs": [],
   "source": [
    "INITIAL_RANDOM_STATE = 12345"
   ]
  },
  {
   "cell_type": "code",
   "execution_count": 6,
   "id": "educated-explorer",
   "metadata": {
    "execution": {
     "iopub.execute_input": "2021-02-25T03:35:20.463571Z",
     "iopub.status.busy": "2021-02-25T03:35:20.463221Z",
     "iopub.status.idle": "2021-02-25T03:35:20.472355Z",
     "shell.execute_reply": "2021-02-25T03:35:20.472634Z"
    },
    "papermill": {
     "duration": 0.028661,
     "end_time": "2021-02-25T03:35:20.472773",
     "exception": false,
     "start_time": "2021-02-25T03:35:20.444112",
     "status": "completed"
    },
    "tags": []
   },
   "outputs": [],
   "source": [
    "METHOD_NAME = \"clustermatch\""
   ]
  },
  {
   "cell_type": "code",
   "execution_count": 7,
   "id": "powered-inspiration",
   "metadata": {
    "execution": {
     "iopub.execute_input": "2021-02-25T03:35:20.510656Z",
     "iopub.status.busy": "2021-02-25T03:35:20.510300Z",
     "iopub.status.idle": "2021-02-25T03:35:20.521813Z",
     "shell.execute_reply": "2021-02-25T03:35:20.521451Z"
    },
    "papermill": {
     "duration": 0.031702,
     "end_time": "2021-02-25T03:35:20.521897",
     "exception": false,
     "start_time": "2021-02-25T03:35:20.490195",
     "status": "completed"
    },
    "tags": []
   },
   "outputs": [
    {
     "data": {
      "text/plain": [
       "{'K_RANGE': [2,\n",
       "  5,\n",
       "  10,\n",
       "  15,\n",
       "  20,\n",
       "  25,\n",
       "  30,\n",
       "  35,\n",
       "  40,\n",
       "  45,\n",
       "  50,\n",
       "  55,\n",
       "  60,\n",
       "  65,\n",
       "  70,\n",
       "  75,\n",
       "  80,\n",
       "  90,\n",
       "  95,\n",
       "  100,\n",
       "  200],\n",
       " 'KMEANS_N_INIT': 50,\n",
       " 'DELTA': 0.25}"
      ]
     },
     "metadata": {},
     "output_type": "display_data"
    }
   ],
   "source": [
    "CLUSTERING_OPTIONS = {}\n",
    "\n",
    "CLUSTERING_OPTIONS[\"K_RANGE\"] = [\n",
    "    2,\n",
    "    5,\n",
    "    10,\n",
    "    15,\n",
    "    20,\n",
    "    25,\n",
    "    30,\n",
    "    35,\n",
    "    40,\n",
    "    45,\n",
    "    50,\n",
    "    55,\n",
    "    60,\n",
    "    65,\n",
    "    70,\n",
    "    75,\n",
    "    80,\n",
    "    90,\n",
    "    95,\n",
    "    100,\n",
    "    200,\n",
    "]\n",
    "# CLUSTERING_OPTIONS[\"N_REPS_PER_K\"] = 5\n",
    "CLUSTERING_OPTIONS[\"KMEANS_N_INIT\"] = 50\n",
    "CLUSTERING_OPTIONS[\"DELTA\"] = 0.25\n",
    "\n",
    "display(CLUSTERING_OPTIONS)"
   ]
  },
  {
   "cell_type": "code",
   "execution_count": 8,
   "id": "legal-relation",
   "metadata": {
    "execution": {
     "iopub.execute_input": "2021-02-25T03:35:20.559790Z",
     "iopub.status.busy": "2021-02-25T03:35:20.559437Z",
     "iopub.status.idle": "2021-02-25T03:35:20.569438Z",
     "shell.execute_reply": "2021-02-25T03:35:20.569126Z"
    },
    "papermill": {
     "duration": 0.029724,
     "end_time": "2021-02-25T03:35:20.569523",
     "exception": false,
     "start_time": "2021-02-25T03:35:20.539799",
     "status": "completed"
    },
    "tags": []
   },
   "outputs": [
    {
     "data": {
      "text/plain": [
       "PosixPath('/home/miltondp/projects/labs/greenelab/cm_gene_expression/base')"
      ]
     },
     "metadata": {},
     "output_type": "display_data"
    }
   ],
   "source": [
    "# BASE_FOLDER = Path(\"..\", \"base\").resolve()\n",
    "BASE_FOLDER = Path(\"base\").resolve()\n",
    "assert BASE_FOLDER.exists()\n",
    "\n",
    "display(BASE_FOLDER)"
   ]
  },
  {
   "cell_type": "markdown",
   "id": "eastern-infrared",
   "metadata": {
    "papermill": {
     "duration": 0.017711,
     "end_time": "2021-02-25T03:35:20.605247",
     "exception": false,
     "start_time": "2021-02-25T03:35:20.587536",
     "status": "completed"
    },
    "tags": []
   },
   "source": [
    "# Load Clustermatch correlations"
   ]
  },
  {
   "cell_type": "code",
   "execution_count": 9,
   "id": "interior-communication",
   "metadata": {
    "execution": {
     "iopub.execute_input": "2021-02-25T03:35:20.643041Z",
     "iopub.status.busy": "2021-02-25T03:35:20.642670Z",
     "iopub.status.idle": "2021-02-25T03:35:20.654256Z",
     "shell.execute_reply": "2021-02-25T03:35:20.653909Z"
    },
    "papermill": {
     "duration": 0.031728,
     "end_time": "2021-02-25T03:35:20.654337",
     "exception": false,
     "start_time": "2021-02-25T03:35:20.622609",
     "status": "completed"
    },
    "tags": []
   },
   "outputs": [
    {
     "data": {
      "text/plain": [
       "PosixPath('/home/miltondp/projects/labs/greenelab/cm_gene_expression/base/results/sim_mat/wb_data_gene_cm.pkl')"
      ]
     },
     "metadata": {},
     "output_type": "display_data"
    },
    {
     "data": {
      "text/plain": [
       "'wb_data_gene_cm'"
      ]
     },
     "metadata": {},
     "output_type": "display_data"
    }
   ],
   "source": [
    "input_filepath = Path(\n",
    "    BASE_FOLDER,\n",
    "    \"results\",\n",
    "    \"sim_mat\",\n",
    "    \"wb_data_gene_cm.pkl\",\n",
    ").resolve()\n",
    "display(input_filepath)\n",
    "\n",
    "assert input_filepath.exists(), \"Input file does not exist\"\n",
    "\n",
    "input_filepath_stem = input_filepath.stem\n",
    "display(input_filepath_stem)"
   ]
  },
  {
   "cell_type": "code",
   "execution_count": 10,
   "id": "going-swimming",
   "metadata": {
    "execution": {
     "iopub.execute_input": "2021-02-25T03:35:20.693068Z",
     "iopub.status.busy": "2021-02-25T03:35:20.692668Z",
     "iopub.status.idle": "2021-02-25T03:35:20.891198Z",
     "shell.execute_reply": "2021-02-25T03:35:20.890769Z"
    },
    "papermill": {
     "duration": 0.218784,
     "end_time": "2021-02-25T03:35:20.891294",
     "exception": false,
     "start_time": "2021-02-25T03:35:20.672510",
     "status": "completed"
    },
    "tags": []
   },
   "outputs": [],
   "source": [
    "sim_matrix = pd.read_pickle(input_filepath)"
   ]
  },
  {
   "cell_type": "code",
   "execution_count": 11,
   "id": "looking-whale",
   "metadata": {
    "execution": {
     "iopub.execute_input": "2021-02-25T03:35:20.931746Z",
     "iopub.status.busy": "2021-02-25T03:35:20.931392Z",
     "iopub.status.idle": "2021-02-25T03:35:20.941528Z",
     "shell.execute_reply": "2021-02-25T03:35:20.941808Z"
    },
    "papermill": {
     "duration": 0.030788,
     "end_time": "2021-02-25T03:35:20.941916",
     "exception": false,
     "start_time": "2021-02-25T03:35:20.911128",
     "status": "completed"
    },
    "tags": []
   },
   "outputs": [
    {
     "data": {
      "text/plain": [
       "(5000, 5000)"
      ]
     },
     "execution_count": 11,
     "metadata": {},
     "output_type": "execute_result"
    }
   ],
   "source": [
    "sim_matrix.shape"
   ]
  },
  {
   "cell_type": "code",
   "execution_count": 12,
   "id": "tested-cable",
   "metadata": {
    "execution": {
     "iopub.execute_input": "2021-02-25T03:35:20.982055Z",
     "iopub.status.busy": "2021-02-25T03:35:20.981705Z",
     "iopub.status.idle": "2021-02-25T03:35:21.041225Z",
     "shell.execute_reply": "2021-02-25T03:35:21.041593Z"
    },
    "papermill": {
     "duration": 0.080745,
     "end_time": "2021-02-25T03:35:21.041720",
     "exception": false,
     "start_time": "2021-02-25T03:35:20.960975",
     "status": "completed"
    },
    "tags": []
   },
   "outputs": [
    {
     "data": {
      "text/html": [
       "<div>\n",
       "<style scoped>\n",
       "    .dataframe tbody tr th:only-of-type {\n",
       "        vertical-align: middle;\n",
       "    }\n",
       "\n",
       "    .dataframe tbody tr th {\n",
       "        vertical-align: top;\n",
       "    }\n",
       "\n",
       "    .dataframe thead th {\n",
       "        text-align: right;\n",
       "    }\n",
       "</style>\n",
       "<table border=\"1\" class=\"dataframe\">\n",
       "  <thead>\n",
       "    <tr style=\"text-align: right;\">\n",
       "      <th></th>\n",
       "      <th>ENSG00000244734.3</th>\n",
       "      <th>ENSG00000188536.12</th>\n",
       "      <th>ENSG00000163220.10</th>\n",
       "      <th>ENSG00000206172.8</th>\n",
       "      <th>ENSG00000223609.7</th>\n",
       "      <th>ENSG00000143546.9</th>\n",
       "      <th>ENSG00000087086.14</th>\n",
       "      <th>ENSG00000185201.16</th>\n",
       "      <th>ENSG00000163221.8</th>\n",
       "      <th>ENSG00000234745.10</th>\n",
       "      <th>...</th>\n",
       "      <th>ENSG00000183431.11</th>\n",
       "      <th>ENSG00000119707.13</th>\n",
       "      <th>ENSG00000147649.9</th>\n",
       "      <th>ENSG00000164305.18</th>\n",
       "      <th>ENSG00000267074.1</th>\n",
       "      <th>ENSG00000130517.13</th>\n",
       "      <th>ENSG00000138674.16</th>\n",
       "      <th>ENSG00000065911.11</th>\n",
       "      <th>ENSG00000163297.16</th>\n",
       "      <th>ENSG00000259865.1</th>\n",
       "    </tr>\n",
       "  </thead>\n",
       "  <tbody>\n",
       "    <tr>\n",
       "      <th>ENSG00000244734.3</th>\n",
       "      <td>1.000000</td>\n",
       "      <td>0.362340</td>\n",
       "      <td>0.141355</td>\n",
       "      <td>0.471842</td>\n",
       "      <td>0.579461</td>\n",
       "      <td>0.090792</td>\n",
       "      <td>0.145388</td>\n",
       "      <td>0.202936</td>\n",
       "      <td>0.118336</td>\n",
       "      <td>0.334136</td>\n",
       "      <td>...</td>\n",
       "      <td>0.207756</td>\n",
       "      <td>0.207756</td>\n",
       "      <td>0.207756</td>\n",
       "      <td>0.227599</td>\n",
       "      <td>0.030597</td>\n",
       "      <td>0.179678</td>\n",
       "      <td>0.097727</td>\n",
       "      <td>0.125784</td>\n",
       "      <td>0.275534</td>\n",
       "      <td>0.157825</td>\n",
       "    </tr>\n",
       "    <tr>\n",
       "      <th>ENSG00000188536.12</th>\n",
       "      <td>0.362340</td>\n",
       "      <td>1.000000</td>\n",
       "      <td>0.206590</td>\n",
       "      <td>0.486542</td>\n",
       "      <td>0.312986</td>\n",
       "      <td>0.170768</td>\n",
       "      <td>0.081390</td>\n",
       "      <td>0.184217</td>\n",
       "      <td>0.188812</td>\n",
       "      <td>0.154353</td>\n",
       "      <td>...</td>\n",
       "      <td>0.145388</td>\n",
       "      <td>0.145388</td>\n",
       "      <td>0.217565</td>\n",
       "      <td>0.340305</td>\n",
       "      <td>0.009142</td>\n",
       "      <td>0.066845</td>\n",
       "      <td>0.026119</td>\n",
       "      <td>0.153623</td>\n",
       "      <td>0.292524</td>\n",
       "      <td>0.170768</td>\n",
       "    </tr>\n",
       "    <tr>\n",
       "      <th>ENSG00000163220.10</th>\n",
       "      <td>0.141355</td>\n",
       "      <td>0.206590</td>\n",
       "      <td>1.000000</td>\n",
       "      <td>0.181851</td>\n",
       "      <td>0.133457</td>\n",
       "      <td>0.620566</td>\n",
       "      <td>0.063550</td>\n",
       "      <td>0.415292</td>\n",
       "      <td>0.706993</td>\n",
       "      <td>0.035855</td>\n",
       "      <td>...</td>\n",
       "      <td>0.019123</td>\n",
       "      <td>0.022696</td>\n",
       "      <td>0.038725</td>\n",
       "      <td>0.139359</td>\n",
       "      <td>0.104114</td>\n",
       "      <td>0.014602</td>\n",
       "      <td>0.045561</td>\n",
       "      <td>0.020572</td>\n",
       "      <td>0.324987</td>\n",
       "      <td>0.026507</td>\n",
       "    </tr>\n",
       "    <tr>\n",
       "      <th>ENSG00000206172.8</th>\n",
       "      <td>0.471842</td>\n",
       "      <td>0.486542</td>\n",
       "      <td>0.181851</td>\n",
       "      <td>1.000000</td>\n",
       "      <td>0.318958</td>\n",
       "      <td>0.141355</td>\n",
       "      <td>0.114696</td>\n",
       "      <td>0.198172</td>\n",
       "      <td>0.141355</td>\n",
       "      <td>0.202936</td>\n",
       "      <td>...</td>\n",
       "      <td>0.166398</td>\n",
       "      <td>0.207756</td>\n",
       "      <td>0.232700</td>\n",
       "      <td>0.340305</td>\n",
       "      <td>0.018857</td>\n",
       "      <td>0.125784</td>\n",
       "      <td>0.048843</td>\n",
       "      <td>0.166398</td>\n",
       "      <td>0.275534</td>\n",
       "      <td>0.193464</td>\n",
       "    </tr>\n",
       "    <tr>\n",
       "      <th>ENSG00000223609.7</th>\n",
       "      <td>0.579461</td>\n",
       "      <td>0.312986</td>\n",
       "      <td>0.133457</td>\n",
       "      <td>0.318958</td>\n",
       "      <td>1.000000</td>\n",
       "      <td>0.077353</td>\n",
       "      <td>0.100699</td>\n",
       "      <td>0.184217</td>\n",
       "      <td>0.111113</td>\n",
       "      <td>0.281141</td>\n",
       "      <td>...</td>\n",
       "      <td>0.179678</td>\n",
       "      <td>0.198172</td>\n",
       "      <td>0.170768</td>\n",
       "      <td>0.188812</td>\n",
       "      <td>0.017030</td>\n",
       "      <td>0.166398</td>\n",
       "      <td>0.087602</td>\n",
       "      <td>0.100699</td>\n",
       "      <td>0.264488</td>\n",
       "      <td>0.129593</td>\n",
       "    </tr>\n",
       "  </tbody>\n",
       "</table>\n",
       "<p>5 rows × 5000 columns</p>\n",
       "</div>"
      ],
      "text/plain": [
       "                    ENSG00000244734.3  ENSG00000188536.12  ENSG00000163220.10  \\\n",
       "ENSG00000244734.3            1.000000            0.362340            0.141355   \n",
       "ENSG00000188536.12           0.362340            1.000000            0.206590   \n",
       "ENSG00000163220.10           0.141355            0.206590            1.000000   \n",
       "ENSG00000206172.8            0.471842            0.486542            0.181851   \n",
       "ENSG00000223609.7            0.579461            0.312986            0.133457   \n",
       "\n",
       "                    ENSG00000206172.8  ENSG00000223609.7  ENSG00000143546.9  \\\n",
       "ENSG00000244734.3            0.471842           0.579461           0.090792   \n",
       "ENSG00000188536.12           0.486542           0.312986           0.170768   \n",
       "ENSG00000163220.10           0.181851           0.133457           0.620566   \n",
       "ENSG00000206172.8            1.000000           0.318958           0.141355   \n",
       "ENSG00000223609.7            0.318958           1.000000           0.077353   \n",
       "\n",
       "                    ENSG00000087086.14  ENSG00000185201.16  ENSG00000163221.8  \\\n",
       "ENSG00000244734.3             0.145388            0.202936           0.118336   \n",
       "ENSG00000188536.12            0.081390            0.184217           0.188812   \n",
       "ENSG00000163220.10            0.063550            0.415292           0.706993   \n",
       "ENSG00000206172.8             0.114696            0.198172           0.141355   \n",
       "ENSG00000223609.7             0.100699            0.184217           0.111113   \n",
       "\n",
       "                    ENSG00000234745.10  ...  ENSG00000183431.11  \\\n",
       "ENSG00000244734.3             0.334136  ...            0.207756   \n",
       "ENSG00000188536.12            0.154353  ...            0.145388   \n",
       "ENSG00000163220.10            0.035855  ...            0.019123   \n",
       "ENSG00000206172.8             0.202936  ...            0.166398   \n",
       "ENSG00000223609.7             0.281141  ...            0.179678   \n",
       "\n",
       "                    ENSG00000119707.13  ENSG00000147649.9  ENSG00000164305.18  \\\n",
       "ENSG00000244734.3             0.207756           0.207756            0.227599   \n",
       "ENSG00000188536.12            0.145388           0.217565            0.340305   \n",
       "ENSG00000163220.10            0.022696           0.038725            0.139359   \n",
       "ENSG00000206172.8             0.207756           0.232700            0.340305   \n",
       "ENSG00000223609.7             0.198172           0.170768            0.188812   \n",
       "\n",
       "                    ENSG00000267074.1  ENSG00000130517.13  ENSG00000138674.16  \\\n",
       "ENSG00000244734.3            0.030597            0.179678            0.097727   \n",
       "ENSG00000188536.12           0.009142            0.066845            0.026119   \n",
       "ENSG00000163220.10           0.104114            0.014602            0.045561   \n",
       "ENSG00000206172.8            0.018857            0.125784            0.048843   \n",
       "ENSG00000223609.7            0.017030            0.166398            0.087602   \n",
       "\n",
       "                    ENSG00000065911.11  ENSG00000163297.16  ENSG00000259865.1  \n",
       "ENSG00000244734.3             0.125784            0.275534           0.157825  \n",
       "ENSG00000188536.12            0.153623            0.292524           0.170768  \n",
       "ENSG00000163220.10            0.020572            0.324987           0.026507  \n",
       "ENSG00000206172.8             0.166398            0.275534           0.193464  \n",
       "ENSG00000223609.7             0.100699            0.264488           0.129593  \n",
       "\n",
       "[5 rows x 5000 columns]"
      ]
     },
     "execution_count": 12,
     "metadata": {},
     "output_type": "execute_result"
    }
   ],
   "source": [
    "sim_matrix.head()"
   ]
  },
  {
   "cell_type": "markdown",
   "id": "related-judges",
   "metadata": {
    "papermill": {
     "duration": 0.021718,
     "end_time": "2021-02-25T03:35:21.087785",
     "exception": false,
     "start_time": "2021-02-25T03:35:21.066067",
     "status": "completed"
    },
    "tags": []
   },
   "source": [
    "## Get distance matrix"
   ]
  },
  {
   "cell_type": "code",
   "execution_count": 13,
   "id": "separated-yahoo",
   "metadata": {
    "execution": {
     "iopub.execute_input": "2021-02-25T03:35:21.127402Z",
     "iopub.status.busy": "2021-02-25T03:35:21.127054Z",
     "iopub.status.idle": "2021-02-25T03:35:21.169677Z",
     "shell.execute_reply": "2021-02-25T03:35:21.169312Z"
    },
    "papermill": {
     "duration": 0.063416,
     "end_time": "2021-02-25T03:35:21.169775",
     "exception": false,
     "start_time": "2021-02-25T03:35:21.106359",
     "status": "completed"
    },
    "tags": []
   },
   "outputs": [],
   "source": [
    "dist_matrix = 1.0 - sim_matrix"
   ]
  },
  {
   "cell_type": "markdown",
   "id": "aerial-venue",
   "metadata": {
    "papermill": {
     "duration": 0.018368,
     "end_time": "2021-02-25T03:35:21.208866",
     "exception": false,
     "start_time": "2021-02-25T03:35:21.190498",
     "status": "completed"
    },
    "tags": []
   },
   "source": [
    "# Clustering"
   ]
  },
  {
   "cell_type": "code",
   "execution_count": 14,
   "id": "desperate-punch",
   "metadata": {
    "execution": {
     "iopub.execute_input": "2021-02-25T03:35:21.248392Z",
     "iopub.status.busy": "2021-02-25T03:35:21.248035Z",
     "iopub.status.idle": "2021-02-25T03:35:21.378628Z",
     "shell.execute_reply": "2021-02-25T03:35:21.378299Z"
    },
    "papermill": {
     "duration": 0.151344,
     "end_time": "2021-02-25T03:35:21.378723",
     "exception": false,
     "start_time": "2021-02-25T03:35:21.227379",
     "status": "completed"
    },
    "tags": []
   },
   "outputs": [],
   "source": [
    "from clustering.methods import DeltaSpectralClustering\n",
    "from sklearn.metrics import silhouette_score"
   ]
  },
  {
   "cell_type": "markdown",
   "id": "decimal-vertex",
   "metadata": {
    "papermill": {
     "duration": 0.019167,
     "end_time": "2021-02-25T03:35:21.418038",
     "exception": false,
     "start_time": "2021-02-25T03:35:21.398871",
     "status": "completed"
    },
    "tags": []
   },
   "source": [
    "## Clusterers"
   ]
  },
  {
   "cell_type": "code",
   "execution_count": 15,
   "id": "handmade-minister",
   "metadata": {
    "execution": {
     "iopub.execute_input": "2021-02-25T03:35:21.458874Z",
     "iopub.status.busy": "2021-02-25T03:35:21.458522Z",
     "iopub.status.idle": "2021-02-25T03:35:21.469728Z",
     "shell.execute_reply": "2021-02-25T03:35:21.469425Z"
    },
    "papermill": {
     "duration": 0.032748,
     "end_time": "2021-02-25T03:35:21.469812",
     "exception": false,
     "start_time": "2021-02-25T03:35:21.437064",
     "status": "completed"
    },
    "tags": []
   },
   "outputs": [
    {
     "data": {
      "text/plain": [
       "70.71067811865476"
      ]
     },
     "execution_count": 15,
     "metadata": {},
     "output_type": "execute_result"
    }
   ],
   "source": [
    "np.sqrt(sim_matrix.shape[0])"
   ]
  },
  {
   "cell_type": "code",
   "execution_count": 16,
   "id": "macro-spending",
   "metadata": {
    "execution": {
     "iopub.execute_input": "2021-02-25T03:35:21.510726Z",
     "iopub.status.busy": "2021-02-25T03:35:21.510373Z",
     "iopub.status.idle": "2021-02-25T03:35:21.520671Z",
     "shell.execute_reply": "2021-02-25T03:35:21.520302Z"
    },
    "papermill": {
     "duration": 0.031498,
     "end_time": "2021-02-25T03:35:21.520804",
     "exception": false,
     "start_time": "2021-02-25T03:35:21.489306",
     "status": "completed"
    },
    "tags": []
   },
   "outputs": [],
   "source": [
    "from clustering.methods import DeltaSpectralClustering"
   ]
  },
  {
   "cell_type": "code",
   "execution_count": 17,
   "id": "pressed-prerequisite",
   "metadata": {
    "execution": {
     "iopub.execute_input": "2021-02-25T03:35:21.562874Z",
     "iopub.status.busy": "2021-02-25T03:35:21.562505Z",
     "iopub.status.idle": "2021-02-25T03:35:21.573075Z",
     "shell.execute_reply": "2021-02-25T03:35:21.572651Z"
    },
    "papermill": {
     "duration": 0.032409,
     "end_time": "2021-02-25T03:35:21.573162",
     "exception": false,
     "start_time": "2021-02-25T03:35:21.540753",
     "status": "completed"
    },
    "tags": []
   },
   "outputs": [],
   "source": [
    "CLUSTERERS = {}\n",
    "\n",
    "idx = 0\n",
    "random_state = INITIAL_RANDOM_STATE\n",
    "\n",
    "for k in CLUSTERING_OPTIONS[\"K_RANGE\"]:\n",
    "    #     for delta_value in CLUSTERING_OPTIONS[\"DELTAS\"]:\n",
    "    #         for i in range(CLUSTERING_OPTIONS[\"N_REPS_PER_K\"]):\n",
    "    clus = DeltaSpectralClustering(\n",
    "        eigen_solver=\"arpack\",\n",
    "        n_clusters=k,\n",
    "        n_init=CLUSTERING_OPTIONS[\"KMEANS_N_INIT\"],\n",
    "        delta=CLUSTERING_OPTIONS[\"DELTA\"],\n",
    "        random_state=random_state,\n",
    "    )\n",
    "\n",
    "    method_name = type(clus).__name__\n",
    "    CLUSTERERS[f\"{method_name} #{idx}\"] = clus\n",
    "\n",
    "    random_state = random_state + 1\n",
    "    idx = idx + 1"
   ]
  },
  {
   "cell_type": "code",
   "execution_count": 18,
   "id": "bored-source",
   "metadata": {
    "execution": {
     "iopub.execute_input": "2021-02-25T03:35:21.614981Z",
     "iopub.status.busy": "2021-02-25T03:35:21.614621Z",
     "iopub.status.idle": "2021-02-25T03:35:21.625662Z",
     "shell.execute_reply": "2021-02-25T03:35:21.625290Z"
    },
    "papermill": {
     "duration": 0.032748,
     "end_time": "2021-02-25T03:35:21.625748",
     "exception": false,
     "start_time": "2021-02-25T03:35:21.593000",
     "status": "completed"
    },
    "tags": []
   },
   "outputs": [
    {
     "data": {
      "text/plain": [
       "21"
      ]
     },
     "metadata": {},
     "output_type": "display_data"
    }
   ],
   "source": [
    "display(len(CLUSTERERS))"
   ]
  },
  {
   "cell_type": "code",
   "execution_count": 19,
   "id": "stupid-print",
   "metadata": {
    "execution": {
     "iopub.execute_input": "2021-02-25T03:35:21.669000Z",
     "iopub.status.busy": "2021-02-25T03:35:21.668584Z",
     "iopub.status.idle": "2021-02-25T03:35:21.680663Z",
     "shell.execute_reply": "2021-02-25T03:35:21.680991Z"
    },
    "papermill": {
     "duration": 0.034772,
     "end_time": "2021-02-25T03:35:21.681095",
     "exception": false,
     "start_time": "2021-02-25T03:35:21.646323",
     "status": "completed"
    },
    "tags": []
   },
   "outputs": [
    {
     "data": {
      "text/plain": [
       "('DeltaSpectralClustering #0', DeltaSpectralClustering(delta=0.25))"
      ]
     },
     "metadata": {},
     "output_type": "display_data"
    },
    {
     "data": {
      "text/plain": [
       "('DeltaSpectralClustering #1', DeltaSpectralClustering(delta=0.25))"
      ]
     },
     "metadata": {},
     "output_type": "display_data"
    }
   ],
   "source": [
    "_iter = iter(CLUSTERERS.items())\n",
    "display(next(_iter))\n",
    "display(next(_iter))"
   ]
  },
  {
   "cell_type": "code",
   "execution_count": 20,
   "id": "proof-medline",
   "metadata": {
    "execution": {
     "iopub.execute_input": "2021-02-25T03:35:21.724263Z",
     "iopub.status.busy": "2021-02-25T03:35:21.723904Z",
     "iopub.status.idle": "2021-02-25T03:35:21.734976Z",
     "shell.execute_reply": "2021-02-25T03:35:21.734616Z"
    },
    "papermill": {
     "duration": 0.033108,
     "end_time": "2021-02-25T03:35:21.735072",
     "exception": false,
     "start_time": "2021-02-25T03:35:21.701964",
     "status": "completed"
    },
    "tags": []
   },
   "outputs": [
    {
     "data": {
      "text/plain": [
       "'DeltaSpectralClustering'"
      ]
     },
     "metadata": {},
     "output_type": "display_data"
    }
   ],
   "source": [
    "clustering_method_name = method_name\n",
    "display(clustering_method_name)"
   ]
  },
  {
   "cell_type": "markdown",
   "id": "partial-hardwood",
   "metadata": {
    "papermill": {
     "duration": 0.019966,
     "end_time": "2021-02-25T03:35:21.776101",
     "exception": false,
     "start_time": "2021-02-25T03:35:21.756135",
     "status": "completed"
    },
    "tags": []
   },
   "source": [
    "## Generate ensemble"
   ]
  },
  {
   "cell_type": "code",
   "execution_count": 21,
   "id": "acoustic-technology",
   "metadata": {
    "execution": {
     "iopub.execute_input": "2021-02-25T03:35:21.818736Z",
     "iopub.status.busy": "2021-02-25T03:35:21.818382Z",
     "iopub.status.idle": "2021-02-25T03:35:21.844732Z",
     "shell.execute_reply": "2021-02-25T03:35:21.844322Z"
    },
    "papermill": {
     "duration": 0.048274,
     "end_time": "2021-02-25T03:35:21.844848",
     "exception": false,
     "start_time": "2021-02-25T03:35:21.796574",
     "status": "completed"
    },
    "tags": []
   },
   "outputs": [],
   "source": [
    "import tempfile\n",
    "from clustering.ensembles.utils import generate_ensemble\n",
    "from utils import generate_result_set_name"
   ]
  },
  {
   "cell_type": "code",
   "execution_count": 22,
   "id": "sixth-pakistan",
   "metadata": {
    "execution": {
     "iopub.execute_input": "2021-02-25T03:35:21.888629Z",
     "iopub.status.busy": "2021-02-25T03:35:21.888274Z",
     "iopub.status.idle": "2021-02-25T03:35:21.899706Z",
     "shell.execute_reply": "2021-02-25T03:35:21.899345Z"
    },
    "papermill": {
     "duration": 0.03411,
     "end_time": "2021-02-25T03:35:21.899791",
     "exception": false,
     "start_time": "2021-02-25T03:35:21.865681",
     "status": "completed"
    },
    "tags": []
   },
   "outputs": [
    {
     "data": {
      "text/plain": [
       "PosixPath('/home/miltondp/projects/labs/greenelab/cm_gene_expression/base/results/clustermatch')"
      ]
     },
     "metadata": {},
     "output_type": "display_data"
    }
   ],
   "source": [
    "# generate a temporary folder where to store the ensemble and avoid computing it again\n",
    "ensemble_folder = Path(\n",
    "    BASE_FOLDER,\n",
    "    \"results\",\n",
    "    METHOD_NAME,\n",
    ").resolve()\n",
    "display(ensemble_folder)\n",
    "\n",
    "ensemble_folder.mkdir(parents=True, exist_ok=True)"
   ]
  },
  {
   "cell_type": "code",
   "execution_count": 23,
   "id": "coordinated-senator",
   "metadata": {
    "execution": {
     "iopub.execute_input": "2021-02-25T03:35:21.944503Z",
     "iopub.status.busy": "2021-02-25T03:35:21.944128Z",
     "iopub.status.idle": "2021-02-25T03:35:21.956072Z",
     "shell.execute_reply": "2021-02-25T03:35:21.955710Z"
    },
    "papermill": {
     "duration": 0.034956,
     "end_time": "2021-02-25T03:35:21.956156",
     "exception": false,
     "start_time": "2021-02-25T03:35:21.921200",
     "status": "completed"
    },
    "tags": []
   },
   "outputs": [
    {
     "data": {
      "text/plain": [
       "PosixPath('/home/miltondp/projects/labs/greenelab/cm_gene_expression/base/results/clustermatch/ensemble-DELTA_025-KMEANS_N_INIT_50-K_RANGE_2_5_10_15_20_25_30_35_40_45_50_55_60_65_70_75_80_90_95_100_200.pkl')"
      ]
     },
     "metadata": {},
     "output_type": "display_data"
    }
   ],
   "source": [
    "ensemble_file = Path(\n",
    "    ensemble_folder,\n",
    "    generate_result_set_name(CLUSTERING_OPTIONS, prefix=\"ensemble-\", suffix=\".pkl\"),\n",
    ")\n",
    "display(ensemble_file)"
   ]
  },
  {
   "cell_type": "code",
   "execution_count": 24,
   "id": "north-nudist",
   "metadata": {
    "execution": {
     "iopub.execute_input": "2021-02-25T03:35:22.000678Z",
     "iopub.status.busy": "2021-02-25T03:35:22.000319Z",
     "iopub.status.idle": "2021-02-25T03:39:00.744797Z",
     "shell.execute_reply": "2021-02-25T03:39:00.743976Z"
    },
    "papermill": {
     "duration": 218.767505,
     "end_time": "2021-02-25T03:39:00.744882",
     "exception": false,
     "start_time": "2021-02-25T03:35:21.977377",
     "status": "completed"
    },
    "tags": []
   },
   "outputs": [
    {
     "name": "stderr",
     "output_type": "stream",
     "text": [
      "100%|██████████| 21/21 [03:38<00:00, 10.41s/it]\n"
     ]
    }
   ],
   "source": [
    "if ensemble_file.exists():\n",
    "    display(\"Ensemble file exists\")\n",
    "    ensemble = pd.read_pickle(ensemble_file)\n",
    "else:\n",
    "    ensemble = generate_ensemble(\n",
    "        dist_matrix,\n",
    "        CLUSTERERS,\n",
    "        attributes=[\"n_clusters\", \"delta\"],\n",
    "    )\n",
    "\n",
    "    ensemble[\"delta\"] = ensemble[\"delta\"].apply(lambda x: f\"{x:.2f}\")"
   ]
  },
  {
   "cell_type": "code",
   "execution_count": 25,
   "id": "interpreted-spring",
   "metadata": {
    "execution": {
     "iopub.execute_input": "2021-02-25T03:39:00.798326Z",
     "iopub.status.busy": "2021-02-25T03:39:00.797964Z",
     "iopub.status.idle": "2021-02-25T03:39:00.809182Z",
     "shell.execute_reply": "2021-02-25T03:39:00.808814Z"
    },
    "papermill": {
     "duration": 0.038947,
     "end_time": "2021-02-25T03:39:00.809269",
     "exception": false,
     "start_time": "2021-02-25T03:39:00.770322",
     "status": "completed"
    },
    "tags": []
   },
   "outputs": [
    {
     "data": {
      "text/plain": [
       "(21, 4)"
      ]
     },
     "execution_count": 25,
     "metadata": {},
     "output_type": "execute_result"
    }
   ],
   "source": [
    "ensemble.shape"
   ]
  },
  {
   "cell_type": "code",
   "execution_count": 26,
   "id": "manufactured-improvement",
   "metadata": {
    "execution": {
     "iopub.execute_input": "2021-02-25T03:39:00.862146Z",
     "iopub.status.busy": "2021-02-25T03:39:00.861783Z",
     "iopub.status.idle": "2021-02-25T03:39:00.881024Z",
     "shell.execute_reply": "2021-02-25T03:39:00.880638Z"
    },
    "papermill": {
     "duration": 0.046406,
     "end_time": "2021-02-25T03:39:00.881110",
     "exception": false,
     "start_time": "2021-02-25T03:39:00.834704",
     "status": "completed"
    },
    "tags": []
   },
   "outputs": [
    {
     "data": {
      "text/html": [
       "<div>\n",
       "<style scoped>\n",
       "    .dataframe tbody tr th:only-of-type {\n",
       "        vertical-align: middle;\n",
       "    }\n",
       "\n",
       "    .dataframe tbody tr th {\n",
       "        vertical-align: top;\n",
       "    }\n",
       "\n",
       "    .dataframe thead th {\n",
       "        text-align: right;\n",
       "    }\n",
       "</style>\n",
       "<table border=\"1\" class=\"dataframe\">\n",
       "  <thead>\n",
       "    <tr style=\"text-align: right;\">\n",
       "      <th></th>\n",
       "      <th>clusterer_params</th>\n",
       "      <th>partition</th>\n",
       "      <th>n_clusters</th>\n",
       "      <th>delta</th>\n",
       "    </tr>\n",
       "    <tr>\n",
       "      <th>clusterer_id</th>\n",
       "      <th></th>\n",
       "      <th></th>\n",
       "      <th></th>\n",
       "      <th></th>\n",
       "    </tr>\n",
       "  </thead>\n",
       "  <tbody>\n",
       "    <tr>\n",
       "      <th>DeltaSpectralClustering #0</th>\n",
       "      <td>{'delta': 0.25}</td>\n",
       "      <td>[0.0, 0.0, 0.0, 0.0, 0.0, 0.0, 0.0, 0.0, 0.0, ...</td>\n",
       "      <td>2</td>\n",
       "      <td>0.25</td>\n",
       "    </tr>\n",
       "    <tr>\n",
       "      <th>DeltaSpectralClustering #1</th>\n",
       "      <td>{'delta': 0.25}</td>\n",
       "      <td>[3.0, 0.0, 0.0, 3.0, 3.0, 0.0, 3.0, 0.0, 0.0, ...</td>\n",
       "      <td>5</td>\n",
       "      <td>0.25</td>\n",
       "    </tr>\n",
       "    <tr>\n",
       "      <th>DeltaSpectralClustering #2</th>\n",
       "      <td>{'delta': 0.25}</td>\n",
       "      <td>[8.0, 4.0, 4.0, 4.0, 8.0, 4.0, 8.0, 4.0, 4.0, ...</td>\n",
       "      <td>10</td>\n",
       "      <td>0.25</td>\n",
       "    </tr>\n",
       "    <tr>\n",
       "      <th>DeltaSpectralClustering #3</th>\n",
       "      <td>{'delta': 0.25}</td>\n",
       "      <td>[5.0, 5.0, 5.0, 5.0, 5.0, 5.0, 5.0, 5.0, 5.0, ...</td>\n",
       "      <td>15</td>\n",
       "      <td>0.25</td>\n",
       "    </tr>\n",
       "    <tr>\n",
       "      <th>DeltaSpectralClustering #4</th>\n",
       "      <td>{'delta': 0.25}</td>\n",
       "      <td>[18.0, 0.0, 13.0, 0.0, 18.0, 13.0, 13.0, 13.0,...</td>\n",
       "      <td>20</td>\n",
       "      <td>0.25</td>\n",
       "    </tr>\n",
       "  </tbody>\n",
       "</table>\n",
       "</div>"
      ],
      "text/plain": [
       "                           clusterer_params  \\\n",
       "clusterer_id                                  \n",
       "DeltaSpectralClustering #0  {'delta': 0.25}   \n",
       "DeltaSpectralClustering #1  {'delta': 0.25}   \n",
       "DeltaSpectralClustering #2  {'delta': 0.25}   \n",
       "DeltaSpectralClustering #3  {'delta': 0.25}   \n",
       "DeltaSpectralClustering #4  {'delta': 0.25}   \n",
       "\n",
       "                                                                    partition  \\\n",
       "clusterer_id                                                                    \n",
       "DeltaSpectralClustering #0  [0.0, 0.0, 0.0, 0.0, 0.0, 0.0, 0.0, 0.0, 0.0, ...   \n",
       "DeltaSpectralClustering #1  [3.0, 0.0, 0.0, 3.0, 3.0, 0.0, 3.0, 0.0, 0.0, ...   \n",
       "DeltaSpectralClustering #2  [8.0, 4.0, 4.0, 4.0, 8.0, 4.0, 8.0, 4.0, 4.0, ...   \n",
       "DeltaSpectralClustering #3  [5.0, 5.0, 5.0, 5.0, 5.0, 5.0, 5.0, 5.0, 5.0, ...   \n",
       "DeltaSpectralClustering #4  [18.0, 0.0, 13.0, 0.0, 18.0, 13.0, 13.0, 13.0,...   \n",
       "\n",
       "                            n_clusters delta  \n",
       "clusterer_id                                  \n",
       "DeltaSpectralClustering #0           2  0.25  \n",
       "DeltaSpectralClustering #1           5  0.25  \n",
       "DeltaSpectralClustering #2          10  0.25  \n",
       "DeltaSpectralClustering #3          15  0.25  \n",
       "DeltaSpectralClustering #4          20  0.25  "
      ]
     },
     "execution_count": 26,
     "metadata": {},
     "output_type": "execute_result"
    }
   ],
   "source": [
    "ensemble.head()"
   ]
  },
  {
   "cell_type": "code",
   "execution_count": 27,
   "id": "inclusive-romantic",
   "metadata": {
    "execution": {
     "iopub.execute_input": "2021-02-25T03:39:00.934273Z",
     "iopub.status.busy": "2021-02-25T03:39:00.933922Z",
     "iopub.status.idle": "2021-02-25T03:39:00.945926Z",
     "shell.execute_reply": "2021-02-25T03:39:00.945560Z"
    },
    "papermill": {
     "duration": 0.039648,
     "end_time": "2021-02-25T03:39:00.946011",
     "exception": false,
     "start_time": "2021-02-25T03:39:00.906363",
     "status": "completed"
    },
    "tags": []
   },
   "outputs": [
    {
     "data": {
      "text/plain": [
       "65     1\n",
       "80     1\n",
       "30     1\n",
       "60     1\n",
       "90     1\n",
       "25     1\n",
       "55     1\n",
       "200    1\n",
       "20     1\n",
       "50     1\n",
       "15     1\n",
       "2      1\n",
       "45     1\n",
       "75     1\n",
       "10     1\n",
       "40     1\n",
       "70     1\n",
       "5      1\n",
       "100    1\n",
       "35     1\n",
       "95     1\n",
       "Name: n_clusters, dtype: int64"
      ]
     },
     "execution_count": 27,
     "metadata": {},
     "output_type": "execute_result"
    }
   ],
   "source": [
    "ensemble[\"n_clusters\"].value_counts()"
   ]
  },
  {
   "cell_type": "code",
   "execution_count": 28,
   "id": "electrical-reviewer",
   "metadata": {
    "execution": {
     "iopub.execute_input": "2021-02-25T03:39:00.999957Z",
     "iopub.status.busy": "2021-02-25T03:39:00.999602Z",
     "iopub.status.idle": "2021-02-25T03:39:01.010571Z",
     "shell.execute_reply": "2021-02-25T03:39:01.010199Z"
    },
    "papermill": {
     "duration": 0.038699,
     "end_time": "2021-02-25T03:39:01.010657",
     "exception": false,
     "start_time": "2021-02-25T03:39:00.971958",
     "status": "completed"
    },
    "tags": []
   },
   "outputs": [],
   "source": [
    "_tmp = ensemble[\"n_clusters\"].value_counts().unique()\n",
    "assert _tmp.shape[0] == 1\n",
    "assert _tmp[0] == 1"
   ]
  },
  {
   "cell_type": "code",
   "execution_count": 29,
   "id": "cheap-terror",
   "metadata": {
    "execution": {
     "iopub.execute_input": "2021-02-25T03:39:01.064909Z",
     "iopub.status.busy": "2021-02-25T03:39:01.064506Z",
     "iopub.status.idle": "2021-02-25T03:39:01.078079Z",
     "shell.execute_reply": "2021-02-25T03:39:01.077650Z"
    },
    "papermill": {
     "duration": 0.041219,
     "end_time": "2021-02-25T03:39:01.078163",
     "exception": false,
     "start_time": "2021-02-25T03:39:01.036944",
     "status": "completed"
    },
    "tags": []
   },
   "outputs": [
    {
     "data": {
      "text/plain": [
       "count     21.000000\n",
       "mean      55.571429\n",
       "std       44.540511\n",
       "min        2.000000\n",
       "25%       25.000000\n",
       "50%       50.000000\n",
       "75%       75.000000\n",
       "max      200.000000\n",
       "Name: n_clusters, dtype: float64"
      ]
     },
     "metadata": {},
     "output_type": "display_data"
    }
   ],
   "source": [
    "ensemble_stats = ensemble[\"n_clusters\"].describe()\n",
    "display(ensemble_stats)"
   ]
  },
  {
   "cell_type": "markdown",
   "id": "aware-environment",
   "metadata": {
    "papermill": {
     "duration": 0.025625,
     "end_time": "2021-02-25T03:39:01.130635",
     "exception": false,
     "start_time": "2021-02-25T03:39:01.105010",
     "status": "completed"
    },
    "tags": []
   },
   "source": [
    "## Testing"
   ]
  },
  {
   "cell_type": "code",
   "execution_count": 30,
   "id": "expected-chancellor",
   "metadata": {
    "execution": {
     "iopub.execute_input": "2021-02-25T03:39:01.184200Z",
     "iopub.status.busy": "2021-02-25T03:39:01.183846Z",
     "iopub.status.idle": "2021-02-25T03:39:01.194228Z",
     "shell.execute_reply": "2021-02-25T03:39:01.193867Z"
    },
    "papermill": {
     "duration": 0.038265,
     "end_time": "2021-02-25T03:39:01.194310",
     "exception": false,
     "start_time": "2021-02-25T03:39:01.156045",
     "status": "completed"
    },
    "tags": []
   },
   "outputs": [],
   "source": [
    "assert ensemble_stats[\"min\"] > 1"
   ]
  },
  {
   "cell_type": "code",
   "execution_count": 31,
   "id": "inclusive-europe",
   "metadata": {
    "execution": {
     "iopub.execute_input": "2021-02-25T03:39:01.251525Z",
     "iopub.status.busy": "2021-02-25T03:39:01.251165Z",
     "iopub.status.idle": "2021-02-25T03:39:01.261922Z",
     "shell.execute_reply": "2021-02-25T03:39:01.261587Z"
    },
    "papermill": {
     "duration": 0.04141,
     "end_time": "2021-02-25T03:39:01.262009",
     "exception": false,
     "start_time": "2021-02-25T03:39:01.220599",
     "status": "completed"
    },
    "tags": []
   },
   "outputs": [],
   "source": [
    "assert not ensemble[\"n_clusters\"].isna().any()"
   ]
  },
  {
   "cell_type": "code",
   "execution_count": 32,
   "id": "fabulous-miller",
   "metadata": {
    "execution": {
     "iopub.execute_input": "2021-02-25T03:39:01.318416Z",
     "iopub.status.busy": "2021-02-25T03:39:01.318050Z",
     "iopub.status.idle": "2021-02-25T03:39:01.328427Z",
     "shell.execute_reply": "2021-02-25T03:39:01.328114Z"
    },
    "papermill": {
     "duration": 0.038691,
     "end_time": "2021-02-25T03:39:01.328513",
     "exception": false,
     "start_time": "2021-02-25T03:39:01.289822",
     "status": "completed"
    },
    "tags": []
   },
   "outputs": [],
   "source": [
    "assert ensemble.shape[0] == len(CLUSTERERS)"
   ]
  },
  {
   "cell_type": "code",
   "execution_count": 33,
   "id": "stunning-bikini",
   "metadata": {
    "execution": {
     "iopub.execute_input": "2021-02-25T03:39:01.383571Z",
     "iopub.status.busy": "2021-02-25T03:39:01.383217Z",
     "iopub.status.idle": "2021-02-25T03:39:01.395713Z",
     "shell.execute_reply": "2021-02-25T03:39:01.395344Z"
    },
    "papermill": {
     "duration": 0.040728,
     "end_time": "2021-02-25T03:39:01.395806",
     "exception": false,
     "start_time": "2021-02-25T03:39:01.355078",
     "status": "completed"
    },
    "tags": []
   },
   "outputs": [],
   "source": [
    "# all partitions have the right size\n",
    "assert np.all(\n",
    "    [\n",
    "        part[\"partition\"].shape[0] == sim_matrix.shape[0]\n",
    "        for idx, part in ensemble.iterrows()\n",
    "    ]\n",
    ")"
   ]
  },
  {
   "cell_type": "code",
   "execution_count": 34,
   "id": "awful-morris",
   "metadata": {
    "execution": {
     "iopub.execute_input": "2021-02-25T03:39:01.453232Z",
     "iopub.status.busy": "2021-02-25T03:39:01.452878Z",
     "iopub.status.idle": "2021-02-25T03:39:01.465155Z",
     "shell.execute_reply": "2021-02-25T03:39:01.464782Z"
    },
    "papermill": {
     "duration": 0.041213,
     "end_time": "2021-02-25T03:39:01.465240",
     "exception": false,
     "start_time": "2021-02-25T03:39:01.424027",
     "status": "completed"
    },
    "tags": []
   },
   "outputs": [],
   "source": [
    "# no partition has negative clusters (noisy points)\n",
    "assert not np.any([(part[\"partition\"] < 0).any() for idx, part in ensemble.iterrows()])"
   ]
  },
  {
   "cell_type": "code",
   "execution_count": 35,
   "id": "opening-digest",
   "metadata": {
    "execution": {
     "iopub.execute_input": "2021-02-25T03:39:01.521183Z",
     "iopub.status.busy": "2021-02-25T03:39:01.520791Z",
     "iopub.status.idle": "2021-02-25T03:39:01.536240Z",
     "shell.execute_reply": "2021-02-25T03:39:01.535873Z"
    },
    "papermill": {
     "duration": 0.043986,
     "end_time": "2021-02-25T03:39:01.536326",
     "exception": false,
     "start_time": "2021-02-25T03:39:01.492340",
     "status": "completed"
    },
    "tags": []
   },
   "outputs": [
    {
     "data": {
      "text/plain": [
       "clusterer_id\n",
       "DeltaSpectralClustering #0       2\n",
       "DeltaSpectralClustering #1       5\n",
       "DeltaSpectralClustering #2      10\n",
       "DeltaSpectralClustering #3      15\n",
       "DeltaSpectralClustering #4      20\n",
       "DeltaSpectralClustering #5      25\n",
       "DeltaSpectralClustering #6      30\n",
       "DeltaSpectralClustering #7      35\n",
       "DeltaSpectralClustering #8      40\n",
       "DeltaSpectralClustering #9      45\n",
       "DeltaSpectralClustering #10     50\n",
       "DeltaSpectralClustering #11     55\n",
       "DeltaSpectralClustering #12     60\n",
       "DeltaSpectralClustering #13     65\n",
       "DeltaSpectralClustering #14     70\n",
       "DeltaSpectralClustering #15     75\n",
       "DeltaSpectralClustering #16     80\n",
       "DeltaSpectralClustering #17     90\n",
       "DeltaSpectralClustering #18     95\n",
       "DeltaSpectralClustering #19    100\n",
       "DeltaSpectralClustering #20    200\n",
       "Name: partition, dtype: int64"
      ]
     },
     "metadata": {},
     "output_type": "display_data"
    }
   ],
   "source": [
    "# check that the number of clusters in the partitions are the expected ones\n",
    "_real_k_values = ensemble[\"partition\"].apply(lambda x: np.unique(x).shape[0])\n",
    "display(_real_k_values)\n",
    "assert np.all(ensemble[\"n_clusters\"].values == _real_k_values.values)"
   ]
  },
  {
   "cell_type": "markdown",
   "id": "important-professor",
   "metadata": {
    "papermill": {
     "duration": 0.026422,
     "end_time": "2021-02-25T03:39:01.589550",
     "exception": false,
     "start_time": "2021-02-25T03:39:01.563128",
     "status": "completed"
    },
    "tags": []
   },
   "source": [
    "## Add clustering quality measures"
   ]
  },
  {
   "cell_type": "code",
   "execution_count": 36,
   "id": "sapphire-explosion",
   "metadata": {
    "execution": {
     "iopub.execute_input": "2021-02-25T03:39:01.644685Z",
     "iopub.status.busy": "2021-02-25T03:39:01.644285Z",
     "iopub.status.idle": "2021-02-25T03:39:03.934046Z",
     "shell.execute_reply": "2021-02-25T03:39:03.934331Z"
    },
    "papermill": {
     "duration": 2.318884,
     "end_time": "2021-02-25T03:39:03.934438",
     "exception": false,
     "start_time": "2021-02-25T03:39:01.615554",
     "status": "completed"
    },
    "tags": []
   },
   "outputs": [],
   "source": [
    "ensemble = ensemble.assign(\n",
    "    si_score=ensemble[\"partition\"].apply(\n",
    "        lambda x: silhouette_score(dist_matrix, x, metric=\"precomputed\")\n",
    "    ),\n",
    ")"
   ]
  },
  {
   "cell_type": "code",
   "execution_count": 37,
   "id": "capable-upset",
   "metadata": {
    "execution": {
     "iopub.execute_input": "2021-02-25T03:39:03.990278Z",
     "iopub.status.busy": "2021-02-25T03:39:03.989927Z",
     "iopub.status.idle": "2021-02-25T03:39:04.001122Z",
     "shell.execute_reply": "2021-02-25T03:39:04.000753Z"
    },
    "papermill": {
     "duration": 0.039771,
     "end_time": "2021-02-25T03:39:04.001204",
     "exception": false,
     "start_time": "2021-02-25T03:39:03.961433",
     "status": "completed"
    },
    "tags": []
   },
   "outputs": [
    {
     "data": {
      "text/plain": [
       "(21, 5)"
      ]
     },
     "execution_count": 37,
     "metadata": {},
     "output_type": "execute_result"
    }
   ],
   "source": [
    "ensemble.shape"
   ]
  },
  {
   "cell_type": "code",
   "execution_count": 38,
   "id": "above-jamaica",
   "metadata": {
    "execution": {
     "iopub.execute_input": "2021-02-25T03:39:04.056923Z",
     "iopub.status.busy": "2021-02-25T03:39:04.056510Z",
     "iopub.status.idle": "2021-02-25T03:39:04.075494Z",
     "shell.execute_reply": "2021-02-25T03:39:04.075124Z"
    },
    "papermill": {
     "duration": 0.047681,
     "end_time": "2021-02-25T03:39:04.075579",
     "exception": false,
     "start_time": "2021-02-25T03:39:04.027898",
     "status": "completed"
    },
    "tags": []
   },
   "outputs": [
    {
     "data": {
      "text/html": [
       "<div>\n",
       "<style scoped>\n",
       "    .dataframe tbody tr th:only-of-type {\n",
       "        vertical-align: middle;\n",
       "    }\n",
       "\n",
       "    .dataframe tbody tr th {\n",
       "        vertical-align: top;\n",
       "    }\n",
       "\n",
       "    .dataframe thead th {\n",
       "        text-align: right;\n",
       "    }\n",
       "</style>\n",
       "<table border=\"1\" class=\"dataframe\">\n",
       "  <thead>\n",
       "    <tr style=\"text-align: right;\">\n",
       "      <th></th>\n",
       "      <th>clusterer_params</th>\n",
       "      <th>partition</th>\n",
       "      <th>n_clusters</th>\n",
       "      <th>delta</th>\n",
       "      <th>si_score</th>\n",
       "    </tr>\n",
       "    <tr>\n",
       "      <th>clusterer_id</th>\n",
       "      <th></th>\n",
       "      <th></th>\n",
       "      <th></th>\n",
       "      <th></th>\n",
       "      <th></th>\n",
       "    </tr>\n",
       "  </thead>\n",
       "  <tbody>\n",
       "    <tr>\n",
       "      <th>DeltaSpectralClustering #0</th>\n",
       "      <td>{'delta': 0.25}</td>\n",
       "      <td>[0.0, 0.0, 0.0, 0.0, 0.0, 0.0, 0.0, 0.0, 0.0, ...</td>\n",
       "      <td>2</td>\n",
       "      <td>0.25</td>\n",
       "      <td>0.137042</td>\n",
       "    </tr>\n",
       "    <tr>\n",
       "      <th>DeltaSpectralClustering #1</th>\n",
       "      <td>{'delta': 0.25}</td>\n",
       "      <td>[3.0, 0.0, 0.0, 3.0, 3.0, 0.0, 3.0, 0.0, 0.0, ...</td>\n",
       "      <td>5</td>\n",
       "      <td>0.25</td>\n",
       "      <td>0.111130</td>\n",
       "    </tr>\n",
       "    <tr>\n",
       "      <th>DeltaSpectralClustering #2</th>\n",
       "      <td>{'delta': 0.25}</td>\n",
       "      <td>[8.0, 4.0, 4.0, 4.0, 8.0, 4.0, 8.0, 4.0, 4.0, ...</td>\n",
       "      <td>10</td>\n",
       "      <td>0.25</td>\n",
       "      <td>0.096330</td>\n",
       "    </tr>\n",
       "    <tr>\n",
       "      <th>DeltaSpectralClustering #3</th>\n",
       "      <td>{'delta': 0.25}</td>\n",
       "      <td>[5.0, 5.0, 5.0, 5.0, 5.0, 5.0, 5.0, 5.0, 5.0, ...</td>\n",
       "      <td>15</td>\n",
       "      <td>0.25</td>\n",
       "      <td>0.081212</td>\n",
       "    </tr>\n",
       "    <tr>\n",
       "      <th>DeltaSpectralClustering #4</th>\n",
       "      <td>{'delta': 0.25}</td>\n",
       "      <td>[18.0, 0.0, 13.0, 0.0, 18.0, 13.0, 13.0, 13.0,...</td>\n",
       "      <td>20</td>\n",
       "      <td>0.25</td>\n",
       "      <td>0.074854</td>\n",
       "    </tr>\n",
       "  </tbody>\n",
       "</table>\n",
       "</div>"
      ],
      "text/plain": [
       "                           clusterer_params  \\\n",
       "clusterer_id                                  \n",
       "DeltaSpectralClustering #0  {'delta': 0.25}   \n",
       "DeltaSpectralClustering #1  {'delta': 0.25}   \n",
       "DeltaSpectralClustering #2  {'delta': 0.25}   \n",
       "DeltaSpectralClustering #3  {'delta': 0.25}   \n",
       "DeltaSpectralClustering #4  {'delta': 0.25}   \n",
       "\n",
       "                                                                    partition  \\\n",
       "clusterer_id                                                                    \n",
       "DeltaSpectralClustering #0  [0.0, 0.0, 0.0, 0.0, 0.0, 0.0, 0.0, 0.0, 0.0, ...   \n",
       "DeltaSpectralClustering #1  [3.0, 0.0, 0.0, 3.0, 3.0, 0.0, 3.0, 0.0, 0.0, ...   \n",
       "DeltaSpectralClustering #2  [8.0, 4.0, 4.0, 4.0, 8.0, 4.0, 8.0, 4.0, 4.0, ...   \n",
       "DeltaSpectralClustering #3  [5.0, 5.0, 5.0, 5.0, 5.0, 5.0, 5.0, 5.0, 5.0, ...   \n",
       "DeltaSpectralClustering #4  [18.0, 0.0, 13.0, 0.0, 18.0, 13.0, 13.0, 13.0,...   \n",
       "\n",
       "                            n_clusters delta  si_score  \n",
       "clusterer_id                                            \n",
       "DeltaSpectralClustering #0           2  0.25  0.137042  \n",
       "DeltaSpectralClustering #1           5  0.25  0.111130  \n",
       "DeltaSpectralClustering #2          10  0.25  0.096330  \n",
       "DeltaSpectralClustering #3          15  0.25  0.081212  \n",
       "DeltaSpectralClustering #4          20  0.25  0.074854  "
      ]
     },
     "execution_count": 38,
     "metadata": {},
     "output_type": "execute_result"
    }
   ],
   "source": [
    "ensemble.head()"
   ]
  },
  {
   "cell_type": "markdown",
   "id": "literary-slave",
   "metadata": {
    "papermill": {
     "duration": 0.026641,
     "end_time": "2021-02-25T03:39:04.129621",
     "exception": false,
     "start_time": "2021-02-25T03:39:04.102980",
     "status": "completed"
    },
    "tags": []
   },
   "source": [
    "## Save"
   ]
  },
  {
   "cell_type": "code",
   "execution_count": 39,
   "id": "engaging-lotus",
   "metadata": {
    "execution": {
     "iopub.execute_input": "2021-02-25T03:39:04.185699Z",
     "iopub.status.busy": "2021-02-25T03:39:04.185339Z",
     "iopub.status.idle": "2021-02-25T03:39:04.196943Z",
     "shell.execute_reply": "2021-02-25T03:39:04.196522Z"
    },
    "papermill": {
     "duration": 0.040605,
     "end_time": "2021-02-25T03:39:04.197029",
     "exception": false,
     "start_time": "2021-02-25T03:39:04.156424",
     "status": "completed"
    },
    "tags": []
   },
   "outputs": [],
   "source": [
    "ensemble.to_pickle(ensemble_file)"
   ]
  },
  {
   "cell_type": "markdown",
   "id": "compliant-conjunction",
   "metadata": {
    "papermill": {
     "duration": 0.030141,
     "end_time": "2021-02-25T03:39:04.255778",
     "exception": false,
     "start_time": "2021-02-25T03:39:04.225637",
     "status": "completed"
    },
    "tags": []
   },
   "source": [
    "# Cluster quality"
   ]
  },
  {
   "cell_type": "code",
   "execution_count": 40,
   "id": "round-henry",
   "metadata": {
    "execution": {
     "iopub.execute_input": "2021-02-25T03:39:04.313046Z",
     "iopub.status.busy": "2021-02-25T03:39:04.312640Z",
     "iopub.status.idle": "2021-02-25T03:39:04.328628Z",
     "shell.execute_reply": "2021-02-25T03:39:04.328260Z"
    },
    "papermill": {
     "duration": 0.045557,
     "end_time": "2021-02-25T03:39:04.328747",
     "exception": false,
     "start_time": "2021-02-25T03:39:04.283190",
     "status": "completed"
    },
    "tags": []
   },
   "outputs": [
    {
     "data": {
      "text/html": [
       "<div>\n",
       "<style scoped>\n",
       "    .dataframe tbody tr th:only-of-type {\n",
       "        vertical-align: middle;\n",
       "    }\n",
       "\n",
       "    .dataframe tbody tr th {\n",
       "        vertical-align: top;\n",
       "    }\n",
       "\n",
       "    .dataframe thead th {\n",
       "        text-align: right;\n",
       "    }\n",
       "</style>\n",
       "<table border=\"1\" class=\"dataframe\">\n",
       "  <thead>\n",
       "    <tr style=\"text-align: right;\">\n",
       "      <th></th>\n",
       "      <th></th>\n",
       "      <th>si_score</th>\n",
       "    </tr>\n",
       "    <tr>\n",
       "      <th>n_clusters</th>\n",
       "      <th>delta</th>\n",
       "      <th></th>\n",
       "    </tr>\n",
       "  </thead>\n",
       "  <tbody>\n",
       "    <tr>\n",
       "      <th>2</th>\n",
       "      <th>0.25</th>\n",
       "      <td>0.137042</td>\n",
       "    </tr>\n",
       "    <tr>\n",
       "      <th>5</th>\n",
       "      <th>0.25</th>\n",
       "      <td>0.111130</td>\n",
       "    </tr>\n",
       "    <tr>\n",
       "      <th>10</th>\n",
       "      <th>0.25</th>\n",
       "      <td>0.096330</td>\n",
       "    </tr>\n",
       "    <tr>\n",
       "      <th>15</th>\n",
       "      <th>0.25</th>\n",
       "      <td>0.081212</td>\n",
       "    </tr>\n",
       "    <tr>\n",
       "      <th>20</th>\n",
       "      <th>0.25</th>\n",
       "      <td>0.074854</td>\n",
       "    </tr>\n",
       "    <tr>\n",
       "      <th>25</th>\n",
       "      <th>0.25</th>\n",
       "      <td>0.062488</td>\n",
       "    </tr>\n",
       "    <tr>\n",
       "      <th>30</th>\n",
       "      <th>0.25</th>\n",
       "      <td>0.065948</td>\n",
       "    </tr>\n",
       "    <tr>\n",
       "      <th>35</th>\n",
       "      <th>0.25</th>\n",
       "      <td>0.069718</td>\n",
       "    </tr>\n",
       "    <tr>\n",
       "      <th>40</th>\n",
       "      <th>0.25</th>\n",
       "      <td>0.060388</td>\n",
       "    </tr>\n",
       "    <tr>\n",
       "      <th>45</th>\n",
       "      <th>0.25</th>\n",
       "      <td>0.061518</td>\n",
       "    </tr>\n",
       "    <tr>\n",
       "      <th>50</th>\n",
       "      <th>0.25</th>\n",
       "      <td>0.033076</td>\n",
       "    </tr>\n",
       "    <tr>\n",
       "      <th>55</th>\n",
       "      <th>0.25</th>\n",
       "      <td>0.041370</td>\n",
       "    </tr>\n",
       "    <tr>\n",
       "      <th>60</th>\n",
       "      <th>0.25</th>\n",
       "      <td>0.037835</td>\n",
       "    </tr>\n",
       "    <tr>\n",
       "      <th>65</th>\n",
       "      <th>0.25</th>\n",
       "      <td>0.033199</td>\n",
       "    </tr>\n",
       "    <tr>\n",
       "      <th>70</th>\n",
       "      <th>0.25</th>\n",
       "      <td>0.036350</td>\n",
       "    </tr>\n",
       "    <tr>\n",
       "      <th>75</th>\n",
       "      <th>0.25</th>\n",
       "      <td>0.027023</td>\n",
       "    </tr>\n",
       "    <tr>\n",
       "      <th>80</th>\n",
       "      <th>0.25</th>\n",
       "      <td>0.024937</td>\n",
       "    </tr>\n",
       "    <tr>\n",
       "      <th>90</th>\n",
       "      <th>0.25</th>\n",
       "      <td>0.027569</td>\n",
       "    </tr>\n",
       "    <tr>\n",
       "      <th>95</th>\n",
       "      <th>0.25</th>\n",
       "      <td>0.013320</td>\n",
       "    </tr>\n",
       "    <tr>\n",
       "      <th>100</th>\n",
       "      <th>0.25</th>\n",
       "      <td>0.039024</td>\n",
       "    </tr>\n",
       "    <tr>\n",
       "      <th>200</th>\n",
       "      <th>0.25</th>\n",
       "      <td>-0.005047</td>\n",
       "    </tr>\n",
       "  </tbody>\n",
       "</table>\n",
       "</div>"
      ],
      "text/plain": [
       "                  si_score\n",
       "n_clusters delta          \n",
       "2          0.25   0.137042\n",
       "5          0.25   0.111130\n",
       "10         0.25   0.096330\n",
       "15         0.25   0.081212\n",
       "20         0.25   0.074854\n",
       "25         0.25   0.062488\n",
       "30         0.25   0.065948\n",
       "35         0.25   0.069718\n",
       "40         0.25   0.060388\n",
       "45         0.25   0.061518\n",
       "50         0.25   0.033076\n",
       "55         0.25   0.041370\n",
       "60         0.25   0.037835\n",
       "65         0.25   0.033199\n",
       "70         0.25   0.036350\n",
       "75         0.25   0.027023\n",
       "80         0.25   0.024937\n",
       "90         0.25   0.027569\n",
       "95         0.25   0.013320\n",
       "100        0.25   0.039024\n",
       "200        0.25  -0.005047"
      ]
     },
     "metadata": {},
     "output_type": "display_data"
    }
   ],
   "source": [
    "with pd.option_context(\"display.max_rows\", None, \"display.max_columns\", None):\n",
    "    _df = ensemble.groupby([\"n_clusters\", \"delta\"]).mean()\n",
    "    display(_df)"
   ]
  },
  {
   "cell_type": "code",
   "execution_count": 41,
   "id": "universal-supplier",
   "metadata": {
    "execution": {
     "iopub.execute_input": "2021-02-25T03:39:04.387619Z",
     "iopub.status.busy": "2021-02-25T03:39:04.387246Z",
     "iopub.status.idle": "2021-02-25T03:39:04.971937Z",
     "shell.execute_reply": "2021-02-25T03:39:04.971616Z"
    },
    "papermill": {
     "duration": 0.615116,
     "end_time": "2021-02-25T03:39:04.972020",
     "exception": false,
     "start_time": "2021-02-25T03:39:04.356904",
     "status": "completed"
    },
    "tags": []
   },
   "outputs": [
    {
     "data": {
      "image/png": "[encoded data removed]",
      "text/plain": [
       "<Figure size 1008x432 with 1 Axes>"
      ]
     },
     "metadata": {},
     "output_type": "display_data"
    }
   ],
   "source": [
    "with sns.plotting_context(\"talk\", font_scale=0.75), sns.axes_style(\n",
    "    \"whitegrid\", {\"grid.linestyle\": \"--\"}\n",
    "):\n",
    "    fig = plt.figure(figsize=(14, 6))\n",
    "    ax = sns.pointplot(data=ensemble, x=\"n_clusters\", y=\"si_score\", hue=\"delta\")\n",
    "    ax.set_ylabel(\"Silhouette index\\n(higher is better)\")\n",
    "    ax.set_xlabel(\"Number of clusters ($k$)\")\n",
    "    ax.set_xticklabels(ax.get_xticklabels(), rotation=45)\n",
    "    plt.grid(True)\n",
    "    plt.tight_layout()"
   ]
  },
  {
   "cell_type": "code",
   "execution_count": null,
   "id": "potential-uzbekistan",
   "metadata": {
    "papermill": {
     "duration": 0.0286,
     "end_time": "2021-02-25T03:39:05.029820",
     "exception": false,
     "start_time": "2021-02-25T03:39:05.001220",
     "status": "completed"
    },
    "tags": []
   },
   "outputs": [],
   "source": []
  }
 ],
 "metadata": {
  "jupytext": {
   "cell_metadata_filter": "all,-execution,-papermill,-trusted",
   "text_representation": {
    "extension": ".py",
    "format_name": "percent",
    "format_version": "1.3",
    "jupytext_version": "1.11.5"
   }
  },
  "kernelspec": {
   "display_name": "Python 3 (ipykernel)",
   "language": "python",
   "name": "python3"
  },
  "language_info": {
   "codemirror_mode": {
    "name": "ipython",
    "version": 3
   },
   "file_extension": ".py",
   "mimetype": "text/x-python",
   "name": "python",
   "nbconvert_exporter": "python",
   "pygments_lexer": "ipython3",
   "version": "3.9.6"
  },
  "papermill": {
   "default_parameters": {},
   "duration": 226.888441,
   "end_time": "2021-02-25T03:39:05.466781",
   "environment_variables": {},
   "exception": null,
   "input_path": "05_cluster_analysis/05_01-spectral_clustering-clustermatch.ipynb",
   "output_path": "05_cluster_analysis/05_01-spectral_clustering-clustermatch.run.ipynb",
   "parameters": {},
   "start_time": "2021-02-25T03:35:18.578340",
   "version": "2.2.2"
  },
  "toc-autonumbering": true,
  "toc-showcode": false,
  "toc-showmarkdowntxt": false,
  "toc-showtags": false
 },
 "nbformat": 4,
 "nbformat_minor": 5
}
