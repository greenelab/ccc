{
 "cells": [
  {
   "cell_type": "markdown",
   "id": "4b79d660-2ab1-42c2-a4d5-467d2534e5dc",
   "metadata": {
    "papermill": {
     "duration": 0.026392,
     "end_time": "2021-09-30T04:28:24.187326",
     "exception": false,
     "start_time": "2021-09-30T04:28:24.160934",
     "status": "completed"
    },
    "tags": []
   },
   "source": [
    "# Description"
   ]
  },
  {
   "cell_type": "markdown",
   "id": "9f0b6db4-6f06-4856-a4b8-e24548d0f1d9",
   "metadata": {
    "papermill": {
     "duration": 0.025595,
     "end_time": "2021-09-30T04:28:24.238769",
     "exception": false,
     "start_time": "2021-09-30T04:28:24.213174",
     "status": "completed"
    },
    "tags": []
   },
   "source": [
    "Combines all gene enrichment results found in input directory."
   ]
  },
  {
   "cell_type": "markdown",
   "id": "dfb4a759-748a-4a19-b773-992a23cb9327",
   "metadata": {
    "papermill": {
     "duration": 0.025424,
     "end_time": "2021-09-30T04:28:24.291008",
     "exception": false,
     "start_time": "2021-09-30T04:28:24.265584",
     "status": "completed"
    },
    "tags": []
   },
   "source": [
    "# Modules loading"
   ]
  },
  {
   "cell_type": "code",
   "execution_count": 1,
   "id": "98e28052-34cc-43fc-87f3-a1b61eeb14fc",
   "metadata": {
    "papermill": {
     "duration": 1.038366,
     "end_time": "2021-09-30T04:28:25.354994",
     "exception": false,
     "start_time": "2021-09-30T04:28:24.316628",
     "status": "completed"
    },
    "tags": []
   },
   "outputs": [],
   "source": [
    "import re\n",
    "\n",
    "import numpy as np\n",
    "import pandas as pd\n",
    "from statsmodels.stats.multitest import multipletests\n",
    "import matplotlib.pyplot as plt\n",
    "import seaborn as sns\n",
    "from tqdm import tqdm\n",
    "\n",
    "from clustermatch import conf"
   ]
  },
  {
   "cell_type": "markdown",
   "id": "76fa50d9-680c-4107-b705-009070735d89",
   "metadata": {
    "papermill": {
     "duration": 0.026016,
     "end_time": "2021-09-30T04:28:25.407341",
     "exception": false,
     "start_time": "2021-09-30T04:28:25.381325",
     "status": "completed"
    },
    "tags": []
   },
   "source": [
    "# Settings"
   ]
  },
  {
   "cell_type": "code",
   "execution_count": 2,
   "id": "10f52d75-329f-4bed-b5d5-66551197d8c1",
   "metadata": {},
   "outputs": [],
   "source": [
    "DATASET_CONFIG = conf.RECOUNT2"
   ]
  },
  {
   "cell_type": "code",
   "execution_count": 3,
   "id": "7e12ded2-5649-4e35-a946-07c8724ea421",
   "metadata": {
    "papermill": {
     "duration": 0.031191,
     "end_time": "2021-09-30T04:28:25.463977",
     "exception": false,
     "start_time": "2021-09-30T04:28:25.432786",
     "status": "completed"
    },
    "tags": []
   },
   "outputs": [],
   "source": [
    "# ENRICH_FUNCTION = \"enrichGO\""
   ]
  },
  {
   "cell_type": "code",
   "execution_count": 4,
   "id": "f10c4d5f-e737-4066-866a-e4f2404e5922",
   "metadata": {
    "papermill": {
     "duration": 0.031072,
     "end_time": "2021-09-30T04:28:25.521257",
     "exception": false,
     "start_time": "2021-09-30T04:28:25.490185",
     "status": "completed"
    },
    "tags": []
   },
   "outputs": [],
   "source": [
    "# CORRELATION_METHOD_NAME = \"clustermatch\""
   ]
  },
  {
   "cell_type": "code",
   "execution_count": 5,
   "id": "ff5b04ea-1161-499a-9aff-a3f5f0efd7ce",
   "metadata": {
    "papermill": {
     "duration": 0.031072,
     "end_time": "2021-09-30T04:28:25.578581",
     "exception": false,
     "start_time": "2021-09-30T04:28:25.547509",
     "status": "completed"
    },
    "tags": []
   },
   "outputs": [],
   "source": [
    "# GENE_SELECTION_STRATEGY = \"var_pc_log2\""
   ]
  },
  {
   "cell_type": "code",
   "execution_count": 6,
   "id": "c0e27c63-0b49-47f1-8147-6c47b90ea3d9",
   "metadata": {
    "papermill": {
     "duration": 0.030727,
     "end_time": "2021-09-30T04:28:25.635456",
     "exception": false,
     "start_time": "2021-09-30T04:28:25.604729",
     "status": "completed"
    },
    "tags": []
   },
   "outputs": [],
   "source": [
    "# # clusterProfiler settings\n",
    "# ENRICH_FUNCTION = \"enrichGO\"\n",
    "# SIMPLIFY_CUTOFF = 0.7\n",
    "# GO_ONTOLOGIES = (\"BP\", \"CC\", \"MF\")"
   ]
  },
  {
   "cell_type": "code",
   "execution_count": 7,
   "id": "d67b1af4-a310-45f5-a6e9-919df1fd2165",
   "metadata": {
    "papermill": {
     "duration": 0.030707,
     "end_time": "2021-09-30T04:28:25.692294",
     "exception": false,
     "start_time": "2021-09-30T04:28:25.661587",
     "status": "completed"
    },
    "tags": []
   },
   "outputs": [],
   "source": [
    "# SIMILARITY_MATRICES_DIR = conf.GTEX[\"SIMILARITY_MATRICES_DIR\"]\n",
    "# display(SIMILARITY_MATRICES_DIR)"
   ]
  },
  {
   "cell_type": "code",
   "execution_count": 8,
   "id": "22b5ec88-d626-4db3-ada1-81cf48f23579",
   "metadata": {
    "papermill": {
     "duration": 0.030885,
     "end_time": "2021-09-30T04:28:25.749122",
     "exception": false,
     "start_time": "2021-09-30T04:28:25.718237",
     "status": "completed"
    },
    "tags": []
   },
   "outputs": [],
   "source": [
    "# SIMILARITY_MATRIX_FILENAME_TEMPLATE = conf.GTEX[\"SIMILARITY_MATRIX_FILENAME_TEMPLATE\"]\n",
    "# display(SIMILARITY_MATRIX_FILENAME_TEMPLATE)"
   ]
  },
  {
   "cell_type": "markdown",
   "id": "eee530dc-b562-4b54-8bc3-a9c831ac052c",
   "metadata": {
    "papermill": {
     "duration": 0.025875,
     "end_time": "2021-09-30T04:28:25.801400",
     "exception": false,
     "start_time": "2021-09-30T04:28:25.775525",
     "status": "completed"
    },
    "tags": []
   },
   "source": [
    "# Paths"
   ]
  },
  {
   "cell_type": "code",
   "execution_count": 9,
   "id": "09f26fce-9c9b-4ec0-ae25-1b9130b17ab7",
   "metadata": {
    "papermill": {
     "duration": 0.034234,
     "end_time": "2021-09-30T04:28:25.861695",
     "exception": false,
     "start_time": "2021-09-30T04:28:25.827461",
     "status": "completed"
    },
    "tags": []
   },
   "outputs": [
    {
     "data": {
      "text/plain": [
       "PosixPath('/home/miltondp/projects/labs/greenelab/clustermatch_repos/clustermatch-gene-expr/base/results/recount2/clustering')"
      ]
     },
     "metadata": {},
     "output_type": "display_data"
    }
   ],
   "source": [
    "INPUT_DIR = DATASET_CONFIG[\"CLUSTERING_DIR\"]\n",
    "display(INPUT_DIR)\n",
    "assert INPUT_DIR.exists()"
   ]
  },
  {
   "cell_type": "code",
   "execution_count": 10,
   "id": "b89c7a90-c325-4557-9107-7ba95e8bf03a",
   "metadata": {
    "papermill": {
     "duration": 0.033872,
     "end_time": "2021-09-30T04:28:25.922586",
     "exception": false,
     "start_time": "2021-09-30T04:28:25.888714",
     "status": "completed"
    },
    "tags": []
   },
   "outputs": [
    {
     "data": {
      "text/plain": [
       "PosixPath('/home/miltondp/projects/labs/greenelab/clustermatch_repos/clustermatch-gene-expr/base/results/recount2/clustering/recount_data_prep_PLIER-clustering.pkl')"
      ]
     },
     "metadata": {},
     "output_type": "display_data"
    }
   ],
   "source": [
    "OUTPUT_FILE = DATASET_CONFIG[\"CLUSTERING_COMBINED_FILE\"]\n",
    "display(OUTPUT_FILE)\n",
    "\n",
    "OUTPUT_FILE.parent.mkdir(parents=True, exist_ok=True)"
   ]
  },
  {
   "cell_type": "markdown",
   "id": "ec13a933-c48b-412b-9147-6aca9548be9f",
   "metadata": {
    "papermill": {
     "duration": 0.026983,
     "end_time": "2021-09-30T04:28:25.976732",
     "exception": false,
     "start_time": "2021-09-30T04:28:25.949749",
     "status": "completed"
    },
    "tags": []
   },
   "source": [
    "# Get data files"
   ]
  },
  {
   "cell_type": "code",
   "execution_count": 11,
   "id": "da9668d5-9922-42ed-bc4a-aec394343871",
   "metadata": {
    "papermill": {
     "duration": 0.032648,
     "end_time": "2021-09-30T04:28:26.036244",
     "exception": false,
     "start_time": "2021-09-30T04:28:26.003596",
     "status": "completed"
    },
    "tags": []
   },
   "outputs": [],
   "source": [
    "filename_pattern = re.compile(DATASET_CONFIG[\"CLUSTERING_FILENAME_PATTERN\"])"
   ]
  },
  {
   "cell_type": "code",
   "execution_count": 12,
   "id": "b356cfbc-a3f5-430e-a90b-05b57bb8289e",
   "metadata": {
    "papermill": {
     "duration": 0.037562,
     "end_time": "2021-09-30T04:28:26.101112",
     "exception": false,
     "start_time": "2021-09-30T04:28:26.063550",
     "status": "completed"
    },
    "tags": []
   },
   "outputs": [
    {
     "data": {
      "text/plain": [
       "6"
      ]
     },
     "metadata": {},
     "output_type": "display_data"
    },
    {
     "data": {
      "text/plain": [
       "[PosixPath('/home/miltondp/projects/labs/greenelab/clustermatch_repos/clustermatch-gene-expr/base/results/recount2/clustering/recount_data_prep_PLIER-clustermatch_k2-SpectralClustering.pkl'),\n",
       " PosixPath('/home/miltondp/projects/labs/greenelab/clustermatch_repos/clustermatch-gene-expr/base/results/recount2/clustering/recount_data_prep_PLIER-clustermatch_k2to5-SpectralClustering.pkl'),\n",
       " PosixPath('/home/miltondp/projects/labs/greenelab/clustermatch_repos/clustermatch-gene-expr/base/results/recount2/clustering/recount_data_prep_PLIER-pearson_abs-SpectralClustering.pkl'),\n",
       " PosixPath('/home/miltondp/projects/labs/greenelab/clustermatch_repos/clustermatch-gene-expr/base/results/recount2/clustering/recount_data_prep_PLIER-pearson_full-SpectralClustering.pkl'),\n",
       " PosixPath('/home/miltondp/projects/labs/greenelab/clustermatch_repos/clustermatch-gene-expr/base/results/recount2/clustering/recount_data_prep_PLIER-spearman_abs-SpectralClustering.pkl')]"
      ]
     },
     "metadata": {},
     "output_type": "display_data"
    }
   ],
   "source": [
    "# get input data files according to Settings\n",
    "input_files = sorted(\n",
    "    [\n",
    "        f\n",
    "        for f in INPUT_DIR.iterdir()\n",
    "        if (m := re.search(filename_pattern, str(f))) is not None\n",
    "        #         and m.group(\"corr_method\") == CORRELATION_METHOD_NAME\n",
    "    ]\n",
    ")\n",
    "display(len(input_files))\n",
    "display(input_files[:5])\n",
    "\n",
    "assert len(input_files) > 0"
   ]
  },
  {
   "cell_type": "markdown",
   "id": "c8339679-216e-4ea3-a1f5-e2819c0bbf62",
   "metadata": {
    "papermill": {
     "duration": 0.027489,
     "end_time": "2021-09-30T04:28:26.156506",
     "exception": false,
     "start_time": "2021-09-30T04:28:26.129017",
     "status": "completed"
    },
    "tags": []
   },
   "source": [
    "## Preview data"
   ]
  },
  {
   "cell_type": "code",
   "execution_count": 13,
   "id": "2428dee3-38a1-48db-a053-510d95e641ea",
   "metadata": {
    "papermill": {
     "duration": 0.033668,
     "end_time": "2021-09-30T04:28:26.217764",
     "exception": false,
     "start_time": "2021-09-30T04:28:26.184096",
     "status": "completed"
    },
    "tags": []
   },
   "outputs": [
    {
     "data": {
      "text/plain": [
       "PosixPath('/home/miltondp/projects/labs/greenelab/clustermatch_repos/clustermatch-gene-expr/base/results/recount2/clustering/recount_data_prep_PLIER-clustermatch_k2-SpectralClustering.pkl')"
      ]
     },
     "metadata": {},
     "output_type": "display_data"
    }
   ],
   "source": [
    "display(input_files[0])"
   ]
  },
  {
   "cell_type": "code",
   "execution_count": 14,
   "id": "c7c0bf99-4ac6-4a35-b18e-2677719d2239",
   "metadata": {
    "papermill": {
     "duration": 0.070475,
     "end_time": "2021-09-30T04:28:26.316288",
     "exception": false,
     "start_time": "2021-09-30T04:28:26.245813",
     "status": "completed"
    },
    "tags": []
   },
   "outputs": [],
   "source": [
    "_tmp_df = pd.read_pickle(input_files[0])"
   ]
  },
  {
   "cell_type": "code",
   "execution_count": 15,
   "id": "4a84e02e-ba04-43d4-a693-93d632cf6ba0",
   "metadata": {
    "papermill": {
     "duration": 0.034367,
     "end_time": "2021-09-30T04:28:26.379065",
     "exception": false,
     "start_time": "2021-09-30T04:28:26.344698",
     "status": "completed"
    },
    "tags": []
   },
   "outputs": [
    {
     "data": {
      "text/plain": [
       "(25, 4)"
      ]
     },
     "execution_count": 15,
     "metadata": {},
     "output_type": "execute_result"
    }
   ],
   "source": [
    "_tmp_df.shape"
   ]
  },
  {
   "cell_type": "code",
   "execution_count": 16,
   "id": "b3ef488f-4c8f-4ea3-abb0-d93c3afc6dc4",
   "metadata": {
    "papermill": {
     "duration": 0.05874,
     "end_time": "2021-09-30T04:28:26.466579",
     "exception": false,
     "start_time": "2021-09-30T04:28:26.407839",
     "status": "completed"
    },
    "tags": []
   },
   "outputs": [
    {
     "data": {
      "text/html": [
       "<div>\n",
       "<style scoped>\n",
       "    .dataframe tbody tr th:only-of-type {\n",
       "        vertical-align: middle;\n",
       "    }\n",
       "\n",
       "    .dataframe tbody tr th {\n",
       "        vertical-align: top;\n",
       "    }\n",
       "\n",
       "    .dataframe thead th {\n",
       "        text-align: right;\n",
       "    }\n",
       "</style>\n",
       "<table border=\"1\" class=\"dataframe\">\n",
       "  <thead>\n",
       "    <tr style=\"text-align: right;\">\n",
       "      <th></th>\n",
       "      <th>params</th>\n",
       "      <th>partition</th>\n",
       "      <th>n_clusters</th>\n",
       "      <th>si_score</th>\n",
       "    </tr>\n",
       "    <tr>\n",
       "      <th>id</th>\n",
       "      <th></th>\n",
       "      <th></th>\n",
       "      <th></th>\n",
       "      <th></th>\n",
       "    </tr>\n",
       "  </thead>\n",
       "  <tbody>\n",
       "    <tr>\n",
       "      <th>SpectralClustering #5</th>\n",
       "      <td>{\"affinity\": \"precomputed\", \"assign_labels\": \"...</td>\n",
       "      <td>[11, 11, 23, 17, 11, 16, 23, 23, 16, 23, 11, 1...</td>\n",
       "      <td>25</td>\n",
       "      <td>0.023936</td>\n",
       "    </tr>\n",
       "    <tr>\n",
       "      <th>SpectralClustering #2</th>\n",
       "      <td>{\"affinity\": \"precomputed\", \"assign_labels\": \"...</td>\n",
       "      <td>[3, 3, 3, 7, 3, 7, 3, 3, 7, 3, 3, 3, 3, 3, 3, ...</td>\n",
       "      <td>10</td>\n",
       "      <td>0.038756</td>\n",
       "    </tr>\n",
       "    <tr>\n",
       "      <th>SpectralClustering #19</th>\n",
       "      <td>{\"affinity\": \"precomputed\", \"assign_labels\": \"...</td>\n",
       "      <td>[9, 72, 88, 68, 65, 70, 60, 60, 70, 9, 22, 60,...</td>\n",
       "      <td>95</td>\n",
       "      <td>0.003103</td>\n",
       "    </tr>\n",
       "    <tr>\n",
       "      <th>SpectralClustering #16</th>\n",
       "      <td>{\"affinity\": \"precomputed\", \"assign_labels\": \"...</td>\n",
       "      <td>[70, 74, 69, 79, 77, 4, 39, 74, 4, 39, 77, 39,...</td>\n",
       "      <td>80</td>\n",
       "      <td>0.004088</td>\n",
       "    </tr>\n",
       "    <tr>\n",
       "      <th>SpectralClustering #11</th>\n",
       "      <td>{\"affinity\": \"precomputed\", \"assign_labels\": \"...</td>\n",
       "      <td>[16, 16, 46, 44, 30, 12, 39, 39, 12, 0, 22, 39...</td>\n",
       "      <td>55</td>\n",
       "      <td>0.012551</td>\n",
       "    </tr>\n",
       "  </tbody>\n",
       "</table>\n",
       "</div>"
      ],
      "text/plain": [
       "                                                                   params  \\\n",
       "id                                                                          \n",
       "SpectralClustering #5   {\"affinity\": \"precomputed\", \"assign_labels\": \"...   \n",
       "SpectralClustering #2   {\"affinity\": \"precomputed\", \"assign_labels\": \"...   \n",
       "SpectralClustering #19  {\"affinity\": \"precomputed\", \"assign_labels\": \"...   \n",
       "SpectralClustering #16  {\"affinity\": \"precomputed\", \"assign_labels\": \"...   \n",
       "SpectralClustering #11  {\"affinity\": \"precomputed\", \"assign_labels\": \"...   \n",
       "\n",
       "                                                                partition  \\\n",
       "id                                                                          \n",
       "SpectralClustering #5   [11, 11, 23, 17, 11, 16, 23, 23, 16, 23, 11, 1...   \n",
       "SpectralClustering #2   [3, 3, 3, 7, 3, 7, 3, 3, 7, 3, 3, 3, 3, 3, 3, ...   \n",
       "SpectralClustering #19  [9, 72, 88, 68, 65, 70, 60, 60, 70, 9, 22, 60,...   \n",
       "SpectralClustering #16  [70, 74, 69, 79, 77, 4, 39, 74, 4, 39, 77, 39,...   \n",
       "SpectralClustering #11  [16, 16, 46, 44, 30, 12, 39, 39, 12, 0, 22, 39...   \n",
       "\n",
       "                        n_clusters  si_score  \n",
       "id                                            \n",
       "SpectralClustering #5           25  0.023936  \n",
       "SpectralClustering #2           10  0.038756  \n",
       "SpectralClustering #19          95  0.003103  \n",
       "SpectralClustering #16          80  0.004088  \n",
       "SpectralClustering #11          55  0.012551  "
      ]
     },
     "execution_count": 16,
     "metadata": {},
     "output_type": "execute_result"
    }
   ],
   "source": [
    "_tmp_df.sample(n=5, random_state=0)"
   ]
  },
  {
   "cell_type": "markdown",
   "id": "f4e3a617-e89c-40b2-8dbd-3bbd5a2d378a",
   "metadata": {
    "papermill": {
     "duration": 0.028978,
     "end_time": "2021-09-30T04:28:26.524915",
     "exception": false,
     "start_time": "2021-09-30T04:28:26.495937",
     "status": "completed"
    },
    "tags": []
   },
   "source": [
    "# Run"
   ]
  },
  {
   "cell_type": "markdown",
   "id": "9bad87b5-0f3e-4138-8d3e-ac50d9431520",
   "metadata": {
    "papermill": {
     "duration": 0.028808,
     "end_time": "2021-09-30T04:28:26.582612",
     "exception": false,
     "start_time": "2021-09-30T04:28:26.553804",
     "status": "completed"
    },
    "tags": []
   },
   "source": [
    "## Read data, convert dtypes, add new metrics"
   ]
  },
  {
   "cell_type": "code",
   "execution_count": 18,
   "id": "4c1d8f26-1a6f-4b3e-8a24-9a03d4e90bd2",
   "metadata": {
    "papermill": {
     "duration": 9.598412,
     "end_time": "2021-09-30T04:28:36.209755",
     "exception": false,
     "start_time": "2021-09-30T04:28:26.611343",
     "status": "completed"
    },
    "tags": []
   },
   "outputs": [
    {
     "name": "stderr",
     "output_type": "stream",
     "text": [
      "100%|████████████████████████████████████████████████████████████████| 6/6 [00:00<00:00, 265.41it/s]\n"
     ]
    }
   ],
   "source": [
    "all_results = []\n",
    "\n",
    "for f_full in tqdm(input_files, ncols=100):\n",
    "    f_name = f_full.name\n",
    "\n",
    "    f_data = pd.read_pickle(f_full).reset_index()\n",
    "\n",
    "    # add metadata\n",
    "    metadata = re.search(filename_pattern, f_name)\n",
    "\n",
    "    f_data = f_data[\n",
    "        [\n",
    "            \"id\",\n",
    "            \"n_clusters\",\n",
    "            \"partition\",\n",
    "            \"si_score\",\n",
    "        ]\n",
    "    ]\n",
    "\n",
    "#     f_data[\"tissue\"] = metadata.group(\"tissue\")\n",
    "#     f_data[\"gene_sel_strategy\"] = metadata.group(\"gene_sel_strategy\")\n",
    "    f_data[\"corr_method\"] = metadata.group(\"corr_method\")\n",
    "    f_data[\"clust_method\"] = metadata.group(\"clust_method\")\n",
    "\n",
    "    all_results.append(f_data)"
   ]
  },
  {
   "cell_type": "code",
   "execution_count": 19,
   "id": "1733ea07-88b7-4c5e-9908-2eb7c3479c78",
   "metadata": {},
   "outputs": [],
   "source": [
    "df = pd.concat(all_results, ignore_index=True)"
   ]
  },
  {
   "cell_type": "code",
   "execution_count": 20,
   "id": "412887a1-1ae1-4da6-8025-bafa1459416b",
   "metadata": {},
   "outputs": [
    {
     "data": {
      "text/plain": [
       "(150, 6)"
      ]
     },
     "execution_count": 20,
     "metadata": {},
     "output_type": "execute_result"
    }
   ],
   "source": [
    "df.shape"
   ]
  },
  {
   "cell_type": "code",
   "execution_count": 21,
   "id": "2e57823a-fe94-4807-bbec-12800bea181d",
   "metadata": {},
   "outputs": [
    {
     "data": {
      "text/html": [
       "<div>\n",
       "<style scoped>\n",
       "    .dataframe tbody tr th:only-of-type {\n",
       "        vertical-align: middle;\n",
       "    }\n",
       "\n",
       "    .dataframe tbody tr th {\n",
       "        vertical-align: top;\n",
       "    }\n",
       "\n",
       "    .dataframe thead th {\n",
       "        text-align: right;\n",
       "    }\n",
       "</style>\n",
       "<table border=\"1\" class=\"dataframe\">\n",
       "  <thead>\n",
       "    <tr style=\"text-align: right;\">\n",
       "      <th></th>\n",
       "      <th>id</th>\n",
       "      <th>n_clusters</th>\n",
       "      <th>partition</th>\n",
       "      <th>si_score</th>\n",
       "      <th>corr_method</th>\n",
       "      <th>clust_method</th>\n",
       "    </tr>\n",
       "  </thead>\n",
       "  <tbody>\n",
       "    <tr>\n",
       "      <th>0</th>\n",
       "      <td>SpectralClustering #0</td>\n",
       "      <td>2</td>\n",
       "      <td>[1, 1, 0, 0, 1, 1, 1, 0, 1, 0, 1, 1, 0, 0, 1, ...</td>\n",
       "      <td>0.058329</td>\n",
       "      <td>clustermatch_k2</td>\n",
       "      <td>SpectralClustering</td>\n",
       "    </tr>\n",
       "    <tr>\n",
       "      <th>1</th>\n",
       "      <td>SpectralClustering #1</td>\n",
       "      <td>5</td>\n",
       "      <td>[0, 0, 0, 4, 0, 4, 0, 0, 4, 0, 1, 0, 0, 0, 0, ...</td>\n",
       "      <td>0.054201</td>\n",
       "      <td>clustermatch_k2</td>\n",
       "      <td>SpectralClustering</td>\n",
       "    </tr>\n",
       "    <tr>\n",
       "      <th>2</th>\n",
       "      <td>SpectralClustering #2</td>\n",
       "      <td>10</td>\n",
       "      <td>[3, 3, 3, 7, 3, 7, 3, 3, 7, 3, 3, 3, 3, 3, 3, ...</td>\n",
       "      <td>0.038756</td>\n",
       "      <td>clustermatch_k2</td>\n",
       "      <td>SpectralClustering</td>\n",
       "    </tr>\n",
       "    <tr>\n",
       "      <th>3</th>\n",
       "      <td>SpectralClustering #3</td>\n",
       "      <td>15</td>\n",
       "      <td>[4, 4, 4, 10, 13, 12, 4, 4, 10, 4, 13, 12, 4, ...</td>\n",
       "      <td>0.031417</td>\n",
       "      <td>clustermatch_k2</td>\n",
       "      <td>SpectralClustering</td>\n",
       "    </tr>\n",
       "    <tr>\n",
       "      <th>4</th>\n",
       "      <td>SpectralClustering #4</td>\n",
       "      <td>20</td>\n",
       "      <td>[13, 13, 11, 5, 19, 4, 11, 11, 4, 11, 19, 13, ...</td>\n",
       "      <td>0.027535</td>\n",
       "      <td>clustermatch_k2</td>\n",
       "      <td>SpectralClustering</td>\n",
       "    </tr>\n",
       "  </tbody>\n",
       "</table>\n",
       "</div>"
      ],
      "text/plain": [
       "                      id  n_clusters  \\\n",
       "0  SpectralClustering #0           2   \n",
       "1  SpectralClustering #1           5   \n",
       "2  SpectralClustering #2          10   \n",
       "3  SpectralClustering #3          15   \n",
       "4  SpectralClustering #4          20   \n",
       "\n",
       "                                           partition  si_score  \\\n",
       "0  [1, 1, 0, 0, 1, 1, 1, 0, 1, 0, 1, 1, 0, 0, 1, ...  0.058329   \n",
       "1  [0, 0, 0, 4, 0, 4, 0, 0, 4, 0, 1, 0, 0, 0, 0, ...  0.054201   \n",
       "2  [3, 3, 3, 7, 3, 7, 3, 3, 7, 3, 3, 3, 3, 3, 3, ...  0.038756   \n",
       "3  [4, 4, 4, 10, 13, 12, 4, 4, 10, 4, 13, 12, 4, ...  0.031417   \n",
       "4  [13, 13, 11, 5, 19, 4, 11, 11, 4, 11, 19, 13, ...  0.027535   \n",
       "\n",
       "       corr_method        clust_method  \n",
       "0  clustermatch_k2  SpectralClustering  \n",
       "1  clustermatch_k2  SpectralClustering  \n",
       "2  clustermatch_k2  SpectralClustering  \n",
       "3  clustermatch_k2  SpectralClustering  \n",
       "4  clustermatch_k2  SpectralClustering  "
      ]
     },
     "execution_count": 21,
     "metadata": {},
     "output_type": "execute_result"
    }
   ],
   "source": [
    "df.head()"
   ]
  },
  {
   "cell_type": "code",
   "execution_count": 22,
   "id": "2475c9af-8886-46a3-94f8-3f1e4452824d",
   "metadata": {},
   "outputs": [
    {
     "data": {
      "text/plain": [
       "id               object\n",
       "n_clusters        int64\n",
       "partition        object\n",
       "si_score        float64\n",
       "corr_method      object\n",
       "clust_method     object\n",
       "dtype: object"
      ]
     },
     "execution_count": 22,
     "metadata": {},
     "output_type": "execute_result"
    }
   ],
   "source": [
    "df.dtypes"
   ]
  },
  {
   "cell_type": "code",
   "execution_count": 23,
   "id": "ecc4aca8-8d3d-4e91-a098-5ba8ac635b0b",
   "metadata": {},
   "outputs": [],
   "source": [
    "# convert to int32\n",
    "df[\"n_clusters\"] = df[\"n_clusters\"].astype(\"int32\")\n",
    "\n",
    "# to category dtype\n",
    "df[\"id\"] = df[\"id\"].astype(\"category\")\n",
    "# df[\"tissue\"] = df[\"tissue\"].astype(\"category\")\n",
    "# df[\"gene_sel_strategy\"] = df[\"gene_sel_strategy\"].astype(\"category\")\n",
    "df[\"corr_method\"] = df[\"corr_method\"].astype(\"category\")\n",
    "df[\"clust_method\"] = df[\"clust_method\"].astype(\"category\")"
   ]
  },
  {
   "cell_type": "code",
   "execution_count": 24,
   "id": "9a3986b6-37c7-465c-9fd0-6f7320b54c93",
   "metadata": {},
   "outputs": [
    {
     "data": {
      "text/plain": [
       "id              category\n",
       "n_clusters         int32\n",
       "partition         object\n",
       "si_score         float64\n",
       "corr_method     category\n",
       "clust_method    category\n",
       "dtype: object"
      ]
     },
     "metadata": {},
     "output_type": "display_data"
    }
   ],
   "source": [
    "display(df.dtypes)\n",
    "assert df.dtypes.loc[\"id\"] == \"category\""
   ]
  },
  {
   "cell_type": "code",
   "execution_count": 25,
   "id": "278d167f-dcc8-490d-8b0f-960f300f4e87",
   "metadata": {},
   "outputs": [
    {
     "data": {
      "text/plain": [
       "array([1, 1, 0, ..., 1, 1, 0], dtype=int32)"
      ]
     },
     "execution_count": 25,
     "metadata": {},
     "output_type": "execute_result"
    }
   ],
   "source": [
    "df.iloc[0][\"partition\"]"
   ]
  },
  {
   "cell_type": "code",
   "execution_count": 26,
   "id": "a0aec274-c723-4af5-b381-863aada8ce98",
   "metadata": {
    "papermill": {
     "duration": 0.22312,
     "end_time": "2021-09-30T04:28:39.798601",
     "exception": false,
     "start_time": "2021-09-30T04:28:39.575481",
     "status": "completed"
    },
    "tags": []
   },
   "outputs": [
    {
     "data": {
      "text/html": [
       "<div>\n",
       "<style scoped>\n",
       "    .dataframe tbody tr th:only-of-type {\n",
       "        vertical-align: middle;\n",
       "    }\n",
       "\n",
       "    .dataframe tbody tr th {\n",
       "        vertical-align: top;\n",
       "    }\n",
       "\n",
       "    .dataframe thead th {\n",
       "        text-align: right;\n",
       "    }\n",
       "</style>\n",
       "<table border=\"1\" class=\"dataframe\">\n",
       "  <thead>\n",
       "    <tr style=\"text-align: right;\">\n",
       "      <th></th>\n",
       "      <th>id</th>\n",
       "      <th>n_clusters</th>\n",
       "      <th>partition</th>\n",
       "      <th>si_score</th>\n",
       "      <th>corr_method</th>\n",
       "      <th>clust_method</th>\n",
       "    </tr>\n",
       "  </thead>\n",
       "  <tbody>\n",
       "    <tr>\n",
       "      <th>124</th>\n",
       "      <td>SpectralClustering #24</td>\n",
       "      <td>200</td>\n",
       "      <td>[117, 51, 82, 73, 51, 128, 117, 82, 38, 16, 16...</td>\n",
       "      <td>-0.111704</td>\n",
       "      <td>spearman_abs</td>\n",
       "      <td>SpectralClustering</td>\n",
       "    </tr>\n",
       "    <tr>\n",
       "      <th>55</th>\n",
       "      <td>SpectralClustering #5</td>\n",
       "      <td>25</td>\n",
       "      <td>[22, 22, 18, 24, 22, 11, 20, 22, 21, 17, 8, 12...</td>\n",
       "      <td>0.042112</td>\n",
       "      <td>pearson_abs</td>\n",
       "      <td>SpectralClustering</td>\n",
       "    </tr>\n",
       "    <tr>\n",
       "      <th>105</th>\n",
       "      <td>SpectralClustering #5</td>\n",
       "      <td>25</td>\n",
       "      <td>[18, 18, 8, 15, 18, 15, 20, 17, 15, 20, 18, 20...</td>\n",
       "      <td>0.003711</td>\n",
       "      <td>spearman_abs</td>\n",
       "      <td>SpectralClustering</td>\n",
       "    </tr>\n",
       "    <tr>\n",
       "      <th>77</th>\n",
       "      <td>SpectralClustering #2</td>\n",
       "      <td>10</td>\n",
       "      <td>[5, 5, 8, 7, 5, 8, 5, 5, 0, 9, 8, 5, 5, 5, 5, ...</td>\n",
       "      <td>0.023363</td>\n",
       "      <td>pearson_full</td>\n",
       "      <td>SpectralClustering</td>\n",
       "    </tr>\n",
       "    <tr>\n",
       "      <th>99</th>\n",
       "      <td>SpectralClustering #24</td>\n",
       "      <td>200</td>\n",
       "      <td>[32, 139, 124, 72, 41, 97, 31, 151, 79, 178, 8...</td>\n",
       "      <td>0.033938</td>\n",
       "      <td>pearson_full</td>\n",
       "      <td>SpectralClustering</td>\n",
       "    </tr>\n",
       "  </tbody>\n",
       "</table>\n",
       "</div>"
      ],
      "text/plain": [
       "                         id  n_clusters  \\\n",
       "124  SpectralClustering #24         200   \n",
       "55    SpectralClustering #5          25   \n",
       "105   SpectralClustering #5          25   \n",
       "77    SpectralClustering #2          10   \n",
       "99   SpectralClustering #24         200   \n",
       "\n",
       "                                             partition  si_score  \\\n",
       "124  [117, 51, 82, 73, 51, 128, 117, 82, 38, 16, 16... -0.111704   \n",
       "55   [22, 22, 18, 24, 22, 11, 20, 22, 21, 17, 8, 12...  0.042112   \n",
       "105  [18, 18, 8, 15, 18, 15, 20, 17, 15, 20, 18, 20...  0.003711   \n",
       "77   [5, 5, 8, 7, 5, 8, 5, 5, 0, 9, 8, 5, 5, 5, 5, ...  0.023363   \n",
       "99   [32, 139, 124, 72, 41, 97, 31, 151, 79, 178, 8...  0.033938   \n",
       "\n",
       "      corr_method        clust_method  \n",
       "124  spearman_abs  SpectralClustering  \n",
       "55    pearson_abs  SpectralClustering  \n",
       "105  spearman_abs  SpectralClustering  \n",
       "77   pearson_full  SpectralClustering  \n",
       "99   pearson_full  SpectralClustering  "
      ]
     },
     "execution_count": 26,
     "metadata": {},
     "output_type": "execute_result"
    }
   ],
   "source": [
    "df.sample(n=5)"
   ]
  },
  {
   "cell_type": "markdown",
   "id": "cae1ec0b-98c2-44a9-906a-74d716dad777",
   "metadata": {
    "papermill": {
     "duration": 0.042663,
     "end_time": "2021-09-30T04:28:39.884457",
     "exception": false,
     "start_time": "2021-09-30T04:28:39.841794",
     "status": "completed"
    },
    "tags": []
   },
   "source": [
    "## Some stats"
   ]
  },
  {
   "cell_type": "code",
   "execution_count": 27,
   "id": "a972063c-92f6-4b90-a4eb-353959f0f4d3",
   "metadata": {
    "papermill": {
     "duration": 0.060702,
     "end_time": "2021-09-30T04:28:40.174195",
     "exception": false,
     "start_time": "2021-09-30T04:28:40.113493",
     "status": "completed"
    },
    "tags": []
   },
   "outputs": [
    {
     "data": {
      "text/plain": [
       "array([  2,   5,  10,  15,  20,  25,  30,  35,  40,  45,  50,  55,  60,\n",
       "        65,  70,  75,  80,  85,  90,  95, 100, 125, 150, 175, 200],\n",
       "      dtype=int32)"
      ]
     },
     "execution_count": 27,
     "metadata": {},
     "output_type": "execute_result"
    }
   ],
   "source": [
    "df[\"n_clusters\"].unique()"
   ]
  },
  {
   "cell_type": "code",
   "execution_count": 28,
   "id": "875a58e1-36d5-4176-a445-f9cbc2eb3771",
   "metadata": {
    "papermill": {
     "duration": 0.061782,
     "end_time": "2021-09-30T04:28:40.279474",
     "exception": false,
     "start_time": "2021-09-30T04:28:40.217692",
     "status": "completed"
    },
    "tags": []
   },
   "outputs": [],
   "source": [
    "# df[\"tissue\"].unique()"
   ]
  },
  {
   "cell_type": "code",
   "execution_count": 29,
   "id": "5bfeb305-7bed-45ff-9b9a-e50acb6cb628",
   "metadata": {
    "papermill": {
     "duration": 0.061902,
     "end_time": "2021-09-30T04:28:40.384871",
     "exception": false,
     "start_time": "2021-09-30T04:28:40.322969",
     "status": "completed"
    },
    "tags": []
   },
   "outputs": [],
   "source": [
    "# df[\"gene_sel_strategy\"].unique()"
   ]
  },
  {
   "cell_type": "code",
   "execution_count": 30,
   "id": "44e32dfa-c125-4f7b-adfc-ee72ee72b79d",
   "metadata": {
    "papermill": {
     "duration": 0.062556,
     "end_time": "2021-09-30T04:28:40.491752",
     "exception": false,
     "start_time": "2021-09-30T04:28:40.429196",
     "status": "completed"
    },
    "tags": []
   },
   "outputs": [
    {
     "data": {
      "text/plain": [
       "['clustermatch_k2', 'clustermatch_k2to5', 'pearson_abs', 'pearson_full', 'spearman_abs', 'spearman_full']\n",
       "Categories (6, object): ['clustermatch_k2', 'clustermatch_k2to5', 'pearson_abs', 'pearson_full', 'spearman_abs', 'spearman_full']"
      ]
     },
     "execution_count": 30,
     "metadata": {},
     "output_type": "execute_result"
    }
   ],
   "source": [
    "df[\"corr_method\"].unique()"
   ]
  },
  {
   "cell_type": "code",
   "execution_count": 31,
   "id": "a71d840c-b779-4aa6-9bef-89f72d0ccec9",
   "metadata": {
    "papermill": {
     "duration": 0.063449,
     "end_time": "2021-09-30T04:28:40.599566",
     "exception": false,
     "start_time": "2021-09-30T04:28:40.536117",
     "status": "completed"
    },
    "tags": []
   },
   "outputs": [
    {
     "data": {
      "text/plain": [
       "['SpectralClustering']\n",
       "Categories (1, object): ['SpectralClustering']"
      ]
     },
     "execution_count": 31,
     "metadata": {},
     "output_type": "execute_result"
    }
   ],
   "source": [
    "df[\"clust_method\"].unique()"
   ]
  },
  {
   "cell_type": "markdown",
   "id": "40b67978-8a8a-4d7a-bb2f-5956778a9fc5",
   "metadata": {
    "papermill": {
     "duration": 0.058041,
     "end_time": "2021-09-30T04:28:40.837521",
     "exception": false,
     "start_time": "2021-09-30T04:28:40.779480",
     "status": "completed"
    },
    "tags": []
   },
   "source": [
    "## Testing"
   ]
  },
  {
   "cell_type": "code",
   "execution_count": 32,
   "id": "14fc32be-f703-4db3-9396-ae85ef365eb7",
   "metadata": {
    "papermill": {
     "duration": 0.089893,
     "end_time": "2021-09-30T04:28:40.983928",
     "exception": false,
     "start_time": "2021-09-30T04:28:40.894035",
     "status": "completed"
    },
    "tags": []
   },
   "outputs": [],
   "source": [
    "assert not df.isna().any().any()"
   ]
  },
  {
   "cell_type": "markdown",
   "id": "a0a93db6-b4bc-4d9e-a241-bcc2842f2656",
   "metadata": {
    "papermill": {
     "duration": 0.044938,
     "end_time": "2021-09-30T04:28:41.228770",
     "exception": false,
     "start_time": "2021-09-30T04:28:41.183832",
     "status": "completed"
    },
    "tags": []
   },
   "source": [
    "# Save"
   ]
  },
  {
   "cell_type": "code",
   "execution_count": 33,
   "id": "83d6fae7-eea9-491c-995e-7b9d96b05c11",
   "metadata": {
    "papermill": {
     "duration": 0.538791,
     "end_time": "2021-09-30T04:28:41.812390",
     "exception": false,
     "start_time": "2021-09-30T04:28:41.273599",
     "status": "completed"
    },
    "tags": []
   },
   "outputs": [],
   "source": [
    "import rpy2.robjects as ro\n",
    "from rpy2.robjects import pandas2ri\n",
    "from rpy2.robjects.conversion import localconverter\n",
    "\n",
    "saveRDS = ro.r[\"saveRDS\"]\n",
    "readRDS = ro.r[\"readRDS\"]"
   ]
  },
  {
   "cell_type": "code",
   "execution_count": 34,
   "id": "39125ea1-5691-40c0-8c0e-ceee96112085",
   "metadata": {
    "papermill": {
     "duration": 0.050239,
     "end_time": "2021-09-30T04:28:41.910947",
     "exception": false,
     "start_time": "2021-09-30T04:28:41.860708",
     "status": "completed"
    },
    "tags": []
   },
   "outputs": [],
   "source": [
    "data = df"
   ]
  },
  {
   "cell_type": "markdown",
   "id": "bb392932-2012-444f-8f25-37905c44e7c3",
   "metadata": {
    "papermill": {
     "duration": 0.044965,
     "end_time": "2021-09-30T04:28:42.000699",
     "exception": false,
     "start_time": "2021-09-30T04:28:41.955734",
     "status": "completed"
    },
    "tags": []
   },
   "source": [
    "## Pickle"
   ]
  },
  {
   "cell_type": "code",
   "execution_count": 35,
   "id": "c9c1ef2b-858b-4dfe-8ee7-31b20be691a8",
   "metadata": {
    "papermill": {
     "duration": 0.051495,
     "end_time": "2021-09-30T04:28:42.097175",
     "exception": false,
     "start_time": "2021-09-30T04:28:42.045680",
     "status": "completed"
    },
    "tags": []
   },
   "outputs": [
    {
     "data": {
      "text/plain": [
       "PosixPath('/home/miltondp/projects/labs/greenelab/clustermatch_repos/clustermatch-gene-expr/base/results/recount2/clustering/recount_data_prep_PLIER-clustering.pkl')"
      ]
     },
     "metadata": {},
     "output_type": "display_data"
    }
   ],
   "source": [
    "display(OUTPUT_FILE)"
   ]
  },
  {
   "cell_type": "code",
   "execution_count": 36,
   "id": "bed62eb6-8023-46a5-a6b0-dd0329e2d51b",
   "metadata": {
    "papermill": {
     "duration": 0.168824,
     "end_time": "2021-09-30T04:28:42.311597",
     "exception": false,
     "start_time": "2021-09-30T04:28:42.142773",
     "status": "completed"
    },
    "tags": []
   },
   "outputs": [],
   "source": [
    "data.to_pickle(OUTPUT_FILE)"
   ]
  },
  {
   "cell_type": "markdown",
   "id": "83727a87-aebd-47a7-a477-74ad6185accc",
   "metadata": {
    "papermill": {
     "duration": 0.04534,
     "end_time": "2021-09-30T04:28:42.402867",
     "exception": false,
     "start_time": "2021-09-30T04:28:42.357527",
     "status": "completed"
    },
    "tags": []
   },
   "source": [
    "## RDS"
   ]
  },
  {
   "cell_type": "code",
   "execution_count": null,
   "id": "23cfacdb-e131-42b0-a37b-aec899913e32",
   "metadata": {
    "papermill": {
     "duration": 0.052484,
     "end_time": "2021-09-30T04:28:42.501443",
     "exception": false,
     "start_time": "2021-09-30T04:28:42.448959",
     "status": "completed"
    },
    "tags": []
   },
   "outputs": [],
   "source": [
    "# output_rds_file = OUTPUT_FILE.with_suffix(\".rds\")\n",
    "# display(output_rds_file)"
   ]
  },
  {
   "cell_type": "code",
   "execution_count": null,
   "id": "67e72cd4-cf60-420f-a011-0ec188abf178",
   "metadata": {
    "papermill": {
     "duration": 112.747684,
     "end_time": "2021-09-30T04:30:35.295722",
     "exception": false,
     "start_time": "2021-09-30T04:28:42.548038",
     "status": "completed"
    },
    "tags": []
   },
   "outputs": [],
   "source": [
    "# with localconverter(ro.default_converter + pandas2ri.converter):\n",
    "# #     data[\"partition\"] = data[\"partition\"].apply(lambda x: ro.IntVector(x.tolist()))\n",
    "#     data_r = ro.conversion.py2rpy(data)"
   ]
  },
  {
   "cell_type": "code",
   "execution_count": null,
   "id": "a6f614b7-d94b-4d91-8774-d60656d19cff",
   "metadata": {
    "papermill": {
     "duration": 0.060807,
     "end_time": "2021-09-30T04:30:35.410864",
     "exception": false,
     "start_time": "2021-09-30T04:30:35.350057",
     "status": "completed"
    },
    "tags": []
   },
   "outputs": [],
   "source": [
    "# data_r"
   ]
  },
  {
   "cell_type": "code",
   "execution_count": null,
   "id": "4fbabd33-fec9-46fd-a17f-a53c376078ff",
   "metadata": {
    "papermill": {
     "duration": 12.257437,
     "end_time": "2021-09-30T04:30:47.715018",
     "exception": false,
     "start_time": "2021-09-30T04:30:35.457581",
     "status": "completed"
    },
    "tags": []
   },
   "outputs": [],
   "source": [
    "# saveRDS(data_r, str(output_rds_file))"
   ]
  },
  {
   "cell_type": "code",
   "execution_count": null,
   "id": "520b5ed1-01b4-4434-aebc-5a6daa29a00e",
   "metadata": {
    "papermill": {
     "duration": 1.927011,
     "end_time": "2021-09-30T04:30:49.689003",
     "exception": false,
     "start_time": "2021-09-30T04:30:47.761992",
     "status": "completed"
    },
    "tags": []
   },
   "outputs": [],
   "source": [
    "# # testing\n",
    "# data_r = readRDS(str(output_rds_file))"
   ]
  },
  {
   "cell_type": "code",
   "execution_count": null,
   "id": "64645a31-f003-49f2-8ceb-a1b12c9945d5",
   "metadata": {
    "papermill": {
     "duration": 78.404764,
     "end_time": "2021-09-30T04:32:08.140268",
     "exception": false,
     "start_time": "2021-09-30T04:30:49.735504",
     "status": "completed"
    },
    "tags": []
   },
   "outputs": [],
   "source": [
    "# with localconverter(ro.default_converter + pandas2ri.converter):\n",
    "#     data_again = ro.conversion.rpy2py(data_r)\n",
    "\n",
    "#     # convert index to int, otherwise it's converted to string\n",
    "#     data_again.index = data_again.index.astype(int)"
   ]
  },
  {
   "cell_type": "code",
   "execution_count": null,
   "id": "a0c26630-f83e-4928-938a-1061fb39abab",
   "metadata": {
    "papermill": {
     "duration": 0.053482,
     "end_time": "2021-09-30T04:32:08.240908",
     "exception": false,
     "start_time": "2021-09-30T04:32:08.187426",
     "status": "completed"
    },
    "tags": []
   },
   "outputs": [],
   "source": [
    "# data_again.shape"
   ]
  },
  {
   "cell_type": "code",
   "execution_count": null,
   "id": "1640e806-1aa5-442f-beb2-b8d3c23ab084",
   "metadata": {
    "papermill": {
     "duration": 0.066801,
     "end_time": "2021-09-30T04:32:08.355520",
     "exception": false,
     "start_time": "2021-09-30T04:32:08.288719",
     "status": "completed"
    },
    "tags": []
   },
   "outputs": [],
   "source": [
    "# data_again.head()"
   ]
  },
  {
   "cell_type": "code",
   "execution_count": null,
   "id": "9e968267-09e7-449f-9d14-8203cd6c7bfc",
   "metadata": {
    "papermill": {
     "duration": 176.205636,
     "end_time": "2021-09-30T04:35:04.608955",
     "exception": false,
     "start_time": "2021-09-30T04:32:08.403319",
     "status": "completed"
    },
    "tags": []
   },
   "outputs": [],
   "source": [
    "# pd.testing.assert_frame_equal(\n",
    "#     data,\n",
    "#     data_again,\n",
    "#     check_names=False,  # do not check \"name\" attribute of index and column\n",
    "#     check_exact=True,  # since this is a binary format, it should match exactly\n",
    "# )"
   ]
  },
  {
   "cell_type": "markdown",
   "id": "ee5cd5ae-a935-46fb-bfc7-5d66ff274fe2",
   "metadata": {
    "papermill": {
     "duration": 0.047664,
     "end_time": "2021-09-30T04:35:04.705555",
     "exception": false,
     "start_time": "2021-09-30T04:35:04.657891",
     "status": "completed"
    },
    "tags": []
   },
   "source": [
    "## tsv.gz"
   ]
  },
  {
   "cell_type": "code",
   "execution_count": null,
   "id": "cea96351-64fe-4bbf-a575-5587a22b79ec",
   "metadata": {
    "papermill": {
     "duration": 0.054259,
     "end_time": "2021-09-30T04:35:04.807288",
     "exception": false,
     "start_time": "2021-09-30T04:35:04.753029",
     "status": "completed"
    },
    "tags": []
   },
   "outputs": [],
   "source": [
    "output_text_file = OUTPUT_FILE.with_suffix(\".tsv.gz\")\n",
    "display(output_text_file)"
   ]
  },
  {
   "cell_type": "code",
   "execution_count": null,
   "id": "d28d33c5-e456-45fb-b7a1-2e9147cce491",
   "metadata": {},
   "outputs": [],
   "source": [
    "data_text = data.copy()\n",
    "data_text[\"partition\"] = data_text[\"partition\"].apply(lambda x: repr(x.tolist()))"
   ]
  },
  {
   "cell_type": "code",
   "execution_count": null,
   "id": "09330074-7cea-42d4-bc13-6af3131da12e",
   "metadata": {
    "papermill": {
     "duration": 61.434122,
     "end_time": "2021-09-30T04:36:06.289423",
     "exception": false,
     "start_time": "2021-09-30T04:35:04.855301",
     "status": "completed"
    },
    "tags": []
   },
   "outputs": [],
   "source": [
    "data_text.to_csv(output_text_file, sep=\"\\t\", index=False, float_format=\"%.5e\")"
   ]
  },
  {
   "cell_type": "code",
   "execution_count": null,
   "id": "2f960ae8-d392-4768-9d2f-f7ed267ec60e",
   "metadata": {
    "papermill": {
     "duration": 8.152672,
     "end_time": "2021-09-30T04:36:14.491384",
     "exception": false,
     "start_time": "2021-09-30T04:36:06.338712",
     "status": "completed"
    },
    "tags": []
   },
   "outputs": [],
   "source": [
    "# testing\n",
    "data_again = pd.read_csv(output_text_file, sep=\"\\t\")  # , index_col=0)\n",
    "data_again[\"partition\"] = data_again[\"partition\"].apply(\n",
    "    lambda x: np.array(eval(x), dtype=\"int32\")\n",
    ")"
   ]
  },
  {
   "cell_type": "code",
   "execution_count": null,
   "id": "04b581d2-6fc6-42b1-8f62-c166cb70986c",
   "metadata": {
    "papermill": {
     "duration": 0.055715,
     "end_time": "2021-09-30T04:36:14.596947",
     "exception": false,
     "start_time": "2021-09-30T04:36:14.541232",
     "status": "completed"
    },
    "tags": []
   },
   "outputs": [],
   "source": [
    "data_again.shape"
   ]
  },
  {
   "cell_type": "code",
   "execution_count": null,
   "id": "7dc97eb0-dac3-4a23-aaa0-fc2e351dcd15",
   "metadata": {
    "papermill": {
     "duration": 0.066627,
     "end_time": "2021-09-30T04:36:14.712735",
     "exception": false,
     "start_time": "2021-09-30T04:36:14.646108",
     "status": "completed"
    },
    "tags": []
   },
   "outputs": [],
   "source": [
    "data_again.head()"
   ]
  },
  {
   "cell_type": "code",
   "execution_count": null,
   "id": "8e85fff8-dde9-439d-808c-c053374c2785",
   "metadata": {
    "papermill": {
     "duration": 300.089682,
     "end_time": "2021-09-30T04:41:14.851541",
     "exception": false,
     "start_time": "2021-09-30T04:36:14.761859",
     "status": "completed"
    },
    "tags": []
   },
   "outputs": [],
   "source": [
    "pd.testing.assert_frame_equal(\n",
    "    data,\n",
    "    data_again,\n",
    "    check_names=False,  # do not check \"name\" attribute of index and column\n",
    "    check_dtype=False,  # do not check dtypes: do not distinguish between int64 and int32, for instance\n",
    "    check_categorical=False,\n",
    "    check_exact=False,\n",
    "    rtol=1e-5,\n",
    "    atol=5e-5,\n",
    ")"
   ]
  },
  {
   "cell_type": "code",
   "execution_count": null,
   "id": "72a954fe-b9c9-4f68-bca3-7a58e558cc3b",
   "metadata": {
    "papermill": {
     "duration": 0.049435,
     "end_time": "2021-09-30T04:41:14.950989",
     "exception": false,
     "start_time": "2021-09-30T04:41:14.901554",
     "status": "completed"
    },
    "tags": []
   },
   "outputs": [],
   "source": []
  }
 ],
 "metadata": {
  "jupytext": {
   "cell_metadata_filter": "all,-execution,-papermill,-trusted",
   "text_representation": {
    "extension": ".py",
    "format_name": "percent",
    "format_version": "1.3",
    "jupytext_version": "1.11.5"
   }
  },
  "kernelspec": {
   "display_name": "Python 3 (ipykernel)",
   "language": "python",
   "name": "python3"
  },
  "language_info": {
   "codemirror_mode": {
    "name": "ipython",
    "version": 3
   },
   "file_extension": ".py",
   "mimetype": "text/x-python",
   "name": "python",
   "nbconvert_exporter": "python",
   "pygments_lexer": "ipython3",
   "version": "3.9.7"
  },
  "papermill": {
   "default_parameters": {},
   "duration": 773.694602,
   "end_time": "2021-09-30T04:41:16.712071",
   "environment_variables": {},
   "exception": null,
   "input_path": "nbs/20_gene_set_enrichment/05_gtex_v8/90-combine_results.ipynb",
   "output_path": "nbs/20_gene_set_enrichment/05_gtex_v8/90-combine_results.run.ipynb",
   "parameters": {},
   "start_time": "2021-09-30T04:28:23.017469",
   "version": "2.3.3"
  },
  "toc-autonumbering": true
 },
 "nbformat": 4,
 "nbformat_minor": 5
}
