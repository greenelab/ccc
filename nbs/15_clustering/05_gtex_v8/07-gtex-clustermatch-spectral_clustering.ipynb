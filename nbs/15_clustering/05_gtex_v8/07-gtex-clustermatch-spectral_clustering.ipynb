{
 "cells": [
  {
   "cell_type": "markdown",
   "id": "powerful-collectible",
   "metadata": {
    "papermill": {
     "duration": 0.020496,
     "end_time": "2021-02-25T03:35:19.568003",
     "exception": false,
     "start_time": "2021-02-25T03:35:19.547507",
     "status": "completed"
    },
    "tags": []
   },
   "source": [
    "# Description"
   ]
  },
  {
   "cell_type": "markdown",
   "id": "63ec33c2-5902-483a-856f-3832122b2c08",
   "metadata": {
    "papermill": {
     "duration": 0.020496,
     "end_time": "2021-02-25T03:35:19.568003",
     "exception": false,
     "start_time": "2021-02-25T03:35:19.547507",
     "status": "completed"
    },
    "tags": []
   },
   "source": [
    "TODO"
   ]
  },
  {
   "cell_type": "markdown",
   "id": "metropolitan-affair",
   "metadata": {
    "papermill": {
     "duration": 0.016268,
     "end_time": "2021-02-25T03:35:19.632953",
     "exception": false,
     "start_time": "2021-02-25T03:35:19.616685",
     "status": "completed"
    },
    "tags": []
   },
   "source": [
    "# Environment variables"
   ]
  },
  {
   "cell_type": "code",
   "execution_count": 1,
   "id": "russian-projection",
   "metadata": {
    "papermill": {
     "duration": 0.029511,
     "end_time": "2021-02-25T03:35:19.678913",
     "exception": false,
     "start_time": "2021-02-25T03:35:19.649402",
     "status": "completed"
    },
    "tags": []
   },
   "outputs": [],
   "source": [
    "# %load_ext autoreload\n",
    "# %autoreload 2"
   ]
  },
  {
   "cell_type": "code",
   "execution_count": 2,
   "id": "breeding-brake",
   "metadata": {
    "papermill": {
     "duration": 0.024717,
     "end_time": "2021-02-25T03:35:19.721296",
     "exception": false,
     "start_time": "2021-02-25T03:35:19.696579",
     "status": "completed"
    },
    "tags": []
   },
   "outputs": [],
   "source": [
    "from IPython.display import display\n",
    "\n",
    "N_JOBS = 2"
   ]
  },
  {
   "cell_type": "code",
   "execution_count": 3,
   "id": "random-dispute",
   "metadata": {
    "papermill": {
     "duration": 0.026877,
     "end_time": "2021-02-25T03:35:19.765277",
     "exception": false,
     "start_time": "2021-02-25T03:35:19.738400",
     "status": "completed"
    },
    "tags": []
   },
   "outputs": [
    {
     "name": "stdout",
     "output_type": "stream",
     "text": [
      "env: MKL_NUM_THREADS=2\n",
      "env: OPEN_BLAS_NUM_THREADS=2\n",
      "env: NUMEXPR_NUM_THREADS=2\n",
      "env: OMP_NUM_THREADS=2\n"
     ]
    }
   ],
   "source": [
    "%env MKL_NUM_THREADS=$N_JOBS\n",
    "%env OPEN_BLAS_NUM_THREADS=$N_JOBS\n",
    "%env NUMEXPR_NUM_THREADS=$N_JOBS\n",
    "%env OMP_NUM_THREADS=$N_JOBS"
   ]
  },
  {
   "cell_type": "markdown",
   "id": "orange-traveler",
   "metadata": {
    "papermill": {
     "duration": 0.017372,
     "end_time": "2021-02-25T03:35:19.800478",
     "exception": false,
     "start_time": "2021-02-25T03:35:19.783106",
     "status": "completed"
    },
    "tags": []
   },
   "source": [
    "# Modules loading"
   ]
  },
  {
   "cell_type": "code",
   "execution_count": 31,
   "id": "bottom-marathon",
   "metadata": {
    "papermill": {
     "duration": 0.527093,
     "end_time": "2021-02-25T03:35:20.344210",
     "exception": false,
     "start_time": "2021-02-25T03:35:19.817117",
     "status": "completed"
    },
    "tags": []
   },
   "outputs": [],
   "source": [
    "from pathlib import Path\n",
    "import warnings\n",
    "\n",
    "import numpy as np\n",
    "import pandas as pd\n",
    "from sklearn.cluster import SpectralClustering\n",
    "from tqdm import tqdm\n",
    "# import matplotlib.pyplot as plt\n",
    "# import seaborn as sns\n",
    "\n",
    "from clustermatch import conf\n",
    "from clustermatch.utils import simplify_string"
   ]
  },
  {
   "cell_type": "markdown",
   "id": "gross-latin",
   "metadata": {
    "papermill": {
     "duration": 0.017557,
     "end_time": "2021-02-25T03:35:20.381063",
     "exception": false,
     "start_time": "2021-02-25T03:35:20.363506",
     "status": "completed"
    },
    "tags": []
   },
   "source": [
    "# Settings"
   ]
  },
  {
   "cell_type": "code",
   "execution_count": 5,
   "id": "educated-explorer",
   "metadata": {
    "papermill": {
     "duration": 0.028661,
     "end_time": "2021-02-25T03:35:20.472773",
     "exception": false,
     "start_time": "2021-02-25T03:35:20.444112",
     "status": "completed"
    },
    "tags": []
   },
   "outputs": [],
   "source": [
    "CORRELATION_METHOD_NAME = \"clustermatch\""
   ]
  },
  {
   "cell_type": "code",
   "execution_count": 6,
   "id": "037a1a43-9799-4ce3-bc7b-97ba26862b04",
   "metadata": {
    "papermill": {
     "duration": 0.028661,
     "end_time": "2021-02-25T03:35:20.472773",
     "exception": false,
     "start_time": "2021-02-25T03:35:20.444112",
     "status": "completed"
    },
    "tags": []
   },
   "outputs": [],
   "source": [
    "GENE_SELECTION_STRATEGY = \"var_pc_log2\""
   ]
  },
  {
   "cell_type": "code",
   "execution_count": 7,
   "id": "cc2f8d8c-f6f0-40b4-996d-5bc9c44d4cec",
   "metadata": {},
   "outputs": [],
   "source": [
    "# Tissues with largest sample size from GTEx (see nbs/05_preprocessing/00-gtex_v8-split_by_tissue.ipynb)\n",
    "TISSUES = [\n",
    "    \"Muscle - Skeletal\",\n",
    "    \"Whole Blood\",\n",
    "    \"Skin - Sun Exposed (Lower leg)\",\n",
    "    \"Adipose - Subcutaneous\",\n",
    "    \"Artery - Tibial\",\n",
    "]"
   ]
  },
  {
   "cell_type": "code",
   "execution_count": 8,
   "id": "1d6bb0cf-7343-4a0b-b4d4-7727ddb60a70",
   "metadata": {},
   "outputs": [],
   "source": [
    "K_RANGE = [2] + np.arange(5, 100 + 1, 5).tolist() + [125, 150, 175, 200]"
   ]
  },
  {
   "cell_type": "code",
   "execution_count": 9,
   "id": "a50835e8-615e-4f86-bc4f-7a2496cc6376",
   "metadata": {},
   "outputs": [],
   "source": [
    "N_INIT = 50"
   ]
  },
  {
   "cell_type": "code",
   "execution_count": 10,
   "id": "882e0c67-3116-4e7d-ad85-da6cf455687d",
   "metadata": {
    "papermill": {
     "duration": 0.028405,
     "end_time": "2021-02-25T03:35:20.426767",
     "exception": false,
     "start_time": "2021-02-25T03:35:20.398362",
     "status": "completed"
    },
    "tags": []
   },
   "outputs": [],
   "source": [
    "INITIAL_RANDOM_STATE = 12345"
   ]
  },
  {
   "cell_type": "code",
   "execution_count": 36,
   "id": "ef100b09-cedf-4a86-94b5-dd0ab6270d50",
   "metadata": {},
   "outputs": [],
   "source": [
    "def process_similarity_matrix(similarity_matrix):\n",
    "    # for clustermatch, negative values are meaningless, so we replace them by zero\n",
    "    similarity_matrix[similarity_matrix < 0.0] = 0.0\n",
    "    return similarity_matrix"
   ]
  },
  {
   "cell_type": "code",
   "execution_count": 12,
   "id": "10fe7b64-13e7-465d-b886-31b64f2e2632",
   "metadata": {},
   "outputs": [],
   "source": [
    "def get_distance_matrix(similarity_matrix):\n",
    "    \"\"\"\n",
    "    Converts the processed similarity matrix into a distance matrix.\n",
    "    \"\"\"\n",
    "    return 1.0 - similarity_matrix"
   ]
  },
  {
   "cell_type": "markdown",
   "id": "97409c51-e9ad-41cc-8429-6dc45e559767",
   "metadata": {},
   "source": [
    "# Paths"
   ]
  },
  {
   "cell_type": "code",
   "execution_count": 13,
   "id": "26fe24ad-243e-400d-ba8b-a21a42643ae5",
   "metadata": {},
   "outputs": [
    {
     "data": {
      "text/plain": [
       "PosixPath('/home/miltondp/projects/labs/greenelab/clustermatch_repos/clustermatch-gene-expr/base/results/gtex_v8/similarity_matrices')"
      ]
     },
     "metadata": {},
     "output_type": "display_data"
    }
   ],
   "source": [
    "INPUT_DIR = conf.GTEX[\"SIMILARITY_MATRICES_DIR\"]\n",
    "display(INPUT_DIR)\n",
    "assert INPUT_DIR.exists()"
   ]
  },
  {
   "cell_type": "code",
   "execution_count": 14,
   "id": "01fd54ef-b8a1-4353-a018-02a304f0df39",
   "metadata": {},
   "outputs": [
    {
     "data": {
      "text/plain": [
       "PosixPath('/home/miltondp/projects/labs/greenelab/clustermatch_repos/clustermatch-gene-expr/base/results/gtex_v8/similarity_matrices')"
      ]
     },
     "metadata": {},
     "output_type": "display_data"
    }
   ],
   "source": [
    "OUTPUT_DIR = conf.GTEX[\"CLUSTERING_DIR\"]\n",
    "OUTPUT_DIR.mkdir(parents=True, exist_ok=True)\n",
    "display(INPUT_DIR)"
   ]
  },
  {
   "cell_type": "markdown",
   "id": "26e7fd8f-620b-45a2-b200-40a07257a58a",
   "metadata": {},
   "source": [
    "# Setup clustering options"
   ]
  },
  {
   "cell_type": "code",
   "execution_count": 15,
   "id": "powered-inspiration",
   "metadata": {
    "papermill": {
     "duration": 0.031702,
     "end_time": "2021-02-25T03:35:20.521897",
     "exception": false,
     "start_time": "2021-02-25T03:35:20.490195",
     "status": "completed"
    },
    "tags": []
   },
   "outputs": [
    {
     "data": {
      "text/plain": [
       "{'K_RANGE': [2,\n",
       "  5,\n",
       "  10,\n",
       "  15,\n",
       "  20,\n",
       "  25,\n",
       "  30,\n",
       "  35,\n",
       "  40,\n",
       "  45,\n",
       "  50,\n",
       "  55,\n",
       "  60,\n",
       "  65,\n",
       "  70,\n",
       "  75,\n",
       "  80,\n",
       "  85,\n",
       "  90,\n",
       "  95,\n",
       "  100,\n",
       "  125,\n",
       "  150,\n",
       "  175,\n",
       "  200],\n",
       " 'KMEANS_N_INIT': 50}"
      ]
     },
     "metadata": {},
     "output_type": "display_data"
    }
   ],
   "source": [
    "CLUSTERING_OPTIONS = {}\n",
    "\n",
    "CLUSTERING_OPTIONS[\"K_RANGE\"] = K_RANGE\n",
    "CLUSTERING_OPTIONS[\"KMEANS_N_INIT\"] = N_INIT\n",
    "\n",
    "display(CLUSTERING_OPTIONS)"
   ]
  },
  {
   "cell_type": "markdown",
   "id": "eastern-infrared",
   "metadata": {
    "papermill": {
     "duration": 0.017711,
     "end_time": "2021-02-25T03:35:20.605247",
     "exception": false,
     "start_time": "2021-02-25T03:35:20.587536",
     "status": "completed"
    },
    "tags": []
   },
   "source": [
    "# Get data files"
   ]
  },
  {
   "cell_type": "code",
   "execution_count": 16,
   "id": "88751119-4575-439c-97b5-e902fcbe6be2",
   "metadata": {},
   "outputs": [
    {
     "data": {
      "text/plain": [
       "['muscle_skeletal',\n",
       " 'whole_blood',\n",
       " 'skin_sun_exposed_lower_leg',\n",
       " 'adipose_subcutaneous',\n",
       " 'artery_tibial']"
      ]
     },
     "metadata": {},
     "output_type": "display_data"
    }
   ],
   "source": [
    "tissue_names = [simplify_string(t.lower()) for t in TISSUES]\n",
    "display(tissue_names)"
   ]
  },
  {
   "cell_type": "code",
   "execution_count": 17,
   "id": "2331c50d-9d37-4335-9e15-c1f49fae4463",
   "metadata": {
    "papermill": {
     "duration": 0.020006,
     "end_time": "2021-09-01T16:47:38.843018",
     "exception": false,
     "start_time": "2021-09-01T16:47:38.823012",
     "status": "completed"
    },
    "tags": []
   },
   "outputs": [
    {
     "data": {
      "text/plain": [
       "1"
      ]
     },
     "metadata": {},
     "output_type": "display_data"
    },
    {
     "data": {
      "text/plain": [
       "[PosixPath('/home/miltondp/projects/labs/greenelab/clustermatch_repos/clustermatch-gene-expr/base/results/gtex_v8/similarity_matrices/gtex_v8_data_muscle_skeletal-var_pc_log2-clustermatch.pkl')]"
      ]
     },
     "metadata": {},
     "output_type": "display_data"
    },
    {
     "ename": "AssertionError",
     "evalue": "5",
     "output_type": "error",
     "traceback": [
      "\u001b[0;31m---------------------------------------------------------------------------\u001b[0m",
      "\u001b[0;31mAssertionError\u001b[0m                            Traceback (most recent call last)",
      "\u001b[0;32m/tmp/ipykernel_83044/233306318.py\u001b[0m in \u001b[0;36m<module>\u001b[0;34m\u001b[0m\n\u001b[1;32m      6\u001b[0m \u001b[0mdisplay\u001b[0m\u001b[0;34m(\u001b[0m\u001b[0minput_files\u001b[0m\u001b[0;34m)\u001b[0m\u001b[0;34m\u001b[0m\u001b[0;34m\u001b[0m\u001b[0m\n\u001b[1;32m      7\u001b[0m \u001b[0;34m\u001b[0m\u001b[0m\n\u001b[0;32m----> 8\u001b[0;31m \u001b[0;32massert\u001b[0m \u001b[0mlen\u001b[0m\u001b[0;34m(\u001b[0m\u001b[0minput_files\u001b[0m\u001b[0;34m)\u001b[0m \u001b[0;34m==\u001b[0m \u001b[0mlen\u001b[0m\u001b[0;34m(\u001b[0m\u001b[0mTISSUES\u001b[0m\u001b[0;34m)\u001b[0m\u001b[0;34m,\u001b[0m \u001b[0mlen\u001b[0m\u001b[0;34m(\u001b[0m\u001b[0mTISSUES\u001b[0m\u001b[0;34m)\u001b[0m\u001b[0;34m\u001b[0m\u001b[0;34m\u001b[0m\u001b[0m\n\u001b[0m\u001b[1;32m      9\u001b[0m \u001b[0mdisplay\u001b[0m\u001b[0;34m(\u001b[0m\u001b[0minput_files\u001b[0m\u001b[0;34m[\u001b[0m\u001b[0;34m:\u001b[0m\u001b[0;36m5\u001b[0m\u001b[0;34m]\u001b[0m\u001b[0;34m)\u001b[0m\u001b[0;34m\u001b[0m\u001b[0;34m\u001b[0m\u001b[0m\n",
      "\u001b[0;31mAssertionError\u001b[0m: 5"
     ]
    }
   ],
   "source": [
    "input_files = sorted(list(INPUT_DIR.glob(f\"*-{GENE_SELECTION_STRATEGY}-{CORRELATION_METHOD_NAME}.pkl\")))\n",
    "input_files = [\n",
    "    f for f in input_files if any(f\"gtex_v8_data_{tn}-\" in f.name for tn in tissue_names)\n",
    "]\n",
    "display(len(input_files))\n",
    "display(input_files)\n",
    "\n",
    "assert len(input_files) == len(TISSUES), len(TISSUES)\n",
    "display(input_files[:5])"
   ]
  },
  {
   "cell_type": "markdown",
   "id": "e4521aac-2985-4ff4-ab32-4a0f15070934",
   "metadata": {},
   "source": [
    "## Show the content of one similarity matrix"
   ]
  },
  {
   "cell_type": "code",
   "execution_count": 18,
   "id": "going-swimming",
   "metadata": {
    "papermill": {
     "duration": 0.218784,
     "end_time": "2021-02-25T03:35:20.891294",
     "exception": false,
     "start_time": "2021-02-25T03:35:20.672510",
     "status": "completed"
    },
    "tags": []
   },
   "outputs": [],
   "source": [
    "sim_matrix = pd.read_pickle(input_files[0])"
   ]
  },
  {
   "cell_type": "code",
   "execution_count": 19,
   "id": "looking-whale",
   "metadata": {
    "papermill": {
     "duration": 0.030788,
     "end_time": "2021-02-25T03:35:20.941916",
     "exception": false,
     "start_time": "2021-02-25T03:35:20.911128",
     "status": "completed"
    },
    "tags": []
   },
   "outputs": [
    {
     "data": {
      "text/plain": [
       "(5000, 5000)"
      ]
     },
     "execution_count": 19,
     "metadata": {},
     "output_type": "execute_result"
    }
   ],
   "source": [
    "sim_matrix.shape"
   ]
  },
  {
   "cell_type": "code",
   "execution_count": 20,
   "id": "tested-cable",
   "metadata": {
    "papermill": {
     "duration": 0.080745,
     "end_time": "2021-02-25T03:35:21.041720",
     "exception": false,
     "start_time": "2021-02-25T03:35:20.960975",
     "status": "completed"
    },
    "tags": []
   },
   "outputs": [
    {
     "data": {
      "text/html": [
       "<div>\n",
       "<style scoped>\n",
       "    .dataframe tbody tr th:only-of-type {\n",
       "        vertical-align: middle;\n",
       "    }\n",
       "\n",
       "    .dataframe tbody tr th {\n",
       "        vertical-align: top;\n",
       "    }\n",
       "\n",
       "    .dataframe thead th {\n",
       "        text-align: right;\n",
       "    }\n",
       "</style>\n",
       "<table border=\"1\" class=\"dataframe\">\n",
       "  <thead>\n",
       "    <tr style=\"text-align: right;\">\n",
       "      <th>gene_ens_id</th>\n",
       "      <th>ENSG00000129824.15</th>\n",
       "      <th>ENSG00000173432.10</th>\n",
       "      <th>ENSG00000134184.12</th>\n",
       "      <th>ENSG00000124107.5</th>\n",
       "      <th>ENSG00000248746.5</th>\n",
       "      <th>ENSG00000160808.9</th>\n",
       "      <th>ENSG00000224114.1</th>\n",
       "      <th>ENSG00000149968.11</th>\n",
       "      <th>ENSG00000134339.8</th>\n",
       "      <th>ENSG00000225972.1</th>\n",
       "      <th>...</th>\n",
       "      <th>ENSG00000176853.15</th>\n",
       "      <th>ENSG00000229108.1</th>\n",
       "      <th>ENSG00000107816.17</th>\n",
       "      <th>ENSG00000203896.9</th>\n",
       "      <th>ENSG00000103047.7</th>\n",
       "      <th>ENSG00000164309.14</th>\n",
       "      <th>ENSG00000122783.16</th>\n",
       "      <th>ENSG00000108622.10</th>\n",
       "      <th>ENSG00000275155.1</th>\n",
       "      <th>ENSG00000176155.18</th>\n",
       "    </tr>\n",
       "    <tr>\n",
       "      <th>gene_ens_id</th>\n",
       "      <th></th>\n",
       "      <th></th>\n",
       "      <th></th>\n",
       "      <th></th>\n",
       "      <th></th>\n",
       "      <th></th>\n",
       "      <th></th>\n",
       "      <th></th>\n",
       "      <th></th>\n",
       "      <th></th>\n",
       "      <th></th>\n",
       "      <th></th>\n",
       "      <th></th>\n",
       "      <th></th>\n",
       "      <th></th>\n",
       "      <th></th>\n",
       "      <th></th>\n",
       "      <th></th>\n",
       "      <th></th>\n",
       "      <th></th>\n",
       "      <th></th>\n",
       "    </tr>\n",
       "  </thead>\n",
       "  <tbody>\n",
       "    <tr>\n",
       "      <th>ENSG00000129824.15</th>\n",
       "      <td>1.000000</td>\n",
       "      <td>0.077671</td>\n",
       "      <td>0.007732</td>\n",
       "      <td>0.047127</td>\n",
       "      <td>0.024821</td>\n",
       "      <td>0.057628</td>\n",
       "      <td>0.020145</td>\n",
       "      <td>0.039757</td>\n",
       "      <td>0.065109</td>\n",
       "      <td>0.011351</td>\n",
       "      <td>...</td>\n",
       "      <td>0.064277</td>\n",
       "      <td>0.011286</td>\n",
       "      <td>0.063137</td>\n",
       "      <td>0.070143</td>\n",
       "      <td>0.034394</td>\n",
       "      <td>0.012673</td>\n",
       "      <td>0.037288</td>\n",
       "      <td>0.063345</td>\n",
       "      <td>0.016883</td>\n",
       "      <td>0.083314</td>\n",
       "    </tr>\n",
       "    <tr>\n",
       "      <th>ENSG00000173432.10</th>\n",
       "      <td>0.077671</td>\n",
       "      <td>1.000000</td>\n",
       "      <td>0.006585</td>\n",
       "      <td>0.152826</td>\n",
       "      <td>0.014058</td>\n",
       "      <td>0.150876</td>\n",
       "      <td>0.011295</td>\n",
       "      <td>0.052657</td>\n",
       "      <td>0.740176</td>\n",
       "      <td>0.009023</td>\n",
       "      <td>...</td>\n",
       "      <td>0.112789</td>\n",
       "      <td>0.008191</td>\n",
       "      <td>0.068112</td>\n",
       "      <td>0.078765</td>\n",
       "      <td>0.076070</td>\n",
       "      <td>0.010097</td>\n",
       "      <td>0.096578</td>\n",
       "      <td>0.034157</td>\n",
       "      <td>0.013767</td>\n",
       "      <td>0.212478</td>\n",
       "    </tr>\n",
       "    <tr>\n",
       "      <th>ENSG00000134184.12</th>\n",
       "      <td>0.007732</td>\n",
       "      <td>0.006585</td>\n",
       "      <td>1.000000</td>\n",
       "      <td>0.008955</td>\n",
       "      <td>0.002264</td>\n",
       "      <td>0.004715</td>\n",
       "      <td>0.003211</td>\n",
       "      <td>0.008110</td>\n",
       "      <td>0.008220</td>\n",
       "      <td>0.004516</td>\n",
       "      <td>...</td>\n",
       "      <td>0.004827</td>\n",
       "      <td>0.008630</td>\n",
       "      <td>0.016618</td>\n",
       "      <td>0.005108</td>\n",
       "      <td>0.008761</td>\n",
       "      <td>0.005632</td>\n",
       "      <td>0.006766</td>\n",
       "      <td>0.008962</td>\n",
       "      <td>0.011051</td>\n",
       "      <td>0.008469</td>\n",
       "    </tr>\n",
       "    <tr>\n",
       "      <th>ENSG00000124107.5</th>\n",
       "      <td>0.047127</td>\n",
       "      <td>0.152826</td>\n",
       "      <td>0.008955</td>\n",
       "      <td>1.000000</td>\n",
       "      <td>0.098144</td>\n",
       "      <td>0.300738</td>\n",
       "      <td>0.012364</td>\n",
       "      <td>0.113659</td>\n",
       "      <td>0.126653</td>\n",
       "      <td>0.007110</td>\n",
       "      <td>...</td>\n",
       "      <td>0.099721</td>\n",
       "      <td>0.027318</td>\n",
       "      <td>0.026732</td>\n",
       "      <td>0.065606</td>\n",
       "      <td>0.255969</td>\n",
       "      <td>0.044182</td>\n",
       "      <td>0.194441</td>\n",
       "      <td>0.007456</td>\n",
       "      <td>0.004392</td>\n",
       "      <td>0.181435</td>\n",
       "    </tr>\n",
       "    <tr>\n",
       "      <th>ENSG00000248746.5</th>\n",
       "      <td>0.024821</td>\n",
       "      <td>0.014058</td>\n",
       "      <td>0.002264</td>\n",
       "      <td>0.098144</td>\n",
       "      <td>1.000000</td>\n",
       "      <td>0.075970</td>\n",
       "      <td>0.005325</td>\n",
       "      <td>0.024211</td>\n",
       "      <td>0.012790</td>\n",
       "      <td>0.006844</td>\n",
       "      <td>...</td>\n",
       "      <td>0.024099</td>\n",
       "      <td>0.001094</td>\n",
       "      <td>0.007958</td>\n",
       "      <td>0.014175</td>\n",
       "      <td>0.041099</td>\n",
       "      <td>0.012013</td>\n",
       "      <td>0.021514</td>\n",
       "      <td>0.007689</td>\n",
       "      <td>0.004239</td>\n",
       "      <td>0.032633</td>\n",
       "    </tr>\n",
       "  </tbody>\n",
       "</table>\n",
       "<p>5 rows × 5000 columns</p>\n",
       "</div>"
      ],
      "text/plain": [
       "gene_ens_id         ENSG00000129824.15  ENSG00000173432.10  \\\n",
       "gene_ens_id                                                  \n",
       "ENSG00000129824.15            1.000000            0.077671   \n",
       "ENSG00000173432.10            0.077671            1.000000   \n",
       "ENSG00000134184.12            0.007732            0.006585   \n",
       "ENSG00000124107.5             0.047127            0.152826   \n",
       "ENSG00000248746.5             0.024821            0.014058   \n",
       "\n",
       "gene_ens_id         ENSG00000134184.12  ENSG00000124107.5  ENSG00000248746.5  \\\n",
       "gene_ens_id                                                                    \n",
       "ENSG00000129824.15            0.007732           0.047127           0.024821   \n",
       "ENSG00000173432.10            0.006585           0.152826           0.014058   \n",
       "ENSG00000134184.12            1.000000           0.008955           0.002264   \n",
       "ENSG00000124107.5             0.008955           1.000000           0.098144   \n",
       "ENSG00000248746.5             0.002264           0.098144           1.000000   \n",
       "\n",
       "gene_ens_id         ENSG00000160808.9  ENSG00000224114.1  ENSG00000149968.11  \\\n",
       "gene_ens_id                                                                    \n",
       "ENSG00000129824.15           0.057628           0.020145            0.039757   \n",
       "ENSG00000173432.10           0.150876           0.011295            0.052657   \n",
       "ENSG00000134184.12           0.004715           0.003211            0.008110   \n",
       "ENSG00000124107.5            0.300738           0.012364            0.113659   \n",
       "ENSG00000248746.5            0.075970           0.005325            0.024211   \n",
       "\n",
       "gene_ens_id         ENSG00000134339.8  ENSG00000225972.1  ...  \\\n",
       "gene_ens_id                                               ...   \n",
       "ENSG00000129824.15           0.065109           0.011351  ...   \n",
       "ENSG00000173432.10           0.740176           0.009023  ...   \n",
       "ENSG00000134184.12           0.008220           0.004516  ...   \n",
       "ENSG00000124107.5            0.126653           0.007110  ...   \n",
       "ENSG00000248746.5            0.012790           0.006844  ...   \n",
       "\n",
       "gene_ens_id         ENSG00000176853.15  ENSG00000229108.1  ENSG00000107816.17  \\\n",
       "gene_ens_id                                                                     \n",
       "ENSG00000129824.15            0.064277           0.011286            0.063137   \n",
       "ENSG00000173432.10            0.112789           0.008191            0.068112   \n",
       "ENSG00000134184.12            0.004827           0.008630            0.016618   \n",
       "ENSG00000124107.5             0.099721           0.027318            0.026732   \n",
       "ENSG00000248746.5             0.024099           0.001094            0.007958   \n",
       "\n",
       "gene_ens_id         ENSG00000203896.9  ENSG00000103047.7  ENSG00000164309.14  \\\n",
       "gene_ens_id                                                                    \n",
       "ENSG00000129824.15           0.070143           0.034394            0.012673   \n",
       "ENSG00000173432.10           0.078765           0.076070            0.010097   \n",
       "ENSG00000134184.12           0.005108           0.008761            0.005632   \n",
       "ENSG00000124107.5            0.065606           0.255969            0.044182   \n",
       "ENSG00000248746.5            0.014175           0.041099            0.012013   \n",
       "\n",
       "gene_ens_id         ENSG00000122783.16  ENSG00000108622.10  ENSG00000275155.1  \\\n",
       "gene_ens_id                                                                     \n",
       "ENSG00000129824.15            0.037288            0.063345           0.016883   \n",
       "ENSG00000173432.10            0.096578            0.034157           0.013767   \n",
       "ENSG00000134184.12            0.006766            0.008962           0.011051   \n",
       "ENSG00000124107.5             0.194441            0.007456           0.004392   \n",
       "ENSG00000248746.5             0.021514            0.007689           0.004239   \n",
       "\n",
       "gene_ens_id         ENSG00000176155.18  \n",
       "gene_ens_id                             \n",
       "ENSG00000129824.15            0.083314  \n",
       "ENSG00000173432.10            0.212478  \n",
       "ENSG00000134184.12            0.008469  \n",
       "ENSG00000124107.5             0.181435  \n",
       "ENSG00000248746.5             0.032633  \n",
       "\n",
       "[5 rows x 5000 columns]"
      ]
     },
     "execution_count": 20,
     "metadata": {},
     "output_type": "execute_result"
    }
   ],
   "source": [
    "sim_matrix.head()"
   ]
  },
  {
   "cell_type": "markdown",
   "id": "aerial-venue",
   "metadata": {
    "papermill": {
     "duration": 0.018368,
     "end_time": "2021-02-25T03:35:21.208866",
     "exception": false,
     "start_time": "2021-02-25T03:35:21.190498",
     "status": "completed"
    },
    "tags": []
   },
   "source": [
    "# Clustering"
   ]
  },
  {
   "cell_type": "code",
   "execution_count": 21,
   "id": "desperate-punch",
   "metadata": {
    "papermill": {
     "duration": 0.151344,
     "end_time": "2021-02-25T03:35:21.378723",
     "exception": false,
     "start_time": "2021-02-25T03:35:21.227379",
     "status": "completed"
    },
    "tags": []
   },
   "outputs": [],
   "source": [
    "# from clustering.methods import DeltaSpectralClustering\n",
    "# from sklearn.metrics import silhouette_score"
   ]
  },
  {
   "cell_type": "markdown",
   "id": "decimal-vertex",
   "metadata": {
    "papermill": {
     "duration": 0.019167,
     "end_time": "2021-02-25T03:35:21.418038",
     "exception": false,
     "start_time": "2021-02-25T03:35:21.398871",
     "status": "completed"
    },
    "tags": []
   },
   "source": [
    "## Clusterers"
   ]
  },
  {
   "cell_type": "code",
   "execution_count": 22,
   "id": "handmade-minister",
   "metadata": {
    "papermill": {
     "duration": 0.032748,
     "end_time": "2021-02-25T03:35:21.469812",
     "exception": false,
     "start_time": "2021-02-25T03:35:21.437064",
     "status": "completed"
    },
    "tags": []
   },
   "outputs": [],
   "source": [
    "# np.sqrt(sim_matrix.shape[0])"
   ]
  },
  {
   "cell_type": "code",
   "execution_count": 23,
   "id": "macro-spending",
   "metadata": {
    "papermill": {
     "duration": 0.031498,
     "end_time": "2021-02-25T03:35:21.520804",
     "exception": false,
     "start_time": "2021-02-25T03:35:21.489306",
     "status": "completed"
    },
    "tags": []
   },
   "outputs": [],
   "source": [
    "# from clustering.methods import DeltaSpectralClustering"
   ]
  },
  {
   "cell_type": "code",
   "execution_count": 38,
   "id": "pressed-prerequisite",
   "metadata": {
    "papermill": {
     "duration": 0.032409,
     "end_time": "2021-02-25T03:35:21.573162",
     "exception": false,
     "start_time": "2021-02-25T03:35:21.540753",
     "status": "completed"
    },
    "tags": []
   },
   "outputs": [],
   "source": [
    "CLUSTERERS = {}\n",
    "\n",
    "idx = 0\n",
    "random_state = INITIAL_RANDOM_STATE\n",
    "\n",
    "for k in CLUSTERING_OPTIONS[\"K_RANGE\"]:\n",
    "    #     for delta_value in CLUSTERING_OPTIONS[\"DELTAS\"]:\n",
    "    #         for i in range(CLUSTERING_OPTIONS[\"N_REPS_PER_K\"]):\n",
    "    clus = SpectralClustering(\n",
    "        eigen_solver=\"arpack\",\n",
    "        n_clusters=k,\n",
    "        n_init=CLUSTERING_OPTIONS[\"KMEANS_N_INIT\"],\n",
    "        affinity=\"precomputed\",\n",
    "        random_state=random_state,\n",
    "    )\n",
    "\n",
    "    method_name = type(clus).__name__\n",
    "    CLUSTERERS[f\"{method_name} #{idx}\"] = clus\n",
    "\n",
    "    random_state = random_state + 1\n",
    "    idx = idx + 1"
   ]
  },
  {
   "cell_type": "code",
   "execution_count": 39,
   "id": "bored-source",
   "metadata": {
    "papermill": {
     "duration": 0.032748,
     "end_time": "2021-02-25T03:35:21.625748",
     "exception": false,
     "start_time": "2021-02-25T03:35:21.593000",
     "status": "completed"
    },
    "tags": []
   },
   "outputs": [
    {
     "data": {
      "text/plain": [
       "25"
      ]
     },
     "metadata": {},
     "output_type": "display_data"
    }
   ],
   "source": [
    "display(len(CLUSTERERS))"
   ]
  },
  {
   "cell_type": "code",
   "execution_count": 40,
   "id": "stupid-print",
   "metadata": {
    "papermill": {
     "duration": 0.034772,
     "end_time": "2021-02-25T03:35:21.681095",
     "exception": false,
     "start_time": "2021-02-25T03:35:21.646323",
     "status": "completed"
    },
    "tags": []
   },
   "outputs": [
    {
     "data": {
      "text/plain": [
       "('SpectralClustering #0',\n",
       " SpectralClustering(affinity='precomputed', eigen_solver='arpack', n_clusters=2,\n",
       "                    n_init=50, random_state=12345))"
      ]
     },
     "metadata": {},
     "output_type": "display_data"
    },
    {
     "data": {
      "text/plain": [
       "('SpectralClustering #1',\n",
       " SpectralClustering(affinity='precomputed', eigen_solver='arpack', n_clusters=5,\n",
       "                    n_init=50, random_state=12346))"
      ]
     },
     "metadata": {},
     "output_type": "display_data"
    }
   ],
   "source": [
    "_iter = iter(CLUSTERERS.items())\n",
    "display(next(_iter))\n",
    "display(next(_iter))"
   ]
  },
  {
   "cell_type": "code",
   "execution_count": 41,
   "id": "proof-medline",
   "metadata": {
    "papermill": {
     "duration": 0.033108,
     "end_time": "2021-02-25T03:35:21.735072",
     "exception": false,
     "start_time": "2021-02-25T03:35:21.701964",
     "status": "completed"
    },
    "tags": []
   },
   "outputs": [
    {
     "data": {
      "text/plain": [
       "'SpectralClustering'"
      ]
     },
     "metadata": {},
     "output_type": "display_data"
    }
   ],
   "source": [
    "clustering_method_name = method_name\n",
    "display(clustering_method_name)"
   ]
  },
  {
   "cell_type": "markdown",
   "id": "partial-hardwood",
   "metadata": {
    "papermill": {
     "duration": 0.019966,
     "end_time": "2021-02-25T03:35:21.776101",
     "exception": false,
     "start_time": "2021-02-25T03:35:21.756135",
     "status": "completed"
    },
    "tags": []
   },
   "source": [
    "## Generate ensemble"
   ]
  },
  {
   "cell_type": "code",
   "execution_count": 45,
   "id": "acoustic-technology",
   "metadata": {
    "papermill": {
     "duration": 0.048274,
     "end_time": "2021-02-25T03:35:21.844848",
     "exception": false,
     "start_time": "2021-02-25T03:35:21.796574",
     "status": "completed"
    },
    "tags": []
   },
   "outputs": [],
   "source": [
    "from sklearn.metrics import silhouette_score\n",
    "from clustermatch.clustering import generate_ensemble\n",
    "# from utils import generate_result_set_name"
   ]
  },
  {
   "cell_type": "code",
   "execution_count": 46,
   "id": "sixth-pakistan",
   "metadata": {
    "papermill": {
     "duration": 0.03411,
     "end_time": "2021-02-25T03:35:21.899791",
     "exception": false,
     "start_time": "2021-02-25T03:35:21.865681",
     "status": "completed"
    },
    "tags": []
   },
   "outputs": [],
   "source": [
    "# # generate a temporary folder where to store the ensemble and avoid computing it again\n",
    "# ensemble_folder = Path(\n",
    "#     BASE_FOLDER,\n",
    "#     \"results\",\n",
    "#     METHOD_NAME,\n",
    "# ).resolve()\n",
    "# display(ensemble_folder)\n",
    "\n",
    "# ensemble_folder.mkdir(parents=True, exist_ok=True)"
   ]
  },
  {
   "cell_type": "code",
   "execution_count": 47,
   "id": "f48ee543-d4ec-4d96-bb73-549a988f55e6",
   "metadata": {},
   "outputs": [
    {
     "name": "stderr",
     "output_type": "stream",
     "text": [
      "gtex_v8_data_muscle_skeletal-var_pc_log2-clustermatch:   0%|                  | 0/1 [00:00<?, ?it/s]\n",
      "  0%|                                                                        | 0/25 [00:00<?, ?it/s]\u001b[A\n",
      "  4%|██▌                                                             | 1/25 [00:02<00:58,  2.44s/it]\u001b[A\n",
      "  8%|█████                                                           | 2/25 [00:05<01:00,  2.63s/it]\u001b[A\n",
      " 12%|███████▋                                                        | 3/25 [00:08<01:08,  3.10s/it]\u001b[A\n",
      " 16%|██████████▏                                                     | 4/25 [00:12<01:12,  3.47s/it]\u001b[A\n",
      " 20%|████████████▊                                                   | 5/25 [00:17<01:16,  3.81s/it]\u001b[A\n",
      " 24%|███████████████▎                                                | 6/25 [00:23<01:24,  4.47s/it]\u001b[A\n",
      " 28%|█████████████████▉                                              | 7/25 [00:31<01:45,  5.87s/it]\u001b[A\n",
      " 32%|████████████████████▍                                           | 8/25 [00:40<01:52,  6.63s/it]\u001b[A\n",
      " 36%|███████████████████████                                         | 9/25 [00:48<01:57,  7.32s/it]\u001b[A\n",
      " 40%|█████████████████████████▏                                     | 10/25 [00:57<01:57,  7.86s/it]\u001b[A\n",
      " 44%|███████████████████████████▋                                   | 11/25 [01:08<02:01,  8.65s/it]\u001b[A\n",
      " 48%|██████████████████████████████▏                                | 12/25 [01:19<02:01,  9.36s/it]\u001b[A\n",
      " 52%|████████████████████████████████▊                              | 13/25 [01:31<02:00, 10.05s/it]\u001b[A\n",
      " 56%|███████████████████████████████████▎                           | 14/25 [01:43<01:58, 10.78s/it]\u001b[A\n",
      " 60%|█████████████████████████████████████▊                         | 15/25 [01:56<01:54, 11.48s/it]\u001b[A\n",
      " 64%|████████████████████████████████████████▎                      | 16/25 [02:10<01:50, 12.28s/it]\u001b[A\n",
      " 68%|██████████████████████████████████████████▊                    | 17/25 [02:27<01:48, 13.51s/it]\u001b[A\n",
      " 72%|█████████████████████████████████████████████▎                 | 18/25 [02:45<01:45, 15.01s/it]\u001b[A\n",
      " 76%|███████████████████████████████████████████████▉               | 19/25 [03:03<01:35, 15.89s/it]\u001b[A\n",
      " 80%|██████████████████████████████████████████████████▍            | 20/25 [03:23<01:24, 17.00s/it]\u001b[A\n",
      " 84%|████████████████████████████████████████████████████▉          | 21/25 [03:44<01:13, 18.40s/it]\u001b[A\n",
      " 88%|███████████████████████████████████████████████████████▍       | 22/25 [04:10<01:01, 20.61s/it]\u001b[A\n",
      " 92%|█████████████████████████████████████████████████████████▉     | 23/25 [04:44<00:49, 24.66s/it]\u001b[A\n",
      " 96%|████████████████████████████████████████████████████████████▍  | 24/25 [05:29<00:30, 30.67s/it]\u001b[A\n",
      "100%|███████████████████████████████████████████████████████████████| 25/25 [06:27<00:00, 38.99s/it]\u001b[A\n",
      "                                                                                                    \u001b[A"
     ]
    },
    {
     "data": {
      "text/plain": [
       "clusterer_id\n",
       "SpectralClustering #0       2\n",
       "SpectralClustering #1       5\n",
       "SpectralClustering #2      10\n",
       "SpectralClustering #3      15\n",
       "SpectralClustering #4      20\n",
       "SpectralClustering #5      25\n",
       "SpectralClustering #6      30\n",
       "SpectralClustering #7      35\n",
       "SpectralClustering #8      40\n",
       "SpectralClustering #9      45\n",
       "SpectralClustering #10     50\n",
       "SpectralClustering #11     55\n",
       "SpectralClustering #12     60\n",
       "SpectralClustering #13     65\n",
       "SpectralClustering #14     70\n",
       "SpectralClustering #15     75\n",
       "SpectralClustering #16     80\n",
       "SpectralClustering #17     85\n",
       "SpectralClustering #18     90\n",
       "SpectralClustering #19     95\n",
       "SpectralClustering #20    100\n",
       "SpectralClustering #21    125\n",
       "SpectralClustering #22    150\n",
       "SpectralClustering #23    175\n",
       "SpectralClustering #24    200\n",
       "Name: partition, dtype: int64"
      ]
     },
     "metadata": {},
     "output_type": "display_data"
    },
    {
     "name": "stderr",
     "output_type": "stream",
     "text": [
      "gtex_v8_data_muscle_skeletal-var_pc_log2-clustermatch: 100%|█████████| 1/1 [06:30<00:00, 390.85s/it]\n"
     ]
    }
   ],
   "source": [
    "pbar = tqdm(input_files, ncols=100)\n",
    "\n",
    "for tissue_data_file in pbar:\n",
    "    pbar.set_description(tissue_data_file.stem)\n",
    "\n",
    "    # read\n",
    "    sim_matrix = pd.read_pickle(tissue_data_file)\n",
    "    sim_matrix = process_similarity_matrix(sim_matrix)\n",
    "\n",
    "    ensemble = generate_ensemble(\n",
    "        sim_matrix,\n",
    "        CLUSTERERS,\n",
    "        attributes=[\"n_clusters\"],\n",
    "        tqdm_args={\"leave\": False, \"ncols\": 100},\n",
    "    )\n",
    "    \n",
    "    _tmp = ensemble[\"n_clusters\"].value_counts().unique()\n",
    "    assert _tmp.shape[0] == 1\n",
    "    assert _tmp[0] == 1\n",
    "    \n",
    "    assert not ensemble[\"n_clusters\"].isna().any()\n",
    "    \n",
    "    assert ensemble.shape[0] == len(CLUSTERERS)\n",
    "    \n",
    "    assert np.all(\n",
    "        [\n",
    "            part[\"partition\"].shape[0] == sim_matrix.shape[0]\n",
    "            for idx, part in ensemble.iterrows()\n",
    "        ]\n",
    "    )\n",
    "    \n",
    "    # no partition has negative labels or nan\n",
    "    assert not np.any([np.isnan(part[\"partition\"]).any() for idx, part in ensemble.iterrows()])\n",
    "    assert not np.any([(part[\"partition\"] < 0).any() for idx, part in ensemble.iterrows()])\n",
    "    \n",
    "    _real_k_values = ensemble[\"partition\"].apply(lambda x: np.unique(x).shape[0])\n",
    "    display(_real_k_values)\n",
    "    assert np.all(ensemble[\"n_clusters\"].values == _real_k_values.values)\n",
    "    \n",
    "    # add clustering quality measures\n",
    "    dist_matrix = get_distance_matrix(sim_matrix)\n",
    "    ensemble = ensemble.assign(\n",
    "        si_score=ensemble[\"partition\"].apply(\n",
    "            lambda x: silhouette_score(dist_matrix, x, metric=\"precomputed\")\n",
    "        ),\n",
    "    )\n",
    "\n",
    "    # save\n",
    "    output_filename = f\"{tissue_data_file.stem}-{CORRELATION_METHOD_NAME}.pkl\"\n",
    "    ensemble.to_pickle(path=OUTPUT_DIR / output_filename)"
   ]
  },
  {
   "cell_type": "markdown",
   "id": "compliant-conjunction",
   "metadata": {
    "papermill": {
     "duration": 0.030141,
     "end_time": "2021-02-25T03:39:04.255778",
     "exception": false,
     "start_time": "2021-02-25T03:39:04.225637",
     "status": "completed"
    },
    "tags": []
   },
   "source": [
    "# Cluster quality"
   ]
  },
  {
   "cell_type": "markdown",
   "id": "b04a2d73-5994-43c3-88c1-5fa7b018dd23",
   "metadata": {
    "papermill": {
     "duration": 0.030141,
     "end_time": "2021-02-25T03:39:04.255778",
     "exception": false,
     "start_time": "2021-02-25T03:39:04.225637",
     "status": "completed"
    },
    "tags": []
   },
   "source": [
    "**TODO**: move this to another notebook"
   ]
  },
  {
   "cell_type": "code",
   "execution_count": null,
   "id": "round-henry",
   "metadata": {
    "papermill": {
     "duration": 0.045557,
     "end_time": "2021-02-25T03:39:04.328747",
     "exception": false,
     "start_time": "2021-02-25T03:39:04.283190",
     "status": "completed"
    },
    "tags": []
   },
   "outputs": [],
   "source": [
    "# with pd.option_context(\"display.max_rows\", None, \"display.max_columns\", None):\n",
    "#     _df = ensemble.groupby([\"n_clusters\", \"delta\"]).mean()\n",
    "#     display(_df)"
   ]
  },
  {
   "cell_type": "code",
   "execution_count": null,
   "id": "universal-supplier",
   "metadata": {
    "papermill": {
     "duration": 0.615116,
     "end_time": "2021-02-25T03:39:04.972020",
     "exception": false,
     "start_time": "2021-02-25T03:39:04.356904",
     "status": "completed"
    },
    "tags": []
   },
   "outputs": [],
   "source": [
    "# with sns.plotting_context(\"talk\", font_scale=0.75), sns.axes_style(\n",
    "#     \"whitegrid\", {\"grid.linestyle\": \"--\"}\n",
    "# ):\n",
    "#     fig = plt.figure(figsize=(14, 6))\n",
    "#     ax = sns.pointplot(data=ensemble, x=\"n_clusters\", y=\"si_score\", hue=\"delta\")\n",
    "#     ax.set_ylabel(\"Silhouette index\\n(higher is better)\")\n",
    "#     ax.set_xlabel(\"Number of clusters ($k$)\")\n",
    "#     ax.set_xticklabels(ax.get_xticklabels(), rotation=45)\n",
    "#     plt.grid(True)\n",
    "#     plt.tight_layout()"
   ]
  },
  {
   "cell_type": "code",
   "execution_count": null,
   "id": "potential-uzbekistan",
   "metadata": {
    "papermill": {
     "duration": 0.0286,
     "end_time": "2021-02-25T03:39:05.029820",
     "exception": false,
     "start_time": "2021-02-25T03:39:05.001220",
     "status": "completed"
    },
    "tags": []
   },
   "outputs": [],
   "source": []
  }
 ],
 "metadata": {
  "jupytext": {
   "cell_metadata_filter": "all,-execution,-papermill,-trusted",
   "text_representation": {
    "extension": ".py",
    "format_name": "percent",
    "format_version": "1.3",
    "jupytext_version": "1.11.5"
   }
  },
  "kernelspec": {
   "display_name": "Python 3 (ipykernel)",
   "language": "python",
   "name": "python3"
  },
  "language_info": {
   "codemirror_mode": {
    "name": "ipython",
    "version": 3
   },
   "file_extension": ".py",
   "mimetype": "text/x-python",
   "name": "python",
   "nbconvert_exporter": "python",
   "pygments_lexer": "ipython3",
   "version": "3.9.6"
  },
  "papermill": {
   "default_parameters": {},
   "duration": 226.888441,
   "end_time": "2021-02-25T03:39:05.466781",
   "environment_variables": {},
   "exception": null,
   "input_path": "05_cluster_analysis/05_01-spectral_clustering-clustermatch.ipynb",
   "output_path": "05_cluster_analysis/05_01-spectral_clustering-clustermatch.run.ipynb",
   "parameters": {},
   "start_time": "2021-02-25T03:35:18.578340",
   "version": "2.2.2"
  },
  "toc-autonumbering": true,
  "toc-showcode": false,
  "toc-showmarkdowntxt": false,
  "toc-showtags": false
 },
 "nbformat": 4,
 "nbformat_minor": 5
}
