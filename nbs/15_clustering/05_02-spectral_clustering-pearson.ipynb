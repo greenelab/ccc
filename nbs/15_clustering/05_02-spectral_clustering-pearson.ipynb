{
 "cells": [
  {
   "cell_type": "markdown",
   "id": "thermal-straight",
   "metadata": {
    "papermill": {
     "duration": 0.020614,
     "end_time": "2021-02-25T03:39:07.505578",
     "exception": false,
     "start_time": "2021-02-25T03:39:07.484964",
     "status": "completed"
    },
    "tags": []
   },
   "source": [
    "# Description"
   ]
  },
  {
   "cell_type": "markdown",
   "id": "banner-sailing",
   "metadata": {
    "papermill": {
     "duration": 0.016458,
     "end_time": "2021-02-25T03:39:07.538457",
     "exception": false,
     "start_time": "2021-02-25T03:39:07.521999",
     "status": "completed"
    },
    "tags": []
   },
   "source": [
    "TODO\n",
    "\n",
    "Old:\n",
    "This notebook runs some pre-analyses using spectral clustering to explore the best set of parameters to cluster `z_score_std` data version."
   ]
  },
  {
   "cell_type": "markdown",
   "id": "fourth-chapel",
   "metadata": {
    "papermill": {
     "duration": 0.016308,
     "end_time": "2021-02-25T03:39:07.571349",
     "exception": false,
     "start_time": "2021-02-25T03:39:07.555041",
     "status": "completed"
    },
    "tags": []
   },
   "source": [
    "# Environment variables"
   ]
  },
  {
   "cell_type": "code",
   "execution_count": 1,
   "id": "suffering-service",
   "metadata": {
    "execution": {
     "iopub.execute_input": "2021-02-25T03:39:07.609736Z",
     "iopub.status.busy": "2021-02-25T03:39:07.609371Z",
     "iopub.status.idle": "2021-02-25T03:39:07.616956Z",
     "shell.execute_reply": "2021-02-25T03:39:07.616470Z"
    },
    "papermill": {
     "duration": 0.029345,
     "end_time": "2021-02-25T03:39:07.617077",
     "exception": false,
     "start_time": "2021-02-25T03:39:07.587732",
     "status": "completed"
    },
    "tags": []
   },
   "outputs": [],
   "source": [
    "%load_ext autoreload\n",
    "%autoreload 2"
   ]
  },
  {
   "cell_type": "code",
   "execution_count": 2,
   "id": "played-tribune",
   "metadata": {
    "execution": {
     "iopub.execute_input": "2021-02-25T03:39:07.654005Z",
     "iopub.status.busy": "2021-02-25T03:39:07.653647Z",
     "iopub.status.idle": "2021-02-25T03:39:07.659261Z",
     "shell.execute_reply": "2021-02-25T03:39:07.658898Z"
    },
    "papermill": {
     "duration": 0.024863,
     "end_time": "2021-02-25T03:39:07.659347",
     "exception": false,
     "start_time": "2021-02-25T03:39:07.634484",
     "status": "completed"
    },
    "tags": []
   },
   "outputs": [],
   "source": [
    "from IPython.display import display\n",
    "\n",
    "N_JOBS = 2"
   ]
  },
  {
   "cell_type": "code",
   "execution_count": 3,
   "id": "improved-characteristic",
   "metadata": {
    "execution": {
     "iopub.execute_input": "2021-02-25T03:39:07.697195Z",
     "iopub.status.busy": "2021-02-25T03:39:07.696839Z",
     "iopub.status.idle": "2021-02-25T03:39:07.703321Z",
     "shell.execute_reply": "2021-02-25T03:39:07.703014Z"
    },
    "papermill": {
     "duration": 0.0269,
     "end_time": "2021-02-25T03:39:07.703406",
     "exception": false,
     "start_time": "2021-02-25T03:39:07.676506",
     "status": "completed"
    },
    "tags": []
   },
   "outputs": [
    {
     "name": "stdout",
     "output_type": "stream",
     "text": [
      "env: MKL_NUM_THREADS=2\n",
      "env: OPEN_BLAS_NUM_THREADS=2\n",
      "env: NUMEXPR_NUM_THREADS=2\n",
      "env: OMP_NUM_THREADS=2\n"
     ]
    }
   ],
   "source": [
    "%env MKL_NUM_THREADS=$N_JOBS\n",
    "%env OPEN_BLAS_NUM_THREADS=$N_JOBS\n",
    "%env NUMEXPR_NUM_THREADS=$N_JOBS\n",
    "%env OMP_NUM_THREADS=$N_JOBS"
   ]
  },
  {
   "cell_type": "markdown",
   "id": "romance-beads",
   "metadata": {
    "papermill": {
     "duration": 0.016614,
     "end_time": "2021-02-25T03:39:07.737967",
     "exception": false,
     "start_time": "2021-02-25T03:39:07.721353",
     "status": "completed"
    },
    "tags": []
   },
   "source": [
    "# Modules loading"
   ]
  },
  {
   "cell_type": "code",
   "execution_count": 4,
   "id": "passive-review",
   "metadata": {
    "execution": {
     "iopub.execute_input": "2021-02-25T03:39:07.774289Z",
     "iopub.status.busy": "2021-02-25T03:39:07.773948Z",
     "iopub.status.idle": "2021-02-25T03:39:08.283481Z",
     "shell.execute_reply": "2021-02-25T03:39:08.283132Z"
    },
    "papermill": {
     "duration": 0.52849,
     "end_time": "2021-02-25T03:39:08.283576",
     "exception": false,
     "start_time": "2021-02-25T03:39:07.755086",
     "status": "completed"
    },
    "tags": []
   },
   "outputs": [],
   "source": [
    "from pathlib import Path\n",
    "import warnings\n",
    "\n",
    "import numpy as np\n",
    "import pandas as pd\n",
    "import matplotlib.pyplot as plt\n",
    "import seaborn as sns"
   ]
  },
  {
   "cell_type": "markdown",
   "id": "mediterranean-retailer",
   "metadata": {
    "papermill": {
     "duration": 0.016872,
     "end_time": "2021-02-25T03:39:08.318498",
     "exception": false,
     "start_time": "2021-02-25T03:39:08.301626",
     "status": "completed"
    },
    "tags": []
   },
   "source": [
    "# Settings"
   ]
  },
  {
   "cell_type": "code",
   "execution_count": 5,
   "id": "foster-diana",
   "metadata": {
    "execution": {
     "iopub.execute_input": "2021-02-25T03:39:08.354972Z",
     "iopub.status.busy": "2021-02-25T03:39:08.354620Z",
     "iopub.status.idle": "2021-02-25T03:39:08.363963Z",
     "shell.execute_reply": "2021-02-25T03:39:08.363592Z"
    },
    "papermill": {
     "duration": 0.028739,
     "end_time": "2021-02-25T03:39:08.364053",
     "exception": false,
     "start_time": "2021-02-25T03:39:08.335314",
     "status": "completed"
    },
    "tags": []
   },
   "outputs": [],
   "source": [
    "INITIAL_RANDOM_STATE = 12345"
   ]
  },
  {
   "cell_type": "code",
   "execution_count": 6,
   "id": "competent-express",
   "metadata": {
    "execution": {
     "iopub.execute_input": "2021-02-25T03:39:08.401942Z",
     "iopub.status.busy": "2021-02-25T03:39:08.401587Z",
     "iopub.status.idle": "2021-02-25T03:39:08.410191Z",
     "shell.execute_reply": "2021-02-25T03:39:08.410531Z"
    },
    "papermill": {
     "duration": 0.028452,
     "end_time": "2021-02-25T03:39:08.410638",
     "exception": false,
     "start_time": "2021-02-25T03:39:08.382186",
     "status": "completed"
    },
    "tags": []
   },
   "outputs": [],
   "source": [
    "METHOD_NAME = \"pearson\""
   ]
  },
  {
   "cell_type": "code",
   "execution_count": 7,
   "id": "under-contrast",
   "metadata": {
    "execution": {
     "iopub.execute_input": "2021-02-25T03:39:08.449081Z",
     "iopub.status.busy": "2021-02-25T03:39:08.448664Z",
     "iopub.status.idle": "2021-02-25T03:39:08.459974Z",
     "shell.execute_reply": "2021-02-25T03:39:08.460255Z"
    },
    "papermill": {
     "duration": 0.03213,
     "end_time": "2021-02-25T03:39:08.460365",
     "exception": false,
     "start_time": "2021-02-25T03:39:08.428235",
     "status": "completed"
    },
    "tags": []
   },
   "outputs": [
    {
     "data": {
      "text/plain": [
       "{'K_RANGE': [2,\n",
       "  5,\n",
       "  10,\n",
       "  15,\n",
       "  20,\n",
       "  25,\n",
       "  30,\n",
       "  35,\n",
       "  40,\n",
       "  45,\n",
       "  50,\n",
       "  55,\n",
       "  60,\n",
       "  65,\n",
       "  70,\n",
       "  75,\n",
       "  80,\n",
       "  90,\n",
       "  95,\n",
       "  100,\n",
       "  200],\n",
       " 'KMEANS_N_INIT': 50,\n",
       " 'DELTA': 0.35}"
      ]
     },
     "metadata": {},
     "output_type": "display_data"
    }
   ],
   "source": [
    "CLUSTERING_OPTIONS = {}\n",
    "\n",
    "CLUSTERING_OPTIONS[\"K_RANGE\"] = [\n",
    "    2,\n",
    "    5,\n",
    "    10,\n",
    "    15,\n",
    "    20,\n",
    "    25,\n",
    "    30,\n",
    "    35,\n",
    "    40,\n",
    "    45,\n",
    "    50,\n",
    "    55,\n",
    "    60,\n",
    "    65,\n",
    "    70,\n",
    "    75,\n",
    "    80,\n",
    "    90,\n",
    "    95,\n",
    "    100,\n",
    "    200,\n",
    "]\n",
    "# CLUSTERING_OPTIONS[\"N_REPS_PER_K\"] = 5\n",
    "CLUSTERING_OPTIONS[\"KMEANS_N_INIT\"] = 50\n",
    "CLUSTERING_OPTIONS[\"DELTA\"] = 0.35\n",
    "\n",
    "display(CLUSTERING_OPTIONS)"
   ]
  },
  {
   "cell_type": "code",
   "execution_count": 8,
   "id": "following-tuning",
   "metadata": {
    "execution": {
     "iopub.execute_input": "2021-02-25T03:39:08.499336Z",
     "iopub.status.busy": "2021-02-25T03:39:08.498982Z",
     "iopub.status.idle": "2021-02-25T03:39:08.508918Z",
     "shell.execute_reply": "2021-02-25T03:39:08.508549Z"
    },
    "papermill": {
     "duration": 0.030107,
     "end_time": "2021-02-25T03:39:08.509008",
     "exception": false,
     "start_time": "2021-02-25T03:39:08.478901",
     "status": "completed"
    },
    "tags": []
   },
   "outputs": [
    {
     "data": {
      "text/plain": [
       "PosixPath('/home/miltondp/projects/labs/greenelab/cm_gene_expression/base')"
      ]
     },
     "metadata": {},
     "output_type": "display_data"
    }
   ],
   "source": [
    "# BASE_FOLDER = Path(\"..\", \"base\").resolve()\n",
    "BASE_FOLDER = Path(\"base\").resolve()\n",
    "assert BASE_FOLDER.exists()\n",
    "\n",
    "display(BASE_FOLDER)"
   ]
  },
  {
   "cell_type": "markdown",
   "id": "instrumental-standing",
   "metadata": {
    "papermill": {
     "duration": 0.018056,
     "end_time": "2021-02-25T03:39:08.545406",
     "exception": false,
     "start_time": "2021-02-25T03:39:08.527350",
     "status": "completed"
    },
    "tags": []
   },
   "source": [
    "# Load Pearson correlations"
   ]
  },
  {
   "cell_type": "code",
   "execution_count": 9,
   "id": "daily-purpose",
   "metadata": {
    "execution": {
     "iopub.execute_input": "2021-02-25T03:39:08.582937Z",
     "iopub.status.busy": "2021-02-25T03:39:08.582567Z",
     "iopub.status.idle": "2021-02-25T03:39:08.593290Z",
     "shell.execute_reply": "2021-02-25T03:39:08.593589Z"
    },
    "papermill": {
     "duration": 0.030728,
     "end_time": "2021-02-25T03:39:08.593699",
     "exception": false,
     "start_time": "2021-02-25T03:39:08.562971",
     "status": "completed"
    },
    "tags": []
   },
   "outputs": [
    {
     "data": {
      "text/plain": [
       "PosixPath('/home/miltondp/projects/labs/greenelab/cm_gene_expression/base/results/sim_mat/wb_data_gene_corr.pkl')"
      ]
     },
     "metadata": {},
     "output_type": "display_data"
    },
    {
     "data": {
      "text/plain": [
       "'wb_data_gene_corr'"
      ]
     },
     "metadata": {},
     "output_type": "display_data"
    }
   ],
   "source": [
    "input_filepath = Path(\n",
    "    BASE_FOLDER,\n",
    "    \"results\",\n",
    "    \"sim_mat\",\n",
    "    \"wb_data_gene_corr.pkl\",\n",
    ").resolve()\n",
    "display(input_filepath)\n",
    "\n",
    "assert input_filepath.exists(), \"Input file does not exist\"\n",
    "\n",
    "input_filepath_stem = input_filepath.stem\n",
    "display(input_filepath_stem)"
   ]
  },
  {
   "cell_type": "code",
   "execution_count": 10,
   "id": "scientific-persian",
   "metadata": {
    "execution": {
     "iopub.execute_input": "2021-02-25T03:39:08.633549Z",
     "iopub.status.busy": "2021-02-25T03:39:08.633187Z",
     "iopub.status.idle": "2021-02-25T03:39:08.723553Z",
     "shell.execute_reply": "2021-02-25T03:39:08.723121Z"
    },
    "papermill": {
     "duration": 0.110387,
     "end_time": "2021-02-25T03:39:08.723665",
     "exception": false,
     "start_time": "2021-02-25T03:39:08.613278",
     "status": "completed"
    },
    "tags": []
   },
   "outputs": [],
   "source": [
    "sim_matrix = pd.read_pickle(input_filepath)"
   ]
  },
  {
   "cell_type": "code",
   "execution_count": 11,
   "id": "individual-russian",
   "metadata": {
    "execution": {
     "iopub.execute_input": "2021-02-25T03:39:08.768718Z",
     "iopub.status.busy": "2021-02-25T03:39:08.768344Z",
     "iopub.status.idle": "2021-02-25T03:39:08.778798Z",
     "shell.execute_reply": "2021-02-25T03:39:08.779092Z"
    },
    "papermill": {
     "duration": 0.032953,
     "end_time": "2021-02-25T03:39:08.779209",
     "exception": false,
     "start_time": "2021-02-25T03:39:08.746256",
     "status": "completed"
    },
    "tags": []
   },
   "outputs": [
    {
     "data": {
      "text/plain": [
       "(5000, 5000)"
      ]
     },
     "execution_count": 11,
     "metadata": {},
     "output_type": "execute_result"
    }
   ],
   "source": [
    "sim_matrix.shape"
   ]
  },
  {
   "cell_type": "code",
   "execution_count": 12,
   "id": "random-eating",
   "metadata": {
    "execution": {
     "iopub.execute_input": "2021-02-25T03:39:08.820695Z",
     "iopub.status.busy": "2021-02-25T03:39:08.820334Z",
     "iopub.status.idle": "2021-02-25T03:39:08.881085Z",
     "shell.execute_reply": "2021-02-25T03:39:08.880607Z"
    },
    "papermill": {
     "duration": 0.081788,
     "end_time": "2021-02-25T03:39:08.881196",
     "exception": false,
     "start_time": "2021-02-25T03:39:08.799408",
     "status": "completed"
    },
    "tags": []
   },
   "outputs": [
    {
     "data": {
      "text/html": [
       "<div>\n",
       "<style scoped>\n",
       "    .dataframe tbody tr th:only-of-type {\n",
       "        vertical-align: middle;\n",
       "    }\n",
       "\n",
       "    .dataframe tbody tr th {\n",
       "        vertical-align: top;\n",
       "    }\n",
       "\n",
       "    .dataframe thead th {\n",
       "        text-align: right;\n",
       "    }\n",
       "</style>\n",
       "<table border=\"1\" class=\"dataframe\">\n",
       "  <thead>\n",
       "    <tr style=\"text-align: right;\">\n",
       "      <th>Name</th>\n",
       "      <th>ENSG00000244734.3</th>\n",
       "      <th>ENSG00000188536.12</th>\n",
       "      <th>ENSG00000163220.10</th>\n",
       "      <th>ENSG00000206172.8</th>\n",
       "      <th>ENSG00000223609.7</th>\n",
       "      <th>ENSG00000143546.9</th>\n",
       "      <th>ENSG00000087086.14</th>\n",
       "      <th>ENSG00000185201.16</th>\n",
       "      <th>ENSG00000163221.8</th>\n",
       "      <th>ENSG00000234745.10</th>\n",
       "      <th>...</th>\n",
       "      <th>ENSG00000183431.11</th>\n",
       "      <th>ENSG00000119707.13</th>\n",
       "      <th>ENSG00000147649.9</th>\n",
       "      <th>ENSG00000164305.18</th>\n",
       "      <th>ENSG00000267074.1</th>\n",
       "      <th>ENSG00000130517.13</th>\n",
       "      <th>ENSG00000138674.16</th>\n",
       "      <th>ENSG00000065911.11</th>\n",
       "      <th>ENSG00000163297.16</th>\n",
       "      <th>ENSG00000259865.1</th>\n",
       "    </tr>\n",
       "    <tr>\n",
       "      <th>Name</th>\n",
       "      <th></th>\n",
       "      <th></th>\n",
       "      <th></th>\n",
       "      <th></th>\n",
       "      <th></th>\n",
       "      <th></th>\n",
       "      <th></th>\n",
       "      <th></th>\n",
       "      <th></th>\n",
       "      <th></th>\n",
       "      <th></th>\n",
       "      <th></th>\n",
       "      <th></th>\n",
       "      <th></th>\n",
       "      <th></th>\n",
       "      <th></th>\n",
       "      <th></th>\n",
       "      <th></th>\n",
       "      <th></th>\n",
       "      <th></th>\n",
       "      <th></th>\n",
       "    </tr>\n",
       "  </thead>\n",
       "  <tbody>\n",
       "    <tr>\n",
       "      <th>ENSG00000244734.3</th>\n",
       "      <td>1.000000</td>\n",
       "      <td>0.636236</td>\n",
       "      <td>-0.517149</td>\n",
       "      <td>0.781512</td>\n",
       "      <td>0.873917</td>\n",
       "      <td>-0.373188</td>\n",
       "      <td>-0.511014</td>\n",
       "      <td>-0.588842</td>\n",
       "      <td>-0.403123</td>\n",
       "      <td>-0.758224</td>\n",
       "      <td>...</td>\n",
       "      <td>-0.635070</td>\n",
       "      <td>-0.518102</td>\n",
       "      <td>-0.563508</td>\n",
       "      <td>-0.608799</td>\n",
       "      <td>-0.237267</td>\n",
       "      <td>-0.521478</td>\n",
       "      <td>-0.488588</td>\n",
       "      <td>-0.441912</td>\n",
       "      <td>-0.643780</td>\n",
       "      <td>-0.422210</td>\n",
       "    </tr>\n",
       "    <tr>\n",
       "      <th>ENSG00000188536.12</th>\n",
       "      <td>0.636236</td>\n",
       "      <td>1.000000</td>\n",
       "      <td>-0.597514</td>\n",
       "      <td>0.851216</td>\n",
       "      <td>0.598668</td>\n",
       "      <td>-0.484410</td>\n",
       "      <td>-0.318602</td>\n",
       "      <td>-0.518463</td>\n",
       "      <td>-0.472179</td>\n",
       "      <td>-0.520591</td>\n",
       "      <td>...</td>\n",
       "      <td>-0.490134</td>\n",
       "      <td>-0.415882</td>\n",
       "      <td>-0.533757</td>\n",
       "      <td>-0.635469</td>\n",
       "      <td>-0.103706</td>\n",
       "      <td>-0.299885</td>\n",
       "      <td>-0.237291</td>\n",
       "      <td>-0.437212</td>\n",
       "      <td>-0.623296</td>\n",
       "      <td>-0.383124</td>\n",
       "    </tr>\n",
       "    <tr>\n",
       "      <th>ENSG00000163220.10</th>\n",
       "      <td>-0.517149</td>\n",
       "      <td>-0.597514</td>\n",
       "      <td>1.000000</td>\n",
       "      <td>-0.550380</td>\n",
       "      <td>-0.482091</td>\n",
       "      <td>0.862155</td>\n",
       "      <td>0.269060</td>\n",
       "      <td>0.634181</td>\n",
       "      <td>0.897901</td>\n",
       "      <td>0.157961</td>\n",
       "      <td>...</td>\n",
       "      <td>0.059125</td>\n",
       "      <td>-0.069613</td>\n",
       "      <td>0.156748</td>\n",
       "      <td>0.393911</td>\n",
       "      <td>-0.300284</td>\n",
       "      <td>-0.039997</td>\n",
       "      <td>-0.242617</td>\n",
       "      <td>0.109229</td>\n",
       "      <td>0.528421</td>\n",
       "      <td>0.027411</td>\n",
       "    </tr>\n",
       "    <tr>\n",
       "      <th>ENSG00000206172.8</th>\n",
       "      <td>0.781512</td>\n",
       "      <td>0.851216</td>\n",
       "      <td>-0.550380</td>\n",
       "      <td>1.000000</td>\n",
       "      <td>0.594896</td>\n",
       "      <td>-0.426201</td>\n",
       "      <td>-0.427221</td>\n",
       "      <td>-0.542304</td>\n",
       "      <td>-0.423745</td>\n",
       "      <td>-0.619939</td>\n",
       "      <td>...</td>\n",
       "      <td>-0.561988</td>\n",
       "      <td>-0.461928</td>\n",
       "      <td>-0.547395</td>\n",
       "      <td>-0.636742</td>\n",
       "      <td>-0.173265</td>\n",
       "      <td>-0.395801</td>\n",
       "      <td>-0.344709</td>\n",
       "      <td>-0.449663</td>\n",
       "      <td>-0.623293</td>\n",
       "      <td>-0.415837</td>\n",
       "    </tr>\n",
       "    <tr>\n",
       "      <th>ENSG00000223609.7</th>\n",
       "      <td>0.873917</td>\n",
       "      <td>0.598668</td>\n",
       "      <td>-0.482091</td>\n",
       "      <td>0.594896</td>\n",
       "      <td>1.000000</td>\n",
       "      <td>-0.361893</td>\n",
       "      <td>-0.408885</td>\n",
       "      <td>-0.559388</td>\n",
       "      <td>-0.383613</td>\n",
       "      <td>-0.678946</td>\n",
       "      <td>...</td>\n",
       "      <td>-0.541080</td>\n",
       "      <td>-0.467170</td>\n",
       "      <td>-0.501484</td>\n",
       "      <td>-0.536834</td>\n",
       "      <td>-0.184577</td>\n",
       "      <td>-0.458903</td>\n",
       "      <td>-0.399955</td>\n",
       "      <td>-0.382090</td>\n",
       "      <td>-0.593338</td>\n",
       "      <td>-0.351526</td>\n",
       "    </tr>\n",
       "  </tbody>\n",
       "</table>\n",
       "<p>5 rows × 5000 columns</p>\n",
       "</div>"
      ],
      "text/plain": [
       "Name                ENSG00000244734.3  ENSG00000188536.12  ENSG00000163220.10  \\\n",
       "Name                                                                            \n",
       "ENSG00000244734.3            1.000000            0.636236           -0.517149   \n",
       "ENSG00000188536.12           0.636236            1.000000           -0.597514   \n",
       "ENSG00000163220.10          -0.517149           -0.597514            1.000000   \n",
       "ENSG00000206172.8            0.781512            0.851216           -0.550380   \n",
       "ENSG00000223609.7            0.873917            0.598668           -0.482091   \n",
       "\n",
       "Name                ENSG00000206172.8  ENSG00000223609.7  ENSG00000143546.9  \\\n",
       "Name                                                                          \n",
       "ENSG00000244734.3            0.781512           0.873917          -0.373188   \n",
       "ENSG00000188536.12           0.851216           0.598668          -0.484410   \n",
       "ENSG00000163220.10          -0.550380          -0.482091           0.862155   \n",
       "ENSG00000206172.8            1.000000           0.594896          -0.426201   \n",
       "ENSG00000223609.7            0.594896           1.000000          -0.361893   \n",
       "\n",
       "Name                ENSG00000087086.14  ENSG00000185201.16  ENSG00000163221.8  \\\n",
       "Name                                                                            \n",
       "ENSG00000244734.3            -0.511014           -0.588842          -0.403123   \n",
       "ENSG00000188536.12           -0.318602           -0.518463          -0.472179   \n",
       "ENSG00000163220.10            0.269060            0.634181           0.897901   \n",
       "ENSG00000206172.8            -0.427221           -0.542304          -0.423745   \n",
       "ENSG00000223609.7            -0.408885           -0.559388          -0.383613   \n",
       "\n",
       "Name                ENSG00000234745.10  ...  ENSG00000183431.11  \\\n",
       "Name                                    ...                       \n",
       "ENSG00000244734.3            -0.758224  ...           -0.635070   \n",
       "ENSG00000188536.12           -0.520591  ...           -0.490134   \n",
       "ENSG00000163220.10            0.157961  ...            0.059125   \n",
       "ENSG00000206172.8            -0.619939  ...           -0.561988   \n",
       "ENSG00000223609.7            -0.678946  ...           -0.541080   \n",
       "\n",
       "Name                ENSG00000119707.13  ENSG00000147649.9  ENSG00000164305.18  \\\n",
       "Name                                                                            \n",
       "ENSG00000244734.3            -0.518102          -0.563508           -0.608799   \n",
       "ENSG00000188536.12           -0.415882          -0.533757           -0.635469   \n",
       "ENSG00000163220.10           -0.069613           0.156748            0.393911   \n",
       "ENSG00000206172.8            -0.461928          -0.547395           -0.636742   \n",
       "ENSG00000223609.7            -0.467170          -0.501484           -0.536834   \n",
       "\n",
       "Name                ENSG00000267074.1  ENSG00000130517.13  ENSG00000138674.16  \\\n",
       "Name                                                                            \n",
       "ENSG00000244734.3           -0.237267           -0.521478           -0.488588   \n",
       "ENSG00000188536.12          -0.103706           -0.299885           -0.237291   \n",
       "ENSG00000163220.10          -0.300284           -0.039997           -0.242617   \n",
       "ENSG00000206172.8           -0.173265           -0.395801           -0.344709   \n",
       "ENSG00000223609.7           -0.184577           -0.458903           -0.399955   \n",
       "\n",
       "Name                ENSG00000065911.11  ENSG00000163297.16  ENSG00000259865.1  \n",
       "Name                                                                           \n",
       "ENSG00000244734.3            -0.441912           -0.643780          -0.422210  \n",
       "ENSG00000188536.12           -0.437212           -0.623296          -0.383124  \n",
       "ENSG00000163220.10            0.109229            0.528421           0.027411  \n",
       "ENSG00000206172.8            -0.449663           -0.623293          -0.415837  \n",
       "ENSG00000223609.7            -0.382090           -0.593338          -0.351526  \n",
       "\n",
       "[5 rows x 5000 columns]"
      ]
     },
     "execution_count": 12,
     "metadata": {},
     "output_type": "execute_result"
    }
   ],
   "source": [
    "sim_matrix.head()"
   ]
  },
  {
   "cell_type": "markdown",
   "id": "romance-bulgarian",
   "metadata": {
    "papermill": {
     "duration": 0.020954,
     "end_time": "2021-02-25T03:39:08.926411",
     "exception": false,
     "start_time": "2021-02-25T03:39:08.905457",
     "status": "completed"
    },
    "tags": []
   },
   "source": [
    "## Get distance matrix"
   ]
  },
  {
   "cell_type": "code",
   "execution_count": 13,
   "id": "solved-diameter",
   "metadata": {
    "execution": {
     "iopub.execute_input": "2021-02-25T03:39:08.966160Z",
     "iopub.status.busy": "2021-02-25T03:39:08.965802Z",
     "iopub.status.idle": "2021-02-25T03:39:09.009073Z",
     "shell.execute_reply": "2021-02-25T03:39:09.009388Z"
    },
    "papermill": {
     "duration": 0.064419,
     "end_time": "2021-02-25T03:39:09.009510",
     "exception": false,
     "start_time": "2021-02-25T03:39:08.945091",
     "status": "completed"
    },
    "tags": []
   },
   "outputs": [],
   "source": [
    "dist_matrix = 1.0 - sim_matrix"
   ]
  },
  {
   "cell_type": "markdown",
   "id": "purple-liberal",
   "metadata": {
    "papermill": {
     "duration": 0.018946,
     "end_time": "2021-02-25T03:39:09.049527",
     "exception": false,
     "start_time": "2021-02-25T03:39:09.030581",
     "status": "completed"
    },
    "tags": []
   },
   "source": [
    "# Clustering"
   ]
  },
  {
   "cell_type": "code",
   "execution_count": 14,
   "id": "fuzzy-military",
   "metadata": {
    "execution": {
     "iopub.execute_input": "2021-02-25T03:39:09.089218Z",
     "iopub.status.busy": "2021-02-25T03:39:09.088861Z",
     "iopub.status.idle": "2021-02-25T03:39:09.215130Z",
     "shell.execute_reply": "2021-02-25T03:39:09.214754Z"
    },
    "papermill": {
     "duration": 0.147084,
     "end_time": "2021-02-25T03:39:09.215222",
     "exception": false,
     "start_time": "2021-02-25T03:39:09.068138",
     "status": "completed"
    },
    "tags": []
   },
   "outputs": [],
   "source": [
    "from clustering.methods import DeltaSpectralClustering\n",
    "from sklearn.metrics import silhouette_score"
   ]
  },
  {
   "cell_type": "markdown",
   "id": "improved-bankruptcy",
   "metadata": {
    "papermill": {
     "duration": 0.019444,
     "end_time": "2021-02-25T03:39:09.253775",
     "exception": false,
     "start_time": "2021-02-25T03:39:09.234331",
     "status": "completed"
    },
    "tags": []
   },
   "source": [
    "## Clusterers"
   ]
  },
  {
   "cell_type": "code",
   "execution_count": 15,
   "id": "foster-potter",
   "metadata": {
    "execution": {
     "iopub.execute_input": "2021-02-25T03:39:09.297163Z",
     "iopub.status.busy": "2021-02-25T03:39:09.296769Z",
     "iopub.status.idle": "2021-02-25T03:39:09.309218Z",
     "shell.execute_reply": "2021-02-25T03:39:09.308827Z"
    },
    "papermill": {
     "duration": 0.034316,
     "end_time": "2021-02-25T03:39:09.309315",
     "exception": false,
     "start_time": "2021-02-25T03:39:09.274999",
     "status": "completed"
    },
    "tags": []
   },
   "outputs": [
    {
     "data": {
      "text/plain": [
       "70.71067811865476"
      ]
     },
     "execution_count": 15,
     "metadata": {},
     "output_type": "execute_result"
    }
   ],
   "source": [
    "np.sqrt(sim_matrix.shape[0])"
   ]
  },
  {
   "cell_type": "code",
   "execution_count": 16,
   "id": "fifteen-offer",
   "metadata": {
    "execution": {
     "iopub.execute_input": "2021-02-25T03:39:09.352659Z",
     "iopub.status.busy": "2021-02-25T03:39:09.352283Z",
     "iopub.status.idle": "2021-02-25T03:39:09.362517Z",
     "shell.execute_reply": "2021-02-25T03:39:09.362152Z"
    },
    "papermill": {
     "duration": 0.032161,
     "end_time": "2021-02-25T03:39:09.362605",
     "exception": false,
     "start_time": "2021-02-25T03:39:09.330444",
     "status": "completed"
    },
    "tags": []
   },
   "outputs": [],
   "source": [
    "from clustering.methods import DeltaSpectralClustering"
   ]
  },
  {
   "cell_type": "code",
   "execution_count": 17,
   "id": "documentary-finnish",
   "metadata": {
    "execution": {
     "iopub.execute_input": "2021-02-25T03:39:09.404506Z",
     "iopub.status.busy": "2021-02-25T03:39:09.404144Z",
     "iopub.status.idle": "2021-02-25T03:39:09.414777Z",
     "shell.execute_reply": "2021-02-25T03:39:09.414407Z"
    },
    "papermill": {
     "duration": 0.03268,
     "end_time": "2021-02-25T03:39:09.414866",
     "exception": false,
     "start_time": "2021-02-25T03:39:09.382186",
     "status": "completed"
    },
    "tags": []
   },
   "outputs": [],
   "source": [
    "CLUSTERERS = {}\n",
    "\n",
    "idx = 0\n",
    "random_state = INITIAL_RANDOM_STATE\n",
    "\n",
    "for k in CLUSTERING_OPTIONS[\"K_RANGE\"]:\n",
    "    #     for delta_value in CLUSTERING_OPTIONS[\"DELTAS\"]:\n",
    "    #         for i in range(CLUSTERING_OPTIONS[\"N_REPS_PER_K\"]):\n",
    "    clus = DeltaSpectralClustering(\n",
    "        eigen_solver=\"arpack\",\n",
    "        n_clusters=k,\n",
    "        n_init=CLUSTERING_OPTIONS[\"KMEANS_N_INIT\"],\n",
    "        delta=CLUSTERING_OPTIONS[\"DELTA\"],\n",
    "        random_state=random_state,\n",
    "    )\n",
    "\n",
    "    method_name = type(clus).__name__\n",
    "    CLUSTERERS[f\"{method_name} #{idx}\"] = clus\n",
    "\n",
    "    random_state = random_state + 1\n",
    "    idx = idx + 1"
   ]
  },
  {
   "cell_type": "code",
   "execution_count": 18,
   "id": "delayed-beads",
   "metadata": {
    "execution": {
     "iopub.execute_input": "2021-02-25T03:39:09.457444Z",
     "iopub.status.busy": "2021-02-25T03:39:09.457081Z",
     "iopub.status.idle": "2021-02-25T03:39:09.467834Z",
     "shell.execute_reply": "2021-02-25T03:39:09.467516Z"
    },
    "papermill": {
     "duration": 0.032898,
     "end_time": "2021-02-25T03:39:09.467924",
     "exception": false,
     "start_time": "2021-02-25T03:39:09.435026",
     "status": "completed"
    },
    "tags": []
   },
   "outputs": [
    {
     "data": {
      "text/plain": [
       "21"
      ]
     },
     "metadata": {},
     "output_type": "display_data"
    }
   ],
   "source": [
    "display(len(CLUSTERERS))"
   ]
  },
  {
   "cell_type": "code",
   "execution_count": 19,
   "id": "legal-internship",
   "metadata": {
    "execution": {
     "iopub.execute_input": "2021-02-25T03:39:09.510705Z",
     "iopub.status.busy": "2021-02-25T03:39:09.510352Z",
     "iopub.status.idle": "2021-02-25T03:39:09.522764Z",
     "shell.execute_reply": "2021-02-25T03:39:09.522410Z"
    },
    "papermill": {
     "duration": 0.034408,
     "end_time": "2021-02-25T03:39:09.522850",
     "exception": false,
     "start_time": "2021-02-25T03:39:09.488442",
     "status": "completed"
    },
    "tags": []
   },
   "outputs": [
    {
     "data": {
      "text/plain": [
       "('DeltaSpectralClustering #0', DeltaSpectralClustering(delta=0.35))"
      ]
     },
     "metadata": {},
     "output_type": "display_data"
    },
    {
     "data": {
      "text/plain": [
       "('DeltaSpectralClustering #1', DeltaSpectralClustering(delta=0.35))"
      ]
     },
     "metadata": {},
     "output_type": "display_data"
    }
   ],
   "source": [
    "_iter = iter(CLUSTERERS.items())\n",
    "display(next(_iter))\n",
    "display(next(_iter))"
   ]
  },
  {
   "cell_type": "code",
   "execution_count": 20,
   "id": "bizarre-convertible",
   "metadata": {
    "execution": {
     "iopub.execute_input": "2021-02-25T03:39:09.566008Z",
     "iopub.status.busy": "2021-02-25T03:39:09.565645Z",
     "iopub.status.idle": "2021-02-25T03:39:09.577061Z",
     "shell.execute_reply": "2021-02-25T03:39:09.576638Z"
    },
    "papermill": {
     "duration": 0.033734,
     "end_time": "2021-02-25T03:39:09.577150",
     "exception": false,
     "start_time": "2021-02-25T03:39:09.543416",
     "status": "completed"
    },
    "tags": []
   },
   "outputs": [
    {
     "data": {
      "text/plain": [
       "'DeltaSpectralClustering'"
      ]
     },
     "metadata": {},
     "output_type": "display_data"
    }
   ],
   "source": [
    "clustering_method_name = method_name\n",
    "display(clustering_method_name)"
   ]
  },
  {
   "cell_type": "markdown",
   "id": "pretty-bibliography",
   "metadata": {
    "papermill": {
     "duration": 0.019919,
     "end_time": "2021-02-25T03:39:09.617918",
     "exception": false,
     "start_time": "2021-02-25T03:39:09.597999",
     "status": "completed"
    },
    "tags": []
   },
   "source": [
    "## Generate ensemble"
   ]
  },
  {
   "cell_type": "code",
   "execution_count": 21,
   "id": "human-wholesale",
   "metadata": {
    "execution": {
     "iopub.execute_input": "2021-02-25T03:39:09.661202Z",
     "iopub.status.busy": "2021-02-25T03:39:09.660846Z",
     "iopub.status.idle": "2021-02-25T03:39:09.686883Z",
     "shell.execute_reply": "2021-02-25T03:39:09.686513Z"
    },
    "papermill": {
     "duration": 0.048824,
     "end_time": "2021-02-25T03:39:09.686972",
     "exception": false,
     "start_time": "2021-02-25T03:39:09.638148",
     "status": "completed"
    },
    "tags": []
   },
   "outputs": [],
   "source": [
    "import tempfile\n",
    "from clustering.ensembles.utils import generate_ensemble\n",
    "from utils import generate_result_set_name"
   ]
  },
  {
   "cell_type": "code",
   "execution_count": 22,
   "id": "otherwise-emphasis",
   "metadata": {
    "execution": {
     "iopub.execute_input": "2021-02-25T03:39:09.731167Z",
     "iopub.status.busy": "2021-02-25T03:39:09.730799Z",
     "iopub.status.idle": "2021-02-25T03:39:09.742676Z",
     "shell.execute_reply": "2021-02-25T03:39:09.742330Z"
    },
    "papermill": {
     "duration": 0.03523,
     "end_time": "2021-02-25T03:39:09.742761",
     "exception": false,
     "start_time": "2021-02-25T03:39:09.707531",
     "status": "completed"
    },
    "tags": []
   },
   "outputs": [
    {
     "data": {
      "text/plain": [
       "PosixPath('/home/miltondp/projects/labs/greenelab/cm_gene_expression/base/results/pearson')"
      ]
     },
     "metadata": {},
     "output_type": "display_data"
    }
   ],
   "source": [
    "# generate a temporary folder where to store the ensemble and avoid computing it again\n",
    "ensemble_folder = Path(\n",
    "    BASE_FOLDER,\n",
    "    \"results\",\n",
    "    METHOD_NAME,\n",
    ").resolve()\n",
    "display(ensemble_folder)\n",
    "\n",
    "ensemble_folder.mkdir(parents=True, exist_ok=True)"
   ]
  },
  {
   "cell_type": "code",
   "execution_count": 23,
   "id": "patent-kelly",
   "metadata": {
    "execution": {
     "iopub.execute_input": "2021-02-25T03:39:09.787151Z",
     "iopub.status.busy": "2021-02-25T03:39:09.786773Z",
     "iopub.status.idle": "2021-02-25T03:39:09.798157Z",
     "shell.execute_reply": "2021-02-25T03:39:09.798458Z"
    },
    "papermill": {
     "duration": 0.034725,
     "end_time": "2021-02-25T03:39:09.798571",
     "exception": false,
     "start_time": "2021-02-25T03:39:09.763846",
     "status": "completed"
    },
    "tags": []
   },
   "outputs": [
    {
     "data": {
      "text/plain": [
       "PosixPath('/home/miltondp/projects/labs/greenelab/cm_gene_expression/base/results/pearson/ensemble-DELTA_035-KMEANS_N_INIT_50-K_RANGE_2_5_10_15_20_25_30_35_40_45_50_55_60_65_70_75_80_90_95_100_200.pkl')"
      ]
     },
     "metadata": {},
     "output_type": "display_data"
    }
   ],
   "source": [
    "ensemble_file = Path(\n",
    "    ensemble_folder,\n",
    "    generate_result_set_name(CLUSTERING_OPTIONS, prefix=\"ensemble-\", suffix=\".pkl\"),\n",
    ")\n",
    "display(ensemble_file)"
   ]
  },
  {
   "cell_type": "code",
   "execution_count": 24,
   "id": "ignored-spirit",
   "metadata": {
    "execution": {
     "iopub.execute_input": "2021-02-25T03:39:09.844973Z",
     "iopub.status.busy": "2021-02-25T03:39:09.844479Z",
     "iopub.status.idle": "2021-02-25T03:42:34.386593Z",
     "shell.execute_reply": "2021-02-25T03:42:34.385816Z"
    },
    "papermill": {
     "duration": 204.566199,
     "end_time": "2021-02-25T03:42:34.386680",
     "exception": false,
     "start_time": "2021-02-25T03:39:09.820481",
     "status": "completed"
    },
    "tags": []
   },
   "outputs": [
    {
     "name": "stderr",
     "output_type": "stream",
     "text": [
      "100%|██████████| 21/21 [03:24<00:00,  9.74s/it]\n"
     ]
    }
   ],
   "source": [
    "if ensemble_file.exists():\n",
    "    display(\"Ensemble file exists\")\n",
    "    ensemble = pd.read_pickle(ensemble_file)\n",
    "else:\n",
    "    ensemble = generate_ensemble(\n",
    "        dist_matrix,\n",
    "        CLUSTERERS,\n",
    "        attributes=[\"n_clusters\", \"delta\"],\n",
    "    )\n",
    "\n",
    "    ensemble[\"delta\"] = ensemble[\"delta\"].apply(lambda x: f\"{x:.2f}\")"
   ]
  },
  {
   "cell_type": "code",
   "execution_count": 25,
   "id": "lesser-disease",
   "metadata": {
    "execution": {
     "iopub.execute_input": "2021-02-25T03:42:34.440210Z",
     "iopub.status.busy": "2021-02-25T03:42:34.439858Z",
     "iopub.status.idle": "2021-02-25T03:42:34.451375Z",
     "shell.execute_reply": "2021-02-25T03:42:34.450990Z"
    },
    "papermill": {
     "duration": 0.039405,
     "end_time": "2021-02-25T03:42:34.451470",
     "exception": false,
     "start_time": "2021-02-25T03:42:34.412065",
     "status": "completed"
    },
    "tags": []
   },
   "outputs": [
    {
     "data": {
      "text/plain": [
       "(21, 4)"
      ]
     },
     "execution_count": 25,
     "metadata": {},
     "output_type": "execute_result"
    }
   ],
   "source": [
    "ensemble.shape"
   ]
  },
  {
   "cell_type": "code",
   "execution_count": 26,
   "id": "angry-classroom",
   "metadata": {
    "execution": {
     "iopub.execute_input": "2021-02-25T03:42:34.505545Z",
     "iopub.status.busy": "2021-02-25T03:42:34.505186Z",
     "iopub.status.idle": "2021-02-25T03:42:34.523910Z",
     "shell.execute_reply": "2021-02-25T03:42:34.523556Z"
    },
    "papermill": {
     "duration": 0.045822,
     "end_time": "2021-02-25T03:42:34.523998",
     "exception": false,
     "start_time": "2021-02-25T03:42:34.478176",
     "status": "completed"
    },
    "tags": []
   },
   "outputs": [
    {
     "data": {
      "text/html": [
       "<div>\n",
       "<style scoped>\n",
       "    .dataframe tbody tr th:only-of-type {\n",
       "        vertical-align: middle;\n",
       "    }\n",
       "\n",
       "    .dataframe tbody tr th {\n",
       "        vertical-align: top;\n",
       "    }\n",
       "\n",
       "    .dataframe thead th {\n",
       "        text-align: right;\n",
       "    }\n",
       "</style>\n",
       "<table border=\"1\" class=\"dataframe\">\n",
       "  <thead>\n",
       "    <tr style=\"text-align: right;\">\n",
       "      <th></th>\n",
       "      <th>clusterer_params</th>\n",
       "      <th>partition</th>\n",
       "      <th>n_clusters</th>\n",
       "      <th>delta</th>\n",
       "    </tr>\n",
       "    <tr>\n",
       "      <th>clusterer_id</th>\n",
       "      <th></th>\n",
       "      <th></th>\n",
       "      <th></th>\n",
       "      <th></th>\n",
       "    </tr>\n",
       "  </thead>\n",
       "  <tbody>\n",
       "    <tr>\n",
       "      <th>DeltaSpectralClustering #0</th>\n",
       "      <td>{'delta': 0.35}</td>\n",
       "      <td>[0.0, 0.0, 1.0, 0.0, 0.0, 1.0, 1.0, 1.0, 1.0, ...</td>\n",
       "      <td>2</td>\n",
       "      <td>0.35</td>\n",
       "    </tr>\n",
       "    <tr>\n",
       "      <th>DeltaSpectralClustering #1</th>\n",
       "      <td>{'delta': 0.35}</td>\n",
       "      <td>[1.0, 1.0, 0.0, 1.0, 1.0, 0.0, 0.0, 0.0, 0.0, ...</td>\n",
       "      <td>5</td>\n",
       "      <td>0.35</td>\n",
       "    </tr>\n",
       "    <tr>\n",
       "      <th>DeltaSpectralClustering #2</th>\n",
       "      <td>{'delta': 0.35}</td>\n",
       "      <td>[1.0, 1.0, 0.0, 1.0, 1.0, 0.0, 0.0, 0.0, 0.0, ...</td>\n",
       "      <td>10</td>\n",
       "      <td>0.35</td>\n",
       "    </tr>\n",
       "    <tr>\n",
       "      <th>DeltaSpectralClustering #3</th>\n",
       "      <td>{'delta': 0.35}</td>\n",
       "      <td>[2.0, 2.0, 1.0, 2.0, 2.0, 1.0, 11.0, 1.0, 1.0,...</td>\n",
       "      <td>15</td>\n",
       "      <td>0.35</td>\n",
       "    </tr>\n",
       "    <tr>\n",
       "      <th>DeltaSpectralClustering #4</th>\n",
       "      <td>{'delta': 0.35}</td>\n",
       "      <td>[9.0, 5.0, 0.0, 9.0, 9.0, 0.0, 0.0, 0.0, 0.0, ...</td>\n",
       "      <td>20</td>\n",
       "      <td>0.35</td>\n",
       "    </tr>\n",
       "  </tbody>\n",
       "</table>\n",
       "</div>"
      ],
      "text/plain": [
       "                           clusterer_params  \\\n",
       "clusterer_id                                  \n",
       "DeltaSpectralClustering #0  {'delta': 0.35}   \n",
       "DeltaSpectralClustering #1  {'delta': 0.35}   \n",
       "DeltaSpectralClustering #2  {'delta': 0.35}   \n",
       "DeltaSpectralClustering #3  {'delta': 0.35}   \n",
       "DeltaSpectralClustering #4  {'delta': 0.35}   \n",
       "\n",
       "                                                                    partition  \\\n",
       "clusterer_id                                                                    \n",
       "DeltaSpectralClustering #0  [0.0, 0.0, 1.0, 0.0, 0.0, 1.0, 1.0, 1.0, 1.0, ...   \n",
       "DeltaSpectralClustering #1  [1.0, 1.0, 0.0, 1.0, 1.0, 0.0, 0.0, 0.0, 0.0, ...   \n",
       "DeltaSpectralClustering #2  [1.0, 1.0, 0.0, 1.0, 1.0, 0.0, 0.0, 0.0, 0.0, ...   \n",
       "DeltaSpectralClustering #3  [2.0, 2.0, 1.0, 2.0, 2.0, 1.0, 11.0, 1.0, 1.0,...   \n",
       "DeltaSpectralClustering #4  [9.0, 5.0, 0.0, 9.0, 9.0, 0.0, 0.0, 0.0, 0.0, ...   \n",
       "\n",
       "                            n_clusters delta  \n",
       "clusterer_id                                  \n",
       "DeltaSpectralClustering #0           2  0.35  \n",
       "DeltaSpectralClustering #1           5  0.35  \n",
       "DeltaSpectralClustering #2          10  0.35  \n",
       "DeltaSpectralClustering #3          15  0.35  \n",
       "DeltaSpectralClustering #4          20  0.35  "
      ]
     },
     "execution_count": 26,
     "metadata": {},
     "output_type": "execute_result"
    }
   ],
   "source": [
    "ensemble.head()"
   ]
  },
  {
   "cell_type": "code",
   "execution_count": 27,
   "id": "innocent-departure",
   "metadata": {
    "execution": {
     "iopub.execute_input": "2021-02-25T03:42:34.578016Z",
     "iopub.status.busy": "2021-02-25T03:42:34.577661Z",
     "iopub.status.idle": "2021-02-25T03:42:34.590207Z",
     "shell.execute_reply": "2021-02-25T03:42:34.589839Z"
    },
    "papermill": {
     "duration": 0.040641,
     "end_time": "2021-02-25T03:42:34.590296",
     "exception": false,
     "start_time": "2021-02-25T03:42:34.549655",
     "status": "completed"
    },
    "tags": []
   },
   "outputs": [
    {
     "data": {
      "text/plain": [
       "65     1\n",
       "80     1\n",
       "30     1\n",
       "60     1\n",
       "90     1\n",
       "25     1\n",
       "55     1\n",
       "200    1\n",
       "20     1\n",
       "50     1\n",
       "15     1\n",
       "2      1\n",
       "45     1\n",
       "75     1\n",
       "10     1\n",
       "40     1\n",
       "70     1\n",
       "5      1\n",
       "100    1\n",
       "35     1\n",
       "95     1\n",
       "Name: n_clusters, dtype: int64"
      ]
     },
     "execution_count": 27,
     "metadata": {},
     "output_type": "execute_result"
    }
   ],
   "source": [
    "ensemble[\"n_clusters\"].value_counts()"
   ]
  },
  {
   "cell_type": "code",
   "execution_count": 28,
   "id": "loving-customs",
   "metadata": {
    "execution": {
     "iopub.execute_input": "2021-02-25T03:42:34.645504Z",
     "iopub.status.busy": "2021-02-25T03:42:34.645135Z",
     "iopub.status.idle": "2021-02-25T03:42:34.655950Z",
     "shell.execute_reply": "2021-02-25T03:42:34.655627Z"
    },
    "papermill": {
     "duration": 0.039206,
     "end_time": "2021-02-25T03:42:34.656044",
     "exception": false,
     "start_time": "2021-02-25T03:42:34.616838",
     "status": "completed"
    },
    "tags": []
   },
   "outputs": [],
   "source": [
    "_tmp = ensemble[\"n_clusters\"].value_counts().unique()\n",
    "assert _tmp.shape[0] == 1\n",
    "assert _tmp[0] == 1"
   ]
  },
  {
   "cell_type": "code",
   "execution_count": 29,
   "id": "awful-pharmacology",
   "metadata": {
    "execution": {
     "iopub.execute_input": "2021-02-25T03:42:34.709894Z",
     "iopub.status.busy": "2021-02-25T03:42:34.709538Z",
     "iopub.status.idle": "2021-02-25T03:42:34.723726Z",
     "shell.execute_reply": "2021-02-25T03:42:34.723426Z"
    },
    "papermill": {
     "duration": 0.041798,
     "end_time": "2021-02-25T03:42:34.723820",
     "exception": false,
     "start_time": "2021-02-25T03:42:34.682022",
     "status": "completed"
    },
    "tags": []
   },
   "outputs": [
    {
     "data": {
      "text/plain": [
       "count     21.000000\n",
       "mean      55.571429\n",
       "std       44.540511\n",
       "min        2.000000\n",
       "25%       25.000000\n",
       "50%       50.000000\n",
       "75%       75.000000\n",
       "max      200.000000\n",
       "Name: n_clusters, dtype: float64"
      ]
     },
     "metadata": {},
     "output_type": "display_data"
    }
   ],
   "source": [
    "ensemble_stats = ensemble[\"n_clusters\"].describe()\n",
    "display(ensemble_stats)"
   ]
  },
  {
   "cell_type": "markdown",
   "id": "complex-member",
   "metadata": {
    "papermill": {
     "duration": 0.027335,
     "end_time": "2021-02-25T03:42:34.778296",
     "exception": false,
     "start_time": "2021-02-25T03:42:34.750961",
     "status": "completed"
    },
    "tags": []
   },
   "source": [
    "## Testing"
   ]
  },
  {
   "cell_type": "code",
   "execution_count": 30,
   "id": "corporate-diamond",
   "metadata": {
    "execution": {
     "iopub.execute_input": "2021-02-25T03:42:34.833401Z",
     "iopub.status.busy": "2021-02-25T03:42:34.833046Z",
     "iopub.status.idle": "2021-02-25T03:42:34.843445Z",
     "shell.execute_reply": "2021-02-25T03:42:34.843075Z"
    },
    "papermill": {
     "duration": 0.038935,
     "end_time": "2021-02-25T03:42:34.843535",
     "exception": false,
     "start_time": "2021-02-25T03:42:34.804600",
     "status": "completed"
    },
    "tags": []
   },
   "outputs": [],
   "source": [
    "assert ensemble_stats[\"min\"] > 1"
   ]
  },
  {
   "cell_type": "code",
   "execution_count": 31,
   "id": "naked-arnold",
   "metadata": {
    "execution": {
     "iopub.execute_input": "2021-02-25T03:42:34.898651Z",
     "iopub.status.busy": "2021-02-25T03:42:34.898296Z",
     "iopub.status.idle": "2021-02-25T03:42:34.908871Z",
     "shell.execute_reply": "2021-02-25T03:42:34.908531Z"
    },
    "papermill": {
     "duration": 0.039111,
     "end_time": "2021-02-25T03:42:34.908962",
     "exception": false,
     "start_time": "2021-02-25T03:42:34.869851",
     "status": "completed"
    },
    "tags": []
   },
   "outputs": [],
   "source": [
    "assert not ensemble[\"n_clusters\"].isna().any()"
   ]
  },
  {
   "cell_type": "code",
   "execution_count": 32,
   "id": "adverse-wildlife",
   "metadata": {
    "execution": {
     "iopub.execute_input": "2021-02-25T03:42:34.964359Z",
     "iopub.status.busy": "2021-02-25T03:42:34.964007Z",
     "iopub.status.idle": "2021-02-25T03:42:34.974661Z",
     "shell.execute_reply": "2021-02-25T03:42:34.974301Z"
    },
    "papermill": {
     "duration": 0.038917,
     "end_time": "2021-02-25T03:42:34.974749",
     "exception": false,
     "start_time": "2021-02-25T03:42:34.935832",
     "status": "completed"
    },
    "tags": []
   },
   "outputs": [],
   "source": [
    "assert ensemble.shape[0] == len(CLUSTERERS)"
   ]
  },
  {
   "cell_type": "code",
   "execution_count": 33,
   "id": "falling-plant",
   "metadata": {
    "execution": {
     "iopub.execute_input": "2021-02-25T03:42:35.029633Z",
     "iopub.status.busy": "2021-02-25T03:42:35.029263Z",
     "iopub.status.idle": "2021-02-25T03:42:35.041140Z",
     "shell.execute_reply": "2021-02-25T03:42:35.041432Z"
    },
    "papermill": {
     "duration": 0.040599,
     "end_time": "2021-02-25T03:42:35.041540",
     "exception": false,
     "start_time": "2021-02-25T03:42:35.000941",
     "status": "completed"
    },
    "tags": []
   },
   "outputs": [],
   "source": [
    "# all partitions have the right size\n",
    "assert np.all(\n",
    "    [\n",
    "        part[\"partition\"].shape[0] == sim_matrix.shape[0]\n",
    "        for idx, part in ensemble.iterrows()\n",
    "    ]\n",
    ")"
   ]
  },
  {
   "cell_type": "code",
   "execution_count": 34,
   "id": "remarkable-glance",
   "metadata": {
    "execution": {
     "iopub.execute_input": "2021-02-25T03:42:35.099077Z",
     "iopub.status.busy": "2021-02-25T03:42:35.098723Z",
     "iopub.status.idle": "2021-02-25T03:42:35.111012Z",
     "shell.execute_reply": "2021-02-25T03:42:35.111307Z"
    },
    "papermill": {
     "duration": 0.043534,
     "end_time": "2021-02-25T03:42:35.111423",
     "exception": false,
     "start_time": "2021-02-25T03:42:35.067889",
     "status": "completed"
    },
    "tags": []
   },
   "outputs": [],
   "source": [
    "# no partition has negative clusters (noisy points)\n",
    "assert not np.any([(part[\"partition\"] < 0).any() for idx, part in ensemble.iterrows()])"
   ]
  },
  {
   "cell_type": "code",
   "execution_count": 35,
   "id": "spoken-photograph",
   "metadata": {
    "execution": {
     "iopub.execute_input": "2021-02-25T03:42:35.167344Z",
     "iopub.status.busy": "2021-02-25T03:42:35.166984Z",
     "iopub.status.idle": "2021-02-25T03:42:35.181812Z",
     "shell.execute_reply": "2021-02-25T03:42:35.181434Z"
    },
    "papermill": {
     "duration": 0.043395,
     "end_time": "2021-02-25T03:42:35.181903",
     "exception": false,
     "start_time": "2021-02-25T03:42:35.138508",
     "status": "completed"
    },
    "tags": []
   },
   "outputs": [
    {
     "data": {
      "text/plain": [
       "clusterer_id\n",
       "DeltaSpectralClustering #0       2\n",
       "DeltaSpectralClustering #1       5\n",
       "DeltaSpectralClustering #2      10\n",
       "DeltaSpectralClustering #3      15\n",
       "DeltaSpectralClustering #4      20\n",
       "DeltaSpectralClustering #5      25\n",
       "DeltaSpectralClustering #6      30\n",
       "DeltaSpectralClustering #7      35\n",
       "DeltaSpectralClustering #8      40\n",
       "DeltaSpectralClustering #9      45\n",
       "DeltaSpectralClustering #10     50\n",
       "DeltaSpectralClustering #11     55\n",
       "DeltaSpectralClustering #12     60\n",
       "DeltaSpectralClustering #13     65\n",
       "DeltaSpectralClustering #14     70\n",
       "DeltaSpectralClustering #15     75\n",
       "DeltaSpectralClustering #16     80\n",
       "DeltaSpectralClustering #17     90\n",
       "DeltaSpectralClustering #18     95\n",
       "DeltaSpectralClustering #19    100\n",
       "DeltaSpectralClustering #20    200\n",
       "Name: partition, dtype: int64"
      ]
     },
     "metadata": {},
     "output_type": "display_data"
    }
   ],
   "source": [
    "# check that the number of clusters in the partitions are the expected ones\n",
    "_real_k_values = ensemble[\"partition\"].apply(lambda x: np.unique(x).shape[0])\n",
    "display(_real_k_values)\n",
    "assert np.all(ensemble[\"n_clusters\"].values == _real_k_values.values)"
   ]
  },
  {
   "cell_type": "markdown",
   "id": "resistant-resident",
   "metadata": {
    "papermill": {
     "duration": 0.025995,
     "end_time": "2021-02-25T03:42:35.234749",
     "exception": false,
     "start_time": "2021-02-25T03:42:35.208754",
     "status": "completed"
    },
    "tags": []
   },
   "source": [
    "## Add clustering quality measures"
   ]
  },
  {
   "cell_type": "code",
   "execution_count": 36,
   "id": "expressed-mouth",
   "metadata": {
    "execution": {
     "iopub.execute_input": "2021-02-25T03:42:35.290611Z",
     "iopub.status.busy": "2021-02-25T03:42:35.290221Z",
     "iopub.status.idle": "2021-02-25T03:42:38.028552Z",
     "shell.execute_reply": "2021-02-25T03:42:38.028192Z"
    },
    "papermill": {
     "duration": 2.767358,
     "end_time": "2021-02-25T03:42:38.028640",
     "exception": false,
     "start_time": "2021-02-25T03:42:35.261282",
     "status": "completed"
    },
    "tags": []
   },
   "outputs": [],
   "source": [
    "ensemble = ensemble.assign(\n",
    "    si_score=ensemble[\"partition\"].apply(\n",
    "        lambda x: silhouette_score(dist_matrix, x, metric=\"precomputed\")\n",
    "    ),\n",
    ")"
   ]
  },
  {
   "cell_type": "code",
   "execution_count": 37,
   "id": "wired-creature",
   "metadata": {
    "execution": {
     "iopub.execute_input": "2021-02-25T03:42:38.084188Z",
     "iopub.status.busy": "2021-02-25T03:42:38.083787Z",
     "iopub.status.idle": "2021-02-25T03:42:38.095625Z",
     "shell.execute_reply": "2021-02-25T03:42:38.095948Z"
    },
    "papermill": {
     "duration": 0.041205,
     "end_time": "2021-02-25T03:42:38.096068",
     "exception": false,
     "start_time": "2021-02-25T03:42:38.054863",
     "status": "completed"
    },
    "tags": []
   },
   "outputs": [
    {
     "data": {
      "text/plain": [
       "(21, 5)"
      ]
     },
     "execution_count": 37,
     "metadata": {},
     "output_type": "execute_result"
    }
   ],
   "source": [
    "ensemble.shape"
   ]
  },
  {
   "cell_type": "code",
   "execution_count": 38,
   "id": "differential-milwaukee",
   "metadata": {
    "execution": {
     "iopub.execute_input": "2021-02-25T03:42:38.154582Z",
     "iopub.status.busy": "2021-02-25T03:42:38.154233Z",
     "iopub.status.idle": "2021-02-25T03:42:38.173204Z",
     "shell.execute_reply": "2021-02-25T03:42:38.172834Z"
    },
    "papermill": {
     "duration": 0.04881,
     "end_time": "2021-02-25T03:42:38.173295",
     "exception": false,
     "start_time": "2021-02-25T03:42:38.124485",
     "status": "completed"
    },
    "tags": []
   },
   "outputs": [
    {
     "data": {
      "text/html": [
       "<div>\n",
       "<style scoped>\n",
       "    .dataframe tbody tr th:only-of-type {\n",
       "        vertical-align: middle;\n",
       "    }\n",
       "\n",
       "    .dataframe tbody tr th {\n",
       "        vertical-align: top;\n",
       "    }\n",
       "\n",
       "    .dataframe thead th {\n",
       "        text-align: right;\n",
       "    }\n",
       "</style>\n",
       "<table border=\"1\" class=\"dataframe\">\n",
       "  <thead>\n",
       "    <tr style=\"text-align: right;\">\n",
       "      <th></th>\n",
       "      <th>clusterer_params</th>\n",
       "      <th>partition</th>\n",
       "      <th>n_clusters</th>\n",
       "      <th>delta</th>\n",
       "      <th>si_score</th>\n",
       "    </tr>\n",
       "    <tr>\n",
       "      <th>clusterer_id</th>\n",
       "      <th></th>\n",
       "      <th></th>\n",
       "      <th></th>\n",
       "      <th></th>\n",
       "      <th></th>\n",
       "    </tr>\n",
       "  </thead>\n",
       "  <tbody>\n",
       "    <tr>\n",
       "      <th>DeltaSpectralClustering #0</th>\n",
       "      <td>{'delta': 0.35}</td>\n",
       "      <td>[0.0, 0.0, 1.0, 0.0, 0.0, 1.0, 1.0, 1.0, 1.0, ...</td>\n",
       "      <td>2</td>\n",
       "      <td>0.35</td>\n",
       "      <td>0.342941</td>\n",
       "    </tr>\n",
       "    <tr>\n",
       "      <th>DeltaSpectralClustering #1</th>\n",
       "      <td>{'delta': 0.35}</td>\n",
       "      <td>[1.0, 1.0, 0.0, 1.0, 1.0, 0.0, 0.0, 0.0, 0.0, ...</td>\n",
       "      <td>5</td>\n",
       "      <td>0.35</td>\n",
       "      <td>0.282610</td>\n",
       "    </tr>\n",
       "    <tr>\n",
       "      <th>DeltaSpectralClustering #2</th>\n",
       "      <td>{'delta': 0.35}</td>\n",
       "      <td>[1.0, 1.0, 0.0, 1.0, 1.0, 0.0, 0.0, 0.0, 0.0, ...</td>\n",
       "      <td>10</td>\n",
       "      <td>0.35</td>\n",
       "      <td>0.293882</td>\n",
       "    </tr>\n",
       "    <tr>\n",
       "      <th>DeltaSpectralClustering #3</th>\n",
       "      <td>{'delta': 0.35}</td>\n",
       "      <td>[2.0, 2.0, 1.0, 2.0, 2.0, 1.0, 11.0, 1.0, 1.0,...</td>\n",
       "      <td>15</td>\n",
       "      <td>0.35</td>\n",
       "      <td>0.279952</td>\n",
       "    </tr>\n",
       "    <tr>\n",
       "      <th>DeltaSpectralClustering #4</th>\n",
       "      <td>{'delta': 0.35}</td>\n",
       "      <td>[9.0, 5.0, 0.0, 9.0, 9.0, 0.0, 0.0, 0.0, 0.0, ...</td>\n",
       "      <td>20</td>\n",
       "      <td>0.35</td>\n",
       "      <td>0.137538</td>\n",
       "    </tr>\n",
       "  </tbody>\n",
       "</table>\n",
       "</div>"
      ],
      "text/plain": [
       "                           clusterer_params  \\\n",
       "clusterer_id                                  \n",
       "DeltaSpectralClustering #0  {'delta': 0.35}   \n",
       "DeltaSpectralClustering #1  {'delta': 0.35}   \n",
       "DeltaSpectralClustering #2  {'delta': 0.35}   \n",
       "DeltaSpectralClustering #3  {'delta': 0.35}   \n",
       "DeltaSpectralClustering #4  {'delta': 0.35}   \n",
       "\n",
       "                                                                    partition  \\\n",
       "clusterer_id                                                                    \n",
       "DeltaSpectralClustering #0  [0.0, 0.0, 1.0, 0.0, 0.0, 1.0, 1.0, 1.0, 1.0, ...   \n",
       "DeltaSpectralClustering #1  [1.0, 1.0, 0.0, 1.0, 1.0, 0.0, 0.0, 0.0, 0.0, ...   \n",
       "DeltaSpectralClustering #2  [1.0, 1.0, 0.0, 1.0, 1.0, 0.0, 0.0, 0.0, 0.0, ...   \n",
       "DeltaSpectralClustering #3  [2.0, 2.0, 1.0, 2.0, 2.0, 1.0, 11.0, 1.0, 1.0,...   \n",
       "DeltaSpectralClustering #4  [9.0, 5.0, 0.0, 9.0, 9.0, 0.0, 0.0, 0.0, 0.0, ...   \n",
       "\n",
       "                            n_clusters delta  si_score  \n",
       "clusterer_id                                            \n",
       "DeltaSpectralClustering #0           2  0.35  0.342941  \n",
       "DeltaSpectralClustering #1           5  0.35  0.282610  \n",
       "DeltaSpectralClustering #2          10  0.35  0.293882  \n",
       "DeltaSpectralClustering #3          15  0.35  0.279952  \n",
       "DeltaSpectralClustering #4          20  0.35  0.137538  "
      ]
     },
     "execution_count": 38,
     "metadata": {},
     "output_type": "execute_result"
    }
   ],
   "source": [
    "ensemble.head()"
   ]
  },
  {
   "cell_type": "markdown",
   "id": "forty-tomorrow",
   "metadata": {
    "papermill": {
     "duration": 0.026921,
     "end_time": "2021-02-25T03:42:38.228245",
     "exception": false,
     "start_time": "2021-02-25T03:42:38.201324",
     "status": "completed"
    },
    "tags": []
   },
   "source": [
    "## Save"
   ]
  },
  {
   "cell_type": "code",
   "execution_count": 39,
   "id": "optical-consumption",
   "metadata": {
    "execution": {
     "iopub.execute_input": "2021-02-25T03:42:38.284909Z",
     "iopub.status.busy": "2021-02-25T03:42:38.284503Z",
     "iopub.status.idle": "2021-02-25T03:42:38.296102Z",
     "shell.execute_reply": "2021-02-25T03:42:38.295741Z"
    },
    "papermill": {
     "duration": 0.041009,
     "end_time": "2021-02-25T03:42:38.296189",
     "exception": false,
     "start_time": "2021-02-25T03:42:38.255180",
     "status": "completed"
    },
    "tags": []
   },
   "outputs": [],
   "source": [
    "ensemble.to_pickle(ensemble_file)"
   ]
  },
  {
   "cell_type": "markdown",
   "id": "known-heath",
   "metadata": {
    "papermill": {
     "duration": 0.027097,
     "end_time": "2021-02-25T03:42:38.351191",
     "exception": false,
     "start_time": "2021-02-25T03:42:38.324094",
     "status": "completed"
    },
    "tags": []
   },
   "source": [
    "# Cluster quality"
   ]
  },
  {
   "cell_type": "code",
   "execution_count": 40,
   "id": "existing-engine",
   "metadata": {
    "execution": {
     "iopub.execute_input": "2021-02-25T03:42:38.407981Z",
     "iopub.status.busy": "2021-02-25T03:42:38.407624Z",
     "iopub.status.idle": "2021-02-25T03:42:38.423778Z",
     "shell.execute_reply": "2021-02-25T03:42:38.423399Z"
    },
    "papermill": {
     "duration": 0.045474,
     "end_time": "2021-02-25T03:42:38.423869",
     "exception": false,
     "start_time": "2021-02-25T03:42:38.378395",
     "status": "completed"
    },
    "tags": []
   },
   "outputs": [
    {
     "data": {
      "text/html": [
       "<div>\n",
       "<style scoped>\n",
       "    .dataframe tbody tr th:only-of-type {\n",
       "        vertical-align: middle;\n",
       "    }\n",
       "\n",
       "    .dataframe tbody tr th {\n",
       "        vertical-align: top;\n",
       "    }\n",
       "\n",
       "    .dataframe thead th {\n",
       "        text-align: right;\n",
       "    }\n",
       "</style>\n",
       "<table border=\"1\" class=\"dataframe\">\n",
       "  <thead>\n",
       "    <tr style=\"text-align: right;\">\n",
       "      <th></th>\n",
       "      <th></th>\n",
       "      <th>si_score</th>\n",
       "    </tr>\n",
       "    <tr>\n",
       "      <th>n_clusters</th>\n",
       "      <th>delta</th>\n",
       "      <th></th>\n",
       "    </tr>\n",
       "  </thead>\n",
       "  <tbody>\n",
       "    <tr>\n",
       "      <th>2</th>\n",
       "      <th>0.35</th>\n",
       "      <td>0.342941</td>\n",
       "    </tr>\n",
       "    <tr>\n",
       "      <th>5</th>\n",
       "      <th>0.35</th>\n",
       "      <td>0.282610</td>\n",
       "    </tr>\n",
       "    <tr>\n",
       "      <th>10</th>\n",
       "      <th>0.35</th>\n",
       "      <td>0.293882</td>\n",
       "    </tr>\n",
       "    <tr>\n",
       "      <th>15</th>\n",
       "      <th>0.35</th>\n",
       "      <td>0.279952</td>\n",
       "    </tr>\n",
       "    <tr>\n",
       "      <th>20</th>\n",
       "      <th>0.35</th>\n",
       "      <td>0.137538</td>\n",
       "    </tr>\n",
       "    <tr>\n",
       "      <th>25</th>\n",
       "      <th>0.35</th>\n",
       "      <td>0.262214</td>\n",
       "    </tr>\n",
       "    <tr>\n",
       "      <th>30</th>\n",
       "      <th>0.35</th>\n",
       "      <td>0.161355</td>\n",
       "    </tr>\n",
       "    <tr>\n",
       "      <th>35</th>\n",
       "      <th>0.35</th>\n",
       "      <td>0.171982</td>\n",
       "    </tr>\n",
       "    <tr>\n",
       "      <th>40</th>\n",
       "      <th>0.35</th>\n",
       "      <td>0.149182</td>\n",
       "    </tr>\n",
       "    <tr>\n",
       "      <th>45</th>\n",
       "      <th>0.35</th>\n",
       "      <td>0.139421</td>\n",
       "    </tr>\n",
       "    <tr>\n",
       "      <th>50</th>\n",
       "      <th>0.35</th>\n",
       "      <td>0.106884</td>\n",
       "    </tr>\n",
       "    <tr>\n",
       "      <th>55</th>\n",
       "      <th>0.35</th>\n",
       "      <td>0.165926</td>\n",
       "    </tr>\n",
       "    <tr>\n",
       "      <th>60</th>\n",
       "      <th>0.35</th>\n",
       "      <td>0.126090</td>\n",
       "    </tr>\n",
       "    <tr>\n",
       "      <th>65</th>\n",
       "      <th>0.35</th>\n",
       "      <td>0.103729</td>\n",
       "    </tr>\n",
       "    <tr>\n",
       "      <th>70</th>\n",
       "      <th>0.35</th>\n",
       "      <td>0.070101</td>\n",
       "    </tr>\n",
       "    <tr>\n",
       "      <th>75</th>\n",
       "      <th>0.35</th>\n",
       "      <td>0.203695</td>\n",
       "    </tr>\n",
       "    <tr>\n",
       "      <th>80</th>\n",
       "      <th>0.35</th>\n",
       "      <td>0.084512</td>\n",
       "    </tr>\n",
       "    <tr>\n",
       "      <th>90</th>\n",
       "      <th>0.35</th>\n",
       "      <td>0.111565</td>\n",
       "    </tr>\n",
       "    <tr>\n",
       "      <th>95</th>\n",
       "      <th>0.35</th>\n",
       "      <td>0.076848</td>\n",
       "    </tr>\n",
       "    <tr>\n",
       "      <th>100</th>\n",
       "      <th>0.35</th>\n",
       "      <td>0.042785</td>\n",
       "    </tr>\n",
       "    <tr>\n",
       "      <th>200</th>\n",
       "      <th>0.35</th>\n",
       "      <td>0.033628</td>\n",
       "    </tr>\n",
       "  </tbody>\n",
       "</table>\n",
       "</div>"
      ],
      "text/plain": [
       "                  si_score\n",
       "n_clusters delta          \n",
       "2          0.35   0.342941\n",
       "5          0.35   0.282610\n",
       "10         0.35   0.293882\n",
       "15         0.35   0.279952\n",
       "20         0.35   0.137538\n",
       "25         0.35   0.262214\n",
       "30         0.35   0.161355\n",
       "35         0.35   0.171982\n",
       "40         0.35   0.149182\n",
       "45         0.35   0.139421\n",
       "50         0.35   0.106884\n",
       "55         0.35   0.165926\n",
       "60         0.35   0.126090\n",
       "65         0.35   0.103729\n",
       "70         0.35   0.070101\n",
       "75         0.35   0.203695\n",
       "80         0.35   0.084512\n",
       "90         0.35   0.111565\n",
       "95         0.35   0.076848\n",
       "100        0.35   0.042785\n",
       "200        0.35   0.033628"
      ]
     },
     "metadata": {},
     "output_type": "display_data"
    }
   ],
   "source": [
    "with pd.option_context(\"display.max_rows\", None, \"display.max_columns\", None):\n",
    "    _df = ensemble.groupby([\"n_clusters\", \"delta\"]).mean()\n",
    "    display(_df)"
   ]
  },
  {
   "cell_type": "code",
   "execution_count": 41,
   "id": "congressional-robert",
   "metadata": {
    "execution": {
     "iopub.execute_input": "2021-02-25T03:42:38.484328Z",
     "iopub.status.busy": "2021-02-25T03:42:38.483968Z",
     "iopub.status.idle": "2021-02-25T03:42:39.060147Z",
     "shell.execute_reply": "2021-02-25T03:42:39.059779Z"
    },
    "papermill": {
     "duration": 0.607827,
     "end_time": "2021-02-25T03:42:39.060237",
     "exception": false,
     "start_time": "2021-02-25T03:42:38.452410",
     "status": "completed"
    },
    "tags": []
   },
   "outputs": [
    {
     "data": {
      "image/png": "[encoded data removed]",
      "text/plain": [
       "<Figure size 1008x432 with 1 Axes>"
      ]
     },
     "metadata": {},
     "output_type": "display_data"
    }
   ],
   "source": [
    "with sns.plotting_context(\"talk\", font_scale=0.75), sns.axes_style(\n",
    "    \"whitegrid\", {\"grid.linestyle\": \"--\"}\n",
    "):\n",
    "    fig = plt.figure(figsize=(14, 6))\n",
    "    ax = sns.pointplot(data=ensemble, x=\"n_clusters\", y=\"si_score\", hue=\"delta\")\n",
    "    ax.set_ylabel(\"Silhouette index\\n(higher is better)\")\n",
    "    ax.set_xlabel(\"Number of clusters ($k$)\")\n",
    "    ax.set_xticklabels(ax.get_xticklabels(), rotation=45)\n",
    "    plt.grid(True)\n",
    "    plt.tight_layout()"
   ]
  },
  {
   "cell_type": "code",
   "execution_count": null,
   "id": "pretty-mercy",
   "metadata": {
    "papermill": {
     "duration": 0.031558,
     "end_time": "2021-02-25T03:42:39.122224",
     "exception": false,
     "start_time": "2021-02-25T03:42:39.090666",
     "status": "completed"
    },
    "tags": []
   },
   "outputs": [],
   "source": []
  }
 ],
 "metadata": {
  "jupytext": {
   "cell_metadata_filter": "all,-execution,-papermill,-trusted",
   "text_representation": {
    "extension": ".py",
    "format_name": "percent",
    "format_version": "1.3",
    "jupytext_version": "1.11.5"
   }
  },
  "kernelspec": {
   "display_name": "Python 3 (ipykernel)",
   "language": "python",
   "name": "python3"
  },
  "language_info": {
   "codemirror_mode": {
    "name": "ipython",
    "version": 3
   },
   "file_extension": ".py",
   "mimetype": "text/x-python",
   "name": "python",
   "nbconvert_exporter": "python",
   "pygments_lexer": "ipython3",
   "version": "3.9.6"
  },
  "papermill": {
   "default_parameters": {},
   "duration": 213.038567,
   "end_time": "2021-02-25T03:42:39.557469",
   "environment_variables": {},
   "exception": null,
   "input_path": "05_cluster_analysis/05_02-spectral_clustering-pearson.ipynb",
   "output_path": "05_cluster_analysis/05_02-spectral_clustering-pearson.run.ipynb",
   "parameters": {},
   "start_time": "2021-02-25T03:39:06.518902",
   "version": "2.2.2"
  },
  "toc-autonumbering": true,
  "toc-showcode": false,
  "toc-showmarkdowntxt": false,
  "toc-showtags": false
 },
 "nbformat": 4,
 "nbformat_minor": 5
}
